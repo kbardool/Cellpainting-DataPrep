{
 "cells": [
  {
   "cell_type": "markdown",
   "metadata": {
    "slideshow": {
     "slide_type": ""
    },
    "tags": []
   },
   "source": [
    "# XGBoost - WithDask"
   ]
  },
  {
   "cell_type": "markdown",
   "metadata": {
    "slideshow": {
     "slide_type": ""
    },
    "tags": []
   },
   "source": [
    "**Using Optuna for hyper-parameter search  to predict TPSA from Pharmacophores**"
   ]
  },
  {
   "cell_type": "code",
   "execution_count": 1,
   "metadata": {
    "ExecuteTime": {
     "end_time": "2023-12-21T20:50:25.298115Z",
     "start_time": "2023-12-21T20:50:24.855884Z"
    },
    "execution": {
     "iopub.execute_input": "2024-01-25T10:10:39.520936Z",
     "iopub.status.busy": "2024-01-25T10:10:39.520670Z",
     "iopub.status.idle": "2024-01-25T10:10:39.945118Z",
     "shell.execute_reply": "2024-01-25T10:10:39.943717Z",
     "shell.execute_reply.started": "2024-01-25T10:10:39.520915Z"
    }
   },
   "outputs": [
    {
     "data": {
      "text/html": [
       "<style>.container { width:98% !important; }</style>"
      ],
      "text/plain": [
       "<IPython.core.display.HTML object>"
      ]
     },
     "metadata": {},
     "output_type": "display_data"
    }
   ],
   "source": [
    "from IPython.display import display, HTML\n",
    "display(HTML(\"<style>.container { width:98% !important; }</style>\"))\n",
    "%load_ext autoreload  \n",
    "%autoreload 2\n",
    "from IPython.core.interactiveshell import InteractiveShell\n",
    "InteractiveShell.ast_node_interactivity = \"all\"\n",
    "%matplotlib inline"
   ]
  },
  {
   "cell_type": "code",
   "execution_count": 2,
   "metadata": {
    "ExecuteTime": {
     "end_time": "2023-12-21T20:50:28.460258Z",
     "start_time": "2023-12-21T20:50:25.868966Z"
    },
    "execution": {
     "iopub.execute_input": "2024-01-25T10:10:39.948532Z",
     "iopub.status.busy": "2024-01-25T10:10:39.947695Z",
     "iopub.status.idle": "2024-01-25T10:10:41.620693Z",
     "shell.execute_reply": "2024-01-25T10:10:41.619813Z",
     "shell.execute_reply.started": "2024-01-25T10:10:39.948510Z"
    }
   },
   "outputs": [
    {
     "name": "stderr",
     "output_type": "stream",
     "text": [
      "Failed to find the pandas get_adjustment() function to patch\n",
      "Failed to patch pandas - PandasTools will have limited functionality\n"
     ]
    }
   ],
   "source": [
    "# Models\n",
    "import os, sys\n",
    "import numpy as np\n",
    "import pandas as pd\n",
    "import numpy as np\n",
    "import math\n",
    "import pickle\n",
    "import itertools\n",
    "import copy \n",
    "import joblib\n",
    "import scipy.stats as sps \n",
    "import matplotlib.pyplot as plt\n",
    "\n",
    "from collections.abc import Iterator\n",
    "from datetime import datetime\n",
    "from pprint import PrettyPrinter\n",
    "\n",
    "from utils import *\n",
    "from utils_ml import model_selection\n",
    "# from multiprocessing import Pool, process\n",
    "\n",
    "pp = PrettyPrinter(indent=4)\n",
    "np.set_printoptions(edgeitems=3, infstr='inf', linewidth=150, nanstr='nan')\n",
    "pd.options.display.width = 170"
   ]
  },
  {
   "cell_type": "code",
   "execution_count": null,
   "metadata": {},
   "outputs": [],
   "source": []
  },
  {
   "cell_type": "markdown",
   "metadata": {},
   "source": [
    "#### xgboost and dask imports "
   ]
  },
  {
   "cell_type": "code",
   "execution_count": 3,
   "metadata": {
    "ExecuteTime": {
     "end_time": "2023-12-21T20:50:31.139023Z",
     "start_time": "2023-12-21T20:50:30.891155Z"
    },
    "execution": {
     "iopub.execute_input": "2024-01-25T10:10:41.621883Z",
     "iopub.status.busy": "2024-01-25T10:10:41.621565Z",
     "iopub.status.idle": "2024-01-25T10:10:42.637209Z",
     "shell.execute_reply": "2024-01-25T10:10:42.636271Z",
     "shell.execute_reply.started": "2024-01-25T10:10:41.621863Z"
    }
   },
   "outputs": [
    {
     "name": "stderr",
     "output_type": "stream",
     "text": [
      "/home/kevin/miniforge3/envs/cp/lib/python3.11/site-packages/dask/dataframe/_pyarrow_compat.py:17: FutureWarning: Minimal version of pyarrow will soon be increased to 14.0.1. You are using 11.0.0. Please consider upgrading.\n",
      "  warnings.warn(\n"
     ]
    }
   ],
   "source": [
    "import joblib\n",
    "# from dask_cuda import LocalCUDACluster\n",
    "# from sklearn.model_selection import GridSearchCV\n",
    "import optuna\n",
    "\n",
    "import xgboost as xgb\n",
    "from xgboost import XGBClassifier, XGBRegressor\n",
    "\n",
    "import dask\n",
    "import dask.array as da\n",
    "import dask.dataframe as dd\n",
    "from dask import delayed\n",
    "from dask.distributed import Client\n",
    "from dask.distributed import LocalCluster\n",
    "import dask_ml.model_selection as dcv\n",
    "from dask_ml.model_selection import train_test_split\n",
    "from dask_ml.model_selection import GridSearchCV, IncrementalSearchCV, HyperbandSearchCV\n",
    "from dask_ml.metrics import mean_squared_error, r2_score, mean_squared_log_error\n",
    "import sklearn.metrics as skm"
   ]
  },
  {
   "cell_type": "code",
   "execution_count": 4,
   "metadata": {
    "ExecuteTime": {
     "end_time": "2023-12-21T20:50:28.476862Z",
     "start_time": "2023-12-21T20:50:28.461907Z"
    },
    "execution": {
     "iopub.execute_input": "2024-01-25T10:10:42.639214Z",
     "iopub.status.busy": "2024-01-25T10:10:42.638873Z",
     "iopub.status.idle": "2024-01-25T10:10:42.666601Z",
     "shell.execute_reply": "2024-01-25T10:10:42.665628Z",
     "shell.execute_reply.started": "2024-01-25T10:10:42.639177Z"
    }
   },
   "outputs": [],
   "source": [
    "os.environ[\"WANDB_NOTEBOOK_NAME\"] = \"Adashare_Train.ipynb\"\n",
    "os.environ[\"CUDA_LAUNCH_BLOCKING\"] = \"1\"\n",
    "os.environ[\"CUDA_VISIBLE_DEVICES\"] = \"0\""
   ]
  },
  {
   "cell_type": "code",
   "execution_count": 5,
   "metadata": {
    "execution": {
     "iopub.execute_input": "2024-01-25T10:10:42.667468Z",
     "iopub.status.busy": "2024-01-25T10:10:42.667278Z",
     "iopub.status.idle": "2024-01-25T10:10:42.698177Z",
     "shell.execute_reply": "2024-01-25T10:10:42.697188Z",
     "shell.execute_reply.started": "2024-01-25T10:10:42.667444Z"
    }
   },
   "outputs": [],
   "source": [
    "import warnings\n",
    "warnings.filterwarnings('ignore')"
   ]
  },
  {
   "cell_type": "code",
   "execution_count": 6,
   "metadata": {
    "execution": {
     "iopub.execute_input": "2024-01-25T10:10:42.699271Z",
     "iopub.status.busy": "2024-01-25T10:10:42.699086Z",
     "iopub.status.idle": "2024-01-25T10:10:42.733064Z",
     "shell.execute_reply": "2024-01-25T10:10:42.732112Z",
     "shell.execute_reply.started": "2024-01-25T10:10:42.699254Z"
    }
   },
   "outputs": [
    {
     "name": "stdout",
     "output_type": "stream",
     "text": [
      "01/25/24-11:16:40.612945\n",
      "2024-16-25 11:01:40.613212\n"
     ]
    }
   ],
   "source": [
    "# time.strftime(' %x%X')\n",
    "# datetime.now().strftime('%X.%f')\n",
    "# time.strftime('%X %x %Z')\n",
    "print(datetime.now().strftime('%D-%X.%f'))\n",
    "time_fmt = '%Y-%M-%d %H:%m:%S.%f'\n",
    "print(datetime.now().strftime(time_fmt))"
   ]
  },
  {
   "cell_type": "code",
   "execution_count": 7,
   "metadata": {
    "execution": {
     "iopub.execute_input": "2024-01-25T10:10:42.734781Z",
     "iopub.status.busy": "2024-01-25T10:10:42.734112Z",
     "iopub.status.idle": "2024-01-25T10:10:42.794692Z",
     "shell.execute_reply": "2024-01-25T10:10:42.793778Z",
     "shell.execute_reply.started": "2024-01-25T10:10:42.734750Z"
    }
   },
   "outputs": [
    {
     "name": "stderr",
     "output_type": "stream",
     "text": [
      "2024-01-25 11:16:43,571 - INFO: -  1/7- engine connected\n",
      "2024-01-25 11:16:43,572 - WARNING: -  1/7- engine connected\n",
      "2024-01-25 11:16:43,573 - ERROR: -  1/7- engine connected\n",
      "2024-01-25 11:16:43,574 - CRITICAL: -  1/7- engine connected\n"
     ]
    }
   ],
   "source": [
    "import logging\n",
    "logLevel = os.environ.get('LOG_LEVEL', 'INFO').upper()\n",
    "FORMAT = '%(asctime)s - %(levelname)s: - %(message)s'\n",
    "logging.basicConfig(level=\"INFO\", format= FORMAT)\n",
    "logging.getLogger(\"imported_module\").setLevel(logging.CRITICAL)\n",
    "logging.info(f\" 1/7- engine connected\")\n",
    "logging.warning(f\" 1/7- engine connected\")\n",
    "logging.error(f\" 1/7- engine connected\")\n",
    "logging.critical(f\" 1/7- engine connected\")"
   ]
  },
  {
   "cell_type": "code",
   "execution_count": 8,
   "metadata": {
    "execution": {
     "iopub.execute_input": "2024-01-25T10:10:42.795627Z",
     "iopub.status.busy": "2024-01-25T10:10:42.795447Z",
     "iopub.status.idle": "2024-01-25T10:10:42.825796Z",
     "shell.execute_reply": "2024-01-25T10:10:42.824904Z",
     "shell.execute_reply.started": "2024-01-25T10:10:42.795609Z"
    }
   },
   "outputs": [
    {
     "name": "stdout",
     "output_type": "stream",
     "text": [
      "0 10 20 30 30 40 50 50\n"
     ]
    },
    {
     "data": {
      "text/plain": [
       "'2.0.3'"
      ]
     },
     "execution_count": 8,
     "metadata": {},
     "output_type": "execute_result"
    }
   ],
   "source": [
    "print(logging.NOTSET, logging.DEBUG,  logging.INFO, logging.WARN, logging.WARNING, logging.ERROR, logging.CRITICAL,  logging.FATAL)\n",
    "xgb.__version__"
   ]
  },
  {
   "cell_type": "markdown",
   "metadata": {},
   "source": [
    "#### Datasets"
   ]
  },
  {
   "cell_type": "code",
   "execution_count": 9,
   "metadata": {
    "ExecuteTime": {
     "end_time": "2023-12-21T20:50:35.620802Z",
     "start_time": "2023-12-21T20:50:35.605234Z"
    },
    "execution": {
     "iopub.execute_input": "2024-01-25T10:10:42.826714Z",
     "iopub.status.busy": "2024-01-25T10:10:42.826539Z",
     "iopub.status.idle": "2024-01-25T10:10:42.883429Z",
     "shell.execute_reply": "2024-01-25T10:10:42.882505Z",
     "shell.execute_reply.started": "2024-01-25T10:10:42.826696Z"
    }
   },
   "outputs": [
    {
     "name": "stdout",
     "output_type": "stream",
     "text": [
      "\n",
      " Compound Extended Metadata 2 SampleFile  : ./output_11102023/compound_extended_metadata_2samples.csv\n",
      " Compound Profiles 2 Samples File CSV     : ./output_11102023/compound_profiles_2samples.csv\n",
      " \n",
      " featureSelectionFile                     : ./metadata/feature_selection_columns.pkl\n",
      " training metrics                         : ./output_11102023/training_metrics.pkl\n"
     ]
    }
   ],
   "source": [
    "prefix = '' ### Target-2' , 'MOA'\n",
    "input_path =\"./input/\"\n",
    "output_path =\"./output_11102023/\"\n",
    "prefix_lc = prefix.lower().replace('-', '_')\n",
    "\n",
    "CompoundExtendedMetadata2SampleFile = f\"{output_path}{prefix_lc}compound_extended_metadata_2samples.csv\"\n",
    "CompoundProfiles2SampleFileCSV      = f\"{output_path}{prefix_lc}compound_profiles_2samples.csv\"\n",
    "CompoundExtendedMetadataSampleFile  = f\"{output_path}{prefix_lc}compound_extended_metadata_samples.csv\"\n",
    "featureSelectionFile                = f\"./metadata/feature_selection_columns.pkl\"\n",
    "trainingMetrics                     = f\"{output_path}{prefix_lc}training_metrics.pkl\"\n",
    "print()\n",
    "print(f\" Compound Extended Metadata 2 SampleFile  : {CompoundExtendedMetadata2SampleFile }\")\n",
    "print(f\" Compound Profiles 2 Samples File CSV     : {CompoundProfiles2SampleFileCSV}\")\n",
    "print(f\" \")\n",
    "print(f\" featureSelectionFile                     : {featureSelectionFile}\")\n",
    "print(f\" training metrics                         : {trainingMetrics}\")"
   ]
  },
  {
   "cell_type": "markdown",
   "metadata": {},
   "source": [
    "#### Helper functions"
   ]
  },
  {
   "cell_type": "code",
   "execution_count": 10,
   "metadata": {
    "ExecuteTime": {
     "end_time": "2023-12-21T20:50:32.339732Z",
     "start_time": "2023-12-21T20:50:32.323764Z"
    },
    "execution": {
     "iopub.execute_input": "2024-01-25T10:10:42.885756Z",
     "iopub.status.busy": "2024-01-25T10:10:42.885502Z",
     "iopub.status.idle": "2024-01-25T10:10:42.981855Z",
     "shell.execute_reply": "2024-01-25T10:10:42.980967Z",
     "shell.execute_reply.started": "2024-01-25T10:10:42.885738Z"
    }
   },
   "outputs": [],
   "source": [
    "def result_model_selection(results, name):\n",
    "    df_results = pd.DataFrame({'model'     : [name] * len(results.cv_results_['params']),\n",
    "                               'params'    : results.cv_results_['params'],\n",
    "                               'mean score': results.cv_results_['mean_test_score'],\n",
    "                               'std score' : results.cv_results_['std_test_score'],\n",
    "                               'rank'      : results.cv_results_['rank_test_score']\n",
    "                              })\n",
    "    return df_results"
   ]
  },
  {
   "cell_type": "code",
   "execution_count": 11,
   "metadata": {
    "execution": {
     "iopub.execute_input": "2024-01-25T10:10:42.982641Z",
     "iopub.status.busy": "2024-01-25T10:10:42.982471Z",
     "iopub.status.idle": "2024-01-25T10:10:43.007825Z",
     "shell.execute_reply": "2024-01-25T10:10:43.006989Z",
     "shell.execute_reply.started": "2024-01-25T10:10:42.982624Z"
    }
   },
   "outputs": [],
   "source": [
    "def split_Xy(input, y_col = [\"Metadata_log10TPSA\"] ):\n",
    "    if not isinstance(y_col,list):\n",
    "        y_col = list(y_col)\n",
    "    y_output = input[y_col]\n",
    "    X_output = input.drop(columns=y_col)        \n",
    "    return X_output, y_output"
   ]
  },
  {
   "cell_type": "code",
   "execution_count": 12,
   "metadata": {
    "execution": {
     "iopub.execute_input": "2024-01-25T10:10:43.008663Z",
     "iopub.status.busy": "2024-01-25T10:10:43.008492Z",
     "iopub.status.idle": "2024-01-25T10:10:43.041622Z",
     "shell.execute_reply": "2024-01-25T10:10:43.040712Z",
     "shell.execute_reply.started": "2024-01-25T10:10:43.008646Z"
    }
   },
   "outputs": [],
   "source": [
    "def make_cv_splits(df_profiles, n_folds: int = 5,) -> Iterator[tuple[dd.DataFrame, dd.DataFrame]]:\n",
    "    frac = [1 / n_folds] * n_folds\n",
    "    # print(frac, n_folds)\n",
    "    splits = df_profiles.random_split(frac, shuffle=True)\n",
    "    # print(type(splits[i]))\n",
    "    # print(f\"splits: {type(splits)} \")\n",
    "    \n",
    "    for i in range(n_folds):\n",
    "        print(f\"Training/Test split #{i}\")\n",
    "        train = [splits[j] for j in range(n_folds) if j != i]\n",
    "        train = dd.concat(train)\n",
    "        test = splits[i] \n",
    "        X_train, y_train = split_Xy(train, y_columns)\n",
    "        X_test , y_test  = split_Xy(test, y_columns)\n",
    "        yield (X_train, y_train), (X_test, y_test)\n",
    "        # yield train, test"
   ]
  },
  {
   "cell_type": "code",
   "execution_count": 13,
   "metadata": {
    "execution": {
     "iopub.execute_input": "2024-01-25T10:10:43.042414Z",
     "iopub.status.busy": "2024-01-25T10:10:43.042245Z",
     "iopub.status.idle": "2024-01-25T10:10:43.101760Z",
     "shell.execute_reply": "2024-01-25T10:10:43.100752Z",
     "shell.execute_reply.started": "2024-01-25T10:10:43.042398Z"
    }
   },
   "outputs": [],
   "source": [
    "def read_cell_profiles_old(profile_file, rows = None, skiprows = None):\n",
    "    print(f\" Reading cell profiles file :  {profile_file}\")\n",
    "    df_ps = dd.read_csv(profile_file, usecols=Xy_columns, dtype= Xy_columns_dtype)   \n",
    "    print(f\" Number of partitions:  {df_ps.npartitions}   partition(1) shape: {df_ps.get_partition(0).shape}\")\n",
    "    \n",
    "    if skiprows is not None:\n",
    "        print(f\" skipping {skiprows} rows\")\n",
    "        df_ps = df_ps[skiprows:]\n",
    "        \n",
    "    if rows is not None:\n",
    "        print(f\" limiting output to {rows} rows\")\n",
    "        df_ps = df_ps.head(npartitions = df_ps.npartitions, n=rows)        \n",
    "        df_ps = dd.from_pandas(df_ps, npartitions = 100)       \n",
    "        rows_str = f\"{rows}\"\n",
    "    else:\n",
    "        rows_str = \"ALL\"\n",
    "    print()    \n",
    "    print(f\" Reading {rows_str} rows into {type(df_ps)} shape: {df_ps.shape }\")\n",
    "    print(f\" Number of partitions:  {df_ps.npartitions}   partition(1) shape: {df_ps.get_partition(0).compute().shape}\")    \n",
    "    return df_ps"
   ]
  },
  {
   "cell_type": "code",
   "execution_count": 14,
   "metadata": {
    "execution": {
     "iopub.execute_input": "2024-01-25T10:10:43.103269Z",
     "iopub.status.busy": "2024-01-25T10:10:43.102971Z",
     "iopub.status.idle": "2024-01-25T10:10:43.127908Z",
     "shell.execute_reply": "2024-01-25T10:10:43.127000Z",
     "shell.execute_reply.started": "2024-01-25T10:10:43.103241Z"
    },
    "scrolled": true
   },
   "outputs": [],
   "source": [
    "def read_cell_profiles(profile_file, rows = None):\n",
    "    print(f\" Reading cell profiles file :  {profile_file}\")\n",
    "    df_ps = dd.read_csv(profile_file, usecols=Xy_columns, dtype= Xy_columns_dtype)   \n",
    "    print(f\" Number of partitions:  {df_ps.npartitions}   partition(1) shape: {df_ps.get_partition(0).shape}\")\n",
    "    \n",
    "    # if skiprows is not None:\n",
    "    #     print(f\" Skipping {skiprows} rows\")\n",
    "    #     df_ps = df_ps.loc[skiprows:]\n",
    "        \n",
    "    if rows is not None:\n",
    "        print(f\" Limiting output to {rows} rows\")\n",
    "        df_ps = df_ps.head(npartitions = df_ps.npartitions, n=rows)        \n",
    "        df_ps = dd.from_pandas(df_ps, npartitions = 100)       \n",
    "        rows_str = f\"{rows}\"\n",
    "    else:\n",
    "        rows_str = \"ALL\"\n",
    "    \n",
    "    print()    \n",
    "    print(f\" Reading {rows} rows into {type(df_ps)} shape: {df_ps.shape }\")\n",
    "    print(f\" Number of partitions:  {df_ps.npartitions}   \" )\n",
    "    return df_ps"
   ]
  },
  {
   "cell_type": "code",
   "execution_count": 15,
   "metadata": {
    "execution": {
     "iopub.execute_input": "2024-01-25T10:10:43.128857Z",
     "iopub.status.busy": "2024-01-25T10:10:43.128687Z",
     "iopub.status.idle": "2024-01-25T10:10:43.185580Z",
     "shell.execute_reply": "2024-01-25T10:10:43.184633Z",
     "shell.execute_reply.started": "2024-01-25T10:10:43.128840Z"
    }
   },
   "outputs": [],
   "source": [
    "def get_dd_subset(df_ps, skiprows = 0, nrows=10, ss = None, verbose = False):\n",
    "    if ss is None: \n",
    "        ss = df_ps.map_partitions(len).compute()\n",
    "    ss_cumsum = ss.cumsum()\n",
    "    ss_floorsum = ss.cumsum() - ss\n",
    "    last_partition = ss_cumsum.index[-1]  \n",
    "    _start_row = skiprows\n",
    "    _end_row   = _start_row + nrows \n",
    "\n",
    "    if verbose:\n",
    "        print(f\" Skip {skiprows} rows then read {nrows} rows : from  row# {_start_row} to {_end_row}\")\n",
    "    assert skiprows < ss_cumsum[last_partition], f\"Row skip ({skiprows}) is equal or larger than dataframe ({ss_cumsum[last_partition]})\" \n",
    "    \n",
    "    _start_row = _start_row if skiprows >0 else -1 \n",
    "    st_idx = ss_floorsum[ss_floorsum.gt(_start_row)].index\n",
    "    if verbose:\n",
    "        print(f\" st idx : {st_idx}\")\n",
    " \n",
    "    if len(st_idx) == 0 :\n",
    "        print(f\" No partitions satisfy skiprows = {skiprows}. Last partition begins at row {ss_floorsum.tail(1).item()}\")\n",
    "        return -1,-1\n",
    "     \n",
    "    st = st_idx.min() if len(st_idx) > 0 else 0       \n",
    "    counter = 0\n",
    "    en = st\n",
    " \n",
    "    while counter < nrows  and en <= last_partition:\n",
    "        counter += ss[en]\n",
    "        print(f\" Partition {en} (starting row: {ss_floorsum[en]}   ending row: {ss_cumsum[en]})  rows: {ss[en]}   count: {counter}\")\n",
    "        en +=1\n",
    "    \n",
    "    if verbose:\n",
    "        print()\n",
    "        print(f\" Partition range: [{st}   {en}] ---- total rows included {ss[st:en].sum()}\")\n",
    " \n",
    "    en = en + 1 if en == st else en\n",
    "    \n",
    "    if verbose:\n",
    "        print(f\" ***** output (st,en) is ({st} , {en})\")\n",
    "        for i in range(st, en):\n",
    "            print(f\" {ss_floorsum[i]}   {ss_cumsum[i]}\")\n",
    "        print(\"\\n\\n\")\n",
    "    return st, en "
   ]
  },
  {
   "cell_type": "code",
   "execution_count": 16,
   "metadata": {
    "execution": {
     "iopub.execute_input": "2024-01-25T10:10:43.186982Z",
     "iopub.status.busy": "2024-01-25T10:10:43.186705Z",
     "iopub.status.idle": "2024-01-25T10:10:43.211974Z",
     "shell.execute_reply": "2024-01-25T10:10:43.210901Z",
     "shell.execute_reply.started": "2024-01-25T10:10:43.186964Z"
    }
   },
   "outputs": [],
   "source": [
    "# xgb_grid_parameters = {\n",
    "# 'learning_rate': [0.1, 0.01],                  # 'max_depth': [12, 10 ,8],                           # 'max_depth': [15,10,5],   # 'min_child_weight':[5,3,2,1],    # 'gamma':[1, 2.5, 3, 3.5, 4, 5, 10],  \n",
    "# 'subsample':    [i/10.0 for i in range(6,11)], # 'colsample_bytree': [i/10.0 for i in range(5,11)],  # 'colsample_bytree':[0.5], # 'n_estimators': [1250, 1000, 750, 500, 200]}\n",
    "# xgb_reg.set_params(**xgb_grid_parameters)\n",
    "\n",
    "def propose_parameters(trial):\n",
    "    _params = {\n",
    "\n",
    "        \"verbosity\"          : 0,\n",
    "        \"objective\"          :  \"reg:squarederror\",\n",
    "        \"eval_metric\"        :  \"rmse\",\n",
    "        \"booster\"            :  \"gbtree\",   ## trial.suggest_categorical(\"booster\", [\"gbtree\", \"gblinear\", \"dart\"]),\n",
    "        \n",
    "        # \"n_estimators\"     : trial.suggest_int(\"n_estimators\", 75, 125),\n",
    "        \"tree_method\"        : \"auto\",\n",
    "        \n",
    "        ## eta/learning_rate default =0.3 Step size shrinkage used in update to prevents overfitting. \n",
    "        ## After each boosting step, we can directly get the weights of new features, and eta shrinks the feature weights to make the boosting process more conservative.\n",
    "        \"learning_rate\"    : trial.suggest_float(\"learning_rate\", 0.01, 10, log=True, step = None),\n",
    "\n",
    "        \n",
    "        ## GAMMA / min_split_loss: Default=0. Minimum loss reduction required to make a further partition on a leaf node of the tree. \n",
    "        ##                    The larger gamma is, the more conservative the algorithm will be.\n",
    "        ##                    range: [0, Inf) \n",
    "        \"min_split_loss\"   : trial.suggest_float(\"min_split_loss\", 0, 10),\n",
    "\n",
    "        ## min_child_weight:  [default=1] Minimum sum of instance weight (hessian) needed in a child. \n",
    "        ##                    If the tree partition step results in a leaf node with the sum of instance weight less than min_child_weight, \n",
    "        ##                    then the building process will give up further partitioning. In linear regression task, this simply corresponds\n",
    "        ##                    to minimum number of instances needed to be in each node. \n",
    "        ##                    The larger min_child_weight is, the more conservative the algorithm will be.\n",
    "        ##                    range: [0,∞]        \n",
    "        \"min_child_weight\"   : trial.suggest_float(\"min_child_weight\", 0, 10),\n",
    "\n",
    "        ## max_delta_step:    [default=0] Maximum delta step we allow each leaf output to be. \n",
    "        ##                    If the value is set to 0, it means there is no constraint. If it is set to a positive value, it can help making \n",
    "        ##                    the update step more conservative. Usually this parameter is not needed, but it might help in logistic regression \n",
    "        ##                    when class is extremely imbalanced. Set it to value of 1-10 might help control the update.\n",
    "        ##                    range: [0,∞]        \n",
    "        \"max_delta_step\"   : trial.suggest_float(\"max_delta_step\", 0, 10),\n",
    "\n",
    "        ## subsample [default=1]: Subsample ratio of the training instances. Setting it to 0.5 means that XGBoost would randomly sample half\n",
    "        ##                       of the training data prior to growing trees. and this will prevent overfitting. Subsampling will occur once \n",
    "        ##                      in every boosting iteration.\n",
    "        ##                      range: (0,1]\n",
    "        \"subsample\"         : trial.suggest_float(\"subsample\", 0.4, 1.0),\n",
    "\n",
    "        ## sampling_method:  [default= uniform] The method to use to sample the training instances.\n",
    "        ##                   uniform: each training instance has an equal probability of being selected. Typically set subsample >= 0.5 for good results.\n",
    "        ##                   gradient_based: the selection probability for each training instance is proportional to the regularized absolute value of gradients \n",
    "        ##                   (more specifically, SQRT(g^2 + lambda*h^2). subsample may be set to as low as 0.1 without loss of model accuracy. \n",
    "        ##                   Note that this sampling method is only supported when tree_method is set to hist and the device is cuda; \n",
    "        ##                   other tree methods only support uniform sampling.        \n",
    "\n",
    "        \n",
    "        ## All colsample_by* parameters have a range of (0, 1], the default value of 1\n",
    "        ## and specify the fraction of columns to be subsampled.\n",
    "        \n",
    "        ## colsample_bytree;  [default=1] is the subsample ratio of columns when constructing each tree. \n",
    "        ##                    Subsampling occurs once for every tree constructed.\n",
    "        \"colsample_bytree\" : 1.0, ## trial.suggest_float(\"colsample_bytree\", 0.5, 1),\n",
    "\n",
    "        ## colsample_bylevel: [default=1] is the subsample ratio of columns for each level. Subsampling occurs once for every new depth level reached in a tree. \n",
    "        ##                    Columns are subsampled from the set of columns chosen for the current tree.\n",
    "        \"colsample_bylevel\": trial.suggest_float(\"colsample_bylevel\", 0.5, 1),\n",
    "        \n",
    "        ## colsample_bynode:  [default=1] the subsample ratio of columns for each node (split). Subsampling occurs once every time a new split is evaluated. \n",
    "        ##                    Columns are subsampled from the set of columns chosen for the current level.\n",
    "        \"colsample_bynode\" : trial.suggest_float(\"colsample_bynode\", 0.5, 1),\n",
    "\n",
    "        # lambda [default=1, alias: reg_lambda]\n",
    "        # L2 regularization term on weights. Increasing this value will make model more conservative.\n",
    "        # range: [0, ∞]\n",
    "\n",
    "        # alpha [default=0, alias: reg_alpha]\n",
    "        # L1 regularization term on weights. Increasing this value will make model more conservative.        \n",
    "        # range: [0, ∞]\n",
    "\n",
    "        # tree_method string [default= auto] The tree construction algorithm used in XGBoost. See description in the reference paper and Tree Methods.\n",
    "        #         Choices: auto, exact, approx, hist, this is a combination of commonly used updaters. \n",
    "        #                  For other updaters like refresh, set the parameter updater directly.\n",
    "        #                  auto:   Same as the hist tree method.\n",
    "        #                  exact:  Exact greedy algorithm. Enumerates all split candidates`.\n",
    "        #                  approx: Approximate greedy algorithm using quantile sketch and gradient histogram.\n",
    "        #                  hist:   Faster histogram optimized approximate greedy algorithm.   \n",
    "\n",
    "        ## scale_pos_weight [default=1] Control the balance of positive and negative weights, useful for unbalanced classes. \n",
    "        ##                 A typical value to consider: sum(negative instances) / sum(positive instances)        \n",
    "\n",
    "        ## grow_policy [default= depthwise]\n",
    "        \n",
    "        ## max_leaves [default=0] Maximum number of nodes to be added. Not used by exact tree method.\n",
    "        # \"max_leaves\"       : trial.suggest_int(\"max_leaves\", 0, 2),\n",
    "        \"max_leaves\"       : 0, \n",
    "        \n",
    "        ## max_bin, [default=256]\n",
    "\n",
    "        ## num_parallel_tree, [default=1]\n",
    "        \n",
    "        ## max_depth:  [Default=6] Maximum depth of a tree. Increasing this value will make the model more complex and more likely to overfit. \n",
    "        ##             0 indicates no limit on depth. Beware that XGBoost aggressively consumes memory when training a deep tree. \n",
    "        ##             exact tree method requires non-zero value. \n",
    "        \"max_depth\"        : trial.suggest_int(\"max_depth\", 1, 15),\n",
    "\n",
    "        ## SET STATIC ###############################################################################\n",
    "        \n",
    "        ## lambda [default=1, alias: reg_lambda]  L2 regularization term on weights. Increasing this value will make model more conservative.\n",
    "        ##                    range: [0, Inf) \n",
    "        # \"reg_lambda\"       : trial.suggest_float(\"reg_lambda\", 0, 10),\n",
    "        \"reg_lambda\"       : 3.2267,   \n",
    "        \n",
    "\n",
    "        # \"max_cat_to_onehot\": trial.suggest_int(\"max_cat_to_onehot\", 1, 10),\n",
    "    }    \n",
    "    return _params"
   ]
  },
  {
   "cell_type": "code",
   "execution_count": 17,
   "metadata": {
    "execution": {
     "iopub.execute_input": "2024-01-25T10:10:43.212984Z",
     "iopub.status.busy": "2024-01-25T10:10:43.212808Z",
     "iopub.status.idle": "2024-01-25T10:10:43.268533Z",
     "shell.execute_reply": "2024-01-25T10:10:43.267694Z",
     "shell.execute_reply.started": "2024-01-25T10:10:43.212966Z"
    }
   },
   "outputs": [],
   "source": [
    "def disp_trial_info(trial):\n",
    "    print(f\"Best trial:  {trial.number}   {trial.state} \")\n",
    "    print(f\" start: {trial.datetime_start} , end:  {trial.datetime_complete}  duration: {trial.duration}\")\n",
    "\n",
    "    print(f\" Intermediate values: {trial.intermediate_values}\")\n",
    "    print(f\" Trial last step    : {trial.last_step} \")\n",
    "    for dist in trial.distributions:\n",
    "        print(f\"    {dist:30s}   {trial.distributions[dist]}   \")\n",
    "    print()\n",
    "    print(\" Parameters: \")\n",
    "    print(\"-------------\")\n",
    "    for key in trial.params:\n",
    "        print(f\"    {key:30s} {trial.params[key]:.7f}    {trial.distributions.get(key, 'n/a')}     \")\n",
    "    print()\n",
    "    print(f\" Trial results: {trial.values}\")\n",
    "  \n",
    "# print(\"  Number of estimators: {}\".format(trial.user_attrs[\"n_estimators\"]))"
   ]
  },
  {
   "cell_type": "markdown",
   "metadata": {},
   "source": [
    "#### Create dask cluster and client "
   ]
  },
  {
   "cell_type": "code",
   "execution_count": 18,
   "metadata": {
    "execution": {
     "iopub.execute_input": "2024-01-25T10:10:43.269406Z",
     "iopub.status.busy": "2024-01-25T10:10:43.269234Z",
     "iopub.status.idle": "2024-01-25T10:10:43.290826Z",
     "shell.execute_reply": "2024-01-25T10:10:43.289917Z",
     "shell.execute_reply.started": "2024-01-25T10:10:43.269388Z"
    }
   },
   "outputs": [
    {
     "name": "stdout",
     "output_type": "stream",
     "text": [
      "Cluster close failed\n"
     ]
    }
   ],
   "source": [
    "try:\n",
    "    cluster.close()\n",
    "    del cluster\n",
    "except Exception as e:\n",
    "    print(\"Cluster close failed\")\n"
   ]
  },
  {
   "cell_type": "code",
   "execution_count": 19,
   "metadata": {
    "ExecuteTime": {
     "end_time": "2023-12-21T20:50:41.337029Z",
     "start_time": "2023-12-21T20:50:40.947431Z"
    },
    "execution": {
     "iopub.execute_input": "2024-01-25T10:10:43.291892Z",
     "iopub.status.busy": "2024-01-25T10:10:43.291712Z",
     "iopub.status.idle": "2024-01-25T10:10:44.986256Z",
     "shell.execute_reply": "2024-01-25T10:10:44.985333Z",
     "shell.execute_reply.started": "2024-01-25T10:10:43.291874Z"
    }
   },
   "outputs": [],
   "source": [
    "n_workers = 6\n",
    "n_threads = 2\n",
    "cluster = LocalCluster(\"Kevins_Cluster\", n_workers=n_workers, threads_per_worker= n_threads, silence_logs = logging.WARNING)\n",
    "# cluster = LocalCluster(\"Kevins_Cluster\", n_workers=2, threads_per_worker=2)\n",
    "# cluster = LocalCluster()"
   ]
  },
  {
   "cell_type": "code",
   "execution_count": 20,
   "metadata": {
    "execution": {
     "iopub.execute_input": "2024-01-25T10:10:44.987503Z",
     "iopub.status.busy": "2024-01-25T10:10:44.987275Z",
     "iopub.status.idle": "2024-01-25T10:10:45.031655Z",
     "shell.execute_reply": "2024-01-25T10:10:45.030990Z",
     "shell.execute_reply.started": "2024-01-25T10:10:44.987484Z"
    }
   },
   "outputs": [
    {
     "name": "stdout",
     "output_type": "stream",
     "text": [
      "Kevins_Cluster(Kevins_Cluster, 'tcp://127.0.0.1:34463', workers=6, threads=12, memory=64.00 GiB)\n"
     ]
    },
    {
     "data": {
      "text/plain": [
       "'http://127.0.0.1:8787/status'"
      ]
     },
     "execution_count": 20,
     "metadata": {},
     "output_type": "execute_result"
    }
   ],
   "source": [
    "print(cluster)\n",
    "cluster.dashboard_link\n",
    "# cluster.worker_spec\n",
    "# cluster\n",
    "# cluster.workers[0].status\n",
    "# cluster.scale(5)\n",
    "# cluster.close()\n",
    "# del cluster"
   ]
  },
  {
   "cell_type": "code",
   "execution_count": 21,
   "metadata": {
    "execution": {
     "iopub.execute_input": "2024-01-25T10:10:45.032622Z",
     "iopub.status.busy": "2024-01-25T10:10:45.032409Z",
     "iopub.status.idle": "2024-01-25T10:10:45.062207Z",
     "shell.execute_reply": "2024-01-25T10:10:45.061381Z",
     "shell.execute_reply.started": "2024-01-25T10:10:45.032605Z"
    }
   },
   "outputs": [
    {
     "name": "stdout",
     "output_type": "stream",
     "text": [
      "Client close failed\n"
     ]
    }
   ],
   "source": [
    "try:\n",
    "    client.close()\n",
    "    del client\n",
    "except Exception as e:\n",
    "    print(\"Client close failed\")\n",
    "else:\n",
    "    print(\"Client close succeeded\")"
   ]
  },
  {
   "cell_type": "code",
   "execution_count": 22,
   "metadata": {
    "ExecuteTime": {
     "end_time": "2023-12-21T20:50:41.337029Z",
     "start_time": "2023-12-21T20:50:40.947431Z"
    },
    "execution": {
     "iopub.execute_input": "2024-01-25T10:10:45.063309Z",
     "iopub.status.busy": "2024-01-25T10:10:45.062994Z",
     "iopub.status.idle": "2024-01-25T10:10:45.125656Z",
     "shell.execute_reply": "2024-01-25T10:10:45.124688Z",
     "shell.execute_reply.started": "2024-01-25T10:10:45.063292Z"
    }
   },
   "outputs": [
    {
     "data": {
      "text/plain": [
       "'running'"
      ]
     },
     "execution_count": 22,
     "metadata": {},
     "output_type": "execute_result"
    },
    {
     "data": {
      "text/html": [
       "<div>\n",
       "    <div style=\"width: 24px; height: 24px; background-color: #e1e1e1; border: 3px solid #9D9D9D; border-radius: 5px; position: absolute;\"> </div>\n",
       "    <div style=\"margin-left: 48px;\">\n",
       "        <h3 style=\"margin-bottom: 0px;\">Client</h3>\n",
       "        <p style=\"color: #9D9D9D; margin-bottom: 0px;\">Client-dd9b0e7c-bb6a-11ee-956a-d094663cecfa</p>\n",
       "        <table style=\"width: 100%; text-align: left;\">\n",
       "\n",
       "        <tr>\n",
       "        \n",
       "            <td style=\"text-align: left;\"><strong>Connection method:</strong> Cluster object</td>\n",
       "            <td style=\"text-align: left;\"><strong>Cluster type:</strong> distributed.LocalCluster</td>\n",
       "        \n",
       "        </tr>\n",
       "\n",
       "        \n",
       "            <tr>\n",
       "                <td style=\"text-align: left;\">\n",
       "                    <strong>Dashboard: </strong> <a href=\"http://127.0.0.1:8787/status\" target=\"_blank\">http://127.0.0.1:8787/status</a>\n",
       "                </td>\n",
       "                <td style=\"text-align: left;\"></td>\n",
       "            </tr>\n",
       "        \n",
       "\n",
       "        </table>\n",
       "\n",
       "        \n",
       "\n",
       "        \n",
       "            <details>\n",
       "            <summary style=\"margin-bottom: 20px;\"><h3 style=\"display: inline;\">Cluster Info</h3></summary>\n",
       "            <div class=\"jp-RenderedHTMLCommon jp-RenderedHTML jp-mod-trusted jp-OutputArea-output\">\n",
       "    <div style=\"width: 24px; height: 24px; background-color: #e1e1e1; border: 3px solid #9D9D9D; border-radius: 5px; position: absolute;\">\n",
       "    </div>\n",
       "    <div style=\"margin-left: 48px;\">\n",
       "        <h3 style=\"margin-bottom: 0px; margin-top: 0px;\">LocalCluster</h3>\n",
       "        <p style=\"color: #9D9D9D; margin-bottom: 0px;\">Kevins_Cluster</p>\n",
       "        <table style=\"width: 100%; text-align: left;\">\n",
       "            <tr>\n",
       "                <td style=\"text-align: left;\">\n",
       "                    <strong>Dashboard:</strong> <a href=\"http://127.0.0.1:8787/status\" target=\"_blank\">http://127.0.0.1:8787/status</a>\n",
       "                </td>\n",
       "                <td style=\"text-align: left;\">\n",
       "                    <strong>Workers:</strong> 6\n",
       "                </td>\n",
       "            </tr>\n",
       "            <tr>\n",
       "                <td style=\"text-align: left;\">\n",
       "                    <strong>Total threads:</strong> 12\n",
       "                </td>\n",
       "                <td style=\"text-align: left;\">\n",
       "                    <strong>Total memory:</strong> 64.00 GiB\n",
       "                </td>\n",
       "            </tr>\n",
       "            \n",
       "            <tr>\n",
       "    <td style=\"text-align: left;\"><strong>Status:</strong> running</td>\n",
       "    <td style=\"text-align: left;\"><strong>Using processes:</strong> True</td>\n",
       "</tr>\n",
       "\n",
       "            \n",
       "        </table>\n",
       "\n",
       "        <details>\n",
       "            <summary style=\"margin-bottom: 20px;\">\n",
       "                <h3 style=\"display: inline;\">Scheduler Info</h3>\n",
       "            </summary>\n",
       "\n",
       "            <div style=\"\">\n",
       "    <div>\n",
       "        <div style=\"width: 24px; height: 24px; background-color: #FFF7E5; border: 3px solid #FF6132; border-radius: 5px; position: absolute;\"> </div>\n",
       "        <div style=\"margin-left: 48px;\">\n",
       "            <h3 style=\"margin-bottom: 0px;\">Scheduler</h3>\n",
       "            <p style=\"color: #9D9D9D; margin-bottom: 0px;\">Scheduler-7106192f-9e6f-4416-bf0f-46c08ee3856f</p>\n",
       "            <table style=\"width: 100%; text-align: left;\">\n",
       "                <tr>\n",
       "                    <td style=\"text-align: left;\">\n",
       "                        <strong>Comm:</strong> tcp://127.0.0.1:34463\n",
       "                    </td>\n",
       "                    <td style=\"text-align: left;\">\n",
       "                        <strong>Workers:</strong> 6\n",
       "                    </td>\n",
       "                </tr>\n",
       "                <tr>\n",
       "                    <td style=\"text-align: left;\">\n",
       "                        <strong>Dashboard:</strong> <a href=\"http://127.0.0.1:8787/status\" target=\"_blank\">http://127.0.0.1:8787/status</a>\n",
       "                    </td>\n",
       "                    <td style=\"text-align: left;\">\n",
       "                        <strong>Total threads:</strong> 12\n",
       "                    </td>\n",
       "                </tr>\n",
       "                <tr>\n",
       "                    <td style=\"text-align: left;\">\n",
       "                        <strong>Started:</strong> Just now\n",
       "                    </td>\n",
       "                    <td style=\"text-align: left;\">\n",
       "                        <strong>Total memory:</strong> 64.00 GiB\n",
       "                    </td>\n",
       "                </tr>\n",
       "            </table>\n",
       "        </div>\n",
       "    </div>\n",
       "\n",
       "    <details style=\"margin-left: 48px;\">\n",
       "        <summary style=\"margin-bottom: 20px;\">\n",
       "            <h3 style=\"display: inline;\">Workers</h3>\n",
       "        </summary>\n",
       "\n",
       "        \n",
       "        <div style=\"margin-bottom: 20px;\">\n",
       "            <div style=\"width: 24px; height: 24px; background-color: #DBF5FF; border: 3px solid #4CC9FF; border-radius: 5px; position: absolute;\"> </div>\n",
       "            <div style=\"margin-left: 48px;\">\n",
       "            <details>\n",
       "                <summary>\n",
       "                    <h4 style=\"margin-bottom: 0px; display: inline;\">Worker: 0</h4>\n",
       "                </summary>\n",
       "                <table style=\"width: 100%; text-align: left;\">\n",
       "                    <tr>\n",
       "                        <td style=\"text-align: left;\">\n",
       "                            <strong>Comm: </strong> tcp://127.0.0.1:32827\n",
       "                        </td>\n",
       "                        <td style=\"text-align: left;\">\n",
       "                            <strong>Total threads: </strong> 2\n",
       "                        </td>\n",
       "                    </tr>\n",
       "                    <tr>\n",
       "                        <td style=\"text-align: left;\">\n",
       "                            <strong>Dashboard: </strong> <a href=\"http://127.0.0.1:37281/status\" target=\"_blank\">http://127.0.0.1:37281/status</a>\n",
       "                        </td>\n",
       "                        <td style=\"text-align: left;\">\n",
       "                            <strong>Memory: </strong> 10.67 GiB\n",
       "                        </td>\n",
       "                    </tr>\n",
       "                    <tr>\n",
       "                        <td style=\"text-align: left;\">\n",
       "                            <strong>Nanny: </strong> tcp://127.0.0.1:40571\n",
       "                        </td>\n",
       "                        <td style=\"text-align: left;\"></td>\n",
       "                    </tr>\n",
       "                    <tr>\n",
       "                        <td colspan=\"2\" style=\"text-align: left;\">\n",
       "                            <strong>Local directory: </strong> /tmp/dask-scratch-space/worker-9mwwzeug\n",
       "                        </td>\n",
       "                    </tr>\n",
       "\n",
       "                    \n",
       "\n",
       "                    \n",
       "\n",
       "                </table>\n",
       "            </details>\n",
       "            </div>\n",
       "        </div>\n",
       "        \n",
       "        <div style=\"margin-bottom: 20px;\">\n",
       "            <div style=\"width: 24px; height: 24px; background-color: #DBF5FF; border: 3px solid #4CC9FF; border-radius: 5px; position: absolute;\"> </div>\n",
       "            <div style=\"margin-left: 48px;\">\n",
       "            <details>\n",
       "                <summary>\n",
       "                    <h4 style=\"margin-bottom: 0px; display: inline;\">Worker: 1</h4>\n",
       "                </summary>\n",
       "                <table style=\"width: 100%; text-align: left;\">\n",
       "                    <tr>\n",
       "                        <td style=\"text-align: left;\">\n",
       "                            <strong>Comm: </strong> tcp://127.0.0.1:39069\n",
       "                        </td>\n",
       "                        <td style=\"text-align: left;\">\n",
       "                            <strong>Total threads: </strong> 2\n",
       "                        </td>\n",
       "                    </tr>\n",
       "                    <tr>\n",
       "                        <td style=\"text-align: left;\">\n",
       "                            <strong>Dashboard: </strong> <a href=\"http://127.0.0.1:33275/status\" target=\"_blank\">http://127.0.0.1:33275/status</a>\n",
       "                        </td>\n",
       "                        <td style=\"text-align: left;\">\n",
       "                            <strong>Memory: </strong> 10.67 GiB\n",
       "                        </td>\n",
       "                    </tr>\n",
       "                    <tr>\n",
       "                        <td style=\"text-align: left;\">\n",
       "                            <strong>Nanny: </strong> tcp://127.0.0.1:46185\n",
       "                        </td>\n",
       "                        <td style=\"text-align: left;\"></td>\n",
       "                    </tr>\n",
       "                    <tr>\n",
       "                        <td colspan=\"2\" style=\"text-align: left;\">\n",
       "                            <strong>Local directory: </strong> /tmp/dask-scratch-space/worker-2ctmrrg1\n",
       "                        </td>\n",
       "                    </tr>\n",
       "\n",
       "                    \n",
       "\n",
       "                    \n",
       "\n",
       "                </table>\n",
       "            </details>\n",
       "            </div>\n",
       "        </div>\n",
       "        \n",
       "        <div style=\"margin-bottom: 20px;\">\n",
       "            <div style=\"width: 24px; height: 24px; background-color: #DBF5FF; border: 3px solid #4CC9FF; border-radius: 5px; position: absolute;\"> </div>\n",
       "            <div style=\"margin-left: 48px;\">\n",
       "            <details>\n",
       "                <summary>\n",
       "                    <h4 style=\"margin-bottom: 0px; display: inline;\">Worker: 2</h4>\n",
       "                </summary>\n",
       "                <table style=\"width: 100%; text-align: left;\">\n",
       "                    <tr>\n",
       "                        <td style=\"text-align: left;\">\n",
       "                            <strong>Comm: </strong> tcp://127.0.0.1:39653\n",
       "                        </td>\n",
       "                        <td style=\"text-align: left;\">\n",
       "                            <strong>Total threads: </strong> 2\n",
       "                        </td>\n",
       "                    </tr>\n",
       "                    <tr>\n",
       "                        <td style=\"text-align: left;\">\n",
       "                            <strong>Dashboard: </strong> <a href=\"http://127.0.0.1:40489/status\" target=\"_blank\">http://127.0.0.1:40489/status</a>\n",
       "                        </td>\n",
       "                        <td style=\"text-align: left;\">\n",
       "                            <strong>Memory: </strong> 10.67 GiB\n",
       "                        </td>\n",
       "                    </tr>\n",
       "                    <tr>\n",
       "                        <td style=\"text-align: left;\">\n",
       "                            <strong>Nanny: </strong> tcp://127.0.0.1:46017\n",
       "                        </td>\n",
       "                        <td style=\"text-align: left;\"></td>\n",
       "                    </tr>\n",
       "                    <tr>\n",
       "                        <td colspan=\"2\" style=\"text-align: left;\">\n",
       "                            <strong>Local directory: </strong> /tmp/dask-scratch-space/worker-469ca32h\n",
       "                        </td>\n",
       "                    </tr>\n",
       "\n",
       "                    \n",
       "\n",
       "                    \n",
       "\n",
       "                </table>\n",
       "            </details>\n",
       "            </div>\n",
       "        </div>\n",
       "        \n",
       "        <div style=\"margin-bottom: 20px;\">\n",
       "            <div style=\"width: 24px; height: 24px; background-color: #DBF5FF; border: 3px solid #4CC9FF; border-radius: 5px; position: absolute;\"> </div>\n",
       "            <div style=\"margin-left: 48px;\">\n",
       "            <details>\n",
       "                <summary>\n",
       "                    <h4 style=\"margin-bottom: 0px; display: inline;\">Worker: 3</h4>\n",
       "                </summary>\n",
       "                <table style=\"width: 100%; text-align: left;\">\n",
       "                    <tr>\n",
       "                        <td style=\"text-align: left;\">\n",
       "                            <strong>Comm: </strong> tcp://127.0.0.1:44203\n",
       "                        </td>\n",
       "                        <td style=\"text-align: left;\">\n",
       "                            <strong>Total threads: </strong> 2\n",
       "                        </td>\n",
       "                    </tr>\n",
       "                    <tr>\n",
       "                        <td style=\"text-align: left;\">\n",
       "                            <strong>Dashboard: </strong> <a href=\"http://127.0.0.1:36207/status\" target=\"_blank\">http://127.0.0.1:36207/status</a>\n",
       "                        </td>\n",
       "                        <td style=\"text-align: left;\">\n",
       "                            <strong>Memory: </strong> 10.67 GiB\n",
       "                        </td>\n",
       "                    </tr>\n",
       "                    <tr>\n",
       "                        <td style=\"text-align: left;\">\n",
       "                            <strong>Nanny: </strong> tcp://127.0.0.1:35907\n",
       "                        </td>\n",
       "                        <td style=\"text-align: left;\"></td>\n",
       "                    </tr>\n",
       "                    <tr>\n",
       "                        <td colspan=\"2\" style=\"text-align: left;\">\n",
       "                            <strong>Local directory: </strong> /tmp/dask-scratch-space/worker-bed3qadr\n",
       "                        </td>\n",
       "                    </tr>\n",
       "\n",
       "                    \n",
       "\n",
       "                    \n",
       "\n",
       "                </table>\n",
       "            </details>\n",
       "            </div>\n",
       "        </div>\n",
       "        \n",
       "        <div style=\"margin-bottom: 20px;\">\n",
       "            <div style=\"width: 24px; height: 24px; background-color: #DBF5FF; border: 3px solid #4CC9FF; border-radius: 5px; position: absolute;\"> </div>\n",
       "            <div style=\"margin-left: 48px;\">\n",
       "            <details>\n",
       "                <summary>\n",
       "                    <h4 style=\"margin-bottom: 0px; display: inline;\">Worker: 4</h4>\n",
       "                </summary>\n",
       "                <table style=\"width: 100%; text-align: left;\">\n",
       "                    <tr>\n",
       "                        <td style=\"text-align: left;\">\n",
       "                            <strong>Comm: </strong> tcp://127.0.0.1:37877\n",
       "                        </td>\n",
       "                        <td style=\"text-align: left;\">\n",
       "                            <strong>Total threads: </strong> 2\n",
       "                        </td>\n",
       "                    </tr>\n",
       "                    <tr>\n",
       "                        <td style=\"text-align: left;\">\n",
       "                            <strong>Dashboard: </strong> <a href=\"http://127.0.0.1:39195/status\" target=\"_blank\">http://127.0.0.1:39195/status</a>\n",
       "                        </td>\n",
       "                        <td style=\"text-align: left;\">\n",
       "                            <strong>Memory: </strong> 10.67 GiB\n",
       "                        </td>\n",
       "                    </tr>\n",
       "                    <tr>\n",
       "                        <td style=\"text-align: left;\">\n",
       "                            <strong>Nanny: </strong> tcp://127.0.0.1:35981\n",
       "                        </td>\n",
       "                        <td style=\"text-align: left;\"></td>\n",
       "                    </tr>\n",
       "                    <tr>\n",
       "                        <td colspan=\"2\" style=\"text-align: left;\">\n",
       "                            <strong>Local directory: </strong> /tmp/dask-scratch-space/worker-kdkegsbt\n",
       "                        </td>\n",
       "                    </tr>\n",
       "\n",
       "                    \n",
       "\n",
       "                    \n",
       "\n",
       "                </table>\n",
       "            </details>\n",
       "            </div>\n",
       "        </div>\n",
       "        \n",
       "        <div style=\"margin-bottom: 20px;\">\n",
       "            <div style=\"width: 24px; height: 24px; background-color: #DBF5FF; border: 3px solid #4CC9FF; border-radius: 5px; position: absolute;\"> </div>\n",
       "            <div style=\"margin-left: 48px;\">\n",
       "            <details>\n",
       "                <summary>\n",
       "                    <h4 style=\"margin-bottom: 0px; display: inline;\">Worker: 5</h4>\n",
       "                </summary>\n",
       "                <table style=\"width: 100%; text-align: left;\">\n",
       "                    <tr>\n",
       "                        <td style=\"text-align: left;\">\n",
       "                            <strong>Comm: </strong> tcp://127.0.0.1:37333\n",
       "                        </td>\n",
       "                        <td style=\"text-align: left;\">\n",
       "                            <strong>Total threads: </strong> 2\n",
       "                        </td>\n",
       "                    </tr>\n",
       "                    <tr>\n",
       "                        <td style=\"text-align: left;\">\n",
       "                            <strong>Dashboard: </strong> <a href=\"http://127.0.0.1:34431/status\" target=\"_blank\">http://127.0.0.1:34431/status</a>\n",
       "                        </td>\n",
       "                        <td style=\"text-align: left;\">\n",
       "                            <strong>Memory: </strong> 10.67 GiB\n",
       "                        </td>\n",
       "                    </tr>\n",
       "                    <tr>\n",
       "                        <td style=\"text-align: left;\">\n",
       "                            <strong>Nanny: </strong> tcp://127.0.0.1:40703\n",
       "                        </td>\n",
       "                        <td style=\"text-align: left;\"></td>\n",
       "                    </tr>\n",
       "                    <tr>\n",
       "                        <td colspan=\"2\" style=\"text-align: left;\">\n",
       "                            <strong>Local directory: </strong> /tmp/dask-scratch-space/worker-g6m6g6qw\n",
       "                        </td>\n",
       "                    </tr>\n",
       "\n",
       "                    \n",
       "\n",
       "                    \n",
       "\n",
       "                </table>\n",
       "            </details>\n",
       "            </div>\n",
       "        </div>\n",
       "        \n",
       "\n",
       "    </details>\n",
       "</div>\n",
       "\n",
       "        </details>\n",
       "    </div>\n",
       "</div>\n",
       "            </details>\n",
       "        \n",
       "\n",
       "    </div>\n",
       "</div>"
      ],
      "text/plain": [
       "<Client: 'tcp://127.0.0.1:34463' processes=6 threads=12, memory=64.00 GiB>"
      ]
     },
     "execution_count": 22,
     "metadata": {},
     "output_type": "execute_result"
    }
   ],
   "source": [
    "client = Client(cluster)\n",
    "client.status\n",
    "client\n",
    "\n",
    "# client = Client(cluster.scheduler_address)\n",
    "# client = Client(\"tcp://127.0.0.1:37937\")\n",
    "# client = Client(processes = False)\n",
    "# client = Client(\"tcp://127.0.0.1:37937\")\n",
    "# client = Client(processes = False)\n",
    "# client = Client(cluster.scheduler_address)\n",
    "\n",
    "# client.start\n",
    "# client.status\n",
    "# client.close()\n",
    "# client.status\n",
    "# del client\n"
   ]
  },
  {
   "cell_type": "code",
   "execution_count": 23,
   "metadata": {
    "execution": {
     "iopub.execute_input": "2024-01-25T10:10:45.126587Z",
     "iopub.status.busy": "2024-01-25T10:10:45.126406Z",
     "iopub.status.idle": "2024-01-25T10:10:45.151917Z",
     "shell.execute_reply": "2024-01-25T10:10:45.150962Z",
     "shell.execute_reply.started": "2024-01-25T10:10:45.126571Z"
    }
   },
   "outputs": [],
   "source": [
    "# with open(\"./metadata/parquet_columns.pkl\",'rb') as f:\n",
    "#     ParquetColumns = pickle.load(f)\n",
    "\n",
    "# for k,v in ParquetColumns.items():\n",
    "#     print(f\" {k:20s}   items: {len(v)}\")\n",
    "\n",
    "# type(ParquetColumns['Cells']['Cells_AreaShape_Area'])\n",
    "# ParquetColumns['Cells']\n",
    "# del ParquetColumns\n",
    "\n",
    "# df_X = dd.read_csv(profilesFile, blocksize=\"100MB\", usecols=X_columns, dtype= x_columns_dtype)  ##, index_col = 'CASRN')\n",
    "# df_y = dd.read_csv(profilesFile, blocksize=\"100MB\", usecols=y_columns, dtype=y_columns_dtype)  ##, index_col = 'CASRN')\n",
    "\n",
    "# df_X_array = df_X_array.rechunk(chunks=(10000,-1))         # df_y_array = df_y.to_dask_array(lengths = True)\n",
    "# df_X_array.to_zarr('df_X_array.zarr' )                     # df_y_array.to_zarr('df_y_array.zarr' ) \n",
    "# df_X_array.to_hdf5('df_X_array.hdf5' , '/x')               # df_y_array.to_hdf5('df_y_array.hdf5' , '/x')  \n",
    "# df_X_array = dask.array.from_zarr('df_X_array.zarr' )      # df_y_array = dask.array.from_zarr('df_y_array.zarr' )\n",
    "\n",
    "# df_y = df_profiles[y_columns].compute()\n",
    "# df_X = df_profiles[list(x['selected'])] ## .drop(labels=x_columns_drop, axis =1)\n",
    "\n",
    "\n",
    "# def read_profiles(n_rows = 50000):\n",
    "#     return    pd.read_csv(CompoundProfiles2SampleFileCSV, usecols=all_columns, dtype= all_columns_dtype, nrows = 50000)     \n",
    "\n",
    "# read_profiles = delayed(read_profiles)\n",
    "# read_profiles"
   ]
  },
  {
   "cell_type": "markdown",
   "metadata": {},
   "source": [
    "### Read Features metadata file"
   ]
  },
  {
   "cell_type": "code",
   "execution_count": 24,
   "metadata": {
    "ExecuteTime": {
     "end_time": "2023-12-21T20:50:55.041400Z",
     "start_time": "2023-12-21T20:50:55.011436Z"
    },
    "execution": {
     "iopub.execute_input": "2024-01-25T10:10:45.153063Z",
     "iopub.status.busy": "2024-01-25T10:10:45.152861Z",
     "iopub.status.idle": "2024-01-25T10:10:45.186146Z",
     "shell.execute_reply": "2024-01-25T10:10:45.185210Z",
     "shell.execute_reply.started": "2024-01-25T10:10:45.153045Z"
    },
    "slideshow": {
     "slide_type": ""
    },
    "tags": []
   },
   "outputs": [
    {
     "name": "stdout",
     "output_type": "stream",
     "text": [
      " Features select file:  ./metadata/feature_selection_columns.pkl\n",
      " selected                1477 \n",
      " dropped_correlation     2193 \n",
      " dropped_variance        0 \n",
      " len(metadata_columms)        : 5 \n",
      " len(metadata_columms_dtype)  : 5 \n",
      " len(label_columms)           : 3 \n",
      " len(label_columms_dtype)     : 3 \n",
      " len(X_columms)               : 1477\n",
      " len(X_columms_dtype)         : 1477\n",
      " len(y_columms)               : 1\n",
      " len(y_columms_dtype)         : 1\n",
      " len(Xy_columms)              : 1478\n",
      " len(Xy_columms_dtype)        : 1478\n",
      " len(all_columms)             : 1485 \n",
      " len(all_columms_dtype)       : 1485 \n"
     ]
    }
   ],
   "source": [
    "print(f\" Features select file:  {featureSelectionFile}\")\n",
    "\n",
    "with open(featureSelectionFile, 'rb') as f: \n",
    "    x = pickle.load(f)\n",
    "    \n",
    "for i in x:\n",
    "    print(f\" {i:20s}    {len(x[i])} \")\n",
    "\n",
    "metadata_columns = set([\"Metadata_Source\", \"Metadata_Batch\", \"Metadata_Plate\", \"Metadata_Well\", \"Metadata_JCP2022\"])\n",
    "metadata_columns_dtype = {x: pd.StringDtype()  for x in metadata_columns} \n",
    "\n",
    "label_columns =  set([\"Metadata_TPSA\", \"Metadata_lnTPSA\", \"Metadata_log10TPSA\"])\n",
    "label_columns_dtype = {x: np.dtype('float32') for x in label_columns}\n",
    "\n",
    "X_columns = x['selected']\n",
    "X_columns_dtype = {x: np.dtype('float32') for x in X_columns}\n",
    "\n",
    "y_columns = set([\"Metadata_log10TPSA\"])\n",
    "y_columns_dtype = {x: np.dtype('float32') for x in y_columns} ## \"Metadata_log10TPSA\":np.dtype('float64')}\n",
    "\n",
    "Xy_columns = y_columns | X_columns\n",
    "Xy_columns_dtype = y_columns_dtype | X_columns_dtype\n",
    "\n",
    "all_columns = metadata_columns | label_columns | X_columns\n",
    "all_columns_dtype = metadata_columns_dtype | label_columns_dtype | X_columns_dtype\n",
    "\n",
    "\n",
    "print(f\" len(metadata_columms)        : {len(metadata_columns)} \")\n",
    "print(f\" len(metadata_columms_dtype)  : {len(metadata_columns_dtype)} \")\n",
    "print(f\" len(label_columms)           : {len(label_columns)} \")\n",
    "print(f\" len(label_columms_dtype)     : {len(label_columns_dtype)} \")\n",
    "print(f\" len(X_columms)               : {len(X_columns)}\")\n",
    "print(f\" len(X_columms_dtype)         : {len(X_columns_dtype)}\")\n",
    "print(f\" len(y_columms)               : {len(y_columns)}\")\n",
    "print(f\" len(y_columms_dtype)         : {len(y_columns_dtype)}\")\n",
    "print(f\" len(Xy_columms)              : {len(Xy_columns)}\")\n",
    "print(f\" len(Xy_columms_dtype)        : {len(Xy_columns_dtype)}\")\n",
    "print(f\" len(all_columms)             : {len(all_columns)} \")\n",
    "print(f\" len(all_columms_dtype)       : {len(all_columns_dtype)} \")\n",
    "\n",
    "# for k  in sorted(all_columns_dtype.keys()):\n",
    "#     print(f\" {k:60s}  {all_columns_dtype[k]}\")"
   ]
  },
  {
   "cell_type": "markdown",
   "metadata": {
    "jp-MarkdownHeadingCollapsed": true
   },
   "source": [
    "# XGBoost + Dask - Development "
   ]
  },
  {
   "cell_type": "markdown",
   "metadata": {
    "ExecuteTime": {
     "end_time": "2023-07-31T18:45:01.023214Z",
     "start_time": "2023-07-31T18:45:00.890667Z"
    }
   },
   "source": [
    "- Need to convert Dask data frames to dask arrays in order to use data in parm grid search"
   ]
  },
  {
   "cell_type": "markdown",
   "metadata": {},
   "source": [
    "### Read compound profiles"
   ]
  },
  {
   "cell_type": "code",
   "execution_count": null,
   "metadata": {
    "execution": {
     "iopub.execute_input": "2024-01-15T11:57:57.331055Z",
     "iopub.status.busy": "2024-01-15T11:57:57.330806Z",
     "iopub.status.idle": "2024-01-15T11:57:57.725324Z",
     "shell.execute_reply": "2024-01-15T11:57:57.724781Z",
     "shell.execute_reply.started": "2024-01-15T11:57:57.331031Z"
    }
   },
   "outputs": [],
   "source": [
    "# del df_profiles\n",
    "df_profiles = read_cell_profiles(CompoundProfiles2SampleFileCSV, rows = 100000, skiprows = None)\n",
    "\n",
    "type(df_profiles)\n",
    "df_profiles.head(3)\n",
    "df_profiles.shape"
   ]
  },
  {
   "cell_type": "code",
   "execution_count": null,
   "metadata": {
    "ExecuteTime": {
     "end_time": "2023-12-21T20:51:05.700887Z",
     "start_time": "2023-12-21T20:51:05.682926Z"
    },
    "execution": {
     "iopub.status.busy": "2024-01-10T14:17:55.180543Z",
     "iopub.status.idle": "2024-01-10T14:17:55.180792Z",
     "shell.execute_reply": "2024-01-10T14:17:55.180677Z",
     "shell.execute_reply.started": "2024-01-10T14:17:55.180664Z"
    },
    "jupyter": {
     "source_hidden": true
    }
   },
   "outputs": [],
   "source": [
    "# df_X_array = df_X_array.rechunk(chunks=(10000,-1))\n",
    "# df_y_array = df_y_array.rechunk(chunks=(10000,-1))\n",
    "# df_X_array.chunks\n",
    "# df_y_array.chunks\n",
    "# df_y_array.shape\n",
    "\n",
    "# train_X, test_X,  train_y, test_y = train_test_split(df_X_array, df_y_array, \n",
    "#                                                      train_size= 0.8, \n",
    "#                                                      test_size=0.2, \n",
    "#                                                      random_state= 1234, \n",
    "#                                                      shuffle=True)\n",
    "#\n",
    "# print(f\" Training data         : {train_X.shape} \\t training labels: {train_y.shape}\")\n",
    "# print(f\" Test & Validation data: {test_X.shape}  \\t test labels    : {test_y.shape}\")\n",
    "\n",
    "# val_X ,  test_X,  val_y  , test_y = train_test_split(test_X, test_y, \n",
    "#                                                      train_size= 0.5, \n",
    "#                                                      test_size=0.5, \n",
    "#                                                      random_state= 1234, \n",
    "#                                                      shuffle=True)\n",
    "# print()\n",
    "# print(f\" Training data   : {train_X.shape} \\t Training labels: {train_y.shape}\")\n",
    "# print(f\" Validation data : {test_X.shape} \\t Val labels     : {test_y.shape}\")\n",
    "# print(f\" Test set data   : {test_X.shape} \\t Test labels    : {test_y.shape}\")"
   ]
  },
  {
   "cell_type": "code",
   "execution_count": null,
   "metadata": {
    "execution": {
     "iopub.status.busy": "2024-01-10T14:17:55.183693Z",
     "iopub.status.idle": "2024-01-10T14:17:55.184007Z",
     "shell.execute_reply": "2024-01-10T14:17:55.183892Z",
     "shell.execute_reply.started": "2024-01-10T14:17:55.183878Z"
    }
   },
   "outputs": [],
   "source": [
    "study_params = {  'learning_rate': 0.255, 'max_depth': 4, 'max_leaves': 10} \n",
    "mse_scores = []\n",
    "R2_scores = []\n",
    "print(study_params)\n",
    "iter_files = make_cv_splits()"
   ]
  },
  {
   "cell_type": "markdown",
   "metadata": {},
   "source": [
    "### Beginning of loop"
   ]
  },
  {
   "cell_type": "code",
   "execution_count": null,
   "metadata": {
    "execution": {
     "iopub.status.busy": "2024-01-10T14:17:55.185034Z",
     "iopub.status.idle": "2024-01-10T14:17:55.185282Z",
     "shell.execute_reply": "2024-01-10T14:17:55.185169Z",
     "shell.execute_reply.started": "2024-01-10T14:17:55.185155Z"
    }
   },
   "outputs": [],
   "source": [
    "(X_train,y_train), (X_test, y_test) = next(iter_files)"
   ]
  },
  {
   "cell_type": "code",
   "execution_count": null,
   "metadata": {
    "execution": {
     "iopub.status.busy": "2024-01-10T14:17:55.186391Z",
     "iopub.status.idle": "2024-01-10T14:17:55.186699Z",
     "shell.execute_reply": "2024-01-10T14:17:55.186581Z",
     "shell.execute_reply.started": "2024-01-10T14:17:55.186567Z"
    },
    "scrolled": true
   },
   "outputs": [],
   "source": [
    "logging.info(f\"Building TRAINING DMatrix...\")\n",
    "d_train = xgb.dask.DaskDMatrix(client, X_train, y_train )\n",
    "logging.info(f\"Building TRAINING DMatrix...Completed\")"
   ]
  },
  {
   "cell_type": "code",
   "execution_count": null,
   "metadata": {
    "execution": {
     "iopub.status.busy": "2024-01-10T14:17:55.187452Z",
     "iopub.status.idle": "2024-01-10T14:17:55.187732Z",
     "shell.execute_reply": "2024-01-10T14:17:55.187619Z",
     "shell.execute_reply.started": "2024-01-10T14:17:55.187606Z"
    },
    "scrolled": true
   },
   "outputs": [],
   "source": [
    "logging.info(f\"Building TEST DMatrix...\")\n",
    "d_test = xgb.dask.DaskDMatrix(client, X_test, y_test )\n",
    "logging.info(f\"Building TEST DMatrix...Completed\")"
   ]
  },
  {
   "cell_type": "code",
   "execution_count": null,
   "metadata": {
    "execution": {
     "iopub.status.busy": "2024-01-10T14:17:55.188862Z",
     "iopub.status.idle": "2024-01-10T14:17:55.189256Z",
     "shell.execute_reply": "2024-01-10T14:17:55.189116Z",
     "shell.execute_reply.started": "2024-01-10T14:17:55.189102Z"
    }
   },
   "outputs": [],
   "source": [
    "xgb.__version__\n",
    "xgb.config_context(device = \"gpu\", booster = \"gbtree\", verbosity = 0, validate_parameters = True ) \n",
    "xgb.get_config()['verbosity']\n",
    "xgb.set_config(use_rmm = True, verbosity = 1)\n",
    "xgb.set_config()\n",
    "xgb.get_config()"
   ]
  },
  {
   "cell_type": "code",
   "execution_count": null,
   "metadata": {
    "execution": {
     "iopub.status.busy": "2024-01-10T14:17:55.190228Z",
     "iopub.status.idle": "2024-01-10T14:17:55.190513Z",
     "shell.execute_reply": "2024-01-10T14:17:55.190399Z",
     "shell.execute_reply.started": "2024-01-10T14:17:55.190386Z"
    }
   },
   "outputs": [],
   "source": [
    "X_train.shape\n",
    "y_train.shape\n",
    "\n",
    "X_test.shape\n",
    "y_test.shape"
   ]
  },
  {
   "cell_type": "code",
   "execution_count": null,
   "metadata": {
    "execution": {
     "iopub.status.busy": "2024-01-10T14:17:55.191517Z",
     "iopub.status.idle": "2024-01-10T14:17:55.191804Z",
     "shell.execute_reply": "2024-01-10T14:17:55.191690Z",
     "shell.execute_reply.started": "2024-01-10T14:17:55.191676Z"
    }
   },
   "outputs": [],
   "source": [
    "logging.info(f\"Training model...\")\n",
    "model = xgb.dask.train(\n",
    "    None,\n",
    "    {\"verbosity\": 0, \"tree_method\": \"hist\", **study_params},\n",
    "    d_train,\n",
    "    num_boost_round=100,\n",
    "    evals=[(d_train, \"train\"), (d_test, \"test\")],\n",
    "    verbose_eval=False\n",
    ")\n",
    "logging.info(f\"Training model...Completed\")"
   ]
  },
  {
   "cell_type": "code",
   "execution_count": null,
   "metadata": {
    "execution": {
     "iopub.status.busy": "2024-01-10T14:17:55.192768Z",
     "iopub.status.idle": "2024-01-10T14:17:55.193066Z",
     "shell.execute_reply": "2024-01-10T14:17:55.192948Z",
     "shell.execute_reply.started": "2024-01-10T14:17:55.192934Z"
    }
   },
   "outputs": [],
   "source": [
    "logging.info(f\"Running model on test data...\")\n",
    "predictions = xgb.dask.predict(client, model,d_test).compute()\n",
    "logging.info(f\"Running model on test data...Completed\")"
   ]
  },
  {
   "cell_type": "code",
   "execution_count": null,
   "metadata": {
    "execution": {
     "iopub.status.busy": "2024-01-10T14:17:55.194011Z",
     "iopub.status.idle": "2024-01-10T14:17:55.194307Z",
     "shell.execute_reply": "2024-01-10T14:17:55.194189Z",
     "shell.execute_reply.started": "2024-01-10T14:17:55.194175Z"
    }
   },
   "outputs": [],
   "source": [
    "logging.info(f\"Reshape y_test data...\")\n",
    "# y_test_c = y_test.to_dask_array(lengths=True)\n",
    "y_test_c = y_test.compute().to_numpy().squeeze()\n",
    "logging.info(f\"Reshape y_test data...Complete\")"
   ]
  },
  {
   "cell_type": "code",
   "execution_count": null,
   "metadata": {
    "execution": {
     "iopub.status.busy": "2024-01-10T14:17:55.195277Z",
     "iopub.status.idle": "2024-01-10T14:17:55.195585Z",
     "shell.execute_reply": "2024-01-10T14:17:55.195451Z",
     "shell.execute_reply.started": "2024-01-10T14:17:55.195437Z"
    }
   },
   "outputs": [],
   "source": [
    "print(f\" y_test     : {type(y_test)} \\t shape: {y_test.shape}\") \n",
    "print(f\" y_test_c   : {type(y_test_c)} \\t\\t\\t shape: {y_test_c.shape}\")\n",
    "print(f\" Predictions: {type(predictions)} \\t\\t\\t shape: {predictions.shape}\")"
   ]
  },
  {
   "cell_type": "code",
   "execution_count": null,
   "metadata": {
    "execution": {
     "iopub.status.busy": "2024-01-10T14:17:55.196651Z",
     "iopub.status.idle": "2024-01-10T14:17:55.196959Z",
     "shell.execute_reply": "2024-01-10T14:17:55.196842Z",
     "shell.execute_reply.started": "2024-01-10T14:17:55.196828Z"
    }
   },
   "outputs": [],
   "source": [
    "logging.info(f\"Calculating R2 and MSE metrics...\")\n",
    "R2_score = skm.r2_score(\n",
    "    y_true = y_test_c,\n",
    "    y_pred = predictions,\n",
    ")\n",
    "\n",
    "mse_score = skm.mean_squared_error(\n",
    "    y_true = y_test_c,\n",
    "    y_pred = predictions,\n",
    "    squared=True,\n",
    ")\n",
    "logging.info(f\"Calculating R2 and MSE metrics...Completed\")"
   ]
  },
  {
   "cell_type": "code",
   "execution_count": null,
   "metadata": {
    "execution": {
     "iopub.status.busy": "2024-01-10T14:17:55.197938Z",
     "iopub.status.idle": "2024-01-10T14:17:55.198241Z",
     "shell.execute_reply": "2024-01-10T14:17:55.198127Z",
     "shell.execute_reply.started": "2024-01-10T14:17:55.198113Z"
    }
   },
   "outputs": [],
   "source": [
    "logging.info(f\"Measuring accuracy of model vs. ground truth...\")\n",
    "mse_score = mean_squared_error(\n",
    "    y_true = y_test_c,\n",
    "    y_pred = predictions,\n",
    "    squared=True,\n",
    "    # compute=True,\n",
    ")\n",
    " \n",
    "R2_score = r2_score(\n",
    "    # y_true = d_test.get_label(),\n",
    "    # y_true = y_test.to_dask_array(),\n",
    "    y_true = y_test_c,\n",
    "    y_pred = predictions,\n",
    "    compute=True,\n",
    ")\n",
    "logging.info(f\"Measuring accuracy of model vs. ground truth...Completed\")"
   ]
  },
  {
   "cell_type": "code",
   "execution_count": null,
   "metadata": {
    "execution": {
     "iopub.status.busy": "2024-01-10T14:17:55.199206Z",
     "iopub.status.idle": "2024-01-10T14:17:55.199496Z",
     "shell.execute_reply": "2024-01-10T14:17:55.199381Z",
     "shell.execute_reply.started": "2024-01-10T14:17:55.199367Z"
    }
   },
   "outputs": [],
   "source": [
    "# print(score.shape, type(score))\n",
    "print(y_test_c)\n",
    "print(predictions)\n",
    "print(\"mse_score: \" , mse_score)\n",
    "print(\"R2_score : \" , R2_score)\n",
    "\n",
    "\n",
    "mse_scores\n",
    "R2_scores"
   ]
  },
  {
   "cell_type": "code",
   "execution_count": null,
   "metadata": {
    "execution": {
     "iopub.status.busy": "2024-01-10T14:17:55.200486Z",
     "iopub.status.idle": "2024-01-10T14:17:55.200731Z",
     "shell.execute_reply": "2024-01-10T14:17:55.200618Z",
     "shell.execute_reply.started": "2024-01-10T14:17:55.200604Z"
    }
   },
   "outputs": [],
   "source": [
    "del d_train, d_test\n",
    "del X_train, y_train, X_test, y_test, y_test_c,\n",
    "del model, predictions, mse_score, R2_score"
   ]
  },
  {
   "cell_type": "markdown",
   "metadata": {
    "jp-MarkdownHeadingCollapsed": true
   },
   "source": [
    "### End of loop"
   ]
  },
  {
   "cell_type": "code",
   "execution_count": null,
   "metadata": {
    "execution": {
     "iopub.status.busy": "2024-01-10T14:17:55.201638Z",
     "iopub.status.idle": "2024-01-10T14:17:55.202098Z",
     "shell.execute_reply": "2024-01-10T14:17:55.201981Z",
     "shell.execute_reply.started": "2024-01-10T14:17:55.201967Z"
    },
    "scrolled": true
   },
   "outputs": [],
   "source": [
    "# for x in mse_scores:\n",
    "#     print(x.compute())\n",
    "mse_scores_np = np.array(mse_scores, dtype =np.float64)\n",
    "mse_scores_np\n",
    "R2_scores_np = np.array(R2_scores, dtype =np.float64)\n",
    "R2_scores_np"
   ]
  },
  {
   "cell_type": "code",
   "execution_count": null,
   "metadata": {
    "execution": {
     "iopub.status.busy": "2024-01-10T14:17:55.202989Z",
     "iopub.status.idle": "2024-01-10T14:17:55.203276Z",
     "shell.execute_reply": "2024-01-10T14:17:55.203147Z",
     "shell.execute_reply.started": "2024-01-10T14:17:55.203118Z"
    }
   },
   "outputs": [],
   "source": [
    "print(f\"RSME : {mse_scores_np.mean():.5f} +/- {mse_scores_np.std():.5f}\")\n",
    "# return mse_scores.mean()\n",
    "print(\"-\" * 80)\n",
    "print(f\"R^2  : {R2_scores_np.mean():.5f} +/- {R2_scores_np.std():.5f}\")\n",
    "# return mse_scores.mean()\n"
   ]
  },
  {
   "cell_type": "code",
   "execution_count": null,
   "metadata": {
    "execution": {
     "iopub.status.busy": "2024-01-10T14:17:55.204273Z",
     "iopub.status.idle": "2024-01-10T14:17:55.204705Z",
     "shell.execute_reply": "2024-01-10T14:17:55.204571Z",
     "shell.execute_reply.started": "2024-01-10T14:17:55.204557Z"
    }
   },
   "outputs": [],
   "source": [
    "# type(model)\n",
    "data = { 'mse_scores' : mse_scores_np,\n",
    "         'R2_scores' : R2_scores_np}\n",
    "    \n",
    "with open(trainingMetrics, 'wb') as f: \n",
    "    # Pickle the 'data' dictionary using the highest protocol available.\n",
    "    pickle.dump(data, f, pickle.HIGHEST_PROTOCOL)"
   ]
  },
  {
   "cell_type": "code",
   "execution_count": null,
   "metadata": {
    "execution": {
     "iopub.status.busy": "2024-01-10T14:17:55.205624Z",
     "iopub.status.idle": "2024-01-10T14:17:55.205872Z",
     "shell.execute_reply": "2024-01-10T14:17:55.205756Z",
     "shell.execute_reply.started": "2024-01-10T14:17:55.205744Z"
    }
   },
   "outputs": [],
   "source": [
    "with open(trainingMetrics, 'rb') as f:\n",
    "    # The protocol version used is detected automatically, so we do not\n",
    "    # have to specify it.\n",
    "    data = pickle.load(f)\n",
    "data"
   ]
  },
  {
   "cell_type": "markdown",
   "metadata": {},
   "source": [
    "# XGBoost - Using Optuna for hyper-parameter search"
   ]
  },
  {
   "cell_type": "markdown",
   "metadata": {},
   "source": [
    "## Setup ML env"
   ]
  },
  {
   "cell_type": "code",
   "execution_count": 25,
   "metadata": {
    "execution": {
     "iopub.execute_input": "2024-01-25T10:11:03.155191Z",
     "iopub.status.busy": "2024-01-25T10:11:03.154308Z",
     "iopub.status.idle": "2024-01-25T10:12:16.991313Z",
     "shell.execute_reply": "2024-01-25T10:12:16.989794Z",
     "shell.execute_reply.started": "2024-01-25T10:11:03.155140Z"
    }
   },
   "outputs": [
    {
     "name": "stdout",
     "output_type": "stream",
     "text": [
      " Reading cell profiles file :  ./output_11102023/compound_profiles_2samples.csv\n",
      " Number of partitions:  261   partition(1) shape: (Delayed('int-f6fdacbd-a5ad-4134-98ef-7ee270eddae4'), 1478)\n",
      " Limiting output to 200000 rows\n"
     ]
    },
    {
     "name": "stderr",
     "output_type": "stream",
     "text": [
      "/home/kevin/miniforge3/envs/cp/lib/python3.11/site-packages/dask/dataframe/_pyarrow_compat.py:17: FutureWarning: Minimal version of pyarrow will soon be increased to 14.0.1. You are using 11.0.0. Please consider upgrading.\n",
      "  warnings.warn(\n",
      "/home/kevin/miniforge3/envs/cp/lib/python3.11/site-packages/dask/dataframe/_pyarrow_compat.py:17: FutureWarning: Minimal version of pyarrow will soon be increased to 14.0.1. You are using 11.0.0. Please consider upgrading.\n",
      "  warnings.warn(\n",
      "/home/kevin/miniforge3/envs/cp/lib/python3.11/site-packages/dask/dataframe/_pyarrow_compat.py:17: FutureWarning: Minimal version of pyarrow will soon be increased to 14.0.1. You are using 11.0.0. Please consider upgrading.\n",
      "  warnings.warn(\n",
      "/home/kevin/miniforge3/envs/cp/lib/python3.11/site-packages/dask/dataframe/_pyarrow_compat.py:17: FutureWarning: Minimal version of pyarrow will soon be increased to 14.0.1. You are using 11.0.0. Please consider upgrading.\n",
      "  warnings.warn(\n",
      "/home/kevin/miniforge3/envs/cp/lib/python3.11/site-packages/dask/dataframe/_pyarrow_compat.py:17: FutureWarning: Minimal version of pyarrow will soon be increased to 14.0.1. You are using 11.0.0. Please consider upgrading.\n",
      "  warnings.warn(\n",
      "/home/kevin/miniforge3/envs/cp/lib/python3.11/site-packages/dask/dataframe/_pyarrow_compat.py:17: FutureWarning: Minimal version of pyarrow will soon be increased to 14.0.1. You are using 11.0.0. Please consider upgrading.\n",
      "  warnings.warn(\n"
     ]
    },
    {
     "name": "stdout",
     "output_type": "stream",
     "text": [
      "\n",
      " Reading 200000 rows into <class 'dask.dataframe.core.DataFrame'> shape: (Delayed('int-e174aa8d-e50e-4f6c-84a1-7f601ec24207'), 1478)\n",
      " Number of partitions:  100   \n"
     ]
    }
   ],
   "source": [
    "# del df_profiles\n",
    "df_profiles = read_cell_profiles(CompoundProfiles2SampleFileCSV, rows = 200000)\n",
    "# type(df_profiles)\n",
    "# df_profiles.head(3)\n",
    "# df_profiles.columns"
   ]
  },
  {
   "cell_type": "code",
   "execution_count": 26,
   "metadata": {
    "execution": {
     "iopub.execute_input": "2024-01-25T10:12:16.993577Z",
     "iopub.status.busy": "2024-01-25T10:12:16.993102Z",
     "iopub.status.idle": "2024-01-25T10:12:17.052674Z",
     "shell.execute_reply": "2024-01-25T10:12:17.051681Z",
     "shell.execute_reply.started": "2024-01-25T10:12:16.993555Z"
    }
   },
   "outputs": [],
   "source": [
    "def train_model(iter_files, save = False, **study_params):\n",
    "    mse_scores = []\n",
    "    R2_scores = []\n",
    "    pearson_scores = []\n",
    "    pearson_ps = []\n",
    "    model_params = {\"verbosity\":0, \"tree_method\": \"hist\", **study_params}\n",
    "    \n",
    "    my_model = None\n",
    "    \n",
    "    # for i, (train, test) in enumerate(make_cv_splits()):\n",
    "    for i, ((X_train,y_train), (X_test, y_test)) in enumerate(iter_files):\n",
    "\n",
    "        logging.info(f\"Building training & test+ DMatrix...\")\n",
    "        d_train = xgb.dask.DaskDMatrix( client, X_train, y_train)      \n",
    "\n",
    "        # logging.info(f\"Building test DMatrix...\")\n",
    "        d_test = xgb.dask.DaskDMatrix(client, X_test, y_test)\n",
    "        \n",
    "        booster_model = my_model['booster'] if my_model is not None else None\n",
    "        logging.info(f\"Training model...\")\n",
    "        my_model = xgb.dask.train(\n",
    "            None,  model_params, d_train,\n",
    "            xgb_model = booster_model,\n",
    "            num_boost_round=50,\n",
    "            evals=[(d_train, \"train\"), (d_test, \"test\")],\n",
    "            verbose_eval=False\n",
    "        )\n",
    "        # logging.info(f\"Training model...Completed\")\n",
    "        \n",
    "        logging.info(f\"Running model on test data...\")\n",
    "        predictions = xgb.dask.predict(client, my_model, d_test).compute()\n",
    "        \n",
    "        # logging.info(f\"Reshape y_test data...\")\n",
    "        # y_test_c = y_test.to_dask_array(lengths=True).compute().squeeze()\n",
    "        y_test_c = y_test.compute().to_numpy().squeeze()\n",
    "\n",
    "        # print(f\" y_test_c: {type(y_test_c)}   Shape:  {y_test_c.shape}       Predictions: {type(predictions)}  shape: {predictions.shape}\")\n",
    "        \n",
    "        logging.info(f\"Compute R2 & MSE scores...\")\n",
    "        R2_score = skm.r2_score(\n",
    "            y_true = y_test_c,\n",
    "            y_pred = predictions,\n",
    "            # compute=True,\n",
    "        )\n",
    "        \n",
    "        mse_score = skm.mean_squared_error(\n",
    "            y_true = y_test_c,\n",
    "            y_pred = predictions,\n",
    "            squared=False,\n",
    "            # compute=True,\n",
    "        )\n",
    "\n",
    "        pearson_corr, pearson_p = sps.pearsonr(y_test_c, predictions)\n",
    "        # logging.info(f\"Compute R2 & MSE scores...Completed\")\n",
    " \n",
    "        print(f\"MSE Score : {mse_score:.6f}\")\n",
    "        print(f\" R2 Score : {R2_score:.6f}\")\n",
    "        print(f\"  Pearson : {pearson_corr:.6f}      P: {pearson_p:.6e}\")\n",
    "        \n",
    "        mse_scores.append(mse_score)\n",
    "        R2_scores.append(R2_score)\n",
    "        pearson_scores.append(pearson_corr)\n",
    "        pearson_ps.append(pearson_p)\n",
    "        \n",
    "        # Compute predictions and mean squared error for this iteration\n",
    "        # while we start the next one\n",
    "        # scores.append(score.reshape(1).persist())  <--- rsults in errors\n",
    "\n",
    "        del d_train, d_test, X_train, y_train, X_test, y_test, y_test_c, predictions, mse_score, R2_score        \n",
    "        print(\"-\" * 80)\n",
    "\n",
    "    # scores = da.concatenate(scores).compute()\n",
    "    # print(f\"RSME={scores.mean()} +/- {scores.std()}\")\n",
    "    mse_scores_np = np.array(mse_scores, dtype =np.float64)\n",
    "    R2_scores_np = np.array(R2_scores, dtype =np.float64)\n",
    "    pearson_scores_np = np.array(R2_scores, dtype =np.float64)\n",
    "    mse_scores_np\n",
    "    R2_scores_np    \n",
    "    pearson_scores_np\n",
    "    \n",
    "    print(\"-\" * 80)\n",
    "    print(f\"RSME     : Min: {mse_scores_np.min():.5f}   mean: {mse_scores_np.mean():.5f} +/- {mse_scores_np.std():.5f}\")\n",
    "    print(f\"R^2      : Min: {R2_scores_np.min():.5f}    mean: {R2_scores_np.mean():.5f} +/- {R2_scores_np.std():.5f}\")\n",
    "    print(f\"Pearson  : Min: {pearson_scores_np.min():.5f}    mean: {pearson_scores_np.mean():.5f} +/- {pearson_scores_np.std():.5f}\")\n",
    "    print(\"-\" * 80)\n",
    "    print(my_model['history']['test'])\n",
    "    print(my_model['booster'])\n",
    "    \n",
    "    # Only available when early stopping is used \n",
    "    # print(my_model['booster'].best_score)\n",
    "    # print(my_model['booster'].best_iteration)\n",
    "    \n",
    "    return my_model, mse_scores_np.mean(), pearson_scores_np.mean()\n"
   ]
  },
  {
   "cell_type": "code",
   "execution_count": 27,
   "metadata": {
    "execution": {
     "iopub.execute_input": "2024-01-25T10:12:17.053902Z",
     "iopub.status.busy": "2024-01-25T10:12:17.053603Z",
     "iopub.status.idle": "2024-01-25T10:12:17.081119Z",
     "shell.execute_reply": "2024-01-25T10:12:17.080332Z",
     "shell.execute_reply.started": "2024-01-25T10:12:17.053883Z"
    }
   },
   "outputs": [],
   "source": [
    "def objective(trial, disp_params = False, save = True):\n",
    "    iter_files = make_cv_splits(df_profiles)\n",
    "    params = propose_parameters(trial)   \n",
    "    print(f\" Training model (trial #{trial.number}) \")\n",
    "    if disp_params:\n",
    "        print(f\" Parameters:\")\n",
    "        for k, v in params.items():\n",
    "            print(f\"  {k:30s} {v}\")\n",
    "    model, mse_score, pearson_score =  train_model(iter_files, **params)\n",
    "    if save:\n",
    "        save_as_filename = f\".\\saved_models\\{study.study_name}_trial_{trial.number:03d}.json\"\n",
    "        print(f\" Save model to : {save_as_filename}\")\n",
    "        model['booster'].save_model(save_as_filename)\n",
    "    return mse_score, pearson_score\n",
    "    # return params"
   ]
  },
  {
   "cell_type": "markdown",
   "metadata": {},
   "source": [
    "### Load study"
   ]
  },
  {
   "cell_type": "code",
   "execution_count": 28,
   "metadata": {
    "execution": {
     "iopub.execute_input": "2024-01-25T10:12:17.082918Z",
     "iopub.status.busy": "2024-01-25T10:12:17.082699Z",
     "iopub.status.idle": "2024-01-25T10:12:17.108242Z",
     "shell.execute_reply": "2024-01-25T10:12:17.107144Z",
     "shell.execute_reply.started": "2024-01-25T10:12:17.082899Z"
    }
   },
   "outputs": [],
   "source": [
    "study_name=\"multiobjective-study-3\""
   ]
  },
  {
   "cell_type": "code",
   "execution_count": 29,
   "metadata": {
    "execution": {
     "iopub.execute_input": "2024-01-25T10:12:17.109399Z",
     "iopub.status.busy": "2024-01-25T10:12:17.109199Z",
     "iopub.status.idle": "2024-01-25T10:12:17.161861Z",
     "shell.execute_reply": "2024-01-25T10:12:17.160845Z",
     "shell.execute_reply.started": "2024-01-25T10:12:17.109381Z"
    }
   },
   "outputs": [],
   "source": [
    "# try:\n",
    "#     optuna.delete_study(storage=\"sqlite:///example.db\", study_name=study_name)\n",
    "#     print(\"delete successful\")\n",
    "# except Exception as e:\n",
    "#     print(\"delete failed\")"
   ]
  },
  {
   "cell_type": "code",
   "execution_count": 30,
   "metadata": {
    "execution": {
     "iopub.execute_input": "2024-01-25T10:12:17.162905Z",
     "iopub.status.busy": "2024-01-25T10:12:17.162643Z",
     "iopub.status.idle": "2024-01-25T10:12:17.404953Z",
     "shell.execute_reply": "2024-01-25T10:12:17.403991Z",
     "shell.execute_reply.started": "2024-01-25T10:12:17.162885Z"
    }
   },
   "outputs": [
    {
     "name": "stderr",
     "output_type": "stream",
     "text": [
      "[I 2024-01-25 12:07:46,864] Using an existing study with name 'multiobjective-study-3' instead of creating a new one.\n"
     ]
    },
    {
     "name": "stdout",
     "output_type": "stream",
     "text": [
      "Total time:  0:00:00.208571\n"
     ]
    }
   ],
   "source": [
    "start = datetime.now()\n",
    "study = optuna.create_study(storage=\"sqlite:///example.db\",\n",
    "                            study_name=\"multiobjective-study-3\",\n",
    "                            directions=[\"minimize\", \"maximize\"], \n",
    "                            load_if_exists=True)\n",
    "# study.set_metric_names([\"mse_score\", \"R2_score\"])\n",
    "print(f\"Total time:  {datetime.now() - start}\")"
   ]
  },
  {
   "cell_type": "code",
   "execution_count": 32,
   "metadata": {
    "execution": {
     "iopub.execute_input": "2024-01-25T10:12:17.405995Z",
     "iopub.status.busy": "2024-01-25T10:12:17.405809Z",
     "iopub.status.idle": "2024-01-25T10:12:17.463070Z",
     "shell.execute_reply": "2024-01-25T10:12:17.462131Z",
     "shell.execute_reply.started": "2024-01-25T10:12:17.405977Z"
    }
   },
   "outputs": [
    {
     "name": "stdout",
     "output_type": "stream",
     "text": [
      "Trial #: 0     1        0.17054        0.00354\n",
      "Trial #: 1     1        0.16833        0.02912\n",
      "Trial #: 2     1        4.70470     -778.38355\n",
      "Trial #: 3     1        0.17064        0.00240\n",
      "Trial #: 4     1        0.17041        0.00515\n",
      "Trial #: 5     1       38.76890   -51495.15402\n",
      "Trial #: 6     1        0.17075        0.00113\n",
      "Trial #: 7     1        0.17073        0.00129\n",
      "Trial #: 8     3  \n",
      "\n",
      "Trial #: 9     1        0.17074        0.00124\n",
      "Trial #: 10    1       15.77350    -8695.22164\n",
      "Trial #: 11    1        9.32062    -2975.71750\n",
      "Trial #: 12    1        0.17026        0.00688\n",
      "Trial #: 13    1       22.27700   -17001.89049\n",
      "Trial #: 14    1       25.41578   -22877.22808\n",
      "Trial #: 15    1        0.17085       -0.00005\n",
      "Trial #: 16    1        0.17069        0.00185\n",
      "Trial #: 17    3  \n",
      "\n",
      " end of trials \n"
     ]
    }
   ],
   "source": [
    "for st in study.trials:\n",
    "    print(f\"Trial #: {st.number:<4d} {st.state:2d}  \", end=\"\")\n",
    "    if st.state != 3:\n",
    "        print(f\" {st.values[0]:12.5f}   {st.values[1]:12.5f}\")\n",
    "    else:\n",
    "        print(\"\\n\")\n",
    "print(\" end of trials \")"
   ]
  },
  {
   "cell_type": "markdown",
   "metadata": {},
   "source": [
    "### Run studies"
   ]
  },
  {
   "cell_type": "code",
   "execution_count": 33,
   "metadata": {
    "execution": {
     "iopub.execute_input": "2024-01-25T07:32:30.835674Z",
     "iopub.status.busy": "2024-01-25T07:32:30.835029Z"
    },
    "scrolled": true
   },
   "outputs": [
    {
     "data": {
      "application/vnd.jupyter.widget-view+json": {
       "model_id": "d49721ef511c4aefba8767bad6269b20",
       "version_major": 2,
       "version_minor": 0
      },
      "text/plain": [
       "  0%|          | 0/25 [00:00<?, ?it/s]"
      ]
     },
     "metadata": {},
     "output_type": "display_data"
    },
    {
     "name": "stdout",
     "output_type": "stream",
     "text": [
      " Training model (trial #18) \n",
      "Training/Test split #0\n"
     ]
    },
    {
     "name": "stderr",
     "output_type": "stream",
     "text": [
      "2024-01-25 12:08:51,606 - INFO: - Building training & test+ DMatrix...\n",
      "2024-01-25 12:11:04,931 - INFO: - Training model...\n",
      "2024-01-25 12:11:04,981 - INFO: - start listen on 10.91.28.16:46483\n",
      "[12:11:05] task [xgboost.dask-0]:tcp://127.0.0.1:32827 got new rank 0\n",
      "[12:11:05] task [xgboost.dask-1]:tcp://127.0.0.1:39069 got new rank 1\n",
      "[12:11:05] task [xgboost.dask-2]:tcp://127.0.0.1:39653 got new rank 2\n",
      "[12:11:05] task [xgboost.dask-3]:tcp://127.0.0.1:44203 got new rank 3\n",
      "[12:11:05] task [xgboost.dask-4]:tcp://127.0.0.1:37877 got new rank 4\n",
      "[12:11:05] task [xgboost.dask-5]:tcp://127.0.0.1:37333 got new rank 5\n",
      "2024-01-25 12:11:05,591 - INFO: - @tracker All of 6 nodes getting started\n",
      "2024-01-25 12:11:42,645 - INFO: - @tracker All nodes finishes job\n",
      "2024-01-25 12:11:42,793 - INFO: - Running model on test data...\n",
      "2024-01-25 12:12:16,273 - INFO: - Compute R2 & MSE scores...\n"
     ]
    },
    {
     "name": "stdout",
     "output_type": "stream",
     "text": [
      "MSE Score : 0.171955\n",
      " R2 Score : 0.000301\n",
      "  Pearson : 0.050538      P: 5.092376e-24\n",
      "--------------------------------------------------------------------------------\n",
      "Training/Test split #1\n"
     ]
    },
    {
     "name": "stderr",
     "output_type": "stream",
     "text": [
      "2024-01-25 12:12:19,633 - INFO: - Building training & test+ DMatrix...\n",
      "2024-01-25 12:14:33,496 - INFO: - Training model...\n",
      "2024-01-25 12:14:33,508 - INFO: - start listen on 10.91.28.16:37395\n",
      "[12:14:33] task [xgboost.dask-0]:tcp://127.0.0.1:32827 got new rank 0\n",
      "[12:14:33] task [xgboost.dask-1]:tcp://127.0.0.1:39069 got new rank 1\n",
      "[12:14:33] task [xgboost.dask-2]:tcp://127.0.0.1:39653 got new rank 2\n",
      "[12:14:33] task [xgboost.dask-3]:tcp://127.0.0.1:44203 got new rank 3\n",
      "[12:14:33] task [xgboost.dask-4]:tcp://127.0.0.1:37877 got new rank 4\n",
      "[12:14:33] task [xgboost.dask-5]:tcp://127.0.0.1:37333 got new rank 5\n",
      "2024-01-25 12:14:33,720 - INFO: - @tracker All of 6 nodes getting started\n",
      "2024-01-25 12:15:09,023 - INFO: - @tracker All nodes finishes job\n",
      "2024-01-25 12:15:09,168 - INFO: - Running model on test data...\n",
      "2024-01-25 12:15:45,157 - INFO: - Compute R2 & MSE scores...\n"
     ]
    },
    {
     "name": "stdout",
     "output_type": "stream",
     "text": [
      "MSE Score : 0.170443\n",
      " R2 Score : 0.000355\n",
      "  Pearson : 0.054607      P: 9.715410e-28\n",
      "--------------------------------------------------------------------------------\n",
      "Training/Test split #2\n"
     ]
    },
    {
     "name": "stderr",
     "output_type": "stream",
     "text": [
      "2024-01-25 12:15:48,112 - INFO: - Building training & test+ DMatrix...\n",
      "2024-01-25 12:18:08,835 - INFO: - Training model...\n",
      "2024-01-25 12:18:08,852 - INFO: - start listen on 10.91.28.16:46807\n",
      "[12:18:09] task [xgboost.dask-0]:tcp://127.0.0.1:32827 got new rank 0\n",
      "[12:18:09] task [xgboost.dask-1]:tcp://127.0.0.1:39069 got new rank 1\n",
      "[12:18:09] task [xgboost.dask-2]:tcp://127.0.0.1:39653 got new rank 2\n",
      "[12:18:09] task [xgboost.dask-3]:tcp://127.0.0.1:44203 got new rank 3\n",
      "[12:18:09] task [xgboost.dask-4]:tcp://127.0.0.1:37877 got new rank 4\n",
      "[12:18:09] task [xgboost.dask-5]:tcp://127.0.0.1:37333 got new rank 5\n",
      "2024-01-25 12:18:09,135 - INFO: - @tracker All of 6 nodes getting started\n",
      "2024-01-25 12:18:46,555 - INFO: - @tracker All nodes finishes job\n",
      "2024-01-25 12:18:46,692 - INFO: - Running model on test data...\n",
      "2024-01-25 12:19:22,144 - INFO: - Compute R2 & MSE scores...\n"
     ]
    },
    {
     "name": "stdout",
     "output_type": "stream",
     "text": [
      "MSE Score : 0.169223\n",
      " R2 Score : 0.000419\n",
      "  Pearson : 0.049118      P: 1.022605e-22\n",
      "--------------------------------------------------------------------------------\n",
      "Training/Test split #3\n"
     ]
    },
    {
     "name": "stderr",
     "output_type": "stream",
     "text": [
      "2024-01-25 12:19:25,407 - INFO: - Building training & test+ DMatrix...\n",
      "2024-01-25 12:21:48,908 - INFO: - Training model...\n",
      "2024-01-25 12:21:48,924 - INFO: - start listen on 10.91.28.16:48173\n",
      "[12:21:49] task [xgboost.dask-0]:tcp://127.0.0.1:32827 got new rank 0\n",
      "[12:21:49] task [xgboost.dask-1]:tcp://127.0.0.1:39069 got new rank 1\n",
      "[12:21:49] task [xgboost.dask-2]:tcp://127.0.0.1:39653 got new rank 2\n",
      "[12:21:49] task [xgboost.dask-3]:tcp://127.0.0.1:44203 got new rank 3\n",
      "[12:21:49] task [xgboost.dask-4]:tcp://127.0.0.1:37877 got new rank 4\n",
      "[12:21:49] task [xgboost.dask-5]:tcp://127.0.0.1:37333 got new rank 5\n",
      "2024-01-25 12:21:49,172 - INFO: - @tracker All of 6 nodes getting started\n",
      "2024-01-25 12:22:26,338 - INFO: - @tracker All nodes finishes job\n",
      "2024-01-25 12:22:26,493 - INFO: - Running model on test data...\n",
      "2024-01-25 12:23:04,099 - INFO: - Compute R2 & MSE scores...\n"
     ]
    },
    {
     "name": "stdout",
     "output_type": "stream",
     "text": [
      "MSE Score : 0.170789\n",
      " R2 Score : 0.000462\n",
      "  Pearson : 0.047393      P: 2.188389e-21\n",
      "--------------------------------------------------------------------------------\n",
      "Training/Test split #4\n"
     ]
    },
    {
     "name": "stderr",
     "output_type": "stream",
     "text": [
      "2024-01-25 12:23:07,406 - INFO: - Building training & test+ DMatrix...\n",
      "2024-01-25 12:25:29,710 - INFO: - Training model...\n",
      "2024-01-25 12:25:29,733 - INFO: - start listen on 10.91.28.16:33171\n",
      "[12:25:30] task [xgboost.dask-0]:tcp://127.0.0.1:32827 got new rank 0\n",
      "[12:25:30] task [xgboost.dask-1]:tcp://127.0.0.1:39069 got new rank 1\n",
      "[12:25:30] task [xgboost.dask-2]:tcp://127.0.0.1:39653 got new rank 2\n",
      "[12:25:30] task [xgboost.dask-3]:tcp://127.0.0.1:44203 got new rank 3\n",
      "[12:25:30] task [xgboost.dask-4]:tcp://127.0.0.1:37877 got new rank 4\n",
      "[12:25:30] task [xgboost.dask-5]:tcp://127.0.0.1:37333 got new rank 5\n",
      "2024-01-25 12:25:30,029 - INFO: - @tracker All of 6 nodes getting started\n",
      "2024-01-25 12:26:08,903 - INFO: - @tracker All nodes finishes job\n",
      "2024-01-25 12:26:09,061 - INFO: - Running model on test data...\n",
      "2024-01-25 12:26:45,348 - INFO: - Compute R2 & MSE scores...\n"
     ]
    },
    {
     "name": "stdout",
     "output_type": "stream",
     "text": [
      "MSE Score : 0.171610\n",
      " R2 Score : 0.000683\n",
      "  Pearson : 0.061980      P: 1.600435e-35\n",
      "--------------------------------------------------------------------------------\n",
      "--------------------------------------------------------------------------------\n",
      "RSME     : Min: 0.16922   mean: 0.17080 +/- 0.00096\n",
      "R^2      : Min: 0.00030    mean: 0.00044 +/- 0.00013\n",
      "Pearson  : Min: 0.00030    mean: 0.00044 +/- 0.00013\n",
      "--------------------------------------------------------------------------------\n",
      "OrderedDict([('rmse', [0.17161340945181702, 0.17161353405752103, 0.17160760543521478, 0.17160767584360528, 0.1716077826578992, 0.17160786097494785, 0.1716079656436262, 0.1716081172395155, 0.1716081339952983, 0.1716081514695841, 0.17160819911283695, 0.17160831049065065, 0.17160846107518704, 0.1716085048719194, 0.1716086109241505, 0.1716087036612531, 0.17160891625932992, 0.17160897402930528, 0.17160901508484425, 0.17160908368407043, 0.17160913952151746, 0.171609257221777, 0.17160930901957125, 0.17160934236841996, 0.1716094051005422, 0.1716092793211967, 0.17160929967070762, 0.17160928945531373, 0.17160924799996358, 0.17160923784774648, 0.17160929551046636, 0.17160931840411223, 0.17160946981657066, 0.17160952979238286, 0.1716095236785279, 0.1716095937278833, 0.1716096166324023, 0.17160979722166977, 0.1716098269645384, 0.17160983061102375, 0.17160975793534264, 0.17160983776220803, 0.1716098585440252, 0.1716100584653556, 0.17161011385584732, 0.1716101527600927, 0.17161029423600985, 0.1716102725999645, 0.17161032638894716, 0.17161038520070035])])\n",
      "<xgboost.core.Booster object at 0x7fdddc468490>\n",
      " Save model to : .\\saved_models\\multiobjective-study-3_trial_018.json\n",
      "[I 2024-01-25 12:26:45,478] Trial 18 finished with values: [0.17080418169498443, 0.00044410026489096757] and parameters: {'learning_rate': 0.0219659634614932, 'min_split_loss': 4.807660874079408, 'min_child_weight': 1.212205108947454, 'max_delta_step': 0.4547613640967352, 'subsample': 0.45798271845244304, 'colsample_bylevel': 0.5407446083311263, 'colsample_bynode': 0.8987219630796335, 'max_depth': 10}. \n",
      " Training model (trial #19) \n",
      "Training/Test split #0\n"
     ]
    },
    {
     "name": "stderr",
     "output_type": "stream",
     "text": [
      "2024-01-25 12:26:49,864 - INFO: - Building training & test+ DMatrix...\n",
      "2024-01-25 12:29:13,044 - INFO: - Training model...\n",
      "2024-01-25 12:29:13,056 - INFO: - start listen on 10.91.28.16:46535\n",
      "[12:29:13] task [xgboost.dask-0]:tcp://127.0.0.1:32827 got new rank 0\n",
      "[12:29:13] task [xgboost.dask-1]:tcp://127.0.0.1:39069 got new rank 1\n",
      "[12:29:13] task [xgboost.dask-2]:tcp://127.0.0.1:39653 got new rank 2\n",
      "[12:29:13] task [xgboost.dask-3]:tcp://127.0.0.1:44203 got new rank 3\n",
      "[12:29:13] task [xgboost.dask-4]:tcp://127.0.0.1:37877 got new rank 4\n",
      "[12:29:13] task [xgboost.dask-5]:tcp://127.0.0.1:37333 got new rank 5\n",
      "2024-01-25 12:29:13,607 - INFO: - @tracker All of 6 nodes getting started\n",
      "2024-01-25 12:29:50,713 - INFO: - @tracker All nodes finishes job\n",
      "2024-01-25 12:29:50,843 - INFO: - Running model on test data...\n",
      "2024-01-25 12:30:27,486 - INFO: - Compute R2 & MSE scores...\n"
     ]
    },
    {
     "name": "stdout",
     "output_type": "stream",
     "text": [
      "MSE Score : 0.170321\n",
      " R2 Score : -0.000053\n",
      "  Pearson : nan      P: nan\n",
      "--------------------------------------------------------------------------------\n",
      "Training/Test split #1\n"
     ]
    },
    {
     "name": "stderr",
     "output_type": "stream",
     "text": [
      "2024-01-25 12:30:30,550 - INFO: - Building training & test+ DMatrix...\n",
      "2024-01-25 12:32:56,428 - INFO: - Training model...\n",
      "2024-01-25 12:32:56,441 - INFO: - start listen on 10.91.28.16:55089\n",
      "[12:32:56] task [xgboost.dask-0]:tcp://127.0.0.1:32827 got new rank 0\n",
      "[12:32:56] task [xgboost.dask-1]:tcp://127.0.0.1:39069 got new rank 1\n",
      "[12:32:56] task [xgboost.dask-2]:tcp://127.0.0.1:39653 got new rank 2\n",
      "[12:32:56] task [xgboost.dask-3]:tcp://127.0.0.1:44203 got new rank 3\n",
      "[12:32:56] task [xgboost.dask-4]:tcp://127.0.0.1:37877 got new rank 4\n",
      "[12:32:56] task [xgboost.dask-5]:tcp://127.0.0.1:37333 got new rank 5\n",
      "2024-01-25 12:32:56,677 - INFO: - @tracker All of 6 nodes getting started\n",
      "2024-01-25 12:33:32,513 - INFO: - @tracker All nodes finishes job\n",
      "2024-01-25 12:33:32,655 - INFO: - Running model on test data...\n",
      "2024-01-25 12:34:10,367 - INFO: - Compute R2 & MSE scores...\n"
     ]
    },
    {
     "name": "stdout",
     "output_type": "stream",
     "text": [
      "MSE Score : 0.170526\n",
      " R2 Score : -0.000010\n",
      "  Pearson : nan      P: nan\n",
      "--------------------------------------------------------------------------------\n",
      "Training/Test split #2\n"
     ]
    },
    {
     "name": "stderr",
     "output_type": "stream",
     "text": [
      "2024-01-25 12:34:13,832 - INFO: - Building training & test+ DMatrix...\n",
      "2024-01-25 12:36:33,964 - INFO: - Training model...\n",
      "2024-01-25 12:36:33,984 - INFO: - start listen on 10.91.28.16:56663\n",
      "[12:36:34] task [xgboost.dask-0]:tcp://127.0.0.1:32827 got new rank 0\n",
      "[12:36:34] task [xgboost.dask-1]:tcp://127.0.0.1:39069 got new rank 1\n",
      "[12:36:34] task [xgboost.dask-2]:tcp://127.0.0.1:39653 got new rank 2\n",
      "[12:36:34] task [xgboost.dask-3]:tcp://127.0.0.1:44203 got new rank 3\n",
      "[12:36:34] task [xgboost.dask-4]:tcp://127.0.0.1:37877 got new rank 4\n",
      "[12:36:34] task [xgboost.dask-5]:tcp://127.0.0.1:37333 got new rank 5\n",
      "2024-01-25 12:36:34,252 - INFO: - @tracker All of 6 nodes getting started\n",
      "2024-01-25 12:37:07,311 - INFO: - @tracker All nodes finishes job\n",
      "2024-01-25 12:37:07,445 - INFO: - Running model on test data...\n",
      "2024-01-25 12:37:44,590 - INFO: - Compute R2 & MSE scores...\n"
     ]
    },
    {
     "name": "stdout",
     "output_type": "stream",
     "text": [
      "MSE Score : 0.170990\n",
      " R2 Score : -0.000155\n",
      "  Pearson : nan      P: nan\n",
      "--------------------------------------------------------------------------------\n",
      "Training/Test split #3\n"
     ]
    },
    {
     "name": "stderr",
     "output_type": "stream",
     "text": [
      "2024-01-25 12:37:47,550 - INFO: - Building training & test+ DMatrix...\n",
      "2024-01-25 12:40:08,883 - INFO: - Training model...\n",
      "2024-01-25 12:40:08,893 - INFO: - start listen on 10.91.28.16:44531\n",
      "[12:40:09] task [xgboost.dask-0]:tcp://127.0.0.1:32827 got new rank 0\n",
      "[12:40:09] task [xgboost.dask-1]:tcp://127.0.0.1:39069 got new rank 1\n",
      "[12:40:09] task [xgboost.dask-2]:tcp://127.0.0.1:39653 got new rank 2\n",
      "[12:40:09] task [xgboost.dask-3]:tcp://127.0.0.1:44203 got new rank 3\n",
      "[12:40:09] task [xgboost.dask-4]:tcp://127.0.0.1:37877 got new rank 4\n",
      "[12:40:09] task [xgboost.dask-5]:tcp://127.0.0.1:37333 got new rank 5\n",
      "2024-01-25 12:40:09,214 - INFO: - @tracker All of 6 nodes getting started\n",
      "2024-01-25 12:40:42,860 - INFO: - @tracker All nodes finishes job\n",
      "2024-01-25 12:40:42,999 - INFO: - Running model on test data...\n",
      "2024-01-25 12:41:17,902 - INFO: - Compute R2 & MSE scores...\n"
     ]
    },
    {
     "name": "stdout",
     "output_type": "stream",
     "text": [
      "MSE Score : 0.172322\n",
      " R2 Score : -0.000089\n",
      "  Pearson : nan      P: nan\n",
      "--------------------------------------------------------------------------------\n",
      "Training/Test split #4\n"
     ]
    },
    {
     "name": "stderr",
     "output_type": "stream",
     "text": [
      "2024-01-25 12:41:21,320 - INFO: - Building training & test+ DMatrix...\n",
      "2024-01-25 12:43:45,110 - INFO: - Training model...\n",
      "2024-01-25 12:43:45,120 - INFO: - start listen on 10.91.28.16:45235\n",
      "[12:43:45] task [xgboost.dask-0]:tcp://127.0.0.1:32827 got new rank 0\n",
      "[12:43:45] task [xgboost.dask-1]:tcp://127.0.0.1:39069 got new rank 1\n",
      "[12:43:45] task [xgboost.dask-2]:tcp://127.0.0.1:39653 got new rank 2\n",
      "[12:43:45] task [xgboost.dask-3]:tcp://127.0.0.1:44203 got new rank 3\n",
      "[12:43:45] task [xgboost.dask-4]:tcp://127.0.0.1:37877 got new rank 4\n",
      "[12:43:45] task [xgboost.dask-5]:tcp://127.0.0.1:37333 got new rank 5\n",
      "2024-01-25 12:43:45,381 - INFO: - @tracker All of 6 nodes getting started\n",
      "2024-01-25 12:44:19,778 - INFO: - @tracker All nodes finishes job\n",
      "2024-01-25 12:44:19,931 - INFO: - Running model on test data...\n",
      "2024-01-25 12:44:55,428 - INFO: - Compute R2 & MSE scores...\n"
     ]
    },
    {
     "name": "stdout",
     "output_type": "stream",
     "text": [
      "MSE Score : 0.170093\n",
      " R2 Score : -0.000197\n",
      "  Pearson : nan      P: nan\n",
      "--------------------------------------------------------------------------------\n",
      "--------------------------------------------------------------------------------\n",
      "RSME     : Min: 0.17009   mean: 0.17085 +/- 0.00079\n",
      "R^2      : Min: -0.00020    mean: -0.00010 +/- 0.00007\n",
      "Pearson  : Min: -0.00020    mean: -0.00010 +/- 0.00007\n",
      "--------------------------------------------------------------------------------\n",
      "OrderedDict([('rmse', [0.1700826882390488, 0.1700852746656202, 0.17008326358676853, 0.17008660726306837, 0.17008659781919652, 0.17008670610382218, 0.1700869954045894, 0.1700883289334388, 0.17008672757654142, 0.1700859777971395, 0.1700871558728946, 0.17008441801233873, 0.17008490475759697, 0.1700863601531851, 0.17008656602408712, 0.17008549748673044, 0.1700849403078332, 0.1700877114442133, 0.1700882562862803, 0.17009065772699625, 0.17008846597257135, 0.17008673466083105, 0.17008893586427265, 0.17008686893648425, 0.1700880114559051, 0.17009138496038645, 0.17009469439355643, 0.1700893151257896, 0.17008902235125037, 0.17008873901403984, 0.17008767664381705, 0.17008777226837057, 0.17008461712088932, 0.17008490251439704, 0.1700848036501332, 0.17008535246242562, 0.17008732451402786, 0.17008600028192097, 0.1700883001237549, 0.1700865356157416, 0.17008668018495413, 0.17008757872555094, 0.1700866670249055, 0.17008744270970524, 0.17008870243371996, 0.17008877614774107, 0.17008590106336072, 0.17008914755484297, 0.1700908996790551, 0.17009333989936182])])\n",
      "<xgboost.core.Booster object at 0x7fdd4a1e4090>\n",
      " Save model to : .\\saved_models\\multiobjective-study-3_trial_019.json\n",
      "[I 2024-01-25 12:44:55,551] Trial 19 finished with values: [0.17085035741329194, -0.00010073782429405042] and parameters: {'learning_rate': 0.30209596309384795, 'min_split_loss': 8.0137060065389, 'min_child_weight': 3.3561307137823637, 'max_delta_step': 2.6517677981638887, 'subsample': 0.4588770999333889, 'colsample_bylevel': 0.9852524238600462, 'colsample_bynode': 0.9933851447489894, 'max_depth': 5}. \n",
      " Training model (trial #20) \n",
      "Training/Test split #0\n"
     ]
    },
    {
     "name": "stderr",
     "output_type": "stream",
     "text": [
      "2024-01-25 12:44:59,758 - INFO: - Building training & test+ DMatrix...\n",
      "2024-01-25 12:47:21,843 - INFO: - Training model...\n",
      "2024-01-25 12:47:21,855 - INFO: - start listen on 10.91.28.16:47305\n",
      "[12:47:21] task [xgboost.dask-0]:tcp://127.0.0.1:32827 got new rank 0\n",
      "[12:47:21] task [xgboost.dask-1]:tcp://127.0.0.1:39069 got new rank 1\n",
      "[12:47:21] task [xgboost.dask-2]:tcp://127.0.0.1:39653 got new rank 2\n",
      "[12:47:21] task [xgboost.dask-3]:tcp://127.0.0.1:44203 got new rank 3\n",
      "[12:47:21] task [xgboost.dask-4]:tcp://127.0.0.1:37877 got new rank 4\n",
      "[12:47:21] task [xgboost.dask-5]:tcp://127.0.0.1:37333 got new rank 5\n",
      "2024-01-25 12:47:21,966 - INFO: - @tracker All of 6 nodes getting started\n",
      "2024-01-25 12:48:09,575 - INFO: - @tracker All nodes finishes job\n",
      "2024-01-25 12:48:09,711 - INFO: - Running model on test data...\n",
      "2024-01-25 12:48:47,882 - INFO: - Compute R2 & MSE scores...\n"
     ]
    },
    {
     "name": "stdout",
     "output_type": "stream",
     "text": [
      "MSE Score : 0.170271\n",
      " R2 Score : 0.006353\n",
      "  Pearson : 0.104754      P: 7.426097e-98\n",
      "--------------------------------------------------------------------------------\n",
      "Training/Test split #1\n"
     ]
    },
    {
     "name": "stderr",
     "output_type": "stream",
     "text": [
      "2024-01-25 12:48:50,850 - INFO: - Building training & test+ DMatrix...\n",
      "2024-01-25 12:51:16,140 - INFO: - Training model...\n",
      "2024-01-25 12:51:16,155 - INFO: - start listen on 10.91.28.16:58857\n",
      "[12:51:16] task [xgboost.dask-0]:tcp://127.0.0.1:32827 got new rank 0\n",
      "[12:51:16] task [xgboost.dask-1]:tcp://127.0.0.1:39069 got new rank 1\n",
      "[12:51:16] task [xgboost.dask-2]:tcp://127.0.0.1:39653 got new rank 2\n",
      "[12:51:16] task [xgboost.dask-3]:tcp://127.0.0.1:44203 got new rank 3\n",
      "[12:51:16] task [xgboost.dask-4]:tcp://127.0.0.1:37877 got new rank 4\n",
      "[12:51:16] task [xgboost.dask-5]:tcp://127.0.0.1:37333 got new rank 5\n",
      "2024-01-25 12:51:16,357 - INFO: - @tracker All of 6 nodes getting started\n",
      "2024-01-25 12:51:56,093 - INFO: - @tracker All nodes finishes job\n",
      "2024-01-25 12:51:56,242 - INFO: - Running model on test data...\n",
      "2024-01-25 12:52:27,536 - ERROR: - Task exception was never retrieved\n",
      "future: <Task finished name='Task-2415655' coro=<Client._gather.<locals>.wait() done, defined at /home/kevin/miniforge3/envs/cp/lib/python3.11/site-packages/distributed/client.py:2208> exception=AllExit()>\n",
      "Traceback (most recent call last):\n",
      "  File \"/home/kevin/miniforge3/envs/cp/lib/python3.11/site-packages/distributed/client.py\", line 2217, in wait\n",
      "    raise AllExit()\n",
      "distributed.client.AllExit\n",
      "2024-01-25 12:52:27,538 - ERROR: - Task exception was never retrieved\n",
      "future: <Task finished name='Task-2415643' coro=<Client._gather.<locals>.wait() done, defined at /home/kevin/miniforge3/envs/cp/lib/python3.11/site-packages/distributed/client.py:2208> exception=AllExit()>\n",
      "Traceback (most recent call last):\n",
      "  File \"/home/kevin/miniforge3/envs/cp/lib/python3.11/site-packages/distributed/client.py\", line 2217, in wait\n",
      "    raise AllExit()\n",
      "distributed.client.AllExit\n",
      "2024-01-25 12:52:27,539 - ERROR: - Task exception was never retrieved\n",
      "future: <Task finished name='Task-2415622' coro=<Client._gather.<locals>.wait() done, defined at /home/kevin/miniforge3/envs/cp/lib/python3.11/site-packages/distributed/client.py:2208> exception=AllExit()>\n",
      "Traceback (most recent call last):\n",
      "  File \"/home/kevin/miniforge3/envs/cp/lib/python3.11/site-packages/distributed/client.py\", line 2217, in wait\n",
      "    raise AllExit()\n",
      "distributed.client.AllExit\n",
      "2024-01-25 12:52:27,540 - ERROR: - Task exception was never retrieved\n",
      "future: <Task finished name='Task-2415568' coro=<Client._gather.<locals>.wait() done, defined at /home/kevin/miniforge3/envs/cp/lib/python3.11/site-packages/distributed/client.py:2208> exception=AllExit()>\n",
      "Traceback (most recent call last):\n",
      "  File \"/home/kevin/miniforge3/envs/cp/lib/python3.11/site-packages/distributed/client.py\", line 2217, in wait\n",
      "    raise AllExit()\n",
      "distributed.client.AllExit\n",
      "2024-01-25 12:52:27,540 - ERROR: - Task exception was never retrieved\n",
      "future: <Task finished name='Task-2415614' coro=<Client._gather.<locals>.wait() done, defined at /home/kevin/miniforge3/envs/cp/lib/python3.11/site-packages/distributed/client.py:2208> exception=AllExit()>\n",
      "Traceback (most recent call last):\n",
      "  File \"/home/kevin/miniforge3/envs/cp/lib/python3.11/site-packages/distributed/client.py\", line 2217, in wait\n",
      "    raise AllExit()\n",
      "distributed.client.AllExit\n",
      "2024-01-25 12:52:27,543 - ERROR: - Task exception was never retrieved\n",
      "future: <Task finished name='Task-2415641' coro=<Client._gather.<locals>.wait() done, defined at /home/kevin/miniforge3/envs/cp/lib/python3.11/site-packages/distributed/client.py:2208> exception=AllExit()>\n",
      "Traceback (most recent call last):\n",
      "  File \"/home/kevin/miniforge3/envs/cp/lib/python3.11/site-packages/distributed/client.py\", line 2217, in wait\n",
      "    raise AllExit()\n",
      "distributed.client.AllExit\n",
      "2024-01-25 12:52:27,545 - ERROR: - Task exception was never retrieved\n",
      "future: <Task finished name='Task-2415639' coro=<Client._gather.<locals>.wait() done, defined at /home/kevin/miniforge3/envs/cp/lib/python3.11/site-packages/distributed/client.py:2208> exception=AllExit()>\n",
      "Traceback (most recent call last):\n",
      "  File \"/home/kevin/miniforge3/envs/cp/lib/python3.11/site-packages/distributed/client.py\", line 2217, in wait\n",
      "    raise AllExit()\n",
      "distributed.client.AllExit\n",
      "2024-01-25 12:52:27,550 - ERROR: - Task exception was never retrieved\n",
      "future: <Task finished name='Task-2415649' coro=<Client._gather.<locals>.wait() done, defined at /home/kevin/miniforge3/envs/cp/lib/python3.11/site-packages/distributed/client.py:2208> exception=AllExit()>\n",
      "Traceback (most recent call last):\n",
      "  File \"/home/kevin/miniforge3/envs/cp/lib/python3.11/site-packages/distributed/client.py\", line 2217, in wait\n",
      "    raise AllExit()\n",
      "distributed.client.AllExit\n",
      "2024-01-25 12:52:27,554 - ERROR: - Task exception was never retrieved\n",
      "future: <Task finished name='Task-2415629' coro=<Client._gather.<locals>.wait() done, defined at /home/kevin/miniforge3/envs/cp/lib/python3.11/site-packages/distributed/client.py:2208> exception=AllExit()>\n",
      "Traceback (most recent call last):\n",
      "  File \"/home/kevin/miniforge3/envs/cp/lib/python3.11/site-packages/distributed/client.py\", line 2217, in wait\n",
      "    raise AllExit()\n",
      "distributed.client.AllExit\n",
      "2024-01-25 12:52:27,557 - ERROR: - Task exception was never retrieved\n",
      "future: <Task finished name='Task-2415640' coro=<Client._gather.<locals>.wait() done, defined at /home/kevin/miniforge3/envs/cp/lib/python3.11/site-packages/distributed/client.py:2208> exception=AllExit()>\n",
      "Traceback (most recent call last):\n",
      "  File \"/home/kevin/miniforge3/envs/cp/lib/python3.11/site-packages/distributed/client.py\", line 2217, in wait\n",
      "    raise AllExit()\n",
      "distributed.client.AllExit\n"
     ]
    },
    {
     "name": "stdout",
     "output_type": "stream",
     "text": [
      "[W 2024-01-25 12:52:27,549] Trial 20 failed with parameters: {'learning_rate': 0.0256262805613677, 'min_split_loss': 1.454885521117758, 'min_child_weight': 6.185130597716093, 'max_delta_step': 2.6757333500785374, 'subsample': 0.5240162595990556, 'colsample_bylevel': 0.5927672596396758, 'colsample_bynode': 0.9500893724669217, 'max_depth': 3} because of the following error: KeyboardInterrupt().\n",
      "Traceback (most recent call last):\n",
      "  File \"/home/kevin/miniforge3/envs/cp/lib/python3.11/site-packages/optuna/study/_optimize.py\", line 200, in _run_trial\n",
      "    value_or_values = func(trial)\n",
      "                      ^^^^^^^^^^^\n",
      "  File \"/tmp/ipykernel_2037098/2973932438.py\", line 9, in objective\n",
      "    model, mse_score, pearson_score =  train_model(iter_files, **params)\n",
      "                                       ^^^^^^^^^^^^^^^^^^^^^^^^^^^^^^^^^\n",
      "  File \"/tmp/ipykernel_2037098/3930006504.py\", line 35, in train_model\n",
      "    y_test_c = y_test.compute().to_numpy().squeeze()\n",
      "               ^^^^^^^^^^^^^^^^\n",
      "  File \"/home/kevin/miniforge3/envs/cp/lib/python3.11/site-packages/dask/base.py\", line 342, in compute\n",
      "    (result,) = compute(self, traverse=False, **kwargs)\n",
      "                ^^^^^^^^^^^^^^^^^^^^^^^^^^^^^^^^^^^^^^^\n",
      "  File \"/home/kevin/miniforge3/envs/cp/lib/python3.11/site-packages/dask/base.py\", line 628, in compute\n",
      "    results = schedule(dsk, keys, **kwargs)\n",
      "              ^^^^^^^^^^^^^^^^^^^^^^^^^^^^^\n",
      "  File \"/home/kevin/miniforge3/envs/cp/lib/python3.11/threading.py\", line 622, in wait\n",
      "    signaled = self._cond.wait(timeout)\n",
      "               ^^^^^^^^^^^^^^^^^^^^^^^^\n",
      "  File \"/home/kevin/miniforge3/envs/cp/lib/python3.11/threading.py\", line 324, in wait\n",
      "    gotit = waiter.acquire(True, timeout)\n",
      "            ^^^^^^^^^^^^^^^^^^^^^^^^^^^^^\n",
      "KeyboardInterrupt\n",
      "[W 2024-01-25 12:52:27,555] Trial 20 failed with value None.\n"
     ]
    },
    {
     "name": "stderr",
     "output_type": "stream",
     "text": [
      "2024-01-25 12:52:28,080 - ERROR: - Task exception was never retrieved\n",
      "future: <Task finished name='Task-2415617' coro=<Client._gather.<locals>.wait() done, defined at /home/kevin/miniforge3/envs/cp/lib/python3.11/site-packages/distributed/client.py:2208> exception=AllExit()>\n",
      "Traceback (most recent call last):\n",
      "  File \"/home/kevin/miniforge3/envs/cp/lib/python3.11/site-packages/distributed/client.py\", line 2217, in wait\n",
      "    raise AllExit()\n",
      "distributed.client.AllExit\n",
      "2024-01-25 12:52:28,083 - ERROR: - Task exception was never retrieved\n",
      "future: <Task finished name='Task-2415621' coro=<Client._gather.<locals>.wait() done, defined at /home/kevin/miniforge3/envs/cp/lib/python3.11/site-packages/distributed/client.py:2208> exception=AllExit()>\n",
      "Traceback (most recent call last):\n",
      "  File \"/home/kevin/miniforge3/envs/cp/lib/python3.11/site-packages/distributed/client.py\", line 2217, in wait\n",
      "    raise AllExit()\n",
      "distributed.client.AllExit\n",
      "2024-01-25 12:52:28,084 - ERROR: - Task exception was never retrieved\n",
      "future: <Task finished name='Task-2415576' coro=<Client._gather.<locals>.wait() done, defined at /home/kevin/miniforge3/envs/cp/lib/python3.11/site-packages/distributed/client.py:2208> exception=AllExit()>\n",
      "Traceback (most recent call last):\n",
      "  File \"/home/kevin/miniforge3/envs/cp/lib/python3.11/site-packages/distributed/client.py\", line 2217, in wait\n",
      "    raise AllExit()\n",
      "distributed.client.AllExit\n",
      "2024-01-25 12:52:28,086 - ERROR: - Task exception was never retrieved\n",
      "future: <Task finished name='Task-2415603' coro=<Client._gather.<locals>.wait() done, defined at /home/kevin/miniforge3/envs/cp/lib/python3.11/site-packages/distributed/client.py:2208> exception=AllExit()>\n",
      "Traceback (most recent call last):\n",
      "  File \"/home/kevin/miniforge3/envs/cp/lib/python3.11/site-packages/distributed/client.py\", line 2217, in wait\n",
      "    raise AllExit()\n",
      "distributed.client.AllExit\n",
      "2024-01-25 12:52:28,087 - ERROR: - Task exception was never retrieved\n",
      "future: <Task finished name='Task-2415652' coro=<Client._gather.<locals>.wait() done, defined at /home/kevin/miniforge3/envs/cp/lib/python3.11/site-packages/distributed/client.py:2208> exception=AllExit()>\n",
      "Traceback (most recent call last):\n",
      "  File \"/home/kevin/miniforge3/envs/cp/lib/python3.11/site-packages/distributed/client.py\", line 2217, in wait\n",
      "    raise AllExit()\n",
      "distributed.client.AllExit\n",
      "2024-01-25 12:52:28,089 - ERROR: - Task exception was never retrieved\n",
      "future: <Task finished name='Task-2415634' coro=<Client._gather.<locals>.wait() done, defined at /home/kevin/miniforge3/envs/cp/lib/python3.11/site-packages/distributed/client.py:2208> exception=AllExit()>\n",
      "Traceback (most recent call last):\n",
      "  File \"/home/kevin/miniforge3/envs/cp/lib/python3.11/site-packages/distributed/client.py\", line 2217, in wait\n",
      "    raise AllExit()\n",
      "distributed.client.AllExit\n",
      "2024-01-25 12:52:28,091 - ERROR: - Task exception was never retrieved\n",
      "future: <Task finished name='Task-2415572' coro=<Client._gather.<locals>.wait() done, defined at /home/kevin/miniforge3/envs/cp/lib/python3.11/site-packages/distributed/client.py:2208> exception=AllExit()>\n",
      "Traceback (most recent call last):\n",
      "  File \"/home/kevin/miniforge3/envs/cp/lib/python3.11/site-packages/distributed/client.py\", line 2217, in wait\n",
      "    raise AllExit()\n",
      "distributed.client.AllExit\n",
      "2024-01-25 12:52:28,092 - ERROR: - Task exception was never retrieved\n",
      "future: <Task finished name='Task-2415648' coro=<Client._gather.<locals>.wait() done, defined at /home/kevin/miniforge3/envs/cp/lib/python3.11/site-packages/distributed/client.py:2208> exception=AllExit()>\n",
      "Traceback (most recent call last):\n",
      "  File \"/home/kevin/miniforge3/envs/cp/lib/python3.11/site-packages/distributed/client.py\", line 2217, in wait\n",
      "    raise AllExit()\n",
      "distributed.client.AllExit\n",
      "2024-01-25 12:52:28,093 - ERROR: - Task exception was never retrieved\n",
      "future: <Task finished name='Task-2415605' coro=<Client._gather.<locals>.wait() done, defined at /home/kevin/miniforge3/envs/cp/lib/python3.11/site-packages/distributed/client.py:2208> exception=AllExit()>\n",
      "Traceback (most recent call last):\n",
      "  File \"/home/kevin/miniforge3/envs/cp/lib/python3.11/site-packages/distributed/client.py\", line 2217, in wait\n",
      "    raise AllExit()\n",
      "distributed.client.AllExit\n",
      "2024-01-25 12:52:28,095 - ERROR: - Task exception was never retrieved\n",
      "future: <Task finished name='Task-2415647' coro=<Client._gather.<locals>.wait() done, defined at /home/kevin/miniforge3/envs/cp/lib/python3.11/site-packages/distributed/client.py:2208> exception=AllExit()>\n",
      "Traceback (most recent call last):\n",
      "  File \"/home/kevin/miniforge3/envs/cp/lib/python3.11/site-packages/distributed/client.py\", line 2217, in wait\n",
      "    raise AllExit()\n",
      "distributed.client.AllExit\n",
      "2024-01-25 12:52:28,096 - ERROR: - Task exception was never retrieved\n",
      "future: <Task finished name='Task-2415606' coro=<Client._gather.<locals>.wait() done, defined at /home/kevin/miniforge3/envs/cp/lib/python3.11/site-packages/distributed/client.py:2208> exception=AllExit()>\n",
      "Traceback (most recent call last):\n",
      "  File \"/home/kevin/miniforge3/envs/cp/lib/python3.11/site-packages/distributed/client.py\", line 2217, in wait\n",
      "    raise AllExit()\n",
      "distributed.client.AllExit\n",
      "2024-01-25 12:52:28,097 - ERROR: - Task exception was never retrieved\n",
      "future: <Task finished name='Task-2415584' coro=<Client._gather.<locals>.wait() done, defined at /home/kevin/miniforge3/envs/cp/lib/python3.11/site-packages/distributed/client.py:2208> exception=AllExit()>\n",
      "Traceback (most recent call last):\n",
      "  File \"/home/kevin/miniforge3/envs/cp/lib/python3.11/site-packages/distributed/client.py\", line 2217, in wait\n",
      "    raise AllExit()\n",
      "distributed.client.AllExit\n",
      "2024-01-25 12:52:28,537 - distributed.nanny - WARNING - Restarting worker\n",
      "2024-01-25 12:52:28,668 - distributed.nanny - WARNING - Restarting worker\n",
      "2024-01-25 12:52:28,876 - distributed.nanny - WARNING - Restarting worker\n"
     ]
    },
    {
     "ename": "KeyboardInterrupt",
     "evalue": "",
     "output_type": "error",
     "traceback": [
      "\u001b[0;31m---------------------------------------------------------------------------\u001b[0m",
      "\u001b[0;31mKeyboardInterrupt\u001b[0m                         Traceback (most recent call last)",
      "Cell \u001b[0;32mIn[33], line 3\u001b[0m\n\u001b[1;32m      1\u001b[0m start \u001b[38;5;241m=\u001b[39m datetime\u001b[38;5;241m.\u001b[39mnow()\n\u001b[0;32m----> 3\u001b[0m \u001b[43mstudy\u001b[49m\u001b[38;5;241;43m.\u001b[39;49m\u001b[43moptimize\u001b[49m\u001b[43m(\u001b[49m\u001b[43mobjective\u001b[49m\u001b[43m,\u001b[49m\u001b[43m \u001b[49m\u001b[43mn_trials\u001b[49m\u001b[38;5;241;43m=\u001b[39;49m\u001b[38;5;241;43m25\u001b[39;49m\u001b[43m,\u001b[49m\u001b[43m \u001b[49m\u001b[43mtimeout\u001b[49m\u001b[38;5;241;43m=\u001b[39;49m\u001b[38;5;241;43m3600\u001b[39;49m\u001b[38;5;241;43m*\u001b[39;49m\u001b[38;5;241;43m8\u001b[39;49m\u001b[43m,\u001b[49m\u001b[43m \u001b[49m\u001b[43mgc_after_trial\u001b[49m\u001b[38;5;241;43m=\u001b[39;49m\u001b[38;5;28;43;01mTrue\u001b[39;49;00m\u001b[43m,\u001b[49m\u001b[43m \u001b[49m\u001b[43mshow_progress_bar\u001b[49m\u001b[38;5;241;43m=\u001b[39;49m\u001b[38;5;28;43;01mTrue\u001b[39;49;00m\u001b[43m)\u001b[49m\n\u001b[1;32m      5\u001b[0m \u001b[38;5;28mprint\u001b[39m(\u001b[38;5;124mf\u001b[39m\u001b[38;5;124m\"\u001b[39m\u001b[38;5;124mTotal time:  \u001b[39m\u001b[38;5;132;01m{\u001b[39;00mdatetime\u001b[38;5;241m.\u001b[39mnow()\u001b[38;5;250m \u001b[39m\u001b[38;5;241m-\u001b[39m\u001b[38;5;250m \u001b[39mstart\u001b[38;5;132;01m}\u001b[39;00m\u001b[38;5;124m\"\u001b[39m)\n",
      "File \u001b[0;32m~/miniforge3/envs/cp/lib/python3.11/site-packages/optuna/study/study.py:451\u001b[0m, in \u001b[0;36mStudy.optimize\u001b[0;34m(self, func, n_trials, timeout, n_jobs, catch, callbacks, gc_after_trial, show_progress_bar)\u001b[0m\n\u001b[1;32m    348\u001b[0m \u001b[38;5;28;01mdef\u001b[39;00m \u001b[38;5;21moptimize\u001b[39m(\n\u001b[1;32m    349\u001b[0m     \u001b[38;5;28mself\u001b[39m,\n\u001b[1;32m    350\u001b[0m     func: ObjectiveFuncType,\n\u001b[0;32m   (...)\u001b[0m\n\u001b[1;32m    357\u001b[0m     show_progress_bar: \u001b[38;5;28mbool\u001b[39m \u001b[38;5;241m=\u001b[39m \u001b[38;5;28;01mFalse\u001b[39;00m,\n\u001b[1;32m    358\u001b[0m ) \u001b[38;5;241m-\u001b[39m\u001b[38;5;241m>\u001b[39m \u001b[38;5;28;01mNone\u001b[39;00m:\n\u001b[1;32m    359\u001b[0m \u001b[38;5;250m    \u001b[39m\u001b[38;5;124;03m\"\"\"Optimize an objective function.\u001b[39;00m\n\u001b[1;32m    360\u001b[0m \n\u001b[1;32m    361\u001b[0m \u001b[38;5;124;03m    Optimization is done by choosing a suitable set of hyperparameter values from a given\u001b[39;00m\n\u001b[0;32m   (...)\u001b[0m\n\u001b[1;32m    449\u001b[0m \u001b[38;5;124;03m            If nested invocation of this method occurs.\u001b[39;00m\n\u001b[1;32m    450\u001b[0m \u001b[38;5;124;03m    \"\"\"\u001b[39;00m\n\u001b[0;32m--> 451\u001b[0m     \u001b[43m_optimize\u001b[49m\u001b[43m(\u001b[49m\n\u001b[1;32m    452\u001b[0m \u001b[43m        \u001b[49m\u001b[43mstudy\u001b[49m\u001b[38;5;241;43m=\u001b[39;49m\u001b[38;5;28;43mself\u001b[39;49m\u001b[43m,\u001b[49m\n\u001b[1;32m    453\u001b[0m \u001b[43m        \u001b[49m\u001b[43mfunc\u001b[49m\u001b[38;5;241;43m=\u001b[39;49m\u001b[43mfunc\u001b[49m\u001b[43m,\u001b[49m\n\u001b[1;32m    454\u001b[0m \u001b[43m        \u001b[49m\u001b[43mn_trials\u001b[49m\u001b[38;5;241;43m=\u001b[39;49m\u001b[43mn_trials\u001b[49m\u001b[43m,\u001b[49m\n\u001b[1;32m    455\u001b[0m \u001b[43m        \u001b[49m\u001b[43mtimeout\u001b[49m\u001b[38;5;241;43m=\u001b[39;49m\u001b[43mtimeout\u001b[49m\u001b[43m,\u001b[49m\n\u001b[1;32m    456\u001b[0m \u001b[43m        \u001b[49m\u001b[43mn_jobs\u001b[49m\u001b[38;5;241;43m=\u001b[39;49m\u001b[43mn_jobs\u001b[49m\u001b[43m,\u001b[49m\n\u001b[1;32m    457\u001b[0m \u001b[43m        \u001b[49m\u001b[43mcatch\u001b[49m\u001b[38;5;241;43m=\u001b[39;49m\u001b[38;5;28;43mtuple\u001b[39;49m\u001b[43m(\u001b[49m\u001b[43mcatch\u001b[49m\u001b[43m)\u001b[49m\u001b[43m \u001b[49m\u001b[38;5;28;43;01mif\u001b[39;49;00m\u001b[43m \u001b[49m\u001b[38;5;28;43misinstance\u001b[39;49m\u001b[43m(\u001b[49m\u001b[43mcatch\u001b[49m\u001b[43m,\u001b[49m\u001b[43m \u001b[49m\u001b[43mIterable\u001b[49m\u001b[43m)\u001b[49m\u001b[43m \u001b[49m\u001b[38;5;28;43;01melse\u001b[39;49;00m\u001b[43m \u001b[49m\u001b[43m(\u001b[49m\u001b[43mcatch\u001b[49m\u001b[43m,\u001b[49m\u001b[43m)\u001b[49m\u001b[43m,\u001b[49m\n\u001b[1;32m    458\u001b[0m \u001b[43m        \u001b[49m\u001b[43mcallbacks\u001b[49m\u001b[38;5;241;43m=\u001b[39;49m\u001b[43mcallbacks\u001b[49m\u001b[43m,\u001b[49m\n\u001b[1;32m    459\u001b[0m \u001b[43m        \u001b[49m\u001b[43mgc_after_trial\u001b[49m\u001b[38;5;241;43m=\u001b[39;49m\u001b[43mgc_after_trial\u001b[49m\u001b[43m,\u001b[49m\n\u001b[1;32m    460\u001b[0m \u001b[43m        \u001b[49m\u001b[43mshow_progress_bar\u001b[49m\u001b[38;5;241;43m=\u001b[39;49m\u001b[43mshow_progress_bar\u001b[49m\u001b[43m,\u001b[49m\n\u001b[1;32m    461\u001b[0m \u001b[43m    \u001b[49m\u001b[43m)\u001b[49m\n",
      "File \u001b[0;32m~/miniforge3/envs/cp/lib/python3.11/site-packages/optuna/study/_optimize.py:66\u001b[0m, in \u001b[0;36m_optimize\u001b[0;34m(study, func, n_trials, timeout, n_jobs, catch, callbacks, gc_after_trial, show_progress_bar)\u001b[0m\n\u001b[1;32m     64\u001b[0m \u001b[38;5;28;01mtry\u001b[39;00m:\n\u001b[1;32m     65\u001b[0m     \u001b[38;5;28;01mif\u001b[39;00m n_jobs \u001b[38;5;241m==\u001b[39m \u001b[38;5;241m1\u001b[39m:\n\u001b[0;32m---> 66\u001b[0m         \u001b[43m_optimize_sequential\u001b[49m\u001b[43m(\u001b[49m\n\u001b[1;32m     67\u001b[0m \u001b[43m            \u001b[49m\u001b[43mstudy\u001b[49m\u001b[43m,\u001b[49m\n\u001b[1;32m     68\u001b[0m \u001b[43m            \u001b[49m\u001b[43mfunc\u001b[49m\u001b[43m,\u001b[49m\n\u001b[1;32m     69\u001b[0m \u001b[43m            \u001b[49m\u001b[43mn_trials\u001b[49m\u001b[43m,\u001b[49m\n\u001b[1;32m     70\u001b[0m \u001b[43m            \u001b[49m\u001b[43mtimeout\u001b[49m\u001b[43m,\u001b[49m\n\u001b[1;32m     71\u001b[0m \u001b[43m            \u001b[49m\u001b[43mcatch\u001b[49m\u001b[43m,\u001b[49m\n\u001b[1;32m     72\u001b[0m \u001b[43m            \u001b[49m\u001b[43mcallbacks\u001b[49m\u001b[43m,\u001b[49m\n\u001b[1;32m     73\u001b[0m \u001b[43m            \u001b[49m\u001b[43mgc_after_trial\u001b[49m\u001b[43m,\u001b[49m\n\u001b[1;32m     74\u001b[0m \u001b[43m            \u001b[49m\u001b[43mreseed_sampler_rng\u001b[49m\u001b[38;5;241;43m=\u001b[39;49m\u001b[38;5;28;43;01mFalse\u001b[39;49;00m\u001b[43m,\u001b[49m\n\u001b[1;32m     75\u001b[0m \u001b[43m            \u001b[49m\u001b[43mtime_start\u001b[49m\u001b[38;5;241;43m=\u001b[39;49m\u001b[38;5;28;43;01mNone\u001b[39;49;00m\u001b[43m,\u001b[49m\n\u001b[1;32m     76\u001b[0m \u001b[43m            \u001b[49m\u001b[43mprogress_bar\u001b[49m\u001b[38;5;241;43m=\u001b[39;49m\u001b[43mprogress_bar\u001b[49m\u001b[43m,\u001b[49m\n\u001b[1;32m     77\u001b[0m \u001b[43m        \u001b[49m\u001b[43m)\u001b[49m\n\u001b[1;32m     78\u001b[0m     \u001b[38;5;28;01melse\u001b[39;00m:\n\u001b[1;32m     79\u001b[0m         \u001b[38;5;28;01mif\u001b[39;00m n_jobs \u001b[38;5;241m==\u001b[39m \u001b[38;5;241m-\u001b[39m\u001b[38;5;241m1\u001b[39m:\n",
      "File \u001b[0;32m~/miniforge3/envs/cp/lib/python3.11/site-packages/optuna/study/_optimize.py:163\u001b[0m, in \u001b[0;36m_optimize_sequential\u001b[0;34m(study, func, n_trials, timeout, catch, callbacks, gc_after_trial, reseed_sampler_rng, time_start, progress_bar)\u001b[0m\n\u001b[1;32m    160\u001b[0m         \u001b[38;5;28;01mbreak\u001b[39;00m\n\u001b[1;32m    162\u001b[0m \u001b[38;5;28;01mtry\u001b[39;00m:\n\u001b[0;32m--> 163\u001b[0m     frozen_trial \u001b[38;5;241m=\u001b[39m \u001b[43m_run_trial\u001b[49m\u001b[43m(\u001b[49m\u001b[43mstudy\u001b[49m\u001b[43m,\u001b[49m\u001b[43m \u001b[49m\u001b[43mfunc\u001b[49m\u001b[43m,\u001b[49m\u001b[43m \u001b[49m\u001b[43mcatch\u001b[49m\u001b[43m)\u001b[49m\n\u001b[1;32m    164\u001b[0m \u001b[38;5;28;01mfinally\u001b[39;00m:\n\u001b[1;32m    165\u001b[0m     \u001b[38;5;66;03m# The following line mitigates memory problems that can be occurred in some\u001b[39;00m\n\u001b[1;32m    166\u001b[0m     \u001b[38;5;66;03m# environments (e.g., services that use computing containers such as GitHub Actions).\u001b[39;00m\n\u001b[1;32m    167\u001b[0m     \u001b[38;5;66;03m# Please refer to the following PR for further details:\u001b[39;00m\n\u001b[1;32m    168\u001b[0m     \u001b[38;5;66;03m# https://github.com/optuna/optuna/pull/325.\u001b[39;00m\n\u001b[1;32m    169\u001b[0m     \u001b[38;5;28;01mif\u001b[39;00m gc_after_trial:\n",
      "File \u001b[0;32m~/miniforge3/envs/cp/lib/python3.11/site-packages/optuna/study/_optimize.py:251\u001b[0m, in \u001b[0;36m_run_trial\u001b[0;34m(study, func, catch)\u001b[0m\n\u001b[1;32m    244\u001b[0m         \u001b[38;5;28;01massert\u001b[39;00m \u001b[38;5;28;01mFalse\u001b[39;00m, \u001b[38;5;124m\"\u001b[39m\u001b[38;5;124mShould not reach.\u001b[39m\u001b[38;5;124m\"\u001b[39m\n\u001b[1;32m    246\u001b[0m \u001b[38;5;28;01mif\u001b[39;00m (\n\u001b[1;32m    247\u001b[0m     frozen_trial\u001b[38;5;241m.\u001b[39mstate \u001b[38;5;241m==\u001b[39m TrialState\u001b[38;5;241m.\u001b[39mFAIL\n\u001b[1;32m    248\u001b[0m     \u001b[38;5;129;01mand\u001b[39;00m func_err \u001b[38;5;129;01mis\u001b[39;00m \u001b[38;5;129;01mnot\u001b[39;00m \u001b[38;5;28;01mNone\u001b[39;00m\n\u001b[1;32m    249\u001b[0m     \u001b[38;5;129;01mand\u001b[39;00m \u001b[38;5;129;01mnot\u001b[39;00m \u001b[38;5;28misinstance\u001b[39m(func_err, catch)\n\u001b[1;32m    250\u001b[0m ):\n\u001b[0;32m--> 251\u001b[0m     \u001b[38;5;28;01mraise\u001b[39;00m func_err\n\u001b[1;32m    252\u001b[0m \u001b[38;5;28;01mreturn\u001b[39;00m frozen_trial\n",
      "File \u001b[0;32m~/miniforge3/envs/cp/lib/python3.11/site-packages/optuna/study/_optimize.py:200\u001b[0m, in \u001b[0;36m_run_trial\u001b[0;34m(study, func, catch)\u001b[0m\n\u001b[1;32m    198\u001b[0m \u001b[38;5;28;01mwith\u001b[39;00m get_heartbeat_thread(trial\u001b[38;5;241m.\u001b[39m_trial_id, study\u001b[38;5;241m.\u001b[39m_storage):\n\u001b[1;32m    199\u001b[0m     \u001b[38;5;28;01mtry\u001b[39;00m:\n\u001b[0;32m--> 200\u001b[0m         value_or_values \u001b[38;5;241m=\u001b[39m \u001b[43mfunc\u001b[49m\u001b[43m(\u001b[49m\u001b[43mtrial\u001b[49m\u001b[43m)\u001b[49m\n\u001b[1;32m    201\u001b[0m     \u001b[38;5;28;01mexcept\u001b[39;00m exceptions\u001b[38;5;241m.\u001b[39mTrialPruned \u001b[38;5;28;01mas\u001b[39;00m e:\n\u001b[1;32m    202\u001b[0m         \u001b[38;5;66;03m# TODO(mamu): Handle multi-objective cases.\u001b[39;00m\n\u001b[1;32m    203\u001b[0m         state \u001b[38;5;241m=\u001b[39m TrialState\u001b[38;5;241m.\u001b[39mPRUNED\n",
      "Cell \u001b[0;32mIn[27], line 9\u001b[0m, in \u001b[0;36mobjective\u001b[0;34m(trial, disp_params, save)\u001b[0m\n\u001b[1;32m      7\u001b[0m     \u001b[38;5;28;01mfor\u001b[39;00m k, v \u001b[38;5;129;01min\u001b[39;00m params\u001b[38;5;241m.\u001b[39mitems():\n\u001b[1;32m      8\u001b[0m         \u001b[38;5;28mprint\u001b[39m(\u001b[38;5;124mf\u001b[39m\u001b[38;5;124m\"\u001b[39m\u001b[38;5;124m  \u001b[39m\u001b[38;5;132;01m{\u001b[39;00mk\u001b[38;5;132;01m:\u001b[39;00m\u001b[38;5;124m30s\u001b[39m\u001b[38;5;132;01m}\u001b[39;00m\u001b[38;5;124m \u001b[39m\u001b[38;5;132;01m{\u001b[39;00mv\u001b[38;5;132;01m}\u001b[39;00m\u001b[38;5;124m\"\u001b[39m)\n\u001b[0;32m----> 9\u001b[0m model, mse_score, pearson_score \u001b[38;5;241m=\u001b[39m  \u001b[43mtrain_model\u001b[49m\u001b[43m(\u001b[49m\u001b[43miter_files\u001b[49m\u001b[43m,\u001b[49m\u001b[43m \u001b[49m\u001b[38;5;241;43m*\u001b[39;49m\u001b[38;5;241;43m*\u001b[39;49m\u001b[43mparams\u001b[49m\u001b[43m)\u001b[49m\n\u001b[1;32m     10\u001b[0m \u001b[38;5;28;01mif\u001b[39;00m save:\n\u001b[1;32m     11\u001b[0m     save_as_filename \u001b[38;5;241m=\u001b[39m \u001b[38;5;124mf\u001b[39m\u001b[38;5;124m\"\u001b[39m\u001b[38;5;124m.\u001b[39m\u001b[38;5;124m\\\u001b[39m\u001b[38;5;124msaved_models\u001b[39m\u001b[38;5;124m\\\u001b[39m\u001b[38;5;132;01m{\u001b[39;00mstudy\u001b[38;5;241m.\u001b[39mstudy_name\u001b[38;5;132;01m}\u001b[39;00m\u001b[38;5;124m_trial_\u001b[39m\u001b[38;5;132;01m{\u001b[39;00mtrial\u001b[38;5;241m.\u001b[39mnumber\u001b[38;5;132;01m:\u001b[39;00m\u001b[38;5;124m03d\u001b[39m\u001b[38;5;132;01m}\u001b[39;00m\u001b[38;5;124m.json\u001b[39m\u001b[38;5;124m\"\u001b[39m\n",
      "Cell \u001b[0;32mIn[26], line 35\u001b[0m, in \u001b[0;36mtrain_model\u001b[0;34m(iter_files, save, **study_params)\u001b[0m\n\u001b[1;32m     31\u001b[0m predictions \u001b[38;5;241m=\u001b[39m xgb\u001b[38;5;241m.\u001b[39mdask\u001b[38;5;241m.\u001b[39mpredict(client, my_model, d_test)\u001b[38;5;241m.\u001b[39mcompute()\n\u001b[1;32m     33\u001b[0m \u001b[38;5;66;03m# logging.info(f\"Reshape y_test data...\")\u001b[39;00m\n\u001b[1;32m     34\u001b[0m \u001b[38;5;66;03m# y_test_c = y_test.to_dask_array(lengths=True).compute().squeeze()\u001b[39;00m\n\u001b[0;32m---> 35\u001b[0m y_test_c \u001b[38;5;241m=\u001b[39m \u001b[43my_test\u001b[49m\u001b[38;5;241;43m.\u001b[39;49m\u001b[43mcompute\u001b[49m\u001b[43m(\u001b[49m\u001b[43m)\u001b[49m\u001b[38;5;241m.\u001b[39mto_numpy()\u001b[38;5;241m.\u001b[39msqueeze()\n\u001b[1;32m     37\u001b[0m \u001b[38;5;66;03m# print(f\" y_test_c: {type(y_test_c)}   Shape:  {y_test_c.shape}       Predictions: {type(predictions)}  shape: {predictions.shape}\")\u001b[39;00m\n\u001b[1;32m     39\u001b[0m logging\u001b[38;5;241m.\u001b[39minfo(\u001b[38;5;124mf\u001b[39m\u001b[38;5;124m\"\u001b[39m\u001b[38;5;124mCompute R2 & MSE scores...\u001b[39m\u001b[38;5;124m\"\u001b[39m)\n",
      "File \u001b[0;32m~/miniforge3/envs/cp/lib/python3.11/site-packages/dask/base.py:342\u001b[0m, in \u001b[0;36mDaskMethodsMixin.compute\u001b[0;34m(self, **kwargs)\u001b[0m\n\u001b[1;32m    318\u001b[0m \u001b[38;5;28;01mdef\u001b[39;00m \u001b[38;5;21mcompute\u001b[39m(\u001b[38;5;28mself\u001b[39m, \u001b[38;5;241m*\u001b[39m\u001b[38;5;241m*\u001b[39mkwargs):\n\u001b[1;32m    319\u001b[0m \u001b[38;5;250m    \u001b[39m\u001b[38;5;124;03m\"\"\"Compute this dask collection\u001b[39;00m\n\u001b[1;32m    320\u001b[0m \n\u001b[1;32m    321\u001b[0m \u001b[38;5;124;03m    This turns a lazy Dask collection into its in-memory equivalent.\u001b[39;00m\n\u001b[0;32m   (...)\u001b[0m\n\u001b[1;32m    340\u001b[0m \u001b[38;5;124;03m    dask.compute\u001b[39;00m\n\u001b[1;32m    341\u001b[0m \u001b[38;5;124;03m    \"\"\"\u001b[39;00m\n\u001b[0;32m--> 342\u001b[0m     (result,) \u001b[38;5;241m=\u001b[39m \u001b[43mcompute\u001b[49m\u001b[43m(\u001b[49m\u001b[38;5;28;43mself\u001b[39;49m\u001b[43m,\u001b[49m\u001b[43m \u001b[49m\u001b[43mtraverse\u001b[49m\u001b[38;5;241;43m=\u001b[39;49m\u001b[38;5;28;43;01mFalse\u001b[39;49;00m\u001b[43m,\u001b[49m\u001b[43m \u001b[49m\u001b[38;5;241;43m*\u001b[39;49m\u001b[38;5;241;43m*\u001b[39;49m\u001b[43mkwargs\u001b[49m\u001b[43m)\u001b[49m\n\u001b[1;32m    343\u001b[0m     \u001b[38;5;28;01mreturn\u001b[39;00m result\n",
      "File \u001b[0;32m~/miniforge3/envs/cp/lib/python3.11/site-packages/dask/base.py:628\u001b[0m, in \u001b[0;36mcompute\u001b[0;34m(traverse, optimize_graph, scheduler, get, *args, **kwargs)\u001b[0m\n\u001b[1;32m    625\u001b[0m     postcomputes\u001b[38;5;241m.\u001b[39mappend(x\u001b[38;5;241m.\u001b[39m__dask_postcompute__())\n\u001b[1;32m    627\u001b[0m \u001b[38;5;28;01mwith\u001b[39;00m shorten_traceback():\n\u001b[0;32m--> 628\u001b[0m     results \u001b[38;5;241m=\u001b[39m \u001b[43mschedule\u001b[49m\u001b[43m(\u001b[49m\u001b[43mdsk\u001b[49m\u001b[43m,\u001b[49m\u001b[43m \u001b[49m\u001b[43mkeys\u001b[49m\u001b[43m,\u001b[49m\u001b[43m \u001b[49m\u001b[38;5;241;43m*\u001b[39;49m\u001b[38;5;241;43m*\u001b[39;49m\u001b[43mkwargs\u001b[49m\u001b[43m)\u001b[49m\n\u001b[1;32m    630\u001b[0m \u001b[38;5;28;01mreturn\u001b[39;00m repack([f(r, \u001b[38;5;241m*\u001b[39ma) \u001b[38;5;28;01mfor\u001b[39;00m r, (f, a) \u001b[38;5;129;01min\u001b[39;00m \u001b[38;5;28mzip\u001b[39m(results, postcomputes)])\n",
      "File \u001b[0;32m~/miniforge3/envs/cp/lib/python3.11/threading.py:622\u001b[0m, in \u001b[0;36mEvent.wait\u001b[0;34m(self, timeout)\u001b[0m\n\u001b[1;32m    620\u001b[0m signaled \u001b[38;5;241m=\u001b[39m \u001b[38;5;28mself\u001b[39m\u001b[38;5;241m.\u001b[39m_flag\n\u001b[1;32m    621\u001b[0m \u001b[38;5;28;01mif\u001b[39;00m \u001b[38;5;129;01mnot\u001b[39;00m signaled:\n\u001b[0;32m--> 622\u001b[0m     signaled \u001b[38;5;241m=\u001b[39m \u001b[38;5;28;43mself\u001b[39;49m\u001b[38;5;241;43m.\u001b[39;49m\u001b[43m_cond\u001b[49m\u001b[38;5;241;43m.\u001b[39;49m\u001b[43mwait\u001b[49m\u001b[43m(\u001b[49m\u001b[43mtimeout\u001b[49m\u001b[43m)\u001b[49m\n\u001b[1;32m    623\u001b[0m \u001b[38;5;28;01mreturn\u001b[39;00m signaled\n",
      "File \u001b[0;32m~/miniforge3/envs/cp/lib/python3.11/threading.py:324\u001b[0m, in \u001b[0;36mCondition.wait\u001b[0;34m(self, timeout)\u001b[0m\n\u001b[1;32m    322\u001b[0m \u001b[38;5;28;01melse\u001b[39;00m:\n\u001b[1;32m    323\u001b[0m     \u001b[38;5;28;01mif\u001b[39;00m timeout \u001b[38;5;241m>\u001b[39m \u001b[38;5;241m0\u001b[39m:\n\u001b[0;32m--> 324\u001b[0m         gotit \u001b[38;5;241m=\u001b[39m \u001b[43mwaiter\u001b[49m\u001b[38;5;241;43m.\u001b[39;49m\u001b[43macquire\u001b[49m\u001b[43m(\u001b[49m\u001b[38;5;28;43;01mTrue\u001b[39;49;00m\u001b[43m,\u001b[49m\u001b[43m \u001b[49m\u001b[43mtimeout\u001b[49m\u001b[43m)\u001b[49m\n\u001b[1;32m    325\u001b[0m     \u001b[38;5;28;01melse\u001b[39;00m:\n\u001b[1;32m    326\u001b[0m         gotit \u001b[38;5;241m=\u001b[39m waiter\u001b[38;5;241m.\u001b[39macquire(\u001b[38;5;28;01mFalse\u001b[39;00m)\n",
      "\u001b[0;31mKeyboardInterrupt\u001b[0m: "
     ]
    }
   ],
   "source": [
    "start = datetime.now()\n",
    "\n",
    "study.optimize(objective, n_trials=25, timeout=3600*8, gc_after_trial=True, show_progress_bar=True)\n",
    "\n",
    "print(f\"Total time:  {datetime.now() - start}\")"
   ]
  },
  {
   "cell_type": "markdown",
   "metadata": {},
   "source": [
    "### Study results"
   ]
  },
  {
   "cell_type": "code",
   "execution_count": 31,
   "metadata": {
    "execution": {
     "iopub.execute_input": "2024-01-24T23:44:45.235200Z",
     "iopub.status.busy": "2024-01-24T23:44:45.234718Z",
     "iopub.status.idle": "2024-01-24T23:44:45.292615Z",
     "shell.execute_reply": "2024-01-24T23:44:45.291697Z",
     "shell.execute_reply.started": "2024-01-24T23:44:45.235161Z"
    }
   },
   "outputs": [
    {
     "name": "stdout",
     "output_type": "stream",
     "text": [
      "Trial #: 0     1        0.17054        0.00354\n",
      "Trial #: 1     1        0.16833        0.02912\n"
     ]
    }
   ],
   "source": [
    "for st in study.trials:\n",
    "    # if st.state != 3:\n",
    "    print(f\"Trial #: {st.number:<4d} {st.state:2d}   {st.values[0]:12.5f}   {st.values[1]:12.5f}\")"
   ]
  },
  {
   "cell_type": "code",
   "execution_count": 33,
   "metadata": {
    "execution": {
     "iopub.execute_input": "2024-01-24T18:08:39.952376Z",
     "iopub.status.busy": "2024-01-24T18:08:39.951927Z",
     "iopub.status.idle": "2024-01-24T18:08:40.035342Z",
     "shell.execute_reply": "2024-01-24T18:08:40.034283Z",
     "shell.execute_reply.started": "2024-01-24T18:08:39.952332Z"
    }
   },
   "outputs": [
    {
     "name": "stdout",
     "output_type": "stream",
     "text": [
      "Number of finished trials:  42\n",
      " # best trials:  0\n",
      " Best trials:  []\n"
     ]
    }
   ],
   "source": [
    "print(\"Number of finished trials: \", len(study.trials))\n",
    "\n",
    "best_trials = study.best_trials\n",
    "print(\" # best trials: \", len(best_trials))\n",
    "print(\" Best trials: \", [x.number for x in study.best_trials])"
   ]
  },
  {
   "cell_type": "code",
   "execution_count": 57,
   "metadata": {
    "execution": {
     "iopub.execute_input": "2024-01-17T17:11:47.608540Z",
     "iopub.status.busy": "2024-01-17T17:11:47.607704Z",
     "iopub.status.idle": "2024-01-17T17:11:47.677013Z",
     "shell.execute_reply": "2024-01-17T17:11:47.676022Z",
     "shell.execute_reply.started": "2024-01-17T17:11:47.608486Z"
    }
   },
   "outputs": [
    {
     "name": "stdout",
     "output_type": "stream",
     "text": [
      "Best trial:  9   1 \n",
      " start: 2024-01-14 15:20:04.453466 , end:  2024-01-14 15:31:59.041870  duration: 0:11:54.588404\n",
      " Intermediate values: {}\n",
      " Trial last step    : None \n",
      "    learning_rate                    FloatDistribution(high=10.0, log=True, low=0.01, step=None)   \n",
      "    min_split_loss                   FloatDistribution(high=10.0, log=False, low=0.0, step=None)   \n",
      "    min_child_weight                 FloatDistribution(high=10.0, log=False, low=0.0, step=None)   \n",
      "    max_delta_step                   FloatDistribution(high=10.0, log=False, low=0.0, step=None)   \n",
      "    subsample                        FloatDistribution(high=1.0, log=False, low=0.4, step=None)   \n",
      "    colsample_bylevel                FloatDistribution(high=1.0, log=False, low=0.5, step=None)   \n",
      "    colsample_bynode                 FloatDistribution(high=1.0, log=False, low=0.5, step=None)   \n",
      "    max_depth                        IntDistribution(high=6, log=False, low=1, step=1)   \n",
      "\n",
      " Parameters: \n",
      "-------------\n",
      "    learning_rate                  0.7129547    FloatDistribution(high=10.0, log=True, low=0.01, step=None)     \n",
      "    min_split_loss                 1.1744963    FloatDistribution(high=10.0, log=False, low=0.0, step=None)     \n",
      "    min_child_weight               1.0711604    FloatDistribution(high=10.0, log=False, low=0.0, step=None)     \n",
      "    max_delta_step                 6.4192686    FloatDistribution(high=10.0, log=False, low=0.0, step=None)     \n",
      "    subsample                      0.4016662    FloatDistribution(high=1.0, log=False, low=0.4, step=None)     \n",
      "    colsample_bylevel              0.7731742    FloatDistribution(high=1.0, log=False, low=0.5, step=None)     \n",
      "    colsample_bynode               0.6759838    FloatDistribution(high=1.0, log=False, low=0.5, step=None)     \n",
      "    max_depth                      6.0000000    IntDistribution(high=6, log=False, low=1, step=1)     \n",
      "\n",
      " Trial results: [0.025882675871253015, 0.00648065864340619]\n"
     ]
    }
   ],
   "source": [
    "for trial in study.best_trials:\n",
    "    disp_trial_info(trial)"
   ]
  },
  {
   "cell_type": "code",
   "execution_count": 31,
   "metadata": {
    "execution": {
     "iopub.execute_input": "2024-01-15T12:04:21.039752Z",
     "iopub.status.busy": "2024-01-15T12:04:21.039305Z",
     "iopub.status.idle": "2024-01-15T12:04:21.091013Z",
     "shell.execute_reply": "2024-01-15T12:04:21.090299Z",
     "shell.execute_reply.started": "2024-01-15T12:04:21.039712Z"
    }
   },
   "outputs": [],
   "source": [
    "# study_names = optuna.study.get_all_study_names(storage=\"sqlite:///example.db\")\n",
    "# study_summaries = optuna.study.get_all_study_summaries(storage=\"sqlite:///example.db\")"
   ]
  },
  {
   "cell_type": "markdown",
   "metadata": {},
   "source": [
    "### Identify best study "
   ]
  },
  {
   "cell_type": "code",
   "execution_count": 58,
   "metadata": {
    "execution": {
     "iopub.execute_input": "2024-01-17T17:12:03.001834Z",
     "iopub.status.busy": "2024-01-17T17:12:03.001340Z",
     "iopub.status.idle": "2024-01-17T17:12:03.062512Z",
     "shell.execute_reply": "2024-01-17T17:12:03.061834Z",
     "shell.execute_reply.started": "2024-01-17T17:12:03.001792Z"
    }
   },
   "outputs": [
    {
     "name": "stdout",
     "output_type": "stream",
     "text": [
      " Best trials:  [9]\n"
     ]
    }
   ],
   "source": [
    "print(\" Best trials: \", [x.number for x in study.best_trials])\n",
    "# study.best_params"
   ]
  },
  {
   "cell_type": "code",
   "execution_count": 59,
   "metadata": {
    "execution": {
     "iopub.execute_input": "2024-01-17T17:12:22.718766Z",
     "iopub.status.busy": "2024-01-17T17:12:22.718181Z",
     "iopub.status.idle": "2024-01-17T17:12:22.775113Z",
     "shell.execute_reply": "2024-01-17T17:12:22.774231Z",
     "shell.execute_reply.started": "2024-01-17T17:12:22.718723Z"
    }
   },
   "outputs": [],
   "source": [
    "best_trial_copy = copy.deepcopy(study.best_trials[0])"
   ]
  },
  {
   "cell_type": "markdown",
   "metadata": {},
   "source": [
    "### Rerun best study"
   ]
  },
  {
   "cell_type": "code",
   "execution_count": 62,
   "metadata": {
    "execution": {
     "iopub.execute_input": "2024-01-17T22:46:26.649326Z",
     "iopub.status.busy": "2024-01-17T22:46:26.648514Z",
     "iopub.status.idle": "2024-01-17T22:52:09.391487Z",
     "shell.execute_reply": "2024-01-17T22:52:09.389954Z",
     "shell.execute_reply.started": "2024-01-17T22:46:26.649265Z"
    }
   },
   "outputs": [
    {
     "name": "stdout",
     "output_type": "stream",
     "text": [
      " Training model (trial #9) \n",
      " Parameters:\n",
      "  verbosity                      0\n",
      "  objective                      reg:squarederror\n",
      "  eval_metric                    rmse\n",
      "  booster                        gbtree\n",
      "  tree_method                    auto\n",
      "  learning_rate                  0.7129547062054531\n",
      "  min_split_loss                 1.1744963430441568\n",
      "  min_child_weight               1.0711604397840613\n",
      "  max_delta_step                 6.419268583330138\n",
      "  subsample                      0.40166622084017944\n",
      "  colsample_bytree               1.0\n",
      "  colsample_bylevel              0.7731741926468229\n",
      "  colsample_bynode               0.6759837642949793\n",
      "  max_leaves                     0\n",
      "  max_depth                      6\n",
      "  reg_lambda                     3.2267\n",
      "Training/Test split #0\n"
     ]
    },
    {
     "name": "stderr",
     "output_type": "stream",
     "text": [
      "2024-01-17 23:46:30,212 - INFO: - Building training & test+ DMatrix...\n",
      "2024-01-17 23:46:50,138 - tornado.application - ERROR - Uncaught exception GET /status/ws (127.0.0.1)\n",
      "HTTPServerRequest(protocol='http', host='127.0.0.1:8887', method='GET', uri='/status/ws', version='HTTP/1.1', remote_ip='127.0.0.1')\n",
      "Traceback (most recent call last):\n",
      "  File \"/home/kevin/miniforge3/envs/cp/lib/python3.11/site-packages/tornado/websocket.py\", line 937, in _accept_connection\n",
      "    open_result = handler.open(*handler.open_args, **handler.open_kwargs)\n",
      "                  ^^^^^^^^^^^^^^^^^^^^^^^^^^^^^^^^^^^^^^^^^^^^^^^^^^^^^^^\n",
      "  File \"/home/kevin/miniforge3/envs/cp/lib/python3.11/site-packages/tornado/web.py\", line 3290, in wrapper\n",
      "    return method(self, *args, **kwargs)\n",
      "           ^^^^^^^^^^^^^^^^^^^^^^^^^^^^^\n",
      "  File \"/home/kevin/miniforge3/envs/cp/lib/python3.11/site-packages/bokeh/server/views/ws.py\", line 149, in open\n",
      "    raise ProtocolError(\"Token is expired.\")\n",
      "bokeh.protocol.exceptions.ProtocolError: Token is expired.\n",
      "2024-01-17 23:48:04,427 - INFO: - Training model...\n",
      "2024-01-17 23:48:04,441 - INFO: - start listen on 10.91.28.16:59471\n",
      "[23:48:04] task [xgboost.dask-0]:tcp://127.0.0.1:32823 got new rank 0\n",
      "[23:48:04] task [xgboost.dask-1]:tcp://127.0.0.1:46801 got new rank 1\n",
      "[23:48:04] task [xgboost.dask-2]:tcp://127.0.0.1:41225 got new rank 2\n",
      "[23:48:04] task [xgboost.dask-3]:tcp://127.0.0.1:44693 got new rank 3\n",
      "[23:48:04] task [xgboost.dask-4]:tcp://127.0.0.1:40437 got new rank 4\n",
      "[23:48:04] task [xgboost.dask-5]:tcp://127.0.0.1:39441 got new rank 5\n",
      "2024-01-17 23:48:04,556 - INFO: - @tracker All of 6 nodes getting started\n",
      "2024-01-17 23:48:28,243 - INFO: - @tracker All nodes finishes job\n",
      "2024-01-17 23:48:28,353 - INFO: - Running model on test data...\n",
      "2024-01-17 23:48:55,126 - INFO: - Compute R2 & MSE scores...\n"
     ]
    },
    {
     "name": "stdout",
     "output_type": "stream",
     "text": [
      "MSE Score : 0.158546\n",
      " R2 Score : 0.007351\n",
      "  Pearson : 0.086676      P: 1.243371e-34\n",
      "--------------------------------------------------------------------------------\n",
      "Training/Test split #1\n"
     ]
    },
    {
     "name": "stderr",
     "output_type": "stream",
     "text": [
      "2024-01-17 23:48:57,717 - INFO: - Building training & test+ DMatrix...\n",
      "2024-01-17 23:50:51,791 - distributed.worker - ERROR - failed during get data with tcp://127.0.0.1:40437 -> tcp://127.0.0.1:39441\n",
      "Traceback (most recent call last):\n",
      "  File \"/home/kevin/miniforge3/envs/cp/lib/python3.11/site-packages/tornado/iostream.py\", line 861, in _read_to_buffer\n",
      "    bytes_read = self.read_from_fd(buf)\n",
      "                 ^^^^^^^^^^^^^^^^^^^^^^\n",
      "  File \"/home/kevin/miniforge3/envs/cp/lib/python3.11/site-packages/tornado/iostream.py\", line 1116, in read_from_fd\n",
      "    return self.socket.recv_into(buf, len(buf))\n",
      "           ^^^^^^^^^^^^^^^^^^^^^^^^^^^^^^^^^^^^\n",
      "TimeoutError: [Errno 110] Connection timed out\n",
      "\n",
      "The above exception was the direct cause of the following exception:\n",
      "\n",
      "Traceback (most recent call last):\n",
      "  File \"/home/kevin/miniforge3/envs/cp/lib/python3.11/site-packages/distributed/worker.py\", line 1780, in get_data\n",
      "    response = await comm.read(deserializers=serializers)\n",
      "               ^^^^^^^^^^^^^^^^^^^^^^^^^^^^^^^^^^^^^^^^^^\n",
      "  File \"/home/kevin/miniforge3/envs/cp/lib/python3.11/site-packages/distributed/comm/tcp.py\", line 237, in read\n",
      "    convert_stream_closed_error(self, e)\n",
      "  File \"/home/kevin/miniforge3/envs/cp/lib/python3.11/site-packages/distributed/comm/tcp.py\", line 140, in convert_stream_closed_error\n",
      "    raise CommClosedError(f\"in {obj}: {exc.__class__.__name__}: {exc}\") from exc\n",
      "distributed.comm.core.CommClosedError: in <TCP (closed)  local=tcp://127.0.0.1:40437 remote=tcp://127.0.0.1:50554>: TimeoutError: [Errno 110] Connection timed out\n",
      "2024-01-17 23:52:09,156 - distributed.worker.state_machine - WARNING - Async instruction for <Task cancelled name='gather_dep(tcp://127.0.0.1:39441, {...})' coro=<Worker.gather_dep() done, defined at /home/kevin/miniforge3/envs/cp/lib/python3.11/site-packages/distributed/worker_state_machine.py:3615>> ended with CancelledError\n",
      "2024-01-17 23:52:09,161 - distributed.worker.state_machine - WARNING - Async instruction for <Task cancelled name='gather_dep(tcp://127.0.0.1:39441, {...})' coro=<Worker.gather_dep() done, defined at /home/kevin/miniforge3/envs/cp/lib/python3.11/site-packages/distributed/worker_state_machine.py:3615>> ended with CancelledError\n",
      "2024-01-17 23:52:09,172 - distributed.worker.state_machine - WARNING - Async instruction for <Task cancelled name='gather_dep(tcp://127.0.0.1:39441, {...})' coro=<Worker.gather_dep() done, defined at /home/kevin/miniforge3/envs/cp/lib/python3.11/site-packages/distributed/worker_state_machine.py:3615>> ended with CancelledError\n",
      "2024-01-17 23:52:09,179 - distributed.worker.state_machine - WARNING - Async instruction for <Task cancelled name='gather_dep(tcp://127.0.0.1:39441, {...})' coro=<Worker.gather_dep() done, defined at /home/kevin/miniforge3/envs/cp/lib/python3.11/site-packages/distributed/worker_state_machine.py:3615>> ended with CancelledError\n",
      "2024-01-17 23:52:09,211 - distributed.worker.state_machine - WARNING - Async instruction for <Task cancelled name='gather_dep(tcp://127.0.0.1:39441, {...})' coro=<Worker.gather_dep() done, defined at /home/kevin/miniforge3/envs/cp/lib/python3.11/site-packages/distributed/worker_state_machine.py:3615>> ended with CancelledError\n",
      "2024-01-17 23:52:09,260 - distributed.worker - ERROR - Failed to communicate with scheduler during heartbeat.\n",
      "Traceback (most recent call last):\n",
      "  File \"/home/kevin/miniforge3/envs/cp/lib/python3.11/site-packages/distributed/comm/tcp.py\", line 225, in read\n",
      "    frames_nosplit_nbytes_bin = await stream.read_bytes(fmt_size)\n",
      "                                ^^^^^^^^^^^^^^^^^^^^^^^^^^^^^^^^^\n",
      "tornado.iostream.StreamClosedError: Stream is closed\n",
      "\n",
      "The above exception was the direct cause of the following exception:\n",
      "\n",
      "Traceback (most recent call last):\n",
      "  File \"/home/kevin/miniforge3/envs/cp/lib/python3.11/site-packages/distributed/worker.py\", line 1252, in heartbeat\n",
      "    response = await retry_operation(\n",
      "               ^^^^^^^^^^^^^^^^^^^^^^\n",
      "  File \"/home/kevin/miniforge3/envs/cp/lib/python3.11/site-packages/distributed/utils_comm.py\", line 455, in retry_operation\n",
      "    return await retry(\n",
      "           ^^^^^^^^^^^^\n",
      "  File \"/home/kevin/miniforge3/envs/cp/lib/python3.11/site-packages/distributed/utils_comm.py\", line 434, in retry\n",
      "    return await coro()\n",
      "           ^^^^^^^^^^^^\n",
      "  File \"/home/kevin/miniforge3/envs/cp/lib/python3.11/site-packages/distributed/core.py\", line 1394, in send_recv_from_rpc\n",
      "    return await send_recv(comm=comm, op=key, **kwargs)\n",
      "           ^^^^^^^^^^^^^^^^^^^^^^^^^^^^^^^^^^^^^^^^^^^^\n",
      "  File \"/home/kevin/miniforge3/envs/cp/lib/python3.11/site-packages/distributed/core.py\", line 1153, in send_recv\n",
      "    response = await comm.read(deserializers=deserializers)\n",
      "               ^^^^^^^^^^^^^^^^^^^^^^^^^^^^^^^^^^^^^^^^^^^^\n",
      "  File \"/home/kevin/miniforge3/envs/cp/lib/python3.11/site-packages/distributed/comm/tcp.py\", line 237, in read\n",
      "    convert_stream_closed_error(self, e)\n",
      "  File \"/home/kevin/miniforge3/envs/cp/lib/python3.11/site-packages/distributed/comm/tcp.py\", line 142, in convert_stream_closed_error\n",
      "    raise CommClosedError(f\"in {obj}: {exc}\") from exc\n",
      "distributed.comm.core.CommClosedError: in <TCP (closed) ConnectionPool.heartbeat_worker local=tcp://127.0.0.1:45544 remote=tcp://127.0.0.1:33625>: Stream is closed\n",
      "2024-01-17 23:52:09,265 - distributed.worker - ERROR - Failed to communicate with scheduler during heartbeat.\n",
      "Traceback (most recent call last):\n",
      "  File \"/home/kevin/miniforge3/envs/cp/lib/python3.11/site-packages/distributed/comm/tcp.py\", line 225, in read\n",
      "    frames_nosplit_nbytes_bin = await stream.read_bytes(fmt_size)\n",
      "                                ^^^^^^^^^^^^^^^^^^^^^^^^^^^^^^^^^\n",
      "tornado.iostream.StreamClosedError: Stream is closed\n",
      "\n",
      "The above exception was the direct cause of the following exception:\n",
      "\n",
      "Traceback (most recent call last):\n",
      "  File \"/home/kevin/miniforge3/envs/cp/lib/python3.11/site-packages/distributed/worker.py\", line 1252, in heartbeat\n",
      "    response = await retry_operation(\n",
      "               ^^^^^^^^^^^^^^^^^^^^^^\n",
      "  File \"/home/kevin/miniforge3/envs/cp/lib/python3.11/site-packages/distributed/utils_comm.py\", line 455, in retry_operation\n",
      "    return await retry(\n",
      "           ^^^^^^^^^^^^\n",
      "  File \"/home/kevin/miniforge3/envs/cp/lib/python3.11/site-packages/distributed/utils_comm.py\", line 434, in retry\n",
      "    return await coro()\n",
      "           ^^^^^^^^^^^^\n",
      "  File \"/home/kevin/miniforge3/envs/cp/lib/python3.11/site-packages/distributed/core.py\", line 1394, in send_recv_from_rpc\n",
      "    return await send_recv(comm=comm, op=key, **kwargs)\n",
      "           ^^^^^^^^^^^^^^^^^^^^^^^^^^^^^^^^^^^^^^^^^^^^\n",
      "  File \"/home/kevin/miniforge3/envs/cp/lib/python3.11/site-packages/distributed/core.py\", line 1153, in send_recv\n",
      "    response = await comm.read(deserializers=deserializers)\n",
      "               ^^^^^^^^^^^^^^^^^^^^^^^^^^^^^^^^^^^^^^^^^^^^\n",
      "  File \"/home/kevin/miniforge3/envs/cp/lib/python3.11/site-packages/distributed/comm/tcp.py\", line 237, in read\n",
      "    convert_stream_closed_error(self, e)\n",
      "  File \"/home/kevin/miniforge3/envs/cp/lib/python3.11/site-packages/distributed/comm/tcp.py\", line 142, in convert_stream_closed_error\n",
      "    raise CommClosedError(f\"in {obj}: {exc}\") from exc\n",
      "distributed.comm.core.CommClosedError: in <TCP (closed) ConnectionPool.heartbeat_worker local=tcp://127.0.0.1:45554 remote=tcp://127.0.0.1:33625>: Stream is closed\n",
      "2024-01-17 23:52:09,276 - distributed.worker - ERROR - Failed to communicate with scheduler during heartbeat.\n",
      "Traceback (most recent call last):\n",
      "  File \"/home/kevin/miniforge3/envs/cp/lib/python3.11/site-packages/distributed/comm/tcp.py\", line 225, in read\n",
      "    frames_nosplit_nbytes_bin = await stream.read_bytes(fmt_size)\n",
      "                                ^^^^^^^^^^^^^^^^^^^^^^^^^^^^^^^^^\n",
      "tornado.iostream.StreamClosedError: Stream is closed\n",
      "\n",
      "The above exception was the direct cause of the following exception:\n",
      "\n",
      "Traceback (most recent call last):\n",
      "  File \"/home/kevin/miniforge3/envs/cp/lib/python3.11/site-packages/distributed/worker.py\", line 1252, in heartbeat\n",
      "    response = await retry_operation(\n",
      "               ^^^^^^^^^^^^^^^^^^^^^^\n",
      "  File \"/home/kevin/miniforge3/envs/cp/lib/python3.11/site-packages/distributed/utils_comm.py\", line 455, in retry_operation\n",
      "    return await retry(\n",
      "           ^^^^^^^^^^^^\n",
      "  File \"/home/kevin/miniforge3/envs/cp/lib/python3.11/site-packages/distributed/utils_comm.py\", line 434, in retry\n",
      "    return await coro()\n",
      "           ^^^^^^^^^^^^\n",
      "  File \"/home/kevin/miniforge3/envs/cp/lib/python3.11/site-packages/distributed/core.py\", line 1394, in send_recv_from_rpc\n",
      "    return await send_recv(comm=comm, op=key, **kwargs)\n",
      "           ^^^^^^^^^^^^^^^^^^^^^^^^^^^^^^^^^^^^^^^^^^^^\n",
      "  File \"/home/kevin/miniforge3/envs/cp/lib/python3.11/site-packages/distributed/core.py\", line 1153, in send_recv\n",
      "    response = await comm.read(deserializers=deserializers)\n",
      "               ^^^^^^^^^^^^^^^^^^^^^^^^^^^^^^^^^^^^^^^^^^^^\n",
      "  File \"/home/kevin/miniforge3/envs/cp/lib/python3.11/site-packages/distributed/comm/tcp.py\", line 237, in read\n",
      "    convert_stream_closed_error(self, e)\n",
      "  File \"/home/kevin/miniforge3/envs/cp/lib/python3.11/site-packages/distributed/comm/tcp.py\", line 142, in convert_stream_closed_error\n",
      "    raise CommClosedError(f\"in {obj}: {exc}\") from exc\n",
      "distributed.comm.core.CommClosedError: in <TCP (closed) ConnectionPool.heartbeat_worker local=tcp://127.0.0.1:45548 remote=tcp://127.0.0.1:33625>: Stream is closed\n",
      "2024-01-17 23:52:09,284 - distributed.worker - ERROR - Failed to communicate with scheduler during heartbeat.\n",
      "Traceback (most recent call last):\n",
      "  File \"/home/kevin/miniforge3/envs/cp/lib/python3.11/site-packages/distributed/comm/tcp.py\", line 225, in read\n",
      "    frames_nosplit_nbytes_bin = await stream.read_bytes(fmt_size)\n",
      "                                ^^^^^^^^^^^^^^^^^^^^^^^^^^^^^^^^^\n",
      "tornado.iostream.StreamClosedError: Stream is closed\n",
      "\n",
      "The above exception was the direct cause of the following exception:\n",
      "\n",
      "Traceback (most recent call last):\n",
      "  File \"/home/kevin/miniforge3/envs/cp/lib/python3.11/site-packages/distributed/worker.py\", line 1252, in heartbeat\n",
      "    response = await retry_operation(\n",
      "               ^^^^^^^^^^^^^^^^^^^^^^\n",
      "  File \"/home/kevin/miniforge3/envs/cp/lib/python3.11/site-packages/distributed/utils_comm.py\", line 455, in retry_operation\n",
      "    return await retry(\n",
      "           ^^^^^^^^^^^^\n",
      "  File \"/home/kevin/miniforge3/envs/cp/lib/python3.11/site-packages/distributed/utils_comm.py\", line 434, in retry\n",
      "    return await coro()\n",
      "           ^^^^^^^^^^^^\n",
      "  File \"/home/kevin/miniforge3/envs/cp/lib/python3.11/site-packages/distributed/core.py\", line 1394, in send_recv_from_rpc\n",
      "    return await send_recv(comm=comm, op=key, **kwargs)\n",
      "           ^^^^^^^^^^^^^^^^^^^^^^^^^^^^^^^^^^^^^^^^^^^^\n",
      "  File \"/home/kevin/miniforge3/envs/cp/lib/python3.11/site-packages/distributed/core.py\", line 1153, in send_recv\n",
      "    response = await comm.read(deserializers=deserializers)\n",
      "               ^^^^^^^^^^^^^^^^^^^^^^^^^^^^^^^^^^^^^^^^^^^^\n",
      "  File \"/home/kevin/miniforge3/envs/cp/lib/python3.11/site-packages/distributed/comm/tcp.py\", line 237, in read\n",
      "    convert_stream_closed_error(self, e)\n",
      "  File \"/home/kevin/miniforge3/envs/cp/lib/python3.11/site-packages/distributed/comm/tcp.py\", line 142, in convert_stream_closed_error\n",
      "    raise CommClosedError(f\"in {obj}: {exc}\") from exc\n",
      "distributed.comm.core.CommClosedError: in <TCP (closed) ConnectionPool.heartbeat_worker local=tcp://127.0.0.1:45550 remote=tcp://127.0.0.1:33625>: Stream is closed\n",
      "2024-01-17 23:52:09,316 - distributed.worker - ERROR - Failed to communicate with scheduler during heartbeat.\n",
      "Traceback (most recent call last):\n",
      "  File \"/home/kevin/miniforge3/envs/cp/lib/python3.11/site-packages/distributed/comm/tcp.py\", line 225, in read\n",
      "    frames_nosplit_nbytes_bin = await stream.read_bytes(fmt_size)\n",
      "                                ^^^^^^^^^^^^^^^^^^^^^^^^^^^^^^^^^\n",
      "tornado.iostream.StreamClosedError: Stream is closed\n",
      "\n",
      "The above exception was the direct cause of the following exception:\n",
      "\n",
      "Traceback (most recent call last):\n",
      "  File \"/home/kevin/miniforge3/envs/cp/lib/python3.11/site-packages/distributed/worker.py\", line 1252, in heartbeat\n",
      "    response = await retry_operation(\n",
      "               ^^^^^^^^^^^^^^^^^^^^^^\n",
      "  File \"/home/kevin/miniforge3/envs/cp/lib/python3.11/site-packages/distributed/utils_comm.py\", line 455, in retry_operation\n",
      "    return await retry(\n",
      "           ^^^^^^^^^^^^\n",
      "  File \"/home/kevin/miniforge3/envs/cp/lib/python3.11/site-packages/distributed/utils_comm.py\", line 434, in retry\n",
      "    return await coro()\n",
      "           ^^^^^^^^^^^^\n",
      "  File \"/home/kevin/miniforge3/envs/cp/lib/python3.11/site-packages/distributed/core.py\", line 1394, in send_recv_from_rpc\n",
      "    return await send_recv(comm=comm, op=key, **kwargs)\n",
      "           ^^^^^^^^^^^^^^^^^^^^^^^^^^^^^^^^^^^^^^^^^^^^\n",
      "  File \"/home/kevin/miniforge3/envs/cp/lib/python3.11/site-packages/distributed/core.py\", line 1153, in send_recv\n",
      "    response = await comm.read(deserializers=deserializers)\n",
      "               ^^^^^^^^^^^^^^^^^^^^^^^^^^^^^^^^^^^^^^^^^^^^\n",
      "  File \"/home/kevin/miniforge3/envs/cp/lib/python3.11/site-packages/distributed/comm/tcp.py\", line 237, in read\n",
      "    convert_stream_closed_error(self, e)\n",
      "  File \"/home/kevin/miniforge3/envs/cp/lib/python3.11/site-packages/distributed/comm/tcp.py\", line 142, in convert_stream_closed_error\n",
      "    raise CommClosedError(f\"in {obj}: {exc}\") from exc\n",
      "distributed.comm.core.CommClosedError: in <TCP (closed) ConnectionPool.heartbeat_worker local=tcp://127.0.0.1:45552 remote=tcp://127.0.0.1:33625>: Stream is closed\n"
     ]
    },
    {
     "ename": "KeyboardInterrupt",
     "evalue": "",
     "output_type": "error",
     "traceback": [
      "\u001b[0;31m---------------------------------------------------------------------------\u001b[0m",
      "\u001b[0;31mKeyboardInterrupt\u001b[0m                         Traceback (most recent call last)",
      "Cell \u001b[0;32mIn[62], line 1\u001b[0m\n\u001b[0;32m----> 1\u001b[0m best_model \u001b[38;5;241m=\u001b[39m \u001b[43mobjective\u001b[49m\u001b[43m(\u001b[49m\u001b[43mbest_trial_copy\u001b[49m\u001b[43m,\u001b[49m\u001b[43m \u001b[49m\u001b[43mdisp_params\u001b[49m\u001b[43m \u001b[49m\u001b[38;5;241;43m=\u001b[39;49m\u001b[43m \u001b[49m\u001b[38;5;28;43;01mTrue\u001b[39;49;00m\u001b[43m,\u001b[49m\u001b[43m \u001b[49m\u001b[43msave\u001b[49m\u001b[43m \u001b[49m\u001b[38;5;241;43m=\u001b[39;49m\u001b[43m \u001b[49m\u001b[38;5;28;43;01mTrue\u001b[39;49;00m\u001b[43m)\u001b[49m\n",
      "Cell \u001b[0;32mIn[47], line 11\u001b[0m, in \u001b[0;36mobjective\u001b[0;34m(trial, disp_params, save)\u001b[0m\n\u001b[1;32m      9\u001b[0m     \u001b[38;5;28;01mfor\u001b[39;00m k, v \u001b[38;5;129;01min\u001b[39;00m params\u001b[38;5;241m.\u001b[39mitems():\n\u001b[1;32m     10\u001b[0m         \u001b[38;5;28mprint\u001b[39m(\u001b[38;5;124mf\u001b[39m\u001b[38;5;124m\"\u001b[39m\u001b[38;5;124m  \u001b[39m\u001b[38;5;132;01m{\u001b[39;00mk\u001b[38;5;132;01m:\u001b[39;00m\u001b[38;5;124m30s\u001b[39m\u001b[38;5;132;01m}\u001b[39;00m\u001b[38;5;124m \u001b[39m\u001b[38;5;132;01m{\u001b[39;00mv\u001b[38;5;132;01m}\u001b[39;00m\u001b[38;5;124m\"\u001b[39m)\n\u001b[0;32m---> 11\u001b[0m model, mse_score, R2_score \u001b[38;5;241m=\u001b[39m  \u001b[43mtrain_model\u001b[49m\u001b[43m(\u001b[49m\u001b[43miter_files\u001b[49m\u001b[43m,\u001b[49m\u001b[43m \u001b[49m\u001b[38;5;241;43m*\u001b[39;49m\u001b[38;5;241;43m*\u001b[39;49m\u001b[43mparams\u001b[49m\u001b[43m)\u001b[49m\n\u001b[1;32m     12\u001b[0m \u001b[38;5;28;01mif\u001b[39;00m save:\n\u001b[1;32m     13\u001b[0m     save_as_filename \u001b[38;5;241m=\u001b[39m \u001b[38;5;124mf\u001b[39m\u001b[38;5;124m\"\u001b[39m\u001b[38;5;132;01m{\u001b[39;00mstudy\u001b[38;5;241m.\u001b[39mstudy_name\u001b[38;5;132;01m}\u001b[39;00m\u001b[38;5;124m_trial_\u001b[39m\u001b[38;5;132;01m{\u001b[39;00mtrial\u001b[38;5;241m.\u001b[39mnumber\u001b[38;5;132;01m:\u001b[39;00m\u001b[38;5;124m03d\u001b[39m\u001b[38;5;132;01m}\u001b[39;00m\u001b[38;5;124m.json\u001b[39m\u001b[38;5;124m\"\u001b[39m\n",
      "Cell \u001b[0;32mIn[61], line 19\u001b[0m, in \u001b[0;36mtrain_model\u001b[0;34m(iter_files, save, **study_params)\u001b[0m\n\u001b[1;32m     15\u001b[0m d_train \u001b[38;5;241m=\u001b[39m xgb\u001b[38;5;241m.\u001b[39mdask\u001b[38;5;241m.\u001b[39mDaskDMatrix( client, X_train, y_train)\n\u001b[1;32m     18\u001b[0m \u001b[38;5;66;03m# logging.info(f\"Building test DMatrix...\")\u001b[39;00m\n\u001b[0;32m---> 19\u001b[0m d_test \u001b[38;5;241m=\u001b[39m \u001b[43mxgb\u001b[49m\u001b[38;5;241;43m.\u001b[39;49m\u001b[43mdask\u001b[49m\u001b[38;5;241;43m.\u001b[39;49m\u001b[43mDaskDMatrix\u001b[49m\u001b[43m(\u001b[49m\u001b[43mclient\u001b[49m\u001b[43m,\u001b[49m\u001b[43m \u001b[49m\u001b[43mX_test\u001b[49m\u001b[43m,\u001b[49m\u001b[43m \u001b[49m\u001b[43my_test\u001b[49m\u001b[43m)\u001b[49m\n\u001b[1;32m     21\u001b[0m booster_model \u001b[38;5;241m=\u001b[39m my_model[\u001b[38;5;124m'\u001b[39m\u001b[38;5;124mbooster\u001b[39m\u001b[38;5;124m'\u001b[39m] \u001b[38;5;28;01mif\u001b[39;00m my_model \u001b[38;5;129;01mis\u001b[39;00m \u001b[38;5;129;01mnot\u001b[39;00m \u001b[38;5;28;01mNone\u001b[39;00m \u001b[38;5;28;01melse\u001b[39;00m \u001b[38;5;28;01mNone\u001b[39;00m\n\u001b[1;32m     22\u001b[0m logging\u001b[38;5;241m.\u001b[39minfo(\u001b[38;5;124mf\u001b[39m\u001b[38;5;124m\"\u001b[39m\u001b[38;5;124mTraining model...\u001b[39m\u001b[38;5;124m\"\u001b[39m)\n",
      "File \u001b[0;32m~/miniforge3/envs/cp/lib/python3.11/site-packages/xgboost/core.py:730\u001b[0m, in \u001b[0;36mrequire_keyword_args.<locals>.throw_if.<locals>.inner_f\u001b[0;34m(*args, **kwargs)\u001b[0m\n\u001b[1;32m    728\u001b[0m \u001b[38;5;28;01mfor\u001b[39;00m k, arg \u001b[38;5;129;01min\u001b[39;00m \u001b[38;5;28mzip\u001b[39m(sig\u001b[38;5;241m.\u001b[39mparameters, args):\n\u001b[1;32m    729\u001b[0m     kwargs[k] \u001b[38;5;241m=\u001b[39m arg\n\u001b[0;32m--> 730\u001b[0m \u001b[38;5;28;01mreturn\u001b[39;00m \u001b[43mfunc\u001b[49m\u001b[43m(\u001b[49m\u001b[38;5;241;43m*\u001b[39;49m\u001b[38;5;241;43m*\u001b[39;49m\u001b[43mkwargs\u001b[49m\u001b[43m)\u001b[49m\n",
      "File \u001b[0;32m~/miniforge3/envs/cp/lib/python3.11/site-packages/xgboost/dask.py:332\u001b[0m, in \u001b[0;36mDaskDMatrix.__init__\u001b[0;34m(self, client, data, label, weight, base_margin, missing, silent, feature_names, feature_types, group, qid, label_lower_bound, label_upper_bound, feature_weights, enable_categorical)\u001b[0m\n\u001b[1;32m    329\u001b[0m \u001b[38;5;28mself\u001b[39m\u001b[38;5;241m.\u001b[39mworker_map: Dict[\u001b[38;5;28mstr\u001b[39m, List[distributed\u001b[38;5;241m.\u001b[39mFuture]] \u001b[38;5;241m=\u001b[39m defaultdict(\u001b[38;5;28mlist\u001b[39m)\n\u001b[1;32m    330\u001b[0m \u001b[38;5;28mself\u001b[39m\u001b[38;5;241m.\u001b[39mis_quantile: \u001b[38;5;28mbool\u001b[39m \u001b[38;5;241m=\u001b[39m \u001b[38;5;28;01mFalse\u001b[39;00m\n\u001b[0;32m--> 332\u001b[0m \u001b[38;5;28mself\u001b[39m\u001b[38;5;241m.\u001b[39m_init \u001b[38;5;241m=\u001b[39m \u001b[43mclient\u001b[49m\u001b[38;5;241;43m.\u001b[39;49m\u001b[43msync\u001b[49m\u001b[43m(\u001b[49m\n\u001b[1;32m    333\u001b[0m \u001b[43m    \u001b[49m\u001b[38;5;28;43mself\u001b[39;49m\u001b[38;5;241;43m.\u001b[39;49m\u001b[43m_map_local_data\u001b[49m\u001b[43m,\u001b[49m\n\u001b[1;32m    334\u001b[0m \u001b[43m    \u001b[49m\u001b[43mclient\u001b[49m\u001b[43m,\u001b[49m\n\u001b[1;32m    335\u001b[0m \u001b[43m    \u001b[49m\u001b[43mdata\u001b[49m\u001b[43m,\u001b[49m\n\u001b[1;32m    336\u001b[0m \u001b[43m    \u001b[49m\u001b[43mlabel\u001b[49m\u001b[38;5;241;43m=\u001b[39;49m\u001b[43mlabel\u001b[49m\u001b[43m,\u001b[49m\n\u001b[1;32m    337\u001b[0m \u001b[43m    \u001b[49m\u001b[43mweights\u001b[49m\u001b[38;5;241;43m=\u001b[39;49m\u001b[43mweight\u001b[49m\u001b[43m,\u001b[49m\n\u001b[1;32m    338\u001b[0m \u001b[43m    \u001b[49m\u001b[43mbase_margin\u001b[49m\u001b[38;5;241;43m=\u001b[39;49m\u001b[43mbase_margin\u001b[49m\u001b[43m,\u001b[49m\n\u001b[1;32m    339\u001b[0m \u001b[43m    \u001b[49m\u001b[43mqid\u001b[49m\u001b[38;5;241;43m=\u001b[39;49m\u001b[43mqid\u001b[49m\u001b[43m,\u001b[49m\n\u001b[1;32m    340\u001b[0m \u001b[43m    \u001b[49m\u001b[43mfeature_weights\u001b[49m\u001b[38;5;241;43m=\u001b[39;49m\u001b[43mfeature_weights\u001b[49m\u001b[43m,\u001b[49m\n\u001b[1;32m    341\u001b[0m \u001b[43m    \u001b[49m\u001b[43mlabel_lower_bound\u001b[49m\u001b[38;5;241;43m=\u001b[39;49m\u001b[43mlabel_lower_bound\u001b[49m\u001b[43m,\u001b[49m\n\u001b[1;32m    342\u001b[0m \u001b[43m    \u001b[49m\u001b[43mlabel_upper_bound\u001b[49m\u001b[38;5;241;43m=\u001b[39;49m\u001b[43mlabel_upper_bound\u001b[49m\u001b[43m,\u001b[49m\n\u001b[1;32m    343\u001b[0m \u001b[43m\u001b[49m\u001b[43m)\u001b[49m\n",
      "File \u001b[0;32m~/miniforge3/envs/cp/lib/python3.11/site-packages/distributed/utils.py:358\u001b[0m, in \u001b[0;36mSyncMethodMixin.sync\u001b[0;34m(self, func, asynchronous, callback_timeout, *args, **kwargs)\u001b[0m\n\u001b[1;32m    356\u001b[0m     \u001b[38;5;28;01mreturn\u001b[39;00m future\n\u001b[1;32m    357\u001b[0m \u001b[38;5;28;01melse\u001b[39;00m:\n\u001b[0;32m--> 358\u001b[0m     \u001b[38;5;28;01mreturn\u001b[39;00m \u001b[43msync\u001b[49m\u001b[43m(\u001b[49m\n\u001b[1;32m    359\u001b[0m \u001b[43m        \u001b[49m\u001b[38;5;28;43mself\u001b[39;49m\u001b[38;5;241;43m.\u001b[39;49m\u001b[43mloop\u001b[49m\u001b[43m,\u001b[49m\u001b[43m \u001b[49m\u001b[43mfunc\u001b[49m\u001b[43m,\u001b[49m\u001b[43m \u001b[49m\u001b[38;5;241;43m*\u001b[39;49m\u001b[43margs\u001b[49m\u001b[43m,\u001b[49m\u001b[43m \u001b[49m\u001b[43mcallback_timeout\u001b[49m\u001b[38;5;241;43m=\u001b[39;49m\u001b[43mcallback_timeout\u001b[49m\u001b[43m,\u001b[49m\u001b[43m \u001b[49m\u001b[38;5;241;43m*\u001b[39;49m\u001b[38;5;241;43m*\u001b[39;49m\u001b[43mkwargs\u001b[49m\n\u001b[1;32m    360\u001b[0m \u001b[43m    \u001b[49m\u001b[43m)\u001b[49m\n",
      "File \u001b[0;32m~/miniforge3/envs/cp/lib/python3.11/site-packages/distributed/utils.py:431\u001b[0m, in \u001b[0;36msync\u001b[0;34m(loop, func, callback_timeout, *args, **kwargs)\u001b[0m\n\u001b[1;32m    429\u001b[0m \u001b[38;5;28;01melse\u001b[39;00m:\n\u001b[1;32m    430\u001b[0m     \u001b[38;5;28;01mwhile\u001b[39;00m \u001b[38;5;129;01mnot\u001b[39;00m e\u001b[38;5;241m.\u001b[39mis_set():\n\u001b[0;32m--> 431\u001b[0m         \u001b[43mwait\u001b[49m\u001b[43m(\u001b[49m\u001b[38;5;241;43m10\u001b[39;49m\u001b[43m)\u001b[49m\n\u001b[1;32m    433\u001b[0m \u001b[38;5;28;01mif\u001b[39;00m error \u001b[38;5;129;01mis\u001b[39;00m \u001b[38;5;129;01mnot\u001b[39;00m \u001b[38;5;28;01mNone\u001b[39;00m:\n\u001b[1;32m    434\u001b[0m     \u001b[38;5;28;01mraise\u001b[39;00m error\n",
      "File \u001b[0;32m~/miniforge3/envs/cp/lib/python3.11/site-packages/distributed/utils.py:420\u001b[0m, in \u001b[0;36msync.<locals>.wait\u001b[0;34m(timeout)\u001b[0m\n\u001b[1;32m    418\u001b[0m \u001b[38;5;28;01mdef\u001b[39;00m \u001b[38;5;21mwait\u001b[39m(timeout: \u001b[38;5;28mfloat\u001b[39m \u001b[38;5;241m|\u001b[39m \u001b[38;5;28;01mNone\u001b[39;00m) \u001b[38;5;241m-\u001b[39m\u001b[38;5;241m>\u001b[39m \u001b[38;5;28mbool\u001b[39m:\n\u001b[1;32m    419\u001b[0m     \u001b[38;5;28;01mtry\u001b[39;00m:\n\u001b[0;32m--> 420\u001b[0m         \u001b[38;5;28;01mreturn\u001b[39;00m \u001b[43me\u001b[49m\u001b[38;5;241;43m.\u001b[39;49m\u001b[43mwait\u001b[49m\u001b[43m(\u001b[49m\u001b[43mtimeout\u001b[49m\u001b[43m)\u001b[49m\n\u001b[1;32m    421\u001b[0m     \u001b[38;5;28;01mexcept\u001b[39;00m \u001b[38;5;167;01mKeyboardInterrupt\u001b[39;00m:\n\u001b[1;32m    422\u001b[0m         loop\u001b[38;5;241m.\u001b[39madd_callback(cancel)\n",
      "File \u001b[0;32m~/miniforge3/envs/cp/lib/python3.11/threading.py:622\u001b[0m, in \u001b[0;36mEvent.wait\u001b[0;34m(self, timeout)\u001b[0m\n\u001b[1;32m    620\u001b[0m signaled \u001b[38;5;241m=\u001b[39m \u001b[38;5;28mself\u001b[39m\u001b[38;5;241m.\u001b[39m_flag\n\u001b[1;32m    621\u001b[0m \u001b[38;5;28;01mif\u001b[39;00m \u001b[38;5;129;01mnot\u001b[39;00m signaled:\n\u001b[0;32m--> 622\u001b[0m     signaled \u001b[38;5;241m=\u001b[39m \u001b[38;5;28;43mself\u001b[39;49m\u001b[38;5;241;43m.\u001b[39;49m\u001b[43m_cond\u001b[49m\u001b[38;5;241;43m.\u001b[39;49m\u001b[43mwait\u001b[49m\u001b[43m(\u001b[49m\u001b[43mtimeout\u001b[49m\u001b[43m)\u001b[49m\n\u001b[1;32m    623\u001b[0m \u001b[38;5;28;01mreturn\u001b[39;00m signaled\n",
      "File \u001b[0;32m~/miniforge3/envs/cp/lib/python3.11/threading.py:324\u001b[0m, in \u001b[0;36mCondition.wait\u001b[0;34m(self, timeout)\u001b[0m\n\u001b[1;32m    322\u001b[0m \u001b[38;5;28;01melse\u001b[39;00m:\n\u001b[1;32m    323\u001b[0m     \u001b[38;5;28;01mif\u001b[39;00m timeout \u001b[38;5;241m>\u001b[39m \u001b[38;5;241m0\u001b[39m:\n\u001b[0;32m--> 324\u001b[0m         gotit \u001b[38;5;241m=\u001b[39m \u001b[43mwaiter\u001b[49m\u001b[38;5;241;43m.\u001b[39;49m\u001b[43macquire\u001b[49m\u001b[43m(\u001b[49m\u001b[38;5;28;43;01mTrue\u001b[39;49;00m\u001b[43m,\u001b[49m\u001b[43m \u001b[49m\u001b[43mtimeout\u001b[49m\u001b[43m)\u001b[49m\n\u001b[1;32m    325\u001b[0m     \u001b[38;5;28;01melse\u001b[39;00m:\n\u001b[1;32m    326\u001b[0m         gotit \u001b[38;5;241m=\u001b[39m waiter\u001b[38;5;241m.\u001b[39macquire(\u001b[38;5;28;01mFalse\u001b[39;00m)\n",
      "\u001b[0;31mKeyboardInterrupt\u001b[0m: "
     ]
    },
    {
     "name": "stderr",
     "output_type": "stream",
     "text": [
      "2024-01-17 23:52:11,271 - distributed.nanny - ERROR - Worker process died unexpectedly\n",
      "Process Dask Worker process (from Nanny):\n",
      "2024-01-17 23:52:11,273 - distributed.nanny - ERROR - Worker process died unexpectedly\n",
      "Traceback (most recent call last):\n",
      "Process Dask Worker process (from Nanny):\n",
      "  File \"/home/kevin/miniforge3/envs/cp/lib/python3.11/asyncio/runners.py\", line 118, in run\n",
      "    return self._loop.run_until_complete(task)\n",
      "           ^^^^^^^^^^^^^^^^^^^^^^^^^^^^^^^^^^^\n",
      "  File \"/home/kevin/miniforge3/envs/cp/lib/python3.11/asyncio/base_events.py\", line 653, in run_until_complete\n",
      "    return future.result()\n",
      "           ^^^^^^^^^^^^^^^\n",
      "  File \"/home/kevin/miniforge3/envs/cp/lib/python3.11/site-packages/distributed/nanny.py\", line 976, in run\n",
      "    await worker.finished()\n",
      "  File \"/home/kevin/miniforge3/envs/cp/lib/python3.11/site-packages/distributed/core.py\", line 629, in finished\n",
      "    await self._event_finished.wait()\n",
      "  File \"/home/kevin/miniforge3/envs/cp/lib/python3.11/asyncio/locks.py\", line 213, in wait\n",
      "    await fut\n",
      "asyncio.exceptions.CancelledError\n",
      "\n",
      "During handling of the above exception, another exception occurred:\n",
      "\n",
      "Traceback (most recent call last):\n",
      "  File \"/home/kevin/miniforge3/envs/cp/lib/python3.11/multiprocessing/process.py\", line 314, in _bootstrap\n",
      "    self.run()\n",
      "  File \"/home/kevin/miniforge3/envs/cp/lib/python3.11/multiprocessing/process.py\", line 108, in run\n",
      "    self._target(*self._args, **self._kwargs)\n",
      "  File \"/home/kevin/miniforge3/envs/cp/lib/python3.11/site-packages/distributed/process.py\", line 202, in _run\n",
      "    target(*args, **kwargs)\n",
      "  File \"/home/kevin/miniforge3/envs/cp/lib/python3.11/site-packages/distributed/nanny.py\", line 1014, in _run\n",
      "    asyncio_run(run(), loop_factory=get_loop_factory())\n",
      "  File \"/home/kevin/miniforge3/envs/cp/lib/python3.11/site-packages/distributed/compatibility.py\", line 204, in asyncio_run\n",
      "    return runner.run(main)\n",
      "           ^^^^^^^^^^^^^^^^\n",
      "  File \"/home/kevin/miniforge3/envs/cp/lib/python3.11/asyncio/runners.py\", line 123, in run\n",
      "    raise KeyboardInterrupt()\n",
      "KeyboardInterrupt\n",
      "Traceback (most recent call last):\n",
      "  File \"/home/kevin/miniforge3/envs/cp/lib/python3.11/asyncio/runners.py\", line 118, in run\n",
      "    return self._loop.run_until_complete(task)\n",
      "           ^^^^^^^^^^^^^^^^^^^^^^^^^^^^^^^^^^^\n",
      "  File \"/home/kevin/miniforge3/envs/cp/lib/python3.11/asyncio/base_events.py\", line 653, in run_until_complete\n",
      "    return future.result()\n",
      "           ^^^^^^^^^^^^^^^\n",
      "  File \"/home/kevin/miniforge3/envs/cp/lib/python3.11/site-packages/distributed/nanny.py\", line 976, in run\n",
      "    await worker.finished()\n",
      "  File \"/home/kevin/miniforge3/envs/cp/lib/python3.11/site-packages/distributed/core.py\", line 629, in finished\n",
      "    await self._event_finished.wait()\n",
      "  File \"/home/kevin/miniforge3/envs/cp/lib/python3.11/asyncio/locks.py\", line 213, in wait\n",
      "    await fut\n",
      "asyncio.exceptions.CancelledError\n",
      "\n",
      "During handling of the above exception, another exception occurred:\n",
      "\n",
      "Traceback (most recent call last):\n",
      "  File \"/home/kevin/miniforge3/envs/cp/lib/python3.11/multiprocessing/process.py\", line 314, in _bootstrap\n",
      "    self.run()\n",
      "  File \"/home/kevin/miniforge3/envs/cp/lib/python3.11/multiprocessing/process.py\", line 108, in run\n",
      "    self._target(*self._args, **self._kwargs)\n",
      "  File \"/home/kevin/miniforge3/envs/cp/lib/python3.11/site-packages/distributed/process.py\", line 202, in _run\n",
      "    target(*args, **kwargs)\n",
      "  File \"/home/kevin/miniforge3/envs/cp/lib/python3.11/site-packages/distributed/nanny.py\", line 1014, in _run\n",
      "    asyncio_run(run(), loop_factory=get_loop_factory())\n",
      "  File \"/home/kevin/miniforge3/envs/cp/lib/python3.11/site-packages/distributed/compatibility.py\", line 204, in asyncio_run\n",
      "    return runner.run(main)\n",
      "           ^^^^^^^^^^^^^^^^\n",
      "  File \"/home/kevin/miniforge3/envs/cp/lib/python3.11/asyncio/runners.py\", line 123, in run\n",
      "    raise KeyboardInterrupt()\n",
      "KeyboardInterrupt\n",
      "2024-01-17 23:52:11,283 - distributed.nanny - ERROR - Worker process died unexpectedly\n",
      "Process Dask Worker process (from Nanny):\n",
      "Traceback (most recent call last):\n",
      "  File \"/home/kevin/miniforge3/envs/cp/lib/python3.11/asyncio/runners.py\", line 118, in run\n",
      "    return self._loop.run_until_complete(task)\n",
      "           ^^^^^^^^^^^^^^^^^^^^^^^^^^^^^^^^^^^\n",
      "  File \"/home/kevin/miniforge3/envs/cp/lib/python3.11/asyncio/base_events.py\", line 653, in run_until_complete\n",
      "    return future.result()\n",
      "           ^^^^^^^^^^^^^^^\n",
      "  File \"/home/kevin/miniforge3/envs/cp/lib/python3.11/site-packages/distributed/nanny.py\", line 976, in run\n",
      "    await worker.finished()\n",
      "  File \"/home/kevin/miniforge3/envs/cp/lib/python3.11/site-packages/distributed/core.py\", line 629, in finished\n",
      "    await self._event_finished.wait()\n",
      "  File \"/home/kevin/miniforge3/envs/cp/lib/python3.11/asyncio/locks.py\", line 213, in wait\n",
      "    await fut\n",
      "asyncio.exceptions.CancelledError\n",
      "\n",
      "During handling of the above exception, another exception occurred:\n",
      "\n",
      "Traceback (most recent call last):\n",
      "  File \"/home/kevin/miniforge3/envs/cp/lib/python3.11/multiprocessing/process.py\", line 314, in _bootstrap\n",
      "    self.run()\n",
      "  File \"/home/kevin/miniforge3/envs/cp/lib/python3.11/multiprocessing/process.py\", line 108, in run\n",
      "    self._target(*self._args, **self._kwargs)\n",
      "  File \"/home/kevin/miniforge3/envs/cp/lib/python3.11/site-packages/distributed/process.py\", line 202, in _run\n",
      "    target(*args, **kwargs)\n",
      "  File \"/home/kevin/miniforge3/envs/cp/lib/python3.11/site-packages/distributed/nanny.py\", line 1014, in _run\n",
      "    asyncio_run(run(), loop_factory=get_loop_factory())\n",
      "  File \"/home/kevin/miniforge3/envs/cp/lib/python3.11/site-packages/distributed/compatibility.py\", line 204, in asyncio_run\n",
      "    return runner.run(main)\n",
      "           ^^^^^^^^^^^^^^^^\n",
      "  File \"/home/kevin/miniforge3/envs/cp/lib/python3.11/asyncio/runners.py\", line 123, in run\n",
      "    raise KeyboardInterrupt()\n",
      "KeyboardInterrupt\n",
      "Process Dask Worker process (from Nanny):\n",
      "Traceback (most recent call last):\n",
      "  File \"/home/kevin/miniforge3/envs/cp/lib/python3.11/asyncio/runners.py\", line 118, in run\n",
      "    return self._loop.run_until_complete(task)\n",
      "           ^^^^^^^^^^^^^^^^^^^^^^^^^^^^^^^^^^^\n",
      "  File \"/home/kevin/miniforge3/envs/cp/lib/python3.11/asyncio/base_events.py\", line 653, in run_until_complete\n",
      "    return future.result()\n",
      "           ^^^^^^^^^^^^^^^\n",
      "  File \"/home/kevin/miniforge3/envs/cp/lib/python3.11/site-packages/distributed/nanny.py\", line 976, in run\n",
      "    await worker.finished()\n",
      "  File \"/home/kevin/miniforge3/envs/cp/lib/python3.11/site-packages/distributed/core.py\", line 629, in finished\n",
      "    await self._event_finished.wait()\n",
      "  File \"/home/kevin/miniforge3/envs/cp/lib/python3.11/asyncio/locks.py\", line 213, in wait\n",
      "    await fut\n",
      "asyncio.exceptions.CancelledError\n",
      "\n",
      "During handling of the above exception, another exception occurred:\n",
      "\n",
      "Traceback (most recent call last):\n",
      "  File \"/home/kevin/miniforge3/envs/cp/lib/python3.11/multiprocessing/process.py\", line 314, in _bootstrap\n",
      "    self.run()\n",
      "  File \"/home/kevin/miniforge3/envs/cp/lib/python3.11/multiprocessing/process.py\", line 108, in run\n",
      "    self._target(*self._args, **self._kwargs)\n",
      "  File \"/home/kevin/miniforge3/envs/cp/lib/python3.11/site-packages/distributed/process.py\", line 202, in _run\n",
      "    target(*args, **kwargs)\n",
      "  File \"/home/kevin/miniforge3/envs/cp/lib/python3.11/site-packages/distributed/nanny.py\", line 1014, in _run\n",
      "    asyncio_run(run(), loop_factory=get_loop_factory())\n",
      "  File \"/home/kevin/miniforge3/envs/cp/lib/python3.11/site-packages/distributed/compatibility.py\", line 204, in asyncio_run\n",
      "    return runner.run(main)\n",
      "           ^^^^^^^^^^^^^^^^\n",
      "  File \"/home/kevin/miniforge3/envs/cp/lib/python3.11/asyncio/runners.py\", line 123, in run\n",
      "    raise KeyboardInterrupt()\n",
      "KeyboardInterrupt\n",
      "Process Dask Worker process (from Nanny):\n",
      "Traceback (most recent call last):\n",
      "  File \"/home/kevin/miniforge3/envs/cp/lib/python3.11/asyncio/runners.py\", line 118, in run\n",
      "    return self._loop.run_until_complete(task)\n",
      "           ^^^^^^^^^^^^^^^^^^^^^^^^^^^^^^^^^^^\n",
      "  File \"/home/kevin/miniforge3/envs/cp/lib/python3.11/asyncio/base_events.py\", line 653, in run_until_complete\n",
      "    return future.result()\n",
      "           ^^^^^^^^^^^^^^^\n",
      "  File \"/home/kevin/miniforge3/envs/cp/lib/python3.11/site-packages/distributed/nanny.py\", line 976, in run\n",
      "    await worker.finished()\n",
      "  File \"/home/kevin/miniforge3/envs/cp/lib/python3.11/site-packages/distributed/core.py\", line 629, in finished\n",
      "    await self._event_finished.wait()\n",
      "  File \"/home/kevin/miniforge3/envs/cp/lib/python3.11/asyncio/locks.py\", line 213, in wait\n",
      "    await fut\n",
      "asyncio.exceptions.CancelledError\n",
      "\n",
      "During handling of the above exception, another exception occurred:\n",
      "\n",
      "Traceback (most recent call last):\n",
      "  File \"/home/kevin/miniforge3/envs/cp/lib/python3.11/multiprocessing/process.py\", line 314, in _bootstrap\n",
      "    self.run()\n",
      "  File \"/home/kevin/miniforge3/envs/cp/lib/python3.11/multiprocessing/process.py\", line 108, in run\n",
      "    self._target(*self._args, **self._kwargs)\n",
      "  File \"/home/kevin/miniforge3/envs/cp/lib/python3.11/site-packages/distributed/process.py\", line 202, in _run\n",
      "    target(*args, **kwargs)\n",
      "  File \"/home/kevin/miniforge3/envs/cp/lib/python3.11/site-packages/distributed/nanny.py\", line 1014, in _run\n",
      "    asyncio_run(run(), loop_factory=get_loop_factory())\n",
      "  File \"/home/kevin/miniforge3/envs/cp/lib/python3.11/site-packages/distributed/compatibility.py\", line 204, in asyncio_run\n",
      "    return runner.run(main)\n",
      "           ^^^^^^^^^^^^^^^^\n",
      "  File \"/home/kevin/miniforge3/envs/cp/lib/python3.11/asyncio/runners.py\", line 123, in run\n",
      "    raise KeyboardInterrupt()\n",
      "KeyboardInterrupt\n"
     ]
    }
   ],
   "source": [
    "best_model = objective(best_trial_copy, disp_params = True, save = True)"
   ]
  },
  {
   "cell_type": "code",
   "execution_count": 106,
   "metadata": {
    "execution": {
     "iopub.execute_input": "2024-01-16T13:36:05.837093Z",
     "iopub.status.busy": "2024-01-16T13:36:05.836594Z",
     "iopub.status.idle": "2024-01-16T13:36:05.881372Z",
     "shell.execute_reply": "2024-01-16T13:36:05.880501Z",
     "shell.execute_reply.started": "2024-01-16T13:36:05.837050Z"
    }
   },
   "outputs": [
    {
     "data": {
      "text/plain": [
       "9"
      ]
     },
     "execution_count": 106,
     "metadata": {},
     "output_type": "execute_result"
    },
    {
     "data": {
      "text/plain": [
       "dict_keys(['booster', 'history'])"
      ]
     },
     "execution_count": 106,
     "metadata": {},
     "output_type": "execute_result"
    }
   ],
   "source": [
    "trial.number\n",
    "best_model.keys()"
   ]
  },
  {
   "cell_type": "markdown",
   "metadata": {
    "ExecuteTime": {
     "end_time": "2023-12-21T20:51:34.419906Z",
     "start_time": "2023-12-21T20:51:34.402698Z"
    },
    "execution": {
     "iopub.execute_input": "2024-01-16T13:36:19.629493Z",
     "iopub.status.busy": "2024-01-16T13:36:19.629192Z",
     "iopub.status.idle": "2024-01-16T13:36:19.691195Z",
     "shell.execute_reply": "2024-01-16T13:36:19.690549Z",
     "shell.execute_reply.started": "2024-01-16T13:36:19.629470Z"
    }
   },
   "source": [
    "### Save best model"
   ]
  },
  {
   "cell_type": "code",
   "execution_count": 125,
   "metadata": {
    "execution": {
     "iopub.execute_input": "2024-01-16T14:41:47.267619Z",
     "iopub.status.busy": "2024-01-16T14:41:47.267344Z",
     "iopub.status.idle": "2024-01-16T14:41:47.305738Z",
     "shell.execute_reply": "2024-01-16T14:41:47.304609Z",
     "shell.execute_reply.started": "2024-01-16T14:41:47.267597Z"
    }
   },
   "outputs": [
    {
     "name": "stdout",
     "output_type": "stream",
     "text": [
      " Save model to : multiobjective-study-2_trial_009.model\n"
     ]
    }
   ],
   "source": [
    "save_as_filename = f\"{study.study_name}_trial_{trial.number:03d}.json\"\n",
    "print(f\" Save model to : {save_as_filename}\")"
   ]
  },
  {
   "cell_type": "code",
   "execution_count": null,
   "metadata": {
    "ExecuteTime": {
     "end_time": "2023-12-21T20:51:34.419906Z",
     "start_time": "2023-12-21T20:51:34.402698Z"
    },
    "execution": {
     "iopub.execute_input": "2024-01-16T13:36:19.629493Z",
     "iopub.status.busy": "2024-01-16T13:36:19.629192Z",
     "iopub.status.idle": "2024-01-16T13:36:19.691195Z",
     "shell.execute_reply": "2024-01-16T13:36:19.690549Z",
     "shell.execute_reply.started": "2024-01-16T13:36:19.629470Z"
    }
   },
   "outputs": [],
   "source": [
    "best_model['booster'].save_model(save_as_filename)"
   ]
  },
  {
   "cell_type": "markdown",
   "metadata": {},
   "source": [
    "# Load best saved model and run against a test set"
   ]
  },
  {
   "cell_type": "code",
   "execution_count": 34,
   "metadata": {
    "execution": {
     "iopub.execute_input": "2024-01-24T18:08:58.506243Z",
     "iopub.status.busy": "2024-01-24T18:08:58.505526Z",
     "iopub.status.idle": "2024-01-24T18:08:58.556819Z",
     "shell.execute_reply": "2024-01-24T18:08:58.556025Z",
     "shell.execute_reply.started": "2024-01-24T18:08:58.506181Z"
    }
   },
   "outputs": [],
   "source": [
    "study_name=\"multiobjective-study-3\""
   ]
  },
  {
   "cell_type": "code",
   "execution_count": 31,
   "metadata": {
    "execution": {
     "iopub.execute_input": "2024-01-17T16:49:03.494933Z",
     "iopub.status.busy": "2024-01-17T16:49:03.493625Z",
     "iopub.status.idle": "2024-01-17T16:49:03.622803Z",
     "shell.execute_reply": "2024-01-17T16:49:03.618080Z",
     "shell.execute_reply.started": "2024-01-17T16:49:03.494849Z"
    }
   },
   "outputs": [
    {
     "name": "stderr",
     "output_type": "stream",
     "text": [
      "[I 2024-01-17 17:49:03,604] Using an existing study with name 'multiobjective-study-2' instead of creating a new one.\n"
     ]
    },
    {
     "name": "stdout",
     "output_type": "stream",
     "text": [
      "Total time:  0:00:00.058899\n"
     ]
    }
   ],
   "source": [
    "start = datetime.now()\n",
    "study = optuna.create_study(storage=\"sqlite:///example.db\",\n",
    "                            study_name=study_name,\n",
    "                            directions=[\"minimize\", \"maximize\"], \n",
    "                            load_if_exists=True)\n",
    "# study.set_metric_names([\"mse_score\", \"R2_score\"])\n",
    "print(f\"Total time:  {datetime.now() - start}\")"
   ]
  },
  {
   "cell_type": "code",
   "execution_count": 25,
   "metadata": {
    "execution": {
     "iopub.execute_input": "2024-01-17T16:42:51.669324Z",
     "iopub.status.busy": "2024-01-17T16:42:51.668794Z",
     "iopub.status.idle": "2024-01-17T16:42:51.769814Z",
     "shell.execute_reply": "2024-01-17T16:42:51.768814Z",
     "shell.execute_reply.started": "2024-01-17T16:42:51.669268Z"
    }
   },
   "outputs": [],
   "source": [
    "best_trial = study.best_trials[0]"
   ]
  },
  {
   "cell_type": "code",
   "execution_count": 26,
   "metadata": {
    "execution": {
     "iopub.execute_input": "2024-01-17T16:42:52.542164Z",
     "iopub.status.busy": "2024-01-17T16:42:52.540734Z",
     "iopub.status.idle": "2024-01-17T16:42:52.606284Z",
     "shell.execute_reply": "2024-01-17T16:42:52.604611Z",
     "shell.execute_reply.started": "2024-01-17T16:42:52.542101Z"
    }
   },
   "outputs": [
    {
     "name": "stdout",
     "output_type": "stream",
     "text": [
      " Load model from : multiobjective-study-2_trial_009.model\n"
     ]
    }
   ],
   "source": [
    "best_filename = f\"{study.study_name}_trial_{best_trial.number:03d}.model\"\n",
    "print(f\" Load model from : {best_filename}\")"
   ]
  },
  {
   "cell_type": "code",
   "execution_count": 27,
   "metadata": {
    "execution": {
     "iopub.execute_input": "2024-01-17T16:42:53.225614Z",
     "iopub.status.busy": "2024-01-17T16:42:53.225150Z",
     "iopub.status.idle": "2024-01-17T16:42:53.319198Z",
     "shell.execute_reply": "2024-01-17T16:42:53.318499Z",
     "shell.execute_reply.started": "2024-01-17T16:42:53.225576Z"
    }
   },
   "outputs": [
    {
     "data": {
      "text/plain": [
       "<xgboost.core.Booster at 0x7f47f00ea690>"
      ]
     },
     "execution_count": 27,
     "metadata": {},
     "output_type": "execute_result"
    }
   ],
   "source": [
    "model_copy = xgb.Booster()\n",
    "model_copy.load_model(best_filename)\n",
    "model_copy"
   ]
  },
  {
   "cell_type": "code",
   "execution_count": 27,
   "metadata": {
    "execution": {
     "iopub.execute_input": "2024-01-17T16:07:12.143555Z",
     "iopub.status.busy": "2024-01-17T16:07:12.142434Z",
     "iopub.status.idle": "2024-01-17T16:07:12.606303Z",
     "shell.execute_reply": "2024-01-17T16:07:12.605283Z",
     "shell.execute_reply.started": "2024-01-17T16:07:12.143504Z"
    }
   },
   "outputs": [
    {
     "name": "stdout",
     "output_type": "stream",
     "text": [
      " Reading cell profiles file :  ./output_11102023/compound_profiles_2samples.csv\n",
      " Number of partitions:  261   partition(1) shape: (Delayed('int-e1e5a716-b1ba-406d-85de-471b9c4dec59'), 1478)\n"
     ]
    }
   ],
   "source": [
    "print(f\" Reading cell profiles file :  {CompoundProfiles2SampleFileCSV}\")\n",
    "df_ps = dd.read_csv(CompoundProfiles2SampleFileCSV, usecols=Xy_columns, dtype= Xy_columns_dtype)   \n",
    "print(f\" Number of partitions:  {df_ps.npartitions}   partition(1) shape: {df_ps.get_partition(0).shape}\")"
   ]
  },
  {
   "cell_type": "code",
   "execution_count": 28,
   "metadata": {
    "execution": {
     "iopub.execute_input": "2024-01-17T16:07:13.591025Z",
     "iopub.status.busy": "2024-01-17T16:07:13.590468Z",
     "iopub.status.idle": "2024-01-17T16:07:13.643669Z",
     "shell.execute_reply": "2024-01-17T16:07:13.643016Z",
     "shell.execute_reply.started": "2024-01-17T16:07:13.590985Z"
    }
   },
   "outputs": [
    {
     "data": {
      "text/plain": [
       "dask.dataframe.core.DataFrame"
      ]
     },
     "execution_count": 28,
     "metadata": {},
     "output_type": "execute_result"
    },
    {
     "name": "stdout",
     "output_type": "stream",
     "text": [
      "<class 'dask.dataframe.core.DataFrame'>\n",
      "Columns: 1478 entries, Metadata_log10TPSA to Nuclei_Texture_SumVariance_RNA_10_01_256\n",
      "dtypes: float32(1478)"
     ]
    }
   ],
   "source": [
    "# df_ps.shape\n",
    "type(df_ps)\n",
    "df_ps.info()\n",
    "# df_ps.head()\n",
    "# df_ps.get_partition(0).compute().shape\n",
    "# df_ps.get_partition(1).compute().shape\n",
    "# df_ps.get_partition(100).compute().shape\n",
    "# _ps.get_partition(150).compute().shape\n",
    "\n",
    "\n",
    "# df_ps.get_partition(df_ps.npartitions-1).compute().shape\n",
    "# df_ps.index\n",
    "# df_ps.info()\n",
    "# df_ps.head()\n",
    "# df_ps.head()\n",
    "# df_ps.get_partition(0).head()\n",
    "# df_ps.get_partition(1).head()\n",
    "\n",
    "# df_ps.npartitions\n",
    "# df_ps.get_partition(0).shape\n",
    "# df_ps.known_divisions \n",
    "# df_ps.get_partition(df_ps.npartitions-1).tail(10)\n",
    "\n",
    "# df_ps2 = df_ps.tail(50)\n",
    "# type(df_ps2)\n",
    "# df_ps2.npartitions\n",
    "# df_ps2.get_partition(0).shape\n",
    "# df_ps2.head()"
   ]
  },
  {
   "cell_type": "code",
   "execution_count": 30,
   "metadata": {
    "execution": {
     "iopub.execute_input": "2024-01-17T16:07:15.331446Z",
     "iopub.status.busy": "2024-01-17T16:07:15.330803Z",
     "iopub.status.idle": "2024-01-17T16:07:15.370841Z",
     "shell.execute_reply": "2024-01-17T16:07:15.370168Z",
     "shell.execute_reply.started": "2024-01-17T16:07:15.331398Z"
    }
   },
   "outputs": [],
   "source": [
    "# ss_floorsum = ss_cumsum -ss\n",
    "# ss_floorsum\n",
    "# ss_cumsum\n",
    "# ss\n",
    "# ss.sum()\n",
    "\n",
    "# st, en = get_dd_subset(df_ps, skiprows = 0, nrows = 100, ss =ss)\n",
    "# st, en = get_dd_subset(df_ps, skiprows = 0, nrows = 881, ss =ss)\n",
    "# st, en = get_dd_subset(df_ps, skiprows = 0, nrows = 882, ss =ss)\n",
    "\n",
    "# st, en = get_dd_subset(df_ps, skiprows = 0, nrows = 1000, ss =ss)\n",
    "# st, en = get_dd_subset(df_ps, skiprows = 0, nrows = 1764, ss =ss)\n",
    "# st, en = get_dd_subset(df_ps, skiprows = 0, nrows = 1765, ss =ss)\n",
    "# st, en = get_dd_subset(df_ps, skiprows = 0, nrows = 1766, ss =ss)\n",
    "\n",
    "# st, en = get_dd_subset(df_ps, skiprows = 230454, nrows = 10, ss =ss)\n",
    "# st, en = get_dd_subset(df_ps, skiprows = 230455, nrows = 10, ss =ss)\n",
    "# st, en = get_dd_subset(df_ps, skiprows = 230456, nrows = 10, ss =ss)\n"
   ]
  },
  {
   "cell_type": "code",
   "execution_count": 31,
   "metadata": {
    "execution": {
     "iopub.execute_input": "2024-01-17T16:07:17.476116Z",
     "iopub.status.busy": "2024-01-17T16:07:17.475621Z",
     "iopub.status.idle": "2024-01-17T16:07:48.853879Z",
     "shell.execute_reply": "2024-01-17T16:07:48.852299Z",
     "shell.execute_reply.started": "2024-01-17T16:07:17.476074Z"
    }
   },
   "outputs": [
    {
     "name": "stderr",
     "output_type": "stream",
     "text": [
      "/home/kevin/miniforge3/envs/cp/lib/python3.11/site-packages/dask/dataframe/_pyarrow_compat.py:17: FutureWarning: Minimal version of pyarrow will soon be increased to 14.0.1. You are using 10.0.1. Please consider upgrading.\n",
      "  warnings.warn(\n",
      "/home/kevin/miniforge3/envs/cp/lib/python3.11/site-packages/dask/dataframe/_pyarrow_compat.py:17: FutureWarning: Minimal version of pyarrow will soon be increased to 14.0.1. You are using 10.0.1. Please consider upgrading.\n",
      "  warnings.warn(\n",
      "/home/kevin/miniforge3/envs/cp/lib/python3.11/site-packages/dask/dataframe/_pyarrow_compat.py:17: FutureWarning: Minimal version of pyarrow will soon be increased to 14.0.1. You are using 10.0.1. Please consider upgrading.\n",
      "  warnings.warn(\n",
      "/home/kevin/miniforge3/envs/cp/lib/python3.11/site-packages/dask/dataframe/_pyarrow_compat.py:17: FutureWarning: Minimal version of pyarrow will soon be increased to 14.0.1. You are using 10.0.1. Please consider upgrading.\n",
      "  warnings.warn(\n",
      "/home/kevin/miniforge3/envs/cp/lib/python3.11/site-packages/dask/dataframe/_pyarrow_compat.py:17: FutureWarning: Minimal version of pyarrow will soon be increased to 14.0.1. You are using 10.0.1. Please consider upgrading.\n",
      "  warnings.warn(\n",
      "/home/kevin/miniforge3/envs/cp/lib/python3.11/site-packages/dask/dataframe/_pyarrow_compat.py:17: FutureWarning: Minimal version of pyarrow will soon be increased to 14.0.1. You are using 10.0.1. Please consider upgrading.\n",
      "  warnings.warn(\n"
     ]
    },
    {
     "name": "stdout",
     "output_type": "stream",
     "text": [
      " Skip 100000 rows then read 10000 rows : from  row# 100000 to 110000\n",
      " st idx : Int64Index([113, 114, 115, 116, 117, 118, 119, 120, 121, 122,\n",
      "            ...\n",
      "            251, 252, 253, 254, 255, 256, 257, 258, 259, 260], dtype='int64', length=148)\n",
      " Partition 113 (starting row: 100335   ending row: 101221)  rows: 886   count: 886\n",
      " Partition 114 (starting row: 101221   ending row: 102113)  rows: 892   count: 1778\n",
      " Partition 115 (starting row: 102113   ending row: 103003)  rows: 890   count: 2668\n",
      " Partition 116 (starting row: 103003   ending row: 103891)  rows: 888   count: 3556\n",
      " Partition 117 (starting row: 103891   ending row: 104774)  rows: 883   count: 4439\n",
      " Partition 118 (starting row: 104774   ending row: 105658)  rows: 884   count: 5323\n",
      " Partition 119 (starting row: 105658   ending row: 106540)  rows: 882   count: 6205\n",
      " Partition 120 (starting row: 106540   ending row: 107422)  rows: 882   count: 7087\n",
      " Partition 121 (starting row: 107422   ending row: 108309)  rows: 887   count: 7974\n",
      " Partition 122 (starting row: 108309   ending row: 109198)  rows: 889   count: 8863\n",
      " Partition 123 (starting row: 109198   ending row: 110089)  rows: 891   count: 9754\n",
      " Partition 124 (starting row: 110089   ending row: 110980)  rows: 891   count: 10645\n",
      "\n",
      " Partition range: [113   125] ---- total rows included 10645\n",
      " ***** output (st,en) is (113 , 125)\n",
      " 100335   101221\n",
      " 101221   102113\n",
      " 102113   103003\n",
      " 103003   103891\n",
      " 103891   104774\n",
      " 104774   105658\n",
      " 105658   106540\n",
      " 106540   107422\n",
      " 107422   108309\n",
      " 108309   109198\n",
      " 109198   110089\n",
      " 110089   110980\n",
      "\n",
      "\n",
      "\n"
     ]
    }
   ],
   "source": [
    "st, en = get_dd_subset(df_ps, skiprows = 100000, nrows = 10000, ss =None, verbose = True)"
   ]
  },
  {
   "cell_type": "code",
   "execution_count": 32,
   "metadata": {
    "execution": {
     "iopub.execute_input": "2024-01-17T16:07:48.857686Z",
     "iopub.status.busy": "2024-01-17T16:07:48.857333Z",
     "iopub.status.idle": "2024-01-17T16:07:48.958668Z",
     "shell.execute_reply": "2024-01-17T16:07:48.958048Z",
     "shell.execute_reply.started": "2024-01-17T16:07:48.857661Z"
    }
   },
   "outputs": [],
   "source": [
    "df_test = df_ps.partitions[st:en]"
   ]
  },
  {
   "cell_type": "code",
   "execution_count": 33,
   "metadata": {
    "execution": {
     "iopub.execute_input": "2024-01-17T16:07:48.959978Z",
     "iopub.status.busy": "2024-01-17T16:07:48.959757Z",
     "iopub.status.idle": "2024-01-17T16:07:51.138680Z",
     "shell.execute_reply": "2024-01-17T16:07:51.136735Z",
     "shell.execute_reply.started": "2024-01-17T16:07:48.959957Z"
    }
   },
   "outputs": [
    {
     "data": {
      "text/plain": [
       "12"
      ]
     },
     "execution_count": 33,
     "metadata": {},
     "output_type": "execute_result"
    },
    {
     "data": {
      "text/plain": [
       "0     886\n",
       "1     892\n",
       "2     890\n",
       "3     888\n",
       "4     883\n",
       "5     884\n",
       "6     882\n",
       "7     882\n",
       "8     887\n",
       "9     889\n",
       "10    891\n",
       "11    891\n",
       "dtype: int64"
      ]
     },
     "execution_count": 33,
     "metadata": {},
     "output_type": "execute_result"
    },
    {
     "data": {
      "text/plain": [
       "0       886\n",
       "1      1778\n",
       "2      2668\n",
       "3      3556\n",
       "4      4439\n",
       "5      5323\n",
       "6      6205\n",
       "7      7087\n",
       "8      7974\n",
       "9      8863\n",
       "10     9754\n",
       "11    10645\n",
       "dtype: int64"
      ]
     },
     "execution_count": 33,
     "metadata": {},
     "output_type": "execute_result"
    }
   ],
   "source": [
    "df_test.npartitions\n",
    "dd = df_test.map_partitions(len).compute()\n",
    "dd_cumsum = dd.cumsum()\n",
    "dd\n",
    "dd_cumsum\n"
   ]
  },
  {
   "cell_type": "code",
   "execution_count": 34,
   "metadata": {
    "execution": {
     "iopub.execute_input": "2024-01-17T16:07:51.141860Z",
     "iopub.status.busy": "2024-01-17T16:07:51.141406Z",
     "iopub.status.idle": "2024-01-17T16:07:51.327084Z",
     "shell.execute_reply": "2024-01-17T16:07:51.325655Z",
     "shell.execute_reply.started": "2024-01-17T16:07:51.141819Z"
    }
   },
   "outputs": [
    {
     "data": {
      "text/plain": [
       "{'Metadata_log10TPSA'}"
      ]
     },
     "execution_count": 34,
     "metadata": {},
     "output_type": "execute_result"
    },
    {
     "data": {
      "text/plain": [
       "(Index(['Metadata_log10TPSA'], dtype='object'),\n",
       " (Delayed('int-c80f83a1-ed0b-4c81-afb9-18110bccedb0'), 1))"
      ]
     },
     "execution_count": 34,
     "metadata": {},
     "output_type": "execute_result"
    },
    {
     "data": {
      "text/plain": [
       "((Delayed('int-d1bd2eeb-cab4-4265-bd4c-1dae8e94e4d7'), 1477),\n",
       " Index(['Cells_AreaShape_BoundingBoxMaximum_X', 'Cells_AreaShape_Center_X', 'Cells_AreaShape_Center_Y', 'Cells_AreaShape_Compactness', 'Cells_AreaShape_Eccentricity',\n",
       "        'Cells_AreaShape_EulerNumber', 'Cells_AreaShape_Extent', 'Cells_AreaShape_MajorAxisLength', 'Cells_AreaShape_MedianRadius', 'Cells_AreaShape_MinorAxisLength',\n",
       "        ...\n",
       "        'Nuclei_Texture_SumAverage_DNA_10_01_256', 'Nuclei_Texture_SumAverage_ER_10_01_256', 'Nuclei_Texture_SumAverage_Mito_10_01_256',\n",
       "        'Nuclei_Texture_SumAverage_RNA_10_01_256', 'Nuclei_Texture_SumEntropy_DNA_10_03_256', 'Nuclei_Texture_SumVariance_AGP_10_03_256',\n",
       "        'Nuclei_Texture_SumVariance_DNA_10_03_256', 'Nuclei_Texture_SumVariance_ER_10_01_256', 'Nuclei_Texture_SumVariance_Mito_10_03_256',\n",
       "        'Nuclei_Texture_SumVariance_RNA_10_01_256'],\n",
       "       dtype='object', length=1477))"
      ]
     },
     "execution_count": 34,
     "metadata": {},
     "output_type": "execute_result"
    }
   ],
   "source": [
    "y_columns\n",
    "\n",
    "X_test, y_test = split_Xy(df_test, y_columns)\n",
    "\n",
    "y_test.columns, y_test.shape\n",
    "X_test.shape, X_test.columns"
   ]
  },
  {
   "cell_type": "code",
   "execution_count": 35,
   "metadata": {
    "execution": {
     "iopub.execute_input": "2024-01-17T16:07:51.328346Z",
     "iopub.status.busy": "2024-01-17T16:07:51.328103Z",
     "iopub.status.idle": "2024-01-17T16:07:53.815286Z",
     "shell.execute_reply": "2024-01-17T16:07:53.814138Z",
     "shell.execute_reply.started": "2024-01-17T16:07:51.328308Z"
    }
   },
   "outputs": [],
   "source": [
    "d_test = xgb.dask.DaskDMatrix(client, X_test, y_test)"
   ]
  },
  {
   "cell_type": "code",
   "execution_count": 36,
   "metadata": {
    "execution": {
     "iopub.execute_input": "2024-01-17T16:07:53.817379Z",
     "iopub.status.busy": "2024-01-17T16:07:53.816811Z",
     "iopub.status.idle": "2024-01-17T16:07:55.740713Z",
     "shell.execute_reply": "2024-01-17T16:07:55.739348Z",
     "shell.execute_reply.started": "2024-01-17T16:07:53.817324Z"
    }
   },
   "outputs": [
    {
     "data": {
      "text/plain": [
       "(10645, 1)"
      ]
     },
     "execution_count": 36,
     "metadata": {},
     "output_type": "execute_result"
    }
   ],
   "source": [
    "# df_pr = read_cell_profiles_2(CompoundProfiles2SampleFileCSV, rows = 40, skiprows = None)\n",
    "# df_pr.npartitions\n",
    "# df_pr.get_partition(0).head(2)\n",
    "y_test.compute().shape"
   ]
  },
  {
   "cell_type": "code",
   "execution_count": 37,
   "metadata": {
    "execution": {
     "iopub.execute_input": "2024-01-17T16:07:55.742975Z",
     "iopub.status.busy": "2024-01-17T16:07:55.742703Z",
     "iopub.status.idle": "2024-01-17T16:07:58.501509Z",
     "shell.execute_reply": "2024-01-17T16:07:58.500538Z",
     "shell.execute_reply.started": "2024-01-17T16:07:55.742951Z"
    }
   },
   "outputs": [],
   "source": [
    "y_pred = xgb.dask.predict(client, model_copy, d_test).compute()"
   ]
  },
  {
   "cell_type": "code",
   "execution_count": 38,
   "metadata": {
    "execution": {
     "iopub.execute_input": "2024-01-17T16:07:58.505274Z",
     "iopub.status.busy": "2024-01-17T16:07:58.504933Z",
     "iopub.status.idle": "2024-01-17T16:08:00.480895Z",
     "shell.execute_reply": "2024-01-17T16:08:00.480083Z",
     "shell.execute_reply.started": "2024-01-17T16:07:58.505243Z"
    }
   },
   "outputs": [
    {
     "data": {
      "text/plain": [
       "(dask.dataframe.core.DataFrame, numpy.ndarray, numpy.ndarray)"
      ]
     },
     "execution_count": 38,
     "metadata": {},
     "output_type": "execute_result"
    }
   ],
   "source": [
    "y_test_np = y_test.compute().to_numpy(copy=True).squeeze()\n",
    "type(y_test),type(y_test_np), type(y_pred)\n"
   ]
  },
  {
   "cell_type": "code",
   "execution_count": 39,
   "metadata": {
    "execution": {
     "iopub.execute_input": "2024-01-17T16:08:00.482500Z",
     "iopub.status.busy": "2024-01-17T16:08:00.482185Z",
     "iopub.status.idle": "2024-01-17T16:08:00.529916Z",
     "shell.execute_reply": "2024-01-17T16:08:00.529385Z",
     "shell.execute_reply.started": "2024-01-17T16:08:00.482471Z"
    }
   },
   "outputs": [
    {
     "data": {
      "text/plain": [
       "(10645,)"
      ]
     },
     "execution_count": 39,
     "metadata": {},
     "output_type": "execute_result"
    },
    {
     "data": {
      "text/plain": [
       "(10645,)"
      ]
     },
     "execution_count": 39,
     "metadata": {},
     "output_type": "execute_result"
    }
   ],
   "source": [
    "y_test_np.shape\n",
    "y_pred.shape"
   ]
  },
  {
   "cell_type": "code",
   "execution_count": 40,
   "metadata": {
    "execution": {
     "iopub.execute_input": "2024-01-17T16:08:27.872026Z",
     "iopub.status.busy": "2024-01-17T16:08:27.871427Z",
     "iopub.status.idle": "2024-01-17T16:08:27.941461Z",
     "shell.execute_reply": "2024-01-17T16:08:27.940194Z",
     "shell.execute_reply.started": "2024-01-17T16:08:27.871979Z"
    }
   },
   "outputs": [
    {
     "name": "stderr",
     "output_type": "stream",
     "text": [
      "2024-01-17 17:08:27,931 - INFO: - Compute R2 & MSE scores...\n"
     ]
    },
    {
     "name": "stdout",
     "output_type": "stream",
     "text": [
      "MSE Score : 0.139079\n",
      " R2 Score : 0.007859\n"
     ]
    }
   ],
   "source": [
    "logging.info(f\"Compute R2 & MSE scores...\")\n",
    "R2_score = skm.r2_score(\n",
    "    y_true = y_test_np,\n",
    "    y_pred = y_pred,\n",
    ")\n",
    "\n",
    "mse_score = skm.mean_squared_error(\n",
    "    y_true = y_test_np,\n",
    "    y_pred = y_pred,\n",
    "    squared=False,\n",
    "    # compute=True,\n",
    ")\n",
    "# logging.info(f\"Compute R2 & MSE scores...Completed\")\n",
    "\n",
    "print(f\"MSE Score : {mse_score:.6f}\")\n",
    "print(f\" R2 Score : {R2_score:.6f}\")\n",
    "\n"
   ]
  },
  {
   "cell_type": "code",
   "execution_count": 41,
   "metadata": {
    "execution": {
     "iopub.execute_input": "2024-01-17T16:08:29.839357Z",
     "iopub.status.busy": "2024-01-17T16:08:29.838827Z",
     "iopub.status.idle": "2024-01-17T16:08:29.953250Z",
     "shell.execute_reply": "2024-01-17T16:08:29.951982Z",
     "shell.execute_reply.started": "2024-01-17T16:08:29.839323Z"
    }
   },
   "outputs": [],
   "source": [
    "pearson_corr, pearson_p = sps.pearsonr(y_test_np, y_pred)"
   ]
  },
  {
   "cell_type": "code",
   "execution_count": 42,
   "metadata": {
    "execution": {
     "iopub.execute_input": "2024-01-17T16:08:32.555929Z",
     "iopub.status.busy": "2024-01-17T16:08:32.555416Z",
     "iopub.status.idle": "2024-01-17T16:08:32.611839Z",
     "shell.execute_reply": "2024-01-17T16:08:32.610731Z",
     "shell.execute_reply.started": "2024-01-17T16:08:32.555885Z"
    }
   },
   "outputs": [
    {
     "name": "stdout",
     "output_type": "stream",
     "text": [
      "0.09269414992023457 9.408672151286935e-22\n",
      "  Pearson : 0.092694      P: 9.409e-22\n"
     ]
    }
   ],
   "source": [
    "print(pearson_corr, pearson_p)\n",
    "print(f\"  Pearson : {pearson_corr:.6f}      P: {pearson_p:.3e}\")"
   ]
  },
  {
   "cell_type": "code",
   "execution_count": 43,
   "metadata": {
    "execution": {
     "iopub.execute_input": "2024-01-17T16:08:33.484849Z",
     "iopub.status.busy": "2024-01-17T16:08:33.484332Z",
     "iopub.status.idle": "2024-01-17T16:08:35.652101Z",
     "shell.execute_reply": "2024-01-17T16:08:35.651248Z",
     "shell.execute_reply.started": "2024-01-17T16:08:33.484803Z"
    }
   },
   "outputs": [],
   "source": [
    "spearman_corr, spearman_p = sps.spearmanr(y_test.squeeze(), y_pred)"
   ]
  },
  {
   "cell_type": "code",
   "execution_count": 44,
   "metadata": {
    "execution": {
     "iopub.execute_input": "2024-01-17T16:08:35.654217Z",
     "iopub.status.busy": "2024-01-17T16:08:35.653658Z",
     "iopub.status.idle": "2024-01-17T16:08:35.695092Z",
     "shell.execute_reply": "2024-01-17T16:08:35.694197Z",
     "shell.execute_reply.started": "2024-01-17T16:08:35.654192Z"
    }
   },
   "outputs": [
    {
     "name": "stdout",
     "output_type": "stream",
     "text": [
      "0.10160217073668895 7.874180912641253e-26\n",
      "  Spearman : 0.101602      P: 7.874181e-26\n"
     ]
    }
   ],
   "source": [
    "print(spearman_corr, spearman_p)\n",
    "print(f\"  Spearman : {spearman_corr:.6f}      P: {spearman_p:.6e}\")"
   ]
  },
  {
   "cell_type": "code",
   "execution_count": 45,
   "metadata": {
    "execution": {
     "iopub.execute_input": "2024-01-17T16:08:35.696399Z",
     "iopub.status.busy": "2024-01-17T16:08:35.696120Z",
     "iopub.status.idle": "2024-01-17T16:08:35.735235Z",
     "shell.execute_reply": "2024-01-17T16:08:35.734100Z",
     "shell.execute_reply.started": "2024-01-17T16:08:35.696375Z"
    }
   },
   "outputs": [
    {
     "name": "stdout",
     "output_type": "stream",
     "text": [
      "0.510545 2.3001387 1.8338752\n",
      "1.7314333 1.8998919 1.8340738\n"
     ]
    }
   ],
   "source": [
    "print(y_test_np.min(), y_test_np.max(), y_test_np.mean())\n",
    "print(y_pred.min(), y_pred.max(), y_pred.mean())"
   ]
  },
  {
   "cell_type": "code",
   "execution_count": 46,
   "metadata": {
    "execution": {
     "iopub.execute_input": "2024-01-17T16:08:35.737424Z",
     "iopub.status.busy": "2024-01-17T16:08:35.737197Z",
     "iopub.status.idle": "2024-01-17T16:08:36.149036Z",
     "shell.execute_reply": "2024-01-17T16:08:36.148018Z",
     "shell.execute_reply.started": "2024-01-17T16:08:35.737402Z"
    }
   },
   "outputs": [
    {
     "data": {
      "image/png": "[encoded data removed]",
      "text/plain": [
       "<Figure size 1000x1000 with 1 Axes>"
      ]
     },
     "metadata": {},
     "output_type": "display_data"
    }
   ],
   "source": [
    "fig = plt.figure(figsize=(10,10))\n",
    "plt.plot(y_test_np, y_pred, '.')\n",
    "plt.title(f\" Predicted vs. True TPSA - Pearson: {pearson_corr:.5f} / p:{pearson_p:.3e}\")\n",
    "plt.xlabel(\"Y True\");\n",
    "plt.ylabel(\"Y Pred\");\n",
    "# plt.xlim(1.775, 1.875)\n",
    "# plt.xlim(1.775, 1.875)"
   ]
  },
  {
   "cell_type": "code",
   "execution_count": 47,
   "metadata": {
    "execution": {
     "iopub.execute_input": "2024-01-17T16:08:37.973519Z",
     "iopub.status.busy": "2024-01-17T16:08:37.973021Z",
     "iopub.status.idle": "2024-01-17T16:08:38.846342Z",
     "shell.execute_reply": "2024-01-17T16:08:38.845702Z",
     "shell.execute_reply.started": "2024-01-17T16:08:37.973477Z"
    }
   },
   "outputs": [
    {
     "data": {
      "text/plain": [
       "Text(0.5, 0, 'TPSA Value')"
      ]
     },
     "execution_count": 47,
     "metadata": {},
     "output_type": "execute_result"
    },
    {
     "data": {
      "text/plain": [
       "Text(0, 0.5, 'Compounds')"
      ]
     },
     "execution_count": 47,
     "metadata": {},
     "output_type": "execute_result"
    },
    {
     "data": {
      "text/plain": [
       "<matplotlib.legend.Legend at 0x7fb5cf545290>"
      ]
     },
     "execution_count": 47,
     "metadata": {},
     "output_type": "execute_result"
    },
    {
     "data": {
      "image/png": "[encoded data removed]",
      "text/plain": [
       "<Figure size 1000x500 with 1 Axes>"
      ]
     },
     "metadata": {},
     "output_type": "display_data"
    }
   ],
   "source": [
    "import matplotlib.pyplot as plt\n",
    "import numpy as np\n",
    "from matplotlib import colors\n",
    "from matplotlib.ticker import PercentFormatter\n",
    "num_bins = 40\n",
    "# fig, ax = plt.subplots()\n",
    " \n",
    "# the histogram of the data\n",
    "\n",
    "fig = plt.figure(figsize=(10,5))\n",
    "n, bins, patches = plt.hist(y_test_np, num_bins, density=False, label = 'True', range=[1.5,2.25] )\n",
    "# We can set the number of bins with the *bins* keyword argument.\n",
    "n, bins, patches = plt.hist(y_pred, num_bins, density=False, label='Predicitons' )\n",
    "plt.xlabel('TPSA Value')\n",
    "plt.ylabel('Compounds')\n",
    "plt.legend()\n",
    "# ax.set_title('Histogram of normal distribution sample: '\n",
    "#              fr'$\\mu={mu:.0f}$, $\\sigma={sigma:.0f}$')\n",
    "# axs[1].hist(dist2, bins=n_bins)"
   ]
  },
  {
   "cell_type": "markdown",
   "metadata": {
    "heading_collapsed": true
   },
   "source": [
    "# XGBoost - Training using XGBoost native interface"
   ]
  },
  {
   "cell_type": "markdown",
   "metadata": {},
   "source": [
    "### Plot importance "
   ]
  },
  {
   "cell_type": "code",
   "execution_count": null,
   "metadata": {
    "execution": {
     "iopub.status.busy": "2024-01-10T14:17:55.257918Z",
     "iopub.status.idle": "2024-01-10T14:17:55.258225Z",
     "shell.execute_reply": "2024-01-10T14:17:55.258110Z",
     "shell.execute_reply.started": "2024-01-10T14:17:55.258096Z"
    },
    "scrolled": true
   },
   "outputs": [],
   "source": [
    "# train_score = xgb_reg.score(train_X, train_y)\n",
    "# val_score = xgb_reg.score(val_X, val_y)\n",
    "# test_score = xgb_reg.score(test_X, test_y)"
   ]
  },
  {
   "cell_type": "code",
   "execution_count": null,
   "metadata": {
    "execution": {
     "iopub.status.busy": "2024-01-10T14:17:55.259196Z",
     "iopub.status.idle": "2024-01-10T14:17:55.259580Z",
     "shell.execute_reply": "2024-01-10T14:17:55.259463Z",
     "shell.execute_reply.started": "2024-01-10T14:17:55.259449Z"
    }
   },
   "outputs": [],
   "source": [
    "print(f\" R2 score - Training   : {train_score:0.6f}\")\n",
    "print(f\" R2 score - Validation : {val_score:0.6f}\")\n",
    "print(f\" R2 score - Test data  : {test_score:0.6f}\")"
   ]
  },
  {
   "cell_type": "code",
   "execution_count": 48,
   "metadata": {
    "execution": {
     "iopub.execute_input": "2024-01-17T16:09:00.118905Z",
     "iopub.status.busy": "2024-01-17T16:09:00.118330Z",
     "iopub.status.idle": "2024-01-17T16:09:00.513198Z",
     "shell.execute_reply": "2024-01-17T16:09:00.512541Z",
     "shell.execute_reply.started": "2024-01-17T16:09:00.118820Z"
    }
   },
   "outputs": [
    {
     "data": {
      "text/plain": [
       "[Text(0, 0, 'f126'),\n",
       " Text(0, 1, 'f377'),\n",
       " Text(0, 2, 'f748'),\n",
       " Text(0, 3, 'f775'),\n",
       " Text(0, 4, 'f777'),\n",
       " Text(0, 5, 'f778'),\n",
       " Text(0, 6, 'f789'),\n",
       " Text(0, 7, 'f808'),\n",
       " Text(0, 8, 'f811'),\n",
       " Text(0, 9, 'f813'),\n",
       " Text(0, 10, 'f855'),\n",
       " Text(0, 11, 'f908'),\n",
       " Text(0, 12, 'f1012'),\n",
       " Text(0, 13, 'f1380'),\n",
       " Text(0, 14, 'f247')]"
      ]
     },
     "execution_count": 48,
     "metadata": {},
     "output_type": "execute_result"
    },
    {
     "data": {
      "image/png": "[encoded data removed]",
      "text/plain": [
       "<Figure size 640x480 with 1 Axes>"
      ]
     },
     "metadata": {},
     "output_type": "display_data"
    }
   ],
   "source": [
    "# fig = plt.figure(figsize=(20, 20))\n",
    "# plt.yticks(fontsize = 12)\n",
    "# ax = fig.add_subplot()\n",
    "# ax.set_xlim(10,50)\n",
    "ax = xgb.plot_importance(model_copy, max_num_features= None,  grid = False,  show_values = True, )\n",
    "for label in ( ax.get_xticklabels() + ax.get_yticklabels()):\n",
    "    label.set_fontsize(9)\n",
    "ax.get_yticklabels()\n",
    "# ax.autoscale(enable=None, axis=\"y\", tight=True)"
   ]
  },
  {
   "cell_type": "code",
   "execution_count": 29,
   "metadata": {
    "execution": {
     "iopub.execute_input": "2024-01-17T16:35:41.597266Z",
     "iopub.status.busy": "2024-01-17T16:35:41.595986Z",
     "iopub.status.idle": "2024-01-17T16:35:41.863821Z",
     "shell.execute_reply": "2024-01-17T16:35:41.863095Z",
     "shell.execute_reply.started": "2024-01-17T16:35:41.597222Z"
    }
   },
   "outputs": [
    {
     "data": {
      "text/plain": [
       "<Axes: >"
      ]
     },
     "execution_count": 29,
     "metadata": {},
     "output_type": "execute_result"
    },
    {
     "data": {
      "image/png": "[encoded data removed]",
      "text/plain": [
       "<Figure size 640x480 with 1 Axes>"
      ]
     },
     "metadata": {},
     "output_type": "display_data"
    }
   ],
   "source": [
    "from graphviz import Source \n",
    "xgb.plot_tree(model_copy,num_tress=5)"
   ]
  },
  {
   "cell_type": "code",
   "execution_count": 30,
   "metadata": {
    "execution": {
     "iopub.execute_input": "2024-01-17T16:44:23.174373Z",
     "iopub.status.busy": "2024-01-17T16:44:23.173861Z",
     "iopub.status.idle": "2024-01-17T16:44:23.263882Z",
     "shell.execute_reply": "2024-01-17T16:44:23.262741Z",
     "shell.execute_reply.started": "2024-01-17T16:44:23.174326Z"
    }
   },
   "outputs": [
    {
     "ename": "TypeError",
     "evalue": "Booster.get_split_value_histogram() missing 1 required positional argument: 'feature'",
     "output_type": "error",
     "traceback": [
      "\u001b[0;31m---------------------------------------------------------------------------\u001b[0m",
      "\u001b[0;31mTypeError\u001b[0m                                 Traceback (most recent call last)",
      "Cell \u001b[0;32mIn[30], line 3\u001b[0m\n\u001b[1;32m      1\u001b[0m \u001b[38;5;66;03m# model_copy.attributes()\u001b[39;00m\n\u001b[1;32m      2\u001b[0m model_copy\u001b[38;5;241m.\u001b[39mfeature_names\n\u001b[0;32m----> 3\u001b[0m \u001b[43mmodel_copy\u001b[49m\u001b[38;5;241;43m.\u001b[39;49m\u001b[43mget_split_value_histogram\u001b[49m\u001b[43m(\u001b[49m\u001b[43m)\u001b[49m\n",
      "\u001b[0;31mTypeError\u001b[0m: Booster.get_split_value_histogram() missing 1 required positional argument: 'feature'"
     ]
    }
   ],
   "source": [
    "# model_copy.attributes()\n",
    "model_copy.feature_names\n",
    "model_copy."
   ]
  },
  {
   "cell_type": "code",
   "execution_count": 29,
   "metadata": {
    "execution": {
     "iopub.execute_input": "2024-01-17T16:43:17.398798Z",
     "iopub.status.busy": "2024-01-17T16:43:17.397924Z",
     "iopub.status.idle": "2024-01-17T16:43:17.458344Z",
     "shell.execute_reply": "2024-01-17T16:43:17.457738Z",
     "shell.execute_reply.started": "2024-01-17T16:43:17.398751Z"
    }
   },
   "outputs": [
    {
     "data": {
      "text/plain": [
       "{'use_rmm': False, 'verbosity': 1}"
      ]
     },
     "execution_count": 29,
     "metadata": {},
     "output_type": "execute_result"
    }
   ],
   "source": [
    "xgb.get_config()"
   ]
  },
  {
   "cell_type": "markdown",
   "metadata": {},
   "source": []
  }
 ],
 "metadata": {
  "kernelspec": {
   "display_name": "Python [conda env:cp]",
   "language": "python",
   "name": "conda-env-cp-py"
  },
  "language_info": {
   "codemirror_mode": {
    "name": "ipython",
    "version": 3
   },
   "file_extension": ".py",
   "mimetype": "text/x-python",
   "name": "python",
   "nbconvert_exporter": "python",
   "pygments_lexer": "ipython3",
   "version": "3.11.4"
  },
  "toc": {
   "base_numbering": 1,
   "nav_menu": {},
   "number_sections": true,
   "sideBar": true,
   "skip_h1_title": false,
   "title_cell": "Table of Contents",
   "title_sidebar": "Contents",
   "toc_cell": false,
   "toc_position": {
    "height": "calc(100% - 180px)",
    "left": "10px",
    "top": "150px",
    "width": "380.631px"
   },
   "toc_section_display": true,
   "toc_window_display": false
  }
 },
 "nbformat": 4,
 "nbformat_minor": 4
}
