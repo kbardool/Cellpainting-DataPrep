{
 "cells": [
  {
   "cell_type": "markdown",
   "id": "418c282c-2b25-4f32-96cf-883b40b84c36",
   "metadata": {
    "editable": true,
    "slideshow": {
     "slide_type": ""
    },
    "tags": []
   },
   "source": [
    "  # Apply encoder to morphological profiles to get latent space representations :"
   ]
  },
  {
   "cell_type": "markdown",
   "id": "14da93a6-653f-4a55-9b3a-e72ab79a1121",
   "metadata": {},
   "source": [
    "# Setup"
   ]
  },
  {
   "cell_type": "code",
   "execution_count": 2,
   "id": "a104a277-3ad3-438a-b706-d4499f709f89",
   "metadata": {
    "ExecuteTime": {
     "end_time": "2023-04-12T10:29:16.111588Z",
     "start_time": "2023-04-12T10:29:15.764305Z"
    },
    "editable": true,
    "execution": {
     "iopub.execute_input": "2024-08-06T19:40:54.112711Z",
     "iopub.status.busy": "2024-08-06T19:40:54.112035Z",
     "iopub.status.idle": "2024-08-06T19:40:54.148078Z",
     "shell.execute_reply": "2024-08-06T19:40:54.147074Z",
     "shell.execute_reply.started": "2024-08-06T19:40:54.112672Z"
    },
    "slideshow": {
     "slide_type": ""
    },
    "tags": []
   },
   "outputs": [
    {
     "data": {
      "text/html": [
       "<style>.container { width:98% !important; }</style>"
      ],
      "text/plain": [
       "<IPython.core.display.HTML object>"
      ]
     },
     "metadata": {},
     "output_type": "display_data"
    }
   ],
   "source": [
    "%load_ext autoreload  \n",
    "%autoreload 2\n",
    "from IPython.display import display, HTML, Image\n",
    "from IPython.core.interactiveshell import InteractiveShell\n",
    "display(HTML(\"<style>.container { width:98% !important; }</style>\"))\n",
    "InteractiveShell.ast_node_interactivity = \"all\""
   ]
  },
  {
   "cell_type": "code",
   "execution_count": 3,
   "id": "7478f60a-2ea2-4407-bd91-f068349f222b",
   "metadata": {
    "ExecuteTime": {
     "end_time": "2023-04-12T10:29:16.111588Z",
     "start_time": "2023-04-12T10:29:15.764305Z"
    },
    "editable": true,
    "execution": {
     "iopub.execute_input": "2024-08-06T19:40:54.150788Z",
     "iopub.status.busy": "2024-08-06T19:40:54.150326Z",
     "iopub.status.idle": "2024-08-06T19:40:58.747887Z",
     "shell.execute_reply": "2024-08-06T19:40:58.747051Z",
     "shell.execute_reply.started": "2024-08-06T19:40:54.150755Z"
    },
    "slideshow": {
     "slide_type": ""
    },
    "tags": []
   },
   "outputs": [
    {
     "name": "stdout",
     "output_type": "stream",
     "text": [
      "insert ./src\n",
      "insert ../..\n",
      "['../..', './src', '/home/kevin/miniforge3/envs/ptsnnl/lib/python311.zip', '/home/kevin/miniforge3/envs/ptsnnl/lib/python3.11', '/home/kevin/miniforge3/envs/ptsnnl/lib/python3.11/lib-dynload', '', '/home/kevin/miniforge3/envs/ptsnnl/lib/python3.11/site-packages', '/home/kevin/miniforge3/envs/ptsnnl/lib/python3.11/site-packages/cytominer_eval-0.1-py3.11.egg']\n"
     ]
    }
   ],
   "source": [
    "import os\n",
    "import sys\n",
    "import csv\n",
    "import json\n",
    "import time\n",
    "import types\n",
    "import copy\n",
    "import pprint\n",
    "import logging\n",
    "from datetime import datetime\n",
    "for p in ['./src','../..']:\n",
    "    if p not in sys.path:\n",
    "        print(f\"insert {p}\")\n",
    "        sys.path.insert(0, p)\n",
    "print(sys.path)\n",
    "# import shutil\n",
    "# import getpass\n",
    "# import yaml\n",
    "# import hydra\n",
    "# from hydra import initialize, initialize_config_module, initialize_config_dir, compose\n",
    "# from omegaconf import OmegaConf\n",
    "# from typing import Dict, List, Tuple\n",
    "# from scipy.sparse import csr_matrix\n",
    "# from tqdm import tqdm\n",
    "# import wandb\n",
    "\n",
    "import numpy as np\n",
    "import pandas as pd\n",
    "import scipy\n",
    "import torch\n",
    "import torch.nn.functional as F\n",
    "from torchinfo import summary\n",
    "\n",
    "torch.set_printoptions(precision=None, threshold=None, edgeitems=None, linewidth=150, profile=None, sci_mode=None)\n",
    "\n",
    "\n",
    "pp = pprint.PrettyPrinter(indent=4)\n",
    "pd.options.display.width = 132\n",
    "torch.set_printoptions(precision=None, threshold=None, edgeitems=None, linewidth=150, profile=None, sci_mode=None)\n",
    "np.set_printoptions(edgeitems=3, infstr='inf', linewidth=150, nanstr='nan')\n",
    "\n",
    "os.environ[\"WANDB_NOTEBOOK_NAME\"] = \"AE-MAIN-SNNL.ipynb\"\n",
    "# os.environ[\"CUDA_LAUNCH_BLOCKING\"] = \"1\"\n",
    "# os.environ[\"CUDA_VISIBLE_DEVICES\"] = \"2\""
   ]
  },
  {
   "cell_type": "code",
   "execution_count": 4,
   "id": "9473003f-757e-4cf6-b5da-491ae0e04f57",
   "metadata": {
    "editable": true,
    "execution": {
     "iopub.execute_input": "2024-08-06T19:40:58.749257Z",
     "iopub.status.busy": "2024-08-06T19:40:58.748918Z",
     "iopub.status.idle": "2024-08-06T19:41:00.800794Z",
     "shell.execute_reply": "2024-08-06T19:41:00.799857Z",
     "shell.execute_reply.started": "2024-08-06T19:40:58.749232Z"
    },
    "slideshow": {
     "slide_type": ""
    },
    "tags": []
   },
   "outputs": [],
   "source": [
    "# import snnl.utils as utils\n",
    "# from snnl.utils import parse_args, load_configuration, set_global_seed, get_device, set_device\n",
    "from KevinsRoutines.utils.utils_general import list_namespace, save_to_pickle, load_from_pickle"
   ]
  },
  {
   "cell_type": "code",
   "execution_count": 9,
   "id": "46fc79f1-4481-4f1c-bed7-a5e375ea3eae",
   "metadata": {
    "editable": true,
    "execution": {
     "iopub.execute_input": "2024-08-06T19:42:00.754011Z",
     "iopub.status.busy": "2024-08-06T19:42:00.753457Z",
     "iopub.status.idle": "2024-08-06T19:42:00.801402Z",
     "shell.execute_reply": "2024-08-06T19:42:00.800545Z",
     "shell.execute_reply.started": "2024-08-06T19:42:00.753970Z"
    },
    "slideshow": {
     "slide_type": ""
    },
    "tags": []
   },
   "outputs": [],
   "source": [
    "import seaborn as sb\n",
    "import matplotlib.pyplot as plt\n",
    "import scipy.stats as sps\n",
    "\n",
    "import sklearn.metrics as skm\n",
    "import sklearn.utils.random as skr\n",
    "from scipy.spatial.distance import pdist, squareform, euclidean\n",
    "\n",
    "# from sklearn.metrics import accuracy_score, f1_score, roc_curve, roc_auc_score, classification_report, precision_recall_fscore_support\n",
    "# from sklearn.metrics import precision_recall_curve, PrecisionRecallDisplay, roc_curve, RocCurveDisplay\n",
    "# from sklearn.metrics import confusion_matrix, ConfusionMatrixDisplay"
   ]
  },
  {
   "cell_type": "code",
   "execution_count": 6,
   "id": "6651619f-dac6-4962-881e-8fd87b2cbfe2",
   "metadata": {
    "editable": true,
    "execution": {
     "iopub.execute_input": "2024-08-06T19:41:01.907704Z",
     "iopub.status.busy": "2024-08-06T19:41:01.907198Z",
     "iopub.status.idle": "2024-08-06T19:41:02.307709Z",
     "shell.execute_reply": "2024-08-06T19:41:02.306901Z",
     "shell.execute_reply.started": "2024-08-06T19:41:01.907664Z"
    },
    "slideshow": {
     "slide_type": ""
    },
    "tags": []
   },
   "outputs": [],
   "source": [
    "# Models\n",
    "from xgboost import XGBClassifier, XGBRegressor\n",
    "\n",
    "import sklearn.metrics as skm\n",
    "from sklearn.decomposition import PCA\n",
    "from sklearn.manifold import TSNE\n",
    "\n",
    "from sklearn.ensemble import RandomForestClassifier, RandomForestRegressor\n",
    "from sklearn.svm import SVC, SVR\n",
    "from sklearn.neighbors import KNeighborsClassifier, KNeighborsRegressor\n",
    "\n",
    "# utility class to help normalize labels such that they contain only values between 0 and n_classes-1.\n",
    "from sklearn.preprocessing import LabelEncoder\n",
    "\n",
    "# K-Folds cross-validator - Provides train/test indices to split data in train/test sets. Split dataset into k consecutive folds (without shuffling by default).\n",
    "# Each fold is then used once as a validation while the k - 1 remaining folds form the training set.\n",
    "from sklearn.model_selection import KFold, StratifiedKFold\n",
    "from sklearn.model_selection import GroupKFold, StratifiedGroupKFold\n",
    "from sklearn.model_selection import ShuffleSplit, GroupShuffleSplit, StratifiedShuffleSplit, TimeSeriesSplit\n",
    "\n",
    "# Evaluate metric(s) by cross-validation and also record fit/score times.\n",
    "from sklearn.model_selection import cross_validate, cross_val_score\n",
    "\n",
    "# Generate cross-validated estimates for each input data point.\n",
    "# The data is split according to the cv parameter. Each sample belongs to exactly one test set,\n",
    "# and its prediction is computed with an estimator fitted on the corresponding training set.\n",
    "from sklearn.model_selection import cross_val_predict\n",
    "\n",
    "# Exhaustive search over specified parameter values for an estimator.\n",
    "# Randomized search on hyper parameters.\n",
    "from sklearn.model_selection import GridSearchCV, RandomizedSearchCV\n",
    "\n",
    "# Input checker utility for building a cross-validator.(?)\n",
    "from sklearn.model_selection._split import check_cv\n",
    "\n",
    "from sklearn.pipeline import Pipeline\n",
    "\n",
    "# Make a scorer from a performance metric or loss function. This factory function wraps scoring\n",
    "# functions for use in GridSearchCV and cross_val_score. It takes a score function, such as accuracy_score,\n",
    "# mean_squared_error, adjusted_rand_score or average_precision_score and returns a callable that\n",
    "# scores an estimator’s output. The signature of the call is (estimator, X, y) where estimator\n",
    "# is the model to be evaluated, X is the data and y is the ground truth labeling (or None in the\n",
    "# case of unsupervised models).\n",
    "from sklearn.metrics import make_scorer\n",
    "\n",
    "# regression matrics\n",
    "from sklearn.metrics import mean_absolute_error, mean_squared_error, r2_score\n",
    "\n",
    "# classification metrics\n",
    "from sklearn.metrics import accuracy_score, confusion_matrix, classification_report\n",
    "\n",
    "# from sklearn.base import BaseEstimator\n",
    "# from sklearn.base import ClassifierMixin\n",
    "# from sklearn.base import TransformerMixin\n",
    "\n",
    "# Construct a new unfitted estimator with the same parameters. Clone does a deep copy of the model\n",
    "# in an estimator without actually copying attached data. It returns a new estimator with the same\n",
    "# parameters that has not been fitted on any data.\n",
    "# from sklearn.base import clone\n",
    "from sklearn.preprocessing import StandardScaler\n"
   ]
  },
  {
   "cell_type": "code",
   "execution_count": 7,
   "id": "c12352c5-443c-414b-bb2b-6ea5ba801515",
   "metadata": {
    "editable": true,
    "execution": {
     "iopub.execute_input": "2024-08-06T19:41:02.309699Z",
     "iopub.status.busy": "2024-08-06T19:41:02.308992Z",
     "iopub.status.idle": "2024-08-06T19:41:02.352375Z",
     "shell.execute_reply": "2024-08-06T19:41:02.351663Z",
     "shell.execute_reply.started": "2024-08-06T19:41:02.309627Z"
    },
    "scrolled": true,
    "slideshow": {
     "slide_type": ""
    },
    "tags": []
   },
   "outputs": [
    {
     "name": "stderr",
     "output_type": "stream",
     "text": [
      "2024-08-06 21:41:02,346 - __main__ - INFO: -  Excution started : 2024_08_06_21:41:02 \n",
      "2024-08-06 21:41:02,347 - __main__ - INFO: -  Pytorch version  : 2.2.2\n",
      "2024-08-06 21:41:02,347 - __main__ - INFO: -  Scipy version    : 1.12.0  \t\t Numpy version : 1.26.4\n",
      "2024-08-06 21:41:02,348 - __main__ - INFO: -  Pandas version: 2.2.1  \n"
     ]
    }
   ],
   "source": [
    "timestamp = datetime.now().strftime('%Y_%m_%d_%H:%M:%S')\n",
    "logger = logging.getLogger(__name__)\n",
    "logLevel = os.environ.get('LOG_LEVEL', 'INFO').upper()\n",
    "FORMAT = '%(asctime)s - %(name)s - %(levelname)s: - %(message)s'\n",
    "logging.basicConfig(level=\"INFO\", format= FORMAT)\n",
    "\n",
    "logger.info(f\" Excution started : {timestamp} \")\n",
    "logger.info(f\" Pytorch version  : {torch.__version__}\")\n",
    "logger.info(f\" Scipy version    : {scipy.__version__}  \\t\\t Numpy version : {np.__version__}\")\n",
    "logger.info(f\" Pandas version: {pd.__version__}  \")\n"
   ]
  },
  {
   "cell_type": "markdown",
   "id": "cdaa5260-01ce-4a98-b597-62c43c388f43",
   "metadata": {},
   "source": [
    "## Helper routines"
   ]
  },
  {
   "cell_type": "code",
   "execution_count": 10,
   "id": "257e2d2c-aaf6-4910-90cf-4ec1a6cc746e",
   "metadata": {
    "execution": {
     "iopub.execute_input": "2024-08-06T19:42:02.976405Z",
     "iopub.status.busy": "2024-08-06T19:42:02.975916Z",
     "iopub.status.idle": "2024-08-06T19:42:03.029682Z",
     "shell.execute_reply": "2024-08-06T19:42:03.028495Z",
     "shell.execute_reply.started": "2024-08-06T19:42:02.976365Z"
    }
   },
   "outputs": [],
   "source": [
    "sample_idxs = skr.sample_without_replacement(n_population=100, n_samples= 10 )"
   ]
  },
  {
   "cell_type": "code",
   "execution_count": null,
   "id": "779571da-b74a-4569-be3a-405e6fcfd961",
   "metadata": {
    "execution": {
     "iopub.execute_input": "2024-08-06T19:46:02.230209Z",
     "iopub.status.busy": "2024-08-06T19:46:02.229624Z",
     "iopub.status.idle": "2024-08-06T19:46:02.333176Z",
     "shell.execute_reply": "2024-08-06T19:46:02.332049Z",
     "shell.execute_reply.started": "2024-08-06T19:46:02.230153Z"
    }
   },
   "outputs": [],
   "source": [
    "rng = np.random.default_rng()"
   ]
  },
  {
   "cell_type": "code",
   "execution_count": 16,
   "id": "52045157-4869-4fbb-a593-406c6d588c0d",
   "metadata": {
    "execution": {
     "iopub.execute_input": "2024-08-06T19:46:29.167506Z",
     "iopub.status.busy": "2024-08-06T19:46:29.166959Z",
     "iopub.status.idle": "2024-08-06T19:46:29.208149Z",
     "shell.execute_reply": "2024-08-06T19:46:29.207438Z",
     "shell.execute_reply.started": "2024-08-06T19:46:29.167466Z"
    }
   },
   "outputs": [
    {
     "data": {
      "text/plain": [
       "array([[28, 46, 91, 72, 13, 77, 89,  1,  6,  2],\n",
       "       [20,  8, 97, 70, 60,  7, 27,  0, 57, 63],\n",
       "       [96, 33, 98,  5, 56, 42, 50, 90, 22, 79],\n",
       "       [14, 68, 17, 51, 52, 32, 19, 80, 87, 78],\n",
       "       [47, 83, 21, 26, 54, 93, 94, 31, 29,  4],\n",
       "       [43, 24, 92, 67, 45, 62, 35, 36, 99, 37],\n",
       "       [88, 11, 39, 95, 85, 10, 65, 82, 74, 49],\n",
       "       [18, 59, 12, 76, 53, 40, 16, 44, 15, 55],\n",
       "       [69, 38, 61, 75, 58, 73, 71, 81, 84, 48],\n",
       "       [ 3,  9, 30, 25, 23, 66, 41, 64, 34, 86]])"
      ]
     },
     "execution_count": 16,
     "metadata": {},
     "output_type": "execute_result"
    }
   ],
   "source": [
    "indxs = rng.choice(100, [10,10], replace = False)\n",
    "indxs"
   ]
  },
  {
   "cell_type": "markdown",
   "id": "4ec40097-ea06-4b65-b9f2-416e33603c3c",
   "metadata": {},
   "source": []
  },
  {
   "cell_type": "code",
   "execution_count": 435,
   "id": "fad41fd4-cbab-4881-92bc-0c04a9d2864a",
   "metadata": {
    "editable": true,
    "execution": {
     "iopub.execute_input": "2024-08-03T16:24:23.961093Z",
     "iopub.status.busy": "2024-08-03T16:24:23.960710Z",
     "iopub.status.idle": "2024-08-03T16:24:24.005497Z",
     "shell.execute_reply": "2024-08-03T16:24:24.004902Z",
     "shell.execute_reply.started": "2024-08-03T16:24:23.961061Z"
    },
    "slideshow": {
     "slide_type": ""
    },
    "tags": []
   },
   "outputs": [],
   "source": [
    "# model selection (hyperparameter tuning)\n",
    "\n",
    "def model_selection(model, params_grid, X, y,\n",
    "                    scoring = None, \n",
    "                    cv=5, n_jobs=6, pre_dispatch = None,\n",
    "                    GridSearch = True, n_iter=20,\n",
    "                    refit = True, verbose = 0):\n",
    "    \"\"\"\n",
    "    return the refitted model on the whole train data\n",
    "    input:\n",
    "    -----\n",
    "    model:          model to be grid searched\n",
    "    params_grid:    dictionary of hyperparms to grid search\n",
    "    X, y:           obvious\n",
    "    scoring:        scoring Strategy to evaluate the performance of the cross-validated model on the test set.\n",
    "    cv:             cross-validation fold, integer specifies the number of folds in a (Stratified)KFold,\n",
    "                    stratified is used if the estimator is a classifier and y is either binary or multiclass\n",
    "    n_iter          Number of parameter settings that are sampled in RandomizedSearchCV.\n",
    "                    n_iter trades off runtime vs quality of the solution.\n",
    "    refit:          Refit an estimator using the best found parameters on the whole dataset.\n",
    "    \"\"\"\n",
    "    print(f\" verbose is {verbose}\")\n",
    "    if verbose > 0:\n",
    "        print(f\" params_grid: {params_grid}\")\n",
    "        print(f\" scoring    : {scoring}     cv:  {cv}   n_jobs: {n_jobs}   gridsearch: {GridSearch}    n_iter: {n_iter}   refit: {refit}   \")\n",
    "    if pre_dispatch is None:\n",
    "        pre_dispatch = n_jobs\n",
    "    if GridSearch :\n",
    "        model_train = GridSearchCV(model, params_grid, \n",
    "                                   cv=cv, n_jobs=n_jobs,\n",
    "                                   scoring = scoring, \n",
    "                                   pre_dispatch = pre_dispatch,\n",
    "                                   refit = refit, verbose = verbose)\n",
    "    else:\n",
    "        model_train = RandomizedSearchCV(model, param_distributions = params_grid, \n",
    "                                         cv=cv, n_jobs=n_jobs, \n",
    "                                         n_iter = n_iter,\n",
    "                                         scoring=scoring,\n",
    "                                         pre_dispatch = pre_dispatch,\n",
    "                                         refit = refit, verbose = verbose)\n",
    "\n",
    "    model_train.fit(X, y)\n",
    "\n",
    "    print(\"Best parameters set found on development set:\", model_train.best_params_ )\n",
    "    print(\"Best score:\", model_train.best_score_ )\n",
    "\n",
    "    print(\"Grid scores on development set:\")\n",
    "    print()\n",
    "    means = model_train.cv_results_['mean_test_score']\n",
    "    stds = model_train.cv_results_['std_test_score']\n",
    "\n",
    "\n",
    "    for mean, std, params in zip(means, stds, model_train.cv_results_['params']):\n",
    "        print(\"%0.5f (+/-%0.03f) for %r\" % (mean, std * 2, params))\n",
    "    return model_train\n"
   ]
  },
  {
   "cell_type": "code",
   "execution_count": 634,
   "id": "45a73746-91ef-4e32-a6ec-e6608069942a",
   "metadata": {
    "execution": {
     "iopub.execute_input": "2024-08-05T19:07:37.114883Z",
     "iopub.status.busy": "2024-08-05T19:07:37.114347Z",
     "iopub.status.idle": "2024-08-05T19:07:37.156610Z",
     "shell.execute_reply": "2024-08-05T19:07:37.155826Z",
     "shell.execute_reply.started": "2024-08-05T19:07:37.114813Z"
    }
   },
   "outputs": [],
   "source": [
    "def balance_datasets(X,y, ratio = 2, verbose = False):\n",
    "    y = y.astype(np.uint8)\n",
    "    neg_idxs = np.nonzero([y == 0])[1]\n",
    "    pos_idxs = np.nonzero([y == 1])[1]\n",
    "    pos_idxs = np.array(pos_idxs)\n",
    "    # print(f\"\\n # Pos rows: {len(pos_idxs)}   # Neg rows: {len(neg_idxs)}  Total: {len(pos_idxs)+ len(neg_idxs)}\")\n",
    "    # print(f\" # Pos compounds: {len(pos_idxs)//3}   # Neg compounds: {len(neg_idxs)//3}  total: {(len(pos_idxs) + len(neg_idxs))//3}\")\n",
    "    # print(f\"\\n pos indexes - len: {len(pos_idxs)}\")\n",
    "    # print( pos_idxs[:50])\n",
    "    # print( pos_idxs[-50:])\n",
    "    # print(f\"\\n neg indexes - len: {len(neg_idxs)}\")\n",
    "    # print(neg_idxs[:50])\n",
    "    # print(neg_idxs[-50:])\n",
    "    \n",
    "    stepped_pos_idxs = [x for x in pos_idxs if x % 3 == 0]\n",
    "    stepped_neg_idxs = [x for x in neg_idxs if x % 3 == 0]\n",
    "    stepped_neg_idxs = np.array(stepped_neg_idxs)\n",
    "    pos_counts = len(stepped_pos_idxs)\n",
    "    neg_counts = len(stepped_neg_idxs)\n",
    "    \n",
    "    if verbose:\n",
    "        print(f\"\\n # Pos counts: {pos_counts}    # Neg counts: {neg_counts}   Total: {pos_counts+neg_counts}\")\n",
    "        print(f\"\\n pos indexes - len: {pos_counts}\")\n",
    "        print(stepped_pos_idxs[:25])\n",
    "        print(stepped_pos_idxs[-25:])\n",
    "        print(f\"\\n neg indexes - len: {neg_counts}\")\n",
    "        print(stepped_neg_idxs[:25])\n",
    "        print(stepped_neg_idxs[-25:])\n",
    "        print()\n",
    "    num_neg_samples = ratio * pos_counts\n",
    "    \n",
    "    print(f\"\\n Take {pos_counts} samples from total of {pos_counts} negative training samples\")\n",
    "    print(f\" Take {num_neg_samples} samples from total of {neg_counts} negative training samples\")\n",
    "    sample_idxs = skr.sample_without_replacement(n_population=neg_counts, n_samples= num_neg_samples, )\n",
    "    sample_idxs.sort()\n",
    "    neg_sample_idxs = stepped_neg_idxs[sample_idxs]\n",
    "    if verbose:\n",
    "        print(f\"\\n Sample indxs - len: {len(sample_idxs)}\")\n",
    "        print(f\" {sample_idxs[:20]}\")\n",
    "        print(f\" {sample_idxs[-20:]}\")\n",
    "        print(f\"\\n neg_sample_idxs: {len(neg_sample_idxs)}\")\n",
    "        print(f\"{neg_sample_idxs[:20]}\")\n",
    "        print(f\"{neg_sample_idxs[-20:]}\")\n",
    "        print()\n",
    "        print(neg_sample_idxs[:20])\n",
    "        print(neg_sample_idxs[:20]+1)\n",
    "        print(neg_sample_idxs[:20]+2)\n",
    "    \n",
    "    neg_sample_idxs_3 = np.concatenate((neg_sample_idxs, neg_sample_idxs+1, neg_sample_idxs+2))\n",
    "    neg_sample_idxs_3.sort()\n",
    "    if verbose:\n",
    "        print(f\"\\n pos_sample_idxs_3: {len(pos_idxs)}\")\n",
    "        print(f\" [:20] :{pos_idxs[:20]}\")\n",
    "        print(f\" [-20:] {pos_idxs[-20:]}\")\n",
    "        print(f\"\\n neg_sample_idxs_3: {len(neg_sample_idxs_3)}\")\n",
    "        print(f\" [:20] :{neg_sample_idxs_3[:20]}\")\n",
    "        print(f\" [-20:] {neg_sample_idxs_3[-20:]}\")\n",
    "    \n",
    "    balanced_ds_idxs = np.concatenate((pos_idxs, neg_sample_idxs_3))\n",
    "\n",
    "    bal_X = X[balanced_ds_idxs]\n",
    "    bal_y = y[balanced_ds_idxs]\n",
    "\n",
    "    print(f\"\\n Balanced Dataset: # pos samples: {len(pos_idxs)}    # Neg samples: {len(neg_sample_idxs_3)}  Total len: {len(balanced_ds_idxs)}\")   \n",
    "    print(f\"\\n X :  Min: {bal_X.min():.4f}    Max: {bal_X.max():.4f}   Mean: {bal_X.mean():.4f}  Std: {bal_X.std():.4f}\")\n",
    "    print(f\" y :  Min: {bal_y.min():.4f}    Max: {bal_y.max():.4f}   Mean: {bal_y.mean():.4f}  Std: {bal_y.std():.4f}\")\n",
    "    return bal_X,bal_y"
   ]
  },
  {
   "cell_type": "code",
   "execution_count": 610,
   "id": "fac2be96-4b44-4593-86cc-fbcad98b9900",
   "metadata": {
    "execution": {
     "iopub.execute_input": "2024-08-05T18:44:58.275577Z",
     "iopub.status.busy": "2024-08-05T18:44:58.275127Z",
     "iopub.status.idle": "2024-08-05T18:44:58.321698Z",
     "shell.execute_reply": "2024-08-05T18:44:58.320977Z",
     "shell.execute_reply.started": "2024-08-05T18:44:58.275540Z"
    }
   },
   "outputs": [],
   "source": [
    "def label_counts(input_list = None, title = None, label = None):\n",
    "    if input_list is None:\n",
    "        input_list = [(title, label)]\n",
    "\n",
    "    for (ttl, lbl) in input_list:\n",
    "        bcnt = np.bincount(lbl.astype(np.int64))\n",
    "        print(f\" {ttl}\")\n",
    "        print(f\" Total samples: {bcnt.sum()}\")\n",
    "        print(f\" Label 0: {bcnt[0]:7,d}      % {bcnt[0]*100/bcnt.sum():2.2f} \")\n",
    "        print(f\" Label 1: {bcnt[1]:7,d}      % {bcnt[1]*100/bcnt.sum():2.2f} \")\n",
    "        print(\"\")\n",
    "        \n",
    "def compute_metrics(true, pred):\n",
    "    test_accuracy = skm.accuracy_score(true, pred)\n",
    "    # precision : tp / (tp+fp)\n",
    "    precision, recall, f1, support = skm.precision_recall_fscore_support(true, pred, average='binary', zero_division=0)\n",
    "    label_count = len(true)\n",
    "    print(f\" Accuracy: {test_accuracy:.5f}     Precision: {precision:.5f}     Recall: {recall:.5f}     F1: {f1:.5f} \\n\"\n",
    "          f\"\\n True + labels:        {true.sum():6.0f}     ratio to total:  {true.sum()/label_count:.5f}\"\n",
    "          f\"\\n Predicted + labels:   {pred.sum():6d}     ratio to total:  {pred.sum()/label_count:.5f}\"\n",
    "          f\"\\n True/Predicted Match: {(pred == true).sum():6d}     ratio to total:  {(pred==true).sum()/label_count:.5f}\" )\n",
    "\n",
    "def plots_from_estimator(estim, X, y):\n",
    "    rows = 1\n",
    "    cols = 3\n",
    "    fig, axs = plt.subplots(1, cols, sharey=False, tight_layout=True, figsize=(cols *5,5))\n",
    "    _ = skm.PrecisionRecallDisplay.from_estimator(estim, X, y, plot_chance_level = True, ax = axs[0])\n",
    "    _ = skm.RocCurveDisplay.from_estimator(estim, X, y, plot_chance_level= True, ax = axs[1])\n",
    "    _ = skm.ConfusionMatrixDisplay.from_estimator(estim, X, y, ax = axs[2])\n",
    "    _ = axs[0].set_title(\" Precision / Recall \")\n",
    "    _ = axs[1].set_title(\" ROC Curve \")\n",
    "    plt.show()\n",
    "\n",
    "def plots_from_predictions(true, pred):\n",
    "    rows = 1\n",
    "    cols = 3\n",
    "    fig, axs = plt.subplots(1, cols, sharey=False, tight_layout=True, figsize=(cols *5,5) )\n",
    "    _ = skm.PrecisionRecallDisplay.from_predictions(true, pred, plot_chance_level = True, ax = axs[0])\n",
    "    _ = skm.RocCurveDisplay.from_predictions(true, pred, plot_chance_level= True, ax = axs[1])\n",
    "    _ = skm.ConfusionMatrixDisplay.from_predictions(true, pred, ax = axs[2], values_format='d')\n",
    "    _ = axs[0].set_title(\" Precision / Recall \")\n",
    "    _ = axs[1].set_title(\" ROC Curve \")\n",
    "    plt.show()"
   ]
  },
  {
   "cell_type": "markdown",
   "id": "cdac793b-be20-4c56-8bab-989c05caad80",
   "metadata": {},
   "source": [
    "### main(args)"
   ]
  },
  {
   "cell_type": "code",
   "execution_count": 8,
   "id": "c25082b2-753b-4069-b183-00a90f611b68",
   "metadata": {
    "editable": true,
    "execution": {
     "iopub.execute_input": "2024-08-01T18:29:23.821655Z",
     "iopub.status.busy": "2024-08-01T18:29:23.821114Z",
     "iopub.status.idle": "2024-08-01T18:29:23.861798Z",
     "shell.execute_reply": "2024-08-01T18:29:23.860986Z",
     "shell.execute_reply.started": "2024-08-01T18:29:23.821611Z"
    },
    "slideshow": {
     "slide_type": ""
    },
    "tags": []
   },
   "outputs": [],
   "source": [
    "WANDB_ACTIVE  = False\n",
    "LATENT_DIM    = 150\n",
    "HIDDEN_1      = 512\n",
    "# HIDDEN_2    = '_256'\n",
    "HIDDEN_2      = ''\n",
    "DATE          = 'yyyymmdd-hhmm'\n",
    "LOAD_EPOCH    = 200\n",
    "EPOCHS        = 5\n",
    "COMPOUNDS_PER_BATCH = 200\n",
    "LEARNING_RATE = 1.00e-04\n",
    "TEMP          = 0.05\n",
    "TEMP_LR       = 1.00e-05\n",
    "# RUNMODE       = \"baseline\"\n",
    "# CONFIGURATION = \"./hyperparameters/ae_cp_150_512_cpb.yaml\"\n",
    "RUNMODE       = \"snnl\"\n",
    "CONFIGURATION   = \"./hyperparameters/ae_sn_150_512_cpb.yaml\"\n",
    "# CHECKPT       = f\"AE_snnl_dcpb{COMPOUNDS_PER_BATCH}_{LATENT_DIM}Ltnt_{HIDDEN_1}{HIDDEN_2}_{DATE}_LAST_ep_{LOAD_EPOCH:03d}.pt\"\n",
    "# CHECKPT       = \"AE_snnl_dcpb200_150Ltnt_512_20240709_2235_LAST_ep_700.pt\"\n",
    "# CHECKPT       = \"AE_snnl_dcpb200_150Ltnt_512_240709_2235_LAST_ep_705.pt\"\n",
    "# RUN_ID        = \"jzt6ecjz\"\n"
   ]
  },
  {
   "cell_type": "code",
   "execution_count": 9,
   "id": "60285362-f1d0-48f0-91d3-1787dce08036",
   "metadata": {
    "editable": true,
    "execution": {
     "iopub.execute_input": "2024-08-01T18:29:24.297813Z",
     "iopub.status.busy": "2024-08-01T18:29:24.297325Z",
     "iopub.status.idle": "2024-08-01T18:29:24.341413Z",
     "shell.execute_reply": "2024-08-01T18:29:24.340462Z",
     "shell.execute_reply.started": "2024-08-01T18:29:24.297776Z"
    },
    "slideshow": {
     "slide_type": ""
    },
    "tags": []
   },
   "outputs": [],
   "source": [
    "# ex_runmode = 'baseline'\n",
    "# ex_runmode = 'base'\n",
    "# ex_date = \"20240709\"\n",
    "# ex_time = \"1950\"\n",
    "# indicator = 's'\n",
    "SNNL_runmode = 'SNNL'\n",
    "BASE_runmode = 'BASELINE'\n",
    "\n",
    "base_date = \"20240718\"\n",
    "base_time = \"1956\"\n",
    "##\n",
    "snnl_date = \"20240718\"\n",
    "snnl_time = \"1956\"\n",
    "indicator = 'd'\n",
    "##\n",
    "ex_title = f\"scpb{COMPOUNDS_PER_BATCH}-{LATENT_DIM}Ltnt\"\n",
    "ex_cpb = 200\n",
    "suffix = '*'\n",
    "epochs = 50"
   ]
  },
  {
   "cell_type": "code",
   "execution_count": 14,
   "id": "c2d45c0c-8e38-4a67-80d4-69274f7eed33",
   "metadata": {
    "editable": true,
    "execution": {
     "iopub.execute_input": "2024-08-01T18:29:45.343946Z",
     "iopub.status.busy": "2024-08-01T18:29:45.343407Z",
     "iopub.status.idle": "2024-08-01T18:29:45.403026Z",
     "shell.execute_reply": "2024-08-01T18:29:45.402100Z",
     "shell.execute_reply.started": "2024-08-01T18:29:45.343905Z"
    },
    "slideshow": {
     "slide_type": ""
    },
    "tags": []
   },
   "outputs": [
    {
     "name": "stdout",
     "output_type": "stream",
     "text": [
      "161\n",
      "3sample_profiles_embedding_161_HashOrder_{runmode}_20240718_1956_BEST_{datatype}.csv\n",
      "3sample_profiles_embedding_161_HashOrder_{runmode}_20240718_1956_BEST_{datatype}.csv\n"
     ]
    }
   ],
   "source": [
    "# = utils.load_model_from_ckpt(model, ex_mode, ex_timestamp, ex_title, epochs, ex_cpb, ex_factor )\n",
    "output_file_cols = ['Metadata_Source', 'Metadata_Batch', 'Metadata_Plate', 'Metadata_Well', 'Metadata_JCP2022', 'Metadata_Hash', 'Metadata_Bin', 'Metadata_TPSA', 'Metadata_lnTPSA', 'Metadata_log10TPSA', 'Metadata_Permiation']\n",
    "output_file_cols += [f'Feature_{x:03d}' for x in range(LATENT_DIM)]\n",
    "output_path = f\"/home/kevin/WSL-shared/cellpainting/cj-datasets/output_11102023/3_sample_embeddings/\"\n",
    "print(len(output_file_cols))\n",
    "\n",
    "BASELINE_BEST_INPUT_FILE = f\"3sample_profiles_embedding_{len(output_file_cols)}_HashOrder_{{runmode}}_{base_date}_{base_time}_BEST_{{datatype}}.csv\"\n",
    "BASELINE_LAST_INPUT_FILE = f\"3sample_profiles_embedding_{len(output_file_cols)}_HashOrder_{{runmode}}_{base_date}_{base_time}_LAST_{{datatype}}.csv\"\n",
    "SNNL_BEST_INPUT_FILE = f\"3sample_profiles_embedding_{len(output_file_cols)}_HashOrder_{{runmode}}_{snnl_date}_{snnl_time}_BEST_{{datatype}}.csv\"\n",
    "SNNL_LAST_INPUT_FILE = f\"3sample_profiles_embedding_{len(output_file_cols)}_HashOrder_{{runmode}}_{snnl_date}_{sbbl_time}_LAST_{{datatype}}.csv\"\n",
    "\n",
    "print(BASELINE_BEST_INPUT_FILE)\n",
    "print(SNNL_BEST_INPUT_FILE)"
   ]
  },
  {
   "cell_type": "code",
   "execution_count": 15,
   "id": "666fae22-31c3-43b5-ac9f-50f5df9356f7",
   "metadata": {
    "execution": {
     "iopub.execute_input": "2024-08-01T18:29:46.488530Z",
     "iopub.status.busy": "2024-08-01T18:29:46.487925Z",
     "iopub.status.idle": "2024-08-01T18:29:46.549982Z",
     "shell.execute_reply": "2024-08-01T18:29:46.548973Z",
     "shell.execute_reply.started": "2024-08-01T18:29:46.488487Z"
    }
   },
   "outputs": [
    {
     "name": "stdout",
     "output_type": "stream",
     "text": [
      "/home/kevin/WSL-shared/cellpainting/cj-datasets/output_11102023/3_sample_embeddings/3sample_profiles_embedding_161_HashOrder_BASELINE_20240718_1956_BEST_train.csv\n",
      "/home/kevin/WSL-shared/cellpainting/cj-datasets/output_11102023/3_sample_embeddings/3sample_profiles_embedding_161_HashOrder_BASELINE_20240718_1956_BEST_test.csv\n",
      "/home/kevin/WSL-shared/cellpainting/cj-datasets/output_11102023/3_sample_embeddings/3sample_profiles_embedding_161_HashOrder_SNNL_20240718_1956_BEST_train.csv\n",
      "/home/kevin/WSL-shared/cellpainting/cj-datasets/output_11102023/3_sample_embeddings/3sample_profiles_embedding_161_HashOrder_SNNL_20240718_1956_BEST_test.csv\n"
     ]
    }
   ],
   "source": [
    "# BEST_OUTPUT_FILE = BASELINE_BEST_OUTPUT_FILE\n",
    "# LAST_OUTPUT_FILE = BASELINE_LAST_OUTPUT_FILE\n",
    "\n",
    "# OUTPUT_FILE = SNNL_LAST_OUTPUT_FILE\n",
    "INPUT_FILE = SNNL_BEST_INPUT_FILE\n",
    "for runmode in ['BASELINE', 'SNNL']:\n",
    "    for datatype in ['train', 'test']:\n",
    "        print(os.path.join(output_path, INPUT_FILE.format(runmode = runmode, datatype=datatype)))\n",
    "        # print(os.path.join(output_path, LAST_OUTPUT_FILE.format(datatype=datatype)))"
   ]
  },
  {
   "cell_type": "markdown",
   "id": "a967d653-5403-4533-9221-300cdf7c508e",
   "metadata": {},
   "source": [
    "# Input "
   ]
  },
  {
   "cell_type": "markdown",
   "id": "c0559cf4-2d97-4272-bf8d-e9a41b499dfb",
   "metadata": {},
   "source": [
    "## Read Embedded Features CSV file"
   ]
  },
  {
   "cell_type": "code",
   "execution_count": 16,
   "id": "ab7b33d4-10b8-44a2-a97b-3fb5e124812e",
   "metadata": {
    "editable": true,
    "execution": {
     "iopub.execute_input": "2024-08-01T18:29:47.354483Z",
     "iopub.status.busy": "2024-08-01T18:29:47.353908Z",
     "iopub.status.idle": "2024-08-01T18:29:47.417056Z",
     "shell.execute_reply": "2024-08-01T18:29:47.416202Z",
     "shell.execute_reply.started": "2024-08-01T18:29:47.354441Z"
    },
    "slideshow": {
     "slide_type": ""
    },
    "tags": []
   },
   "outputs": [
    {
     "data": {
      "text/plain": [
       "'/home/kevin/WSL-shared/cellpainting/cj-datasets/output_11102023/3_sample_embeddings/3sample_profiles_embedding_161_HashOrder_SNNL_20240718_1956_BEST_test.csv'"
      ]
     },
     "execution_count": 16,
     "metadata": {},
     "output_type": "execute_result"
    },
    {
     "data": {
      "text/plain": [
       "'/home/kevin/WSL-shared/cellpainting/cj-datasets/output_11102023/3_sample_embeddings/3sample_profiles_embedding_161_HashOrder_SNNL_20240718_1956_BEST_train.csv'"
      ]
     },
     "execution_count": 16,
     "metadata": {},
     "output_type": "execute_result"
    }
   ],
   "source": [
    "BASE_TRAIN_INPUT = os.path.join(output_path, INPUT_FILE.format(runmode = BASE_runmode ,datatype='train'))\n",
    "BASE_TEST_INPUT  = os.path.join(output_path, INPUT_FILE.format(runmode = BASE_runmode ,datatype='test'))\n",
    "SNNL_TRAIN_INPUT = os.path.join(output_path, INPUT_FILE.format(runmode = SNNL_runmode ,datatype='train'))\n",
    "SNNL_TEST_INPUT  = os.path.join(output_path, INPUT_FILE.format(runmode = SNNL_runmode ,datatype='test'))\n",
    "BASE_TRAIN_INPUT\n",
    "BASE_TEST_INPUT \n",
    "SNNL_TRAIN_INPUT\n",
    "SNNL_TEST_INPUT "
   ]
  },
  {
   "cell_type": "code",
   "execution_count": 17,
   "id": "8dff17ab-dd6a-49fe-8733-8f3448537618",
   "metadata": {
    "execution": {
     "iopub.execute_input": "2024-08-01T18:29:48.580445Z",
     "iopub.status.busy": "2024-08-01T18:29:48.579858Z",
     "iopub.status.idle": "2024-08-01T18:29:50.217095Z",
     "shell.execute_reply": "2024-08-01T18:29:50.216337Z",
     "shell.execute_reply.started": "2024-08-01T18:29:48.580402Z"
    }
   },
   "outputs": [],
   "source": [
    "df_test = pd.read_csv(TEST_INPUT )"
   ]
  },
  {
   "cell_type": "code",
   "execution_count": 18,
   "id": "9e7a273e-36aa-4b1b-8a49-3c911fe62659",
   "metadata": {
    "execution": {
     "iopub.execute_input": "2024-08-01T18:29:51.285477Z",
     "iopub.status.busy": "2024-08-01T18:29:51.284932Z",
     "iopub.status.idle": "2024-08-01T18:29:51.351782Z",
     "shell.execute_reply": "2024-08-01T18:29:51.350858Z",
     "shell.execute_reply.started": "2024-08-01T18:29:51.285437Z"
    }
   },
   "outputs": [
    {
     "name": "stdout",
     "output_type": "stream",
     "text": [
      "<class 'pandas.core.frame.DataFrame'>\n",
      "RangeIndex: 34542 entries, 0 to 34541\n",
      "Columns: 161 entries, Metadata_Source to Feature_149\n",
      "dtypes: float64(154), int64(2), object(5)\n",
      "memory usage: 42.4+ MB\n"
     ]
    },
    {
     "data": {
      "text/plain": [
       "(34542, 161)"
      ]
     },
     "execution_count": 18,
     "metadata": {},
     "output_type": "execute_result"
    },
    {
     "data": {
      "text/plain": [
       "Index(['Metadata_Source', 'Metadata_Batch', 'Metadata_Plate', 'Metadata_Well', 'Metadata_JCP2022', 'Metadata_Hash', 'Metadata_Bin',\n",
       "       'Metadata_TPSA', 'Metadata_lnTPSA', 'Metadata_log10TPSA',\n",
       "       ...\n",
       "       'Feature_140', 'Feature_141', 'Feature_142', 'Feature_143', 'Feature_144', 'Feature_145', 'Feature_146', 'Feature_147',\n",
       "       'Feature_148', 'Feature_149'],\n",
       "      dtype='object', length=161)"
      ]
     },
     "execution_count": 18,
     "metadata": {},
     "output_type": "execute_result"
    }
   ],
   "source": [
    "df_test.info()\n",
    "df_test.shape\n",
    "df_test.columns"
   ]
  },
  {
   "cell_type": "code",
   "execution_count": 19,
   "id": "39a0de32-44c7-4220-8ada-fb9fbb461a40",
   "metadata": {
    "execution": {
     "iopub.execute_input": "2024-08-01T18:29:51.499652Z",
     "iopub.status.busy": "2024-08-01T18:29:51.499131Z",
     "iopub.status.idle": "2024-08-01T18:29:51.577517Z",
     "shell.execute_reply": "2024-08-01T18:29:51.576453Z",
     "shell.execute_reply.started": "2024-08-01T18:29:51.499613Z"
    }
   },
   "outputs": [
    {
     "data": {
      "text/html": [
       "<div>\n",
       "<style scoped>\n",
       "    .dataframe tbody tr th:only-of-type {\n",
       "        vertical-align: middle;\n",
       "    }\n",
       "\n",
       "    .dataframe tbody tr th {\n",
       "        vertical-align: top;\n",
       "    }\n",
       "\n",
       "    .dataframe thead th {\n",
       "        text-align: right;\n",
       "    }\n",
       "</style>\n",
       "<table border=\"1\" class=\"dataframe\">\n",
       "  <thead>\n",
       "    <tr style=\"text-align: right;\">\n",
       "      <th></th>\n",
       "      <th>Metadata_Source</th>\n",
       "      <th>Metadata_Batch</th>\n",
       "      <th>Metadata_Plate</th>\n",
       "      <th>Metadata_Well</th>\n",
       "      <th>Metadata_JCP2022</th>\n",
       "      <th>Metadata_Hash</th>\n",
       "      <th>Metadata_Bin</th>\n",
       "      <th>Metadata_TPSA</th>\n",
       "      <th>Metadata_lnTPSA</th>\n",
       "      <th>Metadata_log10TPSA</th>\n",
       "      <th>Metadata_Permiation</th>\n",
       "      <th>Feature_000</th>\n",
       "      <th>Feature_001</th>\n",
       "    </tr>\n",
       "  </thead>\n",
       "  <tbody>\n",
       "    <tr>\n",
       "      <th>0</th>\n",
       "      <td>source_11</td>\n",
       "      <td>Batch2</td>\n",
       "      <td>EC000046</td>\n",
       "      <td>K04</td>\n",
       "      <td>JCP2022_009278</td>\n",
       "      <td>7406361908543180200</td>\n",
       "      <td>8</td>\n",
       "      <td>62.78</td>\n",
       "      <td>4.139637</td>\n",
       "      <td>1.797821</td>\n",
       "      <td>0.0</td>\n",
       "      <td>0.613709</td>\n",
       "      <td>0.704578</td>\n",
       "    </tr>\n",
       "    <tr>\n",
       "      <th>1</th>\n",
       "      <td>source_11</td>\n",
       "      <td>Batch2</td>\n",
       "      <td>EC000063</td>\n",
       "      <td>K04</td>\n",
       "      <td>JCP2022_009278</td>\n",
       "      <td>7406361908543180200</td>\n",
       "      <td>8</td>\n",
       "      <td>62.78</td>\n",
       "      <td>4.139637</td>\n",
       "      <td>1.797821</td>\n",
       "      <td>0.0</td>\n",
       "      <td>0.396030</td>\n",
       "      <td>1.886775</td>\n",
       "    </tr>\n",
       "    <tr>\n",
       "      <th>2</th>\n",
       "      <td>source_9</td>\n",
       "      <td>20211013-Run14</td>\n",
       "      <td>GR00003281</td>\n",
       "      <td>J15</td>\n",
       "      <td>JCP2022_009278</td>\n",
       "      <td>7406361908543180200</td>\n",
       "      <td>8</td>\n",
       "      <td>62.78</td>\n",
       "      <td>4.139637</td>\n",
       "      <td>1.797821</td>\n",
       "      <td>0.0</td>\n",
       "      <td>0.967456</td>\n",
       "      <td>-0.243835</td>\n",
       "    </tr>\n",
       "    <tr>\n",
       "      <th>3</th>\n",
       "      <td>source_5</td>\n",
       "      <td>JUMPCPE-20210908-Run28_20210909_072022</td>\n",
       "      <td>AETJUM107</td>\n",
       "      <td>J10</td>\n",
       "      <td>JCP2022_045457</td>\n",
       "      <td>7406621140030190348</td>\n",
       "      <td>12</td>\n",
       "      <td>33.20</td>\n",
       "      <td>3.502550</td>\n",
       "      <td>1.521138</td>\n",
       "      <td>0.0</td>\n",
       "      <td>-0.355203</td>\n",
       "      <td>0.057036</td>\n",
       "    </tr>\n",
       "    <tr>\n",
       "      <th>4</th>\n",
       "      <td>source_11</td>\n",
       "      <td>Batch3</td>\n",
       "      <td>EC000139</td>\n",
       "      <td>G04</td>\n",
       "      <td>JCP2022_045457</td>\n",
       "      <td>7406621140030190348</td>\n",
       "      <td>12</td>\n",
       "      <td>33.20</td>\n",
       "      <td>3.502550</td>\n",
       "      <td>1.521138</td>\n",
       "      <td>0.0</td>\n",
       "      <td>1.246175</td>\n",
       "      <td>0.795314</td>\n",
       "    </tr>\n",
       "  </tbody>\n",
       "</table>\n",
       "</div>"
      ],
      "text/plain": [
       "  Metadata_Source                          Metadata_Batch Metadata_Plate Metadata_Well Metadata_JCP2022        Metadata_Hash  \\\n",
       "0       source_11                                  Batch2       EC000046           K04   JCP2022_009278  7406361908543180200   \n",
       "1       source_11                                  Batch2       EC000063           K04   JCP2022_009278  7406361908543180200   \n",
       "2        source_9                          20211013-Run14     GR00003281           J15   JCP2022_009278  7406361908543180200   \n",
       "3        source_5  JUMPCPE-20210908-Run28_20210909_072022      AETJUM107           J10   JCP2022_045457  7406621140030190348   \n",
       "4       source_11                                  Batch3       EC000139           G04   JCP2022_045457  7406621140030190348   \n",
       "\n",
       "   Metadata_Bin  Metadata_TPSA  Metadata_lnTPSA  Metadata_log10TPSA  Metadata_Permiation  Feature_000  Feature_001  \n",
       "0             8          62.78         4.139637            1.797821                  0.0     0.613709     0.704578  \n",
       "1             8          62.78         4.139637            1.797821                  0.0     0.396030     1.886775  \n",
       "2             8          62.78         4.139637            1.797821                  0.0     0.967456    -0.243835  \n",
       "3            12          33.20         3.502550            1.521138                  0.0    -0.355203     0.057036  \n",
       "4            12          33.20         3.502550            1.521138                  0.0     1.246175     0.795314  "
      ]
     },
     "execution_count": 19,
     "metadata": {},
     "output_type": "execute_result"
    }
   ],
   "source": [
    "df_test.iloc[:5,:13]"
   ]
  },
  {
   "cell_type": "code",
   "execution_count": 20,
   "id": "e21aa50d-b501-4532-9c1f-62a2c960f48d",
   "metadata": {
    "execution": {
     "iopub.execute_input": "2024-08-01T18:29:52.660126Z",
     "iopub.status.busy": "2024-08-01T18:29:52.659579Z",
     "iopub.status.idle": "2024-08-01T18:30:06.573618Z",
     "shell.execute_reply": "2024-08-01T18:30:06.572290Z",
     "shell.execute_reply.started": "2024-08-01T18:29:52.660086Z"
    }
   },
   "outputs": [],
   "source": [
    "df_train = pd.read_csv(TRAIN_INPUT)\n",
    "# df_train = pd.read_csv(TRAIN_INPUT, nrows = 100 )\n",
    "# df_train = pd.read_csv(TRAIN_INPUT, usecols = ['Metadata_Batch'])"
   ]
  },
  {
   "cell_type": "code",
   "execution_count": 615,
   "id": "8e266886-b249-4370-84ef-242c34c98e72",
   "metadata": {
    "execution": {
     "iopub.execute_input": "2024-08-05T18:58:20.250465Z",
     "iopub.status.busy": "2024-08-05T18:58:20.250120Z",
     "iopub.status.idle": "2024-08-05T18:58:20.320033Z",
     "shell.execute_reply": "2024-08-05T18:58:20.319252Z",
     "shell.execute_reply.started": "2024-08-05T18:58:20.250438Z"
    }
   },
   "outputs": [
    {
     "data": {
      "text/plain": [
       "4164"
      ]
     },
     "execution_count": 615,
     "metadata": {},
     "output_type": "execute_result"
    },
    {
     "data": {
      "text/plain": [
       "((34542,), numpy.ndarray, dtype('uint8'))"
      ]
     },
     "execution_count": 615,
     "metadata": {},
     "output_type": "execute_result"
    },
    {
     "data": {
      "text/plain": [
       "((34542, 150), numpy.ndarray, dtype('float64'))"
      ]
     },
     "execution_count": 615,
     "metadata": {},
     "output_type": "execute_result"
    }
   ],
   "source": [
    "test_y = df_test.iloc[:,10:11].to_numpy().ravel().astype(np.uint8)\n",
    "test_y.sum()\n",
    "test_y.shape, type(test_y), test_y.dtype\n",
    "test_X = df_test.iloc[:,11:].to_numpy()\n",
    "test_X.shape,type(test_X), test_X.dtype"
   ]
  },
  {
   "cell_type": "code",
   "execution_count": 617,
   "id": "b5ccbf57-4fa7-4842-919b-103d14e44c79",
   "metadata": {
    "execution": {
     "iopub.execute_input": "2024-08-05T18:59:03.488309Z",
     "iopub.status.busy": "2024-08-05T18:59:03.487885Z",
     "iopub.status.idle": "2024-08-05T18:59:03.613080Z",
     "shell.execute_reply": "2024-08-05T18:59:03.612350Z",
     "shell.execute_reply.started": "2024-08-05T18:59:03.488276Z"
    }
   },
   "outputs": [
    {
     "data": {
      "text/plain": [
       "(312000, 161)"
      ]
     },
     "execution_count": 617,
     "metadata": {},
     "output_type": "execute_result"
    },
    {
     "name": "stdout",
     "output_type": "stream",
     "text": [
      "<class 'pandas.core.frame.DataFrame'>\n",
      "RangeIndex: 312000 entries, 0 to 311999\n",
      "Columns: 161 entries, Metadata_Source to Feature_149\n",
      "dtypes: float64(154), int64(2), object(5)\n",
      "memory usage: 383.2+ MB\n"
     ]
    },
    {
     "data": {
      "text/html": [
       "<div>\n",
       "<style scoped>\n",
       "    .dataframe tbody tr th:only-of-type {\n",
       "        vertical-align: middle;\n",
       "    }\n",
       "\n",
       "    .dataframe tbody tr th {\n",
       "        vertical-align: top;\n",
       "    }\n",
       "\n",
       "    .dataframe thead th {\n",
       "        text-align: right;\n",
       "    }\n",
       "</style>\n",
       "<table border=\"1\" class=\"dataframe\">\n",
       "  <thead>\n",
       "    <tr style=\"text-align: right;\">\n",
       "      <th></th>\n",
       "      <th>Metadata_Source</th>\n",
       "      <th>Metadata_Batch</th>\n",
       "      <th>Metadata_Plate</th>\n",
       "      <th>Metadata_Well</th>\n",
       "      <th>Metadata_JCP2022</th>\n",
       "      <th>Metadata_Hash</th>\n",
       "      <th>Metadata_Bin</th>\n",
       "      <th>Metadata_TPSA</th>\n",
       "      <th>Metadata_lnTPSA</th>\n",
       "      <th>Metadata_log10TPSA</th>\n",
       "      <th>Metadata_Permiation</th>\n",
       "      <th>Feature_000</th>\n",
       "      <th>Feature_001</th>\n",
       "      <th>Feature_002</th>\n",
       "      <th>Feature_003</th>\n",
       "      <th>Feature_004</th>\n",
       "    </tr>\n",
       "  </thead>\n",
       "  <tbody>\n",
       "    <tr>\n",
       "      <th>0</th>\n",
       "      <td>source_1</td>\n",
       "      <td>Batch5_20221030</td>\n",
       "      <td>UL001793</td>\n",
       "      <td>M26</td>\n",
       "      <td>JCP2022_006020</td>\n",
       "      <td>-9223347314827979542</td>\n",
       "      <td>10</td>\n",
       "      <td>71.18</td>\n",
       "      <td>4.265212</td>\n",
       "      <td>1.852358</td>\n",
       "      <td>0.0</td>\n",
       "      <td>-0.584816</td>\n",
       "      <td>1.739848</td>\n",
       "      <td>-0.512839</td>\n",
       "      <td>0.171693</td>\n",
       "      <td>-0.277947</td>\n",
       "    </tr>\n",
       "    <tr>\n",
       "      <th>1</th>\n",
       "      <td>source_10</td>\n",
       "      <td>2021_06_22_U2OS_48_hr_run8</td>\n",
       "      <td>Dest210622-143628</td>\n",
       "      <td>M04</td>\n",
       "      <td>JCP2022_006020</td>\n",
       "      <td>-9223347314827979542</td>\n",
       "      <td>10</td>\n",
       "      <td>71.18</td>\n",
       "      <td>4.265212</td>\n",
       "      <td>1.852358</td>\n",
       "      <td>0.0</td>\n",
       "      <td>0.072229</td>\n",
       "      <td>4.545980</td>\n",
       "      <td>-0.728832</td>\n",
       "      <td>-6.005501</td>\n",
       "      <td>0.926439</td>\n",
       "    </tr>\n",
       "    <tr>\n",
       "      <th>2</th>\n",
       "      <td>source_3</td>\n",
       "      <td>CP_31_all_Phenix1</td>\n",
       "      <td>B040603b</td>\n",
       "      <td>G13</td>\n",
       "      <td>JCP2022_006020</td>\n",
       "      <td>-9223347314827979542</td>\n",
       "      <td>10</td>\n",
       "      <td>71.18</td>\n",
       "      <td>4.265212</td>\n",
       "      <td>1.852358</td>\n",
       "      <td>0.0</td>\n",
       "      <td>1.418385</td>\n",
       "      <td>4.461677</td>\n",
       "      <td>2.481470</td>\n",
       "      <td>-0.635005</td>\n",
       "      <td>-2.307799</td>\n",
       "    </tr>\n",
       "    <tr>\n",
       "      <th>3</th>\n",
       "      <td>source_6</td>\n",
       "      <td>p211004CPU2OS48hw384exp031JUMP</td>\n",
       "      <td>110000295562</td>\n",
       "      <td>M08</td>\n",
       "      <td>JCP2022_058905</td>\n",
       "      <td>-9223229703754907651</td>\n",
       "      <td>13</td>\n",
       "      <td>58.65</td>\n",
       "      <td>4.071588</td>\n",
       "      <td>1.768268</td>\n",
       "      <td>0.0</td>\n",
       "      <td>-2.747379</td>\n",
       "      <td>0.744657</td>\n",
       "      <td>2.082911</td>\n",
       "      <td>1.504725</td>\n",
       "      <td>1.156345</td>\n",
       "    </tr>\n",
       "    <tr>\n",
       "      <th>4</th>\n",
       "      <td>source_3</td>\n",
       "      <td>CP_32_all_Phenix1</td>\n",
       "      <td>B40003aW</td>\n",
       "      <td>M08</td>\n",
       "      <td>JCP2022_058905</td>\n",
       "      <td>-9223229703754907651</td>\n",
       "      <td>13</td>\n",
       "      <td>58.65</td>\n",
       "      <td>4.071588</td>\n",
       "      <td>1.768268</td>\n",
       "      <td>0.0</td>\n",
       "      <td>0.559964</td>\n",
       "      <td>1.732896</td>\n",
       "      <td>0.296971</td>\n",
       "      <td>-1.477167</td>\n",
       "      <td>1.171373</td>\n",
       "    </tr>\n",
       "  </tbody>\n",
       "</table>\n",
       "</div>"
      ],
      "text/plain": [
       "  Metadata_Source                  Metadata_Batch     Metadata_Plate Metadata_Well Metadata_JCP2022        Metadata_Hash  \\\n",
       "0        source_1                 Batch5_20221030           UL001793           M26   JCP2022_006020 -9223347314827979542   \n",
       "1       source_10      2021_06_22_U2OS_48_hr_run8  Dest210622-143628           M04   JCP2022_006020 -9223347314827979542   \n",
       "2        source_3               CP_31_all_Phenix1           B040603b           G13   JCP2022_006020 -9223347314827979542   \n",
       "3        source_6  p211004CPU2OS48hw384exp031JUMP       110000295562           M08   JCP2022_058905 -9223229703754907651   \n",
       "4        source_3               CP_32_all_Phenix1           B40003aW           M08   JCP2022_058905 -9223229703754907651   \n",
       "\n",
       "   Metadata_Bin  Metadata_TPSA  Metadata_lnTPSA  Metadata_log10TPSA  Metadata_Permiation  Feature_000  Feature_001  Feature_002  \\\n",
       "0            10          71.18         4.265212            1.852358                  0.0    -0.584816     1.739848    -0.512839   \n",
       "1            10          71.18         4.265212            1.852358                  0.0     0.072229     4.545980    -0.728832   \n",
       "2            10          71.18         4.265212            1.852358                  0.0     1.418385     4.461677     2.481470   \n",
       "3            13          58.65         4.071588            1.768268                  0.0    -2.747379     0.744657     2.082911   \n",
       "4            13          58.65         4.071588            1.768268                  0.0     0.559964     1.732896     0.296971   \n",
       "\n",
       "   Feature_003  Feature_004  \n",
       "0     0.171693    -0.277947  \n",
       "1    -6.005501     0.926439  \n",
       "2    -0.635005    -2.307799  \n",
       "3     1.504725     1.156345  \n",
       "4    -1.477167     1.171373  "
      ]
     },
     "execution_count": 617,
     "metadata": {},
     "output_type": "execute_result"
    }
   ],
   "source": [
    "df_train.shape\n",
    "df_train.info()\n",
    "df_train.iloc[:5,:16]"
   ]
  },
  {
   "cell_type": "code",
   "execution_count": 26,
   "id": "8b7d392e-68eb-4474-ad37-12244f4d23b0",
   "metadata": {
    "execution": {
     "iopub.execute_input": "2024-08-01T18:30:22.776484Z",
     "iopub.status.busy": "2024-08-01T18:30:22.775957Z",
     "iopub.status.idle": "2024-08-01T18:30:22.832600Z",
     "shell.execute_reply": "2024-08-01T18:30:22.831596Z",
     "shell.execute_reply.started": "2024-08-01T18:30:22.776444Z"
    }
   },
   "outputs": [
    {
     "data": {
      "text/plain": [
       "346542"
      ]
     },
     "execution_count": 26,
     "metadata": {},
     "output_type": "execute_result"
    }
   ],
   "source": [
    "312000+34542"
   ]
  },
  {
   "cell_type": "code",
   "execution_count": 618,
   "id": "8710ee4c-badf-4f28-a214-f8354f6c1e5f",
   "metadata": {
    "execution": {
     "iopub.execute_input": "2024-08-05T18:59:55.274716Z",
     "iopub.status.busy": "2024-08-05T18:59:55.274258Z",
     "iopub.status.idle": "2024-08-05T18:59:57.938573Z",
     "shell.execute_reply": "2024-08-05T18:59:57.937715Z",
     "shell.execute_reply.started": "2024-08-05T18:59:55.274678Z"
    }
   },
   "outputs": [
    {
     "data": {
      "text/plain": [
       "37164"
      ]
     },
     "execution_count": 618,
     "metadata": {},
     "output_type": "execute_result"
    },
    {
     "data": {
      "text/plain": [
       "((312000,), numpy.ndarray, dtype('uint8'))"
      ]
     },
     "execution_count": 618,
     "metadata": {},
     "output_type": "execute_result"
    },
    {
     "data": {
      "text/plain": [
       "((312000, 150), numpy.ndarray, dtype('float64'))"
      ]
     },
     "execution_count": 618,
     "metadata": {},
     "output_type": "execute_result"
    }
   ],
   "source": [
    "train_y = df_train.iloc[:,10:11].to_numpy().ravel().astype(np.uint8)\n",
    "train_y.sum()\n",
    "train_y.shape, type(train_y), train_y.dtype\n",
    "\n",
    "train_X = df_train.iloc[:,11:].to_numpy()\n",
    "train_X.shape,type(train_X) ,train_X.dtype"
   ]
  },
  {
   "cell_type": "markdown",
   "id": "6fe81c72-1a16-4661-abdf-515d3cf37658",
   "metadata": {},
   "source": [
    "## Standardize inputs"
   ]
  },
  {
   "cell_type": "code",
   "execution_count": 619,
   "id": "f0e166f8-7c19-4113-b2c8-798b367e840c",
   "metadata": {
    "execution": {
     "iopub.execute_input": "2024-08-05T19:00:33.908202Z",
     "iopub.status.busy": "2024-08-05T19:00:33.907453Z",
     "iopub.status.idle": "2024-08-05T19:00:41.033685Z",
     "shell.execute_reply": "2024-08-05T19:00:41.032940Z",
     "shell.execute_reply.started": "2024-08-05T19:00:33.908137Z"
    }
   },
   "outputs": [
    {
     "name": "stdout",
     "output_type": "stream",
     "text": [
      "Train_X :  Min: -72.2029    Max: 103.8641   Mean: 0.0527  Std: 2.5164\n",
      "Test_X  :  Min: -53.3835    Max: 71.4748    Mean: 0.0529  Std: 2.4997\n"
     ]
    }
   ],
   "source": [
    "print(f\"Train_X :  Min: {train_X.min():.4f}    Max: {train_X.max():.4f}   Mean: {train_X.mean():.4f}  Std: {train_X.std():.4f}\")\n",
    "print(f\"Test_X  :  Min: {test_X.min():.4f}    Max: {test_X.max():.4f}    Mean: {test_X.mean():.4f}  Std: {test_X.std():.4f}\")"
   ]
  },
  {
   "cell_type": "code",
   "execution_count": 620,
   "id": "a9405556-1159-4dff-9b35-aa0b940668b1",
   "metadata": {
    "execution": {
     "iopub.execute_input": "2024-08-05T19:00:53.122587Z",
     "iopub.status.busy": "2024-08-05T19:00:53.122167Z",
     "iopub.status.idle": "2024-08-05T19:00:53.158912Z",
     "shell.execute_reply": "2024-08-05T19:00:53.158150Z",
     "shell.execute_reply.started": "2024-08-05T19:00:53.122543Z"
    }
   },
   "outputs": [],
   "source": [
    "# print(f\"Train_X :  Min: {train_X.min():.4f}    Max: {train_X.max():.4f}   Mean: {train_X.mean():.4f}  Std: {train_X.std():.4f}\")\n",
    "# print(f\"Test_X  :  Min: {test_X.min():.4f}    Max: {test_X.max():.4f}    Mean: {test_X.mean():.4f}  Std: {test_X.std():.4f}\")"
   ]
  },
  {
   "cell_type": "code",
   "execution_count": 621,
   "id": "94b469ab-98e6-4a6a-83d1-22f5c0634433",
   "metadata": {
    "execution": {
     "iopub.execute_input": "2024-08-05T19:00:55.486362Z",
     "iopub.status.busy": "2024-08-05T19:00:55.485889Z",
     "iopub.status.idle": "2024-08-05T19:01:06.354980Z",
     "shell.execute_reply": "2024-08-05T19:01:06.354109Z",
     "shell.execute_reply.started": "2024-08-05T19:00:55.486323Z"
    }
   },
   "outputs": [],
   "source": [
    "scaler = StandardScaler(copy = True)\n",
    "train_X = scaler.fit_transform(train_X)\n",
    "test_X = scaler.transform(test_X)"
   ]
  },
  {
   "cell_type": "code",
   "execution_count": 622,
   "id": "0ecee7ee-224f-469d-88c3-f4677cdc2afe",
   "metadata": {
    "execution": {
     "iopub.execute_input": "2024-08-05T19:01:13.946463Z",
     "iopub.status.busy": "2024-08-05T19:01:13.946020Z",
     "iopub.status.idle": "2024-08-05T19:01:16.963257Z",
     "shell.execute_reply": "2024-08-05T19:01:16.962253Z",
     "shell.execute_reply.started": "2024-08-05T19:01:13.946426Z"
    }
   },
   "outputs": [
    {
     "name": "stdout",
     "output_type": "stream",
     "text": [
      "After Standard Scaler Transformation\n",
      "Train_X :  Min: -33.4514    Max: 27.3319   Mean: -0.0000  Std: 1.0000\n",
      "Test_X  :  Min: -24.2626    Max: 28.1195    Mean: 0.0003  Std: 0.9889\n"
     ]
    }
   ],
   "source": [
    "print(\"After Standard Scaler Transformation\")\n",
    "print(f\"Train_X :  Min: {train_X.min():.4f}    Max: {train_X.max():.4f}   Mean: {train_X.mean():.4f}  Std: {train_X.std():.4f}\")\n",
    "print(f\"Test_X  :  Min: {test_X.min():.4f}    Max: {test_X.max():.4f}    Mean: {test_X.mean():.4f}  Std: {test_X.std():.4f}\")\n"
   ]
  },
  {
   "cell_type": "code",
   "execution_count": 623,
   "id": "c3b3616c-e89b-4cdc-ab4c-e48ba0846a8e",
   "metadata": {
    "execution": {
     "iopub.execute_input": "2024-08-05T19:01:57.328685Z",
     "iopub.status.busy": "2024-08-05T19:01:57.328153Z",
     "iopub.status.idle": "2024-08-05T19:01:57.388925Z",
     "shell.execute_reply": "2024-08-05T19:01:57.387905Z",
     "shell.execute_reply.started": "2024-08-05T19:01:57.328646Z"
    }
   },
   "outputs": [
    {
     "name": "stdout",
     "output_type": "stream",
     "text": [
      " Training\n",
      " Total samples: 312000\n",
      " Label 0: 274,836      % 88.09 \n",
      " Label 1:  37,164      % 11.91 \n",
      "\n",
      " Test\n",
      " Total samples: 34542\n",
      " Label 0:  30,378      % 87.95 \n",
      " Label 1:   4,164      % 12.05 \n",
      "\n"
     ]
    }
   ],
   "source": [
    "label_counts([(\"Training\", train_y), (\"Test\", test_y)])\n",
    "# for grp_name, labels in [(\"Training\", train_y), (\"Test\", test_y)]:\n",
    "#     bcnt = np.bincount(labels.astype(np.int64))\n",
    "#     print(f\" {grp_name}\")\n",
    "#     print(f\" Total samples: {bcnt.sum()}\")\n",
    "#     print(f\" Label 0: {bcnt[0]:>7d}      % {bcnt[0]*100/bcnt.sum():2.2f} \")\n",
    "#     print(f\" Label 0: {bcnt[1]:>7d}      % {bcnt[1]*100/bcnt.sum():2.2f} \")\n",
    "#     print(\"\")"
   ]
  },
  {
   "cell_type": "markdown",
   "id": "5b413996-c395-4f26-8354-b1a408a6140a",
   "metadata": {
    "jp-MarkdownHeadingCollapsed": true
   },
   "source": [
    "## Modify TPSA Threshold"
   ]
  },
  {
   "cell_type": "code",
   "execution_count": 269,
   "id": "9ca4e52f-46c9-4506-8b0d-239f045f04ac",
   "metadata": {
    "execution": {
     "iopub.execute_input": "2024-08-02T19:43:18.952547Z",
     "iopub.status.busy": "2024-08-02T19:43:18.952152Z",
     "iopub.status.idle": "2024-08-02T19:43:18.990375Z",
     "shell.execute_reply": "2024-08-02T19:43:18.989668Z",
     "shell.execute_reply.started": "2024-08-02T19:43:18.952516Z"
    }
   },
   "outputs": [
    {
     "data": {
      "text/plain": [
       "104000.0"
      ]
     },
     "execution_count": 269,
     "metadata": {},
     "output_type": "execute_result"
    }
   ],
   "source": [
    "train_y_72 = np.zeros_like(train_y)\n",
    "train_y_72.shape[0]/3"
   ]
  },
  {
   "cell_type": "code",
   "execution_count": 42,
   "id": "e11392e3-cbea-49a8-9a0b-2030c1a0aee1",
   "metadata": {
    "editable": true,
    "execution": {
     "iopub.execute_input": "2024-01-24T12:31:19.584307Z",
     "iopub.status.busy": "2024-01-24T12:31:19.583896Z",
     "iopub.status.idle": "2024-01-24T12:31:19.647754Z",
     "shell.execute_reply": "2024-01-24T12:31:19.646662Z",
     "shell.execute_reply.started": "2024-01-24T12:31:19.584277Z"
    },
    "slideshow": {
     "slide_type": ""
    },
    "tags": []
   },
   "outputs": [
    {
     "name": "stdout",
     "output_type": "stream",
     "text": [
      "                  min           max           std          mean           median\n",
      "TPSA             3.2400000  2834.6700000    32.8859880    73.6213196    71.3600000\n",
      "lnTPSA           1.1755733     7.9496808     0.3917724     4.2261118     4.2677375\n",
      "log10TPSA        0.5105450     3.4525025     0.1701446     1.8353770     1.8534548\n"
     ]
    },
    {
     "data": {
      "text/plain": [
       "116691"
      ]
     },
     "execution_count": 42,
     "metadata": {},
     "output_type": "execute_result"
    },
    {
     "data": {
      "text/plain": [
       "0.12232305833354758"
      ]
     },
     "execution_count": 42,
     "metadata": {},
     "output_type": "execute_result"
    },
    {
     "data": {
      "text/plain": [
       "0.8776769416664524"
      ]
     },
     "execution_count": 42,
     "metadata": {},
     "output_type": "execute_result"
    }
   ],
   "source": [
    "print(f\"                  min           max           std          mean           median\")\n",
    "for x in ['TPSA', 'lnTPSA', 'log10TPSA']:\n",
    "    print(f\"{x:12s} {df_train[x].min():13.7f} {df_train[x].max():13.7f} {df_train[x].std():13.7f} {df_train[x].mean():13.7f} {df_train[x].median():13.7f}\") \n",
    "\n",
    "df_train.TPSA.count()\n",
    "df_train[df_train.TPSA >= THRESHOLD].TPSA.count()/df_train.TPSA.count()\n",
    "df_train[df_train.TPSA < THRESHOLD].TPSA.count()/df_train.TPSA.count()\n"
   ]
  },
  {
   "cell_type": "code",
   "execution_count": 203,
   "id": "d5f5bab9-6b23-4078-a398-dccbea38ae78",
   "metadata": {
    "execution": {
     "iopub.execute_input": "2024-08-02T18:25:44.400889Z",
     "iopub.status.busy": "2024-08-02T18:25:44.400409Z",
     "iopub.status.idle": "2024-08-02T18:25:44.451332Z",
     "shell.execute_reply": "2024-08-02T18:25:44.450555Z",
     "shell.execute_reply.started": "2024-08-02T18:25:44.400850Z"
    }
   },
   "outputs": [
    {
     "data": {
      "text/plain": [
       "(274836, 37164)"
      ]
     },
     "execution_count": 203,
     "metadata": {},
     "output_type": "execute_result"
    }
   ],
   "source": [
    "_tmp = df_train.Metadata_Permiation.value_counts()\n",
    "_tmp[0], _tmp[1]"
   ]
  },
  {
   "cell_type": "code",
   "execution_count": 264,
   "id": "d59dcba1-6add-4446-aa27-a30564f42e54",
   "metadata": {
    "editable": true,
    "execution": {
     "iopub.execute_input": "2024-08-02T19:17:47.830206Z",
     "iopub.status.busy": "2024-08-02T19:17:47.829809Z",
     "iopub.status.idle": "2024-08-02T19:17:47.877739Z",
     "shell.execute_reply": "2024-08-02T19:17:47.877049Z",
     "shell.execute_reply.started": "2024-08-02T19:17:47.830173Z"
    },
    "slideshow": {
     "slide_type": ""
    },
    "tags": []
   },
   "outputs": [
    {
     "name": "stdout",
     "output_type": "stream",
     "text": [
      "\n",
      " TPSA threshold 68 \n",
      " Total samples: 312000\n",
      " Label 0:  138900      % 44.52 \n",
      " Label 1:  173100      % 55.48 \n",
      "\n",
      " TPSA threshold 69 \n",
      " Total samples: 312000\n",
      " Label 0:  144249      % 46.23 \n",
      " Label 1:  167751      % 53.77 \n",
      "\n",
      " TPSA threshold 70 \n",
      " Total samples: 312000\n",
      " Label 0:  149058      % 47.77 \n",
      " Label 1:  162942      % 52.23 \n",
      "\n",
      " TPSA threshold 71 \n",
      " Total samples: 312000\n",
      " Label 0:  154125      % 49.40 \n",
      " Label 1:  157875      % 50.60 \n",
      "\n",
      " TPSA threshold 72 \n",
      " Total samples: 312000\n",
      " Label 0:  160203      % 51.35 \n",
      " Label 1:  151797      % 48.65 \n",
      "\n",
      " TPSA threshold 100 \n",
      " Total samples: 312000\n",
      " Label 0:  274836      % 88.09 \n",
      " Label 1:   37164      % 11.91 \n"
     ]
    }
   ],
   "source": [
    "for threshold in [68, 69, 70, 71, 72, 100]:\n",
    "    _tmp = (df_train['Metadata_TPSA'] >= threshold).value_counts()\n",
    "    print(f\"\\n TPSA threshold {threshold} \\n Total samples: {_tmp.sum()}\")\n",
    "    print(f\" Label 0: {_tmp[False]:>7d}      % {_tmp[False]*100/_tmp.sum():2.2f} \")\n",
    "    print(f\" Label 1: {_tmp[True]:>7d}      % {_tmp[True]*100/_tmp.sum():2.2f} \")"
   ]
  },
  {
   "cell_type": "code",
   "execution_count": 265,
   "id": "65d1d01b-3946-4668-9c10-5fb3f2b3bd64",
   "metadata": {
    "execution": {
     "iopub.execute_input": "2024-08-02T19:18:15.207992Z",
     "iopub.status.busy": "2024-08-02T19:18:15.207573Z",
     "iopub.status.idle": "2024-08-02T19:18:15.241831Z",
     "shell.execute_reply": "2024-08-02T19:18:15.241195Z",
     "shell.execute_reply.started": "2024-08-02T19:18:15.207957Z"
    }
   },
   "outputs": [],
   "source": [
    "# fig, ax = plt.subplots(figsize=(4,4))\n",
    "# fig.canvas.draw()  # Need to draw the figure to define renderer\n",
    "# ax.set_title(\"AngleLabel example\")\n",
    "# # Plot two crossing lines and label each angle between them with the above\n",
    "# center = (4.5, 650)\n",
    "# p1 = [(2.5, 710), (6.0, 605)]\n",
    "# p2 = [(3.0, 275), (5.5, 900)]\n",
    "# line1, = ax.plot(*zip(*p1))\n",
    "# line2, = ax.plot(*zip(*p2))\n",
    "# point, = ax.plot(*center, marker=\"o\")\n"
   ]
  },
  {
   "cell_type": "code",
   "execution_count": 259,
   "id": "9f19bd08-45c1-4d41-9d02-a5b59d30c53c",
   "metadata": {
    "ExecuteTime": {
     "end_time": "2023-06-28T19:37:34.108730Z",
     "start_time": "2023-06-28T19:37:34.072553Z"
    },
    "editable": true,
    "execution": {
     "iopub.execute_input": "2024-08-02T19:10:23.741139Z",
     "iopub.status.busy": "2024-08-02T19:10:23.740867Z",
     "iopub.status.idle": "2024-08-02T19:10:24.222816Z",
     "shell.execute_reply": "2024-08-02T19:10:24.222024Z",
     "shell.execute_reply.started": "2024-08-02T19:10:23.741118Z"
    },
    "slideshow": {
     "slide_type": ""
    },
    "tags": []
   },
   "outputs": [
    {
     "data": {
      "text/plain": [
       "<matplotlib.legend.Legend at 0x7fb5da6ead90>"
      ]
     },
     "execution_count": 259,
     "metadata": {},
     "output_type": "execute_result"
    },
    {
     "data": {
      "image/png": "[encoded data removed]",
      "text/plain": [
       "<Figure size 1000x500 with 1 Axes>"
      ]
     },
     "metadata": {},
     "output_type": "display_data"
    }
   ],
   "source": [
    "from matplotlib import colors\n",
    "from matplotlib.ticker import PercentFormatter\n",
    "num_bins = 200\n",
    "# fig, ax = plt.subplots()\n",
    "fig = plt.figure(figsize=(10,5))\n",
    "sigma = df_train.Metadata_TPSA.std()\n",
    "mu = df_train.Metadata_TPSA.mean()\n",
    "med = df_train.Metadata_TPSA.median()\n",
    "# the histogram of the data\n",
    "# We can set the number of bins with the *bins* keyword argument.\n",
    "n, bins, patches = plt.hist(df_train.Metadata_TPSA, num_bins, density=False, range=[0, 500],)\n",
    "# p1 = [(med, 710), (6.0, 605)]\n",
    "# _ = plt.vlines(x=med, ymin=10, ymax=17000, colors='red', linestyles='-', lw=1.75, label='Single Short Line')\n",
    "_ = plt.axvline(x=med, ymin=0, ymax=.97, color='red', linestyle='-', lw=1.75, label='Single Short Line')\n",
    "_ = plt.xlabel('TPSA Value');\n",
    "_ = plt.ylabel('# Compounds');\n",
    "_ = plt.title(fr'TPSA distribution -  $\\mu={mu:.3f}$    $\\sigma={sigma:.3f}$')\n",
    "plt.legend(bbox_to_anchor=(1.04,0.5), loc=\"center left\", borderaxespad=0)\n",
    "# axs[1].hist(dist2, bins=n_bins)\n",
    "plt.show()"
   ]
  },
  {
   "cell_type": "markdown",
   "id": "a08179a7-e4d2-4425-803e-1f78943b3aaf",
   "metadata": {
    "editable": true,
    "jp-MarkdownHeadingCollapsed": true,
    "slideshow": {
     "slide_type": ""
    },
    "tags": []
   },
   "source": [
    "## Stratified CV data splits"
   ]
  },
  {
   "cell_type": "code",
   "execution_count": 260,
   "id": "36185b9f-f76e-4556-a736-7a97ac07659f",
   "metadata": {
    "execution": {
     "iopub.execute_input": "2024-08-02T19:12:20.623736Z",
     "iopub.status.busy": "2024-08-02T19:12:20.623234Z",
     "iopub.status.idle": "2024-08-02T19:12:20.661974Z",
     "shell.execute_reply": "2024-08-02T19:12:20.661237Z",
     "shell.execute_reply.started": "2024-08-02T19:12:20.623693Z"
    }
   },
   "outputs": [],
   "source": [
    "def visualize_groups(classes, groups, name):\n",
    "    # Visualize dataset groups\n",
    "    fig, ax = plt.subplots(figsize=(10,5))\n",
    "    ax.scatter(\n",
    "        range(len(groups)),\n",
    "        [0.5] * len(groups),\n",
    "        c=groups,\n",
    "        marker=\"_\",\n",
    "        lw=50,\n",
    "        cmap=cmap_data,\n",
    "    )\n",
    "    ax.scatter(\n",
    "        range(len(groups)),\n",
    "        [3.5] * len(groups),\n",
    "        c=classes,\n",
    "        marker=\"_\",\n",
    "        lw=50,\n",
    "        cmap=cmap_data,\n",
    "    )\n",
    "    ax.set(\n",
    "        ylim=[-1, 5],\n",
    "        yticks=[0.5, 3.5],\n",
    "        yticklabels=[\"Data\\ngroup\", \"Data\\nclass\"],\n",
    "        xlabel=\"Sample index\",\n",
    "    )"
   ]
  },
  {
   "cell_type": "code",
   "execution_count": 261,
   "id": "f532d16b-50f2-486d-a2b8-22e960f6007a",
   "metadata": {
    "execution": {
     "iopub.execute_input": "2024-08-02T19:12:20.975622Z",
     "iopub.status.busy": "2024-08-02T19:12:20.975197Z",
     "iopub.status.idle": "2024-08-02T19:12:21.013984Z",
     "shell.execute_reply": "2024-08-02T19:12:21.013243Z",
     "shell.execute_reply.started": "2024-08-02T19:12:20.975584Z"
    }
   },
   "outputs": [],
   "source": [
    "def plot_cv_indices(cv, X, y, group, ax, n_splits, lw=10):\n",
    "    \"\"\"Create a sample plot for indices of a cross-validation object.\"\"\"\n",
    "    use_groups = \"Group\" in type(cv).__name__\n",
    "    groups = group if use_groups else None\n",
    "    # Generate the training/testing visualizations for each CV split\n",
    "    for ii, (tr, tt) in enumerate(cv.split(X=X, y=y, groups=groups)):\n",
    "        # Fill in indices with the training/test groups\n",
    "        indices = np.array([np.nan] * len(X))\n",
    "        indices[tt] = 1\n",
    "        indices[tr] = 0\n",
    "\n",
    "        # Visualize the results\n",
    "        ax.scatter(\n",
    "            range(len(indices)),\n",
    "            [ii + 0.5] * len(indices),\n",
    "            c=indices,\n",
    "            marker=\"_\",\n",
    "            lw=lw,\n",
    "            cmap=cmap_cv,\n",
    "            vmin=-0.2,\n",
    "            vmax=1.2,\n",
    "        )\n",
    "\n",
    "    # Plot the data classes and groups at the end\n",
    "    ax.scatter(\n",
    "        range(len(X)), [ii + 1.5] * len(X), c=y, marker=\"_\", lw=lw, cmap=cmap_data\n",
    "    )\n",
    "\n",
    "    ax.scatter(\n",
    "        range(len(X)), [ii + 2.5] * len(X), c=group, marker=\"_\", lw=lw, cmap=cmap_data\n",
    "    )\n",
    "\n",
    "    # Formatting\n",
    "    yticklabels = list(range(n_splits)) + [\"class\", \"group\"]\n",
    "    ax.set(\n",
    "        yticks=np.arange(n_splits + 2) + 0.5,\n",
    "        yticklabels=yticklabels,\n",
    "        xlabel=\"Sample index\",\n",
    "        ylabel=\"CV iteration\",\n",
    "        ylim=[n_splits + 2.2, -0.2],\n",
    "        xlim=[0, 100],\n",
    "    )\n",
    "    ax.set_title(\"{}\".format(type(cv).__name__), fontsize=15)\n",
    "    return ax"
   ]
  },
  {
   "cell_type": "code",
   "execution_count": null,
   "id": "d6f3f078-8b33-4acc-b639-6daac6d9d519",
   "metadata": {
    "execution": {
     "iopub.execute_input": "2024-08-01T20:37:00.702630Z",
     "iopub.status.busy": "2024-08-01T20:37:00.702069Z",
     "iopub.status.idle": "2024-08-01T20:37:00.746490Z",
     "shell.execute_reply": "2024-08-01T20:37:00.745822Z",
     "shell.execute_reply.started": "2024-08-01T20:37:00.702589Z"
    }
   },
   "outputs": [],
   "source": [
    "import matplotlib.pyplot as plt\n",
    "import numpy as np\n",
    "from matplotlib.patches import Patch\n"
   ]
  },
  {
   "cell_type": "code",
   "execution_count": null,
   "id": "f1165a3b-5756-443f-ad46-bf316c34929e",
   "metadata": {
    "execution": {
     "iopub.execute_input": "2024-08-01T20:37:00.702630Z",
     "iopub.status.busy": "2024-08-01T20:37:00.702069Z",
     "iopub.status.idle": "2024-08-01T20:37:00.746490Z",
     "shell.execute_reply": "2024-08-01T20:37:00.745822Z",
     "shell.execute_reply.started": "2024-08-01T20:37:00.702589Z"
    }
   },
   "outputs": [],
   "source": [
    "rng = np.random.RandomState(1338)\n",
    "cmap_data = plt.cm.Paired\n",
    "cmap_cv = plt.cm.coolwarm\n",
    "n_splits = 4\n",
    "\n",
    "# Generate the class/group data\n",
    "# n_points = 100\n",
    "# X = rng.randn(100, 10)\n",
    "\n",
    "# percentiles_classes = [0.1, 0.3, 0.6]\n",
    "# y = np.hstack([[ii] * int(100 * perc) for ii, perc in enumerate(percentiles_classes)])"
   ]
  },
  {
   "cell_type": "code",
   "execution_count": null,
   "id": "94dd8391-cbf3-4468-9aa2-d311c7f83bd2",
   "metadata": {
    "execution": {
     "iopub.execute_input": "2024-08-01T20:37:00.702630Z",
     "iopub.status.busy": "2024-08-01T20:37:00.702069Z",
     "iopub.status.idle": "2024-08-01T20:37:00.746490Z",
     "shell.execute_reply": "2024-08-01T20:37:00.745822Z",
     "shell.execute_reply.started": "2024-08-01T20:37:00.702589Z"
    }
   },
   "outputs": [],
   "source": [
    "# Generate uneven groups\n",
    "\n",
    "# group_prior = rng.dirichlet([2] * 10)\n",
    "# group_prior.sum()\n",
    "# group_prior\n",
    "\n",
    "# groups = np.repeat(np.arange(10), rng.multinomial(100, group_prior))\n",
    "# groups.shape\n",
    "# groups"
   ]
  },
  {
   "cell_type": "code",
   "execution_count": null,
   "id": "0be667cf-b73b-49d9-8f93-028feb33dc07",
   "metadata": {
    "execution": {
     "iopub.execute_input": "2024-08-01T20:37:00.702630Z",
     "iopub.status.busy": "2024-08-01T20:37:00.702069Z",
     "iopub.status.idle": "2024-08-01T20:37:00.746490Z",
     "shell.execute_reply": "2024-08-01T20:37:00.745822Z",
     "shell.execute_reply.started": "2024-08-01T20:37:00.702589Z"
    }
   },
   "outputs": [],
   "source": [
    "groups = np.repeat(0, train_X.shape[0])\n",
    "groups.shape"
   ]
  },
  {
   "cell_type": "code",
   "execution_count": 84,
   "id": "a3cc3e15-7328-43d7-87b0-e662e89f8995",
   "metadata": {
    "execution": {
     "iopub.execute_input": "2024-08-01T20:39:00.214016Z",
     "iopub.status.busy": "2024-08-01T20:39:00.213534Z",
     "iopub.status.idle": "2024-08-01T20:39:17.703513Z",
     "shell.execute_reply": "2024-08-01T20:39:17.702174Z",
     "shell.execute_reply.started": "2024-08-01T20:39:00.213981Z"
    }
   },
   "outputs": [
    {
     "data": {
      "image/png": "[encoded data removed]",
      "text/plain": [
       "<Figure size 1000x500 with 1 Axes>"
      ]
     },
     "metadata": {},
     "output_type": "display_data"
    }
   ],
   "source": [
    "visualize_groups(train_y, groups, \"no groups\")"
   ]
  },
  {
   "cell_type": "code",
   "execution_count": 88,
   "id": "f27b44ef-5b62-4008-8e90-fcd97dca2186",
   "metadata": {
    "execution": {
     "iopub.execute_input": "2024-08-01T20:42:20.513960Z",
     "iopub.status.busy": "2024-08-01T20:42:20.513311Z",
     "iopub.status.idle": "2024-08-01T20:42:20.563347Z",
     "shell.execute_reply": "2024-08-01T20:42:20.562557Z",
     "shell.execute_reply.started": "2024-08-01T20:42:20.513913Z"
    }
   },
   "outputs": [],
   "source": [
    "n_splits = 5\n",
    "groups = None"
   ]
  },
  {
   "cell_type": "code",
   "execution_count": 89,
   "id": "0cc5f1e4-9fbf-4c51-a82a-ee2c870850aa",
   "metadata": {
    "execution": {
     "iopub.execute_input": "2024-08-01T20:42:22.118077Z",
     "iopub.status.busy": "2024-08-01T20:42:22.117570Z",
     "iopub.status.idle": "2024-08-01T20:42:40.626608Z",
     "shell.execute_reply": "2024-08-01T20:42:40.625579Z",
     "shell.execute_reply.started": "2024-08-01T20:42:22.118037Z"
    }
   },
   "outputs": [
    {
     "name": "stderr",
     "output_type": "stream",
     "text": [
      "/tmp/ipykernel_4107164/1298143750.py:29: UserWarning: No data for colormapping provided via 'c'. Parameters 'cmap' will be ignored\n",
      "  ax.scatter(\n"
     ]
    },
    {
     "data": {
      "text/plain": [
       "<Axes: title={'center': 'KFold'}, xlabel='Sample index', ylabel='CV iteration'>"
      ]
     },
     "execution_count": 89,
     "metadata": {},
     "output_type": "execute_result"
    },
    {
     "data": {
      "image/png": "[encoded data removed]",
      "text/plain": [
       "<Figure size 640x480 with 1 Axes>"
      ]
     },
     "metadata": {},
     "output_type": "display_data"
    }
   ],
   "source": [
    "fig, ax = plt.subplots()\n",
    "cv = KFold(n_splits)\n",
    "plot_cv_indices(cv, train_X, train_y, groups, ax, n_splits)"
   ]
  },
  {
   "cell_type": "markdown",
   "id": "431caa87-8ebb-496e-a35c-bee422a9aeee",
   "metadata": {},
   "source": [
    "## Create balanced datasets"
   ]
  },
  {
   "cell_type": "code",
   "execution_count": 635,
   "id": "b979ba88-3eb5-4da5-a718-3cebca95260b",
   "metadata": {
    "execution": {
     "iopub.execute_input": "2024-08-05T19:07:37.952565Z",
     "iopub.status.busy": "2024-08-05T19:07:37.952226Z",
     "iopub.status.idle": "2024-08-05T19:07:42.982772Z",
     "shell.execute_reply": "2024-08-05T19:07:42.981691Z",
     "shell.execute_reply.started": "2024-08-05T19:07:37.952542Z"
    }
   },
   "outputs": [
    {
     "name": "stdout",
     "output_type": "stream",
     "text": [
      "\n",
      " Take 12388 samples from total of 12388 negative training samples\n",
      " Take 12388 samples from total of 91612 negative training samples\n",
      "\n",
      " Balanced Dataset: # pos samples: 37164    # Neg samples: 37164  Total len: 74328\n",
      "\n",
      " X :  Min: -27.6719    Max: 23.7271   Mean: 0.0016  Std: 1.0157\n",
      " y :  Min: 0.0000    Max: 1.0000   Mean: 0.5000  Std: 0.5000\n",
      "\n",
      " Take 12388 samples from total of 12388 negative training samples\n",
      " Take 24776 samples from total of 91612 negative training samples\n",
      "\n",
      " Balanced Dataset: # pos samples: 37164    # Neg samples: 74328  Total len: 111492\n",
      "\n",
      " X :  Min: -27.3326    Max: 26.3826   Mean: 0.0014  Std: 1.0076\n",
      " y :  Min: 0.0000    Max: 1.0000   Mean: 0.3333  Std: 0.4714\n"
     ]
    }
   ],
   "source": [
    "bal_train_X, bal_train_y = balance_datasets(train_X, train_y, ratio = 1)\n",
    "bal_train_X_2, bal_train_y_2 = balance_datasets(train_X, train_y, ratio = 2)"
   ]
  },
  {
   "cell_type": "code",
   "execution_count": 636,
   "id": "216225bd-9951-42ee-9223-e4230c525a3a",
   "metadata": {
    "execution": {
     "iopub.execute_input": "2024-08-05T19:07:48.795533Z",
     "iopub.status.busy": "2024-08-05T19:07:48.795065Z",
     "iopub.status.idle": "2024-08-05T19:07:48.920041Z",
     "shell.execute_reply": "2024-08-05T19:07:48.919101Z",
     "shell.execute_reply.started": "2024-08-05T19:07:48.795500Z"
    }
   },
   "outputs": [
    {
     "name": "stdout",
     "output_type": "stream",
     "text": [
      "\n",
      " Take 1388 samples from total of 1388 negative training samples\n",
      " Take 1388 samples from total of 10126 negative training samples\n",
      "\n",
      " Balanced Dataset: # pos samples: 4164    # Neg samples: 4164  Total len: 8328\n",
      "\n",
      " X :  Min: -16.9431    Max: 19.0416   Mean: 0.0030  Std: 1.0028\n",
      " y :  Min: 0.0000    Max: 1.0000   Mean: 0.5000  Std: 0.5000\n",
      "\n",
      " Take 1388 samples from total of 1388 negative training samples\n",
      " Take 2776 samples from total of 10126 negative training samples\n",
      "\n",
      " Balanced Dataset: # pos samples: 4164    # Neg samples: 8328  Total len: 12492\n",
      "\n",
      " X :  Min: -18.7677    Max: 20.9524   Mean: 0.0015  Std: 0.9780\n",
      " y :  Min: 0.0000    Max: 1.0000   Mean: 0.3333  Std: 0.4714\n"
     ]
    }
   ],
   "source": [
    "bal_test_X, bal_test_y = balance_datasets(test_X, test_y, ratio = 1)\n",
    "bal_test_X_2, bal_test_y_2 = balance_datasets(test_X, test_y, ratio = 2)"
   ]
  },
  {
   "cell_type": "markdown",
   "id": "59413831-c2c4-4ede-b74b-78698df67581",
   "metadata": {
    "jp-MarkdownHeadingCollapsed": true
   },
   "source": [
    "# Model definitions"
   ]
  },
  {
   "cell_type": "markdown",
   "id": "a4e83fa5-51bd-4cde-a54f-60afe9ac85e9",
   "metadata": {
    "heading_collapsed": true,
    "hidden": true
   },
   "source": [
    "# **[SVM](https://scikit-learn.org/stable/auto_examples/svm/plot_rbf_parameters.html)**"
   ]
  },
  {
   "cell_type": "markdown",
   "id": "bfe55ba7-fae4-40e8-83d6-66c507af2bc5",
   "metadata": {
    "hidden": true
   },
   "source": [
    "Intuitively, the `gamma` parameter defines how far the influence of a single training example reaches, with low values meaning ‘far’ and high values meaning ‘close’. The `gamma`parameters can be seen as the inverse of the radius of influence of samples selected by the model as support vectors.\n",
    "\n",
    "The `C`parameter trades off correct classification of training examples against maximization of the decision function’s margin. For larger values of `C`, a smaller margin will be accepted if the decision function is better at classifying all training points correctly. A lower C will encourage a larger margin, therefore a simpler decision function, at the cost of training accuracy. In other words`C` behaves as a regularization parameter in the SVM."
   ]
  },
  {
   "cell_type": "code",
   "execution_count": 626,
   "id": "72437f1e-8a87-47f7-84d7-91e88c95c5ed",
   "metadata": {
    "execution": {
     "iopub.execute_input": "2024-08-05T19:03:47.488689Z",
     "iopub.status.busy": "2024-08-05T19:03:47.488366Z",
     "iopub.status.idle": "2024-08-05T19:03:47.522359Z",
     "shell.execute_reply": "2024-08-05T19:03:47.521638Z",
     "shell.execute_reply.started": "2024-08-05T19:03:47.488664Z"
    }
   },
   "outputs": [],
   "source": [
    "svc = SVC(random_state =42, max_iter = 10000, tol = 1e-5, cache_size = 400, class_weight='balanced')"
   ]
  },
  {
   "cell_type": "markdown",
   "id": "201b5407-d5b0-4005-a284-1f9b7b21a2ea",
   "metadata": {},
   "source": [
    "## Parameters"
   ]
  },
  {
   "cell_type": "code",
   "execution_count": 637,
   "id": "e5b7bfd8-9107-4292-ac32-f9660c955d0c",
   "metadata": {
    "ExecuteTime": {
     "end_time": "2023-04-28T12:47:12.210936Z",
     "start_time": "2023-04-28T12:47:12.197029Z"
    },
    "editable": true,
    "execution": {
     "iopub.execute_input": "2024-08-05T19:07:56.179821Z",
     "iopub.status.busy": "2024-08-05T19:07:56.179506Z",
     "iopub.status.idle": "2024-08-05T19:07:56.211309Z",
     "shell.execute_reply": "2024-08-05T19:07:56.210715Z",
     "shell.execute_reply.started": "2024-08-05T19:07:56.179799Z"
    },
    "hidden": true,
    "slideshow": {
     "slide_type": ""
    },
    "tags": []
   },
   "outputs": [],
   "source": [
    "svm_grid_parameters_0 = [\n",
    "  {'C': [0.01, 0.1, 1, 10, 100, 200, 400, 1000], 'kernel': ['linear']},\n",
    "  {'C': [0.01, 0.1, 1, 10, 100, 200, 400, 1000], 'kernel': ['rbf']},\n",
    "  {'C': [0.01, 0.1, 1, 10, 100, 200, 400, 1000], 'gamma': [100,10,1,1e-1,1e-2, 1e-3], 'kernel': ['rbf']},\n",
    " ]\n",
    "\n",
    "# svm_grid_parameters_1 = {'C': [1, 10], 'gamma': [1,1e-1], 'kernel' : ['linear'] }\n",
    "# svm_grid_parameters_1 = {'C': [1], 'gamma': [1e-1], 'kernel' : ['linear'] }\n",
    "\n",
    "# svm_grid_parameters_2 = {'C': [1, 10], 'kernel': ['linear']}\n",
    "# svm_grid_parameters_2 = {'C': [1, 10], 'gamma': [1,1e-1], 'kernel': ['rbf']}\n",
    "\n",
    "# svm_grid_parameters_3 = { 'C': [1, 10, 100],'gamma': [10,1,1e-1,1e-2]}\n",
    "# svm_grid_parameters_3 = { 'C': [1, 10, 100], 'kernel': ['rbf']}\n",
    "\n",
    "# svm_grid_parameters_3 = { 'C': [10], 'kernel': ['rbf'],'gamma': [  1, 1.0e-1, 1.0e-2, ]}\n",
    "# svm_grid_parameters_3 = { 'C': [10], 'kernel': ['rbf'],'gamma': [  1.0e-3, 1.0e-4, 1.0e-5, ]}\n",
    "svm_grid_parameters_3 = { 'C': [10], 'kernel': ['rbf'],'gamma': [1.0e-6, 1.0e-7, 1.0e-8,]}\n",
    "svm_grid_parameters_3 = {'C': [0.1, 1, 10, 100, 200], 'kernel': ['rbf']}\n",
    "svm_grid_parameters_3 = {'C': [100, 500, 1000], 'kernel': ['rbf']}"
   ]
  },
  {
   "cell_type": "markdown",
   "id": "9a763530-f0c5-4cca-a3e6-8dd2ee3506b4",
   "metadata": {},
   "source": [
    "## Training"
   ]
  },
  {
   "cell_type": "code",
   "execution_count": 628,
   "id": "e9f7534a-bdcc-43c3-9928-cc2f4717bb92",
   "metadata": {
    "execution": {
     "iopub.execute_input": "2024-08-05T19:04:55.074275Z",
     "iopub.status.busy": "2024-08-05T19:04:55.073816Z",
     "iopub.status.idle": "2024-08-05T19:04:55.119411Z",
     "shell.execute_reply": "2024-08-05T19:04:55.118411Z",
     "shell.execute_reply.started": "2024-08-05T19:04:55.074226Z"
    }
   },
   "outputs": [],
   "source": [
    "PARM_SET = svm_grid_parameters_3"
   ]
  },
  {
   "cell_type": "code",
   "execution_count": 638,
   "id": "a7d0b54e-2e5e-4523-bdc2-ef88c81618da",
   "metadata": {
    "execution": {
     "iopub.execute_input": "2024-08-05T19:09:14.029499Z",
     "iopub.status.busy": "2024-08-05T19:09:14.028978Z",
     "iopub.status.idle": "2024-08-05T19:09:14.095321Z",
     "shell.execute_reply": "2024-08-05T19:09:14.094563Z",
     "shell.execute_reply.started": "2024-08-05T19:09:14.029450Z"
    }
   },
   "outputs": [],
   "source": [
    "NUM_JOBS = 5\n",
    "X_DATA = bal_train_X\n",
    "Y_DATA = bal_train_y"
   ]
  },
  {
   "cell_type": "code",
   "execution_count": 639,
   "id": "ab9b8ab5-bc2b-4062-a47a-d9fb82b0dbd7",
   "metadata": {
    "editable": true,
    "execution": {
     "iopub.execute_input": "2024-08-05T19:09:18.362608Z",
     "iopub.status.busy": "2024-08-05T19:09:18.362086Z",
     "iopub.status.idle": "2024-08-05T19:30:00.529521Z",
     "shell.execute_reply": "2024-08-05T19:30:00.528425Z",
     "shell.execute_reply.started": "2024-08-05T19:09:18.362566Z"
    },
    "scrolled": true,
    "slideshow": {
     "slide_type": ""
    },
    "tags": []
   },
   "outputs": [
    {
     "name": "stdout",
     "output_type": "stream",
     "text": [
      " verbose is 3\n",
      " params_grid: {'C': [100, 500, 1000], 'kernel': ['rbf']}\n",
      " scoring    : roc_auc     cv:  4   n_jobs: 5   gridsearch: True    n_iter: 20   refit: True   \n",
      "Fitting 4 folds for each of 3 candidates, totalling 12 fits\n"
     ]
    },
    {
     "name": "stderr",
     "output_type": "stream",
     "text": [
      "/home/kevin/miniforge3/envs/ptsnnl/lib/python3.11/site-packages/sklearn/svm/_base.py:297: ConvergenceWarning: Solver terminated early (max_iter=10000).  Consider pre-processing your data with StandardScaler or MinMaxScaler.\n",
      "  warnings.warn(\n",
      "/home/kevin/miniforge3/envs/ptsnnl/lib/python3.11/site-packages/sklearn/svm/_base.py:297: ConvergenceWarning: Solver terminated early (max_iter=10000).  Consider pre-processing your data with StandardScaler or MinMaxScaler.\n",
      "  warnings.warn(\n",
      "/home/kevin/miniforge3/envs/ptsnnl/lib/python3.11/site-packages/sklearn/svm/_base.py:297: ConvergenceWarning: Solver terminated early (max_iter=10000).  Consider pre-processing your data with StandardScaler or MinMaxScaler.\n",
      "  warnings.warn(\n",
      "/home/kevin/miniforge3/envs/ptsnnl/lib/python3.11/site-packages/sklearn/svm/_base.py:297: ConvergenceWarning: Solver terminated early (max_iter=10000).  Consider pre-processing your data with StandardScaler or MinMaxScaler.\n",
      "  warnings.warn(\n",
      "/home/kevin/miniforge3/envs/ptsnnl/lib/python3.11/site-packages/sklearn/svm/_base.py:297: ConvergenceWarning: Solver terminated early (max_iter=10000).  Consider pre-processing your data with StandardScaler or MinMaxScaler.\n",
      "  warnings.warn(\n",
      "/home/kevin/miniforge3/envs/ptsnnl/lib/python3.11/site-packages/sklearn/svm/_base.py:297: ConvergenceWarning: Solver terminated early (max_iter=10000).  Consider pre-processing your data with StandardScaler or MinMaxScaler.\n",
      "  warnings.warn(\n",
      "/home/kevin/miniforge3/envs/ptsnnl/lib/python3.11/site-packages/sklearn/svm/_base.py:297: ConvergenceWarning: Solver terminated early (max_iter=10000).  Consider pre-processing your data with StandardScaler or MinMaxScaler.\n",
      "  warnings.warn(\n",
      "/home/kevin/miniforge3/envs/ptsnnl/lib/python3.11/site-packages/sklearn/svm/_base.py:297: ConvergenceWarning: Solver terminated early (max_iter=10000).  Consider pre-processing your data with StandardScaler or MinMaxScaler.\n",
      "  warnings.warn(\n",
      "/home/kevin/miniforge3/envs/ptsnnl/lib/python3.11/site-packages/sklearn/svm/_base.py:297: ConvergenceWarning: Solver terminated early (max_iter=10000).  Consider pre-processing your data with StandardScaler or MinMaxScaler.\n",
      "  warnings.warn(\n",
      "/home/kevin/miniforge3/envs/ptsnnl/lib/python3.11/site-packages/sklearn/svm/_base.py:297: ConvergenceWarning: Solver terminated early (max_iter=10000).  Consider pre-processing your data with StandardScaler or MinMaxScaler.\n",
      "  warnings.warn(\n",
      "/home/kevin/miniforge3/envs/ptsnnl/lib/python3.11/site-packages/sklearn/svm/_base.py:297: ConvergenceWarning: Solver terminated early (max_iter=10000).  Consider pre-processing your data with StandardScaler or MinMaxScaler.\n",
      "  warnings.warn(\n",
      "/home/kevin/miniforge3/envs/ptsnnl/lib/python3.11/site-packages/sklearn/svm/_base.py:297: ConvergenceWarning: Solver terminated early (max_iter=10000).  Consider pre-processing your data with StandardScaler or MinMaxScaler.\n",
      "  warnings.warn(\n"
     ]
    },
    {
     "name": "stdout",
     "output_type": "stream",
     "text": [
      "[CV 4/4] END .................C=100, kernel=rbf;, score=0.542 total time= 4.9min\n",
      "[CV 3/4] END .................C=500, kernel=rbf;, score=0.541 total time= 5.8min\n",
      "[CV 1/4] END .................C=100, kernel=rbf;, score=0.545 total time= 5.0min\n",
      "[CV 1/4] END ................C=1000, kernel=rbf;, score=0.529 total time= 5.8min\n",
      "[CV 1/4] END .................C=500, kernel=rbf;, score=0.529 total time= 5.1min\n",
      "[CV 2/4] END ................C=1000, kernel=rbf;, score=0.533 total time= 5.9min\n",
      "[CV 3/4] END .................C=100, kernel=rbf;, score=0.528 total time= 4.7min\n",
      "[CV 2/4] END .................C=500, kernel=rbf;, score=0.533 total time= 5.8min\n",
      "[CV 3/4] END ................C=1000, kernel=rbf;, score=0.541 total time= 4.6min\n",
      "[CV 2/4] END .................C=100, kernel=rbf;, score=0.529 total time= 4.9min\n",
      "[CV 4/4] END .................C=500, kernel=rbf;, score=0.522 total time= 5.7min\n",
      "[CV 4/4] END ................C=1000, kernel=rbf;, score=0.522 total time= 4.7min\n",
      "Best parameters set found on development set: {'C': 100, 'kernel': 'rbf'}\n",
      "Best score: 0.5360226792539031\n",
      "Grid scores on development set:\n",
      "\n",
      "0.53602 (+/-0.015) for {'C': 100, 'kernel': 'rbf'}\n",
      "0.53115 (+/-0.014) for {'C': 500, 'kernel': 'rbf'}\n",
      "0.53115 (+/-0.014) for {'C': 1000, 'kernel': 'rbf'}\n"
     ]
    },
    {
     "name": "stderr",
     "output_type": "stream",
     "text": [
      "/home/kevin/miniforge3/envs/ptsnnl/lib/python3.11/site-packages/sklearn/svm/_base.py:297: ConvergenceWarning: Solver terminated early (max_iter=10000).  Consider pre-processing your data with StandardScaler or MinMaxScaler.\n",
      "  warnings.warn(\n"
     ]
    }
   ],
   "source": [
    "vt_svm = model_selection(svc, PARM_SET, X_DATA, Y_DATA, scoring = 'roc_auc', cv=4, GridSearch = True, n_jobs=NUM_JOBS,  verbose = 3)"
   ]
  },
  {
   "cell_type": "code",
   "execution_count": null,
   "id": "90b091be-ce97-4c42-855f-4947fe2520f1",
   "metadata": {
    "editable": true,
    "slideshow": {
     "slide_type": ""
    },
    "tags": []
   },
   "outputs": [],
   "source": [
    "# Best parameters set found on development set: {'C': 10, 'kernel': 'rbf'}\n",
    "# Best score: 0.5378465362878473\n",
    "# Grid scores on development set:\n",
    "\n",
    "# 0.50235 (+/-0.031) for {'C': 1, 'kernel': 'rbf'}\n",
    "# 0.53181 (+/-0.010) for {'C': 5, 'kernel': 'rbf'}\n",
    "### 0.53785 (+/-0.008) for {'C': 10, 'kernel': 'rbf'}\n",
    "### 0.53836 (+/-0.009) for {'C': 10, 'kernel': 'rbf'}\n",
    "# 0.52558 (+/-0.010) for {'C': 15, 'kernel': 'rbf'}\n",
    "# 0.51977 (+/-0.027) for {'C': 20, 'kernel': 'rbf'}\n",
    "# 0.52734 (+/-0.028) for {'C': 25, 'kernel': 'rbf'}\n",
    "# 0.53087 (+/-0.011) for {'C': 30, 'kernel': 'rbf'}\n",
    "### 0.53761 (+/-0.014) for {'C': 30, 'kernel': 'rbf'}\n",
    "# 0.53227 (+/-0.014) for {'C': 50, 'kernel': 'rbf'}\n",
    "# 0.51949 (+/-0.011) for {'C': 70, 'kernel': 'rbf'}\n",
    "# 0.53222 (+/-0.006) for {'C': 90, 'kernel': 'rbf'}\n",
    "# 0.52077 (+/-0.022) for {'C': 100, 'kernel': 'rbf'}\n",
    "\n",
    "# Best parameters set found on development set: {'C': 10, 'gamma': 0.01, 'kernel': 'rbf'}\n",
    "# Best score: 0.5263117855594914\n",
    "# Grid scores on development set:\n",
    "\n",
    "# 0.48997 (+/-0.005) for {'C': 10, 'gamma': 1, 'kernel': 'rbf'}\n",
    "# 0.48441 (+/-0.002) for {'C': 10, 'gamma': 0.1, 'kernel': 'rbf'}\n",
    "# 0.52631 (+/-0.016) for {'C': 10, 'gamma': 0.01, 'kernel': 'rbf'}\n",
    "# 0.52721 (+/-0.007) for {'C': 10, 'gamma': 0.001, 'kernel': 'rbf'}\n",
    "# 0.53590 (+/-0.010) for {'C': 10, 'gamma': 0.0001, 'kernel': 'rbf'}\n",
    "# 0.54687 (+/-0.011) for {'C': 10, 'gamma': 1e-05, 'kernel': 'rbf'}\n",
    "# 0.54837 (+/-0.010) for {'C': 10, 'gamma': 1e-06, 'kernel': 'rbf'}\n",
    "### 0.54872 (+/-0.011) for {'C': 10, 'gamma': 1e-07, 'kernel': 'rbf'}\n",
    "# 0.54796 (+/-0.012) for {'C': 10, 'gamma': 1e-08, 'kernel': 'rbf'}\n",
    " \n"
   ]
  },
  {
   "cell_type": "code",
   "execution_count": 640,
   "id": "08505a74-aa44-4596-a18f-bd32fe849021",
   "metadata": {
    "editable": true,
    "execution": {
     "iopub.execute_input": "2024-08-05T20:55:04.712770Z",
     "iopub.status.busy": "2024-08-05T20:55:04.712203Z",
     "iopub.status.idle": "2024-08-05T20:55:04.806832Z",
     "shell.execute_reply": "2024-08-05T20:55:04.806152Z",
     "shell.execute_reply.started": "2024-08-05T20:55:04.712729Z"
    },
    "scrolled": true,
    "slideshow": {
     "slide_type": ""
    },
    "tags": []
   },
   "outputs": [
    {
     "data": {
      "text/html": [
       "<style>#sk-container-id-17 {\n",
       "  /* Definition of color scheme common for light and dark mode */\n",
       "  --sklearn-color-text: black;\n",
       "  --sklearn-color-line: gray;\n",
       "  /* Definition of color scheme for unfitted estimators */\n",
       "  --sklearn-color-unfitted-level-0: #fff5e6;\n",
       "  --sklearn-color-unfitted-level-1: #f6e4d2;\n",
       "  --sklearn-color-unfitted-level-2: #ffe0b3;\n",
       "  --sklearn-color-unfitted-level-3: chocolate;\n",
       "  /* Definition of color scheme for fitted estimators */\n",
       "  --sklearn-color-fitted-level-0: #f0f8ff;\n",
       "  --sklearn-color-fitted-level-1: #d4ebff;\n",
       "  --sklearn-color-fitted-level-2: #b3dbfd;\n",
       "  --sklearn-color-fitted-level-3: cornflowerblue;\n",
       "\n",
       "  /* Specific color for light theme */\n",
       "  --sklearn-color-text-on-default-background: var(--sg-text-color, var(--theme-code-foreground, var(--jp-content-font-color1, black)));\n",
       "  --sklearn-color-background: var(--sg-background-color, var(--theme-background, var(--jp-layout-color0, white)));\n",
       "  --sklearn-color-border-box: var(--sg-text-color, var(--theme-code-foreground, var(--jp-content-font-color1, black)));\n",
       "  --sklearn-color-icon: #696969;\n",
       "\n",
       "  @media (prefers-color-scheme: dark) {\n",
       "    /* Redefinition of color scheme for dark theme */\n",
       "    --sklearn-color-text-on-default-background: var(--sg-text-color, var(--theme-code-foreground, var(--jp-content-font-color1, white)));\n",
       "    --sklearn-color-background: var(--sg-background-color, var(--theme-background, var(--jp-layout-color0, #111)));\n",
       "    --sklearn-color-border-box: var(--sg-text-color, var(--theme-code-foreground, var(--jp-content-font-color1, white)));\n",
       "    --sklearn-color-icon: #878787;\n",
       "  }\n",
       "}\n",
       "\n",
       "#sk-container-id-17 {\n",
       "  color: var(--sklearn-color-text);\n",
       "}\n",
       "\n",
       "#sk-container-id-17 pre {\n",
       "  padding: 0;\n",
       "}\n",
       "\n",
       "#sk-container-id-17 input.sk-hidden--visually {\n",
       "  border: 0;\n",
       "  clip: rect(1px 1px 1px 1px);\n",
       "  clip: rect(1px, 1px, 1px, 1px);\n",
       "  height: 1px;\n",
       "  margin: -1px;\n",
       "  overflow: hidden;\n",
       "  padding: 0;\n",
       "  position: absolute;\n",
       "  width: 1px;\n",
       "}\n",
       "\n",
       "#sk-container-id-17 div.sk-dashed-wrapped {\n",
       "  border: 1px dashed var(--sklearn-color-line);\n",
       "  margin: 0 0.4em 0.5em 0.4em;\n",
       "  box-sizing: border-box;\n",
       "  padding-bottom: 0.4em;\n",
       "  background-color: var(--sklearn-color-background);\n",
       "}\n",
       "\n",
       "#sk-container-id-17 div.sk-container {\n",
       "  /* jupyter's `normalize.less` sets `[hidden] { display: none; }`\n",
       "     but bootstrap.min.css set `[hidden] { display: none !important; }`\n",
       "     so we also need the `!important` here to be able to override the\n",
       "     default hidden behavior on the sphinx rendered scikit-learn.org.\n",
       "     See: https://github.com/scikit-learn/scikit-learn/issues/21755 */\n",
       "  display: inline-block !important;\n",
       "  position: relative;\n",
       "}\n",
       "\n",
       "#sk-container-id-17 div.sk-text-repr-fallback {\n",
       "  display: none;\n",
       "}\n",
       "\n",
       "div.sk-parallel-item,\n",
       "div.sk-serial,\n",
       "div.sk-item {\n",
       "  /* draw centered vertical line to link estimators */\n",
       "  background-image: linear-gradient(var(--sklearn-color-text-on-default-background), var(--sklearn-color-text-on-default-background));\n",
       "  background-size: 2px 100%;\n",
       "  background-repeat: no-repeat;\n",
       "  background-position: center center;\n",
       "}\n",
       "\n",
       "/* Parallel-specific style estimator block */\n",
       "\n",
       "#sk-container-id-17 div.sk-parallel-item::after {\n",
       "  content: \"\";\n",
       "  width: 100%;\n",
       "  border-bottom: 2px solid var(--sklearn-color-text-on-default-background);\n",
       "  flex-grow: 1;\n",
       "}\n",
       "\n",
       "#sk-container-id-17 div.sk-parallel {\n",
       "  display: flex;\n",
       "  align-items: stretch;\n",
       "  justify-content: center;\n",
       "  background-color: var(--sklearn-color-background);\n",
       "  position: relative;\n",
       "}\n",
       "\n",
       "#sk-container-id-17 div.sk-parallel-item {\n",
       "  display: flex;\n",
       "  flex-direction: column;\n",
       "}\n",
       "\n",
       "#sk-container-id-17 div.sk-parallel-item:first-child::after {\n",
       "  align-self: flex-end;\n",
       "  width: 50%;\n",
       "}\n",
       "\n",
       "#sk-container-id-17 div.sk-parallel-item:last-child::after {\n",
       "  align-self: flex-start;\n",
       "  width: 50%;\n",
       "}\n",
       "\n",
       "#sk-container-id-17 div.sk-parallel-item:only-child::after {\n",
       "  width: 0;\n",
       "}\n",
       "\n",
       "/* Serial-specific style estimator block */\n",
       "\n",
       "#sk-container-id-17 div.sk-serial {\n",
       "  display: flex;\n",
       "  flex-direction: column;\n",
       "  align-items: center;\n",
       "  background-color: var(--sklearn-color-background);\n",
       "  padding-right: 1em;\n",
       "  padding-left: 1em;\n",
       "}\n",
       "\n",
       "\n",
       "/* Toggleable style: style used for estimator/Pipeline/ColumnTransformer box that is\n",
       "clickable and can be expanded/collapsed.\n",
       "- Pipeline and ColumnTransformer use this feature and define the default style\n",
       "- Estimators will overwrite some part of the style using the `sk-estimator` class\n",
       "*/\n",
       "\n",
       "/* Pipeline and ColumnTransformer style (default) */\n",
       "\n",
       "#sk-container-id-17 div.sk-toggleable {\n",
       "  /* Default theme specific background. It is overwritten whether we have a\n",
       "  specific estimator or a Pipeline/ColumnTransformer */\n",
       "  background-color: var(--sklearn-color-background);\n",
       "}\n",
       "\n",
       "/* Toggleable label */\n",
       "#sk-container-id-17 label.sk-toggleable__label {\n",
       "  cursor: pointer;\n",
       "  display: block;\n",
       "  width: 100%;\n",
       "  margin-bottom: 0;\n",
       "  padding: 0.5em;\n",
       "  box-sizing: border-box;\n",
       "  text-align: center;\n",
       "}\n",
       "\n",
       "#sk-container-id-17 label.sk-toggleable__label-arrow:before {\n",
       "  /* Arrow on the left of the label */\n",
       "  content: \"▸\";\n",
       "  float: left;\n",
       "  margin-right: 0.25em;\n",
       "  color: var(--sklearn-color-icon);\n",
       "}\n",
       "\n",
       "#sk-container-id-17 label.sk-toggleable__label-arrow:hover:before {\n",
       "  color: var(--sklearn-color-text);\n",
       "}\n",
       "\n",
       "/* Toggleable content - dropdown */\n",
       "\n",
       "#sk-container-id-17 div.sk-toggleable__content {\n",
       "  max-height: 0;\n",
       "  max-width: 0;\n",
       "  overflow: hidden;\n",
       "  text-align: left;\n",
       "  /* unfitted */\n",
       "  background-color: var(--sklearn-color-unfitted-level-0);\n",
       "}\n",
       "\n",
       "#sk-container-id-17 div.sk-toggleable__content.fitted {\n",
       "  /* fitted */\n",
       "  background-color: var(--sklearn-color-fitted-level-0);\n",
       "}\n",
       "\n",
       "#sk-container-id-17 div.sk-toggleable__content pre {\n",
       "  margin: 0.2em;\n",
       "  border-radius: 0.25em;\n",
       "  color: var(--sklearn-color-text);\n",
       "  /* unfitted */\n",
       "  background-color: var(--sklearn-color-unfitted-level-0);\n",
       "}\n",
       "\n",
       "#sk-container-id-17 div.sk-toggleable__content.fitted pre {\n",
       "  /* unfitted */\n",
       "  background-color: var(--sklearn-color-fitted-level-0);\n",
       "}\n",
       "\n",
       "#sk-container-id-17 input.sk-toggleable__control:checked~div.sk-toggleable__content {\n",
       "  /* Expand drop-down */\n",
       "  max-height: 200px;\n",
       "  max-width: 100%;\n",
       "  overflow: auto;\n",
       "}\n",
       "\n",
       "#sk-container-id-17 input.sk-toggleable__control:checked~label.sk-toggleable__label-arrow:before {\n",
       "  content: \"▾\";\n",
       "}\n",
       "\n",
       "/* Pipeline/ColumnTransformer-specific style */\n",
       "\n",
       "#sk-container-id-17 div.sk-label input.sk-toggleable__control:checked~label.sk-toggleable__label {\n",
       "  color: var(--sklearn-color-text);\n",
       "  background-color: var(--sklearn-color-unfitted-level-2);\n",
       "}\n",
       "\n",
       "#sk-container-id-17 div.sk-label.fitted input.sk-toggleable__control:checked~label.sk-toggleable__label {\n",
       "  background-color: var(--sklearn-color-fitted-level-2);\n",
       "}\n",
       "\n",
       "/* Estimator-specific style */\n",
       "\n",
       "/* Colorize estimator box */\n",
       "#sk-container-id-17 div.sk-estimator input.sk-toggleable__control:checked~label.sk-toggleable__label {\n",
       "  /* unfitted */\n",
       "  background-color: var(--sklearn-color-unfitted-level-2);\n",
       "}\n",
       "\n",
       "#sk-container-id-17 div.sk-estimator.fitted input.sk-toggleable__control:checked~label.sk-toggleable__label {\n",
       "  /* fitted */\n",
       "  background-color: var(--sklearn-color-fitted-level-2);\n",
       "}\n",
       "\n",
       "#sk-container-id-17 div.sk-label label.sk-toggleable__label,\n",
       "#sk-container-id-17 div.sk-label label {\n",
       "  /* The background is the default theme color */\n",
       "  color: var(--sklearn-color-text-on-default-background);\n",
       "}\n",
       "\n",
       "/* On hover, darken the color of the background */\n",
       "#sk-container-id-17 div.sk-label:hover label.sk-toggleable__label {\n",
       "  color: var(--sklearn-color-text);\n",
       "  background-color: var(--sklearn-color-unfitted-level-2);\n",
       "}\n",
       "\n",
       "/* Label box, darken color on hover, fitted */\n",
       "#sk-container-id-17 div.sk-label.fitted:hover label.sk-toggleable__label.fitted {\n",
       "  color: var(--sklearn-color-text);\n",
       "  background-color: var(--sklearn-color-fitted-level-2);\n",
       "}\n",
       "\n",
       "/* Estimator label */\n",
       "\n",
       "#sk-container-id-17 div.sk-label label {\n",
       "  font-family: monospace;\n",
       "  font-weight: bold;\n",
       "  display: inline-block;\n",
       "  line-height: 1.2em;\n",
       "}\n",
       "\n",
       "#sk-container-id-17 div.sk-label-container {\n",
       "  text-align: center;\n",
       "}\n",
       "\n",
       "/* Estimator-specific */\n",
       "#sk-container-id-17 div.sk-estimator {\n",
       "  font-family: monospace;\n",
       "  border: 1px dotted var(--sklearn-color-border-box);\n",
       "  border-radius: 0.25em;\n",
       "  box-sizing: border-box;\n",
       "  margin-bottom: 0.5em;\n",
       "  /* unfitted */\n",
       "  background-color: var(--sklearn-color-unfitted-level-0);\n",
       "}\n",
       "\n",
       "#sk-container-id-17 div.sk-estimator.fitted {\n",
       "  /* fitted */\n",
       "  background-color: var(--sklearn-color-fitted-level-0);\n",
       "}\n",
       "\n",
       "/* on hover */\n",
       "#sk-container-id-17 div.sk-estimator:hover {\n",
       "  /* unfitted */\n",
       "  background-color: var(--sklearn-color-unfitted-level-2);\n",
       "}\n",
       "\n",
       "#sk-container-id-17 div.sk-estimator.fitted:hover {\n",
       "  /* fitted */\n",
       "  background-color: var(--sklearn-color-fitted-level-2);\n",
       "}\n",
       "\n",
       "/* Specification for estimator info (e.g. \"i\" and \"?\") */\n",
       "\n",
       "/* Common style for \"i\" and \"?\" */\n",
       "\n",
       ".sk-estimator-doc-link,\n",
       "a:link.sk-estimator-doc-link,\n",
       "a:visited.sk-estimator-doc-link {\n",
       "  float: right;\n",
       "  font-size: smaller;\n",
       "  line-height: 1em;\n",
       "  font-family: monospace;\n",
       "  background-color: var(--sklearn-color-background);\n",
       "  border-radius: 1em;\n",
       "  height: 1em;\n",
       "  width: 1em;\n",
       "  text-decoration: none !important;\n",
       "  margin-left: 1ex;\n",
       "  /* unfitted */\n",
       "  border: var(--sklearn-color-unfitted-level-1) 1pt solid;\n",
       "  color: var(--sklearn-color-unfitted-level-1);\n",
       "}\n",
       "\n",
       ".sk-estimator-doc-link.fitted,\n",
       "a:link.sk-estimator-doc-link.fitted,\n",
       "a:visited.sk-estimator-doc-link.fitted {\n",
       "  /* fitted */\n",
       "  border: var(--sklearn-color-fitted-level-1) 1pt solid;\n",
       "  color: var(--sklearn-color-fitted-level-1);\n",
       "}\n",
       "\n",
       "/* On hover */\n",
       "div.sk-estimator:hover .sk-estimator-doc-link:hover,\n",
       ".sk-estimator-doc-link:hover,\n",
       "div.sk-label-container:hover .sk-estimator-doc-link:hover,\n",
       ".sk-estimator-doc-link:hover {\n",
       "  /* unfitted */\n",
       "  background-color: var(--sklearn-color-unfitted-level-3);\n",
       "  color: var(--sklearn-color-background);\n",
       "  text-decoration: none;\n",
       "}\n",
       "\n",
       "div.sk-estimator.fitted:hover .sk-estimator-doc-link.fitted:hover,\n",
       ".sk-estimator-doc-link.fitted:hover,\n",
       "div.sk-label-container:hover .sk-estimator-doc-link.fitted:hover,\n",
       ".sk-estimator-doc-link.fitted:hover {\n",
       "  /* fitted */\n",
       "  background-color: var(--sklearn-color-fitted-level-3);\n",
       "  color: var(--sklearn-color-background);\n",
       "  text-decoration: none;\n",
       "}\n",
       "\n",
       "/* Span, style for the box shown on hovering the info icon */\n",
       ".sk-estimator-doc-link span {\n",
       "  display: none;\n",
       "  z-index: 9999;\n",
       "  position: relative;\n",
       "  font-weight: normal;\n",
       "  right: .2ex;\n",
       "  padding: .5ex;\n",
       "  margin: .5ex;\n",
       "  width: min-content;\n",
       "  min-width: 20ex;\n",
       "  max-width: 50ex;\n",
       "  color: var(--sklearn-color-text);\n",
       "  box-shadow: 2pt 2pt 4pt #999;\n",
       "  /* unfitted */\n",
       "  background: var(--sklearn-color-unfitted-level-0);\n",
       "  border: .5pt solid var(--sklearn-color-unfitted-level-3);\n",
       "}\n",
       "\n",
       ".sk-estimator-doc-link.fitted span {\n",
       "  /* fitted */\n",
       "  background: var(--sklearn-color-fitted-level-0);\n",
       "  border: var(--sklearn-color-fitted-level-3);\n",
       "}\n",
       "\n",
       ".sk-estimator-doc-link:hover span {\n",
       "  display: block;\n",
       "}\n",
       "\n",
       "/* \"?\"-specific style due to the `<a>` HTML tag */\n",
       "\n",
       "#sk-container-id-17 a.estimator_doc_link {\n",
       "  float: right;\n",
       "  font-size: 1rem;\n",
       "  line-height: 1em;\n",
       "  font-family: monospace;\n",
       "  background-color: var(--sklearn-color-background);\n",
       "  border-radius: 1rem;\n",
       "  height: 1rem;\n",
       "  width: 1rem;\n",
       "  text-decoration: none;\n",
       "  /* unfitted */\n",
       "  color: var(--sklearn-color-unfitted-level-1);\n",
       "  border: var(--sklearn-color-unfitted-level-1) 1pt solid;\n",
       "}\n",
       "\n",
       "#sk-container-id-17 a.estimator_doc_link.fitted {\n",
       "  /* fitted */\n",
       "  border: var(--sklearn-color-fitted-level-1) 1pt solid;\n",
       "  color: var(--sklearn-color-fitted-level-1);\n",
       "}\n",
       "\n",
       "/* On hover */\n",
       "#sk-container-id-17 a.estimator_doc_link:hover {\n",
       "  /* unfitted */\n",
       "  background-color: var(--sklearn-color-unfitted-level-3);\n",
       "  color: var(--sklearn-color-background);\n",
       "  text-decoration: none;\n",
       "}\n",
       "\n",
       "#sk-container-id-17 a.estimator_doc_link.fitted:hover {\n",
       "  /* fitted */\n",
       "  background-color: var(--sklearn-color-fitted-level-3);\n",
       "}\n",
       "</style><div id=\"sk-container-id-17\" class=\"sk-top-container\"><div class=\"sk-text-repr-fallback\"><pre>GridSearchCV(cv=4,\n",
       "             estimator=SVC(cache_size=400, class_weight=&#x27;balanced&#x27;,\n",
       "                           max_iter=10000, random_state=42, tol=1e-05),\n",
       "             n_jobs=5, param_grid={&#x27;C&#x27;: [100, 500, 1000], &#x27;kernel&#x27;: [&#x27;rbf&#x27;]},\n",
       "             pre_dispatch=5, scoring=&#x27;roc_auc&#x27;, verbose=3)</pre><b>In a Jupyter environment, please rerun this cell to show the HTML representation or trust the notebook. <br />On GitHub, the HTML representation is unable to render, please try loading this page with nbviewer.org.</b></div><div class=\"sk-container\" hidden><div class=\"sk-item sk-dashed-wrapped\"><div class=\"sk-label-container\"><div class=\"sk-label fitted sk-toggleable\"><input class=\"sk-toggleable__control sk-hidden--visually\" id=\"sk-estimator-id-37\" type=\"checkbox\" ><label for=\"sk-estimator-id-37\" class=\"sk-toggleable__label fitted sk-toggleable__label-arrow fitted\">&nbsp;&nbsp;GridSearchCV<a class=\"sk-estimator-doc-link fitted\" rel=\"noreferrer\" target=\"_blank\" href=\"https://scikit-learn.org/1.4/modules/generated/sklearn.model_selection.GridSearchCV.html\">?<span>Documentation for GridSearchCV</span></a><span class=\"sk-estimator-doc-link fitted\">i<span>Fitted</span></span></label><div class=\"sk-toggleable__content fitted\"><pre>GridSearchCV(cv=4,\n",
       "             estimator=SVC(cache_size=400, class_weight=&#x27;balanced&#x27;,\n",
       "                           max_iter=10000, random_state=42, tol=1e-05),\n",
       "             n_jobs=5, param_grid={&#x27;C&#x27;: [100, 500, 1000], &#x27;kernel&#x27;: [&#x27;rbf&#x27;]},\n",
       "             pre_dispatch=5, scoring=&#x27;roc_auc&#x27;, verbose=3)</pre></div> </div></div><div class=\"sk-parallel\"><div class=\"sk-parallel-item\"><div class=\"sk-item\"><div class=\"sk-label-container\"><div class=\"sk-label fitted sk-toggleable\"><input class=\"sk-toggleable__control sk-hidden--visually\" id=\"sk-estimator-id-38\" type=\"checkbox\" ><label for=\"sk-estimator-id-38\" class=\"sk-toggleable__label fitted sk-toggleable__label-arrow fitted\">estimator: SVC</label><div class=\"sk-toggleable__content fitted\"><pre>SVC(cache_size=400, class_weight=&#x27;balanced&#x27;, max_iter=10000, random_state=42,\n",
       "    tol=1e-05)</pre></div> </div></div><div class=\"sk-serial\"><div class=\"sk-item\"><div class=\"sk-estimator fitted sk-toggleable\"><input class=\"sk-toggleable__control sk-hidden--visually\" id=\"sk-estimator-id-39\" type=\"checkbox\" ><label for=\"sk-estimator-id-39\" class=\"sk-toggleable__label fitted sk-toggleable__label-arrow fitted\">&nbsp;SVC<a class=\"sk-estimator-doc-link fitted\" rel=\"noreferrer\" target=\"_blank\" href=\"https://scikit-learn.org/1.4/modules/generated/sklearn.svm.SVC.html\">?<span>Documentation for SVC</span></a></label><div class=\"sk-toggleable__content fitted\"><pre>SVC(cache_size=400, class_weight=&#x27;balanced&#x27;, max_iter=10000, random_state=42,\n",
       "    tol=1e-05)</pre></div> </div></div></div></div></div></div></div></div></div>"
      ],
      "text/plain": [
       "GridSearchCV(cv=4,\n",
       "             estimator=SVC(cache_size=400, class_weight='balanced',\n",
       "                           max_iter=10000, random_state=42, tol=1e-05),\n",
       "             n_jobs=5, param_grid={'C': [100, 500, 1000], 'kernel': ['rbf']},\n",
       "             pre_dispatch=5, scoring='roc_auc', verbose=3)"
      ]
     },
     "execution_count": 640,
     "metadata": {},
     "output_type": "execute_result"
    },
    {
     "data": {
      "text/html": [
       "<style>#sk-container-id-18 {\n",
       "  /* Definition of color scheme common for light and dark mode */\n",
       "  --sklearn-color-text: black;\n",
       "  --sklearn-color-line: gray;\n",
       "  /* Definition of color scheme for unfitted estimators */\n",
       "  --sklearn-color-unfitted-level-0: #fff5e6;\n",
       "  --sklearn-color-unfitted-level-1: #f6e4d2;\n",
       "  --sklearn-color-unfitted-level-2: #ffe0b3;\n",
       "  --sklearn-color-unfitted-level-3: chocolate;\n",
       "  /* Definition of color scheme for fitted estimators */\n",
       "  --sklearn-color-fitted-level-0: #f0f8ff;\n",
       "  --sklearn-color-fitted-level-1: #d4ebff;\n",
       "  --sklearn-color-fitted-level-2: #b3dbfd;\n",
       "  --sklearn-color-fitted-level-3: cornflowerblue;\n",
       "\n",
       "  /* Specific color for light theme */\n",
       "  --sklearn-color-text-on-default-background: var(--sg-text-color, var(--theme-code-foreground, var(--jp-content-font-color1, black)));\n",
       "  --sklearn-color-background: var(--sg-background-color, var(--theme-background, var(--jp-layout-color0, white)));\n",
       "  --sklearn-color-border-box: var(--sg-text-color, var(--theme-code-foreground, var(--jp-content-font-color1, black)));\n",
       "  --sklearn-color-icon: #696969;\n",
       "\n",
       "  @media (prefers-color-scheme: dark) {\n",
       "    /* Redefinition of color scheme for dark theme */\n",
       "    --sklearn-color-text-on-default-background: var(--sg-text-color, var(--theme-code-foreground, var(--jp-content-font-color1, white)));\n",
       "    --sklearn-color-background: var(--sg-background-color, var(--theme-background, var(--jp-layout-color0, #111)));\n",
       "    --sklearn-color-border-box: var(--sg-text-color, var(--theme-code-foreground, var(--jp-content-font-color1, white)));\n",
       "    --sklearn-color-icon: #878787;\n",
       "  }\n",
       "}\n",
       "\n",
       "#sk-container-id-18 {\n",
       "  color: var(--sklearn-color-text);\n",
       "}\n",
       "\n",
       "#sk-container-id-18 pre {\n",
       "  padding: 0;\n",
       "}\n",
       "\n",
       "#sk-container-id-18 input.sk-hidden--visually {\n",
       "  border: 0;\n",
       "  clip: rect(1px 1px 1px 1px);\n",
       "  clip: rect(1px, 1px, 1px, 1px);\n",
       "  height: 1px;\n",
       "  margin: -1px;\n",
       "  overflow: hidden;\n",
       "  padding: 0;\n",
       "  position: absolute;\n",
       "  width: 1px;\n",
       "}\n",
       "\n",
       "#sk-container-id-18 div.sk-dashed-wrapped {\n",
       "  border: 1px dashed var(--sklearn-color-line);\n",
       "  margin: 0 0.4em 0.5em 0.4em;\n",
       "  box-sizing: border-box;\n",
       "  padding-bottom: 0.4em;\n",
       "  background-color: var(--sklearn-color-background);\n",
       "}\n",
       "\n",
       "#sk-container-id-18 div.sk-container {\n",
       "  /* jupyter's `normalize.less` sets `[hidden] { display: none; }`\n",
       "     but bootstrap.min.css set `[hidden] { display: none !important; }`\n",
       "     so we also need the `!important` here to be able to override the\n",
       "     default hidden behavior on the sphinx rendered scikit-learn.org.\n",
       "     See: https://github.com/scikit-learn/scikit-learn/issues/21755 */\n",
       "  display: inline-block !important;\n",
       "  position: relative;\n",
       "}\n",
       "\n",
       "#sk-container-id-18 div.sk-text-repr-fallback {\n",
       "  display: none;\n",
       "}\n",
       "\n",
       "div.sk-parallel-item,\n",
       "div.sk-serial,\n",
       "div.sk-item {\n",
       "  /* draw centered vertical line to link estimators */\n",
       "  background-image: linear-gradient(var(--sklearn-color-text-on-default-background), var(--sklearn-color-text-on-default-background));\n",
       "  background-size: 2px 100%;\n",
       "  background-repeat: no-repeat;\n",
       "  background-position: center center;\n",
       "}\n",
       "\n",
       "/* Parallel-specific style estimator block */\n",
       "\n",
       "#sk-container-id-18 div.sk-parallel-item::after {\n",
       "  content: \"\";\n",
       "  width: 100%;\n",
       "  border-bottom: 2px solid var(--sklearn-color-text-on-default-background);\n",
       "  flex-grow: 1;\n",
       "}\n",
       "\n",
       "#sk-container-id-18 div.sk-parallel {\n",
       "  display: flex;\n",
       "  align-items: stretch;\n",
       "  justify-content: center;\n",
       "  background-color: var(--sklearn-color-background);\n",
       "  position: relative;\n",
       "}\n",
       "\n",
       "#sk-container-id-18 div.sk-parallel-item {\n",
       "  display: flex;\n",
       "  flex-direction: column;\n",
       "}\n",
       "\n",
       "#sk-container-id-18 div.sk-parallel-item:first-child::after {\n",
       "  align-self: flex-end;\n",
       "  width: 50%;\n",
       "}\n",
       "\n",
       "#sk-container-id-18 div.sk-parallel-item:last-child::after {\n",
       "  align-self: flex-start;\n",
       "  width: 50%;\n",
       "}\n",
       "\n",
       "#sk-container-id-18 div.sk-parallel-item:only-child::after {\n",
       "  width: 0;\n",
       "}\n",
       "\n",
       "/* Serial-specific style estimator block */\n",
       "\n",
       "#sk-container-id-18 div.sk-serial {\n",
       "  display: flex;\n",
       "  flex-direction: column;\n",
       "  align-items: center;\n",
       "  background-color: var(--sklearn-color-background);\n",
       "  padding-right: 1em;\n",
       "  padding-left: 1em;\n",
       "}\n",
       "\n",
       "\n",
       "/* Toggleable style: style used for estimator/Pipeline/ColumnTransformer box that is\n",
       "clickable and can be expanded/collapsed.\n",
       "- Pipeline and ColumnTransformer use this feature and define the default style\n",
       "- Estimators will overwrite some part of the style using the `sk-estimator` class\n",
       "*/\n",
       "\n",
       "/* Pipeline and ColumnTransformer style (default) */\n",
       "\n",
       "#sk-container-id-18 div.sk-toggleable {\n",
       "  /* Default theme specific background. It is overwritten whether we have a\n",
       "  specific estimator or a Pipeline/ColumnTransformer */\n",
       "  background-color: var(--sklearn-color-background);\n",
       "}\n",
       "\n",
       "/* Toggleable label */\n",
       "#sk-container-id-18 label.sk-toggleable__label {\n",
       "  cursor: pointer;\n",
       "  display: block;\n",
       "  width: 100%;\n",
       "  margin-bottom: 0;\n",
       "  padding: 0.5em;\n",
       "  box-sizing: border-box;\n",
       "  text-align: center;\n",
       "}\n",
       "\n",
       "#sk-container-id-18 label.sk-toggleable__label-arrow:before {\n",
       "  /* Arrow on the left of the label */\n",
       "  content: \"▸\";\n",
       "  float: left;\n",
       "  margin-right: 0.25em;\n",
       "  color: var(--sklearn-color-icon);\n",
       "}\n",
       "\n",
       "#sk-container-id-18 label.sk-toggleable__label-arrow:hover:before {\n",
       "  color: var(--sklearn-color-text);\n",
       "}\n",
       "\n",
       "/* Toggleable content - dropdown */\n",
       "\n",
       "#sk-container-id-18 div.sk-toggleable__content {\n",
       "  max-height: 0;\n",
       "  max-width: 0;\n",
       "  overflow: hidden;\n",
       "  text-align: left;\n",
       "  /* unfitted */\n",
       "  background-color: var(--sklearn-color-unfitted-level-0);\n",
       "}\n",
       "\n",
       "#sk-container-id-18 div.sk-toggleable__content.fitted {\n",
       "  /* fitted */\n",
       "  background-color: var(--sklearn-color-fitted-level-0);\n",
       "}\n",
       "\n",
       "#sk-container-id-18 div.sk-toggleable__content pre {\n",
       "  margin: 0.2em;\n",
       "  border-radius: 0.25em;\n",
       "  color: var(--sklearn-color-text);\n",
       "  /* unfitted */\n",
       "  background-color: var(--sklearn-color-unfitted-level-0);\n",
       "}\n",
       "\n",
       "#sk-container-id-18 div.sk-toggleable__content.fitted pre {\n",
       "  /* unfitted */\n",
       "  background-color: var(--sklearn-color-fitted-level-0);\n",
       "}\n",
       "\n",
       "#sk-container-id-18 input.sk-toggleable__control:checked~div.sk-toggleable__content {\n",
       "  /* Expand drop-down */\n",
       "  max-height: 200px;\n",
       "  max-width: 100%;\n",
       "  overflow: auto;\n",
       "}\n",
       "\n",
       "#sk-container-id-18 input.sk-toggleable__control:checked~label.sk-toggleable__label-arrow:before {\n",
       "  content: \"▾\";\n",
       "}\n",
       "\n",
       "/* Pipeline/ColumnTransformer-specific style */\n",
       "\n",
       "#sk-container-id-18 div.sk-label input.sk-toggleable__control:checked~label.sk-toggleable__label {\n",
       "  color: var(--sklearn-color-text);\n",
       "  background-color: var(--sklearn-color-unfitted-level-2);\n",
       "}\n",
       "\n",
       "#sk-container-id-18 div.sk-label.fitted input.sk-toggleable__control:checked~label.sk-toggleable__label {\n",
       "  background-color: var(--sklearn-color-fitted-level-2);\n",
       "}\n",
       "\n",
       "/* Estimator-specific style */\n",
       "\n",
       "/* Colorize estimator box */\n",
       "#sk-container-id-18 div.sk-estimator input.sk-toggleable__control:checked~label.sk-toggleable__label {\n",
       "  /* unfitted */\n",
       "  background-color: var(--sklearn-color-unfitted-level-2);\n",
       "}\n",
       "\n",
       "#sk-container-id-18 div.sk-estimator.fitted input.sk-toggleable__control:checked~label.sk-toggleable__label {\n",
       "  /* fitted */\n",
       "  background-color: var(--sklearn-color-fitted-level-2);\n",
       "}\n",
       "\n",
       "#sk-container-id-18 div.sk-label label.sk-toggleable__label,\n",
       "#sk-container-id-18 div.sk-label label {\n",
       "  /* The background is the default theme color */\n",
       "  color: var(--sklearn-color-text-on-default-background);\n",
       "}\n",
       "\n",
       "/* On hover, darken the color of the background */\n",
       "#sk-container-id-18 div.sk-label:hover label.sk-toggleable__label {\n",
       "  color: var(--sklearn-color-text);\n",
       "  background-color: var(--sklearn-color-unfitted-level-2);\n",
       "}\n",
       "\n",
       "/* Label box, darken color on hover, fitted */\n",
       "#sk-container-id-18 div.sk-label.fitted:hover label.sk-toggleable__label.fitted {\n",
       "  color: var(--sklearn-color-text);\n",
       "  background-color: var(--sklearn-color-fitted-level-2);\n",
       "}\n",
       "\n",
       "/* Estimator label */\n",
       "\n",
       "#sk-container-id-18 div.sk-label label {\n",
       "  font-family: monospace;\n",
       "  font-weight: bold;\n",
       "  display: inline-block;\n",
       "  line-height: 1.2em;\n",
       "}\n",
       "\n",
       "#sk-container-id-18 div.sk-label-container {\n",
       "  text-align: center;\n",
       "}\n",
       "\n",
       "/* Estimator-specific */\n",
       "#sk-container-id-18 div.sk-estimator {\n",
       "  font-family: monospace;\n",
       "  border: 1px dotted var(--sklearn-color-border-box);\n",
       "  border-radius: 0.25em;\n",
       "  box-sizing: border-box;\n",
       "  margin-bottom: 0.5em;\n",
       "  /* unfitted */\n",
       "  background-color: var(--sklearn-color-unfitted-level-0);\n",
       "}\n",
       "\n",
       "#sk-container-id-18 div.sk-estimator.fitted {\n",
       "  /* fitted */\n",
       "  background-color: var(--sklearn-color-fitted-level-0);\n",
       "}\n",
       "\n",
       "/* on hover */\n",
       "#sk-container-id-18 div.sk-estimator:hover {\n",
       "  /* unfitted */\n",
       "  background-color: var(--sklearn-color-unfitted-level-2);\n",
       "}\n",
       "\n",
       "#sk-container-id-18 div.sk-estimator.fitted:hover {\n",
       "  /* fitted */\n",
       "  background-color: var(--sklearn-color-fitted-level-2);\n",
       "}\n",
       "\n",
       "/* Specification for estimator info (e.g. \"i\" and \"?\") */\n",
       "\n",
       "/* Common style for \"i\" and \"?\" */\n",
       "\n",
       ".sk-estimator-doc-link,\n",
       "a:link.sk-estimator-doc-link,\n",
       "a:visited.sk-estimator-doc-link {\n",
       "  float: right;\n",
       "  font-size: smaller;\n",
       "  line-height: 1em;\n",
       "  font-family: monospace;\n",
       "  background-color: var(--sklearn-color-background);\n",
       "  border-radius: 1em;\n",
       "  height: 1em;\n",
       "  width: 1em;\n",
       "  text-decoration: none !important;\n",
       "  margin-left: 1ex;\n",
       "  /* unfitted */\n",
       "  border: var(--sklearn-color-unfitted-level-1) 1pt solid;\n",
       "  color: var(--sklearn-color-unfitted-level-1);\n",
       "}\n",
       "\n",
       ".sk-estimator-doc-link.fitted,\n",
       "a:link.sk-estimator-doc-link.fitted,\n",
       "a:visited.sk-estimator-doc-link.fitted {\n",
       "  /* fitted */\n",
       "  border: var(--sklearn-color-fitted-level-1) 1pt solid;\n",
       "  color: var(--sklearn-color-fitted-level-1);\n",
       "}\n",
       "\n",
       "/* On hover */\n",
       "div.sk-estimator:hover .sk-estimator-doc-link:hover,\n",
       ".sk-estimator-doc-link:hover,\n",
       "div.sk-label-container:hover .sk-estimator-doc-link:hover,\n",
       ".sk-estimator-doc-link:hover {\n",
       "  /* unfitted */\n",
       "  background-color: var(--sklearn-color-unfitted-level-3);\n",
       "  color: var(--sklearn-color-background);\n",
       "  text-decoration: none;\n",
       "}\n",
       "\n",
       "div.sk-estimator.fitted:hover .sk-estimator-doc-link.fitted:hover,\n",
       ".sk-estimator-doc-link.fitted:hover,\n",
       "div.sk-label-container:hover .sk-estimator-doc-link.fitted:hover,\n",
       ".sk-estimator-doc-link.fitted:hover {\n",
       "  /* fitted */\n",
       "  background-color: var(--sklearn-color-fitted-level-3);\n",
       "  color: var(--sklearn-color-background);\n",
       "  text-decoration: none;\n",
       "}\n",
       "\n",
       "/* Span, style for the box shown on hovering the info icon */\n",
       ".sk-estimator-doc-link span {\n",
       "  display: none;\n",
       "  z-index: 9999;\n",
       "  position: relative;\n",
       "  font-weight: normal;\n",
       "  right: .2ex;\n",
       "  padding: .5ex;\n",
       "  margin: .5ex;\n",
       "  width: min-content;\n",
       "  min-width: 20ex;\n",
       "  max-width: 50ex;\n",
       "  color: var(--sklearn-color-text);\n",
       "  box-shadow: 2pt 2pt 4pt #999;\n",
       "  /* unfitted */\n",
       "  background: var(--sklearn-color-unfitted-level-0);\n",
       "  border: .5pt solid var(--sklearn-color-unfitted-level-3);\n",
       "}\n",
       "\n",
       ".sk-estimator-doc-link.fitted span {\n",
       "  /* fitted */\n",
       "  background: var(--sklearn-color-fitted-level-0);\n",
       "  border: var(--sklearn-color-fitted-level-3);\n",
       "}\n",
       "\n",
       ".sk-estimator-doc-link:hover span {\n",
       "  display: block;\n",
       "}\n",
       "\n",
       "/* \"?\"-specific style due to the `<a>` HTML tag */\n",
       "\n",
       "#sk-container-id-18 a.estimator_doc_link {\n",
       "  float: right;\n",
       "  font-size: 1rem;\n",
       "  line-height: 1em;\n",
       "  font-family: monospace;\n",
       "  background-color: var(--sklearn-color-background);\n",
       "  border-radius: 1rem;\n",
       "  height: 1rem;\n",
       "  width: 1rem;\n",
       "  text-decoration: none;\n",
       "  /* unfitted */\n",
       "  color: var(--sklearn-color-unfitted-level-1);\n",
       "  border: var(--sklearn-color-unfitted-level-1) 1pt solid;\n",
       "}\n",
       "\n",
       "#sk-container-id-18 a.estimator_doc_link.fitted {\n",
       "  /* fitted */\n",
       "  border: var(--sklearn-color-fitted-level-1) 1pt solid;\n",
       "  color: var(--sklearn-color-fitted-level-1);\n",
       "}\n",
       "\n",
       "/* On hover */\n",
       "#sk-container-id-18 a.estimator_doc_link:hover {\n",
       "  /* unfitted */\n",
       "  background-color: var(--sklearn-color-unfitted-level-3);\n",
       "  color: var(--sklearn-color-background);\n",
       "  text-decoration: none;\n",
       "}\n",
       "\n",
       "#sk-container-id-18 a.estimator_doc_link.fitted:hover {\n",
       "  /* fitted */\n",
       "  background-color: var(--sklearn-color-fitted-level-3);\n",
       "}\n",
       "</style><div id=\"sk-container-id-18\" class=\"sk-top-container\"><div class=\"sk-text-repr-fallback\"><pre>SVC(C=100, cache_size=400, class_weight=&#x27;balanced&#x27;, max_iter=10000,\n",
       "    random_state=42, tol=1e-05)</pre><b>In a Jupyter environment, please rerun this cell to show the HTML representation or trust the notebook. <br />On GitHub, the HTML representation is unable to render, please try loading this page with nbviewer.org.</b></div><div class=\"sk-container\" hidden><div class=\"sk-item\"><div class=\"sk-estimator fitted sk-toggleable\"><input class=\"sk-toggleable__control sk-hidden--visually\" id=\"sk-estimator-id-40\" type=\"checkbox\" checked><label for=\"sk-estimator-id-40\" class=\"sk-toggleable__label fitted sk-toggleable__label-arrow fitted\">&nbsp;&nbsp;SVC<a class=\"sk-estimator-doc-link fitted\" rel=\"noreferrer\" target=\"_blank\" href=\"https://scikit-learn.org/1.4/modules/generated/sklearn.svm.SVC.html\">?<span>Documentation for SVC</span></a><span class=\"sk-estimator-doc-link fitted\">i<span>Fitted</span></span></label><div class=\"sk-toggleable__content fitted\"><pre>SVC(C=100, cache_size=400, class_weight=&#x27;balanced&#x27;, max_iter=10000,\n",
       "    random_state=42, tol=1e-05)</pre></div> </div></div></div></div>"
      ],
      "text/plain": [
       "SVC(C=100, cache_size=400, class_weight='balanced', max_iter=10000,\n",
       "    random_state=42, tol=1e-05)"
      ]
     },
     "execution_count": 640,
     "metadata": {},
     "output_type": "execute_result"
    },
    {
     "data": {
      "text/plain": [
       "0"
      ]
     },
     "execution_count": 640,
     "metadata": {},
     "output_type": "execute_result"
    },
    {
     "data": {
      "text/plain": [
       "{'C': 100, 'kernel': 'rbf'}"
      ]
     },
     "execution_count": 640,
     "metadata": {},
     "output_type": "execute_result"
    },
    {
     "data": {
      "text/plain": [
       "0.5360226792539031"
      ]
     },
     "execution_count": 640,
     "metadata": {},
     "output_type": "execute_result"
    },
    {
     "data": {
      "text/plain": [
       "array([0, 1], dtype=uint8)"
      ]
     },
     "execution_count": 640,
     "metadata": {},
     "output_type": "execute_result"
    },
    {
     "data": {
      "text/plain": [
       "4"
      ]
     },
     "execution_count": 640,
     "metadata": {},
     "output_type": "execute_result"
    },
    {
     "data": {
      "text/plain": [
       "{'mean_fit_time': array([205.12652862, 243.32209796, 225.83543795]),\n",
       " 'std_fit_time': array([ 6.79211394, 18.80770631, 34.98232562]),\n",
       " 'mean_score_time': array([88.93056607, 91.10064435, 88.03145939]),\n",
       " 'std_score_time': array([1.21205485, 1.97996244, 3.45450594]),\n",
       " 'param_C': masked_array(data=[100, 500, 1000],\n",
       "              mask=[False, False, False],\n",
       "        fill_value='?',\n",
       "             dtype=object),\n",
       " 'param_kernel': masked_array(data=['rbf', 'rbf', 'rbf'],\n",
       "              mask=[False, False, False],\n",
       "        fill_value='?',\n",
       "             dtype=object),\n",
       " 'params': [{'C': 100, 'kernel': 'rbf'},\n",
       "  {'C': 500, 'kernel': 'rbf'},\n",
       "  {'C': 1000, 'kernel': 'rbf'}],\n",
       " 'split0_test_score': array([0.54505406, 0.52896171, 0.52896171]),\n",
       " 'split1_test_score': array([0.52928611, 0.53277688, 0.53277688]),\n",
       " 'split2_test_score': array([0.52812428, 0.5412952 , 0.5412952 ]),\n",
       " 'split3_test_score': array([0.54162626, 0.52158292, 0.52158292]),\n",
       " 'mean_test_score': array([0.53602268, 0.53115418, 0.53115418]),\n",
       " 'std_test_score': array([0.00742853, 0.00710439, 0.00710439]),\n",
       " 'rank_test_score': array([1, 2, 2], dtype=int32)}"
      ]
     },
     "execution_count": 640,
     "metadata": {},
     "output_type": "execute_result"
    },
    {
     "data": {
      "text/plain": [
       "<bound method BaseSearchCV.decision_function of GridSearchCV(cv=4,\n",
       "             estimator=SVC(cache_size=400, class_weight='balanced',\n",
       "                           max_iter=10000, random_state=42, tol=1e-05),\n",
       "             n_jobs=5, param_grid={'C': [100, 500, 1000], 'kernel': ['rbf']},\n",
       "             pre_dispatch=5, scoring='roc_auc', verbose=3)>"
      ]
     },
     "execution_count": 640,
     "metadata": {},
     "output_type": "execute_result"
    },
    {
     "data": {
      "text/plain": [
       "nan"
      ]
     },
     "execution_count": 640,
     "metadata": {},
     "output_type": "execute_result"
    },
    {
     "data": {
      "text/html": [
       "<style>#sk-container-id-19 {\n",
       "  /* Definition of color scheme common for light and dark mode */\n",
       "  --sklearn-color-text: black;\n",
       "  --sklearn-color-line: gray;\n",
       "  /* Definition of color scheme for unfitted estimators */\n",
       "  --sklearn-color-unfitted-level-0: #fff5e6;\n",
       "  --sklearn-color-unfitted-level-1: #f6e4d2;\n",
       "  --sklearn-color-unfitted-level-2: #ffe0b3;\n",
       "  --sklearn-color-unfitted-level-3: chocolate;\n",
       "  /* Definition of color scheme for fitted estimators */\n",
       "  --sklearn-color-fitted-level-0: #f0f8ff;\n",
       "  --sklearn-color-fitted-level-1: #d4ebff;\n",
       "  --sklearn-color-fitted-level-2: #b3dbfd;\n",
       "  --sklearn-color-fitted-level-3: cornflowerblue;\n",
       "\n",
       "  /* Specific color for light theme */\n",
       "  --sklearn-color-text-on-default-background: var(--sg-text-color, var(--theme-code-foreground, var(--jp-content-font-color1, black)));\n",
       "  --sklearn-color-background: var(--sg-background-color, var(--theme-background, var(--jp-layout-color0, white)));\n",
       "  --sklearn-color-border-box: var(--sg-text-color, var(--theme-code-foreground, var(--jp-content-font-color1, black)));\n",
       "  --sklearn-color-icon: #696969;\n",
       "\n",
       "  @media (prefers-color-scheme: dark) {\n",
       "    /* Redefinition of color scheme for dark theme */\n",
       "    --sklearn-color-text-on-default-background: var(--sg-text-color, var(--theme-code-foreground, var(--jp-content-font-color1, white)));\n",
       "    --sklearn-color-background: var(--sg-background-color, var(--theme-background, var(--jp-layout-color0, #111)));\n",
       "    --sklearn-color-border-box: var(--sg-text-color, var(--theme-code-foreground, var(--jp-content-font-color1, white)));\n",
       "    --sklearn-color-icon: #878787;\n",
       "  }\n",
       "}\n",
       "\n",
       "#sk-container-id-19 {\n",
       "  color: var(--sklearn-color-text);\n",
       "}\n",
       "\n",
       "#sk-container-id-19 pre {\n",
       "  padding: 0;\n",
       "}\n",
       "\n",
       "#sk-container-id-19 input.sk-hidden--visually {\n",
       "  border: 0;\n",
       "  clip: rect(1px 1px 1px 1px);\n",
       "  clip: rect(1px, 1px, 1px, 1px);\n",
       "  height: 1px;\n",
       "  margin: -1px;\n",
       "  overflow: hidden;\n",
       "  padding: 0;\n",
       "  position: absolute;\n",
       "  width: 1px;\n",
       "}\n",
       "\n",
       "#sk-container-id-19 div.sk-dashed-wrapped {\n",
       "  border: 1px dashed var(--sklearn-color-line);\n",
       "  margin: 0 0.4em 0.5em 0.4em;\n",
       "  box-sizing: border-box;\n",
       "  padding-bottom: 0.4em;\n",
       "  background-color: var(--sklearn-color-background);\n",
       "}\n",
       "\n",
       "#sk-container-id-19 div.sk-container {\n",
       "  /* jupyter's `normalize.less` sets `[hidden] { display: none; }`\n",
       "     but bootstrap.min.css set `[hidden] { display: none !important; }`\n",
       "     so we also need the `!important` here to be able to override the\n",
       "     default hidden behavior on the sphinx rendered scikit-learn.org.\n",
       "     See: https://github.com/scikit-learn/scikit-learn/issues/21755 */\n",
       "  display: inline-block !important;\n",
       "  position: relative;\n",
       "}\n",
       "\n",
       "#sk-container-id-19 div.sk-text-repr-fallback {\n",
       "  display: none;\n",
       "}\n",
       "\n",
       "div.sk-parallel-item,\n",
       "div.sk-serial,\n",
       "div.sk-item {\n",
       "  /* draw centered vertical line to link estimators */\n",
       "  background-image: linear-gradient(var(--sklearn-color-text-on-default-background), var(--sklearn-color-text-on-default-background));\n",
       "  background-size: 2px 100%;\n",
       "  background-repeat: no-repeat;\n",
       "  background-position: center center;\n",
       "}\n",
       "\n",
       "/* Parallel-specific style estimator block */\n",
       "\n",
       "#sk-container-id-19 div.sk-parallel-item::after {\n",
       "  content: \"\";\n",
       "  width: 100%;\n",
       "  border-bottom: 2px solid var(--sklearn-color-text-on-default-background);\n",
       "  flex-grow: 1;\n",
       "}\n",
       "\n",
       "#sk-container-id-19 div.sk-parallel {\n",
       "  display: flex;\n",
       "  align-items: stretch;\n",
       "  justify-content: center;\n",
       "  background-color: var(--sklearn-color-background);\n",
       "  position: relative;\n",
       "}\n",
       "\n",
       "#sk-container-id-19 div.sk-parallel-item {\n",
       "  display: flex;\n",
       "  flex-direction: column;\n",
       "}\n",
       "\n",
       "#sk-container-id-19 div.sk-parallel-item:first-child::after {\n",
       "  align-self: flex-end;\n",
       "  width: 50%;\n",
       "}\n",
       "\n",
       "#sk-container-id-19 div.sk-parallel-item:last-child::after {\n",
       "  align-self: flex-start;\n",
       "  width: 50%;\n",
       "}\n",
       "\n",
       "#sk-container-id-19 div.sk-parallel-item:only-child::after {\n",
       "  width: 0;\n",
       "}\n",
       "\n",
       "/* Serial-specific style estimator block */\n",
       "\n",
       "#sk-container-id-19 div.sk-serial {\n",
       "  display: flex;\n",
       "  flex-direction: column;\n",
       "  align-items: center;\n",
       "  background-color: var(--sklearn-color-background);\n",
       "  padding-right: 1em;\n",
       "  padding-left: 1em;\n",
       "}\n",
       "\n",
       "\n",
       "/* Toggleable style: style used for estimator/Pipeline/ColumnTransformer box that is\n",
       "clickable and can be expanded/collapsed.\n",
       "- Pipeline and ColumnTransformer use this feature and define the default style\n",
       "- Estimators will overwrite some part of the style using the `sk-estimator` class\n",
       "*/\n",
       "\n",
       "/* Pipeline and ColumnTransformer style (default) */\n",
       "\n",
       "#sk-container-id-19 div.sk-toggleable {\n",
       "  /* Default theme specific background. It is overwritten whether we have a\n",
       "  specific estimator or a Pipeline/ColumnTransformer */\n",
       "  background-color: var(--sklearn-color-background);\n",
       "}\n",
       "\n",
       "/* Toggleable label */\n",
       "#sk-container-id-19 label.sk-toggleable__label {\n",
       "  cursor: pointer;\n",
       "  display: block;\n",
       "  width: 100%;\n",
       "  margin-bottom: 0;\n",
       "  padding: 0.5em;\n",
       "  box-sizing: border-box;\n",
       "  text-align: center;\n",
       "}\n",
       "\n",
       "#sk-container-id-19 label.sk-toggleable__label-arrow:before {\n",
       "  /* Arrow on the left of the label */\n",
       "  content: \"▸\";\n",
       "  float: left;\n",
       "  margin-right: 0.25em;\n",
       "  color: var(--sklearn-color-icon);\n",
       "}\n",
       "\n",
       "#sk-container-id-19 label.sk-toggleable__label-arrow:hover:before {\n",
       "  color: var(--sklearn-color-text);\n",
       "}\n",
       "\n",
       "/* Toggleable content - dropdown */\n",
       "\n",
       "#sk-container-id-19 div.sk-toggleable__content {\n",
       "  max-height: 0;\n",
       "  max-width: 0;\n",
       "  overflow: hidden;\n",
       "  text-align: left;\n",
       "  /* unfitted */\n",
       "  background-color: var(--sklearn-color-unfitted-level-0);\n",
       "}\n",
       "\n",
       "#sk-container-id-19 div.sk-toggleable__content.fitted {\n",
       "  /* fitted */\n",
       "  background-color: var(--sklearn-color-fitted-level-0);\n",
       "}\n",
       "\n",
       "#sk-container-id-19 div.sk-toggleable__content pre {\n",
       "  margin: 0.2em;\n",
       "  border-radius: 0.25em;\n",
       "  color: var(--sklearn-color-text);\n",
       "  /* unfitted */\n",
       "  background-color: var(--sklearn-color-unfitted-level-0);\n",
       "}\n",
       "\n",
       "#sk-container-id-19 div.sk-toggleable__content.fitted pre {\n",
       "  /* unfitted */\n",
       "  background-color: var(--sklearn-color-fitted-level-0);\n",
       "}\n",
       "\n",
       "#sk-container-id-19 input.sk-toggleable__control:checked~div.sk-toggleable__content {\n",
       "  /* Expand drop-down */\n",
       "  max-height: 200px;\n",
       "  max-width: 100%;\n",
       "  overflow: auto;\n",
       "}\n",
       "\n",
       "#sk-container-id-19 input.sk-toggleable__control:checked~label.sk-toggleable__label-arrow:before {\n",
       "  content: \"▾\";\n",
       "}\n",
       "\n",
       "/* Pipeline/ColumnTransformer-specific style */\n",
       "\n",
       "#sk-container-id-19 div.sk-label input.sk-toggleable__control:checked~label.sk-toggleable__label {\n",
       "  color: var(--sklearn-color-text);\n",
       "  background-color: var(--sklearn-color-unfitted-level-2);\n",
       "}\n",
       "\n",
       "#sk-container-id-19 div.sk-label.fitted input.sk-toggleable__control:checked~label.sk-toggleable__label {\n",
       "  background-color: var(--sklearn-color-fitted-level-2);\n",
       "}\n",
       "\n",
       "/* Estimator-specific style */\n",
       "\n",
       "/* Colorize estimator box */\n",
       "#sk-container-id-19 div.sk-estimator input.sk-toggleable__control:checked~label.sk-toggleable__label {\n",
       "  /* unfitted */\n",
       "  background-color: var(--sklearn-color-unfitted-level-2);\n",
       "}\n",
       "\n",
       "#sk-container-id-19 div.sk-estimator.fitted input.sk-toggleable__control:checked~label.sk-toggleable__label {\n",
       "  /* fitted */\n",
       "  background-color: var(--sklearn-color-fitted-level-2);\n",
       "}\n",
       "\n",
       "#sk-container-id-19 div.sk-label label.sk-toggleable__label,\n",
       "#sk-container-id-19 div.sk-label label {\n",
       "  /* The background is the default theme color */\n",
       "  color: var(--sklearn-color-text-on-default-background);\n",
       "}\n",
       "\n",
       "/* On hover, darken the color of the background */\n",
       "#sk-container-id-19 div.sk-label:hover label.sk-toggleable__label {\n",
       "  color: var(--sklearn-color-text);\n",
       "  background-color: var(--sklearn-color-unfitted-level-2);\n",
       "}\n",
       "\n",
       "/* Label box, darken color on hover, fitted */\n",
       "#sk-container-id-19 div.sk-label.fitted:hover label.sk-toggleable__label.fitted {\n",
       "  color: var(--sklearn-color-text);\n",
       "  background-color: var(--sklearn-color-fitted-level-2);\n",
       "}\n",
       "\n",
       "/* Estimator label */\n",
       "\n",
       "#sk-container-id-19 div.sk-label label {\n",
       "  font-family: monospace;\n",
       "  font-weight: bold;\n",
       "  display: inline-block;\n",
       "  line-height: 1.2em;\n",
       "}\n",
       "\n",
       "#sk-container-id-19 div.sk-label-container {\n",
       "  text-align: center;\n",
       "}\n",
       "\n",
       "/* Estimator-specific */\n",
       "#sk-container-id-19 div.sk-estimator {\n",
       "  font-family: monospace;\n",
       "  border: 1px dotted var(--sklearn-color-border-box);\n",
       "  border-radius: 0.25em;\n",
       "  box-sizing: border-box;\n",
       "  margin-bottom: 0.5em;\n",
       "  /* unfitted */\n",
       "  background-color: var(--sklearn-color-unfitted-level-0);\n",
       "}\n",
       "\n",
       "#sk-container-id-19 div.sk-estimator.fitted {\n",
       "  /* fitted */\n",
       "  background-color: var(--sklearn-color-fitted-level-0);\n",
       "}\n",
       "\n",
       "/* on hover */\n",
       "#sk-container-id-19 div.sk-estimator:hover {\n",
       "  /* unfitted */\n",
       "  background-color: var(--sklearn-color-unfitted-level-2);\n",
       "}\n",
       "\n",
       "#sk-container-id-19 div.sk-estimator.fitted:hover {\n",
       "  /* fitted */\n",
       "  background-color: var(--sklearn-color-fitted-level-2);\n",
       "}\n",
       "\n",
       "/* Specification for estimator info (e.g. \"i\" and \"?\") */\n",
       "\n",
       "/* Common style for \"i\" and \"?\" */\n",
       "\n",
       ".sk-estimator-doc-link,\n",
       "a:link.sk-estimator-doc-link,\n",
       "a:visited.sk-estimator-doc-link {\n",
       "  float: right;\n",
       "  font-size: smaller;\n",
       "  line-height: 1em;\n",
       "  font-family: monospace;\n",
       "  background-color: var(--sklearn-color-background);\n",
       "  border-radius: 1em;\n",
       "  height: 1em;\n",
       "  width: 1em;\n",
       "  text-decoration: none !important;\n",
       "  margin-left: 1ex;\n",
       "  /* unfitted */\n",
       "  border: var(--sklearn-color-unfitted-level-1) 1pt solid;\n",
       "  color: var(--sklearn-color-unfitted-level-1);\n",
       "}\n",
       "\n",
       ".sk-estimator-doc-link.fitted,\n",
       "a:link.sk-estimator-doc-link.fitted,\n",
       "a:visited.sk-estimator-doc-link.fitted {\n",
       "  /* fitted */\n",
       "  border: var(--sklearn-color-fitted-level-1) 1pt solid;\n",
       "  color: var(--sklearn-color-fitted-level-1);\n",
       "}\n",
       "\n",
       "/* On hover */\n",
       "div.sk-estimator:hover .sk-estimator-doc-link:hover,\n",
       ".sk-estimator-doc-link:hover,\n",
       "div.sk-label-container:hover .sk-estimator-doc-link:hover,\n",
       ".sk-estimator-doc-link:hover {\n",
       "  /* unfitted */\n",
       "  background-color: var(--sklearn-color-unfitted-level-3);\n",
       "  color: var(--sklearn-color-background);\n",
       "  text-decoration: none;\n",
       "}\n",
       "\n",
       "div.sk-estimator.fitted:hover .sk-estimator-doc-link.fitted:hover,\n",
       ".sk-estimator-doc-link.fitted:hover,\n",
       "div.sk-label-container:hover .sk-estimator-doc-link.fitted:hover,\n",
       ".sk-estimator-doc-link.fitted:hover {\n",
       "  /* fitted */\n",
       "  background-color: var(--sklearn-color-fitted-level-3);\n",
       "  color: var(--sklearn-color-background);\n",
       "  text-decoration: none;\n",
       "}\n",
       "\n",
       "/* Span, style for the box shown on hovering the info icon */\n",
       ".sk-estimator-doc-link span {\n",
       "  display: none;\n",
       "  z-index: 9999;\n",
       "  position: relative;\n",
       "  font-weight: normal;\n",
       "  right: .2ex;\n",
       "  padding: .5ex;\n",
       "  margin: .5ex;\n",
       "  width: min-content;\n",
       "  min-width: 20ex;\n",
       "  max-width: 50ex;\n",
       "  color: var(--sklearn-color-text);\n",
       "  box-shadow: 2pt 2pt 4pt #999;\n",
       "  /* unfitted */\n",
       "  background: var(--sklearn-color-unfitted-level-0);\n",
       "  border: .5pt solid var(--sklearn-color-unfitted-level-3);\n",
       "}\n",
       "\n",
       ".sk-estimator-doc-link.fitted span {\n",
       "  /* fitted */\n",
       "  background: var(--sklearn-color-fitted-level-0);\n",
       "  border: var(--sklearn-color-fitted-level-3);\n",
       "}\n",
       "\n",
       ".sk-estimator-doc-link:hover span {\n",
       "  display: block;\n",
       "}\n",
       "\n",
       "/* \"?\"-specific style due to the `<a>` HTML tag */\n",
       "\n",
       "#sk-container-id-19 a.estimator_doc_link {\n",
       "  float: right;\n",
       "  font-size: 1rem;\n",
       "  line-height: 1em;\n",
       "  font-family: monospace;\n",
       "  background-color: var(--sklearn-color-background);\n",
       "  border-radius: 1rem;\n",
       "  height: 1rem;\n",
       "  width: 1rem;\n",
       "  text-decoration: none;\n",
       "  /* unfitted */\n",
       "  color: var(--sklearn-color-unfitted-level-1);\n",
       "  border: var(--sklearn-color-unfitted-level-1) 1pt solid;\n",
       "}\n",
       "\n",
       "#sk-container-id-19 a.estimator_doc_link.fitted {\n",
       "  /* fitted */\n",
       "  border: var(--sklearn-color-fitted-level-1) 1pt solid;\n",
       "  color: var(--sklearn-color-fitted-level-1);\n",
       "}\n",
       "\n",
       "/* On hover */\n",
       "#sk-container-id-19 a.estimator_doc_link:hover {\n",
       "  /* unfitted */\n",
       "  background-color: var(--sklearn-color-unfitted-level-3);\n",
       "  color: var(--sklearn-color-background);\n",
       "  text-decoration: none;\n",
       "}\n",
       "\n",
       "#sk-container-id-19 a.estimator_doc_link.fitted:hover {\n",
       "  /* fitted */\n",
       "  background-color: var(--sklearn-color-fitted-level-3);\n",
       "}\n",
       "</style><div id=\"sk-container-id-19\" class=\"sk-top-container\"><div class=\"sk-text-repr-fallback\"><pre>SVC(cache_size=400, class_weight=&#x27;balanced&#x27;, max_iter=10000, random_state=42,\n",
       "    tol=1e-05)</pre><b>In a Jupyter environment, please rerun this cell to show the HTML representation or trust the notebook. <br />On GitHub, the HTML representation is unable to render, please try loading this page with nbviewer.org.</b></div><div class=\"sk-container\" hidden><div class=\"sk-item\"><div class=\"sk-estimator  sk-toggleable\"><input class=\"sk-toggleable__control sk-hidden--visually\" id=\"sk-estimator-id-41\" type=\"checkbox\" checked><label for=\"sk-estimator-id-41\" class=\"sk-toggleable__label  sk-toggleable__label-arrow \">&nbsp;&nbsp;SVC<a class=\"sk-estimator-doc-link \" rel=\"noreferrer\" target=\"_blank\" href=\"https://scikit-learn.org/1.4/modules/generated/sklearn.svm.SVC.html\">?<span>Documentation for SVC</span></a><span class=\"sk-estimator-doc-link \">i<span>Not fitted</span></span></label><div class=\"sk-toggleable__content \"><pre>SVC(cache_size=400, class_weight=&#x27;balanced&#x27;, max_iter=10000, random_state=42,\n",
       "    tol=1e-05)</pre></div> </div></div></div></div>"
      ],
      "text/plain": [
       "SVC(cache_size=400, class_weight='balanced', max_iter=10000, random_state=42,\n",
       "    tol=1e-05)"
      ]
     },
     "execution_count": 640,
     "metadata": {},
     "output_type": "execute_result"
    },
    {
     "data": {
      "text/plain": [
       "<bound method BaseSearchCV.fit of GridSearchCV(cv=4,\n",
       "             estimator=SVC(cache_size=400, class_weight='balanced',\n",
       "                           max_iter=10000, random_state=42, tol=1e-05),\n",
       "             n_jobs=5, param_grid={'C': [100, 500, 1000], 'kernel': ['rbf']},\n",
       "             pre_dispatch=5, scoring='roc_auc', verbose=3)>"
      ]
     },
     "execution_count": 640,
     "metadata": {},
     "output_type": "execute_result"
    },
    {
     "data": {
      "text/plain": [
       "{'estimator': {'mapping': [{'callee': 'fit', 'caller': 'fit'}], 'router': {'fit': {'sample_weight': None}, 'score': {'sample_weight': None}}}, 'scorer': {'mapping': [{'callee': 'score', 'caller': 'score'}, {'callee': 'score', 'caller': 'fit'}], 'router': {}}, 'splitter': {'mapping': [{'callee': 'split', 'caller': 'fit'}], 'router': {}}}"
      ]
     },
     "execution_count": 640,
     "metadata": {},
     "output_type": "execute_result"
    },
    {
     "name": "stdout",
     "output_type": "stream",
     "text": [
      "----------------------------------------\n",
      "vt_svm parameters: \n",
      "----------------------------------------\n"
     ]
    },
    {
     "data": {
      "text/plain": [
       "{'cv': 4,\n",
       " 'error_score': nan,\n",
       " 'estimator__C': 1.0,\n",
       " 'estimator__break_ties': False,\n",
       " 'estimator__cache_size': 400,\n",
       " 'estimator__class_weight': 'balanced',\n",
       " 'estimator__coef0': 0.0,\n",
       " 'estimator__decision_function_shape': 'ovr',\n",
       " 'estimator__degree': 3,\n",
       " 'estimator__gamma': 'scale',\n",
       " 'estimator__kernel': 'rbf',\n",
       " 'estimator__max_iter': 10000,\n",
       " 'estimator__probability': False,\n",
       " 'estimator__random_state': 42,\n",
       " 'estimator__shrinking': True,\n",
       " 'estimator__tol': 1e-05,\n",
       " 'estimator__verbose': False,\n",
       " 'estimator': SVC(cache_size=400, class_weight='balanced', max_iter=10000, random_state=42,\n",
       "     tol=1e-05),\n",
       " 'n_jobs': 5,\n",
       " 'param_grid': {'C': [100, 500, 1000], 'kernel': ['rbf']},\n",
       " 'pre_dispatch': 5,\n",
       " 'refit': True,\n",
       " 'return_train_score': False,\n",
       " 'scoring': 'roc_auc',\n",
       " 'verbose': 3}"
      ]
     },
     "execution_count": 640,
     "metadata": {},
     "output_type": "execute_result"
    }
   ],
   "source": [
    "vt_svm\n",
    "vt_svm.best_estimator_\n",
    "vt_svm.best_index_\n",
    "vt_svm.best_params_\n",
    "vt_svm.best_score_\n",
    "vt_svm.classes_\n",
    "vt_svm.cv\n",
    "vt_svm.cv_results_\n",
    "vt_svm.decision_function\n",
    "vt_svm.error_score\n",
    "vt_svm.estimator\n",
    "vt_svm.fit\n",
    "vt_svm.get_metadata_routing()\n",
    "print('-'*40)\n",
    "print(f\"vt_svm parameters: \")\n",
    "print('-'*40)\n",
    "vt_svm.get_params()\n",
    "# vt_svm.inverse_transform"
   ]
  },
  {
   "cell_type": "code",
   "execution_count": 180,
   "id": "cc2742ae-8dc2-47ee-bf5c-7bab670e63dc",
   "metadata": {
    "editable": true,
    "execution": {
     "iopub.execute_input": "2024-08-02T18:08:28.659935Z",
     "iopub.status.busy": "2024-08-02T18:08:28.659252Z",
     "iopub.status.idle": "2024-08-02T18:08:28.713488Z",
     "shell.execute_reply": "2024-08-02T18:08:28.712511Z",
     "shell.execute_reply.started": "2024-08-02T18:08:28.659856Z"
    },
    "scrolled": true,
    "slideshow": {
     "slide_type": ""
    },
    "tags": []
   },
   "outputs": [],
   "source": [
    "# vt_svm.multimetric_\n",
    "# vt_svm.n_features_in_\n",
    "# vt_svm.n_jobs\n",
    "# vt_svm.n_splits_\n",
    "# vt_svm.param_grid\n",
    "# vt_svm.pre_dispatch\n",
    "# vt_svm.predict\n",
    "# vt_svm.predict_log_proba\n",
    "# vt_svm.predict_proba\n",
    "# vt_svm.refit\n",
    "# vt_svm.refit_time_\n",
    "# vt_svm.return_train_score\n",
    "# vt_svm.score\n",
    "# vt_svm.score_samples\n",
    "# vt_svm.scorer_\n",
    "# vt_svm.scoring\n",
    "# vt_svm.transform\n",
    "# vt_svm.verbose"
   ]
  },
  {
   "cell_type": "code",
   "execution_count": null,
   "id": "007042a7-7d27-4da5-9d94-8697a17d373b",
   "metadata": {},
   "outputs": [],
   "source": []
  },
  {
   "cell_type": "markdown",
   "id": "c4b31bfa-fbbc-4e94-ae80-95d294033c22",
   "metadata": {},
   "source": [
    "### Persist Model"
   ]
  },
  {
   "cell_type": "code",
   "execution_count": 641,
   "id": "8f4c3930-7f57-4c82-8f44-d8e860fee8e2",
   "metadata": {
    "execution": {
     "iopub.execute_input": "2024-08-05T20:58:05.384394Z",
     "iopub.status.busy": "2024-08-05T20:58:05.384038Z",
     "iopub.status.idle": "2024-08-05T20:58:05.423772Z",
     "shell.execute_reply": "2024-08-05T20:58:05.422786Z",
     "shell.execute_reply.started": "2024-08-05T20:58:05.384368Z"
    }
   },
   "outputs": [],
   "source": [
    "FILENAME = 'SVM_estimators_SNNL_1_BALANCED_RATIO_1.pkl'"
   ]
  },
  {
   "cell_type": "code",
   "execution_count": 642,
   "id": "bda8ee62-8812-447b-94b4-272ebfc0970a",
   "metadata": {
    "execution": {
     "iopub.execute_input": "2024-08-05T20:58:05.559750Z",
     "iopub.status.busy": "2024-08-05T20:58:05.559285Z",
     "iopub.status.idle": "2024-08-05T20:58:05.636804Z",
     "shell.execute_reply": "2024-08-05T20:58:05.636028Z",
     "shell.execute_reply.started": "2024-08-05T20:58:05.559708Z"
    }
   },
   "outputs": [
    {
     "name": "stdout",
     "output_type": "stream",
     "text": [
      " save_to_pickle(): save data to SVM_estimators_SNNL_1_BALANCED_RATIO_1.pkl\n"
     ]
    }
   ],
   "source": [
    "save_to_pickle(vt_svm, '', FILENAME, verbose = True)"
   ]
  },
  {
   "cell_type": "markdown",
   "id": "227c0ea1-c2e3-4d6b-a582-ad7e591392c9",
   "metadata": {},
   "source": [
    "### Load Model"
   ]
  },
  {
   "cell_type": "code",
   "execution_count": 447,
   "id": "a31c1d03-a3ae-4391-9b63-8b325e9fc05f",
   "metadata": {
    "execution": {
     "iopub.execute_input": "2024-08-03T20:28:38.907329Z",
     "iopub.status.busy": "2024-08-03T20:28:38.906818Z",
     "iopub.status.idle": "2024-08-03T20:28:38.953380Z",
     "shell.execute_reply": "2024-08-03T20:28:38.952719Z",
     "shell.execute_reply.started": "2024-08-03T20:28:38.907289Z"
    }
   },
   "outputs": [],
   "source": [
    "svm_estimators = load_from_pickle('', FILENAME)"
   ]
  },
  {
   "cell_type": "code",
   "execution_count": 448,
   "id": "8c41725e-4254-4d92-92ab-6edf1fe87276",
   "metadata": {
    "execution": {
     "iopub.execute_input": "2024-08-03T20:28:39.741723Z",
     "iopub.status.busy": "2024-08-03T20:28:39.741133Z",
     "iopub.status.idle": "2024-08-03T20:28:39.788662Z",
     "shell.execute_reply": "2024-08-03T20:28:39.787467Z",
     "shell.execute_reply.started": "2024-08-03T20:28:39.741680Z"
    }
   },
   "outputs": [
    {
     "data": {
      "text/html": [
       "<style>#sk-container-id-16 {\n",
       "  /* Definition of color scheme common for light and dark mode */\n",
       "  --sklearn-color-text: black;\n",
       "  --sklearn-color-line: gray;\n",
       "  /* Definition of color scheme for unfitted estimators */\n",
       "  --sklearn-color-unfitted-level-0: #fff5e6;\n",
       "  --sklearn-color-unfitted-level-1: #f6e4d2;\n",
       "  --sklearn-color-unfitted-level-2: #ffe0b3;\n",
       "  --sklearn-color-unfitted-level-3: chocolate;\n",
       "  /* Definition of color scheme for fitted estimators */\n",
       "  --sklearn-color-fitted-level-0: #f0f8ff;\n",
       "  --sklearn-color-fitted-level-1: #d4ebff;\n",
       "  --sklearn-color-fitted-level-2: #b3dbfd;\n",
       "  --sklearn-color-fitted-level-3: cornflowerblue;\n",
       "\n",
       "  /* Specific color for light theme */\n",
       "  --sklearn-color-text-on-default-background: var(--sg-text-color, var(--theme-code-foreground, var(--jp-content-font-color1, black)));\n",
       "  --sklearn-color-background: var(--sg-background-color, var(--theme-background, var(--jp-layout-color0, white)));\n",
       "  --sklearn-color-border-box: var(--sg-text-color, var(--theme-code-foreground, var(--jp-content-font-color1, black)));\n",
       "  --sklearn-color-icon: #696969;\n",
       "\n",
       "  @media (prefers-color-scheme: dark) {\n",
       "    /* Redefinition of color scheme for dark theme */\n",
       "    --sklearn-color-text-on-default-background: var(--sg-text-color, var(--theme-code-foreground, var(--jp-content-font-color1, white)));\n",
       "    --sklearn-color-background: var(--sg-background-color, var(--theme-background, var(--jp-layout-color0, #111)));\n",
       "    --sklearn-color-border-box: var(--sg-text-color, var(--theme-code-foreground, var(--jp-content-font-color1, white)));\n",
       "    --sklearn-color-icon: #878787;\n",
       "  }\n",
       "}\n",
       "\n",
       "#sk-container-id-16 {\n",
       "  color: var(--sklearn-color-text);\n",
       "}\n",
       "\n",
       "#sk-container-id-16 pre {\n",
       "  padding: 0;\n",
       "}\n",
       "\n",
       "#sk-container-id-16 input.sk-hidden--visually {\n",
       "  border: 0;\n",
       "  clip: rect(1px 1px 1px 1px);\n",
       "  clip: rect(1px, 1px, 1px, 1px);\n",
       "  height: 1px;\n",
       "  margin: -1px;\n",
       "  overflow: hidden;\n",
       "  padding: 0;\n",
       "  position: absolute;\n",
       "  width: 1px;\n",
       "}\n",
       "\n",
       "#sk-container-id-16 div.sk-dashed-wrapped {\n",
       "  border: 1px dashed var(--sklearn-color-line);\n",
       "  margin: 0 0.4em 0.5em 0.4em;\n",
       "  box-sizing: border-box;\n",
       "  padding-bottom: 0.4em;\n",
       "  background-color: var(--sklearn-color-background);\n",
       "}\n",
       "\n",
       "#sk-container-id-16 div.sk-container {\n",
       "  /* jupyter's `normalize.less` sets `[hidden] { display: none; }`\n",
       "     but bootstrap.min.css set `[hidden] { display: none !important; }`\n",
       "     so we also need the `!important` here to be able to override the\n",
       "     default hidden behavior on the sphinx rendered scikit-learn.org.\n",
       "     See: https://github.com/scikit-learn/scikit-learn/issues/21755 */\n",
       "  display: inline-block !important;\n",
       "  position: relative;\n",
       "}\n",
       "\n",
       "#sk-container-id-16 div.sk-text-repr-fallback {\n",
       "  display: none;\n",
       "}\n",
       "\n",
       "div.sk-parallel-item,\n",
       "div.sk-serial,\n",
       "div.sk-item {\n",
       "  /* draw centered vertical line to link estimators */\n",
       "  background-image: linear-gradient(var(--sklearn-color-text-on-default-background), var(--sklearn-color-text-on-default-background));\n",
       "  background-size: 2px 100%;\n",
       "  background-repeat: no-repeat;\n",
       "  background-position: center center;\n",
       "}\n",
       "\n",
       "/* Parallel-specific style estimator block */\n",
       "\n",
       "#sk-container-id-16 div.sk-parallel-item::after {\n",
       "  content: \"\";\n",
       "  width: 100%;\n",
       "  border-bottom: 2px solid var(--sklearn-color-text-on-default-background);\n",
       "  flex-grow: 1;\n",
       "}\n",
       "\n",
       "#sk-container-id-16 div.sk-parallel {\n",
       "  display: flex;\n",
       "  align-items: stretch;\n",
       "  justify-content: center;\n",
       "  background-color: var(--sklearn-color-background);\n",
       "  position: relative;\n",
       "}\n",
       "\n",
       "#sk-container-id-16 div.sk-parallel-item {\n",
       "  display: flex;\n",
       "  flex-direction: column;\n",
       "}\n",
       "\n",
       "#sk-container-id-16 div.sk-parallel-item:first-child::after {\n",
       "  align-self: flex-end;\n",
       "  width: 50%;\n",
       "}\n",
       "\n",
       "#sk-container-id-16 div.sk-parallel-item:last-child::after {\n",
       "  align-self: flex-start;\n",
       "  width: 50%;\n",
       "}\n",
       "\n",
       "#sk-container-id-16 div.sk-parallel-item:only-child::after {\n",
       "  width: 0;\n",
       "}\n",
       "\n",
       "/* Serial-specific style estimator block */\n",
       "\n",
       "#sk-container-id-16 div.sk-serial {\n",
       "  display: flex;\n",
       "  flex-direction: column;\n",
       "  align-items: center;\n",
       "  background-color: var(--sklearn-color-background);\n",
       "  padding-right: 1em;\n",
       "  padding-left: 1em;\n",
       "}\n",
       "\n",
       "\n",
       "/* Toggleable style: style used for estimator/Pipeline/ColumnTransformer box that is\n",
       "clickable and can be expanded/collapsed.\n",
       "- Pipeline and ColumnTransformer use this feature and define the default style\n",
       "- Estimators will overwrite some part of the style using the `sk-estimator` class\n",
       "*/\n",
       "\n",
       "/* Pipeline and ColumnTransformer style (default) */\n",
       "\n",
       "#sk-container-id-16 div.sk-toggleable {\n",
       "  /* Default theme specific background. It is overwritten whether we have a\n",
       "  specific estimator or a Pipeline/ColumnTransformer */\n",
       "  background-color: var(--sklearn-color-background);\n",
       "}\n",
       "\n",
       "/* Toggleable label */\n",
       "#sk-container-id-16 label.sk-toggleable__label {\n",
       "  cursor: pointer;\n",
       "  display: block;\n",
       "  width: 100%;\n",
       "  margin-bottom: 0;\n",
       "  padding: 0.5em;\n",
       "  box-sizing: border-box;\n",
       "  text-align: center;\n",
       "}\n",
       "\n",
       "#sk-container-id-16 label.sk-toggleable__label-arrow:before {\n",
       "  /* Arrow on the left of the label */\n",
       "  content: \"▸\";\n",
       "  float: left;\n",
       "  margin-right: 0.25em;\n",
       "  color: var(--sklearn-color-icon);\n",
       "}\n",
       "\n",
       "#sk-container-id-16 label.sk-toggleable__label-arrow:hover:before {\n",
       "  color: var(--sklearn-color-text);\n",
       "}\n",
       "\n",
       "/* Toggleable content - dropdown */\n",
       "\n",
       "#sk-container-id-16 div.sk-toggleable__content {\n",
       "  max-height: 0;\n",
       "  max-width: 0;\n",
       "  overflow: hidden;\n",
       "  text-align: left;\n",
       "  /* unfitted */\n",
       "  background-color: var(--sklearn-color-unfitted-level-0);\n",
       "}\n",
       "\n",
       "#sk-container-id-16 div.sk-toggleable__content.fitted {\n",
       "  /* fitted */\n",
       "  background-color: var(--sklearn-color-fitted-level-0);\n",
       "}\n",
       "\n",
       "#sk-container-id-16 div.sk-toggleable__content pre {\n",
       "  margin: 0.2em;\n",
       "  border-radius: 0.25em;\n",
       "  color: var(--sklearn-color-text);\n",
       "  /* unfitted */\n",
       "  background-color: var(--sklearn-color-unfitted-level-0);\n",
       "}\n",
       "\n",
       "#sk-container-id-16 div.sk-toggleable__content.fitted pre {\n",
       "  /* unfitted */\n",
       "  background-color: var(--sklearn-color-fitted-level-0);\n",
       "}\n",
       "\n",
       "#sk-container-id-16 input.sk-toggleable__control:checked~div.sk-toggleable__content {\n",
       "  /* Expand drop-down */\n",
       "  max-height: 200px;\n",
       "  max-width: 100%;\n",
       "  overflow: auto;\n",
       "}\n",
       "\n",
       "#sk-container-id-16 input.sk-toggleable__control:checked~label.sk-toggleable__label-arrow:before {\n",
       "  content: \"▾\";\n",
       "}\n",
       "\n",
       "/* Pipeline/ColumnTransformer-specific style */\n",
       "\n",
       "#sk-container-id-16 div.sk-label input.sk-toggleable__control:checked~label.sk-toggleable__label {\n",
       "  color: var(--sklearn-color-text);\n",
       "  background-color: var(--sklearn-color-unfitted-level-2);\n",
       "}\n",
       "\n",
       "#sk-container-id-16 div.sk-label.fitted input.sk-toggleable__control:checked~label.sk-toggleable__label {\n",
       "  background-color: var(--sklearn-color-fitted-level-2);\n",
       "}\n",
       "\n",
       "/* Estimator-specific style */\n",
       "\n",
       "/* Colorize estimator box */\n",
       "#sk-container-id-16 div.sk-estimator input.sk-toggleable__control:checked~label.sk-toggleable__label {\n",
       "  /* unfitted */\n",
       "  background-color: var(--sklearn-color-unfitted-level-2);\n",
       "}\n",
       "\n",
       "#sk-container-id-16 div.sk-estimator.fitted input.sk-toggleable__control:checked~label.sk-toggleable__label {\n",
       "  /* fitted */\n",
       "  background-color: var(--sklearn-color-fitted-level-2);\n",
       "}\n",
       "\n",
       "#sk-container-id-16 div.sk-label label.sk-toggleable__label,\n",
       "#sk-container-id-16 div.sk-label label {\n",
       "  /* The background is the default theme color */\n",
       "  color: var(--sklearn-color-text-on-default-background);\n",
       "}\n",
       "\n",
       "/* On hover, darken the color of the background */\n",
       "#sk-container-id-16 div.sk-label:hover label.sk-toggleable__label {\n",
       "  color: var(--sklearn-color-text);\n",
       "  background-color: var(--sklearn-color-unfitted-level-2);\n",
       "}\n",
       "\n",
       "/* Label box, darken color on hover, fitted */\n",
       "#sk-container-id-16 div.sk-label.fitted:hover label.sk-toggleable__label.fitted {\n",
       "  color: var(--sklearn-color-text);\n",
       "  background-color: var(--sklearn-color-fitted-level-2);\n",
       "}\n",
       "\n",
       "/* Estimator label */\n",
       "\n",
       "#sk-container-id-16 div.sk-label label {\n",
       "  font-family: monospace;\n",
       "  font-weight: bold;\n",
       "  display: inline-block;\n",
       "  line-height: 1.2em;\n",
       "}\n",
       "\n",
       "#sk-container-id-16 div.sk-label-container {\n",
       "  text-align: center;\n",
       "}\n",
       "\n",
       "/* Estimator-specific */\n",
       "#sk-container-id-16 div.sk-estimator {\n",
       "  font-family: monospace;\n",
       "  border: 1px dotted var(--sklearn-color-border-box);\n",
       "  border-radius: 0.25em;\n",
       "  box-sizing: border-box;\n",
       "  margin-bottom: 0.5em;\n",
       "  /* unfitted */\n",
       "  background-color: var(--sklearn-color-unfitted-level-0);\n",
       "}\n",
       "\n",
       "#sk-container-id-16 div.sk-estimator.fitted {\n",
       "  /* fitted */\n",
       "  background-color: var(--sklearn-color-fitted-level-0);\n",
       "}\n",
       "\n",
       "/* on hover */\n",
       "#sk-container-id-16 div.sk-estimator:hover {\n",
       "  /* unfitted */\n",
       "  background-color: var(--sklearn-color-unfitted-level-2);\n",
       "}\n",
       "\n",
       "#sk-container-id-16 div.sk-estimator.fitted:hover {\n",
       "  /* fitted */\n",
       "  background-color: var(--sklearn-color-fitted-level-2);\n",
       "}\n",
       "\n",
       "/* Specification for estimator info (e.g. \"i\" and \"?\") */\n",
       "\n",
       "/* Common style for \"i\" and \"?\" */\n",
       "\n",
       ".sk-estimator-doc-link,\n",
       "a:link.sk-estimator-doc-link,\n",
       "a:visited.sk-estimator-doc-link {\n",
       "  float: right;\n",
       "  font-size: smaller;\n",
       "  line-height: 1em;\n",
       "  font-family: monospace;\n",
       "  background-color: var(--sklearn-color-background);\n",
       "  border-radius: 1em;\n",
       "  height: 1em;\n",
       "  width: 1em;\n",
       "  text-decoration: none !important;\n",
       "  margin-left: 1ex;\n",
       "  /* unfitted */\n",
       "  border: var(--sklearn-color-unfitted-level-1) 1pt solid;\n",
       "  color: var(--sklearn-color-unfitted-level-1);\n",
       "}\n",
       "\n",
       ".sk-estimator-doc-link.fitted,\n",
       "a:link.sk-estimator-doc-link.fitted,\n",
       "a:visited.sk-estimator-doc-link.fitted {\n",
       "  /* fitted */\n",
       "  border: var(--sklearn-color-fitted-level-1) 1pt solid;\n",
       "  color: var(--sklearn-color-fitted-level-1);\n",
       "}\n",
       "\n",
       "/* On hover */\n",
       "div.sk-estimator:hover .sk-estimator-doc-link:hover,\n",
       ".sk-estimator-doc-link:hover,\n",
       "div.sk-label-container:hover .sk-estimator-doc-link:hover,\n",
       ".sk-estimator-doc-link:hover {\n",
       "  /* unfitted */\n",
       "  background-color: var(--sklearn-color-unfitted-level-3);\n",
       "  color: var(--sklearn-color-background);\n",
       "  text-decoration: none;\n",
       "}\n",
       "\n",
       "div.sk-estimator.fitted:hover .sk-estimator-doc-link.fitted:hover,\n",
       ".sk-estimator-doc-link.fitted:hover,\n",
       "div.sk-label-container:hover .sk-estimator-doc-link.fitted:hover,\n",
       ".sk-estimator-doc-link.fitted:hover {\n",
       "  /* fitted */\n",
       "  background-color: var(--sklearn-color-fitted-level-3);\n",
       "  color: var(--sklearn-color-background);\n",
       "  text-decoration: none;\n",
       "}\n",
       "\n",
       "/* Span, style for the box shown on hovering the info icon */\n",
       ".sk-estimator-doc-link span {\n",
       "  display: none;\n",
       "  z-index: 9999;\n",
       "  position: relative;\n",
       "  font-weight: normal;\n",
       "  right: .2ex;\n",
       "  padding: .5ex;\n",
       "  margin: .5ex;\n",
       "  width: min-content;\n",
       "  min-width: 20ex;\n",
       "  max-width: 50ex;\n",
       "  color: var(--sklearn-color-text);\n",
       "  box-shadow: 2pt 2pt 4pt #999;\n",
       "  /* unfitted */\n",
       "  background: var(--sklearn-color-unfitted-level-0);\n",
       "  border: .5pt solid var(--sklearn-color-unfitted-level-3);\n",
       "}\n",
       "\n",
       ".sk-estimator-doc-link.fitted span {\n",
       "  /* fitted */\n",
       "  background: var(--sklearn-color-fitted-level-0);\n",
       "  border: var(--sklearn-color-fitted-level-3);\n",
       "}\n",
       "\n",
       ".sk-estimator-doc-link:hover span {\n",
       "  display: block;\n",
       "}\n",
       "\n",
       "/* \"?\"-specific style due to the `<a>` HTML tag */\n",
       "\n",
       "#sk-container-id-16 a.estimator_doc_link {\n",
       "  float: right;\n",
       "  font-size: 1rem;\n",
       "  line-height: 1em;\n",
       "  font-family: monospace;\n",
       "  background-color: var(--sklearn-color-background);\n",
       "  border-radius: 1rem;\n",
       "  height: 1rem;\n",
       "  width: 1rem;\n",
       "  text-decoration: none;\n",
       "  /* unfitted */\n",
       "  color: var(--sklearn-color-unfitted-level-1);\n",
       "  border: var(--sklearn-color-unfitted-level-1) 1pt solid;\n",
       "}\n",
       "\n",
       "#sk-container-id-16 a.estimator_doc_link.fitted {\n",
       "  /* fitted */\n",
       "  border: var(--sklearn-color-fitted-level-1) 1pt solid;\n",
       "  color: var(--sklearn-color-fitted-level-1);\n",
       "}\n",
       "\n",
       "/* On hover */\n",
       "#sk-container-id-16 a.estimator_doc_link:hover {\n",
       "  /* unfitted */\n",
       "  background-color: var(--sklearn-color-unfitted-level-3);\n",
       "  color: var(--sklearn-color-background);\n",
       "  text-decoration: none;\n",
       "}\n",
       "\n",
       "#sk-container-id-16 a.estimator_doc_link.fitted:hover {\n",
       "  /* fitted */\n",
       "  background-color: var(--sklearn-color-fitted-level-3);\n",
       "}\n",
       "</style><div id=\"sk-container-id-16\" class=\"sk-top-container\"><div class=\"sk-text-repr-fallback\"><pre>GridSearchCV(cv=4,\n",
       "             estimator=SVC(cache_size=400, class_weight=&#x27;balanced&#x27;,\n",
       "                           max_iter=10000, random_state=42, tol=1e-05),\n",
       "             n_jobs=5,\n",
       "             param_grid={&#x27;C&#x27;: [0.1, 1, 10, 100, 200], &#x27;kernel&#x27;: [&#x27;rbf&#x27;]},\n",
       "             pre_dispatch=5, scoring=&#x27;roc_auc&#x27;, verbose=3)</pre><b>In a Jupyter environment, please rerun this cell to show the HTML representation or trust the notebook. <br />On GitHub, the HTML representation is unable to render, please try loading this page with nbviewer.org.</b></div><div class=\"sk-container\" hidden><div class=\"sk-item sk-dashed-wrapped\"><div class=\"sk-label-container\"><div class=\"sk-label fitted sk-toggleable\"><input class=\"sk-toggleable__control sk-hidden--visually\" id=\"sk-estimator-id-34\" type=\"checkbox\" ><label for=\"sk-estimator-id-34\" class=\"sk-toggleable__label fitted sk-toggleable__label-arrow fitted\">&nbsp;&nbsp;GridSearchCV<a class=\"sk-estimator-doc-link fitted\" rel=\"noreferrer\" target=\"_blank\" href=\"https://scikit-learn.org/1.4/modules/generated/sklearn.model_selection.GridSearchCV.html\">?<span>Documentation for GridSearchCV</span></a><span class=\"sk-estimator-doc-link fitted\">i<span>Fitted</span></span></label><div class=\"sk-toggleable__content fitted\"><pre>GridSearchCV(cv=4,\n",
       "             estimator=SVC(cache_size=400, class_weight=&#x27;balanced&#x27;,\n",
       "                           max_iter=10000, random_state=42, tol=1e-05),\n",
       "             n_jobs=5,\n",
       "             param_grid={&#x27;C&#x27;: [0.1, 1, 10, 100, 200], &#x27;kernel&#x27;: [&#x27;rbf&#x27;]},\n",
       "             pre_dispatch=5, scoring=&#x27;roc_auc&#x27;, verbose=3)</pre></div> </div></div><div class=\"sk-parallel\"><div class=\"sk-parallel-item\"><div class=\"sk-item\"><div class=\"sk-label-container\"><div class=\"sk-label fitted sk-toggleable\"><input class=\"sk-toggleable__control sk-hidden--visually\" id=\"sk-estimator-id-35\" type=\"checkbox\" ><label for=\"sk-estimator-id-35\" class=\"sk-toggleable__label fitted sk-toggleable__label-arrow fitted\">estimator: SVC</label><div class=\"sk-toggleable__content fitted\"><pre>SVC(cache_size=400, class_weight=&#x27;balanced&#x27;, max_iter=10000, random_state=42,\n",
       "    tol=1e-05)</pre></div> </div></div><div class=\"sk-serial\"><div class=\"sk-item\"><div class=\"sk-estimator fitted sk-toggleable\"><input class=\"sk-toggleable__control sk-hidden--visually\" id=\"sk-estimator-id-36\" type=\"checkbox\" ><label for=\"sk-estimator-id-36\" class=\"sk-toggleable__label fitted sk-toggleable__label-arrow fitted\">&nbsp;SVC<a class=\"sk-estimator-doc-link fitted\" rel=\"noreferrer\" target=\"_blank\" href=\"https://scikit-learn.org/1.4/modules/generated/sklearn.svm.SVC.html\">?<span>Documentation for SVC</span></a></label><div class=\"sk-toggleable__content fitted\"><pre>SVC(cache_size=400, class_weight=&#x27;balanced&#x27;, max_iter=10000, random_state=42,\n",
       "    tol=1e-05)</pre></div> </div></div></div></div></div></div></div></div></div>"
      ],
      "text/plain": [
       "GridSearchCV(cv=4,\n",
       "             estimator=SVC(cache_size=400, class_weight='balanced',\n",
       "                           max_iter=10000, random_state=42, tol=1e-05),\n",
       "             n_jobs=5,\n",
       "             param_grid={'C': [0.1, 1, 10, 100, 200], 'kernel': ['rbf']},\n",
       "             pre_dispatch=5, scoring='roc_auc', verbose=3)"
      ]
     },
     "execution_count": 448,
     "metadata": {},
     "output_type": "execute_result"
    },
    {
     "name": "stdout",
     "output_type": "stream",
     "text": [
      "parameters   :\n",
      "\n",
      "best_estimator_  :   SVC(C=0.1, cache_size=400, class_weight='balanced', max_iter=10000,\n",
      "    random_state=42, tol=1e-05)\n"
     ]
    }
   ],
   "source": [
    "svm_estimators\n",
    "print(f\"parameters   :\")\n",
    "# pp.pprint(svm_estimators.get_params())\n",
    "print()\n",
    "print(f\"best_estimator_  :   {svm_estimators.best_estimator_}\")\n",
    "# print(f\"best_index_  :       {svm_estimators.best_index_}\")\n",
    "# print(f\"best_params_ :       {svm_estimators.best_params_}\")\n",
    "# print(f\"best_score_  :       {svm_estimators.best_score_}\")\n",
    "# print(f\"classes_     :       {svm_estimators.classes_}\")\n",
    "# print(f\"cv           :       {svm_estimators.cv}\")\n",
    "# print()\n",
    "# print(f\"cv_results_  :       {svm_estimators.cv_results_}\")\n",
    "# print()\n",
    "# print(f\"error_score  :       {svm_estimators.error_score}\")\n",
    "# print(f\"estimator    :       {svm_estimators.estimator}\")"
   ]
  },
  {
   "cell_type": "markdown",
   "id": "a84934d8-9e89-4b01-902f-a95d89cdfada",
   "metadata": {},
   "source": [
    "## Metrics - `svm_estimators_1`"
   ]
  },
  {
   "cell_type": "code",
   "execution_count": 644,
   "id": "6235f1c0-6ade-448f-9b80-955d711c458e",
   "metadata": {
    "execution": {
     "iopub.execute_input": "2024-08-05T20:58:25.031240Z",
     "iopub.status.busy": "2024-08-05T20:58:25.030696Z",
     "iopub.status.idle": "2024-08-05T20:58:25.084778Z",
     "shell.execute_reply": "2024-08-05T20:58:25.084050Z",
     "shell.execute_reply.started": "2024-08-05T20:58:25.031203Z"
    }
   },
   "outputs": [],
   "source": [
    "FILENAME = 'SVM_estimators_SNNL_1_BALANCED_RATIO_1.pkl'\n",
    "\n",
    "svm_estimators = load_from_pickle('', FILENAME)"
   ]
  },
  {
   "cell_type": "code",
   "execution_count": 645,
   "id": "cad87557-0e9c-442c-8d35-067b66a2bab0",
   "metadata": {
    "execution": {
     "iopub.execute_input": "2024-08-05T20:58:26.796947Z",
     "iopub.status.busy": "2024-08-05T20:58:26.796558Z",
     "iopub.status.idle": "2024-08-05T20:58:26.831069Z",
     "shell.execute_reply": "2024-08-05T20:58:26.830462Z",
     "shell.execute_reply.started": "2024-08-05T20:58:26.796917Z"
    }
   },
   "outputs": [
    {
     "name": "stdout",
     "output_type": "stream",
     "text": [
      "best_estimator_  :   SVC(C=100, cache_size=400, class_weight='balanced', max_iter=10000,\n",
      "    random_state=42, tol=1e-05)\n",
      "\n"
     ]
    }
   ],
   "source": [
    "# print(f\"parameters   :\")\n",
    "# pp.pprint(svm_estimators.get_params())\n",
    "print(f\"best_estimator_  :   {svm_estimators.best_estimator_}\")\n",
    "print()\n",
    " "
   ]
  },
  {
   "cell_type": "code",
   "execution_count": 646,
   "id": "5128a9d7-940f-4a32-b6b9-902f58c28c61",
   "metadata": {
    "execution": {
     "iopub.execute_input": "2024-08-05T20:59:11.429601Z",
     "iopub.status.busy": "2024-08-05T20:59:11.429110Z",
     "iopub.status.idle": "2024-08-05T20:59:11.465290Z",
     "shell.execute_reply": "2024-08-05T20:59:11.464417Z",
     "shell.execute_reply.started": "2024-08-05T20:59:11.429562Z"
    }
   },
   "outputs": [],
   "source": [
    "TEST_X, TEST_Y = bal_test_X, bal_test_y"
   ]
  },
  {
   "cell_type": "code",
   "execution_count": 647,
   "id": "6febe1ee-e783-4a7c-b1eb-2168837d6785",
   "metadata": {
    "execution": {
     "iopub.execute_input": "2024-08-05T20:59:42.477907Z",
     "iopub.status.busy": "2024-08-05T20:59:42.477374Z",
     "iopub.status.idle": "2024-08-05T21:02:44.394572Z",
     "shell.execute_reply": "2024-08-05T21:02:44.393490Z",
     "shell.execute_reply.started": "2024-08-05T20:59:42.477869Z"
    }
   },
   "outputs": [
    {
     "data": {
      "text/plain": [
       "(34542,)"
      ]
     },
     "execution_count": 647,
     "metadata": {},
     "output_type": "execute_result"
    }
   ],
   "source": [
    "y_pred = svm_estimators.best_estimator_.predict(test_X)\n",
    "y_pred.shape"
   ]
  },
  {
   "cell_type": "code",
   "execution_count": 648,
   "id": "62af41d9-dd7a-43a3-a57e-61b63c465264",
   "metadata": {
    "execution": {
     "iopub.execute_input": "2024-08-05T21:02:44.396932Z",
     "iopub.status.busy": "2024-08-05T21:02:44.396551Z",
     "iopub.status.idle": "2024-08-05T21:03:28.814557Z",
     "shell.execute_reply": "2024-08-05T21:03:28.813476Z",
     "shell.execute_reply.started": "2024-08-05T21:02:44.396906Z"
    }
   },
   "outputs": [
    {
     "data": {
      "text/plain": [
       "(8328,)"
      ]
     },
     "execution_count": 648,
     "metadata": {},
     "output_type": "execute_result"
    }
   ],
   "source": [
    "bal_y_pred = svm_estimators.best_estimator_.predict(bal_test_X)\n",
    "bal_y_pred.shape"
   ]
  },
  {
   "cell_type": "code",
   "execution_count": 657,
   "id": "62c8ba0e-4c72-4773-9740-6887334aaabf",
   "metadata": {
    "execution": {
     "iopub.execute_input": "2024-08-05T21:06:27.337684Z",
     "iopub.status.busy": "2024-08-05T21:06:27.337163Z",
     "iopub.status.idle": "2024-08-05T21:06:27.390252Z",
     "shell.execute_reply": "2024-08-05T21:06:27.389068Z",
     "shell.execute_reply.started": "2024-08-05T21:06:27.337645Z"
    }
   },
   "outputs": [
    {
     "name": "stdout",
     "output_type": "stream",
     "text": [
      " Ground Truth\n",
      " Total samples: 34542\n",
      " Label 0:  30,378      % 87.95 \n",
      " Label 1:   4,164      % 12.05 \n",
      "\n",
      " Predictions\n",
      " Total samples: 34542\n",
      " Label 0:  24,179      % 70.00 \n",
      " Label 1:  10,363      % 30.00 \n",
      "\n",
      " Balanced Ground Truth\n",
      " Total samples: 8328\n",
      " Label 0:   4,164      % 50.00 \n",
      " Label 1:   4,164      % 50.00 \n",
      "\n",
      " Balanced Predictions\n",
      " Total samples: 8328\n",
      " Label 0:   4,164      % 50.00 \n",
      " Label 1:   4,164      % 50.00 \n",
      "\n"
     ]
    }
   ],
   "source": [
    "label_counts( [(\"Ground Truth\", test_y), (\"Predictions\", y_pred), (\"Balanced Ground Truth\", bal_test_y), (\"Balanced Predictions\", bal_test_y)])\n"
   ]
  },
  {
   "cell_type": "code",
   "execution_count": 660,
   "id": "e60cb6e4-02bb-4e23-ae53-06316789ca10",
   "metadata": {
    "execution": {
     "iopub.execute_input": "2024-08-05T21:18:13.597855Z",
     "iopub.status.busy": "2024-08-05T21:18:13.597573Z",
     "iopub.status.idle": "2024-08-05T21:18:13.639272Z",
     "shell.execute_reply": "2024-08-05T21:18:13.638532Z",
     "shell.execute_reply.started": "2024-08-05T21:18:13.597835Z"
    }
   },
   "outputs": [
    {
     "name": "stdout",
     "output_type": "stream",
     "text": [
      " Original test file \n",
      " ------------------ \n",
      " Accuracy: 0.65998     Precision: 0.13423     Recall: 0.33405     F1: 0.19151 \n",
      "\n",
      " True + labels:          4164     ratio to total:  0.12055\n",
      " Predicted + labels:    10363     ratio to total:  0.30001\n",
      " True/Predicted Match:  22797     ratio to total:  0.65998\n"
     ]
    }
   ],
   "source": [
    "compute_metrics(test_y, y_pred, \"Original test file\")"
   ]
  },
  {
   "cell_type": "code",
   "execution_count": 661,
   "id": "c62f3e1b-a441-433f-b6f6-0a204594c70b",
   "metadata": {
    "execution": {
     "iopub.execute_input": "2024-08-05T21:18:44.616932Z",
     "iopub.status.busy": "2024-08-05T21:18:44.616435Z",
     "iopub.status.idle": "2024-08-05T21:18:44.666027Z",
     "shell.execute_reply": "2024-08-05T21:18:44.664500Z",
     "shell.execute_reply.started": "2024-08-05T21:18:44.616896Z"
    }
   },
   "outputs": [
    {
     "name": "stdout",
     "output_type": "stream",
     "text": [
      "  1:1 Balanced test file \n",
      " ----------------------- \n",
      " Accuracy: 0.51393     Precision: 0.52176     Recall: 0.33405     F1: 0.40732 \n",
      "\n",
      " True + labels:          4164     ratio to total:  0.50000\n",
      " Predicted + labels:     2666     ratio to total:  0.32012\n",
      " True/Predicted Match:   4280     ratio to total:  0.51393\n"
     ]
    }
   ],
   "source": [
    "compute_metrics(bal_test_y, bal_y_pred, \" 1:1 Balanced test file\")"
   ]
  },
  {
   "cell_type": "code",
   "execution_count": 662,
   "id": "d789e4ce-c0e2-401c-946a-1b33ba06a544",
   "metadata": {
    "execution": {
     "iopub.execute_input": "2024-08-05T21:18:59.095056Z",
     "iopub.status.busy": "2024-08-05T21:18:59.094517Z",
     "iopub.status.idle": "2024-08-05T21:18:59.132504Z",
     "shell.execute_reply": "2024-08-05T21:18:59.131554Z",
     "shell.execute_reply.started": "2024-08-05T21:18:59.095025Z"
    }
   },
   "outputs": [],
   "source": [
    "# plots_from_estimator(svm_estimators.best_estimator_, test_X, y_pred)\n",
    "# plots_from_estimator(svm_estimators.best_estimator_, bal_test_X, bal_y_pred)"
   ]
  },
  {
   "cell_type": "code",
   "execution_count": 663,
   "id": "762984ba-5bae-4ecc-a014-d8c71c529bd4",
   "metadata": {
    "execution": {
     "iopub.execute_input": "2024-08-05T21:19:02.061252Z",
     "iopub.status.busy": "2024-08-05T21:19:02.034250Z",
     "iopub.status.idle": "2024-08-05T21:19:03.634373Z",
     "shell.execute_reply": "2024-08-05T21:19:03.633582Z",
     "shell.execute_reply.started": "2024-08-05T21:19:02.061199Z"
    }
   },
   "outputs": [
    {
     "data": {
      "image/png": "[encoded data removed]",
      "text/plain": [
       "<Figure size 1500x500 with 4 Axes>"
      ]
     },
     "metadata": {},
     "output_type": "display_data"
    },
    {
     "data": {
      "image/png": "[encoded data removed]",
      "text/plain": [
       "<Figure size 1500x500 with 4 Axes>"
      ]
     },
     "metadata": {},
     "output_type": "display_data"
    }
   ],
   "source": [
    "plots_from_predictions(test_y, y_pred)\n",
    "plots_from_predictions(bal_test_y, bal_y_pred)"
   ]
  },
  {
   "cell_type": "markdown",
   "id": "e726a461-1dff-40fa-9ac8-a842ff2dfc77",
   "metadata": {
    "heading_collapsed": true,
    "hidden": true
   },
   "source": [
    "# **[kNN](https://scikit-learn.org/stable/modules/neighbors.html)** "
   ]
  },
  {
   "cell_type": "markdown",
   "id": "49d47da6-54fd-4c3e-a0f3-0aef480c556e",
   "metadata": {
    "editable": true,
    "slideshow": {
     "slide_type": ""
    },
    "tags": []
   },
   "source": [
    "* **algorithm**  {‘auto’, ‘ball_tree’, ‘kd_tree’, ‘brute’}, default=’auto’\n",
    "Algorithm used to compute the nearest neighbors:\n",
    "\n",
    "    `ball_tree` will use BallTree\n",
    "  \n",
    "    `kd_tree` will use KDTree\n",
    "\n",
    "    `brute` will use a brute-force search.\n",
    "\n",
    "    `auto` will attempt to decide the most appropriate algorithm based on the values passed to fit method.\n",
    "\n",
    "    Note: fitting on sparse input will override the setting of this parameter, using brute force.\n",
    "\n",
    "*  **leaf_size** int, default=30  -- Leaf size passed to BallTree or KDTree.\n",
    "\n",
    "      This can affect the speed of the construction and query, as well as the memory required to store the tree. The optimal value depends on the nature of the problem.\n",
    "\n",
    "*  **p**   float, default=2 -- Power parameter for the Minkowski metric.\n",
    "\n",
    "      When p = 1, this is equivalent to using manhattan_distance (l1), and euclidean_distance (l2) for p = 2. For arbitrary p, minkowski_distance (l_p) is used. This parameter is expected to be positive.\n",
    "\n",
    "\n",
    "*  **metric**  str or callable, default=’minkowski’ -- Metric to use for distance computation.\n",
    "\n",
    "      Default is `minkowski`, which results in the standard Euclidean distance when p = 2. See the documentation of scipy.spatial.distance and the metrics listed in distance_metrics for valid metric values.\n",
    "\n",
    "      If metric is `precomputed`, X is assumed to be a distance matrix and must be square during fit. X may be a sparse graph, in which case only “nonzero” elements may be considered neighbors. \n",
    "\n",
    "      If metric is a callable function, it takes two arrays representing 1D vectors as inputs and must return one value indicating the distance between those vectors. This works for Scipy’s metrics, but is less efficient than passing the metric name as a string.\n",
    "\n",
    "*  **metric_params**   dict, default=None -- Additional keyword arguments for the metric function.\n",
    "\n",
    "*  **n_jobs**  int, default=None -- The number of parallel jobs to run for neighbors search.\n",
    "\n",
    "    None means 1 unless in a joblib.parallel_backend context. -1 means using all processors. Doesn’t affect fit method.   "
   ]
  },
  {
   "cell_type": "code",
   "execution_count": 166,
   "id": "92317d91-0886-4e6f-8edc-f0d205cbba5c",
   "metadata": {
    "execution": {
     "iopub.execute_input": "2024-07-31T19:01:01.263805Z",
     "iopub.status.busy": "2024-07-31T19:01:01.263271Z",
     "iopub.status.idle": "2024-07-31T19:01:01.327031Z",
     "shell.execute_reply": "2024-07-31T19:01:01.326345Z",
     "shell.execute_reply.started": "2024-07-31T19:01:01.263762Z"
    }
   },
   "outputs": [],
   "source": [
    "# del knn_clf, knn_estimators, knn_grid_parameters_des, knn_grid_parameters_fp, knn_grid_parameters_fpcounts"
   ]
  },
  {
   "cell_type": "code",
   "execution_count": 26,
   "id": "12d67068-c85d-4e82-b38a-430ee89c3029",
   "metadata": {
    "editable": true,
    "execution": {
     "iopub.execute_input": "2024-07-30T16:05:34.959206Z",
     "iopub.status.busy": "2024-07-30T16:05:34.958671Z",
     "iopub.status.idle": "2024-07-30T16:05:35.008222Z",
     "shell.execute_reply": "2024-07-30T16:05:35.007609Z",
     "shell.execute_reply.started": "2024-07-30T16:05:34.959165Z"
    },
    "slideshow": {
     "slide_type": ""
    },
    "tags": []
   },
   "outputs": [],
   "source": [
    "# classification\n",
    "\n",
    "knn_clf = KNeighborsClassifier()"
   ]
  },
  {
   "cell_type": "markdown",
   "id": "8e312c51-65ce-42f2-b31a-b7106b71393c",
   "metadata": {},
   "source": [
    "## Parameters"
   ]
  },
  {
   "cell_type": "code",
   "execution_count": 85,
   "id": "56252113-64aa-4de8-8ab9-d990f2d8d746",
   "metadata": {
    "ExecuteTime": {
     "end_time": "2023-04-28T12:47:10.584139Z",
     "start_time": "2023-04-28T12:47:10.568010Z"
    },
    "editable": true,
    "execution": {
     "iopub.execute_input": "2024-07-31T17:41:05.460471Z",
     "iopub.status.busy": "2024-07-31T17:41:05.459949Z",
     "iopub.status.idle": "2024-07-31T17:41:05.513715Z",
     "shell.execute_reply": "2024-07-31T17:41:05.512693Z",
     "shell.execute_reply.started": "2024-07-31T17:41:05.460427Z"
    },
    "hidden": true,
    "slideshow": {
     "slide_type": ""
    },
    "tags": []
   },
   "outputs": [],
   "source": [
    "knn_grid_parameters = {'n_neighbors': [3, 6, 9, 15, 19, 25, 35, 45, 55, 71],\n",
    "                       'weights': ['distance'],\n",
    "                       'p': [1,2]}\n",
    "\n",
    "knn_grid_parameters = {'n_neighbors': [5, 9, 15, 19, 23, 25, 35, 45, 55, 71],\n",
    "                       'weights': ['distance'],\n",
    "                       'metric' : ['jaccard', 'dice', 'rogerstanimoto']}\n",
    "\n",
    "knn_grid_parameters = {'n_neighbors': [5, 9, 15, 19, 25, 35, 45, 55, 71],\n",
    "                       'weights': ['distance'],\n",
    "                       'metric' : ['hamming', 'canberra', 'braycurtis']}\n",
    "\n",
    "knn_grid_parameters = {'n_neighbors': [57],\n",
    "                       'weights': ['distance'],\n",
    "                       'metric' : ['jaccard', 'dice', 'rogerstanimoto', 'hamming', 'canberra', 'braycurtis']}\n",
    "\n",
    "# knn_grid_parameters_des = {'n_neighbors': [3, 6, 9, 12, 15], 'weights': ['distance'], 'p': [1]}\n",
    "knn_grid_parameters = {'n_neighbors': [105, 120,  135, 150 ],\n",
    "                       'weights': ['distance'],\n",
    "                       'metric' : ['minkowski'],'p': [2]}\n"
   ]
  },
  {
   "cell_type": "code",
   "execution_count": 86,
   "id": "b05745d8-b3f0-4faa-957a-8af85c865bd9",
   "metadata": {
    "ExecuteTime": {
     "end_time": "2023-04-28T12:53:46.034659Z",
     "start_time": "2023-04-28T12:48:26.670871Z"
    },
    "execution": {
     "iopub.execute_input": "2024-07-31T17:41:06.749302Z",
     "iopub.status.busy": "2024-07-31T17:41:06.748734Z",
     "iopub.status.idle": "2024-07-31T17:41:06.799172Z",
     "shell.execute_reply": "2024-07-31T17:41:06.798093Z",
     "shell.execute_reply.started": "2024-07-31T17:41:06.749259Z"
    },
    "hidden": true
   },
   "outputs": [
    {
     "name": "stdout",
     "output_type": "stream",
     "text": [
      "CPU times: user 4 µs, sys: 0 ns, total: 4 µs\n",
      "Wall time: 9.78 µs\n"
     ]
    }
   ],
   "source": [
    "%%time\n",
    "## returns :  a: labeled_features, b: ublabeled_features, c: labeled_Y, d: df_labled.indicies, e: df_unlabeled.indicies\n",
    "# a,b,c,d,e = prepare_input(train_labels, train_ecfp6_bits, target = 'verytoxic', encoder = encoder_verytoxic)"
   ]
  },
  {
   "cell_type": "markdown",
   "id": "b3b1101f-df46-42f0-ac59-e86d9de7fc50",
   "metadata": {},
   "source": [
    "## Training"
   ]
  },
  {
   "cell_type": "code",
   "execution_count": 87,
   "id": "6ad26df7-c515-402c-83ec-055e2ae70532",
   "metadata": {
    "execution": {
     "iopub.execute_input": "2024-07-31T17:41:07.995454Z",
     "iopub.status.busy": "2024-07-31T17:41:07.994822Z",
     "iopub.status.idle": "2024-07-31T17:41:08.041711Z",
     "shell.execute_reply": "2024-07-31T17:41:08.040612Z",
     "shell.execute_reply.started": "2024-07-31T17:41:07.995412Z"
    }
   },
   "outputs": [],
   "source": [
    "# PARM_SET = knn_grid_parameters_des\n",
    "PARM_SET = knn_grid_parameters"
   ]
  },
  {
   "cell_type": "code",
   "execution_count": 104,
   "id": "262c66bc-6765-42d4-b55d-a1b800a1b8f9",
   "metadata": {
    "execution": {
     "iopub.execute_input": "2024-07-31T18:03:25.493700Z",
     "iopub.status.busy": "2024-07-31T18:03:25.493370Z",
     "iopub.status.idle": "2024-07-31T18:03:25.534505Z",
     "shell.execute_reply": "2024-07-31T18:03:25.533644Z",
     "shell.execute_reply.started": "2024-07-31T18:03:25.493678Z"
    }
   },
   "outputs": [
    {
     "name": "stdout",
     "output_type": "stream",
     "text": [
      "{'n_neighbors': [105, 120, 135, 150], 'weights': ['distance'], 'metric': ['minkowski'], 'p': [2]}\n"
     ]
    }
   ],
   "source": [
    "print(PARM_SET)"
   ]
  },
  {
   "cell_type": "code",
   "execution_count": 106,
   "id": "4451afaf-f926-4f4f-9812-f88097469bbe",
   "metadata": {
    "editable": true,
    "execution": {
     "iopub.execute_input": "2024-07-31T18:05:32.371552Z",
     "iopub.status.busy": "2024-07-31T18:05:32.371102Z",
     "iopub.status.idle": "2024-07-31T18:05:32.417485Z",
     "shell.execute_reply": "2024-07-31T18:05:32.416834Z",
     "shell.execute_reply.started": "2024-07-31T18:05:32.371513Z"
    },
    "slideshow": {
     "slide_type": ""
    },
    "tags": []
   },
   "outputs": [],
   "source": [
    "NUM_JOBS = 4"
   ]
  },
  {
   "cell_type": "code",
   "execution_count": 107,
   "id": "cb1fd4f6-ea2e-426d-8a74-0e3d62b95bf8",
   "metadata": {
    "ExecuteTime": {
     "end_time": "2023-04-28T12:53:46.034659Z",
     "start_time": "2023-04-28T12:48:26.670871Z"
    },
    "editable": true,
    "execution": {
     "iopub.execute_input": "2024-07-31T18:05:41.013912Z",
     "iopub.status.busy": "2024-07-31T18:05:41.013193Z",
     "iopub.status.idle": "2024-07-31T18:11:36.161735Z",
     "shell.execute_reply": "2024-07-31T18:11:36.160618Z",
     "shell.execute_reply.started": "2024-07-31T18:05:41.013829Z"
    },
    "hidden": true,
    "scrolled": true,
    "slideshow": {
     "slide_type": ""
    },
    "tags": []
   },
   "outputs": [
    {
     "name": "stdout",
     "output_type": "stream",
     "text": [
      " verbose is 4\n",
      " params_grid: {'n_neighbors': [105, 120, 135, 150], 'weights': ['distance'], 'metric': ['minkowski'], 'p': [2]}\n",
      " scoring    : roc_auc     cv:  5   n_jobs: 4   gridsearch: True    n_iter: 20   refit: True   \n",
      "Fitting 5 folds for each of 4 candidates, totalling 20 fits\n",
      "Best parameters set found on development set: {'metric': 'minkowski', 'n_neighbors': 135, 'p': 2, 'weights': 'distance'}\n",
      "Best score: 0.5878363154701123\n",
      "Grid scores on development set:\n",
      "\n",
      "0.58720 (+/-0.014) for {'metric': 'minkowski', 'n_neighbors': 105, 'p': 2, 'weights': 'distance'}\n",
      "0.58766 (+/-0.015) for {'metric': 'minkowski', 'n_neighbors': 120, 'p': 2, 'weights': 'distance'}\n",
      "0.58784 (+/-0.014) for {'metric': 'minkowski', 'n_neighbors': 135, 'p': 2, 'weights': 'distance'}\n",
      "0.58775 (+/-0.014) for {'metric': 'minkowski', 'n_neighbors': 150, 'p': 2, 'weights': 'distance'}\n"
     ]
    }
   ],
   "source": [
    "vt_knn_ecfp6bits = model_selection(knn_clf, PARM_SET, train_X, train_y, scoring='roc_auc',\n",
    "                                   cv=5, GridSearch=True, n_jobs=NUM_JOBS, verbose=4)"
   ]
  },
  {
   "cell_type": "code",
   "execution_count": null,
   "id": "071322a6-d0d3-4f24-be31-ac11774aca47",
   "metadata": {
    "editable": true,
    "slideshow": {
     "slide_type": ""
    },
    "tags": []
   },
   "outputs": [],
   "source": [
    "\n",
    "# 0.53766 (+/-0.007) for {'n_neighbors': 3, 'p': 1, 'weights': 'distance'}\n",
    "# 0.54873 (+/-0.008) for {'n_neighbors': 6, 'p': 1, 'weights': 'distance'}\n",
    "# 0.55621 (+/-0.007) for {'n_neighbors': 9, 'p': 1, 'weights': 'distance'}\n",
    "# 0.56121 (+/-0.008) for {'n_neighbors': 12, 'p': 1, 'weights': 'distance'}\n",
    "# 0.56505 (+/-0.010) for {'n_neighbors': 15, 'p': 1, 'weights': 'distance'}\n",
    "# 0.57179 (+/-0.011) for {'n_neighbors': 24, 'p': 1, 'weights': 'distance'}\n",
    "# 0.57694 (+/-0.012) for {'n_neighbors': 32, 'p': 1, 'weights': 'distance'}\n",
    "# 0.57842 (+/-0.013) for {'n_neighbors': 36, 'p': 1, 'weights': 'distance'}\n",
    "# 0.57964 (+/-0.013) for {'n_neighbors': 42, 'p': 1, 'weights': 'distance'}\n",
    "# 0.58258 (+/-0.012) for {'n_neighbors': 57, 'p': 1, 'weights': 'distance'}\n",
    "# 0.58379 (+/-0.011) for {'metric': 'minkowski', 'n_neighbors': 57, 'p': 2, 'weights': 'distance'}\n",
    "# 0.58498 (+/-0.012) for {'metric': 'minkowski', 'n_neighbors': 69, 'p': 2, 'weights': 'distance'}\n",
    "# 0.58603 (+/-0.013) for {'metric': 'minkowski', 'n_neighbors': 81, 'p': 2, 'weights': 'distance'}\n",
    "# 0.58645 (+/-0.013) for {'metric': 'minkowski', 'n_neighbors': 90, 'p': 2, 'weights': 'distance'}\n",
    "# 0.58720 (+/-0.014) for {'metric': 'minkowski', 'n_neighbors': 105, 'p': 2, 'weights': 'distance'}\n",
    "# 0.58766 (+/-0.015) for {'metric': 'minkowski', 'n_neighbors': 120, 'p': 2, 'weights': 'distance'}\n",
    "# 0.58784 (+/-0.014) for {'metric': 'minkowski', 'n_neighbors': 135, 'p': 2, 'weights': 'distance'}\n",
    "# 0.58775 (+/-0.014) for {'metric': 'minkowski', 'n_neighbors': 150, 'p': 2, 'weights': 'distance'}"
   ]
  },
  {
   "cell_type": "code",
   "execution_count": 140,
   "id": "dfb07897-7b02-4fa3-bf68-0d28d097f68b",
   "metadata": {
    "ExecuteTime": {
     "end_time": "2023-04-18T09:59:19.055928Z",
     "start_time": "2023-04-18T09:59:19.043124Z"
    },
    "editable": true,
    "execution": {
     "iopub.execute_input": "2024-07-31T18:48:04.699452Z",
     "iopub.status.busy": "2024-07-31T18:48:04.698796Z",
     "iopub.status.idle": "2024-07-31T18:48:04.793216Z",
     "shell.execute_reply": "2024-07-31T18:48:04.792482Z",
     "shell.execute_reply.started": "2024-07-31T18:48:04.699391Z"
    },
    "hidden": true,
    "slideshow": {
     "slide_type": ""
    },
    "tags": []
   },
   "outputs": [
    {
     "data": {
      "text/html": [
       "<style>#sk-container-id-19 {\n",
       "  /* Definition of color scheme common for light and dark mode */\n",
       "  --sklearn-color-text: black;\n",
       "  --sklearn-color-line: gray;\n",
       "  /* Definition of color scheme for unfitted estimators */\n",
       "  --sklearn-color-unfitted-level-0: #fff5e6;\n",
       "  --sklearn-color-unfitted-level-1: #f6e4d2;\n",
       "  --sklearn-color-unfitted-level-2: #ffe0b3;\n",
       "  --sklearn-color-unfitted-level-3: chocolate;\n",
       "  /* Definition of color scheme for fitted estimators */\n",
       "  --sklearn-color-fitted-level-0: #f0f8ff;\n",
       "  --sklearn-color-fitted-level-1: #d4ebff;\n",
       "  --sklearn-color-fitted-level-2: #b3dbfd;\n",
       "  --sklearn-color-fitted-level-3: cornflowerblue;\n",
       "\n",
       "  /* Specific color for light theme */\n",
       "  --sklearn-color-text-on-default-background: var(--sg-text-color, var(--theme-code-foreground, var(--jp-content-font-color1, black)));\n",
       "  --sklearn-color-background: var(--sg-background-color, var(--theme-background, var(--jp-layout-color0, white)));\n",
       "  --sklearn-color-border-box: var(--sg-text-color, var(--theme-code-foreground, var(--jp-content-font-color1, black)));\n",
       "  --sklearn-color-icon: #696969;\n",
       "\n",
       "  @media (prefers-color-scheme: dark) {\n",
       "    /* Redefinition of color scheme for dark theme */\n",
       "    --sklearn-color-text-on-default-background: var(--sg-text-color, var(--theme-code-foreground, var(--jp-content-font-color1, white)));\n",
       "    --sklearn-color-background: var(--sg-background-color, var(--theme-background, var(--jp-layout-color0, #111)));\n",
       "    --sklearn-color-border-box: var(--sg-text-color, var(--theme-code-foreground, var(--jp-content-font-color1, white)));\n",
       "    --sklearn-color-icon: #878787;\n",
       "  }\n",
       "}\n",
       "\n",
       "#sk-container-id-19 {\n",
       "  color: var(--sklearn-color-text);\n",
       "}\n",
       "\n",
       "#sk-container-id-19 pre {\n",
       "  padding: 0;\n",
       "}\n",
       "\n",
       "#sk-container-id-19 input.sk-hidden--visually {\n",
       "  border: 0;\n",
       "  clip: rect(1px 1px 1px 1px);\n",
       "  clip: rect(1px, 1px, 1px, 1px);\n",
       "  height: 1px;\n",
       "  margin: -1px;\n",
       "  overflow: hidden;\n",
       "  padding: 0;\n",
       "  position: absolute;\n",
       "  width: 1px;\n",
       "}\n",
       "\n",
       "#sk-container-id-19 div.sk-dashed-wrapped {\n",
       "  border: 1px dashed var(--sklearn-color-line);\n",
       "  margin: 0 0.4em 0.5em 0.4em;\n",
       "  box-sizing: border-box;\n",
       "  padding-bottom: 0.4em;\n",
       "  background-color: var(--sklearn-color-background);\n",
       "}\n",
       "\n",
       "#sk-container-id-19 div.sk-container {\n",
       "  /* jupyter's `normalize.less` sets `[hidden] { display: none; }`\n",
       "     but bootstrap.min.css set `[hidden] { display: none !important; }`\n",
       "     so we also need the `!important` here to be able to override the\n",
       "     default hidden behavior on the sphinx rendered scikit-learn.org.\n",
       "     See: https://github.com/scikit-learn/scikit-learn/issues/21755 */\n",
       "  display: inline-block !important;\n",
       "  position: relative;\n",
       "}\n",
       "\n",
       "#sk-container-id-19 div.sk-text-repr-fallback {\n",
       "  display: none;\n",
       "}\n",
       "\n",
       "div.sk-parallel-item,\n",
       "div.sk-serial,\n",
       "div.sk-item {\n",
       "  /* draw centered vertical line to link estimators */\n",
       "  background-image: linear-gradient(var(--sklearn-color-text-on-default-background), var(--sklearn-color-text-on-default-background));\n",
       "  background-size: 2px 100%;\n",
       "  background-repeat: no-repeat;\n",
       "  background-position: center center;\n",
       "}\n",
       "\n",
       "/* Parallel-specific style estimator block */\n",
       "\n",
       "#sk-container-id-19 div.sk-parallel-item::after {\n",
       "  content: \"\";\n",
       "  width: 100%;\n",
       "  border-bottom: 2px solid var(--sklearn-color-text-on-default-background);\n",
       "  flex-grow: 1;\n",
       "}\n",
       "\n",
       "#sk-container-id-19 div.sk-parallel {\n",
       "  display: flex;\n",
       "  align-items: stretch;\n",
       "  justify-content: center;\n",
       "  background-color: var(--sklearn-color-background);\n",
       "  position: relative;\n",
       "}\n",
       "\n",
       "#sk-container-id-19 div.sk-parallel-item {\n",
       "  display: flex;\n",
       "  flex-direction: column;\n",
       "}\n",
       "\n",
       "#sk-container-id-19 div.sk-parallel-item:first-child::after {\n",
       "  align-self: flex-end;\n",
       "  width: 50%;\n",
       "}\n",
       "\n",
       "#sk-container-id-19 div.sk-parallel-item:last-child::after {\n",
       "  align-self: flex-start;\n",
       "  width: 50%;\n",
       "}\n",
       "\n",
       "#sk-container-id-19 div.sk-parallel-item:only-child::after {\n",
       "  width: 0;\n",
       "}\n",
       "\n",
       "/* Serial-specific style estimator block */\n",
       "\n",
       "#sk-container-id-19 div.sk-serial {\n",
       "  display: flex;\n",
       "  flex-direction: column;\n",
       "  align-items: center;\n",
       "  background-color: var(--sklearn-color-background);\n",
       "  padding-right: 1em;\n",
       "  padding-left: 1em;\n",
       "}\n",
       "\n",
       "\n",
       "/* Toggleable style: style used for estimator/Pipeline/ColumnTransformer box that is\n",
       "clickable and can be expanded/collapsed.\n",
       "- Pipeline and ColumnTransformer use this feature and define the default style\n",
       "- Estimators will overwrite some part of the style using the `sk-estimator` class\n",
       "*/\n",
       "\n",
       "/* Pipeline and ColumnTransformer style (default) */\n",
       "\n",
       "#sk-container-id-19 div.sk-toggleable {\n",
       "  /* Default theme specific background. It is overwritten whether we have a\n",
       "  specific estimator or a Pipeline/ColumnTransformer */\n",
       "  background-color: var(--sklearn-color-background);\n",
       "}\n",
       "\n",
       "/* Toggleable label */\n",
       "#sk-container-id-19 label.sk-toggleable__label {\n",
       "  cursor: pointer;\n",
       "  display: block;\n",
       "  width: 100%;\n",
       "  margin-bottom: 0;\n",
       "  padding: 0.5em;\n",
       "  box-sizing: border-box;\n",
       "  text-align: center;\n",
       "}\n",
       "\n",
       "#sk-container-id-19 label.sk-toggleable__label-arrow:before {\n",
       "  /* Arrow on the left of the label */\n",
       "  content: \"▸\";\n",
       "  float: left;\n",
       "  margin-right: 0.25em;\n",
       "  color: var(--sklearn-color-icon);\n",
       "}\n",
       "\n",
       "#sk-container-id-19 label.sk-toggleable__label-arrow:hover:before {\n",
       "  color: var(--sklearn-color-text);\n",
       "}\n",
       "\n",
       "/* Toggleable content - dropdown */\n",
       "\n",
       "#sk-container-id-19 div.sk-toggleable__content {\n",
       "  max-height: 0;\n",
       "  max-width: 0;\n",
       "  overflow: hidden;\n",
       "  text-align: left;\n",
       "  /* unfitted */\n",
       "  background-color: var(--sklearn-color-unfitted-level-0);\n",
       "}\n",
       "\n",
       "#sk-container-id-19 div.sk-toggleable__content.fitted {\n",
       "  /* fitted */\n",
       "  background-color: var(--sklearn-color-fitted-level-0);\n",
       "}\n",
       "\n",
       "#sk-container-id-19 div.sk-toggleable__content pre {\n",
       "  margin: 0.2em;\n",
       "  border-radius: 0.25em;\n",
       "  color: var(--sklearn-color-text);\n",
       "  /* unfitted */\n",
       "  background-color: var(--sklearn-color-unfitted-level-0);\n",
       "}\n",
       "\n",
       "#sk-container-id-19 div.sk-toggleable__content.fitted pre {\n",
       "  /* unfitted */\n",
       "  background-color: var(--sklearn-color-fitted-level-0);\n",
       "}\n",
       "\n",
       "#sk-container-id-19 input.sk-toggleable__control:checked~div.sk-toggleable__content {\n",
       "  /* Expand drop-down */\n",
       "  max-height: 200px;\n",
       "  max-width: 100%;\n",
       "  overflow: auto;\n",
       "}\n",
       "\n",
       "#sk-container-id-19 input.sk-toggleable__control:checked~label.sk-toggleable__label-arrow:before {\n",
       "  content: \"▾\";\n",
       "}\n",
       "\n",
       "/* Pipeline/ColumnTransformer-specific style */\n",
       "\n",
       "#sk-container-id-19 div.sk-label input.sk-toggleable__control:checked~label.sk-toggleable__label {\n",
       "  color: var(--sklearn-color-text);\n",
       "  background-color: var(--sklearn-color-unfitted-level-2);\n",
       "}\n",
       "\n",
       "#sk-container-id-19 div.sk-label.fitted input.sk-toggleable__control:checked~label.sk-toggleable__label {\n",
       "  background-color: var(--sklearn-color-fitted-level-2);\n",
       "}\n",
       "\n",
       "/* Estimator-specific style */\n",
       "\n",
       "/* Colorize estimator box */\n",
       "#sk-container-id-19 div.sk-estimator input.sk-toggleable__control:checked~label.sk-toggleable__label {\n",
       "  /* unfitted */\n",
       "  background-color: var(--sklearn-color-unfitted-level-2);\n",
       "}\n",
       "\n",
       "#sk-container-id-19 div.sk-estimator.fitted input.sk-toggleable__control:checked~label.sk-toggleable__label {\n",
       "  /* fitted */\n",
       "  background-color: var(--sklearn-color-fitted-level-2);\n",
       "}\n",
       "\n",
       "#sk-container-id-19 div.sk-label label.sk-toggleable__label,\n",
       "#sk-container-id-19 div.sk-label label {\n",
       "  /* The background is the default theme color */\n",
       "  color: var(--sklearn-color-text-on-default-background);\n",
       "}\n",
       "\n",
       "/* On hover, darken the color of the background */\n",
       "#sk-container-id-19 div.sk-label:hover label.sk-toggleable__label {\n",
       "  color: var(--sklearn-color-text);\n",
       "  background-color: var(--sklearn-color-unfitted-level-2);\n",
       "}\n",
       "\n",
       "/* Label box, darken color on hover, fitted */\n",
       "#sk-container-id-19 div.sk-label.fitted:hover label.sk-toggleable__label.fitted {\n",
       "  color: var(--sklearn-color-text);\n",
       "  background-color: var(--sklearn-color-fitted-level-2);\n",
       "}\n",
       "\n",
       "/* Estimator label */\n",
       "\n",
       "#sk-container-id-19 div.sk-label label {\n",
       "  font-family: monospace;\n",
       "  font-weight: bold;\n",
       "  display: inline-block;\n",
       "  line-height: 1.2em;\n",
       "}\n",
       "\n",
       "#sk-container-id-19 div.sk-label-container {\n",
       "  text-align: center;\n",
       "}\n",
       "\n",
       "/* Estimator-specific */\n",
       "#sk-container-id-19 div.sk-estimator {\n",
       "  font-family: monospace;\n",
       "  border: 1px dotted var(--sklearn-color-border-box);\n",
       "  border-radius: 0.25em;\n",
       "  box-sizing: border-box;\n",
       "  margin-bottom: 0.5em;\n",
       "  /* unfitted */\n",
       "  background-color: var(--sklearn-color-unfitted-level-0);\n",
       "}\n",
       "\n",
       "#sk-container-id-19 div.sk-estimator.fitted {\n",
       "  /* fitted */\n",
       "  background-color: var(--sklearn-color-fitted-level-0);\n",
       "}\n",
       "\n",
       "/* on hover */\n",
       "#sk-container-id-19 div.sk-estimator:hover {\n",
       "  /* unfitted */\n",
       "  background-color: var(--sklearn-color-unfitted-level-2);\n",
       "}\n",
       "\n",
       "#sk-container-id-19 div.sk-estimator.fitted:hover {\n",
       "  /* fitted */\n",
       "  background-color: var(--sklearn-color-fitted-level-2);\n",
       "}\n",
       "\n",
       "/* Specification for estimator info (e.g. \"i\" and \"?\") */\n",
       "\n",
       "/* Common style for \"i\" and \"?\" */\n",
       "\n",
       ".sk-estimator-doc-link,\n",
       "a:link.sk-estimator-doc-link,\n",
       "a:visited.sk-estimator-doc-link {\n",
       "  float: right;\n",
       "  font-size: smaller;\n",
       "  line-height: 1em;\n",
       "  font-family: monospace;\n",
       "  background-color: var(--sklearn-color-background);\n",
       "  border-radius: 1em;\n",
       "  height: 1em;\n",
       "  width: 1em;\n",
       "  text-decoration: none !important;\n",
       "  margin-left: 1ex;\n",
       "  /* unfitted */\n",
       "  border: var(--sklearn-color-unfitted-level-1) 1pt solid;\n",
       "  color: var(--sklearn-color-unfitted-level-1);\n",
       "}\n",
       "\n",
       ".sk-estimator-doc-link.fitted,\n",
       "a:link.sk-estimator-doc-link.fitted,\n",
       "a:visited.sk-estimator-doc-link.fitted {\n",
       "  /* fitted */\n",
       "  border: var(--sklearn-color-fitted-level-1) 1pt solid;\n",
       "  color: var(--sklearn-color-fitted-level-1);\n",
       "}\n",
       "\n",
       "/* On hover */\n",
       "div.sk-estimator:hover .sk-estimator-doc-link:hover,\n",
       ".sk-estimator-doc-link:hover,\n",
       "div.sk-label-container:hover .sk-estimator-doc-link:hover,\n",
       ".sk-estimator-doc-link:hover {\n",
       "  /* unfitted */\n",
       "  background-color: var(--sklearn-color-unfitted-level-3);\n",
       "  color: var(--sklearn-color-background);\n",
       "  text-decoration: none;\n",
       "}\n",
       "\n",
       "div.sk-estimator.fitted:hover .sk-estimator-doc-link.fitted:hover,\n",
       ".sk-estimator-doc-link.fitted:hover,\n",
       "div.sk-label-container:hover .sk-estimator-doc-link.fitted:hover,\n",
       ".sk-estimator-doc-link.fitted:hover {\n",
       "  /* fitted */\n",
       "  background-color: var(--sklearn-color-fitted-level-3);\n",
       "  color: var(--sklearn-color-background);\n",
       "  text-decoration: none;\n",
       "}\n",
       "\n",
       "/* Span, style for the box shown on hovering the info icon */\n",
       ".sk-estimator-doc-link span {\n",
       "  display: none;\n",
       "  z-index: 9999;\n",
       "  position: relative;\n",
       "  font-weight: normal;\n",
       "  right: .2ex;\n",
       "  padding: .5ex;\n",
       "  margin: .5ex;\n",
       "  width: min-content;\n",
       "  min-width: 20ex;\n",
       "  max-width: 50ex;\n",
       "  color: var(--sklearn-color-text);\n",
       "  box-shadow: 2pt 2pt 4pt #999;\n",
       "  /* unfitted */\n",
       "  background: var(--sklearn-color-unfitted-level-0);\n",
       "  border: .5pt solid var(--sklearn-color-unfitted-level-3);\n",
       "}\n",
       "\n",
       ".sk-estimator-doc-link.fitted span {\n",
       "  /* fitted */\n",
       "  background: var(--sklearn-color-fitted-level-0);\n",
       "  border: var(--sklearn-color-fitted-level-3);\n",
       "}\n",
       "\n",
       ".sk-estimator-doc-link:hover span {\n",
       "  display: block;\n",
       "}\n",
       "\n",
       "/* \"?\"-specific style due to the `<a>` HTML tag */\n",
       "\n",
       "#sk-container-id-19 a.estimator_doc_link {\n",
       "  float: right;\n",
       "  font-size: 1rem;\n",
       "  line-height: 1em;\n",
       "  font-family: monospace;\n",
       "  background-color: var(--sklearn-color-background);\n",
       "  border-radius: 1rem;\n",
       "  height: 1rem;\n",
       "  width: 1rem;\n",
       "  text-decoration: none;\n",
       "  /* unfitted */\n",
       "  color: var(--sklearn-color-unfitted-level-1);\n",
       "  border: var(--sklearn-color-unfitted-level-1) 1pt solid;\n",
       "}\n",
       "\n",
       "#sk-container-id-19 a.estimator_doc_link.fitted {\n",
       "  /* fitted */\n",
       "  border: var(--sklearn-color-fitted-level-1) 1pt solid;\n",
       "  color: var(--sklearn-color-fitted-level-1);\n",
       "}\n",
       "\n",
       "/* On hover */\n",
       "#sk-container-id-19 a.estimator_doc_link:hover {\n",
       "  /* unfitted */\n",
       "  background-color: var(--sklearn-color-unfitted-level-3);\n",
       "  color: var(--sklearn-color-background);\n",
       "  text-decoration: none;\n",
       "}\n",
       "\n",
       "#sk-container-id-19 a.estimator_doc_link.fitted:hover {\n",
       "  /* fitted */\n",
       "  background-color: var(--sklearn-color-fitted-level-3);\n",
       "}\n",
       "</style><div id=\"sk-container-id-19\" class=\"sk-top-container\"><div class=\"sk-text-repr-fallback\"><pre>GridSearchCV(cv=5, estimator=KNeighborsClassifier(), n_jobs=4,\n",
       "             param_grid={&#x27;metric&#x27;: [&#x27;minkowski&#x27;],\n",
       "                         &#x27;n_neighbors&#x27;: [105, 120, 135, 150], &#x27;p&#x27;: [2],\n",
       "                         &#x27;weights&#x27;: [&#x27;distance&#x27;]},\n",
       "             scoring=&#x27;roc_auc&#x27;, verbose=4)</pre><b>In a Jupyter environment, please rerun this cell to show the HTML representation or trust the notebook. <br />On GitHub, the HTML representation is unable to render, please try loading this page with nbviewer.org.</b></div><div class=\"sk-container\" hidden><div class=\"sk-item sk-dashed-wrapped\"><div class=\"sk-label-container\"><div class=\"sk-label fitted sk-toggleable\"><input class=\"sk-toggleable__control sk-hidden--visually\" id=\"sk-estimator-id-43\" type=\"checkbox\" ><label for=\"sk-estimator-id-43\" class=\"sk-toggleable__label fitted sk-toggleable__label-arrow fitted\">&nbsp;&nbsp;GridSearchCV<a class=\"sk-estimator-doc-link fitted\" rel=\"noreferrer\" target=\"_blank\" href=\"https://scikit-learn.org/1.4/modules/generated/sklearn.model_selection.GridSearchCV.html\">?<span>Documentation for GridSearchCV</span></a><span class=\"sk-estimator-doc-link fitted\">i<span>Fitted</span></span></label><div class=\"sk-toggleable__content fitted\"><pre>GridSearchCV(cv=5, estimator=KNeighborsClassifier(), n_jobs=4,\n",
       "             param_grid={&#x27;metric&#x27;: [&#x27;minkowski&#x27;],\n",
       "                         &#x27;n_neighbors&#x27;: [105, 120, 135, 150], &#x27;p&#x27;: [2],\n",
       "                         &#x27;weights&#x27;: [&#x27;distance&#x27;]},\n",
       "             scoring=&#x27;roc_auc&#x27;, verbose=4)</pre></div> </div></div><div class=\"sk-parallel\"><div class=\"sk-parallel-item\"><div class=\"sk-item\"><div class=\"sk-label-container\"><div class=\"sk-label fitted sk-toggleable\"><input class=\"sk-toggleable__control sk-hidden--visually\" id=\"sk-estimator-id-44\" type=\"checkbox\" ><label for=\"sk-estimator-id-44\" class=\"sk-toggleable__label fitted sk-toggleable__label-arrow fitted\">estimator: KNeighborsClassifier</label><div class=\"sk-toggleable__content fitted\"><pre>KNeighborsClassifier()</pre></div> </div></div><div class=\"sk-serial\"><div class=\"sk-item\"><div class=\"sk-estimator fitted sk-toggleable\"><input class=\"sk-toggleable__control sk-hidden--visually\" id=\"sk-estimator-id-45\" type=\"checkbox\" ><label for=\"sk-estimator-id-45\" class=\"sk-toggleable__label fitted sk-toggleable__label-arrow fitted\">&nbsp;KNeighborsClassifier<a class=\"sk-estimator-doc-link fitted\" rel=\"noreferrer\" target=\"_blank\" href=\"https://scikit-learn.org/1.4/modules/generated/sklearn.neighbors.KNeighborsClassifier.html\">?<span>Documentation for KNeighborsClassifier</span></a></label><div class=\"sk-toggleable__content fitted\"><pre>KNeighborsClassifier()</pre></div> </div></div></div></div></div></div></div></div></div>"
      ],
      "text/plain": [
       "GridSearchCV(cv=5, estimator=KNeighborsClassifier(), n_jobs=4,\n",
       "             param_grid={'metric': ['minkowski'],\n",
       "                         'n_neighbors': [105, 120, 135, 150], 'p': [2],\n",
       "                         'weights': ['distance']},\n",
       "             scoring='roc_auc', verbose=4)"
      ]
     },
     "execution_count": 140,
     "metadata": {},
     "output_type": "execute_result"
    },
    {
     "name": "stdout",
     "output_type": "stream",
     "text": [
      "parameters   :\n",
      "{   'cv': 5,\n",
      "    'error_score': nan,\n",
      "    'estimator': KNeighborsClassifier(),\n",
      "    'estimator__algorithm': 'auto',\n",
      "    'estimator__leaf_size': 30,\n",
      "    'estimator__metric': 'minkowski',\n",
      "    'estimator__metric_params': None,\n",
      "    'estimator__n_jobs': None,\n",
      "    'estimator__n_neighbors': 5,\n",
      "    'estimator__p': 2,\n",
      "    'estimator__weights': 'uniform',\n",
      "    'n_jobs': 4,\n",
      "    'param_grid': {   'metric': ['minkowski'],\n",
      "                      'n_neighbors': [105, 120, 135, 150],\n",
      "                      'p': [2],\n",
      "                      'weights': ['distance']},\n",
      "    'pre_dispatch': '2*n_jobs',\n",
      "    'refit': True,\n",
      "    'return_train_score': False,\n",
      "    'scoring': 'roc_auc',\n",
      "    'verbose': 4}\n",
      "best_estimator_  :   KNeighborsClassifier(n_neighbors=135, weights='distance')\n",
      "best_index_  :       2\n",
      "best_params_ :       {'metric': 'minkowski', 'n_neighbors': 135, 'p': 2, 'weights': 'distance'}\n",
      "best_score_  :       0.5878363154701123\n",
      "classes_     :       [0. 1.]\n",
      "cv           :       5\n",
      "\n",
      "cv_results_  :       {'mean_fit_time': array([1.36337929, 1.89781885, 2.09634295, 2.03281374]), 'std_fit_time': array([0.63344249, 1.42919094, 2.5917973 , 1.69254824]), 'mean_score_time': array([67.77810826, 64.87182856, 69.70451241, 59.22344909]), 'std_score_time': array([4.37874899, 3.79207369, 5.94093188, 5.54962656]), 'param_metric': masked_array(data=['minkowski', 'minkowski', 'minkowski', 'minkowski'],\n",
      "             mask=[False, False, False, False],\n",
      "       fill_value='?',\n",
      "            dtype=object), 'param_n_neighbors': masked_array(data=[105, 120, 135, 150],\n",
      "             mask=[False, False, False, False],\n",
      "       fill_value='?',\n",
      "            dtype=object), 'param_p': masked_array(data=[2, 2, 2, 2],\n",
      "             mask=[False, False, False, False],\n",
      "       fill_value='?',\n",
      "            dtype=object), 'param_weights': masked_array(data=['distance', 'distance', 'distance', 'distance'],\n",
      "             mask=[False, False, False, False],\n",
      "       fill_value='?',\n",
      "            dtype=object), 'params': [{'metric': 'minkowski', 'n_neighbors': 105, 'p': 2, 'weights': 'distance'}, {'metric': 'minkowski', 'n_neighbors': 120, 'p': 2, 'weights': 'distance'}, {'metric': 'minkowski', 'n_neighbors': 135, 'p': 2, 'weights': 'distance'}, {'metric': 'minkowski', 'n_neighbors': 150, 'p': 2, 'weights': 'distance'}], 'split0_test_score': array([0.59756868, 0.59771791, 0.59706815, 0.59666769]), 'split1_test_score': array([0.58087045, 0.58084076, 0.58010045, 0.58008211]), 'split2_test_score': array([0.5793706 , 0.57957161, 0.58062812, 0.58093819]), 'split3_test_score': array([0.59302854, 0.59472414, 0.59527912, 0.59568235]), 'split4_test_score': array([0.58514995, 0.58545461, 0.58610573, 0.58535721]), 'mean_test_score': array([0.58719764, 0.58766181, 0.58783632, 0.58774551]), 'std_test_score': array([0.00702918, 0.00731917, 0.00714729, 0.00711857]), 'rank_test_score': array([4, 3, 1, 2], dtype=int32)}\n",
      "\n",
      "error_score  :       nan\n",
      "estimator    :       KNeighborsClassifier()\n"
     ]
    }
   ],
   "source": [
    "vt_knn_ecfp6bits\n",
    "print(f\"parameters   :\")\n",
    "pp.pprint(vt_knn_ecfp6bits.get_params())\n",
    "\n",
    "print(f\"best_estimator_  :   {vt_knn_ecfp6bits.best_estimator_}\")\n",
    "print(f\"best_index_  :       {vt_knn_ecfp6bits.best_index_}\")\n",
    "print(f\"best_params_ :       {vt_knn_ecfp6bits.best_params_}\")\n",
    "print(f\"best_score_  :       {vt_knn_ecfp6bits.best_score_}\")\n",
    "print(f\"classes_     :       {vt_knn_ecfp6bits.classes_}\")\n",
    "print(f\"cv           :       {vt_knn_ecfp6bits.cv}\")\n",
    "print()\n",
    "print(f\"cv_results_  :       {vt_knn_ecfp6bits.cv_results_}\")\n",
    "print()\n",
    "print(f\"error_score  :       {vt_knn_ecfp6bits.error_score}\")\n",
    "print(f\"estimator    :       {vt_knn_ecfp6bits.estimator}\")"
   ]
  },
  {
   "cell_type": "code",
   "execution_count": 83,
   "id": "0269a092-4522-424c-afdf-553d802af1e4",
   "metadata": {
    "execution": {
     "iopub.execute_input": "2024-07-31T17:29:17.740946Z",
     "iopub.status.busy": "2024-07-31T17:29:17.740438Z",
     "iopub.status.idle": "2024-07-31T17:29:17.790893Z",
     "shell.execute_reply": "2024-07-31T17:29:17.789792Z",
     "shell.execute_reply.started": "2024-07-31T17:29:17.740904Z"
    }
   },
   "outputs": [
    {
     "name": "stdout",
     "output_type": "stream",
     "text": [
      "0.879451\n"
     ]
    }
   ],
   "source": [
    "bcnt = np.bincount(test_y.astype(np.int64))\n",
    "print(f\"{bcnt[0]/bcnt.sum():4f}\")"
   ]
  },
  {
   "cell_type": "code",
   "execution_count": 112,
   "id": "71ef4f5a-2a94-46cb-928d-a2f76f5eccbc",
   "metadata": {
    "execution": {
     "iopub.execute_input": "2024-07-31T18:17:51.621322Z",
     "iopub.status.busy": "2024-07-31T18:17:51.620758Z",
     "iopub.status.idle": "2024-07-31T18:18:16.913630Z",
     "shell.execute_reply": "2024-07-31T18:18:16.912671Z",
     "shell.execute_reply.started": "2024-07-31T18:17:51.621269Z"
    }
   },
   "outputs": [
    {
     "data": {
      "text/plain": [
       "(34542,)"
      ]
     },
     "execution_count": 112,
     "metadata": {},
     "output_type": "execute_result"
    }
   ],
   "source": [
    "y_pred = vt_knn_ecfp6bits.best_estimator_.predict(test_X)\n",
    "y_pred.shape"
   ]
  },
  {
   "cell_type": "code",
   "execution_count": 163,
   "id": "2aed9636-8b0c-4253-8a7b-778a36a9580d",
   "metadata": {
    "execution": {
     "iopub.execute_input": "2024-07-31T18:55:57.732025Z",
     "iopub.status.busy": "2024-07-31T18:55:57.731719Z",
     "iopub.status.idle": "2024-07-31T18:55:57.806356Z",
     "shell.execute_reply": "2024-07-31T18:55:57.805369Z",
     "shell.execute_reply.started": "2024-07-31T18:55:57.732000Z"
    }
   },
   "outputs": [
    {
     "name": "stdout",
     "output_type": "stream",
     "text": [
      "Test Accuracy: 0.879567\n",
      "Precision: 0.70000   Recall: 0.00168   F1: 0.00335   True + labels: 4164.0  Predicted + labels: 10.0  Match: 30382   0.879567\n"
     ]
    }
   ],
   "source": [
    "test_accuracy = skm.accuracy_score(test_y, y_pred)\n",
    "precision, recall, f1, support = skm.precision_recall_fscore_support(test_y, y_pred, average='binary', zero_division=0)\n",
    "\n",
    "print(f\"Test Accuracy: {test_accuracy:4f}\")\n",
    "print(f\"Precision: {precision:.5f}   Recall: {recall:.5f}   F1: {f1:.5f} \"\n",
    "      f\"  True + labels: {test_y.sum()}  Predicted + labels: {y_pred.sum()}  \"\n",
    "      f\"Match: {(y_pred == test_y).sum()}   {(y_pred == test_y).sum()/test_y.shape[0]:.6f}\" )"
   ]
  },
  {
   "cell_type": "markdown",
   "id": "02eb14cc-b04f-412f-acc8-814a1e55cc13",
   "metadata": {},
   "source": [
    "### Persist Model"
   ]
  },
  {
   "cell_type": "code",
   "execution_count": 142,
   "id": "b02215ab-888c-4360-813d-aa7e3e8f54b7",
   "metadata": {
    "execution": {
     "iopub.execute_input": "2024-07-31T18:48:30.141366Z",
     "iopub.status.busy": "2024-07-31T18:48:30.140848Z",
     "iopub.status.idle": "2024-07-31T18:48:30.186698Z",
     "shell.execute_reply": "2024-07-31T18:48:30.185993Z",
     "shell.execute_reply.started": "2024-07-31T18:48:30.141327Z"
    }
   },
   "outputs": [],
   "source": [
    "FILENAME = 'KNN_estimators_2.pkl'"
   ]
  },
  {
   "cell_type": "code",
   "execution_count": 143,
   "id": "f237948b-ad95-43c6-8895-6aabd0953585",
   "metadata": {
    "execution": {
     "iopub.execute_input": "2024-07-31T18:48:32.309366Z",
     "iopub.status.busy": "2024-07-31T18:48:32.308857Z",
     "iopub.status.idle": "2024-07-31T18:48:34.796474Z",
     "shell.execute_reply": "2024-07-31T18:48:34.795819Z",
     "shell.execute_reply.started": "2024-07-31T18:48:32.309325Z"
    }
   },
   "outputs": [
    {
     "name": "stdout",
     "output_type": "stream",
     "text": [
      " save_to_pickle(): save data to KNN_estimators_2.pkl\n"
     ]
    }
   ],
   "source": [
    "save_to_pickle(vt_knn_ecfp6bits, '', FILENAME, verbose = True)"
   ]
  },
  {
   "cell_type": "markdown",
   "id": "af3911d8-cc2b-49e3-9187-c9d2a6aedd9c",
   "metadata": {},
   "source": [
    "### Load Model"
   ]
  },
  {
   "cell_type": "code",
   "execution_count": 142,
   "id": "fa6b33b6-3c19-45d3-8662-578185a8af0c",
   "metadata": {
    "execution": {
     "iopub.execute_input": "2024-07-31T18:48:30.141366Z",
     "iopub.status.busy": "2024-07-31T18:48:30.140848Z",
     "iopub.status.idle": "2024-07-31T18:48:30.186698Z",
     "shell.execute_reply": "2024-07-31T18:48:30.185993Z",
     "shell.execute_reply.started": "2024-07-31T18:48:30.141327Z"
    }
   },
   "outputs": [],
   "source": [
    "FILENAME = 'KNN_estimators_2.pkl'"
   ]
  },
  {
   "cell_type": "code",
   "execution_count": 144,
   "id": "396d9fd3-4143-46d8-8304-2f2d19b8f256",
   "metadata": {
    "execution": {
     "iopub.execute_input": "2024-07-31T18:48:35.731737Z",
     "iopub.status.busy": "2024-07-31T18:48:35.731164Z",
     "iopub.status.idle": "2024-07-31T18:48:36.032130Z",
     "shell.execute_reply": "2024-07-31T18:48:36.031366Z",
     "shell.execute_reply.started": "2024-07-31T18:48:35.731695Z"
    }
   },
   "outputs": [],
   "source": [
    "knn_estimators = load_from_pickle('', FILENAME)"
   ]
  },
  {
   "cell_type": "code",
   "execution_count": 165,
   "id": "c818861a-04e5-40f7-8870-f4c7f1da8a50",
   "metadata": {
    "execution": {
     "iopub.execute_input": "2024-07-31T18:58:07.594653Z",
     "iopub.status.busy": "2024-07-31T18:58:07.593958Z",
     "iopub.status.idle": "2024-07-31T18:58:07.664851Z",
     "shell.execute_reply": "2024-07-31T18:58:07.664196Z",
     "shell.execute_reply.started": "2024-07-31T18:58:07.594598Z"
    }
   },
   "outputs": [
    {
     "data": {
      "text/html": [
       "<style>#sk-container-id-24 {\n",
       "  /* Definition of color scheme common for light and dark mode */\n",
       "  --sklearn-color-text: black;\n",
       "  --sklearn-color-line: gray;\n",
       "  /* Definition of color scheme for unfitted estimators */\n",
       "  --sklearn-color-unfitted-level-0: #fff5e6;\n",
       "  --sklearn-color-unfitted-level-1: #f6e4d2;\n",
       "  --sklearn-color-unfitted-level-2: #ffe0b3;\n",
       "  --sklearn-color-unfitted-level-3: chocolate;\n",
       "  /* Definition of color scheme for fitted estimators */\n",
       "  --sklearn-color-fitted-level-0: #f0f8ff;\n",
       "  --sklearn-color-fitted-level-1: #d4ebff;\n",
       "  --sklearn-color-fitted-level-2: #b3dbfd;\n",
       "  --sklearn-color-fitted-level-3: cornflowerblue;\n",
       "\n",
       "  /* Specific color for light theme */\n",
       "  --sklearn-color-text-on-default-background: var(--sg-text-color, var(--theme-code-foreground, var(--jp-content-font-color1, black)));\n",
       "  --sklearn-color-background: var(--sg-background-color, var(--theme-background, var(--jp-layout-color0, white)));\n",
       "  --sklearn-color-border-box: var(--sg-text-color, var(--theme-code-foreground, var(--jp-content-font-color1, black)));\n",
       "  --sklearn-color-icon: #696969;\n",
       "\n",
       "  @media (prefers-color-scheme: dark) {\n",
       "    /* Redefinition of color scheme for dark theme */\n",
       "    --sklearn-color-text-on-default-background: var(--sg-text-color, var(--theme-code-foreground, var(--jp-content-font-color1, white)));\n",
       "    --sklearn-color-background: var(--sg-background-color, var(--theme-background, var(--jp-layout-color0, #111)));\n",
       "    --sklearn-color-border-box: var(--sg-text-color, var(--theme-code-foreground, var(--jp-content-font-color1, white)));\n",
       "    --sklearn-color-icon: #878787;\n",
       "  }\n",
       "}\n",
       "\n",
       "#sk-container-id-24 {\n",
       "  color: var(--sklearn-color-text);\n",
       "}\n",
       "\n",
       "#sk-container-id-24 pre {\n",
       "  padding: 0;\n",
       "}\n",
       "\n",
       "#sk-container-id-24 input.sk-hidden--visually {\n",
       "  border: 0;\n",
       "  clip: rect(1px 1px 1px 1px);\n",
       "  clip: rect(1px, 1px, 1px, 1px);\n",
       "  height: 1px;\n",
       "  margin: -1px;\n",
       "  overflow: hidden;\n",
       "  padding: 0;\n",
       "  position: absolute;\n",
       "  width: 1px;\n",
       "}\n",
       "\n",
       "#sk-container-id-24 div.sk-dashed-wrapped {\n",
       "  border: 1px dashed var(--sklearn-color-line);\n",
       "  margin: 0 0.4em 0.5em 0.4em;\n",
       "  box-sizing: border-box;\n",
       "  padding-bottom: 0.4em;\n",
       "  background-color: var(--sklearn-color-background);\n",
       "}\n",
       "\n",
       "#sk-container-id-24 div.sk-container {\n",
       "  /* jupyter's `normalize.less` sets `[hidden] { display: none; }`\n",
       "     but bootstrap.min.css set `[hidden] { display: none !important; }`\n",
       "     so we also need the `!important` here to be able to override the\n",
       "     default hidden behavior on the sphinx rendered scikit-learn.org.\n",
       "     See: https://github.com/scikit-learn/scikit-learn/issues/21755 */\n",
       "  display: inline-block !important;\n",
       "  position: relative;\n",
       "}\n",
       "\n",
       "#sk-container-id-24 div.sk-text-repr-fallback {\n",
       "  display: none;\n",
       "}\n",
       "\n",
       "div.sk-parallel-item,\n",
       "div.sk-serial,\n",
       "div.sk-item {\n",
       "  /* draw centered vertical line to link estimators */\n",
       "  background-image: linear-gradient(var(--sklearn-color-text-on-default-background), var(--sklearn-color-text-on-default-background));\n",
       "  background-size: 2px 100%;\n",
       "  background-repeat: no-repeat;\n",
       "  background-position: center center;\n",
       "}\n",
       "\n",
       "/* Parallel-specific style estimator block */\n",
       "\n",
       "#sk-container-id-24 div.sk-parallel-item::after {\n",
       "  content: \"\";\n",
       "  width: 100%;\n",
       "  border-bottom: 2px solid var(--sklearn-color-text-on-default-background);\n",
       "  flex-grow: 1;\n",
       "}\n",
       "\n",
       "#sk-container-id-24 div.sk-parallel {\n",
       "  display: flex;\n",
       "  align-items: stretch;\n",
       "  justify-content: center;\n",
       "  background-color: var(--sklearn-color-background);\n",
       "  position: relative;\n",
       "}\n",
       "\n",
       "#sk-container-id-24 div.sk-parallel-item {\n",
       "  display: flex;\n",
       "  flex-direction: column;\n",
       "}\n",
       "\n",
       "#sk-container-id-24 div.sk-parallel-item:first-child::after {\n",
       "  align-self: flex-end;\n",
       "  width: 50%;\n",
       "}\n",
       "\n",
       "#sk-container-id-24 div.sk-parallel-item:last-child::after {\n",
       "  align-self: flex-start;\n",
       "  width: 50%;\n",
       "}\n",
       "\n",
       "#sk-container-id-24 div.sk-parallel-item:only-child::after {\n",
       "  width: 0;\n",
       "}\n",
       "\n",
       "/* Serial-specific style estimator block */\n",
       "\n",
       "#sk-container-id-24 div.sk-serial {\n",
       "  display: flex;\n",
       "  flex-direction: column;\n",
       "  align-items: center;\n",
       "  background-color: var(--sklearn-color-background);\n",
       "  padding-right: 1em;\n",
       "  padding-left: 1em;\n",
       "}\n",
       "\n",
       "\n",
       "/* Toggleable style: style used for estimator/Pipeline/ColumnTransformer box that is\n",
       "clickable and can be expanded/collapsed.\n",
       "- Pipeline and ColumnTransformer use this feature and define the default style\n",
       "- Estimators will overwrite some part of the style using the `sk-estimator` class\n",
       "*/\n",
       "\n",
       "/* Pipeline and ColumnTransformer style (default) */\n",
       "\n",
       "#sk-container-id-24 div.sk-toggleable {\n",
       "  /* Default theme specific background. It is overwritten whether we have a\n",
       "  specific estimator or a Pipeline/ColumnTransformer */\n",
       "  background-color: var(--sklearn-color-background);\n",
       "}\n",
       "\n",
       "/* Toggleable label */\n",
       "#sk-container-id-24 label.sk-toggleable__label {\n",
       "  cursor: pointer;\n",
       "  display: block;\n",
       "  width: 100%;\n",
       "  margin-bottom: 0;\n",
       "  padding: 0.5em;\n",
       "  box-sizing: border-box;\n",
       "  text-align: center;\n",
       "}\n",
       "\n",
       "#sk-container-id-24 label.sk-toggleable__label-arrow:before {\n",
       "  /* Arrow on the left of the label */\n",
       "  content: \"▸\";\n",
       "  float: left;\n",
       "  margin-right: 0.25em;\n",
       "  color: var(--sklearn-color-icon);\n",
       "}\n",
       "\n",
       "#sk-container-id-24 label.sk-toggleable__label-arrow:hover:before {\n",
       "  color: var(--sklearn-color-text);\n",
       "}\n",
       "\n",
       "/* Toggleable content - dropdown */\n",
       "\n",
       "#sk-container-id-24 div.sk-toggleable__content {\n",
       "  max-height: 0;\n",
       "  max-width: 0;\n",
       "  overflow: hidden;\n",
       "  text-align: left;\n",
       "  /* unfitted */\n",
       "  background-color: var(--sklearn-color-unfitted-level-0);\n",
       "}\n",
       "\n",
       "#sk-container-id-24 div.sk-toggleable__content.fitted {\n",
       "  /* fitted */\n",
       "  background-color: var(--sklearn-color-fitted-level-0);\n",
       "}\n",
       "\n",
       "#sk-container-id-24 div.sk-toggleable__content pre {\n",
       "  margin: 0.2em;\n",
       "  border-radius: 0.25em;\n",
       "  color: var(--sklearn-color-text);\n",
       "  /* unfitted */\n",
       "  background-color: var(--sklearn-color-unfitted-level-0);\n",
       "}\n",
       "\n",
       "#sk-container-id-24 div.sk-toggleable__content.fitted pre {\n",
       "  /* unfitted */\n",
       "  background-color: var(--sklearn-color-fitted-level-0);\n",
       "}\n",
       "\n",
       "#sk-container-id-24 input.sk-toggleable__control:checked~div.sk-toggleable__content {\n",
       "  /* Expand drop-down */\n",
       "  max-height: 200px;\n",
       "  max-width: 100%;\n",
       "  overflow: auto;\n",
       "}\n",
       "\n",
       "#sk-container-id-24 input.sk-toggleable__control:checked~label.sk-toggleable__label-arrow:before {\n",
       "  content: \"▾\";\n",
       "}\n",
       "\n",
       "/* Pipeline/ColumnTransformer-specific style */\n",
       "\n",
       "#sk-container-id-24 div.sk-label input.sk-toggleable__control:checked~label.sk-toggleable__label {\n",
       "  color: var(--sklearn-color-text);\n",
       "  background-color: var(--sklearn-color-unfitted-level-2);\n",
       "}\n",
       "\n",
       "#sk-container-id-24 div.sk-label.fitted input.sk-toggleable__control:checked~label.sk-toggleable__label {\n",
       "  background-color: var(--sklearn-color-fitted-level-2);\n",
       "}\n",
       "\n",
       "/* Estimator-specific style */\n",
       "\n",
       "/* Colorize estimator box */\n",
       "#sk-container-id-24 div.sk-estimator input.sk-toggleable__control:checked~label.sk-toggleable__label {\n",
       "  /* unfitted */\n",
       "  background-color: var(--sklearn-color-unfitted-level-2);\n",
       "}\n",
       "\n",
       "#sk-container-id-24 div.sk-estimator.fitted input.sk-toggleable__control:checked~label.sk-toggleable__label {\n",
       "  /* fitted */\n",
       "  background-color: var(--sklearn-color-fitted-level-2);\n",
       "}\n",
       "\n",
       "#sk-container-id-24 div.sk-label label.sk-toggleable__label,\n",
       "#sk-container-id-24 div.sk-label label {\n",
       "  /* The background is the default theme color */\n",
       "  color: var(--sklearn-color-text-on-default-background);\n",
       "}\n",
       "\n",
       "/* On hover, darken the color of the background */\n",
       "#sk-container-id-24 div.sk-label:hover label.sk-toggleable__label {\n",
       "  color: var(--sklearn-color-text);\n",
       "  background-color: var(--sklearn-color-unfitted-level-2);\n",
       "}\n",
       "\n",
       "/* Label box, darken color on hover, fitted */\n",
       "#sk-container-id-24 div.sk-label.fitted:hover label.sk-toggleable__label.fitted {\n",
       "  color: var(--sklearn-color-text);\n",
       "  background-color: var(--sklearn-color-fitted-level-2);\n",
       "}\n",
       "\n",
       "/* Estimator label */\n",
       "\n",
       "#sk-container-id-24 div.sk-label label {\n",
       "  font-family: monospace;\n",
       "  font-weight: bold;\n",
       "  display: inline-block;\n",
       "  line-height: 1.2em;\n",
       "}\n",
       "\n",
       "#sk-container-id-24 div.sk-label-container {\n",
       "  text-align: center;\n",
       "}\n",
       "\n",
       "/* Estimator-specific */\n",
       "#sk-container-id-24 div.sk-estimator {\n",
       "  font-family: monospace;\n",
       "  border: 1px dotted var(--sklearn-color-border-box);\n",
       "  border-radius: 0.25em;\n",
       "  box-sizing: border-box;\n",
       "  margin-bottom: 0.5em;\n",
       "  /* unfitted */\n",
       "  background-color: var(--sklearn-color-unfitted-level-0);\n",
       "}\n",
       "\n",
       "#sk-container-id-24 div.sk-estimator.fitted {\n",
       "  /* fitted */\n",
       "  background-color: var(--sklearn-color-fitted-level-0);\n",
       "}\n",
       "\n",
       "/* on hover */\n",
       "#sk-container-id-24 div.sk-estimator:hover {\n",
       "  /* unfitted */\n",
       "  background-color: var(--sklearn-color-unfitted-level-2);\n",
       "}\n",
       "\n",
       "#sk-container-id-24 div.sk-estimator.fitted:hover {\n",
       "  /* fitted */\n",
       "  background-color: var(--sklearn-color-fitted-level-2);\n",
       "}\n",
       "\n",
       "/* Specification for estimator info (e.g. \"i\" and \"?\") */\n",
       "\n",
       "/* Common style for \"i\" and \"?\" */\n",
       "\n",
       ".sk-estimator-doc-link,\n",
       "a:link.sk-estimator-doc-link,\n",
       "a:visited.sk-estimator-doc-link {\n",
       "  float: right;\n",
       "  font-size: smaller;\n",
       "  line-height: 1em;\n",
       "  font-family: monospace;\n",
       "  background-color: var(--sklearn-color-background);\n",
       "  border-radius: 1em;\n",
       "  height: 1em;\n",
       "  width: 1em;\n",
       "  text-decoration: none !important;\n",
       "  margin-left: 1ex;\n",
       "  /* unfitted */\n",
       "  border: var(--sklearn-color-unfitted-level-1) 1pt solid;\n",
       "  color: var(--sklearn-color-unfitted-level-1);\n",
       "}\n",
       "\n",
       ".sk-estimator-doc-link.fitted,\n",
       "a:link.sk-estimator-doc-link.fitted,\n",
       "a:visited.sk-estimator-doc-link.fitted {\n",
       "  /* fitted */\n",
       "  border: var(--sklearn-color-fitted-level-1) 1pt solid;\n",
       "  color: var(--sklearn-color-fitted-level-1);\n",
       "}\n",
       "\n",
       "/* On hover */\n",
       "div.sk-estimator:hover .sk-estimator-doc-link:hover,\n",
       ".sk-estimator-doc-link:hover,\n",
       "div.sk-label-container:hover .sk-estimator-doc-link:hover,\n",
       ".sk-estimator-doc-link:hover {\n",
       "  /* unfitted */\n",
       "  background-color: var(--sklearn-color-unfitted-level-3);\n",
       "  color: var(--sklearn-color-background);\n",
       "  text-decoration: none;\n",
       "}\n",
       "\n",
       "div.sk-estimator.fitted:hover .sk-estimator-doc-link.fitted:hover,\n",
       ".sk-estimator-doc-link.fitted:hover,\n",
       "div.sk-label-container:hover .sk-estimator-doc-link.fitted:hover,\n",
       ".sk-estimator-doc-link.fitted:hover {\n",
       "  /* fitted */\n",
       "  background-color: var(--sklearn-color-fitted-level-3);\n",
       "  color: var(--sklearn-color-background);\n",
       "  text-decoration: none;\n",
       "}\n",
       "\n",
       "/* Span, style for the box shown on hovering the info icon */\n",
       ".sk-estimator-doc-link span {\n",
       "  display: none;\n",
       "  z-index: 9999;\n",
       "  position: relative;\n",
       "  font-weight: normal;\n",
       "  right: .2ex;\n",
       "  padding: .5ex;\n",
       "  margin: .5ex;\n",
       "  width: min-content;\n",
       "  min-width: 20ex;\n",
       "  max-width: 50ex;\n",
       "  color: var(--sklearn-color-text);\n",
       "  box-shadow: 2pt 2pt 4pt #999;\n",
       "  /* unfitted */\n",
       "  background: var(--sklearn-color-unfitted-level-0);\n",
       "  border: .5pt solid var(--sklearn-color-unfitted-level-3);\n",
       "}\n",
       "\n",
       ".sk-estimator-doc-link.fitted span {\n",
       "  /* fitted */\n",
       "  background: var(--sklearn-color-fitted-level-0);\n",
       "  border: var(--sklearn-color-fitted-level-3);\n",
       "}\n",
       "\n",
       ".sk-estimator-doc-link:hover span {\n",
       "  display: block;\n",
       "}\n",
       "\n",
       "/* \"?\"-specific style due to the `<a>` HTML tag */\n",
       "\n",
       "#sk-container-id-24 a.estimator_doc_link {\n",
       "  float: right;\n",
       "  font-size: 1rem;\n",
       "  line-height: 1em;\n",
       "  font-family: monospace;\n",
       "  background-color: var(--sklearn-color-background);\n",
       "  border-radius: 1rem;\n",
       "  height: 1rem;\n",
       "  width: 1rem;\n",
       "  text-decoration: none;\n",
       "  /* unfitted */\n",
       "  color: var(--sklearn-color-unfitted-level-1);\n",
       "  border: var(--sklearn-color-unfitted-level-1) 1pt solid;\n",
       "}\n",
       "\n",
       "#sk-container-id-24 a.estimator_doc_link.fitted {\n",
       "  /* fitted */\n",
       "  border: var(--sklearn-color-fitted-level-1) 1pt solid;\n",
       "  color: var(--sklearn-color-fitted-level-1);\n",
       "}\n",
       "\n",
       "/* On hover */\n",
       "#sk-container-id-24 a.estimator_doc_link:hover {\n",
       "  /* unfitted */\n",
       "  background-color: var(--sklearn-color-unfitted-level-3);\n",
       "  color: var(--sklearn-color-background);\n",
       "  text-decoration: none;\n",
       "}\n",
       "\n",
       "#sk-container-id-24 a.estimator_doc_link.fitted:hover {\n",
       "  /* fitted */\n",
       "  background-color: var(--sklearn-color-fitted-level-3);\n",
       "}\n",
       "</style><div id=\"sk-container-id-24\" class=\"sk-top-container\"><div class=\"sk-text-repr-fallback\"><pre>GridSearchCV(cv=5, estimator=KNeighborsClassifier(), n_jobs=4,\n",
       "             param_grid={&#x27;metric&#x27;: [&#x27;minkowski&#x27;],\n",
       "                         &#x27;n_neighbors&#x27;: [57, 69, 81, 90], &#x27;p&#x27;: [2],\n",
       "                         &#x27;weights&#x27;: [&#x27;distance&#x27;]},\n",
       "             scoring=&#x27;roc_auc&#x27;, verbose=1)</pre><b>In a Jupyter environment, please rerun this cell to show the HTML representation or trust the notebook. <br />On GitHub, the HTML representation is unable to render, please try loading this page with nbviewer.org.</b></div><div class=\"sk-container\" hidden><div class=\"sk-item sk-dashed-wrapped\"><div class=\"sk-label-container\"><div class=\"sk-label fitted sk-toggleable\"><input class=\"sk-toggleable__control sk-hidden--visually\" id=\"sk-estimator-id-58\" type=\"checkbox\" ><label for=\"sk-estimator-id-58\" class=\"sk-toggleable__label fitted sk-toggleable__label-arrow fitted\">&nbsp;&nbsp;GridSearchCV<a class=\"sk-estimator-doc-link fitted\" rel=\"noreferrer\" target=\"_blank\" href=\"https://scikit-learn.org/1.4/modules/generated/sklearn.model_selection.GridSearchCV.html\">?<span>Documentation for GridSearchCV</span></a><span class=\"sk-estimator-doc-link fitted\">i<span>Fitted</span></span></label><div class=\"sk-toggleable__content fitted\"><pre>GridSearchCV(cv=5, estimator=KNeighborsClassifier(), n_jobs=4,\n",
       "             param_grid={&#x27;metric&#x27;: [&#x27;minkowski&#x27;],\n",
       "                         &#x27;n_neighbors&#x27;: [57, 69, 81, 90], &#x27;p&#x27;: [2],\n",
       "                         &#x27;weights&#x27;: [&#x27;distance&#x27;]},\n",
       "             scoring=&#x27;roc_auc&#x27;, verbose=1)</pre></div> </div></div><div class=\"sk-parallel\"><div class=\"sk-parallel-item\"><div class=\"sk-item\"><div class=\"sk-label-container\"><div class=\"sk-label fitted sk-toggleable\"><input class=\"sk-toggleable__control sk-hidden--visually\" id=\"sk-estimator-id-59\" type=\"checkbox\" ><label for=\"sk-estimator-id-59\" class=\"sk-toggleable__label fitted sk-toggleable__label-arrow fitted\">estimator: KNeighborsClassifier</label><div class=\"sk-toggleable__content fitted\"><pre>KNeighborsClassifier()</pre></div> </div></div><div class=\"sk-serial\"><div class=\"sk-item\"><div class=\"sk-estimator fitted sk-toggleable\"><input class=\"sk-toggleable__control sk-hidden--visually\" id=\"sk-estimator-id-60\" type=\"checkbox\" ><label for=\"sk-estimator-id-60\" class=\"sk-toggleable__label fitted sk-toggleable__label-arrow fitted\">&nbsp;KNeighborsClassifier<a class=\"sk-estimator-doc-link fitted\" rel=\"noreferrer\" target=\"_blank\" href=\"https://scikit-learn.org/1.4/modules/generated/sklearn.neighbors.KNeighborsClassifier.html\">?<span>Documentation for KNeighborsClassifier</span></a></label><div class=\"sk-toggleable__content fitted\"><pre>KNeighborsClassifier()</pre></div> </div></div></div></div></div></div></div></div></div>"
      ],
      "text/plain": [
       "GridSearchCV(cv=5, estimator=KNeighborsClassifier(), n_jobs=4,\n",
       "             param_grid={'metric': ['minkowski'],\n",
       "                         'n_neighbors': [57, 69, 81, 90], 'p': [2],\n",
       "                         'weights': ['distance']},\n",
       "             scoring='roc_auc', verbose=1)"
      ]
     },
     "execution_count": 165,
     "metadata": {},
     "output_type": "execute_result"
    },
    {
     "name": "stdout",
     "output_type": "stream",
     "text": [
      "parameters   :\n",
      "{   'cv': 5,\n",
      "    'error_score': nan,\n",
      "    'estimator': KNeighborsClassifier(),\n",
      "    'estimator__algorithm': 'auto',\n",
      "    'estimator__leaf_size': 30,\n",
      "    'estimator__metric': 'minkowski',\n",
      "    'estimator__metric_params': None,\n",
      "    'estimator__n_jobs': None,\n",
      "    'estimator__n_neighbors': 5,\n",
      "    'estimator__p': 2,\n",
      "    'estimator__weights': 'uniform',\n",
      "    'n_jobs': 4,\n",
      "    'param_grid': {   'metric': ['minkowski'],\n",
      "                      'n_neighbors': [57, 69, 81, 90],\n",
      "                      'p': [2],\n",
      "                      'weights': ['distance']},\n",
      "    'pre_dispatch': '2*n_jobs',\n",
      "    'refit': True,\n",
      "    'return_train_score': False,\n",
      "    'scoring': 'roc_auc',\n",
      "    'verbose': 1}\n",
      "\n",
      "best_estimator_  :   KNeighborsClassifier(n_neighbors=90, weights='distance')\n"
     ]
    }
   ],
   "source": [
    "knn_estimators\n",
    "print()\n",
    "print(f\"best_estimator_  :   {knn_estimators.best_estimator_}\")\n"
   ]
  },
  {
   "cell_type": "markdown",
   "id": "10c003b2-af8b-4284-9233-5f16824d7376",
   "metadata": {},
   "source": [
    "## Metrics - `KNN_estimators_1`"
   ]
  },
  {
   "cell_type": "code",
   "execution_count": 303,
   "id": "036b4db4-f642-4522-9047-27debd78c07b",
   "metadata": {
    "execution": {
     "iopub.execute_input": "2024-08-02T20:33:54.223269Z",
     "iopub.status.busy": "2024-08-02T20:33:54.222719Z",
     "iopub.status.idle": "2024-08-02T20:33:54.268681Z",
     "shell.execute_reply": "2024-08-02T20:33:54.267923Z",
     "shell.execute_reply.started": "2024-08-02T20:33:54.223229Z"
    }
   },
   "outputs": [],
   "source": [
    "FILENAME = 'KNN_estimators_1.pkl'"
   ]
  },
  {
   "cell_type": "code",
   "execution_count": 304,
   "id": "c2838987-4d63-49a9-a1d6-39770978ff81",
   "metadata": {
    "execution": {
     "iopub.execute_input": "2024-08-02T20:33:56.881175Z",
     "iopub.status.busy": "2024-08-02T20:33:56.880677Z",
     "iopub.status.idle": "2024-08-02T20:33:57.188044Z",
     "shell.execute_reply": "2024-08-02T20:33:57.186995Z",
     "shell.execute_reply.started": "2024-08-02T20:33:56.881134Z"
    }
   },
   "outputs": [
    {
     "data": {
      "text/html": [
       "<style>#sk-container-id-11 {\n",
       "  /* Definition of color scheme common for light and dark mode */\n",
       "  --sklearn-color-text: black;\n",
       "  --sklearn-color-line: gray;\n",
       "  /* Definition of color scheme for unfitted estimators */\n",
       "  --sklearn-color-unfitted-level-0: #fff5e6;\n",
       "  --sklearn-color-unfitted-level-1: #f6e4d2;\n",
       "  --sklearn-color-unfitted-level-2: #ffe0b3;\n",
       "  --sklearn-color-unfitted-level-3: chocolate;\n",
       "  /* Definition of color scheme for fitted estimators */\n",
       "  --sklearn-color-fitted-level-0: #f0f8ff;\n",
       "  --sklearn-color-fitted-level-1: #d4ebff;\n",
       "  --sklearn-color-fitted-level-2: #b3dbfd;\n",
       "  --sklearn-color-fitted-level-3: cornflowerblue;\n",
       "\n",
       "  /* Specific color for light theme */\n",
       "  --sklearn-color-text-on-default-background: var(--sg-text-color, var(--theme-code-foreground, var(--jp-content-font-color1, black)));\n",
       "  --sklearn-color-background: var(--sg-background-color, var(--theme-background, var(--jp-layout-color0, white)));\n",
       "  --sklearn-color-border-box: var(--sg-text-color, var(--theme-code-foreground, var(--jp-content-font-color1, black)));\n",
       "  --sklearn-color-icon: #696969;\n",
       "\n",
       "  @media (prefers-color-scheme: dark) {\n",
       "    /* Redefinition of color scheme for dark theme */\n",
       "    --sklearn-color-text-on-default-background: var(--sg-text-color, var(--theme-code-foreground, var(--jp-content-font-color1, white)));\n",
       "    --sklearn-color-background: var(--sg-background-color, var(--theme-background, var(--jp-layout-color0, #111)));\n",
       "    --sklearn-color-border-box: var(--sg-text-color, var(--theme-code-foreground, var(--jp-content-font-color1, white)));\n",
       "    --sklearn-color-icon: #878787;\n",
       "  }\n",
       "}\n",
       "\n",
       "#sk-container-id-11 {\n",
       "  color: var(--sklearn-color-text);\n",
       "}\n",
       "\n",
       "#sk-container-id-11 pre {\n",
       "  padding: 0;\n",
       "}\n",
       "\n",
       "#sk-container-id-11 input.sk-hidden--visually {\n",
       "  border: 0;\n",
       "  clip: rect(1px 1px 1px 1px);\n",
       "  clip: rect(1px, 1px, 1px, 1px);\n",
       "  height: 1px;\n",
       "  margin: -1px;\n",
       "  overflow: hidden;\n",
       "  padding: 0;\n",
       "  position: absolute;\n",
       "  width: 1px;\n",
       "}\n",
       "\n",
       "#sk-container-id-11 div.sk-dashed-wrapped {\n",
       "  border: 1px dashed var(--sklearn-color-line);\n",
       "  margin: 0 0.4em 0.5em 0.4em;\n",
       "  box-sizing: border-box;\n",
       "  padding-bottom: 0.4em;\n",
       "  background-color: var(--sklearn-color-background);\n",
       "}\n",
       "\n",
       "#sk-container-id-11 div.sk-container {\n",
       "  /* jupyter's `normalize.less` sets `[hidden] { display: none; }`\n",
       "     but bootstrap.min.css set `[hidden] { display: none !important; }`\n",
       "     so we also need the `!important` here to be able to override the\n",
       "     default hidden behavior on the sphinx rendered scikit-learn.org.\n",
       "     See: https://github.com/scikit-learn/scikit-learn/issues/21755 */\n",
       "  display: inline-block !important;\n",
       "  position: relative;\n",
       "}\n",
       "\n",
       "#sk-container-id-11 div.sk-text-repr-fallback {\n",
       "  display: none;\n",
       "}\n",
       "\n",
       "div.sk-parallel-item,\n",
       "div.sk-serial,\n",
       "div.sk-item {\n",
       "  /* draw centered vertical line to link estimators */\n",
       "  background-image: linear-gradient(var(--sklearn-color-text-on-default-background), var(--sklearn-color-text-on-default-background));\n",
       "  background-size: 2px 100%;\n",
       "  background-repeat: no-repeat;\n",
       "  background-position: center center;\n",
       "}\n",
       "\n",
       "/* Parallel-specific style estimator block */\n",
       "\n",
       "#sk-container-id-11 div.sk-parallel-item::after {\n",
       "  content: \"\";\n",
       "  width: 100%;\n",
       "  border-bottom: 2px solid var(--sklearn-color-text-on-default-background);\n",
       "  flex-grow: 1;\n",
       "}\n",
       "\n",
       "#sk-container-id-11 div.sk-parallel {\n",
       "  display: flex;\n",
       "  align-items: stretch;\n",
       "  justify-content: center;\n",
       "  background-color: var(--sklearn-color-background);\n",
       "  position: relative;\n",
       "}\n",
       "\n",
       "#sk-container-id-11 div.sk-parallel-item {\n",
       "  display: flex;\n",
       "  flex-direction: column;\n",
       "}\n",
       "\n",
       "#sk-container-id-11 div.sk-parallel-item:first-child::after {\n",
       "  align-self: flex-end;\n",
       "  width: 50%;\n",
       "}\n",
       "\n",
       "#sk-container-id-11 div.sk-parallel-item:last-child::after {\n",
       "  align-self: flex-start;\n",
       "  width: 50%;\n",
       "}\n",
       "\n",
       "#sk-container-id-11 div.sk-parallel-item:only-child::after {\n",
       "  width: 0;\n",
       "}\n",
       "\n",
       "/* Serial-specific style estimator block */\n",
       "\n",
       "#sk-container-id-11 div.sk-serial {\n",
       "  display: flex;\n",
       "  flex-direction: column;\n",
       "  align-items: center;\n",
       "  background-color: var(--sklearn-color-background);\n",
       "  padding-right: 1em;\n",
       "  padding-left: 1em;\n",
       "}\n",
       "\n",
       "\n",
       "/* Toggleable style: style used for estimator/Pipeline/ColumnTransformer box that is\n",
       "clickable and can be expanded/collapsed.\n",
       "- Pipeline and ColumnTransformer use this feature and define the default style\n",
       "- Estimators will overwrite some part of the style using the `sk-estimator` class\n",
       "*/\n",
       "\n",
       "/* Pipeline and ColumnTransformer style (default) */\n",
       "\n",
       "#sk-container-id-11 div.sk-toggleable {\n",
       "  /* Default theme specific background. It is overwritten whether we have a\n",
       "  specific estimator or a Pipeline/ColumnTransformer */\n",
       "  background-color: var(--sklearn-color-background);\n",
       "}\n",
       "\n",
       "/* Toggleable label */\n",
       "#sk-container-id-11 label.sk-toggleable__label {\n",
       "  cursor: pointer;\n",
       "  display: block;\n",
       "  width: 100%;\n",
       "  margin-bottom: 0;\n",
       "  padding: 0.5em;\n",
       "  box-sizing: border-box;\n",
       "  text-align: center;\n",
       "}\n",
       "\n",
       "#sk-container-id-11 label.sk-toggleable__label-arrow:before {\n",
       "  /* Arrow on the left of the label */\n",
       "  content: \"▸\";\n",
       "  float: left;\n",
       "  margin-right: 0.25em;\n",
       "  color: var(--sklearn-color-icon);\n",
       "}\n",
       "\n",
       "#sk-container-id-11 label.sk-toggleable__label-arrow:hover:before {\n",
       "  color: var(--sklearn-color-text);\n",
       "}\n",
       "\n",
       "/* Toggleable content - dropdown */\n",
       "\n",
       "#sk-container-id-11 div.sk-toggleable__content {\n",
       "  max-height: 0;\n",
       "  max-width: 0;\n",
       "  overflow: hidden;\n",
       "  text-align: left;\n",
       "  /* unfitted */\n",
       "  background-color: var(--sklearn-color-unfitted-level-0);\n",
       "}\n",
       "\n",
       "#sk-container-id-11 div.sk-toggleable__content.fitted {\n",
       "  /* fitted */\n",
       "  background-color: var(--sklearn-color-fitted-level-0);\n",
       "}\n",
       "\n",
       "#sk-container-id-11 div.sk-toggleable__content pre {\n",
       "  margin: 0.2em;\n",
       "  border-radius: 0.25em;\n",
       "  color: var(--sklearn-color-text);\n",
       "  /* unfitted */\n",
       "  background-color: var(--sklearn-color-unfitted-level-0);\n",
       "}\n",
       "\n",
       "#sk-container-id-11 div.sk-toggleable__content.fitted pre {\n",
       "  /* unfitted */\n",
       "  background-color: var(--sklearn-color-fitted-level-0);\n",
       "}\n",
       "\n",
       "#sk-container-id-11 input.sk-toggleable__control:checked~div.sk-toggleable__content {\n",
       "  /* Expand drop-down */\n",
       "  max-height: 200px;\n",
       "  max-width: 100%;\n",
       "  overflow: auto;\n",
       "}\n",
       "\n",
       "#sk-container-id-11 input.sk-toggleable__control:checked~label.sk-toggleable__label-arrow:before {\n",
       "  content: \"▾\";\n",
       "}\n",
       "\n",
       "/* Pipeline/ColumnTransformer-specific style */\n",
       "\n",
       "#sk-container-id-11 div.sk-label input.sk-toggleable__control:checked~label.sk-toggleable__label {\n",
       "  color: var(--sklearn-color-text);\n",
       "  background-color: var(--sklearn-color-unfitted-level-2);\n",
       "}\n",
       "\n",
       "#sk-container-id-11 div.sk-label.fitted input.sk-toggleable__control:checked~label.sk-toggleable__label {\n",
       "  background-color: var(--sklearn-color-fitted-level-2);\n",
       "}\n",
       "\n",
       "/* Estimator-specific style */\n",
       "\n",
       "/* Colorize estimator box */\n",
       "#sk-container-id-11 div.sk-estimator input.sk-toggleable__control:checked~label.sk-toggleable__label {\n",
       "  /* unfitted */\n",
       "  background-color: var(--sklearn-color-unfitted-level-2);\n",
       "}\n",
       "\n",
       "#sk-container-id-11 div.sk-estimator.fitted input.sk-toggleable__control:checked~label.sk-toggleable__label {\n",
       "  /* fitted */\n",
       "  background-color: var(--sklearn-color-fitted-level-2);\n",
       "}\n",
       "\n",
       "#sk-container-id-11 div.sk-label label.sk-toggleable__label,\n",
       "#sk-container-id-11 div.sk-label label {\n",
       "  /* The background is the default theme color */\n",
       "  color: var(--sklearn-color-text-on-default-background);\n",
       "}\n",
       "\n",
       "/* On hover, darken the color of the background */\n",
       "#sk-container-id-11 div.sk-label:hover label.sk-toggleable__label {\n",
       "  color: var(--sklearn-color-text);\n",
       "  background-color: var(--sklearn-color-unfitted-level-2);\n",
       "}\n",
       "\n",
       "/* Label box, darken color on hover, fitted */\n",
       "#sk-container-id-11 div.sk-label.fitted:hover label.sk-toggleable__label.fitted {\n",
       "  color: var(--sklearn-color-text);\n",
       "  background-color: var(--sklearn-color-fitted-level-2);\n",
       "}\n",
       "\n",
       "/* Estimator label */\n",
       "\n",
       "#sk-container-id-11 div.sk-label label {\n",
       "  font-family: monospace;\n",
       "  font-weight: bold;\n",
       "  display: inline-block;\n",
       "  line-height: 1.2em;\n",
       "}\n",
       "\n",
       "#sk-container-id-11 div.sk-label-container {\n",
       "  text-align: center;\n",
       "}\n",
       "\n",
       "/* Estimator-specific */\n",
       "#sk-container-id-11 div.sk-estimator {\n",
       "  font-family: monospace;\n",
       "  border: 1px dotted var(--sklearn-color-border-box);\n",
       "  border-radius: 0.25em;\n",
       "  box-sizing: border-box;\n",
       "  margin-bottom: 0.5em;\n",
       "  /* unfitted */\n",
       "  background-color: var(--sklearn-color-unfitted-level-0);\n",
       "}\n",
       "\n",
       "#sk-container-id-11 div.sk-estimator.fitted {\n",
       "  /* fitted */\n",
       "  background-color: var(--sklearn-color-fitted-level-0);\n",
       "}\n",
       "\n",
       "/* on hover */\n",
       "#sk-container-id-11 div.sk-estimator:hover {\n",
       "  /* unfitted */\n",
       "  background-color: var(--sklearn-color-unfitted-level-2);\n",
       "}\n",
       "\n",
       "#sk-container-id-11 div.sk-estimator.fitted:hover {\n",
       "  /* fitted */\n",
       "  background-color: var(--sklearn-color-fitted-level-2);\n",
       "}\n",
       "\n",
       "/* Specification for estimator info (e.g. \"i\" and \"?\") */\n",
       "\n",
       "/* Common style for \"i\" and \"?\" */\n",
       "\n",
       ".sk-estimator-doc-link,\n",
       "a:link.sk-estimator-doc-link,\n",
       "a:visited.sk-estimator-doc-link {\n",
       "  float: right;\n",
       "  font-size: smaller;\n",
       "  line-height: 1em;\n",
       "  font-family: monospace;\n",
       "  background-color: var(--sklearn-color-background);\n",
       "  border-radius: 1em;\n",
       "  height: 1em;\n",
       "  width: 1em;\n",
       "  text-decoration: none !important;\n",
       "  margin-left: 1ex;\n",
       "  /* unfitted */\n",
       "  border: var(--sklearn-color-unfitted-level-1) 1pt solid;\n",
       "  color: var(--sklearn-color-unfitted-level-1);\n",
       "}\n",
       "\n",
       ".sk-estimator-doc-link.fitted,\n",
       "a:link.sk-estimator-doc-link.fitted,\n",
       "a:visited.sk-estimator-doc-link.fitted {\n",
       "  /* fitted */\n",
       "  border: var(--sklearn-color-fitted-level-1) 1pt solid;\n",
       "  color: var(--sklearn-color-fitted-level-1);\n",
       "}\n",
       "\n",
       "/* On hover */\n",
       "div.sk-estimator:hover .sk-estimator-doc-link:hover,\n",
       ".sk-estimator-doc-link:hover,\n",
       "div.sk-label-container:hover .sk-estimator-doc-link:hover,\n",
       ".sk-estimator-doc-link:hover {\n",
       "  /* unfitted */\n",
       "  background-color: var(--sklearn-color-unfitted-level-3);\n",
       "  color: var(--sklearn-color-background);\n",
       "  text-decoration: none;\n",
       "}\n",
       "\n",
       "div.sk-estimator.fitted:hover .sk-estimator-doc-link.fitted:hover,\n",
       ".sk-estimator-doc-link.fitted:hover,\n",
       "div.sk-label-container:hover .sk-estimator-doc-link.fitted:hover,\n",
       ".sk-estimator-doc-link.fitted:hover {\n",
       "  /* fitted */\n",
       "  background-color: var(--sklearn-color-fitted-level-3);\n",
       "  color: var(--sklearn-color-background);\n",
       "  text-decoration: none;\n",
       "}\n",
       "\n",
       "/* Span, style for the box shown on hovering the info icon */\n",
       ".sk-estimator-doc-link span {\n",
       "  display: none;\n",
       "  z-index: 9999;\n",
       "  position: relative;\n",
       "  font-weight: normal;\n",
       "  right: .2ex;\n",
       "  padding: .5ex;\n",
       "  margin: .5ex;\n",
       "  width: min-content;\n",
       "  min-width: 20ex;\n",
       "  max-width: 50ex;\n",
       "  color: var(--sklearn-color-text);\n",
       "  box-shadow: 2pt 2pt 4pt #999;\n",
       "  /* unfitted */\n",
       "  background: var(--sklearn-color-unfitted-level-0);\n",
       "  border: .5pt solid var(--sklearn-color-unfitted-level-3);\n",
       "}\n",
       "\n",
       ".sk-estimator-doc-link.fitted span {\n",
       "  /* fitted */\n",
       "  background: var(--sklearn-color-fitted-level-0);\n",
       "  border: var(--sklearn-color-fitted-level-3);\n",
       "}\n",
       "\n",
       ".sk-estimator-doc-link:hover span {\n",
       "  display: block;\n",
       "}\n",
       "\n",
       "/* \"?\"-specific style due to the `<a>` HTML tag */\n",
       "\n",
       "#sk-container-id-11 a.estimator_doc_link {\n",
       "  float: right;\n",
       "  font-size: 1rem;\n",
       "  line-height: 1em;\n",
       "  font-family: monospace;\n",
       "  background-color: var(--sklearn-color-background);\n",
       "  border-radius: 1rem;\n",
       "  height: 1rem;\n",
       "  width: 1rem;\n",
       "  text-decoration: none;\n",
       "  /* unfitted */\n",
       "  color: var(--sklearn-color-unfitted-level-1);\n",
       "  border: var(--sklearn-color-unfitted-level-1) 1pt solid;\n",
       "}\n",
       "\n",
       "#sk-container-id-11 a.estimator_doc_link.fitted {\n",
       "  /* fitted */\n",
       "  border: var(--sklearn-color-fitted-level-1) 1pt solid;\n",
       "  color: var(--sklearn-color-fitted-level-1);\n",
       "}\n",
       "\n",
       "/* On hover */\n",
       "#sk-container-id-11 a.estimator_doc_link:hover {\n",
       "  /* unfitted */\n",
       "  background-color: var(--sklearn-color-unfitted-level-3);\n",
       "  color: var(--sklearn-color-background);\n",
       "  text-decoration: none;\n",
       "}\n",
       "\n",
       "#sk-container-id-11 a.estimator_doc_link.fitted:hover {\n",
       "  /* fitted */\n",
       "  background-color: var(--sklearn-color-fitted-level-3);\n",
       "}\n",
       "</style><div id=\"sk-container-id-11\" class=\"sk-top-container\"><div class=\"sk-text-repr-fallback\"><pre>GridSearchCV(cv=5, estimator=KNeighborsClassifier(), n_jobs=4,\n",
       "             param_grid={&#x27;metric&#x27;: [&#x27;minkowski&#x27;],\n",
       "                         &#x27;n_neighbors&#x27;: [57, 69, 81, 90], &#x27;p&#x27;: [2],\n",
       "                         &#x27;weights&#x27;: [&#x27;distance&#x27;]},\n",
       "             scoring=&#x27;roc_auc&#x27;, verbose=1)</pre><b>In a Jupyter environment, please rerun this cell to show the HTML representation or trust the notebook. <br />On GitHub, the HTML representation is unable to render, please try loading this page with nbviewer.org.</b></div><div class=\"sk-container\" hidden><div class=\"sk-item sk-dashed-wrapped\"><div class=\"sk-label-container\"><div class=\"sk-label fitted sk-toggleable\"><input class=\"sk-toggleable__control sk-hidden--visually\" id=\"sk-estimator-id-23\" type=\"checkbox\" ><label for=\"sk-estimator-id-23\" class=\"sk-toggleable__label fitted sk-toggleable__label-arrow fitted\">&nbsp;&nbsp;GridSearchCV<a class=\"sk-estimator-doc-link fitted\" rel=\"noreferrer\" target=\"_blank\" href=\"https://scikit-learn.org/1.4/modules/generated/sklearn.model_selection.GridSearchCV.html\">?<span>Documentation for GridSearchCV</span></a><span class=\"sk-estimator-doc-link fitted\">i<span>Fitted</span></span></label><div class=\"sk-toggleable__content fitted\"><pre>GridSearchCV(cv=5, estimator=KNeighborsClassifier(), n_jobs=4,\n",
       "             param_grid={&#x27;metric&#x27;: [&#x27;minkowski&#x27;],\n",
       "                         &#x27;n_neighbors&#x27;: [57, 69, 81, 90], &#x27;p&#x27;: [2],\n",
       "                         &#x27;weights&#x27;: [&#x27;distance&#x27;]},\n",
       "             scoring=&#x27;roc_auc&#x27;, verbose=1)</pre></div> </div></div><div class=\"sk-parallel\"><div class=\"sk-parallel-item\"><div class=\"sk-item\"><div class=\"sk-label-container\"><div class=\"sk-label fitted sk-toggleable\"><input class=\"sk-toggleable__control sk-hidden--visually\" id=\"sk-estimator-id-24\" type=\"checkbox\" ><label for=\"sk-estimator-id-24\" class=\"sk-toggleable__label fitted sk-toggleable__label-arrow fitted\">estimator: KNeighborsClassifier</label><div class=\"sk-toggleable__content fitted\"><pre>KNeighborsClassifier()</pre></div> </div></div><div class=\"sk-serial\"><div class=\"sk-item\"><div class=\"sk-estimator fitted sk-toggleable\"><input class=\"sk-toggleable__control sk-hidden--visually\" id=\"sk-estimator-id-25\" type=\"checkbox\" ><label for=\"sk-estimator-id-25\" class=\"sk-toggleable__label fitted sk-toggleable__label-arrow fitted\">&nbsp;KNeighborsClassifier<a class=\"sk-estimator-doc-link fitted\" rel=\"noreferrer\" target=\"_blank\" href=\"https://scikit-learn.org/1.4/modules/generated/sklearn.neighbors.KNeighborsClassifier.html\">?<span>Documentation for KNeighborsClassifier</span></a></label><div class=\"sk-toggleable__content fitted\"><pre>KNeighborsClassifier()</pre></div> </div></div></div></div></div></div></div></div></div>"
      ],
      "text/plain": [
       "GridSearchCV(cv=5, estimator=KNeighborsClassifier(), n_jobs=4,\n",
       "             param_grid={'metric': ['minkowski'],\n",
       "                         'n_neighbors': [57, 69, 81, 90], 'p': [2],\n",
       "                         'weights': ['distance']},\n",
       "             scoring='roc_auc', verbose=1)"
      ]
     },
     "execution_count": 304,
     "metadata": {},
     "output_type": "execute_result"
    },
    {
     "name": "stdout",
     "output_type": "stream",
     "text": [
      "best_estimator_  :   KNeighborsClassifier(n_neighbors=90, weights='distance')\n"
     ]
    }
   ],
   "source": [
    "knn_estimators = load_from_pickle('', FILENAME)\n",
    "knn_estimators\n",
    "# print(f\"parameters   :\")\n",
    "# pp.pprint(knn_estimators.get_params())\n",
    "# print()\n",
    "print(f\"best_estimator_  :   {knn_estimators.best_estimator_}\")\n",
    " "
   ]
  },
  {
   "cell_type": "code",
   "execution_count": 307,
   "id": "79bf420f-d8cd-44a3-b3c0-026d7c9d0699",
   "metadata": {
    "execution": {
     "iopub.execute_input": "2024-08-02T20:36:12.249096Z",
     "iopub.status.busy": "2024-08-02T20:36:12.248652Z",
     "iopub.status.idle": "2024-08-02T20:36:43.619000Z",
     "shell.execute_reply": "2024-08-02T20:36:43.617995Z",
     "shell.execute_reply.started": "2024-08-02T20:36:12.249062Z"
    }
   },
   "outputs": [
    {
     "data": {
      "text/plain": [
       "(34542,)"
      ]
     },
     "execution_count": 307,
     "metadata": {},
     "output_type": "execute_result"
    }
   ],
   "source": [
    "y_pred = knn_estimators.best_estimator_.predict(test_X)\n",
    "y_pred.shape"
   ]
  },
  {
   "cell_type": "code",
   "execution_count": 309,
   "id": "ae5837b0-4196-4c7a-aff7-68c745ff8ee9",
   "metadata": {
    "execution": {
     "iopub.execute_input": "2024-08-02T20:36:49.022657Z",
     "iopub.status.busy": "2024-08-02T20:36:49.022092Z",
     "iopub.status.idle": "2024-08-02T20:36:49.077912Z",
     "shell.execute_reply": "2024-08-02T20:36:49.077011Z",
     "shell.execute_reply.started": "2024-08-02T20:36:49.022614Z"
    }
   },
   "outputs": [
    {
     "name": "stdout",
     "output_type": "stream",
     "text": [
      " Ground Truth\n",
      " Total samples:  34,542\n",
      " Label 0:  30,378      % 87.95 \n",
      " Label 1:   4,164      % 12.05 \n",
      "\n",
      " Predictions\n",
      " Total samples:  34,542\n",
      " Label 0:  34,532      % 99.97 \n",
      " Label 1:      10      % 0.03 \n",
      "\n"
     ]
    }
   ],
   "source": [
    "for grp_name, labels in [(\"Ground Truth\", test_y), (\"Predictions\", y_pred)]:\n",
    "    bcnt = np.bincount(labels.astype(np.int64))\n",
    "    print(f\" {grp_name}\")\n",
    "    print(f\" Total samples: {bcnt.sum():7,d}\")\n",
    "    print(f\" Label 0: {bcnt[0]:7,d}      % {bcnt[0]*100/bcnt.sum():2.2f} \")\n",
    "    print(f\" Label 1: {bcnt[1]:7,d}      % {bcnt[1]*100/bcnt.sum():2.2f} \")\n",
    "    print(\"\")"
   ]
  },
  {
   "cell_type": "code",
   "execution_count": 311,
   "id": "b4fac75b-958f-4817-a3a6-e1d846df7cea",
   "metadata": {
    "execution": {
     "iopub.execute_input": "2024-08-02T20:37:01.495851Z",
     "iopub.status.busy": "2024-08-02T20:37:01.495336Z",
     "iopub.status.idle": "2024-08-02T20:37:01.552593Z",
     "shell.execute_reply": "2024-08-02T20:37:01.551884Z",
     "shell.execute_reply.started": "2024-08-02T20:37:01.495808Z"
    }
   },
   "outputs": [
    {
     "name": "stdout",
     "output_type": "stream",
     "text": [
      " Test Accuracy: 0.879567\n",
      " Precision: 0.70000     Recall: 0.00168     F1: 0.00335 \n",
      " True + labels: 4164.0  Predicted + labels: 10.0     Match: 30382 \n"
     ]
    }
   ],
   "source": [
    "test_accuracy = skm.accuracy_score(test_y, y_pred)\n",
    "precision, recall, f1, support = skm.precision_recall_fscore_support(test_y, y_pred, average='binary', zero_division=0)\n",
    "\n",
    "print(f\" Test Accuracy: {test_accuracy:4f}\")\n",
    "print(f\" Precision: {precision:.5f}     Recall: {recall:.5f}     F1: {f1:.5f} \"\n",
    "      f\"\\n True + labels: {test_y.sum()}  Predicted + labels: {y_pred.sum()}     Match: {(y_pred == test_y).sum()} \" )"
   ]
  },
  {
   "cell_type": "code",
   "execution_count": 313,
   "id": "090f4baa-f8ee-43d8-bde4-e5e27720df41",
   "metadata": {
    "execution": {
     "iopub.execute_input": "2024-08-02T20:39:00.208593Z",
     "iopub.status.busy": "2024-08-02T20:39:00.208111Z",
     "iopub.status.idle": "2024-08-02T20:43:09.549589Z",
     "shell.execute_reply": "2024-08-02T20:43:09.548720Z",
     "shell.execute_reply.started": "2024-08-02T20:39:00.208552Z"
    }
   },
   "outputs": [
    {
     "data": {
      "image/png": "[encoded data removed]",
      "text/plain": [
       "<Figure size 1000x500 with 2 Axes>"
      ]
     },
     "metadata": {},
     "output_type": "display_data"
    }
   ],
   "source": [
    "rows = 1\n",
    "cols=2\n",
    "fig, axs = plt.subplots(1, 2, sharey=False, tight_layout=True, figsize=(cols *5,5) )\n",
    "_ = skm.PrecisionRecallDisplay.from_estimator(vt_svm.best_estimator_, test_X, test_y, plot_chance_level = True, ax = axs[0])\n",
    "_ = skm.RocCurveDisplay.from_estimator(vt_svm.best_estimator_, test_X, test_y, plot_chance_level= True, ax = axs[1])\n",
    "_ = axs[0].set_title(\" Precision / Recall \")\n",
    "_ = axs[1].set_title(\" ROC Curve \")\n",
    "plt.show()"
   ]
  },
  {
   "cell_type": "code",
   "execution_count": 314,
   "id": "9511f3d9-8e8f-4c06-ab7c-869e91943635",
   "metadata": {
    "execution": {
     "iopub.execute_input": "2024-08-02T20:43:09.551555Z",
     "iopub.status.busy": "2024-08-02T20:43:09.551272Z",
     "iopub.status.idle": "2024-08-02T20:43:10.051470Z",
     "shell.execute_reply": "2024-08-02T20:43:10.050736Z",
     "shell.execute_reply.started": "2024-08-02T20:43:09.551531Z"
    }
   },
   "outputs": [
    {
     "data": {
      "image/png": "[encoded data removed]",
      "text/plain": [
       "<Figure size 1000x500 with 2 Axes>"
      ]
     },
     "metadata": {},
     "output_type": "display_data"
    }
   ],
   "source": [
    "rows = 1\n",
    "cols=2\n",
    "fig, axs = plt.subplots(1, 2, sharey=False, tight_layout=True, figsize=(cols *5,5) )\n",
    "_ = skm.PrecisionRecallDisplay.from_predictions(test_y, y_pred, plot_chance_level = True, ax = axs[0])\n",
    "_ = skm.RocCurveDisplay.from_predictions(test_y, y_pred, plot_chance_level= True, ax = axs[1])\n",
    "_ = axs[0].set_title(\" Precision / Recall \")\n",
    "_ = axs[1].set_title(\" ROC Curve \")\n",
    "plt.show()"
   ]
  },
  {
   "cell_type": "markdown",
   "id": "33825b74-c122-49c9-b6b1-a430c67ac2e6",
   "metadata": {},
   "source": [
    "## Metrics - `KNN_estimators_2`"
   ]
  },
  {
   "cell_type": "code",
   "execution_count": 315,
   "id": "a1fd5f72-e099-43bb-bf4f-08676b628850",
   "metadata": {
    "execution": {
     "iopub.execute_input": "2024-08-02T21:45:57.811981Z",
     "iopub.status.busy": "2024-08-02T21:45:57.811268Z",
     "iopub.status.idle": "2024-08-02T21:45:57.858703Z",
     "shell.execute_reply": "2024-08-02T21:45:57.857755Z",
     "shell.execute_reply.started": "2024-08-02T21:45:57.811934Z"
    }
   },
   "outputs": [],
   "source": [
    "FILENAME = 'KNN_estimators_2.pkl'"
   ]
  },
  {
   "cell_type": "code",
   "execution_count": 316,
   "id": "0cee1f33-4823-4638-bd95-d015f2861ad9",
   "metadata": {
    "execution": {
     "iopub.execute_input": "2024-08-02T21:45:58.411974Z",
     "iopub.status.busy": "2024-08-02T21:45:58.411699Z",
     "iopub.status.idle": "2024-08-02T21:45:58.722768Z",
     "shell.execute_reply": "2024-08-02T21:45:58.721918Z",
     "shell.execute_reply.started": "2024-08-02T21:45:58.411954Z"
    }
   },
   "outputs": [
    {
     "data": {
      "text/html": [
       "<style>#sk-container-id-12 {\n",
       "  /* Definition of color scheme common for light and dark mode */\n",
       "  --sklearn-color-text: black;\n",
       "  --sklearn-color-line: gray;\n",
       "  /* Definition of color scheme for unfitted estimators */\n",
       "  --sklearn-color-unfitted-level-0: #fff5e6;\n",
       "  --sklearn-color-unfitted-level-1: #f6e4d2;\n",
       "  --sklearn-color-unfitted-level-2: #ffe0b3;\n",
       "  --sklearn-color-unfitted-level-3: chocolate;\n",
       "  /* Definition of color scheme for fitted estimators */\n",
       "  --sklearn-color-fitted-level-0: #f0f8ff;\n",
       "  --sklearn-color-fitted-level-1: #d4ebff;\n",
       "  --sklearn-color-fitted-level-2: #b3dbfd;\n",
       "  --sklearn-color-fitted-level-3: cornflowerblue;\n",
       "\n",
       "  /* Specific color for light theme */\n",
       "  --sklearn-color-text-on-default-background: var(--sg-text-color, var(--theme-code-foreground, var(--jp-content-font-color1, black)));\n",
       "  --sklearn-color-background: var(--sg-background-color, var(--theme-background, var(--jp-layout-color0, white)));\n",
       "  --sklearn-color-border-box: var(--sg-text-color, var(--theme-code-foreground, var(--jp-content-font-color1, black)));\n",
       "  --sklearn-color-icon: #696969;\n",
       "\n",
       "  @media (prefers-color-scheme: dark) {\n",
       "    /* Redefinition of color scheme for dark theme */\n",
       "    --sklearn-color-text-on-default-background: var(--sg-text-color, var(--theme-code-foreground, var(--jp-content-font-color1, white)));\n",
       "    --sklearn-color-background: var(--sg-background-color, var(--theme-background, var(--jp-layout-color0, #111)));\n",
       "    --sklearn-color-border-box: var(--sg-text-color, var(--theme-code-foreground, var(--jp-content-font-color1, white)));\n",
       "    --sklearn-color-icon: #878787;\n",
       "  }\n",
       "}\n",
       "\n",
       "#sk-container-id-12 {\n",
       "  color: var(--sklearn-color-text);\n",
       "}\n",
       "\n",
       "#sk-container-id-12 pre {\n",
       "  padding: 0;\n",
       "}\n",
       "\n",
       "#sk-container-id-12 input.sk-hidden--visually {\n",
       "  border: 0;\n",
       "  clip: rect(1px 1px 1px 1px);\n",
       "  clip: rect(1px, 1px, 1px, 1px);\n",
       "  height: 1px;\n",
       "  margin: -1px;\n",
       "  overflow: hidden;\n",
       "  padding: 0;\n",
       "  position: absolute;\n",
       "  width: 1px;\n",
       "}\n",
       "\n",
       "#sk-container-id-12 div.sk-dashed-wrapped {\n",
       "  border: 1px dashed var(--sklearn-color-line);\n",
       "  margin: 0 0.4em 0.5em 0.4em;\n",
       "  box-sizing: border-box;\n",
       "  padding-bottom: 0.4em;\n",
       "  background-color: var(--sklearn-color-background);\n",
       "}\n",
       "\n",
       "#sk-container-id-12 div.sk-container {\n",
       "  /* jupyter's `normalize.less` sets `[hidden] { display: none; }`\n",
       "     but bootstrap.min.css set `[hidden] { display: none !important; }`\n",
       "     so we also need the `!important` here to be able to override the\n",
       "     default hidden behavior on the sphinx rendered scikit-learn.org.\n",
       "     See: https://github.com/scikit-learn/scikit-learn/issues/21755 */\n",
       "  display: inline-block !important;\n",
       "  position: relative;\n",
       "}\n",
       "\n",
       "#sk-container-id-12 div.sk-text-repr-fallback {\n",
       "  display: none;\n",
       "}\n",
       "\n",
       "div.sk-parallel-item,\n",
       "div.sk-serial,\n",
       "div.sk-item {\n",
       "  /* draw centered vertical line to link estimators */\n",
       "  background-image: linear-gradient(var(--sklearn-color-text-on-default-background), var(--sklearn-color-text-on-default-background));\n",
       "  background-size: 2px 100%;\n",
       "  background-repeat: no-repeat;\n",
       "  background-position: center center;\n",
       "}\n",
       "\n",
       "/* Parallel-specific style estimator block */\n",
       "\n",
       "#sk-container-id-12 div.sk-parallel-item::after {\n",
       "  content: \"\";\n",
       "  width: 100%;\n",
       "  border-bottom: 2px solid var(--sklearn-color-text-on-default-background);\n",
       "  flex-grow: 1;\n",
       "}\n",
       "\n",
       "#sk-container-id-12 div.sk-parallel {\n",
       "  display: flex;\n",
       "  align-items: stretch;\n",
       "  justify-content: center;\n",
       "  background-color: var(--sklearn-color-background);\n",
       "  position: relative;\n",
       "}\n",
       "\n",
       "#sk-container-id-12 div.sk-parallel-item {\n",
       "  display: flex;\n",
       "  flex-direction: column;\n",
       "}\n",
       "\n",
       "#sk-container-id-12 div.sk-parallel-item:first-child::after {\n",
       "  align-self: flex-end;\n",
       "  width: 50%;\n",
       "}\n",
       "\n",
       "#sk-container-id-12 div.sk-parallel-item:last-child::after {\n",
       "  align-self: flex-start;\n",
       "  width: 50%;\n",
       "}\n",
       "\n",
       "#sk-container-id-12 div.sk-parallel-item:only-child::after {\n",
       "  width: 0;\n",
       "}\n",
       "\n",
       "/* Serial-specific style estimator block */\n",
       "\n",
       "#sk-container-id-12 div.sk-serial {\n",
       "  display: flex;\n",
       "  flex-direction: column;\n",
       "  align-items: center;\n",
       "  background-color: var(--sklearn-color-background);\n",
       "  padding-right: 1em;\n",
       "  padding-left: 1em;\n",
       "}\n",
       "\n",
       "\n",
       "/* Toggleable style: style used for estimator/Pipeline/ColumnTransformer box that is\n",
       "clickable and can be expanded/collapsed.\n",
       "- Pipeline and ColumnTransformer use this feature and define the default style\n",
       "- Estimators will overwrite some part of the style using the `sk-estimator` class\n",
       "*/\n",
       "\n",
       "/* Pipeline and ColumnTransformer style (default) */\n",
       "\n",
       "#sk-container-id-12 div.sk-toggleable {\n",
       "  /* Default theme specific background. It is overwritten whether we have a\n",
       "  specific estimator or a Pipeline/ColumnTransformer */\n",
       "  background-color: var(--sklearn-color-background);\n",
       "}\n",
       "\n",
       "/* Toggleable label */\n",
       "#sk-container-id-12 label.sk-toggleable__label {\n",
       "  cursor: pointer;\n",
       "  display: block;\n",
       "  width: 100%;\n",
       "  margin-bottom: 0;\n",
       "  padding: 0.5em;\n",
       "  box-sizing: border-box;\n",
       "  text-align: center;\n",
       "}\n",
       "\n",
       "#sk-container-id-12 label.sk-toggleable__label-arrow:before {\n",
       "  /* Arrow on the left of the label */\n",
       "  content: \"▸\";\n",
       "  float: left;\n",
       "  margin-right: 0.25em;\n",
       "  color: var(--sklearn-color-icon);\n",
       "}\n",
       "\n",
       "#sk-container-id-12 label.sk-toggleable__label-arrow:hover:before {\n",
       "  color: var(--sklearn-color-text);\n",
       "}\n",
       "\n",
       "/* Toggleable content - dropdown */\n",
       "\n",
       "#sk-container-id-12 div.sk-toggleable__content {\n",
       "  max-height: 0;\n",
       "  max-width: 0;\n",
       "  overflow: hidden;\n",
       "  text-align: left;\n",
       "  /* unfitted */\n",
       "  background-color: var(--sklearn-color-unfitted-level-0);\n",
       "}\n",
       "\n",
       "#sk-container-id-12 div.sk-toggleable__content.fitted {\n",
       "  /* fitted */\n",
       "  background-color: var(--sklearn-color-fitted-level-0);\n",
       "}\n",
       "\n",
       "#sk-container-id-12 div.sk-toggleable__content pre {\n",
       "  margin: 0.2em;\n",
       "  border-radius: 0.25em;\n",
       "  color: var(--sklearn-color-text);\n",
       "  /* unfitted */\n",
       "  background-color: var(--sklearn-color-unfitted-level-0);\n",
       "}\n",
       "\n",
       "#sk-container-id-12 div.sk-toggleable__content.fitted pre {\n",
       "  /* unfitted */\n",
       "  background-color: var(--sklearn-color-fitted-level-0);\n",
       "}\n",
       "\n",
       "#sk-container-id-12 input.sk-toggleable__control:checked~div.sk-toggleable__content {\n",
       "  /* Expand drop-down */\n",
       "  max-height: 200px;\n",
       "  max-width: 100%;\n",
       "  overflow: auto;\n",
       "}\n",
       "\n",
       "#sk-container-id-12 input.sk-toggleable__control:checked~label.sk-toggleable__label-arrow:before {\n",
       "  content: \"▾\";\n",
       "}\n",
       "\n",
       "/* Pipeline/ColumnTransformer-specific style */\n",
       "\n",
       "#sk-container-id-12 div.sk-label input.sk-toggleable__control:checked~label.sk-toggleable__label {\n",
       "  color: var(--sklearn-color-text);\n",
       "  background-color: var(--sklearn-color-unfitted-level-2);\n",
       "}\n",
       "\n",
       "#sk-container-id-12 div.sk-label.fitted input.sk-toggleable__control:checked~label.sk-toggleable__label {\n",
       "  background-color: var(--sklearn-color-fitted-level-2);\n",
       "}\n",
       "\n",
       "/* Estimator-specific style */\n",
       "\n",
       "/* Colorize estimator box */\n",
       "#sk-container-id-12 div.sk-estimator input.sk-toggleable__control:checked~label.sk-toggleable__label {\n",
       "  /* unfitted */\n",
       "  background-color: var(--sklearn-color-unfitted-level-2);\n",
       "}\n",
       "\n",
       "#sk-container-id-12 div.sk-estimator.fitted input.sk-toggleable__control:checked~label.sk-toggleable__label {\n",
       "  /* fitted */\n",
       "  background-color: var(--sklearn-color-fitted-level-2);\n",
       "}\n",
       "\n",
       "#sk-container-id-12 div.sk-label label.sk-toggleable__label,\n",
       "#sk-container-id-12 div.sk-label label {\n",
       "  /* The background is the default theme color */\n",
       "  color: var(--sklearn-color-text-on-default-background);\n",
       "}\n",
       "\n",
       "/* On hover, darken the color of the background */\n",
       "#sk-container-id-12 div.sk-label:hover label.sk-toggleable__label {\n",
       "  color: var(--sklearn-color-text);\n",
       "  background-color: var(--sklearn-color-unfitted-level-2);\n",
       "}\n",
       "\n",
       "/* Label box, darken color on hover, fitted */\n",
       "#sk-container-id-12 div.sk-label.fitted:hover label.sk-toggleable__label.fitted {\n",
       "  color: var(--sklearn-color-text);\n",
       "  background-color: var(--sklearn-color-fitted-level-2);\n",
       "}\n",
       "\n",
       "/* Estimator label */\n",
       "\n",
       "#sk-container-id-12 div.sk-label label {\n",
       "  font-family: monospace;\n",
       "  font-weight: bold;\n",
       "  display: inline-block;\n",
       "  line-height: 1.2em;\n",
       "}\n",
       "\n",
       "#sk-container-id-12 div.sk-label-container {\n",
       "  text-align: center;\n",
       "}\n",
       "\n",
       "/* Estimator-specific */\n",
       "#sk-container-id-12 div.sk-estimator {\n",
       "  font-family: monospace;\n",
       "  border: 1px dotted var(--sklearn-color-border-box);\n",
       "  border-radius: 0.25em;\n",
       "  box-sizing: border-box;\n",
       "  margin-bottom: 0.5em;\n",
       "  /* unfitted */\n",
       "  background-color: var(--sklearn-color-unfitted-level-0);\n",
       "}\n",
       "\n",
       "#sk-container-id-12 div.sk-estimator.fitted {\n",
       "  /* fitted */\n",
       "  background-color: var(--sklearn-color-fitted-level-0);\n",
       "}\n",
       "\n",
       "/* on hover */\n",
       "#sk-container-id-12 div.sk-estimator:hover {\n",
       "  /* unfitted */\n",
       "  background-color: var(--sklearn-color-unfitted-level-2);\n",
       "}\n",
       "\n",
       "#sk-container-id-12 div.sk-estimator.fitted:hover {\n",
       "  /* fitted */\n",
       "  background-color: var(--sklearn-color-fitted-level-2);\n",
       "}\n",
       "\n",
       "/* Specification for estimator info (e.g. \"i\" and \"?\") */\n",
       "\n",
       "/* Common style for \"i\" and \"?\" */\n",
       "\n",
       ".sk-estimator-doc-link,\n",
       "a:link.sk-estimator-doc-link,\n",
       "a:visited.sk-estimator-doc-link {\n",
       "  float: right;\n",
       "  font-size: smaller;\n",
       "  line-height: 1em;\n",
       "  font-family: monospace;\n",
       "  background-color: var(--sklearn-color-background);\n",
       "  border-radius: 1em;\n",
       "  height: 1em;\n",
       "  width: 1em;\n",
       "  text-decoration: none !important;\n",
       "  margin-left: 1ex;\n",
       "  /* unfitted */\n",
       "  border: var(--sklearn-color-unfitted-level-1) 1pt solid;\n",
       "  color: var(--sklearn-color-unfitted-level-1);\n",
       "}\n",
       "\n",
       ".sk-estimator-doc-link.fitted,\n",
       "a:link.sk-estimator-doc-link.fitted,\n",
       "a:visited.sk-estimator-doc-link.fitted {\n",
       "  /* fitted */\n",
       "  border: var(--sklearn-color-fitted-level-1) 1pt solid;\n",
       "  color: var(--sklearn-color-fitted-level-1);\n",
       "}\n",
       "\n",
       "/* On hover */\n",
       "div.sk-estimator:hover .sk-estimator-doc-link:hover,\n",
       ".sk-estimator-doc-link:hover,\n",
       "div.sk-label-container:hover .sk-estimator-doc-link:hover,\n",
       ".sk-estimator-doc-link:hover {\n",
       "  /* unfitted */\n",
       "  background-color: var(--sklearn-color-unfitted-level-3);\n",
       "  color: var(--sklearn-color-background);\n",
       "  text-decoration: none;\n",
       "}\n",
       "\n",
       "div.sk-estimator.fitted:hover .sk-estimator-doc-link.fitted:hover,\n",
       ".sk-estimator-doc-link.fitted:hover,\n",
       "div.sk-label-container:hover .sk-estimator-doc-link.fitted:hover,\n",
       ".sk-estimator-doc-link.fitted:hover {\n",
       "  /* fitted */\n",
       "  background-color: var(--sklearn-color-fitted-level-3);\n",
       "  color: var(--sklearn-color-background);\n",
       "  text-decoration: none;\n",
       "}\n",
       "\n",
       "/* Span, style for the box shown on hovering the info icon */\n",
       ".sk-estimator-doc-link span {\n",
       "  display: none;\n",
       "  z-index: 9999;\n",
       "  position: relative;\n",
       "  font-weight: normal;\n",
       "  right: .2ex;\n",
       "  padding: .5ex;\n",
       "  margin: .5ex;\n",
       "  width: min-content;\n",
       "  min-width: 20ex;\n",
       "  max-width: 50ex;\n",
       "  color: var(--sklearn-color-text);\n",
       "  box-shadow: 2pt 2pt 4pt #999;\n",
       "  /* unfitted */\n",
       "  background: var(--sklearn-color-unfitted-level-0);\n",
       "  border: .5pt solid var(--sklearn-color-unfitted-level-3);\n",
       "}\n",
       "\n",
       ".sk-estimator-doc-link.fitted span {\n",
       "  /* fitted */\n",
       "  background: var(--sklearn-color-fitted-level-0);\n",
       "  border: var(--sklearn-color-fitted-level-3);\n",
       "}\n",
       "\n",
       ".sk-estimator-doc-link:hover span {\n",
       "  display: block;\n",
       "}\n",
       "\n",
       "/* \"?\"-specific style due to the `<a>` HTML tag */\n",
       "\n",
       "#sk-container-id-12 a.estimator_doc_link {\n",
       "  float: right;\n",
       "  font-size: 1rem;\n",
       "  line-height: 1em;\n",
       "  font-family: monospace;\n",
       "  background-color: var(--sklearn-color-background);\n",
       "  border-radius: 1rem;\n",
       "  height: 1rem;\n",
       "  width: 1rem;\n",
       "  text-decoration: none;\n",
       "  /* unfitted */\n",
       "  color: var(--sklearn-color-unfitted-level-1);\n",
       "  border: var(--sklearn-color-unfitted-level-1) 1pt solid;\n",
       "}\n",
       "\n",
       "#sk-container-id-12 a.estimator_doc_link.fitted {\n",
       "  /* fitted */\n",
       "  border: var(--sklearn-color-fitted-level-1) 1pt solid;\n",
       "  color: var(--sklearn-color-fitted-level-1);\n",
       "}\n",
       "\n",
       "/* On hover */\n",
       "#sk-container-id-12 a.estimator_doc_link:hover {\n",
       "  /* unfitted */\n",
       "  background-color: var(--sklearn-color-unfitted-level-3);\n",
       "  color: var(--sklearn-color-background);\n",
       "  text-decoration: none;\n",
       "}\n",
       "\n",
       "#sk-container-id-12 a.estimator_doc_link.fitted:hover {\n",
       "  /* fitted */\n",
       "  background-color: var(--sklearn-color-fitted-level-3);\n",
       "}\n",
       "</style><div id=\"sk-container-id-12\" class=\"sk-top-container\"><div class=\"sk-text-repr-fallback\"><pre>GridSearchCV(cv=5, estimator=KNeighborsClassifier(), n_jobs=4,\n",
       "             param_grid={&#x27;metric&#x27;: [&#x27;minkowski&#x27;],\n",
       "                         &#x27;n_neighbors&#x27;: [105, 120, 135, 150], &#x27;p&#x27;: [2],\n",
       "                         &#x27;weights&#x27;: [&#x27;distance&#x27;]},\n",
       "             scoring=&#x27;roc_auc&#x27;, verbose=4)</pre><b>In a Jupyter environment, please rerun this cell to show the HTML representation or trust the notebook. <br />On GitHub, the HTML representation is unable to render, please try loading this page with nbviewer.org.</b></div><div class=\"sk-container\" hidden><div class=\"sk-item sk-dashed-wrapped\"><div class=\"sk-label-container\"><div class=\"sk-label fitted sk-toggleable\"><input class=\"sk-toggleable__control sk-hidden--visually\" id=\"sk-estimator-id-26\" type=\"checkbox\" ><label for=\"sk-estimator-id-26\" class=\"sk-toggleable__label fitted sk-toggleable__label-arrow fitted\">&nbsp;&nbsp;GridSearchCV<a class=\"sk-estimator-doc-link fitted\" rel=\"noreferrer\" target=\"_blank\" href=\"https://scikit-learn.org/1.4/modules/generated/sklearn.model_selection.GridSearchCV.html\">?<span>Documentation for GridSearchCV</span></a><span class=\"sk-estimator-doc-link fitted\">i<span>Fitted</span></span></label><div class=\"sk-toggleable__content fitted\"><pre>GridSearchCV(cv=5, estimator=KNeighborsClassifier(), n_jobs=4,\n",
       "             param_grid={&#x27;metric&#x27;: [&#x27;minkowski&#x27;],\n",
       "                         &#x27;n_neighbors&#x27;: [105, 120, 135, 150], &#x27;p&#x27;: [2],\n",
       "                         &#x27;weights&#x27;: [&#x27;distance&#x27;]},\n",
       "             scoring=&#x27;roc_auc&#x27;, verbose=4)</pre></div> </div></div><div class=\"sk-parallel\"><div class=\"sk-parallel-item\"><div class=\"sk-item\"><div class=\"sk-label-container\"><div class=\"sk-label fitted sk-toggleable\"><input class=\"sk-toggleable__control sk-hidden--visually\" id=\"sk-estimator-id-27\" type=\"checkbox\" ><label for=\"sk-estimator-id-27\" class=\"sk-toggleable__label fitted sk-toggleable__label-arrow fitted\">estimator: KNeighborsClassifier</label><div class=\"sk-toggleable__content fitted\"><pre>KNeighborsClassifier()</pre></div> </div></div><div class=\"sk-serial\"><div class=\"sk-item\"><div class=\"sk-estimator fitted sk-toggleable\"><input class=\"sk-toggleable__control sk-hidden--visually\" id=\"sk-estimator-id-28\" type=\"checkbox\" ><label for=\"sk-estimator-id-28\" class=\"sk-toggleable__label fitted sk-toggleable__label-arrow fitted\">&nbsp;KNeighborsClassifier<a class=\"sk-estimator-doc-link fitted\" rel=\"noreferrer\" target=\"_blank\" href=\"https://scikit-learn.org/1.4/modules/generated/sklearn.neighbors.KNeighborsClassifier.html\">?<span>Documentation for KNeighborsClassifier</span></a></label><div class=\"sk-toggleable__content fitted\"><pre>KNeighborsClassifier()</pre></div> </div></div></div></div></div></div></div></div></div>"
      ],
      "text/plain": [
       "GridSearchCV(cv=5, estimator=KNeighborsClassifier(), n_jobs=4,\n",
       "             param_grid={'metric': ['minkowski'],\n",
       "                         'n_neighbors': [105, 120, 135, 150], 'p': [2],\n",
       "                         'weights': ['distance']},\n",
       "             scoring='roc_auc', verbose=4)"
      ]
     },
     "execution_count": 316,
     "metadata": {},
     "output_type": "execute_result"
    },
    {
     "name": "stdout",
     "output_type": "stream",
     "text": [
      "best_estimator_  :   KNeighborsClassifier(n_neighbors=135, weights='distance')\n"
     ]
    }
   ],
   "source": [
    "knn_estimators = load_from_pickle('', FILENAME)\n",
    "knn_estimators\n",
    "# print(f\"parameters   :\")\n",
    "# pp.pprint(knn_estimators.get_params())\n",
    "# print()\n",
    "print(f\"best_estimator_  :   {knn_estimators.best_estimator_}\")\n",
    " "
   ]
  },
  {
   "cell_type": "code",
   "execution_count": 317,
   "id": "4a332010-1c30-4652-b520-c9bc68073ab1",
   "metadata": {
    "execution": {
     "iopub.execute_input": "2024-08-02T21:45:59.846329Z",
     "iopub.status.busy": "2024-08-02T21:45:59.845885Z",
     "iopub.status.idle": "2024-08-02T21:46:31.190635Z",
     "shell.execute_reply": "2024-08-02T21:46:31.189563Z",
     "shell.execute_reply.started": "2024-08-02T21:45:59.846292Z"
    }
   },
   "outputs": [
    {
     "data": {
      "text/plain": [
       "(34542,)"
      ]
     },
     "execution_count": 317,
     "metadata": {},
     "output_type": "execute_result"
    }
   ],
   "source": [
    "y_pred = knn_estimators.best_estimator_.predict(test_X)\n",
    "y_pred.shape"
   ]
  },
  {
   "cell_type": "code",
   "execution_count": 318,
   "id": "8d0d9f47-558c-47e7-80fd-747670811c84",
   "metadata": {
    "execution": {
     "iopub.execute_input": "2024-08-02T21:46:31.192789Z",
     "iopub.status.busy": "2024-08-02T21:46:31.192506Z",
     "iopub.status.idle": "2024-08-02T21:46:31.231558Z",
     "shell.execute_reply": "2024-08-02T21:46:31.230997Z",
     "shell.execute_reply.started": "2024-08-02T21:46:31.192765Z"
    }
   },
   "outputs": [
    {
     "name": "stdout",
     "output_type": "stream",
     "text": [
      " Ground Truth\n",
      " Total samples:  34,542\n",
      " Label 0:  30,378      % 87.95 \n",
      " Label 1:   4,164      % 12.05 \n",
      "\n",
      " Predictions\n",
      " Total samples:  34,542\n",
      " Label 0:  34,534      % 99.98 \n",
      " Label 1:       8      % 0.02 \n",
      "\n"
     ]
    }
   ],
   "source": [
    "for grp_name, labels in [(\"Ground Truth\", test_y), (\"Predictions\", y_pred)]:\n",
    "    bcnt = np.bincount(labels.astype(np.int64))\n",
    "    print(f\" {grp_name}\")\n",
    "    print(f\" Total samples: {bcnt.sum():7,d}\")\n",
    "    print(f\" Label 0: {bcnt[0]:7,d}      % {bcnt[0]*100/bcnt.sum():2.2f} \")\n",
    "    print(f\" Label 1: {bcnt[1]:7,d}      % {bcnt[1]*100/bcnt.sum():2.2f} \")\n",
    "    print(\"\")"
   ]
  },
  {
   "cell_type": "code",
   "execution_count": 320,
   "id": "4325961c-35de-458d-8914-bed03a9680aa",
   "metadata": {
    "execution": {
     "iopub.execute_input": "2024-08-02T21:46:59.174662Z",
     "iopub.status.busy": "2024-08-02T21:46:59.174303Z",
     "iopub.status.idle": "2024-08-02T21:46:59.221516Z",
     "shell.execute_reply": "2024-08-02T21:46:59.220868Z",
     "shell.execute_reply.started": "2024-08-02T21:46:59.174638Z"
    }
   },
   "outputs": [
    {
     "name": "stdout",
     "output_type": "stream",
     "text": [
      " Test Accuracy: 0.879625\n",
      " Precision: 0.87500     Recall: 0.00168     F1: 0.00336 \n",
      " True + labels: 4164.0  Predicted + labels: 8.0     Match: 30384 \n"
     ]
    }
   ],
   "source": [
    "test_accuracy = skm.accuracy_score(test_y, y_pred)\n",
    "precision, recall, f1, support = skm.precision_recall_fscore_support(test_y, y_pred, average='binary', zero_division=0)\n",
    "\n",
    "print(f\" Test Accuracy: {test_accuracy:4f}\")\n",
    "print(f\" Precision: {precision:.5f}     Recall: {recall:.5f}     F1: {f1:.5f} \"\n",
    "      f\"\\n True + labels: {test_y.sum()}  Predicted + labels: {y_pred.sum()}     Match: {(y_pred == test_y).sum()} \" )"
   ]
  },
  {
   "cell_type": "code",
   "execution_count": 321,
   "id": "4c188428-fc66-4d60-9828-189dd399ea43",
   "metadata": {
    "execution": {
     "iopub.execute_input": "2024-08-02T21:47:13.653781Z",
     "iopub.status.busy": "2024-08-02T21:47:13.653291Z",
     "iopub.status.idle": "2024-08-02T21:47:14.148204Z",
     "shell.execute_reply": "2024-08-02T21:47:14.147268Z",
     "shell.execute_reply.started": "2024-08-02T21:47:13.653741Z"
    }
   },
   "outputs": [
    {
     "data": {
      "image/png": "[encoded data removed]",
      "text/plain": [
       "<Figure size 1000x500 with 2 Axes>"
      ]
     },
     "metadata": {},
     "output_type": "display_data"
    }
   ],
   "source": [
    "rows = 1\n",
    "cols=2\n",
    "fig, axs = plt.subplots(1, 2, sharey=False, tight_layout=True, figsize=(cols *5,5) )\n",
    "_ = skm.PrecisionRecallDisplay.from_predictions(test_y, y_pred, plot_chance_level = True, ax = axs[0])\n",
    "_ = skm.RocCurveDisplay.from_predictions(test_y, y_pred, plot_chance_level= True, ax = axs[1])\n",
    "_ = axs[0].set_title(\" Precision / Recall \")\n",
    "_ = axs[1].set_title(\" ROC Curve \")\n",
    "plt.show()"
   ]
  },
  {
   "cell_type": "code",
   "execution_count": 322,
   "id": "85f465f1-a4b7-4100-a0aa-d0463de3642b",
   "metadata": {
    "execution": {
     "iopub.execute_input": "2024-08-02T21:47:17.175144Z",
     "iopub.status.busy": "2024-08-02T21:47:17.174659Z",
     "iopub.status.idle": "2024-08-02T21:50:39.928280Z",
     "shell.execute_reply": "2024-08-02T21:50:39.927236Z",
     "shell.execute_reply.started": "2024-08-02T21:47:17.175103Z"
    }
   },
   "outputs": [
    {
     "data": {
      "image/png": "[encoded data removed]",
      "text/plain": [
       "<Figure size 1000x500 with 2 Axes>"
      ]
     },
     "metadata": {},
     "output_type": "display_data"
    }
   ],
   "source": [
    "rows = 1\n",
    "cols=2\n",
    "fig, axs = plt.subplots(1, 2, sharey=False, tight_layout=True, figsize=(cols *5,5) )\n",
    "_ = skm.PrecisionRecallDisplay.from_estimator(vt_svm.best_estimator_, test_X, test_y, plot_chance_level = True, ax = axs[0])\n",
    "_ = skm.RocCurveDisplay.from_estimator(vt_svm.best_estimator_, test_X, test_y, plot_chance_level= True, ax = axs[1])\n",
    "_ = axs[0].set_title(\" Precision / Recall \")\n",
    "_ = axs[1].set_title(\" ROC Curve \")\n",
    "plt.show()"
   ]
  },
  {
   "cell_type": "code",
   "execution_count": null,
   "id": "948cdc86-631b-4b4d-8afb-d3697f4a8c81",
   "metadata": {},
   "outputs": [],
   "source": []
  }
 ],
 "metadata": {
  "kernelspec": {
   "display_name": "Python [conda env:ptsnnl]",
   "language": "python",
   "name": "conda-env-ptsnnl-py"
  },
  "language_info": {
   "codemirror_mode": {
    "name": "ipython",
    "version": 3
   },
   "file_extension": ".py",
   "mimetype": "text/x-python",
   "name": "python",
   "nbconvert_exporter": "python",
   "pygments_lexer": "ipython3",
   "version": "3.11.0"
  }
 },
 "nbformat": 4,
 "nbformat_minor": 5
}
