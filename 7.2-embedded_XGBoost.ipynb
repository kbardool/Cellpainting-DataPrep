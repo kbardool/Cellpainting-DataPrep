{
 "cells": [
  {
   "cell_type": "markdown",
   "id": "418c282c-2b25-4f32-96cf-883b40b84c36",
   "metadata": {
    "editable": true,
    "jp-MarkdownHeadingCollapsed": true,
    "slideshow": {
     "slide_type": ""
    },
    "tags": []
   },
   "source": [
    "  # Training on latent representations"
   ]
  },
  {
   "cell_type": "markdown",
   "id": "14da93a6-653f-4a55-9b3a-e72ab79a1121",
   "metadata": {},
   "source": [
    "# Setup"
   ]
  },
  {
   "cell_type": "code",
   "execution_count": 1,
   "id": "a104a277-3ad3-438a-b706-d4499f709f89",
   "metadata": {
    "ExecuteTime": {
     "end_time": "2023-04-12T10:29:16.111588Z",
     "start_time": "2023-04-12T10:29:15.764305Z"
    },
    "editable": true,
    "execution": {
     "iopub.execute_input": "2024-08-08T04:48:37.034175Z",
     "iopub.status.busy": "2024-08-08T04:48:37.033690Z",
     "iopub.status.idle": "2024-08-08T04:48:37.059159Z",
     "shell.execute_reply": "2024-08-08T04:48:37.058481Z",
     "shell.execute_reply.started": "2024-08-08T04:48:37.034131Z"
    },
    "slideshow": {
     "slide_type": ""
    },
    "tags": []
   },
   "outputs": [
    {
     "data": {
      "text/html": [
       "<style>.container { width:98% !important; }</style>"
      ],
      "text/plain": [
       "<IPython.core.display.HTML object>"
      ]
     },
     "metadata": {},
     "output_type": "display_data"
    }
   ],
   "source": [
    "%load_ext autoreload  \n",
    "%autoreload 2\n",
    "from IPython.display import display, HTML, Image\n",
    "from IPython.core.interactiveshell import InteractiveShell\n",
    "display(HTML(\"<style>.container { width:98% !important; }</style>\"))\n",
    "InteractiveShell.ast_node_interactivity = \"all\""
   ]
  },
  {
   "cell_type": "code",
   "execution_count": 2,
   "id": "7478f60a-2ea2-4407-bd91-f068349f222b",
   "metadata": {
    "ExecuteTime": {
     "end_time": "2023-04-12T10:29:16.111588Z",
     "start_time": "2023-04-12T10:29:15.764305Z"
    },
    "editable": true,
    "execution": {
     "iopub.execute_input": "2024-08-08T04:48:39.262603Z",
     "iopub.status.busy": "2024-08-08T04:48:39.262142Z",
     "iopub.status.idle": "2024-08-08T04:48:43.229395Z",
     "shell.execute_reply": "2024-08-08T04:48:43.228342Z",
     "shell.execute_reply.started": "2024-08-08T04:48:39.262558Z"
    },
    "slideshow": {
     "slide_type": ""
    },
    "tags": []
   },
   "outputs": [
    {
     "name": "stdout",
     "output_type": "stream",
     "text": [
      "insert ./src\n",
      "insert ../..\n",
      "['../..', './src', '/home/kevin/WSL-shared/cellpainting/cj-datasets', '/home/kevin/miniforge3/envs/cp311/lib/python311.zip', '/home/kevin/miniforge3/envs/cp311/lib/python3.11', '/home/kevin/miniforge3/envs/cp311/lib/python3.11/lib-dynload', '', '/home/kevin/miniforge3/envs/cp311/lib/python3.11/site-packages', '/home/kevin/miniforge3/envs/cp311/lib/python3.11/site-packages/huggingface_hub-0.20.3-py3.8.egg']\n"
     ]
    }
   ],
   "source": [
    "import os\n",
    "import sys\n",
    "import csv\n",
    "import json\n",
    "import time\n",
    "import types\n",
    "import copy\n",
    "import pprint\n",
    "import logging\n",
    "from datetime import datetime\n",
    "for p in ['./src','../..']:\n",
    "    if p not in sys.path:\n",
    "        print(f\"insert {p}\")\n",
    "        sys.path.insert(0, p)\n",
    "print(sys.path)\n",
    "# import shutil\n",
    "# import getpass\n",
    "# import yaml\n",
    "# import hydra\n",
    "# from hydra import initialize, initialize_config_module, initialize_config_dir, compose\n",
    "# from omegaconf import OmegaConf\n",
    "# from typing import Dict, List, Tuple\n",
    "# from scipy.sparse import csr_matrix\n",
    "# from tqdm import tqdm\n",
    "# import wandb\n",
    "from collections import defaultdict\n",
    "from collections.abc import Iterator\n",
    "import numpy as np\n",
    "import pandas as pd\n",
    "import scipy\n",
    "import torch\n",
    "import torch.nn.functional as F\n",
    "from torchinfo import summary\n",
    "\n",
    "torch.set_printoptions(precision=None, threshold=None, edgeitems=None, linewidth=150, profile=None, sci_mode=None)\n",
    "pp = pprint.PrettyPrinter(indent=4)\n",
    "pd.options.display.width = 132\n",
    "torch.set_printoptions(precision=None, threshold=None, edgeitems=None, linewidth=150, profile=None, sci_mode=None)\n",
    "np.set_printoptions(edgeitems=3, infstr='inf', linewidth=150, nanstr='nan')\n",
    "\n",
    "os.environ[\"WANDB_NOTEBOOK_NAME\"] = \"AE-MAIN-SNNL.ipynb\"\n",
    "# os.environ[\"CUDA_LAUNCH_BLOCKING\"] = \"1\"\n",
    "# os.environ[\"CUDA_VISIBLE_DEVICES\"] = \"2\""
   ]
  },
  {
   "cell_type": "code",
   "execution_count": 3,
   "id": "9473003f-757e-4cf6-b5da-491ae0e04f57",
   "metadata": {
    "editable": true,
    "execution": {
     "iopub.execute_input": "2024-08-08T04:48:43.231081Z",
     "iopub.status.busy": "2024-08-08T04:48:43.230682Z",
     "iopub.status.idle": "2024-08-08T04:48:47.578026Z",
     "shell.execute_reply": "2024-08-08T04:48:47.577075Z",
     "shell.execute_reply.started": "2024-08-08T04:48:43.231060Z"
    },
    "slideshow": {
     "slide_type": ""
    },
    "tags": []
   },
   "outputs": [
    {
     "name": "stderr",
     "output_type": "stream",
     "text": [
      "/home/kevin/miniforge3/envs/cp311/lib/python3.11/site-packages/dask/dataframe/_pyarrow_compat.py:17: FutureWarning: Minimal version of pyarrow will soon be increased to 14.0.1. You are using 11.0.0. Please consider upgrading.\n",
      "  warnings.warn(\n"
     ]
    }
   ],
   "source": [
    "# import snnl.utils as utils\n",
    "# from snnl.utils import parse_args, load_configuration, set_global_seed, get_device, set_device\n",
    "from KevinsRoutines.utils.utils_general import list_namespace, save_to_pickle, load_from_pickle\n",
    "from utils.utils_cellpainting import compute_classification_metrics"
   ]
  },
  {
   "cell_type": "code",
   "execution_count": 4,
   "id": "46fc79f1-4481-4f1c-bed7-a5e375ea3eae",
   "metadata": {
    "editable": true,
    "execution": {
     "iopub.execute_input": "2024-08-08T04:48:49.888793Z",
     "iopub.status.busy": "2024-08-08T04:48:49.888283Z",
     "iopub.status.idle": "2024-08-08T04:48:51.223371Z",
     "shell.execute_reply": "2024-08-08T04:48:51.222115Z",
     "shell.execute_reply.started": "2024-08-08T04:48:49.888748Z"
    },
    "slideshow": {
     "slide_type": ""
    },
    "tags": []
   },
   "outputs": [],
   "source": [
    "import scipy.stats as sps\n",
    "import sklearn.metrics as skm\n",
    "from scipy.spatial.distance import pdist, squareform, euclidean\n",
    "import matplotlib.pyplot as plt\n",
    "import seaborn as sb\n",
    " \n",
    "from sklearn.model_selection import train_test_split\n",
    "import sklearn.utils.random as skr\n",
    "import xgboost as xgb\n",
    "# from sklearn.metrics import accuracy_score, f1_score, roc_curve, roc_auc_score, classification_report, precision_recall_fscore_support\n",
    "# from sklearn.metrics import precision_recall_curve, PrecisionRecallDisplay, roc_curve, RocCurveDisplay\n",
    "# from sklearn.metrics import confusion_matrix, ConfusionMatrixDisplay"
   ]
  },
  {
   "cell_type": "code",
   "execution_count": 5,
   "id": "6651619f-dac6-4962-881e-8fd87b2cbfe2",
   "metadata": {
    "editable": true,
    "execution": {
     "iopub.execute_input": "2024-08-08T04:48:52.833413Z",
     "iopub.status.busy": "2024-08-08T04:48:52.832882Z",
     "iopub.status.idle": "2024-08-08T04:48:54.298030Z",
     "shell.execute_reply": "2024-08-08T04:48:54.296816Z",
     "shell.execute_reply.started": "2024-08-08T04:48:52.833367Z"
    },
    "slideshow": {
     "slide_type": ""
    },
    "tags": []
   },
   "outputs": [],
   "source": [
    "# Models\n",
    "from xgboost import XGBClassifier, XGBRegressor\n",
    "\n",
    "import sklearn.metrics as skm\n",
    "from sklearn.decomposition import PCA\n",
    "from sklearn.manifold import TSNE\n",
    "\n",
    "from sklearn.ensemble import RandomForestClassifier, RandomForestRegressor\n",
    "from sklearn.svm import SVC, SVR\n",
    "from sklearn.neighbors import KNeighborsClassifier, KNeighborsRegressor\n",
    "\n",
    "# utility class to help normalize labels such that they contain only values between 0 and n_classes-1.\n",
    "from sklearn.preprocessing import LabelEncoder\n",
    "\n",
    "# K-Folds cross-validator - Provides train/test indices to split data in train/test sets. Split dataset into k consecutive folds (without shuffling by default).\n",
    "# Each fold is then used once as a validation while the k - 1 remaining folds form the training set.\n",
    "from sklearn.model_selection import KFold, StratifiedKFold\n",
    "from sklearn.model_selection import GroupKFold, StratifiedGroupKFold\n",
    "from sklearn.model_selection import ShuffleSplit, GroupShuffleSplit, StratifiedShuffleSplit, TimeSeriesSplit\n",
    "\n",
    "# Evaluate metric(s) by cross-validation and also record fit/score times.\n",
    "from sklearn.model_selection import cross_validate, cross_val_score\n",
    "\n",
    "# Generate cross-validated estimates for each input data point.\n",
    "# The data is split according to the cv parameter. Each sample belongs to exactly one test set,\n",
    "# and its prediction is computed with an estimator fitted on the corresponding training set.\n",
    "from sklearn.model_selection import cross_val_predict\n",
    "\n",
    "# Exhaustive search over specified parameter values for an estimator.\n",
    "# Randomized search on hyper parameters.\n",
    "from sklearn.model_selection import GridSearchCV, RandomizedSearchCV\n",
    "\n",
    "# Input checker utility for building a cross-validator.(?)\n",
    "from sklearn.model_selection._split import check_cv\n",
    "\n",
    "from sklearn.pipeline import Pipeline\n",
    "\n",
    "# Make a scorer from a performance metric or loss function. This factory function wraps scoring\n",
    "# functions for use in GridSearchCV and cross_val_score. It takes a score function, such as accuracy_score,\n",
    "# mean_squared_error, adjusted_rand_score or average_precision_score and returns a callable that\n",
    "# scores an estimator’s output. The signature of the call is (estimator, X, y) where estimator\n",
    "# is the model to be evaluated, X is the data and y is the ground truth labeling (or None in the\n",
    "# case of unsupervised models).\n",
    "from sklearn.metrics import make_scorer\n",
    "\n",
    "# regression matrics\n",
    "from sklearn.metrics import mean_absolute_error, mean_squared_error, r2_score\n",
    "\n",
    "# classification metrics\n",
    "from sklearn.metrics import accuracy_score, confusion_matrix, classification_report\n",
    "\n",
    "# from sklearn.base import BaseEstimator\n",
    "# from sklearn.base import ClassifierMixin\n",
    "# from sklearn.base import TransformerMixin\n",
    "\n",
    "# Construct a new unfitted estimator with the same parameters. Clone does a deep copy of the model\n",
    "# in an estimator without actually copying attached data. It returns a new estimator with the same\n",
    "# parameters that has not been fitted on any data.\n",
    "# from sklearn.base import clone\n",
    "from sklearn.preprocessing import StandardScaler\n"
   ]
  },
  {
   "cell_type": "code",
   "execution_count": 7,
   "id": "c12352c5-443c-414b-bb2b-6ea5ba801515",
   "metadata": {
    "editable": true,
    "execution": {
     "iopub.execute_input": "2024-08-08T04:50:08.509479Z",
     "iopub.status.busy": "2024-08-08T04:50:08.508974Z",
     "iopub.status.idle": "2024-08-08T04:50:08.553912Z",
     "shell.execute_reply": "2024-08-08T04:50:08.552913Z",
     "shell.execute_reply.started": "2024-08-08T04:50:08.509434Z"
    },
    "scrolled": true,
    "slideshow": {
     "slide_type": ""
    },
    "tags": []
   },
   "outputs": [
    {
     "name": "stderr",
     "output_type": "stream",
     "text": [
      "2024-08-08 06:50:08,545 - __main__ - INFO: -  Excution started : 2024_08_08_06:50:08 \n",
      "2024-08-08 06:50:08,546 - __main__ - INFO: -  Pytorch version  : 2.2.0\n",
      "2024-08-08 06:50:08,548 - __main__ - INFO: -  Scipy version    : 1.11.4\n",
      "2024-08-08 06:50:08,548 - __main__ - INFO: -  Numpy version    : 1.26.2\n",
      "2024-08-08 06:50:08,549 - __main__ - INFO: -  Pandas version   : 2.2.0  \n"
     ]
    }
   ],
   "source": [
    "timestamp = datetime.now().strftime('%Y_%m_%d_%H:%M:%S')\n",
    "logger = logging.getLogger(__name__)\n",
    "logLevel = os.environ.get('LOG_LEVEL', 'INFO').upper()\n",
    "FORMAT = '%(asctime)s - %(name)s - %(levelname)s: - %(message)s'\n",
    "logging.basicConfig(level=\"INFO\", format= FORMAT)\n",
    "\n",
    "logger.info(f\" Excution started : {timestamp} \")\n",
    "logger.info(f\" Pytorch version  : {torch.__version__}\")\n",
    "logger.info(f\" Scipy version    : {scipy.__version__}\") \n",
    "logger.info(f\" Numpy version    : {np.__version__}\")\n",
    "logger.info(f\" Pandas version   : {pd.__version__}  \")\n"
   ]
  },
  {
   "cell_type": "markdown",
   "id": "cdaa5260-01ce-4a98-b597-62c43c388f43",
   "metadata": {},
   "source": [
    "## Helper routines"
   ]
  },
  {
   "cell_type": "code",
   "execution_count": 8,
   "id": "fad41fd4-cbab-4881-92bc-0c04a9d2864a",
   "metadata": {
    "editable": true,
    "execution": {
     "iopub.execute_input": "2024-08-08T04:50:14.431256Z",
     "iopub.status.busy": "2024-08-08T04:50:14.430602Z",
     "iopub.status.idle": "2024-08-08T04:50:14.473053Z",
     "shell.execute_reply": "2024-08-08T04:50:14.472063Z",
     "shell.execute_reply.started": "2024-08-08T04:50:14.431216Z"
    },
    "slideshow": {
     "slide_type": ""
    },
    "tags": []
   },
   "outputs": [],
   "source": [
    "# model selection (hyperparameter tuning)\n",
    "\n",
    "def model_selection(model, params_grid, X, y,\n",
    "                    scoring = None, \n",
    "                    cv=5, n_jobs=6, pre_dispatch = None,\n",
    "                    GridSearch = True, n_iter=20,\n",
    "                    refit = True, verbose = 0):\n",
    "    \"\"\"\n",
    "    return the refitted model on the whole train data\n",
    "    input:\n",
    "    -----\n",
    "    model:          model to be grid searched\n",
    "    params_grid:    dictionary of hyperparms to grid search\n",
    "    X, y:           obvious\n",
    "    scoring:        scoring Strategy to evaluate the performance of the cross-validated model on the test set.\n",
    "    cv:             cross-validation fold, integer specifies the number of folds in a (Stratified)KFold,\n",
    "                    stratified is used if the estimator is a classifier and y is either binary or multiclass\n",
    "    n_iter          Number of parameter settings that are sampled in RandomizedSearchCV.\n",
    "                    n_iter trades off runtime vs quality of the solution.\n",
    "    refit:          Refit an estimator using the best found parameters on the whole dataset.\n",
    "    \"\"\"\n",
    "    print(f\" verbose is {verbose}\")\n",
    "    if verbose > 0:\n",
    "        print(f\" params_grid: {params_grid}\")\n",
    "        print(f\" scoring    : {scoring}     cv:  {cv}   n_jobs: {n_jobs}   gridsearch: {GridSearch}    n_iter: {n_iter}   refit: {refit}   \")\n",
    "    if pre_dispatch is None:\n",
    "        pre_dispatch = n_jobs\n",
    "    if GridSearch :\n",
    "        model_train = GridSearchCV(model, \n",
    "                                   params_grid, \n",
    "                                   cv=cv, \n",
    "                                   n_jobs=n_jobs,\n",
    "                                   scoring = scoring, \n",
    "                                   pre_dispatch = pre_dispatch,\n",
    "                                   refit = refit, \n",
    "                                   verbose = verbose)\n",
    "    else:\n",
    "        model_train = RandomizedSearchCV(model, \n",
    "                                         param_distributions = params_grid, \n",
    "                                         cv=cv, \n",
    "                                         n_jobs = n_jobs, \n",
    "                                         n_iter = n_iter,\n",
    "                                         scoring=scoring,\n",
    "                                         pre_dispatch = pre_dispatch,\n",
    "                                         refit = refit, verbose = verbose)\n",
    "\n",
    "    model_train.fit(X, y)\n",
    "\n",
    "    print(\"Best parameters set found on development set:\", model_train.best_params_ )\n",
    "    print(\"Best score:\", model_train.best_score_ )\n",
    "\n",
    "    print(\"Grid scores on development set:\")\n",
    "    print()\n",
    "    means = model_train.cv_results_['mean_test_score']\n",
    "    stds = model_train.cv_results_['std_test_score']\n",
    "\n",
    "\n",
    "    for mean, std, params in zip(means, stds, model_train.cv_results_['params']):\n",
    "        print(\"%0.5f (+/-%0.03f) for %r\" % (mean, std * 2, params))\n",
    "    return model_train\n"
   ]
  },
  {
   "cell_type": "code",
   "execution_count": 9,
   "id": "6d15fb3a-d22e-4f97-b05d-9d09ffd74fd6",
   "metadata": {
    "execution": {
     "iopub.execute_input": "2024-08-08T04:50:20.080571Z",
     "iopub.status.busy": "2024-08-08T04:50:20.080076Z",
     "iopub.status.idle": "2024-08-08T04:50:20.125772Z",
     "shell.execute_reply": "2024-08-08T04:50:20.124889Z",
     "shell.execute_reply.started": "2024-08-08T04:50:20.080529Z"
    }
   },
   "outputs": [],
   "source": [
    "def balance_datasets(X,y, ratio = 2, verbose = False):\n",
    "    y = y.astype(np.uint8)\n",
    "    neg_idxs = np.nonzero([y == 0])[1]\n",
    "    pos_idxs = np.nonzero([y == 1])[1]\n",
    "    pos_idxs = np.array(pos_idxs)\n",
    "    # print(f\"\\n # Pos rows: {len(pos_idxs)}   # Neg rows: {len(neg_idxs)}  Total: {len(pos_idxs)+ len(neg_idxs)}\")\n",
    "    # print(f\" # Pos compounds: {len(pos_idxs)//3}   # Neg compounds: {len(neg_idxs)//3}  total: {(len(pos_idxs) + len(neg_idxs))//3}\")\n",
    "    # print(f\"\\n pos indexes - len: {len(pos_idxs)}\")\n",
    "    # print( pos_idxs[:50])\n",
    "    # print( pos_idxs[-50:])\n",
    "    # print(f\"\\n neg indexes - len: {len(neg_idxs)}\")\n",
    "    # print(neg_idxs[:50])\n",
    "    # print(neg_idxs[-50:])\n",
    "    \n",
    "    stepped_pos_idxs = [x for x in pos_idxs if x % 3 == 0]\n",
    "    stepped_neg_idxs = [x for x in neg_idxs if x % 3 == 0]\n",
    "    stepped_neg_idxs = np.array(stepped_neg_idxs)\n",
    "    pos_counts = len(stepped_pos_idxs)\n",
    "    neg_counts = len(stepped_neg_idxs)\n",
    "    \n",
    "    if verbose:\n",
    "        print(f\"\\n # Pos counts: {pos_counts}    # Neg counts: {neg_counts}   Total: {pos_counts+neg_counts}\")\n",
    "        print(f\"\\n pos indexes - len: {pos_counts}\")\n",
    "        print(stepped_pos_idxs[:25])\n",
    "        print(stepped_pos_idxs[-25:])\n",
    "        print(f\"\\n neg indexes - len: {neg_counts}\")\n",
    "        print(stepped_neg_idxs[:25])\n",
    "        print(stepped_neg_idxs[-25:])\n",
    "        print()\n",
    "    num_neg_samples = ratio * pos_counts\n",
    "    \n",
    "    print(f\"\\n Take {pos_counts} samples from total of {pos_counts} postive training samples\")\n",
    "    print(f\" Take {num_neg_samples} samples from total of {neg_counts} negative training samples\")\n",
    "    sample_idxs = skr.sample_without_replacement(n_population=neg_counts, n_samples= num_neg_samples, )\n",
    "    sample_idxs.sort()\n",
    "    neg_sample_idxs = stepped_neg_idxs[sample_idxs]\n",
    "    if verbose:\n",
    "        print(f\"\\n Sample indxs - len: {len(sample_idxs)}\")\n",
    "        print(f\" {sample_idxs[:20]}\")\n",
    "        print(f\" {sample_idxs[-20:]}\")\n",
    "        print(f\"\\n neg_sample_idxs: {len(neg_sample_idxs)}\")\n",
    "        print(f\"{neg_sample_idxs[:20]}\")\n",
    "        print(f\"{neg_sample_idxs[-20:]}\")\n",
    "        print()\n",
    "        print(neg_sample_idxs[:20])\n",
    "        print(neg_sample_idxs[:20]+1)\n",
    "        print(neg_sample_idxs[:20]+2)\n",
    "    \n",
    "    neg_sample_idxs_3 = np.concatenate((neg_sample_idxs, neg_sample_idxs+1, neg_sample_idxs+2))\n",
    "    neg_sample_idxs_3.sort()\n",
    "    if verbose:\n",
    "        print(f\"\\n pos_sample_idxs_3: {len(pos_idxs)}\")\n",
    "        print(f\" [:20] :{pos_idxs[:20]}\")\n",
    "        print(f\" [-20:] {pos_idxs[-20:]}\")\n",
    "        print(f\"\\n neg_sample_idxs_3: {len(neg_sample_idxs_3)}\")\n",
    "        print(f\" [:20] :{neg_sample_idxs_3[:20]}\")\n",
    "        print(f\" [-20:] {neg_sample_idxs_3[-20:]}\")\n",
    "    \n",
    "    balanced_ds_idxs = np.concatenate((pos_idxs, neg_sample_idxs_3))\n",
    "\n",
    "    bal_X = X[balanced_ds_idxs]\n",
    "    bal_y = y[balanced_ds_idxs]\n",
    "\n",
    "    print(f\"\\n Balanced Dataset: # pos samples: {len(pos_idxs)}    # Neg samples: {len(neg_sample_idxs_3)}  Total len: {len(balanced_ds_idxs)}\")   \n",
    "    print(f\"\\n X :  Min: {bal_X.min():.4f}    Max: {bal_X.max():.4f}   Mean: {bal_X.mean():.4f}  Std: {bal_X.std():.4f}\")\n",
    "    print(f\" y :  Min: {bal_y.min():.4f}    Max: {bal_y.max():.4f}   Mean: {bal_y.mean():.4f}  Std: {bal_y.std():.4f}\")\n",
    "    return bal_X,bal_y"
   ]
  },
  {
   "cell_type": "code",
   "execution_count": 10,
   "id": "4e0565db-9e50-42df-8e4c-00c66c16cdf1",
   "metadata": {
    "execution": {
     "iopub.execute_input": "2024-08-08T04:50:21.565603Z",
     "iopub.status.busy": "2024-08-08T04:50:21.565120Z",
     "iopub.status.idle": "2024-08-08T04:50:21.610659Z",
     "shell.execute_reply": "2024-08-08T04:50:21.609872Z",
     "shell.execute_reply.started": "2024-08-08T04:50:21.565561Z"
    }
   },
   "outputs": [],
   "source": [
    "def label_counts(input_list = None, title = None, label = None):\n",
    "    if input_list is None:\n",
    "        input_list = [(title, label)]\n",
    "\n",
    "    for (ttl, lbl) in input_list:\n",
    "        bcnt = np.bincount(lbl.astype(np.int64))\n",
    "        bcnt_sum = bcnt.sum()\n",
    "        print(f\" {ttl}\")\n",
    "        print('','-'*(len(ttl)+1))\n",
    "        print(f\" Total samples: {bcnt_sum}  - compounds: {bcnt_sum//3}\")\n",
    "        print(f\" Label 0: {bcnt[0]:7,d}      % {bcnt[0]*100/bcnt_sum:2.2f} \")\n",
    "        print(f\" Label 1: {bcnt[1]:7,d}      % {bcnt[1]*100/bcnt_sum:2.2f} \")\n",
    "        print(\"\")\n",
    "        \n",
    "def compute_metrics(true, pred, title = 'Classification Metrics'):\n",
    "    test_accuracy = skm.accuracy_score(true, pred)\n",
    "    # precision : tp / (tp+fp)\n",
    "    precision, recall, f1, support = skm.precision_recall_fscore_support(true, pred, average='binary', zero_division=0)\n",
    "    label_count = len(true)\n",
    "    print(f\" {title}\")\n",
    "    print('-'*(len(title)+2))\n",
    "    print(f\" Accuracy: {test_accuracy:.5f}     Precision: {precision:.5f}     Recall: {recall:.5f}     F1: {f1:.5f} \\n\"\n",
    "          f\"\\n True + labels:        {true.sum():6.0f}     ratio to total:  {true.sum()/label_count:.5f}\"\n",
    "          f\"\\n Predicted + labels:   {pred.sum():6d}     ratio to total:  {pred.sum()/label_count:.5f}\"\n",
    "          f\"\\n True/Predicted Match: {(pred == true).sum():6d}     ratio to total:  {(pred==true).sum()/label_count:.5f}\" )\n",
    "\n",
    "def plots_from_estimator(estim, X, y):\n",
    "    rows = 1\n",
    "    cols = 3\n",
    "    fig, axs = plt.subplots(1, cols, sharey=False, tight_layout=True, figsize=(cols *5,5))\n",
    "    _ = skm.PrecisionRecallDisplay.from_estimator(estim, X, y, plot_chance_level = True, ax = axs[0])\n",
    "    _ = skm.RocCurveDisplay.from_estimator(estim, X, y, plot_chance_level= True, ax = axs[1])\n",
    "    _ = skm.ConfusionMatrixDisplay.from_estimator(estim, X, y, ax = axs[2])\n",
    "    _ = axs[0].set_title(\" Precision / Recall \")\n",
    "    _ = axs[1].set_title(\" ROC Curve \")\n",
    "    plt.show()\n",
    "\n",
    "def plots_from_predictions(true, pred):\n",
    "    rows = 1\n",
    "    cols = 3\n",
    "    fig, axs = plt.subplots(1, cols, sharey=False, tight_layout=True, figsize=(cols *5,5) )\n",
    "    _ = skm.PrecisionRecallDisplay.from_predictions(true, pred, plot_chance_level = True, ax = axs[0])\n",
    "    _ = skm.RocCurveDisplay.from_predictions(true, pred, plot_chance_level= True, ax = axs[1])\n",
    "    _ = skm.ConfusionMatrixDisplay.from_predictions(true, pred, ax = axs[2], values_format='d')\n",
    "    _ = axs[0].set_title(\" Precision / Recall \")\n",
    "    _ = axs[1].set_title(\" ROC Curve \")\n",
    "    plt.show()"
   ]
  },
  {
   "cell_type": "markdown",
   "id": "cdac793b-be20-4c56-8bab-989c05caad80",
   "metadata": {},
   "source": [
    "### main(args)"
   ]
  },
  {
   "cell_type": "code",
   "execution_count": 11,
   "id": "c25082b2-753b-4069-b183-00a90f611b68",
   "metadata": {
    "editable": true,
    "execution": {
     "iopub.execute_input": "2024-08-08T04:50:28.581705Z",
     "iopub.status.busy": "2024-08-08T04:50:28.581150Z",
     "iopub.status.idle": "2024-08-08T04:50:28.624022Z",
     "shell.execute_reply": "2024-08-08T04:50:28.623268Z",
     "shell.execute_reply.started": "2024-08-08T04:50:28.581658Z"
    },
    "slideshow": {
     "slide_type": ""
    },
    "tags": []
   },
   "outputs": [],
   "source": [
    "LATENT_DIM    = 150\n",
    "HIDDEN_1      = 512\n",
    "DATE          = 'yyyymmdd-hhmm'\n",
    "EPOCHS        = 5\n",
    "COMPOUNDS_PER_BATCH = 200\n",
    "RUNMODE       = \"snnl\"\n",
    "CONFIGURATION   = \"./hyperparameters/ae_sn_150_512_cpb.yaml\"\n",
    "input_path = f\"/home/kevin/WSL-shared/cellpainting/cj-datasets/output_11102023/3_sample_embeddings/\"\n",
    "output_path = f\"./embedding_models/\""
   ]
  },
  {
   "cell_type": "code",
   "execution_count": 12,
   "id": "60285362-f1d0-48f0-91d3-1787dce08036",
   "metadata": {
    "editable": true,
    "execution": {
     "iopub.execute_input": "2024-08-08T04:50:29.399129Z",
     "iopub.status.busy": "2024-08-08T04:50:29.398559Z",
     "iopub.status.idle": "2024-08-08T04:50:29.435688Z",
     "shell.execute_reply": "2024-08-08T04:50:29.434814Z",
     "shell.execute_reply.started": "2024-08-08T04:50:29.399089Z"
    },
    "slideshow": {
     "slide_type": ""
    },
    "tags": []
   },
   "outputs": [],
   "source": [
    "BASE_runmode = 'BASELINE'\n",
    "base_date = \"20240709\"\n",
    "base_time = \"1950\"\n",
    "## SNNL\n",
    "SNNL_runmode = 'SNNL'\n",
    "snnl_date = \"20240718\"\n",
    "snnl_time = \"1956\"\n",
    "indicator = 'd'\n",
    "##\n",
    "ex_title = f\"scpb{COMPOUNDS_PER_BATCH}-{LATENT_DIM}Ltnt\"\n",
    "ex_cpb = 200\n",
    "suffix = '*'\n",
    "epochs = 50"
   ]
  },
  {
   "cell_type": "code",
   "execution_count": 13,
   "id": "c2d45c0c-8e38-4a67-80d4-69274f7eed33",
   "metadata": {
    "editable": true,
    "execution": {
     "iopub.execute_input": "2024-08-08T04:50:30.014385Z",
     "iopub.status.busy": "2024-08-08T04:50:30.013959Z",
     "iopub.status.idle": "2024-08-08T04:50:30.049913Z",
     "shell.execute_reply": "2024-08-08T04:50:30.048983Z",
     "shell.execute_reply.started": "2024-08-08T04:50:30.014346Z"
    },
    "slideshow": {
     "slide_type": ""
    },
    "tags": []
   },
   "outputs": [
    {
     "name": "stdout",
     "output_type": "stream",
     "text": [
      "161\n",
      "3sample_profiles_embedding_161_HashOrder_{runmode}_20240709_1950_BEST_{datatype}.csv\n",
      "3sample_profiles_embedding_161_HashOrder_{runmode}_20240718_1956_BEST_{datatype}.csv\n"
     ]
    }
   ],
   "source": [
    "# = utils.load_model_from_ckpt(model, ex_mode, ex_timestamp, ex_title, epochs, ex_cpb, ex_factor )\n",
    "input_file_cols = ['Metadata_Source', 'Metadata_Batch', 'Metadata_Plate', 'Metadata_Well', 'Metadata_JCP2022', 'Metadata_Hash', 'Metadata_Bin', 'Metadata_TPSA', 'Metadata_lnTPSA', 'Metadata_log10TPSA', 'Metadata_Permiation']\n",
    "input_file_cols += [f'Feature_{x:03d}' for x in range(LATENT_DIM)]\n",
    "print(len(input_file_cols))\n",
    "\n",
    "BASE_BEST_INPUT_FILE = f\"3sample_profiles_embedding_{len(input_file_cols)}_HashOrder_{{runmode}}_{base_date}_{base_time}_BEST_{{datatype}}.csv\"\n",
    "BASE_LAST_INPUT_FILE = f\"3sample_profiles_embedding_{len(input_file_cols)}_HashOrder_{{runmode}}_{base_date}_{base_time}_LAST_{{datatype}}.csv\"\n",
    "SNNL_BEST_INPUT_FILE = f\"3sample_profiles_embedding_{len(input_file_cols)}_HashOrder_{{runmode}}_{snnl_date}_{snnl_time}_BEST_{{datatype}}.csv\"\n",
    "SNNL_LAST_INPUT_FILE = f\"3sample_profiles_embedding_{len(input_file_cols)}_HashOrder_{{runmode}}_{snnl_date}_{snnl_time}_LAST_{{datatype}}.csv\"\n",
    "\n",
    "print(BASE_BEST_INPUT_FILE)\n",
    "print(SNNL_BEST_INPUT_FILE)"
   ]
  },
  {
   "cell_type": "code",
   "execution_count": 14,
   "id": "ab7b33d4-10b8-44a2-a97b-3fb5e124812e",
   "metadata": {
    "editable": true,
    "execution": {
     "iopub.execute_input": "2024-08-08T04:50:30.961128Z",
     "iopub.status.busy": "2024-08-08T04:50:30.960640Z",
     "iopub.status.idle": "2024-08-08T04:50:31.007218Z",
     "shell.execute_reply": "2024-08-08T04:50:31.006152Z",
     "shell.execute_reply.started": "2024-08-08T04:50:30.961088Z"
    },
    "slideshow": {
     "slide_type": ""
    },
    "tags": []
   },
   "outputs": [
    {
     "data": {
      "text/plain": [
       "'/home/kevin/WSL-shared/cellpainting/cj-datasets/output_11102023/3_sample_embeddings/3sample_profiles_embedding_161_HashOrder_BASELINE_20240709_1950_BEST_train.csv'"
      ]
     },
     "execution_count": 14,
     "metadata": {},
     "output_type": "execute_result"
    },
    {
     "data": {
      "text/plain": [
       "'/home/kevin/WSL-shared/cellpainting/cj-datasets/output_11102023/3_sample_embeddings/3sample_profiles_embedding_161_HashOrder_BASELINE_20240709_1950_BEST_test.csv'"
      ]
     },
     "execution_count": 14,
     "metadata": {},
     "output_type": "execute_result"
    },
    {
     "data": {
      "text/plain": [
       "'/home/kevin/WSL-shared/cellpainting/cj-datasets/output_11102023/3_sample_embeddings/3sample_profiles_embedding_161_HashOrder_SNNL_20240718_1956_BEST_train.csv'"
      ]
     },
     "execution_count": 14,
     "metadata": {},
     "output_type": "execute_result"
    },
    {
     "data": {
      "text/plain": [
       "'/home/kevin/WSL-shared/cellpainting/cj-datasets/output_11102023/3_sample_embeddings/3sample_profiles_embedding_161_HashOrder_SNNL_20240718_1956_BEST_test.csv'"
      ]
     },
     "execution_count": 14,
     "metadata": {},
     "output_type": "execute_result"
    }
   ],
   "source": [
    "BASE_TRAIN_INPUT = os.path.join(input_path, BASE_BEST_INPUT_FILE.format(runmode = BASE_runmode ,datatype='train'))\n",
    "BASE_TEST_INPUT  = os.path.join(input_path, BASE_BEST_INPUT_FILE.format(runmode = BASE_runmode ,datatype='test'))\n",
    "SNNL_TRAIN_INPUT = os.path.join(input_path, SNNL_BEST_INPUT_FILE.format(runmode = SNNL_runmode ,datatype='train'))\n",
    "SNNL_TEST_INPUT  = os.path.join(input_path, SNNL_BEST_INPUT_FILE.format(runmode = SNNL_runmode ,datatype='test'))\n",
    "BASE_TRAIN_INPUT\n",
    "BASE_TEST_INPUT \n",
    "SNNL_TRAIN_INPUT\n",
    "SNNL_TEST_INPUT "
   ]
  },
  {
   "cell_type": "markdown",
   "id": "a967d653-5403-4533-9221-300cdf7c508e",
   "metadata": {},
   "source": [
    "# Input "
   ]
  },
  {
   "cell_type": "markdown",
   "id": "c0559cf4-2d97-4272-bf8d-e9a41b499dfb",
   "metadata": {},
   "source": [
    "## Read Embedded Features CSV file"
   ]
  },
  {
   "cell_type": "code",
   "execution_count": 15,
   "id": "8dff17ab-dd6a-49fe-8733-8f3448537618",
   "metadata": {
    "execution": {
     "iopub.execute_input": "2024-08-08T04:50:37.940975Z",
     "iopub.status.busy": "2024-08-08T04:50:37.940480Z",
     "iopub.status.idle": "2024-08-08T04:50:39.137012Z",
     "shell.execute_reply": "2024-08-08T04:50:39.135662Z",
     "shell.execute_reply.started": "2024-08-08T04:50:37.940932Z"
    }
   },
   "outputs": [],
   "source": [
    "df_test = pd.read_csv(BASE_TEST_INPUT )"
   ]
  },
  {
   "cell_type": "code",
   "execution_count": 16,
   "id": "1e4cce87-6b36-4daf-9869-ac508fc6c475",
   "metadata": {
    "execution": {
     "iopub.execute_input": "2024-08-08T04:50:39.139409Z",
     "iopub.status.busy": "2024-08-08T04:50:39.139158Z",
     "iopub.status.idle": "2024-08-08T04:50:39.385807Z",
     "shell.execute_reply": "2024-08-08T04:50:39.384923Z",
     "shell.execute_reply.started": "2024-08-08T04:50:39.139379Z"
    }
   },
   "outputs": [
    {
     "name": "stdout",
     "output_type": "stream",
     "text": [
      "<class 'pandas.core.frame.DataFrame'>\n",
      "RangeIndex: 34542 entries, 0 to 34541\n",
      "Columns: 161 entries, Metadata_Source to Feature_149\n",
      "dtypes: float64(154), int64(2), object(5)\n",
      "memory usage: 42.4+ MB\n"
     ]
    },
    {
     "data": {
      "text/plain": [
       "(34542, 161)"
      ]
     },
     "execution_count": 16,
     "metadata": {},
     "output_type": "execute_result"
    },
    {
     "data": {
      "text/plain": [
       "Index(['Metadata_Source', 'Metadata_Batch', 'Metadata_Plate', 'Metadata_Well', 'Metadata_JCP2022', 'Metadata_Hash', 'Metadata_Bin',\n",
       "       'Metadata_TPSA', 'Metadata_lnTPSA', 'Metadata_log10TPSA',\n",
       "       ...\n",
       "       'Feature_140', 'Feature_141', 'Feature_142', 'Feature_143', 'Feature_144', 'Feature_145', 'Feature_146', 'Feature_147',\n",
       "       'Feature_148', 'Feature_149'],\n",
       "      dtype='object', length=161)"
      ]
     },
     "execution_count": 16,
     "metadata": {},
     "output_type": "execute_result"
    },
    {
     "data": {
      "text/html": [
       "<div>\n",
       "<style scoped>\n",
       "    .dataframe tbody tr th:only-of-type {\n",
       "        vertical-align: middle;\n",
       "    }\n",
       "\n",
       "    .dataframe tbody tr th {\n",
       "        vertical-align: top;\n",
       "    }\n",
       "\n",
       "    .dataframe thead th {\n",
       "        text-align: right;\n",
       "    }\n",
       "</style>\n",
       "<table border=\"1\" class=\"dataframe\">\n",
       "  <thead>\n",
       "    <tr style=\"text-align: right;\">\n",
       "      <th></th>\n",
       "      <th>Metadata_Source</th>\n",
       "      <th>Metadata_Batch</th>\n",
       "      <th>Metadata_Plate</th>\n",
       "      <th>Metadata_Well</th>\n",
       "      <th>Metadata_JCP2022</th>\n",
       "      <th>Metadata_Hash</th>\n",
       "      <th>Metadata_Bin</th>\n",
       "      <th>Metadata_TPSA</th>\n",
       "      <th>Metadata_lnTPSA</th>\n",
       "      <th>Metadata_log10TPSA</th>\n",
       "      <th>Metadata_Permiation</th>\n",
       "      <th>Feature_000</th>\n",
       "      <th>Feature_001</th>\n",
       "    </tr>\n",
       "  </thead>\n",
       "  <tbody>\n",
       "    <tr>\n",
       "      <th>0</th>\n",
       "      <td>source_11</td>\n",
       "      <td>Batch2</td>\n",
       "      <td>EC000046</td>\n",
       "      <td>K04</td>\n",
       "      <td>JCP2022_009278</td>\n",
       "      <td>7406361908543180200</td>\n",
       "      <td>8</td>\n",
       "      <td>62.78</td>\n",
       "      <td>4.139637</td>\n",
       "      <td>1.797821</td>\n",
       "      <td>0.0</td>\n",
       "      <td>0.111074</td>\n",
       "      <td>0.654536</td>\n",
       "    </tr>\n",
       "    <tr>\n",
       "      <th>1</th>\n",
       "      <td>source_11</td>\n",
       "      <td>Batch2</td>\n",
       "      <td>EC000063</td>\n",
       "      <td>K04</td>\n",
       "      <td>JCP2022_009278</td>\n",
       "      <td>7406361908543180200</td>\n",
       "      <td>8</td>\n",
       "      <td>62.78</td>\n",
       "      <td>4.139637</td>\n",
       "      <td>1.797821</td>\n",
       "      <td>0.0</td>\n",
       "      <td>0.391824</td>\n",
       "      <td>1.839582</td>\n",
       "    </tr>\n",
       "    <tr>\n",
       "      <th>2</th>\n",
       "      <td>source_9</td>\n",
       "      <td>20211013-Run14</td>\n",
       "      <td>GR00003281</td>\n",
       "      <td>J15</td>\n",
       "      <td>JCP2022_009278</td>\n",
       "      <td>7406361908543180200</td>\n",
       "      <td>8</td>\n",
       "      <td>62.78</td>\n",
       "      <td>4.139637</td>\n",
       "      <td>1.797821</td>\n",
       "      <td>0.0</td>\n",
       "      <td>0.885861</td>\n",
       "      <td>-0.195879</td>\n",
       "    </tr>\n",
       "    <tr>\n",
       "      <th>3</th>\n",
       "      <td>source_5</td>\n",
       "      <td>JUMPCPE-20210908-Run28_20210909_072022</td>\n",
       "      <td>AETJUM107</td>\n",
       "      <td>J10</td>\n",
       "      <td>JCP2022_045457</td>\n",
       "      <td>7406621140030190348</td>\n",
       "      <td>12</td>\n",
       "      <td>33.20</td>\n",
       "      <td>3.502550</td>\n",
       "      <td>1.521138</td>\n",
       "      <td>0.0</td>\n",
       "      <td>-0.573352</td>\n",
       "      <td>0.370054</td>\n",
       "    </tr>\n",
       "    <tr>\n",
       "      <th>4</th>\n",
       "      <td>source_11</td>\n",
       "      <td>Batch3</td>\n",
       "      <td>EC000139</td>\n",
       "      <td>G04</td>\n",
       "      <td>JCP2022_045457</td>\n",
       "      <td>7406621140030190348</td>\n",
       "      <td>12</td>\n",
       "      <td>33.20</td>\n",
       "      <td>3.502550</td>\n",
       "      <td>1.521138</td>\n",
       "      <td>0.0</td>\n",
       "      <td>1.058790</td>\n",
       "      <td>0.671953</td>\n",
       "    </tr>\n",
       "  </tbody>\n",
       "</table>\n",
       "</div>"
      ],
      "text/plain": [
       "  Metadata_Source                          Metadata_Batch Metadata_Plate Metadata_Well Metadata_JCP2022        Metadata_Hash  \\\n",
       "0       source_11                                  Batch2       EC000046           K04   JCP2022_009278  7406361908543180200   \n",
       "1       source_11                                  Batch2       EC000063           K04   JCP2022_009278  7406361908543180200   \n",
       "2        source_9                          20211013-Run14     GR00003281           J15   JCP2022_009278  7406361908543180200   \n",
       "3        source_5  JUMPCPE-20210908-Run28_20210909_072022      AETJUM107           J10   JCP2022_045457  7406621140030190348   \n",
       "4       source_11                                  Batch3       EC000139           G04   JCP2022_045457  7406621140030190348   \n",
       "\n",
       "   Metadata_Bin  Metadata_TPSA  Metadata_lnTPSA  Metadata_log10TPSA  Metadata_Permiation  Feature_000  Feature_001  \n",
       "0             8          62.78         4.139637            1.797821                  0.0     0.111074     0.654536  \n",
       "1             8          62.78         4.139637            1.797821                  0.0     0.391824     1.839582  \n",
       "2             8          62.78         4.139637            1.797821                  0.0     0.885861    -0.195879  \n",
       "3            12          33.20         3.502550            1.521138                  0.0    -0.573352     0.370054  \n",
       "4            12          33.20         3.502550            1.521138                  0.0     1.058790     0.671953  "
      ]
     },
     "execution_count": 16,
     "metadata": {},
     "output_type": "execute_result"
    }
   ],
   "source": [
    "df_test.info()\n",
    "df_test.shape\n",
    "df_test.columns\n",
    "\n",
    "df_test.iloc[:5,:13]"
   ]
  },
  {
   "cell_type": "code",
   "execution_count": 17,
   "id": "8e266886-b249-4370-84ef-242c34c98e72",
   "metadata": {
    "execution": {
     "iopub.execute_input": "2024-08-08T04:50:39.386937Z",
     "iopub.status.busy": "2024-08-08T04:50:39.386725Z",
     "iopub.status.idle": "2024-08-08T04:50:39.443611Z",
     "shell.execute_reply": "2024-08-08T04:50:39.442552Z",
     "shell.execute_reply.started": "2024-08-08T04:50:39.386917Z"
    }
   },
   "outputs": [
    {
     "data": {
      "text/plain": [
       "4164"
      ]
     },
     "execution_count": 17,
     "metadata": {},
     "output_type": "execute_result"
    },
    {
     "data": {
      "text/plain": [
       "((34542,), numpy.ndarray, dtype('uint8'))"
      ]
     },
     "execution_count": 17,
     "metadata": {},
     "output_type": "execute_result"
    },
    {
     "data": {
      "text/plain": [
       "((34542, 150), numpy.ndarray, dtype('float64'))"
      ]
     },
     "execution_count": 17,
     "metadata": {},
     "output_type": "execute_result"
    }
   ],
   "source": [
    "test_y = df_test.iloc[:,10:11].to_numpy().ravel().astype(np.uint8)\n",
    "test_y.sum()\n",
    "test_y.shape, type(test_y), test_y.dtype\n",
    "test_X = df_test.iloc[:,11:].to_numpy()\n",
    "test_X.shape,type(test_X), test_X.dtype"
   ]
  },
  {
   "cell_type": "code",
   "execution_count": 18,
   "id": "e21aa50d-b501-4532-9c1f-62a2c960f48d",
   "metadata": {
    "execution": {
     "iopub.execute_input": "2024-08-08T04:50:39.445224Z",
     "iopub.status.busy": "2024-08-08T04:50:39.445033Z",
     "iopub.status.idle": "2024-08-08T04:50:49.354244Z",
     "shell.execute_reply": "2024-08-08T04:50:49.353191Z",
     "shell.execute_reply.started": "2024-08-08T04:50:39.445205Z"
    }
   },
   "outputs": [],
   "source": [
    "df_train = pd.read_csv(BASE_TRAIN_INPUT)\n",
    "# df_train = pd.read_csv(TRAIN_INPUT, nrows = 100 )\n",
    "# df_train = pd.read_csv(TRAIN_INPUT, usecols = ['Metadata_Batch'])"
   ]
  },
  {
   "cell_type": "code",
   "execution_count": 19,
   "id": "b5ccbf57-4fa7-4842-919b-103d14e44c79",
   "metadata": {
    "execution": {
     "iopub.execute_input": "2024-08-08T04:50:49.356408Z",
     "iopub.status.busy": "2024-08-08T04:50:49.356162Z",
     "iopub.status.idle": "2024-08-08T04:50:49.438571Z",
     "shell.execute_reply": "2024-08-08T04:50:49.437881Z",
     "shell.execute_reply.started": "2024-08-08T04:50:49.356387Z"
    }
   },
   "outputs": [
    {
     "data": {
      "text/plain": [
       "(312000, 161)"
      ]
     },
     "execution_count": 19,
     "metadata": {},
     "output_type": "execute_result"
    },
    {
     "name": "stdout",
     "output_type": "stream",
     "text": [
      "<class 'pandas.core.frame.DataFrame'>\n",
      "RangeIndex: 312000 entries, 0 to 311999\n",
      "Columns: 161 entries, Metadata_Source to Feature_149\n",
      "dtypes: float64(154), int64(2), object(5)\n",
      "memory usage: 383.2+ MB\n"
     ]
    },
    {
     "data": {
      "text/html": [
       "<div>\n",
       "<style scoped>\n",
       "    .dataframe tbody tr th:only-of-type {\n",
       "        vertical-align: middle;\n",
       "    }\n",
       "\n",
       "    .dataframe tbody tr th {\n",
       "        vertical-align: top;\n",
       "    }\n",
       "\n",
       "    .dataframe thead th {\n",
       "        text-align: right;\n",
       "    }\n",
       "</style>\n",
       "<table border=\"1\" class=\"dataframe\">\n",
       "  <thead>\n",
       "    <tr style=\"text-align: right;\">\n",
       "      <th></th>\n",
       "      <th>Metadata_Source</th>\n",
       "      <th>Metadata_Batch</th>\n",
       "      <th>Metadata_Plate</th>\n",
       "      <th>Metadata_Well</th>\n",
       "      <th>Metadata_JCP2022</th>\n",
       "      <th>Metadata_Hash</th>\n",
       "      <th>Metadata_Bin</th>\n",
       "      <th>Metadata_TPSA</th>\n",
       "      <th>Metadata_lnTPSA</th>\n",
       "      <th>Metadata_log10TPSA</th>\n",
       "      <th>Metadata_Permiation</th>\n",
       "      <th>Feature_000</th>\n",
       "      <th>Feature_001</th>\n",
       "      <th>Feature_002</th>\n",
       "      <th>Feature_003</th>\n",
       "      <th>Feature_004</th>\n",
       "    </tr>\n",
       "  </thead>\n",
       "  <tbody>\n",
       "    <tr>\n",
       "      <th>0</th>\n",
       "      <td>source_1</td>\n",
       "      <td>Batch5_20221030</td>\n",
       "      <td>UL001793</td>\n",
       "      <td>M26</td>\n",
       "      <td>JCP2022_006020</td>\n",
       "      <td>-9223347314827979542</td>\n",
       "      <td>10</td>\n",
       "      <td>71.18</td>\n",
       "      <td>4.265212</td>\n",
       "      <td>1.852358</td>\n",
       "      <td>0.0</td>\n",
       "      <td>-0.433529</td>\n",
       "      <td>1.901938</td>\n",
       "      <td>-0.471324</td>\n",
       "      <td>-0.236380</td>\n",
       "      <td>-0.399238</td>\n",
       "    </tr>\n",
       "    <tr>\n",
       "      <th>1</th>\n",
       "      <td>source_10</td>\n",
       "      <td>2021_06_22_U2OS_48_hr_run8</td>\n",
       "      <td>Dest210622-143628</td>\n",
       "      <td>M04</td>\n",
       "      <td>JCP2022_006020</td>\n",
       "      <td>-9223347314827979542</td>\n",
       "      <td>10</td>\n",
       "      <td>71.18</td>\n",
       "      <td>4.265212</td>\n",
       "      <td>1.852358</td>\n",
       "      <td>0.0</td>\n",
       "      <td>0.287972</td>\n",
       "      <td>4.810249</td>\n",
       "      <td>-0.742543</td>\n",
       "      <td>-6.138022</td>\n",
       "      <td>0.784481</td>\n",
       "    </tr>\n",
       "    <tr>\n",
       "      <th>2</th>\n",
       "      <td>source_3</td>\n",
       "      <td>CP_31_all_Phenix1</td>\n",
       "      <td>B040603b</td>\n",
       "      <td>G13</td>\n",
       "      <td>JCP2022_006020</td>\n",
       "      <td>-9223347314827979542</td>\n",
       "      <td>10</td>\n",
       "      <td>71.18</td>\n",
       "      <td>4.265212</td>\n",
       "      <td>1.852358</td>\n",
       "      <td>0.0</td>\n",
       "      <td>0.300482</td>\n",
       "      <td>4.671577</td>\n",
       "      <td>2.248919</td>\n",
       "      <td>-0.744904</td>\n",
       "      <td>-2.491390</td>\n",
       "    </tr>\n",
       "    <tr>\n",
       "      <th>3</th>\n",
       "      <td>source_6</td>\n",
       "      <td>p211004CPU2OS48hw384exp031JUMP</td>\n",
       "      <td>110000295562</td>\n",
       "      <td>M08</td>\n",
       "      <td>JCP2022_058905</td>\n",
       "      <td>-9223229703754907651</td>\n",
       "      <td>13</td>\n",
       "      <td>58.65</td>\n",
       "      <td>4.071588</td>\n",
       "      <td>1.768268</td>\n",
       "      <td>0.0</td>\n",
       "      <td>-2.723187</td>\n",
       "      <td>0.867973</td>\n",
       "      <td>2.068558</td>\n",
       "      <td>1.482372</td>\n",
       "      <td>1.172988</td>\n",
       "    </tr>\n",
       "    <tr>\n",
       "      <th>4</th>\n",
       "      <td>source_3</td>\n",
       "      <td>CP_32_all_Phenix1</td>\n",
       "      <td>B40003aW</td>\n",
       "      <td>M08</td>\n",
       "      <td>JCP2022_058905</td>\n",
       "      <td>-9223229703754907651</td>\n",
       "      <td>13</td>\n",
       "      <td>58.65</td>\n",
       "      <td>4.071588</td>\n",
       "      <td>1.768268</td>\n",
       "      <td>0.0</td>\n",
       "      <td>0.474727</td>\n",
       "      <td>1.885489</td>\n",
       "      <td>0.450759</td>\n",
       "      <td>-1.726868</td>\n",
       "      <td>0.934264</td>\n",
       "    </tr>\n",
       "  </tbody>\n",
       "</table>\n",
       "</div>"
      ],
      "text/plain": [
       "  Metadata_Source                  Metadata_Batch     Metadata_Plate Metadata_Well Metadata_JCP2022        Metadata_Hash  \\\n",
       "0        source_1                 Batch5_20221030           UL001793           M26   JCP2022_006020 -9223347314827979542   \n",
       "1       source_10      2021_06_22_U2OS_48_hr_run8  Dest210622-143628           M04   JCP2022_006020 -9223347314827979542   \n",
       "2        source_3               CP_31_all_Phenix1           B040603b           G13   JCP2022_006020 -9223347314827979542   \n",
       "3        source_6  p211004CPU2OS48hw384exp031JUMP       110000295562           M08   JCP2022_058905 -9223229703754907651   \n",
       "4        source_3               CP_32_all_Phenix1           B40003aW           M08   JCP2022_058905 -9223229703754907651   \n",
       "\n",
       "   Metadata_Bin  Metadata_TPSA  Metadata_lnTPSA  Metadata_log10TPSA  Metadata_Permiation  Feature_000  Feature_001  Feature_002  \\\n",
       "0            10          71.18         4.265212            1.852358                  0.0    -0.433529     1.901938    -0.471324   \n",
       "1            10          71.18         4.265212            1.852358                  0.0     0.287972     4.810249    -0.742543   \n",
       "2            10          71.18         4.265212            1.852358                  0.0     0.300482     4.671577     2.248919   \n",
       "3            13          58.65         4.071588            1.768268                  0.0    -2.723187     0.867973     2.068558   \n",
       "4            13          58.65         4.071588            1.768268                  0.0     0.474727     1.885489     0.450759   \n",
       "\n",
       "   Feature_003  Feature_004  \n",
       "0    -0.236380    -0.399238  \n",
       "1    -6.138022     0.784481  \n",
       "2    -0.744904    -2.491390  \n",
       "3     1.482372     1.172988  \n",
       "4    -1.726868     0.934264  "
      ]
     },
     "execution_count": 19,
     "metadata": {},
     "output_type": "execute_result"
    }
   ],
   "source": [
    "df_train.shape\n",
    "df_train.info()\n",
    "df_train.iloc[:5,:16]"
   ]
  },
  {
   "cell_type": "code",
   "execution_count": 20,
   "id": "8710ee4c-badf-4f28-a214-f8354f6c1e5f",
   "metadata": {
    "execution": {
     "iopub.execute_input": "2024-08-08T04:50:49.439763Z",
     "iopub.status.busy": "2024-08-08T04:50:49.439551Z",
     "iopub.status.idle": "2024-08-08T04:50:49.624967Z",
     "shell.execute_reply": "2024-08-08T04:50:49.624291Z",
     "shell.execute_reply.started": "2024-08-08T04:50:49.439741Z"
    }
   },
   "outputs": [
    {
     "data": {
      "text/plain": [
       "37164"
      ]
     },
     "execution_count": 20,
     "metadata": {},
     "output_type": "execute_result"
    },
    {
     "data": {
      "text/plain": [
       "((312000,), numpy.ndarray, dtype('uint8'))"
      ]
     },
     "execution_count": 20,
     "metadata": {},
     "output_type": "execute_result"
    },
    {
     "data": {
      "text/plain": [
       "((312000, 150), numpy.ndarray, dtype('float64'))"
      ]
     },
     "execution_count": 20,
     "metadata": {},
     "output_type": "execute_result"
    }
   ],
   "source": [
    "train_y = df_train.iloc[:,10:11].to_numpy().ravel().astype(np.uint8)\n",
    "train_y.sum()\n",
    "train_y.shape, type(train_y), train_y.dtype\n",
    "\n",
    "train_X = df_train.iloc[:,11:].to_numpy()\n",
    "train_X.shape,type(train_X) ,train_X.dtype"
   ]
  },
  {
   "cell_type": "code",
   "execution_count": 21,
   "id": "8b7d392e-68eb-4474-ad37-12244f4d23b0",
   "metadata": {
    "execution": {
     "iopub.execute_input": "2024-08-08T04:50:49.626934Z",
     "iopub.status.busy": "2024-08-08T04:50:49.626695Z",
     "iopub.status.idle": "2024-08-08T04:50:49.659929Z",
     "shell.execute_reply": "2024-08-08T04:50:49.659326Z",
     "shell.execute_reply.started": "2024-08-08T04:50:49.626914Z"
    }
   },
   "outputs": [
    {
     "data": {
      "text/plain": [
       "346542"
      ]
     },
     "execution_count": 21,
     "metadata": {},
     "output_type": "execute_result"
    }
   ],
   "source": [
    "312000+34542"
   ]
  },
  {
   "cell_type": "code",
   "execution_count": 22,
   "id": "1dfbac43-881f-4413-be7b-cb565530dc5c",
   "metadata": {
    "execution": {
     "iopub.execute_input": "2024-08-08T04:50:49.660809Z",
     "iopub.status.busy": "2024-08-08T04:50:49.660616Z",
     "iopub.status.idle": "2024-08-08T04:50:49.721615Z",
     "shell.execute_reply": "2024-08-08T04:50:49.721140Z",
     "shell.execute_reply.started": "2024-08-08T04:50:49.660790Z"
    }
   },
   "outputs": [
    {
     "data": {
      "text/plain": [
       "(312000,)"
      ]
     },
     "execution_count": 22,
     "metadata": {},
     "output_type": "execute_result"
    },
    {
     "data": {
      "text/plain": [
       "array([0, 0, 0, 1, 1, 1, 2, 2, 2, 3, 3, 3, 4, 4, 4, 5, 5, 5, 6, 6])"
      ]
     },
     "execution_count": 22,
     "metadata": {},
     "output_type": "execute_result"
    },
    {
     "data": {
      "text/plain": [
       "array([103993, 103993, 103994, 103994, 103994, 103995, 103995, 103995, 103996, 103996, 103996, 103997, 103997, 103997, 103998, 103998, 103998,\n",
       "       103999, 103999, 103999])"
      ]
     },
     "execution_count": 22,
     "metadata": {},
     "output_type": "execute_result"
    }
   ],
   "source": [
    "grouping_xy = np.arange(train_y.shape[0]) // 3\n",
    "grouping_xy.shape\n",
    "grouping_xy[:20]\n",
    "grouping_xy[-20:]\n"
   ]
  },
  {
   "cell_type": "markdown",
   "id": "6fe81c72-1a16-4661-abdf-515d3cf37658",
   "metadata": {},
   "source": [
    "## Standardize inputs"
   ]
  },
  {
   "cell_type": "code",
   "execution_count": 23,
   "id": "f0e166f8-7c19-4113-b2c8-798b367e840c",
   "metadata": {
    "execution": {
     "iopub.execute_input": "2024-08-08T04:50:49.722564Z",
     "iopub.status.busy": "2024-08-08T04:50:49.722346Z",
     "iopub.status.idle": "2024-08-08T04:50:50.150818Z",
     "shell.execute_reply": "2024-08-08T04:50:50.150065Z",
     "shell.execute_reply.started": "2024-08-08T04:50:49.722544Z"
    }
   },
   "outputs": [
    {
     "name": "stdout",
     "output_type": "stream",
     "text": [
      "Train_X :  Min: -74.0316    Max: 106.9051   Mean: 0.0366  Std: 2.6223\n",
      "Test_X  :  Min: -55.3790    Max: 75.7460    Mean: 0.0369  Std: 2.6056\n"
     ]
    }
   ],
   "source": [
    "print(f\"Train_X :  Min: {train_X.min():.4f}    Max: {train_X.max():.4f}   Mean: {train_X.mean():.4f}  Std: {train_X.std():.4f}\")\n",
    "print(f\"Test_X  :  Min: {test_X.min():.4f}    Max: {test_X.max():.4f}    Mean: {test_X.mean():.4f}  Std: {test_X.std():.4f}\")"
   ]
  },
  {
   "cell_type": "code",
   "execution_count": 24,
   "id": "a9405556-1159-4dff-9b35-aa0b940668b1",
   "metadata": {
    "execution": {
     "iopub.execute_input": "2024-08-08T04:50:50.152125Z",
     "iopub.status.busy": "2024-08-08T04:50:50.151875Z",
     "iopub.status.idle": "2024-08-08T04:50:50.184111Z",
     "shell.execute_reply": "2024-08-08T04:50:50.183444Z",
     "shell.execute_reply.started": "2024-08-08T04:50:50.152105Z"
    }
   },
   "outputs": [],
   "source": [
    "# print(f\"Train_X :  Min: {train_X.min():.4f}    Max: {train_X.max():.4f}   Mean: {train_X.mean():.4f}  Std: {train_X.std():.4f}\")\n",
    "# print(f\"Test_X  :  Min: {test_X.min():.4f}    Max: {test_X.max():.4f}    Mean: {test_X.mean():.4f}  Std: {test_X.std():.4f}\")"
   ]
  },
  {
   "cell_type": "code",
   "execution_count": 26,
   "id": "94b469ab-98e6-4a6a-83d1-22f5c0634433",
   "metadata": {
    "execution": {
     "iopub.execute_input": "2024-08-08T04:50:52.811138Z",
     "iopub.status.busy": "2024-08-08T04:50:52.810553Z",
     "iopub.status.idle": "2024-08-08T04:50:53.530563Z",
     "shell.execute_reply": "2024-08-08T04:50:53.529814Z",
     "shell.execute_reply.started": "2024-08-08T04:50:52.811093Z"
    }
   },
   "outputs": [],
   "source": [
    "scaler = StandardScaler(copy = True)\n",
    "train_X = scaler.fit_transform(train_X)\n",
    "test_X = scaler.transform(test_X)"
   ]
  },
  {
   "cell_type": "code",
   "execution_count": 27,
   "id": "0ecee7ee-224f-469d-88c3-f4677cdc2afe",
   "metadata": {
    "execution": {
     "iopub.execute_input": "2024-08-08T04:50:54.680980Z",
     "iopub.status.busy": "2024-08-08T04:50:54.680491Z",
     "iopub.status.idle": "2024-08-08T04:50:55.085789Z",
     "shell.execute_reply": "2024-08-08T04:50:55.085104Z",
     "shell.execute_reply.started": "2024-08-08T04:50:54.680937Z"
    }
   },
   "outputs": [
    {
     "name": "stdout",
     "output_type": "stream",
     "text": [
      "After Standard Scaler Transformation\n",
      "Train_X :  Min: -32.6722    Max: 26.2209   Mean: -0.0000  Std: 1.0000\n",
      "Test_X  :  Min: -23.9580    Max: 29.4294    Mean: 0.0004  Std: 0.9889\n"
     ]
    }
   ],
   "source": [
    "print(\"After Standard Scaler Transformation\")\n",
    "print(f\"Train_X :  Min: {train_X.min():.4f}    Max: {train_X.max():.4f}   Mean: {train_X.mean():.4f}  Std: {train_X.std():.4f}\")\n",
    "print(f\"Test_X  :  Min: {test_X.min():.4f}    Max: {test_X.max():.4f}    Mean: {test_X.mean():.4f}  Std: {test_X.std():.4f}\")\n"
   ]
  },
  {
   "cell_type": "code",
   "execution_count": 28,
   "id": "c3b3616c-e89b-4cdc-ab4c-e48ba0846a8e",
   "metadata": {
    "execution": {
     "iopub.execute_input": "2024-08-08T04:50:56.538664Z",
     "iopub.status.busy": "2024-08-08T04:50:56.538086Z",
     "iopub.status.idle": "2024-08-08T04:50:56.582169Z",
     "shell.execute_reply": "2024-08-08T04:50:56.581483Z",
     "shell.execute_reply.started": "2024-08-08T04:50:56.538621Z"
    }
   },
   "outputs": [
    {
     "name": "stdout",
     "output_type": "stream",
     "text": [
      " Training\n",
      " ---------\n",
      " Total samples: 312000  - compounds: 104000\n",
      " Label 0: 274,836      % 88.09 \n",
      " Label 1:  37,164      % 11.91 \n",
      "\n",
      " Test\n",
      " -----\n",
      " Total samples: 34542  - compounds: 11514\n",
      " Label 0:  30,378      % 87.95 \n",
      " Label 1:   4,164      % 12.05 \n",
      "\n"
     ]
    }
   ],
   "source": [
    "label_counts([(\"Training\", train_y), (\"Test\", test_y)])"
   ]
  },
  {
   "cell_type": "markdown",
   "id": "5b413996-c395-4f26-8354-b1a408a6140a",
   "metadata": {
    "jp-MarkdownHeadingCollapsed": true
   },
   "source": [
    "## Modify TPSA Threshold"
   ]
  },
  {
   "cell_type": "code",
   "execution_count": 269,
   "id": "9ca4e52f-46c9-4506-8b0d-239f045f04ac",
   "metadata": {
    "execution": {
     "iopub.execute_input": "2024-08-02T19:43:18.952547Z",
     "iopub.status.busy": "2024-08-02T19:43:18.952152Z",
     "iopub.status.idle": "2024-08-02T19:43:18.990375Z",
     "shell.execute_reply": "2024-08-02T19:43:18.989668Z",
     "shell.execute_reply.started": "2024-08-02T19:43:18.952516Z"
    }
   },
   "outputs": [
    {
     "data": {
      "text/plain": [
       "104000.0"
      ]
     },
     "execution_count": 269,
     "metadata": {},
     "output_type": "execute_result"
    }
   ],
   "source": [
    "train_y_72 = np.zeros_like(train_y)\n",
    "train_y_72.shape[0]/3"
   ]
  },
  {
   "cell_type": "code",
   "execution_count": 42,
   "id": "e11392e3-cbea-49a8-9a0b-2030c1a0aee1",
   "metadata": {
    "editable": true,
    "execution": {
     "iopub.execute_input": "2024-01-24T12:31:19.584307Z",
     "iopub.status.busy": "2024-01-24T12:31:19.583896Z",
     "iopub.status.idle": "2024-01-24T12:31:19.647754Z",
     "shell.execute_reply": "2024-01-24T12:31:19.646662Z",
     "shell.execute_reply.started": "2024-01-24T12:31:19.584277Z"
    },
    "slideshow": {
     "slide_type": ""
    },
    "tags": []
   },
   "outputs": [
    {
     "name": "stdout",
     "output_type": "stream",
     "text": [
      "                  min           max           std          mean           median\n",
      "TPSA             3.2400000  2834.6700000    32.8859880    73.6213196    71.3600000\n",
      "lnTPSA           1.1755733     7.9496808     0.3917724     4.2261118     4.2677375\n",
      "log10TPSA        0.5105450     3.4525025     0.1701446     1.8353770     1.8534548\n"
     ]
    },
    {
     "data": {
      "text/plain": [
       "116691"
      ]
     },
     "execution_count": 42,
     "metadata": {},
     "output_type": "execute_result"
    },
    {
     "data": {
      "text/plain": [
       "0.12232305833354758"
      ]
     },
     "execution_count": 42,
     "metadata": {},
     "output_type": "execute_result"
    },
    {
     "data": {
      "text/plain": [
       "0.8776769416664524"
      ]
     },
     "execution_count": 42,
     "metadata": {},
     "output_type": "execute_result"
    }
   ],
   "source": [
    "print(f\"                  min           max           std          mean           median\")\n",
    "for x in ['TPSA', 'lnTPSA', 'log10TPSA']:\n",
    "    print(f\"{x:12s} {df_train[x].min():13.7f} {df_train[x].max():13.7f} {df_train[x].std():13.7f} {df_train[x].mean():13.7f} {df_train[x].median():13.7f}\") \n",
    "\n",
    "df_train.TPSA.count()\n",
    "df_train[df_train.TPSA >= THRESHOLD].TPSA.count()/df_train.TPSA.count()\n",
    "df_train[df_train.TPSA < THRESHOLD].TPSA.count()/df_train.TPSA.count()\n"
   ]
  },
  {
   "cell_type": "code",
   "execution_count": 203,
   "id": "d5f5bab9-6b23-4078-a398-dccbea38ae78",
   "metadata": {
    "execution": {
     "iopub.execute_input": "2024-08-02T18:25:44.400889Z",
     "iopub.status.busy": "2024-08-02T18:25:44.400409Z",
     "iopub.status.idle": "2024-08-02T18:25:44.451332Z",
     "shell.execute_reply": "2024-08-02T18:25:44.450555Z",
     "shell.execute_reply.started": "2024-08-02T18:25:44.400850Z"
    }
   },
   "outputs": [
    {
     "data": {
      "text/plain": [
       "(274836, 37164)"
      ]
     },
     "execution_count": 203,
     "metadata": {},
     "output_type": "execute_result"
    }
   ],
   "source": [
    "_tmp = df_train.Metadata_Permiation.value_counts()\n",
    "_tmp[0], _tmp[1]"
   ]
  },
  {
   "cell_type": "code",
   "execution_count": 264,
   "id": "d59dcba1-6add-4446-aa27-a30564f42e54",
   "metadata": {
    "editable": true,
    "execution": {
     "iopub.execute_input": "2024-08-02T19:17:47.830206Z",
     "iopub.status.busy": "2024-08-02T19:17:47.829809Z",
     "iopub.status.idle": "2024-08-02T19:17:47.877739Z",
     "shell.execute_reply": "2024-08-02T19:17:47.877049Z",
     "shell.execute_reply.started": "2024-08-02T19:17:47.830173Z"
    },
    "slideshow": {
     "slide_type": ""
    },
    "tags": []
   },
   "outputs": [
    {
     "name": "stdout",
     "output_type": "stream",
     "text": [
      "\n",
      " TPSA threshold 68 \n",
      " Total samples: 312000\n",
      " Label 0:  138900      % 44.52 \n",
      " Label 1:  173100      % 55.48 \n",
      "\n",
      " TPSA threshold 69 \n",
      " Total samples: 312000\n",
      " Label 0:  144249      % 46.23 \n",
      " Label 1:  167751      % 53.77 \n",
      "\n",
      " TPSA threshold 70 \n",
      " Total samples: 312000\n",
      " Label 0:  149058      % 47.77 \n",
      " Label 1:  162942      % 52.23 \n",
      "\n",
      " TPSA threshold 71 \n",
      " Total samples: 312000\n",
      " Label 0:  154125      % 49.40 \n",
      " Label 1:  157875      % 50.60 \n",
      "\n",
      " TPSA threshold 72 \n",
      " Total samples: 312000\n",
      " Label 0:  160203      % 51.35 \n",
      " Label 1:  151797      % 48.65 \n",
      "\n",
      " TPSA threshold 100 \n",
      " Total samples: 312000\n",
      " Label 0:  274836      % 88.09 \n",
      " Label 1:   37164      % 11.91 \n"
     ]
    }
   ],
   "source": [
    "for threshold in [68, 69, 70, 71, 72, 100]:\n",
    "    _tmp = (df_train['Metadata_TPSA'] >= threshold).value_counts()\n",
    "    print(f\"\\n TPSA threshold {threshold} \\n Total samples: {_tmp.sum()}\")\n",
    "    print(f\" Label 0: {_tmp[False]:>7d}      % {_tmp[False]*100/_tmp.sum():2.2f} \")\n",
    "    print(f\" Label 1: {_tmp[True]:>7d}      % {_tmp[True]*100/_tmp.sum():2.2f} \")"
   ]
  },
  {
   "cell_type": "code",
   "execution_count": 265,
   "id": "65d1d01b-3946-4668-9c10-5fb3f2b3bd64",
   "metadata": {
    "execution": {
     "iopub.execute_input": "2024-08-02T19:18:15.207992Z",
     "iopub.status.busy": "2024-08-02T19:18:15.207573Z",
     "iopub.status.idle": "2024-08-02T19:18:15.241831Z",
     "shell.execute_reply": "2024-08-02T19:18:15.241195Z",
     "shell.execute_reply.started": "2024-08-02T19:18:15.207957Z"
    }
   },
   "outputs": [],
   "source": [
    "# fig, ax = plt.subplots(figsize=(4,4))\n",
    "# fig.canvas.draw()  # Need to draw the figure to define renderer\n",
    "# ax.set_title(\"AngleLabel example\")\n",
    "# # Plot two crossing lines and label each angle between them with the above\n",
    "# center = (4.5, 650)\n",
    "# p1 = [(2.5, 710), (6.0, 605)]\n",
    "# p2 = [(3.0, 275), (5.5, 900)]\n",
    "# line1, = ax.plot(*zip(*p1))\n",
    "# line2, = ax.plot(*zip(*p2))\n",
    "# point, = ax.plot(*center, marker=\"o\")\n"
   ]
  },
  {
   "cell_type": "code",
   "execution_count": 259,
   "id": "9f19bd08-45c1-4d41-9d02-a5b59d30c53c",
   "metadata": {
    "ExecuteTime": {
     "end_time": "2023-06-28T19:37:34.108730Z",
     "start_time": "2023-06-28T19:37:34.072553Z"
    },
    "editable": true,
    "execution": {
     "iopub.execute_input": "2024-08-02T19:10:23.741139Z",
     "iopub.status.busy": "2024-08-02T19:10:23.740867Z",
     "iopub.status.idle": "2024-08-02T19:10:24.222816Z",
     "shell.execute_reply": "2024-08-02T19:10:24.222024Z",
     "shell.execute_reply.started": "2024-08-02T19:10:23.741118Z"
    },
    "slideshow": {
     "slide_type": ""
    },
    "tags": []
   },
   "outputs": [
    {
     "data": {
      "text/plain": [
       "<matplotlib.legend.Legend at 0x7fb5da6ead90>"
      ]
     },
     "execution_count": 259,
     "metadata": {},
     "output_type": "execute_result"
    },
    {
     "data": {
      "image/png": "[encoded data removed]",
      "text/plain": [
       "<Figure size 1000x500 with 1 Axes>"
      ]
     },
     "metadata": {},
     "output_type": "display_data"
    }
   ],
   "source": [
    "from matplotlib import colors\n",
    "from matplotlib.ticker import PercentFormatter\n",
    "num_bins = 200\n",
    "# fig, ax = plt.subplots()\n",
    "fig = plt.figure(figsize=(10,5))\n",
    "sigma = df_train.Metadata_TPSA.std()\n",
    "mu = df_train.Metadata_TPSA.mean()\n",
    "med = df_train.Metadata_TPSA.median()\n",
    "# the histogram of the data\n",
    "# We can set the number of bins with the *bins* keyword argument.\n",
    "n, bins, patches = plt.hist(df_train.Metadata_TPSA, num_bins, density=False, range=[0, 500],)\n",
    "# p1 = [(med, 710), (6.0, 605)]\n",
    "# _ = plt.vlines(x=med, ymin=10, ymax=17000, colors='red', linestyles='-', lw=1.75, label='Single Short Line')\n",
    "_ = plt.axvline(x=med, ymin=0, ymax=.97, color='red', linestyle='-', lw=1.75, label='Single Short Line')\n",
    "_ = plt.xlabel('TPSA Value');\n",
    "_ = plt.ylabel('# Compounds');\n",
    "_ = plt.title(fr'TPSA distribution -  $\\mu={mu:.3f}$    $\\sigma={sigma:.3f}$')\n",
    "plt.legend(bbox_to_anchor=(1.04,0.5), loc=\"center left\", borderaxespad=0)\n",
    "# axs[1].hist(dist2, bins=n_bins)\n",
    "plt.show()"
   ]
  },
  {
   "cell_type": "markdown",
   "id": "a08179a7-e4d2-4425-803e-1f78943b3aaf",
   "metadata": {
    "editable": true,
    "jp-MarkdownHeadingCollapsed": true,
    "slideshow": {
     "slide_type": ""
    },
    "tags": []
   },
   "source": [
    "## Stratified CV data splits"
   ]
  },
  {
   "cell_type": "code",
   "execution_count": 260,
   "id": "36185b9f-f76e-4556-a736-7a97ac07659f",
   "metadata": {
    "execution": {
     "iopub.execute_input": "2024-08-02T19:12:20.623736Z",
     "iopub.status.busy": "2024-08-02T19:12:20.623234Z",
     "iopub.status.idle": "2024-08-02T19:12:20.661974Z",
     "shell.execute_reply": "2024-08-02T19:12:20.661237Z",
     "shell.execute_reply.started": "2024-08-02T19:12:20.623693Z"
    }
   },
   "outputs": [],
   "source": [
    "def visualize_groups(classes, groups, name):\n",
    "    # Visualize dataset groups\n",
    "    fig, ax = plt.subplots(figsize=(10,5))\n",
    "    ax.scatter(\n",
    "        range(len(groups)),\n",
    "        [0.5] * len(groups),\n",
    "        c=groups,\n",
    "        marker=\"_\",\n",
    "        lw=50,\n",
    "        cmap=cmap_data,\n",
    "    )\n",
    "    ax.scatter(\n",
    "        range(len(groups)),\n",
    "        [3.5] * len(groups),\n",
    "        c=classes,\n",
    "        marker=\"_\",\n",
    "        lw=50,\n",
    "        cmap=cmap_data,\n",
    "    )\n",
    "    ax.set(\n",
    "        ylim=[-1, 5],\n",
    "        yticks=[0.5, 3.5],\n",
    "        yticklabels=[\"Data\\ngroup\", \"Data\\nclass\"],\n",
    "        xlabel=\"Sample index\",\n",
    "    )"
   ]
  },
  {
   "cell_type": "code",
   "execution_count": 261,
   "id": "f532d16b-50f2-486d-a2b8-22e960f6007a",
   "metadata": {
    "execution": {
     "iopub.execute_input": "2024-08-02T19:12:20.975622Z",
     "iopub.status.busy": "2024-08-02T19:12:20.975197Z",
     "iopub.status.idle": "2024-08-02T19:12:21.013984Z",
     "shell.execute_reply": "2024-08-02T19:12:21.013243Z",
     "shell.execute_reply.started": "2024-08-02T19:12:20.975584Z"
    }
   },
   "outputs": [],
   "source": [
    "def plot_cv_indices(cv, X, y, group, ax, n_splits, lw=10):\n",
    "    \"\"\"Create a sample plot for indices of a cross-validation object.\"\"\"\n",
    "    use_groups = \"Group\" in type(cv).__name__\n",
    "    groups = group if use_groups else None\n",
    "    # Generate the training/testing visualizations for each CV split\n",
    "    for ii, (tr, tt) in enumerate(cv.split(X=X, y=y, groups=groups)):\n",
    "        # Fill in indices with the training/test groups\n",
    "        indices = np.array([np.nan] * len(X))\n",
    "        indices[tt] = 1\n",
    "        indices[tr] = 0\n",
    "\n",
    "        # Visualize the results\n",
    "        ax.scatter(\n",
    "            range(len(indices)),\n",
    "            [ii + 0.5] * len(indices),\n",
    "            c=indices,\n",
    "            marker=\"_\",\n",
    "            lw=lw,\n",
    "            cmap=cmap_cv,\n",
    "            vmin=-0.2,\n",
    "            vmax=1.2,\n",
    "        )\n",
    "\n",
    "    # Plot the data classes and groups at the end\n",
    "    ax.scatter(\n",
    "        range(len(X)), [ii + 1.5] * len(X), c=y, marker=\"_\", lw=lw, cmap=cmap_data\n",
    "    )\n",
    "\n",
    "    ax.scatter(\n",
    "        range(len(X)), [ii + 2.5] * len(X), c=group, marker=\"_\", lw=lw, cmap=cmap_data\n",
    "    )\n",
    "\n",
    "    # Formatting\n",
    "    yticklabels = list(range(n_splits)) + [\"class\", \"group\"]\n",
    "    ax.set(\n",
    "        yticks=np.arange(n_splits + 2) + 0.5,\n",
    "        yticklabels=yticklabels,\n",
    "        xlabel=\"Sample index\",\n",
    "        ylabel=\"CV iteration\",\n",
    "        ylim=[n_splits + 2.2, -0.2],\n",
    "        xlim=[0, 100],\n",
    "    )\n",
    "    ax.set_title(\"{}\".format(type(cv).__name__), fontsize=15)\n",
    "    return ax"
   ]
  },
  {
   "cell_type": "code",
   "execution_count": null,
   "id": "d6f3f078-8b33-4acc-b639-6daac6d9d519",
   "metadata": {
    "execution": {
     "iopub.execute_input": "2024-08-01T20:37:00.702630Z",
     "iopub.status.busy": "2024-08-01T20:37:00.702069Z",
     "iopub.status.idle": "2024-08-01T20:37:00.746490Z",
     "shell.execute_reply": "2024-08-01T20:37:00.745822Z",
     "shell.execute_reply.started": "2024-08-01T20:37:00.702589Z"
    }
   },
   "outputs": [],
   "source": [
    "import matplotlib.pyplot as plt\n",
    "import numpy as np\n",
    "from matplotlib.patches import Patch\n"
   ]
  },
  {
   "cell_type": "code",
   "execution_count": null,
   "id": "f1165a3b-5756-443f-ad46-bf316c34929e",
   "metadata": {
    "execution": {
     "iopub.execute_input": "2024-08-01T20:37:00.702630Z",
     "iopub.status.busy": "2024-08-01T20:37:00.702069Z",
     "iopub.status.idle": "2024-08-01T20:37:00.746490Z",
     "shell.execute_reply": "2024-08-01T20:37:00.745822Z",
     "shell.execute_reply.started": "2024-08-01T20:37:00.702589Z"
    }
   },
   "outputs": [],
   "source": [
    "rng = np.random.RandomState(1338)\n",
    "cmap_data = plt.cm.Paired\n",
    "cmap_cv = plt.cm.coolwarm\n",
    "n_splits = 4\n",
    "\n",
    "# Generate the class/group data\n",
    "# n_points = 100\n",
    "# X = rng.randn(100, 10)\n",
    "\n",
    "# percentiles_classes = [0.1, 0.3, 0.6]\n",
    "# y = np.hstack([[ii] * int(100 * perc) for ii, perc in enumerate(percentiles_classes)])"
   ]
  },
  {
   "cell_type": "code",
   "execution_count": null,
   "id": "94dd8391-cbf3-4468-9aa2-d311c7f83bd2",
   "metadata": {
    "execution": {
     "iopub.execute_input": "2024-08-01T20:37:00.702630Z",
     "iopub.status.busy": "2024-08-01T20:37:00.702069Z",
     "iopub.status.idle": "2024-08-01T20:37:00.746490Z",
     "shell.execute_reply": "2024-08-01T20:37:00.745822Z",
     "shell.execute_reply.started": "2024-08-01T20:37:00.702589Z"
    }
   },
   "outputs": [],
   "source": [
    "# Generate uneven groups\n",
    "\n",
    "# group_prior = rng.dirichlet([2] * 10)\n",
    "# group_prior.sum()\n",
    "# group_prior\n",
    "\n",
    "# groups = np.repeat(np.arange(10), rng.multinomial(100, group_prior))\n",
    "# groups.shape\n",
    "# groups"
   ]
  },
  {
   "cell_type": "code",
   "execution_count": null,
   "id": "0be667cf-b73b-49d9-8f93-028feb33dc07",
   "metadata": {
    "execution": {
     "iopub.execute_input": "2024-08-01T20:37:00.702630Z",
     "iopub.status.busy": "2024-08-01T20:37:00.702069Z",
     "iopub.status.idle": "2024-08-01T20:37:00.746490Z",
     "shell.execute_reply": "2024-08-01T20:37:00.745822Z",
     "shell.execute_reply.started": "2024-08-01T20:37:00.702589Z"
    }
   },
   "outputs": [],
   "source": [
    "groups = np.repeat(0, train_X.shape[0])\n",
    "groups.shape"
   ]
  },
  {
   "cell_type": "code",
   "execution_count": 84,
   "id": "a3cc3e15-7328-43d7-87b0-e662e89f8995",
   "metadata": {
    "execution": {
     "iopub.execute_input": "2024-08-01T20:39:00.214016Z",
     "iopub.status.busy": "2024-08-01T20:39:00.213534Z",
     "iopub.status.idle": "2024-08-01T20:39:17.703513Z",
     "shell.execute_reply": "2024-08-01T20:39:17.702174Z",
     "shell.execute_reply.started": "2024-08-01T20:39:00.213981Z"
    }
   },
   "outputs": [
    {
     "data": {
      "image/png": "[encoded data removed]",
      "text/plain": [
       "<Figure size 1000x500 with 1 Axes>"
      ]
     },
     "metadata": {},
     "output_type": "display_data"
    }
   ],
   "source": [
    "visualize_groups(train_y, groups, \"no groups\")"
   ]
  },
  {
   "cell_type": "code",
   "execution_count": 88,
   "id": "f27b44ef-5b62-4008-8e90-fcd97dca2186",
   "metadata": {
    "execution": {
     "iopub.execute_input": "2024-08-01T20:42:20.513960Z",
     "iopub.status.busy": "2024-08-01T20:42:20.513311Z",
     "iopub.status.idle": "2024-08-01T20:42:20.563347Z",
     "shell.execute_reply": "2024-08-01T20:42:20.562557Z",
     "shell.execute_reply.started": "2024-08-01T20:42:20.513913Z"
    }
   },
   "outputs": [],
   "source": [
    "n_splits = 5\n",
    "groups = None"
   ]
  },
  {
   "cell_type": "code",
   "execution_count": 89,
   "id": "0cc5f1e4-9fbf-4c51-a82a-ee2c870850aa",
   "metadata": {
    "execution": {
     "iopub.execute_input": "2024-08-01T20:42:22.118077Z",
     "iopub.status.busy": "2024-08-01T20:42:22.117570Z",
     "iopub.status.idle": "2024-08-01T20:42:40.626608Z",
     "shell.execute_reply": "2024-08-01T20:42:40.625579Z",
     "shell.execute_reply.started": "2024-08-01T20:42:22.118037Z"
    }
   },
   "outputs": [
    {
     "name": "stderr",
     "output_type": "stream",
     "text": [
      "/tmp/ipykernel_4107164/1298143750.py:29: UserWarning: No data for colormapping provided via 'c'. Parameters 'cmap' will be ignored\n",
      "  ax.scatter(\n"
     ]
    },
    {
     "data": {
      "text/plain": [
       "<Axes: title={'center': 'KFold'}, xlabel='Sample index', ylabel='CV iteration'>"
      ]
     },
     "execution_count": 89,
     "metadata": {},
     "output_type": "execute_result"
    },
    {
     "data": {
      "image/png": "[encoded data removed]",
      "text/plain": [
       "<Figure size 640x480 with 1 Axes>"
      ]
     },
     "metadata": {},
     "output_type": "display_data"
    }
   ],
   "source": [
    "fig, ax = plt.subplots()\n",
    "cv = KFold(n_splits)\n",
    "plot_cv_indices(cv, train_X, train_y, groups, ax, n_splits)"
   ]
  },
  {
   "cell_type": "markdown",
   "id": "431caa87-8ebb-496e-a35c-bee422a9aeee",
   "metadata": {},
   "source": [
    "## Create balanced datasets"
   ]
  },
  {
   "cell_type": "code",
   "execution_count": 29,
   "id": "9361c81d-fe3a-4b38-98fb-2cdbea4bef7f",
   "metadata": {
    "execution": {
     "iopub.execute_input": "2024-08-08T04:51:04.280954Z",
     "iopub.status.busy": "2024-08-08T04:51:04.280496Z",
     "iopub.status.idle": "2024-08-08T04:51:04.587000Z",
     "shell.execute_reply": "2024-08-08T04:51:04.586144Z",
     "shell.execute_reply.started": "2024-08-08T04:51:04.280915Z"
    }
   },
   "outputs": [
    {
     "name": "stdout",
     "output_type": "stream",
     "text": [
      "\n",
      " Take 12388 samples from total of 12388 postive training samples\n",
      " Take 12388 samples from total of 91612 negative training samples\n",
      "\n",
      " Balanced Dataset: # pos samples: 37164    # Neg samples: 37164  Total len: 74328\n",
      "\n",
      " X :  Min: -29.2645    Max: 22.2368   Mean: 0.0018  Std: 1.0081\n",
      " y :  Min: 0.0000    Max: 1.0000   Mean: 0.5000  Std: 0.5000\n",
      "\n",
      " Take 1388 samples from total of 1388 postive training samples\n",
      " Take 1388 samples from total of 10126 negative training samples\n",
      "\n",
      " Balanced Dataset: # pos samples: 4164    # Neg samples: 4164  Total len: 8328\n",
      "\n",
      " X :  Min: -18.0071    Max: 21.5709   Mean: 0.0035  Std: 0.9847\n",
      " y :  Min: 0.0000    Max: 1.0000   Mean: 0.5000  Std: 0.5000\n"
     ]
    }
   ],
   "source": [
    "bal_train_X, bal_train_y = balance_datasets(train_X, train_y, ratio = 1)\n",
    "bal_test_X, bal_test_y = balance_datasets(test_X, test_y, ratio = 1)"
   ]
  },
  {
   "cell_type": "code",
   "execution_count": 30,
   "id": "d625bb59-c6d7-474a-be1c-bdcb75c14c40",
   "metadata": {
    "execution": {
     "iopub.execute_input": "2024-08-08T04:51:05.582627Z",
     "iopub.status.busy": "2024-08-08T04:51:05.582214Z",
     "iopub.status.idle": "2024-08-08T04:51:05.930120Z",
     "shell.execute_reply": "2024-08-08T04:51:05.929408Z",
     "shell.execute_reply.started": "2024-08-08T04:51:05.582597Z"
    }
   },
   "outputs": [
    {
     "name": "stdout",
     "output_type": "stream",
     "text": [
      "\n",
      " Take 12388 samples from total of 12388 postive training samples\n",
      " Take 24776 samples from total of 91612 negative training samples\n",
      "\n",
      " Balanced Dataset: # pos samples: 37164    # Neg samples: 74328  Total len: 111492\n",
      "\n",
      " X :  Min: -29.2645    Max: 24.8246   Mean: 0.0012  Std: 1.0109\n",
      " y :  Min: 0.0000    Max: 1.0000   Mean: 0.3333  Std: 0.4714\n",
      "\n",
      " Take 1388 samples from total of 1388 postive training samples\n",
      " Take 2776 samples from total of 10126 negative training samples\n",
      "\n",
      " Balanced Dataset: # pos samples: 4164    # Neg samples: 8328  Total len: 12492\n",
      "\n",
      " X :  Min: -19.7142    Max: 29.4294   Mean: 0.0015  Std: 1.0015\n",
      " y :  Min: 0.0000    Max: 1.0000   Mean: 0.3333  Std: 0.4714\n"
     ]
    }
   ],
   "source": [
    "bal_train_X_2, bal_train_y_2 = balance_datasets(train_X, train_y, ratio = 2)\n",
    "bal_test_X_2, bal_test_y_2 = balance_datasets(test_X, test_y, ratio = 2)"
   ]
  },
  {
   "cell_type": "code",
   "execution_count": 31,
   "id": "edbcd3a8-dbfc-4833-bfa5-c47f25213d41",
   "metadata": {
    "execution": {
     "iopub.execute_input": "2024-08-08T04:51:06.922142Z",
     "iopub.status.busy": "2024-08-08T04:51:06.921720Z",
     "iopub.status.idle": "2024-08-08T04:51:06.967402Z",
     "shell.execute_reply": "2024-08-08T04:51:06.966936Z",
     "shell.execute_reply.started": "2024-08-08T04:51:06.922106Z"
    }
   },
   "outputs": [
    {
     "data": {
      "text/plain": [
       "(74328,)"
      ]
     },
     "execution_count": 31,
     "metadata": {},
     "output_type": "execute_result"
    },
    {
     "data": {
      "text/plain": [
       "array([0, 0, 0, 1, 1, 1, 2, 2, 2, 3, 3, 3, 4, 4, 4, 5, 5, 5, 6, 6])"
      ]
     },
     "execution_count": 31,
     "metadata": {},
     "output_type": "execute_result"
    },
    {
     "data": {
      "text/plain": [
       "array([24769, 24769, 24770, 24770, 24770, 24771, 24771, 24771, 24772, 24772, 24772, 24773, 24773, 24773, 24774, 24774, 24774, 24775, 24775, 24775])"
      ]
     },
     "execution_count": 31,
     "metadata": {},
     "output_type": "execute_result"
    },
    {
     "data": {
      "text/plain": [
       "(111492,)"
      ]
     },
     "execution_count": 31,
     "metadata": {},
     "output_type": "execute_result"
    },
    {
     "data": {
      "text/plain": [
       "array([0, 0, 0, 1, 1, 1, 2, 2, 2, 3, 3, 3, 4, 4, 4, 5, 5, 5, 6, 6])"
      ]
     },
     "execution_count": 31,
     "metadata": {},
     "output_type": "execute_result"
    },
    {
     "data": {
      "text/plain": [
       "array([37157, 37157, 37158, 37158, 37158, 37159, 37159, 37159, 37160, 37160, 37160, 37161, 37161, 37161, 37162, 37162, 37162, 37163, 37163, 37163])"
      ]
     },
     "execution_count": 31,
     "metadata": {},
     "output_type": "execute_result"
    }
   ],
   "source": [
    "bal_grouping_xy = np.arange(bal_train_y.shape[0]) // 3\n",
    "bal_grouping_xy.shape\n",
    "bal_grouping_xy[:20]\n",
    "bal_grouping_xy[-20:]\n",
    "bal_grouping_xy_2 = np.arange(bal_train_y_2.shape[0]) // 3\n",
    "bal_grouping_xy_2.shape\n",
    "bal_grouping_xy_2[:20]\n",
    "bal_grouping_xy_2[-20:]"
   ]
  },
  {
   "cell_type": "code",
   "execution_count": 32,
   "id": "909d3557-5cb7-44f1-b89b-762a239f0cb7",
   "metadata": {
    "execution": {
     "iopub.execute_input": "2024-08-08T04:51:08.114664Z",
     "iopub.status.busy": "2024-08-08T04:51:08.114149Z",
     "iopub.status.idle": "2024-08-08T04:51:08.155814Z",
     "shell.execute_reply": "2024-08-08T04:51:08.155164Z",
     "shell.execute_reply.started": "2024-08-08T04:51:08.114622Z"
    }
   },
   "outputs": [
    {
     "name": "stdout",
     "output_type": "stream",
     "text": [
      " Training\n",
      " ---------\n",
      " Total samples: 312000  - compounds: 104000\n",
      " Label 0: 274,836      % 88.09 \n",
      " Label 1:  37,164      % 11.91 \n",
      "\n",
      " Test\n",
      " -----\n",
      " Total samples: 34542  - compounds: 11514\n",
      " Label 0:  30,378      % 87.95 \n",
      " Label 1:   4,164      % 12.05 \n",
      "\n",
      " Balanced 1:1 Training\n",
      " ----------------------\n",
      " Total samples: 74328  - compounds: 24776\n",
      " Label 0:  37,164      % 50.00 \n",
      " Label 1:  37,164      % 50.00 \n",
      "\n",
      " Balanced 1:1 Test\n",
      " ------------------\n",
      " Total samples: 8328  - compounds: 2776\n",
      " Label 0:   4,164      % 50.00 \n",
      " Label 1:   4,164      % 50.00 \n",
      "\n",
      " Balanced 1:2 Training\n",
      " ----------------------\n",
      " Total samples: 111492  - compounds: 37164\n",
      " Label 0:  74,328      % 66.67 \n",
      " Label 1:  37,164      % 33.33 \n",
      "\n",
      " Balanced 1:2 Test\n",
      " ------------------\n",
      " Total samples: 12492  - compounds: 4164\n",
      " Label 0:   8,328      % 66.67 \n",
      " Label 1:   4,164      % 33.33 \n",
      "\n"
     ]
    }
   ],
   "source": [
    "label_counts([(\"Training\", train_y), (\"Test\", test_y)])\n",
    "label_counts([(\"Balanced 1:1 Training\", bal_train_y), (\"Balanced 1:1 Test\", bal_test_y)])\n",
    "label_counts([(\"Balanced 1:2 Training\", bal_train_y_2), (\"Balanced 1:2 Test\", bal_test_y_2)])"
   ]
  },
  {
   "cell_type": "markdown",
   "id": "59413831-c2c4-4ede-b74b-78698df67581",
   "metadata": {},
   "source": [
    "# XGBoost Model - Param grid search using scikit"
   ]
  },
  {
   "cell_type": "markdown",
   "id": "a4e83fa5-51bd-4cde-a54f-60afe9ac85e9",
   "metadata": {
    "heading_collapsed": true,
    "hidden": true,
    "jp-MarkdownHeadingCollapsed": true
   },
   "source": [
    "## **[XGBoost](https://xgboost.readthedocs.io/en/stable/python/sklearn_estimator.html)**"
   ]
  },
  {
   "cell_type": "code",
   "execution_count": 169,
   "id": "72437f1e-8a87-47f7-84d7-91e88c95c5ed",
   "metadata": {
    "execution": {
     "iopub.execute_input": "2024-08-07T17:14:12.036447Z",
     "iopub.status.busy": "2024-08-07T17:14:12.035937Z",
     "iopub.status.idle": "2024-08-07T17:14:12.070922Z",
     "shell.execute_reply": "2024-08-07T17:14:12.069886Z",
     "shell.execute_reply.started": "2024-08-07T17:14:12.036406Z"
    }
   },
   "outputs": [],
   "source": [
    "# clf = xgb.XGBClassifier(tree_method=\"hist\", callbacks=[early_stop])\n",
    "# xgb_clf = xgb.XGBClassifier(tree_method=\"hist\", early_stopping_rounds=2)\n",
    "xgb_clf = xgb.XGBClassifier(tree_method=\"hist\")\n"
   ]
  },
  {
   "cell_type": "markdown",
   "id": "201b5407-d5b0-4005-a284-1f9b7b21a2ea",
   "metadata": {},
   "source": [
    "## Parameters"
   ]
  },
  {
   "cell_type": "code",
   "execution_count": 200,
   "id": "e5b7bfd8-9107-4292-ac32-f9660c955d0c",
   "metadata": {
    "ExecuteTime": {
     "end_time": "2023-04-28T12:47:12.210936Z",
     "start_time": "2023-04-28T12:47:12.197029Z"
    },
    "editable": true,
    "execution": {
     "iopub.execute_input": "2024-08-07T18:05:19.472411Z",
     "iopub.status.busy": "2024-08-07T18:05:19.471924Z",
     "iopub.status.idle": "2024-08-07T18:05:19.508963Z",
     "shell.execute_reply": "2024-08-07T18:05:19.508161Z",
     "shell.execute_reply.started": "2024-08-07T18:05:19.472370Z"
    },
    "hidden": true,
    "slideshow": {
     "slide_type": ""
    },
    "tags": []
   },
   "outputs": [],
   "source": [
    "# xgb_grid_parameters_0 = [\n",
    "#   {'C': [0.01, 0.1, 1, 10, 100, 200, 400, 1000], 'kernel': ['linear']},\n",
    "#   {'C': [0.01, 0.1, 1, 10, 100, 200, 400, 1000], 'kernel': ['rbf']},\n",
    "#   {'C': [0.01, 0.1, 1, 10, 100, 200, 400, 1000], 'gamma': [100,10,1,1e-1,1e-2, 1e-3], 'kernel': ['rbf']},\n",
    "#  ]\n",
    "\n",
    "# xgb_grid_parameters_1 = {'C': [1, 10], 'gamma': [1,1e-1], 'kernel' : ['linear'] }\n",
    "# xgb_grid_parameters_1 = {'C': [1], 'gamma': [1e-1], 'kernel' : ['linear'] }\n",
    "# xgb_grid_parameters_2 = {'C': [1, 10], 'kernel': ['linear']}\n",
    "# xgb_grid_parameters_2 = {'C': [1, 10], 'gamma': [1,1e-1], 'kernel': ['rbf']}\n",
    "# xgb_grid_parameters_3 = { 'C': [1, 10, 100],'gamma': [10,1,1e-1,1e-2]}\n",
    "# xgb_grid_parameters_3 = { 'C': [1, 10, 100], 'kernel': ['rbf']}\n",
    "# xgb_grid_parameters_3 = { 'C': [10], 'kernel': ['rbf'],'gamma': [  1, 1.0e-1, 1.0e-2, ]}\n",
    "# xgb_grid_parameters_3 = { 'C': [10], 'kernel': ['rbf'],'gamma': [  1.0e-3, 1.0e-4, 1.0e-5, ]}\n",
    "# xgb_grid_parameters_3 = { 'C': [10], 'kernel': ['rbf'],'gamma': [1.0e-6, 1.0e-7, 1.0e-8,]}\n",
    "# xgb_grid_parameters_3 = {'C': [0.1, 1, 10, 100, 200], 'kernel': ['rbf']}\n",
    "xgb_grid_parameters_3 = {\"n_estimators\" : [25, 50, 75, 100], \"learning_rate\"  : [1.0e-01, 1,10]}\n",
    "xgb_grid_parameters_3 = {\"n_estimators\"  : [ 75, 100, 150] , \"learning_rate\"  : [1.0e-01, 1 , 10],  \"max_depth\" : [2,4 ],  \"max_leaves\" : [2], }\n",
    "xgb_grid_parameters_3 = {\"n_estimators\"      : [ 150, 250] , \n",
    "                         \"max_depth\"         : [  2,  5] ,  \n",
    "                         \"max_leaves\"        : [  0,  4,  6],\n",
    "                         \"learning_rate\"     : [1.0e-1, 1, 10, 100],\n",
    "                         \"lambda\"            : [1.0e-1, 1, 10, 100]\n",
    "                         # \"learning_rate\"     : [0.013455,  0.85865],\n",
    "                         # \"min_split_loss\"    : [4.74917,  3.60513],\n",
    "                         # \"max_depth\"         : [13.0000,  10.00000],\n",
    "                         # \"min_child_weight\"  : [4.00851,  9.58354],\n",
    "                         # \"max_delta_step\"    : [1.08196,  2.11724],\n",
    "                         # \"subsample\"         : [0.71916,  0.88346],\n",
    "                         # \"colsample_bylevel\" : [0.94740,  0.61197],\n",
    "                         # \"colsample_bynode\"  : [0.65944,  0.85980],\n",
    "                        }"
   ]
  },
  {
   "cell_type": "code",
   "execution_count": 290,
   "id": "c64c6ff2-0e9d-4b6e-ac18-0d31b6c34659",
   "metadata": {
    "execution": {
     "iopub.execute_input": "2024-08-07T21:38:10.390228Z",
     "iopub.status.busy": "2024-08-07T21:38:10.389752Z",
     "iopub.status.idle": "2024-08-07T21:38:10.425975Z",
     "shell.execute_reply": "2024-08-07T21:38:10.425410Z",
     "shell.execute_reply.started": "2024-08-07T21:38:10.390188Z"
    }
   },
   "outputs": [
    {
     "data": {
      "text/plain": [
       "{'n_splits': 5, 'shuffle': False, 'random_state': None}"
      ]
     },
     "execution_count": 290,
     "metadata": {},
     "output_type": "execute_result"
    }
   ],
   "source": [
    "sgkf.__dict__"
   ]
  },
  {
   "cell_type": "code",
   "execution_count": 252,
   "id": "0a9cdb57-8c20-413e-aa9e-d410e47abd42",
   "metadata": {
    "execution": {
     "iopub.execute_input": "2024-08-07T20:54:23.800552Z",
     "iopub.status.busy": "2024-08-07T20:54:23.800076Z",
     "iopub.status.idle": "2024-08-07T20:54:34.489207Z",
     "shell.execute_reply": "2024-08-07T20:54:34.488285Z",
     "shell.execute_reply.started": "2024-08-07T20:54:23.800511Z"
    }
   },
   "outputs": [
    {
     "data": {
      "text/plain": [
       "<generator object _BaseKFold.split at 0x7f5f25f0f640>"
      ]
     },
     "execution_count": 252,
     "metadata": {},
     "output_type": "execute_result"
    },
    {
     "name": "stdout",
     "output_type": "stream",
     "text": [
      "0 <class 'tuple'>\n",
      "1 <class 'tuple'>\n",
      "2 <class 'tuple'>\n",
      "3 <class 'tuple'>\n",
      "4 <class 'tuple'>\n"
     ]
    }
   ],
   "source": [
    "for i, j in enumerate(CV_SCHEME):\n",
    "    print(i, type(j))"
   ]
  },
  {
   "cell_type": "code",
   "execution_count": 255,
   "id": "a55ea5e9-1617-4733-851e-65e2a926587c",
   "metadata": {
    "execution": {
     "iopub.execute_input": "2024-08-07T20:55:10.930139Z",
     "iopub.status.busy": "2024-08-07T20:55:10.929674Z",
     "iopub.status.idle": "2024-08-07T20:55:21.403417Z",
     "shell.execute_reply": "2024-08-07T20:55:21.402455Z",
     "shell.execute_reply.started": "2024-08-07T20:55:10.930101Z"
    }
   },
   "outputs": [],
   "source": [
    "j = next(CV_SCHEME)"
   ]
  },
  {
   "cell_type": "code",
   "execution_count": 263,
   "id": "7e590f42-c750-4888-9d11-46364d88688a",
   "metadata": {
    "execution": {
     "iopub.execute_input": "2024-08-07T21:01:41.951264Z",
     "iopub.status.busy": "2024-08-07T21:01:41.950742Z",
     "iopub.status.idle": "2024-08-07T21:01:53.957501Z",
     "shell.execute_reply": "2024-08-07T21:01:53.956786Z",
     "shell.execute_reply.started": "2024-08-07T21:01:41.951222Z"
    }
   },
   "outputs": [
    {
     "name": "stdout",
     "output_type": "stream",
     "text": [
      "i = 0\n",
      "<class 'numpy.ndarray'> 59460\n"
     ]
    },
    {
     "data": {
      "text/plain": [
       "array([ 3,  4,  5,  6,  7,  8,  9, 10, 11, 12, 13, 14, 18, 19, 20, 21, 22, 23, 24, 25])"
      ]
     },
     "execution_count": 263,
     "metadata": {},
     "output_type": "execute_result"
    },
    {
     "data": {
      "text/plain": [
       "array([74302, 74303, 74304, 74305, 74306, 74307, 74308, 74309, 74313, 74314, 74315, 74316, 74317, 74318, 74319, 74320, 74321, 74322, 74323, 74324])"
      ]
     },
     "execution_count": 263,
     "metadata": {},
     "output_type": "execute_result"
    },
    {
     "data": {
      "text/plain": [
       "(numpy.ndarray, 14868)"
      ]
     },
     "execution_count": 263,
     "metadata": {},
     "output_type": "execute_result"
    },
    {
     "data": {
      "text/plain": [
       "array([ 0,  1,  2, 15, 16, 17, 30, 31, 32, 45, 46, 47, 60, 61, 62, 75, 76, 77, 90, 91])"
      ]
     },
     "execution_count": 263,
     "metadata": {},
     "output_type": "execute_result"
    },
    {
     "data": {
      "text/plain": [
       "array([74236, 74237, 74250, 74251, 74252, 74265, 74266, 74267, 74280, 74281, 74282, 74295, 74296, 74297, 74310, 74311, 74312, 74325, 74326, 74327])"
      ]
     },
     "execution_count": 263,
     "metadata": {},
     "output_type": "execute_result"
    },
    {
     "name": "stdout",
     "output_type": "stream",
     "text": [
      "\n",
      "\n",
      "\n",
      "i = 1\n",
      "<class 'numpy.ndarray'> 59463\n"
     ]
    },
    {
     "data": {
      "text/plain": [
       "array([ 0,  1,  2,  6,  7,  8,  9, 10, 11, 12, 13, 14, 15, 16, 17, 21, 22, 23, 24, 25])"
      ]
     },
     "execution_count": 263,
     "metadata": {},
     "output_type": "execute_result"
    },
    {
     "data": {
      "text/plain": [
       "array([74305, 74306, 74307, 74308, 74309, 74310, 74311, 74312, 74316, 74317, 74318, 74319, 74320, 74321, 74322, 74323, 74324, 74325, 74326, 74327])"
      ]
     },
     "execution_count": 263,
     "metadata": {},
     "output_type": "execute_result"
    },
    {
     "data": {
      "text/plain": [
       "(numpy.ndarray, 14865)"
      ]
     },
     "execution_count": 263,
     "metadata": {},
     "output_type": "execute_result"
    },
    {
     "data": {
      "text/plain": [
       "array([ 3,  4,  5, 18, 19, 20, 33, 34, 35, 48, 49, 50, 63, 64, 65, 78, 79, 80, 93, 94])"
      ]
     },
     "execution_count": 263,
     "metadata": {},
     "output_type": "execute_result"
    },
    {
     "data": {
      "text/plain": [
       "array([74224, 74225, 74238, 74239, 74240, 74253, 74254, 74255, 74268, 74269, 74270, 74283, 74284, 74285, 74298, 74299, 74300, 74313, 74314, 74315])"
      ]
     },
     "execution_count": 263,
     "metadata": {},
     "output_type": "execute_result"
    },
    {
     "name": "stdout",
     "output_type": "stream",
     "text": [
      "\n",
      "\n",
      "\n",
      "i = 2\n",
      "<class 'numpy.ndarray'> 59463\n"
     ]
    },
    {
     "data": {
      "text/plain": [
       "array([ 0,  1,  2,  3,  4,  5,  9, 10, 11, 12, 13, 14, 15, 16, 17, 18, 19, 20, 24, 25])"
      ]
     },
     "execution_count": 263,
     "metadata": {},
     "output_type": "execute_result"
    },
    {
     "data": {
      "text/plain": [
       "array([74305, 74306, 74307, 74308, 74309, 74310, 74311, 74312, 74313, 74314, 74315, 74319, 74320, 74321, 74322, 74323, 74324, 74325, 74326, 74327])"
      ]
     },
     "execution_count": 263,
     "metadata": {},
     "output_type": "execute_result"
    },
    {
     "data": {
      "text/plain": [
       "(numpy.ndarray, 14865)"
      ]
     },
     "execution_count": 263,
     "metadata": {},
     "output_type": "execute_result"
    },
    {
     "data": {
      "text/plain": [
       "array([ 6,  7,  8, 21, 22, 23, 36, 37, 38, 51, 52, 53, 66, 67, 68, 81, 82, 83, 96, 97])"
      ]
     },
     "execution_count": 263,
     "metadata": {},
     "output_type": "execute_result"
    },
    {
     "data": {
      "text/plain": [
       "array([74227, 74228, 74241, 74242, 74243, 74256, 74257, 74258, 74271, 74272, 74273, 74286, 74287, 74288, 74301, 74302, 74303, 74316, 74317, 74318])"
      ]
     },
     "execution_count": 263,
     "metadata": {},
     "output_type": "execute_result"
    },
    {
     "name": "stdout",
     "output_type": "stream",
     "text": [
      "\n",
      "\n",
      "\n",
      "i = 3\n",
      "<class 'numpy.ndarray'> 59463\n"
     ]
    },
    {
     "data": {
      "text/plain": [
       "array([ 0,  1,  2,  3,  4,  5,  6,  7,  8, 12, 13, 14, 15, 16, 17, 18, 19, 20, 21, 22])"
      ]
     },
     "execution_count": 263,
     "metadata": {},
     "output_type": "execute_result"
    },
    {
     "data": {
      "text/plain": [
       "array([74302, 74303, 74307, 74308, 74309, 74310, 74311, 74312, 74313, 74314, 74315, 74316, 74317, 74318, 74322, 74323, 74324, 74325, 74326, 74327])"
      ]
     },
     "execution_count": 263,
     "metadata": {},
     "output_type": "execute_result"
    },
    {
     "data": {
      "text/plain": [
       "(numpy.ndarray, 14865)"
      ]
     },
     "execution_count": 263,
     "metadata": {},
     "output_type": "execute_result"
    },
    {
     "data": {
      "text/plain": [
       "array([  9,  10,  11,  24,  25,  26,  39,  40,  41,  54,  55,  56,  69,  70,  71,  84,  85,  86,  99, 100])"
      ]
     },
     "execution_count": 263,
     "metadata": {},
     "output_type": "execute_result"
    },
    {
     "data": {
      "text/plain": [
       "array([74230, 74231, 74244, 74245, 74246, 74259, 74260, 74261, 74274, 74275, 74276, 74289, 74290, 74291, 74304, 74305, 74306, 74319, 74320, 74321])"
      ]
     },
     "execution_count": 263,
     "metadata": {},
     "output_type": "execute_result"
    },
    {
     "name": "stdout",
     "output_type": "stream",
     "text": [
      "\n",
      "\n",
      "\n",
      "i = 4\n",
      "<class 'numpy.ndarray'> 59463\n"
     ]
    },
    {
     "data": {
      "text/plain": [
       "array([ 0,  1,  2,  3,  4,  5,  6,  7,  8,  9, 10, 11, 15, 16, 17, 18, 19, 20, 21, 22])"
      ]
     },
     "execution_count": 263,
     "metadata": {},
     "output_type": "execute_result"
    },
    {
     "data": {
      "text/plain": [
       "array([74302, 74303, 74304, 74305, 74306, 74310, 74311, 74312, 74313, 74314, 74315, 74316, 74317, 74318, 74319, 74320, 74321, 74325, 74326, 74327])"
      ]
     },
     "execution_count": 263,
     "metadata": {},
     "output_type": "execute_result"
    },
    {
     "data": {
      "text/plain": [
       "(numpy.ndarray, 14865)"
      ]
     },
     "execution_count": 263,
     "metadata": {},
     "output_type": "execute_result"
    },
    {
     "data": {
      "text/plain": [
       "array([ 12,  13,  14,  27,  28,  29,  42,  43,  44,  57,  58,  59,  72,  73,  74,  87,  88,  89, 102, 103])"
      ]
     },
     "execution_count": 263,
     "metadata": {},
     "output_type": "execute_result"
    },
    {
     "data": {
      "text/plain": [
       "array([74233, 74234, 74247, 74248, 74249, 74262, 74263, 74264, 74277, 74278, 74279, 74292, 74293, 74294, 74307, 74308, 74309, 74322, 74323, 74324])"
      ]
     },
     "execution_count": 263,
     "metadata": {},
     "output_type": "execute_result"
    },
    {
     "name": "stdout",
     "output_type": "stream",
     "text": [
      "\n",
      "\n",
      "\n"
     ]
    }
   ],
   "source": [
    "CV_SCHEME = sgkf.split(X_DATA, Y_DATA, GRP_DATA)"
   ]
  },
  {
   "cell_type": "markdown",
   "id": "9a763530-f0c5-4cca-a3e6-8dd2ee3506b4",
   "metadata": {},
   "source": [
    "## Training"
   ]
  },
  {
   "cell_type": "code",
   "execution_count": 250,
   "id": "e9f7534a-bdcc-43c3-9928-cc2f4717bb92",
   "metadata": {
    "execution": {
     "iopub.execute_input": "2024-08-07T20:54:16.507022Z",
     "iopub.status.busy": "2024-08-07T20:54:16.506434Z",
     "iopub.status.idle": "2024-08-07T20:54:16.541602Z",
     "shell.execute_reply": "2024-08-07T20:54:16.541088Z",
     "shell.execute_reply.started": "2024-08-07T20:54:16.506982Z"
    }
   },
   "outputs": [],
   "source": [
    "PARM_SET = xgb_grid_parameters_3"
   ]
  },
  {
   "cell_type": "code",
   "execution_count": 201,
   "id": "ee709afd-42ba-46c0-ae91-20e5ed4abe06",
   "metadata": {
    "execution": {
     "iopub.execute_input": "2024-08-07T18:05:21.400798Z",
     "iopub.status.busy": "2024-08-07T18:05:21.400295Z",
     "iopub.status.idle": "2024-08-07T18:05:21.436778Z",
     "shell.execute_reply": "2024-08-07T18:05:21.436059Z",
     "shell.execute_reply.started": "2024-08-07T18:05:21.400757Z"
    }
   },
   "outputs": [],
   "source": [
    "sgkf = StratifiedGroupKFold(n_splits = 5,)"
   ]
  },
  {
   "cell_type": "code",
   "execution_count": 254,
   "id": "3711df39-9902-4013-95d2-e552d8e9f6d1",
   "metadata": {
    "execution": {
     "iopub.execute_input": "2024-08-07T20:55:06.697686Z",
     "iopub.status.busy": "2024-08-07T20:55:06.697066Z",
     "iopub.status.idle": "2024-08-07T20:55:06.730818Z",
     "shell.execute_reply": "2024-08-07T20:55:06.730139Z",
     "shell.execute_reply.started": "2024-08-07T20:55:06.697627Z"
    }
   },
   "outputs": [],
   "source": [
    "NUM_JOBS = 5\n",
    "X_DATA = bal_train_X\n",
    "Y_DATA = bal_train_y\n",
    "GRP_DATA = bal_grouping_xy\n",
    "CV_SCHEME = sgkf.split(X_DATA, Y_DATA, GRP_DATA)"
   ]
  },
  {
   "cell_type": "code",
   "execution_count": 204,
   "id": "ab9b8ab5-bc2b-4062-a47a-d9fb82b0dbd7",
   "metadata": {
    "editable": true,
    "execution": {
     "iopub.execute_input": "2024-08-07T18:05:33.825858Z",
     "iopub.status.busy": "2024-08-07T18:05:33.825471Z",
     "iopub.status.idle": "2024-08-07T18:19:10.780962Z",
     "shell.execute_reply": "2024-08-07T18:19:10.779920Z",
     "shell.execute_reply.started": "2024-08-07T18:05:33.825827Z"
    },
    "scrolled": true,
    "slideshow": {
     "slide_type": ""
    },
    "tags": []
   },
   "outputs": [
    {
     "name": "stdout",
     "output_type": "stream",
     "text": [
      " verbose is 1\n",
      " params_grid: {'n_estimators': [150, 250], 'max_depth': [2, 5], 'max_leaves': [0, 4, 6], 'learning_rate': [0.1, 1, 10, 100], 'lambda': [0.1, 1, 10, 100]}\n",
      " scoring    : roc_auc     cv:  <generator object _BaseKFold.split at 0x7f5f5852cca0>   n_jobs: 5   gridsearch: True    n_iter: 20   refit: True   \n",
      "Fitting 5 folds for each of 192 candidates, totalling 960 fits\n",
      "Best parameters set found on development set: {'lambda': 100, 'learning_rate': 0.1, 'max_depth': 5, 'max_leaves': 0, 'n_estimators': 250}\n",
      "Best score: 0.6015185598233024\n",
      "Grid scores on development set:\n",
      "\n",
      "0.59374 (+/-0.007) for {'lambda': 0.1, 'learning_rate': 0.1, 'max_depth': 2, 'max_leaves': 0, 'n_estimators': 150}\n",
      "0.59729 (+/-0.008) for {'lambda': 0.1, 'learning_rate': 0.1, 'max_depth': 2, 'max_leaves': 0, 'n_estimators': 250}\n",
      "0.59374 (+/-0.007) for {'lambda': 0.1, 'learning_rate': 0.1, 'max_depth': 2, 'max_leaves': 4, 'n_estimators': 150}\n",
      "0.59729 (+/-0.008) for {'lambda': 0.1, 'learning_rate': 0.1, 'max_depth': 2, 'max_leaves': 4, 'n_estimators': 250}\n",
      "0.59374 (+/-0.007) for {'lambda': 0.1, 'learning_rate': 0.1, 'max_depth': 2, 'max_leaves': 6, 'n_estimators': 150}\n",
      "0.59729 (+/-0.008) for {'lambda': 0.1, 'learning_rate': 0.1, 'max_depth': 2, 'max_leaves': 6, 'n_estimators': 250}\n",
      "0.59689 (+/-0.005) for {'lambda': 0.1, 'learning_rate': 0.1, 'max_depth': 5, 'max_leaves': 0, 'n_estimators': 150}\n",
      "0.59581 (+/-0.005) for {'lambda': 0.1, 'learning_rate': 0.1, 'max_depth': 5, 'max_leaves': 0, 'n_estimators': 250}\n",
      "0.59374 (+/-0.007) for {'lambda': 0.1, 'learning_rate': 0.1, 'max_depth': 5, 'max_leaves': 4, 'n_estimators': 150}\n",
      "0.59729 (+/-0.008) for {'lambda': 0.1, 'learning_rate': 0.1, 'max_depth': 5, 'max_leaves': 4, 'n_estimators': 250}\n",
      "0.59684 (+/-0.008) for {'lambda': 0.1, 'learning_rate': 0.1, 'max_depth': 5, 'max_leaves': 6, 'n_estimators': 150}\n",
      "0.59888 (+/-0.009) for {'lambda': 0.1, 'learning_rate': 0.1, 'max_depth': 5, 'max_leaves': 6, 'n_estimators': 250}\n",
      "0.57780 (+/-0.015) for {'lambda': 0.1, 'learning_rate': 1, 'max_depth': 2, 'max_leaves': 0, 'n_estimators': 150}\n",
      "0.57683 (+/-0.015) for {'lambda': 0.1, 'learning_rate': 1, 'max_depth': 2, 'max_leaves': 0, 'n_estimators': 250}\n",
      "0.57780 (+/-0.015) for {'lambda': 0.1, 'learning_rate': 1, 'max_depth': 2, 'max_leaves': 4, 'n_estimators': 150}\n",
      "0.57683 (+/-0.015) for {'lambda': 0.1, 'learning_rate': 1, 'max_depth': 2, 'max_leaves': 4, 'n_estimators': 250}\n",
      "0.57780 (+/-0.015) for {'lambda': 0.1, 'learning_rate': 1, 'max_depth': 2, 'max_leaves': 6, 'n_estimators': 150}\n",
      "0.57683 (+/-0.015) for {'lambda': 0.1, 'learning_rate': 1, 'max_depth': 2, 'max_leaves': 6, 'n_estimators': 250}\n",
      "0.54914 (+/-0.009) for {'lambda': 0.1, 'learning_rate': 1, 'max_depth': 5, 'max_leaves': 0, 'n_estimators': 150}\n",
      "0.54573 (+/-0.012) for {'lambda': 0.1, 'learning_rate': 1, 'max_depth': 5, 'max_leaves': 0, 'n_estimators': 250}\n",
      "0.57780 (+/-0.015) for {'lambda': 0.1, 'learning_rate': 1, 'max_depth': 5, 'max_leaves': 4, 'n_estimators': 150}\n",
      "0.57683 (+/-0.015) for {'lambda': 0.1, 'learning_rate': 1, 'max_depth': 5, 'max_leaves': 4, 'n_estimators': 250}\n",
      "0.57160 (+/-0.007) for {'lambda': 0.1, 'learning_rate': 1, 'max_depth': 5, 'max_leaves': 6, 'n_estimators': 150}\n",
      "0.56954 (+/-0.007) for {'lambda': 0.1, 'learning_rate': 1, 'max_depth': 5, 'max_leaves': 6, 'n_estimators': 250}\n",
      "0.51650 (+/-0.029) for {'lambda': 0.1, 'learning_rate': 10, 'max_depth': 2, 'max_leaves': 0, 'n_estimators': 150}\n",
      "0.51650 (+/-0.029) for {'lambda': 0.1, 'learning_rate': 10, 'max_depth': 2, 'max_leaves': 0, 'n_estimators': 250}\n",
      "0.51650 (+/-0.029) for {'lambda': 0.1, 'learning_rate': 10, 'max_depth': 2, 'max_leaves': 4, 'n_estimators': 150}\n",
      "0.51650 (+/-0.029) for {'lambda': 0.1, 'learning_rate': 10, 'max_depth': 2, 'max_leaves': 4, 'n_estimators': 250}\n",
      "0.51650 (+/-0.029) for {'lambda': 0.1, 'learning_rate': 10, 'max_depth': 2, 'max_leaves': 6, 'n_estimators': 150}\n",
      "0.51650 (+/-0.029) for {'lambda': 0.1, 'learning_rate': 10, 'max_depth': 2, 'max_leaves': 6, 'n_estimators': 250}\n",
      "0.51331 (+/-0.034) for {'lambda': 0.1, 'learning_rate': 10, 'max_depth': 5, 'max_leaves': 0, 'n_estimators': 150}\n",
      "0.51331 (+/-0.034) for {'lambda': 0.1, 'learning_rate': 10, 'max_depth': 5, 'max_leaves': 0, 'n_estimators': 250}\n",
      "0.51650 (+/-0.029) for {'lambda': 0.1, 'learning_rate': 10, 'max_depth': 5, 'max_leaves': 4, 'n_estimators': 150}\n",
      "0.51650 (+/-0.029) for {'lambda': 0.1, 'learning_rate': 10, 'max_depth': 5, 'max_leaves': 4, 'n_estimators': 250}\n",
      "0.52178 (+/-0.023) for {'lambda': 0.1, 'learning_rate': 10, 'max_depth': 5, 'max_leaves': 6, 'n_estimators': 150}\n",
      "0.52178 (+/-0.023) for {'lambda': 0.1, 'learning_rate': 10, 'max_depth': 5, 'max_leaves': 6, 'n_estimators': 250}\n",
      "0.47316 (+/-0.007) for {'lambda': 0.1, 'learning_rate': 100, 'max_depth': 2, 'max_leaves': 0, 'n_estimators': 150}\n",
      "0.47316 (+/-0.007) for {'lambda': 0.1, 'learning_rate': 100, 'max_depth': 2, 'max_leaves': 0, 'n_estimators': 250}\n",
      "0.47316 (+/-0.007) for {'lambda': 0.1, 'learning_rate': 100, 'max_depth': 2, 'max_leaves': 4, 'n_estimators': 150}\n",
      "0.47316 (+/-0.007) for {'lambda': 0.1, 'learning_rate': 100, 'max_depth': 2, 'max_leaves': 4, 'n_estimators': 250}\n",
      "0.47316 (+/-0.007) for {'lambda': 0.1, 'learning_rate': 100, 'max_depth': 2, 'max_leaves': 6, 'n_estimators': 150}\n",
      "0.47316 (+/-0.007) for {'lambda': 0.1, 'learning_rate': 100, 'max_depth': 2, 'max_leaves': 6, 'n_estimators': 250}\n",
      "0.46398 (+/-0.010) for {'lambda': 0.1, 'learning_rate': 100, 'max_depth': 5, 'max_leaves': 0, 'n_estimators': 150}\n",
      "0.46398 (+/-0.010) for {'lambda': 0.1, 'learning_rate': 100, 'max_depth': 5, 'max_leaves': 0, 'n_estimators': 250}\n",
      "0.47316 (+/-0.007) for {'lambda': 0.1, 'learning_rate': 100, 'max_depth': 5, 'max_leaves': 4, 'n_estimators': 150}\n",
      "0.47316 (+/-0.007) for {'lambda': 0.1, 'learning_rate': 100, 'max_depth': 5, 'max_leaves': 4, 'n_estimators': 250}\n",
      "0.48902 (+/-0.057) for {'lambda': 0.1, 'learning_rate': 100, 'max_depth': 5, 'max_leaves': 6, 'n_estimators': 150}\n",
      "0.48902 (+/-0.057) for {'lambda': 0.1, 'learning_rate': 100, 'max_depth': 5, 'max_leaves': 6, 'n_estimators': 250}\n",
      "0.59431 (+/-0.008) for {'lambda': 1, 'learning_rate': 0.1, 'max_depth': 2, 'max_leaves': 0, 'n_estimators': 150}\n",
      "0.59785 (+/-0.008) for {'lambda': 1, 'learning_rate': 0.1, 'max_depth': 2, 'max_leaves': 0, 'n_estimators': 250}\n",
      "0.59431 (+/-0.008) for {'lambda': 1, 'learning_rate': 0.1, 'max_depth': 2, 'max_leaves': 4, 'n_estimators': 150}\n",
      "0.59785 (+/-0.008) for {'lambda': 1, 'learning_rate': 0.1, 'max_depth': 2, 'max_leaves': 4, 'n_estimators': 250}\n",
      "0.59431 (+/-0.008) for {'lambda': 1, 'learning_rate': 0.1, 'max_depth': 2, 'max_leaves': 6, 'n_estimators': 150}\n",
      "0.59785 (+/-0.008) for {'lambda': 1, 'learning_rate': 0.1, 'max_depth': 2, 'max_leaves': 6, 'n_estimators': 250}\n",
      "0.59758 (+/-0.011) for {'lambda': 1, 'learning_rate': 0.1, 'max_depth': 5, 'max_leaves': 0, 'n_estimators': 150}\n",
      "0.59536 (+/-0.012) for {'lambda': 1, 'learning_rate': 0.1, 'max_depth': 5, 'max_leaves': 0, 'n_estimators': 250}\n",
      "0.59431 (+/-0.008) for {'lambda': 1, 'learning_rate': 0.1, 'max_depth': 5, 'max_leaves': 4, 'n_estimators': 150}\n",
      "0.59785 (+/-0.008) for {'lambda': 1, 'learning_rate': 0.1, 'max_depth': 5, 'max_leaves': 4, 'n_estimators': 250}\n",
      "0.59663 (+/-0.008) for {'lambda': 1, 'learning_rate': 0.1, 'max_depth': 5, 'max_leaves': 6, 'n_estimators': 150}\n",
      "0.59870 (+/-0.008) for {'lambda': 1, 'learning_rate': 0.1, 'max_depth': 5, 'max_leaves': 6, 'n_estimators': 250}\n",
      "0.57865 (+/-0.009) for {'lambda': 1, 'learning_rate': 1, 'max_depth': 2, 'max_leaves': 0, 'n_estimators': 150}\n",
      "0.57797 (+/-0.010) for {'lambda': 1, 'learning_rate': 1, 'max_depth': 2, 'max_leaves': 0, 'n_estimators': 250}\n",
      "0.57865 (+/-0.009) for {'lambda': 1, 'learning_rate': 1, 'max_depth': 2, 'max_leaves': 4, 'n_estimators': 150}\n",
      "0.57797 (+/-0.010) for {'lambda': 1, 'learning_rate': 1, 'max_depth': 2, 'max_leaves': 4, 'n_estimators': 250}\n",
      "0.57865 (+/-0.009) for {'lambda': 1, 'learning_rate': 1, 'max_depth': 2, 'max_leaves': 6, 'n_estimators': 150}\n",
      "0.57797 (+/-0.010) for {'lambda': 1, 'learning_rate': 1, 'max_depth': 2, 'max_leaves': 6, 'n_estimators': 250}\n",
      "0.55131 (+/-0.010) for {'lambda': 1, 'learning_rate': 1, 'max_depth': 5, 'max_leaves': 0, 'n_estimators': 150}\n",
      "0.55126 (+/-0.008) for {'lambda': 1, 'learning_rate': 1, 'max_depth': 5, 'max_leaves': 0, 'n_estimators': 250}\n",
      "0.57865 (+/-0.009) for {'lambda': 1, 'learning_rate': 1, 'max_depth': 5, 'max_leaves': 4, 'n_estimators': 150}\n",
      "0.57797 (+/-0.010) for {'lambda': 1, 'learning_rate': 1, 'max_depth': 5, 'max_leaves': 4, 'n_estimators': 250}\n",
      "0.57499 (+/-0.010) for {'lambda': 1, 'learning_rate': 1, 'max_depth': 5, 'max_leaves': 6, 'n_estimators': 150}\n",
      "0.57070 (+/-0.011) for {'lambda': 1, 'learning_rate': 1, 'max_depth': 5, 'max_leaves': 6, 'n_estimators': 250}\n",
      "0.51622 (+/-0.030) for {'lambda': 1, 'learning_rate': 10, 'max_depth': 2, 'max_leaves': 0, 'n_estimators': 150}\n",
      "0.51622 (+/-0.030) for {'lambda': 1, 'learning_rate': 10, 'max_depth': 2, 'max_leaves': 0, 'n_estimators': 250}\n",
      "0.51622 (+/-0.030) for {'lambda': 1, 'learning_rate': 10, 'max_depth': 2, 'max_leaves': 4, 'n_estimators': 150}\n",
      "0.51622 (+/-0.030) for {'lambda': 1, 'learning_rate': 10, 'max_depth': 2, 'max_leaves': 4, 'n_estimators': 250}\n",
      "0.51622 (+/-0.030) for {'lambda': 1, 'learning_rate': 10, 'max_depth': 2, 'max_leaves': 6, 'n_estimators': 150}\n",
      "0.51622 (+/-0.030) for {'lambda': 1, 'learning_rate': 10, 'max_depth': 2, 'max_leaves': 6, 'n_estimators': 250}\n",
      "0.51135 (+/-0.046) for {'lambda': 1, 'learning_rate': 10, 'max_depth': 5, 'max_leaves': 0, 'n_estimators': 150}\n",
      "0.51135 (+/-0.046) for {'lambda': 1, 'learning_rate': 10, 'max_depth': 5, 'max_leaves': 0, 'n_estimators': 250}\n",
      "0.51622 (+/-0.030) for {'lambda': 1, 'learning_rate': 10, 'max_depth': 5, 'max_leaves': 4, 'n_estimators': 150}\n",
      "0.51622 (+/-0.030) for {'lambda': 1, 'learning_rate': 10, 'max_depth': 5, 'max_leaves': 4, 'n_estimators': 250}\n",
      "0.52211 (+/-0.024) for {'lambda': 1, 'learning_rate': 10, 'max_depth': 5, 'max_leaves': 6, 'n_estimators': 150}\n",
      "0.52211 (+/-0.024) for {'lambda': 1, 'learning_rate': 10, 'max_depth': 5, 'max_leaves': 6, 'n_estimators': 250}\n",
      "0.47320 (+/-0.007) for {'lambda': 1, 'learning_rate': 100, 'max_depth': 2, 'max_leaves': 0, 'n_estimators': 150}\n",
      "0.47320 (+/-0.007) for {'lambda': 1, 'learning_rate': 100, 'max_depth': 2, 'max_leaves': 0, 'n_estimators': 250}\n",
      "0.47320 (+/-0.007) for {'lambda': 1, 'learning_rate': 100, 'max_depth': 2, 'max_leaves': 4, 'n_estimators': 150}\n",
      "0.47320 (+/-0.007) for {'lambda': 1, 'learning_rate': 100, 'max_depth': 2, 'max_leaves': 4, 'n_estimators': 250}\n",
      "0.47320 (+/-0.007) for {'lambda': 1, 'learning_rate': 100, 'max_depth': 2, 'max_leaves': 6, 'n_estimators': 150}\n",
      "0.47320 (+/-0.007) for {'lambda': 1, 'learning_rate': 100, 'max_depth': 2, 'max_leaves': 6, 'n_estimators': 250}\n",
      "0.46469 (+/-0.007) for {'lambda': 1, 'learning_rate': 100, 'max_depth': 5, 'max_leaves': 0, 'n_estimators': 150}\n",
      "0.46469 (+/-0.007) for {'lambda': 1, 'learning_rate': 100, 'max_depth': 5, 'max_leaves': 0, 'n_estimators': 250}\n",
      "0.47320 (+/-0.007) for {'lambda': 1, 'learning_rate': 100, 'max_depth': 5, 'max_leaves': 4, 'n_estimators': 150}\n",
      "0.47320 (+/-0.007) for {'lambda': 1, 'learning_rate': 100, 'max_depth': 5, 'max_leaves': 4, 'n_estimators': 250}\n",
      "0.48906 (+/-0.056) for {'lambda': 1, 'learning_rate': 100, 'max_depth': 5, 'max_leaves': 6, 'n_estimators': 150}\n",
      "0.48906 (+/-0.056) for {'lambda': 1, 'learning_rate': 100, 'max_depth': 5, 'max_leaves': 6, 'n_estimators': 250}\n",
      "0.59427 (+/-0.008) for {'lambda': 10, 'learning_rate': 0.1, 'max_depth': 2, 'max_leaves': 0, 'n_estimators': 150}\n",
      "0.59790 (+/-0.008) for {'lambda': 10, 'learning_rate': 0.1, 'max_depth': 2, 'max_leaves': 0, 'n_estimators': 250}\n",
      "0.59427 (+/-0.008) for {'lambda': 10, 'learning_rate': 0.1, 'max_depth': 2, 'max_leaves': 4, 'n_estimators': 150}\n",
      "0.59790 (+/-0.008) for {'lambda': 10, 'learning_rate': 0.1, 'max_depth': 2, 'max_leaves': 4, 'n_estimators': 250}\n",
      "0.59427 (+/-0.008) for {'lambda': 10, 'learning_rate': 0.1, 'max_depth': 2, 'max_leaves': 6, 'n_estimators': 150}\n",
      "0.59790 (+/-0.008) for {'lambda': 10, 'learning_rate': 0.1, 'max_depth': 2, 'max_leaves': 6, 'n_estimators': 250}\n",
      "0.59908 (+/-0.006) for {'lambda': 10, 'learning_rate': 0.1, 'max_depth': 5, 'max_leaves': 0, 'n_estimators': 150}\n",
      "0.59872 (+/-0.008) for {'lambda': 10, 'learning_rate': 0.1, 'max_depth': 5, 'max_leaves': 0, 'n_estimators': 250}\n",
      "0.59427 (+/-0.008) for {'lambda': 10, 'learning_rate': 0.1, 'max_depth': 5, 'max_leaves': 4, 'n_estimators': 150}\n",
      "0.59790 (+/-0.008) for {'lambda': 10, 'learning_rate': 0.1, 'max_depth': 5, 'max_leaves': 4, 'n_estimators': 250}\n",
      "0.59711 (+/-0.007) for {'lambda': 10, 'learning_rate': 0.1, 'max_depth': 5, 'max_leaves': 6, 'n_estimators': 150}\n",
      "0.59963 (+/-0.007) for {'lambda': 10, 'learning_rate': 0.1, 'max_depth': 5, 'max_leaves': 6, 'n_estimators': 250}\n",
      "0.57950 (+/-0.013) for {'lambda': 10, 'learning_rate': 1, 'max_depth': 2, 'max_leaves': 0, 'n_estimators': 150}\n",
      "0.57555 (+/-0.012) for {'lambda': 10, 'learning_rate': 1, 'max_depth': 2, 'max_leaves': 0, 'n_estimators': 250}\n",
      "0.57950 (+/-0.013) for {'lambda': 10, 'learning_rate': 1, 'max_depth': 2, 'max_leaves': 4, 'n_estimators': 150}\n",
      "0.57555 (+/-0.012) for {'lambda': 10, 'learning_rate': 1, 'max_depth': 2, 'max_leaves': 4, 'n_estimators': 250}\n",
      "0.57950 (+/-0.013) for {'lambda': 10, 'learning_rate': 1, 'max_depth': 2, 'max_leaves': 6, 'n_estimators': 150}\n",
      "0.57555 (+/-0.012) for {'lambda': 10, 'learning_rate': 1, 'max_depth': 2, 'max_leaves': 6, 'n_estimators': 250}\n",
      "0.55552 (+/-0.011) for {'lambda': 10, 'learning_rate': 1, 'max_depth': 5, 'max_leaves': 0, 'n_estimators': 150}\n",
      "0.55422 (+/-0.008) for {'lambda': 10, 'learning_rate': 1, 'max_depth': 5, 'max_leaves': 0, 'n_estimators': 250}\n",
      "0.57950 (+/-0.013) for {'lambda': 10, 'learning_rate': 1, 'max_depth': 5, 'max_leaves': 4, 'n_estimators': 150}\n",
      "0.57555 (+/-0.012) for {'lambda': 10, 'learning_rate': 1, 'max_depth': 5, 'max_leaves': 4, 'n_estimators': 250}\n",
      "0.57653 (+/-0.007) for {'lambda': 10, 'learning_rate': 1, 'max_depth': 5, 'max_leaves': 6, 'n_estimators': 150}\n",
      "0.57161 (+/-0.006) for {'lambda': 10, 'learning_rate': 1, 'max_depth': 5, 'max_leaves': 6, 'n_estimators': 250}\n",
      "0.51745 (+/-0.031) for {'lambda': 10, 'learning_rate': 10, 'max_depth': 2, 'max_leaves': 0, 'n_estimators': 150}\n",
      "0.51745 (+/-0.031) for {'lambda': 10, 'learning_rate': 10, 'max_depth': 2, 'max_leaves': 0, 'n_estimators': 250}\n",
      "0.51745 (+/-0.031) for {'lambda': 10, 'learning_rate': 10, 'max_depth': 2, 'max_leaves': 4, 'n_estimators': 150}\n",
      "0.51745 (+/-0.031) for {'lambda': 10, 'learning_rate': 10, 'max_depth': 2, 'max_leaves': 4, 'n_estimators': 250}\n",
      "0.51745 (+/-0.031) for {'lambda': 10, 'learning_rate': 10, 'max_depth': 2, 'max_leaves': 6, 'n_estimators': 150}\n",
      "0.51745 (+/-0.031) for {'lambda': 10, 'learning_rate': 10, 'max_depth': 2, 'max_leaves': 6, 'n_estimators': 250}\n",
      "0.50385 (+/-0.018) for {'lambda': 10, 'learning_rate': 10, 'max_depth': 5, 'max_leaves': 0, 'n_estimators': 150}\n",
      "0.50385 (+/-0.018) for {'lambda': 10, 'learning_rate': 10, 'max_depth': 5, 'max_leaves': 0, 'n_estimators': 250}\n",
      "0.51745 (+/-0.031) for {'lambda': 10, 'learning_rate': 10, 'max_depth': 5, 'max_leaves': 4, 'n_estimators': 150}\n",
      "0.51745 (+/-0.031) for {'lambda': 10, 'learning_rate': 10, 'max_depth': 5, 'max_leaves': 4, 'n_estimators': 250}\n",
      "0.50811 (+/-0.035) for {'lambda': 10, 'learning_rate': 10, 'max_depth': 5, 'max_leaves': 6, 'n_estimators': 150}\n",
      "0.50811 (+/-0.035) for {'lambda': 10, 'learning_rate': 10, 'max_depth': 5, 'max_leaves': 6, 'n_estimators': 250}\n",
      "0.47267 (+/-0.008) for {'lambda': 10, 'learning_rate': 100, 'max_depth': 2, 'max_leaves': 0, 'n_estimators': 150}\n",
      "0.47267 (+/-0.008) for {'lambda': 10, 'learning_rate': 100, 'max_depth': 2, 'max_leaves': 0, 'n_estimators': 250}\n",
      "0.47267 (+/-0.008) for {'lambda': 10, 'learning_rate': 100, 'max_depth': 2, 'max_leaves': 4, 'n_estimators': 150}\n",
      "0.47267 (+/-0.008) for {'lambda': 10, 'learning_rate': 100, 'max_depth': 2, 'max_leaves': 4, 'n_estimators': 250}\n",
      "0.47267 (+/-0.008) for {'lambda': 10, 'learning_rate': 100, 'max_depth': 2, 'max_leaves': 6, 'n_estimators': 150}\n",
      "0.47267 (+/-0.008) for {'lambda': 10, 'learning_rate': 100, 'max_depth': 2, 'max_leaves': 6, 'n_estimators': 250}\n",
      "0.47329 (+/-0.042) for {'lambda': 10, 'learning_rate': 100, 'max_depth': 5, 'max_leaves': 0, 'n_estimators': 150}\n",
      "0.47329 (+/-0.042) for {'lambda': 10, 'learning_rate': 100, 'max_depth': 5, 'max_leaves': 0, 'n_estimators': 250}\n",
      "0.47267 (+/-0.008) for {'lambda': 10, 'learning_rate': 100, 'max_depth': 5, 'max_leaves': 4, 'n_estimators': 150}\n",
      "0.47267 (+/-0.008) for {'lambda': 10, 'learning_rate': 100, 'max_depth': 5, 'max_leaves': 4, 'n_estimators': 250}\n",
      "0.48959 (+/-0.056) for {'lambda': 10, 'learning_rate': 100, 'max_depth': 5, 'max_leaves': 6, 'n_estimators': 150}\n",
      "0.48959 (+/-0.056) for {'lambda': 10, 'learning_rate': 100, 'max_depth': 5, 'max_leaves': 6, 'n_estimators': 250}\n",
      "0.59304 (+/-0.008) for {'lambda': 100, 'learning_rate': 0.1, 'max_depth': 2, 'max_leaves': 0, 'n_estimators': 150}\n",
      "0.59671 (+/-0.009) for {'lambda': 100, 'learning_rate': 0.1, 'max_depth': 2, 'max_leaves': 0, 'n_estimators': 250}\n",
      "0.59304 (+/-0.008) for {'lambda': 100, 'learning_rate': 0.1, 'max_depth': 2, 'max_leaves': 4, 'n_estimators': 150}\n",
      "0.59671 (+/-0.009) for {'lambda': 100, 'learning_rate': 0.1, 'max_depth': 2, 'max_leaves': 4, 'n_estimators': 250}\n",
      "0.59304 (+/-0.008) for {'lambda': 100, 'learning_rate': 0.1, 'max_depth': 2, 'max_leaves': 6, 'n_estimators': 150}\n",
      "0.59671 (+/-0.009) for {'lambda': 100, 'learning_rate': 0.1, 'max_depth': 2, 'max_leaves': 6, 'n_estimators': 250}\n",
      "0.60133 (+/-0.010) for {'lambda': 100, 'learning_rate': 0.1, 'max_depth': 5, 'max_leaves': 0, 'n_estimators': 150}\n",
      "0.60152 (+/-0.009) for {'lambda': 100, 'learning_rate': 0.1, 'max_depth': 5, 'max_leaves': 0, 'n_estimators': 250}\n",
      "0.59304 (+/-0.008) for {'lambda': 100, 'learning_rate': 0.1, 'max_depth': 5, 'max_leaves': 4, 'n_estimators': 150}\n",
      "0.59671 (+/-0.009) for {'lambda': 100, 'learning_rate': 0.1, 'max_depth': 5, 'max_leaves': 4, 'n_estimators': 250}\n",
      "0.59659 (+/-0.007) for {'lambda': 100, 'learning_rate': 0.1, 'max_depth': 5, 'max_leaves': 6, 'n_estimators': 150}\n",
      "0.60015 (+/-0.008) for {'lambda': 100, 'learning_rate': 0.1, 'max_depth': 5, 'max_leaves': 6, 'n_estimators': 250}\n",
      "0.58486 (+/-0.011) for {'lambda': 100, 'learning_rate': 1, 'max_depth': 2, 'max_leaves': 0, 'n_estimators': 150}\n",
      "0.58269 (+/-0.008) for {'lambda': 100, 'learning_rate': 1, 'max_depth': 2, 'max_leaves': 0, 'n_estimators': 250}\n",
      "0.58486 (+/-0.011) for {'lambda': 100, 'learning_rate': 1, 'max_depth': 2, 'max_leaves': 4, 'n_estimators': 150}\n",
      "0.58269 (+/-0.008) for {'lambda': 100, 'learning_rate': 1, 'max_depth': 2, 'max_leaves': 4, 'n_estimators': 250}\n",
      "0.58486 (+/-0.011) for {'lambda': 100, 'learning_rate': 1, 'max_depth': 2, 'max_leaves': 6, 'n_estimators': 150}\n",
      "0.58269 (+/-0.008) for {'lambda': 100, 'learning_rate': 1, 'max_depth': 2, 'max_leaves': 6, 'n_estimators': 250}\n",
      "0.56414 (+/-0.016) for {'lambda': 100, 'learning_rate': 1, 'max_depth': 5, 'max_leaves': 0, 'n_estimators': 150}\n",
      "0.56141 (+/-0.013) for {'lambda': 100, 'learning_rate': 1, 'max_depth': 5, 'max_leaves': 0, 'n_estimators': 250}\n",
      "0.58486 (+/-0.011) for {'lambda': 100, 'learning_rate': 1, 'max_depth': 5, 'max_leaves': 4, 'n_estimators': 150}\n",
      "0.58269 (+/-0.008) for {'lambda': 100, 'learning_rate': 1, 'max_depth': 5, 'max_leaves': 4, 'n_estimators': 250}\n",
      "0.57641 (+/-0.012) for {'lambda': 100, 'learning_rate': 1, 'max_depth': 5, 'max_leaves': 6, 'n_estimators': 150}\n",
      "0.57389 (+/-0.012) for {'lambda': 100, 'learning_rate': 1, 'max_depth': 5, 'max_leaves': 6, 'n_estimators': 250}\n",
      "0.51086 (+/-0.029) for {'lambda': 100, 'learning_rate': 10, 'max_depth': 2, 'max_leaves': 0, 'n_estimators': 150}\n",
      "0.51086 (+/-0.029) for {'lambda': 100, 'learning_rate': 10, 'max_depth': 2, 'max_leaves': 0, 'n_estimators': 250}\n",
      "0.51086 (+/-0.029) for {'lambda': 100, 'learning_rate': 10, 'max_depth': 2, 'max_leaves': 4, 'n_estimators': 150}\n",
      "0.51086 (+/-0.029) for {'lambda': 100, 'learning_rate': 10, 'max_depth': 2, 'max_leaves': 4, 'n_estimators': 250}\n",
      "0.51086 (+/-0.029) for {'lambda': 100, 'learning_rate': 10, 'max_depth': 2, 'max_leaves': 6, 'n_estimators': 150}\n",
      "0.51086 (+/-0.029) for {'lambda': 100, 'learning_rate': 10, 'max_depth': 2, 'max_leaves': 6, 'n_estimators': 250}\n",
      "0.50025 (+/-0.002) for {'lambda': 100, 'learning_rate': 10, 'max_depth': 5, 'max_leaves': 0, 'n_estimators': 150}\n",
      "0.50026 (+/-0.002) for {'lambda': 100, 'learning_rate': 10, 'max_depth': 5, 'max_leaves': 0, 'n_estimators': 250}\n",
      "0.51149 (+/-0.028) for {'lambda': 100, 'learning_rate': 10, 'max_depth': 5, 'max_leaves': 4, 'n_estimators': 150}\n",
      "0.51149 (+/-0.028) for {'lambda': 100, 'learning_rate': 10, 'max_depth': 5, 'max_leaves': 4, 'n_estimators': 250}\n",
      "0.51314 (+/-0.030) for {'lambda': 100, 'learning_rate': 10, 'max_depth': 5, 'max_leaves': 6, 'n_estimators': 150}\n",
      "0.51314 (+/-0.030) for {'lambda': 100, 'learning_rate': 10, 'max_depth': 5, 'max_leaves': 6, 'n_estimators': 250}\n",
      "0.47159 (+/-0.010) for {'lambda': 100, 'learning_rate': 100, 'max_depth': 2, 'max_leaves': 0, 'n_estimators': 150}\n",
      "0.47159 (+/-0.010) for {'lambda': 100, 'learning_rate': 100, 'max_depth': 2, 'max_leaves': 0, 'n_estimators': 250}\n",
      "0.47159 (+/-0.010) for {'lambda': 100, 'learning_rate': 100, 'max_depth': 2, 'max_leaves': 4, 'n_estimators': 150}\n",
      "0.47159 (+/-0.010) for {'lambda': 100, 'learning_rate': 100, 'max_depth': 2, 'max_leaves': 4, 'n_estimators': 250}\n",
      "0.47159 (+/-0.010) for {'lambda': 100, 'learning_rate': 100, 'max_depth': 2, 'max_leaves': 6, 'n_estimators': 150}\n",
      "0.47159 (+/-0.010) for {'lambda': 100, 'learning_rate': 100, 'max_depth': 2, 'max_leaves': 6, 'n_estimators': 250}\n",
      "0.51949 (+/-0.029) for {'lambda': 100, 'learning_rate': 100, 'max_depth': 5, 'max_leaves': 0, 'n_estimators': 150}\n",
      "0.51949 (+/-0.029) for {'lambda': 100, 'learning_rate': 100, 'max_depth': 5, 'max_leaves': 0, 'n_estimators': 250}\n",
      "0.47116 (+/-0.010) for {'lambda': 100, 'learning_rate': 100, 'max_depth': 5, 'max_leaves': 4, 'n_estimators': 150}\n",
      "0.47116 (+/-0.010) for {'lambda': 100, 'learning_rate': 100, 'max_depth': 5, 'max_leaves': 4, 'n_estimators': 250}\n",
      "0.48662 (+/-0.042) for {'lambda': 100, 'learning_rate': 100, 'max_depth': 5, 'max_leaves': 6, 'n_estimators': 150}\n",
      "0.48662 (+/-0.042) for {'lambda': 100, 'learning_rate': 100, 'max_depth': 5, 'max_leaves': 6, 'n_estimators': 250}\n"
     ]
    }
   ],
   "source": [
    "vt_xgb = model_selection(xgb_clf, PARM_SET, X_DATA, Y_DATA, scoring = 'roc_auc', cv=CV_SCHEME, GridSearch = True, n_jobs=NUM_JOBS,  verbose = 1)"
   ]
  },
  {
   "cell_type": "markdown",
   "id": "0b129854-be5a-4cc3-89df-d3ca87acf77c",
   "metadata": {},
   "source": [
    "#### results "
   ]
  },
  {
   "cell_type": "code",
   "execution_count": 197,
   "id": "baeb8173-f1cb-4310-92a0-36627215ce79",
   "metadata": {
    "editable": true,
    "execution": {
     "iopub.execute_input": "2024-08-07T18:04:29.174588Z",
     "iopub.status.busy": "2024-08-07T18:04:29.174045Z",
     "iopub.status.idle": "2024-08-07T18:04:29.224028Z",
     "shell.execute_reply": "2024-08-07T18:04:29.222923Z",
     "shell.execute_reply.started": "2024-08-07T18:04:29.174497Z"
    },
    "scrolled": true,
    "slideshow": {
     "slide_type": ""
    },
    "tags": []
   },
   "outputs": [
    {
     "data": {
      "text/plain": [
       "23"
      ]
     },
     "execution_count": 197,
     "metadata": {},
     "output_type": "execute_result"
    },
    {
     "data": {
      "text/plain": [
       "{'lambda': 0.1,\n",
       " 'learning_rate': 0.2,\n",
       " 'max_depth': 5,\n",
       " 'max_leaves': 6,\n",
       " 'n_estimators': 250}"
      ]
     },
     "execution_count": 197,
     "metadata": {},
     "output_type": "execute_result"
    },
    {
     "data": {
      "text/plain": [
       "0.5997383059677766"
      ]
     },
     "execution_count": 197,
     "metadata": {},
     "output_type": "execute_result"
    },
    {
     "data": {
      "text/html": [
       "<style>#sk-container-id-42 {\n",
       "  /* Definition of color scheme common for light and dark mode */\n",
       "  --sklearn-color-text: black;\n",
       "  --sklearn-color-line: gray;\n",
       "  /* Definition of color scheme for unfitted estimators */\n",
       "  --sklearn-color-unfitted-level-0: #fff5e6;\n",
       "  --sklearn-color-unfitted-level-1: #f6e4d2;\n",
       "  --sklearn-color-unfitted-level-2: #ffe0b3;\n",
       "  --sklearn-color-unfitted-level-3: chocolate;\n",
       "  /* Definition of color scheme for fitted estimators */\n",
       "  --sklearn-color-fitted-level-0: #f0f8ff;\n",
       "  --sklearn-color-fitted-level-1: #d4ebff;\n",
       "  --sklearn-color-fitted-level-2: #b3dbfd;\n",
       "  --sklearn-color-fitted-level-3: cornflowerblue;\n",
       "\n",
       "  /* Specific color for light theme */\n",
       "  --sklearn-color-text-on-default-background: var(--sg-text-color, var(--theme-code-foreground, var(--jp-content-font-color1, black)));\n",
       "  --sklearn-color-background: var(--sg-background-color, var(--theme-background, var(--jp-layout-color0, white)));\n",
       "  --sklearn-color-border-box: var(--sg-text-color, var(--theme-code-foreground, var(--jp-content-font-color1, black)));\n",
       "  --sklearn-color-icon: #696969;\n",
       "\n",
       "  @media (prefers-color-scheme: dark) {\n",
       "    /* Redefinition of color scheme for dark theme */\n",
       "    --sklearn-color-text-on-default-background: var(--sg-text-color, var(--theme-code-foreground, var(--jp-content-font-color1, white)));\n",
       "    --sklearn-color-background: var(--sg-background-color, var(--theme-background, var(--jp-layout-color0, #111)));\n",
       "    --sklearn-color-border-box: var(--sg-text-color, var(--theme-code-foreground, var(--jp-content-font-color1, white)));\n",
       "    --sklearn-color-icon: #878787;\n",
       "  }\n",
       "}\n",
       "\n",
       "#sk-container-id-42 {\n",
       "  color: var(--sklearn-color-text);\n",
       "}\n",
       "\n",
       "#sk-container-id-42 pre {\n",
       "  padding: 0;\n",
       "}\n",
       "\n",
       "#sk-container-id-42 input.sk-hidden--visually {\n",
       "  border: 0;\n",
       "  clip: rect(1px 1px 1px 1px);\n",
       "  clip: rect(1px, 1px, 1px, 1px);\n",
       "  height: 1px;\n",
       "  margin: -1px;\n",
       "  overflow: hidden;\n",
       "  padding: 0;\n",
       "  position: absolute;\n",
       "  width: 1px;\n",
       "}\n",
       "\n",
       "#sk-container-id-42 div.sk-dashed-wrapped {\n",
       "  border: 1px dashed var(--sklearn-color-line);\n",
       "  margin: 0 0.4em 0.5em 0.4em;\n",
       "  box-sizing: border-box;\n",
       "  padding-bottom: 0.4em;\n",
       "  background-color: var(--sklearn-color-background);\n",
       "}\n",
       "\n",
       "#sk-container-id-42 div.sk-container {\n",
       "  /* jupyter's `normalize.less` sets `[hidden] { display: none; }`\n",
       "     but bootstrap.min.css set `[hidden] { display: none !important; }`\n",
       "     so we also need the `!important` here to be able to override the\n",
       "     default hidden behavior on the sphinx rendered scikit-learn.org.\n",
       "     See: https://github.com/scikit-learn/scikit-learn/issues/21755 */\n",
       "  display: inline-block !important;\n",
       "  position: relative;\n",
       "}\n",
       "\n",
       "#sk-container-id-42 div.sk-text-repr-fallback {\n",
       "  display: none;\n",
       "}\n",
       "\n",
       "div.sk-parallel-item,\n",
       "div.sk-serial,\n",
       "div.sk-item {\n",
       "  /* draw centered vertical line to link estimators */\n",
       "  background-image: linear-gradient(var(--sklearn-color-text-on-default-background), var(--sklearn-color-text-on-default-background));\n",
       "  background-size: 2px 100%;\n",
       "  background-repeat: no-repeat;\n",
       "  background-position: center center;\n",
       "}\n",
       "\n",
       "/* Parallel-specific style estimator block */\n",
       "\n",
       "#sk-container-id-42 div.sk-parallel-item::after {\n",
       "  content: \"\";\n",
       "  width: 100%;\n",
       "  border-bottom: 2px solid var(--sklearn-color-text-on-default-background);\n",
       "  flex-grow: 1;\n",
       "}\n",
       "\n",
       "#sk-container-id-42 div.sk-parallel {\n",
       "  display: flex;\n",
       "  align-items: stretch;\n",
       "  justify-content: center;\n",
       "  background-color: var(--sklearn-color-background);\n",
       "  position: relative;\n",
       "}\n",
       "\n",
       "#sk-container-id-42 div.sk-parallel-item {\n",
       "  display: flex;\n",
       "  flex-direction: column;\n",
       "}\n",
       "\n",
       "#sk-container-id-42 div.sk-parallel-item:first-child::after {\n",
       "  align-self: flex-end;\n",
       "  width: 50%;\n",
       "}\n",
       "\n",
       "#sk-container-id-42 div.sk-parallel-item:last-child::after {\n",
       "  align-self: flex-start;\n",
       "  width: 50%;\n",
       "}\n",
       "\n",
       "#sk-container-id-42 div.sk-parallel-item:only-child::after {\n",
       "  width: 0;\n",
       "}\n",
       "\n",
       "/* Serial-specific style estimator block */\n",
       "\n",
       "#sk-container-id-42 div.sk-serial {\n",
       "  display: flex;\n",
       "  flex-direction: column;\n",
       "  align-items: center;\n",
       "  background-color: var(--sklearn-color-background);\n",
       "  padding-right: 1em;\n",
       "  padding-left: 1em;\n",
       "}\n",
       "\n",
       "\n",
       "/* Toggleable style: style used for estimator/Pipeline/ColumnTransformer box that is\n",
       "clickable and can be expanded/collapsed.\n",
       "- Pipeline and ColumnTransformer use this feature and define the default style\n",
       "- Estimators will overwrite some part of the style using the `sk-estimator` class\n",
       "*/\n",
       "\n",
       "/* Pipeline and ColumnTransformer style (default) */\n",
       "\n",
       "#sk-container-id-42 div.sk-toggleable {\n",
       "  /* Default theme specific background. It is overwritten whether we have a\n",
       "  specific estimator or a Pipeline/ColumnTransformer */\n",
       "  background-color: var(--sklearn-color-background);\n",
       "}\n",
       "\n",
       "/* Toggleable label */\n",
       "#sk-container-id-42 label.sk-toggleable__label {\n",
       "  cursor: pointer;\n",
       "  display: block;\n",
       "  width: 100%;\n",
       "  margin-bottom: 0;\n",
       "  padding: 0.5em;\n",
       "  box-sizing: border-box;\n",
       "  text-align: center;\n",
       "}\n",
       "\n",
       "#sk-container-id-42 label.sk-toggleable__label-arrow:before {\n",
       "  /* Arrow on the left of the label */\n",
       "  content: \"▸\";\n",
       "  float: left;\n",
       "  margin-right: 0.25em;\n",
       "  color: var(--sklearn-color-icon);\n",
       "}\n",
       "\n",
       "#sk-container-id-42 label.sk-toggleable__label-arrow:hover:before {\n",
       "  color: var(--sklearn-color-text);\n",
       "}\n",
       "\n",
       "/* Toggleable content - dropdown */\n",
       "\n",
       "#sk-container-id-42 div.sk-toggleable__content {\n",
       "  max-height: 0;\n",
       "  max-width: 0;\n",
       "  overflow: hidden;\n",
       "  text-align: left;\n",
       "  /* unfitted */\n",
       "  background-color: var(--sklearn-color-unfitted-level-0);\n",
       "}\n",
       "\n",
       "#sk-container-id-42 div.sk-toggleable__content.fitted {\n",
       "  /* fitted */\n",
       "  background-color: var(--sklearn-color-fitted-level-0);\n",
       "}\n",
       "\n",
       "#sk-container-id-42 div.sk-toggleable__content pre {\n",
       "  margin: 0.2em;\n",
       "  border-radius: 0.25em;\n",
       "  color: var(--sklearn-color-text);\n",
       "  /* unfitted */\n",
       "  background-color: var(--sklearn-color-unfitted-level-0);\n",
       "}\n",
       "\n",
       "#sk-container-id-42 div.sk-toggleable__content.fitted pre {\n",
       "  /* unfitted */\n",
       "  background-color: var(--sklearn-color-fitted-level-0);\n",
       "}\n",
       "\n",
       "#sk-container-id-42 input.sk-toggleable__control:checked~div.sk-toggleable__content {\n",
       "  /* Expand drop-down */\n",
       "  max-height: 200px;\n",
       "  max-width: 100%;\n",
       "  overflow: auto;\n",
       "}\n",
       "\n",
       "#sk-container-id-42 input.sk-toggleable__control:checked~label.sk-toggleable__label-arrow:before {\n",
       "  content: \"▾\";\n",
       "}\n",
       "\n",
       "/* Pipeline/ColumnTransformer-specific style */\n",
       "\n",
       "#sk-container-id-42 div.sk-label input.sk-toggleable__control:checked~label.sk-toggleable__label {\n",
       "  color: var(--sklearn-color-text);\n",
       "  background-color: var(--sklearn-color-unfitted-level-2);\n",
       "}\n",
       "\n",
       "#sk-container-id-42 div.sk-label.fitted input.sk-toggleable__control:checked~label.sk-toggleable__label {\n",
       "  background-color: var(--sklearn-color-fitted-level-2);\n",
       "}\n",
       "\n",
       "/* Estimator-specific style */\n",
       "\n",
       "/* Colorize estimator box */\n",
       "#sk-container-id-42 div.sk-estimator input.sk-toggleable__control:checked~label.sk-toggleable__label {\n",
       "  /* unfitted */\n",
       "  background-color: var(--sklearn-color-unfitted-level-2);\n",
       "}\n",
       "\n",
       "#sk-container-id-42 div.sk-estimator.fitted input.sk-toggleable__control:checked~label.sk-toggleable__label {\n",
       "  /* fitted */\n",
       "  background-color: var(--sklearn-color-fitted-level-2);\n",
       "}\n",
       "\n",
       "#sk-container-id-42 div.sk-label label.sk-toggleable__label,\n",
       "#sk-container-id-42 div.sk-label label {\n",
       "  /* The background is the default theme color */\n",
       "  color: var(--sklearn-color-text-on-default-background);\n",
       "}\n",
       "\n",
       "/* On hover, darken the color of the background */\n",
       "#sk-container-id-42 div.sk-label:hover label.sk-toggleable__label {\n",
       "  color: var(--sklearn-color-text);\n",
       "  background-color: var(--sklearn-color-unfitted-level-2);\n",
       "}\n",
       "\n",
       "/* Label box, darken color on hover, fitted */\n",
       "#sk-container-id-42 div.sk-label.fitted:hover label.sk-toggleable__label.fitted {\n",
       "  color: var(--sklearn-color-text);\n",
       "  background-color: var(--sklearn-color-fitted-level-2);\n",
       "}\n",
       "\n",
       "/* Estimator label */\n",
       "\n",
       "#sk-container-id-42 div.sk-label label {\n",
       "  font-family: monospace;\n",
       "  font-weight: bold;\n",
       "  display: inline-block;\n",
       "  line-height: 1.2em;\n",
       "}\n",
       "\n",
       "#sk-container-id-42 div.sk-label-container {\n",
       "  text-align: center;\n",
       "}\n",
       "\n",
       "/* Estimator-specific */\n",
       "#sk-container-id-42 div.sk-estimator {\n",
       "  font-family: monospace;\n",
       "  border: 1px dotted var(--sklearn-color-border-box);\n",
       "  border-radius: 0.25em;\n",
       "  box-sizing: border-box;\n",
       "  margin-bottom: 0.5em;\n",
       "  /* unfitted */\n",
       "  background-color: var(--sklearn-color-unfitted-level-0);\n",
       "}\n",
       "\n",
       "#sk-container-id-42 div.sk-estimator.fitted {\n",
       "  /* fitted */\n",
       "  background-color: var(--sklearn-color-fitted-level-0);\n",
       "}\n",
       "\n",
       "/* on hover */\n",
       "#sk-container-id-42 div.sk-estimator:hover {\n",
       "  /* unfitted */\n",
       "  background-color: var(--sklearn-color-unfitted-level-2);\n",
       "}\n",
       "\n",
       "#sk-container-id-42 div.sk-estimator.fitted:hover {\n",
       "  /* fitted */\n",
       "  background-color: var(--sklearn-color-fitted-level-2);\n",
       "}\n",
       "\n",
       "/* Specification for estimator info (e.g. \"i\" and \"?\") */\n",
       "\n",
       "/* Common style for \"i\" and \"?\" */\n",
       "\n",
       ".sk-estimator-doc-link,\n",
       "a:link.sk-estimator-doc-link,\n",
       "a:visited.sk-estimator-doc-link {\n",
       "  float: right;\n",
       "  font-size: smaller;\n",
       "  line-height: 1em;\n",
       "  font-family: monospace;\n",
       "  background-color: var(--sklearn-color-background);\n",
       "  border-radius: 1em;\n",
       "  height: 1em;\n",
       "  width: 1em;\n",
       "  text-decoration: none !important;\n",
       "  margin-left: 1ex;\n",
       "  /* unfitted */\n",
       "  border: var(--sklearn-color-unfitted-level-1) 1pt solid;\n",
       "  color: var(--sklearn-color-unfitted-level-1);\n",
       "}\n",
       "\n",
       ".sk-estimator-doc-link.fitted,\n",
       "a:link.sk-estimator-doc-link.fitted,\n",
       "a:visited.sk-estimator-doc-link.fitted {\n",
       "  /* fitted */\n",
       "  border: var(--sklearn-color-fitted-level-1) 1pt solid;\n",
       "  color: var(--sklearn-color-fitted-level-1);\n",
       "}\n",
       "\n",
       "/* On hover */\n",
       "div.sk-estimator:hover .sk-estimator-doc-link:hover,\n",
       ".sk-estimator-doc-link:hover,\n",
       "div.sk-label-container:hover .sk-estimator-doc-link:hover,\n",
       ".sk-estimator-doc-link:hover {\n",
       "  /* unfitted */\n",
       "  background-color: var(--sklearn-color-unfitted-level-3);\n",
       "  color: var(--sklearn-color-background);\n",
       "  text-decoration: none;\n",
       "}\n",
       "\n",
       "div.sk-estimator.fitted:hover .sk-estimator-doc-link.fitted:hover,\n",
       ".sk-estimator-doc-link.fitted:hover,\n",
       "div.sk-label-container:hover .sk-estimator-doc-link.fitted:hover,\n",
       ".sk-estimator-doc-link.fitted:hover {\n",
       "  /* fitted */\n",
       "  background-color: var(--sklearn-color-fitted-level-3);\n",
       "  color: var(--sklearn-color-background);\n",
       "  text-decoration: none;\n",
       "}\n",
       "\n",
       "/* Span, style for the box shown on hovering the info icon */\n",
       ".sk-estimator-doc-link span {\n",
       "  display: none;\n",
       "  z-index: 9999;\n",
       "  position: relative;\n",
       "  font-weight: normal;\n",
       "  right: .2ex;\n",
       "  padding: .5ex;\n",
       "  margin: .5ex;\n",
       "  width: min-content;\n",
       "  min-width: 20ex;\n",
       "  max-width: 50ex;\n",
       "  color: var(--sklearn-color-text);\n",
       "  box-shadow: 2pt 2pt 4pt #999;\n",
       "  /* unfitted */\n",
       "  background: var(--sklearn-color-unfitted-level-0);\n",
       "  border: .5pt solid var(--sklearn-color-unfitted-level-3);\n",
       "}\n",
       "\n",
       ".sk-estimator-doc-link.fitted span {\n",
       "  /* fitted */\n",
       "  background: var(--sklearn-color-fitted-level-0);\n",
       "  border: var(--sklearn-color-fitted-level-3);\n",
       "}\n",
       "\n",
       ".sk-estimator-doc-link:hover span {\n",
       "  display: block;\n",
       "}\n",
       "\n",
       "/* \"?\"-specific style due to the `<a>` HTML tag */\n",
       "\n",
       "#sk-container-id-42 a.estimator_doc_link {\n",
       "  float: right;\n",
       "  font-size: 1rem;\n",
       "  line-height: 1em;\n",
       "  font-family: monospace;\n",
       "  background-color: var(--sklearn-color-background);\n",
       "  border-radius: 1rem;\n",
       "  height: 1rem;\n",
       "  width: 1rem;\n",
       "  text-decoration: none;\n",
       "  /* unfitted */\n",
       "  color: var(--sklearn-color-unfitted-level-1);\n",
       "  border: var(--sklearn-color-unfitted-level-1) 1pt solid;\n",
       "}\n",
       "\n",
       "#sk-container-id-42 a.estimator_doc_link.fitted {\n",
       "  /* fitted */\n",
       "  border: var(--sklearn-color-fitted-level-1) 1pt solid;\n",
       "  color: var(--sklearn-color-fitted-level-1);\n",
       "}\n",
       "\n",
       "/* On hover */\n",
       "#sk-container-id-42 a.estimator_doc_link:hover {\n",
       "  /* unfitted */\n",
       "  background-color: var(--sklearn-color-unfitted-level-3);\n",
       "  color: var(--sklearn-color-background);\n",
       "  text-decoration: none;\n",
       "}\n",
       "\n",
       "#sk-container-id-42 a.estimator_doc_link.fitted:hover {\n",
       "  /* fitted */\n",
       "  background-color: var(--sklearn-color-fitted-level-3);\n",
       "}\n",
       "</style><div id=\"sk-container-id-42\" class=\"sk-top-container\"><div class=\"sk-text-repr-fallback\"><pre>XGBClassifier(base_score=None, booster=None, callbacks=None,\n",
       "              colsample_bylevel=None, colsample_bynode=None,\n",
       "              colsample_bytree=None, device=None, early_stopping_rounds=None,\n",
       "              enable_categorical=False, eval_metric=None, feature_types=None,\n",
       "              gamma=None, grow_policy=None, importance_type=None,\n",
       "              interaction_constraints=None, lambda=0.1, learning_rate=0.2,\n",
       "              max_bin=None, max_cat_threshold=None, max_cat_to_onehot=None,\n",
       "              max_delta_step=None, max_depth=5, max_leaves=6,\n",
       "              min_child_weight=None, missing=nan, monotone_constraints=None,\n",
       "              multi_strategy=None, n_estimators=250, n_jobs=None,\n",
       "              num_parallel_tree=None, ...)</pre><b>In a Jupyter environment, please rerun this cell to show the HTML representation or trust the notebook. <br />On GitHub, the HTML representation is unable to render, please try loading this page with nbviewer.org.</b></div><div class=\"sk-container\" hidden><div class=\"sk-item\"><div class=\"sk-estimator fitted sk-toggleable\"><input class=\"sk-toggleable__control sk-hidden--visually\" id=\"sk-estimator-id-74\" type=\"checkbox\" checked><label for=\"sk-estimator-id-74\" class=\"sk-toggleable__label fitted sk-toggleable__label-arrow fitted\">&nbsp;XGBClassifier<span class=\"sk-estimator-doc-link fitted\">i<span>Fitted</span></span></label><div class=\"sk-toggleable__content fitted\"><pre>XGBClassifier(base_score=None, booster=None, callbacks=None,\n",
       "              colsample_bylevel=None, colsample_bynode=None,\n",
       "              colsample_bytree=None, device=None, early_stopping_rounds=None,\n",
       "              enable_categorical=False, eval_metric=None, feature_types=None,\n",
       "              gamma=None, grow_policy=None, importance_type=None,\n",
       "              interaction_constraints=None, lambda=0.1, learning_rate=0.2,\n",
       "              max_bin=None, max_cat_threshold=None, max_cat_to_onehot=None,\n",
       "              max_delta_step=None, max_depth=5, max_leaves=6,\n",
       "              min_child_weight=None, missing=nan, monotone_constraints=None,\n",
       "              multi_strategy=None, n_estimators=250, n_jobs=None,\n",
       "              num_parallel_tree=None, ...)</pre></div> </div></div></div></div>"
      ],
      "text/plain": [
       "XGBClassifier(base_score=None, booster=None, callbacks=None,\n",
       "              colsample_bylevel=None, colsample_bynode=None,\n",
       "              colsample_bytree=None, device=None, early_stopping_rounds=None,\n",
       "              enable_categorical=False, eval_metric=None, feature_types=None,\n",
       "              gamma=None, grow_policy=None, importance_type=None,\n",
       "              interaction_constraints=None, lambda=0.1, learning_rate=0.2,\n",
       "              max_bin=None, max_cat_threshold=None, max_cat_to_onehot=None,\n",
       "              max_delta_step=None, max_depth=5, max_leaves=6,\n",
       "              min_child_weight=None, missing=nan, monotone_constraints=None,\n",
       "              multi_strategy=None, n_estimators=250, n_jobs=None,\n",
       "              num_parallel_tree=None, ...)"
      ]
     },
     "execution_count": 197,
     "metadata": {},
     "output_type": "execute_result"
    }
   ],
   "source": [
    "vt_xgb.best_index_\n",
    "vt_xgb.best_params_\n",
    "vt_xgb.best_score_\n",
    "vt_xgb.best_estimator_\n",
    "# vt_xgb\n",
    "# vt_xgb.estimator\n",
    "# vt_xgb.cv_results_\n",
    "# vt_xgb.fit\n"
   ]
  },
  {
   "cell_type": "code",
   "execution_count": 195,
   "id": "52cb8b3c-68b8-4497-b337-d342ba4a5b3b",
   "metadata": {
    "editable": true,
    "execution": {
     "iopub.execute_input": "2024-08-07T18:01:11.378132Z",
     "iopub.status.busy": "2024-08-07T18:01:11.377648Z",
     "iopub.status.idle": "2024-08-07T18:01:11.412409Z",
     "shell.execute_reply": "2024-08-07T18:01:11.411813Z",
     "shell.execute_reply.started": "2024-08-07T18:01:11.378086Z"
    },
    "scrolled": true,
    "slideshow": {
     "slide_type": ""
    },
    "tags": []
   },
   "outputs": [],
   "source": [
    "# print('-'*40)\n",
    "# print(f\"vt_xgb parameters: \")\n",
    "# print('-'*40)\n",
    "# vt_xgb.get_params()\n",
    "# vt_xgb.classes_\n",
    "# vt_xgb.cv\n",
    "# cv_list = [ x for x in vt_xgb.cv]\n",
    "# vt_xgb.multimetric_\n",
    "# vt_xgb.n_features_in_\n",
    "# vt_xgb.n_jobs\n",
    "# vt_xgb.n_splits_\n",
    "# vt_xgb.param_grid\n",
    "# vt_xgb.pre_dispatch\n",
    "# vt_xgb.predict\n",
    "# vt_xgb.predict_log_proba\n",
    "# vt_xgb.predict_proba\n",
    "# vt_xgb.refit\n",
    "# vt_xgb.refit_time_\n",
    "# vt_xgb.return_train_score\n",
    "# vt_xgb.score\n",
    "# vt_xgb.score_samples\n",
    "# vt_xgb.scorer_\n",
    "# vt_xgb.scoring\n",
    "# vt_xgb.transform\n",
    "# vt_svm.verbose"
   ]
  },
  {
   "cell_type": "code",
   "execution_count": null,
   "id": "d2a531b3-6636-446f-b3d7-1ab6f390b347",
   "metadata": {
    "editable": true,
    "execution": {
     "iopub.execute_input": "2024-08-06T19:00:49.833648Z",
     "iopub.status.busy": "2024-08-06T19:00:49.833207Z",
     "iopub.status.idle": "2024-08-06T19:00:49.881287Z",
     "shell.execute_reply": "2024-08-06T19:00:49.880476Z",
     "shell.execute_reply.started": "2024-08-06T19:00:49.833617Z"
    },
    "slideshow": {
     "slide_type": ""
    },
    "tags": []
   },
   "outputs": [],
   "source": [
    "Balanced data\n",
    "{'lambda': 0.1, 'learning_rate': 0.2, 'max_depth': 5, 'max_leaves': 6, 'n_estimators': 250}\n",
    "0.5997383059677766\n",
    "\n",
    "Imbalanced data:\n",
    "#### Best score: 0.589562942908825\n",
    "Grid scores on development set:\n",
    "0.60383 (+/-0.013) for {'learning_rate': 0.1, 'max_depth': 5, 'max_leaves': 0, 'n_estimators': 250}\n",
    "Grid scores on development set:                 \n",
    "0.60486 (+/-0.008) for {'learning_rate': 0.1, 'max_depth': 4, 'max_leaves': 0, 'n_estimators': 250}\n"
   ]
  },
  {
   "cell_type": "markdown",
   "id": "866492a1-9751-41f6-a4ad-53c8e5edcf59",
   "metadata": {},
   "source": [
    "## Save / Load Model"
   ]
  },
  {
   "cell_type": "code",
   "execution_count": 34,
   "id": "3b182536-7aea-4e24-b00d-b392626b2895",
   "metadata": {
    "execution": {
     "iopub.execute_input": "2024-08-07T23:00:39.087533Z",
     "iopub.status.busy": "2024-08-07T23:00:39.087071Z",
     "iopub.status.idle": "2024-08-07T23:00:39.129652Z",
     "shell.execute_reply": "2024-08-07T23:00:39.129027Z",
     "shell.execute_reply.started": "2024-08-07T23:00:39.087491Z"
    }
   },
   "outputs": [
    {
     "data": {
      "text/plain": [
       "'./embedding_models/XGB_estimators_BASE_1_UNBALANCED.pkl'"
      ]
     },
     "execution_count": 34,
     "metadata": {},
     "output_type": "execute_result"
    }
   ],
   "source": [
    "FILENAME = 'XGB_estimators_BASE_1_UNBALANCED.pkl'\n",
    "SAVE_MODEL = os.path.join(output_path, FILENAME)\n",
    "SAVE_MODEL"
   ]
  },
  {
   "cell_type": "code",
   "execution_count": 642,
   "id": "0852d650-06a5-4af5-82a3-1c59af56493b",
   "metadata": {
    "execution": {
     "iopub.execute_input": "2024-08-05T20:58:05.559750Z",
     "iopub.status.busy": "2024-08-05T20:58:05.559285Z",
     "iopub.status.idle": "2024-08-05T20:58:05.636804Z",
     "shell.execute_reply": "2024-08-05T20:58:05.636028Z",
     "shell.execute_reply.started": "2024-08-05T20:58:05.559708Z"
    }
   },
   "outputs": [
    {
     "name": "stdout",
     "output_type": "stream",
     "text": [
      " save_to_pickle(): save data to SVM_estimators_SNNL_1_BALANCED_RATIO_1.pkl\n"
     ]
    }
   ],
   "source": [
    "save_to_pickle(vt_svm, '', FILENAME, verbose = True)"
   ]
  },
  {
   "cell_type": "markdown",
   "id": "750bcd49-a11d-46af-b4b0-098f08d44a62",
   "metadata": {
    "jp-MarkdownHeadingCollapsed": true
   },
   "source": [
    "### Load Model"
   ]
  },
  {
   "cell_type": "code",
   "execution_count": 35,
   "id": "00213a6d-ed8f-4294-8139-0575b4f31822",
   "metadata": {
    "execution": {
     "iopub.execute_input": "2024-08-07T23:00:57.345678Z",
     "iopub.status.busy": "2024-08-07T23:00:57.345181Z",
     "iopub.status.idle": "2024-08-07T23:00:57.380070Z",
     "shell.execute_reply": "2024-08-07T23:00:57.379512Z",
     "shell.execute_reply.started": "2024-08-07T23:00:57.345636Z"
    }
   },
   "outputs": [
    {
     "data": {
      "text/plain": [
       "'./embedding_models/XGB_estimators_BASE_1_UNBALANCED.pkl'"
      ]
     },
     "execution_count": 35,
     "metadata": {},
     "output_type": "execute_result"
    }
   ],
   "source": [
    "FILENAME = 'XGB_estimators_BASE_1_UNBALANCED.pkl'\n",
    "LOAD_MODEL = os.path.join(output_path, FILENAME)\n",
    "LOAD_MODEL"
   ]
  },
  {
   "cell_type": "code",
   "execution_count": 447,
   "id": "2645c164-17c0-4bc7-8a50-913f9553edf0",
   "metadata": {
    "execution": {
     "iopub.execute_input": "2024-08-03T20:28:38.907329Z",
     "iopub.status.busy": "2024-08-03T20:28:38.906818Z",
     "iopub.status.idle": "2024-08-03T20:28:38.953380Z",
     "shell.execute_reply": "2024-08-03T20:28:38.952719Z",
     "shell.execute_reply.started": "2024-08-03T20:28:38.907289Z"
    }
   },
   "outputs": [],
   "source": [
    "svm_estimators = load_from_pickle('', FILENAME)"
   ]
  },
  {
   "cell_type": "code",
   "execution_count": 448,
   "id": "59408436-b1d6-402c-a6c8-11734a21bb82",
   "metadata": {
    "execution": {
     "iopub.execute_input": "2024-08-03T20:28:39.741723Z",
     "iopub.status.busy": "2024-08-03T20:28:39.741133Z",
     "iopub.status.idle": "2024-08-03T20:28:39.788662Z",
     "shell.execute_reply": "2024-08-03T20:28:39.787467Z",
     "shell.execute_reply.started": "2024-08-03T20:28:39.741680Z"
    }
   },
   "outputs": [
    {
     "data": {
      "text/html": [
       "<style>#sk-container-id-16 {\n",
       "  /* Definition of color scheme common for light and dark mode */\n",
       "  --sklearn-color-text: black;\n",
       "  --sklearn-color-line: gray;\n",
       "  /* Definition of color scheme for unfitted estimators */\n",
       "  --sklearn-color-unfitted-level-0: #fff5e6;\n",
       "  --sklearn-color-unfitted-level-1: #f6e4d2;\n",
       "  --sklearn-color-unfitted-level-2: #ffe0b3;\n",
       "  --sklearn-color-unfitted-level-3: chocolate;\n",
       "  /* Definition of color scheme for fitted estimators */\n",
       "  --sklearn-color-fitted-level-0: #f0f8ff;\n",
       "  --sklearn-color-fitted-level-1: #d4ebff;\n",
       "  --sklearn-color-fitted-level-2: #b3dbfd;\n",
       "  --sklearn-color-fitted-level-3: cornflowerblue;\n",
       "\n",
       "  /* Specific color for light theme */\n",
       "  --sklearn-color-text-on-default-background: var(--sg-text-color, var(--theme-code-foreground, var(--jp-content-font-color1, black)));\n",
       "  --sklearn-color-background: var(--sg-background-color, var(--theme-background, var(--jp-layout-color0, white)));\n",
       "  --sklearn-color-border-box: var(--sg-text-color, var(--theme-code-foreground, var(--jp-content-font-color1, black)));\n",
       "  --sklearn-color-icon: #696969;\n",
       "\n",
       "  @media (prefers-color-scheme: dark) {\n",
       "    /* Redefinition of color scheme for dark theme */\n",
       "    --sklearn-color-text-on-default-background: var(--sg-text-color, var(--theme-code-foreground, var(--jp-content-font-color1, white)));\n",
       "    --sklearn-color-background: var(--sg-background-color, var(--theme-background, var(--jp-layout-color0, #111)));\n",
       "    --sklearn-color-border-box: var(--sg-text-color, var(--theme-code-foreground, var(--jp-content-font-color1, white)));\n",
       "    --sklearn-color-icon: #878787;\n",
       "  }\n",
       "}\n",
       "\n",
       "#sk-container-id-16 {\n",
       "  color: var(--sklearn-color-text);\n",
       "}\n",
       "\n",
       "#sk-container-id-16 pre {\n",
       "  padding: 0;\n",
       "}\n",
       "\n",
       "#sk-container-id-16 input.sk-hidden--visually {\n",
       "  border: 0;\n",
       "  clip: rect(1px 1px 1px 1px);\n",
       "  clip: rect(1px, 1px, 1px, 1px);\n",
       "  height: 1px;\n",
       "  margin: -1px;\n",
       "  overflow: hidden;\n",
       "  padding: 0;\n",
       "  position: absolute;\n",
       "  width: 1px;\n",
       "}\n",
       "\n",
       "#sk-container-id-16 div.sk-dashed-wrapped {\n",
       "  border: 1px dashed var(--sklearn-color-line);\n",
       "  margin: 0 0.4em 0.5em 0.4em;\n",
       "  box-sizing: border-box;\n",
       "  padding-bottom: 0.4em;\n",
       "  background-color: var(--sklearn-color-background);\n",
       "}\n",
       "\n",
       "#sk-container-id-16 div.sk-container {\n",
       "  /* jupyter's `normalize.less` sets `[hidden] { display: none; }`\n",
       "     but bootstrap.min.css set `[hidden] { display: none !important; }`\n",
       "     so we also need the `!important` here to be able to override the\n",
       "     default hidden behavior on the sphinx rendered scikit-learn.org.\n",
       "     See: https://github.com/scikit-learn/scikit-learn/issues/21755 */\n",
       "  display: inline-block !important;\n",
       "  position: relative;\n",
       "}\n",
       "\n",
       "#sk-container-id-16 div.sk-text-repr-fallback {\n",
       "  display: none;\n",
       "}\n",
       "\n",
       "div.sk-parallel-item,\n",
       "div.sk-serial,\n",
       "div.sk-item {\n",
       "  /* draw centered vertical line to link estimators */\n",
       "  background-image: linear-gradient(var(--sklearn-color-text-on-default-background), var(--sklearn-color-text-on-default-background));\n",
       "  background-size: 2px 100%;\n",
       "  background-repeat: no-repeat;\n",
       "  background-position: center center;\n",
       "}\n",
       "\n",
       "/* Parallel-specific style estimator block */\n",
       "\n",
       "#sk-container-id-16 div.sk-parallel-item::after {\n",
       "  content: \"\";\n",
       "  width: 100%;\n",
       "  border-bottom: 2px solid var(--sklearn-color-text-on-default-background);\n",
       "  flex-grow: 1;\n",
       "}\n",
       "\n",
       "#sk-container-id-16 div.sk-parallel {\n",
       "  display: flex;\n",
       "  align-items: stretch;\n",
       "  justify-content: center;\n",
       "  background-color: var(--sklearn-color-background);\n",
       "  position: relative;\n",
       "}\n",
       "\n",
       "#sk-container-id-16 div.sk-parallel-item {\n",
       "  display: flex;\n",
       "  flex-direction: column;\n",
       "}\n",
       "\n",
       "#sk-container-id-16 div.sk-parallel-item:first-child::after {\n",
       "  align-self: flex-end;\n",
       "  width: 50%;\n",
       "}\n",
       "\n",
       "#sk-container-id-16 div.sk-parallel-item:last-child::after {\n",
       "  align-self: flex-start;\n",
       "  width: 50%;\n",
       "}\n",
       "\n",
       "#sk-container-id-16 div.sk-parallel-item:only-child::after {\n",
       "  width: 0;\n",
       "}\n",
       "\n",
       "/* Serial-specific style estimator block */\n",
       "\n",
       "#sk-container-id-16 div.sk-serial {\n",
       "  display: flex;\n",
       "  flex-direction: column;\n",
       "  align-items: center;\n",
       "  background-color: var(--sklearn-color-background);\n",
       "  padding-right: 1em;\n",
       "  padding-left: 1em;\n",
       "}\n",
       "\n",
       "\n",
       "/* Toggleable style: style used for estimator/Pipeline/ColumnTransformer box that is\n",
       "clickable and can be expanded/collapsed.\n",
       "- Pipeline and ColumnTransformer use this feature and define the default style\n",
       "- Estimators will overwrite some part of the style using the `sk-estimator` class\n",
       "*/\n",
       "\n",
       "/* Pipeline and ColumnTransformer style (default) */\n",
       "\n",
       "#sk-container-id-16 div.sk-toggleable {\n",
       "  /* Default theme specific background. It is overwritten whether we have a\n",
       "  specific estimator or a Pipeline/ColumnTransformer */\n",
       "  background-color: var(--sklearn-color-background);\n",
       "}\n",
       "\n",
       "/* Toggleable label */\n",
       "#sk-container-id-16 label.sk-toggleable__label {\n",
       "  cursor: pointer;\n",
       "  display: block;\n",
       "  width: 100%;\n",
       "  margin-bottom: 0;\n",
       "  padding: 0.5em;\n",
       "  box-sizing: border-box;\n",
       "  text-align: center;\n",
       "}\n",
       "\n",
       "#sk-container-id-16 label.sk-toggleable__label-arrow:before {\n",
       "  /* Arrow on the left of the label */\n",
       "  content: \"▸\";\n",
       "  float: left;\n",
       "  margin-right: 0.25em;\n",
       "  color: var(--sklearn-color-icon);\n",
       "}\n",
       "\n",
       "#sk-container-id-16 label.sk-toggleable__label-arrow:hover:before {\n",
       "  color: var(--sklearn-color-text);\n",
       "}\n",
       "\n",
       "/* Toggleable content - dropdown */\n",
       "\n",
       "#sk-container-id-16 div.sk-toggleable__content {\n",
       "  max-height: 0;\n",
       "  max-width: 0;\n",
       "  overflow: hidden;\n",
       "  text-align: left;\n",
       "  /* unfitted */\n",
       "  background-color: var(--sklearn-color-unfitted-level-0);\n",
       "}\n",
       "\n",
       "#sk-container-id-16 div.sk-toggleable__content.fitted {\n",
       "  /* fitted */\n",
       "  background-color: var(--sklearn-color-fitted-level-0);\n",
       "}\n",
       "\n",
       "#sk-container-id-16 div.sk-toggleable__content pre {\n",
       "  margin: 0.2em;\n",
       "  border-radius: 0.25em;\n",
       "  color: var(--sklearn-color-text);\n",
       "  /* unfitted */\n",
       "  background-color: var(--sklearn-color-unfitted-level-0);\n",
       "}\n",
       "\n",
       "#sk-container-id-16 div.sk-toggleable__content.fitted pre {\n",
       "  /* unfitted */\n",
       "  background-color: var(--sklearn-color-fitted-level-0);\n",
       "}\n",
       "\n",
       "#sk-container-id-16 input.sk-toggleable__control:checked~div.sk-toggleable__content {\n",
       "  /* Expand drop-down */\n",
       "  max-height: 200px;\n",
       "  max-width: 100%;\n",
       "  overflow: auto;\n",
       "}\n",
       "\n",
       "#sk-container-id-16 input.sk-toggleable__control:checked~label.sk-toggleable__label-arrow:before {\n",
       "  content: \"▾\";\n",
       "}\n",
       "\n",
       "/* Pipeline/ColumnTransformer-specific style */\n",
       "\n",
       "#sk-container-id-16 div.sk-label input.sk-toggleable__control:checked~label.sk-toggleable__label {\n",
       "  color: var(--sklearn-color-text);\n",
       "  background-color: var(--sklearn-color-unfitted-level-2);\n",
       "}\n",
       "\n",
       "#sk-container-id-16 div.sk-label.fitted input.sk-toggleable__control:checked~label.sk-toggleable__label {\n",
       "  background-color: var(--sklearn-color-fitted-level-2);\n",
       "}\n",
       "\n",
       "/* Estimator-specific style */\n",
       "\n",
       "/* Colorize estimator box */\n",
       "#sk-container-id-16 div.sk-estimator input.sk-toggleable__control:checked~label.sk-toggleable__label {\n",
       "  /* unfitted */\n",
       "  background-color: var(--sklearn-color-unfitted-level-2);\n",
       "}\n",
       "\n",
       "#sk-container-id-16 div.sk-estimator.fitted input.sk-toggleable__control:checked~label.sk-toggleable__label {\n",
       "  /* fitted */\n",
       "  background-color: var(--sklearn-color-fitted-level-2);\n",
       "}\n",
       "\n",
       "#sk-container-id-16 div.sk-label label.sk-toggleable__label,\n",
       "#sk-container-id-16 div.sk-label label {\n",
       "  /* The background is the default theme color */\n",
       "  color: var(--sklearn-color-text-on-default-background);\n",
       "}\n",
       "\n",
       "/* On hover, darken the color of the background */\n",
       "#sk-container-id-16 div.sk-label:hover label.sk-toggleable__label {\n",
       "  color: var(--sklearn-color-text);\n",
       "  background-color: var(--sklearn-color-unfitted-level-2);\n",
       "}\n",
       "\n",
       "/* Label box, darken color on hover, fitted */\n",
       "#sk-container-id-16 div.sk-label.fitted:hover label.sk-toggleable__label.fitted {\n",
       "  color: var(--sklearn-color-text);\n",
       "  background-color: var(--sklearn-color-fitted-level-2);\n",
       "}\n",
       "\n",
       "/* Estimator label */\n",
       "\n",
       "#sk-container-id-16 div.sk-label label {\n",
       "  font-family: monospace;\n",
       "  font-weight: bold;\n",
       "  display: inline-block;\n",
       "  line-height: 1.2em;\n",
       "}\n",
       "\n",
       "#sk-container-id-16 div.sk-label-container {\n",
       "  text-align: center;\n",
       "}\n",
       "\n",
       "/* Estimator-specific */\n",
       "#sk-container-id-16 div.sk-estimator {\n",
       "  font-family: monospace;\n",
       "  border: 1px dotted var(--sklearn-color-border-box);\n",
       "  border-radius: 0.25em;\n",
       "  box-sizing: border-box;\n",
       "  margin-bottom: 0.5em;\n",
       "  /* unfitted */\n",
       "  background-color: var(--sklearn-color-unfitted-level-0);\n",
       "}\n",
       "\n",
       "#sk-container-id-16 div.sk-estimator.fitted {\n",
       "  /* fitted */\n",
       "  background-color: var(--sklearn-color-fitted-level-0);\n",
       "}\n",
       "\n",
       "/* on hover */\n",
       "#sk-container-id-16 div.sk-estimator:hover {\n",
       "  /* unfitted */\n",
       "  background-color: var(--sklearn-color-unfitted-level-2);\n",
       "}\n",
       "\n",
       "#sk-container-id-16 div.sk-estimator.fitted:hover {\n",
       "  /* fitted */\n",
       "  background-color: var(--sklearn-color-fitted-level-2);\n",
       "}\n",
       "\n",
       "/* Specification for estimator info (e.g. \"i\" and \"?\") */\n",
       "\n",
       "/* Common style for \"i\" and \"?\" */\n",
       "\n",
       ".sk-estimator-doc-link,\n",
       "a:link.sk-estimator-doc-link,\n",
       "a:visited.sk-estimator-doc-link {\n",
       "  float: right;\n",
       "  font-size: smaller;\n",
       "  line-height: 1em;\n",
       "  font-family: monospace;\n",
       "  background-color: var(--sklearn-color-background);\n",
       "  border-radius: 1em;\n",
       "  height: 1em;\n",
       "  width: 1em;\n",
       "  text-decoration: none !important;\n",
       "  margin-left: 1ex;\n",
       "  /* unfitted */\n",
       "  border: var(--sklearn-color-unfitted-level-1) 1pt solid;\n",
       "  color: var(--sklearn-color-unfitted-level-1);\n",
       "}\n",
       "\n",
       ".sk-estimator-doc-link.fitted,\n",
       "a:link.sk-estimator-doc-link.fitted,\n",
       "a:visited.sk-estimator-doc-link.fitted {\n",
       "  /* fitted */\n",
       "  border: var(--sklearn-color-fitted-level-1) 1pt solid;\n",
       "  color: var(--sklearn-color-fitted-level-1);\n",
       "}\n",
       "\n",
       "/* On hover */\n",
       "div.sk-estimator:hover .sk-estimator-doc-link:hover,\n",
       ".sk-estimator-doc-link:hover,\n",
       "div.sk-label-container:hover .sk-estimator-doc-link:hover,\n",
       ".sk-estimator-doc-link:hover {\n",
       "  /* unfitted */\n",
       "  background-color: var(--sklearn-color-unfitted-level-3);\n",
       "  color: var(--sklearn-color-background);\n",
       "  text-decoration: none;\n",
       "}\n",
       "\n",
       "div.sk-estimator.fitted:hover .sk-estimator-doc-link.fitted:hover,\n",
       ".sk-estimator-doc-link.fitted:hover,\n",
       "div.sk-label-container:hover .sk-estimator-doc-link.fitted:hover,\n",
       ".sk-estimator-doc-link.fitted:hover {\n",
       "  /* fitted */\n",
       "  background-color: var(--sklearn-color-fitted-level-3);\n",
       "  color: var(--sklearn-color-background);\n",
       "  text-decoration: none;\n",
       "}\n",
       "\n",
       "/* Span, style for the box shown on hovering the info icon */\n",
       ".sk-estimator-doc-link span {\n",
       "  display: none;\n",
       "  z-index: 9999;\n",
       "  position: relative;\n",
       "  font-weight: normal;\n",
       "  right: .2ex;\n",
       "  padding: .5ex;\n",
       "  margin: .5ex;\n",
       "  width: min-content;\n",
       "  min-width: 20ex;\n",
       "  max-width: 50ex;\n",
       "  color: var(--sklearn-color-text);\n",
       "  box-shadow: 2pt 2pt 4pt #999;\n",
       "  /* unfitted */\n",
       "  background: var(--sklearn-color-unfitted-level-0);\n",
       "  border: .5pt solid var(--sklearn-color-unfitted-level-3);\n",
       "}\n",
       "\n",
       ".sk-estimator-doc-link.fitted span {\n",
       "  /* fitted */\n",
       "  background: var(--sklearn-color-fitted-level-0);\n",
       "  border: var(--sklearn-color-fitted-level-3);\n",
       "}\n",
       "\n",
       ".sk-estimator-doc-link:hover span {\n",
       "  display: block;\n",
       "}\n",
       "\n",
       "/* \"?\"-specific style due to the `<a>` HTML tag */\n",
       "\n",
       "#sk-container-id-16 a.estimator_doc_link {\n",
       "  float: right;\n",
       "  font-size: 1rem;\n",
       "  line-height: 1em;\n",
       "  font-family: monospace;\n",
       "  background-color: var(--sklearn-color-background);\n",
       "  border-radius: 1rem;\n",
       "  height: 1rem;\n",
       "  width: 1rem;\n",
       "  text-decoration: none;\n",
       "  /* unfitted */\n",
       "  color: var(--sklearn-color-unfitted-level-1);\n",
       "  border: var(--sklearn-color-unfitted-level-1) 1pt solid;\n",
       "}\n",
       "\n",
       "#sk-container-id-16 a.estimator_doc_link.fitted {\n",
       "  /* fitted */\n",
       "  border: var(--sklearn-color-fitted-level-1) 1pt solid;\n",
       "  color: var(--sklearn-color-fitted-level-1);\n",
       "}\n",
       "\n",
       "/* On hover */\n",
       "#sk-container-id-16 a.estimator_doc_link:hover {\n",
       "  /* unfitted */\n",
       "  background-color: var(--sklearn-color-unfitted-level-3);\n",
       "  color: var(--sklearn-color-background);\n",
       "  text-decoration: none;\n",
       "}\n",
       "\n",
       "#sk-container-id-16 a.estimator_doc_link.fitted:hover {\n",
       "  /* fitted */\n",
       "  background-color: var(--sklearn-color-fitted-level-3);\n",
       "}\n",
       "</style><div id=\"sk-container-id-16\" class=\"sk-top-container\"><div class=\"sk-text-repr-fallback\"><pre>GridSearchCV(cv=4,\n",
       "             estimator=SVC(cache_size=400, class_weight=&#x27;balanced&#x27;,\n",
       "                           max_iter=10000, random_state=42, tol=1e-05),\n",
       "             n_jobs=5,\n",
       "             param_grid={&#x27;C&#x27;: [0.1, 1, 10, 100, 200], &#x27;kernel&#x27;: [&#x27;rbf&#x27;]},\n",
       "             pre_dispatch=5, scoring=&#x27;roc_auc&#x27;, verbose=3)</pre><b>In a Jupyter environment, please rerun this cell to show the HTML representation or trust the notebook. <br />On GitHub, the HTML representation is unable to render, please try loading this page with nbviewer.org.</b></div><div class=\"sk-container\" hidden><div class=\"sk-item sk-dashed-wrapped\"><div class=\"sk-label-container\"><div class=\"sk-label fitted sk-toggleable\"><input class=\"sk-toggleable__control sk-hidden--visually\" id=\"sk-estimator-id-34\" type=\"checkbox\" ><label for=\"sk-estimator-id-34\" class=\"sk-toggleable__label fitted sk-toggleable__label-arrow fitted\">&nbsp;&nbsp;GridSearchCV<a class=\"sk-estimator-doc-link fitted\" rel=\"noreferrer\" target=\"_blank\" href=\"https://scikit-learn.org/1.4/modules/generated/sklearn.model_selection.GridSearchCV.html\">?<span>Documentation for GridSearchCV</span></a><span class=\"sk-estimator-doc-link fitted\">i<span>Fitted</span></span></label><div class=\"sk-toggleable__content fitted\"><pre>GridSearchCV(cv=4,\n",
       "             estimator=SVC(cache_size=400, class_weight=&#x27;balanced&#x27;,\n",
       "                           max_iter=10000, random_state=42, tol=1e-05),\n",
       "             n_jobs=5,\n",
       "             param_grid={&#x27;C&#x27;: [0.1, 1, 10, 100, 200], &#x27;kernel&#x27;: [&#x27;rbf&#x27;]},\n",
       "             pre_dispatch=5, scoring=&#x27;roc_auc&#x27;, verbose=3)</pre></div> </div></div><div class=\"sk-parallel\"><div class=\"sk-parallel-item\"><div class=\"sk-item\"><div class=\"sk-label-container\"><div class=\"sk-label fitted sk-toggleable\"><input class=\"sk-toggleable__control sk-hidden--visually\" id=\"sk-estimator-id-35\" type=\"checkbox\" ><label for=\"sk-estimator-id-35\" class=\"sk-toggleable__label fitted sk-toggleable__label-arrow fitted\">estimator: SVC</label><div class=\"sk-toggleable__content fitted\"><pre>SVC(cache_size=400, class_weight=&#x27;balanced&#x27;, max_iter=10000, random_state=42,\n",
       "    tol=1e-05)</pre></div> </div></div><div class=\"sk-serial\"><div class=\"sk-item\"><div class=\"sk-estimator fitted sk-toggleable\"><input class=\"sk-toggleable__control sk-hidden--visually\" id=\"sk-estimator-id-36\" type=\"checkbox\" ><label for=\"sk-estimator-id-36\" class=\"sk-toggleable__label fitted sk-toggleable__label-arrow fitted\">&nbsp;SVC<a class=\"sk-estimator-doc-link fitted\" rel=\"noreferrer\" target=\"_blank\" href=\"https://scikit-learn.org/1.4/modules/generated/sklearn.svm.SVC.html\">?<span>Documentation for SVC</span></a></label><div class=\"sk-toggleable__content fitted\"><pre>SVC(cache_size=400, class_weight=&#x27;balanced&#x27;, max_iter=10000, random_state=42,\n",
       "    tol=1e-05)</pre></div> </div></div></div></div></div></div></div></div></div>"
      ],
      "text/plain": [
       "GridSearchCV(cv=4,\n",
       "             estimator=SVC(cache_size=400, class_weight='balanced',\n",
       "                           max_iter=10000, random_state=42, tol=1e-05),\n",
       "             n_jobs=5,\n",
       "             param_grid={'C': [0.1, 1, 10, 100, 200], 'kernel': ['rbf']},\n",
       "             pre_dispatch=5, scoring='roc_auc', verbose=3)"
      ]
     },
     "execution_count": 448,
     "metadata": {},
     "output_type": "execute_result"
    },
    {
     "name": "stdout",
     "output_type": "stream",
     "text": [
      "parameters   :\n",
      "\n",
      "best_estimator_  :   SVC(C=0.1, cache_size=400, class_weight='balanced', max_iter=10000,\n",
      "    random_state=42, tol=1e-05)\n"
     ]
    }
   ],
   "source": [
    "svm_estimators\n",
    "print(f\"parameters   :\")\n",
    "# pp.pprint(svm_estimators.get_params())\n",
    "print()\n",
    "# print(f\"best_estimator_  :   {svm_estimators.best_estimator_}\")\n",
    "# print(f\"best_index_  :       {svm_estimators.best_index_}\")\n",
    "# print(f\"best_params_ :       {svm_estimators.best_params_}\")\n",
    "# print(f\"best_score_  :       {svm_estimators.best_score_}\")\n",
    "# print(f\"classes_     :       {svm_estimators.classes_}\")\n",
    "# print(f\"cv           :       {svm_estimators.cv}\")\n",
    "# print()\n",
    "# print(f\"cv_results_  :       {svm_estimators.cv_results_}\")\n",
    "# print()\n",
    "# print(f\"error_score  :       {svm_estimators.error_score}\")\n",
    "# print(f\"estimator    :       {svm_estimators.estimator}\")"
   ]
  },
  {
   "cell_type": "markdown",
   "id": "0cdc040c-b20e-4bbe-9d43-d6722320769e",
   "metadata": {
    "jp-MarkdownHeadingCollapsed": true
   },
   "source": [
    "## Results"
   ]
  },
  {
   "cell_type": "code",
   "execution_count": 124,
   "id": "80d8e4ca-5e02-44a3-9c4e-1c285f75f5cb",
   "metadata": {
    "editable": true,
    "execution": {
     "iopub.execute_input": "2024-08-07T16:32:12.704403Z",
     "iopub.status.busy": "2024-08-07T16:32:12.703907Z",
     "iopub.status.idle": "2024-08-07T16:32:12.751138Z",
     "shell.execute_reply": "2024-08-07T16:32:12.750456Z",
     "shell.execute_reply.started": "2024-08-07T16:32:12.704362Z"
    },
    "scrolled": true,
    "slideshow": {
     "slide_type": ""
    },
    "tags": []
   },
   "outputs": [
    {
     "data": {
      "text/html": [
       "<style>#sk-container-id-18 {\n",
       "  /* Definition of color scheme common for light and dark mode */\n",
       "  --sklearn-color-text: black;\n",
       "  --sklearn-color-line: gray;\n",
       "  /* Definition of color scheme for unfitted estimators */\n",
       "  --sklearn-color-unfitted-level-0: #fff5e6;\n",
       "  --sklearn-color-unfitted-level-1: #f6e4d2;\n",
       "  --sklearn-color-unfitted-level-2: #ffe0b3;\n",
       "  --sklearn-color-unfitted-level-3: chocolate;\n",
       "  /* Definition of color scheme for fitted estimators */\n",
       "  --sklearn-color-fitted-level-0: #f0f8ff;\n",
       "  --sklearn-color-fitted-level-1: #d4ebff;\n",
       "  --sklearn-color-fitted-level-2: #b3dbfd;\n",
       "  --sklearn-color-fitted-level-3: cornflowerblue;\n",
       "\n",
       "  /* Specific color for light theme */\n",
       "  --sklearn-color-text-on-default-background: var(--sg-text-color, var(--theme-code-foreground, var(--jp-content-font-color1, black)));\n",
       "  --sklearn-color-background: var(--sg-background-color, var(--theme-background, var(--jp-layout-color0, white)));\n",
       "  --sklearn-color-border-box: var(--sg-text-color, var(--theme-code-foreground, var(--jp-content-font-color1, black)));\n",
       "  --sklearn-color-icon: #696969;\n",
       "\n",
       "  @media (prefers-color-scheme: dark) {\n",
       "    /* Redefinition of color scheme for dark theme */\n",
       "    --sklearn-color-text-on-default-background: var(--sg-text-color, var(--theme-code-foreground, var(--jp-content-font-color1, white)));\n",
       "    --sklearn-color-background: var(--sg-background-color, var(--theme-background, var(--jp-layout-color0, #111)));\n",
       "    --sklearn-color-border-box: var(--sg-text-color, var(--theme-code-foreground, var(--jp-content-font-color1, white)));\n",
       "    --sklearn-color-icon: #878787;\n",
       "  }\n",
       "}\n",
       "\n",
       "#sk-container-id-18 {\n",
       "  color: var(--sklearn-color-text);\n",
       "}\n",
       "\n",
       "#sk-container-id-18 pre {\n",
       "  padding: 0;\n",
       "}\n",
       "\n",
       "#sk-container-id-18 input.sk-hidden--visually {\n",
       "  border: 0;\n",
       "  clip: rect(1px 1px 1px 1px);\n",
       "  clip: rect(1px, 1px, 1px, 1px);\n",
       "  height: 1px;\n",
       "  margin: -1px;\n",
       "  overflow: hidden;\n",
       "  padding: 0;\n",
       "  position: absolute;\n",
       "  width: 1px;\n",
       "}\n",
       "\n",
       "#sk-container-id-18 div.sk-dashed-wrapped {\n",
       "  border: 1px dashed var(--sklearn-color-line);\n",
       "  margin: 0 0.4em 0.5em 0.4em;\n",
       "  box-sizing: border-box;\n",
       "  padding-bottom: 0.4em;\n",
       "  background-color: var(--sklearn-color-background);\n",
       "}\n",
       "\n",
       "#sk-container-id-18 div.sk-container {\n",
       "  /* jupyter's `normalize.less` sets `[hidden] { display: none; }`\n",
       "     but bootstrap.min.css set `[hidden] { display: none !important; }`\n",
       "     so we also need the `!important` here to be able to override the\n",
       "     default hidden behavior on the sphinx rendered scikit-learn.org.\n",
       "     See: https://github.com/scikit-learn/scikit-learn/issues/21755 */\n",
       "  display: inline-block !important;\n",
       "  position: relative;\n",
       "}\n",
       "\n",
       "#sk-container-id-18 div.sk-text-repr-fallback {\n",
       "  display: none;\n",
       "}\n",
       "\n",
       "div.sk-parallel-item,\n",
       "div.sk-serial,\n",
       "div.sk-item {\n",
       "  /* draw centered vertical line to link estimators */\n",
       "  background-image: linear-gradient(var(--sklearn-color-text-on-default-background), var(--sklearn-color-text-on-default-background));\n",
       "  background-size: 2px 100%;\n",
       "  background-repeat: no-repeat;\n",
       "  background-position: center center;\n",
       "}\n",
       "\n",
       "/* Parallel-specific style estimator block */\n",
       "\n",
       "#sk-container-id-18 div.sk-parallel-item::after {\n",
       "  content: \"\";\n",
       "  width: 100%;\n",
       "  border-bottom: 2px solid var(--sklearn-color-text-on-default-background);\n",
       "  flex-grow: 1;\n",
       "}\n",
       "\n",
       "#sk-container-id-18 div.sk-parallel {\n",
       "  display: flex;\n",
       "  align-items: stretch;\n",
       "  justify-content: center;\n",
       "  background-color: var(--sklearn-color-background);\n",
       "  position: relative;\n",
       "}\n",
       "\n",
       "#sk-container-id-18 div.sk-parallel-item {\n",
       "  display: flex;\n",
       "  flex-direction: column;\n",
       "}\n",
       "\n",
       "#sk-container-id-18 div.sk-parallel-item:first-child::after {\n",
       "  align-self: flex-end;\n",
       "  width: 50%;\n",
       "}\n",
       "\n",
       "#sk-container-id-18 div.sk-parallel-item:last-child::after {\n",
       "  align-self: flex-start;\n",
       "  width: 50%;\n",
       "}\n",
       "\n",
       "#sk-container-id-18 div.sk-parallel-item:only-child::after {\n",
       "  width: 0;\n",
       "}\n",
       "\n",
       "/* Serial-specific style estimator block */\n",
       "\n",
       "#sk-container-id-18 div.sk-serial {\n",
       "  display: flex;\n",
       "  flex-direction: column;\n",
       "  align-items: center;\n",
       "  background-color: var(--sklearn-color-background);\n",
       "  padding-right: 1em;\n",
       "  padding-left: 1em;\n",
       "}\n",
       "\n",
       "\n",
       "/* Toggleable style: style used for estimator/Pipeline/ColumnTransformer box that is\n",
       "clickable and can be expanded/collapsed.\n",
       "- Pipeline and ColumnTransformer use this feature and define the default style\n",
       "- Estimators will overwrite some part of the style using the `sk-estimator` class\n",
       "*/\n",
       "\n",
       "/* Pipeline and ColumnTransformer style (default) */\n",
       "\n",
       "#sk-container-id-18 div.sk-toggleable {\n",
       "  /* Default theme specific background. It is overwritten whether we have a\n",
       "  specific estimator or a Pipeline/ColumnTransformer */\n",
       "  background-color: var(--sklearn-color-background);\n",
       "}\n",
       "\n",
       "/* Toggleable label */\n",
       "#sk-container-id-18 label.sk-toggleable__label {\n",
       "  cursor: pointer;\n",
       "  display: block;\n",
       "  width: 100%;\n",
       "  margin-bottom: 0;\n",
       "  padding: 0.5em;\n",
       "  box-sizing: border-box;\n",
       "  text-align: center;\n",
       "}\n",
       "\n",
       "#sk-container-id-18 label.sk-toggleable__label-arrow:before {\n",
       "  /* Arrow on the left of the label */\n",
       "  content: \"▸\";\n",
       "  float: left;\n",
       "  margin-right: 0.25em;\n",
       "  color: var(--sklearn-color-icon);\n",
       "}\n",
       "\n",
       "#sk-container-id-18 label.sk-toggleable__label-arrow:hover:before {\n",
       "  color: var(--sklearn-color-text);\n",
       "}\n",
       "\n",
       "/* Toggleable content - dropdown */\n",
       "\n",
       "#sk-container-id-18 div.sk-toggleable__content {\n",
       "  max-height: 0;\n",
       "  max-width: 0;\n",
       "  overflow: hidden;\n",
       "  text-align: left;\n",
       "  /* unfitted */\n",
       "  background-color: var(--sklearn-color-unfitted-level-0);\n",
       "}\n",
       "\n",
       "#sk-container-id-18 div.sk-toggleable__content.fitted {\n",
       "  /* fitted */\n",
       "  background-color: var(--sklearn-color-fitted-level-0);\n",
       "}\n",
       "\n",
       "#sk-container-id-18 div.sk-toggleable__content pre {\n",
       "  margin: 0.2em;\n",
       "  border-radius: 0.25em;\n",
       "  color: var(--sklearn-color-text);\n",
       "  /* unfitted */\n",
       "  background-color: var(--sklearn-color-unfitted-level-0);\n",
       "}\n",
       "\n",
       "#sk-container-id-18 div.sk-toggleable__content.fitted pre {\n",
       "  /* unfitted */\n",
       "  background-color: var(--sklearn-color-fitted-level-0);\n",
       "}\n",
       "\n",
       "#sk-container-id-18 input.sk-toggleable__control:checked~div.sk-toggleable__content {\n",
       "  /* Expand drop-down */\n",
       "  max-height: 200px;\n",
       "  max-width: 100%;\n",
       "  overflow: auto;\n",
       "}\n",
       "\n",
       "#sk-container-id-18 input.sk-toggleable__control:checked~label.sk-toggleable__label-arrow:before {\n",
       "  content: \"▾\";\n",
       "}\n",
       "\n",
       "/* Pipeline/ColumnTransformer-specific style */\n",
       "\n",
       "#sk-container-id-18 div.sk-label input.sk-toggleable__control:checked~label.sk-toggleable__label {\n",
       "  color: var(--sklearn-color-text);\n",
       "  background-color: var(--sklearn-color-unfitted-level-2);\n",
       "}\n",
       "\n",
       "#sk-container-id-18 div.sk-label.fitted input.sk-toggleable__control:checked~label.sk-toggleable__label {\n",
       "  background-color: var(--sklearn-color-fitted-level-2);\n",
       "}\n",
       "\n",
       "/* Estimator-specific style */\n",
       "\n",
       "/* Colorize estimator box */\n",
       "#sk-container-id-18 div.sk-estimator input.sk-toggleable__control:checked~label.sk-toggleable__label {\n",
       "  /* unfitted */\n",
       "  background-color: var(--sklearn-color-unfitted-level-2);\n",
       "}\n",
       "\n",
       "#sk-container-id-18 div.sk-estimator.fitted input.sk-toggleable__control:checked~label.sk-toggleable__label {\n",
       "  /* fitted */\n",
       "  background-color: var(--sklearn-color-fitted-level-2);\n",
       "}\n",
       "\n",
       "#sk-container-id-18 div.sk-label label.sk-toggleable__label,\n",
       "#sk-container-id-18 div.sk-label label {\n",
       "  /* The background is the default theme color */\n",
       "  color: var(--sklearn-color-text-on-default-background);\n",
       "}\n",
       "\n",
       "/* On hover, darken the color of the background */\n",
       "#sk-container-id-18 div.sk-label:hover label.sk-toggleable__label {\n",
       "  color: var(--sklearn-color-text);\n",
       "  background-color: var(--sklearn-color-unfitted-level-2);\n",
       "}\n",
       "\n",
       "/* Label box, darken color on hover, fitted */\n",
       "#sk-container-id-18 div.sk-label.fitted:hover label.sk-toggleable__label.fitted {\n",
       "  color: var(--sklearn-color-text);\n",
       "  background-color: var(--sklearn-color-fitted-level-2);\n",
       "}\n",
       "\n",
       "/* Estimator label */\n",
       "\n",
       "#sk-container-id-18 div.sk-label label {\n",
       "  font-family: monospace;\n",
       "  font-weight: bold;\n",
       "  display: inline-block;\n",
       "  line-height: 1.2em;\n",
       "}\n",
       "\n",
       "#sk-container-id-18 div.sk-label-container {\n",
       "  text-align: center;\n",
       "}\n",
       "\n",
       "/* Estimator-specific */\n",
       "#sk-container-id-18 div.sk-estimator {\n",
       "  font-family: monospace;\n",
       "  border: 1px dotted var(--sklearn-color-border-box);\n",
       "  border-radius: 0.25em;\n",
       "  box-sizing: border-box;\n",
       "  margin-bottom: 0.5em;\n",
       "  /* unfitted */\n",
       "  background-color: var(--sklearn-color-unfitted-level-0);\n",
       "}\n",
       "\n",
       "#sk-container-id-18 div.sk-estimator.fitted {\n",
       "  /* fitted */\n",
       "  background-color: var(--sklearn-color-fitted-level-0);\n",
       "}\n",
       "\n",
       "/* on hover */\n",
       "#sk-container-id-18 div.sk-estimator:hover {\n",
       "  /* unfitted */\n",
       "  background-color: var(--sklearn-color-unfitted-level-2);\n",
       "}\n",
       "\n",
       "#sk-container-id-18 div.sk-estimator.fitted:hover {\n",
       "  /* fitted */\n",
       "  background-color: var(--sklearn-color-fitted-level-2);\n",
       "}\n",
       "\n",
       "/* Specification for estimator info (e.g. \"i\" and \"?\") */\n",
       "\n",
       "/* Common style for \"i\" and \"?\" */\n",
       "\n",
       ".sk-estimator-doc-link,\n",
       "a:link.sk-estimator-doc-link,\n",
       "a:visited.sk-estimator-doc-link {\n",
       "  float: right;\n",
       "  font-size: smaller;\n",
       "  line-height: 1em;\n",
       "  font-family: monospace;\n",
       "  background-color: var(--sklearn-color-background);\n",
       "  border-radius: 1em;\n",
       "  height: 1em;\n",
       "  width: 1em;\n",
       "  text-decoration: none !important;\n",
       "  margin-left: 1ex;\n",
       "  /* unfitted */\n",
       "  border: var(--sklearn-color-unfitted-level-1) 1pt solid;\n",
       "  color: var(--sklearn-color-unfitted-level-1);\n",
       "}\n",
       "\n",
       ".sk-estimator-doc-link.fitted,\n",
       "a:link.sk-estimator-doc-link.fitted,\n",
       "a:visited.sk-estimator-doc-link.fitted {\n",
       "  /* fitted */\n",
       "  border: var(--sklearn-color-fitted-level-1) 1pt solid;\n",
       "  color: var(--sklearn-color-fitted-level-1);\n",
       "}\n",
       "\n",
       "/* On hover */\n",
       "div.sk-estimator:hover .sk-estimator-doc-link:hover,\n",
       ".sk-estimator-doc-link:hover,\n",
       "div.sk-label-container:hover .sk-estimator-doc-link:hover,\n",
       ".sk-estimator-doc-link:hover {\n",
       "  /* unfitted */\n",
       "  background-color: var(--sklearn-color-unfitted-level-3);\n",
       "  color: var(--sklearn-color-background);\n",
       "  text-decoration: none;\n",
       "}\n",
       "\n",
       "div.sk-estimator.fitted:hover .sk-estimator-doc-link.fitted:hover,\n",
       ".sk-estimator-doc-link.fitted:hover,\n",
       "div.sk-label-container:hover .sk-estimator-doc-link.fitted:hover,\n",
       ".sk-estimator-doc-link.fitted:hover {\n",
       "  /* fitted */\n",
       "  background-color: var(--sklearn-color-fitted-level-3);\n",
       "  color: var(--sklearn-color-background);\n",
       "  text-decoration: none;\n",
       "}\n",
       "\n",
       "/* Span, style for the box shown on hovering the info icon */\n",
       ".sk-estimator-doc-link span {\n",
       "  display: none;\n",
       "  z-index: 9999;\n",
       "  position: relative;\n",
       "  font-weight: normal;\n",
       "  right: .2ex;\n",
       "  padding: .5ex;\n",
       "  margin: .5ex;\n",
       "  width: min-content;\n",
       "  min-width: 20ex;\n",
       "  max-width: 50ex;\n",
       "  color: var(--sklearn-color-text);\n",
       "  box-shadow: 2pt 2pt 4pt #999;\n",
       "  /* unfitted */\n",
       "  background: var(--sklearn-color-unfitted-level-0);\n",
       "  border: .5pt solid var(--sklearn-color-unfitted-level-3);\n",
       "}\n",
       "\n",
       ".sk-estimator-doc-link.fitted span {\n",
       "  /* fitted */\n",
       "  background: var(--sklearn-color-fitted-level-0);\n",
       "  border: var(--sklearn-color-fitted-level-3);\n",
       "}\n",
       "\n",
       ".sk-estimator-doc-link:hover span {\n",
       "  display: block;\n",
       "}\n",
       "\n",
       "/* \"?\"-specific style due to the `<a>` HTML tag */\n",
       "\n",
       "#sk-container-id-18 a.estimator_doc_link {\n",
       "  float: right;\n",
       "  font-size: 1rem;\n",
       "  line-height: 1em;\n",
       "  font-family: monospace;\n",
       "  background-color: var(--sklearn-color-background);\n",
       "  border-radius: 1rem;\n",
       "  height: 1rem;\n",
       "  width: 1rem;\n",
       "  text-decoration: none;\n",
       "  /* unfitted */\n",
       "  color: var(--sklearn-color-unfitted-level-1);\n",
       "  border: var(--sklearn-color-unfitted-level-1) 1pt solid;\n",
       "}\n",
       "\n",
       "#sk-container-id-18 a.estimator_doc_link.fitted {\n",
       "  /* fitted */\n",
       "  border: var(--sklearn-color-fitted-level-1) 1pt solid;\n",
       "  color: var(--sklearn-color-fitted-level-1);\n",
       "}\n",
       "\n",
       "/* On hover */\n",
       "#sk-container-id-18 a.estimator_doc_link:hover {\n",
       "  /* unfitted */\n",
       "  background-color: var(--sklearn-color-unfitted-level-3);\n",
       "  color: var(--sklearn-color-background);\n",
       "  text-decoration: none;\n",
       "}\n",
       "\n",
       "#sk-container-id-18 a.estimator_doc_link.fitted:hover {\n",
       "  /* fitted */\n",
       "  background-color: var(--sklearn-color-fitted-level-3);\n",
       "}\n",
       "</style><div id=\"sk-container-id-18\" class=\"sk-top-container\"><div class=\"sk-text-repr-fallback\"><pre>XGBClassifier(base_score=None, booster=None, callbacks=None,\n",
       "              colsample_bylevel=None, colsample_bynode=None,\n",
       "              colsample_bytree=None, device=None, early_stopping_rounds=None,\n",
       "              enable_categorical=False, eval_metric=None, feature_types=None,\n",
       "              gamma=None, grow_policy=None, importance_type=None,\n",
       "              interaction_constraints=None, learning_rate=None, max_bin=None,\n",
       "              max_cat_threshold=None, max_cat_to_onehot=None,\n",
       "              max_delta_step=None, max_depth=None, max_leaves=None,\n",
       "              min_child_weight=None, missing=nan, monotone_constraints=None,\n",
       "              multi_strategy=None, n_estimators=None, n_jobs=None,\n",
       "              num_parallel_tree=None, random_state=None, ...)</pre><b>In a Jupyter environment, please rerun this cell to show the HTML representation or trust the notebook. <br />On GitHub, the HTML representation is unable to render, please try loading this page with nbviewer.org.</b></div><div class=\"sk-container\" hidden><div class=\"sk-item\"><div class=\"sk-estimator  sk-toggleable\"><input class=\"sk-toggleable__control sk-hidden--visually\" id=\"sk-estimator-id-30\" type=\"checkbox\" checked><label for=\"sk-estimator-id-30\" class=\"sk-toggleable__label  sk-toggleable__label-arrow \">&nbsp;XGBClassifier<span class=\"sk-estimator-doc-link \">i<span>Not fitted</span></span></label><div class=\"sk-toggleable__content \"><pre>XGBClassifier(base_score=None, booster=None, callbacks=None,\n",
       "              colsample_bylevel=None, colsample_bynode=None,\n",
       "              colsample_bytree=None, device=None, early_stopping_rounds=None,\n",
       "              enable_categorical=False, eval_metric=None, feature_types=None,\n",
       "              gamma=None, grow_policy=None, importance_type=None,\n",
       "              interaction_constraints=None, learning_rate=None, max_bin=None,\n",
       "              max_cat_threshold=None, max_cat_to_onehot=None,\n",
       "              max_delta_step=None, max_depth=None, max_leaves=None,\n",
       "              min_child_weight=None, missing=nan, monotone_constraints=None,\n",
       "              multi_strategy=None, n_estimators=None, n_jobs=None,\n",
       "              num_parallel_tree=None, random_state=None, ...)</pre></div> </div></div></div></div>"
      ],
      "text/plain": [
       "XGBClassifier(base_score=None, booster=None, callbacks=None,\n",
       "              colsample_bylevel=None, colsample_bynode=None,\n",
       "              colsample_bytree=None, device=None, early_stopping_rounds=None,\n",
       "              enable_categorical=False, eval_metric=None, feature_types=None,\n",
       "              gamma=None, grow_policy=None, importance_type=None,\n",
       "              interaction_constraints=None, learning_rate=None, max_bin=None,\n",
       "              max_cat_threshold=None, max_cat_to_onehot=None,\n",
       "              max_delta_step=None, max_depth=None, max_leaves=None,\n",
       "              min_child_weight=None, missing=nan, monotone_constraints=None,\n",
       "              multi_strategy=None, n_estimators=None, n_jobs=None,\n",
       "              num_parallel_tree=None, random_state=None, ...)"
      ]
     },
     "execution_count": 124,
     "metadata": {},
     "output_type": "execute_result"
    },
    {
     "data": {
      "text/html": [
       "<style>#sk-container-id-19 {\n",
       "  /* Definition of color scheme common for light and dark mode */\n",
       "  --sklearn-color-text: black;\n",
       "  --sklearn-color-line: gray;\n",
       "  /* Definition of color scheme for unfitted estimators */\n",
       "  --sklearn-color-unfitted-level-0: #fff5e6;\n",
       "  --sklearn-color-unfitted-level-1: #f6e4d2;\n",
       "  --sklearn-color-unfitted-level-2: #ffe0b3;\n",
       "  --sklearn-color-unfitted-level-3: chocolate;\n",
       "  /* Definition of color scheme for fitted estimators */\n",
       "  --sklearn-color-fitted-level-0: #f0f8ff;\n",
       "  --sklearn-color-fitted-level-1: #d4ebff;\n",
       "  --sklearn-color-fitted-level-2: #b3dbfd;\n",
       "  --sklearn-color-fitted-level-3: cornflowerblue;\n",
       "\n",
       "  /* Specific color for light theme */\n",
       "  --sklearn-color-text-on-default-background: var(--sg-text-color, var(--theme-code-foreground, var(--jp-content-font-color1, black)));\n",
       "  --sklearn-color-background: var(--sg-background-color, var(--theme-background, var(--jp-layout-color0, white)));\n",
       "  --sklearn-color-border-box: var(--sg-text-color, var(--theme-code-foreground, var(--jp-content-font-color1, black)));\n",
       "  --sklearn-color-icon: #696969;\n",
       "\n",
       "  @media (prefers-color-scheme: dark) {\n",
       "    /* Redefinition of color scheme for dark theme */\n",
       "    --sklearn-color-text-on-default-background: var(--sg-text-color, var(--theme-code-foreground, var(--jp-content-font-color1, white)));\n",
       "    --sklearn-color-background: var(--sg-background-color, var(--theme-background, var(--jp-layout-color0, #111)));\n",
       "    --sklearn-color-border-box: var(--sg-text-color, var(--theme-code-foreground, var(--jp-content-font-color1, white)));\n",
       "    --sklearn-color-icon: #878787;\n",
       "  }\n",
       "}\n",
       "\n",
       "#sk-container-id-19 {\n",
       "  color: var(--sklearn-color-text);\n",
       "}\n",
       "\n",
       "#sk-container-id-19 pre {\n",
       "  padding: 0;\n",
       "}\n",
       "\n",
       "#sk-container-id-19 input.sk-hidden--visually {\n",
       "  border: 0;\n",
       "  clip: rect(1px 1px 1px 1px);\n",
       "  clip: rect(1px, 1px, 1px, 1px);\n",
       "  height: 1px;\n",
       "  margin: -1px;\n",
       "  overflow: hidden;\n",
       "  padding: 0;\n",
       "  position: absolute;\n",
       "  width: 1px;\n",
       "}\n",
       "\n",
       "#sk-container-id-19 div.sk-dashed-wrapped {\n",
       "  border: 1px dashed var(--sklearn-color-line);\n",
       "  margin: 0 0.4em 0.5em 0.4em;\n",
       "  box-sizing: border-box;\n",
       "  padding-bottom: 0.4em;\n",
       "  background-color: var(--sklearn-color-background);\n",
       "}\n",
       "\n",
       "#sk-container-id-19 div.sk-container {\n",
       "  /* jupyter's `normalize.less` sets `[hidden] { display: none; }`\n",
       "     but bootstrap.min.css set `[hidden] { display: none !important; }`\n",
       "     so we also need the `!important` here to be able to override the\n",
       "     default hidden behavior on the sphinx rendered scikit-learn.org.\n",
       "     See: https://github.com/scikit-learn/scikit-learn/issues/21755 */\n",
       "  display: inline-block !important;\n",
       "  position: relative;\n",
       "}\n",
       "\n",
       "#sk-container-id-19 div.sk-text-repr-fallback {\n",
       "  display: none;\n",
       "}\n",
       "\n",
       "div.sk-parallel-item,\n",
       "div.sk-serial,\n",
       "div.sk-item {\n",
       "  /* draw centered vertical line to link estimators */\n",
       "  background-image: linear-gradient(var(--sklearn-color-text-on-default-background), var(--sklearn-color-text-on-default-background));\n",
       "  background-size: 2px 100%;\n",
       "  background-repeat: no-repeat;\n",
       "  background-position: center center;\n",
       "}\n",
       "\n",
       "/* Parallel-specific style estimator block */\n",
       "\n",
       "#sk-container-id-19 div.sk-parallel-item::after {\n",
       "  content: \"\";\n",
       "  width: 100%;\n",
       "  border-bottom: 2px solid var(--sklearn-color-text-on-default-background);\n",
       "  flex-grow: 1;\n",
       "}\n",
       "\n",
       "#sk-container-id-19 div.sk-parallel {\n",
       "  display: flex;\n",
       "  align-items: stretch;\n",
       "  justify-content: center;\n",
       "  background-color: var(--sklearn-color-background);\n",
       "  position: relative;\n",
       "}\n",
       "\n",
       "#sk-container-id-19 div.sk-parallel-item {\n",
       "  display: flex;\n",
       "  flex-direction: column;\n",
       "}\n",
       "\n",
       "#sk-container-id-19 div.sk-parallel-item:first-child::after {\n",
       "  align-self: flex-end;\n",
       "  width: 50%;\n",
       "}\n",
       "\n",
       "#sk-container-id-19 div.sk-parallel-item:last-child::after {\n",
       "  align-self: flex-start;\n",
       "  width: 50%;\n",
       "}\n",
       "\n",
       "#sk-container-id-19 div.sk-parallel-item:only-child::after {\n",
       "  width: 0;\n",
       "}\n",
       "\n",
       "/* Serial-specific style estimator block */\n",
       "\n",
       "#sk-container-id-19 div.sk-serial {\n",
       "  display: flex;\n",
       "  flex-direction: column;\n",
       "  align-items: center;\n",
       "  background-color: var(--sklearn-color-background);\n",
       "  padding-right: 1em;\n",
       "  padding-left: 1em;\n",
       "}\n",
       "\n",
       "\n",
       "/* Toggleable style: style used for estimator/Pipeline/ColumnTransformer box that is\n",
       "clickable and can be expanded/collapsed.\n",
       "- Pipeline and ColumnTransformer use this feature and define the default style\n",
       "- Estimators will overwrite some part of the style using the `sk-estimator` class\n",
       "*/\n",
       "\n",
       "/* Pipeline and ColumnTransformer style (default) */\n",
       "\n",
       "#sk-container-id-19 div.sk-toggleable {\n",
       "  /* Default theme specific background. It is overwritten whether we have a\n",
       "  specific estimator or a Pipeline/ColumnTransformer */\n",
       "  background-color: var(--sklearn-color-background);\n",
       "}\n",
       "\n",
       "/* Toggleable label */\n",
       "#sk-container-id-19 label.sk-toggleable__label {\n",
       "  cursor: pointer;\n",
       "  display: block;\n",
       "  width: 100%;\n",
       "  margin-bottom: 0;\n",
       "  padding: 0.5em;\n",
       "  box-sizing: border-box;\n",
       "  text-align: center;\n",
       "}\n",
       "\n",
       "#sk-container-id-19 label.sk-toggleable__label-arrow:before {\n",
       "  /* Arrow on the left of the label */\n",
       "  content: \"▸\";\n",
       "  float: left;\n",
       "  margin-right: 0.25em;\n",
       "  color: var(--sklearn-color-icon);\n",
       "}\n",
       "\n",
       "#sk-container-id-19 label.sk-toggleable__label-arrow:hover:before {\n",
       "  color: var(--sklearn-color-text);\n",
       "}\n",
       "\n",
       "/* Toggleable content - dropdown */\n",
       "\n",
       "#sk-container-id-19 div.sk-toggleable__content {\n",
       "  max-height: 0;\n",
       "  max-width: 0;\n",
       "  overflow: hidden;\n",
       "  text-align: left;\n",
       "  /* unfitted */\n",
       "  background-color: var(--sklearn-color-unfitted-level-0);\n",
       "}\n",
       "\n",
       "#sk-container-id-19 div.sk-toggleable__content.fitted {\n",
       "  /* fitted */\n",
       "  background-color: var(--sklearn-color-fitted-level-0);\n",
       "}\n",
       "\n",
       "#sk-container-id-19 div.sk-toggleable__content pre {\n",
       "  margin: 0.2em;\n",
       "  border-radius: 0.25em;\n",
       "  color: var(--sklearn-color-text);\n",
       "  /* unfitted */\n",
       "  background-color: var(--sklearn-color-unfitted-level-0);\n",
       "}\n",
       "\n",
       "#sk-container-id-19 div.sk-toggleable__content.fitted pre {\n",
       "  /* unfitted */\n",
       "  background-color: var(--sklearn-color-fitted-level-0);\n",
       "}\n",
       "\n",
       "#sk-container-id-19 input.sk-toggleable__control:checked~div.sk-toggleable__content {\n",
       "  /* Expand drop-down */\n",
       "  max-height: 200px;\n",
       "  max-width: 100%;\n",
       "  overflow: auto;\n",
       "}\n",
       "\n",
       "#sk-container-id-19 input.sk-toggleable__control:checked~label.sk-toggleable__label-arrow:before {\n",
       "  content: \"▾\";\n",
       "}\n",
       "\n",
       "/* Pipeline/ColumnTransformer-specific style */\n",
       "\n",
       "#sk-container-id-19 div.sk-label input.sk-toggleable__control:checked~label.sk-toggleable__label {\n",
       "  color: var(--sklearn-color-text);\n",
       "  background-color: var(--sklearn-color-unfitted-level-2);\n",
       "}\n",
       "\n",
       "#sk-container-id-19 div.sk-label.fitted input.sk-toggleable__control:checked~label.sk-toggleable__label {\n",
       "  background-color: var(--sklearn-color-fitted-level-2);\n",
       "}\n",
       "\n",
       "/* Estimator-specific style */\n",
       "\n",
       "/* Colorize estimator box */\n",
       "#sk-container-id-19 div.sk-estimator input.sk-toggleable__control:checked~label.sk-toggleable__label {\n",
       "  /* unfitted */\n",
       "  background-color: var(--sklearn-color-unfitted-level-2);\n",
       "}\n",
       "\n",
       "#sk-container-id-19 div.sk-estimator.fitted input.sk-toggleable__control:checked~label.sk-toggleable__label {\n",
       "  /* fitted */\n",
       "  background-color: var(--sklearn-color-fitted-level-2);\n",
       "}\n",
       "\n",
       "#sk-container-id-19 div.sk-label label.sk-toggleable__label,\n",
       "#sk-container-id-19 div.sk-label label {\n",
       "  /* The background is the default theme color */\n",
       "  color: var(--sklearn-color-text-on-default-background);\n",
       "}\n",
       "\n",
       "/* On hover, darken the color of the background */\n",
       "#sk-container-id-19 div.sk-label:hover label.sk-toggleable__label {\n",
       "  color: var(--sklearn-color-text);\n",
       "  background-color: var(--sklearn-color-unfitted-level-2);\n",
       "}\n",
       "\n",
       "/* Label box, darken color on hover, fitted */\n",
       "#sk-container-id-19 div.sk-label.fitted:hover label.sk-toggleable__label.fitted {\n",
       "  color: var(--sklearn-color-text);\n",
       "  background-color: var(--sklearn-color-fitted-level-2);\n",
       "}\n",
       "\n",
       "/* Estimator label */\n",
       "\n",
       "#sk-container-id-19 div.sk-label label {\n",
       "  font-family: monospace;\n",
       "  font-weight: bold;\n",
       "  display: inline-block;\n",
       "  line-height: 1.2em;\n",
       "}\n",
       "\n",
       "#sk-container-id-19 div.sk-label-container {\n",
       "  text-align: center;\n",
       "}\n",
       "\n",
       "/* Estimator-specific */\n",
       "#sk-container-id-19 div.sk-estimator {\n",
       "  font-family: monospace;\n",
       "  border: 1px dotted var(--sklearn-color-border-box);\n",
       "  border-radius: 0.25em;\n",
       "  box-sizing: border-box;\n",
       "  margin-bottom: 0.5em;\n",
       "  /* unfitted */\n",
       "  background-color: var(--sklearn-color-unfitted-level-0);\n",
       "}\n",
       "\n",
       "#sk-container-id-19 div.sk-estimator.fitted {\n",
       "  /* fitted */\n",
       "  background-color: var(--sklearn-color-fitted-level-0);\n",
       "}\n",
       "\n",
       "/* on hover */\n",
       "#sk-container-id-19 div.sk-estimator:hover {\n",
       "  /* unfitted */\n",
       "  background-color: var(--sklearn-color-unfitted-level-2);\n",
       "}\n",
       "\n",
       "#sk-container-id-19 div.sk-estimator.fitted:hover {\n",
       "  /* fitted */\n",
       "  background-color: var(--sklearn-color-fitted-level-2);\n",
       "}\n",
       "\n",
       "/* Specification for estimator info (e.g. \"i\" and \"?\") */\n",
       "\n",
       "/* Common style for \"i\" and \"?\" */\n",
       "\n",
       ".sk-estimator-doc-link,\n",
       "a:link.sk-estimator-doc-link,\n",
       "a:visited.sk-estimator-doc-link {\n",
       "  float: right;\n",
       "  font-size: smaller;\n",
       "  line-height: 1em;\n",
       "  font-family: monospace;\n",
       "  background-color: var(--sklearn-color-background);\n",
       "  border-radius: 1em;\n",
       "  height: 1em;\n",
       "  width: 1em;\n",
       "  text-decoration: none !important;\n",
       "  margin-left: 1ex;\n",
       "  /* unfitted */\n",
       "  border: var(--sklearn-color-unfitted-level-1) 1pt solid;\n",
       "  color: var(--sklearn-color-unfitted-level-1);\n",
       "}\n",
       "\n",
       ".sk-estimator-doc-link.fitted,\n",
       "a:link.sk-estimator-doc-link.fitted,\n",
       "a:visited.sk-estimator-doc-link.fitted {\n",
       "  /* fitted */\n",
       "  border: var(--sklearn-color-fitted-level-1) 1pt solid;\n",
       "  color: var(--sklearn-color-fitted-level-1);\n",
       "}\n",
       "\n",
       "/* On hover */\n",
       "div.sk-estimator:hover .sk-estimator-doc-link:hover,\n",
       ".sk-estimator-doc-link:hover,\n",
       "div.sk-label-container:hover .sk-estimator-doc-link:hover,\n",
       ".sk-estimator-doc-link:hover {\n",
       "  /* unfitted */\n",
       "  background-color: var(--sklearn-color-unfitted-level-3);\n",
       "  color: var(--sklearn-color-background);\n",
       "  text-decoration: none;\n",
       "}\n",
       "\n",
       "div.sk-estimator.fitted:hover .sk-estimator-doc-link.fitted:hover,\n",
       ".sk-estimator-doc-link.fitted:hover,\n",
       "div.sk-label-container:hover .sk-estimator-doc-link.fitted:hover,\n",
       ".sk-estimator-doc-link.fitted:hover {\n",
       "  /* fitted */\n",
       "  background-color: var(--sklearn-color-fitted-level-3);\n",
       "  color: var(--sklearn-color-background);\n",
       "  text-decoration: none;\n",
       "}\n",
       "\n",
       "/* Span, style for the box shown on hovering the info icon */\n",
       ".sk-estimator-doc-link span {\n",
       "  display: none;\n",
       "  z-index: 9999;\n",
       "  position: relative;\n",
       "  font-weight: normal;\n",
       "  right: .2ex;\n",
       "  padding: .5ex;\n",
       "  margin: .5ex;\n",
       "  width: min-content;\n",
       "  min-width: 20ex;\n",
       "  max-width: 50ex;\n",
       "  color: var(--sklearn-color-text);\n",
       "  box-shadow: 2pt 2pt 4pt #999;\n",
       "  /* unfitted */\n",
       "  background: var(--sklearn-color-unfitted-level-0);\n",
       "  border: .5pt solid var(--sklearn-color-unfitted-level-3);\n",
       "}\n",
       "\n",
       ".sk-estimator-doc-link.fitted span {\n",
       "  /* fitted */\n",
       "  background: var(--sklearn-color-fitted-level-0);\n",
       "  border: var(--sklearn-color-fitted-level-3);\n",
       "}\n",
       "\n",
       ".sk-estimator-doc-link:hover span {\n",
       "  display: block;\n",
       "}\n",
       "\n",
       "/* \"?\"-specific style due to the `<a>` HTML tag */\n",
       "\n",
       "#sk-container-id-19 a.estimator_doc_link {\n",
       "  float: right;\n",
       "  font-size: 1rem;\n",
       "  line-height: 1em;\n",
       "  font-family: monospace;\n",
       "  background-color: var(--sklearn-color-background);\n",
       "  border-radius: 1rem;\n",
       "  height: 1rem;\n",
       "  width: 1rem;\n",
       "  text-decoration: none;\n",
       "  /* unfitted */\n",
       "  color: var(--sklearn-color-unfitted-level-1);\n",
       "  border: var(--sklearn-color-unfitted-level-1) 1pt solid;\n",
       "}\n",
       "\n",
       "#sk-container-id-19 a.estimator_doc_link.fitted {\n",
       "  /* fitted */\n",
       "  border: var(--sklearn-color-fitted-level-1) 1pt solid;\n",
       "  color: var(--sklearn-color-fitted-level-1);\n",
       "}\n",
       "\n",
       "/* On hover */\n",
       "#sk-container-id-19 a.estimator_doc_link:hover {\n",
       "  /* unfitted */\n",
       "  background-color: var(--sklearn-color-unfitted-level-3);\n",
       "  color: var(--sklearn-color-background);\n",
       "  text-decoration: none;\n",
       "}\n",
       "\n",
       "#sk-container-id-19 a.estimator_doc_link.fitted:hover {\n",
       "  /* fitted */\n",
       "  background-color: var(--sklearn-color-fitted-level-3);\n",
       "}\n",
       "</style><div id=\"sk-container-id-19\" class=\"sk-top-container\"><div class=\"sk-text-repr-fallback\"><pre>XGBClassifier(base_score=None, booster=None, callbacks=None,\n",
       "              colsample_bylevel=None, colsample_bynode=None,\n",
       "              colsample_bytree=None, device=None, early_stopping_rounds=None,\n",
       "              enable_categorical=False, eval_metric=None, feature_types=None,\n",
       "              gamma=None, grow_policy=None, importance_type=None,\n",
       "              interaction_constraints=None, learning_rate=0.1, max_bin=None,\n",
       "              max_cat_threshold=None, max_cat_to_onehot=None,\n",
       "              max_delta_step=None, max_depth=5, max_leaves=0,\n",
       "              min_child_weight=None, missing=nan, monotone_constraints=None,\n",
       "              multi_strategy=None, n_estimators=250, n_jobs=None,\n",
       "              num_parallel_tree=None, random_state=None, ...)</pre><b>In a Jupyter environment, please rerun this cell to show the HTML representation or trust the notebook. <br />On GitHub, the HTML representation is unable to render, please try loading this page with nbviewer.org.</b></div><div class=\"sk-container\" hidden><div class=\"sk-item\"><div class=\"sk-estimator fitted sk-toggleable\"><input class=\"sk-toggleable__control sk-hidden--visually\" id=\"sk-estimator-id-31\" type=\"checkbox\" checked><label for=\"sk-estimator-id-31\" class=\"sk-toggleable__label fitted sk-toggleable__label-arrow fitted\">&nbsp;XGBClassifier<span class=\"sk-estimator-doc-link fitted\">i<span>Fitted</span></span></label><div class=\"sk-toggleable__content fitted\"><pre>XGBClassifier(base_score=None, booster=None, callbacks=None,\n",
       "              colsample_bylevel=None, colsample_bynode=None,\n",
       "              colsample_bytree=None, device=None, early_stopping_rounds=None,\n",
       "              enable_categorical=False, eval_metric=None, feature_types=None,\n",
       "              gamma=None, grow_policy=None, importance_type=None,\n",
       "              interaction_constraints=None, learning_rate=0.1, max_bin=None,\n",
       "              max_cat_threshold=None, max_cat_to_onehot=None,\n",
       "              max_delta_step=None, max_depth=5, max_leaves=0,\n",
       "              min_child_weight=None, missing=nan, monotone_constraints=None,\n",
       "              multi_strategy=None, n_estimators=250, n_jobs=None,\n",
       "              num_parallel_tree=None, random_state=None, ...)</pre></div> </div></div></div></div>"
      ],
      "text/plain": [
       "XGBClassifier(base_score=None, booster=None, callbacks=None,\n",
       "              colsample_bylevel=None, colsample_bynode=None,\n",
       "              colsample_bytree=None, device=None, early_stopping_rounds=None,\n",
       "              enable_categorical=False, eval_metric=None, feature_types=None,\n",
       "              gamma=None, grow_policy=None, importance_type=None,\n",
       "              interaction_constraints=None, learning_rate=0.1, max_bin=None,\n",
       "              max_cat_threshold=None, max_cat_to_onehot=None,\n",
       "              max_delta_step=None, max_depth=5, max_leaves=0,\n",
       "              min_child_weight=None, missing=nan, monotone_constraints=None,\n",
       "              multi_strategy=None, n_estimators=250, n_jobs=None,\n",
       "              num_parallel_tree=None, random_state=None, ...)"
      ]
     },
     "execution_count": 124,
     "metadata": {},
     "output_type": "execute_result"
    },
    {
     "data": {
      "text/plain": [
       "6"
      ]
     },
     "execution_count": 124,
     "metadata": {},
     "output_type": "execute_result"
    },
    {
     "data": {
      "text/plain": [
       "{'learning_rate': 0.1, 'max_depth': 5, 'max_leaves': 0, 'n_estimators': 250}"
      ]
     },
     "execution_count": 124,
     "metadata": {},
     "output_type": "execute_result"
    },
    {
     "data": {
      "text/plain": [
       "0.6038250326380945"
      ]
     },
     "execution_count": 124,
     "metadata": {},
     "output_type": "execute_result"
    }
   ],
   "source": [
    "# vt_xgb\n",
    "vt_xgb.estimator\n",
    "vt_xgb.best_estimator_\n",
    "vt_xgb.best_index_\n",
    "vt_xgb.best_params_\n",
    "vt_xgb.best_score_\n",
    " "
   ]
  },
  {
   "cell_type": "markdown",
   "id": "c4b31bfa-fbbc-4e94-ae80-95d294033c22",
   "metadata": {
    "jp-MarkdownHeadingCollapsed": true
   },
   "source": [
    "## Persist / Load Model"
   ]
  },
  {
   "cell_type": "code",
   "execution_count": 134,
   "id": "8f4c3930-7f57-4c82-8f44-d8e860fee8e2",
   "metadata": {
    "execution": {
     "iopub.execute_input": "2024-08-07T16:37:50.475368Z",
     "iopub.status.busy": "2024-08-07T16:37:50.475002Z",
     "iopub.status.idle": "2024-08-07T16:37:50.518724Z",
     "shell.execute_reply": "2024-08-07T16:37:50.518006Z",
     "shell.execute_reply.started": "2024-08-07T16:37:50.475339Z"
    }
   },
   "outputs": [
    {
     "data": {
      "text/plain": [
       "'./embedding_models/XGB_estimators_BASE_1_UNBALANCED.pkl'"
      ]
     },
     "execution_count": 134,
     "metadata": {},
     "output_type": "execute_result"
    }
   ],
   "source": [
    "SAVE_MODEL_FILENAME = 'XGB_estimators_BASE_1_UNBALANCED.pkl'\n",
    "SAVE_FILENAME = os.path.join(output_path, SAVE_MODEL_FILENAME)\n",
    "SAVE_FILENAME\n",
    "# vt_xgb.cv = None"
   ]
  },
  {
   "cell_type": "code",
   "execution_count": 135,
   "id": "bda8ee62-8812-447b-94b4-272ebfc0970a",
   "metadata": {
    "execution": {
     "iopub.execute_input": "2024-08-07T16:37:51.463506Z",
     "iopub.status.busy": "2024-08-07T16:37:51.463146Z",
     "iopub.status.idle": "2024-08-07T16:37:51.511891Z",
     "shell.execute_reply": "2024-08-07T16:37:51.511049Z",
     "shell.execute_reply.started": "2024-08-07T16:37:51.463477Z"
    }
   },
   "outputs": [
    {
     "name": "stdout",
     "output_type": "stream",
     "text": [
      " save_to_pickle(): save data to ./embedding_models/XGB_estimators_BASE_1_UNBALANCED.pkl\n"
     ]
    }
   ],
   "source": [
    "save_to_pickle(vt_xgb, '', SAVE_FILENAME, verbose = True)"
   ]
  },
  {
   "cell_type": "markdown",
   "id": "227c0ea1-c2e3-4d6b-a582-ad7e591392c9",
   "metadata": {
    "jp-MarkdownHeadingCollapsed": true
   },
   "source": [
    "## Load Model"
   ]
  },
  {
   "cell_type": "code",
   "execution_count": 139,
   "id": "a31c1d03-a3ae-4391-9b63-8b325e9fc05f",
   "metadata": {
    "execution": {
     "iopub.execute_input": "2024-08-07T16:38:55.245928Z",
     "iopub.status.busy": "2024-08-07T16:38:55.245251Z",
     "iopub.status.idle": "2024-08-07T16:38:55.284958Z",
     "shell.execute_reply": "2024-08-07T16:38:55.284323Z",
     "shell.execute_reply.started": "2024-08-07T16:38:55.245887Z"
    }
   },
   "outputs": [],
   "source": [
    "xgb_estimator = load_from_pickle('', SAVE_FILENAME)"
   ]
  },
  {
   "cell_type": "code",
   "execution_count": 140,
   "id": "8c41725e-4254-4d92-92ab-6edf1fe87276",
   "metadata": {
    "execution": {
     "iopub.execute_input": "2024-08-07T16:38:56.288456Z",
     "iopub.status.busy": "2024-08-07T16:38:56.287680Z",
     "iopub.status.idle": "2024-08-07T16:38:56.337322Z",
     "shell.execute_reply": "2024-08-07T16:38:56.336553Z",
     "shell.execute_reply.started": "2024-08-07T16:38:56.288414Z"
    }
   },
   "outputs": [
    {
     "data": {
      "text/html": [
       "<style>#sk-container-id-21 {\n",
       "  /* Definition of color scheme common for light and dark mode */\n",
       "  --sklearn-color-text: black;\n",
       "  --sklearn-color-line: gray;\n",
       "  /* Definition of color scheme for unfitted estimators */\n",
       "  --sklearn-color-unfitted-level-0: #fff5e6;\n",
       "  --sklearn-color-unfitted-level-1: #f6e4d2;\n",
       "  --sklearn-color-unfitted-level-2: #ffe0b3;\n",
       "  --sklearn-color-unfitted-level-3: chocolate;\n",
       "  /* Definition of color scheme for fitted estimators */\n",
       "  --sklearn-color-fitted-level-0: #f0f8ff;\n",
       "  --sklearn-color-fitted-level-1: #d4ebff;\n",
       "  --sklearn-color-fitted-level-2: #b3dbfd;\n",
       "  --sklearn-color-fitted-level-3: cornflowerblue;\n",
       "\n",
       "  /* Specific color for light theme */\n",
       "  --sklearn-color-text-on-default-background: var(--sg-text-color, var(--theme-code-foreground, var(--jp-content-font-color1, black)));\n",
       "  --sklearn-color-background: var(--sg-background-color, var(--theme-background, var(--jp-layout-color0, white)));\n",
       "  --sklearn-color-border-box: var(--sg-text-color, var(--theme-code-foreground, var(--jp-content-font-color1, black)));\n",
       "  --sklearn-color-icon: #696969;\n",
       "\n",
       "  @media (prefers-color-scheme: dark) {\n",
       "    /* Redefinition of color scheme for dark theme */\n",
       "    --sklearn-color-text-on-default-background: var(--sg-text-color, var(--theme-code-foreground, var(--jp-content-font-color1, white)));\n",
       "    --sklearn-color-background: var(--sg-background-color, var(--theme-background, var(--jp-layout-color0, #111)));\n",
       "    --sklearn-color-border-box: var(--sg-text-color, var(--theme-code-foreground, var(--jp-content-font-color1, white)));\n",
       "    --sklearn-color-icon: #878787;\n",
       "  }\n",
       "}\n",
       "\n",
       "#sk-container-id-21 {\n",
       "  color: var(--sklearn-color-text);\n",
       "}\n",
       "\n",
       "#sk-container-id-21 pre {\n",
       "  padding: 0;\n",
       "}\n",
       "\n",
       "#sk-container-id-21 input.sk-hidden--visually {\n",
       "  border: 0;\n",
       "  clip: rect(1px 1px 1px 1px);\n",
       "  clip: rect(1px, 1px, 1px, 1px);\n",
       "  height: 1px;\n",
       "  margin: -1px;\n",
       "  overflow: hidden;\n",
       "  padding: 0;\n",
       "  position: absolute;\n",
       "  width: 1px;\n",
       "}\n",
       "\n",
       "#sk-container-id-21 div.sk-dashed-wrapped {\n",
       "  border: 1px dashed var(--sklearn-color-line);\n",
       "  margin: 0 0.4em 0.5em 0.4em;\n",
       "  box-sizing: border-box;\n",
       "  padding-bottom: 0.4em;\n",
       "  background-color: var(--sklearn-color-background);\n",
       "}\n",
       "\n",
       "#sk-container-id-21 div.sk-container {\n",
       "  /* jupyter's `normalize.less` sets `[hidden] { display: none; }`\n",
       "     but bootstrap.min.css set `[hidden] { display: none !important; }`\n",
       "     so we also need the `!important` here to be able to override the\n",
       "     default hidden behavior on the sphinx rendered scikit-learn.org.\n",
       "     See: https://github.com/scikit-learn/scikit-learn/issues/21755 */\n",
       "  display: inline-block !important;\n",
       "  position: relative;\n",
       "}\n",
       "\n",
       "#sk-container-id-21 div.sk-text-repr-fallback {\n",
       "  display: none;\n",
       "}\n",
       "\n",
       "div.sk-parallel-item,\n",
       "div.sk-serial,\n",
       "div.sk-item {\n",
       "  /* draw centered vertical line to link estimators */\n",
       "  background-image: linear-gradient(var(--sklearn-color-text-on-default-background), var(--sklearn-color-text-on-default-background));\n",
       "  background-size: 2px 100%;\n",
       "  background-repeat: no-repeat;\n",
       "  background-position: center center;\n",
       "}\n",
       "\n",
       "/* Parallel-specific style estimator block */\n",
       "\n",
       "#sk-container-id-21 div.sk-parallel-item::after {\n",
       "  content: \"\";\n",
       "  width: 100%;\n",
       "  border-bottom: 2px solid var(--sklearn-color-text-on-default-background);\n",
       "  flex-grow: 1;\n",
       "}\n",
       "\n",
       "#sk-container-id-21 div.sk-parallel {\n",
       "  display: flex;\n",
       "  align-items: stretch;\n",
       "  justify-content: center;\n",
       "  background-color: var(--sklearn-color-background);\n",
       "  position: relative;\n",
       "}\n",
       "\n",
       "#sk-container-id-21 div.sk-parallel-item {\n",
       "  display: flex;\n",
       "  flex-direction: column;\n",
       "}\n",
       "\n",
       "#sk-container-id-21 div.sk-parallel-item:first-child::after {\n",
       "  align-self: flex-end;\n",
       "  width: 50%;\n",
       "}\n",
       "\n",
       "#sk-container-id-21 div.sk-parallel-item:last-child::after {\n",
       "  align-self: flex-start;\n",
       "  width: 50%;\n",
       "}\n",
       "\n",
       "#sk-container-id-21 div.sk-parallel-item:only-child::after {\n",
       "  width: 0;\n",
       "}\n",
       "\n",
       "/* Serial-specific style estimator block */\n",
       "\n",
       "#sk-container-id-21 div.sk-serial {\n",
       "  display: flex;\n",
       "  flex-direction: column;\n",
       "  align-items: center;\n",
       "  background-color: var(--sklearn-color-background);\n",
       "  padding-right: 1em;\n",
       "  padding-left: 1em;\n",
       "}\n",
       "\n",
       "\n",
       "/* Toggleable style: style used for estimator/Pipeline/ColumnTransformer box that is\n",
       "clickable and can be expanded/collapsed.\n",
       "- Pipeline and ColumnTransformer use this feature and define the default style\n",
       "- Estimators will overwrite some part of the style using the `sk-estimator` class\n",
       "*/\n",
       "\n",
       "/* Pipeline and ColumnTransformer style (default) */\n",
       "\n",
       "#sk-container-id-21 div.sk-toggleable {\n",
       "  /* Default theme specific background. It is overwritten whether we have a\n",
       "  specific estimator or a Pipeline/ColumnTransformer */\n",
       "  background-color: var(--sklearn-color-background);\n",
       "}\n",
       "\n",
       "/* Toggleable label */\n",
       "#sk-container-id-21 label.sk-toggleable__label {\n",
       "  cursor: pointer;\n",
       "  display: block;\n",
       "  width: 100%;\n",
       "  margin-bottom: 0;\n",
       "  padding: 0.5em;\n",
       "  box-sizing: border-box;\n",
       "  text-align: center;\n",
       "}\n",
       "\n",
       "#sk-container-id-21 label.sk-toggleable__label-arrow:before {\n",
       "  /* Arrow on the left of the label */\n",
       "  content: \"▸\";\n",
       "  float: left;\n",
       "  margin-right: 0.25em;\n",
       "  color: var(--sklearn-color-icon);\n",
       "}\n",
       "\n",
       "#sk-container-id-21 label.sk-toggleable__label-arrow:hover:before {\n",
       "  color: var(--sklearn-color-text);\n",
       "}\n",
       "\n",
       "/* Toggleable content - dropdown */\n",
       "\n",
       "#sk-container-id-21 div.sk-toggleable__content {\n",
       "  max-height: 0;\n",
       "  max-width: 0;\n",
       "  overflow: hidden;\n",
       "  text-align: left;\n",
       "  /* unfitted */\n",
       "  background-color: var(--sklearn-color-unfitted-level-0);\n",
       "}\n",
       "\n",
       "#sk-container-id-21 div.sk-toggleable__content.fitted {\n",
       "  /* fitted */\n",
       "  background-color: var(--sklearn-color-fitted-level-0);\n",
       "}\n",
       "\n",
       "#sk-container-id-21 div.sk-toggleable__content pre {\n",
       "  margin: 0.2em;\n",
       "  border-radius: 0.25em;\n",
       "  color: var(--sklearn-color-text);\n",
       "  /* unfitted */\n",
       "  background-color: var(--sklearn-color-unfitted-level-0);\n",
       "}\n",
       "\n",
       "#sk-container-id-21 div.sk-toggleable__content.fitted pre {\n",
       "  /* unfitted */\n",
       "  background-color: var(--sklearn-color-fitted-level-0);\n",
       "}\n",
       "\n",
       "#sk-container-id-21 input.sk-toggleable__control:checked~div.sk-toggleable__content {\n",
       "  /* Expand drop-down */\n",
       "  max-height: 200px;\n",
       "  max-width: 100%;\n",
       "  overflow: auto;\n",
       "}\n",
       "\n",
       "#sk-container-id-21 input.sk-toggleable__control:checked~label.sk-toggleable__label-arrow:before {\n",
       "  content: \"▾\";\n",
       "}\n",
       "\n",
       "/* Pipeline/ColumnTransformer-specific style */\n",
       "\n",
       "#sk-container-id-21 div.sk-label input.sk-toggleable__control:checked~label.sk-toggleable__label {\n",
       "  color: var(--sklearn-color-text);\n",
       "  background-color: var(--sklearn-color-unfitted-level-2);\n",
       "}\n",
       "\n",
       "#sk-container-id-21 div.sk-label.fitted input.sk-toggleable__control:checked~label.sk-toggleable__label {\n",
       "  background-color: var(--sklearn-color-fitted-level-2);\n",
       "}\n",
       "\n",
       "/* Estimator-specific style */\n",
       "\n",
       "/* Colorize estimator box */\n",
       "#sk-container-id-21 div.sk-estimator input.sk-toggleable__control:checked~label.sk-toggleable__label {\n",
       "  /* unfitted */\n",
       "  background-color: var(--sklearn-color-unfitted-level-2);\n",
       "}\n",
       "\n",
       "#sk-container-id-21 div.sk-estimator.fitted input.sk-toggleable__control:checked~label.sk-toggleable__label {\n",
       "  /* fitted */\n",
       "  background-color: var(--sklearn-color-fitted-level-2);\n",
       "}\n",
       "\n",
       "#sk-container-id-21 div.sk-label label.sk-toggleable__label,\n",
       "#sk-container-id-21 div.sk-label label {\n",
       "  /* The background is the default theme color */\n",
       "  color: var(--sklearn-color-text-on-default-background);\n",
       "}\n",
       "\n",
       "/* On hover, darken the color of the background */\n",
       "#sk-container-id-21 div.sk-label:hover label.sk-toggleable__label {\n",
       "  color: var(--sklearn-color-text);\n",
       "  background-color: var(--sklearn-color-unfitted-level-2);\n",
       "}\n",
       "\n",
       "/* Label box, darken color on hover, fitted */\n",
       "#sk-container-id-21 div.sk-label.fitted:hover label.sk-toggleable__label.fitted {\n",
       "  color: var(--sklearn-color-text);\n",
       "  background-color: var(--sklearn-color-fitted-level-2);\n",
       "}\n",
       "\n",
       "/* Estimator label */\n",
       "\n",
       "#sk-container-id-21 div.sk-label label {\n",
       "  font-family: monospace;\n",
       "  font-weight: bold;\n",
       "  display: inline-block;\n",
       "  line-height: 1.2em;\n",
       "}\n",
       "\n",
       "#sk-container-id-21 div.sk-label-container {\n",
       "  text-align: center;\n",
       "}\n",
       "\n",
       "/* Estimator-specific */\n",
       "#sk-container-id-21 div.sk-estimator {\n",
       "  font-family: monospace;\n",
       "  border: 1px dotted var(--sklearn-color-border-box);\n",
       "  border-radius: 0.25em;\n",
       "  box-sizing: border-box;\n",
       "  margin-bottom: 0.5em;\n",
       "  /* unfitted */\n",
       "  background-color: var(--sklearn-color-unfitted-level-0);\n",
       "}\n",
       "\n",
       "#sk-container-id-21 div.sk-estimator.fitted {\n",
       "  /* fitted */\n",
       "  background-color: var(--sklearn-color-fitted-level-0);\n",
       "}\n",
       "\n",
       "/* on hover */\n",
       "#sk-container-id-21 div.sk-estimator:hover {\n",
       "  /* unfitted */\n",
       "  background-color: var(--sklearn-color-unfitted-level-2);\n",
       "}\n",
       "\n",
       "#sk-container-id-21 div.sk-estimator.fitted:hover {\n",
       "  /* fitted */\n",
       "  background-color: var(--sklearn-color-fitted-level-2);\n",
       "}\n",
       "\n",
       "/* Specification for estimator info (e.g. \"i\" and \"?\") */\n",
       "\n",
       "/* Common style for \"i\" and \"?\" */\n",
       "\n",
       ".sk-estimator-doc-link,\n",
       "a:link.sk-estimator-doc-link,\n",
       "a:visited.sk-estimator-doc-link {\n",
       "  float: right;\n",
       "  font-size: smaller;\n",
       "  line-height: 1em;\n",
       "  font-family: monospace;\n",
       "  background-color: var(--sklearn-color-background);\n",
       "  border-radius: 1em;\n",
       "  height: 1em;\n",
       "  width: 1em;\n",
       "  text-decoration: none !important;\n",
       "  margin-left: 1ex;\n",
       "  /* unfitted */\n",
       "  border: var(--sklearn-color-unfitted-level-1) 1pt solid;\n",
       "  color: var(--sklearn-color-unfitted-level-1);\n",
       "}\n",
       "\n",
       ".sk-estimator-doc-link.fitted,\n",
       "a:link.sk-estimator-doc-link.fitted,\n",
       "a:visited.sk-estimator-doc-link.fitted {\n",
       "  /* fitted */\n",
       "  border: var(--sklearn-color-fitted-level-1) 1pt solid;\n",
       "  color: var(--sklearn-color-fitted-level-1);\n",
       "}\n",
       "\n",
       "/* On hover */\n",
       "div.sk-estimator:hover .sk-estimator-doc-link:hover,\n",
       ".sk-estimator-doc-link:hover,\n",
       "div.sk-label-container:hover .sk-estimator-doc-link:hover,\n",
       ".sk-estimator-doc-link:hover {\n",
       "  /* unfitted */\n",
       "  background-color: var(--sklearn-color-unfitted-level-3);\n",
       "  color: var(--sklearn-color-background);\n",
       "  text-decoration: none;\n",
       "}\n",
       "\n",
       "div.sk-estimator.fitted:hover .sk-estimator-doc-link.fitted:hover,\n",
       ".sk-estimator-doc-link.fitted:hover,\n",
       "div.sk-label-container:hover .sk-estimator-doc-link.fitted:hover,\n",
       ".sk-estimator-doc-link.fitted:hover {\n",
       "  /* fitted */\n",
       "  background-color: var(--sklearn-color-fitted-level-3);\n",
       "  color: var(--sklearn-color-background);\n",
       "  text-decoration: none;\n",
       "}\n",
       "\n",
       "/* Span, style for the box shown on hovering the info icon */\n",
       ".sk-estimator-doc-link span {\n",
       "  display: none;\n",
       "  z-index: 9999;\n",
       "  position: relative;\n",
       "  font-weight: normal;\n",
       "  right: .2ex;\n",
       "  padding: .5ex;\n",
       "  margin: .5ex;\n",
       "  width: min-content;\n",
       "  min-width: 20ex;\n",
       "  max-width: 50ex;\n",
       "  color: var(--sklearn-color-text);\n",
       "  box-shadow: 2pt 2pt 4pt #999;\n",
       "  /* unfitted */\n",
       "  background: var(--sklearn-color-unfitted-level-0);\n",
       "  border: .5pt solid var(--sklearn-color-unfitted-level-3);\n",
       "}\n",
       "\n",
       ".sk-estimator-doc-link.fitted span {\n",
       "  /* fitted */\n",
       "  background: var(--sklearn-color-fitted-level-0);\n",
       "  border: var(--sklearn-color-fitted-level-3);\n",
       "}\n",
       "\n",
       ".sk-estimator-doc-link:hover span {\n",
       "  display: block;\n",
       "}\n",
       "\n",
       "/* \"?\"-specific style due to the `<a>` HTML tag */\n",
       "\n",
       "#sk-container-id-21 a.estimator_doc_link {\n",
       "  float: right;\n",
       "  font-size: 1rem;\n",
       "  line-height: 1em;\n",
       "  font-family: monospace;\n",
       "  background-color: var(--sklearn-color-background);\n",
       "  border-radius: 1rem;\n",
       "  height: 1rem;\n",
       "  width: 1rem;\n",
       "  text-decoration: none;\n",
       "  /* unfitted */\n",
       "  color: var(--sklearn-color-unfitted-level-1);\n",
       "  border: var(--sklearn-color-unfitted-level-1) 1pt solid;\n",
       "}\n",
       "\n",
       "#sk-container-id-21 a.estimator_doc_link.fitted {\n",
       "  /* fitted */\n",
       "  border: var(--sklearn-color-fitted-level-1) 1pt solid;\n",
       "  color: var(--sklearn-color-fitted-level-1);\n",
       "}\n",
       "\n",
       "/* On hover */\n",
       "#sk-container-id-21 a.estimator_doc_link:hover {\n",
       "  /* unfitted */\n",
       "  background-color: var(--sklearn-color-unfitted-level-3);\n",
       "  color: var(--sklearn-color-background);\n",
       "  text-decoration: none;\n",
       "}\n",
       "\n",
       "#sk-container-id-21 a.estimator_doc_link.fitted:hover {\n",
       "  /* fitted */\n",
       "  background-color: var(--sklearn-color-fitted-level-3);\n",
       "}\n",
       "</style><div id=\"sk-container-id-21\" class=\"sk-top-container\"><div class=\"sk-text-repr-fallback\"><pre>GridSearchCV(estimator=XGBClassifier(base_score=None, booster=None,\n",
       "                                     callbacks=None, colsample_bylevel=None,\n",
       "                                     colsample_bynode=None,\n",
       "                                     colsample_bytree=None, device=None,\n",
       "                                     early_stopping_rounds=None,\n",
       "                                     enable_categorical=False, eval_metric=None,\n",
       "                                     feature_types=None, gamma=None,\n",
       "                                     grow_policy=None, importance_type=None,\n",
       "                                     interaction_constraints=None,\n",
       "                                     learning_rate=None, max_b...\n",
       "                                     max_delta_step=None, max_depth=None,\n",
       "                                     max_leaves=None, min_child_weight=None,\n",
       "                                     missing=nan, monotone_constraints=None,\n",
       "                                     multi_strategy=None, n_estimators=None,\n",
       "                                     n_jobs=None, num_parallel_tree=None,\n",
       "                                     random_state=None, ...),\n",
       "             n_jobs=5,\n",
       "             param_grid={&#x27;learning_rate&#x27;: [0.1, 0.2, 0.3],\n",
       "                         &#x27;max_depth&#x27;: [2, 5, 10], &#x27;max_leaves&#x27;: [0, 4, 6],\n",
       "                         &#x27;n_estimators&#x27;: [250, 350]},\n",
       "             pre_dispatch=5, scoring=&#x27;roc_auc&#x27;, verbose=3)</pre><b>In a Jupyter environment, please rerun this cell to show the HTML representation or trust the notebook. <br />On GitHub, the HTML representation is unable to render, please try loading this page with nbviewer.org.</b></div><div class=\"sk-container\" hidden><div class=\"sk-item sk-dashed-wrapped\"><div class=\"sk-label-container\"><div class=\"sk-label fitted sk-toggleable\"><input class=\"sk-toggleable__control sk-hidden--visually\" id=\"sk-estimator-id-35\" type=\"checkbox\" ><label for=\"sk-estimator-id-35\" class=\"sk-toggleable__label fitted sk-toggleable__label-arrow fitted\">&nbsp;&nbsp;GridSearchCV<a class=\"sk-estimator-doc-link fitted\" rel=\"noreferrer\" target=\"_blank\" href=\"https://scikit-learn.org/1.4/modules/generated/sklearn.model_selection.GridSearchCV.html\">?<span>Documentation for GridSearchCV</span></a><span class=\"sk-estimator-doc-link fitted\">i<span>Fitted</span></span></label><div class=\"sk-toggleable__content fitted\"><pre>GridSearchCV(estimator=XGBClassifier(base_score=None, booster=None,\n",
       "                                     callbacks=None, colsample_bylevel=None,\n",
       "                                     colsample_bynode=None,\n",
       "                                     colsample_bytree=None, device=None,\n",
       "                                     early_stopping_rounds=None,\n",
       "                                     enable_categorical=False, eval_metric=None,\n",
       "                                     feature_types=None, gamma=None,\n",
       "                                     grow_policy=None, importance_type=None,\n",
       "                                     interaction_constraints=None,\n",
       "                                     learning_rate=None, max_b...\n",
       "                                     max_delta_step=None, max_depth=None,\n",
       "                                     max_leaves=None, min_child_weight=None,\n",
       "                                     missing=nan, monotone_constraints=None,\n",
       "                                     multi_strategy=None, n_estimators=None,\n",
       "                                     n_jobs=None, num_parallel_tree=None,\n",
       "                                     random_state=None, ...),\n",
       "             n_jobs=5,\n",
       "             param_grid={&#x27;learning_rate&#x27;: [0.1, 0.2, 0.3],\n",
       "                         &#x27;max_depth&#x27;: [2, 5, 10], &#x27;max_leaves&#x27;: [0, 4, 6],\n",
       "                         &#x27;n_estimators&#x27;: [250, 350]},\n",
       "             pre_dispatch=5, scoring=&#x27;roc_auc&#x27;, verbose=3)</pre></div> </div></div><div class=\"sk-parallel\"><div class=\"sk-parallel-item\"><div class=\"sk-item\"><div class=\"sk-label-container\"><div class=\"sk-label fitted sk-toggleable\"><input class=\"sk-toggleable__control sk-hidden--visually\" id=\"sk-estimator-id-36\" type=\"checkbox\" ><label for=\"sk-estimator-id-36\" class=\"sk-toggleable__label fitted sk-toggleable__label-arrow fitted\">estimator: XGBClassifier</label><div class=\"sk-toggleable__content fitted\"><pre>XGBClassifier(base_score=None, booster=None, callbacks=None,\n",
       "              colsample_bylevel=None, colsample_bynode=None,\n",
       "              colsample_bytree=None, device=None, early_stopping_rounds=None,\n",
       "              enable_categorical=False, eval_metric=None, feature_types=None,\n",
       "              gamma=None, grow_policy=None, importance_type=None,\n",
       "              interaction_constraints=None, learning_rate=None, max_bin=None,\n",
       "              max_cat_threshold=None, max_cat_to_onehot=None,\n",
       "              max_delta_step=None, max_depth=None, max_leaves=None,\n",
       "              min_child_weight=None, missing=nan, monotone_constraints=None,\n",
       "              multi_strategy=None, n_estimators=None, n_jobs=None,\n",
       "              num_parallel_tree=None, random_state=None, ...)</pre></div> </div></div><div class=\"sk-serial\"><div class=\"sk-item\"><div class=\"sk-estimator fitted sk-toggleable\"><input class=\"sk-toggleable__control sk-hidden--visually\" id=\"sk-estimator-id-37\" type=\"checkbox\" ><label for=\"sk-estimator-id-37\" class=\"sk-toggleable__label fitted sk-toggleable__label-arrow fitted\">XGBClassifier</label><div class=\"sk-toggleable__content fitted\"><pre>XGBClassifier(base_score=None, booster=None, callbacks=None,\n",
       "              colsample_bylevel=None, colsample_bynode=None,\n",
       "              colsample_bytree=None, device=None, early_stopping_rounds=None,\n",
       "              enable_categorical=False, eval_metric=None, feature_types=None,\n",
       "              gamma=None, grow_policy=None, importance_type=None,\n",
       "              interaction_constraints=None, learning_rate=None, max_bin=None,\n",
       "              max_cat_threshold=None, max_cat_to_onehot=None,\n",
       "              max_delta_step=None, max_depth=None, max_leaves=None,\n",
       "              min_child_weight=None, missing=nan, monotone_constraints=None,\n",
       "              multi_strategy=None, n_estimators=None, n_jobs=None,\n",
       "              num_parallel_tree=None, random_state=None, ...)</pre></div> </div></div></div></div></div></div></div></div></div>"
      ],
      "text/plain": [
       "GridSearchCV(estimator=XGBClassifier(base_score=None, booster=None,\n",
       "                                     callbacks=None, colsample_bylevel=None,\n",
       "                                     colsample_bynode=None,\n",
       "                                     colsample_bytree=None, device=None,\n",
       "                                     early_stopping_rounds=None,\n",
       "                                     enable_categorical=False, eval_metric=None,\n",
       "                                     feature_types=None, gamma=None,\n",
       "                                     grow_policy=None, importance_type=None,\n",
       "                                     interaction_constraints=None,\n",
       "                                     learning_rate=None, max_b...\n",
       "                                     max_delta_step=None, max_depth=None,\n",
       "                                     max_leaves=None, min_child_weight=None,\n",
       "                                     missing=nan, monotone_constraints=None,\n",
       "                                     multi_strategy=None, n_estimators=None,\n",
       "                                     n_jobs=None, num_parallel_tree=None,\n",
       "                                     random_state=None, ...),\n",
       "             n_jobs=5,\n",
       "             param_grid={'learning_rate': [0.1, 0.2, 0.3],\n",
       "                         'max_depth': [2, 5, 10], 'max_leaves': [0, 4, 6],\n",
       "                         'n_estimators': [250, 350]},\n",
       "             pre_dispatch=5, scoring='roc_auc', verbose=3)"
      ]
     },
     "execution_count": 140,
     "metadata": {},
     "output_type": "execute_result"
    },
    {
     "name": "stdout",
     "output_type": "stream",
     "text": [
      "parameters   :\n",
      "\n",
      "best_estimator_  :   XGBClassifier(base_score=None, booster=None, callbacks=None,\n",
      "              colsample_bylevel=None, colsample_bynode=None,\n",
      "              colsample_bytree=None, device=None, early_stopping_rounds=None,\n",
      "              enable_categorical=False, eval_metric=None, feature_types=None,\n",
      "              gamma=None, grow_policy=None, importance_type=None,\n",
      "              interaction_constraints=None, learning_rate=0.1, max_bin=None,\n",
      "              max_cat_threshold=None, max_cat_to_onehot=None,\n",
      "              max_delta_step=None, max_depth=5, max_leaves=0,\n",
      "              min_child_weight=None, missing=nan, monotone_constraints=None,\n",
      "              multi_strategy=None, n_estimators=250, n_jobs=None,\n",
      "              num_parallel_tree=None, random_state=None, ...)\n"
     ]
    }
   ],
   "source": [
    "xgb_estimator\n",
    "print(f\"parameters   :\")\n",
    "# pp.pprint(xgb_estimator.get_params())\n",
    "print()\n",
    "print(f\"best_estimator_  :   {xgb_estimator.best_estimator_}\")\n",
    "# print(f\"best_index_  :       {xgb_estimator.best_index_}\")\n",
    "# print(f\"best_params_ :       {xgb_estimator.best_params_}\")\n",
    "# print(f\"best_score_  :       {xgb_estimator.best_score_}\")\n",
    "# print(f\"classes_     :       {xgb_estimator.classes_}\")\n",
    "# print(f\"cv           :       {xgb_estimator.cv}\")\n",
    "# print()\n",
    "# print(f\"cv_results_  :       {xgb_estimator.cv_results_}\")\n",
    "# print()\n",
    "# print(f\"error_score  :       {xgb_estimator.error_score}\")\n",
    "# print(f\"estimator    :       {xgb_estimator.estimator}\")"
   ]
  },
  {
   "cell_type": "markdown",
   "id": "a84934d8-9e89-4b01-902f-a95d89cdfada",
   "metadata": {
    "jp-MarkdownHeadingCollapsed": true
   },
   "source": [
    "# Metrics - 0 "
   ]
  },
  {
   "cell_type": "code",
   "execution_count": 151,
   "id": "cad87557-0e9c-442c-8d35-067b66a2bab0",
   "metadata": {
    "execution": {
     "iopub.execute_input": "2024-08-07T16:43:36.105868Z",
     "iopub.status.busy": "2024-08-07T16:43:36.105377Z",
     "iopub.status.idle": "2024-08-07T16:43:36.140271Z",
     "shell.execute_reply": "2024-08-07T16:43:36.139661Z",
     "shell.execute_reply.started": "2024-08-07T16:43:36.105827Z"
    }
   },
   "outputs": [
    {
     "name": "stdout",
     "output_type": "stream",
     "text": [
      "best_estimator_  :   XGBClassifier(base_score=None, booster=None, callbacks=None,\n",
      "              colsample_bylevel=None, colsample_bynode=None,\n",
      "              colsample_bytree=None, device=None, early_stopping_rounds=None,\n",
      "              enable_categorical=False, eval_metric=None, feature_types=None,\n",
      "              gamma=None, grow_policy=None, importance_type=None,\n",
      "              interaction_constraints=None, learning_rate=0.1, max_bin=None,\n",
      "              max_cat_threshold=None, max_cat_to_onehot=None,\n",
      "              max_delta_step=None, max_depth=5, max_leaves=0,\n",
      "              min_child_weight=None, missing=nan, monotone_constraints=None,\n",
      "              multi_strategy=None, n_estimators=250, n_jobs=None,\n",
      "              num_parallel_tree=None, random_state=None, ...)\n",
      "\n"
     ]
    }
   ],
   "source": [
    "# print(f\"parameters   :\")\n",
    "# pp.pprint(xgb_estimator.get_params())\n",
    "print(f\"best_estimator_  :   {xgb_estimator.best_estimator_}\")\n",
    "print()\n",
    " "
   ]
  },
  {
   "cell_type": "code",
   "execution_count": 152,
   "id": "5128a9d7-940f-4a32-b6b9-902f58c28c61",
   "metadata": {
    "execution": {
     "iopub.execute_input": "2024-08-07T16:43:39.053476Z",
     "iopub.status.busy": "2024-08-07T16:43:39.052941Z",
     "iopub.status.idle": "2024-08-07T16:43:39.083150Z",
     "shell.execute_reply": "2024-08-07T16:43:39.082410Z",
     "shell.execute_reply.started": "2024-08-07T16:43:39.053434Z"
    }
   },
   "outputs": [],
   "source": [
    "# TEST_X, TEST_Y = bal_test_X, bal_test_y\n",
    "TEST_X, TEST_Y = test_X, test_y"
   ]
  },
  {
   "cell_type": "code",
   "execution_count": 153,
   "id": "6febe1ee-e783-4a7c-b1eb-2168837d6785",
   "metadata": {
    "execution": {
     "iopub.execute_input": "2024-08-07T16:43:43.237311Z",
     "iopub.status.busy": "2024-08-07T16:43:43.236809Z",
     "iopub.status.idle": "2024-08-07T16:43:43.341180Z",
     "shell.execute_reply": "2024-08-07T16:43:43.340474Z",
     "shell.execute_reply.started": "2024-08-07T16:43:43.237273Z"
    }
   },
   "outputs": [
    {
     "data": {
      "text/plain": [
       "(34542,)"
      ]
     },
     "execution_count": 153,
     "metadata": {},
     "output_type": "execute_result"
    }
   ],
   "source": [
    "y_pred = xgb_estimator.best_estimator_.predict(TEST_X)\n",
    "y_pred.shape"
   ]
  },
  {
   "cell_type": "code",
   "execution_count": 154,
   "id": "62af41d9-dd7a-43a3-a57e-61b63c465264",
   "metadata": {
    "execution": {
     "iopub.execute_input": "2024-08-07T16:43:44.903439Z",
     "iopub.status.busy": "2024-08-07T16:43:44.902969Z",
     "iopub.status.idle": "2024-08-07T16:43:44.955428Z",
     "shell.execute_reply": "2024-08-07T16:43:44.954716Z",
     "shell.execute_reply.started": "2024-08-07T16:43:44.903398Z"
    }
   },
   "outputs": [
    {
     "data": {
      "text/plain": [
       "(8328,)"
      ]
     },
     "execution_count": 154,
     "metadata": {},
     "output_type": "execute_result"
    }
   ],
   "source": [
    "bal_y_pred = xgb_estimator.best_estimator_.predict(bal_test_X)\n",
    "bal_y_pred.shape"
   ]
  },
  {
   "cell_type": "code",
   "execution_count": 155,
   "id": "62c8ba0e-4c72-4773-9740-6887334aaabf",
   "metadata": {
    "execution": {
     "iopub.execute_input": "2024-08-07T16:43:45.787497Z",
     "iopub.status.busy": "2024-08-07T16:43:45.786693Z",
     "iopub.status.idle": "2024-08-07T16:43:45.823014Z",
     "shell.execute_reply": "2024-08-07T16:43:45.822254Z",
     "shell.execute_reply.started": "2024-08-07T16:43:45.787454Z"
    }
   },
   "outputs": [
    {
     "name": "stdout",
     "output_type": "stream",
     "text": [
      " Ground Truth\n",
      " Total samples: 34542\n",
      " Label 0:  30,378      % 87.95 \n",
      " Label 1:   4,164      % 12.05 \n",
      "\n",
      " Predictions\n",
      " Total samples: 34542\n",
      " Label 0:  34,525      % 99.95 \n",
      " Label 1:      17      % 0.05 \n",
      "\n",
      " Balanced Ground Truth\n",
      " Total samples: 8328\n",
      " Label 0:   4,164      % 50.00 \n",
      " Label 1:   4,164      % 50.00 \n",
      "\n",
      " Balanced Predictions\n",
      " Total samples: 8328\n",
      " Label 0:   8,322      % 99.93 \n",
      " Label 1:       6      % 0.07 \n",
      "\n"
     ]
    }
   ],
   "source": [
    "label_counts( [(\"Ground Truth\", test_y), (\"Predictions\", y_pred), (\"Balanced Ground Truth\", bal_test_y), (\"Balanced Predictions\", bal_y_pred)])"
   ]
  },
  {
   "cell_type": "code",
   "execution_count": 158,
   "id": "e60cb6e4-02bb-4e23-ae53-06316789ca10",
   "metadata": {
    "execution": {
     "iopub.execute_input": "2024-08-07T16:44:15.685704Z",
     "iopub.status.busy": "2024-08-07T16:44:15.685223Z",
     "iopub.status.idle": "2024-08-07T16:44:15.729580Z",
     "shell.execute_reply": "2024-08-07T16:44:15.729078Z",
     "shell.execute_reply.started": "2024-08-07T16:44:15.685664Z"
    }
   },
   "outputs": [
    {
     "name": "stdout",
     "output_type": "stream",
     "text": [
      " Original test file\n",
      "--------------------\n",
      " Accuracy: 0.87931     Precision: 0.35294     Recall: 0.00144     F1: 0.00287 \n",
      "\n",
      " True + labels:          4164     ratio to total:  0.12055\n",
      " Predicted + labels:       17     ratio to total:  0.00049\n",
      " True/Predicted Match:  30373     ratio to total:  0.87931\n"
     ]
    }
   ],
   "source": [
    "compute_metrics(test_y, y_pred, \"Original test file\")"
   ]
  },
  {
   "cell_type": "code",
   "execution_count": 159,
   "id": "c62f3e1b-a441-433f-b6f6-0a204594c70b",
   "metadata": {
    "execution": {
     "iopub.execute_input": "2024-08-07T16:44:25.777765Z",
     "iopub.status.busy": "2024-08-07T16:44:25.777196Z",
     "iopub.status.idle": "2024-08-07T16:44:25.816988Z",
     "shell.execute_reply": "2024-08-07T16:44:25.816367Z",
     "shell.execute_reply.started": "2024-08-07T16:44:25.777719Z"
    }
   },
   "outputs": [
    {
     "name": "stdout",
     "output_type": "stream",
     "text": [
      "  1:1 Balanced test file\n",
      "-------------------------\n",
      " Accuracy: 0.50072     Precision: 1.00000     Recall: 0.00144     F1: 0.00288 \n",
      "\n",
      " True + labels:          4164     ratio to total:  0.50000\n",
      " Predicted + labels:        6     ratio to total:  0.00072\n",
      " True/Predicted Match:   4170     ratio to total:  0.50072\n"
     ]
    }
   ],
   "source": [
    "compute_metrics(bal_test_y, bal_y_pred, \" 1:1 Balanced test file\")"
   ]
  },
  {
   "cell_type": "code",
   "execution_count": 662,
   "id": "d789e4ce-c0e2-401c-946a-1b33ba06a544",
   "metadata": {
    "execution": {
     "iopub.execute_input": "2024-08-05T21:18:59.095056Z",
     "iopub.status.busy": "2024-08-05T21:18:59.094517Z",
     "iopub.status.idle": "2024-08-05T21:18:59.132504Z",
     "shell.execute_reply": "2024-08-05T21:18:59.131554Z",
     "shell.execute_reply.started": "2024-08-05T21:18:59.095025Z"
    }
   },
   "outputs": [],
   "source": [
    "# plots_from_estimator(xgb_estimator.best_estimator_, test_X, y_pred)\n",
    "# plots_from_estimator(xgb_estimator.best_estimator_, bal_test_X, bal_y_pred)"
   ]
  },
  {
   "cell_type": "code",
   "execution_count": 160,
   "id": "762984ba-5bae-4ecc-a014-d8c71c529bd4",
   "metadata": {
    "execution": {
     "iopub.execute_input": "2024-08-07T16:44:45.056197Z",
     "iopub.status.busy": "2024-08-07T16:44:45.055404Z",
     "iopub.status.idle": "2024-08-07T16:44:46.891805Z",
     "shell.execute_reply": "2024-08-07T16:44:46.891247Z",
     "shell.execute_reply.started": "2024-08-07T16:44:45.056166Z"
    }
   },
   "outputs": [
    {
     "data": {
      "image/png": "[encoded data removed]",
      "text/plain": [
       "<Figure size 1500x500 with 4 Axes>"
      ]
     },
     "metadata": {},
     "output_type": "display_data"
    },
    {
     "data": {
      "image/png": "[encoded data removed]",
      "text/plain": [
       "<Figure size 1500x500 with 4 Axes>"
      ]
     },
     "metadata": {},
     "output_type": "display_data"
    }
   ],
   "source": [
    "plots_from_predictions(test_y, y_pred)\n",
    "plots_from_predictions(bal_test_y, bal_y_pred)"
   ]
  },
  {
   "cell_type": "markdown",
   "id": "10c003b2-af8b-4284-9233-5f16824d7376",
   "metadata": {
    "jp-MarkdownHeadingCollapsed": true
   },
   "source": [
    "# Metrics - 1"
   ]
  },
  {
   "cell_type": "code",
   "execution_count": 303,
   "id": "036b4db4-f642-4522-9047-27debd78c07b",
   "metadata": {
    "execution": {
     "iopub.execute_input": "2024-08-02T20:33:54.223269Z",
     "iopub.status.busy": "2024-08-02T20:33:54.222719Z",
     "iopub.status.idle": "2024-08-02T20:33:54.268681Z",
     "shell.execute_reply": "2024-08-02T20:33:54.267923Z",
     "shell.execute_reply.started": "2024-08-02T20:33:54.223229Z"
    }
   },
   "outputs": [],
   "source": [
    "FILENAME = 'KNN_estimators_1.pkl'"
   ]
  },
  {
   "cell_type": "code",
   "execution_count": 304,
   "id": "c2838987-4d63-49a9-a1d6-39770978ff81",
   "metadata": {
    "execution": {
     "iopub.execute_input": "2024-08-02T20:33:56.881175Z",
     "iopub.status.busy": "2024-08-02T20:33:56.880677Z",
     "iopub.status.idle": "2024-08-02T20:33:57.188044Z",
     "shell.execute_reply": "2024-08-02T20:33:57.186995Z",
     "shell.execute_reply.started": "2024-08-02T20:33:56.881134Z"
    }
   },
   "outputs": [
    {
     "data": {
      "text/html": [
       "<style>#sk-container-id-11 {\n",
       "  /* Definition of color scheme common for light and dark mode */\n",
       "  --sklearn-color-text: black;\n",
       "  --sklearn-color-line: gray;\n",
       "  /* Definition of color scheme for unfitted estimators */\n",
       "  --sklearn-color-unfitted-level-0: #fff5e6;\n",
       "  --sklearn-color-unfitted-level-1: #f6e4d2;\n",
       "  --sklearn-color-unfitted-level-2: #ffe0b3;\n",
       "  --sklearn-color-unfitted-level-3: chocolate;\n",
       "  /* Definition of color scheme for fitted estimators */\n",
       "  --sklearn-color-fitted-level-0: #f0f8ff;\n",
       "  --sklearn-color-fitted-level-1: #d4ebff;\n",
       "  --sklearn-color-fitted-level-2: #b3dbfd;\n",
       "  --sklearn-color-fitted-level-3: cornflowerblue;\n",
       "\n",
       "  /* Specific color for light theme */\n",
       "  --sklearn-color-text-on-default-background: var(--sg-text-color, var(--theme-code-foreground, var(--jp-content-font-color1, black)));\n",
       "  --sklearn-color-background: var(--sg-background-color, var(--theme-background, var(--jp-layout-color0, white)));\n",
       "  --sklearn-color-border-box: var(--sg-text-color, var(--theme-code-foreground, var(--jp-content-font-color1, black)));\n",
       "  --sklearn-color-icon: #696969;\n",
       "\n",
       "  @media (prefers-color-scheme: dark) {\n",
       "    /* Redefinition of color scheme for dark theme */\n",
       "    --sklearn-color-text-on-default-background: var(--sg-text-color, var(--theme-code-foreground, var(--jp-content-font-color1, white)));\n",
       "    --sklearn-color-background: var(--sg-background-color, var(--theme-background, var(--jp-layout-color0, #111)));\n",
       "    --sklearn-color-border-box: var(--sg-text-color, var(--theme-code-foreground, var(--jp-content-font-color1, white)));\n",
       "    --sklearn-color-icon: #878787;\n",
       "  }\n",
       "}\n",
       "\n",
       "#sk-container-id-11 {\n",
       "  color: var(--sklearn-color-text);\n",
       "}\n",
       "\n",
       "#sk-container-id-11 pre {\n",
       "  padding: 0;\n",
       "}\n",
       "\n",
       "#sk-container-id-11 input.sk-hidden--visually {\n",
       "  border: 0;\n",
       "  clip: rect(1px 1px 1px 1px);\n",
       "  clip: rect(1px, 1px, 1px, 1px);\n",
       "  height: 1px;\n",
       "  margin: -1px;\n",
       "  overflow: hidden;\n",
       "  padding: 0;\n",
       "  position: absolute;\n",
       "  width: 1px;\n",
       "}\n",
       "\n",
       "#sk-container-id-11 div.sk-dashed-wrapped {\n",
       "  border: 1px dashed var(--sklearn-color-line);\n",
       "  margin: 0 0.4em 0.5em 0.4em;\n",
       "  box-sizing: border-box;\n",
       "  padding-bottom: 0.4em;\n",
       "  background-color: var(--sklearn-color-background);\n",
       "}\n",
       "\n",
       "#sk-container-id-11 div.sk-container {\n",
       "  /* jupyter's `normalize.less` sets `[hidden] { display: none; }`\n",
       "     but bootstrap.min.css set `[hidden] { display: none !important; }`\n",
       "     so we also need the `!important` here to be able to override the\n",
       "     default hidden behavior on the sphinx rendered scikit-learn.org.\n",
       "     See: https://github.com/scikit-learn/scikit-learn/issues/21755 */\n",
       "  display: inline-block !important;\n",
       "  position: relative;\n",
       "}\n",
       "\n",
       "#sk-container-id-11 div.sk-text-repr-fallback {\n",
       "  display: none;\n",
       "}\n",
       "\n",
       "div.sk-parallel-item,\n",
       "div.sk-serial,\n",
       "div.sk-item {\n",
       "  /* draw centered vertical line to link estimators */\n",
       "  background-image: linear-gradient(var(--sklearn-color-text-on-default-background), var(--sklearn-color-text-on-default-background));\n",
       "  background-size: 2px 100%;\n",
       "  background-repeat: no-repeat;\n",
       "  background-position: center center;\n",
       "}\n",
       "\n",
       "/* Parallel-specific style estimator block */\n",
       "\n",
       "#sk-container-id-11 div.sk-parallel-item::after {\n",
       "  content: \"\";\n",
       "  width: 100%;\n",
       "  border-bottom: 2px solid var(--sklearn-color-text-on-default-background);\n",
       "  flex-grow: 1;\n",
       "}\n",
       "\n",
       "#sk-container-id-11 div.sk-parallel {\n",
       "  display: flex;\n",
       "  align-items: stretch;\n",
       "  justify-content: center;\n",
       "  background-color: var(--sklearn-color-background);\n",
       "  position: relative;\n",
       "}\n",
       "\n",
       "#sk-container-id-11 div.sk-parallel-item {\n",
       "  display: flex;\n",
       "  flex-direction: column;\n",
       "}\n",
       "\n",
       "#sk-container-id-11 div.sk-parallel-item:first-child::after {\n",
       "  align-self: flex-end;\n",
       "  width: 50%;\n",
       "}\n",
       "\n",
       "#sk-container-id-11 div.sk-parallel-item:last-child::after {\n",
       "  align-self: flex-start;\n",
       "  width: 50%;\n",
       "}\n",
       "\n",
       "#sk-container-id-11 div.sk-parallel-item:only-child::after {\n",
       "  width: 0;\n",
       "}\n",
       "\n",
       "/* Serial-specific style estimator block */\n",
       "\n",
       "#sk-container-id-11 div.sk-serial {\n",
       "  display: flex;\n",
       "  flex-direction: column;\n",
       "  align-items: center;\n",
       "  background-color: var(--sklearn-color-background);\n",
       "  padding-right: 1em;\n",
       "  padding-left: 1em;\n",
       "}\n",
       "\n",
       "\n",
       "/* Toggleable style: style used for estimator/Pipeline/ColumnTransformer box that is\n",
       "clickable and can be expanded/collapsed.\n",
       "- Pipeline and ColumnTransformer use this feature and define the default style\n",
       "- Estimators will overwrite some part of the style using the `sk-estimator` class\n",
       "*/\n",
       "\n",
       "/* Pipeline and ColumnTransformer style (default) */\n",
       "\n",
       "#sk-container-id-11 div.sk-toggleable {\n",
       "  /* Default theme specific background. It is overwritten whether we have a\n",
       "  specific estimator or a Pipeline/ColumnTransformer */\n",
       "  background-color: var(--sklearn-color-background);\n",
       "}\n",
       "\n",
       "/* Toggleable label */\n",
       "#sk-container-id-11 label.sk-toggleable__label {\n",
       "  cursor: pointer;\n",
       "  display: block;\n",
       "  width: 100%;\n",
       "  margin-bottom: 0;\n",
       "  padding: 0.5em;\n",
       "  box-sizing: border-box;\n",
       "  text-align: center;\n",
       "}\n",
       "\n",
       "#sk-container-id-11 label.sk-toggleable__label-arrow:before {\n",
       "  /* Arrow on the left of the label */\n",
       "  content: \"▸\";\n",
       "  float: left;\n",
       "  margin-right: 0.25em;\n",
       "  color: var(--sklearn-color-icon);\n",
       "}\n",
       "\n",
       "#sk-container-id-11 label.sk-toggleable__label-arrow:hover:before {\n",
       "  color: var(--sklearn-color-text);\n",
       "}\n",
       "\n",
       "/* Toggleable content - dropdown */\n",
       "\n",
       "#sk-container-id-11 div.sk-toggleable__content {\n",
       "  max-height: 0;\n",
       "  max-width: 0;\n",
       "  overflow: hidden;\n",
       "  text-align: left;\n",
       "  /* unfitted */\n",
       "  background-color: var(--sklearn-color-unfitted-level-0);\n",
       "}\n",
       "\n",
       "#sk-container-id-11 div.sk-toggleable__content.fitted {\n",
       "  /* fitted */\n",
       "  background-color: var(--sklearn-color-fitted-level-0);\n",
       "}\n",
       "\n",
       "#sk-container-id-11 div.sk-toggleable__content pre {\n",
       "  margin: 0.2em;\n",
       "  border-radius: 0.25em;\n",
       "  color: var(--sklearn-color-text);\n",
       "  /* unfitted */\n",
       "  background-color: var(--sklearn-color-unfitted-level-0);\n",
       "}\n",
       "\n",
       "#sk-container-id-11 div.sk-toggleable__content.fitted pre {\n",
       "  /* unfitted */\n",
       "  background-color: var(--sklearn-color-fitted-level-0);\n",
       "}\n",
       "\n",
       "#sk-container-id-11 input.sk-toggleable__control:checked~div.sk-toggleable__content {\n",
       "  /* Expand drop-down */\n",
       "  max-height: 200px;\n",
       "  max-width: 100%;\n",
       "  overflow: auto;\n",
       "}\n",
       "\n",
       "#sk-container-id-11 input.sk-toggleable__control:checked~label.sk-toggleable__label-arrow:before {\n",
       "  content: \"▾\";\n",
       "}\n",
       "\n",
       "/* Pipeline/ColumnTransformer-specific style */\n",
       "\n",
       "#sk-container-id-11 div.sk-label input.sk-toggleable__control:checked~label.sk-toggleable__label {\n",
       "  color: var(--sklearn-color-text);\n",
       "  background-color: var(--sklearn-color-unfitted-level-2);\n",
       "}\n",
       "\n",
       "#sk-container-id-11 div.sk-label.fitted input.sk-toggleable__control:checked~label.sk-toggleable__label {\n",
       "  background-color: var(--sklearn-color-fitted-level-2);\n",
       "}\n",
       "\n",
       "/* Estimator-specific style */\n",
       "\n",
       "/* Colorize estimator box */\n",
       "#sk-container-id-11 div.sk-estimator input.sk-toggleable__control:checked~label.sk-toggleable__label {\n",
       "  /* unfitted */\n",
       "  background-color: var(--sklearn-color-unfitted-level-2);\n",
       "}\n",
       "\n",
       "#sk-container-id-11 div.sk-estimator.fitted input.sk-toggleable__control:checked~label.sk-toggleable__label {\n",
       "  /* fitted */\n",
       "  background-color: var(--sklearn-color-fitted-level-2);\n",
       "}\n",
       "\n",
       "#sk-container-id-11 div.sk-label label.sk-toggleable__label,\n",
       "#sk-container-id-11 div.sk-label label {\n",
       "  /* The background is the default theme color */\n",
       "  color: var(--sklearn-color-text-on-default-background);\n",
       "}\n",
       "\n",
       "/* On hover, darken the color of the background */\n",
       "#sk-container-id-11 div.sk-label:hover label.sk-toggleable__label {\n",
       "  color: var(--sklearn-color-text);\n",
       "  background-color: var(--sklearn-color-unfitted-level-2);\n",
       "}\n",
       "\n",
       "/* Label box, darken color on hover, fitted */\n",
       "#sk-container-id-11 div.sk-label.fitted:hover label.sk-toggleable__label.fitted {\n",
       "  color: var(--sklearn-color-text);\n",
       "  background-color: var(--sklearn-color-fitted-level-2);\n",
       "}\n",
       "\n",
       "/* Estimator label */\n",
       "\n",
       "#sk-container-id-11 div.sk-label label {\n",
       "  font-family: monospace;\n",
       "  font-weight: bold;\n",
       "  display: inline-block;\n",
       "  line-height: 1.2em;\n",
       "}\n",
       "\n",
       "#sk-container-id-11 div.sk-label-container {\n",
       "  text-align: center;\n",
       "}\n",
       "\n",
       "/* Estimator-specific */\n",
       "#sk-container-id-11 div.sk-estimator {\n",
       "  font-family: monospace;\n",
       "  border: 1px dotted var(--sklearn-color-border-box);\n",
       "  border-radius: 0.25em;\n",
       "  box-sizing: border-box;\n",
       "  margin-bottom: 0.5em;\n",
       "  /* unfitted */\n",
       "  background-color: var(--sklearn-color-unfitted-level-0);\n",
       "}\n",
       "\n",
       "#sk-container-id-11 div.sk-estimator.fitted {\n",
       "  /* fitted */\n",
       "  background-color: var(--sklearn-color-fitted-level-0);\n",
       "}\n",
       "\n",
       "/* on hover */\n",
       "#sk-container-id-11 div.sk-estimator:hover {\n",
       "  /* unfitted */\n",
       "  background-color: var(--sklearn-color-unfitted-level-2);\n",
       "}\n",
       "\n",
       "#sk-container-id-11 div.sk-estimator.fitted:hover {\n",
       "  /* fitted */\n",
       "  background-color: var(--sklearn-color-fitted-level-2);\n",
       "}\n",
       "\n",
       "/* Specification for estimator info (e.g. \"i\" and \"?\") */\n",
       "\n",
       "/* Common style for \"i\" and \"?\" */\n",
       "\n",
       ".sk-estimator-doc-link,\n",
       "a:link.sk-estimator-doc-link,\n",
       "a:visited.sk-estimator-doc-link {\n",
       "  float: right;\n",
       "  font-size: smaller;\n",
       "  line-height: 1em;\n",
       "  font-family: monospace;\n",
       "  background-color: var(--sklearn-color-background);\n",
       "  border-radius: 1em;\n",
       "  height: 1em;\n",
       "  width: 1em;\n",
       "  text-decoration: none !important;\n",
       "  margin-left: 1ex;\n",
       "  /* unfitted */\n",
       "  border: var(--sklearn-color-unfitted-level-1) 1pt solid;\n",
       "  color: var(--sklearn-color-unfitted-level-1);\n",
       "}\n",
       "\n",
       ".sk-estimator-doc-link.fitted,\n",
       "a:link.sk-estimator-doc-link.fitted,\n",
       "a:visited.sk-estimator-doc-link.fitted {\n",
       "  /* fitted */\n",
       "  border: var(--sklearn-color-fitted-level-1) 1pt solid;\n",
       "  color: var(--sklearn-color-fitted-level-1);\n",
       "}\n",
       "\n",
       "/* On hover */\n",
       "div.sk-estimator:hover .sk-estimator-doc-link:hover,\n",
       ".sk-estimator-doc-link:hover,\n",
       "div.sk-label-container:hover .sk-estimator-doc-link:hover,\n",
       ".sk-estimator-doc-link:hover {\n",
       "  /* unfitted */\n",
       "  background-color: var(--sklearn-color-unfitted-level-3);\n",
       "  color: var(--sklearn-color-background);\n",
       "  text-decoration: none;\n",
       "}\n",
       "\n",
       "div.sk-estimator.fitted:hover .sk-estimator-doc-link.fitted:hover,\n",
       ".sk-estimator-doc-link.fitted:hover,\n",
       "div.sk-label-container:hover .sk-estimator-doc-link.fitted:hover,\n",
       ".sk-estimator-doc-link.fitted:hover {\n",
       "  /* fitted */\n",
       "  background-color: var(--sklearn-color-fitted-level-3);\n",
       "  color: var(--sklearn-color-background);\n",
       "  text-decoration: none;\n",
       "}\n",
       "\n",
       "/* Span, style for the box shown on hovering the info icon */\n",
       ".sk-estimator-doc-link span {\n",
       "  display: none;\n",
       "  z-index: 9999;\n",
       "  position: relative;\n",
       "  font-weight: normal;\n",
       "  right: .2ex;\n",
       "  padding: .5ex;\n",
       "  margin: .5ex;\n",
       "  width: min-content;\n",
       "  min-width: 20ex;\n",
       "  max-width: 50ex;\n",
       "  color: var(--sklearn-color-text);\n",
       "  box-shadow: 2pt 2pt 4pt #999;\n",
       "  /* unfitted */\n",
       "  background: var(--sklearn-color-unfitted-level-0);\n",
       "  border: .5pt solid var(--sklearn-color-unfitted-level-3);\n",
       "}\n",
       "\n",
       ".sk-estimator-doc-link.fitted span {\n",
       "  /* fitted */\n",
       "  background: var(--sklearn-color-fitted-level-0);\n",
       "  border: var(--sklearn-color-fitted-level-3);\n",
       "}\n",
       "\n",
       ".sk-estimator-doc-link:hover span {\n",
       "  display: block;\n",
       "}\n",
       "\n",
       "/* \"?\"-specific style due to the `<a>` HTML tag */\n",
       "\n",
       "#sk-container-id-11 a.estimator_doc_link {\n",
       "  float: right;\n",
       "  font-size: 1rem;\n",
       "  line-height: 1em;\n",
       "  font-family: monospace;\n",
       "  background-color: var(--sklearn-color-background);\n",
       "  border-radius: 1rem;\n",
       "  height: 1rem;\n",
       "  width: 1rem;\n",
       "  text-decoration: none;\n",
       "  /* unfitted */\n",
       "  color: var(--sklearn-color-unfitted-level-1);\n",
       "  border: var(--sklearn-color-unfitted-level-1) 1pt solid;\n",
       "}\n",
       "\n",
       "#sk-container-id-11 a.estimator_doc_link.fitted {\n",
       "  /* fitted */\n",
       "  border: var(--sklearn-color-fitted-level-1) 1pt solid;\n",
       "  color: var(--sklearn-color-fitted-level-1);\n",
       "}\n",
       "\n",
       "/* On hover */\n",
       "#sk-container-id-11 a.estimator_doc_link:hover {\n",
       "  /* unfitted */\n",
       "  background-color: var(--sklearn-color-unfitted-level-3);\n",
       "  color: var(--sklearn-color-background);\n",
       "  text-decoration: none;\n",
       "}\n",
       "\n",
       "#sk-container-id-11 a.estimator_doc_link.fitted:hover {\n",
       "  /* fitted */\n",
       "  background-color: var(--sklearn-color-fitted-level-3);\n",
       "}\n",
       "</style><div id=\"sk-container-id-11\" class=\"sk-top-container\"><div class=\"sk-text-repr-fallback\"><pre>GridSearchCV(cv=5, estimator=KNeighborsClassifier(), n_jobs=4,\n",
       "             param_grid={&#x27;metric&#x27;: [&#x27;minkowski&#x27;],\n",
       "                         &#x27;n_neighbors&#x27;: [57, 69, 81, 90], &#x27;p&#x27;: [2],\n",
       "                         &#x27;weights&#x27;: [&#x27;distance&#x27;]},\n",
       "             scoring=&#x27;roc_auc&#x27;, verbose=1)</pre><b>In a Jupyter environment, please rerun this cell to show the HTML representation or trust the notebook. <br />On GitHub, the HTML representation is unable to render, please try loading this page with nbviewer.org.</b></div><div class=\"sk-container\" hidden><div class=\"sk-item sk-dashed-wrapped\"><div class=\"sk-label-container\"><div class=\"sk-label fitted sk-toggleable\"><input class=\"sk-toggleable__control sk-hidden--visually\" id=\"sk-estimator-id-23\" type=\"checkbox\" ><label for=\"sk-estimator-id-23\" class=\"sk-toggleable__label fitted sk-toggleable__label-arrow fitted\">&nbsp;&nbsp;GridSearchCV<a class=\"sk-estimator-doc-link fitted\" rel=\"noreferrer\" target=\"_blank\" href=\"https://scikit-learn.org/1.4/modules/generated/sklearn.model_selection.GridSearchCV.html\">?<span>Documentation for GridSearchCV</span></a><span class=\"sk-estimator-doc-link fitted\">i<span>Fitted</span></span></label><div class=\"sk-toggleable__content fitted\"><pre>GridSearchCV(cv=5, estimator=KNeighborsClassifier(), n_jobs=4,\n",
       "             param_grid={&#x27;metric&#x27;: [&#x27;minkowski&#x27;],\n",
       "                         &#x27;n_neighbors&#x27;: [57, 69, 81, 90], &#x27;p&#x27;: [2],\n",
       "                         &#x27;weights&#x27;: [&#x27;distance&#x27;]},\n",
       "             scoring=&#x27;roc_auc&#x27;, verbose=1)</pre></div> </div></div><div class=\"sk-parallel\"><div class=\"sk-parallel-item\"><div class=\"sk-item\"><div class=\"sk-label-container\"><div class=\"sk-label fitted sk-toggleable\"><input class=\"sk-toggleable__control sk-hidden--visually\" id=\"sk-estimator-id-24\" type=\"checkbox\" ><label for=\"sk-estimator-id-24\" class=\"sk-toggleable__label fitted sk-toggleable__label-arrow fitted\">estimator: KNeighborsClassifier</label><div class=\"sk-toggleable__content fitted\"><pre>KNeighborsClassifier()</pre></div> </div></div><div class=\"sk-serial\"><div class=\"sk-item\"><div class=\"sk-estimator fitted sk-toggleable\"><input class=\"sk-toggleable__control sk-hidden--visually\" id=\"sk-estimator-id-25\" type=\"checkbox\" ><label for=\"sk-estimator-id-25\" class=\"sk-toggleable__label fitted sk-toggleable__label-arrow fitted\">&nbsp;KNeighborsClassifier<a class=\"sk-estimator-doc-link fitted\" rel=\"noreferrer\" target=\"_blank\" href=\"https://scikit-learn.org/1.4/modules/generated/sklearn.neighbors.KNeighborsClassifier.html\">?<span>Documentation for KNeighborsClassifier</span></a></label><div class=\"sk-toggleable__content fitted\"><pre>KNeighborsClassifier()</pre></div> </div></div></div></div></div></div></div></div></div>"
      ],
      "text/plain": [
       "GridSearchCV(cv=5, estimator=KNeighborsClassifier(), n_jobs=4,\n",
       "             param_grid={'metric': ['minkowski'],\n",
       "                         'n_neighbors': [57, 69, 81, 90], 'p': [2],\n",
       "                         'weights': ['distance']},\n",
       "             scoring='roc_auc', verbose=1)"
      ]
     },
     "execution_count": 304,
     "metadata": {},
     "output_type": "execute_result"
    },
    {
     "name": "stdout",
     "output_type": "stream",
     "text": [
      "best_estimator_  :   KNeighborsClassifier(n_neighbors=90, weights='distance')\n"
     ]
    }
   ],
   "source": [
    "knn_estimators = load_from_pickle('', FILENAME)\n",
    "knn_estimators\n",
    "# print(f\"parameters   :\")\n",
    "# pp.pprint(knn_estimators.get_params())\n",
    "# print()\n",
    "print(f\"best_estimator_  :   {knn_estimators.best_estimator_}\")\n",
    " "
   ]
  },
  {
   "cell_type": "code",
   "execution_count": 307,
   "id": "79bf420f-d8cd-44a3-b3c0-026d7c9d0699",
   "metadata": {
    "execution": {
     "iopub.execute_input": "2024-08-02T20:36:12.249096Z",
     "iopub.status.busy": "2024-08-02T20:36:12.248652Z",
     "iopub.status.idle": "2024-08-02T20:36:43.619000Z",
     "shell.execute_reply": "2024-08-02T20:36:43.617995Z",
     "shell.execute_reply.started": "2024-08-02T20:36:12.249062Z"
    }
   },
   "outputs": [
    {
     "data": {
      "text/plain": [
       "(34542,)"
      ]
     },
     "execution_count": 307,
     "metadata": {},
     "output_type": "execute_result"
    }
   ],
   "source": [
    "y_pred = knn_estimators.best_estimator_.predict(test_X)\n",
    "y_pred.shape"
   ]
  },
  {
   "cell_type": "code",
   "execution_count": 309,
   "id": "ae5837b0-4196-4c7a-aff7-68c745ff8ee9",
   "metadata": {
    "execution": {
     "iopub.execute_input": "2024-08-02T20:36:49.022657Z",
     "iopub.status.busy": "2024-08-02T20:36:49.022092Z",
     "iopub.status.idle": "2024-08-02T20:36:49.077912Z",
     "shell.execute_reply": "2024-08-02T20:36:49.077011Z",
     "shell.execute_reply.started": "2024-08-02T20:36:49.022614Z"
    }
   },
   "outputs": [
    {
     "name": "stdout",
     "output_type": "stream",
     "text": [
      " Ground Truth\n",
      " Total samples:  34,542\n",
      " Label 0:  30,378      % 87.95 \n",
      " Label 1:   4,164      % 12.05 \n",
      "\n",
      " Predictions\n",
      " Total samples:  34,542\n",
      " Label 0:  34,532      % 99.97 \n",
      " Label 1:      10      % 0.03 \n",
      "\n"
     ]
    }
   ],
   "source": [
    "for grp_name, labels in [(\"Ground Truth\", test_y), (\"Predictions\", y_pred)]:\n",
    "    bcnt = np.bincount(labels.astype(np.int64))\n",
    "    print(f\" {grp_name}\")\n",
    "    print(f\" Total samples: {bcnt.sum():7,d}\")\n",
    "    print(f\" Label 0: {bcnt[0]:7,d}      % {bcnt[0]*100/bcnt.sum():2.2f} \")\n",
    "    print(f\" Label 1: {bcnt[1]:7,d}      % {bcnt[1]*100/bcnt.sum():2.2f} \")\n",
    "    print(\"\")"
   ]
  },
  {
   "cell_type": "code",
   "execution_count": 311,
   "id": "b4fac75b-958f-4817-a3a6-e1d846df7cea",
   "metadata": {
    "execution": {
     "iopub.execute_input": "2024-08-02T20:37:01.495851Z",
     "iopub.status.busy": "2024-08-02T20:37:01.495336Z",
     "iopub.status.idle": "2024-08-02T20:37:01.552593Z",
     "shell.execute_reply": "2024-08-02T20:37:01.551884Z",
     "shell.execute_reply.started": "2024-08-02T20:37:01.495808Z"
    }
   },
   "outputs": [
    {
     "name": "stdout",
     "output_type": "stream",
     "text": [
      " Test Accuracy: 0.879567\n",
      " Precision: 0.70000     Recall: 0.00168     F1: 0.00335 \n",
      " True + labels: 4164.0  Predicted + labels: 10.0     Match: 30382 \n"
     ]
    }
   ],
   "source": [
    "test_accuracy = skm.accuracy_score(test_y, y_pred)\n",
    "precision, recall, f1, support = skm.precision_recall_fscore_support(test_y, y_pred, average='binary', zero_division=0)\n",
    "\n",
    "print(f\" Test Accuracy: {test_accuracy:4f}\")\n",
    "print(f\" Precision: {precision:.5f}     Recall: {recall:.5f}     F1: {f1:.5f} \"\n",
    "      f\"\\n True + labels: {test_y.sum()}  Predicted + labels: {y_pred.sum()}     Match: {(y_pred == test_y).sum()} \" )"
   ]
  },
  {
   "cell_type": "code",
   "execution_count": 313,
   "id": "090f4baa-f8ee-43d8-bde4-e5e27720df41",
   "metadata": {
    "execution": {
     "iopub.execute_input": "2024-08-02T20:39:00.208593Z",
     "iopub.status.busy": "2024-08-02T20:39:00.208111Z",
     "iopub.status.idle": "2024-08-02T20:43:09.549589Z",
     "shell.execute_reply": "2024-08-02T20:43:09.548720Z",
     "shell.execute_reply.started": "2024-08-02T20:39:00.208552Z"
    }
   },
   "outputs": [
    {
     "data": {
      "image/png": "[encoded data removed]",
      "text/plain": [
       "<Figure size 1000x500 with 2 Axes>"
      ]
     },
     "metadata": {},
     "output_type": "display_data"
    }
   ],
   "source": [
    "rows = 1\n",
    "cols=2\n",
    "fig, axs = plt.subplots(1, 2, sharey=False, tight_layout=True, figsize=(cols *5,5) )\n",
    "_ = skm.PrecisionRecallDisplay.from_estimator(vt_svm.best_estimator_, test_X, test_y, plot_chance_level = True, ax = axs[0])\n",
    "_ = skm.RocCurveDisplay.from_estimator(vt_svm.best_estimator_, test_X, test_y, plot_chance_level= True, ax = axs[1])\n",
    "_ = axs[0].set_title(\" Precision / Recall \")\n",
    "_ = axs[1].set_title(\" ROC Curve \")\n",
    "plt.show()"
   ]
  },
  {
   "cell_type": "code",
   "execution_count": 314,
   "id": "9511f3d9-8e8f-4c06-ab7c-869e91943635",
   "metadata": {
    "execution": {
     "iopub.execute_input": "2024-08-02T20:43:09.551555Z",
     "iopub.status.busy": "2024-08-02T20:43:09.551272Z",
     "iopub.status.idle": "2024-08-02T20:43:10.051470Z",
     "shell.execute_reply": "2024-08-02T20:43:10.050736Z",
     "shell.execute_reply.started": "2024-08-02T20:43:09.551531Z"
    }
   },
   "outputs": [
    {
     "data": {
      "image/png": "[encoded data removed]",
      "text/plain": [
       "<Figure size 1000x500 with 2 Axes>"
      ]
     },
     "metadata": {},
     "output_type": "display_data"
    }
   ],
   "source": [
    "rows = 1\n",
    "cols=2\n",
    "fig, axs = plt.subplots(1, 2, sharey=False, tight_layout=True, figsize=(cols *5,5) )\n",
    "_ = skm.PrecisionRecallDisplay.from_predictions(test_y, y_pred, plot_chance_level = True, ax = axs[0])\n",
    "_ = skm.RocCurveDisplay.from_predictions(test_y, y_pred, plot_chance_level= True, ax = axs[1])\n",
    "_ = axs[0].set_title(\" Precision / Recall \")\n",
    "_ = axs[1].set_title(\" ROC Curve \")\n",
    "plt.show()"
   ]
  },
  {
   "cell_type": "markdown",
   "id": "78eb7ec3-40fe-4718-a7b3-b9b33131f18f",
   "metadata": {},
   "source": [
    "# XGBoost Model - Param search using Optuna "
   ]
  },
  {
   "cell_type": "markdown",
   "id": "b28b58e0-211d-492a-85f5-5474fc7c33f5",
   "metadata": {
    "execution": {
     "iopub.execute_input": "2024-02-11T12:53:22.650056Z",
     "iopub.status.busy": "2024-02-11T12:53:22.649626Z",
     "iopub.status.idle": "2024-02-11T12:53:22.690698Z",
     "shell.execute_reply": "2024-02-11T12:53:22.689762Z",
     "shell.execute_reply.started": "2024-02-11T12:53:22.650019Z"
    }
   },
   "source": [
    "  #### Address for optuna dashboard repository:  `sqlite:////home/kevin/WSL-shared/Cellpainting/cj-datasets/optuna_database.db`"
   ]
  },
  {
   "cell_type": "code",
   "execution_count": 33,
   "id": "cb85d03a-145a-4e7a-bd32-f1831e792593",
   "metadata": {
    "execution": {
     "iopub.execute_input": "2024-08-08T04:52:19.866929Z",
     "iopub.status.busy": "2024-08-08T04:52:19.866309Z",
     "iopub.status.idle": "2024-08-08T04:52:19.904719Z",
     "shell.execute_reply": "2024-08-08T04:52:19.904064Z",
     "shell.execute_reply.started": "2024-08-08T04:52:19.866884Z"
    }
   },
   "outputs": [],
   "source": [
    "import sqlite3\n",
    "import optuna\n",
    "from KevinsRoutines.utils.utils_optuna import disp_study_history"
   ]
  },
  {
   "cell_type": "code",
   "execution_count": 34,
   "id": "ae7de3eb-4827-4346-a43a-5e8fa4ac3cfa",
   "metadata": {
    "execution": {
     "iopub.execute_input": "2024-08-08T04:52:20.234719Z",
     "iopub.status.busy": "2024-08-08T04:52:20.234274Z",
     "iopub.status.idle": "2024-08-08T04:52:20.268244Z",
     "shell.execute_reply": "2024-08-08T04:52:20.267733Z",
     "shell.execute_reply.started": "2024-08-08T04:52:20.234677Z"
    }
   },
   "outputs": [],
   "source": [
    "db_path = \"../cj-datasets/optuna_database.db\"\n",
    "storage_url = \"sqlite:///../cj-datasets/optuna_database.db\""
   ]
  },
  {
   "cell_type": "code",
   "execution_count": 35,
   "id": "3fe01f97-57d7-4434-bea4-a8396819463b",
   "metadata": {
    "execution": {
     "iopub.execute_input": "2024-08-08T04:52:21.166902Z",
     "iopub.status.busy": "2024-08-08T04:52:21.166285Z",
     "iopub.status.idle": "2024-08-08T04:52:21.378701Z",
     "shell.execute_reply": "2024-08-08T04:52:21.377957Z",
     "shell.execute_reply.started": "2024-08-08T04:52:21.166858Z"
    }
   },
   "outputs": [
    {
     "name": "stderr",
     "output_type": "stream",
     "text": [
      "/tmp/ipykernel_3152734/1677463186.py:9: ExperimentalWarning: RetryFailedTrialCallback is experimental (supported from v2.8.0). The interface can change in the future.\n",
      "  failed_trial_callback=RetryFailedTrialCallback(max_retry=3),\n"
     ]
    }
   ],
   "source": [
    "## https://optuna.readthedocs.io/en/stable/reference/generated/optuna.storages.RetryFailedTrialCallback.html\n",
    "#\n",
    "from optuna.storages import RetryFailedTrialCallback\n",
    "#\n",
    "optuna_storage = optuna.storages.RDBStorage(\n",
    "    url=storage_url, \n",
    "    heartbeat_interval=60,\n",
    "    grace_period=120,\n",
    "    failed_trial_callback=RetryFailedTrialCallback(max_retry=3),\n",
    ")"
   ]
  },
  {
   "cell_type": "code",
   "execution_count": 36,
   "id": "562d7301-16da-4f14-9e21-eff844ca0cb3",
   "metadata": {
    "execution": {
     "iopub.execute_input": "2024-08-08T04:52:22.844808Z",
     "iopub.status.busy": "2024-08-08T04:52:22.844309Z",
     "iopub.status.idle": "2024-08-08T04:52:22.887948Z",
     "shell.execute_reply": "2024-08-08T04:52:22.887302Z",
     "shell.execute_reply.started": "2024-08-08T04:52:22.844764Z"
    }
   },
   "outputs": [
    {
     "data": {
      "text/plain": [
       "[{'study_id': 2, 'study_name': 'multiobjective-study-1'},\n",
       " {'study_id': 3, 'study_name': 'multiobjective-study-2'},\n",
       " {'study_id': 4, 'study_name': 'multiobjective-study-3'},\n",
       " {'study_id': 6, 'study_name': 'classification-study-Apr24'},\n",
       " {'study_id': 7, 'study_name': 'classification-3SampleStudy-Apr24'},\n",
       " {'study_id': 8, 'study_name': 'classification-study-1'},\n",
       " {'study_id': 9, 'study_name': 'embd_cls_XGB_base_bal_1:1'}]"
      ]
     },
     "execution_count": 36,
     "metadata": {},
     "output_type": "execute_result"
    }
   ],
   "source": [
    "with sqlite3.connect(db_path) as conn:\n",
    "    conn.row_factory = sqlite3.Row\n",
    "    results = conn.execute(\"SELECT * FROM studies ;\").fetchall()\n",
    "    db_studies = [dict(r) for r in results]\n",
    "    db_studies\n",
    "# study_name = db_studies[-2]['study_name'] \n"
   ]
  },
  {
   "cell_type": "code",
   "execution_count": 37,
   "id": "0f7e3483-9521-45e9-b6e0-2fb9bf0e9c85",
   "metadata": {
    "execution": {
     "iopub.execute_input": "2024-08-08T04:52:24.442751Z",
     "iopub.status.busy": "2024-08-08T04:52:24.442199Z",
     "iopub.status.idle": "2024-08-08T04:52:24.496146Z",
     "shell.execute_reply": "2024-08-08T04:52:24.495273Z",
     "shell.execute_reply.started": "2024-08-08T04:52:24.442708Z"
    },
    "lines_to_next_cell": 2
   },
   "outputs": [
    {
     "name": "stderr",
     "output_type": "stream",
     "text": [
      "[I 2024-08-08 06:52:24,482] Using an existing study with name 'embd_cls_XGB_base_bal_1:1' instead of creating a new one.\n",
      "/tmp/ipykernel_3152734/607818156.py:18: ExperimentalWarning: set_metric_names is experimental (supported from v3.2.0). The interface can change in the future.\n",
      "  study.set_metric_names([\"roc_auc\", \"logloss\"])\n"
     ]
    }
   ],
   "source": [
    "# optuna.\n",
    "# delete_study(study_name = 'embd_cls_XGB_base_imbal', storage=optuna_storage)\n",
    "# resp = input(f\" Delete study {study_name} ?\")\n",
    "# if resp.lower() in ['yes' ,'y']:\n",
    "#     print(' You responsed yes')\n",
    "#     try:\n",
    "#         optuna.delete_study(storage=optuna_storage, study_name=study_name)\n",
    "#         print(\"delete successful\")\n",
    "#     except Exception as e:\n",
    "#         print(\"delete failed\")\n",
    "# else:\n",
    "#     print(f\" {study_name} will be kept\")\n",
    "study_name = 'embd_cls_XGB_base_bal_1:1'\n",
    "study = optuna.create_study(storage=optuna_storage,\n",
    "                            study_name=study_name,\n",
    "                            directions=[\"maximize\",\"minimize\"], \n",
    "                            load_if_exists=True)\n",
    "study.set_metric_names([\"roc_auc\", \"logloss\"])"
   ]
  },
  {
   "cell_type": "code",
   "execution_count": 38,
   "id": "e6132fe8-bb7a-4ac3-8e78-e994a37f7560",
   "metadata": {
    "execution": {
     "iopub.execute_input": "2024-08-08T04:52:25.686010Z",
     "iopub.status.busy": "2024-08-08T04:52:25.685588Z",
     "iopub.status.idle": "2024-08-08T04:52:25.759376Z",
     "shell.execute_reply": "2024-08-08T04:52:25.758600Z",
     "shell.execute_reply.started": "2024-08-08T04:52:25.685970Z"
    }
   },
   "outputs": [
    {
     "name": "stdout",
     "output_type": "stream",
     "text": [
      " embd_cls_XGB_base_bal_1:1  study history\n",
      "\n",
      "                start     -   completion      status        validation metrics*\n",
      " trial#         time      -      time          code      roc_auc        logloss\n",
      "--------------------------------------------------------------------------------\n",
      "Trial #: 0    2024-08-08   01:22:12 - 01:22:12    3          *** FAILED ***        \n",
      "Trial #: 1    2024-08-08   01:23:02 - 01:23:03    3          *** FAILED ***        \n",
      "Trial #: 2    2024-08-08   01:24:19 - 01:25:02    3          *** FAILED ***        \n",
      "Trial #: 3    2024-08-08   01:26:24 - 01:27:08    3          *** FAILED ***        \n",
      "Trial #: 4    2024-08-08   01:28:20 - 01:29:04    3          *** FAILED ***        \n",
      "Trial #: 5    2024-08-08   01:37:29 - 01:40:21    3          *** FAILED ***        \n",
      "Trial #: 6    2024-08-08   01:56:32 - 01:57:24    3          *** FAILED ***        \n",
      " *** end of trials *** \n",
      " Best trials:  []\n"
     ]
    }
   ],
   "source": [
    "# study_name = 'embd_cls_XGB_base_imbal'\n",
    "study_name = 'embd_cls_XGB_base_bal_1:1'\n",
    "study  = optuna.load_study(study_name= study_name , storage=optuna_storage)\n",
    "\n",
    "\n",
    "disp_study_history(study)"
   ]
  },
  {
   "cell_type": "code",
   "execution_count": 44,
   "id": "28986586-e5b3-4169-bda0-4a4b9d8cbe69",
   "metadata": {
    "execution": {
     "iopub.execute_input": "2024-08-08T04:53:17.531719Z",
     "iopub.status.busy": "2024-08-08T04:53:17.531232Z",
     "iopub.status.idle": "2024-08-08T04:53:17.575395Z",
     "shell.execute_reply": "2024-08-08T04:53:17.574672Z",
     "shell.execute_reply.started": "2024-08-08T04:53:17.531677Z"
    }
   },
   "outputs": [],
   "source": [
    "def propose_parameters(trial, objective, eval_metric):\n",
    "    _params = {\n",
    "    ## General Parameters\n",
    "    ## --------------------------------------------------------------            \n",
    "    \"verbosity\"          : 0,\n",
    "    # \"objective\"        :  \"reg:squarederror\",\n",
    "    \"objective\"          :  objective,\n",
    "    \"eval_metric\"        :  eval_metric,\n",
    "    \"booster\"            :  \"gbtree\",   ## trial.suggest_categorical(\"booster\", [\"gbtree\", \"gblinear\", \"dart\"]),\n",
    "    \n",
    "    ## Device     choices: 'cpu' . . . .\n",
    "    \"device\"          : \"gpu\", \n",
    "    \n",
    "    ## \"validate_parameters\" [default: True]\n",
    "    \n",
    "    ## nthread [default to maximum number of threads available if not set]\n",
    "    ##                   Number of parallel threads used to run XGBoost. When choosing it, please keep thread contention\n",
    "    ##                  and hyperthreading in mind.\n",
    "    \n",
    "    ## disable_default_eval_metric [default= false]  Flag to disable default metric. Set to 1 or true to disable.\n",
    "    \"n_estimators\"     : trial.suggest_int(\"n_estimators\", 50, 350, step = 100),\n",
    "    \n",
    "    ## Parameters for Tree Booster\n",
    "    ## --------------------------------------------------------------\n",
    "    \n",
    "    ## tree_method:      [default=\"auto\"] The tree construction algorithm used in XGBoost. \n",
    "    ##                   Choices: \"auto\", \"exact\", \"approx\", \"hist\", this is a combination of commonly used updaters. For other updaters like refresh, set the parameter updater directly.\n",
    "    ##                             auto: Same as the hist tree method.\n",
    "    ##                             exact: Exact greedy algorithm. Enumerates all split candidates.\n",
    "    ##                             approx: Approximate greedy algorithm using quantile sketch and gradient histogram.\n",
    "    ##                             hist: Faster histogram optimized approximate greedy algorithm.        \n",
    "    \"tree_method\"        : \"auto\",\n",
    "    \n",
    "    ## ETA / learning_rate default =0.3 Step size shrinkage used in update to prevents overfitting. \n",
    "    ## After each boosting step, we can directly get the weights of new features, and eta shrinks the feature weights to make the boosting process more conservative.\n",
    "    \n",
    "    \"learning_rate\"    : trial.suggest_float(\"learning_rate\", 0.001, 1000, log=True, step = None),\n",
    "    # \"learning_rate\"    : trial.suggest_float(\"learning_rate\", 0.0000001, 1, log=True, step = None),\n",
    "    \n",
    "     ## GAMMA / min_split_loss: Default=0. Minimum loss reduction required to make a further partition on a leaf node of the tree. \n",
    "    ##                    The larger gamma is, the more conservative the algorithm will be.\n",
    "    ##                    range: [0, Inf) \n",
    "    # \"min_split_loss\"   : trial.suggest_float(\"min_split_loss\", 0, 10),\n",
    "    \"gamma\"            : trial.suggest_float(\"min_split_loss\", 0, 10),\n",
    "    \n",
    "    ## max_depth:  [Default=6] Maximum depth of a tree. Increasing this value will make the model more complex and more likely to overfit. \n",
    "    ##             0 indicates no limit on depth. Beware that XGBoost aggressively consumes memory when training a deep tree. \n",
    "    ##             exact tree method requires non-zero value. \n",
    "    \"max_depth\"        : trial.suggest_int(\"max_depth\", 1, 15),\n",
    "    \n",
    "    ## min_child_weight:  [default=1] Minimum sum of instance weight (hessian) needed in a child. \n",
    "    ##                    If the tree partition step results in a leaf node with the sum of instance weight less than min_child_weight, \n",
    "    ##                    then the building process will give up further partitioning. In linear regression task, this simply corresponds\n",
    "    ##                    to minimum number of instances needed to be in each node. \n",
    "    ##                    The larger min_child_weight is, the more conservative the algorithm will be.\n",
    "    ##                    range: [0,∞]        \n",
    "    \"min_child_weight\"   : trial.suggest_float(\"min_child_weight\", 0, 10),\n",
    "    \n",
    "    ## max_delta_step:    [default=0] Maximum delta step we allow each leaf output to be. \n",
    "    ##                    If the value is set to 0, it means there is no constraint. If it is set to a positive value, it can help making \n",
    "    ##                    the update step more conservative. Usually this parameter is not needed, but it might help in logistic regression \n",
    "    ##                    when class is extremely imbalanced. Set it to value of 1-10 might help control the update.\n",
    "    ##                    range: [0,∞]        \n",
    "    \"max_delta_step\"   : trial.suggest_float(\"max_delta_step\", 0, 10),\n",
    "    \n",
    "    ## subsample [default=1]: Subsample ratio of the training instances. Setting it to 0.5 means that XGBoost would randomly sample half\n",
    "    ##                       of the training data prior to growing trees. and this will prevent overfitting. Subsampling will occur once \n",
    "    ##                      in every boosting iteration.\n",
    "    ##                      range: (0,1]\n",
    "    \"subsample\"         : trial.suggest_float(\"subsample\", 0.4, 1.0),\n",
    "    \n",
    "    ## sampling_method:  [default= uniform] The method to use to sample the training instances.\n",
    "    ##              \"uniform\": each training instance has an equal probability of being selected. Typically set subsample >= 0.5 for good results.\n",
    "    ##              \"gradient_based\": the selection probability for each training instance is proportional to the regularized absolute value of gradients \n",
    "    ##              (more specifically, SQRT(g^2 + lambda*h^2). subsample may be set to as low as 0.1 without loss of model accuracy. \n",
    "    ##              Note that this sampling method is only supported when tree_method is set to hist and the device is cuda; \n",
    "    ##              other tree methods only support uniform sampling.        \n",
    "    \"sampling_method\"   : \"uniform\",\n",
    "    \n",
    "    ## NOTE:  All colsample_by* parameters have a range of (0, 1], the default value of 1\n",
    "    ##        and specify the fraction of columns to be subsampled.\n",
    "    \n",
    "    ## colsample_bytree;  [default=1] is the subsample ratio of columns when constructing each tree. \n",
    "    ##                    Subsampling occurs once for every tree constructed.\n",
    "    \"colsample_bytree\" : 1.0, ## trial.suggest_float(\"colsample_bytree\", 0.5, 1),\n",
    "    \n",
    "    ## colsample_bylevel: [default=1] is the subsample ratio of columns for each level. Subsampling occurs once for every new depth level reached in a tree. \n",
    "    ##                    Columns are subsampled from the set of columns chosen for the current tree.\n",
    "    \"colsample_bylevel\": trial.suggest_float(\"colsample_bylevel\", 0.5, 1),\n",
    "    \n",
    "    ## colsample_bynode:  [default=1] the subsample ratio of columns for each node (split). Subsampling occurs once every time a new split is evaluated. \n",
    "    ##                    Columns are subsampled from the set of columns chosen for the current level.\n",
    "    \"colsample_bynode\" : trial.suggest_float(\"colsample_bynode\", 0.5, 1),\n",
    "    \n",
    "    # lambda [default=1, alias: reg_lambda]\n",
    "    # L2 regularization term on weights. Increasing this value will make model more conservative.\n",
    "    # range: [0, ∞]\n",
    "    \"lambda\"           : 1,\n",
    "    \n",
    "    # alpha [default=0, alias: reg_alpha]\n",
    "    # L1 regularization term on weights. Increasing this value will make model more conservative.        \n",
    "    # range: [0, ∞]\n",
    "    # \"alpha\"           : 0 \n",
    "    \n",
    "    ## scale_pos_weight [default=1] Control the balance of positive and negative weights, useful for unbalanced classes. \n",
    "    ##                 A typical value to consider: sum(negative instances) / sum(positive instances)        \n",
    "    \"scale_pos_weight\" : 1,\n",
    "            \n",
    "    # tree_method string [default= auto] The tree construction algorithm used in XGBoost. See description in the reference paper and Tree Methods.\n",
    "    #                  Choices: auto, exact, approx, hist, this is a combination of commonly used updaters. \n",
    "    #                           For other updaters like refresh, set the parameter updater directly.\n",
    "    #                  auto:   Same as the hist tree method.\n",
    "    #                  exact:  Exact greedy algorithm. Enumerates all split candidates`.\n",
    "    #                  approx: Approximate greedy algorithm using quantile sketch and gradient histogram.\n",
    "    #                  hist:   Faster histogram optimized approximate greedy algorithm.\n",
    "    \n",
    "    # updater\n",
    "    # refresh_leaf [default=1]\n",
    "    # process_type [default= default]\n",
    "    \n",
    "    # grow_policy [default= depthwise]\n",
    "    \n",
    "    # max_leaves [default=0] Maximum number of nodes to be added. Not used by exact tree method.\n",
    "    \"max_leaves\"       : trial.suggest_int(\"max_leaves\", 0, 6),\n",
    "    # \"max_leaves\"       : 0, \n",
    "    \n",
    "    # max_bin, [default=256]\n",
    "    \n",
    "    ## num_parallel_tree, [default=1]: Number of parallel trees constructed during each iteration. \n",
    "    ##                    This option is used to support boosted random forest.\n",
    "    \n",
    "    ## multi_strategy, [default = one_output_per_tree]\n",
    "    ## max_cached_hist_node, [default = 65536]\n",
    "    \n",
    "    ## --------------------------------------------------------------\n",
    "    ## Parameters for Categorical Features\n",
    "    ## --------------------------------------------------------------\n",
    "    ## These parameters are only used for training with categorical data. See Categorical Data for more information.\n",
    "    ## Note: These parameters are experimental. exact tree method is not yet supported.\n",
    "    ##\n",
    "    ## max_cat_to_onehot:   A threshold for deciding whether XGBoost should use one-hot encoding based split for categorical data. \n",
    "    ##                      When number of categories is lesser than the threshold then one-hot encoding is chosen, otherwise the \n",
    "    ##                      categories will be partitioned into children nodes.\n",
    "    ##                      New in version 1.6.0.\n",
    "    # \"max_cat_to_onehot\": trial.suggest_int(\"max_cat_to_onehot\", 1, 10),\n",
    "    \n",
    "    ## max_cat_threshold:  Maximum number of categories considered for each split. Used only by partition-based splits for preventing over-fitting.        \n",
    "    ##                     New in version 1.7.0.\n",
    "    \n",
    "    \n",
    "    ## --------------------------------------------------------------\n",
    "    ## Learning Task Parameters\n",
    "    ## --------------------------------------------------------------        \n",
    "    \n",
    "    \n",
    "    \n",
    "    ## SET STATIC ###############################################################################\n",
    "    \n",
    "    ## lambda [default=1, alias: reg_lambda]  L2 regularization term on weights. Increasing this value will make model more conservative.\n",
    "    ##                    range: [0, Inf) \n",
    "    # \"reg_lambda\"       : trial.suggest_float(\"reg_lambda\", 0, 10),\n",
    "    \"reg_lambda\"       : 3.2267,   \n",
    "    \n",
    "    }    \n",
    "    return _params\n"
   ]
  },
  {
   "cell_type": "code",
   "execution_count": null,
   "id": "4c21fe63-444e-441d-92d6-72718cd65be8",
   "metadata": {},
   "outputs": [],
   "source": []
  },
  {
   "cell_type": "code",
   "execution_count": 70,
   "id": "e4f267c9-d5ca-41bb-b53c-2f43595f7195",
   "metadata": {
    "execution": {
     "iopub.execute_input": "2024-08-08T16:27:59.611031Z",
     "iopub.status.busy": "2024-08-08T16:27:59.610420Z",
     "iopub.status.idle": "2024-08-08T16:27:59.660975Z",
     "shell.execute_reply": "2024-08-08T16:27:59.659937Z",
     "shell.execute_reply.started": "2024-08-08T16:27:59.610988Z"
    }
   },
   "outputs": [],
   "source": [
    "def train_model(iter_files, X,  y , metric_keys = None, eval_keys = None, study_name = \"\", trial_num = 0, save = False, \n",
    "                **model_params):\n",
    "    metrics_hist = defaultdict(list)\n",
    "    my_model = None\n",
    "    \n",
    "    for i, (trn_idxs, val_idxs) in enumerate(iter_files):\n",
    "        logging.info(f\"CrossValidation split #{i}\")\n",
    "        logging.info(f\"Building training & validation DMatrix...\")\n",
    "        X_train, y_train = X[trn_idxs], y[trn_idxs]\n",
    "        X_val, y_val = X[val_idxs], y[val_idxs]\n",
    "        \n",
    "        logging.info(f\"Training model...\")\n",
    "        # booster_model = my_model['booster'] if my_model is not None else None\n",
    "        my_model = xgb.XGBClassifier( nthread = 2, verbose_eval = True,\n",
    "                                      **model_params)\n",
    "        # my_model = xgb.dask.train(None, model_params, d_train, gb_model = booster_model, num_boost_round=1000, evals=[(d_train, \"train\"), (d_val, \"test\")],\n",
    "        #                           verbose_eval=False, early_stopping_rounds = 50 )\n",
    "        my_model.fit(X_train,\n",
    "                y_train,\n",
    "                eval_set=[(X_train, y_train), (X_val, y_val)],\n",
    "                verbose=True,\n",
    "                )\n",
    "        # logging.info(f\"Training model...Completed\")\n",
    "        \n",
    "        logging.info(f\"Running model on test data...\")\n",
    "        y_pred = my_model.predict(X_val)   \n",
    "        y_true = y_val.squeeze()\n",
    "\n",
    "        # Compute predictions and mean squared error for this iteration\n",
    "        logging.info(f\"Calculating metrics...\")\n",
    "        iter_metrics = compute_classification_metrics(my_model, y_true, y_pred, top_k = 2, mode = 'val')\n",
    "        logging.info(f\"Calculating metrics...Completed\")\n",
    "        \n",
    "        print(\"-\" * 80)            \n",
    "        for key in metric_keys:\n",
    "            metrics_hist[key].append(iter_metrics[key])\n",
    "            print(f\" {key:20s}: {iter_metrics[key]:9.5f}\")\n",
    "        print(\"-\" * 80)            \n",
    "        # Load evals result by calling the evals_result() function\n",
    "\n",
    "        del  X_train, y_train, X_val, y_val, y_true, y_pred\n",
    "\n",
    "    ## End of loop  \n",
    "    return my_model, metrics_hist"
   ]
  },
  {
   "cell_type": "code",
   "execution_count": 71,
   "id": "cab1cd45-0598-404c-a746-f14958e562aa",
   "metadata": {
    "execution": {
     "iopub.execute_input": "2024-08-08T16:28:01.098118Z",
     "iopub.status.busy": "2024-08-08T16:28:01.097738Z",
     "iopub.status.idle": "2024-08-08T16:28:01.159949Z",
     "shell.execute_reply": "2024-08-08T16:28:01.158609Z",
     "shell.execute_reply.started": "2024-08-08T16:28:01.098089Z"
    }
   },
   "outputs": [],
   "source": [
    "def objective(trial, disp_params = True, save = True):\n",
    "    eval_keys = [\"train_auc\", \"train_logloss\", \"val_auc\", \"val_logloss\"]\n",
    "    metric_keys = [ \"train_auc\", \"train_logloss\", \"val_auc\", \"val_logloss\", \"roc_auc\", \"logloss\", \"accuracy\",\"bal_acc\",\"top_k_acc\",\"F1_score\",\"map\",\"pearson_corr\"]    \n",
    "    CV_FOLDS = 5\n",
    "    obj = \"binary:logistic\"\n",
    "    eval_metric =[\"auc\", \"logloss\"]\n",
    "    # eval_metric =\"auc\"\n",
    "    \n",
    "    study_params = propose_parameters(trial, obj, eval_metric)   \n",
    "    study_params = {\"booster\"      : \"gbtree\",\n",
    "                    \"device\"       : \"gpu\",\n",
    "                    # \"objective\"    :  \"binary:logistic\",\n",
    "                    # \"eval_metric\"  :  [\"auc\", \"logloss\"],\n",
    "                    \"verbosity\"    : 0, \n",
    "                    \"disable_default_eval_metric\" : False,\n",
    "                    ** study_params}\n",
    "    print('-'*80)\n",
    "    print(f\" Training model (trial #{trial.number}) \")\n",
    "    print('-'*80)\n",
    "\n",
    "    if disp_params:\n",
    "        print(f\" Parameters:\")\n",
    "        for k, v in study_params.items():\n",
    "            print(f\"  {k:30s} {v}\")\n",
    "            \n",
    "    # iter_files = make_cv_splits_2(input_file_list, n_folds=CV_FOLDS, y_columns=y_columns)\n",
    "    sgkf = StratifiedGroupKFold(n_splits = 5,)\n",
    "    iter_files = sgkf.split(X_DATA, Y_DATA, GRP_DATA)\n",
    "    model, metrics =  train_model(iter_files,\n",
    "                                  X = X_DATA, \n",
    "                                  y = Y_DATA, \n",
    "                                  metric_keys = metric_keys, \n",
    "                                  eval_keys = eval_keys,\n",
    "                                  study_name = study.study_name,\n",
    "                                  trial_num = trial.number,\n",
    "                                  save = True,\n",
    "                                  ** study_params)\n",
    "\n",
    "    print_metric_hist(metrics)\n",
    "    model_booster = model.get_booster()\n",
    "    print(f\" model best score    :  {model_booster.best_score}\")\n",
    "    print(f\" model best iteration:  {model_booster.best_iteration}\")\n",
    "    \n",
    "    if save:\n",
    "        save_as_filename = \"./saved_models/{0}_trial_{1:03d}.json\".format(study.study_name,trial.number)\n",
    "        print(f\" Save model to : {save_as_filename}\")\n",
    "        model_booster.save_model(save_as_filename)    \n",
    "\n",
    "    r1 = np.array(metrics['val_auc']).mean()\n",
    "    r2 = np.array(metrics['val_logloss']).mean()\n",
    "    del model, metrics \n",
    "    return r1,r2 "
   ]
  },
  {
   "cell_type": "code",
   "execution_count": 72,
   "id": "d2b6df2f-f60f-49b6-84e7-bb37231b2dcd",
   "metadata": {
    "execution": {
     "iopub.execute_input": "2024-08-08T16:28:02.172797Z",
     "iopub.status.busy": "2024-08-08T16:28:02.172273Z",
     "iopub.status.idle": "2024-08-08T16:28:02.222787Z",
     "shell.execute_reply": "2024-08-08T16:28:02.221608Z",
     "shell.execute_reply.started": "2024-08-08T16:28:02.172756Z"
    }
   },
   "outputs": [],
   "source": [
    "# PARM_SET = xgb_grid_parameters_3\n",
    "# sgkf = StratifiedGroupKFold(n_splits = 5,)\n",
    "# NUM_JOBS = 5\n",
    "# X_DATA, Y_DATA, GRP_DATA = bal_train_X, bal_train_y, bal_grouping_xy\n",
    "X_DATA, Y_DATA, GRP_DATA = train_X, train_y, grouping_xy\n",
    "# CV_SCHEME = sgkf.split(X_DATA, Y_DATA, GRP_DATA)"
   ]
  },
  {
   "cell_type": "markdown",
   "id": "2b0b6954-9719-4c54-a67c-1a03b2249b12",
   "metadata": {},
   "source": [
    "## Run studies"
   ]
  },
  {
   "cell_type": "code",
   "execution_count": 73,
   "id": "b3986553-e00b-41cd-90a4-ab94e4ac66da",
   "metadata": {
    "execution": {
     "iopub.execute_input": "2024-08-08T16:28:02.747834Z",
     "iopub.status.busy": "2024-08-08T16:28:02.747320Z",
     "iopub.status.idle": "2024-08-08T16:28:55.880713Z",
     "shell.execute_reply": "2024-08-08T16:28:55.879346Z",
     "shell.execute_reply.started": "2024-08-08T16:28:02.747789Z"
    },
    "scrolled": true
   },
   "outputs": [
    {
     "data": {
      "application/vnd.jupyter.widget-view+json": {
       "model_id": "d5c0d83a96bf4e6ca7476baa3db10150",
       "version_major": 2,
       "version_minor": 0
      },
      "text/plain": [
       "  0%|          | 0/1 [00:00<?, ?it/s]"
      ]
     },
     "metadata": {},
     "output_type": "display_data"
    },
    {
     "name": "stderr",
     "output_type": "stream",
     "text": [
      "/home/kevin/miniforge3/envs/cp311/lib/python3.11/site-packages/optuna/study/_optimize.py:189: ExperimentalWarning: fail_stale_trials is experimental (supported from v2.9.0). The interface can change in the future.\n",
      "  optuna.storages.fail_stale_trials(study)\n"
     ]
    },
    {
     "name": "stdout",
     "output_type": "stream",
     "text": [
      "--------------------------------------------------------------------------------\n",
      " Training model (trial #15) \n",
      "--------------------------------------------------------------------------------\n",
      " Parameters:\n",
      "  booster                        gbtree\n",
      "  device                         gpu\n",
      "  verbosity                      0\n",
      "  disable_default_eval_metric    False\n",
      "  objective                      binary:logistic\n",
      "  eval_metric                    ['auc', 'logloss']\n",
      "  n_estimators                   50\n",
      "  tree_method                    auto\n",
      "  learning_rate                  98.27202877366454\n",
      "  gamma                          1.9103749084237376\n",
      "  max_depth                      3\n",
      "  min_child_weight               9.202774173453792\n",
      "  max_delta_step                 4.3927509553052175\n",
      "  subsample                      0.9100178204658589\n",
      "  sampling_method                uniform\n",
      "  colsample_bytree               1.0\n",
      "  colsample_bylevel              0.64832576495897\n",
      "  colsample_bynode               0.760019898202464\n",
      "  lambda                         1\n",
      "  scale_pos_weight               1\n",
      "  max_leaves                     6\n",
      "  reg_lambda                     3.2267\n"
     ]
    },
    {
     "name": "stderr",
     "output_type": "stream",
     "text": [
      "2024-08-08 18:28:42,517 - root - INFO: - CrossValidation split #0\n",
      "2024-08-08 18:28:42,520 - root - INFO: - Building training & validation DMatrix...\n",
      "2024-08-08 18:28:42,778 - root - INFO: - Training model...\n"
     ]
    },
    {
     "name": "stdout",
     "output_type": "stream",
     "text": [
      "[0]\tvalidation_0-auc:0.54662\tvalidation_0-logloss:4.39664\tvalidation_1-auc:0.54683\tvalidation_1-logloss:4.40917\n",
      "[1]\tvalidation_0-auc:0.54662\tvalidation_0-logloss:4.39664\tvalidation_1-auc:0.54683\tvalidation_1-logloss:4.40917\n",
      "[2]\tvalidation_0-auc:0.54662\tvalidation_0-logloss:4.39664\tvalidation_1-auc:0.54683\tvalidation_1-logloss:4.40917\n",
      "[3]\tvalidation_0-auc:0.54662\tvalidation_0-logloss:4.39664\tvalidation_1-auc:0.54683\tvalidation_1-logloss:4.40917\n",
      "[4]\tvalidation_0-auc:0.54662\tvalidation_0-logloss:4.39664\tvalidation_1-auc:0.54683\tvalidation_1-logloss:4.40917\n",
      "[5]\tvalidation_0-auc:0.54662\tvalidation_0-logloss:4.39664\tvalidation_1-auc:0.54683\tvalidation_1-logloss:4.40917\n",
      "[6]\tvalidation_0-auc:0.54662\tvalidation_0-logloss:4.39664\tvalidation_1-auc:0.54683\tvalidation_1-logloss:4.40917\n",
      "[7]\tvalidation_0-auc:0.54662\tvalidation_0-logloss:4.39664\tvalidation_1-auc:0.54683\tvalidation_1-logloss:4.40917\n",
      "[8]\tvalidation_0-auc:0.54662\tvalidation_0-logloss:4.39664\tvalidation_1-auc:0.54683\tvalidation_1-logloss:4.40917\n",
      "[9]\tvalidation_0-auc:0.54662\tvalidation_0-logloss:4.39664\tvalidation_1-auc:0.54683\tvalidation_1-logloss:4.40917\n",
      "[10]\tvalidation_0-auc:0.54662\tvalidation_0-logloss:4.39664\tvalidation_1-auc:0.54683\tvalidation_1-logloss:4.40917\n",
      "[11]\tvalidation_0-auc:0.54662\tvalidation_0-logloss:4.39664\tvalidation_1-auc:0.54683\tvalidation_1-logloss:4.40917\n",
      "[12]\tvalidation_0-auc:0.54662\tvalidation_0-logloss:4.39664\tvalidation_1-auc:0.54683\tvalidation_1-logloss:4.40917\n",
      "[13]\tvalidation_0-auc:0.54662\tvalidation_0-logloss:4.39664\tvalidation_1-auc:0.54683\tvalidation_1-logloss:4.40917\n",
      "[14]\tvalidation_0-auc:0.54662\tvalidation_0-logloss:4.39664\tvalidation_1-auc:0.54683\tvalidation_1-logloss:4.40917\n",
      "[15]\tvalidation_0-auc:0.54662\tvalidation_0-logloss:4.39664\tvalidation_1-auc:0.54683\tvalidation_1-logloss:4.40917\n",
      "[16]\tvalidation_0-auc:0.54662\tvalidation_0-logloss:4.39664\tvalidation_1-auc:0.54683\tvalidation_1-logloss:4.40917\n",
      "[17]\tvalidation_0-auc:0.54662\tvalidation_0-logloss:4.39664\tvalidation_1-auc:0.54683\tvalidation_1-logloss:4.40917\n",
      "[18]\tvalidation_0-auc:0.54662\tvalidation_0-logloss:4.39664\tvalidation_1-auc:0.54683\tvalidation_1-logloss:4.40917\n",
      "[19]\tvalidation_0-auc:0.54662\tvalidation_0-logloss:4.39664\tvalidation_1-auc:0.54683\tvalidation_1-logloss:4.40917\n",
      "[20]\tvalidation_0-auc:0.54662\tvalidation_0-logloss:4.39664\tvalidation_1-auc:0.54683\tvalidation_1-logloss:4.40917\n",
      "[21]\tvalidation_0-auc:0.54662\tvalidation_0-logloss:4.39664\tvalidation_1-auc:0.54683\tvalidation_1-logloss:4.40917\n",
      "[22]\tvalidation_0-auc:0.54662\tvalidation_0-logloss:4.39664\tvalidation_1-auc:0.54683\tvalidation_1-logloss:4.40917\n",
      "[23]\tvalidation_0-auc:0.54662\tvalidation_0-logloss:4.39664\tvalidation_1-auc:0.54683\tvalidation_1-logloss:4.40917\n",
      "[24]\tvalidation_0-auc:0.54662\tvalidation_0-logloss:4.39664\tvalidation_1-auc:0.54683\tvalidation_1-logloss:4.40917\n",
      "[25]\tvalidation_0-auc:0.54662\tvalidation_0-logloss:4.39664\tvalidation_1-auc:0.54683\tvalidation_1-logloss:4.40917\n",
      "[26]\tvalidation_0-auc:0.54662\tvalidation_0-logloss:4.39664\tvalidation_1-auc:0.54683\tvalidation_1-logloss:4.40917\n",
      "[27]\tvalidation_0-auc:0.54662\tvalidation_0-logloss:4.39664\tvalidation_1-auc:0.54683\tvalidation_1-logloss:4.40917\n",
      "[28]\tvalidation_0-auc:0.54662\tvalidation_0-logloss:4.39664\tvalidation_1-auc:0.54683\tvalidation_1-logloss:4.40917\n",
      "[29]\tvalidation_0-auc:0.54662\tvalidation_0-logloss:4.39664\tvalidation_1-auc:0.54683\tvalidation_1-logloss:4.40917\n",
      "[30]\tvalidation_0-auc:0.54662\tvalidation_0-logloss:4.39664\tvalidation_1-auc:0.54683\tvalidation_1-logloss:4.40917\n",
      "[31]\tvalidation_0-auc:0.54662\tvalidation_0-logloss:4.39664\tvalidation_1-auc:0.54683\tvalidation_1-logloss:4.40917\n",
      "[32]\tvalidation_0-auc:0.54662\tvalidation_0-logloss:4.39664\tvalidation_1-auc:0.54683\tvalidation_1-logloss:4.40917\n",
      "[33]\tvalidation_0-auc:0.54662\tvalidation_0-logloss:4.39664\tvalidation_1-auc:0.54683\tvalidation_1-logloss:4.40917\n",
      "[34]\tvalidation_0-auc:0.54662\tvalidation_0-logloss:4.39664\tvalidation_1-auc:0.54683\tvalidation_1-logloss:4.40917\n",
      "[35]\tvalidation_0-auc:0.54662\tvalidation_0-logloss:4.39664\tvalidation_1-auc:0.54683\tvalidation_1-logloss:4.40917\n",
      "[36]\tvalidation_0-auc:0.54662\tvalidation_0-logloss:4.39664\tvalidation_1-auc:0.54683\tvalidation_1-logloss:4.40917\n",
      "[37]\tvalidation_0-auc:0.54662\tvalidation_0-logloss:4.39664\tvalidation_1-auc:0.54683\tvalidation_1-logloss:4.40917\n",
      "[38]\tvalidation_0-auc:0.54662\tvalidation_0-logloss:4.39664\tvalidation_1-auc:0.54683\tvalidation_1-logloss:4.40917\n",
      "[39]\tvalidation_0-auc:0.54662\tvalidation_0-logloss:4.39664\tvalidation_1-auc:0.54683\tvalidation_1-logloss:4.40917\n",
      "[40]\tvalidation_0-auc:0.54662\tvalidation_0-logloss:4.39664\tvalidation_1-auc:0.54683\tvalidation_1-logloss:4.40917\n",
      "[41]\tvalidation_0-auc:0.54662\tvalidation_0-logloss:4.39664\tvalidation_1-auc:0.54683\tvalidation_1-logloss:4.40917\n",
      "[42]\tvalidation_0-auc:0.54662\tvalidation_0-logloss:4.39664\tvalidation_1-auc:0.54683\tvalidation_1-logloss:4.40917\n",
      "[43]\tvalidation_0-auc:0.54662\tvalidation_0-logloss:4.39664\tvalidation_1-auc:0.54683\tvalidation_1-logloss:4.40917\n",
      "[44]\tvalidation_0-auc:0.54662\tvalidation_0-logloss:4.39664\tvalidation_1-auc:0.54683\tvalidation_1-logloss:4.40917\n",
      "[45]\tvalidation_0-auc:0.54662\tvalidation_0-logloss:4.39664\tvalidation_1-auc:0.54683\tvalidation_1-logloss:4.40917\n",
      "[46]\tvalidation_0-auc:0.54662\tvalidation_0-logloss:4.39664\tvalidation_1-auc:0.54683\tvalidation_1-logloss:4.40917\n",
      "[47]\tvalidation_0-auc:0.54662\tvalidation_0-logloss:4.39664\tvalidation_1-auc:0.54683\tvalidation_1-logloss:4.40917\n",
      "[48]\tvalidation_0-auc:0.54662\tvalidation_0-logloss:4.39664\tvalidation_1-auc:0.54683\tvalidation_1-logloss:4.40917\n",
      "[49]\tvalidation_0-auc:0.54662\tvalidation_0-logloss:4.39664\tvalidation_1-auc:0.54683\tvalidation_1-logloss:4.40917\n"
     ]
    },
    {
     "name": "stderr",
     "output_type": "stream",
     "text": [
      "2024-08-08 18:28:44,755 - root - INFO: - Running model on test data...\n",
      "2024-08-08 18:28:44,912 - root - INFO: - Calculating metrics...\n",
      "/home/kevin/miniforge3/envs/cp311/lib/python3.11/site-packages/sklearn/metrics/_ranking.py:1970: UndefinedMetricWarning: 'k' (2) greater than or equal to 'n_classes' (2) will result in a perfect score and is therefore meaningless.\n",
      "  warnings.warn(\n",
      "2024-08-08 18:28:44,981 - root - INFO: - Calculating metrics...Completed\n",
      "2024-08-08 18:28:45,052 - root - INFO: - CrossValidation split #1\n",
      "2024-08-08 18:28:45,053 - root - INFO: - Building training & validation DMatrix...\n"
     ]
    },
    {
     "name": "stdout",
     "output_type": "stream",
     "text": [
      "--------------------------------------------------------------------------------\n",
      " train_auc           :   0.54662\n",
      " train_logloss       :   4.39664\n",
      " val_auc             :   0.54683\n",
      " val_logloss         :   4.39664\n",
      " roc_auc             :   0.52052\n",
      " logloss             :   5.49146\n",
      " accuracy            :   0.84764\n",
      " bal_acc             :   0.04104\n",
      " top_k_acc           :   1.00000\n",
      " F1_score            :   0.12467\n",
      " map                 :   0.12628\n",
      " pearson_corr        :   0.05835\n",
      "--------------------------------------------------------------------------------\n"
     ]
    },
    {
     "name": "stderr",
     "output_type": "stream",
     "text": [
      "2024-08-08 18:28:45,364 - root - INFO: - Training model...\n"
     ]
    },
    {
     "name": "stdout",
     "output_type": "stream",
     "text": [
      "[0]\tvalidation_0-auc:0.54426\tvalidation_0-logloss:4.59289\tvalidation_1-auc:0.54461\tvalidation_1-logloss:4.59091\n",
      "[1]\tvalidation_0-auc:0.50000\tvalidation_0-logloss:32.45317\tvalidation_1-auc:0.50000\tvalidation_1-logloss:32.45228\n",
      "[2]\tvalidation_0-auc:0.50000\tvalidation_0-logloss:32.45317\tvalidation_1-auc:0.50000\tvalidation_1-logloss:32.45228\n",
      "[3]\tvalidation_0-auc:0.50000\tvalidation_0-logloss:32.45317\tvalidation_1-auc:0.50000\tvalidation_1-logloss:32.45228\n",
      "[4]\tvalidation_0-auc:0.50000\tvalidation_0-logloss:32.45317\tvalidation_1-auc:0.50000\tvalidation_1-logloss:32.45228\n",
      "[5]\tvalidation_0-auc:0.50000\tvalidation_0-logloss:32.45317\tvalidation_1-auc:0.50000\tvalidation_1-logloss:32.45228\n",
      "[6]\tvalidation_0-auc:0.50000\tvalidation_0-logloss:32.45317\tvalidation_1-auc:0.50000\tvalidation_1-logloss:32.45228\n",
      "[7]\tvalidation_0-auc:0.50000\tvalidation_0-logloss:32.45317\tvalidation_1-auc:0.50000\tvalidation_1-logloss:32.45228\n",
      "[8]\tvalidation_0-auc:0.50000\tvalidation_0-logloss:32.45317\tvalidation_1-auc:0.50000\tvalidation_1-logloss:32.45228\n",
      "[9]\tvalidation_0-auc:0.50000\tvalidation_0-logloss:32.45317\tvalidation_1-auc:0.50000\tvalidation_1-logloss:32.45228\n",
      "[10]\tvalidation_0-auc:0.50000\tvalidation_0-logloss:32.45317\tvalidation_1-auc:0.50000\tvalidation_1-logloss:32.45228\n",
      "[11]\tvalidation_0-auc:0.50000\tvalidation_0-logloss:32.45317\tvalidation_1-auc:0.50000\tvalidation_1-logloss:32.45228\n",
      "[12]\tvalidation_0-auc:0.50000\tvalidation_0-logloss:32.45317\tvalidation_1-auc:0.50000\tvalidation_1-logloss:32.45228\n",
      "[13]\tvalidation_0-auc:0.50000\tvalidation_0-logloss:32.45317\tvalidation_1-auc:0.50000\tvalidation_1-logloss:32.45228\n",
      "[14]\tvalidation_0-auc:0.50000\tvalidation_0-logloss:32.45317\tvalidation_1-auc:0.50000\tvalidation_1-logloss:32.45228\n",
      "[15]\tvalidation_0-auc:0.50000\tvalidation_0-logloss:32.45317\tvalidation_1-auc:0.50000\tvalidation_1-logloss:32.45228\n",
      "[16]\tvalidation_0-auc:0.50000\tvalidation_0-logloss:32.45317\tvalidation_1-auc:0.50000\tvalidation_1-logloss:32.45228\n",
      "[17]\tvalidation_0-auc:0.50000\tvalidation_0-logloss:32.45317\tvalidation_1-auc:0.50000\tvalidation_1-logloss:32.45228\n",
      "[18]\tvalidation_0-auc:0.50000\tvalidation_0-logloss:32.45317\tvalidation_1-auc:0.50000\tvalidation_1-logloss:32.45228\n",
      "[19]\tvalidation_0-auc:0.50000\tvalidation_0-logloss:32.45317\tvalidation_1-auc:0.50000\tvalidation_1-logloss:32.45228\n",
      "[20]\tvalidation_0-auc:0.50000\tvalidation_0-logloss:32.45317\tvalidation_1-auc:0.50000\tvalidation_1-logloss:32.45228\n",
      "[21]\tvalidation_0-auc:0.50000\tvalidation_0-logloss:32.45317\tvalidation_1-auc:0.50000\tvalidation_1-logloss:32.45228\n",
      "[22]\tvalidation_0-auc:0.50000\tvalidation_0-logloss:32.45317\tvalidation_1-auc:0.50000\tvalidation_1-logloss:32.45228\n",
      "[23]\tvalidation_0-auc:0.50000\tvalidation_0-logloss:32.45317\tvalidation_1-auc:0.50000\tvalidation_1-logloss:32.45228\n",
      "[24]\tvalidation_0-auc:0.50000\tvalidation_0-logloss:32.45317\tvalidation_1-auc:0.50000\tvalidation_1-logloss:32.45228\n",
      "[25]\tvalidation_0-auc:0.50000\tvalidation_0-logloss:32.45317\tvalidation_1-auc:0.50000\tvalidation_1-logloss:32.45228\n",
      "[26]\tvalidation_0-auc:0.50000\tvalidation_0-logloss:32.45317\tvalidation_1-auc:0.50000\tvalidation_1-logloss:32.45228\n",
      "[27]\tvalidation_0-auc:0.50000\tvalidation_0-logloss:32.45317\tvalidation_1-auc:0.50000\tvalidation_1-logloss:32.45228\n",
      "[28]\tvalidation_0-auc:0.50000\tvalidation_0-logloss:32.45317\tvalidation_1-auc:0.50000\tvalidation_1-logloss:32.45228\n",
      "[29]\tvalidation_0-auc:0.50000\tvalidation_0-logloss:32.45317\tvalidation_1-auc:0.50000\tvalidation_1-logloss:32.45228\n",
      "[30]\tvalidation_0-auc:0.50000\tvalidation_0-logloss:32.45317\tvalidation_1-auc:0.50000\tvalidation_1-logloss:32.45228\n",
      "[31]\tvalidation_0-auc:0.50000\tvalidation_0-logloss:32.45317\tvalidation_1-auc:0.50000\tvalidation_1-logloss:32.45228\n",
      "[32]\tvalidation_0-auc:0.50000\tvalidation_0-logloss:32.45317\tvalidation_1-auc:0.50000\tvalidation_1-logloss:32.45228\n",
      "[33]\tvalidation_0-auc:0.50000\tvalidation_0-logloss:32.45317\tvalidation_1-auc:0.50000\tvalidation_1-logloss:32.45228\n",
      "[34]\tvalidation_0-auc:0.50000\tvalidation_0-logloss:32.45317\tvalidation_1-auc:0.50000\tvalidation_1-logloss:32.45228\n",
      "[35]\tvalidation_0-auc:0.50000\tvalidation_0-logloss:32.45317\tvalidation_1-auc:0.50000\tvalidation_1-logloss:32.45228\n",
      "[36]\tvalidation_0-auc:0.50000\tvalidation_0-logloss:32.45317\tvalidation_1-auc:0.50000\tvalidation_1-logloss:32.45228\n",
      "[37]\tvalidation_0-auc:0.50000\tvalidation_0-logloss:32.45317\tvalidation_1-auc:0.50000\tvalidation_1-logloss:32.45228\n",
      "[38]\tvalidation_0-auc:0.50000\tvalidation_0-logloss:32.45317\tvalidation_1-auc:0.50000\tvalidation_1-logloss:32.45228\n",
      "[39]\tvalidation_0-auc:0.50000\tvalidation_0-logloss:32.45317\tvalidation_1-auc:0.50000\tvalidation_1-logloss:32.45228\n",
      "[40]\tvalidation_0-auc:0.50000\tvalidation_0-logloss:32.45317\tvalidation_1-auc:0.50000\tvalidation_1-logloss:32.45228\n",
      "[41]\tvalidation_0-auc:0.50000\tvalidation_0-logloss:32.45317\tvalidation_1-auc:0.50000\tvalidation_1-logloss:32.45228\n",
      "[42]\tvalidation_0-auc:0.50000\tvalidation_0-logloss:32.45317\tvalidation_1-auc:0.50000\tvalidation_1-logloss:32.45228\n",
      "[43]\tvalidation_0-auc:0.50000\tvalidation_0-logloss:32.45317\tvalidation_1-auc:0.50000\tvalidation_1-logloss:32.45228\n",
      "[44]\tvalidation_0-auc:0.50000\tvalidation_0-logloss:32.45317\tvalidation_1-auc:0.50000\tvalidation_1-logloss:32.45228\n",
      "[45]\tvalidation_0-auc:0.50000\tvalidation_0-logloss:32.45317\tvalidation_1-auc:0.50000\tvalidation_1-logloss:32.45228\n",
      "[46]\tvalidation_0-auc:0.50000\tvalidation_0-logloss:32.45317\tvalidation_1-auc:0.50000\tvalidation_1-logloss:32.45228\n",
      "[47]\tvalidation_0-auc:0.50000\tvalidation_0-logloss:32.45317\tvalidation_1-auc:0.50000\tvalidation_1-logloss:32.45228\n",
      "[48]\tvalidation_0-auc:0.50000\tvalidation_0-logloss:32.45317\tvalidation_1-auc:0.50000\tvalidation_1-logloss:32.45228\n",
      "[49]\tvalidation_0-auc:0.50000\tvalidation_0-logloss:32.45317\tvalidation_1-auc:0.50000\tvalidation_1-logloss:32.45228\n"
     ]
    },
    {
     "name": "stderr",
     "output_type": "stream",
     "text": [
      "2024-08-08 18:28:47,249 - root - INFO: - Running model on test data...\n",
      "2024-08-08 18:28:47,418 - root - INFO: - Calculating metrics...\n",
      "/home/kevin/miniforge3/envs/cp311/lib/python3.11/site-packages/sklearn/metrics/_ranking.py:1970: UndefinedMetricWarning: 'k' (2) greater than or equal to 'n_classes' (2) will result in a perfect score and is therefore meaningless.\n",
      "  warnings.warn(\n",
      "/home/kevin/miniforge3/envs/cp311/lib/python3.11/site-packages/scipy/stats/_stats_py.py:4781: ConstantInputWarning: An input array is constant; the correlation coefficient is not defined.\n",
      "  warnings.warn(stats.ConstantInputWarning(msg))\n",
      "2024-08-08 18:28:47,487 - root - INFO: - Calculating metrics...Completed\n",
      "2024-08-08 18:28:47,563 - root - INFO: - CrossValidation split #2\n",
      "2024-08-08 18:28:47,563 - root - INFO: - Building training & validation DMatrix...\n"
     ]
    },
    {
     "name": "stdout",
     "output_type": "stream",
     "text": [
      "--------------------------------------------------------------------------------\n",
      " train_auc           :   0.50000\n",
      " train_logloss       :  32.45317\n",
      " val_auc             :   0.50000\n",
      " val_logloss         :  32.45317\n",
      " roc_auc             :   0.50000\n",
      " logloss             :  31.74961\n",
      " accuracy            :   0.11913\n",
      " bal_acc             :   0.00000\n",
      " top_k_acc           :   1.00000\n",
      " F1_score            :   0.21290\n",
      " map                 :   0.11913\n",
      " pearson_corr        :       nan\n",
      "--------------------------------------------------------------------------------\n"
     ]
    },
    {
     "name": "stderr",
     "output_type": "stream",
     "text": [
      "2024-08-08 18:28:47,981 - root - INFO: - Training model...\n"
     ]
    },
    {
     "name": "stdout",
     "output_type": "stream",
     "text": [
      "[0]\tvalidation_0-auc:0.54402\tvalidation_0-logloss:4.17613\tvalidation_1-auc:0.54629\tvalidation_1-logloss:4.18735\n",
      "[1]\tvalidation_0-auc:0.50000\tvalidation_0-logloss:32.45272\tvalidation_1-auc:0.50000\tvalidation_1-logloss:32.45405\n",
      "[2]\tvalidation_0-auc:0.50000\tvalidation_0-logloss:32.45272\tvalidation_1-auc:0.50000\tvalidation_1-logloss:32.45405\n",
      "[3]\tvalidation_0-auc:0.50000\tvalidation_0-logloss:32.45272\tvalidation_1-auc:0.50000\tvalidation_1-logloss:32.45405\n",
      "[4]\tvalidation_0-auc:0.50000\tvalidation_0-logloss:32.45272\tvalidation_1-auc:0.50000\tvalidation_1-logloss:32.45405\n",
      "[5]\tvalidation_0-auc:0.50000\tvalidation_0-logloss:32.45272\tvalidation_1-auc:0.50000\tvalidation_1-logloss:32.45405\n",
      "[6]\tvalidation_0-auc:0.50000\tvalidation_0-logloss:32.45272\tvalidation_1-auc:0.50000\tvalidation_1-logloss:32.45405\n",
      "[7]\tvalidation_0-auc:0.50000\tvalidation_0-logloss:32.45272\tvalidation_1-auc:0.50000\tvalidation_1-logloss:32.45405\n",
      "[8]\tvalidation_0-auc:0.50000\tvalidation_0-logloss:32.45272\tvalidation_1-auc:0.50000\tvalidation_1-logloss:32.45405\n",
      "[9]\tvalidation_0-auc:0.50000\tvalidation_0-logloss:32.45272\tvalidation_1-auc:0.50000\tvalidation_1-logloss:32.45405\n",
      "[10]\tvalidation_0-auc:0.50000\tvalidation_0-logloss:32.45272\tvalidation_1-auc:0.50000\tvalidation_1-logloss:32.45405\n",
      "[11]\tvalidation_0-auc:0.50000\tvalidation_0-logloss:32.45272\tvalidation_1-auc:0.50000\tvalidation_1-logloss:32.45405\n",
      "[12]\tvalidation_0-auc:0.50000\tvalidation_0-logloss:32.45272\tvalidation_1-auc:0.50000\tvalidation_1-logloss:32.45405\n",
      "[13]\tvalidation_0-auc:0.50000\tvalidation_0-logloss:32.45272\tvalidation_1-auc:0.50000\tvalidation_1-logloss:32.45405\n",
      "[14]\tvalidation_0-auc:0.50000\tvalidation_0-logloss:32.45272\tvalidation_1-auc:0.50000\tvalidation_1-logloss:32.45405\n",
      "[15]\tvalidation_0-auc:0.50000\tvalidation_0-logloss:32.45272\tvalidation_1-auc:0.50000\tvalidation_1-logloss:32.45405\n",
      "[16]\tvalidation_0-auc:0.50000\tvalidation_0-logloss:32.45272\tvalidation_1-auc:0.50000\tvalidation_1-logloss:32.45405\n",
      "[17]\tvalidation_0-auc:0.50000\tvalidation_0-logloss:32.45272\tvalidation_1-auc:0.50000\tvalidation_1-logloss:32.45405\n",
      "[18]\tvalidation_0-auc:0.50000\tvalidation_0-logloss:32.45272\tvalidation_1-auc:0.50000\tvalidation_1-logloss:32.45405\n",
      "[19]\tvalidation_0-auc:0.50000\tvalidation_0-logloss:32.45272\tvalidation_1-auc:0.50000\tvalidation_1-logloss:32.45405\n",
      "[20]\tvalidation_0-auc:0.50000\tvalidation_0-logloss:32.45272\tvalidation_1-auc:0.50000\tvalidation_1-logloss:32.45405\n",
      "[21]\tvalidation_0-auc:0.50000\tvalidation_0-logloss:32.45272\tvalidation_1-auc:0.50000\tvalidation_1-logloss:32.45405\n",
      "[22]\tvalidation_0-auc:0.50000\tvalidation_0-logloss:32.45272\tvalidation_1-auc:0.50000\tvalidation_1-logloss:32.45405\n",
      "[23]\tvalidation_0-auc:0.50000\tvalidation_0-logloss:32.45272\tvalidation_1-auc:0.50000\tvalidation_1-logloss:32.45405\n",
      "[24]\tvalidation_0-auc:0.50000\tvalidation_0-logloss:32.45272\tvalidation_1-auc:0.50000\tvalidation_1-logloss:32.45405\n",
      "[25]\tvalidation_0-auc:0.50000\tvalidation_0-logloss:32.45272\tvalidation_1-auc:0.50000\tvalidation_1-logloss:32.45405\n",
      "[26]\tvalidation_0-auc:0.50000\tvalidation_0-logloss:32.45272\tvalidation_1-auc:0.50000\tvalidation_1-logloss:32.45405\n",
      "[27]\tvalidation_0-auc:0.50000\tvalidation_0-logloss:32.45272\tvalidation_1-auc:0.50000\tvalidation_1-logloss:32.45405\n",
      "[28]\tvalidation_0-auc:0.50000\tvalidation_0-logloss:32.45272\tvalidation_1-auc:0.50000\tvalidation_1-logloss:32.45405\n",
      "[29]\tvalidation_0-auc:0.50000\tvalidation_0-logloss:32.45272\tvalidation_1-auc:0.50000\tvalidation_1-logloss:32.45405\n",
      "[30]\tvalidation_0-auc:0.50000\tvalidation_0-logloss:32.45272\tvalidation_1-auc:0.50000\tvalidation_1-logloss:32.45405\n",
      "[31]\tvalidation_0-auc:0.50000\tvalidation_0-logloss:32.45272\tvalidation_1-auc:0.50000\tvalidation_1-logloss:32.45405\n",
      "[32]\tvalidation_0-auc:0.50000\tvalidation_0-logloss:32.45272\tvalidation_1-auc:0.50000\tvalidation_1-logloss:32.45405\n",
      "[33]\tvalidation_0-auc:0.50000\tvalidation_0-logloss:32.45272\tvalidation_1-auc:0.50000\tvalidation_1-logloss:32.45405\n",
      "[34]\tvalidation_0-auc:0.50000\tvalidation_0-logloss:32.45272\tvalidation_1-auc:0.50000\tvalidation_1-logloss:32.45405\n",
      "[35]\tvalidation_0-auc:0.50000\tvalidation_0-logloss:32.45272\tvalidation_1-auc:0.50000\tvalidation_1-logloss:32.45405\n",
      "[36]\tvalidation_0-auc:0.50000\tvalidation_0-logloss:32.45272\tvalidation_1-auc:0.50000\tvalidation_1-logloss:32.45405\n",
      "[37]\tvalidation_0-auc:0.50000\tvalidation_0-logloss:32.45272\tvalidation_1-auc:0.50000\tvalidation_1-logloss:32.45405\n",
      "[38]\tvalidation_0-auc:0.50000\tvalidation_0-logloss:32.45272\tvalidation_1-auc:0.50000\tvalidation_1-logloss:32.45405\n",
      "[39]\tvalidation_0-auc:0.50000\tvalidation_0-logloss:32.45272\tvalidation_1-auc:0.50000\tvalidation_1-logloss:32.45405\n",
      "[40]\tvalidation_0-auc:0.50000\tvalidation_0-logloss:32.45272\tvalidation_1-auc:0.50000\tvalidation_1-logloss:32.45405\n",
      "[41]\tvalidation_0-auc:0.50000\tvalidation_0-logloss:32.45272\tvalidation_1-auc:0.50000\tvalidation_1-logloss:32.45405\n",
      "[42]\tvalidation_0-auc:0.50000\tvalidation_0-logloss:32.45272\tvalidation_1-auc:0.50000\tvalidation_1-logloss:32.45405\n",
      "[43]\tvalidation_0-auc:0.50000\tvalidation_0-logloss:32.45272\tvalidation_1-auc:0.50000\tvalidation_1-logloss:32.45405\n",
      "[44]\tvalidation_0-auc:0.50000\tvalidation_0-logloss:32.45272\tvalidation_1-auc:0.50000\tvalidation_1-logloss:32.45405\n",
      "[45]\tvalidation_0-auc:0.50000\tvalidation_0-logloss:32.45272\tvalidation_1-auc:0.50000\tvalidation_1-logloss:32.45405\n",
      "[46]\tvalidation_0-auc:0.50000\tvalidation_0-logloss:32.45272\tvalidation_1-auc:0.50000\tvalidation_1-logloss:32.45405\n",
      "[47]\tvalidation_0-auc:0.50000\tvalidation_0-logloss:32.45272\tvalidation_1-auc:0.50000\tvalidation_1-logloss:32.45405\n",
      "[48]\tvalidation_0-auc:0.50000\tvalidation_0-logloss:32.45272\tvalidation_1-auc:0.50000\tvalidation_1-logloss:32.45405\n",
      "[49]\tvalidation_0-auc:0.50000\tvalidation_0-logloss:32.45272\tvalidation_1-auc:0.50000\tvalidation_1-logloss:32.45405\n"
     ]
    },
    {
     "name": "stderr",
     "output_type": "stream",
     "text": [
      "2024-08-08 18:28:49,879 - root - INFO: - Running model on test data...\n",
      "2024-08-08 18:28:50,056 - root - INFO: - Calculating metrics...\n",
      "/home/kevin/miniforge3/envs/cp311/lib/python3.11/site-packages/sklearn/metrics/_ranking.py:1970: UndefinedMetricWarning: 'k' (2) greater than or equal to 'n_classes' (2) will result in a perfect score and is therefore meaningless.\n",
      "  warnings.warn(\n",
      "/home/kevin/miniforge3/envs/cp311/lib/python3.11/site-packages/scipy/stats/_stats_py.py:4781: ConstantInputWarning: An input array is constant; the correlation coefficient is not defined.\n",
      "  warnings.warn(stats.ConstantInputWarning(msg))\n",
      "2024-08-08 18:28:50,114 - root - INFO: - Calculating metrics...Completed\n",
      "2024-08-08 18:28:50,180 - root - INFO: - CrossValidation split #3\n",
      "2024-08-08 18:28:50,181 - root - INFO: - Building training & validation DMatrix...\n"
     ]
    },
    {
     "name": "stdout",
     "output_type": "stream",
     "text": [
      "--------------------------------------------------------------------------------\n",
      " train_auc           :   0.50000\n",
      " train_logloss       :  32.45272\n",
      " val_auc             :   0.50000\n",
      " val_logloss         :  32.45272\n",
      " roc_auc             :   0.50000\n",
      " logloss             :  31.75134\n",
      " accuracy            :   0.11909\n",
      " bal_acc             :   0.00000\n",
      " top_k_acc           :   1.00000\n",
      " F1_score            :   0.21283\n",
      " map                 :   0.11909\n",
      " pearson_corr        :       nan\n",
      "--------------------------------------------------------------------------------\n"
     ]
    },
    {
     "name": "stderr",
     "output_type": "stream",
     "text": [
      "2024-08-08 18:28:50,487 - root - INFO: - Training model...\n"
     ]
    },
    {
     "name": "stdout",
     "output_type": "stream",
     "text": [
      "[0]\tvalidation_0-auc:0.54743\tvalidation_0-logloss:4.95709\tvalidation_1-auc:0.53560\tvalidation_1-logloss:5.01213\n",
      "[1]\tvalidation_0-auc:0.54743\tvalidation_0-logloss:4.95709\tvalidation_1-auc:0.53560\tvalidation_1-logloss:5.01213\n",
      "[2]\tvalidation_0-auc:0.54743\tvalidation_0-logloss:4.95709\tvalidation_1-auc:0.53560\tvalidation_1-logloss:5.01213\n",
      "[3]\tvalidation_0-auc:0.54743\tvalidation_0-logloss:4.95709\tvalidation_1-auc:0.53560\tvalidation_1-logloss:5.01213\n",
      "[4]\tvalidation_0-auc:0.54743\tvalidation_0-logloss:4.95709\tvalidation_1-auc:0.53560\tvalidation_1-logloss:5.01213\n",
      "[5]\tvalidation_0-auc:0.54743\tvalidation_0-logloss:4.95709\tvalidation_1-auc:0.53560\tvalidation_1-logloss:5.01213\n",
      "[6]\tvalidation_0-auc:0.54743\tvalidation_0-logloss:4.95709\tvalidation_1-auc:0.53560\tvalidation_1-logloss:5.01213\n",
      "[7]\tvalidation_0-auc:0.54743\tvalidation_0-logloss:4.95709\tvalidation_1-auc:0.53560\tvalidation_1-logloss:5.01213\n",
      "[8]\tvalidation_0-auc:0.54743\tvalidation_0-logloss:4.95709\tvalidation_1-auc:0.53560\tvalidation_1-logloss:5.01213\n",
      "[9]\tvalidation_0-auc:0.54743\tvalidation_0-logloss:4.95709\tvalidation_1-auc:0.53560\tvalidation_1-logloss:5.01213\n",
      "[10]\tvalidation_0-auc:0.54743\tvalidation_0-logloss:4.95709\tvalidation_1-auc:0.53560\tvalidation_1-logloss:5.01213\n",
      "[11]\tvalidation_0-auc:0.54743\tvalidation_0-logloss:4.95709\tvalidation_1-auc:0.53560\tvalidation_1-logloss:5.01213\n",
      "[12]\tvalidation_0-auc:0.54743\tvalidation_0-logloss:4.95709\tvalidation_1-auc:0.53560\tvalidation_1-logloss:5.01213\n",
      "[13]\tvalidation_0-auc:0.54743\tvalidation_0-logloss:4.95709\tvalidation_1-auc:0.53560\tvalidation_1-logloss:5.01213\n",
      "[14]\tvalidation_0-auc:0.54743\tvalidation_0-logloss:4.95709\tvalidation_1-auc:0.53560\tvalidation_1-logloss:5.01213\n",
      "[15]\tvalidation_0-auc:0.54743\tvalidation_0-logloss:4.95709\tvalidation_1-auc:0.53560\tvalidation_1-logloss:5.01213\n",
      "[16]\tvalidation_0-auc:0.54743\tvalidation_0-logloss:4.95709\tvalidation_1-auc:0.53560\tvalidation_1-logloss:5.01213\n",
      "[17]\tvalidation_0-auc:0.54743\tvalidation_0-logloss:4.95709\tvalidation_1-auc:0.53560\tvalidation_1-logloss:5.01213\n",
      "[18]\tvalidation_0-auc:0.54743\tvalidation_0-logloss:4.95709\tvalidation_1-auc:0.53560\tvalidation_1-logloss:5.01213\n",
      "[19]\tvalidation_0-auc:0.54743\tvalidation_0-logloss:4.95709\tvalidation_1-auc:0.53560\tvalidation_1-logloss:5.01213\n",
      "[20]\tvalidation_0-auc:0.54743\tvalidation_0-logloss:4.95709\tvalidation_1-auc:0.53560\tvalidation_1-logloss:5.01213\n",
      "[21]\tvalidation_0-auc:0.54743\tvalidation_0-logloss:4.95709\tvalidation_1-auc:0.53560\tvalidation_1-logloss:5.01213\n",
      "[22]\tvalidation_0-auc:0.54743\tvalidation_0-logloss:4.95709\tvalidation_1-auc:0.53560\tvalidation_1-logloss:5.01213\n",
      "[23]\tvalidation_0-auc:0.54743\tvalidation_0-logloss:4.95709\tvalidation_1-auc:0.53560\tvalidation_1-logloss:5.01213\n",
      "[24]\tvalidation_0-auc:0.54743\tvalidation_0-logloss:4.95709\tvalidation_1-auc:0.53560\tvalidation_1-logloss:5.01213\n",
      "[25]\tvalidation_0-auc:0.54743\tvalidation_0-logloss:4.95709\tvalidation_1-auc:0.53560\tvalidation_1-logloss:5.01213\n",
      "[26]\tvalidation_0-auc:0.54743\tvalidation_0-logloss:4.95709\tvalidation_1-auc:0.53560\tvalidation_1-logloss:5.01213\n",
      "[27]\tvalidation_0-auc:0.54743\tvalidation_0-logloss:4.95709\tvalidation_1-auc:0.53560\tvalidation_1-logloss:5.01213\n",
      "[28]\tvalidation_0-auc:0.54743\tvalidation_0-logloss:4.95709\tvalidation_1-auc:0.53560\tvalidation_1-logloss:5.01213\n",
      "[29]\tvalidation_0-auc:0.54743\tvalidation_0-logloss:4.95709\tvalidation_1-auc:0.53560\tvalidation_1-logloss:5.01213\n",
      "[30]\tvalidation_0-auc:0.54743\tvalidation_0-logloss:4.95709\tvalidation_1-auc:0.53560\tvalidation_1-logloss:5.01213\n",
      "[31]\tvalidation_0-auc:0.54743\tvalidation_0-logloss:4.95709\tvalidation_1-auc:0.53560\tvalidation_1-logloss:5.01213\n",
      "[32]\tvalidation_0-auc:0.54743\tvalidation_0-logloss:4.95709\tvalidation_1-auc:0.53560\tvalidation_1-logloss:5.01213\n",
      "[33]\tvalidation_0-auc:0.54743\tvalidation_0-logloss:4.95709\tvalidation_1-auc:0.53560\tvalidation_1-logloss:5.01213\n",
      "[34]\tvalidation_0-auc:0.54743\tvalidation_0-logloss:4.95709\tvalidation_1-auc:0.53560\tvalidation_1-logloss:5.01213\n",
      "[35]\tvalidation_0-auc:0.54743\tvalidation_0-logloss:4.95709\tvalidation_1-auc:0.53560\tvalidation_1-logloss:5.01213\n",
      "[36]\tvalidation_0-auc:0.54743\tvalidation_0-logloss:4.95709\tvalidation_1-auc:0.53560\tvalidation_1-logloss:5.01213\n",
      "[37]\tvalidation_0-auc:0.54743\tvalidation_0-logloss:4.95709\tvalidation_1-auc:0.53560\tvalidation_1-logloss:5.01213\n",
      "[38]\tvalidation_0-auc:0.54743\tvalidation_0-logloss:4.95709\tvalidation_1-auc:0.53560\tvalidation_1-logloss:5.01213\n",
      "[39]\tvalidation_0-auc:0.54743\tvalidation_0-logloss:4.95709\tvalidation_1-auc:0.53560\tvalidation_1-logloss:5.01213\n",
      "[40]\tvalidation_0-auc:0.54743\tvalidation_0-logloss:4.95709\tvalidation_1-auc:0.53560\tvalidation_1-logloss:5.01213\n",
      "[41]\tvalidation_0-auc:0.54743\tvalidation_0-logloss:4.95709\tvalidation_1-auc:0.53560\tvalidation_1-logloss:5.01213\n",
      "[42]\tvalidation_0-auc:0.54743\tvalidation_0-logloss:4.95709\tvalidation_1-auc:0.53560\tvalidation_1-logloss:5.01213\n",
      "[43]\tvalidation_0-auc:0.54743\tvalidation_0-logloss:4.95709\tvalidation_1-auc:0.53560\tvalidation_1-logloss:5.01213\n",
      "[44]\tvalidation_0-auc:0.54743\tvalidation_0-logloss:4.95709\tvalidation_1-auc:0.53560\tvalidation_1-logloss:5.01213\n",
      "[45]\tvalidation_0-auc:0.54743\tvalidation_0-logloss:4.95709\tvalidation_1-auc:0.53560\tvalidation_1-logloss:5.01213\n",
      "[46]\tvalidation_0-auc:0.54743\tvalidation_0-logloss:4.95709\tvalidation_1-auc:0.53560\tvalidation_1-logloss:5.01213\n",
      "[47]\tvalidation_0-auc:0.54743\tvalidation_0-logloss:4.95709\tvalidation_1-auc:0.53560\tvalidation_1-logloss:5.01213\n",
      "[48]\tvalidation_0-auc:0.54743\tvalidation_0-logloss:4.95709\tvalidation_1-auc:0.53560\tvalidation_1-logloss:5.01213\n",
      "[49]\tvalidation_0-auc:0.54743\tvalidation_0-logloss:4.95709\tvalidation_1-auc:0.53560\tvalidation_1-logloss:5.01213\n"
     ]
    },
    {
     "name": "stderr",
     "output_type": "stream",
     "text": [
      "2024-08-08 18:28:52,360 - root - INFO: - Running model on test data...\n",
      "2024-08-08 18:28:52,512 - root - INFO: - Calculating metrics...\n",
      "/home/kevin/miniforge3/envs/cp311/lib/python3.11/site-packages/sklearn/metrics/_ranking.py:1970: UndefinedMetricWarning: 'k' (2) greater than or equal to 'n_classes' (2) will result in a perfect score and is therefore meaningless.\n",
      "  warnings.warn(\n",
      "2024-08-08 18:28:52,572 - root - INFO: - Calculating metrics...Completed\n",
      "2024-08-08 18:28:52,639 - root - INFO: - CrossValidation split #4\n",
      "2024-08-08 18:28:52,640 - root - INFO: - Building training & validation DMatrix...\n"
     ]
    },
    {
     "name": "stdout",
     "output_type": "stream",
     "text": [
      "--------------------------------------------------------------------------------\n",
      " train_auc           :   0.54743\n",
      " train_logloss       :   4.95709\n",
      " val_auc             :   0.53560\n",
      " val_logloss         :   4.95709\n",
      " roc_auc             :   0.51330\n",
      " logloss             :   5.08828\n",
      " accuracy            :   0.85883\n",
      " bal_acc             :   0.02660\n",
      " top_k_acc           :   1.00000\n",
      " F1_score            :   0.09157\n",
      " map                 :   0.12368\n",
      " pearson_corr        :   0.04606\n",
      "--------------------------------------------------------------------------------\n"
     ]
    },
    {
     "name": "stderr",
     "output_type": "stream",
     "text": [
      "2024-08-08 18:28:53,152 - root - INFO: - Training model...\n"
     ]
    },
    {
     "name": "stdout",
     "output_type": "stream",
     "text": [
      "[0]\tvalidation_0-auc:0.54509\tvalidation_0-logloss:4.83774\tvalidation_1-auc:0.54028\tvalidation_1-logloss:4.85490\n",
      "[1]\tvalidation_0-auc:0.54509\tvalidation_0-logloss:4.83774\tvalidation_1-auc:0.54028\tvalidation_1-logloss:4.85490\n",
      "[2]\tvalidation_0-auc:0.54509\tvalidation_0-logloss:4.83774\tvalidation_1-auc:0.54028\tvalidation_1-logloss:4.85490\n",
      "[3]\tvalidation_0-auc:0.54509\tvalidation_0-logloss:4.83774\tvalidation_1-auc:0.54028\tvalidation_1-logloss:4.85490\n",
      "[4]\tvalidation_0-auc:0.54509\tvalidation_0-logloss:4.83774\tvalidation_1-auc:0.54028\tvalidation_1-logloss:4.85490\n",
      "[5]\tvalidation_0-auc:0.54509\tvalidation_0-logloss:4.83774\tvalidation_1-auc:0.54028\tvalidation_1-logloss:4.85490\n",
      "[6]\tvalidation_0-auc:0.54509\tvalidation_0-logloss:4.83774\tvalidation_1-auc:0.54028\tvalidation_1-logloss:4.85490\n",
      "[7]\tvalidation_0-auc:0.54509\tvalidation_0-logloss:4.83774\tvalidation_1-auc:0.54028\tvalidation_1-logloss:4.85490\n",
      "[8]\tvalidation_0-auc:0.54509\tvalidation_0-logloss:4.83774\tvalidation_1-auc:0.54028\tvalidation_1-logloss:4.85490\n",
      "[9]\tvalidation_0-auc:0.54509\tvalidation_0-logloss:4.83774\tvalidation_1-auc:0.54028\tvalidation_1-logloss:4.85490\n",
      "[10]\tvalidation_0-auc:0.54509\tvalidation_0-logloss:4.83774\tvalidation_1-auc:0.54028\tvalidation_1-logloss:4.85490\n",
      "[11]\tvalidation_0-auc:0.54509\tvalidation_0-logloss:4.83774\tvalidation_1-auc:0.54028\tvalidation_1-logloss:4.85490\n",
      "[12]\tvalidation_0-auc:0.54509\tvalidation_0-logloss:4.83774\tvalidation_1-auc:0.54028\tvalidation_1-logloss:4.85490\n",
      "[13]\tvalidation_0-auc:0.54509\tvalidation_0-logloss:4.83774\tvalidation_1-auc:0.54028\tvalidation_1-logloss:4.85490\n",
      "[14]\tvalidation_0-auc:0.54509\tvalidation_0-logloss:4.83774\tvalidation_1-auc:0.54028\tvalidation_1-logloss:4.85490\n",
      "[15]\tvalidation_0-auc:0.54509\tvalidation_0-logloss:4.83774\tvalidation_1-auc:0.54028\tvalidation_1-logloss:4.85490\n",
      "[16]\tvalidation_0-auc:0.54509\tvalidation_0-logloss:4.83774\tvalidation_1-auc:0.54028\tvalidation_1-logloss:4.85490\n",
      "[17]\tvalidation_0-auc:0.54509\tvalidation_0-logloss:4.83774\tvalidation_1-auc:0.54028\tvalidation_1-logloss:4.85490\n",
      "[18]\tvalidation_0-auc:0.54509\tvalidation_0-logloss:4.83774\tvalidation_1-auc:0.54028\tvalidation_1-logloss:4.85490\n",
      "[19]\tvalidation_0-auc:0.54509\tvalidation_0-logloss:4.83774\tvalidation_1-auc:0.54028\tvalidation_1-logloss:4.85490\n",
      "[20]\tvalidation_0-auc:0.54509\tvalidation_0-logloss:4.83774\tvalidation_1-auc:0.54028\tvalidation_1-logloss:4.85490\n",
      "[21]\tvalidation_0-auc:0.54509\tvalidation_0-logloss:4.83774\tvalidation_1-auc:0.54028\tvalidation_1-logloss:4.85490\n",
      "[22]\tvalidation_0-auc:0.54509\tvalidation_0-logloss:4.83774\tvalidation_1-auc:0.54028\tvalidation_1-logloss:4.85490\n",
      "[23]\tvalidation_0-auc:0.54509\tvalidation_0-logloss:4.83774\tvalidation_1-auc:0.54028\tvalidation_1-logloss:4.85490\n",
      "[24]\tvalidation_0-auc:0.54509\tvalidation_0-logloss:4.83774\tvalidation_1-auc:0.54028\tvalidation_1-logloss:4.85490\n",
      "[25]\tvalidation_0-auc:0.54509\tvalidation_0-logloss:4.83774\tvalidation_1-auc:0.54028\tvalidation_1-logloss:4.85490\n",
      "[26]\tvalidation_0-auc:0.54509\tvalidation_0-logloss:4.83774\tvalidation_1-auc:0.54028\tvalidation_1-logloss:4.85490\n",
      "[27]\tvalidation_0-auc:0.54509\tvalidation_0-logloss:4.83774\tvalidation_1-auc:0.54028\tvalidation_1-logloss:4.85490\n",
      "[28]\tvalidation_0-auc:0.54509\tvalidation_0-logloss:4.83774\tvalidation_1-auc:0.54028\tvalidation_1-logloss:4.85490\n",
      "[29]\tvalidation_0-auc:0.54509\tvalidation_0-logloss:4.83774\tvalidation_1-auc:0.54028\tvalidation_1-logloss:4.85490\n",
      "[30]\tvalidation_0-auc:0.54509\tvalidation_0-logloss:4.83774\tvalidation_1-auc:0.54028\tvalidation_1-logloss:4.85490\n",
      "[31]\tvalidation_0-auc:0.54509\tvalidation_0-logloss:4.83774\tvalidation_1-auc:0.54028\tvalidation_1-logloss:4.85490\n",
      "[32]\tvalidation_0-auc:0.54509\tvalidation_0-logloss:4.83774\tvalidation_1-auc:0.54028\tvalidation_1-logloss:4.85490\n",
      "[33]\tvalidation_0-auc:0.54509\tvalidation_0-logloss:4.83774\tvalidation_1-auc:0.54028\tvalidation_1-logloss:4.85490\n",
      "[34]\tvalidation_0-auc:0.54509\tvalidation_0-logloss:4.83774\tvalidation_1-auc:0.54028\tvalidation_1-logloss:4.85490\n",
      "[35]\tvalidation_0-auc:0.54509\tvalidation_0-logloss:4.83774\tvalidation_1-auc:0.54028\tvalidation_1-logloss:4.85490\n",
      "[36]\tvalidation_0-auc:0.54509\tvalidation_0-logloss:4.83774\tvalidation_1-auc:0.54028\tvalidation_1-logloss:4.85490\n",
      "[37]\tvalidation_0-auc:0.54509\tvalidation_0-logloss:4.83774\tvalidation_1-auc:0.54028\tvalidation_1-logloss:4.85490\n",
      "[38]\tvalidation_0-auc:0.54509\tvalidation_0-logloss:4.83774\tvalidation_1-auc:0.54028\tvalidation_1-logloss:4.85490\n",
      "[39]\tvalidation_0-auc:0.54509\tvalidation_0-logloss:4.83774\tvalidation_1-auc:0.54028\tvalidation_1-logloss:4.85490\n",
      "[40]\tvalidation_0-auc:0.54509\tvalidation_0-logloss:4.83774\tvalidation_1-auc:0.54028\tvalidation_1-logloss:4.85490\n",
      "[41]\tvalidation_0-auc:0.54509\tvalidation_0-logloss:4.83774\tvalidation_1-auc:0.54028\tvalidation_1-logloss:4.85490\n",
      "[42]\tvalidation_0-auc:0.54509\tvalidation_0-logloss:4.83774\tvalidation_1-auc:0.54028\tvalidation_1-logloss:4.85490\n",
      "[43]\tvalidation_0-auc:0.54509\tvalidation_0-logloss:4.83774\tvalidation_1-auc:0.54028\tvalidation_1-logloss:4.85490\n",
      "[44]\tvalidation_0-auc:0.54509\tvalidation_0-logloss:4.83774\tvalidation_1-auc:0.54028\tvalidation_1-logloss:4.85490\n",
      "[45]\tvalidation_0-auc:0.54509\tvalidation_0-logloss:4.83774\tvalidation_1-auc:0.54028\tvalidation_1-logloss:4.85490\n",
      "[46]\tvalidation_0-auc:0.54509\tvalidation_0-logloss:4.83774\tvalidation_1-auc:0.54028\tvalidation_1-logloss:4.85490\n",
      "[47]\tvalidation_0-auc:0.54509\tvalidation_0-logloss:4.83774\tvalidation_1-auc:0.54028\tvalidation_1-logloss:4.85490\n",
      "[48]\tvalidation_0-auc:0.54509\tvalidation_0-logloss:4.83774\tvalidation_1-auc:0.54028\tvalidation_1-logloss:4.85490\n",
      "[49]\tvalidation_0-auc:0.54509\tvalidation_0-logloss:4.83774\tvalidation_1-auc:0.54028\tvalidation_1-logloss:4.85490\n"
     ]
    },
    {
     "name": "stderr",
     "output_type": "stream",
     "text": [
      "2024-08-08 18:28:55,032 - root - INFO: - Running model on test data...\n",
      "2024-08-08 18:28:55,185 - root - INFO: - Calculating metrics...\n",
      "/home/kevin/miniforge3/envs/cp311/lib/python3.11/site-packages/sklearn/metrics/_ranking.py:1970: UndefinedMetricWarning: 'k' (2) greater than or equal to 'n_classes' (2) will result in a perfect score and is therefore meaningless.\n",
      "  warnings.warn(\n",
      "2024-08-08 18:28:55,247 - root - INFO: - Calculating metrics...Completed\n"
     ]
    },
    {
     "name": "stdout",
     "output_type": "stream",
     "text": [
      "--------------------------------------------------------------------------------\n",
      " train_auc           :   0.54509\n",
      " train_logloss       :   4.83774\n",
      " val_auc             :   0.54028\n",
      " val_logloss         :   4.83774\n",
      " roc_auc             :   0.51506\n",
      " logloss             :   5.08481\n",
      " accuracy            :   0.85893\n",
      " bal_acc             :   0.03011\n",
      " top_k_acc           :   1.00000\n",
      " F1_score            :   0.09704\n",
      " map                 :   0.12455\n",
      " pearson_corr        :   0.05162\n",
      "--------------------------------------------------------------------------------\n",
      "[W 2024-08-08 18:28:55,324] Trial 15 failed with parameters: {'n_estimators': 50, 'learning_rate': 98.27202877366454, 'min_split_loss': 1.9103749084237376, 'max_depth': 3, 'min_child_weight': 9.202774173453792, 'max_delta_step': 4.3927509553052175, 'subsample': 0.9100178204658589, 'colsample_bylevel': 0.64832576495897, 'colsample_bynode': 0.760019898202464, 'max_leaves': 6} because of the following error: NameError(\"name 'print_metric_hist' is not defined\").\n",
      "Traceback (most recent call last):\n",
      "  File \"/home/kevin/miniforge3/envs/cp311/lib/python3.11/site-packages/optuna/study/_optimize.py\", line 200, in _run_trial\n",
      "    value_or_values = func(trial)\n",
      "                      ^^^^^^^^^^^\n",
      "  File \"/tmp/ipykernel_3152734/1465607058.py\", line 39, in objective\n",
      "    print_metric_hist(metrics)\n",
      "    ^^^^^^^^^^^^^^^^^\n",
      "NameError: name 'print_metric_hist' is not defined\n",
      "[W 2024-08-08 18:28:55,329] Trial 15 failed with value None.\n"
     ]
    },
    {
     "ename": "NameError",
     "evalue": "name 'print_metric_hist' is not defined",
     "output_type": "error",
     "traceback": [
      "\u001b[0;31m---------------------------------------------------------------------------\u001b[0m",
      "\u001b[0;31mNameError\u001b[0m                                 Traceback (most recent call last)",
      "Cell \u001b[0;32mIn[73], line 3\u001b[0m\n\u001b[1;32m      1\u001b[0m start \u001b[38;5;241m=\u001b[39m datetime\u001b[38;5;241m.\u001b[39mnow()\n\u001b[0;32m----> 3\u001b[0m \u001b[43mstudy\u001b[49m\u001b[38;5;241;43m.\u001b[39;49m\u001b[43moptimize\u001b[49m\u001b[43m(\u001b[49m\u001b[43mobjective\u001b[49m\u001b[43m,\u001b[49m\u001b[43m \u001b[49m\u001b[43mn_trials\u001b[49m\u001b[38;5;241;43m=\u001b[39;49m\u001b[38;5;241;43m1\u001b[39;49m\u001b[43m,\u001b[49m\u001b[43m \u001b[49m\u001b[43mtimeout\u001b[49m\u001b[38;5;241;43m=\u001b[39;49m\u001b[38;5;241;43m3600\u001b[39;49m\u001b[38;5;241;43m*\u001b[39;49m\u001b[38;5;241;43m7\u001b[39;49m\u001b[43m,\u001b[49m\u001b[43m \u001b[49m\u001b[43mgc_after_trial\u001b[49m\u001b[38;5;241;43m=\u001b[39;49m\u001b[38;5;28;43;01mTrue\u001b[39;49;00m\u001b[43m,\u001b[49m\u001b[43m \u001b[49m\u001b[43mshow_progress_bar\u001b[49m\u001b[38;5;241;43m=\u001b[39;49m\u001b[38;5;28;43;01mTrue\u001b[39;49;00m\u001b[43m)\u001b[49m\n\u001b[1;32m      5\u001b[0m \u001b[38;5;28mprint\u001b[39m(\u001b[38;5;124mf\u001b[39m\u001b[38;5;124m\"\u001b[39m\u001b[38;5;124mTotal time:  \u001b[39m\u001b[38;5;132;01m{\u001b[39;00mdatetime\u001b[38;5;241m.\u001b[39mnow()\u001b[38;5;250m \u001b[39m\u001b[38;5;241m-\u001b[39m\u001b[38;5;250m \u001b[39mstart\u001b[38;5;132;01m}\u001b[39;00m\u001b[38;5;124m\"\u001b[39m)\n",
      "File \u001b[0;32m~/miniforge3/envs/cp311/lib/python3.11/site-packages/optuna/study/study.py:451\u001b[0m, in \u001b[0;36mStudy.optimize\u001b[0;34m(self, func, n_trials, timeout, n_jobs, catch, callbacks, gc_after_trial, show_progress_bar)\u001b[0m\n\u001b[1;32m    348\u001b[0m \u001b[38;5;28;01mdef\u001b[39;00m \u001b[38;5;21moptimize\u001b[39m(\n\u001b[1;32m    349\u001b[0m     \u001b[38;5;28mself\u001b[39m,\n\u001b[1;32m    350\u001b[0m     func: ObjectiveFuncType,\n\u001b[0;32m   (...)\u001b[0m\n\u001b[1;32m    357\u001b[0m     show_progress_bar: \u001b[38;5;28mbool\u001b[39m \u001b[38;5;241m=\u001b[39m \u001b[38;5;28;01mFalse\u001b[39;00m,\n\u001b[1;32m    358\u001b[0m ) \u001b[38;5;241m-\u001b[39m\u001b[38;5;241m>\u001b[39m \u001b[38;5;28;01mNone\u001b[39;00m:\n\u001b[1;32m    359\u001b[0m \u001b[38;5;250m    \u001b[39m\u001b[38;5;124;03m\"\"\"Optimize an objective function.\u001b[39;00m\n\u001b[1;32m    360\u001b[0m \n\u001b[1;32m    361\u001b[0m \u001b[38;5;124;03m    Optimization is done by choosing a suitable set of hyperparameter values from a given\u001b[39;00m\n\u001b[0;32m   (...)\u001b[0m\n\u001b[1;32m    449\u001b[0m \u001b[38;5;124;03m            If nested invocation of this method occurs.\u001b[39;00m\n\u001b[1;32m    450\u001b[0m \u001b[38;5;124;03m    \"\"\"\u001b[39;00m\n\u001b[0;32m--> 451\u001b[0m     \u001b[43m_optimize\u001b[49m\u001b[43m(\u001b[49m\n\u001b[1;32m    452\u001b[0m \u001b[43m        \u001b[49m\u001b[43mstudy\u001b[49m\u001b[38;5;241;43m=\u001b[39;49m\u001b[38;5;28;43mself\u001b[39;49m\u001b[43m,\u001b[49m\n\u001b[1;32m    453\u001b[0m \u001b[43m        \u001b[49m\u001b[43mfunc\u001b[49m\u001b[38;5;241;43m=\u001b[39;49m\u001b[43mfunc\u001b[49m\u001b[43m,\u001b[49m\n\u001b[1;32m    454\u001b[0m \u001b[43m        \u001b[49m\u001b[43mn_trials\u001b[49m\u001b[38;5;241;43m=\u001b[39;49m\u001b[43mn_trials\u001b[49m\u001b[43m,\u001b[49m\n\u001b[1;32m    455\u001b[0m \u001b[43m        \u001b[49m\u001b[43mtimeout\u001b[49m\u001b[38;5;241;43m=\u001b[39;49m\u001b[43mtimeout\u001b[49m\u001b[43m,\u001b[49m\n\u001b[1;32m    456\u001b[0m \u001b[43m        \u001b[49m\u001b[43mn_jobs\u001b[49m\u001b[38;5;241;43m=\u001b[39;49m\u001b[43mn_jobs\u001b[49m\u001b[43m,\u001b[49m\n\u001b[1;32m    457\u001b[0m \u001b[43m        \u001b[49m\u001b[43mcatch\u001b[49m\u001b[38;5;241;43m=\u001b[39;49m\u001b[38;5;28;43mtuple\u001b[39;49m\u001b[43m(\u001b[49m\u001b[43mcatch\u001b[49m\u001b[43m)\u001b[49m\u001b[43m \u001b[49m\u001b[38;5;28;43;01mif\u001b[39;49;00m\u001b[43m \u001b[49m\u001b[38;5;28;43misinstance\u001b[39;49m\u001b[43m(\u001b[49m\u001b[43mcatch\u001b[49m\u001b[43m,\u001b[49m\u001b[43m \u001b[49m\u001b[43mIterable\u001b[49m\u001b[43m)\u001b[49m\u001b[43m \u001b[49m\u001b[38;5;28;43;01melse\u001b[39;49;00m\u001b[43m \u001b[49m\u001b[43m(\u001b[49m\u001b[43mcatch\u001b[49m\u001b[43m,\u001b[49m\u001b[43m)\u001b[49m\u001b[43m,\u001b[49m\n\u001b[1;32m    458\u001b[0m \u001b[43m        \u001b[49m\u001b[43mcallbacks\u001b[49m\u001b[38;5;241;43m=\u001b[39;49m\u001b[43mcallbacks\u001b[49m\u001b[43m,\u001b[49m\n\u001b[1;32m    459\u001b[0m \u001b[43m        \u001b[49m\u001b[43mgc_after_trial\u001b[49m\u001b[38;5;241;43m=\u001b[39;49m\u001b[43mgc_after_trial\u001b[49m\u001b[43m,\u001b[49m\n\u001b[1;32m    460\u001b[0m \u001b[43m        \u001b[49m\u001b[43mshow_progress_bar\u001b[49m\u001b[38;5;241;43m=\u001b[39;49m\u001b[43mshow_progress_bar\u001b[49m\u001b[43m,\u001b[49m\n\u001b[1;32m    461\u001b[0m \u001b[43m    \u001b[49m\u001b[43m)\u001b[49m\n",
      "File \u001b[0;32m~/miniforge3/envs/cp311/lib/python3.11/site-packages/optuna/study/_optimize.py:66\u001b[0m, in \u001b[0;36m_optimize\u001b[0;34m(study, func, n_trials, timeout, n_jobs, catch, callbacks, gc_after_trial, show_progress_bar)\u001b[0m\n\u001b[1;32m     64\u001b[0m \u001b[38;5;28;01mtry\u001b[39;00m:\n\u001b[1;32m     65\u001b[0m     \u001b[38;5;28;01mif\u001b[39;00m n_jobs \u001b[38;5;241m==\u001b[39m \u001b[38;5;241m1\u001b[39m:\n\u001b[0;32m---> 66\u001b[0m         \u001b[43m_optimize_sequential\u001b[49m\u001b[43m(\u001b[49m\n\u001b[1;32m     67\u001b[0m \u001b[43m            \u001b[49m\u001b[43mstudy\u001b[49m\u001b[43m,\u001b[49m\n\u001b[1;32m     68\u001b[0m \u001b[43m            \u001b[49m\u001b[43mfunc\u001b[49m\u001b[43m,\u001b[49m\n\u001b[1;32m     69\u001b[0m \u001b[43m            \u001b[49m\u001b[43mn_trials\u001b[49m\u001b[43m,\u001b[49m\n\u001b[1;32m     70\u001b[0m \u001b[43m            \u001b[49m\u001b[43mtimeout\u001b[49m\u001b[43m,\u001b[49m\n\u001b[1;32m     71\u001b[0m \u001b[43m            \u001b[49m\u001b[43mcatch\u001b[49m\u001b[43m,\u001b[49m\n\u001b[1;32m     72\u001b[0m \u001b[43m            \u001b[49m\u001b[43mcallbacks\u001b[49m\u001b[43m,\u001b[49m\n\u001b[1;32m     73\u001b[0m \u001b[43m            \u001b[49m\u001b[43mgc_after_trial\u001b[49m\u001b[43m,\u001b[49m\n\u001b[1;32m     74\u001b[0m \u001b[43m            \u001b[49m\u001b[43mreseed_sampler_rng\u001b[49m\u001b[38;5;241;43m=\u001b[39;49m\u001b[38;5;28;43;01mFalse\u001b[39;49;00m\u001b[43m,\u001b[49m\n\u001b[1;32m     75\u001b[0m \u001b[43m            \u001b[49m\u001b[43mtime_start\u001b[49m\u001b[38;5;241;43m=\u001b[39;49m\u001b[38;5;28;43;01mNone\u001b[39;49;00m\u001b[43m,\u001b[49m\n\u001b[1;32m     76\u001b[0m \u001b[43m            \u001b[49m\u001b[43mprogress_bar\u001b[49m\u001b[38;5;241;43m=\u001b[39;49m\u001b[43mprogress_bar\u001b[49m\u001b[43m,\u001b[49m\n\u001b[1;32m     77\u001b[0m \u001b[43m        \u001b[49m\u001b[43m)\u001b[49m\n\u001b[1;32m     78\u001b[0m     \u001b[38;5;28;01melse\u001b[39;00m:\n\u001b[1;32m     79\u001b[0m         \u001b[38;5;28;01mif\u001b[39;00m n_jobs \u001b[38;5;241m==\u001b[39m \u001b[38;5;241m-\u001b[39m\u001b[38;5;241m1\u001b[39m:\n",
      "File \u001b[0;32m~/miniforge3/envs/cp311/lib/python3.11/site-packages/optuna/study/_optimize.py:163\u001b[0m, in \u001b[0;36m_optimize_sequential\u001b[0;34m(study, func, n_trials, timeout, catch, callbacks, gc_after_trial, reseed_sampler_rng, time_start, progress_bar)\u001b[0m\n\u001b[1;32m    160\u001b[0m         \u001b[38;5;28;01mbreak\u001b[39;00m\n\u001b[1;32m    162\u001b[0m \u001b[38;5;28;01mtry\u001b[39;00m:\n\u001b[0;32m--> 163\u001b[0m     frozen_trial \u001b[38;5;241m=\u001b[39m \u001b[43m_run_trial\u001b[49m\u001b[43m(\u001b[49m\u001b[43mstudy\u001b[49m\u001b[43m,\u001b[49m\u001b[43m \u001b[49m\u001b[43mfunc\u001b[49m\u001b[43m,\u001b[49m\u001b[43m \u001b[49m\u001b[43mcatch\u001b[49m\u001b[43m)\u001b[49m\n\u001b[1;32m    164\u001b[0m \u001b[38;5;28;01mfinally\u001b[39;00m:\n\u001b[1;32m    165\u001b[0m     \u001b[38;5;66;03m# The following line mitigates memory problems that can be occurred in some\u001b[39;00m\n\u001b[1;32m    166\u001b[0m     \u001b[38;5;66;03m# environments (e.g., services that use computing containers such as GitHub Actions).\u001b[39;00m\n\u001b[1;32m    167\u001b[0m     \u001b[38;5;66;03m# Please refer to the following PR for further details:\u001b[39;00m\n\u001b[1;32m    168\u001b[0m     \u001b[38;5;66;03m# https://github.com/optuna/optuna/pull/325.\u001b[39;00m\n\u001b[1;32m    169\u001b[0m     \u001b[38;5;28;01mif\u001b[39;00m gc_after_trial:\n",
      "File \u001b[0;32m~/miniforge3/envs/cp311/lib/python3.11/site-packages/optuna/study/_optimize.py:251\u001b[0m, in \u001b[0;36m_run_trial\u001b[0;34m(study, func, catch)\u001b[0m\n\u001b[1;32m    244\u001b[0m         \u001b[38;5;28;01massert\u001b[39;00m \u001b[38;5;28;01mFalse\u001b[39;00m, \u001b[38;5;124m\"\u001b[39m\u001b[38;5;124mShould not reach.\u001b[39m\u001b[38;5;124m\"\u001b[39m\n\u001b[1;32m    246\u001b[0m \u001b[38;5;28;01mif\u001b[39;00m (\n\u001b[1;32m    247\u001b[0m     frozen_trial\u001b[38;5;241m.\u001b[39mstate \u001b[38;5;241m==\u001b[39m TrialState\u001b[38;5;241m.\u001b[39mFAIL\n\u001b[1;32m    248\u001b[0m     \u001b[38;5;129;01mand\u001b[39;00m func_err \u001b[38;5;129;01mis\u001b[39;00m \u001b[38;5;129;01mnot\u001b[39;00m \u001b[38;5;28;01mNone\u001b[39;00m\n\u001b[1;32m    249\u001b[0m     \u001b[38;5;129;01mand\u001b[39;00m \u001b[38;5;129;01mnot\u001b[39;00m \u001b[38;5;28misinstance\u001b[39m(func_err, catch)\n\u001b[1;32m    250\u001b[0m ):\n\u001b[0;32m--> 251\u001b[0m     \u001b[38;5;28;01mraise\u001b[39;00m func_err\n\u001b[1;32m    252\u001b[0m \u001b[38;5;28;01mreturn\u001b[39;00m frozen_trial\n",
      "File \u001b[0;32m~/miniforge3/envs/cp311/lib/python3.11/site-packages/optuna/study/_optimize.py:200\u001b[0m, in \u001b[0;36m_run_trial\u001b[0;34m(study, func, catch)\u001b[0m\n\u001b[1;32m    198\u001b[0m \u001b[38;5;28;01mwith\u001b[39;00m get_heartbeat_thread(trial\u001b[38;5;241m.\u001b[39m_trial_id, study\u001b[38;5;241m.\u001b[39m_storage):\n\u001b[1;32m    199\u001b[0m     \u001b[38;5;28;01mtry\u001b[39;00m:\n\u001b[0;32m--> 200\u001b[0m         value_or_values \u001b[38;5;241m=\u001b[39m \u001b[43mfunc\u001b[49m\u001b[43m(\u001b[49m\u001b[43mtrial\u001b[49m\u001b[43m)\u001b[49m\n\u001b[1;32m    201\u001b[0m     \u001b[38;5;28;01mexcept\u001b[39;00m exceptions\u001b[38;5;241m.\u001b[39mTrialPruned \u001b[38;5;28;01mas\u001b[39;00m e:\n\u001b[1;32m    202\u001b[0m         \u001b[38;5;66;03m# TODO(mamu): Handle multi-objective cases.\u001b[39;00m\n\u001b[1;32m    203\u001b[0m         state \u001b[38;5;241m=\u001b[39m TrialState\u001b[38;5;241m.\u001b[39mPRUNED\n",
      "Cell \u001b[0;32mIn[71], line 39\u001b[0m, in \u001b[0;36mobjective\u001b[0;34m(trial, disp_params, save)\u001b[0m\n\u001b[1;32m     28\u001b[0m iter_files \u001b[38;5;241m=\u001b[39m sgkf\u001b[38;5;241m.\u001b[39msplit(X_DATA, Y_DATA, GRP_DATA)\n\u001b[1;32m     29\u001b[0m model, metrics \u001b[38;5;241m=\u001b[39m  train_model(iter_files,\n\u001b[1;32m     30\u001b[0m                               X \u001b[38;5;241m=\u001b[39m X_DATA, \n\u001b[1;32m     31\u001b[0m                               y \u001b[38;5;241m=\u001b[39m Y_DATA, \n\u001b[0;32m   (...)\u001b[0m\n\u001b[1;32m     36\u001b[0m                               save \u001b[38;5;241m=\u001b[39m \u001b[38;5;28;01mTrue\u001b[39;00m,\n\u001b[1;32m     37\u001b[0m                               \u001b[38;5;241m*\u001b[39m\u001b[38;5;241m*\u001b[39m study_params)\n\u001b[0;32m---> 39\u001b[0m \u001b[43mprint_metric_hist\u001b[49m(metrics)\n\u001b[1;32m     40\u001b[0m model_booster \u001b[38;5;241m=\u001b[39m model\u001b[38;5;241m.\u001b[39mget_booster()\n\u001b[1;32m     41\u001b[0m \u001b[38;5;28mprint\u001b[39m(\u001b[38;5;124mf\u001b[39m\u001b[38;5;124m\"\u001b[39m\u001b[38;5;124m model best score    :  \u001b[39m\u001b[38;5;132;01m{\u001b[39;00mmodel_booster\u001b[38;5;241m.\u001b[39mbest_score\u001b[38;5;132;01m}\u001b[39;00m\u001b[38;5;124m\"\u001b[39m)\n",
      "\u001b[0;31mNameError\u001b[0m: name 'print_metric_hist' is not defined"
     ]
    }
   ],
   "source": [
    "start = datetime.now()\n",
    "\n",
    "study.optimize(objective, n_trials=1, timeout=3600*7, gc_after_trial=True, show_progress_bar=True)\n",
    "\n",
    "print(f\"Total time:  {datetime.now() - start}\")"
   ]
  },
  {
   "cell_type": "code",
   "execution_count": null,
   "id": "948cdc86-631b-4b4d-8afb-d3697f4a8c81",
   "metadata": {},
   "outputs": [],
   "source": []
  },
  {
   "cell_type": "code",
   "execution_count": null,
   "id": "faf37707-868b-4c29-b83a-93a59d2a4d26",
   "metadata": {},
   "outputs": [],
   "source": []
  },
  {
   "cell_type": "code",
   "execution_count": null,
   "id": "0381c4c5-04c1-4201-9a76-e2739f8f941f",
   "metadata": {},
   "outputs": [],
   "source": []
  }
 ],
 "metadata": {
  "kernelspec": {
   "display_name": "Python [conda env:cp311]",
   "language": "python",
   "name": "conda-env-cp311-py"
  },
  "language_info": {
   "codemirror_mode": {
    "name": "ipython",
    "version": 3
   },
   "file_extension": ".py",
   "mimetype": "text/x-python",
   "name": "python",
   "nbconvert_exporter": "python",
   "pygments_lexer": "ipython3",
   "version": "3.11.4"
  }
 },
 "nbformat": 4,
 "nbformat_minor": 5
}
