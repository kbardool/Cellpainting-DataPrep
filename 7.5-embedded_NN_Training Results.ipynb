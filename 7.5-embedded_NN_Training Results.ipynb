{
 "cells": [
  {
   "cell_type": "markdown",
   "id": "418c282c-2b25-4f32-96cf-883b40b84c36",
   "metadata": {
    "editable": true,
    "slideshow": {
     "slide_type": ""
    },
    "tags": []
   },
   "source": [
    "  # Apply encoder to morphological profiles to get latent space representations :"
   ]
  },
  {
   "cell_type": "markdown",
   "id": "14da93a6-653f-4a55-9b3a-e72ab79a1121",
   "metadata": {},
   "source": [
    "# Setup"
   ]
  },
  {
   "cell_type": "markdown",
   "id": "6c9f741a-a22b-45d7-97c3-77bb86e76995",
   "metadata": {},
   "source": [
    "# Define Neural Net Model "
   ]
  },
  {
   "cell_type": "code",
   "execution_count": null,
   "id": "4f310d81-9747-4152-90d3-65698dfc1552",
   "metadata": {
    "editable": true,
    "execution": {
     "iopub.execute_input": "2024-09-26T21:56:38.640305Z",
     "iopub.status.busy": "2024-09-26T21:56:38.639829Z",
     "iopub.status.idle": "2024-09-26T21:56:38.679118Z",
     "shell.execute_reply": "2024-09-26T21:56:38.678435Z",
     "shell.execute_reply.started": "2024-09-26T21:56:38.640262Z"
    },
    "slideshow": {
     "slide_type": ""
    },
    "tags": []
   },
   "outputs": [],
   "source": [
    "# SNNL AUTOENCODERS \n",
    "# ae_runmode = \"snnl\"\n",
    "# ae_datetime = \"20240718_1956\"\n",
    "# ae_datetime = \"20240906_2201\"     # Autoencoder training - SNNL, CPB = 600, Latent 150, WD = 0.001, SNN Factor 3\n",
    "# ae_datetime = \"20240917_2004\"     # Autoencoder training - SNNL, CPB = 600, Latent 250, WD = 0.001, SNN Factor 3\n",
    "# ae_datetime = \"20240924_0146\"     # Autoencoder training - SNNL, CPB = 600, Latent 250, WD = 0.001, SNN Factor 30\n",
    "\n",
    "## BASELINE AUTOENCODERS \n",
    "ae_datetime = \"20240917_2017\"     # Autoencoder training - Baseline, CPB = 600, Latent 250, WD = 0.001 (SNN Factor 0)\n",
    "\n",
    "# RUN_DATETIME = datetime.now().strftime('%Y%m%d_%H%M')\n",
    "# RUN_DATETIME = '20240909_1801'\n",
    "# RUN_DATETIME = '20240909_1800'\n",
    "# RUN_DATETIME = '20240909_2100'\n",
    "# RUN_DATETIME = '20240916_1830'\n",
    "# RUN_DATETIME = '20240921_0700'\n",
    "RUN_DATETIME = '20240926_1900'\n",
    "print(RUN_DATETIME)"
   ]
  },
  {
   "cell_type": "markdown",
   "id": "14e1c13a-f12b-4577-8309-19824165440e",
   "metadata": {},
   "source": [
    " \n",
    "## Single Hidden Layer - 256"
   ]
  },
  {
   "cell_type": "markdown",
   "id": "2a81a6cf-cfd2-4ae1-9d57-a837b475228f",
   "metadata": {},
   "source": [
    "   Input --> Hidden1 --> (Tanh) --->  1\n",
    "   \n",
    "-  **20240916_1830** : Run on 1 FC layers model (includes final layer),  Read from 20240906_2201 (SNNL - CPB 600, LAT 150, SNN Factor 3)        \n",
    "-  **20240926_1900** : Run on 1 FC layers model (includes final layer),  Read from 20240917_2017 (BASELINE - CPB 600, LAT 250, SNN Factor 0)\n",
    "-  **20240926_1930** : Run on 1 FC layers model (includes final layer),  Read from 20240917_2004 (SNNL - CPB 600, LAT 250, SNN Factor 3)\n",
    "-  **20240926_2000** : Run on 1 FC layers model (includes final layer),  Read from 20240924_0146 (SNNL - CPB 600, LAT 250, SNN Factor 30)"
   ]
  },
  {
   "cell_type": "markdown",
   "id": "50a93a88-5a22-45aa-8d2c-12c5b662553c",
   "metadata": {},
   "source": [
    "    * 20240926_1900 (Baseline) - Trainging on Baseline embedding - SINGLE 512 LAYER FCN w/ Tanh nonlinearity \n",
    "    \n",
    "        00:33:48 | Ep: 100/ 600 | Trn loss:  0.336705 - Acc: 88.2406 | Val loss:  0.362840 - Acc: 88.2546 | last_lr: 1.25000e-04  bad_ep: 5  cdwn: 0\n",
    "        01:10:23 | Ep: 200/ 600 | Trn loss:  0.334511 - Acc: 88.2637 | Val loss:  0.364746 - Acc: 88.1852 | last_lr: 1.56250e-05  bad_ep: 12  cdwn: 0 \n",
    "        01:46:45 | Ep: 300/ 600 | Trn loss:  0.334259 - Acc: 88.2670 | Val loss:  0.364980 - Acc: 88.1713 | last_lr: 1.95313e-06  bad_ep: 19  cdwn: 0 \n",
    "        02:23:28 | Ep: 400/ 600 | Trn loss:  0.334228 - Acc: 88.2684 | Val loss:  0.365008 - Acc: 88.1713 | last_lr: 1.22070e-07  bad_ep: 0  cdwn: 5 \n",
    "        03:00:26 | Ep: 500/ 600 | Trn loss:  0.334226 - Acc: 88.2688 | Val loss:  0.365011 - Acc: 88.1713 | last_lr: 1.52588e-08  bad_ep: 2  cdwn: 0 \n",
    "        03:37:21 | Ep: 600/ 600 | Trn loss:  0.334225 - Acc: 88.2684 | Val loss:  0.365011 - Acc: 88.1713 | last_lr: 1.52588e-08  bad_ep: 9  cdwn: 0 \n",
    "    \n",
    "    \n",
    "    * 20240926_1930 - Training on 20240917_2004 (CPB: 600, Latent: 250, SNN Factor: 3) - Single layer NN , 256\n",
    "        17:48:26 | Ep: 100/ 600 | Trn loss:  0.348498 - Acc: 88.1775 | Val loss:  0.348953 - Acc: 88.2454 | last_lr: 1.00000e-03  bad_ep: 11  cdwn: 0\n",
    "        18:26:16 | Ep: 200/ 600 | Trn loss:  0.345095 - Acc: 88.2623 | Val loss:  0.348855 - Acc: 88.2176 | last_lr: 1.25000e-04  bad_ep: 18  cdwn: 0 \n",
    "        19:04:36 | Ep: 300/ 600 | Trn loss:  0.344412 - Acc: 88.2835 | Val loss:  0.349097 - Acc: 88.2083 | last_lr: 7.81250e-06  bad_ep: 0  cdwn: 6 \n",
    "        19:43:41 | Ep: 400/ 600 | Trn loss:  0.344351 - Acc: 88.2843 | Val loss:  0.349130 - Acc: 88.2083 | last_lr: 9.76563e-07  bad_ep: 1  cdwn: 0\n",
    "        20:23:02 | Ep: 500/ 600 | Trn loss:  0.344343 - Acc: 88.2843 | Val loss:  0.349135 - Acc: 88.2083 | last_lr: 1.22070e-07  bad_ep: 8  cdwn: 0 \n",
    "        21:02:23 | Ep: 600/ 600 | Trn loss:  0.344342 - Acc: 88.2839 | Val loss:  0.349135 - Acc: 88.2083 | last_lr: 1.52588e-08  bad_ep: 15  cdwn: 0 \n",
    "\n",
    "    * 20240926_2000  - Training on 20240924_0146 (CPB: 600, Latent: 250, SNN Factor: 30) - Single layer NN , 256\n",
    "    \n",
    "         17:51:12 | Ep: 100/ 600 | Trn loss:  0.352629 - Acc: 88.1039 | Val loss:  0.352370 - Acc: 88.2037 | last_lr: 1.00000e-03  bad_ep: 11  cdwn: 0 \n",
    "         18:28:16 | Ep: 200/ 600 | Trn loss:  0.350034 - Acc: 88.1706 | Val loss:  0.351349 - Acc: 88.1806 | last_lr: 2.50000e-04  bad_ep: 13  cdwn: 0 \n",
    "         19:05:16 | Ep: 300/ 600 | Trn loss:  0.349066 - Acc: 88.2009 | Val loss:  0.351271 - Acc: 88.1667 | last_lr: 3.12500e-05  bad_ep: 20  cdwn: 0 \n",
    "         19:42:58 | Ep: 400/ 600 | Trn loss:  0.348910 - Acc: 88.2045 | Val loss:  0.351270 - Acc: 88.1667 | last_lr: 1.95313e-06  bad_ep: 0  cdwn: 4    \n",
    "         20:20:40 | Ep: 500/ 600 | Trn loss:  0.348897 - Acc: 88.2045 | Val loss:  0.351273 - Acc: 88.1667 | last_lr: 2.44141e-07  bad_ep: 3  cdwn: 0 \n",
    "         20:58:34 | Ep: 600/ 600 | Trn loss:  0.348896 - Acc: 88.2045 | Val loss:  0.351273 - Acc: 88.1667 | last_lr: 3.05176e-08  bad_ep: 10  cdwn: 0 \n",
    "\n",
    "\n",
    "    * 20240916_1830 - Training on 20240906_2201 (CPB: 600, Latent: 150, SNN Factor: 3) - SINGLE 256 LAYER FCN w/ Tanh nonlinearity\n",
    "    \n",
    "        18:51:06 | Ep: 101/ 200 | Trn loss:  0.347536 - Acc: 88.1223 | Val loss:  0.347516 - Acc: 88.2824 | last_lr: 5.00000e-04  bad_ep: 0  cdwn: 5\n",
    "        19:16:44 | Ep: 200/ 200 | Trn loss:  0.345007 - Acc: 88.1778 | Val loss:  0.347808 - Acc: 88.2731 | last_lr: 6.25000e-05  bad_ep: 1  cdwn: 0     \n",
    "        20:21:33 | Ep: 300/ 300 | Trn loss:  0.344529 - Acc: 88.1901 | Val loss:  0.347932 - Acc: 88.2685 | last_lr: 7.81250e-06  bad_ep: 8  cdwn: 0  \n",
    "        00:19:45 | Ep: 400/ 600 | Trn loss:  0.344468 - Acc: 88.1901 | Val loss:  0.347964 - Acc: 88.2546 | last_lr: 9.76563e-07  bad_ep: 15  cdwn: 0     \n",
    "        00:45:34 | Ep: 500/ 600 | Trn loss:  0.344460 - Acc: 88.1905 | Val loss:  0.347968 - Acc: 88.2546 | last_lr: 6.10352e-08  bad_ep: 0  cdwn: 9 \n",
    "        01:11:27 | Ep: 600/ 600 | Trn loss:  0.344460 - Acc: 88.1905 | Val loss:  0.347969 - Acc: 88.2546 | last_lr: 1.52588e-08  bad_ep: 0  cdwn: 2 "
   ]
  },
  {
   "cell_type": "markdown",
   "id": "2b47ba93-39ad-4fa3-8012-95f7943cf2d9",
   "metadata": {},
   "source": [
    "## Single Hidden Layer - 512\n",
    "\n",
    "    -  **20240921_0700** : Run on 1 FC layers model (includes final layer), Input --> 512 --> Tanh --> 1 ,  Read from 20240906_2201 (SNNL - CPB 600, LAT 150, SNN Factor 3)    "
   ]
  },
  {
   "cell_type": "markdown",
   "id": "781b275a-48b0-46a8-9554-c514171c1b3c",
   "metadata": {},
   "source": [
    "        \n",
    "\n",
    "    * 20240921_0700 - Training on 20240906_2201 (CPB: 600, Latent: 150, SNN Factor: 3) - SINGLE 512 LAYER FCN w/ Tanh nonlinearity\n",
    "        \n",
    "        18:50:13 | Ep: 201/ 300 | Trn loss:  0.344803 - Acc: 88.1999 | Val loss:  0.347882 - Acc: 88.2685 | last_lr: 3.12500e-05  bad_ep: 0  cdwn: 3  \n",
    "        19:15:49 | Ep: 300/ 300 | Trn loss:  0.344438 - Acc: 88.2089 | Val loss:  0.348009 - Acc: 88.2639 | last_lr: 3.90625e-06  bad_ep: 3  cdwn: 0\n",
    "        20:22:38 | Ep: 400/ 600 | Trn loss:  0.344391 - Acc: 88.2089 | Val loss:  0.348038 - Acc: 88.2639 | last_lr: 4.88281e-07  bad_ep: 10  cdwn: 0\n",
    "        20:50:03 | Ep: 500/ 600 | Trn loss:  0.344385 - Acc: 88.2089 | Val loss:  0.348042 - Acc: 88.2639 | last_lr: 6.10352e-08  bad_ep: 17  cdwn: 0 \n",
    "        21:17:36 | Ep: 600/ 600 | Trn loss:  0.344384 - Acc: 88.2089 | Val loss:  0.348043 - Acc: 88.2639 | last_lr: 1.52588e-08  bad_ep: 0  cdwn: 7 \n",
    "\n",
    "\n",
    "    * 20240927_2300 - Training on 20240917_2017 (BASELINE CPB: 600, Latent: 250) - SINGLE 512 LAYER FCN w/ Tanh nonlinearity\n",
    "        \n",
    "        23:41:06 | Ep: 100/ 600 | Trn loss:  0.316756 - Acc: 88.5148 | Val loss:  0.375114 - Acc: 88.0556 | last_lr: 1.25000e-04  bad_ep: 0  cdwn: 9 \n",
    "        00:19:46 | Ep: 196/ 600 | Trn loss:  0.311625 - Acc: 88.6082 | Val loss:  0.380384 - Acc: 87.9907 | last_lr: 1.56250e-05  bad_ep: 0  cdwn: 6   \n",
    "        01:01:19 | Ep: 300/ 600 | Trn loss:  0.311016 - Acc: 88.6198 | Val loss:  0.381123 - Acc: 87.9444 | last_lr: 1.95313e-06  bad_ep: 5  cdwn: 0 \n",
    "        01:42:56 | Ep: 400/ 600 | Trn loss:  0.310944 - Acc: 88.6219 | Val loss:  0.381211 - Acc: 87.9306 | last_lr: 2.44141e-07  bad_ep: 12  cdwn: 0 \n",
    "        02:23:46 | Ep: 500/ 600 | Trn loss:  0.310936 - Acc: 88.6219 | Val loss:  0.381220 - Acc: 87.9306 | last_lr: 3.05176e-08  bad_ep: 19  cdwn: 0 \n",
    "        03:03:44 | Ep: 600/ 600 | Trn loss:  0.310935 - Acc: 88.6223 | Val loss:  0.381220 - Acc: 87.9306 | last_lr: 1.52588e-08  bad_ep: 0  cdwn: 5      \n",
    "\n",
    "    * 20240927_2345 - Training on 20240917_2004 (CPB: 600, Latent: 250, SNNL FACTR 3.0) - SINGLE 512 LAYER FCN w/ Tanh nonlinearity\n",
    "\n",
    "        23:40:44 | Ep: 100/ 600 | Trn loss:  0.347308 - Acc: 88.2053 | Val loss:  0.349217 - Acc: 88.2083 | last_lr: 5.00000e-04  bad_ep: 9  cdwn: 0 \n",
    "        00:19:14 | Ep: 200/ 600 | Trn loss:  0.344345 - Acc: 88.2987 | Val loss:  0.349497 - Acc: 88.2037 | last_lr: 6.25000e-05  bad_ep: 16  cdwn: 0 \n",
    "        00:57:24 | Ep: 300/ 600 | Trn loss:  0.343806 - Acc: 88.3099 | Val loss:  0.349730 - Acc: 88.1806 | last_lr: 3.90625e-06  bad_ep: 0  cdwn: 8 \n",
    "        01:36:04 | Ep: 400/ 600 | Trn loss:  0.343757 - Acc: 88.3110 | Val loss:  0.349766 - Acc: 88.1806 | last_lr: 4.88281e-07  bad_ep: 0  cdwn: 1 \n",
    "        02:15:02 | Ep: 500/ 600 | Trn loss:  0.343751 - Acc: 88.3117 | Val loss:  0.349771 - Acc: 88.1806 | last_lr: 6.10352e-08  bad_ep: 6  cdwn: 0 \n",
    "        02:54:08 | Ep: 600/ 600 | Trn loss:  0.343750 - Acc: 88.3117 | Val loss:  0.349771 - Acc: 88.1806 | last_lr: 1.52588e-08  bad_ep: 13  cdwn: 0\n",
    "\n",
    "    * 20240927_2355 - Training on 20240924_0146 (CPB: 600, Latent: 250, SNNL FACTR 30.0) - SINGLE 512 LAYER FCN w/ Tanh nonlinearity\n",
    "    \n",
    "        23:45:10 | Ep: 100/ 600 | Trn loss:  0.352655 - Acc: 88.1122 | Val loss:  0.352730 - Acc: 88.2222 | last_lr: 1.00000e-03  bad_ep: 5  cdwn: 0 \n",
    "        00:27:24 | Ep: 201/ 600 | Trn loss:  0.349600 - Acc: 88.1815 | Val loss:  0.351189 - Acc: 88.2269 | last_lr: 2.50000e-04  bad_ep: 0  cdwn: 2\n",
    "        01:08:29 | Ep: 300/ 600 | Trn loss:  0.347897 - Acc: 88.2356 | Val loss:  0.351032 - Acc: 88.2269 | last_lr: 3.12500e-05  bad_ep: 4  cdwn: 0 \n",
    "        01:50:27 | Ep: 400/ 600 | Trn loss:  0.347595 - Acc: 88.2392 | Val loss:  0.350997 - Acc: 88.2269 | last_lr: 3.90625e-06  bad_ep: 11  cdwn: 0 \n",
    "        02:33:14 | Ep: 500/ 600 | Trn loss:  0.347558 - Acc: 88.2410 | Val loss:  0.350998 - Acc: 88.2269 | last_lr: 4.88281e-07  bad_ep: 18  cdwn: 0      \n",
    "        03:14:34 | Ep: 600/ 600 | Trn loss:  0.347553 - Acc: 88.2413 | Val loss:  0.350998 - Acc: 88.2269 | last_lr: 3.05176e-08  bad_ep: 0  cdwn: 6         "
   ]
  },
  {
   "cell_type": "markdown",
   "id": "ec1f4cf7-5475-4c8d-90e7-0ae7589ff398",
   "metadata": {},
   "source": [
    "## 4 layer model with Batch Norm:  256/256/128: "
   ]
  },
  {
   "cell_type": "markdown",
   "id": "d1d9e9ba-3ef4-4799-9d67-4f52b660a869",
   "metadata": {},
   "source": [
    "    Input --> Hidden1 --> (BN/NL) ---> Hidden2 ---> (BN/NL) ---> Hidden3 --->  (BN/NL) ---> 1\n",
    "   \n",
    "-  **20240909_1800** : Run on 4 FC layers model (includes final layer), model configuration UNKNOWN\n",
    "-  **20240909_2100** : Run on 4 FC layer with BATCH NORM and tanh non linearities - Read from 20240906_2201 (SNNL, 600 CPB, Latent 250, SNN Factor 30)\n",
    "-  \n",
    "<br><br/>\n",
    "-  **20240929_2000** : Run on 4 FC layer with BATCH NORM and tanh non linearities - Read from 20240917_2017 (Baseline, 600 CPB, Latent 250)\n",
    "-  **20240929_2015** : Run on 4 FC layer with BATCH NORM and tanh non linearities - Read from 20240917_2004 (SNNL, 600 CPB, Latent 250, SNN Factor 3)\n",
    "-  **20240929_2030** : Run on 4 FC layer with BATCH NORM and tanh non linearities - Read from 20240924_0146 (SNNL, 600 CPB, Latent 250, SNN Factor 30)"
   ]
  },
  {
   "cell_type": "markdown",
   "id": "f6ec3469-bc54-4c44-b3b7-66388ed19d30",
   "metadata": {},
   "source": [
    "    * 20240909_2100 - Training  on 20240906_2201 (SNNL, 600 CPB, Latent 250, SNN Factor 30) , Model : FCN with Batch Normalization and Tanh\n",
    "    \n",
    "        19:24:22 | Ep:  99/ 100 | Trn loss:  0.326475 - Acc: 88.7514 | Val loss:  0.362136 - Acc: 87.9583 | last_lr: 2.50000e-03  bad_ep: 0  cdwn: 2\n",
    "        20:03:23 | Ep: 199/ 300 | Trn loss:  0.297773 - Acc: 89.6595 | Val loss:  0.395395 - Acc: 87.5926 | last_lr: 3.12500e-04  bad_ep: 5  cdwn: 0 \n",
    "        20:29:29 | Ep: 299/ 300 | Trn loss:  0.292009 - Acc: 89.8279 | Val loss:  0.403951 - Acc: 87.3380 | last_lr: 3.90625e-05  bad_ep: 12  cdwn: 0\n",
    "        21:24:06 | Ep: 399/ 500 | Trn loss:  0.291090 - Acc: 89.8539 | Val loss:  0.403774 - Acc: 87.3796 | last_lr: 4.88281e-06  bad_ep: 19  cdwn: 0 \n",
    "        21:50:23 | Ep: 499/ 500 | Trn loss:  0.290970 - Acc: 89.8553 | Val loss:  0.403736 - Acc: 87.3935 | last_lr: 3.05176e-07  bad_ep: 0  cdwn: 5 \n",
    "        22:19:26 | Ep: 599/ 800 | Trn loss:  0.290960 - Acc: 89.8557 | Val loss:  0.403736 - Acc: 87.3935 | last_lr: 3.81470e-08  bad_ep: 2  cdwn: 0     \n",
    "        22:45:45 | Ep: 699/ 800 | Trn loss:  0.290960 - Acc: 89.8553 | Val loss:  0.403737 - Acc: 87.3935 | last_lr: 1.90735e-08  bad_ep: 9  cdwn: 0             \n",
    "        23:12:04 | Ep: 799/ 800 | Trn loss:  0.290959 - Acc: 89.8553 | Val loss:  0.403738 - Acc: 87.3935 | last_lr: 1.90735e-08  bad_ep: 16  cdwn: 0 \n",
    "        \n",
    "    * 20240929_2000 - Training on 20240917_2017 (BASELINE CPB: 600, Latent: 250) - , Model : FCN with Batch Normalization and Tanh\n",
    "        \n",
    "        20:51:09 | Ep: 100/ 600 | Trn loss:  0.216703 - Acc: 91.5819 | Val loss:  0.472322 - Acc: 85.7917 | last_lr: 1.25000e-04  bad_ep: 0  cdwn: 3 \n",
    "        21:30:17 | Ep: 200/ 600 | Trn loss:  0.164916 - Acc: 93.8727 | Val loss:  0.550195 - Acc: 83.9213 | last_lr: 1.56250e-05  bad_ep: 4  cdwn: 0 \n",
    "        22:10:31 | Ep: 300/ 600 | Trn loss:  0.156211 - Acc: 94.2677 | Val loss:  0.562681 - Acc: 83.7037 | last_lr: 1.95313e-06  bad_ep: 11  cdwn: 0 \n",
    "        22:50:49 | Ep: 400/ 600 | Trn loss:  0.155074 - Acc: 94.3124 | Val loss:  0.564240 - Acc: 83.6898 | last_lr: 2.44141e-07  bad_ep: 18  cdwn: 0 \n",
    "        23:31:30 | Ep: 500/ 600 | Trn loss:  0.154952 - Acc: 94.3207 | Val loss:  0.564363 - Acc: 83.6898 | last_lr: 1.52588e-08  bad_ep: 0  cdwn: 6 \n",
    "        00:12:48 | Ep: 600/ 600 | Trn loss:  0.154942 - Acc: 94.3225 | Val loss:  0.564362 - Acc: 83.6898 | last_lr: 1.52588e-08  bad_ep: 1  cdwn: 0 \n",
    "\n",
    "\n",
    "    * 20240929_2015 - Training on 20240917_2004 (CPB: 600, Latent: 250, SNNL FACTR 3.0), Model : FCN with Batch Normalization and Tanh\n",
    "    \n",
    "        20:54:18 | Ep: 100/ 600 | Trn loss:  0.324767 - Acc: 88.7377 | Val loss:  0.356477 - Acc: 88.0787 | last_lr: 2.50000e-04  bad_ep: 10  cdwn: 0 \n",
    "        21:34:24 | Ep: 200/ 600 | Trn loss:  0.304522 - Acc: 89.2345 | Val loss:  0.367443 - Acc: 87.9306 | last_lr: 3.12500e-05  bad_ep: 17  cdwn: 0 \n",
    "        22:14:41 | Ep: 300/ 600 | Trn loss:  0.300778 - Acc: 89.3135 | Val loss:  0.368757 - Acc: 87.9213 | last_lr: 1.95313e-06  bad_ep: 0  cdwn: 7 \n",
    "        22:55:20 | Ep: 400/ 600 | Trn loss:  0.300364 - Acc: 89.3232 | Val loss:  0.369084 - Acc: 87.9074 | last_lr: 2.44141e-07  bad_ep: 0  cdwn: 0 \n",
    "        23:36:16 | Ep: 500/ 600 | Trn loss:  0.300318 - Acc: 89.3254 | Val loss:  0.369122 - Acc: 87.9074 | last_lr: 3.05176e-08  bad_ep: 7  cdwn: 0 \n",
    "        00:17:19 | Ep: 600/ 600 | Trn loss:  0.300313 - Acc: 89.3243 | Val loss:  0.369124 - Acc: 87.9074 | last_lr: 1.52588e-08  bad_ep: 14  cdwn: 0 \n",
    "\n",
    "\n",
    "    * 20240929_2030 - Training (training, validation and test on the training dataset) , Model : FCN with Batch Normalization and Tanh\n",
    "    \n",
    "        20:56:46 | Ep: 100/ 600 | Trn loss:  0.343722 - Acc: 88.3110 | Val loss:  0.353784 - Acc: 88.1620 | last_lr: 1.25000e-04  bad_ep: 0  cdwn: 1 \n",
    "        21:35:10 | Ep: 200/ 600 | Trn loss:  0.335377 - Acc: 88.5390 | Val loss:  0.354582 - Acc: 88.1204 | last_lr: 1.56250e-05  bad_ep: 6  cdwn: 0 \n",
    "        22:14:05 | Ep: 300/ 600 | Trn loss:  0.333957 - Acc: 88.5758 | Val loss:  0.354674 - Acc: 88.1250 | last_lr: 1.95313e-06  bad_ep: 13  cdwn: 0 \n",
    "        22:53:09 | Ep: 400/ 600 | Trn loss:  0.333753 - Acc: 88.5819 | Val loss:  0.354775 - Acc: 88.1204 | last_lr: 2.44141e-07  bad_ep: 20  cdwn: 0 \n",
    "        23:32:22 | Ep: 500/ 600 | Trn loss:  0.333730 - Acc: 88.5837 | Val loss:  0.354788 - Acc: 88.1204 | last_lr: 1.52588e-08  bad_ep: 0  cdwn: 4 \n",
    "        00:11:21 | Ep: 600/ 600 | Trn loss:  0.333728 - Acc: 88.5833 | Val loss:  0.354792 - Acc: 88.1157 | last_lr: 1.52588e-08  bad_ep: 3  cdwn: 0 \n",
    " "
   ]
  },
  {
   "cell_type": "markdown",
   "id": "33a476e4-35c4-47c0-b8b3-328584c21fb8",
   "metadata": {},
   "source": [
    "## 4 layer model with Batch Norm:  512/512//128: "
   ]
  },
  {
   "cell_type": "markdown",
   "id": "5361068d-a5ee-4a94-a3fc-e2d4cbe59804",
   "metadata": {},
   "source": [
    "    Input --> Hidden1 --> (BN/NL) ---> Hidden2 ---> (BN/NL) ---> Hidden3 --->  (BN/NL) ---> 1\n",
    "   \n",
    "-  **20240930_1900** : Run on 4 FC layer with BATCH NORM and tanh non linearities - Read from 20240917_2017 (Baseline, 600 CPB, Latent 250)\n",
    "-  **20240930_1930** : Run on 4 FC layer with BATCH NORM and tanh non linearities - Read from 20240917_2004 (SNNL, 600 CPB, Latent 250, SNN Factor 3)\n",
    "-  **20240930_1945** : Run on 4 FC layer with BATCH NORM and tanh non linearities - Read from 20240924_0146 (SNNL, 600 CPB, Latent 250, SNN Factor 30)"
   ]
  },
  {
   "cell_type": "markdown",
   "id": "abadedd6-0e82-4e6b-9983-082da7c518d1",
   "metadata": {},
   "source": [
    "## 4 layer model with ReLU (NO Batch Norm):  256/256/256/128: "
   ]
  },
  {
   "cell_type": "markdown",
   "id": "ac82566b-a516-4b35-9218-151f78a4f060",
   "metadata": {},
   "source": [
    "    Input --> Hidden1 --> (BN/NL) ---> Hidden2 ---> (BN/NL) ---> Hidden3 --->  (BN/NL) ---> 1\n",
    "   \n",
    "-  **20240909_1801** : Run on 4 FC layer with RuLUs (NO BATCH NORM) - Read from 20240906_2201 (SNNL, 600 CPB, Latent 250, SNN Factor 30)\n",
    "-  **20240909_xxxx** : Run on 4 FC layer with RuLUs (NO BATCH NORM) - Read from 20240906_2201 (SNNL, 600 CPB, Latent 250, SNN Factor 30)\n",
    "<br><br/>\n",
    "-  **202409dd_hhmm** : Run on 4 FC layer with RuLUs (NO BATCH NORM) - Read from 20240917_2017 (Baseline, 600 CPB, Latent 250)\n",
    "-  **202409dd_hhmm** : Run on 4 FC layer with RuLUs (NO BATCH NORM) - Read from 20240917_2004 (SNNL, 600 CPB, Latent 250, SNN Factor 3)\n",
    "-  **202409dd_hhmm** : Run on 4 FC layer with RuLUs (NO BATCH NORM) - Read from 20240924_0146 (SNNL, 600 CPB, Latent 250, SNN Factor 30)"
   ]
  },
  {
   "cell_type": "markdown",
   "id": "8f745883-80e4-42fe-8e14-313f34e1e08d",
   "metadata": {},
   "source": [
    "    * Training (training, validation and test on the training dataset) Model 20240909_???? : FCN with ReLU ( WITHOUT Batch Normalization)\n",
    "\n",
    "        19:24:17 | Ep: 100/ 200 | Trn loss:  0.350121 - Acc: 88.0703 | Val loss:  0.349664 - Acc: 88.3373 | last_lr: 5.00000e-03  bad_ep: 20  cdwn: 0        \n",
    "        19:49:49 | Ep: 199/ 200 | Trn loss:  0.341501 - Acc: 88.2500 | Val loss:  0.363593 - Acc: 88.2421 | last_lr: 1.25000e-03  bad_ep: 0  cdwn: 3   \n",
    "        19:59:59 | Ep: 200/ 300 | Trn loss:  0.341605 - Acc: 88.2468 | Val loss:  0.361993 - Acc: 88.2341 | last_lr: 1.25000e-03  bad_ep: 0  cdwn: 2                \n",
    "        20:25:44 | Ep: 299/ 300 | Trn loss:  0.334649 - Acc: 88.4033 | Val loss:  0.403192 - Acc: 88.1071 | last_lr: 6.25000e-04  bad_ep: 36  cdwn: 0 \n",
    "        20:58:50 | Ep: 399/ 400 | Trn loss:  0.330665 - Acc: 88.4675 | Val loss:  0.431891 - Acc: 87.9960 | last_lr: 1.56250e-04  bad_ep: 14  cdwn: 0   \n",
    "        21:30:28 | Ep: 499/ 500 | Trn loss:  0.328964 - Acc: 88.4892 | Val loss:  0.451583 - Acc: 87.9841 | last_lr: 3.90625e-05  bad_ep: 0  cdwn: 8\n",
    "        00:29:11 | Ep: 599/ 800 | Trn loss:  0.260268 - Acc: 90.7597 | Val loss:  0.461375 - Acc: 86.6627 | last_lr: 1.95313e-05  bad_ep: 5  cdwn: 0\n",
    "        00:56:02 | Ep: 699/ 800 | Trn loss:  0.259178 - Acc: 90.7951 | Val loss:  0.462670 - Acc: 86.6786 | last_lr: 9.76563e-06  bad_ep: 44  cdwn: 0 \n",
    "        01:23:00 | Ep: 799/ 800 | Trn loss:  0.258739 - Acc: 90.8030 | Val loss:  0.462826 - Acc: 86.7262 | last_lr: 2.44141e-06  bad_ep: 22  cdwn: 0 \n",
    "    \n",
    "    \n",
    "    * 20240909_1801 -Training (training, validation and test on the training dataset)  : FCN with ReLU ( WITHOUT Batch Normalization)    \n",
    "    \n",
    "        05:47:12 | Ep: 100/ 100 | Trn loss:  0.345160 - Acc: 88.1768 | Val loss:  0.347864 - Acc: 88.2546 | last_lr: 5.00000e-05  bad_ep: 13  cdwn: 0     \n",
    "    \n",
    "    \n",
    "\n"
   ]
  },
  {
   "cell_type": "code",
   "execution_count": null,
   "id": "d5c2178a-5cc1-4252-9912-1c9e23d69dab",
   "metadata": {},
   "outputs": [],
   "source": []
  }
 ],
 "metadata": {
  "kernelspec": {
   "display_name": "Python [conda env:cp311]",
   "language": "python",
   "name": "conda-env-cp311-py"
  },
  "language_info": {
   "codemirror_mode": {
    "name": "ipython",
    "version": 3
   },
   "file_extension": ".py",
   "mimetype": "text/x-python",
   "name": "python",
   "nbconvert_exporter": "python",
   "pygments_lexer": "ipython3",
   "version": "3.11.4"
  }
 },
 "nbformat": 4,
 "nbformat_minor": 5
}
