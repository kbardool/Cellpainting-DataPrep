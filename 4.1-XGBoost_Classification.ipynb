{
 "cells": [
  {
   "cell_type": "markdown",
   "metadata": {
    "slideshow": {
     "slide_type": ""
    },
    "tags": []
   },
   "source": [
    " # XGBoost - Classification"
   ]
  },
  {
   "cell_type": "markdown",
   "metadata": {
    "slideshow": {
     "slide_type": ""
    },
    "tags": []
   },
   "source": [
    "**Using Optuna for hyper-parameter search  to predict TPSA from morphology profiles**"
   ]
  },
  {
   "cell_type": "markdown",
   "metadata": {},
   "source": [
    "# Initialization"
   ]
  },
  {
   "cell_type": "code",
   "execution_count": 1,
   "metadata": {
    "ExecuteTime": {
     "end_time": "2023-12-21T20:50:25.298115Z",
     "start_time": "2023-12-21T20:50:24.855884Z"
    },
    "execution": {
     "iopub.execute_input": "2024-02-14T11:27:21.374924Z",
     "iopub.status.busy": "2024-02-14T11:27:21.374350Z",
     "iopub.status.idle": "2024-02-14T11:27:23.138881Z",
     "shell.execute_reply": "2024-02-14T11:27:23.138023Z",
     "shell.execute_reply.started": "2024-02-14T11:27:21.374833Z"
    }
   },
   "outputs": [
    {
     "data": {
      "text/html": [
       "<style>.container { width:98% !important; }</style>"
      ],
      "text/plain": [
       "<IPython.core.display.HTML object>"
      ]
     },
     "metadata": {},
     "output_type": "display_data"
    }
   ],
   "source": [
    "from IPython.display import display, HTML\n",
    "display(HTML(\"<style>.container { width:98% !important; }</style>\"))\n",
    "%load_ext autoreload  \n",
    "%autoreload 2\n",
    "from IPython.core.interactiveshell import InteractiveShell\n",
    "InteractiveShell.ast_node_interactivity = \"all\"\n",
    "%matplotlib inline"
   ]
  },
  {
   "cell_type": "markdown",
   "metadata": {},
   "source": [
    "## imports "
   ]
  },
  {
   "cell_type": "code",
   "execution_count": 2,
   "metadata": {
    "ExecuteTime": {
     "end_time": "2023-12-21T20:50:28.460258Z",
     "start_time": "2023-12-21T20:50:25.868966Z"
    },
    "execution": {
     "iopub.execute_input": "2024-02-14T11:27:23.140950Z",
     "iopub.status.busy": "2024-02-14T11:27:23.140571Z",
     "iopub.status.idle": "2024-02-14T11:27:34.592087Z",
     "shell.execute_reply": "2024-02-14T11:27:34.590979Z",
     "shell.execute_reply.started": "2024-02-14T11:27:23.140928Z"
    }
   },
   "outputs": [
    {
     "name": "stdout",
     "output_type": "stream",
     "text": [
      "insert ./src\n",
      "['./src', '/home/kevin/WSL-shared/Cellpainting/cj-datasets', '/home/kevin/miniforge3/envs/cp311/lib/python311.zip', '/home/kevin/miniforge3/envs/cp311/lib/python3.11', '/home/kevin/miniforge3/envs/cp311/lib/python3.11/lib-dynload', '', '/home/kevin/miniforge3/envs/cp311/lib/python3.11/site-packages']\n"
     ]
    }
   ],
   "source": [
    "# Models\n",
    "import os, sys\n",
    "import math\n",
    "import pickle\n",
    "import itertools\n",
    "import copy \n",
    "import joblib\n",
    "import logging \n",
    "# from multiprocessing import Pool, process\n",
    "from datetime import datetime, time\n",
    "from collections import defaultdict\n",
    "from collections.abc import Iterator\n",
    "\n",
    "if './src' not in sys.path:\n",
    "    print(f\"insert ./src\")\n",
    "    sys.path.insert(0, './src')\n",
    "print(sys.path)\n",
    "\n",
    "import numpy as np\n",
    "np.set_printoptions(edgeitems=3, infstr='inf', linewidth=150, nanstr='nan')\n",
    "\n",
    "import pandas as pd\n",
    "pd.options.display.width = 170\n",
    "\n",
    "import scipy.stats as sps \n",
    "import matplotlib.pyplot as plt\n",
    "\n",
    "from pprint import PrettyPrinter\n",
    "pp = PrettyPrinter(indent=4)\n",
    "\n",
    "import warnings\n",
    "warnings.filterwarnings('ignore')\n",
    "\n",
    "from utils import display_gpu_info, display_gpu_device_info\n",
    "from utils_cellpainting import *\n",
    "from utils_ml import model_selection \n",
    "\n",
    "# (initialize, init_dataloaders, init_environment, init_wandb, training_initializations, model_initializations, \n",
    "#  check_for_resume_training, disp_dataloader_info, disp_training_parms, warmup_phase, weight_policy_training, \n",
    "#  display_gpu_info, display_gpu_device_info, init_dataloaders_by_fold_id, print_separator, print_heading, \n",
    "#  timestring, print_loss, get_command_line_args, load_from_pickle ) "
   ]
  },
  {
   "cell_type": "code",
   "execution_count": 3,
   "metadata": {
    "ExecuteTime": {
     "end_time": "2023-12-21T20:50:31.139023Z",
     "start_time": "2023-12-21T20:50:30.891155Z"
    },
    "execution": {
     "iopub.execute_input": "2024-02-14T11:27:34.594151Z",
     "iopub.status.busy": "2024-02-14T11:27:34.593912Z",
     "iopub.status.idle": "2024-02-14T11:27:34.809566Z",
     "shell.execute_reply": "2024-02-14T11:27:34.808657Z",
     "shell.execute_reply.started": "2024-02-14T11:27:34.594128Z"
    }
   },
   "outputs": [],
   "source": [
    "import optuna\n",
    "\n",
    "import dask\n",
    "import dask.array as da\n",
    "import dask.dataframe as dd\n",
    "from dask import delayed\n",
    "from dask.distributed import Client\n",
    "from dask.distributed import LocalCluster\n",
    "from dask_cuda import LocalCUDACluster\n",
    "import dask_ml.model_selection as dcv\n",
    "\n",
    "import xgboost as xgb\n",
    "from xgboost import XGBClassifier, XGBRegressor\n",
    "\n",
    "import sklearn.metrics as skm\n",
    "\n",
    "# from dask_ml.model_selection import train_test_split\n",
    "# from dask_ml.model_selection import GridSearchCV, IncrementalSearchCV, HyperbandSearchCV\n",
    "# from dask_ml.metrics import mean_squared_error, r2_score, mean_squared_log_error"
   ]
  },
  {
   "cell_type": "code",
   "execution_count": 4,
   "metadata": {
    "ExecuteTime": {
     "end_time": "2023-12-21T20:50:28.476862Z",
     "start_time": "2023-12-21T20:50:28.461907Z"
    },
    "execution": {
     "iopub.execute_input": "2024-02-14T11:27:34.810653Z",
     "iopub.status.busy": "2024-02-14T11:27:34.810456Z",
     "iopub.status.idle": "2024-02-14T11:27:34.843521Z",
     "shell.execute_reply": "2024-02-14T11:27:34.842693Z",
     "shell.execute_reply.started": "2024-02-14T11:27:34.810633Z"
    }
   },
   "outputs": [],
   "source": [
    "# os.environ[\"WANDB_NOTEBOOK_NAME\"] = \"Adashare_Train.ipynb\"\n",
    "# os.environ[\"CUDA_LAUNCH_BLOCKING\"] = \"1\"\n",
    "os.environ[\"CUDA_VISIBLE_DEVICES\"] = \"2\""
   ]
  },
  {
   "cell_type": "code",
   "execution_count": null,
   "metadata": {},
   "outputs": [],
   "source": []
  },
  {
   "cell_type": "code",
   "execution_count": 5,
   "metadata": {
    "execution": {
     "iopub.execute_input": "2024-02-14T11:27:34.845109Z",
     "iopub.status.busy": "2024-02-14T11:27:34.844890Z",
     "iopub.status.idle": "2024-02-14T11:27:34.900229Z",
     "shell.execute_reply": "2024-02-14T11:27:34.899244Z",
     "shell.execute_reply.started": "2024-02-14T11:27:34.845089Z"
    }
   },
   "outputs": [
    {
     "name": "stderr",
     "output_type": "stream",
     "text": [
      "2024-02-14 12:27:34,895 - INFO: -  1/7- engine connected\n"
     ]
    }
   ],
   "source": [
    "setup_logging()\n",
    "logging.info(f\" 1/7- engine connected\")\n",
    "# logging.warning(f\" 1/7- engine connected\")\n",
    "# logging.error(f\" 1/7- engine connected\")\n",
    "# logging.critical(f\" 1/7- engine connected\")\n",
    "# print(logging.NOTSET, logging.DEBUG,  logging.INFO, logging.WARN, logging.WARNING, logging.ERROR, logging.CRITICAL,  logging.FATAL)"
   ]
  },
  {
   "cell_type": "code",
   "execution_count": 6,
   "metadata": {
    "execution": {
     "iopub.execute_input": "2024-02-14T11:27:34.901590Z",
     "iopub.status.busy": "2024-02-14T11:27:34.901220Z",
     "iopub.status.idle": "2024-02-14T11:27:34.995200Z",
     "shell.execute_reply": "2024-02-14T11:27:34.994390Z",
     "shell.execute_reply.started": "2024-02-14T11:27:34.901562Z"
    }
   },
   "outputs": [
    {
     "name": "stdout",
     "output_type": "stream",
     "text": [
      "\n",
      " datetime.now().strftime('%x %X')                    : 02/14/24 12:27:34\n",
      " datetime.now().strftime('%X %x %Z')                 : 12:27:34 02/14/24 \n",
      " datetime.now().strftime('%X.%f')                    : 12:27:34.991606\n",
      " datetime.now().strftime('%D-%X.%f')                 : 02/14/24-12:27:34.991619\n",
      " datetime.now().strftime('%Y-%m-%d %H:%M:%S.%f')     : 2024-02-14 12:27:34.991629\n"
     ]
    }
   ],
   "source": [
    "print()\n",
    "for time_fmt in ['%x %X', '%X %x %Z', '%X.%f', '%D-%X.%f', '%Y-%m-%d %H:%M:%S.%f']:\n",
    "    cmd_string = f\"datetime.now().strftime('{time_fmt}')\"\n",
    "    print(f\" {cmd_string:50s}  : {datetime.now().strftime(time_fmt)}\")"
   ]
  },
  {
   "cell_type": "code",
   "execution_count": 7,
   "metadata": {
    "execution": {
     "iopub.execute_input": "2024-02-14T11:27:34.996225Z",
     "iopub.status.busy": "2024-02-14T11:27:34.996021Z",
     "iopub.status.idle": "2024-02-14T11:27:35.027850Z",
     "shell.execute_reply": "2024-02-14T11:27:35.027125Z",
     "shell.execute_reply.started": "2024-02-14T11:27:34.996206Z"
    },
    "scrolled": true
   },
   "outputs": [],
   "source": [
    "# display_gpu_info()"
   ]
  },
  {
   "cell_type": "markdown",
   "metadata": {},
   "source": [
    "## Helper Functions"
   ]
  },
  {
   "cell_type": "code",
   "execution_count": 56,
   "metadata": {
    "execution": {
     "iopub.execute_input": "2024-02-14T18:10:22.470909Z",
     "iopub.status.busy": "2024-02-14T18:10:22.470347Z",
     "iopub.status.idle": "2024-02-14T18:10:22.546506Z",
     "shell.execute_reply": "2024-02-14T18:10:22.545758Z",
     "shell.execute_reply.started": "2024-02-14T18:10:22.470829Z"
    }
   },
   "outputs": [],
   "source": [
    "def train_model(iter_files, metric_keys = None, study_name = \"\", trial_num = 0, save = False, \n",
    "                **model_params):\n",
    "    metrics_hist = defaultdict(list)\n",
    "    my_model = None\n",
    "    \n",
    "    for i, ((X_train,y_train), (X_val, y_val)) in enumerate(iter_files):\n",
    "        logging.info(f\"CrossValidation split #{i}\")\n",
    "        logging.info(f\"Building training & validation DMatrix...\")\n",
    "        \n",
    "        d_train = xgb.dask.DaskDMatrix( client, X_train, y_train)      \n",
    "        d_val = xgb.dask.DaskDMatrix(client, X_val, y_val)\n",
    "        \n",
    "        logging.info(f\"Training model...\")\n",
    "        # booster_model = my_model['booster'] if my_model is not None else None\n",
    "        my_model = xgb.dask.train(\n",
    "            None,  \n",
    "            model_params, \n",
    "            d_train,\n",
    "            # xgb_model = booster_model,\n",
    "            num_boost_round=1000,\n",
    "            evals=[(d_train, \"train\"), (d_val, \"test\")],\n",
    "            verbose_eval=False,\n",
    "            early_stopping_rounds = 50\n",
    "        )\n",
    "        # logging.info(f\"Training model...Completed\")\n",
    "        \n",
    "        logging.info(f\"Running model on test data...\")\n",
    "        y_pred = xgb.dask.predict(client, my_model, d_val).compute()      \n",
    "        y_true = y_val.compute().to_numpy().squeeze()\n",
    "\n",
    "        # Compute predictions and mean squared error for this iteration\n",
    "        logging.info(f\"Calculating metrics...\")\n",
    "        iter_metrics = compute_classification_metrics(my_model, y_true, y_pred)\n",
    "        logging.info(f\"Calculating metrics...Completed\")\n",
    "        \n",
    "        print(\"-\" * 80)            \n",
    "        for key in metric_keys:\n",
    "            metrics_hist[key].append(iter_metrics[key])\n",
    "            print(f\" {key:20s}: {iter_metrics[key]:9.5f}\")\n",
    "        print(\"-\" * 80)            \n",
    "        \n",
    "        del d_train, d_val, X_train, y_train, X_val, y_val, y_true, y_pred\n",
    "        if save:\n",
    "            # save_as_filename = \".\\saved_models\\{1}_trial_{0:03d}.json\".format(study.study_name,trial.number)\n",
    "            save_as_filename = \"./saved_models/{0}_trial_{1:03d}.json\".format(study_name,trial_num)\n",
    "            print(f\" Save model to : {save_as_filename}\")\n",
    "            model['booster'].save_model(save_as_filename)\n",
    "    ## End of loop  \n",
    "    return my_model, metrics_hist\n",
    "\n",
    "def objective(trial, disp_params = True, save = True):\n",
    "    metric_keys = [\"train_auc\",\"train_logloss\", \"val_auc\", \"val_logloss\", \"roc_auc\", \"logloss\",\n",
    "                    \"accuracy\",\"bal_acc\",\"top_k_acc\",\"F1_score\",\"map\",\"pearson_corr\"]    \n",
    "    \n",
    "    study_params = propose_parameters(trial)   \n",
    "    study_params = {\"booster\"      : \"gbtree\",\n",
    "                    \"device\"       : \"gpu\",\n",
    "                    \"objective\"    :  \"binary:logistic\",\n",
    "                    \"eval_metric\"  :  [\"auc\", \"logloss\"],\n",
    "                    \"verbosity\"    : 0, \n",
    "                    \"disable_default_eval_metric\" : False,\n",
    "                    ** study_params}\n",
    "    print('-'*80)\n",
    "    print(f\" Training model (trial #{trial.number}) \")\n",
    "    print('-'*80)\n",
    "\n",
    "    if disp_params:\n",
    "        print(f\" Parameters:\")\n",
    "        for k, v in study_params.items():\n",
    "            print(f\"  {k:30s} {v}\")\n",
    "            \n",
    "    iter_files = make_cv_splits_2(input_file_list, n_folds=5, y_columns=y_columns)\n",
    "    model, metrics =  train_model(iter_files, metric_keys = metric_keys, \n",
    "                                  study_name = study.study_name,\n",
    "                                  trial_num = trial.number,\n",
    "                                  save = True,\n",
    "                                  ** study_params)\n",
    "\n",
    "    print_metric_hist(metrics)\n",
    "    print(f\" model best score    :  {model['booster'].best_score}\")\n",
    "    print(f\" model best iteration:  {model['booster'].best_iteration}\")\n",
    "    \n",
    "\n",
    "    r1 = np.array(metrics['val_auc']).mean()\n",
    "    r2 = np.array(metrics['val_logloss']).mean()\n",
    "    del model, metrics \n",
    "    return r1,r2 "
   ]
  },
  {
   "cell_type": "markdown",
   "metadata": {},
   "source": [
    "## Datasets"
   ]
  },
  {
   "cell_type": "code",
   "execution_count": 9,
   "metadata": {
    "ExecuteTime": {
     "end_time": "2023-12-21T20:50:35.620802Z",
     "start_time": "2023-12-21T20:50:35.605234Z"
    },
    "execution": {
     "iopub.execute_input": "2024-02-14T11:27:36.863752Z",
     "iopub.status.busy": "2024-02-14T11:27:36.863461Z",
     "iopub.status.idle": "2024-02-14T11:27:36.900960Z",
     "shell.execute_reply": "2024-02-14T11:27:36.900199Z",
     "shell.execute_reply.started": "2024-02-14T11:27:36.863730Z"
    },
    "lines_to_next_cell": 0
   },
   "outputs": [
    {
     "name": "stdout",
     "output_type": "stream",
     "text": [
      "\n",
      " Compound Extended Metadata 2 SampleFile  : ./output_11102023/compound_extended_metadata_2samples.csv\n",
      " Compound Profiles 2 Samples File CSV     : ./output_11102023/profiles/compound_profiles_2samples\n",
      " \n",
      " profiles Metadata File                   : ./metadata/profile_metadata.pkl\n",
      " \n",
      " profileInputFiles                        : ./output_11102023/profiles/compound_profiles_2samples_{0:03d}.csv\n",
      " binnedProfileFiles                       : ./output_11102023/binned_profiles/binned_2sample_profiles_{0:03d}.csv\n",
      " training metrics                         : ./output_11102023/training_metrics.pkl\n"
     ]
    }
   ],
   "source": [
    "prefix = '' ### Target-2' , 'MOA'\n",
    "input_path =\"./metadata/\"\n",
    "output_path =\"./output_11102023\"\n",
    "prefix_lc = prefix.lower().replace('-', '_')\n",
    "CSV = '.csv'\n",
    "x = 999\n",
    "\n",
    "CompoundExtendedMetadata2SampleFile = f\"{output_path}{prefix_lc}/compound_extended_metadata_2samples.csv\"\n",
    "CompoundProfiles2SampleFile         = f\"{output_path}{prefix_lc}/profiles/compound_profiles_2samples\"\n",
    "CompoundExtendedMetadataSampleFile  = f\"{output_path}{prefix_lc}/compound_extended_metadata_samples.csv\"\n",
    "profileInputFiles                   = \"./output_11102023/profiles/compound_profiles_2samples_{0:03d}.csv\"\n",
    "binnedProfileFiles                  = \"./output_11102023/binned_profiles/binned_2sample_profiles_{0:03d}.csv\"\n",
    "trainingMetrics                     = f\"{output_path}{prefix_lc}/training_metrics.pkl\"\n",
    "profileMetadataFile                 = f\"{input_path}profile_metadata.pkl\"\n",
    "\n",
    "print()\n",
    "print(f\" Compound Extended Metadata 2 SampleFile  : {CompoundExtendedMetadata2SampleFile }\")\n",
    "print(f\" Compound Profiles 2 Samples File CSV     : {CompoundProfiles2SampleFile}\")\n",
    "print(f\" \")\n",
    "print(f\" profiles Metadata File                   : {profileMetadataFile}\")\n",
    "print(f\" \")\n",
    "print(f\" profileInputFiles                        : {profileInputFiles}\")\n",
    "print(f\" binnedProfileFiles                       : {binnedProfileFiles}\")\n",
    "print(f\" training metrics                         : {trainingMetrics}\")"
   ]
  },
  {
   "cell_type": "markdown",
   "metadata": {},
   "source": [
    "## Read Features metadata file"
   ]
  },
  {
   "cell_type": "code",
   "execution_count": 10,
   "metadata": {
    "execution": {
     "iopub.execute_input": "2024-02-14T11:27:40.654720Z",
     "iopub.status.busy": "2024-02-14T11:27:40.654325Z",
     "iopub.status.idle": "2024-02-14T11:27:40.731434Z",
     "shell.execute_reply": "2024-02-14T11:27:40.730414Z",
     "shell.execute_reply.started": "2024-02-14T11:27:40.654689Z"
    }
   },
   "outputs": [
    {
     "name": "stdout",
     "output_type": "stream",
     "text": [
      " Features select file:  ./metadata/profile_metadata.pkl\n"
     ]
    }
   ],
   "source": [
    "print(f\" Features select file:  {profileMetadataFile}\")\n",
    "\n",
    "with open(profileMetadataFile, 'rb') as f: \n",
    "    pickle_data = pickle.load(f)\n",
    "\n",
    "COMPOUND_PROFILE_COLUMNS = pickle_data['all_profile_columns']\n",
    "\n",
    "metadata_categorical_columns = set(pickle_data['metadata_columns']['MetadataCategoricalColumns'])\n",
    "metadata_categorical_columns_dtype = pickle_data['metadata_columns']['MetadataCategoricalColumns']\n",
    "\n",
    "metadata_float_columns =  set(pickle_data['metadata_columns']['MetadataFloatColumns'])\n",
    "metadata_float_columns_dtype =  pickle_data['metadata_columns']['MetadataFloatColumns']\n",
    "\n",
    "metadata_integer_columns =  set(pickle_data['metadata_columns']['MetadataIntegerColumns'])\n",
    "metadata_integer_columns_dtype =  pickle_data['metadata_columns']['MetadataIntegerColumns']\n",
    "\n",
    "metadata_numeric_columns =  set(pickle_data['metadata_columns']['MetadataNumericColumns'])\n",
    "metadata_numeric_columns_dtype =  pickle_data['metadata_columns']['MetadataNumericColumns']\n",
    "\n",
    "\n",
    "X_columns = pickle_data['selected_columns']['selected']\n",
    "X_columns_dtype = {x: np.float32 for x in X_columns}\n",
    "\n",
    "y_columns = set([\"Metadata_Permiation\"])\n",
    "y_columns_dtype = {x: np.int64 for x in y_columns} ## \"Metadata_log10TPSA\":np.dtype('float64')}\n",
    "\n",
    "Xy_columns = list(y_columns | X_columns)\n",
    "Xy_columns_dtype = y_columns_dtype | X_columns_dtype"
   ]
  },
  {
   "cell_type": "markdown",
   "metadata": {},
   "source": [
    "### Display metadata info and constants used "
   ]
  },
  {
   "cell_type": "code",
   "execution_count": 17,
   "metadata": {
    "ExecuteTime": {
     "end_time": "2023-12-21T20:50:55.041400Z",
     "start_time": "2023-12-21T20:50:55.011436Z"
    },
    "execution": {
     "iopub.execute_input": "2024-02-13T10:47:19.862964Z",
     "iopub.status.busy": "2024-02-13T10:47:19.862404Z",
     "iopub.status.idle": "2024-02-13T10:47:19.911760Z",
     "shell.execute_reply": "2024-02-13T10:47:19.911185Z",
     "shell.execute_reply.started": "2024-02-13T10:47:19.862912Z"
    },
    "slideshow": {
     "slide_type": ""
    },
    "tags": []
   },
   "outputs": [
    {
     "name": "stdout",
     "output_type": "stream",
     "text": [
      "--------------------------------------------------------------------------------\n",
      " MetadataOriginalNames  - length(10 )\n",
      "--------------------------------------------------------------------------------\n",
      " \t : list item : Metadata_Source\n",
      " \t : list item : Metadata_Batch\n",
      " \t : list item : Metadata_Plate\n",
      " \t : list item : Metadata_Well\n",
      " \t : list item : Metadata_JCP2022\n",
      " \t : list item : Metadata_Hash\n",
      " \t : list item : TPSA\n",
      " \t : list item : lnTPSA\n",
      " \t : list item : log10TPSA\n",
      " \t : list item : permiation\n",
      "\n",
      "--------------------------------------------------------------------------------\n",
      " MetadataNames  - length(11 )\n",
      "--------------------------------------------------------------------------------\n",
      " \t : list item : Metadata_Source\n",
      " \t : list item : Metadata_Batch\n",
      " \t : list item : Metadata_Plate\n",
      " \t : list item : Metadata_Well\n",
      " \t : list item : Metadata_JCP2022\n",
      " \t : list item : Metadata_Hash\n",
      " \t : list item : Metadata_Bin\n",
      " \t : list item : Metadata_TPSA\n",
      " \t : list item : Metadata_lnTPSA\n",
      " \t : list item : Metadata_log10TPSA\n",
      " \t : list item : Metadata_Permiation\n",
      "\n",
      "--------------------------------------------------------------------------------\n",
      " MetadataCategoricalColumns  - length(4 )\n",
      "--------------------------------------------------------------------------------\n",
      " \t : key :  Metadata_Source               item: category\n",
      " \t : key :  Metadata_Batch                item: category\n",
      " \t : key :  Metadata_Plate                item: category\n",
      " \t : key :  Metadata_Well                 item: category\n",
      "\n",
      "--------------------------------------------------------------------------------\n",
      " MetadataNumericColumns  - length(6 )\n",
      "--------------------------------------------------------------------------------\n",
      " \t : key :  Metadata_TPSA                 item: <class 'numpy.float32'>\n",
      " \t : key :  Metadata_lnTPSA               item: <class 'numpy.float32'>\n",
      " \t : key :  Metadata_log10TPSA            item: <class 'numpy.float32'>\n",
      " \t : key :  Metadata_Hash                 item: <class 'numpy.int64'>\n",
      " \t : key :  Metadata_Bin                  item: <class 'numpy.int8'>\n",
      " \t : key :  Metadata_Permiation           item: <class 'numpy.int8'>\n",
      "\n",
      "--------------------------------------------------------------------------------\n",
      " MetadataFloatColumns  - length(3 )\n",
      "--------------------------------------------------------------------------------\n",
      " \t : key :  Metadata_TPSA                 item: <class 'numpy.float32'>\n",
      " \t : key :  Metadata_lnTPSA               item: <class 'numpy.float32'>\n",
      " \t : key :  Metadata_log10TPSA            item: <class 'numpy.float32'>\n",
      "\n",
      "--------------------------------------------------------------------------------\n",
      " MetadataIntegerColumns  - length(3 )\n",
      "--------------------------------------------------------------------------------\n",
      " \t : key :  Metadata_Hash                 item: <class 'numpy.int64'>\n",
      " \t : key :  Metadata_Bin                  item: <class 'numpy.int8'>\n",
      " \t : key :  Metadata_Permiation           item: <class 'numpy.int8'>\n",
      "\n",
      "\n",
      " all_profile_columns\n",
      "--------------------------------------------------------------------------------\n",
      " Length            : 3681\n",
      " profile cols [:5] : ['Metadata_Source', 'Metadata_Batch', 'Metadata_Plate', 'Metadata_Well', 'Metadata_JCP2022']\n",
      " profile cols [:10]: ['Metadata_Hash', 'Metadata_Bin', 'Metadata_TPSA', 'Metadata_lnTPSA', 'Metadata_log10TPSA']\n",
      " profile cols [:14]: ['Metadata_Permiation', 'Cells_AreaShape_Area', 'Cells_AreaShape_BoundingBoxArea', 'Cells_AreaShape_BoundingBoxMaximum_X']\n",
      " profile cols [:18]: ['Cells_AreaShape_BoundingBoxMaximum_Y', 'Cells_AreaShape_BoundingBoxMinimum_X', 'Cells_AreaShape_BoundingBoxMinimum_Y', 'Cells_AreaShape_Center_X']\n",
      "\n",
      "\n",
      " metadata_columns\n",
      "--------------------------------------------------------------------------------\n",
      " MetadataOriginalNames        (  10) ['Metadata_Source', 'Metadata_Batch', 'Metadata_Plate', 'Metadata_Well', 'Metadata_JCP2022']\n",
      " MetadataNames                (  11) ['Metadata_Source', 'Metadata_Batch', 'Metadata_Plate', 'Metadata_Well', 'Metadata_JCP2022']\n",
      " MetadataCategoricalColumns   (   4) ['Metadata_Source', 'Metadata_Batch', 'Metadata_Plate', 'Metadata_Well']\n",
      " MetadataNumericColumns       (   6) ['Metadata_TPSA', 'Metadata_lnTPSA', 'Metadata_log10TPSA', 'Metadata_Hash', 'Metadata_Bin']\n",
      " MetadataFloatColumns         (   3) ['Metadata_TPSA', 'Metadata_lnTPSA', 'Metadata_log10TPSA']\n",
      " MetadataIntegerColumns       (   3) ['Metadata_Hash', 'Metadata_Bin', 'Metadata_Permiation']\n",
      "\n",
      " selected_columns\n",
      "--------------------------------------------------------------------------------\n",
      " Feature columns -/selected                 /    1477\n",
      " Feature columns -/dropped_correlation      /    2193\n",
      " Feature columns -/dropped_variance         /       0\n",
      " total                                           3670     \n",
      "\n",
      "\n",
      " metadata_categorical_columms  (   4) {'Metadata_Plate', 'Metadata_Well', 'Metadata_Batch', 'Metadata_Source'} \n",
      " metadata_float_columms        (   3) {'Metadata_lnTPSA', 'Metadata_TPSA', 'Metadata_log10TPSA'}   \n",
      " metadata_integer_columms      (   3) {'Metadata_Bin', 'Metadata_Hash', 'Metadata_Permiation'} \n",
      " metadata_numeric_columms      (   6) {'Metadata_Bin', 'Metadata_lnTPSA', 'Metadata_TPSA', 'Metadata_Hash', 'Metadata_log10TPSA', 'Metadata_Permiation'} \n",
      " COMPOUND_PROFILE_COLUMNS      (3681) ['Metadata_Source', 'Metadata_Batch', 'Metadata_Plate', 'Metadata_Well', 'Metadata_JCP2022', 'Metadata_Hash', 'Metadata_Bin']\n",
      "\n",
      " len(X_columms)                (1477)\n",
      " len(y_columms)                (   1) {'Metadata_Permiation'}\n",
      " len(Xy_columms)               (1478) ['Nuclei_Correlation_Overlap_Mito_RNA', 'Cytoplasm_AreaShape_Center_Y', 'Cells_RadialDistribution_RadialCV_mito_tubeness_2of16']\n",
      " len(Xy_columms_dtype)         (1478) ['Metadata_Permiation', 'Cytoplasm_AreaShape_Center_Y', 'Cells_RadialDistribution_RadialCV_mito_tubeness_2of16']\n",
      "\n",
      " Conversion Dictionaries\n",
      "--------------------------------------------------------------------------------\n",
      " categorical_columns_dtype     (   4) {'Metadata_Source': 'category', 'Metadata_Batch': 'category', 'Metadata_Plate': 'category', 'Metadata_Well': 'category'} \n",
      " float_columns_dtype           (   3) {'Metadata_TPSA': <class 'numpy.float32'>, 'Metadata_lnTPSA': <class 'numpy.float32'>, 'Metadata_log10TPSA': <class 'numpy.float32'>} \n",
      " integer_columns_dtype         (   3) {'Metadata_Hash': <class 'numpy.int64'>, 'Metadata_Bin': <class 'numpy.int8'>, 'Metadata_Permiation': <class 'numpy.int8'>} \n",
      "\n",
      "\n"
     ]
    }
   ],
   "source": [
    "for k in pickle_data['metadata_columns'].keys():\n",
    "    print(\"-\"*80)\n",
    "    print(f\" {k}  - length({len(pickle_data['metadata_columns'][k])} )\")\n",
    "    print(\"-\"*80)\n",
    "    if isinstance(pickle_data['metadata_columns'][k], list):\n",
    "        for v in pickle_data['metadata_columns'][k]:\n",
    "            print(f\" \\t : list item : {v}\")\n",
    "\n",
    "    elif isinstance(pickle_data['metadata_columns'][k], dict):    \n",
    "        for i,v in pickle_data['metadata_columns'][k].items():\n",
    "            print(f\" \\t : key :  {i:25s}     item: {v}\")\n",
    "    print()\n",
    "\n",
    "print(\"\\n all_profile_columns\")\n",
    "print(\"-\"*80)\n",
    "print(f\" Length            : {len(COMPOUND_PROFILE_COLUMNS)}\")\n",
    "print(f\" profile cols [:5] : {COMPOUND_PROFILE_COLUMNS[:5]}\")\n",
    "print(f\" profile cols [:10]: {COMPOUND_PROFILE_COLUMNS[5:10]}\")\n",
    "print(f\" profile cols [:14]: {COMPOUND_PROFILE_COLUMNS[10:14]}\")\n",
    "print(f\" profile cols [:18]: {COMPOUND_PROFILE_COLUMNS[14:18]}\")\n",
    "\n",
    "print()\n",
    "print(\"\\n metadata_columns\")\n",
    "print(\"-\"*80)\n",
    "for i in pickle_data['metadata_columns'].keys():\n",
    "    print(f\" {i:28s} ({len(pickle_data['metadata_columns'][i]):4d}) {list(pickle_data['metadata_columns'][i])[:5]}\")\n",
    " \n",
    "print(\"\\n selected_columns\")\n",
    "print(\"-\"*80)\n",
    "ttl = 0 \n",
    "for i in pickle_data['selected_columns'].keys():\n",
    "    ttl += len(pickle_data['selected_columns'][i])\n",
    "    print(f\" Feature columns -/{i:25s}/   {len(pickle_data['selected_columns'][i]):5d}\")\n",
    "print(f\" {'total':47s}{ttl:5d}     \")     \n",
    " \n",
    "print('\\n')\n",
    "print(f\" metadata_categorical_columms  ({len(metadata_categorical_columns):4d}) {metadata_categorical_columns} \")\n",
    "print(f\" metadata_float_columms        ({  len(metadata_float_columns):4d}) {metadata_float_columns}   \")\n",
    "print(f\" metadata_integer_columms      ({len(metadata_integer_columns):4d}) {metadata_integer_columns} \")\n",
    "print(f\" metadata_numeric_columms      ({len(metadata_numeric_columns):4d}) {metadata_numeric_columns} \")\n",
    "print(f\" COMPOUND_PROFILE_COLUMNS      ({len(COMPOUND_PROFILE_COLUMNS):4d}) {COMPOUND_PROFILE_COLUMNS[:7]}\")\n",
    "print()\n",
    "print(f\" len(X_columms)                ({len(X_columns):4d})\")\n",
    "print(f\" len(y_columms)                ({len(y_columns):4d}) {y_columns}\")\n",
    "print(f\" len(Xy_columms)               ({len(Xy_columns)}) {list(Xy_columns)[:3]}\")\n",
    "print(f\" len(Xy_columms_dtype)         ({len(Xy_columns)}) {list(Xy_columns_dtype)[:3]}\")\n",
    "\n",
    "print(\"\\n Conversion Dictionaries\")\n",
    "print(\"-\"*80)\n",
    "print(f\" categorical_columns_dtype     ({len(metadata_categorical_columns_dtype):4d}) {metadata_categorical_columns_dtype} \")\n",
    "print(f\" float_columns_dtype           ({len(metadata_float_columns_dtype):4d}) {metadata_float_columns_dtype} \")\n",
    "print(f\" integer_columns_dtype         ({len(metadata_integer_columns_dtype):4d}) {metadata_integer_columns_dtype} \")\n",
    "print('\\n')\n",
    "# print(f\" len(label_columms_dtype)     : {len(label_columns_dtype)} \")\n",
    "# print(f\" len(X_columms_dtype)         : {len(X_columns_dtype)}\")\n",
    "# print(f\" len(X_columms_dtype)           : {len(X_columns_dtype)}   {X_columns_dtype}\")\n",
    "# print(f\" len(y_columms_dtype)         : {len(y_columns_dtype)}\")\n",
    "# print(f\" len(Xy_columms_dtype)        : {len(Xy_columns_dtype)}\")\n",
    "# print(f\" len(all_columms_dtype)       : {len(all_columns_dtype)} \")\n",
    "# del all_columns_dtype\n",
    "# for k  in sorted(all_columns_dtype.keys()):\n",
    "#     print(f\" {k:60s}  {all_columns_dtype[k]}\")\n",
    "# Xy_columns_dtype"
   ]
  },
  {
   "cell_type": "code",
   "execution_count": null,
   "metadata": {},
   "outputs": [],
   "source": [
    "# profile_file= \"./output_11102023/profiles/compound_profiles_2samples_002.csv\"\n",
    "# df_profiles = pd.read_csv(profile_file_001, header=0, names = all_columns, usecols=Xy_columns, dtype= Xy_columns_dtype, nrows =5)   \n",
    "# df_profiles = pd.read_csv(profile_file, header=0, names = profileColumnNames, usecols=Xy_columns, dtype= Xy_columns_dtype, nrows =5)   "
   ]
  },
  {
   "cell_type": "code",
   "execution_count": null,
   "metadata": {},
   "outputs": [],
   "source": [
    "# all_columns == col_names\n",
    "# len(all_columns), len(col_names)\n",
    "# for i, (c1,c2 ) in enumerate(zip(all_columns, col_names)):\n",
    "#     if  not(c1 == c2):\n",
    "#         print(f\" item {i}   {c1:50s}   {c2:50s}\")"
   ]
  },
  {
   "cell_type": "code",
   "execution_count": null,
   "metadata": {},
   "outputs": [],
   "source": [
    "# len(col_names_1), len(col_names_2)\n",
    "# for i, (c1,c2 ) in enumerate(zip(col_names_1, col_names_2)):\n",
    "#     if  not(c1 == c2):\n",
    "#         print(f\" item {i}   {c1:50s}   {c2:50s}\")"
   ]
  },
  {
   "cell_type": "markdown",
   "metadata": {},
   "source": [
    "## Create dask cluster and client "
   ]
  },
  {
   "cell_type": "code",
   "execution_count": 49,
   "metadata": {
    "execution": {
     "iopub.execute_input": "2024-02-14T18:02:14.995215Z",
     "iopub.status.busy": "2024-02-14T18:02:14.994468Z",
     "iopub.status.idle": "2024-02-14T18:02:15.436201Z",
     "shell.execute_reply": "2024-02-14T18:02:15.435414Z",
     "shell.execute_reply.started": "2024-02-14T18:02:14.995144Z"
    }
   },
   "outputs": [
    {
     "name": "stdout",
     "output_type": "stream",
     "text": [
      "Wed Feb 14 19:02:15 2024       \n",
      "+-----------------------------------------------------------------------------+\n",
      "| NVIDIA-SMI 470.129.06   Driver Version: 470.129.06   CUDA Version: 11.4     |\n",
      "|-------------------------------+----------------------+----------------------+\n",
      "| GPU  Name        Persistence-M| Bus-Id        Disp.A | Volatile Uncorr. ECC |\n",
      "| Fan  Temp  Perf  Pwr:Usage/Cap|         Memory-Usage | GPU-Util  Compute M. |\n",
      "|                               |                      |               MIG M. |\n",
      "|===============================+======================+======================|\n",
      "|   0  NVIDIA TITAN Xp     Off  | 00000000:09:00.0 Off |                  N/A |\n",
      "| 38%   62C    P2    95W / 250W |   3478MiB / 12196MiB |     44%      Default |\n",
      "|                               |                      |                  N/A |\n",
      "+-------------------------------+----------------------+----------------------+\n",
      "|   1  Quadro GV100        Off  | 00000000:83:00.0 Off |                  Off |\n",
      "| 45%   59C    P2    42W / 250W |   1524MiB / 32508MiB |      0%      Default |\n",
      "|                               |                      |                  N/A |\n",
      "+-------------------------------+----------------------+----------------------+\n",
      "|   2  Quadro GV100        Off  | 00000000:84:00.0 Off |                  Off |\n",
      "| 44%   58C    P2    53W / 250W |   3071MiB / 32508MiB |     14%      Default |\n",
      "|                               |                      |                  N/A |\n",
      "+-------------------------------+----------------------+----------------------+\n",
      "                                                                               \n",
      "+-----------------------------------------------------------------------------+\n",
      "| Processes:                                                                  |\n",
      "|  GPU   GI   CI        PID   Type   Process name                  GPU Memory |\n",
      "|        ID   ID                                                   Usage      |\n",
      "|=============================================================================|\n",
      "|    0   N/A  N/A   2591675      C   python                            983MiB |\n",
      "|    0   N/A  N/A   2591775      C   python                            981MiB |\n",
      "|    0   N/A  N/A   2607821      C   ...ge3/envs/cp311/bin/python      223MiB |\n",
      "|    0   N/A  N/A   2648693      C   ...ge3/envs/cp311/bin/python     1289MiB |\n",
      "|    1   N/A  N/A   2648687      C   ...ge3/envs/cp311/bin/python     1521MiB |\n",
      "|    2   N/A  N/A   2591417      C   python                           1547MiB |\n",
      "|    2   N/A  N/A   2648690      C   ...ge3/envs/cp311/bin/python     1521MiB |\n",
      "+-----------------------------------------------------------------------------+\n"
     ]
    }
   ],
   "source": [
    "!nvidia-smi"
   ]
  },
  {
   "cell_type": "code",
   "execution_count": 34,
   "metadata": {
    "execution": {
     "iopub.execute_input": "2024-02-14T17:28:14.435438Z",
     "iopub.status.busy": "2024-02-14T17:28:14.434737Z",
     "iopub.status.idle": "2024-02-14T17:28:18.019496Z",
     "shell.execute_reply": "2024-02-14T17:28:18.018269Z",
     "shell.execute_reply.started": "2024-02-14T17:28:14.435389Z"
    },
    "lines_to_next_cell": 2
   },
   "outputs": [
    {
     "name": "stderr",
     "output_type": "stream",
     "text": [
      "2024-02-14 18:28:14,496 - distributed.worker.state_machine - WARNING - Async instruction for <Task cancelled name=\"execute('dispatched_train-86e8226b-b3ff-4d45-afbc-4422e9db401e')\" coro=<Worker.execute() done, defined at /home/kevin/miniforge3/envs/cp311/lib/python3.11/site-packages/distributed/worker_state_machine.py:3615>> ended with CancelledError\n",
      "2024-02-14 18:28:14,497 - distributed.worker.state_machine - WARNING - Async instruction for <Task cancelled name=\"execute('dispatched_train-4ba7d9f4-0f04-40e3-ad3c-dd8c84255de7')\" coro=<Worker.execute() done, defined at /home/kevin/miniforge3/envs/cp311/lib/python3.11/site-packages/distributed/worker_state_machine.py:3615>> ended with CancelledError\n",
      "2024-02-14 18:28:17,690 - distributed.nanny - WARNING - Worker process still alive after 3.199993743896485 seconds, killing\n",
      "2024-02-14 18:28:17,694 - distributed.nanny - WARNING - Worker process still alive after 3.1999986267089846 seconds, killing\n"
     ]
    },
    {
     "name": "stdout",
     "output_type": "stream",
     "text": [
      "Cluster close succeeded\n"
     ]
    }
   ],
   "source": [
    "try:\n",
    "    cluster.close()\n",
    "    del cluster\n",
    "except Exception as e:\n",
    "    print(\"Cluster close failed\")\n",
    "else:\n",
    "    print(\"Cluster close succeeded\")"
   ]
  },
  {
   "cell_type": "code",
   "execution_count": 35,
   "metadata": {
    "ExecuteTime": {
     "end_time": "2023-12-21T20:50:41.337029Z",
     "start_time": "2023-12-21T20:50:40.947431Z"
    },
    "execution": {
     "iopub.execute_input": "2024-02-14T17:28:24.781196Z",
     "iopub.status.busy": "2024-02-14T17:28:24.780878Z",
     "iopub.status.idle": "2024-02-14T17:28:27.106951Z",
     "shell.execute_reply": "2024-02-14T17:28:27.105823Z",
     "shell.execute_reply.started": "2024-02-14T17:28:24.781168Z"
    }
   },
   "outputs": [
    {
     "name": "stdout",
     "output_type": "stream",
     "text": [
      " self.scheduler_spec: {'cls': <class 'distributed.scheduler.Scheduler'>, 'options': {'host': '127.0.0.1', 'services': {}, 'service_kwargs': None, 'security': Security(require_encryption=False, tls_min_version=771), 'port': 0, 'interface': None, 'protocol': 'tcp://', 'dashboard': True, 'dashboard_address': ':8787', 'blocked_handlers': None}}\n"
     ]
    },
    {
     "name": "stderr",
     "output_type": "stream",
     "text": [
      "/home/kevin/miniforge3/envs/cp311/lib/python3.11/site-packages/dask/dataframe/_pyarrow_compat.py:17: FutureWarning: Minimal version of pyarrow will soon be increased to 14.0.1. You are using 11.0.0. Please consider upgrading.\n",
      "  warnings.warn(\n",
      "/home/kevin/miniforge3/envs/cp311/lib/python3.11/site-packages/dask/dataframe/_pyarrow_compat.py:17: FutureWarning: Minimal version of pyarrow will soon be increased to 14.0.1. You are using 11.0.0. Please consider upgrading.\n",
      "  warnings.warn(\n",
      "/home/kevin/miniforge3/envs/cp311/lib/python3.11/site-packages/dask/dataframe/_pyarrow_compat.py:17: FutureWarning: Minimal version of pyarrow will soon be increased to 14.0.1. You are using 11.0.0. Please consider upgrading.\n",
      "  warnings.warn(\n"
     ]
    },
    {
     "name": "stdout",
     "output_type": "stream",
     "text": [
      " Cluster dashboard link : http://127.0.0.1:8787/status\n"
     ]
    }
   ],
   "source": [
    "n_workers = 3\n",
    "n_threads = 2\n",
    "cuda_visible_devices = [0,1,2]\n",
    "cluster = LocalCUDACluster( CUDA_VISIBLE_DEVICES=[0,1,2], n_workers=n_workers, threads_per_worker= n_threads, memory_limit='6GB', silence_logs = logging.WARNING)\n",
    "# cluster = LocalCUDACluster( CUDA_VISIBLE_DEVICES=cuda_visible_devices, n_workers=n_workers, threads_per_worker= n_threads, silence_logs = logging.WARNING)\n",
    "# cluster = LocalCluster(\"Kevins_Cluster\", n_workers=2, threads_per_worker=2)\n",
    "print(f\" Cluster dashboard link : {cluster.dashboard_link}\")"
   ]
  },
  {
   "cell_type": "code",
   "execution_count": 52,
   "metadata": {
    "execution": {
     "iopub.execute_input": "2024-02-14T18:03:20.804184Z",
     "iopub.status.busy": "2024-02-14T18:03:20.803814Z",
     "iopub.status.idle": "2024-02-14T18:03:20.852068Z",
     "shell.execute_reply": "2024-02-14T18:03:20.851335Z",
     "shell.execute_reply.started": "2024-02-14T18:03:20.804153Z"
    }
   },
   "outputs": [
    {
     "data": {
      "text/plain": [
       "<bound method Nanny.restart of <Nanny: tcp://127.0.0.1:38937, threads: 2>>"
      ]
     },
     "execution_count": 52,
     "metadata": {},
     "output_type": "execute_result"
    },
    {
     "data": {
      "text/plain": [
       "<bound method LocalCluster.start_worker of LocalCUDACluster(3feb3d7d, 'tcp://127.0.0.1:41689', workers=3, threads=6, memory=16.76 GiB)>"
      ]
     },
     "execution_count": 52,
     "metadata": {},
     "output_type": "execute_result"
    }
   ],
   "source": [
    "# print(cluster)\n",
    "# print(f\" Cluster dashboard link : {cluster.dashboard_link}\")\n",
    "cluster.workers[2].restart\n",
    "cluster.start_worker\n",
    "# cluster.worker_spec\n",
    "# cluster.scale(3)"
   ]
  },
  {
   "cell_type": "code",
   "execution_count": 40,
   "metadata": {
    "execution": {
     "iopub.execute_input": "2024-02-14T18:00:14.827497Z",
     "iopub.status.busy": "2024-02-14T18:00:14.826716Z",
     "iopub.status.idle": "2024-02-14T18:00:14.906410Z",
     "shell.execute_reply": "2024-02-14T18:00:14.905476Z",
     "shell.execute_reply.started": "2024-02-14T18:00:14.827441Z"
    }
   },
   "outputs": [
    {
     "name": "stdout",
     "output_type": "stream",
     "text": [
      "Client close succeeded\n",
      " Client finally\n"
     ]
    }
   ],
   "source": [
    "try:\n",
    "    client.close()\n",
    "    del client\n",
    "except Exception as e:\n",
    "    print(\"Client close failed\")\n",
    "else:\n",
    "    print(\"Client close succeeded\")\n",
    "finally:\n",
    "    print(\" Client finally\")"
   ]
  },
  {
   "cell_type": "code",
   "execution_count": 54,
   "metadata": {
    "execution": {
     "iopub.execute_input": "2024-02-14T18:03:37.586100Z",
     "iopub.status.busy": "2024-02-14T18:03:37.585581Z",
     "iopub.status.idle": "2024-02-14T18:03:37.646054Z",
     "shell.execute_reply": "2024-02-14T18:03:37.645423Z",
     "shell.execute_reply.started": "2024-02-14T18:03:37.586057Z"
    }
   },
   "outputs": [
    {
     "name": "stdout",
     "output_type": "stream",
     "text": [
      "Client created - running\n"
     ]
    }
   ],
   "source": [
    "    client = Client(cluster)    \n",
    "    print(f\"Client created - {client.status}\")"
   ]
  },
  {
   "cell_type": "code",
   "execution_count": 55,
   "metadata": {
    "execution": {
     "iopub.execute_input": "2024-02-14T18:03:40.276740Z",
     "iopub.status.busy": "2024-02-14T18:03:40.276251Z",
     "iopub.status.idle": "2024-02-14T18:03:40.353908Z",
     "shell.execute_reply": "2024-02-14T18:03:40.353340Z",
     "shell.execute_reply.started": "2024-02-14T18:03:40.276699Z"
    }
   },
   "outputs": [
    {
     "data": {
      "text/html": [
       "<div>\n",
       "    <div style=\"width: 24px; height: 24px; background-color: #e1e1e1; border: 3px solid #9D9D9D; border-radius: 5px; position: absolute;\"> </div>\n",
       "    <div style=\"margin-left: 48px;\">\n",
       "        <h3 style=\"margin-bottom: 0px;\">Client</h3>\n",
       "        <p style=\"color: #9D9D9D; margin-bottom: 0px;\">Client-6081518a-cb63-11ee-8acd-d094663cecfa</p>\n",
       "        <table style=\"width: 100%; text-align: left;\">\n",
       "\n",
       "        <tr>\n",
       "        \n",
       "            <td style=\"text-align: left;\"><strong>Connection method:</strong> Cluster object</td>\n",
       "            <td style=\"text-align: left;\"><strong>Cluster type:</strong> dask_cuda.LocalCUDACluster</td>\n",
       "        \n",
       "        </tr>\n",
       "\n",
       "        \n",
       "            <tr>\n",
       "                <td style=\"text-align: left;\">\n",
       "                    <strong>Dashboard: </strong> <a href=\"http://127.0.0.1:8787/status\" target=\"_blank\">http://127.0.0.1:8787/status</a>\n",
       "                </td>\n",
       "                <td style=\"text-align: left;\"></td>\n",
       "            </tr>\n",
       "        \n",
       "\n",
       "        </table>\n",
       "\n",
       "        \n",
       "\n",
       "        \n",
       "            <details>\n",
       "            <summary style=\"margin-bottom: 20px;\"><h3 style=\"display: inline;\">Cluster Info</h3></summary>\n",
       "            <div class=\"jp-RenderedHTMLCommon jp-RenderedHTML jp-mod-trusted jp-OutputArea-output\">\n",
       "    <div style=\"width: 24px; height: 24px; background-color: #e1e1e1; border: 3px solid #9D9D9D; border-radius: 5px; position: absolute;\">\n",
       "    </div>\n",
       "    <div style=\"margin-left: 48px;\">\n",
       "        <h3 style=\"margin-bottom: 0px; margin-top: 0px;\">LocalCUDACluster</h3>\n",
       "        <p style=\"color: #9D9D9D; margin-bottom: 0px;\">3feb3d7d</p>\n",
       "        <table style=\"width: 100%; text-align: left;\">\n",
       "            <tr>\n",
       "                <td style=\"text-align: left;\">\n",
       "                    <strong>Dashboard:</strong> <a href=\"http://127.0.0.1:8787/status\" target=\"_blank\">http://127.0.0.1:8787/status</a>\n",
       "                </td>\n",
       "                <td style=\"text-align: left;\">\n",
       "                    <strong>Workers:</strong> 3\n",
       "                </td>\n",
       "            </tr>\n",
       "            <tr>\n",
       "                <td style=\"text-align: left;\">\n",
       "                    <strong>Total threads:</strong> 6\n",
       "                </td>\n",
       "                <td style=\"text-align: left;\">\n",
       "                    <strong>Total memory:</strong> 16.76 GiB\n",
       "                </td>\n",
       "            </tr>\n",
       "            \n",
       "            <tr>\n",
       "    <td style=\"text-align: left;\"><strong>Status:</strong> running</td>\n",
       "    <td style=\"text-align: left;\"><strong>Using processes:</strong> True</td>\n",
       "</tr>\n",
       "\n",
       "            \n",
       "        </table>\n",
       "\n",
       "        <details>\n",
       "            <summary style=\"margin-bottom: 20px;\">\n",
       "                <h3 style=\"display: inline;\">Scheduler Info</h3>\n",
       "            </summary>\n",
       "\n",
       "            <div style=\"\">\n",
       "    <div>\n",
       "        <div style=\"width: 24px; height: 24px; background-color: #FFF7E5; border: 3px solid #FF6132; border-radius: 5px; position: absolute;\"> </div>\n",
       "        <div style=\"margin-left: 48px;\">\n",
       "            <h3 style=\"margin-bottom: 0px;\">Scheduler</h3>\n",
       "            <p style=\"color: #9D9D9D; margin-bottom: 0px;\">Scheduler-852ee12e-7134-49f9-8a2b-99bd5ea71527</p>\n",
       "            <table style=\"width: 100%; text-align: left;\">\n",
       "                <tr>\n",
       "                    <td style=\"text-align: left;\">\n",
       "                        <strong>Comm:</strong> tcp://127.0.0.1:41689\n",
       "                    </td>\n",
       "                    <td style=\"text-align: left;\">\n",
       "                        <strong>Workers:</strong> 3\n",
       "                    </td>\n",
       "                </tr>\n",
       "                <tr>\n",
       "                    <td style=\"text-align: left;\">\n",
       "                        <strong>Dashboard:</strong> <a href=\"http://127.0.0.1:8787/status\" target=\"_blank\">http://127.0.0.1:8787/status</a>\n",
       "                    </td>\n",
       "                    <td style=\"text-align: left;\">\n",
       "                        <strong>Total threads:</strong> 6\n",
       "                    </td>\n",
       "                </tr>\n",
       "                <tr>\n",
       "                    <td style=\"text-align: left;\">\n",
       "                        <strong>Started:</strong> 35 minutes ago\n",
       "                    </td>\n",
       "                    <td style=\"text-align: left;\">\n",
       "                        <strong>Total memory:</strong> 16.76 GiB\n",
       "                    </td>\n",
       "                </tr>\n",
       "            </table>\n",
       "        </div>\n",
       "    </div>\n",
       "\n",
       "    <details style=\"margin-left: 48px;\">\n",
       "        <summary style=\"margin-bottom: 20px;\">\n",
       "            <h3 style=\"display: inline;\">Workers</h3>\n",
       "        </summary>\n",
       "\n",
       "        \n",
       "        <div style=\"margin-bottom: 20px;\">\n",
       "            <div style=\"width: 24px; height: 24px; background-color: #DBF5FF; border: 3px solid #4CC9FF; border-radius: 5px; position: absolute;\"> </div>\n",
       "            <div style=\"margin-left: 48px;\">\n",
       "            <details>\n",
       "                <summary>\n",
       "                    <h4 style=\"margin-bottom: 0px; display: inline;\">Worker: 0</h4>\n",
       "                </summary>\n",
       "                <table style=\"width: 100%; text-align: left;\">\n",
       "                    <tr>\n",
       "                        <td style=\"text-align: left;\">\n",
       "                            <strong>Comm: </strong> tcp://127.0.0.1:43953\n",
       "                        </td>\n",
       "                        <td style=\"text-align: left;\">\n",
       "                            <strong>Total threads: </strong> 2\n",
       "                        </td>\n",
       "                    </tr>\n",
       "                    <tr>\n",
       "                        <td style=\"text-align: left;\">\n",
       "                            <strong>Dashboard: </strong> <a href=\"http://127.0.0.1:44811/status\" target=\"_blank\">http://127.0.0.1:44811/status</a>\n",
       "                        </td>\n",
       "                        <td style=\"text-align: left;\">\n",
       "                            <strong>Memory: </strong> 5.59 GiB\n",
       "                        </td>\n",
       "                    </tr>\n",
       "                    <tr>\n",
       "                        <td style=\"text-align: left;\">\n",
       "                            <strong>Nanny: </strong> tcp://127.0.0.1:33755\n",
       "                        </td>\n",
       "                        <td style=\"text-align: left;\"></td>\n",
       "                    </tr>\n",
       "                    <tr>\n",
       "                        <td colspan=\"2\" style=\"text-align: left;\">\n",
       "                            <strong>Local directory: </strong> /tmp/dask-scratch-space/worker-oqvzzy28\n",
       "                        </td>\n",
       "                    </tr>\n",
       "\n",
       "                    \n",
       "\n",
       "                    \n",
       "\n",
       "                </table>\n",
       "            </details>\n",
       "            </div>\n",
       "        </div>\n",
       "        \n",
       "        <div style=\"margin-bottom: 20px;\">\n",
       "            <div style=\"width: 24px; height: 24px; background-color: #DBF5FF; border: 3px solid #4CC9FF; border-radius: 5px; position: absolute;\"> </div>\n",
       "            <div style=\"margin-left: 48px;\">\n",
       "            <details>\n",
       "                <summary>\n",
       "                    <h4 style=\"margin-bottom: 0px; display: inline;\">Worker: 1</h4>\n",
       "                </summary>\n",
       "                <table style=\"width: 100%; text-align: left;\">\n",
       "                    <tr>\n",
       "                        <td style=\"text-align: left;\">\n",
       "                            <strong>Comm: </strong> tcp://127.0.0.1:35161\n",
       "                        </td>\n",
       "                        <td style=\"text-align: left;\">\n",
       "                            <strong>Total threads: </strong> 2\n",
       "                        </td>\n",
       "                    </tr>\n",
       "                    <tr>\n",
       "                        <td style=\"text-align: left;\">\n",
       "                            <strong>Dashboard: </strong> <a href=\"http://127.0.0.1:40049/status\" target=\"_blank\">http://127.0.0.1:40049/status</a>\n",
       "                        </td>\n",
       "                        <td style=\"text-align: left;\">\n",
       "                            <strong>Memory: </strong> 5.59 GiB\n",
       "                        </td>\n",
       "                    </tr>\n",
       "                    <tr>\n",
       "                        <td style=\"text-align: left;\">\n",
       "                            <strong>Nanny: </strong> tcp://127.0.0.1:41777\n",
       "                        </td>\n",
       "                        <td style=\"text-align: left;\"></td>\n",
       "                    </tr>\n",
       "                    <tr>\n",
       "                        <td colspan=\"2\" style=\"text-align: left;\">\n",
       "                            <strong>Local directory: </strong> /tmp/dask-scratch-space/worker-oean24jn\n",
       "                        </td>\n",
       "                    </tr>\n",
       "\n",
       "                    \n",
       "\n",
       "                    \n",
       "\n",
       "                </table>\n",
       "            </details>\n",
       "            </div>\n",
       "        </div>\n",
       "        \n",
       "        <div style=\"margin-bottom: 20px;\">\n",
       "            <div style=\"width: 24px; height: 24px; background-color: #DBF5FF; border: 3px solid #4CC9FF; border-radius: 5px; position: absolute;\"> </div>\n",
       "            <div style=\"margin-left: 48px;\">\n",
       "            <details>\n",
       "                <summary>\n",
       "                    <h4 style=\"margin-bottom: 0px; display: inline;\">Worker: 2</h4>\n",
       "                </summary>\n",
       "                <table style=\"width: 100%; text-align: left;\">\n",
       "                    <tr>\n",
       "                        <td style=\"text-align: left;\">\n",
       "                            <strong>Comm: </strong> tcp://127.0.0.1:38937\n",
       "                        </td>\n",
       "                        <td style=\"text-align: left;\">\n",
       "                            <strong>Total threads: </strong> 2\n",
       "                        </td>\n",
       "                    </tr>\n",
       "                    <tr>\n",
       "                        <td style=\"text-align: left;\">\n",
       "                            <strong>Dashboard: </strong> <a href=\"http://127.0.0.1:41605/status\" target=\"_blank\">http://127.0.0.1:41605/status</a>\n",
       "                        </td>\n",
       "                        <td style=\"text-align: left;\">\n",
       "                            <strong>Memory: </strong> 5.59 GiB\n",
       "                        </td>\n",
       "                    </tr>\n",
       "                    <tr>\n",
       "                        <td style=\"text-align: left;\">\n",
       "                            <strong>Nanny: </strong> tcp://127.0.0.1:34195\n",
       "                        </td>\n",
       "                        <td style=\"text-align: left;\"></td>\n",
       "                    </tr>\n",
       "                    <tr>\n",
       "                        <td colspan=\"2\" style=\"text-align: left;\">\n",
       "                            <strong>Local directory: </strong> /tmp/dask-scratch-space/worker-7kx5ei1e\n",
       "                        </td>\n",
       "                    </tr>\n",
       "\n",
       "                    \n",
       "\n",
       "                    \n",
       "\n",
       "                </table>\n",
       "            </details>\n",
       "            </div>\n",
       "        </div>\n",
       "        \n",
       "\n",
       "    </details>\n",
       "</div>\n",
       "\n",
       "        </details>\n",
       "    </div>\n",
       "</div>\n",
       "            </details>\n",
       "        \n",
       "\n",
       "    </div>\n",
       "</div>"
      ],
      "text/plain": [
       "<Client: 'tcp://127.0.0.1:41689' processes=3 threads=6, memory=16.76 GiB>"
      ]
     },
     "execution_count": 55,
     "metadata": {},
     "output_type": "execute_result"
    }
   ],
   "source": [
    "client\n",
    "    \n",
    "# client = Client(cluster.scheduler_address)\n",
    "# client = Client(processes = False)\n",
    "# client = Client(\"tcp://127.0.0.1:37937\")"
   ]
  },
  {
   "cell_type": "markdown",
   "metadata": {},
   "source": [
    "# Use Optuna for hyper-parameter search"
   ]
  },
  {
   "cell_type": "markdown",
   "metadata": {},
   "source": [
    "### Setup ML env"
   ]
  },
  {
   "cell_type": "code",
   "execution_count": 18,
   "metadata": {
    "execution": {
     "iopub.execute_input": "2024-02-14T11:28:25.261083Z",
     "iopub.status.busy": "2024-02-14T11:28:25.260617Z",
     "iopub.status.idle": "2024-02-14T11:28:25.313231Z",
     "shell.execute_reply": "2024-02-14T11:28:25.312376Z",
     "shell.execute_reply.started": "2024-02-14T11:28:25.261046Z"
    }
   },
   "outputs": [
    {
     "data": {
      "text/plain": [
       "'2.0.3'"
      ]
     },
     "execution_count": 18,
     "metadata": {},
     "output_type": "execute_result"
    },
    {
     "data": {
      "text/plain": [
       "<contextlib._GeneratorContextManager at 0x7f1279f73ed0>"
      ]
     },
     "execution_count": 18,
     "metadata": {},
     "output_type": "execute_result"
    }
   ],
   "source": [
    "xgb.__version__\n",
    "xgb.config_context(device = \"gpu\", booster = \"gbtree\", verbosity = 0, validate_parameters = True ) "
   ]
  },
  {
   "cell_type": "code",
   "execution_count": 26,
   "metadata": {
    "execution": {
     "iopub.execute_input": "2024-02-14T11:36:55.336898Z",
     "iopub.status.busy": "2024-02-14T11:36:55.336487Z",
     "iopub.status.idle": "2024-02-14T11:36:57.620856Z",
     "shell.execute_reply": "2024-02-14T11:36:57.620065Z",
     "shell.execute_reply.started": "2024-02-14T11:36:55.336857Z"
    },
    "scrolled": true
   },
   "outputs": [
    {
     "name": "stderr",
     "output_type": "stream",
     "text": [
      "2024-02-14 12:36:55,432 - INFO: -  Read profiles file ...\n"
     ]
    },
    {
     "name": "stdout",
     "output_type": "stream",
     "text": [
      " Reading cell profiles file :  ./output_11102023/binned_profiles/binned_2sample_profiles_000.csv\n",
      " Reading ALL  rows - Number of partitions:  21   \n",
      "\n",
      " Reading cell profiles file :  ./output_11102023/binned_profiles/binned_2sample_profiles_001.csv\n",
      " Reading ALL  rows - Number of partitions:  20   \n",
      "\n",
      " Reading cell profiles file :  ./output_11102023/binned_profiles/binned_2sample_profiles_002.csv\n",
      " Reading ALL  rows - Number of partitions:  21   \n",
      "\n",
      " Reading cell profiles file :  ./output_11102023/binned_profiles/binned_2sample_profiles_004.csv\n",
      " Reading ALL  rows - Number of partitions:  21   \n",
      "\n",
      " Reading cell profiles file :  ./output_11102023/binned_profiles/binned_2sample_profiles_005.csv\n",
      " Reading ALL  rows - Number of partitions:  21   \n",
      "\n",
      " Reading cell profiles file :  ./output_11102023/binned_profiles/binned_2sample_profiles_006.csv\n",
      " Reading ALL  rows - Number of partitions:  21   \n",
      "\n",
      " Reading cell profiles file :  ./output_11102023/binned_profiles/binned_2sample_profiles_007.csv\n",
      " Reading ALL  rows - Number of partitions:  21   \n",
      "\n",
      " Reading cell profiles file :  ./output_11102023/binned_profiles/binned_2sample_profiles_008.csv\n",
      " Reading ALL  rows - Number of partitions:  21   \n",
      "\n",
      " Reading cell profiles file :  ./output_11102023/binned_profiles/binned_2sample_profiles_009.csv\n",
      " Reading ALL  rows - Number of partitions:  21   \n",
      "\n",
      " Reading cell profiles file :  ./output_11102023/binned_profiles/binned_2sample_profiles_011.csv\n"
     ]
    },
    {
     "name": "stderr",
     "output_type": "stream",
     "text": [
      "2024-02-14 12:36:57,601 - INFO: -  Read profiles file ... complete\n"
     ]
    },
    {
     "name": "stdout",
     "output_type": "stream",
     "text": [
      " Reading ALL  rows - Number of partitions:  21   \n",
      "\n"
     ]
    }
   ],
   "source": [
    "# df_profiles = read_cell_profiles(input_files[i], names = COMPOUND_PROFILE_COLUMNS, usecols = Xy_columns, dtype = Xy_columns_dtype)\n",
    "# df_profiles = read_cell_profiles(training_files, names = COMPOUND_PROFILE_COLUMNS, usecols = Xy_columns, dtype = Xy_columns_dtype)\n",
    "# file_idxs = {0, 1, 2, 3, 4, 5, 6, 7, 8, 9, 10, 11}\n",
    "\n",
    "TRAINING_FILES = {0, 1, 2, 4, 5, 6, 7, 8, 9, 11}\n",
    "TEST_FILES = {3, 10}\n",
    "input_file_list = read_binned_profile_files(file_idxs = TRAINING_FILES, \n",
    "                                            filename = binnedProfileFiles,\n",
    "                                            names = COMPOUND_PROFILE_COLUMNS, \n",
    "                                            usecols = Xy_columns, \n",
    "                                            dtype = Xy_columns_dtype)"
   ]
  },
  {
   "cell_type": "markdown",
   "metadata": {},
   "source": [
    "### Load study"
   ]
  },
  {
   "cell_type": "markdown",
   "metadata": {
    "execution": {
     "iopub.execute_input": "2024-02-11T12:53:22.650056Z",
     "iopub.status.busy": "2024-02-11T12:53:22.649626Z",
     "iopub.status.idle": "2024-02-11T12:53:22.690698Z",
     "shell.execute_reply": "2024-02-11T12:53:22.689762Z",
     "shell.execute_reply.started": "2024-02-11T12:53:22.650019Z"
    }
   },
   "source": [
    "  #### Address for optuna dashboard repository:  `sqlite:////home/kevin/WSL-shared/Cellpainting/cj-datasets/optuna_data.db`\n",
    "  #### Address for optuna dashboard repository:  `sqlite:////home/kevin/WSL-shared/Cellpainting/cj-datasets/example.db`"
   ]
  },
  {
   "cell_type": "code",
   "execution_count": 27,
   "metadata": {
    "execution": {
     "iopub.execute_input": "2024-02-14T11:39:20.842125Z",
     "iopub.status.busy": "2024-02-14T11:39:20.841091Z",
     "iopub.status.idle": "2024-02-14T11:39:21.134042Z",
     "shell.execute_reply": "2024-02-14T11:39:21.133478Z",
     "shell.execute_reply.started": "2024-02-14T11:39:20.842075Z"
    }
   },
   "outputs": [
    {
     "data": {
      "text/plain": [
       "<optuna.storages._rdb.storage.RDBStorage at 0x7f124ac8a350>"
      ]
     },
     "execution_count": 27,
     "metadata": {},
     "output_type": "execute_result"
    }
   ],
   "source": [
    "# storage = \"sqlite:///example.db\"\n",
    "storage_copy = \"sqlite:///example_copy.db\"\n",
    "study_name_clone=\"classification-study-1-clone\"\n",
    "# study_name=\"classification-study-1\"\n",
    "\n",
    "## https://optuna.readthedocs.io/en/stable/reference/generated/optuna.storages.RetryFailedTrialCallback.html\n",
    "\n",
    "from optuna.storages import RetryFailedTrialCallback\n",
    "\n",
    "storage_instance = optuna.storages.RDBStorage(\n",
    "    url=storage_copy,\n",
    "    heartbeat_interval=60,\n",
    "    grace_period=120,\n",
    "    failed_trial_callback=RetryFailedTrialCallback(max_retry=3),\n",
    ")\n",
    "storage_instance\n"
   ]
  },
  {
   "cell_type": "code",
   "execution_count": 43,
   "metadata": {
    "execution": {
     "iopub.execute_input": "2024-02-13T12:59:10.507819Z",
     "iopub.status.busy": "2024-02-13T12:59:10.507329Z",
     "iopub.status.idle": "2024-02-13T12:59:10.564996Z",
     "shell.execute_reply": "2024-02-13T12:59:10.564288Z",
     "shell.execute_reply.started": "2024-02-13T12:59:10.507779Z"
    },
    "lines_to_next_cell": 2
   },
   "outputs": [],
   "source": [
    "# resp = input(f\" Delete study {study_name} ?\")\n",
    "# if resp.lower() in ['yes' ,'y']:\n",
    "#     print(' You responsed yes')\n",
    "#     try:\n",
    "#         optuna.delete_study(storage=storage_instance, study_name=study_name)\n",
    "#         print(\"delete successful\")\n",
    "#     except Exception as e:\n",
    "#         print(\"delete failed\")\n",
    "# else:\n",
    "#     print(f\" {study_name} will be kept\")\n",
    "\n",
    "# study = optuna.create_study(storage=storage_instance_copy,\n",
    "#                             study_name=study_name_copy,\n",
    "#                             directions=[\"maximize\",\"minimize\"], \n",
    "#                             load_if_exists=True)\n",
    "# study.set_metric_names([\"roc_auc\", \"logloss\"])"
   ]
  },
  {
   "cell_type": "code",
   "execution_count": 28,
   "metadata": {
    "execution": {
     "iopub.execute_input": "2024-02-14T11:39:26.161474Z",
     "iopub.status.busy": "2024-02-14T11:39:26.160985Z",
     "iopub.status.idle": "2024-02-14T11:39:26.228855Z",
     "shell.execute_reply": "2024-02-14T11:39:26.227785Z",
     "shell.execute_reply.started": "2024-02-14T11:39:26.161433Z"
    }
   },
   "outputs": [
    {
     "name": "stdout",
     "output_type": "stream",
     "text": [
      "Total time:  0:00:00.010578\n"
     ]
    }
   ],
   "source": [
    "start = datetime.now()\n",
    "study  = optuna.load_study(study_name= study_name_clone, storage=storage_instance)\n",
    "print(f\"Total time:  {datetime.now() - start}\")"
   ]
  },
  {
   "cell_type": "code",
   "execution_count": 58,
   "metadata": {
    "execution": {
     "iopub.execute_input": "2024-02-14T22:19:31.327297Z",
     "iopub.status.busy": "2024-02-14T22:19:31.326093Z",
     "iopub.status.idle": "2024-02-14T22:19:31.426685Z",
     "shell.execute_reply": "2024-02-14T22:19:31.425964Z",
     "shell.execute_reply.started": "2024-02-14T22:19:31.327244Z"
    }
   },
   "outputs": [
    {
     "name": "stdout",
     "output_type": "stream",
     "text": [
      " classification-study-1-clone  study history\n",
      "\n",
      "                start     -   completion      status        validation metrics\n",
      " trial#         time      -      time          code      roc_auc        logloss\n",
      "--------------------------------------------------------------------------------\n",
      "Trial #: 0    2024-02-11   15:31:07 - 16:38:29    1      0.62593        0.35270    \n",
      "Trial #: 1    2024-02-11   21:50:47 - 22:14:47    1      0.60966        0.35607    \n",
      "Trial #: 2    2024-02-11   23:21:11 - 00:01:20    1      0.61561        0.36063    \n",
      "Trial #: 3    2024-02-12   00:01:21 - 00:39:17    1      0.60933        0.35866    \n",
      "Trial #: 4    2024-02-12   00:39:18 - 00:56:58    1      0.59683        0.36285    \n",
      "Trial #: 5    2024-02-12   01:55:54 - 02:12:44    1      0.55990        0.56057    \n",
      "Trial #: 6    2024-02-12   02:12:45 - 02:29:49    1      0.59509        0.36394    \n",
      "Trial #: 7    2024-02-12   02:29:50 - 03:59:12    1      0.61147        0.37472    \n",
      "Trial #: 8    2024-02-12   03:59:13 - 04:49:11    1      0.61664        0.35477    \n",
      "Trial #: 9    2024-02-12   04:49:12 - 05:08:23    1      0.52726        0.37212    \n",
      "Trial #: 10   2024-02-12   14:00:38 - 14:26:29    1      0.62208        0.35362    rerun of trial 0\n",
      "Trial #: 11   2024-02-12   15:13:15 - 16:55:58    1      0.61050        0.37124    rerun of trial 2\n",
      "Trial #: 12   2024-02-12   16:55:59 - 17:23:19    1      0.61534        0.35553    rerun of trial 2\n",
      "Trial #: 13   2024-02-12   19:46:39 - 20:04:52    1      0.62132        0.35329    rerun of trial 3\n",
      "Trial #: 14   2024-02-12   20:04:53 - 20:51:04    1      0.60952        0.37508    rerun of trial 4\n",
      "Trial #: 15   2024-02-12   20:51:05 - 21:03:13    1      0.60955        0.35581    rerun of trial 5\n",
      "Trial #: 16   2024-02-12   21:03:14 - 21:21:57    1      0.54904        0.36606    rerun of trial 6\n",
      "Trial #: 17   2024-02-12   21:33:09 - 22:13:52    1      0.62365        0.35322    rerun of trial 7\n",
      "Trial #: 18   2024-02-12   22:13:52 - 22:25:39    1      0.58913        0.36734    rerun of trial 8\n",
      "Trial #: 19   2024-02-12   22:25:40 - 22:36:49    1      0.59105        0.36808    rerun of trial 9\n",
      "Trial #: 20   2024-02-12   22:36:50 - 23:05:05    1      0.60879        0.35860    rerun of trial 10\n",
      "Trial #: 21   2024-02-13   04:22:59 - 04:34:36    1      0.55585        0.57369    rerun of trial 12\n",
      "Trial #: 22   2024-02-13   04:34:37 - 04:49:42    1      0.61422        0.35551    rerun of trial 13\n",
      "Trial #: 23   2024-02-13   04:49:43 - 05:00:23    1      0.58133        0.38038    rerun of trial 14\n",
      "Trial #: 24   2024-02-13   05:00:23 - 05:15:50    1      0.59614        0.35925    rerun of trial 11\n",
      "Trial #: 25   2024-02-13   05:23:23 - 05:35:08    1      0.56613        0.41619    \n",
      "Trial #: 26   2024-02-13   05:35:09 - 05:49:09    1      0.56828        0.43065    \n",
      "Trial #: 27   2024-02-13   05:49:10 - 06:00:11    1      0.60657        0.35728    \n",
      "Trial #: 28   2024-02-13   06:00:11 - 06:13:01    1      0.58216        0.39139    \n",
      "Trial #: 29   2024-02-13   06:13:02 - 06:26:33    1      0.61431        0.35519    \n",
      "Trial #: 30   2024-02-13   06:32:02 - 07:26:32    1      0.62248        0.35331    \n",
      "Trial #: 31   2024-02-13   07:26:33 - 07:46:11    1      0.62233        0.35339    \n",
      "Trial #: 32   2024-02-13   07:46:12 - 07:59:04    1      0.55335        0.58426    \n",
      "Trial #: 33   2024-02-13   07:59:05 - 08:10:18    1      0.57281        0.40450    \n",
      "Trial #: 34   2024-02-13   08:10:20 - 08:21:40    1      0.56731        0.40014    \n",
      "Trial #: 35   2024-02-13   11:49:46 - 12:08:05    1      0.60925        0.35635    \n",
      "Trial #: 36   2024-02-13   12:08:06 - 12:20:26    1      0.58370        0.37018    \n",
      "Trial #: 37   2024-02-13   12:20:27 - 12:32:04    1      0.55849        0.46500    \n",
      "Trial #: 38   2024-02-13   12:32:04 - 13:14:32    1      0.61240        0.36259    \n",
      "Trial #: 39   2024-02-13   13:14:32 - 13:27:24    1      0.55885        0.44736    \n",
      "Trial #: 40   2024-02-13   13:59:35 - 14:24:06    1      0.59709        0.37849    \n",
      "Trial #: 41   2024-02-13   14:24:07 - 14:27:07    3          *** FAILED ***        \n",
      "Trial #: 42   2024-02-14   12:39:48 - 13:18:00    1      0.60608        0.37906    \n",
      "Trial #: 43   2024-02-14   13:18:00 - 13:45:31    1      0.59964        0.37906    \n",
      "Trial #: 44   2024-02-14   13:45:32 - 14:05:23    1      0.62048        0.35366    \n",
      "Trial #: 45   2024-02-14   14:05:24 - 14:30:08    1      0.61736        0.35471    \n",
      "Trial #: 46   2024-02-14   14:30:09 - 15:53:19    3          *** FAILED ***        \n",
      "Trial #: 47   2024-02-14   18:28:43 - 18:50:41    1      0.59136        0.37904    \n",
      "Trial #: 48   2024-02-14   19:10:38 - 19:26:13    3          *** FAILED ***        \n",
      " *** end of trials *** \n",
      " Best trials:  [0]\n"
     ]
    }
   ],
   "source": [
    "disp_study_history(study)"
   ]
  },
  {
   "cell_type": "markdown",
   "metadata": {},
   "source": [
    "### Run studies"
   ]
  },
  {
   "cell_type": "code",
   "execution_count": 57,
   "metadata": {
    "execution": {
     "iopub.execute_input": "2024-02-14T18:10:38.781926Z",
     "iopub.status.busy": "2024-02-14T18:10:38.781442Z",
     "iopub.status.idle": "2024-02-14T18:26:14.103292Z",
     "shell.execute_reply": "2024-02-14T18:26:14.101557Z",
     "shell.execute_reply.started": "2024-02-14T18:10:38.781884Z"
    },
    "scrolled": true
   },
   "outputs": [
    {
     "name": "stdout",
     "output_type": "stream",
     "text": [
      "--------------------------------------------------------------------------------\n",
      " Training model (trial #48) \n",
      "--------------------------------------------------------------------------------\n",
      " Parameters:\n",
      "  booster                        gbtree\n",
      "  device                         gpu\n",
      "  objective                      binary:logistic\n",
      "  eval_metric                    ['auc', 'logloss']\n",
      "  verbosity                      0\n",
      "  disable_default_eval_metric    False\n",
      "  tree_method                    auto\n",
      "  learning_rate                  8.83247837937422e-06\n",
      "  gamma                          5.960817626998998\n",
      "  max_depth                      13\n",
      "  min_child_weight               7.9484145607586045\n",
      "  max_delta_step                 8.715884892658252\n",
      "  subsample                      0.817346268641036\n",
      "  sampling_method                uniform\n",
      "  colsample_bytree               1.0\n",
      "  colsample_bylevel              0.8740197655399355\n",
      "  colsample_bynode               0.7375294776118874\n",
      "  lambda                         1\n",
      "  scale_pos_weight               1\n",
      "  max_leaves                     0\n",
      "  reg_lambda                     3.2267\n",
      " # bin files: 10   # of folds 5 -  (groups of 2 file tuples)\n",
      " CV Split 0 -  Training files: [2, 3, 4, 5, 6, 7, 8, 9]   Validation files: [0, 1]  \n"
     ]
    },
    {
     "name": "stderr",
     "output_type": "stream",
     "text": [
      "2024-02-14 19:10:44,910 - INFO: - CrossValidation split #0\n",
      "2024-02-14 19:10:44,912 - INFO: - Building training & validation DMatrix...\n",
      "2024-02-14 19:12:17,172 - INFO: - Training model...\n",
      "2024-02-14 19:12:17,181 - INFO: - start listen on 10.91.28.16:34493\n",
      "[19:12:17] task [xgboost.dask-0]:tcp://127.0.0.1:43953 got new rank 0\n",
      "[19:12:17] task [xgboost.dask-1]:tcp://127.0.0.1:35161 got new rank 1\n",
      "[19:12:17] task [xgboost.dask-2]:tcp://127.0.0.1:38937 got new rank 2\n",
      "2024-02-14 19:12:17,222 - INFO: - @tracker All of 3 nodes getting started\n",
      "2024-02-14 19:25:52,893 - INFO: - @tracker All nodes finishes job\n",
      "2024-02-14 19:25:53,443 - INFO: - Running model on test data...\n",
      "2024-02-14 19:26:13,064 - INFO: - Calculating metrics...\n",
      "2024-02-14 19:26:13,124 - INFO: - Calculating metrics...Completed\n",
      "[W 2024-02-14 19:26:13,207] Trial 48 failed with parameters: {'learning_rate': 8.83247837937422e-06, 'min_split_loss': 5.960817626998998, 'max_depth': 13, 'min_child_weight': 7.9484145607586045, 'max_delta_step': 8.715884892658252, 'subsample': 0.817346268641036, 'colsample_bylevel': 0.8740197655399355, 'colsample_bynode': 0.7375294776118874} because of the following error: NameError(\"name 'model' is not defined\").\n",
      "Traceback (most recent call last):\n",
      "  File \"/home/kevin/miniforge3/envs/cp311/lib/python3.11/site-packages/optuna/study/_optimize.py\", line 200, in _run_trial\n",
      "    value_or_values = func(trial)\n",
      "                      ^^^^^^^^^^^\n",
      "  File \"/tmp/ipykernel_2607821/2388809527.py\", line 73, in objective\n",
      "    model, metrics =  train_model(iter_files, metric_keys = metric_keys,\n",
      "                     ^^^^^^^^^^^^^^^^^^^^^^^^^^^^^^^^^^^^^^^^^^^^^^^^^^^\n",
      "  File \"/tmp/ipykernel_2607821/2388809527.py\", line 47, in train_model\n",
      "    model['booster'].save_model(save_as_filename)\n",
      "    ^^^^^\n",
      "NameError: name 'model' is not defined\n",
      "[W 2024-02-14 19:26:13,208] Trial 48 failed with value None.\n"
     ]
    },
    {
     "name": "stdout",
     "output_type": "stream",
     "text": [
      "--------------------------------------------------------------------------------\n",
      " train_auc           :   0.86940\n",
      " train_logloss       :   0.37798\n",
      " val_auc             :   0.61136\n",
      " val_logloss         :   0.38035\n",
      " roc_auc             :   0.61302\n",
      " logloss             :   0.38035\n",
      " accuracy            :   0.87953\n",
      " bal_acc             :   0.00000\n",
      " top_k_acc           :   1.00000\n",
      " F1_score            :   0.00000\n",
      " map                 :   0.19587\n",
      " pearson_corr        :   0.16075\n",
      "--------------------------------------------------------------------------------\n",
      " Save model to : .\\saved_models\\classification-study-1-clone_trial_048.json\n"
     ]
    },
    {
     "ename": "NameError",
     "evalue": "name 'model' is not defined",
     "output_type": "error",
     "traceback": [
      "\u001b[0;31m---------------------------------------------------------------------------\u001b[0m",
      "\u001b[0;31mNameError\u001b[0m                                 Traceback (most recent call last)",
      "Cell \u001b[0;32mIn[57], line 3\u001b[0m\n\u001b[1;32m      1\u001b[0m start \u001b[38;5;241m=\u001b[39m datetime\u001b[38;5;241m.\u001b[39mnow()\n\u001b[0;32m----> 3\u001b[0m \u001b[43mstudy\u001b[49m\u001b[38;5;241;43m.\u001b[39;49m\u001b[43moptimize\u001b[49m\u001b[43m(\u001b[49m\u001b[43mobjective\u001b[49m\u001b[43m,\u001b[49m\u001b[43m \u001b[49m\u001b[43mn_trials\u001b[49m\u001b[38;5;241;43m=\u001b[39;49m\u001b[38;5;241;43m1\u001b[39;49m\u001b[43m,\u001b[49m\u001b[43m \u001b[49m\u001b[43mtimeout\u001b[49m\u001b[38;5;241;43m=\u001b[39;49m\u001b[38;5;241;43m3600\u001b[39;49m\u001b[38;5;241;43m*\u001b[39;49m\u001b[38;5;241;43m7\u001b[39;49m\u001b[43m,\u001b[49m\u001b[43m \u001b[49m\u001b[43mgc_after_trial\u001b[49m\u001b[38;5;241;43m=\u001b[39;49m\u001b[38;5;28;43;01mTrue\u001b[39;49;00m\u001b[43m,\u001b[49m\u001b[43m \u001b[49m\u001b[43mshow_progress_bar\u001b[49m\u001b[38;5;241;43m=\u001b[39;49m\u001b[38;5;28;43;01mFalse\u001b[39;49;00m\u001b[43m)\u001b[49m\n\u001b[1;32m      5\u001b[0m \u001b[38;5;28mprint\u001b[39m(\u001b[38;5;124mf\u001b[39m\u001b[38;5;124m\"\u001b[39m\u001b[38;5;124mTotal time:  \u001b[39m\u001b[38;5;132;01m{\u001b[39;00mdatetime\u001b[38;5;241m.\u001b[39mnow()\u001b[38;5;250m \u001b[39m\u001b[38;5;241m-\u001b[39m\u001b[38;5;250m \u001b[39mstart\u001b[38;5;132;01m}\u001b[39;00m\u001b[38;5;124m\"\u001b[39m)\n",
      "File \u001b[0;32m~/miniforge3/envs/cp311/lib/python3.11/site-packages/optuna/study/study.py:451\u001b[0m, in \u001b[0;36mStudy.optimize\u001b[0;34m(self, func, n_trials, timeout, n_jobs, catch, callbacks, gc_after_trial, show_progress_bar)\u001b[0m\n\u001b[1;32m    348\u001b[0m \u001b[38;5;28;01mdef\u001b[39;00m \u001b[38;5;21moptimize\u001b[39m(\n\u001b[1;32m    349\u001b[0m     \u001b[38;5;28mself\u001b[39m,\n\u001b[1;32m    350\u001b[0m     func: ObjectiveFuncType,\n\u001b[0;32m   (...)\u001b[0m\n\u001b[1;32m    357\u001b[0m     show_progress_bar: \u001b[38;5;28mbool\u001b[39m \u001b[38;5;241m=\u001b[39m \u001b[38;5;28;01mFalse\u001b[39;00m,\n\u001b[1;32m    358\u001b[0m ) \u001b[38;5;241m-\u001b[39m\u001b[38;5;241m>\u001b[39m \u001b[38;5;28;01mNone\u001b[39;00m:\n\u001b[1;32m    359\u001b[0m \u001b[38;5;250m    \u001b[39m\u001b[38;5;124;03m\"\"\"Optimize an objective function.\u001b[39;00m\n\u001b[1;32m    360\u001b[0m \n\u001b[1;32m    361\u001b[0m \u001b[38;5;124;03m    Optimization is done by choosing a suitable set of hyperparameter values from a given\u001b[39;00m\n\u001b[0;32m   (...)\u001b[0m\n\u001b[1;32m    449\u001b[0m \u001b[38;5;124;03m            If nested invocation of this method occurs.\u001b[39;00m\n\u001b[1;32m    450\u001b[0m \u001b[38;5;124;03m    \"\"\"\u001b[39;00m\n\u001b[0;32m--> 451\u001b[0m     \u001b[43m_optimize\u001b[49m\u001b[43m(\u001b[49m\n\u001b[1;32m    452\u001b[0m \u001b[43m        \u001b[49m\u001b[43mstudy\u001b[49m\u001b[38;5;241;43m=\u001b[39;49m\u001b[38;5;28;43mself\u001b[39;49m\u001b[43m,\u001b[49m\n\u001b[1;32m    453\u001b[0m \u001b[43m        \u001b[49m\u001b[43mfunc\u001b[49m\u001b[38;5;241;43m=\u001b[39;49m\u001b[43mfunc\u001b[49m\u001b[43m,\u001b[49m\n\u001b[1;32m    454\u001b[0m \u001b[43m        \u001b[49m\u001b[43mn_trials\u001b[49m\u001b[38;5;241;43m=\u001b[39;49m\u001b[43mn_trials\u001b[49m\u001b[43m,\u001b[49m\n\u001b[1;32m    455\u001b[0m \u001b[43m        \u001b[49m\u001b[43mtimeout\u001b[49m\u001b[38;5;241;43m=\u001b[39;49m\u001b[43mtimeout\u001b[49m\u001b[43m,\u001b[49m\n\u001b[1;32m    456\u001b[0m \u001b[43m        \u001b[49m\u001b[43mn_jobs\u001b[49m\u001b[38;5;241;43m=\u001b[39;49m\u001b[43mn_jobs\u001b[49m\u001b[43m,\u001b[49m\n\u001b[1;32m    457\u001b[0m \u001b[43m        \u001b[49m\u001b[43mcatch\u001b[49m\u001b[38;5;241;43m=\u001b[39;49m\u001b[38;5;28;43mtuple\u001b[39;49m\u001b[43m(\u001b[49m\u001b[43mcatch\u001b[49m\u001b[43m)\u001b[49m\u001b[43m \u001b[49m\u001b[38;5;28;43;01mif\u001b[39;49;00m\u001b[43m \u001b[49m\u001b[38;5;28;43misinstance\u001b[39;49m\u001b[43m(\u001b[49m\u001b[43mcatch\u001b[49m\u001b[43m,\u001b[49m\u001b[43m \u001b[49m\u001b[43mIterable\u001b[49m\u001b[43m)\u001b[49m\u001b[43m \u001b[49m\u001b[38;5;28;43;01melse\u001b[39;49;00m\u001b[43m \u001b[49m\u001b[43m(\u001b[49m\u001b[43mcatch\u001b[49m\u001b[43m,\u001b[49m\u001b[43m)\u001b[49m\u001b[43m,\u001b[49m\n\u001b[1;32m    458\u001b[0m \u001b[43m        \u001b[49m\u001b[43mcallbacks\u001b[49m\u001b[38;5;241;43m=\u001b[39;49m\u001b[43mcallbacks\u001b[49m\u001b[43m,\u001b[49m\n\u001b[1;32m    459\u001b[0m \u001b[43m        \u001b[49m\u001b[43mgc_after_trial\u001b[49m\u001b[38;5;241;43m=\u001b[39;49m\u001b[43mgc_after_trial\u001b[49m\u001b[43m,\u001b[49m\n\u001b[1;32m    460\u001b[0m \u001b[43m        \u001b[49m\u001b[43mshow_progress_bar\u001b[49m\u001b[38;5;241;43m=\u001b[39;49m\u001b[43mshow_progress_bar\u001b[49m\u001b[43m,\u001b[49m\n\u001b[1;32m    461\u001b[0m \u001b[43m    \u001b[49m\u001b[43m)\u001b[49m\n",
      "File \u001b[0;32m~/miniforge3/envs/cp311/lib/python3.11/site-packages/optuna/study/_optimize.py:66\u001b[0m, in \u001b[0;36m_optimize\u001b[0;34m(study, func, n_trials, timeout, n_jobs, catch, callbacks, gc_after_trial, show_progress_bar)\u001b[0m\n\u001b[1;32m     64\u001b[0m \u001b[38;5;28;01mtry\u001b[39;00m:\n\u001b[1;32m     65\u001b[0m     \u001b[38;5;28;01mif\u001b[39;00m n_jobs \u001b[38;5;241m==\u001b[39m \u001b[38;5;241m1\u001b[39m:\n\u001b[0;32m---> 66\u001b[0m         \u001b[43m_optimize_sequential\u001b[49m\u001b[43m(\u001b[49m\n\u001b[1;32m     67\u001b[0m \u001b[43m            \u001b[49m\u001b[43mstudy\u001b[49m\u001b[43m,\u001b[49m\n\u001b[1;32m     68\u001b[0m \u001b[43m            \u001b[49m\u001b[43mfunc\u001b[49m\u001b[43m,\u001b[49m\n\u001b[1;32m     69\u001b[0m \u001b[43m            \u001b[49m\u001b[43mn_trials\u001b[49m\u001b[43m,\u001b[49m\n\u001b[1;32m     70\u001b[0m \u001b[43m            \u001b[49m\u001b[43mtimeout\u001b[49m\u001b[43m,\u001b[49m\n\u001b[1;32m     71\u001b[0m \u001b[43m            \u001b[49m\u001b[43mcatch\u001b[49m\u001b[43m,\u001b[49m\n\u001b[1;32m     72\u001b[0m \u001b[43m            \u001b[49m\u001b[43mcallbacks\u001b[49m\u001b[43m,\u001b[49m\n\u001b[1;32m     73\u001b[0m \u001b[43m            \u001b[49m\u001b[43mgc_after_trial\u001b[49m\u001b[43m,\u001b[49m\n\u001b[1;32m     74\u001b[0m \u001b[43m            \u001b[49m\u001b[43mreseed_sampler_rng\u001b[49m\u001b[38;5;241;43m=\u001b[39;49m\u001b[38;5;28;43;01mFalse\u001b[39;49;00m\u001b[43m,\u001b[49m\n\u001b[1;32m     75\u001b[0m \u001b[43m            \u001b[49m\u001b[43mtime_start\u001b[49m\u001b[38;5;241;43m=\u001b[39;49m\u001b[38;5;28;43;01mNone\u001b[39;49;00m\u001b[43m,\u001b[49m\n\u001b[1;32m     76\u001b[0m \u001b[43m            \u001b[49m\u001b[43mprogress_bar\u001b[49m\u001b[38;5;241;43m=\u001b[39;49m\u001b[43mprogress_bar\u001b[49m\u001b[43m,\u001b[49m\n\u001b[1;32m     77\u001b[0m \u001b[43m        \u001b[49m\u001b[43m)\u001b[49m\n\u001b[1;32m     78\u001b[0m     \u001b[38;5;28;01melse\u001b[39;00m:\n\u001b[1;32m     79\u001b[0m         \u001b[38;5;28;01mif\u001b[39;00m n_jobs \u001b[38;5;241m==\u001b[39m \u001b[38;5;241m-\u001b[39m\u001b[38;5;241m1\u001b[39m:\n",
      "File \u001b[0;32m~/miniforge3/envs/cp311/lib/python3.11/site-packages/optuna/study/_optimize.py:163\u001b[0m, in \u001b[0;36m_optimize_sequential\u001b[0;34m(study, func, n_trials, timeout, catch, callbacks, gc_after_trial, reseed_sampler_rng, time_start, progress_bar)\u001b[0m\n\u001b[1;32m    160\u001b[0m         \u001b[38;5;28;01mbreak\u001b[39;00m\n\u001b[1;32m    162\u001b[0m \u001b[38;5;28;01mtry\u001b[39;00m:\n\u001b[0;32m--> 163\u001b[0m     frozen_trial \u001b[38;5;241m=\u001b[39m \u001b[43m_run_trial\u001b[49m\u001b[43m(\u001b[49m\u001b[43mstudy\u001b[49m\u001b[43m,\u001b[49m\u001b[43m \u001b[49m\u001b[43mfunc\u001b[49m\u001b[43m,\u001b[49m\u001b[43m \u001b[49m\u001b[43mcatch\u001b[49m\u001b[43m)\u001b[49m\n\u001b[1;32m    164\u001b[0m \u001b[38;5;28;01mfinally\u001b[39;00m:\n\u001b[1;32m    165\u001b[0m     \u001b[38;5;66;03m# The following line mitigates memory problems that can be occurred in some\u001b[39;00m\n\u001b[1;32m    166\u001b[0m     \u001b[38;5;66;03m# environments (e.g., services that use computing containers such as GitHub Actions).\u001b[39;00m\n\u001b[1;32m    167\u001b[0m     \u001b[38;5;66;03m# Please refer to the following PR for further details:\u001b[39;00m\n\u001b[1;32m    168\u001b[0m     \u001b[38;5;66;03m# https://github.com/optuna/optuna/pull/325.\u001b[39;00m\n\u001b[1;32m    169\u001b[0m     \u001b[38;5;28;01mif\u001b[39;00m gc_after_trial:\n",
      "File \u001b[0;32m~/miniforge3/envs/cp311/lib/python3.11/site-packages/optuna/study/_optimize.py:251\u001b[0m, in \u001b[0;36m_run_trial\u001b[0;34m(study, func, catch)\u001b[0m\n\u001b[1;32m    244\u001b[0m         \u001b[38;5;28;01massert\u001b[39;00m \u001b[38;5;28;01mFalse\u001b[39;00m, \u001b[38;5;124m\"\u001b[39m\u001b[38;5;124mShould not reach.\u001b[39m\u001b[38;5;124m\"\u001b[39m\n\u001b[1;32m    246\u001b[0m \u001b[38;5;28;01mif\u001b[39;00m (\n\u001b[1;32m    247\u001b[0m     frozen_trial\u001b[38;5;241m.\u001b[39mstate \u001b[38;5;241m==\u001b[39m TrialState\u001b[38;5;241m.\u001b[39mFAIL\n\u001b[1;32m    248\u001b[0m     \u001b[38;5;129;01mand\u001b[39;00m func_err \u001b[38;5;129;01mis\u001b[39;00m \u001b[38;5;129;01mnot\u001b[39;00m \u001b[38;5;28;01mNone\u001b[39;00m\n\u001b[1;32m    249\u001b[0m     \u001b[38;5;129;01mand\u001b[39;00m \u001b[38;5;129;01mnot\u001b[39;00m \u001b[38;5;28misinstance\u001b[39m(func_err, catch)\n\u001b[1;32m    250\u001b[0m ):\n\u001b[0;32m--> 251\u001b[0m     \u001b[38;5;28;01mraise\u001b[39;00m func_err\n\u001b[1;32m    252\u001b[0m \u001b[38;5;28;01mreturn\u001b[39;00m frozen_trial\n",
      "File \u001b[0;32m~/miniforge3/envs/cp311/lib/python3.11/site-packages/optuna/study/_optimize.py:200\u001b[0m, in \u001b[0;36m_run_trial\u001b[0;34m(study, func, catch)\u001b[0m\n\u001b[1;32m    198\u001b[0m \u001b[38;5;28;01mwith\u001b[39;00m get_heartbeat_thread(trial\u001b[38;5;241m.\u001b[39m_trial_id, study\u001b[38;5;241m.\u001b[39m_storage):\n\u001b[1;32m    199\u001b[0m     \u001b[38;5;28;01mtry\u001b[39;00m:\n\u001b[0;32m--> 200\u001b[0m         value_or_values \u001b[38;5;241m=\u001b[39m \u001b[43mfunc\u001b[49m\u001b[43m(\u001b[49m\u001b[43mtrial\u001b[49m\u001b[43m)\u001b[49m\n\u001b[1;32m    201\u001b[0m     \u001b[38;5;28;01mexcept\u001b[39;00m exceptions\u001b[38;5;241m.\u001b[39mTrialPruned \u001b[38;5;28;01mas\u001b[39;00m e:\n\u001b[1;32m    202\u001b[0m         \u001b[38;5;66;03m# TODO(mamu): Handle multi-objective cases.\u001b[39;00m\n\u001b[1;32m    203\u001b[0m         state \u001b[38;5;241m=\u001b[39m TrialState\u001b[38;5;241m.\u001b[39mPRUNED\n",
      "Cell \u001b[0;32mIn[56], line 73\u001b[0m, in \u001b[0;36mobjective\u001b[0;34m(trial, disp_params, save)\u001b[0m\n\u001b[1;32m     70\u001b[0m         \u001b[38;5;28mprint\u001b[39m(\u001b[38;5;124mf\u001b[39m\u001b[38;5;124m\"\u001b[39m\u001b[38;5;124m  \u001b[39m\u001b[38;5;132;01m{\u001b[39;00mk\u001b[38;5;132;01m:\u001b[39;00m\u001b[38;5;124m30s\u001b[39m\u001b[38;5;132;01m}\u001b[39;00m\u001b[38;5;124m \u001b[39m\u001b[38;5;132;01m{\u001b[39;00mv\u001b[38;5;132;01m}\u001b[39;00m\u001b[38;5;124m\"\u001b[39m)\n\u001b[1;32m     72\u001b[0m iter_files \u001b[38;5;241m=\u001b[39m make_cv_splits_2(input_file_list, n_folds\u001b[38;5;241m=\u001b[39m\u001b[38;5;241m5\u001b[39m, y_columns\u001b[38;5;241m=\u001b[39my_columns)\n\u001b[0;32m---> 73\u001b[0m model, metrics \u001b[38;5;241m=\u001b[39m  \u001b[43mtrain_model\u001b[49m\u001b[43m(\u001b[49m\u001b[43miter_files\u001b[49m\u001b[43m,\u001b[49m\u001b[43m \u001b[49m\u001b[43mmetric_keys\u001b[49m\u001b[43m \u001b[49m\u001b[38;5;241;43m=\u001b[39;49m\u001b[43m \u001b[49m\u001b[43mmetric_keys\u001b[49m\u001b[43m,\u001b[49m\u001b[43m \u001b[49m\n\u001b[1;32m     74\u001b[0m \u001b[43m                              \u001b[49m\u001b[43mstudy_name\u001b[49m\u001b[43m \u001b[49m\u001b[38;5;241;43m=\u001b[39;49m\u001b[43m \u001b[49m\u001b[43mstudy\u001b[49m\u001b[38;5;241;43m.\u001b[39;49m\u001b[43mstudy_name\u001b[49m\u001b[43m,\u001b[49m\n\u001b[1;32m     75\u001b[0m \u001b[43m                              \u001b[49m\u001b[43mtrial_num\u001b[49m\u001b[43m \u001b[49m\u001b[38;5;241;43m=\u001b[39;49m\u001b[43m \u001b[49m\u001b[43mtrial\u001b[49m\u001b[38;5;241;43m.\u001b[39;49m\u001b[43mnumber\u001b[49m\u001b[43m,\u001b[49m\n\u001b[1;32m     76\u001b[0m \u001b[43m                              \u001b[49m\u001b[43msave\u001b[49m\u001b[43m \u001b[49m\u001b[38;5;241;43m=\u001b[39;49m\u001b[43m \u001b[49m\u001b[38;5;28;43;01mTrue\u001b[39;49;00m\u001b[43m,\u001b[49m\n\u001b[1;32m     77\u001b[0m \u001b[43m                              \u001b[49m\u001b[38;5;241;43m*\u001b[39;49m\u001b[38;5;241;43m*\u001b[39;49m\u001b[43m \u001b[49m\u001b[43mstudy_params\u001b[49m\u001b[43m)\u001b[49m\n\u001b[1;32m     79\u001b[0m print_metric_hist(metrics)\n\u001b[1;32m     80\u001b[0m \u001b[38;5;28mprint\u001b[39m(\u001b[38;5;124mf\u001b[39m\u001b[38;5;124m\"\u001b[39m\u001b[38;5;124m model best score    :  \u001b[39m\u001b[38;5;132;01m{\u001b[39;00mmodel[\u001b[38;5;124m'\u001b[39m\u001b[38;5;124mbooster\u001b[39m\u001b[38;5;124m'\u001b[39m]\u001b[38;5;241m.\u001b[39mbest_score\u001b[38;5;132;01m}\u001b[39;00m\u001b[38;5;124m\"\u001b[39m)\n",
      "Cell \u001b[0;32mIn[56], line 47\u001b[0m, in \u001b[0;36mtrain_model\u001b[0;34m(iter_files, metric_keys, study_name, trial_num, save, **model_params)\u001b[0m\n\u001b[1;32m     45\u001b[0m         save_as_filename \u001b[38;5;241m=\u001b[39m \u001b[38;5;124m\"\u001b[39m\u001b[38;5;124m.\u001b[39m\u001b[38;5;124m\\\u001b[39m\u001b[38;5;124msaved_models\u001b[39m\u001b[38;5;124m\\\u001b[39m\u001b[38;5;132;01m{0}\u001b[39;00m\u001b[38;5;124m_trial_\u001b[39m\u001b[38;5;132;01m{1:03d}\u001b[39;00m\u001b[38;5;124m.json\u001b[39m\u001b[38;5;124m\"\u001b[39m\u001b[38;5;241m.\u001b[39mformat(study_name,trial_num)\n\u001b[1;32m     46\u001b[0m         \u001b[38;5;28mprint\u001b[39m(\u001b[38;5;124mf\u001b[39m\u001b[38;5;124m\"\u001b[39m\u001b[38;5;124m Save model to : \u001b[39m\u001b[38;5;132;01m{\u001b[39;00msave_as_filename\u001b[38;5;132;01m}\u001b[39;00m\u001b[38;5;124m\"\u001b[39m)\n\u001b[0;32m---> 47\u001b[0m         \u001b[43mmodel\u001b[49m[\u001b[38;5;124m'\u001b[39m\u001b[38;5;124mbooster\u001b[39m\u001b[38;5;124m'\u001b[39m]\u001b[38;5;241m.\u001b[39msave_model(save_as_filename)\n\u001b[1;32m     48\u001b[0m \u001b[38;5;66;03m## End of loop  \u001b[39;00m\n\u001b[1;32m     49\u001b[0m \u001b[38;5;28;01mreturn\u001b[39;00m my_model, metrics_hist\n",
      "\u001b[0;31mNameError\u001b[0m: name 'model' is not defined"
     ]
    }
   ],
   "source": [
    "start = datetime.now()\n",
    "\n",
    "study.optimize(objective, n_trials=1, timeout=3600*7, gc_after_trial=True, show_progress_bar=False)\n",
    "\n",
    "print(f\"Total time:  {datetime.now() - start}\")"
   ]
  },
  {
   "cell_type": "markdown",
   "metadata": {
    "jp-MarkdownHeadingCollapsed": true
   },
   "source": [
    "### Display study results"
   ]
  },
  {
   "cell_type": "code",
   "execution_count": 251,
   "metadata": {
    "execution": {
     "iopub.execute_input": "2024-02-13T04:15:51.789372Z",
     "iopub.status.busy": "2024-02-13T04:15:51.788992Z",
     "iopub.status.idle": "2024-02-13T04:15:51.902144Z",
     "shell.execute_reply": "2024-02-13T04:15:51.900974Z",
     "shell.execute_reply.started": "2024-02-13T04:15:51.789351Z"
    }
   },
   "outputs": [],
   "source": [
    "# print(\" Number of finished trials: \", len(study.trials))\n",
    "# print(\" Best trials: \", [x.number for x in study.best_trials])"
   ]
  },
  {
   "cell_type": "code",
   "execution_count": 252,
   "metadata": {
    "execution": {
     "iopub.execute_input": "2024-02-13T04:21:04.760164Z",
     "iopub.status.busy": "2024-02-13T04:21:04.759239Z",
     "iopub.status.idle": "2024-02-13T04:21:04.854947Z",
     "shell.execute_reply": "2024-02-13T04:21:04.854183Z",
     "shell.execute_reply.started": "2024-02-13T04:21:04.760112Z"
    }
   },
   "outputs": [
    {
     "name": "stdout",
     "output_type": "stream",
     "text": [
      " classification-study-1  study history\n",
      "\n",
      "                start     -   completion      status        validation metrics\n",
      " trial#         time      -      time          code      roc_auc        logloss\n",
      "--------------------------------------------------------------------------------\n",
      "Trial #: 0    2024-02-04   00:48:09 - 00:54:05    3          *** FAILED ***        \n",
      "Trial #: 1    2024-02-04   01:15:51 - 01:40:09    1      0.92354        0.20999    \n",
      "Trial #: 2    2024-02-04   10:36:45 - 12:28:29    1      0.82900        0.34993    \n",
      "Trial #: 3    2024-02-04   14:50:22 - 15:11:49    1      0.77843        0.32556    \n",
      "Trial #: 4    2024-02-04   15:11:50 - 16:04:43    1      0.71748        0.36995    \n",
      "Trial #: 5    2024-02-04   16:04:44 - 16:25:30    1      0.84788        0.29725    \n",
      "Trial #: 6    2024-02-04   16:25:30 - 16:55:59    1      0.62604        0.36119    \n",
      "Trial #: 7    2024-02-04   18:06:45 - 18:29:19    3          *** FAILED ***        \n",
      "Trial #: 8    2024-02-04   23:09:09 - 23:29:46    1      0.87990        0.22771    \n",
      "Trial #: 9    2024-02-04   23:29:47 - 23:50:19    1      0.81107        0.29039    \n",
      "Trial #: 10   2024-02-04   23:50:20 - 00:25:00    1      0.74011        0.33991    \n",
      "Trial #: 11   2024-02-05   00:25:00 - 00:49:35    1      0.62052        0.35998    \n",
      "Trial #: 12   2024-02-05   00:49:36 - 01:11:06    1      0.89875        0.18483    \n",
      "Trial #: 13   2024-02-05   01:11:06 - 01:34:06    1      0.91712        0.22948    \n",
      "Trial #: 14   2024-02-11   13:58:16 - 13:58:19    3          *** FAILED ***        \n",
      "Trial #: 15   2024-02-11   14:02:58 - 14:03:01    3          *** FAILED ***        \n",
      "Trial #: 16   2024-02-11   14:05:19 - 14:58:10    3          *** FAILED ***        \n",
      "Trial #: 17   2024-02-11   15:31:07 - 16:38:29    1      0.62593        0.35270    \n",
      "Trial #: 18   2024-02-11   21:49:10 - 21:50:24    3          *** FAILED ***        \n",
      "Trial #: 19   2024-02-11   21:50:47 - 22:14:47    1      0.60966        0.35607    \n",
      "Trial #: 20   2024-02-11   23:21:11 - 00:01:20    1      0.61561        0.36063    \n",
      "Trial #: 21   2024-02-12   00:01:21 - 00:39:17    1      0.60933        0.35866    \n",
      "Trial #: 22   2024-02-12   00:39:18 - 00:56:58    1      0.59683        0.36285    \n",
      "Trial #: 23   2024-02-12   00:56:59 - 01:10:47    3          *** FAILED ***        \n",
      "Trial #: 24   2024-02-12   01:48:06 - 01:48:12    3          *** FAILED ***        \n",
      "Trial #: 25   2024-02-12   01:55:54 - 02:12:44    1      0.55990        0.56057    \n",
      "Trial #: 26   2024-02-12   02:12:45 - 02:29:49    1      0.59509        0.36394    \n",
      "Trial #: 27   2024-02-12   02:29:50 - 03:59:12    1      0.61147        0.37472    \n",
      "Trial #: 28   2024-02-12   03:59:13 - 04:49:11    1      0.61664        0.35477    \n",
      "Trial #: 29   2024-02-12   04:49:12 - 05:08:23    1      0.52726        0.37212    \n",
      "Trial #: 30   2024-02-12   14:00:38 - 14:26:29    1      0.62208        0.35362    rerun of trial 0\n",
      "Trial #: 31   2024-02-12   14:31:23 - 14:44:16    3          *** FAILED ***        rerun of trial 1\n",
      "Trial #: 32   2024-02-12   15:13:15 - 16:55:58    1      0.61050        0.37124    rerun of trial 2\n",
      "Trial #: 33   2024-02-12   16:55:59 - 17:23:19    1      0.61534        0.35553    rerun of trial 2\n",
      "Trial #: 34   2024-02-12   19:46:39 - 20:04:52    1      0.62132        0.35329    rerun of trial 3\n",
      "Trial #: 35   2024-02-12   20:04:53 - 20:51:04    1      0.60952        0.37508    rerun of trial 4\n",
      "Trial #: 36   2024-02-12   20:51:05 - 21:03:13    1      0.60955        0.35581    rerun of trial 5\n",
      "Trial #: 37   2024-02-12   21:03:14 - 21:21:57    1      0.54904        0.36606    rerun of trial 6\n",
      "Trial #: 38   2024-02-12   21:33:09 - 22:13:52    1      0.62365        0.35322    rerun of trial 7\n",
      "Trial #: 39   2024-02-12   22:13:52 - 22:25:39    1      0.58913        0.36734    rerun of trial 8\n",
      "Trial #: 40   2024-02-12   22:25:40 - 22:36:49    1      0.59105        0.36808    rerun of trial 9\n",
      "Trial #: 41   2024-02-12   22:36:50 - 23:05:05    1      0.60879        0.35860    rerun of trial 10\n",
      "Trial #: 42   2024-02-12   23:43:56 - 00:04:08    3          *** FAILED ***        rerun of trial 11\n",
      "Trial #: 43   2024-02-13   04:22:59 - 04:34:36    1      0.55585        0.57369    rerun of trial 12\n",
      "Trial #: 44   2024-02-13   04:34:37 - 04:49:42    1      0.61422        0.35551    rerun of trial 13\n",
      "Trial #: 45   2024-02-13   04:49:43 - 05:00:23    1      0.58133        0.38038    rerun of trial 14\n",
      "Trial #: 46   2024-02-13   05:00:23 - 05:15:50    1      0.59614        0.35925    rerun of trial 11\n",
      " *** end of trials *** \n",
      " Best trials:  [1, 12]\n"
     ]
    }
   ],
   "source": [
    "disp_study_history(study)"
   ]
  },
  {
   "cell_type": "code",
   "execution_count": 177,
   "metadata": {
    "execution": {
     "iopub.execute_input": "2024-02-12T14:11:51.150966Z",
     "iopub.status.busy": "2024-02-12T14:11:51.150428Z",
     "iopub.status.idle": "2024-02-12T14:11:51.196783Z",
     "shell.execute_reply": "2024-02-12T14:11:51.196079Z",
     "shell.execute_reply.started": "2024-02-12T14:11:51.150924Z"
    }
   },
   "outputs": [],
   "source": [
    "# study.best_trials[0].values\n",
    "# study.best_trials[0].params\n",
    "# study.best_trials[0].intermediate_values\n",
    "# study.best_trials[0].system_attrs\n",
    "# study.best_trials[0].user_attrs\n",
    "# study.best_trials[0].distributions\n",
    "# study.best_trials[0].datetime_complete\n",
    "# study_names = optuna.study.get_all_study_names(storage=\"sqlite:///example.db\")\n",
    "# study_summaries = optuna.study.get_all_study_summaries(storage=storage_copy)"
   ]
  },
  {
   "cell_type": "code",
   "execution_count": 224,
   "metadata": {
    "execution": {
     "iopub.execute_input": "2024-02-13T03:07:05.535460Z",
     "iopub.status.busy": "2024-02-13T03:07:05.534985Z",
     "iopub.status.idle": "2024-02-13T03:07:05.636231Z",
     "shell.execute_reply": "2024-02-13T03:07:05.635286Z",
     "shell.execute_reply.started": "2024-02-13T03:07:05.535419Z"
    }
   },
   "outputs": [
    {
     "data": {
      "text/html": [
       "<div>\n",
       "<style scoped>\n",
       "    .dataframe tbody tr th:only-of-type {\n",
       "        vertical-align: middle;\n",
       "    }\n",
       "\n",
       "    .dataframe tbody tr th {\n",
       "        vertical-align: top;\n",
       "    }\n",
       "\n",
       "    .dataframe thead th {\n",
       "        text-align: right;\n",
       "    }\n",
       "</style>\n",
       "<table border=\"1\" class=\"dataframe\">\n",
       "  <thead>\n",
       "    <tr style=\"text-align: right;\">\n",
       "      <th></th>\n",
       "      <th>number</th>\n",
       "      <th>values_logloss</th>\n",
       "      <th>values_roc_auc</th>\n",
       "      <th>datetime_start</th>\n",
       "      <th>datetime_complete</th>\n",
       "      <th>duration</th>\n",
       "      <th>params_colsample_bylevel</th>\n",
       "      <th>params_colsample_bynode</th>\n",
       "      <th>params_learning_rate</th>\n",
       "      <th>params_max_delta_step</th>\n",
       "      <th>params_max_depth</th>\n",
       "      <th>params_min_child_weight</th>\n",
       "      <th>params_min_split_loss</th>\n",
       "      <th>params_subsample</th>\n",
       "      <th>user_attrs_memo</th>\n",
       "      <th>system_attrs_fixed_params</th>\n",
       "      <th>system_attrs_nsga2:generation</th>\n",
       "      <th>state</th>\n",
       "    </tr>\n",
       "  </thead>\n",
       "  <tbody>\n",
       "    <tr>\n",
       "      <th>0</th>\n",
       "      <td>0</td>\n",
       "      <td>NaN</td>\n",
       "      <td>NaN</td>\n",
       "      <td>2024-02-04 00:48:09.793433</td>\n",
       "      <td>2024-02-04 00:54:05.488762</td>\n",
       "      <td>0 days 00:05:55.695329</td>\n",
       "      <td>0.585618</td>\n",
       "      <td>0.582087</td>\n",
       "      <td>0.143276</td>\n",
       "      <td>0.074656</td>\n",
       "      <td>11.0</td>\n",
       "      <td>9.683349</td>\n",
       "      <td>0.013665</td>\n",
       "      <td>0.986915</td>\n",
       "      <td>NaN</td>\n",
       "      <td>NaN</td>\n",
       "      <td>0.0</td>\n",
       "      <td>FAIL</td>\n",
       "    </tr>\n",
       "    <tr>\n",
       "      <th>1</th>\n",
       "      <td>1</td>\n",
       "      <td>0.209986</td>\n",
       "      <td>0.923542</td>\n",
       "      <td>2024-02-04 01:15:51.892559</td>\n",
       "      <td>2024-02-04 01:40:09.121813</td>\n",
       "      <td>0 days 00:24:17.229254</td>\n",
       "      <td>0.947399</td>\n",
       "      <td>0.659437</td>\n",
       "      <td>0.034551</td>\n",
       "      <td>1.081959</td>\n",
       "      <td>13.0</td>\n",
       "      <td>4.008506</td>\n",
       "      <td>4.749165</td>\n",
       "      <td>0.719159</td>\n",
       "      <td>NaN</td>\n",
       "      <td>NaN</td>\n",
       "      <td>0.0</td>\n",
       "      <td>COMPLETE</td>\n",
       "    </tr>\n",
       "    <tr>\n",
       "      <th>2</th>\n",
       "      <td>2</td>\n",
       "      <td>0.349931</td>\n",
       "      <td>0.828998</td>\n",
       "      <td>2024-02-04 10:36:45.174090</td>\n",
       "      <td>2024-02-04 12:28:29.964490</td>\n",
       "      <td>0 days 01:51:44.790400</td>\n",
       "      <td>0.615872</td>\n",
       "      <td>0.718371</td>\n",
       "      <td>0.000242</td>\n",
       "      <td>8.546141</td>\n",
       "      <td>14.0</td>\n",
       "      <td>7.313969</td>\n",
       "      <td>4.537306</td>\n",
       "      <td>0.769055</td>\n",
       "      <td>NaN</td>\n",
       "      <td>NaN</td>\n",
       "      <td>0.0</td>\n",
       "      <td>COMPLETE</td>\n",
       "    </tr>\n",
       "    <tr>\n",
       "      <th>3</th>\n",
       "      <td>3</td>\n",
       "      <td>0.325560</td>\n",
       "      <td>0.778433</td>\n",
       "      <td>2024-02-04 14:50:22.133099</td>\n",
       "      <td>2024-02-04 15:11:49.830438</td>\n",
       "      <td>0 days 00:21:27.697339</td>\n",
       "      <td>0.708804</td>\n",
       "      <td>0.868822</td>\n",
       "      <td>0.037708</td>\n",
       "      <td>6.331900</td>\n",
       "      <td>4.0</td>\n",
       "      <td>8.058972</td>\n",
       "      <td>0.101454</td>\n",
       "      <td>0.690761</td>\n",
       "      <td>NaN</td>\n",
       "      <td>NaN</td>\n",
       "      <td>0.0</td>\n",
       "      <td>COMPLETE</td>\n",
       "    </tr>\n",
       "    <tr>\n",
       "      <th>4</th>\n",
       "      <td>4</td>\n",
       "      <td>0.369949</td>\n",
       "      <td>0.717477</td>\n",
       "      <td>2024-02-04 15:11:50.222464</td>\n",
       "      <td>2024-02-04 16:04:43.940043</td>\n",
       "      <td>0 days 00:52:53.717579</td>\n",
       "      <td>0.589903</td>\n",
       "      <td>0.625624</td>\n",
       "      <td>0.000115</td>\n",
       "      <td>2.824893</td>\n",
       "      <td>11.0</td>\n",
       "      <td>5.672360</td>\n",
       "      <td>7.394496</td>\n",
       "      <td>0.616970</td>\n",
       "      <td>NaN</td>\n",
       "      <td>NaN</td>\n",
       "      <td>0.0</td>\n",
       "      <td>COMPLETE</td>\n",
       "    </tr>\n",
       "    <tr>\n",
       "      <th>5</th>\n",
       "      <td>5</td>\n",
       "      <td>0.297251</td>\n",
       "      <td>0.847876</td>\n",
       "      <td>2024-02-04 16:04:44.416577</td>\n",
       "      <td>2024-02-04 16:25:30.425923</td>\n",
       "      <td>0 days 00:20:46.009346</td>\n",
       "      <td>0.560386</td>\n",
       "      <td>0.811272</td>\n",
       "      <td>0.134297</td>\n",
       "      <td>1.754813</td>\n",
       "      <td>8.0</td>\n",
       "      <td>6.752230</td>\n",
       "      <td>9.105621</td>\n",
       "      <td>0.956640</td>\n",
       "      <td>NaN</td>\n",
       "      <td>NaN</td>\n",
       "      <td>0.0</td>\n",
       "      <td>COMPLETE</td>\n",
       "    </tr>\n",
       "    <tr>\n",
       "      <th>6</th>\n",
       "      <td>6</td>\n",
       "      <td>0.361188</td>\n",
       "      <td>0.626037</td>\n",
       "      <td>2024-02-04 16:25:30.920333</td>\n",
       "      <td>2024-02-04 16:55:59.415587</td>\n",
       "      <td>0 days 00:30:28.495254</td>\n",
       "      <td>0.846711</td>\n",
       "      <td>0.615957</td>\n",
       "      <td>0.001634</td>\n",
       "      <td>0.168275</td>\n",
       "      <td>5.0</td>\n",
       "      <td>6.905918</td>\n",
       "      <td>0.882063</td>\n",
       "      <td>0.411585</td>\n",
       "      <td>NaN</td>\n",
       "      <td>NaN</td>\n",
       "      <td>0.0</td>\n",
       "      <td>COMPLETE</td>\n",
       "    </tr>\n",
       "    <tr>\n",
       "      <th>7</th>\n",
       "      <td>7</td>\n",
       "      <td>NaN</td>\n",
       "      <td>NaN</td>\n",
       "      <td>2024-02-04 18:06:45.959407</td>\n",
       "      <td>2024-02-04 18:29:19.630616</td>\n",
       "      <td>0 days 00:22:33.671209</td>\n",
       "      <td>0.933313</td>\n",
       "      <td>0.607458</td>\n",
       "      <td>0.009730</td>\n",
       "      <td>5.846445</td>\n",
       "      <td>13.0</td>\n",
       "      <td>7.403698</td>\n",
       "      <td>7.197970</td>\n",
       "      <td>0.748567</td>\n",
       "      <td>NaN</td>\n",
       "      <td>NaN</td>\n",
       "      <td>0.0</td>\n",
       "      <td>FAIL</td>\n",
       "    </tr>\n",
       "    <tr>\n",
       "      <th>8</th>\n",
       "      <td>8</td>\n",
       "      <td>0.227714</td>\n",
       "      <td>0.879901</td>\n",
       "      <td>2024-02-04 23:09:09.154656</td>\n",
       "      <td>2024-02-04 23:29:46.918035</td>\n",
       "      <td>0 days 00:20:37.763379</td>\n",
       "      <td>0.576115</td>\n",
       "      <td>0.582256</td>\n",
       "      <td>0.205679</td>\n",
       "      <td>2.778248</td>\n",
       "      <td>8.0</td>\n",
       "      <td>4.007208</td>\n",
       "      <td>0.047983</td>\n",
       "      <td>0.651714</td>\n",
       "      <td>NaN</td>\n",
       "      <td>NaN</td>\n",
       "      <td>0.0</td>\n",
       "      <td>COMPLETE</td>\n",
       "    </tr>\n",
       "    <tr>\n",
       "      <th>9</th>\n",
       "      <td>9</td>\n",
       "      <td>0.290389</td>\n",
       "      <td>0.811070</td>\n",
       "      <td>2024-02-04 23:29:47.321242</td>\n",
       "      <td>2024-02-04 23:50:19.758571</td>\n",
       "      <td>0 days 00:20:32.437329</td>\n",
       "      <td>0.725259</td>\n",
       "      <td>0.989566</td>\n",
       "      <td>0.394348</td>\n",
       "      <td>2.710428</td>\n",
       "      <td>6.0</td>\n",
       "      <td>3.515444</td>\n",
       "      <td>9.489928</td>\n",
       "      <td>0.822929</td>\n",
       "      <td>NaN</td>\n",
       "      <td>NaN</td>\n",
       "      <td>0.0</td>\n",
       "      <td>COMPLETE</td>\n",
       "    </tr>\n",
       "    <tr>\n",
       "      <th>10</th>\n",
       "      <td>10</td>\n",
       "      <td>0.339911</td>\n",
       "      <td>0.740108</td>\n",
       "      <td>2024-02-04 23:50:20.162594</td>\n",
       "      <td>2024-02-05 00:25:00.278904</td>\n",
       "      <td>0 days 00:34:40.116310</td>\n",
       "      <td>0.927881</td>\n",
       "      <td>0.770689</td>\n",
       "      <td>0.001334</td>\n",
       "      <td>2.831506</td>\n",
       "      <td>7.0</td>\n",
       "      <td>4.330067</td>\n",
       "      <td>2.166735</td>\n",
       "      <td>0.972511</td>\n",
       "      <td>NaN</td>\n",
       "      <td>NaN</td>\n",
       "      <td>0.0</td>\n",
       "      <td>COMPLETE</td>\n",
       "    </tr>\n",
       "    <tr>\n",
       "      <th>11</th>\n",
       "      <td>11</td>\n",
       "      <td>0.359984</td>\n",
       "      <td>0.620522</td>\n",
       "      <td>2024-02-05 00:25:00.676370</td>\n",
       "      <td>2024-02-05 00:49:35.879935</td>\n",
       "      <td>0 days 00:24:35.203565</td>\n",
       "      <td>0.936419</td>\n",
       "      <td>0.555688</td>\n",
       "      <td>0.011508</td>\n",
       "      <td>2.618648</td>\n",
       "      <td>1.0</td>\n",
       "      <td>9.753827</td>\n",
       "      <td>0.454292</td>\n",
       "      <td>0.881585</td>\n",
       "      <td>NaN</td>\n",
       "      <td>NaN</td>\n",
       "      <td>0.0</td>\n",
       "      <td>COMPLETE</td>\n",
       "    </tr>\n",
       "    <tr>\n",
       "      <th>12</th>\n",
       "      <td>12</td>\n",
       "      <td>0.184828</td>\n",
       "      <td>0.898747</td>\n",
       "      <td>2024-02-05 00:49:36.233520</td>\n",
       "      <td>2024-02-05 01:11:06.465125</td>\n",
       "      <td>0 days 00:21:30.231605</td>\n",
       "      <td>0.611972</td>\n",
       "      <td>0.859803</td>\n",
       "      <td>0.858654</td>\n",
       "      <td>2.117240</td>\n",
       "      <td>10.0</td>\n",
       "      <td>9.583542</td>\n",
       "      <td>3.605129</td>\n",
       "      <td>0.883461</td>\n",
       "      <td>NaN</td>\n",
       "      <td>NaN</td>\n",
       "      <td>0.0</td>\n",
       "      <td>COMPLETE</td>\n",
       "    </tr>\n",
       "    <tr>\n",
       "      <th>13</th>\n",
       "      <td>13</td>\n",
       "      <td>0.229483</td>\n",
       "      <td>0.917122</td>\n",
       "      <td>2024-02-05 01:11:06.944139</td>\n",
       "      <td>2024-02-05 01:34:06.921264</td>\n",
       "      <td>0 days 00:22:59.977125</td>\n",
       "      <td>0.980188</td>\n",
       "      <td>0.656057</td>\n",
       "      <td>0.062270</td>\n",
       "      <td>0.650368</td>\n",
       "      <td>10.0</td>\n",
       "      <td>4.423521</td>\n",
       "      <td>4.444297</td>\n",
       "      <td>0.834164</td>\n",
       "      <td>NaN</td>\n",
       "      <td>NaN</td>\n",
       "      <td>0.0</td>\n",
       "      <td>COMPLETE</td>\n",
       "    </tr>\n",
       "    <tr>\n",
       "      <th>14</th>\n",
       "      <td>14</td>\n",
       "      <td>NaN</td>\n",
       "      <td>NaN</td>\n",
       "      <td>2024-02-11 13:58:16.718906</td>\n",
       "      <td>2024-02-11 13:58:19.667270</td>\n",
       "      <td>0 days 00:00:02.948364</td>\n",
       "      <td>0.752872</td>\n",
       "      <td>0.523226</td>\n",
       "      <td>0.744233</td>\n",
       "      <td>2.556750</td>\n",
       "      <td>4.0</td>\n",
       "      <td>9.379460</td>\n",
       "      <td>8.218492</td>\n",
       "      <td>0.561204</td>\n",
       "      <td>NaN</td>\n",
       "      <td>NaN</td>\n",
       "      <td>0.0</td>\n",
       "      <td>FAIL</td>\n",
       "    </tr>\n",
       "    <tr>\n",
       "      <th>15</th>\n",
       "      <td>15</td>\n",
       "      <td>NaN</td>\n",
       "      <td>NaN</td>\n",
       "      <td>2024-02-11 14:02:58.697999</td>\n",
       "      <td>2024-02-11 14:03:01.759507</td>\n",
       "      <td>0 days 00:00:03.061508</td>\n",
       "      <td>0.564400</td>\n",
       "      <td>0.627964</td>\n",
       "      <td>0.004618</td>\n",
       "      <td>0.668327</td>\n",
       "      <td>8.0</td>\n",
       "      <td>0.732618</td>\n",
       "      <td>0.503437</td>\n",
       "      <td>0.655584</td>\n",
       "      <td>NaN</td>\n",
       "      <td>NaN</td>\n",
       "      <td>0.0</td>\n",
       "      <td>FAIL</td>\n",
       "    </tr>\n",
       "    <tr>\n",
       "      <th>16</th>\n",
       "      <td>16</td>\n",
       "      <td>NaN</td>\n",
       "      <td>NaN</td>\n",
       "      <td>2024-02-11 14:05:19.250821</td>\n",
       "      <td>2024-02-11 14:58:10.999705</td>\n",
       "      <td>0 days 00:52:51.748884</td>\n",
       "      <td>0.554713</td>\n",
       "      <td>0.735385</td>\n",
       "      <td>0.094107</td>\n",
       "      <td>9.313941</td>\n",
       "      <td>14.0</td>\n",
       "      <td>2.736604</td>\n",
       "      <td>2.768992</td>\n",
       "      <td>0.406769</td>\n",
       "      <td>NaN</td>\n",
       "      <td>NaN</td>\n",
       "      <td>0.0</td>\n",
       "      <td>FAIL</td>\n",
       "    </tr>\n",
       "    <tr>\n",
       "      <th>17</th>\n",
       "      <td>17</td>\n",
       "      <td>0.352702</td>\n",
       "      <td>0.625932</td>\n",
       "      <td>2024-02-11 15:31:07.275621</td>\n",
       "      <td>2024-02-11 16:38:29.798596</td>\n",
       "      <td>0 days 01:07:22.522975</td>\n",
       "      <td>0.961781</td>\n",
       "      <td>0.611034</td>\n",
       "      <td>0.012489</td>\n",
       "      <td>5.035702</td>\n",
       "      <td>9.0</td>\n",
       "      <td>6.705902</td>\n",
       "      <td>5.097113</td>\n",
       "      <td>0.837417</td>\n",
       "      <td>NaN</td>\n",
       "      <td>NaN</td>\n",
       "      <td>0.0</td>\n",
       "      <td>COMPLETE</td>\n",
       "    </tr>\n",
       "    <tr>\n",
       "      <th>18</th>\n",
       "      <td>18</td>\n",
       "      <td>NaN</td>\n",
       "      <td>NaN</td>\n",
       "      <td>2024-02-11 21:49:10.829823</td>\n",
       "      <td>2024-02-11 21:50:24.641814</td>\n",
       "      <td>0 days 00:01:13.811991</td>\n",
       "      <td>0.537235</td>\n",
       "      <td>0.753214</td>\n",
       "      <td>0.015616</td>\n",
       "      <td>6.028994</td>\n",
       "      <td>8.0</td>\n",
       "      <td>5.968706</td>\n",
       "      <td>4.040947</td>\n",
       "      <td>0.766375</td>\n",
       "      <td>NaN</td>\n",
       "      <td>NaN</td>\n",
       "      <td>0.0</td>\n",
       "      <td>FAIL</td>\n",
       "    </tr>\n",
       "    <tr>\n",
       "      <th>19</th>\n",
       "      <td>19</td>\n",
       "      <td>0.356066</td>\n",
       "      <td>0.609663</td>\n",
       "      <td>2024-02-11 21:50:47.174731</td>\n",
       "      <td>2024-02-11 22:14:47.156695</td>\n",
       "      <td>0 days 00:23:59.981964</td>\n",
       "      <td>0.850865</td>\n",
       "      <td>0.598510</td>\n",
       "      <td>0.004244</td>\n",
       "      <td>3.627402</td>\n",
       "      <td>4.0</td>\n",
       "      <td>7.524141</td>\n",
       "      <td>9.060415</td>\n",
       "      <td>0.930222</td>\n",
       "      <td>NaN</td>\n",
       "      <td>NaN</td>\n",
       "      <td>0.0</td>\n",
       "      <td>COMPLETE</td>\n",
       "    </tr>\n",
       "    <tr>\n",
       "      <th>20</th>\n",
       "      <td>20</td>\n",
       "      <td>0.360627</td>\n",
       "      <td>0.615614</td>\n",
       "      <td>2024-02-11 23:21:11.076371</td>\n",
       "      <td>2024-02-12 00:01:20.691746</td>\n",
       "      <td>0 days 00:40:09.615375</td>\n",
       "      <td>0.627851</td>\n",
       "      <td>0.553138</td>\n",
       "      <td>0.000931</td>\n",
       "      <td>9.350387</td>\n",
       "      <td>9.0</td>\n",
       "      <td>6.864519</td>\n",
       "      <td>4.622671</td>\n",
       "      <td>0.822365</td>\n",
       "      <td>NaN</td>\n",
       "      <td>NaN</td>\n",
       "      <td>0.0</td>\n",
       "      <td>COMPLETE</td>\n",
       "    </tr>\n",
       "    <tr>\n",
       "      <th>21</th>\n",
       "      <td>21</td>\n",
       "      <td>0.358661</td>\n",
       "      <td>0.609327</td>\n",
       "      <td>2024-02-12 00:01:21.649277</td>\n",
       "      <td>2024-02-12 00:39:17.230068</td>\n",
       "      <td>0 days 00:37:55.580791</td>\n",
       "      <td>0.823439</td>\n",
       "      <td>0.711950</td>\n",
       "      <td>0.036443</td>\n",
       "      <td>3.354500</td>\n",
       "      <td>13.0</td>\n",
       "      <td>0.640387</td>\n",
       "      <td>0.251710</td>\n",
       "      <td>0.736546</td>\n",
       "      <td>NaN</td>\n",
       "      <td>NaN</td>\n",
       "      <td>0.0</td>\n",
       "      <td>COMPLETE</td>\n",
       "    </tr>\n",
       "    <tr>\n",
       "      <th>22</th>\n",
       "      <td>22</td>\n",
       "      <td>0.362854</td>\n",
       "      <td>0.596833</td>\n",
       "      <td>2024-02-12 00:39:18.091689</td>\n",
       "      <td>2024-02-12 00:56:58.827582</td>\n",
       "      <td>0 days 00:17:40.735893</td>\n",
       "      <td>0.741545</td>\n",
       "      <td>0.533578</td>\n",
       "      <td>0.193726</td>\n",
       "      <td>5.290435</td>\n",
       "      <td>8.0</td>\n",
       "      <td>7.932249</td>\n",
       "      <td>0.638827</td>\n",
       "      <td>0.853340</td>\n",
       "      <td>NaN</td>\n",
       "      <td>NaN</td>\n",
       "      <td>0.0</td>\n",
       "      <td>COMPLETE</td>\n",
       "    </tr>\n",
       "    <tr>\n",
       "      <th>23</th>\n",
       "      <td>23</td>\n",
       "      <td>NaN</td>\n",
       "      <td>NaN</td>\n",
       "      <td>2024-02-12 00:56:59.741344</td>\n",
       "      <td>2024-02-12 01:10:47.268971</td>\n",
       "      <td>0 days 00:13:47.527627</td>\n",
       "      <td>0.897383</td>\n",
       "      <td>0.999318</td>\n",
       "      <td>0.007453</td>\n",
       "      <td>3.789213</td>\n",
       "      <td>13.0</td>\n",
       "      <td>7.429568</td>\n",
       "      <td>2.921128</td>\n",
       "      <td>0.491283</td>\n",
       "      <td>NaN</td>\n",
       "      <td>NaN</td>\n",
       "      <td>0.0</td>\n",
       "      <td>FAIL</td>\n",
       "    </tr>\n",
       "    <tr>\n",
       "      <th>24</th>\n",
       "      <td>24</td>\n",
       "      <td>NaN</td>\n",
       "      <td>NaN</td>\n",
       "      <td>2024-02-12 01:48:06.227360</td>\n",
       "      <td>2024-02-12 01:48:12.800929</td>\n",
       "      <td>0 days 00:00:06.573569</td>\n",
       "      <td>0.656901</td>\n",
       "      <td>0.532493</td>\n",
       "      <td>0.000198</td>\n",
       "      <td>0.263629</td>\n",
       "      <td>7.0</td>\n",
       "      <td>9.885026</td>\n",
       "      <td>1.682692</td>\n",
       "      <td>0.575137</td>\n",
       "      <td>NaN</td>\n",
       "      <td>NaN</td>\n",
       "      <td>0.0</td>\n",
       "      <td>FAIL</td>\n",
       "    </tr>\n",
       "    <tr>\n",
       "      <th>25</th>\n",
       "      <td>25</td>\n",
       "      <td>0.560568</td>\n",
       "      <td>0.559895</td>\n",
       "      <td>2024-02-12 01:55:54.321211</td>\n",
       "      <td>2024-02-12 02:12:44.511828</td>\n",
       "      <td>0 days 00:16:50.190617</td>\n",
       "      <td>0.852864</td>\n",
       "      <td>0.692054</td>\n",
       "      <td>0.718021</td>\n",
       "      <td>8.219028</td>\n",
       "      <td>11.0</td>\n",
       "      <td>6.864818</td>\n",
       "      <td>1.274035</td>\n",
       "      <td>0.821630</td>\n",
       "      <td>NaN</td>\n",
       "      <td>NaN</td>\n",
       "      <td>0.0</td>\n",
       "      <td>COMPLETE</td>\n",
       "    </tr>\n",
       "    <tr>\n",
       "      <th>26</th>\n",
       "      <td>26</td>\n",
       "      <td>0.363938</td>\n",
       "      <td>0.595092</td>\n",
       "      <td>2024-02-12 02:12:45.046738</td>\n",
       "      <td>2024-02-12 02:29:49.915460</td>\n",
       "      <td>0 days 00:17:04.868722</td>\n",
       "      <td>0.705275</td>\n",
       "      <td>0.812628</td>\n",
       "      <td>0.101733</td>\n",
       "      <td>9.827028</td>\n",
       "      <td>12.0</td>\n",
       "      <td>3.320796</td>\n",
       "      <td>4.932578</td>\n",
       "      <td>0.622028</td>\n",
       "      <td>NaN</td>\n",
       "      <td>NaN</td>\n",
       "      <td>0.0</td>\n",
       "      <td>COMPLETE</td>\n",
       "    </tr>\n",
       "    <tr>\n",
       "      <th>27</th>\n",
       "      <td>27</td>\n",
       "      <td>0.374718</td>\n",
       "      <td>0.611472</td>\n",
       "      <td>2024-02-12 02:29:50.425523</td>\n",
       "      <td>2024-02-12 03:59:12.655144</td>\n",
       "      <td>0 days 01:29:22.229621</td>\n",
       "      <td>0.947233</td>\n",
       "      <td>0.510696</td>\n",
       "      <td>0.000121</td>\n",
       "      <td>5.166970</td>\n",
       "      <td>12.0</td>\n",
       "      <td>0.244069</td>\n",
       "      <td>4.749472</td>\n",
       "      <td>0.620393</td>\n",
       "      <td>NaN</td>\n",
       "      <td>NaN</td>\n",
       "      <td>0.0</td>\n",
       "      <td>COMPLETE</td>\n",
       "    </tr>\n",
       "    <tr>\n",
       "      <th>28</th>\n",
       "      <td>28</td>\n",
       "      <td>0.354772</td>\n",
       "      <td>0.616641</td>\n",
       "      <td>2024-02-12 03:59:13.129237</td>\n",
       "      <td>2024-02-12 04:49:11.655533</td>\n",
       "      <td>0 days 00:49:58.526296</td>\n",
       "      <td>0.857213</td>\n",
       "      <td>0.509796</td>\n",
       "      <td>0.010357</td>\n",
       "      <td>1.034110</td>\n",
       "      <td>15.0</td>\n",
       "      <td>4.793893</td>\n",
       "      <td>1.719604</td>\n",
       "      <td>0.412073</td>\n",
       "      <td>NaN</td>\n",
       "      <td>NaN</td>\n",
       "      <td>0.0</td>\n",
       "      <td>COMPLETE</td>\n",
       "    </tr>\n",
       "    <tr>\n",
       "      <th>29</th>\n",
       "      <td>29</td>\n",
       "      <td>0.372122</td>\n",
       "      <td>0.527256</td>\n",
       "      <td>2024-02-12 04:49:12.123042</td>\n",
       "      <td>2024-02-12 05:08:23.327686</td>\n",
       "      <td>0 days 00:19:11.204644</td>\n",
       "      <td>0.860123</td>\n",
       "      <td>0.874122</td>\n",
       "      <td>0.000303</td>\n",
       "      <td>7.047180</td>\n",
       "      <td>1.0</td>\n",
       "      <td>8.575491</td>\n",
       "      <td>0.326933</td>\n",
       "      <td>0.897760</td>\n",
       "      <td>NaN</td>\n",
       "      <td>NaN</td>\n",
       "      <td>0.0</td>\n",
       "      <td>COMPLETE</td>\n",
       "    </tr>\n",
       "    <tr>\n",
       "      <th>30</th>\n",
       "      <td>30</td>\n",
       "      <td>0.353621</td>\n",
       "      <td>0.622082</td>\n",
       "      <td>2024-02-12 14:00:38.195388</td>\n",
       "      <td>2024-02-12 14:26:29.996709</td>\n",
       "      <td>0 days 00:25:51.801321</td>\n",
       "      <td>0.585618</td>\n",
       "      <td>0.582087</td>\n",
       "      <td>0.143276</td>\n",
       "      <td>0.074656</td>\n",
       "      <td>11.0</td>\n",
       "      <td>9.683349</td>\n",
       "      <td>0.013665</td>\n",
       "      <td>0.986915</td>\n",
       "      <td>rerun of trial 0</td>\n",
       "      <td>{'learning_rate': 0.14327608105242665, 'min_sp...</td>\n",
       "      <td>NaN</td>\n",
       "      <td>COMPLETE</td>\n",
       "    </tr>\n",
       "    <tr>\n",
       "      <th>31</th>\n",
       "      <td>31</td>\n",
       "      <td>NaN</td>\n",
       "      <td>NaN</td>\n",
       "      <td>2024-02-12 14:31:23.835322</td>\n",
       "      <td>2024-02-12 14:44:16.791389</td>\n",
       "      <td>0 days 00:12:52.956067</td>\n",
       "      <td>0.947399</td>\n",
       "      <td>0.659437</td>\n",
       "      <td>0.034551</td>\n",
       "      <td>1.081959</td>\n",
       "      <td>13.0</td>\n",
       "      <td>4.008506</td>\n",
       "      <td>4.749165</td>\n",
       "      <td>0.719159</td>\n",
       "      <td>rerun of trial 1</td>\n",
       "      <td>{'learning_rate': 0.03455051467752774, 'min_sp...</td>\n",
       "      <td>NaN</td>\n",
       "      <td>FAIL</td>\n",
       "    </tr>\n",
       "    <tr>\n",
       "      <th>32</th>\n",
       "      <td>32</td>\n",
       "      <td>0.371238</td>\n",
       "      <td>0.610497</td>\n",
       "      <td>2024-02-12 15:13:15.622997</td>\n",
       "      <td>2024-02-12 16:55:58.513585</td>\n",
       "      <td>0 days 01:42:42.890588</td>\n",
       "      <td>0.615872</td>\n",
       "      <td>0.718371</td>\n",
       "      <td>0.000242</td>\n",
       "      <td>8.546141</td>\n",
       "      <td>14.0</td>\n",
       "      <td>7.313969</td>\n",
       "      <td>4.537306</td>\n",
       "      <td>0.769055</td>\n",
       "      <td>rerun of trial 2</td>\n",
       "      <td>{'learning_rate': 0.00024153178206203413, 'min...</td>\n",
       "      <td>NaN</td>\n",
       "      <td>COMPLETE</td>\n",
       "    </tr>\n",
       "    <tr>\n",
       "      <th>33</th>\n",
       "      <td>33</td>\n",
       "      <td>0.355528</td>\n",
       "      <td>0.615341</td>\n",
       "      <td>2024-02-12 16:55:59.255611</td>\n",
       "      <td>2024-02-12 17:23:19.763711</td>\n",
       "      <td>0 days 00:27:20.508100</td>\n",
       "      <td>0.947399</td>\n",
       "      <td>0.659437</td>\n",
       "      <td>0.034551</td>\n",
       "      <td>1.081959</td>\n",
       "      <td>13.0</td>\n",
       "      <td>4.008506</td>\n",
       "      <td>4.749165</td>\n",
       "      <td>0.719159</td>\n",
       "      <td>rerun of trial 2</td>\n",
       "      <td>{'learning_rate': 0.03455051467752774, 'min_sp...</td>\n",
       "      <td>NaN</td>\n",
       "      <td>COMPLETE</td>\n",
       "    </tr>\n",
       "    <tr>\n",
       "      <th>34</th>\n",
       "      <td>34</td>\n",
       "      <td>0.353287</td>\n",
       "      <td>0.621316</td>\n",
       "      <td>2024-02-12 19:46:39.264285</td>\n",
       "      <td>2024-02-12 20:04:52.607519</td>\n",
       "      <td>0 days 00:18:13.343234</td>\n",
       "      <td>0.708804</td>\n",
       "      <td>0.868822</td>\n",
       "      <td>0.037708</td>\n",
       "      <td>6.331900</td>\n",
       "      <td>4.0</td>\n",
       "      <td>8.058972</td>\n",
       "      <td>0.101454</td>\n",
       "      <td>0.690761</td>\n",
       "      <td>rerun of trial 3</td>\n",
       "      <td>{'learning_rate': 0.037707559621769894, 'min_s...</td>\n",
       "      <td>NaN</td>\n",
       "      <td>COMPLETE</td>\n",
       "    </tr>\n",
       "    <tr>\n",
       "      <th>35</th>\n",
       "      <td>35</td>\n",
       "      <td>0.375079</td>\n",
       "      <td>0.609518</td>\n",
       "      <td>2024-02-12 20:04:53.421474</td>\n",
       "      <td>2024-02-12 20:51:04.827380</td>\n",
       "      <td>0 days 00:46:11.405906</td>\n",
       "      <td>0.589903</td>\n",
       "      <td>0.625624</td>\n",
       "      <td>0.000115</td>\n",
       "      <td>2.824893</td>\n",
       "      <td>11.0</td>\n",
       "      <td>5.672360</td>\n",
       "      <td>7.394496</td>\n",
       "      <td>0.616970</td>\n",
       "      <td>rerun of trial 4</td>\n",
       "      <td>{'learning_rate': 0.00011459045077338876, 'min...</td>\n",
       "      <td>NaN</td>\n",
       "      <td>COMPLETE</td>\n",
       "    </tr>\n",
       "    <tr>\n",
       "      <th>36</th>\n",
       "      <td>36</td>\n",
       "      <td>0.355806</td>\n",
       "      <td>0.609547</td>\n",
       "      <td>2024-02-12 20:51:05.553314</td>\n",
       "      <td>2024-02-12 21:03:13.673565</td>\n",
       "      <td>0 days 00:12:08.120251</td>\n",
       "      <td>0.560386</td>\n",
       "      <td>0.811272</td>\n",
       "      <td>0.134297</td>\n",
       "      <td>1.754813</td>\n",
       "      <td>8.0</td>\n",
       "      <td>6.752230</td>\n",
       "      <td>9.105621</td>\n",
       "      <td>0.956640</td>\n",
       "      <td>rerun of trial 5</td>\n",
       "      <td>{'learning_rate': 0.13429674717831103, 'min_sp...</td>\n",
       "      <td>NaN</td>\n",
       "      <td>COMPLETE</td>\n",
       "    </tr>\n",
       "    <tr>\n",
       "      <th>37</th>\n",
       "      <td>37</td>\n",
       "      <td>0.366056</td>\n",
       "      <td>0.549042</td>\n",
       "      <td>2024-02-12 21:03:14.384473</td>\n",
       "      <td>2024-02-12 21:21:57.597724</td>\n",
       "      <td>0 days 00:18:43.213251</td>\n",
       "      <td>0.846711</td>\n",
       "      <td>0.615957</td>\n",
       "      <td>0.001634</td>\n",
       "      <td>0.168275</td>\n",
       "      <td>5.0</td>\n",
       "      <td>6.905918</td>\n",
       "      <td>0.882063</td>\n",
       "      <td>0.411585</td>\n",
       "      <td>rerun of trial 6</td>\n",
       "      <td>{'learning_rate': 0.0016335503419290804, 'min_...</td>\n",
       "      <td>NaN</td>\n",
       "      <td>COMPLETE</td>\n",
       "    </tr>\n",
       "    <tr>\n",
       "      <th>38</th>\n",
       "      <td>38</td>\n",
       "      <td>0.353221</td>\n",
       "      <td>0.623649</td>\n",
       "      <td>2024-02-12 21:33:09.920490</td>\n",
       "      <td>2024-02-12 22:13:52.021727</td>\n",
       "      <td>0 days 00:40:42.101237</td>\n",
       "      <td>0.933313</td>\n",
       "      <td>0.607458</td>\n",
       "      <td>0.009730</td>\n",
       "      <td>5.846445</td>\n",
       "      <td>13.0</td>\n",
       "      <td>7.403698</td>\n",
       "      <td>7.197970</td>\n",
       "      <td>0.748567</td>\n",
       "      <td>rerun of trial 7</td>\n",
       "      <td>{'learning_rate': 0.00973038750721373, 'min_sp...</td>\n",
       "      <td>NaN</td>\n",
       "      <td>COMPLETE</td>\n",
       "    </tr>\n",
       "    <tr>\n",
       "      <th>39</th>\n",
       "      <td>39</td>\n",
       "      <td>0.367335</td>\n",
       "      <td>0.589134</td>\n",
       "      <td>2024-02-12 22:13:52.618660</td>\n",
       "      <td>2024-02-12 22:25:39.402653</td>\n",
       "      <td>0 days 00:11:46.783993</td>\n",
       "      <td>0.576115</td>\n",
       "      <td>0.582256</td>\n",
       "      <td>0.205679</td>\n",
       "      <td>2.778248</td>\n",
       "      <td>8.0</td>\n",
       "      <td>4.007208</td>\n",
       "      <td>0.047983</td>\n",
       "      <td>0.651714</td>\n",
       "      <td>rerun of trial 8</td>\n",
       "      <td>{'learning_rate': 0.2056791520124346, 'min_spl...</td>\n",
       "      <td>NaN</td>\n",
       "      <td>COMPLETE</td>\n",
       "    </tr>\n",
       "    <tr>\n",
       "      <th>40</th>\n",
       "      <td>40</td>\n",
       "      <td>0.368082</td>\n",
       "      <td>0.591047</td>\n",
       "      <td>2024-02-12 22:25:40.205616</td>\n",
       "      <td>2024-02-12 22:36:49.530456</td>\n",
       "      <td>0 days 00:11:09.324840</td>\n",
       "      <td>0.725259</td>\n",
       "      <td>0.989566</td>\n",
       "      <td>0.394348</td>\n",
       "      <td>2.710428</td>\n",
       "      <td>6.0</td>\n",
       "      <td>3.515444</td>\n",
       "      <td>9.489928</td>\n",
       "      <td>0.822929</td>\n",
       "      <td>rerun of trial 9</td>\n",
       "      <td>{'learning_rate': 0.39434814432962956, 'min_sp...</td>\n",
       "      <td>NaN</td>\n",
       "      <td>COMPLETE</td>\n",
       "    </tr>\n",
       "    <tr>\n",
       "      <th>41</th>\n",
       "      <td>41</td>\n",
       "      <td>0.358598</td>\n",
       "      <td>0.608791</td>\n",
       "      <td>2024-02-12 22:36:50.296412</td>\n",
       "      <td>2024-02-12 23:05:05.597378</td>\n",
       "      <td>0 days 00:28:15.300966</td>\n",
       "      <td>0.927881</td>\n",
       "      <td>0.770689</td>\n",
       "      <td>0.001334</td>\n",
       "      <td>2.831506</td>\n",
       "      <td>7.0</td>\n",
       "      <td>4.330067</td>\n",
       "      <td>2.166735</td>\n",
       "      <td>0.972511</td>\n",
       "      <td>rerun of trial 10</td>\n",
       "      <td>{'learning_rate': 0.0013344887184684022, 'min_...</td>\n",
       "      <td>NaN</td>\n",
       "      <td>COMPLETE</td>\n",
       "    </tr>\n",
       "    <tr>\n",
       "      <th>42</th>\n",
       "      <td>42</td>\n",
       "      <td>NaN</td>\n",
       "      <td>NaN</td>\n",
       "      <td>2024-02-12 23:43:56.215865</td>\n",
       "      <td>2024-02-13 00:04:08.111898</td>\n",
       "      <td>0 days 00:20:11.896033</td>\n",
       "      <td>0.936419</td>\n",
       "      <td>0.555688</td>\n",
       "      <td>0.011508</td>\n",
       "      <td>2.618648</td>\n",
       "      <td>1.0</td>\n",
       "      <td>9.753827</td>\n",
       "      <td>0.454292</td>\n",
       "      <td>0.881585</td>\n",
       "      <td>rerun of trial 11</td>\n",
       "      <td>{'learning_rate': 0.011507708277560936, 'min_s...</td>\n",
       "      <td>NaN</td>\n",
       "      <td>FAIL</td>\n",
       "    </tr>\n",
       "    <tr>\n",
       "      <th>43</th>\n",
       "      <td>43</td>\n",
       "      <td>NaN</td>\n",
       "      <td>NaN</td>\n",
       "      <td>NaT</td>\n",
       "      <td>NaT</td>\n",
       "      <td>NaT</td>\n",
       "      <td>NaN</td>\n",
       "      <td>NaN</td>\n",
       "      <td>NaN</td>\n",
       "      <td>NaN</td>\n",
       "      <td>NaN</td>\n",
       "      <td>NaN</td>\n",
       "      <td>NaN</td>\n",
       "      <td>NaN</td>\n",
       "      <td>rerun of trial 12</td>\n",
       "      <td>{'learning_rate': 0.8586535510091051, 'min_spl...</td>\n",
       "      <td>NaN</td>\n",
       "      <td>WAITING</td>\n",
       "    </tr>\n",
       "    <tr>\n",
       "      <th>44</th>\n",
       "      <td>44</td>\n",
       "      <td>NaN</td>\n",
       "      <td>NaN</td>\n",
       "      <td>NaT</td>\n",
       "      <td>NaT</td>\n",
       "      <td>NaT</td>\n",
       "      <td>NaN</td>\n",
       "      <td>NaN</td>\n",
       "      <td>NaN</td>\n",
       "      <td>NaN</td>\n",
       "      <td>NaN</td>\n",
       "      <td>NaN</td>\n",
       "      <td>NaN</td>\n",
       "      <td>NaN</td>\n",
       "      <td>rerun of trial 13</td>\n",
       "      <td>{'learning_rate': 0.06227003367608594, 'min_sp...</td>\n",
       "      <td>NaN</td>\n",
       "      <td>WAITING</td>\n",
       "    </tr>\n",
       "    <tr>\n",
       "      <th>45</th>\n",
       "      <td>45</td>\n",
       "      <td>NaN</td>\n",
       "      <td>NaN</td>\n",
       "      <td>NaT</td>\n",
       "      <td>NaT</td>\n",
       "      <td>NaT</td>\n",
       "      <td>NaN</td>\n",
       "      <td>NaN</td>\n",
       "      <td>NaN</td>\n",
       "      <td>NaN</td>\n",
       "      <td>NaN</td>\n",
       "      <td>NaN</td>\n",
       "      <td>NaN</td>\n",
       "      <td>NaN</td>\n",
       "      <td>rerun of trial 14</td>\n",
       "      <td>{'learning_rate': 0.7442330152740122, 'min_spl...</td>\n",
       "      <td>NaN</td>\n",
       "      <td>WAITING</td>\n",
       "    </tr>\n",
       "  </tbody>\n",
       "</table>\n",
       "</div>"
      ],
      "text/plain": [
       "    number  values_logloss  values_roc_auc             datetime_start          datetime_complete               duration  params_colsample_bylevel  \\\n",
       "0        0             NaN             NaN 2024-02-04 00:48:09.793433 2024-02-04 00:54:05.488762 0 days 00:05:55.695329                  0.585618   \n",
       "1        1        0.209986        0.923542 2024-02-04 01:15:51.892559 2024-02-04 01:40:09.121813 0 days 00:24:17.229254                  0.947399   \n",
       "2        2        0.349931        0.828998 2024-02-04 10:36:45.174090 2024-02-04 12:28:29.964490 0 days 01:51:44.790400                  0.615872   \n",
       "3        3        0.325560        0.778433 2024-02-04 14:50:22.133099 2024-02-04 15:11:49.830438 0 days 00:21:27.697339                  0.708804   \n",
       "4        4        0.369949        0.717477 2024-02-04 15:11:50.222464 2024-02-04 16:04:43.940043 0 days 00:52:53.717579                  0.589903   \n",
       "5        5        0.297251        0.847876 2024-02-04 16:04:44.416577 2024-02-04 16:25:30.425923 0 days 00:20:46.009346                  0.560386   \n",
       "6        6        0.361188        0.626037 2024-02-04 16:25:30.920333 2024-02-04 16:55:59.415587 0 days 00:30:28.495254                  0.846711   \n",
       "7        7             NaN             NaN 2024-02-04 18:06:45.959407 2024-02-04 18:29:19.630616 0 days 00:22:33.671209                  0.933313   \n",
       "8        8        0.227714        0.879901 2024-02-04 23:09:09.154656 2024-02-04 23:29:46.918035 0 days 00:20:37.763379                  0.576115   \n",
       "9        9        0.290389        0.811070 2024-02-04 23:29:47.321242 2024-02-04 23:50:19.758571 0 days 00:20:32.437329                  0.725259   \n",
       "10      10        0.339911        0.740108 2024-02-04 23:50:20.162594 2024-02-05 00:25:00.278904 0 days 00:34:40.116310                  0.927881   \n",
       "11      11        0.359984        0.620522 2024-02-05 00:25:00.676370 2024-02-05 00:49:35.879935 0 days 00:24:35.203565                  0.936419   \n",
       "12      12        0.184828        0.898747 2024-02-05 00:49:36.233520 2024-02-05 01:11:06.465125 0 days 00:21:30.231605                  0.611972   \n",
       "13      13        0.229483        0.917122 2024-02-05 01:11:06.944139 2024-02-05 01:34:06.921264 0 days 00:22:59.977125                  0.980188   \n",
       "14      14             NaN             NaN 2024-02-11 13:58:16.718906 2024-02-11 13:58:19.667270 0 days 00:00:02.948364                  0.752872   \n",
       "15      15             NaN             NaN 2024-02-11 14:02:58.697999 2024-02-11 14:03:01.759507 0 days 00:00:03.061508                  0.564400   \n",
       "16      16             NaN             NaN 2024-02-11 14:05:19.250821 2024-02-11 14:58:10.999705 0 days 00:52:51.748884                  0.554713   \n",
       "17      17        0.352702        0.625932 2024-02-11 15:31:07.275621 2024-02-11 16:38:29.798596 0 days 01:07:22.522975                  0.961781   \n",
       "18      18             NaN             NaN 2024-02-11 21:49:10.829823 2024-02-11 21:50:24.641814 0 days 00:01:13.811991                  0.537235   \n",
       "19      19        0.356066        0.609663 2024-02-11 21:50:47.174731 2024-02-11 22:14:47.156695 0 days 00:23:59.981964                  0.850865   \n",
       "20      20        0.360627        0.615614 2024-02-11 23:21:11.076371 2024-02-12 00:01:20.691746 0 days 00:40:09.615375                  0.627851   \n",
       "21      21        0.358661        0.609327 2024-02-12 00:01:21.649277 2024-02-12 00:39:17.230068 0 days 00:37:55.580791                  0.823439   \n",
       "22      22        0.362854        0.596833 2024-02-12 00:39:18.091689 2024-02-12 00:56:58.827582 0 days 00:17:40.735893                  0.741545   \n",
       "23      23             NaN             NaN 2024-02-12 00:56:59.741344 2024-02-12 01:10:47.268971 0 days 00:13:47.527627                  0.897383   \n",
       "24      24             NaN             NaN 2024-02-12 01:48:06.227360 2024-02-12 01:48:12.800929 0 days 00:00:06.573569                  0.656901   \n",
       "25      25        0.560568        0.559895 2024-02-12 01:55:54.321211 2024-02-12 02:12:44.511828 0 days 00:16:50.190617                  0.852864   \n",
       "26      26        0.363938        0.595092 2024-02-12 02:12:45.046738 2024-02-12 02:29:49.915460 0 days 00:17:04.868722                  0.705275   \n",
       "27      27        0.374718        0.611472 2024-02-12 02:29:50.425523 2024-02-12 03:59:12.655144 0 days 01:29:22.229621                  0.947233   \n",
       "28      28        0.354772        0.616641 2024-02-12 03:59:13.129237 2024-02-12 04:49:11.655533 0 days 00:49:58.526296                  0.857213   \n",
       "29      29        0.372122        0.527256 2024-02-12 04:49:12.123042 2024-02-12 05:08:23.327686 0 days 00:19:11.204644                  0.860123   \n",
       "30      30        0.353621        0.622082 2024-02-12 14:00:38.195388 2024-02-12 14:26:29.996709 0 days 00:25:51.801321                  0.585618   \n",
       "31      31             NaN             NaN 2024-02-12 14:31:23.835322 2024-02-12 14:44:16.791389 0 days 00:12:52.956067                  0.947399   \n",
       "32      32        0.371238        0.610497 2024-02-12 15:13:15.622997 2024-02-12 16:55:58.513585 0 days 01:42:42.890588                  0.615872   \n",
       "33      33        0.355528        0.615341 2024-02-12 16:55:59.255611 2024-02-12 17:23:19.763711 0 days 00:27:20.508100                  0.947399   \n",
       "34      34        0.353287        0.621316 2024-02-12 19:46:39.264285 2024-02-12 20:04:52.607519 0 days 00:18:13.343234                  0.708804   \n",
       "35      35        0.375079        0.609518 2024-02-12 20:04:53.421474 2024-02-12 20:51:04.827380 0 days 00:46:11.405906                  0.589903   \n",
       "36      36        0.355806        0.609547 2024-02-12 20:51:05.553314 2024-02-12 21:03:13.673565 0 days 00:12:08.120251                  0.560386   \n",
       "37      37        0.366056        0.549042 2024-02-12 21:03:14.384473 2024-02-12 21:21:57.597724 0 days 00:18:43.213251                  0.846711   \n",
       "38      38        0.353221        0.623649 2024-02-12 21:33:09.920490 2024-02-12 22:13:52.021727 0 days 00:40:42.101237                  0.933313   \n",
       "39      39        0.367335        0.589134 2024-02-12 22:13:52.618660 2024-02-12 22:25:39.402653 0 days 00:11:46.783993                  0.576115   \n",
       "40      40        0.368082        0.591047 2024-02-12 22:25:40.205616 2024-02-12 22:36:49.530456 0 days 00:11:09.324840                  0.725259   \n",
       "41      41        0.358598        0.608791 2024-02-12 22:36:50.296412 2024-02-12 23:05:05.597378 0 days 00:28:15.300966                  0.927881   \n",
       "42      42             NaN             NaN 2024-02-12 23:43:56.215865 2024-02-13 00:04:08.111898 0 days 00:20:11.896033                  0.936419   \n",
       "43      43             NaN             NaN                        NaT                        NaT                    NaT                       NaN   \n",
       "44      44             NaN             NaN                        NaT                        NaT                    NaT                       NaN   \n",
       "45      45             NaN             NaN                        NaT                        NaT                    NaT                       NaN   \n",
       "\n",
       "    params_colsample_bynode  params_learning_rate  params_max_delta_step  params_max_depth  params_min_child_weight  params_min_split_loss  params_subsample  \\\n",
       "0                  0.582087              0.143276               0.074656              11.0                 9.683349               0.013665          0.986915   \n",
       "1                  0.659437              0.034551               1.081959              13.0                 4.008506               4.749165          0.719159   \n",
       "2                  0.718371              0.000242               8.546141              14.0                 7.313969               4.537306          0.769055   \n",
       "3                  0.868822              0.037708               6.331900               4.0                 8.058972               0.101454          0.690761   \n",
       "4                  0.625624              0.000115               2.824893              11.0                 5.672360               7.394496          0.616970   \n",
       "5                  0.811272              0.134297               1.754813               8.0                 6.752230               9.105621          0.956640   \n",
       "6                  0.615957              0.001634               0.168275               5.0                 6.905918               0.882063          0.411585   \n",
       "7                  0.607458              0.009730               5.846445              13.0                 7.403698               7.197970          0.748567   \n",
       "8                  0.582256              0.205679               2.778248               8.0                 4.007208               0.047983          0.651714   \n",
       "9                  0.989566              0.394348               2.710428               6.0                 3.515444               9.489928          0.822929   \n",
       "10                 0.770689              0.001334               2.831506               7.0                 4.330067               2.166735          0.972511   \n",
       "11                 0.555688              0.011508               2.618648               1.0                 9.753827               0.454292          0.881585   \n",
       "12                 0.859803              0.858654               2.117240              10.0                 9.583542               3.605129          0.883461   \n",
       "13                 0.656057              0.062270               0.650368              10.0                 4.423521               4.444297          0.834164   \n",
       "14                 0.523226              0.744233               2.556750               4.0                 9.379460               8.218492          0.561204   \n",
       "15                 0.627964              0.004618               0.668327               8.0                 0.732618               0.503437          0.655584   \n",
       "16                 0.735385              0.094107               9.313941              14.0                 2.736604               2.768992          0.406769   \n",
       "17                 0.611034              0.012489               5.035702               9.0                 6.705902               5.097113          0.837417   \n",
       "18                 0.753214              0.015616               6.028994               8.0                 5.968706               4.040947          0.766375   \n",
       "19                 0.598510              0.004244               3.627402               4.0                 7.524141               9.060415          0.930222   \n",
       "20                 0.553138              0.000931               9.350387               9.0                 6.864519               4.622671          0.822365   \n",
       "21                 0.711950              0.036443               3.354500              13.0                 0.640387               0.251710          0.736546   \n",
       "22                 0.533578              0.193726               5.290435               8.0                 7.932249               0.638827          0.853340   \n",
       "23                 0.999318              0.007453               3.789213              13.0                 7.429568               2.921128          0.491283   \n",
       "24                 0.532493              0.000198               0.263629               7.0                 9.885026               1.682692          0.575137   \n",
       "25                 0.692054              0.718021               8.219028              11.0                 6.864818               1.274035          0.821630   \n",
       "26                 0.812628              0.101733               9.827028              12.0                 3.320796               4.932578          0.622028   \n",
       "27                 0.510696              0.000121               5.166970              12.0                 0.244069               4.749472          0.620393   \n",
       "28                 0.509796              0.010357               1.034110              15.0                 4.793893               1.719604          0.412073   \n",
       "29                 0.874122              0.000303               7.047180               1.0                 8.575491               0.326933          0.897760   \n",
       "30                 0.582087              0.143276               0.074656              11.0                 9.683349               0.013665          0.986915   \n",
       "31                 0.659437              0.034551               1.081959              13.0                 4.008506               4.749165          0.719159   \n",
       "32                 0.718371              0.000242               8.546141              14.0                 7.313969               4.537306          0.769055   \n",
       "33                 0.659437              0.034551               1.081959              13.0                 4.008506               4.749165          0.719159   \n",
       "34                 0.868822              0.037708               6.331900               4.0                 8.058972               0.101454          0.690761   \n",
       "35                 0.625624              0.000115               2.824893              11.0                 5.672360               7.394496          0.616970   \n",
       "36                 0.811272              0.134297               1.754813               8.0                 6.752230               9.105621          0.956640   \n",
       "37                 0.615957              0.001634               0.168275               5.0                 6.905918               0.882063          0.411585   \n",
       "38                 0.607458              0.009730               5.846445              13.0                 7.403698               7.197970          0.748567   \n",
       "39                 0.582256              0.205679               2.778248               8.0                 4.007208               0.047983          0.651714   \n",
       "40                 0.989566              0.394348               2.710428               6.0                 3.515444               9.489928          0.822929   \n",
       "41                 0.770689              0.001334               2.831506               7.0                 4.330067               2.166735          0.972511   \n",
       "42                 0.555688              0.011508               2.618648               1.0                 9.753827               0.454292          0.881585   \n",
       "43                      NaN                   NaN                    NaN               NaN                      NaN                    NaN               NaN   \n",
       "44                      NaN                   NaN                    NaN               NaN                      NaN                    NaN               NaN   \n",
       "45                      NaN                   NaN                    NaN               NaN                      NaN                    NaN               NaN   \n",
       "\n",
       "      user_attrs_memo                          system_attrs_fixed_params  system_attrs_nsga2:generation     state  \n",
       "0                 NaN                                                NaN                            0.0      FAIL  \n",
       "1                 NaN                                                NaN                            0.0  COMPLETE  \n",
       "2                 NaN                                                NaN                            0.0  COMPLETE  \n",
       "3                 NaN                                                NaN                            0.0  COMPLETE  \n",
       "4                 NaN                                                NaN                            0.0  COMPLETE  \n",
       "5                 NaN                                                NaN                            0.0  COMPLETE  \n",
       "6                 NaN                                                NaN                            0.0  COMPLETE  \n",
       "7                 NaN                                                NaN                            0.0      FAIL  \n",
       "8                 NaN                                                NaN                            0.0  COMPLETE  \n",
       "9                 NaN                                                NaN                            0.0  COMPLETE  \n",
       "10                NaN                                                NaN                            0.0  COMPLETE  \n",
       "11                NaN                                                NaN                            0.0  COMPLETE  \n",
       "12                NaN                                                NaN                            0.0  COMPLETE  \n",
       "13                NaN                                                NaN                            0.0  COMPLETE  \n",
       "14                NaN                                                NaN                            0.0      FAIL  \n",
       "15                NaN                                                NaN                            0.0      FAIL  \n",
       "16                NaN                                                NaN                            0.0      FAIL  \n",
       "17                NaN                                                NaN                            0.0  COMPLETE  \n",
       "18                NaN                                                NaN                            0.0      FAIL  \n",
       "19                NaN                                                NaN                            0.0  COMPLETE  \n",
       "20                NaN                                                NaN                            0.0  COMPLETE  \n",
       "21                NaN                                                NaN                            0.0  COMPLETE  \n",
       "22                NaN                                                NaN                            0.0  COMPLETE  \n",
       "23                NaN                                                NaN                            0.0      FAIL  \n",
       "24                NaN                                                NaN                            0.0      FAIL  \n",
       "25                NaN                                                NaN                            0.0  COMPLETE  \n",
       "26                NaN                                                NaN                            0.0  COMPLETE  \n",
       "27                NaN                                                NaN                            0.0  COMPLETE  \n",
       "28                NaN                                                NaN                            0.0  COMPLETE  \n",
       "29                NaN                                                NaN                            0.0  COMPLETE  \n",
       "30   rerun of trial 0  {'learning_rate': 0.14327608105242665, 'min_sp...                            NaN  COMPLETE  \n",
       "31   rerun of trial 1  {'learning_rate': 0.03455051467752774, 'min_sp...                            NaN      FAIL  \n",
       "32   rerun of trial 2  {'learning_rate': 0.00024153178206203413, 'min...                            NaN  COMPLETE  \n",
       "33   rerun of trial 2  {'learning_rate': 0.03455051467752774, 'min_sp...                            NaN  COMPLETE  \n",
       "34   rerun of trial 3  {'learning_rate': 0.037707559621769894, 'min_s...                            NaN  COMPLETE  \n",
       "35   rerun of trial 4  {'learning_rate': 0.00011459045077338876, 'min...                            NaN  COMPLETE  \n",
       "36   rerun of trial 5  {'learning_rate': 0.13429674717831103, 'min_sp...                            NaN  COMPLETE  \n",
       "37   rerun of trial 6  {'learning_rate': 0.0016335503419290804, 'min_...                            NaN  COMPLETE  \n",
       "38   rerun of trial 7  {'learning_rate': 0.00973038750721373, 'min_sp...                            NaN  COMPLETE  \n",
       "39   rerun of trial 8  {'learning_rate': 0.2056791520124346, 'min_spl...                            NaN  COMPLETE  \n",
       "40   rerun of trial 9  {'learning_rate': 0.39434814432962956, 'min_sp...                            NaN  COMPLETE  \n",
       "41  rerun of trial 10  {'learning_rate': 0.0013344887184684022, 'min_...                            NaN  COMPLETE  \n",
       "42  rerun of trial 11  {'learning_rate': 0.011507708277560936, 'min_s...                            NaN      FAIL  \n",
       "43  rerun of trial 12  {'learning_rate': 0.8586535510091051, 'min_spl...                            NaN   WAITING  \n",
       "44  rerun of trial 13  {'learning_rate': 0.06227003367608594, 'min_sp...                            NaN   WAITING  \n",
       "45  rerun of trial 14  {'learning_rate': 0.7442330152740122, 'min_spl...                            NaN   WAITING  "
      ]
     },
     "execution_count": 224,
     "metadata": {},
     "output_type": "execute_result"
    }
   ],
   "source": [
    "\n",
    "study.trials_dataframe()"
   ]
  },
  {
   "cell_type": "markdown",
   "metadata": {
    "jp-MarkdownHeadingCollapsed": true
   },
   "source": [
    "### Rerun a previous trial"
   ]
  },
  {
   "cell_type": "code",
   "execution_count": 231,
   "metadata": {
    "execution": {
     "iopub.execute_input": "2024-02-13T03:09:10.092205Z",
     "iopub.status.busy": "2024-02-13T03:09:10.090904Z",
     "iopub.status.idle": "2024-02-13T03:09:10.150363Z",
     "shell.execute_reply": "2024-02-13T03:09:10.149389Z",
     "shell.execute_reply.started": "2024-02-13T03:09:10.092148Z"
    }
   },
   "outputs": [],
   "source": [
    "# study.trials[1].params\n",
    "# study.trials[2].params"
   ]
  },
  {
   "cell_type": "code",
   "execution_count": 249,
   "metadata": {
    "execution": {
     "iopub.execute_input": "2024-02-13T03:22:56.348534Z",
     "iopub.status.busy": "2024-02-13T03:22:56.347772Z",
     "iopub.status.idle": "2024-02-13T03:22:56.404459Z",
     "shell.execute_reply": "2024-02-13T03:22:56.403737Z",
     "shell.execute_reply.started": "2024-02-13T03:22:56.348483Z"
    }
   },
   "outputs": [],
   "source": [
    "# for i in [3,4,5,6]:\n",
    "# for i in [11]:\n",
    "#     study.enqueue_trial(study.trials[i].params, user_attrs={\"memo\": f\"rerun of trial {i}\"})\n",
    " "
   ]
  },
  {
   "cell_type": "code",
   "execution_count": 250,
   "metadata": {
    "execution": {
     "iopub.execute_input": "2024-02-13T03:22:59.430944Z",
     "iopub.status.busy": "2024-02-13T03:22:59.430442Z",
     "iopub.status.idle": "2024-02-13T04:15:51.787458Z",
     "shell.execute_reply": "2024-02-13T04:15:51.786683Z",
     "shell.execute_reply.started": "2024-02-13T03:22:59.430902Z"
    },
    "scrolled": true
   },
   "outputs": [
    {
     "name": "stdout",
     "output_type": "stream",
     "text": [
      "--------------------------------------------------------------------------------\n",
      " Training model (trial #43) \n",
      "--------------------------------------------------------------------------------\n",
      " Parameters:\n",
      "  booster                        gbtree\n",
      "  device                         gpu\n",
      "  objective                      binary:logistic\n",
      "  eval_metric                    ['auc', 'logloss']\n",
      "  verbosity                      0\n",
      "  disable_default_eval_metric    False\n",
      "  tree_method                    auto\n",
      "  learning_rate                  0.8586535510091051\n",
      "  gamma                          3.6051285358958864\n",
      "  max_depth                      10\n",
      "  min_child_weight               9.583542252493253\n",
      "  max_delta_step                 2.117239838558076\n",
      "  subsample                      0.8834610960429072\n",
      "  sampling_method                uniform\n",
      "  colsample_bytree               1.0\n",
      "  colsample_bylevel              0.6119722382203123\n",
      "  colsample_bynode               0.8598034905841013\n",
      "  lambda                         1\n",
      "  scale_pos_weight               1\n",
      "  max_leaves                     0\n",
      "  reg_lambda                     3.2267\n",
      " # bin files: 10   # of folds 5 -  (groups of 2 file tuples)\n",
      " CV Split 0 -  Training files: [2, 3, 4, 5, 6, 7, 8, 9]   Validation files: [0, 1]  \n"
     ]
    },
    {
     "name": "stderr",
     "output_type": "stream",
     "text": [
      "2024-02-13 04:23:05,789 - INFO: - CrossValidation split #0\n",
      "2024-02-13 04:23:05,790 - INFO: - Building training & validation DMatrix...\n",
      "2024-02-13 04:24:32,217 - INFO: - Training model...\n",
      "2024-02-13 04:24:32,225 - INFO: - start listen on 10.91.28.16:58805\n",
      "[04:24:32] task [xgboost.dask-0]:tcp://127.0.0.1:33413 got new rank 0\n",
      "[04:24:32] task [xgboost.dask-1]:tcp://127.0.0.1:41855 got new rank 1\n",
      "[04:24:32] task [xgboost.dask-2]:tcp://127.0.0.1:42983 got new rank 2\n",
      "2024-02-13 04:24:32,637 - INFO: - @tracker All of 3 nodes getting started\n",
      "2024-02-13 04:24:55,979 - INFO: - @tracker All nodes finishes job\n",
      "2024-02-13 04:24:56,171 - INFO: - Running model on test data...\n",
      "2024-02-13 04:25:14,455 - INFO: - Calculating metrics...\n",
      "2024-02-13 04:25:14,512 - INFO: - Calculating metrics...Completed\n"
     ]
    },
    {
     "name": "stdout",
     "output_type": "stream",
     "text": [
      "--------------------------------------------------------------------------------\n",
      " train_auc           :   0.99860\n",
      " train_logloss       :   0.07333\n",
      " val_auc             :   0.56001\n",
      " val_logloss         :   0.57511\n",
      " roc_auc             :   0.55996\n",
      " logloss             :   0.57511\n",
      " accuracy            :   0.84386\n",
      " bal_acc             :   0.03786\n",
      " top_k_acc           :   1.00000\n",
      " F1_score            :   0.12297\n",
      " map                 :   0.15024\n",
      " pearson_corr        :   0.06910\n",
      "--------------------------------------------------------------------------------\n",
      " CV Split 1 -  Training files: [0, 1, 4, 5, 6, 7, 8, 9]   Validation files: [2, 3]  \n"
     ]
    },
    {
     "name": "stderr",
     "output_type": "stream",
     "text": [
      "2024-02-13 04:25:21,127 - INFO: - CrossValidation split #1\n",
      "2024-02-13 04:25:21,128 - INFO: - Building training & validation DMatrix...\n",
      "2024-02-13 04:26:51,259 - INFO: - Training model...\n",
      "2024-02-13 04:26:51,267 - INFO: - start listen on 10.91.28.16:54153\n",
      "[04:26:51] task [xgboost.dask-0]:tcp://127.0.0.1:33413 got new rank 0\n",
      "[04:26:51] task [xgboost.dask-1]:tcp://127.0.0.1:41855 got new rank 1\n",
      "[04:26:51] task [xgboost.dask-2]:tcp://127.0.0.1:42983 got new rank 2\n",
      "2024-02-13 04:26:51,312 - INFO: - @tracker All of 3 nodes getting started\n",
      "2024-02-13 04:27:13,274 - INFO: - @tracker All nodes finishes job\n",
      "2024-02-13 04:27:13,483 - INFO: - Running model on test data...\n",
      "2024-02-13 04:27:32,355 - INFO: - Calculating metrics...\n",
      "2024-02-13 04:27:32,411 - INFO: - Calculating metrics...Completed\n"
     ]
    },
    {
     "name": "stdout",
     "output_type": "stream",
     "text": [
      "--------------------------------------------------------------------------------\n",
      " train_auc           :   0.99873\n",
      " train_logloss       :   0.07299\n",
      " val_auc             :   0.55798\n",
      " val_logloss         :   0.58456\n",
      " roc_auc             :   0.55796\n",
      " logloss             :   0.58456\n",
      " accuracy            :   0.84035\n",
      " bal_acc             :   0.02844\n",
      " top_k_acc           :   1.00000\n",
      " F1_score            :   0.11232\n",
      " map                 :   0.14786\n",
      " pearson_corr        :   0.06006\n",
      "--------------------------------------------------------------------------------\n",
      " CV Split 2 -  Training files: [0, 1, 2, 3, 6, 7, 8, 9]   Validation files: [4, 5]  \n"
     ]
    },
    {
     "name": "stderr",
     "output_type": "stream",
     "text": [
      "2024-02-13 04:27:38,317 - INFO: - CrossValidation split #2\n",
      "2024-02-13 04:27:38,320 - INFO: - Building training & validation DMatrix...\n",
      "2024-02-13 04:29:12,544 - INFO: - Training model...\n",
      "2024-02-13 04:29:12,554 - INFO: - start listen on 10.91.28.16:54373\n",
      "[04:29:12] task [xgboost.dask-0]:tcp://127.0.0.1:33413 got new rank 0\n",
      "[04:29:12] task [xgboost.dask-1]:tcp://127.0.0.1:41855 got new rank 1\n",
      "[04:29:12] task [xgboost.dask-2]:tcp://127.0.0.1:42983 got new rank 2\n",
      "2024-02-13 04:29:12,600 - INFO: - @tracker All of 3 nodes getting started\n",
      "2024-02-13 04:29:35,019 - INFO: - @tracker All nodes finishes job\n",
      "2024-02-13 04:29:35,208 - INFO: - Running model on test data...\n",
      "2024-02-13 04:29:54,252 - INFO: - Calculating metrics...\n",
      "2024-02-13 04:29:54,306 - INFO: - Calculating metrics...Completed\n"
     ]
    },
    {
     "name": "stdout",
     "output_type": "stream",
     "text": [
      "--------------------------------------------------------------------------------\n",
      " train_auc           :   0.99892\n",
      " train_logloss       :   0.07157\n",
      " val_auc             :   0.54819\n",
      " val_logloss         :   0.56691\n",
      " roc_auc             :   0.55117\n",
      " logloss             :   0.56688\n",
      " accuracy            :   0.84680\n",
      " bal_acc             :   0.02859\n",
      " top_k_acc           :   1.00000\n",
      " F1_score            :   0.10935\n",
      " map                 :   0.13995\n",
      " pearson_corr        :   0.05550\n",
      "--------------------------------------------------------------------------------\n",
      " CV Split 3 -  Training files: [0, 1, 2, 3, 4, 5, 8, 9]   Validation files: [6, 7]  \n"
     ]
    },
    {
     "name": "stderr",
     "output_type": "stream",
     "text": [
      "2024-02-13 04:30:00,106 - INFO: - CrossValidation split #3\n",
      "2024-02-13 04:30:00,107 - INFO: - Building training & validation DMatrix...\n",
      "2024-02-13 04:31:32,798 - INFO: - Training model...\n",
      "2024-02-13 04:31:32,808 - INFO: - start listen on 10.91.28.16:60613\n",
      "[04:31:32] task [xgboost.dask-0]:tcp://127.0.0.1:33413 got new rank 0\n",
      "[04:31:32] task [xgboost.dask-1]:tcp://127.0.0.1:41855 got new rank 1\n",
      "[04:31:32] task [xgboost.dask-2]:tcp://127.0.0.1:42983 got new rank 2\n",
      "2024-02-13 04:31:32,853 - INFO: - @tracker All of 3 nodes getting started\n",
      "2024-02-13 04:31:55,619 - INFO: - @tracker All nodes finishes job\n",
      "2024-02-13 04:31:55,809 - INFO: - Running model on test data...\n",
      "2024-02-13 04:32:14,850 - INFO: - Calculating metrics...\n",
      "2024-02-13 04:32:14,903 - INFO: - Calculating metrics...Completed\n"
     ]
    },
    {
     "name": "stdout",
     "output_type": "stream",
     "text": [
      "--------------------------------------------------------------------------------\n",
      " train_auc           :   0.99879\n",
      " train_logloss       :   0.07237\n",
      " val_auc             :   0.55173\n",
      " val_logloss         :   0.57346\n",
      " roc_auc             :   0.55165\n",
      " logloss             :   0.57346\n",
      " accuracy            :   0.84524\n",
      " bal_acc             :   0.03064\n",
      " top_k_acc           :   1.00000\n",
      " F1_score            :   0.11275\n",
      " map                 :   0.14261\n",
      " pearson_corr        :   0.05601\n",
      "--------------------------------------------------------------------------------\n",
      " CV Split 4 -  Training files: [0, 1, 2, 3, 4, 5, 6, 7]   Validation files: [8, 9]  \n"
     ]
    },
    {
     "name": "stderr",
     "output_type": "stream",
     "text": [
      "2024-02-13 04:32:20,368 - INFO: - CrossValidation split #4\n",
      "2024-02-13 04:32:20,370 - INFO: - Building training & validation DMatrix...\n",
      "2024-02-13 04:33:54,489 - INFO: - Training model...\n",
      "2024-02-13 04:33:54,498 - INFO: - start listen on 10.91.28.16:54121\n",
      "[04:33:54] task [xgboost.dask-0]:tcp://127.0.0.1:33413 got new rank 0\n",
      "[04:33:54] task [xgboost.dask-1]:tcp://127.0.0.1:41855 got new rank 1\n",
      "[04:33:54] task [xgboost.dask-2]:tcp://127.0.0.1:42983 got new rank 2\n",
      "2024-02-13 04:33:54,540 - INFO: - @tracker All of 3 nodes getting started\n",
      "2024-02-13 04:34:17,222 - INFO: - @tracker All nodes finishes job\n",
      "2024-02-13 04:34:17,470 - INFO: - Running model on test data...\n",
      "2024-02-13 04:34:36,680 - INFO: - Calculating metrics...\n",
      "2024-02-13 04:34:36,739 - INFO: - Calculating metrics...Completed\n",
      "[I 2024-02-13 04:34:36,831] Trial 43 finished with values: {'roc_auc': 0.555849008982151, 'logloss': 0.573688003040822} and parameters: {'learning_rate': 0.8586535510091051, 'min_split_loss': 3.6051285358958864, 'max_depth': 10, 'min_child_weight': 9.583542252493253, 'max_delta_step': 2.117239838558076, 'subsample': 0.8834610960429072, 'colsample_bylevel': 0.6119722382203123, 'colsample_bynode': 0.8598034905841013}. \n"
     ]
    },
    {
     "name": "stdout",
     "output_type": "stream",
     "text": [
      "--------------------------------------------------------------------------------\n",
      " train_auc           :   0.99852\n",
      " train_logloss       :   0.07406\n",
      " val_auc             :   0.56134\n",
      " val_logloss         :   0.56839\n",
      " roc_auc             :   0.56138\n",
      " logloss             :   0.56839\n",
      " accuracy            :   0.84580\n",
      " bal_acc             :   0.03725\n",
      " top_k_acc           :   1.00000\n",
      " F1_score            :   0.12097\n",
      " map                 :   0.14835\n",
      " pearson_corr        :   0.06881\n",
      "--------------------------------------------------------------------------------\n",
      "--------------------------------------------------------------------------------\n",
      " train_auc                 0.99871 +/- 0.00014\n",
      " train_logloss             0.07286 +/- 0.00085\n",
      " val_auc                   0.55585 +/- 0.00505\n",
      " val_logloss               0.57369 +/- 0.00623\n",
      " roc_auc                   0.55642 +/- 0.00424\n",
      " logloss                   0.57368 +/- 0.00624\n",
      " accuracy                  0.84441 +/- 0.00224\n",
      " bal_acc                   0.03256 +/- 0.00416\n",
      " top_k_acc                 1.00000 +/- 0.00000\n",
      " F1_score                  0.11567 +/- 0.00531\n",
      " map                       0.14580 +/- 0.00387\n",
      " pearson_corr              0.06190 +/- 0.00598\n",
      "--------------------------------------------------------------------------------\n",
      " model best score    :  0.3648547619331111\n",
      " model best iteration:  0\n",
      " Save model to : .\\saved_models\\classification-study-1_trial_043.json\n",
      "--------------------------------------------------------------------------------\n",
      " Training model (trial #44) \n",
      "--------------------------------------------------------------------------------\n",
      " Parameters:\n",
      "  booster                        gbtree\n",
      "  device                         gpu\n",
      "  objective                      binary:logistic\n",
      "  eval_metric                    ['auc', 'logloss']\n",
      "  verbosity                      0\n",
      "  disable_default_eval_metric    False\n",
      "  tree_method                    auto\n",
      "  learning_rate                  0.06227003367608594\n",
      "  gamma                          4.444296630253897\n",
      "  max_depth                      10\n",
      "  min_child_weight               4.423521439264725\n",
      "  max_delta_step                 0.6503684843105739\n",
      "  subsample                      0.8341635554014264\n",
      "  sampling_method                uniform\n",
      "  colsample_bytree               1.0\n",
      "  colsample_bylevel              0.9801876177960801\n",
      "  colsample_bynode               0.6560566625893947\n",
      "  lambda                         1\n",
      "  scale_pos_weight               1\n",
      "  max_leaves                     0\n",
      "  reg_lambda                     3.2267\n",
      " # bin files: 10   # of folds 5 -  (groups of 2 file tuples)\n",
      " CV Split 0 -  Training files: [2, 3, 4, 5, 6, 7, 8, 9]   Validation files: [0, 1]  \n"
     ]
    },
    {
     "name": "stderr",
     "output_type": "stream",
     "text": [
      "2024-02-13 04:34:43,406 - INFO: - CrossValidation split #0\n",
      "2024-02-13 04:34:43,407 - INFO: - Building training & validation DMatrix...\n",
      "2024-02-13 04:36:17,336 - INFO: - Training model...\n",
      "2024-02-13 04:36:17,342 - INFO: - start listen on 10.91.28.16:49531\n",
      "[04:36:17] task [xgboost.dask-0]:tcp://127.0.0.1:33413 got new rank 0\n",
      "[04:36:17] task [xgboost.dask-1]:tcp://127.0.0.1:41855 got new rank 1\n",
      "[04:36:17] task [xgboost.dask-2]:tcp://127.0.0.1:42983 got new rank 2\n",
      "2024-02-13 04:36:17,390 - INFO: - @tracker All of 3 nodes getting started\n",
      "2024-02-13 04:37:09,022 - INFO: - @tracker All nodes finishes job\n",
      "2024-02-13 04:37:09,254 - INFO: - Running model on test data...\n",
      "2024-02-13 04:37:27,885 - INFO: - Calculating metrics...\n",
      "2024-02-13 04:37:27,939 - INFO: - Calculating metrics...Completed\n"
     ]
    },
    {
     "name": "stdout",
     "output_type": "stream",
     "text": [
      "--------------------------------------------------------------------------------\n",
      " train_auc           :   0.97137\n",
      " train_logloss       :   0.25510\n",
      " val_auc             :   0.61085\n",
      " val_logloss         :   0.35795\n",
      " roc_auc             :   0.61193\n",
      " logloss             :   0.35795\n",
      " accuracy            :   0.87948\n",
      " bal_acc             :   0.00257\n",
      " top_k_acc           :   1.00000\n",
      " F1_score            :   0.00606\n",
      " map                 :   0.19608\n",
      " pearson_corr        :   0.16040\n",
      "--------------------------------------------------------------------------------\n",
      " CV Split 1 -  Training files: [0, 1, 4, 5, 6, 7, 8, 9]   Validation files: [2, 3]  \n"
     ]
    },
    {
     "name": "stderr",
     "output_type": "stream",
     "text": [
      "2024-02-13 04:37:33,670 - INFO: - CrossValidation split #1\n",
      "2024-02-13 04:37:33,671 - INFO: - Building training & validation DMatrix...\n",
      "2024-02-13 04:39:07,099 - INFO: - Training model...\n",
      "2024-02-13 04:39:07,106 - INFO: - start listen on 10.91.28.16:36497\n",
      "[04:39:07] task [xgboost.dask-0]:tcp://127.0.0.1:33413 got new rank 0\n",
      "[04:39:07] task [xgboost.dask-1]:tcp://127.0.0.1:41855 got new rank 1\n",
      "[04:39:07] task [xgboost.dask-2]:tcp://127.0.0.1:42983 got new rank 2\n",
      "2024-02-13 04:39:07,146 - INFO: - @tracker All of 3 nodes getting started\n",
      "2024-02-13 04:40:16,396 - INFO: - @tracker All nodes finishes job\n",
      "2024-02-13 04:40:16,630 - INFO: - Running model on test data...\n",
      "2024-02-13 04:40:35,478 - INFO: - Calculating metrics...\n",
      "2024-02-13 04:40:35,529 - INFO: - Calculating metrics...Completed\n"
     ]
    },
    {
     "name": "stdout",
     "output_type": "stream",
     "text": [
      "--------------------------------------------------------------------------------\n",
      " train_auc           :   0.98837\n",
      " train_logloss       :   0.22325\n",
      " val_auc             :   0.61967\n",
      " val_logloss         :   0.36053\n",
      " roc_auc             :   0.62045\n",
      " logloss             :   0.36053\n",
      " accuracy            :   0.87763\n",
      " bal_acc             :   0.00169\n",
      " top_k_acc           :   1.00000\n",
      " F1_score            :   0.00466\n",
      " map                 :   0.20368\n",
      " pearson_corr        :   0.16977\n",
      "--------------------------------------------------------------------------------\n",
      " CV Split 2 -  Training files: [0, 1, 2, 3, 6, 7, 8, 9]   Validation files: [4, 5]  \n"
     ]
    },
    {
     "name": "stderr",
     "output_type": "stream",
     "text": [
      "2024-02-13 04:40:41,295 - INFO: - CrossValidation split #2\n",
      "2024-02-13 04:40:41,296 - INFO: - Building training & validation DMatrix...\n",
      "2024-02-13 04:42:15,568 - INFO: - Training model...\n",
      "2024-02-13 04:42:15,579 - INFO: - start listen on 10.91.28.16:46125\n",
      "[04:42:15] task [xgboost.dask-0]:tcp://127.0.0.1:33413 got new rank 0\n",
      "[04:42:15] task [xgboost.dask-1]:tcp://127.0.0.1:41855 got new rank 1\n",
      "[04:42:15] task [xgboost.dask-2]:tcp://127.0.0.1:42983 got new rank 2\n",
      "2024-02-13 04:42:15,618 - INFO: - @tracker All of 3 nodes getting started\n",
      "2024-02-13 04:43:17,369 - INFO: - @tracker All nodes finishes job\n",
      "2024-02-13 04:43:17,603 - INFO: - Running model on test data...\n",
      "2024-02-13 04:43:36,901 - INFO: - Calculating metrics...\n",
      "2024-02-13 04:43:36,953 - INFO: - Calculating metrics...Completed\n"
     ]
    },
    {
     "name": "stdout",
     "output_type": "stream",
     "text": [
      "--------------------------------------------------------------------------------\n",
      " train_auc           :   0.98251\n",
      " train_logloss       :   0.23952\n",
      " val_auc             :   0.61842\n",
      " val_logloss         :   0.34885\n",
      " roc_auc             :   0.61877\n",
      " logloss             :   0.34885\n",
      " accuracy            :   0.88354\n",
      " bal_acc             :   0.00461\n",
      " top_k_acc           :   1.00000\n",
      " F1_score            :   0.01007\n",
      " map                 :   0.20155\n",
      " pearson_corr        :   0.17282\n",
      "--------------------------------------------------------------------------------\n",
      " CV Split 3 -  Training files: [0, 1, 2, 3, 4, 5, 8, 9]   Validation files: [6, 7]  \n"
     ]
    },
    {
     "name": "stderr",
     "output_type": "stream",
     "text": [
      "2024-02-13 04:43:43,300 - INFO: - CrossValidation split #3\n",
      "2024-02-13 04:43:43,302 - INFO: - Building training & validation DMatrix...\n",
      "2024-02-13 04:45:17,789 - INFO: - Training model...\n",
      "2024-02-13 04:45:17,794 - INFO: - start listen on 10.91.28.16:56291\n",
      "[04:45:17] task [xgboost.dask-0]:tcp://127.0.0.1:33413 got new rank 0\n",
      "[04:45:17] task [xgboost.dask-1]:tcp://127.0.0.1:41855 got new rank 1\n",
      "[04:45:17] task [xgboost.dask-2]:tcp://127.0.0.1:42983 got new rank 2\n",
      "2024-02-13 04:45:17,846 - INFO: - @tracker All of 3 nodes getting started\n",
      "2024-02-13 04:46:27,202 - INFO: - @tracker All nodes finishes job\n",
      "2024-02-13 04:46:27,430 - INFO: - Running model on test data...\n",
      "2024-02-13 04:46:46,713 - INFO: - Calculating metrics...\n",
      "2024-02-13 04:46:46,767 - INFO: - Calculating metrics...Completed\n"
     ]
    },
    {
     "name": "stdout",
     "output_type": "stream",
     "text": [
      "--------------------------------------------------------------------------------\n",
      " train_auc           :   0.98711\n",
      " train_logloss       :   0.22657\n",
      " val_auc             :   0.60829\n",
      " val_logloss         :   0.35529\n",
      " roc_auc             :   0.60897\n",
      " logloss             :   0.35529\n",
      " accuracy            :   0.88175\n",
      " bal_acc             :   0.00543\n",
      " top_k_acc           :   1.00000\n",
      " F1_score            :   0.01214\n",
      " map                 :   0.19131\n",
      " pearson_corr        :   0.15468\n",
      "--------------------------------------------------------------------------------\n",
      " CV Split 4 -  Training files: [0, 1, 2, 3, 4, 5, 6, 7]   Validation files: [8, 9]  \n"
     ]
    },
    {
     "name": "stderr",
     "output_type": "stream",
     "text": [
      "2024-02-13 04:46:52,336 - INFO: - CrossValidation split #4\n",
      "2024-02-13 04:46:52,338 - INFO: - Building training & validation DMatrix...\n",
      "2024-02-13 04:48:26,376 - INFO: - Training model...\n",
      "2024-02-13 04:48:26,383 - INFO: - start listen on 10.91.28.16:55925\n",
      "[04:48:26] task [xgboost.dask-0]:tcp://127.0.0.1:33413 got new rank 0\n",
      "[04:48:26] task [xgboost.dask-1]:tcp://127.0.0.1:41855 got new rank 1\n",
      "[04:48:26] task [xgboost.dask-2]:tcp://127.0.0.1:42983 got new rank 2\n",
      "2024-02-13 04:48:26,425 - INFO: - @tracker All of 3 nodes getting started\n",
      "2024-02-13 04:49:23,445 - INFO: - @tracker All nodes finishes job\n",
      "2024-02-13 04:49:23,666 - INFO: - Running model on test data...\n",
      "2024-02-13 04:49:42,704 - INFO: - Calculating metrics...\n",
      "2024-02-13 04:49:42,758 - INFO: - Calculating metrics...Completed\n",
      "[I 2024-02-13 04:49:42,884] Trial 44 finished with values: {'roc_auc': 0.6142202582916583, 'logloss': 0.3555057752575358} and parameters: {'learning_rate': 0.06227003367608594, 'min_split_loss': 4.444296630253897, 'max_depth': 10, 'min_child_weight': 4.423521439264725, 'max_delta_step': 0.6503684843105739, 'subsample': 0.8341635554014264, 'colsample_bylevel': 0.9801876177960801, 'colsample_bynode': 0.6560566625893947}. \n"
     ]
    },
    {
     "name": "stdout",
     "output_type": "stream",
     "text": [
      "--------------------------------------------------------------------------------\n",
      " train_auc           :   0.97699\n",
      " train_logloss       :   0.24746\n",
      " val_auc             :   0.61387\n",
      " val_logloss         :   0.35491\n",
      " roc_auc             :   0.61425\n",
      " logloss             :   0.35491\n",
      " accuracy            :   0.88082\n",
      " bal_acc             :   0.00329\n",
      " top_k_acc           :   1.00000\n",
      " F1_score            :   0.00735\n",
      " map                 :   0.19944\n",
      " pearson_corr        :   0.16591\n",
      "--------------------------------------------------------------------------------\n",
      "--------------------------------------------------------------------------------\n",
      " train_auc                 0.98127 +/- 0.00636\n",
      " train_logloss             0.23838 +/- 0.01210\n",
      " val_auc                   0.61422 +/- 0.00434\n",
      " val_logloss               0.35551 +/- 0.00390\n",
      " roc_auc                   0.61487 +/- 0.00425\n",
      " logloss                   0.35551 +/- 0.00390\n",
      " accuracy                  0.88064 +/- 0.00200\n",
      " bal_acc                   0.00352 +/- 0.00135\n",
      " top_k_acc                 1.00000 +/- 0.00000\n",
      " F1_score                  0.00806 +/- 0.00271\n",
      " map                       0.19841 +/- 0.00435\n",
      " pearson_corr              0.16472 +/- 0.00651\n",
      "--------------------------------------------------------------------------------\n",
      " model best score    :  0.35390256018619376\n",
      " model best iteration:  72\n",
      " Save model to : .\\saved_models\\classification-study-1_trial_044.json\n",
      "--------------------------------------------------------------------------------\n",
      " Training model (trial #45) \n",
      "--------------------------------------------------------------------------------\n",
      " Parameters:\n",
      "  booster                        gbtree\n",
      "  device                         gpu\n",
      "  objective                      binary:logistic\n",
      "  eval_metric                    ['auc', 'logloss']\n",
      "  verbosity                      0\n",
      "  disable_default_eval_metric    False\n",
      "  tree_method                    auto\n",
      "  learning_rate                  0.7442330152740122\n",
      "  gamma                          8.218492128163525\n",
      "  max_depth                      4\n",
      "  min_child_weight               9.379459541052032\n",
      "  max_delta_step                 2.5567501054667128\n",
      "  subsample                      0.5612039522089853\n",
      "  sampling_method                uniform\n",
      "  colsample_bytree               1.0\n",
      "  colsample_bylevel              0.7528716288817635\n",
      "  colsample_bynode               0.5232261332534233\n",
      "  lambda                         1\n",
      "  scale_pos_weight               1\n",
      "  max_leaves                     0\n",
      "  reg_lambda                     3.2267\n",
      " # bin files: 10   # of folds 5 -  (groups of 2 file tuples)\n",
      " CV Split 0 -  Training files: [2, 3, 4, 5, 6, 7, 8, 9]   Validation files: [0, 1]  \n"
     ]
    },
    {
     "name": "stderr",
     "output_type": "stream",
     "text": [
      "2024-02-13 04:49:49,553 - INFO: - CrossValidation split #0\n",
      "2024-02-13 04:49:49,554 - INFO: - Building training & validation DMatrix...\n",
      "2024-02-13 04:51:22,942 - INFO: - Training model...\n",
      "2024-02-13 04:51:22,950 - INFO: - start listen on 10.91.28.16:54957\n",
      "[04:51:22] task [xgboost.dask-0]:tcp://127.0.0.1:33413 got new rank 0\n",
      "[04:51:22] task [xgboost.dask-1]:tcp://127.0.0.1:41855 got new rank 1\n",
      "[04:51:22] task [xgboost.dask-2]:tcp://127.0.0.1:42983 got new rank 2\n",
      "2024-02-13 04:51:22,989 - INFO: - @tracker All of 3 nodes getting started\n",
      "2024-02-13 04:51:31,349 - INFO: - @tracker All nodes finishes job\n",
      "2024-02-13 04:51:31,502 - INFO: - Running model on test data...\n",
      "2024-02-13 04:51:50,542 - INFO: - Calculating metrics...\n",
      "2024-02-13 04:51:50,597 - INFO: - Calculating metrics...Completed\n"
     ]
    },
    {
     "name": "stdout",
     "output_type": "stream",
     "text": [
      "--------------------------------------------------------------------------------\n",
      " train_auc           :   0.70172\n",
      " train_logloss       :   0.33544\n",
      " val_auc             :   0.57635\n",
      " val_logloss         :   0.38423\n",
      " roc_auc             :   0.57773\n",
      " logloss             :   0.38423\n",
      " accuracy            :   0.87381\n",
      " bal_acc             :   0.01681\n",
      " top_k_acc           :   1.00000\n",
      " F1_score            :   0.04906\n",
      " map                 :   0.16453\n",
      " pearson_corr        :   0.10489\n",
      "--------------------------------------------------------------------------------\n",
      " CV Split 1 -  Training files: [0, 1, 4, 5, 6, 7, 8, 9]   Validation files: [2, 3]  \n"
     ]
    },
    {
     "name": "stderr",
     "output_type": "stream",
     "text": [
      "2024-02-13 04:51:56,496 - INFO: - CrossValidation split #1\n",
      "2024-02-13 04:51:56,498 - INFO: - Building training & validation DMatrix...\n",
      "2024-02-13 04:53:30,177 - INFO: - Training model...\n",
      "2024-02-13 04:53:30,185 - INFO: - start listen on 10.91.28.16:59863\n",
      "[04:53:30] task [xgboost.dask-0]:tcp://127.0.0.1:33413 got new rank 0\n",
      "[04:53:30] task [xgboost.dask-1]:tcp://127.0.0.1:41855 got new rank 1\n",
      "[04:53:30] task [xgboost.dask-2]:tcp://127.0.0.1:42983 got new rank 2\n",
      "2024-02-13 04:53:30,230 - INFO: - @tracker All of 3 nodes getting started\n",
      "2024-02-13 04:53:38,997 - INFO: - @tracker All nodes finishes job\n",
      "2024-02-13 04:53:39,156 - INFO: - Running model on test data...\n",
      "2024-02-13 04:53:58,276 - INFO: - Calculating metrics...\n",
      "2024-02-13 04:53:58,359 - INFO: - Calculating metrics...Completed\n"
     ]
    },
    {
     "name": "stdout",
     "output_type": "stream",
     "text": [
      "--------------------------------------------------------------------------------\n",
      " train_auc           :   0.70154\n",
      " train_logloss       :   0.33442\n",
      " val_auc             :   0.58738\n",
      " val_logloss         :   0.38406\n",
      " roc_auc             :   0.58746\n",
      " logloss             :   0.38406\n",
      " accuracy            :   0.87255\n",
      " bal_acc             :   0.01335\n",
      " top_k_acc           :   1.00000\n",
      " F1_score            :   0.04150\n",
      " map                 :   0.16753\n",
      " pearson_corr        :   0.10816\n",
      "--------------------------------------------------------------------------------\n",
      " CV Split 2 -  Training files: [0, 1, 2, 3, 6, 7, 8, 9]   Validation files: [4, 5]  \n"
     ]
    },
    {
     "name": "stderr",
     "output_type": "stream",
     "text": [
      "2024-02-13 04:54:04,245 - INFO: - CrossValidation split #2\n",
      "2024-02-13 04:54:04,246 - INFO: - Building training & validation DMatrix...\n",
      "2024-02-13 04:55:38,302 - INFO: - Training model...\n",
      "2024-02-13 04:55:38,310 - INFO: - start listen on 10.91.28.16:37403\n",
      "[04:55:38] task [xgboost.dask-0]:tcp://127.0.0.1:33413 got new rank 0\n",
      "[04:55:38] task [xgboost.dask-1]:tcp://127.0.0.1:41855 got new rank 1\n",
      "[04:55:38] task [xgboost.dask-2]:tcp://127.0.0.1:42983 got new rank 2\n",
      "2024-02-13 04:55:38,362 - INFO: - @tracker All of 3 nodes getting started\n",
      "2024-02-13 04:55:47,369 - INFO: - @tracker All nodes finishes job\n",
      "2024-02-13 04:55:47,541 - INFO: - Running model on test data...\n",
      "2024-02-13 04:56:06,700 - INFO: - Calculating metrics...\n",
      "2024-02-13 04:56:06,755 - INFO: - Calculating metrics...Completed\n"
     ]
    },
    {
     "name": "stdout",
     "output_type": "stream",
     "text": [
      "--------------------------------------------------------------------------------\n",
      " train_auc           :   0.70299\n",
      " train_logloss       :   0.33674\n",
      " val_auc             :   0.58553\n",
      " val_logloss         :   0.37340\n",
      " roc_auc             :   0.58596\n",
      " logloss             :   0.37340\n",
      " accuracy            :   0.87849\n",
      " bal_acc             :   0.01749\n",
      " top_k_acc           :   1.00000\n",
      " F1_score            :   0.04843\n",
      " map                 :   0.16327\n",
      " pearson_corr        :   0.11101\n",
      "--------------------------------------------------------------------------------\n",
      " CV Split 3 -  Training files: [0, 1, 2, 3, 4, 5, 8, 9]   Validation files: [6, 7]  \n"
     ]
    },
    {
     "name": "stderr",
     "output_type": "stream",
     "text": [
      "2024-02-13 04:56:12,126 - INFO: - CrossValidation split #3\n",
      "2024-02-13 04:56:12,127 - INFO: - Building training & validation DMatrix...\n",
      "2024-02-13 04:57:46,768 - INFO: - Training model...\n",
      "2024-02-13 04:57:46,778 - INFO: - start listen on 10.91.28.16:55841\n",
      "[04:57:46] task [xgboost.dask-0]:tcp://127.0.0.1:33413 got new rank 0\n",
      "[04:57:46] task [xgboost.dask-1]:tcp://127.0.0.1:41855 got new rank 1\n",
      "[04:57:46] task [xgboost.dask-2]:tcp://127.0.0.1:42983 got new rank 2\n",
      "2024-02-13 04:57:46,821 - INFO: - @tracker All of 3 nodes getting started\n",
      "2024-02-13 04:57:55,139 - INFO: - @tracker All nodes finishes job\n",
      "2024-02-13 04:57:55,290 - INFO: - Running model on test data...\n",
      "2024-02-13 04:58:14,212 - INFO: - Calculating metrics...\n",
      "2024-02-13 04:58:14,267 - INFO: - Calculating metrics...Completed\n"
     ]
    },
    {
     "name": "stdout",
     "output_type": "stream",
     "text": [
      "--------------------------------------------------------------------------------\n",
      " train_auc           :   0.70259\n",
      " train_logloss       :   0.33597\n",
      " val_auc             :   0.57064\n",
      " val_logloss         :   0.38147\n",
      " roc_auc             :   0.57064\n",
      " logloss             :   0.38147\n",
      " accuracy            :   0.87567\n",
      " bal_acc             :   0.01411\n",
      " top_k_acc           :   1.00000\n",
      " F1_score            :   0.04389\n",
      " map                 :   0.15650\n",
      " pearson_corr        :   0.09259\n",
      "--------------------------------------------------------------------------------\n",
      " CV Split 4 -  Training files: [0, 1, 2, 3, 4, 5, 6, 7]   Validation files: [8, 9]  \n"
     ]
    },
    {
     "name": "stderr",
     "output_type": "stream",
     "text": [
      "2024-02-13 04:58:20,551 - INFO: - CrossValidation split #4\n",
      "2024-02-13 04:58:20,552 - INFO: - Building training & validation DMatrix...\n",
      "2024-02-13 04:59:55,492 - INFO: - Training model...\n",
      "2024-02-13 04:59:55,501 - INFO: - start listen on 10.91.28.16:42317\n",
      "[04:59:55] task [xgboost.dask-0]:tcp://127.0.0.1:33413 got new rank 0\n",
      "[04:59:55] task [xgboost.dask-1]:tcp://127.0.0.1:41855 got new rank 1\n",
      "[04:59:55] task [xgboost.dask-2]:tcp://127.0.0.1:42983 got new rank 2\n",
      "2024-02-13 04:59:55,547 - INFO: - @tracker All of 3 nodes getting started\n",
      "2024-02-13 05:00:04,270 - INFO: - @tracker All nodes finishes job\n",
      "2024-02-13 05:00:04,418 - INFO: - Running model on test data...\n",
      "2024-02-13 05:00:22,926 - INFO: - Calculating metrics...\n",
      "2024-02-13 05:00:22,983 - INFO: - Calculating metrics...Completed\n",
      "[I 2024-02-13 05:00:23,076] Trial 45 finished with values: {'roc_auc': 0.58133119456533, 'logloss': 0.3803776491121085} and parameters: {'learning_rate': 0.7442330152740122, 'min_split_loss': 8.218492128163525, 'max_depth': 4, 'min_child_weight': 9.379459541052032, 'max_delta_step': 2.5567501054667128, 'subsample': 0.5612039522089853, 'colsample_bylevel': 0.7528716288817635, 'colsample_bynode': 0.5232261332534233}. \n"
     ]
    },
    {
     "name": "stdout",
     "output_type": "stream",
     "text": [
      "--------------------------------------------------------------------------------\n",
      " train_auc           :   0.70652\n",
      " train_logloss       :   0.33454\n",
      " val_auc             :   0.58676\n",
      " val_logloss         :   0.37873\n",
      " roc_auc             :   0.58693\n",
      " logloss             :   0.37873\n",
      " accuracy            :   0.87571\n",
      " bal_acc             :   0.02005\n",
      " top_k_acc           :   1.00000\n",
      " F1_score            :   0.05410\n",
      " map                 :   0.16599\n",
      " pearson_corr        :   0.11054\n",
      "--------------------------------------------------------------------------------\n",
      "--------------------------------------------------------------------------------\n",
      " train_auc                 0.70307 +/- 0.00181\n",
      " train_logloss             0.33542 +/- 0.00087\n",
      " val_auc                   0.58133 +/- 0.00668\n",
      " val_logloss               0.38038 +/- 0.00402\n",
      " roc_auc                   0.58175 +/- 0.00658\n",
      " logloss                   0.38038 +/- 0.00402\n",
      " accuracy                  0.87525 +/- 0.00201\n",
      " bal_acc                   0.01636 +/- 0.00242\n",
      " top_k_acc                 1.00000 +/- 0.00000\n",
      " F1_score                  0.04740 +/- 0.00438\n",
      " map                       0.16356 +/- 0.00381\n",
      " pearson_corr              0.10544 +/- 0.00678\n",
      "--------------------------------------------------------------------------------\n",
      " model best score    :  0.35998169585468465\n",
      " model best iteration:  4\n",
      " Save model to : .\\saved_models\\classification-study-1_trial_045.json\n",
      "--------------------------------------------------------------------------------\n",
      " Training model (trial #46) \n",
      "--------------------------------------------------------------------------------\n",
      " Parameters:\n",
      "  booster                        gbtree\n",
      "  device                         gpu\n",
      "  objective                      binary:logistic\n",
      "  eval_metric                    ['auc', 'logloss']\n",
      "  verbosity                      0\n",
      "  disable_default_eval_metric    False\n",
      "  tree_method                    auto\n",
      "  learning_rate                  0.011507708277560936\n",
      "  gamma                          0.45429217194497773\n",
      "  max_depth                      1\n",
      "  min_child_weight               9.753826787738241\n",
      "  max_delta_step                 2.618648377066144\n",
      "  subsample                      0.8815847630737568\n",
      "  sampling_method                uniform\n",
      "  colsample_bytree               1.0\n",
      "  colsample_bylevel              0.9364186644644483\n",
      "  colsample_bynode               0.5556882336721701\n",
      "  lambda                         1\n",
      "  scale_pos_weight               1\n",
      "  max_leaves                     0\n",
      "  reg_lambda                     3.2267\n",
      " # bin files: 10   # of folds 5 -  (groups of 2 file tuples)\n",
      " CV Split 0 -  Training files: [2, 3, 4, 5, 6, 7, 8, 9]   Validation files: [0, 1]  \n"
     ]
    },
    {
     "name": "stderr",
     "output_type": "stream",
     "text": [
      "2024-02-13 05:00:29,764 - INFO: - CrossValidation split #0\n",
      "2024-02-13 05:00:29,765 - INFO: - Building training & validation DMatrix...\n",
      "2024-02-13 05:02:04,684 - INFO: - Training model...\n",
      "2024-02-13 05:02:04,695 - INFO: - start listen on 10.91.28.16:47009\n",
      "[05:02:04] task [xgboost.dask-0]:tcp://127.0.0.1:33413 got new rank 0\n",
      "[05:02:04] task [xgboost.dask-1]:tcp://127.0.0.1:41855 got new rank 1\n",
      "[05:02:04] task [xgboost.dask-2]:tcp://127.0.0.1:42983 got new rank 2\n",
      "2024-02-13 05:02:04,742 - INFO: - @tracker All of 3 nodes getting started\n",
      "2024-02-13 05:03:09,330 - INFO: - @tracker All nodes finishes job\n",
      "2024-02-13 05:03:09,530 - INFO: - Running model on test data...\n",
      "2024-02-13 05:03:28,709 - INFO: - Calculating metrics...\n",
      "2024-02-13 05:03:28,763 - INFO: - Calculating metrics...Completed\n"
     ]
    },
    {
     "name": "stdout",
     "output_type": "stream",
     "text": [
      "--------------------------------------------------------------------------------\n",
      " train_auc           :   0.60813\n",
      " train_logloss       :   0.35775\n",
      " val_auc             :   0.59426\n",
      " val_logloss         :   0.36162\n",
      " roc_auc             :   0.59482\n",
      " logloss             :   0.36162\n",
      " accuracy            :   0.87953\n",
      " bal_acc             :   0.00000\n",
      " top_k_acc           :   1.00000\n",
      " F1_score            :   0.00000\n",
      " map                 :   0.17563\n",
      " pearson_corr        :   0.12363\n",
      "--------------------------------------------------------------------------------\n",
      " CV Split 1 -  Training files: [0, 1, 4, 5, 6, 7, 8, 9]   Validation files: [2, 3]  \n"
     ]
    },
    {
     "name": "stderr",
     "output_type": "stream",
     "text": [
      "2024-02-13 05:03:34,503 - INFO: - CrossValidation split #1\n",
      "2024-02-13 05:03:34,504 - INFO: - Building training & validation DMatrix...\n",
      "2024-02-13 05:05:08,302 - INFO: - Training model...\n",
      "2024-02-13 05:05:08,311 - INFO: - start listen on 10.91.28.16:52673\n",
      "[05:05:08] task [xgboost.dask-0]:tcp://127.0.0.1:33413 got new rank 0\n",
      "[05:05:08] task [xgboost.dask-1]:tcp://127.0.0.1:41855 got new rank 1\n",
      "[05:05:08] task [xgboost.dask-2]:tcp://127.0.0.1:42983 got new rank 2\n",
      "2024-02-13 05:05:08,354 - INFO: - @tracker All of 3 nodes getting started\n",
      "2024-02-13 05:06:15,688 - INFO: - @tracker All nodes finishes job\n",
      "2024-02-13 05:06:15,889 - INFO: - Running model on test data...\n",
      "2024-02-13 05:06:34,855 - INFO: - Calculating metrics...\n",
      "2024-02-13 05:06:34,910 - INFO: - Calculating metrics...Completed\n"
     ]
    },
    {
     "name": "stdout",
     "output_type": "stream",
     "text": [
      "--------------------------------------------------------------------------------\n",
      " train_auc           :   0.60572\n",
      " train_logloss       :   0.35704\n",
      " val_auc             :   0.59990\n",
      " val_logloss         :   0.36486\n",
      " roc_auc             :   0.60040\n",
      " logloss             :   0.36486\n",
      " accuracy            :   0.87792\n",
      " bal_acc             :   0.00000\n",
      " top_k_acc           :   1.00000\n",
      " F1_score            :   0.00000\n",
      " map                 :   0.17641\n",
      " pearson_corr        :   0.12005\n",
      "--------------------------------------------------------------------------------\n",
      " CV Split 2 -  Training files: [0, 1, 2, 3, 6, 7, 8, 9]   Validation files: [4, 5]  \n"
     ]
    },
    {
     "name": "stderr",
     "output_type": "stream",
     "text": [
      "2024-02-13 05:06:40,598 - INFO: - CrossValidation split #2\n",
      "2024-02-13 05:06:40,599 - INFO: - Building training & validation DMatrix...\n",
      "2024-02-13 05:08:16,082 - INFO: - Training model...\n",
      "2024-02-13 05:08:16,090 - INFO: - start listen on 10.91.28.16:52285\n",
      "[05:08:16] task [xgboost.dask-0]:tcp://127.0.0.1:33413 got new rank 0\n",
      "[05:08:16] task [xgboost.dask-1]:tcp://127.0.0.1:41855 got new rank 1\n",
      "[05:08:16] task [xgboost.dask-2]:tcp://127.0.0.1:42983 got new rank 2\n",
      "2024-02-13 05:08:16,132 - INFO: - @tracker All of 3 nodes getting started\n",
      "2024-02-13 05:09:20,113 - INFO: - @tracker All nodes finishes job\n",
      "2024-02-13 05:09:20,322 - INFO: - Running model on test data...\n",
      "2024-02-13 05:09:39,960 - INFO: - Calculating metrics...\n",
      "2024-02-13 05:09:40,015 - INFO: - Calculating metrics...Completed\n"
     ]
    },
    {
     "name": "stdout",
     "output_type": "stream",
     "text": [
      "--------------------------------------------------------------------------------\n",
      " train_auc           :   0.60774\n",
      " train_logloss       :   0.35997\n",
      " val_auc             :   0.59875\n",
      " val_logloss         :   0.35344\n",
      " roc_auc             :   0.59887\n",
      " logloss             :   0.35344\n",
      " accuracy            :   0.88336\n",
      " bal_acc             :   0.00000\n",
      " top_k_acc           :   1.00000\n",
      " F1_score            :   0.00000\n",
      " map                 :   0.18033\n",
      " pearson_corr        :   0.13615\n",
      "--------------------------------------------------------------------------------\n",
      " CV Split 3 -  Training files: [0, 1, 2, 3, 4, 5, 8, 9]   Validation files: [6, 7]  \n"
     ]
    },
    {
     "name": "stderr",
     "output_type": "stream",
     "text": [
      "2024-02-13 05:09:45,886 - INFO: - CrossValidation split #3\n",
      "2024-02-13 05:09:45,887 - INFO: - Building training & validation DMatrix...\n",
      "2024-02-13 05:11:21,118 - INFO: - Training model...\n",
      "2024-02-13 05:11:21,130 - INFO: - start listen on 10.91.28.16:38707\n",
      "[05:11:21] task [xgboost.dask-0]:tcp://127.0.0.1:33413 got new rank 0\n",
      "[05:11:21] task [xgboost.dask-1]:tcp://127.0.0.1:41855 got new rank 1\n",
      "[05:11:21] task [xgboost.dask-2]:tcp://127.0.0.1:42983 got new rank 2\n",
      "2024-02-13 05:11:21,174 - INFO: - @tracker All of 3 nodes getting started\n",
      "2024-02-13 05:12:26,695 - INFO: - @tracker All nodes finishes job\n",
      "2024-02-13 05:12:26,914 - INFO: - Running model on test data...\n",
      "2024-02-13 05:12:46,488 - INFO: - Calculating metrics...\n",
      "2024-02-13 05:12:46,540 - INFO: - Calculating metrics...Completed\n"
     ]
    },
    {
     "name": "stdout",
     "output_type": "stream",
     "text": [
      "--------------------------------------------------------------------------------\n",
      " train_auc           :   0.60903\n",
      " train_logloss       :   0.35885\n",
      " val_auc             :   0.59207\n",
      " val_logloss         :   0.35742\n",
      " roc_auc             :   0.59300\n",
      " logloss             :   0.35742\n",
      " accuracy            :   0.88164\n",
      " bal_acc             :   0.00000\n",
      " top_k_acc           :   1.00000\n",
      " F1_score            :   0.00000\n",
      " map                 :   0.17709\n",
      " pearson_corr        :   0.12621\n",
      "--------------------------------------------------------------------------------\n",
      " CV Split 4 -  Training files: [0, 1, 2, 3, 4, 5, 6, 7]   Validation files: [8, 9]  \n"
     ]
    },
    {
     "name": "stderr",
     "output_type": "stream",
     "text": [
      "2024-02-13 05:12:52,301 - INFO: - CrossValidation split #4\n",
      "2024-02-13 05:12:52,303 - INFO: - Building training & validation DMatrix...\n",
      "2024-02-13 05:14:27,292 - INFO: - Training model...\n",
      "2024-02-13 05:14:27,300 - INFO: - start listen on 10.91.28.16:36817\n",
      "[05:14:27] task [xgboost.dask-0]:tcp://127.0.0.1:33413 got new rank 0\n",
      "[05:14:27] task [xgboost.dask-1]:tcp://127.0.0.1:41855 got new rank 1\n",
      "[05:14:27] task [xgboost.dask-2]:tcp://127.0.0.1:42983 got new rank 2\n",
      "2024-02-13 05:14:27,342 - INFO: - @tracker All of 3 nodes getting started\n",
      "2024-02-13 05:15:31,081 - INFO: - @tracker All nodes finishes job\n",
      "2024-02-13 05:15:31,310 - INFO: - Running model on test data...\n",
      "2024-02-13 05:15:50,872 - INFO: - Calculating metrics...\n",
      "2024-02-13 05:15:50,928 - INFO: - Calculating metrics...Completed\n",
      "[I 2024-02-13 05:15:51,024] Trial 46 finished with values: {'roc_auc': 0.5961399338966344, 'logloss': 0.35924618014679427} and parameters: {'learning_rate': 0.011507708277560936, 'min_split_loss': 0.45429217194497773, 'max_depth': 1, 'min_child_weight': 9.753826787738241, 'max_delta_step': 2.618648377066144, 'subsample': 0.8815847630737568, 'colsample_bylevel': 0.9364186644644483, 'colsample_bynode': 0.5556882336721701}. \n"
     ]
    },
    {
     "name": "stdout",
     "output_type": "stream",
     "text": [
      "--------------------------------------------------------------------------------\n",
      " train_auc           :   0.60654\n",
      " train_logloss       :   0.35849\n",
      " val_auc             :   0.59571\n",
      " val_logloss         :   0.35889\n",
      " roc_auc             :   0.59631\n",
      " logloss             :   0.35889\n",
      " accuracy            :   0.88074\n",
      " bal_acc             :   0.00000\n",
      " top_k_acc           :   1.00000\n",
      " F1_score            :   0.00000\n",
      " map                 :   0.17784\n",
      " pearson_corr        :   0.12985\n",
      "--------------------------------------------------------------------------------\n",
      "--------------------------------------------------------------------------------\n",
      " train_auc                 0.60743 +/- 0.00117\n",
      " train_logloss             0.35842 +/- 0.00100\n",
      " val_auc                   0.59614 +/- 0.00287\n",
      " val_logloss               0.35925 +/- 0.00386\n",
      " roc_auc                   0.59668 +/- 0.00267\n",
      " logloss                   0.35925 +/- 0.00386\n",
      " accuracy                  0.88064 +/- 0.00185\n",
      " bal_acc                   0.00000 +/- 0.00000\n",
      " top_k_acc                 1.00000 +/- 0.00000\n",
      " F1_score                  0.00000 +/- 0.00000\n",
      " map                       0.17746 +/- 0.00161\n",
      " pearson_corr              0.12718 +/- 0.00551\n",
      "--------------------------------------------------------------------------------\n",
      " model best score    :  0.35888816977700305\n",
      " model best iteration:  999\n",
      " Save model to : .\\saved_models\\classification-study-1_trial_046.json\n",
      "Total time:  0:52:52.310248\n"
     ]
    }
   ],
   "source": [
    "start = datetime.now()\n",
    "study.optimize(objective, n_trials=4, timeout=3600*4, gc_after_trial=True, show_progress_bar=False)\n",
    "print(f\"Total time:  {datetime.now() - start}\")"
   ]
  },
  {
   "cell_type": "markdown",
   "metadata": {},
   "source": [
    "### Identify / Rerun  / Save best study"
   ]
  },
  {
   "cell_type": "code",
   "execution_count": 30,
   "metadata": {
    "execution": {
     "iopub.execute_input": "2024-02-14T11:39:37.910748Z",
     "iopub.status.busy": "2024-02-14T11:39:37.910271Z",
     "iopub.status.idle": "2024-02-14T11:39:37.961757Z",
     "shell.execute_reply": "2024-02-14T11:39:37.960957Z",
     "shell.execute_reply.started": "2024-02-14T11:39:37.910707Z"
    }
   },
   "outputs": [
    {
     "name": "stdout",
     "output_type": "stream",
     "text": [
      " Best trials:  [0]\n"
     ]
    }
   ],
   "source": [
    "print(\" Best trials: \", [x.number for x in study.best_trials])\n",
    "# study.best_params"
   ]
  },
  {
   "cell_type": "code",
   "execution_count": null,
   "metadata": {},
   "outputs": [],
   "source": [
    "best_trial_copy = copy.deepcopy(study.best_trials[0])"
   ]
  },
  {
   "cell_type": "code",
   "execution_count": null,
   "metadata": {},
   "outputs": [],
   "source": [
    "best_model = objective(best_trial_copy, disp_params = True, save = True)"
   ]
  },
  {
   "cell_type": "code",
   "execution_count": null,
   "metadata": {},
   "outputs": [],
   "source": [
    "trial.number\n",
    "best_model.keys()"
   ]
  },
  {
   "cell_type": "code",
   "execution_count": null,
   "metadata": {},
   "outputs": [],
   "source": [
    "save_as_filename = f\"{study.study_name}_trial_{trial.number:03d}.json\"\n",
    "print(f\" Save model to : {save_as_filename}\")"
   ]
  },
  {
   "cell_type": "code",
   "execution_count": null,
   "metadata": {
    "ExecuteTime": {
     "end_time": "2023-12-21T20:51:34.419906Z",
     "start_time": "2023-12-21T20:51:34.402698Z"
    }
   },
   "outputs": [],
   "source": [
    "best_model['booster'].save_model(save_as_filename)"
   ]
  },
  {
   "cell_type": "markdown",
   "metadata": {
    "jp-MarkdownHeadingCollapsed": true
   },
   "source": [
    "# Load best saved model and run against a test set"
   ]
  },
  {
   "cell_type": "code",
   "execution_count": null,
   "metadata": {},
   "outputs": [],
   "source": [
    "study_name=\"multiobjective-study-3\""
   ]
  },
  {
   "cell_type": "code",
   "execution_count": null,
   "metadata": {},
   "outputs": [],
   "source": [
    "start = datetime.now()\n",
    "study = optuna.create_study(storage=\"sqlite:///example.db\",\n",
    "                            study_name=study_name,\n",
    "                            directions=[\"minimize\", \"maximize\"], \n",
    "                            load_if_exists=True)\n",
    "# study.set_metric_names([\"mse_score\", \"R2_score\"])\n",
    "print(f\"Total time:  {datetime.now() - start}\")"
   ]
  },
  {
   "cell_type": "code",
   "execution_count": null,
   "metadata": {},
   "outputs": [],
   "source": [
    "best_trial = study.best_trials[0]"
   ]
  },
  {
   "cell_type": "code",
   "execution_count": null,
   "metadata": {},
   "outputs": [],
   "source": [
    "best_filename = f\"{study.study_name}_trial_{best_trial.number:03d}.model\"\n",
    "print(f\" Load model from : {best_filename}\")"
   ]
  },
  {
   "cell_type": "code",
   "execution_count": null,
   "metadata": {},
   "outputs": [],
   "source": [
    "model_copy = xgb.Booster()\n",
    "model_copy.load_model(best_filename)\n",
    "model_copy"
   ]
  },
  {
   "cell_type": "markdown",
   "metadata": {},
   "source": [
    "## Read test data"
   ]
  },
  {
   "cell_type": "code",
   "execution_count": null,
   "metadata": {},
   "outputs": [],
   "source": [
    "# df_ps = dd.read_csv(profileInputFiles, names = all_columns, usecols=Xy_columns, dtype= Xy_columns_dtype)   \n",
    "# df_ps = read_cell_profiles(profileInputFiles, names = all_columns, usecols = Xy_columns, dtype = Xy_columns_dtype)\n",
    "# print(f\" Number of partitions:  {df_profiles.npartitions}   partition(1) shape: {df_ps.get_partition(0).shape}\")\n",
    "\n",
    "# st1, en1 = get_dd_subset(df_ps, skiprows = 0, nrows = 200000, ss=None, verbose = False)\n",
    "# st2, en2 = get_dd_subset(df_ps, skiprows = 200000, nrows = 90000, ss=None, verbose = False)\n",
    "\n",
    "# st1,en1\n",
    "# st2,en2\n",
    "\n",
    "# df_train =df_ps.partitions[st1:en1]\n",
    "# df_test = split_Xy(df_ps.partitions[st2:en2], y_columns = list(y_columns) )"
   ]
  },
  {
   "cell_type": "code",
   "execution_count": null,
   "metadata": {},
   "outputs": [],
   "source": [
    "print(f\" Reading cell profiles file :  {profileInputFiles}\")\n",
    "# df_ps = dd.read_csv(profileInputFiles, names = all_columns, usecols=Xy_columns, dtype= Xy_columns_dtype)   \n",
    "df_ps = read_cell_profiles(profileInputFiles, names = all_columns, usecols = Xy_columns, dtype = Xy_columns_dtype)\n",
    "print(f\" Number of partitions:  {df_ps.npartitions}   partition(1) shape: {df_ps.get_partition(0).shape}\")"
   ]
  },
  {
   "cell_type": "code",
   "execution_count": null,
   "metadata": {},
   "outputs": [],
   "source": [
    "# df_ps.shape\n",
    "type(df_ps)\n",
    "df_ps.info()\n",
    "# df_ps.head()\n",
    "# df_ps.get_partition(0).compute().shape\n",
    "# df_ps.get_partition(1).compute().shape\n",
    "# df_ps.get_partition(100).compute().shape\n",
    "# _ps.get_partition(150).compute().shape\n",
    "# df_ps.npartitions\n",
    "# df_ps.get_partition(0).shape\n",
    "# df_ps.known_divisions \n",
    "# df_ps.get_partition(df_ps.npartitions-1).tail(10)\n",
    "# df_ps2 = df_ps.tail(50)\n",
    "# type(df_ps2)\n",
    "# df_ps2.npartitions\n",
    "# df_ps2.get_partition(0).shape\n",
    "# df_ps2.head()"
   ]
  },
  {
   "cell_type": "code",
   "execution_count": null,
   "metadata": {},
   "outputs": [],
   "source": [
    "# ss_floorsum = ss_cumsum -ss\n",
    "# st, en = get_dd_subset(df_ps, skiprows = 230454, nrows = 10, ss =ss)\n",
    "# st, en = get_dd_subset(df_ps, skiprows = 230455, nrows = 10, ss =ss)\n",
    "# st, en = get_dd_subset(df_ps, skiprows = 230456, nrows = 10, ss =ss)"
   ]
  },
  {
   "cell_type": "code",
   "execution_count": null,
   "metadata": {
    "lines_to_next_cell": 2
   },
   "outputs": [],
   "source": [
    "df_test.npartitions\n",
    "dd = df_test.map_partitions(len).compute()\n",
    "dd_cumsum = dd.cumsum()\n",
    "dd\n",
    "dd_cumsum"
   ]
  },
  {
   "cell_type": "code",
   "execution_count": null,
   "metadata": {},
   "outputs": [],
   "source": [
    "y_columns\n",
    "\n",
    "X_test, y_test = split_Xy(df_test, y_columns)\n",
    "\n",
    "y_test.columns, y_test.shape\n",
    "X_test.shape, X_test.columns"
   ]
  },
  {
   "cell_type": "code",
   "execution_count": null,
   "metadata": {},
   "outputs": [],
   "source": [
    "d_test = xgb.dask.DaskDMatrix(client, X_test, y_test)"
   ]
  },
  {
   "cell_type": "code",
   "execution_count": null,
   "metadata": {},
   "outputs": [],
   "source": [
    "# df_pr = read_cell_profiles_2(CompoundProfiles2SampleFileCSV, rows = 40, skiprows = None)\n",
    "# df_pr.npartitions\n",
    "# df_pr.get_partition(0).head(2)\n",
    "y_test.compute().shape"
   ]
  },
  {
   "cell_type": "markdown",
   "metadata": {},
   "source": [
    "## Run prediction on test data"
   ]
  },
  {
   "cell_type": "code",
   "execution_count": null,
   "metadata": {},
   "outputs": [],
   "source": [
    "y_pred = xgb.dask.predict(client, model_copy, d_test).compute()"
   ]
  },
  {
   "cell_type": "code",
   "execution_count": null,
   "metadata": {
    "lines_to_next_cell": 2
   },
   "outputs": [],
   "source": [
    "y_test_np = y_test.compute().to_numpy(copy=True).squeeze()\n",
    "type(y_test),type(y_test_np), type(y_pred)"
   ]
  },
  {
   "cell_type": "code",
   "execution_count": null,
   "metadata": {},
   "outputs": [],
   "source": [
    "y_test_np.shape\n",
    "y_pred.shape"
   ]
  },
  {
   "cell_type": "code",
   "execution_count": null,
   "metadata": {
    "lines_to_end_of_cell_marker": 2
   },
   "outputs": [],
   "source": [
    "logging.info(f\"Compute R2 & MSE scores...\")\n",
    "R2_score = skm.r2_score(\n",
    "    y_true = y_test_np,\n",
    "    y_pred = y_pred,\n",
    ")\n",
    "\n",
    "mse_score = skm.mean_squared_error(\n",
    "    y_true = y_test_np,\n",
    "    y_pred = y_pred,\n",
    "    squared=False,\n",
    "    # compute=True,\n",
    ")\n",
    "# logging.info(f\"Compute R2 & MSE scores...Completed\")\n",
    "\n",
    "print(f\"MSE Score : {mse_score:.6f}\")\n",
    "print(f\" R2 Score : {R2_score:.6f}\")"
   ]
  },
  {
   "cell_type": "code",
   "execution_count": null,
   "metadata": {},
   "outputs": [],
   "source": [
    "pearson_corr, pearson_p = sps.pearsonr(y_test_np, y_pred)"
   ]
  },
  {
   "cell_type": "code",
   "execution_count": null,
   "metadata": {},
   "outputs": [],
   "source": [
    "print(pearson_corr, pearson_p)\n",
    "print(f\"  Pearson : {pearson_corr:.6f}      P: {pearson_p:.3e}\")"
   ]
  },
  {
   "cell_type": "code",
   "execution_count": null,
   "metadata": {},
   "outputs": [],
   "source": [
    "spearman_corr, spearman_p = sps.spearmanr(y_test.squeeze(), y_pred)"
   ]
  },
  {
   "cell_type": "code",
   "execution_count": null,
   "metadata": {},
   "outputs": [],
   "source": [
    "print(spearman_corr, spearman_p)\n",
    "print(f\"  Spearman : {spearman_corr:.6f}      P: {spearman_p:.6e}\")"
   ]
  },
  {
   "cell_type": "code",
   "execution_count": null,
   "metadata": {},
   "outputs": [],
   "source": [
    "print(y_test_np.min(), y_test_np.max(), y_test_np.mean())\n",
    "print(y_pred.min(), y_pred.max(), y_pred.mean())"
   ]
  },
  {
   "cell_type": "code",
   "execution_count": null,
   "metadata": {},
   "outputs": [],
   "source": [
    "fig = plt.figure(figsize=(6,6))\n",
    "plt.plot(y_test_np, y_pred, '.')\n",
    "plt.title(f\" Predicted vs. True TPSA - Pearson: {pearson_corr:.5f} / p:{pearson_p:.3e}\")\n",
    "plt.xlabel(\"Y True\");\n",
    "plt.ylabel(\"Y Pred\");\n",
    "# plt.xlim(1.775, 1.875)\n",
    "# plt.xlim(1.775, 1.875)"
   ]
  },
  {
   "cell_type": "code",
   "execution_count": null,
   "metadata": {},
   "outputs": [],
   "source": [
    "import matplotlib.pyplot as plt\n",
    "import numpy as np\n",
    "from matplotlib import colors\n",
    "from matplotlib.ticker import PercentFormatter\n",
    "num_bins = 40\n",
    "# fig, ax = plt.subplots()\n",
    " \n",
    "# the histogram of the data\n",
    "\n",
    "fig = plt.figure(figsize=(10,5))\n",
    "n, bins, patches = plt.hist(y_test_np, num_bins, density=False, label = 'True', range=[1.5,2.25] )\n",
    "# We can set the number of bins with the *bins* keyword argument.\n",
    "n, bins, patches = plt.hist(y_pred, num_bins, density=False, label='Predicitons' )\n",
    "plt.xlabel('TPSA Value')\n",
    "plt.ylabel('Compounds')\n",
    "plt.legend()\n",
    "# ax.set_title('Histogram of normal distribution sample: '\n",
    "#              fr'$\\mu={mu:.0f}$, $\\sigma={sigma:.0f}$')\n",
    "# axs[1].hist(dist2, bins=n_bins)"
   ]
  },
  {
   "cell_type": "markdown",
   "metadata": {
    "heading_collapsed": true,
    "jp-MarkdownHeadingCollapsed": true
   },
   "source": [
    "# Plot feature importance and tree"
   ]
  },
  {
   "cell_type": "markdown",
   "metadata": {},
   "source": [
    "### Plot importance "
   ]
  },
  {
   "cell_type": "code",
   "execution_count": null,
   "metadata": {
    "scrolled": true
   },
   "outputs": [],
   "source": [
    "# train_score = xgb_reg.score(train_X, train_y)\n",
    "# val_score = xgb_reg.score(val_X, val_y)\n",
    "# test_score = xgb_reg.score(test_X, test_y)"
   ]
  },
  {
   "cell_type": "code",
   "execution_count": null,
   "metadata": {},
   "outputs": [],
   "source": [
    "print(f\" R2 score - Training   : {train_score:0.6f}\")\n",
    "print(f\" R2 score - Validation : {val_score:0.6f}\")\n",
    "print(f\" R2 score - Test data  : {test_score:0.6f}\")"
   ]
  },
  {
   "cell_type": "code",
   "execution_count": null,
   "metadata": {},
   "outputs": [],
   "source": [
    "# fig = plt.figure(figsize=(20, 20))\n",
    "# plt.yticks(fontsize = 12)\n",
    "# ax = fig.add_subplot()\n",
    "# ax.set_xlim(10,50)\n",
    "ax = xgb.plot_importance(model_copy, max_num_features= None,  grid = False,  show_values = True, )\n",
    "for label in ( ax.get_xticklabels() + ax.get_yticklabels()):\n",
    "    label.set_fontsize(9)\n",
    "ax.get_yticklabels()\n",
    "# ax.autoscale(enable=None, axis=\"y\", tight=True)"
   ]
  },
  {
   "cell_type": "code",
   "execution_count": null,
   "metadata": {},
   "outputs": [],
   "source": [
    "from graphviz import Source \n",
    "xgb.plot_tree(model_copy,num_tress=5)"
   ]
  },
  {
   "cell_type": "code",
   "execution_count": null,
   "metadata": {},
   "outputs": [],
   "source": [
    "# model_copy.attributes()\n",
    "model_copy.feature_names\n",
    "model_copy."
   ]
  },
  {
   "cell_type": "code",
   "execution_count": null,
   "metadata": {},
   "outputs": [],
   "source": [
    "xgb.get_config()"
   ]
  },
  {
   "cell_type": "markdown",
   "metadata": {},
   "source": []
  },
  {
   "cell_type": "markdown",
   "metadata": {},
   "source": [
    "# XGBoost + Dask - Development "
   ]
  },
  {
   "cell_type": "markdown",
   "metadata": {
    "ExecuteTime": {
     "end_time": "2023-07-31T18:45:01.023214Z",
     "start_time": "2023-07-31T18:45:00.890667Z"
    }
   },
   "source": [
    "- Need to convert Dask data frames to dask arrays in order to use data in parm grid search"
   ]
  },
  {
   "cell_type": "code",
   "execution_count": null,
   "metadata": {},
   "outputs": [],
   "source": [
    "files = os.walk('./output_11102023')\n",
    "\n",
    "for i in files :\n",
    "    print(i)"
   ]
  },
  {
   "cell_type": "markdown",
   "metadata": {},
   "source": [
    "### Read compound profiles"
   ]
  },
  {
   "cell_type": "code",
   "execution_count": null,
   "metadata": {},
   "outputs": [],
   "source": [
    "profileInputFiles = './output_11102023/profiles/compound_profiles_2samples_*.csv'"
   ]
  },
  {
   "cell_type": "code",
   "execution_count": null,
   "metadata": {},
   "outputs": [],
   "source": [
    "# del df_profiles\n",
    "df_profiles = read_cell_profiles(profileInputFiles, rows = 200000)"
   ]
  },
  {
   "cell_type": "code",
   "execution_count": null,
   "metadata": {},
   "outputs": [],
   "source": [
    "type(df_profiles)\n",
    "df_profiles.head(3)\n",
    "df_profiles.shape"
   ]
  },
  {
   "cell_type": "markdown",
   "metadata": {},
   "source": [
    "### Training initialization"
   ]
  },
  {
   "cell_type": "code",
   "execution_count": null,
   "metadata": {},
   "outputs": [],
   "source": [
    " \n",
    "metrics_hist = defaultdict(list)\n",
    "metrics_keys = [\"train_auc\",\"train_logloss\", \"val_auc\", \"val_logloss\", \"roc_auc\", \"logloss\",\n",
    "                \"accuracy\",\"bal_acc\",\"top_k_acc\",\"F1_score\",\"map\",\"pearson_corr\"]\n",
    "\n",
    "# print(study_params)"
   ]
  },
  {
   "cell_type": "code",
   "execution_count": null,
   "metadata": {},
   "outputs": [],
   "source": [
    "study_params = {  \"booster\"            : \"gbtree\",\n",
    "                  \"device\"             : \"gpu\",\n",
    "                  \"objective\"          :  \"binary:logistic\",\n",
    "                  \"eval_metric\"        :  [\"auc\", \"logloss\"]\n",
    "                  \"learning_rate\"      : 0.001,    ## eta\n",
    "                  \"max_depth\"          : 10,\n",
    "                  \"max_leaves\"         : 10,\n",
    "                  \"verbosity\"          : 0,\n",
    "                  \"min_child_weight\"   : 1, \n",
    "                  \"scale_pos_weight\"   : 7.89,\n",
    "                  \"gamma\"              : 0.0001,  ## min split loss \n",
    "               }"
   ]
  },
  {
   "cell_type": "code",
   "execution_count": null,
   "metadata": {},
   "outputs": [],
   "source": [
    "iter_files = make_cv_splits(df_profiles, n_folds=5, y_columns=y_columns)"
   ]
  },
  {
   "cell_type": "code",
   "execution_count": null,
   "metadata": {},
   "outputs": [],
   "source": [
    "xgb.__version__\n",
    "xgb.config_context(device = \"gpu\", booster = \"gbtree\", verbosity = 0, validate_parameters = True ) \n",
    "# xgb.set_config(use_rmm = True, verbosity = 1)\n",
    "# xgb.set_config()\n",
    "# xgb.get_config()"
   ]
  },
  {
   "cell_type": "markdown",
   "metadata": {},
   "source": [
    "### Beginning of loop"
   ]
  },
  {
   "cell_type": "code",
   "execution_count": null,
   "metadata": {},
   "outputs": [],
   "source": [
    "(X_train,y_train), (X_test, y_test) = next(iter_files)"
   ]
  },
  {
   "cell_type": "code",
   "execution_count": null,
   "metadata": {
    "scrolled": true
   },
   "outputs": [],
   "source": [
    "logging.info(f\"Building TRAINING/TEST DMatricies...\")\n",
    "\n",
    "d_train = xgb.dask.DaskDMatrix(client, X_train, y_train )\n",
    "# logging.info(f\"Building TRAINING DMatrix...Completed\")\n",
    "\n",
    "# logging.info(f\"Building TEST DMatrix...\")\n",
    "d_test = xgb.dask.DaskDMatrix(client, X_test, y_test )\n",
    "logging.info(f\"Building TRAINING/TEST DMatricies...Completed\")"
   ]
  },
  {
   "cell_type": "code",
   "execution_count": null,
   "metadata": {},
   "outputs": [],
   "source": [
    "# X_train.shape , X_test.shape, # y_train.shape , y_test.shape\n",
    "booster_model = model['booster'] if model is not None else None"
   ]
  },
  {
   "cell_type": "code",
   "execution_count": null,
   "metadata": {
    "scrolled": true
   },
   "outputs": [],
   "source": [
    "logging.info(f\"Training model...\")\n",
    "model = xgb.dask.train(\n",
    "    None,\n",
    "    {\"verbosity\": 0, \"tree_method\": \"hist\", **study_params},\n",
    "    d_train,\n",
    "    num_boost_round=10000,\n",
    "    evals=[(d_train, \"train\"), (d_test, \"test\")],\n",
    "    xgb_model = booster_model,\n",
    "    verbose_eval=True,\n",
    "    early_stopping_rounds = 50,\n",
    ")\n",
    "logging.info(f\"Training model...Completed\")"
   ]
  },
  {
   "cell_type": "code",
   "execution_count": null,
   "metadata": {},
   "outputs": [],
   "source": [
    "model['booster'].best_iteration, model['booster'].best_score"
   ]
  },
  {
   "cell_type": "code",
   "execution_count": null,
   "metadata": {},
   "outputs": [],
   "source": [
    "logging.info(f\"Running model on test data...\")\n",
    "predictions = xgb.dask.predict(client, model,d_test).compute()\n",
    "logging.info(f\"Running model on test data...Completed\")\n",
    "\n",
    "logging.info(f\"Reshape y_test data...\")\n",
    "y_test_c = y_test.compute().to_numpy().squeeze()\n",
    "logging.info(f\"Reshape y_test data...Complete\")"
   ]
  },
  {
   "cell_type": "code",
   "execution_count": null,
   "metadata": {},
   "outputs": [],
   "source": [
    "print(f\" y_test_c   : {type(y_test_c)} \\t\\t\\t shape: {y_test_c.shape}\")\n",
    "print(f\" Predictions: {type(predictions)} \\t\\t\\t shape: {predictions.shape}\")\n",
    "np.bincount(y_test_c)"
   ]
  },
  {
   "cell_type": "code",
   "execution_count": null,
   "metadata": {},
   "outputs": [],
   "source": [
    "logging.info(f\"Calculating metrics...\")\n",
    "# R2_score = skm.r2_score(y_true = y_test_c, y_pred = predictions)\n",
    "# mse_score = skm.mean_squared_error(y_true = y_test_c, y_pred = predictions, squared=False,)\n",
    "# metrics_keys = [\"train_auc\",\"train_logloss\", \"val_auc\", \"val_logloss\", \"roc_auc\", \"logloss\",\n",
    "#                \"accuracy\",\"bal_acc\",\"top_k_acc\",\"F1_score\",\"map\",\"pearson_corr\"]\n",
    "metrics = compute_classification_metrics(model, y_test_c, predictions)\n",
    "logging.info(f\"Calculating metrics...Completed\")"
   ]
  },
  {
   "cell_type": "code",
   "execution_count": null,
   "metadata": {
    "lines_to_next_cell": 2
   },
   "outputs": [],
   "source": [
    "# print(y_test_c)\n",
    "# print(predictions)\n",
    "print()\n",
    "print(f\"    log_loss :  {metrics['logloss']:9.6f}\")\n",
    "print(f\"    Accuracy :  {metrics['accuracy']:9.6f}\")\n",
    "print(f\" Bal. Accrcy :  {metrics['bal_acc']:9.6f}\")\n",
    "print(f\" Top 3 Score :  {metrics['top_k_acc']:9.6f}\")\n",
    "print(f\"    F1 Score :  {metrics['F1_score']:9.6f}\")\n",
    "print(f\"     Pearson :  {metrics['pearson_corr']:9.6f}          P : {pearson_p:9.4e}\")\n",
    "print()\n",
    "print(f\"   Training AUC :  {metrics['train_auc']:.6f}      Logloss : {metrics['train_logloss']:.6f}\")\n",
    "print(f\" Validation AUC :  {metrics['val_auc']:.6f}      Logloss : {metrics['val_logloss']:.6f}\")\n",
    "print(f\"       Test AUC :  {metrics['roc_auc']:.6f}      Logloss : {metrics['logloss']:.6f}\")"
   ]
  },
  {
   "cell_type": "code",
   "execution_count": null,
   "metadata": {},
   "outputs": [],
   "source": [
    "for key in metrics_keys:\n",
    "    print(f\" {key:20s}:    {metrics_hist[key]}\")"
   ]
  },
  {
   "cell_type": "code",
   "execution_count": null,
   "metadata": {},
   "outputs": [],
   "source": [
    "model['booster'].best_score\n",
    "model['booster'].best_iteration"
   ]
  },
  {
   "cell_type": "markdown",
   "metadata": {},
   "source": [
    "### plot results"
   ]
  },
  {
   "cell_type": "code",
   "execution_count": null,
   "metadata": {
    "scrolled": true
   },
   "outputs": [],
   "source": [
    "### from sklearn.metrics import RocCurveDisplay\n",
    "fig, axes = plt.subplots(1, 3, figsize=(16, 5))\n",
    "\n",
    "\n",
    "roc_display = skm.RocCurveDisplay.from_predictions(\n",
    "    y_test_c,\n",
    "    predictions, \n",
    "    name=f\"Roc Curve\",\n",
    "    color=\"darkorange\",\n",
    "    plot_chance_level=True,\n",
    "    ax = axes[0]\n",
    ")\n",
    "_ = roc_display.ax_.set(\n",
    "    xlabel=\"False Positive Rate\",\n",
    "    ylabel=\"True Positive Rate\",\n",
    "    title=f\"ROC curve - TPSA Classification (XGBoost)\\n LogLoss: {metrics_hist['logloss'][-1]:0.3f}      AUC: {metrics_hist['roc_auc'][-1]:0.3f} \",\n",
    ")\n",
    "_ = roc_display.ax_.legend(fontsize=8);\n",
    "\n",
    "# prec, recall, _ = skm.precision_recall_curve(y_test, predictions, pos_label=1)\n",
    "# pr_display = skm.PrecisionRecallDisplay(precision=prec, recall=recall)\n",
    "pr_display = skm.PrecisionRecallDisplay.from_predictions(\n",
    "    y_test_c, \n",
    "    predictions, \n",
    "    name=\"Precision/Recall - XGBoost\", \n",
    "    plot_chance_level=True,\n",
    "    ax = axes[1]\n",
    ")\n",
    "_ = pr_display.ax_.set_title(\" Precision-Recall curve\");\n",
    "_ = pr_display.ax_.legend(fontsize=8);\n",
    "cm_display = skm.ConfusionMatrixDisplay.from_predictions(y_test_c, (predictions >= 0.5), values_format=\"5d\", ax = axes[2])\n",
    "\n",
    "# fig, (ax1, ax2) = plt.subplots(1, 2, figsize=(15, 8))\n",
    "# roc_display.plot(ax=ax1)\n",
    "# pr_display.plot(ax=ax2)\n",
    "# plt.show()"
   ]
  },
  {
   "cell_type": "code",
   "execution_count": null,
   "metadata": {
    "lines_to_next_cell": 2
   },
   "outputs": [],
   "source": [
    "# del d_train, d_test\n",
    "del model, predictions, pearson_p\n",
    "del d_train, d_test, X_train, y_train, X_test, y_test, y_test_c"
   ]
  },
  {
   "cell_type": "markdown",
   "metadata": {},
   "source": [
    "### End of loop"
   ]
  },
  {
   "cell_type": "code",
   "execution_count": null,
   "metadata": {},
   "outputs": [],
   "source": [
    "print_metric_hist(metrics_hist)"
   ]
  },
  {
   "cell_type": "code",
   "execution_count": null,
   "metadata": {},
   "outputs": [],
   "source": [
    "# type(model)\n",
    "data = { 'mse_scores' : mse_scores_np,\n",
    "         'R2_scores' : R2_scores_np}\n",
    "    \n",
    "with open(trainingMetrics, 'wb') as f: \n",
    "    # Pickle the 'data' dictionary using the highest protocol available.\n",
    "    pickle.dump(data, f, pickle.HIGHEST_PROTOCOL)"
   ]
  },
  {
   "cell_type": "code",
   "execution_count": null,
   "metadata": {},
   "outputs": [],
   "source": [
    "with open(trainingMetrics, 'rb') as f:\n",
    "    # The protocol version used is detected automatically, so we do not\n",
    "    # have to specify it.\n",
    "    data = pickle.load(f)\n",
    "data"
   ]
  }
 ],
 "metadata": {
  "kernelspec": {
   "display_name": "Python [conda env:cp311]",
   "language": "python",
   "name": "conda-env-cp311-py"
  },
  "language_info": {
   "codemirror_mode": {
    "name": "ipython",
    "version": 3
   },
   "file_extension": ".py",
   "mimetype": "text/x-python",
   "name": "python",
   "nbconvert_exporter": "python",
   "pygments_lexer": "ipython3",
   "version": "3.11.4"
  },
  "toc": {
   "base_numbering": 1,
   "nav_menu": {},
   "number_sections": true,
   "sideBar": true,
   "skip_h1_title": false,
   "title_cell": "Table of Contents",
   "title_sidebar": "Contents",
   "toc_cell": false,
   "toc_position": {
    "height": "calc(100% - 180px)",
    "left": "10px",
    "top": "150px",
    "width": "380.631px"
   },
   "toc_section_display": true,
   "toc_window_display": false
  }
 },
 "nbformat": 4,
 "nbformat_minor": 4
}
