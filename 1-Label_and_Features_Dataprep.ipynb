{
 "cells": [
  {
   "cell_type": "markdown",
   "id": "385c1de6-9d2d-4318-a858-52200d2c3668",
   "metadata": {},
   "source": [
    "   # Prepare Labels and Features Datasets\n",
    "\n",
    "  - Get SMILES for all compounds \n",
    "  - Remove rows with NaN / None SMILE values \n",
    "  - get TPSA for remaining compounds\n",
    "  - add Ln(TPSA) and Log(TPSA)\n",
    "  - \n",
    "**Input Files**\n",
    "  -   `/input/compound.csv  OR ./output/cp_compound_metadata.csv`\n",
    "\n",
    "**Intermediate Files**\n",
    "  -   \n",
    "\n",
    "**Output Files**\n",
    "  - `compound_pharmacophores_sparse_clean.pkl`  File of compound pharmacophores in sparse format\n"
   ]
  },
  {
   "cell_type": "markdown",
   "id": "1f92d1d4-1b21-4b2b-acfe-b8f9467b3afe",
   "metadata": {
    "execution": {
     "iopub.execute_input": "2024-01-24T11:14:10.655503Z",
     "iopub.status.busy": "2024-01-24T11:14:10.655065Z",
     "iopub.status.idle": "2024-01-24T11:14:10.659953Z",
     "shell.execute_reply": "2024-01-24T11:14:10.659257Z",
     "shell.execute_reply.started": "2024-01-24T11:14:10.655470Z"
    }
   },
   "source": [
    "# Setup"
   ]
  },
  {
   "cell_type": "code",
   "execution_count": 3,
   "id": "11ad0ae2",
   "metadata": {
    "ExecuteTime": {
     "end_time": "2023-06-28T19:15:10.345654Z",
     "start_time": "2023-06-28T19:15:10.318684Z"
    },
    "execution": {
     "iopub.execute_input": "2024-01-24T11:29:55.612783Z",
     "iopub.status.busy": "2024-01-24T11:29:55.612301Z",
     "iopub.status.idle": "2024-01-24T11:29:55.640134Z",
     "shell.execute_reply": "2024-01-24T11:29:55.639283Z",
     "shell.execute_reply.started": "2024-01-24T11:29:55.612737Z"
    },
    "scrolled": true
   },
   "outputs": [
    {
     "data": {
      "text/html": [
       "<style>.container { width:98% !important; }</style>"
      ],
      "text/plain": [
       "<IPython.core.display.HTML object>"
      ]
     },
     "metadata": {},
     "output_type": "display_data"
    }
   ],
   "source": [
    "from IPython.display import display, HTML\n",
    "display(HTML(\"<style>.container { width:98% !important; }</style>\"))\n",
    "%load_ext autoreload  \n",
    "%autoreload 2\n",
    "from IPython.core.interactiveshell import InteractiveShell\n",
    "InteractiveShell.ast_node_interactivity = \"all\""
   ]
  },
  {
   "cell_type": "code",
   "execution_count": 31,
   "id": "9ba59711",
   "metadata": {
    "ExecuteTime": {
     "end_time": "2023-06-28T19:15:26.066409Z",
     "start_time": "2023-06-28T19:15:26.026113Z"
    },
    "execution": {
     "iopub.execute_input": "2024-01-24T12:00:15.654032Z",
     "iopub.status.busy": "2024-01-24T12:00:15.653530Z",
     "iopub.status.idle": "2024-01-24T12:00:16.087930Z",
     "shell.execute_reply": "2024-01-24T12:00:16.086876Z",
     "shell.execute_reply.started": "2024-01-24T12:00:15.653992Z"
    }
   },
   "outputs": [],
   "source": [
    "import os\n",
    "import sys\n",
    "import argparse\n",
    "import csv\n",
    "import json\n",
    "import time\n",
    "import types, copy, pprint\n",
    "from datetime import datetime\n",
    "import numpy as np\n",
    "import pandas as pd\n",
    "import matplotlib.pyplot as plt\n",
    "from scipy.sparse import csr_matrix\n",
    "from utils import getTPSAFromRDKit, getSmilesFromRDKit\n",
    "\n",
    "pp = pprint.PrettyPrinter(indent=4)\n",
    "np.set_printoptions(edgeitems=3, infstr='inf', linewidth=150, nanstr='nan')\n",
    "pd.options.display.width = 132\n",
    "\n",
    "os.environ[\"WANDB_NOTEBOOK_NAME\"] = \"Adashare_Train.ipynb\"\n",
    "os.environ[\"CUDA_LAUNCH_BLOCKING\"] = \"1\""
   ]
  },
  {
   "cell_type": "code",
   "execution_count": 5,
   "id": "2c2c6895",
   "metadata": {
    "ExecuteTime": {
     "end_time": "2023-06-28T19:15:14.006276Z",
     "start_time": "2023-06-28T19:15:14.006250Z"
    },
    "execution": {
     "iopub.execute_input": "2024-01-24T11:29:57.756907Z",
     "iopub.status.busy": "2024-01-24T11:29:57.756475Z",
     "iopub.status.idle": "2024-01-24T11:29:57.778672Z",
     "shell.execute_reply": "2024-01-24T11:29:57.777765Z",
     "shell.execute_reply.started": "2024-01-24T11:29:57.756873Z"
    }
   },
   "outputs": [],
   "source": [
    "# from chembl_webresource_client.new_client import new_client\n",
    "# from chembl_webresource_client.utils import utils\n",
    "# import pubchempy as pcp"
   ]
  },
  {
   "cell_type": "code",
   "execution_count": 6,
   "id": "268d3171",
   "metadata": {
    "ExecuteTime": {
     "end_time": "2023-06-28T19:15:29.261382Z",
     "start_time": "2023-06-28T19:15:29.227230Z"
    },
    "execution": {
     "iopub.execute_input": "2024-01-24T11:29:57.832541Z",
     "iopub.status.busy": "2024-01-24T11:29:57.832090Z",
     "iopub.status.idle": "2024-01-24T11:29:57.856701Z",
     "shell.execute_reply": "2024-01-24T11:29:57.855638Z",
     "shell.execute_reply.started": "2024-01-24T11:29:57.832507Z"
    }
   },
   "outputs": [],
   "source": [
    "# import rdkit\n",
    "# from rdkit.Chem import inchi\n",
    "# from rdkit.Chem import INCHI_AVAILABLE\n",
    "# from rdkit import Chem\n",
    "# from rdkit.Chem.Draw import IPythonConsole\n",
    "# from rdkit.Chem import Draw\n",
    "# IPythonConsole.ipython_useSVG=True  #< set this to False if you want PNGs instead of SVGs\n",
    "# import rdkit.Avalon.pyAvalonTools as pat\n",
    "# import rdkit.Chem.MolStandardize as rdms\n",
    "# from rdkit.Chem import ChemicalFeatures\n",
    "# from rdkit import RDConfig\n",
    "# from rdkit.Chem import AllChem\n",
    "# from rdkit.Chem.Pharm2D import Generate\n",
    "# from rdkit.Chem.Pharm2D import Gobbi_Pharm2D\n",
    "\n",
    "# if INCHI_AVAILABLE:\n",
    "#   from rdkit.Chem import InchiReadWriteError\n",
    "#   from rdkit.Chem import MolToInchi, MolBlockToInchi, MolFromInchi, InchiToInchiKey, MolToInchiKey, MolFromMolFile, MolToMolFile\n",
    "# else:\n",
    "#     print('INCHI not available')"
   ]
  },
  {
   "cell_type": "code",
   "execution_count": 7,
   "id": "a484c099",
   "metadata": {
    "ExecuteTime": {
     "end_time": "2023-06-28T19:15:49.253880Z",
     "start_time": "2023-06-28T19:15:49.214437Z"
    },
    "execution": {
     "iopub.execute_input": "2024-01-24T11:30:01.704559Z",
     "iopub.status.busy": "2024-01-24T11:30:01.703994Z",
     "iopub.status.idle": "2024-01-24T11:30:01.737967Z",
     "shell.execute_reply": "2024-01-24T11:30:01.736937Z",
     "shell.execute_reply.started": "2024-01-24T11:30:01.704506Z"
    }
   },
   "outputs": [
    {
     "name": "stdout",
     "output_type": "stream",
     "text": [
      " prefix                                   :  \n",
      "\n",
      " compound Metadata Input File             : ./metadata/compound.csv\n",
      " plate Metadata Input File                : ./metadata/plate_new.csv\n",
      " well Metadata Input File                 : ./metadata/well_new.csv\n",
      " \n",
      " compound Metadata Output File            : ./output_11102023/compound_metadata_clean.csv\n",
      "\n",
      " \n",
      " compound Metadata + TPSA File            : ./output_11102023/compound_metadata_tpsa.csv\n",
      " compound Metadata + TPSA Cleaned File    : ./output_11102023/compound_metadata_tpsa_clean.csv\n",
      "\n",
      " \n",
      " compound TPSA File                       : ./output_11102023/compound_TPSA.csv\n",
      " compound TPSA Clean File                 : ./output_11102023/compound_TPSA_clean.csv\n",
      "\n",
      " compound Pharmacophore Sparse File       : ./output_11102023/compound_pharmacophores_sparse.pkl\n",
      " compound Pharmacophore Sparse Clean File : ./output_11102023/compound_pharmacophores_sparse_clean.pkl\n",
      "\n",
      " compound Pharmacophore Dense File        : ./output_11102023/compound_pharmacophores_dense.npy\n",
      " compound Pharmacophore Dense Zipped File : ./output_11102023/compound_pharmacophores_dense.npz\n"
     ]
    }
   ],
   "source": [
    "input_path =\"./metadata/\"\n",
    "output_path =\"./output_11102023/\"\n",
    "prefix = '' ### Target-2' , 'MOA'\n",
    "prefix_lc = prefix.lower().replace('-', '_')\n",
    " \n",
    "# compoundMetadataInputFile   = f\"{input_path}JUMP-{prefix}_compound_library.csv\"\n",
    "\n",
    "compoundMetadataInputFile         = f\"{input_path}{prefix_lc}compound.csv\"\n",
    "plateMetadataInputFile            = f\"{input_path}{prefix_lc}plate_new.csv\"\n",
    "wellMetadataInputFile             = f\"{input_path}{prefix_lc}well_new.csv\"\n",
    "\n",
    "compoundMetadataSmilesFile         = f\"{output_path}{prefix_lc}compound_metadata_smiles.csv\"\n",
    "compoundMetadataSmilesCleanFile    = f\"{output_path}{prefix_lc}compound_metadata_smiles_clean.csv\"\n",
    "\n",
    "compoundMetadataCleanFile          = f\"{output_path}{prefix_lc}compound_metadata_clean.csv\"\n",
    "\n",
    "compoundMetadataTPSAFile           = f\"{output_path}{prefix_lc}compound_metadata_tpsa.csv\"\n",
    "compoundMetadataTPSACleanFile      = f\"{output_path}{prefix_lc}compound_metadata_tpsa_clean.csv\"\n",
    "compoundTPSAFile                   = f\"{output_path}{prefix_lc}compound_TPSA.csv\"\n",
    "compoundTPSACleanFile              = f\"{output_path}{prefix_lc}compound_TPSA_clean.csv\"\n",
    "\n",
    "compoundPharmacophoreFile          = f\"{output_path}{prefix_lc}compound_pharmacophores_sparse.pkl\"\n",
    "compoundPharmacophoreCleanFile     = f\"{output_path}{prefix_lc}compound_pharmacophores_sparse_clean.pkl\"\n",
    "compoundPharmacophoreDenseFile     = f\"{output_path}{prefix_lc}compound_pharmacophores_dense.npy\"\n",
    "compoundPharmacophoreDenseZipFile  = f\"{output_path}{prefix_lc}compound_pharmacophores_dense.npz\"\n",
    "\n",
    "print(f\" prefix                                   : {prefix} \\n\" )\n",
    "print(f\" compound Metadata Input File             : {compoundMetadataInputFile}\")\n",
    "print(f\" plate Metadata Input File                : {plateMetadataInputFile}\")\n",
    "print(f\" well Metadata Input File                 : {wellMetadataInputFile}\")\n",
    "print(f\" \")\n",
    "print(f\" compound Metadata Output File            : {compoundMetadataCleanFile}\\n\")\n",
    "print(f\" \")\n",
    "print(f\" compound Metadata + TPSA File            : {compoundMetadataTPSAFile}\")\n",
    "print(f\" compound Metadata + TPSA Cleaned File    : {compoundMetadataTPSACleanFile}\\n\")\n",
    "print(f\" \")\n",
    "\n",
    "print(f\" compound TPSA File                       : {compoundTPSAFile}\")\n",
    "print(f\" compound TPSA Clean File                 : {compoundTPSACleanFile}\\n\")\n",
    "print(f\" compound Pharmacophore Sparse File       : {compoundPharmacophoreFile}\")\n",
    "print(f\" compound Pharmacophore Sparse Clean File : {compoundPharmacophoreCleanFile}\\n\")\n",
    "print(f\" compound Pharmacophore Dense File        : {compoundPharmacophoreDenseFile}\")\n",
    "print(f\" compound Pharmacophore Dense Zipped File : {compoundPharmacophoreDenseZipFile}\")"
   ]
  },
  {
   "cell_type": "markdown",
   "id": "c332c885",
   "metadata": {
    "jp-MarkdownHeadingCollapsed": true
   },
   "source": [
    "# Get SMILES fingerprints for compounds"
   ]
  },
  {
   "cell_type": "markdown",
   "id": "0d9cfa8e-45c9-44c6-82dd-97321bbdf80f",
   "metadata": {},
   "source": [
    "## Read compound metadata file : `./metadata/compound.csv`"
   ]
  },
  {
   "cell_type": "code",
   "execution_count": 6,
   "id": "a36699a2",
   "metadata": {
    "ExecuteTime": {
     "end_time": "2023-06-28T19:15:52.915736Z",
     "start_time": "2023-06-28T19:15:52.662840Z"
    },
    "execution": {
     "iopub.execute_input": "2023-11-10T20:52:57.896656Z",
     "iopub.status.busy": "2023-11-10T20:52:57.896419Z",
     "iopub.status.idle": "2023-11-10T20:52:58.249937Z",
     "shell.execute_reply": "2023-11-10T20:52:58.248755Z",
     "shell.execute_reply.started": "2023-11-10T20:52:57.896639Z"
    }
   },
   "outputs": [],
   "source": [
    "# df = pd.read_csv('JUMP-MOA_compound_metadata.tsv', delimiter='\\t')\n",
    "# df = pd.read_csv('JUMP-Target-1_compound_metadata.tsv', delimiter='\\t')\n",
    "# df = pd.read_csv(compoundMetadataOutputFile)\n",
    "# df = pd.read_csv(compoundMetadataOutputFile_2)\n",
    "df = pd.read_csv(compoundMetadataInputFile)"
   ]
  },
  {
   "cell_type": "code",
   "execution_count": 7,
   "id": "d3bbd941",
   "metadata": {
    "ExecuteTime": {
     "end_time": "2023-06-28T19:15:57.755835Z",
     "start_time": "2023-06-28T19:15:57.653213Z"
    },
    "execution": {
     "iopub.execute_input": "2023-11-10T20:52:58.494120Z",
     "iopub.status.busy": "2023-11-10T20:52:58.493761Z",
     "iopub.status.idle": "2023-11-10T20:52:58.584591Z",
     "shell.execute_reply": "2023-11-10T20:52:58.583639Z",
     "shell.execute_reply.started": "2023-11-10T20:52:58.494095Z"
    },
    "scrolled": true
   },
   "outputs": [
    {
     "name": "stdout",
     "output_type": "stream",
     "text": [
      "<class 'pandas.core.frame.DataFrame'>\n",
      "RangeIndex: 116753 entries, 0 to 116752\n",
      "Data columns (total 3 columns):\n",
      " #   Column             Non-Null Count   Dtype \n",
      "---  ------             --------------   ----- \n",
      " 0   Metadata_JCP2022   116753 non-null  object\n",
      " 1   Metadata_InChIKey  116752 non-null  object\n",
      " 2   Metadata_InChI     116752 non-null  object\n",
      "dtypes: object(3)\n",
      "memory usage: 2.7+ MB\n",
      "None\n"
     ]
    },
    {
     "data": {
      "text/html": [
       "<div>\n",
       "<style scoped>\n",
       "    .dataframe tbody tr th:only-of-type {\n",
       "        vertical-align: middle;\n",
       "    }\n",
       "\n",
       "    .dataframe tbody tr th {\n",
       "        vertical-align: top;\n",
       "    }\n",
       "\n",
       "    .dataframe thead th {\n",
       "        text-align: right;\n",
       "    }\n",
       "</style>\n",
       "<table border=\"1\" class=\"dataframe\">\n",
       "  <thead>\n",
       "    <tr style=\"text-align: right;\">\n",
       "      <th></th>\n",
       "      <th>Metadata_JCP2022</th>\n",
       "      <th>Metadata_InChIKey</th>\n",
       "      <th>Metadata_InChI</th>\n",
       "    </tr>\n",
       "  </thead>\n",
       "  <tbody>\n",
       "    <tr>\n",
       "      <th>0</th>\n",
       "      <td>JCP2022_000001</td>\n",
       "      <td>AAAHWCWPZPSPIW-UHFFFAOYSA-N</td>\n",
       "      <td>InChI=1S/C25H31N5O2/c1-4-23-26-14-16-30(23)24-...</td>\n",
       "    </tr>\n",
       "    <tr>\n",
       "      <th>1</th>\n",
       "      <td>JCP2022_000002</td>\n",
       "      <td>AAAJHRMBUHXWLD-UHFFFAOYSA-N</td>\n",
       "      <td>InChI=1S/C11H13ClN2O/c12-10-4-2-9(3-5-10)8-14-...</td>\n",
       "    </tr>\n",
       "    <tr>\n",
       "      <th>2</th>\n",
       "      <td>JCP2022_000003</td>\n",
       "      <td>AAALVYBICLMAMA-UHFFFAOYSA-N</td>\n",
       "      <td>InChI=1S/C20H15N3O2/c24-19-15-11-17(21-13-7-3-...</td>\n",
       "    </tr>\n",
       "    <tr>\n",
       "      <th>3</th>\n",
       "      <td>JCP2022_000004</td>\n",
       "      <td>AAANUZMCJQUYNX-UHFFFAOYSA-N</td>\n",
       "      <td>InChI=1S/C13H22N4O2S/c1-2-7-16-13(5-6-15-16)20...</td>\n",
       "    </tr>\n",
       "    <tr>\n",
       "      <th>4</th>\n",
       "      <td>JCP2022_000005</td>\n",
       "      <td>AAAQFGUYHFJNHI-UHFFFAOYSA-N</td>\n",
       "      <td>InChI=1S/C22H22ClN5O2/c1-4-24-20(29)12-18-22-2...</td>\n",
       "    </tr>\n",
       "  </tbody>\n",
       "</table>\n",
       "</div>"
      ],
      "text/plain": [
       "  Metadata_JCP2022            Metadata_InChIKey                                     Metadata_InChI\n",
       "0   JCP2022_000001  AAAHWCWPZPSPIW-UHFFFAOYSA-N  InChI=1S/C25H31N5O2/c1-4-23-26-14-16-30(23)24-...\n",
       "1   JCP2022_000002  AAAJHRMBUHXWLD-UHFFFAOYSA-N  InChI=1S/C11H13ClN2O/c12-10-4-2-9(3-5-10)8-14-...\n",
       "2   JCP2022_000003  AAALVYBICLMAMA-UHFFFAOYSA-N  InChI=1S/C20H15N3O2/c24-19-15-11-17(21-13-7-3-...\n",
       "3   JCP2022_000004  AAANUZMCJQUYNX-UHFFFAOYSA-N  InChI=1S/C13H22N4O2S/c1-2-7-16-13(5-6-15-16)20...\n",
       "4   JCP2022_000005  AAAQFGUYHFJNHI-UHFFFAOYSA-N  InChI=1S/C22H22ClN5O2/c1-4-24-20(29)12-18-22-2..."
      ]
     },
     "execution_count": 7,
     "metadata": {},
     "output_type": "execute_result"
    },
    {
     "data": {
      "text/html": [
       "<div>\n",
       "<style scoped>\n",
       "    .dataframe tbody tr th:only-of-type {\n",
       "        vertical-align: middle;\n",
       "    }\n",
       "\n",
       "    .dataframe tbody tr th {\n",
       "        vertical-align: top;\n",
       "    }\n",
       "\n",
       "    .dataframe thead th {\n",
       "        text-align: right;\n",
       "    }\n",
       "</style>\n",
       "<table border=\"1\" class=\"dataframe\">\n",
       "  <thead>\n",
       "    <tr style=\"text-align: right;\">\n",
       "      <th></th>\n",
       "      <th>Metadata_JCP2022</th>\n",
       "      <th>Metadata_InChIKey</th>\n",
       "      <th>Metadata_InChI</th>\n",
       "    </tr>\n",
       "  </thead>\n",
       "  <tbody>\n",
       "    <tr>\n",
       "      <th>116748</th>\n",
       "      <td>JCP2022_116750</td>\n",
       "      <td>ZZZTXDPKNAOZPM-UHFFFAOYSA-N</td>\n",
       "      <td>InChI=1S/C22H27N3O2/c1-14-18(22(27)24-15(2)23-...</td>\n",
       "    </tr>\n",
       "    <tr>\n",
       "      <th>116749</th>\n",
       "      <td>JCP2022_116751</td>\n",
       "      <td>ZZZUOLMMTJKOGE-UHFFFAOYSA-N</td>\n",
       "      <td>InChI=1S/C19H17N5O2/c1-23-9-6-13-7-10-24(19(26...</td>\n",
       "    </tr>\n",
       "    <tr>\n",
       "      <th>116750</th>\n",
       "      <td>JCP2022_116752</td>\n",
       "      <td>ZZZZIBSVRUABIA-UHFFFAOYSA-N</td>\n",
       "      <td>InChI=1S/C19H13F6N3O2S/c1-11-26-6-5-17(27-11)1...</td>\n",
       "    </tr>\n",
       "    <tr>\n",
       "      <th>116751</th>\n",
       "      <td>JCP2022_116753</td>\n",
       "      <td>ZZZZVNLQWWXZTQ-UHFFFAOYSA-N</td>\n",
       "      <td>InChI=1S/C14H20N2O3/c1-18-13-5-3-2-4-12(13)14(...</td>\n",
       "    </tr>\n",
       "    <tr>\n",
       "      <th>116752</th>\n",
       "      <td>JCP2022_999999</td>\n",
       "      <td>NaN</td>\n",
       "      <td>NaN</td>\n",
       "    </tr>\n",
       "  </tbody>\n",
       "</table>\n",
       "</div>"
      ],
      "text/plain": [
       "       Metadata_JCP2022            Metadata_InChIKey                                     Metadata_InChI\n",
       "116748   JCP2022_116750  ZZZTXDPKNAOZPM-UHFFFAOYSA-N  InChI=1S/C22H27N3O2/c1-14-18(22(27)24-15(2)23-...\n",
       "116749   JCP2022_116751  ZZZUOLMMTJKOGE-UHFFFAOYSA-N  InChI=1S/C19H17N5O2/c1-23-9-6-13-7-10-24(19(26...\n",
       "116750   JCP2022_116752  ZZZZIBSVRUABIA-UHFFFAOYSA-N  InChI=1S/C19H13F6N3O2S/c1-11-26-6-5-17(27-11)1...\n",
       "116751   JCP2022_116753  ZZZZVNLQWWXZTQ-UHFFFAOYSA-N  InChI=1S/C14H20N2O3/c1-18-13-5-3-2-4-12(13)14(...\n",
       "116752   JCP2022_999999                          NaN                                                NaN"
      ]
     },
     "execution_count": 7,
     "metadata": {},
     "output_type": "execute_result"
    }
   ],
   "source": [
    "print(df.info())\n",
    "df.head()\n",
    "df.tail()\n"
   ]
  },
  {
   "cell_type": "code",
   "execution_count": 8,
   "id": "b4b36a13",
   "metadata": {
    "ExecuteTime": {
     "end_time": "2023-06-28T19:16:04.057481Z",
     "start_time": "2023-06-28T19:16:04.000119Z"
    },
    "execution": {
     "iopub.execute_input": "2023-11-10T20:53:00.315139Z",
     "iopub.status.busy": "2023-11-10T20:53:00.314694Z",
     "iopub.status.idle": "2023-11-10T20:53:00.372966Z",
     "shell.execute_reply": "2023-11-10T20:53:00.371940Z",
     "shell.execute_reply.started": "2023-11-10T20:53:00.315112Z"
    }
   },
   "outputs": [
    {
     "data": {
      "text/html": [
       "<div>\n",
       "<style scoped>\n",
       "    .dataframe tbody tr th:only-of-type {\n",
       "        vertical-align: middle;\n",
       "    }\n",
       "\n",
       "    .dataframe tbody tr th {\n",
       "        vertical-align: top;\n",
       "    }\n",
       "\n",
       "    .dataframe thead th {\n",
       "        text-align: right;\n",
       "    }\n",
       "</style>\n",
       "<table border=\"1\" class=\"dataframe\">\n",
       "  <thead>\n",
       "    <tr style=\"text-align: right;\">\n",
       "      <th></th>\n",
       "      <th>Metadata_JCP2022</th>\n",
       "      <th>Metadata_InChIKey</th>\n",
       "      <th>Metadata_InChI</th>\n",
       "    </tr>\n",
       "  </thead>\n",
       "  <tbody>\n",
       "  </tbody>\n",
       "</table>\n",
       "</div>"
      ],
      "text/plain": [
       "Empty DataFrame\n",
       "Columns: [Metadata_JCP2022, Metadata_InChIKey, Metadata_InChI]\n",
       "Index: []"
      ]
     },
     "execution_count": 8,
     "metadata": {},
     "output_type": "execute_result"
    },
    {
     "data": {
      "text/html": [
       "<div>\n",
       "<style scoped>\n",
       "    .dataframe tbody tr th:only-of-type {\n",
       "        vertical-align: middle;\n",
       "    }\n",
       "\n",
       "    .dataframe tbody tr th {\n",
       "        vertical-align: top;\n",
       "    }\n",
       "\n",
       "    .dataframe thead th {\n",
       "        text-align: right;\n",
       "    }\n",
       "</style>\n",
       "<table border=\"1\" class=\"dataframe\">\n",
       "  <thead>\n",
       "    <tr style=\"text-align: right;\">\n",
       "      <th></th>\n",
       "      <th>Metadata_JCP2022</th>\n",
       "      <th>Metadata_InChIKey</th>\n",
       "      <th>Metadata_InChI</th>\n",
       "    </tr>\n",
       "  </thead>\n",
       "  <tbody>\n",
       "    <tr>\n",
       "      <th>116752</th>\n",
       "      <td>JCP2022_999999</td>\n",
       "      <td>NaN</td>\n",
       "      <td>NaN</td>\n",
       "    </tr>\n",
       "  </tbody>\n",
       "</table>\n",
       "</div>"
      ],
      "text/plain": [
       "       Metadata_JCP2022 Metadata_InChIKey Metadata_InChI\n",
       "116752   JCP2022_999999               NaN            NaN"
      ]
     },
     "execution_count": 8,
     "metadata": {},
     "output_type": "execute_result"
    },
    {
     "data": {
      "text/html": [
       "<div>\n",
       "<style scoped>\n",
       "    .dataframe tbody tr th:only-of-type {\n",
       "        vertical-align: middle;\n",
       "    }\n",
       "\n",
       "    .dataframe tbody tr th {\n",
       "        vertical-align: top;\n",
       "    }\n",
       "\n",
       "    .dataframe thead th {\n",
       "        text-align: right;\n",
       "    }\n",
       "</style>\n",
       "<table border=\"1\" class=\"dataframe\">\n",
       "  <thead>\n",
       "    <tr style=\"text-align: right;\">\n",
       "      <th></th>\n",
       "      <th>Metadata_JCP2022</th>\n",
       "      <th>Metadata_InChIKey</th>\n",
       "      <th>Metadata_InChI</th>\n",
       "    </tr>\n",
       "  </thead>\n",
       "  <tbody>\n",
       "    <tr>\n",
       "      <th>116752</th>\n",
       "      <td>JCP2022_999999</td>\n",
       "      <td>NaN</td>\n",
       "      <td>NaN</td>\n",
       "    </tr>\n",
       "  </tbody>\n",
       "</table>\n",
       "</div>"
      ],
      "text/plain": [
       "       Metadata_JCP2022 Metadata_InChIKey Metadata_InChI\n",
       "116752   JCP2022_999999               NaN            NaN"
      ]
     },
     "execution_count": 8,
     "metadata": {},
     "output_type": "execute_result"
    }
   ],
   "source": [
    "df_nans = df[df['Metadata_JCP2022'].isna()]\n",
    "df_nans\n",
    "\n",
    "df_nans = df[df['Metadata_InChIKey'].isna()]\n",
    "df_nans\n",
    " \n",
    "df_nans = df[df['Metadata_InChI'].isna()]\n",
    "df_nans"
   ]
  },
  {
   "cell_type": "markdown",
   "id": "17820271-3a05-4ce8-ae0e-4328f60488e2",
   "metadata": {
    "heading_collapsed": true
   },
   "source": [
    "## Append Smiles to metadata file - `getSmilesFromRDKit`"
   ]
  },
  {
   "cell_type": "code",
   "execution_count": 9,
   "id": "e23ee0b2",
   "metadata": {
    "ExecuteTime": {
     "end_time": "2023-06-28T19:17:39.718214Z",
     "start_time": "2023-06-28T19:16:16.839263Z"
    },
    "execution": {
     "iopub.execute_input": "2023-11-10T20:53:03.536752Z",
     "iopub.status.busy": "2023-11-10T20:53:03.536333Z",
     "iopub.status.idle": "2023-11-10T20:55:03.073036Z",
     "shell.execute_reply": "2023-11-10T20:55:03.071417Z",
     "shell.execute_reply.started": "2023-11-10T20:53:03.536721Z"
    },
    "scrolled": true
   },
   "outputs": [
    {
     "name": "stdout",
     "output_type": "stream",
     "text": [
      " Add smiles column\n",
      " 12:53:03.554154 | 0 rows processed \n",
      " 12:53:03.807067 | 250 rows processed \n",
      " 12:53:04.040241 | 500 rows processed \n",
      " 12:53:04.292466 | 750 rows processed \n",
      " 12:53:04.516936 | 1000 rows processed \n"
     ]
    },
    {
     "name": "stderr",
     "output_type": "stream",
     "text": [
      "[12:53:04] WARNING:  Problems/mismatches: Mobile-H( Hydrogens: Locations or number, Number; Mobile-H groups: One instead of multiple, Attachment points, Number; Charge(s): Do not match)\n",
      "\n"
     ]
    },
    {
     "name": "stdout",
     "output_type": "stream",
     "text": [
      " 12:53:04.739593 | 1250 rows processed \n",
      " 12:53:04.972080 | 1500 rows processed \n",
      " 12:53:05.205707 | 1750 rows processed \n",
      " 12:53:05.436858 | 2000 rows processed \n",
      " 12:53:05.686434 | 2250 rows processed \n",
      " 12:53:05.921202 | 2500 rows processed \n",
      " 12:53:06.156937 | 2750 rows processed \n"
     ]
    },
    {
     "name": "stderr",
     "output_type": "stream",
     "text": [
      "[12:53:06] WARNING:  Problems/mismatches: Mobile-H( Hydrogens: Locations or number, Number; Charge(s): Do not match)\n",
      "\n"
     ]
    },
    {
     "name": "stdout",
     "output_type": "stream",
     "text": [
      " 12:53:06.386925 | 3000 rows processed \n"
     ]
    },
    {
     "name": "stderr",
     "output_type": "stream",
     "text": [
      "[12:53:06] WARNING:  Problems/mismatches: Mobile-H( Mobile-H groups: Attachment points, Number)\n",
      "\n"
     ]
    },
    {
     "name": "stdout",
     "output_type": "stream",
     "text": [
      " 12:53:06.631772 | 3250 rows processed \n",
      " 12:53:06.856382 | 3500 rows processed \n",
      " 12:53:07.136663 | 3750 rows processed \n",
      " 12:53:07.368744 | 4000 rows processed \n",
      " 12:53:07.635274 | 4250 rows processed \n",
      " 12:53:07.880210 | 4500 rows processed \n",
      " 12:53:08.160519 | 4750 rows processed \n",
      " 12:53:08.394432 | 5000 rows processed \n",
      " 12:53:08.702147 | 5250 rows processed \n",
      " 12:53:09.020567 | 5500 rows processed \n",
      " 12:53:09.324590 | 5750 rows processed \n"
     ]
    },
    {
     "name": "stderr",
     "output_type": "stream",
     "text": [
      "[12:53:09] WARNING:  Problems/mismatches: Mobile-H( Hydrogens: Number; Mobile-H groups: One instead of multiple, Attachment points, Number; Charge(s): Do not match)\n",
      "\n"
     ]
    },
    {
     "name": "stdout",
     "output_type": "stream",
     "text": [
      " 12:53:09.626510 | 6000 rows processed \n",
      " 12:53:09.878220 | 6250 rows processed \n",
      " 12:53:10.214699 | 6500 rows processed \n",
      " 12:53:10.432154 | 6750 rows processed \n",
      " 12:53:10.676790 | 7000 rows processed \n",
      " 12:53:10.934864 | 7250 rows processed \n",
      " 12:53:11.170886 | 7500 rows processed \n",
      " 12:53:11.402742 | 7750 rows processed \n",
      " 12:53:11.629853 | 8000 rows processed \n",
      " 12:53:11.930266 | 8250 rows processed \n",
      " 12:53:12.146790 | 8500 rows processed \n",
      " 12:53:12.361628 | 8750 rows processed \n",
      " 12:53:12.732239 | 9000 rows processed \n",
      " 12:53:12.999741 | 9250 rows processed \n",
      " 12:53:13.256611 | 9500 rows processed \n",
      " 12:53:13.516806 | 9750 rows processed \n",
      " 12:53:13.795860 | 10000 rows processed \n",
      " 12:53:14.093932 | 10250 rows processed \n",
      " 12:53:14.355740 | 10500 rows processed \n",
      " 12:53:14.579141 | 10750 rows processed \n",
      " 12:53:14.876389 | 11000 rows processed \n",
      " 12:53:15.119722 | 11250 rows processed \n"
     ]
    },
    {
     "name": "stderr",
     "output_type": "stream",
     "text": [
      "[12:53:15] WARNING:  Problems/mismatches: Mobile-H( Hydrogens: Locations or number, Number; Mobile-H groups: One instead of multiple, Attachment points, Number; Charge(s): Do not match; Proton balance: Does not match)\n",
      "\n"
     ]
    },
    {
     "name": "stdout",
     "output_type": "stream",
     "text": [
      " 12:53:15.370936 | 11500 rows processed \n",
      " 12:53:15.635906 | 11750 rows processed \n",
      " 12:53:15.878807 | 12000 rows processed \n",
      " 12:53:16.155694 | 12250 rows processed \n",
      " 12:53:16.381399 | 12500 rows processed \n"
     ]
    },
    {
     "name": "stderr",
     "output_type": "stream",
     "text": [
      "[12:53:16] WARNING:  Problems/mismatches: Mobile-H( Hydrogens: Number; Mobile-H groups: One instead of multiple, Attachment points, Number; Charge(s): Do not match)\n",
      "\n"
     ]
    },
    {
     "name": "stdout",
     "output_type": "stream",
     "text": [
      " 12:53:16.671655 | 12750 rows processed \n",
      " 12:53:16.908919 | 13000 rows processed \n",
      " 12:53:17.121241 | 13250 rows processed \n",
      " 12:53:17.348015 | 13500 rows processed \n",
      " 12:53:17.560281 | 13750 rows processed \n",
      " 12:53:17.902849 | 14000 rows processed \n",
      " 12:53:18.139689 | 14250 rows processed \n",
      " 12:53:18.369130 | 14500 rows processed \n",
      " 12:53:18.605011 | 14750 rows processed \n",
      " 12:53:18.896270 | 15000 rows processed \n",
      " 12:53:19.175092 | 15250 rows processed \n",
      " 12:53:19.390059 | 15500 rows processed \n",
      " 12:53:19.615917 | 15750 rows processed \n",
      " 12:53:19.948881 | 16000 rows processed \n",
      " 12:53:20.230283 | 16250 rows processed \n",
      " 12:53:20.480728 | 16500 rows processed \n",
      " 12:53:20.755016 | 16750 rows processed \n",
      " 12:53:20.960729 | 17000 rows processed \n",
      " 12:53:21.229669 | 17250 rows processed \n",
      " 12:53:21.486238 | 17500 rows processed \n",
      " 12:53:21.766299 | 17750 rows processed \n",
      " 12:53:22.221665 | 18000 rows processed \n",
      " 12:53:22.441876 | 18250 rows processed \n",
      " 12:53:22.678484 | 18500 rows processed \n",
      " 12:53:22.920393 | 18750 rows processed \n",
      " 12:53:23.155829 | 19000 rows processed \n",
      " 12:53:23.389317 | 19250 rows processed \n",
      " 12:53:23.665382 | 19500 rows processed \n",
      " 12:53:23.912668 | 19750 rows processed \n",
      " 12:53:24.146781 | 20000 rows processed \n",
      " 12:53:24.362823 | 20250 rows processed \n",
      " 12:53:24.589747 | 20500 rows processed \n"
     ]
    },
    {
     "name": "stderr",
     "output_type": "stream",
     "text": [
      "[12:53:24] WARNING:  Problems/mismatches: Mobile-H( Hydrogens: Locations or number; Mobile-H groups: Attachment points, Number)\n",
      "\n"
     ]
    },
    {
     "name": "stdout",
     "output_type": "stream",
     "text": [
      " 12:53:24.852220 | 20750 rows processed \n",
      " 12:53:25.139401 | 21000 rows processed \n",
      " 12:53:25.399736 | 21250 rows processed \n",
      " 12:53:25.643654 | 21500 rows processed \n",
      " 12:53:25.873070 | 21750 rows processed \n",
      " 12:53:26.136660 | 22000 rows processed \n",
      " 12:53:26.368786 | 22250 rows processed \n",
      " 12:53:26.599922 | 22500 rows processed \n",
      " 12:53:26.850449 | 22750 rows processed \n",
      " 12:53:27.129158 | 23000 rows processed \n",
      " 12:53:27.386896 | 23250 rows processed \n",
      " 12:53:27.649731 | 23500 rows processed \n",
      " 12:53:27.866749 | 23750 rows processed \n",
      " 12:53:28.253036 | 24000 rows processed \n",
      " 12:53:28.489577 | 24250 rows processed \n"
     ]
    },
    {
     "name": "stderr",
     "output_type": "stream",
     "text": [
      "[12:53:28] WARNING:  Problems/mismatches: Mobile-H( Hydrogens: Locations or number, Number; Mobile-H groups: One instead of multiple, Attachment points, Number; Charge(s): Do not match)\n",
      "\n"
     ]
    },
    {
     "name": "stdout",
     "output_type": "stream",
     "text": [
      " 12:53:28.733014 | 24500 rows processed \n",
      " 12:53:28.959271 | 24750 rows processed \n",
      " 12:53:29.244037 | 25000 rows processed \n",
      " 12:53:29.480035 | 25250 rows processed \n",
      " 12:53:29.796262 | 25500 rows processed \n",
      " 12:53:30.094312 | 25750 rows processed \n",
      " 12:53:30.316774 | 26000 rows processed \n",
      " 12:53:30.560852 | 26250 rows processed \n",
      " 12:53:30.790682 | 26500 rows processed \n",
      " 12:53:31.024036 | 26750 rows processed \n",
      " 12:53:31.301362 | 27000 rows processed \n",
      " 12:53:31.573115 | 27250 rows processed \n",
      " 12:53:31.846004 | 27500 rows processed \n",
      " 12:53:32.213809 | 27750 rows processed \n",
      " 12:53:32.453714 | 28000 rows processed \n",
      " 12:53:32.683388 | 28250 rows processed \n",
      " 12:53:32.909342 | 28500 rows processed \n",
      " 12:53:33.176742 | 28750 rows processed \n"
     ]
    },
    {
     "name": "stderr",
     "output_type": "stream",
     "text": [
      "[12:53:33] WARNING:  Problems/mismatches: Mobile-H( Mobile-H groups: Attachment points, Number)\n",
      "\n"
     ]
    },
    {
     "name": "stdout",
     "output_type": "stream",
     "text": [
      " 12:53:33.417213 | 29000 rows processed \n",
      " 12:53:33.684607 | 29250 rows processed \n",
      " 12:53:33.943669 | 29500 rows processed \n",
      " 12:53:34.271978 | 29750 rows processed \n",
      " 12:53:34.505140 | 30000 rows processed \n",
      " 12:53:34.766106 | 30250 rows processed \n"
     ]
    },
    {
     "name": "stderr",
     "output_type": "stream",
     "text": [
      "[12:53:34] WARNING:  Problems/mismatches: Mobile-H( Hydrogens: Locations or number, Number; Mobile-H groups: One instead of multiple, Attachment points, Number; Charge(s): Do not match; Proton balance: Does not match)\n",
      "\n"
     ]
    },
    {
     "name": "stdout",
     "output_type": "stream",
     "text": [
      " 12:53:34.990275 | 30500 rows processed \n"
     ]
    },
    {
     "name": "stderr",
     "output_type": "stream",
     "text": [
      "[12:53:35] WARNING:  Problems/mismatches: Mobile-H( Hydrogens: Locations or number; Mobile-H groups: Attachment points, Number)\n",
      "\n"
     ]
    },
    {
     "name": "stdout",
     "output_type": "stream",
     "text": [
      " 12:53:35.242541 | 30750 rows processed \n",
      " 12:53:35.453347 | 31000 rows processed \n",
      " 12:53:35.728126 | 31250 rows processed \n",
      " 12:53:36.008817 | 31500 rows processed \n",
      " 12:53:36.226796 | 31750 rows processed \n",
      " 12:53:36.451889 | 32000 rows processed \n",
      " 12:53:36.706473 | 32250 rows processed \n",
      " 12:53:37.056459 | 32500 rows processed \n",
      " 12:53:37.328346 | 32750 rows processed \n",
      " 12:53:37.590425 | 33000 rows processed \n",
      " 12:53:37.869233 | 33250 rows processed \n",
      " 12:53:38.130988 | 33500 rows processed \n",
      " 12:53:38.360592 | 33750 rows processed \n",
      " 12:53:38.580571 | 34000 rows processed \n",
      " 12:53:38.857304 | 34250 rows processed \n",
      " 12:53:39.099513 | 34500 rows processed \n",
      " 12:53:39.328598 | 34750 rows processed \n",
      " 12:53:39.594621 | 35000 rows processed \n"
     ]
    },
    {
     "name": "stderr",
     "output_type": "stream",
     "text": [
      "[12:53:39] WARNING:  Problems/mismatches: Mobile-H( Mobile-H groups: Attachment points, Number)\n",
      "\n"
     ]
    },
    {
     "name": "stdout",
     "output_type": "stream",
     "text": [
      " 12:53:39.826955 | 35250 rows processed \n",
      " 12:53:40.123479 | 35500 rows processed \n",
      " 12:53:40.354762 | 35750 rows processed \n",
      " 12:53:40.565898 | 36000 rows processed \n",
      " 12:53:40.826807 | 36250 rows processed \n",
      " 12:53:41.065817 | 36500 rows processed \n",
      " 12:53:41.319746 | 36750 rows processed \n",
      " 12:53:41.581593 | 37000 rows processed \n",
      " 12:53:41.835548 | 37250 rows processed \n",
      " 12:53:42.087424 | 37500 rows processed \n",
      " 12:53:42.298712 | 37750 rows processed \n",
      " 12:53:42.550725 | 38000 rows processed \n",
      " 12:53:42.855763 | 38250 rows processed \n",
      " 12:53:43.089970 | 38500 rows processed \n",
      " 12:53:43.334903 | 38750 rows processed \n",
      " 12:53:43.674600 | 39000 rows processed \n",
      " 12:53:43.962939 | 39250 rows processed \n",
      " 12:53:44.230943 | 39500 rows processed \n",
      " 12:53:44.470211 | 39750 rows processed \n",
      " 12:53:44.734977 | 40000 rows processed \n"
     ]
    },
    {
     "name": "stderr",
     "output_type": "stream",
     "text": [
      "[12:53:44] WARNING:  Problems/mismatches: Mobile-H( Mobile-H groups: One instead of multiple, Attachment points, Number)\n",
      "\n"
     ]
    },
    {
     "name": "stdout",
     "output_type": "stream",
     "text": [
      " 12:53:45.146949 | 40250 rows processed \n",
      " 12:53:45.370283 | 40500 rows processed \n",
      " 12:53:45.604930 | 40750 rows processed \n"
     ]
    },
    {
     "name": "stderr",
     "output_type": "stream",
     "text": [
      "[12:53:45] WARNING:  Problems/mismatches: Mobile-H( Mobile-H groups: Attachment points, Number)\n",
      "\n",
      "[12:53:45] WARNING:  Problems/mismatches: Mobile-H( Hydrogens: Number; Mobile-H groups: One instead of multiple, Attachment points, Number; Charge(s): Do not match)\n",
      "\n"
     ]
    },
    {
     "name": "stdout",
     "output_type": "stream",
     "text": [
      " 12:53:45.851083 | 41000 rows processed \n",
      " 12:53:46.103268 | 41250 rows processed \n"
     ]
    },
    {
     "name": "stderr",
     "output_type": "stream",
     "text": [
      "[12:53:46] Unusual charge on atom 3 number of radical electrons set to zero\n"
     ]
    },
    {
     "name": "stdout",
     "output_type": "stream",
     "text": [
      " 12:53:46.367544 | 41500 rows processed \n",
      " 12:53:46.600938 | 41750 rows processed \n"
     ]
    },
    {
     "name": "stderr",
     "output_type": "stream",
     "text": [
      "[12:53:46] WARNING:  Problems/mismatches: Mobile-H( Hydrogens: Locations or number, Number; Mobile-H groups: One instead of multiple, Attachment points, Number; Charge(s): Do not match)\n",
      "\n"
     ]
    },
    {
     "name": "stdout",
     "output_type": "stream",
     "text": [
      " 12:53:46.876738 | 42000 rows processed \n",
      " 12:53:47.149809 | 42250 rows processed \n",
      " 12:53:47.403305 | 42500 rows processed \n",
      " 12:53:47.675292 | 42750 rows processed \n",
      " 12:53:47.990318 | 43000 rows processed \n",
      " 12:53:48.224205 | 43250 rows processed \n",
      " 12:53:48.458023 | 43500 rows processed \n",
      " 12:53:48.686909 | 43750 rows processed \n",
      " 12:53:48.952775 | 44000 rows processed \n",
      " 12:53:49.162331 | 44250 rows processed \n",
      " 12:53:49.379489 | 44500 rows processed \n",
      " 12:53:49.633092 | 44750 rows processed \n",
      " 12:53:49.863862 | 45000 rows processed \n",
      " 12:53:50.123177 | 45250 rows processed \n",
      " 12:53:50.369126 | 45500 rows processed \n",
      " 12:53:50.585694 | 45750 rows processed \n",
      " 12:53:50.811404 | 46000 rows processed \n",
      " 12:53:51.071434 | 46250 rows processed \n",
      " 12:53:51.329219 | 46500 rows processed \n",
      " 12:53:51.556482 | 46750 rows processed \n"
     ]
    },
    {
     "name": "stderr",
     "output_type": "stream",
     "text": [
      "[12:53:51] WARNING:  Problems/mismatches: Mobile-H( Hydrogens: Locations or number, Number; Mobile-H groups: Attachment points, Number; Charge(s): Do not match)\n",
      "\n"
     ]
    },
    {
     "name": "stdout",
     "output_type": "stream",
     "text": [
      " 12:53:51.779470 | 47000 rows processed \n",
      " 12:53:52.031972 | 47250 rows processed \n",
      " 12:53:52.248201 | 47500 rows processed \n",
      " 12:53:52.489680 | 47750 rows processed \n",
      " 12:53:52.757568 | 48000 rows processed \n",
      " 12:53:52.991963 | 48250 rows processed \n",
      " 12:53:53.226311 | 48500 rows processed \n",
      " 12:53:53.434869 | 48750 rows processed \n",
      " 12:53:53.666509 | 49000 rows processed \n",
      " 12:53:53.950467 | 49250 rows processed \n",
      " 12:53:54.184101 | 49500 rows processed \n",
      " 12:53:54.405383 | 49750 rows processed \n",
      " 12:53:54.631038 | 50000 rows processed \n",
      " 12:53:54.900630 | 50250 rows processed \n",
      " 12:53:55.160359 | 50500 rows processed \n",
      " 12:53:55.395531 | 50750 rows processed \n",
      " 12:53:55.630317 | 51000 rows processed \n",
      " 12:53:55.895625 | 51250 rows processed \n",
      " 12:53:56.241989 | 51500 rows processed \n",
      " 12:53:56.483737 | 51750 rows processed \n",
      " 12:53:56.742519 | 52000 rows processed \n",
      " 12:53:57.099723 | 52250 rows processed \n",
      " 12:53:57.340470 | 52500 rows processed \n",
      " 12:53:57.582317 | 52750 rows processed \n",
      " 12:53:57.823380 | 53000 rows processed \n",
      " 12:53:58.041558 | 53250 rows processed \n",
      " 12:53:58.289426 | 53500 rows processed \n",
      " 12:53:58.586718 | 53750 rows processed \n",
      " 12:53:58.820210 | 54000 rows processed \n",
      " 12:53:59.054886 | 54250 rows processed \n",
      " 12:53:59.315252 | 54500 rows processed \n",
      " 12:53:59.554523 | 54750 rows processed \n",
      " 12:53:59.818477 | 55000 rows processed \n",
      " 12:54:00.064962 | 55250 rows processed \n",
      " 12:54:00.290685 | 55500 rows processed \n",
      " 12:54:00.540138 | 55750 rows processed \n",
      " 12:54:00.845658 | 56000 rows processed \n",
      " 12:54:01.156503 | 56250 rows processed \n",
      " 12:54:01.388560 | 56500 rows processed \n",
      " 12:54:01.641530 | 56750 rows processed \n"
     ]
    },
    {
     "name": "stderr",
     "output_type": "stream",
     "text": [
      "[12:54:01] WARNING:  Problems/mismatches: Mobile-H( Hydrogens: Locations or number, Number; Mobile-H groups: One instead of multiple, Attachment points, Number; Charge(s): Do not match)\n",
      "\n"
     ]
    },
    {
     "name": "stdout",
     "output_type": "stream",
     "text": [
      " 12:54:01.920160 | 57000 rows processed \n",
      " 12:54:02.227980 | 57250 rows processed \n",
      " 12:54:02.470569 | 57500 rows processed \n",
      " 12:54:02.704693 | 57750 rows processed \n",
      " 12:54:02.944377 | 58000 rows processed \n",
      " 12:54:03.248597 | 58250 rows processed \n",
      " 12:54:03.474932 | 58500 rows processed \n",
      " 12:54:03.732616 | 58750 rows processed \n",
      " 12:54:03.980505 | 59000 rows processed \n",
      " 12:54:04.248967 | 59250 rows processed \n",
      " 12:54:04.466328 | 59500 rows processed \n",
      " 12:54:04.737338 | 59750 rows processed \n",
      " 12:54:04.972198 | 60000 rows processed \n",
      " 12:54:05.216779 | 60250 rows processed \n",
      " 12:54:05.437674 | 60500 rows processed \n",
      " 12:54:05.747034 | 60750 rows processed \n",
      " 12:54:06.067775 | 61000 rows processed \n",
      " 12:54:06.308450 | 61250 rows processed \n",
      " 12:54:06.539005 | 61500 rows processed \n",
      " 12:54:06.829296 | 61750 rows processed \n",
      " 12:54:07.062197 | 62000 rows processed \n",
      " 12:54:07.314560 | 62250 rows processed \n",
      " 12:54:07.558225 | 62500 rows processed \n",
      " 12:54:07.850416 | 62750 rows processed \n",
      " 12:54:08.085702 | 63000 rows processed \n",
      " 12:54:08.302712 | 63250 rows processed \n",
      " 12:54:08.544119 | 63500 rows processed \n",
      " 12:54:08.779976 | 63750 rows processed \n",
      " 12:54:09.023405 | 64000 rows processed \n",
      " 12:54:09.276668 | 64250 rows processed \n",
      " 12:54:09.514296 | 64500 rows processed \n",
      " 12:54:09.741392 | 64750 rows processed \n",
      " 12:54:09.976306 | 65000 rows processed \n",
      " 12:54:10.303181 | 65250 rows processed \n",
      " 12:54:10.550140 | 65500 rows processed \n"
     ]
    },
    {
     "name": "stderr",
     "output_type": "stream",
     "text": [
      "[12:54:10] Explicit valence for atom # 10 N, 4, is greater than permitted\n",
      "[12:54:10] ERROR: Explicit valence for atom # 10 N, 4, is greater than permitted\n",
      "\n"
     ]
    },
    {
     "name": "stdout",
     "output_type": "stream",
     "text": [
      " ctr: 65739 index: JCP2022_065740   InChIKey: ORYDPOVDJJZGHQ-UHFFFAOYSA-N \t No MOL returned for inchi from RDKit - continue\n",
      " 12:54:10.818677 | 65750 rows processed \n",
      " 12:54:11.042937 | 66000 rows processed \n",
      " 12:54:11.316266 | 66250 rows processed \n",
      " 12:54:11.545594 | 66500 rows processed \n",
      " 12:54:11.809636 | 66750 rows processed \n",
      " 12:54:12.093798 | 67000 rows processed \n",
      " 12:54:12.326607 | 67250 rows processed \n",
      " 12:54:12.541273 | 67500 rows processed \n",
      " 12:54:12.883160 | 67750 rows processed \n",
      " 12:54:13.166244 | 68000 rows processed \n",
      " 12:54:13.384372 | 68250 rows processed \n",
      " 12:54:13.616859 | 68500 rows processed \n",
      " 12:54:13.903690 | 68750 rows processed \n",
      " 12:54:14.161794 | 69000 rows processed \n",
      " 12:54:14.399575 | 69250 rows processed \n",
      " 12:54:14.633606 | 69500 rows processed \n",
      " 12:54:14.916586 | 69750 rows processed \n",
      " 12:54:15.137356 | 70000 rows processed \n",
      " 12:54:15.380891 | 70250 rows processed \n",
      " 12:54:15.619373 | 70500 rows processed \n",
      " 12:54:15.869266 | 70750 rows processed \n",
      " 12:54:16.192800 | 71000 rows processed \n",
      " 12:54:16.412333 | 71250 rows processed \n",
      " 12:54:16.634320 | 71500 rows processed \n",
      " 12:54:16.867099 | 71750 rows processed \n",
      " 12:54:17.139040 | 72000 rows processed \n",
      " 12:54:17.371853 | 72250 rows processed \n",
      " 12:54:17.598755 | 72500 rows processed \n",
      " 12:54:17.849237 | 72750 rows processed \n",
      " 12:54:18.089148 | 73000 rows processed \n",
      " 12:54:18.314460 | 73250 rows processed \n",
      " 12:54:18.521535 | 73500 rows processed \n",
      " 12:54:18.827971 | 73750 rows processed \n",
      " 12:54:19.046185 | 74000 rows processed \n",
      " 12:54:19.292617 | 74250 rows processed \n",
      " 12:54:19.524251 | 74500 rows processed \n",
      " 12:54:19.777505 | 74750 rows processed \n",
      " 12:54:20.029670 | 75000 rows processed \n",
      " 12:54:20.264343 | 75250 rows processed \n"
     ]
    },
    {
     "name": "stderr",
     "output_type": "stream",
     "text": [
      "[12:54:20] WARNING:  Problems/mismatches: Mobile-H( Hydrogens: Locations or number, Number; Mobile-H groups: One instead of multiple, Attachment points, Number; Charge(s): Do not match)\n",
      "\n"
     ]
    },
    {
     "name": "stdout",
     "output_type": "stream",
     "text": [
      " 12:54:20.527175 | 75500 rows processed \n",
      " 12:54:20.781179 | 75750 rows processed \n",
      " 12:54:20.995513 | 76000 rows processed \n",
      " 12:54:21.252134 | 76250 rows processed \n"
     ]
    },
    {
     "name": "stderr",
     "output_type": "stream",
     "text": [
      "[12:54:21] WARNING:  Problems/mismatches: Mobile-H( Hydrogens: Locations or number, Number; Mobile-H groups: One instead of multiple, Attachment points, Number; Charge(s): Do not match; Proton balance: Does not match)\n",
      "\n"
     ]
    },
    {
     "name": "stdout",
     "output_type": "stream",
     "text": [
      " 12:54:21.479073 | 76500 rows processed \n"
     ]
    },
    {
     "name": "stderr",
     "output_type": "stream",
     "text": [
      "[12:54:21] WARNING:  Problems/mismatches: Mobile-H( Hydrogens: Number; Mobile-H groups: One instead of multiple, Attachment points, Number; Charge(s): Do not match)\n",
      "\n"
     ]
    },
    {
     "name": "stdout",
     "output_type": "stream",
     "text": [
      " 12:54:21.713832 | 76750 rows processed \n",
      " 12:54:22.003389 | 77000 rows processed \n",
      " 12:54:22.288169 | 77250 rows processed \n",
      " 12:54:22.495139 | 77500 rows processed \n",
      " 12:54:22.748365 | 77750 rows processed \n",
      " 12:54:23.000349 | 78000 rows processed \n",
      " 12:54:23.264190 | 78250 rows processed \n",
      " 12:54:23.497942 | 78500 rows processed \n",
      " 12:54:23.808348 | 78750 rows processed \n",
      " 12:54:24.082641 | 79000 rows processed \n",
      " 12:54:24.333171 | 79250 rows processed \n",
      " 12:54:24.637445 | 79500 rows processed \n",
      " 12:54:24.898611 | 79750 rows processed \n",
      " 12:54:25.131962 | 80000 rows processed \n"
     ]
    },
    {
     "name": "stderr",
     "output_type": "stream",
     "text": [
      "[12:54:25] WARNING:  Problems/mismatches: Mobile-H( Hydrogens: Number; Mobile-H groups: Number; Charge(s): Do not match)\n",
      "\n"
     ]
    },
    {
     "name": "stdout",
     "output_type": "stream",
     "text": [
      " 12:54:25.361185 | 80250 rows processed \n",
      " 12:54:25.660663 | 80500 rows processed \n"
     ]
    },
    {
     "name": "stderr",
     "output_type": "stream",
     "text": [
      "[12:54:25] WARNING:  Problems/mismatches: Mobile-H( Hydrogens: Locations or number; Mobile-H groups: Missing, Attachment points)\n",
      "\n"
     ]
    },
    {
     "name": "stdout",
     "output_type": "stream",
     "text": [
      " 12:54:25.937581 | 80750 rows processed \n",
      " 12:54:26.232606 | 81000 rows processed \n",
      " 12:54:26.477311 | 81250 rows processed \n",
      " 12:54:26.760913 | 81500 rows processed \n",
      " 12:54:27.119386 | 81750 rows processed \n",
      " 12:54:27.357631 | 82000 rows processed \n",
      " 12:54:27.605627 | 82250 rows processed \n"
     ]
    },
    {
     "name": "stderr",
     "output_type": "stream",
     "text": [
      "[12:54:27] WARNING:  Problems/mismatches: Mobile-H( Hydrogens: Locations or number; Mobile-H groups: One instead of multiple, Attachment points, Number)\n",
      "\n"
     ]
    },
    {
     "name": "stdout",
     "output_type": "stream",
     "text": [
      " 12:54:27.866818 | 82500 rows processed \n",
      " 12:54:28.134695 | 82750 rows processed \n",
      " 12:54:28.382061 | 83000 rows processed \n",
      " 12:54:28.669262 | 83250 rows processed \n",
      " 12:54:28.905069 | 83500 rows processed \n",
      " 12:54:29.179054 | 83750 rows processed \n",
      " 12:54:29.393310 | 84000 rows processed \n",
      " 12:54:29.630666 | 84250 rows processed \n",
      " 12:54:29.928634 | 84500 rows processed \n",
      " 12:54:30.168429 | 84750 rows processed \n",
      " 12:54:30.398799 | 85000 rows processed \n",
      " 12:54:30.682353 | 85250 rows processed \n",
      " 12:54:31.005663 | 85500 rows processed \n",
      " 12:54:31.258086 | 85750 rows processed \n",
      " 12:54:31.502813 | 86000 rows processed \n",
      " 12:54:31.780269 | 86250 rows processed \n",
      " 12:54:32.021917 | 86500 rows processed \n",
      " 12:54:32.310774 | 86750 rows processed \n",
      " 12:54:32.535117 | 87000 rows processed \n",
      " 12:54:32.802044 | 87250 rows processed \n",
      " 12:54:33.041355 | 87500 rows processed \n",
      " 12:54:33.281371 | 87750 rows processed \n",
      " 12:54:33.510411 | 88000 rows processed \n",
      " 12:54:33.746467 | 88250 rows processed \n",
      " 12:54:34.002838 | 88500 rows processed \n",
      " 12:54:34.267792 | 88750 rows processed \n",
      " 12:54:34.504274 | 89000 rows processed \n",
      " 12:54:34.784889 | 89250 rows processed \n",
      " 12:54:35.047438 | 89500 rows processed \n",
      " 12:54:35.295658 | 89750 rows processed \n",
      " 12:54:35.523792 | 90000 rows processed \n",
      " 12:54:35.760298 | 90250 rows processed \n",
      " 12:54:36.009413 | 90500 rows processed \n",
      " 12:54:36.240644 | 90750 rows processed \n",
      " 12:54:36.468873 | 91000 rows processed \n",
      " 12:54:36.822514 | 91250 rows processed \n",
      " 12:54:37.141135 | 91500 rows processed \n",
      " 12:54:37.361277 | 91750 rows processed \n",
      " 12:54:37.580735 | 92000 rows processed \n",
      " 12:54:37.853344 | 92250 rows processed \n",
      " 12:54:38.230622 | 92500 rows processed \n",
      " 12:54:38.441764 | 92750 rows processed \n",
      " 12:54:38.665091 | 93000 rows processed \n",
      " 12:54:38.928505 | 93250 rows processed \n",
      " 12:54:39.213900 | 93500 rows processed \n",
      " 12:54:39.455660 | 93750 rows processed \n",
      " 12:54:39.710400 | 94000 rows processed \n",
      " 12:54:39.996458 | 94250 rows processed \n",
      " 12:54:40.238841 | 94500 rows processed \n",
      " 12:54:40.464312 | 94750 rows processed \n",
      " 12:54:40.695107 | 95000 rows processed \n",
      " 12:54:40.942810 | 95250 rows processed \n",
      " 12:54:41.190807 | 95500 rows processed \n",
      " 12:54:41.418251 | 95750 rows processed \n",
      " 12:54:41.689813 | 96000 rows processed \n",
      " 12:54:41.936517 | 96250 rows processed \n",
      " 12:54:42.153270 | 96500 rows processed \n",
      " 12:54:42.373410 | 96750 rows processed \n"
     ]
    },
    {
     "name": "stderr",
     "output_type": "stream",
     "text": [
      "[12:54:42] WARNING:  Problems/mismatches: Mobile-H( Mobile-H groups: Multiple instead of one, Number)\n",
      "\n"
     ]
    },
    {
     "name": "stdout",
     "output_type": "stream",
     "text": [
      " 12:54:42.660387 | 97000 rows processed \n"
     ]
    },
    {
     "name": "stderr",
     "output_type": "stream",
     "text": [
      "[12:54:42] WARNING:  Problems/mismatches: Mobile-H( Mobile-H groups: Attachment points, Number)\n",
      "\n"
     ]
    },
    {
     "name": "stdout",
     "output_type": "stream",
     "text": [
      " 12:54:42.926691 | 97250 rows processed \n",
      " 12:54:43.181960 | 97500 rows processed \n",
      " 12:54:43.396849 | 97750 rows processed \n",
      " 12:54:43.658438 | 98000 rows processed \n",
      " 12:54:43.963352 | 98250 rows processed \n",
      " 12:54:44.215862 | 98500 rows processed \n",
      " 12:54:44.445130 | 98750 rows processed \n",
      " 12:54:44.710476 | 99000 rows processed \n",
      " 12:54:44.925764 | 99250 rows processed \n"
     ]
    },
    {
     "name": "stderr",
     "output_type": "stream",
     "text": [
      "[12:54:44] WARNING:  Problems/mismatches: Mobile-H( Hydrogens: Number; Mobile-H groups: Missing, Attachment points; Charge(s): Do not match; Proton balance: Does not match)\n",
      "\n"
     ]
    },
    {
     "name": "stdout",
     "output_type": "stream",
     "text": [
      " 12:54:45.172225 | 99500 rows processed \n",
      " 12:54:45.411268 | 99750 rows processed \n",
      " 12:54:45.651811 | 100000 rows processed \n",
      " 12:54:45.880450 | 100250 rows processed \n",
      " 12:54:46.115885 | 100500 rows processed \n",
      " 12:54:46.342637 | 100750 rows processed \n",
      " 12:54:46.606128 | 101000 rows processed \n",
      " 12:54:46.856561 | 101250 rows processed \n",
      " 12:54:47.125563 | 101500 rows processed \n",
      " 12:54:47.383368 | 101750 rows processed \n",
      " 12:54:47.719622 | 102000 rows processed \n",
      " 12:54:47.963984 | 102250 rows processed \n",
      " 12:54:48.184922 | 102500 rows processed \n",
      " 12:54:48.404199 | 102750 rows processed \n",
      " 12:54:48.713521 | 103000 rows processed \n",
      " 12:54:48.975355 | 103250 rows processed \n",
      " 12:54:49.212851 | 103500 rows processed \n",
      " 12:54:49.437961 | 103750 rows processed \n",
      " 12:54:49.715941 | 104000 rows processed \n",
      " 12:54:49.944585 | 104250 rows processed \n",
      " 12:54:50.192909 | 104500 rows processed \n",
      " 12:54:50.439241 | 104750 rows processed \n",
      " 12:54:50.679142 | 105000 rows processed \n",
      " 12:54:50.908296 | 105250 rows processed \n",
      " 12:54:51.214900 | 105500 rows processed \n"
     ]
    },
    {
     "name": "stderr",
     "output_type": "stream",
     "text": [
      "[12:54:51] WARNING:  Problems/mismatches: Mobile-H( Mobile-H groups: Attachment points, Number)\n",
      "\n"
     ]
    },
    {
     "name": "stdout",
     "output_type": "stream",
     "text": [
      " 12:54:51.451552 | 105750 rows processed \n",
      " 12:54:51.705926 | 106000 rows processed \n",
      " 12:54:51.943315 | 106250 rows processed \n"
     ]
    },
    {
     "name": "stderr",
     "output_type": "stream",
     "text": [
      "[12:54:52] WARNING:  Problems/mismatches: Mobile-H( Hydrogens: Number; Mobile-H groups: One instead of multiple, Number; Charge(s): Do not match; Proton balance: Does not match)\n",
      "\n"
     ]
    },
    {
     "name": "stdout",
     "output_type": "stream",
     "text": [
      " 12:54:52.183354 | 106500 rows processed \n",
      " 12:54:52.423615 | 106750 rows processed \n",
      " 12:54:52.669204 | 107000 rows processed \n",
      " 12:54:52.903890 | 107250 rows processed \n",
      " 12:54:53.225214 | 107500 rows processed \n",
      " 12:54:53.447630 | 107750 rows processed \n",
      " 12:54:53.706548 | 108000 rows processed \n",
      " 12:54:53.973374 | 108250 rows processed \n",
      " 12:54:54.209050 | 108500 rows processed \n",
      " 12:54:54.449418 | 108750 rows processed \n",
      " 12:54:54.705163 | 109000 rows processed \n"
     ]
    },
    {
     "name": "stderr",
     "output_type": "stream",
     "text": [
      "[12:54:54] WARNING:  Problems/mismatches: Mobile-H( Mobile-H groups: Attachment points, Number)\n",
      "\n"
     ]
    },
    {
     "name": "stdout",
     "output_type": "stream",
     "text": [
      " 12:54:54.969997 | 109250 rows processed \n",
      " 12:54:55.235874 | 109500 rows processed \n",
      " 12:54:55.519629 | 109750 rows processed \n"
     ]
    },
    {
     "name": "stderr",
     "output_type": "stream",
     "text": [
      "[12:54:55] WARNING:  Problems/mismatches: Mobile-H( Mobile-H groups: Attachment points, Number)\n",
      "\n"
     ]
    },
    {
     "name": "stdout",
     "output_type": "stream",
     "text": [
      " 12:54:55.756126 | 110000 rows processed \n",
      " 12:54:56.018193 | 110250 rows processed \n"
     ]
    },
    {
     "name": "stderr",
     "output_type": "stream",
     "text": [
      "[12:54:56] WARNING:  Problems/mismatches: Mobile-H( Hydrogens: Number; Mobile-H groups: One instead of multiple, Attachment points, Number; Charge(s): Do not match)\n",
      "\n"
     ]
    },
    {
     "name": "stdout",
     "output_type": "stream",
     "text": [
      " 12:54:56.260241 | 110500 rows processed \n",
      " 12:54:56.539675 | 110750 rows processed \n",
      " 12:54:56.860617 | 111000 rows processed \n",
      " 12:54:57.164869 | 111250 rows processed \n",
      " 12:54:57.403827 | 111500 rows processed \n",
      " 12:54:57.626144 | 111750 rows processed \n",
      " 12:54:57.946402 | 112000 rows processed \n",
      " 12:54:58.254984 | 112250 rows processed \n",
      " 12:54:58.579466 | 112500 rows processed \n",
      " 12:54:58.830838 | 112750 rows processed \n",
      " 12:54:59.078580 | 113000 rows processed \n",
      " 12:54:59.312841 | 113250 rows processed \n",
      " 12:54:59.570129 | 113500 rows processed \n",
      " 12:54:59.938804 | 113750 rows processed \n",
      " 12:55:00.160261 | 114000 rows processed \n",
      " 12:55:00.388338 | 114250 rows processed \n",
      " 12:55:00.601263 | 114500 rows processed \n",
      " 12:55:00.999704 | 114750 rows processed \n",
      " 12:55:01.294809 | 115000 rows processed \n",
      " 12:55:01.521472 | 115250 rows processed \n",
      " 12:55:01.736031 | 115500 rows processed \n",
      " 12:55:02.016964 | 115750 rows processed \n",
      " 12:55:02.306254 | 116000 rows processed \n",
      " 12:55:02.535799 | 116250 rows processed \n",
      " 12:55:02.806773 | 116500 rows processed \n",
      " 12:55:03.049797 | 116750 rows processed \n",
      " ctr: 116753 index: JCP2022_999999   inchikey: nan \t Nan row encounntered - continue\n",
      "\n",
      " ------------------------------------------------------------------------- \n",
      " Results of processing   \n",
      " ------------------------------------------------------------------------- \n",
      "                                          Total Input: 116753\n",
      " rows with missing InChiKey in input                 :      1  \n",
      " rows with no MOL object returned from RDKit         :      1       \n",
      " rows with valid MOL                                 : 116751   \n",
      " rows with no Smiles object returned from RDKit      :      0    \n",
      " rows with with valid Chembl_id and InChi            : 116751\n",
      " ------------------------------------------------------------------------- \n",
      "\n",
      "\n"
     ]
    }
   ],
   "source": [
    "## Get mol and SMILES for each InChI in the input file \n",
    "df_smiles = getSmilesFromRDKit(df, limit=-1, append_col=True,  verbose = False)\n",
    "# getTPSAFromRDKit(df, limit = -1,verbose = False)\n"
   ]
  },
  {
   "cell_type": "code",
   "execution_count": 11,
   "id": "78cf17e0",
   "metadata": {
    "ExecuteTime": {
     "end_time": "2023-06-28T19:18:11.025979Z",
     "start_time": "2023-06-28T19:18:10.915424Z"
    },
    "execution": {
     "iopub.execute_input": "2023-11-10T20:55:31.660721Z",
     "iopub.status.busy": "2023-11-10T20:55:31.660299Z",
     "iopub.status.idle": "2023-11-10T20:55:31.778883Z",
     "shell.execute_reply": "2023-11-10T20:55:31.777746Z",
     "shell.execute_reply.started": "2023-11-10T20:55:31.660695Z"
    }
   },
   "outputs": [
    {
     "name": "stdout",
     "output_type": "stream",
     "text": [
      "<class 'pandas.core.frame.DataFrame'>\n",
      "RangeIndex: 116753 entries, 0 to 116752\n",
      "Data columns (total 4 columns):\n",
      " #   Column             Non-Null Count   Dtype \n",
      "---  ------             --------------   ----- \n",
      " 0   Metadata_JCP2022   116753 non-null  object\n",
      " 1   Metadata_InChIKey  116752 non-null  object\n",
      " 2   Metadata_InChI     116752 non-null  object\n",
      " 3   smiles             116751 non-null  object\n",
      "dtypes: object(4)\n",
      "memory usage: 3.6+ MB\n"
     ]
    },
    {
     "data": {
      "text/html": [
       "<div>\n",
       "<style scoped>\n",
       "    .dataframe tbody tr th:only-of-type {\n",
       "        vertical-align: middle;\n",
       "    }\n",
       "\n",
       "    .dataframe tbody tr th {\n",
       "        vertical-align: top;\n",
       "    }\n",
       "\n",
       "    .dataframe thead th {\n",
       "        text-align: right;\n",
       "    }\n",
       "</style>\n",
       "<table border=\"1\" class=\"dataframe\">\n",
       "  <thead>\n",
       "    <tr style=\"text-align: right;\">\n",
       "      <th></th>\n",
       "      <th>Metadata_JCP2022</th>\n",
       "      <th>Metadata_InChIKey</th>\n",
       "      <th>Metadata_InChI</th>\n",
       "      <th>smiles</th>\n",
       "    </tr>\n",
       "  </thead>\n",
       "  <tbody>\n",
       "    <tr>\n",
       "      <th>0</th>\n",
       "      <td>JCP2022_000001</td>\n",
       "      <td>AAAHWCWPZPSPIW-UHFFFAOYSA-N</td>\n",
       "      <td>InChI=1S/C25H31N5O2/c1-4-23-26-14-16-30(23)24-...</td>\n",
       "      <td>CCC1=NC=CN1c2cccc(n2)C3CCCN3C(=O)c4ccc(cc4)OCC...</td>\n",
       "    </tr>\n",
       "    <tr>\n",
       "      <th>1</th>\n",
       "      <td>JCP2022_000002</td>\n",
       "      <td>AAAJHRMBUHXWLD-UHFFFAOYSA-N</td>\n",
       "      <td>InChI=1S/C11H13ClN2O/c12-10-4-2-9(3-5-10)8-14-...</td>\n",
       "      <td>OC1=NCCCN1Cc2ccc(Cl)cc2</td>\n",
       "    </tr>\n",
       "  </tbody>\n",
       "</table>\n",
       "</div>"
      ],
      "text/plain": [
       "  Metadata_JCP2022            Metadata_InChIKey                                     Metadata_InChI  \\\n",
       "0   JCP2022_000001  AAAHWCWPZPSPIW-UHFFFAOYSA-N  InChI=1S/C25H31N5O2/c1-4-23-26-14-16-30(23)24-...   \n",
       "1   JCP2022_000002  AAAJHRMBUHXWLD-UHFFFAOYSA-N  InChI=1S/C11H13ClN2O/c12-10-4-2-9(3-5-10)8-14-...   \n",
       "\n",
       "                                              smiles  \n",
       "0  CCC1=NC=CN1c2cccc(n2)C3CCCN3C(=O)c4ccc(cc4)OCC...  \n",
       "1                            OC1=NCCCN1Cc2ccc(Cl)cc2  "
      ]
     },
     "execution_count": 11,
     "metadata": {},
     "output_type": "execute_result"
    },
    {
     "data": {
      "text/html": [
       "<div>\n",
       "<style scoped>\n",
       "    .dataframe tbody tr th:only-of-type {\n",
       "        vertical-align: middle;\n",
       "    }\n",
       "\n",
       "    .dataframe tbody tr th {\n",
       "        vertical-align: top;\n",
       "    }\n",
       "\n",
       "    .dataframe thead th {\n",
       "        text-align: right;\n",
       "    }\n",
       "</style>\n",
       "<table border=\"1\" class=\"dataframe\">\n",
       "  <thead>\n",
       "    <tr style=\"text-align: right;\">\n",
       "      <th></th>\n",
       "      <th>Metadata_JCP2022</th>\n",
       "      <th>Metadata_InChIKey</th>\n",
       "      <th>Metadata_InChI</th>\n",
       "      <th>smiles</th>\n",
       "    </tr>\n",
       "  </thead>\n",
       "  <tbody>\n",
       "    <tr>\n",
       "      <th>65738</th>\n",
       "      <td>JCP2022_065740</td>\n",
       "      <td>ORYDPOVDJJZGHQ-UHFFFAOYSA-N</td>\n",
       "      <td>InChI=1S/C7H6N4O2/c8-7-9-11(13)6-4-2-1-3-5(6)1...</td>\n",
       "      <td>NaN</td>\n",
       "    </tr>\n",
       "    <tr>\n",
       "      <th>116752</th>\n",
       "      <td>JCP2022_999999</td>\n",
       "      <td>NaN</td>\n",
       "      <td>NaN</td>\n",
       "      <td>NaN</td>\n",
       "    </tr>\n",
       "  </tbody>\n",
       "</table>\n",
       "</div>"
      ],
      "text/plain": [
       "       Metadata_JCP2022            Metadata_InChIKey                                     Metadata_InChI smiles\n",
       "65738    JCP2022_065740  ORYDPOVDJJZGHQ-UHFFFAOYSA-N  InChI=1S/C7H6N4O2/c8-7-9-11(13)6-4-2-1-3-5(6)1...    NaN\n",
       "116752   JCP2022_999999                          NaN                                                NaN    NaN"
      ]
     },
     "execution_count": 11,
     "metadata": {},
     "output_type": "execute_result"
    },
    {
     "data": {
      "text/html": [
       "<div>\n",
       "<style scoped>\n",
       "    .dataframe tbody tr th:only-of-type {\n",
       "        vertical-align: middle;\n",
       "    }\n",
       "\n",
       "    .dataframe tbody tr th {\n",
       "        vertical-align: top;\n",
       "    }\n",
       "\n",
       "    .dataframe thead th {\n",
       "        text-align: right;\n",
       "    }\n",
       "</style>\n",
       "<table border=\"1\" class=\"dataframe\">\n",
       "  <thead>\n",
       "    <tr style=\"text-align: right;\">\n",
       "      <th></th>\n",
       "      <th>Metadata_JCP2022</th>\n",
       "      <th>Metadata_InChIKey</th>\n",
       "      <th>Metadata_InChI</th>\n",
       "      <th>smiles</th>\n",
       "    </tr>\n",
       "  </thead>\n",
       "  <tbody>\n",
       "    <tr>\n",
       "      <th>65736</th>\n",
       "      <td>JCP2022_065738</td>\n",
       "      <td>ORYBDSTVITXLOM-UHFFFAOYSA-N</td>\n",
       "      <td>InChI=1S/C14H12IN5O3/c1-19(2)11-7-10(16-9-5-3-...</td>\n",
       "      <td>CN(C)C2=CC(Nc1ccc(I)cc1)=C(C3=NON=C23)[N+]([O-...</td>\n",
       "    </tr>\n",
       "    <tr>\n",
       "      <th>65737</th>\n",
       "      <td>JCP2022_065739</td>\n",
       "      <td>ORYBLTNNDMTRNX-UHFFFAOYSA-N</td>\n",
       "      <td>InChI=1S/C25H31FN2O4/c1-25(30)11-14-28(18-23(2...</td>\n",
       "      <td>CC1(O)CCN(CC1Oc2cccc(F)c2)C(=O)c3ccc(cc3)OCCN4...</td>\n",
       "    </tr>\n",
       "    <tr>\n",
       "      <th>65738</th>\n",
       "      <td>JCP2022_065740</td>\n",
       "      <td>ORYDPOVDJJZGHQ-UHFFFAOYSA-N</td>\n",
       "      <td>InChI=1S/C7H6N4O2/c8-7-9-11(13)6-4-2-1-3-5(6)1...</td>\n",
       "      <td>NaN</td>\n",
       "    </tr>\n",
       "    <tr>\n",
       "      <th>65739</th>\n",
       "      <td>JCP2022_065741</td>\n",
       "      <td>ORYHMBVHFGOAIX-UHFFFAOYSA-N</td>\n",
       "      <td>InChI=1S/C21H22N4O3S/c1-16-7-8-17(15-20(16)29(...</td>\n",
       "      <td>Cc1ccc(cc1S(=O)(=O)N2CCOCC2)C4C=CC(=Nc3ccccc3)...</td>\n",
       "    </tr>\n",
       "    <tr>\n",
       "      <th>65740</th>\n",
       "      <td>JCP2022_065742</td>\n",
       "      <td>ORYIJHQLVLSPRM-UHFFFAOYSA-N</td>\n",
       "      <td>InChI=1S/C19H23ClN2O2/c1-13-11-18(19(24)12-21-...</td>\n",
       "      <td>CC2=CC(C(=O)CN1CCC(O)CC1)=C(C)N2c3ccc(Cl)cc3</td>\n",
       "    </tr>\n",
       "  </tbody>\n",
       "</table>\n",
       "</div>"
      ],
      "text/plain": [
       "      Metadata_JCP2022            Metadata_InChIKey                                     Metadata_InChI  \\\n",
       "65736   JCP2022_065738  ORYBDSTVITXLOM-UHFFFAOYSA-N  InChI=1S/C14H12IN5O3/c1-19(2)11-7-10(16-9-5-3-...   \n",
       "65737   JCP2022_065739  ORYBLTNNDMTRNX-UHFFFAOYSA-N  InChI=1S/C25H31FN2O4/c1-25(30)11-14-28(18-23(2...   \n",
       "65738   JCP2022_065740  ORYDPOVDJJZGHQ-UHFFFAOYSA-N  InChI=1S/C7H6N4O2/c8-7-9-11(13)6-4-2-1-3-5(6)1...   \n",
       "65739   JCP2022_065741  ORYHMBVHFGOAIX-UHFFFAOYSA-N  InChI=1S/C21H22N4O3S/c1-16-7-8-17(15-20(16)29(...   \n",
       "65740   JCP2022_065742  ORYIJHQLVLSPRM-UHFFFAOYSA-N  InChI=1S/C19H23ClN2O2/c1-13-11-18(19(24)12-21-...   \n",
       "\n",
       "                                                  smiles  \n",
       "65736  CN(C)C2=CC(Nc1ccc(I)cc1)=C(C3=NON=C23)[N+]([O-...  \n",
       "65737  CC1(O)CCN(CC1Oc2cccc(F)c2)C(=O)c3ccc(cc3)OCCN4...  \n",
       "65738                                                NaN  \n",
       "65739  Cc1ccc(cc1S(=O)(=O)N2CCOCC2)C4C=CC(=Nc3ccccc3)...  \n",
       "65740       CC2=CC(C(=O)CN1CCC(O)CC1)=C(C)N2c3ccc(Cl)cc3  "
      ]
     },
     "execution_count": 11,
     "metadata": {},
     "output_type": "execute_result"
    }
   ],
   "source": [
    "df.info()\n",
    "df.head(2)\n",
    "\n",
    "df_nans=df[df['smiles'].isna()]\n",
    "df_nans\n",
    "\n",
    "df.loc[65736:65740]"
   ]
  },
  {
   "cell_type": "code",
   "execution_count": 12,
   "id": "1205b0ea",
   "metadata": {
    "ExecuteTime": {
     "end_time": "2023-06-28T19:18:15.415769Z",
     "start_time": "2023-06-28T19:18:15.352445Z"
    },
    "execution": {
     "iopub.execute_input": "2023-11-10T20:55:41.179096Z",
     "iopub.status.busy": "2023-11-10T20:55:41.178059Z",
     "iopub.status.idle": "2023-11-10T20:55:41.257404Z",
     "shell.execute_reply": "2023-11-10T20:55:41.256447Z",
     "shell.execute_reply.started": "2023-11-10T20:55:41.179061Z"
    },
    "scrolled": true
   },
   "outputs": [
    {
     "name": "stdout",
     "output_type": "stream",
     "text": [
      "<class 'pandas.core.frame.DataFrame'>\n",
      "RangeIndex: 116751 entries, 0 to 116750\n",
      "Data columns (total 2 columns):\n",
      " #   Column   Non-Null Count   Dtype \n",
      "---  ------   --------------   ----- \n",
      " 0   JCP2022  116751 non-null  object\n",
      " 1   smiles   116751 non-null  object\n",
      "dtypes: object(2)\n",
      "memory usage: 1.8+ MB\n"
     ]
    },
    {
     "data": {
      "text/html": [
       "<div>\n",
       "<style scoped>\n",
       "    .dataframe tbody tr th:only-of-type {\n",
       "        vertical-align: middle;\n",
       "    }\n",
       "\n",
       "    .dataframe tbody tr th {\n",
       "        vertical-align: top;\n",
       "    }\n",
       "\n",
       "    .dataframe thead th {\n",
       "        text-align: right;\n",
       "    }\n",
       "</style>\n",
       "<table border=\"1\" class=\"dataframe\">\n",
       "  <thead>\n",
       "    <tr style=\"text-align: right;\">\n",
       "      <th></th>\n",
       "      <th>JCP2022</th>\n",
       "      <th>smiles</th>\n",
       "    </tr>\n",
       "  </thead>\n",
       "  <tbody>\n",
       "    <tr>\n",
       "      <th>0</th>\n",
       "      <td>JCP2022_000001</td>\n",
       "      <td>CCC1=NC=CN1c2cccc(n2)C3CCCN3C(=O)c4ccc(cc4)OCC...</td>\n",
       "    </tr>\n",
       "    <tr>\n",
       "      <th>1</th>\n",
       "      <td>JCP2022_000002</td>\n",
       "      <td>OC1=NCCCN1Cc2ccc(Cl)cc2</td>\n",
       "    </tr>\n",
       "    <tr>\n",
       "      <th>2</th>\n",
       "      <td>JCP2022_000003</td>\n",
       "      <td>OC2=NC(=O)c3cc(Nc1ccccc1)c(cc23)Nc4ccccc4</td>\n",
       "    </tr>\n",
       "  </tbody>\n",
       "</table>\n",
       "</div>"
      ],
      "text/plain": [
       "          JCP2022                                             smiles\n",
       "0  JCP2022_000001  CCC1=NC=CN1c2cccc(n2)C3CCCN3C(=O)c4ccc(cc4)OCC...\n",
       "1  JCP2022_000002                            OC1=NCCCN1Cc2ccc(Cl)cc2\n",
       "2  JCP2022_000003          OC2=NC(=O)c3cc(Nc1ccccc1)c(cc23)Nc4ccccc4"
      ]
     },
     "execution_count": 12,
     "metadata": {},
     "output_type": "execute_result"
    },
    {
     "data": {
      "text/html": [
       "<div>\n",
       "<style scoped>\n",
       "    .dataframe tbody tr th:only-of-type {\n",
       "        vertical-align: middle;\n",
       "    }\n",
       "\n",
       "    .dataframe tbody tr th {\n",
       "        vertical-align: top;\n",
       "    }\n",
       "\n",
       "    .dataframe thead th {\n",
       "        text-align: right;\n",
       "    }\n",
       "</style>\n",
       "<table border=\"1\" class=\"dataframe\">\n",
       "  <thead>\n",
       "    <tr style=\"text-align: right;\">\n",
       "      <th></th>\n",
       "      <th>JCP2022</th>\n",
       "      <th>smiles</th>\n",
       "    </tr>\n",
       "  </thead>\n",
       "  <tbody>\n",
       "    <tr>\n",
       "      <th>116748</th>\n",
       "      <td>JCP2022_116751</td>\n",
       "      <td>CN4C=CC3C=CN(CCN=C(O)c2cnc1ccccc1n2)C(=O)C=34</td>\n",
       "    </tr>\n",
       "    <tr>\n",
       "      <th>116749</th>\n",
       "      <td>JCP2022_116752</td>\n",
       "      <td>Cc1nccc(n1)c2cccc(c2)NS(=O)(=O)c3cc(cc(c3)C(F)...</td>\n",
       "    </tr>\n",
       "    <tr>\n",
       "      <th>116750</th>\n",
       "      <td>JCP2022_116753</td>\n",
       "      <td>COc1ccccc1C(O)=NCCN2CCOCC2</td>\n",
       "    </tr>\n",
       "  </tbody>\n",
       "</table>\n",
       "</div>"
      ],
      "text/plain": [
       "               JCP2022                                             smiles\n",
       "116748  JCP2022_116751      CN4C=CC3C=CN(CCN=C(O)c2cnc1ccccc1n2)C(=O)C=34\n",
       "116749  JCP2022_116752  Cc1nccc(n1)c2cccc(c2)NS(=O)(=O)c3cc(cc(c3)C(F)...\n",
       "116750  JCP2022_116753                         COc1ccccc1C(O)=NCCN2CCOCC2"
      ]
     },
     "execution_count": 12,
     "metadata": {},
     "output_type": "execute_result"
    },
    {
     "data": {
      "text/html": [
       "<div>\n",
       "<style scoped>\n",
       "    .dataframe tbody tr th:only-of-type {\n",
       "        vertical-align: middle;\n",
       "    }\n",
       "\n",
       "    .dataframe tbody tr th {\n",
       "        vertical-align: top;\n",
       "    }\n",
       "\n",
       "    .dataframe thead th {\n",
       "        text-align: right;\n",
       "    }\n",
       "</style>\n",
       "<table border=\"1\" class=\"dataframe\">\n",
       "  <thead>\n",
       "    <tr style=\"text-align: right;\">\n",
       "      <th></th>\n",
       "      <th>JCP2022</th>\n",
       "      <th>smiles</th>\n",
       "    </tr>\n",
       "  </thead>\n",
       "  <tbody>\n",
       "  </tbody>\n",
       "</table>\n",
       "</div>"
      ],
      "text/plain": [
       "Empty DataFrame\n",
       "Columns: [JCP2022, smiles]\n",
       "Index: []"
      ]
     },
     "execution_count": 12,
     "metadata": {},
     "output_type": "execute_result"
    }
   ],
   "source": [
    "df_smiles.info()\n",
    "df_smiles.head(3)\n",
    "df_smiles.tail(3)\n",
    "df_smiles[df_smiles['smiles'].isna()]"
   ]
  },
  {
   "cell_type": "markdown",
   "id": "973e3467-9d42-43f3-9e5d-b0bd4d875dc8",
   "metadata": {
    "heading_collapsed": true,
    "hidden": true
   },
   "source": [
    "## Drop rows with invalid smiles fingerprint \n",
    "\n",
    "drop rows with NaN / None in any column"
   ]
  },
  {
   "cell_type": "code",
   "execution_count": 14,
   "id": "b0612afd-87ff-4957-b2fb-9aca5559edd9",
   "metadata": {
    "execution": {
     "iopub.execute_input": "2023-11-10T20:56:17.839615Z",
     "iopub.status.busy": "2023-11-10T20:56:17.838246Z",
     "iopub.status.idle": "2023-11-10T20:56:17.906855Z",
     "shell.execute_reply": "2023-11-10T20:56:17.905583Z",
     "shell.execute_reply.started": "2023-11-10T20:56:17.839567Z"
    }
   },
   "outputs": [
    {
     "data": {
      "text/plain": [
       "116751"
      ]
     },
     "execution_count": 14,
     "metadata": {},
     "output_type": "execute_result"
    }
   ],
   "source": [
    "df.dropna(axis=0, subset='smiles', inplace=True)\n",
    "len(df)"
   ]
  },
  {
   "cell_type": "code",
   "execution_count": 15,
   "id": "6921b907-701f-40b4-8da2-f56df40f4ac3",
   "metadata": {
    "ExecuteTime": {
     "end_time": "2023-06-28T19:18:15.415769Z",
     "start_time": "2023-06-28T19:18:15.352445Z"
    },
    "execution": {
     "iopub.execute_input": "2023-11-10T20:56:19.445293Z",
     "iopub.status.busy": "2023-11-10T20:56:19.444723Z",
     "iopub.status.idle": "2023-11-10T20:56:19.545318Z",
     "shell.execute_reply": "2023-11-10T20:56:19.544221Z",
     "shell.execute_reply.started": "2023-11-10T20:56:19.445267Z"
    },
    "scrolled": true
   },
   "outputs": [
    {
     "name": "stdout",
     "output_type": "stream",
     "text": [
      "<class 'pandas.core.frame.DataFrame'>\n",
      "Int64Index: 116751 entries, 0 to 116751\n",
      "Data columns (total 4 columns):\n",
      " #   Column             Non-Null Count   Dtype \n",
      "---  ------             --------------   ----- \n",
      " 0   Metadata_JCP2022   116751 non-null  object\n",
      " 1   Metadata_InChIKey  116751 non-null  object\n",
      " 2   Metadata_InChI     116751 non-null  object\n",
      " 3   smiles             116751 non-null  object\n",
      "dtypes: object(4)\n",
      "memory usage: 4.5+ MB\n"
     ]
    },
    {
     "data": {
      "text/html": [
       "<div>\n",
       "<style scoped>\n",
       "    .dataframe tbody tr th:only-of-type {\n",
       "        vertical-align: middle;\n",
       "    }\n",
       "\n",
       "    .dataframe tbody tr th {\n",
       "        vertical-align: top;\n",
       "    }\n",
       "\n",
       "    .dataframe thead th {\n",
       "        text-align: right;\n",
       "    }\n",
       "</style>\n",
       "<table border=\"1\" class=\"dataframe\">\n",
       "  <thead>\n",
       "    <tr style=\"text-align: right;\">\n",
       "      <th></th>\n",
       "      <th>Metadata_JCP2022</th>\n",
       "      <th>Metadata_InChIKey</th>\n",
       "      <th>Metadata_InChI</th>\n",
       "      <th>smiles</th>\n",
       "    </tr>\n",
       "  </thead>\n",
       "  <tbody>\n",
       "    <tr>\n",
       "      <th>0</th>\n",
       "      <td>JCP2022_000001</td>\n",
       "      <td>AAAHWCWPZPSPIW-UHFFFAOYSA-N</td>\n",
       "      <td>InChI=1S/C25H31N5O2/c1-4-23-26-14-16-30(23)24-...</td>\n",
       "      <td>CCC1=NC=CN1c2cccc(n2)C3CCCN3C(=O)c4ccc(cc4)OCC...</td>\n",
       "    </tr>\n",
       "    <tr>\n",
       "      <th>1</th>\n",
       "      <td>JCP2022_000002</td>\n",
       "      <td>AAAJHRMBUHXWLD-UHFFFAOYSA-N</td>\n",
       "      <td>InChI=1S/C11H13ClN2O/c12-10-4-2-9(3-5-10)8-14-...</td>\n",
       "      <td>OC1=NCCCN1Cc2ccc(Cl)cc2</td>\n",
       "    </tr>\n",
       "    <tr>\n",
       "      <th>2</th>\n",
       "      <td>JCP2022_000003</td>\n",
       "      <td>AAALVYBICLMAMA-UHFFFAOYSA-N</td>\n",
       "      <td>InChI=1S/C20H15N3O2/c24-19-15-11-17(21-13-7-3-...</td>\n",
       "      <td>OC2=NC(=O)c3cc(Nc1ccccc1)c(cc23)Nc4ccccc4</td>\n",
       "    </tr>\n",
       "  </tbody>\n",
       "</table>\n",
       "</div>"
      ],
      "text/plain": [
       "  Metadata_JCP2022            Metadata_InChIKey                                     Metadata_InChI  \\\n",
       "0   JCP2022_000001  AAAHWCWPZPSPIW-UHFFFAOYSA-N  InChI=1S/C25H31N5O2/c1-4-23-26-14-16-30(23)24-...   \n",
       "1   JCP2022_000002  AAAJHRMBUHXWLD-UHFFFAOYSA-N  InChI=1S/C11H13ClN2O/c12-10-4-2-9(3-5-10)8-14-...   \n",
       "2   JCP2022_000003  AAALVYBICLMAMA-UHFFFAOYSA-N  InChI=1S/C20H15N3O2/c24-19-15-11-17(21-13-7-3-...   \n",
       "\n",
       "                                              smiles  \n",
       "0  CCC1=NC=CN1c2cccc(n2)C3CCCN3C(=O)c4ccc(cc4)OCC...  \n",
       "1                            OC1=NCCCN1Cc2ccc(Cl)cc2  \n",
       "2          OC2=NC(=O)c3cc(Nc1ccccc1)c(cc23)Nc4ccccc4  "
      ]
     },
     "execution_count": 15,
     "metadata": {},
     "output_type": "execute_result"
    },
    {
     "data": {
      "text/html": [
       "<div>\n",
       "<style scoped>\n",
       "    .dataframe tbody tr th:only-of-type {\n",
       "        vertical-align: middle;\n",
       "    }\n",
       "\n",
       "    .dataframe tbody tr th {\n",
       "        vertical-align: top;\n",
       "    }\n",
       "\n",
       "    .dataframe thead th {\n",
       "        text-align: right;\n",
       "    }\n",
       "</style>\n",
       "<table border=\"1\" class=\"dataframe\">\n",
       "  <thead>\n",
       "    <tr style=\"text-align: right;\">\n",
       "      <th></th>\n",
       "      <th>Metadata_JCP2022</th>\n",
       "      <th>Metadata_InChIKey</th>\n",
       "      <th>Metadata_InChI</th>\n",
       "      <th>smiles</th>\n",
       "    </tr>\n",
       "  </thead>\n",
       "  <tbody>\n",
       "    <tr>\n",
       "      <th>116749</th>\n",
       "      <td>JCP2022_116751</td>\n",
       "      <td>ZZZUOLMMTJKOGE-UHFFFAOYSA-N</td>\n",
       "      <td>InChI=1S/C19H17N5O2/c1-23-9-6-13-7-10-24(19(26...</td>\n",
       "      <td>CN4C=CC3C=CN(CCN=C(O)c2cnc1ccccc1n2)C(=O)C=34</td>\n",
       "    </tr>\n",
       "    <tr>\n",
       "      <th>116750</th>\n",
       "      <td>JCP2022_116752</td>\n",
       "      <td>ZZZZIBSVRUABIA-UHFFFAOYSA-N</td>\n",
       "      <td>InChI=1S/C19H13F6N3O2S/c1-11-26-6-5-17(27-11)1...</td>\n",
       "      <td>Cc1nccc(n1)c2cccc(c2)NS(=O)(=O)c3cc(cc(c3)C(F)...</td>\n",
       "    </tr>\n",
       "    <tr>\n",
       "      <th>116751</th>\n",
       "      <td>JCP2022_116753</td>\n",
       "      <td>ZZZZVNLQWWXZTQ-UHFFFAOYSA-N</td>\n",
       "      <td>InChI=1S/C14H20N2O3/c1-18-13-5-3-2-4-12(13)14(...</td>\n",
       "      <td>COc1ccccc1C(O)=NCCN2CCOCC2</td>\n",
       "    </tr>\n",
       "  </tbody>\n",
       "</table>\n",
       "</div>"
      ],
      "text/plain": [
       "       Metadata_JCP2022            Metadata_InChIKey                                     Metadata_InChI  \\\n",
       "116749   JCP2022_116751  ZZZUOLMMTJKOGE-UHFFFAOYSA-N  InChI=1S/C19H17N5O2/c1-23-9-6-13-7-10-24(19(26...   \n",
       "116750   JCP2022_116752  ZZZZIBSVRUABIA-UHFFFAOYSA-N  InChI=1S/C19H13F6N3O2S/c1-11-26-6-5-17(27-11)1...   \n",
       "116751   JCP2022_116753  ZZZZVNLQWWXZTQ-UHFFFAOYSA-N  InChI=1S/C14H20N2O3/c1-18-13-5-3-2-4-12(13)14(...   \n",
       "\n",
       "                                                   smiles  \n",
       "116749      CN4C=CC3C=CN(CCN=C(O)c2cnc1ccccc1n2)C(=O)C=34  \n",
       "116750  Cc1nccc(n1)c2cccc(c2)NS(=O)(=O)c3cc(cc(c3)C(F)...  \n",
       "116751                         COc1ccccc1C(O)=NCCN2CCOCC2  "
      ]
     },
     "execution_count": 15,
     "metadata": {},
     "output_type": "execute_result"
    },
    {
     "data": {
      "text/html": [
       "<div>\n",
       "<style scoped>\n",
       "    .dataframe tbody tr th:only-of-type {\n",
       "        vertical-align: middle;\n",
       "    }\n",
       "\n",
       "    .dataframe tbody tr th {\n",
       "        vertical-align: top;\n",
       "    }\n",
       "\n",
       "    .dataframe thead th {\n",
       "        text-align: right;\n",
       "    }\n",
       "</style>\n",
       "<table border=\"1\" class=\"dataframe\">\n",
       "  <thead>\n",
       "    <tr style=\"text-align: right;\">\n",
       "      <th></th>\n",
       "      <th>Metadata_JCP2022</th>\n",
       "      <th>Metadata_InChIKey</th>\n",
       "      <th>Metadata_InChI</th>\n",
       "      <th>smiles</th>\n",
       "    </tr>\n",
       "  </thead>\n",
       "  <tbody>\n",
       "  </tbody>\n",
       "</table>\n",
       "</div>"
      ],
      "text/plain": [
       "Empty DataFrame\n",
       "Columns: [Metadata_JCP2022, Metadata_InChIKey, Metadata_InChI, smiles]\n",
       "Index: []"
      ]
     },
     "execution_count": 15,
     "metadata": {},
     "output_type": "execute_result"
    }
   ],
   "source": [
    "df.info()\n",
    "df.head(3)\n",
    "df.tail(3)\n",
    "df[df['smiles'].isna()]"
   ]
  },
  {
   "cell_type": "markdown",
   "id": "4a53ec88-b899-4643-80d0-7ec0bf736a73",
   "metadata": {
    "hidden": true
   },
   "source": [
    "## Write compound metadata with valid SMILES fps to CSV file `./input/cp_compound_smiles_clean.csv`"
   ]
  },
  {
   "cell_type": "code",
   "execution_count": 17,
   "id": "951f08dd-dfa0-4e46-b685-43c979e95105",
   "metadata": {
    "ExecuteTime": {
     "end_time": "2023-05-24T15:17:24.377846Z",
     "start_time": "2023-05-24T15:17:24.365603Z"
    },
    "execution": {
     "iopub.execute_input": "2023-11-10T21:01:53.645750Z",
     "iopub.status.busy": "2023-11-10T21:01:53.645398Z",
     "iopub.status.idle": "2023-11-10T21:01:53.664233Z",
     "shell.execute_reply": "2023-11-10T21:01:53.662705Z",
     "shell.execute_reply.started": "2023-11-10T21:01:53.645729Z"
    },
    "hidden": true
   },
   "outputs": [
    {
     "name": "stdout",
     "output_type": "stream",
     "text": [
      " compound Metadata + Smiles Cleaned: ./output_11102023/_compound_metadata_smiles_clean.csv\n"
     ]
    }
   ],
   "source": [
    "# print(f\" compound Metadata Output File  : {compoundMetadataOutputFile_2}\")\n",
    "print(f\" compound Metadata + Smiles Cleaned: {compoundMetadataSmilesCleanFile}\")"
   ]
  },
  {
   "cell_type": "code",
   "execution_count": 18,
   "id": "727d0375-79bf-42fa-9826-4b7232a36224",
   "metadata": {
    "ExecuteTime": {
     "end_time": "2023-05-24T15:17:27.650881Z",
     "start_time": "2023-05-24T15:17:27.321706Z"
    },
    "execution": {
     "iopub.execute_input": "2023-11-10T21:01:56.609616Z",
     "iopub.status.busy": "2023-11-10T21:01:56.609111Z",
     "iopub.status.idle": "2023-11-10T21:01:57.171557Z",
     "shell.execute_reply": "2023-11-10T21:01:57.170681Z",
     "shell.execute_reply.started": "2023-11-10T21:01:56.609579Z"
    },
    "hidden": true
   },
   "outputs": [],
   "source": [
    "df.to_csv(compoundMetadataSmilesCleanFile, index = False)"
   ]
  },
  {
   "cell_type": "markdown",
   "id": "9eaff95c",
   "metadata": {
    "heading_collapsed": true
   },
   "source": [
    "# Get TPSA values for compounds "
   ]
  },
  {
   "cell_type": "markdown",
   "id": "9a8f78e3-0310-4e6a-a22d-728518a94bc3",
   "metadata": {
    "ExecuteTime": {
     "end_time": "2023-05-24T15:12:06.272966Z",
     "start_time": "2023-05-24T15:12:06.261113Z"
    },
    "hidden": true,
    "jp-MarkdownHeadingCollapsed": true
   },
   "source": [
    "### Get TPSA for compound, append to metadata dataframe and to df_TPSA "
   ]
  },
  {
   "cell_type": "code",
   "execution_count": 19,
   "id": "0dcff221",
   "metadata": {
    "ExecuteTime": {
     "end_time": "2023-06-28T19:19:26.052216Z",
     "start_time": "2023-06-28T19:18:28.126867Z"
    },
    "execution": {
     "iopub.execute_input": "2023-11-10T21:02:16.558704Z",
     "iopub.status.busy": "2023-11-10T21:02:16.558313Z",
     "iopub.status.idle": "2023-11-10T21:03:38.687966Z",
     "shell.execute_reply": "2023-11-10T21:03:38.685769Z",
     "shell.execute_reply.started": "2023-11-10T21:02:16.558680Z"
    },
    "hidden": true,
    "scrolled": true
   },
   "outputs": [
    {
     "name": "stdout",
     "output_type": "stream",
     "text": [
      "getTPSAFromRDKit() input parmL limit: -1 \t append_column :  True \t verbose: False\n",
      " Add TPSA column\n",
      " 13:02:16.589314 | 0 rows processed \n",
      " 13:02:16.774942 | 250 rows processed \n",
      " 13:02:16.934164 | 500 rows processed \n",
      " 13:02:17.081347 | 750 rows processed \n",
      " 13:02:17.303721 | 1000 rows processed \n",
      " 13:02:17.452806 | 1250 rows processed \n"
     ]
    },
    {
     "name": "stderr",
     "output_type": "stream",
     "text": [
      "[13:02:17] WARNING:  Problems/mismatches: Mobile-H( Hydrogens: Locations or number, Number; Mobile-H groups: One instead of multiple, Attachment points, Number; Charge(s): Do not match)\n",
      "\n"
     ]
    },
    {
     "name": "stdout",
     "output_type": "stream",
     "text": [
      " 13:02:17.612938 | 1500 rows processed \n",
      " 13:02:17.810046 | 1750 rows processed \n",
      " 13:02:17.972745 | 2000 rows processed \n",
      " 13:02:18.245862 | 2250 rows processed \n",
      " 13:02:18.412642 | 2500 rows processed \n",
      " 13:02:18.606339 | 2750 rows processed \n"
     ]
    },
    {
     "name": "stderr",
     "output_type": "stream",
     "text": [
      "[13:02:18] WARNING:  Problems/mismatches: Mobile-H( Hydrogens: Locations or number, Number; Charge(s): Do not match)\n",
      "\n"
     ]
    },
    {
     "name": "stdout",
     "output_type": "stream",
     "text": [
      " 13:02:18.858118 | 3000 rows processed \n",
      " 13:02:19.030720 | 3250 rows processed \n"
     ]
    },
    {
     "name": "stderr",
     "output_type": "stream",
     "text": [
      "[13:02:18] WARNING:  Problems/mismatches: Mobile-H( Mobile-H groups: Attachment points, Number)\n",
      "\n"
     ]
    },
    {
     "name": "stdout",
     "output_type": "stream",
     "text": [
      " 13:02:19.206559 | 3500 rows processed \n",
      " 13:02:19.392428 | 3750 rows processed \n",
      " 13:02:19.552470 | 4000 rows processed \n",
      " 13:02:19.727229 | 4250 rows processed \n",
      " 13:02:19.888390 | 4500 rows processed \n",
      " 13:02:20.038711 | 4750 rows processed \n",
      " 13:02:20.210920 | 5000 rows processed \n",
      " 13:02:20.375440 | 5250 rows processed \n",
      " 13:02:20.526126 | 5500 rows processed \n",
      " 13:02:20.746483 | 5750 rows processed \n",
      " 13:02:20.950448 | 6000 rows processed \n"
     ]
    },
    {
     "name": "stderr",
     "output_type": "stream",
     "text": [
      "[13:02:20] WARNING:  Problems/mismatches: Mobile-H( Hydrogens: Number; Mobile-H groups: One instead of multiple, Attachment points, Number; Charge(s): Do not match)\n",
      "\n"
     ]
    },
    {
     "name": "stdout",
     "output_type": "stream",
     "text": [
      " 13:02:21.118931 | 6250 rows processed \n",
      " 13:02:21.301871 | 6500 rows processed \n",
      " 13:02:21.474589 | 6750 rows processed \n",
      " 13:02:21.649781 | 7000 rows processed \n",
      " 13:02:21.853623 | 7250 rows processed \n",
      " 13:02:22.057659 | 7500 rows processed \n",
      " 13:02:22.219606 | 7750 rows processed \n",
      " 13:02:22.377976 | 8000 rows processed \n",
      " 13:02:22.550384 | 8250 rows processed \n",
      " 13:02:22.722321 | 8500 rows processed \n",
      " 13:02:22.920919 | 8750 rows processed \n",
      " 13:02:23.082108 | 9000 rows processed \n",
      " 13:02:23.279217 | 9250 rows processed \n",
      " 13:02:23.433434 | 9500 rows processed \n",
      " 13:02:23.587303 | 9750 rows processed \n",
      " 13:02:23.741983 | 10000 rows processed \n",
      " 13:02:23.892463 | 10250 rows processed \n",
      " 13:02:24.070399 | 10500 rows processed \n",
      " 13:02:24.220589 | 10750 rows processed \n",
      " 13:02:24.420528 | 11000 rows processed \n",
      " 13:02:24.582081 | 11250 rows processed \n",
      " 13:02:24.754741 | 11500 rows processed \n"
     ]
    },
    {
     "name": "stderr",
     "output_type": "stream",
     "text": [
      "[13:02:24] WARNING:  Problems/mismatches: Mobile-H( Hydrogens: Locations or number, Number; Mobile-H groups: One instead of multiple, Attachment points, Number; Charge(s): Do not match; Proton balance: Does not match)\n",
      "\n"
     ]
    },
    {
     "name": "stdout",
     "output_type": "stream",
     "text": [
      " 13:02:24.921101 | 11750 rows processed \n",
      " 13:02:25.093980 | 12000 rows processed \n",
      " 13:02:25.334088 | 12250 rows processed \n",
      " 13:02:25.492432 | 12500 rows processed \n"
     ]
    },
    {
     "name": "stderr",
     "output_type": "stream",
     "text": [
      "[13:02:25] WARNING:  Problems/mismatches: Mobile-H( Hydrogens: Number; Mobile-H groups: One instead of multiple, Attachment points, Number; Charge(s): Do not match)\n",
      "\n"
     ]
    },
    {
     "name": "stdout",
     "output_type": "stream",
     "text": [
      " 13:02:25.673120 | 12750 rows processed \n",
      " 13:02:25.862391 | 13000 rows processed \n",
      " 13:02:26.039276 | 13250 rows processed \n",
      " 13:02:26.264378 | 13500 rows processed \n",
      " 13:02:26.427856 | 13750 rows processed \n",
      " 13:02:26.584721 | 14000 rows processed \n",
      " 13:02:26.752640 | 14250 rows processed \n",
      " 13:02:26.942411 | 14500 rows processed \n",
      " 13:02:27.091941 | 14750 rows processed \n",
      " 13:02:27.272754 | 15000 rows processed \n",
      " 13:02:27.440640 | 15250 rows processed \n",
      " 13:02:27.607718 | 15500 rows processed \n",
      " 13:02:27.797907 | 15750 rows processed \n",
      " 13:02:28.050751 | 16000 rows processed \n",
      " 13:02:28.223805 | 16250 rows processed \n",
      " 13:02:28.382787 | 16500 rows processed \n",
      " 13:02:28.543814 | 16750 rows processed \n",
      " 13:02:28.701717 | 17000 rows processed \n",
      " 13:02:28.875699 | 17250 rows processed \n",
      " 13:02:29.041688 | 17500 rows processed \n",
      " 13:02:29.194863 | 17750 rows processed \n",
      " 13:02:29.368109 | 18000 rows processed \n",
      " 13:02:29.526950 | 18250 rows processed \n",
      " 13:02:29.684616 | 18500 rows processed \n",
      " 13:02:29.879136 | 18750 rows processed \n",
      " 13:02:30.034039 | 19000 rows processed \n",
      " 13:02:30.182069 | 19250 rows processed \n",
      " 13:02:30.349984 | 19500 rows processed \n",
      " 13:02:30.517307 | 19750 rows processed \n",
      " 13:02:30.688591 | 20000 rows processed \n",
      " 13:02:30.859075 | 20250 rows processed \n"
     ]
    },
    {
     "name": "stderr",
     "output_type": "stream",
     "text": [
      "[13:02:30] WARNING:  Problems/mismatches: Mobile-H( Hydrogens: Locations or number; Mobile-H groups: Attachment points, Number)\n",
      "\n"
     ]
    },
    {
     "name": "stdout",
     "output_type": "stream",
     "text": [
      " 13:02:31.027238 | 20500 rows processed \n",
      " 13:02:31.196695 | 20750 rows processed \n",
      " 13:02:31.365424 | 21000 rows processed \n",
      " 13:02:31.531418 | 21250 rows processed \n",
      " 13:02:31.725400 | 21500 rows processed \n",
      " 13:02:31.895137 | 21750 rows processed \n",
      " 13:02:32.058036 | 22000 rows processed \n",
      " 13:02:32.229050 | 22250 rows processed \n",
      " 13:02:32.401063 | 22500 rows processed \n",
      " 13:02:32.576488 | 22750 rows processed \n",
      " 13:02:32.760233 | 23000 rows processed \n",
      " 13:02:32.954557 | 23250 rows processed \n",
      " 13:02:33.122573 | 23500 rows processed \n",
      " 13:02:33.317485 | 23750 rows processed \n",
      " 13:02:33.493161 | 24000 rows processed \n",
      " 13:02:33.674061 | 24250 rows processed \n"
     ]
    },
    {
     "name": "stderr",
     "output_type": "stream",
     "text": [
      "[13:02:33] WARNING:  Problems/mismatches: Mobile-H( Hydrogens: Locations or number, Number; Mobile-H groups: One instead of multiple, Attachment points, Number; Charge(s): Do not match)\n",
      "\n"
     ]
    },
    {
     "name": "stdout",
     "output_type": "stream",
     "text": [
      " 13:02:33.907443 | 24500 rows processed \n",
      " 13:02:34.105077 | 24750 rows processed \n",
      " 13:02:34.274211 | 25000 rows processed \n",
      " 13:02:34.427145 | 25250 rows processed \n",
      " 13:02:34.641612 | 25500 rows processed \n",
      " 13:02:34.814518 | 25750 rows processed \n",
      " 13:02:34.988448 | 26000 rows processed \n",
      " 13:02:35.168948 | 26250 rows processed \n",
      " 13:02:35.351073 | 26500 rows processed \n",
      " 13:02:35.510126 | 26750 rows processed \n",
      " 13:02:35.705788 | 27000 rows processed \n",
      " 13:02:35.897973 | 27250 rows processed \n",
      " 13:02:36.073112 | 27500 rows processed \n",
      " 13:02:36.261099 | 27750 rows processed \n",
      " 13:02:36.420189 | 28000 rows processed \n",
      " 13:02:36.592936 | 28250 rows processed \n",
      " 13:02:36.753783 | 28500 rows processed \n",
      " 13:02:36.924503 | 28750 rows processed \n"
     ]
    },
    {
     "name": "stderr",
     "output_type": "stream",
     "text": [
      "[13:02:37] WARNING:  Problems/mismatches: Mobile-H( Mobile-H groups: Attachment points, Number)\n",
      "\n"
     ]
    },
    {
     "name": "stdout",
     "output_type": "stream",
     "text": [
      " 13:02:37.180352 | 29000 rows processed \n",
      " 13:02:37.356500 | 29250 rows processed \n",
      " 13:02:37.515164 | 29500 rows processed \n",
      " 13:02:37.751358 | 29750 rows processed \n",
      " 13:02:37.913009 | 30000 rows processed \n",
      " 13:02:38.124025 | 30250 rows processed \n",
      " 13:02:38.305321 | 30500 rows processed \n"
     ]
    },
    {
     "name": "stderr",
     "output_type": "stream",
     "text": [
      "[13:02:38] WARNING:  Problems/mismatches: Mobile-H( Hydrogens: Locations or number, Number; Mobile-H groups: One instead of multiple, Attachment points, Number; Charge(s): Do not match; Proton balance: Does not match)\n",
      "\n",
      "[13:02:38] WARNING:  Problems/mismatches: Mobile-H( Hydrogens: Locations or number; Mobile-H groups: Attachment points, Number)\n",
      "\n"
     ]
    },
    {
     "name": "stdout",
     "output_type": "stream",
     "text": [
      " 13:02:38.459693 | 30750 rows processed \n",
      " 13:02:38.621891 | 31000 rows processed \n",
      " 13:02:38.839119 | 31250 rows processed \n",
      " 13:02:39.012668 | 31500 rows processed \n",
      " 13:02:39.171323 | 31750 rows processed \n",
      " 13:02:39.335187 | 32000 rows processed \n",
      " 13:02:39.509662 | 32250 rows processed \n",
      " 13:02:39.739939 | 32500 rows processed \n",
      " 13:02:39.931768 | 32750 rows processed \n",
      " 13:02:40.132026 | 33000 rows processed \n",
      " 13:02:40.338420 | 33250 rows processed \n",
      " 13:02:40.521145 | 33500 rows processed \n",
      " 13:02:40.678500 | 33750 rows processed \n",
      " 13:02:40.898083 | 34000 rows processed \n",
      " 13:02:41.076502 | 34250 rows processed \n",
      " 13:02:41.253010 | 34500 rows processed \n",
      " 13:02:41.442292 | 34750 rows processed \n",
      " 13:02:41.594986 | 35000 rows processed \n",
      " 13:02:41.750215 | 35250 rows processed \n"
     ]
    },
    {
     "name": "stderr",
     "output_type": "stream",
     "text": [
      "[13:02:41] WARNING:  Problems/mismatches: Mobile-H( Mobile-H groups: Attachment points, Number)\n",
      "\n"
     ]
    },
    {
     "name": "stdout",
     "output_type": "stream",
     "text": [
      " 13:02:41.921446 | 35500 rows processed \n",
      " 13:02:42.073106 | 35750 rows processed \n",
      " 13:02:42.233281 | 36000 rows processed \n",
      " 13:02:42.395156 | 36250 rows processed \n",
      " 13:02:42.565305 | 36500 rows processed \n",
      " 13:02:42.717142 | 36750 rows processed \n",
      " 13:02:42.870529 | 37000 rows processed \n",
      " 13:02:43.017290 | 37250 rows processed \n",
      " 13:02:43.173155 | 37500 rows processed \n",
      " 13:02:43.365669 | 37750 rows processed \n",
      " 13:02:43.516733 | 38000 rows processed \n",
      " 13:02:43.721335 | 38250 rows processed \n",
      " 13:02:43.876285 | 38500 rows processed \n",
      " 13:02:44.033932 | 38750 rows processed \n",
      " 13:02:44.291324 | 39000 rows processed \n",
      " 13:02:44.445369 | 39250 rows processed \n",
      " 13:02:44.621987 | 39500 rows processed \n",
      " 13:02:44.785001 | 39750 rows processed \n",
      " 13:02:44.967288 | 40000 rows processed \n",
      " 13:02:45.130452 | 40250 rows processed \n"
     ]
    },
    {
     "name": "stderr",
     "output_type": "stream",
     "text": [
      "[13:02:44] WARNING:  Problems/mismatches: Mobile-H( Mobile-H groups: One instead of multiple, Attachment points, Number)\n",
      "\n"
     ]
    },
    {
     "name": "stdout",
     "output_type": "stream",
     "text": [
      " 13:02:45.346515 | 40500 rows processed \n",
      " 13:02:45.497974 | 40750 rows processed \n"
     ]
    },
    {
     "name": "stderr",
     "output_type": "stream",
     "text": [
      "[13:02:45] WARNING:  Problems/mismatches: Mobile-H( Mobile-H groups: Attachment points, Number)\n",
      "\n",
      "[13:02:45] WARNING:  Problems/mismatches: Mobile-H( Hydrogens: Number; Mobile-H groups: One instead of multiple, Attachment points, Number; Charge(s): Do not match)\n",
      "\n"
     ]
    },
    {
     "name": "stdout",
     "output_type": "stream",
     "text": [
      " 13:02:45.652279 | 41000 rows processed \n",
      " 13:02:45.839353 | 41250 rows processed \n"
     ]
    },
    {
     "name": "stderr",
     "output_type": "stream",
     "text": [
      "[13:02:45] Unusual charge on atom 3 number of radical electrons set to zero\n"
     ]
    },
    {
     "name": "stdout",
     "output_type": "stream",
     "text": [
      " 13:02:46.001737 | 41500 rows processed \n",
      " 13:02:46.174713 | 41750 rows processed \n"
     ]
    },
    {
     "name": "stderr",
     "output_type": "stream",
     "text": [
      "[13:02:46] WARNING:  Problems/mismatches: Mobile-H( Hydrogens: Locations or number, Number; Mobile-H groups: One instead of multiple, Attachment points, Number; Charge(s): Do not match)\n",
      "\n"
     ]
    },
    {
     "name": "stdout",
     "output_type": "stream",
     "text": [
      " 13:02:46.334134 | 42000 rows processed \n",
      " 13:02:46.488781 | 42250 rows processed \n",
      " 13:02:46.678250 | 42500 rows processed \n",
      " 13:02:46.864431 | 42750 rows processed \n",
      " 13:02:47.103180 | 43000 rows processed \n",
      " 13:02:47.355117 | 43250 rows processed \n",
      " 13:02:47.532472 | 43500 rows processed \n",
      " 13:02:47.705696 | 43750 rows processed \n",
      " 13:02:47.877327 | 44000 rows processed \n",
      " 13:02:48.034122 | 44250 rows processed \n",
      " 13:02:48.284204 | 44500 rows processed \n",
      " 13:02:48.447140 | 44750 rows processed \n",
      " 13:02:48.609327 | 45000 rows processed \n",
      " 13:02:48.838375 | 45250 rows processed \n",
      " 13:02:49.018128 | 45500 rows processed \n",
      " 13:02:49.214118 | 45750 rows processed \n",
      " 13:02:49.382067 | 46000 rows processed \n",
      " 13:02:49.543918 | 46250 rows processed \n",
      " 13:02:49.721167 | 46500 rows processed \n",
      " 13:02:49.882744 | 46750 rows processed \n",
      " 13:02:50.064162 | 47000 rows processed \n"
     ]
    },
    {
     "name": "stderr",
     "output_type": "stream",
     "text": [
      "[13:02:49] WARNING:  Problems/mismatches: Mobile-H( Hydrogens: Locations or number, Number; Mobile-H groups: Attachment points, Number; Charge(s): Do not match)\n",
      "\n"
     ]
    },
    {
     "name": "stdout",
     "output_type": "stream",
     "text": [
      " 13:02:50.244549 | 47250 rows processed \n",
      " 13:02:50.400631 | 47500 rows processed \n",
      " 13:02:50.556616 | 47750 rows processed \n",
      " 13:02:50.733104 | 48000 rows processed \n",
      " 13:02:50.897226 | 48250 rows processed \n",
      " 13:02:51.065747 | 48500 rows processed \n",
      " 13:02:51.226676 | 48750 rows processed \n",
      " 13:02:51.379505 | 49000 rows processed \n",
      " 13:02:51.542184 | 49250 rows processed \n",
      " 13:02:51.723498 | 49500 rows processed \n",
      " 13:02:51.895204 | 49750 rows processed \n",
      " 13:02:52.070586 | 50000 rows processed \n",
      " 13:02:52.227581 | 50250 rows processed \n",
      " 13:02:52.386179 | 50500 rows processed \n",
      " 13:02:52.551225 | 50750 rows processed \n",
      " 13:02:52.738693 | 51000 rows processed \n",
      " 13:02:52.935025 | 51250 rows processed \n",
      " 13:02:53.091071 | 51500 rows processed \n",
      " 13:02:53.287012 | 51750 rows processed \n",
      " 13:02:53.452705 | 52000 rows processed \n",
      " 13:02:53.643979 | 52250 rows processed \n",
      " 13:02:53.829590 | 52500 rows processed \n",
      " 13:02:54.004015 | 52750 rows processed \n",
      " 13:02:54.164874 | 53000 rows processed \n",
      " 13:02:54.321122 | 53250 rows processed \n",
      " 13:02:54.485559 | 53500 rows processed \n",
      " 13:02:54.641123 | 53750 rows processed \n",
      " 13:02:54.807563 | 54000 rows processed \n",
      " 13:02:55.044923 | 54250 rows processed \n",
      " 13:02:55.284355 | 54500 rows processed \n",
      " 13:02:55.435145 | 54750 rows processed \n",
      " 13:02:55.659696 | 55000 rows processed \n",
      " 13:02:55.817701 | 55250 rows processed \n",
      " 13:02:56.003848 | 55500 rows processed \n",
      " 13:02:56.198834 | 55750 rows processed \n",
      " 13:02:56.361019 | 56000 rows processed \n",
      " 13:02:56.514394 | 56250 rows processed \n",
      " 13:02:56.696477 | 56500 rows processed \n",
      " 13:02:56.873424 | 56750 rows processed \n"
     ]
    },
    {
     "name": "stderr",
     "output_type": "stream",
     "text": [
      "[13:02:56] WARNING:  Problems/mismatches: Mobile-H( Hydrogens: Locations or number, Number; Mobile-H groups: One instead of multiple, Attachment points, Number; Charge(s): Do not match)\n",
      "\n"
     ]
    },
    {
     "name": "stdout",
     "output_type": "stream",
     "text": [
      " 13:02:57.035853 | 57000 rows processed \n",
      " 13:02:57.219372 | 57250 rows processed \n",
      " 13:02:57.388488 | 57500 rows processed \n",
      " 13:02:57.560911 | 57750 rows processed \n",
      " 13:02:57.714451 | 58000 rows processed \n",
      " 13:02:57.911671 | 58250 rows processed \n",
      " 13:02:58.088119 | 58500 rows processed \n",
      " 13:02:58.266985 | 58750 rows processed \n",
      " 13:02:58.424353 | 59000 rows processed \n",
      " 13:02:58.641307 | 59250 rows processed \n",
      " 13:02:58.825680 | 59500 rows processed \n",
      " 13:02:58.981247 | 59750 rows processed \n",
      " 13:02:59.139756 | 60000 rows processed \n",
      " 13:02:59.323402 | 60250 rows processed \n",
      " 13:02:59.475591 | 60500 rows processed \n",
      " 13:02:59.631731 | 60750 rows processed \n",
      " 13:02:59.787720 | 61000 rows processed \n",
      " 13:02:59.944715 | 61250 rows processed \n",
      " 13:03:00.107851 | 61500 rows processed \n",
      " 13:03:00.283209 | 61750 rows processed \n",
      " 13:03:00.449748 | 62000 rows processed \n",
      " 13:03:00.601830 | 62250 rows processed \n",
      " 13:03:00.776812 | 62500 rows processed \n",
      " 13:03:00.943067 | 62750 rows processed \n",
      " 13:03:01.110685 | 63000 rows processed \n",
      " 13:03:01.279692 | 63250 rows processed \n",
      " 13:03:01.443799 | 63500 rows processed \n",
      " 13:03:01.620228 | 63750 rows processed \n",
      " 13:03:01.779040 | 64000 rows processed \n",
      " 13:03:01.951552 | 64250 rows processed \n",
      " 13:03:02.123662 | 64500 rows processed \n",
      " 13:03:02.309295 | 64750 rows processed \n",
      " 13:03:02.482659 | 65000 rows processed \n",
      " 13:03:02.645576 | 65250 rows processed \n",
      " 13:03:02.819537 | 65500 rows processed \n",
      " 13:03:02.995008 | 65750 rows processed \n",
      " 13:03:03.150751 | 66000 rows processed \n",
      " 13:03:03.332116 | 66250 rows processed \n",
      " 13:03:03.509329 | 66500 rows processed \n",
      " 13:03:03.694955 | 66750 rows processed \n",
      " 13:03:03.860063 | 67000 rows processed \n",
      " 13:03:04.032489 | 67250 rows processed \n",
      " 13:03:04.183463 | 67500 rows processed \n",
      " 13:03:04.347205 | 67750 rows processed \n",
      " 13:03:04.518927 | 68000 rows processed \n",
      " 13:03:04.691149 | 68250 rows processed \n",
      " 13:03:04.863506 | 68500 rows processed \n",
      " 13:03:05.039316 | 68750 rows processed \n",
      " 13:03:05.206507 | 69000 rows processed \n",
      " 13:03:05.371446 | 69250 rows processed \n",
      " 13:03:05.516923 | 69500 rows processed \n",
      " 13:03:05.687492 | 69750 rows processed \n",
      " 13:03:05.838103 | 70000 rows processed \n",
      " 13:03:06.029042 | 70250 rows processed \n",
      " 13:03:06.220034 | 70500 rows processed \n",
      " 13:03:06.392150 | 70750 rows processed \n",
      " 13:03:06.568826 | 71000 rows processed \n",
      " 13:03:06.731141 | 71250 rows processed \n",
      " 13:03:06.918006 | 71500 rows processed \n",
      " 13:03:07.079308 | 71750 rows processed \n",
      " 13:03:07.256982 | 72000 rows processed \n",
      " 13:03:07.402155 | 72250 rows processed \n",
      " 13:03:07.560188 | 72500 rows processed \n",
      " 13:03:07.726377 | 72750 rows processed \n",
      " 13:03:07.882434 | 73000 rows processed \n",
      " 13:03:08.037575 | 73250 rows processed \n",
      " 13:03:08.286622 | 73500 rows processed \n",
      " 13:03:08.453908 | 73750 rows processed \n",
      " 13:03:08.604221 | 74000 rows processed \n",
      " 13:03:08.760281 | 74250 rows processed \n",
      " 13:03:08.934781 | 74500 rows processed \n",
      " 13:03:09.110032 | 74750 rows processed \n",
      " 13:03:09.266213 | 75000 rows processed \n",
      " 13:03:09.436930 | 75250 rows processed \n"
     ]
    },
    {
     "name": "stderr",
     "output_type": "stream",
     "text": [
      "[13:03:09] WARNING:  Problems/mismatches: Mobile-H( Hydrogens: Locations or number, Number; Mobile-H groups: One instead of multiple, Attachment points, Number; Charge(s): Do not match)\n",
      "\n"
     ]
    },
    {
     "name": "stdout",
     "output_type": "stream",
     "text": [
      " 13:03:09.623435 | 75500 rows processed \n",
      " 13:03:09.790829 | 75750 rows processed \n",
      " 13:03:09.960380 | 76000 rows processed \n",
      " 13:03:10.136597 | 76250 rows processed \n"
     ]
    },
    {
     "name": "stderr",
     "output_type": "stream",
     "text": [
      "[13:03:10] WARNING:  Problems/mismatches: Mobile-H( Hydrogens: Locations or number, Number; Mobile-H groups: One instead of multiple, Attachment points, Number; Charge(s): Do not match; Proton balance: Does not match)\n",
      "\n",
      "[13:03:10] WARNING:  Problems/mismatches: Mobile-H( Hydrogens: Number; Mobile-H groups: One instead of multiple, Attachment points, Number; Charge(s): Do not match)\n",
      "\n"
     ]
    },
    {
     "name": "stdout",
     "output_type": "stream",
     "text": [
      " 13:03:10.300252 | 76500 rows processed \n",
      " 13:03:10.458732 | 76750 rows processed \n",
      " 13:03:10.610563 | 77000 rows processed \n",
      " 13:03:10.807506 | 77250 rows processed \n",
      " 13:03:10.967342 | 77500 rows processed \n",
      " 13:03:11.209057 | 77750 rows processed \n",
      " 13:03:11.375703 | 78000 rows processed \n",
      " 13:03:11.526803 | 78250 rows processed \n",
      " 13:03:11.696386 | 78500 rows processed \n",
      " 13:03:11.862989 | 78750 rows processed \n",
      " 13:03:12.021768 | 79000 rows processed \n",
      " 13:03:12.209123 | 79250 rows processed \n",
      " 13:03:12.400900 | 79500 rows processed \n",
      " 13:03:12.576858 | 79750 rows processed \n",
      " 13:03:12.722076 | 80000 rows processed \n"
     ]
    },
    {
     "name": "stderr",
     "output_type": "stream",
     "text": [
      "[13:03:12] WARNING:  Problems/mismatches: Mobile-H( Hydrogens: Number; Mobile-H groups: Number; Charge(s): Do not match)\n",
      "\n"
     ]
    },
    {
     "name": "stdout",
     "output_type": "stream",
     "text": [
      " 13:03:12.893403 | 80250 rows processed \n",
      " 13:03:13.059188 | 80500 rows processed \n"
     ]
    },
    {
     "name": "stderr",
     "output_type": "stream",
     "text": [
      "[13:03:13] WARNING:  Problems/mismatches: Mobile-H( Hydrogens: Locations or number; Mobile-H groups: Missing, Attachment points)\n",
      "\n"
     ]
    },
    {
     "name": "stdout",
     "output_type": "stream",
     "text": [
      " 13:03:13.224463 | 80750 rows processed \n",
      " 13:03:13.393302 | 81000 rows processed \n",
      " 13:03:13.552051 | 81250 rows processed \n",
      " 13:03:13.738474 | 81500 rows processed \n",
      " 13:03:13.993490 | 81750 rows processed \n",
      " 13:03:14.178739 | 82000 rows processed \n",
      " 13:03:14.343055 | 82250 rows processed \n",
      " 13:03:14.512476 | 82500 rows processed \n"
     ]
    },
    {
     "name": "stderr",
     "output_type": "stream",
     "text": [
      "[13:03:14] WARNING:  Problems/mismatches: Mobile-H( Hydrogens: Locations or number; Mobile-H groups: One instead of multiple, Attachment points, Number)\n",
      "\n"
     ]
    },
    {
     "name": "stdout",
     "output_type": "stream",
     "text": [
      " 13:03:14.673199 | 82750 rows processed \n",
      " 13:03:14.843161 | 83000 rows processed \n",
      " 13:03:15.025372 | 83250 rows processed \n",
      " 13:03:15.188511 | 83500 rows processed \n",
      " 13:03:15.355810 | 83750 rows processed \n",
      " 13:03:15.500544 | 84000 rows processed \n",
      " 13:03:15.655286 | 84250 rows processed \n",
      " 13:03:15.826422 | 84500 rows processed \n",
      " 13:03:15.982033 | 84750 rows processed \n",
      " 13:03:16.157192 | 85000 rows processed \n",
      " 13:03:16.319858 | 85250 rows processed \n",
      " 13:03:16.475118 | 85500 rows processed \n",
      " 13:03:16.675199 | 85750 rows processed \n",
      " 13:03:16.852085 | 86000 rows processed \n",
      " 13:03:17.028509 | 86250 rows processed \n",
      " 13:03:17.211307 | 86500 rows processed \n",
      " 13:03:17.384877 | 86750 rows processed \n",
      " 13:03:17.538886 | 87000 rows processed \n",
      " 13:03:17.699391 | 87250 rows processed \n",
      " 13:03:17.879270 | 87500 rows processed \n",
      " 13:03:18.093242 | 87750 rows processed \n",
      " 13:03:18.273044 | 88000 rows processed \n",
      " 13:03:18.429238 | 88250 rows processed \n",
      " 13:03:18.598373 | 88500 rows processed \n",
      " 13:03:18.748676 | 88750 rows processed \n",
      " 13:03:18.925995 | 89000 rows processed \n",
      " 13:03:19.111201 | 89250 rows processed \n",
      " 13:03:19.269188 | 89500 rows processed \n",
      " 13:03:19.421552 | 89750 rows processed \n",
      " 13:03:19.624151 | 90000 rows processed \n",
      " 13:03:19.803232 | 90250 rows processed \n",
      " 13:03:19.956319 | 90500 rows processed \n",
      " 13:03:20.164533 | 90750 rows processed \n",
      " 13:03:20.331429 | 91000 rows processed \n",
      " 13:03:20.490968 | 91250 rows processed \n",
      " 13:03:20.655346 | 91500 rows processed \n",
      " 13:03:20.815453 | 91750 rows processed \n",
      " 13:03:20.969158 | 92000 rows processed \n",
      " 13:03:21.136732 | 92250 rows processed \n",
      " 13:03:21.308457 | 92500 rows processed \n",
      " 13:03:21.467272 | 92750 rows processed \n",
      " 13:03:21.642371 | 93000 rows processed \n",
      " 13:03:21.796306 | 93250 rows processed \n",
      " 13:03:21.954599 | 93500 rows processed \n",
      " 13:03:22.139846 | 93750 rows processed \n",
      " 13:03:22.321388 | 94000 rows processed \n",
      " 13:03:22.496839 | 94250 rows processed \n",
      " 13:03:22.656091 | 94500 rows processed \n",
      " 13:03:22.812406 | 94750 rows processed \n",
      " 13:03:22.971122 | 95000 rows processed \n",
      " 13:03:23.137623 | 95250 rows processed \n",
      " 13:03:23.301756 | 95500 rows processed \n",
      " 13:03:23.481002 | 95750 rows processed \n",
      " 13:03:23.629718 | 96000 rows processed \n",
      " 13:03:23.801485 | 96250 rows processed \n",
      " 13:03:23.958657 | 96500 rows processed \n"
     ]
    },
    {
     "name": "stderr",
     "output_type": "stream",
     "text": [
      "[13:03:23] WARNING:  Problems/mismatches: Mobile-H( Mobile-H groups: Multiple instead of one, Number)\n",
      "\n"
     ]
    },
    {
     "name": "stdout",
     "output_type": "stream",
     "text": [
      " 13:03:24.129172 | 96750 rows processed \n",
      " 13:03:24.307008 | 97000 rows processed \n"
     ]
    },
    {
     "name": "stderr",
     "output_type": "stream",
     "text": [
      "[13:03:24] WARNING:  Problems/mismatches: Mobile-H( Mobile-H groups: Attachment points, Number)\n",
      "\n"
     ]
    },
    {
     "name": "stdout",
     "output_type": "stream",
     "text": [
      " 13:03:24.452444 | 97250 rows processed \n",
      " 13:03:24.623062 | 97500 rows processed \n",
      " 13:03:24.777451 | 97750 rows processed \n",
      " 13:03:24.940476 | 98000 rows processed \n",
      " 13:03:25.094202 | 98250 rows processed \n",
      " 13:03:25.268745 | 98500 rows processed \n",
      " 13:03:25.427405 | 98750 rows processed \n",
      " 13:03:25.584497 | 99000 rows processed \n",
      " 13:03:25.747495 | 99250 rows processed \n",
      " 13:03:25.911510 | 99500 rows processed \n"
     ]
    },
    {
     "name": "stderr",
     "output_type": "stream",
     "text": [
      "[13:03:25] WARNING:  Problems/mismatches: Mobile-H( Hydrogens: Number; Mobile-H groups: Missing, Attachment points; Charge(s): Do not match; Proton balance: Does not match)\n",
      "\n"
     ]
    },
    {
     "name": "stdout",
     "output_type": "stream",
     "text": [
      " 13:03:26.160247 | 99750 rows processed \n",
      " 13:03:26.328366 | 100000 rows processed \n",
      " 13:03:26.477865 | 100250 rows processed \n",
      " 13:03:26.636527 | 100500 rows processed \n",
      " 13:03:26.790769 | 100750 rows processed \n",
      " 13:03:26.951638 | 101000 rows processed \n",
      " 13:03:27.128467 | 101250 rows processed \n",
      " 13:03:27.276850 | 101500 rows processed \n",
      " 13:03:27.445105 | 101750 rows processed \n",
      " 13:03:27.609110 | 102000 rows processed \n",
      " 13:03:27.784106 | 102250 rows processed \n",
      " 13:03:27.950252 | 102500 rows processed \n",
      " 13:03:28.125464 | 102750 rows processed \n",
      " 13:03:28.317967 | 103000 rows processed \n",
      " 13:03:28.474796 | 103250 rows processed \n",
      " 13:03:28.712957 | 103500 rows processed \n",
      " 13:03:28.878932 | 103750 rows processed \n",
      " 13:03:29.044610 | 104000 rows processed \n",
      " 13:03:29.267991 | 104250 rows processed \n",
      " 13:03:29.425559 | 104500 rows processed \n",
      " 13:03:29.583136 | 104750 rows processed \n",
      " 13:03:29.898423 | 105000 rows processed \n",
      " 13:03:30.054779 | 105250 rows processed \n",
      " 13:03:30.227230 | 105500 rows processed \n",
      " 13:03:30.382767 | 105750 rows processed \n"
     ]
    },
    {
     "name": "stderr",
     "output_type": "stream",
     "text": [
      "[13:03:30] WARNING:  Problems/mismatches: Mobile-H( Mobile-H groups: Attachment points, Number)\n",
      "\n"
     ]
    },
    {
     "name": "stdout",
     "output_type": "stream",
     "text": [
      " 13:03:30.570334 | 106000 rows processed \n",
      " 13:03:30.731058 | 106250 rows processed \n"
     ]
    },
    {
     "name": "stderr",
     "output_type": "stream",
     "text": [
      "[13:03:30] WARNING:  Problems/mismatches: Mobile-H( Hydrogens: Number; Mobile-H groups: One instead of multiple, Number; Charge(s): Do not match; Proton balance: Does not match)\n",
      "\n"
     ]
    },
    {
     "name": "stdout",
     "output_type": "stream",
     "text": [
      " 13:03:30.899831 | 106500 rows processed \n",
      " 13:03:31.189141 | 106750 rows processed \n",
      " 13:03:31.376370 | 107000 rows processed \n",
      " 13:03:31.538294 | 107250 rows processed \n",
      " 13:03:31.694588 | 107500 rows processed \n",
      " 13:03:31.857877 | 107750 rows processed \n",
      " 13:03:32.009437 | 108000 rows processed \n",
      " 13:03:32.162614 | 108250 rows processed \n",
      " 13:03:32.311035 | 108500 rows processed \n",
      " 13:03:32.478209 | 108750 rows processed \n",
      " 13:03:32.640289 | 109000 rows processed \n"
     ]
    },
    {
     "name": "stderr",
     "output_type": "stream",
     "text": [
      "[13:03:32] WARNING:  Problems/mismatches: Mobile-H( Mobile-H groups: Attachment points, Number)\n",
      "\n"
     ]
    },
    {
     "name": "stdout",
     "output_type": "stream",
     "text": [
      " 13:03:32.808049 | 109250 rows processed \n",
      " 13:03:32.972864 | 109500 rows processed \n",
      " 13:03:33.141299 | 109750 rows processed \n",
      " 13:03:33.318736 | 110000 rows processed \n"
     ]
    },
    {
     "name": "stderr",
     "output_type": "stream",
     "text": [
      "[13:03:33] WARNING:  Problems/mismatches: Mobile-H( Mobile-H groups: Attachment points, Number)\n",
      "\n"
     ]
    },
    {
     "name": "stdout",
     "output_type": "stream",
     "text": [
      " 13:03:33.472691 | 110250 rows processed \n"
     ]
    },
    {
     "name": "stderr",
     "output_type": "stream",
     "text": [
      "[13:03:33] WARNING:  Problems/mismatches: Mobile-H( Hydrogens: Number; Mobile-H groups: One instead of multiple, Attachment points, Number; Charge(s): Do not match)\n",
      "\n"
     ]
    },
    {
     "name": "stdout",
     "output_type": "stream",
     "text": [
      " 13:03:33.767819 | 110500 rows processed \n",
      " 13:03:33.958992 | 110750 rows processed \n",
      " 13:03:34.181304 | 111000 rows processed \n",
      " 13:03:34.342316 | 111250 rows processed \n",
      " 13:03:34.533229 | 111500 rows processed \n",
      " 13:03:34.710644 | 111750 rows processed \n",
      " 13:03:35.012073 | 112000 rows processed \n",
      " 13:03:35.230966 | 112250 rows processed \n",
      " 13:03:35.418816 | 112500 rows processed \n",
      " 13:03:35.577153 | 112750 rows processed \n",
      " 13:03:35.735569 | 113000 rows processed \n",
      " 13:03:36.014660 | 113250 rows processed \n",
      " 13:03:36.203216 | 113500 rows processed \n",
      " 13:03:36.371027 | 113750 rows processed \n",
      " 13:03:36.542381 | 114000 rows processed \n",
      " 13:03:36.711641 | 114250 rows processed \n",
      " 13:03:36.862418 | 114500 rows processed \n",
      " 13:03:37.139658 | 114750 rows processed \n",
      " 13:03:37.336764 | 115000 rows processed \n",
      " 13:03:37.488004 | 115250 rows processed \n",
      " 13:03:37.628652 | 115500 rows processed \n",
      " 13:03:37.858038 | 115750 rows processed \n",
      " 13:03:38.022740 | 116000 rows processed \n",
      " 13:03:38.268118 | 116250 rows processed \n",
      " 13:03:38.420099 | 116500 rows processed \n",
      " 13:03:38.636696 | 116750 rows processed \n",
      "\n",
      " ------------------------------------------------------------------------- \n",
      " Results of processing   \n",
      " ------------------------------------------------------------------------- \n",
      "                                          Total Input: 116751\n",
      " rows with missing InChiKey in input                 :      0  \n",
      " rows with no MOL object returned from RDKit         :      0       \n",
      " rows with valid MOL                                 : 116751   \n",
      " rows with TPSA not calculated                       :      0    \n",
      " rows with with valid TPSA                           : 116751\n",
      " ------------------------------------------------------------------------- \n",
      "\n",
      "\n"
     ]
    }
   ],
   "source": [
    "## Get mol and SMILES for each InChI in the input file \n",
    "df_tpsa = getTPSAFromRDKit(df, limit = -1, append_col=True, verbose = False)\n"
   ]
  },
  {
   "cell_type": "markdown",
   "id": "b578f3ff",
   "metadata": {
    "ExecuteTime": {
     "end_time": "2023-05-24T15:12:06.272966Z",
     "start_time": "2023-05-24T15:12:06.261113Z"
    },
    "hidden": true,
    "jp-MarkdownHeadingCollapsed": true
   },
   "source": [
    "### Check metadata dataframe "
   ]
  },
  {
   "cell_type": "code",
   "execution_count": 20,
   "id": "b7cf1ff7",
   "metadata": {
    "ExecuteTime": {
     "end_time": "2023-06-28T19:19:42.445738Z",
     "start_time": "2023-06-28T19:19:42.309038Z"
    },
    "execution": {
     "iopub.execute_input": "2023-11-10T21:06:50.226204Z",
     "iopub.status.busy": "2023-11-10T21:06:50.225880Z",
     "iopub.status.idle": "2023-11-10T21:06:50.335172Z",
     "shell.execute_reply": "2023-11-10T21:06:50.334496Z",
     "shell.execute_reply.started": "2023-11-10T21:06:50.226175Z"
    },
    "hidden": true,
    "scrolled": true
   },
   "outputs": [
    {
     "name": "stdout",
     "output_type": "stream",
     "text": [
      "<class 'pandas.core.frame.DataFrame'>\n",
      "Int64Index: 116751 entries, 0 to 116751\n",
      "Data columns (total 5 columns):\n",
      " #   Column             Non-Null Count   Dtype \n",
      "---  ------             --------------   ----- \n",
      " 0   Metadata_JCP2022   116751 non-null  object\n",
      " 1   Metadata_InChIKey  116751 non-null  object\n",
      " 2   Metadata_InChI     116751 non-null  object\n",
      " 3   smiles             116751 non-null  object\n",
      " 4   TPSA               116751 non-null  object\n",
      "dtypes: object(5)\n",
      "memory usage: 9.4+ MB\n"
     ]
    },
    {
     "data": {
      "text/html": [
       "<div>\n",
       "<style scoped>\n",
       "    .dataframe tbody tr th:only-of-type {\n",
       "        vertical-align: middle;\n",
       "    }\n",
       "\n",
       "    .dataframe tbody tr th {\n",
       "        vertical-align: top;\n",
       "    }\n",
       "\n",
       "    .dataframe thead th {\n",
       "        text-align: right;\n",
       "    }\n",
       "</style>\n",
       "<table border=\"1\" class=\"dataframe\">\n",
       "  <thead>\n",
       "    <tr style=\"text-align: right;\">\n",
       "      <th></th>\n",
       "      <th>Metadata_JCP2022</th>\n",
       "      <th>Metadata_InChIKey</th>\n",
       "      <th>Metadata_InChI</th>\n",
       "      <th>smiles</th>\n",
       "      <th>TPSA</th>\n",
       "    </tr>\n",
       "  </thead>\n",
       "  <tbody>\n",
       "    <tr>\n",
       "      <th>0</th>\n",
       "      <td>JCP2022_000001</td>\n",
       "      <td>AAAHWCWPZPSPIW-UHFFFAOYSA-N</td>\n",
       "      <td>InChI=1S/C25H31N5O2/c1-4-23-26-14-16-30(23)24-...</td>\n",
       "      <td>CCC1=NC=CN1c2cccc(n2)C3CCCN3C(=O)c4ccc(cc4)OCC...</td>\n",
       "      <td>63.49</td>\n",
       "    </tr>\n",
       "    <tr>\n",
       "      <th>1</th>\n",
       "      <td>JCP2022_000002</td>\n",
       "      <td>AAAJHRMBUHXWLD-UHFFFAOYSA-N</td>\n",
       "      <td>InChI=1S/C11H13ClN2O/c12-10-4-2-9(3-5-10)8-14-...</td>\n",
       "      <td>OC1=NCCCN1Cc2ccc(Cl)cc2</td>\n",
       "      <td>35.83</td>\n",
       "    </tr>\n",
       "    <tr>\n",
       "      <th>2</th>\n",
       "      <td>JCP2022_000003</td>\n",
       "      <td>AAALVYBICLMAMA-UHFFFAOYSA-N</td>\n",
       "      <td>InChI=1S/C20H15N3O2/c24-19-15-11-17(21-13-7-3-...</td>\n",
       "      <td>OC2=NC(=O)c3cc(Nc1ccccc1)c(cc23)Nc4ccccc4</td>\n",
       "      <td>73.72</td>\n",
       "    </tr>\n",
       "  </tbody>\n",
       "</table>\n",
       "</div>"
      ],
      "text/plain": [
       "  Metadata_JCP2022            Metadata_InChIKey                                     Metadata_InChI  \\\n",
       "0   JCP2022_000001  AAAHWCWPZPSPIW-UHFFFAOYSA-N  InChI=1S/C25H31N5O2/c1-4-23-26-14-16-30(23)24-...   \n",
       "1   JCP2022_000002  AAAJHRMBUHXWLD-UHFFFAOYSA-N  InChI=1S/C11H13ClN2O/c12-10-4-2-9(3-5-10)8-14-...   \n",
       "2   JCP2022_000003  AAALVYBICLMAMA-UHFFFAOYSA-N  InChI=1S/C20H15N3O2/c24-19-15-11-17(21-13-7-3-...   \n",
       "\n",
       "                                              smiles   TPSA  \n",
       "0  CCC1=NC=CN1c2cccc(n2)C3CCCN3C(=O)c4ccc(cc4)OCC...  63.49  \n",
       "1                            OC1=NCCCN1Cc2ccc(Cl)cc2  35.83  \n",
       "2          OC2=NC(=O)c3cc(Nc1ccccc1)c(cc23)Nc4ccccc4  73.72  "
      ]
     },
     "execution_count": 20,
     "metadata": {},
     "output_type": "execute_result"
    },
    {
     "data": {
      "text/html": [
       "<div>\n",
       "<style scoped>\n",
       "    .dataframe tbody tr th:only-of-type {\n",
       "        vertical-align: middle;\n",
       "    }\n",
       "\n",
       "    .dataframe tbody tr th {\n",
       "        vertical-align: top;\n",
       "    }\n",
       "\n",
       "    .dataframe thead th {\n",
       "        text-align: right;\n",
       "    }\n",
       "</style>\n",
       "<table border=\"1\" class=\"dataframe\">\n",
       "  <thead>\n",
       "    <tr style=\"text-align: right;\">\n",
       "      <th></th>\n",
       "      <th>Metadata_JCP2022</th>\n",
       "      <th>Metadata_InChIKey</th>\n",
       "      <th>Metadata_InChI</th>\n",
       "      <th>smiles</th>\n",
       "      <th>TPSA</th>\n",
       "    </tr>\n",
       "  </thead>\n",
       "  <tbody>\n",
       "    <tr>\n",
       "      <th>116749</th>\n",
       "      <td>JCP2022_116751</td>\n",
       "      <td>ZZZUOLMMTJKOGE-UHFFFAOYSA-N</td>\n",
       "      <td>InChI=1S/C19H17N5O2/c1-23-9-6-13-7-10-24(19(26...</td>\n",
       "      <td>CN4C=CC3C=CN(CCN=C(O)c2cnc1ccccc1n2)C(=O)C=34</td>\n",
       "      <td>85.3</td>\n",
       "    </tr>\n",
       "    <tr>\n",
       "      <th>116750</th>\n",
       "      <td>JCP2022_116752</td>\n",
       "      <td>ZZZZIBSVRUABIA-UHFFFAOYSA-N</td>\n",
       "      <td>InChI=1S/C19H13F6N3O2S/c1-11-26-6-5-17(27-11)1...</td>\n",
       "      <td>Cc1nccc(n1)c2cccc(c2)NS(=O)(=O)c3cc(cc(c3)C(F)...</td>\n",
       "      <td>71.95</td>\n",
       "    </tr>\n",
       "    <tr>\n",
       "      <th>116751</th>\n",
       "      <td>JCP2022_116753</td>\n",
       "      <td>ZZZZVNLQWWXZTQ-UHFFFAOYSA-N</td>\n",
       "      <td>InChI=1S/C14H20N2O3/c1-18-13-5-3-2-4-12(13)14(...</td>\n",
       "      <td>COc1ccccc1C(O)=NCCN2CCOCC2</td>\n",
       "      <td>54.29</td>\n",
       "    </tr>\n",
       "  </tbody>\n",
       "</table>\n",
       "</div>"
      ],
      "text/plain": [
       "       Metadata_JCP2022            Metadata_InChIKey                                     Metadata_InChI  \\\n",
       "116749   JCP2022_116751  ZZZUOLMMTJKOGE-UHFFFAOYSA-N  InChI=1S/C19H17N5O2/c1-23-9-6-13-7-10-24(19(26...   \n",
       "116750   JCP2022_116752  ZZZZIBSVRUABIA-UHFFFAOYSA-N  InChI=1S/C19H13F6N3O2S/c1-11-26-6-5-17(27-11)1...   \n",
       "116751   JCP2022_116753  ZZZZVNLQWWXZTQ-UHFFFAOYSA-N  InChI=1S/C14H20N2O3/c1-18-13-5-3-2-4-12(13)14(...   \n",
       "\n",
       "                                                   smiles   TPSA  \n",
       "116749      CN4C=CC3C=CN(CCN=C(O)c2cnc1ccccc1n2)C(=O)C=34   85.3  \n",
       "116750  Cc1nccc(n1)c2cccc(c2)NS(=O)(=O)c3cc(cc(c3)C(F)...  71.95  \n",
       "116751                         COc1ccccc1C(O)=NCCN2CCOCC2  54.29  "
      ]
     },
     "execution_count": 20,
     "metadata": {},
     "output_type": "execute_result"
    },
    {
     "data": {
      "text/html": [
       "<div>\n",
       "<style scoped>\n",
       "    .dataframe tbody tr th:only-of-type {\n",
       "        vertical-align: middle;\n",
       "    }\n",
       "\n",
       "    .dataframe tbody tr th {\n",
       "        vertical-align: top;\n",
       "    }\n",
       "\n",
       "    .dataframe thead th {\n",
       "        text-align: right;\n",
       "    }\n",
       "</style>\n",
       "<table border=\"1\" class=\"dataframe\">\n",
       "  <thead>\n",
       "    <tr style=\"text-align: right;\">\n",
       "      <th></th>\n",
       "      <th>Metadata_JCP2022</th>\n",
       "      <th>Metadata_InChIKey</th>\n",
       "      <th>Metadata_InChI</th>\n",
       "      <th>smiles</th>\n",
       "      <th>TPSA</th>\n",
       "    </tr>\n",
       "  </thead>\n",
       "  <tbody>\n",
       "  </tbody>\n",
       "</table>\n",
       "</div>"
      ],
      "text/plain": [
       "Empty DataFrame\n",
       "Columns: [Metadata_JCP2022, Metadata_InChIKey, Metadata_InChI, smiles, TPSA]\n",
       "Index: []"
      ]
     },
     "execution_count": 20,
     "metadata": {},
     "output_type": "execute_result"
    }
   ],
   "source": [
    "df.info()\n",
    "df.head(3)\n",
    "df.tail(3)\n",
    "\n",
    "df[df['TPSA'].isna()]"
   ]
  },
  {
   "cell_type": "code",
   "execution_count": 22,
   "id": "7e8c2be7",
   "metadata": {
    "ExecuteTime": {
     "end_time": "2023-06-28T19:19:52.515740Z",
     "start_time": "2023-06-28T19:19:52.435565Z"
    },
    "execution": {
     "iopub.execute_input": "2023-11-10T21:08:44.699062Z",
     "iopub.status.busy": "2023-11-10T21:08:44.698748Z",
     "iopub.status.idle": "2023-11-10T21:08:44.734756Z",
     "shell.execute_reply": "2023-11-10T21:08:44.734118Z",
     "shell.execute_reply.started": "2023-11-10T21:08:44.699044Z"
    },
    "hidden": true
   },
   "outputs": [
    {
     "name": "stdout",
     "output_type": "stream",
     "text": [
      "<class 'pandas.core.frame.DataFrame'>\n",
      "RangeIndex: 116751 entries, 0 to 116750\n",
      "Data columns (total 2 columns):\n",
      " #   Column   Non-Null Count   Dtype  \n",
      "---  ------   --------------   -----  \n",
      " 0   JCP2022  116751 non-null  object \n",
      " 1   TPSA     116751 non-null  float64\n",
      "dtypes: float64(1), object(1)\n",
      "memory usage: 1.8+ MB\n"
     ]
    },
    {
     "data": {
      "text/html": [
       "<div>\n",
       "<style scoped>\n",
       "    .dataframe tbody tr th:only-of-type {\n",
       "        vertical-align: middle;\n",
       "    }\n",
       "\n",
       "    .dataframe tbody tr th {\n",
       "        vertical-align: top;\n",
       "    }\n",
       "\n",
       "    .dataframe thead th {\n",
       "        text-align: right;\n",
       "    }\n",
       "</style>\n",
       "<table border=\"1\" class=\"dataframe\">\n",
       "  <thead>\n",
       "    <tr style=\"text-align: right;\">\n",
       "      <th></th>\n",
       "      <th>JCP2022</th>\n",
       "      <th>TPSA</th>\n",
       "    </tr>\n",
       "  </thead>\n",
       "  <tbody>\n",
       "    <tr>\n",
       "      <th>0</th>\n",
       "      <td>JCP2022_000001</td>\n",
       "      <td>63.49</td>\n",
       "    </tr>\n",
       "    <tr>\n",
       "      <th>1</th>\n",
       "      <td>JCP2022_000002</td>\n",
       "      <td>35.83</td>\n",
       "    </tr>\n",
       "    <tr>\n",
       "      <th>2</th>\n",
       "      <td>JCP2022_000003</td>\n",
       "      <td>73.72</td>\n",
       "    </tr>\n",
       "  </tbody>\n",
       "</table>\n",
       "</div>"
      ],
      "text/plain": [
       "          JCP2022   TPSA\n",
       "0  JCP2022_000001  63.49\n",
       "1  JCP2022_000002  35.83\n",
       "2  JCP2022_000003  73.72"
      ]
     },
     "execution_count": 22,
     "metadata": {},
     "output_type": "execute_result"
    },
    {
     "data": {
      "text/html": [
       "<div>\n",
       "<style scoped>\n",
       "    .dataframe tbody tr th:only-of-type {\n",
       "        vertical-align: middle;\n",
       "    }\n",
       "\n",
       "    .dataframe tbody tr th {\n",
       "        vertical-align: top;\n",
       "    }\n",
       "\n",
       "    .dataframe thead th {\n",
       "        text-align: right;\n",
       "    }\n",
       "</style>\n",
       "<table border=\"1\" class=\"dataframe\">\n",
       "  <thead>\n",
       "    <tr style=\"text-align: right;\">\n",
       "      <th></th>\n",
       "      <th>JCP2022</th>\n",
       "      <th>TPSA</th>\n",
       "    </tr>\n",
       "  </thead>\n",
       "  <tbody>\n",
       "    <tr>\n",
       "      <th>116748</th>\n",
       "      <td>JCP2022_116751</td>\n",
       "      <td>85.30</td>\n",
       "    </tr>\n",
       "    <tr>\n",
       "      <th>116749</th>\n",
       "      <td>JCP2022_116752</td>\n",
       "      <td>71.95</td>\n",
       "    </tr>\n",
       "    <tr>\n",
       "      <th>116750</th>\n",
       "      <td>JCP2022_116753</td>\n",
       "      <td>54.29</td>\n",
       "    </tr>\n",
       "  </tbody>\n",
       "</table>\n",
       "</div>"
      ],
      "text/plain": [
       "               JCP2022   TPSA\n",
       "116748  JCP2022_116751  85.30\n",
       "116749  JCP2022_116752  71.95\n",
       "116750  JCP2022_116753  54.29"
      ]
     },
     "execution_count": 22,
     "metadata": {},
     "output_type": "execute_result"
    },
    {
     "data": {
      "text/html": [
       "<div>\n",
       "<style scoped>\n",
       "    .dataframe tbody tr th:only-of-type {\n",
       "        vertical-align: middle;\n",
       "    }\n",
       "\n",
       "    .dataframe tbody tr th {\n",
       "        vertical-align: top;\n",
       "    }\n",
       "\n",
       "    .dataframe thead th {\n",
       "        text-align: right;\n",
       "    }\n",
       "</style>\n",
       "<table border=\"1\" class=\"dataframe\">\n",
       "  <thead>\n",
       "    <tr style=\"text-align: right;\">\n",
       "      <th></th>\n",
       "      <th>JCP2022</th>\n",
       "      <th>TPSA</th>\n",
       "    </tr>\n",
       "  </thead>\n",
       "  <tbody>\n",
       "  </tbody>\n",
       "</table>\n",
       "</div>"
      ],
      "text/plain": [
       "Empty DataFrame\n",
       "Columns: [JCP2022, TPSA]\n",
       "Index: []"
      ]
     },
     "execution_count": 22,
     "metadata": {},
     "output_type": "execute_result"
    }
   ],
   "source": [
    "df_tpsa.info()\n",
    "df_tpsa.head(3)\n",
    "df_tpsa.tail(3)\n",
    "df_tpsa[df_tpsa['TPSA'].isna()]"
   ]
  },
  {
   "cell_type": "markdown",
   "id": "2778e182-bd4e-4c4f-bc12-858d7b475561",
   "metadata": {
    "ExecuteTime": {
     "end_time": "2023-05-24T15:12:06.272966Z",
     "start_time": "2023-05-24T15:12:06.261113Z"
    },
    "heading_collapsed": true,
    "hidden": true,
    "jp-MarkdownHeadingCollapsed": true
   },
   "source": [
    "### Write `df_metadata` dataframe (w/ SMILES and TPSA) to `./output/compound_metadata_tpsa.csv`"
   ]
  },
  {
   "cell_type": "code",
   "execution_count": 23,
   "id": "cc133cf3",
   "metadata": {
    "ExecuteTime": {
     "end_time": "2023-06-28T19:20:03.242434Z",
     "start_time": "2023-06-28T19:20:03.206601Z"
    },
    "execution": {
     "iopub.execute_input": "2023-11-10T21:09:03.025702Z",
     "iopub.status.busy": "2023-11-10T21:09:03.025426Z",
     "iopub.status.idle": "2023-11-10T21:09:03.038125Z",
     "shell.execute_reply": "2023-11-10T21:09:03.037268Z",
     "shell.execute_reply.started": "2023-11-10T21:09:03.025682Z"
    },
    "hidden": true
   },
   "outputs": [
    {
     "name": "stdout",
     "output_type": "stream",
     "text": [
      " compound Metadata Output File  : ./output_11102023/_compound_metadata_tpsa.csv\n",
      "\n"
     ]
    }
   ],
   "source": [
    "print(f\" compound Metadata Output File  : {compoundMetadataTPSAFile}\\n\")"
   ]
  },
  {
   "cell_type": "code",
   "execution_count": 24,
   "id": "6a2ee155",
   "metadata": {
    "ExecuteTime": {
     "end_time": "2023-06-28T19:20:04.575948Z",
     "start_time": "2023-06-28T19:20:04.066965Z"
    },
    "execution": {
     "iopub.execute_input": "2023-11-10T21:09:05.330060Z",
     "iopub.status.busy": "2023-11-10T21:09:05.329349Z",
     "iopub.status.idle": "2023-11-10T21:09:05.782762Z",
     "shell.execute_reply": "2023-11-10T21:09:05.782095Z",
     "shell.execute_reply.started": "2023-11-10T21:09:05.330038Z"
    },
    "hidden": true
   },
   "outputs": [],
   "source": [
    "df.to_csv(compoundMetadataTPSAFile, index = False)"
   ]
  },
  {
   "cell_type": "markdown",
   "id": "51bb3824-59e9-41f7-8bd7-aee19b0b7735",
   "metadata": {
    "heading_collapsed": true,
    "hidden": true
   },
   "source": [
    "#### Re-read and check Metadata file `./output/compound_metadata_tpsa.csv` \n",
    "\n",
    "(containing pharamcophore_base64 and TPSA) and check it"
   ]
  },
  {
   "cell_type": "code",
   "execution_count": 29,
   "id": "78491c90",
   "metadata": {
    "ExecuteTime": {
     "end_time": "2023-06-28T19:20:14.919429Z",
     "start_time": "2023-06-28T19:20:14.885995Z"
    },
    "execution": {
     "iopub.execute_input": "2023-11-10T21:10:01.537973Z",
     "iopub.status.busy": "2023-11-10T21:10:01.537492Z",
     "iopub.status.idle": "2023-11-10T21:10:01.549885Z",
     "shell.execute_reply": "2023-11-10T21:10:01.549255Z",
     "shell.execute_reply.started": "2023-11-10T21:10:01.537953Z"
    },
    "hidden": true
   },
   "outputs": [
    {
     "name": "stdout",
     "output_type": "stream",
     "text": [
      " compound Metadata Output File  : ./output_11102023/_compound_metadata_tpsa.csv\n",
      "\n"
     ]
    }
   ],
   "source": [
    "# print(f\" compound Metadata Input File   : {compoundMetadataInputFile} \\n\")\n",
    "print(f\" compound Metadata Output File  : {compoundMetadataTPSAFile}\\n\")\n",
    "# print(f\" compound TPSA File             : {compoundTPSAFile}\")\n",
    "# print(f\" compound Pharmacophore File    : {compoundPharmacophoreFile}\""
   ]
  },
  {
   "cell_type": "code",
   "execution_count": 30,
   "id": "ac18ee7f",
   "metadata": {
    "ExecuteTime": {
     "end_time": "2023-06-28T19:20:19.405780Z",
     "start_time": "2023-06-28T19:20:19.027235Z"
    },
    "execution": {
     "iopub.execute_input": "2023-11-10T21:10:01.876933Z",
     "iopub.status.busy": "2023-11-10T21:10:01.876667Z",
     "iopub.status.idle": "2023-11-10T21:10:02.333290Z",
     "shell.execute_reply": "2023-11-10T21:10:02.332593Z",
     "shell.execute_reply.started": "2023-11-10T21:10:01.876916Z"
    },
    "hidden": true
   },
   "outputs": [
    {
     "name": "stdout",
     "output_type": "stream",
     "text": [
      "<class 'pandas.core.frame.DataFrame'>\n",
      "RangeIndex: 116751 entries, 0 to 116750\n",
      "Data columns (total 5 columns):\n",
      " #   Column             Non-Null Count   Dtype  \n",
      "---  ------             --------------   -----  \n",
      " 0   Metadata_JCP2022   116751 non-null  object \n",
      " 1   Metadata_InChIKey  116751 non-null  object \n",
      " 2   Metadata_InChI     116751 non-null  object \n",
      " 3   smiles             116751 non-null  object \n",
      " 4   TPSA               116751 non-null  float64\n",
      "dtypes: float64(1), object(4)\n",
      "memory usage: 4.5+ MB\n",
      "None\n"
     ]
    },
    {
     "data": {
      "text/html": [
       "<div>\n",
       "<style scoped>\n",
       "    .dataframe tbody tr th:only-of-type {\n",
       "        vertical-align: middle;\n",
       "    }\n",
       "\n",
       "    .dataframe tbody tr th {\n",
       "        vertical-align: top;\n",
       "    }\n",
       "\n",
       "    .dataframe thead th {\n",
       "        text-align: right;\n",
       "    }\n",
       "</style>\n",
       "<table border=\"1\" class=\"dataframe\">\n",
       "  <thead>\n",
       "    <tr style=\"text-align: right;\">\n",
       "      <th></th>\n",
       "      <th>Metadata_JCP2022</th>\n",
       "      <th>Metadata_InChIKey</th>\n",
       "      <th>Metadata_InChI</th>\n",
       "      <th>smiles</th>\n",
       "      <th>TPSA</th>\n",
       "    </tr>\n",
       "  </thead>\n",
       "  <tbody>\n",
       "    <tr>\n",
       "      <th>0</th>\n",
       "      <td>JCP2022_000001</td>\n",
       "      <td>AAAHWCWPZPSPIW-UHFFFAOYSA-N</td>\n",
       "      <td>InChI=1S/C25H31N5O2/c1-4-23-26-14-16-30(23)24-...</td>\n",
       "      <td>CCC1=NC=CN1c2cccc(n2)C3CCCN3C(=O)c4ccc(cc4)OCC...</td>\n",
       "      <td>63.49</td>\n",
       "    </tr>\n",
       "    <tr>\n",
       "      <th>1</th>\n",
       "      <td>JCP2022_000002</td>\n",
       "      <td>AAAJHRMBUHXWLD-UHFFFAOYSA-N</td>\n",
       "      <td>InChI=1S/C11H13ClN2O/c12-10-4-2-9(3-5-10)8-14-...</td>\n",
       "      <td>OC1=NCCCN1Cc2ccc(Cl)cc2</td>\n",
       "      <td>35.83</td>\n",
       "    </tr>\n",
       "  </tbody>\n",
       "</table>\n",
       "</div>"
      ],
      "text/plain": [
       "  Metadata_JCP2022            Metadata_InChIKey                                     Metadata_InChI  \\\n",
       "0   JCP2022_000001  AAAHWCWPZPSPIW-UHFFFAOYSA-N  InChI=1S/C25H31N5O2/c1-4-23-26-14-16-30(23)24-...   \n",
       "1   JCP2022_000002  AAAJHRMBUHXWLD-UHFFFAOYSA-N  InChI=1S/C11H13ClN2O/c12-10-4-2-9(3-5-10)8-14-...   \n",
       "\n",
       "                                              smiles   TPSA  \n",
       "0  CCC1=NC=CN1c2cccc(n2)C3CCCN3C(=O)c4ccc(cc4)OCC...  63.49  \n",
       "1                            OC1=NCCCN1Cc2ccc(Cl)cc2  35.83  "
      ]
     },
     "execution_count": 30,
     "metadata": {},
     "output_type": "execute_result"
    },
    {
     "data": {
      "text/html": [
       "<div>\n",
       "<style scoped>\n",
       "    .dataframe tbody tr th:only-of-type {\n",
       "        vertical-align: middle;\n",
       "    }\n",
       "\n",
       "    .dataframe tbody tr th {\n",
       "        vertical-align: top;\n",
       "    }\n",
       "\n",
       "    .dataframe thead th {\n",
       "        text-align: right;\n",
       "    }\n",
       "</style>\n",
       "<table border=\"1\" class=\"dataframe\">\n",
       "  <thead>\n",
       "    <tr style=\"text-align: right;\">\n",
       "      <th></th>\n",
       "      <th>Metadata_JCP2022</th>\n",
       "      <th>Metadata_InChIKey</th>\n",
       "      <th>Metadata_InChI</th>\n",
       "      <th>smiles</th>\n",
       "      <th>TPSA</th>\n",
       "    </tr>\n",
       "  </thead>\n",
       "  <tbody>\n",
       "    <tr>\n",
       "      <th>116749</th>\n",
       "      <td>JCP2022_116752</td>\n",
       "      <td>ZZZZIBSVRUABIA-UHFFFAOYSA-N</td>\n",
       "      <td>InChI=1S/C19H13F6N3O2S/c1-11-26-6-5-17(27-11)1...</td>\n",
       "      <td>Cc1nccc(n1)c2cccc(c2)NS(=O)(=O)c3cc(cc(c3)C(F)...</td>\n",
       "      <td>71.95</td>\n",
       "    </tr>\n",
       "    <tr>\n",
       "      <th>116750</th>\n",
       "      <td>JCP2022_116753</td>\n",
       "      <td>ZZZZVNLQWWXZTQ-UHFFFAOYSA-N</td>\n",
       "      <td>InChI=1S/C14H20N2O3/c1-18-13-5-3-2-4-12(13)14(...</td>\n",
       "      <td>COc1ccccc1C(O)=NCCN2CCOCC2</td>\n",
       "      <td>54.29</td>\n",
       "    </tr>\n",
       "  </tbody>\n",
       "</table>\n",
       "</div>"
      ],
      "text/plain": [
       "       Metadata_JCP2022            Metadata_InChIKey                                     Metadata_InChI  \\\n",
       "116749   JCP2022_116752  ZZZZIBSVRUABIA-UHFFFAOYSA-N  InChI=1S/C19H13F6N3O2S/c1-11-26-6-5-17(27-11)1...   \n",
       "116750   JCP2022_116753  ZZZZVNLQWWXZTQ-UHFFFAOYSA-N  InChI=1S/C14H20N2O3/c1-18-13-5-3-2-4-12(13)14(...   \n",
       "\n",
       "                                                   smiles   TPSA  \n",
       "116749  Cc1nccc(n1)c2cccc(c2)NS(=O)(=O)c3cc(cc(c3)C(F)...  71.95  \n",
       "116750                         COc1ccccc1C(O)=NCCN2CCOCC2  54.29  "
      ]
     },
     "execution_count": 30,
     "metadata": {},
     "output_type": "execute_result"
    }
   ],
   "source": [
    "df = pd.read_csv(compoundMetadataTPSAFile)\n",
    "print(df.info())\n",
    "df.head(2)\n",
    "df.tail(2)"
   ]
  },
  {
   "cell_type": "markdown",
   "id": "36bf2520-d980-4c4b-9002-7a8ffa58c0bc",
   "metadata": {
    "ExecuteTime": {
     "end_time": "2023-05-24T15:12:06.272966Z",
     "start_time": "2023-05-24T15:12:06.261113Z"
    },
    "heading_collapsed": true,
    "hidden": true
   },
   "source": [
    "### Write `df_tpsa` to CSV file `./output/compound_tpsa.csv`"
   ]
  },
  {
   "cell_type": "code",
   "execution_count": 25,
   "id": "a9f8d01c",
   "metadata": {
    "ExecuteTime": {
     "end_time": "2023-06-28T19:20:08.175756Z",
     "start_time": "2023-06-28T19:20:08.154382Z"
    },
    "execution": {
     "iopub.execute_input": "2023-11-10T21:09:18.039581Z",
     "iopub.status.busy": "2023-11-10T21:09:18.039326Z",
     "iopub.status.idle": "2023-11-10T21:09:18.052682Z",
     "shell.execute_reply": "2023-11-10T21:09:18.051930Z",
     "shell.execute_reply.started": "2023-11-10T21:09:18.039564Z"
    },
    "hidden": true
   },
   "outputs": [
    {
     "name": "stdout",
     "output_type": "stream",
     "text": [
      " compound TPSA File  : ./output_11102023/_compound_TPSA.csv\n",
      "\n"
     ]
    }
   ],
   "source": [
    "print(f\" compound TPSA File  : {compoundTPSAFile}\\n\")"
   ]
  },
  {
   "cell_type": "code",
   "execution_count": 26,
   "id": "8345f042",
   "metadata": {
    "ExecuteTime": {
     "end_time": "2023-06-28T19:20:08.995679Z",
     "start_time": "2023-06-28T19:20:08.785829Z"
    },
    "execution": {
     "iopub.execute_input": "2023-11-10T21:09:27.628812Z",
     "iopub.status.busy": "2023-11-10T21:09:27.628552Z",
     "iopub.status.idle": "2023-11-10T21:09:27.754282Z",
     "shell.execute_reply": "2023-11-10T21:09:27.753116Z",
     "shell.execute_reply.started": "2023-11-10T21:09:27.628795Z"
    },
    "hidden": true
   },
   "outputs": [],
   "source": [
    "\n",
    "df_tpsa.to_csv(compoundTPSAFile, index = False)\n"
   ]
  },
  {
   "cell_type": "markdown",
   "id": "6c760d01",
   "metadata": {
    "heading_collapsed": true,
    "hidden": true
   },
   "source": [
    "#### Re-read TPSA csv file `./output/compound_TPSA.csv` and check it"
   ]
  },
  {
   "cell_type": "code",
   "execution_count": 31,
   "id": "dc3d2035",
   "metadata": {
    "ExecuteTime": {
     "end_time": "2023-06-28T19:20:40.207473Z",
     "start_time": "2023-06-28T19:20:40.172344Z"
    },
    "execution": {
     "iopub.execute_input": "2023-11-10T21:10:07.739763Z",
     "iopub.status.busy": "2023-11-10T21:10:07.739301Z",
     "iopub.status.idle": "2023-11-10T21:10:07.752115Z",
     "shell.execute_reply": "2023-11-10T21:10:07.751465Z",
     "shell.execute_reply.started": "2023-11-10T21:10:07.739742Z"
    },
    "hidden": true
   },
   "outputs": [
    {
     "name": "stdout",
     "output_type": "stream",
     "text": [
      " compound TPSA File             : ./output_11102023/_compound_TPSA.csv\n"
     ]
    }
   ],
   "source": [
    "print(f\" compound TPSA File             : {compoundTPSAFile}\")"
   ]
  },
  {
   "cell_type": "code",
   "execution_count": 33,
   "id": "2edf7f25",
   "metadata": {
    "ExecuteTime": {
     "end_time": "2023-06-28T19:20:41.455770Z",
     "start_time": "2023-06-28T19:20:41.329295Z"
    },
    "execution": {
     "iopub.execute_input": "2023-11-10T21:10:15.302760Z",
     "iopub.status.busy": "2023-11-10T21:10:15.302386Z",
     "iopub.status.idle": "2023-11-10T21:10:15.373249Z",
     "shell.execute_reply": "2023-11-10T21:10:15.372479Z",
     "shell.execute_reply.started": "2023-11-10T21:10:15.302741Z"
    },
    "hidden": true
   },
   "outputs": [
    {
     "name": "stdout",
     "output_type": "stream",
     "text": [
      "<class 'pandas.core.frame.DataFrame'>\n",
      "RangeIndex: 116751 entries, 0 to 116750\n",
      "Data columns (total 2 columns):\n",
      " #   Column   Non-Null Count   Dtype  \n",
      "---  ------   --------------   -----  \n",
      " 0   JCP2022  116751 non-null  object \n",
      " 1   TPSA     116751 non-null  float64\n",
      "dtypes: float64(1), object(1)\n",
      "memory usage: 1.8+ MB\n"
     ]
    },
    {
     "data": {
      "text/html": [
       "<div>\n",
       "<style scoped>\n",
       "    .dataframe tbody tr th:only-of-type {\n",
       "        vertical-align: middle;\n",
       "    }\n",
       "\n",
       "    .dataframe tbody tr th {\n",
       "        vertical-align: top;\n",
       "    }\n",
       "\n",
       "    .dataframe thead th {\n",
       "        text-align: right;\n",
       "    }\n",
       "</style>\n",
       "<table border=\"1\" class=\"dataframe\">\n",
       "  <thead>\n",
       "    <tr style=\"text-align: right;\">\n",
       "      <th></th>\n",
       "      <th>JCP2022</th>\n",
       "      <th>TPSA</th>\n",
       "    </tr>\n",
       "  </thead>\n",
       "  <tbody>\n",
       "    <tr>\n",
       "      <th>0</th>\n",
       "      <td>JCP2022_000001</td>\n",
       "      <td>63.49</td>\n",
       "    </tr>\n",
       "    <tr>\n",
       "      <th>1</th>\n",
       "      <td>JCP2022_000002</td>\n",
       "      <td>35.83</td>\n",
       "    </tr>\n",
       "  </tbody>\n",
       "</table>\n",
       "</div>"
      ],
      "text/plain": [
       "          JCP2022   TPSA\n",
       "0  JCP2022_000001  63.49\n",
       "1  JCP2022_000002  35.83"
      ]
     },
     "execution_count": 33,
     "metadata": {},
     "output_type": "execute_result"
    },
    {
     "data": {
      "text/html": [
       "<div>\n",
       "<style scoped>\n",
       "    .dataframe tbody tr th:only-of-type {\n",
       "        vertical-align: middle;\n",
       "    }\n",
       "\n",
       "    .dataframe tbody tr th {\n",
       "        vertical-align: top;\n",
       "    }\n",
       "\n",
       "    .dataframe thead th {\n",
       "        text-align: right;\n",
       "    }\n",
       "</style>\n",
       "<table border=\"1\" class=\"dataframe\">\n",
       "  <thead>\n",
       "    <tr style=\"text-align: right;\">\n",
       "      <th></th>\n",
       "      <th>JCP2022</th>\n",
       "      <th>TPSA</th>\n",
       "    </tr>\n",
       "  </thead>\n",
       "  <tbody>\n",
       "    <tr>\n",
       "      <th>116749</th>\n",
       "      <td>JCP2022_116752</td>\n",
       "      <td>71.95</td>\n",
       "    </tr>\n",
       "    <tr>\n",
       "      <th>116750</th>\n",
       "      <td>JCP2022_116753</td>\n",
       "      <td>54.29</td>\n",
       "    </tr>\n",
       "  </tbody>\n",
       "</table>\n",
       "</div>"
      ],
      "text/plain": [
       "               JCP2022   TPSA\n",
       "116749  JCP2022_116752  71.95\n",
       "116750  JCP2022_116753  54.29"
      ]
     },
     "execution_count": 33,
     "metadata": {},
     "output_type": "execute_result"
    }
   ],
   "source": [
    "# del df_tpsa\n",
    "df_tpsa = pd.read_csv(compoundTPSAFile)\n",
    "df_tpsa.info()\n",
    "df_tpsa.head(2)\n",
    "df_tpsa.tail(2)"
   ]
  },
  {
   "cell_type": "markdown",
   "id": "234f75ee",
   "metadata": {},
   "source": [
    "# Drop TPSA == 0 rows from Metadata and TPSA files"
   ]
  },
  {
   "cell_type": "markdown",
   "id": "990e5ebb-04e8-483a-bba8-e37d75e19da2",
   "metadata": {},
   "source": [
    "## Read `df_metadata` and `df_tpsa`"
   ]
  },
  {
   "cell_type": "code",
   "execution_count": null,
   "id": "444ccc10-35b2-4cc6-8872-bb1394019989",
   "metadata": {
    "ExecuteTime": {
     "end_time": "2023-06-28T19:21:02.538370Z",
     "start_time": "2023-06-28T19:21:02.501609Z"
    },
    "execution": {
     "iopub.execute_input": "2024-01-24T11:30:38.653946Z",
     "iopub.status.busy": "2024-01-24T11:30:38.653395Z",
     "iopub.status.idle": "2024-01-24T11:30:38.680919Z",
     "shell.execute_reply": "2024-01-24T11:30:38.679859Z",
     "shell.execute_reply.started": "2024-01-24T11:30:38.653904Z"
    }
   },
   "outputs": [],
   "source": [
    "# print(f\" compound Pharmacophore Dense   : {compoundPharmacophoreFile}\")\n",
    "print(f\"--> compound Metadata + TPSA Cleaned File    : {compoundMetadataTPSACleanFile}\\n\")\n",
    "print(f\" compound TPSA File             : {compoundTPSAFile}\")"
   ]
  },
  {
   "cell_type": "code",
   "execution_count": null,
   "id": "6536b479-16ac-4ffd-b4ce-9e61981ba644",
   "metadata": {
    "ExecuteTime": {
     "end_time": "2023-06-28T19:37:50.015129Z",
     "start_time": "2023-06-28T19:37:49.870907Z"
    },
    "execution": {
     "iopub.execute_input": "2023-08-07T19:50:47.610647Z",
     "iopub.status.busy": "2023-08-07T19:50:47.610401Z",
     "iopub.status.idle": "2023-08-07T19:50:47.902187Z",
     "shell.execute_reply": "2023-08-07T19:50:47.901268Z",
     "shell.execute_reply.started": "2023-08-07T19:50:47.610623Z"
    }
   },
   "outputs": [],
   "source": [
    "df_tpsa = pd.read_csv(compoundTPSAFile)\n",
    "\n",
    "# df_tpsa.info()\n",
    "# df_tpsa.head()"
   ]
  },
  {
   "cell_type": "code",
   "execution_count": 15,
   "id": "ef800ab7-9712-423c-983e-e155d54e710b",
   "metadata": {
    "ExecuteTime": {
     "end_time": "2023-06-28T19:37:50.587623Z",
     "start_time": "2023-06-28T19:37:50.503671Z"
    },
    "execution": {
     "iopub.execute_input": "2024-01-24T11:34:59.771405Z",
     "iopub.status.busy": "2024-01-24T11:34:59.770735Z",
     "iopub.status.idle": "2024-01-24T11:34:59.804878Z",
     "shell.execute_reply": "2024-01-24T11:34:59.803690Z",
     "shell.execute_reply.started": "2024-01-24T11:34:59.771371Z"
    }
   },
   "outputs": [],
   "source": [
    "df_metadata = pd.read_csv(compoundMetadataTPSACleanFile)\n",
    "# df_metadata.info()\n",
    "# df_metadata.head(3)\n",
    "# df_metadata.tail(3)"
   ]
  },
  {
   "cell_type": "markdown",
   "id": "67461975-e220-428f-bbe7-e9f5a6e5cb4a",
   "metadata": {},
   "source": [
    "## Identify rows with TPSA = 0.0"
   ]
  },
  {
   "cell_type": "markdown",
   "id": "6ca6c2cd",
   "metadata": {
    "heading_collapsed": true
   },
   "source": [
    "###  Metadata file"
   ]
  },
  {
   "cell_type": "code",
   "execution_count": 36,
   "id": "8a047875",
   "metadata": {
    "ExecuteTime": {
     "end_time": "2023-06-28T19:21:09.483789Z",
     "start_time": "2023-06-28T19:21:09.420190Z"
    },
    "execution": {
     "iopub.execute_input": "2023-11-10T21:11:29.523673Z",
     "iopub.status.busy": "2023-11-10T21:11:29.523036Z",
     "iopub.status.idle": "2023-11-10T21:11:29.581788Z",
     "shell.execute_reply": "2023-11-10T21:11:29.581142Z",
     "shell.execute_reply.started": "2023-11-10T21:11:29.523646Z"
    },
    "hidden": true
   },
   "outputs": [
    {
     "name": "stdout",
     "output_type": "stream",
     "text": [
      " Metadata entries with TPSA == 0.0: 60\n",
      " Metadata entries with TPSA == Nan: 0\n",
      " Metadata entries with TPSA == Nan or 0.0: 60\n"
     ]
    },
    {
     "data": {
      "text/html": [
       "<div>\n",
       "<style scoped>\n",
       "    .dataframe tbody tr th:only-of-type {\n",
       "        vertical-align: middle;\n",
       "    }\n",
       "\n",
       "    .dataframe tbody tr th {\n",
       "        vertical-align: top;\n",
       "    }\n",
       "\n",
       "    .dataframe thead th {\n",
       "        text-align: right;\n",
       "    }\n",
       "</style>\n",
       "<table border=\"1\" class=\"dataframe\">\n",
       "  <thead>\n",
       "    <tr style=\"text-align: right;\">\n",
       "      <th></th>\n",
       "      <th>Metadata_JCP2022</th>\n",
       "      <th>Metadata_InChIKey</th>\n",
       "      <th>Metadata_InChI</th>\n",
       "      <th>smiles</th>\n",
       "      <th>TPSA</th>\n",
       "    </tr>\n",
       "  </thead>\n",
       "  <tbody>\n",
       "    <tr>\n",
       "      <th>134</th>\n",
       "      <td>JCP2022_000135</td>\n",
       "      <td>AAQOQKQBGPPFNS-UHFFFAOYSA-N</td>\n",
       "      <td>InChI=1S/C11H17BrN/c1-4-13(2,3)9-10-7-5-6-8-11...</td>\n",
       "      <td>CC[N+](C)(C)Cc1ccccc1Br</td>\n",
       "      <td>0.0</td>\n",
       "    </tr>\n",
       "    <tr>\n",
       "      <th>5457</th>\n",
       "      <td>JCP2022_005458</td>\n",
       "      <td>BCQZXOMGPXTTIC-UHFFFAOYSA-N</td>\n",
       "      <td>InChI=1S/C2HBrClF3/c3-1(4)2(5,6)7/h1H</td>\n",
       "      <td>FC(F)(F)C(Cl)Br</td>\n",
       "      <td>0.0</td>\n",
       "    </tr>\n",
       "    <tr>\n",
       "      <th>8035</th>\n",
       "      <td>JCP2022_008036</td>\n",
       "      <td>BQOFWKZOCNGFEC-UHFFFAOYSA-N</td>\n",
       "      <td>InChI=1S/C10H16/c1-7-4-5-8-9(6-7)10(8,2)3/h4,8...</td>\n",
       "      <td>CC1CC2C(CC=1)C2(C)C</td>\n",
       "      <td>0.0</td>\n",
       "    </tr>\n",
       "    <tr>\n",
       "      <th>8377</th>\n",
       "      <td>JCP2022_008378</td>\n",
       "      <td>BSMYVBKDBCUVBF-UHFFFAOYSA-N</td>\n",
       "      <td>InChI=1S/C22H32N/c1-6-20(16-18(2)21-10-8-7-9-1...</td>\n",
       "      <td>CCC(CC(C)c1ccccc1)c2ccc(C[N+](C)(C)C)cc2</td>\n",
       "      <td>0.0</td>\n",
       "    </tr>\n",
       "    <tr>\n",
       "      <th>10111</th>\n",
       "      <td>JCP2022_010112</td>\n",
       "      <td>CBXCPBUEXACCNR-UHFFFAOYSA-N</td>\n",
       "      <td>InChI=1S/C8H20N/c1-5-9(6-2,7-3)8-4/h5-8H2,1-4H...</td>\n",
       "      <td>CC[N+](CC)(CC)CC</td>\n",
       "      <td>0.0</td>\n",
       "    </tr>\n",
       "    <tr>\n",
       "      <th>13018</th>\n",
       "      <td>JCP2022_013019</td>\n",
       "      <td>CRPUJAZIXJMDBK-UHFFFAOYSA-N</td>\n",
       "      <td>InChI=1S/C10H16/c1-7-8-4-5-9(6-8)10(7,2)3/h8-9...</td>\n",
       "      <td>CC1(C)C(=C)C2CC1CC2</td>\n",
       "      <td>0.0</td>\n",
       "    </tr>\n",
       "    <tr>\n",
       "      <th>14190</th>\n",
       "      <td>JCP2022_014191</td>\n",
       "      <td>CYDRXTMLKJDRQH-UHFFFAOYSA-N</td>\n",
       "      <td>InChI=1S/C21H38N/c1-4-5-6-7-8-9-10-11-12-16-19...</td>\n",
       "      <td>CCCCCCCCCCCC[N+](C)(C)Cc1ccccc1</td>\n",
       "      <td>0.0</td>\n",
       "    </tr>\n",
       "    <tr>\n",
       "      <th>14400</th>\n",
       "      <td>JCP2022_014401</td>\n",
       "      <td>CZDYPVPMEAXLPK-UHFFFAOYSA-N</td>\n",
       "      <td>InChI=1S/C4H12Si/c1-5(2,3)4/h1-4H3</td>\n",
       "      <td>C[Si](C)(C)C</td>\n",
       "      <td>0.0</td>\n",
       "    </tr>\n",
       "    <tr>\n",
       "      <th>16125</th>\n",
       "      <td>JCP2022_016126</td>\n",
       "      <td>DIMMBYOINZRKMD-UHFFFAOYSA-N</td>\n",
       "      <td>InChI=1S/V/q+5</td>\n",
       "      <td>[V+5]</td>\n",
       "      <td>0.0</td>\n",
       "    </tr>\n",
       "    <tr>\n",
       "      <th>21236</th>\n",
       "      <td>JCP2022_021237</td>\n",
       "      <td>FKNQFGJONOIPTF-UHFFFAOYSA-N</td>\n",
       "      <td>InChI=1S/Na/q+1</td>\n",
       "      <td>[Na+]</td>\n",
       "      <td>0.0</td>\n",
       "    </tr>\n",
       "    <tr>\n",
       "      <th>21600</th>\n",
       "      <td>JCP2022_021601</td>\n",
       "      <td>FMMWHPNWAFZXNH-UHFFFAOYSA-N</td>\n",
       "      <td>InChI=1S/C20H12/c1-2-7-17-15(4-1)12-16-9-8-13-...</td>\n",
       "      <td>c1ccc2c(c1)cc3ccc4cccc5ccc2c3c45</td>\n",
       "      <td>0.0</td>\n",
       "    </tr>\n",
       "    <tr>\n",
       "      <th>21659</th>\n",
       "      <td>JCP2022_021660</td>\n",
       "      <td>FMVKCNOAGUSJQW-UHFFFAOYSA-N</td>\n",
       "      <td>InChI=1S/C18H16S/c1-14-12-13-17(19-14)18(15-8-...</td>\n",
       "      <td>CC1=CC=C(S1)C(c2ccccc2)c3ccccc3</td>\n",
       "      <td>0.0</td>\n",
       "    </tr>\n",
       "    <tr>\n",
       "      <th>23414</th>\n",
       "      <td>JCP2022_023415</td>\n",
       "      <td>FWKQNCXZGNBPFD-UHFFFAOYSA-N</td>\n",
       "      <td>InChI=1S/C15H18/c1-10(2)13-7-5-11(3)14-8-6-12(...</td>\n",
       "      <td>CC(C)c2ccc(C)c1ccc(C)c1c2</td>\n",
       "      <td>0.0</td>\n",
       "    </tr>\n",
       "    <tr>\n",
       "      <th>23421</th>\n",
       "      <td>JCP2022_023422</td>\n",
       "      <td>FWLORMQUOWCQPO-UHFFFAOYSA-N</td>\n",
       "      <td>InChI=1S/C27H50N/c1-4-5-6-7-8-9-10-11-12-13-14...</td>\n",
       "      <td>CCCCCCCCCCCCCCCCCC[N+](C)(C)Cc1ccccc1</td>\n",
       "      <td>0.0</td>\n",
       "    </tr>\n",
       "    <tr>\n",
       "      <th>27359</th>\n",
       "      <td>JCP2022_027360</td>\n",
       "      <td>GRWFGVWFFZKLTI-UHFFFAOYSA-N</td>\n",
       "      <td>InChI=1S/C10H16/c1-7-4-5-8-6-9(7)10(8,2)3/h4,8...</td>\n",
       "      <td>CC1=CCC2CC1C2(C)C</td>\n",
       "      <td>0.0</td>\n",
       "    </tr>\n",
       "    <tr>\n",
       "      <th>29339</th>\n",
       "      <td>JCP2022_029341</td>\n",
       "      <td>HCNGUXXTNNIKCQ-UHFFFAOYSA-N</td>\n",
       "      <td>InChI=1S/Mo/q+6</td>\n",
       "      <td>[Mo+6]</td>\n",
       "      <td>0.0</td>\n",
       "    </tr>\n",
       "    <tr>\n",
       "      <th>29890</th>\n",
       "      <td>JCP2022_029892</td>\n",
       "      <td>HFPZCAJZSCWRBC-UHFFFAOYSA-N</td>\n",
       "      <td>InChI=1S/C10H14/c1-8(2)10-6-4-9(3)5-7-10/h4-8H...</td>\n",
       "      <td>CC(C)c1ccc(C)cc1</td>\n",
       "      <td>0.0</td>\n",
       "    </tr>\n",
       "    <tr>\n",
       "      <th>32192</th>\n",
       "      <td>JCP2022_032194</td>\n",
       "      <td>HRZQNDWDAPBHSB-UHFFFAOYSA-N</td>\n",
       "      <td>InChI=1S/C15H36N2/c1-7-8-9-10-11-14-17(5,6)15-...</td>\n",
       "      <td>CCCCCCC[N+](C)(C)CCC[N+](C)(C)C</td>\n",
       "      <td>0.0</td>\n",
       "    </tr>\n",
       "    <tr>\n",
       "      <th>37158</th>\n",
       "      <td>JCP2022_037160</td>\n",
       "      <td>ISPYNXGXZRLLHM-UHFFFAOYSA-N</td>\n",
       "      <td>InChI=1S/C15H9Cl2F3/c16-13-7-11(8-14(17)9-13)2...</td>\n",
       "      <td>FC(F)(F)c2ccc(C=Cc1cc(Cl)cc(Cl)c1)cc2</td>\n",
       "      <td>0.0</td>\n",
       "    </tr>\n",
       "    <tr>\n",
       "      <th>38237</th>\n",
       "      <td>JCP2022_038239</td>\n",
       "      <td>IYYZUPMFVPLQIF-UHFFFAOYSA-N</td>\n",
       "      <td>InChI=1S/C12H8S/c1-3-7-11-9(5-1)10-6-2-4-8-12(...</td>\n",
       "      <td>c1ccc3c(c1)Sc2ccccc23</td>\n",
       "      <td>0.0</td>\n",
       "    </tr>\n",
       "    <tr>\n",
       "      <th>40830</th>\n",
       "      <td>JCP2022_040832</td>\n",
       "      <td>JMYNPQVCVQVODQ-UHFFFAOYSA-N</td>\n",
       "      <td>InChI=1S/C14H9Cl3/c15-12-5-3-10(4-6-12)1-2-11-...</td>\n",
       "      <td>Clc2ccc(C=Cc1cc(Cl)cc(Cl)c1)cc2</td>\n",
       "      <td>0.0</td>\n",
       "    </tr>\n",
       "    <tr>\n",
       "      <th>41302</th>\n",
       "      <td>JCP2022_041304</td>\n",
       "      <td>JPOJMYYCSNHYRY-UHFFFAOYSA-N</td>\n",
       "      <td>InChI=1S/3Na.V/q;;;+8</td>\n",
       "      <td>[Na].[Na].[Na].[V+8]</td>\n",
       "      <td>0.0</td>\n",
       "    </tr>\n",
       "    <tr>\n",
       "      <th>42497</th>\n",
       "      <td>JCP2022_042499</td>\n",
       "      <td>JWBOIMRXGHLCPP-UHFFFAOYSA-N</td>\n",
       "      <td>InChI=1S/C14H10Cl4/c15-10-7-5-9(6-8-10)13(14(1...</td>\n",
       "      <td>ClC(Cl)C(c1ccc(Cl)cc1)c2ccccc2Cl</td>\n",
       "      <td>0.0</td>\n",
       "    </tr>\n",
       "    <tr>\n",
       "      <th>42864</th>\n",
       "      <td>JCP2022_042866</td>\n",
       "      <td>JXZGMDYNCUEGNH-UHFFFAOYSA-N</td>\n",
       "      <td>InChI=1S/C34H46N/c1-33(2,3)31-18-14-27(15-19-3...</td>\n",
       "      <td>CC(C)(C)c4ccc(CC3CCC[N+](Cc1ccccc1)(Cc2ccc(cc2...</td>\n",
       "      <td>0.0</td>\n",
       "    </tr>\n",
       "    <tr>\n",
       "      <th>47662</th>\n",
       "      <td>JCP2022_047664</td>\n",
       "      <td>KXSFECAJUBPPFE-UHFFFAOYSA-N</td>\n",
       "      <td>InChI=1S/C12H8S3/c1-3-9(13-7-1)11-5-6-12(15-11...</td>\n",
       "      <td>C1=CSC(=C1)C2=CC=C(S2)C3=CC=CS3</td>\n",
       "      <td>0.0</td>\n",
       "    </tr>\n",
       "    <tr>\n",
       "      <th>48541</th>\n",
       "      <td>JCP2022_048543</td>\n",
       "      <td>LCKIEQZJEYYRIY-UHFFFAOYSA-N</td>\n",
       "      <td>InChI=1S/Ti/q+4</td>\n",
       "      <td>[Ti+4]</td>\n",
       "      <td>0.0</td>\n",
       "    </tr>\n",
       "    <tr>\n",
       "      <th>48610</th>\n",
       "      <td>JCP2022_048612</td>\n",
       "      <td>LCTZPQRFOZKZNK-UHFFFAOYSA-N</td>\n",
       "      <td>InChI=1S/C20H24N/c1-21(2)15-13-19(14-16-21)20(...</td>\n",
       "      <td>C[N+]1(C)CCC(CC1)=C(c2ccccc2)c3ccccc3</td>\n",
       "      <td>0.0</td>\n",
       "    </tr>\n",
       "    <tr>\n",
       "      <th>53339</th>\n",
       "      <td>JCP2022_053341</td>\n",
       "      <td>MCZUXEWWARACSP-UHFFFAOYSA-N</td>\n",
       "      <td>InChI=1S/C12H8/c1-2-10-7-5-8-11-6-3-4-9-12(10)...</td>\n",
       "      <td>C#Cc1cccc2ccccc12</td>\n",
       "      <td>0.0</td>\n",
       "    </tr>\n",
       "    <tr>\n",
       "      <th>56345</th>\n",
       "      <td>JCP2022_056347</td>\n",
       "      <td>MTCUAOILFDZKCO-UHFFFAOYSA-N</td>\n",
       "      <td>InChI=1S/C16H38N2/c1-17(2,3)15-13-11-9-7-8-10-...</td>\n",
       "      <td>C[N+](C)(C)CCCCCCCCCC[N+](C)(C)C</td>\n",
       "      <td>0.0</td>\n",
       "    </tr>\n",
       "    <tr>\n",
       "      <th>58101</th>\n",
       "      <td>JCP2022_058103</td>\n",
       "      <td>NCMHKCKGHRPLCM-UHFFFAOYSA-N</td>\n",
       "      <td>InChI=1S/Cs/q+1</td>\n",
       "      <td>[Cs+]</td>\n",
       "      <td>0.0</td>\n",
       "    </tr>\n",
       "    <tr>\n",
       "      <th>60532</th>\n",
       "      <td>JCP2022_060534</td>\n",
       "      <td>NPNUFJAVOOONJE-UHFFFAOYSA-N</td>\n",
       "      <td>InChI=1S/C15H24/c1-11-6-5-7-12(2)13-10-15(3,4)...</td>\n",
       "      <td>CC2CCC1C(CC1(C)C)C(=C)CCC=2</td>\n",
       "      <td>0.0</td>\n",
       "    </tr>\n",
       "    <tr>\n",
       "      <th>61615</th>\n",
       "      <td>JCP2022_061617</td>\n",
       "      <td>NVLPQIPTCCLBEU-UHFFFAOYSA-N</td>\n",
       "      <td>InChI=1S/C4H8S/c1-3-4-5-2/h3H,1,4H2,2H3</td>\n",
       "      <td>C=CCSC</td>\n",
       "      <td>0.0</td>\n",
       "    </tr>\n",
       "    <tr>\n",
       "      <th>62894</th>\n",
       "      <td>JCP2022_062896</td>\n",
       "      <td>OCJBOOLMMGQPQU-UHFFFAOYSA-N</td>\n",
       "      <td>InChI=1S/C6H4Cl2/c7-5-1-2-6(8)4-3-5/h1-4H</td>\n",
       "      <td>Clc1ccc(Cl)cc1</td>\n",
       "      <td>0.0</td>\n",
       "    </tr>\n",
       "    <tr>\n",
       "      <th>63294</th>\n",
       "      <td>JCP2022_063296</td>\n",
       "      <td>OENHQHLEOONYIE-UHFFFAOYSA-N</td>\n",
       "      <td>InChI=1S/C40H56/c1-31(19-13-21-33(3)25-27-37-3...</td>\n",
       "      <td>CC(C=CC=C(C)C=CC1=C(C)CCCC1(C)C)=CC=CC=C(C)C=C...</td>\n",
       "      <td>0.0</td>\n",
       "    </tr>\n",
       "    <tr>\n",
       "      <th>65257</th>\n",
       "      <td>JCP2022_065259</td>\n",
       "      <td>OPFTUNCRGUEPRZ-UHFFFAOYSA-N</td>\n",
       "      <td>InChI=1S/C15H24/c1-7-15(6)9-8-13(11(2)3)10-14(...</td>\n",
       "      <td>CC(=C)C1CCC(C)(C=C)C(C1)C(C)=C</td>\n",
       "      <td>0.0</td>\n",
       "    </tr>\n",
       "    <tr>\n",
       "      <th>67916</th>\n",
       "      <td>JCP2022_067919</td>\n",
       "      <td>PDSNLYSELAIEBU-UHFFFAOYSA-N</td>\n",
       "      <td>InChI=1S/C15H24/c1-10-11-6-7-12-13(11)14(2,3)8...</td>\n",
       "      <td>CC3(C)CCCC1(C)C(=C)C2CCC1C23</td>\n",
       "      <td>0.0</td>\n",
       "    </tr>\n",
       "    <tr>\n",
       "      <th>67917</th>\n",
       "      <td>JCP2022_067920</td>\n",
       "      <td>PDSVZUAJOIQXRK-UHFFFAOYSA-N</td>\n",
       "      <td>InChI=1S/C21H46N/c1-5-6-7-8-9-10-11-12-13-14-1...</td>\n",
       "      <td>CCCCCCCCCCCCCCCCCC[N+](C)(C)C</td>\n",
       "      <td>0.0</td>\n",
       "    </tr>\n",
       "    <tr>\n",
       "      <th>70413</th>\n",
       "      <td>JCP2022_070416</td>\n",
       "      <td>PRAKJMSDJKAYCZ-UHFFFAOYSA-N</td>\n",
       "      <td>InChI=1S/C30H62/c1-25(2)15-11-19-29(7)23-13-21...</td>\n",
       "      <td>CC(C)CCCC(C)CCCC(C)CCCCC(C)CCCC(C)CCCC(C)C</td>\n",
       "      <td>0.0</td>\n",
       "    </tr>\n",
       "    <tr>\n",
       "      <th>71670</th>\n",
       "      <td>JCP2022_071673</td>\n",
       "      <td>PXVOATXCSSPUEM-UHFFFAOYSA-N</td>\n",
       "      <td>InChI=1S/C10H15I/c11-10-4-7-1-8(5-10)3-9(2-7)6...</td>\n",
       "      <td>IC23CC1CC(CC(C1)C2)C3</td>\n",
       "      <td>0.0</td>\n",
       "    </tr>\n",
       "    <tr>\n",
       "      <th>72798</th>\n",
       "      <td>JCP2022_072801</td>\n",
       "      <td>QDYLMAYUEZBUFO-UHFFFAOYSA-N</td>\n",
       "      <td>InChI=1S/C25H46N/c1-4-5-6-7-8-9-10-11-12-13-14...</td>\n",
       "      <td>CCCCCCCCCCCCCCCC[N+](C)(C)Cc1ccccc1</td>\n",
       "      <td>0.0</td>\n",
       "    </tr>\n",
       "    <tr>\n",
       "      <th>73109</th>\n",
       "      <td>JCP2022_073112</td>\n",
       "      <td>QFQZKISCBJKVHI-UHFFFAOYSA-N</td>\n",
       "      <td>InChI=1S/C6H6Br6/c7-1-2(8)4(10)6(12)5(11)3(1)9...</td>\n",
       "      <td>BrC1C(Br)C(Br)C(Br)C(Br)C1Br</td>\n",
       "      <td>0.0</td>\n",
       "    </tr>\n",
       "    <tr>\n",
       "      <th>73158</th>\n",
       "      <td>JCP2022_073161</td>\n",
       "      <td>QFXKXRXFBRLLPQ-UHFFFAOYSA-N</td>\n",
       "      <td>InChI=1S/C12H8I/c1-3-7-11-9(5-1)10-6-2-4-8-12(...</td>\n",
       "      <td>c1ccc3c(c1)[I+]c2ccccc23</td>\n",
       "      <td>0.0</td>\n",
       "    </tr>\n",
       "    <tr>\n",
       "      <th>75096</th>\n",
       "      <td>JCP2022_075099</td>\n",
       "      <td>QPUYECUOLPXSFR-UHFFFAOYSA-N</td>\n",
       "      <td>InChI=1S/C11H10/c1-9-5-4-7-10-6-2-3-8-11(9)10/...</td>\n",
       "      <td>Cc1cccc2ccccc12</td>\n",
       "      <td>0.0</td>\n",
       "    </tr>\n",
       "    <tr>\n",
       "      <th>79094</th>\n",
       "      <td>JCP2022_079097</td>\n",
       "      <td>RLGQACBPNDBWTB-UHFFFAOYSA-N</td>\n",
       "      <td>InChI=1S/C19H42N/c1-5-6-7-8-9-10-11-12-13-14-1...</td>\n",
       "      <td>CCCCCCCCCCCCCCCC[N+](C)(C)C</td>\n",
       "      <td>0.0</td>\n",
       "    </tr>\n",
       "    <tr>\n",
       "      <th>80228</th>\n",
       "      <td>JCP2022_080231</td>\n",
       "      <td>RRHGJUQNOFWUDK-UHFFFAOYSA-N</td>\n",
       "      <td>InChI=1S/C5H8/c1-4-5(2)3/h4H,1-2H2,3H3</td>\n",
       "      <td>CC(=C)C=C</td>\n",
       "      <td>0.0</td>\n",
       "    </tr>\n",
       "    <tr>\n",
       "      <th>87985</th>\n",
       "      <td>JCP2022_087988</td>\n",
       "      <td>UARILQSOMYIQCM-UHFFFAOYSA-N</td>\n",
       "      <td>InChI=1S/C19H34N/c1-4-5-6-7-8-9-10-14-17-20(2,...</td>\n",
       "      <td>CCCCCCCCCC[N+](C)(C)Cc1ccccc1</td>\n",
       "      <td>0.0</td>\n",
       "    </tr>\n",
       "    <tr>\n",
       "      <th>88104</th>\n",
       "      <td>JCP2022_088107</td>\n",
       "      <td>UBJVUCKUDDKUJF-UHFFFAOYSA-N</td>\n",
       "      <td>InChI=1S/C6H10S/c1-3-5-7-6-4-2/h3-4H,1-2,5-6H2</td>\n",
       "      <td>C=CCSCC=C</td>\n",
       "      <td>0.0</td>\n",
       "    </tr>\n",
       "    <tr>\n",
       "      <th>88313</th>\n",
       "      <td>JCP2022_088316</td>\n",
       "      <td>UCNVFOCBFJOQAL-UHFFFAOYSA-N</td>\n",
       "      <td>InChI=1S/C14H8Cl4/c15-11-5-1-9(2-6-11)13(14(17...</td>\n",
       "      <td>ClC(Cl)=C(c1ccc(Cl)cc1)c2ccc(Cl)cc2</td>\n",
       "      <td>0.0</td>\n",
       "    </tr>\n",
       "    <tr>\n",
       "      <th>97304</th>\n",
       "      <td>JCP2022_097307</td>\n",
       "      <td>VZJFGSRCJCXDSG-UHFFFAOYSA-N</td>\n",
       "      <td>InChI=1S/C12H30N2/c1-13(2,3)11-9-7-8-10-12-14(...</td>\n",
       "      <td>C[N+](C)(C)CCCCCC[N+](C)(C)C</td>\n",
       "      <td>0.0</td>\n",
       "    </tr>\n",
       "    <tr>\n",
       "      <th>97445</th>\n",
       "      <td>JCP2022_097448</td>\n",
       "      <td>WACRAFUNNYGNEQ-UHFFFAOYSA-N</td>\n",
       "      <td>InChI=1S/C8H18N/c1-3-9(2)7-5-4-6-8-9/h3-8H2,1-...</td>\n",
       "      <td>CC[N+]1(C)CCCCC1</td>\n",
       "      <td>0.0</td>\n",
       "    </tr>\n",
       "    <tr>\n",
       "      <th>97990</th>\n",
       "      <td>JCP2022_097993</td>\n",
       "      <td>WDECIBYCCFPHNR-UHFFFAOYSA-N</td>\n",
       "      <td>InChI=1S/C18H12/c1-3-7-15-13(5-1)9-11-18-16-8-...</td>\n",
       "      <td>c1ccc3c(c1)ccc4c2ccccc2ccc34</td>\n",
       "      <td>0.0</td>\n",
       "    </tr>\n",
       "    <tr>\n",
       "      <th>100361</th>\n",
       "      <td>JCP2022_100364</td>\n",
       "      <td>WPSYTTKBGAZSCX-UHFFFAOYSA-N</td>\n",
       "      <td>InChI=1S/C21H37ClN/c1-4-7-8-9-11-18-23(5-2,6-3...</td>\n",
       "      <td>CCCCCCC[N+](CC)(CC)CCCCc1ccc(Cl)cc1</td>\n",
       "      <td>0.0</td>\n",
       "    </tr>\n",
       "    <tr>\n",
       "      <th>100978</th>\n",
       "      <td>JCP2022_100981</td>\n",
       "      <td>WTARULDDTDQWMU-UHFFFAOYSA-N</td>\n",
       "      <td>InChI=1S/C10H16/c1-7-4-5-8-6-9(7)10(8,2)3/h8-9...</td>\n",
       "      <td>CC1(C)C2CCC(=C)C1C2</td>\n",
       "      <td>0.0</td>\n",
       "    </tr>\n",
       "    <tr>\n",
       "      <th>101161</th>\n",
       "      <td>JCP2022_101164</td>\n",
       "      <td>WTWWXOGTJWMJHI-UHFFFAOYSA-N</td>\n",
       "      <td>InChI=1S/C8BrF17/c9-7(22,23)5(18,19)3(14,15)1(...</td>\n",
       "      <td>FC(F)(F)C(F)(F)C(F)(F)C(F)(F)C(F)(F)C(F)(F)C(F...</td>\n",
       "      <td>0.0</td>\n",
       "    </tr>\n",
       "    <tr>\n",
       "      <th>104494</th>\n",
       "      <td>JCP2022_104497</td>\n",
       "      <td>XMBWDFGMSWQBCA-UHFFFAOYSA-N</td>\n",
       "      <td>InChI=1S/HI/h1H</td>\n",
       "      <td>I</td>\n",
       "      <td>0.0</td>\n",
       "    </tr>\n",
       "    <tr>\n",
       "      <th>104531</th>\n",
       "      <td>JCP2022_104534</td>\n",
       "      <td>XMGQYMWWDOXHJM-UHFFFAOYSA-N</td>\n",
       "      <td>InChI=1S/C10H16/c1-8(2)10-6-4-9(3)5-7-10/h4,10...</td>\n",
       "      <td>CC(=C)C1CCC(C)=CC1</td>\n",
       "      <td>0.0</td>\n",
       "    </tr>\n",
       "    <tr>\n",
       "      <th>110583</th>\n",
       "      <td>JCP2022_110586</td>\n",
       "      <td>YSQBVIAGPLXQJH-UHFFFAOYSA-N</td>\n",
       "      <td>InChI=1S/C7H6Cl2S/c1-10-6-4-2-3-5(8)7(6)9/h2-4...</td>\n",
       "      <td>CSc1cccc(Cl)c1Cl</td>\n",
       "      <td>0.0</td>\n",
       "    </tr>\n",
       "    <tr>\n",
       "      <th>111270</th>\n",
       "      <td>JCP2022_111273</td>\n",
       "      <td>YWHLKYXPLRWGSE-UHFFFAOYSA-N</td>\n",
       "      <td>InChI=1S/C2H6S3/c1-3-5-4-2/h1-2H3</td>\n",
       "      <td>CSSSC</td>\n",
       "      <td>0.0</td>\n",
       "    </tr>\n",
       "    <tr>\n",
       "      <th>111666</th>\n",
       "      <td>JCP2022_111669</td>\n",
       "      <td>YYGNTYWPHWGJRM-UHFFFAOYSA-N</td>\n",
       "      <td>InChI=1S/C30H50/c1-25(2)15-11-19-29(7)23-13-21...</td>\n",
       "      <td>CC(C)=CCCC(C)=CCCC(C)=CCCC=C(C)CCC=C(C)CCC=C(C)C</td>\n",
       "      <td>0.0</td>\n",
       "    </tr>\n",
       "    <tr>\n",
       "      <th>114867</th>\n",
       "      <td>JCP2022_114870</td>\n",
       "      <td>ZPQOPVIELGIULI-UHFFFAOYSA-N</td>\n",
       "      <td>InChI=1S/C6H4Cl2/c7-5-2-1-3-6(8)4-5/h1-4H</td>\n",
       "      <td>Clc1cccc(Cl)c1</td>\n",
       "      <td>0.0</td>\n",
       "    </tr>\n",
       "  </tbody>\n",
       "</table>\n",
       "</div>"
      ],
      "text/plain": [
       "       Metadata_JCP2022            Metadata_InChIKey                                     Metadata_InChI  \\\n",
       "134      JCP2022_000135  AAQOQKQBGPPFNS-UHFFFAOYSA-N  InChI=1S/C11H17BrN/c1-4-13(2,3)9-10-7-5-6-8-11...   \n",
       "5457     JCP2022_005458  BCQZXOMGPXTTIC-UHFFFAOYSA-N              InChI=1S/C2HBrClF3/c3-1(4)2(5,6)7/h1H   \n",
       "8035     JCP2022_008036  BQOFWKZOCNGFEC-UHFFFAOYSA-N  InChI=1S/C10H16/c1-7-4-5-8-9(6-7)10(8,2)3/h4,8...   \n",
       "8377     JCP2022_008378  BSMYVBKDBCUVBF-UHFFFAOYSA-N  InChI=1S/C22H32N/c1-6-20(16-18(2)21-10-8-7-9-1...   \n",
       "10111    JCP2022_010112  CBXCPBUEXACCNR-UHFFFAOYSA-N  InChI=1S/C8H20N/c1-5-9(6-2,7-3)8-4/h5-8H2,1-4H...   \n",
       "13018    JCP2022_013019  CRPUJAZIXJMDBK-UHFFFAOYSA-N  InChI=1S/C10H16/c1-7-8-4-5-9(6-8)10(7,2)3/h8-9...   \n",
       "14190    JCP2022_014191  CYDRXTMLKJDRQH-UHFFFAOYSA-N  InChI=1S/C21H38N/c1-4-5-6-7-8-9-10-11-12-16-19...   \n",
       "14400    JCP2022_014401  CZDYPVPMEAXLPK-UHFFFAOYSA-N                 InChI=1S/C4H12Si/c1-5(2,3)4/h1-4H3   \n",
       "16125    JCP2022_016126  DIMMBYOINZRKMD-UHFFFAOYSA-N                                     InChI=1S/V/q+5   \n",
       "21236    JCP2022_021237  FKNQFGJONOIPTF-UHFFFAOYSA-N                                    InChI=1S/Na/q+1   \n",
       "21600    JCP2022_021601  FMMWHPNWAFZXNH-UHFFFAOYSA-N  InChI=1S/C20H12/c1-2-7-17-15(4-1)12-16-9-8-13-...   \n",
       "21659    JCP2022_021660  FMVKCNOAGUSJQW-UHFFFAOYSA-N  InChI=1S/C18H16S/c1-14-12-13-17(19-14)18(15-8-...   \n",
       "23414    JCP2022_023415  FWKQNCXZGNBPFD-UHFFFAOYSA-N  InChI=1S/C15H18/c1-10(2)13-7-5-11(3)14-8-6-12(...   \n",
       "23421    JCP2022_023422  FWLORMQUOWCQPO-UHFFFAOYSA-N  InChI=1S/C27H50N/c1-4-5-6-7-8-9-10-11-12-13-14...   \n",
       "27359    JCP2022_027360  GRWFGVWFFZKLTI-UHFFFAOYSA-N  InChI=1S/C10H16/c1-7-4-5-8-6-9(7)10(8,2)3/h4,8...   \n",
       "29339    JCP2022_029341  HCNGUXXTNNIKCQ-UHFFFAOYSA-N                                    InChI=1S/Mo/q+6   \n",
       "29890    JCP2022_029892  HFPZCAJZSCWRBC-UHFFFAOYSA-N  InChI=1S/C10H14/c1-8(2)10-6-4-9(3)5-7-10/h4-8H...   \n",
       "32192    JCP2022_032194  HRZQNDWDAPBHSB-UHFFFAOYSA-N  InChI=1S/C15H36N2/c1-7-8-9-10-11-14-17(5,6)15-...   \n",
       "37158    JCP2022_037160  ISPYNXGXZRLLHM-UHFFFAOYSA-N  InChI=1S/C15H9Cl2F3/c16-13-7-11(8-14(17)9-13)2...   \n",
       "38237    JCP2022_038239  IYYZUPMFVPLQIF-UHFFFAOYSA-N  InChI=1S/C12H8S/c1-3-7-11-9(5-1)10-6-2-4-8-12(...   \n",
       "40830    JCP2022_040832  JMYNPQVCVQVODQ-UHFFFAOYSA-N  InChI=1S/C14H9Cl3/c15-12-5-3-10(4-6-12)1-2-11-...   \n",
       "41302    JCP2022_041304  JPOJMYYCSNHYRY-UHFFFAOYSA-N                              InChI=1S/3Na.V/q;;;+8   \n",
       "42497    JCP2022_042499  JWBOIMRXGHLCPP-UHFFFAOYSA-N  InChI=1S/C14H10Cl4/c15-10-7-5-9(6-8-10)13(14(1...   \n",
       "42864    JCP2022_042866  JXZGMDYNCUEGNH-UHFFFAOYSA-N  InChI=1S/C34H46N/c1-33(2,3)31-18-14-27(15-19-3...   \n",
       "47662    JCP2022_047664  KXSFECAJUBPPFE-UHFFFAOYSA-N  InChI=1S/C12H8S3/c1-3-9(13-7-1)11-5-6-12(15-11...   \n",
       "48541    JCP2022_048543  LCKIEQZJEYYRIY-UHFFFAOYSA-N                                    InChI=1S/Ti/q+4   \n",
       "48610    JCP2022_048612  LCTZPQRFOZKZNK-UHFFFAOYSA-N  InChI=1S/C20H24N/c1-21(2)15-13-19(14-16-21)20(...   \n",
       "53339    JCP2022_053341  MCZUXEWWARACSP-UHFFFAOYSA-N  InChI=1S/C12H8/c1-2-10-7-5-8-11-6-3-4-9-12(10)...   \n",
       "56345    JCP2022_056347  MTCUAOILFDZKCO-UHFFFAOYSA-N  InChI=1S/C16H38N2/c1-17(2,3)15-13-11-9-7-8-10-...   \n",
       "58101    JCP2022_058103  NCMHKCKGHRPLCM-UHFFFAOYSA-N                                    InChI=1S/Cs/q+1   \n",
       "60532    JCP2022_060534  NPNUFJAVOOONJE-UHFFFAOYSA-N  InChI=1S/C15H24/c1-11-6-5-7-12(2)13-10-15(3,4)...   \n",
       "61615    JCP2022_061617  NVLPQIPTCCLBEU-UHFFFAOYSA-N            InChI=1S/C4H8S/c1-3-4-5-2/h3H,1,4H2,2H3   \n",
       "62894    JCP2022_062896  OCJBOOLMMGQPQU-UHFFFAOYSA-N          InChI=1S/C6H4Cl2/c7-5-1-2-6(8)4-3-5/h1-4H   \n",
       "63294    JCP2022_063296  OENHQHLEOONYIE-UHFFFAOYSA-N  InChI=1S/C40H56/c1-31(19-13-21-33(3)25-27-37-3...   \n",
       "65257    JCP2022_065259  OPFTUNCRGUEPRZ-UHFFFAOYSA-N  InChI=1S/C15H24/c1-7-15(6)9-8-13(11(2)3)10-14(...   \n",
       "67916    JCP2022_067919  PDSNLYSELAIEBU-UHFFFAOYSA-N  InChI=1S/C15H24/c1-10-11-6-7-12-13(11)14(2,3)8...   \n",
       "67917    JCP2022_067920  PDSVZUAJOIQXRK-UHFFFAOYSA-N  InChI=1S/C21H46N/c1-5-6-7-8-9-10-11-12-13-14-1...   \n",
       "70413    JCP2022_070416  PRAKJMSDJKAYCZ-UHFFFAOYSA-N  InChI=1S/C30H62/c1-25(2)15-11-19-29(7)23-13-21...   \n",
       "71670    JCP2022_071673  PXVOATXCSSPUEM-UHFFFAOYSA-N  InChI=1S/C10H15I/c11-10-4-7-1-8(5-10)3-9(2-7)6...   \n",
       "72798    JCP2022_072801  QDYLMAYUEZBUFO-UHFFFAOYSA-N  InChI=1S/C25H46N/c1-4-5-6-7-8-9-10-11-12-13-14...   \n",
       "73109    JCP2022_073112  QFQZKISCBJKVHI-UHFFFAOYSA-N  InChI=1S/C6H6Br6/c7-1-2(8)4(10)6(12)5(11)3(1)9...   \n",
       "73158    JCP2022_073161  QFXKXRXFBRLLPQ-UHFFFAOYSA-N  InChI=1S/C12H8I/c1-3-7-11-9(5-1)10-6-2-4-8-12(...   \n",
       "75096    JCP2022_075099  QPUYECUOLPXSFR-UHFFFAOYSA-N  InChI=1S/C11H10/c1-9-5-4-7-10-6-2-3-8-11(9)10/...   \n",
       "79094    JCP2022_079097  RLGQACBPNDBWTB-UHFFFAOYSA-N  InChI=1S/C19H42N/c1-5-6-7-8-9-10-11-12-13-14-1...   \n",
       "80228    JCP2022_080231  RRHGJUQNOFWUDK-UHFFFAOYSA-N             InChI=1S/C5H8/c1-4-5(2)3/h4H,1-2H2,3H3   \n",
       "87985    JCP2022_087988  UARILQSOMYIQCM-UHFFFAOYSA-N  InChI=1S/C19H34N/c1-4-5-6-7-8-9-10-14-17-20(2,...   \n",
       "88104    JCP2022_088107  UBJVUCKUDDKUJF-UHFFFAOYSA-N     InChI=1S/C6H10S/c1-3-5-7-6-4-2/h3-4H,1-2,5-6H2   \n",
       "88313    JCP2022_088316  UCNVFOCBFJOQAL-UHFFFAOYSA-N  InChI=1S/C14H8Cl4/c15-11-5-1-9(2-6-11)13(14(17...   \n",
       "97304    JCP2022_097307  VZJFGSRCJCXDSG-UHFFFAOYSA-N  InChI=1S/C12H30N2/c1-13(2,3)11-9-7-8-10-12-14(...   \n",
       "97445    JCP2022_097448  WACRAFUNNYGNEQ-UHFFFAOYSA-N  InChI=1S/C8H18N/c1-3-9(2)7-5-4-6-8-9/h3-8H2,1-...   \n",
       "97990    JCP2022_097993  WDECIBYCCFPHNR-UHFFFAOYSA-N  InChI=1S/C18H12/c1-3-7-15-13(5-1)9-11-18-16-8-...   \n",
       "100361   JCP2022_100364  WPSYTTKBGAZSCX-UHFFFAOYSA-N  InChI=1S/C21H37ClN/c1-4-7-8-9-11-18-23(5-2,6-3...   \n",
       "100978   JCP2022_100981  WTARULDDTDQWMU-UHFFFAOYSA-N  InChI=1S/C10H16/c1-7-4-5-8-6-9(7)10(8,2)3/h8-9...   \n",
       "101161   JCP2022_101164  WTWWXOGTJWMJHI-UHFFFAOYSA-N  InChI=1S/C8BrF17/c9-7(22,23)5(18,19)3(14,15)1(...   \n",
       "104494   JCP2022_104497  XMBWDFGMSWQBCA-UHFFFAOYSA-N                                    InChI=1S/HI/h1H   \n",
       "104531   JCP2022_104534  XMGQYMWWDOXHJM-UHFFFAOYSA-N  InChI=1S/C10H16/c1-8(2)10-6-4-9(3)5-7-10/h4,10...   \n",
       "110583   JCP2022_110586  YSQBVIAGPLXQJH-UHFFFAOYSA-N  InChI=1S/C7H6Cl2S/c1-10-6-4-2-3-5(8)7(6)9/h2-4...   \n",
       "111270   JCP2022_111273  YWHLKYXPLRWGSE-UHFFFAOYSA-N                  InChI=1S/C2H6S3/c1-3-5-4-2/h1-2H3   \n",
       "111666   JCP2022_111669  YYGNTYWPHWGJRM-UHFFFAOYSA-N  InChI=1S/C30H50/c1-25(2)15-11-19-29(7)23-13-21...   \n",
       "114867   JCP2022_114870  ZPQOPVIELGIULI-UHFFFAOYSA-N          InChI=1S/C6H4Cl2/c7-5-2-1-3-6(8)4-5/h1-4H   \n",
       "\n",
       "                                                   smiles  TPSA  \n",
       "134                               CC[N+](C)(C)Cc1ccccc1Br   0.0  \n",
       "5457                                      FC(F)(F)C(Cl)Br   0.0  \n",
       "8035                                  CC1CC2C(CC=1)C2(C)C   0.0  \n",
       "8377             CCC(CC(C)c1ccccc1)c2ccc(C[N+](C)(C)C)cc2   0.0  \n",
       "10111                                    CC[N+](CC)(CC)CC   0.0  \n",
       "13018                                 CC1(C)C(=C)C2CC1CC2   0.0  \n",
       "14190                     CCCCCCCCCCCC[N+](C)(C)Cc1ccccc1   0.0  \n",
       "14400                                        C[Si](C)(C)C   0.0  \n",
       "16125                                               [V+5]   0.0  \n",
       "21236                                               [Na+]   0.0  \n",
       "21600                    c1ccc2c(c1)cc3ccc4cccc5ccc2c3c45   0.0  \n",
       "21659                     CC1=CC=C(S1)C(c2ccccc2)c3ccccc3   0.0  \n",
       "23414                           CC(C)c2ccc(C)c1ccc(C)c1c2   0.0  \n",
       "23421               CCCCCCCCCCCCCCCCCC[N+](C)(C)Cc1ccccc1   0.0  \n",
       "27359                                   CC1=CCC2CC1C2(C)C   0.0  \n",
       "29339                                              [Mo+6]   0.0  \n",
       "29890                                    CC(C)c1ccc(C)cc1   0.0  \n",
       "32192                     CCCCCCC[N+](C)(C)CCC[N+](C)(C)C   0.0  \n",
       "37158               FC(F)(F)c2ccc(C=Cc1cc(Cl)cc(Cl)c1)cc2   0.0  \n",
       "38237                               c1ccc3c(c1)Sc2ccccc23   0.0  \n",
       "40830                     Clc2ccc(C=Cc1cc(Cl)cc(Cl)c1)cc2   0.0  \n",
       "41302                                [Na].[Na].[Na].[V+8]   0.0  \n",
       "42497                    ClC(Cl)C(c1ccc(Cl)cc1)c2ccccc2Cl   0.0  \n",
       "42864   CC(C)(C)c4ccc(CC3CCC[N+](Cc1ccccc1)(Cc2ccc(cc2...   0.0  \n",
       "47662                     C1=CSC(=C1)C2=CC=C(S2)C3=CC=CS3   0.0  \n",
       "48541                                              [Ti+4]   0.0  \n",
       "48610               C[N+]1(C)CCC(CC1)=C(c2ccccc2)c3ccccc3   0.0  \n",
       "53339                                   C#Cc1cccc2ccccc12   0.0  \n",
       "56345                    C[N+](C)(C)CCCCCCCCCC[N+](C)(C)C   0.0  \n",
       "58101                                               [Cs+]   0.0  \n",
       "60532                         CC2CCC1C(CC1(C)C)C(=C)CCC=2   0.0  \n",
       "61615                                              C=CCSC   0.0  \n",
       "62894                                      Clc1ccc(Cl)cc1   0.0  \n",
       "63294   CC(C=CC=C(C)C=CC1=C(C)CCCC1(C)C)=CC=CC=C(C)C=C...   0.0  \n",
       "65257                      CC(=C)C1CCC(C)(C=C)C(C1)C(C)=C   0.0  \n",
       "67916                        CC3(C)CCCC1(C)C(=C)C2CCC1C23   0.0  \n",
       "67917                       CCCCCCCCCCCCCCCCCC[N+](C)(C)C   0.0  \n",
       "70413          CC(C)CCCC(C)CCCC(C)CCCCC(C)CCCC(C)CCCC(C)C   0.0  \n",
       "71670                               IC23CC1CC(CC(C1)C2)C3   0.0  \n",
       "72798                 CCCCCCCCCCCCCCCC[N+](C)(C)Cc1ccccc1   0.0  \n",
       "73109                        BrC1C(Br)C(Br)C(Br)C(Br)C1Br   0.0  \n",
       "73158                            c1ccc3c(c1)[I+]c2ccccc23   0.0  \n",
       "75096                                     Cc1cccc2ccccc12   0.0  \n",
       "79094                         CCCCCCCCCCCCCCCC[N+](C)(C)C   0.0  \n",
       "80228                                           CC(=C)C=C   0.0  \n",
       "87985                       CCCCCCCCCC[N+](C)(C)Cc1ccccc1   0.0  \n",
       "88104                                           C=CCSCC=C   0.0  \n",
       "88313                 ClC(Cl)=C(c1ccc(Cl)cc1)c2ccc(Cl)cc2   0.0  \n",
       "97304                        C[N+](C)(C)CCCCCC[N+](C)(C)C   0.0  \n",
       "97445                                    CC[N+]1(C)CCCCC1   0.0  \n",
       "97990                        c1ccc3c(c1)ccc4c2ccccc2ccc34   0.0  \n",
       "100361                CCCCCCC[N+](CC)(CC)CCCCc1ccc(Cl)cc1   0.0  \n",
       "100978                                CC1(C)C2CCC(=C)C1C2   0.0  \n",
       "101161  FC(F)(F)C(F)(F)C(F)(F)C(F)(F)C(F)(F)C(F)(F)C(F...   0.0  \n",
       "104494                                                  I   0.0  \n",
       "104531                                 CC(=C)C1CCC(C)=CC1   0.0  \n",
       "110583                                   CSc1cccc(Cl)c1Cl   0.0  \n",
       "111270                                              CSSSC   0.0  \n",
       "111666   CC(C)=CCCC(C)=CCCC(C)=CCCC=C(C)CCC=C(C)CCC=C(C)C   0.0  \n",
       "114867                                     Clc1cccc(Cl)c1   0.0  "
      ]
     },
     "execution_count": 36,
     "metadata": {},
     "output_type": "execute_result"
    }
   ],
   "source": [
    "df_md_zero = df_metadata[df_metadata['TPSA'] == 0.0]\n",
    "print(f\" Metadata entries with TPSA == 0.0: {len(df_md_zero)}\")\n",
    "df_md_nan = df_metadata[df_metadata['TPSA'].isna()]\n",
    "print(f\" Metadata entries with TPSA == Nan: {len(df_md_nan)}\")\n",
    "df_md_inv = pd.concat((df_md_zero, df_md_nan))\n",
    "print(f\" Metadata entries with TPSA == Nan or 0.0: {len(df_md_inv)}\")\n",
    "df_md_inv"
   ]
  },
  {
   "cell_type": "markdown",
   "id": "09aa116f",
   "metadata": {
    "heading_collapsed": true,
    "jp-MarkdownHeadingCollapsed": true
   },
   "source": [
    "### TPSA file"
   ]
  },
  {
   "cell_type": "code",
   "execution_count": 38,
   "id": "5ce945bb",
   "metadata": {
    "ExecuteTime": {
     "end_time": "2023-06-28T19:22:28.963612Z",
     "start_time": "2023-06-28T19:22:28.903983Z"
    },
    "execution": {
     "iopub.execute_input": "2023-11-10T21:13:14.323720Z",
     "iopub.status.busy": "2023-11-10T21:13:14.323429Z",
     "iopub.status.idle": "2023-11-10T21:13:14.375819Z",
     "shell.execute_reply": "2023-11-10T21:13:14.374891Z",
     "shell.execute_reply.started": "2023-11-10T21:13:14.323704Z"
    },
    "hidden": true
   },
   "outputs": [
    {
     "data": {
      "text/plain": [
       "116751"
      ]
     },
     "execution_count": 38,
     "metadata": {},
     "output_type": "execute_result"
    },
    {
     "name": "stdout",
     "output_type": "stream",
     "text": [
      " TPSA entries == 0.0: 60\n",
      " TPSA entries Nan : 0\n",
      " TPSA entries == 0.0 OR NaN: 60\n"
     ]
    },
    {
     "data": {
      "text/html": [
       "<div>\n",
       "<style scoped>\n",
       "    .dataframe tbody tr th:only-of-type {\n",
       "        vertical-align: middle;\n",
       "    }\n",
       "\n",
       "    .dataframe tbody tr th {\n",
       "        vertical-align: top;\n",
       "    }\n",
       "\n",
       "    .dataframe thead th {\n",
       "        text-align: right;\n",
       "    }\n",
       "</style>\n",
       "<table border=\"1\" class=\"dataframe\">\n",
       "  <thead>\n",
       "    <tr style=\"text-align: right;\">\n",
       "      <th></th>\n",
       "      <th>JCP2022</th>\n",
       "      <th>TPSA</th>\n",
       "    </tr>\n",
       "  </thead>\n",
       "  <tbody>\n",
       "    <tr>\n",
       "      <th>134</th>\n",
       "      <td>JCP2022_000135</td>\n",
       "      <td>0.0</td>\n",
       "    </tr>\n",
       "    <tr>\n",
       "      <th>5457</th>\n",
       "      <td>JCP2022_005458</td>\n",
       "      <td>0.0</td>\n",
       "    </tr>\n",
       "    <tr>\n",
       "      <th>8035</th>\n",
       "      <td>JCP2022_008036</td>\n",
       "      <td>0.0</td>\n",
       "    </tr>\n",
       "    <tr>\n",
       "      <th>8377</th>\n",
       "      <td>JCP2022_008378</td>\n",
       "      <td>0.0</td>\n",
       "    </tr>\n",
       "    <tr>\n",
       "      <th>10111</th>\n",
       "      <td>JCP2022_010112</td>\n",
       "      <td>0.0</td>\n",
       "    </tr>\n",
       "    <tr>\n",
       "      <th>13018</th>\n",
       "      <td>JCP2022_013019</td>\n",
       "      <td>0.0</td>\n",
       "    </tr>\n",
       "    <tr>\n",
       "      <th>14190</th>\n",
       "      <td>JCP2022_014191</td>\n",
       "      <td>0.0</td>\n",
       "    </tr>\n",
       "    <tr>\n",
       "      <th>14400</th>\n",
       "      <td>JCP2022_014401</td>\n",
       "      <td>0.0</td>\n",
       "    </tr>\n",
       "    <tr>\n",
       "      <th>16125</th>\n",
       "      <td>JCP2022_016126</td>\n",
       "      <td>0.0</td>\n",
       "    </tr>\n",
       "    <tr>\n",
       "      <th>21236</th>\n",
       "      <td>JCP2022_021237</td>\n",
       "      <td>0.0</td>\n",
       "    </tr>\n",
       "    <tr>\n",
       "      <th>21600</th>\n",
       "      <td>JCP2022_021601</td>\n",
       "      <td>0.0</td>\n",
       "    </tr>\n",
       "    <tr>\n",
       "      <th>21659</th>\n",
       "      <td>JCP2022_021660</td>\n",
       "      <td>0.0</td>\n",
       "    </tr>\n",
       "    <tr>\n",
       "      <th>23414</th>\n",
       "      <td>JCP2022_023415</td>\n",
       "      <td>0.0</td>\n",
       "    </tr>\n",
       "    <tr>\n",
       "      <th>23421</th>\n",
       "      <td>JCP2022_023422</td>\n",
       "      <td>0.0</td>\n",
       "    </tr>\n",
       "    <tr>\n",
       "      <th>27359</th>\n",
       "      <td>JCP2022_027360</td>\n",
       "      <td>0.0</td>\n",
       "    </tr>\n",
       "    <tr>\n",
       "      <th>29339</th>\n",
       "      <td>JCP2022_029341</td>\n",
       "      <td>0.0</td>\n",
       "    </tr>\n",
       "    <tr>\n",
       "      <th>29890</th>\n",
       "      <td>JCP2022_029892</td>\n",
       "      <td>0.0</td>\n",
       "    </tr>\n",
       "    <tr>\n",
       "      <th>32192</th>\n",
       "      <td>JCP2022_032194</td>\n",
       "      <td>0.0</td>\n",
       "    </tr>\n",
       "    <tr>\n",
       "      <th>37158</th>\n",
       "      <td>JCP2022_037160</td>\n",
       "      <td>0.0</td>\n",
       "    </tr>\n",
       "    <tr>\n",
       "      <th>38237</th>\n",
       "      <td>JCP2022_038239</td>\n",
       "      <td>0.0</td>\n",
       "    </tr>\n",
       "    <tr>\n",
       "      <th>40830</th>\n",
       "      <td>JCP2022_040832</td>\n",
       "      <td>0.0</td>\n",
       "    </tr>\n",
       "    <tr>\n",
       "      <th>41302</th>\n",
       "      <td>JCP2022_041304</td>\n",
       "      <td>0.0</td>\n",
       "    </tr>\n",
       "    <tr>\n",
       "      <th>42497</th>\n",
       "      <td>JCP2022_042499</td>\n",
       "      <td>0.0</td>\n",
       "    </tr>\n",
       "    <tr>\n",
       "      <th>42864</th>\n",
       "      <td>JCP2022_042866</td>\n",
       "      <td>0.0</td>\n",
       "    </tr>\n",
       "    <tr>\n",
       "      <th>47662</th>\n",
       "      <td>JCP2022_047664</td>\n",
       "      <td>0.0</td>\n",
       "    </tr>\n",
       "    <tr>\n",
       "      <th>48541</th>\n",
       "      <td>JCP2022_048543</td>\n",
       "      <td>0.0</td>\n",
       "    </tr>\n",
       "    <tr>\n",
       "      <th>48610</th>\n",
       "      <td>JCP2022_048612</td>\n",
       "      <td>0.0</td>\n",
       "    </tr>\n",
       "    <tr>\n",
       "      <th>53339</th>\n",
       "      <td>JCP2022_053341</td>\n",
       "      <td>0.0</td>\n",
       "    </tr>\n",
       "    <tr>\n",
       "      <th>56345</th>\n",
       "      <td>JCP2022_056347</td>\n",
       "      <td>0.0</td>\n",
       "    </tr>\n",
       "    <tr>\n",
       "      <th>58101</th>\n",
       "      <td>JCP2022_058103</td>\n",
       "      <td>0.0</td>\n",
       "    </tr>\n",
       "    <tr>\n",
       "      <th>60532</th>\n",
       "      <td>JCP2022_060534</td>\n",
       "      <td>0.0</td>\n",
       "    </tr>\n",
       "    <tr>\n",
       "      <th>61615</th>\n",
       "      <td>JCP2022_061617</td>\n",
       "      <td>0.0</td>\n",
       "    </tr>\n",
       "    <tr>\n",
       "      <th>62894</th>\n",
       "      <td>JCP2022_062896</td>\n",
       "      <td>0.0</td>\n",
       "    </tr>\n",
       "    <tr>\n",
       "      <th>63294</th>\n",
       "      <td>JCP2022_063296</td>\n",
       "      <td>0.0</td>\n",
       "    </tr>\n",
       "    <tr>\n",
       "      <th>65257</th>\n",
       "      <td>JCP2022_065259</td>\n",
       "      <td>0.0</td>\n",
       "    </tr>\n",
       "    <tr>\n",
       "      <th>67916</th>\n",
       "      <td>JCP2022_067919</td>\n",
       "      <td>0.0</td>\n",
       "    </tr>\n",
       "    <tr>\n",
       "      <th>67917</th>\n",
       "      <td>JCP2022_067920</td>\n",
       "      <td>0.0</td>\n",
       "    </tr>\n",
       "    <tr>\n",
       "      <th>70413</th>\n",
       "      <td>JCP2022_070416</td>\n",
       "      <td>0.0</td>\n",
       "    </tr>\n",
       "    <tr>\n",
       "      <th>71670</th>\n",
       "      <td>JCP2022_071673</td>\n",
       "      <td>0.0</td>\n",
       "    </tr>\n",
       "    <tr>\n",
       "      <th>72798</th>\n",
       "      <td>JCP2022_072801</td>\n",
       "      <td>0.0</td>\n",
       "    </tr>\n",
       "    <tr>\n",
       "      <th>73109</th>\n",
       "      <td>JCP2022_073112</td>\n",
       "      <td>0.0</td>\n",
       "    </tr>\n",
       "    <tr>\n",
       "      <th>73158</th>\n",
       "      <td>JCP2022_073161</td>\n",
       "      <td>0.0</td>\n",
       "    </tr>\n",
       "    <tr>\n",
       "      <th>75096</th>\n",
       "      <td>JCP2022_075099</td>\n",
       "      <td>0.0</td>\n",
       "    </tr>\n",
       "    <tr>\n",
       "      <th>79094</th>\n",
       "      <td>JCP2022_079097</td>\n",
       "      <td>0.0</td>\n",
       "    </tr>\n",
       "    <tr>\n",
       "      <th>80228</th>\n",
       "      <td>JCP2022_080231</td>\n",
       "      <td>0.0</td>\n",
       "    </tr>\n",
       "    <tr>\n",
       "      <th>87985</th>\n",
       "      <td>JCP2022_087988</td>\n",
       "      <td>0.0</td>\n",
       "    </tr>\n",
       "    <tr>\n",
       "      <th>88104</th>\n",
       "      <td>JCP2022_088107</td>\n",
       "      <td>0.0</td>\n",
       "    </tr>\n",
       "    <tr>\n",
       "      <th>88313</th>\n",
       "      <td>JCP2022_088316</td>\n",
       "      <td>0.0</td>\n",
       "    </tr>\n",
       "    <tr>\n",
       "      <th>97304</th>\n",
       "      <td>JCP2022_097307</td>\n",
       "      <td>0.0</td>\n",
       "    </tr>\n",
       "    <tr>\n",
       "      <th>97445</th>\n",
       "      <td>JCP2022_097448</td>\n",
       "      <td>0.0</td>\n",
       "    </tr>\n",
       "    <tr>\n",
       "      <th>97990</th>\n",
       "      <td>JCP2022_097993</td>\n",
       "      <td>0.0</td>\n",
       "    </tr>\n",
       "    <tr>\n",
       "      <th>100361</th>\n",
       "      <td>JCP2022_100364</td>\n",
       "      <td>0.0</td>\n",
       "    </tr>\n",
       "    <tr>\n",
       "      <th>100978</th>\n",
       "      <td>JCP2022_100981</td>\n",
       "      <td>0.0</td>\n",
       "    </tr>\n",
       "    <tr>\n",
       "      <th>101161</th>\n",
       "      <td>JCP2022_101164</td>\n",
       "      <td>0.0</td>\n",
       "    </tr>\n",
       "    <tr>\n",
       "      <th>104494</th>\n",
       "      <td>JCP2022_104497</td>\n",
       "      <td>0.0</td>\n",
       "    </tr>\n",
       "    <tr>\n",
       "      <th>104531</th>\n",
       "      <td>JCP2022_104534</td>\n",
       "      <td>0.0</td>\n",
       "    </tr>\n",
       "    <tr>\n",
       "      <th>110583</th>\n",
       "      <td>JCP2022_110586</td>\n",
       "      <td>0.0</td>\n",
       "    </tr>\n",
       "    <tr>\n",
       "      <th>111270</th>\n",
       "      <td>JCP2022_111273</td>\n",
       "      <td>0.0</td>\n",
       "    </tr>\n",
       "    <tr>\n",
       "      <th>111666</th>\n",
       "      <td>JCP2022_111669</td>\n",
       "      <td>0.0</td>\n",
       "    </tr>\n",
       "    <tr>\n",
       "      <th>114867</th>\n",
       "      <td>JCP2022_114870</td>\n",
       "      <td>0.0</td>\n",
       "    </tr>\n",
       "  </tbody>\n",
       "</table>\n",
       "</div>"
      ],
      "text/plain": [
       "               JCP2022  TPSA\n",
       "134     JCP2022_000135   0.0\n",
       "5457    JCP2022_005458   0.0\n",
       "8035    JCP2022_008036   0.0\n",
       "8377    JCP2022_008378   0.0\n",
       "10111   JCP2022_010112   0.0\n",
       "13018   JCP2022_013019   0.0\n",
       "14190   JCP2022_014191   0.0\n",
       "14400   JCP2022_014401   0.0\n",
       "16125   JCP2022_016126   0.0\n",
       "21236   JCP2022_021237   0.0\n",
       "21600   JCP2022_021601   0.0\n",
       "21659   JCP2022_021660   0.0\n",
       "23414   JCP2022_023415   0.0\n",
       "23421   JCP2022_023422   0.0\n",
       "27359   JCP2022_027360   0.0\n",
       "29339   JCP2022_029341   0.0\n",
       "29890   JCP2022_029892   0.0\n",
       "32192   JCP2022_032194   0.0\n",
       "37158   JCP2022_037160   0.0\n",
       "38237   JCP2022_038239   0.0\n",
       "40830   JCP2022_040832   0.0\n",
       "41302   JCP2022_041304   0.0\n",
       "42497   JCP2022_042499   0.0\n",
       "42864   JCP2022_042866   0.0\n",
       "47662   JCP2022_047664   0.0\n",
       "48541   JCP2022_048543   0.0\n",
       "48610   JCP2022_048612   0.0\n",
       "53339   JCP2022_053341   0.0\n",
       "56345   JCP2022_056347   0.0\n",
       "58101   JCP2022_058103   0.0\n",
       "60532   JCP2022_060534   0.0\n",
       "61615   JCP2022_061617   0.0\n",
       "62894   JCP2022_062896   0.0\n",
       "63294   JCP2022_063296   0.0\n",
       "65257   JCP2022_065259   0.0\n",
       "67916   JCP2022_067919   0.0\n",
       "67917   JCP2022_067920   0.0\n",
       "70413   JCP2022_070416   0.0\n",
       "71670   JCP2022_071673   0.0\n",
       "72798   JCP2022_072801   0.0\n",
       "73109   JCP2022_073112   0.0\n",
       "73158   JCP2022_073161   0.0\n",
       "75096   JCP2022_075099   0.0\n",
       "79094   JCP2022_079097   0.0\n",
       "80228   JCP2022_080231   0.0\n",
       "87985   JCP2022_087988   0.0\n",
       "88104   JCP2022_088107   0.0\n",
       "88313   JCP2022_088316   0.0\n",
       "97304   JCP2022_097307   0.0\n",
       "97445   JCP2022_097448   0.0\n",
       "97990   JCP2022_097993   0.0\n",
       "100361  JCP2022_100364   0.0\n",
       "100978  JCP2022_100981   0.0\n",
       "101161  JCP2022_101164   0.0\n",
       "104494  JCP2022_104497   0.0\n",
       "104531  JCP2022_104534   0.0\n",
       "110583  JCP2022_110586   0.0\n",
       "111270  JCP2022_111273   0.0\n",
       "111666  JCP2022_111669   0.0\n",
       "114867  JCP2022_114870   0.0"
      ]
     },
     "execution_count": 38,
     "metadata": {},
     "output_type": "execute_result"
    }
   ],
   "source": [
    "len(df_tpsa)\n",
    "df_tpsa_zero = df_tpsa[df_tpsa['TPSA'] == 0.0]\n",
    "print(f\" TPSA entries == 0.0: {len(df_tpsa_zero)}\")\n",
    "# df_tpsa_zero\n",
    "df_tpsa_nan = df_tpsa[df_tpsa['TPSA'].isna()]\n",
    "print(f\" TPSA entries Nan : {len(df_tpsa_nan)}\")\n",
    "# df_tpsa_nan\n",
    "df_tpsa_inv = pd.concat((df_tpsa_zero, df_tpsa_nan))\n",
    "print(f\" TPSA entries == 0.0 OR NaN: {len(df_tpsa_inv)}\")\n",
    "df_tpsa_inv"
   ]
  },
  {
   "cell_type": "markdown",
   "id": "b9552c82",
   "metadata": {
    "heading_collapsed": true,
    "jp-MarkdownHeadingCollapsed": true
   },
   "source": [
    "### Get indicies of rows to drop (from TPSA and Metadata files)"
   ]
  },
  {
   "cell_type": "code",
   "execution_count": 39,
   "id": "c4639714",
   "metadata": {
    "ExecuteTime": {
     "end_time": "2023-06-28T19:23:00.429035Z",
     "start_time": "2023-06-28T19:23:00.389278Z"
    },
    "execution": {
     "iopub.execute_input": "2023-11-10T21:13:30.958657Z",
     "iopub.status.busy": "2023-11-10T21:13:30.958375Z",
     "iopub.status.idle": "2023-11-10T21:13:30.973156Z",
     "shell.execute_reply": "2023-11-10T21:13:30.972524Z",
     "shell.execute_reply.started": "2023-11-10T21:13:30.958642Z"
    },
    "hidden": true
   },
   "outputs": [
    {
     "data": {
      "text/plain": [
       "60"
      ]
     },
     "execution_count": 39,
     "metadata": {},
     "output_type": "execute_result"
    },
    {
     "data": {
      "text/plain": [
       "array([   134,   5457,   8035,   8377,  10111,  13018,  14190,  14400,  16125,  21236,  21600,  21659,  23414,  23421,  27359,  29339,  29890,\n",
       "        32192,  37158,  38237,  40830,  41302,  42497,  42864,  47662,  48541,  48610,  53339,  56345,  58101,  60532,  61615,  62894,  63294,\n",
       "        65257,  67916,  67917,  70413,  71670,  72798,  73109,  73158,  75096,  79094,  80228,  87985,  88104,  88313,  97304,  97445,  97990,\n",
       "       100361, 100978, 101161, 104494, 104531, 110583, 111270, 111666, 114867])"
      ]
     },
     "execution_count": 39,
     "metadata": {},
     "output_type": "execute_result"
    }
   ],
   "source": [
    "md_drop_indices = df_md_inv.index.values\n",
    "len(md_drop_indices)\n",
    "md_drop_indices"
   ]
  },
  {
   "cell_type": "code",
   "execution_count": 40,
   "id": "2f93f3de",
   "metadata": {
    "ExecuteTime": {
     "end_time": "2023-06-28T19:22:56.308516Z",
     "start_time": "2023-06-28T19:22:56.268379Z"
    },
    "execution": {
     "iopub.execute_input": "2023-11-10T21:13:32.328309Z",
     "iopub.status.busy": "2023-11-10T21:13:32.328031Z",
     "iopub.status.idle": "2023-11-10T21:13:32.343662Z",
     "shell.execute_reply": "2023-11-10T21:13:32.342975Z",
     "shell.execute_reply.started": "2023-11-10T21:13:32.328292Z"
    },
    "hidden": true
   },
   "outputs": [
    {
     "data": {
      "text/plain": [
       "60"
      ]
     },
     "execution_count": 40,
     "metadata": {},
     "output_type": "execute_result"
    },
    {
     "data": {
      "text/plain": [
       "array([   134,   5457,   8035,   8377,  10111,  13018,  14190,  14400,  16125,  21236,  21600,  21659,  23414,  23421,  27359,  29339,  29890,\n",
       "        32192,  37158,  38237,  40830,  41302,  42497,  42864,  47662,  48541,  48610,  53339,  56345,  58101,  60532,  61615,  62894,  63294,\n",
       "        65257,  67916,  67917,  70413,  71670,  72798,  73109,  73158,  75096,  79094,  80228,  87985,  88104,  88313,  97304,  97445,  97990,\n",
       "       100361, 100978, 101161, 104494, 104531, 110583, 111270, 111666, 114867])"
      ]
     },
     "execution_count": 40,
     "metadata": {},
     "output_type": "execute_result"
    }
   ],
   "source": [
    "tpsa_drop_indices = df_tpsa_inv.index.values\n",
    "len(tpsa_drop_indices)\n",
    "tpsa_drop_indices"
   ]
  },
  {
   "cell_type": "code",
   "execution_count": 41,
   "id": "67914b76",
   "metadata": {
    "ExecuteTime": {
     "end_time": "2023-06-28T19:23:02.179263Z",
     "start_time": "2023-06-28T19:23:02.138882Z"
    },
    "execution": {
     "iopub.execute_input": "2023-11-10T21:13:32.514545Z",
     "iopub.status.busy": "2023-11-10T21:13:32.514067Z",
     "iopub.status.idle": "2023-11-10T21:13:32.527661Z",
     "shell.execute_reply": "2023-11-10T21:13:32.527039Z",
     "shell.execute_reply.started": "2023-11-10T21:13:32.514520Z"
    },
    "hidden": true
   },
   "outputs": [
    {
     "data": {
      "text/plain": [
       "((60,), (60,))"
      ]
     },
     "execution_count": 41,
     "metadata": {},
     "output_type": "execute_result"
    },
    {
     "data": {
      "text/plain": [
       "True"
      ]
     },
     "execution_count": 41,
     "metadata": {},
     "output_type": "execute_result"
    }
   ],
   "source": [
    "md_drop_indices.shape, tpsa_drop_indices.shape\n",
    "(md_drop_indices == tpsa_drop_indices).all()"
   ]
  },
  {
   "cell_type": "markdown",
   "id": "aac49c4f",
   "metadata": {
    "heading_collapsed": true,
    "jp-MarkdownHeadingCollapsed": true
   },
   "source": [
    "### Drop rows from `df_tpsa` and `df_metadata`"
   ]
  },
  {
   "cell_type": "markdown",
   "id": "ea8b5dc1",
   "metadata": {
    "heading_collapsed": true,
    "hidden": true
   },
   "source": [
    "  #### df_metadata "
   ]
  },
  {
   "cell_type": "code",
   "execution_count": 42,
   "id": "da8492d1-6f90-49b4-a270-8b8773f890c9",
   "metadata": {
    "ExecuteTime": {
     "end_time": "2023-06-28T19:23:21.436690Z",
     "start_time": "2023-06-28T19:23:21.382041Z"
    },
    "execution": {
     "iopub.execute_input": "2023-11-10T21:14:16.523749Z",
     "iopub.status.busy": "2023-11-10T21:14:16.523441Z",
     "iopub.status.idle": "2023-11-10T21:14:16.556547Z",
     "shell.execute_reply": "2023-11-10T21:14:16.555774Z",
     "shell.execute_reply.started": "2023-11-10T21:14:16.523731Z"
    },
    "hidden": true
   },
   "outputs": [
    {
     "data": {
      "text/plain": [
       "116691"
      ]
     },
     "execution_count": 42,
     "metadata": {},
     "output_type": "execute_result"
    }
   ],
   "source": [
    "df_metadata.drop(index=md_drop_indices, inplace=True)\n",
    "len(df_metadata)"
   ]
  },
  {
   "cell_type": "code",
   "execution_count": 43,
   "id": "51f4f79f-3b88-4550-ad2a-2cbee5a3f62e",
   "metadata": {
    "ExecuteTime": {
     "end_time": "2023-06-28T19:23:57.336261Z",
     "start_time": "2023-06-28T19:23:57.291640Z"
    },
    "execution": {
     "iopub.execute_input": "2023-11-10T21:14:31.592836Z",
     "iopub.status.busy": "2023-11-10T21:14:31.592588Z",
     "iopub.status.idle": "2023-11-10T21:14:31.608070Z",
     "shell.execute_reply": "2023-11-10T21:14:31.607485Z",
     "shell.execute_reply.started": "2023-11-10T21:14:31.592819Z"
    },
    "hidden": true
   },
   "outputs": [
    {
     "data": {
      "text/plain": [
       "0"
      ]
     },
     "execution_count": 43,
     "metadata": {},
     "output_type": "execute_result"
    },
    {
     "data": {
      "text/html": [
       "<div>\n",
       "<style scoped>\n",
       "    .dataframe tbody tr th:only-of-type {\n",
       "        vertical-align: middle;\n",
       "    }\n",
       "\n",
       "    .dataframe tbody tr th {\n",
       "        vertical-align: top;\n",
       "    }\n",
       "\n",
       "    .dataframe thead th {\n",
       "        text-align: right;\n",
       "    }\n",
       "</style>\n",
       "<table border=\"1\" class=\"dataframe\">\n",
       "  <thead>\n",
       "    <tr style=\"text-align: right;\">\n",
       "      <th></th>\n",
       "      <th>Metadata_JCP2022</th>\n",
       "      <th>Metadata_InChIKey</th>\n",
       "      <th>Metadata_InChI</th>\n",
       "      <th>smiles</th>\n",
       "      <th>TPSA</th>\n",
       "    </tr>\n",
       "  </thead>\n",
       "  <tbody>\n",
       "  </tbody>\n",
       "</table>\n",
       "</div>"
      ],
      "text/plain": [
       "Empty DataFrame\n",
       "Columns: [Metadata_JCP2022, Metadata_InChIKey, Metadata_InChI, smiles, TPSA]\n",
       "Index: []"
      ]
     },
     "execution_count": 43,
     "metadata": {},
     "output_type": "execute_result"
    }
   ],
   "source": [
    "df_temp = df_metadata[df_metadata['TPSA'] == 0.0]\n",
    "len(df_temp)\n",
    "df_temp\n",
    "\n",
    "# df = df_metadata[df_metadata.Metadata_InChIKey.isna()]\n",
    "# len(df)\n",
    "# df"
   ]
  },
  {
   "cell_type": "markdown",
   "id": "66ddb589",
   "metadata": {
    "heading_collapsed": true,
    "hidden": true
   },
   "source": [
    "  #### df_TPSA"
   ]
  },
  {
   "cell_type": "code",
   "execution_count": 44,
   "id": "040552eb",
   "metadata": {
    "ExecuteTime": {
     "end_time": "2023-06-28T19:24:50.595576Z",
     "start_time": "2023-06-28T19:24:50.542379Z"
    },
    "execution": {
     "iopub.execute_input": "2023-11-10T21:14:59.243412Z",
     "iopub.status.busy": "2023-11-10T21:14:59.242926Z",
     "iopub.status.idle": "2023-11-10T21:14:59.286473Z",
     "shell.execute_reply": "2023-11-10T21:14:59.285704Z",
     "shell.execute_reply.started": "2023-11-10T21:14:59.243387Z"
    },
    "hidden": true,
    "scrolled": true
   },
   "outputs": [
    {
     "data": {
      "text/plain": [
       "116691"
      ]
     },
     "execution_count": 44,
     "metadata": {},
     "output_type": "execute_result"
    },
    {
     "data": {
      "text/plain": [
       "0"
      ]
     },
     "execution_count": 44,
     "metadata": {},
     "output_type": "execute_result"
    },
    {
     "data": {
      "text/html": [
       "<div>\n",
       "<style scoped>\n",
       "    .dataframe tbody tr th:only-of-type {\n",
       "        vertical-align: middle;\n",
       "    }\n",
       "\n",
       "    .dataframe tbody tr th {\n",
       "        vertical-align: top;\n",
       "    }\n",
       "\n",
       "    .dataframe thead th {\n",
       "        text-align: right;\n",
       "    }\n",
       "</style>\n",
       "<table border=\"1\" class=\"dataframe\">\n",
       "  <thead>\n",
       "    <tr style=\"text-align: right;\">\n",
       "      <th></th>\n",
       "      <th>JCP2022</th>\n",
       "      <th>TPSA</th>\n",
       "    </tr>\n",
       "  </thead>\n",
       "  <tbody>\n",
       "  </tbody>\n",
       "</table>\n",
       "</div>"
      ],
      "text/plain": [
       "Empty DataFrame\n",
       "Columns: [JCP2022, TPSA]\n",
       "Index: []"
      ]
     },
     "execution_count": 44,
     "metadata": {},
     "output_type": "execute_result"
    },
    {
     "data": {
      "text/plain": [
       "0"
      ]
     },
     "execution_count": 44,
     "metadata": {},
     "output_type": "execute_result"
    },
    {
     "data": {
      "text/html": [
       "<div>\n",
       "<style scoped>\n",
       "    .dataframe tbody tr th:only-of-type {\n",
       "        vertical-align: middle;\n",
       "    }\n",
       "\n",
       "    .dataframe tbody tr th {\n",
       "        vertical-align: top;\n",
       "    }\n",
       "\n",
       "    .dataframe thead th {\n",
       "        text-align: right;\n",
       "    }\n",
       "</style>\n",
       "<table border=\"1\" class=\"dataframe\">\n",
       "  <thead>\n",
       "    <tr style=\"text-align: right;\">\n",
       "      <th></th>\n",
       "      <th>JCP2022</th>\n",
       "      <th>TPSA</th>\n",
       "    </tr>\n",
       "  </thead>\n",
       "  <tbody>\n",
       "  </tbody>\n",
       "</table>\n",
       "</div>"
      ],
      "text/plain": [
       "Empty DataFrame\n",
       "Columns: [JCP2022, TPSA]\n",
       "Index: []"
      ]
     },
     "execution_count": 44,
     "metadata": {},
     "output_type": "execute_result"
    }
   ],
   "source": [
    "df_tpsa.drop(index=tpsa_drop_indices, inplace=True)\n",
    "len(df_tpsa)\n",
    "\n",
    "df_temp = df_tpsa[df_tpsa['TPSA'] == 0.0]\n",
    "len(df_temp)\n",
    "df_temp\n",
    "df_temp = df_tpsa[df_tpsa['TPSA'].isna()]\n",
    "len(df_temp)\n",
    "df_temp"
   ]
  },
  {
   "cell_type": "markdown",
   "id": "17cd2d8f-d829-448b-a354-4bc63d2b8dea",
   "metadata": {
    "jp-MarkdownHeadingCollapsed": true
   },
   "source": [
    "##  Add TPSA ln, logbase10 to `df_metadata`"
   ]
  },
  {
   "cell_type": "code",
   "execution_count": 20,
   "id": "ce33ade6-3192-4fbb-af48-d3eddc0db973",
   "metadata": {
    "ExecuteTime": {
     "end_time": "2023-06-28T19:37:50.587623Z",
     "start_time": "2023-06-28T19:37:50.503671Z"
    },
    "execution": {
     "iopub.execute_input": "2024-01-24T11:46:26.886487Z",
     "iopub.status.busy": "2024-01-24T11:46:26.886023Z",
     "iopub.status.idle": "2024-01-24T11:46:26.910102Z",
     "shell.execute_reply": "2024-01-24T11:46:26.909042Z",
     "shell.execute_reply.started": "2024-01-24T11:46:26.886439Z"
    }
   },
   "outputs": [],
   "source": [
    "# print(f\"--> compound Metadata + TPSA Cleaned File    : {compoundMetadataTPSACleanFile}\\n\")\n",
    "# df_metadata = pd.read_csv(compoundMetadataTPSACleanFile)\n",
    "# df_metadata.info()\n",
    "# df_metadata.head(3)\n",
    "# df_metadata.tail(3)"
   ]
  },
  {
   "cell_type": "code",
   "execution_count": 53,
   "id": "7789d8b0-2027-4a0c-971a-199962367c5a",
   "metadata": {
    "ExecuteTime": {
     "end_time": "2023-06-28T19:37:21.946086Z",
     "start_time": "2023-06-28T19:37:21.890421Z"
    },
    "execution": {
     "iopub.execute_input": "2023-11-10T21:18:07.662516Z",
     "iopub.status.busy": "2023-11-10T21:18:07.662318Z",
     "iopub.status.idle": "2023-11-10T21:18:07.674871Z",
     "shell.execute_reply": "2023-11-10T21:18:07.674189Z",
     "shell.execute_reply.started": "2023-11-10T21:18:07.662502Z"
    }
   },
   "outputs": [],
   "source": [
    "# df_metadata.iloc[:5].TPSA\n",
    "# df_metadata.iloc[-5:].TPSA\n",
    "# np.log(df_metadata.iloc[:5].TPSA)\n",
    "# np.log10(df_metadata.iloc[:5].TPSA)\n",
    "# np.log(df_metadata.iloc[-5:].TPSA)\n",
    "# np.log10(df_metadata.iloc[-5:].TPSA)\n",
    "# # all_y = df_labels['TPSA'].to_numpy()\n",
    "# # print(type(all_y), all_y.shape, all_y.dtype)\n",
    "# # print(all_y[:10])\n",
    "# # all_log_y = np.log(all_y)\n",
    "# # print(all_y[:20])\n",
    "# # print(all_log_y[:20])"
   ]
  },
  {
   "cell_type": "code",
   "execution_count": 54,
   "id": "96c0b7ae-5eeb-48a4-8e0b-5b27178158fe",
   "metadata": {
    "ExecuteTime": {
     "end_time": "2023-06-28T19:37:34.108730Z",
     "start_time": "2023-06-28T19:37:34.072553Z"
    },
    "execution": {
     "iopub.execute_input": "2023-11-10T21:18:08.411561Z",
     "iopub.status.busy": "2023-11-10T21:18:08.410943Z",
     "iopub.status.idle": "2023-11-10T21:18:08.426743Z",
     "shell.execute_reply": "2023-11-10T21:18:08.425902Z",
     "shell.execute_reply.started": "2023-11-10T21:18:08.411535Z"
    }
   },
   "outputs": [],
   "source": [
    "df_metadata['lnTPSA']    =   np.log(df_metadata['TPSA'])\n",
    "df_metadata['log10TPSA'] = np.log10(df_metadata['TPSA'])"
   ]
  },
  {
   "cell_type": "code",
   "execution_count": 55,
   "id": "853ede8e-dda0-4577-9fa4-d5bdb484cd6a",
   "metadata": {
    "ExecuteTime": {
     "end_time": "2023-06-28T19:37:34.838947Z",
     "start_time": "2023-06-28T19:37:34.741063Z"
    },
    "execution": {
     "iopub.execute_input": "2023-11-10T21:18:25.535729Z",
     "iopub.status.busy": "2023-11-10T21:18:25.534990Z",
     "iopub.status.idle": "2023-11-10T21:18:25.603861Z",
     "shell.execute_reply": "2023-11-10T21:18:25.603242Z",
     "shell.execute_reply.started": "2023-11-10T21:18:25.535707Z"
    }
   },
   "outputs": [
    {
     "name": "stdout",
     "output_type": "stream",
     "text": [
      "<class 'pandas.core.frame.DataFrame'>\n",
      "Int64Index: 116691 entries, 0 to 116750\n",
      "Data columns (total 7 columns):\n",
      " #   Column             Non-Null Count   Dtype  \n",
      "---  ------             --------------   -----  \n",
      " 0   Metadata_JCP2022   116691 non-null  object \n",
      " 1   Metadata_InChIKey  116691 non-null  object \n",
      " 2   Metadata_InChI     116691 non-null  object \n",
      " 3   smiles             116691 non-null  object \n",
      " 4   TPSA               116691 non-null  float64\n",
      " 5   lnTPSA             116691 non-null  float64\n",
      " 6   log10TPSA          116691 non-null  float64\n",
      "dtypes: float64(3), object(4)\n",
      "memory usage: 7.1+ MB\n"
     ]
    },
    {
     "data": {
      "text/html": [
       "<div>\n",
       "<style scoped>\n",
       "    .dataframe tbody tr th:only-of-type {\n",
       "        vertical-align: middle;\n",
       "    }\n",
       "\n",
       "    .dataframe tbody tr th {\n",
       "        vertical-align: top;\n",
       "    }\n",
       "\n",
       "    .dataframe thead th {\n",
       "        text-align: right;\n",
       "    }\n",
       "</style>\n",
       "<table border=\"1\" class=\"dataframe\">\n",
       "  <thead>\n",
       "    <tr style=\"text-align: right;\">\n",
       "      <th></th>\n",
       "      <th>Metadata_JCP2022</th>\n",
       "      <th>Metadata_InChIKey</th>\n",
       "      <th>Metadata_InChI</th>\n",
       "      <th>smiles</th>\n",
       "      <th>TPSA</th>\n",
       "      <th>lnTPSA</th>\n",
       "      <th>log10TPSA</th>\n",
       "    </tr>\n",
       "  </thead>\n",
       "  <tbody>\n",
       "    <tr>\n",
       "      <th>0</th>\n",
       "      <td>JCP2022_000001</td>\n",
       "      <td>AAAHWCWPZPSPIW-UHFFFAOYSA-N</td>\n",
       "      <td>InChI=1S/C25H31N5O2/c1-4-23-26-14-16-30(23)24-...</td>\n",
       "      <td>CCC1=NC=CN1c2cccc(n2)C3CCCN3C(=O)c4ccc(cc4)OCC...</td>\n",
       "      <td>63.49</td>\n",
       "      <td>4.150882</td>\n",
       "      <td>1.802705</td>\n",
       "    </tr>\n",
       "    <tr>\n",
       "      <th>1</th>\n",
       "      <td>JCP2022_000002</td>\n",
       "      <td>AAAJHRMBUHXWLD-UHFFFAOYSA-N</td>\n",
       "      <td>InChI=1S/C11H13ClN2O/c12-10-4-2-9(3-5-10)8-14-...</td>\n",
       "      <td>OC1=NCCCN1Cc2ccc(Cl)cc2</td>\n",
       "      <td>35.83</td>\n",
       "      <td>3.578786</td>\n",
       "      <td>1.554247</td>\n",
       "    </tr>\n",
       "    <tr>\n",
       "      <th>2</th>\n",
       "      <td>JCP2022_000003</td>\n",
       "      <td>AAALVYBICLMAMA-UHFFFAOYSA-N</td>\n",
       "      <td>InChI=1S/C20H15N3O2/c24-19-15-11-17(21-13-7-3-...</td>\n",
       "      <td>OC2=NC(=O)c3cc(Nc1ccccc1)c(cc23)Nc4ccccc4</td>\n",
       "      <td>73.72</td>\n",
       "      <td>4.300274</td>\n",
       "      <td>1.867585</td>\n",
       "    </tr>\n",
       "    <tr>\n",
       "      <th>3</th>\n",
       "      <td>JCP2022_000004</td>\n",
       "      <td>AAANUZMCJQUYNX-UHFFFAOYSA-N</td>\n",
       "      <td>InChI=1S/C13H22N4O2S/c1-2-7-16-13(5-6-15-16)20...</td>\n",
       "      <td>CCCN1N=CC=C1S(=O)(=O)N2CC3CNCC2CC3</td>\n",
       "      <td>67.23</td>\n",
       "      <td>4.208120</td>\n",
       "      <td>1.827563</td>\n",
       "    </tr>\n",
       "    <tr>\n",
       "      <th>4</th>\n",
       "      <td>JCP2022_000005</td>\n",
       "      <td>AAAQFGUYHFJNHI-UHFFFAOYSA-N</td>\n",
       "      <td>InChI=1S/C22H22ClN5O2/c1-4-24-20(29)12-18-22-2...</td>\n",
       "      <td>CCN=C(O)CC3N=C(c1ccc(Cl)cc1)c2cc(ccc2N4C(C)=NN...</td>\n",
       "      <td>84.89</td>\n",
       "      <td>4.441356</td>\n",
       "      <td>1.928857</td>\n",
       "    </tr>\n",
       "  </tbody>\n",
       "</table>\n",
       "</div>"
      ],
      "text/plain": [
       "  Metadata_JCP2022            Metadata_InChIKey                                     Metadata_InChI  \\\n",
       "0   JCP2022_000001  AAAHWCWPZPSPIW-UHFFFAOYSA-N  InChI=1S/C25H31N5O2/c1-4-23-26-14-16-30(23)24-...   \n",
       "1   JCP2022_000002  AAAJHRMBUHXWLD-UHFFFAOYSA-N  InChI=1S/C11H13ClN2O/c12-10-4-2-9(3-5-10)8-14-...   \n",
       "2   JCP2022_000003  AAALVYBICLMAMA-UHFFFAOYSA-N  InChI=1S/C20H15N3O2/c24-19-15-11-17(21-13-7-3-...   \n",
       "3   JCP2022_000004  AAANUZMCJQUYNX-UHFFFAOYSA-N  InChI=1S/C13H22N4O2S/c1-2-7-16-13(5-6-15-16)20...   \n",
       "4   JCP2022_000005  AAAQFGUYHFJNHI-UHFFFAOYSA-N  InChI=1S/C22H22ClN5O2/c1-4-24-20(29)12-18-22-2...   \n",
       "\n",
       "                                              smiles   TPSA    lnTPSA  log10TPSA  \n",
       "0  CCC1=NC=CN1c2cccc(n2)C3CCCN3C(=O)c4ccc(cc4)OCC...  63.49  4.150882   1.802705  \n",
       "1                            OC1=NCCCN1Cc2ccc(Cl)cc2  35.83  3.578786   1.554247  \n",
       "2          OC2=NC(=O)c3cc(Nc1ccccc1)c(cc23)Nc4ccccc4  73.72  4.300274   1.867585  \n",
       "3                 CCCN1N=CC=C1S(=O)(=O)N2CC3CNCC2CC3  67.23  4.208120   1.827563  \n",
       "4  CCN=C(O)CC3N=C(c1ccc(Cl)cc1)c2cc(ccc2N4C(C)=NN...  84.89  4.441356   1.928857  "
      ]
     },
     "execution_count": 55,
     "metadata": {},
     "output_type": "execute_result"
    },
    {
     "data": {
      "text/html": [
       "<div>\n",
       "<style scoped>\n",
       "    .dataframe tbody tr th:only-of-type {\n",
       "        vertical-align: middle;\n",
       "    }\n",
       "\n",
       "    .dataframe tbody tr th {\n",
       "        vertical-align: top;\n",
       "    }\n",
       "\n",
       "    .dataframe thead th {\n",
       "        text-align: right;\n",
       "    }\n",
       "</style>\n",
       "<table border=\"1\" class=\"dataframe\">\n",
       "  <thead>\n",
       "    <tr style=\"text-align: right;\">\n",
       "      <th></th>\n",
       "      <th>Metadata_JCP2022</th>\n",
       "      <th>Metadata_InChIKey</th>\n",
       "      <th>Metadata_InChI</th>\n",
       "      <th>smiles</th>\n",
       "      <th>TPSA</th>\n",
       "      <th>lnTPSA</th>\n",
       "      <th>log10TPSA</th>\n",
       "    </tr>\n",
       "  </thead>\n",
       "  <tbody>\n",
       "    <tr>\n",
       "      <th>116746</th>\n",
       "      <td>JCP2022_116749</td>\n",
       "      <td>ZZZRUAITSXLWBH-UHFFFAOYSA-N</td>\n",
       "      <td>InChI=1S/C23H27N3O7/c1-25(2)12-5-6-13(27)15-10...</td>\n",
       "      <td>CN(C)C3C(=O)C(C(=N)O)C(=O)C4(O)C(=O)C2C(=O)c1c...</td>\n",
       "      <td>159.30</td>\n",
       "      <td>5.070789</td>\n",
       "      <td>2.202216</td>\n",
       "    </tr>\n",
       "    <tr>\n",
       "      <th>116747</th>\n",
       "      <td>JCP2022_116750</td>\n",
       "      <td>ZZZTXDPKNAOZPM-UHFFFAOYSA-N</td>\n",
       "      <td>InChI=1S/C22H27N3O2/c1-14-18(22(27)24-15(2)23-...</td>\n",
       "      <td>Cc4nc(C)c(CCC(=O)N(C1CC1)C2CCCc3ccccc23)c(O)n4</td>\n",
       "      <td>66.32</td>\n",
       "      <td>4.194492</td>\n",
       "      <td>1.821645</td>\n",
       "    </tr>\n",
       "    <tr>\n",
       "      <th>116748</th>\n",
       "      <td>JCP2022_116751</td>\n",
       "      <td>ZZZUOLMMTJKOGE-UHFFFAOYSA-N</td>\n",
       "      <td>InChI=1S/C19H17N5O2/c1-23-9-6-13-7-10-24(19(26...</td>\n",
       "      <td>CN4C=CC3C=CN(CCN=C(O)c2cnc1ccccc1n2)C(=O)C=34</td>\n",
       "      <td>85.30</td>\n",
       "      <td>4.446174</td>\n",
       "      <td>1.930949</td>\n",
       "    </tr>\n",
       "    <tr>\n",
       "      <th>116749</th>\n",
       "      <td>JCP2022_116752</td>\n",
       "      <td>ZZZZIBSVRUABIA-UHFFFAOYSA-N</td>\n",
       "      <td>InChI=1S/C19H13F6N3O2S/c1-11-26-6-5-17(27-11)1...</td>\n",
       "      <td>Cc1nccc(n1)c2cccc(c2)NS(=O)(=O)c3cc(cc(c3)C(F)...</td>\n",
       "      <td>71.95</td>\n",
       "      <td>4.275971</td>\n",
       "      <td>1.857031</td>\n",
       "    </tr>\n",
       "    <tr>\n",
       "      <th>116750</th>\n",
       "      <td>JCP2022_116753</td>\n",
       "      <td>ZZZZVNLQWWXZTQ-UHFFFAOYSA-N</td>\n",
       "      <td>InChI=1S/C14H20N2O3/c1-18-13-5-3-2-4-12(13)14(...</td>\n",
       "      <td>COc1ccccc1C(O)=NCCN2CCOCC2</td>\n",
       "      <td>54.29</td>\n",
       "      <td>3.994340</td>\n",
       "      <td>1.734720</td>\n",
       "    </tr>\n",
       "  </tbody>\n",
       "</table>\n",
       "</div>"
      ],
      "text/plain": [
       "       Metadata_JCP2022            Metadata_InChIKey                                     Metadata_InChI  \\\n",
       "116746   JCP2022_116749  ZZZRUAITSXLWBH-UHFFFAOYSA-N  InChI=1S/C23H27N3O7/c1-25(2)12-5-6-13(27)15-10...   \n",
       "116747   JCP2022_116750  ZZZTXDPKNAOZPM-UHFFFAOYSA-N  InChI=1S/C22H27N3O2/c1-14-18(22(27)24-15(2)23-...   \n",
       "116748   JCP2022_116751  ZZZUOLMMTJKOGE-UHFFFAOYSA-N  InChI=1S/C19H17N5O2/c1-23-9-6-13-7-10-24(19(26...   \n",
       "116749   JCP2022_116752  ZZZZIBSVRUABIA-UHFFFAOYSA-N  InChI=1S/C19H13F6N3O2S/c1-11-26-6-5-17(27-11)1...   \n",
       "116750   JCP2022_116753  ZZZZVNLQWWXZTQ-UHFFFAOYSA-N  InChI=1S/C14H20N2O3/c1-18-13-5-3-2-4-12(13)14(...   \n",
       "\n",
       "                                                   smiles    TPSA    lnTPSA  log10TPSA  \n",
       "116746  CN(C)C3C(=O)C(C(=N)O)C(=O)C4(O)C(=O)C2C(=O)c1c...  159.30  5.070789   2.202216  \n",
       "116747     Cc4nc(C)c(CCC(=O)N(C1CC1)C2CCCc3ccccc23)c(O)n4   66.32  4.194492   1.821645  \n",
       "116748      CN4C=CC3C=CN(CCN=C(O)c2cnc1ccccc1n2)C(=O)C=34   85.30  4.446174   1.930949  \n",
       "116749  Cc1nccc(n1)c2cccc(c2)NS(=O)(=O)c3cc(cc(c3)C(F)...   71.95  4.275971   1.857031  \n",
       "116750                         COc1ccccc1C(O)=NCCN2CCOCC2   54.29  3.994340   1.734720  "
      ]
     },
     "execution_count": 55,
     "metadata": {},
     "output_type": "execute_result"
    }
   ],
   "source": [
    "df_metadata.info()\n",
    "df_metadata.head()\n",
    "df_metadata.tail()"
   ]
  },
  {
   "cell_type": "markdown",
   "id": "f61d9939-8bad-4549-ac4e-2ab9ab33d29c",
   "metadata": {
    "jp-MarkdownHeadingCollapsed": true
   },
   "source": [
    "## Add ln, logbase10 to `df_tpsa.csv`"
   ]
  },
  {
   "cell_type": "code",
   "execution_count": 16,
   "id": "5cdaf292-b8bd-4721-9229-0b8bb79ea2ec",
   "metadata": {
    "ExecuteTime": {
     "end_time": "2023-06-28T19:37:50.015129Z",
     "start_time": "2023-06-28T19:37:49.870907Z"
    },
    "execution": {
     "iopub.execute_input": "2024-01-24T11:37:50.322464Z",
     "iopub.status.busy": "2024-01-24T11:37:50.321967Z",
     "iopub.status.idle": "2024-01-24T11:37:50.356201Z",
     "shell.execute_reply": "2024-01-24T11:37:50.354792Z",
     "shell.execute_reply.started": "2024-01-24T11:37:50.322424Z"
    }
   },
   "outputs": [],
   "source": [
    "# print(f\"--> compound TPSA Clean File                 : {compoundTPSACleanFile}\\n\")\n",
    "# df_tpsa = pd.read_csv(compoundTPSACleanFile)\n",
    "# df_tpsa.info()\n",
    "# df_tpsa.head(2)\n",
    "# df_tpsa.tail(2)"
   ]
  },
  {
   "cell_type": "code",
   "execution_count": 60,
   "id": "48861540",
   "metadata": {
    "ExecuteTime": {
     "end_time": "2023-06-28T19:37:34.108730Z",
     "start_time": "2023-06-28T19:37:34.072553Z"
    },
    "execution": {
     "iopub.execute_input": "2023-11-10T21:20:40.326768Z",
     "iopub.status.busy": "2023-11-10T21:20:40.326513Z",
     "iopub.status.idle": "2023-11-10T21:20:40.340043Z",
     "shell.execute_reply": "2023-11-10T21:20:40.339253Z",
     "shell.execute_reply.started": "2023-11-10T21:20:40.326752Z"
    }
   },
   "outputs": [],
   "source": [
    "df_tpsa['lnTPSA'] = np.log(df_tpsa['TPSA'])\n",
    "df_tpsa['log10TPSA'] = np.log10(df_tpsa['TPSA'])"
   ]
  },
  {
   "cell_type": "code",
   "execution_count": 61,
   "id": "fad38512",
   "metadata": {
    "ExecuteTime": {
     "end_time": "2023-06-28T19:37:34.838947Z",
     "start_time": "2023-06-28T19:37:34.741063Z"
    },
    "execution": {
     "iopub.execute_input": "2023-11-10T21:20:41.155436Z",
     "iopub.status.busy": "2023-11-10T21:20:41.155172Z",
     "iopub.status.idle": "2023-11-10T21:20:41.209995Z",
     "shell.execute_reply": "2023-11-10T21:20:41.208355Z",
     "shell.execute_reply.started": "2023-11-10T21:20:41.155419Z"
    }
   },
   "outputs": [
    {
     "name": "stdout",
     "output_type": "stream",
     "text": [
      "<class 'pandas.core.frame.DataFrame'>\n",
      "Int64Index: 116691 entries, 0 to 116750\n",
      "Data columns (total 4 columns):\n",
      " #   Column     Non-Null Count   Dtype  \n",
      "---  ------     --------------   -----  \n",
      " 0   JCP2022    116691 non-null  object \n",
      " 1   TPSA       116691 non-null  float64\n",
      " 2   lnTPSA     116691 non-null  float64\n",
      " 3   log10TPSA  116691 non-null  float64\n",
      "dtypes: float64(3), object(1)\n",
      "memory usage: 4.5+ MB\n"
     ]
    },
    {
     "data": {
      "text/html": [
       "<div>\n",
       "<style scoped>\n",
       "    .dataframe tbody tr th:only-of-type {\n",
       "        vertical-align: middle;\n",
       "    }\n",
       "\n",
       "    .dataframe tbody tr th {\n",
       "        vertical-align: top;\n",
       "    }\n",
       "\n",
       "    .dataframe thead th {\n",
       "        text-align: right;\n",
       "    }\n",
       "</style>\n",
       "<table border=\"1\" class=\"dataframe\">\n",
       "  <thead>\n",
       "    <tr style=\"text-align: right;\">\n",
       "      <th></th>\n",
       "      <th>JCP2022</th>\n",
       "      <th>TPSA</th>\n",
       "      <th>lnTPSA</th>\n",
       "      <th>log10TPSA</th>\n",
       "    </tr>\n",
       "  </thead>\n",
       "  <tbody>\n",
       "    <tr>\n",
       "      <th>0</th>\n",
       "      <td>JCP2022_000001</td>\n",
       "      <td>63.49</td>\n",
       "      <td>4.150882</td>\n",
       "      <td>1.802705</td>\n",
       "    </tr>\n",
       "    <tr>\n",
       "      <th>1</th>\n",
       "      <td>JCP2022_000002</td>\n",
       "      <td>35.83</td>\n",
       "      <td>3.578786</td>\n",
       "      <td>1.554247</td>\n",
       "    </tr>\n",
       "  </tbody>\n",
       "</table>\n",
       "</div>"
      ],
      "text/plain": [
       "          JCP2022   TPSA    lnTPSA  log10TPSA\n",
       "0  JCP2022_000001  63.49  4.150882   1.802705\n",
       "1  JCP2022_000002  35.83  3.578786   1.554247"
      ]
     },
     "execution_count": 61,
     "metadata": {},
     "output_type": "execute_result"
    },
    {
     "data": {
      "text/html": [
       "<div>\n",
       "<style scoped>\n",
       "    .dataframe tbody tr th:only-of-type {\n",
       "        vertical-align: middle;\n",
       "    }\n",
       "\n",
       "    .dataframe tbody tr th {\n",
       "        vertical-align: top;\n",
       "    }\n",
       "\n",
       "    .dataframe thead th {\n",
       "        text-align: right;\n",
       "    }\n",
       "</style>\n",
       "<table border=\"1\" class=\"dataframe\">\n",
       "  <thead>\n",
       "    <tr style=\"text-align: right;\">\n",
       "      <th></th>\n",
       "      <th>JCP2022</th>\n",
       "      <th>TPSA</th>\n",
       "      <th>lnTPSA</th>\n",
       "      <th>log10TPSA</th>\n",
       "    </tr>\n",
       "  </thead>\n",
       "  <tbody>\n",
       "    <tr>\n",
       "      <th>116749</th>\n",
       "      <td>JCP2022_116752</td>\n",
       "      <td>71.95</td>\n",
       "      <td>4.275971</td>\n",
       "      <td>1.857031</td>\n",
       "    </tr>\n",
       "    <tr>\n",
       "      <th>116750</th>\n",
       "      <td>JCP2022_116753</td>\n",
       "      <td>54.29</td>\n",
       "      <td>3.994340</td>\n",
       "      <td>1.734720</td>\n",
       "    </tr>\n",
       "  </tbody>\n",
       "</table>\n",
       "</div>"
      ],
      "text/plain": [
       "               JCP2022   TPSA    lnTPSA  log10TPSA\n",
       "116749  JCP2022_116752  71.95  4.275971   1.857031\n",
       "116750  JCP2022_116753  54.29  3.994340   1.734720"
      ]
     },
     "execution_count": 61,
     "metadata": {},
     "output_type": "execute_result"
    }
   ],
   "source": [
    "df_tpsa.info()\n",
    "df_tpsa.head(2)\n",
    "df_tpsa.tail(2)"
   ]
  },
  {
   "cell_type": "code",
   "execution_count": 63,
   "id": "bf55541d-08e5-481c-b9cd-de4e4c21fe50",
   "metadata": {
    "ExecuteTime": {
     "end_time": "2023-06-28T19:37:43.512826Z",
     "start_time": "2023-06-28T19:37:43.423428Z"
    },
    "execution": {
     "iopub.execute_input": "2023-11-10T21:20:55.729428Z",
     "iopub.status.busy": "2023-11-10T21:20:55.729185Z",
     "iopub.status.idle": "2023-11-10T21:20:55.747939Z",
     "shell.execute_reply": "2023-11-10T21:20:55.746804Z",
     "shell.execute_reply.started": "2023-11-10T21:20:55.729413Z"
    }
   },
   "outputs": [
    {
     "data": {
      "text/plain": [
       "(32.88598800301951, 73.6213195533503)"
      ]
     },
     "execution_count": 63,
     "metadata": {},
     "output_type": "execute_result"
    },
    {
     "data": {
      "text/plain": [
       "(0.3917724349244317, 4.2261117808840245)"
      ]
     },
     "execution_count": 63,
     "metadata": {},
     "output_type": "execute_result"
    },
    {
     "data": {
      "text/plain": [
       "(0.1701446066494815, 1.8353770263442561)"
      ]
     },
     "execution_count": 63,
     "metadata": {},
     "output_type": "execute_result"
    }
   ],
   "source": [
    "df_metadata['TPSA'].std(),df_metadata['TPSA'].mean()\n",
    "df_metadata['lnTPSA'].std(),df_metadata['lnTPSA'].mean()\n",
    "df_metadata['log10TPSA'].std(),df_metadata['log10TPSA'].mean()"
   ]
  },
  {
   "cell_type": "code",
   "execution_count": 64,
   "id": "0dca5d43",
   "metadata": {
    "ExecuteTime": {
     "end_time": "2023-06-28T19:37:43.512826Z",
     "start_time": "2023-06-28T19:37:43.423428Z"
    },
    "execution": {
     "iopub.execute_input": "2023-11-10T21:20:56.327444Z",
     "iopub.status.busy": "2023-11-10T21:20:56.327145Z",
     "iopub.status.idle": "2023-11-10T21:20:56.346229Z",
     "shell.execute_reply": "2023-11-10T21:20:56.345558Z",
     "shell.execute_reply.started": "2023-11-10T21:20:56.327427Z"
    }
   },
   "outputs": [
    {
     "data": {
      "text/plain": [
       "(32.88598800301951, 73.6213195533503)"
      ]
     },
     "execution_count": 64,
     "metadata": {},
     "output_type": "execute_result"
    },
    {
     "data": {
      "text/plain": [
       "(0.3917724349244317, 4.2261117808840245)"
      ]
     },
     "execution_count": 64,
     "metadata": {},
     "output_type": "execute_result"
    },
    {
     "data": {
      "text/plain": [
       "(0.1701446066494815, 1.8353770263442561)"
      ]
     },
     "execution_count": 64,
     "metadata": {},
     "output_type": "execute_result"
    }
   ],
   "source": [
    "df_tpsa['TPSA'].std(),df_tpsa['TPSA'].mean()\n",
    "df_tpsa['lnTPSA'].std(),df_tpsa['lnTPSA'].mean()\n",
    "df_tpsa['log10TPSA'].std(),df_tpsa['log10TPSA'].mean()"
   ]
  },
  {
   "cell_type": "markdown",
   "id": "79e22f69-2802-4da5-9cf3-018b5433494b",
   "metadata": {
    "heading_collapsed": true
   },
   "source": [
    "## Write `df_metadata` and `df_tpsa` to output files"
   ]
  },
  {
   "cell_type": "code",
   "execution_count": 18,
   "id": "180e4694",
   "metadata": {
    "ExecuteTime": {
     "end_time": "2023-06-28T19:27:11.685287Z",
     "start_time": "2023-06-28T19:27:11.645088Z"
    },
    "execution": {
     "iopub.execute_input": "2024-01-24T11:38:08.364349Z",
     "iopub.status.busy": "2024-01-24T11:38:08.363822Z",
     "iopub.status.idle": "2024-01-24T11:38:08.392753Z",
     "shell.execute_reply": "2024-01-24T11:38:08.391642Z",
     "shell.execute_reply.started": "2024-01-24T11:38:08.364307Z"
    },
    "hidden": true
   },
   "outputs": [
    {
     "name": "stdout",
     "output_type": "stream",
     "text": [
      " IN  - compound Metadata + TPSA File         : ./output_11102023/compound_metadata_tpsa.csv\n",
      " IN  - compound TPSA File                    : ./output_11102023/compound_TPSA.csv\n",
      "\n",
      " OUT - compound Metadata + TPSA Cleaned File : ./output_11102023/compound_metadata_tpsa_clean.csv\n",
      " OUT - compound TPSA Clean File              : ./output_11102023/compound_TPSA_clean.csv\n",
      "\n"
     ]
    }
   ],
   "source": [
    "print(f\" IN  - compound Metadata + TPSA File         : {compoundMetadataTPSAFile}\")\n",
    "print(f\" IN  - compound TPSA File                    : {compoundTPSAFile}\")\n",
    "print()\n",
    "print(f\" OUT - compound Metadata + TPSA Cleaned File : {compoundMetadataTPSACleanFile}\")\n",
    "print(f\" OUT - compound TPSA Clean File              : {compoundTPSACleanFile}\\n\")"
   ]
  },
  {
   "cell_type": "code",
   "execution_count": 69,
   "id": "263c5ee6",
   "metadata": {
    "ExecuteTime": {
     "end_time": "2023-06-28T19:27:25.213141Z",
     "start_time": "2023-06-28T19:27:25.177451Z"
    },
    "execution": {
     "iopub.execute_input": "2023-11-10T21:25:52.311696Z",
     "iopub.status.busy": "2023-11-10T21:25:52.311422Z",
     "iopub.status.idle": "2023-11-10T21:25:52.885880Z",
     "shell.execute_reply": "2023-11-10T21:25:52.885193Z",
     "shell.execute_reply.started": "2023-11-10T21:25:52.311679Z"
    },
    "hidden": true
   },
   "outputs": [],
   "source": [
    "df_metadata.to_csv(compoundMetadataTPSACleanFile, index = False)"
   ]
  },
  {
   "cell_type": "code",
   "execution_count": 71,
   "id": "67c772d7-1f7c-4d9d-8760-a67c08599e80",
   "metadata": {
    "ExecuteTime": {
     "end_time": "2023-06-28T19:29:00.895937Z",
     "start_time": "2023-06-28T19:29:00.711886Z"
    },
    "execution": {
     "iopub.execute_input": "2023-11-10T21:25:58.721313Z",
     "iopub.status.busy": "2023-11-10T21:25:58.720763Z",
     "iopub.status.idle": "2023-11-10T21:25:58.844978Z",
     "shell.execute_reply": "2023-11-10T21:25:58.844193Z",
     "shell.execute_reply.started": "2023-11-10T21:25:58.721295Z"
    },
    "hidden": true
   },
   "outputs": [],
   "source": [
    "df_tpsa.to_csv(compoundTPSACleanFile, index = False, columns=['JCP2022', 'TPSA'])"
   ]
  },
  {
   "cell_type": "markdown",
   "id": "5424a377-2c38-4408-bf79-f9e8d4848a08",
   "metadata": {},
   "source": [
    "##  Add TPSA > 100 label `compound_tpsa_clean.csv`, "
   ]
  },
  {
   "cell_type": "code",
   "execution_count": 21,
   "id": "3eab0590-6a6b-4977-984c-fa865b19d9c8",
   "metadata": {
    "ExecuteTime": {
     "end_time": "2023-06-28T19:27:11.685287Z",
     "start_time": "2023-06-28T19:27:11.645088Z"
    },
    "execution": {
     "iopub.execute_input": "2024-01-24T11:48:36.820918Z",
     "iopub.status.busy": "2024-01-24T11:48:36.820535Z",
     "iopub.status.idle": "2024-01-24T11:48:36.845683Z",
     "shell.execute_reply": "2024-01-24T11:48:36.844687Z",
     "shell.execute_reply.started": "2024-01-24T11:48:36.820888Z"
    },
    "hidden": true
   },
   "outputs": [
    {
     "name": "stdout",
     "output_type": "stream",
     "text": [
      " IN  - compound Metadata + TPSA File         : ./output_11102023/compound_metadata_tpsa_clean.csv\n",
      " IN  - compound TPSA File                    : ./output_11102023/compound_TPSA_clean.csv\n",
      "\n",
      " OUT - compound Metadata + TPSA Cleaned File : ./output_11102023/compound_metadata_tpsa_clean.csv\n",
      " OUT - compound TPSA Clean File              : ./output_11102023/compound_TPSA_clean.csv\n",
      "\n"
     ]
    }
   ],
   "source": [
    "print(f\" IN  - compound Metadata + TPSA File         : {compoundMetadataTPSACleanFile}\")\n",
    "print(f\" IN  - compound TPSA File                    : {compoundTPSACleanFile}\")\n",
    "print()\n",
    "print(f\" OUT - compound Metadata + TPSA Cleaned File : {compoundMetadataTPSACleanFile}\")\n",
    "print(f\" OUT - compound TPSA Clean File              : {compoundTPSACleanFile}\\n\")"
   ]
  },
  {
   "cell_type": "code",
   "execution_count": 22,
   "id": "d2b53e98-8520-42f9-b33f-bfc835154a47",
   "metadata": {
    "ExecuteTime": {
     "end_time": "2023-06-28T19:37:50.587623Z",
     "start_time": "2023-06-28T19:37:50.503671Z"
    },
    "execution": {
     "iopub.execute_input": "2024-01-24T11:49:10.024549Z",
     "iopub.status.busy": "2024-01-24T11:49:10.024078Z",
     "iopub.status.idle": "2024-01-24T11:49:11.001171Z",
     "shell.execute_reply": "2024-01-24T11:49:11.000171Z",
     "shell.execute_reply.started": "2024-01-24T11:49:10.024510Z"
    }
   },
   "outputs": [
    {
     "name": "stdout",
     "output_type": "stream",
     "text": [
      "--> compound Metadata + TPSA Cleaned File    : ./output_11102023/compound_metadata_tpsa_clean.csv\n",
      "\n",
      "<class 'pandas.core.frame.DataFrame'>\n",
      "RangeIndex: 116691 entries, 0 to 116690\n",
      "Data columns (total 7 columns):\n",
      " #   Column             Non-Null Count   Dtype  \n",
      "---  ------             --------------   -----  \n",
      " 0   Metadata_JCP2022   116691 non-null  object \n",
      " 1   Metadata_InChIKey  116691 non-null  object \n",
      " 2   Metadata_InChI     116691 non-null  object \n",
      " 3   smiles             116691 non-null  object \n",
      " 4   TPSA               116691 non-null  float64\n",
      " 5   lnTPSA             116691 non-null  float64\n",
      " 6   log10TPSA          116691 non-null  float64\n",
      "dtypes: float64(3), object(4)\n",
      "memory usage: 6.2+ MB\n"
     ]
    },
    {
     "data": {
      "text/html": [
       "<div>\n",
       "<style scoped>\n",
       "    .dataframe tbody tr th:only-of-type {\n",
       "        vertical-align: middle;\n",
       "    }\n",
       "\n",
       "    .dataframe tbody tr th {\n",
       "        vertical-align: top;\n",
       "    }\n",
       "\n",
       "    .dataframe thead th {\n",
       "        text-align: right;\n",
       "    }\n",
       "</style>\n",
       "<table border=\"1\" class=\"dataframe\">\n",
       "  <thead>\n",
       "    <tr style=\"text-align: right;\">\n",
       "      <th></th>\n",
       "      <th>Metadata_JCP2022</th>\n",
       "      <th>Metadata_InChIKey</th>\n",
       "      <th>Metadata_InChI</th>\n",
       "      <th>smiles</th>\n",
       "      <th>TPSA</th>\n",
       "      <th>lnTPSA</th>\n",
       "      <th>log10TPSA</th>\n",
       "    </tr>\n",
       "  </thead>\n",
       "  <tbody>\n",
       "    <tr>\n",
       "      <th>0</th>\n",
       "      <td>JCP2022_000001</td>\n",
       "      <td>AAAHWCWPZPSPIW-UHFFFAOYSA-N</td>\n",
       "      <td>InChI=1S/C25H31N5O2/c1-4-23-26-14-16-30(23)24-...</td>\n",
       "      <td>CCC1=NC=CN1c2cccc(n2)C3CCCN3C(=O)c4ccc(cc4)OCC...</td>\n",
       "      <td>63.49</td>\n",
       "      <td>4.150882</td>\n",
       "      <td>1.802705</td>\n",
       "    </tr>\n",
       "    <tr>\n",
       "      <th>1</th>\n",
       "      <td>JCP2022_000002</td>\n",
       "      <td>AAAJHRMBUHXWLD-UHFFFAOYSA-N</td>\n",
       "      <td>InChI=1S/C11H13ClN2O/c12-10-4-2-9(3-5-10)8-14-...</td>\n",
       "      <td>OC1=NCCCN1Cc2ccc(Cl)cc2</td>\n",
       "      <td>35.83</td>\n",
       "      <td>3.578786</td>\n",
       "      <td>1.554247</td>\n",
       "    </tr>\n",
       "    <tr>\n",
       "      <th>2</th>\n",
       "      <td>JCP2022_000003</td>\n",
       "      <td>AAALVYBICLMAMA-UHFFFAOYSA-N</td>\n",
       "      <td>InChI=1S/C20H15N3O2/c24-19-15-11-17(21-13-7-3-...</td>\n",
       "      <td>OC2=NC(=O)c3cc(Nc1ccccc1)c(cc23)Nc4ccccc4</td>\n",
       "      <td>73.72</td>\n",
       "      <td>4.300274</td>\n",
       "      <td>1.867585</td>\n",
       "    </tr>\n",
       "  </tbody>\n",
       "</table>\n",
       "</div>"
      ],
      "text/plain": [
       "  Metadata_JCP2022            Metadata_InChIKey                                     Metadata_InChI  \\\n",
       "0   JCP2022_000001  AAAHWCWPZPSPIW-UHFFFAOYSA-N  InChI=1S/C25H31N5O2/c1-4-23-26-14-16-30(23)24-...   \n",
       "1   JCP2022_000002  AAAJHRMBUHXWLD-UHFFFAOYSA-N  InChI=1S/C11H13ClN2O/c12-10-4-2-9(3-5-10)8-14-...   \n",
       "2   JCP2022_000003  AAALVYBICLMAMA-UHFFFAOYSA-N  InChI=1S/C20H15N3O2/c24-19-15-11-17(21-13-7-3-...   \n",
       "\n",
       "                                              smiles   TPSA    lnTPSA  log10TPSA  \n",
       "0  CCC1=NC=CN1c2cccc(n2)C3CCCN3C(=O)c4ccc(cc4)OCC...  63.49  4.150882   1.802705  \n",
       "1                            OC1=NCCCN1Cc2ccc(Cl)cc2  35.83  3.578786   1.554247  \n",
       "2          OC2=NC(=O)c3cc(Nc1ccccc1)c(cc23)Nc4ccccc4  73.72  4.300274   1.867585  "
      ]
     },
     "execution_count": 22,
     "metadata": {},
     "output_type": "execute_result"
    },
    {
     "data": {
      "text/html": [
       "<div>\n",
       "<style scoped>\n",
       "    .dataframe tbody tr th:only-of-type {\n",
       "        vertical-align: middle;\n",
       "    }\n",
       "\n",
       "    .dataframe tbody tr th {\n",
       "        vertical-align: top;\n",
       "    }\n",
       "\n",
       "    .dataframe thead th {\n",
       "        text-align: right;\n",
       "    }\n",
       "</style>\n",
       "<table border=\"1\" class=\"dataframe\">\n",
       "  <thead>\n",
       "    <tr style=\"text-align: right;\">\n",
       "      <th></th>\n",
       "      <th>Metadata_JCP2022</th>\n",
       "      <th>Metadata_InChIKey</th>\n",
       "      <th>Metadata_InChI</th>\n",
       "      <th>smiles</th>\n",
       "      <th>TPSA</th>\n",
       "      <th>lnTPSA</th>\n",
       "      <th>log10TPSA</th>\n",
       "    </tr>\n",
       "  </thead>\n",
       "  <tbody>\n",
       "    <tr>\n",
       "      <th>116688</th>\n",
       "      <td>JCP2022_116751</td>\n",
       "      <td>ZZZUOLMMTJKOGE-UHFFFAOYSA-N</td>\n",
       "      <td>InChI=1S/C19H17N5O2/c1-23-9-6-13-7-10-24(19(26...</td>\n",
       "      <td>CN4C=CC3C=CN(CCN=C(O)c2cnc1ccccc1n2)C(=O)C=34</td>\n",
       "      <td>85.30</td>\n",
       "      <td>4.446174</td>\n",
       "      <td>1.930949</td>\n",
       "    </tr>\n",
       "    <tr>\n",
       "      <th>116689</th>\n",
       "      <td>JCP2022_116752</td>\n",
       "      <td>ZZZZIBSVRUABIA-UHFFFAOYSA-N</td>\n",
       "      <td>InChI=1S/C19H13F6N3O2S/c1-11-26-6-5-17(27-11)1...</td>\n",
       "      <td>Cc1nccc(n1)c2cccc(c2)NS(=O)(=O)c3cc(cc(c3)C(F)...</td>\n",
       "      <td>71.95</td>\n",
       "      <td>4.275971</td>\n",
       "      <td>1.857031</td>\n",
       "    </tr>\n",
       "    <tr>\n",
       "      <th>116690</th>\n",
       "      <td>JCP2022_116753</td>\n",
       "      <td>ZZZZVNLQWWXZTQ-UHFFFAOYSA-N</td>\n",
       "      <td>InChI=1S/C14H20N2O3/c1-18-13-5-3-2-4-12(13)14(...</td>\n",
       "      <td>COc1ccccc1C(O)=NCCN2CCOCC2</td>\n",
       "      <td>54.29</td>\n",
       "      <td>3.994340</td>\n",
       "      <td>1.734720</td>\n",
       "    </tr>\n",
       "  </tbody>\n",
       "</table>\n",
       "</div>"
      ],
      "text/plain": [
       "       Metadata_JCP2022            Metadata_InChIKey                                     Metadata_InChI  \\\n",
       "116688   JCP2022_116751  ZZZUOLMMTJKOGE-UHFFFAOYSA-N  InChI=1S/C19H17N5O2/c1-23-9-6-13-7-10-24(19(26...   \n",
       "116689   JCP2022_116752  ZZZZIBSVRUABIA-UHFFFAOYSA-N  InChI=1S/C19H13F6N3O2S/c1-11-26-6-5-17(27-11)1...   \n",
       "116690   JCP2022_116753  ZZZZVNLQWWXZTQ-UHFFFAOYSA-N  InChI=1S/C14H20N2O3/c1-18-13-5-3-2-4-12(13)14(...   \n",
       "\n",
       "                                                   smiles   TPSA    lnTPSA  log10TPSA  \n",
       "116688      CN4C=CC3C=CN(CCN=C(O)c2cnc1ccccc1n2)C(=O)C=34  85.30  4.446174   1.930949  \n",
       "116689  Cc1nccc(n1)c2cccc(c2)NS(=O)(=O)c3cc(cc(c3)C(F)...  71.95  4.275971   1.857031  \n",
       "116690                         COc1ccccc1C(O)=NCCN2CCOCC2  54.29  3.994340   1.734720  "
      ]
     },
     "execution_count": 22,
     "metadata": {},
     "output_type": "execute_result"
    }
   ],
   "source": [
    "print(f\"--> compound Metadata + TPSA Cleaned File    : {compoundMetadataTPSACleanFile}\\n\")\n",
    "df_metadata = pd.read_csv(compoundMetadataTPSACleanFile)\n",
    "df_metadata.info()\n",
    "df_metadata.head(3)\n",
    "df_metadata.tail(3)"
   ]
  },
  {
   "cell_type": "code",
   "execution_count": 23,
   "id": "c95ce17a-2a71-46e2-9196-396b73781d4e",
   "metadata": {
    "ExecuteTime": {
     "end_time": "2023-06-28T19:37:50.015129Z",
     "start_time": "2023-06-28T19:37:49.870907Z"
    },
    "execution": {
     "iopub.execute_input": "2024-01-24T11:49:21.527832Z",
     "iopub.status.busy": "2024-01-24T11:49:21.526692Z",
     "iopub.status.idle": "2024-01-24T11:49:21.754074Z",
     "shell.execute_reply": "2024-01-24T11:49:21.752860Z",
     "shell.execute_reply.started": "2024-01-24T11:49:21.527788Z"
    },
    "scrolled": true
   },
   "outputs": [
    {
     "name": "stdout",
     "output_type": "stream",
     "text": [
      "--> compound TPSA Clean File                 : ./output_11102023/compound_TPSA_clean.csv\n",
      "\n",
      "<class 'pandas.core.frame.DataFrame'>\n",
      "RangeIndex: 116691 entries, 0 to 116690\n",
      "Data columns (total 2 columns):\n",
      " #   Column   Non-Null Count   Dtype  \n",
      "---  ------   --------------   -----  \n",
      " 0   JCP2022  116691 non-null  object \n",
      " 1   TPSA     116691 non-null  float64\n",
      "dtypes: float64(1), object(1)\n",
      "memory usage: 1.8+ MB\n"
     ]
    },
    {
     "data": {
      "text/html": [
       "<div>\n",
       "<style scoped>\n",
       "    .dataframe tbody tr th:only-of-type {\n",
       "        vertical-align: middle;\n",
       "    }\n",
       "\n",
       "    .dataframe tbody tr th {\n",
       "        vertical-align: top;\n",
       "    }\n",
       "\n",
       "    .dataframe thead th {\n",
       "        text-align: right;\n",
       "    }\n",
       "</style>\n",
       "<table border=\"1\" class=\"dataframe\">\n",
       "  <thead>\n",
       "    <tr style=\"text-align: right;\">\n",
       "      <th></th>\n",
       "      <th>JCP2022</th>\n",
       "      <th>TPSA</th>\n",
       "    </tr>\n",
       "  </thead>\n",
       "  <tbody>\n",
       "    <tr>\n",
       "      <th>0</th>\n",
       "      <td>JCP2022_000001</td>\n",
       "      <td>63.49</td>\n",
       "    </tr>\n",
       "    <tr>\n",
       "      <th>1</th>\n",
       "      <td>JCP2022_000002</td>\n",
       "      <td>35.83</td>\n",
       "    </tr>\n",
       "  </tbody>\n",
       "</table>\n",
       "</div>"
      ],
      "text/plain": [
       "          JCP2022   TPSA\n",
       "0  JCP2022_000001  63.49\n",
       "1  JCP2022_000002  35.83"
      ]
     },
     "execution_count": 23,
     "metadata": {},
     "output_type": "execute_result"
    },
    {
     "data": {
      "text/html": [
       "<div>\n",
       "<style scoped>\n",
       "    .dataframe tbody tr th:only-of-type {\n",
       "        vertical-align: middle;\n",
       "    }\n",
       "\n",
       "    .dataframe tbody tr th {\n",
       "        vertical-align: top;\n",
       "    }\n",
       "\n",
       "    .dataframe thead th {\n",
       "        text-align: right;\n",
       "    }\n",
       "</style>\n",
       "<table border=\"1\" class=\"dataframe\">\n",
       "  <thead>\n",
       "    <tr style=\"text-align: right;\">\n",
       "      <th></th>\n",
       "      <th>JCP2022</th>\n",
       "      <th>TPSA</th>\n",
       "    </tr>\n",
       "  </thead>\n",
       "  <tbody>\n",
       "    <tr>\n",
       "      <th>116689</th>\n",
       "      <td>JCP2022_116752</td>\n",
       "      <td>71.95</td>\n",
       "    </tr>\n",
       "    <tr>\n",
       "      <th>116690</th>\n",
       "      <td>JCP2022_116753</td>\n",
       "      <td>54.29</td>\n",
       "    </tr>\n",
       "  </tbody>\n",
       "</table>\n",
       "</div>"
      ],
      "text/plain": [
       "               JCP2022   TPSA\n",
       "116689  JCP2022_116752  71.95\n",
       "116690  JCP2022_116753  54.29"
      ]
     },
     "execution_count": 23,
     "metadata": {},
     "output_type": "execute_result"
    }
   ],
   "source": [
    "print(f\"--> compound TPSA Clean File                 : {compoundTPSACleanFile}\\n\")\n",
    "df_tpsa = pd.read_csv(compoundTPSACleanFile)\n",
    "\n",
    "df_tpsa.info()\n",
    "df_tpsa.head(2)\n",
    "df_tpsa.tail(2)\n",
    "\n"
   ]
  },
  {
   "cell_type": "code",
   "execution_count": 42,
   "id": "d326d7bd-faea-4bea-b7c1-a720120ea904",
   "metadata": {
    "execution": {
     "iopub.execute_input": "2024-01-24T12:31:19.584307Z",
     "iopub.status.busy": "2024-01-24T12:31:19.583896Z",
     "iopub.status.idle": "2024-01-24T12:31:19.647754Z",
     "shell.execute_reply": "2024-01-24T12:31:19.646662Z",
     "shell.execute_reply.started": "2024-01-24T12:31:19.584277Z"
    }
   },
   "outputs": [
    {
     "name": "stdout",
     "output_type": "stream",
     "text": [
      "                  min           max           std          mean           median\n",
      "TPSA             3.2400000  2834.6700000    32.8859880    73.6213196    71.3600000\n",
      "lnTPSA           1.1755733     7.9496808     0.3917724     4.2261118     4.2677375\n",
      "log10TPSA        0.5105450     3.4525025     0.1701446     1.8353770     1.8534548\n"
     ]
    },
    {
     "data": {
      "text/plain": [
       "116691"
      ]
     },
     "execution_count": 42,
     "metadata": {},
     "output_type": "execute_result"
    },
    {
     "data": {
      "text/plain": [
       "0.12232305833354758"
      ]
     },
     "execution_count": 42,
     "metadata": {},
     "output_type": "execute_result"
    },
    {
     "data": {
      "text/plain": [
       "0.8776769416664524"
      ]
     },
     "execution_count": 42,
     "metadata": {},
     "output_type": "execute_result"
    }
   ],
   "source": [
    "print(f\"                  min           max           std          mean           median\")\n",
    "for x in ['TPSA', 'lnTPSA', 'log10TPSA']:\n",
    "    print(f\"{x:12s} {df_metadata[x].min():13.7f} {df_metadata[x].max():13.7f} {df_metadata[x].std():13.7f} {df_metadata[x].mean():13.7f} {df_metadata[x].median():13.7f}\") \n",
    "THRESHOLD = 100\n",
    "df_metadata.TPSA.count()\n",
    "df_metadata[df_metadata.TPSA >= THRESHOLD].TPSA.count()/df_metadata.TPSA.count()\n",
    "df_metadata[df_metadata.TPSA < THRESHOLD].TPSA.count()/df_metadata.TPSA.count()\n"
   ]
  },
  {
   "cell_type": "code",
   "execution_count": 34,
   "id": "c5180069-16b8-402b-be13-ae5fb0a1de81",
   "metadata": {
    "ExecuteTime": {
     "end_time": "2023-06-28T19:37:43.512826Z",
     "start_time": "2023-06-28T19:37:43.423428Z"
    },
    "execution": {
     "iopub.execute_input": "2024-01-24T12:03:08.095441Z",
     "iopub.status.busy": "2024-01-24T12:03:08.094941Z",
     "iopub.status.idle": "2024-01-24T12:03:08.122791Z",
     "shell.execute_reply": "2024-01-24T12:03:08.121867Z",
     "shell.execute_reply.started": "2024-01-24T12:03:08.095399Z"
    }
   },
   "outputs": [],
   "source": [
    "# df_tpsa['TPSA'].std(),df_tpsa['TPSA'].mean()\n",
    "# df_tpsa['lnTPSA'].std(),df_tpsa['lnTPSA'].mean()\n",
    "# df_tpsa['log10TPSA'].std(),df_tpsa['log10TPSA'].mean()"
   ]
  },
  {
   "cell_type": "code",
   "execution_count": 33,
   "id": "7da8caf9-6d0e-4b36-acdd-80eb4a6f5dfa",
   "metadata": {
    "ExecuteTime": {
     "end_time": "2023-06-28T19:37:34.108730Z",
     "start_time": "2023-06-28T19:37:34.072553Z"
    },
    "execution": {
     "iopub.execute_input": "2024-01-24T12:00:59.673523Z",
     "iopub.status.busy": "2024-01-24T12:00:59.672845Z",
     "iopub.status.idle": "2024-01-24T12:01:00.032756Z",
     "shell.execute_reply": "2024-01-24T12:01:00.031670Z",
     "shell.execute_reply.started": "2024-01-24T12:00:59.673469Z"
    }
   },
   "outputs": [
    {
     "data": {
      "image/png": "[encoded data removed]",
      "text/plain": [
       "<Figure size 1000x500 with 1 Axes>"
      ]
     },
     "metadata": {},
     "output_type": "display_data"
    }
   ],
   "source": [
    "from matplotlib import colors\n",
    "from matplotlib.ticker import PercentFormatter\n",
    "\n",
    "num_bins = 100\n",
    "fig = plt.figure(figsize=(10,5))\n",
    "# fig, ax = plt.subplots()\n",
    " \n",
    "# the histogram of the data\n",
    "n, bins, patches = plt.hist(df_metadata.TPSA, num_bins, density=False, range=[0, 500],)\n",
    "# We can set the number of bins with the *bins* keyword argument.\n",
    "plt.xlabel('TPSA Value');\n",
    "plt.ylabel('# Compounds');\n",
    "# ax.set_title('Histogram of normal distribution sample: '\n",
    "#              fr'$\\mu={mu:.0f}$, $\\sigma={sigma:.0f}$')\n",
    "# axs[1].hist(dist2, bins=n_bins)"
   ]
  },
  {
   "cell_type": "code",
   "execution_count": 43,
   "id": "b16d5692-70b4-494c-b83a-47c0e07044af",
   "metadata": {
    "execution": {
     "iopub.execute_input": "2024-01-24T12:34:54.479566Z",
     "iopub.status.busy": "2024-01-24T12:34:54.478794Z",
     "iopub.status.idle": "2024-01-24T12:34:54.516755Z",
     "shell.execute_reply": "2024-01-24T12:34:54.515597Z",
     "shell.execute_reply.started": "2024-01-24T12:34:54.479511Z"
    }
   },
   "outputs": [
    {
     "name": "stderr",
     "output_type": "stream",
     "text": [
      "/tmp/ipykernel_1797392/1518050329.py:2: SettingWithCopyWarning: \n",
      "A value is trying to be set on a copy of a slice from a DataFrame\n",
      "\n",
      "See the caveats in the documentation: https://pandas.pydata.org/pandas-docs/stable/user_guide/indexing.html#returning-a-view-versus-a-copy\n",
      "  df_metadata.permiation[df_metadata.TPSA >= 100] = 1\n"
     ]
    }
   ],
   "source": [
    "df_metadata['permiation'] = 0\n",
    "df_metadata.permiation[df_metadata.TPSA >= 100] = 1"
   ]
  },
  {
   "cell_type": "code",
   "execution_count": 47,
   "id": "f6bf29ad-a542-4172-ad0a-217b2b5b66bf",
   "metadata": {
    "execution": {
     "iopub.execute_input": "2024-01-24T12:36:28.804082Z",
     "iopub.status.busy": "2024-01-24T12:36:28.803604Z",
     "iopub.status.idle": "2024-01-24T12:36:28.830018Z",
     "shell.execute_reply": "2024-01-24T12:36:28.829036Z",
     "shell.execute_reply.started": "2024-01-24T12:36:28.804041Z"
    }
   },
   "outputs": [
    {
     "name": "stderr",
     "output_type": "stream",
     "text": [
      "/tmp/ipykernel_1797392/24812782.py:2: SettingWithCopyWarning: \n",
      "A value is trying to be set on a copy of a slice from a DataFrame\n",
      "\n",
      "See the caveats in the documentation: https://pandas.pydata.org/pandas-docs/stable/user_guide/indexing.html#returning-a-view-versus-a-copy\n",
      "  df_tpsa.permiation[df_metadata.TPSA >= 100] = 1\n"
     ]
    }
   ],
   "source": [
    "df_tpsa['permiation'] = 0\n",
    "df_tpsa.permiation[df_metadata.TPSA >= 100] = 1"
   ]
  },
  {
   "cell_type": "code",
   "execution_count": 46,
   "id": "ed290e7f-d2ff-424e-a1ed-4f49caa150ee",
   "metadata": {
    "execution": {
     "iopub.execute_input": "2024-01-24T12:35:54.480294Z",
     "iopub.status.busy": "2024-01-24T12:35:54.479794Z",
     "iopub.status.idle": "2024-01-24T12:35:54.533461Z",
     "shell.execute_reply": "2024-01-24T12:35:54.532050Z",
     "shell.execute_reply.started": "2024-01-24T12:35:54.480253Z"
    }
   },
   "outputs": [
    {
     "data": {
      "text/plain": [
       "0    102417\n",
       "1     14274\n",
       "Name: permiation, dtype: int64"
      ]
     },
     "execution_count": 46,
     "metadata": {},
     "output_type": "execute_result"
    }
   ],
   "source": [
    "df_metadata.permiation.value_counts()"
   ]
  },
  {
   "cell_type": "code",
   "execution_count": 52,
   "id": "f31ab17f-6ade-4d6b-b690-8e947ca421d6",
   "metadata": {
    "execution": {
     "iopub.execute_input": "2024-01-24T12:37:12.145815Z",
     "iopub.status.busy": "2024-01-24T12:37:12.145521Z",
     "iopub.status.idle": "2024-01-24T12:37:12.167730Z",
     "shell.execute_reply": "2024-01-24T12:37:12.166625Z",
     "shell.execute_reply.started": "2024-01-24T12:37:12.145793Z"
    }
   },
   "outputs": [],
   "source": [
    "# df_metadata.tail()\n",
    "# df_tpsa.tail()"
   ]
  },
  {
   "cell_type": "markdown",
   "id": "182bf3af-7b79-4aed-b54e-a27311967690",
   "metadata": {
    "heading_collapsed": true
   },
   "source": [
    "## Write to output files"
   ]
  },
  {
   "cell_type": "code",
   "execution_count": 53,
   "id": "0e5a3148-283d-4a8b-8e8e-f090f9bc6c84",
   "metadata": {
    "ExecuteTime": {
     "end_time": "2023-06-28T19:27:11.685287Z",
     "start_time": "2023-06-28T19:27:11.645088Z"
    },
    "execution": {
     "iopub.execute_input": "2024-01-24T12:37:30.025989Z",
     "iopub.status.busy": "2024-01-24T12:37:30.025553Z",
     "iopub.status.idle": "2024-01-24T12:37:30.051798Z",
     "shell.execute_reply": "2024-01-24T12:37:30.050689Z",
     "shell.execute_reply.started": "2024-01-24T12:37:30.025955Z"
    },
    "hidden": true
   },
   "outputs": [
    {
     "name": "stdout",
     "output_type": "stream",
     "text": [
      " OUTPUT - compound Metadata + TPSA Cleaned File : ./output_11102023/compound_metadata_tpsa_clean.csv\n",
      " OUTPUT - compound TPSA Clean File              : ./output_11102023/compound_TPSA_clean.csv\n",
      "\n"
     ]
    }
   ],
   "source": [
    "print(f\" OUTPUT - compound Metadata + TPSA Cleaned File : {compoundMetadataTPSACleanFile}\")\n",
    "print(f\" OUTPUT - compound TPSA Clean File              : {compoundTPSACleanFile}\\n\")"
   ]
  },
  {
   "cell_type": "markdown",
   "id": "418783b1-b6e3-4b29-8297-b8f68a51ad0d",
   "metadata": {
    "hidden": true
   },
   "source": [
    "### `./output/compound_metadata_tpsa_clean.csv`"
   ]
  },
  {
   "cell_type": "code",
   "execution_count": 54,
   "id": "c1c02369-1abe-4cc7-b181-82ead13e0467",
   "metadata": {
    "ExecuteTime": {
     "end_time": "2023-06-28T19:27:20.106770Z",
     "start_time": "2023-06-28T19:27:20.022196Z"
    },
    "execution": {
     "iopub.execute_input": "2024-01-24T12:37:38.734261Z",
     "iopub.status.busy": "2024-01-24T12:37:38.733792Z",
     "iopub.status.idle": "2024-01-24T12:37:38.758091Z",
     "shell.execute_reply": "2024-01-24T12:37:38.757309Z",
     "shell.execute_reply.started": "2024-01-24T12:37:38.734222Z"
    },
    "hidden": true
   },
   "outputs": [
    {
     "name": "stdout",
     "output_type": "stream",
     "text": [
      "--> compound Metadata + TPSA Cleaned File    : ./output_11102023/compound_metadata_tpsa_clean.csv\n",
      "\n"
     ]
    }
   ],
   "source": [
    "print(f\"--> compound Metadata + TPSA Cleaned File    : {compoundMetadataTPSACleanFile}\\n\")"
   ]
  },
  {
   "cell_type": "code",
   "execution_count": 55,
   "id": "0cf99a05-10ca-46d7-8e67-fb5db2ab0deb",
   "metadata": {
    "ExecuteTime": {
     "end_time": "2023-06-28T19:27:25.213141Z",
     "start_time": "2023-06-28T19:27:25.177451Z"
    },
    "execution": {
     "iopub.execute_input": "2024-01-24T12:37:40.456585Z",
     "iopub.status.busy": "2024-01-24T12:37:40.456104Z",
     "iopub.status.idle": "2024-01-24T12:37:41.933917Z",
     "shell.execute_reply": "2024-01-24T12:37:41.932277Z",
     "shell.execute_reply.started": "2024-01-24T12:37:40.456545Z"
    },
    "hidden": true
   },
   "outputs": [],
   "source": [
    "df_metadata.to_csv(compoundMetadataTPSACleanFile, index = False)"
   ]
  },
  {
   "cell_type": "markdown",
   "id": "90c84072-3217-4d67-ac1d-a1fdc7454b5b",
   "metadata": {
    "hidden": true
   },
   "source": [
    "### `./output/compound_tpsa_clean.csv`"
   ]
  },
  {
   "cell_type": "code",
   "execution_count": 56,
   "id": "9abc560d",
   "metadata": {
    "ExecuteTime": {
     "end_time": "2023-06-28T19:28:11.682858Z",
     "start_time": "2023-06-28T19:28:11.644028Z"
    },
    "execution": {
     "iopub.execute_input": "2024-01-24T12:37:47.173768Z",
     "iopub.status.busy": "2024-01-24T12:37:47.173201Z",
     "iopub.status.idle": "2024-01-24T12:37:47.212728Z",
     "shell.execute_reply": "2024-01-24T12:37:47.211779Z",
     "shell.execute_reply.started": "2024-01-24T12:37:47.173721Z"
    },
    "hidden": true
   },
   "outputs": [
    {
     "name": "stdout",
     "output_type": "stream",
     "text": [
      "--> compound TPSA Clean File                 : ./output_11102023/compound_TPSA_clean.csv\n",
      "\n"
     ]
    }
   ],
   "source": [
    "print(f\"--> compound TPSA Clean File                 : {compoundTPSACleanFile}\\n\")"
   ]
  },
  {
   "cell_type": "code",
   "execution_count": 58,
   "id": "b17dd4be",
   "metadata": {
    "ExecuteTime": {
     "end_time": "2023-06-28T19:29:00.895937Z",
     "start_time": "2023-06-28T19:29:00.711886Z"
    },
    "execution": {
     "iopub.execute_input": "2024-01-24T12:38:05.666530Z",
     "iopub.status.busy": "2024-01-24T12:38:05.666005Z",
     "iopub.status.idle": "2024-01-24T12:38:05.935849Z",
     "shell.execute_reply": "2024-01-24T12:38:05.934936Z",
     "shell.execute_reply.started": "2024-01-24T12:38:05.666487Z"
    },
    "hidden": true
   },
   "outputs": [],
   "source": [
    "df_tpsa.to_csv(compoundTPSACleanFile, index = False, columns=['JCP2022', 'TPSA', 'permiation'])"
   ]
  },
  {
   "cell_type": "code",
   "execution_count": 72,
   "id": "868957a7-1e84-47bf-94fc-2bb8e1c8be72",
   "metadata": {
    "ExecuteTime": {
     "end_time": "2023-06-28T19:30:06.230059Z",
     "start_time": "2023-06-28T19:30:06.195756Z"
    },
    "execution": {
     "iopub.execute_input": "2023-11-10T21:25:59.693643Z",
     "iopub.status.busy": "2023-11-10T21:25:59.693385Z",
     "iopub.status.idle": "2023-11-10T21:25:59.706241Z",
     "shell.execute_reply": "2023-11-10T21:25:59.705390Z",
     "shell.execute_reply.started": "2023-11-10T21:25:59.693628Z"
    },
    "hidden": true
   },
   "outputs": [],
   "source": [
    "# del df_tpsa\n",
    "# del df_metadata\n",
    "# del df_nans,\n",
    "# del df_smiles\n",
    "# del df_tpsa_zero\n",
    "# del df_tpsa_nan\n",
    "# del df_tpsa_inv\n",
    "# del df_md_zero\n",
    "# del df_md_nan\n",
    "# del df_md_inv\n",
    "# del df"
   ]
  },
  {
   "cell_type": "markdown",
   "id": "3480c770-b88b-47d0-a21a-bda836906ba7",
   "metadata": {
    "jp-MarkdownHeadingCollapsed": true
   },
   "source": [
    "### check the files we just wrote"
   ]
  },
  {
   "cell_type": "code",
   "execution_count": 62,
   "id": "451608c0-b3df-450a-bd00-a27767d60dd6",
   "metadata": {
    "ExecuteTime": {
     "end_time": "2023-06-28T19:37:50.015129Z",
     "start_time": "2023-06-28T19:37:49.870907Z"
    },
    "execution": {
     "iopub.execute_input": "2024-01-24T12:39:44.743178Z",
     "iopub.status.busy": "2024-01-24T12:39:44.742595Z",
     "iopub.status.idle": "2024-01-24T12:39:44.991788Z",
     "shell.execute_reply": "2024-01-24T12:39:44.990403Z",
     "shell.execute_reply.started": "2024-01-24T12:39:44.743118Z"
    }
   },
   "outputs": [
    {
     "name": "stdout",
     "output_type": "stream",
     "text": [
      "<class 'pandas.core.frame.DataFrame'>\n",
      "RangeIndex: 116691 entries, 0 to 116690\n",
      "Data columns (total 3 columns):\n",
      " #   Column      Non-Null Count   Dtype  \n",
      "---  ------      --------------   -----  \n",
      " 0   JCP2022     116691 non-null  object \n",
      " 1   TPSA        116691 non-null  float64\n",
      " 2   permiation  116691 non-null  int64  \n",
      "dtypes: float64(1), int64(1), object(1)\n",
      "memory usage: 2.7+ MB\n"
     ]
    },
    {
     "data": {
      "text/html": [
       "<div>\n",
       "<style scoped>\n",
       "    .dataframe tbody tr th:only-of-type {\n",
       "        vertical-align: middle;\n",
       "    }\n",
       "\n",
       "    .dataframe tbody tr th {\n",
       "        vertical-align: top;\n",
       "    }\n",
       "\n",
       "    .dataframe thead th {\n",
       "        text-align: right;\n",
       "    }\n",
       "</style>\n",
       "<table border=\"1\" class=\"dataframe\">\n",
       "  <thead>\n",
       "    <tr style=\"text-align: right;\">\n",
       "      <th></th>\n",
       "      <th>JCP2022</th>\n",
       "      <th>TPSA</th>\n",
       "      <th>permiation</th>\n",
       "    </tr>\n",
       "  </thead>\n",
       "  <tbody>\n",
       "    <tr>\n",
       "      <th>0</th>\n",
       "      <td>JCP2022_000001</td>\n",
       "      <td>63.49</td>\n",
       "      <td>0</td>\n",
       "    </tr>\n",
       "    <tr>\n",
       "      <th>1</th>\n",
       "      <td>JCP2022_000002</td>\n",
       "      <td>35.83</td>\n",
       "      <td>0</td>\n",
       "    </tr>\n",
       "    <tr>\n",
       "      <th>2</th>\n",
       "      <td>JCP2022_000003</td>\n",
       "      <td>73.72</td>\n",
       "      <td>0</td>\n",
       "    </tr>\n",
       "    <tr>\n",
       "      <th>3</th>\n",
       "      <td>JCP2022_000004</td>\n",
       "      <td>67.23</td>\n",
       "      <td>0</td>\n",
       "    </tr>\n",
       "    <tr>\n",
       "      <th>4</th>\n",
       "      <td>JCP2022_000005</td>\n",
       "      <td>84.89</td>\n",
       "      <td>0</td>\n",
       "    </tr>\n",
       "  </tbody>\n",
       "</table>\n",
       "</div>"
      ],
      "text/plain": [
       "          JCP2022   TPSA  permiation\n",
       "0  JCP2022_000001  63.49           0\n",
       "1  JCP2022_000002  35.83           0\n",
       "2  JCP2022_000003  73.72           0\n",
       "3  JCP2022_000004  67.23           0\n",
       "4  JCP2022_000005  84.89           0"
      ]
     },
     "execution_count": 62,
     "metadata": {},
     "output_type": "execute_result"
    },
    {
     "data": {
      "text/html": [
       "<div>\n",
       "<style scoped>\n",
       "    .dataframe tbody tr th:only-of-type {\n",
       "        vertical-align: middle;\n",
       "    }\n",
       "\n",
       "    .dataframe tbody tr th {\n",
       "        vertical-align: top;\n",
       "    }\n",
       "\n",
       "    .dataframe thead th {\n",
       "        text-align: right;\n",
       "    }\n",
       "</style>\n",
       "<table border=\"1\" class=\"dataframe\">\n",
       "  <thead>\n",
       "    <tr style=\"text-align: right;\">\n",
       "      <th></th>\n",
       "      <th>JCP2022</th>\n",
       "      <th>TPSA</th>\n",
       "      <th>permiation</th>\n",
       "    </tr>\n",
       "  </thead>\n",
       "  <tbody>\n",
       "    <tr>\n",
       "      <th>116686</th>\n",
       "      <td>JCP2022_116749</td>\n",
       "      <td>159.30</td>\n",
       "      <td>1</td>\n",
       "    </tr>\n",
       "    <tr>\n",
       "      <th>116687</th>\n",
       "      <td>JCP2022_116750</td>\n",
       "      <td>66.32</td>\n",
       "      <td>0</td>\n",
       "    </tr>\n",
       "    <tr>\n",
       "      <th>116688</th>\n",
       "      <td>JCP2022_116751</td>\n",
       "      <td>85.30</td>\n",
       "      <td>0</td>\n",
       "    </tr>\n",
       "    <tr>\n",
       "      <th>116689</th>\n",
       "      <td>JCP2022_116752</td>\n",
       "      <td>71.95</td>\n",
       "      <td>0</td>\n",
       "    </tr>\n",
       "    <tr>\n",
       "      <th>116690</th>\n",
       "      <td>JCP2022_116753</td>\n",
       "      <td>54.29</td>\n",
       "      <td>0</td>\n",
       "    </tr>\n",
       "  </tbody>\n",
       "</table>\n",
       "</div>"
      ],
      "text/plain": [
       "               JCP2022    TPSA  permiation\n",
       "116686  JCP2022_116749  159.30           1\n",
       "116687  JCP2022_116750   66.32           0\n",
       "116688  JCP2022_116751   85.30           0\n",
       "116689  JCP2022_116752   71.95           0\n",
       "116690  JCP2022_116753   54.29           0"
      ]
     },
     "execution_count": 62,
     "metadata": {},
     "output_type": "execute_result"
    },
    {
     "data": {
      "text/plain": [
       "0    102417\n",
       "1     14274\n",
       "Name: permiation, dtype: int64"
      ]
     },
     "execution_count": 62,
     "metadata": {},
     "output_type": "execute_result"
    }
   ],
   "source": [
    "df_tpsa = pd.read_csv(compoundTPSACleanFile)\n",
    "df_tpsa.info()\n",
    "df_tpsa.head()\n",
    "df_tpsa.tail()\n",
    "df_tpsa.permiation.value_counts()"
   ]
  },
  {
   "cell_type": "code",
   "execution_count": 65,
   "id": "de0fa479-2434-48a4-82d4-b03ba16ae3c7",
   "metadata": {
    "ExecuteTime": {
     "end_time": "2023-06-28T19:37:50.587623Z",
     "start_time": "2023-06-28T19:37:50.503671Z"
    },
    "execution": {
     "iopub.execute_input": "2024-01-24T12:40:29.821324Z",
     "iopub.status.busy": "2024-01-24T12:40:29.820851Z",
     "iopub.status.idle": "2024-01-24T12:40:30.652359Z",
     "shell.execute_reply": "2024-01-24T12:40:30.650144Z",
     "shell.execute_reply.started": "2024-01-24T12:40:29.821289Z"
    }
   },
   "outputs": [
    {
     "name": "stdout",
     "output_type": "stream",
     "text": [
      "<class 'pandas.core.frame.DataFrame'>\n",
      "RangeIndex: 116691 entries, 0 to 116690\n",
      "Data columns (total 8 columns):\n",
      " #   Column             Non-Null Count   Dtype  \n",
      "---  ------             --------------   -----  \n",
      " 0   Metadata_JCP2022   116691 non-null  object \n",
      " 1   Metadata_InChIKey  116691 non-null  object \n",
      " 2   Metadata_InChI     116691 non-null  object \n",
      " 3   smiles             116691 non-null  object \n",
      " 4   TPSA               116691 non-null  float64\n",
      " 5   lnTPSA             116691 non-null  float64\n",
      " 6   log10TPSA          116691 non-null  float64\n",
      " 7   permiation         116691 non-null  int64  \n",
      "dtypes: float64(3), int64(1), object(4)\n",
      "memory usage: 7.1+ MB\n"
     ]
    },
    {
     "data": {
      "text/html": [
       "<div>\n",
       "<style scoped>\n",
       "    .dataframe tbody tr th:only-of-type {\n",
       "        vertical-align: middle;\n",
       "    }\n",
       "\n",
       "    .dataframe tbody tr th {\n",
       "        vertical-align: top;\n",
       "    }\n",
       "\n",
       "    .dataframe thead th {\n",
       "        text-align: right;\n",
       "    }\n",
       "</style>\n",
       "<table border=\"1\" class=\"dataframe\">\n",
       "  <thead>\n",
       "    <tr style=\"text-align: right;\">\n",
       "      <th></th>\n",
       "      <th>Metadata_JCP2022</th>\n",
       "      <th>Metadata_InChIKey</th>\n",
       "      <th>Metadata_InChI</th>\n",
       "      <th>smiles</th>\n",
       "      <th>TPSA</th>\n",
       "      <th>lnTPSA</th>\n",
       "      <th>log10TPSA</th>\n",
       "      <th>permiation</th>\n",
       "    </tr>\n",
       "  </thead>\n",
       "  <tbody>\n",
       "    <tr>\n",
       "      <th>116686</th>\n",
       "      <td>JCP2022_116749</td>\n",
       "      <td>ZZZRUAITSXLWBH-UHFFFAOYSA-N</td>\n",
       "      <td>InChI=1S/C23H27N3O7/c1-25(2)12-5-6-13(27)15-10...</td>\n",
       "      <td>CN(C)C3C(=O)C(C(=N)O)C(=O)C4(O)C(=O)C2C(=O)c1c...</td>\n",
       "      <td>159.30</td>\n",
       "      <td>5.070789</td>\n",
       "      <td>2.202216</td>\n",
       "      <td>1</td>\n",
       "    </tr>\n",
       "    <tr>\n",
       "      <th>116687</th>\n",
       "      <td>JCP2022_116750</td>\n",
       "      <td>ZZZTXDPKNAOZPM-UHFFFAOYSA-N</td>\n",
       "      <td>InChI=1S/C22H27N3O2/c1-14-18(22(27)24-15(2)23-...</td>\n",
       "      <td>Cc4nc(C)c(CCC(=O)N(C1CC1)C2CCCc3ccccc23)c(O)n4</td>\n",
       "      <td>66.32</td>\n",
       "      <td>4.194492</td>\n",
       "      <td>1.821645</td>\n",
       "      <td>0</td>\n",
       "    </tr>\n",
       "    <tr>\n",
       "      <th>116688</th>\n",
       "      <td>JCP2022_116751</td>\n",
       "      <td>ZZZUOLMMTJKOGE-UHFFFAOYSA-N</td>\n",
       "      <td>InChI=1S/C19H17N5O2/c1-23-9-6-13-7-10-24(19(26...</td>\n",
       "      <td>CN4C=CC3C=CN(CCN=C(O)c2cnc1ccccc1n2)C(=O)C=34</td>\n",
       "      <td>85.30</td>\n",
       "      <td>4.446174</td>\n",
       "      <td>1.930949</td>\n",
       "      <td>0</td>\n",
       "    </tr>\n",
       "    <tr>\n",
       "      <th>116689</th>\n",
       "      <td>JCP2022_116752</td>\n",
       "      <td>ZZZZIBSVRUABIA-UHFFFAOYSA-N</td>\n",
       "      <td>InChI=1S/C19H13F6N3O2S/c1-11-26-6-5-17(27-11)1...</td>\n",
       "      <td>Cc1nccc(n1)c2cccc(c2)NS(=O)(=O)c3cc(cc(c3)C(F)...</td>\n",
       "      <td>71.95</td>\n",
       "      <td>4.275971</td>\n",
       "      <td>1.857031</td>\n",
       "      <td>0</td>\n",
       "    </tr>\n",
       "    <tr>\n",
       "      <th>116690</th>\n",
       "      <td>JCP2022_116753</td>\n",
       "      <td>ZZZZVNLQWWXZTQ-UHFFFAOYSA-N</td>\n",
       "      <td>InChI=1S/C14H20N2O3/c1-18-13-5-3-2-4-12(13)14(...</td>\n",
       "      <td>COc1ccccc1C(O)=NCCN2CCOCC2</td>\n",
       "      <td>54.29</td>\n",
       "      <td>3.994340</td>\n",
       "      <td>1.734720</td>\n",
       "      <td>0</td>\n",
       "    </tr>\n",
       "  </tbody>\n",
       "</table>\n",
       "</div>"
      ],
      "text/plain": [
       "       Metadata_JCP2022            Metadata_InChIKey                                     Metadata_InChI  \\\n",
       "116686   JCP2022_116749  ZZZRUAITSXLWBH-UHFFFAOYSA-N  InChI=1S/C23H27N3O7/c1-25(2)12-5-6-13(27)15-10...   \n",
       "116687   JCP2022_116750  ZZZTXDPKNAOZPM-UHFFFAOYSA-N  InChI=1S/C22H27N3O2/c1-14-18(22(27)24-15(2)23-...   \n",
       "116688   JCP2022_116751  ZZZUOLMMTJKOGE-UHFFFAOYSA-N  InChI=1S/C19H17N5O2/c1-23-9-6-13-7-10-24(19(26...   \n",
       "116689   JCP2022_116752  ZZZZIBSVRUABIA-UHFFFAOYSA-N  InChI=1S/C19H13F6N3O2S/c1-11-26-6-5-17(27-11)1...   \n",
       "116690   JCP2022_116753  ZZZZVNLQWWXZTQ-UHFFFAOYSA-N  InChI=1S/C14H20N2O3/c1-18-13-5-3-2-4-12(13)14(...   \n",
       "\n",
       "                                                   smiles    TPSA    lnTPSA  log10TPSA  permiation  \n",
       "116686  CN(C)C3C(=O)C(C(=N)O)C(=O)C4(O)C(=O)C2C(=O)c1c...  159.30  5.070789   2.202216           1  \n",
       "116687     Cc4nc(C)c(CCC(=O)N(C1CC1)C2CCCc3ccccc23)c(O)n4   66.32  4.194492   1.821645           0  \n",
       "116688      CN4C=CC3C=CN(CCN=C(O)c2cnc1ccccc1n2)C(=O)C=34   85.30  4.446174   1.930949           0  \n",
       "116689  Cc1nccc(n1)c2cccc(c2)NS(=O)(=O)c3cc(cc(c3)C(F)...   71.95  4.275971   1.857031           0  \n",
       "116690                         COc1ccccc1C(O)=NCCN2CCOCC2   54.29  3.994340   1.734720           0  "
      ]
     },
     "execution_count": 65,
     "metadata": {},
     "output_type": "execute_result"
    },
    {
     "data": {
      "text/plain": [
       "0    102417\n",
       "1     14274\n",
       "Name: permiation, dtype: int64"
      ]
     },
     "execution_count": 65,
     "metadata": {},
     "output_type": "execute_result"
    }
   ],
   "source": [
    "df_metadata = pd.read_csv(compoundMetadataTPSACleanFile)\n",
    "df_metadata.info()\n",
    "# df_metadata.head(5)\n",
    "df_metadata.tail(5)\n",
    "df_metadata.permiation.value_counts()"
   ]
  },
  {
   "cell_type": "markdown",
   "id": "50950094-8497-4750-8265-6d15242786ac",
   "metadata": {},
   "source": [
    "# Drop TPSA == 0 rows from df_pharamcophore file "
   ]
  },
  {
   "cell_type": "markdown",
   "id": "0c641bb5-377f-4fad-8e02-bbe13a3b3089",
   "metadata": {
    "heading_collapsed": true,
    "jp-MarkdownHeadingCollapsed": true
   },
   "source": [
    "### Re-read Pharmacophore fingerprint \n",
    "(Sparse Bit Vector format)  `./output/cp_compound_pharmacophores_sparsebitvec.pkl`  and check it"
   ]
  },
  {
   "cell_type": "code",
   "execution_count": 73,
   "id": "3d30135c-2657-4b13-b296-4c4a8fd22990",
   "metadata": {
    "ExecuteTime": {
     "end_time": "2023-05-26T08:56:43.445427Z",
     "start_time": "2023-05-26T08:56:43.430411Z"
    },
    "execution": {
     "iopub.execute_input": "2023-11-10T21:27:29.081380Z",
     "iopub.status.busy": "2023-11-10T21:27:29.081109Z",
     "iopub.status.idle": "2023-11-10T21:27:29.094562Z",
     "shell.execute_reply": "2023-11-10T21:27:29.093980Z",
     "shell.execute_reply.started": "2023-11-10T21:27:29.081363Z"
    },
    "hidden": true,
    "scrolled": true
   },
   "outputs": [
    {
     "name": "stdout",
     "output_type": "stream",
     "text": [
      "./output_11102023/_compound_pharmacophores_sparse.pkl\n"
     ]
    }
   ],
   "source": [
    "print(compoundPharmacophoreFile)"
   ]
  },
  {
   "cell_type": "code",
   "execution_count": 73,
   "id": "7d75a905-0029-43e8-acb1-bf193e430446",
   "metadata": {
    "ExecuteTime": {
     "end_time": "2023-05-25T10:39:48.997121Z",
     "start_time": "2023-05-25T10:39:47.974580Z"
    },
    "hidden": true
   },
   "outputs": [
    {
     "name": "stdout",
     "output_type": "stream",
     "text": [
      "<class 'pandas.core.frame.DataFrame'>\n",
      "RangeIndex: 116751 entries, 0 to 116750\n",
      "Data columns (total 2 columns):\n",
      " #   Column            Non-Null Count   Dtype \n",
      "---  ------            --------------   ----- \n",
      " 0   JCP2022           116751 non-null  object\n",
      " 1   pharmacophore_fp  116751 non-null  object\n",
      "dtypes: object(2)\n",
      "memory usage: 1.8+ MB\n"
     ]
    },
    {
     "data": {
      "text/html": [
       "<div>\n",
       "<style scoped>\n",
       "    .dataframe tbody tr th:only-of-type {\n",
       "        vertical-align: middle;\n",
       "    }\n",
       "\n",
       "    .dataframe tbody tr th {\n",
       "        vertical-align: top;\n",
       "    }\n",
       "\n",
       "    .dataframe thead th {\n",
       "        text-align: right;\n",
       "    }\n",
       "</style>\n",
       "<table border=\"1\" class=\"dataframe\">\n",
       "  <thead>\n",
       "    <tr style=\"text-align: right;\">\n",
       "      <th></th>\n",
       "      <th>JCP2022</th>\n",
       "      <th>pharmacophore_fp</th>\n",
       "    </tr>\n",
       "  </thead>\n",
       "  <tbody>\n",
       "    <tr>\n",
       "      <th>0</th>\n",
       "      <td>JCP2022_000001</td>\n",
       "      <td>[0, 1, 1, 1, 1, 1, 1, 1, 1, 1, 0, 0, 1, 1, 0, ...</td>\n",
       "    </tr>\n",
       "    <tr>\n",
       "      <th>1</th>\n",
       "      <td>JCP2022_000002</td>\n",
       "      <td>[0, 0, 0, 1, 1, 0, 0, 1, 0, 1, 0, 0, 0, 0, 0, ...</td>\n",
       "    </tr>\n",
       "    <tr>\n",
       "      <th>2</th>\n",
       "      <td>JCP2022_000003</td>\n",
       "      <td>[0, 1, 1, 1, 0, 1, 1, 1, 1, 1, 0, 0, 0, 0, 0, ...</td>\n",
       "    </tr>\n",
       "    <tr>\n",
       "      <th>3</th>\n",
       "      <td>JCP2022_000004</td>\n",
       "      <td>[1, 1, 1, 0, 0, 1, 0, 1, 0, 0, 0, 0, 0, 1, 0, ...</td>\n",
       "    </tr>\n",
       "    <tr>\n",
       "      <th>4</th>\n",
       "      <td>JCP2022_000005</td>\n",
       "      <td>[1, 1, 1, 1, 0, 1, 1, 1, 1, 1, 0, 0, 0, 0, 0, ...</td>\n",
       "    </tr>\n",
       "    <tr>\n",
       "      <th>5</th>\n",
       "      <td>JCP2022_000006</td>\n",
       "      <td>[1, 1, 1, 1, 0, 0, 1, 1, 1, 1, 0, 0, 0, 0, 0, ...</td>\n",
       "    </tr>\n",
       "    <tr>\n",
       "      <th>6</th>\n",
       "      <td>JCP2022_000007</td>\n",
       "      <td>[1, 1, 1, 1, 0, 1, 1, 1, 1, 1, 0, 0, 0, 0, 0, ...</td>\n",
       "    </tr>\n",
       "    <tr>\n",
       "      <th>7</th>\n",
       "      <td>JCP2022_000008</td>\n",
       "      <td>[0, 1, 0, 1, 0, 1, 0, 1, 0, 1, 0, 0, 0, 0, 0, ...</td>\n",
       "    </tr>\n",
       "    <tr>\n",
       "      <th>8</th>\n",
       "      <td>JCP2022_000009</td>\n",
       "      <td>[1, 1, 1, 1, 1, 1, 1, 1, 1, 1, 0, 0, 0, 1, 0, ...</td>\n",
       "    </tr>\n",
       "    <tr>\n",
       "      <th>9</th>\n",
       "      <td>JCP2022_000010</td>\n",
       "      <td>[1, 1, 1, 1, 1, 1, 0, 0, 0, 0, 0, 0, 0, 0, 0, ...</td>\n",
       "    </tr>\n",
       "  </tbody>\n",
       "</table>\n",
       "</div>"
      ],
      "text/plain": [
       "          JCP2022                                   pharmacophore_fp\n",
       "0  JCP2022_000001  [0, 1, 1, 1, 1, 1, 1, 1, 1, 1, 0, 0, 1, 1, 0, ...\n",
       "1  JCP2022_000002  [0, 0, 0, 1, 1, 0, 0, 1, 0, 1, 0, 0, 0, 0, 0, ...\n",
       "2  JCP2022_000003  [0, 1, 1, 1, 0, 1, 1, 1, 1, 1, 0, 0, 0, 0, 0, ...\n",
       "3  JCP2022_000004  [1, 1, 1, 0, 0, 1, 0, 1, 0, 0, 0, 0, 0, 1, 0, ...\n",
       "4  JCP2022_000005  [1, 1, 1, 1, 0, 1, 1, 1, 1, 1, 0, 0, 0, 0, 0, ...\n",
       "5  JCP2022_000006  [1, 1, 1, 1, 0, 0, 1, 1, 1, 1, 0, 0, 0, 0, 0, ...\n",
       "6  JCP2022_000007  [1, 1, 1, 1, 0, 1, 1, 1, 1, 1, 0, 0, 0, 0, 0, ...\n",
       "7  JCP2022_000008  [0, 1, 0, 1, 0, 1, 0, 1, 0, 1, 0, 0, 0, 0, 0, ...\n",
       "8  JCP2022_000009  [1, 1, 1, 1, 1, 1, 1, 1, 1, 1, 0, 0, 0, 1, 0, ...\n",
       "9  JCP2022_000010  [1, 1, 1, 1, 1, 1, 0, 0, 0, 0, 0, 0, 0, 0, 0, ..."
      ]
     },
     "execution_count": 73,
     "metadata": {},
     "output_type": "execute_result"
    },
    {
     "data": {
      "text/html": [
       "<div>\n",
       "<style scoped>\n",
       "    .dataframe tbody tr th:only-of-type {\n",
       "        vertical-align: middle;\n",
       "    }\n",
       "\n",
       "    .dataframe tbody tr th {\n",
       "        vertical-align: top;\n",
       "    }\n",
       "\n",
       "    .dataframe thead th {\n",
       "        text-align: right;\n",
       "    }\n",
       "</style>\n",
       "<table border=\"1\" class=\"dataframe\">\n",
       "  <thead>\n",
       "    <tr style=\"text-align: right;\">\n",
       "      <th></th>\n",
       "      <th>JCP2022</th>\n",
       "      <th>pharmacophore_fp</th>\n",
       "    </tr>\n",
       "  </thead>\n",
       "  <tbody>\n",
       "    <tr>\n",
       "      <th>116741</th>\n",
       "      <td>JCP2022_116744</td>\n",
       "      <td>[0, 1, 1, 1, 0, 0, 1, 1, 1, 1, 0, 0, 0, 0, 0, ...</td>\n",
       "    </tr>\n",
       "    <tr>\n",
       "      <th>116742</th>\n",
       "      <td>JCP2022_116745</td>\n",
       "      <td>[0, 1, 1, 1, 1, 1, 0, 1, 1, 1, 0, 0, 0, 0, 0, ...</td>\n",
       "    </tr>\n",
       "    <tr>\n",
       "      <th>116743</th>\n",
       "      <td>JCP2022_116746</td>\n",
       "      <td>[0, 1, 1, 1, 0, 1, 1, 1, 1, 1, 0, 0, 0, 0, 0, ...</td>\n",
       "    </tr>\n",
       "    <tr>\n",
       "      <th>116744</th>\n",
       "      <td>JCP2022_116747</td>\n",
       "      <td>[0, 1, 1, 0, 0, 1, 1, 1, 0, 0, 0, 0, 0, 1, 0, ...</td>\n",
       "    </tr>\n",
       "    <tr>\n",
       "      <th>116745</th>\n",
       "      <td>JCP2022_116748</td>\n",
       "      <td>[0, 1, 1, 1, 1, 1, 1, 1, 1, 1, 0, 0, 0, 0, 0, ...</td>\n",
       "    </tr>\n",
       "    <tr>\n",
       "      <th>116746</th>\n",
       "      <td>JCP2022_116749</td>\n",
       "      <td>[0, 1, 1, 1, 1, 1, 1, 1, 1, 1, 0, 0, 0, 1, 0, ...</td>\n",
       "    </tr>\n",
       "    <tr>\n",
       "      <th>116747</th>\n",
       "      <td>JCP2022_116750</td>\n",
       "      <td>[1, 1, 1, 1, 1, 1, 1, 1, 0, 1, 0, 0, 0, 0, 0, ...</td>\n",
       "    </tr>\n",
       "    <tr>\n",
       "      <th>116748</th>\n",
       "      <td>JCP2022_116751</td>\n",
       "      <td>[0, 1, 1, 1, 0, 1, 0, 1, 1, 1, 0, 0, 0, 0, 0, ...</td>\n",
       "    </tr>\n",
       "    <tr>\n",
       "      <th>116749</th>\n",
       "      <td>JCP2022_116752</td>\n",
       "      <td>[1, 1, 1, 1, 1, 1, 1, 1, 1, 1, 0, 0, 0, 0, 0, ...</td>\n",
       "    </tr>\n",
       "    <tr>\n",
       "      <th>116750</th>\n",
       "      <td>JCP2022_116753</td>\n",
       "      <td>[0, 1, 1, 0, 0, 1, 1, 0, 1, 0, 0, 0, 0, 1, 0, ...</td>\n",
       "    </tr>\n",
       "  </tbody>\n",
       "</table>\n",
       "</div>"
      ],
      "text/plain": [
       "               JCP2022                                   pharmacophore_fp\n",
       "116741  JCP2022_116744  [0, 1, 1, 1, 0, 0, 1, 1, 1, 1, 0, 0, 0, 0, 0, ...\n",
       "116742  JCP2022_116745  [0, 1, 1, 1, 1, 1, 0, 1, 1, 1, 0, 0, 0, 0, 0, ...\n",
       "116743  JCP2022_116746  [0, 1, 1, 1, 0, 1, 1, 1, 1, 1, 0, 0, 0, 0, 0, ...\n",
       "116744  JCP2022_116747  [0, 1, 1, 0, 0, 1, 1, 1, 0, 0, 0, 0, 0, 1, 0, ...\n",
       "116745  JCP2022_116748  [0, 1, 1, 1, 1, 1, 1, 1, 1, 1, 0, 0, 0, 0, 0, ...\n",
       "116746  JCP2022_116749  [0, 1, 1, 1, 1, 1, 1, 1, 1, 1, 0, 0, 0, 1, 0, ...\n",
       "116747  JCP2022_116750  [1, 1, 1, 1, 1, 1, 1, 1, 0, 1, 0, 0, 0, 0, 0, ...\n",
       "116748  JCP2022_116751  [0, 1, 1, 1, 0, 1, 0, 1, 1, 1, 0, 0, 0, 0, 0, ...\n",
       "116749  JCP2022_116752  [1, 1, 1, 1, 1, 1, 1, 1, 1, 1, 0, 0, 0, 0, 0, ...\n",
       "116750  JCP2022_116753  [0, 1, 1, 0, 0, 1, 1, 0, 1, 0, 0, 0, 0, 1, 0, ..."
      ]
     },
     "execution_count": 73,
     "metadata": {},
     "output_type": "execute_result"
    }
   ],
   "source": [
    "df = pd.read_pickle(compoundPharmacophoreFile)\n",
    "df.info()\n",
    "df.head(10)\n",
    "df.tail(10)"
   ]
  },
  {
   "cell_type": "code",
   "execution_count": 74,
   "id": "06c8c73b-54dc-423a-925b-4f08052c0417",
   "metadata": {
    "ExecuteTime": {
     "end_time": "2023-05-25T10:39:49.014602Z",
     "start_time": "2023-05-25T10:39:48.999211Z"
    },
    "hidden": true
   },
   "outputs": [
    {
     "name": "stdout",
     "output_type": "stream",
     "text": [
      "<class 'rdkit.DataStructs.cDataStructs.SparseBitVect'> 1032 <rdkit.DataStructs.cDataStructs.SparseBitVect object at 0x7f4775000130>\n",
      "<class 'rdkit.DataStructs.cDataStructs.SparseBitVect'> 1032 <rdkit.DataStructs.cDataStructs.SparseBitVect object at 0x7f4775000130>\n",
      "<class 'rdkit.DataStructs.cDataStructs.SparseBitVect'> 1032 <rdkit.DataStructs.cDataStructs.SparseBitVect object at 0x7f4775000130>\n"
     ]
    }
   ],
   "source": [
    "\n",
    "print(type(df.at[0, 'pharmacophore_fp']), len(df.at[0, 'pharmacophore_fp']),  df.at[0, 'pharmacophore_fp'])\n",
    "print(type(df.loc[0].pharmacophore_fp)  , len(df.loc[0].pharmacophore_fp)  ,  df.loc[0].pharmacophore_fp)\n",
    "print(type(df.iloc[0].pharmacophore_fp) , len(df.iloc[0].pharmacophore_fp) ,  df.iloc[0].pharmacophore_fp)\n",
    "# print(type(df[0].pharmacophore_fp) , len(df[0].pharmacophore_fp) ,  df[0].pharmacophore_fp)\n"
   ]
  },
  {
   "cell_type": "code",
   "execution_count": 75,
   "id": "f762f953-b389-47c9-b4a3-fe0c85ed76bc",
   "metadata": {
    "ExecuteTime": {
     "end_time": "2023-05-25T10:39:49.072717Z",
     "start_time": "2023-05-25T10:39:49.046690Z"
    },
    "hidden": true
   },
   "outputs": [
    {
     "data": {
      "text/html": [
       "<div>\n",
       "<style scoped>\n",
       "    .dataframe tbody tr th:only-of-type {\n",
       "        vertical-align: middle;\n",
       "    }\n",
       "\n",
       "    .dataframe tbody tr th {\n",
       "        vertical-align: top;\n",
       "    }\n",
       "\n",
       "    .dataframe thead th {\n",
       "        text-align: right;\n",
       "    }\n",
       "</style>\n",
       "<table border=\"1\" class=\"dataframe\">\n",
       "  <thead>\n",
       "    <tr style=\"text-align: right;\">\n",
       "      <th></th>\n",
       "      <th>JCP2022</th>\n",
       "      <th>pharmacophore_fp</th>\n",
       "    </tr>\n",
       "  </thead>\n",
       "  <tbody>\n",
       "  </tbody>\n",
       "</table>\n",
       "</div>"
      ],
      "text/plain": [
       "Empty DataFrame\n",
       "Columns: [JCP2022, pharmacophore_fp]\n",
       "Index: []"
      ]
     },
     "execution_count": 75,
     "metadata": {},
     "output_type": "execute_result"
    },
    {
     "data": {
      "text/plain": [
       "116751"
      ]
     },
     "execution_count": 75,
     "metadata": {},
     "output_type": "execute_result"
    },
    {
     "data": {
      "text/html": [
       "<div>\n",
       "<style scoped>\n",
       "    .dataframe tbody tr th:only-of-type {\n",
       "        vertical-align: middle;\n",
       "    }\n",
       "\n",
       "    .dataframe tbody tr th {\n",
       "        vertical-align: top;\n",
       "    }\n",
       "\n",
       "    .dataframe thead th {\n",
       "        text-align: right;\n",
       "    }\n",
       "</style>\n",
       "<table border=\"1\" class=\"dataframe\">\n",
       "  <thead>\n",
       "    <tr style=\"text-align: right;\">\n",
       "      <th></th>\n",
       "      <th>JCP2022</th>\n",
       "      <th>pharmacophore_fp</th>\n",
       "    </tr>\n",
       "  </thead>\n",
       "  <tbody>\n",
       "  </tbody>\n",
       "</table>\n",
       "</div>"
      ],
      "text/plain": [
       "Empty DataFrame\n",
       "Columns: [JCP2022, pharmacophore_fp]\n",
       "Index: []"
      ]
     },
     "execution_count": 75,
     "metadata": {},
     "output_type": "execute_result"
    },
    {
     "data": {
      "text/plain": [
       "116751"
      ]
     },
     "execution_count": 75,
     "metadata": {},
     "output_type": "execute_result"
    }
   ],
   "source": [
    "df[df['JCP2022'].isna()]\n",
    "len(df)\n",
    "df[df['pharmacophore_fp'].isna()]\n",
    "len(df)\n"
   ]
  },
  {
   "cell_type": "code",
   "execution_count": 76,
   "id": "5d404f5e-1374-4145-a2c1-90b3862d4f00",
   "metadata": {
    "ExecuteTime": {
     "end_time": "2023-05-25T10:39:51.077063Z",
     "start_time": "2023-05-25T10:39:51.065402Z"
    },
    "hidden": true
   },
   "outputs": [],
   "source": [
    "del df"
   ]
  },
  {
   "cell_type": "markdown",
   "id": "f0390cc3-c824-41f5-af59-371e9594c2b5",
   "metadata": {
    "jp-MarkdownHeadingCollapsed": true
   },
   "source": [
    "### Read pharamcophore file"
   ]
  },
  {
   "cell_type": "code",
   "execution_count": 76,
   "id": "7fe7c025-7c31-4c24-ab88-0f7bab394366",
   "metadata": {
    "ExecuteTime": {
     "end_time": "2023-05-29T11:50:31.384058Z",
     "start_time": "2023-05-29T11:50:30.332356Z"
    },
    "scrolled": true
   },
   "outputs": [
    {
     "name": "stdout",
     "output_type": "stream",
     "text": [
      "<class 'pandas.core.frame.DataFrame'>\n",
      "RangeIndex: 116751 entries, 0 to 116750\n",
      "Data columns (total 2 columns):\n",
      " #   Column            Non-Null Count   Dtype \n",
      "---  ------            --------------   ----- \n",
      " 0   JCP2022           116751 non-null  object\n",
      " 1   pharmacophore_fp  116751 non-null  object\n",
      "dtypes: object(2)\n",
      "memory usage: 1.8+ MB\n"
     ]
    },
    {
     "data": {
      "text/html": [
       "<div>\n",
       "<style scoped>\n",
       "    .dataframe tbody tr th:only-of-type {\n",
       "        vertical-align: middle;\n",
       "    }\n",
       "\n",
       "    .dataframe tbody tr th {\n",
       "        vertical-align: top;\n",
       "    }\n",
       "\n",
       "    .dataframe thead th {\n",
       "        text-align: right;\n",
       "    }\n",
       "</style>\n",
       "<table border=\"1\" class=\"dataframe\">\n",
       "  <thead>\n",
       "    <tr style=\"text-align: right;\">\n",
       "      <th></th>\n",
       "      <th>JCP2022</th>\n",
       "      <th>pharmacophore_fp</th>\n",
       "    </tr>\n",
       "  </thead>\n",
       "  <tbody>\n",
       "    <tr>\n",
       "      <th>0</th>\n",
       "      <td>JCP2022_000001</td>\n",
       "      <td>[0, 1, 1, 1, 1, 1, 1, 1, 1, 1, 0, 0, 1, 1, 0, ...</td>\n",
       "    </tr>\n",
       "    <tr>\n",
       "      <th>1</th>\n",
       "      <td>JCP2022_000002</td>\n",
       "      <td>[0, 0, 0, 1, 1, 0, 0, 1, 0, 1, 0, 0, 0, 0, 0, ...</td>\n",
       "    </tr>\n",
       "    <tr>\n",
       "      <th>2</th>\n",
       "      <td>JCP2022_000003</td>\n",
       "      <td>[0, 1, 1, 1, 0, 1, 1, 1, 1, 1, 0, 0, 0, 0, 0, ...</td>\n",
       "    </tr>\n",
       "  </tbody>\n",
       "</table>\n",
       "</div>"
      ],
      "text/plain": [
       "          JCP2022                                   pharmacophore_fp\n",
       "0  JCP2022_000001  [0, 1, 1, 1, 1, 1, 1, 1, 1, 1, 0, 0, 1, 1, 0, ...\n",
       "1  JCP2022_000002  [0, 0, 0, 1, 1, 0, 0, 1, 0, 1, 0, 0, 0, 0, 0, ...\n",
       "2  JCP2022_000003  [0, 1, 1, 1, 0, 1, 1, 1, 1, 1, 0, 0, 0, 0, 0, ..."
      ]
     },
     "execution_count": 76,
     "metadata": {},
     "output_type": "execute_result"
    },
    {
     "data": {
      "text/html": [
       "<div>\n",
       "<style scoped>\n",
       "    .dataframe tbody tr th:only-of-type {\n",
       "        vertical-align: middle;\n",
       "    }\n",
       "\n",
       "    .dataframe tbody tr th {\n",
       "        vertical-align: top;\n",
       "    }\n",
       "\n",
       "    .dataframe thead th {\n",
       "        text-align: right;\n",
       "    }\n",
       "</style>\n",
       "<table border=\"1\" class=\"dataframe\">\n",
       "  <thead>\n",
       "    <tr style=\"text-align: right;\">\n",
       "      <th></th>\n",
       "      <th>JCP2022</th>\n",
       "      <th>pharmacophore_fp</th>\n",
       "    </tr>\n",
       "  </thead>\n",
       "  <tbody>\n",
       "    <tr>\n",
       "      <th>116748</th>\n",
       "      <td>JCP2022_116751</td>\n",
       "      <td>[0, 1, 1, 1, 0, 1, 0, 1, 1, 1, 0, 0, 0, 0, 0, ...</td>\n",
       "    </tr>\n",
       "    <tr>\n",
       "      <th>116749</th>\n",
       "      <td>JCP2022_116752</td>\n",
       "      <td>[1, 1, 1, 1, 1, 1, 1, 1, 1, 1, 0, 0, 0, 0, 0, ...</td>\n",
       "    </tr>\n",
       "    <tr>\n",
       "      <th>116750</th>\n",
       "      <td>JCP2022_116753</td>\n",
       "      <td>[0, 1, 1, 0, 0, 1, 1, 0, 1, 0, 0, 0, 0, 1, 0, ...</td>\n",
       "    </tr>\n",
       "  </tbody>\n",
       "</table>\n",
       "</div>"
      ],
      "text/plain": [
       "               JCP2022                                   pharmacophore_fp\n",
       "116748  JCP2022_116751  [0, 1, 1, 1, 0, 1, 0, 1, 1, 1, 0, 0, 0, 0, 0, ...\n",
       "116749  JCP2022_116752  [1, 1, 1, 1, 1, 1, 1, 1, 1, 1, 0, 0, 0, 0, 0, ...\n",
       "116750  JCP2022_116753  [0, 1, 1, 0, 0, 1, 1, 0, 1, 0, 0, 0, 0, 1, 0, ..."
      ]
     },
     "execution_count": 76,
     "metadata": {},
     "output_type": "execute_result"
    }
   ],
   "source": [
    "df_pharmacophores = pd.read_pickle(compoundPharmacophoreFile)\n",
    "df_pharmacophores.info()\n",
    "df_pharmacophores.head(3)\n",
    "df_pharmacophores.tail(3)"
   ]
  },
  {
   "cell_type": "markdown",
   "id": "75efd388-9e99-485f-8b1b-7edaa5c691b4",
   "metadata": {
    "jp-MarkdownHeadingCollapsed": true
   },
   "source": [
    "### drop df_pharmacophore rows where corresponding  TPSA == 0"
   ]
  },
  {
   "cell_type": "code",
   "execution_count": 88,
   "id": "6919b194-358e-4bd8-9e35-7b7d62429661",
   "metadata": {
    "ExecuteTime": {
     "end_time": "2023-05-29T11:56:23.494579Z",
     "start_time": "2023-05-29T11:56:23.364674Z"
    }
   },
   "outputs": [
    {
     "data": {
      "text/plain": [
       "116691"
      ]
     },
     "execution_count": 88,
     "metadata": {},
     "output_type": "execute_result"
    },
    {
     "data": {
      "text/html": [
       "<div>\n",
       "<style scoped>\n",
       "    .dataframe tbody tr th:only-of-type {\n",
       "        vertical-align: middle;\n",
       "    }\n",
       "\n",
       "    .dataframe tbody tr th {\n",
       "        vertical-align: top;\n",
       "    }\n",
       "\n",
       "    .dataframe thead th {\n",
       "        text-align: right;\n",
       "    }\n",
       "</style>\n",
       "<table border=\"1\" class=\"dataframe\">\n",
       "  <thead>\n",
       "    <tr style=\"text-align: right;\">\n",
       "      <th></th>\n",
       "      <th>JCP2022</th>\n",
       "      <th>pharmacophore_fp</th>\n",
       "    </tr>\n",
       "  </thead>\n",
       "  <tbody>\n",
       "    <tr>\n",
       "      <th>0</th>\n",
       "      <td>JCP2022_000001</td>\n",
       "      <td>[0, 1, 1, 1, 1, 1, 1, 1, 1, 1, 0, 0, 1, 1, 0, ...</td>\n",
       "    </tr>\n",
       "    <tr>\n",
       "      <th>1</th>\n",
       "      <td>JCP2022_000002</td>\n",
       "      <td>[0, 0, 0, 1, 1, 0, 0, 1, 0, 1, 0, 0, 0, 0, 0, ...</td>\n",
       "    </tr>\n",
       "    <tr>\n",
       "      <th>2</th>\n",
       "      <td>JCP2022_000003</td>\n",
       "      <td>[0, 1, 1, 1, 0, 1, 1, 1, 1, 1, 0, 0, 0, 0, 0, ...</td>\n",
       "    </tr>\n",
       "    <tr>\n",
       "      <th>3</th>\n",
       "      <td>JCP2022_000004</td>\n",
       "      <td>[1, 1, 1, 0, 0, 1, 0, 1, 0, 0, 0, 0, 0, 1, 0, ...</td>\n",
       "    </tr>\n",
       "    <tr>\n",
       "      <th>4</th>\n",
       "      <td>JCP2022_000005</td>\n",
       "      <td>[1, 1, 1, 1, 0, 1, 1, 1, 1, 1, 0, 0, 0, 0, 0, ...</td>\n",
       "    </tr>\n",
       "    <tr>\n",
       "      <th>...</th>\n",
       "      <td>...</td>\n",
       "      <td>...</td>\n",
       "    </tr>\n",
       "    <tr>\n",
       "      <th>116746</th>\n",
       "      <td>JCP2022_116749</td>\n",
       "      <td>[0, 1, 1, 1, 1, 1, 1, 1, 1, 1, 0, 0, 0, 1, 0, ...</td>\n",
       "    </tr>\n",
       "    <tr>\n",
       "      <th>116747</th>\n",
       "      <td>JCP2022_116750</td>\n",
       "      <td>[1, 1, 1, 1, 1, 1, 1, 1, 0, 1, 0, 0, 0, 0, 0, ...</td>\n",
       "    </tr>\n",
       "    <tr>\n",
       "      <th>116748</th>\n",
       "      <td>JCP2022_116751</td>\n",
       "      <td>[0, 1, 1, 1, 0, 1, 0, 1, 1, 1, 0, 0, 0, 0, 0, ...</td>\n",
       "    </tr>\n",
       "    <tr>\n",
       "      <th>116749</th>\n",
       "      <td>JCP2022_116752</td>\n",
       "      <td>[1, 1, 1, 1, 1, 1, 1, 1, 1, 1, 0, 0, 0, 0, 0, ...</td>\n",
       "    </tr>\n",
       "    <tr>\n",
       "      <th>116750</th>\n",
       "      <td>JCP2022_116753</td>\n",
       "      <td>[0, 1, 1, 0, 0, 1, 1, 0, 1, 0, 0, 0, 0, 1, 0, ...</td>\n",
       "    </tr>\n",
       "  </tbody>\n",
       "</table>\n",
       "<p>116691 rows × 2 columns</p>\n",
       "</div>"
      ],
      "text/plain": [
       "               JCP2022                                   pharmacophore_fp\n",
       "0       JCP2022_000001  [0, 1, 1, 1, 1, 1, 1, 1, 1, 1, 0, 0, 1, 1, 0, ...\n",
       "1       JCP2022_000002  [0, 0, 0, 1, 1, 0, 0, 1, 0, 1, 0, 0, 0, 0, 0, ...\n",
       "2       JCP2022_000003  [0, 1, 1, 1, 0, 1, 1, 1, 1, 1, 0, 0, 0, 0, 0, ...\n",
       "3       JCP2022_000004  [1, 1, 1, 0, 0, 1, 0, 1, 0, 0, 0, 0, 0, 1, 0, ...\n",
       "4       JCP2022_000005  [1, 1, 1, 1, 0, 1, 1, 1, 1, 1, 0, 0, 0, 0, 0, ...\n",
       "...                ...                                                ...\n",
       "116746  JCP2022_116749  [0, 1, 1, 1, 1, 1, 1, 1, 1, 1, 0, 0, 0, 1, 0, ...\n",
       "116747  JCP2022_116750  [1, 1, 1, 1, 1, 1, 1, 1, 0, 1, 0, 0, 0, 0, 0, ...\n",
       "116748  JCP2022_116751  [0, 1, 1, 1, 0, 1, 0, 1, 1, 1, 0, 0, 0, 0, 0, ...\n",
       "116749  JCP2022_116752  [1, 1, 1, 1, 1, 1, 1, 1, 1, 1, 0, 0, 0, 0, 0, ...\n",
       "116750  JCP2022_116753  [0, 1, 1, 0, 0, 1, 1, 0, 1, 0, 0, 0, 0, 1, 0, ...\n",
       "\n",
       "[116691 rows x 2 columns]"
      ]
     },
     "execution_count": 88,
     "metadata": {},
     "output_type": "execute_result"
    }
   ],
   "source": [
    "df_pharmacophores.drop(index=md_drop_indices, inplace=True)\n",
    "len(df_pharmacophores)\n",
    "df_pharmacophores\n"
   ]
  },
  {
   "cell_type": "code",
   "execution_count": 93,
   "id": "e3437b46-4166-4a8f-a023-79e076b58051",
   "metadata": {
    "ExecuteTime": {
     "end_time": "2023-05-29T12:00:58.940830Z",
     "start_time": "2023-05-29T12:00:58.796517Z"
    },
    "scrolled": true
   },
   "outputs": [
    {
     "name": "stdout",
     "output_type": "stream",
     "text": [
      "<class 'pandas.core.frame.DataFrame'>\n",
      "Index: 116691 entries, 0 to 116750\n",
      "Data columns (total 2 columns):\n",
      " #   Column            Non-Null Count   Dtype \n",
      "---  ------            --------------   ----- \n",
      " 0   JCP2022           116691 non-null  object\n",
      " 1   pharmacophore_fp  116691 non-null  object\n",
      "dtypes: object(2)\n",
      "memory usage: 2.7+ MB\n"
     ]
    }
   ],
   "source": [
    "df_pharmacophores.info()"
   ]
  },
  {
   "cell_type": "markdown",
   "id": "b43aa14a-7db6-4237-aa3d-eaaf49d34d72",
   "metadata": {},
   "source": [
    "#### `./output/cp_compound_pharmacophores_sparse_clean.pkl`"
   ]
  },
  {
   "cell_type": "code",
   "execution_count": 103,
   "id": "443d28fb-0527-4425-b886-e78d707e45ca",
   "metadata": {
    "ExecuteTime": {
     "end_time": "2023-05-29T12:06:49.034703Z",
     "start_time": "2023-05-29T12:06:48.931902Z"
    }
   },
   "outputs": [
    {
     "name": "stdout",
     "output_type": "stream",
     "text": [
      " compound Pharmacophore Clean Pickle File       : ./output/cp_compound_pharmacophores_sparse_clean.pkl\n"
     ]
    }
   ],
   "source": [
    "print(f\" compound Pharmacophore Clean Pickle File       : {compoundPharmacophoreCleanFile}\")"
   ]
  },
  {
   "cell_type": "code",
   "execution_count": 104,
   "id": "a099d275-932b-468d-9458-7ede70795f30",
   "metadata": {
    "ExecuteTime": {
     "end_time": "2023-05-29T12:06:52.285050Z",
     "start_time": "2023-05-29T12:06:51.620571Z"
    }
   },
   "outputs": [],
   "source": [
    "df_pharmacophores.to_pickle(compoundPharmacophoreCleanFile)"
   ]
  },
  {
   "cell_type": "markdown",
   "id": "4c28a97b-7728-4fa5-8a91-e53ab4161c48",
   "metadata": {
    "heading_collapsed": true,
    "jp-MarkdownHeadingCollapsed": true
   },
   "source": [
    "# Convert Pharmacophore FPs from Sparse BitVector to dense matrix"
   ]
  },
  {
   "cell_type": "code",
   "execution_count": 126,
   "id": "7d53ff67-def7-4496-9949-1e4fd196e36e",
   "metadata": {
    "ExecuteTime": {
     "end_time": "2023-05-29T12:28:32.615186Z",
     "start_time": "2023-05-29T12:28:32.570531Z"
    },
    "hidden": true
   },
   "outputs": [],
   "source": [
    "from utils import fingerprint_to_sparse_matrix"
   ]
  },
  {
   "cell_type": "code",
   "execution_count": 119,
   "id": "b21c470c-01a1-4034-a9f8-cf5bedc9f12b",
   "metadata": {
    "ExecuteTime": {
     "end_time": "2023-05-29T12:27:28.868401Z",
     "start_time": "2023-05-29T12:27:28.733021Z"
    },
    "hidden": true,
    "scrolled": true
   },
   "outputs": [
    {
     "name": "stdout",
     "output_type": "stream",
     "text": [
      " compound Pharmacophore Sparse File       : ./output/cp_compound_pharmacophores_sparse.pkl\n",
      " compound Pharmacophore Sparse Clean File : ./output/cp_compound_pharmacophores_sparse_clean.pkl\n",
      " compound Pharmacophore Dense File        : ./output/cp_compound_pharmacophores_dense.npy\n",
      " compound Pharmacophore Dense Zipped File : ./output/cp_compound_pharmacophores_dense.npz\n"
     ]
    }
   ],
   "source": [
    "print(f\" compound Pharmacophore Sparse File       : {compoundPharmacophoreFile}\")\n",
    "print(f\" compound Pharmacophore Sparse Clean File : {compoundPharmacophoreCleanFile}\")\n",
    "print(f\" compound Pharmacophore Dense File        : {compoundPharmacophoreDenseFile}\")\n",
    "print(f\" compound Pharmacophore Dense Zipped File : {compoundPharmacophoreDenseZipFile}\")"
   ]
  },
  {
   "cell_type": "code",
   "execution_count": 124,
   "id": "dfce9d7a-eb58-40ed-9776-bcb6d2281f14",
   "metadata": {
    "ExecuteTime": {
     "end_time": "2023-05-29T12:28:29.165501Z",
     "start_time": "2023-05-29T12:28:28.042102Z"
    },
    "hidden": true
   },
   "outputs": [],
   "source": [
    "# del df\n",
    "df = pd.read_pickle(compoundPharmacophoreCleanFile)\n"
   ]
  },
  {
   "cell_type": "code",
   "execution_count": 125,
   "id": "5c1cc918-543e-4652-9c94-fb8b31f1cd30",
   "metadata": {
    "ExecuteTime": {
     "end_time": "2023-05-29T12:28:29.295170Z",
     "start_time": "2023-05-29T12:28:29.174014Z"
    },
    "hidden": true
   },
   "outputs": [
    {
     "name": "stdout",
     "output_type": "stream",
     "text": [
      "<class 'pandas.core.frame.DataFrame'>\n",
      "Index: 116691 entries, 0 to 116750\n",
      "Data columns (total 2 columns):\n",
      " #   Column            Non-Null Count   Dtype \n",
      "---  ------            --------------   ----- \n",
      " 0   JCP2022           116691 non-null  object\n",
      " 1   pharmacophore_fp  116691 non-null  object\n",
      "dtypes: object(2)\n",
      "memory usage: 2.7+ MB\n",
      "None\n",
      "          JCP2022                                   pharmacophore_fp\n",
      "0  JCP2022_000001  [0, 1, 1, 1, 1, 1, 1, 1, 1, 1, 0, 0, 1, 1, 0, ...\n",
      "1  JCP2022_000002  [0, 0, 0, 1, 1, 0, 0, 1, 0, 1, 0, 0, 0, 0, 0, ...\n",
      "2  JCP2022_000003  [0, 1, 1, 1, 0, 1, 1, 1, 1, 1, 0, 0, 0, 0, 0, ...\n",
      "3  JCP2022_000004  [1, 1, 1, 0, 0, 1, 0, 1, 0, 0, 0, 0, 0, 1, 0, ...\n",
      "4  JCP2022_000005  [1, 1, 1, 1, 0, 1, 1, 1, 1, 1, 0, 0, 0, 0, 0, ...\n",
      "               JCP2022                                   pharmacophore_fp\n",
      "116746  JCP2022_116749  [0, 1, 1, 1, 1, 1, 1, 1, 1, 1, 0, 0, 0, 1, 0, ...\n",
      "116747  JCP2022_116750  [1, 1, 1, 1, 1, 1, 1, 1, 0, 1, 0, 0, 0, 0, 0, ...\n",
      "116748  JCP2022_116751  [0, 1, 1, 1, 0, 1, 0, 1, 1, 1, 0, 0, 0, 0, 0, ...\n",
      "116749  JCP2022_116752  [1, 1, 1, 1, 1, 1, 1, 1, 1, 1, 0, 0, 0, 0, 0, ...\n",
      "116750  JCP2022_116753  [0, 1, 1, 0, 0, 1, 1, 0, 1, 0, 0, 0, 0, 1, 0, ...\n"
     ]
    },
    {
     "data": {
      "text/plain": [
       "rdkit.DataStructs.cDataStructs.SparseBitVect"
      ]
     },
     "execution_count": 125,
     "metadata": {},
     "output_type": "execute_result"
    },
    {
     "data": {
      "text/plain": [
       "0"
      ]
     },
     "execution_count": 125,
     "metadata": {},
     "output_type": "execute_result"
    },
    {
     "data": {
      "text/html": [
       "<div>\n",
       "<style scoped>\n",
       "    .dataframe tbody tr th:only-of-type {\n",
       "        vertical-align: middle;\n",
       "    }\n",
       "\n",
       "    .dataframe tbody tr th {\n",
       "        vertical-align: top;\n",
       "    }\n",
       "\n",
       "    .dataframe thead th {\n",
       "        text-align: right;\n",
       "    }\n",
       "</style>\n",
       "<table border=\"1\" class=\"dataframe\">\n",
       "  <thead>\n",
       "    <tr style=\"text-align: right;\">\n",
       "      <th></th>\n",
       "      <th>JCP2022</th>\n",
       "      <th>pharmacophore_fp</th>\n",
       "    </tr>\n",
       "  </thead>\n",
       "  <tbody>\n",
       "    <tr>\n",
       "      <th>20</th>\n",
       "      <td>JCP2022_000021</td>\n",
       "      <td>[0, 1, 1, 1, 1, 1, 0, 1, 1, 1, 0, 0, 0, 0, 0, ...</td>\n",
       "    </tr>\n",
       "    <tr>\n",
       "      <th>21</th>\n",
       "      <td>JCP2022_000022</td>\n",
       "      <td>[1, 0, 1, 1, 0, 1, 0, 1, 1, 1, 0, 0, 0, 1, 0, ...</td>\n",
       "    </tr>\n",
       "    <tr>\n",
       "      <th>22</th>\n",
       "      <td>JCP2022_000023</td>\n",
       "      <td>[1, 1, 1, 1, 1, 1, 0, 1, 1, 1, 0, 0, 0, 0, 0, ...</td>\n",
       "    </tr>\n",
       "    <tr>\n",
       "      <th>23</th>\n",
       "      <td>JCP2022_000024</td>\n",
       "      <td>[1, 1, 1, 1, 0, 1, 0, 1, 1, 1, 0, 0, 0, 0, 0, ...</td>\n",
       "    </tr>\n",
       "    <tr>\n",
       "      <th>24</th>\n",
       "      <td>JCP2022_000025</td>\n",
       "      <td>[1, 1, 1, 1, 0, 1, 1, 1, 1, 1, 0, 0, 0, 0, 0, ...</td>\n",
       "    </tr>\n",
       "    <tr>\n",
       "      <th>25</th>\n",
       "      <td>JCP2022_000026</td>\n",
       "      <td>[0, 1, 0, 1, 0, 1, 1, 1, 1, 1, 0, 0, 0, 0, 0, ...</td>\n",
       "    </tr>\n",
       "    <tr>\n",
       "      <th>26</th>\n",
       "      <td>JCP2022_000027</td>\n",
       "      <td>[1, 1, 1, 1, 0, 1, 1, 1, 1, 1, 0, 0, 0, 1, 0, ...</td>\n",
       "    </tr>\n",
       "  </tbody>\n",
       "</table>\n",
       "</div>"
      ],
      "text/plain": [
       "           JCP2022                                   pharmacophore_fp\n",
       "20  JCP2022_000021  [0, 1, 1, 1, 1, 1, 0, 1, 1, 1, 0, 0, 0, 0, 0, ...\n",
       "21  JCP2022_000022  [1, 0, 1, 1, 0, 1, 0, 1, 1, 1, 0, 0, 0, 1, 0, ...\n",
       "22  JCP2022_000023  [1, 1, 1, 1, 1, 1, 0, 1, 1, 1, 0, 0, 0, 0, 0, ...\n",
       "23  JCP2022_000024  [1, 1, 1, 1, 0, 1, 0, 1, 1, 1, 0, 0, 0, 0, 0, ...\n",
       "24  JCP2022_000025  [1, 1, 1, 1, 0, 1, 1, 1, 1, 1, 0, 0, 0, 0, 0, ...\n",
       "25  JCP2022_000026  [0, 1, 0, 1, 0, 1, 1, 1, 1, 1, 0, 0, 0, 0, 0, ...\n",
       "26  JCP2022_000027  [1, 1, 1, 1, 0, 1, 1, 1, 1, 1, 0, 0, 0, 1, 0, ..."
      ]
     },
     "execution_count": 125,
     "metadata": {},
     "output_type": "execute_result"
    }
   ],
   "source": [
    "print(df.info())\n",
    "print(df.head(5))\n",
    "print(df.tail(5))\n",
    "type(df.loc[0].pharmacophore_fp)\n",
    "\n",
    "df_nan = df[df['pharmacophore_fp'].isna()]\n",
    "len(df_nan)\n",
    "\n",
    "df.loc[20:26]"
   ]
  },
  {
   "cell_type": "code",
   "execution_count": 127,
   "id": "b29afe9b-be31-4cf7-b79d-c4303ec2b601",
   "metadata": {
    "ExecuteTime": {
     "end_time": "2023-05-29T12:29:24.555236Z",
     "start_time": "2023-05-29T12:28:34.249451Z"
    },
    "hidden": true
   },
   "outputs": [
    {
     "name": "stdout",
     "output_type": "stream",
     "text": [
      " 14:28:34.264161 | from 0 to 10000\n",
      " 14:28:38.758338 | shape of dense matrix is : (10000, 1032)\n",
      " 14:28:38.758464 | from 10000 to 20000\n",
      " 14:28:43.159142 | shape of dense matrix is : (20000, 1032)\n",
      " 14:28:43.159263 | from 20000 to 30000\n",
      " 14:28:47.518087 | shape of dense matrix is : (30000, 1032)\n",
      " 14:28:47.518227 | from 30000 to 40000\n",
      " 14:28:51.880139 | shape of dense matrix is : (40000, 1032)\n",
      " 14:28:51.880281 | from 40000 to 50000\n",
      " 14:28:56.265560 | shape of dense matrix is : (50000, 1032)\n",
      " 14:28:56.265689 | from 50000 to 60000\n",
      " 14:29:00.725288 | shape of dense matrix is : (60000, 1032)\n",
      " 14:29:00.725419 | from 60000 to 70000\n",
      " 14:29:05.104887 | shape of dense matrix is : (70000, 1032)\n",
      " 14:29:05.105023 | from 70000 to 80000\n",
      " 14:29:09.425635 | shape of dense matrix is : (80000, 1032)\n",
      " 14:29:09.425769 | from 80000 to 90000\n",
      " 14:29:13.763285 | shape of dense matrix is : (90000, 1032)\n",
      " 14:29:13.763413 | from 90000 to 100000\n",
      " 14:29:18.142645 | shape of dense matrix is : (100000, 1032)\n",
      " 14:29:18.142775 | from 100000 to 110000\n",
      " 14:29:22.491290 | shape of dense matrix is : (110000, 1032)\n",
      " 14:29:22.491421 | from 110000 to 120000\n",
      " 14:29:24.523294 | shape of dense matrix is : (116691, 1032)\n"
     ]
    }
   ],
   "source": [
    "start, end  = 0, 0 \n",
    "\n",
    "for i in range(0, 12, 1):\n",
    "    start = 10000 * i \n",
    "    end   +=10000\n",
    "    print(f\" {datetime.now().strftime('%X.%f')} | from {start} to {end}\")\n",
    "    csr_out, output_out = fingerprint_to_sparse_matrix(df, start, end, ncols=1032)\n",
    "    if i == 0:\n",
    "        dense_mat = csr_out.todense();\n",
    "    else :\n",
    "        dense_mat = np.concatenate([dense_mat, csr_out.todense()]);\n",
    "    print(f\" {datetime.now().strftime('%X.%f')} | shape of dense matrix is : {dense_mat.shape}\" )"
   ]
  },
  {
   "cell_type": "code",
   "execution_count": 128,
   "id": "2e45155c-835f-405a-ab64-a09234b4b337",
   "metadata": {
    "ExecuteTime": {
     "end_time": "2023-05-29T12:32:27.308848Z",
     "start_time": "2023-05-29T12:32:27.173981Z"
    },
    "hidden": true
   },
   "outputs": [
    {
     "name": "stdout",
     "output_type": "stream",
     "text": [
      " Dense matrix - shape: (116691, 1032)  type:  <class 'numpy.matrix'>\n"
     ]
    }
   ],
   "source": [
    "print(f\" Dense matrix - shape: {dense_mat.shape}  type:  {type(dense_mat)}\")\n",
    "# del dense_mat,csr_out,csr_matrix"
   ]
  },
  {
   "cell_type": "code",
   "execution_count": 129,
   "id": "1db21a60-aece-4069-81d6-74a3b48aee7e",
   "metadata": {
    "ExecuteTime": {
     "end_time": "2023-05-29T12:32:31.323822Z",
     "start_time": "2023-05-29T12:32:31.297596Z"
    },
    "hidden": true
   },
   "outputs": [
    {
     "name": "stdout",
     "output_type": "stream",
     "text": [
      " compound Pharmacophore Dense File : ./output/cp_compound_pharmacophores_dense.npy\n",
      " compound Pharmacophore Dense Zipped File : ./output/cp_compound_pharmacophores_dense.npz\n"
     ]
    }
   ],
   "source": [
    "print(f\" compound Pharmacophore Dense File : {compoundPharmacophoreDenseFile}\")\n",
    "print(f\" compound Pharmacophore Dense Zipped File : {compoundPharmacophoreDenseZipFile}\")"
   ]
  },
  {
   "cell_type": "code",
   "execution_count": 130,
   "id": "810d3f8d-b13a-4d3e-84cb-bbfd54f2288a",
   "metadata": {
    "ExecuteTime": {
     "end_time": "2023-05-29T12:32:50.866992Z",
     "start_time": "2023-05-29T12:32:50.732706Z"
    },
    "hidden": true
   },
   "outputs": [],
   "source": [
    "# np.save(compoundPharmacophoreDenseFile, dense_mat)"
   ]
  },
  {
   "cell_type": "code",
   "execution_count": 131,
   "id": "9e0d8ee6-76a7-419b-8f4c-d62152eb279e",
   "metadata": {
    "ExecuteTime": {
     "end_time": "2023-05-29T12:32:54.185283Z",
     "start_time": "2023-05-29T12:32:51.717157Z"
    },
    "hidden": true
   },
   "outputs": [],
   "source": [
    "np.savez_compressed(compoundPharmacophoreDenseZipFile, dense_mat = dense_mat)"
   ]
  },
  {
   "cell_type": "markdown",
   "id": "d806839e-85a1-47ba-a6b4-edd6bf1392f7",
   "metadata": {
    "hidden": true
   },
   "source": [
    "### Test zipped dense matrix"
   ]
  },
  {
   "cell_type": "code",
   "execution_count": 132,
   "id": "64388288-b8cc-4fe7-830c-95ba41f06106",
   "metadata": {
    "ExecuteTime": {
     "end_time": "2023-05-29T12:32:55.195377Z",
     "start_time": "2023-05-29T12:32:54.866533Z"
    },
    "hidden": true
   },
   "outputs": [
    {
     "name": "stdout",
     "output_type": "stream",
     "text": [
      "True\n"
     ]
    }
   ],
   "source": [
    "loaded = np.load(compoundPharmacophoreDenseZipFile)\n",
    "print(np.array_equal(dense_mat, loaded['dense_mat']))"
   ]
  },
  {
   "cell_type": "code",
   "execution_count": 133,
   "id": "625572dc-494f-4402-852e-2db153c8bea6",
   "metadata": {
    "ExecuteTime": {
     "end_time": "2023-05-29T12:32:55.845334Z",
     "start_time": "2023-05-29T12:32:55.427130Z"
    },
    "hidden": true
   },
   "outputs": [
    {
     "data": {
      "text/plain": [
       "(numpy.ndarray, (116691, 1032))"
      ]
     },
     "execution_count": 133,
     "metadata": {},
     "output_type": "execute_result"
    }
   ],
   "source": [
    "# print(output_out)\n",
    "type(loaded['dense_mat']), loaded['dense_mat'].shape\n",
    "# loaded['dense_mat']"
   ]
  },
  {
   "cell_type": "code",
   "execution_count": 134,
   "id": "5fc32a58-faa8-470f-9c06-2cd72e2f680d",
   "metadata": {
    "ExecuteTime": {
     "end_time": "2023-05-29T12:33:06.235383Z",
     "start_time": "2023-05-29T12:33:06.109232Z"
    },
    "hidden": true
   },
   "outputs": [],
   "source": [
    "del loaded"
   ]
  },
  {
   "cell_type": "code",
   "execution_count": null,
   "id": "3dea233b-4996-443b-bae2-f00214ee588d",
   "metadata": {
    "hidden": true
   },
   "outputs": [],
   "source": []
  },
  {
   "cell_type": "code",
   "execution_count": null,
   "id": "bb91d0fe-36eb-45d3-84c3-32537bd0fe59",
   "metadata": {},
   "outputs": [],
   "source": []
  }
 ],
 "metadata": {
  "kernelspec": {
   "display_name": "Python [conda env:cp]",
   "language": "python",
   "name": "conda-env-cp-py"
  },
  "toc": {
   "base_numbering": 1,
   "nav_menu": {},
   "number_sections": true,
   "sideBar": true,
   "skip_h1_title": false,
   "title_cell": "Table of Contents",
   "title_sidebar": "Contents",
   "toc_cell": false,
   "toc_position": {},
   "toc_section_display": true,
   "toc_window_display": false
  }
 },
 "nbformat": 4,
 "nbformat_minor": 5
}
