{
 "cells": [
  {
   "cell_type": "markdown",
   "id": "418c282c-2b25-4f32-96cf-883b40b84c36",
   "metadata": {
    "editable": true,
    "slideshow": {
     "slide_type": ""
    },
    "tags": []
   },
   "source": [
    "  # Apply encoder to morphological profiles to get latent space representations :"
   ]
  },
  {
   "cell_type": "markdown",
   "id": "14da93a6-653f-4a55-9b3a-e72ab79a1121",
   "metadata": {},
   "source": [
    "# Setup"
   ]
  },
  {
   "cell_type": "code",
   "execution_count": 1,
   "id": "a104a277-3ad3-438a-b706-d4499f709f89",
   "metadata": {
    "ExecuteTime": {
     "end_time": "2023-04-12T10:29:16.111588Z",
     "start_time": "2023-04-12T10:29:15.764305Z"
    },
    "editable": true,
    "execution": {
     "iopub.execute_input": "2024-10-02T18:40:00.063924Z",
     "iopub.status.busy": "2024-10-02T18:40:00.063450Z",
     "iopub.status.idle": "2024-10-02T18:40:00.089774Z",
     "shell.execute_reply": "2024-10-02T18:40:00.089116Z",
     "shell.execute_reply.started": "2024-10-02T18:40:00.063882Z"
    },
    "slideshow": {
     "slide_type": ""
    },
    "tags": []
   },
   "outputs": [
    {
     "data": {
      "text/html": [
       "<style>.container { width:98% !important; }</style>"
      ],
      "text/plain": [
       "<IPython.core.display.HTML object>"
      ]
     },
     "metadata": {},
     "output_type": "display_data"
    }
   ],
   "source": [
    "%load_ext autoreload  \n",
    "%autoreload 2\n",
    "from IPython.display import display, HTML, Image\n",
    "from IPython.core.interactiveshell import InteractiveShell\n",
    "display(HTML(\"<style>.container { width:98% !important; }</style>\"))\n",
    "InteractiveShell.ast_node_interactivity = \"all\""
   ]
  },
  {
   "cell_type": "code",
   "execution_count": 2,
   "id": "7478f60a-2ea2-4407-bd91-f068349f222b",
   "metadata": {
    "ExecuteTime": {
     "end_time": "2023-04-12T10:29:16.111588Z",
     "start_time": "2023-04-12T10:29:15.764305Z"
    },
    "editable": true,
    "execution": {
     "iopub.execute_input": "2024-10-02T18:40:00.274045Z",
     "iopub.status.busy": "2024-10-02T18:40:00.273610Z",
     "iopub.status.idle": "2024-10-02T18:40:03.159001Z",
     "shell.execute_reply": "2024-10-02T18:40:03.157996Z",
     "shell.execute_reply.started": "2024-10-02T18:40:00.273999Z"
    },
    "slideshow": {
     "slide_type": ""
    },
    "tags": []
   },
   "outputs": [
    {
     "name": "stdout",
     "output_type": "stream",
     "text": [
      "insert ./src\n",
      "insert ../pt-snnl\n",
      "insert ../..\n",
      "['../..', '../pt-snnl', './src', '/home/kevin/WSL-shared/cellpainting/cj-datasets', '/home/kevin/miniforge3/envs/cp311/lib/python311.zip', '/home/kevin/miniforge3/envs/cp311/lib/python3.11', '/home/kevin/miniforge3/envs/cp311/lib/python3.11/lib-dynload', '', '/home/kevin/miniforge3/envs/cp311/lib/python3.11/site-packages', '/home/kevin/miniforge3/envs/cp311/lib/python3.11/site-packages/huggingface_hub-0.20.3-py3.8.egg']\n"
     ]
    },
    {
     "data": {
      "text/plain": [
       "<torch._C.Generator at 0x7f82131d3f10>"
      ]
     },
     "execution_count": 2,
     "metadata": {},
     "output_type": "execute_result"
    },
    {
     "data": {
      "text/plain": [
       "4"
      ]
     },
     "execution_count": 2,
     "metadata": {},
     "output_type": "execute_result"
    }
   ],
   "source": [
    "import os\n",
    "import sys\n",
    "import random\n",
    "from typing import List, Tuple\n",
    "from types import SimpleNamespace\n",
    "from functools import partial\n",
    "import pprint\n",
    "import logging\n",
    "from datetime import datetime\n",
    "for p in ['./src','../pt-snnl','../..']:\n",
    "    if p not in sys.path:\n",
    "        print(f\"insert {p}\")\n",
    "        sys.path.insert(0, p)\n",
    "print(sys.path)\n",
    "\n",
    "import tqdm\n",
    "import numpy as np\n",
    "import matplotlib.pyplot as plt\n",
    "import seaborn as sb\n",
    "import pandas as pd\n",
    "\n",
    "import scipy\n",
    "import scipy.stats as sps\n",
    "import sklearn.metrics as skm\n",
    "from scipy.spatial.distance import pdist, squareform, euclidean\n",
    "\n",
    "import torch\n",
    "import torch.nn as nn\n",
    "import torch.nn.functional as F\n",
    "import matplotlib.pyplot as plt  # for making figures\n",
    "from torchinfo import summary\n",
    "\n",
    "torch.set_printoptions(precision=None, threshold=None, edgeitems=None, linewidth=180, profile=None, sci_mode=None)\n",
    "torch.manual_seed(42);   # seed rng for reproducibility\n",
    "pp = pprint.PrettyPrinter(indent=4)\n",
    "pd.options.display.width = 132\n",
    "np.set_printoptions(edgeitems=3, infstr='inf', linewidth=150, nanstr='nan')\n",
    "\n",
    "os.environ[\"WANDB_NOTEBOOK_NAME\"] = \"AE-MAIN-SNNL.ipynb\"\n",
    "# os.environ[\"CUDA_LAUNCH_BLOCKING\"] = \"1\"\n",
    "os.environ[\"CUDA_VISIBLE_DEVICES\"] = \"0,1,2\"\n",
    "\n",
    "torch.set_num_threads(4)  ## <--- limit to ~ 2 CPUs\n",
    "torch.get_num_threads()"
   ]
  },
  {
   "cell_type": "code",
   "execution_count": 3,
   "id": "b939a031-286c-430c-890d-946ea497d8e3",
   "metadata": {
    "editable": true,
    "execution": {
     "iopub.execute_input": "2024-10-02T18:40:03.160811Z",
     "iopub.status.busy": "2024-10-02T18:40:03.160408Z",
     "iopub.status.idle": "2024-10-02T18:40:05.226256Z",
     "shell.execute_reply": "2024-10-02T18:40:05.225267Z",
     "shell.execute_reply.started": "2024-10-02T18:40:03.160787Z"
    },
    "slideshow": {
     "slide_type": ""
    },
    "tags": []
   },
   "outputs": [
    {
     "name": "stderr",
     "output_type": "stream",
     "text": [
      "/home/kevin/miniforge3/envs/cp311/lib/python3.11/site-packages/dask/dataframe/_pyarrow_compat.py:17: FutureWarning: Minimal version of pyarrow will soon be increased to 14.0.1. You are using 11.0.0. Please consider upgrading.\n",
      "  warnings.warn(\n"
     ]
    }
   ],
   "source": [
    "# from KevinsRoutines.utils.utils_general import list_namespace, save_to_pickle, load_from_pickle, get_device\n",
    "import KevinsRoutines.utils as myutils\n",
    "# import snnl.utils as utils\n",
    "# from utils.utils_ptsnnl import display_cellpainting_batch, get_device\n",
    "from utils.utils_cellpainting import label_counts, balance_datasets,save_checkpoint, load_checkpoint\n",
    "from utils.dataloader import custom_collate_fn, dynamic_collate_fn, CellpaintingDataset, InfiniteDataLoader\n",
    "from utils.utils_notebooks import plot_cls_metrics, compute_classification_metrics, run_model_on_test_data,\\\n",
    "                                train, validation, accuracy_fn, fit, build_model, define_datasets"
   ]
  },
  {
   "cell_type": "code",
   "execution_count": 4,
   "id": "c12352c5-443c-414b-bb2b-6ea5ba801515",
   "metadata": {
    "editable": true,
    "execution": {
     "iopub.execute_input": "2024-10-02T18:40:05.227466Z",
     "iopub.status.busy": "2024-10-02T18:40:05.227258Z",
     "iopub.status.idle": "2024-10-02T18:40:05.268682Z",
     "shell.execute_reply": "2024-10-02T18:40:05.267730Z",
     "shell.execute_reply.started": "2024-10-02T18:40:05.227444Z"
    },
    "scrolled": true,
    "slideshow": {
     "slide_type": ""
    },
    "tags": []
   },
   "outputs": [
    {
     "name": "stderr",
     "output_type": "stream",
     "text": [
      "2024-10-02 20:40:05,261 - __main__ - INFO: -  Excution started : 2024_10_02_20:40:05 \n",
      "2024-10-02 20:40:05,262 - __main__ - INFO: -  Pytorch version  : 2.2.0\n",
      "2024-10-02 20:40:05,263 - __main__ - INFO: -  Scipy version    : 1.11.4  \t\t Numpy version : 1.26.2\n",
      "2024-10-02 20:40:05,264 - __main__ - INFO: -  Pandas version   : 2.2.0  \n"
     ]
    }
   ],
   "source": [
    "timestamp = datetime.now().strftime('%Y_%m_%d_%H:%M:%S')\n",
    "logger = logging.getLogger(__name__)\n",
    "logLevel = os.environ.get('LOG_LEVEL', 'INFO').upper()\n",
    "FORMAT = '%(asctime)s - %(name)s - %(levelname)s: - %(message)s'\n",
    "logging.basicConfig(level=\"INFO\", format= FORMAT)\n",
    "logger.info(f\" Excution started : {timestamp} \")\n",
    "logger.info(f\" Pytorch version  : {torch.__version__}\")\n",
    "logger.info(f\" Scipy version    : {scipy.__version__}  \\t\\t Numpy version : {np.__version__}\")\n",
    "logger.info(f\" Pandas version   : {pd.__version__}  \")"
   ]
  },
  {
   "cell_type": "code",
   "execution_count": 5,
   "id": "78dd68d4-cabf-4b8b-ba9f-82fbda15fc4c",
   "metadata": {
    "ExecuteTime": {
     "end_time": "2023-07-31T18:45:10.550334Z",
     "start_time": "2023-07-31T18:45:07.868769Z"
    },
    "execution": {
     "iopub.execute_input": "2024-10-02T18:40:05.270219Z",
     "iopub.status.busy": "2024-10-02T18:40:05.270014Z",
     "iopub.status.idle": "2024-10-02T18:40:05.336784Z",
     "shell.execute_reply": "2024-10-02T18:40:05.335869Z",
     "shell.execute_reply.started": "2024-10-02T18:40:05.270197Z"
    }
   },
   "outputs": [],
   "source": [
    "try:\n",
    "    del model\n",
    "except Exception as e:\n",
    "    pass"
   ]
  },
  {
   "cell_type": "code",
   "execution_count": 6,
   "id": "c48065ef-8765-4b2f-a448-3d0d0dbf3609",
   "metadata": {
    "execution": {
     "iopub.execute_input": "2024-10-02T18:40:07.823132Z",
     "iopub.status.busy": "2024-10-02T18:40:07.822591Z",
     "iopub.status.idle": "2024-10-02T18:40:08.659177Z",
     "shell.execute_reply": "2024-10-02T18:40:08.658416Z",
     "shell.execute_reply.started": "2024-10-02T18:40:07.823087Z"
    }
   },
   "outputs": [
    {
     "name": "stdout",
     "output_type": "stream",
     "text": [
      " Switched to: \"cuda:1\"   Device Name: Quadro GV100                  \n"
     ]
    },
    {
     "data": {
      "text/plain": [
       "'cuda:1'"
      ]
     },
     "execution_count": 6,
     "metadata": {},
     "output_type": "execute_result"
    },
    {
     "name": "stdout",
     "output_type": "stream",
     "text": [
      "Dev Id   Device Name                    Total Memory                     InUse                            Free Memory \n",
      "   0     Quadro GV100                   34,069,872,640 B/ (31.73 GB)  \t 645,922,816 B / (0.60 GB)  \t 33,423,949,824 B / (31.13 GB)  \n",
      "   1     Quadro GV100                   34,069,872,640 B/ (31.73 GB)  \t 1,220,542,464 B / (1.14 GB)  \t 32,849,330,176 B / (30.59 GB)   *** CURRENT DEVICE *** \n",
      "   2     NVIDIA TITAN Xp                12,774,539,264 B/ (11.90 GB)  \t 543,293,440 B / (0.51 GB)  \t 12,231,245,824 B / (11.39 GB)  \n",
      "\n",
      " Current CUDA Device is:  \"cuda:1\"  Device Name: Quadro GV100\n",
      "cuda:1\n"
     ]
    }
   ],
   "source": [
    "myutils.set_device(1)\n",
    "device  = myutils.get_device(verbose = True)\n",
    "print(device)"
   ]
  },
  {
   "cell_type": "markdown",
   "id": "2953c069-cf3f-46b9-94e5-741525cf4232",
   "metadata": {},
   "source": [
    "# Args "
   ]
  },
  {
   "cell_type": "code",
   "execution_count": 7,
   "id": "aa4219af-8769-45f3-8b9f-23cff8e5eb6c",
   "metadata": {
    "editable": true,
    "execution": {
     "iopub.execute_input": "2024-10-02T18:40:21.070951Z",
     "iopub.status.busy": "2024-10-02T18:40:21.070421Z",
     "iopub.status.idle": "2024-10-02T18:40:21.136559Z",
     "shell.execute_reply": "2024-10-02T18:40:21.135816Z",
     "shell.execute_reply.started": "2024-10-02T18:40:21.070912Z"
    },
    "slideshow": {
     "slide_type": ""
    },
    "tags": []
   },
   "outputs": [
    {
     "name": "stdout",
     "output_type": "stream",
     "text": [
      "11\n",
      "161\n"
     ]
    }
   ],
   "source": [
    "LATENT_DIM    = 150\n",
    "COMPOUNDS_PER_BATCH = 600\n",
    "\n",
    "MODEL_TYPE = 'batch_norm'\n",
    "# MODEL_TYPE = 'single_layer'\n",
    "# MODEL_TYPE = 'relu'\n",
    "n_input    = LATENT_DIM  # the embedding dimensionality \n",
    "\n",
    "n_hidden_1 = 512  # the number of neurons in the hidden layer of the MLP\n",
    "n_hidden_2 = 512  # the number of neurons in the hidden layer of the MLP\n",
    "n_hidden_3 = 128\n",
    "\n",
    "METADATA_COLS = ['Metadata_Source', 'Metadata_Batch', 'Metadata_Plate', 'Metadata_Well', 'Metadata_JCP2022', 'Metadata_Hash', 'Metadata_Bin', 'Metadata_TPSA', 'Metadata_lnTPSA', 'Metadata_log10TPSA', 'Metadata_Permiation']\n",
    "# METADATA_COLS += [f'Feature_{x:03d}' for x in range(LATENT_DIM)]\n",
    "input_cols = LATENT_DIM + len(METADATA_COLS)\n",
    "print(len(METADATA_COLS))\n",
    "print(input_cols)\n",
    "\n",
    "\n",
    "INPUT_PATH = f\"/home/kevin/WSL-shared/cellpainting/cj-datasets/output_11102023/3_sample_embeddings/\"\n",
    "CKPT_PATH = \"./saved_models/embedding_models\""
   ]
  },
  {
   "cell_type": "code",
   "execution_count": 8,
   "id": "eda1f6ea-e344-4b74-966e-19afbe6f15e2",
   "metadata": {
    "execution": {
     "iopub.execute_input": "2024-10-02T18:40:23.615850Z",
     "iopub.status.busy": "2024-10-02T18:40:23.615340Z",
     "iopub.status.idle": "2024-10-02T18:40:23.658147Z",
     "shell.execute_reply": "2024-10-02T18:40:23.657283Z",
     "shell.execute_reply.started": "2024-10-02T18:40:23.615804Z"
    }
   },
   "outputs": [
    {
     "name": "stdout",
     "output_type": "stream",
     "text": [
      "20241002_2000\n"
     ]
    }
   ],
   "source": [
    "# RUN_DATETIME = datetime.now().strftime('%Y%m%d_%H%M')\n",
    "\n",
    "# RUN_DATETIME = '20240926_1900'   ## Baseline CPB 600, Latent 150  - Single layer 256\n",
    "# RUN_DATETIME = '20240927_2300'   ## Baseline CPB 600, Latent 150  - Single layer 512\n",
    "# RUN_DATETIME = '20240929_2000'   ## Baseline CPB 600, Latent 150  - Batch Norm 256/256/128\n",
    "# RUN_DATETIME = '20240929_1900'   ## Baseline CPB 600, Latent 150  - Batch Norm 512/512/128\n",
    "\n",
    "# RUN_DATETIME = '20240930_2100'   ## Baseline CPB 600, Latent 250  - Balanced TPSA labels - Batch Norm 256/256/128\n",
    "# RUN_DATETIME = '20241001_2100'   ## Baseline CPB 600, Latent 250  - Balanced TPSA labels - Batch Norm 512/512/256\n",
    "\n",
    "# RUN_DATETIME = '20241002_1915'   ## Baseline CPB 600, Latent 150  - Single layer 256\n",
    "# RUN_DATETIME = '20241002_1930'   ## Baseline CPB 600, Latent 150  - Single layer 512\n",
    "# RUN_DATETIME = '20241002_1945'   ## Baseline CPB 600, Latent 150  - Batch Norm 256/256/128\n",
    "# RUN_DATETIME = '20241002_2000'   ## Baseline CPB 600, Latent 150  - Batch Norm 512/512/128\n",
    "\n",
    "RUN_DATETIME = '20241002_2000'   ## Baseline CPB 600, Latent 150  - Batch Norm 512/512/128\n",
    "\n",
    "print(RUN_DATETIME)"
   ]
  },
  {
   "cell_type": "code",
   "execution_count": 9,
   "id": "d9f50920-9384-4d93-8ea4-40379f898aa8",
   "metadata": {
    "editable": true,
    "execution": {
     "iopub.execute_input": "2024-10-02T18:40:24.303235Z",
     "iopub.status.busy": "2024-10-02T18:40:24.302817Z",
     "iopub.status.idle": "2024-10-02T18:40:24.345315Z",
     "shell.execute_reply": "2024-10-02T18:40:24.344603Z",
     "shell.execute_reply.started": "2024-10-02T18:40:24.303201Z"
    },
    "slideshow": {
     "slide_type": ""
    },
    "tags": []
   },
   "outputs": [],
   "source": [
    "# SNNL AUTOENCODERS \n",
    "# AE_RUNMODE = \"snnl\"\n",
    "# AE_DATETIME = \"20240718_1956\"\n",
    "# AE_DATETIME = \"20240906_2201\"     # Autoencoder training - SNNL, CPB = 600, Latent 150, WD = 0.001, SNN Factor 3\n",
    "# AE_DATETIME = \"20240917_2004\"     # Autoencoder training - SNNL, CPB = 600, Latent 250, WD = 0.001, SNN Factor 3\n",
    "\n",
    "## BASELINE AUTOENCODERS \n",
    "AE_RUNMODE = 'base'\n",
    "AE_DATETIME = \"20240923_1943\"     # Autoencoder training - Baseline, CPB = 600, Latent 150, WD = 0.001 (SNN Factor 0)\n",
    "# AE_DATETIME = \"20240917_2017\"     # Autoencoder training - Baseline, CPB = 600, Latent 250, WD = 0.001 (SNN Factor 0)\n",
    "\n",
    "AE_CKPTTYPE = \"BEST\"\n",
    "# AE_CKPTTYPE = \"LAST\""
   ]
  },
  {
   "cell_type": "code",
   "execution_count": 10,
   "id": "d6a64a90-897f-4148-9618-d6f02fc40aaa",
   "metadata": {
    "execution": {
     "iopub.execute_input": "2024-10-02T18:40:26.197412Z",
     "iopub.status.busy": "2024-10-02T18:40:26.197002Z",
     "iopub.status.idle": "2024-10-02T18:40:26.237873Z",
     "shell.execute_reply": "2024-10-02T18:40:26.236791Z",
     "shell.execute_reply.started": "2024-10-02T18:40:26.197379Z"
    }
   },
   "outputs": [
    {
     "name": "stdout",
     "output_type": "stream",
     "text": [
      "NN_base_embd600_150Ltnt_512_20240923_1943_BEST_20241002_2000_ep_{ep}\n"
     ]
    }
   ],
   "source": [
    "CKPT_FILE = f\"NN_{AE_RUNMODE.lower()}_embd600_{LATENT_DIM}Ltnt_512_{AE_DATETIME}_{AE_CKPTTYPE}_{RUN_DATETIME}_ep_{{ep}}\"\n",
    "print(CKPT_FILE)"
   ]
  },
  {
   "cell_type": "code",
   "execution_count": 11,
   "id": "10caf953-60e3-4c04-b096-4ae6240b6a27",
   "metadata": {
    "execution": {
     "iopub.execute_input": "2024-10-02T18:40:26.655263Z",
     "iopub.status.busy": "2024-10-02T18:40:26.654819Z",
     "iopub.status.idle": "2024-10-02T18:40:26.722031Z",
     "shell.execute_reply": "2024-10-02T18:40:26.721199Z",
     "shell.execute_reply.started": "2024-10-02T18:40:26.655229Z"
    }
   },
   "outputs": [],
   "source": [
    "## total rows = 346,542\n",
    "## Trn file sz: 312,000 \n",
    "## Train      : 277,200    (312_000 - (21,600 + 12,600 + 600) = 277,200\n",
    "## Validation :  21,600\n",
    "## Test       :  12,600\n",
    "## Leftover   :     600\n",
    "cellpainting_args = {'compounds_per_batch': COMPOUNDS_PER_BATCH,\n",
    "                     'train_start'        : 0,\n",
    "                     'train_end'          : 277_200,\n",
    "                     'val_start'          : 0,\n",
    "                     'val_end'            : 21_600,\n",
    "                     'test_start'         : 0,\n",
    "                     'test_end'           : 12_600,\n",
    "                     'tpsa_threshold'     : 100\n",
    "                    }"
   ]
  },
  {
   "cell_type": "code",
   "execution_count": 12,
   "id": "7ef5adfe-2daa-4f35-a263-66bf0c97efa6",
   "metadata": {
    "execution": {
     "iopub.execute_input": "2024-10-02T18:40:27.015946Z",
     "iopub.status.busy": "2024-10-02T18:40:27.015617Z",
     "iopub.status.idle": "2024-10-02T18:40:27.089818Z",
     "shell.execute_reply": "2024-10-02T18:40:27.089018Z",
     "shell.execute_reply.started": "2024-10-02T18:40:27.015923Z"
    }
   },
   "outputs": [
    {
     "name": "stderr",
     "output_type": "stream",
     "text": [
      "2024-10-02 20:40:27,051 - utils.dataloader - INFO: -  Building CellPantingDataset for train\n",
      "2024-10-02 20:40:27,052 - utils.dataloader - INFO: -  filename:  /home/kevin/WSL-shared/cellpainting/cj-datasets/output_11102023/3_sample_embeddings/3smpl_prfl_embedding_161_HashOrder_base_20240923_1943_BEST_train.csv\n",
      "2024-10-02 20:40:27,053 - utils.dataloader - INFO: -  type    :  train\n",
      "2024-10-02 20:40:27,055 - utils.dataloader - INFO: -  start   :  0\n",
      "2024-10-02 20:40:27,056 - utils.dataloader - INFO: -  end     :  277200\n",
      "2024-10-02 20:40:27,057 - utils.dataloader - INFO: -  numrows :  277200\n",
      "2024-10-02 20:40:27,057 - utils.dataloader - INFO: -  names   :  None     usecols :  None\n",
      "2024-10-02 20:40:27,058 - utils.dataloader - INFO: -  batch_size  :  1\n",
      "2024-10-02 20:40:27,059 - utils.dataloader - INFO: -  sample_size :  3\n",
      "2024-10-02 20:40:27,060 - utils.dataloader - INFO: -  compounds_per_batch :  600\n",
      "2024-10-02 20:40:27,061 - utils.dataloader - INFO: -  rows per batch (chunksize) :  1800\n",
      "2024-10-02 20:40:27,062 - utils.dataloader - INFO: -  TPSA threshold :  100\n",
      "2024-10-02 20:40:27,063 - utils.dataloader - INFO: -  Each mini-batch contains 600.0 compounds with 3 samples per compound : total 1800 rows\n",
      "2024-10-02 20:40:27,063 - utils.dataloader - INFO: -  Number of 1800 row full size batches per epoch: 154\n",
      "2024-10-02 20:40:27,064 - utils.dataloader - INFO: -  Rows covered by 154 full size batches (1800 rows) per epoch:  277200\n",
      "2024-10-02 20:40:27,065 - utils.dataloader - INFO: -  Last partial batch contains : 0 rows\n",
      "2024-10-02 20:40:27,065 - utils.dataloader - INFO: -  \n",
      "2024-10-02 20:40:27,067 - utils.dataloader - INFO: -  Building CellPantingDataset for val\n",
      "2024-10-02 20:40:27,068 - utils.dataloader - INFO: -  filename:  /home/kevin/WSL-shared/cellpainting/cj-datasets/output_11102023/3_sample_embeddings/3smpl_prfl_embedding_161_HashOrder_base_20240923_1943_BEST_train_sub_val.csv\n",
      "2024-10-02 20:40:27,069 - utils.dataloader - INFO: -  type    :  val\n",
      "2024-10-02 20:40:27,069 - utils.dataloader - INFO: -  start   :  0\n",
      "2024-10-02 20:40:27,070 - utils.dataloader - INFO: -  end     :  21600\n",
      "2024-10-02 20:40:27,070 - utils.dataloader - INFO: -  numrows :  21600\n",
      "2024-10-02 20:40:27,071 - utils.dataloader - INFO: -  names   :  None     usecols :  None\n",
      "2024-10-02 20:40:27,071 - utils.dataloader - INFO: -  batch_size  :  1\n",
      "2024-10-02 20:40:27,072 - utils.dataloader - INFO: -  sample_size :  3\n",
      "2024-10-02 20:40:27,072 - utils.dataloader - INFO: -  compounds_per_batch :  600\n",
      "2024-10-02 20:40:27,073 - utils.dataloader - INFO: -  rows per batch (chunksize) :  1800\n",
      "2024-10-02 20:40:27,073 - utils.dataloader - INFO: -  TPSA threshold :  100\n",
      "2024-10-02 20:40:27,073 - utils.dataloader - INFO: -  Each mini-batch contains 600.0 compounds with 3 samples per compound : total 1800 rows\n",
      "2024-10-02 20:40:27,074 - utils.dataloader - INFO: -  Number of 1800 row full size batches per epoch: 12\n",
      "2024-10-02 20:40:27,074 - utils.dataloader - INFO: -  Rows covered by 12 full size batches (1800 rows) per epoch:  21600\n",
      "2024-10-02 20:40:27,075 - utils.dataloader - INFO: -  Last partial batch contains : 0 rows\n",
      "2024-10-02 20:40:27,075 - utils.dataloader - INFO: -  \n",
      "2024-10-02 20:40:27,076 - utils.dataloader - INFO: -  Building CellPantingDataset for test\n",
      "2024-10-02 20:40:27,076 - utils.dataloader - INFO: -  filename:  /home/kevin/WSL-shared/cellpainting/cj-datasets/output_11102023/3_sample_embeddings/3smpl_prfl_embedding_161_HashOrder_base_20240923_1943_BEST_train_sub_test.csv\n",
      "2024-10-02 20:40:27,077 - utils.dataloader - INFO: -  type    :  test\n",
      "2024-10-02 20:40:27,077 - utils.dataloader - INFO: -  start   :  0\n",
      "2024-10-02 20:40:27,078 - utils.dataloader - INFO: -  end     :  12600\n",
      "2024-10-02 20:40:27,078 - utils.dataloader - INFO: -  numrows :  12600\n",
      "2024-10-02 20:40:27,079 - utils.dataloader - INFO: -  names   :  None     usecols :  None\n",
      "2024-10-02 20:40:27,079 - utils.dataloader - INFO: -  batch_size  :  1\n",
      "2024-10-02 20:40:27,079 - utils.dataloader - INFO: -  sample_size :  3\n",
      "2024-10-02 20:40:27,080 - utils.dataloader - INFO: -  compounds_per_batch :  600\n",
      "2024-10-02 20:40:27,080 - utils.dataloader - INFO: -  rows per batch (chunksize) :  1800\n",
      "2024-10-02 20:40:27,081 - utils.dataloader - INFO: -  TPSA threshold :  100\n",
      "2024-10-02 20:40:27,081 - utils.dataloader - INFO: -  Each mini-batch contains 600.0 compounds with 3 samples per compound : total 1800 rows\n",
      "2024-10-02 20:40:27,082 - utils.dataloader - INFO: -  Number of 1800 row full size batches per epoch: 7\n",
      "2024-10-02 20:40:27,082 - utils.dataloader - INFO: -  Rows covered by 7 full size batches (1800 rows) per epoch:  12600\n",
      "2024-10-02 20:40:27,083 - utils.dataloader - INFO: -  Last partial batch contains : 0 rows\n",
      "2024-10-02 20:40:27,083 - utils.dataloader - INFO: -  \n"
     ]
    },
    {
     "name": "stdout",
     "output_type": "stream",
     "text": [
      " TRAIN_INPUT:  /home/kevin/WSL-shared/cellpainting/cj-datasets/output_11102023/3_sample_embeddings/3smpl_prfl_embedding_161_HashOrder_base_20240923_1943_BEST_train.csv\n",
      " TEST_INPUT :  /home/kevin/WSL-shared/cellpainting/cj-datasets/output_11102023/3_sample_embeddings/3smpl_prfl_embedding_161_HashOrder_base_20240923_1943_BEST_train_sub_test.csv\n",
      " ALL_INPUT  :  /home/kevin/WSL-shared/cellpainting/cj-datasets/output_11102023/3_sample_embeddings/3smpl_prfl_embedding_161_HashOrder_base_20240923_1943_BEST_train_sub_val.csv\n",
      " load {}\n",
      " Dataset size: 277200   rows per batch: 1800  tpsa_threshold: 100\n",
      " Dataset size: 21600   rows per batch: 1800  tpsa_threshold: 100\n",
      " Dataset size: 12600   rows per batch: 1800  tpsa_threshold: 100\n"
     ]
    }
   ],
   "source": [
    "data_loader = define_datasets(cellpainting_args, AE_RUNMODE, AE_DATETIME, input_cols, AE_CKPTTYPE, INPUT_PATH)"
   ]
  },
  {
   "cell_type": "markdown",
   "id": "a8a1b152-c298-465b-9313-e1cc880f6149",
   "metadata": {
    "jp-MarkdownHeadingCollapsed": true
   },
   "source": [
    "### Dataloader"
   ]
  },
  {
   "cell_type": "code",
   "execution_count": null,
   "id": "417e03f3-163a-42d4-8055-7e39f9c3f8af",
   "metadata": {
    "editable": true,
    "slideshow": {
     "slide_type": ""
    },
    "tags": []
   },
   "outputs": [],
   "source": [
    "# TRAIN_INPUT_FILE = f\"3smpl_prfl_embedding_{input_cols}_HashOrder_{AE_RUNMODE}_{AE_DATETIME}_{AE_CKPTTYPE}_train.csv\"\n",
    "# TEST_INPUT_FILE  = f\"3smpl_prfl_embedding_{input_cols}_HashOrder_{AE_RUNMODE}_{AE_DATETIME}_{AE_CKPTTYPE}_train_sub_test.csv\"\n",
    "# VAL_INPUT_FILE   = f\"3smpl_prfl_embedding_{input_cols}_HashOrder_{AE_RUNMODE}_{AE_DATETIME}_{AE_CKPTTYPE}_train_sub_val.csv\"\n",
    "# # ALL_INPUT_FILE   = f\"3smpl_prfl_embedding_{num_cols}_HashOrder_{AE_RUNMODE}_{AE_DATETIME}_{AE_CKPTTYPE}_sub_val.csv\"\n",
    "\n",
    "# print(TRAIN_INPUT_FILE)\n",
    "# print(TEST_INPUT_FILE)\n",
    "# print(VAL_INPUT_FILE)\n",
    "\n",
    "# TRAIN_INPUT = os.path.join(INPUT_PATH, TRAIN_INPUT_FILE)\n",
    "# TEST_INPUT  = os.path.join(INPUT_PATH, TEST_INPUT_FILE)\n",
    "# VAL_INPUT   = os.path.join(INPUT_PATH, VAL_INPUT_FILE)\n",
    "\n",
    "# print(f\" TRAIN_INPUT:  {TRAIN_INPUT}\")\n",
    "# print(f\" TEST_INPUT :  {TEST_INPUT }\")\n",
    "# print(f\" ALL_INPUT  :  {VAL_INPUT }\")"
   ]
  },
  {
   "cell_type": "code",
   "execution_count": null,
   "id": "2752eccf-171a-4851-ae70-22771fffa4d3",
   "metadata": {},
   "outputs": [],
   "source": [
    "## total rows = 346,542\n",
    "## Trn file sz: 312,000 \n",
    "## Train      : 277,200    (312_000 - (21,600 + 12,600 + 600) = 277,200\n",
    "## Validation :  21,600\n",
    "## Test       :  12,600\n",
    "## Leftover   :     600\n",
    "# cellpainting_args = {'sample_size': 3,\n",
    "#                      'batch_size': 1,\n",
    "#                      'compounds_per_batch': 600,\n",
    "#                      'training_path'  : TRAIN_INPUT,\n",
    "#                      'validation_path': TRAIN_INPUT,\n",
    "#                      'test_path'      : TRAIN_INPUT,\n",
    "#                      'train_start'    : 0,\n",
    "#                      'train_end'      : 277_200,  # 277,200 samples\n",
    "#                      'val_start'      : 277_200,  # \n",
    "#                      'val_end'        : 298_800,  # 21_600 samples\n",
    "#                      'test_start'     : 298_800,  # \n",
    "#                      'test_end'       : 311_400,  # 12_600 samples\n",
    "#                     }\n",
    "\n",
    "# cellpainting_args = {'compounds_per_batch': COMPOUNDS_PER_BATCH,\n",
    "#                      'training_path'      : TRAIN_INPUT,\n",
    "#                      'validation_path'    :  VAL_INPUT,\n",
    "#                      'test_path'          : TEST_INPUT,\n",
    "#                      'train_start'        : 0,\n",
    "#                      'train_end'          : 277_200,\n",
    "#                      'val_start'          : 0,\n",
    "#                      'val_end'            : 21_600,\n",
    "#                      'test_start'         : 0,\n",
    "#                      'test_end'           : 12_600,\n",
    "#                      'tpsa_threshold'     : 100\n",
    "#                     }"
   ]
  },
  {
   "cell_type": "code",
   "execution_count": null,
   "id": "ac80b685-550e-43a7-b48d-af4518aa718a",
   "metadata": {},
   "outputs": [],
   "source": [
    "# cellpainting_args"
   ]
  },
  {
   "cell_type": "code",
   "execution_count": null,
   "id": "3dda57be-1cd6-4598-b05e-a1c8b68176df",
   "metadata": {
    "scrolled": true
   },
   "outputs": [],
   "source": [
    "#### Load CellPainting Dataset\n",
    "# data : keys to the dataset settings (and resulting keys in output dictionary)\n",
    "# dataset = dict()\n",
    "# data_loader = dict()\n",
    "\n",
    "# for datatype in ['train', 'val', 'test']:\n",
    "#     dataset[datatype] = CellpaintingDataset(type = datatype, **cellpainting_args)\n",
    "#     data_loader[datatype] = InfiniteDataLoader(dataset = dataset[datatype], batch_size=1, shuffle = False, num_workers = 0, \n",
    "#                                                collate_fn = partial(dynamic_collate_fn, tpsa_threshold = dataset[datatype].tpsa_threshold) )"
   ]
  },
  {
   "cell_type": "code",
   "execution_count": null,
   "id": "9c6c6429-dd69-421c-8a5c-689558acc38a",
   "metadata": {},
   "outputs": [],
   "source": [
    "# def display_cellpainting_batch(batch_id, batch):\n",
    "#     # data, labels, plates, compounds, cmphash, other, labels_2\n",
    "#     features, label, well_ids, compound_id, cmphash, tpsa, label_2 = batch\n",
    "#     # label_2 = np.zeros_like(label)\n",
    "#     print(\"-\"*135)\n",
    "#     print(f\"  Batch Id: {batch_id}   {type(batch)}  Rows returned {len(batch[0])} features: {features.shape}  \")\n",
    "#     print(f\"+-----+------------------------------------------+----------------+--------------------------+------------------------------+-----+-----+--------------------------------------------------------+\")\n",
    "#     print(f\"| idx |   batch[2]                               |    batch[3]    |      batch[2]            |          batch[5]            | [1] | [1] |     batch[0]                                           | \") \n",
    "#     print(f\"|     | SRCE      BATCH     PLATE     WELL       |   COMPOUND_ID  |       CMPHASH / BIN      |  TPSA / Ln(TPSA) / Log(TPSA) | LBL |LBL2 |     FEATURES                                           | \")\n",
    "#     print(f\"+-----+------------------------------------------+----------------+--------------------------+------------------------------+-----+-----+--------------------------------------------------------+\")\n",
    "#          ###    0 | source_11 Batch2    EC000046  K04      | JCP2022_009278 |  7406361908543180200 -  8  |   0   |   62.78000    4.13964   1.79782 | [-0.4377299 -0.4474466  1.1898487  0.2051901]\n",
    "#          # \"  1 | source_10    | JCP2022_006020 | -9223347314827979542 |   10 |  0 | tensor([-0.6346, -0.6232, -1.6046])\"\n",
    "    \n",
    "#     for i in range(len(label)):\n",
    "#         print(f\"| {i:3d} | {well_ids[i,0][:9]:9s} {well_ids[i,1][:12]:12s}  {well_ids[i,2][:10]:10s}  {well_ids[i,3]:4s} |\"\\\n",
    "#               f\" {compound_id[i]:14s} | {cmphash[i,0]:20d}  {cmphash[i,1]:2d} |\"\\\n",
    "#               f\" {tpsa[i,0]:7.3f}  {tpsa[i,1]:8.5f}  {tpsa[i,2]:8.5f}  |\"\n",
    "#               f\" {int(label[i]):2d}  | {int(label_2[i]):2d}  |\"\\\n",
    "#               f\" {features[i,:4].detach().cpu().numpy()}\")\n",
    "#         # print(f\"| {i:3d} | {batch[2][i,0]:9s} {batch[2][i,1][:9]:9s} {str(batch[2][i,2])[:9]:9s} {batch[2][i,3]:>4s}       \"\\\n",
    "#         #       f\"|{batch[3][i]:12s} | {batch[4][i,0]:20d} - {batch[4][i,1]:2d}  \"\\\n",
    "#         #       f\"{batch[5][i,0]:11.5f}   {batch[5][i,1]:8.5f}  {batch[5][i,2]:8.5f} \"\\\n",
    "#         #       f\"|  {int(batch[1][i]):1d}  | {batch[0][i,:4].detach().cpu().numpy()}\")\n"
   ]
  },
  {
   "cell_type": "code",
   "execution_count": null,
   "id": "5465d0ad-2f89-45a5-9e48-a55da7c4fa47",
   "metadata": {
    "scrolled": true
   },
   "outputs": [],
   "source": [
    "# # %%timeit\n",
    "# # for dataset in ['train', 'val', 'test']:\n",
    "# for dataset in ['test']:\n",
    "#     for idx, batch in enumerate(data_loader[dataset]):\n",
    "#         for b in batch :\n",
    "#             print(b.shape)\n",
    "#         display_cellpainting_batch(idx, batch)\n",
    "#         if idx == 0:\n",
    "#             break"
   ]
  },
  {
   "cell_type": "code",
   "execution_count": null,
   "id": "1247a1cd-eda6-4231-9603-feab85fea20d",
   "metadata": {},
   "outputs": [],
   "source": [
    "# # -----------------------------------------\n",
    "# #  Count pos/neg labels in each dataset\n",
    "# # -----------------------------------------\n",
    "# for datatype in ['train', 'val', 'test']:\n",
    "#     MINIBATCH_SIZE = data_loader[datatype].dataset.sample_size * data_loader[datatype].dataset.compounds_per_batch\n",
    "#     print(f\" {datatype.capitalize()} Minibatch size : {MINIBATCH_SIZE}\") \n",
    "# print()\n",
    "\n",
    "# for datatype in ['train', 'val', 'test']:\n",
    "#     minibatches = len(data_loader[datatype]) // MINIBATCH_SIZE\n",
    "#     ttl_rows, ttl_rows_2 = 0, 0\n",
    "#     ttl_pos_labels, ttl_pos_labels_2 = 0, 0\n",
    "#     with tqdm.tqdm(enumerate(data_loader[datatype]), initial=0, total = minibatches, position=0, file=sys.stdout,\n",
    "#                    leave= False, desc=f\" Count labels \") as t_warmup:\n",
    "#         for batch_count, (_, batch_labels, _, _, _, _, batch_labels_2) in t_warmup:\n",
    "#             ttl_rows += batch_labels.shape[0]\n",
    "#             ttl_rows_2 += batch_labels_2.shape[0]\n",
    "#             ttl_pos_labels += batch_labels.sum()\n",
    "#             ttl_pos_labels_2 += batch_labels_2.sum()\n",
    "#     ttl_neg_labels = ttl_rows - ttl_pos_labels\n",
    "#     ttl_neg_labels_2 = ttl_rows_2 - ttl_pos_labels_2\n",
    "#     ttl = f\"\\n Dataset: {datatype} -  len of {datatype} data loader: {len(data_loader[datatype])}   number of batches: {minibatches}\"\n",
    "#     print(ttl)\n",
    "#     print('-'*len(ttl))\n",
    "#     print(f\" total rows     : {ttl_rows:7d}\")\n",
    "#     print(f\" total pos rows : {ttl_pos_labels:7.0f} - {ttl_pos_labels*100.0/ttl_rows:5.2f}%         alternative pos rows : {ttl_pos_labels_2:7.0f} - {ttl_pos_labels_2*100.0/ttl_rows:5.2f}%      \")\n",
    "#     print(f\" total neg rows : {ttl_neg_labels:7.0f} - {ttl_neg_labels*100.0/ttl_rows:5.2f}%         alternative neg rows : {ttl_neg_labels_2:7.0f} - {ttl_neg_labels_2*100.0/ttl_rows:5.2f}%\")\n",
    "#     print()"
   ]
  },
  {
   "cell_type": "markdown",
   "id": "0424ff70-bcba-4702-bbb1-9d1871a5489d",
   "metadata": {},
   "source": [
    "     Minibatch size : 1800 \n",
    "                                                                                                 \n",
    "     Dataset: train - len of train data loader: 277200   number of batches: 154  \n",
    "    ------------------------------\n",
    "     total rows     :  277200\n",
    "     total pos rows :   33129 - 11.95%\n",
    "     total neg rows :  244071 - 88.05%\n",
    "\n",
    "     Dataset: val - len of val data loader: 21600   number of batches: 12\n",
    "    ------------------------------\n",
    "     total rows     :   21600\n",
    "     total pos rows :    2532 - 11.72%\n",
    "     total neg rows :   19068 - 88.28%\n",
    "    \n",
    "     Dataset: test - len of test data loader: 12600   number of batches: 7\n",
    "    ------------------------------\n",
    "     total rows     :   12600\n",
    "     total pos rows :    1431 - 11.36%\n",
    "     total neg rows :   11169 - 88.64%"
   ]
  },
  {
   "attachments": {},
   "cell_type": "markdown",
   "id": "84c48960-0808-47d4-bf2e-b0e5c00cace3",
   "metadata": {},
   "source": [
    "# Define Neural Net Model \n",
    "\n",
    "- **4 layer model :**\n",
    "\n",
    "    Input --> Hidden1 --> (BN/NL) ---> Hidden2 ---> (BN/NL) ---> Hidden3 --->  (BN/NL) ---> 1\n",
    "   \n",
    "    -  **20240909_1800** : Run on 4 FC layers model (includes final layer), model configuration UNKNOWN\n",
    "    -  **20240909_1801** : Run on 4 FC layers model (includes final layer), Relu non linearities (NO Batch Norm)\n",
    "    -  **20240909_2100** : Run on 4 FC layers model (includes final layer), with BATCH NORM and tanh non linearities\n",
    "\n",
    "      \n",
    " - **Single Hidden Layer - 256**\n",
    "\n",
    "   Input --> Hidden1 --> (Tanh) --->  1\n",
    "    -  **20240916_1830** : Run on 1 FC layers model (includes final layer), Input --> 256 --> Tanh --> 1 ,  Read from 20240906_2201 (SNNL - CPB 600, LAT 150, SNN Factor 3)\n",
    "    -  **20240926_1900** : Run on 1 FC layers model (includes final layer), Input --> 256 --> Tanh --> 1 ,  Read from 20240917_2017 (BASELINE - CPB 600, LAT 250, SNN Factor 0)\n",
    "    -  **20240926_1930** : Run on 1 FC layers model (includes final layer), Input --> 256 --> Tanh --> 1 ,  Read from 20240917_2004 (SNNL - CPB 600, LAT 250, SNN Factor 3)\n",
    "    -  **20240926_2000** : Run on 1 FC layers model (includes final layer), Input --> 256 --> Tanh --> 1 ,  Read from 20240924_0146 (SNNL - CPB 600, LAT 250, SNN Factor 30)\n",
    "<br>\n",
    "\n",
    " - **Single Hidden Layer - 256**\n",
    "\n",
    "    -  **20240921_0700** : Run on 1 FC layers model (includes final layer), Input --> 512 --> Tanh --> 1 ,  Read from 20240906_2201 (SNNL - CPB 600, LAT 150, SNN Factor 3)    \n"
   ]
  },
  {
   "cell_type": "code",
   "execution_count": 13,
   "id": "f32c6590-d212-4f37-8ce1-4ee46fd4246a",
   "metadata": {
    "ExecuteTime": {
     "end_time": "2023-07-31T18:45:44.380055Z",
     "start_time": "2023-07-31T18:45:41.073911Z"
    },
    "execution": {
     "iopub.execute_input": "2024-10-02T18:40:47.749848Z",
     "iopub.status.busy": "2024-10-02T18:40:47.749387Z",
     "iopub.status.idle": "2024-10-02T18:40:47.800469Z",
     "shell.execute_reply": "2024-10-02T18:40:47.799760Z",
     "shell.execute_reply.started": "2024-10-02T18:40:47.749812Z"
    }
   },
   "outputs": [],
   "source": [
    "\n",
    "\n",
    "model = build_model(MODEL_TYPE, input = n_input, hidden_1 = n_hidden_1, hidden_2 = n_hidden_2, hidden_3=n_hidden_3, device = device)\n",
    " "
   ]
  },
  {
   "cell_type": "code",
   "execution_count": 14,
   "id": "516fbc97-8c0d-4ba9-820d-c37c4eaebf27",
   "metadata": {
    "ExecuteTime": {
     "end_time": "2023-07-31T18:47:48.292853Z",
     "start_time": "2023-07-31T18:47:45.651556Z"
    },
    "execution": {
     "iopub.execute_input": "2024-10-02T18:40:48.825090Z",
     "iopub.status.busy": "2024-10-02T18:40:48.824796Z",
     "iopub.status.idle": "2024-10-02T18:40:48.926671Z",
     "shell.execute_reply": "2024-10-02T18:40:48.926033Z",
     "shell.execute_reply.started": "2024-10-02T18:40:48.825067Z"
    },
    "scrolled": true
   },
   "outputs": [
    {
     "name": "stdout",
     "output_type": "stream",
     "text": [
      "==============================================================================================================================================================================================\n",
      "Layer (type:depth-idx)                   Input Shape               Output Shape              Param #                   Param %                   Mult-Adds                 Trainable\n",
      "==============================================================================================================================================================================================\n",
      "Sequential                               [30, 150]                 [30, 1]                   --                             --                   --                        True\n",
      "├─Linear: 1-1                            [30, 150]                 [30, 512]                 77,312                     18.95%                   2,319,360                 True\n",
      "│    └─weight                                                                                ├─76,800\n",
      "│    └─bias                                                                                  └─512\n",
      "├─BatchNorm1d: 1-2                       [30, 512]                 [30, 512]                 1,024                       0.25%                   30,720                    True\n",
      "│    └─weight                                                                                ├─512\n",
      "│    └─bias                                                                                  └─512\n",
      "├─Tanh: 1-3                              [30, 512]                 [30, 512]                 --                             --                   --                        --\n",
      "├─Linear: 1-4                            [30, 512]                 [30, 512]                 262,656                    64.37%                   7,879,680                 True\n",
      "│    └─weight                                                                                ├─262,144\n",
      "│    └─bias                                                                                  └─512\n",
      "├─BatchNorm1d: 1-5                       [30, 512]                 [30, 512]                 1,024                       0.25%                   30,720                    True\n",
      "│    └─weight                                                                                ├─512\n",
      "│    └─bias                                                                                  └─512\n",
      "├─Tanh: 1-6                              [30, 512]                 [30, 512]                 --                             --                   --                        --\n",
      "├─Linear: 1-7                            [30, 512]                 [30, 128]                 65,664                     16.09%                   1,969,920                 True\n",
      "│    └─weight                                                                                ├─65,536\n",
      "│    └─bias                                                                                  └─128\n",
      "├─BatchNorm1d: 1-8                       [30, 128]                 [30, 128]                 256                         0.06%                   7,680                     True\n",
      "│    └─weight                                                                                ├─128\n",
      "│    └─bias                                                                                  └─128\n",
      "├─Tanh: 1-9                              [30, 128]                 [30, 128]                 --                             --                   --                        --\n",
      "├─Linear: 1-10                           [30, 128]                 [30, 1]                   129                         0.03%                   3,870                     True\n",
      "│    └─weight                                                                                ├─128\n",
      "│    └─bias                                                                                  └─1\n",
      "==============================================================================================================================================================================================\n",
      "Total params: 408,065\n",
      "Trainable params: 408,065\n",
      "Non-trainable params: 0\n",
      "Total mult-adds (Units.MEGABYTES): 12.24\n",
      "==============================================================================================================================================================================================\n",
      "Input size (MB): 0.02\n",
      "Forward/backward pass size (MB): 0.55\n",
      "Params size (MB): 1.63\n",
      "Estimated Total Size (MB): 2.20\n",
      "==============================================================================================================================================================================================\n"
     ]
    }
   ],
   "source": [
    "# parameters = model.parameters()\n",
    "# ttl_nelements = 0\n",
    "# for p in parameters:\n",
    "#     print(f\"Parm shape: {str(p.shape):35s}    # elements: {p.nelement():8d}    Required gradient calc: {p.requires_grad}\")\n",
    "#     ttl_nelements += p.nelement()\n",
    "# print(f\"Total num of parameters: {ttl_nelements}\")  # number of parameters in total\n",
    "\n",
    "col_names = [\"input_size\", \"output_size\", \"num_params\", \"params_percent\", \"mult_adds\", \"trainable\"]\n",
    "\n",
    "summary_input_size = (30, n_input)\n",
    "_ = summary(model, verbose = 2, input_size=summary_input_size, col_names = col_names)"
   ]
  },
  {
   "cell_type": "code",
   "execution_count": 16,
   "id": "039939c2-5cbb-4f5f-a33e-614ae6acbbcb",
   "metadata": {
    "ExecuteTime": {
     "end_time": "2023-07-31T18:48:09.459977Z",
     "start_time": "2023-07-31T18:48:09.429767Z"
    },
    "execution": {
     "iopub.execute_input": "2024-10-02T18:41:00.590847Z",
     "iopub.status.busy": "2024-10-02T18:41:00.590525Z",
     "iopub.status.idle": "2024-10-02T18:41:00.630494Z",
     "shell.execute_reply": "2024-10-02T18:41:00.629772Z",
     "shell.execute_reply.started": "2024-10-02T18:41:00.590806Z"
    }
   },
   "outputs": [],
   "source": [
    "metrics = { 'loss_trn' : [], 'acc_trn' : [], 'loss_val' : [], 'acc_val' : []}\n",
    "\n",
    "start_epoch, end_epoch = 0,0\n",
    "init_LR = 1.0e-3\n",
    "# curr_LR = init_LR\n",
    "\n",
    "# create a PyTorch optimizer\n",
    "optimizer = torch.optim.AdamW(model.parameters(), lr=init_LR)\n",
    "\n",
    "# scheduler = torch.optim.lr_scheduler.ReduceLROnPlateau(optimizer, mode = 'min', factor = 0.3 , patience=20, cooldown=10,)\n",
    "# scheduler = torch.optim.lr_scheduler.StepLR(optimizer, step_size = step_size, gamma=0.1, last_epoch =-1)\n",
    "scheduler = torch.optim.lr_scheduler.ReduceLROnPlateau(optimizer, mode = 'min', factor = 0.5, threshold=1.0e-06, patience=50, cooldown=10,)"
   ]
  },
  {
   "cell_type": "markdown",
   "id": "4cbb012c-1066-4a40-ba6d-8bd792e06ffb",
   "metadata": {},
   "source": [
    "### Read checkpoint"
   ]
  },
  {
   "cell_type": "code",
   "execution_count": 17,
   "id": "9d8cc5c1-a8b4-4488-ba18-c7b6180722ca",
   "metadata": {
    "execution": {
     "iopub.execute_input": "2024-10-02T18:41:02.303586Z",
     "iopub.status.busy": "2024-10-02T18:41:02.303096Z",
     "iopub.status.idle": "2024-10-02T18:41:02.341041Z",
     "shell.execute_reply": "2024-10-02T18:41:02.340301Z",
     "shell.execute_reply.started": "2024-10-02T18:41:02.303544Z"
    }
   },
   "outputs": [],
   "source": [
    "# loaded_epoch\n",
    "# optimizer.state_dict()\n",
    "# scheduler.state_dict()"
   ]
  },
  {
   "cell_type": "code",
   "execution_count": 18,
   "id": "9d093781-edac-4acb-a6ed-8c9f322228e4",
   "metadata": {
    "execution": {
     "iopub.execute_input": "2024-10-02T18:41:02.495603Z",
     "iopub.status.busy": "2024-10-02T18:41:02.495216Z",
     "iopub.status.idle": "2024-10-02T18:41:02.533281Z",
     "shell.execute_reply": "2024-10-02T18:41:02.532556Z",
     "shell.execute_reply.started": "2024-10-02T18:41:02.495572Z"
    }
   },
   "outputs": [],
   "source": [
    "# model, optimizer, scheudler, end_epoch = load_checkpoint(model, optimizer, scheduler, checkpoint_file.format(ep=100), ckpt_path = CKPT_PATH)\n",
    "# model = model.to(device)"
   ]
  },
  {
   "cell_type": "code",
   "execution_count": 19,
   "id": "9599cdd1-7434-4360-aa21-d8130696ffc3",
   "metadata": {
    "execution": {
     "iopub.execute_input": "2024-10-02T18:41:02.665776Z",
     "iopub.status.busy": "2024-10-02T18:41:02.665399Z",
     "iopub.status.idle": "2024-10-02T18:41:02.708450Z",
     "shell.execute_reply": "2024-10-02T18:41:02.707683Z",
     "shell.execute_reply.started": "2024-10-02T18:41:02.665745Z"
    }
   },
   "outputs": [],
   "source": [
    "# end_epoch\n",
    "# optimizer.state_dict()\n",
    "# scheduler.state_dict()"
   ]
  },
  {
   "cell_type": "markdown",
   "id": "5a53a7c8-de53-45ec-ac18-2519c89e3ce5",
   "metadata": {},
   "source": [
    "# Run Training"
   ]
  },
  {
   "cell_type": "code",
   "execution_count": 20,
   "id": "31ec54be-10d4-4b6e-85c9-8175fab24f02",
   "metadata": {
    "ExecuteTime": {
     "end_time": "2023-07-31T18:48:09.459977Z",
     "start_time": "2023-07-31T18:48:09.429767Z"
    },
    "execution": {
     "iopub.execute_input": "2024-10-02T18:41:04.193759Z",
     "iopub.status.busy": "2024-10-02T18:41:04.193272Z",
     "iopub.status.idle": "2024-10-02T18:41:04.238611Z",
     "shell.execute_reply": "2024-10-02T18:41:04.237895Z",
     "shell.execute_reply.started": "2024-10-02T18:41:04.193715Z"
    }
   },
   "outputs": [
    {
     "name": "stdout",
     "output_type": "stream",
     "text": [
      "0 600\n"
     ]
    }
   ],
   "source": [
    "# start_epoch = 0\n",
    "# start_epoch = loaded_epoch\n",
    "start_epoch = end_epoch\n",
    "end_epoch += 600\n",
    "# start_epoch, end_epoch = 0,100\n",
    "print(start_epoch, end_epoch)\n",
    "_ = model.train()"
   ]
  },
  {
   "cell_type": "code",
   "execution_count": 21,
   "id": "b26ae239-ec9d-4afc-aef9-387fa19d0ca0",
   "metadata": {
    "ExecuteTime": {
     "end_time": "2023-07-31T19:00:14.450630Z",
     "start_time": "2023-07-31T18:49:12.235999Z"
    },
    "execution": {
     "iopub.execute_input": "2024-10-02T18:41:05.047007Z",
     "iopub.status.busy": "2024-10-02T18:41:05.046399Z",
     "iopub.status.idle": "2024-10-02T21:02:33.515385Z",
     "shell.execute_reply": "2024-10-02T21:02:33.514569Z",
     "shell.execute_reply.started": "2024-10-02T18:41:05.046964Z"
    },
    "scrolled": true
   },
   "outputs": [
    {
     "name": "stdout",
     "output_type": "stream",
     "text": [
      " 20:41:20 | Ep:   1/ 600 | Trn loss:  0.468883 - Acc: 82.6299 | Val loss:  0.374762 - Acc: 88.2593 | last_lr: 1.00000e-03  bad_ep: 0  cdwn: 0                              \n",
      " 20:41:34 | Ep:   2/ 600 | Trn loss:  0.367350 - Acc: 88.0527 | Val loss:  0.360420 - Acc: 88.2778 | last_lr: 1.00000e-03  bad_ep: 0  cdwn: 0                              \n",
      " 20:41:48 | Ep:   3/ 600 | Trn loss:  0.363498 - Acc: 88.0624 | Val loss:  0.358392 - Acc: 88.2870 | last_lr: 1.00000e-03  bad_ep: 0  cdwn: 0                              \n",
      " 20:42:03 | Ep:   4/ 600 | Trn loss:  0.361575 - Acc: 88.0653 | Val loss:  0.359005 - Acc: 88.2824 | last_lr: 1.00000e-03  bad_ep: 1  cdwn: 0                              \n",
      " 20:42:17 | Ep:   5/ 600 | Trn loss:  0.360376 - Acc: 88.0646 | Val loss:  0.359108 - Acc: 88.2870 | last_lr: 1.00000e-03  bad_ep: 2  cdwn: 0                              \n",
      " 20:42:31 | Ep:   6/ 600 | Trn loss:  0.359452 - Acc: 88.0653 | Val loss:  0.358894 - Acc: 88.2824 | last_lr: 1.00000e-03  bad_ep: 3  cdwn: 0                              \n",
      " 20:42:45 | Ep:   7/ 600 | Trn loss:  0.358682 - Acc: 88.0657 | Val loss:  0.358638 - Acc: 88.2685 | last_lr: 1.00000e-03  bad_ep: 4  cdwn: 0                              \n",
      " 20:43:00 | Ep:   8/ 600 | Trn loss:  0.358009 - Acc: 88.0689 | Val loss:  0.358356 - Acc: 88.2778 | last_lr: 1.00000e-03  bad_ep: 0  cdwn: 0                              \n",
      " 20:43:15 | Ep:   9/ 600 | Trn loss:  0.357385 - Acc: 88.0707 | Val loss:  0.358106 - Acc: 88.2731 | last_lr: 1.00000e-03  bad_ep: 0  cdwn: 0                              \n",
      " 20:43:30 | Ep:  10/ 600 | Trn loss:  0.356777 - Acc: 88.0740 | Val loss:  0.357918 - Acc: 88.2731 | last_lr: 1.00000e-03  bad_ep: 0  cdwn: 0                              \n",
      " 20:43:44 | Ep:  11/ 600 | Trn loss:  0.356182 - Acc: 88.0768 | Val loss:  0.357808 - Acc: 88.2731 | last_lr: 1.00000e-03  bad_ep: 0  cdwn: 0                              \n",
      " 20:43:59 | Ep:  12/ 600 | Trn loss:  0.355592 - Acc: 88.0844 | Val loss:  0.357762 - Acc: 88.2731 | last_lr: 1.00000e-03  bad_ep: 0  cdwn: 0                              \n",
      " 20:44:13 | Ep:  13/ 600 | Trn loss:  0.355006 - Acc: 88.0866 | Val loss:  0.357714 - Acc: 88.2685 | last_lr: 1.00000e-03  bad_ep: 0  cdwn: 0                              \n",
      " 20:46:06 | Ep:  21/ 600 | Trn loss:  0.349226 - Acc: 88.1374 | Val loss:  0.358534 - Acc: 88.2639 | last_lr: 1.00000e-03  bad_ep: 7  cdwn: 0                              \n",
      " 20:46:21 | Ep:  22/ 600 | Trn loss:  0.348305 - Acc: 88.1475 | Val loss:  0.358730 - Acc: 88.2639 | last_lr: 1.00000e-03  bad_ep: 8  cdwn: 0                              \n",
      " 20:46:35 | Ep:  23/ 600 | Trn loss:  0.347326 - Acc: 88.1627 | Val loss:  0.359002 - Acc: 88.2407 | last_lr: 1.00000e-03  bad_ep: 9  cdwn: 0                              \n",
      " 20:46:50 | Ep:  24/ 600 | Trn loss:  0.346270 - Acc: 88.1753 | Val loss:  0.359226 - Acc: 88.2269 | last_lr: 1.00000e-03  bad_ep: 10  cdwn: 0                             \n",
      " 20:47:04 | Ep:  25/ 600 | Trn loss:  0.345113 - Acc: 88.1869 | Val loss:  0.359480 - Acc: 88.2130 | last_lr: 1.00000e-03  bad_ep: 11  cdwn: 0                             \n",
      " 20:47:18 | Ep:  26/ 600 | Trn loss:  0.343867 - Acc: 88.1952 | Val loss:  0.359712 - Acc: 88.1898 | last_lr: 1.00000e-03  bad_ep: 12  cdwn: 0                             \n",
      " 20:47:33 | Ep:  27/ 600 | Trn loss:  0.342511 - Acc: 88.2125 | Val loss:  0.360062 - Acc: 88.1759 | last_lr: 1.00000e-03  bad_ep: 13  cdwn: 0                             \n",
      " 20:47:46 | Ep:  28/ 600 | Trn loss:  0.341044 - Acc: 88.2287 | Val loss:  0.360469 - Acc: 88.1481 | last_lr: 1.00000e-03  bad_ep: 14  cdwn: 0                             \n",
      " 20:48:00 | Ep:  29/ 600 | Trn loss:  0.339502 - Acc: 88.2514 | Val loss:  0.361006 - Acc: 88.1435 | last_lr: 1.00000e-03  bad_ep: 15  cdwn: 0                             \n",
      " 20:48:14 | Ep:  30/ 600 | Trn loss:  0.337803 - Acc: 88.2655 | Val loss:  0.361662 - Acc: 88.1204 | last_lr: 1.00000e-03  bad_ep: 16  cdwn: 0                             \n",
      " 20:48:28 | Ep:  31/ 600 | Trn loss:  0.335985 - Acc: 88.2781 | Val loss:  0.362666 - Acc: 88.0880 | last_lr: 1.00000e-03  bad_ep: 17  cdwn: 0                             \n",
      " 20:48:42 | Ep:  32/ 600 | Trn loss:  0.334002 - Acc: 88.3045 | Val loss:  0.363914 - Acc: 88.0833 | last_lr: 1.00000e-03  bad_ep: 18  cdwn: 0                             \n",
      " Trn 32/600:  65%|█████████████████████████████████████████████████████▉                             | 100/154 [00:08<00:04, 11.87it/s, Loss=0.3514, Acc=86.94, lbls=231.0]"
     ]
    },
    {
     "name": "stderr",
     "output_type": "stream",
     "text": [
      "IOPub message rate exceeded.\n",
      "The Jupyter server will temporarily stop sending output\n",
      "to the client in order to avoid crashing it.\n",
      "To change this limit, set the config variable\n",
      "`--ServerApp.iopub_msg_rate_limit`.\n",
      "\n",
      "Current values:\n",
      "ServerApp.iopub_msg_rate_limit=1000.0 (msgs/sec)\n",
      "ServerApp.rate_limit_window=3.0 (secs)\n",
      "\n"
     ]
    },
    {
     "name": "stdout",
     "output_type": "stream",
     "text": [
      " 21:27:51 | Ep: 197/ 600 | Trn loss:  0.004686 - Acc: 99.9885 | Val loss:  1.371986 - Acc: 83.1435 | last_lr: 1.25000e-04  bad_ep: 0  cdwn: 0                              \n",
      " 21:28:05 | Ep: 198/ 600 | Trn loss:  0.004425 - Acc: 99.9917 | Val loss:  1.376014 - Acc: 83.1528 | last_lr: 1.25000e-04  bad_ep: 1  cdwn: 0                              \n",
      " 21:28:20 | Ep: 199/ 600 | Trn loss:  0.004190 - Acc: 99.9935 | Val loss:  1.380105 - Acc: 83.1528 | last_lr: 1.25000e-04  bad_ep: 2  cdwn: 0                              \n",
      " 21:28:34 | Ep: 200/ 600 | Trn loss:  0.003976 - Acc: 99.9957 | Val loss:  1.384269 - Acc: 83.1343 | last_lr: 1.25000e-04  bad_ep: 3  cdwn: 0                              \n"
     ]
    },
    {
     "name": "stderr",
     "output_type": "stream",
     "text": [
      "2024-10-02 21:28:34,509 - utils.utils_cellpainting - INFO: -  Model exported to NN_base_embd600_150Ltnt_512_20240923_1943_BEST_20241002_2000_ep_200.pt - epoch: 200\n"
     ]
    },
    {
     "name": "stdout",
     "output_type": "stream",
     "text": [
      " 21:28:48 | Ep: 201/ 600 | Trn loss:  0.003779 - Acc: 99.9968 | Val loss:  1.388506 - Acc: 83.1481 | last_lr: 1.25000e-04  bad_ep: 4  cdwn: 0                              \n",
      " 21:29:02 | Ep: 202/ 600 | Trn loss:  0.003598 - Acc: 99.9975 | Val loss:  1.392820 - Acc: 83.1296 | last_lr: 1.25000e-04  bad_ep: 5  cdwn: 0                              \n",
      " 21:29:17 | Ep: 203/ 600 | Trn loss:  0.003429 - Acc: 99.9982 | Val loss:  1.397213 - Acc: 83.1343 | last_lr: 1.25000e-04  bad_ep: 6  cdwn: 0                              \n",
      " 21:29:31 | Ep: 204/ 600 | Trn loss:  0.003272 - Acc: 99.9986 | Val loss:  1.401686 - Acc: 83.1574 | last_lr: 1.25000e-04  bad_ep: 7  cdwn: 0                              \n",
      " 21:29:46 | Ep: 205/ 600 | Trn loss:  0.003124 - Acc: 99.9989 | Val loss:  1.406245 - Acc: 83.1157 | last_lr: 1.25000e-04  bad_ep: 8  cdwn: 0                              \n",
      " 21:30:00 | Ep: 206/ 600 | Trn loss:  0.002985 - Acc: 99.9993 | Val loss:  1.410896 - Acc: 83.0741 | last_lr: 1.25000e-04  bad_ep: 9  cdwn: 0                              \n",
      " 21:30:14 | Ep: 207/ 600 | Trn loss:  0.002853 - Acc: 99.9993 | Val loss:  1.415645 - Acc: 83.0833 | last_lr: 1.25000e-04  bad_ep: 10  cdwn: 0                             \n",
      " 21:30:28 | Ep: 208/ 600 | Trn loss:  0.002729 - Acc: 99.9993 | Val loss:  1.420503 - Acc: 83.1065 | last_lr: 1.25000e-04  bad_ep: 11  cdwn: 0                             \n",
      " 21:30:43 | Ep: 209/ 600 | Trn loss:  0.002610 - Acc: 99.9996 | Val loss:  1.425474 - Acc: 83.1250 | last_lr: 1.25000e-04  bad_ep: 12  cdwn: 0                             \n",
      " 21:30:57 | Ep: 210/ 600 | Trn loss:  0.002498 - Acc: 99.9996 | Val loss:  1.430565 - Acc: 83.1435 | last_lr: 1.25000e-04  bad_ep: 13  cdwn: 0                             \n",
      " 21:31:11 | Ep: 211/ 600 | Trn loss:  0.002390 - Acc: 99.9996 | Val loss:  1.435780 - Acc: 83.1481 | last_lr: 1.25000e-04  bad_ep: 14  cdwn: 0                             \n",
      " 21:31:26 | Ep: 212/ 600 | Trn loss:  0.002287 - Acc: 99.9996 | Val loss:  1.441122 - Acc: 83.1667 | last_lr: 1.25000e-04  bad_ep: 15  cdwn: 0                             \n",
      " 21:31:40 | Ep: 213/ 600 | Trn loss:  0.002189 - Acc: 99.9996 | Val loss:  1.446594 - Acc: 83.1713 | last_lr: 1.25000e-04  bad_ep: 16  cdwn: 0                             \n",
      " 21:31:54 | Ep: 214/ 600 | Trn loss:  0.002094 - Acc: 99.9996 | Val loss:  1.452197 - Acc: 83.1759 | last_lr: 1.25000e-04  bad_ep: 17  cdwn: 0                             \n",
      " 21:32:09 | Ep: 215/ 600 | Trn loss:  0.002004 - Acc: 99.9996 | Val loss:  1.457932 - Acc: 83.1806 | last_lr: 1.25000e-04  bad_ep: 18  cdwn: 0                             \n",
      " 21:32:23 | Ep: 216/ 600 | Trn loss:  0.001917 - Acc: 99.9996 | Val loss:  1.463798 - Acc: 83.1759 | last_lr: 1.25000e-04  bad_ep: 19  cdwn: 0                             \n",
      " 21:32:37 | Ep: 217/ 600 | Trn loss:  0.001834 - Acc: 99.9996 | Val loss:  1.469797 - Acc: 83.1806 | last_lr: 1.25000e-04  bad_ep: 20  cdwn: 0                             \n",
      " 21:32:52 | Ep: 218/ 600 | Trn loss:  0.001754 - Acc: 99.9996 | Val loss:  1.475926 - Acc: 83.1713 | last_lr: 1.25000e-04  bad_ep: 21  cdwn: 0                             \n",
      " 21:33:06 | Ep: 219/ 600 | Trn loss:  0.001677 - Acc: 99.9996 | Val loss:  1.482187 - Acc: 83.1806 | last_lr: 1.25000e-04  bad_ep: 22  cdwn: 0                             \n",
      " 21:33:20 | Ep: 220/ 600 | Trn loss:  0.001604 - Acc: 100.0000 | Val loss:  1.488575 - Acc: 83.2222 | last_lr: 1.25000e-04  bad_ep: 23  cdwn: 0                            \n",
      " 21:33:34 | Ep: 221/ 600 | Trn loss:  0.001533 - Acc: 100.0000 | Val loss:  1.495091 - Acc: 83.2407 | last_lr: 1.25000e-04  bad_ep: 24  cdwn: 0                            \n",
      " 21:33:49 | Ep: 222/ 600 | Trn loss:  0.001465 - Acc: 100.0000 | Val loss:  1.501731 - Acc: 83.2407 | last_lr: 1.25000e-04  bad_ep: 25  cdwn: 0                            \n",
      " 21:34:03 | Ep: 223/ 600 | Trn loss:  0.001400 - Acc: 100.0000 | Val loss:  1.508496 - Acc: 83.2454 | last_lr: 1.25000e-04  bad_ep: 26  cdwn: 0                            \n",
      " 21:34:17 | Ep: 224/ 600 | Trn loss:  0.001338 - Acc: 100.0000 | Val loss:  1.515383 - Acc: 83.2454 | last_lr: 1.25000e-04  bad_ep: 27  cdwn: 0                            \n",
      " 21:34:31 | Ep: 225/ 600 | Trn loss:  0.001278 - Acc: 100.0000 | Val loss:  1.522391 - Acc: 83.2407 | last_lr: 1.25000e-04  bad_ep: 28  cdwn: 0                            \n",
      " 21:34:46 | Ep: 226/ 600 | Trn loss:  0.001220 - Acc: 100.0000 | Val loss:  1.529518 - Acc: 83.2407 | last_lr: 1.25000e-04  bad_ep: 29  cdwn: 0                            \n",
      " 21:35:00 | Ep: 227/ 600 | Trn loss:  0.001165 - Acc: 100.0000 | Val loss:  1.536763 - Acc: 83.2407 | last_lr: 1.25000e-04  bad_ep: 30  cdwn: 0                            \n",
      " 21:35:14 | Ep: 228/ 600 | Trn loss:  0.001112 - Acc: 100.0000 | Val loss:  1.544121 - Acc: 83.2500 | last_lr: 1.25000e-04  bad_ep: 31  cdwn: 0                            \n",
      " 21:35:28 | Ep: 229/ 600 | Trn loss:  0.001061 - Acc: 100.0000 | Val loss:  1.551590 - Acc: 83.2500 | last_lr: 1.25000e-04  bad_ep: 32  cdwn: 0                            \n",
      " 21:35:43 | Ep: 230/ 600 | Trn loss:  0.001012 - Acc: 100.0000 | Val loss:  1.559168 - Acc: 83.2731 | last_lr: 1.25000e-04  bad_ep: 33  cdwn: 0                            \n",
      " 21:35:58 | Ep: 231/ 600 | Trn loss:  0.000965 - Acc: 100.0000 | Val loss:  1.566854 - Acc: 83.2685 | last_lr: 1.25000e-04  bad_ep: 34  cdwn: 0                            \n",
      " 21:36:12 | Ep: 232/ 600 | Trn loss:  0.000920 - Acc: 100.0000 | Val loss:  1.574644 - Acc: 83.2731 | last_lr: 1.25000e-04  bad_ep: 35  cdwn: 0                            \n",
      " 21:36:27 | Ep: 233/ 600 | Trn loss:  0.000877 - Acc: 100.0000 | Val loss:  1.582536 - Acc: 83.2500 | last_lr: 1.25000e-04  bad_ep: 36  cdwn: 0                            \n",
      " 21:36:41 | Ep: 234/ 600 | Trn loss:  0.000836 - Acc: 100.0000 | Val loss:  1.590526 - Acc: 83.2685 | last_lr: 1.25000e-04  bad_ep: 37  cdwn: 0                            \n",
      " 21:36:56 | Ep: 235/ 600 | Trn loss:  0.000797 - Acc: 100.0000 | Val loss:  1.598611 - Acc: 83.2685 | last_lr: 1.25000e-04  bad_ep: 38  cdwn: 0                            \n",
      " 21:37:10 | Ep: 236/ 600 | Trn loss:  0.000759 - Acc: 100.0000 | Val loss:  1.606789 - Acc: 83.2778 | last_lr: 1.25000e-04  bad_ep: 39  cdwn: 0                            \n",
      " 21:37:25 | Ep: 237/ 600 | Trn loss:  0.000723 - Acc: 100.0000 | Val loss:  1.615056 - Acc: 83.3009 | last_lr: 1.25000e-04  bad_ep: 40  cdwn: 0                            \n",
      " 21:37:40 | Ep: 238/ 600 | Trn loss:  0.000688 - Acc: 100.0000 | Val loss:  1.623409 - Acc: 83.3287 | last_lr: 1.25000e-04  bad_ep: 41  cdwn: 0                            \n",
      " 21:37:54 | Ep: 239/ 600 | Trn loss:  0.000655 - Acc: 100.0000 | Val loss:  1.631845 - Acc: 83.3148 | last_lr: 1.25000e-04  bad_ep: 42  cdwn: 0                            \n",
      " 21:38:09 | Ep: 240/ 600 | Trn loss:  0.000623 - Acc: 100.0000 | Val loss:  1.640362 - Acc: 83.3194 | last_lr: 1.25000e-04  bad_ep: 43  cdwn: 0                            \n",
      " 21:38:23 | Ep: 241/ 600 | Trn loss:  0.000593 - Acc: 100.0000 | Val loss:  1.648956 - Acc: 83.3102 | last_lr: 1.25000e-04  bad_ep: 44  cdwn: 0                            \n",
      " 21:38:38 | Ep: 242/ 600 | Trn loss:  0.000564 - Acc: 100.0000 | Val loss:  1.657625 - Acc: 83.3148 | last_lr: 1.25000e-04  bad_ep: 45  cdwn: 0                            \n",
      " 21:38:52 | Ep: 243/ 600 | Trn loss:  0.000536 - Acc: 100.0000 | Val loss:  1.666369 - Acc: 83.3426 | last_lr: 1.25000e-04  bad_ep: 46  cdwn: 0                            \n",
      " 21:39:07 | Ep: 244/ 600 | Trn loss:  0.000510 - Acc: 100.0000 | Val loss:  1.675186 - Acc: 83.3426 | last_lr: 1.25000e-04  bad_ep: 47  cdwn: 0                            \n",
      " 21:39:21 | Ep: 245/ 600 | Trn loss:  0.000484 - Acc: 100.0000 | Val loss:  1.684075 - Acc: 83.3287 | last_lr: 1.25000e-04  bad_ep: 48  cdwn: 0                            \n",
      " 21:39:36 | Ep: 246/ 600 | Trn loss:  0.000460 - Acc: 100.0000 | Val loss:  1.693034 - Acc: 83.3333 | last_lr: 1.25000e-04  bad_ep: 49  cdwn: 0                            \n",
      " 21:39:50 | Ep: 247/ 600 | Trn loss:  0.000437 - Acc: 100.0000 | Val loss:  1.702063 - Acc: 83.3241 | last_lr: 1.25000e-04  bad_ep: 50  cdwn: 0                            \n",
      " 21:40:04 | Ep: 248/ 600 | Trn loss:  0.000415 - Acc: 100.0000 | Val loss:  1.711159 - Acc: 83.3194 | last_lr: 6.25000e-05  bad_ep: 0  cdwn: 10                            \n",
      " 21:40:19 | Ep: 249/ 600 | Trn loss:  0.000503 - Acc: 100.0000 | Val loss:  1.709624 - Acc: 82.8241 | last_lr: 6.25000e-05  bad_ep: 0  cdwn: 9                             \n",
      " 21:40:33 | Ep: 250/ 600 | Trn loss:  0.000516 - Acc: 100.0000 | Val loss:  1.710245 - Acc: 82.3750 | last_lr: 6.25000e-05  bad_ep: 0  cdwn: 8                             \n",
      " 21:40:48 | Ep: 251/ 600 | Trn loss:  0.000529 - Acc: 100.0000 | Val loss:  1.716725 - Acc: 81.8843 | last_lr: 6.25000e-05  bad_ep: 0  cdwn: 7                             \n",
      " 21:41:02 | Ep: 252/ 600 | Trn loss:  0.000557 - Acc: 100.0000 | Val loss:  1.723741 - Acc: 81.4907 | last_lr: 6.25000e-05  bad_ep: 0  cdwn: 6                             \n",
      " 21:41:17 | Ep: 253/ 600 | Trn loss:  0.000705 - Acc: 99.9989 | Val loss:  1.747676 - Acc: 82.4630 | last_lr: 6.25000e-05  bad_ep: 0  cdwn: 5                              \n",
      " 21:41:31 | Ep: 254/ 600 | Trn loss:  0.004659 - Acc: 99.9058 | Val loss:  1.728232 - Acc: 82.2176 | last_lr: 6.25000e-05  bad_ep: 0  cdwn: 4                              \n",
      " 21:41:46 | Ep: 255/ 600 | Trn loss:  0.003843 - Acc: 99.9369 | Val loss:  1.720431 - Acc: 83.0278 | last_lr: 6.25000e-05  bad_ep: 0  cdwn: 3                              \n",
      " 21:42:00 | Ep: 256/ 600 | Trn loss:  0.003230 - Acc: 99.9531 | Val loss:  1.733287 - Acc: 83.6250 | last_lr: 6.25000e-05  bad_ep: 0  cdwn: 2                              \n",
      " 21:42:15 | Ep: 257/ 600 | Trn loss:  0.001791 - Acc: 99.9899 | Val loss:  1.719888 - Acc: 83.2824 | last_lr: 6.25000e-05  bad_ep: 0  cdwn: 1                              \n",
      " 21:42:29 | Ep: 258/ 600 | Trn loss:  0.001270 - Acc: 99.9986 | Val loss:  1.719080 - Acc: 83.2454 | last_lr: 6.25000e-05  bad_ep: 0  cdwn: 0                              \n",
      " 21:42:44 | Ep: 259/ 600 | Trn loss:  0.001054 - Acc: 99.9996 | Val loss:  1.722085 - Acc: 83.2315 | last_lr: 6.25000e-05  bad_ep: 1  cdwn: 0                              \n",
      " 21:42:58 | Ep: 260/ 600 | Trn loss:  0.000935 - Acc: 100.0000 | Val loss:  1.724121 - Acc: 83.2037 | last_lr: 6.25000e-05  bad_ep: 2  cdwn: 0                             \n",
      " 21:43:13 | Ep: 261/ 600 | Trn loss:  0.000857 - Acc: 100.0000 | Val loss:  1.726177 - Acc: 83.2130 | last_lr: 6.25000e-05  bad_ep: 3  cdwn: 0                             \n",
      " 21:43:27 | Ep: 262/ 600 | Trn loss:  0.000798 - Acc: 100.0000 | Val loss:  1.728335 - Acc: 83.2037 | last_lr: 6.25000e-05  bad_ep: 4  cdwn: 0                             \n",
      " 21:43:42 | Ep: 263/ 600 | Trn loss:  0.000751 - Acc: 100.0000 | Val loss:  1.730581 - Acc: 83.2083 | last_lr: 6.25000e-05  bad_ep: 5  cdwn: 0                             \n",
      " 21:43:57 | Ep: 264/ 600 | Trn loss:  0.000711 - Acc: 100.0000 | Val loss:  1.732879 - Acc: 83.2315 | last_lr: 6.25000e-05  bad_ep: 6  cdwn: 0                             \n",
      " 21:44:11 | Ep: 265/ 600 | Trn loss:  0.000676 - Acc: 100.0000 | Val loss:  1.735217 - Acc: 83.2500 | last_lr: 6.25000e-05  bad_ep: 7  cdwn: 0                             \n",
      " 21:44:26 | Ep: 266/ 600 | Trn loss:  0.000646 - Acc: 100.0000 | Val loss:  1.737594 - Acc: 83.2639 | last_lr: 6.25000e-05  bad_ep: 8  cdwn: 0                             \n",
      " 21:44:40 | Ep: 267/ 600 | Trn loss:  0.000619 - Acc: 100.0000 | Val loss:  1.740020 - Acc: 83.2731 | last_lr: 6.25000e-05  bad_ep: 9  cdwn: 0                             \n",
      " 21:44:55 | Ep: 268/ 600 | Trn loss:  0.000594 - Acc: 100.0000 | Val loss:  1.742502 - Acc: 83.2870 | last_lr: 6.25000e-05  bad_ep: 10  cdwn: 0                            \n",
      " 21:45:09 | Ep: 269/ 600 | Trn loss:  0.000571 - Acc: 100.0000 | Val loss:  1.745051 - Acc: 83.3056 | last_lr: 6.25000e-05  bad_ep: 11  cdwn: 0                            \n",
      " 21:45:23 | Ep: 270/ 600 | Trn loss:  0.000550 - Acc: 100.0000 | Val loss:  1.747675 - Acc: 83.3426 | last_lr: 6.25000e-05  bad_ep: 12  cdwn: 0                            \n",
      " 21:45:38 | Ep: 271/ 600 | Trn loss:  0.000530 - Acc: 100.0000 | Val loss:  1.750381 - Acc: 83.3704 | last_lr: 6.25000e-05  bad_ep: 13  cdwn: 0                            \n",
      " 21:45:52 | Ep: 272/ 600 | Trn loss:  0.000512 - Acc: 100.0000 | Val loss:  1.753173 - Acc: 83.3935 | last_lr: 6.25000e-05  bad_ep: 14  cdwn: 0                            \n",
      " 21:46:07 | Ep: 273/ 600 | Trn loss:  0.000494 - Acc: 100.0000 | Val loss:  1.756057 - Acc: 83.3750 | last_lr: 6.25000e-05  bad_ep: 15  cdwn: 0                            \n",
      " 21:46:21 | Ep: 274/ 600 | Trn loss:  0.000478 - Acc: 100.0000 | Val loss:  1.759032 - Acc: 83.3657 | last_lr: 6.25000e-05  bad_ep: 16  cdwn: 0                            \n",
      " 21:46:36 | Ep: 275/ 600 | Trn loss:  0.000462 - Acc: 100.0000 | Val loss:  1.762103 - Acc: 83.3565 | last_lr: 6.25000e-05  bad_ep: 17  cdwn: 0                            \n",
      " 21:46:51 | Ep: 276/ 600 | Trn loss:  0.000446 - Acc: 100.0000 | Val loss:  1.765268 - Acc: 83.3657 | last_lr: 6.25000e-05  bad_ep: 18  cdwn: 0                            \n",
      " 21:47:06 | Ep: 277/ 600 | Trn loss:  0.000432 - Acc: 100.0000 | Val loss:  1.768526 - Acc: 83.3750 | last_lr: 6.25000e-05  bad_ep: 19  cdwn: 0                            \n",
      " 21:47:20 | Ep: 278/ 600 | Trn loss:  0.000418 - Acc: 100.0000 | Val loss:  1.771878 - Acc: 83.3565 | last_lr: 6.25000e-05  bad_ep: 20  cdwn: 0                            \n",
      " 21:47:35 | Ep: 279/ 600 | Trn loss:  0.000404 - Acc: 100.0000 | Val loss:  1.775320 - Acc: 83.3102 | last_lr: 6.25000e-05  bad_ep: 21  cdwn: 0                            \n",
      " 21:47:50 | Ep: 280/ 600 | Trn loss:  0.000391 - Acc: 100.0000 | Val loss:  1.778852 - Acc: 83.3148 | last_lr: 6.25000e-05  bad_ep: 22  cdwn: 0                            \n",
      " 21:48:05 | Ep: 281/ 600 | Trn loss:  0.000378 - Acc: 100.0000 | Val loss:  1.782472 - Acc: 83.3009 | last_lr: 6.25000e-05  bad_ep: 23  cdwn: 0                            \n",
      " 21:48:19 | Ep: 282/ 600 | Trn loss:  0.000366 - Acc: 100.0000 | Val loss:  1.786178 - Acc: 83.2963 | last_lr: 6.25000e-05  bad_ep: 24  cdwn: 0                            \n",
      " 21:48:33 | Ep: 283/ 600 | Trn loss:  0.000354 - Acc: 100.0000 | Val loss:  1.789970 - Acc: 83.2685 | last_lr: 6.25000e-05  bad_ep: 25  cdwn: 0                            \n",
      " 21:48:48 | Ep: 284/ 600 | Trn loss:  0.000342 - Acc: 100.0000 | Val loss:  1.793845 - Acc: 83.2778 | last_lr: 6.25000e-05  bad_ep: 26  cdwn: 0                            \n",
      " 21:49:02 | Ep: 285/ 600 | Trn loss:  0.000331 - Acc: 100.0000 | Val loss:  1.797806 - Acc: 83.2546 | last_lr: 6.25000e-05  bad_ep: 27  cdwn: 0                            \n",
      " 21:49:17 | Ep: 286/ 600 | Trn loss:  0.000320 - Acc: 100.0000 | Val loss:  1.801851 - Acc: 83.2407 | last_lr: 6.25000e-05  bad_ep: 28  cdwn: 0                            \n",
      " 21:49:31 | Ep: 287/ 600 | Trn loss:  0.000310 - Acc: 100.0000 | Val loss:  1.805983 - Acc: 83.2315 | last_lr: 6.25000e-05  bad_ep: 29  cdwn: 0                            \n",
      " 21:49:46 | Ep: 288/ 600 | Trn loss:  0.000299 - Acc: 100.0000 | Val loss:  1.810202 - Acc: 83.2083 | last_lr: 6.25000e-05  bad_ep: 30  cdwn: 0                            \n",
      " 21:50:00 | Ep: 289/ 600 | Trn loss:  0.000289 - Acc: 100.0000 | Val loss:  1.814512 - Acc: 83.1944 | last_lr: 6.25000e-05  bad_ep: 31  cdwn: 0                            \n",
      " 21:50:14 | Ep: 290/ 600 | Trn loss:  0.000279 - Acc: 100.0000 | Val loss:  1.818914 - Acc: 83.1806 | last_lr: 6.25000e-05  bad_ep: 32  cdwn: 0                            \n",
      " 21:50:28 | Ep: 291/ 600 | Trn loss:  0.000270 - Acc: 100.0000 | Val loss:  1.823410 - Acc: 83.1435 | last_lr: 6.25000e-05  bad_ep: 33  cdwn: 0                            \n",
      " 21:50:43 | Ep: 292/ 600 | Trn loss:  0.000261 - Acc: 100.0000 | Val loss:  1.828002 - Acc: 83.1204 | last_lr: 6.25000e-05  bad_ep: 34  cdwn: 0                            \n",
      " 21:50:58 | Ep: 293/ 600 | Trn loss:  0.000252 - Acc: 100.0000 | Val loss:  1.832693 - Acc: 83.0972 | last_lr: 6.25000e-05  bad_ep: 35  cdwn: 0                            \n",
      " 21:51:12 | Ep: 294/ 600 | Trn loss:  0.000243 - Acc: 100.0000 | Val loss:  1.837485 - Acc: 83.0926 | last_lr: 6.25000e-05  bad_ep: 36  cdwn: 0                            \n",
      " 21:51:27 | Ep: 295/ 600 | Trn loss:  0.000235 - Acc: 100.0000 | Val loss:  1.842379 - Acc: 83.1157 | last_lr: 6.25000e-05  bad_ep: 37  cdwn: 0                            \n",
      " 21:51:42 | Ep: 296/ 600 | Trn loss:  0.000226 - Acc: 100.0000 | Val loss:  1.847378 - Acc: 83.1204 | last_lr: 6.25000e-05  bad_ep: 38  cdwn: 0                            \n",
      " 21:51:56 | Ep: 297/ 600 | Trn loss:  0.000218 - Acc: 100.0000 | Val loss:  1.852483 - Acc: 83.1204 | last_lr: 6.25000e-05  bad_ep: 39  cdwn: 0                            \n",
      " 21:52:11 | Ep: 298/ 600 | Trn loss:  0.000211 - Acc: 100.0000 | Val loss:  1.857695 - Acc: 83.1250 | last_lr: 6.25000e-05  bad_ep: 40  cdwn: 0                            \n",
      " 21:52:25 | Ep: 299/ 600 | Trn loss:  0.000203 - Acc: 100.0000 | Val loss:  1.863016 - Acc: 83.1296 | last_lr: 6.25000e-05  bad_ep: 41  cdwn: 0                            \n",
      "                                                                                                                                                                           "
     ]
    },
    {
     "name": "stderr",
     "output_type": "stream",
     "text": [
      "2024-10-02 21:52:39,543 - utils.utils_cellpainting - INFO: -  Model exported to NN_base_embd600_150Ltnt_512_20240923_1943_BEST_20241002_2000_ep_300.pt - epoch: 300\n"
     ]
    },
    {
     "name": "stdout",
     "output_type": "stream",
     "text": [
      " 21:52:39 | Ep: 300/ 600 | Trn loss:  0.000196 - Acc: 100.0000 | Val loss:  1.868447 - Acc: 83.1343 | last_lr: 6.25000e-05  bad_ep: 42  cdwn: 0 \n",
      " 21:52:53 | Ep: 301/ 600 | Trn loss:  0.000189 - Acc: 100.0000 | Val loss:  1.873988 - Acc: 83.1296 | last_lr: 6.25000e-05  bad_ep: 43  cdwn: 0                            \n",
      " 21:53:08 | Ep: 302/ 600 | Trn loss:  0.000182 - Acc: 100.0000 | Val loss:  1.879640 - Acc: 83.1343 | last_lr: 6.25000e-05  bad_ep: 44  cdwn: 0                            \n",
      " 21:53:22 | Ep: 303/ 600 | Trn loss:  0.000175 - Acc: 100.0000 | Val loss:  1.885404 - Acc: 83.1204 | last_lr: 6.25000e-05  bad_ep: 45  cdwn: 0                            \n",
      " 21:53:37 | Ep: 304/ 600 | Trn loss:  0.000169 - Acc: 100.0000 | Val loss:  1.891278 - Acc: 83.1065 | last_lr: 6.25000e-05  bad_ep: 46  cdwn: 0                            \n",
      " 21:53:52 | Ep: 305/ 600 | Trn loss:  0.000163 - Acc: 100.0000 | Val loss:  1.897261 - Acc: 83.1204 | last_lr: 6.25000e-05  bad_ep: 47  cdwn: 0                            \n",
      " 21:54:06 | Ep: 306/ 600 | Trn loss:  0.000157 - Acc: 100.0000 | Val loss:  1.903354 - Acc: 83.1343 | last_lr: 6.25000e-05  bad_ep: 48  cdwn: 0                            \n",
      " 21:54:21 | Ep: 307/ 600 | Trn loss:  0.000151 - Acc: 100.0000 | Val loss:  1.909555 - Acc: 83.1204 | last_lr: 6.25000e-05  bad_ep: 49  cdwn: 0                            \n",
      " 21:54:35 | Ep: 308/ 600 | Trn loss:  0.000145 - Acc: 100.0000 | Val loss:  1.915861 - Acc: 83.1250 | last_lr: 6.25000e-05  bad_ep: 50  cdwn: 0                            \n",
      " 21:54:50 | Ep: 309/ 600 | Trn loss:  0.000140 - Acc: 100.0000 | Val loss:  1.922273 - Acc: 83.1343 | last_lr: 3.12500e-05  bad_ep: 0  cdwn: 10                            \n",
      " 21:55:05 | Ep: 310/ 600 | Trn loss:  0.000162 - Acc: 100.0000 | Val loss:  1.932273 - Acc: 83.2222 | last_lr: 3.12500e-05  bad_ep: 0  cdwn: 9                             \n",
      " 21:55:20 | Ep: 311/ 600 | Trn loss:  0.000161 - Acc: 100.0000 | Val loss:  1.942783 - Acc: 83.3935 | last_lr: 3.12500e-05  bad_ep: 0  cdwn: 8                             \n",
      " 21:55:35 | Ep: 312/ 600 | Trn loss:  0.000157 - Acc: 100.0000 | Val loss:  1.948787 - Acc: 83.4815 | last_lr: 3.12500e-05  bad_ep: 0  cdwn: 7                             \n",
      " 21:55:49 | Ep: 313/ 600 | Trn loss:  0.000153 - Acc: 100.0000 | Val loss:  1.952705 - Acc: 83.5000 | last_lr: 3.12500e-05  bad_ep: 0  cdwn: 6                             \n",
      " 21:56:04 | Ep: 314/ 600 | Trn loss:  0.000149 - Acc: 100.0000 | Val loss:  1.955063 - Acc: 83.5046 | last_lr: 3.12500e-05  bad_ep: 0  cdwn: 5                             \n",
      " 21:56:18 | Ep: 315/ 600 | Trn loss:  0.000145 - Acc: 100.0000 | Val loss:  1.956567 - Acc: 83.4630 | last_lr: 3.12500e-05  bad_ep: 0  cdwn: 4                             \n",
      " 21:56:33 | Ep: 316/ 600 | Trn loss:  0.000141 - Acc: 100.0000 | Val loss:  1.957811 - Acc: 83.4120 | last_lr: 3.12500e-05  bad_ep: 0  cdwn: 3                             \n",
      " 21:56:48 | Ep: 317/ 600 | Trn loss:  0.000137 - Acc: 100.0000 | Val loss:  1.959206 - Acc: 83.3519 | last_lr: 3.12500e-05  bad_ep: 0  cdwn: 2                             \n",
      " 21:57:03 | Ep: 318/ 600 | Trn loss:  0.000133 - Acc: 100.0000 | Val loss:  1.960977 - Acc: 83.2870 | last_lr: 3.12500e-05  bad_ep: 0  cdwn: 1                             \n",
      " 21:57:18 | Ep: 319/ 600 | Trn loss:  0.000129 - Acc: 100.0000 | Val loss:  1.963204 - Acc: 83.2639 | last_lr: 3.12500e-05  bad_ep: 0  cdwn: 0                             \n",
      " 21:57:32 | Ep: 320/ 600 | Trn loss:  0.000126 - Acc: 100.0000 | Val loss:  1.965872 - Acc: 83.2269 | last_lr: 3.12500e-05  bad_ep: 1  cdwn: 0                             \n",
      " 21:57:47 | Ep: 321/ 600 | Trn loss:  0.000123 - Acc: 100.0000 | Val loss:  1.968926 - Acc: 83.1944 | last_lr: 3.12500e-05  bad_ep: 2  cdwn: 0                             \n",
      " 21:58:02 | Ep: 322/ 600 | Trn loss:  0.000120 - Acc: 100.0000 | Val loss:  1.972299 - Acc: 83.1574 | last_lr: 3.12500e-05  bad_ep: 3  cdwn: 0                             \n",
      " 21:58:17 | Ep: 323/ 600 | Trn loss:  0.000117 - Acc: 100.0000 | Val loss:  1.975928 - Acc: 83.1296 | last_lr: 3.12500e-05  bad_ep: 4  cdwn: 0                             \n",
      " 21:58:32 | Ep: 324/ 600 | Trn loss:  0.000114 - Acc: 100.0000 | Val loss:  1.979763 - Acc: 83.1343 | last_lr: 3.12500e-05  bad_ep: 5  cdwn: 0                             \n",
      " 21:58:47 | Ep: 325/ 600 | Trn loss:  0.000111 - Acc: 100.0000 | Val loss:  1.983763 - Acc: 83.1481 | last_lr: 3.12500e-05  bad_ep: 6  cdwn: 0                             \n",
      " 21:59:01 | Ep: 326/ 600 | Trn loss:  0.000108 - Acc: 100.0000 | Val loss:  1.987896 - Acc: 83.1250 | last_lr: 3.12500e-05  bad_ep: 7  cdwn: 0                             \n",
      " 21:59:15 | Ep: 327/ 600 | Trn loss:  0.000105 - Acc: 100.0000 | Val loss:  1.992137 - Acc: 83.1250 | last_lr: 3.12500e-05  bad_ep: 8  cdwn: 0                             \n",
      " 21:59:29 | Ep: 328/ 600 | Trn loss:  0.000103 - Acc: 100.0000 | Val loss:  1.996466 - Acc: 83.1111 | last_lr: 3.12500e-05  bad_ep: 9  cdwn: 0                             \n",
      " 21:59:44 | Ep: 329/ 600 | Trn loss:  0.000100 - Acc: 100.0000 | Val loss:  2.000869 - Acc: 83.1296 | last_lr: 3.12500e-05  bad_ep: 10  cdwn: 0                            \n",
      " 21:59:58 | Ep: 330/ 600 | Trn loss:  0.000097 - Acc: 100.0000 | Val loss:  2.005335 - Acc: 83.1343 | last_lr: 3.12500e-05  bad_ep: 11  cdwn: 0                            \n",
      " 22:00:12 | Ep: 331/ 600 | Trn loss:  0.000095 - Acc: 100.0000 | Val loss:  2.009854 - Acc: 83.1435 | last_lr: 3.12500e-05  bad_ep: 12  cdwn: 0                            \n",
      " 22:00:27 | Ep: 332/ 600 | Trn loss:  0.000093 - Acc: 100.0000 | Val loss:  2.014418 - Acc: 83.1574 | last_lr: 3.12500e-05  bad_ep: 13  cdwn: 0                            \n",
      " 22:00:41 | Ep: 333/ 600 | Trn loss:  0.000090 - Acc: 100.0000 | Val loss:  2.019023 - Acc: 83.1852 | last_lr: 3.12500e-05  bad_ep: 14  cdwn: 0                            \n",
      " 22:00:55 | Ep: 334/ 600 | Trn loss:  0.000088 - Acc: 100.0000 | Val loss:  2.023666 - Acc: 83.1713 | last_lr: 3.12500e-05  bad_ep: 15  cdwn: 0                            \n",
      " 22:01:10 | Ep: 335/ 600 | Trn loss:  0.000086 - Acc: 100.0000 | Val loss:  2.028341 - Acc: 83.1852 | last_lr: 3.12500e-05  bad_ep: 16  cdwn: 0                            \n",
      " 22:01:25 | Ep: 336/ 600 | Trn loss:  0.000084 - Acc: 100.0000 | Val loss:  2.033047 - Acc: 83.1806 | last_lr: 3.12500e-05  bad_ep: 17  cdwn: 0                            \n",
      " 22:01:40 | Ep: 337/ 600 | Trn loss:  0.000081 - Acc: 100.0000 | Val loss:  2.037781 - Acc: 83.1806 | last_lr: 3.12500e-05  bad_ep: 18  cdwn: 0                            \n",
      " 22:01:55 | Ep: 338/ 600 | Trn loss:  0.000079 - Acc: 100.0000 | Val loss:  2.042543 - Acc: 83.1759 | last_lr: 3.12500e-05  bad_ep: 19  cdwn: 0                            \n",
      " 22:02:09 | Ep: 339/ 600 | Trn loss:  0.000077 - Acc: 100.0000 | Val loss:  2.047329 - Acc: 83.1713 | last_lr: 3.12500e-05  bad_ep: 20  cdwn: 0                            \n",
      " 22:02:24 | Ep: 340/ 600 | Trn loss:  0.000075 - Acc: 100.0000 | Val loss:  2.052140 - Acc: 83.2037 | last_lr: 3.12500e-05  bad_ep: 21  cdwn: 0                            \n",
      " 22:02:39 | Ep: 341/ 600 | Trn loss:  0.000073 - Acc: 100.0000 | Val loss:  2.056974 - Acc: 83.2176 | last_lr: 3.12500e-05  bad_ep: 22  cdwn: 0                            \n",
      " 22:02:54 | Ep: 342/ 600 | Trn loss:  0.000071 - Acc: 100.0000 | Val loss:  2.061830 - Acc: 83.2222 | last_lr: 3.12500e-05  bad_ep: 23  cdwn: 0                            \n",
      " 22:03:09 | Ep: 343/ 600 | Trn loss:  0.000070 - Acc: 100.0000 | Val loss:  2.066706 - Acc: 83.2176 | last_lr: 3.12500e-05  bad_ep: 24  cdwn: 0                            \n",
      " 22:03:24 | Ep: 344/ 600 | Trn loss:  0.000068 - Acc: 100.0000 | Val loss:  2.071604 - Acc: 83.2130 | last_lr: 3.12500e-05  bad_ep: 25  cdwn: 0                            \n",
      " 22:03:39 | Ep: 345/ 600 | Trn loss:  0.000066 - Acc: 100.0000 | Val loss:  2.076521 - Acc: 83.2037 | last_lr: 3.12500e-05  bad_ep: 26  cdwn: 0                            \n",
      " 22:03:54 | Ep: 346/ 600 | Trn loss:  0.000064 - Acc: 100.0000 | Val loss:  2.081457 - Acc: 83.2130 | last_lr: 3.12500e-05  bad_ep: 27  cdwn: 0                            \n",
      " 22:04:09 | Ep: 347/ 600 | Trn loss:  0.000063 - Acc: 100.0000 | Val loss:  2.086411 - Acc: 83.2222 | last_lr: 3.12500e-05  bad_ep: 28  cdwn: 0                            \n",
      " 22:04:24 | Ep: 348/ 600 | Trn loss:  0.000061 - Acc: 100.0000 | Val loss:  2.091386 - Acc: 83.2315 | last_lr: 3.12500e-05  bad_ep: 29  cdwn: 0                            \n",
      " 22:04:39 | Ep: 349/ 600 | Trn loss:  0.000059 - Acc: 100.0000 | Val loss:  2.096376 - Acc: 83.2407 | last_lr: 3.12500e-05  bad_ep: 30  cdwn: 0                            \n",
      " 22:04:54 | Ep: 350/ 600 | Trn loss:  0.000058 - Acc: 100.0000 | Val loss:  2.101384 - Acc: 83.2407 | last_lr: 3.12500e-05  bad_ep: 31  cdwn: 0                            \n",
      " 22:05:09 | Ep: 351/ 600 | Trn loss:  0.000056 - Acc: 100.0000 | Val loss:  2.106407 - Acc: 83.2407 | last_lr: 3.12500e-05  bad_ep: 32  cdwn: 0                            \n",
      " 22:05:23 | Ep: 352/ 600 | Trn loss:  0.000055 - Acc: 100.0000 | Val loss:  2.111446 - Acc: 83.2546 | last_lr: 3.12500e-05  bad_ep: 33  cdwn: 0                            \n",
      " 22:05:38 | Ep: 353/ 600 | Trn loss:  0.000054 - Acc: 100.0000 | Val loss:  2.116500 - Acc: 83.2593 | last_lr: 3.12500e-05  bad_ep: 34  cdwn: 0                            \n",
      " 22:05:52 | Ep: 354/ 600 | Trn loss:  0.000052 - Acc: 100.0000 | Val loss:  2.121569 - Acc: 83.2546 | last_lr: 3.12500e-05  bad_ep: 35  cdwn: 0                            \n",
      " 22:06:06 | Ep: 355/ 600 | Trn loss:  0.000051 - Acc: 100.0000 | Val loss:  2.126652 - Acc: 83.2454 | last_lr: 3.12500e-05  bad_ep: 36  cdwn: 0                            \n",
      " 22:06:21 | Ep: 356/ 600 | Trn loss:  0.000049 - Acc: 100.0000 | Val loss:  2.131748 - Acc: 83.2407 | last_lr: 3.12500e-05  bad_ep: 37  cdwn: 0                            \n",
      " 22:06:35 | Ep: 357/ 600 | Trn loss:  0.000048 - Acc: 100.0000 | Val loss:  2.136858 - Acc: 83.2315 | last_lr: 3.12500e-05  bad_ep: 38  cdwn: 0                            \n",
      " 22:06:50 | Ep: 358/ 600 | Trn loss:  0.000047 - Acc: 100.0000 | Val loss:  2.141980 - Acc: 83.2269 | last_lr: 3.12500e-05  bad_ep: 39  cdwn: 0                            \n",
      " 22:07:04 | Ep: 359/ 600 | Trn loss:  0.000046 - Acc: 100.0000 | Val loss:  2.147115 - Acc: 83.2269 | last_lr: 3.12500e-05  bad_ep: 40  cdwn: 0                            \n",
      " 22:07:19 | Ep: 360/ 600 | Trn loss:  0.000044 - Acc: 100.0000 | Val loss:  2.152260 - Acc: 83.2407 | last_lr: 3.12500e-05  bad_ep: 41  cdwn: 0                            \n",
      " 22:07:34 | Ep: 361/ 600 | Trn loss:  0.000043 - Acc: 100.0000 | Val loss:  2.157417 - Acc: 83.2361 | last_lr: 3.12500e-05  bad_ep: 42  cdwn: 0                            \n",
      " 22:07:49 | Ep: 362/ 600 | Trn loss:  0.000042 - Acc: 100.0000 | Val loss:  2.162584 - Acc: 83.2407 | last_lr: 3.12500e-05  bad_ep: 43  cdwn: 0                            \n",
      " 22:08:04 | Ep: 363/ 600 | Trn loss:  0.000041 - Acc: 100.0000 | Val loss:  2.167761 - Acc: 83.2315 | last_lr: 3.12500e-05  bad_ep: 44  cdwn: 0                            \n",
      " 22:08:19 | Ep: 364/ 600 | Trn loss:  0.000040 - Acc: 100.0000 | Val loss:  2.172947 - Acc: 83.2361 | last_lr: 3.12500e-05  bad_ep: 45  cdwn: 0                            \n",
      " 22:08:33 | Ep: 365/ 600 | Trn loss:  0.000039 - Acc: 100.0000 | Val loss:  2.178144 - Acc: 83.2269 | last_lr: 3.12500e-05  bad_ep: 46  cdwn: 0                            \n",
      " 22:08:48 | Ep: 366/ 600 | Trn loss:  0.000038 - Acc: 100.0000 | Val loss:  2.183350 - Acc: 83.2269 | last_lr: 3.12500e-05  bad_ep: 47  cdwn: 0                            \n",
      " 22:09:03 | Ep: 367/ 600 | Trn loss:  0.000037 - Acc: 100.0000 | Val loss:  2.188563 - Acc: 83.2222 | last_lr: 3.12500e-05  bad_ep: 48  cdwn: 0                            \n",
      " 22:09:17 | Ep: 368/ 600 | Trn loss:  0.000036 - Acc: 100.0000 | Val loss:  2.193785 - Acc: 83.2315 | last_lr: 3.12500e-05  bad_ep: 49  cdwn: 0                            \n",
      " 22:09:32 | Ep: 369/ 600 | Trn loss:  0.000035 - Acc: 100.0000 | Val loss:  2.199014 - Acc: 83.2269 | last_lr: 3.12500e-05  bad_ep: 50  cdwn: 0                            \n",
      " 22:09:46 | Ep: 370/ 600 | Trn loss:  0.000034 - Acc: 100.0000 | Val loss:  2.204254 - Acc: 83.2269 | last_lr: 1.56250e-05  bad_ep: 0  cdwn: 10                            \n",
      " 22:10:01 | Ep: 371/ 600 | Trn loss:  0.000039 - Acc: 100.0000 | Val loss:  2.212916 - Acc: 83.2454 | last_lr: 1.56250e-05  bad_ep: 0  cdwn: 9                             \n",
      " 22:10:16 | Ep: 372/ 600 | Trn loss:  0.000039 - Acc: 100.0000 | Val loss:  2.219526 - Acc: 83.3009 | last_lr: 1.56250e-05  bad_ep: 0  cdwn: 8                             \n",
      " 22:10:31 | Ep: 373/ 600 | Trn loss:  0.000039 - Acc: 100.0000 | Val loss:  2.223682 - Acc: 83.3287 | last_lr: 1.56250e-05  bad_ep: 0  cdwn: 7                             \n",
      " 22:10:46 | Ep: 374/ 600 | Trn loss:  0.000039 - Acc: 100.0000 | Val loss:  2.225803 - Acc: 83.3194 | last_lr: 1.56250e-05  bad_ep: 0  cdwn: 6                             \n",
      " 22:11:00 | Ep: 375/ 600 | Trn loss:  0.000039 - Acc: 100.0000 | Val loss:  2.226787 - Acc: 83.3472 | last_lr: 1.56250e-05  bad_ep: 0  cdwn: 5                             \n",
      " 22:11:15 | Ep: 376/ 600 | Trn loss:  0.000039 - Acc: 100.0000 | Val loss:  2.227414 - Acc: 83.2963 | last_lr: 1.56250e-05  bad_ep: 0  cdwn: 4                             \n",
      " 22:11:30 | Ep: 377/ 600 | Trn loss:  0.000039 - Acc: 100.0000 | Val loss:  2.228157 - Acc: 83.2963 | last_lr: 1.56250e-05  bad_ep: 0  cdwn: 3                             \n",
      " 22:11:45 | Ep: 378/ 600 | Trn loss:  0.000038 - Acc: 100.0000 | Val loss:  2.229246 - Acc: 83.2639 | last_lr: 1.56250e-05  bad_ep: 0  cdwn: 2                             \n",
      " 22:12:00 | Ep: 379/ 600 | Trn loss:  0.000038 - Acc: 100.0000 | Val loss:  2.230752 - Acc: 83.2593 | last_lr: 1.56250e-05  bad_ep: 0  cdwn: 1                             \n",
      " 22:12:15 | Ep: 380/ 600 | Trn loss:  0.000037 - Acc: 100.0000 | Val loss:  2.232616 - Acc: 83.2176 | last_lr: 1.56250e-05  bad_ep: 0  cdwn: 0                             \n",
      " 22:12:30 | Ep: 381/ 600 | Trn loss:  0.000037 - Acc: 100.0000 | Val loss:  2.234699 - Acc: 83.2130 | last_lr: 1.56250e-05  bad_ep: 1  cdwn: 0                             \n",
      " 22:12:45 | Ep: 382/ 600 | Trn loss:  0.000037 - Acc: 100.0000 | Val loss:  2.236837 - Acc: 83.2083 | last_lr: 1.56250e-05  bad_ep: 2  cdwn: 0                             \n",
      " 22:12:59 | Ep: 383/ 600 | Trn loss:  0.000036 - Acc: 100.0000 | Val loss:  2.238891 - Acc: 83.1852 | last_lr: 1.56250e-05  bad_ep: 3  cdwn: 0                             \n",
      " 22:13:14 | Ep: 384/ 600 | Trn loss:  0.000036 - Acc: 100.0000 | Val loss:  2.240776 - Acc: 83.1667 | last_lr: 1.56250e-05  bad_ep: 4  cdwn: 0                             \n",
      " 22:13:28 | Ep: 385/ 600 | Trn loss:  0.000035 - Acc: 100.0000 | Val loss:  2.242464 - Acc: 83.1667 | last_lr: 1.56250e-05  bad_ep: 5  cdwn: 0                             \n",
      " 22:13:42 | Ep: 386/ 600 | Trn loss:  0.000035 - Acc: 100.0000 | Val loss:  2.243967 - Acc: 83.1389 | last_lr: 1.56250e-05  bad_ep: 6  cdwn: 0                             \n",
      " 22:13:58 | Ep: 387/ 600 | Trn loss:  0.000034 - Acc: 100.0000 | Val loss:  2.245325 - Acc: 83.1296 | last_lr: 1.56250e-05  bad_ep: 7  cdwn: 0                             \n",
      " 22:14:13 | Ep: 388/ 600 | Trn loss:  0.000034 - Acc: 100.0000 | Val loss:  2.246584 - Acc: 83.1204 | last_lr: 1.56250e-05  bad_ep: 8  cdwn: 0                             \n",
      " 22:14:27 | Ep: 389/ 600 | Trn loss:  0.000033 - Acc: 100.0000 | Val loss:  2.247790 - Acc: 83.0648 | last_lr: 1.56250e-05  bad_ep: 9  cdwn: 0                             \n",
      " 22:14:42 | Ep: 390/ 600 | Trn loss:  0.000033 - Acc: 100.0000 | Val loss:  2.248981 - Acc: 83.0324 | last_lr: 1.56250e-05  bad_ep: 10  cdwn: 0                            \n",
      " 22:14:57 | Ep: 391/ 600 | Trn loss:  0.000032 - Acc: 100.0000 | Val loss:  2.250190 - Acc: 82.9907 | last_lr: 1.56250e-05  bad_ep: 11  cdwn: 0                            \n",
      " 22:15:12 | Ep: 392/ 600 | Trn loss:  0.000032 - Acc: 100.0000 | Val loss:  2.251437 - Acc: 82.9769 | last_lr: 1.56250e-05  bad_ep: 12  cdwn: 0                            \n",
      " 22:15:27 | Ep: 393/ 600 | Trn loss:  0.000031 - Acc: 100.0000 | Val loss:  2.252739 - Acc: 82.9583 | last_lr: 1.56250e-05  bad_ep: 13  cdwn: 0                            \n",
      " 22:15:42 | Ep: 394/ 600 | Trn loss:  0.000031 - Acc: 100.0000 | Val loss:  2.254107 - Acc: 82.9444 | last_lr: 1.56250e-05  bad_ep: 14  cdwn: 0                            \n",
      " 22:15:56 | Ep: 395/ 600 | Trn loss:  0.000030 - Acc: 100.0000 | Val loss:  2.255543 - Acc: 82.9306 | last_lr: 1.56250e-05  bad_ep: 15  cdwn: 0                            \n",
      " 22:16:11 | Ep: 396/ 600 | Trn loss:  0.000030 - Acc: 100.0000 | Val loss:  2.257049 - Acc: 82.9213 | last_lr: 1.56250e-05  bad_ep: 16  cdwn: 0                            \n",
      " 22:16:26 | Ep: 397/ 600 | Trn loss:  0.000029 - Acc: 100.0000 | Val loss:  2.258625 - Acc: 82.9120 | last_lr: 1.56250e-05  bad_ep: 17  cdwn: 0                            \n",
      " 22:16:40 | Ep: 398/ 600 | Trn loss:  0.000029 - Acc: 100.0000 | Val loss:  2.260269 - Acc: 82.8750 | last_lr: 1.56250e-05  bad_ep: 18  cdwn: 0                            \n",
      " 22:16:55 | Ep: 399/ 600 | Trn loss:  0.000028 - Acc: 100.0000 | Val loss:  2.261977 - Acc: 82.8565 | last_lr: 1.56250e-05  bad_ep: 19  cdwn: 0                            \n",
      "                                                                                                                                                                           "
     ]
    },
    {
     "name": "stderr",
     "output_type": "stream",
     "text": [
      "2024-10-02 22:17:09,993 - utils.utils_cellpainting - INFO: -  Model exported to NN_base_embd600_150Ltnt_512_20240923_1943_BEST_20241002_2000_ep_400.pt - epoch: 400\n"
     ]
    },
    {
     "name": "stdout",
     "output_type": "stream",
     "text": [
      " 22:17:09 | Ep: 400/ 600 | Trn loss:  0.000028 - Acc: 100.0000 | Val loss:  2.263745 - Acc: 82.8565 | last_lr: 1.56250e-05  bad_ep: 20  cdwn: 0 \n",
      " 22:17:24 | Ep: 401/ 600 | Trn loss:  0.000027 - Acc: 100.0000 | Val loss:  2.265568 - Acc: 82.8611 | last_lr: 1.56250e-05  bad_ep: 21  cdwn: 0                            \n",
      " 22:17:39 | Ep: 402/ 600 | Trn loss:  0.000027 - Acc: 100.0000 | Val loss:  2.267444 - Acc: 82.8657 | last_lr: 1.56250e-05  bad_ep: 22  cdwn: 0                            \n",
      " 22:17:53 | Ep: 403/ 600 | Trn loss:  0.000026 - Acc: 100.0000 | Val loss:  2.269366 - Acc: 82.8750 | last_lr: 1.56250e-05  bad_ep: 23  cdwn: 0                            \n",
      " 22:18:08 | Ep: 404/ 600 | Trn loss:  0.000026 - Acc: 100.0000 | Val loss:  2.271333 - Acc: 82.8519 | last_lr: 1.56250e-05  bad_ep: 24  cdwn: 0                            \n",
      " 22:18:22 | Ep: 405/ 600 | Trn loss:  0.000026 - Acc: 100.0000 | Val loss:  2.273339 - Acc: 82.8472 | last_lr: 1.56250e-05  bad_ep: 25  cdwn: 0                            \n",
      " 22:18:37 | Ep: 406/ 600 | Trn loss:  0.000025 - Acc: 100.0000 | Val loss:  2.275383 - Acc: 82.8426 | last_lr: 1.56250e-05  bad_ep: 26  cdwn: 0                            \n",
      " 22:18:51 | Ep: 407/ 600 | Trn loss:  0.000025 - Acc: 100.0000 | Val loss:  2.277461 - Acc: 82.8519 | last_lr: 1.56250e-05  bad_ep: 27  cdwn: 0                            \n",
      " 22:19:05 | Ep: 408/ 600 | Trn loss:  0.000024 - Acc: 100.0000 | Val loss:  2.279572 - Acc: 82.8472 | last_lr: 1.56250e-05  bad_ep: 28  cdwn: 0                            \n",
      " 22:19:19 | Ep: 409/ 600 | Trn loss:  0.000024 - Acc: 100.0000 | Val loss:  2.281711 - Acc: 82.8519 | last_lr: 1.56250e-05  bad_ep: 29  cdwn: 0                            \n",
      " 22:19:33 | Ep: 410/ 600 | Trn loss:  0.000024 - Acc: 100.0000 | Val loss:  2.283878 - Acc: 82.8519 | last_lr: 1.56250e-05  bad_ep: 30  cdwn: 0                            \n",
      " 22:19:46 | Ep: 411/ 600 | Trn loss:  0.000023 - Acc: 100.0000 | Val loss:  2.286071 - Acc: 82.8565 | last_lr: 1.56250e-05  bad_ep: 31  cdwn: 0                            \n",
      " 22:20:00 | Ep: 412/ 600 | Trn loss:  0.000023 - Acc: 100.0000 | Val loss:  2.288287 - Acc: 82.8519 | last_lr: 1.56250e-05  bad_ep: 32  cdwn: 0                            \n",
      " 22:20:13 | Ep: 413/ 600 | Trn loss:  0.000023 - Acc: 100.0000 | Val loss:  2.290527 - Acc: 82.8611 | last_lr: 1.56250e-05  bad_ep: 33  cdwn: 0                            \n",
      " 22:20:27 | Ep: 414/ 600 | Trn loss:  0.000022 - Acc: 100.0000 | Val loss:  2.292789 - Acc: 82.8565 | last_lr: 1.56250e-05  bad_ep: 34  cdwn: 0                            \n",
      " 22:20:40 | Ep: 415/ 600 | Trn loss:  0.000022 - Acc: 100.0000 | Val loss:  2.295073 - Acc: 82.8426 | last_lr: 1.56250e-05  bad_ep: 35  cdwn: 0                            \n",
      " 22:20:54 | Ep: 416/ 600 | Trn loss:  0.000022 - Acc: 100.0000 | Val loss:  2.297376 - Acc: 82.8426 | last_lr: 1.56250e-05  bad_ep: 36  cdwn: 0                            \n",
      " 22:21:07 | Ep: 417/ 600 | Trn loss:  0.000021 - Acc: 100.0000 | Val loss:  2.299699 - Acc: 82.8287 | last_lr: 1.56250e-05  bad_ep: 37  cdwn: 0                            \n",
      " 22:21:21 | Ep: 418/ 600 | Trn loss:  0.000021 - Acc: 100.0000 | Val loss:  2.302041 - Acc: 82.8194 | last_lr: 1.56250e-05  bad_ep: 38  cdwn: 0                            \n",
      " 22:21:35 | Ep: 419/ 600 | Trn loss:  0.000021 - Acc: 100.0000 | Val loss:  2.304400 - Acc: 82.8287 | last_lr: 1.56250e-05  bad_ep: 39  cdwn: 0                            \n",
      " 22:21:48 | Ep: 420/ 600 | Trn loss:  0.000020 - Acc: 100.0000 | Val loss:  2.306777 - Acc: 82.8426 | last_lr: 1.56250e-05  bad_ep: 40  cdwn: 0                            \n",
      " 22:22:02 | Ep: 421/ 600 | Trn loss:  0.000020 - Acc: 100.0000 | Val loss:  2.309171 - Acc: 82.8426 | last_lr: 1.56250e-05  bad_ep: 41  cdwn: 0                            \n",
      " 22:22:15 | Ep: 422/ 600 | Trn loss:  0.000020 - Acc: 100.0000 | Val loss:  2.311581 - Acc: 82.8380 | last_lr: 1.56250e-05  bad_ep: 42  cdwn: 0                            \n",
      " 22:22:29 | Ep: 423/ 600 | Trn loss:  0.000019 - Acc: 100.0000 | Val loss:  2.314009 - Acc: 82.8380 | last_lr: 1.56250e-05  bad_ep: 43  cdwn: 0                            \n",
      " 22:22:42 | Ep: 424/ 600 | Trn loss:  0.000019 - Acc: 100.0000 | Val loss:  2.316452 - Acc: 82.8194 | last_lr: 1.56250e-05  bad_ep: 44  cdwn: 0                            \n",
      " 22:22:56 | Ep: 425/ 600 | Trn loss:  0.000019 - Acc: 100.0000 | Val loss:  2.318909 - Acc: 82.8426 | last_lr: 1.56250e-05  bad_ep: 45  cdwn: 0                            \n",
      " 22:23:09 | Ep: 426/ 600 | Trn loss:  0.000019 - Acc: 100.0000 | Val loss:  2.321383 - Acc: 82.8472 | last_lr: 1.56250e-05  bad_ep: 46  cdwn: 0                            \n",
      " 22:23:23 | Ep: 427/ 600 | Trn loss:  0.000018 - Acc: 100.0000 | Val loss:  2.323871 - Acc: 82.8472 | last_lr: 1.56250e-05  bad_ep: 47  cdwn: 0                            \n",
      " 22:23:36 | Ep: 428/ 600 | Trn loss:  0.000018 - Acc: 100.0000 | Val loss:  2.326373 - Acc: 82.8519 | last_lr: 1.56250e-05  bad_ep: 48  cdwn: 0                            \n",
      " 22:23:50 | Ep: 429/ 600 | Trn loss:  0.000018 - Acc: 100.0000 | Val loss:  2.328890 - Acc: 82.8519 | last_lr: 1.56250e-05  bad_ep: 49  cdwn: 0                            \n",
      " 22:24:03 | Ep: 430/ 600 | Trn loss:  0.000017 - Acc: 100.0000 | Val loss:  2.331421 - Acc: 82.8565 | last_lr: 1.56250e-05  bad_ep: 50  cdwn: 0                            \n",
      " 22:24:17 | Ep: 431/ 600 | Trn loss:  0.000017 - Acc: 100.0000 | Val loss:  2.333964 - Acc: 82.8750 | last_lr: 7.81250e-06  bad_ep: 0  cdwn: 10                            \n",
      " 22:24:30 | Ep: 432/ 600 | Trn loss:  0.000020 - Acc: 100.0000 | Val loss:  2.340275 - Acc: 82.8796 | last_lr: 7.81250e-06  bad_ep: 0  cdwn: 9                             \n",
      " 22:24:44 | Ep: 433/ 600 | Trn loss:  0.000020 - Acc: 100.0000 | Val loss:  2.345843 - Acc: 83.0046 | last_lr: 7.81250e-06  bad_ep: 0  cdwn: 8                             \n",
      " 22:24:57 | Ep: 434/ 600 | Trn loss:  0.000020 - Acc: 100.0000 | Val loss:  2.351674 - Acc: 83.1343 | last_lr: 7.81250e-06  bad_ep: 0  cdwn: 7                             \n",
      " 22:25:11 | Ep: 435/ 600 | Trn loss:  0.000020 - Acc: 100.0000 | Val loss:  2.357188 - Acc: 83.2222 | last_lr: 7.81250e-06  bad_ep: 0  cdwn: 6                             \n",
      " 22:25:24 | Ep: 436/ 600 | Trn loss:  0.000020 - Acc: 100.0000 | Val loss:  2.361874 - Acc: 83.3426 | last_lr: 7.81250e-06  bad_ep: 0  cdwn: 5                             \n",
      " 22:25:38 | Ep: 437/ 600 | Trn loss:  0.000020 - Acc: 100.0000 | Val loss:  2.365421 - Acc: 83.4074 | last_lr: 7.81250e-06  bad_ep: 0  cdwn: 4                             \n",
      " 22:25:51 | Ep: 438/ 600 | Trn loss:  0.000020 - Acc: 100.0000 | Val loss:  2.367795 - Acc: 83.4120 | last_lr: 7.81250e-06  bad_ep: 0  cdwn: 3                             \n",
      " 22:26:05 | Ep: 439/ 600 | Trn loss:  0.000020 - Acc: 100.0000 | Val loss:  2.369180 - Acc: 83.4444 | last_lr: 7.81250e-06  bad_ep: 0  cdwn: 2                             \n",
      " 22:26:18 | Ep: 440/ 600 | Trn loss:  0.000019 - Acc: 100.0000 | Val loss:  2.369848 - Acc: 83.4537 | last_lr: 7.81250e-06  bad_ep: 0  cdwn: 1                             \n",
      " 22:26:32 | Ep: 441/ 600 | Trn loss:  0.000019 - Acc: 100.0000 | Val loss:  2.370072 - Acc: 83.4398 | last_lr: 7.81250e-06  bad_ep: 0  cdwn: 0                             \n",
      " 22:26:45 | Ep: 442/ 600 | Trn loss:  0.000019 - Acc: 100.0000 | Val loss:  2.370064 - Acc: 83.4352 | last_lr: 7.81250e-06  bad_ep: 1  cdwn: 0                             \n",
      " 22:26:59 | Ep: 443/ 600 | Trn loss:  0.000019 - Acc: 100.0000 | Val loss:  2.369969 - Acc: 83.4259 | last_lr: 7.81250e-06  bad_ep: 2  cdwn: 0                             \n",
      " 22:27:12 | Ep: 444/ 600 | Trn loss:  0.000018 - Acc: 100.0000 | Val loss:  2.369878 - Acc: 83.4213 | last_lr: 7.81250e-06  bad_ep: 3  cdwn: 0                             \n",
      " 22:27:26 | Ep: 445/ 600 | Trn loss:  0.000018 - Acc: 100.0000 | Val loss:  2.369838 - Acc: 83.4120 | last_lr: 7.81250e-06  bad_ep: 4  cdwn: 0                             \n",
      " 22:27:39 | Ep: 446/ 600 | Trn loss:  0.000018 - Acc: 100.0000 | Val loss:  2.369877 - Acc: 83.4120 | last_lr: 7.81250e-06  bad_ep: 5  cdwn: 0                             \n",
      " 22:27:53 | Ep: 447/ 600 | Trn loss:  0.000018 - Acc: 100.0000 | Val loss:  2.370002 - Acc: 83.3981 | last_lr: 7.81250e-06  bad_ep: 6  cdwn: 0                             \n",
      " 22:28:07 | Ep: 448/ 600 | Trn loss:  0.000018 - Acc: 100.0000 | Val loss:  2.370214 - Acc: 83.3796 | last_lr: 7.81250e-06  bad_ep: 7  cdwn: 0                             \n",
      " 22:28:20 | Ep: 449/ 600 | Trn loss:  0.000017 - Acc: 100.0000 | Val loss:  2.370511 - Acc: 83.3704 | last_lr: 7.81250e-06  bad_ep: 8  cdwn: 0                             \n",
      " 22:28:34 | Ep: 450/ 600 | Trn loss:  0.000017 - Acc: 100.0000 | Val loss:  2.370887 - Acc: 83.3796 | last_lr: 7.81250e-06  bad_ep: 9  cdwn: 0                             \n",
      " 22:28:48 | Ep: 451/ 600 | Trn loss:  0.000017 - Acc: 100.0000 | Val loss:  2.371334 - Acc: 83.3704 | last_lr: 7.81250e-06  bad_ep: 10  cdwn: 0                            \n",
      " 22:29:01 | Ep: 452/ 600 | Trn loss:  0.000017 - Acc: 100.0000 | Val loss:  2.371847 - Acc: 83.3657 | last_lr: 7.81250e-06  bad_ep: 11  cdwn: 0                            \n",
      " 22:29:15 | Ep: 453/ 600 | Trn loss:  0.000017 - Acc: 100.0000 | Val loss:  2.372419 - Acc: 83.3380 | last_lr: 7.81250e-06  bad_ep: 12  cdwn: 0                            \n",
      " 22:29:29 | Ep: 454/ 600 | Trn loss:  0.000016 - Acc: 100.0000 | Val loss:  2.373043 - Acc: 83.3426 | last_lr: 7.81250e-06  bad_ep: 13  cdwn: 0                            \n",
      " 22:29:42 | Ep: 455/ 600 | Trn loss:  0.000016 - Acc: 100.0000 | Val loss:  2.373715 - Acc: 83.3333 | last_lr: 7.81250e-06  bad_ep: 14  cdwn: 0                            \n",
      " 22:29:56 | Ep: 456/ 600 | Trn loss:  0.000016 - Acc: 100.0000 | Val loss:  2.374430 - Acc: 83.3380 | last_lr: 7.81250e-06  bad_ep: 15  cdwn: 0                            \n",
      " 22:30:10 | Ep: 457/ 600 | Trn loss:  0.000016 - Acc: 100.0000 | Val loss:  2.375183 - Acc: 83.3426 | last_lr: 7.81250e-06  bad_ep: 16  cdwn: 0                            \n",
      " 22:30:23 | Ep: 458/ 600 | Trn loss:  0.000016 - Acc: 100.0000 | Val loss:  2.375973 - Acc: 83.3426 | last_lr: 7.81250e-06  bad_ep: 17  cdwn: 0                            \n",
      " 22:30:37 | Ep: 459/ 600 | Trn loss:  0.000015 - Acc: 100.0000 | Val loss:  2.376796 - Acc: 83.3287 | last_lr: 7.81250e-06  bad_ep: 18  cdwn: 0                            \n",
      " 22:30:51 | Ep: 460/ 600 | Trn loss:  0.000015 - Acc: 100.0000 | Val loss:  2.377648 - Acc: 83.3194 | last_lr: 7.81250e-06  bad_ep: 19  cdwn: 0                            \n",
      " 22:31:05 | Ep: 461/ 600 | Trn loss:  0.000015 - Acc: 100.0000 | Val loss:  2.378526 - Acc: 83.3009 | last_lr: 7.81250e-06  bad_ep: 20  cdwn: 0                            \n",
      " 22:31:18 | Ep: 462/ 600 | Trn loss:  0.000015 - Acc: 100.0000 | Val loss:  2.379431 - Acc: 83.2917 | last_lr: 7.81250e-06  bad_ep: 21  cdwn: 0                            \n",
      " 22:31:32 | Ep: 463/ 600 | Trn loss:  0.000015 - Acc: 100.0000 | Val loss:  2.380360 - Acc: 83.2917 | last_lr: 7.81250e-06  bad_ep: 22  cdwn: 0                            \n",
      " 22:31:46 | Ep: 464/ 600 | Trn loss:  0.000015 - Acc: 100.0000 | Val loss:  2.381311 - Acc: 83.2917 | last_lr: 7.81250e-06  bad_ep: 23  cdwn: 0                            \n",
      " 22:31:59 | Ep: 465/ 600 | Trn loss:  0.000015 - Acc: 100.0000 | Val loss:  2.382282 - Acc: 83.2963 | last_lr: 7.81250e-06  bad_ep: 24  cdwn: 0                            \n",
      " 22:32:13 | Ep: 466/ 600 | Trn loss:  0.000014 - Acc: 100.0000 | Val loss:  2.383275 - Acc: 83.2870 | last_lr: 7.81250e-06  bad_ep: 25  cdwn: 0                            \n",
      " 22:32:27 | Ep: 467/ 600 | Trn loss:  0.000014 - Acc: 100.0000 | Val loss:  2.384285 - Acc: 83.2824 | last_lr: 7.81250e-06  bad_ep: 26  cdwn: 0                            \n",
      " 22:32:40 | Ep: 468/ 600 | Trn loss:  0.000014 - Acc: 100.0000 | Val loss:  2.385315 - Acc: 83.2778 | last_lr: 7.81250e-06  bad_ep: 27  cdwn: 0                            \n",
      " 22:32:54 | Ep: 469/ 600 | Trn loss:  0.000014 - Acc: 100.0000 | Val loss:  2.386362 - Acc: 83.2778 | last_lr: 7.81250e-06  bad_ep: 28  cdwn: 0                            \n",
      " 22:33:07 | Ep: 470/ 600 | Trn loss:  0.000014 - Acc: 100.0000 | Val loss:  2.387422 - Acc: 83.2778 | last_lr: 7.81250e-06  bad_ep: 29  cdwn: 0                            \n",
      " 22:33:20 | Ep: 471/ 600 | Trn loss:  0.000014 - Acc: 100.0000 | Val loss:  2.388501 - Acc: 83.2731 | last_lr: 7.81250e-06  bad_ep: 30  cdwn: 0                            \n",
      " 22:33:34 | Ep: 472/ 600 | Trn loss:  0.000014 - Acc: 100.0000 | Val loss:  2.389593 - Acc: 83.2731 | last_lr: 7.81250e-06  bad_ep: 31  cdwn: 0                            \n",
      " 22:33:47 | Ep: 473/ 600 | Trn loss:  0.000014 - Acc: 100.0000 | Val loss:  2.390700 - Acc: 83.2685 | last_lr: 7.81250e-06  bad_ep: 32  cdwn: 0                            \n",
      " 22:34:01 | Ep: 474/ 600 | Trn loss:  0.000013 - Acc: 100.0000 | Val loss:  2.391821 - Acc: 83.2685 | last_lr: 7.81250e-06  bad_ep: 33  cdwn: 0                            \n",
      " 22:34:14 | Ep: 475/ 600 | Trn loss:  0.000013 - Acc: 100.0000 | Val loss:  2.392955 - Acc: 83.2685 | last_lr: 7.81250e-06  bad_ep: 34  cdwn: 0                            \n",
      " 22:34:27 | Ep: 476/ 600 | Trn loss:  0.000013 - Acc: 100.0000 | Val loss:  2.394100 - Acc: 83.2593 | last_lr: 7.81250e-06  bad_ep: 35  cdwn: 0                            \n",
      " 22:34:41 | Ep: 477/ 600 | Trn loss:  0.000013 - Acc: 100.0000 | Val loss:  2.395258 - Acc: 83.2639 | last_lr: 7.81250e-06  bad_ep: 36  cdwn: 0                            \n",
      " 22:34:54 | Ep: 478/ 600 | Trn loss:  0.000013 - Acc: 100.0000 | Val loss:  2.396429 - Acc: 83.2639 | last_lr: 7.81250e-06  bad_ep: 37  cdwn: 0                            \n",
      " 22:35:07 | Ep: 479/ 600 | Trn loss:  0.000013 - Acc: 100.0000 | Val loss:  2.397608 - Acc: 83.2639 | last_lr: 7.81250e-06  bad_ep: 38  cdwn: 0                            \n",
      " 22:35:21 | Ep: 480/ 600 | Trn loss:  0.000013 - Acc: 100.0000 | Val loss:  2.398801 - Acc: 83.2593 | last_lr: 7.81250e-06  bad_ep: 39  cdwn: 0                            \n",
      " 22:35:34 | Ep: 481/ 600 | Trn loss:  0.000013 - Acc: 100.0000 | Val loss:  2.400003 - Acc: 83.2546 | last_lr: 7.81250e-06  bad_ep: 40  cdwn: 0                            \n",
      " 22:35:48 | Ep: 482/ 600 | Trn loss:  0.000013 - Acc: 100.0000 | Val loss:  2.401216 - Acc: 83.2546 | last_lr: 7.81250e-06  bad_ep: 41  cdwn: 0                            \n",
      " 22:36:01 | Ep: 483/ 600 | Trn loss:  0.000012 - Acc: 100.0000 | Val loss:  2.402437 - Acc: 83.2593 | last_lr: 7.81250e-06  bad_ep: 42  cdwn: 0                            \n",
      " 22:36:14 | Ep: 484/ 600 | Trn loss:  0.000012 - Acc: 100.0000 | Val loss:  2.403668 - Acc: 83.2593 | last_lr: 7.81250e-06  bad_ep: 43  cdwn: 0                            \n",
      " 22:36:28 | Ep: 485/ 600 | Trn loss:  0.000012 - Acc: 100.0000 | Val loss:  2.404908 - Acc: 83.2546 | last_lr: 7.81250e-06  bad_ep: 44  cdwn: 0                            \n",
      " 22:36:41 | Ep: 486/ 600 | Trn loss:  0.000012 - Acc: 100.0000 | Val loss:  2.406154 - Acc: 83.2500 | last_lr: 7.81250e-06  bad_ep: 45  cdwn: 0                            \n",
      " 22:36:55 | Ep: 487/ 600 | Trn loss:  0.000012 - Acc: 100.0000 | Val loss:  2.407412 - Acc: 83.2500 | last_lr: 7.81250e-06  bad_ep: 46  cdwn: 0                            \n",
      " 22:37:08 | Ep: 488/ 600 | Trn loss:  0.000012 - Acc: 100.0000 | Val loss:  2.408676 - Acc: 83.2500 | last_lr: 7.81250e-06  bad_ep: 47  cdwn: 0                            \n",
      " 22:37:21 | Ep: 489/ 600 | Trn loss:  0.000012 - Acc: 100.0000 | Val loss:  2.409947 - Acc: 83.2500 | last_lr: 7.81250e-06  bad_ep: 48  cdwn: 0                            \n",
      " 22:37:35 | Ep: 490/ 600 | Trn loss:  0.000012 - Acc: 100.0000 | Val loss:  2.411224 - Acc: 83.2454 | last_lr: 7.81250e-06  bad_ep: 49  cdwn: 0                            \n",
      " 22:37:49 | Ep: 491/ 600 | Trn loss:  0.000012 - Acc: 100.0000 | Val loss:  2.412512 - Acc: 83.2500 | last_lr: 7.81250e-06  bad_ep: 50  cdwn: 0                            \n",
      " 22:38:02 | Ep: 492/ 600 | Trn loss:  0.000011 - Acc: 100.0000 | Val loss:  2.413804 - Acc: 83.2454 | last_lr: 3.90625e-06  bad_ep: 0  cdwn: 10                            \n",
      " 22:38:16 | Ep: 493/ 600 | Trn loss:  0.000012 - Acc: 100.0000 | Val loss:  2.406626 - Acc: 83.1389 | last_lr: 3.90625e-06  bad_ep: 0  cdwn: 9                             \n",
      " 22:38:30 | Ep: 494/ 600 | Trn loss:  0.000012 - Acc: 100.0000 | Val loss:  2.404624 - Acc: 83.1019 | last_lr: 3.90625e-06  bad_ep: 0  cdwn: 8                             \n",
      " 22:38:44 | Ep: 495/ 600 | Trn loss:  0.000012 - Acc: 100.0000 | Val loss:  2.403684 - Acc: 83.0602 | last_lr: 3.90625e-06  bad_ep: 0  cdwn: 7                             \n",
      " 22:38:57 | Ep: 496/ 600 | Trn loss:  0.000012 - Acc: 100.0000 | Val loss:  2.403244 - Acc: 83.0602 | last_lr: 3.90625e-06  bad_ep: 0  cdwn: 6                             \n",
      " 22:39:11 | Ep: 497/ 600 | Trn loss:  0.000012 - Acc: 100.0000 | Val loss:  2.403128 - Acc: 83.0370 | last_lr: 3.90625e-06  bad_ep: 0  cdwn: 5                             \n",
      " 22:39:25 | Ep: 498/ 600 | Trn loss:  0.000012 - Acc: 100.0000 | Val loss:  2.403225 - Acc: 83.0278 | last_lr: 3.90625e-06  bad_ep: 0  cdwn: 4                             \n",
      " 22:39:38 | Ep: 499/ 600 | Trn loss:  0.000012 - Acc: 100.0000 | Val loss:  2.403468 - Acc: 83.0324 | last_lr: 3.90625e-06  bad_ep: 0  cdwn: 3                             \n",
      "                                                                                                                                                                           "
     ]
    },
    {
     "name": "stderr",
     "output_type": "stream",
     "text": [
      "2024-10-02 22:39:52,429 - utils.utils_cellpainting - INFO: -  Model exported to NN_base_embd600_150Ltnt_512_20240923_1943_BEST_20241002_2000_ep_500.pt - epoch: 500\n"
     ]
    },
    {
     "name": "stdout",
     "output_type": "stream",
     "text": [
      " 22:39:52 | Ep: 500/ 600 | Trn loss:  0.000012 - Acc: 100.0000 | Val loss:  2.403816 - Acc: 83.0231 | last_lr: 3.90625e-06  bad_ep: 0  cdwn: 2 \n",
      " 22:40:06 | Ep: 501/ 600 | Trn loss:  0.000011 - Acc: 100.0000 | Val loss:  2.404238 - Acc: 83.0324 | last_lr: 3.90625e-06  bad_ep: 0  cdwn: 1                             \n",
      " 22:40:20 | Ep: 502/ 600 | Trn loss:  0.000011 - Acc: 100.0000 | Val loss:  2.404714 - Acc: 83.0417 | last_lr: 3.90625e-06  bad_ep: 0  cdwn: 0                             \n",
      " 22:40:33 | Ep: 503/ 600 | Trn loss:  0.000011 - Acc: 100.0000 | Val loss:  2.405233 - Acc: 83.0185 | last_lr: 3.90625e-06  bad_ep: 1  cdwn: 0                             \n",
      " 22:40:47 | Ep: 504/ 600 | Trn loss:  0.000011 - Acc: 100.0000 | Val loss:  2.405784 - Acc: 83.0231 | last_lr: 3.90625e-06  bad_ep: 2  cdwn: 0                             \n",
      " 22:41:01 | Ep: 505/ 600 | Trn loss:  0.000011 - Acc: 100.0000 | Val loss:  2.406361 - Acc: 83.0231 | last_lr: 3.90625e-06  bad_ep: 3  cdwn: 0                             \n",
      " 22:41:15 | Ep: 506/ 600 | Trn loss:  0.000011 - Acc: 100.0000 | Val loss:  2.406957 - Acc: 83.0278 | last_lr: 3.90625e-06  bad_ep: 4  cdwn: 0                             \n",
      " 22:41:28 | Ep: 507/ 600 | Trn loss:  0.000011 - Acc: 100.0000 | Val loss:  2.407571 - Acc: 83.0324 | last_lr: 3.90625e-06  bad_ep: 5  cdwn: 0                             \n",
      " 22:41:42 | Ep: 508/ 600 | Trn loss:  0.000011 - Acc: 100.0000 | Val loss:  2.408198 - Acc: 83.0370 | last_lr: 3.90625e-06  bad_ep: 6  cdwn: 0                             \n",
      " 22:41:56 | Ep: 509/ 600 | Trn loss:  0.000011 - Acc: 100.0000 | Val loss:  2.408836 - Acc: 83.0417 | last_lr: 3.90625e-06  bad_ep: 7  cdwn: 0                             \n",
      " 22:42:09 | Ep: 510/ 600 | Trn loss:  0.000011 - Acc: 100.0000 | Val loss:  2.409483 - Acc: 83.0370 | last_lr: 3.90625e-06  bad_ep: 8  cdwn: 0                             \n",
      " 22:42:23 | Ep: 511/ 600 | Trn loss:  0.000011 - Acc: 100.0000 | Val loss:  2.410139 - Acc: 83.0370 | last_lr: 3.90625e-06  bad_ep: 9  cdwn: 0                             \n",
      " 22:42:36 | Ep: 512/ 600 | Trn loss:  0.000011 - Acc: 100.0000 | Val loss:  2.410801 - Acc: 83.0417 | last_lr: 3.90625e-06  bad_ep: 10  cdwn: 0                            \n",
      " 22:42:50 | Ep: 513/ 600 | Trn loss:  0.000011 - Acc: 100.0000 | Val loss:  2.411469 - Acc: 83.0370 | last_lr: 3.90625e-06  bad_ep: 11  cdwn: 0                            \n",
      " 22:43:04 | Ep: 514/ 600 | Trn loss:  0.000011 - Acc: 100.0000 | Val loss:  2.412140 - Acc: 83.0417 | last_lr: 3.90625e-06  bad_ep: 12  cdwn: 0                            \n",
      " 22:43:18 | Ep: 515/ 600 | Trn loss:  0.000011 - Acc: 100.0000 | Val loss:  2.412817 - Acc: 83.0370 | last_lr: 3.90625e-06  bad_ep: 13  cdwn: 0                            \n",
      " 22:43:31 | Ep: 516/ 600 | Trn loss:  0.000010 - Acc: 100.0000 | Val loss:  2.413498 - Acc: 83.0417 | last_lr: 3.90625e-06  bad_ep: 14  cdwn: 0                            \n",
      " 22:43:45 | Ep: 517/ 600 | Trn loss:  0.000010 - Acc: 100.0000 | Val loss:  2.414183 - Acc: 83.0417 | last_lr: 3.90625e-06  bad_ep: 15  cdwn: 0                            \n",
      " 22:43:59 | Ep: 518/ 600 | Trn loss:  0.000010 - Acc: 100.0000 | Val loss:  2.414870 - Acc: 83.0417 | last_lr: 3.90625e-06  bad_ep: 16  cdwn: 0                            \n",
      " 22:44:13 | Ep: 519/ 600 | Trn loss:  0.000010 - Acc: 100.0000 | Val loss:  2.415561 - Acc: 83.0417 | last_lr: 3.90625e-06  bad_ep: 17  cdwn: 0                            \n",
      " 22:44:26 | Ep: 520/ 600 | Trn loss:  0.000010 - Acc: 100.0000 | Val loss:  2.416254 - Acc: 83.0370 | last_lr: 3.90625e-06  bad_ep: 18  cdwn: 0                            \n",
      " 22:44:40 | Ep: 521/ 600 | Trn loss:  0.000010 - Acc: 100.0000 | Val loss:  2.416950 - Acc: 83.0370 | last_lr: 3.90625e-06  bad_ep: 19  cdwn: 0                            \n",
      " 22:44:53 | Ep: 522/ 600 | Trn loss:  0.000010 - Acc: 100.0000 | Val loss:  2.417649 - Acc: 83.0370 | last_lr: 3.90625e-06  bad_ep: 20  cdwn: 0                            \n",
      " 22:45:07 | Ep: 523/ 600 | Trn loss:  0.000010 - Acc: 100.0000 | Val loss:  2.418349 - Acc: 83.0370 | last_lr: 3.90625e-06  bad_ep: 21  cdwn: 0                            \n",
      " 22:45:21 | Ep: 524/ 600 | Trn loss:  0.000010 - Acc: 100.0000 | Val loss:  2.419052 - Acc: 83.0370 | last_lr: 3.90625e-06  bad_ep: 22  cdwn: 0                            \n",
      " 22:45:34 | Ep: 525/ 600 | Trn loss:  0.000010 - Acc: 100.0000 | Val loss:  2.419757 - Acc: 83.0370 | last_lr: 3.90625e-06  bad_ep: 23  cdwn: 0                            \n",
      " 22:45:48 | Ep: 526/ 600 | Trn loss:  0.000010 - Acc: 100.0000 | Val loss:  2.420463 - Acc: 83.0417 | last_lr: 3.90625e-06  bad_ep: 24  cdwn: 0                            \n",
      " 22:46:01 | Ep: 527/ 600 | Trn loss:  0.000010 - Acc: 100.0000 | Val loss:  2.421171 - Acc: 83.0417 | last_lr: 3.90625e-06  bad_ep: 25  cdwn: 0                            \n",
      " 22:46:15 | Ep: 528/ 600 | Trn loss:  0.000010 - Acc: 100.0000 | Val loss:  2.421882 - Acc: 83.0463 | last_lr: 3.90625e-06  bad_ep: 26  cdwn: 0                            \n",
      " 22:46:29 | Ep: 529/ 600 | Trn loss:  0.000010 - Acc: 100.0000 | Val loss:  2.422595 - Acc: 83.0463 | last_lr: 3.90625e-06  bad_ep: 27  cdwn: 0                            \n",
      " 22:46:43 | Ep: 530/ 600 | Trn loss:  0.000010 - Acc: 100.0000 | Val loss:  2.423308 - Acc: 83.0509 | last_lr: 3.90625e-06  bad_ep: 28  cdwn: 0                            \n",
      " 22:46:56 | Ep: 531/ 600 | Trn loss:  0.000010 - Acc: 100.0000 | Val loss:  2.424024 - Acc: 83.0509 | last_lr: 3.90625e-06  bad_ep: 29  cdwn: 0                            \n",
      " 22:47:10 | Ep: 532/ 600 | Trn loss:  0.000010 - Acc: 100.0000 | Val loss:  2.424742 - Acc: 83.0509 | last_lr: 3.90625e-06  bad_ep: 30  cdwn: 0                            \n",
      " 22:47:24 | Ep: 533/ 600 | Trn loss:  0.000010 - Acc: 100.0000 | Val loss:  2.425461 - Acc: 83.0509 | last_lr: 3.90625e-06  bad_ep: 31  cdwn: 0                            \n",
      " 22:47:38 | Ep: 534/ 600 | Trn loss:  0.000010 - Acc: 100.0000 | Val loss:  2.426181 - Acc: 83.0463 | last_lr: 3.90625e-06  bad_ep: 32  cdwn: 0                            \n",
      " 22:47:52 | Ep: 535/ 600 | Trn loss:  0.000010 - Acc: 100.0000 | Val loss:  2.426904 - Acc: 83.0417 | last_lr: 3.90625e-06  bad_ep: 33  cdwn: 0                            \n",
      " 22:48:06 | Ep: 536/ 600 | Trn loss:  0.000010 - Acc: 100.0000 | Val loss:  2.427628 - Acc: 83.0417 | last_lr: 3.90625e-06  bad_ep: 34  cdwn: 0                            \n",
      " 22:48:19 | Ep: 537/ 600 | Trn loss:  0.000009 - Acc: 100.0000 | Val loss:  2.428354 - Acc: 83.0417 | last_lr: 3.90625e-06  bad_ep: 35  cdwn: 0                            \n",
      " 22:48:33 | Ep: 538/ 600 | Trn loss:  0.000009 - Acc: 100.0000 | Val loss:  2.429082 - Acc: 83.0417 | last_lr: 3.90625e-06  bad_ep: 36  cdwn: 0                            \n",
      " 22:48:47 | Ep: 539/ 600 | Trn loss:  0.000009 - Acc: 100.0000 | Val loss:  2.429811 - Acc: 83.0417 | last_lr: 3.90625e-06  bad_ep: 37  cdwn: 0                            \n",
      " 22:49:00 | Ep: 540/ 600 | Trn loss:  0.000009 - Acc: 100.0000 | Val loss:  2.430543 - Acc: 83.0370 | last_lr: 3.90625e-06  bad_ep: 38  cdwn: 0                            \n",
      " 22:49:14 | Ep: 541/ 600 | Trn loss:  0.000009 - Acc: 100.0000 | Val loss:  2.431276 - Acc: 83.0370 | last_lr: 3.90625e-06  bad_ep: 39  cdwn: 0                            \n",
      " 22:49:27 | Ep: 542/ 600 | Trn loss:  0.000009 - Acc: 100.0000 | Val loss:  2.432010 - Acc: 83.0417 | last_lr: 3.90625e-06  bad_ep: 40  cdwn: 0                            \n",
      " 22:49:41 | Ep: 543/ 600 | Trn loss:  0.000009 - Acc: 100.0000 | Val loss:  2.432746 - Acc: 83.0417 | last_lr: 3.90625e-06  bad_ep: 41  cdwn: 0                            \n",
      " 22:49:55 | Ep: 544/ 600 | Trn loss:  0.000009 - Acc: 100.0000 | Val loss:  2.433483 - Acc: 83.0417 | last_lr: 3.90625e-06  bad_ep: 42  cdwn: 0                            \n",
      " 22:50:09 | Ep: 545/ 600 | Trn loss:  0.000009 - Acc: 100.0000 | Val loss:  2.434222 - Acc: 83.0370 | last_lr: 3.90625e-06  bad_ep: 43  cdwn: 0                            \n",
      " 22:50:22 | Ep: 546/ 600 | Trn loss:  0.000009 - Acc: 100.0000 | Val loss:  2.434962 - Acc: 83.0417 | last_lr: 3.90625e-06  bad_ep: 44  cdwn: 0                            \n",
      " 22:50:36 | Ep: 547/ 600 | Trn loss:  0.000009 - Acc: 100.0000 | Val loss:  2.435704 - Acc: 83.0417 | last_lr: 3.90625e-06  bad_ep: 45  cdwn: 0                            \n",
      " 22:50:49 | Ep: 548/ 600 | Trn loss:  0.000009 - Acc: 100.0000 | Val loss:  2.436447 - Acc: 83.0417 | last_lr: 3.90625e-06  bad_ep: 46  cdwn: 0                            \n",
      " 22:51:03 | Ep: 549/ 600 | Trn loss:  0.000009 - Acc: 100.0000 | Val loss:  2.437192 - Acc: 83.0417 | last_lr: 3.90625e-06  bad_ep: 47  cdwn: 0                            \n",
      " 22:51:16 | Ep: 550/ 600 | Trn loss:  0.000009 - Acc: 100.0000 | Val loss:  2.437938 - Acc: 83.0463 | last_lr: 3.90625e-06  bad_ep: 48  cdwn: 0                            \n",
      " 22:51:30 | Ep: 551/ 600 | Trn loss:  0.000009 - Acc: 100.0000 | Val loss:  2.438687 - Acc: 83.0509 | last_lr: 3.90625e-06  bad_ep: 49  cdwn: 0                            \n",
      " 22:51:43 | Ep: 552/ 600 | Trn loss:  0.000009 - Acc: 100.0000 | Val loss:  2.439436 - Acc: 83.0509 | last_lr: 3.90625e-06  bad_ep: 50  cdwn: 0                            \n",
      " 22:51:56 | Ep: 553/ 600 | Trn loss:  0.000009 - Acc: 100.0000 | Val loss:  2.440187 - Acc: 83.0602 | last_lr: 1.95313e-06  bad_ep: 0  cdwn: 10                            \n",
      " 22:52:10 | Ep: 554/ 600 | Trn loss:  0.000009 - Acc: 100.0000 | Val loss:  2.435551 - Acc: 82.9491 | last_lr: 1.95313e-06  bad_ep: 0  cdwn: 9                             \n",
      " 22:52:23 | Ep: 555/ 600 | Trn loss:  0.000009 - Acc: 100.0000 | Val loss:  2.435934 - Acc: 82.9676 | last_lr: 1.95313e-06  bad_ep: 0  cdwn: 8                             \n",
      " 22:52:36 | Ep: 556/ 600 | Trn loss:  0.000009 - Acc: 100.0000 | Val loss:  2.436353 - Acc: 82.9630 | last_lr: 1.95313e-06  bad_ep: 0  cdwn: 7                             \n",
      " 22:52:50 | Ep: 557/ 600 | Trn loss:  0.000009 - Acc: 100.0000 | Val loss:  2.436783 - Acc: 82.9676 | last_lr: 1.95313e-06  bad_ep: 0  cdwn: 6                             \n",
      " 22:53:03 | Ep: 558/ 600 | Trn loss:  0.000009 - Acc: 100.0000 | Val loss:  2.437217 - Acc: 82.9676 | last_lr: 1.95313e-06  bad_ep: 0  cdwn: 5                             \n",
      " 22:53:17 | Ep: 559/ 600 | Trn loss:  0.000009 - Acc: 100.0000 | Val loss:  2.437652 - Acc: 82.9722 | last_lr: 1.95313e-06  bad_ep: 0  cdwn: 4                             \n",
      " 22:53:30 | Ep: 560/ 600 | Trn loss:  0.000009 - Acc: 100.0000 | Val loss:  2.438089 - Acc: 82.9769 | last_lr: 1.95313e-06  bad_ep: 0  cdwn: 3                             \n",
      " 22:53:44 | Ep: 561/ 600 | Trn loss:  0.000009 - Acc: 100.0000 | Val loss:  2.438526 - Acc: 82.9769 | last_lr: 1.95313e-06  bad_ep: 0  cdwn: 2                             \n",
      " 22:53:57 | Ep: 562/ 600 | Trn loss:  0.000009 - Acc: 100.0000 | Val loss:  2.438965 - Acc: 82.9815 | last_lr: 1.95313e-06  bad_ep: 0  cdwn: 1                             \n",
      " 22:54:10 | Ep: 563/ 600 | Trn loss:  0.000009 - Acc: 100.0000 | Val loss:  2.439404 - Acc: 82.9815 | last_lr: 1.95313e-06  bad_ep: 0  cdwn: 0                             \n",
      " 22:54:24 | Ep: 564/ 600 | Trn loss:  0.000008 - Acc: 100.0000 | Val loss:  2.439845 - Acc: 82.9815 | last_lr: 1.95313e-06  bad_ep: 1  cdwn: 0                             \n",
      " 22:54:37 | Ep: 565/ 600 | Trn loss:  0.000008 - Acc: 100.0000 | Val loss:  2.440285 - Acc: 82.9815 | last_lr: 1.95313e-06  bad_ep: 2  cdwn: 0                             \n",
      " 22:54:51 | Ep: 566/ 600 | Trn loss:  0.000008 - Acc: 100.0000 | Val loss:  2.440726 - Acc: 82.9815 | last_lr: 1.95313e-06  bad_ep: 3  cdwn: 0                             \n",
      " 22:55:04 | Ep: 567/ 600 | Trn loss:  0.000008 - Acc: 100.0000 | Val loss:  2.441168 - Acc: 82.9861 | last_lr: 1.95313e-06  bad_ep: 4  cdwn: 0                             \n",
      " 22:55:18 | Ep: 568/ 600 | Trn loss:  0.000008 - Acc: 100.0000 | Val loss:  2.441609 - Acc: 82.9861 | last_lr: 1.95313e-06  bad_ep: 5  cdwn: 0                             \n",
      " 22:55:32 | Ep: 569/ 600 | Trn loss:  0.000008 - Acc: 100.0000 | Val loss:  2.442051 - Acc: 82.9907 | last_lr: 1.95313e-06  bad_ep: 6  cdwn: 0                             \n",
      " 22:55:45 | Ep: 570/ 600 | Trn loss:  0.000008 - Acc: 100.0000 | Val loss:  2.442492 - Acc: 82.9907 | last_lr: 1.95313e-06  bad_ep: 7  cdwn: 0                             \n",
      " 22:55:59 | Ep: 571/ 600 | Trn loss:  0.000008 - Acc: 100.0000 | Val loss:  2.442935 - Acc: 82.9907 | last_lr: 1.95313e-06  bad_ep: 8  cdwn: 0                             \n",
      " 22:56:12 | Ep: 572/ 600 | Trn loss:  0.000008 - Acc: 100.0000 | Val loss:  2.443377 - Acc: 82.9907 | last_lr: 1.95313e-06  bad_ep: 9  cdwn: 0                             \n",
      " 22:56:26 | Ep: 573/ 600 | Trn loss:  0.000008 - Acc: 100.0000 | Val loss:  2.443819 - Acc: 82.9907 | last_lr: 1.95313e-06  bad_ep: 10  cdwn: 0                            \n",
      " 22:56:40 | Ep: 574/ 600 | Trn loss:  0.000008 - Acc: 100.0000 | Val loss:  2.444260 - Acc: 82.9954 | last_lr: 1.95313e-06  bad_ep: 11  cdwn: 0                            \n",
      " 22:56:53 | Ep: 575/ 600 | Trn loss:  0.000008 - Acc: 100.0000 | Val loss:  2.444703 - Acc: 83.0000 | last_lr: 1.95313e-06  bad_ep: 12  cdwn: 0                            \n",
      " 22:57:07 | Ep: 576/ 600 | Trn loss:  0.000008 - Acc: 100.0000 | Val loss:  2.445145 - Acc: 82.9954 | last_lr: 1.95313e-06  bad_ep: 13  cdwn: 0                            \n",
      " 22:57:20 | Ep: 577/ 600 | Trn loss:  0.000008 - Acc: 100.0000 | Val loss:  2.445587 - Acc: 82.9954 | last_lr: 1.95313e-06  bad_ep: 14  cdwn: 0                            \n",
      " 22:57:34 | Ep: 578/ 600 | Trn loss:  0.000008 - Acc: 100.0000 | Val loss:  2.446029 - Acc: 82.9907 | last_lr: 1.95313e-06  bad_ep: 15  cdwn: 0                            \n",
      " 22:57:47 | Ep: 579/ 600 | Trn loss:  0.000008 - Acc: 100.0000 | Val loss:  2.446470 - Acc: 82.9815 | last_lr: 1.95313e-06  bad_ep: 16  cdwn: 0                            \n",
      " 22:58:01 | Ep: 580/ 600 | Trn loss:  0.000008 - Acc: 100.0000 | Val loss:  2.446912 - Acc: 82.9815 | last_lr: 1.95313e-06  bad_ep: 17  cdwn: 0                            \n",
      " 22:58:14 | Ep: 581/ 600 | Trn loss:  0.000008 - Acc: 100.0000 | Val loss:  2.447354 - Acc: 82.9815 | last_lr: 1.95313e-06  bad_ep: 18  cdwn: 0                            \n",
      " 22:58:28 | Ep: 582/ 600 | Trn loss:  0.000008 - Acc: 100.0000 | Val loss:  2.447795 - Acc: 82.9907 | last_lr: 1.95313e-06  bad_ep: 19  cdwn: 0                            \n",
      " 22:58:41 | Ep: 583/ 600 | Trn loss:  0.000008 - Acc: 100.0000 | Val loss:  2.448238 - Acc: 82.9907 | last_lr: 1.95313e-06  bad_ep: 20  cdwn: 0                            \n",
      " 22:58:55 | Ep: 584/ 600 | Trn loss:  0.000008 - Acc: 100.0000 | Val loss:  2.448679 - Acc: 82.9861 | last_lr: 1.95313e-06  bad_ep: 21  cdwn: 0                            \n",
      " 22:59:09 | Ep: 585/ 600 | Trn loss:  0.000008 - Acc: 100.0000 | Val loss:  2.449121 - Acc: 82.9861 | last_lr: 1.95313e-06  bad_ep: 22  cdwn: 0                            \n",
      " 22:59:22 | Ep: 586/ 600 | Trn loss:  0.000008 - Acc: 100.0000 | Val loss:  2.449562 - Acc: 82.9861 | last_lr: 1.95313e-06  bad_ep: 23  cdwn: 0                            \n",
      " 22:59:36 | Ep: 587/ 600 | Trn loss:  0.000008 - Acc: 100.0000 | Val loss:  2.450004 - Acc: 82.9861 | last_lr: 1.95313e-06  bad_ep: 24  cdwn: 0                            \n",
      " 22:59:49 | Ep: 588/ 600 | Trn loss:  0.000008 - Acc: 100.0000 | Val loss:  2.450446 - Acc: 82.9861 | last_lr: 1.95313e-06  bad_ep: 25  cdwn: 0                            \n",
      " 23:00:03 | Ep: 589/ 600 | Trn loss:  0.000008 - Acc: 100.0000 | Val loss:  2.450887 - Acc: 82.9907 | last_lr: 1.95313e-06  bad_ep: 26  cdwn: 0                            \n",
      " 23:00:17 | Ep: 590/ 600 | Trn loss:  0.000008 - Acc: 100.0000 | Val loss:  2.451328 - Acc: 82.9907 | last_lr: 1.95313e-06  bad_ep: 27  cdwn: 0                            \n",
      " 23:00:30 | Ep: 591/ 600 | Trn loss:  0.000008 - Acc: 100.0000 | Val loss:  2.451769 - Acc: 83.0000 | last_lr: 1.95313e-06  bad_ep: 28  cdwn: 0                            \n",
      " 23:00:44 | Ep: 592/ 600 | Trn loss:  0.000008 - Acc: 100.0000 | Val loss:  2.452211 - Acc: 83.0000 | last_lr: 1.95313e-06  bad_ep: 29  cdwn: 0                            \n",
      " 23:00:58 | Ep: 593/ 600 | Trn loss:  0.000008 - Acc: 100.0000 | Val loss:  2.452653 - Acc: 82.9954 | last_lr: 1.95313e-06  bad_ep: 30  cdwn: 0                            \n",
      " 23:01:11 | Ep: 594/ 600 | Trn loss:  0.000008 - Acc: 100.0000 | Val loss:  2.453094 - Acc: 82.9954 | last_lr: 1.95313e-06  bad_ep: 31  cdwn: 0                            \n",
      " 23:01:25 | Ep: 595/ 600 | Trn loss:  0.000008 - Acc: 100.0000 | Val loss:  2.453536 - Acc: 83.0000 | last_lr: 1.95313e-06  bad_ep: 32  cdwn: 0                            \n",
      " 23:01:39 | Ep: 596/ 600 | Trn loss:  0.000008 - Acc: 100.0000 | Val loss:  2.453979 - Acc: 83.0000 | last_lr: 1.95313e-06  bad_ep: 33  cdwn: 0                            \n",
      " 23:01:52 | Ep: 597/ 600 | Trn loss:  0.000008 - Acc: 100.0000 | Val loss:  2.454421 - Acc: 83.0000 | last_lr: 1.95313e-06  bad_ep: 34  cdwn: 0                            \n",
      " 23:02:06 | Ep: 598/ 600 | Trn loss:  0.000008 - Acc: 100.0000 | Val loss:  2.454863 - Acc: 83.0000 | last_lr: 1.95313e-06  bad_ep: 35  cdwn: 0                            \n",
      " 23:02:19 | Ep: 599/ 600 | Trn loss:  0.000008 - Acc: 100.0000 | Val loss:  2.455305 - Acc: 82.9907 | last_lr: 1.95313e-06  bad_ep: 36  cdwn: 0                            \n",
      "                                                                                                                                                                           "
     ]
    },
    {
     "name": "stderr",
     "output_type": "stream",
     "text": [
      "2024-10-02 23:02:33,506 - utils.utils_cellpainting - INFO: -  Model exported to NN_base_embd600_150Ltnt_512_20240923_1943_BEST_20241002_2000_ep_600.pt - epoch: 600\n"
     ]
    },
    {
     "name": "stdout",
     "output_type": "stream",
     "text": [
      " 23:02:33 | Ep: 600/ 600 | Trn loss:  0.000008 - Acc: 100.0000 | Val loss:  2.455747 - Acc: 82.9907 | last_lr: 1.95313e-06  bad_ep: 37  cdwn: 0 \n"
     ]
    }
   ],
   "source": [
    "\n",
    "metrics = fit(model, optimizer, scheduler, data_loader, metrics, start_epoch, end_epoch, device, CKPT_FILE, CKPT_PATH )\n"
   ]
  },
  {
   "cell_type": "markdown",
   "id": "573ac673-4b85-4d5a-ba01-40945db8419f",
   "metadata": {},
   "source": [
    "\n",
    " "
   ]
  },
  {
   "cell_type": "code",
   "execution_count": null,
   "id": "8ff2ac55-77cb-4515-92ea-a29ab4e899bb",
   "metadata": {},
   "outputs": [],
   "source": [
    "# print(filename)\n",
    " \n",
    "# save_checkpoint(end_epoch, model, optimizer, scheduler, metrics = metrics,\n",
    "#                 filename = CKPT_FILE.format(ep=end_epoch),\n",
    "#                 ckpt_path = CKPT_PATH, verbose = True)\n",
    "\n",
    "start_epoch, end_epoch\n",
    "\n",
    "# for mtrc in ['loss_trn', 'loss_val']:\n",
    "#     for i in range(len(metrics[mtrc])):\n",
    "#         # print(i)\n",
    "#         metrics[mtrc][i] = metrics[mtrc][i].item()"
   ]
  },
  {
   "cell_type": "code",
   "execution_count": null,
   "id": "a7463c33-544c-47ba-9c2b-c908a28948e8",
   "metadata": {},
   "outputs": [],
   "source": [
    "#         metrics['loss_trn'].append(trn_loss.item())\n",
    "#         metrics['acc_trn'].append(trn_acc)\n",
    "#         metrics['loss_val'].append(val_loss.item())\n",
    "#         metrics['acc_val'].append(val_acc)\n",
    "for idx, (trn_loss, trn_acc, val_loss, val_acc) in enumerate(zip(metrics['loss_trn'],metrics['acc_trn'],metrics['loss_val'],metrics['acc_val'])):\n",
    "    print(f\" {datetime.now().strftime('%X')} | Ep: {idx:3d}/{end_epoch:4d} | Trn loss: {trn_loss:9.6f} - Acc: {trn_acc:.4f} |\"\n",
    "      f\" Val loss: {val_loss:9.6f} - Acc: {val_acc:.4f} | \")"
   ]
  },
  {
   "cell_type": "markdown",
   "id": "d75622ea-9d55-42a5-afbd-b7453166bce0",
   "metadata": {
    "jp-MarkdownHeadingCollapsed": true
   },
   "source": [
    "# Modify TPSA Threshold"
   ]
  },
  {
   "cell_type": "code",
   "execution_count": null,
   "id": "9ca4e52f-46c9-4506-8b0d-239f045f04ac",
   "metadata": {},
   "outputs": [],
   "source": [
    "\n",
    "train_y_72 = np.zeros_like(train_y)\n",
    "train_y_72.shape[0]/3"
   ]
  },
  {
   "cell_type": "code",
   "execution_count": null,
   "id": "e11392e3-cbea-49a8-9a0b-2030c1a0aee1",
   "metadata": {
    "editable": true,
    "slideshow": {
     "slide_type": ""
    },
    "tags": []
   },
   "outputs": [],
   "source": [
    "print(f\"                  min           max           std          mean           median\")\n",
    "for x in ['TPSA', 'lnTPSA', 'log10TPSA']:\n",
    "    print(f\"{x:12s} {df_train[x].min():13.7f} {df_train[x].max():13.7f} {df_train[x].std():13.7f} {df_train[x].mean():13.7f} {df_train[x].median():13.7f}\") \n",
    "\n",
    "df_train.TPSA.count()\n",
    "df_train[df_train.TPSA >= THRESHOLD].TPSA.count()/df_train.TPSA.count()\n",
    "df_train[df_train.TPSA < THRESHOLD].TPSA.count()/df_train.TPSA.count()\n"
   ]
  },
  {
   "cell_type": "code",
   "execution_count": null,
   "id": "d5f5bab9-6b23-4078-a398-dccbea38ae78",
   "metadata": {},
   "outputs": [],
   "source": [
    "_tmp = df_train.Metadata_Permiation.value_counts()\n",
    "_tmp[0], _tmp[1]"
   ]
  },
  {
   "cell_type": "code",
   "execution_count": null,
   "id": "d59dcba1-6add-4446-aa27-a30564f42e54",
   "metadata": {
    "editable": true,
    "slideshow": {
     "slide_type": ""
    },
    "tags": []
   },
   "outputs": [],
   "source": [
    "for threshold in [68, 69, 70, 71, 72, 100]:\n",
    "    _tmp = (df_train['Metadata_TPSA'] >= threshold).value_counts()\n",
    "    print(f\"\\n TPSA threshold {threshold} \\n Total samples: {_tmp.sum()}\")\n",
    "    print(f\" Label 0: {_tmp[False]:>7d}      % {_tmp[False]*100/_tmp.sum():2.2f} \")\n",
    "    print(f\" Label 1: {_tmp[True]:>7d}      % {_tmp[True]*100/_tmp.sum():2.2f} \")"
   ]
  },
  {
   "cell_type": "code",
   "execution_count": null,
   "id": "65d1d01b-3946-4668-9c10-5fb3f2b3bd64",
   "metadata": {},
   "outputs": [],
   "source": [
    "# fig, ax = plt.subplots(figsize=(4,4))\n",
    "# fig.canvas.draw()  # Need to draw the figure to define renderer\n",
    "# ax.set_title(\"AngleLabel example\")\n",
    "# # Plot two crossing lines and label each angle between them with the above\n",
    "# center = (4.5, 650)\n",
    "# p1 = [(2.5, 710), (6.0, 605)]\n",
    "# p2 = [(3.0, 275), (5.5, 900)]\n",
    "# line1, = ax.plot(*zip(*p1))\n",
    "# line2, = ax.plot(*zip(*p2))\n",
    "# point, = ax.plot(*center, marker=\"o\")\n"
   ]
  },
  {
   "cell_type": "code",
   "execution_count": null,
   "id": "9f19bd08-45c1-4d41-9d02-a5b59d30c53c",
   "metadata": {
    "ExecuteTime": {
     "end_time": "2023-06-28T19:37:34.108730Z",
     "start_time": "2023-06-28T19:37:34.072553Z"
    },
    "editable": true,
    "slideshow": {
     "slide_type": ""
    },
    "tags": []
   },
   "outputs": [],
   "source": [
    "from matplotlib import colors\n",
    "from matplotlib.ticker import PercentFormatter\n",
    "num_bins = 200\n",
    "# fig, ax = plt.subplots()\n",
    "fig = plt.figure(figsize=(10,5))\n",
    "sigma = df_train.Metadata_TPSA.std()\n",
    "mu = df_train.Metadata_TPSA.mean()\n",
    "med = df_train.Metadata_TPSA.median()\n",
    "# the histogram of the data\n",
    "# We can set the number of bins with the *bins* keyword argument.\n",
    "n, bins, patches = plt.hist(df_train.Metadata_TPSA, num_bins, density=False, range=[0, 500],)\n",
    "# p1 = [(med, 710), (6.0, 605)]\n",
    "# _ = plt.vlines(x=med, ymin=10, ymax=17000, colors='red', linestyles='-', lw=1.75, label='Single Short Line')\n",
    "_ = plt.axvline(x=med, ymin=0, ymax=.97, color='red', linestyle='-', lw=1.75, label='Single Short Line')\n",
    "_ = plt.xlabel('TPSA Value');\n",
    "_ = plt.ylabel('# Compounds');\n",
    "_ = plt.title(fr'TPSA distribution -  $\\mu={mu:.3f}$    $\\sigma={sigma:.3f}$')\n",
    "plt.legend(bbox_to_anchor=(1.04,0.5), loc=\"center left\", borderaxespad=0)\n",
    "# axs[1].hist(dist2, bins=n_bins)\n",
    "plt.show()"
   ]
  },
  {
   "cell_type": "markdown",
   "id": "e58c33d9-a56a-4175-9936-b16efed13334",
   "metadata": {
    "editable": true,
    "jp-MarkdownHeadingCollapsed": true,
    "slideshow": {
     "slide_type": ""
    },
    "tags": []
   },
   "source": [
    "# Stratified CV data splits"
   ]
  },
  {
   "cell_type": "code",
   "execution_count": null,
   "id": "36185b9f-f76e-4556-a736-7a97ac07659f",
   "metadata": {},
   "outputs": [],
   "source": [
    "def visualize_groups(classes, groups, name):\n",
    "    # Visualize dataset groups\n",
    "    fig, ax = plt.subplots(figsize=(10,5))\n",
    "    ax.scatter(\n",
    "        range(len(groups)),\n",
    "        [0.5] * len(groups),\n",
    "        c=groups,\n",
    "        marker=\"_\",\n",
    "        lw=50,\n",
    "        cmap=cmap_data,\n",
    "    )\n",
    "    ax.scatter(\n",
    "        range(len(groups)),\n",
    "        [3.5] * len(groups),\n",
    "        c=classes,\n",
    "        marker=\"_\",\n",
    "        lw=50,\n",
    "        cmap=cmap_data,\n",
    "    )\n",
    "    ax.set(\n",
    "        ylim=[-1, 5],\n",
    "        yticks=[0.5, 3.5],\n",
    "        yticklabels=[\"Data\\ngroup\", \"Data\\nclass\"],\n",
    "        xlabel=\"Sample index\",\n",
    "    )"
   ]
  },
  {
   "cell_type": "code",
   "execution_count": null,
   "id": "f532d16b-50f2-486d-a2b8-22e960f6007a",
   "metadata": {},
   "outputs": [],
   "source": [
    "def plot_cv_indices(cv, X, y, group, ax, n_splits, lw=10):\n",
    "    \"\"\"Create a sample plot for indices of a cross-validation object.\"\"\"\n",
    "    use_groups = \"Group\" in type(cv).__name__\n",
    "    groups = group if use_groups else None\n",
    "    # Generate the training/testing visualizations for each CV split\n",
    "    for ii, (tr, tt) in enumerate(cv.split(X=X, y=y, groups=groups)):\n",
    "        # Fill in indices with the training/test groups\n",
    "        indices = np.array([np.nan] * len(X))\n",
    "        indices[tt] = 1\n",
    "        indices[tr] = 0\n",
    "\n",
    "        # Visualize the results\n",
    "        ax.scatter(\n",
    "            range(len(indices)),\n",
    "            [ii + 0.5] * len(indices),\n",
    "            c=indices,\n",
    "            marker=\"_\",\n",
    "            lw=lw,\n",
    "            cmap=cmap_cv,\n",
    "            vmin=-0.2,\n",
    "            vmax=1.2,\n",
    "        )\n",
    "\n",
    "    # Plot the data classes and groups at the end\n",
    "    ax.scatter(\n",
    "        range(len(X)), [ii + 1.5] * len(X), c=y, marker=\"_\", lw=lw, cmap=cmap_data\n",
    "    )\n",
    "\n",
    "    ax.scatter(\n",
    "        range(len(X)), [ii + 2.5] * len(X), c=group, marker=\"_\", lw=lw, cmap=cmap_data\n",
    "    )\n",
    "\n",
    "    # Formatting\n",
    "    yticklabels = list(range(n_splits)) + [\"class\", \"group\"]\n",
    "    ax.set(\n",
    "        yticks=np.arange(n_splits + 2) + 0.5,\n",
    "        yticklabels=yticklabels,\n",
    "        xlabel=\"Sample index\",\n",
    "        ylabel=\"CV iteration\",\n",
    "        ylim=[n_splits + 2.2, -0.2],\n",
    "        xlim=[0, 100],\n",
    "    )\n",
    "    ax.set_title(\"{}\".format(type(cv).__name__), fontsize=15)\n",
    "    return ax"
   ]
  },
  {
   "cell_type": "code",
   "execution_count": null,
   "id": "d6f3f078-8b33-4acc-b639-6daac6d9d519",
   "metadata": {},
   "outputs": [],
   "source": [
    "import matplotlib.pyplot as plt\n",
    "import numpy as np\n",
    "from matplotlib.patches import Patch\n"
   ]
  },
  {
   "cell_type": "code",
   "execution_count": null,
   "id": "f1165a3b-5756-443f-ad46-bf316c34929e",
   "metadata": {},
   "outputs": [],
   "source": [
    "rng = np.random.RandomState(1338)\n",
    "cmap_data = plt.cm.Paired\n",
    "cmap_cv = plt.cm.coolwarm\n",
    "n_splits = 4\n",
    "\n",
    "# Generate the class/group data\n",
    "# n_points = 100\n",
    "# X = rng.randn(100, 10)\n",
    "\n",
    "# percentiles_classes = [0.1, 0.3, 0.6]\n",
    "# y = np.hstack([[ii] * int(100 * perc) for ii, perc in enumerate(percentiles_classes)])"
   ]
  },
  {
   "cell_type": "code",
   "execution_count": null,
   "id": "94dd8391-cbf3-4468-9aa2-d311c7f83bd2",
   "metadata": {},
   "outputs": [],
   "source": [
    "# Generate uneven groups\n",
    "\n",
    "# group_prior = rng.dirichlet([2] * 10)\n",
    "# group_prior.sum()\n",
    "# group_prior\n",
    "\n",
    "# groups = np.repeat(np.arange(10), rng.multinomial(100, group_prior))\n",
    "# groups.shape\n",
    "# groups"
   ]
  },
  {
   "cell_type": "code",
   "execution_count": null,
   "id": "0be667cf-b73b-49d9-8f93-028feb33dc07",
   "metadata": {},
   "outputs": [],
   "source": [
    "groups = np.repeat(0, train_X.shape[0])\n",
    "groups.shape"
   ]
  },
  {
   "cell_type": "code",
   "execution_count": null,
   "id": "a3cc3e15-7328-43d7-87b0-e662e89f8995",
   "metadata": {},
   "outputs": [],
   "source": [
    "visualize_groups(train_y, groups, \"no groups\")"
   ]
  },
  {
   "cell_type": "code",
   "execution_count": null,
   "id": "f27b44ef-5b62-4008-8e90-fcd97dca2186",
   "metadata": {},
   "outputs": [],
   "source": [
    "n_splits = 5\n",
    "groups = None"
   ]
  },
  {
   "cell_type": "code",
   "execution_count": null,
   "id": "0cc5f1e4-9fbf-4c51-a82a-ee2c870850aa",
   "metadata": {},
   "outputs": [],
   "source": [
    "fig, ax = plt.subplots()\n",
    "cv = KFold(n_splits)\n",
    "plot_cv_indices(cv, train_X, train_y, groups, ax, n_splits)"
   ]
  },
  {
   "cell_type": "markdown",
   "id": "d2e1cd39-be31-4f80-b0b3-a064ddf5b59d",
   "metadata": {
    "jp-MarkdownHeadingCollapsed": true
   },
   "source": [
    "# Input "
   ]
  },
  {
   "cell_type": "markdown",
   "id": "987503fe-4de3-4967-a228-9e5b7a6d30b8",
   "metadata": {
    "jp-MarkdownHeadingCollapsed": true
   },
   "source": [
    "## Read Embedded Features CSV file"
   ]
  },
  {
   "cell_type": "code",
   "execution_count": null,
   "id": "ab7b33d4-10b8-44a2-a97b-3fb5e124812e",
   "metadata": {
    "editable": true,
    "slideshow": {
     "slide_type": ""
    },
    "tags": []
   },
   "outputs": [],
   "source": [
    "BASE_TRAIN_INPUT = os.path.join(OUTPUT_PATH, INPUT_FILE.format(runmode = BASE_runmode ,datatype='train'))\n",
    "BASE_TEST_INPUT  = os.path.join(OUTPUT_PATH, INPUT_FILE.format(runmode = BASE_runmode ,datatype='test'))\n",
    "SNNL_TRAIN_INPUT = os.path.join(OUTPUT_PATH, INPUT_FILE.format(runmode = SNNL_runmode ,datatype='train'))\n",
    "SNNL_TEST_INPUT  = os.path.join(OUTPUT_PATH, INPUT_FILE.format(runmode = SNNL_runmode ,datatype='test'))\n",
    "BASE_TRAIN_INPUT\n",
    "BASE_TEST_INPUT \n",
    "SNNL_TRAIN_INPUT\n",
    "SNNL_TEST_INPUT "
   ]
  },
  {
   "cell_type": "code",
   "execution_count": null,
   "id": "8dff17ab-dd6a-49fe-8733-8f3448537618",
   "metadata": {},
   "outputs": [],
   "source": [
    "df_test = pd.read_csv(SNNL_TEST_INPUT )\n",
    "df_train = pd.read_csv(SNNL_TRAIN_INPUT)\n",
    "\n",
    "# df_train = pd.read_csv(BASE_TRAIN_INPUT)\n",
    "# df_test = pd.read_csv(BASE_TEST_INPUT )\n",
    "# df_train = pd.read_csv(TRAIN_INPUT, nrows = 100 )\n",
    "# df_train = pd.read_csv(TRAIN_INPUT, usecols = ['Metadata_Batch'])"
   ]
  },
  {
   "cell_type": "code",
   "execution_count": null,
   "id": "9e7a273e-36aa-4b1b-8a49-3c911fe62659",
   "metadata": {},
   "outputs": [],
   "source": [
    "df_test.info()\n",
    "df_test.shape\n",
    "df_test.columns\n",
    "df_test.iloc[:5,:13]"
   ]
  },
  {
   "cell_type": "code",
   "execution_count": null,
   "id": "e21aa50d-b501-4532-9c1f-62a2c960f48d",
   "metadata": {},
   "outputs": [],
   "source": [
    "# df_train = pd.read_csv(TRAIN_INPUT, nrows = 100 )\n",
    "# df_train = pd.read_csv(TRAIN_INPUT, usecols = ['Metadata_Batch'])"
   ]
  },
  {
   "cell_type": "code",
   "execution_count": null,
   "id": "8e266886-b249-4370-84ef-242c34c98e72",
   "metadata": {},
   "outputs": [],
   "source": [
    "test_y = df_test.iloc[:,10:11].to_numpy().ravel().astype(np.uint8)\n",
    "test_y.sum()\n",
    "test_y.shape, type(test_y), test_y.dtype\n",
    "test_X = df_test.iloc[:,11:].to_numpy()\n",
    "test_X.shape,type(test_X), test_X.dtype"
   ]
  },
  {
   "cell_type": "code",
   "execution_count": null,
   "id": "b5ccbf57-4fa7-4842-919b-103d14e44c79",
   "metadata": {},
   "outputs": [],
   "source": [
    "df_train.shape\n",
    "df_train.info()\n",
    "df_train.iloc[:5,:16]"
   ]
  },
  {
   "cell_type": "code",
   "execution_count": null,
   "id": "8b7d392e-68eb-4474-ad37-12244f4d23b0",
   "metadata": {},
   "outputs": [],
   "source": [
    "312000+34542"
   ]
  },
  {
   "cell_type": "code",
   "execution_count": null,
   "id": "8710ee4c-badf-4f28-a214-f8354f6c1e5f",
   "metadata": {},
   "outputs": [],
   "source": [
    "train_y = df_train.iloc[:,10:11].to_numpy().ravel().astype(np.uint8)\n",
    "train_y.sum()\n",
    "train_y.shape, type(train_y), train_y.dtype\n",
    "\n",
    "train_X = df_train.iloc[:,11:].to_numpy()\n",
    "train_X.shape,type(train_X) ,train_X.dtype"
   ]
  },
  {
   "cell_type": "markdown",
   "id": "00c738a2-74d5-4702-a93f-36428714aedf",
   "metadata": {
    "jp-MarkdownHeadingCollapsed": true
   },
   "source": [
    "## Standardize inputs"
   ]
  },
  {
   "cell_type": "code",
   "execution_count": null,
   "id": "6ba790ed-fea3-4803-bf33-91b2a0d74fd7",
   "metadata": {},
   "outputs": [],
   "source": [
    "print(f\"Train_X :  Min: {train_X.min():.4f}    Max: {train_X.max():.4f}   Mean: {train_X.mean():.4f}  Std: {train_X.std():.4f}\")\n",
    "print(f\"Test_X  :  Min: {test_X.min():.4f}    Max: {test_X.max():.4f}    Mean: {test_X.mean():.4f}  Std: {test_X.std():.4f}\")"
   ]
  },
  {
   "cell_type": "code",
   "execution_count": null,
   "id": "8ab780bd-8b49-46ce-b18b-abc1e0ff181d",
   "metadata": {},
   "outputs": [],
   "source": [
    "# print(f\"Train_X :  Min: {train_X.min():.4f}    Max: {train_X.max():.4f}   Mean: {train_X.mean():.4f}  Std: {train_X.std():.4f}\")\n",
    "# print(f\"Test_X  :  Min: {test_X.min():.4f}    Max: {test_X.max():.4f}    Mean: {test_X.mean():.4f}  Std: {test_X.std():.4f}\")"
   ]
  },
  {
   "cell_type": "code",
   "execution_count": null,
   "id": "614ed6ad-1c8c-4c10-9bc5-82e6fcc9fa56",
   "metadata": {},
   "outputs": [],
   "source": [
    "scaler = StandardScaler(copy = True)\n",
    "train_X = scaler.fit_transform(train_X)\n",
    "test_X = scaler.transform(test_X)"
   ]
  },
  {
   "cell_type": "code",
   "execution_count": null,
   "id": "34a118cd-aed2-4e64-a4da-8de20a99be3a",
   "metadata": {},
   "outputs": [],
   "source": [
    "print(\"After Standard Scaler Transformation\")\n",
    "print(f\"Train_X :  Min: {train_X.min():.4f}    Max: {train_X.max():.4f}   Mean: {train_X.mean():.4f}  Std: {train_X.std():.4f}\")\n",
    "print(f\"Test_X  :  Min: {test_X.min():.4f}    Max: {test_X.max():.4f}    Mean: {test_X.mean():.4f}  Std: {test_X.std():.4f}\")\n"
   ]
  },
  {
   "cell_type": "code",
   "execution_count": null,
   "id": "c685b4df-8975-4935-8bd2-edba44873a90",
   "metadata": {},
   "outputs": [],
   "source": [
    "label_counts([(\"Training\", train_y), (\"Test\", test_y)])"
   ]
  },
  {
   "cell_type": "code",
   "execution_count": null,
   "id": "a0b7ad73-1936-428c-bd8e-341f594d816b",
   "metadata": {},
   "outputs": [],
   "source": []
  }
 ],
 "metadata": {
  "kernelspec": {
   "display_name": "Python [conda env:cp311]",
   "language": "python",
   "name": "conda-env-cp311-py"
  },
  "language_info": {
   "codemirror_mode": {
    "name": "ipython",
    "version": 3
   },
   "file_extension": ".py",
   "mimetype": "text/x-python",
   "name": "python",
   "nbconvert_exporter": "python",
   "pygments_lexer": "ipython3",
   "version": "3.11.4"
  }
 },
 "nbformat": 4,
 "nbformat_minor": 5
}
