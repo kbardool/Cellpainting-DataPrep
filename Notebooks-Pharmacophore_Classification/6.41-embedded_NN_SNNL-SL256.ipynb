{
 "cells": [
  {
   "cell_type": "markdown",
   "id": "418c282c-2b25-4f32-96cf-883b40b84c36",
   "metadata": {
    "editable": true,
    "slideshow": {
     "slide_type": ""
    },
    "tags": []
   },
   "source": [
    "  # Run NN on Latent Representation for Pharmacopohre Classification :"
   ]
  },
  {
   "cell_type": "markdown",
   "id": "14da93a6-653f-4a55-9b3a-e72ab79a1121",
   "metadata": {},
   "source": [
    "# Setup"
   ]
  },
  {
   "cell_type": "code",
   "execution_count": 2,
   "id": "a104a277-3ad3-438a-b706-d4499f709f89",
   "metadata": {
    "ExecuteTime": {
     "end_time": "2023-04-12T10:29:16.111588Z",
     "start_time": "2023-04-12T10:29:15.764305Z"
    },
    "editable": true,
    "execution": {
     "iopub.execute_input": "2024-12-09T14:05:23.758996Z",
     "iopub.status.busy": "2024-12-09T14:05:23.758453Z",
     "iopub.status.idle": "2024-12-09T14:05:23.778130Z",
     "shell.execute_reply": "2024-12-09T14:05:23.777356Z",
     "shell.execute_reply.started": "2024-12-09T14:05:23.758961Z"
    },
    "slideshow": {
     "slide_type": ""
    },
    "tags": []
   },
   "outputs": [
    {
     "name": "stdout",
     "output_type": "stream",
     "text": [
      "The autoreload extension is already loaded. To reload it, use:\n",
      "  %reload_ext autoreload\n"
     ]
    },
    {
     "data": {
      "text/html": [
       "<style>.container { width:98% !important; }</style>"
      ],
      "text/plain": [
       "<IPython.core.display.HTML object>"
      ]
     },
     "metadata": {},
     "output_type": "display_data"
    }
   ],
   "source": [
    "%load_ext autoreload  \n",
    "%autoreload 2\n",
    "from IPython.display import display, HTML, Image\n",
    "from IPython.core.interactiveshell import InteractiveShell\n",
    "display(HTML(\"<style>.container { width:98% !important; }</style>\"))\n",
    "InteractiveShell.ast_node_interactivity = \"all\""
   ]
  },
  {
   "cell_type": "code",
   "execution_count": 3,
   "id": "7478f60a-2ea2-4407-bd91-f068349f222b",
   "metadata": {
    "ExecuteTime": {
     "end_time": "2023-04-12T10:29:16.111588Z",
     "start_time": "2023-04-12T10:29:15.764305Z"
    },
    "editable": true,
    "execution": {
     "iopub.execute_input": "2024-12-09T14:05:24.438752Z",
     "iopub.status.busy": "2024-12-09T14:05:24.438301Z",
     "iopub.status.idle": "2024-12-09T14:05:27.786077Z",
     "shell.execute_reply": "2024-12-09T14:05:27.785332Z",
     "shell.execute_reply.started": "2024-12-09T14:05:24.438716Z"
    },
    "slideshow": {
     "slide_type": ""
    },
    "tags": []
   },
   "outputs": [
    {
     "name": "stdout",
     "output_type": "stream",
     "text": [
      "insert ../\n",
      "insert ../../..\n",
      "['../../..', '../', '/home/kevin/WSL-shared/cellpainting/cj-datasets/Notebooks-Pharmacophore_Classification', '/home/kevin/miniforge3/envs/cp311/lib/python311.zip', '/home/kevin/miniforge3/envs/cp311/lib/python3.11', '/home/kevin/miniforge3/envs/cp311/lib/python3.11/lib-dynload', '', '/home/kevin/miniforge3/envs/cp311/lib/python3.11/site-packages', '/home/kevin/miniforge3/envs/cp311/lib/python3.11/site-packages/huggingface_hub-0.20.3-py3.8.egg']\n"
     ]
    },
    {
     "data": {
      "text/plain": [
       "<torch._C.Generator at 0x7f7ea4b17f10>"
      ]
     },
     "execution_count": 3,
     "metadata": {},
     "output_type": "execute_result"
    },
    {
     "data": {
      "text/plain": [
       "4"
      ]
     },
     "execution_count": 3,
     "metadata": {},
     "output_type": "execute_result"
    }
   ],
   "source": [
    "import os\n",
    "import sys\n",
    "import random\n",
    "from typing import List, Tuple\n",
    "from types import SimpleNamespace\n",
    "import pprint\n",
    "import logging\n",
    "from datetime import datetime\n",
    "for p in ['../','../../..']:\n",
    "    if p not in sys.path:\n",
    "        print(f\"insert {p}\")\n",
    "        sys.path.insert(0, p)\n",
    "print(sys.path)\n",
    "\n",
    "import tqdm\n",
    "import numpy as np\n",
    "import matplotlib.pyplot as plt\n",
    "import seaborn as sb\n",
    "import pandas as pd\n",
    "\n",
    "import scipy\n",
    "import scipy.stats as sps\n",
    "import sklearn.metrics as skm\n",
    "from scipy.spatial.distance import pdist, squareform, euclidean\n",
    "\n",
    "import torch\n",
    "import torch.nn as nn\n",
    "import torch.nn.functional as F\n",
    "import matplotlib.pyplot as plt  # for making figures\n",
    "from torchinfo import summary\n",
    "\n",
    "torch.set_printoptions(precision=None, threshold=None, edgeitems=None, linewidth=180, profile=None, sci_mode=None)\n",
    "torch.manual_seed(42);   # seed rng for reproducibility\n",
    "pp = pprint.PrettyPrinter(indent=4)\n",
    "pd.options.display.width = 132\n",
    "np.set_printoptions(edgeitems=3, infstr='inf', linewidth=150, nanstr='nan')\n",
    "\n",
    "os.environ[\"WANDB_NOTEBOOK_NAME\"] = \"AE-MAIN-SNNL.ipynb\"\n",
    "# os.environ[\"CUDA_LAUNCH_BLOCKING\"] = \"1\"\n",
    "os.environ[\"CUDA_VISIBLE_DEVICES\"] = \"0,1,2\"\n",
    "\n",
    "torch.set_num_threads(4)  ## <--- limit to ~ 2 CPUs\n",
    "torch.get_num_threads()"
   ]
  },
  {
   "cell_type": "code",
   "execution_count": 4,
   "id": "b939a031-286c-430c-890d-946ea497d8e3",
   "metadata": {
    "editable": true,
    "execution": {
     "iopub.execute_input": "2024-12-09T14:05:27.788120Z",
     "iopub.status.busy": "2024-12-09T14:05:27.787652Z",
     "iopub.status.idle": "2024-12-09T14:05:28.964698Z",
     "shell.execute_reply": "2024-12-09T14:05:28.963398Z",
     "shell.execute_reply.started": "2024-12-09T14:05:27.788077Z"
    },
    "slideshow": {
     "slide_type": ""
    },
    "tags": []
   },
   "outputs": [
    {
     "ename": "ModuleNotFoundError",
     "evalue": "No module named 'utils'",
     "output_type": "error",
     "traceback": [
      "\u001b[0;31m---------------------------------------------------------------------------\u001b[0m",
      "\u001b[0;31mModuleNotFoundError\u001b[0m                       Traceback (most recent call last)",
      "Cell \u001b[0;32mIn[4], line 5\u001b[0m\n\u001b[1;32m      2\u001b[0m \u001b[38;5;28;01mimport\u001b[39;00m \u001b[38;5;21;01mKevinsRoutines\u001b[39;00m\u001b[38;5;21;01m.\u001b[39;00m\u001b[38;5;21;01mutils\u001b[39;00m \u001b[38;5;28;01mas\u001b[39;00m \u001b[38;5;21;01mmyutils\u001b[39;00m\n\u001b[1;32m      3\u001b[0m \u001b[38;5;66;03m# import snnl.utils as utils\u001b[39;00m\n\u001b[1;32m      4\u001b[0m \u001b[38;5;66;03m# from utils.utils_ptsnnl import display_cellpainting_batch, get_device\u001b[39;00m\n\u001b[0;32m----> 5\u001b[0m \u001b[38;5;28;01mfrom\u001b[39;00m \u001b[38;5;21;01mutils\u001b[39;00m\u001b[38;5;21;01m.\u001b[39;00m\u001b[38;5;21;01mutils_cellpainting\u001b[39;00m \u001b[38;5;28;01mimport\u001b[39;00m label_counts, balance_datasets,save_checkpoint, load_checkpoint\n\u001b[1;32m      7\u001b[0m \u001b[38;5;28;01mfrom\u001b[39;00m \u001b[38;5;21;01mutils\u001b[39;00m\u001b[38;5;21;01m.\u001b[39;00m\u001b[38;5;21;01mutils_notebooks\u001b[39;00m \u001b[38;5;28;01mimport\u001b[39;00m plot_cls_metrics, compute_classification_metrics, run_model_on_test_data,\\\n\u001b[1;32m      8\u001b[0m                                 train, validation, accuracy_fn, fit, build_model, define_datasets\n",
      "\u001b[0;31mModuleNotFoundError\u001b[0m: No module named 'utils'"
     ]
    }
   ],
   "source": [
    "# from KevinsRoutines.utils.utils_general import list_namespace, save_to_pickle, load_from_pickle, get_device\n",
    "import KevinsRoutines.utils as myutils\n",
    "# import snnl.utils as utils\n",
    "# from utils.utils_ptsnnl import display_cellpainting_batch, get_device\n",
    "from utils.utils_cellpainting import label_counts, balance_datasets,save_checkpoint, load_checkpoint\n",
    "\n",
    "from utils.utils_notebooks import plot_cls_metrics, compute_classification_metrics, run_model_on_test_data,\\\n",
    "                                train, validation, accuracy_fn, fit, build_model, define_datasets"
   ]
  },
  {
   "cell_type": "code",
   "execution_count": null,
   "id": "c12352c5-443c-414b-bb2b-6ea5ba801515",
   "metadata": {
    "editable": true,
    "execution": {
     "iopub.status.busy": "2024-12-09T14:05:28.965427Z",
     "iopub.status.idle": "2024-12-09T14:05:28.965774Z",
     "shell.execute_reply": "2024-12-09T14:05:28.965619Z",
     "shell.execute_reply.started": "2024-12-09T14:05:28.965601Z"
    },
    "scrolled": true,
    "slideshow": {
     "slide_type": ""
    },
    "tags": []
   },
   "outputs": [],
   "source": [
    "timestamp = datetime.now().strftime('%Y_%m_%d_%H:%M:%S')\n",
    "logger = logging.getLogger(__name__)\n",
    "logLevel = os.environ.get('LOG_LEVEL', 'INFO').upper()\n",
    "FORMAT = '%(asctime)s - %(name)s - %(levelname)s: - %(message)s'\n",
    "logging.basicConfig(level=\"INFO\", format= FORMAT)\n",
    "logger.info(f\" Excution started : {timestamp} \")\n",
    "logger.info(f\" Pytorch version  : {torch.__version__}\")\n",
    "logger.info(f\" Scipy version    : {scipy.__version__}  \\t\\t Numpy version : {np.__version__}\")\n",
    "logger.info(f\" Pandas version   : {pd.__version__}  \")"
   ]
  },
  {
   "cell_type": "code",
   "execution_count": null,
   "id": "776090d4-6009-4908-8272-26d915c165a6",
   "metadata": {
    "ExecuteTime": {
     "end_time": "2023-07-31T18:45:10.550334Z",
     "start_time": "2023-07-31T18:45:07.868769Z"
    },
    "execution": {
     "iopub.status.busy": "2024-12-09T14:05:28.967328Z",
     "iopub.status.idle": "2024-12-09T14:05:28.967716Z",
     "shell.execute_reply": "2024-12-09T14:05:28.967553Z",
     "shell.execute_reply.started": "2024-12-09T14:05:28.967534Z"
    }
   },
   "outputs": [],
   "source": [
    "try:\n",
    "    del model\n",
    "except Exception as e:\n",
    "    pass"
   ]
  },
  {
   "cell_type": "code",
   "execution_count": null,
   "id": "fd9bda27-00ff-4f3f-bdab-e753e327e2d2",
   "metadata": {
    "execution": {
     "iopub.status.busy": "2024-12-09T14:05:28.969048Z",
     "iopub.status.idle": "2024-12-09T14:05:28.969379Z",
     "shell.execute_reply": "2024-12-09T14:05:28.969226Z",
     "shell.execute_reply.started": "2024-12-09T14:05:28.969208Z"
    }
   },
   "outputs": [],
   "source": [
    "# Set visible GPU device \n",
    "# ----------------------------------------------\n",
    "# os.environ[\"CUDA_VISIBLE_DEVICES\"] = '0'\n",
    "myutils.set_device(2);\n",
    "device = myutils.get_device(verbose = True);\n",
    "print(device)"
   ]
  },
  {
   "cell_type": "markdown",
   "id": "cdac793b-be20-4c56-8bab-989c05caad80",
   "metadata": {},
   "source": [
    "# Args "
   ]
  },
  {
   "cell_type": "code",
   "execution_count": 42,
   "id": "3bba0bc2-521c-4502-a751-e880c8f74462",
   "metadata": {
    "editable": true,
    "execution": {
     "iopub.execute_input": "2024-10-17T11:47:35.697994Z",
     "iopub.status.busy": "2024-10-17T11:47:35.697431Z",
     "iopub.status.idle": "2024-10-17T11:47:35.737514Z",
     "shell.execute_reply": "2024-10-17T11:47:35.736958Z",
     "shell.execute_reply.started": "2024-10-17T11:47:35.697953Z"
    },
    "slideshow": {
     "slide_type": ""
    },
    "tags": []
   },
   "outputs": [
    {
     "name": "stdout",
     "output_type": "stream",
     "text": [
      " Seed value set to 9999 in random, np.random, and torch\n",
      "11\n",
      "261\n"
     ]
    }
   ],
   "source": [
    "SEED                = 9999\n",
    "LATENT_DIM          = 250\n",
    "COMPOUNDS_PER_BATCH = 600\n",
    "TPSA_THRESHOLD      = 100\n",
    "myutils.set_global_seed(SEED)\n",
    "\n",
    "# MODEL_TYPE = 'batch_norm'\n",
    "MODEL_TYPE = 'single_layer'\n",
    "# MODEL_TYPE = 'relu'\n",
    "\n",
    "n_input    = LATENT_DIM  # the embedding dimensionality \n",
    "n_hidden_1 = 256  # the number of neurons in the hidden layer of the MLP\n",
    "n_hidden_2 = 256  # the number of neurons in the hidden layer of the MLP\n",
    "n_hidden_3 = 128\n",
    "\n",
    "METADATA_COLS = ['Metadata_Source', 'Metadata_Batch', 'Metadata_Plate', 'Metadata_Well', 'Metadata_JCP2022', 'Metadata_Hash', 'Metadata_Bin', 'Metadata_TPSA', 'Metadata_lnTPSA', 'Metadata_log10TPSA', 'Metadata_Permiation']\n",
    "# METADATA_COLS += [f'Feature_{x:03d}' for x in range(LATENT_DIM)]\n",
    "input_cols = LATENT_DIM + len(METADATA_COLS)\n",
    "print(len(METADATA_COLS))\n",
    "print(input_cols)\n",
    "\n",
    "INPUT_PATH = f\"/home/kevin/WSL-shared/cellpainting/cj-datasets/output_11102023/3_sample_embeddings/\"\n",
    "CKPT_PATH = \"./saved_models/embedding_models\"\n",
    "\n",
    "# SNNL AUTOENCODERS \n",
    "AE_RUNMODE = \"snnl\"\n",
    "# AE_DATETIME = \"20240906_2201\"     # SNNL, CPB = 600, Latent 150, WD = 0.001, SNN Factor 3\n",
    "AE_DATETIME = \"20240917_2004\"     # SNNL, CPB = 600, Latent 250, WD = 0.001, SNN Factor 3\n",
    "\n",
    "## BASELINE AUTOENCODERS \n",
    "# AE_RUNMODE = 'base'\n",
    "\n",
    "# AE_CKPTTYPE = \"BEST\"\n",
    "AE_CKPTTYPE = \"LAST\""
   ]
  },
  {
   "cell_type": "code",
   "execution_count": 43,
   "id": "33ba5b40-139d-4ad4-b6c4-51e4e19a0dc6",
   "metadata": {
    "execution": {
     "iopub.execute_input": "2024-10-17T11:47:45.720886Z",
     "iopub.status.busy": "2024-10-17T11:47:45.720394Z",
     "iopub.status.idle": "2024-10-17T11:47:45.758967Z",
     "shell.execute_reply": "2024-10-17T11:47:45.758269Z",
     "shell.execute_reply.started": "2024-10-17T11:47:45.720845Z"
    }
   },
   "outputs": [
    {
     "name": "stdout",
     "output_type": "stream",
     "text": [
      "20240926_1933\n"
     ]
    }
   ],
   "source": [
    "# RUN_DATETIME = datetime.now().strftime('%Y%m%d_%H%M')\n",
    "\n",
    "# RUN_DATETIME = '20240916_1830'   ## SNNL CPB 600, Latent 150  - Single layer 256\n",
    "# RUN_DATETIME = '20240916_1831'   ## SNNL CPB 600, Latent 150  - Single layer 256\n",
    "# RUN_DATETIME = '20240916_1832'   ## SNNL CPB 600, Latent 150  - Single layer 256\n",
    "# RUN_DATETIME = '20240916_1833'   ## SNNL CPB 600, Latent 150  - Single layer 256\n",
    "\n",
    "# RUN_DATETIME = '20240921_0700'   ## SNNL CPB 600, Latent 150  - Single layer 512\n",
    "# RUN_DATETIME = '20240909_1801'   ## SNNL CPB 600, Latent 150  - ReLU 256/256/128\n",
    "# RUN_DATETIME = '20240909_2100'   ## SNNL CPB 600, Latent 150  - Batch Norm 256/256/128\n",
    "# RUN_DATETIME = '20240909_2130'   ## SNNL CPB 600, Latent 150  - Batch Norm 512/512/128\n",
    "\n",
    "# RUN_DATETIME = '20240926_1930'   ## SNNL CPB 600, Latent 250  - Single layer 256\n",
    "# RUN_DATETIME = '20240926_1931'   ## SNNL CPB 600, Latent 250  - Single layer 256\n",
    "# RUN_DATETIME = '20240926_1932'   ## SNNL CPB 600, Latent 250  - Single layer 256\n",
    "RUN_DATETIME = '20240926_1933'   ## SNNL CPB 600, Latent 250  - Single layer 256\n",
    "\n",
    "# RUN_DATETIME = '20240927_2345'   ## SNNL CPB 600, Latent 250  - Single layer 512\n",
    "# RUN_DATETIME =                   ## SNNL CPB 600, Latent 250  - Balanced TPSA Labels - ReLU 256/256/128\n",
    "# RUN_DATETIME = '20240929_2015'   ## SNNL CPB 600, Latent 250  - Batch Norm 256/256/128\n",
    "# RUN_DATETIME = '20240929_1930'   ## SNNL CPB 600, Latent 250  - Batch Norm 512/512/128\n",
    "print(RUN_DATETIME)"
   ]
  },
  {
   "cell_type": "code",
   "execution_count": 44,
   "id": "593a54d5-8fa0-42d0-bbae-e0f29019cb09",
   "metadata": {
    "execution": {
     "iopub.execute_input": "2024-10-17T11:47:47.466873Z",
     "iopub.status.busy": "2024-10-17T11:47:47.466272Z",
     "iopub.status.idle": "2024-10-17T11:47:47.502988Z",
     "shell.execute_reply": "2024-10-17T11:47:47.502389Z",
     "shell.execute_reply.started": "2024-10-17T11:47:47.466831Z"
    }
   },
   "outputs": [
    {
     "name": "stdout",
     "output_type": "stream",
     "text": [
      "NN_snnl_embd600_250Ltnt_512_20240917_2004_LAST_20240926_1933_ep_{ep}\n"
     ]
    }
   ],
   "source": [
    "CKPT_FILE = f\"NN_{AE_RUNMODE.lower()}_embd600_{LATENT_DIM}Ltnt_512_{AE_DATETIME}_{AE_CKPTTYPE}_{RUN_DATETIME}_ep_{{ep}}\"\n",
    "print(CKPT_FILE)"
   ]
  },
  {
   "cell_type": "code",
   "execution_count": 45,
   "id": "12b67fd3-5cee-433b-b177-60d588e8b7e8",
   "metadata": {
    "execution": {
     "iopub.execute_input": "2024-10-17T11:47:48.850185Z",
     "iopub.status.busy": "2024-10-17T11:47:48.849803Z",
     "iopub.status.idle": "2024-10-17T11:47:48.884809Z",
     "shell.execute_reply": "2024-10-17T11:47:48.884269Z",
     "shell.execute_reply.started": "2024-10-17T11:47:48.850154Z"
    }
   },
   "outputs": [],
   "source": [
    "## total rows = 346,542\n",
    "## Trn file sz: 312,000 \n",
    "## Train      : 277,200    (312_000 - (21,600 + 12,600 + 600) = 277,200\n",
    "## Validation :  21,600\n",
    "## Test       :  12,600\n",
    "## Leftover   :     600\n",
    "cellpainting_args = {'compounds_per_batch': COMPOUNDS_PER_BATCH,\n",
    "                     'train_start'        : 0,\n",
    "                     'train_end'          : 277_200,\n",
    "                     'val_start'          : 0,\n",
    "                     'val_end'            : 21_600,\n",
    "                     'test_start'         : 0,\n",
    "                     'test_end'           : 12_600,\n",
    "                    }"
   ]
  },
  {
   "cell_type": "code",
   "execution_count": 46,
   "id": "d2a6e1c4-2637-42f1-b545-9b71ea07855d",
   "metadata": {
    "execution": {
     "iopub.execute_input": "2024-10-17T11:47:49.617088Z",
     "iopub.status.busy": "2024-10-17T11:47:49.616725Z",
     "iopub.status.idle": "2024-10-17T11:47:49.681340Z",
     "shell.execute_reply": "2024-10-17T11:47:49.680847Z",
     "shell.execute_reply.started": "2024-10-17T11:47:49.617059Z"
    }
   },
   "outputs": [
    {
     "name": "stderr",
     "output_type": "stream",
     "text": [
      "2024-10-17 13:47:49,651 - utils.dataloader - INFO: -  Building CellPantingDataset for train\n",
      "2024-10-17 13:47:49,652 - utils.dataloader - INFO: -  filename:  /home/kevin/WSL-shared/cellpainting/cj-datasets/output_11102023/3_sample_embeddings/3smpl_prfl_embedding_261_HashOrder_snnl_20240917_2004_LAST_train.csv\n",
      "2024-10-17 13:47:49,653 - utils.dataloader - INFO: -  type    :  train\n",
      "2024-10-17 13:47:49,653 - utils.dataloader - INFO: -  start   :  0\n",
      "2024-10-17 13:47:49,654 - utils.dataloader - INFO: -  end     :  277200\n",
      "2024-10-17 13:47:49,654 - utils.dataloader - INFO: -  numrows :  277200\n",
      "2024-10-17 13:47:49,655 - utils.dataloader - INFO: -  names   :  None     usecols :  None\n",
      "2024-10-17 13:47:49,656 - utils.dataloader - INFO: -  batch_size  :  1\n",
      "2024-10-17 13:47:49,656 - utils.dataloader - INFO: -  sample_size :  3\n",
      "2024-10-17 13:47:49,657 - utils.dataloader - INFO: -  compounds_per_batch :  600\n",
      "2024-10-17 13:47:49,657 - utils.dataloader - INFO: -  rows per batch (chunksize) :  1800\n",
      "2024-10-17 13:47:49,658 - utils.dataloader - INFO: -  TPSA threshold :  100\n",
      "2024-10-17 13:47:49,658 - utils.dataloader - INFO: -  Each mini-batch contains 600.0 compounds with 3 samples per compound : total 1800 rows\n",
      "2024-10-17 13:47:49,659 - utils.dataloader - INFO: -  Number of 1800 row full size batches per epoch: 154\n",
      "2024-10-17 13:47:49,659 - utils.dataloader - INFO: -  Rows covered by 154 full size batches (1800 rows) per epoch:  277200\n",
      "2024-10-17 13:47:49,660 - utils.dataloader - INFO: -  Last partial batch contains : 0 rows\n",
      "2024-10-17 13:47:49,661 - utils.dataloader - INFO: -  \n",
      "2024-10-17 13:47:49,661 - utils.dataloader - INFO: -  Building CellPantingDataset for val\n",
      "2024-10-17 13:47:49,662 - utils.dataloader - INFO: -  filename:  /home/kevin/WSL-shared/cellpainting/cj-datasets/output_11102023/3_sample_embeddings/3smpl_prfl_embedding_261_HashOrder_snnl_20240917_2004_LAST_train_sub_val.csv\n",
      "2024-10-17 13:47:49,662 - utils.dataloader - INFO: -  type    :  val\n",
      "2024-10-17 13:47:49,663 - utils.dataloader - INFO: -  start   :  0\n",
      "2024-10-17 13:47:49,663 - utils.dataloader - INFO: -  end     :  21600\n",
      "2024-10-17 13:47:49,664 - utils.dataloader - INFO: -  numrows :  21600\n",
      "2024-10-17 13:47:49,664 - utils.dataloader - INFO: -  names   :  None     usecols :  None\n",
      "2024-10-17 13:47:49,665 - utils.dataloader - INFO: -  batch_size  :  1\n",
      "2024-10-17 13:47:49,665 - utils.dataloader - INFO: -  sample_size :  3\n",
      "2024-10-17 13:47:49,665 - utils.dataloader - INFO: -  compounds_per_batch :  600\n",
      "2024-10-17 13:47:49,666 - utils.dataloader - INFO: -  rows per batch (chunksize) :  1800\n",
      "2024-10-17 13:47:49,666 - utils.dataloader - INFO: -  TPSA threshold :  100\n",
      "2024-10-17 13:47:49,666 - utils.dataloader - INFO: -  Each mini-batch contains 600.0 compounds with 3 samples per compound : total 1800 rows\n",
      "2024-10-17 13:47:49,667 - utils.dataloader - INFO: -  Number of 1800 row full size batches per epoch: 12\n",
      "2024-10-17 13:47:49,667 - utils.dataloader - INFO: -  Rows covered by 12 full size batches (1800 rows) per epoch:  21600\n",
      "2024-10-17 13:47:49,667 - utils.dataloader - INFO: -  Last partial batch contains : 0 rows\n",
      "2024-10-17 13:47:49,668 - utils.dataloader - INFO: -  \n",
      "2024-10-17 13:47:49,668 - utils.dataloader - INFO: -  Building CellPantingDataset for test\n",
      "2024-10-17 13:47:49,668 - utils.dataloader - INFO: -  filename:  /home/kevin/WSL-shared/cellpainting/cj-datasets/output_11102023/3_sample_embeddings/3smpl_prfl_embedding_261_HashOrder_snnl_20240917_2004_LAST_train_sub_test.csv\n",
      "2024-10-17 13:47:49,669 - utils.dataloader - INFO: -  type    :  test\n",
      "2024-10-17 13:47:49,669 - utils.dataloader - INFO: -  start   :  0\n",
      "2024-10-17 13:47:49,669 - utils.dataloader - INFO: -  end     :  12600\n",
      "2024-10-17 13:47:49,670 - utils.dataloader - INFO: -  numrows :  12600\n",
      "2024-10-17 13:47:49,670 - utils.dataloader - INFO: -  names   :  None     usecols :  None\n",
      "2024-10-17 13:47:49,670 - utils.dataloader - INFO: -  batch_size  :  1\n",
      "2024-10-17 13:47:49,671 - utils.dataloader - INFO: -  sample_size :  3\n",
      "2024-10-17 13:47:49,671 - utils.dataloader - INFO: -  compounds_per_batch :  600\n",
      "2024-10-17 13:47:49,671 - utils.dataloader - INFO: -  rows per batch (chunksize) :  1800\n",
      "2024-10-17 13:47:49,672 - utils.dataloader - INFO: -  TPSA threshold :  100\n",
      "2024-10-17 13:47:49,672 - utils.dataloader - INFO: -  Each mini-batch contains 600.0 compounds with 3 samples per compound : total 1800 rows\n",
      "2024-10-17 13:47:49,672 - utils.dataloader - INFO: -  Number of 1800 row full size batches per epoch: 7\n",
      "2024-10-17 13:47:49,673 - utils.dataloader - INFO: -  Rows covered by 7 full size batches (1800 rows) per epoch:  12600\n",
      "2024-10-17 13:47:49,673 - utils.dataloader - INFO: -  Last partial batch contains : 0 rows\n",
      "2024-10-17 13:47:49,673 - utils.dataloader - INFO: -  \n"
     ]
    },
    {
     "name": "stdout",
     "output_type": "stream",
     "text": [
      " TRAIN_INPUT:  /home/kevin/WSL-shared/cellpainting/cj-datasets/output_11102023/3_sample_embeddings/3smpl_prfl_embedding_261_HashOrder_snnl_20240917_2004_LAST_train.csv\n",
      " TEST_INPUT :  /home/kevin/WSL-shared/cellpainting/cj-datasets/output_11102023/3_sample_embeddings/3smpl_prfl_embedding_261_HashOrder_snnl_20240917_2004_LAST_train_sub_test.csv\n",
      " ALL_INPUT  :  /home/kevin/WSL-shared/cellpainting/cj-datasets/output_11102023/3_sample_embeddings/3smpl_prfl_embedding_261_HashOrder_snnl_20240917_2004_LAST_train_sub_val.csv\n",
      " load {}\n",
      " Dataset size: 277200   rows per batch: 1800  tpsa_threshold: 100\n",
      " Dataset size: 21600   rows per batch: 1800  tpsa_threshold: 100\n",
      " Dataset size: 12600   rows per batch: 1800  tpsa_threshold: 100\n"
     ]
    }
   ],
   "source": [
    "data_loader = define_datasets(cellpainting_args, AE_RUNMODE, AE_DATETIME, input_cols, AE_CKPTTYPE, INPUT_PATH)"
   ]
  },
  {
   "attachments": {},
   "cell_type": "markdown",
   "id": "9af485a0-e4bd-4e05-8764-39a5d9f908c8",
   "metadata": {
    "jp-MarkdownHeadingCollapsed": true
   },
   "source": [
    "### Misc code"
   ]
  },
  {
   "cell_type": "code",
   "execution_count": 23,
   "id": "417e03f3-163a-42d4-8055-7e39f9c3f8af",
   "metadata": {
    "editable": true,
    "execution": {
     "iopub.execute_input": "2024-10-16T23:00:15.101123Z",
     "iopub.status.busy": "2024-10-16T23:00:15.100601Z",
     "iopub.status.idle": "2024-10-16T23:00:15.138652Z",
     "shell.execute_reply": "2024-10-16T23:00:15.137874Z",
     "shell.execute_reply.started": "2024-10-16T23:00:15.101086Z"
    },
    "slideshow": {
     "slide_type": ""
    },
    "tags": []
   },
   "outputs": [],
   "source": [
    "# TRAIN_INPUT_FILE = f\"3smpl_prfl_embedding_{input_cols}_HashOrder_{AE_RUNMODE}_{AE_DATETIME}_{AE_CKPTTYPE}_train.csv\"\n",
    "# TEST_INPUT_FILE  = f\"3smpl_prfl_embedding_{input_cols}_HashOrder_{AE_RUNMODE}_{AE_DATETIME}_{AE_CKPTTYPE}_train_sub_test.csv\"\n",
    "# VAL_INPUT_FILE   = f\"3smpl_prfl_embedding_{input_cols}_HashOrder_{AE_RUNMODE}_{AE_DATETIME}_{AE_CKPTTYPE}_train_sub_val.csv\"\n",
    "# # ALL_INPUT_FILE   = f\"3smpl_prfl_embedding_{num_cols}_HashOrder_{AE_RUNMODE}_{AE_DATETIME}_{AE_CKPTTYPE}_sub_val.csv\"\n",
    "\n",
    "# TRAIN_INPUT = os.path.join(INPUT_PATH, TRAIN_INPUT_FILE)\n",
    "# TEST_INPUT  = os.path.join(INPUT_PATH, TEST_INPUT_FILE)\n",
    "# VAL_INPUT   = os.path.join(INPUT_PATH, VAL_INPUT_FILE)\n",
    "\n",
    "# print(f\" TRAIN_INPUT:  {TRAIN_INPUT}\")\n",
    "# print(f\" TEST_INPUT :  {TEST_INPUT }\")\n",
    "# print(f\" ALL_INPUT  :  {VAL_INPUT }\")"
   ]
  },
  {
   "cell_type": "code",
   "execution_count": 24,
   "id": "64f7cf1f-5231-41b9-a050-690a4a482fd3",
   "metadata": {
    "execution": {
     "iopub.execute_input": "2024-10-16T23:00:15.237632Z",
     "iopub.status.busy": "2024-10-16T23:00:15.237331Z",
     "iopub.status.idle": "2024-10-16T23:00:15.271453Z",
     "shell.execute_reply": "2024-10-16T23:00:15.270765Z",
     "shell.execute_reply.started": "2024-10-16T23:00:15.237610Z"
    }
   },
   "outputs": [],
   "source": [
    "## total rows = 346,542\n",
    "## Trn file sz: 312,000 \n",
    "## Train      : 277,200    (312_000 - (21,600 + 12,600 + 600) = 277,200\n",
    "## Validation :  21,600\n",
    "## Test       :  12,600\n",
    "## Leftover   :     600\n",
    "# cellpainting_args = {'sample_size': 3,\n",
    "#                      'batch_size': 1,\n",
    "#                      'compounds_per_batch': 600,\n",
    "#                      'training_path'  : TRAIN_INPUT,\n",
    "#                      'validation_path': TRAIN_INPUT,\n",
    "#                      'test_path'      : TRAIN_INPUT,\n",
    "#                      'train_start'    : 0,\n",
    "#                      'train_end'      : 277_200,  # 277,200 samples\n",
    "#                      'val_start'      : 277_200,  # \n",
    "#                      'val_end'        : 298_800,  # 21_600 samples\n",
    "#                      'test_start'     : 298_800,  # \n",
    "#                      'test_end'       : 311_400,  # 12_600 samples\n",
    "#                     }"
   ]
  },
  {
   "cell_type": "code",
   "execution_count": 25,
   "id": "ac80b685-550e-43a7-b48d-af4518aa718a",
   "metadata": {
    "execution": {
     "iopub.execute_input": "2024-10-16T23:00:15.379868Z",
     "iopub.status.busy": "2024-10-16T23:00:15.379565Z",
     "iopub.status.idle": "2024-10-16T23:00:15.410654Z",
     "shell.execute_reply": "2024-10-16T23:00:15.410061Z",
     "shell.execute_reply.started": "2024-10-16T23:00:15.379847Z"
    }
   },
   "outputs": [],
   "source": [
    "# cellpainting_args"
   ]
  },
  {
   "cell_type": "code",
   "execution_count": 26,
   "id": "3dda57be-1cd6-4598-b05e-a1c8b68176df",
   "metadata": {
    "execution": {
     "iopub.execute_input": "2024-10-16T23:00:15.569898Z",
     "iopub.status.busy": "2024-10-16T23:00:15.569606Z",
     "iopub.status.idle": "2024-10-16T23:00:15.601920Z",
     "shell.execute_reply": "2024-10-16T23:00:15.601235Z",
     "shell.execute_reply.started": "2024-10-16T23:00:15.569877Z"
    },
    "scrolled": true
   },
   "outputs": [],
   "source": [
    "#### Load CellPainting Dataset\n",
    "# data : keys to the dataset settings (and resulting keys in output dictionary)\n",
    "# dataset = dict()\n",
    "# data_loader = dict()\n",
    "\n",
    "# print(f\" load {dataset}\")\n",
    "# for datatype in ['train', 'val', 'test']:\n",
    "#     dataset[datatype] = CellpaintingDataset(type = datatype, **cellpainting_args)\n",
    "#     data_loader[datatype] = InfiniteDataLoader(dataset = dataset[datatype], batch_size=1, shuffle = False, num_workers = 0, collate_fn = custom_collate_fn)"
   ]
  },
  {
   "cell_type": "code",
   "execution_count": 27,
   "id": "5465d0ad-2f89-45a5-9e48-a55da7c4fa47",
   "metadata": {
    "execution": {
     "iopub.execute_input": "2024-10-16T23:00:15.747659Z",
     "iopub.status.busy": "2024-10-16T23:00:15.747388Z",
     "iopub.status.idle": "2024-10-16T23:00:15.779649Z",
     "shell.execute_reply": "2024-10-16T23:00:15.778972Z",
     "shell.execute_reply.started": "2024-10-16T23:00:15.747638Z"
    },
    "scrolled": true
   },
   "outputs": [],
   "source": [
    "# %%timeit\n",
    "# for dataset in ['train', 'val', 'test']:\n",
    "#     for idx, batch in enumerate(data_loader[dataset]):\n",
    "#         print(batch[0].shape[0], batch[1].sum())\n",
    "#         # display_cellpainting_batch(idx, batch)\n",
    "#         if idx == 1:\n",
    "#             break"
   ]
  },
  {
   "cell_type": "code",
   "execution_count": 28,
   "id": "1247a1cd-eda6-4231-9603-feab85fea20d",
   "metadata": {
    "execution": {
     "iopub.execute_input": "2024-10-16T23:00:15.841701Z",
     "iopub.status.busy": "2024-10-16T23:00:15.841413Z",
     "iopub.status.idle": "2024-10-16T23:00:15.874341Z",
     "shell.execute_reply": "2024-10-16T23:00:15.873618Z",
     "shell.execute_reply.started": "2024-10-16T23:00:15.841679Z"
    }
   },
   "outputs": [],
   "source": [
    "# # -----------------------------------------\n",
    "# #  Count pos/neg labels in each dataset\n",
    "# # -----------------------------------------\n",
    "# for datatype in ['train', 'val', 'test']:\n",
    "#     MINIBATCH_SIZE = data_loader[datatype].dataset.sample_size * data_loader[datatype].dataset.compounds_per_batch\n",
    "#     print(f\" {datatype.capitalize()} Minibatch size : {MINIBATCH_SIZE} \\n\") \n",
    "# # for datatype in ['val', 'test']:\n",
    "#     minibatches = len(data_loader[datatype]) // MINIBATCH_SIZE\n",
    "#     ttl_rows = 0\n",
    "#     ttl_pos_labels = 0\n",
    "#     with tqdm.tqdm(enumerate(data_loader[datatype]), initial=0, total = minibatches, position=0, file=sys.stdout,\n",
    "#                    leave= False, desc=f\" Count labels \") as t_warmup:\n",
    "#         for batch_count, (batch_features, batch_labels, _, _, _, _) in t_warmup:\n",
    "#             ttl_rows += batch_labels.shape[0]\n",
    "#             ttl_pos_labels += batch_labels.sum()\n",
    "#     ttl_neg_labels = ttl_rows - ttl_pos_labels\n",
    "#     ttl = f\"\\n Dataset: {datatype} -  len of {datatype} data loader: {len(data_loader[datatype])}   number of batches: {minibatches}\"\n",
    "#     print(ttl)\n",
    "#     print('-'*len(ttl))\n",
    "#     print(f\" total rows     : {ttl_rows:7d}\")\n",
    "#     print(f\" total pos rows : {ttl_pos_labels:7.0f} - {ttl_pos_labels*100.0/ttl_rows:5.2f}%\")\n",
    "#     print(f\" total neg rows : {ttl_neg_labels:7.0f} - {ttl_neg_labels*100.0/ttl_rows:5.2f}%\")\n",
    "#     print()"
   ]
  },
  {
   "cell_type": "markdown",
   "id": "0424ff70-bcba-4702-bbb1-9d1871a5489d",
   "metadata": {},
   "source": [
    "     Minibatch size : 1800 \n",
    "                                                                                                 \n",
    "     Dataset: train - len of train data loader: 277200   number of batches: 154  \n",
    "    ------------------------------\n",
    "     total rows     :  277200\n",
    "     total pos rows :   33129 - 11.95%\n",
    "     total neg rows :  244071 - 88.05%\n",
    "\n",
    "     Dataset: val - len of val data loader: 21600   number of batches: 12\n",
    "    ------------------------------\n",
    "     total rows     :   21600\n",
    "     total pos rows :    2532 - 11.72%\n",
    "     total neg rows :   19068 - 88.28%\n",
    "    \n",
    "     Dataset: test - len of test data loader: 12600   number of batches: 7\n",
    "    ------------------------------\n",
    "     total rows     :   12600\n",
    "     total pos rows :    1431 - 11.36%\n",
    "     total neg rows :   11169 - 88.64%"
   ]
  },
  {
   "attachments": {},
   "cell_type": "markdown",
   "id": "a34d7988-3fab-4356-bad5-1511fe8bad40",
   "metadata": {},
   "source": [
    "# Define Neural Net Model \n",
    "\n",
    "- **4 layer model :**\n",
    "\n",
    "    Input --> Hidden1 --> (BN/NL) ---> Hidden2 ---> (BN/NL) ---> Hidden3 --->  (BN/NL) ---> 1\n",
    "   \n",
    "    -  **20240909_1800** : Run on 4 FC layers model, model configuration UNKNOWN\n",
    "    -  **20240909_1801** : Run on 4 FC layers model, Relu non linearities (NO Batch Norm)\n",
    "    -  **20240909_2100** : Run on 4 FC layers model, with BATCH NORM / Tanh 256,256,128\n",
    "    -  **20240930_1930** : Run on 4 FC layers model, with BATCH NORM/ Tanh 512,512,128\n",
    "      \n",
    " - **Single Hidden Layer - 256**\n",
    "\n",
    "   Input --> Hidden1 --> (Tanh) --->  1\n",
    "    -  **20240916_1830** : Run on 1 FC layers model, Input --> 256 --> Tanh --> 1 ,  Read from 20240906_2201 (SNNL - CPB 600, LAT 150, SNN Factor 3)\n",
    "    -  **20240926_1900** : Run on 1 FC layers model, Input --> 256 --> Tanh --> 1 ,  Read from 20240917_2017 (BASELINE - CPB 600, LAT 250, SNN Factor 0)\n",
    "    -  **20240926_1930** : Run on 1 FC layers model, Input --> 256 --> Tanh --> 1 ,  Read from 20240917_2004 (SNNL - CPB 600, LAT 250, SNN Factor 3)\n",
    "    -  **20240926_2000** : Run on 1 FC layers model, Input --> 256 --> Tanh --> 1 ,  Read from 20240924_0146 (SNNL - CPB 600, LAT 250, SNN Factor 30)\n",
    "<br>\n",
    "\n",
    " - **Single Hidden Layer - 256**\n",
    "\n",
    "    -  **20240921_0700** : Run on 1 FC layers model (includes final layer), Input --> 512 --> Tanh --> 1 ,  Read from 20240906_2201 (SNNL - CPB 600, LAT 150, SNN Factor 3)    \n"
   ]
  },
  {
   "cell_type": "code",
   "execution_count": 47,
   "id": "f32c6590-d212-4f37-8ce1-4ee46fd4246a",
   "metadata": {
    "ExecuteTime": {
     "end_time": "2023-07-31T18:45:44.380055Z",
     "start_time": "2023-07-31T18:45:41.073911Z"
    },
    "execution": {
     "iopub.execute_input": "2024-10-17T11:47:53.917345Z",
     "iopub.status.busy": "2024-10-17T11:47:53.916953Z",
     "iopub.status.idle": "2024-10-17T11:47:53.959624Z",
     "shell.execute_reply": "2024-10-17T11:47:53.958956Z",
     "shell.execute_reply.started": "2024-10-17T11:47:53.917312Z"
    }
   },
   "outputs": [
    {
     "name": "stdout",
     "output_type": "stream",
     "text": [
      "==============================================================================================================================================================================================\n",
      "Layer (type:depth-idx)                   Input Shape               Output Shape              Param #                   Param %                   Mult-Adds                 Trainable\n",
      "==============================================================================================================================================================================================\n",
      "Sequential                               [30, 250]                 [30, 1]                   --                             --                   --                        True\n",
      "├─Linear: 1-1                            [30, 250]                 [30, 256]                 64,256                     99.60%                   1,927,680                 True\n",
      "│    └─weight                                                                                ├─64,000\n",
      "│    └─bias                                                                                  └─256\n",
      "├─Tanh: 1-2                              [30, 256]                 [30, 256]                 --                             --                   --                        --\n",
      "├─Linear: 1-3                            [30, 256]                 [30, 1]                   257                         0.40%                   7,710                     True\n",
      "│    └─weight                                                                                ├─256\n",
      "│    └─bias                                                                                  └─1\n",
      "==============================================================================================================================================================================================\n",
      "Total params: 64,513\n",
      "Trainable params: 64,513\n",
      "Non-trainable params: 0\n",
      "Total mult-adds (Units.MEGABYTES): 1.94\n",
      "==============================================================================================================================================================================================\n",
      "Input size (MB): 0.03\n",
      "Forward/backward pass size (MB): 0.06\n",
      "Params size (MB): 0.26\n",
      "Estimated Total Size (MB): 0.35\n",
      "==============================================================================================================================================================================================\n"
     ]
    }
   ],
   "source": [
    "model = build_model(MODEL_TYPE, input = n_input, hidden_1 = n_hidden_1, hidden_2 = n_hidden_2, hidden_3=n_hidden_3, device = device)"
   ]
  },
  {
   "cell_type": "code",
   "execution_count": 48,
   "id": "3dc6a92e-2ca2-4ed8-b9f9-38d720f13973",
   "metadata": {
    "ExecuteTime": {
     "end_time": "2023-07-31T18:48:09.459977Z",
     "start_time": "2023-07-31T18:48:09.429767Z"
    },
    "execution": {
     "iopub.execute_input": "2024-10-17T11:47:54.946638Z",
     "iopub.status.busy": "2024-10-17T11:47:54.946157Z",
     "iopub.status.idle": "2024-10-17T11:47:54.987670Z",
     "shell.execute_reply": "2024-10-17T11:47:54.986945Z",
     "shell.execute_reply.started": "2024-10-17T11:47:54.946608Z"
    }
   },
   "outputs": [],
   "source": [
    "metrics = { 'loss_trn' : [], 'acc_trn' : [], 'loss_val' : [], 'acc_val' : []}\n",
    "\n",
    "start_epoch, end_epoch = 0,0\n",
    "init_LR = 1.0e-3\n",
    "# curr_LR = init_LR\n",
    "\n",
    "# create a PyTorch optimizer\n",
    "optimizer = torch.optim.AdamW(model.parameters(), lr=init_LR)\n",
    "\n",
    "# scheduler = torch.optim.lr_scheduler.ReduceLROnPlateau(optimizer, mode = 'min', factor = 0.3 , patience=20, cooldown=10,)\n",
    "# scheduler = torch.optim.lr_scheduler.StepLR(optimizer, step_size = step_size, gamma=0.1, last_epoch =-1)\n",
    "scheduler = torch.optim.lr_scheduler.ReduceLROnPlateau(optimizer, mode = 'min', factor = 0.5, threshold=1.0e-06, patience=50, cooldown=10,)"
   ]
  },
  {
   "cell_type": "markdown",
   "id": "4cbb012c-1066-4a40-ba6d-8bd792e06ffb",
   "metadata": {},
   "source": [
    "### Read checkpoint"
   ]
  },
  {
   "cell_type": "code",
   "execution_count": 49,
   "id": "9d8cc5c1-a8b4-4488-ba18-c7b6180722ca",
   "metadata": {
    "execution": {
     "iopub.execute_input": "2024-10-17T11:47:56.170960Z",
     "iopub.status.busy": "2024-10-17T11:47:56.170592Z",
     "iopub.status.idle": "2024-10-17T11:47:56.204115Z",
     "shell.execute_reply": "2024-10-17T11:47:56.203380Z",
     "shell.execute_reply.started": "2024-10-17T11:47:56.170938Z"
    }
   },
   "outputs": [],
   "source": [
    "# loaded_epoch\n",
    "# optimizer.state_dict()\n",
    "# scheduler.state_dict()"
   ]
  },
  {
   "cell_type": "code",
   "execution_count": 50,
   "id": "9d093781-edac-4acb-a6ed-8c9f322228e4",
   "metadata": {
    "execution": {
     "iopub.execute_input": "2024-10-17T11:47:57.450254Z",
     "iopub.status.busy": "2024-10-17T11:47:57.449861Z",
     "iopub.status.idle": "2024-10-17T11:47:57.484710Z",
     "shell.execute_reply": "2024-10-17T11:47:57.484099Z",
     "shell.execute_reply.started": "2024-10-17T11:47:57.450222Z"
    }
   },
   "outputs": [],
   "source": [
    "# model, optimizer, scheudler, end_epoch = load_checkpoint(model, optimizer, scheduler, checkpoint_file.format(ep=100), ckpt_path = CKPT_PATH)\n",
    "# model = model.to(device)"
   ]
  },
  {
   "cell_type": "code",
   "execution_count": 51,
   "id": "9599cdd1-7434-4360-aa21-d8130696ffc3",
   "metadata": {
    "execution": {
     "iopub.execute_input": "2024-10-17T11:47:58.166064Z",
     "iopub.status.busy": "2024-10-17T11:47:58.165769Z",
     "iopub.status.idle": "2024-10-17T11:47:58.196231Z",
     "shell.execute_reply": "2024-10-17T11:47:58.195635Z",
     "shell.execute_reply.started": "2024-10-17T11:47:58.166043Z"
    }
   },
   "outputs": [],
   "source": [
    "# end_epoch\n",
    "# optimizer.state_dict()\n",
    "# scheduler.state_dict()"
   ]
  },
  {
   "cell_type": "markdown",
   "id": "5a53a7c8-de53-45ec-ac18-2519c89e3ce5",
   "metadata": {},
   "source": [
    "# Run Training"
   ]
  },
  {
   "cell_type": "code",
   "execution_count": 52,
   "id": "31ec54be-10d4-4b6e-85c9-8175fab24f02",
   "metadata": {
    "ExecuteTime": {
     "end_time": "2023-07-31T18:48:09.459977Z",
     "start_time": "2023-07-31T18:48:09.429767Z"
    },
    "execution": {
     "iopub.execute_input": "2024-10-17T11:48:00.190269Z",
     "iopub.status.busy": "2024-10-17T11:48:00.189843Z",
     "iopub.status.idle": "2024-10-17T11:48:00.228779Z",
     "shell.execute_reply": "2024-10-17T11:48:00.228106Z",
     "shell.execute_reply.started": "2024-10-17T11:48:00.190234Z"
    }
   },
   "outputs": [
    {
     "name": "stdout",
     "output_type": "stream",
     "text": [
      "0 400\n"
     ]
    }
   ],
   "source": [
    "# start_epoch = 0\n",
    "# start_epoch = loaded_epoch\n",
    "start_epoch = end_epoch\n",
    "end_epoch += 400\n",
    "# start_epoch, end_epoch = 0,100\n",
    "print(start_epoch, end_epoch)\n",
    "_ = model.train()"
   ]
  },
  {
   "cell_type": "code",
   "execution_count": null,
   "id": "b26ae239-ec9d-4afc-aef9-387fa19d0ca0",
   "metadata": {
    "ExecuteTime": {
     "end_time": "2023-07-31T19:00:14.450630Z",
     "start_time": "2023-07-31T18:49:12.235999Z"
    },
    "execution": {
     "iopub.execute_input": "2024-10-17T11:48:01.072029Z",
     "iopub.status.busy": "2024-10-17T11:48:01.071663Z"
    },
    "scrolled": true
   },
   "outputs": [
    {
     "name": "stdout",
     "output_type": "stream",
     "text": [
      " 13:48:24 | Ep:   1/ 400 | Trn loss:  0.430012 - Acc: 85.5476 | Val loss:  0.355008 - Acc: 88.2315 | last_lr: 1.00000e-03  bad_ep: 0  cdwn: 0                              \n",
      " 13:48:47 | Ep:   2/ 400 | Trn loss:  0.358543 - Acc: 88.0072 | Val loss:  0.354091 - Acc: 88.2176 | last_lr: 1.00000e-03  bad_ep: 0  cdwn: 0                              \n",
      " 13:49:10 | Ep:   3/ 400 | Trn loss:  0.357419 - Acc: 88.0115 | Val loss:  0.353443 - Acc: 88.2130 | last_lr: 1.00000e-03  bad_ep: 0  cdwn: 0                              \n",
      " 13:49:34 | Ep:   4/ 400 | Trn loss:  0.356669 - Acc: 88.0123 | Val loss:  0.352974 - Acc: 88.2361 | last_lr: 1.00000e-03  bad_ep: 0  cdwn: 0                              \n",
      " 13:49:57 | Ep:   5/ 400 | Trn loss:  0.356134 - Acc: 88.0188 | Val loss:  0.352532 - Acc: 88.2454 | last_lr: 1.00000e-03  bad_ep: 0  cdwn: 0                              \n",
      " 13:50:20 | Ep:   6/ 400 | Trn loss:  0.355694 - Acc: 88.0242 | Val loss:  0.352350 - Acc: 88.2315 | last_lr: 1.00000e-03  bad_ep: 0  cdwn: 0                              \n",
      " 13:50:43 | Ep:   7/ 400 | Trn loss:  0.355321 - Acc: 88.0292 | Val loss:  0.352167 - Acc: 88.2315 | last_lr: 1.00000e-03  bad_ep: 0  cdwn: 0                              \n",
      " 13:51:07 | Ep:   8/ 400 | Trn loss:  0.355008 - Acc: 88.0408 | Val loss:  0.351939 - Acc: 88.2176 | last_lr: 1.00000e-03  bad_ep: 0  cdwn: 0                              \n",
      " 13:51:30 | Ep:   9/ 400 | Trn loss:  0.354727 - Acc: 88.0476 | Val loss:  0.351738 - Acc: 88.2315 | last_lr: 1.00000e-03  bad_ep: 0  cdwn: 0                              \n",
      " 13:51:53 | Ep:  10/ 400 | Trn loss:  0.354495 - Acc: 88.0538 | Val loss:  0.351554 - Acc: 88.2361 | last_lr: 1.00000e-03  bad_ep: 0  cdwn: 0                              \n",
      " 13:52:17 | Ep:  11/ 400 | Trn loss:  0.354254 - Acc: 88.0523 | Val loss:  0.351434 - Acc: 88.2269 | last_lr: 1.00000e-03  bad_ep: 0  cdwn: 0                              \n",
      " 13:52:40 | Ep:  12/ 400 | Trn loss:  0.354049 - Acc: 88.0624 | Val loss:  0.351284 - Acc: 88.2315 | last_lr: 1.00000e-03  bad_ep: 0  cdwn: 0                              \n",
      " 13:53:03 | Ep:  13/ 400 | Trn loss:  0.353873 - Acc: 88.0628 | Val loss:  0.351077 - Acc: 88.2454 | last_lr: 1.00000e-03  bad_ep: 0  cdwn: 0                              \n",
      " 13:53:27 | Ep:  14/ 400 | Trn loss:  0.353713 - Acc: 88.0682 | Val loss:  0.350937 - Acc: 88.2407 | last_lr: 1.00000e-03  bad_ep: 0  cdwn: 0                              \n",
      " 13:53:49 | Ep:  15/ 400 | Trn loss:  0.353579 - Acc: 88.0649 | Val loss:  0.350769 - Acc: 88.2407 | last_lr: 1.00000e-03  bad_ep: 0  cdwn: 0                              \n",
      " 13:54:12 | Ep:  16/ 400 | Trn loss:  0.353447 - Acc: 88.0718 | Val loss:  0.350693 - Acc: 88.2315 | last_lr: 1.00000e-03  bad_ep: 0  cdwn: 0                              \n",
      " 13:54:36 | Ep:  17/ 400 | Trn loss:  0.353346 - Acc: 88.0722 | Val loss:  0.350661 - Acc: 88.2454 | last_lr: 1.00000e-03  bad_ep: 0  cdwn: 0                              \n",
      " 13:55:00 | Ep:  18/ 400 | Trn loss:  0.353243 - Acc: 88.0678 | Val loss:  0.350552 - Acc: 88.2269 | last_lr: 1.00000e-03  bad_ep: 0  cdwn: 0                              \n",
      " 13:55:24 | Ep:  19/ 400 | Trn loss:  0.353130 - Acc: 88.0722 | Val loss:  0.350541 - Acc: 88.2222 | last_lr: 1.00000e-03  bad_ep: 0  cdwn: 0                              \n",
      " 13:55:47 | Ep:  20/ 400 | Trn loss:  0.353023 - Acc: 88.0740 | Val loss:  0.350457 - Acc: 88.2407 | last_lr: 1.00000e-03  bad_ep: 0  cdwn: 0                              \n",
      " 13:56:11 | Ep:  21/ 400 | Trn loss:  0.352916 - Acc: 88.0779 | Val loss:  0.350326 - Acc: 88.2361 | last_lr: 1.00000e-03  bad_ep: 0  cdwn: 0                              \n",
      " 13:56:35 | Ep:  22/ 400 | Trn loss:  0.352822 - Acc: 88.0747 | Val loss:  0.350297 - Acc: 88.2315 | last_lr: 1.00000e-03  bad_ep: 0  cdwn: 0                              \n",
      " 13:56:59 | Ep:  23/ 400 | Trn loss:  0.352758 - Acc: 88.0815 | Val loss:  0.350217 - Acc: 88.2407 | last_lr: 1.00000e-03  bad_ep: 0  cdwn: 0                              \n",
      " 13:57:22 | Ep:  24/ 400 | Trn loss:  0.352689 - Acc: 88.0779 | Val loss:  0.350265 - Acc: 88.2361 | last_lr: 1.00000e-03  bad_ep: 1  cdwn: 0                              \n",
      " 13:57:46 | Ep:  25/ 400 | Trn loss:  0.352618 - Acc: 88.0808 | Val loss:  0.350143 - Acc: 88.2222 | last_lr: 1.00000e-03  bad_ep: 0  cdwn: 0                              \n",
      " 13:58:10 | Ep:  26/ 400 | Trn loss:  0.352534 - Acc: 88.0833 | Val loss:  0.350102 - Acc: 88.2269 | last_lr: 1.00000e-03  bad_ep: 0  cdwn: 0                              \n",
      " 13:58:33 | Ep:  27/ 400 | Trn loss:  0.352477 - Acc: 88.0768 | Val loss:  0.350022 - Acc: 88.2269 | last_lr: 1.00000e-03  bad_ep: 0  cdwn: 0                              \n",
      " 13:58:56 | Ep:  28/ 400 | Trn loss:  0.352394 - Acc: 88.0855 | Val loss:  0.349954 - Acc: 88.2222 | last_lr: 1.00000e-03  bad_ep: 0  cdwn: 0                              \n",
      " 13:59:20 | Ep:  29/ 400 | Trn loss:  0.352337 - Acc: 88.0826 | Val loss:  0.349920 - Acc: 88.2083 | last_lr: 1.00000e-03  bad_ep: 0  cdwn: 0                              \n",
      " 13:59:43 | Ep:  30/ 400 | Trn loss:  0.352262 - Acc: 88.0855 | Val loss:  0.349883 - Acc: 88.2130 | last_lr: 1.00000e-03  bad_ep: 0  cdwn: 0                              \n",
      " 14:00:07 | Ep:  31/ 400 | Trn loss:  0.352214 - Acc: 88.0884 | Val loss:  0.349831 - Acc: 88.2176 | last_lr: 1.00000e-03  bad_ep: 0  cdwn: 0                              \n",
      " 14:00:30 | Ep:  32/ 400 | Trn loss:  0.352150 - Acc: 88.0855 | Val loss:  0.349870 - Acc: 88.2315 | last_lr: 1.00000e-03  bad_ep: 1  cdwn: 0                              \n",
      " 14:00:54 | Ep:  33/ 400 | Trn loss:  0.352086 - Acc: 88.0902 | Val loss:  0.349876 - Acc: 88.2361 | last_lr: 1.00000e-03  bad_ep: 2  cdwn: 0                              \n",
      " 14:01:17 | Ep:  34/ 400 | Trn loss:  0.352004 - Acc: 88.0924 | Val loss:  0.349797 - Acc: 88.2315 | last_lr: 1.00000e-03  bad_ep: 0  cdwn: 0                              \n",
      " 14:01:39 | Ep:  35/ 400 | Trn loss:  0.351954 - Acc: 88.0938 | Val loss:  0.349746 - Acc: 88.2222 | last_lr: 1.00000e-03  bad_ep: 0  cdwn: 0                              \n",
      " 14:02:02 | Ep:  36/ 400 | Trn loss:  0.351892 - Acc: 88.0992 | Val loss:  0.349790 - Acc: 88.2176 | last_lr: 1.00000e-03  bad_ep: 1  cdwn: 0                              \n",
      " 14:02:25 | Ep:  37/ 400 | Trn loss:  0.351839 - Acc: 88.0981 | Val loss:  0.349732 - Acc: 88.2176 | last_lr: 1.00000e-03  bad_ep: 0  cdwn: 0                              \n",
      " 14:02:47 | Ep:  38/ 400 | Trn loss:  0.351783 - Acc: 88.0963 | Val loss:  0.349689 - Acc: 88.2083 | last_lr: 1.00000e-03  bad_ep: 0  cdwn: 0                              \n",
      " 14:03:10 | Ep:  39/ 400 | Trn loss:  0.351725 - Acc: 88.0992 | Val loss:  0.349670 - Acc: 88.1944 | last_lr: 1.00000e-03  bad_ep: 0  cdwn: 0                              \n",
      " 14:03:32 | Ep:  40/ 400 | Trn loss:  0.351681 - Acc: 88.0988 | Val loss:  0.349608 - Acc: 88.2222 | last_lr: 1.00000e-03  bad_ep: 0  cdwn: 0                              \n",
      " 14:03:55 | Ep:  41/ 400 | Trn loss:  0.351613 - Acc: 88.0999 | Val loss:  0.349637 - Acc: 88.2083 | last_lr: 1.00000e-03  bad_ep: 1  cdwn: 0                              \n",
      " 14:04:18 | Ep:  42/ 400 | Trn loss:  0.351562 - Acc: 88.1021 | Val loss:  0.349581 - Acc: 88.2176 | last_lr: 1.00000e-03  bad_ep: 0  cdwn: 0                              \n",
      " 14:04:40 | Ep:  43/ 400 | Trn loss:  0.351499 - Acc: 88.1046 | Val loss:  0.349586 - Acc: 88.2222 | last_lr: 1.00000e-03  bad_ep: 1  cdwn: 0                              \n",
      " 14:05:03 | Ep:  44/ 400 | Trn loss:  0.351440 - Acc: 88.1068 | Val loss:  0.349588 - Acc: 88.2176 | last_lr: 1.00000e-03  bad_ep: 2  cdwn: 0                              \n",
      " 14:05:25 | Ep:  45/ 400 | Trn loss:  0.351397 - Acc: 88.1039 | Val loss:  0.349569 - Acc: 88.2361 | last_lr: 1.00000e-03  bad_ep: 0  cdwn: 0                              \n",
      " 14:05:48 | Ep:  46/ 400 | Trn loss:  0.351331 - Acc: 88.1075 | Val loss:  0.349528 - Acc: 88.2222 | last_lr: 1.00000e-03  bad_ep: 0  cdwn: 0                              \n",
      " 14:06:10 | Ep:  47/ 400 | Trn loss:  0.351282 - Acc: 88.1064 | Val loss:  0.349518 - Acc: 88.2176 | last_lr: 1.00000e-03  bad_ep: 0  cdwn: 0                              \n",
      " 14:06:33 | Ep:  48/ 400 | Trn loss:  0.351221 - Acc: 88.1068 | Val loss:  0.349460 - Acc: 88.2361 | last_lr: 1.00000e-03  bad_ep: 0  cdwn: 0                              \n",
      " 14:06:55 | Ep:  49/ 400 | Trn loss:  0.351170 - Acc: 88.1111 | Val loss:  0.349446 - Acc: 88.2315 | last_lr: 1.00000e-03  bad_ep: 0  cdwn: 0                              \n",
      " 14:07:18 | Ep:  50/ 400 | Trn loss:  0.351104 - Acc: 88.1108 | Val loss:  0.349347 - Acc: 88.2269 | last_lr: 1.00000e-03  bad_ep: 0  cdwn: 0                              \n",
      " 14:07:41 | Ep:  51/ 400 | Trn loss:  0.351046 - Acc: 88.1100 | Val loss:  0.349309 - Acc: 88.2315 | last_lr: 1.00000e-03  bad_ep: 0  cdwn: 0                              \n",
      " 14:08:04 | Ep:  52/ 400 | Trn loss:  0.350990 - Acc: 88.1147 | Val loss:  0.349276 - Acc: 88.2454 | last_lr: 1.00000e-03  bad_ep: 0  cdwn: 0                              \n",
      " 14:08:26 | Ep:  53/ 400 | Trn loss:  0.350936 - Acc: 88.1133 | Val loss:  0.349244 - Acc: 88.2407 | last_lr: 1.00000e-03  bad_ep: 0  cdwn: 0                              \n",
      " 14:08:49 | Ep:  54/ 400 | Trn loss:  0.350869 - Acc: 88.1151 | Val loss:  0.349176 - Acc: 88.2269 | last_lr: 1.00000e-03  bad_ep: 0  cdwn: 0                              \n",
      " 14:09:11 | Ep:  55/ 400 | Trn loss:  0.350816 - Acc: 88.1169 | Val loss:  0.349190 - Acc: 88.2176 | last_lr: 1.00000e-03  bad_ep: 1  cdwn: 0                              \n",
      " 14:09:34 | Ep:  56/ 400 | Trn loss:  0.350764 - Acc: 88.1198 | Val loss:  0.349175 - Acc: 88.2315 | last_lr: 1.00000e-03  bad_ep: 0  cdwn: 0                              \n",
      " 14:09:57 | Ep:  57/ 400 | Trn loss:  0.350702 - Acc: 88.1190 | Val loss:  0.349098 - Acc: 88.2222 | last_lr: 1.00000e-03  bad_ep: 0  cdwn: 0                              \n",
      " 14:10:19 | Ep:  58/ 400 | Trn loss:  0.350659 - Acc: 88.1216 | Val loss:  0.349034 - Acc: 88.2269 | last_lr: 1.00000e-03  bad_ep: 0  cdwn: 0                              \n",
      " 14:10:41 | Ep:  59/ 400 | Trn loss:  0.350583 - Acc: 88.1248 | Val loss:  0.349086 - Acc: 88.2361 | last_lr: 1.00000e-03  bad_ep: 1  cdwn: 0                              \n",
      " 14:11:04 | Ep:  60/ 400 | Trn loss:  0.350524 - Acc: 88.1255 | Val loss:  0.349107 - Acc: 88.2407 | last_lr: 1.00000e-03  bad_ep: 2  cdwn: 0                              \n",
      " 14:11:26 | Ep:  61/ 400 | Trn loss:  0.350484 - Acc: 88.1259 | Val loss:  0.349064 - Acc: 88.2315 | last_lr: 1.00000e-03  bad_ep: 3  cdwn: 0                              \n",
      " 14:11:49 | Ep:  62/ 400 | Trn loss:  0.350427 - Acc: 88.1266 | Val loss:  0.349042 - Acc: 88.2500 | last_lr: 1.00000e-03  bad_ep: 4  cdwn: 0                              \n",
      " 14:12:12 | Ep:  63/ 400 | Trn loss:  0.350367 - Acc: 88.1270 | Val loss:  0.348989 - Acc: 88.2361 | last_lr: 1.00000e-03  bad_ep: 0  cdwn: 0                              \n",
      " 14:12:34 | Ep:  64/ 400 | Trn loss:  0.350319 - Acc: 88.1310 | Val loss:  0.348947 - Acc: 88.2454 | last_lr: 1.00000e-03  bad_ep: 0  cdwn: 0                              \n",
      " 14:12:57 | Ep:  65/ 400 | Trn loss:  0.350277 - Acc: 88.1306 | Val loss:  0.348957 - Acc: 88.2454 | last_lr: 1.00000e-03  bad_ep: 1  cdwn: 0                              \n",
      " 14:13:19 | Ep:  66/ 400 | Trn loss:  0.350198 - Acc: 88.1328 | Val loss:  0.348952 - Acc: 88.2361 | last_lr: 1.00000e-03  bad_ep: 2  cdwn: 0                              \n",
      " 14:13:42 | Ep:  67/ 400 | Trn loss:  0.350152 - Acc: 88.1367 | Val loss:  0.348932 - Acc: 88.2407 | last_lr: 1.00000e-03  bad_ep: 0  cdwn: 0                              \n",
      " 14:14:04 | Ep:  68/ 400 | Trn loss:  0.350093 - Acc: 88.1367 | Val loss:  0.348873 - Acc: 88.2407 | last_lr: 1.00000e-03  bad_ep: 0  cdwn: 0                              \n",
      " 14:14:27 | Ep:  69/ 400 | Trn loss:  0.350044 - Acc: 88.1356 | Val loss:  0.348918 - Acc: 88.2361 | last_lr: 1.00000e-03  bad_ep: 1  cdwn: 0                              \n",
      " 14:14:49 | Ep:  70/ 400 | Trn loss:  0.349997 - Acc: 88.1382 | Val loss:  0.348795 - Acc: 88.2315 | last_lr: 1.00000e-03  bad_ep: 0  cdwn: 0                              \n",
      " 14:15:12 | Ep:  71/ 400 | Trn loss:  0.349955 - Acc: 88.1353 | Val loss:  0.348835 - Acc: 88.2407 | last_lr: 1.00000e-03  bad_ep: 1  cdwn: 0                              \n",
      " 14:15:34 | Ep:  72/ 400 | Trn loss:  0.349895 - Acc: 88.1371 | Val loss:  0.348763 - Acc: 88.2500 | last_lr: 1.00000e-03  bad_ep: 0  cdwn: 0                              \n",
      " 14:15:57 | Ep:  73/ 400 | Trn loss:  0.349828 - Acc: 88.1400 | Val loss:  0.348761 - Acc: 88.2407 | last_lr: 1.00000e-03  bad_ep: 0  cdwn: 0                              \n",
      " 14:16:19 | Ep:  74/ 400 | Trn loss:  0.349769 - Acc: 88.1403 | Val loss:  0.348822 - Acc: 88.2361 | last_lr: 1.00000e-03  bad_ep: 1  cdwn: 0                              \n",
      " 14:16:42 | Ep:  75/ 400 | Trn loss:  0.349727 - Acc: 88.1411 | Val loss:  0.348857 - Acc: 88.2361 | last_lr: 1.00000e-03  bad_ep: 2  cdwn: 0                              \n",
      " 14:17:05 | Ep:  76/ 400 | Trn loss:  0.349698 - Acc: 88.1429 | Val loss:  0.348848 - Acc: 88.2454 | last_lr: 1.00000e-03  bad_ep: 3  cdwn: 0                              \n",
      " 14:17:27 | Ep:  77/ 400 | Trn loss:  0.349657 - Acc: 88.1421 | Val loss:  0.348746 - Acc: 88.2500 | last_lr: 1.00000e-03  bad_ep: 0  cdwn: 0                              \n",
      " 14:17:50 | Ep:  78/ 400 | Trn loss:  0.349607 - Acc: 88.1443 | Val loss:  0.348774 - Acc: 88.2269 | last_lr: 1.00000e-03  bad_ep: 1  cdwn: 0                              \n",
      " 14:18:13 | Ep:  79/ 400 | Trn loss:  0.349544 - Acc: 88.1508 | Val loss:  0.348800 - Acc: 88.2222 | last_lr: 1.00000e-03  bad_ep: 2  cdwn: 0                              \n",
      " 14:18:35 | Ep:  80/ 400 | Trn loss:  0.349506 - Acc: 88.1504 | Val loss:  0.348865 - Acc: 88.2269 | last_lr: 1.00000e-03  bad_ep: 3  cdwn: 0                              \n",
      " 14:18:58 | Ep:  81/ 400 | Trn loss:  0.349438 - Acc: 88.1526 | Val loss:  0.348835 - Acc: 88.2222 | last_lr: 1.00000e-03  bad_ep: 4  cdwn: 0                              \n",
      " 14:19:21 | Ep:  82/ 400 | Trn loss:  0.349397 - Acc: 88.1537 | Val loss:  0.348854 - Acc: 88.2130 | last_lr: 1.00000e-03  bad_ep: 5  cdwn: 0                              \n",
      " 14:19:43 | Ep:  83/ 400 | Trn loss:  0.349362 - Acc: 88.1530 | Val loss:  0.348943 - Acc: 88.2176 | last_lr: 1.00000e-03  bad_ep: 6  cdwn: 0                              \n",
      " 14:20:06 | Ep:  84/ 400 | Trn loss:  0.349320 - Acc: 88.1544 | Val loss:  0.348970 - Acc: 88.2176 | last_lr: 1.00000e-03  bad_ep: 7  cdwn: 0                              \n",
      " 14:20:29 | Ep:  85/ 400 | Trn loss:  0.349250 - Acc: 88.1562 | Val loss:  0.349000 - Acc: 88.2222 | last_lr: 1.00000e-03  bad_ep: 8  cdwn: 0                              \n",
      " 14:20:52 | Ep:  86/ 400 | Trn loss:  0.349228 - Acc: 88.1544 | Val loss:  0.348973 - Acc: 88.2130 | last_lr: 1.00000e-03  bad_ep: 9  cdwn: 0                              \n",
      " 14:21:15 | Ep:  87/ 400 | Trn loss:  0.349157 - Acc: 88.1569 | Val loss:  0.349007 - Acc: 88.2176 | last_lr: 1.00000e-03  bad_ep: 10  cdwn: 0                             \n",
      " 14:21:37 | Ep:  88/ 400 | Trn loss:  0.349116 - Acc: 88.1540 | Val loss:  0.349043 - Acc: 88.2130 | last_lr: 1.00000e-03  bad_ep: 11  cdwn: 0                             \n",
      " 14:22:00 | Ep:  89/ 400 | Trn loss:  0.349072 - Acc: 88.1562 | Val loss:  0.348958 - Acc: 88.2176 | last_lr: 1.00000e-03  bad_ep: 12  cdwn: 0                             \n",
      " 14:22:23 | Ep:  90/ 400 | Trn loss:  0.349029 - Acc: 88.1584 | Val loss:  0.348959 - Acc: 88.2130 | last_lr: 1.00000e-03  bad_ep: 13  cdwn: 0                             \n",
      " 14:22:45 | Ep:  91/ 400 | Trn loss:  0.349017 - Acc: 88.1573 | Val loss:  0.348971 - Acc: 88.2222 | last_lr: 1.00000e-03  bad_ep: 14  cdwn: 0                             \n",
      " 14:23:08 | Ep:  92/ 400 | Trn loss:  0.348966 - Acc: 88.1609 | Val loss:  0.349019 - Acc: 88.2037 | last_lr: 1.00000e-03  bad_ep: 15  cdwn: 0                             \n",
      " 14:23:30 | Ep:  93/ 400 | Trn loss:  0.348918 - Acc: 88.1591 | Val loss:  0.348979 - Acc: 88.2269 | last_lr: 1.00000e-03  bad_ep: 16  cdwn: 0                             \n",
      " 14:23:52 | Ep:  94/ 400 | Trn loss:  0.348871 - Acc: 88.1634 | Val loss:  0.348994 - Acc: 88.2176 | last_lr: 1.00000e-03  bad_ep: 17  cdwn: 0                             \n",
      " 14:24:15 | Ep:  95/ 400 | Trn loss:  0.348830 - Acc: 88.1652 | Val loss:  0.349005 - Acc: 88.2083 | last_lr: 1.00000e-03  bad_ep: 18  cdwn: 0                             \n",
      " 14:24:37 | Ep:  96/ 400 | Trn loss:  0.348782 - Acc: 88.1667 | Val loss:  0.349035 - Acc: 88.2269 | last_lr: 1.00000e-03  bad_ep: 19  cdwn: 0                             \n",
      " 14:25:00 | Ep:  97/ 400 | Trn loss:  0.348721 - Acc: 88.1703 | Val loss:  0.349072 - Acc: 88.2222 | last_lr: 1.00000e-03  bad_ep: 20  cdwn: 0                             \n",
      " 14:25:23 | Ep:  98/ 400 | Trn loss:  0.348677 - Acc: 88.1663 | Val loss:  0.349053 - Acc: 88.2176 | last_lr: 1.00000e-03  bad_ep: 21  cdwn: 0                             \n",
      " 14:25:46 | Ep:  99/ 400 | Trn loss:  0.348650 - Acc: 88.1688 | Val loss:  0.349061 - Acc: 88.2361 | last_lr: 1.00000e-03  bad_ep: 22  cdwn: 0                             \n",
      "                                                                                                                                                                           "
     ]
    },
    {
     "name": "stderr",
     "output_type": "stream",
     "text": [
      "2024-10-17 14:26:08,961 - utils.utils_cellpainting - INFO: -  Model exported to NN_snnl_embd600_250Ltnt_512_20240917_2004_LAST_20240926_1933_ep_100.pt - epoch: 100\n"
     ]
    },
    {
     "name": "stdout",
     "output_type": "stream",
     "text": [
      " 14:26:08 | Ep: 100/ 400 | Trn loss:  0.348596 - Acc: 88.1724 | Val loss:  0.349083 - Acc: 88.2546 | last_lr: 1.00000e-03  bad_ep: 23  cdwn: 0 \n",
      " 14:26:31 | Ep: 101/ 400 | Trn loss:  0.348574 - Acc: 88.1677 | Val loss:  0.349109 - Acc: 88.2176 | last_lr: 1.00000e-03  bad_ep: 24  cdwn: 0                             \n",
      " 14:26:54 | Ep: 102/ 400 | Trn loss:  0.348504 - Acc: 88.1692 | Val loss:  0.349084 - Acc: 88.2454 | last_lr: 1.00000e-03  bad_ep: 25  cdwn: 0                             \n",
      " 14:27:16 | Ep: 103/ 400 | Trn loss:  0.348476 - Acc: 88.1663 | Val loss:  0.349177 - Acc: 88.2176 | last_lr: 1.00000e-03  bad_ep: 26  cdwn: 0                             \n",
      " 14:27:39 | Ep: 104/ 400 | Trn loss:  0.348472 - Acc: 88.1703 | Val loss:  0.349155 - Acc: 88.2407 | last_lr: 1.00000e-03  bad_ep: 27  cdwn: 0                             \n",
      " 14:28:02 | Ep: 105/ 400 | Trn loss:  0.348418 - Acc: 88.1703 | Val loss:  0.349051 - Acc: 88.2407 | last_lr: 1.00000e-03  bad_ep: 28  cdwn: 0                             \n",
      " 14:28:24 | Ep: 106/ 400 | Trn loss:  0.348367 - Acc: 88.1721 | Val loss:  0.349137 - Acc: 88.2222 | last_lr: 1.00000e-03  bad_ep: 29  cdwn: 0                             \n",
      " 14:28:47 | Ep: 107/ 400 | Trn loss:  0.348326 - Acc: 88.1724 | Val loss:  0.349106 - Acc: 88.2315 | last_lr: 1.00000e-03  bad_ep: 30  cdwn: 0                             \n",
      " 14:29:09 | Ep: 108/ 400 | Trn loss:  0.348301 - Acc: 88.1728 | Val loss:  0.349137 - Acc: 88.2315 | last_lr: 1.00000e-03  bad_ep: 31  cdwn: 0                             \n",
      " 14:29:32 | Ep: 109/ 400 | Trn loss:  0.348262 - Acc: 88.1732 | Val loss:  0.349175 - Acc: 88.2315 | last_lr: 1.00000e-03  bad_ep: 32  cdwn: 0                             \n",
      " 14:29:54 | Ep: 110/ 400 | Trn loss:  0.348212 - Acc: 88.1768 | Val loss:  0.349182 - Acc: 88.2269 | last_lr: 1.00000e-03  bad_ep: 33  cdwn: 0                             \n",
      " 14:30:17 | Ep: 111/ 400 | Trn loss:  0.348180 - Acc: 88.1768 | Val loss:  0.349209 - Acc: 88.2269 | last_lr: 1.00000e-03  bad_ep: 34  cdwn: 0                             \n",
      " 14:30:39 | Ep: 112/ 400 | Trn loss:  0.348149 - Acc: 88.1800 | Val loss:  0.349240 - Acc: 88.2361 | last_lr: 1.00000e-03  bad_ep: 35  cdwn: 0                             \n",
      " 14:31:02 | Ep: 113/ 400 | Trn loss:  0.348097 - Acc: 88.1797 | Val loss:  0.349285 - Acc: 88.2269 | last_lr: 1.00000e-03  bad_ep: 36  cdwn: 0                             \n",
      " 14:31:24 | Ep: 114/ 400 | Trn loss:  0.348068 - Acc: 88.1829 | Val loss:  0.349246 - Acc: 88.2176 | last_lr: 1.00000e-03  bad_ep: 37  cdwn: 0                             \n",
      " 14:31:47 | Ep: 115/ 400 | Trn loss:  0.348028 - Acc: 88.1807 | Val loss:  0.349261 - Acc: 88.2176 | last_lr: 1.00000e-03  bad_ep: 38  cdwn: 0                             \n",
      " 14:32:09 | Ep: 116/ 400 | Trn loss:  0.347983 - Acc: 88.1894 | Val loss:  0.349318 - Acc: 88.2176 | last_lr: 1.00000e-03  bad_ep: 39  cdwn: 0                             \n",
      " 14:32:32 | Ep: 117/ 400 | Trn loss:  0.347957 - Acc: 88.1865 | Val loss:  0.349326 - Acc: 88.2269 | last_lr: 1.00000e-03  bad_ep: 40  cdwn: 0                             \n",
      " 14:32:55 | Ep: 118/ 400 | Trn loss:  0.347923 - Acc: 88.1858 | Val loss:  0.349331 - Acc: 88.2083 | last_lr: 1.00000e-03  bad_ep: 41  cdwn: 0                             \n",
      " 14:33:17 | Ep: 119/ 400 | Trn loss:  0.347878 - Acc: 88.1880 | Val loss:  0.349347 - Acc: 88.2269 | last_lr: 1.00000e-03  bad_ep: 42  cdwn: 0                             \n",
      " 14:33:40 | Ep: 120/ 400 | Trn loss:  0.347853 - Acc: 88.1923 | Val loss:  0.349335 - Acc: 88.2083 | last_lr: 1.00000e-03  bad_ep: 43  cdwn: 0                             \n",
      " 14:34:03 | Ep: 121/ 400 | Trn loss:  0.347819 - Acc: 88.1883 | Val loss:  0.349355 - Acc: 88.2269 | last_lr: 1.00000e-03  bad_ep: 44  cdwn: 0                             \n",
      " 14:34:26 | Ep: 122/ 400 | Trn loss:  0.347783 - Acc: 88.1930 | Val loss:  0.349402 - Acc: 88.2130 | last_lr: 1.00000e-03  bad_ep: 45  cdwn: 0                             \n",
      " 14:34:49 | Ep: 123/ 400 | Trn loss:  0.347756 - Acc: 88.1912 | Val loss:  0.349305 - Acc: 88.2176 | last_lr: 1.00000e-03  bad_ep: 46  cdwn: 0                             \n",
      " 14:35:11 | Ep: 124/ 400 | Trn loss:  0.347716 - Acc: 88.1948 | Val loss:  0.349275 - Acc: 88.2037 | last_lr: 1.00000e-03  bad_ep: 47  cdwn: 0                             \n",
      " 14:35:34 | Ep: 125/ 400 | Trn loss:  0.347672 - Acc: 88.1970 | Val loss:  0.349347 - Acc: 88.2130 | last_lr: 1.00000e-03  bad_ep: 48  cdwn: 0                             \n",
      " 14:35:57 | Ep: 126/ 400 | Trn loss:  0.347669 - Acc: 88.1966 | Val loss:  0.349309 - Acc: 88.2083 | last_lr: 1.00000e-03  bad_ep: 49  cdwn: 0                             \n",
      " 14:36:20 | Ep: 127/ 400 | Trn loss:  0.347621 - Acc: 88.2002 | Val loss:  0.349317 - Acc: 88.2037 | last_lr: 1.00000e-03  bad_ep: 50  cdwn: 0                             \n",
      " 14:36:42 | Ep: 128/ 400 | Trn loss:  0.347566 - Acc: 88.2035 | Val loss:  0.349367 - Acc: 88.2083 | last_lr: 5.00000e-04  bad_ep: 0  cdwn: 10                             \n",
      " 14:37:05 | Ep: 129/ 400 | Trn loss:  0.347021 - Acc: 88.2067 | Val loss:  0.348548 - Acc: 88.2731 | last_lr: 5.00000e-04  bad_ep: 0  cdwn: 9                              \n",
      " 14:37:27 | Ep: 130/ 400 | Trn loss:  0.346946 - Acc: 88.2110 | Val loss:  0.348534 - Acc: 88.2685 | last_lr: 5.00000e-04  bad_ep: 0  cdwn: 8                              \n",
      " 14:37:50 | Ep: 131/ 400 | Trn loss:  0.346901 - Acc: 88.2103 | Val loss:  0.348528 - Acc: 88.2639 | last_lr: 5.00000e-04  bad_ep: 0  cdwn: 7                              \n",
      " 14:38:13 | Ep: 132/ 400 | Trn loss:  0.346862 - Acc: 88.2107 | Val loss:  0.348561 - Acc: 88.2685 | last_lr: 5.00000e-04  bad_ep: 0  cdwn: 6                              \n",
      " 14:38:36 | Ep: 133/ 400 | Trn loss:  0.346832 - Acc: 88.2132 | Val loss:  0.348563 - Acc: 88.2593 | last_lr: 5.00000e-04  bad_ep: 0  cdwn: 5                              \n",
      " 14:38:59 | Ep: 134/ 400 | Trn loss:  0.346802 - Acc: 88.2143 | Val loss:  0.348558 - Acc: 88.2731 | last_lr: 5.00000e-04  bad_ep: 0  cdwn: 4                              \n",
      " 14:39:22 | Ep: 135/ 400 | Trn loss:  0.346776 - Acc: 88.2139 | Val loss:  0.348547 - Acc: 88.2639 | last_lr: 5.00000e-04  bad_ep: 0  cdwn: 3                              \n",
      " 14:39:45 | Ep: 136/ 400 | Trn loss:  0.346742 - Acc: 88.2157 | Val loss:  0.348562 - Acc: 88.2685 | last_lr: 5.00000e-04  bad_ep: 0  cdwn: 2                              \n",
      " 14:40:07 | Ep: 137/ 400 | Trn loss:  0.346718 - Acc: 88.2154 | Val loss:  0.348584 - Acc: 88.2639 | last_lr: 5.00000e-04  bad_ep: 0  cdwn: 1                              \n",
      " 14:40:30 | Ep: 138/ 400 | Trn loss:  0.346680 - Acc: 88.2165 | Val loss:  0.348594 - Acc: 88.2546 | last_lr: 5.00000e-04  bad_ep: 0  cdwn: 0                              \n",
      " 14:40:53 | Ep: 139/ 400 | Trn loss:  0.346661 - Acc: 88.2168 | Val loss:  0.348615 - Acc: 88.2593 | last_lr: 5.00000e-04  bad_ep: 1  cdwn: 0                              \n",
      " 14:41:16 | Ep: 140/ 400 | Trn loss:  0.346628 - Acc: 88.2168 | Val loss:  0.348617 - Acc: 88.2639 | last_lr: 5.00000e-04  bad_ep: 2  cdwn: 0                              \n",
      " 14:41:39 | Ep: 141/ 400 | Trn loss:  0.346608 - Acc: 88.2172 | Val loss:  0.348637 - Acc: 88.2593 | last_lr: 5.00000e-04  bad_ep: 3  cdwn: 0                              \n",
      " 14:42:01 | Ep: 142/ 400 | Trn loss:  0.346579 - Acc: 88.2186 | Val loss:  0.348645 - Acc: 88.2546 | last_lr: 5.00000e-04  bad_ep: 4  cdwn: 0                              \n",
      " 14:42:24 | Ep: 143/ 400 | Trn loss:  0.346555 - Acc: 88.2201 | Val loss:  0.348646 - Acc: 88.2500 | last_lr: 5.00000e-04  bad_ep: 5  cdwn: 0                              \n",
      " 14:42:47 | Ep: 144/ 400 | Trn loss:  0.346523 - Acc: 88.2204 | Val loss:  0.348665 - Acc: 88.2546 | last_lr: 5.00000e-04  bad_ep: 6  cdwn: 0                              \n",
      " 14:43:09 | Ep: 145/ 400 | Trn loss:  0.346500 - Acc: 88.2204 | Val loss:  0.348671 - Acc: 88.2593 | last_lr: 5.00000e-04  bad_ep: 7  cdwn: 0                              \n",
      " 14:43:32 | Ep: 146/ 400 | Trn loss:  0.346467 - Acc: 88.2219 | Val loss:  0.348702 - Acc: 88.2546 | last_lr: 5.00000e-04  bad_ep: 8  cdwn: 0                              \n",
      " 14:43:54 | Ep: 147/ 400 | Trn loss:  0.346440 - Acc: 88.2211 | Val loss:  0.348717 - Acc: 88.2407 | last_lr: 5.00000e-04  bad_ep: 9  cdwn: 0                              \n",
      " 14:44:17 | Ep: 148/ 400 | Trn loss:  0.346419 - Acc: 88.2251 | Val loss:  0.348724 - Acc: 88.2361 | last_lr: 5.00000e-04  bad_ep: 10  cdwn: 0                             \n",
      " 14:44:40 | Ep: 149/ 400 | Trn loss:  0.346388 - Acc: 88.2222 | Val loss:  0.348738 - Acc: 88.2500 | last_lr: 5.00000e-04  bad_ep: 11  cdwn: 0                             \n",
      " 14:45:02 | Ep: 150/ 400 | Trn loss:  0.346357 - Acc: 88.2255 | Val loss:  0.348743 - Acc: 88.2407 | last_lr: 5.00000e-04  bad_ep: 12  cdwn: 0                             \n",
      " 14:45:25 | Ep: 151/ 400 | Trn loss:  0.346330 - Acc: 88.2269 | Val loss:  0.348755 - Acc: 88.2454 | last_lr: 5.00000e-04  bad_ep: 13  cdwn: 0                             \n",
      " 14:45:48 | Ep: 152/ 400 | Trn loss:  0.346313 - Acc: 88.2284 | Val loss:  0.348793 - Acc: 88.2546 | last_lr: 5.00000e-04  bad_ep: 14  cdwn: 0                             \n",
      " 14:46:10 | Ep: 153/ 400 | Trn loss:  0.346277 - Acc: 88.2273 | Val loss:  0.348785 - Acc: 88.2593 | last_lr: 5.00000e-04  bad_ep: 15  cdwn: 0                             \n",
      " 14:46:33 | Ep: 154/ 400 | Trn loss:  0.346251 - Acc: 88.2294 | Val loss:  0.348821 - Acc: 88.2593 | last_lr: 5.00000e-04  bad_ep: 16  cdwn: 0                             \n",
      " 14:46:56 | Ep: 155/ 400 | Trn loss:  0.346222 - Acc: 88.2298 | Val loss:  0.348809 - Acc: 88.2593 | last_lr: 5.00000e-04  bad_ep: 17  cdwn: 0                             \n",
      " 14:47:18 | Ep: 156/ 400 | Trn loss:  0.346195 - Acc: 88.2298 | Val loss:  0.348827 - Acc: 88.2546 | last_lr: 5.00000e-04  bad_ep: 18  cdwn: 0                             \n",
      " 14:47:41 | Ep: 157/ 400 | Trn loss:  0.346171 - Acc: 88.2323 | Val loss:  0.348832 - Acc: 88.2546 | last_lr: 5.00000e-04  bad_ep: 19  cdwn: 0                             \n",
      " 14:48:04 | Ep: 158/ 400 | Trn loss:  0.346148 - Acc: 88.2341 | Val loss:  0.348845 - Acc: 88.2454 | last_lr: 5.00000e-04  bad_ep: 20  cdwn: 0                             \n",
      " 14:48:27 | Ep: 159/ 400 | Trn loss:  0.346123 - Acc: 88.2356 | Val loss:  0.348865 - Acc: 88.2546 | last_lr: 5.00000e-04  bad_ep: 21  cdwn: 0                             \n",
      " 14:48:49 | Ep: 160/ 400 | Trn loss:  0.346093 - Acc: 88.2359 | Val loss:  0.348871 - Acc: 88.2546 | last_lr: 5.00000e-04  bad_ep: 22  cdwn: 0                             \n",
      " 14:49:12 | Ep: 161/ 400 | Trn loss:  0.346071 - Acc: 88.2367 | Val loss:  0.348878 - Acc: 88.2407 | last_lr: 5.00000e-04  bad_ep: 23  cdwn: 0                             \n",
      " 14:49:35 | Ep: 162/ 400 | Trn loss:  0.346042 - Acc: 88.2374 | Val loss:  0.348908 - Acc: 88.2454 | last_lr: 5.00000e-04  bad_ep: 24  cdwn: 0                             \n",
      " 14:49:57 | Ep: 163/ 400 | Trn loss:  0.346018 - Acc: 88.2363 | Val loss:  0.348907 - Acc: 88.2500 | last_lr: 5.00000e-04  bad_ep: 25  cdwn: 0                             \n",
      " 14:50:20 | Ep: 164/ 400 | Trn loss:  0.345993 - Acc: 88.2370 | Val loss:  0.348950 - Acc: 88.2361 | last_lr: 5.00000e-04  bad_ep: 26  cdwn: 0                             \n",
      " 14:50:43 | Ep: 165/ 400 | Trn loss:  0.345962 - Acc: 88.2385 | Val loss:  0.348942 - Acc: 88.2500 | last_lr: 5.00000e-04  bad_ep: 27  cdwn: 0                             \n",
      " 14:51:05 | Ep: 166/ 400 | Trn loss:  0.345946 - Acc: 88.2385 | Val loss:  0.348975 - Acc: 88.2407 | last_lr: 5.00000e-04  bad_ep: 28  cdwn: 0                             \n",
      " Trn 166/400:  44%|████████████████████████████████████                                               | 67/154 [00:09<00:11,  7.33it/s, Loss=0.3369, Acc=88.78, lbls=207.0]"
     ]
    }
   ],
   "source": [
    "\n",
    "metrics = fit(model, optimizer, scheduler, data_loader, metrics, start_epoch, end_epoch, device, CKPT_FILE, CKPT_PATH )\n"
   ]
  },
  {
   "cell_type": "markdown",
   "id": "573ac673-4b85-4d5a-ba01-40945db8419f",
   "metadata": {},
   "source": [
    "    \n",
    " "
   ]
  },
  {
   "cell_type": "code",
   "execution_count": null,
   "id": "52421a1e-edc4-4f04-af58-390ac23260cb",
   "metadata": {},
   "outputs": [],
   "source": [
    "# print(CKPT_FILE)\n",
    "# save_checkpoint(end_epoch, model, optimizer, scheduler, metrics = metrics,\n",
    "#                 filename = CKPT_FILE.format(ep=end_epoch),\n",
    "#                 ckpt_path = CKPT_PATH, verbose = True)"
   ]
  },
  {
   "cell_type": "code",
   "execution_count": null,
   "id": "5e978589-d202-445e-a7a8-2c8068acbe85",
   "metadata": {
    "ExecuteTime": {
     "end_time": "2023-06-04T11:35:15.434870Z",
     "start_time": "2023-06-04T11:35:15.344699Z"
    }
   },
   "outputs": [],
   "source": [
    "start_epoch, end_epoch\n",
    "start_epoch = end_epoch\n",
    "end_epoch += 100\n",
    "start_epoch, end_epoch\n",
    "# for mtrc in ['loss_trn', 'loss_val']:\n",
    "#     for i in range(len(metrics[mtrc])):\n",
    "#         # print(i)\n",
    "#         metrics[mtrc][i] = metrics[mtrc][i].item()\n",
    " "
   ]
  },
  {
   "cell_type": "markdown",
   "id": "d75622ea-9d55-42a5-afbd-b7453166bce0",
   "metadata": {
    "jp-MarkdownHeadingCollapsed": true
   },
   "source": [
    "# Modify TPSA Threshold"
   ]
  },
  {
   "cell_type": "code",
   "execution_count": null,
   "id": "9ca4e52f-46c9-4506-8b0d-239f045f04ac",
   "metadata": {},
   "outputs": [],
   "source": [
    "\n",
    "train_y_72 = np.zeros_like(train_y)\n",
    "train_y_72.shape[0]/3"
   ]
  },
  {
   "cell_type": "code",
   "execution_count": null,
   "id": "e11392e3-cbea-49a8-9a0b-2030c1a0aee1",
   "metadata": {
    "editable": true,
    "slideshow": {
     "slide_type": ""
    },
    "tags": []
   },
   "outputs": [],
   "source": [
    "print(f\"                  min           max           std          mean           median\")\n",
    "for x in ['TPSA', 'lnTPSA', 'log10TPSA']:\n",
    "    print(f\"{x:12s} {df_train[x].min():13.7f} {df_train[x].max():13.7f} {df_train[x].std():13.7f} {df_train[x].mean():13.7f} {df_train[x].median():13.7f}\") \n",
    "\n",
    "df_train.TPSA.count()\n",
    "df_train[df_train.TPSA >= THRESHOLD].TPSA.count()/df_train.TPSA.count()\n",
    "df_train[df_train.TPSA < THRESHOLD].TPSA.count()/df_train.TPSA.count()\n"
   ]
  },
  {
   "cell_type": "code",
   "execution_count": null,
   "id": "d5f5bab9-6b23-4078-a398-dccbea38ae78",
   "metadata": {},
   "outputs": [],
   "source": [
    "_tmp = df_train.Metadata_Permiation.value_counts()\n",
    "_tmp[0], _tmp[1]"
   ]
  },
  {
   "cell_type": "code",
   "execution_count": null,
   "id": "d59dcba1-6add-4446-aa27-a30564f42e54",
   "metadata": {
    "editable": true,
    "slideshow": {
     "slide_type": ""
    },
    "tags": []
   },
   "outputs": [],
   "source": [
    "for threshold in [68, 69, 70, 71, 72, 100]:\n",
    "    _tmp = (df_train['Metadata_TPSA'] >= threshold).value_counts()\n",
    "    print(f\"\\n TPSA threshold {threshold} \\n Total samples: {_tmp.sum()}\")\n",
    "    print(f\" Label 0: {_tmp[False]:>7d}      % {_tmp[False]*100/_tmp.sum():2.2f} \")\n",
    "    print(f\" Label 1: {_tmp[True]:>7d}      % {_tmp[True]*100/_tmp.sum():2.2f} \")"
   ]
  },
  {
   "cell_type": "code",
   "execution_count": null,
   "id": "65d1d01b-3946-4668-9c10-5fb3f2b3bd64",
   "metadata": {},
   "outputs": [],
   "source": [
    "# fig, ax = plt.subplots(figsize=(4,4))\n",
    "# fig.canvas.draw()  # Need to draw the figure to define renderer\n",
    "# ax.set_title(\"AngleLabel example\")\n",
    "# # Plot two crossing lines and label each angle between them with the above\n",
    "# center = (4.5, 650)\n",
    "# p1 = [(2.5, 710), (6.0, 605)]\n",
    "# p2 = [(3.0, 275), (5.5, 900)]\n",
    "# line1, = ax.plot(*zip(*p1))\n",
    "# line2, = ax.plot(*zip(*p2))\n",
    "# point, = ax.plot(*center, marker=\"o\")\n"
   ]
  },
  {
   "cell_type": "code",
   "execution_count": null,
   "id": "9f19bd08-45c1-4d41-9d02-a5b59d30c53c",
   "metadata": {
    "ExecuteTime": {
     "end_time": "2023-06-28T19:37:34.108730Z",
     "start_time": "2023-06-28T19:37:34.072553Z"
    },
    "editable": true,
    "slideshow": {
     "slide_type": ""
    },
    "tags": []
   },
   "outputs": [],
   "source": [
    "from matplotlib import colors\n",
    "from matplotlib.ticker import PercentFormatter\n",
    "num_bins = 200\n",
    "# fig, ax = plt.subplots()\n",
    "fig = plt.figure(figsize=(10,5))\n",
    "sigma = df_train.Metadata_TPSA.std()\n",
    "mu = df_train.Metadata_TPSA.mean()\n",
    "med = df_train.Metadata_TPSA.median()\n",
    "# the histogram of the data\n",
    "# We can set the number of bins with the *bins* keyword argument.\n",
    "n, bins, patches = plt.hist(df_train.Metadata_TPSA, num_bins, density=False, range=[0, 500],)\n",
    "# p1 = [(med, 710), (6.0, 605)]\n",
    "# _ = plt.vlines(x=med, ymin=10, ymax=17000, colors='red', linestyles='-', lw=1.75, label='Single Short Line')\n",
    "_ = plt.axvline(x=med, ymin=0, ymax=.97, color='red', linestyle='-', lw=1.75, label='Single Short Line')\n",
    "_ = plt.xlabel('TPSA Value');\n",
    "_ = plt.ylabel('# Compounds');\n",
    "_ = plt.title(fr'TPSA distribution -  $\\mu={mu:.3f}$    $\\sigma={sigma:.3f}$')\n",
    "plt.legend(bbox_to_anchor=(1.04,0.5), loc=\"center left\", borderaxespad=0)\n",
    "# axs[1].hist(dist2, bins=n_bins)\n",
    "plt.show()"
   ]
  },
  {
   "cell_type": "markdown",
   "id": "e58c33d9-a56a-4175-9936-b16efed13334",
   "metadata": {
    "editable": true,
    "jp-MarkdownHeadingCollapsed": true,
    "slideshow": {
     "slide_type": ""
    },
    "tags": []
   },
   "source": [
    "# Stratified CV data splits"
   ]
  },
  {
   "cell_type": "code",
   "execution_count": null,
   "id": "36185b9f-f76e-4556-a736-7a97ac07659f",
   "metadata": {},
   "outputs": [],
   "source": [
    "def visualize_groups(classes, groups, name):\n",
    "    # Visualize dataset groups\n",
    "    fig, ax = plt.subplots(figsize=(10,5))\n",
    "    ax.scatter(\n",
    "        range(len(groups)),\n",
    "        [0.5] * len(groups),\n",
    "        c=groups,\n",
    "        marker=\"_\",\n",
    "        lw=50,\n",
    "        cmap=cmap_data,\n",
    "    )\n",
    "    ax.scatter(\n",
    "        range(len(groups)),\n",
    "        [3.5] * len(groups),\n",
    "        c=classes,\n",
    "        marker=\"_\",\n",
    "        lw=50,\n",
    "        cmap=cmap_data,\n",
    "    )\n",
    "    ax.set(\n",
    "        ylim=[-1, 5],\n",
    "        yticks=[0.5, 3.5],\n",
    "        yticklabels=[\"Data\\ngroup\", \"Data\\nclass\"],\n",
    "        xlabel=\"Sample index\",\n",
    "    )"
   ]
  },
  {
   "cell_type": "code",
   "execution_count": null,
   "id": "f532d16b-50f2-486d-a2b8-22e960f6007a",
   "metadata": {},
   "outputs": [],
   "source": [
    "def plot_cv_indices(cv, X, y, group, ax, n_splits, lw=10):\n",
    "    \"\"\"Create a sample plot for indices of a cross-validation object.\"\"\"\n",
    "    use_groups = \"Group\" in type(cv).__name__\n",
    "    groups = group if use_groups else None\n",
    "    # Generate the training/testing visualizations for each CV split\n",
    "    for ii, (tr, tt) in enumerate(cv.split(X=X, y=y, groups=groups)):\n",
    "        # Fill in indices with the training/test groups\n",
    "        indices = np.array([np.nan] * len(X))\n",
    "        indices[tt] = 1\n",
    "        indices[tr] = 0\n",
    "\n",
    "        # Visualize the results\n",
    "        ax.scatter(\n",
    "            range(len(indices)),\n",
    "            [ii + 0.5] * len(indices),\n",
    "            c=indices,\n",
    "            marker=\"_\",\n",
    "            lw=lw,\n",
    "            cmap=cmap_cv,\n",
    "            vmin=-0.2,\n",
    "            vmax=1.2,\n",
    "        )\n",
    "\n",
    "    # Plot the data classes and groups at the end\n",
    "    ax.scatter(\n",
    "        range(len(X)), [ii + 1.5] * len(X), c=y, marker=\"_\", lw=lw, cmap=cmap_data\n",
    "    )\n",
    "\n",
    "    ax.scatter(\n",
    "        range(len(X)), [ii + 2.5] * len(X), c=group, marker=\"_\", lw=lw, cmap=cmap_data\n",
    "    )\n",
    "\n",
    "    # Formatting\n",
    "    yticklabels = list(range(n_splits)) + [\"class\", \"group\"]\n",
    "    ax.set(\n",
    "        yticks=np.arange(n_splits + 2) + 0.5,\n",
    "        yticklabels=yticklabels,\n",
    "        xlabel=\"Sample index\",\n",
    "        ylabel=\"CV iteration\",\n",
    "        ylim=[n_splits + 2.2, -0.2],\n",
    "        xlim=[0, 100],\n",
    "    )\n",
    "    ax.set_title(\"{}\".format(type(cv).__name__), fontsize=15)\n",
    "    return ax"
   ]
  },
  {
   "cell_type": "code",
   "execution_count": null,
   "id": "d6f3f078-8b33-4acc-b639-6daac6d9d519",
   "metadata": {},
   "outputs": [],
   "source": [
    "import matplotlib.pyplot as plt\n",
    "import numpy as np\n",
    "from matplotlib.patches import Patch\n"
   ]
  },
  {
   "cell_type": "code",
   "execution_count": null,
   "id": "f1165a3b-5756-443f-ad46-bf316c34929e",
   "metadata": {},
   "outputs": [],
   "source": [
    "rng = np.random.RandomState(1338)\n",
    "cmap_data = plt.cm.Paired\n",
    "cmap_cv = plt.cm.coolwarm\n",
    "n_splits = 4\n",
    "\n",
    "# Generate the class/group data\n",
    "# n_points = 100\n",
    "# X = rng.randn(100, 10)\n",
    "\n",
    "# percentiles_classes = [0.1, 0.3, 0.6]\n",
    "# y = np.hstack([[ii] * int(100 * perc) for ii, perc in enumerate(percentiles_classes)])"
   ]
  },
  {
   "cell_type": "code",
   "execution_count": null,
   "id": "94dd8391-cbf3-4468-9aa2-d311c7f83bd2",
   "metadata": {},
   "outputs": [],
   "source": [
    "# Generate uneven groups\n",
    "\n",
    "# group_prior = rng.dirichlet([2] * 10)\n",
    "# group_prior.sum()\n",
    "# group_prior\n",
    "\n",
    "# groups = np.repeat(np.arange(10), rng.multinomial(100, group_prior))\n",
    "# groups.shape\n",
    "# groups"
   ]
  },
  {
   "cell_type": "code",
   "execution_count": null,
   "id": "0be667cf-b73b-49d9-8f93-028feb33dc07",
   "metadata": {},
   "outputs": [],
   "source": [
    "groups = np.repeat(0, train_X.shape[0])\n",
    "groups.shape"
   ]
  },
  {
   "cell_type": "code",
   "execution_count": null,
   "id": "a3cc3e15-7328-43d7-87b0-e662e89f8995",
   "metadata": {},
   "outputs": [],
   "source": [
    "visualize_groups(train_y, groups, \"no groups\")"
   ]
  },
  {
   "cell_type": "code",
   "execution_count": null,
   "id": "f27b44ef-5b62-4008-8e90-fcd97dca2186",
   "metadata": {},
   "outputs": [],
   "source": [
    "n_splits = 5\n",
    "groups = None"
   ]
  },
  {
   "cell_type": "code",
   "execution_count": null,
   "id": "0cc5f1e4-9fbf-4c51-a82a-ee2c870850aa",
   "metadata": {},
   "outputs": [],
   "source": [
    "fig, ax = plt.subplots()\n",
    "cv = KFold(n_splits)\n",
    "plot_cv_indices(cv, train_X, train_y, groups, ax, n_splits)"
   ]
  },
  {
   "cell_type": "markdown",
   "id": "d2e1cd39-be31-4f80-b0b3-a064ddf5b59d",
   "metadata": {
    "jp-MarkdownHeadingCollapsed": true
   },
   "source": [
    "# Input "
   ]
  },
  {
   "cell_type": "markdown",
   "id": "987503fe-4de3-4967-a228-9e5b7a6d30b8",
   "metadata": {},
   "source": [
    "## Read Embedded Features CSV file"
   ]
  },
  {
   "cell_type": "code",
   "execution_count": null,
   "id": "ab7b33d4-10b8-44a2-a97b-3fb5e124812e",
   "metadata": {
    "editable": true,
    "slideshow": {
     "slide_type": ""
    },
    "tags": []
   },
   "outputs": [],
   "source": [
    "BASE_TRAIN_INPUT = os.path.join(OUTPUT_PATH, INPUT_FILE.format(runmode = BASE_runmode ,datatype='train'))\n",
    "BASE_TEST_INPUT  = os.path.join(OUTPUT_PATH, INPUT_FILE.format(runmode = BASE_runmode ,datatype='test'))\n",
    "SNNL_TRAIN_INPUT = os.path.join(OUTPUT_PATH, INPUT_FILE.format(runmode = SNNL_runmode ,datatype='train'))\n",
    "SNNL_TEST_INPUT  = os.path.join(OUTPUT_PATH, INPUT_FILE.format(runmode = SNNL_runmode ,datatype='test'))\n",
    "BASE_TRAIN_INPUT\n",
    "BASE_TEST_INPUT \n",
    "SNNL_TRAIN_INPUT\n",
    "SNNL_TEST_INPUT "
   ]
  },
  {
   "cell_type": "code",
   "execution_count": null,
   "id": "8dff17ab-dd6a-49fe-8733-8f3448537618",
   "metadata": {},
   "outputs": [],
   "source": [
    "df_test = pd.read_csv(SNNL_TEST_INPUT )\n",
    "df_train = pd.read_csv(SNNL_TRAIN_INPUT)\n",
    "\n",
    "# df_train = pd.read_csv(BASE_TRAIN_INPUT)\n",
    "# df_test = pd.read_csv(BASE_TEST_INPUT )\n",
    "# df_train = pd.read_csv(TRAIN_INPUT, nrows = 100 )\n",
    "# df_train = pd.read_csv(TRAIN_INPUT, usecols = ['Metadata_Batch'])"
   ]
  },
  {
   "cell_type": "code",
   "execution_count": null,
   "id": "9e7a273e-36aa-4b1b-8a49-3c911fe62659",
   "metadata": {},
   "outputs": [],
   "source": [
    "df_test.info()\n",
    "df_test.shape\n",
    "df_test.columns\n",
    "df_test.iloc[:5,:13]"
   ]
  },
  {
   "cell_type": "code",
   "execution_count": null,
   "id": "e21aa50d-b501-4532-9c1f-62a2c960f48d",
   "metadata": {},
   "outputs": [],
   "source": [
    "# df_train = pd.read_csv(TRAIN_INPUT, nrows = 100 )\n",
    "# df_train = pd.read_csv(TRAIN_INPUT, usecols = ['Metadata_Batch'])"
   ]
  },
  {
   "cell_type": "code",
   "execution_count": null,
   "id": "8e266886-b249-4370-84ef-242c34c98e72",
   "metadata": {},
   "outputs": [],
   "source": [
    "test_y = df_test.iloc[:,10:11].to_numpy().ravel().astype(np.uint8)\n",
    "test_y.sum()\n",
    "test_y.shape, type(test_y), test_y.dtype\n",
    "test_X = df_test.iloc[:,11:].to_numpy()\n",
    "test_X.shape,type(test_X), test_X.dtype"
   ]
  },
  {
   "cell_type": "code",
   "execution_count": null,
   "id": "b5ccbf57-4fa7-4842-919b-103d14e44c79",
   "metadata": {},
   "outputs": [],
   "source": [
    "df_train.shape\n",
    "df_train.info()\n",
    "df_train.iloc[:5,:16]"
   ]
  },
  {
   "cell_type": "code",
   "execution_count": null,
   "id": "8b7d392e-68eb-4474-ad37-12244f4d23b0",
   "metadata": {},
   "outputs": [],
   "source": [
    "312000+34542"
   ]
  },
  {
   "cell_type": "code",
   "execution_count": null,
   "id": "8710ee4c-badf-4f28-a214-f8354f6c1e5f",
   "metadata": {},
   "outputs": [],
   "source": [
    "train_y = df_train.iloc[:,10:11].to_numpy().ravel().astype(np.uint8)\n",
    "train_y.sum()\n",
    "train_y.shape, type(train_y), train_y.dtype\n",
    "\n",
    "train_X = df_train.iloc[:,11:].to_numpy()\n",
    "train_X.shape,type(train_X) ,train_X.dtype"
   ]
  },
  {
   "cell_type": "markdown",
   "id": "00c738a2-74d5-4702-a93f-36428714aedf",
   "metadata": {},
   "source": [
    "## Standardize inputs"
   ]
  },
  {
   "cell_type": "code",
   "execution_count": null,
   "id": "6ba790ed-fea3-4803-bf33-91b2a0d74fd7",
   "metadata": {},
   "outputs": [],
   "source": [
    "print(f\"Train_X :  Min: {train_X.min():.4f}    Max: {train_X.max():.4f}   Mean: {train_X.mean():.4f}  Std: {train_X.std():.4f}\")\n",
    "print(f\"Test_X  :  Min: {test_X.min():.4f}    Max: {test_X.max():.4f}    Mean: {test_X.mean():.4f}  Std: {test_X.std():.4f}\")"
   ]
  },
  {
   "cell_type": "code",
   "execution_count": null,
   "id": "8ab780bd-8b49-46ce-b18b-abc1e0ff181d",
   "metadata": {},
   "outputs": [],
   "source": [
    "# print(f\"Train_X :  Min: {train_X.min():.4f}    Max: {train_X.max():.4f}   Mean: {train_X.mean():.4f}  Std: {train_X.std():.4f}\")\n",
    "# print(f\"Test_X  :  Min: {test_X.min():.4f}    Max: {test_X.max():.4f}    Mean: {test_X.mean():.4f}  Std: {test_X.std():.4f}\")"
   ]
  },
  {
   "cell_type": "code",
   "execution_count": null,
   "id": "614ed6ad-1c8c-4c10-9bc5-82e6fcc9fa56",
   "metadata": {},
   "outputs": [],
   "source": [
    "scaler = StandardScaler(copy = True)\n",
    "train_X = scaler.fit_transform(train_X)\n",
    "test_X = scaler.transform(test_X)"
   ]
  },
  {
   "cell_type": "code",
   "execution_count": null,
   "id": "34a118cd-aed2-4e64-a4da-8de20a99be3a",
   "metadata": {},
   "outputs": [],
   "source": [
    "print(\"After Standard Scaler Transformation\")\n",
    "print(f\"Train_X :  Min: {train_X.min():.4f}    Max: {train_X.max():.4f}   Mean: {train_X.mean():.4f}  Std: {train_X.std():.4f}\")\n",
    "print(f\"Test_X  :  Min: {test_X.min():.4f}    Max: {test_X.max():.4f}    Mean: {test_X.mean():.4f}  Std: {test_X.std():.4f}\")\n"
   ]
  },
  {
   "cell_type": "code",
   "execution_count": null,
   "id": "c685b4df-8975-4935-8bd2-edba44873a90",
   "metadata": {},
   "outputs": [],
   "source": [
    "label_counts([(\"Training\", train_y), (\"Test\", test_y)])"
   ]
  },
  {
   "cell_type": "code",
   "execution_count": null,
   "id": "a0b7ad73-1936-428c-bd8e-341f594d816b",
   "metadata": {},
   "outputs": [],
   "source": []
  },
  {
   "cell_type": "markdown",
   "id": "aa293a17-1064-44e2-8d7c-42a5aef53159",
   "metadata": {
    "jp-MarkdownHeadingCollapsed": true
   },
   "source": [
    "# TQDM Examples"
   ]
  },
  {
   "cell_type": "code",
   "execution_count": null,
   "id": "7d4955de-e618-45a3-83be-028e913b55d1",
   "metadata": {},
   "outputs": [],
   "source": [
    "#-----------------------------------------\n",
    "# TRANGE example\n",
    "#-----------------------------------------   \n",
    "# with trange(+1, ns.trn_iters_warmup+1 , initial = 0 , total = ns.trn_iters_warmup, position=0, file=sys.stdout,\n",
    "#             leave= False, disable = disable_tqdm, desc=f\" Warmup Epoch {ns.current_epoch}/{ns.stop_epoch_warmup}\") as t_warmup :\n",
    "#     for _ in t_warmup:\n",
    "#         ns.current_iter += 1            \n",
    "\n",
    "#         batch = next(dldrs.warmup_trn_loader)            \n",
    "#         environ.set_inputs(batch, input_size)\n",
    "\n",
    "#         environ.optimize(is_policy=False, \n",
    "#                          num_train_layers=ns.num_train_layers,\n",
    "#                          flag='update_weights', \n",
    "#                          verbose = verbose)\n",
    "    \n",
    "#         t_warmup.set_postfix({'curr_iter':ns.current_iter, \n",
    "#                             'Loss': f\"{environ.losses['total']['total'].item():.4f}\"})\n",
    "\n",
    "#-----------------------------------------\n",
    "# TQDM example\n",
    "#-----------------------------------------   \n",
    "# current_epoch = 1\n",
    "# total_epochs = 20\n",
    "# current_iter = 0 \n",
    "# train_minibatches = len(data_loader['train']) // minibatch_size\n",
    "# val_minibatches = len(data_loader['val']) // minibatch_size\n",
    "\n",
    "# # with batch_count, (batch_features, batch_labels, _, _, _, _) in tqdm(enumerate(data_loader['train']), initial=0, total = 400, position=0, file=sys.stdout,\n",
    "#             # leave= False, desc=f\" Epoch {current_epoch}/{total_epochs}\") as t_warmup :\n",
    "# t_warmup =  tqdm(enumerate(data_loader['train']), initial=0, total = train_minibatches, position=0, file=sys.stdout,\n",
    "#             leave= False, desc=f\" Epoch {current_epoch}/{total_epochs}\") \n",
    "# for batch_count, (batch_features, batch_labels, _, _, _, _) in t_warmup:\n",
    "#     # batch_count, (batch_features, batch_labels, _, _, _, _) = pp\n",
    "#     loss = random.random()\n",
    "#     t_warmup.set_postfix({'curr_iter':batch_count, 'Loss': f\"{loss:.4f}\"})"
   ]
  }
 ],
 "metadata": {
  "kernelspec": {
   "display_name": "Python [conda env:cp311]",
   "language": "python",
   "name": "conda-env-cp311-py"
  },
  "language_info": {
   "codemirror_mode": {
    "name": "ipython",
    "version": 3
   },
   "file_extension": ".py",
   "mimetype": "text/x-python",
   "name": "python",
   "nbconvert_exporter": "python",
   "pygments_lexer": "ipython3",
   "version": "3.11.4"
  }
 },
 "nbformat": 4,
 "nbformat_minor": 5
}
