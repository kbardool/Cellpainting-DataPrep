{
 "cells": [
  {
   "cell_type": "markdown",
   "id": "7483d8c9-db87-4af6-bdf0-a75ee1de1b44",
   "metadata": {},
   "source": [
    "  # Get pharmacophore fingerprints"
   ]
  },
  {
   "attachments": {},
   "cell_type": "markdown",
   "id": "1ec9aea9-e1c6-4ac8-9dd8-ca06157dbfbe",
   "metadata": {},
   "source": [
    "- Using multiparallelism and calling **`getPharmacophoresFromRDKit`**\n",
    "    - Use Jump CP metadata file as input \n",
    "    - Compute Pharmacophores for each compound\n",
    "    - Save pharmacophore vectors as sparse and dense files\n",
    "    "
   ]
  },
  {
   "cell_type": "markdown",
   "id": "9997e167",
   "metadata": {},
   "source": [
    "# Initialization"
   ]
  },
  {
   "cell_type": "code",
   "execution_count": 1,
   "id": "a7ce6847",
   "metadata": {
    "ExecuteTime": {
     "end_time": "2023-10-03T19:43:51.966859Z",
     "start_time": "2023-10-03T19:43:51.956309Z"
    },
    "execution": {
     "iopub.execute_input": "2024-10-17T19:33:42.202939Z",
     "iopub.status.busy": "2024-10-17T19:33:42.202453Z",
     "iopub.status.idle": "2024-10-17T19:33:42.622081Z",
     "shell.execute_reply": "2024-10-17T19:33:42.621041Z",
     "shell.execute_reply.started": "2024-10-17T19:33:42.202904Z"
    }
   },
   "outputs": [
    {
     "data": {
      "text/html": [
       "<style>.container { width:98% !important; }</style>"
      ],
      "text/plain": [
       "<IPython.core.display.HTML object>"
      ]
     },
     "metadata": {},
     "output_type": "display_data"
    }
   ],
   "source": [
    "from IPython.display import display, HTML\n",
    "display(HTML(\"<style>.container { width:98% !important; }</style>\"))\n",
    "%load_ext autoreload  \n",
    "%autoreload 2\n",
    "from IPython.core.interactiveshell import InteractiveShell\n",
    "InteractiveShell.ast_node_interactivity = \"all\"\n",
    "%matplotlib inline"
   ]
  },
  {
   "cell_type": "code",
   "execution_count": 290,
   "id": "84ea9b01",
   "metadata": {
    "ExecuteTime": {
     "end_time": "2023-10-03T19:43:54.771540Z",
     "start_time": "2023-10-03T19:43:52.207262Z"
    },
    "execution": {
     "iopub.execute_input": "2024-10-21T15:13:33.461902Z",
     "iopub.status.busy": "2024-10-21T15:13:33.461429Z",
     "iopub.status.idle": "2024-10-21T15:13:33.508622Z",
     "shell.execute_reply": "2024-10-21T15:13:33.508119Z",
     "shell.execute_reply.started": "2024-10-21T15:13:33.461860Z"
    }
   },
   "outputs": [
    {
     "name": "stdout",
     "output_type": "stream",
     "text": [
      "['../..', './src', '/home/kevin/WSL-shared/cellpainting/cj-datasets', '/home/kevin/miniforge3/envs/cp311/lib/python311.zip', '/home/kevin/miniforge3/envs/cp311/lib/python3.11', '/home/kevin/miniforge3/envs/cp311/lib/python3.11/lib-dynload', '', '/home/kevin/miniforge3/envs/cp311/lib/python3.11/site-packages', '/home/kevin/miniforge3/envs/cp311/lib/python3.11/site-packages/huggingface_hub-0.20.3-py3.8.egg']\n"
     ]
    }
   ],
   "source": [
    "import os\n",
    "import sys\n",
    "import argparse\n",
    "import csv\n",
    "import json\n",
    "import time\n",
    "import types, copy, pprint\n",
    "from datetime import datetime\n",
    "for p in ['./src','../..']:\n",
    "    if p not in sys.path:\n",
    "        print(f\"insert {p}\")\n",
    "        sys.path.insert(0, p)\n",
    "print(sys.path)\n",
    "from operator import mod\n",
    "import numpy as np\n",
    "import pandas as pd\n",
    "import matplotlib.pyplot as plt\n",
    "from scipy.sparse import csr_matrix\n",
    "\n",
    "# from KevinsRoutines.utils.utils_general  import  list_namespace \n",
    "\n",
    "from itertools import repeat\n",
    "import more_itertools\n",
    "from multiprocessing import Pool, process\n",
    "from os import getpid\n",
    "from rdkit.Chem import PandasTools\n",
    "\n",
    "pp = pprint.PrettyPrinter(indent=4)\n",
    "np.set_printoptions(edgeitems=10, infstr='inf', linewidth=150, nanstr='nan')\n",
    "pd.options.display.width = 180"
   ]
  },
  {
   "cell_type": "code",
   "execution_count": 3,
   "id": "6c19aa2e-b8d8-4f15-bd85-83aa20516dad",
   "metadata": {
    "ExecuteTime": {
     "end_time": "2023-05-25T10:04:49.563601Z",
     "start_time": "2023-05-25T10:04:49.551265Z"
    },
    "execution": {
     "iopub.execute_input": "2024-10-17T19:33:43.047700Z",
     "iopub.status.busy": "2024-10-17T19:33:43.047325Z",
     "iopub.status.idle": "2024-10-17T19:33:43.063004Z",
     "shell.execute_reply": "2024-10-17T19:33:43.062264Z",
     "shell.execute_reply.started": "2024-10-17T19:33:43.047677Z"
    },
    "scrolled": true
   },
   "outputs": [
    {
     "name": "stdout",
     "output_type": "stream",
     "text": [
      "10/17/24-21:33:43 CEST\n",
      "10/17/24-21:33:43.059771\n",
      "2024-33-17 21:10:43.059838\n"
     ]
    }
   ],
   "source": [
    "# datetime.now().strftime('%X.%f')\n",
    "# time.strftime(' %x%X')\n",
    "# datetime.now().strftime('%X.%f')\n",
    "print(time.strftime('%x-%X %Z'))\n",
    "print(datetime.now().strftime('%D-%X.%f'))\n",
    "print(datetime.now().strftime('%Y-%M-%d %H:%m:%S.%f' ))\n",
    "\n",
    "import logging \n",
    "logLevel = os.environ.get('LOG_LEVEL', 'INFO').upper()\n",
    "FORMAT = '%(asctime)s - %(levelname)s: - %(message)s'\n",
    "logging.basicConfig(level=\"INFO\", format= FORMAT)\n",
    "logging.getLogger(\"imported_module\").setLevel(logging.CRITICAL)"
   ]
  },
  {
   "cell_type": "code",
   "execution_count": 291,
   "id": "b535b712-7c39-4776-b3d3-25915d48ce6d",
   "metadata": {
    "execution": {
     "iopub.execute_input": "2024-10-21T15:13:34.718325Z",
     "iopub.status.busy": "2024-10-21T15:13:34.717859Z",
     "iopub.status.idle": "2024-10-21T15:13:34.757985Z",
     "shell.execute_reply": "2024-10-21T15:13:34.757150Z",
     "shell.execute_reply.started": "2024-10-21T15:13:34.718284Z"
    }
   },
   "outputs": [],
   "source": [
    "\n",
    "from KevinsRoutines.utils.utils_chem import (appendMolFromRDKit, \n",
    "                                             fingerprint_to_sparse_matrix,\n",
    "                                             getPharmacophoresFromRDKit,  my_enumerator, starmap_with_kwargs_async, )"
   ]
  },
  {
   "cell_type": "code",
   "execution_count": 1003,
   "id": "139f638c-defc-46ce-8603-f62ca70da87d",
   "metadata": {
    "execution": {
     "iopub.execute_input": "2024-10-24T12:03:06.811285Z",
     "iopub.status.busy": "2024-10-24T12:03:06.810843Z",
     "iopub.status.idle": "2024-10-24T12:03:06.875976Z",
     "shell.execute_reply": "2024-10-24T12:03:06.874897Z",
     "shell.execute_reply.started": "2024-10-24T12:03:06.811253Z"
    }
   },
   "outputs": [
    {
     "name": "stdout",
     "output_type": "stream",
     "text": [
      " prefix                                      : \n",
      " prefix_lc                                   : \n",
      " metadata path                               : ./metadata/\n",
      " input path                                  : ./input/\n",
      " output path                                 : ./output_10162024/\n",
      "\n",
      " Input Datasets : \n",
      " ---------------- \n",
      " Compound Metadata Input File                : ./metadata/compound.csv\n",
      " Plate Metadata Input File                   : ./metadata/plate_new.csv\n",
      " Well Metadata Input File                    : ./metadata/well.csv\n",
      "\n",
      " Compound Metadata : \n",
      " ------------------- \n",
      " Metadata + Smiles                           : ./output_10162024/compound_metadata_smiles.csv\n",
      "          + TPSA                             : ./output_10162024/compound_metadata_tpsa.csv\n",
      "          + TPSA Cleaned (TPSA <> 0)         : ./output_10162024/compound_metadata_tpsa_clean.csv\n",
      "          + Base64 Pharmacophores            : ./output_10162024/compound_metadads.ta_pcfp.csv\n",
      "\n",
      " Compound/TPSA File:\n",
      " -------------------\n",
      " compound TPSA File                          : ./output_10162024/compound_TPSA.csv\n",
      " compound TPSA Clean File                    : ./output_10162024/compound_TPSA_clean.csv\n",
      "\n",
      "\n",
      " Compound/Pharmacophore Files :\n",
      " ------------------------------\n",
      " compound Pharmacophore Sparse File          : ./output_10162024/compound_pharmacophores_sparse.pkl\n",
      " compound Pharmacophore CSV File             : ./output_10162024/compound_pharmacophores.csv\n",
      " compound Pharmacophore Numpy File           : ./output_10162024/compound_pharmacophores.npy\n",
      " compound Pharmacophore Numpy Zipped File    : ./output_10162024/compound_pharmacophores_zip.npz\n",
      "\n",
      " compound Pharmacophore 3Sample File         : ./output_10162024/compound_pharmacophores_3samples.csv\n",
      "\n",
      " Compound Extended Metadata files:\n",
      " ---------------------------------\n",
      " Compound Extended MetadataFile              : ./output_10162024/compound_extended_metadata.csv\n",
      "\n",
      " Compound Extended Metadata 5 SampleFile     : ./output_10162024/compound_extended_metadata_5samples.csv\n",
      " Compound Extended Metadata 3 SampleFile     : ./output_10162024/compound_extended_metadata_3samples.csv\n",
      " Compound Extended Metadata 2 SampleFile     : ./output_10162024/compound_extended_metadata_2samples.csv\n",
      "\n",
      " Compound Profiles files:\n",
      " ------------------------\n",
      " Compound Profiles 5 Samples File            : ./output_10162024//5_sample_profiles/5sample_profiles_{0:03d}{1:s}.csv\n",
      " Compound Profiles 3 Samples File            : ./output_10162024//3_sample_profiles/3sample_profiles_{0:03d}{1:s}.csv\n",
      " Compound Profiles 2 Samples File            : ./output_10162024//2_sample_profiles/2sample_profiles_{0:03d}{1:s}.csv\n",
      "\n",
      " profiles Metadata File                      : ./metadata/profile_metadata.pkl\n",
      " parquet  Metadata File                      : ./metadata/parquet_columns.pkl\n"
     ]
    }
   ],
   "source": [
    "from utils.jcp_datasets import project_datasets, display_project_datasets\n",
    "ds = project_datasets(output_path = './output_10162024/')\n",
    "display_project_datasets(ds)"
   ]
  },
  {
   "cell_type": "code",
   "execution_count": null,
   "id": "a8c70f92-79dd-4843-b536-8bce3ef643de",
   "metadata": {},
   "outputs": [],
   "source": []
  },
  {
   "cell_type": "code",
   "execution_count": null,
   "id": "e9f1b3c6-6427-44b2-9338-58e572e14bd5",
   "metadata": {},
   "outputs": [],
   "source": []
  },
  {
   "cell_type": "markdown",
   "id": "fdaace03",
   "metadata": {},
   "source": [
    "## Read Jump-CP compound metadata (+ smiles) file"
   ]
  },
  {
   "cell_type": "code",
   "execution_count": 7,
   "id": "66e5e536-262d-495e-ba36-45f3ef0ebba5",
   "metadata": {
    "ExecuteTime": {
     "end_time": "2023-10-03T19:45:48.587354Z",
     "start_time": "2023-10-03T19:45:48.286812Z"
    },
    "execution": {
     "iopub.execute_input": "2024-10-17T19:33:47.332564Z",
     "iopub.status.busy": "2024-10-17T19:33:47.332276Z",
     "iopub.status.idle": "2024-10-17T19:33:47.365695Z",
     "shell.execute_reply": "2024-10-17T19:33:47.365051Z",
     "shell.execute_reply.started": "2024-10-17T19:33:47.332543Z"
    },
    "scrolled": true
   },
   "outputs": [],
   "source": [
    "# df = pd.read_csv(ds.compoundMetadataSmilesCleanFile)\n",
    "# df.info()\n",
    "# df.head(3)\n",
    "# df.tail(3)\n",
    "# df[df['smiles'].isna()]\n",
    "\n",
    "# df = pd.read_csv(ds.compoundMetadataTPSAFile)\n",
    "# df.info()\n",
    "# df_md_zero = df[df['TPSA'] == 0.0]\n",
    "# print(f\" Metadata entries with TPSA == 0.0: {len(df_md_zero)}\")\n",
    "# df_md_nan = df[df['TPSA'].isna()]\n",
    "# print(f\" Metadata entries with TPSA == Nan: {len(df_md_nan)}\")\n",
    "# df_md_inv = pd.concat((df_md_zero, df_md_nan))\n",
    "# print(f\" Metadata entries with TPSA == Nan or 0.0: {len(df_md_inv)}\")\n",
    "# df_md_inv"
   ]
  },
  {
   "cell_type": "code",
   "execution_count": 8,
   "id": "50372a3e-9ae3-412b-92ec-ff326522b422",
   "metadata": {
    "ExecuteTime": {
     "end_time": "2023-10-03T19:45:48.587354Z",
     "start_time": "2023-10-03T19:45:48.286812Z"
    },
    "execution": {
     "iopub.execute_input": "2024-10-17T19:33:47.367092Z",
     "iopub.status.busy": "2024-10-17T19:33:47.366888Z",
     "iopub.status.idle": "2024-10-17T19:33:47.935260Z",
     "shell.execute_reply": "2024-10-17T19:33:47.934458Z",
     "shell.execute_reply.started": "2024-10-17T19:33:47.367072Z"
    },
    "scrolled": true
   },
   "outputs": [
    {
     "name": "stdout",
     "output_type": "stream",
     "text": [
      "<class 'pandas.core.frame.DataFrame'>\n",
      "RangeIndex: 116691 entries, 0 to 116690\n",
      "Data columns (total 10 columns):\n",
      " #   Column               Non-Null Count   Dtype  \n",
      "---  ------               --------------   -----  \n",
      " 0   Metadata_JCP2022     116691 non-null  object \n",
      " 1   Metadata_Hash        116691 non-null  int64  \n",
      " 2   Metadata_Bin         116691 non-null  int64  \n",
      " 3   Metadata_InChIKey    116691 non-null  object \n",
      " 4   Metadata_InChI       116691 non-null  object \n",
      " 5   Metadata_Smiles      116691 non-null  object \n",
      " 6   Metadata_TPSA        116691 non-null  float64\n",
      " 7   Metadata_lnTPSA      116691 non-null  float64\n",
      " 8   Metadata_logTPSA     116691 non-null  float64\n",
      " 9   Metadata_Permiation  116691 non-null  int64  \n",
      "dtypes: float64(3), int64(3), object(4)\n",
      "memory usage: 8.9+ MB\n"
     ]
    },
    {
     "data": {
      "text/html": [
       "<div>\n",
       "<style scoped>\n",
       "    .dataframe tbody tr th:only-of-type {\n",
       "        vertical-align: middle;\n",
       "    }\n",
       "\n",
       "    .dataframe tbody tr th {\n",
       "        vertical-align: top;\n",
       "    }\n",
       "\n",
       "    .dataframe thead th {\n",
       "        text-align: right;\n",
       "    }\n",
       "</style>\n",
       "<table border=\"1\" class=\"dataframe\">\n",
       "  <thead>\n",
       "    <tr style=\"text-align: right;\">\n",
       "      <th></th>\n",
       "      <th>Metadata_JCP2022</th>\n",
       "      <th>Metadata_Hash</th>\n",
       "      <th>Metadata_Bin</th>\n",
       "      <th>Metadata_InChIKey</th>\n",
       "      <th>Metadata_InChI</th>\n",
       "      <th>Metadata_Smiles</th>\n",
       "      <th>Metadata_TPSA</th>\n",
       "      <th>Metadata_lnTPSA</th>\n",
       "      <th>Metadata_logTPSA</th>\n",
       "      <th>Metadata_Permiation</th>\n",
       "    </tr>\n",
       "  </thead>\n",
       "  <tbody>\n",
       "    <tr>\n",
       "      <th>0</th>\n",
       "      <td>JCP2022_000001</td>\n",
       "      <td>-8640665944756343816</td>\n",
       "      <td>4</td>\n",
       "      <td>AAAHWCWPZPSPIW-UHFFFAOYSA-N</td>\n",
       "      <td>InChI=1S/C25H31N5O2/c1-4-23-26-14-16-30(23)24-...</td>\n",
       "      <td>CCC1=NC=CN1c2cccc(n2)C3CCCN3C(=O)c4ccc(cc4)OCC...</td>\n",
       "      <td>63.49</td>\n",
       "      <td>4.150882</td>\n",
       "      <td>1.802705</td>\n",
       "      <td>0</td>\n",
       "    </tr>\n",
       "    <tr>\n",
       "      <th>1</th>\n",
       "      <td>JCP2022_000002</td>\n",
       "      <td>-2058530355611931119</td>\n",
       "      <td>1</td>\n",
       "      <td>AAAJHRMBUHXWLD-UHFFFAOYSA-N</td>\n",
       "      <td>InChI=1S/C11H13ClN2O/c12-10-4-2-9(3-5-10)8-14-...</td>\n",
       "      <td>OC1=NCCCN1Cc2ccc(Cl)cc2</td>\n",
       "      <td>35.83</td>\n",
       "      <td>3.578786</td>\n",
       "      <td>1.554247</td>\n",
       "      <td>0</td>\n",
       "    </tr>\n",
       "    <tr>\n",
       "      <th>2</th>\n",
       "      <td>JCP2022_000003</td>\n",
       "      <td>8228137599824226564</td>\n",
       "      <td>0</td>\n",
       "      <td>AAALVYBICLMAMA-UHFFFAOYSA-N</td>\n",
       "      <td>InChI=1S/C20H15N3O2/c24-19-15-11-17(21-13-7-3-...</td>\n",
       "      <td>OC2=NC(=O)c3cc(Nc1ccccc1)c(cc23)Nc4ccccc4</td>\n",
       "      <td>73.72</td>\n",
       "      <td>4.300274</td>\n",
       "      <td>1.867585</td>\n",
       "      <td>0</td>\n",
       "    </tr>\n",
       "  </tbody>\n",
       "</table>\n",
       "</div>"
      ],
      "text/plain": [
       "  Metadata_JCP2022        Metadata_Hash  Metadata_Bin            Metadata_InChIKey                                     Metadata_InChI  \\\n",
       "0   JCP2022_000001 -8640665944756343816             4  AAAHWCWPZPSPIW-UHFFFAOYSA-N  InChI=1S/C25H31N5O2/c1-4-23-26-14-16-30(23)24-...   \n",
       "1   JCP2022_000002 -2058530355611931119             1  AAAJHRMBUHXWLD-UHFFFAOYSA-N  InChI=1S/C11H13ClN2O/c12-10-4-2-9(3-5-10)8-14-...   \n",
       "2   JCP2022_000003  8228137599824226564             0  AAALVYBICLMAMA-UHFFFAOYSA-N  InChI=1S/C20H15N3O2/c24-19-15-11-17(21-13-7-3-...   \n",
       "\n",
       "                                     Metadata_Smiles  Metadata_TPSA  Metadata_lnTPSA  Metadata_logTPSA  Metadata_Permiation  \n",
       "0  CCC1=NC=CN1c2cccc(n2)C3CCCN3C(=O)c4ccc(cc4)OCC...          63.49         4.150882          1.802705                    0  \n",
       "1                            OC1=NCCCN1Cc2ccc(Cl)cc2          35.83         3.578786          1.554247                    0  \n",
       "2          OC2=NC(=O)c3cc(Nc1ccccc1)c(cc23)Nc4ccccc4          73.72         4.300274          1.867585                    0  "
      ]
     },
     "execution_count": 8,
     "metadata": {},
     "output_type": "execute_result"
    },
    {
     "data": {
      "text/html": [
       "<div>\n",
       "<style scoped>\n",
       "    .dataframe tbody tr th:only-of-type {\n",
       "        vertical-align: middle;\n",
       "    }\n",
       "\n",
       "    .dataframe tbody tr th {\n",
       "        vertical-align: top;\n",
       "    }\n",
       "\n",
       "    .dataframe thead th {\n",
       "        text-align: right;\n",
       "    }\n",
       "</style>\n",
       "<table border=\"1\" class=\"dataframe\">\n",
       "  <thead>\n",
       "    <tr style=\"text-align: right;\">\n",
       "      <th></th>\n",
       "      <th>Metadata_JCP2022</th>\n",
       "      <th>Metadata_Hash</th>\n",
       "      <th>Metadata_Bin</th>\n",
       "      <th>Metadata_InChIKey</th>\n",
       "      <th>Metadata_InChI</th>\n",
       "      <th>Metadata_Smiles</th>\n",
       "      <th>Metadata_TPSA</th>\n",
       "      <th>Metadata_lnTPSA</th>\n",
       "      <th>Metadata_logTPSA</th>\n",
       "      <th>Metadata_Permiation</th>\n",
       "    </tr>\n",
       "  </thead>\n",
       "  <tbody>\n",
       "    <tr>\n",
       "      <th>116688</th>\n",
       "      <td>JCP2022_116751</td>\n",
       "      <td>5024933905542715644</td>\n",
       "      <td>0</td>\n",
       "      <td>ZZZUOLMMTJKOGE-UHFFFAOYSA-N</td>\n",
       "      <td>InChI=1S/C19H17N5O2/c1-23-9-6-13-7-10-24(19(26...</td>\n",
       "      <td>CN4C=CC3C=CN(CCN=C(O)c2cnc1ccccc1n2)C(=O)C=34</td>\n",
       "      <td>85.30</td>\n",
       "      <td>4.446174</td>\n",
       "      <td>1.930949</td>\n",
       "      <td>0</td>\n",
       "    </tr>\n",
       "    <tr>\n",
       "      <th>116689</th>\n",
       "      <td>JCP2022_116752</td>\n",
       "      <td>8043583690001075349</td>\n",
       "      <td>9</td>\n",
       "      <td>ZZZZIBSVRUABIA-UHFFFAOYSA-N</td>\n",
       "      <td>InChI=1S/C19H13F6N3O2S/c1-11-26-6-5-17(27-11)1...</td>\n",
       "      <td>Cc1nccc(n1)c2cccc(c2)NS(=O)(=O)c3cc(cc(c3)C(F)...</td>\n",
       "      <td>71.95</td>\n",
       "      <td>4.275971</td>\n",
       "      <td>1.857031</td>\n",
       "      <td>0</td>\n",
       "    </tr>\n",
       "    <tr>\n",
       "      <th>116690</th>\n",
       "      <td>JCP2022_116753</td>\n",
       "      <td>-9112886486787329276</td>\n",
       "      <td>4</td>\n",
       "      <td>ZZZZVNLQWWXZTQ-UHFFFAOYSA-N</td>\n",
       "      <td>InChI=1S/C14H20N2O3/c1-18-13-5-3-2-4-12(13)14(...</td>\n",
       "      <td>COc1ccccc1C(O)=NCCN2CCOCC2</td>\n",
       "      <td>54.29</td>\n",
       "      <td>3.994340</td>\n",
       "      <td>1.734720</td>\n",
       "      <td>0</td>\n",
       "    </tr>\n",
       "  </tbody>\n",
       "</table>\n",
       "</div>"
      ],
      "text/plain": [
       "       Metadata_JCP2022        Metadata_Hash  Metadata_Bin            Metadata_InChIKey                                     Metadata_InChI  \\\n",
       "116688   JCP2022_116751  5024933905542715644             0  ZZZUOLMMTJKOGE-UHFFFAOYSA-N  InChI=1S/C19H17N5O2/c1-23-9-6-13-7-10-24(19(26...   \n",
       "116689   JCP2022_116752  8043583690001075349             9  ZZZZIBSVRUABIA-UHFFFAOYSA-N  InChI=1S/C19H13F6N3O2S/c1-11-26-6-5-17(27-11)1...   \n",
       "116690   JCP2022_116753 -9112886486787329276             4  ZZZZVNLQWWXZTQ-UHFFFAOYSA-N  InChI=1S/C14H20N2O3/c1-18-13-5-3-2-4-12(13)14(...   \n",
       "\n",
       "                                          Metadata_Smiles  Metadata_TPSA  Metadata_lnTPSA  Metadata_logTPSA  Metadata_Permiation  \n",
       "116688      CN4C=CC3C=CN(CCN=C(O)c2cnc1ccccc1n2)C(=O)C=34          85.30         4.446174          1.930949                    0  \n",
       "116689  Cc1nccc(n1)c2cccc(c2)NS(=O)(=O)c3cc(cc(c3)C(F)...          71.95         4.275971          1.857031                    0  \n",
       "116690                         COc1ccccc1C(O)=NCCN2CCOCC2          54.29         3.994340          1.734720                    0  "
      ]
     },
     "execution_count": 8,
     "metadata": {},
     "output_type": "execute_result"
    },
    {
     "data": {
      "text/plain": [
       "116691"
      ]
     },
     "execution_count": 8,
     "metadata": {},
     "output_type": "execute_result"
    },
    {
     "name": "stdout",
     "output_type": "stream",
     "text": [
      " Metadata entries with Smiles == Nan : 0\n",
      " Metadata entries with TPSA == 0.0: 0\n",
      " Metadata entries with TPSA == Nan: 0\n",
      " Metadata entries with TPSA == Nan or 0.0: 0\n"
     ]
    },
    {
     "data": {
      "text/html": [
       "<div>\n",
       "<style scoped>\n",
       "    .dataframe tbody tr th:only-of-type {\n",
       "        vertical-align: middle;\n",
       "    }\n",
       "\n",
       "    .dataframe tbody tr th {\n",
       "        vertical-align: top;\n",
       "    }\n",
       "\n",
       "    .dataframe thead th {\n",
       "        text-align: right;\n",
       "    }\n",
       "</style>\n",
       "<table border=\"1\" class=\"dataframe\">\n",
       "  <thead>\n",
       "    <tr style=\"text-align: right;\">\n",
       "      <th></th>\n",
       "      <th>Metadata_JCP2022</th>\n",
       "      <th>Metadata_Hash</th>\n",
       "      <th>Metadata_Bin</th>\n",
       "      <th>Metadata_InChIKey</th>\n",
       "      <th>Metadata_InChI</th>\n",
       "      <th>Metadata_Smiles</th>\n",
       "      <th>Metadata_TPSA</th>\n",
       "      <th>Metadata_lnTPSA</th>\n",
       "      <th>Metadata_logTPSA</th>\n",
       "      <th>Metadata_Permiation</th>\n",
       "    </tr>\n",
       "  </thead>\n",
       "  <tbody>\n",
       "  </tbody>\n",
       "</table>\n",
       "</div>"
      ],
      "text/plain": [
       "Empty DataFrame\n",
       "Columns: [Metadata_JCP2022, Metadata_Hash, Metadata_Bin, Metadata_InChIKey, Metadata_InChI, Metadata_Smiles, Metadata_TPSA, Metadata_lnTPSA, Metadata_logTPSA, Metadata_Permiation]\n",
       "Index: []"
      ]
     },
     "execution_count": 8,
     "metadata": {},
     "output_type": "execute_result"
    }
   ],
   "source": [
    "df = pd.read_csv(ds.compoundMetadataTPSACleanFile)\n",
    "df.info()\n",
    "df.head(3)\n",
    "df.tail(3)\n",
    "len(df)\n",
    "df_md_zero = df[df['Metadata_Smiles'].isna()]\n",
    "print(f\" Metadata entries with Smiles == Nan : {len(df_md_zero)}\")\n",
    "df_md_zero = df[df['Metadata_TPSA'] == 0.0]\n",
    "print(f\" Metadata entries with TPSA == 0.0: {len(df_md_zero)}\")\n",
    "df_md_nan = df[df['Metadata_TPSA'].isna()]\n",
    "print(f\" Metadata entries with TPSA == Nan: {len(df_md_nan)}\")\n",
    "df_md_inv = pd.concat((df_md_zero, df_md_nan))\n",
    "print(f\" Metadata entries with TPSA == Nan or 0.0: {len(df_md_inv)}\")\n",
    "df_md_inv"
   ]
  },
  {
   "cell_type": "markdown",
   "id": "23367623-9529-4fc9-ab1d-eefc05a3a369",
   "metadata": {},
   "source": [
    "# Calculate pharmacophores using multiprocessing "
   ]
  },
  {
   "cell_type": "code",
   "execution_count": 17,
   "id": "f3fc490b-5b2a-44e0-85e4-409fc2f8f4bd",
   "metadata": {
    "execution": {
     "iopub.execute_input": "2024-10-17T19:40:17.650566Z",
     "iopub.status.busy": "2024-10-17T19:40:17.650093Z",
     "iopub.status.idle": "2024-10-17T19:40:17.890056Z",
     "shell.execute_reply": "2024-10-17T19:40:17.889307Z",
     "shell.execute_reply.started": "2024-10-17T19:40:17.650491Z"
    }
   },
   "outputs": [],
   "source": [
    "# from KevinsRoutines.utils.utils_chem import  my_callback, my_error_callback\n",
    "# del my_enumerator, my_callback, my_error_callback, apply_args_and_kwargs, starmap_with_kwargs_async, getPharmacophoresFromRDKit\n",
    "# from KevinsRoutines.utils.utils_chem import my_enumerator, my_callback, my_error_callback, apply_args_and_kwargs, starmap_with_kwargs_async\n",
    "del getPharmacophoresFromRDKit\n",
    "from KevinsRoutines.utils.utils_chem import getPharmacophoresFromRDKit\n",
    "# from KevinsRoutines.utils.utils_chem import starmap_with_kwargs_async\n",
    "\n"
   ]
  },
  {
   "cell_type": "code",
   "execution_count": 18,
   "id": "9423095a-9a6c-49d0-a81b-8e13f896b390",
   "metadata": {
    "ExecuteTime": {
     "end_time": "2023-10-03T19:45:58.263394Z",
     "start_time": "2023-10-03T19:45:58.251877Z"
    },
    "execution": {
     "iopub.execute_input": "2024-10-17T19:40:18.509844Z",
     "iopub.status.busy": "2024-10-17T19:40:18.509532Z",
     "iopub.status.idle": "2024-10-17T19:40:18.557254Z",
     "shell.execute_reply": "2024-10-17T19:40:18.556588Z",
     "shell.execute_reply.started": "2024-10-17T19:40:18.509815Z"
    }
   },
   "outputs": [
    {
     "name": "stdout",
     "output_type": "stream",
     "text": [
      "Read metadata file : ./output_10162024/compound_metadata_tpsa_clean.csv\n"
     ]
    },
    {
     "data": {
      "text/plain": [
       "<pandas.io.parsers.readers.TextFileReader at 0x7fc4bdc8dc90>"
      ]
     },
     "execution_count": 18,
     "metadata": {},
     "output_type": "execute_result"
    }
   ],
   "source": [
    "nrows = 60000\n",
    "chunksize = 10000\n",
    "progress_int = 1000\n",
    "processes = 6\n",
    "call_function  = getPharmacophoresFromRDKit\n",
    "kwargs = {'append_pharmacophore' : False, 'progress_int' : progress_int}\n",
    "\n",
    "print(f\"Read metadata file : {ds.compoundMetadataTPSACleanFile}\")\n",
    "\n",
    "enumerator = my_enumerator()\n",
    "df_iterator  = pd.read_csv(ds.compoundMetadataTPSACleanFile, header=0,  chunksize=chunksize)\n",
    "df_iterator\n",
    "args = zip(enumerator, df_iterator)\n",
    "# dd = next(df_iterator)\n",
    "# type(dd)\n",
    "# dd.info()\n",
    "# dd.head(4)"
   ]
  },
  {
   "cell_type": "code",
   "execution_count": 19,
   "id": "dd944cc0-5b05-474b-9c0e-fe877667eee6",
   "metadata": {
    "ExecuteTime": {
     "end_time": "2023-05-24T15:24:03.901071Z",
     "start_time": "2023-05-24T15:24:03.587002Z"
    },
    "execution": {
     "iopub.execute_input": "2024-10-17T19:40:19.137175Z",
     "iopub.status.busy": "2024-10-17T19:40:19.136890Z",
     "iopub.status.idle": "2024-10-17T19:40:19.173340Z",
     "shell.execute_reply": "2024-10-17T19:40:19.172711Z",
     "shell.execute_reply.started": "2024-10-17T19:40:19.137147Z"
    },
    "scrolled": true
   },
   "outputs": [],
   "source": [
    "## If this is executed, reinitialize enumerator and df_iterator before running \n",
    "## starmap_with_kwargs_async\n",
    "# for arg in args:\n",
    "#     print(arg[0], len(arg[1]))"
   ]
  },
  {
   "cell_type": "code",
   "execution_count": 20,
   "id": "6c2658db-23c8-4103-963b-b54522f7ef5a",
   "metadata": {
    "ExecuteTime": {
     "end_time": "2023-05-24T15:24:03.901071Z",
     "start_time": "2023-05-24T15:24:03.587002Z"
    },
    "execution": {
     "iopub.execute_input": "2024-10-17T19:40:19.443131Z",
     "iopub.status.busy": "2024-10-17T19:40:19.442922Z",
     "iopub.status.idle": "2024-10-18T03:30:12.567200Z",
     "shell.execute_reply": "2024-10-18T03:30:12.565988Z",
     "shell.execute_reply.started": "2024-10-17T19:40:19.443112Z"
    },
    "scrolled": true
   },
   "outputs": [
    {
     "name": "stdout",
     "output_type": "stream",
     "text": [
      " 10/17/24-21:40:19 | starmap_with_kwargs_async() | Started  \n",
      " starmap_with_kwargs_async parameters\n",
      "   processes  : 6\n",
      "   fn         : <function getPharmacophoresFromRDKit at 0x7fc3cb9a7380>       \n",
      "   args_iter  : <class 'zip'> \n",
      "   kwargs_iter: <class 'dict'> : {'append_pharmacophore': False, 'progress_int': 1000}\n",
      "\n",
      "<multiprocessing.pool.Pool state=RUN pool_size=6>\n",
      " 10/17/24-21:40:20 | entering apply_args_and_kwargs() \n",
      "   apply_args_and_kwargs for part 0 \n",
      "   fn:      <class 'function'>    - <function getPharmacophoresFromRDKit at 0x7fc3cb9a7380> \n",
      "   args:    <class 'tuple'>  - 2:  args[0]: 0   args[1]: <class 'pandas.core.frame.DataFrame'> \n",
      "   kwargs:  <class 'dict'>- <class 'dict'>  {'append_pharmacophore': False, 'progress_int': 1000} \n",
      " 10/17/24-21:40:20 | exiting apply_args_and_kwargs() \n",
      " \n",
      " progress_int : 1000\n",
      "\n",
      " ------------------------------------------------------------------------- \n",
      " 21:40:20.040654 | chunk_id: 0 | process started - chunk sz: 10000  append_phar: False\n",
      " ------------------------------------------------------------------------- \n",
      "\n",
      " 10/17/24-21:40:20 | entering apply_args_and_kwargs() \n",
      "   apply_args_and_kwargs for part 1 \n",
      "   fn:      <class 'function'>    - <function getPharmacophoresFromRDKit at 0x7fc3cb9a7380> \n",
      "   args:    <class 'tuple'>  - 2:  args[0]: 1   args[1]: <class 'pandas.core.frame.DataFrame'> \n",
      "   kwargs:  <class 'dict'>- <class 'dict'>  {'append_pharmacophore': False, 'progress_int': 1000} \n",
      " 10/17/24-21:40:20 | exiting apply_args_and_kwargs() \n",
      "  21:40:20.054564 | chunk_id: 0 | Metadata_Pharmacophore_Base64 column exists\n",
      "\n",
      " progress_int : 1000\n",
      "\n",
      " ------------------------------------------------------------------------- \n",
      " 21:40:20.057747 | chunk_id: 1 | process started - chunk sz: 10000  append_phar: False\n",
      " ------------------------------------------------------------------------- \n",
      "\n",
      " 21:40:20.059082 | chunk_id: 0 | 0 rows processed \n",
      " 21:40:20.070543 | chunk_id: 1 | Metadata_Pharmacophore_Base64 column exists 10/17/24-21:40:20 | entering apply_args_and_kwargs() \n",
      "   apply_args_and_kwargs for part 2 \n",
      "   fn:      <class 'function'>    - <function getPharmacophoresFromRDKit at 0x7fc3cb9a7380> \n",
      "   args:    <class 'tuple'>  - 2:  args[0]: 2   args[1]: <class 'pandas.core.frame.DataFrame'> \n",
      "   kwargs:  <class 'dict'>- <class 'dict'>  {'append_pharmacophore': False, 'progress_int': 1000} \n",
      " 10/17/24-21:40:20 | exiting apply_args_and_kwargs() \n",
      " \n",
      "\n",
      " progress_int : 1000\n",
      "\n",
      " ------------------------------------------------------------------------- \n",
      " 21:40:20.075466 | chunk_id: 2 | process started - chunk sz: 10000  append_phar: False\n",
      " ------------------------------------------------------------------------- \n",
      "\n",
      " 21:40:20.076263 | chunk_id: 1 | 0 rows processed \n",
      " 21:40:20.088647 | chunk_id: 2 | Metadata_Pharmacophore_Base64 column exists\n",
      " 21:40:20.092859 | chunk_id: 2 | 0 rows processed \n",
      " 10/17/24-21:40:20 | entering apply_args_and_kwargs() \n",
      "   apply_args_and_kwargs for part 3 \n",
      "   fn:      <class 'function'>    - <function getPharmacophoresFromRDKit at 0x7fc3cb9a7380> \n",
      "   args:    <class 'tuple'>  - 2:  args[0]: 3   args[1]: <class 'pandas.core.frame.DataFrame'> \n",
      "   kwargs:  <class 'dict'>- <class 'dict'>  {'append_pharmacophore': False, 'progress_int': 1000} \n",
      " 10/17/24-21:40:20 | exiting apply_args_and_kwargs() \n",
      " \n",
      " progress_int : 1000\n",
      "\n",
      " ------------------------------------------------------------------------- \n",
      " 21:40:20.098236 | chunk_id: 3 | process started - chunk sz: 10000  append_phar: False\n",
      " ------------------------------------------------------------------------- \n",
      "\n",
      " 21:40:20.110893 | chunk_id: 3 | Metadata_Pharmacophore_Base64 column exists\n",
      " 21:40:20.115060 | chunk_id: 3 | 0 rows processed \n",
      " 10/17/24-21:40:20 | entering apply_args_and_kwargs() \n",
      "   apply_args_and_kwargs for part 4 \n",
      "   fn:      <class 'function'>    - <function getPharmacophoresFromRDKit at 0x7fc3cb9a7380> \n",
      "   args:    <class 'tuple'>  - 2:  args[0]: 4   args[1]: <class 'pandas.core.frame.DataFrame'> \n",
      "   kwargs:  <class 'dict'>- <class 'dict'>  {'append_pharmacophore': False, 'progress_int': 1000} \n",
      " 10/17/24-21:40:20 | exiting apply_args_and_kwargs() \n",
      " \n",
      " progress_int : 1000\n",
      "\n",
      " ------------------------------------------------------------------------- \n",
      " 21:40:20.121082 | chunk_id: 4 | process started - chunk sz: 10000  append_phar: False\n",
      " ------------------------------------------------------------------------- \n",
      "\n",
      " 10/17/24-21:40:20 | entering apply_args_and_kwargs() \n",
      "   apply_args_and_kwargs for part 5 \n",
      "   fn:      <class 'function'>    - <function getPharmacophoresFromRDKit at 0x7fc3cb9a7380> \n",
      "   args:    <class 'tuple'>  - 2:  args[0]: 5   args[1]: <class 'pandas.core.frame.DataFrame'> \n",
      "   kwargs:  <class 'dict'>- <class 'dict'>  {'append_pharmacophore': False, 'progress_int': 1000} \n",
      " 10/17/24-21:40:20 | exiting apply_args_and_kwargs() \n",
      " \n",
      " progress_int : 1000\n",
      "\n",
      " ------------------------------------------------------------------------- \n",
      " 21:40:20.133051 | chunk_id: 5 | process started - chunk sz: 10000  append_phar: False\n",
      " ------------------------------------------------------------------------- \n",
      "\n",
      " 21:40:20.135440 | chunk_id: 4 | Metadata_Pharmacophore_Base64 column exists\n",
      " 21:40:20.139431 | chunk_id: 4 | 0 rows processed \n",
      " 21:40:20.153199 | chunk_id: 5 | Metadata_Pharmacophore_Base64 column exists\n",
      " 21:40:20.157607 | chunk_id: 5 | 0 rows processed \n",
      " 10/17/24-21:40:19 | starmap_with_kwargs_async() | Now Waiting . . .  \n"
     ]
    },
    {
     "name": "stderr",
     "output_type": "stream",
     "text": [
      "[21:40:20] WARNING:  Problems/mismatches: Mobile-H( Mobile-H groups: One instead of multiple, Attachment points, Number)\n",
      "\n",
      "[21:40:21] WARNING:  Problems/mismatches: Mobile-H( Hydrogens: Locations or number, Number; Mobile-H groups: One instead of multiple, Attachment points, Number; Charge(s): Do not match; Proton balance: Does not match)\n",
      "\n",
      "[21:40:23] WARNING:  Problems/mismatches: Mobile-H( Hydrogens: Locations or number; Mobile-H groups: Attachment points, Number)\n",
      "\n",
      "[21:40:24] WARNING:  Problems/mismatches: Mobile-H( Hydrogens: Locations or number; Mobile-H groups: Attachment points, Number)\n",
      "\n"
     ]
    },
    {
     "name": "stdout",
     "output_type": "stream",
     "text": [
      " 21:40:26.925512 | chunk_id: 3 | 1000 rows processed \n"
     ]
    },
    {
     "name": "stderr",
     "output_type": "stream",
     "text": [
      "[21:40:27] WARNING:  Problems/mismatches: Mobile-H( Mobile-H groups: Attachment points, Number)\n",
      "\n",
      "[21:40:27] WARNING:  Problems/mismatches: Mobile-H( Hydrogens: Number; Mobile-H groups: One instead of multiple, Attachment points, Number; Charge(s): Do not match)\n",
      "\n"
     ]
    },
    {
     "name": "stdout",
     "output_type": "stream",
     "text": [
      " 21:40:27.651376 | chunk_id: 2 | 1000 rows processed \n",
      " 21:40:28.359433 | chunk_id: 1 | 1000 rows processed \n",
      " 21:40:28.520805 | chunk_id: 5 | 1000 rows processed \n",
      " 21:40:29.051858 | chunk_id: 4 | 1000 rows processed \n"
     ]
    },
    {
     "name": "stderr",
     "output_type": "stream",
     "text": [
      "[21:40:31] WARNING:  Problems/mismatches: Mobile-H( Hydrogens: Locations or number, Number; Mobile-H groups: One instead of multiple, Attachment points, Number; Charge(s): Do not match; Proton balance: Does not match)\n",
      "\n"
     ]
    },
    {
     "name": "stdout",
     "output_type": "stream",
     "text": [
      " 21:40:32.723466 | chunk_id: 0 | 1000 rows processed \n"
     ]
    },
    {
     "name": "stderr",
     "output_type": "stream",
     "text": [
      "[21:40:34] WARNING:  Problems/mismatches: Mobile-H( Hydrogens: Locations or number, Number; Mobile-H groups: One instead of multiple, Attachment points, Number; Charge(s): Do not match)\n",
      "\n"
     ]
    },
    {
     "name": "stdout",
     "output_type": "stream",
     "text": [
      " 21:40:35.249991 | chunk_id: 2 | 2000 rows processed \n"
     ]
    },
    {
     "name": "stderr",
     "output_type": "stream",
     "text": [
      "[21:40:35] WARNING:  Problems/mismatches: Mobile-H( Hydrogens: Locations or number, Number; Mobile-H groups: One instead of multiple, Attachment points, Number; Charge(s): Do not match)\n",
      "\n"
     ]
    },
    {
     "name": "stdout",
     "output_type": "stream",
     "text": [
      " 21:40:36.824389 | chunk_id: 4 | 2000 rows processed \n",
      " 21:40:42.093668 | chunk_id: 2 | 3000 rows processed \n",
      " 21:40:42.551277 | chunk_id: 0 | 2000 rows processed \n",
      " 21:40:43.118086 | chunk_id: 1 | 2000 rows processed \n",
      " 21:40:46.795425 | chunk_id: 4 | 3000 rows processed \n"
     ]
    },
    {
     "name": "stderr",
     "output_type": "stream",
     "text": [
      "[21:40:47] WARNING:  Problems/mismatches: Mobile-H( Hydrogens: Number; Mobile-H groups: One instead of multiple, Attachment points, Number; Charge(s): Do not match)\n",
      "\n",
      "[21:40:49] WARNING:  Problems/mismatches: Mobile-H( Hydrogens: Locations or number, Number; Charge(s): Do not match)\n",
      "\n"
     ]
    },
    {
     "name": "stdout",
     "output_type": "stream",
     "text": [
      " 21:40:50.582122 | chunk_id: 2 | 4000 rows processed \n",
      " 21:40:51.309237 | chunk_id: 1 | 3000 rows processed \n",
      " 21:40:51.387461 | chunk_id: 0 | 3000 rows processed \n"
     ]
    },
    {
     "name": "stderr",
     "output_type": "stream",
     "text": [
      "[21:40:53] WARNING:  Problems/mismatches: Mobile-H( Mobile-H groups: Attachment points, Number)\n",
      "\n",
      "[21:40:53] WARNING:  Problems/mismatches: Mobile-H( Hydrogens: Locations or number, Number; Mobile-H groups: One instead of multiple, Attachment points, Number; Charge(s): Do not match)\n",
      "\n"
     ]
    },
    {
     "name": "stdout",
     "output_type": "stream",
     "text": [
      " 21:40:57.210650 | chunk_id: 2 | 5000 rows processed \n",
      " 21:40:58.843560 | chunk_id: 1 | 4000 rows processed \n",
      " 21:41:00.584321 | chunk_id: 0 | 4000 rows processed \n",
      " 21:41:06.802072 | chunk_id: 1 | 5000 rows processed \n",
      " 21:41:12.086770 | chunk_id: 0 | 5000 rows processed \n",
      " 21:41:13.673706 | chunk_id: 1 | 6000 rows processed \n",
      " 21:41:21.720665 | chunk_id: 2 | 6000 rows processed \n",
      " 21:41:24.107006 | chunk_id: 1 | 7000 rows processed \n",
      " 21:41:28.238332 | chunk_id: 2 | 7000 rows processed \n",
      " 21:41:36.917855 | chunk_id: 2 | 8000 rows processed \n"
     ]
    },
    {
     "name": "stderr",
     "output_type": "stream",
     "text": [
      "[21:41:46] WARNING:  Problems/mismatches: Mobile-H( Mobile-H groups: Attachment points, Number)\n",
      "\n"
     ]
    },
    {
     "name": "stdout",
     "output_type": "stream",
     "text": [
      " 21:41:47.265697 | chunk_id: 2 | 9000 rows processed \n",
      " 21:41:49.088762 | chunk_id: 1 | 8000 rows processed \n",
      " 21:42:01.196730 | chunk_id: 1 | 9000 rows processed \n",
      "\n",
      " ------------------------------------------------------------------------- \n",
      " Results of processing chunk 1 \n",
      " ------------------------------------------------------------------------- \n",
      "                                          Total Read :  10000\n",
      " rows with missing InChiKey in input                 :      0 \n",
      " rows with no MOL object returned from RDKit         :      0      \n",
      " rows with with valid Mol                            :  10000   \n",
      " rows with No fingerprint computed                   :      0       \n",
      " rows with with valid Mol                            :  10000   \n",
      "                                               Total :      0\n",
      " ------------------------------------------------------------------------- \n",
      " 21:42:08.037549 | chunk_id: 1 | Process end   \n",
      " ------------------------------------------------------------------------- \n",
      "\n",
      " 10/17/24-21:42:08 | entering apply_args_and_kwargs() \n",
      "   apply_args_and_kwargs for part 6 \n",
      "   fn:      <class 'function'>    - <function getPharmacophoresFromRDKit at 0x7fc3cb9a7380> \n",
      "   args:    <class 'tuple'>  - 2:  args[0]: 6   args[1]: <class 'pandas.core.frame.DataFrame'> \n",
      "   kwargs:  <class 'dict'>- <class 'dict'>  {'append_pharmacophore': False, 'progress_int': 1000} \n",
      " 10/17/24-21:42:08 | exiting apply_args_and_kwargs() \n",
      " \n",
      " progress_int : 1000\n",
      "\n",
      " ------------------------------------------------------------------------- \n",
      " 21:42:08.240934 | chunk_id: 6 | process started - chunk sz: 10000  append_phar: False\n",
      " ------------------------------------------------------------------------- \n",
      "\n",
      " 21:42:08.249348 | chunk_id: 6 | Metadata_Pharmacophore_Base64 column exists\n",
      " 21:42:08.252268 | chunk_id: 6 | 0 rows processed \n",
      " 21:42:17.034065 | chunk_id: 4 | 4000 rows processed \n",
      " 21:42:22.781462 | chunk_id: 6 | 1000 rows processed \n",
      " 21:42:27.325872 | chunk_id: 5 | 2000 rows processed \n",
      "\n",
      " ------------------------------------------------------------------------- \n",
      " Results of processing chunk 2 \n",
      " ------------------------------------------------------------------------- \n",
      "                                          Total Read :  10000\n",
      " rows with missing InChiKey in input                 :      0 \n",
      " rows with no MOL object returned from RDKit         :      0      \n",
      " rows with with valid Mol                            :  10000   \n",
      " rows with No fingerprint computed                   :      0       \n",
      " rows with with valid Mol                            :  10000   \n",
      "                                               Total :      0\n",
      " ------------------------------------------------------------------------- \n",
      " 21:42:29.224130 | chunk_id: 2 | Process end   \n",
      " ------------------------------------------------------------------------- \n",
      "\n",
      " 10/17/24-21:42:29 | entering apply_args_and_kwargs() \n",
      "   apply_args_and_kwargs for part 7 \n",
      "   fn:      <class 'function'>    - <function getPharmacophoresFromRDKit at 0x7fc3cb9a7380> \n",
      "   args:    <class 'tuple'>  - 2:  args[0]: 7   args[1]: <class 'pandas.core.frame.DataFrame'> \n",
      "   kwargs:  <class 'dict'>- <class 'dict'>  {'append_pharmacophore': False, 'progress_int': 1000} \n",
      " 10/17/24-21:42:29 | exiting apply_args_and_kwargs() \n",
      " \n",
      " progress_int : 1000\n",
      "\n",
      " ------------------------------------------------------------------------- \n",
      " 21:42:29.426654 | chunk_id: 7 | process started - chunk sz: 10000  append_phar: False\n",
      " ------------------------------------------------------------------------- \n",
      "\n",
      " 21:42:29.435591 | chunk_id: 7 | Metadata_Pharmacophore_Base64 column exists\n",
      " 21:42:29.438759 | chunk_id: 7 | 0 rows processed \n",
      " 21:42:33.918224 | chunk_id: 4 | 5000 rows processed \n",
      " 21:42:36.917746 | chunk_id: 7 | 1000 rows processed \n",
      " 21:42:41.857963 | chunk_id: 4 | 6000 rows processed \n",
      " 21:42:44.798622 | chunk_id: 7 | 2000 rows processed \n"
     ]
    },
    {
     "name": "stderr",
     "output_type": "stream",
     "text": [
      "[21:42:47] WARNING:  Problems/mismatches: Mobile-H( Hydrogens: Locations or number, Number; Mobile-H groups: Attachment points, Number; Charge(s): Do not match)\n",
      "\n"
     ]
    },
    {
     "name": "stdout",
     "output_type": "stream",
     "text": [
      " 21:42:48.758568 | chunk_id: 4 | 7000 rows processed \n",
      " 21:42:50.259182 | chunk_id: 5 | 3000 rows processed \n",
      " 21:42:52.313914 | chunk_id: 7 | 3000 rows processed \n",
      " 21:43:01.296780 | chunk_id: 4 | 8000 rows processed \n",
      " 21:43:04.860727 | chunk_id: 5 | 4000 rows processed \n",
      " 21:43:08.638788 | chunk_id: 4 | 9000 rows processed \n",
      " 21:43:11.640556 | chunk_id: 5 | 5000 rows processed \n",
      "\n",
      " ------------------------------------------------------------------------- \n",
      " Results of processing chunk 4 \n",
      " ------------------------------------------------------------------------- \n",
      "                                          Total Read :  10000\n",
      " rows with missing InChiKey in input                 :      0 \n",
      " rows with no MOL object returned from RDKit         :      0      \n",
      " rows with with valid Mol                            :  10000   \n",
      " rows with No fingerprint computed                   :      0       \n",
      " rows with with valid Mol                            :  10000   \n",
      "                                               Total :      0\n",
      " ------------------------------------------------------------------------- \n",
      " 21:43:15.526589 | chunk_id: 4 | Process end   \n",
      " ------------------------------------------------------------------------- \n",
      "\n",
      " 10/17/24-21:43:15 | entering apply_args_and_kwargs() \n",
      "   apply_args_and_kwargs for part 8 \n",
      "   fn:      <class 'function'>    - <function getPharmacophoresFromRDKit at 0x7fc3cb9a7380> \n",
      "   args:    <class 'tuple'>  - 2:  args[0]: 8   args[1]: <class 'pandas.core.frame.DataFrame'> \n",
      "   kwargs:  <class 'dict'>- <class 'dict'>  {'append_pharmacophore': False, 'progress_int': 1000} \n",
      " 10/17/24-21:43:15 | exiting apply_args_and_kwargs() \n",
      " \n",
      " progress_int : 1000\n",
      "\n",
      " ------------------------------------------------------------------------- \n",
      " 21:43:15.744495 | chunk_id: 8 | process started - chunk sz: 10000  append_phar: False\n",
      " ------------------------------------------------------------------------- \n",
      "\n",
      " 21:43:15.752965 | chunk_id: 8 | Metadata_Pharmacophore_Base64 column exists\n",
      " 21:43:15.755945 | chunk_id: 8 | 0 rows processed \n"
     ]
    },
    {
     "name": "stderr",
     "output_type": "stream",
     "text": [
      "[21:43:16] WARNING:  Problems/mismatches: Mobile-H( Hydrogens: Number; Mobile-H groups: Number; Charge(s): Do not match)\n",
      "\n"
     ]
    },
    {
     "name": "stdout",
     "output_type": "stream",
     "text": [
      " 21:43:18.266689 | chunk_id: 5 | 6000 rows processed \n"
     ]
    },
    {
     "name": "stderr",
     "output_type": "stream",
     "text": [
      "[21:43:22] WARNING:  Problems/mismatches: Mobile-H( Hydrogens: Locations or number; Mobile-H groups: Missing, Attachment points)\n",
      "\n",
      "[21:43:24] WARNING:  Problems/mismatches: Mobile-H( Hydrogens: Locations or number, Number; Mobile-H groups: One instead of multiple, Attachment points, Number; Charge(s): Do not match)\n",
      "\n"
     ]
    },
    {
     "name": "stdout",
     "output_type": "stream",
     "text": [
      " 21:43:25.026930 | chunk_id: 8 | 1000 rows processed \n",
      " 21:43:25.342696 | chunk_id: 5 | 7000 rows processed \n",
      " 21:43:34.520263 | chunk_id: 5 | 8000 rows processed \n",
      " 21:43:37.840017 | chunk_id: 8 | 2000 rows processed \n"
     ]
    },
    {
     "name": "stderr",
     "output_type": "stream",
     "text": [
      "[21:43:42] WARNING:  Problems/mismatches: Mobile-H( Hydrogens: Locations or number; Mobile-H groups: One instead of multiple, Attachment points, Number)\n",
      "\n"
     ]
    },
    {
     "name": "stdout",
     "output_type": "stream",
     "text": [
      " 21:43:44.784926 | chunk_id: 5 | 9000 rows processed \n",
      " 21:43:54.888184 | chunk_id: 8 | 3000 rows processed \n",
      " 21:43:56.318533 | chunk_id: 7 | 4000 rows processed \n",
      "\n",
      " ------------------------------------------------------------------------- \n",
      " Results of processing chunk 5 \n",
      " ------------------------------------------------------------------------- \n",
      "                                          Total Read :  10000\n",
      " rows with missing InChiKey in input                 :      0 \n",
      " rows with no MOL object returned from RDKit         :      0      \n",
      " rows with with valid Mol                            :  10000   \n",
      " rows with No fingerprint computed                   :      0       \n",
      " rows with with valid Mol                            :  10000   \n",
      "                                               Total :      0\n",
      " ------------------------------------------------------------------------- \n",
      " 21:43:58.110847 | chunk_id: 5 | Process end   \n",
      " ------------------------------------------------------------------------- \n",
      "\n",
      " 10/17/24-21:43:58 | entering apply_args_and_kwargs() \n",
      "   apply_args_and_kwargs for part 9 \n",
      "   fn:      <class 'function'>    - <function getPharmacophoresFromRDKit at 0x7fc3cb9a7380> \n",
      "   args:    <class 'tuple'>  - 2:  args[0]: 9   args[1]: <class 'pandas.core.frame.DataFrame'> \n",
      "   kwargs:  <class 'dict'>- <class 'dict'>  {'append_pharmacophore': False, 'progress_int': 1000} \n",
      " 10/17/24-21:43:58 | exiting apply_args_and_kwargs() \n",
      " \n",
      " progress_int : 1000\n",
      "\n",
      " ------------------------------------------------------------------------- \n",
      " 21:43:58.526074 | chunk_id: 9 | process started - chunk sz: 10000  append_phar: False\n",
      " ------------------------------------------------------------------------- \n",
      "\n",
      " 21:43:58.535218 | chunk_id: 9 | Metadata_Pharmacophore_Base64 column exists\n",
      " 21:43:58.538248 | chunk_id: 9 | 0 rows processed \n",
      " 21:44:02.815200 | chunk_id: 8 | 4000 rows processed \n",
      " 21:44:06.533876 | chunk_id: 9 | 1000 rows processed \n",
      " 21:44:06.836037 | chunk_id: 7 | 5000 rows processed \n",
      " 21:44:10.291583 | chunk_id: 8 | 5000 rows processed \n"
     ]
    },
    {
     "name": "stderr",
     "output_type": "stream",
     "text": [
      "[21:44:10] WARNING:  Problems/mismatches: Mobile-H( Hydrogens: Locations or number, Number; Mobile-H groups: One instead of multiple, Attachment points, Number; Charge(s): Do not match)\n",
      "\n"
     ]
    },
    {
     "name": "stdout",
     "output_type": "stream",
     "text": [
      " 21:44:17.366015 | chunk_id: 7 | 6000 rows processed \n",
      " 21:44:17.440086 | chunk_id: 8 | 6000 rows processed \n"
     ]
    },
    {
     "name": "stderr",
     "output_type": "stream",
     "text": [
      "[21:44:19] WARNING:  Problems/mismatches: Mobile-H( Hydrogens: Locations or number, Number; Mobile-H groups: One instead of multiple, Attachment points, Number; Charge(s): Do not match; Proton balance: Does not match)\n",
      "\n",
      "[21:44:21] WARNING:  Problems/mismatches: Mobile-H( Hydrogens: Number; Mobile-H groups: One instead of multiple, Attachment points, Number; Charge(s): Do not match)\n",
      "\n"
     ]
    },
    {
     "name": "stdout",
     "output_type": "stream",
     "text": [
      " 21:44:24.022431 | chunk_id: 7 | 7000 rows processed \n",
      " 21:44:24.370542 | chunk_id: 8 | 7000 rows processed \n",
      " 21:44:29.992406 | chunk_id: 9 | 2000 rows processed \n",
      " 21:44:31.247080 | chunk_id: 8 | 8000 rows processed \n",
      " 21:44:37.734483 | chunk_id: 9 | 3000 rows processed \n",
      " 21:44:39.860584 | chunk_id: 8 | 9000 rows processed \n",
      " 21:44:44.806016 | chunk_id: 9 | 4000 rows processed \n",
      "\n",
      " ------------------------------------------------------------------------- \n",
      " Results of processing chunk 8 \n",
      " ------------------------------------------------------------------------- \n",
      "                                          Total Read :  10000\n",
      " rows with missing InChiKey in input                 :      0 \n",
      " rows with no MOL object returned from RDKit         :      0      \n",
      " rows with with valid Mol                            :  10000   \n",
      " rows with No fingerprint computed                   :      0       \n",
      " rows with with valid Mol                            :  10000   \n",
      "                                               Total :      0\n",
      " ------------------------------------------------------------------------- \n",
      " 21:44:46.930040 | chunk_id: 8 | Process end   \n",
      " ------------------------------------------------------------------------- \n",
      "\n",
      " 10/17/24-21:44:47 | entering apply_args_and_kwargs() \n",
      "   apply_args_and_kwargs for part 10 \n",
      "   fn:      <class 'function'>    - <function getPharmacophoresFromRDKit at 0x7fc3cb9a7380> \n",
      "   args:    <class 'tuple'>  - 2:  args[0]: 10   args[1]: <class 'pandas.core.frame.DataFrame'> \n",
      "   kwargs:  <class 'dict'>- <class 'dict'>  {'append_pharmacophore': False, 'progress_int': 1000} \n",
      " 10/17/24-21:44:47 | exiting apply_args_and_kwargs() \n",
      " \n",
      " progress_int : 1000\n",
      "\n",
      " ------------------------------------------------------------------------- \n",
      " 21:44:47.131250 | chunk_id: 10 | process started - chunk sz: 10000  append_phar: False\n",
      " ------------------------------------------------------------------------- \n",
      "\n",
      " 21:44:47.140115 | chunk_id: 10 | Metadata_Pharmacophore_Base64 column exists\n",
      " 21:44:47.143009 | chunk_id: 10 | 0 rows processed \n",
      " 21:44:55.352638 | chunk_id: 10 | 1000 rows processed \n",
      " 21:45:00.236129 | chunk_id: 9 | 5000 rows processed \n",
      " 21:45:03.721098 | chunk_id: 10 | 2000 rows processed \n",
      " 21:45:08.875648 | chunk_id: 7 | 8000 rows processed \n",
      " 21:45:09.109620 | chunk_id: 9 | 6000 rows processed \n"
     ]
    },
    {
     "name": "stderr",
     "output_type": "stream",
     "text": [
      "[21:45:12] WARNING:  Problems/mismatches: Mobile-H( Mobile-H groups: Multiple instead of one, Number)\n",
      "\n"
     ]
    },
    {
     "name": "stdout",
     "output_type": "stream",
     "text": [
      " 21:45:16.547251 | chunk_id: 9 | 7000 rows processed \n"
     ]
    },
    {
     "name": "stderr",
     "output_type": "stream",
     "text": [
      "[21:45:17] WARNING:  Problems/mismatches: Mobile-H( Mobile-H groups: Attachment points, Number)\n",
      "\n"
     ]
    },
    {
     "name": "stdout",
     "output_type": "stream",
     "text": [
      " 21:45:24.429679 | chunk_id: 9 | 8000 rows processed \n",
      " 21:45:26.961605 | chunk_id: 3 | 2000 rows processed \n",
      " 21:45:29.204490 | chunk_id: 7 | 9000 rows processed \n",
      " 21:45:36.116131 | chunk_id: 3 | 3000 rows processed \n",
      "\n",
      " ------------------------------------------------------------------------- \n",
      " Results of processing chunk 7 \n",
      " ------------------------------------------------------------------------- \n",
      "                                          Total Read :  10000\n",
      " rows with missing InChiKey in input                 :      0 \n",
      " rows with no MOL object returned from RDKit         :      0      \n",
      " rows with with valid Mol                            :  10000   \n",
      " rows with No fingerprint computed                   :      0       \n",
      " rows with with valid Mol                            :  10000   \n",
      "                                               Total :      0\n",
      " ------------------------------------------------------------------------- \n",
      " 21:45:36.220043 | chunk_id: 7 | Process end   \n",
      " ------------------------------------------------------------------------- \n",
      "\n",
      " 10/17/24-21:45:36 | entering apply_args_and_kwargs() \n",
      "   apply_args_and_kwargs for part 11 \n",
      "   fn:      <class 'function'>    - <function getPharmacophoresFromRDKit at 0x7fc3cb9a7380> \n",
      "   args:    <class 'tuple'>  - 2:  args[0]: 11   args[1]: <class 'pandas.core.frame.DataFrame'> \n",
      "   kwargs:  <class 'dict'>- <class 'dict'>  {'append_pharmacophore': False, 'progress_int': 1000} \n",
      " 10/17/24-21:45:36 | exiting apply_args_and_kwargs() \n",
      " \n",
      " progress_int : 1000\n",
      "\n",
      " ------------------------------------------------------------------------- \n",
      " 21:45:36.427815 | chunk_id: 11 | process started - chunk sz: 6691  append_phar: False\n",
      " ------------------------------------------------------------------------- \n",
      "\n",
      " 21:45:36.436504 | chunk_id: 11 | Metadata_Pharmacophore_Base64 column exists\n",
      " 21:45:36.439627 | chunk_id: 11 | 0 rows processed \n"
     ]
    },
    {
     "name": "stderr",
     "output_type": "stream",
     "text": [
      "[21:45:42] WARNING:  Problems/mismatches: Mobile-H( Hydrogens: Number; Mobile-H groups: One instead of multiple, Attachment points, Number; Charge(s): Do not match)\n",
      "\n"
     ]
    },
    {
     "name": "stdout",
     "output_type": "stream",
     "text": [
      " 21:45:44.067432 | chunk_id: 3 | 4000 rows processed \n",
      " 21:45:47.333962 | chunk_id: 11 | 1000 rows processed \n",
      " 21:45:50.643263 | chunk_id: 3 | 5000 rows processed \n"
     ]
    },
    {
     "name": "stderr",
     "output_type": "stream",
     "text": [
      "[21:45:51] WARNING:  Problems/mismatches: Mobile-H( Mobile-H groups: Attachment points, Number)\n",
      "\n"
     ]
    },
    {
     "name": "stdout",
     "output_type": "stream",
     "text": [
      " 21:45:54.146309 | chunk_id: 11 | 2000 rows processed \n",
      " 21:46:06.436368 | chunk_id: 3 | 6000 rows processed \n",
      " 21:46:13.353958 | chunk_id: 3 | 7000 rows processed \n",
      " 21:46:34.065849 | chunk_id: 10 | 3000 rows processed \n",
      " 21:46:40.725634 | chunk_id: 10 | 4000 rows processed \n",
      " 21:46:46.741229 | chunk_id: 3 | 8000 rows processed \n",
      " 21:46:49.357795 | chunk_id: 10 | 5000 rows processed \n",
      " 21:46:58.019324 | chunk_id: 3 | 9000 rows processed \n",
      "\n",
      " ------------------------------------------------------------------------- \n",
      " Results of processing chunk 3 \n",
      " ------------------------------------------------------------------------- \n",
      "                                          Total Read :  10000\n",
      " rows with missing InChiKey in input                 :      0 \n",
      " rows with no MOL object returned from RDKit         :      0      \n",
      " rows with with valid Mol                            :  10000   \n",
      " rows with No fingerprint computed                   :      0       \n",
      " rows with with valid Mol                            :  10000   \n",
      "                                               Total :      0\n",
      " ------------------------------------------------------------------------- \n",
      " 21:47:33.123176 | chunk_id: 3 | Process end   \n",
      " ------------------------------------------------------------------------- \n",
      "\n",
      " 21:47:47.599622 | chunk_id: 9 | 9000 rows processed \n"
     ]
    },
    {
     "name": "stderr",
     "output_type": "stream",
     "text": [
      "[21:47:48] WARNING:  Problems/mismatches: Mobile-H( Hydrogens: Number; Mobile-H groups: Missing, Attachment points; Charge(s): Do not match; Proton balance: Does not match)\n",
      "\n"
     ]
    },
    {
     "name": "stdout",
     "output_type": "stream",
     "text": [
      "\n",
      " ------------------------------------------------------------------------- \n",
      " Results of processing chunk 9 \n",
      " ------------------------------------------------------------------------- \n",
      "                                          Total Read :  10000\n",
      " rows with missing InChiKey in input                 :      0 \n",
      " rows with no MOL object returned from RDKit         :      0      \n",
      " rows with with valid Mol                            :  10000   \n",
      " rows with No fingerprint computed                   :      0       \n",
      " rows with with valid Mol                            :  10000   \n",
      "                                               Total :      0\n",
      " ------------------------------------------------------------------------- \n",
      " 21:47:53.943458 | chunk_id: 9 | Process end   \n",
      " ------------------------------------------------------------------------- \n",
      "\n",
      " 21:49:26.244241 | chunk_id: 6 | 2000 rows processed \n",
      " 21:49:32.851016 | chunk_id: 6 | 3000 rows processed \n",
      " 21:50:05.756344 | chunk_id: 6 | 4000 rows processed \n",
      " 21:51:12.406724 | chunk_id: 6 | 5000 rows processed \n",
      " 21:51:20.877186 | chunk_id: 6 | 6000 rows processed \n",
      " 21:51:40.867405 | chunk_id: 6 | 7000 rows processed \n",
      " 21:51:47.752585 | chunk_id: 6 | 8000 rows processed \n",
      " 21:52:23.390777 | chunk_id: 6 | 9000 rows processed \n",
      "\n",
      " ------------------------------------------------------------------------- \n",
      " Results of processing chunk 6 \n",
      " ------------------------------------------------------------------------- \n",
      "                                          Total Read :  10000\n",
      " rows with missing InChiKey in input                 :      0 \n",
      " rows with no MOL object returned from RDKit         :      0      \n",
      " rows with with valid Mol                            :  10000   \n",
      " rows with No fingerprint computed                   :      0       \n",
      " rows with with valid Mol                            :  10000   \n",
      "                                               Total :      0\n",
      " ------------------------------------------------------------------------- \n",
      " 21:52:30.689055 | chunk_id: 6 | Process end   \n",
      " ------------------------------------------------------------------------- \n",
      "\n"
     ]
    },
    {
     "name": "stderr",
     "output_type": "stream",
     "text": [
      "[21:54:24] WARNING:  Problems/mismatches: Mobile-H( Mobile-H groups: Attachment points, Number)\n",
      "\n"
     ]
    },
    {
     "name": "stdout",
     "output_type": "stream",
     "text": [
      " 21:54:28.951464 | chunk_id: 10 | 6000 rows processed \n"
     ]
    },
    {
     "name": "stderr",
     "output_type": "stream",
     "text": [
      "[21:54:31] WARNING:  Problems/mismatches: Mobile-H( Hydrogens: Number; Mobile-H groups: One instead of multiple, Number; Charge(s): Do not match; Proton balance: Does not match)\n",
      "\n"
     ]
    },
    {
     "name": "stdout",
     "output_type": "stream",
     "text": [
      " 21:54:35.490607 | chunk_id: 10 | 7000 rows processed \n",
      " 21:54:44.632837 | chunk_id: 10 | 8000 rows processed \n"
     ]
    },
    {
     "name": "stderr",
     "output_type": "stream",
     "text": [
      "[21:54:53] WARNING:  Problems/mismatches: Mobile-H( Mobile-H groups: Attachment points, Number)\n",
      "\n"
     ]
    },
    {
     "name": "stdout",
     "output_type": "stream",
     "text": [
      " 21:54:53.994735 | chunk_id: 10 | 9000 rows processed \n"
     ]
    },
    {
     "name": "stderr",
     "output_type": "stream",
     "text": [
      "[21:55:48] WARNING:  Problems/mismatches: Mobile-H( Hydrogens: Number; Mobile-H groups: One instead of multiple, Attachment points, Number; Charge(s): Do not match)\n",
      "\n"
     ]
    },
    {
     "name": "stdout",
     "output_type": "stream",
     "text": [
      " 21:55:51.909282 | chunk_id: 0 | 6000 rows processed \n",
      " 21:56:40.013607 | chunk_id: 0 | 7000 rows processed \n",
      " 21:56:50.926845 | chunk_id: 0 | 8000 rows processed \n"
     ]
    },
    {
     "name": "stderr",
     "output_type": "stream",
     "text": [
      "[21:56:54] WARNING:  Problems/mismatches: Mobile-H( Mobile-H groups: Attachment points, Number)\n",
      "\n"
     ]
    },
    {
     "name": "stdout",
     "output_type": "stream",
     "text": [
      "\n",
      " ------------------------------------------------------------------------- \n",
      " Results of processing chunk 10 \n",
      " ------------------------------------------------------------------------- \n",
      "                                          Total Read :  10000\n",
      " rows with missing InChiKey in input                 :      0 \n",
      " rows with no MOL object returned from RDKit         :      0      \n",
      " rows with with valid Mol                            :  10000   \n",
      " rows with No fingerprint computed                   :      0       \n",
      " rows with with valid Mol                            :  10000   \n",
      "                                               Total :      0\n",
      " ------------------------------------------------------------------------- \n",
      " 21:56:56.043934 | chunk_id: 10 | Process end   \n",
      " ------------------------------------------------------------------------- \n",
      "\n",
      " 21:56:57.658380 | chunk_id: 0 | 9000 rows processed \n",
      "\n",
      " ------------------------------------------------------------------------- \n",
      " Results of processing chunk 0 \n",
      " ------------------------------------------------------------------------- \n",
      "                                          Total Read :  10000\n",
      " rows with missing InChiKey in input                 :      0 \n",
      " rows with no MOL object returned from RDKit         :      0      \n",
      " rows with with valid Mol                            :  10000   \n",
      " rows with No fingerprint computed                   :      0       \n",
      " rows with with valid Mol                            :  10000   \n",
      "                                               Total :      0\n",
      " ------------------------------------------------------------------------- \n",
      " 21:57:03.798195 | chunk_id: 0 | Process end   \n",
      " ------------------------------------------------------------------------- \n",
      "\n",
      " 21:59:23.552645 | chunk_id: 11 | 3000 rows processed \n",
      " 21:59:30.126421 | chunk_id: 11 | 4000 rows processed \n",
      " 05:29:54.617324 | chunk_id: 11 | 5000 rows processed \n",
      " 05:30:07.829812 | chunk_id: 11 | 6000 rows processed \n",
      "\n",
      " ------------------------------------------------------------------------- \n",
      " Results of processing chunk 11 \n",
      " ------------------------------------------------------------------------- \n",
      "                                          Total Read :   6691\n",
      " rows with missing InChiKey in input                 :      0 \n",
      " rows with no MOL object returned from RDKit         :      0      \n",
      " rows with with valid Mol                            :   6691   \n",
      " rows with No fingerprint computed                   :      0       \n",
      " rows with with valid Mol                            :   6691   \n",
      "                                               Total :      0\n",
      " ------------------------------------------------------------------------- \n",
      " 05:30:12.304730 | chunk_id: 11 | Process end   \n",
      " ------------------------------------------------------------------------- \n",
      "\n",
      " 10/18/24-05:30:12 | my_callback() - ALL RESULTS ARE READY\n",
      " 10/18/24-05:30:12 | my_callback() - ALL RESULTS ARE READY\n",
      " 10/18/24-05:30:12 | my_callback() - ALL RESULTS ARE READY\n",
      " 10/18/24-05:30:12 | starmap_with_kwargs_async() | Results ready. . .  \n",
      " 10/18/24-05:30:12 | All processes complete\n",
      " 10/18/24-05:30:12 | Program finished in 28193.038704 seconds\n",
      "\n",
      " 10/18/24-05:30:12 | starmap_with_kwargs_async() | Ended \n",
      "\n",
      "\n"
     ]
    }
   ],
   "source": [
    "# result = pool.starmap_async(get_pharmacophores, enumerate(df_iterator))\n",
    "\n",
    "results = starmap_with_kwargs_async(fn=call_function, args=args, kwargs = kwargs, processes = processes)\n"
   ]
  },
  {
   "cell_type": "code",
   "execution_count": 22,
   "id": "2d64b3fc",
   "metadata": {
    "ExecuteTime": {
     "end_time": "2023-05-24T15:57:33.793038Z",
     "start_time": "2023-05-24T15:57:33.779048Z"
    },
    "execution": {
     "iopub.execute_input": "2024-10-18T15:41:30.024956Z",
     "iopub.status.busy": "2024-10-18T15:41:30.024470Z",
     "iopub.status.idle": "2024-10-18T15:41:30.182004Z",
     "shell.execute_reply": "2024-10-18T15:41:30.181228Z",
     "shell.execute_reply.started": "2024-10-18T15:41:30.024915Z"
    }
   },
   "outputs": [
    {
     "data": {
      "text/plain": [
       "True"
      ]
     },
     "execution_count": 22,
     "metadata": {},
     "output_type": "execute_result"
    }
   ],
   "source": [
    "results.ready()"
   ]
  },
  {
   "cell_type": "markdown",
   "id": "2b91084a-537a-4b04-9d8c-515f61ba9aed",
   "metadata": {
    "jp-MarkdownHeadingCollapsed": true
   },
   "source": [
    "### Wait for completion of all processes"
   ]
  },
  {
   "cell_type": "code",
   "execution_count": 92,
   "id": "aef5a114",
   "metadata": {
    "ExecuteTime": {
     "end_time": "2023-05-24T19:57:43.252715Z",
     "start_time": "2023-05-24T15:57:41.444299Z"
    },
    "execution": {
     "iopub.execute_input": "2024-10-16T17:44:26.662185Z",
     "iopub.status.busy": "2024-10-16T17:44:26.661708Z",
     "iopub.status.idle": "2024-10-16T23:02:42.411285Z",
     "shell.execute_reply": "2024-10-16T23:02:42.410034Z",
     "shell.execute_reply.started": "2024-10-16T17:44:26.662145Z"
    }
   },
   "outputs": [
    {
     "name": "stdout",
     "output_type": "stream",
     "text": [
      " 19:44:26.703349 | still waiting - - sleep for 60 seconds\n",
      " 19:45:26.703629 | still waiting - - sleep for 60 seconds\n",
      " 19:46:26.703943 | still waiting - - sleep for 60 seconds\n",
      " 19:47:26.704229 | still waiting - - sleep for 60 seconds\n",
      " 19:48:26.704528 | still waiting - - sleep for 60 seconds\n",
      " 19:49:26.704816 | still waiting - - sleep for 60 seconds\n",
      " 19:50:26.705115 | still waiting - - sleep for 60 seconds\n",
      " 19:51:26.705405 | still waiting - - sleep for 60 seconds\n",
      " 19:52:26.705656 | still waiting - - sleep for 60 seconds\n",
      " 19:53:26.705952 | still waiting - - sleep for 60 seconds\n",
      " 19:54:26.706225 | still waiting - - sleep for 60 seconds\n",
      " 19:55:26.706585 | still waiting - - sleep for 60 seconds\n",
      " 19:56:26.706856 | still waiting - - sleep for 60 seconds\n",
      " 19:57:26.707157 | still waiting - - sleep for 60 seconds\n",
      " 19:58:26.707458 | still waiting - - sleep for 60 seconds\n",
      " 19:59:26.707771 | still waiting - - sleep for 60 seconds\n",
      " 20:00:26.708064 | still waiting - - sleep for 60 seconds\n",
      " 20:01:26.708365 | still waiting - - sleep for 60 seconds\n",
      " 20:02:26.708674 | still waiting - - sleep for 60 seconds\n",
      " 20:03:26.708963 | still waiting - - sleep for 60 seconds\n",
      " 20:04:26.709265 | still waiting - - sleep for 60 seconds\n",
      " 20:05:26.709572 | still waiting - - sleep for 60 seconds\n",
      " 20:06:26.709870 | still waiting - - sleep for 60 seconds\n",
      " 20:07:26.710185 | still waiting - - sleep for 60 seconds\n",
      " 20:08:26.710495 | still waiting - - sleep for 60 seconds\n",
      " 20:09:26.710811 | still waiting - - sleep for 60 seconds\n",
      " 20:10:26.711134 | still waiting - - sleep for 60 seconds\n",
      " 20:11:26.711422 | still waiting - - sleep for 60 seconds\n",
      " 20:12:26.711697 | still waiting - - sleep for 60 seconds\n",
      " 20:13:26.711986 | still waiting - - sleep for 60 seconds\n",
      " 20:14:26.712280 | still waiting - - sleep for 60 seconds\n",
      " 20:15:26.712583 | still waiting - - sleep for 60 seconds\n",
      " 20:16:26.712865 | still waiting - - sleep for 60 seconds\n",
      " 20:17:26.713146 | still waiting - - sleep for 60 seconds\n",
      " 20:18:26.713428 | still waiting - - sleep for 60 seconds\n",
      " 20:19:26.713717 | still waiting - - sleep for 60 seconds\n",
      " 20:20:26.714014 | still waiting - - sleep for 60 seconds\n",
      " 20:21:26.714335 | still waiting - - sleep for 60 seconds\n",
      " 20:22:26.714605 | still waiting - - sleep for 60 seconds\n",
      " 20:23:26.714872 | still waiting - - sleep for 60 seconds\n",
      " 20:24:26.715147 | still waiting - - sleep for 60 seconds\n",
      " 20:25:26.715440 | still waiting - - sleep for 60 seconds\n",
      " 20:26:26.715759 | still waiting - - sleep for 60 seconds\n",
      " 20:27:26.716051 | still waiting - - sleep for 60 seconds\n",
      " 20:28:26.716368 | still waiting - - sleep for 60 seconds\n",
      " 20:29:26.716658 | still waiting - - sleep for 60 seconds\n",
      " 20:30:26.716953 | still waiting - - sleep for 60 seconds\n",
      " 20:31:26.717248 | still waiting - - sleep for 60 seconds\n",
      " 20:32:26.717543 | still waiting - - sleep for 60 seconds\n",
      " 20:33:26.717843 | still waiting - - sleep for 60 seconds\n",
      " 20:34:26.718154 | still waiting - - sleep for 60 seconds\n",
      " 20:35:26.718427 | still waiting - - sleep for 60 seconds\n",
      " 20:36:26.718741 | still waiting - - sleep for 60 seconds\n",
      " 20:37:26.719042 | still waiting - - sleep for 60 seconds\n",
      " 20:38:26.719341 | still waiting - - sleep for 60 seconds\n",
      " 20:39:26.719633 | still waiting - - sleep for 60 seconds\n",
      " 20:40:26.719921 | still waiting - - sleep for 60 seconds\n",
      " 20:41:26.720215 | still waiting - - sleep for 60 seconds\n",
      " 20:42:26.720502 | still waiting - - sleep for 60 seconds\n",
      " 20:43:26.720777 | still waiting - - sleep for 60 seconds\n",
      " 20:44:26.721065 | still waiting - - sleep for 60 seconds\n",
      " 20:45:26.721360 | still waiting - - sleep for 60 seconds\n",
      " 20:46:26.721658 | still waiting - - sleep for 60 seconds\n",
      " 20:47:26.721948 | still waiting - - sleep for 60 seconds\n",
      " 20:48:26.722246 | still waiting - - sleep for 60 seconds\n",
      " 20:49:26.722556 | still waiting - - sleep for 60 seconds\n",
      " 20:50:26.722861 | still waiting - - sleep for 60 seconds\n",
      " 20:51:26.723136 | still waiting - - sleep for 60 seconds\n",
      " 20:52:26.723416 | still waiting - - sleep for 60 seconds\n",
      " 20:53:26.723716 | still waiting - - sleep for 60 seconds\n",
      " 20:54:26.724009 | still waiting - - sleep for 60 seconds\n",
      " 20:55:26.724323 | still waiting - - sleep for 60 seconds\n",
      " 20:56:26.724633 | still waiting - - sleep for 60 seconds\n",
      " 20:57:26.724923 | still waiting - - sleep for 60 seconds\n",
      " 20:58:26.725215 | still waiting - - sleep for 60 seconds\n",
      " 20:59:26.725507 | still waiting - - sleep for 60 seconds\n",
      " 21:00:26.725808 | still waiting - - sleep for 60 seconds\n",
      " 21:01:26.726111 | still waiting - - sleep for 60 seconds\n",
      " 21:02:26.726414 | still waiting - - sleep for 60 seconds\n",
      " 21:03:26.726740 | still waiting - - sleep for 60 seconds\n",
      " 21:04:26.727037 | still waiting - - sleep for 60 seconds\n",
      " 21:05:26.727345 | still waiting - - sleep for 60 seconds\n",
      " 21:06:26.727660 | still waiting - - sleep for 60 seconds\n",
      " 21:07:26.727956 | still waiting - - sleep for 60 seconds\n",
      " 21:08:26.728250 | still waiting - - sleep for 60 seconds\n",
      " 21:09:26.728547 | still waiting - - sleep for 60 seconds\n",
      " 21:10:26.728850 | still waiting - - sleep for 60 seconds\n",
      " 21:11:26.729179 | still waiting - - sleep for 60 seconds\n",
      " 21:12:26.729491 | still waiting - - sleep for 60 seconds\n",
      " 21:13:26.729783 | still waiting - - sleep for 60 seconds\n",
      " 21:14:26.730101 | still waiting - - sleep for 60 seconds\n",
      " 21:15:26.730415 | still waiting - - sleep for 60 seconds\n",
      " 21:16:26.730704 | still waiting - - sleep for 60 seconds\n",
      " 21:17:26.730999 | still waiting - - sleep for 60 seconds\n",
      " 21:18:26.731302 | still waiting - - sleep for 60 seconds\n",
      " 21:19:26.731608 | still waiting - - sleep for 60 seconds\n",
      " 21:20:26.731881 | still waiting - - sleep for 60 seconds\n",
      " 21:21:26.732178 | still waiting - - sleep for 60 seconds\n",
      " 21:22:26.732496 | still waiting - - sleep for 60 seconds\n",
      " 21:23:26.732815 | still waiting - - sleep for 60 seconds\n",
      " 21:24:26.733101 | still waiting - - sleep for 60 seconds\n",
      " 21:25:26.733399 | still waiting - - sleep for 60 seconds\n",
      " 21:26:26.733696 | still waiting - - sleep for 60 seconds\n",
      " 21:27:26.733995 | still waiting - - sleep for 60 seconds\n",
      " 21:28:26.734301 | still waiting - - sleep for 60 seconds\n",
      " 21:29:26.734619 | still waiting - - sleep for 60 seconds\n",
      " 21:30:26.734886 | still waiting - - sleep for 60 seconds\n",
      " 21:31:26.735175 | still waiting - - sleep for 60 seconds\n",
      " 21:32:26.735466 | still waiting - - sleep for 60 seconds\n",
      " 21:33:26.735749 | still waiting - - sleep for 60 seconds\n",
      " 21:34:26.736042 | still waiting - - sleep for 60 seconds\n",
      " 21:35:26.736336 | still waiting - - sleep for 60 seconds\n",
      " 21:36:26.736645 | still waiting - - sleep for 60 seconds\n",
      " 21:37:26.736959 | still waiting - - sleep for 60 seconds\n",
      " 21:38:26.737254 | still waiting - - sleep for 60 seconds\n",
      " 21:39:26.737548 | still waiting - - sleep for 60 seconds\n",
      " 21:40:26.737843 | still waiting - - sleep for 60 seconds\n",
      " 21:41:26.738158 | still waiting - - sleep for 60 seconds\n",
      " 21:42:26.738459 | still waiting - - sleep for 60 seconds\n",
      " 21:43:26.738755 | still waiting - - sleep for 60 seconds\n",
      " 21:44:26.739056 | still waiting - - sleep for 60 seconds\n",
      " 21:45:26.739340 | still waiting - - sleep for 60 seconds\n",
      " 21:46:26.739634 | still waiting - - sleep for 60 seconds\n",
      " 21:47:26.739937 | still waiting - - sleep for 60 seconds\n",
      " 21:48:26.740228 | still waiting - - sleep for 60 seconds\n",
      " 21:49:26.740529 | still waiting - - sleep for 60 seconds\n",
      " 21:50:26.740840 | still waiting - - sleep for 60 seconds\n",
      " 21:51:26.741127 | still waiting - - sleep for 60 seconds\n",
      " 21:52:26.741412 | still waiting - - sleep for 60 seconds\n",
      " 21:53:26.741699 | still waiting - - sleep for 60 seconds\n",
      " 21:54:26.741990 | still waiting - - sleep for 60 seconds\n",
      " 21:55:26.742277 | still waiting - - sleep for 60 seconds\n",
      " 21:56:26.742555 | still waiting - - sleep for 60 seconds\n",
      " 21:57:26.742847 | still waiting - - sleep for 60 seconds\n",
      " 21:58:26.743143 | still waiting - - sleep for 60 seconds\n",
      " 21:59:26.743430 | still waiting - - sleep for 60 seconds\n",
      " 22:00:26.743723 | still waiting - - sleep for 60 seconds\n",
      " 22:01:26.743977 | still waiting - - sleep for 60 seconds\n",
      " 22:02:26.744277 | still waiting - - sleep for 60 seconds\n",
      " 22:03:26.744575 | still waiting - - sleep for 60 seconds\n",
      " 22:04:26.744875 | still waiting - - sleep for 60 seconds\n",
      " 22:05:26.745173 | still waiting - - sleep for 60 seconds\n",
      " 22:06:26.745469 | still waiting - - sleep for 60 seconds\n",
      " 22:07:26.745761 | still waiting - - sleep for 60 seconds\n",
      " 22:08:26.746046 | still waiting - - sleep for 60 seconds\n",
      " 22:09:26.746341 | still waiting - - sleep for 60 seconds\n",
      " 22:10:26.746685 | still waiting - - sleep for 60 seconds\n",
      " 22:11:26.746996 | still waiting - - sleep for 60 seconds\n",
      " 22:12:26.747307 | still waiting - - sleep for 60 seconds\n",
      " 22:13:26.747626 | still waiting - - sleep for 60 seconds\n",
      " 22:14:26.747922 | still waiting - - sleep for 60 seconds\n",
      " 22:15:26.748218 | still waiting - - sleep for 60 seconds\n",
      " 22:16:26.748512 | still waiting - - sleep for 60 seconds\n",
      " 22:17:26.748803 | still waiting - - sleep for 60 seconds\n",
      " 22:18:26.749113 | still waiting - - sleep for 60 seconds\n",
      " 22:19:26.749425 | still waiting - - sleep for 60 seconds\n",
      " 22:20:26.749715 | still waiting - - sleep for 60 seconds\n",
      " 22:21:26.750030 | still waiting - - sleep for 60 seconds\n",
      " 22:22:26.750360 | still waiting - - sleep for 60 seconds\n",
      " 22:23:26.750749 | still waiting - - sleep for 60 seconds\n",
      " 22:24:26.751042 | still waiting - - sleep for 60 seconds\n",
      " 22:25:26.751341 | still waiting - - sleep for 60 seconds\n",
      " 22:26:26.751659 | still waiting - - sleep for 60 seconds\n",
      " 22:27:26.751961 | still waiting - - sleep for 60 seconds\n",
      " 22:28:26.752263 | still waiting - - sleep for 60 seconds\n",
      " 22:29:26.752560 | still waiting - - sleep for 60 seconds\n",
      " 22:30:26.752869 | still waiting - - sleep for 60 seconds\n",
      " 22:31:26.753172 | still waiting - - sleep for 60 seconds\n",
      " 22:32:26.753468 | still waiting - - sleep for 60 seconds\n",
      " 22:33:26.753799 | still waiting - - sleep for 60 seconds\n",
      " 22:34:26.754131 | still waiting - - sleep for 60 seconds\n",
      " 22:35:26.754456 | still waiting - - sleep for 60 seconds\n",
      " 22:36:26.754791 | still waiting - - sleep for 60 seconds\n",
      " 22:37:26.755080 | still waiting - - sleep for 60 seconds\n",
      " 22:38:26.755367 | still waiting - - sleep for 60 seconds\n",
      " 22:39:26.755656 | still waiting - - sleep for 60 seconds\n",
      " 22:40:26.755952 | still waiting - - sleep for 60 seconds\n",
      " 22:41:26.756244 | still waiting - - sleep for 60 seconds\n",
      " 22:42:26.756543 | still waiting - - sleep for 60 seconds\n",
      " 22:43:26.756837 | still waiting - - sleep for 60 seconds\n",
      " 22:44:26.757139 | still waiting - - sleep for 60 seconds\n",
      " 22:45:26.757456 | still waiting - - sleep for 60 seconds\n",
      " 22:46:26.757757 | still waiting - - sleep for 60 seconds\n",
      " 22:47:26.758054 | still waiting - - sleep for 60 seconds\n",
      " 22:48:26.758346 | still waiting - - sleep for 60 seconds\n",
      " 22:49:26.758668 | still waiting - - sleep for 60 seconds\n",
      " 22:50:26.758963 | still waiting - - sleep for 60 seconds\n",
      " 22:51:26.759246 | still waiting - - sleep for 60 seconds\n",
      " 22:52:26.759521 | still waiting - - sleep for 60 seconds\n",
      " 22:53:26.759805 | still waiting - - sleep for 60 seconds\n",
      " 22:54:26.760092 | still waiting - - sleep for 60 seconds\n",
      " 22:55:26.760385 | still waiting - - sleep for 60 seconds\n",
      " 22:56:26.760698 | still waiting - - sleep for 60 seconds\n",
      " 22:57:26.761009 | still waiting - - sleep for 60 seconds\n",
      " 22:58:26.761302 | still waiting - - sleep for 60 seconds\n",
      " 22:59:26.761585 | still waiting - - sleep for 60 seconds\n",
      " 23:00:26.761858 | still waiting - - sleep for 60 seconds\n",
      " 23:01:26.762166 | still waiting - - sleep for 60 seconds\n",
      " 23:02:26.762458 | still waiting - - sleep for 60 seconds\n",
      " 23:03:26.762791 | still waiting - - sleep for 60 seconds\n",
      " 23:04:26.763092 | still waiting - - sleep for 60 seconds\n",
      " 23:05:26.763392 | still waiting - - sleep for 60 seconds\n",
      " 23:06:26.763699 | still waiting - - sleep for 60 seconds\n",
      " 23:07:26.764006 | still waiting - - sleep for 60 seconds\n",
      " 23:08:26.764309 | still waiting - - sleep for 60 seconds\n",
      " 23:09:26.764604 | still waiting - - sleep for 60 seconds\n",
      " 23:10:26.764905 | still waiting - - sleep for 60 seconds\n",
      " 23:11:26.765202 | still waiting - - sleep for 60 seconds\n",
      " 23:12:26.765496 | still waiting - - sleep for 60 seconds\n",
      " 23:13:26.765770 | still waiting - - sleep for 60 seconds\n",
      " 23:14:26.766021 | still waiting - - sleep for 60 seconds\n",
      " 23:15:26.766326 | still waiting - - sleep for 60 seconds\n",
      " 23:16:26.766710 | still waiting - - sleep for 60 seconds\n",
      " 23:17:26.767008 | still waiting - - sleep for 60 seconds\n",
      " 23:18:26.767300 | still waiting - - sleep for 60 seconds\n",
      " 23:19:26.767592 | still waiting - - sleep for 60 seconds\n",
      " 23:20:26.767888 | still waiting - - sleep for 60 seconds\n",
      " 23:21:26.768185 | still waiting - - sleep for 60 seconds\n",
      " 23:22:26.768483 | still waiting - - sleep for 60 seconds\n",
      " 23:23:26.768773 | still waiting - - sleep for 60 seconds\n",
      " 23:24:26.769059 | still waiting - - sleep for 60 seconds\n",
      " 23:25:26.769353 | still waiting - - sleep for 60 seconds\n",
      " 23:26:26.769668 | still waiting - - sleep for 60 seconds\n",
      " 23:27:26.769974 | still waiting - - sleep for 60 seconds\n",
      " 23:28:26.770262 | still waiting - - sleep for 60 seconds\n",
      " 23:29:26.770548 | still waiting - - sleep for 60 seconds\n",
      " 23:30:26.770860 | still waiting - - sleep for 60 seconds\n",
      " 23:31:26.771138 | still waiting - - sleep for 60 seconds\n",
      " 23:32:26.771428 | still waiting - - sleep for 60 seconds\n",
      " 23:33:26.771727 | still waiting - - sleep for 60 seconds\n",
      " 23:34:26.772017 | still waiting - - sleep for 60 seconds\n",
      " 23:35:26.772303 | still waiting - - sleep for 60 seconds\n",
      " 23:36:26.772591 | still waiting - - sleep for 60 seconds\n",
      " 23:37:26.772883 | still waiting - - sleep for 60 seconds\n",
      " 23:38:26.773174 | still waiting - - sleep for 60 seconds\n",
      " 23:39:26.773467 | still waiting - - sleep for 60 seconds\n",
      " 23:40:26.773759 | still waiting - - sleep for 60 seconds\n",
      " 23:41:26.774033 | still waiting - - sleep for 60 seconds\n",
      " 23:42:26.774314 | still waiting - - sleep for 60 seconds\n",
      " 23:43:26.774610 | still waiting - - sleep for 60 seconds\n",
      " 23:44:26.774927 | still waiting - - sleep for 60 seconds\n",
      " 23:45:26.775216 | still waiting - - sleep for 60 seconds\n",
      " 23:46:26.775513 | still waiting - - sleep for 60 seconds\n",
      " 23:47:26.775818 | still waiting - - sleep for 60 seconds\n",
      " 23:48:26.776113 | still waiting - - sleep for 60 seconds\n",
      " 23:49:26.776417 | still waiting - - sleep for 60 seconds\n",
      " 23:50:26.776710 | still waiting - - sleep for 60 seconds\n",
      " 23:51:26.777019 | still waiting - - sleep for 60 seconds\n",
      " 23:52:26.777314 | still waiting - - sleep for 60 seconds\n",
      " 23:53:26.777603 | still waiting - - sleep for 60 seconds\n",
      " 23:54:26.777901 | still waiting - - sleep for 60 seconds\n",
      " 23:55:26.778223 | still waiting - - sleep for 60 seconds\n",
      " 23:56:26.778478 | still waiting - - sleep for 60 seconds\n",
      " 23:57:26.778822 | still waiting - - sleep for 60 seconds\n",
      " 23:58:26.779103 | still waiting - - sleep for 60 seconds\n",
      " 23:59:26.779394 | still waiting - - sleep for 60 seconds\n",
      " 00:00:26.779683 | still waiting - - sleep for 60 seconds\n",
      " 00:01:26.779991 | still waiting - - sleep for 60 seconds\n",
      " 00:02:26.780276 | still waiting - - sleep for 60 seconds\n",
      " 00:03:26.780586 | still waiting - - sleep for 60 seconds\n",
      " 00:04:26.780876 | still waiting - - sleep for 60 seconds\n",
      " 00:05:26.781170 | still waiting - - sleep for 60 seconds\n",
      " 00:06:26.781474 | still waiting - - sleep for 60 seconds\n",
      " 00:07:26.781779 | still waiting - - sleep for 60 seconds\n",
      " 00:08:26.782069 | still waiting - - sleep for 60 seconds\n",
      " 00:09:26.782356 | still waiting - - sleep for 60 seconds\n",
      " 00:10:26.782586 | still waiting - - sleep for 60 seconds\n",
      " 00:11:26.782839 | still waiting - - sleep for 60 seconds\n",
      " 00:12:26.783159 | still waiting - - sleep for 60 seconds\n",
      " 00:13:26.783450 | still waiting - - sleep for 60 seconds\n",
      " 00:14:26.783720 | still waiting - - sleep for 60 seconds\n",
      " 00:15:26.784005 | still waiting - - sleep for 60 seconds\n",
      " 00:16:26.784290 | still waiting - - sleep for 60 seconds\n",
      " 00:17:26.784577 | still waiting - - sleep for 60 seconds\n",
      " 00:18:26.784862 | still waiting - - sleep for 60 seconds\n",
      " 00:19:26.785154 | still waiting - - sleep for 60 seconds\n",
      " 00:20:26.785450 | still waiting - - sleep for 60 seconds\n",
      " 00:21:26.785737 | still waiting - - sleep for 60 seconds\n",
      " 00:22:26.786040 | still waiting - - sleep for 60 seconds\n",
      " 00:23:26.786339 | still waiting - - sleep for 60 seconds\n",
      " 00:24:26.786687 | still waiting - - sleep for 60 seconds\n",
      " 00:25:26.786981 | still waiting - - sleep for 60 seconds\n",
      " 00:26:26.787271 | still waiting - - sleep for 60 seconds\n",
      " 00:27:26.787560 | still waiting - - sleep for 60 seconds\n",
      " 00:28:26.787852 | still waiting - - sleep for 60 seconds\n",
      " 00:29:26.788150 | still waiting - - sleep for 60 seconds\n",
      " 00:30:26.788506 | still waiting - - sleep for 60 seconds\n",
      " 00:31:26.788821 | still waiting - - sleep for 60 seconds\n",
      " 00:32:26.789163 | still waiting - - sleep for 60 seconds\n",
      " 00:33:26.789469 | still waiting - - sleep for 60 seconds\n",
      " 00:34:26.789752 | still waiting - - sleep for 60 seconds\n",
      " 00:35:26.790047 | still waiting - - sleep for 60 seconds\n",
      " 00:36:26.790337 | still waiting - - sleep for 60 seconds\n",
      " 00:37:26.790593 | still waiting - - sleep for 60 seconds\n",
      " 00:38:26.790854 | still waiting - - sleep for 60 seconds\n",
      " 00:39:26.791145 | still waiting - - sleep for 60 seconds\n",
      " 00:40:26.791434 | still waiting - - sleep for 60 seconds\n",
      " 00:41:26.791740 | still waiting - - sleep for 60 seconds\n",
      " 00:42:26.792041 | still waiting - - sleep for 60 seconds\n",
      " 00:43:26.792342 | still waiting - - sleep for 60 seconds\n",
      " 00:44:26.792658 | still waiting - - sleep for 60 seconds\n",
      " 00:45:26.792962 | still waiting - - sleep for 60 seconds\n",
      " 00:46:26.793244 | still waiting - - sleep for 60 seconds\n",
      " 00:47:26.793535 | still waiting - - sleep for 60 seconds\n",
      " 00:48:26.793820 | still waiting - - sleep for 60 seconds\n",
      " 00:49:26.794110 | still waiting - - sleep for 60 seconds\n",
      " 00:50:26.794404 | still waiting - - sleep for 60 seconds\n",
      " 00:51:26.794724 | still waiting - - sleep for 60 seconds\n",
      " 00:52:26.795038 | still waiting - - sleep for 60 seconds\n",
      " 00:53:26.795314 | still waiting - - sleep for 60 seconds\n",
      " 00:54:26.795607 | still waiting - - sleep for 60 seconds\n",
      " 00:55:26.795909 | still waiting - - sleep for 60 seconds\n",
      " 00:56:26.796200 | still waiting - - sleep for 60 seconds\n",
      " 00:57:26.796492 | still waiting - - sleep for 60 seconds\n",
      " 00:58:26.796774 | still waiting - - sleep for 60 seconds\n",
      " 00:59:26.797071 | still waiting - - sleep for 60 seconds\n",
      " 01:00:26.797362 | still waiting - - sleep for 60 seconds\n",
      " 01:01:26.797650 | still waiting - - sleep for 60 seconds\n",
      " 01:02:26.797940 | still waiting - - sleep for 60 seconds\n"
     ]
    },
    {
     "ename": "KeyboardInterrupt",
     "evalue": "",
     "output_type": "error",
     "traceback": [
      "\u001b[0;31m---------------------------------------------------------------------------\u001b[0m",
      "\u001b[0;31mKeyboardInterrupt\u001b[0m                         Traceback (most recent call last)",
      "Cell \u001b[0;32mIn[92], line 5\u001b[0m\n\u001b[1;32m      3\u001b[0m \u001b[38;5;28;01mwhile\u001b[39;00m \u001b[38;5;129;01mnot\u001b[39;00m results\u001b[38;5;241m.\u001b[39mready():\n\u001b[1;32m      4\u001b[0m     \u001b[38;5;28mprint\u001b[39m(\u001b[38;5;124mf\u001b[39m\u001b[38;5;124m\"\u001b[39m\u001b[38;5;124m \u001b[39m\u001b[38;5;132;01m{\u001b[39;00mdatetime\u001b[38;5;241m.\u001b[39mnow()\u001b[38;5;241m.\u001b[39mstrftime(\u001b[38;5;124m'\u001b[39m\u001b[38;5;132;01m%X\u001b[39;00m\u001b[38;5;124m.\u001b[39m\u001b[38;5;132;01m%f\u001b[39;00m\u001b[38;5;124m'\u001b[39m)\u001b[38;5;132;01m}\u001b[39;00m\u001b[38;5;124m | still waiting - - sleep for \u001b[39m\u001b[38;5;132;01m{\u001b[39;00msleep_interval\u001b[38;5;132;01m}\u001b[39;00m\u001b[38;5;124m seconds\u001b[39m\u001b[38;5;124m\"\u001b[39m)\n\u001b[0;32m----> 5\u001b[0m     \u001b[43mtime\u001b[49m\u001b[38;5;241;43m.\u001b[39;49m\u001b[43msleep\u001b[49m\u001b[43m(\u001b[49m\u001b[43msleep_interval\u001b[49m\u001b[43m)\u001b[49m\n\u001b[1;32m      6\u001b[0m \u001b[38;5;28;01melse\u001b[39;00m:\n\u001b[1;32m      7\u001b[0m     results \u001b[38;5;241m=\u001b[39m results\u001b[38;5;241m.\u001b[39mget()\n",
      "\u001b[0;31mKeyboardInterrupt\u001b[0m: "
     ]
    }
   ],
   "source": [
    "#     results.wait()\n",
    "sleep_interval = 60\n",
    "while not results.ready():\n",
    "    print(f\" {datetime.now().strftime('%X.%f')} | still waiting - - sleep for {sleep_interval} seconds\")\n",
    "    time.sleep(sleep_interval)\n",
    "else:\n",
    "    results = results.get()\n",
    "    finish_time = time.perf_counter()\n",
    "    print(f\" {datetime.now().strftime('%X.%f')} | starmap_with_kwargs_async() | Results ready. . .  \")\n",
    "    print(f\" {datetime.now().strftime('%X.%f')} | All processes complete\")\n",
    "    print(f\" {datetime.now().strftime('%X.%f')} | Program finished in {finish_time-start_time:5f} seconds\")\n",
    "\n",
    "print(f\" {datetime.now().strftime('%X.%f')} | Process Ended \")"
   ]
  },
  {
   "cell_type": "markdown",
   "id": "1aa51161",
   "metadata": {},
   "source": [
    "### check results "
   ]
  },
  {
   "cell_type": "code",
   "execution_count": 47,
   "id": "c575ce62-1c8b-4b29-be91-55a87136c243",
   "metadata": {
    "ExecuteTime": {
     "end_time": "2023-05-25T06:14:57.618576Z",
     "start_time": "2023-05-25T06:14:57.601669Z"
    },
    "execution": {
     "iopub.execute_input": "2024-10-18T15:50:03.272732Z",
     "iopub.status.busy": "2024-10-18T15:50:03.272268Z",
     "iopub.status.idle": "2024-10-18T15:50:03.318874Z",
     "shell.execute_reply": "2024-10-18T15:50:03.317994Z",
     "shell.execute_reply.started": "2024-10-18T15:50:03.272693Z"
    }
   },
   "outputs": [
    {
     "data": {
      "text/plain": [
       "multiprocessing.pool.MapResult"
      ]
     },
     "execution_count": 47,
     "metadata": {},
     "output_type": "execute_result"
    },
    {
     "data": {
      "text/plain": [
       "list"
      ]
     },
     "execution_count": 47,
     "metadata": {},
     "output_type": "execute_result"
    }
   ],
   "source": [
    "type(results)\n",
    "results = results.get()\n",
    "type(results)"
   ]
  },
  {
   "cell_type": "code",
   "execution_count": 48,
   "id": "97366fb2-fc35-4555-a2f5-09711c93407e",
   "metadata": {
    "ExecuteTime": {
     "end_time": "2023-05-25T06:14:57.618576Z",
     "start_time": "2023-05-25T06:14:57.601669Z"
    },
    "execution": {
     "iopub.execute_input": "2024-10-18T15:50:09.485982Z",
     "iopub.status.busy": "2024-10-18T15:50:09.485512Z",
     "iopub.status.idle": "2024-10-18T15:50:09.526711Z",
     "shell.execute_reply": "2024-10-18T15:50:09.526172Z",
     "shell.execute_reply.started": "2024-10-18T15:50:09.485943Z"
    }
   },
   "outputs": [
    {
     "data": {
      "text/plain": [
       "(12, 3)"
      ]
     },
     "execution_count": 48,
     "metadata": {},
     "output_type": "execute_result"
    }
   ],
   "source": [
    "len(results), len(results[0])"
   ]
  },
  {
   "cell_type": "code",
   "execution_count": 49,
   "id": "8d566303-1e6b-4451-8b8c-ff7a84d2532e",
   "metadata": {
    "ExecuteTime": {
     "end_time": "2023-05-25T06:16:47.242926Z",
     "start_time": "2023-05-25T06:16:47.217131Z"
    },
    "execution": {
     "iopub.execute_input": "2024-10-18T15:50:22.313937Z",
     "iopub.status.busy": "2024-10-18T15:50:22.313464Z",
     "iopub.status.idle": "2024-10-18T15:50:22.359006Z",
     "shell.execute_reply": "2024-10-18T15:50:22.358215Z",
     "shell.execute_reply.started": "2024-10-18T15:50:22.313897Z"
    },
    "scrolled": true
   },
   "outputs": [
    {
     "name": "stdout",
     "output_type": "stream",
     "text": [
      "     Metadata_JCP2022                                   pharmacophore_fp\n",
      "0      JCP2022_000001  [0, 1, 1, 1, 1, 1, 1, 1, 1, 1, 0, 0, 1, 1, 0, ...\n",
      "1      JCP2022_000002  [0, 0, 0, 1, 1, 0, 0, 1, 0, 1, 0, 0, 0, 0, 0, ...\n",
      "2      JCP2022_000003  [0, 1, 1, 1, 0, 1, 1, 1, 1, 1, 0, 0, 0, 0, 0, ...\n",
      "3      JCP2022_000004  [1, 1, 1, 0, 0, 1, 0, 1, 0, 0, 0, 0, 0, 1, 0, ...\n",
      "4      JCP2022_000005  [1, 1, 1, 1, 0, 1, 1, 1, 1, 1, 0, 0, 0, 0, 0, ...\n",
      "...               ...                                                ...\n",
      "9995   JCP2022_010000  [0, 0, 0, 0, 0, 0, 0, 0, 0, 0, 0, 0, 0, 0, 0, ...\n",
      "9996   JCP2022_010001  [1, 1, 1, 1, 1, 1, 1, 1, 0, 1, 0, 0, 0, 1, 0, ...\n",
      "9997   JCP2022_010002  [1, 1, 1, 1, 0, 1, 1, 1, 1, 1, 0, 0, 0, 1, 0, ...\n",
      "9998   JCP2022_010003  [0, 1, 1, 1, 1, 1, 1, 1, 1, 1, 0, 0, 0, 1, 0, ...\n",
      "9999   JCP2022_010004  [0, 1, 1, 1, 1, 1, 1, 1, 1, 1, 0, 0, 0, 0, 0, ...\n",
      "\n",
      "[10000 rows x 2 columns]\n"
     ]
    }
   ],
   "source": [
    "# print(results[0][0])\n",
    "# print(results[0][1])\n",
    "print(results[0][2])"
   ]
  },
  {
   "cell_type": "code",
   "execution_count": 50,
   "id": "993dcce3-f8e6-42df-aff4-0f485f52d26c",
   "metadata": {
    "ExecuteTime": {
     "end_time": "2023-05-25T06:16:47.242926Z",
     "start_time": "2023-05-25T06:16:47.217131Z"
    },
    "execution": {
     "iopub.execute_input": "2024-10-18T15:50:31.202175Z",
     "iopub.status.busy": "2024-10-18T15:50:31.201706Z",
     "iopub.status.idle": "2024-10-18T15:50:31.246740Z",
     "shell.execute_reply": "2024-10-18T15:50:31.246030Z",
     "shell.execute_reply.started": "2024-10-18T15:50:31.202134Z"
    },
    "scrolled": true
   },
   "outputs": [
    {
     "name": "stdout",
     "output_type": "stream",
     "text": [
      "     Metadata_JCP2022                                   pharmacophore_fp\n",
      "0      JCP2022_010005  [1, 1, 0, 1, 1, 1, 1, 1, 0, 1, 0, 0, 0, 0, 0, ...\n",
      "1      JCP2022_010006  [0, 1, 1, 1, 0, 1, 1, 1, 1, 1, 0, 0, 0, 0, 0, ...\n",
      "2      JCP2022_010007  [1, 1, 1, 1, 1, 1, 1, 1, 1, 1, 0, 0, 0, 0, 0, ...\n",
      "3      JCP2022_010008  [1, 1, 1, 1, 1, 1, 1, 1, 1, 1, 0, 1, 0, 1, 0, ...\n",
      "4      JCP2022_010009  [0, 1, 1, 1, 1, 1, 1, 1, 1, 1, 0, 0, 0, 0, 0, ...\n",
      "...               ...                                                ...\n",
      "9995   JCP2022_020005  [0, 1, 1, 1, 0, 1, 1, 1, 1, 1, 0, 0, 0, 1, 0, ...\n",
      "9996   JCP2022_020006  [1, 1, 1, 1, 0, 0, 1, 1, 1, 1, 0, 0, 0, 0, 0, ...\n",
      "9997   JCP2022_020007  [1, 1, 1, 1, 0, 0, 1, 1, 1, 1, 0, 0, 0, 0, 0, ...\n",
      "9998   JCP2022_020008  [1, 1, 1, 1, 0, 1, 1, 1, 0, 0, 0, 0, 0, 0, 0, ...\n",
      "9999   JCP2022_020009  [1, 1, 1, 1, 0, 0, 1, 1, 1, 1, 0, 0, 0, 0, 0, ...\n",
      "\n",
      "[10000 rows x 2 columns]\n"
     ]
    }
   ],
   "source": [
    "# print(results[1][1])\n",
    "print(results[1][2])"
   ]
  },
  {
   "cell_type": "markdown",
   "id": "cd45e1a7",
   "metadata": {
    "jp-MarkdownHeadingCollapsed": true
   },
   "source": [
    "# Write Metadata file with appended phramcophore)\n",
    "  ### combine metadata files from all processes and write output \n",
    "\n",
    "- write file (updated with Pharmacophores) to CSV `./output/cp_compound_metadata_clean.csv`"
   ]
  },
  {
   "cell_type": "code",
   "execution_count": 51,
   "id": "a93d3e3f",
   "metadata": {
    "ExecuteTime": {
     "end_time": "2023-05-25T10:06:34.245746Z",
     "start_time": "2023-05-25T10:06:34.233133Z"
    },
    "execution": {
     "iopub.execute_input": "2024-10-18T15:50:33.494990Z",
     "iopub.status.busy": "2024-10-18T15:50:33.494361Z",
     "iopub.status.idle": "2024-10-18T15:50:33.534443Z",
     "shell.execute_reply": "2024-10-18T15:50:33.533908Z",
     "shell.execute_reply.started": "2024-10-18T15:50:33.494947Z"
    },
    "scrolled": true
   },
   "outputs": [
    {
     "name": "stdout",
     "output_type": "stream",
     "text": [
      " compound Metadata + Base64 Pharmacophores   :  ./output_10162024/compound_metadata_pcfp.csv\n",
      " compound Pharmacophore File                 :  ./output_10162024/compound_pharmacophores_sparse.pkl\n"
     ]
    }
   ],
   "source": [
    "print(f\" compound Metadata + Base64 Pharmacophores   :  {ds.compoundMetadataPharmacophoreFile}\")\n",
    "print(f\" compound Pharmacophore File                 :  {ds.compoundPharmacophoreFile}\")"
   ]
  },
  {
   "cell_type": "code",
   "execution_count": null,
   "id": "572db9d2",
   "metadata": {},
   "outputs": [],
   "source": [
    "# for i, res in enumerate(results):\n",
    "#     chunk_id, df_chunk ,df_fingerprints = res\n",
    "#     mode = 'w' if chunk_id == 0 else 'a'\n",
    "#     header = chunk_id == 0\n",
    "#     print(f\" {datetime.now().strftime('%X.%f')} | chunk_id: {chunk_id} | write to compoundDataOutputFile     | mode : {mode}  header: {header}\")\n",
    "#     df_chunk.to_csv(ds.compoundMetadataPharmacophoreFile,\n",
    "#                     index=False,\n",
    "#                     header=header, mode=mode) # Skip index column\n",
    "#     df_fingerprints.to_csv(ds.compoundPharmacophoreFile,\n",
    "#                     index=False,\n",
    "#                     header=header, mode=mode) # Skip index column"
   ]
  },
  {
   "cell_type": "code",
   "execution_count": 52,
   "id": "fbbf1174",
   "metadata": {
    "ExecuteTime": {
     "end_time": "2023-05-25T06:15:21.212219Z",
     "start_time": "2023-05-25T06:15:21.169228Z"
    },
    "execution": {
     "iopub.execute_input": "2024-10-18T15:53:26.343316Z",
     "iopub.status.busy": "2024-10-18T15:53:26.342846Z",
     "iopub.status.idle": "2024-10-18T15:53:26.422784Z",
     "shell.execute_reply": "2024-10-18T15:53:26.422166Z",
     "shell.execute_reply.started": "2024-10-18T15:53:26.343276Z"
    }
   },
   "outputs": [],
   "source": [
    "df_metadata_all = pd.concat([i[1] for i in results ], axis = 0, ignore_index=True )"
   ]
  },
  {
   "cell_type": "code",
   "execution_count": 54,
   "id": "12f77f00",
   "metadata": {
    "ExecuteTime": {
     "end_time": "2023-05-25T06:21:53.660299Z",
     "start_time": "2023-05-25T06:21:53.606053Z"
    },
    "execution": {
     "iopub.execute_input": "2024-10-18T15:54:03.195136Z",
     "iopub.status.busy": "2024-10-18T15:54:03.194665Z",
     "iopub.status.idle": "2024-10-18T15:54:03.302657Z",
     "shell.execute_reply": "2024-10-18T15:54:03.301668Z",
     "shell.execute_reply.started": "2024-10-18T15:54:03.195095Z"
    }
   },
   "outputs": [
    {
     "name": "stdout",
     "output_type": "stream",
     "text": [
      "<class 'pandas.core.frame.DataFrame'>\n",
      "RangeIndex: 116691 entries, 0 to 116690\n",
      "Data columns (total 10 columns):\n",
      " #   Column               Non-Null Count   Dtype  \n",
      "---  ------               --------------   -----  \n",
      " 0   Metadata_JCP2022     116691 non-null  object \n",
      " 1   Metadata_Hash        116691 non-null  int64  \n",
      " 2   Metadata_Bin         116691 non-null  int64  \n",
      " 3   Metadata_InChIKey    116691 non-null  object \n",
      " 4   Metadata_InChI       116691 non-null  object \n",
      " 5   Metadata_Smiles      116691 non-null  object \n",
      " 6   Metadata_TPSA        116691 non-null  float64\n",
      " 7   Metadata_lnTPSA      116691 non-null  float64\n",
      " 8   Metadata_logTPSA     116691 non-null  float64\n",
      " 9   Metadata_Permiation  116691 non-null  int64  \n",
      "dtypes: float64(3), int64(3), object(4)\n",
      "memory usage: 8.9+ MB\n"
     ]
    },
    {
     "data": {
      "text/html": [
       "<div>\n",
       "<style scoped>\n",
       "    .dataframe tbody tr th:only-of-type {\n",
       "        vertical-align: middle;\n",
       "    }\n",
       "\n",
       "    .dataframe tbody tr th {\n",
       "        vertical-align: top;\n",
       "    }\n",
       "\n",
       "    .dataframe thead th {\n",
       "        text-align: right;\n",
       "    }\n",
       "</style>\n",
       "<table border=\"1\" class=\"dataframe\">\n",
       "  <thead>\n",
       "    <tr style=\"text-align: right;\">\n",
       "      <th></th>\n",
       "      <th>Metadata_JCP2022</th>\n",
       "      <th>Metadata_Hash</th>\n",
       "      <th>Metadata_Bin</th>\n",
       "      <th>Metadata_InChIKey</th>\n",
       "      <th>Metadata_InChI</th>\n",
       "      <th>Metadata_Smiles</th>\n",
       "      <th>Metadata_TPSA</th>\n",
       "      <th>Metadata_lnTPSA</th>\n",
       "      <th>Metadata_logTPSA</th>\n",
       "      <th>Metadata_Permiation</th>\n",
       "    </tr>\n",
       "  </thead>\n",
       "  <tbody>\n",
       "    <tr>\n",
       "      <th>0</th>\n",
       "      <td>JCP2022_000001</td>\n",
       "      <td>-8640665944756343816</td>\n",
       "      <td>4</td>\n",
       "      <td>AAAHWCWPZPSPIW-UHFFFAOYSA-N</td>\n",
       "      <td>InChI=1S/C25H31N5O2/c1-4-23-26-14-16-30(23)24-...</td>\n",
       "      <td>CCC1=NC=CN1c2cccc(n2)C3CCCN3C(=O)c4ccc(cc4)OCC...</td>\n",
       "      <td>63.49</td>\n",
       "      <td>4.150882</td>\n",
       "      <td>1.802705</td>\n",
       "      <td>0</td>\n",
       "    </tr>\n",
       "    <tr>\n",
       "      <th>1</th>\n",
       "      <td>JCP2022_000002</td>\n",
       "      <td>-2058530355611931119</td>\n",
       "      <td>1</td>\n",
       "      <td>AAAJHRMBUHXWLD-UHFFFAOYSA-N</td>\n",
       "      <td>InChI=1S/C11H13ClN2O/c12-10-4-2-9(3-5-10)8-14-...</td>\n",
       "      <td>OC1=NCCCN1Cc2ccc(Cl)cc2</td>\n",
       "      <td>35.83</td>\n",
       "      <td>3.578786</td>\n",
       "      <td>1.554247</td>\n",
       "      <td>0</td>\n",
       "    </tr>\n",
       "    <tr>\n",
       "      <th>2</th>\n",
       "      <td>JCP2022_000003</td>\n",
       "      <td>8228137599824226564</td>\n",
       "      <td>0</td>\n",
       "      <td>AAALVYBICLMAMA-UHFFFAOYSA-N</td>\n",
       "      <td>InChI=1S/C20H15N3O2/c24-19-15-11-17(21-13-7-3-...</td>\n",
       "      <td>OC2=NC(=O)c3cc(Nc1ccccc1)c(cc23)Nc4ccccc4</td>\n",
       "      <td>73.72</td>\n",
       "      <td>4.300274</td>\n",
       "      <td>1.867585</td>\n",
       "      <td>0</td>\n",
       "    </tr>\n",
       "    <tr>\n",
       "      <th>3</th>\n",
       "      <td>JCP2022_000004</td>\n",
       "      <td>2222818783381135156</td>\n",
       "      <td>4</td>\n",
       "      <td>AAANUZMCJQUYNX-UHFFFAOYSA-N</td>\n",
       "      <td>InChI=1S/C13H22N4O2S/c1-2-7-16-13(5-6-15-16)20...</td>\n",
       "      <td>CCCN1N=CC=C1S(=O)(=O)N2CC3CNCC2CC3</td>\n",
       "      <td>67.23</td>\n",
       "      <td>4.208120</td>\n",
       "      <td>1.827563</td>\n",
       "      <td>0</td>\n",
       "    </tr>\n",
       "    <tr>\n",
       "      <th>4</th>\n",
       "      <td>JCP2022_000005</td>\n",
       "      <td>-5338746385487734035</td>\n",
       "      <td>9</td>\n",
       "      <td>AAAQFGUYHFJNHI-UHFFFAOYSA-N</td>\n",
       "      <td>InChI=1S/C22H22ClN5O2/c1-4-24-20(29)12-18-22-2...</td>\n",
       "      <td>CCN=C(O)CC3N=C(c1ccc(Cl)cc1)c2cc(ccc2N4C(C)=NN...</td>\n",
       "      <td>84.89</td>\n",
       "      <td>4.441356</td>\n",
       "      <td>1.928857</td>\n",
       "      <td>0</td>\n",
       "    </tr>\n",
       "  </tbody>\n",
       "</table>\n",
       "</div>"
      ],
      "text/plain": [
       "  Metadata_JCP2022        Metadata_Hash  Metadata_Bin            Metadata_InChIKey                                     Metadata_InChI  \\\n",
       "0   JCP2022_000001 -8640665944756343816             4  AAAHWCWPZPSPIW-UHFFFAOYSA-N  InChI=1S/C25H31N5O2/c1-4-23-26-14-16-30(23)24-...   \n",
       "1   JCP2022_000002 -2058530355611931119             1  AAAJHRMBUHXWLD-UHFFFAOYSA-N  InChI=1S/C11H13ClN2O/c12-10-4-2-9(3-5-10)8-14-...   \n",
       "2   JCP2022_000003  8228137599824226564             0  AAALVYBICLMAMA-UHFFFAOYSA-N  InChI=1S/C20H15N3O2/c24-19-15-11-17(21-13-7-3-...   \n",
       "3   JCP2022_000004  2222818783381135156             4  AAANUZMCJQUYNX-UHFFFAOYSA-N  InChI=1S/C13H22N4O2S/c1-2-7-16-13(5-6-15-16)20...   \n",
       "4   JCP2022_000005 -5338746385487734035             9  AAAQFGUYHFJNHI-UHFFFAOYSA-N  InChI=1S/C22H22ClN5O2/c1-4-24-20(29)12-18-22-2...   \n",
       "\n",
       "                                     Metadata_Smiles  Metadata_TPSA  Metadata_lnTPSA  Metadata_logTPSA  Metadata_Permiation  \n",
       "0  CCC1=NC=CN1c2cccc(n2)C3CCCN3C(=O)c4ccc(cc4)OCC...          63.49         4.150882          1.802705                    0  \n",
       "1                            OC1=NCCCN1Cc2ccc(Cl)cc2          35.83         3.578786          1.554247                    0  \n",
       "2          OC2=NC(=O)c3cc(Nc1ccccc1)c(cc23)Nc4ccccc4          73.72         4.300274          1.867585                    0  \n",
       "3                 CCCN1N=CC=C1S(=O)(=O)N2CC3CNCC2CC3          67.23         4.208120          1.827563                    0  \n",
       "4  CCN=C(O)CC3N=C(c1ccc(Cl)cc1)c2cc(ccc2N4C(C)=NN...          84.89         4.441356          1.928857                    0  "
      ]
     },
     "execution_count": 54,
     "metadata": {},
     "output_type": "execute_result"
    },
    {
     "name": "stdout",
     "output_type": "stream",
     "text": [
      " Smiles entries == NaN: 0\n",
      " InChI entries == NaN: 0\n"
     ]
    }
   ],
   "source": [
    "# df_metadata_all.drop(columns='index', inplace = True)\n",
    "df_metadata_all.info()\n",
    "df_metadata_all.head()\n",
    "\n",
    "\n",
    "df_temp = df_metadata_all[df_metadata_all['Metadata_Smiles'].isna()]\n",
    "print(f\" Smiles entries == NaN: {len(df_temp)}\")\n",
    "df_temp = df_metadata_all[df_metadata_all['Metadata_InChI'].isna()]\n",
    "print(f\" InChI entries == NaN: {len(df_temp)}\")\n",
    "# df_temp = df_metadata_all[df_metadata_all['pharmacophore_base64'].isna()]\n",
    "# print(f\" Base64 Pharmcophore == NaN: {len(df_temp)}\")"
   ]
  },
  {
   "cell_type": "code",
   "execution_count": 55,
   "id": "f01f33d6",
   "metadata": {
    "ExecuteTime": {
     "end_time": "2023-05-25T06:21:58.654847Z",
     "start_time": "2023-05-25T06:21:58.642398Z"
    },
    "execution": {
     "iopub.execute_input": "2024-10-18T15:54:16.958538Z",
     "iopub.status.busy": "2024-10-18T15:54:16.958240Z",
     "iopub.status.idle": "2024-10-18T15:54:16.993273Z",
     "shell.execute_reply": "2024-10-18T15:54:16.992587Z",
     "shell.execute_reply.started": "2024-10-18T15:54:16.958495Z"
    }
   },
   "outputs": [
    {
     "name": "stdout",
     "output_type": "stream",
     "text": [
      " compound Metadata + Base64 Pharmacophores File: ./output_10162024/compound_metadata_pcfp.csv\n"
     ]
    }
   ],
   "source": [
    "print(f\" compound Metadata + Base64 Pharmacophores File: {ds.compoundMetadataPharmacophoreFile}\")"
   ]
  },
  {
   "cell_type": "code",
   "execution_count": 56,
   "id": "2aa3e31e",
   "metadata": {
    "ExecuteTime": {
     "end_time": "2023-05-25T06:21:59.262398Z",
     "start_time": "2023-05-25T06:21:58.812004Z"
    },
    "execution": {
     "iopub.execute_input": "2024-10-18T15:54:27.413068Z",
     "iopub.status.busy": "2024-10-18T15:54:27.412513Z",
     "iopub.status.idle": "2024-10-18T15:54:28.684348Z",
     "shell.execute_reply": "2024-10-18T15:54:28.683518Z",
     "shell.execute_reply.started": "2024-10-18T15:54:27.413032Z"
    }
   },
   "outputs": [],
   "source": [
    "df_metadata_all.to_csv(ds.compoundMetadataPharmacophoreFile, header = True, index = False)"
   ]
  },
  {
   "cell_type": "markdown",
   "id": "1a4783d0-f366-484a-8333-cefffe048327",
   "metadata": {},
   "source": [
    "# Write standalone Pharmacophore file"
   ]
  },
  {
   "cell_type": "markdown",
   "id": "ee0a8543-e0d2-4b24-b85c-d2d1b7bea20a",
   "metadata": {},
   "source": [
    "### Combine pharmacophore files from all processes and write output\n",
    "- write to `./output/cp_compound_pharmacophores.pkl`"
   ]
  },
  {
   "cell_type": "code",
   "execution_count": null,
   "id": "f5946e8e",
   "metadata": {
    "ExecuteTime": {
     "end_time": "2023-05-24T09:02:17.314822Z",
     "start_time": "2023-05-24T09:02:17.293822Z"
    }
   },
   "outputs": [],
   "source": [
    "#     print(f\" {datetime.now().strftime('%X.%f')} | chunk_id: {chunk_id} | write to compoundPharmacophoreFile  | mode : {mode}  header: {header}\")\n",
    "#     df_fingerprints.to_csv(compoundPharmacophoreFile,\n",
    "#                     index=False,  \n",
    "#                     header=header, mode=mode)     # Skip index column"
   ]
  },
  {
   "cell_type": "code",
   "execution_count": 464,
   "id": "18c5b456-48c7-4a4a-b82b-fb3130c1bb7b",
   "metadata": {
    "execution": {
     "iopub.execute_input": "2024-10-21T19:47:08.058359Z",
     "iopub.status.busy": "2024-10-21T19:47:08.057798Z",
     "iopub.status.idle": "2024-10-21T19:47:08.097040Z",
     "shell.execute_reply": "2024-10-21T19:47:08.096480Z",
     "shell.execute_reply.started": "2024-10-21T19:47:08.058317Z"
    }
   },
   "outputs": [],
   "source": [
    "# print(hash('JCP2022_000001'))"
   ]
  },
  {
   "cell_type": "code",
   "execution_count": 465,
   "id": "e50dbccc-1dfc-4839-8a66-d3f8d266de90",
   "metadata": {
    "ExecuteTime": {
     "end_time": "2023-05-25T06:22:22.091773Z",
     "start_time": "2023-05-25T06:22:22.053388Z"
    },
    "execution": {
     "iopub.execute_input": "2024-10-21T19:47:09.520377Z",
     "iopub.status.busy": "2024-10-21T19:47:09.519896Z",
     "iopub.status.idle": "2024-10-21T19:47:09.560917Z",
     "shell.execute_reply": "2024-10-21T19:47:09.560320Z",
     "shell.execute_reply.started": "2024-10-21T19:47:09.520336Z"
    },
    "scrolled": true
   },
   "outputs": [],
   "source": [
    "df_fingerprints_all = pd.concat([i[2] for i in results ], axis = 0, ignore_index=True )"
   ]
  },
  {
   "cell_type": "code",
   "execution_count": 466,
   "id": "93a3a543-b7e3-4c10-b262-09a4c2008895",
   "metadata": {
    "ExecuteTime": {
     "end_time": "2023-05-25T06:22:22.091773Z",
     "start_time": "2023-05-25T06:22:22.053388Z"
    },
    "execution": {
     "iopub.execute_input": "2024-10-21T19:47:10.706877Z",
     "iopub.status.busy": "2024-10-21T19:47:10.706337Z",
     "iopub.status.idle": "2024-10-21T19:47:10.776656Z",
     "shell.execute_reply": "2024-10-21T19:47:10.776139Z",
     "shell.execute_reply.started": "2024-10-21T19:47:10.706837Z"
    },
    "scrolled": true
   },
   "outputs": [
    {
     "name": "stdout",
     "output_type": "stream",
     "text": [
      "<class 'pandas.core.frame.DataFrame'>\n",
      "RangeIndex: 116691 entries, 0 to 116690\n",
      "Data columns (total 2 columns):\n",
      " #   Column            Non-Null Count   Dtype \n",
      "---  ------            --------------   ----- \n",
      " 0   Metadata_JCP2022  116691 non-null  object\n",
      " 1   pharmacophore_fp  116691 non-null  object\n",
      "dtypes: object(2)\n",
      "memory usage: 1.8+ MB\n"
     ]
    },
    {
     "data": {
      "text/html": [
       "<div>\n",
       "<style scoped>\n",
       "    .dataframe tbody tr th:only-of-type {\n",
       "        vertical-align: middle;\n",
       "    }\n",
       "\n",
       "    .dataframe tbody tr th {\n",
       "        vertical-align: top;\n",
       "    }\n",
       "\n",
       "    .dataframe thead th {\n",
       "        text-align: right;\n",
       "    }\n",
       "</style>\n",
       "<table border=\"1\" class=\"dataframe\">\n",
       "  <thead>\n",
       "    <tr style=\"text-align: right;\">\n",
       "      <th></th>\n",
       "      <th>Metadata_JCP2022</th>\n",
       "      <th>pharmacophore_fp</th>\n",
       "    </tr>\n",
       "  </thead>\n",
       "  <tbody>\n",
       "    <tr>\n",
       "      <th>0</th>\n",
       "      <td>JCP2022_000001</td>\n",
       "      <td>[0, 1, 1, 1, 1, 1, 1, 1, 1, 1, 0, 0, 1, 1, 0, ...</td>\n",
       "    </tr>\n",
       "    <tr>\n",
       "      <th>1</th>\n",
       "      <td>JCP2022_000002</td>\n",
       "      <td>[0, 0, 0, 1, 1, 0, 0, 1, 0, 1, 0, 0, 0, 0, 0, ...</td>\n",
       "    </tr>\n",
       "    <tr>\n",
       "      <th>2</th>\n",
       "      <td>JCP2022_000003</td>\n",
       "      <td>[0, 1, 1, 1, 0, 1, 1, 1, 1, 1, 0, 0, 0, 0, 0, ...</td>\n",
       "    </tr>\n",
       "    <tr>\n",
       "      <th>3</th>\n",
       "      <td>JCP2022_000004</td>\n",
       "      <td>[1, 1, 1, 0, 0, 1, 0, 1, 0, 0, 0, 0, 0, 1, 0, ...</td>\n",
       "    </tr>\n",
       "    <tr>\n",
       "      <th>4</th>\n",
       "      <td>JCP2022_000005</td>\n",
       "      <td>[1, 1, 1, 1, 0, 1, 1, 1, 1, 1, 0, 0, 0, 0, 0, ...</td>\n",
       "    </tr>\n",
       "  </tbody>\n",
       "</table>\n",
       "</div>"
      ],
      "text/plain": [
       "  Metadata_JCP2022                                   pharmacophore_fp\n",
       "0   JCP2022_000001  [0, 1, 1, 1, 1, 1, 1, 1, 1, 1, 0, 0, 1, 1, 0, ...\n",
       "1   JCP2022_000002  [0, 0, 0, 1, 1, 0, 0, 1, 0, 1, 0, 0, 0, 0, 0, ...\n",
       "2   JCP2022_000003  [0, 1, 1, 1, 0, 1, 1, 1, 1, 1, 0, 0, 0, 0, 0, ...\n",
       "3   JCP2022_000004  [1, 1, 1, 0, 0, 1, 0, 1, 0, 0, 0, 0, 0, 1, 0, ...\n",
       "4   JCP2022_000005  [1, 1, 1, 1, 0, 1, 1, 1, 1, 1, 0, 0, 0, 0, 0, ..."
      ]
     },
     "execution_count": 466,
     "metadata": {},
     "output_type": "execute_result"
    },
    {
     "data": {
      "text/html": [
       "<div>\n",
       "<style scoped>\n",
       "    .dataframe tbody tr th:only-of-type {\n",
       "        vertical-align: middle;\n",
       "    }\n",
       "\n",
       "    .dataframe tbody tr th {\n",
       "        vertical-align: top;\n",
       "    }\n",
       "\n",
       "    .dataframe thead th {\n",
       "        text-align: right;\n",
       "    }\n",
       "</style>\n",
       "<table border=\"1\" class=\"dataframe\">\n",
       "  <thead>\n",
       "    <tr style=\"text-align: right;\">\n",
       "      <th></th>\n",
       "      <th>Metadata_JCP2022</th>\n",
       "      <th>pharmacophore_fp</th>\n",
       "    </tr>\n",
       "  </thead>\n",
       "  <tbody>\n",
       "  </tbody>\n",
       "</table>\n",
       "</div>"
      ],
      "text/plain": [
       "Empty DataFrame\n",
       "Columns: [Metadata_JCP2022, pharmacophore_fp]\n",
       "Index: []"
      ]
     },
     "execution_count": 466,
     "metadata": {},
     "output_type": "execute_result"
    },
    {
     "data": {
      "text/plain": [
       "116691"
      ]
     },
     "execution_count": 466,
     "metadata": {},
     "output_type": "execute_result"
    }
   ],
   "source": [
    "df_fingerprints_all.info()\n",
    "df_fingerprints_all.head()\n",
    "df_fingerprints_all[df_fingerprints_all['pharmacophore_fp'].isna()]\n",
    "len(df_fingerprints_all)"
   ]
  },
  {
   "cell_type": "code",
   "execution_count": 470,
   "id": "9439c563-4553-4ea5-8e74-2e1fc78df803",
   "metadata": {
    "ExecuteTime": {
     "end_time": "2023-05-25T06:22:34.353360Z",
     "start_time": "2023-05-25T06:22:33.669830Z"
    },
    "execution": {
     "iopub.execute_input": "2024-10-21T19:50:15.864717Z",
     "iopub.status.busy": "2024-10-21T19:50:15.864227Z",
     "iopub.status.idle": "2024-10-21T19:50:15.905181Z",
     "shell.execute_reply": "2024-10-21T19:50:15.904466Z",
     "shell.execute_reply.started": "2024-10-21T19:50:15.864676Z"
    }
   },
   "outputs": [],
   "source": [
    "# print(f\" compound Pharmacophore File    : {ds.compoundPharmacophoreFile}\")\n",
    "\n",
    "# df_fingerprints_all.to_pickle(ds.compoundPharmacophoreFile)\n",
    "# print(NUMBER_OF_BINS)"
   ]
  },
  {
   "cell_type": "markdown",
   "id": "6c78fe1d-13cb-40ed-bc97-135e08e9769b",
   "metadata": {},
   "source": [
    "### Add Hash and Bin Number "
   ]
  },
  {
   "cell_type": "code",
   "execution_count": 468,
   "id": "016d0d79-869a-4c0c-a393-42dd16bbc13f",
   "metadata": {
    "execution": {
     "iopub.execute_input": "2024-10-21T19:49:22.746580Z",
     "iopub.status.busy": "2024-10-21T19:49:22.745897Z",
     "iopub.status.idle": "2024-10-21T19:49:22.787385Z",
     "shell.execute_reply": "2024-10-21T19:49:22.786792Z",
     "shell.execute_reply.started": "2024-10-21T19:49:22.746535Z"
    }
   },
   "outputs": [],
   "source": [
    "# import operator\n",
    "# df_fingerprints_all['Metadata_Hash'] = df_fingerprints_all['Metadata_JCP2022'].map(hash)\n",
    "# df_fingerprints_all['Metadata_Bin']  = df_fingerprints_all['Metadata_Hash'].map(lambda x: operator.mod(x,NUMBER_OF_BINS))"
   ]
  },
  {
   "cell_type": "code",
   "execution_count": 469,
   "id": "d9c17483-543a-404d-806f-1db5fada6f07",
   "metadata": {
    "execution": {
     "iopub.execute_input": "2024-10-21T19:49:22.788918Z",
     "iopub.status.busy": "2024-10-21T19:49:22.788658Z",
     "iopub.status.idle": "2024-10-21T19:49:22.837299Z",
     "shell.execute_reply": "2024-10-21T19:49:22.836824Z",
     "shell.execute_reply.started": "2024-10-21T19:49:22.788898Z"
    }
   },
   "outputs": [
    {
     "data": {
      "text/html": [
       "<div>\n",
       "<style scoped>\n",
       "    .dataframe tbody tr th:only-of-type {\n",
       "        vertical-align: middle;\n",
       "    }\n",
       "\n",
       "    .dataframe tbody tr th {\n",
       "        vertical-align: top;\n",
       "    }\n",
       "\n",
       "    .dataframe thead th {\n",
       "        text-align: right;\n",
       "    }\n",
       "</style>\n",
       "<table border=\"1\" class=\"dataframe\">\n",
       "  <thead>\n",
       "    <tr style=\"text-align: right;\">\n",
       "      <th></th>\n",
       "      <th>Metadata_JCP2022</th>\n",
       "      <th>pharmacophore_fp</th>\n",
       "    </tr>\n",
       "  </thead>\n",
       "  <tbody>\n",
       "    <tr>\n",
       "      <th>0</th>\n",
       "      <td>JCP2022_000001</td>\n",
       "      <td>[0, 1, 1, 1, 1, 1, 1, 1, 1, 1, 0, 0, 1, 1, 0, ...</td>\n",
       "    </tr>\n",
       "    <tr>\n",
       "      <th>1</th>\n",
       "      <td>JCP2022_000002</td>\n",
       "      <td>[0, 0, 0, 1, 1, 0, 0, 1, 0, 1, 0, 0, 0, 0, 0, ...</td>\n",
       "    </tr>\n",
       "    <tr>\n",
       "      <th>2</th>\n",
       "      <td>JCP2022_000003</td>\n",
       "      <td>[0, 1, 1, 1, 0, 1, 1, 1, 1, 1, 0, 0, 0, 0, 0, ...</td>\n",
       "    </tr>\n",
       "    <tr>\n",
       "      <th>3</th>\n",
       "      <td>JCP2022_000004</td>\n",
       "      <td>[1, 1, 1, 0, 0, 1, 0, 1, 0, 0, 0, 0, 0, 1, 0, ...</td>\n",
       "    </tr>\n",
       "    <tr>\n",
       "      <th>4</th>\n",
       "      <td>JCP2022_000005</td>\n",
       "      <td>[1, 1, 1, 1, 0, 1, 1, 1, 1, 1, 0, 0, 0, 0, 0, ...</td>\n",
       "    </tr>\n",
       "    <tr>\n",
       "      <th>...</th>\n",
       "      <td>...</td>\n",
       "      <td>...</td>\n",
       "    </tr>\n",
       "    <tr>\n",
       "      <th>116686</th>\n",
       "      <td>JCP2022_116749</td>\n",
       "      <td>[0, 1, 1, 1, 1, 1, 1, 1, 1, 1, 0, 0, 0, 1, 0, ...</td>\n",
       "    </tr>\n",
       "    <tr>\n",
       "      <th>116687</th>\n",
       "      <td>JCP2022_116750</td>\n",
       "      <td>[1, 1, 1, 1, 1, 1, 1, 1, 0, 1, 0, 0, 0, 0, 0, ...</td>\n",
       "    </tr>\n",
       "    <tr>\n",
       "      <th>116688</th>\n",
       "      <td>JCP2022_116751</td>\n",
       "      <td>[0, 1, 1, 1, 0, 1, 0, 1, 1, 1, 0, 0, 0, 0, 0, ...</td>\n",
       "    </tr>\n",
       "    <tr>\n",
       "      <th>116689</th>\n",
       "      <td>JCP2022_116752</td>\n",
       "      <td>[1, 1, 1, 1, 1, 1, 1, 1, 1, 1, 0, 0, 0, 0, 0, ...</td>\n",
       "    </tr>\n",
       "    <tr>\n",
       "      <th>116690</th>\n",
       "      <td>JCP2022_116753</td>\n",
       "      <td>[0, 1, 1, 0, 0, 1, 1, 0, 1, 0, 0, 0, 0, 1, 0, ...</td>\n",
       "    </tr>\n",
       "  </tbody>\n",
       "</table>\n",
       "<p>116691 rows × 2 columns</p>\n",
       "</div>"
      ],
      "text/plain": [
       "       Metadata_JCP2022                                   pharmacophore_fp\n",
       "0        JCP2022_000001  [0, 1, 1, 1, 1, 1, 1, 1, 1, 1, 0, 0, 1, 1, 0, ...\n",
       "1        JCP2022_000002  [0, 0, 0, 1, 1, 0, 0, 1, 0, 1, 0, 0, 0, 0, 0, ...\n",
       "2        JCP2022_000003  [0, 1, 1, 1, 0, 1, 1, 1, 1, 1, 0, 0, 0, 0, 0, ...\n",
       "3        JCP2022_000004  [1, 1, 1, 0, 0, 1, 0, 1, 0, 0, 0, 0, 0, 1, 0, ...\n",
       "4        JCP2022_000005  [1, 1, 1, 1, 0, 1, 1, 1, 1, 1, 0, 0, 0, 0, 0, ...\n",
       "...                 ...                                                ...\n",
       "116686   JCP2022_116749  [0, 1, 1, 1, 1, 1, 1, 1, 1, 1, 0, 0, 0, 1, 0, ...\n",
       "116687   JCP2022_116750  [1, 1, 1, 1, 1, 1, 1, 1, 0, 1, 0, 0, 0, 0, 0, ...\n",
       "116688   JCP2022_116751  [0, 1, 1, 1, 0, 1, 0, 1, 1, 1, 0, 0, 0, 0, 0, ...\n",
       "116689   JCP2022_116752  [1, 1, 1, 1, 1, 1, 1, 1, 1, 1, 0, 0, 0, 0, 0, ...\n",
       "116690   JCP2022_116753  [0, 1, 1, 0, 0, 1, 1, 0, 1, 0, 0, 0, 0, 1, 0, ...\n",
       "\n",
       "[116691 rows x 2 columns]"
      ]
     },
     "execution_count": 469,
     "metadata": {},
     "output_type": "execute_result"
    }
   ],
   "source": [
    "# df_test\n",
    "# df_fingerprints_all = df_fingerprints_all[['Metadata_JCP2022', 'Metadata_Hash', 'Metadata_Bin', 'pharmacophore_fp']]\n",
    "df_fingerprints_all"
   ]
  },
  {
   "cell_type": "markdown",
   "id": "1aef0409-d4e3-4ade-9ed5-eb5044373820",
   "metadata": {},
   "source": [
    "### Write pharamacophore file "
   ]
  },
  {
   "cell_type": "code",
   "execution_count": 440,
   "id": "91f3d212-794a-495c-9b4d-dbe0d9fe384b",
   "metadata": {
    "ExecuteTime": {
     "end_time": "2023-05-25T06:22:30.460649Z",
     "start_time": "2023-05-25T06:22:30.448879Z"
    },
    "execution": {
     "iopub.execute_input": "2024-10-21T19:31:15.390906Z",
     "iopub.status.busy": "2024-10-21T19:31:15.390390Z",
     "iopub.status.idle": "2024-10-21T19:31:15.430193Z",
     "shell.execute_reply": "2024-10-21T19:31:15.429650Z",
     "shell.execute_reply.started": "2024-10-21T19:31:15.390865Z"
    }
   },
   "outputs": [
    {
     "name": "stdout",
     "output_type": "stream",
     "text": [
      " compound Pharmacophore File    : ./output_10162024/compound_pharmacophores_sparse.pkl\n"
     ]
    }
   ],
   "source": [
    "print(f\" compound Pharmacophore File    : {ds.compoundPharmacophoreFile}\")"
   ]
  },
  {
   "cell_type": "code",
   "execution_count": 441,
   "id": "cf75b609-5b83-4251-beab-d8b6b7bb1ac6",
   "metadata": {
    "ExecuteTime": {
     "end_time": "2023-05-25T06:22:34.353360Z",
     "start_time": "2023-05-25T06:22:33.669830Z"
    },
    "execution": {
     "iopub.execute_input": "2024-10-21T19:31:16.963748Z",
     "iopub.status.busy": "2024-10-21T19:31:16.963541Z",
     "iopub.status.idle": "2024-10-21T19:31:18.089713Z",
     "shell.execute_reply": "2024-10-21T19:31:18.089006Z",
     "shell.execute_reply.started": "2024-10-21T19:31:16.963728Z"
    }
   },
   "outputs": [],
   "source": [
    "df_fingerprints_all.to_pickle(ds.compoundPharmacophoreFile)"
   ]
  },
  {
   "cell_type": "markdown",
   "id": "df347fbf-7191-4e63-acc9-8f51ef61d347",
   "metadata": {
    "jp-MarkdownHeadingCollapsed": true
   },
   "source": [
    "### Test for all zero fingerprints "
   ]
  },
  {
   "cell_type": "code",
   "execution_count": 64,
   "id": "4ff70c40-0865-4644-a90b-8cdaeec593bc",
   "metadata": {
    "execution": {
     "iopub.execute_input": "2024-10-18T15:57:33.987210Z",
     "iopub.status.busy": "2024-10-18T15:57:33.986735Z",
     "iopub.status.idle": "2024-10-18T15:57:34.031549Z",
     "shell.execute_reply": "2024-10-18T15:57:34.031069Z",
     "shell.execute_reply.started": "2024-10-18T15:57:33.987170Z"
    }
   },
   "outputs": [
    {
     "name": "stderr",
     "output_type": "stream",
     "text": [
      "/tmp/ipykernel_3159807/3103010435.py:1: FutureWarning: Series.__getitem__ treating keys as positions is deprecated. In a future version, integer keys will always be treated as labels (consistent with DataFrame behavior). To access a value by position, use `ser.iloc[pos]`\n",
      "  df_fingerprints_all.iloc[0][0]\n"
     ]
    },
    {
     "data": {
      "text/plain": [
       "'JCP2022_000001'"
      ]
     },
     "execution_count": 64,
     "metadata": {},
     "output_type": "execute_result"
    },
    {
     "name": "stderr",
     "output_type": "stream",
     "text": [
      "/tmp/ipykernel_3159807/3103010435.py:2: FutureWarning: Series.__getitem__ treating keys as positions is deprecated. In a future version, integer keys will always be treated as labels (consistent with DataFrame behavior). To access a value by position, use `ser.iloc[pos]`\n",
      "  df_fingerprints_all.iloc[0][1]\n"
     ]
    },
    {
     "data": {
      "text/plain": [
       "<rdkit.DataStructs.cDataStructs.SparseBitVect at 0x7fc3db240f90>"
      ]
     },
     "execution_count": 64,
     "metadata": {},
     "output_type": "execute_result"
    },
    {
     "data": {
      "text/plain": [
       "Metadata_JCP2022                                       JCP2022_000001\n",
       "pharmacophore_fp    [0, 1, 1, 1, 1, 1, 1, 1, 1, 1, 0, 0, 1, 1, 0, ...\n",
       "Name: 0, dtype: object"
      ]
     },
     "execution_count": 64,
     "metadata": {},
     "output_type": "execute_result"
    }
   ],
   "source": [
    "df_fingerprints_all.iloc[0][0]\n",
    "df_fingerprints_all.iloc[0][1]\n",
    "df_fingerprints_all.iloc[0]"
   ]
  },
  {
   "cell_type": "code",
   "execution_count": 82,
   "id": "24d811f2-a00c-4d3a-a3be-bff5364cad93",
   "metadata": {
    "execution": {
     "iopub.execute_input": "2024-10-18T16:09:00.906221Z",
     "iopub.status.busy": "2024-10-18T16:09:00.905755Z",
     "iopub.status.idle": "2024-10-18T16:09:08.864696Z",
     "shell.execute_reply": "2024-10-18T16:09:08.863824Z",
     "shell.execute_reply.started": "2024-10-18T16:09:00.906179Z"
    }
   },
   "outputs": [
    {
     "name": "stdout",
     "output_type": "stream",
     "text": [
      "2938  is all zeros  1032\n",
      "4087  is all zeros  1032\n",
      "5103  is all zeros  1032\n",
      "10334  is all zeros  1032\n",
      "17445  is all zeros  1032\n",
      "21873  is all zeros  1032\n",
      "27633  is all zeros  1032\n",
      "31293  is all zeros  1032\n",
      "31346  is all zeros  1032\n",
      "33820  is all zeros  1032\n",
      "33904  is all zeros  1032\n",
      "36419  is all zeros  1032\n",
      "36937  is all zeros  1032\n",
      "37571  is all zeros  1032\n",
      "39777  is all zeros  1032\n",
      "41230  is all zeros  1032\n",
      "44472  is all zeros  1032\n",
      "46972  is all zeros  1032\n",
      "52925  is all zeros  1032\n",
      "53381  is all zeros  1032\n",
      "64789  is all zeros  1032\n",
      "68861  is all zeros  1032\n",
      "71309  is all zeros  1032\n",
      "73329  is all zeros  1032\n",
      "79693  is all zeros  1032\n",
      "81169  is all zeros  1032\n",
      "82394  is all zeros  1032\n",
      "92324  is all zeros  1032\n",
      "92428  is all zeros  1032\n",
      "93583  is all zeros  1032\n",
      "94154  is all zeros  1032\n",
      "96427  is all zeros  1032\n",
      "99919  is all zeros  1032\n",
      "102743  is all zeros  1032\n",
      "104413  is all zeros  1032\n",
      "106041  is all zeros  1032\n",
      "106168  is all zeros  1032\n",
      "107141  is all zeros  1032\n",
      "108521  is all zeros  1032\n",
      "114293  is all zeros  1032\n",
      "114538  is all zeros  1032\n",
      " number of records read 116691\n",
      " number of zero fingerprints: 41\n",
      " bit_counter: [ 59721  98057  98115 106899  61994  95726  94827 107369  83494  97871 ...      6      7      5      0      0      0      2      0      9      3]\n"
     ]
    }
   ],
   "source": [
    "import rdkit\n",
    "\n",
    "i = 0\n",
    "zero_ctr = 0 \n",
    "all_zeros = [0]*1032\n",
    "test = [1]\n",
    "test.extend([0] *1031)\n",
    "\n",
    "# print(all_zeros)\n",
    "# print(test)\n",
    "# print(all_zeros == test)\n",
    "bit_counter = np.array(all_zeros)\n",
    "\n",
    "for comp in df_fingerprints_all.itertuples():\n",
    "    np_fromBase64Sparse = np.array(rdkit.DataStructs.cDataStructs.SparseBitVect.ToList(comp.pharmacophore_fp))\n",
    "    # print(comp.pharmacophore_fp)\n",
    "    # print(type(np_fromBase64Sparse), np_fromBase64Sparse)\n",
    "    bit_counter += np_fromBase64Sparse\n",
    "    if np_fromBase64Sparse.sum() == 0:\n",
    "        print(i, ' is all zeros ' , len(np_fromBase64Sparse) )\n",
    "        zero_ctr += 1\n",
    "    i+=1\n",
    "    # if i == 20:\n",
    "        # break\n",
    "        \n",
    "print(f\" number of records read {i}\")\n",
    "print(f\" number of zero fingerprints: {zero_ctr}\")\n",
    "print(f\" bit_counter: {bit_counter}\")"
   ]
  },
  {
   "cell_type": "code",
   "execution_count": 337,
   "id": "6c7560e2",
   "metadata": {
    "ExecuteTime": {
     "end_time": "2023-05-25T06:22:35.302159Z",
     "start_time": "2023-05-25T06:22:35.291055Z"
    },
    "execution": {
     "iopub.execute_input": "2024-10-21T16:27:40.584489Z",
     "iopub.status.busy": "2024-10-21T16:27:40.584018Z",
     "iopub.status.idle": "2024-10-21T16:27:40.626458Z",
     "shell.execute_reply": "2024-10-21T16:27:40.625967Z",
     "shell.execute_reply.started": "2024-10-21T16:27:40.584448Z"
    }
   },
   "outputs": [
    {
     "data": {
      "text/plain": [
       "array([  119,  1036,  1557,  1160,   281,  5513,     0,     0,  1897, 12261,  4212,  4734,     6,   667,   429,   474,     0,   770,   727,   572])"
      ]
     },
     "execution_count": 337,
     "metadata": {},
     "output_type": "execute_result"
    }
   ],
   "source": [
    "# df_chunk.info()\n",
    "# df_fingerprints.info()\n",
    "# del df_fingerprints_all,   df_metadata_all\n",
    "bit_counter[500:520]"
   ]
  },
  {
   "cell_type": "markdown",
   "id": "1d0da768-3826-4a37-b076-e6c1c9f681bc",
   "metadata": {
    "heading_collapsed": true,
    "hidden": true,
    "jp-MarkdownHeadingCollapsed": true
   },
   "source": [
    "### Reread and check pharmacophore fingerprint file "
   ]
  },
  {
   "cell_type": "markdown",
   "id": "6a5fd0d5-2763-4fdd-9f09-3f46f751e59a",
   "metadata": {
    "heading_collapsed": true,
    "hidden": true
   },
   "source": [
    "- `./output/compound_pharmacophores_sparse.pkl`"
   ]
  },
  {
   "cell_type": "code",
   "execution_count": 259,
   "id": "16230c78",
   "metadata": {
    "ExecuteTime": {
     "end_time": "2023-05-25T10:05:20.749055Z",
     "start_time": "2023-05-25T10:05:20.736987Z"
    },
    "execution": {
     "iopub.execute_input": "2024-10-21T14:17:25.145072Z",
     "iopub.status.busy": "2024-10-21T14:17:25.144608Z",
     "iopub.status.idle": "2024-10-21T14:17:25.185658Z",
     "shell.execute_reply": "2024-10-21T14:17:25.185031Z",
     "shell.execute_reply.started": "2024-10-21T14:17:25.145032Z"
    },
    "hidden": true
   },
   "outputs": [
    {
     "name": "stdout",
     "output_type": "stream",
     "text": [
      " compound Pharmacophore File    : ./output_10162024/compound_pharmacophores_sparse.pkl\n"
     ]
    }
   ],
   "source": [
    "print(f\" compound Pharmacophore File    : {ds.compoundPharmacophoreFile}\")"
   ]
  },
  {
   "cell_type": "code",
   "execution_count": 44,
   "id": "87b16cb3",
   "metadata": {
    "ExecuteTime": {
     "end_time": "2023-05-25T06:22:43.794360Z",
     "start_time": "2023-05-25T06:22:42.794157Z"
    },
    "hidden": true,
    "scrolled": true
   },
   "outputs": [
    {
     "name": "stdout",
     "output_type": "stream",
     "text": [
      "<class 'pandas.core.frame.DataFrame'>\n",
      "RangeIndex: 116751 entries, 0 to 116750\n",
      "Data columns (total 2 columns):\n",
      " #   Column            Non-Null Count   Dtype \n",
      "---  ------            --------------   ----- \n",
      " 0   JCP2022           116751 non-null  object\n",
      " 1   pharmacophore_fp  116751 non-null  object\n",
      "dtypes: object(2)\n",
      "memory usage: 1.8+ MB\n"
     ]
    },
    {
     "data": {
      "text/html": [
       "<div>\n",
       "<style scoped>\n",
       "    .dataframe tbody tr th:only-of-type {\n",
       "        vertical-align: middle;\n",
       "    }\n",
       "\n",
       "    .dataframe tbody tr th {\n",
       "        vertical-align: top;\n",
       "    }\n",
       "\n",
       "    .dataframe thead th {\n",
       "        text-align: right;\n",
       "    }\n",
       "</style>\n",
       "<table border=\"1\" class=\"dataframe\">\n",
       "  <thead>\n",
       "    <tr style=\"text-align: right;\">\n",
       "      <th></th>\n",
       "      <th>JCP2022</th>\n",
       "      <th>pharmacophore_fp</th>\n",
       "    </tr>\n",
       "  </thead>\n",
       "  <tbody>\n",
       "    <tr>\n",
       "      <th>0</th>\n",
       "      <td>JCP2022_000001</td>\n",
       "      <td>[0, 1, 1, 1, 1, 1, 1, 1, 1, 1, 0, 0, 1, 1, 0, ...</td>\n",
       "    </tr>\n",
       "    <tr>\n",
       "      <th>1</th>\n",
       "      <td>JCP2022_000002</td>\n",
       "      <td>[0, 0, 0, 1, 1, 0, 0, 1, 0, 1, 0, 0, 0, 0, 0, ...</td>\n",
       "    </tr>\n",
       "    <tr>\n",
       "      <th>2</th>\n",
       "      <td>JCP2022_000003</td>\n",
       "      <td>[0, 1, 1, 1, 0, 1, 1, 1, 1, 1, 0, 0, 0, 0, 0, ...</td>\n",
       "    </tr>\n",
       "    <tr>\n",
       "      <th>3</th>\n",
       "      <td>JCP2022_000004</td>\n",
       "      <td>[1, 1, 1, 0, 0, 1, 0, 1, 0, 0, 0, 0, 0, 1, 0, ...</td>\n",
       "    </tr>\n",
       "    <tr>\n",
       "      <th>4</th>\n",
       "      <td>JCP2022_000005</td>\n",
       "      <td>[1, 1, 1, 1, 0, 1, 1, 1, 1, 1, 0, 0, 0, 0, 0, ...</td>\n",
       "    </tr>\n",
       "    <tr>\n",
       "      <th>5</th>\n",
       "      <td>JCP2022_000006</td>\n",
       "      <td>[1, 1, 1, 1, 0, 0, 1, 1, 1, 1, 0, 0, 0, 0, 0, ...</td>\n",
       "    </tr>\n",
       "    <tr>\n",
       "      <th>6</th>\n",
       "      <td>JCP2022_000007</td>\n",
       "      <td>[1, 1, 1, 1, 0, 1, 1, 1, 1, 1, 0, 0, 0, 0, 0, ...</td>\n",
       "    </tr>\n",
       "    <tr>\n",
       "      <th>7</th>\n",
       "      <td>JCP2022_000008</td>\n",
       "      <td>[0, 1, 0, 1, 0, 1, 0, 1, 0, 1, 0, 0, 0, 0, 0, ...</td>\n",
       "    </tr>\n",
       "    <tr>\n",
       "      <th>8</th>\n",
       "      <td>JCP2022_000009</td>\n",
       "      <td>[1, 1, 1, 1, 1, 1, 1, 1, 1, 1, 0, 0, 0, 1, 0, ...</td>\n",
       "    </tr>\n",
       "    <tr>\n",
       "      <th>9</th>\n",
       "      <td>JCP2022_000010</td>\n",
       "      <td>[1, 1, 1, 1, 1, 1, 0, 0, 0, 0, 0, 0, 0, 0, 0, ...</td>\n",
       "    </tr>\n",
       "  </tbody>\n",
       "</table>\n",
       "</div>"
      ],
      "text/plain": [
       "          JCP2022                                   pharmacophore_fp\n",
       "0  JCP2022_000001  [0, 1, 1, 1, 1, 1, 1, 1, 1, 1, 0, 0, 1, 1, 0, ...\n",
       "1  JCP2022_000002  [0, 0, 0, 1, 1, 0, 0, 1, 0, 1, 0, 0, 0, 0, 0, ...\n",
       "2  JCP2022_000003  [0, 1, 1, 1, 0, 1, 1, 1, 1, 1, 0, 0, 0, 0, 0, ...\n",
       "3  JCP2022_000004  [1, 1, 1, 0, 0, 1, 0, 1, 0, 0, 0, 0, 0, 1, 0, ...\n",
       "4  JCP2022_000005  [1, 1, 1, 1, 0, 1, 1, 1, 1, 1, 0, 0, 0, 0, 0, ...\n",
       "5  JCP2022_000006  [1, 1, 1, 1, 0, 0, 1, 1, 1, 1, 0, 0, 0, 0, 0, ...\n",
       "6  JCP2022_000007  [1, 1, 1, 1, 0, 1, 1, 1, 1, 1, 0, 0, 0, 0, 0, ...\n",
       "7  JCP2022_000008  [0, 1, 0, 1, 0, 1, 0, 1, 0, 1, 0, 0, 0, 0, 0, ...\n",
       "8  JCP2022_000009  [1, 1, 1, 1, 1, 1, 1, 1, 1, 1, 0, 0, 0, 1, 0, ...\n",
       "9  JCP2022_000010  [1, 1, 1, 1, 1, 1, 0, 0, 0, 0, 0, 0, 0, 0, 0, ..."
      ]
     },
     "execution_count": 44,
     "metadata": {},
     "output_type": "execute_result"
    },
    {
     "data": {
      "text/html": [
       "<div>\n",
       "<style scoped>\n",
       "    .dataframe tbody tr th:only-of-type {\n",
       "        vertical-align: middle;\n",
       "    }\n",
       "\n",
       "    .dataframe tbody tr th {\n",
       "        vertical-align: top;\n",
       "    }\n",
       "\n",
       "    .dataframe thead th {\n",
       "        text-align: right;\n",
       "    }\n",
       "</style>\n",
       "<table border=\"1\" class=\"dataframe\">\n",
       "  <thead>\n",
       "    <tr style=\"text-align: right;\">\n",
       "      <th></th>\n",
       "      <th>JCP2022</th>\n",
       "      <th>pharmacophore_fp</th>\n",
       "    </tr>\n",
       "  </thead>\n",
       "  <tbody>\n",
       "    <tr>\n",
       "      <th>116741</th>\n",
       "      <td>JCP2022_116744</td>\n",
       "      <td>[0, 1, 1, 1, 0, 0, 1, 1, 1, 1, 0, 0, 0, 0, 0, ...</td>\n",
       "    </tr>\n",
       "    <tr>\n",
       "      <th>116742</th>\n",
       "      <td>JCP2022_116745</td>\n",
       "      <td>[0, 1, 1, 1, 1, 1, 0, 1, 1, 1, 0, 0, 0, 0, 0, ...</td>\n",
       "    </tr>\n",
       "    <tr>\n",
       "      <th>116743</th>\n",
       "      <td>JCP2022_116746</td>\n",
       "      <td>[0, 1, 1, 1, 0, 1, 1, 1, 1, 1, 0, 0, 0, 0, 0, ...</td>\n",
       "    </tr>\n",
       "    <tr>\n",
       "      <th>116744</th>\n",
       "      <td>JCP2022_116747</td>\n",
       "      <td>[0, 1, 1, 0, 0, 1, 1, 1, 0, 0, 0, 0, 0, 1, 0, ...</td>\n",
       "    </tr>\n",
       "    <tr>\n",
       "      <th>116745</th>\n",
       "      <td>JCP2022_116748</td>\n",
       "      <td>[0, 1, 1, 1, 1, 1, 1, 1, 1, 1, 0, 0, 0, 0, 0, ...</td>\n",
       "    </tr>\n",
       "    <tr>\n",
       "      <th>116746</th>\n",
       "      <td>JCP2022_116749</td>\n",
       "      <td>[0, 1, 1, 1, 1, 1, 1, 1, 1, 1, 0, 0, 0, 1, 0, ...</td>\n",
       "    </tr>\n",
       "    <tr>\n",
       "      <th>116747</th>\n",
       "      <td>JCP2022_116750</td>\n",
       "      <td>[1, 1, 1, 1, 1, 1, 1, 1, 0, 1, 0, 0, 0, 0, 0, ...</td>\n",
       "    </tr>\n",
       "    <tr>\n",
       "      <th>116748</th>\n",
       "      <td>JCP2022_116751</td>\n",
       "      <td>[0, 1, 1, 1, 0, 1, 0, 1, 1, 1, 0, 0, 0, 0, 0, ...</td>\n",
       "    </tr>\n",
       "    <tr>\n",
       "      <th>116749</th>\n",
       "      <td>JCP2022_116752</td>\n",
       "      <td>[1, 1, 1, 1, 1, 1, 1, 1, 1, 1, 0, 0, 0, 0, 0, ...</td>\n",
       "    </tr>\n",
       "    <tr>\n",
       "      <th>116750</th>\n",
       "      <td>JCP2022_116753</td>\n",
       "      <td>[0, 1, 1, 0, 0, 1, 1, 0, 1, 0, 0, 0, 0, 1, 0, ...</td>\n",
       "    </tr>\n",
       "  </tbody>\n",
       "</table>\n",
       "</div>"
      ],
      "text/plain": [
       "               JCP2022                                   pharmacophore_fp\n",
       "116741  JCP2022_116744  [0, 1, 1, 1, 0, 0, 1, 1, 1, 1, 0, 0, 0, 0, 0, ...\n",
       "116742  JCP2022_116745  [0, 1, 1, 1, 1, 1, 0, 1, 1, 1, 0, 0, 0, 0, 0, ...\n",
       "116743  JCP2022_116746  [0, 1, 1, 1, 0, 1, 1, 1, 1, 1, 0, 0, 0, 0, 0, ...\n",
       "116744  JCP2022_116747  [0, 1, 1, 0, 0, 1, 1, 1, 0, 0, 0, 0, 0, 1, 0, ...\n",
       "116745  JCP2022_116748  [0, 1, 1, 1, 1, 1, 1, 1, 1, 1, 0, 0, 0, 0, 0, ...\n",
       "116746  JCP2022_116749  [0, 1, 1, 1, 1, 1, 1, 1, 1, 1, 0, 0, 0, 1, 0, ...\n",
       "116747  JCP2022_116750  [1, 1, 1, 1, 1, 1, 1, 1, 0, 1, 0, 0, 0, 0, 0, ...\n",
       "116748  JCP2022_116751  [0, 1, 1, 1, 0, 1, 0, 1, 1, 1, 0, 0, 0, 0, 0, ...\n",
       "116749  JCP2022_116752  [1, 1, 1, 1, 1, 1, 1, 1, 1, 1, 0, 0, 0, 0, 0, ...\n",
       "116750  JCP2022_116753  [0, 1, 1, 0, 0, 1, 1, 0, 1, 0, 0, 0, 0, 1, 0, ..."
      ]
     },
     "execution_count": 44,
     "metadata": {},
     "output_type": "execute_result"
    }
   ],
   "source": [
    "df = pd.read_pickle(compoundPharmacophoreFile)\n",
    "df.info()\n",
    "df.head(10)\n",
    "df.tail(10)"
   ]
  },
  {
   "cell_type": "code",
   "execution_count": 45,
   "id": "4d9cfb66",
   "metadata": {
    "ExecuteTime": {
     "end_time": "2023-05-25T06:22:49.221216Z",
     "start_time": "2023-05-25T06:22:49.208807Z"
    },
    "hidden": true
   },
   "outputs": [
    {
     "name": "stdout",
     "output_type": "stream",
     "text": [
      "<class 'rdkit.DataStructs.cDataStructs.SparseBitVect'> 1032 <rdkit.DataStructs.cDataStructs.SparseBitVect object at 0x7fc484318f90>\n",
      "<class 'rdkit.DataStructs.cDataStructs.SparseBitVect'> 1032 <rdkit.DataStructs.cDataStructs.SparseBitVect object at 0x7fc484318f90>\n",
      "<class 'rdkit.DataStructs.cDataStructs.SparseBitVect'> 1032 <rdkit.DataStructs.cDataStructs.SparseBitVect object at 0x7fc484318f90>\n"
     ]
    }
   ],
   "source": [
    "\n",
    "print(type(df.at[0, 'pharmacophore_fp']), len(df.at[0, 'pharmacophore_fp']),  df.at[0, 'pharmacophore_fp'])\n",
    "print(type(df.loc[0].pharmacophore_fp)  , len(df.loc[0].pharmacophore_fp)  ,  df.loc[0].pharmacophore_fp)\n",
    "print(type(df.iloc[0].pharmacophore_fp) , len(df.iloc[0].pharmacophore_fp) ,  df.iloc[0].pharmacophore_fp)\n",
    "# print(type(df[0].pharmacophore_fp) , len(df[0].pharmacophore_fp) ,  df[0].pharmacophore_fp)\n"
   ]
  },
  {
   "cell_type": "markdown",
   "id": "069c19d9-484a-40c4-b9e3-85be23a71bd0",
   "metadata": {},
   "source": [
    "# Convert RDKit Sparse Bit Vectors to dense matrix"
   ]
  },
  {
   "cell_type": "code",
   "execution_count": 766,
   "id": "c22f55f9-6e78-453b-917d-509f786cc75b",
   "metadata": {
    "ExecuteTime": {
     "end_time": "2023-05-29T12:27:28.868401Z",
     "start_time": "2023-05-29T12:27:28.733021Z"
    },
    "execution": {
     "iopub.execute_input": "2024-10-22T17:55:29.754245Z",
     "iopub.status.busy": "2024-10-22T17:55:29.753690Z",
     "iopub.status.idle": "2024-10-22T17:55:29.794833Z",
     "shell.execute_reply": "2024-10-22T17:55:29.794160Z",
     "shell.execute_reply.started": "2024-10-22T17:55:29.754203Z"
    },
    "scrolled": true
   },
   "outputs": [
    {
     "name": "stdout",
     "output_type": "stream",
     "text": [
      " compound Pharmacophore Sparse File       : ./output_10162024/compound_pharmacophores_sparse.pkl\n",
      " Selected Pharmacophore CSV    File       : ./output_10162024/compound_pharmacophores.csv\n",
      " compound Pharmacophore NumPy File        : ./output_10162024/compound_pharmacophores.npy\n",
      " compound Pharmacophore NumPy Zipped File : ./output_10162024/compound_pharmacophores_zip.npz\n"
     ]
    }
   ],
   "source": [
    "print(f\" compound Pharmacophore Sparse File       : {ds.compoundPharmacophoreSparseFile}\")\n",
    "print(f\" Selected Pharmacophore CSV    File       : {ds.compoundPharmacophoreCSVFile}\")\n",
    "print(f\" compound Pharmacophore NumPy File        : {ds.compoundPharmacophoreNumPyFile}\")\n",
    "print(f\" compound Pharmacophore NumPy Zipped File : {ds.compoundPharmacophoreNumPyZipFile}\")"
   ]
  },
  {
   "cell_type": "code",
   "execution_count": 775,
   "id": "e6e95394-7fc7-44e7-b2c2-ef468c4b176d",
   "metadata": {
    "ExecuteTime": {
     "end_time": "2023-05-29T12:28:29.295170Z",
     "start_time": "2023-05-29T12:28:29.174014Z"
    },
    "execution": {
     "iopub.execute_input": "2024-10-22T18:00:58.350697Z",
     "iopub.status.busy": "2024-10-22T18:00:58.350199Z",
     "iopub.status.idle": "2024-10-22T18:00:59.869811Z",
     "shell.execute_reply": "2024-10-22T18:00:59.868935Z",
     "shell.execute_reply.started": "2024-10-22T18:00:58.350654Z"
    }
   },
   "outputs": [],
   "source": [
    "# del df\n",
    "df = pd.read_pickle(ds.compoundPharmacophoreSparseFile)"
   ]
  },
  {
   "cell_type": "code",
   "execution_count": 777,
   "id": "137d3965-e7e5-4950-807b-0bc7f7b0fe5d",
   "metadata": {
    "ExecuteTime": {
     "end_time": "2023-05-29T12:28:29.295170Z",
     "start_time": "2023-05-29T12:28:29.174014Z"
    },
    "execution": {
     "iopub.execute_input": "2024-10-22T18:01:04.840058Z",
     "iopub.status.busy": "2024-10-22T18:01:04.839457Z",
     "iopub.status.idle": "2024-10-22T18:01:04.917928Z",
     "shell.execute_reply": "2024-10-22T18:01:04.917436Z",
     "shell.execute_reply.started": "2024-10-22T18:01:04.840015Z"
    }
   },
   "outputs": [
    {
     "name": "stdout",
     "output_type": "stream",
     "text": [
      "<class 'pandas.core.frame.DataFrame'>\n",
      "RangeIndex: 116691 entries, 0 to 116690\n",
      "Data columns (total 2 columns):\n",
      " #   Column            Non-Null Count   Dtype \n",
      "---  ------            --------------   ----- \n",
      " 0   Metadata_JCP2022  116691 non-null  object\n",
      " 1   pharmacophore_fp  116691 non-null  object\n",
      "dtypes: object(2)\n",
      "memory usage: 1.8+ MB\n"
     ]
    },
    {
     "data": {
      "text/html": [
       "<div>\n",
       "<style scoped>\n",
       "    .dataframe tbody tr th:only-of-type {\n",
       "        vertical-align: middle;\n",
       "    }\n",
       "\n",
       "    .dataframe tbody tr th {\n",
       "        vertical-align: top;\n",
       "    }\n",
       "\n",
       "    .dataframe thead th {\n",
       "        text-align: right;\n",
       "    }\n",
       "</style>\n",
       "<table border=\"1\" class=\"dataframe\">\n",
       "  <thead>\n",
       "    <tr style=\"text-align: right;\">\n",
       "      <th></th>\n",
       "      <th>Metadata_JCP2022</th>\n",
       "      <th>pharmacophore_fp</th>\n",
       "    </tr>\n",
       "  </thead>\n",
       "  <tbody>\n",
       "    <tr>\n",
       "      <th>0</th>\n",
       "      <td>JCP2022_000001</td>\n",
       "      <td>[0, 1, 1, 1, 1, 1, 1, 1, 1, 1, 0, 0, 1, 1, 0, ...</td>\n",
       "    </tr>\n",
       "    <tr>\n",
       "      <th>1</th>\n",
       "      <td>JCP2022_000002</td>\n",
       "      <td>[0, 0, 0, 1, 1, 0, 0, 1, 0, 1, 0, 0, 0, 0, 0, ...</td>\n",
       "    </tr>\n",
       "    <tr>\n",
       "      <th>2</th>\n",
       "      <td>JCP2022_000003</td>\n",
       "      <td>[0, 1, 1, 1, 0, 1, 1, 1, 1, 1, 0, 0, 0, 0, 0, ...</td>\n",
       "    </tr>\n",
       "  </tbody>\n",
       "</table>\n",
       "</div>"
      ],
      "text/plain": [
       "  Metadata_JCP2022                                   pharmacophore_fp\n",
       "0   JCP2022_000001  [0, 1, 1, 1, 1, 1, 1, 1, 1, 1, 0, 0, 1, 1, 0, ...\n",
       "1   JCP2022_000002  [0, 0, 0, 1, 1, 0, 0, 1, 0, 1, 0, 0, 0, 0, 0, ...\n",
       "2   JCP2022_000003  [0, 1, 1, 1, 0, 1, 1, 1, 1, 1, 0, 0, 0, 0, 0, ..."
      ]
     },
     "execution_count": 777,
     "metadata": {},
     "output_type": "execute_result"
    },
    {
     "data": {
      "text/html": [
       "<div>\n",
       "<style scoped>\n",
       "    .dataframe tbody tr th:only-of-type {\n",
       "        vertical-align: middle;\n",
       "    }\n",
       "\n",
       "    .dataframe tbody tr th {\n",
       "        vertical-align: top;\n",
       "    }\n",
       "\n",
       "    .dataframe thead th {\n",
       "        text-align: right;\n",
       "    }\n",
       "</style>\n",
       "<table border=\"1\" class=\"dataframe\">\n",
       "  <thead>\n",
       "    <tr style=\"text-align: right;\">\n",
       "      <th></th>\n",
       "      <th>Metadata_JCP2022</th>\n",
       "      <th>pharmacophore_fp</th>\n",
       "    </tr>\n",
       "  </thead>\n",
       "  <tbody>\n",
       "    <tr>\n",
       "      <th>116688</th>\n",
       "      <td>JCP2022_116751</td>\n",
       "      <td>[0, 1, 1, 1, 0, 1, 0, 1, 1, 1, 0, 0, 0, 0, 0, ...</td>\n",
       "    </tr>\n",
       "    <tr>\n",
       "      <th>116689</th>\n",
       "      <td>JCP2022_116752</td>\n",
       "      <td>[1, 1, 1, 1, 1, 1, 1, 1, 1, 1, 0, 0, 0, 0, 0, ...</td>\n",
       "    </tr>\n",
       "    <tr>\n",
       "      <th>116690</th>\n",
       "      <td>JCP2022_116753</td>\n",
       "      <td>[0, 1, 1, 0, 0, 1, 1, 0, 1, 0, 0, 0, 0, 1, 0, ...</td>\n",
       "    </tr>\n",
       "  </tbody>\n",
       "</table>\n",
       "</div>"
      ],
      "text/plain": [
       "       Metadata_JCP2022                                   pharmacophore_fp\n",
       "116688   JCP2022_116751  [0, 1, 1, 1, 0, 1, 0, 1, 1, 1, 0, 0, 0, 0, 0, ...\n",
       "116689   JCP2022_116752  [1, 1, 1, 1, 1, 1, 1, 1, 1, 1, 0, 0, 0, 0, 0, ...\n",
       "116690   JCP2022_116753  [0, 1, 1, 0, 0, 1, 1, 0, 1, 0, 0, 0, 0, 1, 0, ..."
      ]
     },
     "execution_count": 777,
     "metadata": {},
     "output_type": "execute_result"
    },
    {
     "name": "stdout",
     "output_type": "stream",
     "text": [
      " Number of rows with NaN fingerprint: 0\n"
     ]
    }
   ],
   "source": [
    "df.info()\n",
    "df.head(3)\n",
    "df.tail(3)\n",
    "# type(df.loc[0][1])\n",
    "\n",
    "df_nan = df[df['pharmacophore_fp'].isna()]\n",
    "print(f\" Number of rows with NaN fingerprint: {len(df_nan)}\")\n",
    " "
   ]
  },
  {
   "cell_type": "markdown",
   "id": "34ceccdd-ea26-4ff6-9c75-858f7cc7c930",
   "metadata": {
    "jp-MarkdownHeadingCollapsed": true
   },
   "source": [
    "### Convert rdkit SparseBitVect to CSR Sparse and then Dense Numpy"
   ]
  },
  {
   "cell_type": "code",
   "execution_count": 736,
   "id": "136359b7-8883-41bf-b624-73b27a8ef1d3",
   "metadata": {
    "ExecuteTime": {
     "end_time": "2023-05-29T12:29:24.555236Z",
     "start_time": "2023-05-29T12:28:34.249451Z"
    },
    "execution": {
     "iopub.execute_input": "2024-10-22T17:20:36.815427Z",
     "iopub.status.busy": "2024-10-22T17:20:36.814812Z",
     "iopub.status.idle": "2024-10-22T17:22:43.860078Z",
     "shell.execute_reply": "2024-10-22T17:22:43.859327Z",
     "shell.execute_reply.started": "2024-10-22T17:20:36.815385Z"
    }
   },
   "outputs": [
    {
     "name": "stdout",
     "output_type": "stream",
     "text": [
      "--------------------------------------------------------------------------------\n",
      " 19:20:36.873010 | chunk_id: 0 chunk_sz: 10000  - from 0 to 10000\n",
      "--------------------------------------------------------------------------------\n",
      "                                          Total Read :  10000      \n",
      " rows with No fingerprint computed                   :      0 \n",
      " rows with with valid Fingerprint                    :  10000   \n",
      "                                               Total :  10000\n",
      "--------------------------------------------------------------------------------\n",
      " 19:20:47.832069 | chunk_id: 0 | Process end \n",
      "--------------------------------------------------------------------------------\n",
      "\n",
      " compounds: 10000  csr_out: (10000, 1033)\n",
      " 19:20:47.854451 | output_ctr: 10000 - dense_mat: <class 'pandas.core.frame.DataFrame'>  dense_mat : (10000, 1033)\n",
      "--------------------------------------------------------------------------------\n",
      " 19:20:47.854544 | chunk_id: 1 chunk_sz: 10000  - from 10000 to 20000\n",
      "--------------------------------------------------------------------------------\n",
      "                                          Total Read :  10000      \n",
      " rows with No fingerprint computed                   :      0 \n",
      " rows with with valid Fingerprint                    :  10000   \n",
      "                                               Total :  10000\n",
      "--------------------------------------------------------------------------------\n",
      " 19:20:58.834182 | chunk_id: 1 | Process end \n",
      "--------------------------------------------------------------------------------\n",
      "\n",
      " 19:20:58.884487 | output_ctr: 10000 - dense_mat: <class 'pandas.core.frame.DataFrame'>  dense_mat : (20000, 1033)\n",
      "--------------------------------------------------------------------------------\n",
      " 19:20:58.884575 | chunk_id: 2 chunk_sz: 10000  - from 20000 to 30000\n",
      "--------------------------------------------------------------------------------\n",
      "                                          Total Read :  10000      \n",
      " rows with No fingerprint computed                   :      0 \n",
      " rows with with valid Fingerprint                    :  10000   \n",
      "                                               Total :  10000\n",
      "--------------------------------------------------------------------------------\n",
      " 19:21:09.904091 | chunk_id: 2 | Process end \n",
      "--------------------------------------------------------------------------------\n",
      "\n",
      " 19:21:09.932838 | output_ctr: 10000 - dense_mat: <class 'pandas.core.frame.DataFrame'>  dense_mat : (30000, 1033)\n",
      "--------------------------------------------------------------------------------\n",
      " 19:21:09.932934 | chunk_id: 3 chunk_sz: 10000  - from 30000 to 40000\n",
      "--------------------------------------------------------------------------------\n",
      "                                          Total Read :  10000      \n",
      " rows with No fingerprint computed                   :      0 \n",
      " rows with with valid Fingerprint                    :  10000   \n",
      "                                               Total :  10000\n",
      "--------------------------------------------------------------------------------\n",
      " 19:21:20.791370 | chunk_id: 3 | Process end \n",
      "--------------------------------------------------------------------------------\n",
      "\n",
      " 19:21:20.942020 | output_ctr: 10000 - dense_mat: <class 'pandas.core.frame.DataFrame'>  dense_mat : (40000, 1033)\n",
      "--------------------------------------------------------------------------------\n",
      " 19:21:20.942114 | chunk_id: 4 chunk_sz: 10000  - from 40000 to 50000\n",
      "--------------------------------------------------------------------------------\n",
      "                                          Total Read :  10000      \n",
      " rows with No fingerprint computed                   :      0 \n",
      " rows with with valid Fingerprint                    :  10000   \n",
      "                                               Total :  10000\n",
      "--------------------------------------------------------------------------------\n",
      " 19:21:31.885218 | chunk_id: 4 | Process end \n",
      "--------------------------------------------------------------------------------\n",
      "\n",
      " 19:21:31.963216 | output_ctr: 10000 - dense_mat: <class 'pandas.core.frame.DataFrame'>  dense_mat : (50000, 1033)\n",
      "--------------------------------------------------------------------------------\n",
      " 19:21:31.963335 | chunk_id: 5 chunk_sz: 10000  - from 50000 to 60000\n",
      "--------------------------------------------------------------------------------\n",
      "                                          Total Read :  10000      \n",
      " rows with No fingerprint computed                   :      0 \n",
      " rows with with valid Fingerprint                    :  10000   \n",
      "                                               Total :  10000\n",
      "--------------------------------------------------------------------------------\n",
      " 19:21:42.938575 | chunk_id: 5 | Process end \n",
      "--------------------------------------------------------------------------------\n",
      "\n",
      " 19:21:43.034122 | output_ctr: 10000 - dense_mat: <class 'pandas.core.frame.DataFrame'>  dense_mat : (60000, 1033)\n",
      "--------------------------------------------------------------------------------\n",
      " 19:21:43.034216 | chunk_id: 6 chunk_sz: 10000  - from 60000 to 70000\n",
      "--------------------------------------------------------------------------------\n",
      "                                          Total Read :  10000      \n",
      " rows with No fingerprint computed                   :      0 \n",
      " rows with with valid Fingerprint                    :  10000   \n",
      "                                               Total :  10000\n",
      "--------------------------------------------------------------------------------\n",
      " 19:21:53.801918 | chunk_id: 6 | Process end \n",
      "--------------------------------------------------------------------------------\n",
      "\n",
      " 19:21:53.892139 | output_ctr: 10000 - dense_mat: <class 'pandas.core.frame.DataFrame'>  dense_mat : (70000, 1033)\n",
      "--------------------------------------------------------------------------------\n",
      " 19:21:53.892239 | chunk_id: 7 chunk_sz: 10000  - from 70000 to 80000\n",
      "--------------------------------------------------------------------------------\n",
      "                                          Total Read :  10000      \n",
      " rows with No fingerprint computed                   :      0 \n",
      " rows with with valid Fingerprint                    :  10000   \n",
      "                                               Total :  10000\n",
      "--------------------------------------------------------------------------------\n",
      " 19:22:04.727053 | chunk_id: 7 | Process end \n",
      "--------------------------------------------------------------------------------\n",
      "\n",
      " 19:22:04.920820 | output_ctr: 10000 - dense_mat: <class 'pandas.core.frame.DataFrame'>  dense_mat : (80000, 1033)\n",
      "--------------------------------------------------------------------------------\n",
      " 19:22:04.920911 | chunk_id: 8 chunk_sz: 10000  - from 80000 to 90000\n",
      "--------------------------------------------------------------------------------\n",
      "                                          Total Read :  10000      \n",
      " rows with No fingerprint computed                   :      0 \n",
      " rows with with valid Fingerprint                    :  10000   \n",
      "                                               Total :  10000\n",
      "--------------------------------------------------------------------------------\n",
      " 19:22:15.962285 | chunk_id: 8 | Process end \n",
      "--------------------------------------------------------------------------------\n",
      "\n",
      " 19:22:16.077075 | output_ctr: 10000 - dense_mat: <class 'pandas.core.frame.DataFrame'>  dense_mat : (90000, 1033)\n",
      "--------------------------------------------------------------------------------\n",
      " 19:22:16.077208 | chunk_id: 9 chunk_sz: 10000  - from 90000 to 100000\n",
      "--------------------------------------------------------------------------------\n",
      "                                          Total Read :  10000      \n",
      " rows with No fingerprint computed                   :      0 \n",
      " rows with with valid Fingerprint                    :  10000   \n",
      "                                               Total :  10000\n",
      "--------------------------------------------------------------------------------\n",
      " 19:22:27.033075 | chunk_id: 9 | Process end \n",
      "--------------------------------------------------------------------------------\n",
      "\n",
      " 19:22:27.156658 | output_ctr: 10000 - dense_mat: <class 'pandas.core.frame.DataFrame'>  dense_mat : (100000, 1033)\n",
      "--------------------------------------------------------------------------------\n",
      " 19:22:27.156761 | chunk_id: 10 chunk_sz: 10000  - from 100000 to 110000\n",
      "--------------------------------------------------------------------------------\n",
      "                                          Total Read :  10000      \n",
      " rows with No fingerprint computed                   :      0 \n",
      " rows with with valid Fingerprint                    :  10000   \n",
      "                                               Total :  10000\n",
      "--------------------------------------------------------------------------------\n",
      " 19:22:37.981634 | chunk_id: 10 | Process end \n",
      "--------------------------------------------------------------------------------\n",
      "\n",
      " 19:22:38.119394 | output_ctr: 10000 - dense_mat: <class 'pandas.core.frame.DataFrame'>  dense_mat : (110000, 1033)\n",
      "--------------------------------------------------------------------------------\n",
      " 19:22:38.119491 | chunk_id: 11 chunk_sz: 10000  - from 110000 to 120000\n",
      "--------------------------------------------------------------------------------\n",
      "                                          Total Read :   6691      \n",
      " rows with No fingerprint computed                   :      0 \n",
      " rows with with valid Fingerprint                    :   6691   \n",
      "                                               Total :   6691\n",
      "--------------------------------------------------------------------------------\n",
      " 19:22:43.715778 | chunk_id: 11 | Process end \n",
      "--------------------------------------------------------------------------------\n",
      "\n",
      " 19:22:43.852705 | output_ctr: 6691 - dense_mat: <class 'pandas.core.frame.DataFrame'>  dense_mat : (116691, 1033)\n"
     ]
    }
   ],
   "source": [
    "start, end  = 0, 0\n",
    "chunk_size = 10000\n",
    "try:\n",
    "    del dense_mat\n",
    "except Exception as e:\n",
    "    pass\n",
    "    \n",
    "for chunk_index in range(0, 12, 1):\n",
    "    fprints, output_ctr, compounds = fingerprint_to_sparse_matrix(df, chunk_index, chunk_size = chunk_size,  ncols=1032)\n",
    "    if chunk_index == 0:\n",
    "        print(f\" compounds: {len(compounds)}  csr_out: {fprints.shape}\")\n",
    "        dense_mat = fprints\n",
    "        # compounds_mat = compounds\n",
    "        # dense_mat = csr_out.todense();\n",
    "        # dense_mat = np.ma.concatenate([compounds, csr_out.todense()]);\n",
    "       \n",
    "    else:\n",
    "        # dense_mat = np.concatenate([dense_mat, csr_out.todense()]);\n",
    "        # tmp =  np.ma.hstack([compounds, csr_out.todense()]);\n",
    "        dense_mat = pd.concat([dense_mat, fprints]);\n",
    "    # print(f\" {datetime.now().strftime('%X.%f')} | output_ctr: {output_ctr} - csr_out: {type(csr_out)}   {csr_out.shape}\" )\n",
    "    print(f\" {datetime.now().strftime('%X.%f')} | output_ctr: {output_ctr} - dense_mat: {type(dense_mat)}  dense_mat : {dense_mat.shape}\" )\n",
    " "
   ]
  },
  {
   "cell_type": "code",
   "execution_count": 737,
   "id": "4b94fdb4-dbd1-4f57-b74c-50005e3ed05f",
   "metadata": {
    "ExecuteTime": {
     "end_time": "2023-05-29T12:32:27.308848Z",
     "start_time": "2023-05-29T12:32:27.173981Z"
    },
    "execution": {
     "iopub.execute_input": "2024-10-22T17:23:02.245578Z",
     "iopub.status.busy": "2024-10-22T17:23:02.244990Z",
     "iopub.status.idle": "2024-10-22T17:23:02.435749Z",
     "shell.execute_reply": "2024-10-22T17:23:02.435204Z",
     "shell.execute_reply.started": "2024-10-22T17:23:02.245534Z"
    }
   },
   "outputs": [
    {
     "name": "stdout",
     "output_type": "stream",
     "text": [
      " 19:23:02.304104 | output_ctr: 6691 - dense_mat: <class 'pandas.core.frame.DataFrame'>  dense_mat : (116691, 1033)\n",
      "<class 'pandas.core.frame.DataFrame'>\n",
      "Index: 116691 entries, 0 to 6690\n",
      "Columns: 1033 entries, 0 to Metadata_JCP2022\n",
      "dtypes: object(1), uint16(1032)\n",
      "memory usage: 231.5+ MB\n"
     ]
    },
    {
     "data": {
      "text/html": [
       "<div>\n",
       "<style scoped>\n",
       "    .dataframe tbody tr th:only-of-type {\n",
       "        vertical-align: middle;\n",
       "    }\n",
       "\n",
       "    .dataframe tbody tr th {\n",
       "        vertical-align: top;\n",
       "    }\n",
       "\n",
       "    .dataframe thead th {\n",
       "        text-align: right;\n",
       "    }\n",
       "</style>\n",
       "<table border=\"1\" class=\"dataframe\">\n",
       "  <thead>\n",
       "    <tr style=\"text-align: right;\">\n",
       "      <th></th>\n",
       "      <th>0</th>\n",
       "      <th>1</th>\n",
       "      <th>2</th>\n",
       "      <th>3</th>\n",
       "      <th>4</th>\n",
       "      <th>5</th>\n",
       "      <th>6</th>\n",
       "      <th>7</th>\n",
       "      <th>8</th>\n",
       "      <th>9</th>\n",
       "      <th>...</th>\n",
       "      <th>1023</th>\n",
       "      <th>1024</th>\n",
       "      <th>1025</th>\n",
       "      <th>1026</th>\n",
       "      <th>1027</th>\n",
       "      <th>1028</th>\n",
       "      <th>1029</th>\n",
       "      <th>1030</th>\n",
       "      <th>1031</th>\n",
       "      <th>Metadata_JCP2022</th>\n",
       "    </tr>\n",
       "  </thead>\n",
       "  <tbody>\n",
       "    <tr>\n",
       "      <th>0</th>\n",
       "      <td>0</td>\n",
       "      <td>1</td>\n",
       "      <td>1</td>\n",
       "      <td>1</td>\n",
       "      <td>1</td>\n",
       "      <td>1</td>\n",
       "      <td>1</td>\n",
       "      <td>1</td>\n",
       "      <td>1</td>\n",
       "      <td>1</td>\n",
       "      <td>...</td>\n",
       "      <td>0</td>\n",
       "      <td>0</td>\n",
       "      <td>0</td>\n",
       "      <td>0</td>\n",
       "      <td>0</td>\n",
       "      <td>0</td>\n",
       "      <td>0</td>\n",
       "      <td>0</td>\n",
       "      <td>0</td>\n",
       "      <td>JCP2022_000001</td>\n",
       "    </tr>\n",
       "    <tr>\n",
       "      <th>1</th>\n",
       "      <td>0</td>\n",
       "      <td>0</td>\n",
       "      <td>0</td>\n",
       "      <td>1</td>\n",
       "      <td>1</td>\n",
       "      <td>0</td>\n",
       "      <td>0</td>\n",
       "      <td>1</td>\n",
       "      <td>0</td>\n",
       "      <td>1</td>\n",
       "      <td>...</td>\n",
       "      <td>0</td>\n",
       "      <td>0</td>\n",
       "      <td>0</td>\n",
       "      <td>0</td>\n",
       "      <td>0</td>\n",
       "      <td>0</td>\n",
       "      <td>0</td>\n",
       "      <td>0</td>\n",
       "      <td>0</td>\n",
       "      <td>JCP2022_000002</td>\n",
       "    </tr>\n",
       "    <tr>\n",
       "      <th>2</th>\n",
       "      <td>0</td>\n",
       "      <td>1</td>\n",
       "      <td>1</td>\n",
       "      <td>1</td>\n",
       "      <td>0</td>\n",
       "      <td>1</td>\n",
       "      <td>1</td>\n",
       "      <td>1</td>\n",
       "      <td>1</td>\n",
       "      <td>1</td>\n",
       "      <td>...</td>\n",
       "      <td>0</td>\n",
       "      <td>0</td>\n",
       "      <td>0</td>\n",
       "      <td>0</td>\n",
       "      <td>0</td>\n",
       "      <td>0</td>\n",
       "      <td>0</td>\n",
       "      <td>0</td>\n",
       "      <td>0</td>\n",
       "      <td>JCP2022_000003</td>\n",
       "    </tr>\n",
       "    <tr>\n",
       "      <th>3</th>\n",
       "      <td>1</td>\n",
       "      <td>1</td>\n",
       "      <td>1</td>\n",
       "      <td>0</td>\n",
       "      <td>0</td>\n",
       "      <td>1</td>\n",
       "      <td>0</td>\n",
       "      <td>1</td>\n",
       "      <td>0</td>\n",
       "      <td>0</td>\n",
       "      <td>...</td>\n",
       "      <td>0</td>\n",
       "      <td>0</td>\n",
       "      <td>0</td>\n",
       "      <td>0</td>\n",
       "      <td>0</td>\n",
       "      <td>0</td>\n",
       "      <td>0</td>\n",
       "      <td>0</td>\n",
       "      <td>0</td>\n",
       "      <td>JCP2022_000004</td>\n",
       "    </tr>\n",
       "    <tr>\n",
       "      <th>4</th>\n",
       "      <td>1</td>\n",
       "      <td>1</td>\n",
       "      <td>1</td>\n",
       "      <td>1</td>\n",
       "      <td>0</td>\n",
       "      <td>1</td>\n",
       "      <td>1</td>\n",
       "      <td>1</td>\n",
       "      <td>1</td>\n",
       "      <td>1</td>\n",
       "      <td>...</td>\n",
       "      <td>0</td>\n",
       "      <td>0</td>\n",
       "      <td>0</td>\n",
       "      <td>0</td>\n",
       "      <td>0</td>\n",
       "      <td>0</td>\n",
       "      <td>0</td>\n",
       "      <td>0</td>\n",
       "      <td>0</td>\n",
       "      <td>JCP2022_000005</td>\n",
       "    </tr>\n",
       "    <tr>\n",
       "      <th>...</th>\n",
       "      <td>...</td>\n",
       "      <td>...</td>\n",
       "      <td>...</td>\n",
       "      <td>...</td>\n",
       "      <td>...</td>\n",
       "      <td>...</td>\n",
       "      <td>...</td>\n",
       "      <td>...</td>\n",
       "      <td>...</td>\n",
       "      <td>...</td>\n",
       "      <td>...</td>\n",
       "      <td>...</td>\n",
       "      <td>...</td>\n",
       "      <td>...</td>\n",
       "      <td>...</td>\n",
       "      <td>...</td>\n",
       "      <td>...</td>\n",
       "      <td>...</td>\n",
       "      <td>...</td>\n",
       "      <td>...</td>\n",
       "      <td>...</td>\n",
       "    </tr>\n",
       "    <tr>\n",
       "      <th>116686</th>\n",
       "      <td>0</td>\n",
       "      <td>1</td>\n",
       "      <td>1</td>\n",
       "      <td>1</td>\n",
       "      <td>1</td>\n",
       "      <td>1</td>\n",
       "      <td>1</td>\n",
       "      <td>1</td>\n",
       "      <td>1</td>\n",
       "      <td>1</td>\n",
       "      <td>...</td>\n",
       "      <td>0</td>\n",
       "      <td>0</td>\n",
       "      <td>0</td>\n",
       "      <td>0</td>\n",
       "      <td>0</td>\n",
       "      <td>0</td>\n",
       "      <td>0</td>\n",
       "      <td>0</td>\n",
       "      <td>0</td>\n",
       "      <td>JCP2022_116749</td>\n",
       "    </tr>\n",
       "    <tr>\n",
       "      <th>116687</th>\n",
       "      <td>1</td>\n",
       "      <td>1</td>\n",
       "      <td>1</td>\n",
       "      <td>1</td>\n",
       "      <td>1</td>\n",
       "      <td>1</td>\n",
       "      <td>1</td>\n",
       "      <td>1</td>\n",
       "      <td>0</td>\n",
       "      <td>1</td>\n",
       "      <td>...</td>\n",
       "      <td>0</td>\n",
       "      <td>0</td>\n",
       "      <td>0</td>\n",
       "      <td>0</td>\n",
       "      <td>0</td>\n",
       "      <td>0</td>\n",
       "      <td>0</td>\n",
       "      <td>0</td>\n",
       "      <td>0</td>\n",
       "      <td>JCP2022_116750</td>\n",
       "    </tr>\n",
       "    <tr>\n",
       "      <th>116688</th>\n",
       "      <td>0</td>\n",
       "      <td>1</td>\n",
       "      <td>1</td>\n",
       "      <td>1</td>\n",
       "      <td>0</td>\n",
       "      <td>1</td>\n",
       "      <td>0</td>\n",
       "      <td>1</td>\n",
       "      <td>1</td>\n",
       "      <td>1</td>\n",
       "      <td>...</td>\n",
       "      <td>0</td>\n",
       "      <td>0</td>\n",
       "      <td>0</td>\n",
       "      <td>0</td>\n",
       "      <td>0</td>\n",
       "      <td>0</td>\n",
       "      <td>0</td>\n",
       "      <td>0</td>\n",
       "      <td>0</td>\n",
       "      <td>JCP2022_116751</td>\n",
       "    </tr>\n",
       "    <tr>\n",
       "      <th>116689</th>\n",
       "      <td>1</td>\n",
       "      <td>1</td>\n",
       "      <td>1</td>\n",
       "      <td>1</td>\n",
       "      <td>1</td>\n",
       "      <td>1</td>\n",
       "      <td>1</td>\n",
       "      <td>1</td>\n",
       "      <td>1</td>\n",
       "      <td>1</td>\n",
       "      <td>...</td>\n",
       "      <td>0</td>\n",
       "      <td>0</td>\n",
       "      <td>0</td>\n",
       "      <td>0</td>\n",
       "      <td>0</td>\n",
       "      <td>0</td>\n",
       "      <td>0</td>\n",
       "      <td>0</td>\n",
       "      <td>0</td>\n",
       "      <td>JCP2022_116752</td>\n",
       "    </tr>\n",
       "    <tr>\n",
       "      <th>116690</th>\n",
       "      <td>0</td>\n",
       "      <td>1</td>\n",
       "      <td>1</td>\n",
       "      <td>0</td>\n",
       "      <td>0</td>\n",
       "      <td>1</td>\n",
       "      <td>1</td>\n",
       "      <td>0</td>\n",
       "      <td>1</td>\n",
       "      <td>0</td>\n",
       "      <td>...</td>\n",
       "      <td>0</td>\n",
       "      <td>0</td>\n",
       "      <td>0</td>\n",
       "      <td>0</td>\n",
       "      <td>0</td>\n",
       "      <td>0</td>\n",
       "      <td>0</td>\n",
       "      <td>0</td>\n",
       "      <td>0</td>\n",
       "      <td>JCP2022_116753</td>\n",
       "    </tr>\n",
       "  </tbody>\n",
       "</table>\n",
       "<p>116691 rows × 1033 columns</p>\n",
       "</div>"
      ],
      "text/plain": [
       "        0  1  2  3  4  5  6  7  8  9  ...  1023  1024  1025  1026  1027  1028  1029  1030  1031  Metadata_JCP2022\n",
       "0       0  1  1  1  1  1  1  1  1  1  ...     0     0     0     0     0     0     0     0     0    JCP2022_000001\n",
       "1       0  0  0  1  1  0  0  1  0  1  ...     0     0     0     0     0     0     0     0     0    JCP2022_000002\n",
       "2       0  1  1  1  0  1  1  1  1  1  ...     0     0     0     0     0     0     0     0     0    JCP2022_000003\n",
       "3       1  1  1  0  0  1  0  1  0  0  ...     0     0     0     0     0     0     0     0     0    JCP2022_000004\n",
       "4       1  1  1  1  0  1  1  1  1  1  ...     0     0     0     0     0     0     0     0     0    JCP2022_000005\n",
       "...    .. .. .. .. .. .. .. .. .. ..  ...   ...   ...   ...   ...   ...   ...   ...   ...   ...               ...\n",
       "116686  0  1  1  1  1  1  1  1  1  1  ...     0     0     0     0     0     0     0     0     0    JCP2022_116749\n",
       "116687  1  1  1  1  1  1  1  1  0  1  ...     0     0     0     0     0     0     0     0     0    JCP2022_116750\n",
       "116688  0  1  1  1  0  1  0  1  1  1  ...     0     0     0     0     0     0     0     0     0    JCP2022_116751\n",
       "116689  1  1  1  1  1  1  1  1  1  1  ...     0     0     0     0     0     0     0     0     0    JCP2022_116752\n",
       "116690  0  1  1  0  0  1  1  0  1  0  ...     0     0     0     0     0     0     0     0     0    JCP2022_116753\n",
       "\n",
       "[116691 rows x 1033 columns]"
      ]
     },
     "execution_count": 737,
     "metadata": {},
     "output_type": "execute_result"
    }
   ],
   "source": [
    "# print(f\" {datetime.now().strftime('%X.%f')} | output_ctr: {output_ctr} - csr_out: {type(csr_out)}   {csr_out.shape}\" )\n",
    "# print(f\" Dense matrix - shape: {csr_out.shape}  type:  {type(csr_out)}\")\n",
    "print(f\" {datetime.now().strftime('%X.%f')} | output_ctr: {output_ctr} - dense_mat: {type(dense_mat)}  dense_mat : {dense_mat.shape}\" )\n",
    "dense_mat.info()\n",
    "# dense_mat\n",
    "dense_mat.reset_index(drop=True, inplace = True)\n",
    "# dense_mat.set_index(inplace = True)\n",
    "dense_mat"
   ]
  },
  {
   "cell_type": "code",
   "execution_count": null,
   "id": "d12b554d-cd70-4cc3-94ad-a0290e7641fa",
   "metadata": {
    "execution": {
     "iopub.execute_input": "2024-10-22T17:33:01.866988Z",
     "iopub.status.busy": "2024-10-22T17:33:01.866411Z",
     "iopub.status.idle": "2024-10-22T17:33:02.857808Z",
     "shell.execute_reply": "2024-10-22T17:33:02.857248Z",
     "shell.execute_reply.started": "2024-10-22T17:33:01.866947Z"
    }
   },
   "outputs": [],
   "source": [
    "new_order = [dense_mat.columns[-1]]\n",
    "new_order += dense_mat.columns[:-1].tolist()\n",
    "# new_order\n",
    "dense_mat = dense_mat[new_order]"
   ]
  },
  {
   "cell_type": "code",
   "execution_count": 778,
   "id": "231f9c2f-11e6-4663-841b-25b7309f1307",
   "metadata": {
    "execution": {
     "iopub.execute_input": "2024-10-22T18:01:28.188074Z",
     "iopub.status.busy": "2024-10-22T18:01:28.187600Z",
     "iopub.status.idle": "2024-10-22T18:01:28.327027Z",
     "shell.execute_reply": "2024-10-22T18:01:28.326475Z",
     "shell.execute_reply.started": "2024-10-22T18:01:28.188032Z"
    }
   },
   "outputs": [
    {
     "data": {
      "text/html": [
       "<div>\n",
       "<style scoped>\n",
       "    .dataframe tbody tr th:only-of-type {\n",
       "        vertical-align: middle;\n",
       "    }\n",
       "\n",
       "    .dataframe tbody tr th {\n",
       "        vertical-align: top;\n",
       "    }\n",
       "\n",
       "    .dataframe thead th {\n",
       "        text-align: right;\n",
       "    }\n",
       "</style>\n",
       "<table border=\"1\" class=\"dataframe\">\n",
       "  <thead>\n",
       "    <tr style=\"text-align: right;\">\n",
       "      <th></th>\n",
       "      <th>Metadata_JCP2022</th>\n",
       "      <th>0</th>\n",
       "      <th>1</th>\n",
       "      <th>2</th>\n",
       "      <th>3</th>\n",
       "      <th>4</th>\n",
       "      <th>5</th>\n",
       "      <th>6</th>\n",
       "      <th>7</th>\n",
       "      <th>8</th>\n",
       "      <th>...</th>\n",
       "      <th>1022</th>\n",
       "      <th>1023</th>\n",
       "      <th>1024</th>\n",
       "      <th>1025</th>\n",
       "      <th>1026</th>\n",
       "      <th>1027</th>\n",
       "      <th>1028</th>\n",
       "      <th>1029</th>\n",
       "      <th>1030</th>\n",
       "      <th>1031</th>\n",
       "    </tr>\n",
       "  </thead>\n",
       "  <tbody>\n",
       "    <tr>\n",
       "      <th>0</th>\n",
       "      <td>JCP2022_000001</td>\n",
       "      <td>0</td>\n",
       "      <td>1</td>\n",
       "      <td>1</td>\n",
       "      <td>1</td>\n",
       "      <td>1</td>\n",
       "      <td>1</td>\n",
       "      <td>1</td>\n",
       "      <td>1</td>\n",
       "      <td>1</td>\n",
       "      <td>...</td>\n",
       "      <td>0</td>\n",
       "      <td>0</td>\n",
       "      <td>0</td>\n",
       "      <td>0</td>\n",
       "      <td>0</td>\n",
       "      <td>0</td>\n",
       "      <td>0</td>\n",
       "      <td>0</td>\n",
       "      <td>0</td>\n",
       "      <td>0</td>\n",
       "    </tr>\n",
       "    <tr>\n",
       "      <th>1</th>\n",
       "      <td>JCP2022_000002</td>\n",
       "      <td>0</td>\n",
       "      <td>0</td>\n",
       "      <td>0</td>\n",
       "      <td>1</td>\n",
       "      <td>1</td>\n",
       "      <td>0</td>\n",
       "      <td>0</td>\n",
       "      <td>1</td>\n",
       "      <td>0</td>\n",
       "      <td>...</td>\n",
       "      <td>0</td>\n",
       "      <td>0</td>\n",
       "      <td>0</td>\n",
       "      <td>0</td>\n",
       "      <td>0</td>\n",
       "      <td>0</td>\n",
       "      <td>0</td>\n",
       "      <td>0</td>\n",
       "      <td>0</td>\n",
       "      <td>0</td>\n",
       "    </tr>\n",
       "    <tr>\n",
       "      <th>2</th>\n",
       "      <td>JCP2022_000003</td>\n",
       "      <td>0</td>\n",
       "      <td>1</td>\n",
       "      <td>1</td>\n",
       "      <td>1</td>\n",
       "      <td>0</td>\n",
       "      <td>1</td>\n",
       "      <td>1</td>\n",
       "      <td>1</td>\n",
       "      <td>1</td>\n",
       "      <td>...</td>\n",
       "      <td>0</td>\n",
       "      <td>0</td>\n",
       "      <td>0</td>\n",
       "      <td>0</td>\n",
       "      <td>0</td>\n",
       "      <td>0</td>\n",
       "      <td>0</td>\n",
       "      <td>0</td>\n",
       "      <td>0</td>\n",
       "      <td>0</td>\n",
       "    </tr>\n",
       "    <tr>\n",
       "      <th>3</th>\n",
       "      <td>JCP2022_000004</td>\n",
       "      <td>1</td>\n",
       "      <td>1</td>\n",
       "      <td>1</td>\n",
       "      <td>0</td>\n",
       "      <td>0</td>\n",
       "      <td>1</td>\n",
       "      <td>0</td>\n",
       "      <td>1</td>\n",
       "      <td>0</td>\n",
       "      <td>...</td>\n",
       "      <td>0</td>\n",
       "      <td>0</td>\n",
       "      <td>0</td>\n",
       "      <td>0</td>\n",
       "      <td>0</td>\n",
       "      <td>0</td>\n",
       "      <td>0</td>\n",
       "      <td>0</td>\n",
       "      <td>0</td>\n",
       "      <td>0</td>\n",
       "    </tr>\n",
       "    <tr>\n",
       "      <th>4</th>\n",
       "      <td>JCP2022_000005</td>\n",
       "      <td>1</td>\n",
       "      <td>1</td>\n",
       "      <td>1</td>\n",
       "      <td>1</td>\n",
       "      <td>0</td>\n",
       "      <td>1</td>\n",
       "      <td>1</td>\n",
       "      <td>1</td>\n",
       "      <td>1</td>\n",
       "      <td>...</td>\n",
       "      <td>0</td>\n",
       "      <td>0</td>\n",
       "      <td>0</td>\n",
       "      <td>0</td>\n",
       "      <td>0</td>\n",
       "      <td>0</td>\n",
       "      <td>0</td>\n",
       "      <td>0</td>\n",
       "      <td>0</td>\n",
       "      <td>0</td>\n",
       "    </tr>\n",
       "    <tr>\n",
       "      <th>...</th>\n",
       "      <td>...</td>\n",
       "      <td>...</td>\n",
       "      <td>...</td>\n",
       "      <td>...</td>\n",
       "      <td>...</td>\n",
       "      <td>...</td>\n",
       "      <td>...</td>\n",
       "      <td>...</td>\n",
       "      <td>...</td>\n",
       "      <td>...</td>\n",
       "      <td>...</td>\n",
       "      <td>...</td>\n",
       "      <td>...</td>\n",
       "      <td>...</td>\n",
       "      <td>...</td>\n",
       "      <td>...</td>\n",
       "      <td>...</td>\n",
       "      <td>...</td>\n",
       "      <td>...</td>\n",
       "      <td>...</td>\n",
       "      <td>...</td>\n",
       "    </tr>\n",
       "    <tr>\n",
       "      <th>116686</th>\n",
       "      <td>JCP2022_116749</td>\n",
       "      <td>0</td>\n",
       "      <td>1</td>\n",
       "      <td>1</td>\n",
       "      <td>1</td>\n",
       "      <td>1</td>\n",
       "      <td>1</td>\n",
       "      <td>1</td>\n",
       "      <td>1</td>\n",
       "      <td>1</td>\n",
       "      <td>...</td>\n",
       "      <td>0</td>\n",
       "      <td>0</td>\n",
       "      <td>0</td>\n",
       "      <td>0</td>\n",
       "      <td>0</td>\n",
       "      <td>0</td>\n",
       "      <td>0</td>\n",
       "      <td>0</td>\n",
       "      <td>0</td>\n",
       "      <td>0</td>\n",
       "    </tr>\n",
       "    <tr>\n",
       "      <th>116687</th>\n",
       "      <td>JCP2022_116750</td>\n",
       "      <td>1</td>\n",
       "      <td>1</td>\n",
       "      <td>1</td>\n",
       "      <td>1</td>\n",
       "      <td>1</td>\n",
       "      <td>1</td>\n",
       "      <td>1</td>\n",
       "      <td>1</td>\n",
       "      <td>0</td>\n",
       "      <td>...</td>\n",
       "      <td>0</td>\n",
       "      <td>0</td>\n",
       "      <td>0</td>\n",
       "      <td>0</td>\n",
       "      <td>0</td>\n",
       "      <td>0</td>\n",
       "      <td>0</td>\n",
       "      <td>0</td>\n",
       "      <td>0</td>\n",
       "      <td>0</td>\n",
       "    </tr>\n",
       "    <tr>\n",
       "      <th>116688</th>\n",
       "      <td>JCP2022_116751</td>\n",
       "      <td>0</td>\n",
       "      <td>1</td>\n",
       "      <td>1</td>\n",
       "      <td>1</td>\n",
       "      <td>0</td>\n",
       "      <td>1</td>\n",
       "      <td>0</td>\n",
       "      <td>1</td>\n",
       "      <td>1</td>\n",
       "      <td>...</td>\n",
       "      <td>0</td>\n",
       "      <td>0</td>\n",
       "      <td>0</td>\n",
       "      <td>0</td>\n",
       "      <td>0</td>\n",
       "      <td>0</td>\n",
       "      <td>0</td>\n",
       "      <td>0</td>\n",
       "      <td>0</td>\n",
       "      <td>0</td>\n",
       "    </tr>\n",
       "    <tr>\n",
       "      <th>116689</th>\n",
       "      <td>JCP2022_116752</td>\n",
       "      <td>1</td>\n",
       "      <td>1</td>\n",
       "      <td>1</td>\n",
       "      <td>1</td>\n",
       "      <td>1</td>\n",
       "      <td>1</td>\n",
       "      <td>1</td>\n",
       "      <td>1</td>\n",
       "      <td>1</td>\n",
       "      <td>...</td>\n",
       "      <td>0</td>\n",
       "      <td>0</td>\n",
       "      <td>0</td>\n",
       "      <td>0</td>\n",
       "      <td>0</td>\n",
       "      <td>0</td>\n",
       "      <td>0</td>\n",
       "      <td>0</td>\n",
       "      <td>0</td>\n",
       "      <td>0</td>\n",
       "    </tr>\n",
       "    <tr>\n",
       "      <th>116690</th>\n",
       "      <td>JCP2022_116753</td>\n",
       "      <td>0</td>\n",
       "      <td>1</td>\n",
       "      <td>1</td>\n",
       "      <td>0</td>\n",
       "      <td>0</td>\n",
       "      <td>1</td>\n",
       "      <td>1</td>\n",
       "      <td>0</td>\n",
       "      <td>1</td>\n",
       "      <td>...</td>\n",
       "      <td>0</td>\n",
       "      <td>0</td>\n",
       "      <td>0</td>\n",
       "      <td>0</td>\n",
       "      <td>0</td>\n",
       "      <td>0</td>\n",
       "      <td>0</td>\n",
       "      <td>0</td>\n",
       "      <td>0</td>\n",
       "      <td>0</td>\n",
       "    </tr>\n",
       "  </tbody>\n",
       "</table>\n",
       "<p>116691 rows × 1033 columns</p>\n",
       "</div>"
      ],
      "text/plain": [
       "       Metadata_JCP2022  0  1  2  3  4  5  6  7  8  ...  1022  1023  1024  1025  1026  1027  1028  1029  1030  1031\n",
       "0        JCP2022_000001  0  1  1  1  1  1  1  1  1  ...     0     0     0     0     0     0     0     0     0     0\n",
       "1        JCP2022_000002  0  0  0  1  1  0  0  1  0  ...     0     0     0     0     0     0     0     0     0     0\n",
       "2        JCP2022_000003  0  1  1  1  0  1  1  1  1  ...     0     0     0     0     0     0     0     0     0     0\n",
       "3        JCP2022_000004  1  1  1  0  0  1  0  1  0  ...     0     0     0     0     0     0     0     0     0     0\n",
       "4        JCP2022_000005  1  1  1  1  0  1  1  1  1  ...     0     0     0     0     0     0     0     0     0     0\n",
       "...                 ... .. .. .. .. .. .. .. .. ..  ...   ...   ...   ...   ...   ...   ...   ...   ...   ...   ...\n",
       "116686   JCP2022_116749  0  1  1  1  1  1  1  1  1  ...     0     0     0     0     0     0     0     0     0     0\n",
       "116687   JCP2022_116750  1  1  1  1  1  1  1  1  0  ...     0     0     0     0     0     0     0     0     0     0\n",
       "116688   JCP2022_116751  0  1  1  1  0  1  0  1  1  ...     0     0     0     0     0     0     0     0     0     0\n",
       "116689   JCP2022_116752  1  1  1  1  1  1  1  1  1  ...     0     0     0     0     0     0     0     0     0     0\n",
       "116690   JCP2022_116753  0  1  1  0  0  1  1  0  1  ...     0     0     0     0     0     0     0     0     0     0\n",
       "\n",
       "[116691 rows x 1033 columns]"
      ]
     },
     "execution_count": 778,
     "metadata": {},
     "output_type": "execute_result"
    }
   ],
   "source": [
    "dense_mat "
   ]
  },
  {
   "cell_type": "code",
   "execution_count": 757,
   "id": "a3d39a26-47ed-4bdc-8c63-e040a68620f1",
   "metadata": {
    "execution": {
     "iopub.execute_input": "2024-10-22T17:46:59.044203Z",
     "iopub.status.busy": "2024-10-22T17:46:59.043733Z",
     "iopub.status.idle": "2024-10-22T17:47:09.319425Z",
     "shell.execute_reply": "2024-10-22T17:47:09.318603Z",
     "shell.execute_reply.started": "2024-10-22T17:46:59.044162Z"
    }
   },
   "outputs": [],
   "source": [
    "dense_mat_sum = dense_mat.sum()"
   ]
  },
  {
   "cell_type": "code",
   "execution_count": 758,
   "id": "89e91d0b-2813-4cfb-8969-a57a11f1b055",
   "metadata": {
    "execution": {
     "iopub.execute_input": "2024-10-22T17:47:09.320919Z",
     "iopub.status.busy": "2024-10-22T17:47:09.320715Z",
     "iopub.status.idle": "2024-10-22T17:47:09.363064Z",
     "shell.execute_reply": "2024-10-22T17:47:09.362596Z",
     "shell.execute_reply.started": "2024-10-22T17:47:09.320899Z"
    }
   },
   "outputs": [
    {
     "data": {
      "text/plain": [
       "1033"
      ]
     },
     "execution_count": 758,
     "metadata": {},
     "output_type": "execute_result"
    },
    {
     "data": {
      "text/plain": [
       "Metadata_JCP2022    JCP2022_000001JCP2022_000002JCP2022_000003JCP2...\n",
       "0                                                               59721\n",
       "1                                                               98057\n",
       "2                                                               98115\n",
       "3                                                              106899\n",
       "4                                                               61994\n",
       "5                                                               95726\n",
       "6                                                               94827\n",
       "7                                                              107369\n",
       "8                                                               83494\n",
       "dtype: object"
      ]
     },
     "execution_count": 758,
     "metadata": {},
     "output_type": "execute_result"
    },
    {
     "data": {
      "text/plain": [
       "1022    6\n",
       "1023    7\n",
       "1024    5\n",
       "1025    0\n",
       "1026    0\n",
       "1027    0\n",
       "1028    2\n",
       "1029    0\n",
       "1030    9\n",
       "1031    3\n",
       "dtype: object"
      ]
     },
     "execution_count": 758,
     "metadata": {},
     "output_type": "execute_result"
    },
    {
     "data": {
      "text/plain": [
       "499     1352\n",
       "500      119\n",
       "501     1036\n",
       "502     1557\n",
       "503     1160\n",
       "504      281\n",
       "505     5513\n",
       "506        0\n",
       "507        0\n",
       "508     1897\n",
       "509    12261\n",
       "510     4212\n",
       "511     4734\n",
       "512        6\n",
       "513      667\n",
       "514      429\n",
       "515      474\n",
       "516        0\n",
       "517      770\n",
       "518      727\n",
       "dtype: object"
      ]
     },
     "execution_count": 758,
     "metadata": {},
     "output_type": "execute_result"
    }
   ],
   "source": [
    "len(dense_mat_sum)\n",
    "dense_mat_sum[:10]\n",
    "dense_mat_sum[-10:]\n",
    "dense_mat_sum[500:520]"
   ]
  },
  {
   "cell_type": "code",
   "execution_count": 779,
   "id": "d5d8de5e-f315-40d3-987e-fb625f0d12f1",
   "metadata": {
    "ExecuteTime": {
     "end_time": "2023-05-29T12:32:31.323822Z",
     "start_time": "2023-05-29T12:32:31.297596Z"
    },
    "execution": {
     "iopub.execute_input": "2024-10-22T18:02:16.055780Z",
     "iopub.status.busy": "2024-10-22T18:02:16.055479Z",
     "iopub.status.idle": "2024-10-22T18:02:16.090248Z",
     "shell.execute_reply": "2024-10-22T18:02:16.089598Z",
     "shell.execute_reply.started": "2024-10-22T18:02:16.055758Z"
    }
   },
   "outputs": [
    {
     "name": "stdout",
     "output_type": "stream",
     "text": [
      " compound Pharmacophore Sparse File       : ./output_10162024/compound_pharmacophores_sparse.pkl\n",
      " Selected Pharmacophore CSV    File       : ./output_10162024/compound_pharmacophores.csv\n"
     ]
    }
   ],
   "source": [
    "print(f\" compound Pharmacophore Sparse File       : {ds.compoundPharmacophoreSparseFile}\")\n",
    "print(f\" Selected Pharmacophore CSV    File       : {ds.compoundPharmacophoreCSVFile}\")\n",
    "# print(f\" compound Pharmacophore NumPy File        : {ds.compoundPharmacophoreNumPyFile}\")\n",
    "# print(f\" compound Pharmacophore NumPy Zipped File : {ds.compoundPharmacophoreNumPyZipFile}\")\n"
   ]
  },
  {
   "cell_type": "code",
   "execution_count": 772,
   "id": "2290ce5a-b4d4-4e28-b4d5-6467b283b765",
   "metadata": {
    "execution": {
     "iopub.execute_input": "2024-10-22T17:58:55.058085Z",
     "iopub.status.busy": "2024-10-22T17:58:55.057606Z",
     "iopub.status.idle": "2024-10-22T17:59:12.559829Z",
     "shell.execute_reply": "2024-10-22T17:59:12.559095Z",
     "shell.execute_reply.started": "2024-10-22T17:58:55.058043Z"
    }
   },
   "outputs": [],
   "source": [
    "dense_mat.to_csv(ds.compoundPharmacophoreCSVFile, header = True, index = False)"
   ]
  },
  {
   "cell_type": "markdown",
   "id": "ff1a050a-cf9c-4922-b574-80f43aba6a36",
   "metadata": {},
   "source": []
  },
  {
   "cell_type": "code",
   "execution_count": null,
   "id": "a9b23661-b6f4-44b8-b9f5-c24435fa9381",
   "metadata": {
    "ExecuteTime": {
     "end_time": "2023-05-29T12:32:54.185283Z",
     "start_time": "2023-05-29T12:32:51.717157Z"
    },
    "execution": {
     "iopub.execute_input": "2024-10-21T16:40:04.808114Z",
     "iopub.status.busy": "2024-10-21T16:40:04.807646Z",
     "iopub.status.idle": "2024-10-21T16:40:08.762074Z",
     "shell.execute_reply": "2024-10-21T16:40:08.760967Z",
     "shell.execute_reply.started": "2024-10-21T16:40:04.808074Z"
    }
   },
   "outputs": [],
   "source": [
    "# np.save(ds.compoundPharmacophoreDenseFile, dense_mat)\n",
    "# np.savez_compressed(ds.compoundPharmacophoreDenseZipFile, dense_mat = dense_mat)"
   ]
  },
  {
   "cell_type": "markdown",
   "id": "70f15042-aa3d-4352-9b56-48340dbbf158",
   "metadata": {
    "heading_collapsed": true,
    "jp-MarkdownHeadingCollapsed": true
   },
   "source": [
    "### Reread and verify zipped dense matrix"
   ]
  },
  {
   "cell_type": "code",
   "execution_count": 300,
   "id": "61252ace-b514-4835-8269-f06337c0f33a",
   "metadata": {
    "ExecuteTime": {
     "end_time": "2023-05-29T12:32:55.195377Z",
     "start_time": "2023-05-29T12:32:54.866533Z"
    },
    "execution": {
     "iopub.execute_input": "2024-10-21T15:15:15.842322Z",
     "iopub.status.busy": "2024-10-21T15:15:15.841852Z",
     "iopub.status.idle": "2024-10-21T15:15:16.278300Z",
     "shell.execute_reply": "2024-10-21T15:15:16.277629Z",
     "shell.execute_reply.started": "2024-10-21T15:15:15.842280Z"
    },
    "hidden": true
   },
   "outputs": [
    {
     "name": "stdout",
     "output_type": "stream",
     "text": [
      "True\n"
     ]
    }
   ],
   "source": [
    "# loaded = np.load(ds.compoundPharmacophoreDenseZipFile)\n",
    "# print(np.array_equal(dense_mat, loaded['dense_mat']))"
   ]
  },
  {
   "cell_type": "code",
   "execution_count": 301,
   "id": "42c2fcfc-9de7-47f5-88fd-63988b61b067",
   "metadata": {
    "ExecuteTime": {
     "end_time": "2023-05-29T12:32:55.845334Z",
     "start_time": "2023-05-29T12:32:55.427130Z"
    },
    "execution": {
     "iopub.execute_input": "2024-10-21T15:15:23.475020Z",
     "iopub.status.busy": "2024-10-21T15:15:23.474429Z",
     "iopub.status.idle": "2024-10-21T15:15:24.170432Z",
     "shell.execute_reply": "2024-10-21T15:15:24.169780Z",
     "shell.execute_reply.started": "2024-10-21T15:15:23.474977Z"
    },
    "hidden": true
   },
   "outputs": [
    {
     "data": {
      "text/plain": [
       "(numpy.ndarray, (116691, 1032))"
      ]
     },
     "execution_count": 301,
     "metadata": {},
     "output_type": "execute_result"
    }
   ],
   "source": [
    "# print(output_out)\n",
    "# type(loaded['dense_mat']), loaded['dense_mat'].shape\n",
    "# loaded['dense_mat']"
   ]
  },
  {
   "cell_type": "code",
   "execution_count": 302,
   "id": "a9818b8c-e76b-4d8e-b15d-72d118621ea5",
   "metadata": {
    "ExecuteTime": {
     "end_time": "2023-05-29T12:33:06.235383Z",
     "start_time": "2023-05-29T12:33:06.109232Z"
    },
    "execution": {
     "iopub.execute_input": "2024-10-21T15:15:28.123302Z",
     "iopub.status.busy": "2024-10-21T15:15:28.122831Z",
     "iopub.status.idle": "2024-10-21T15:15:28.162142Z",
     "shell.execute_reply": "2024-10-21T15:15:28.161392Z",
     "shell.execute_reply.started": "2024-10-21T15:15:28.123262Z"
    },
    "hidden": true
   },
   "outputs": [],
   "source": [
    "# del loaded"
   ]
  },
  {
   "cell_type": "markdown",
   "id": "64753e52-d506-468f-a756-76a61691ae25",
   "metadata": {},
   "source": [
    "# Pharmacophore Frequency Historgram"
   ]
  },
  {
   "cell_type": "code",
   "execution_count": 799,
   "id": "dd0ad272-65ef-4d2c-803d-33c41b04cd2d",
   "metadata": {
    "execution": {
     "iopub.execute_input": "2024-10-22T18:08:34.422276Z",
     "iopub.status.busy": "2024-10-22T18:08:34.421810Z",
     "iopub.status.idle": "2024-10-22T18:08:34.464050Z",
     "shell.execute_reply": "2024-10-22T18:08:34.463571Z",
     "shell.execute_reply.started": "2024-10-22T18:08:34.422236Z"
    }
   },
   "outputs": [
    {
     "data": {
      "text/plain": [
       "pandas.core.frame.DataFrame"
      ]
     },
     "execution_count": 799,
     "metadata": {},
     "output_type": "execute_result"
    },
    {
     "data": {
      "text/plain": [
       "Index(['Metadata_JCP2022',                  0,                  1,                  2,                  3,                  4,                  5,                  6,\n",
       "                        7,                  8,\n",
       "       ...\n",
       "                     1022,               1023,               1024,               1025,               1026,               1027,               1028,               1029,\n",
       "                     1030,               1031],\n",
       "      dtype='object', length=1033)"
      ]
     },
     "execution_count": 799,
     "metadata": {},
     "output_type": "execute_result"
    }
   ],
   "source": [
    "type(dense_mat)\n",
    "dense_mat.columns"
   ]
  },
  {
   "cell_type": "code",
   "execution_count": 805,
   "id": "d82d0526-0fb7-4ddb-be3d-70b8ea745302",
   "metadata": {
    "execution": {
     "iopub.execute_input": "2024-10-22T18:11:25.737728Z",
     "iopub.status.busy": "2024-10-22T18:11:25.737255Z",
     "iopub.status.idle": "2024-10-22T18:11:26.646850Z",
     "shell.execute_reply": "2024-10-22T18:11:26.646115Z",
     "shell.execute_reply.started": "2024-10-22T18:11:25.737688Z"
    }
   },
   "outputs": [],
   "source": [
    "bit_counter = np.asarray(dense_mat.loc[:,0:].sum(axis=0)).squeeze()"
   ]
  },
  {
   "cell_type": "code",
   "execution_count": 808,
   "id": "30d73c75-feeb-4e33-ae49-61afc9558e82",
   "metadata": {
    "execution": {
     "iopub.execute_input": "2024-10-22T18:11:57.427119Z",
     "iopub.status.busy": "2024-10-22T18:11:57.426617Z",
     "iopub.status.idle": "2024-10-22T18:11:57.472142Z",
     "shell.execute_reply": "2024-10-22T18:11:57.471670Z",
     "shell.execute_reply.started": "2024-10-22T18:11:57.427077Z"
    }
   },
   "outputs": [
    {
     "data": {
      "text/plain": [
       "((1032,), numpy.ndarray)"
      ]
     },
     "execution_count": 808,
     "metadata": {},
     "output_type": "execute_result"
    },
    {
     "data": {
      "text/plain": [
       "59721"
      ]
     },
     "execution_count": 808,
     "metadata": {},
     "output_type": "execute_result"
    },
    {
     "data": {
      "text/plain": [
       "((1032,), 1032)"
      ]
     },
     "execution_count": 808,
     "metadata": {},
     "output_type": "execute_result"
    },
    {
     "data": {
      "text/plain": [
       "array([ 59721,  98057,  98115, 106899,  61994,  95726,  94827, 107369,  83494,  97871, ...,      6,      7,      5,      0,      0,      0,      2,\n",
       "            0,      9,      3], dtype=uint64)"
      ]
     },
     "execution_count": 808,
     "metadata": {},
     "output_type": "execute_result"
    },
    {
     "data": {
      "text/plain": [
       "array([  119,  1036,  1557,  1160,   281,  5513,     0,     0,  1897, 12261,  4212,  4734,     6,   667,   429,   474,     0,   770,   727,   572],\n",
       "      dtype=uint64)"
      ]
     },
     "execution_count": 808,
     "metadata": {},
     "output_type": "execute_result"
    }
   ],
   "source": [
    "bit_counter.shape, type(bit_counter)\n",
    "bit_counter.shape, len(bit_counter)\n",
    "bit_counter \n",
    "bit_counter[500:520]"
   ]
  },
  {
   "cell_type": "code",
   "execution_count": 378,
   "id": "cc58398d-6459-430a-8b9b-5f9aeaaa5e66",
   "metadata": {
    "execution": {
     "iopub.execute_input": "2024-10-21T17:55:09.265120Z",
     "iopub.status.busy": "2024-10-21T17:55:09.264553Z",
     "iopub.status.idle": "2024-10-21T17:55:09.312068Z",
     "shell.execute_reply": "2024-10-21T17:55:09.311591Z",
     "shell.execute_reply.started": "2024-10-21T17:55:09.265080Z"
    }
   },
   "outputs": [
    {
     "data": {
      "text/plain": [
       "1032"
      ]
     },
     "execution_count": 378,
     "metadata": {},
     "output_type": "execute_result"
    },
    {
     "data": {
      "text/plain": [
       "(0.0, 0.9201138048349916)"
      ]
     },
     "execution_count": 378,
     "metadata": {},
     "output_type": "execute_result"
    },
    {
     "data": {
      "text/plain": [
       "array([5.11787541e-01, 8.40313306e-01, 8.40810345e-01, 9.16086073e-01, 5.31266336e-01, 8.20337472e-01, 8.12633365e-01, 9.20113805e-01,\n",
       "       7.15513621e-01, 8.38719353e-01, ..., 5.14178471e-05, 5.99874883e-05, 4.28482059e-05, 0.00000000e+00, 0.00000000e+00, 0.00000000e+00,\n",
       "       1.71392824e-05, 0.00000000e+00, 7.71267707e-05, 2.57089236e-05])"
      ]
     },
     "execution_count": 378,
     "metadata": {},
     "output_type": "execute_result"
    }
   ],
   "source": [
    "bit_counter_pct = (bit_counter / 116691) \n",
    "bit_counter_pct.min(), bit_counter_pct.max()\n",
    "bit_counter_pct"
   ]
  },
  {
   "cell_type": "code",
   "execution_count": 380,
   "id": "1aa32702-c0a7-4e49-a659-9ef3fd7deee3",
   "metadata": {
    "execution": {
     "iopub.execute_input": "2024-10-21T17:56:30.320934Z",
     "iopub.status.busy": "2024-10-21T17:56:30.320469Z",
     "iopub.status.idle": "2024-10-21T17:56:30.368871Z",
     "shell.execute_reply": "2024-10-21T17:56:30.368399Z",
     "shell.execute_reply.started": "2024-10-21T17:56:30.320895Z"
    }
   },
   "outputs": [
    {
     "name": "stdout",
     "output_type": "stream",
     "text": [
      " num of bits with < %  5 frequency : 786  \n",
      " num of bits with < % 10 frequency : 845  \n",
      " num of bits with < % 15 frequency : 884  \n",
      "\n",
      " num of bits with > %  5 frequency : 246  \n",
      " num of bits with > % 10 frequency : 187  \n",
      " num of bits with > % 15 frequency : 148  \n",
      "\n",
      " num of bits with > % 85 frequency : 2  \n",
      " num of bits with > % 90 frequency : 2  \n",
      " num of bits with > % 95 frequency : 0  \n"
     ]
    },
    {
     "data": {
      "text/plain": [
       "(1032,)"
      ]
     },
     "execution_count": 380,
     "metadata": {},
     "output_type": "execute_result"
    },
    {
     "data": {
      "text/plain": [
       "185"
      ]
     },
     "execution_count": 380,
     "metadata": {},
     "output_type": "execute_result"
    },
    {
     "name": "stdout",
     "output_type": "stream",
     "text": [
      " Indicies corresponding to bits with a frequency between 10 and 90 percent:\n"
     ]
    },
    {
     "data": {
      "text/plain": [
       "array([  0,   1,   2,   4,   5,   6,   8,   9,  13,  16,  17,  18,  19,  20,  21,  22,  23,  26,  27,  30,  31,  32,  33,  34,  35,  39,  42,  43,\n",
       "        44,  45,  48,  49,  52,  53,  57,  78,  79,  80,  83,  84,  86,  87,  91,  94,  95,  96,  98,  99, 100, 102, 103, 104, 107, 108, 110, 111,\n",
       "       127, 140, 141, 142, 143, 144, 146, 147, 148, 149, 150, 151, 152, 153, 154, 155, 156, 157, 158, 159, 162, 163, 164, 165, 166, 167, 179, 183,\n",
       "       197, 198, 199, 200, 202, 203, 204, 205, 206, 207, 208, 210, 211, 212, 213, 214, 215, 231, 244, 245, 246, 247, 250, 251, 252, 253, 254, 255,\n",
       "       267, 270, 271, 285, 287, 366, 370, 371, 372, 374, 375, 378, 379, 382, 383, 387, 390, 417, 421, 422, 423, 425, 426, 427, 428, 429, 430, 431,\n",
       "       433, 434, 435, 437, 438, 439, 464, 465, 468, 469, 470, 471, 473, 475, 477, 478, 479, 509, 595, 598, 599, 603, 606, 607, 633, 636, 637, 638,\n",
       "       639, 641, 642, 643, 645, 646, 647, 677, 679, 752, 756, 758, 759, 763, 766, 767, 797])"
      ]
     },
     "execution_count": 380,
     "metadata": {},
     "output_type": "execute_result"
    }
   ],
   "source": [
    "print(f\" num of bits with < %  5 frequency : {(bit_counter_pct < 0.05).sum()}  \")\n",
    "print(f\" num of bits with < % 10 frequency : {(bit_counter_pct < 0.10).sum()}  \")\n",
    "print(f\" num of bits with < % 15 frequency : {(bit_counter_pct < 0.15).sum()}  \")\n",
    "print()\n",
    "print(f\" num of bits with > %  5 frequency : {(bit_counter_pct > 0.05).sum()}  \")\n",
    "print(f\" num of bits with > % 10 frequency : {(bit_counter_pct > 0.10).sum()}  \")\n",
    "print(f\" num of bits with > % 15 frequency : {(bit_counter_pct > 0.15).sum()}  \")\n",
    "print()\n",
    "print(f\" num of bits with > % 85 frequency : {(bit_counter_pct > 0.85).sum()}  \")\n",
    "print(f\" num of bits with > % 90 frequency : {(bit_counter_pct > 0.90).sum()}  \")\n",
    "print(f\" num of bits with > % 95 frequency : {(bit_counter_pct > 0.95).sum()}  \")\n",
    "bit_counter_select = (bit_counter_pct > 0.10) & (bit_counter_pct < 0.90)\n",
    "# bit_counter_select[:20]\n",
    "bit_counter_select.shape\n",
    "bit_counter_select.sum()\n",
    "select_indices = np.arange(0,1032)\n",
    "print(f\" Indicies corresponding to bits with a frequency between 10 and 90 percent:\")\n",
    "select_indices[bit_counter_select]"
   ]
  },
  {
   "cell_type": "code",
   "execution_count": 322,
   "id": "d0c654d6-f24e-4c8f-9db1-28ec37aa9819",
   "metadata": {
    "execution": {
     "iopub.execute_input": "2024-10-21T15:32:01.334464Z",
     "iopub.status.busy": "2024-10-21T15:32:01.333996Z",
     "iopub.status.idle": "2024-10-21T15:32:01.373820Z",
     "shell.execute_reply": "2024-10-21T15:32:01.373316Z",
     "shell.execute_reply.started": "2024-10-21T15:32:01.334424Z"
    }
   },
   "outputs": [],
   "source": [
    "# st, en = 0 ,20\n",
    "# for i in range(st, en):\n",
    "#     bit_counter_pct[st:en]\n",
    "#     bit_counter_select[st:en]"
   ]
  },
  {
   "cell_type": "markdown",
   "id": "632e7438-1449-4bfe-b6b7-c2413c3d9a32",
   "metadata": {},
   "source": [
    "### Pharmacophore frequency histogram"
   ]
  },
  {
   "cell_type": "code",
   "execution_count": 233,
   "id": "d49f7e1c-0ecb-4a12-8b86-d336928cdab6",
   "metadata": {
    "execution": {
     "iopub.execute_input": "2024-10-18T17:54:47.404223Z",
     "iopub.status.busy": "2024-10-18T17:54:47.403744Z",
     "iopub.status.idle": "2024-10-18T17:54:47.447654Z",
     "shell.execute_reply": "2024-10-18T17:54:47.446793Z",
     "shell.execute_reply.started": "2024-10-18T17:54:47.404182Z"
    }
   },
   "outputs": [],
   "source": [
    "# the histogram of the data\n",
    "def box_plot(array,start = 0, end = 0, upper = 120000, highline = None, lowline = None, width = 0.4):\n",
    "    \n",
    "    _= plt.figure(figsize=(20, 5))\n",
    "    # _= plt.bar(np.arange((end - start)), array[start:end], width = 0.4 ) \n",
    "    _= plt.bar(np.arange(len(array)), array, width = width ) \n",
    "    # _= plt.bar(bit_counter, tick_label=df_well_use_counts.index, width = 0.4 ) \n",
    "    ##  , facecolor='g', alpha=0.75, rwidth=1.0, orientation='horizontal')\n",
    "    y_max = array.max()\n",
    "    ylow, yhigh = plt.ylim()\n",
    "    y_highline = y_max*highline\n",
    "    y_lowline  = y_max*lowline\n",
    "    _= plt.ylim(0, upper)\n",
    "    if highline is not None and y_highline < upper:\n",
    "        _= plt.axhline(y= y_highline, color=\"red\", linestyle=\"--\")\n",
    "        _= plt.text(start + 25, y_highline + ((yhigh-ylow)*0.03), f'{highline} line - {y_highline:.2f}') ##  r'$\\mu=100,\\ \\sigma=15$')\n",
    "    if lowline is not None:\n",
    "        _= plt.axhline(y=y_lowline, color=\"red\", linestyle=\"--\")\n",
    "        _= plt.text(end - 25, y_lowline + ((yhigh-ylow)*0.03), f'{lowline} line - {y_lowline:.2f}') ##  r''$\\mu=lowline,\\ \\sigma=15$')\n",
    "    _= plt.xlabel('pharmacophore bit')\n",
    "    _= plt.ylabel('# of Compounds with bit = 1')\n",
    "    _= plt.title('Pharmacophore bit frequency ')\n",
    "    _= plt.xlim(start-1, end+0.75)\n",
    "    _= plt.grid(True)\n",
    "    plt.show()"
   ]
  },
  {
   "cell_type": "code",
   "execution_count": 381,
   "id": "c5733dd1-cd00-4b10-b9f7-4ea21f37d7c7",
   "metadata": {
    "execution": {
     "iopub.execute_input": "2024-10-21T17:57:19.113420Z",
     "iopub.status.busy": "2024-10-21T17:57:19.112953Z",
     "iopub.status.idle": "2024-10-21T17:57:26.126548Z",
     "shell.execute_reply": "2024-10-21T17:57:26.125797Z",
     "shell.execute_reply.started": "2024-10-21T17:57:19.113380Z"
    }
   },
   "outputs": [
    {
     "data": {
      "image/png": "[encoded data removed]",
      "text/plain": [
       "<Figure size 2000x500 with 1 Axes>"
      ]
     },
     "metadata": {},
     "output_type": "display_data"
    },
    {
     "data": {
      "image/png": "[encoded data removed]",
      "text/plain": [
       "<Figure size 2000x500 with 1 Axes>"
      ]
     },
     "metadata": {},
     "output_type": "display_data"
    },
    {
     "data": {
      "image/png": "[encoded data removed]",
      "text/plain": [
       "<Figure size 2000x500 with 1 Axes>"
      ]
     },
     "metadata": {},
     "output_type": "display_data"
    },
    {
     "data": {
      "image/png": "[encoded data removed]",
      "text/plain": [
       "<Figure size 2000x500 with 1 Axes>"
      ]
     },
     "metadata": {},
     "output_type": "display_data"
    },
    {
     "data": {
      "image/png": "[encoded data removed]",
      "text/plain": [
       "<Figure size 2000x500 with 1 Axes>"
      ]
     },
     "metadata": {},
     "output_type": "display_data"
    }
   ],
   "source": [
    "highline =  0.90\n",
    "lowline =   0.10\n",
    "box_plot(bit_counter,   0,  200, upper = 117000, highline = 0.85, lowline = 0.10, width = 0.6)\n",
    "box_plot(bit_counter, 201,  400, upper =  80000, highline = highline, lowline = lowline, width = 0.6)\n",
    "box_plot(bit_counter, 401,  600, upper =  60000, highline = highline, lowline = lowline, width = 0.6)\n",
    "box_plot(bit_counter, 601,  800, upper =  60000, highline = highline, lowline = lowline, width = 0.6)\n",
    "box_plot(bit_counter, 801, 1050, upper =  10000, highline = highline, lowline = lowline, width = 0.6)"
   ]
  },
  {
   "cell_type": "code",
   "execution_count": 382,
   "id": "66e962b0-a0e8-44e3-8202-229384f1557a",
   "metadata": {
    "execution": {
     "iopub.execute_input": "2024-10-21T17:57:29.985278Z",
     "iopub.status.busy": "2024-10-21T17:57:29.984819Z",
     "iopub.status.idle": "2024-10-21T17:57:37.249715Z",
     "shell.execute_reply": "2024-10-21T17:57:37.249058Z",
     "shell.execute_reply.started": "2024-10-21T17:57:29.985239Z"
    },
    "scrolled": true
   },
   "outputs": [
    {
     "data": {
      "image/png": "[encoded data removed]",
      "text/plain": [
       "<Figure size 2000x500 with 1 Axes>"
      ]
     },
     "metadata": {},
     "output_type": "display_data"
    },
    {
     "data": {
      "image/png": "[encoded data removed]",
      "text/plain": [
       "<Figure size 2000x500 with 1 Axes>"
      ]
     },
     "metadata": {},
     "output_type": "display_data"
    },
    {
     "data": {
      "image/png": "[encoded data removed]",
      "text/plain": [
       "<Figure size 2000x500 with 1 Axes>"
      ]
     },
     "metadata": {},
     "output_type": "display_data"
    },
    {
     "data": {
      "image/png": "[encoded data removed]",
      "text/plain": [
       "<Figure size 2000x500 with 1 Axes>"
      ]
     },
     "metadata": {},
     "output_type": "display_data"
    },
    {
     "data": {
      "image/png": "[encoded data removed]",
      "text/plain": [
       "<Figure size 2000x500 with 1 Axes>"
      ]
     },
     "metadata": {},
     "output_type": "display_data"
    }
   ],
   "source": [
    "box_plot(bit_counter_pct,   0,  200, upper = 0.10, highline = highline, lowline = lowline, width = 0.6)\n",
    "box_plot(bit_counter_pct, 201,  400, upper = 0.10, highline = highline, lowline = lowline, width = 0.6)\n",
    "box_plot(bit_counter_pct, 401,  600, upper = 0.10, highline = highline, lowline = lowline, width = 0.6)\n",
    "box_plot(bit_counter_pct, 601,  800, upper = 0.10, highline = highline, lowline = lowline, width = 0.6)\n",
    "box_plot(bit_counter_pct, 801, 1050, upper = 0.10, highline = highline, lowline = lowline, width = 0.6)"
   ]
  },
  {
   "cell_type": "markdown",
   "id": "b6450068-983e-4ef4-9786-a1f6b910cc4a",
   "metadata": {
    "heading_collapsed": true,
    "hidden": true
   },
   "source": [
    "# Create 3 sample phramacophore file"
   ]
  },
  {
   "cell_type": "markdown",
   "id": "8328b8b7-e6d8-4b8f-a6af-395e963e29b3",
   "metadata": {},
   "source": [
    "## Read Compound Metadata file"
   ]
  },
  {
   "cell_type": "markdown",
   "id": "0c25657e-8e10-4de3-a202-ff1450339a49",
   "metadata": {},
   "source": [
    "The compounds in followng files match exactly: \n",
    "\n",
    "- 3SampleProfiles file `./output_11102023/3_sample_profiles/3sample_profiles_1482_HashOrder_all.csv`\n",
    "- Compound Extended Metadata Sample file: `./output_10162024/compound_extended_metadata_3samples.csv`\n"
   ]
  },
  {
   "cell_type": "code",
   "execution_count": 846,
   "id": "96db19fd-5b2f-45d9-a097-e8d0486e4f66",
   "metadata": {
    "execution": {
     "iopub.execute_input": "2024-10-22T18:50:35.892329Z",
     "iopub.status.busy": "2024-10-22T18:50:35.891861Z",
     "iopub.status.idle": "2024-10-22T18:50:35.933864Z",
     "shell.execute_reply": "2024-10-22T18:50:35.933221Z",
     "shell.execute_reply.started": "2024-10-22T18:50:35.892288Z"
    }
   },
   "outputs": [],
   "source": [
    "# threeSampleProfiles = './output_11102023/3_sample_profiles/3sample_profiles_1482_HashOrder_all.csv'\n",
    "# print(threeSampleProfiles)\n",
    "# df_profiles =  pd.read_csv(threeSampleProfiles, \n",
    "#                         header = 0, skiprows = 0,\n",
    "#                         usecols = ['Metadata_JCP2022'])\n",
    "\n",
    "# df_profiles.info()\n",
    "# df_profiles.head()\n",
    "# df_profiles.tail()\n",
    "\n",
    "# df_profiles_sorted = df_profiles.set_index(['Metadata_JCP2022'], drop=False, append = False )\n",
    "# df_profiles_sorted.sort_index(inplace = True)\n",
    "# df_profiles_sorted.reset_index(drop = True, inplace = True)\n",
    "# df_profiles_sorted.drop_duplicates(subset=['Metadata_JCP2022'], keep='first', inplace=True, ignore_index=True)\n",
    "# df_profiles_sorted.head()\n",
    "# df_profiles_sorted.tail()\n",
    "\n",
    "## Verify Extended Metadata file and SampleProfiles file match \n",
    "\n",
    "# (df_extMetadata == df_profiles_sorted).all()"
   ]
  },
  {
   "cell_type": "code",
   "execution_count": 976,
   "id": "4775c1a8-eeb9-4372-a4e8-79758c46110b",
   "metadata": {
    "execution": {
     "iopub.execute_input": "2024-10-24T11:52:22.044291Z",
     "iopub.status.busy": "2024-10-24T11:52:22.043817Z",
     "iopub.status.idle": "2024-10-24T11:52:22.091925Z",
     "shell.execute_reply": "2024-10-24T11:52:22.091031Z",
     "shell.execute_reply.started": "2024-10-24T11:52:22.044249Z"
    }
   },
   "outputs": [
    {
     "name": "stdout",
     "output_type": "stream",
     "text": [
      " compound Extended Metadata Sample File  : ./output_10162024/compound_extended_metadata_3samples.csv\n",
      "\n"
     ]
    }
   ],
   "source": [
    "print(f\" compound Extended Metadata Sample File  : {ds.CompoundExtendedMetadata3SampleFile}\\n\")"
   ]
  },
  {
   "cell_type": "code",
   "execution_count": 977,
   "id": "2172d2bd-a1e7-41df-a16d-67efb65dd5c7",
   "metadata": {
    "execution": {
     "iopub.execute_input": "2024-10-24T11:52:23.999081Z",
     "iopub.status.busy": "2024-10-24T11:52:23.998591Z",
     "iopub.status.idle": "2024-10-24T11:52:24.729068Z",
     "shell.execute_reply": "2024-10-24T11:52:24.728326Z",
     "shell.execute_reply.started": "2024-10-24T11:52:23.999041Z"
    }
   },
   "outputs": [],
   "source": [
    "df_extMetadata =  pd.read_csv('./output_11102023/compound_extended_metadata_3samples.csv', \n",
    "                          usecols = ['Metadata_JCP2022', 'Metadata_Hash', 'Metadata_Bin'])"
   ]
  },
  {
   "cell_type": "code",
   "execution_count": 978,
   "id": "0ab42f8d-3d35-43fe-b885-513da50c62e1",
   "metadata": {
    "execution": {
     "iopub.execute_input": "2024-10-24T11:52:26.143506Z",
     "iopub.status.busy": "2024-10-24T11:52:26.143033Z",
     "iopub.status.idle": "2024-10-24T11:52:26.217485Z",
     "shell.execute_reply": "2024-10-24T11:52:26.216705Z",
     "shell.execute_reply.started": "2024-10-24T11:52:26.143465Z"
    }
   },
   "outputs": [
    {
     "name": "stdout",
     "output_type": "stream",
     "text": [
      "<class 'pandas.core.frame.DataFrame'>\n",
      "RangeIndex: 346542 entries, 0 to 346541\n",
      "Data columns (total 3 columns):\n",
      " #   Column            Non-Null Count   Dtype \n",
      "---  ------            --------------   ----- \n",
      " 0   Metadata_JCP2022  346542 non-null  object\n",
      " 1   Metadata_Hash     346542 non-null  int64 \n",
      " 2   Metadata_Bin      346542 non-null  int64 \n",
      "dtypes: int64(2), object(1)\n",
      "memory usage: 7.9+ MB\n"
     ]
    },
    {
     "data": {
      "text/html": [
       "<div>\n",
       "<style scoped>\n",
       "    .dataframe tbody tr th:only-of-type {\n",
       "        vertical-align: middle;\n",
       "    }\n",
       "\n",
       "    .dataframe tbody tr th {\n",
       "        vertical-align: top;\n",
       "    }\n",
       "\n",
       "    .dataframe thead th {\n",
       "        text-align: right;\n",
       "    }\n",
       "</style>\n",
       "<table border=\"1\" class=\"dataframe\">\n",
       "  <thead>\n",
       "    <tr style=\"text-align: right;\">\n",
       "      <th></th>\n",
       "      <th>Metadata_JCP2022</th>\n",
       "      <th>Metadata_Hash</th>\n",
       "      <th>Metadata_Bin</th>\n",
       "    </tr>\n",
       "  </thead>\n",
       "  <tbody>\n",
       "    <tr>\n",
       "      <th>0</th>\n",
       "      <td>JCP2022_000001</td>\n",
       "      <td>-8640665944756343816</td>\n",
       "      <td>8</td>\n",
       "    </tr>\n",
       "    <tr>\n",
       "      <th>1</th>\n",
       "      <td>JCP2022_000001</td>\n",
       "      <td>-8640665944756343816</td>\n",
       "      <td>8</td>\n",
       "    </tr>\n",
       "    <tr>\n",
       "      <th>2</th>\n",
       "      <td>JCP2022_000001</td>\n",
       "      <td>-8640665944756343816</td>\n",
       "      <td>8</td>\n",
       "    </tr>\n",
       "    <tr>\n",
       "      <th>3</th>\n",
       "      <td>JCP2022_000002</td>\n",
       "      <td>-2058530355611931119</td>\n",
       "      <td>1</td>\n",
       "    </tr>\n",
       "    <tr>\n",
       "      <th>4</th>\n",
       "      <td>JCP2022_000002</td>\n",
       "      <td>-2058530355611931119</td>\n",
       "      <td>1</td>\n",
       "    </tr>\n",
       "  </tbody>\n",
       "</table>\n",
       "</div>"
      ],
      "text/plain": [
       "  Metadata_JCP2022        Metadata_Hash  Metadata_Bin\n",
       "0   JCP2022_000001 -8640665944756343816             8\n",
       "1   JCP2022_000001 -8640665944756343816             8\n",
       "2   JCP2022_000001 -8640665944756343816             8\n",
       "3   JCP2022_000002 -2058530355611931119             1\n",
       "4   JCP2022_000002 -2058530355611931119             1"
      ]
     },
     "execution_count": 978,
     "metadata": {},
     "output_type": "execute_result"
    },
    {
     "data": {
      "text/html": [
       "<div>\n",
       "<style scoped>\n",
       "    .dataframe tbody tr th:only-of-type {\n",
       "        vertical-align: middle;\n",
       "    }\n",
       "\n",
       "    .dataframe tbody tr th {\n",
       "        vertical-align: top;\n",
       "    }\n",
       "\n",
       "    .dataframe thead th {\n",
       "        text-align: right;\n",
       "    }\n",
       "</style>\n",
       "<table border=\"1\" class=\"dataframe\">\n",
       "  <thead>\n",
       "    <tr style=\"text-align: right;\">\n",
       "      <th></th>\n",
       "      <th>Metadata_JCP2022</th>\n",
       "      <th>Metadata_Hash</th>\n",
       "      <th>Metadata_Bin</th>\n",
       "    </tr>\n",
       "  </thead>\n",
       "  <tbody>\n",
       "    <tr>\n",
       "      <th>346537</th>\n",
       "      <td>JCP2022_116752</td>\n",
       "      <td>8043583690001075349</td>\n",
       "      <td>5</td>\n",
       "    </tr>\n",
       "    <tr>\n",
       "      <th>346538</th>\n",
       "      <td>JCP2022_116752</td>\n",
       "      <td>8043583690001075349</td>\n",
       "      <td>5</td>\n",
       "    </tr>\n",
       "    <tr>\n",
       "      <th>346539</th>\n",
       "      <td>JCP2022_116753</td>\n",
       "      <td>-9112886486787329276</td>\n",
       "      <td>4</td>\n",
       "    </tr>\n",
       "    <tr>\n",
       "      <th>346540</th>\n",
       "      <td>JCP2022_116753</td>\n",
       "      <td>-9112886486787329276</td>\n",
       "      <td>4</td>\n",
       "    </tr>\n",
       "    <tr>\n",
       "      <th>346541</th>\n",
       "      <td>JCP2022_116753</td>\n",
       "      <td>-9112886486787329276</td>\n",
       "      <td>4</td>\n",
       "    </tr>\n",
       "  </tbody>\n",
       "</table>\n",
       "</div>"
      ],
      "text/plain": [
       "       Metadata_JCP2022        Metadata_Hash  Metadata_Bin\n",
       "346537   JCP2022_116752  8043583690001075349             5\n",
       "346538   JCP2022_116752  8043583690001075349             5\n",
       "346539   JCP2022_116753 -9112886486787329276             4\n",
       "346540   JCP2022_116753 -9112886486787329276             4\n",
       "346541   JCP2022_116753 -9112886486787329276             4"
      ]
     },
     "execution_count": 978,
     "metadata": {},
     "output_type": "execute_result"
    }
   ],
   "source": [
    "df_extMetadata.info()\n",
    "df_extMetadata.head()\n",
    "df_extMetadata.tail()"
   ]
  },
  {
   "cell_type": "code",
   "execution_count": 979,
   "id": "9c532951-bcb6-4c29-afde-ec441e53b239",
   "metadata": {
    "execution": {
     "iopub.execute_input": "2024-10-24T11:52:30.441093Z",
     "iopub.status.busy": "2024-10-24T11:52:30.440779Z",
     "iopub.status.idle": "2024-10-24T11:52:30.526816Z",
     "shell.execute_reply": "2024-10-24T11:52:30.526137Z",
     "shell.execute_reply.started": "2024-10-24T11:52:30.441068Z"
    }
   },
   "outputs": [],
   "source": [
    "df_extMetadata.drop_duplicates(subset=['Metadata_JCP2022', 'Metadata_Hash', 'Metadata_Bin'], keep='first', inplace=True, ignore_index=True)\n"
   ]
  },
  {
   "cell_type": "code",
   "execution_count": 980,
   "id": "b97e9cdb-5b93-4304-9244-33ac67584f4a",
   "metadata": {
    "execution": {
     "iopub.execute_input": "2024-10-24T11:52:32.237034Z",
     "iopub.status.busy": "2024-10-24T11:52:32.236714Z",
     "iopub.status.idle": "2024-10-24T11:52:32.294080Z",
     "shell.execute_reply": "2024-10-24T11:52:32.293549Z",
     "shell.execute_reply.started": "2024-10-24T11:52:32.237011Z"
    }
   },
   "outputs": [
    {
     "name": "stdout",
     "output_type": "stream",
     "text": [
      "<class 'pandas.core.frame.DataFrame'>\n",
      "RangeIndex: 115514 entries, 0 to 115513\n",
      "Data columns (total 3 columns):\n",
      " #   Column            Non-Null Count   Dtype \n",
      "---  ------            --------------   ----- \n",
      " 0   Metadata_JCP2022  115514 non-null  object\n",
      " 1   Metadata_Hash     115514 non-null  int64 \n",
      " 2   Metadata_Bin      115514 non-null  int64 \n",
      "dtypes: int64(2), object(1)\n",
      "memory usage: 2.6+ MB\n"
     ]
    },
    {
     "data": {
      "text/html": [
       "<div>\n",
       "<style scoped>\n",
       "    .dataframe tbody tr th:only-of-type {\n",
       "        vertical-align: middle;\n",
       "    }\n",
       "\n",
       "    .dataframe tbody tr th {\n",
       "        vertical-align: top;\n",
       "    }\n",
       "\n",
       "    .dataframe thead th {\n",
       "        text-align: right;\n",
       "    }\n",
       "</style>\n",
       "<table border=\"1\" class=\"dataframe\">\n",
       "  <thead>\n",
       "    <tr style=\"text-align: right;\">\n",
       "      <th></th>\n",
       "      <th>Metadata_JCP2022</th>\n",
       "      <th>Metadata_Hash</th>\n",
       "      <th>Metadata_Bin</th>\n",
       "    </tr>\n",
       "  </thead>\n",
       "  <tbody>\n",
       "    <tr>\n",
       "      <th>0</th>\n",
       "      <td>JCP2022_000001</td>\n",
       "      <td>-8640665944756343816</td>\n",
       "      <td>8</td>\n",
       "    </tr>\n",
       "    <tr>\n",
       "      <th>1</th>\n",
       "      <td>JCP2022_000002</td>\n",
       "      <td>-2058530355611931119</td>\n",
       "      <td>1</td>\n",
       "    </tr>\n",
       "    <tr>\n",
       "      <th>2</th>\n",
       "      <td>JCP2022_000004</td>\n",
       "      <td>2222818783381135156</td>\n",
       "      <td>4</td>\n",
       "    </tr>\n",
       "    <tr>\n",
       "      <th>3</th>\n",
       "      <td>JCP2022_000005</td>\n",
       "      <td>-5338746385487734035</td>\n",
       "      <td>13</td>\n",
       "    </tr>\n",
       "    <tr>\n",
       "      <th>4</th>\n",
       "      <td>JCP2022_000006</td>\n",
       "      <td>-7722642987546231786</td>\n",
       "      <td>6</td>\n",
       "    </tr>\n",
       "  </tbody>\n",
       "</table>\n",
       "</div>"
      ],
      "text/plain": [
       "  Metadata_JCP2022        Metadata_Hash  Metadata_Bin\n",
       "0   JCP2022_000001 -8640665944756343816             8\n",
       "1   JCP2022_000002 -2058530355611931119             1\n",
       "2   JCP2022_000004  2222818783381135156             4\n",
       "3   JCP2022_000005 -5338746385487734035            13\n",
       "4   JCP2022_000006 -7722642987546231786             6"
      ]
     },
     "execution_count": 980,
     "metadata": {},
     "output_type": "execute_result"
    },
    {
     "data": {
      "text/html": [
       "<div>\n",
       "<style scoped>\n",
       "    .dataframe tbody tr th:only-of-type {\n",
       "        vertical-align: middle;\n",
       "    }\n",
       "\n",
       "    .dataframe tbody tr th {\n",
       "        vertical-align: top;\n",
       "    }\n",
       "\n",
       "    .dataframe thead th {\n",
       "        text-align: right;\n",
       "    }\n",
       "</style>\n",
       "<table border=\"1\" class=\"dataframe\">\n",
       "  <thead>\n",
       "    <tr style=\"text-align: right;\">\n",
       "      <th></th>\n",
       "      <th>Metadata_JCP2022</th>\n",
       "      <th>Metadata_Hash</th>\n",
       "      <th>Metadata_Bin</th>\n",
       "    </tr>\n",
       "  </thead>\n",
       "  <tbody>\n",
       "    <tr>\n",
       "      <th>115509</th>\n",
       "      <td>JCP2022_116749</td>\n",
       "      <td>-2319171568672221400</td>\n",
       "      <td>8</td>\n",
       "    </tr>\n",
       "    <tr>\n",
       "      <th>115510</th>\n",
       "      <td>JCP2022_116750</td>\n",
       "      <td>9161564570943414536</td>\n",
       "      <td>8</td>\n",
       "    </tr>\n",
       "    <tr>\n",
       "      <th>115511</th>\n",
       "      <td>JCP2022_116751</td>\n",
       "      <td>5024933905542715644</td>\n",
       "      <td>12</td>\n",
       "    </tr>\n",
       "    <tr>\n",
       "      <th>115512</th>\n",
       "      <td>JCP2022_116752</td>\n",
       "      <td>8043583690001075349</td>\n",
       "      <td>5</td>\n",
       "    </tr>\n",
       "    <tr>\n",
       "      <th>115513</th>\n",
       "      <td>JCP2022_116753</td>\n",
       "      <td>-9112886486787329276</td>\n",
       "      <td>4</td>\n",
       "    </tr>\n",
       "  </tbody>\n",
       "</table>\n",
       "</div>"
      ],
      "text/plain": [
       "       Metadata_JCP2022        Metadata_Hash  Metadata_Bin\n",
       "115509   JCP2022_116749 -2319171568672221400             8\n",
       "115510   JCP2022_116750  9161564570943414536             8\n",
       "115511   JCP2022_116751  5024933905542715644            12\n",
       "115512   JCP2022_116752  8043583690001075349             5\n",
       "115513   JCP2022_116753 -9112886486787329276             4"
      ]
     },
     "execution_count": 980,
     "metadata": {},
     "output_type": "execute_result"
    }
   ],
   "source": [
    "df_extMetadata.info()\n",
    "df_extMetadata.head()\n",
    "df_extMetadata.tail()"
   ]
  },
  {
   "cell_type": "markdown",
   "id": "6bd8f4b7-e9d1-4a0f-a0a2-296aca8b1cd1",
   "metadata": {},
   "source": [
    "## Read pharamcophore file "
   ]
  },
  {
   "cell_type": "code",
   "execution_count": 981,
   "id": "470a884f-f937-4b18-9ac3-5091a7fce5e2",
   "metadata": {
    "ExecuteTime": {
     "end_time": "2023-05-25T10:05:20.749055Z",
     "start_time": "2023-05-25T10:05:20.736987Z"
    },
    "execution": {
     "iopub.execute_input": "2024-10-24T11:52:39.763820Z",
     "iopub.status.busy": "2024-10-24T11:52:39.763278Z",
     "iopub.status.idle": "2024-10-24T11:52:39.809366Z",
     "shell.execute_reply": "2024-10-24T11:52:39.808556Z",
     "shell.execute_reply.started": "2024-10-24T11:52:39.763777Z"
    },
    "hidden": true
   },
   "outputs": [
    {
     "name": "stdout",
     "output_type": "stream",
     "text": [
      " Input: compound Pharmacophore File    : ./output_10162024/compound_pharmacophores.csv\n",
      " Output: compound Pharmacophore File    : ./output_10162024/compound_pharmacophores_sparse_3samples.csv\n"
     ]
    }
   ],
   "source": [
    "print(f\" Input: compound Pharmacophore File    : {ds.compoundPharmacophoreCSVFile}\")\n",
    "print(f\" Output: compound Pharmacophore File    : {ds.compoundPharmacophore3SampleFile}\")"
   ]
  },
  {
   "cell_type": "code",
   "execution_count": 982,
   "id": "d8b3ae71-6b83-478d-a312-ff0648a9108e",
   "metadata": {
    "ExecuteTime": {
     "end_time": "2023-05-25T06:22:43.794360Z",
     "start_time": "2023-05-25T06:22:42.794157Z"
    },
    "execution": {
     "iopub.execute_input": "2024-10-24T11:52:47.460308Z",
     "iopub.status.busy": "2024-10-24T11:52:47.459596Z",
     "iopub.status.idle": "2024-10-24T11:52:55.714771Z",
     "shell.execute_reply": "2024-10-24T11:52:55.713647Z",
     "shell.execute_reply.started": "2024-10-24T11:52:47.460242Z"
    },
    "hidden": true
   },
   "outputs": [],
   "source": [
    "# del df_pharmacophores, df_pharmacophores_3samples\n",
    "df_pharmacophores = pd.read_csv(ds.compoundPharmacophoreCSVFile)"
   ]
  },
  {
   "cell_type": "code",
   "execution_count": 983,
   "id": "4761ee69-bce1-4a7e-8528-92bb6530ce64",
   "metadata": {
    "ExecuteTime": {
     "end_time": "2023-05-25T06:22:43.794360Z",
     "start_time": "2023-05-25T06:22:42.794157Z"
    },
    "execution": {
     "iopub.execute_input": "2024-10-24T11:52:59.036016Z",
     "iopub.status.busy": "2024-10-24T11:52:59.035469Z",
     "iopub.status.idle": "2024-10-24T11:52:59.155212Z",
     "shell.execute_reply": "2024-10-24T11:52:59.154540Z",
     "shell.execute_reply.started": "2024-10-24T11:52:59.035974Z"
    },
    "hidden": true
   },
   "outputs": [
    {
     "name": "stdout",
     "output_type": "stream",
     "text": [
      "<class 'pandas.core.frame.DataFrame'>\n",
      "RangeIndex: 116691 entries, 0 to 116690\n",
      "Columns: 1033 entries, Metadata_JCP2022 to 1031\n",
      "dtypes: int64(1032), object(1)\n",
      "memory usage: 919.7+ MB\n"
     ]
    },
    {
     "data": {
      "text/html": [
       "<div>\n",
       "<style scoped>\n",
       "    .dataframe tbody tr th:only-of-type {\n",
       "        vertical-align: middle;\n",
       "    }\n",
       "\n",
       "    .dataframe tbody tr th {\n",
       "        vertical-align: top;\n",
       "    }\n",
       "\n",
       "    .dataframe thead th {\n",
       "        text-align: right;\n",
       "    }\n",
       "</style>\n",
       "<table border=\"1\" class=\"dataframe\">\n",
       "  <thead>\n",
       "    <tr style=\"text-align: right;\">\n",
       "      <th></th>\n",
       "      <th>Metadata_JCP2022</th>\n",
       "      <th>0</th>\n",
       "      <th>1</th>\n",
       "      <th>2</th>\n",
       "      <th>3</th>\n",
       "      <th>4</th>\n",
       "      <th>5</th>\n",
       "      <th>6</th>\n",
       "      <th>7</th>\n",
       "      <th>8</th>\n",
       "      <th>...</th>\n",
       "      <th>1022</th>\n",
       "      <th>1023</th>\n",
       "      <th>1024</th>\n",
       "      <th>1025</th>\n",
       "      <th>1026</th>\n",
       "      <th>1027</th>\n",
       "      <th>1028</th>\n",
       "      <th>1029</th>\n",
       "      <th>1030</th>\n",
       "      <th>1031</th>\n",
       "    </tr>\n",
       "  </thead>\n",
       "  <tbody>\n",
       "    <tr>\n",
       "      <th>0</th>\n",
       "      <td>JCP2022_000001</td>\n",
       "      <td>0</td>\n",
       "      <td>1</td>\n",
       "      <td>1</td>\n",
       "      <td>1</td>\n",
       "      <td>1</td>\n",
       "      <td>1</td>\n",
       "      <td>1</td>\n",
       "      <td>1</td>\n",
       "      <td>1</td>\n",
       "      <td>...</td>\n",
       "      <td>0</td>\n",
       "      <td>0</td>\n",
       "      <td>0</td>\n",
       "      <td>0</td>\n",
       "      <td>0</td>\n",
       "      <td>0</td>\n",
       "      <td>0</td>\n",
       "      <td>0</td>\n",
       "      <td>0</td>\n",
       "      <td>0</td>\n",
       "    </tr>\n",
       "    <tr>\n",
       "      <th>1</th>\n",
       "      <td>JCP2022_000002</td>\n",
       "      <td>0</td>\n",
       "      <td>0</td>\n",
       "      <td>0</td>\n",
       "      <td>1</td>\n",
       "      <td>1</td>\n",
       "      <td>0</td>\n",
       "      <td>0</td>\n",
       "      <td>1</td>\n",
       "      <td>0</td>\n",
       "      <td>...</td>\n",
       "      <td>0</td>\n",
       "      <td>0</td>\n",
       "      <td>0</td>\n",
       "      <td>0</td>\n",
       "      <td>0</td>\n",
       "      <td>0</td>\n",
       "      <td>0</td>\n",
       "      <td>0</td>\n",
       "      <td>0</td>\n",
       "      <td>0</td>\n",
       "    </tr>\n",
       "    <tr>\n",
       "      <th>2</th>\n",
       "      <td>JCP2022_000003</td>\n",
       "      <td>0</td>\n",
       "      <td>1</td>\n",
       "      <td>1</td>\n",
       "      <td>1</td>\n",
       "      <td>0</td>\n",
       "      <td>1</td>\n",
       "      <td>1</td>\n",
       "      <td>1</td>\n",
       "      <td>1</td>\n",
       "      <td>...</td>\n",
       "      <td>0</td>\n",
       "      <td>0</td>\n",
       "      <td>0</td>\n",
       "      <td>0</td>\n",
       "      <td>0</td>\n",
       "      <td>0</td>\n",
       "      <td>0</td>\n",
       "      <td>0</td>\n",
       "      <td>0</td>\n",
       "      <td>0</td>\n",
       "    </tr>\n",
       "    <tr>\n",
       "      <th>3</th>\n",
       "      <td>JCP2022_000004</td>\n",
       "      <td>1</td>\n",
       "      <td>1</td>\n",
       "      <td>1</td>\n",
       "      <td>0</td>\n",
       "      <td>0</td>\n",
       "      <td>1</td>\n",
       "      <td>0</td>\n",
       "      <td>1</td>\n",
       "      <td>0</td>\n",
       "      <td>...</td>\n",
       "      <td>0</td>\n",
       "      <td>0</td>\n",
       "      <td>0</td>\n",
       "      <td>0</td>\n",
       "      <td>0</td>\n",
       "      <td>0</td>\n",
       "      <td>0</td>\n",
       "      <td>0</td>\n",
       "      <td>0</td>\n",
       "      <td>0</td>\n",
       "    </tr>\n",
       "    <tr>\n",
       "      <th>4</th>\n",
       "      <td>JCP2022_000005</td>\n",
       "      <td>1</td>\n",
       "      <td>1</td>\n",
       "      <td>1</td>\n",
       "      <td>1</td>\n",
       "      <td>0</td>\n",
       "      <td>1</td>\n",
       "      <td>1</td>\n",
       "      <td>1</td>\n",
       "      <td>1</td>\n",
       "      <td>...</td>\n",
       "      <td>0</td>\n",
       "      <td>0</td>\n",
       "      <td>0</td>\n",
       "      <td>0</td>\n",
       "      <td>0</td>\n",
       "      <td>0</td>\n",
       "      <td>0</td>\n",
       "      <td>0</td>\n",
       "      <td>0</td>\n",
       "      <td>0</td>\n",
       "    </tr>\n",
       "    <tr>\n",
       "      <th>5</th>\n",
       "      <td>JCP2022_000006</td>\n",
       "      <td>1</td>\n",
       "      <td>1</td>\n",
       "      <td>1</td>\n",
       "      <td>1</td>\n",
       "      <td>0</td>\n",
       "      <td>0</td>\n",
       "      <td>1</td>\n",
       "      <td>1</td>\n",
       "      <td>1</td>\n",
       "      <td>...</td>\n",
       "      <td>0</td>\n",
       "      <td>0</td>\n",
       "      <td>0</td>\n",
       "      <td>0</td>\n",
       "      <td>0</td>\n",
       "      <td>0</td>\n",
       "      <td>0</td>\n",
       "      <td>0</td>\n",
       "      <td>0</td>\n",
       "      <td>0</td>\n",
       "    </tr>\n",
       "    <tr>\n",
       "      <th>6</th>\n",
       "      <td>JCP2022_000007</td>\n",
       "      <td>1</td>\n",
       "      <td>1</td>\n",
       "      <td>1</td>\n",
       "      <td>1</td>\n",
       "      <td>0</td>\n",
       "      <td>1</td>\n",
       "      <td>1</td>\n",
       "      <td>1</td>\n",
       "      <td>1</td>\n",
       "      <td>...</td>\n",
       "      <td>0</td>\n",
       "      <td>0</td>\n",
       "      <td>0</td>\n",
       "      <td>0</td>\n",
       "      <td>0</td>\n",
       "      <td>0</td>\n",
       "      <td>0</td>\n",
       "      <td>0</td>\n",
       "      <td>0</td>\n",
       "      <td>0</td>\n",
       "    </tr>\n",
       "    <tr>\n",
       "      <th>7</th>\n",
       "      <td>JCP2022_000008</td>\n",
       "      <td>0</td>\n",
       "      <td>1</td>\n",
       "      <td>0</td>\n",
       "      <td>1</td>\n",
       "      <td>0</td>\n",
       "      <td>1</td>\n",
       "      <td>0</td>\n",
       "      <td>1</td>\n",
       "      <td>0</td>\n",
       "      <td>...</td>\n",
       "      <td>0</td>\n",
       "      <td>0</td>\n",
       "      <td>0</td>\n",
       "      <td>0</td>\n",
       "      <td>0</td>\n",
       "      <td>0</td>\n",
       "      <td>0</td>\n",
       "      <td>0</td>\n",
       "      <td>0</td>\n",
       "      <td>0</td>\n",
       "    </tr>\n",
       "    <tr>\n",
       "      <th>8</th>\n",
       "      <td>JCP2022_000009</td>\n",
       "      <td>1</td>\n",
       "      <td>1</td>\n",
       "      <td>1</td>\n",
       "      <td>1</td>\n",
       "      <td>1</td>\n",
       "      <td>1</td>\n",
       "      <td>1</td>\n",
       "      <td>1</td>\n",
       "      <td>1</td>\n",
       "      <td>...</td>\n",
       "      <td>0</td>\n",
       "      <td>0</td>\n",
       "      <td>0</td>\n",
       "      <td>0</td>\n",
       "      <td>0</td>\n",
       "      <td>0</td>\n",
       "      <td>0</td>\n",
       "      <td>0</td>\n",
       "      <td>0</td>\n",
       "      <td>0</td>\n",
       "    </tr>\n",
       "    <tr>\n",
       "      <th>9</th>\n",
       "      <td>JCP2022_000010</td>\n",
       "      <td>1</td>\n",
       "      <td>1</td>\n",
       "      <td>1</td>\n",
       "      <td>1</td>\n",
       "      <td>1</td>\n",
       "      <td>1</td>\n",
       "      <td>0</td>\n",
       "      <td>0</td>\n",
       "      <td>0</td>\n",
       "      <td>...</td>\n",
       "      <td>0</td>\n",
       "      <td>0</td>\n",
       "      <td>0</td>\n",
       "      <td>0</td>\n",
       "      <td>0</td>\n",
       "      <td>0</td>\n",
       "      <td>0</td>\n",
       "      <td>0</td>\n",
       "      <td>0</td>\n",
       "      <td>0</td>\n",
       "    </tr>\n",
       "  </tbody>\n",
       "</table>\n",
       "<p>10 rows × 1033 columns</p>\n",
       "</div>"
      ],
      "text/plain": [
       "  Metadata_JCP2022  0  1  2  3  4  5  6  7  8  ...  1022  1023  1024  1025  1026  1027  1028  1029  1030  1031\n",
       "0   JCP2022_000001  0  1  1  1  1  1  1  1  1  ...     0     0     0     0     0     0     0     0     0     0\n",
       "1   JCP2022_000002  0  0  0  1  1  0  0  1  0  ...     0     0     0     0     0     0     0     0     0     0\n",
       "2   JCP2022_000003  0  1  1  1  0  1  1  1  1  ...     0     0     0     0     0     0     0     0     0     0\n",
       "3   JCP2022_000004  1  1  1  0  0  1  0  1  0  ...     0     0     0     0     0     0     0     0     0     0\n",
       "4   JCP2022_000005  1  1  1  1  0  1  1  1  1  ...     0     0     0     0     0     0     0     0     0     0\n",
       "5   JCP2022_000006  1  1  1  1  0  0  1  1  1  ...     0     0     0     0     0     0     0     0     0     0\n",
       "6   JCP2022_000007  1  1  1  1  0  1  1  1  1  ...     0     0     0     0     0     0     0     0     0     0\n",
       "7   JCP2022_000008  0  1  0  1  0  1  0  1  0  ...     0     0     0     0     0     0     0     0     0     0\n",
       "8   JCP2022_000009  1  1  1  1  1  1  1  1  1  ...     0     0     0     0     0     0     0     0     0     0\n",
       "9   JCP2022_000010  1  1  1  1  1  1  0  0  0  ...     0     0     0     0     0     0     0     0     0     0\n",
       "\n",
       "[10 rows x 1033 columns]"
      ]
     },
     "execution_count": 983,
     "metadata": {},
     "output_type": "execute_result"
    },
    {
     "data": {
      "text/html": [
       "<div>\n",
       "<style scoped>\n",
       "    .dataframe tbody tr th:only-of-type {\n",
       "        vertical-align: middle;\n",
       "    }\n",
       "\n",
       "    .dataframe tbody tr th {\n",
       "        vertical-align: top;\n",
       "    }\n",
       "\n",
       "    .dataframe thead th {\n",
       "        text-align: right;\n",
       "    }\n",
       "</style>\n",
       "<table border=\"1\" class=\"dataframe\">\n",
       "  <thead>\n",
       "    <tr style=\"text-align: right;\">\n",
       "      <th></th>\n",
       "      <th>Metadata_JCP2022</th>\n",
       "      <th>0</th>\n",
       "      <th>1</th>\n",
       "      <th>2</th>\n",
       "      <th>3</th>\n",
       "      <th>4</th>\n",
       "      <th>5</th>\n",
       "      <th>6</th>\n",
       "      <th>7</th>\n",
       "      <th>8</th>\n",
       "      <th>...</th>\n",
       "      <th>1022</th>\n",
       "      <th>1023</th>\n",
       "      <th>1024</th>\n",
       "      <th>1025</th>\n",
       "      <th>1026</th>\n",
       "      <th>1027</th>\n",
       "      <th>1028</th>\n",
       "      <th>1029</th>\n",
       "      <th>1030</th>\n",
       "      <th>1031</th>\n",
       "    </tr>\n",
       "  </thead>\n",
       "  <tbody>\n",
       "    <tr>\n",
       "      <th>116681</th>\n",
       "      <td>JCP2022_116744</td>\n",
       "      <td>0</td>\n",
       "      <td>1</td>\n",
       "      <td>1</td>\n",
       "      <td>1</td>\n",
       "      <td>0</td>\n",
       "      <td>0</td>\n",
       "      <td>1</td>\n",
       "      <td>1</td>\n",
       "      <td>1</td>\n",
       "      <td>...</td>\n",
       "      <td>0</td>\n",
       "      <td>0</td>\n",
       "      <td>0</td>\n",
       "      <td>0</td>\n",
       "      <td>0</td>\n",
       "      <td>0</td>\n",
       "      <td>0</td>\n",
       "      <td>0</td>\n",
       "      <td>0</td>\n",
       "      <td>0</td>\n",
       "    </tr>\n",
       "    <tr>\n",
       "      <th>116682</th>\n",
       "      <td>JCP2022_116745</td>\n",
       "      <td>0</td>\n",
       "      <td>1</td>\n",
       "      <td>1</td>\n",
       "      <td>1</td>\n",
       "      <td>1</td>\n",
       "      <td>1</td>\n",
       "      <td>0</td>\n",
       "      <td>1</td>\n",
       "      <td>1</td>\n",
       "      <td>...</td>\n",
       "      <td>0</td>\n",
       "      <td>0</td>\n",
       "      <td>0</td>\n",
       "      <td>0</td>\n",
       "      <td>0</td>\n",
       "      <td>0</td>\n",
       "      <td>0</td>\n",
       "      <td>0</td>\n",
       "      <td>0</td>\n",
       "      <td>0</td>\n",
       "    </tr>\n",
       "    <tr>\n",
       "      <th>116683</th>\n",
       "      <td>JCP2022_116746</td>\n",
       "      <td>0</td>\n",
       "      <td>1</td>\n",
       "      <td>1</td>\n",
       "      <td>1</td>\n",
       "      <td>0</td>\n",
       "      <td>1</td>\n",
       "      <td>1</td>\n",
       "      <td>1</td>\n",
       "      <td>1</td>\n",
       "      <td>...</td>\n",
       "      <td>0</td>\n",
       "      <td>0</td>\n",
       "      <td>0</td>\n",
       "      <td>0</td>\n",
       "      <td>0</td>\n",
       "      <td>0</td>\n",
       "      <td>0</td>\n",
       "      <td>0</td>\n",
       "      <td>0</td>\n",
       "      <td>0</td>\n",
       "    </tr>\n",
       "    <tr>\n",
       "      <th>116684</th>\n",
       "      <td>JCP2022_116747</td>\n",
       "      <td>0</td>\n",
       "      <td>1</td>\n",
       "      <td>1</td>\n",
       "      <td>0</td>\n",
       "      <td>0</td>\n",
       "      <td>1</td>\n",
       "      <td>1</td>\n",
       "      <td>1</td>\n",
       "      <td>0</td>\n",
       "      <td>...</td>\n",
       "      <td>0</td>\n",
       "      <td>0</td>\n",
       "      <td>0</td>\n",
       "      <td>0</td>\n",
       "      <td>0</td>\n",
       "      <td>0</td>\n",
       "      <td>0</td>\n",
       "      <td>0</td>\n",
       "      <td>0</td>\n",
       "      <td>0</td>\n",
       "    </tr>\n",
       "    <tr>\n",
       "      <th>116685</th>\n",
       "      <td>JCP2022_116748</td>\n",
       "      <td>0</td>\n",
       "      <td>1</td>\n",
       "      <td>1</td>\n",
       "      <td>1</td>\n",
       "      <td>1</td>\n",
       "      <td>1</td>\n",
       "      <td>1</td>\n",
       "      <td>1</td>\n",
       "      <td>1</td>\n",
       "      <td>...</td>\n",
       "      <td>0</td>\n",
       "      <td>0</td>\n",
       "      <td>0</td>\n",
       "      <td>0</td>\n",
       "      <td>0</td>\n",
       "      <td>0</td>\n",
       "      <td>0</td>\n",
       "      <td>0</td>\n",
       "      <td>0</td>\n",
       "      <td>0</td>\n",
       "    </tr>\n",
       "    <tr>\n",
       "      <th>116686</th>\n",
       "      <td>JCP2022_116749</td>\n",
       "      <td>0</td>\n",
       "      <td>1</td>\n",
       "      <td>1</td>\n",
       "      <td>1</td>\n",
       "      <td>1</td>\n",
       "      <td>1</td>\n",
       "      <td>1</td>\n",
       "      <td>1</td>\n",
       "      <td>1</td>\n",
       "      <td>...</td>\n",
       "      <td>0</td>\n",
       "      <td>0</td>\n",
       "      <td>0</td>\n",
       "      <td>0</td>\n",
       "      <td>0</td>\n",
       "      <td>0</td>\n",
       "      <td>0</td>\n",
       "      <td>0</td>\n",
       "      <td>0</td>\n",
       "      <td>0</td>\n",
       "    </tr>\n",
       "    <tr>\n",
       "      <th>116687</th>\n",
       "      <td>JCP2022_116750</td>\n",
       "      <td>1</td>\n",
       "      <td>1</td>\n",
       "      <td>1</td>\n",
       "      <td>1</td>\n",
       "      <td>1</td>\n",
       "      <td>1</td>\n",
       "      <td>1</td>\n",
       "      <td>1</td>\n",
       "      <td>0</td>\n",
       "      <td>...</td>\n",
       "      <td>0</td>\n",
       "      <td>0</td>\n",
       "      <td>0</td>\n",
       "      <td>0</td>\n",
       "      <td>0</td>\n",
       "      <td>0</td>\n",
       "      <td>0</td>\n",
       "      <td>0</td>\n",
       "      <td>0</td>\n",
       "      <td>0</td>\n",
       "    </tr>\n",
       "    <tr>\n",
       "      <th>116688</th>\n",
       "      <td>JCP2022_116751</td>\n",
       "      <td>0</td>\n",
       "      <td>1</td>\n",
       "      <td>1</td>\n",
       "      <td>1</td>\n",
       "      <td>0</td>\n",
       "      <td>1</td>\n",
       "      <td>0</td>\n",
       "      <td>1</td>\n",
       "      <td>1</td>\n",
       "      <td>...</td>\n",
       "      <td>0</td>\n",
       "      <td>0</td>\n",
       "      <td>0</td>\n",
       "      <td>0</td>\n",
       "      <td>0</td>\n",
       "      <td>0</td>\n",
       "      <td>0</td>\n",
       "      <td>0</td>\n",
       "      <td>0</td>\n",
       "      <td>0</td>\n",
       "    </tr>\n",
       "    <tr>\n",
       "      <th>116689</th>\n",
       "      <td>JCP2022_116752</td>\n",
       "      <td>1</td>\n",
       "      <td>1</td>\n",
       "      <td>1</td>\n",
       "      <td>1</td>\n",
       "      <td>1</td>\n",
       "      <td>1</td>\n",
       "      <td>1</td>\n",
       "      <td>1</td>\n",
       "      <td>1</td>\n",
       "      <td>...</td>\n",
       "      <td>0</td>\n",
       "      <td>0</td>\n",
       "      <td>0</td>\n",
       "      <td>0</td>\n",
       "      <td>0</td>\n",
       "      <td>0</td>\n",
       "      <td>0</td>\n",
       "      <td>0</td>\n",
       "      <td>0</td>\n",
       "      <td>0</td>\n",
       "    </tr>\n",
       "    <tr>\n",
       "      <th>116690</th>\n",
       "      <td>JCP2022_116753</td>\n",
       "      <td>0</td>\n",
       "      <td>1</td>\n",
       "      <td>1</td>\n",
       "      <td>0</td>\n",
       "      <td>0</td>\n",
       "      <td>1</td>\n",
       "      <td>1</td>\n",
       "      <td>0</td>\n",
       "      <td>1</td>\n",
       "      <td>...</td>\n",
       "      <td>0</td>\n",
       "      <td>0</td>\n",
       "      <td>0</td>\n",
       "      <td>0</td>\n",
       "      <td>0</td>\n",
       "      <td>0</td>\n",
       "      <td>0</td>\n",
       "      <td>0</td>\n",
       "      <td>0</td>\n",
       "      <td>0</td>\n",
       "    </tr>\n",
       "  </tbody>\n",
       "</table>\n",
       "<p>10 rows × 1033 columns</p>\n",
       "</div>"
      ],
      "text/plain": [
       "       Metadata_JCP2022  0  1  2  3  4  5  6  7  8  ...  1022  1023  1024  1025  1026  1027  1028  1029  1030  1031\n",
       "116681   JCP2022_116744  0  1  1  1  0  0  1  1  1  ...     0     0     0     0     0     0     0     0     0     0\n",
       "116682   JCP2022_116745  0  1  1  1  1  1  0  1  1  ...     0     0     0     0     0     0     0     0     0     0\n",
       "116683   JCP2022_116746  0  1  1  1  0  1  1  1  1  ...     0     0     0     0     0     0     0     0     0     0\n",
       "116684   JCP2022_116747  0  1  1  0  0  1  1  1  0  ...     0     0     0     0     0     0     0     0     0     0\n",
       "116685   JCP2022_116748  0  1  1  1  1  1  1  1  1  ...     0     0     0     0     0     0     0     0     0     0\n",
       "116686   JCP2022_116749  0  1  1  1  1  1  1  1  1  ...     0     0     0     0     0     0     0     0     0     0\n",
       "116687   JCP2022_116750  1  1  1  1  1  1  1  1  0  ...     0     0     0     0     0     0     0     0     0     0\n",
       "116688   JCP2022_116751  0  1  1  1  0  1  0  1  1  ...     0     0     0     0     0     0     0     0     0     0\n",
       "116689   JCP2022_116752  1  1  1  1  1  1  1  1  1  ...     0     0     0     0     0     0     0     0     0     0\n",
       "116690   JCP2022_116753  0  1  1  0  0  1  1  0  1  ...     0     0     0     0     0     0     0     0     0     0\n",
       "\n",
       "[10 rows x 1033 columns]"
      ]
     },
     "execution_count": 983,
     "metadata": {},
     "output_type": "execute_result"
    }
   ],
   "source": [
    "df_pharmacophores.info()\n",
    "df_pharmacophores.head(10)\n",
    "df_pharmacophores.tail(10)"
   ]
  },
  {
   "cell_type": "markdown",
   "id": "fd688975-0003-4615-bc83-fd2a26161e97",
   "metadata": {},
   "source": [
    "## Join pharmacophores with `Extended_Metadata` "
   ]
  },
  {
   "cell_type": "code",
   "execution_count": 986,
   "id": "3db0fcdb-6589-4682-ab33-e5c00646be49",
   "metadata": {
    "execution": {
     "iopub.execute_input": "2024-10-24T11:53:47.395094Z",
     "iopub.status.busy": "2024-10-24T11:53:47.394575Z",
     "iopub.status.idle": "2024-10-24T11:53:50.479016Z",
     "shell.execute_reply": "2024-10-24T11:53:50.478284Z",
     "shell.execute_reply.started": "2024-10-24T11:53:47.395052Z"
    }
   },
   "outputs": [],
   "source": [
    "df_3sample_pharmacophores = pd.merge(df_extMetadata, df_pharmacophores_all, how='left', on=['Metadata_JCP2022'], indicator = False)"
   ]
  },
  {
   "cell_type": "code",
   "execution_count": 987,
   "id": "1926753f-7d5b-40c2-9d53-0a4c66c78992",
   "metadata": {
    "execution": {
     "iopub.execute_input": "2024-10-24T11:53:50.480821Z",
     "iopub.status.busy": "2024-10-24T11:53:50.480519Z",
     "iopub.status.idle": "2024-10-24T11:53:50.518665Z",
     "shell.execute_reply": "2024-10-24T11:53:50.518127Z",
     "shell.execute_reply.started": "2024-10-24T11:53:50.480800Z"
    }
   },
   "outputs": [],
   "source": [
    "# df_3sample_pharmacophores = pd.read_pickle(ds.compoundPharmacophore3SampleFile)"
   ]
  },
  {
   "cell_type": "code",
   "execution_count": 988,
   "id": "06c5450e-713f-450e-80d9-de85651056f5",
   "metadata": {
    "execution": {
     "iopub.execute_input": "2024-10-24T11:53:50.520003Z",
     "iopub.status.busy": "2024-10-24T11:53:50.519784Z",
     "iopub.status.idle": "2024-10-24T11:53:50.650966Z",
     "shell.execute_reply": "2024-10-24T11:53:50.650171Z",
     "shell.execute_reply.started": "2024-10-24T11:53:50.519983Z"
    }
   },
   "outputs": [
    {
     "name": "stdout",
     "output_type": "stream",
     "text": [
      "<class 'pandas.core.frame.DataFrame'>\n",
      "RangeIndex: 115514 entries, 0 to 115513\n",
      "Columns: 1035 entries, Metadata_JCP2022 to 1031\n",
      "dtypes: int64(1034), object(1)\n",
      "memory usage: 912.1+ MB\n"
     ]
    },
    {
     "data": {
      "text/html": [
       "<div>\n",
       "<style scoped>\n",
       "    .dataframe tbody tr th:only-of-type {\n",
       "        vertical-align: middle;\n",
       "    }\n",
       "\n",
       "    .dataframe tbody tr th {\n",
       "        vertical-align: top;\n",
       "    }\n",
       "\n",
       "    .dataframe thead th {\n",
       "        text-align: right;\n",
       "    }\n",
       "</style>\n",
       "<table border=\"1\" class=\"dataframe\">\n",
       "  <thead>\n",
       "    <tr style=\"text-align: right;\">\n",
       "      <th></th>\n",
       "      <th>Metadata_JCP2022</th>\n",
       "      <th>Metadata_Hash</th>\n",
       "      <th>Metadata_Bin</th>\n",
       "      <th>0</th>\n",
       "      <th>1</th>\n",
       "      <th>2</th>\n",
       "      <th>3</th>\n",
       "      <th>4</th>\n",
       "      <th>5</th>\n",
       "      <th>6</th>\n",
       "      <th>...</th>\n",
       "      <th>1022</th>\n",
       "      <th>1023</th>\n",
       "      <th>1024</th>\n",
       "      <th>1025</th>\n",
       "      <th>1026</th>\n",
       "      <th>1027</th>\n",
       "      <th>1028</th>\n",
       "      <th>1029</th>\n",
       "      <th>1030</th>\n",
       "      <th>1031</th>\n",
       "    </tr>\n",
       "  </thead>\n",
       "  <tbody>\n",
       "    <tr>\n",
       "      <th>0</th>\n",
       "      <td>JCP2022_000001</td>\n",
       "      <td>-8640665944756343816</td>\n",
       "      <td>8</td>\n",
       "      <td>0</td>\n",
       "      <td>1</td>\n",
       "      <td>1</td>\n",
       "      <td>1</td>\n",
       "      <td>1</td>\n",
       "      <td>1</td>\n",
       "      <td>1</td>\n",
       "      <td>...</td>\n",
       "      <td>0</td>\n",
       "      <td>0</td>\n",
       "      <td>0</td>\n",
       "      <td>0</td>\n",
       "      <td>0</td>\n",
       "      <td>0</td>\n",
       "      <td>0</td>\n",
       "      <td>0</td>\n",
       "      <td>0</td>\n",
       "      <td>0</td>\n",
       "    </tr>\n",
       "    <tr>\n",
       "      <th>1</th>\n",
       "      <td>JCP2022_000002</td>\n",
       "      <td>-2058530355611931119</td>\n",
       "      <td>1</td>\n",
       "      <td>0</td>\n",
       "      <td>0</td>\n",
       "      <td>0</td>\n",
       "      <td>1</td>\n",
       "      <td>1</td>\n",
       "      <td>0</td>\n",
       "      <td>0</td>\n",
       "      <td>...</td>\n",
       "      <td>0</td>\n",
       "      <td>0</td>\n",
       "      <td>0</td>\n",
       "      <td>0</td>\n",
       "      <td>0</td>\n",
       "      <td>0</td>\n",
       "      <td>0</td>\n",
       "      <td>0</td>\n",
       "      <td>0</td>\n",
       "      <td>0</td>\n",
       "    </tr>\n",
       "    <tr>\n",
       "      <th>2</th>\n",
       "      <td>JCP2022_000004</td>\n",
       "      <td>2222818783381135156</td>\n",
       "      <td>4</td>\n",
       "      <td>1</td>\n",
       "      <td>1</td>\n",
       "      <td>1</td>\n",
       "      <td>0</td>\n",
       "      <td>0</td>\n",
       "      <td>1</td>\n",
       "      <td>0</td>\n",
       "      <td>...</td>\n",
       "      <td>0</td>\n",
       "      <td>0</td>\n",
       "      <td>0</td>\n",
       "      <td>0</td>\n",
       "      <td>0</td>\n",
       "      <td>0</td>\n",
       "      <td>0</td>\n",
       "      <td>0</td>\n",
       "      <td>0</td>\n",
       "      <td>0</td>\n",
       "    </tr>\n",
       "    <tr>\n",
       "      <th>3</th>\n",
       "      <td>JCP2022_000005</td>\n",
       "      <td>-5338746385487734035</td>\n",
       "      <td>13</td>\n",
       "      <td>1</td>\n",
       "      <td>1</td>\n",
       "      <td>1</td>\n",
       "      <td>1</td>\n",
       "      <td>0</td>\n",
       "      <td>1</td>\n",
       "      <td>1</td>\n",
       "      <td>...</td>\n",
       "      <td>0</td>\n",
       "      <td>0</td>\n",
       "      <td>0</td>\n",
       "      <td>0</td>\n",
       "      <td>0</td>\n",
       "      <td>0</td>\n",
       "      <td>0</td>\n",
       "      <td>0</td>\n",
       "      <td>0</td>\n",
       "      <td>0</td>\n",
       "    </tr>\n",
       "    <tr>\n",
       "      <th>4</th>\n",
       "      <td>JCP2022_000006</td>\n",
       "      <td>-7722642987546231786</td>\n",
       "      <td>6</td>\n",
       "      <td>1</td>\n",
       "      <td>1</td>\n",
       "      <td>1</td>\n",
       "      <td>1</td>\n",
       "      <td>0</td>\n",
       "      <td>0</td>\n",
       "      <td>1</td>\n",
       "      <td>...</td>\n",
       "      <td>0</td>\n",
       "      <td>0</td>\n",
       "      <td>0</td>\n",
       "      <td>0</td>\n",
       "      <td>0</td>\n",
       "      <td>0</td>\n",
       "      <td>0</td>\n",
       "      <td>0</td>\n",
       "      <td>0</td>\n",
       "      <td>0</td>\n",
       "    </tr>\n",
       "  </tbody>\n",
       "</table>\n",
       "<p>5 rows × 1035 columns</p>\n",
       "</div>"
      ],
      "text/plain": [
       "  Metadata_JCP2022        Metadata_Hash  Metadata_Bin  0  1  2  3  4  5  6  ...  1022  1023  1024  1025  1026  1027  1028  1029  1030  1031\n",
       "0   JCP2022_000001 -8640665944756343816             8  0  1  1  1  1  1  1  ...     0     0     0     0     0     0     0     0     0     0\n",
       "1   JCP2022_000002 -2058530355611931119             1  0  0  0  1  1  0  0  ...     0     0     0     0     0     0     0     0     0     0\n",
       "2   JCP2022_000004  2222818783381135156             4  1  1  1  0  0  1  0  ...     0     0     0     0     0     0     0     0     0     0\n",
       "3   JCP2022_000005 -5338746385487734035            13  1  1  1  1  0  1  1  ...     0     0     0     0     0     0     0     0     0     0\n",
       "4   JCP2022_000006 -7722642987546231786             6  1  1  1  1  0  0  1  ...     0     0     0     0     0     0     0     0     0     0\n",
       "\n",
       "[5 rows x 1035 columns]"
      ]
     },
     "execution_count": 988,
     "metadata": {},
     "output_type": "execute_result"
    },
    {
     "data": {
      "text/html": [
       "<div>\n",
       "<style scoped>\n",
       "    .dataframe tbody tr th:only-of-type {\n",
       "        vertical-align: middle;\n",
       "    }\n",
       "\n",
       "    .dataframe tbody tr th {\n",
       "        vertical-align: top;\n",
       "    }\n",
       "\n",
       "    .dataframe thead th {\n",
       "        text-align: right;\n",
       "    }\n",
       "</style>\n",
       "<table border=\"1\" class=\"dataframe\">\n",
       "  <thead>\n",
       "    <tr style=\"text-align: right;\">\n",
       "      <th></th>\n",
       "      <th>Metadata_JCP2022</th>\n",
       "      <th>Metadata_Hash</th>\n",
       "      <th>Metadata_Bin</th>\n",
       "      <th>0</th>\n",
       "      <th>1</th>\n",
       "      <th>2</th>\n",
       "      <th>3</th>\n",
       "      <th>4</th>\n",
       "      <th>5</th>\n",
       "      <th>6</th>\n",
       "      <th>...</th>\n",
       "      <th>1022</th>\n",
       "      <th>1023</th>\n",
       "      <th>1024</th>\n",
       "      <th>1025</th>\n",
       "      <th>1026</th>\n",
       "      <th>1027</th>\n",
       "      <th>1028</th>\n",
       "      <th>1029</th>\n",
       "      <th>1030</th>\n",
       "      <th>1031</th>\n",
       "    </tr>\n",
       "  </thead>\n",
       "  <tbody>\n",
       "    <tr>\n",
       "      <th>115509</th>\n",
       "      <td>JCP2022_116749</td>\n",
       "      <td>-2319171568672221400</td>\n",
       "      <td>8</td>\n",
       "      <td>0</td>\n",
       "      <td>1</td>\n",
       "      <td>1</td>\n",
       "      <td>1</td>\n",
       "      <td>1</td>\n",
       "      <td>1</td>\n",
       "      <td>1</td>\n",
       "      <td>...</td>\n",
       "      <td>0</td>\n",
       "      <td>0</td>\n",
       "      <td>0</td>\n",
       "      <td>0</td>\n",
       "      <td>0</td>\n",
       "      <td>0</td>\n",
       "      <td>0</td>\n",
       "      <td>0</td>\n",
       "      <td>0</td>\n",
       "      <td>0</td>\n",
       "    </tr>\n",
       "    <tr>\n",
       "      <th>115510</th>\n",
       "      <td>JCP2022_116750</td>\n",
       "      <td>9161564570943414536</td>\n",
       "      <td>8</td>\n",
       "      <td>1</td>\n",
       "      <td>1</td>\n",
       "      <td>1</td>\n",
       "      <td>1</td>\n",
       "      <td>1</td>\n",
       "      <td>1</td>\n",
       "      <td>1</td>\n",
       "      <td>...</td>\n",
       "      <td>0</td>\n",
       "      <td>0</td>\n",
       "      <td>0</td>\n",
       "      <td>0</td>\n",
       "      <td>0</td>\n",
       "      <td>0</td>\n",
       "      <td>0</td>\n",
       "      <td>0</td>\n",
       "      <td>0</td>\n",
       "      <td>0</td>\n",
       "    </tr>\n",
       "    <tr>\n",
       "      <th>115511</th>\n",
       "      <td>JCP2022_116751</td>\n",
       "      <td>5024933905542715644</td>\n",
       "      <td>12</td>\n",
       "      <td>0</td>\n",
       "      <td>1</td>\n",
       "      <td>1</td>\n",
       "      <td>1</td>\n",
       "      <td>0</td>\n",
       "      <td>1</td>\n",
       "      <td>0</td>\n",
       "      <td>...</td>\n",
       "      <td>0</td>\n",
       "      <td>0</td>\n",
       "      <td>0</td>\n",
       "      <td>0</td>\n",
       "      <td>0</td>\n",
       "      <td>0</td>\n",
       "      <td>0</td>\n",
       "      <td>0</td>\n",
       "      <td>0</td>\n",
       "      <td>0</td>\n",
       "    </tr>\n",
       "    <tr>\n",
       "      <th>115512</th>\n",
       "      <td>JCP2022_116752</td>\n",
       "      <td>8043583690001075349</td>\n",
       "      <td>5</td>\n",
       "      <td>1</td>\n",
       "      <td>1</td>\n",
       "      <td>1</td>\n",
       "      <td>1</td>\n",
       "      <td>1</td>\n",
       "      <td>1</td>\n",
       "      <td>1</td>\n",
       "      <td>...</td>\n",
       "      <td>0</td>\n",
       "      <td>0</td>\n",
       "      <td>0</td>\n",
       "      <td>0</td>\n",
       "      <td>0</td>\n",
       "      <td>0</td>\n",
       "      <td>0</td>\n",
       "      <td>0</td>\n",
       "      <td>0</td>\n",
       "      <td>0</td>\n",
       "    </tr>\n",
       "    <tr>\n",
       "      <th>115513</th>\n",
       "      <td>JCP2022_116753</td>\n",
       "      <td>-9112886486787329276</td>\n",
       "      <td>4</td>\n",
       "      <td>0</td>\n",
       "      <td>1</td>\n",
       "      <td>1</td>\n",
       "      <td>0</td>\n",
       "      <td>0</td>\n",
       "      <td>1</td>\n",
       "      <td>1</td>\n",
       "      <td>...</td>\n",
       "      <td>0</td>\n",
       "      <td>0</td>\n",
       "      <td>0</td>\n",
       "      <td>0</td>\n",
       "      <td>0</td>\n",
       "      <td>0</td>\n",
       "      <td>0</td>\n",
       "      <td>0</td>\n",
       "      <td>0</td>\n",
       "      <td>0</td>\n",
       "    </tr>\n",
       "  </tbody>\n",
       "</table>\n",
       "<p>5 rows × 1035 columns</p>\n",
       "</div>"
      ],
      "text/plain": [
       "       Metadata_JCP2022        Metadata_Hash  Metadata_Bin  0  1  2  3  4  5  6  ...  1022  1023  1024  1025  1026  1027  1028  1029  1030  1031\n",
       "115509   JCP2022_116749 -2319171568672221400             8  0  1  1  1  1  1  1  ...     0     0     0     0     0     0     0     0     0     0\n",
       "115510   JCP2022_116750  9161564570943414536             8  1  1  1  1  1  1  1  ...     0     0     0     0     0     0     0     0     0     0\n",
       "115511   JCP2022_116751  5024933905542715644            12  0  1  1  1  0  1  0  ...     0     0     0     0     0     0     0     0     0     0\n",
       "115512   JCP2022_116752  8043583690001075349             5  1  1  1  1  1  1  1  ...     0     0     0     0     0     0     0     0     0     0\n",
       "115513   JCP2022_116753 -9112886486787329276             4  0  1  1  0  0  1  1  ...     0     0     0     0     0     0     0     0     0     0\n",
       "\n",
       "[5 rows x 1035 columns]"
      ]
     },
     "execution_count": 988,
     "metadata": {},
     "output_type": "execute_result"
    }
   ],
   "source": [
    "df_3sample_pharmacophores.info()\n",
    "df_3sample_pharmacophores.head()\n",
    "df_3sample_pharmacophores.tail()"
   ]
  },
  {
   "cell_type": "code",
   "execution_count": 989,
   "id": "96af6af0-362e-4c2d-8dd3-7e28fcb0ba54",
   "metadata": {
    "execution": {
     "iopub.execute_input": "2024-10-24T11:54:32.516186Z",
     "iopub.status.busy": "2024-10-24T11:54:32.515708Z",
     "iopub.status.idle": "2024-10-24T11:54:32.562367Z",
     "shell.execute_reply": "2024-10-24T11:54:32.561743Z",
     "shell.execute_reply.started": "2024-10-24T11:54:32.516145Z"
    }
   },
   "outputs": [
    {
     "data": {
      "text/plain": [
       "('JCP2022_000001', -7496213587281941474, int)"
      ]
     },
     "execution_count": 989,
     "metadata": {},
     "output_type": "execute_result"
    },
    {
     "data": {
      "text/plain": [
       "('JCP2022_000002', -6640575950046795234, int)"
      ]
     },
     "execution_count": 989,
     "metadata": {},
     "output_type": "execute_result"
    }
   ],
   "source": [
    "# df_3sample_pharmacophores.Metadata_JCP2022.dtype\n",
    "# df_3sample_pharmacophores.Metadata_Hash.dtype\n",
    "# _tmp = df_3sample_pharmacophores.loc[0, 'Metadata_JCP2022']\n",
    "# _tmp, type(_tmp), len(_tmp)\n",
    "# _tmp_hash = hash(_tmp)\n",
    "# _tmp, _tmp_hash, type(_tmp_hash)\n",
    "_tmp = \"JCP2022_000001\"\n",
    "_tmp_hash = hash(_tmp)\n",
    "_tmp, _tmp_hash, type(_tmp_hash)\n",
    "_tmp = \"JCP2022_000002\"\n",
    "_tmp_hash = hash(_tmp)\n",
    "_tmp, _tmp_hash, type(_tmp_hash)"
   ]
  },
  {
   "cell_type": "markdown",
   "id": "addc0650-10c4-4724-9a9a-104c72795b3e",
   "metadata": {},
   "source": [
    "## Repeat each entry 3 times "
   ]
  },
  {
   "cell_type": "code",
   "execution_count": null,
   "id": "8a417ea6-32a1-4041-b6db-c1ac510f6b44",
   "metadata": {
    "execution": {
     "iopub.execute_input": "2024-10-22T20:46:04.057589Z",
     "iopub.status.busy": "2024-10-22T20:46:04.057117Z",
     "iopub.status.idle": "2024-10-22T20:46:04.125419Z",
     "shell.execute_reply": "2024-10-22T20:46:04.124829Z",
     "shell.execute_reply.started": "2024-10-22T20:46:04.057547Z"
    }
   },
   "outputs": [],
   "source": [
    "# df_3samples_pharmacophores = df_3sample_pharmacophores.loc[df_3sample_pharmacophores.index.repeat(3)]"
   ]
  },
  {
   "cell_type": "code",
   "execution_count": 990,
   "id": "0e7ad3d3-23a8-4ffa-bcd1-b4c5e2c3a063",
   "metadata": {
    "execution": {
     "iopub.execute_input": "2024-10-24T11:55:28.151591Z",
     "iopub.status.busy": "2024-10-24T11:55:28.151073Z",
     "iopub.status.idle": "2024-10-24T11:55:30.127607Z",
     "shell.execute_reply": "2024-10-24T11:55:30.126710Z",
     "shell.execute_reply.started": "2024-10-24T11:55:28.151547Z"
    }
   },
   "outputs": [],
   "source": [
    "df_3sample_pharmacophores = df_3sample_pharmacophores.loc[df_3sample_pharmacophores.index.repeat(3)]"
   ]
  },
  {
   "cell_type": "code",
   "execution_count": 991,
   "id": "d0bb4f39-bf5a-4d18-9ee8-d7314b407688",
   "metadata": {
    "execution": {
     "iopub.execute_input": "2024-10-24T11:56:35.409531Z",
     "iopub.status.busy": "2024-10-24T11:56:35.409039Z",
     "iopub.status.idle": "2024-10-24T11:56:35.511126Z",
     "shell.execute_reply": "2024-10-24T11:56:35.510373Z",
     "shell.execute_reply.started": "2024-10-24T11:56:35.409491Z"
    }
   },
   "outputs": [
    {
     "name": "stdout",
     "output_type": "stream",
     "text": [
      "<class 'pandas.core.frame.DataFrame'>\n",
      "Index: 346542 entries, 0 to 115513\n",
      "Columns: 1035 entries, Metadata_JCP2022 to 1031\n",
      "dtypes: int64(1034), object(1)\n",
      "memory usage: 2.7+ GB\n"
     ]
    },
    {
     "data": {
      "text/html": [
       "<div>\n",
       "<style scoped>\n",
       "    .dataframe tbody tr th:only-of-type {\n",
       "        vertical-align: middle;\n",
       "    }\n",
       "\n",
       "    .dataframe tbody tr th {\n",
       "        vertical-align: top;\n",
       "    }\n",
       "\n",
       "    .dataframe thead th {\n",
       "        text-align: right;\n",
       "    }\n",
       "</style>\n",
       "<table border=\"1\" class=\"dataframe\">\n",
       "  <thead>\n",
       "    <tr style=\"text-align: right;\">\n",
       "      <th></th>\n",
       "      <th>Metadata_JCP2022</th>\n",
       "      <th>Metadata_Hash</th>\n",
       "      <th>Metadata_Bin</th>\n",
       "      <th>0</th>\n",
       "      <th>1</th>\n",
       "      <th>2</th>\n",
       "      <th>3</th>\n",
       "      <th>4</th>\n",
       "      <th>5</th>\n",
       "      <th>6</th>\n",
       "      <th>...</th>\n",
       "      <th>1022</th>\n",
       "      <th>1023</th>\n",
       "      <th>1024</th>\n",
       "      <th>1025</th>\n",
       "      <th>1026</th>\n",
       "      <th>1027</th>\n",
       "      <th>1028</th>\n",
       "      <th>1029</th>\n",
       "      <th>1030</th>\n",
       "      <th>1031</th>\n",
       "    </tr>\n",
       "  </thead>\n",
       "  <tbody>\n",
       "    <tr>\n",
       "      <th>0</th>\n",
       "      <td>JCP2022_000001</td>\n",
       "      <td>-8640665944756343816</td>\n",
       "      <td>8</td>\n",
       "      <td>0</td>\n",
       "      <td>1</td>\n",
       "      <td>1</td>\n",
       "      <td>1</td>\n",
       "      <td>1</td>\n",
       "      <td>1</td>\n",
       "      <td>1</td>\n",
       "      <td>...</td>\n",
       "      <td>0</td>\n",
       "      <td>0</td>\n",
       "      <td>0</td>\n",
       "      <td>0</td>\n",
       "      <td>0</td>\n",
       "      <td>0</td>\n",
       "      <td>0</td>\n",
       "      <td>0</td>\n",
       "      <td>0</td>\n",
       "      <td>0</td>\n",
       "    </tr>\n",
       "    <tr>\n",
       "      <th>0</th>\n",
       "      <td>JCP2022_000001</td>\n",
       "      <td>-8640665944756343816</td>\n",
       "      <td>8</td>\n",
       "      <td>0</td>\n",
       "      <td>1</td>\n",
       "      <td>1</td>\n",
       "      <td>1</td>\n",
       "      <td>1</td>\n",
       "      <td>1</td>\n",
       "      <td>1</td>\n",
       "      <td>...</td>\n",
       "      <td>0</td>\n",
       "      <td>0</td>\n",
       "      <td>0</td>\n",
       "      <td>0</td>\n",
       "      <td>0</td>\n",
       "      <td>0</td>\n",
       "      <td>0</td>\n",
       "      <td>0</td>\n",
       "      <td>0</td>\n",
       "      <td>0</td>\n",
       "    </tr>\n",
       "    <tr>\n",
       "      <th>0</th>\n",
       "      <td>JCP2022_000001</td>\n",
       "      <td>-8640665944756343816</td>\n",
       "      <td>8</td>\n",
       "      <td>0</td>\n",
       "      <td>1</td>\n",
       "      <td>1</td>\n",
       "      <td>1</td>\n",
       "      <td>1</td>\n",
       "      <td>1</td>\n",
       "      <td>1</td>\n",
       "      <td>...</td>\n",
       "      <td>0</td>\n",
       "      <td>0</td>\n",
       "      <td>0</td>\n",
       "      <td>0</td>\n",
       "      <td>0</td>\n",
       "      <td>0</td>\n",
       "      <td>0</td>\n",
       "      <td>0</td>\n",
       "      <td>0</td>\n",
       "      <td>0</td>\n",
       "    </tr>\n",
       "    <tr>\n",
       "      <th>1</th>\n",
       "      <td>JCP2022_000002</td>\n",
       "      <td>-2058530355611931119</td>\n",
       "      <td>1</td>\n",
       "      <td>0</td>\n",
       "      <td>0</td>\n",
       "      <td>0</td>\n",
       "      <td>1</td>\n",
       "      <td>1</td>\n",
       "      <td>0</td>\n",
       "      <td>0</td>\n",
       "      <td>...</td>\n",
       "      <td>0</td>\n",
       "      <td>0</td>\n",
       "      <td>0</td>\n",
       "      <td>0</td>\n",
       "      <td>0</td>\n",
       "      <td>0</td>\n",
       "      <td>0</td>\n",
       "      <td>0</td>\n",
       "      <td>0</td>\n",
       "      <td>0</td>\n",
       "    </tr>\n",
       "    <tr>\n",
       "      <th>1</th>\n",
       "      <td>JCP2022_000002</td>\n",
       "      <td>-2058530355611931119</td>\n",
       "      <td>1</td>\n",
       "      <td>0</td>\n",
       "      <td>0</td>\n",
       "      <td>0</td>\n",
       "      <td>1</td>\n",
       "      <td>1</td>\n",
       "      <td>0</td>\n",
       "      <td>0</td>\n",
       "      <td>...</td>\n",
       "      <td>0</td>\n",
       "      <td>0</td>\n",
       "      <td>0</td>\n",
       "      <td>0</td>\n",
       "      <td>0</td>\n",
       "      <td>0</td>\n",
       "      <td>0</td>\n",
       "      <td>0</td>\n",
       "      <td>0</td>\n",
       "      <td>0</td>\n",
       "    </tr>\n",
       "  </tbody>\n",
       "</table>\n",
       "<p>5 rows × 1035 columns</p>\n",
       "</div>"
      ],
      "text/plain": [
       "  Metadata_JCP2022        Metadata_Hash  Metadata_Bin  0  1  2  3  4  5  6  ...  1022  1023  1024  1025  1026  1027  1028  1029  1030  1031\n",
       "0   JCP2022_000001 -8640665944756343816             8  0  1  1  1  1  1  1  ...     0     0     0     0     0     0     0     0     0     0\n",
       "0   JCP2022_000001 -8640665944756343816             8  0  1  1  1  1  1  1  ...     0     0     0     0     0     0     0     0     0     0\n",
       "0   JCP2022_000001 -8640665944756343816             8  0  1  1  1  1  1  1  ...     0     0     0     0     0     0     0     0     0     0\n",
       "1   JCP2022_000002 -2058530355611931119             1  0  0  0  1  1  0  0  ...     0     0     0     0     0     0     0     0     0     0\n",
       "1   JCP2022_000002 -2058530355611931119             1  0  0  0  1  1  0  0  ...     0     0     0     0     0     0     0     0     0     0\n",
       "\n",
       "[5 rows x 1035 columns]"
      ]
     },
     "execution_count": 991,
     "metadata": {},
     "output_type": "execute_result"
    },
    {
     "data": {
      "text/html": [
       "<div>\n",
       "<style scoped>\n",
       "    .dataframe tbody tr th:only-of-type {\n",
       "        vertical-align: middle;\n",
       "    }\n",
       "\n",
       "    .dataframe tbody tr th {\n",
       "        vertical-align: top;\n",
       "    }\n",
       "\n",
       "    .dataframe thead th {\n",
       "        text-align: right;\n",
       "    }\n",
       "</style>\n",
       "<table border=\"1\" class=\"dataframe\">\n",
       "  <thead>\n",
       "    <tr style=\"text-align: right;\">\n",
       "      <th></th>\n",
       "      <th>Metadata_JCP2022</th>\n",
       "      <th>Metadata_Hash</th>\n",
       "      <th>Metadata_Bin</th>\n",
       "      <th>0</th>\n",
       "      <th>1</th>\n",
       "      <th>2</th>\n",
       "      <th>3</th>\n",
       "      <th>4</th>\n",
       "      <th>5</th>\n",
       "      <th>6</th>\n",
       "      <th>...</th>\n",
       "      <th>1022</th>\n",
       "      <th>1023</th>\n",
       "      <th>1024</th>\n",
       "      <th>1025</th>\n",
       "      <th>1026</th>\n",
       "      <th>1027</th>\n",
       "      <th>1028</th>\n",
       "      <th>1029</th>\n",
       "      <th>1030</th>\n",
       "      <th>1031</th>\n",
       "    </tr>\n",
       "  </thead>\n",
       "  <tbody>\n",
       "    <tr>\n",
       "      <th>115512</th>\n",
       "      <td>JCP2022_116752</td>\n",
       "      <td>8043583690001075349</td>\n",
       "      <td>5</td>\n",
       "      <td>1</td>\n",
       "      <td>1</td>\n",
       "      <td>1</td>\n",
       "      <td>1</td>\n",
       "      <td>1</td>\n",
       "      <td>1</td>\n",
       "      <td>1</td>\n",
       "      <td>...</td>\n",
       "      <td>0</td>\n",
       "      <td>0</td>\n",
       "      <td>0</td>\n",
       "      <td>0</td>\n",
       "      <td>0</td>\n",
       "      <td>0</td>\n",
       "      <td>0</td>\n",
       "      <td>0</td>\n",
       "      <td>0</td>\n",
       "      <td>0</td>\n",
       "    </tr>\n",
       "    <tr>\n",
       "      <th>115512</th>\n",
       "      <td>JCP2022_116752</td>\n",
       "      <td>8043583690001075349</td>\n",
       "      <td>5</td>\n",
       "      <td>1</td>\n",
       "      <td>1</td>\n",
       "      <td>1</td>\n",
       "      <td>1</td>\n",
       "      <td>1</td>\n",
       "      <td>1</td>\n",
       "      <td>1</td>\n",
       "      <td>...</td>\n",
       "      <td>0</td>\n",
       "      <td>0</td>\n",
       "      <td>0</td>\n",
       "      <td>0</td>\n",
       "      <td>0</td>\n",
       "      <td>0</td>\n",
       "      <td>0</td>\n",
       "      <td>0</td>\n",
       "      <td>0</td>\n",
       "      <td>0</td>\n",
       "    </tr>\n",
       "    <tr>\n",
       "      <th>115513</th>\n",
       "      <td>JCP2022_116753</td>\n",
       "      <td>-9112886486787329276</td>\n",
       "      <td>4</td>\n",
       "      <td>0</td>\n",
       "      <td>1</td>\n",
       "      <td>1</td>\n",
       "      <td>0</td>\n",
       "      <td>0</td>\n",
       "      <td>1</td>\n",
       "      <td>1</td>\n",
       "      <td>...</td>\n",
       "      <td>0</td>\n",
       "      <td>0</td>\n",
       "      <td>0</td>\n",
       "      <td>0</td>\n",
       "      <td>0</td>\n",
       "      <td>0</td>\n",
       "      <td>0</td>\n",
       "      <td>0</td>\n",
       "      <td>0</td>\n",
       "      <td>0</td>\n",
       "    </tr>\n",
       "    <tr>\n",
       "      <th>115513</th>\n",
       "      <td>JCP2022_116753</td>\n",
       "      <td>-9112886486787329276</td>\n",
       "      <td>4</td>\n",
       "      <td>0</td>\n",
       "      <td>1</td>\n",
       "      <td>1</td>\n",
       "      <td>0</td>\n",
       "      <td>0</td>\n",
       "      <td>1</td>\n",
       "      <td>1</td>\n",
       "      <td>...</td>\n",
       "      <td>0</td>\n",
       "      <td>0</td>\n",
       "      <td>0</td>\n",
       "      <td>0</td>\n",
       "      <td>0</td>\n",
       "      <td>0</td>\n",
       "      <td>0</td>\n",
       "      <td>0</td>\n",
       "      <td>0</td>\n",
       "      <td>0</td>\n",
       "    </tr>\n",
       "    <tr>\n",
       "      <th>115513</th>\n",
       "      <td>JCP2022_116753</td>\n",
       "      <td>-9112886486787329276</td>\n",
       "      <td>4</td>\n",
       "      <td>0</td>\n",
       "      <td>1</td>\n",
       "      <td>1</td>\n",
       "      <td>0</td>\n",
       "      <td>0</td>\n",
       "      <td>1</td>\n",
       "      <td>1</td>\n",
       "      <td>...</td>\n",
       "      <td>0</td>\n",
       "      <td>0</td>\n",
       "      <td>0</td>\n",
       "      <td>0</td>\n",
       "      <td>0</td>\n",
       "      <td>0</td>\n",
       "      <td>0</td>\n",
       "      <td>0</td>\n",
       "      <td>0</td>\n",
       "      <td>0</td>\n",
       "    </tr>\n",
       "  </tbody>\n",
       "</table>\n",
       "<p>5 rows × 1035 columns</p>\n",
       "</div>"
      ],
      "text/plain": [
       "       Metadata_JCP2022        Metadata_Hash  Metadata_Bin  0  1  2  3  4  5  6  ...  1022  1023  1024  1025  1026  1027  1028  1029  1030  1031\n",
       "115512   JCP2022_116752  8043583690001075349             5  1  1  1  1  1  1  1  ...     0     0     0     0     0     0     0     0     0     0\n",
       "115512   JCP2022_116752  8043583690001075349             5  1  1  1  1  1  1  1  ...     0     0     0     0     0     0     0     0     0     0\n",
       "115513   JCP2022_116753 -9112886486787329276             4  0  1  1  0  0  1  1  ...     0     0     0     0     0     0     0     0     0     0\n",
       "115513   JCP2022_116753 -9112886486787329276             4  0  1  1  0  0  1  1  ...     0     0     0     0     0     0     0     0     0     0\n",
       "115513   JCP2022_116753 -9112886486787329276             4  0  1  1  0  0  1  1  ...     0     0     0     0     0     0     0     0     0     0\n",
       "\n",
       "[5 rows x 1035 columns]"
      ]
     },
     "execution_count": 991,
     "metadata": {},
     "output_type": "execute_result"
    }
   ],
   "source": [
    "df_3sample_pharmacophores.info()\n",
    "df_3sample_pharmacophores.head(5)\n",
    "df_3sample_pharmacophores.tail(5)"
   ]
  },
  {
   "cell_type": "markdown",
   "id": "ab258cf9-227c-4441-932b-f51f9199c26f",
   "metadata": {
    "heading_collapsed": true,
    "hidden": true
   },
   "source": [
    "## Sort Pharmacophore file in Hash Order "
   ]
  },
  {
   "cell_type": "code",
   "execution_count": 992,
   "id": "ba56bac0-61aa-4bba-8907-a1c80116f6d2",
   "metadata": {
    "execution": {
     "iopub.execute_input": "2024-10-24T11:57:00.279323Z",
     "iopub.status.busy": "2024-10-24T11:57:00.278767Z",
     "iopub.status.idle": "2024-10-24T11:57:00.324583Z",
     "shell.execute_reply": "2024-10-24T11:57:00.323938Z",
     "shell.execute_reply.started": "2024-10-24T11:57:00.279279Z"
    }
   },
   "outputs": [],
   "source": [
    "df_3sample_pharmacophores.reset_index(drop=True, inplace = True)"
   ]
  },
  {
   "cell_type": "code",
   "execution_count": 994,
   "id": "70ed4222-f8a9-4e31-ad35-0dfe9c4829ef",
   "metadata": {
    "execution": {
     "iopub.execute_input": "2024-10-24T11:57:50.571369Z",
     "iopub.status.busy": "2024-10-24T11:57:50.570999Z",
     "iopub.status.idle": "2024-10-24T11:57:50.633150Z",
     "shell.execute_reply": "2024-10-24T11:57:50.632494Z",
     "shell.execute_reply.started": "2024-10-24T11:57:50.571339Z"
    }
   },
   "outputs": [
    {
     "data": {
      "text/html": [
       "<div>\n",
       "<style scoped>\n",
       "    .dataframe tbody tr th:only-of-type {\n",
       "        vertical-align: middle;\n",
       "    }\n",
       "\n",
       "    .dataframe tbody tr th {\n",
       "        vertical-align: top;\n",
       "    }\n",
       "\n",
       "    .dataframe thead th {\n",
       "        text-align: right;\n",
       "    }\n",
       "</style>\n",
       "<table border=\"1\" class=\"dataframe\">\n",
       "  <thead>\n",
       "    <tr style=\"text-align: right;\">\n",
       "      <th></th>\n",
       "      <th>Metadata_JCP2022</th>\n",
       "      <th>Metadata_Hash</th>\n",
       "      <th>Metadata_Bin</th>\n",
       "      <th>0</th>\n",
       "      <th>1</th>\n",
       "      <th>2</th>\n",
       "      <th>3</th>\n",
       "      <th>4</th>\n",
       "      <th>5</th>\n",
       "      <th>6</th>\n",
       "      <th>...</th>\n",
       "      <th>1022</th>\n",
       "      <th>1023</th>\n",
       "      <th>1024</th>\n",
       "      <th>1025</th>\n",
       "      <th>1026</th>\n",
       "      <th>1027</th>\n",
       "      <th>1028</th>\n",
       "      <th>1029</th>\n",
       "      <th>1030</th>\n",
       "      <th>1031</th>\n",
       "    </tr>\n",
       "  </thead>\n",
       "  <tbody>\n",
       "    <tr>\n",
       "      <th>0</th>\n",
       "      <td>JCP2022_000001</td>\n",
       "      <td>-8640665944756343816</td>\n",
       "      <td>8</td>\n",
       "      <td>0</td>\n",
       "      <td>1</td>\n",
       "      <td>1</td>\n",
       "      <td>1</td>\n",
       "      <td>1</td>\n",
       "      <td>1</td>\n",
       "      <td>1</td>\n",
       "      <td>...</td>\n",
       "      <td>0</td>\n",
       "      <td>0</td>\n",
       "      <td>0</td>\n",
       "      <td>0</td>\n",
       "      <td>0</td>\n",
       "      <td>0</td>\n",
       "      <td>0</td>\n",
       "      <td>0</td>\n",
       "      <td>0</td>\n",
       "      <td>0</td>\n",
       "    </tr>\n",
       "    <tr>\n",
       "      <th>1</th>\n",
       "      <td>JCP2022_000001</td>\n",
       "      <td>-8640665944756343816</td>\n",
       "      <td>8</td>\n",
       "      <td>0</td>\n",
       "      <td>1</td>\n",
       "      <td>1</td>\n",
       "      <td>1</td>\n",
       "      <td>1</td>\n",
       "      <td>1</td>\n",
       "      <td>1</td>\n",
       "      <td>...</td>\n",
       "      <td>0</td>\n",
       "      <td>0</td>\n",
       "      <td>0</td>\n",
       "      <td>0</td>\n",
       "      <td>0</td>\n",
       "      <td>0</td>\n",
       "      <td>0</td>\n",
       "      <td>0</td>\n",
       "      <td>0</td>\n",
       "      <td>0</td>\n",
       "    </tr>\n",
       "    <tr>\n",
       "      <th>2</th>\n",
       "      <td>JCP2022_000001</td>\n",
       "      <td>-8640665944756343816</td>\n",
       "      <td>8</td>\n",
       "      <td>0</td>\n",
       "      <td>1</td>\n",
       "      <td>1</td>\n",
       "      <td>1</td>\n",
       "      <td>1</td>\n",
       "      <td>1</td>\n",
       "      <td>1</td>\n",
       "      <td>...</td>\n",
       "      <td>0</td>\n",
       "      <td>0</td>\n",
       "      <td>0</td>\n",
       "      <td>0</td>\n",
       "      <td>0</td>\n",
       "      <td>0</td>\n",
       "      <td>0</td>\n",
       "      <td>0</td>\n",
       "      <td>0</td>\n",
       "      <td>0</td>\n",
       "    </tr>\n",
       "    <tr>\n",
       "      <th>3</th>\n",
       "      <td>JCP2022_000002</td>\n",
       "      <td>-2058530355611931119</td>\n",
       "      <td>1</td>\n",
       "      <td>0</td>\n",
       "      <td>0</td>\n",
       "      <td>0</td>\n",
       "      <td>1</td>\n",
       "      <td>1</td>\n",
       "      <td>0</td>\n",
       "      <td>0</td>\n",
       "      <td>...</td>\n",
       "      <td>0</td>\n",
       "      <td>0</td>\n",
       "      <td>0</td>\n",
       "      <td>0</td>\n",
       "      <td>0</td>\n",
       "      <td>0</td>\n",
       "      <td>0</td>\n",
       "      <td>0</td>\n",
       "      <td>0</td>\n",
       "      <td>0</td>\n",
       "    </tr>\n",
       "  </tbody>\n",
       "</table>\n",
       "<p>4 rows × 1035 columns</p>\n",
       "</div>"
      ],
      "text/plain": [
       "  Metadata_JCP2022        Metadata_Hash  Metadata_Bin  0  1  2  3  4  5  6  ...  1022  1023  1024  1025  1026  1027  1028  1029  1030  1031\n",
       "0   JCP2022_000001 -8640665944756343816             8  0  1  1  1  1  1  1  ...     0     0     0     0     0     0     0     0     0     0\n",
       "1   JCP2022_000001 -8640665944756343816             8  0  1  1  1  1  1  1  ...     0     0     0     0     0     0     0     0     0     0\n",
       "2   JCP2022_000001 -8640665944756343816             8  0  1  1  1  1  1  1  ...     0     0     0     0     0     0     0     0     0     0\n",
       "3   JCP2022_000002 -2058530355611931119             1  0  0  0  1  1  0  0  ...     0     0     0     0     0     0     0     0     0     0\n",
       "\n",
       "[4 rows x 1035 columns]"
      ]
     },
     "execution_count": 994,
     "metadata": {},
     "output_type": "execute_result"
    },
    {
     "data": {
      "text/html": [
       "<div>\n",
       "<style scoped>\n",
       "    .dataframe tbody tr th:only-of-type {\n",
       "        vertical-align: middle;\n",
       "    }\n",
       "\n",
       "    .dataframe tbody tr th {\n",
       "        vertical-align: top;\n",
       "    }\n",
       "\n",
       "    .dataframe thead th {\n",
       "        text-align: right;\n",
       "    }\n",
       "</style>\n",
       "<table border=\"1\" class=\"dataframe\">\n",
       "  <thead>\n",
       "    <tr style=\"text-align: right;\">\n",
       "      <th></th>\n",
       "      <th>Metadata_JCP2022</th>\n",
       "      <th>Metadata_Hash</th>\n",
       "      <th>Metadata_Bin</th>\n",
       "      <th>0</th>\n",
       "      <th>1</th>\n",
       "      <th>2</th>\n",
       "      <th>3</th>\n",
       "      <th>4</th>\n",
       "      <th>5</th>\n",
       "      <th>6</th>\n",
       "      <th>...</th>\n",
       "      <th>1022</th>\n",
       "      <th>1023</th>\n",
       "      <th>1024</th>\n",
       "      <th>1025</th>\n",
       "      <th>1026</th>\n",
       "      <th>1027</th>\n",
       "      <th>1028</th>\n",
       "      <th>1029</th>\n",
       "      <th>1030</th>\n",
       "      <th>1031</th>\n",
       "    </tr>\n",
       "  </thead>\n",
       "  <tbody>\n",
       "    <tr>\n",
       "      <th>346538</th>\n",
       "      <td>JCP2022_116752</td>\n",
       "      <td>8043583690001075349</td>\n",
       "      <td>5</td>\n",
       "      <td>1</td>\n",
       "      <td>1</td>\n",
       "      <td>1</td>\n",
       "      <td>1</td>\n",
       "      <td>1</td>\n",
       "      <td>1</td>\n",
       "      <td>1</td>\n",
       "      <td>...</td>\n",
       "      <td>0</td>\n",
       "      <td>0</td>\n",
       "      <td>0</td>\n",
       "      <td>0</td>\n",
       "      <td>0</td>\n",
       "      <td>0</td>\n",
       "      <td>0</td>\n",
       "      <td>0</td>\n",
       "      <td>0</td>\n",
       "      <td>0</td>\n",
       "    </tr>\n",
       "    <tr>\n",
       "      <th>346539</th>\n",
       "      <td>JCP2022_116753</td>\n",
       "      <td>-9112886486787329276</td>\n",
       "      <td>4</td>\n",
       "      <td>0</td>\n",
       "      <td>1</td>\n",
       "      <td>1</td>\n",
       "      <td>0</td>\n",
       "      <td>0</td>\n",
       "      <td>1</td>\n",
       "      <td>1</td>\n",
       "      <td>...</td>\n",
       "      <td>0</td>\n",
       "      <td>0</td>\n",
       "      <td>0</td>\n",
       "      <td>0</td>\n",
       "      <td>0</td>\n",
       "      <td>0</td>\n",
       "      <td>0</td>\n",
       "      <td>0</td>\n",
       "      <td>0</td>\n",
       "      <td>0</td>\n",
       "    </tr>\n",
       "    <tr>\n",
       "      <th>346540</th>\n",
       "      <td>JCP2022_116753</td>\n",
       "      <td>-9112886486787329276</td>\n",
       "      <td>4</td>\n",
       "      <td>0</td>\n",
       "      <td>1</td>\n",
       "      <td>1</td>\n",
       "      <td>0</td>\n",
       "      <td>0</td>\n",
       "      <td>1</td>\n",
       "      <td>1</td>\n",
       "      <td>...</td>\n",
       "      <td>0</td>\n",
       "      <td>0</td>\n",
       "      <td>0</td>\n",
       "      <td>0</td>\n",
       "      <td>0</td>\n",
       "      <td>0</td>\n",
       "      <td>0</td>\n",
       "      <td>0</td>\n",
       "      <td>0</td>\n",
       "      <td>0</td>\n",
       "    </tr>\n",
       "    <tr>\n",
       "      <th>346541</th>\n",
       "      <td>JCP2022_116753</td>\n",
       "      <td>-9112886486787329276</td>\n",
       "      <td>4</td>\n",
       "      <td>0</td>\n",
       "      <td>1</td>\n",
       "      <td>1</td>\n",
       "      <td>0</td>\n",
       "      <td>0</td>\n",
       "      <td>1</td>\n",
       "      <td>1</td>\n",
       "      <td>...</td>\n",
       "      <td>0</td>\n",
       "      <td>0</td>\n",
       "      <td>0</td>\n",
       "      <td>0</td>\n",
       "      <td>0</td>\n",
       "      <td>0</td>\n",
       "      <td>0</td>\n",
       "      <td>0</td>\n",
       "      <td>0</td>\n",
       "      <td>0</td>\n",
       "    </tr>\n",
       "  </tbody>\n",
       "</table>\n",
       "<p>4 rows × 1035 columns</p>\n",
       "</div>"
      ],
      "text/plain": [
       "       Metadata_JCP2022        Metadata_Hash  Metadata_Bin  0  1  2  3  4  5  6  ...  1022  1023  1024  1025  1026  1027  1028  1029  1030  1031\n",
       "346538   JCP2022_116752  8043583690001075349             5  1  1  1  1  1  1  1  ...     0     0     0     0     0     0     0     0     0     0\n",
       "346539   JCP2022_116753 -9112886486787329276             4  0  1  1  0  0  1  1  ...     0     0     0     0     0     0     0     0     0     0\n",
       "346540   JCP2022_116753 -9112886486787329276             4  0  1  1  0  0  1  1  ...     0     0     0     0     0     0     0     0     0     0\n",
       "346541   JCP2022_116753 -9112886486787329276             4  0  1  1  0  0  1  1  ...     0     0     0     0     0     0     0     0     0     0\n",
       "\n",
       "[4 rows x 1035 columns]"
      ]
     },
     "execution_count": 994,
     "metadata": {},
     "output_type": "execute_result"
    }
   ],
   "source": [
    "df_3sample_pharmacophores.head(4)\n",
    "df_3sample_pharmacophores.tail(4)"
   ]
  },
  {
   "cell_type": "code",
   "execution_count": 995,
   "id": "b7f4ad17-4465-493e-b1b9-4a2e2cd32d5f",
   "metadata": {
    "execution": {
     "iopub.execute_input": "2024-10-24T11:59:02.515295Z",
     "iopub.status.busy": "2024-10-24T11:59:02.514713Z",
     "iopub.status.idle": "2024-10-24T11:59:27.897396Z",
     "shell.execute_reply": "2024-10-24T11:59:27.896290Z",
     "shell.execute_reply.started": "2024-10-24T11:59:02.515255Z"
    }
   },
   "outputs": [],
   "source": [
    "df_3sample_sorted = df_3sample_pharmacophores.set_index(['Metadata_Hash'], drop=False, append = False )\n",
    "df_3sample_sorted.sort_index(inplace = True)\n",
    "# df_3sample_sorted"
   ]
  },
  {
   "cell_type": "code",
   "execution_count": 996,
   "id": "f6fbde37-d157-4de7-b7e2-29fa1fc8d53d",
   "metadata": {
    "execution": {
     "iopub.execute_input": "2024-10-24T11:59:30.394360Z",
     "iopub.status.busy": "2024-10-24T11:59:30.393803Z",
     "iopub.status.idle": "2024-10-24T11:59:30.485471Z",
     "shell.execute_reply": "2024-10-24T11:59:30.484705Z",
     "shell.execute_reply.started": "2024-10-24T11:59:30.394320Z"
    }
   },
   "outputs": [
    {
     "data": {
      "text/html": [
       "<div>\n",
       "<style scoped>\n",
       "    .dataframe tbody tr th:only-of-type {\n",
       "        vertical-align: middle;\n",
       "    }\n",
       "\n",
       "    .dataframe tbody tr th {\n",
       "        vertical-align: top;\n",
       "    }\n",
       "\n",
       "    .dataframe thead th {\n",
       "        text-align: right;\n",
       "    }\n",
       "</style>\n",
       "<table border=\"1\" class=\"dataframe\">\n",
       "  <thead>\n",
       "    <tr style=\"text-align: right;\">\n",
       "      <th></th>\n",
       "      <th>Metadata_JCP2022</th>\n",
       "      <th>Metadata_Hash</th>\n",
       "      <th>Metadata_Bin</th>\n",
       "      <th>0</th>\n",
       "      <th>1</th>\n",
       "      <th>2</th>\n",
       "      <th>3</th>\n",
       "      <th>4</th>\n",
       "      <th>5</th>\n",
       "      <th>6</th>\n",
       "      <th>...</th>\n",
       "      <th>1022</th>\n",
       "      <th>1023</th>\n",
       "      <th>1024</th>\n",
       "      <th>1025</th>\n",
       "      <th>1026</th>\n",
       "      <th>1027</th>\n",
       "      <th>1028</th>\n",
       "      <th>1029</th>\n",
       "      <th>1030</th>\n",
       "      <th>1031</th>\n",
       "    </tr>\n",
       "    <tr>\n",
       "      <th>Metadata_Hash</th>\n",
       "      <th></th>\n",
       "      <th></th>\n",
       "      <th></th>\n",
       "      <th></th>\n",
       "      <th></th>\n",
       "      <th></th>\n",
       "      <th></th>\n",
       "      <th></th>\n",
       "      <th></th>\n",
       "      <th></th>\n",
       "      <th></th>\n",
       "      <th></th>\n",
       "      <th></th>\n",
       "      <th></th>\n",
       "      <th></th>\n",
       "      <th></th>\n",
       "      <th></th>\n",
       "      <th></th>\n",
       "      <th></th>\n",
       "      <th></th>\n",
       "      <th></th>\n",
       "    </tr>\n",
       "  </thead>\n",
       "  <tbody>\n",
       "    <tr>\n",
       "      <th>-9223347314827979542</th>\n",
       "      <td>JCP2022_006020</td>\n",
       "      <td>-9223347314827979542</td>\n",
       "      <td>10</td>\n",
       "      <td>1</td>\n",
       "      <td>1</td>\n",
       "      <td>1</td>\n",
       "      <td>1</td>\n",
       "      <td>0</td>\n",
       "      <td>1</td>\n",
       "      <td>1</td>\n",
       "      <td>...</td>\n",
       "      <td>0</td>\n",
       "      <td>0</td>\n",
       "      <td>0</td>\n",
       "      <td>0</td>\n",
       "      <td>0</td>\n",
       "      <td>0</td>\n",
       "      <td>0</td>\n",
       "      <td>0</td>\n",
       "      <td>0</td>\n",
       "      <td>0</td>\n",
       "    </tr>\n",
       "    <tr>\n",
       "      <th>-9223347314827979542</th>\n",
       "      <td>JCP2022_006020</td>\n",
       "      <td>-9223347314827979542</td>\n",
       "      <td>10</td>\n",
       "      <td>1</td>\n",
       "      <td>1</td>\n",
       "      <td>1</td>\n",
       "      <td>1</td>\n",
       "      <td>0</td>\n",
       "      <td>1</td>\n",
       "      <td>1</td>\n",
       "      <td>...</td>\n",
       "      <td>0</td>\n",
       "      <td>0</td>\n",
       "      <td>0</td>\n",
       "      <td>0</td>\n",
       "      <td>0</td>\n",
       "      <td>0</td>\n",
       "      <td>0</td>\n",
       "      <td>0</td>\n",
       "      <td>0</td>\n",
       "      <td>0</td>\n",
       "    </tr>\n",
       "    <tr>\n",
       "      <th>-9223347314827979542</th>\n",
       "      <td>JCP2022_006020</td>\n",
       "      <td>-9223347314827979542</td>\n",
       "      <td>10</td>\n",
       "      <td>1</td>\n",
       "      <td>1</td>\n",
       "      <td>1</td>\n",
       "      <td>1</td>\n",
       "      <td>0</td>\n",
       "      <td>1</td>\n",
       "      <td>1</td>\n",
       "      <td>...</td>\n",
       "      <td>0</td>\n",
       "      <td>0</td>\n",
       "      <td>0</td>\n",
       "      <td>0</td>\n",
       "      <td>0</td>\n",
       "      <td>0</td>\n",
       "      <td>0</td>\n",
       "      <td>0</td>\n",
       "      <td>0</td>\n",
       "      <td>0</td>\n",
       "    </tr>\n",
       "    <tr>\n",
       "      <th>-9223229703754907651</th>\n",
       "      <td>JCP2022_058905</td>\n",
       "      <td>-9223229703754907651</td>\n",
       "      <td>13</td>\n",
       "      <td>1</td>\n",
       "      <td>1</td>\n",
       "      <td>1</td>\n",
       "      <td>1</td>\n",
       "      <td>0</td>\n",
       "      <td>0</td>\n",
       "      <td>1</td>\n",
       "      <td>...</td>\n",
       "      <td>0</td>\n",
       "      <td>0</td>\n",
       "      <td>0</td>\n",
       "      <td>0</td>\n",
       "      <td>0</td>\n",
       "      <td>0</td>\n",
       "      <td>0</td>\n",
       "      <td>0</td>\n",
       "      <td>0</td>\n",
       "      <td>0</td>\n",
       "    </tr>\n",
       "    <tr>\n",
       "      <th>-9223229703754907651</th>\n",
       "      <td>JCP2022_058905</td>\n",
       "      <td>-9223229703754907651</td>\n",
       "      <td>13</td>\n",
       "      <td>1</td>\n",
       "      <td>1</td>\n",
       "      <td>1</td>\n",
       "      <td>1</td>\n",
       "      <td>0</td>\n",
       "      <td>0</td>\n",
       "      <td>1</td>\n",
       "      <td>...</td>\n",
       "      <td>0</td>\n",
       "      <td>0</td>\n",
       "      <td>0</td>\n",
       "      <td>0</td>\n",
       "      <td>0</td>\n",
       "      <td>0</td>\n",
       "      <td>0</td>\n",
       "      <td>0</td>\n",
       "      <td>0</td>\n",
       "      <td>0</td>\n",
       "    </tr>\n",
       "    <tr>\n",
       "      <th>-9223229703754907651</th>\n",
       "      <td>JCP2022_058905</td>\n",
       "      <td>-9223229703754907651</td>\n",
       "      <td>13</td>\n",
       "      <td>1</td>\n",
       "      <td>1</td>\n",
       "      <td>1</td>\n",
       "      <td>1</td>\n",
       "      <td>0</td>\n",
       "      <td>0</td>\n",
       "      <td>1</td>\n",
       "      <td>...</td>\n",
       "      <td>0</td>\n",
       "      <td>0</td>\n",
       "      <td>0</td>\n",
       "      <td>0</td>\n",
       "      <td>0</td>\n",
       "      <td>0</td>\n",
       "      <td>0</td>\n",
       "      <td>0</td>\n",
       "      <td>0</td>\n",
       "      <td>0</td>\n",
       "    </tr>\n",
       "    <tr>\n",
       "      <th>-9223005963369866647</th>\n",
       "      <td>JCP2022_051160</td>\n",
       "      <td>-9223005963369866647</td>\n",
       "      <td>9</td>\n",
       "      <td>0</td>\n",
       "      <td>1</td>\n",
       "      <td>1</td>\n",
       "      <td>1</td>\n",
       "      <td>1</td>\n",
       "      <td>1</td>\n",
       "      <td>1</td>\n",
       "      <td>...</td>\n",
       "      <td>0</td>\n",
       "      <td>0</td>\n",
       "      <td>0</td>\n",
       "      <td>0</td>\n",
       "      <td>0</td>\n",
       "      <td>0</td>\n",
       "      <td>0</td>\n",
       "      <td>0</td>\n",
       "      <td>0</td>\n",
       "      <td>0</td>\n",
       "    </tr>\n",
       "    <tr>\n",
       "      <th>-9223005963369866647</th>\n",
       "      <td>JCP2022_051160</td>\n",
       "      <td>-9223005963369866647</td>\n",
       "      <td>9</td>\n",
       "      <td>0</td>\n",
       "      <td>1</td>\n",
       "      <td>1</td>\n",
       "      <td>1</td>\n",
       "      <td>1</td>\n",
       "      <td>1</td>\n",
       "      <td>1</td>\n",
       "      <td>...</td>\n",
       "      <td>0</td>\n",
       "      <td>0</td>\n",
       "      <td>0</td>\n",
       "      <td>0</td>\n",
       "      <td>0</td>\n",
       "      <td>0</td>\n",
       "      <td>0</td>\n",
       "      <td>0</td>\n",
       "      <td>0</td>\n",
       "      <td>0</td>\n",
       "    </tr>\n",
       "    <tr>\n",
       "      <th>-9223005963369866647</th>\n",
       "      <td>JCP2022_051160</td>\n",
       "      <td>-9223005963369866647</td>\n",
       "      <td>9</td>\n",
       "      <td>0</td>\n",
       "      <td>1</td>\n",
       "      <td>1</td>\n",
       "      <td>1</td>\n",
       "      <td>1</td>\n",
       "      <td>1</td>\n",
       "      <td>1</td>\n",
       "      <td>...</td>\n",
       "      <td>0</td>\n",
       "      <td>0</td>\n",
       "      <td>0</td>\n",
       "      <td>0</td>\n",
       "      <td>0</td>\n",
       "      <td>0</td>\n",
       "      <td>0</td>\n",
       "      <td>0</td>\n",
       "      <td>0</td>\n",
       "      <td>0</td>\n",
       "    </tr>\n",
       "    <tr>\n",
       "      <th>-9222975330808494972</th>\n",
       "      <td>JCP2022_038591</td>\n",
       "      <td>-9222975330808494972</td>\n",
       "      <td>4</td>\n",
       "      <td>0</td>\n",
       "      <td>1</td>\n",
       "      <td>1</td>\n",
       "      <td>1</td>\n",
       "      <td>1</td>\n",
       "      <td>1</td>\n",
       "      <td>1</td>\n",
       "      <td>...</td>\n",
       "      <td>0</td>\n",
       "      <td>0</td>\n",
       "      <td>0</td>\n",
       "      <td>0</td>\n",
       "      <td>0</td>\n",
       "      <td>0</td>\n",
       "      <td>0</td>\n",
       "      <td>0</td>\n",
       "      <td>0</td>\n",
       "      <td>0</td>\n",
       "    </tr>\n",
       "    <tr>\n",
       "      <th>-9222975330808494972</th>\n",
       "      <td>JCP2022_038591</td>\n",
       "      <td>-9222975330808494972</td>\n",
       "      <td>4</td>\n",
       "      <td>0</td>\n",
       "      <td>1</td>\n",
       "      <td>1</td>\n",
       "      <td>1</td>\n",
       "      <td>1</td>\n",
       "      <td>1</td>\n",
       "      <td>1</td>\n",
       "      <td>...</td>\n",
       "      <td>0</td>\n",
       "      <td>0</td>\n",
       "      <td>0</td>\n",
       "      <td>0</td>\n",
       "      <td>0</td>\n",
       "      <td>0</td>\n",
       "      <td>0</td>\n",
       "      <td>0</td>\n",
       "      <td>0</td>\n",
       "      <td>0</td>\n",
       "    </tr>\n",
       "    <tr>\n",
       "      <th>-9222975330808494972</th>\n",
       "      <td>JCP2022_038591</td>\n",
       "      <td>-9222975330808494972</td>\n",
       "      <td>4</td>\n",
       "      <td>0</td>\n",
       "      <td>1</td>\n",
       "      <td>1</td>\n",
       "      <td>1</td>\n",
       "      <td>1</td>\n",
       "      <td>1</td>\n",
       "      <td>1</td>\n",
       "      <td>...</td>\n",
       "      <td>0</td>\n",
       "      <td>0</td>\n",
       "      <td>0</td>\n",
       "      <td>0</td>\n",
       "      <td>0</td>\n",
       "      <td>0</td>\n",
       "      <td>0</td>\n",
       "      <td>0</td>\n",
       "      <td>0</td>\n",
       "      <td>0</td>\n",
       "    </tr>\n",
       "  </tbody>\n",
       "</table>\n",
       "<p>12 rows × 1035 columns</p>\n",
       "</div>"
      ],
      "text/plain": [
       "                     Metadata_JCP2022        Metadata_Hash  Metadata_Bin  0  1  2  3  4  5  6  ...  1022  1023  1024  1025  1026  1027  1028  1029  1030  1031\n",
       "Metadata_Hash                                                                                  ...                                                            \n",
       "-9223347314827979542   JCP2022_006020 -9223347314827979542            10  1  1  1  1  0  1  1  ...     0     0     0     0     0     0     0     0     0     0\n",
       "-9223347314827979542   JCP2022_006020 -9223347314827979542            10  1  1  1  1  0  1  1  ...     0     0     0     0     0     0     0     0     0     0\n",
       "-9223347314827979542   JCP2022_006020 -9223347314827979542            10  1  1  1  1  0  1  1  ...     0     0     0     0     0     0     0     0     0     0\n",
       "-9223229703754907651   JCP2022_058905 -9223229703754907651            13  1  1  1  1  0  0  1  ...     0     0     0     0     0     0     0     0     0     0\n",
       "-9223229703754907651   JCP2022_058905 -9223229703754907651            13  1  1  1  1  0  0  1  ...     0     0     0     0     0     0     0     0     0     0\n",
       "-9223229703754907651   JCP2022_058905 -9223229703754907651            13  1  1  1  1  0  0  1  ...     0     0     0     0     0     0     0     0     0     0\n",
       "-9223005963369866647   JCP2022_051160 -9223005963369866647             9  0  1  1  1  1  1  1  ...     0     0     0     0     0     0     0     0     0     0\n",
       "-9223005963369866647   JCP2022_051160 -9223005963369866647             9  0  1  1  1  1  1  1  ...     0     0     0     0     0     0     0     0     0     0\n",
       "-9223005963369866647   JCP2022_051160 -9223005963369866647             9  0  1  1  1  1  1  1  ...     0     0     0     0     0     0     0     0     0     0\n",
       "-9222975330808494972   JCP2022_038591 -9222975330808494972             4  0  1  1  1  1  1  1  ...     0     0     0     0     0     0     0     0     0     0\n",
       "-9222975330808494972   JCP2022_038591 -9222975330808494972             4  0  1  1  1  1  1  1  ...     0     0     0     0     0     0     0     0     0     0\n",
       "-9222975330808494972   JCP2022_038591 -9222975330808494972             4  0  1  1  1  1  1  1  ...     0     0     0     0     0     0     0     0     0     0\n",
       "\n",
       "[12 rows x 1035 columns]"
      ]
     },
     "execution_count": 996,
     "metadata": {},
     "output_type": "execute_result"
    },
    {
     "data": {
      "text/html": [
       "<div>\n",
       "<style scoped>\n",
       "    .dataframe tbody tr th:only-of-type {\n",
       "        vertical-align: middle;\n",
       "    }\n",
       "\n",
       "    .dataframe tbody tr th {\n",
       "        vertical-align: top;\n",
       "    }\n",
       "\n",
       "    .dataframe thead th {\n",
       "        text-align: right;\n",
       "    }\n",
       "</style>\n",
       "<table border=\"1\" class=\"dataframe\">\n",
       "  <thead>\n",
       "    <tr style=\"text-align: right;\">\n",
       "      <th></th>\n",
       "      <th>Metadata_JCP2022</th>\n",
       "      <th>Metadata_Hash</th>\n",
       "      <th>Metadata_Bin</th>\n",
       "      <th>0</th>\n",
       "      <th>1</th>\n",
       "      <th>2</th>\n",
       "      <th>3</th>\n",
       "      <th>4</th>\n",
       "      <th>5</th>\n",
       "      <th>6</th>\n",
       "      <th>...</th>\n",
       "      <th>1022</th>\n",
       "      <th>1023</th>\n",
       "      <th>1024</th>\n",
       "      <th>1025</th>\n",
       "      <th>1026</th>\n",
       "      <th>1027</th>\n",
       "      <th>1028</th>\n",
       "      <th>1029</th>\n",
       "      <th>1030</th>\n",
       "      <th>1031</th>\n",
       "    </tr>\n",
       "    <tr>\n",
       "      <th>Metadata_Hash</th>\n",
       "      <th></th>\n",
       "      <th></th>\n",
       "      <th></th>\n",
       "      <th></th>\n",
       "      <th></th>\n",
       "      <th></th>\n",
       "      <th></th>\n",
       "      <th></th>\n",
       "      <th></th>\n",
       "      <th></th>\n",
       "      <th></th>\n",
       "      <th></th>\n",
       "      <th></th>\n",
       "      <th></th>\n",
       "      <th></th>\n",
       "      <th></th>\n",
       "      <th></th>\n",
       "      <th></th>\n",
       "      <th></th>\n",
       "      <th></th>\n",
       "      <th></th>\n",
       "    </tr>\n",
       "  </thead>\n",
       "  <tbody>\n",
       "    <tr>\n",
       "      <th>9222418181275619136</th>\n",
       "      <td>JCP2022_110705</td>\n",
       "      <td>9222418181275619136</td>\n",
       "      <td>0</td>\n",
       "      <td>0</td>\n",
       "      <td>1</td>\n",
       "      <td>1</td>\n",
       "      <td>1</td>\n",
       "      <td>1</td>\n",
       "      <td>1</td>\n",
       "      <td>1</td>\n",
       "      <td>...</td>\n",
       "      <td>0</td>\n",
       "      <td>0</td>\n",
       "      <td>0</td>\n",
       "      <td>0</td>\n",
       "      <td>0</td>\n",
       "      <td>0</td>\n",
       "      <td>0</td>\n",
       "      <td>0</td>\n",
       "      <td>0</td>\n",
       "      <td>0</td>\n",
       "    </tr>\n",
       "    <tr>\n",
       "      <th>9222418181275619136</th>\n",
       "      <td>JCP2022_110705</td>\n",
       "      <td>9222418181275619136</td>\n",
       "      <td>0</td>\n",
       "      <td>0</td>\n",
       "      <td>1</td>\n",
       "      <td>1</td>\n",
       "      <td>1</td>\n",
       "      <td>1</td>\n",
       "      <td>1</td>\n",
       "      <td>1</td>\n",
       "      <td>...</td>\n",
       "      <td>0</td>\n",
       "      <td>0</td>\n",
       "      <td>0</td>\n",
       "      <td>0</td>\n",
       "      <td>0</td>\n",
       "      <td>0</td>\n",
       "      <td>0</td>\n",
       "      <td>0</td>\n",
       "      <td>0</td>\n",
       "      <td>0</td>\n",
       "    </tr>\n",
       "    <tr>\n",
       "      <th>9222418181275619136</th>\n",
       "      <td>JCP2022_110705</td>\n",
       "      <td>9222418181275619136</td>\n",
       "      <td>0</td>\n",
       "      <td>0</td>\n",
       "      <td>1</td>\n",
       "      <td>1</td>\n",
       "      <td>1</td>\n",
       "      <td>1</td>\n",
       "      <td>1</td>\n",
       "      <td>1</td>\n",
       "      <td>...</td>\n",
       "      <td>0</td>\n",
       "      <td>0</td>\n",
       "      <td>0</td>\n",
       "      <td>0</td>\n",
       "      <td>0</td>\n",
       "      <td>0</td>\n",
       "      <td>0</td>\n",
       "      <td>0</td>\n",
       "      <td>0</td>\n",
       "      <td>0</td>\n",
       "    </tr>\n",
       "    <tr>\n",
       "      <th>9222499262440709243</th>\n",
       "      <td>JCP2022_017353</td>\n",
       "      <td>9222499262440709243</td>\n",
       "      <td>11</td>\n",
       "      <td>1</td>\n",
       "      <td>1</td>\n",
       "      <td>1</td>\n",
       "      <td>1</td>\n",
       "      <td>0</td>\n",
       "      <td>0</td>\n",
       "      <td>1</td>\n",
       "      <td>...</td>\n",
       "      <td>0</td>\n",
       "      <td>0</td>\n",
       "      <td>0</td>\n",
       "      <td>0</td>\n",
       "      <td>0</td>\n",
       "      <td>0</td>\n",
       "      <td>0</td>\n",
       "      <td>0</td>\n",
       "      <td>0</td>\n",
       "      <td>0</td>\n",
       "    </tr>\n",
       "    <tr>\n",
       "      <th>9222499262440709243</th>\n",
       "      <td>JCP2022_017353</td>\n",
       "      <td>9222499262440709243</td>\n",
       "      <td>11</td>\n",
       "      <td>1</td>\n",
       "      <td>1</td>\n",
       "      <td>1</td>\n",
       "      <td>1</td>\n",
       "      <td>0</td>\n",
       "      <td>0</td>\n",
       "      <td>1</td>\n",
       "      <td>...</td>\n",
       "      <td>0</td>\n",
       "      <td>0</td>\n",
       "      <td>0</td>\n",
       "      <td>0</td>\n",
       "      <td>0</td>\n",
       "      <td>0</td>\n",
       "      <td>0</td>\n",
       "      <td>0</td>\n",
       "      <td>0</td>\n",
       "      <td>0</td>\n",
       "    </tr>\n",
       "    <tr>\n",
       "      <th>9222499262440709243</th>\n",
       "      <td>JCP2022_017353</td>\n",
       "      <td>9222499262440709243</td>\n",
       "      <td>11</td>\n",
       "      <td>1</td>\n",
       "      <td>1</td>\n",
       "      <td>1</td>\n",
       "      <td>1</td>\n",
       "      <td>0</td>\n",
       "      <td>0</td>\n",
       "      <td>1</td>\n",
       "      <td>...</td>\n",
       "      <td>0</td>\n",
       "      <td>0</td>\n",
       "      <td>0</td>\n",
       "      <td>0</td>\n",
       "      <td>0</td>\n",
       "      <td>0</td>\n",
       "      <td>0</td>\n",
       "      <td>0</td>\n",
       "      <td>0</td>\n",
       "      <td>0</td>\n",
       "    </tr>\n",
       "    <tr>\n",
       "      <th>9222528730267146426</th>\n",
       "      <td>JCP2022_040466</td>\n",
       "      <td>9222528730267146426</td>\n",
       "      <td>10</td>\n",
       "      <td>1</td>\n",
       "      <td>1</td>\n",
       "      <td>1</td>\n",
       "      <td>1</td>\n",
       "      <td>1</td>\n",
       "      <td>1</td>\n",
       "      <td>1</td>\n",
       "      <td>...</td>\n",
       "      <td>0</td>\n",
       "      <td>0</td>\n",
       "      <td>0</td>\n",
       "      <td>0</td>\n",
       "      <td>0</td>\n",
       "      <td>0</td>\n",
       "      <td>0</td>\n",
       "      <td>0</td>\n",
       "      <td>0</td>\n",
       "      <td>0</td>\n",
       "    </tr>\n",
       "    <tr>\n",
       "      <th>9222528730267146426</th>\n",
       "      <td>JCP2022_040466</td>\n",
       "      <td>9222528730267146426</td>\n",
       "      <td>10</td>\n",
       "      <td>1</td>\n",
       "      <td>1</td>\n",
       "      <td>1</td>\n",
       "      <td>1</td>\n",
       "      <td>1</td>\n",
       "      <td>1</td>\n",
       "      <td>1</td>\n",
       "      <td>...</td>\n",
       "      <td>0</td>\n",
       "      <td>0</td>\n",
       "      <td>0</td>\n",
       "      <td>0</td>\n",
       "      <td>0</td>\n",
       "      <td>0</td>\n",
       "      <td>0</td>\n",
       "      <td>0</td>\n",
       "      <td>0</td>\n",
       "      <td>0</td>\n",
       "    </tr>\n",
       "    <tr>\n",
       "      <th>9222528730267146426</th>\n",
       "      <td>JCP2022_040466</td>\n",
       "      <td>9222528730267146426</td>\n",
       "      <td>10</td>\n",
       "      <td>1</td>\n",
       "      <td>1</td>\n",
       "      <td>1</td>\n",
       "      <td>1</td>\n",
       "      <td>1</td>\n",
       "      <td>1</td>\n",
       "      <td>1</td>\n",
       "      <td>...</td>\n",
       "      <td>0</td>\n",
       "      <td>0</td>\n",
       "      <td>0</td>\n",
       "      <td>0</td>\n",
       "      <td>0</td>\n",
       "      <td>0</td>\n",
       "      <td>0</td>\n",
       "      <td>0</td>\n",
       "      <td>0</td>\n",
       "      <td>0</td>\n",
       "    </tr>\n",
       "    <tr>\n",
       "      <th>9223213570900537648</th>\n",
       "      <td>JCP2022_102583</td>\n",
       "      <td>9223213570900537648</td>\n",
       "      <td>0</td>\n",
       "      <td>0</td>\n",
       "      <td>1</td>\n",
       "      <td>0</td>\n",
       "      <td>1</td>\n",
       "      <td>1</td>\n",
       "      <td>1</td>\n",
       "      <td>0</td>\n",
       "      <td>...</td>\n",
       "      <td>0</td>\n",
       "      <td>0</td>\n",
       "      <td>0</td>\n",
       "      <td>0</td>\n",
       "      <td>0</td>\n",
       "      <td>0</td>\n",
       "      <td>0</td>\n",
       "      <td>0</td>\n",
       "      <td>0</td>\n",
       "      <td>0</td>\n",
       "    </tr>\n",
       "    <tr>\n",
       "      <th>9223213570900537648</th>\n",
       "      <td>JCP2022_102583</td>\n",
       "      <td>9223213570900537648</td>\n",
       "      <td>0</td>\n",
       "      <td>0</td>\n",
       "      <td>1</td>\n",
       "      <td>0</td>\n",
       "      <td>1</td>\n",
       "      <td>1</td>\n",
       "      <td>1</td>\n",
       "      <td>0</td>\n",
       "      <td>...</td>\n",
       "      <td>0</td>\n",
       "      <td>0</td>\n",
       "      <td>0</td>\n",
       "      <td>0</td>\n",
       "      <td>0</td>\n",
       "      <td>0</td>\n",
       "      <td>0</td>\n",
       "      <td>0</td>\n",
       "      <td>0</td>\n",
       "      <td>0</td>\n",
       "    </tr>\n",
       "    <tr>\n",
       "      <th>9223213570900537648</th>\n",
       "      <td>JCP2022_102583</td>\n",
       "      <td>9223213570900537648</td>\n",
       "      <td>0</td>\n",
       "      <td>0</td>\n",
       "      <td>1</td>\n",
       "      <td>0</td>\n",
       "      <td>1</td>\n",
       "      <td>1</td>\n",
       "      <td>1</td>\n",
       "      <td>0</td>\n",
       "      <td>...</td>\n",
       "      <td>0</td>\n",
       "      <td>0</td>\n",
       "      <td>0</td>\n",
       "      <td>0</td>\n",
       "      <td>0</td>\n",
       "      <td>0</td>\n",
       "      <td>0</td>\n",
       "      <td>0</td>\n",
       "      <td>0</td>\n",
       "      <td>0</td>\n",
       "    </tr>\n",
       "  </tbody>\n",
       "</table>\n",
       "<p>12 rows × 1035 columns</p>\n",
       "</div>"
      ],
      "text/plain": [
       "                    Metadata_JCP2022        Metadata_Hash  Metadata_Bin  0  1  2  3  4  5  6  ...  1022  1023  1024  1025  1026  1027  1028  1029  1030  1031\n",
       "Metadata_Hash                                                                                 ...                                                            \n",
       "9222418181275619136   JCP2022_110705  9222418181275619136             0  0  1  1  1  1  1  1  ...     0     0     0     0     0     0     0     0     0     0\n",
       "9222418181275619136   JCP2022_110705  9222418181275619136             0  0  1  1  1  1  1  1  ...     0     0     0     0     0     0     0     0     0     0\n",
       "9222418181275619136   JCP2022_110705  9222418181275619136             0  0  1  1  1  1  1  1  ...     0     0     0     0     0     0     0     0     0     0\n",
       "9222499262440709243   JCP2022_017353  9222499262440709243            11  1  1  1  1  0  0  1  ...     0     0     0     0     0     0     0     0     0     0\n",
       "9222499262440709243   JCP2022_017353  9222499262440709243            11  1  1  1  1  0  0  1  ...     0     0     0     0     0     0     0     0     0     0\n",
       "9222499262440709243   JCP2022_017353  9222499262440709243            11  1  1  1  1  0  0  1  ...     0     0     0     0     0     0     0     0     0     0\n",
       "9222528730267146426   JCP2022_040466  9222528730267146426            10  1  1  1  1  1  1  1  ...     0     0     0     0     0     0     0     0     0     0\n",
       "9222528730267146426   JCP2022_040466  9222528730267146426            10  1  1  1  1  1  1  1  ...     0     0     0     0     0     0     0     0     0     0\n",
       "9222528730267146426   JCP2022_040466  9222528730267146426            10  1  1  1  1  1  1  1  ...     0     0     0     0     0     0     0     0     0     0\n",
       "9223213570900537648   JCP2022_102583  9223213570900537648             0  0  1  0  1  1  1  0  ...     0     0     0     0     0     0     0     0     0     0\n",
       "9223213570900537648   JCP2022_102583  9223213570900537648             0  0  1  0  1  1  1  0  ...     0     0     0     0     0     0     0     0     0     0\n",
       "9223213570900537648   JCP2022_102583  9223213570900537648             0  0  1  0  1  1  1  0  ...     0     0     0     0     0     0     0     0     0     0\n",
       "\n",
       "[12 rows x 1035 columns]"
      ]
     },
     "execution_count": 996,
     "metadata": {},
     "output_type": "execute_result"
    }
   ],
   "source": [
    "df_3sample_sorted.head(12)\n",
    "df_3sample_sorted.tail(12)"
   ]
  },
  {
   "cell_type": "code",
   "execution_count": 997,
   "id": "1dc5ca33-d76e-4f37-bff2-f291886f06ab",
   "metadata": {
    "execution": {
     "iopub.execute_input": "2024-10-24T11:59:47.613319Z",
     "iopub.status.busy": "2024-10-24T11:59:47.612850Z",
     "iopub.status.idle": "2024-10-24T11:59:47.659282Z",
     "shell.execute_reply": "2024-10-24T11:59:47.658344Z",
     "shell.execute_reply.started": "2024-10-24T11:59:47.613281Z"
    }
   },
   "outputs": [],
   "source": [
    "df_3sample_sorted.reset_index(drop = True, inplace = True)"
   ]
  },
  {
   "cell_type": "code",
   "execution_count": 998,
   "id": "c43990c9-83b5-43f1-b594-6d15c8558f41",
   "metadata": {
    "execution": {
     "iopub.execute_input": "2024-10-24T11:59:52.195645Z",
     "iopub.status.busy": "2024-10-24T11:59:52.195168Z",
     "iopub.status.idle": "2024-10-24T11:59:52.301531Z",
     "shell.execute_reply": "2024-10-24T11:59:52.300441Z",
     "shell.execute_reply.started": "2024-10-24T11:59:52.195604Z"
    }
   },
   "outputs": [
    {
     "name": "stdout",
     "output_type": "stream",
     "text": [
      "<class 'pandas.core.frame.DataFrame'>\n",
      "RangeIndex: 346542 entries, 0 to 346541\n",
      "Columns: 1035 entries, Metadata_JCP2022 to 1031\n",
      "dtypes: int64(1034), object(1)\n",
      "memory usage: 2.7+ GB\n"
     ]
    },
    {
     "data": {
      "text/html": [
       "<div>\n",
       "<style scoped>\n",
       "    .dataframe tbody tr th:only-of-type {\n",
       "        vertical-align: middle;\n",
       "    }\n",
       "\n",
       "    .dataframe tbody tr th {\n",
       "        vertical-align: top;\n",
       "    }\n",
       "\n",
       "    .dataframe thead th {\n",
       "        text-align: right;\n",
       "    }\n",
       "</style>\n",
       "<table border=\"1\" class=\"dataframe\">\n",
       "  <thead>\n",
       "    <tr style=\"text-align: right;\">\n",
       "      <th></th>\n",
       "      <th>Metadata_JCP2022</th>\n",
       "      <th>Metadata_Hash</th>\n",
       "      <th>Metadata_Bin</th>\n",
       "      <th>0</th>\n",
       "      <th>1</th>\n",
       "      <th>2</th>\n",
       "      <th>3</th>\n",
       "      <th>4</th>\n",
       "      <th>5</th>\n",
       "      <th>6</th>\n",
       "      <th>...</th>\n",
       "      <th>1022</th>\n",
       "      <th>1023</th>\n",
       "      <th>1024</th>\n",
       "      <th>1025</th>\n",
       "      <th>1026</th>\n",
       "      <th>1027</th>\n",
       "      <th>1028</th>\n",
       "      <th>1029</th>\n",
       "      <th>1030</th>\n",
       "      <th>1031</th>\n",
       "    </tr>\n",
       "  </thead>\n",
       "  <tbody>\n",
       "    <tr>\n",
       "      <th>0</th>\n",
       "      <td>JCP2022_006020</td>\n",
       "      <td>-9223347314827979542</td>\n",
       "      <td>10</td>\n",
       "      <td>1</td>\n",
       "      <td>1</td>\n",
       "      <td>1</td>\n",
       "      <td>1</td>\n",
       "      <td>0</td>\n",
       "      <td>1</td>\n",
       "      <td>1</td>\n",
       "      <td>...</td>\n",
       "      <td>0</td>\n",
       "      <td>0</td>\n",
       "      <td>0</td>\n",
       "      <td>0</td>\n",
       "      <td>0</td>\n",
       "      <td>0</td>\n",
       "      <td>0</td>\n",
       "      <td>0</td>\n",
       "      <td>0</td>\n",
       "      <td>0</td>\n",
       "    </tr>\n",
       "    <tr>\n",
       "      <th>1</th>\n",
       "      <td>JCP2022_006020</td>\n",
       "      <td>-9223347314827979542</td>\n",
       "      <td>10</td>\n",
       "      <td>1</td>\n",
       "      <td>1</td>\n",
       "      <td>1</td>\n",
       "      <td>1</td>\n",
       "      <td>0</td>\n",
       "      <td>1</td>\n",
       "      <td>1</td>\n",
       "      <td>...</td>\n",
       "      <td>0</td>\n",
       "      <td>0</td>\n",
       "      <td>0</td>\n",
       "      <td>0</td>\n",
       "      <td>0</td>\n",
       "      <td>0</td>\n",
       "      <td>0</td>\n",
       "      <td>0</td>\n",
       "      <td>0</td>\n",
       "      <td>0</td>\n",
       "    </tr>\n",
       "    <tr>\n",
       "      <th>2</th>\n",
       "      <td>JCP2022_006020</td>\n",
       "      <td>-9223347314827979542</td>\n",
       "      <td>10</td>\n",
       "      <td>1</td>\n",
       "      <td>1</td>\n",
       "      <td>1</td>\n",
       "      <td>1</td>\n",
       "      <td>0</td>\n",
       "      <td>1</td>\n",
       "      <td>1</td>\n",
       "      <td>...</td>\n",
       "      <td>0</td>\n",
       "      <td>0</td>\n",
       "      <td>0</td>\n",
       "      <td>0</td>\n",
       "      <td>0</td>\n",
       "      <td>0</td>\n",
       "      <td>0</td>\n",
       "      <td>0</td>\n",
       "      <td>0</td>\n",
       "      <td>0</td>\n",
       "    </tr>\n",
       "    <tr>\n",
       "      <th>3</th>\n",
       "      <td>JCP2022_058905</td>\n",
       "      <td>-9223229703754907651</td>\n",
       "      <td>13</td>\n",
       "      <td>1</td>\n",
       "      <td>1</td>\n",
       "      <td>1</td>\n",
       "      <td>1</td>\n",
       "      <td>0</td>\n",
       "      <td>0</td>\n",
       "      <td>1</td>\n",
       "      <td>...</td>\n",
       "      <td>0</td>\n",
       "      <td>0</td>\n",
       "      <td>0</td>\n",
       "      <td>0</td>\n",
       "      <td>0</td>\n",
       "      <td>0</td>\n",
       "      <td>0</td>\n",
       "      <td>0</td>\n",
       "      <td>0</td>\n",
       "      <td>0</td>\n",
       "    </tr>\n",
       "    <tr>\n",
       "      <th>4</th>\n",
       "      <td>JCP2022_058905</td>\n",
       "      <td>-9223229703754907651</td>\n",
       "      <td>13</td>\n",
       "      <td>1</td>\n",
       "      <td>1</td>\n",
       "      <td>1</td>\n",
       "      <td>1</td>\n",
       "      <td>0</td>\n",
       "      <td>0</td>\n",
       "      <td>1</td>\n",
       "      <td>...</td>\n",
       "      <td>0</td>\n",
       "      <td>0</td>\n",
       "      <td>0</td>\n",
       "      <td>0</td>\n",
       "      <td>0</td>\n",
       "      <td>0</td>\n",
       "      <td>0</td>\n",
       "      <td>0</td>\n",
       "      <td>0</td>\n",
       "      <td>0</td>\n",
       "    </tr>\n",
       "    <tr>\n",
       "      <th>5</th>\n",
       "      <td>JCP2022_058905</td>\n",
       "      <td>-9223229703754907651</td>\n",
       "      <td>13</td>\n",
       "      <td>1</td>\n",
       "      <td>1</td>\n",
       "      <td>1</td>\n",
       "      <td>1</td>\n",
       "      <td>0</td>\n",
       "      <td>0</td>\n",
       "      <td>1</td>\n",
       "      <td>...</td>\n",
       "      <td>0</td>\n",
       "      <td>0</td>\n",
       "      <td>0</td>\n",
       "      <td>0</td>\n",
       "      <td>0</td>\n",
       "      <td>0</td>\n",
       "      <td>0</td>\n",
       "      <td>0</td>\n",
       "      <td>0</td>\n",
       "      <td>0</td>\n",
       "    </tr>\n",
       "    <tr>\n",
       "      <th>6</th>\n",
       "      <td>JCP2022_051160</td>\n",
       "      <td>-9223005963369866647</td>\n",
       "      <td>9</td>\n",
       "      <td>0</td>\n",
       "      <td>1</td>\n",
       "      <td>1</td>\n",
       "      <td>1</td>\n",
       "      <td>1</td>\n",
       "      <td>1</td>\n",
       "      <td>1</td>\n",
       "      <td>...</td>\n",
       "      <td>0</td>\n",
       "      <td>0</td>\n",
       "      <td>0</td>\n",
       "      <td>0</td>\n",
       "      <td>0</td>\n",
       "      <td>0</td>\n",
       "      <td>0</td>\n",
       "      <td>0</td>\n",
       "      <td>0</td>\n",
       "      <td>0</td>\n",
       "    </tr>\n",
       "    <tr>\n",
       "      <th>7</th>\n",
       "      <td>JCP2022_051160</td>\n",
       "      <td>-9223005963369866647</td>\n",
       "      <td>9</td>\n",
       "      <td>0</td>\n",
       "      <td>1</td>\n",
       "      <td>1</td>\n",
       "      <td>1</td>\n",
       "      <td>1</td>\n",
       "      <td>1</td>\n",
       "      <td>1</td>\n",
       "      <td>...</td>\n",
       "      <td>0</td>\n",
       "      <td>0</td>\n",
       "      <td>0</td>\n",
       "      <td>0</td>\n",
       "      <td>0</td>\n",
       "      <td>0</td>\n",
       "      <td>0</td>\n",
       "      <td>0</td>\n",
       "      <td>0</td>\n",
       "      <td>0</td>\n",
       "    </tr>\n",
       "    <tr>\n",
       "      <th>8</th>\n",
       "      <td>JCP2022_051160</td>\n",
       "      <td>-9223005963369866647</td>\n",
       "      <td>9</td>\n",
       "      <td>0</td>\n",
       "      <td>1</td>\n",
       "      <td>1</td>\n",
       "      <td>1</td>\n",
       "      <td>1</td>\n",
       "      <td>1</td>\n",
       "      <td>1</td>\n",
       "      <td>...</td>\n",
       "      <td>0</td>\n",
       "      <td>0</td>\n",
       "      <td>0</td>\n",
       "      <td>0</td>\n",
       "      <td>0</td>\n",
       "      <td>0</td>\n",
       "      <td>0</td>\n",
       "      <td>0</td>\n",
       "      <td>0</td>\n",
       "      <td>0</td>\n",
       "    </tr>\n",
       "    <tr>\n",
       "      <th>9</th>\n",
       "      <td>JCP2022_038591</td>\n",
       "      <td>-9222975330808494972</td>\n",
       "      <td>4</td>\n",
       "      <td>0</td>\n",
       "      <td>1</td>\n",
       "      <td>1</td>\n",
       "      <td>1</td>\n",
       "      <td>1</td>\n",
       "      <td>1</td>\n",
       "      <td>1</td>\n",
       "      <td>...</td>\n",
       "      <td>0</td>\n",
       "      <td>0</td>\n",
       "      <td>0</td>\n",
       "      <td>0</td>\n",
       "      <td>0</td>\n",
       "      <td>0</td>\n",
       "      <td>0</td>\n",
       "      <td>0</td>\n",
       "      <td>0</td>\n",
       "      <td>0</td>\n",
       "    </tr>\n",
       "  </tbody>\n",
       "</table>\n",
       "<p>10 rows × 1035 columns</p>\n",
       "</div>"
      ],
      "text/plain": [
       "  Metadata_JCP2022        Metadata_Hash  Metadata_Bin  0  1  2  3  4  5  6  ...  1022  1023  1024  1025  1026  1027  1028  1029  1030  1031\n",
       "0   JCP2022_006020 -9223347314827979542            10  1  1  1  1  0  1  1  ...     0     0     0     0     0     0     0     0     0     0\n",
       "1   JCP2022_006020 -9223347314827979542            10  1  1  1  1  0  1  1  ...     0     0     0     0     0     0     0     0     0     0\n",
       "2   JCP2022_006020 -9223347314827979542            10  1  1  1  1  0  1  1  ...     0     0     0     0     0     0     0     0     0     0\n",
       "3   JCP2022_058905 -9223229703754907651            13  1  1  1  1  0  0  1  ...     0     0     0     0     0     0     0     0     0     0\n",
       "4   JCP2022_058905 -9223229703754907651            13  1  1  1  1  0  0  1  ...     0     0     0     0     0     0     0     0     0     0\n",
       "5   JCP2022_058905 -9223229703754907651            13  1  1  1  1  0  0  1  ...     0     0     0     0     0     0     0     0     0     0\n",
       "6   JCP2022_051160 -9223005963369866647             9  0  1  1  1  1  1  1  ...     0     0     0     0     0     0     0     0     0     0\n",
       "7   JCP2022_051160 -9223005963369866647             9  0  1  1  1  1  1  1  ...     0     0     0     0     0     0     0     0     0     0\n",
       "8   JCP2022_051160 -9223005963369866647             9  0  1  1  1  1  1  1  ...     0     0     0     0     0     0     0     0     0     0\n",
       "9   JCP2022_038591 -9222975330808494972             4  0  1  1  1  1  1  1  ...     0     0     0     0     0     0     0     0     0     0\n",
       "\n",
       "[10 rows x 1035 columns]"
      ]
     },
     "execution_count": 998,
     "metadata": {},
     "output_type": "execute_result"
    },
    {
     "data": {
      "text/html": [
       "<div>\n",
       "<style scoped>\n",
       "    .dataframe tbody tr th:only-of-type {\n",
       "        vertical-align: middle;\n",
       "    }\n",
       "\n",
       "    .dataframe tbody tr th {\n",
       "        vertical-align: top;\n",
       "    }\n",
       "\n",
       "    .dataframe thead th {\n",
       "        text-align: right;\n",
       "    }\n",
       "</style>\n",
       "<table border=\"1\" class=\"dataframe\">\n",
       "  <thead>\n",
       "    <tr style=\"text-align: right;\">\n",
       "      <th></th>\n",
       "      <th>Metadata_JCP2022</th>\n",
       "      <th>Metadata_Hash</th>\n",
       "      <th>Metadata_Bin</th>\n",
       "      <th>0</th>\n",
       "      <th>1</th>\n",
       "      <th>2</th>\n",
       "      <th>3</th>\n",
       "      <th>4</th>\n",
       "      <th>5</th>\n",
       "      <th>6</th>\n",
       "      <th>...</th>\n",
       "      <th>1022</th>\n",
       "      <th>1023</th>\n",
       "      <th>1024</th>\n",
       "      <th>1025</th>\n",
       "      <th>1026</th>\n",
       "      <th>1027</th>\n",
       "      <th>1028</th>\n",
       "      <th>1029</th>\n",
       "      <th>1030</th>\n",
       "      <th>1031</th>\n",
       "    </tr>\n",
       "  </thead>\n",
       "  <tbody>\n",
       "    <tr>\n",
       "      <th>346532</th>\n",
       "      <td>JCP2022_110705</td>\n",
       "      <td>9222418181275619136</td>\n",
       "      <td>0</td>\n",
       "      <td>0</td>\n",
       "      <td>1</td>\n",
       "      <td>1</td>\n",
       "      <td>1</td>\n",
       "      <td>1</td>\n",
       "      <td>1</td>\n",
       "      <td>1</td>\n",
       "      <td>...</td>\n",
       "      <td>0</td>\n",
       "      <td>0</td>\n",
       "      <td>0</td>\n",
       "      <td>0</td>\n",
       "      <td>0</td>\n",
       "      <td>0</td>\n",
       "      <td>0</td>\n",
       "      <td>0</td>\n",
       "      <td>0</td>\n",
       "      <td>0</td>\n",
       "    </tr>\n",
       "    <tr>\n",
       "      <th>346533</th>\n",
       "      <td>JCP2022_017353</td>\n",
       "      <td>9222499262440709243</td>\n",
       "      <td>11</td>\n",
       "      <td>1</td>\n",
       "      <td>1</td>\n",
       "      <td>1</td>\n",
       "      <td>1</td>\n",
       "      <td>0</td>\n",
       "      <td>0</td>\n",
       "      <td>1</td>\n",
       "      <td>...</td>\n",
       "      <td>0</td>\n",
       "      <td>0</td>\n",
       "      <td>0</td>\n",
       "      <td>0</td>\n",
       "      <td>0</td>\n",
       "      <td>0</td>\n",
       "      <td>0</td>\n",
       "      <td>0</td>\n",
       "      <td>0</td>\n",
       "      <td>0</td>\n",
       "    </tr>\n",
       "    <tr>\n",
       "      <th>346534</th>\n",
       "      <td>JCP2022_017353</td>\n",
       "      <td>9222499262440709243</td>\n",
       "      <td>11</td>\n",
       "      <td>1</td>\n",
       "      <td>1</td>\n",
       "      <td>1</td>\n",
       "      <td>1</td>\n",
       "      <td>0</td>\n",
       "      <td>0</td>\n",
       "      <td>1</td>\n",
       "      <td>...</td>\n",
       "      <td>0</td>\n",
       "      <td>0</td>\n",
       "      <td>0</td>\n",
       "      <td>0</td>\n",
       "      <td>0</td>\n",
       "      <td>0</td>\n",
       "      <td>0</td>\n",
       "      <td>0</td>\n",
       "      <td>0</td>\n",
       "      <td>0</td>\n",
       "    </tr>\n",
       "    <tr>\n",
       "      <th>346535</th>\n",
       "      <td>JCP2022_017353</td>\n",
       "      <td>9222499262440709243</td>\n",
       "      <td>11</td>\n",
       "      <td>1</td>\n",
       "      <td>1</td>\n",
       "      <td>1</td>\n",
       "      <td>1</td>\n",
       "      <td>0</td>\n",
       "      <td>0</td>\n",
       "      <td>1</td>\n",
       "      <td>...</td>\n",
       "      <td>0</td>\n",
       "      <td>0</td>\n",
       "      <td>0</td>\n",
       "      <td>0</td>\n",
       "      <td>0</td>\n",
       "      <td>0</td>\n",
       "      <td>0</td>\n",
       "      <td>0</td>\n",
       "      <td>0</td>\n",
       "      <td>0</td>\n",
       "    </tr>\n",
       "    <tr>\n",
       "      <th>346536</th>\n",
       "      <td>JCP2022_040466</td>\n",
       "      <td>9222528730267146426</td>\n",
       "      <td>10</td>\n",
       "      <td>1</td>\n",
       "      <td>1</td>\n",
       "      <td>1</td>\n",
       "      <td>1</td>\n",
       "      <td>1</td>\n",
       "      <td>1</td>\n",
       "      <td>1</td>\n",
       "      <td>...</td>\n",
       "      <td>0</td>\n",
       "      <td>0</td>\n",
       "      <td>0</td>\n",
       "      <td>0</td>\n",
       "      <td>0</td>\n",
       "      <td>0</td>\n",
       "      <td>0</td>\n",
       "      <td>0</td>\n",
       "      <td>0</td>\n",
       "      <td>0</td>\n",
       "    </tr>\n",
       "    <tr>\n",
       "      <th>346537</th>\n",
       "      <td>JCP2022_040466</td>\n",
       "      <td>9222528730267146426</td>\n",
       "      <td>10</td>\n",
       "      <td>1</td>\n",
       "      <td>1</td>\n",
       "      <td>1</td>\n",
       "      <td>1</td>\n",
       "      <td>1</td>\n",
       "      <td>1</td>\n",
       "      <td>1</td>\n",
       "      <td>...</td>\n",
       "      <td>0</td>\n",
       "      <td>0</td>\n",
       "      <td>0</td>\n",
       "      <td>0</td>\n",
       "      <td>0</td>\n",
       "      <td>0</td>\n",
       "      <td>0</td>\n",
       "      <td>0</td>\n",
       "      <td>0</td>\n",
       "      <td>0</td>\n",
       "    </tr>\n",
       "    <tr>\n",
       "      <th>346538</th>\n",
       "      <td>JCP2022_040466</td>\n",
       "      <td>9222528730267146426</td>\n",
       "      <td>10</td>\n",
       "      <td>1</td>\n",
       "      <td>1</td>\n",
       "      <td>1</td>\n",
       "      <td>1</td>\n",
       "      <td>1</td>\n",
       "      <td>1</td>\n",
       "      <td>1</td>\n",
       "      <td>...</td>\n",
       "      <td>0</td>\n",
       "      <td>0</td>\n",
       "      <td>0</td>\n",
       "      <td>0</td>\n",
       "      <td>0</td>\n",
       "      <td>0</td>\n",
       "      <td>0</td>\n",
       "      <td>0</td>\n",
       "      <td>0</td>\n",
       "      <td>0</td>\n",
       "    </tr>\n",
       "    <tr>\n",
       "      <th>346539</th>\n",
       "      <td>JCP2022_102583</td>\n",
       "      <td>9223213570900537648</td>\n",
       "      <td>0</td>\n",
       "      <td>0</td>\n",
       "      <td>1</td>\n",
       "      <td>0</td>\n",
       "      <td>1</td>\n",
       "      <td>1</td>\n",
       "      <td>1</td>\n",
       "      <td>0</td>\n",
       "      <td>...</td>\n",
       "      <td>0</td>\n",
       "      <td>0</td>\n",
       "      <td>0</td>\n",
       "      <td>0</td>\n",
       "      <td>0</td>\n",
       "      <td>0</td>\n",
       "      <td>0</td>\n",
       "      <td>0</td>\n",
       "      <td>0</td>\n",
       "      <td>0</td>\n",
       "    </tr>\n",
       "    <tr>\n",
       "      <th>346540</th>\n",
       "      <td>JCP2022_102583</td>\n",
       "      <td>9223213570900537648</td>\n",
       "      <td>0</td>\n",
       "      <td>0</td>\n",
       "      <td>1</td>\n",
       "      <td>0</td>\n",
       "      <td>1</td>\n",
       "      <td>1</td>\n",
       "      <td>1</td>\n",
       "      <td>0</td>\n",
       "      <td>...</td>\n",
       "      <td>0</td>\n",
       "      <td>0</td>\n",
       "      <td>0</td>\n",
       "      <td>0</td>\n",
       "      <td>0</td>\n",
       "      <td>0</td>\n",
       "      <td>0</td>\n",
       "      <td>0</td>\n",
       "      <td>0</td>\n",
       "      <td>0</td>\n",
       "    </tr>\n",
       "    <tr>\n",
       "      <th>346541</th>\n",
       "      <td>JCP2022_102583</td>\n",
       "      <td>9223213570900537648</td>\n",
       "      <td>0</td>\n",
       "      <td>0</td>\n",
       "      <td>1</td>\n",
       "      <td>0</td>\n",
       "      <td>1</td>\n",
       "      <td>1</td>\n",
       "      <td>1</td>\n",
       "      <td>0</td>\n",
       "      <td>...</td>\n",
       "      <td>0</td>\n",
       "      <td>0</td>\n",
       "      <td>0</td>\n",
       "      <td>0</td>\n",
       "      <td>0</td>\n",
       "      <td>0</td>\n",
       "      <td>0</td>\n",
       "      <td>0</td>\n",
       "      <td>0</td>\n",
       "      <td>0</td>\n",
       "    </tr>\n",
       "  </tbody>\n",
       "</table>\n",
       "<p>10 rows × 1035 columns</p>\n",
       "</div>"
      ],
      "text/plain": [
       "       Metadata_JCP2022        Metadata_Hash  Metadata_Bin  0  1  2  3  4  5  6  ...  1022  1023  1024  1025  1026  1027  1028  1029  1030  1031\n",
       "346532   JCP2022_110705  9222418181275619136             0  0  1  1  1  1  1  1  ...     0     0     0     0     0     0     0     0     0     0\n",
       "346533   JCP2022_017353  9222499262440709243            11  1  1  1  1  0  0  1  ...     0     0     0     0     0     0     0     0     0     0\n",
       "346534   JCP2022_017353  9222499262440709243            11  1  1  1  1  0  0  1  ...     0     0     0     0     0     0     0     0     0     0\n",
       "346535   JCP2022_017353  9222499262440709243            11  1  1  1  1  0  0  1  ...     0     0     0     0     0     0     0     0     0     0\n",
       "346536   JCP2022_040466  9222528730267146426            10  1  1  1  1  1  1  1  ...     0     0     0     0     0     0     0     0     0     0\n",
       "346537   JCP2022_040466  9222528730267146426            10  1  1  1  1  1  1  1  ...     0     0     0     0     0     0     0     0     0     0\n",
       "346538   JCP2022_040466  9222528730267146426            10  1  1  1  1  1  1  1  ...     0     0     0     0     0     0     0     0     0     0\n",
       "346539   JCP2022_102583  9223213570900537648             0  0  1  0  1  1  1  0  ...     0     0     0     0     0     0     0     0     0     0\n",
       "346540   JCP2022_102583  9223213570900537648             0  0  1  0  1  1  1  0  ...     0     0     0     0     0     0     0     0     0     0\n",
       "346541   JCP2022_102583  9223213570900537648             0  0  1  0  1  1  1  0  ...     0     0     0     0     0     0     0     0     0     0\n",
       "\n",
       "[10 rows x 1035 columns]"
      ]
     },
     "execution_count": 998,
     "metadata": {},
     "output_type": "execute_result"
    }
   ],
   "source": [
    "df_3sample_sorted.info()\n",
    "df_3sample_sorted.head(10)\n",
    "df_3sample_sorted.tail(10)"
   ]
  },
  {
   "cell_type": "markdown",
   "id": "96798a15-14d1-4483-baa5-9f5b4458473e",
   "metadata": {},
   "source": [
    "#### Reorder columns if needed "
   ]
  },
  {
   "cell_type": "code",
   "execution_count": 999,
   "id": "1490f579-f0b2-4ec4-9add-f25985c4240d",
   "metadata": {
    "execution": {
     "iopub.execute_input": "2024-10-24T12:00:26.701203Z",
     "iopub.status.busy": "2024-10-24T12:00:26.700769Z",
     "iopub.status.idle": "2024-10-24T12:00:26.749431Z",
     "shell.execute_reply": "2024-10-24T12:00:26.748658Z",
     "shell.execute_reply.started": "2024-10-24T12:00:26.701166Z"
    },
    "scrolled": true
   },
   "outputs": [],
   "source": [
    "# new_order_2 = df_3sample_sorted.columns[0:1]\n",
    "# new_order_2 = new_order_2.append(df_3sample_sorted.columns[-2:] )\n",
    "# new_order_2    \n",
    "# new_order_2 = new_order_2.append(df_3sample_sorted.columns[1:-2])\n",
    "# new_order_2\n",
    "# new_order_2 = df_3sample_sorted.index(0).append( df_3sample_sorted.index[-2:])\n",
    "# new_order_2 += df_3sample_sorted.columns[1:-2].tolist()\n",
    "# new_order_2[:20]\n",
    "# new_order_2\n",
    "# dense_mat = dense_mat[new_order]"
   ]
  },
  {
   "cell_type": "code",
   "execution_count": 1001,
   "id": "aa4f7292-4b3f-4a46-b67b-5038e1373512",
   "metadata": {
    "execution": {
     "iopub.execute_input": "2024-10-24T12:00:53.230758Z",
     "iopub.status.busy": "2024-10-24T12:00:53.230237Z",
     "iopub.status.idle": "2024-10-24T12:00:53.272284Z",
     "shell.execute_reply": "2024-10-24T12:00:53.271540Z",
     "shell.execute_reply.started": "2024-10-24T12:00:53.230716Z"
    }
   },
   "outputs": [],
   "source": [
    "# df_3sample_sorted = df_3sample_sorted[new_order_2]\n",
    "\n",
    "# df_3sample_sorted.head(10)\n",
    "# df_3sample_sorted.tail(10)"
   ]
  },
  {
   "cell_type": "markdown",
   "id": "2e6b8372-ca5c-4c8e-bad3-4f5151a553ee",
   "metadata": {
    "execution": {
     "iopub.execute_input": "2024-10-21T21:42:56.653798Z",
     "iopub.status.busy": "2024-10-21T21:42:56.653312Z",
     "iopub.status.idle": "2024-10-21T21:42:56.693775Z",
     "shell.execute_reply": "2024-10-21T21:42:56.693217Z",
     "shell.execute_reply.started": "2024-10-21T21:42:56.653757Z"
    }
   },
   "source": [
    "### Write sorted pharmacophore fp file "
   ]
  },
  {
   "cell_type": "code",
   "execution_count": 1004,
   "id": "c1776bde-6003-487e-8e87-7c30ceff3158",
   "metadata": {
    "ExecuteTime": {
     "end_time": "2023-05-25T06:22:30.460649Z",
     "start_time": "2023-05-25T06:22:30.448879Z"
    },
    "execution": {
     "iopub.execute_input": "2024-10-24T12:03:25.358743Z",
     "iopub.status.busy": "2024-10-24T12:03:25.358171Z",
     "iopub.status.idle": "2024-10-24T12:03:25.424286Z",
     "shell.execute_reply": "2024-10-24T12:03:25.423252Z",
     "shell.execute_reply.started": "2024-10-24T12:03:25.358692Z"
    }
   },
   "outputs": [
    {
     "name": "stdout",
     "output_type": "stream",
     "text": [
      " compound Pharmacophore File    : ./output_10162024/compound_pharmacophores_3samples.csv\n"
     ]
    }
   ],
   "source": [
    "print(f\" compound Pharmacophore File    : {ds.compoundPharmacophore3SampleFile}\")"
   ]
  },
  {
   "cell_type": "code",
   "execution_count": 1007,
   "id": "d5db3cb0-2a2e-4d24-88c3-5bdbee2f53af",
   "metadata": {
    "ExecuteTime": {
     "end_time": "2023-05-25T06:22:30.460649Z",
     "start_time": "2023-05-25T06:22:30.448879Z"
    },
    "execution": {
     "iopub.execute_input": "2024-10-24T12:04:36.063216Z",
     "iopub.status.busy": "2024-10-24T12:04:36.062697Z",
     "iopub.status.idle": "2024-10-24T12:05:43.663130Z",
     "shell.execute_reply": "2024-10-24T12:05:43.662007Z",
     "shell.execute_reply.started": "2024-10-24T12:04:36.063174Z"
    }
   },
   "outputs": [],
   "source": [
    "df_3sample_sorted.to_csv(ds.compoundPharmacophore3SampleFile, index = False)"
   ]
  },
  {
   "cell_type": "code",
   "execution_count": 1008,
   "id": "578aaf96-4170-47cb-a97e-f61f6d607345",
   "metadata": {
    "ExecuteTime": {
     "end_time": "2023-05-25T06:22:30.460649Z",
     "start_time": "2023-05-25T06:22:30.448879Z"
    },
    "execution": {
     "iopub.execute_input": "2024-10-24T12:08:02.417076Z",
     "iopub.status.busy": "2024-10-24T12:08:02.416601Z",
     "iopub.status.idle": "2024-10-24T12:10:18.052575Z",
     "shell.execute_reply": "2024-10-24T12:10:18.051414Z",
     "shell.execute_reply.started": "2024-10-24T12:08:02.417035Z"
    }
   },
   "outputs": [],
   "source": [
    "df_3sample_pharmacophores.to_csv(\"./output_10162024/3_sample_profiles/3sample_pharmacophores_1482_CompoundOrder_all.csv\", mode = 'w', index = False, header = True)\n",
    "df_3sample_sorted.to_csv(\"./output_10162024/3_sample_profiles/3sample_pharmacophores_1482_HashOrder_all.csv\", mode = 'w', index = False, header = True)"
   ]
  },
  {
   "cell_type": "code",
   "execution_count": 1009,
   "id": "eb94e34f-fc50-4a01-aa78-ef961fc0e6ef",
   "metadata": {
    "ExecuteTime": {
     "end_time": "2023-05-25T06:22:30.460649Z",
     "start_time": "2023-05-25T06:22:30.448879Z"
    },
    "execution": {
     "iopub.execute_input": "2024-10-24T12:10:18.056215Z",
     "iopub.status.busy": "2024-10-24T12:10:18.055750Z",
     "iopub.status.idle": "2024-10-24T12:12:34.783974Z",
     "shell.execute_reply": "2024-10-24T12:12:34.782729Z",
     "shell.execute_reply.started": "2024-10-24T12:10:18.056175Z"
    }
   },
   "outputs": [],
   "source": [
    "df_3sample_pharmacophores.to_csv(\"./output_11102023/3_sample_profiles/3sample_pharmacophores_1482_CompoundOrder_all.csv\", mode = 'w', index = False, header = True)\n",
    "df_3sample_sorted.to_csv(\"./output_11102023/3_sample_profiles/3sample_pharmacophores_1482_HashOrder_all.csv\", mode = 'w', index = False, header = True)"
   ]
  },
  {
   "cell_type": "code",
   "execution_count": 1014,
   "id": "6a90cf30-cb76-487b-91c8-15fc31e760ed",
   "metadata": {
    "execution": {
     "iopub.execute_input": "2024-10-24T12:20:03.137930Z",
     "iopub.status.busy": "2024-10-24T12:20:03.137343Z",
     "iopub.status.idle": "2024-10-24T12:20:03.185262Z",
     "shell.execute_reply": "2024-10-24T12:20:03.184326Z",
     "shell.execute_reply.started": "2024-10-24T12:20:03.137889Z"
    }
   },
   "outputs": [],
   "source": [
    "# del df_extMetadata, df_pharmacophores_all, df_3sample_pharmacophores, df_3sample_sorted, df_fingerprints_all\n",
    "# del df_fprints, df_md_nan, df_md_zero, df_metadata_all, df_nan, df_iterator, df_pfp, df_md_inv, df_pharmacophores\n",
    "# del df_profiles, df_profiles_sorted, df_samples, df_samples_dedupe, df_samples_flags, df_temp, df_test \n",
    "del"
   ]
  },
  {
   "cell_type": "markdown",
   "id": "32155c0b-e70f-4ae2-91da-bfcfbd620f9e",
   "metadata": {},
   "source": [
    "# Comprare the 3sample profile and fingerprint file to make sure trey match on key fields "
   ]
  },
  {
   "cell_type": "code",
   "execution_count": 919,
   "id": "3206bd35-5d97-471d-961c-892ddb0a1e3b",
   "metadata": {
    "execution": {
     "iopub.execute_input": "2024-10-23T15:11:48.850030Z",
     "iopub.status.busy": "2024-10-23T15:11:48.849570Z",
     "iopub.status.idle": "2024-10-23T15:11:48.889061Z",
     "shell.execute_reply": "2024-10-23T15:11:48.888545Z",
     "shell.execute_reply.started": "2024-10-23T15:11:48.849990Z"
    }
   },
   "outputs": [],
   "source": [
    "# del file_reader_1"
   ]
  },
  {
   "cell_type": "code",
   "execution_count": 920,
   "id": "59b7d3d1-cc27-427f-a00c-4d37578fe86e",
   "metadata": {
    "execution": {
     "iopub.execute_input": "2024-10-23T15:12:15.182022Z",
     "iopub.status.busy": "2024-10-23T15:12:15.181567Z",
     "iopub.status.idle": "2024-10-23T15:12:59.988576Z",
     "shell.execute_reply": "2024-10-23T15:12:59.986647Z",
     "shell.execute_reply.started": "2024-10-23T15:12:15.181981Z"
    }
   },
   "outputs": [],
   "source": [
    "df_profiles =  pd.read_csv('./output_11102023/3_sample_profiles/3sample_profiles_1482_HashOrder_all.csv', \n",
    "                        header = 0, skiprows = 0,\n",
    "                        usecols = ['Metadata_JCP2022', 'Metadata_Hash', 'Metadata_Bin',],)"
   ]
  },
  {
   "cell_type": "code",
   "execution_count": 1017,
   "id": "67c69f7d-b4e7-4efa-a442-f9d1b478310c",
   "metadata": {
    "execution": {
     "iopub.execute_input": "2024-10-24T12:28:17.916208Z",
     "iopub.status.busy": "2024-10-24T12:28:17.915740Z",
     "iopub.status.idle": "2024-10-24T12:28:18.000315Z",
     "shell.execute_reply": "2024-10-24T12:28:17.999349Z",
     "shell.execute_reply.started": "2024-10-24T12:28:17.916173Z"
    }
   },
   "outputs": [],
   "source": [
    "# df_profiles.drop_duplicates(subset=['Metadata_JCP2022'], keep='first', inplace=True, ignore_index=True)"
   ]
  },
  {
   "cell_type": "code",
   "execution_count": 1018,
   "id": "7297d6ce-a0a8-4dbc-b2a4-f79a49defc23",
   "metadata": {
    "execution": {
     "iopub.execute_input": "2024-10-24T12:28:18.238137Z",
     "iopub.status.busy": "2024-10-24T12:28:18.237599Z",
     "iopub.status.idle": "2024-10-24T12:28:18.324716Z",
     "shell.execute_reply": "2024-10-24T12:28:18.324000Z",
     "shell.execute_reply.started": "2024-10-24T12:28:18.238096Z"
    }
   },
   "outputs": [
    {
     "name": "stdout",
     "output_type": "stream",
     "text": [
      "<class 'pandas.core.frame.DataFrame'>\n",
      "RangeIndex: 346542 entries, 0 to 346541\n",
      "Data columns (total 3 columns):\n",
      " #   Column            Non-Null Count   Dtype \n",
      "---  ------            --------------   ----- \n",
      " 0   Metadata_JCP2022  346542 non-null  object\n",
      " 1   Metadata_Hash     346542 non-null  int64 \n",
      " 2   Metadata_Bin      346542 non-null  int64 \n",
      "dtypes: int64(2), object(1)\n",
      "memory usage: 7.9+ MB\n"
     ]
    },
    {
     "data": {
      "text/html": [
       "<div>\n",
       "<style scoped>\n",
       "    .dataframe tbody tr th:only-of-type {\n",
       "        vertical-align: middle;\n",
       "    }\n",
       "\n",
       "    .dataframe tbody tr th {\n",
       "        vertical-align: top;\n",
       "    }\n",
       "\n",
       "    .dataframe thead th {\n",
       "        text-align: right;\n",
       "    }\n",
       "</style>\n",
       "<table border=\"1\" class=\"dataframe\">\n",
       "  <thead>\n",
       "    <tr style=\"text-align: right;\">\n",
       "      <th></th>\n",
       "      <th>Metadata_JCP2022</th>\n",
       "      <th>Metadata_Hash</th>\n",
       "      <th>Metadata_Bin</th>\n",
       "    </tr>\n",
       "  </thead>\n",
       "  <tbody>\n",
       "    <tr>\n",
       "      <th>0</th>\n",
       "      <td>JCP2022_006020</td>\n",
       "      <td>-9223347314827979542</td>\n",
       "      <td>10</td>\n",
       "    </tr>\n",
       "    <tr>\n",
       "      <th>1</th>\n",
       "      <td>JCP2022_006020</td>\n",
       "      <td>-9223347314827979542</td>\n",
       "      <td>10</td>\n",
       "    </tr>\n",
       "    <tr>\n",
       "      <th>2</th>\n",
       "      <td>JCP2022_006020</td>\n",
       "      <td>-9223347314827979542</td>\n",
       "      <td>10</td>\n",
       "    </tr>\n",
       "    <tr>\n",
       "      <th>3</th>\n",
       "      <td>JCP2022_058905</td>\n",
       "      <td>-9223229703754907651</td>\n",
       "      <td>13</td>\n",
       "    </tr>\n",
       "    <tr>\n",
       "      <th>4</th>\n",
       "      <td>JCP2022_058905</td>\n",
       "      <td>-9223229703754907651</td>\n",
       "      <td>13</td>\n",
       "    </tr>\n",
       "  </tbody>\n",
       "</table>\n",
       "</div>"
      ],
      "text/plain": [
       "  Metadata_JCP2022        Metadata_Hash  Metadata_Bin\n",
       "0   JCP2022_006020 -9223347314827979542            10\n",
       "1   JCP2022_006020 -9223347314827979542            10\n",
       "2   JCP2022_006020 -9223347314827979542            10\n",
       "3   JCP2022_058905 -9223229703754907651            13\n",
       "4   JCP2022_058905 -9223229703754907651            13"
      ]
     },
     "execution_count": 1018,
     "metadata": {},
     "output_type": "execute_result"
    },
    {
     "data": {
      "text/html": [
       "<div>\n",
       "<style scoped>\n",
       "    .dataframe tbody tr th:only-of-type {\n",
       "        vertical-align: middle;\n",
       "    }\n",
       "\n",
       "    .dataframe tbody tr th {\n",
       "        vertical-align: top;\n",
       "    }\n",
       "\n",
       "    .dataframe thead th {\n",
       "        text-align: right;\n",
       "    }\n",
       "</style>\n",
       "<table border=\"1\" class=\"dataframe\">\n",
       "  <thead>\n",
       "    <tr style=\"text-align: right;\">\n",
       "      <th></th>\n",
       "      <th>Metadata_JCP2022</th>\n",
       "      <th>Metadata_Hash</th>\n",
       "      <th>Metadata_Bin</th>\n",
       "    </tr>\n",
       "  </thead>\n",
       "  <tbody>\n",
       "    <tr>\n",
       "      <th>346537</th>\n",
       "      <td>JCP2022_040466</td>\n",
       "      <td>9222528730267146426</td>\n",
       "      <td>10</td>\n",
       "    </tr>\n",
       "    <tr>\n",
       "      <th>346538</th>\n",
       "      <td>JCP2022_040466</td>\n",
       "      <td>9222528730267146426</td>\n",
       "      <td>10</td>\n",
       "    </tr>\n",
       "    <tr>\n",
       "      <th>346539</th>\n",
       "      <td>JCP2022_102583</td>\n",
       "      <td>9223213570900537648</td>\n",
       "      <td>0</td>\n",
       "    </tr>\n",
       "    <tr>\n",
       "      <th>346540</th>\n",
       "      <td>JCP2022_102583</td>\n",
       "      <td>9223213570900537648</td>\n",
       "      <td>0</td>\n",
       "    </tr>\n",
       "    <tr>\n",
       "      <th>346541</th>\n",
       "      <td>JCP2022_102583</td>\n",
       "      <td>9223213570900537648</td>\n",
       "      <td>0</td>\n",
       "    </tr>\n",
       "  </tbody>\n",
       "</table>\n",
       "</div>"
      ],
      "text/plain": [
       "       Metadata_JCP2022        Metadata_Hash  Metadata_Bin\n",
       "346537   JCP2022_040466  9222528730267146426            10\n",
       "346538   JCP2022_040466  9222528730267146426            10\n",
       "346539   JCP2022_102583  9223213570900537648             0\n",
       "346540   JCP2022_102583  9223213570900537648             0\n",
       "346541   JCP2022_102583  9223213570900537648             0"
      ]
     },
     "execution_count": 1018,
     "metadata": {},
     "output_type": "execute_result"
    }
   ],
   "source": [
    "df_profiles.info()\n",
    "df_profiles.head(5)\n",
    "df_profiles.tail(5)"
   ]
  },
  {
   "cell_type": "code",
   "execution_count": 1021,
   "id": "d038e714-118b-4a26-ab90-8c886ebf8149",
   "metadata": {
    "execution": {
     "iopub.execute_input": "2024-10-24T12:29:23.526190Z",
     "iopub.status.busy": "2024-10-24T12:29:23.525635Z",
     "iopub.status.idle": "2024-10-24T12:29:29.315682Z",
     "shell.execute_reply": "2024-10-24T12:29:29.314492Z",
     "shell.execute_reply.started": "2024-10-24T12:29:23.526145Z"
    }
   },
   "outputs": [
    {
     "name": "stdout",
     "output_type": "stream",
     "text": [
      "<class 'pandas.core.frame.DataFrame'>\n",
      "RangeIndex: 346542 entries, 0 to 346541\n",
      "Data columns (total 3 columns):\n",
      " #   Column            Non-Null Count   Dtype \n",
      "---  ------            --------------   ----- \n",
      " 0   Metadata_JCP2022  346542 non-null  object\n",
      " 1   Metadata_Hash     346542 non-null  int64 \n",
      " 2   Metadata_Bin      346542 non-null  int64 \n",
      "dtypes: int64(2), object(1)\n",
      "memory usage: 7.9+ MB\n"
     ]
    },
    {
     "data": {
      "text/html": [
       "<div>\n",
       "<style scoped>\n",
       "    .dataframe tbody tr th:only-of-type {\n",
       "        vertical-align: middle;\n",
       "    }\n",
       "\n",
       "    .dataframe tbody tr th {\n",
       "        vertical-align: top;\n",
       "    }\n",
       "\n",
       "    .dataframe thead th {\n",
       "        text-align: right;\n",
       "    }\n",
       "</style>\n",
       "<table border=\"1\" class=\"dataframe\">\n",
       "  <thead>\n",
       "    <tr style=\"text-align: right;\">\n",
       "      <th></th>\n",
       "      <th>Metadata_JCP2022</th>\n",
       "      <th>Metadata_Hash</th>\n",
       "      <th>Metadata_Bin</th>\n",
       "    </tr>\n",
       "  </thead>\n",
       "  <tbody>\n",
       "    <tr>\n",
       "      <th>0</th>\n",
       "      <td>JCP2022_006020</td>\n",
       "      <td>-9223347314827979542</td>\n",
       "      <td>10</td>\n",
       "    </tr>\n",
       "    <tr>\n",
       "      <th>1</th>\n",
       "      <td>JCP2022_006020</td>\n",
       "      <td>-9223347314827979542</td>\n",
       "      <td>10</td>\n",
       "    </tr>\n",
       "    <tr>\n",
       "      <th>2</th>\n",
       "      <td>JCP2022_006020</td>\n",
       "      <td>-9223347314827979542</td>\n",
       "      <td>10</td>\n",
       "    </tr>\n",
       "    <tr>\n",
       "      <th>3</th>\n",
       "      <td>JCP2022_058905</td>\n",
       "      <td>-9223229703754907651</td>\n",
       "      <td>13</td>\n",
       "    </tr>\n",
       "    <tr>\n",
       "      <th>4</th>\n",
       "      <td>JCP2022_058905</td>\n",
       "      <td>-9223229703754907651</td>\n",
       "      <td>13</td>\n",
       "    </tr>\n",
       "    <tr>\n",
       "      <th>5</th>\n",
       "      <td>JCP2022_058905</td>\n",
       "      <td>-9223229703754907651</td>\n",
       "      <td>13</td>\n",
       "    </tr>\n",
       "    <tr>\n",
       "      <th>6</th>\n",
       "      <td>JCP2022_051160</td>\n",
       "      <td>-9223005963369866647</td>\n",
       "      <td>9</td>\n",
       "    </tr>\n",
       "    <tr>\n",
       "      <th>7</th>\n",
       "      <td>JCP2022_051160</td>\n",
       "      <td>-9223005963369866647</td>\n",
       "      <td>9</td>\n",
       "    </tr>\n",
       "    <tr>\n",
       "      <th>8</th>\n",
       "      <td>JCP2022_051160</td>\n",
       "      <td>-9223005963369866647</td>\n",
       "      <td>9</td>\n",
       "    </tr>\n",
       "    <tr>\n",
       "      <th>9</th>\n",
       "      <td>JCP2022_038591</td>\n",
       "      <td>-9222975330808494972</td>\n",
       "      <td>4</td>\n",
       "    </tr>\n",
       "  </tbody>\n",
       "</table>\n",
       "</div>"
      ],
      "text/plain": [
       "  Metadata_JCP2022        Metadata_Hash  Metadata_Bin\n",
       "0   JCP2022_006020 -9223347314827979542            10\n",
       "1   JCP2022_006020 -9223347314827979542            10\n",
       "2   JCP2022_006020 -9223347314827979542            10\n",
       "3   JCP2022_058905 -9223229703754907651            13\n",
       "4   JCP2022_058905 -9223229703754907651            13\n",
       "5   JCP2022_058905 -9223229703754907651            13\n",
       "6   JCP2022_051160 -9223005963369866647             9\n",
       "7   JCP2022_051160 -9223005963369866647             9\n",
       "8   JCP2022_051160 -9223005963369866647             9\n",
       "9   JCP2022_038591 -9222975330808494972             4"
      ]
     },
     "execution_count": 1021,
     "metadata": {},
     "output_type": "execute_result"
    },
    {
     "data": {
      "text/html": [
       "<div>\n",
       "<style scoped>\n",
       "    .dataframe tbody tr th:only-of-type {\n",
       "        vertical-align: middle;\n",
       "    }\n",
       "\n",
       "    .dataframe tbody tr th {\n",
       "        vertical-align: top;\n",
       "    }\n",
       "\n",
       "    .dataframe thead th {\n",
       "        text-align: right;\n",
       "    }\n",
       "</style>\n",
       "<table border=\"1\" class=\"dataframe\">\n",
       "  <thead>\n",
       "    <tr style=\"text-align: right;\">\n",
       "      <th></th>\n",
       "      <th>Metadata_JCP2022</th>\n",
       "      <th>Metadata_Hash</th>\n",
       "      <th>Metadata_Bin</th>\n",
       "    </tr>\n",
       "  </thead>\n",
       "  <tbody>\n",
       "    <tr>\n",
       "      <th>346532</th>\n",
       "      <td>JCP2022_110705</td>\n",
       "      <td>9222418181275619136</td>\n",
       "      <td>0</td>\n",
       "    </tr>\n",
       "    <tr>\n",
       "      <th>346533</th>\n",
       "      <td>JCP2022_017353</td>\n",
       "      <td>9222499262440709243</td>\n",
       "      <td>11</td>\n",
       "    </tr>\n",
       "    <tr>\n",
       "      <th>346534</th>\n",
       "      <td>JCP2022_017353</td>\n",
       "      <td>9222499262440709243</td>\n",
       "      <td>11</td>\n",
       "    </tr>\n",
       "    <tr>\n",
       "      <th>346535</th>\n",
       "      <td>JCP2022_017353</td>\n",
       "      <td>9222499262440709243</td>\n",
       "      <td>11</td>\n",
       "    </tr>\n",
       "    <tr>\n",
       "      <th>346536</th>\n",
       "      <td>JCP2022_040466</td>\n",
       "      <td>9222528730267146426</td>\n",
       "      <td>10</td>\n",
       "    </tr>\n",
       "    <tr>\n",
       "      <th>346537</th>\n",
       "      <td>JCP2022_040466</td>\n",
       "      <td>9222528730267146426</td>\n",
       "      <td>10</td>\n",
       "    </tr>\n",
       "    <tr>\n",
       "      <th>346538</th>\n",
       "      <td>JCP2022_040466</td>\n",
       "      <td>9222528730267146426</td>\n",
       "      <td>10</td>\n",
       "    </tr>\n",
       "    <tr>\n",
       "      <th>346539</th>\n",
       "      <td>JCP2022_102583</td>\n",
       "      <td>9223213570900537648</td>\n",
       "      <td>0</td>\n",
       "    </tr>\n",
       "    <tr>\n",
       "      <th>346540</th>\n",
       "      <td>JCP2022_102583</td>\n",
       "      <td>9223213570900537648</td>\n",
       "      <td>0</td>\n",
       "    </tr>\n",
       "    <tr>\n",
       "      <th>346541</th>\n",
       "      <td>JCP2022_102583</td>\n",
       "      <td>9223213570900537648</td>\n",
       "      <td>0</td>\n",
       "    </tr>\n",
       "  </tbody>\n",
       "</table>\n",
       "</div>"
      ],
      "text/plain": [
       "       Metadata_JCP2022        Metadata_Hash  Metadata_Bin\n",
       "346532   JCP2022_110705  9222418181275619136             0\n",
       "346533   JCP2022_017353  9222499262440709243            11\n",
       "346534   JCP2022_017353  9222499262440709243            11\n",
       "346535   JCP2022_017353  9222499262440709243            11\n",
       "346536   JCP2022_040466  9222528730267146426            10\n",
       "346537   JCP2022_040466  9222528730267146426            10\n",
       "346538   JCP2022_040466  9222528730267146426            10\n",
       "346539   JCP2022_102583  9223213570900537648             0\n",
       "346540   JCP2022_102583  9223213570900537648             0\n",
       "346541   JCP2022_102583  9223213570900537648             0"
      ]
     },
     "execution_count": 1021,
     "metadata": {},
     "output_type": "execute_result"
    }
   ],
   "source": [
    "df_pfp = pd.read_csv('./output_11102023/3_sample_profiles/3sample_pharmacophores_1482_HashOrder_all.csv',\n",
    "                        header = 0,\n",
    "                        skiprows = 0,\n",
    "                        usecols = ['Metadata_JCP2022', 'Metadata_Hash', 'Metadata_Bin' ])\n",
    "df_pfp.info()\n",
    "df_pfp.head(10)\n",
    "df_pfp.tail(10)"
   ]
  },
  {
   "cell_type": "code",
   "execution_count": 1022,
   "id": "dff6b834-1268-4b33-b102-ad34f53f29ba",
   "metadata": {
    "execution": {
     "iopub.execute_input": "2024-10-24T12:29:47.867531Z",
     "iopub.status.busy": "2024-10-24T12:29:47.867137Z",
     "iopub.status.idle": "2024-10-24T12:29:47.967772Z",
     "shell.execute_reply": "2024-10-24T12:29:47.967025Z",
     "shell.execute_reply.started": "2024-10-24T12:29:47.867497Z"
    },
    "scrolled": true
   },
   "outputs": [
    {
     "name": "stdout",
     "output_type": "stream",
     "text": [
      "<class 'pandas.core.frame.DataFrame'>\n",
      "RangeIndex: 346542 entries, 0 to 346541\n",
      "Data columns (total 3 columns):\n",
      " #   Column            Non-Null Count   Dtype \n",
      "---  ------            --------------   ----- \n",
      " 0   Metadata_JCP2022  346542 non-null  object\n",
      " 1   Metadata_Hash     346542 non-null  int64 \n",
      " 2   Metadata_Bin      346542 non-null  int64 \n",
      "dtypes: int64(2), object(1)\n",
      "memory usage: 7.9+ MB\n",
      "<class 'pandas.core.frame.DataFrame'>\n",
      "RangeIndex: 346542 entries, 0 to 346541\n",
      "Data columns (total 3 columns):\n",
      " #   Column            Non-Null Count   Dtype \n",
      "---  ------            --------------   ----- \n",
      " 0   Metadata_JCP2022  346542 non-null  object\n",
      " 1   Metadata_Hash     346542 non-null  int64 \n",
      " 2   Metadata_Bin      346542 non-null  int64 \n",
      "dtypes: int64(2), object(1)\n",
      "memory usage: 7.9+ MB\n"
     ]
    }
   ],
   "source": [
    "df_profiles.info()\n",
    "df_pfp.info()"
   ]
  },
  {
   "cell_type": "code",
   "execution_count": 1023,
   "id": "6846c76b-82e9-408f-b962-7c6dc42d077c",
   "metadata": {
    "execution": {
     "iopub.execute_input": "2024-10-24T12:30:00.294248Z",
     "iopub.status.busy": "2024-10-24T12:30:00.293780Z",
     "iopub.status.idle": "2024-10-24T12:30:00.362964Z",
     "shell.execute_reply": "2024-10-24T12:30:00.361622Z",
     "shell.execute_reply.started": "2024-10-24T12:30:00.294211Z"
    },
    "scrolled": true
   },
   "outputs": [
    {
     "data": {
      "text/plain": [
       "346542"
      ]
     },
     "execution_count": 1023,
     "metadata": {},
     "output_type": "execute_result"
    }
   ],
   "source": [
    "idx1 =  0\n",
    "ttl_mismatch = 0\n",
    "len(df_pfp)"
   ]
  },
  {
   "cell_type": "code",
   "execution_count": 1024,
   "id": "bc955f32-1f2e-470a-b90e-951fdd78500a",
   "metadata": {
    "execution": {
     "iopub.execute_input": "2024-10-24T12:30:05.877382Z",
     "iopub.status.busy": "2024-10-24T12:30:05.876999Z",
     "iopub.status.idle": "2024-10-24T12:31:01.276932Z",
     "shell.execute_reply": "2024-10-24T12:31:01.275949Z",
     "shell.execute_reply.started": "2024-10-24T12:30:05.877349Z"
    },
    "scrolled": true
   },
   "outputs": [
    {
     "name": "stdout",
     "output_type": "stream",
     "text": [
      " 0 rows read . . . \n",
      " 10000 rows read . . . \n",
      " 20000 rows read . . . \n",
      " 30000 rows read . . . \n",
      " 40000 rows read . . . \n",
      " 50000 rows read . . . \n",
      " 60000 rows read . . . \n",
      " 70000 rows read . . . \n",
      " 80000 rows read . . . \n",
      " 90000 rows read . . . \n",
      " 100000 rows read . . . \n",
      " 110000 rows read . . . \n",
      " 120000 rows read . . . \n",
      " 130000 rows read . . . \n",
      " 140000 rows read . . . \n",
      " 150000 rows read . . . \n",
      " 160000 rows read . . . \n",
      " 170000 rows read . . . \n",
      " 180000 rows read . . . \n",
      " 190000 rows read . . . \n",
      " 200000 rows read . . . \n",
      " 210000 rows read . . . \n",
      " 220000 rows read . . . \n",
      " 230000 rows read . . . \n",
      " 240000 rows read . . . \n",
      " 250000 rows read . . . \n",
      " 260000 rows read . . . \n",
      " 270000 rows read . . . \n",
      " 280000 rows read . . . \n",
      " 290000 rows read . . . \n",
      " 300000 rows read . . . \n",
      " 310000 rows read . . . \n",
      " 320000 rows read . . . \n",
      " 330000 rows read . . . \n",
      " 340000 rows read . . . \n"
     ]
    }
   ],
   "source": [
    "for idx1 in range(0, 346_542):\n",
    "    if idx1 % 10000 == 0:\n",
    "        print(f\" {idx1} rows read . . . \")\n",
    "    for j in range(3):\n",
    "        if (df_profiles.iloc[idx1, j ] !=  df_pfp.iloc[idx1,j]):\n",
    "            print(f\" row: {idx1} col {j} - values differ:  {df_profiles.iloc[idx1, j ]} !=  {df_pfp.iloc[idx1,j]} \")\n",
    "            ttl_mismatch += 1\n",
    "            break\n",
    "print(f\" {idx1+1} rows read\")"
   ]
  },
  {
   "cell_type": "markdown",
   "id": "4617aebd-6b6d-4cce-b742-7dcae3397c8c",
   "metadata": {
    "jp-MarkdownHeadingCollapsed": true
   },
   "source": [
    "# (Obsolete) Drop TPSA == 0 rows from df_pharamcophore file "
   ]
  },
  {
   "cell_type": "markdown",
   "id": "6af1b11a-3f3b-419c-9f5f-d73c34b5f1c7",
   "metadata": {
    "heading_collapsed": true
   },
   "source": [
    "### Read Pharmacophore fingerprint \n",
    "(Sparse Bit Vector format)  `./output/cp_compound_pharmacophores_sparsebitvec.pkl`  and check it"
   ]
  },
  {
   "cell_type": "code",
   "execution_count": 73,
   "id": "7b4a14dd-4d03-4e99-9875-ff86d066f926",
   "metadata": {
    "ExecuteTime": {
     "end_time": "2023-05-26T08:56:43.445427Z",
     "start_time": "2023-05-26T08:56:43.430411Z"
    },
    "execution": {
     "iopub.execute_input": "2023-11-10T21:27:29.081380Z",
     "iopub.status.busy": "2023-11-10T21:27:29.081109Z",
     "iopub.status.idle": "2023-11-10T21:27:29.094562Z",
     "shell.execute_reply": "2023-11-10T21:27:29.093980Z",
     "shell.execute_reply.started": "2023-11-10T21:27:29.081363Z"
    },
    "hidden": true,
    "scrolled": true
   },
   "outputs": [
    {
     "name": "stdout",
     "output_type": "stream",
     "text": [
      "./output_11102023/_compound_pharmacophores_sparse.pkl\n"
     ]
    }
   ],
   "source": [
    "print(compoundPharmacophoreFile)"
   ]
  },
  {
   "cell_type": "code",
   "execution_count": 73,
   "id": "f660ee68-83f8-43c2-b973-9b29b5b12ea1",
   "metadata": {
    "ExecuteTime": {
     "end_time": "2023-05-25T10:39:48.997121Z",
     "start_time": "2023-05-25T10:39:47.974580Z"
    },
    "hidden": true
   },
   "outputs": [
    {
     "name": "stdout",
     "output_type": "stream",
     "text": [
      "<class 'pandas.core.frame.DataFrame'>\n",
      "RangeIndex: 116751 entries, 0 to 116750\n",
      "Data columns (total 2 columns):\n",
      " #   Column            Non-Null Count   Dtype \n",
      "---  ------            --------------   ----- \n",
      " 0   JCP2022           116751 non-null  object\n",
      " 1   pharmacophore_fp  116751 non-null  object\n",
      "dtypes: object(2)\n",
      "memory usage: 1.8+ MB\n"
     ]
    },
    {
     "data": {
      "text/html": [
       "<div>\n",
       "<style scoped>\n",
       "    .dataframe tbody tr th:only-of-type {\n",
       "        vertical-align: middle;\n",
       "    }\n",
       "\n",
       "    .dataframe tbody tr th {\n",
       "        vertical-align: top;\n",
       "    }\n",
       "\n",
       "    .dataframe thead th {\n",
       "        text-align: right;\n",
       "    }\n",
       "</style>\n",
       "<table border=\"1\" class=\"dataframe\">\n",
       "  <thead>\n",
       "    <tr style=\"text-align: right;\">\n",
       "      <th></th>\n",
       "      <th>JCP2022</th>\n",
       "      <th>pharmacophore_fp</th>\n",
       "    </tr>\n",
       "  </thead>\n",
       "  <tbody>\n",
       "    <tr>\n",
       "      <th>0</th>\n",
       "      <td>JCP2022_000001</td>\n",
       "      <td>[0, 1, 1, 1, 1, 1, 1, 1, 1, 1, 0, 0, 1, 1, 0, ...</td>\n",
       "    </tr>\n",
       "    <tr>\n",
       "      <th>1</th>\n",
       "      <td>JCP2022_000002</td>\n",
       "      <td>[0, 0, 0, 1, 1, 0, 0, 1, 0, 1, 0, 0, 0, 0, 0, ...</td>\n",
       "    </tr>\n",
       "    <tr>\n",
       "      <th>2</th>\n",
       "      <td>JCP2022_000003</td>\n",
       "      <td>[0, 1, 1, 1, 0, 1, 1, 1, 1, 1, 0, 0, 0, 0, 0, ...</td>\n",
       "    </tr>\n",
       "    <tr>\n",
       "      <th>3</th>\n",
       "      <td>JCP2022_000004</td>\n",
       "      <td>[1, 1, 1, 0, 0, 1, 0, 1, 0, 0, 0, 0, 0, 1, 0, ...</td>\n",
       "    </tr>\n",
       "    <tr>\n",
       "      <th>4</th>\n",
       "      <td>JCP2022_000005</td>\n",
       "      <td>[1, 1, 1, 1, 0, 1, 1, 1, 1, 1, 0, 0, 0, 0, 0, ...</td>\n",
       "    </tr>\n",
       "    <tr>\n",
       "      <th>5</th>\n",
       "      <td>JCP2022_000006</td>\n",
       "      <td>[1, 1, 1, 1, 0, 0, 1, 1, 1, 1, 0, 0, 0, 0, 0, ...</td>\n",
       "    </tr>\n",
       "    <tr>\n",
       "      <th>6</th>\n",
       "      <td>JCP2022_000007</td>\n",
       "      <td>[1, 1, 1, 1, 0, 1, 1, 1, 1, 1, 0, 0, 0, 0, 0, ...</td>\n",
       "    </tr>\n",
       "    <tr>\n",
       "      <th>7</th>\n",
       "      <td>JCP2022_000008</td>\n",
       "      <td>[0, 1, 0, 1, 0, 1, 0, 1, 0, 1, 0, 0, 0, 0, 0, ...</td>\n",
       "    </tr>\n",
       "    <tr>\n",
       "      <th>8</th>\n",
       "      <td>JCP2022_000009</td>\n",
       "      <td>[1, 1, 1, 1, 1, 1, 1, 1, 1, 1, 0, 0, 0, 1, 0, ...</td>\n",
       "    </tr>\n",
       "    <tr>\n",
       "      <th>9</th>\n",
       "      <td>JCP2022_000010</td>\n",
       "      <td>[1, 1, 1, 1, 1, 1, 0, 0, 0, 0, 0, 0, 0, 0, 0, ...</td>\n",
       "    </tr>\n",
       "  </tbody>\n",
       "</table>\n",
       "</div>"
      ],
      "text/plain": [
       "          JCP2022                                   pharmacophore_fp\n",
       "0  JCP2022_000001  [0, 1, 1, 1, 1, 1, 1, 1, 1, 1, 0, 0, 1, 1, 0, ...\n",
       "1  JCP2022_000002  [0, 0, 0, 1, 1, 0, 0, 1, 0, 1, 0, 0, 0, 0, 0, ...\n",
       "2  JCP2022_000003  [0, 1, 1, 1, 0, 1, 1, 1, 1, 1, 0, 0, 0, 0, 0, ...\n",
       "3  JCP2022_000004  [1, 1, 1, 0, 0, 1, 0, 1, 0, 0, 0, 0, 0, 1, 0, ...\n",
       "4  JCP2022_000005  [1, 1, 1, 1, 0, 1, 1, 1, 1, 1, 0, 0, 0, 0, 0, ...\n",
       "5  JCP2022_000006  [1, 1, 1, 1, 0, 0, 1, 1, 1, 1, 0, 0, 0, 0, 0, ...\n",
       "6  JCP2022_000007  [1, 1, 1, 1, 0, 1, 1, 1, 1, 1, 0, 0, 0, 0, 0, ...\n",
       "7  JCP2022_000008  [0, 1, 0, 1, 0, 1, 0, 1, 0, 1, 0, 0, 0, 0, 0, ...\n",
       "8  JCP2022_000009  [1, 1, 1, 1, 1, 1, 1, 1, 1, 1, 0, 0, 0, 1, 0, ...\n",
       "9  JCP2022_000010  [1, 1, 1, 1, 1, 1, 0, 0, 0, 0, 0, 0, 0, 0, 0, ..."
      ]
     },
     "execution_count": 73,
     "metadata": {},
     "output_type": "execute_result"
    },
    {
     "data": {
      "text/html": [
       "<div>\n",
       "<style scoped>\n",
       "    .dataframe tbody tr th:only-of-type {\n",
       "        vertical-align: middle;\n",
       "    }\n",
       "\n",
       "    .dataframe tbody tr th {\n",
       "        vertical-align: top;\n",
       "    }\n",
       "\n",
       "    .dataframe thead th {\n",
       "        text-align: right;\n",
       "    }\n",
       "</style>\n",
       "<table border=\"1\" class=\"dataframe\">\n",
       "  <thead>\n",
       "    <tr style=\"text-align: right;\">\n",
       "      <th></th>\n",
       "      <th>JCP2022</th>\n",
       "      <th>pharmacophore_fp</th>\n",
       "    </tr>\n",
       "  </thead>\n",
       "  <tbody>\n",
       "    <tr>\n",
       "      <th>116741</th>\n",
       "      <td>JCP2022_116744</td>\n",
       "      <td>[0, 1, 1, 1, 0, 0, 1, 1, 1, 1, 0, 0, 0, 0, 0, ...</td>\n",
       "    </tr>\n",
       "    <tr>\n",
       "      <th>116742</th>\n",
       "      <td>JCP2022_116745</td>\n",
       "      <td>[0, 1, 1, 1, 1, 1, 0, 1, 1, 1, 0, 0, 0, 0, 0, ...</td>\n",
       "    </tr>\n",
       "    <tr>\n",
       "      <th>116743</th>\n",
       "      <td>JCP2022_116746</td>\n",
       "      <td>[0, 1, 1, 1, 0, 1, 1, 1, 1, 1, 0, 0, 0, 0, 0, ...</td>\n",
       "    </tr>\n",
       "    <tr>\n",
       "      <th>116744</th>\n",
       "      <td>JCP2022_116747</td>\n",
       "      <td>[0, 1, 1, 0, 0, 1, 1, 1, 0, 0, 0, 0, 0, 1, 0, ...</td>\n",
       "    </tr>\n",
       "    <tr>\n",
       "      <th>116745</th>\n",
       "      <td>JCP2022_116748</td>\n",
       "      <td>[0, 1, 1, 1, 1, 1, 1, 1, 1, 1, 0, 0, 0, 0, 0, ...</td>\n",
       "    </tr>\n",
       "    <tr>\n",
       "      <th>116746</th>\n",
       "      <td>JCP2022_116749</td>\n",
       "      <td>[0, 1, 1, 1, 1, 1, 1, 1, 1, 1, 0, 0, 0, 1, 0, ...</td>\n",
       "    </tr>\n",
       "    <tr>\n",
       "      <th>116747</th>\n",
       "      <td>JCP2022_116750</td>\n",
       "      <td>[1, 1, 1, 1, 1, 1, 1, 1, 0, 1, 0, 0, 0, 0, 0, ...</td>\n",
       "    </tr>\n",
       "    <tr>\n",
       "      <th>116748</th>\n",
       "      <td>JCP2022_116751</td>\n",
       "      <td>[0, 1, 1, 1, 0, 1, 0, 1, 1, 1, 0, 0, 0, 0, 0, ...</td>\n",
       "    </tr>\n",
       "    <tr>\n",
       "      <th>116749</th>\n",
       "      <td>JCP2022_116752</td>\n",
       "      <td>[1, 1, 1, 1, 1, 1, 1, 1, 1, 1, 0, 0, 0, 0, 0, ...</td>\n",
       "    </tr>\n",
       "    <tr>\n",
       "      <th>116750</th>\n",
       "      <td>JCP2022_116753</td>\n",
       "      <td>[0, 1, 1, 0, 0, 1, 1, 0, 1, 0, 0, 0, 0, 1, 0, ...</td>\n",
       "    </tr>\n",
       "  </tbody>\n",
       "</table>\n",
       "</div>"
      ],
      "text/plain": [
       "               JCP2022                                   pharmacophore_fp\n",
       "116741  JCP2022_116744  [0, 1, 1, 1, 0, 0, 1, 1, 1, 1, 0, 0, 0, 0, 0, ...\n",
       "116742  JCP2022_116745  [0, 1, 1, 1, 1, 1, 0, 1, 1, 1, 0, 0, 0, 0, 0, ...\n",
       "116743  JCP2022_116746  [0, 1, 1, 1, 0, 1, 1, 1, 1, 1, 0, 0, 0, 0, 0, ...\n",
       "116744  JCP2022_116747  [0, 1, 1, 0, 0, 1, 1, 1, 0, 0, 0, 0, 0, 1, 0, ...\n",
       "116745  JCP2022_116748  [0, 1, 1, 1, 1, 1, 1, 1, 1, 1, 0, 0, 0, 0, 0, ...\n",
       "116746  JCP2022_116749  [0, 1, 1, 1, 1, 1, 1, 1, 1, 1, 0, 0, 0, 1, 0, ...\n",
       "116747  JCP2022_116750  [1, 1, 1, 1, 1, 1, 1, 1, 0, 1, 0, 0, 0, 0, 0, ...\n",
       "116748  JCP2022_116751  [0, 1, 1, 1, 0, 1, 0, 1, 1, 1, 0, 0, 0, 0, 0, ...\n",
       "116749  JCP2022_116752  [1, 1, 1, 1, 1, 1, 1, 1, 1, 1, 0, 0, 0, 0, 0, ...\n",
       "116750  JCP2022_116753  [0, 1, 1, 0, 0, 1, 1, 0, 1, 0, 0, 0, 0, 1, 0, ..."
      ]
     },
     "execution_count": 73,
     "metadata": {},
     "output_type": "execute_result"
    }
   ],
   "source": [
    "df = pd.read_pickle(compoundPharmacophoreFile)\n",
    "df.info()\n",
    "df.head(10)\n",
    "df.tail(10)"
   ]
  },
  {
   "cell_type": "code",
   "execution_count": 74,
   "id": "260bc758-6fff-4e6b-b5c7-455402c080f0",
   "metadata": {
    "ExecuteTime": {
     "end_time": "2023-05-25T10:39:49.014602Z",
     "start_time": "2023-05-25T10:39:48.999211Z"
    },
    "hidden": true
   },
   "outputs": [
    {
     "name": "stdout",
     "output_type": "stream",
     "text": [
      "<class 'rdkit.DataStructs.cDataStructs.SparseBitVect'> 1032 <rdkit.DataStructs.cDataStructs.SparseBitVect object at 0x7f4775000130>\n",
      "<class 'rdkit.DataStructs.cDataStructs.SparseBitVect'> 1032 <rdkit.DataStructs.cDataStructs.SparseBitVect object at 0x7f4775000130>\n",
      "<class 'rdkit.DataStructs.cDataStructs.SparseBitVect'> 1032 <rdkit.DataStructs.cDataStructs.SparseBitVect object at 0x7f4775000130>\n"
     ]
    }
   ],
   "source": [
    "\n",
    "print(type(df.at[0, 'pharmacophore_fp']), len(df.at[0, 'pharmacophore_fp']),  df.at[0, 'pharmacophore_fp'])\n",
    "print(type(df.loc[0].pharmacophore_fp)  , len(df.loc[0].pharmacophore_fp)  ,  df.loc[0].pharmacophore_fp)\n",
    "print(type(df.iloc[0].pharmacophore_fp) , len(df.iloc[0].pharmacophore_fp) ,  df.iloc[0].pharmacophore_fp)\n",
    "# print(type(df[0].pharmacophore_fp) , len(df[0].pharmacophore_fp) ,  df[0].pharmacophore_fp)\n"
   ]
  },
  {
   "cell_type": "code",
   "execution_count": 75,
   "id": "b8706b5c-8165-40e8-a134-af6269d455ac",
   "metadata": {
    "ExecuteTime": {
     "end_time": "2023-05-25T10:39:49.072717Z",
     "start_time": "2023-05-25T10:39:49.046690Z"
    },
    "hidden": true
   },
   "outputs": [
    {
     "data": {
      "text/html": [
       "<div>\n",
       "<style scoped>\n",
       "    .dataframe tbody tr th:only-of-type {\n",
       "        vertical-align: middle;\n",
       "    }\n",
       "\n",
       "    .dataframe tbody tr th {\n",
       "        vertical-align: top;\n",
       "    }\n",
       "\n",
       "    .dataframe thead th {\n",
       "        text-align: right;\n",
       "    }\n",
       "</style>\n",
       "<table border=\"1\" class=\"dataframe\">\n",
       "  <thead>\n",
       "    <tr style=\"text-align: right;\">\n",
       "      <th></th>\n",
       "      <th>JCP2022</th>\n",
       "      <th>pharmacophore_fp</th>\n",
       "    </tr>\n",
       "  </thead>\n",
       "  <tbody>\n",
       "  </tbody>\n",
       "</table>\n",
       "</div>"
      ],
      "text/plain": [
       "Empty DataFrame\n",
       "Columns: [JCP2022, pharmacophore_fp]\n",
       "Index: []"
      ]
     },
     "execution_count": 75,
     "metadata": {},
     "output_type": "execute_result"
    },
    {
     "data": {
      "text/plain": [
       "116751"
      ]
     },
     "execution_count": 75,
     "metadata": {},
     "output_type": "execute_result"
    },
    {
     "data": {
      "text/html": [
       "<div>\n",
       "<style scoped>\n",
       "    .dataframe tbody tr th:only-of-type {\n",
       "        vertical-align: middle;\n",
       "    }\n",
       "\n",
       "    .dataframe tbody tr th {\n",
       "        vertical-align: top;\n",
       "    }\n",
       "\n",
       "    .dataframe thead th {\n",
       "        text-align: right;\n",
       "    }\n",
       "</style>\n",
       "<table border=\"1\" class=\"dataframe\">\n",
       "  <thead>\n",
       "    <tr style=\"text-align: right;\">\n",
       "      <th></th>\n",
       "      <th>JCP2022</th>\n",
       "      <th>pharmacophore_fp</th>\n",
       "    </tr>\n",
       "  </thead>\n",
       "  <tbody>\n",
       "  </tbody>\n",
       "</table>\n",
       "</div>"
      ],
      "text/plain": [
       "Empty DataFrame\n",
       "Columns: [JCP2022, pharmacophore_fp]\n",
       "Index: []"
      ]
     },
     "execution_count": 75,
     "metadata": {},
     "output_type": "execute_result"
    },
    {
     "data": {
      "text/plain": [
       "116751"
      ]
     },
     "execution_count": 75,
     "metadata": {},
     "output_type": "execute_result"
    }
   ],
   "source": [
    "df[df['JCP2022'].isna()]\n",
    "len(df)\n",
    "df[df['pharmacophore_fp'].isna()]\n",
    "len(df)\n"
   ]
  },
  {
   "cell_type": "code",
   "execution_count": 76,
   "id": "9db36526-f649-4d1e-960b-ae0b8e0a2d20",
   "metadata": {
    "ExecuteTime": {
     "end_time": "2023-05-25T10:39:51.077063Z",
     "start_time": "2023-05-25T10:39:51.065402Z"
    },
    "hidden": true
   },
   "outputs": [],
   "source": [
    "del df"
   ]
  },
  {
   "cell_type": "markdown",
   "id": "0fe6005b-f0a9-4c98-a744-4f559971e81c",
   "metadata": {},
   "source": [
    "### Read pharamcophore file"
   ]
  },
  {
   "cell_type": "code",
   "execution_count": 76,
   "id": "922d5443-86c7-464a-9730-0e6c9eab0126",
   "metadata": {
    "ExecuteTime": {
     "end_time": "2023-05-29T11:50:31.384058Z",
     "start_time": "2023-05-29T11:50:30.332356Z"
    },
    "scrolled": true
   },
   "outputs": [
    {
     "name": "stdout",
     "output_type": "stream",
     "text": [
      "<class 'pandas.core.frame.DataFrame'>\n",
      "RangeIndex: 116751 entries, 0 to 116750\n",
      "Data columns (total 2 columns):\n",
      " #   Column            Non-Null Count   Dtype \n",
      "---  ------            --------------   ----- \n",
      " 0   JCP2022           116751 non-null  object\n",
      " 1   pharmacophore_fp  116751 non-null  object\n",
      "dtypes: object(2)\n",
      "memory usage: 1.8+ MB\n"
     ]
    },
    {
     "data": {
      "text/html": [
       "<div>\n",
       "<style scoped>\n",
       "    .dataframe tbody tr th:only-of-type {\n",
       "        vertical-align: middle;\n",
       "    }\n",
       "\n",
       "    .dataframe tbody tr th {\n",
       "        vertical-align: top;\n",
       "    }\n",
       "\n",
       "    .dataframe thead th {\n",
       "        text-align: right;\n",
       "    }\n",
       "</style>\n",
       "<table border=\"1\" class=\"dataframe\">\n",
       "  <thead>\n",
       "    <tr style=\"text-align: right;\">\n",
       "      <th></th>\n",
       "      <th>JCP2022</th>\n",
       "      <th>pharmacophore_fp</th>\n",
       "    </tr>\n",
       "  </thead>\n",
       "  <tbody>\n",
       "    <tr>\n",
       "      <th>0</th>\n",
       "      <td>JCP2022_000001</td>\n",
       "      <td>[0, 1, 1, 1, 1, 1, 1, 1, 1, 1, 0, 0, 1, 1, 0, ...</td>\n",
       "    </tr>\n",
       "    <tr>\n",
       "      <th>1</th>\n",
       "      <td>JCP2022_000002</td>\n",
       "      <td>[0, 0, 0, 1, 1, 0, 0, 1, 0, 1, 0, 0, 0, 0, 0, ...</td>\n",
       "    </tr>\n",
       "    <tr>\n",
       "      <th>2</th>\n",
       "      <td>JCP2022_000003</td>\n",
       "      <td>[0, 1, 1, 1, 0, 1, 1, 1, 1, 1, 0, 0, 0, 0, 0, ...</td>\n",
       "    </tr>\n",
       "  </tbody>\n",
       "</table>\n",
       "</div>"
      ],
      "text/plain": [
       "          JCP2022                                   pharmacophore_fp\n",
       "0  JCP2022_000001  [0, 1, 1, 1, 1, 1, 1, 1, 1, 1, 0, 0, 1, 1, 0, ...\n",
       "1  JCP2022_000002  [0, 0, 0, 1, 1, 0, 0, 1, 0, 1, 0, 0, 0, 0, 0, ...\n",
       "2  JCP2022_000003  [0, 1, 1, 1, 0, 1, 1, 1, 1, 1, 0, 0, 0, 0, 0, ..."
      ]
     },
     "execution_count": 76,
     "metadata": {},
     "output_type": "execute_result"
    },
    {
     "data": {
      "text/html": [
       "<div>\n",
       "<style scoped>\n",
       "    .dataframe tbody tr th:only-of-type {\n",
       "        vertical-align: middle;\n",
       "    }\n",
       "\n",
       "    .dataframe tbody tr th {\n",
       "        vertical-align: top;\n",
       "    }\n",
       "\n",
       "    .dataframe thead th {\n",
       "        text-align: right;\n",
       "    }\n",
       "</style>\n",
       "<table border=\"1\" class=\"dataframe\">\n",
       "  <thead>\n",
       "    <tr style=\"text-align: right;\">\n",
       "      <th></th>\n",
       "      <th>JCP2022</th>\n",
       "      <th>pharmacophore_fp</th>\n",
       "    </tr>\n",
       "  </thead>\n",
       "  <tbody>\n",
       "    <tr>\n",
       "      <th>116748</th>\n",
       "      <td>JCP2022_116751</td>\n",
       "      <td>[0, 1, 1, 1, 0, 1, 0, 1, 1, 1, 0, 0, 0, 0, 0, ...</td>\n",
       "    </tr>\n",
       "    <tr>\n",
       "      <th>116749</th>\n",
       "      <td>JCP2022_116752</td>\n",
       "      <td>[1, 1, 1, 1, 1, 1, 1, 1, 1, 1, 0, 0, 0, 0, 0, ...</td>\n",
       "    </tr>\n",
       "    <tr>\n",
       "      <th>116750</th>\n",
       "      <td>JCP2022_116753</td>\n",
       "      <td>[0, 1, 1, 0, 0, 1, 1, 0, 1, 0, 0, 0, 0, 1, 0, ...</td>\n",
       "    </tr>\n",
       "  </tbody>\n",
       "</table>\n",
       "</div>"
      ],
      "text/plain": [
       "               JCP2022                                   pharmacophore_fp\n",
       "116748  JCP2022_116751  [0, 1, 1, 1, 0, 1, 0, 1, 1, 1, 0, 0, 0, 0, 0, ...\n",
       "116749  JCP2022_116752  [1, 1, 1, 1, 1, 1, 1, 1, 1, 1, 0, 0, 0, 0, 0, ...\n",
       "116750  JCP2022_116753  [0, 1, 1, 0, 0, 1, 1, 0, 1, 0, 0, 0, 0, 1, 0, ..."
      ]
     },
     "execution_count": 76,
     "metadata": {},
     "output_type": "execute_result"
    }
   ],
   "source": [
    "df_pharmacophores = pd.read_pickle(compoundPharmacophoreFile)\n",
    "df_pharmacophores.info()\n",
    "df_pharmacophores.head(3)\n",
    "df_pharmacophores.tail(3)"
   ]
  },
  {
   "cell_type": "markdown",
   "id": "e5e7f8b8-654f-45b3-b8b7-7995672672b6",
   "metadata": {},
   "source": [
    "### drop df_pharmacophore rows where corresponding  TPSA == 0"
   ]
  },
  {
   "cell_type": "code",
   "execution_count": 1,
   "id": "7c243b8d-1bcb-4033-80f0-a82f5cc6a005",
   "metadata": {
    "ExecuteTime": {
     "end_time": "2023-05-29T11:56:23.494579Z",
     "start_time": "2023-05-29T11:56:23.364674Z"
    },
    "execution": {
     "iopub.execute_input": "2024-10-16T16:30:17.734646Z",
     "iopub.status.busy": "2024-10-16T16:30:17.733955Z",
     "iopub.status.idle": "2024-10-16T16:30:17.740103Z",
     "shell.execute_reply": "2024-10-16T16:30:17.739043Z",
     "shell.execute_reply.started": "2024-10-16T16:30:17.734587Z"
    }
   },
   "outputs": [],
   "source": [
    "# df_pharmacophores.drop(index=md_drop_indices, inplace=True)\n",
    "# len(df_pharmacophores)\n",
    "# df_pharmacophores\n"
   ]
  },
  {
   "cell_type": "code",
   "execution_count": 93,
   "id": "1a9e8c82-6a37-418b-8f9f-30eb93421b80",
   "metadata": {
    "ExecuteTime": {
     "end_time": "2023-05-29T12:00:58.940830Z",
     "start_time": "2023-05-29T12:00:58.796517Z"
    },
    "scrolled": true
   },
   "outputs": [
    {
     "name": "stdout",
     "output_type": "stream",
     "text": [
      "<class 'pandas.core.frame.DataFrame'>\n",
      "Index: 116691 entries, 0 to 116750\n",
      "Data columns (total 2 columns):\n",
      " #   Column            Non-Null Count   Dtype \n",
      "---  ------            --------------   ----- \n",
      " 0   JCP2022           116691 non-null  object\n",
      " 1   pharmacophore_fp  116691 non-null  object\n",
      "dtypes: object(2)\n",
      "memory usage: 2.7+ MB\n"
     ]
    }
   ],
   "source": [
    "# df_pharmacophores.info()"
   ]
  },
  {
   "cell_type": "markdown",
   "id": "b6f592f0-f63a-4097-b193-39f945f2ea37",
   "metadata": {},
   "source": [
    "### write to `cp_compound_pharmacophores_sparse_clean.pkl`"
   ]
  },
  {
   "cell_type": "code",
   "execution_count": 103,
   "id": "34e634cf-4f30-4aa5-80b3-b24c0e0e62d3",
   "metadata": {
    "ExecuteTime": {
     "end_time": "2023-05-29T12:06:49.034703Z",
     "start_time": "2023-05-29T12:06:48.931902Z"
    }
   },
   "outputs": [
    {
     "name": "stdout",
     "output_type": "stream",
     "text": [
      " compound Pharmacophore Clean Pickle File       : ./output/cp_compound_pharmacophores_sparse_clean.pkl\n"
     ]
    }
   ],
   "source": [
    "# print(f\" compound Pharmacophore Clean Pickle File       : {compoundPharmacophoreCleanFile}\")"
   ]
  },
  {
   "cell_type": "code",
   "execution_count": 104,
   "id": "67497815-202d-44a9-aea4-282c4dd456a4",
   "metadata": {
    "ExecuteTime": {
     "end_time": "2023-05-29T12:06:52.285050Z",
     "start_time": "2023-05-29T12:06:51.620571Z"
    }
   },
   "outputs": [],
   "source": [
    "# df_pharmacophores.to_pickle(compoundPharmacophoreCleanFile)"
   ]
  }
 ],
 "metadata": {
  "kernelspec": {
   "display_name": "Python [conda env:cp311]",
   "language": "python",
   "name": "conda-env-cp311-py"
  },
  "language_info": {
   "codemirror_mode": {
    "name": "ipython",
    "version": 3
   },
   "file_extension": ".py",
   "mimetype": "text/x-python",
   "name": "python",
   "nbconvert_exporter": "python",
   "pygments_lexer": "ipython3",
   "version": "3.11.4"
  },
  "toc": {
   "base_numbering": 1,
   "nav_menu": {},
   "number_sections": true,
   "sideBar": true,
   "skip_h1_title": false,
   "title_cell": "Table of Contents",
   "title_sidebar": "Contents",
   "toc_cell": false,
   "toc_position": {},
   "toc_section_display": true,
   "toc_window_display": false
  }
 },
 "nbformat": 4,
 "nbformat_minor": 5
}
