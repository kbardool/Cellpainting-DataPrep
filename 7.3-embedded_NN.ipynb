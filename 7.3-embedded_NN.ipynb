{
 "cells": [
  {
   "cell_type": "markdown",
   "id": "418c282c-2b25-4f32-96cf-883b40b84c36",
   "metadata": {
    "editable": true,
    "slideshow": {
     "slide_type": ""
    },
    "tags": []
   },
   "source": [
    "  # Apply encoder to morphological profiles to get latent space representations :"
   ]
  },
  {
   "cell_type": "markdown",
   "id": "14da93a6-653f-4a55-9b3a-e72ab79a1121",
   "metadata": {},
   "source": [
    "# Setup"
   ]
  },
  {
   "cell_type": "code",
   "execution_count": 1,
   "id": "a104a277-3ad3-438a-b706-d4499f709f89",
   "metadata": {
    "ExecuteTime": {
     "end_time": "2023-04-12T10:29:16.111588Z",
     "start_time": "2023-04-12T10:29:15.764305Z"
    },
    "editable": true,
    "execution": {
     "iopub.execute_input": "2024-08-26T22:59:37.529476Z",
     "iopub.status.busy": "2024-08-26T22:59:37.528905Z",
     "iopub.status.idle": "2024-08-26T22:59:37.554745Z",
     "shell.execute_reply": "2024-08-26T22:59:37.554065Z",
     "shell.execute_reply.started": "2024-08-26T22:59:37.529433Z"
    },
    "slideshow": {
     "slide_type": ""
    },
    "tags": []
   },
   "outputs": [
    {
     "data": {
      "text/html": [
       "<style>.container { width:98% !important; }</style>"
      ],
      "text/plain": [
       "<IPython.core.display.HTML object>"
      ]
     },
     "metadata": {},
     "output_type": "display_data"
    }
   ],
   "source": [
    "%load_ext autoreload  \n",
    "%autoreload 2\n",
    "from IPython.display import display, HTML, Image\n",
    "from IPython.core.interactiveshell import InteractiveShell\n",
    "display(HTML(\"<style>.container { width:98% !important; }</style>\"))\n",
    "InteractiveShell.ast_node_interactivity = \"all\""
   ]
  },
  {
   "cell_type": "code",
   "execution_count": 2,
   "id": "7478f60a-2ea2-4407-bd91-f068349f222b",
   "metadata": {
    "ExecuteTime": {
     "end_time": "2023-04-12T10:29:16.111588Z",
     "start_time": "2023-04-12T10:29:15.764305Z"
    },
    "editable": true,
    "execution": {
     "iopub.execute_input": "2024-08-26T22:59:37.884855Z",
     "iopub.status.busy": "2024-08-26T22:59:37.884432Z",
     "iopub.status.idle": "2024-08-26T22:59:41.182913Z",
     "shell.execute_reply": "2024-08-26T22:59:41.182068Z",
     "shell.execute_reply.started": "2024-08-26T22:59:37.884816Z"
    },
    "slideshow": {
     "slide_type": ""
    },
    "tags": []
   },
   "outputs": [
    {
     "name": "stdout",
     "output_type": "stream",
     "text": [
      "insert ./src\n",
      "insert ../..\n",
      "['../..', './src', '/home/kevin/WSL-shared/cellpainting/cj-datasets', '/home/kevin/miniforge3/envs/cp311/lib/python311.zip', '/home/kevin/miniforge3/envs/cp311/lib/python3.11', '/home/kevin/miniforge3/envs/cp311/lib/python3.11/lib-dynload', '', '/home/kevin/miniforge3/envs/cp311/lib/python3.11/site-packages', '/home/kevin/miniforge3/envs/cp311/lib/python3.11/site-packages/huggingface_hub-0.20.3-py3.8.egg']\n"
     ]
    },
    {
     "data": {
      "text/plain": [
       "<torch._C.Generator at 0x7f2874285f10>"
      ]
     },
     "execution_count": 2,
     "metadata": {},
     "output_type": "execute_result"
    }
   ],
   "source": [
    "import os\n",
    "import sys\n",
    "# import csv\n",
    "# import json\n",
    "# import time\n",
    "# import types\n",
    "# import copy\n",
    "import json\n",
    "import os\n",
    "import random\n",
    "import sys\n",
    "from typing import List, Tuple\n",
    "from types import SimpleNamespace\n",
    "import yaml\n",
    "import pprint\n",
    "import logging\n",
    "from datetime import datetime\n",
    "for p in ['./src','../..']:\n",
    "    if p not in sys.path:\n",
    "        print(f\"insert {p}\")\n",
    "        sys.path.insert(0, p)\n",
    "print(sys.path)\n",
    "# from hydra import initialize, initialize_config_module, initialize_config_dir, compose\n",
    "# from omegaconf import OmegaConf\n",
    "# from typing import Dict, List, Tuple\n",
    "# from scipy.sparse import csr_matrix\n",
    "# from tqdm import tqdm\n",
    " \n",
    "import tqdm\n",
    "import numpy as np\n",
    "import matplotlib.pyplot as plt\n",
    "import seaborn as sb\n",
    "import pandas as pd\n",
    "\n",
    "import torch\n",
    "import torch.nn as nn\n",
    "import torch.nn.functional as F\n",
    "import matplotlib.pyplot as plt # for making figures\n",
    "from torchinfo import summary\n",
    "\n",
    "torch.set_printoptions(precision=None, threshold=None, edgeitems=None, linewidth=180, profile=None, sci_mode=None)\n",
    "torch.manual_seed(42); # seed rng for reproducibility\n",
    "pp = pprint.PrettyPrinter(indent=4)\n",
    "pd.options.display.width = 132\n",
    "np.set_printoptions(edgeitems=3, infstr='inf', linewidth=150, nanstr='nan')\n",
    "\n",
    "os.environ[\"WANDB_NOTEBOOK_NAME\"] = \"AE-MAIN-SNNL.ipynb\"\n",
    "# os.environ[\"CUDA_LAUNCH_BLOCKING\"] = \"1\"\n",
    "# os.environ[\"CUDA_VISIBLE_DEVICES\"] = \"2\""
   ]
  },
  {
   "cell_type": "code",
   "execution_count": 3,
   "id": "b939a031-286c-430c-890d-946ea497d8e3",
   "metadata": {
    "editable": true,
    "execution": {
     "iopub.execute_input": "2024-08-26T22:59:41.184547Z",
     "iopub.status.busy": "2024-08-26T22:59:41.184197Z",
     "iopub.status.idle": "2024-08-26T22:59:44.687201Z",
     "shell.execute_reply": "2024-08-26T22:59:44.686368Z",
     "shell.execute_reply.started": "2024-08-26T22:59:41.184524Z"
    },
    "slideshow": {
     "slide_type": ""
    },
    "tags": []
   },
   "outputs": [
    {
     "name": "stderr",
     "output_type": "stream",
     "text": [
      "/home/kevin/miniforge3/envs/cp311/lib/python3.11/site-packages/dask/dataframe/_pyarrow_compat.py:17: FutureWarning: Minimal version of pyarrow will soon be increased to 14.0.1. You are using 11.0.0. Please consider upgrading.\n",
      "  warnings.warn(\n"
     ]
    }
   ],
   "source": [
    "# import snnl.utils as utils\n",
    "from utils.utils_ptsnnl import display_cellpainting_batch\n",
    "from utils.utils_cellpainting import label_counts, balance_datasets\n",
    "from utils.dataloader import custom_collate_fn,CellpaintingDataset, InfiniteDataLoader\n",
    "from KevinsRoutines.utils.utils_general import list_namespace, save_to_pickle, load_from_pickle\n",
    "from utils.utils_cellpainting import save_checkpoint\n"
   ]
  },
  {
   "cell_type": "code",
   "execution_count": 4,
   "id": "881f9047-fdab-47ef-b800-9b396d079189",
   "metadata": {
    "editable": true,
    "execution": {
     "iopub.execute_input": "2024-08-26T22:59:44.689208Z",
     "iopub.status.busy": "2024-08-26T22:59:44.688641Z",
     "iopub.status.idle": "2024-08-26T22:59:44.811176Z",
     "shell.execute_reply": "2024-08-26T22:59:44.810423Z",
     "shell.execute_reply.started": "2024-08-26T22:59:44.689185Z"
    },
    "slideshow": {
     "slide_type": ""
    },
    "tags": []
   },
   "outputs": [],
   "source": [
    "import scipy\n",
    "import scipy.stats as sps\n",
    "import sklearn.metrics as skm\n",
    "from scipy.spatial.distance import pdist, squareform, euclidean\n",
    "\n",
    "\n",
    "# from sklearn.metrics import accuracy_score, f1_score, roc_curve, roc_auc_score, classification_report, precision_recall_fscore_support\n",
    "# from sklearn.metrics import precision_recall_curve, PrecisionRecallDisplay, roc_curve, RocCurveDisplay\n",
    "# from sklearn.metrics import confusion_matrix, ConfusionMatrixDisplay\n",
    "\n",
    "# Models\n",
    "# from xgboost import XGBClassifier, XGBRegressor\n",
    "\n",
    "import sklearn.metrics as skm\n",
    "from sklearn.decomposition import PCA\n",
    "from sklearn.manifold import TSNE\n",
    "\n",
    "from sklearn.pipeline import Pipeline\n",
    "from sklearn.svm import SVC, SVR\n",
    "from sklearn.ensemble import RandomForestClassifier, RandomForestRegressor\n",
    "from sklearn.neighbors import KNeighborsClassifier, KNeighborsRegressor\n",
    "\n",
    "# utility class to help normalize labels such that they contain only values between 0 and n_classes-1.\n",
    "from sklearn.preprocessing import LabelEncoder, StandardScaler\n",
    "\n",
    "# K-Folds cross-validator - Provides train/test indices to split data in train/test sets. Split dataset into k consecutive folds (without shuffling by default).\n",
    "# Each fold is then used once as a validation while the k - 1 remaining folds form the training set.\n",
    "from sklearn.model_selection import KFold, StratifiedKFold\n",
    "from sklearn.model_selection import GroupKFold, StratifiedGroupKFold\n",
    "from sklearn.model_selection import ShuffleSplit, GroupShuffleSplit, StratifiedShuffleSplit, TimeSeriesSplit\n",
    "\n",
    "# Evaluate metric(s) by cross-validation and also record fit/score times.\n",
    "from sklearn.model_selection import cross_validate, cross_val_score\n",
    "\n",
    "# Generate cross-validated estimates for each input data point.\n",
    "# The data is split according to the cv parameter. Each sample belongs to exactly one test set,\n",
    "# and its prediction is computed with an estimator fitted on the corresponding training set.\n",
    "from sklearn.model_selection import cross_val_predict\n",
    "\n",
    "# Exhaustive search over specified parameter values for an estimator.\n",
    "# Randomized search on hyper parameters.\n",
    "from sklearn.model_selection import GridSearchCV, RandomizedSearchCV\n",
    "\n",
    "# Input checker utility for building a cross-validator.(?)\n",
    "from sklearn.model_selection._split import check_cv\n",
    "\n",
    "# Make a scorer from a performance metric or loss function. This factory function wraps scoring\n",
    "# functions for use in GridSearchCV and cross_val_score. It takes a score function, such as accuracy_score,\n",
    "# mean_squared_error, adjusted_rand_score or average_precision_score and returns a callable that\n",
    "# scores an estimator’s output. The signature of the call is (estimator, X, y) where estimator\n",
    "# is the model to be evaluated, X is the data and y is the ground truth labeling (or None in the\n",
    "# case of unsupervised models).\n",
    "from sklearn.metrics import make_scorer\n",
    "\n",
    "# regression matrics\n",
    "from sklearn.metrics import mean_absolute_error, mean_squared_error, r2_score\n",
    "\n",
    "# classification metrics\n",
    "from sklearn.metrics import accuracy_score, confusion_matrix, classification_report"
   ]
  },
  {
   "cell_type": "code",
   "execution_count": 5,
   "id": "c12352c5-443c-414b-bb2b-6ea5ba801515",
   "metadata": {
    "editable": true,
    "execution": {
     "iopub.execute_input": "2024-08-26T22:59:44.813190Z",
     "iopub.status.busy": "2024-08-26T22:59:44.812959Z",
     "iopub.status.idle": "2024-08-26T22:59:44.856059Z",
     "shell.execute_reply": "2024-08-26T22:59:44.855557Z",
     "shell.execute_reply.started": "2024-08-26T22:59:44.813167Z"
    },
    "scrolled": true,
    "slideshow": {
     "slide_type": ""
    },
    "tags": []
   },
   "outputs": [
    {
     "name": "stderr",
     "output_type": "stream",
     "text": [
      "2024-08-27 00:59:44,850 - __main__ - INFO: -  Excution started : 20240827_0059 \n",
      "2024-08-27 00:59:44,851 - __main__ - INFO: -  Pytorch version  : 2.2.0\n",
      "2024-08-27 00:59:44,852 - __main__ - INFO: -  Scipy version    : 1.11.4  \t\t Numpy version : 1.26.2\n",
      "2024-08-27 00:59:44,852 - __main__ - INFO: -  Pandas version: 2.2.0  \n"
     ]
    }
   ],
   "source": [
    "timestamp = datetime.now().strftime('%Y_%m_%d_%H:%M:%S')\n",
    "logger = logging.getLogger(__name__)\n",
    "logLevel = os.environ.get('LOG_LEVEL', 'INFO').upper()\n",
    "FORMAT = '%(asctime)s - %(name)s - %(levelname)s: - %(message)s'\n",
    "RUN_DATETIME = datetime.now().strftime('%Y%m%d_%H%M')\n",
    "logging.basicConfig(level=\"INFO\", format= FORMAT)\n",
    "logger.info(f\" Excution started : {RUN_DATETIME} \")\n",
    "logger.info(f\" Pytorch version  : {torch.__version__}\")\n",
    "logger.info(f\" Scipy version    : {scipy.__version__}  \\t\\t Numpy version : {np.__version__}\")\n",
    "logger.info(f\" Pandas version: {pd.__version__}  \")\n"
   ]
  },
  {
   "cell_type": "markdown",
   "id": "cdaa5260-01ce-4a98-b597-62c43c388f43",
   "metadata": {},
   "source": [
    "## Helper routines"
   ]
  },
  {
   "cell_type": "code",
   "execution_count": 6,
   "id": "f4e3a048-b158-416d-8dcf-2f735047da22",
   "metadata": {
    "execution": {
     "iopub.execute_input": "2024-08-26T22:59:44.857339Z",
     "iopub.status.busy": "2024-08-26T22:59:44.857132Z",
     "iopub.status.idle": "2024-08-26T22:59:44.913015Z",
     "shell.execute_reply": "2024-08-26T22:59:44.912302Z",
     "shell.execute_reply.started": "2024-08-26T22:59:44.857318Z"
    }
   },
   "outputs": [],
   "source": [
    "# def compute_classification_metrics(mo):\n",
    "#     \"\"\"\n",
    "#     mo : model outpust from 'run_model_on_test_data'\n",
    "#     \"\"\"\n",
    "#     cm = SimpleNamespace()\n",
    " \n",
    "#     cm.accuracy = skm.accuracy_score(mo.y_true, mo.y_pred)\n",
    "#     cm.roc_auc  = skm.roc_auc_score(mo.y_true, mo.y_logits)\n",
    "#     cm.precision, cm.recall, cm.f1, _ = skm.precision_recall_fscore_support(mo.y_true, mo.y_pred, average='binary', zero_division=0)\n",
    "#     cm.cls_report = skm.classification_report(mo.y_true, mo.y_pred)\n",
    "#     (mo.y_true == mo.y_pred).sum()\n",
    "    \n",
    "#     # cm.test_accuracy = binary_accuracy(y_true=mo.labels, y_prob=mo.logits)\n",
    "#     # cm.test_f1 = binary_f1_score(y_true=mo.labels, y_prob=mo.logits)\n",
    "#     return cm\n"
   ]
  },
  {
   "cell_type": "code",
   "execution_count": 7,
   "id": "370da57d-3a60-40ca-ba3b-4264b4c5e605",
   "metadata": {
    "execution": {
     "iopub.execute_input": "2024-08-26T22:59:44.914619Z",
     "iopub.status.busy": "2024-08-26T22:59:44.914229Z",
     "iopub.status.idle": "2024-08-26T22:59:44.956697Z",
     "shell.execute_reply": "2024-08-26T22:59:44.955984Z",
     "shell.execute_reply.started": "2024-08-26T22:59:44.914594Z"
    }
   },
   "outputs": [],
   "source": [
    "### from sklearn.metrics import RocCurveDisplay\n",
    "# fig, axes = plt.subplots(1, 3, figsize=(16, 5))\n",
    "def plot_cls_metrics(y_true, y_prob, y_pred, epochs = None ):\n",
    "    fig, axes = plt.subplots(1, 3, figsize=(16, 5))\n",
    "    msg_sfx = f\"- epoch:{epochs} \" if epochs is not None else \"\"\n",
    "    roc_display = skm.RocCurveDisplay.from_predictions(\n",
    "        y_true.squeeze(),\n",
    "        y_prob.squeeze(), \n",
    "        name=f\"ROC Curve\",\n",
    "        color=\"darkorange\",\n",
    "        plot_chance_level=True,\n",
    "        ax = axes[0])\n",
    "\n",
    "    _ = roc_display.ax_.set(\n",
    "        xlabel=\"False Positive Rate\",\n",
    "        ylabel=\"True Positive Rate\",\n",
    "        title = f\" ROC curve {msg_sfx}\")\n",
    "        # title=f\"ROC curve - TPSA Classification  \\n LogLoss: {metrics['logloss'] :0.3f} AUC: {metrics['roc_auc']:0.3f} \",\n",
    "    _ = roc_display.ax_.legend(fontsize=8)\n",
    "\n",
    "    pr_display = skm.PrecisionRecallDisplay.from_predictions(\n",
    "        y_true.squeeze(),\n",
    "        y_prob.squeeze(),\n",
    "        name=\"Precision/Recall\",\n",
    "        pos_label= 1,\n",
    "        plot_chance_level=True,\n",
    "        ax = axes[1])\n",
    "\n",
    "    _ = pr_display.ax_.set_title(f\" Precision-Recall curve {msg_sfx}\")\n",
    "    _ = pr_display.ax_.legend(fontsize=8)\n",
    "\n",
    "\n",
    "    cm_display = skm.ConfusionMatrixDisplay.from_predictions(\n",
    "        y_true.squeeze(),\n",
    "        y_pred.squeeze(),\n",
    "        values_format=\"5d\",\n",
    "        ax = axes[2])\n",
    "\n",
    "    _ = cm_display.ax_.set_title(f\"Confusion Matrix {msg_sfx}\")\n"
   ]
  },
  {
   "cell_type": "code",
   "execution_count": 8,
   "id": "ef317830-b133-4a4d-9461-55122350a828",
   "metadata": {
    "execution": {
     "iopub.execute_input": "2024-08-26T22:59:44.958118Z",
     "iopub.status.busy": "2024-08-26T22:59:44.957894Z",
     "iopub.status.idle": "2024-08-26T22:59:45.006080Z",
     "shell.execute_reply": "2024-08-26T22:59:45.005292Z",
     "shell.execute_reply.started": "2024-08-26T22:59:44.958096Z"
    }
   },
   "outputs": [],
   "source": [
    "def compute_classification_metrics(mo, verbose = False):\n",
    "    \"\"\"\n",
    "    mo : model outpust from 'run_model_on_test_data'\n",
    "    \"\"\"\n",
    "    cm = SimpleNamespace()\n",
    " \n",
    "    cm.accuracy = skm.accuracy_score(mo.y_true, mo.y_pred) * 100.0\n",
    "    cm.roc_auc  = skm.roc_auc_score(mo.y_true, mo.y_logits)\n",
    "    cm.precision, cm.recall, cm.f1, _ = skm.precision_recall_fscore_support(mo.y_true, mo.y_pred, average='binary', zero_division=0)\n",
    "    cm.cls_report = skm.classification_report(mo.y_true, mo.y_pred)\n",
    "    (mo.y_true == mo.y_pred).sum()\n",
    "    \n",
    "    # cm.test_accuracy = binary_accuracy(y_true=mo.labels, y_prob=mo.logits)\n",
    "    # cm.test_f1 = binary_f1_score(y_true=mo.labels, y_prob=mo.logits)\n",
    "    if verbose: \n",
    "        print(f\" accuracy :   {cm.accuracy:.2f} %\")\n",
    "        print(f\" roc_auc  :   {cm.roc_auc:.6f} \")\n",
    "        print(f\" precision:   {cm.precision:.6f}   \\n recall   :   {cm.recall:.6f}    \\n f1       :   {cm.f1:.6f}\")\n",
    "        print(\"\\n Classification Report: \\n\")\n",
    "        print(cm.cls_report)\n",
    "        (mo.y_true == mo.y_pred).sum()\n",
    "        print(np.bincount(mo.y_pred.squeeze()))\n",
    "    return cm\n"
   ]
  },
  {
   "cell_type": "code",
   "execution_count": 9,
   "id": "dd1ebefd-7c1b-4c14-8f38-ad5918523086",
   "metadata": {
    "execution": {
     "iopub.execute_input": "2024-08-26T22:59:45.007724Z",
     "iopub.status.busy": "2024-08-26T22:59:45.007449Z",
     "iopub.status.idle": "2024-08-26T22:59:45.054906Z",
     "shell.execute_reply": "2024-08-26T22:59:45.054068Z",
     "shell.execute_reply.started": "2024-08-26T22:59:45.007699Z"
    }
   },
   "outputs": [],
   "source": [
    "def run_model_on_test_data(model, data_loader, device, verbose = False):\n",
    "    \"\"\"\n",
    "    embedding layer: layer that contains embedding (for encoding models)\n",
    "    \"\"\"\n",
    "    out = SimpleNamespace()\n",
    "    out.tpsa = np.empty((0,3))\n",
    "    # out.logits = np.empty((0))\n",
    "    out.compounds = np.empty((0))\n",
    "    out.embeddings = {} \n",
    "\n",
    "    out.y_true = np.empty((0,1), dtype=np.uint8)\n",
    "    out.y_logits = np.empty((0,1))\n",
    "    out.y_prob = np.empty((0,1))\n",
    "    out.y_pred = np.empty((0,1), dtype=np.uint8)\n",
    "    # out.labels = np.empty((0,1))\n",
    "    \n",
    "    model.eval()\n",
    "    \n",
    "    for idx, (batch_features, batch_labels, batch_wellinfo , batch_compound_ids, batch_hashbin, batch_tpsa) in enumerate(data_loader):\n",
    "        #    (batch_features, batch_labels, plate_well, compound, hash) \n",
    "        batch_features = batch_features.to(device)\n",
    "        batch_labels   = batch_labels.to(device)\n",
    "        batch_logits = model(batch_features)\n",
    "        # print(f\" batchtpsa : {batch_tpsa.shape}  \\n {batch_tpsa[:3,:]}\")\n",
    "        # print(f\" batchlabels: {batch_labels.shape}  batch_output: {batch_output.shape}    batch_features: {batch_features.shape}\")            \n",
    "        out.compounds = np.concatenate((out.compounds, batch_compound_ids))    \n",
    "        out.y_true = np.concatenate((out.y_true, batch_labels.detach().cpu().numpy().astype(np.uint8)))\n",
    "        out.y_logits = np.concatenate((out.y_logits, batch_logits.detach().cpu().numpy()))\n",
    "        out.y_prob = np.concatenate((out.y_prob, torch.sigmoid(batch_logits).detach().cpu().numpy())) \n",
    "        \n",
    "        # out.labels = np.concatenate((out.labels, batch_labels.detach().cpu().numpy()))\n",
    "        out.tpsa   = np.concatenate((out.tpsa ,  batch_tpsa))\n",
    "        if verbose:\n",
    "            print(f\" output :  {idx:2d} - Labels:{out.y_true.shape[0]:5d}   y_true:{out.y_true.shape}   y_pred:{out.y_pred.shape} \")\n",
    "    ###- end\n",
    "    \n",
    "    out.y_true = out.y_true.squeeze()\n",
    "    out.y_logits = out.y_logits.squeeze()\n",
    "    out.y_prob = out.y_prob.squeeze()\n",
    "    out.y_pred = np.round(out.y_prob).astype(np.uint8)\n",
    "    out.comp_labels = np.arange(out.y_true.shape[0],dtype=np.int16)//3 \n",
    "    if verbose:\n",
    "        print(f\" out.y_true     :  {out.y_true.dtype}  shape: {out.y_true.shape} sum: {out.y_true.sum()} - {out.y_true.squeeze()[:5]}\")\n",
    "        print(f\" out.y_logits   :  {out.y_logits.dtype}  shape: {out.y_logits.shape} - {out.y_logits.squeeze()[:5]}\")\n",
    "        print(f\" out.y_prob     :  {out.y_prob.dtype}  shape: {out.y_prob.shape} - {out.y_prob.squeeze()[:5]}\")\n",
    "        print(f\" out.y_pred     :  {out.y_pred.dtype}  shape: {out.y_pred.shape} sum: {out.y_pred.sum()} - {out.y_pred.squeeze()[:5]}\")\n",
    "        print(f\" out.compounds  :  {out.compounds.dtype}    shape: {out.compounds.shape}\")\n",
    "        print(f\" out.comp_labels:  {out.comp_labels.dtype}   shape: {out.comp_labels.shape} - {out.comp_labels[:25]}\")   \n",
    "    return out"
   ]
  },
  {
   "cell_type": "markdown",
   "id": "cdac793b-be20-4c56-8bab-989c05caad80",
   "metadata": {},
   "source": [
    "# main(args)"
   ]
  },
  {
   "cell_type": "code",
   "execution_count": 10,
   "id": "c25082b2-753b-4069-b183-00a90f611b68",
   "metadata": {
    "editable": true,
    "execution": {
     "iopub.execute_input": "2024-08-26T22:59:45.056549Z",
     "iopub.status.busy": "2024-08-26T22:59:45.056304Z",
     "iopub.status.idle": "2024-08-26T22:59:45.104495Z",
     "shell.execute_reply": "2024-08-26T22:59:45.103765Z",
     "shell.execute_reply.started": "2024-08-26T22:59:45.056528Z"
    },
    "slideshow": {
     "slide_type": ""
    },
    "tags": []
   },
   "outputs": [
    {
     "name": "stdout",
     "output_type": "stream",
     "text": [
      "161\n",
      "20240827_0059\n"
     ]
    }
   ],
   "source": [
    "WANDB_ACTIVE  = False\n",
    "LATENT_DIM    = 150\n",
    "HIDDEN_1      = 512\n",
    "# HIDDEN_2    = '_256'\n",
    "HIDDEN_2      = ''\n",
    "COMPOUNDS_PER_BATCH = 200\n",
    "# DATE          = 'yyyymmdd-hhmm'\n",
    "# LOAD_EPOCH    = 200\n",
    "# EPOCHS        = 5\n",
    "# LEARNING_RATE = 1.00e-04\n",
    "# TEMP_LR       = 1.00e-05\n",
    "# TEMP          = 0.05\n",
    "# RUNMODE       = \"baseline\"\n",
    "# CONFIGURATION = \"./hyperparameters/ae_cp_150_512_cpb.yaml\"\n",
    "# RUNMODE       = \"snnl\"\n",
    "# CONFIGURATION   = \"./hyperparameters/ae_sn_150_512_cpb.yaml\"\n",
    "\n",
    "output_file_cols = ['Metadata_Source', 'Metadata_Batch', 'Metadata_Plate', 'Metadata_Well', 'Metadata_JCP2022', 'Metadata_Hash', 'Metadata_Bin', 'Metadata_TPSA', 'Metadata_lnTPSA', 'Metadata_log10TPSA', 'Metadata_Permiation']\n",
    "output_file_cols += [f'Feature_{x:03d}' for x in range(LATENT_DIM)]\n",
    "print(len(output_file_cols))\n",
    "\n",
    "print(RUN_DATETIME)\n",
    "OUTPUT_PATH = f\"/home/kevin/WSL-shared/cellpainting/cj-datasets/output_11102023/3_sample_embeddings/\"\n",
    "INPUT_PATH = f\"/home/kevin/WSL-shared/cellpainting/cj-datasets/output_11102023/3_sample_embeddings/\""
   ]
  },
  {
   "cell_type": "code",
   "execution_count": 11,
   "id": "60285362-f1d0-48f0-91d3-1787dce08036",
   "metadata": {
    "editable": true,
    "execution": {
     "iopub.execute_input": "2024-08-26T22:59:45.107007Z",
     "iopub.status.busy": "2024-08-26T22:59:45.106634Z",
     "iopub.status.idle": "2024-08-26T22:59:45.152060Z",
     "shell.execute_reply": "2024-08-26T22:59:45.150947Z",
     "shell.execute_reply.started": "2024-08-26T22:59:45.106983Z"
    },
    "slideshow": {
     "slide_type": ""
    },
    "tags": []
   },
   "outputs": [],
   "source": [
    "# ex_runmode = 'baseline'\n",
    "# ex_runmode = 'base'\n",
    "# ex_date = \"20240709\"\n",
    "# ex_time = \"1950\"\n",
    "# indicator = 's'\n",
    "base_date = \"20240718\"\n",
    "base_time = \"1956\"\n",
    "##\n",
    "snnl_date = \"20240718\"\n",
    "snnl_time = \"1956\"\n",
    "indicator = 'd'\n",
    "##\n",
    "num_cols = len(output_file_cols)\n",
    "ex_title = f\"scpb{COMPOUNDS_PER_BATCH}-{LATENT_DIM}Ltnt\"\n",
    "ex_cpb = 200\n",
    "suffix = '*'\n",
    "date_time = \"20240718_1956\"\n",
    "runmode = \"SNNL\"\n",
    "# runmode = 'BASELINE'\n",
    "ckpt_type = \"BEST\"\n",
    "# snnl_epoch = \"LAST\""
   ]
  },
  {
   "cell_type": "code",
   "execution_count": 12,
   "id": "28963246-1b21-4960-be3e-6af6103ac3f9",
   "metadata": {
    "editable": true,
    "execution": {
     "iopub.execute_input": "2024-08-26T22:59:45.153357Z",
     "iopub.status.busy": "2024-08-26T22:59:45.153156Z",
     "iopub.status.idle": "2024-08-26T22:59:45.189555Z",
     "shell.execute_reply": "2024-08-26T22:59:45.188790Z",
     "shell.execute_reply.started": "2024-08-26T22:59:45.153336Z"
    },
    "slideshow": {
     "slide_type": ""
    },
    "tags": []
   },
   "outputs": [
    {
     "name": "stdout",
     "output_type": "stream",
     "text": [
      "3sample_profiles_embedding_161_HashOrder_SNNL_20240718_1956_BEST_train.csv\n",
      "3sample_profiles_embedding_161_HashOrder_SNNL_20240718_1956_BEST_test.csv\n"
     ]
    }
   ],
   "source": [
    "TRAIN_INPUT_FILE = f\"3sample_profiles_embedding_{num_cols}_HashOrder_{runmode}_{date_time}_{ckpt_type}_train.csv\"\n",
    "TEST_INPUT_FILE  = f\"3sample_profiles_embedding_{num_cols}_HashOrder_{runmode}_{date_time}_{ckpt_type}_test.csv\"\n",
    "\n",
    "print(TRAIN_INPUT_FILE)\n",
    "print(TEST_INPUT_FILE)\n",
    "\n",
    "TRAIN_INPUT = os.path.join(OUTPUT_PATH, TRAIN_INPUT_FILE)\n",
    "TEST_INPUT  = os.path.join(OUTPUT_PATH, TEST_INPUT_FILE)"
   ]
  },
  {
   "cell_type": "markdown",
   "id": "a7ea094b-23a5-4d5c-925a-119a8515a0b5",
   "metadata": {},
   "source": [
    "# Input Dataloader"
   ]
  },
  {
   "cell_type": "code",
   "execution_count": 13,
   "id": "cb5938f3-6f34-4d72-aded-fda1614c1c5e",
   "metadata": {
    "execution": {
     "iopub.execute_input": "2024-08-26T22:59:45.190675Z",
     "iopub.status.busy": "2024-08-26T22:59:45.190482Z",
     "iopub.status.idle": "2024-08-26T22:59:45.220972Z",
     "shell.execute_reply": "2024-08-26T22:59:45.219993Z",
     "shell.execute_reply.started": "2024-08-26T22:59:45.190657Z"
    }
   },
   "outputs": [
    {
     "name": "stdout",
     "output_type": "stream",
     "text": [
      " TRAIN_INPUT:  /home/kevin/WSL-shared/cellpainting/cj-datasets/output_11102023/3_sample_embeddings/3sample_profiles_embedding_161_HashOrder_SNNL_20240718_1956_BEST_train.csv\n",
      " TEST_INPUT :  /home/kevin/WSL-shared/cellpainting/cj-datasets/output_11102023/3_sample_embeddings/3sample_profiles_embedding_161_HashOrder_SNNL_20240718_1956_BEST_test.csv\n"
     ]
    }
   ],
   "source": [
    " \n",
    "print(f\" TRAIN_INPUT:  { TRAIN_INPUT}\")\n",
    "print(f\" TEST_INPUT :  { TEST_INPUT }\")"
   ]
  },
  {
   "cell_type": "code",
   "execution_count": 14,
   "id": "b60a51ee-2a70-44f9-b9f1-d708d4c91c25",
   "metadata": {
    "execution": {
     "iopub.execute_input": "2024-08-26T22:59:46.627712Z",
     "iopub.status.busy": "2024-08-26T22:59:46.627180Z",
     "iopub.status.idle": "2024-08-26T22:59:46.675588Z",
     "shell.execute_reply": "2024-08-26T22:59:46.674677Z",
     "shell.execute_reply.started": "2024-08-26T22:59:46.627668Z"
    }
   },
   "outputs": [
    {
     "data": {
      "text/plain": [
       "{'sample_size': 3,\n",
       " 'batch_size': 1,\n",
       " 'compounds_per_batch': 200,\n",
       " 'training_path': '/home/kevin/WSL-shared/cellpainting/cj-datasets/output_11102023/3_sample_embeddings/3sample_profiles_embedding_161_HashOrder_SNNL_20240718_1956_BEST_train.csv',\n",
       " 'validation_path': '/home/kevin/WSL-shared/cellpainting/cj-datasets/output_11102023/3_sample_embeddings/3sample_profiles_embedding_161_HashOrder_SNNL_20240718_1956_BEST_test.csv',\n",
       " 'test_path': '/home/kevin/WSL-shared/cellpainting/cj-datasets/output_11102023/3_sample_embeddings/3sample_profiles_embedding_161_HashOrder_SNNL_20240718_1956_BEST_test.csv',\n",
       " 'train_start': 0,\n",
       " 'train_end': 312000,\n",
       " 'val_start': 0,\n",
       " 'val_end': 24000,\n",
       " 'test_start': 24000,\n",
       " 'test_end': 34200,\n",
       " 'chunksize': None,\n",
       " 'conversions': None,\n",
       " 'iterator': True}"
      ]
     },
     "execution_count": 14,
     "metadata": {},
     "output_type": "execute_result"
    },
    {
     "data": {
      "text/plain": [
       "600"
      ]
     },
     "execution_count": 14,
     "metadata": {},
     "output_type": "execute_result"
    }
   ],
   "source": [
    "# cellpainting_args['test_path'] = '/home/kevin/WSL-shared/cellpainting/cj-datasets/output_11102023/3_sample_embeddings/3sample_profiles_embedding_161_HashOrder_SNNL_20240718_1956_BEST_test.csv'\n",
    "# cellpainting_args['test_start' ]= 0\n",
    "# cellpainting_args['test_end'   ]= 24000\n",
    "\n",
    "cellpainting_args = {'sample_size': 3,\n",
    "                     'batch_size': 1,\n",
    "                     'compounds_per_batch': 200,\n",
    "                     'training_path'  : TRAIN_INPUT,\n",
    "                     'validation_path': TEST_INPUT,\n",
    "                     'test_path'      : TEST_INPUT,\n",
    "                     'train_start'    : 0,\n",
    "                     'train_end'      : 312_000,\n",
    "                     'val_start'      : 0,\n",
    "                     'val_end'        : 24_000,\n",
    "                     'test_start'     : 24_000,\n",
    "                     'test_end'       : 34_200,   ## 34_542\n",
    "\n",
    "                     # 'train_start': 0,\n",
    "                     # 'train_end'  : 240_000,\n",
    "                     # 'val_start'  : 250_000,\n",
    "                     # 'val_end'    : 274_000,\n",
    "                     # 'test_start' : 30000,\n",
    "                     # 'test_end'   : 33600,\n",
    "                     'chunksize'  : None,\n",
    "                     'conversions': None,\n",
    "                     'iterator'   : True}\n",
    "cellpainting_args\n",
    "MINIBATCH_SIZE = cellpainting_args['sample_size'] * cellpainting_args['compounds_per_batch']\n",
    "MINIBATCH_SIZE "
   ]
  },
  {
   "cell_type": "code",
   "execution_count": 15,
   "id": "3dda57be-1cd6-4598-b05e-a1c8b68176df",
   "metadata": {
    "execution": {
     "iopub.execute_input": "2024-08-26T22:59:47.682997Z",
     "iopub.status.busy": "2024-08-26T22:59:47.682383Z",
     "iopub.status.idle": "2024-08-26T22:59:47.753779Z",
     "shell.execute_reply": "2024-08-26T22:59:47.753050Z",
     "shell.execute_reply.started": "2024-08-26T22:59:47.682954Z"
    },
    "scrolled": true
   },
   "outputs": [
    {
     "name": "stderr",
     "output_type": "stream",
     "text": [
      "2024-08-27 00:59:47,720 - utils.dataloader - INFO: -  Building CellPantingDataset for train\n",
      "2024-08-27 00:59:47,721 - utils.dataloader - INFO: -  filename:  /home/kevin/WSL-shared/cellpainting/cj-datasets/output_11102023/3_sample_embeddings/3sample_profiles_embedding_161_HashOrder_SNNL_20240718_1956_BEST_train.csv\n",
      "2024-08-27 00:59:47,722 - utils.dataloader - INFO: -  type    :  train\n",
      "2024-08-27 00:59:47,723 - utils.dataloader - INFO: -  start   :  0\n",
      "2024-08-27 00:59:47,724 - utils.dataloader - INFO: -  end     :  312000\n",
      "2024-08-27 00:59:47,725 - utils.dataloader - INFO: -  numrows :  312000\n",
      "2024-08-27 00:59:47,725 - utils.dataloader - INFO: -  names   :  None     usecols :  None\n",
      "2024-08-27 00:59:47,726 - utils.dataloader - INFO: -  batch_size  :  1\n",
      "2024-08-27 00:59:47,726 - utils.dataloader - INFO: -  sample_size :  3\n",
      "2024-08-27 00:59:47,727 - utils.dataloader - INFO: -  compounds_per_batch :  200\n",
      "2024-08-27 00:59:47,728 - utils.dataloader - INFO: -  chunksize  (rows per minibatch) :  600\n",
      "2024-08-27 00:59:47,729 - utils.dataloader - INFO: -  Each mini-batch contains 200.0 compounds with 3 samples per compound : total 600 rows\n",
      "2024-08-27 00:59:47,729 - utils.dataloader - INFO: -  Number of 600 row full size batches per epoch: 520\n",
      "2024-08-27 00:59:47,730 - utils.dataloader - INFO: -  Rows covered by 520 full size batches (600 rows) per epoch:  312000\n",
      "2024-08-27 00:59:47,731 - utils.dataloader - INFO: -  Last partial batch contains : 0 rows\n",
      "2024-08-27 00:59:47,731 - utils.dataloader - INFO: -  \n",
      "2024-08-27 00:59:47,732 - utils.dataloader - INFO: -  Building CellPantingDataset for val\n",
      "2024-08-27 00:59:47,732 - utils.dataloader - INFO: -  filename:  /home/kevin/WSL-shared/cellpainting/cj-datasets/output_11102023/3_sample_embeddings/3sample_profiles_embedding_161_HashOrder_SNNL_20240718_1956_BEST_test.csv\n",
      "2024-08-27 00:59:47,733 - utils.dataloader - INFO: -  type    :  val\n",
      "2024-08-27 00:59:47,733 - utils.dataloader - INFO: -  start   :  0\n",
      "2024-08-27 00:59:47,734 - utils.dataloader - INFO: -  end     :  24000\n",
      "2024-08-27 00:59:47,734 - utils.dataloader - INFO: -  numrows :  24000\n",
      "2024-08-27 00:59:47,735 - utils.dataloader - INFO: -  names   :  None     usecols :  None\n",
      "2024-08-27 00:59:47,735 - utils.dataloader - INFO: -  batch_size  :  1\n",
      "2024-08-27 00:59:47,736 - utils.dataloader - INFO: -  sample_size :  3\n",
      "2024-08-27 00:59:47,736 - utils.dataloader - INFO: -  compounds_per_batch :  200\n",
      "2024-08-27 00:59:47,736 - utils.dataloader - INFO: -  chunksize  (rows per minibatch) :  600\n",
      "2024-08-27 00:59:47,737 - utils.dataloader - INFO: -  Each mini-batch contains 200.0 compounds with 3 samples per compound : total 600 rows\n",
      "2024-08-27 00:59:47,737 - utils.dataloader - INFO: -  Number of 600 row full size batches per epoch: 40\n",
      "2024-08-27 00:59:47,738 - utils.dataloader - INFO: -  Rows covered by 40 full size batches (600 rows) per epoch:  24000\n",
      "2024-08-27 00:59:47,738 - utils.dataloader - INFO: -  Last partial batch contains : 0 rows\n",
      "2024-08-27 00:59:47,739 - utils.dataloader - INFO: -  \n",
      "2024-08-27 00:59:47,739 - utils.dataloader - INFO: -  Building CellPantingDataset for test\n",
      "2024-08-27 00:59:47,740 - utils.dataloader - INFO: -  filename:  /home/kevin/WSL-shared/cellpainting/cj-datasets/output_11102023/3_sample_embeddings/3sample_profiles_embedding_161_HashOrder_SNNL_20240718_1956_BEST_test.csv\n",
      "2024-08-27 00:59:47,740 - utils.dataloader - INFO: -  type    :  test\n",
      "2024-08-27 00:59:47,741 - utils.dataloader - INFO: -  start   :  24000\n",
      "2024-08-27 00:59:47,741 - utils.dataloader - INFO: -  end     :  34200\n",
      "2024-08-27 00:59:47,741 - utils.dataloader - INFO: -  numrows :  10200\n",
      "2024-08-27 00:59:47,745 - utils.dataloader - INFO: -  names   :  None     usecols :  None\n",
      "2024-08-27 00:59:47,745 - utils.dataloader - INFO: -  batch_size  :  1\n",
      "2024-08-27 00:59:47,746 - utils.dataloader - INFO: -  sample_size :  3\n",
      "2024-08-27 00:59:47,746 - utils.dataloader - INFO: -  compounds_per_batch :  200\n",
      "2024-08-27 00:59:47,747 - utils.dataloader - INFO: -  chunksize  (rows per minibatch) :  600\n",
      "2024-08-27 00:59:47,747 - utils.dataloader - INFO: -  Each mini-batch contains 200.0 compounds with 3 samples per compound : total 600 rows\n",
      "2024-08-27 00:59:47,748 - utils.dataloader - INFO: -  Number of 600 row full size batches per epoch: 17\n",
      "2024-08-27 00:59:47,748 - utils.dataloader - INFO: -  Rows covered by 17 full size batches (600 rows) per epoch:  10200\n",
      "2024-08-27 00:59:47,749 - utils.dataloader - INFO: -  Last partial batch contains : 0 rows\n",
      "2024-08-27 00:59:47,749 - utils.dataloader - INFO: -  \n"
     ]
    },
    {
     "name": "stdout",
     "output_type": "stream",
     "text": [
      " load {}\n",
      " Dataset size: 312000   rows per batch: 600\n",
      " Dataset size: 24000   rows per batch: 600\n",
      " Dataset size: 10200   rows per batch: 600\n"
     ]
    }
   ],
   "source": [
    "#### Load CellPainting Dataset\n",
    "# data : keys to the dataset settings (and resulting keys in output dictionary)\n",
    "dataset = dict()\n",
    "data_loader = dict()\n",
    "\n",
    "print(f\" load {dataset}\")\n",
    "for datatype in ['train', 'val', 'test']:\n",
    "    dataset[datatype] = CellpaintingDataset(type = datatype, **cellpainting_args)\n",
    "    data_loader[datatype] = InfiniteDataLoader(dataset = dataset[datatype], batch_size=1 , shuffle = False, num_workers = 0, collate_fn = custom_collate_fn)    "
   ]
  },
  {
   "cell_type": "code",
   "execution_count": 16,
   "id": "5465d0ad-2f89-45a5-9e48-a55da7c4fa47",
   "metadata": {
    "execution": {
     "iopub.execute_input": "2024-08-26T22:59:49.452816Z",
     "iopub.status.busy": "2024-08-26T22:59:49.452281Z",
     "iopub.status.idle": "2024-08-26T22:59:49.893193Z",
     "shell.execute_reply": "2024-08-26T22:59:49.892097Z",
     "shell.execute_reply.started": "2024-08-26T22:59:49.452772Z"
    },
    "scrolled": true
   },
   "outputs": [
    {
     "name": "stdout",
     "output_type": "stream",
     "text": [
      "600 tensor(69.)\n",
      "600 tensor(60.)\n",
      "---------------------------------------------------------------------------------------------------------------------------------------\n",
      "  Batch Id: 0   <class 'tuple'>  Rows returned 600 features: 150  \n",
      "+-----+------------------------------------+----------------+----------------------------+---------------------------------+-----+--------------------------------------------------------+\n",
      "| idx |   batch[2]                         |    batch[3]    |      batch[2]              |           batch[5]              | [1] |     batch[0]                                           | \n",
      "|     | SRCE      BATCH     PLATE     WELL |   COMPOUND_ID  |       CMPHASH / BIN        |   TPSA  / Ln(TPSA) / Log(TPSA)  | LBL |     FEATURES                                           | \n",
      "+-----+------------------------------------+----------------+----------------------------+---------------------------------+-----+--------------------------------------------------------+\n",
      "|   0 | source_11 Batch2    EC000046   K04 | JCP2022_009278 |  7406361908543180200 -  8  |   62.78000    4.13964   1.79782 |  0  | [ 0.61370945  0.7045779   0.2363581  -1.0134125 ]\n",
      "|   1 | source_11 Batch2    EC000063   K04 | JCP2022_009278 |  7406361908543180200 -  8  |   62.78000    4.13964   1.79782 |  0  | [ 0.39603043  1.8867755   0.28359985 -0.7406348 ]\n",
      "|   2 | source_9  20211013- GR0000328  J15 | JCP2022_009278 |  7406361908543180200 -  8  |   62.78000    4.13964   1.79782 |  0  | [ 0.96745586 -0.24383545  1.5233959  -1.3831073 ]\n",
      "|   3 | source_5  JUMPCPE-2 AETJUM107  J10 | JCP2022_045457 |  7406621140030190348 - 12  |   33.20000    3.50255   1.52114 |  0  | [-0.3552031   0.05703592  2.777441    0.93778396]\n",
      "|   4 | source_11 Batch3    EC000139   G04 | JCP2022_045457 |  7406621140030190348 - 12  |   33.20000    3.50255   1.52114 |  0  | [ 1.2461753  0.7953143 -0.6348555 -3.1364255]\n",
      "|   5 | source_9  20210824- GR0000338  Z34 | JCP2022_045457 |  7406621140030190348 - 12  |   33.20000    3.50255   1.52114 |  0  | [ 0.42214918  0.11354256 -0.23788345 -0.88621837]\n",
      "|   6 | source_8  J2        A1170472   F17 | JCP2022_066470 |  7406753887173400964 -  4  |   36.68000    3.60223   1.56443 |  0  | [ 1.9646525   2.743742    1.1309954  -0.82426536]\n",
      "|   7 | source_10 2021_06_0 Dest21060  L12 | JCP2022_066470 |  7406753887173400964 -  4  |   36.68000    3.60223   1.56443 |  0  | [ 0.04754186  1.7045584  -0.16029233 -0.0197376 ]\n",
      "|   8 | source_2  20210614_ 105360088  L12 | JCP2022_066470 |  7406753887173400964 -  4  |   36.68000    3.60223   1.56443 |  0  | [1.7320468  0.21185923 2.0947547  0.18674344]\n",
      "|   9 | source_9  20210914- GR0000330  O18 | JCP2022_057572 |  7406772977290372296 -  8  |   67.15000    4.20693   1.82705 |  0  | [-0.01254416  2.7043452   0.22103643  0.16159809]\n",
      "|  10 | source_5  JUMPCPE-2 ATSJUM108  O18 | JCP2022_057572 |  7406772977290372296 -  8  |   67.15000    4.20693   1.82705 |  0  | [-0.33744526 -0.0912447   0.93547475 -0.67949533]\n",
      "|  11 | source_9  20210914- GR0000330 AE18 | JCP2022_057572 |  7406772977290372296 -  8  |   67.15000    4.20693   1.82705 |  0  | [-0.70158505 -1.1596832  -0.83682513 -0.8616071 ]\n",
      "|  12 | source_8  J2        A1170482   K18 | JCP2022_013153 |  7406914683742299879 -  7  |   76.07000    4.33165   1.88121 |  0  | [ 1.1331269   0.9597697   0.71997464 -1.04562   ]\n",
      "|  13 | source_2  20210614_ 105360082  E14 | JCP2022_013153 |  7406914683742299879 -  7  |   76.07000    4.33165   1.88121 |  0  | [ 1.3386731   0.92869234  0.5203389  -0.52246827]\n",
      "|  14 | source_6  p210914CP 110000296  K18 | JCP2022_013153 |  7406914683742299879 -  7  |   76.07000    4.33165   1.88121 |  0  | [ 0.09598804 -0.28630638  2.1696901   0.1843735 ]\n",
      "|  15 | source_6  p210927CP 110000296  C09 | JCP2022_056972 |  7407039153147573124 -  4  |   91.56000    4.51699   1.96171 |  0  | [-1.4109062  0.4468937  0.5932119 -1.9229975]\n",
      "|  16 | source_8  J1        A1170398   C09 | JCP2022_056972 |  7407039153147573124 -  4  |   91.56000    4.51699   1.96171 |  0  | [-1.1043746 -1.3883414  1.8795838 -1.1060677]\n",
      "|  17 | source_10 2021_08_0 Dest21072  F16 | JCP2022_056972 |  7407039153147573124 -  4  |   91.56000    4.51699   1.96171 |  0  | [-0.27508545  0.45473242  1.2497203  -0.49842858]\n",
      "|  18 | source_5  JUMPCPE-2 AEOJUM306  J19 | JCP2022_052312 |  7407265695651839246 - 14  |   78.00000    4.35671   1.89209 |  0  | [-0.8685713   1.1942782   0.296252   -0.60242105]\n",
      "|  19 | source_1  Batch6_20 UL001789   A42 | JCP2022_052312 |  7407265695651839246 - 14  |   78.00000    4.35671   1.89209 |  0  | [1.7400699  2.08356    2.886417   0.10062146]\n",
      "|  20 | source_5  JUMPCPE-2 AEOJUM406  J19 | JCP2022_052312 |  7407265695651839246 - 14  |   78.00000    4.35671   1.89209 |  0  | [ 0.38865614 -0.34894896  0.76299155 -2.0923505 ]\n",
      "|  21 | source_6  p211109CP 110000296  M20 | JCP2022_033875 |  7407268283389620182 -  6  |   99.60000    4.60116   1.99826 |  0  | [ 1.0232549  -0.37145424  0.51668525 -1.7103962 ]\n",
      "|  22 | source_1  Batch6_20 UL000587   Y40 | JCP2022_033875 |  7407268283389620182 -  6  |   99.60000    4.60116   1.99826 |  0  | [ 1.0884235   1.3337421  -0.20432371 -1.0555129 ]\n",
      "|  23 | source_10 2021_07_0 Dest21070  I18 | JCP2022_033875 |  7407268283389620182 -  6  |   99.60000    4.60116   1.99826 |  0  | [-1.1699938  1.2567301  1.4256542  0.7535372]\n",
      "|  24 | source_10 2021_08_2 Dest21081  O20 | JCP2022_006848 |  7407328763949599372 - 12  |   75.02000    4.31775   1.87518 |  0  | [ 0.6218827 -2.380908   1.9600273 -3.3159685]\n",
      "|  25 | source_3  CP_26_all J12424b    P21 | JCP2022_006848 |  7407328763949599372 - 12  |   75.02000    4.31775   1.87518 |  0  | [-4.7670145 -4.547961  -2.8996658 -2.7762895]\n",
      "|  26 | source_2  20211003_ 108628973  O20 | JCP2022_006848 |  7407328763949599372 - 12  |   75.02000    4.31775   1.87518 |  0  | [-0.23482513 -2.1341925   2.3947673  -1.1053834 ]\n",
      "|  27 | source_5  JUMPCPE-2 APTJUM611  K15 | JCP2022_015484 |  7407345191805114466 -  2  |   89.05000    4.48920   1.94963 |  0  | [ 0.40972745  0.28249598  0.83324003 -1.2893796 ]\n",
      "|  28 | source_5  JUMPCPE-2 APTJUM511  K15 | JCP2022_015484 |  7407345191805114466 -  2  |   89.05000    4.48920   1.94963 |  0  | [-1.728429    0.69781876  0.13557982 -0.55144936]\n",
      "|  29 | source_11 Batch1    EC000027   K05 | JCP2022_015484 |  7407345191805114466 -  2  |   89.05000    4.48920   1.94963 |  0  | [ 2.0402606   2.572196    0.49339223 -1.8800282 ]\n",
      "|  30 | source_3  CP_33_all A13415dW   F09 | JCP2022_011400 |  7407547115600176846 - 14  |   70.10000    4.24992   1.84572 |  0  | [0.18742764 1.9689698  0.25576448 0.509629  ]\n",
      "|  31 | source_2  20210808_ 108629276  L16 | JCP2022_011400 |  7407547115600176846 - 14  |   70.10000    4.24992   1.84572 |  0  | [-0.54871225  0.22231293  1.4816408  -1.0169557 ]\n",
      "|  32 | source_1  Batch1_20 UL001645   L18 | JCP2022_011400 |  7407547115600176846 - 14  |   70.10000    4.24992   1.84572 |  0  | [ 0.679965   0.8556242 -1.3978579 -1.2973728]\n",
      "|  33 | source_11 Batch4    EC000123   O06 | JCP2022_085546 |  7407665721226086415 - 15  |   76.45000    4.33664   1.88338 |  0  | [-0.30327535  2.7297087  -1.3239915  -0.5666034 ]\n",
      "|  34 | source_5  JUMPCPE-2 AETJUM121  L20 | JCP2022_085546 |  7407665721226086415 - 15  |   76.45000    4.33664   1.88338 |  0  | [-0.2660489 -1.4645433  1.1112103 -2.6838198]\n",
      "|  35 | source_9  20210831- GR0000333 AB44 | JCP2022_085546 |  7407665721226086415 - 15  |   76.45000    4.33664   1.88338 |  0  | [-0.73851967 -0.6243539   1.3738986  -0.26780093]\n",
      "|  36 | source_2  20210816_ 108629235  F13 | JCP2022_026161 |  7408331558743819031 -  7  |   84.91000    4.44159   1.92896 |  0  | [-0.27101684  2.419179    2.3374104  -2.2462049 ]\n",
      "|  37 | source_3  CP59      BR5869c3   K08 | JCP2022_026161 |  7408331558743819031 -  7  |   84.91000    4.44159   1.92896 |  0  | [1.8819046  0.5622277  0.43093884 0.69589245]\n",
      "|  38 | source_3  CP_35_all BAY5869c   K08 | JCP2022_026161 |  7408331558743819031 -  7  |   84.91000    4.44159   1.92896 |  0  | [-0.63894486  1.8381872  -1.5259233  -0.7889105 ]\n",
      "|  39 | source_11 Batch4    EC000103   K03 | JCP2022_101041 |  7408427959897430257 -  1  |  110.24000    4.70266   2.04234 |  1  | [ 0.8870473   0.04878139 -0.11855924 -0.1943779 ]\n",
      "|  40 | source_5  JUMPCPE-2 AETJUM101  I15 | JCP2022_101041 |  7408427959897430257 -  1  |  110.24000    4.70266   2.04234 |  1  | [-0.49633348  0.97773075  0.75297344 -1.4304175 ]\n",
      "|  41 | source_9  20210824- GR0000338  I15 | JCP2022_101041 |  7408427959897430257 -  1  |  110.24000    4.70266   2.04234 |  1  | [ 0.9214945  1.0225406  0.8475543 -0.7941849]\n",
      "|  42 | source_5  JUMPCPE-2 ATSJUM226  N11 | JCP2022_030753 |  7408502851418056173 - 13  |   39.07000    3.66535   1.59184 |  0  | [-0.89151907  2.5091019  -2.411672    2.7836213 ]\n",
      "|  43 | source_9  20210918- GR0000437 AD11 | JCP2022_030753 |  7408502851418056173 - 13  |   39.07000    3.66535   1.59184 |  0  | [ 2.127763  -0.499053   3.0146248 -1.4621736]\n",
      "|  44 | source_9  20210918- GR0000437  N35 | JCP2022_030753 |  7408502851418056173 - 13  |   39.07000    3.66535   1.59184 |  0  | [-0.9181025   1.1411357   0.5683675  -0.09170163]\n",
      "|  45 | source_5  JUMPCPE-2 ATSJUM215  A15 | JCP2022_060919 |  7408689287714828260 -  4  |   80.89000    4.39309   1.90789 |  0  | [ 0.5838175  1.3679938  0.6039076 -0.4280089]\n",
      "|  46 | source_9  20210915- GR0000331  A39 | JCP2022_060919 |  7408689287714828260 -  4  |   80.89000    4.39309   1.90789 |  0  | [-1.7344341  2.0020666 -0.5035073 -1.186921 ]\n",
      "|  47 | source_5  JUMPCPE-2 ATSJUM115  A15 | JCP2022_060919 |  7408689287714828260 -  4  |   80.89000    4.39309   1.90789 |  0  | [-0.36434364  0.5287118   0.29478753 -0.59963524]\n",
      "|  48 | source_2  20210726_ 108629355  D22 | JCP2022_100801 |  7408740418275447927 -  7  |   62.83000    4.14043   1.79817 |  0  | [ 0.5193181  -0.16017437  1.931832   -1.008538  ]\n",
      "|  49 | source_10 2021_06_0 Dest21060  C21 | JCP2022_100801 |  7408740418275447927 -  7  |   62.83000    4.14043   1.79817 |  0  | [-0.97798604 -0.1912241   1.0515926  -3.2328026 ]\n",
      "|  50 | source_3  CP_34_mix P24P27dW   B12 | JCP2022_100801 |  7408740418275447927 -  7  |   62.83000    4.14043   1.79817 |  0  | [ 1.3224821   1.524148    1.2629231  -0.46092415]\n",
      "|  51 | source_5  JUMPCPE-2 APTJUM326  I21 | JCP2022_077154 |  7408794420622229198 - 14  |   82.52000    4.41304   1.91656 |  0  | [-1.7946506  1.0927439  2.1941795 -1.2283353]\n",
      "|  52 | source_5  JUMPCPE-2 APTJUM126  I21 | JCP2022_077154 |  7408794420622229198 - 14  |   82.52000    4.41304   1.91656 |  0  | [-1.225627   3.0628881 -0.4601044 -0.6557183]\n",
      "|  53 | source_11 Batch2    EC000063   O19 | JCP2022_077154 |  7408794420622229198 - 14  |   82.52000    4.41304   1.91656 |  0  | [-1.2805665   1.9864655   1.5134281  -0.42359787]\n",
      "|  54 | source_3  CP_27_all J12446d    K19 | JCP2022_085759 |  7409361686513823863 -  7  |   55.57000    4.01764   1.74484 |  0  | [ 0.05690634  0.10820866 -0.5377314  -0.46289438]\n",
      "|  55 | source_6  p210830CP 110000293  K19 | JCP2022_085759 |  7409361686513823863 -  7  |   55.57000    4.01764   1.74484 |  0  | [ 0.8086901  -0.70348644  1.0893474  -0.09683084]\n",
      "|  56 | source_2  20210719_ 108629385  F16 | JCP2022_085759 |  7409361686513823863 -  7  |   55.57000    4.01764   1.74484 |  0  | [-2.009163  -0.7981639  0.5124352 -0.3361541]\n",
      "|  57 | source_2  20210808_ 108629289  G14 | JCP2022_002830 |  7409844841690013741 - 13  |   15.60000    2.74727   1.19312 |  0  | [-0.24878049 -1.3774433  -0.47846758 -0.08545923]\n",
      "|  58 | source_1  Batch1_20 UL001653   G36 | JCP2022_002830 |  7409844841690013741 - 13  |   15.60000    2.74727   1.19312 |  0  | [ 1.7662339   1.4192438  -0.45857203 -1.0519882 ]\n",
      "|  59 | source_3  CP_33_all A12079bW   D18 | JCP2022_002830 |  7409844841690013741 - 13  |   15.60000    2.74727   1.19312 |  0  | [ 1.390748   -0.5224438  -1.0766281   0.26576018]\n",
      "|  60 | source_6  p210906CP 110000294  N12 | JCP2022_035367 |  7409875465299153267 -  3  |   45.48000    3.81727   1.65782 |  0  | [ 0.26087165 -0.28219414  3.3115726  -3.6418166 ]\n",
      "|  61 | source_3  CP_26_all J12424d    N12 | JCP2022_035367 |  7409875465299153267 -  3  |   45.48000    3.81727   1.65782 |  0  | [-1.1632552   1.9317551   2.0394144  -0.86642015]\n",
      "|  62 | source_1  Batch3_20 UL001669  AB24 | JCP2022_035367 |  7409875465299153267 -  3  |   45.48000    3.81727   1.65782 |  0  | [-0.07383227  0.22895145  2.6274757  -1.4097793 ]\n",
      "|  63 | source_2  20210614_ 105360089  B04 | JCP2022_103031 |  7410215054751977956 -  4  |   78.68000    4.36539   1.89586 |  0  | [-0.85527337  0.0597229   1.5969024  -1.2676775 ]\n",
      "|  64 | source_6  p211109CP 110000296  A03 | JCP2022_103031 |  7410215054751977956 -  4  |   78.68000    4.36539   1.89586 |  0  | [-0.09544361 -0.735456    1.7133229  -1.3015076 ]\n",
      "|  65 | source_8  J2        A1170472   A03 | JCP2022_103031 |  7410215054751977956 -  4  |   78.68000    4.36539   1.89586 |  0  | [ 1.112165   -0.23768044  1.8938792  -0.89473855]\n",
      "|  66 | source_11 Batch2    EC000040   F20 | JCP2022_086712 |  7410247046464012645 -  5  |   74.35000    4.30878   1.87128 |  0  | [ 0.34768784  1.3510895  -0.36846167 -0.37502158]\n",
      "|  67 | source_9  20211103- GR0000441  F10 | JCP2022_086712 |  7410247046464012645 -  5  |   74.35000    4.30878   1.87128 |  0  | [ 2.898652   2.673481  -0.9414383  0.5997654]\n",
      "|  68 | source_11 Batch2    EC000057   F20 | JCP2022_086712 |  7410247046464012645 -  5  |   74.35000    4.30878   1.87128 |  0  | [ 1.6889708  -0.11980915 -0.6195651  -1.5028018 ]\n",
      "|  69 | source_8  J1        A1170429   H18 | JCP2022_054462 |  7410529065357533173 -  5  |  103.84000    4.64285   2.01636 |  1  | [ 0.750612    0.86554384  0.81236064 -0.8861497 ]\n",
      "|  70 | source_1  Batch6_20 UL000583   P35 | JCP2022_054462 |  7410529065357533173 -  5  |  103.84000    4.64285   2.01636 |  1  | [-1.7380936   0.202847   -0.5282541  -0.09626436]\n",
      "|  71 | source_3  CP_29_all SP32P35c   H18 | JCP2022_054462 |  7410529065357533173 -  5  |  103.84000    4.64285   2.01636 |  1  | [-0.5478593   0.9436159   0.10829163 -0.6892945 ]\n",
      "|  72 | source_8  J4        A1166176   N17 | JCP2022_067355 |  7410883173768885613 - 13  |   75.88000    4.32915   1.88013 |  0  | [ 5.622901   2.8834515  5.202565  -4.651167 ]\n",
      "|  73 | source_1  Batch1_20 UL001655  AB33 | JCP2022_067355 |  7410883173768885613 - 13  |   75.88000    4.32915   1.88013 |  0  | [-0.01124477  2.1392145  -0.38562238  1.1629081 ]\n",
      "|  74 | source_3  CP_25_all C13487cW   N17 | JCP2022_067355 |  7410883173768885613 - 13  |   75.88000    4.32915   1.88013 |  0  | [ 3.8626332  -0.10167503  2.2769182  -3.8163855 ]\n",
      "|  75 | source_8  J2        A1170471   D14 | JCP2022_036395 |  7411023932705686812 - 12  |   80.74000    4.39123   1.90709 |  0  | [ 1.1878761  2.6548986  2.1631217 -2.8614273]\n",
      "|  76 | source_6  p211109CP 110000296  D14 | JCP2022_036395 |  7411023932705686812 - 12  |   80.74000    4.39123   1.90709 |  0  | [ 0.03120577 -0.48737192  1.9685296  -0.20260346]\n",
      "|  77 | source_2  20210816_ 108629239  D21 | JCP2022_036395 |  7411023932705686812 - 12  |   80.74000    4.39123   1.90709 |  0  | [-1.1843872   0.38814688  1.0366962  -1.3746364 ]\n",
      "|  78 | source_9  20210915- GR0000331  A07 | JCP2022_087811 |  7411165553435584810 - 10  |   29.26000    3.37622   1.46627 |  0  | [-1.8101856  -0.93778133 -1.0368737   0.30592048]\n",
      "|  79 | source_9  20210915- GR0000331  A31 | JCP2022_087811 |  7411165553435584810 - 10  |   29.26000    3.37622   1.46627 |  0  | [-0.7196753  2.0282106 -0.9127207  2.5989313]\n",
      "|  80 | source_5  JUMPCPE-2 ATSJUM114  A07 | JCP2022_087811 |  7411165553435584810 - 10  |   29.26000    3.37622   1.46627 |  0  | [ 0.79892135 -2.2626219   1.58582    -0.10905337]\n",
      "|  81 | source_9  20211102- GR0000439  Q45 | JCP2022_089658 |  7411753260562239806 - 14  |   68.42000    4.22567   1.83518 |  0  | [ 1.3008664   0.84906244  0.46814656 -2.067999  ]\n",
      "|  82 | source_9  20211102- GR0000439  A45 | JCP2022_089658 |  7411753260562239806 - 14  |   68.42000    4.22567   1.83518 |  0  | [-0.7890818   2.3983355   0.85401034  1.0137379 ]\n",
      "|  83 | source_5  JUMPCPE-2 APTJUM302  A21 | JCP2022_089658 |  7411753260562239806 - 14  |   68.42000    4.22567   1.83518 |  0  | [-2.328795    0.34671116  0.6914859   1.0351939 ]\n",
      "|  84 | source_6  p211004CP 110000295  C03 | JCP2022_010894 |  7411895096803083338 - 10  |   61.88000    4.12520   1.79155 |  0  | [-1.342036    0.07290554 -0.7282826   0.43276823]\n",
      "|  85 | source_1  Batch5_20 UL001797   F05 | JCP2022_010894 |  7411895096803083338 - 10  |   61.88000    4.12520   1.79155 |  0  | [2.644998   0.6527624  0.19874966 1.657499  ]\n",
      "|  86 | source_3  CP_31_all B040103c   C03 | JCP2022_010894 |  7411895096803083338 - 10  |   61.88000    4.12520   1.79155 |  0  | [ 0.40258265 -0.91386414  0.5704967  -2.5452929 ]\n",
      "|  87 | source_3  CP_28_all SP05P08a   F03 | JCP2022_031173 |  7411945180482999088 -  0  |  120.80000    4.79414   2.08207 |  1  | [ 8.57296    9.352303   1.377471  -3.1001968]\n",
      "|  88 | source_8  J2        A1170461   F03 | JCP2022_031173 |  7411945180482999088 -  0  |  120.80000    4.79414   2.08207 |  1  | [ 4.0040364   9.202694   -0.53130484 -3.9119987 ]\n",
      "|  89 | source_2  20210802_ 108629323  K03 | JCP2022_031173 |  7411945180482999088 -  0  |  120.80000    4.79414   2.08207 |  1  | [11.086769  8.882671  4.744631 -0.250875]\n",
      "|  90 | source_10 2021_08_0 Dest21072  E04 | JCP2022_052600 |  7411985857260974016 -  0  |   68.32000    4.22420   1.83455 |  0  | [-2.4621012  1.9167252 -1.3397095  1.254359 ]\n",
      "|  91 | source_3  CP_28_all SP05P08b   K03 | JCP2022_052600 |  7411985857260974016 -  0  |   68.32000    4.22420   1.83455 |  0  | [ 0.97012186 -0.06713581  0.75287426 -0.20721495]\n",
      "|  92 | source_1  Batch5_20 UL001713   U06 | JCP2022_052600 |  7411985857260974016 -  0  |   68.32000    4.22420   1.83455 |  0  | [-0.08480525  3.2831554   0.19721228 -1.5016384 ]\n",
      "|  93 | source_10 2021_06_2 Dest21062  E12 | JCP2022_088677 |  7412150736807617181 - 13  |   50.41000    3.92019   1.70252 |  0  | [-1.6306814  -0.57558346 -1.6350405  -0.43009925]\n",
      "|  94 | source_1  Batch5_20 UL001795   U34 | JCP2022_088677 |  7412150736807617181 - 13  |   50.41000    3.92019   1.70252 |  0  | [-2.9690804 -0.8900461 -1.8546753  0.7613759]\n",
      "|  95 | source_3  CP_32_all B40503bW   K17 | JCP2022_088677 |  7412150736807617181 - 13  |   50.41000    3.92019   1.70252 |  0  | [0.3141806  2.4587698  0.07300413 1.9006093 ]\n",
      "|  96 | source_10 2021_08_1 Dest21080  P19 | JCP2022_073349 |  7412605464487338848 -  0  |   29.02000    3.36799   1.46270 |  0  | [ 0.08824825  2.111086    1.3213234  -3.7285979 ]\n",
      "|  97 | source_1  Batch3_20 UL001787   P41 | JCP2022_073349 |  7412605464487338848 -  0  |   29.02000    3.36799   1.46270 |  0  | [-1.4918458   0.8615904  -1.8174081   0.75352216]\n",
      "|  98 | source_3  CP_31_all B040303c   H21 | JCP2022_073349 |  7412605464487338848 -  0  |   29.02000    3.36799   1.46270 |  0  | [-1.3347509  3.355814   1.3852357 -1.4410378]\n",
      "|  99 | source_2  20210808_ 108629291  J17 | JCP2022_027386 |  7412712572043026542 - 14  |   69.15000    4.23628   1.83979 |  0  | [-0.34360492  0.33071804  2.0007036   0.08358949]\n",
      "| 100 | source_8  J4        A1166172   M20 | JCP2022_027386 |  7412712572043026542 - 14  |   69.15000    4.23628   1.83979 |  0  | [ 0.2562642   0.938159    0.08505464 -1.6290879 ]\n",
      "| 101 | source_3  CP_25_all C13451cW   M20 | JCP2022_027386 |  7412712572043026542 - 14  |   69.15000    4.23628   1.83979 |  0  | [ 0.6677265   0.42566633 -0.77745354 -1.1609881 ]\n",
      "| 102 | source_2  20210621_ 105359957  B20 | JCP2022_028000 |  7412802378674017426 -  2  |   63.99000    4.15873   1.80611 |  0  | [-1.8693407  -0.77323914 -1.445426   -1.3145248 ]\n",
      "| 103 | source_1  Batch2_20 UL001649   R42 | JCP2022_028000 |  7412802378674017426 -  2  |   63.99000    4.15873   1.80611 |  0  | [ 0.2563529   1.3140259  -0.12679958  0.08950698]\n",
      "| 104 | source_8  J4        A1166141   I21 | JCP2022_028000 |  7412802378674017426 -  2  |   63.99000    4.15873   1.80611 |  0  | [-0.67263234  1.122776    0.4573288  -0.9009354 ]\n",
      "| 105 | source_1  Batch5_20 UL001799   D17 | JCP2022_029845 |  7413116362769288380 - 12  |   29.02000    3.36799   1.46270 |  0  | [-0.41179895 -0.06842852  1.1413426   0.7443947 ]\n",
      "| 106 | source_10 2021_06_2 Dest21062  D15 | JCP2022_029845 |  7413116362769288380 - 12  |   29.02000    3.36799   1.46270 |  0  | [-0.7170932 -1.7368045 -1.1963472 -1.4050926]\n",
      "| 107 | source_6  p211004CP 110000295  B09 | JCP2022_029845 |  7413116362769288380 - 12  |   29.02000    3.36799   1.46270 |  0  | [-0.7985681  -0.14698887  1.6713338  -0.6875982 ]\n",
      "| 108 | source_9  20211102- GR0000439  J34 | JCP2022_076086 |  7413313076087036991 - 15  |   73.93000    4.30312   1.86882 |  0  | [-1.5279803   2.0520983  -0.93544626  0.1489073 ]\n",
      "| 109 | source_9  20211102- GR0000439  J10 | JCP2022_076086 |  7413313076087036991 - 15  |   73.93000    4.30312   1.86882 |  0  | [-2.284871   1.4421854  0.9227772 -1.1967566]\n",
      "| 110 | source_11 Batch1    EC000022   G04 | JCP2022_076086 |  7413313076087036991 - 15  |   73.93000    4.30312   1.86882 |  0  | [-0.49001145  1.0485587   1.7083801  -2.1813765 ]\n",
      "| 111 | source_1  Batch5_20 UL001719   T21 | JCP2022_048487 |  7413659942428992824 -  8  |  196.03000    5.27827   2.29232 |  1  | [-1.5824374   0.58565474 -0.840548   -0.49554038]\n",
      "| 112 | source_2  20210802_ 108629308  D19 | JCP2022_048487 |  7413659942428992824 -  8  |  196.03000    5.27827   2.29232 |  1  | [ 0.21087694 -0.13227606  1.6482121  -1.9454741 ]\n",
      "| 113 | source_10 2021_06_0 Dest21060  C20 | JCP2022_048487 |  7413659942428992824 -  8  |  196.03000    5.27827   2.29232 |  1  | [ 0.72532105 -2.3964472   4.348072   -2.8463063 ]\n",
      "| 114 | source_10 2021_06_2 Dest21062  O09 | JCP2022_010931 |  7413921748647966723 -  3  |   55.40000    4.01458   1.74351 |  0  | [-5.150243   -3.2214518   0.25245595 -3.1210763 ]\n",
      "| 115 | source_3  CP_32_all B40403aW   P06 | JCP2022_010931 |  7413921748647966723 -  3  |   55.40000    4.01458   1.74351 |  0  | [-0.7492578  -0.30637264  1.4076123  -1.9904957 ]\n",
      "| 116 | source_6  p210928CP 110000296  P06 | JCP2022_010931 |  7413921748647966723 -  3  |   55.40000    4.01458   1.74351 |  0  | [0.3614843  1.313757   1.7076483  0.07384163]\n",
      "| 117 | source_1  Batch6_20 UL000599   H21 | JCP2022_053937 |  7413936723915596487 -  7  |   61.88000    4.12520   1.79155 |  0  | [ 0.18286228  0.0658493  -1.1062219  -1.4514825 ]\n",
      "| 118 | source_2  20210726_ 108629342  H19 | JCP2022_053937 |  7413936723915596487 -  7  |   61.88000    4.12520   1.79155 |  0  | [-0.2363925 -1.6601386  1.0692787 -0.7609061]\n",
      "| 119 | source_8  J1        A1170425   D11 | JCP2022_053937 |  7413936723915596487 -  7  |   61.88000    4.12520   1.79155 |  0  | [-0.2846985   1.854949    0.42546988 -0.44688338]\n",
      "| 120 | source_5  JUMPCPE-2 ATSJUM120  F20 | JCP2022_107497 |  7414005128414680664 -  8  |   88.07000    4.47813   1.94483 |  0  | [-0.88121736  0.87262297  0.15016294 -0.1468072 ]\n",
      "| 121 | source_5  JUMPCPE-2 ATSJUM220  F20 | JCP2022_107497 |  7414005128414680664 -  8  |   88.07000    4.47813   1.94483 |  0  | [-1.3756301   0.6358714  -0.45536053  0.5314067 ]\n",
      "| 122 | source_9  20210918- GR0000436  F44 | JCP2022_107497 |  7414005128414680664 -  8  |   88.07000    4.47813   1.94483 |  0  | [-1.4141406   1.9403043   0.21336764 -0.04354537]\n",
      "| 123 | source_9  20210915- GR0000330  P45 | JCP2022_092168 |  7414156451352225742 - 14  |   61.19000    4.11398   1.78668 |  0  | [ 0.0610733   0.12431908 -0.5591145  -0.73601055]\n",
      "| 124 | source_5  JUMPCPE-2 ATSJUM209  P21 | JCP2022_092168 |  7414156451352225742 - 14  |   61.19000    4.11398   1.78668 |  0  | [ 1.1221926  -0.22126818  0.11778343 -1.4214255 ]\n",
      "| 125 | source_9  20210915- GR0000330  P21 | JCP2022_092168 |  7414156451352225742 - 14  |   61.19000    4.11398   1.78668 |  0  | [-1.708873    3.7083526  -0.13097578 -1.0711371 ]\n",
      "| 126 | source_1  Batch5_20 UL001791   B36 | JCP2022_049286 |  7414170453149065605 -  5  |   51.05000    3.93281   1.70800 |  0  | [-0.0387547  2.4816284  1.708894   1.7624868]\n",
      "| 127 | source_6  p210928CP 110000296  A18 | JCP2022_049286 |  7414170453149065605 -  5  |   51.05000    3.93281   1.70800 |  0  | [ 0.9786229 -1.6375341  2.2846982 -1.1714652]\n",
      "| 128 | source_3  CP_32_all B40703dW   A18 | JCP2022_049286 |  7414170453149065605 -  5  |   51.05000    3.93281   1.70800 |  0  | [-3.3190942  -2.9277897   0.81619596 -0.38489628]\n",
      "| 129 | source_1  Batch1_20 UL001651  AD25 | JCP2022_096029 |  7414220737178972468 -  4  |   29.27000    3.37656   1.46642 |  0  | [ 0.22713709 -0.77105856  0.5867713  -0.7784678 ]\n",
      "| 130 | source_8  J4        A1166160   O13 | JCP2022_096029 |  7414220737178972468 -  4  |   29.27000    3.37656   1.46642 |  0  | [ 0.2348268   0.06387949  0.4167744  -1.1720233 ]\n",
      "| 131 | source_3  CP_33_all A13407cW   O13 | JCP2022_096029 |  7414220737178972468 -  4  |   29.27000    3.37656   1.46642 |  0  | [ 0.7260128  1.028686  -0.5466398 -1.1839168]\n",
      "| 132 | source_2  20210726_ 108629355  B15 | JCP2022_009647 |  7414448220541403319 -  7  |   62.74000    4.13900   1.79754 |  0  | [-0.36462522 -1.5680962   2.2153683   0.11545801]\n",
      "| 133 | source_3  CP_34_mix P24P27cW   A09 | JCP2022_009647 |  7414448220541403319 -  7  |   62.74000    4.13900   1.79754 |  0  | [-0.7461488  -1.2126775   0.40734237 -2.5943632 ]\n",
      "| 134 | source_10 2021_05_3 Dest21053  A15 | JCP2022_009647 |  7414448220541403319 -  7  |   62.74000    4.13900   1.79754 |  0  | [-0.24881172 -2.9378443   0.29063296 -4.4317474 ]\n",
      "| 135 | source_8  J2        A1170486   J11 | JCP2022_083720 |  7414743447033778171 - 11  |   47.04000    3.85100   1.67247 |  0  | [ 1.0053151  0.9848604  1.875393  -1.0725042]\n",
      "| 136 | source_6  p211109CP 110000296  J11 | JCP2022_083720 |  7414743447033778171 - 11  |   47.04000    3.85100   1.67247 |  0  | [ 1.4382303   0.48142433  2.070324   -0.4114145 ]\n",
      "| 137 | source_2  20210614_ 105360075  C20 | JCP2022_083720 |  7414743447033778171 - 11  |   47.04000    3.85100   1.67247 |  0  | [ 0.51380277 -0.40738058  2.742672    1.3526993 ]\n",
      "| 138 | source_5  JUMPCPE-2 AETJUM113  N03 | JCP2022_059532 |  7414757483851180781 - 13  |   94.20000    4.54542   1.97405 |  0  | [ 1.383457  -2.2295122  2.9989994 -1.1993339]\n",
      "| 139 | source_9  20210825_ GR0000339  N27 | JCP2022_059532 |  7414757483851180781 - 13  |   94.20000    4.54542   1.97405 |  0  | [ 1.4057298 -1.9278007  1.1522019 -1.4216415]\n",
      "| 140 | source_11 Batch3    EC000145   A16 | JCP2022_059532 |  7414757483851180781 - 13  |   94.20000    4.54542   1.97405 |  0  | [ 0.1718607   1.7349615  -0.24150872 -0.01350766]\n",
      "| 141 | source_1  Batch6_20 UL000597   C15 | JCP2022_041804 |  7415059226712155200 -  0  |   92.51000    4.52732   1.96619 |  0  | [ 1.1344205  0.683856   0.9607407 -1.033609 ]\n",
      "| 142 | source_3  CP_28_all SP24P27a   B08 | JCP2022_041804 |  7415059226712155200 -  0  |   92.51000    4.52732   1.96619 |  0  | [0.43686068 1.385921   1.1810107  0.4654014 ]\n",
      "| 143 | source_8  J2        A1170441   B08 | JCP2022_041804 |  7415059226712155200 -  0  |   92.51000    4.52732   1.96619 |  0  | [ 1.076519    0.6434231   0.46666133 -0.44310272]\n",
      "| 144 | source_5  JUMPCPE-2 ATSJUM229  H10 | JCP2022_024343 |  7415088566586947102 - 14  |   52.90000    3.96840   1.72346 |  0  | [-0.12997794  0.97618675 -1.1878114  -0.2996921 ]\n",
      "| 145 | source_9  20210918- GR0000438  H34 | JCP2022_024343 |  7415088566586947102 - 14  |   52.90000    3.96840   1.72346 |  0  | [ 1.879138   3.4958463  1.8925645 -1.5369935]\n",
      "| 146 | source_9  20210918- GR0000438  H10 | JCP2022_024343 |  7415088566586947102 - 14  |   52.90000    3.96840   1.72346 |  0  | [-0.14189124  3.7183366   1.2548429   0.06700027]\n",
      "| 147 | source_5  JUMPCPE-2 ATSJUM502  C05 | JCP2022_024212 |  7415209252951013660 - 12  |   68.62000    4.22858   1.83645 |  0  | [ 0.6147108  -0.33149195  1.9427952  -1.1338103 ]\n",
      "| 148 | source_11 Batch5    EC000072   L08 | JCP2022_024212 |  7415209252951013660 - 12  |   68.62000    4.22858   1.83645 |  0  | [-1.3668144   0.17672062 -1.9906322  -2.104924  ]\n",
      "| 149 | source_9  20210914- GR0000329  S29 | JCP2022_024212 |  7415209252951013660 - 12  |   68.62000    4.22858   1.83645 |  0  | [-0.01421762  2.415512   -0.33312488 -0.7473558 ]\n",
      "| 150 | source_9  20210918- GR0000438  C41 | JCP2022_000745 |  7415210999239921566 - 14  |   52.90000    3.96840   1.72346 |  0  | [ 0.1985929 -0.3315401  1.8098301  0.8304585]\n",
      "| 151 | source_9  20210918- GR0000437  S41 | JCP2022_000745 |  7415210999239921566 - 14  |   52.90000    3.96840   1.72346 |  0  | [-0.87763333  0.80040455  0.21302426 -0.35990012]\n",
      "| 152 | source_5  JUMPCPE-2 ATSJUM227  C17 | JCP2022_000745 |  7415210999239921566 - 14  |   52.90000    3.96840   1.72346 |  0  | [ 0.1250186   0.59630203  0.74525297 -1.2697979 ]\n",
      "| 153 | source_8  J1        A1170398   J16 | JCP2022_054515 |  7415621203905913974 -  6  |   66.48000    4.19690   1.82269 |  0  | [ 0.03186107 -0.54248476 -0.5036402   0.26182306]\n",
      "| 154 | source_1  Batch4_20 UL001765   T32 | JCP2022_054515 |  7415621203905913974 -  6  |   66.48000    4.19690   1.82269 |  0  | [ 0.02538872  2.1385942  -1.1037565  -0.05976522]\n",
      "| 155 | source_10 2021_08_0 Dest21072  D10 | JCP2022_054515 |  7415621203905913974 -  6  |   66.48000    4.19690   1.82269 |  0  | [-0.5576811   0.02298689  0.09962445  0.1268189 ]\n",
      "| 156 | source_8  J2        A1170449   C21 | JCP2022_108085 |  7415656419339590137 -  9  |   68.46000    4.22625   1.83544 |  0  | [ 0.13813746  0.37257814 -0.0609625  -1.4896653 ]\n",
      "| 157 | source_2  20210802_ 108629309  E19 | JCP2022_108085 |  7415656419339590137 -  9  |   68.46000    4.22625   1.83544 |  0  | [-1.8268657   0.51561403  0.49506402  1.7193292 ]\n",
      "| 158 | source_10 2021_06_0 Dest21060  O19 | JCP2022_108085 |  7415656419339590137 -  9  |   68.46000    4.22625   1.83544 |  0  | [ 0.38007593 -0.22713852  1.383095   -3.0820808 ]\n",
      "| 159 | source_1  Batch6_20 UL000585   Z24 | JCP2022_089550 |  7415701747090481099 - 11  |   41.05000    3.71479   1.61331 |  0  | [ 0.55461407 -0.04848909 -0.10056102 -0.54806656]\n",
      "| 160 | source_6  p210927CP 110000296  M12 | JCP2022_089550 |  7415701747090481099 - 11  |   41.05000    3.71479   1.61331 |  0  | [ 0.14895797 -0.10029745  0.27696377 -1.2285396 ]\n",
      "| 161 | source_10 2021_08_0 Dest21072  J22 | JCP2022_089550 |  7415701747090481099 - 11  |   41.05000    3.71479   1.61331 |  0  | [ 0.63154864  0.9940181   1.8909439  -1.9880792 ]\n",
      "| 162 | source_2  20210614_ 105360079  P15 | JCP2022_011256 |  7415854333050227652 -  4  |   33.45000    3.51005   1.52440 |  0  | [-0.48266172 -0.6919384  -0.302819   -1.5591489 ]\n",
      "| 163 | source_10 2021_06_0 Dest21060  P15 | JCP2022_011256 |  7415854333050227652 -  4  |   33.45000    3.51005   1.52440 |  0  | [-0.07731795  1.3947287   0.9690888  -0.97186625]\n",
      "| 164 | source_8  J2        A1170475   P09 | JCP2022_011256 |  7415854333050227652 -  4  |   33.45000    3.51005   1.52440 |  0  | [-0.4536326  -0.7029953  -0.09247297  0.57714736]\n",
      "| 165 | source_8  J1        A1170395   D17 | JCP2022_083850 |  7416043416820316564 -  4  |   85.19000    4.44488   1.93039 |  0  | [ 3.7610216  12.13546     1.6684182   0.72794294]\n",
      "| 166 | source_1  Batch4_20 UL001769   G33 | JCP2022_083850 |  7416043416820316564 -  4  |   85.19000    4.44488   1.93039 |  0  | [-2.3116174 11.167135   9.570993   6.2598433]\n",
      "| 167 | source_10 2021_08_0 Dest21072  G11 | JCP2022_083850 |  7416043416820316564 -  4  |   85.19000    4.44488   1.93039 |  0  | [ 1.0133562  7.04632    4.49996   -1.2565151]\n",
      "| 168 | source_2  20210823_ 108629191  P19 | JCP2022_024618 |  7416090517011400943 - 15  |  109.24000    4.69355   2.03838 |  1  | [ 0.31430626  1.1781926   0.77996874 -1.0477068 ]\n",
      "| 169 | source_3  CP59      BR5871c3   P21 | JCP2022_024618 |  7416090517011400943 - 15  |  109.24000    4.69355   2.03838 |  1  | [-1.9587927  2.213395  -0.9873755 -0.3406688]\n",
      "| 170 | source_3  CP_35_all BAY5871c   P21 | JCP2022_024618 |  7416090517011400943 - 15  |  109.24000    4.69355   2.03838 |  1  | [-6.0337195   0.27743816 -1.6528201  -2.3469372 ]\n",
      "| 171 | source_7  20210727_ CP3-SC1-2  D07 | JCP2022_006743 |  7416715828344798378 - 10  |   97.29000    4.57770   1.98807 |  0  | [-1.682843  -1.1122761 -1.5672202 -2.6374638]\n",
      "| 172 | source_7  20210719_ CP1-SC1-2  D07 | JCP2022_006743 |  7416715828344798378 - 10  |   97.29000    4.57770   1.98807 |  0  | [-0.51972604 -2.7529316  -0.46333623 -5.26369   ]\n",
      "| 173 | source_7  20210803_ CP5-SC1-2  D07 | JCP2022_006743 |  7416715828344798378 - 10  |   97.29000    4.57770   1.98807 |  0  | [-1.5474522  -0.75871754 -0.4678843  -3.8920913 ]\n",
      "| 174 | source_2  20210830_ 108629048  L20 | JCP2022_007936 |  7416800725965967313 -  1  |   86.37000    4.45864   1.93636 |  0  | [-2.1002815 -1.6986885 -0.5366986 -2.7251596]\n",
      "| 175 | source_6  p210906CP 110000294  F21 | JCP2022_007936 |  7416800725965967313 -  1  |   86.37000    4.45864   1.93636 |  0  | [ 0.00653076 -0.08137894  1.873533   -0.8579623 ]\n",
      "| 176 | source_8  J3        A1170500   F21 | JCP2022_007936 |  7416800725965967313 -  1  |   86.37000    4.45864   1.93636 |  0  | [-0.290632    0.6170335   0.12279475 -1.0310273 ]\n",
      "| 177 | source_1  Batch1_20 UL001655   T16 | JCP2022_033631 |  7417043152925103412 -  4  |   69.63000    4.24320   1.84280 |  0  | [ 0.15588522  0.2679162  -0.376449   -0.8101442 ]\n",
      "| 178 | source_2  20210621_ 105359966  D14 | JCP2022_033631 |  7417043152925103412 -  4  |   69.63000    4.24320   1.84280 |  0  | [-0.8097317 -1.1227436  1.6179733 -0.3102584]\n",
      "| 179 | source_8  J4        A1166177   J08 | JCP2022_033631 |  7417043152925103412 -  4  |   69.63000    4.24320   1.84280 |  0  | [ 0.9718883   0.38932657  1.4091169  -1.7080873 ]\n",
      "| 180 | source_9  20211102- GR0000439  N04 | JCP2022_008331 |  7417291332572791254 -  6  |   77.40000    4.34899   1.88874 |  0  | [ 0.47333074  2.0622616  -0.6955677  -0.9855859 ]\n",
      "| 181 | source_5  JUMPCPE-2 APTJUM208  N04 | JCP2022_008331 |  7417291332572791254 -  6  |   77.40000    4.34899   1.88874 |  0  | [-1.2124488  -0.49568987  1.4704967  -1.3648238 ]\n",
      "| 182 | source_5  JUMPCPE-2 APTJUM108  N04 | JCP2022_008331 |  7417291332572791254 -  6  |   77.40000    4.34899   1.88874 |  0  | [ 0.06003892 -1.0016847   3.1642737  -2.2644768 ]\n",
      "| 183 | source_1  Batch5_20 UL001773   C42 | JCP2022_052313 |  7417407395166545716 -  4  |   80.37000    4.38664   1.90509 |  0  | [-1.1206057  1.9885283  1.6018877 -1.0873227]\n",
      "| 184 | source_8  J2        A1170446   B21 | JCP2022_052313 |  7417407395166545716 -  4  |   80.37000    4.38664   1.90509 |  0  | [ 1.0855689  -0.37564945  0.260525   -1.1863043 ]\n",
      "| 185 | source_2  20210920_ 108629035  C20 | JCP2022_052313 |  7417407395166545716 -  4  |   80.37000    4.38664   1.90509 |  0  | [-1.0832874  1.036623   0.3450377  0.5403602]\n",
      "| 186 | source_3  CP_34_mix A13451dW   H18 | JCP2022_090417 |  7417472744034214512 -  0  |  124.07000    4.82085   2.09367 |  1  | [ 0.2998588  0.7144971  1.4422601 -1.4217882]\n",
      "| 187 | source_8  J4        A1166173   H18 | JCP2022_090417 |  7417472744034214512 -  0  |  124.07000    4.82085   2.09367 |  1  | [-1.2492533  0.7207451  1.4014657 -1.2495418]\n",
      "| 188 | source_2  20210808_ 108629293  P14 | JCP2022_090417 |  7417472744034214512 -  0  |  124.07000    4.82085   2.09367 |  1  | [-1.0289298  1.6872759 -0.8841443  1.1744887]\n",
      "| 189 | source_8  J1        A1170418   I08 | JCP2022_036756 |  7417483449292001737 -  9  |   57.69000    4.05508   1.76110 |  0  | [ 1.4422891  1.0667715  1.1658615 -1.4206457]\n",
      "| 190 | source_10 2021_08_0 Dest21072  B14 | JCP2022_036756 |  7417483449292001737 -  9  |   57.69000    4.05508   1.76110 |  0  | [-1.9930477  -2.5025597  -0.14384365 -3.1493485 ]\n",
      "| 191 | source_1  Batch6_20 UL000585   R16 | JCP2022_036756 |  7417483449292001737 -  9  |   57.69000    4.05508   1.76110 |  0  | [ 1.0121315   0.16798973 -0.17504752 -1.053833  ]\n",
      "| 192 | source_8  J1        A1170388   C07 | JCP2022_083993 |  7417636015725083877 -  5  |   74.33000    4.30851   1.87116 |  0  | [ 0.6310582  -0.5816455   0.74159503 -1.140281  ]\n",
      "| 193 | source_6  p210920CP 110000296  C07 | JCP2022_083993 |  7417636015725083877 -  5  |   74.33000    4.30851   1.87116 |  0  | [-0.59407616 -0.89552164  1.9081609   0.8366107 ]\n",
      "| 194 | source_10 2021_08_1 Dest21080  E12 | JCP2022_083993 |  7417636015725083877 -  5  |   74.33000    4.30851   1.87116 |  0  | [ 0.9400394   1.0174851  -0.22345161 -0.43523526]\n",
      "| 195 | source_9  20210915- GR0000331  Q27 | JCP2022_002360 |  7417747437047393845 -  5  |   66.62000    4.19900   1.82360 |  0  | [-0.41572976  1.0163813   0.372041   -0.74351925]\n",
      "| 196 | source_9  20210915- GR0000331  Q03 | JCP2022_002360 |  7417747437047393845 -  5  |   66.62000    4.19900   1.82360 |  0  | [-1.47544     1.5333743  -0.11852294 -0.06315494]\n",
      "| 197 | source_11 Batch5    EC000085   A03 | JCP2022_002360 |  7417747437047393845 -  5  |   66.62000    4.19900   1.82360 |  0  | [-0.11471748  0.95922947  0.13140994 -2.6659212 ]\n",
      "| 198 | source_3  CP59      BR5870c3   C07 | JCP2022_032011 |  7417751829845018407 -  7  |   53.17000    3.97349   1.72567 |  0  | [ 0.35772157  1.6877217   1.1066017  -1.5686464 ]\n",
      "| 199 | source_8  J3        A1170527   C07 | JCP2022_032011 |  7417751829845018407 -  7  |   53.17000    3.97349   1.72567 |  0  | [ 0.36562705 -0.06277466  0.8908119  -0.9895705 ]\n",
      "| 200 | source_3  CP_35_all BAY5870c   C07 | JCP2022_032011 |  7417751829845018407 -  7  |   53.17000    3.97349   1.72567 |  0  | [-0.57891726  0.19844246 -1.6204019  -0.9322108 ]\n",
      "| 201 | source_1  Batch3_20 UL000087   B33 | JCP2022_093611 |  7417942264704231143 -  7  |  112.54000    4.72331   2.05131 |  1  | [-0.6092415   0.3987012   0.3552097  -0.30764532]\n",
      "| 202 | source_8  J1        A1170405   A17 | JCP2022_093611 |  7417942264704231143 -  7  |  112.54000    4.72331   2.05131 |  1  | [-2.0384126  1.5957584  2.970334  -1.6205436]\n",
      "| 203 | source_10 2021_08_0 Dest21072  B11 | JCP2022_093611 |  7417942264704231143 -  7  |  112.54000    4.72331   2.05131 |  1  | [ 0.51182413  1.9289093   1.9019642  -1.5185869 ]\n",
      "| 204 | source_6  p210824CP 110000293  C05 | JCP2022_025538 |  7418025816230507081 -  9  |   68.84000    4.23178   1.83784 |  0  | [ 0.2583512 -1.1841173  2.6511421 -1.0453937]\n",
      "| 205 | source_2  20210719_ 108629401  E08 | JCP2022_025538 |  7418025816230507081 -  9  |   68.84000    4.23178   1.83784 |  0  | [-0.5857768  -0.6174326   3.781563   -0.20144832]\n",
      "| 206 | source_1  Batch4_20 UL000097   E10 | JCP2022_025538 |  7418025816230507081 -  9  |   68.84000    4.23178   1.83784 |  0  | [ 0.16283727  1.5609307  -0.16185063 -0.05438089]\n",
      "| 207 | source_9  20210824- GR0000338  A32 | JCP2022_007202 |  7418332786695984692 -  4  |   53.93000    3.98769   1.73183 |  0  | [-0.6909318  4.330538  -1.5899081 -0.512632 ]\n",
      "| 208 | source_11 Batch3    EC000136   E03 | JCP2022_007202 |  7418332786695984692 -  4  |   53.93000    3.98769   1.73183 |  0  | [-1.2264268  1.2070951 -1.0282121 -1.8529571]\n",
      "| 209 | source_5  JUMPCPE-2 AETJUM104  A08 | JCP2022_007202 |  7418332786695984692 -  4  |   53.93000    3.98769   1.73183 |  0  | [-1.2228458  -3.4762325  -1.160836   -0.58284783]\n",
      "| 210 | source_8  J2        A1170444   O04 | JCP2022_110930 |  7418420759762971571 -  3  |   76.92000    4.34277   1.88604 |  0  | [-0.5072832   1.283957    0.8487865  -0.24882257]\n",
      "| 211 | source_2  20210726_ 108629353  N06 | JCP2022_110930 |  7418420759762971571 -  3  |   76.92000    4.34277   1.88604 |  0  | [-1.4449701   1.906826   -0.03469467 -0.16687691]\n",
      "| 212 | source_1  Batch6_20 UL000597  AD08 | JCP2022_110930 |  7418420759762971571 -  3  |   76.92000    4.34277   1.88604 |  0  | [-2.1483479  1.8055859  2.0198157  1.3672723]\n",
      "| 213 | source_1  Batch5_20 UL001793  AD12 | JCP2022_070309 |  7418729995966947912 -  8  |   58.36000    4.06663   1.76612 |  0  | [ 1.8209932  -0.46420574 -0.48469794 -0.19672418]\n",
      "| 214 | source_6  p210928CP 110000296  O06 | JCP2022_070309 |  7418729995966947912 -  8  |   58.36000    4.06663   1.76612 |  0  | [ 2.2829843  1.7404995  1.2798103 -3.1667218]\n",
      "| 215 | source_10 2021_08_1 Dest21080  N10 | JCP2022_070309 |  7418729995966947912 -  8  |   58.36000    4.06663   1.76612 |  0  | [-1.3738247 -2.4925394  1.6016448 -1.600105 ]\n",
      "| 216 | source_9  20210825_ GR0000341  Z31 | JCP2022_009274 |  7418794704846093793 -  1  |   83.72000    4.42748   1.92283 |  0  | [ 0.0340513   0.63280773  0.683851   -2.078515  ]\n",
      "| 217 | source_11 Batch4    EC000115   D16 | JCP2022_009274 |  7418794704846093793 -  1  |   83.72000    4.42748   1.92283 |  0  | [ 0.13911998  1.6222115  -0.37134027 -1.680536  ]\n",
      "| 218 | source_5  JUMPCPE-2 AETJUM113  J07 | JCP2022_009274 |  7418794704846093793 -  1  |   83.72000    4.42748   1.92283 |  0  | [ 1.0927303   1.4797001  -0.10764396 -1.263218  ]\n",
      "| 219 | source_1  Batch5_20 UL001773   J12 | JCP2022_015721 |  7418823563335106846 - 14  |   80.48000    4.38801   1.90569 |  0  | [1.333806   1.4465528  1.0437652  0.10481763]\n",
      "| 220 | source_3  CP_28_all SP20P23d   E06 | JCP2022_015721 |  7418823563335106846 - 14  |   80.48000    4.38801   1.90569 |  0  | [-0.3362888   0.9588556  -0.13330913 -0.9891982 ]\n",
      "| 221 | source_10 2021_08_1 Dest21080  I09 | JCP2022_015721 |  7418823563335106846 - 14  |   80.48000    4.38801   1.90569 |  0  | [ 1.6429391  -1.9020987  -0.4389763  -0.34585595]\n",
      "| 222 | source_8  J3        A1170530   F05 | JCP2022_021563 |  7418863727237157457 -  1  |   52.82000    3.96689   1.72280 |  0  | [ 0.50169945  0.7233591   0.5260222  -0.5067631 ]\n",
      "| 223 | source_3  CP_35_all BAY5871b   F05 | JCP2022_021563 |  7418863727237157457 -  1  |   52.82000    3.96689   1.72280 |  0  | [-0.94708395  0.9792094   0.14690948 -0.06631088]\n",
      "| 224 | source_6  p211012CP 110000295  F05 | JCP2022_021563 |  7418863727237157457 -  1  |   52.82000    3.96689   1.72280 |  0  | [-0.9831059  -0.41380024  1.4324402  -0.13734007]\n",
      "| 225 | source_2  20210816_ 108629240  O15 | JCP2022_042131 |  7419038522830596671 - 15  |  107.54000    4.67786   2.03157 |  1  | [ 0.298059   2.1110134  0.221861  -1.3213897]\n",
      "| 226 | source_3  CP59      BR5870a3   P09 | JCP2022_042131 |  7419038522830596671 - 15  |  107.54000    4.67786   2.03157 |  1  | [ 1.0556875   0.44057846 -0.45902038 -0.86394346]\n",
      "| 227 | source_3  CP_35_all BAY5870a   P09 | JCP2022_042131 |  7419038522830596671 - 15  |  107.54000    4.67786   2.03157 |  1  | [ 0.18079376 -0.39938498 -0.22690964 -1.2898837 ]\n",
      "| 228 | source_5  JUMPCPE-2 APTJUM106  I12 | JCP2022_048040 |  7419110126401264200 -  8  |   49.56000    3.90318   1.69513 |  0  | [-1.0172837   0.48988152  0.530388   -1.222464  ]\n",
      "| 229 | source_11 Batch1    EC000022   H15 | JCP2022_048040 |  7419110126401264200 -  8  |   49.56000    3.90318   1.69513 |  0  | [ 0.56121826  1.6226139  -1.5051337  -0.36995733]\n",
      "| 230 | source_9  20211102- GR0000439  I12 | JCP2022_048040 |  7419110126401264200 -  8  |   49.56000    3.90318   1.69513 |  0  | [-0.7455292   0.707602    0.56304085 -2.185267  ]\n",
      "| 231 | source_2  20210614_ 105360072  M12 | JCP2022_086798 |  7419283841883405228 - 12  |   87.63000    4.47312   1.94265 |  0  | [-1.7640474  -0.7789564   0.99987394 -0.27160275]\n",
      "| 232 | source_10 2021_06_1 Dest21061  M12 | JCP2022_086798 |  7419283841883405228 - 12  |   87.63000    4.47312   1.94265 |  0  | [ 0.9392307  -0.43284702  0.44923568 -2.1589327 ]\n",
      "| 233 | source_8  J2        A1170478   G17 | JCP2022_086798 |  7419283841883405228 - 12  |   87.63000    4.47312   1.94265 |  0  | [ 0.8358679  -0.08559942  1.0999312  -0.4833399 ]\n",
      "| 234 | source_10 2021_06_0 Dest21060  K05 | JCP2022_096446 |  7419351010947248707 -  3  |   75.86000    4.32889   1.88001 |  0  | [-1.268543   4.1359496 -1.2078254 -1.6174718]\n",
      "| 235 | source_8  J2        A1170440   N14 | JCP2022_096446 |  7419351010947248707 -  3  |   75.86000    4.32889   1.88001 |  0  | [ 0.21374428 -0.15341663  0.8954397  -0.49396992]\n",
      "| 236 | source_1  Batch6_20 UL000595  AB28 | JCP2022_096446 |  7419351010947248707 -  3  |   75.86000    4.32889   1.88001 |  0  | [ 0.46567965 -0.76825047  0.41574556 -0.7604785 ]\n",
      "| 237 | source_3  CP_32_all B40403bW   F15 | JCP2022_081966 |  7419466432897049571 -  3  |   78.09000    4.35786   1.89260 |  0  | [ 0.4959545   2.354291   -0.84393954 -0.10272682]\n",
      "| 238 | source_1  Batch3_20 UL001785   K30 | JCP2022_081966 |  7419466432897049571 -  3  |   78.09000    4.35786   1.89260 |  0  | [-0.70130634  0.35715294 -0.3287052  -1.6571995 ]\n",
      "| 239 | source_10 2021_06_2 Dest21062  K08 | JCP2022_081966 |  7419466432897049571 -  3  |   78.09000    4.35786   1.89260 |  0  | [-1.0322987e+00  3.0933571e-01  5.2404404e-04 -1.3269441e+00]\n",
      "| 240 | source_1  Batch5_20 UL001791   P41 | JCP2022_036556 |  7419774248347446475 - 11  |   29.85000    3.39618   1.47494 |  0  | [ 0.19971108  1.593523    0.32126582 -1.6135333 ]\n",
      "| 241 | source_3  CP_32_all B40703cW   H21 | JCP2022_036556 |  7419774248347446475 - 11  |   29.85000    3.39618   1.47494 |  0  | [0.3028438  0.41036558 1.7528441  0.06634355]\n",
      "| 242 | source_10 2021_08_2 Dest21082  P19 | JCP2022_036556 |  7419774248347446475 - 11  |   29.85000    3.39618   1.47494 |  0  | [-4.1084604 -3.488843   1.3487232 -3.7228312]\n",
      "| 243 | source_8  J2        A1170463   N19 | JCP2022_044072 |  7419803347993521909 -  5  |   58.81000    4.07431   1.76945 |  0  | [ 0.992604    1.3815632  -0.4379437  -0.65889645]\n",
      "| 244 | source_2  20210802_ 108629320  L15 | JCP2022_044072 |  7419803347993521909 -  5  |   58.81000    4.07431   1.76945 |  0  | [ 0.7094641  1.0214891  0.5450381 -0.9050818]\n",
      "| 245 | source_1  Batch5_20 UL001713  AB37 | JCP2022_044072 |  7419803347993521909 -  5  |   58.81000    4.07431   1.76945 |  0  | [ 1.7740171  0.5129428  1.8239331 -0.2612046]\n",
      "| 246 | source_8  J1        A1170415   H07 | JCP2022_097929 |  7420013896370421513 -  9  |   91.03000    4.51119   1.95918 |  0  | [-0.23783517  0.57219744 -0.31361973  0.7156891 ]\n",
      "| 247 | source_10 2021_08_2 Dest21082  O11 | JCP2022_097929 |  7420013896370421513 -  9  |   91.03000    4.51119   1.95918 |  0  | [-2.9758017  -0.46367216 -0.3796085  -4.9229245 ]\n",
      "| 248 | source_6  p210920CP 110000296  H07 | JCP2022_097929 |  7420013896370421513 -  9  |   91.03000    4.51119   1.95918 |  0  | [-0.06372511  0.87382793 -0.12969625  1.614708  ]\n",
      "| 249 | source_7  20210803_ CP5-SC1-1  J14 | JCP2022_016167 |  7420026742143209815 -  7  |  103.58000    4.64034   2.01528 |  1  | [-0.37193847 -0.24331093  0.4431659  -1.0619777 ]\n",
      "| 250 | source_7  20210719_ CP1-SC1-1  J14 | JCP2022_016167 |  7420026742143209815 -  7  |  103.58000    4.64034   2.01528 |  1  | [ 0.9204147  -0.2971282   0.81998944 -1.6449057 ]\n",
      "| 251 | source_7  20210731_ CP4-SC1-1  J14 | JCP2022_016167 |  7420026742143209815 -  7  |  103.58000    4.64034   2.01528 |  1  | [ 0.61323595 -0.65354204  0.37283933 -1.8253076 ]\n",
      "| 252 | source_8  J4        A1166154   F06 | JCP2022_075218 |  7420031712371244583 -  7  |  110.67000    4.70655   2.04403 |  1  | [-0.0864737  -1.1353426  -2.069395   -0.57949233]\n",
      "| 253 | source_2  20210808_ 108629290  K09 | JCP2022_075218 |  7420031712371244583 -  7  |  110.67000    4.70655   2.04403 |  1  | [-2.035904    0.82670975  2.4718747  -0.68083525]\n",
      "| 254 | source_1  Batch1_20 UL001653   K11 | JCP2022_075218 |  7420031712371244583 -  7  |  110.67000    4.70655   2.04403 |  1  | [ 1.0286531  2.360793  -1.1784796 -0.8805454]\n",
      "| 255 | source_9  20210918- GR0000437  M13 | JCP2022_040934 |  7420106946818460250 - 10  |   76.71000    4.34003   1.88485 |  0  | [ 0.30876827  1.0929813  -0.50540805 -0.8989477 ]\n",
      "| 256 | source_9  20210918- GR0000437 AC13 | JCP2022_040934 |  7420106946818460250 - 10  |   76.71000    4.34003   1.88485 |  0  | [-0.537724    0.8808918   0.03722906 -1.542943  ]\n",
      "| 257 | source_9  20210918- GR0000437 AC37 | JCP2022_040934 |  7420106946818460250 - 10  |   76.71000    4.34003   1.88485 |  0  | [-1.2170014   3.2830453  -0.81174755  0.26852608]\n",
      "| 258 | source_8  J4        A1166171   G08 | JCP2022_079429 |  7420288604593000700 - 12  |   86.31000    4.45795   1.93606 |  0  | [-0.69356203  0.14974785  1.3307626  -1.0048239 ]\n",
      "| 259 | source_1  Batch1_20 UL001641   M16 | JCP2022_079429 |  7420288604593000700 - 12  |   86.31000    4.45795   1.93606 |  0  | [ 1.0993662   1.3593397  -0.51071954 -0.01098466]\n",
      "| 260 | source_2  20210808_ 108629294  M14 | JCP2022_079429 |  7420288604593000700 - 12  |   86.31000    4.45795   1.93606 |  0  | [ 0.35280704  0.08878803  2.2347765  -0.64860004]\n",
      "| 261 | source_9  20210901_ GR0000334  V39 | JCP2022_116469 |  7420616727813292409 -  9  |   92.47000    4.52688   1.96600 |  0  | [ 1.1892874   1.5788145   1.188539   -0.44504154]\n",
      "| 262 | source_5  JUMPCPE-2 AETJUM229  F15 | JCP2022_116469 |  7420616727813292409 -  9  |   92.47000    4.52688   1.96600 |  0  | [-0.79741144  1.050664    0.44797254 -1.0749093 ]\n",
      "| 263 | source_9  20210901_ GR0000334  F15 | JCP2022_116469 |  7420616727813292409 -  9  |   92.47000    4.52688   1.96600 |  0  | [ 1.1963117  -0.81542444  0.71064544 -0.42669988]\n",
      "| 264 | source_3  CP_36_all BAY5875a   J22 | JCP2022_001689 |  7420638063543654531 -  3  |  454.88000    6.12003   2.65790 |  1  | [-0.79431415  0.06865072 -0.19636917  0.15410018]\n",
      "| 265 | source_2  20211003_ 108628979  C21 | JCP2022_001689 |  7420638063543654531 -  3  |  454.88000    6.12003   2.65790 |  1  | [ 0.7849543  -1.4036474   0.77653134 -0.38839877]\n",
      "| 266 | source_6  p211004CP 110000296  J22 | JCP2022_001689 |  7420638063543654531 -  3  |  454.88000    6.12003   2.65790 |  1  | [ 1.0877302 -0.7758279  1.6907209 -1.432198 ]\n",
      "| 267 | source_3  CP_33_all A12079aW   B21 | JCP2022_017438 |  7420725896760156970 - 10  |   66.59000    4.19855   1.82341 |  0  | [ 1.31607   -0.9790182  0.0134927  1.8223529]\n",
      "| 268 | source_8  J4        A1166154   B21 | JCP2022_017438 |  7420725896760156970 - 10  |   66.59000    4.19855   1.82341 |  0  | [ 0.51006067 -0.05552387  0.9781733  -1.6214869 ]\n",
      "| 269 | source_1  Batch1_20 UL001653   C41 | JCP2022_017438 |  7420725896760156970 - 10  |   66.59000    4.19855   1.82341 |  0  | [-1.3887277  -0.27446365  0.4176482  -0.9442694 ]\n",
      "| 270 | source_6  p210831CP 110000294  G19 | JCP2022_035559 |  7421250786844481511 -  7  |   76.05000    4.33139   1.88110 |  0  | [-0.78792787  0.97405815  0.15719771 -1.0273765 ]\n",
      "| 271 | source_2  20210719_ 108629383  M16 | JCP2022_035559 |  7421250786844481511 -  7  |   76.05000    4.33139   1.88110 |  0  | [-1.2681019   1.1347723   1.7468857  -0.40103173]\n",
      "| 272 | source_10 2021_08_2 Dest21082  M16 | JCP2022_035559 |  7421250786844481511 -  7  |   76.05000    4.33139   1.88110 |  0  | [-2.1398554e+00 -2.1791458e-04  8.3422863e-01 -1.1446027e+00]\n",
      "| 273 | source_1  Batch5_20 UL001799   E25 | JCP2022_010884 |  7421283512484503442 -  2  |   97.04000    4.57512   1.98695 |  0  | [-0.37300944  1.3076887   0.09734356  1.1798425 ]\n",
      "| 274 | source_3  CP_31_all B040203a   C13 | JCP2022_010884 |  7421283512484503442 -  2  |   97.04000    4.57512   1.98695 |  0  | [-1.4062531   1.2065701   1.0609859   0.04107893]\n",
      "| 275 | source_6  p211004CP 110000295  C13 | JCP2022_010884 |  7421283512484503442 -  2  |   97.04000    4.57512   1.98695 |  0  | [-0.03248882 -1.4183645   1.1086137   0.01653349]\n",
      "| 276 | source_8  J3        A1170517   A05 | JCP2022_017524 |  7421385882605803135 - 15  |   74.33000    4.30851   1.87116 |  0  | [-1.4646659   0.08794451  2.3519213  -0.26791358]\n",
      "| 277 | source_3  CP_35_all BAY5868a   A05 | JCP2022_017524 |  7421385882605803135 - 15  |   74.33000    4.30851   1.87116 |  0  | [ 0.0873003 -1.4364872  1.2872412 -1.6636035]\n",
      "| 278 | source_6  p211102CP 110000295  A05 | JCP2022_017524 |  7421385882605803135 - 15  |   74.33000    4.30851   1.87116 |  0  | [ 0.37759042 -0.6866789   3.5064287   1.078933  ]\n",
      "| 279 | source_8  J3        A1170493   N13 | JCP2022_103490 |  7421498887770379592 -  8  |   85.38000    4.44711   1.93136 |  0  | [-0.11263561  1.8115187   1.1201954  -1.9564404 ]\n",
      "| 280 | source_2  20210830_ 108629064  K03 | JCP2022_103490 |  7421498887770379592 -  8  |   85.38000    4.44711   1.93136 |  0  | [-0.63538384  2.0576777   1.2233298  -2.4825268 ]\n",
      "| 281 | source_6  p211109CP 110000295  N13 | JCP2022_103490 |  7421498887770379592 -  8  |   85.38000    4.44711   1.93136 |  0  | [-0.46594048  0.8142519   1.0022174  -0.8874316 ]\n",
      "| 282 | source_10 2021_08_2 Dest21081  N17 | JCP2022_055309 |  7421591083982003313 -  1  |   67.57000    4.21316   1.82975 |  0  | [-1.6690559  -0.3817091  -0.05614203 -1.5730991 ]\n",
      "| 283 | source_3  CP_26_all J12428c    G10 | JCP2022_055309 |  7421591083982003313 -  1  |   67.57000    4.21316   1.82975 |  0  | [ 0.41391563 -0.11790323  0.17628801 -1.134505  ]\n",
      "| 284 | source_2  20211003_ 108628975  N17 | JCP2022_055309 |  7421591083982003313 -  1  |   67.57000    4.21316   1.82975 |  0  | [ 0.30734682 -0.21033335 -0.22191703 -1.1835244 ]\n",
      "| 285 | source_10 2021_06_2 Dest21062  P15 | JCP2022_097025 |  7421708460463938103 -  7  |   60.25000    4.09850   1.77996 |  0  | [-0.9292848  0.1045866  2.5174208 -5.2793093]\n",
      "| 286 | source_1  Batch5_20 UL001793   P37 | JCP2022_097025 |  7421708460463938103 -  7  |   60.25000    4.09850   1.77996 |  0  | [-0.39209723  5.110615    0.9805356   1.6614531 ]\n",
      "| 287 | source_3  CP_31_all B040603c   H19 | JCP2022_097025 |  7421708460463938103 -  7  |   60.25000    4.09850   1.77996 |  0  | [ 0.89520955  1.4565549  -0.19141293 -0.46118724]\n",
      "| 288 | source_1  Batch5_20 UL001797   R39 | JCP2022_095965 |  7421745723282535038 - 14  |   40.62000    3.70426   1.60874 |  0  | [-2.539606    1.3543072   0.4631275   0.06867063]\n",
      "| 289 | source_10 2021_06_2 Dest21062  B17 | JCP2022_095965 |  7421745723282535038 - 14  |   40.62000    3.70426   1.60874 |  0  | [-0.12487316  0.9283638   2.087262   -5.1660004 ]\n",
      "| 290 | source_3  CP_31_all B040103c   I20 | JCP2022_095965 |  7421745723282535038 - 14  |   40.62000    3.70426   1.60874 |  0  | [-0.6590922   1.128602    0.7403759  -0.69360995]\n",
      "| 291 | source_2  20210607_ 105360190  L11 | JCP2022_086094 |  7421837358066360464 -  0  |   91.14000    4.51240   1.95971 |  0  | [-1.7701906  1.0387259  2.358658   0.8434969]\n",
      "| 292 | source_6  p210906CP 110000294  F07 | JCP2022_086094 |  7421837358066360464 -  0  |   91.14000    4.51240   1.95971 |  0  | [ 0.2833557  -0.24936247  1.3791509  -0.73979914]\n",
      "| 293 | source_8  J3        A1170499   F07 | JCP2022_086094 |  7421837358066360464 -  0  |   91.14000    4.51240   1.95971 |  0  | [-0.0061965  -1.4877996   0.24284506 -0.6783841 ]\n",
      "| 294 | source_2  20210621_ 105359954  G06 | JCP2022_036937 |  7421912903310514217 -  9  |   35.83000    3.57879   1.55425 |  0  | [-0.12594509  0.641798    2.327136   -0.40658212]\n",
      "| 295 | source_1  Batch2_20 UL001679   W08 | JCP2022_036937 |  7421912903310514217 -  9  |   35.83000    3.57879   1.55425 |  0  | [ 2.464993   0.9786148  0.5525876 -1.7957567]\n",
      "| 296 | source_8  J4        A1166147   L04 | JCP2022_036937 |  7421912903310514217 -  9  |   35.83000    3.57879   1.55425 |  0  | [ 0.7662649  -0.16045713  0.00465739 -0.9620557 ]\n",
      "| 297 | source_2  20210816_ 108629226  F05 | JCP2022_082431 |  7422108739930402381 - 13  |   75.08000    4.31855   1.87552 |  0  | [-0.09005141  0.942708    1.3189476  -0.90197253]\n",
      "| 298 | source_3  CP59      BR5867c3   K14 | JCP2022_082431 |  7422108739930402381 - 13  |   75.08000    4.31855   1.87552 |  0  | [-0.01652288  1.1881495   0.33768925  0.5306548 ]\n",
      "| 299 | source_6  p211102CP 110000295  K14 | JCP2022_082431 |  7422108739930402381 - 13  |   75.08000    4.31855   1.87552 |  0  | [ 0.6749072  -0.66026115  1.481524   -0.625759  ]\n",
      "| 300 | source_11 Batch2    EC000059   J13 | JCP2022_078675 |  7422207710795686279 -  7  |   94.24000    4.54584   1.97424 |  0  | [ 1.0472045  1.4007664  0.5873184 -1.1348013]\n",
      "| 301 | source_5  JUMPCPE-2 APTJUM122  O14 | JCP2022_078675 |  7422207710795686279 -  7  |   94.24000    4.54584   1.97424 |  0  | [-0.7180824 -2.3440876  2.3511057 -1.5248451]\n",
      "| 302 | source_9  20211103- GR0000441  O14 | JCP2022_078675 |  7422207710795686279 -  7  |   94.24000    4.54584   1.97424 |  0  | [ 0.3537253   0.6709609   0.27685142 -0.7088494 ]\n",
      "| 303 | source_10 2021_08_0 Dest21072  I21 | JCP2022_048589 |  7422360079247483586 -  2  |   29.96000    3.39986   1.47654 |  0  | [ 0.85040045  0.51265097 -0.79693466 -0.04660058]\n",
      "| 304 | source_6  p210927CP 110000296  M22 | JCP2022_048589 |  7422360079247483586 -  2  |   29.96000    3.39986   1.47654 |  0  | [ 0.38960075  0.4847679   1.4963591  -0.28552902]\n",
      "| 305 | source_8  J1        A1170399   M22 | JCP2022_048589 |  7422360079247483586 -  2  |   29.96000    3.39986   1.47654 |  0  | [ 0.10323548  0.7831936  -0.16034597 -1.2351707 ]\n",
      "| 306 | source_9  20210915- GR0000330  H43 | JCP2022_004635 |  7422495643914089195 - 11  |  109.58000    4.69665   2.03973 |  1  | [-0.6589043   0.37582493  1.4157234   0.43380445]\n",
      "| 307 | source_5  JUMPCPE-2 ATSJUM110  H19 | JCP2022_004635 |  7422495643914089195 - 11  |  109.58000    4.69665   2.03973 |  1  | [ 0.10159791  0.76141024  1.5428072  -0.7825899 ]\n",
      "| 308 | source_9  20210915- GR0000330  X43 | JCP2022_004635 |  7422495643914089195 - 11  |  109.58000    4.69665   2.03973 |  1  | [ 0.1212604  2.6049404  1.0242904 -0.2578442]\n",
      "| 309 | source_3  CP_27_all J12432a    L05 | JCP2022_087017 |  7422751542193391374 - 14  |   71.78000    4.27361   1.85600 |  0  | [-0.25994992  0.5977287   0.98388255 -0.07315159]\n",
      "| 310 | source_1  Batch3_20 UL001665   W09 | JCP2022_087017 |  7422751542193391374 - 14  |   71.78000    4.27361   1.85600 |  0  | [ 0.9789927  2.7219152 -1.5143304  0.8674375]\n",
      "| 311 | source_10 2021_08_2 Dest21082  G07 | JCP2022_087017 |  7422751542193391374 - 14  |   71.78000    4.27361   1.85600 |  0  | [-0.05918479 -0.08649588 -0.43813097  2.1551118 ]\n",
      "| 312 | source_3  CP_28_all SP20P23c   B19 | JCP2022_004617 |  7422929049126826010 - 10  |   55.43000    4.01512   1.74374 |  0  | [ 0.77445936  1.4818139  -0.9331336  -1.9403889 ]\n",
      "| 313 | source_1  Batch5_20 UL001773   D37 | JCP2022_004617 |  7422929049126826010 - 10  |   55.43000    4.01512   1.74374 |  0  | [ 0.69608665  1.3018684   0.70728326 -0.67509806]\n",
      "| 314 | source_10 2021_06_0 Dest21060  C16 | JCP2022_004617 |  7422929049126826010 - 10  |   55.43000    4.01512   1.74374 |  0  | [-0.941198   0.6972027 -1.131383  -4.4811296]\n",
      "| 315 | source_1  Batch2_20 UL001675   Q22 | JCP2022_099437 |  7422957439396211766 -  6  |   72.03000    4.27708   1.85751 |  0  | [-2.0398707  1.0866346 -0.9031745 -0.3292666]\n",
      "| 316 | source_8  J1        A1170404   I11 | JCP2022_099437 |  7422957439396211766 -  6  |   72.03000    4.27708   1.85751 |  0  | [ 1.1618569  1.9582853  0.6730772 -0.8027396]\n",
      "| 317 | source_6  p211123CP 110000297  I11 | JCP2022_099437 |  7422957439396211766 -  6  |   72.03000    4.27708   1.85751 |  0  | [ 0.4620459  1.9053183  2.0347803 -1.930035 ]\n",
      "| 318 | source_7  20210727_ CP3-SC1-1  E12 | JCP2022_012473 |  7422969490994354388 -  4  |   63.32000    4.14820   1.80154 |  0  | [ 0.5326164   0.9515586   1.9119542  -0.86018443]\n",
      "| 319 | source_7  20210723_ CP2-SC1-1  E12 | JCP2022_012473 |  7422969490994354388 -  4  |   63.32000    4.14820   1.80154 |  0  | [ 0.5005412   0.03933334 -0.11176062 -2.1145144 ]\n",
      "| 320 | source_7  20210803_ CP5-SC1-1  E12 | JCP2022_012473 |  7422969490994354388 -  4  |   63.32000    4.14820   1.80154 |  0  | [ 0.25935602 -0.81167173 -0.39590526 -1.0749985 ]\n",
      "| 321 | source_8  J3        A1170541   C05 | JCP2022_111743 |  7422970774531980868 -  4  |   78.07000    4.35761   1.89248 |  0  | [ 0.07943857 -0.25217295  0.6101625  -0.68649507]\n",
      "| 322 | source_6  p211004CP 110000295  C05 | JCP2022_111743 |  7422970774531980868 -  4  |   78.07000    4.35761   1.89248 |  0  | [-0.41939735 -0.06125021  1.6229935  -0.60108393]\n",
      "| 323 | source_3  CP60      BR5874a3   C05 | JCP2022_111743 |  7422970774531980868 -  4  |   78.07000    4.35761   1.89248 |  0  | [ 1.049011    1.2340136   0.61982167 -0.7767755 ]\n",
      "| 324 | source_6  p211012CP 110000295  C15 | JCP2022_111665 |  7423224552994665021 - 13  |  161.40000    5.08389   2.20790 |  1  | [ 0.23104239 -0.53386545  1.7205898  -0.65541035]\n",
      "| 325 | source_2  20210816_ 108629245  E07 | JCP2022_111665 |  7423224552994665021 - 13  |  161.40000    5.08389   2.20790 |  1  | [ 0.4296043  -0.27948427  1.9273622  -0.6441275 ]\n",
      "| 326 | source_8  J3        A1170533   C15 | JCP2022_111665 |  7423224552994665021 - 13  |  161.40000    5.08389   2.20790 |  1  | [ 0.09268212 -0.22531319  1.5569506  -0.5384959 ]\n",
      "| 327 | source_6  p211109CP 110000296  F09 | JCP2022_041621 |  7423402187466137134 - 14  |   75.42000    4.32307   1.87749 |  0  | [-0.8092325  2.1601782  2.845047   0.2646804]\n",
      "| 328 | source_3  CP_27_all J12436d    F09 | JCP2022_041621 |  7423402187466137134 - 14  |   75.42000    4.32307   1.87749 |  0  | [-0.7136116  1.9059396 -2.088544  -2.0624118]\n",
      "| 329 | source_2  20210712_ 105359798  L16 | JCP2022_041621 |  7423402187466137134 - 14  |   75.42000    4.32307   1.87749 |  0  | [-0.0280844  -0.31990623  2.2218885  -0.8818161 ]\n",
      "| 330 | source_10 2021_06_2 Dest21062  C10 | JCP2022_002524 |  7423727557243715616 -  0  |   49.33000    3.89853   1.69311 |  0  | [-1.2621299  -0.68600273 -1.4136348  -1.0239305 ]\n",
      "| 331 | source_3  CP_31_all B040103b   J16 | JCP2022_002524 |  7423727557243715616 -  0  |   49.33000    3.89853   1.69311 |  0  | [-0.30818558  2.0658073  -0.85283196  0.16214514]\n",
      "| 332 | source_1  Batch5_20 UL001797   S32 | JCP2022_002524 |  7423727557243715616 -  0  |   49.33000    3.89853   1.69311 |  0  | [-1.6189015 -1.6155672 -1.4145782  0.7030333]\n",
      "| 333 | source_1  Batch5_20 UL001793  AB15 | JCP2022_056504 |  7424022747363365943 -  7  |   81.10000    4.39568   1.90902 |  0  | [ 1.3177302   0.4899931  -0.86428237 -1.3008147 ]\n",
      "| 334 | source_6  p210928CP 110000296  N08 | JCP2022_056504 |  7424022747363365943 -  7  |   81.10000    4.39568   1.90902 |  0  | [ 2.7650745  2.226563   0.423774  -1.2815242]\n",
      "| 335 | source_10 2021_08_1 Dest21080  L13 | JCP2022_056504 |  7424022747363365943 -  7  |   81.10000    4.39568   1.90902 |  0  | [-1.3646075   1.4363613   1.2582198  -0.83317363]\n",
      "| 336 | source_9  20211102- GR0000439  Y18 | JCP2022_046645 |  7424137650134778395 - 11  |   74.75000    4.31415   1.87361 |  0  | [-0.667274   1.436955   0.4390396 -3.1140988]\n",
      "| 337 | source_9  20211102- GR0000439  Y42 | JCP2022_046645 |  7424137650134778395 - 11  |   74.75000    4.31415   1.87361 |  0  | [-2.6431577  2.3417149  2.0771189  0.1353352]\n",
      "| 338 | source_11 Batch1    EC000017   M11 | JCP2022_046645 |  7424137650134778395 - 11  |   74.75000    4.31415   1.87361 |  0  | [ 0.66450465 -1.1814079   0.7810087  -0.46975243]\n",
      "| 339 | source_1  Batch1_20 UL001653   C09 | JCP2022_014002 |  7424208359356777955 -  3  |   54.79000    4.00351   1.73870 |  0  | [ 1.6710854  3.2496252  0.714627  -2.0080032]\n",
      "| 340 | source_8  J4        A1166154   B05 | JCP2022_014002 |  7424208359356777955 -  3  |   54.79000    4.00351   1.73870 |  0  | [ 0.37148523  1.0554171   0.6791971  -1.2719716 ]\n",
      "| 341 | source_2  20210808_ 108629290  C07 | JCP2022_014002 |  7424208359356777955 -  3  |   54.79000    4.00351   1.73870 |  0  | [ 0.8058493  -0.01907015  1.8070813   0.16001952]\n",
      "| 342 | source_1  Batch4_20 UL001765  AC23 | JCP2022_077549 |  7424451927096227208 -  8  |   52.82000    3.96689   1.72280 |  0  | [ 0.90144336  1.5686173   1.5540886  -1.0268992 ]\n",
      "| 343 | source_6  p210927CP 110000296  O12 | JCP2022_077549 |  7424451927096227208 -  8  |   52.82000    3.96689   1.72280 |  0  | [-0.04793334  0.42401934 -0.62482166 -0.96788925]\n",
      "| 344 | source_8  J1        A1170399   O12 | JCP2022_077549 |  7424451927096227208 -  8  |   52.82000    3.96689   1.72280 |  0  | [-1.1466093   3.5061374   0.47422862 -0.98992956]\n",
      "| 345 | source_8  J2        A1170446   A08 | JCP2022_071154 |  7424655043000691797 -  5  |   53.94000    3.98787   1.73191 |  0  | [-1.6489897  1.143177   2.1827211 -1.7564106]\n",
      "| 346 | source_1  Batch5_20 UL001773   A16 | JCP2022_071154 |  7424655043000691797 -  5  |   53.94000    3.98787   1.73191 |  0  | [-0.05783415 -1.3681192   0.4210456  -0.60371065]\n",
      "| 347 | source_3  CP_28_all SP20P23b   A08 | JCP2022_071154 |  7424655043000691797 -  5  |   53.94000    3.98787   1.73191 |  0  | [ 0.4892769  -0.05690861 -0.3865385  -0.64794374]\n",
      "| 348 | source_5  JUMPCPE-2 APTJUM125  M09 | JCP2022_032539 |  7424661092441831253 -  5  |   93.37000    4.53657   1.97021 |  0  | [ 0.02937555  1.7211819  -0.60942733 -0.00460601]\n",
      "| 349 | source_9  20211013- GR0000328 AC33 | JCP2022_032539 |  7424661092441831253 -  5  |   93.37000    4.53657   1.97021 |  0  | [ 0.2934351  -0.75429726 -0.32972717 -1.7044258 ]\n",
      "| 350 | source_11 Batch2    EC000045   F11 | JCP2022_032539 |  7424661092441831253 -  5  |   93.37000    4.53657   1.97021 |  0  | [-2.8192568   1.7509131   0.49305576 -0.48827416]\n",
      "| 351 | source_2  20211003_ 108628978  C13 | JCP2022_093726 |  7424875614586469200 -  0  |   58.81000    4.07431   1.76945 |  0  | [ 0.01892483  1.3303185   1.219992   -0.6506977 ]\n",
      "| 352 | source_1  Batch6_20 UL000577   S15 | JCP2022_093726 |  7424875614586469200 -  0  |   58.81000    4.07431   1.76945 |  0  | [ 1.6723955 -0.5025306 -0.6307802 -0.6903414]\n",
      "| 353 | source_8  J2        A1170465   J08 | JCP2022_093726 |  7424875614586469200 -  0  |   58.81000    4.07431   1.76945 |  0  | [ 1.1010165   0.722764    0.7854723  -0.32774627]\n",
      "| 354 | source_9  20210831- GR0000333  B08 | JCP2022_036065 |  7424884193011897613 - 13  |   54.71000    4.00205   1.73807 |  0  | [-0.42755556  3.4551907   0.79637265 -0.78086436]\n",
      "| 355 | source_9  20210831- GR0000333  B32 | JCP2022_036065 |  7424884193011897613 - 13  |   54.71000    4.00205   1.73807 |  0  | [-0.6512091  2.573309  -1.8832422  1.0040681]\n",
      "| 356 | source_9  20210831- GR0000333  R32 | JCP2022_036065 |  7424884193011897613 - 13  |   54.71000    4.00205   1.73807 |  0  | [-1.7280362   0.27584553  1.9330986   0.5120224 ]\n",
      "| 357 | source_10 2021_06_2 Dest21062  O19 | JCP2022_074758 |  7424986510288596881 -  1  |  110.31000    4.70329   2.04261 |  1  | [ 0.46398234  0.7383938   1.4820803  -6.3595777 ]\n",
      "| 358 | source_1  Batch5_20 UL001783   O21 | JCP2022_074758 |  7424986510288596881 -  1  |  110.31000    4.70329   2.04261 |  1  | [-0.01711392  3.1810865  -0.3469717  -0.7582135 ]\n",
      "| 359 | source_3  CP_32_all B40803aW   H11 | JCP2022_074758 |  7424986510288596881 -  1  |  110.31000    4.70329   2.04261 |  1  | [0.23121727 2.0164514  1.1288834  0.08286095]\n",
      "| 360 | source_6  p210824CP 110000293  K11 | JCP2022_025736 |  7425072768314678681 -  9  |  105.47000    4.65843   2.02313 |  1  | [-0.15421867  0.66799927  1.5673501  -1.2615279 ]\n",
      "| 361 | source_2  20211003_ 108628964  F19 | JCP2022_025736 |  7425072768314678681 -  9  |  105.47000    4.65843   2.02313 |  1  | [-1.2165174  -1.2150583  -0.35840893 -0.20930624]\n",
      "| 362 | source_3  CP_27_all J12284c    K11 | JCP2022_025736 |  7425072768314678681 -  9  |  105.47000    4.65843   2.02313 |  1  | [-0.8383448   1.9182644   0.49223757 -0.05587286]\n",
      "| 363 | source_6  p210906CP 110000294  D17 | JCP2022_075181 |  7425105193496874427 - 11  |   26.02000    3.25887   1.41531 |  0  | [ 0.08922982 -0.5177865   0.8160693  -0.6243793 ]\n",
      "| 364 | source_10 2021_06_1 Dest21061  H12 | JCP2022_075181 |  7425105193496874427 - 11  |   26.02000    3.25887   1.41531 |  0  | [-1.4242582   1.6820178   0.02052653  0.85254383]\n",
      "| 365 | source_8  J3        A1170500   D17 | JCP2022_075181 |  7425105193496874427 - 11  |   26.02000    3.25887   1.41531 |  0  | [ 0.1514144   0.20895672  0.5524691  -1.2690725 ]\n",
      "| 366 | source_8  J1        A1170387   C10 | JCP2022_031714 |  7425355990032497669 -  5  |   50.15000    3.91502   1.70027 |  0  | [ 1.1503444 -1.082984   1.4157641 -0.9585457]\n",
      "| 367 | source_10 2021_08_1 Dest21080  E17 | JCP2022_031714 |  7425355990032497669 -  5  |   50.15000    3.91502   1.70027 |  0  | [ 0.8398473   3.0441217   0.86298203 -1.2093852 ]\n",
      "| 368 | source_6  p210920CP 110000296  C10 | JCP2022_031714 |  7425355990032497669 -  5  |   50.15000    3.91502   1.70027 |  0  | [ 1.5255556  -0.52827644  2.0661972  -0.65600646]\n",
      "| 369 | source_6  p210824CP 110000293  D21 | JCP2022_014539 |  7425406089524129297 -  1  |   59.81000    4.09117   1.77677 |  0  | [-0.99709606  0.16989899  1.5445362   0.52687836]\n",
      "| 370 | source_3  CP_27_all J12284b    D21 | JCP2022_014539 |  7425406089524129297 -  1  |   59.81000    4.09117   1.77677 |  0  | [ 1.4040253  -0.35916138  1.2368224   0.12752366]\n",
      "| 371 | source_2  20210712_ 105359792  G20 | JCP2022_014539 |  7425406089524129297 -  1  |   59.81000    4.09117   1.77677 |  0  | [-0.09210062  2.613052    0.7671294  -2.1149733 ]\n",
      "| 372 | source_3  CP_33_all A12083bW   B05 | JCP2022_001108 |  7425668235708125043 -  3  |   93.55000    4.53850   1.97104 |  0  | [-0.01181936 -0.3055849   0.86451757 -1.7209768 ]\n",
      "| 373 | source_2  20210621_ 105359956  C08 | JCP2022_001108 |  7425668235708125043 -  3  |   93.55000    4.53850   1.97104 |  0  | [ 0.04148304 -1.4781394   1.9137263  -1.0504247 ]\n",
      "| 374 | source_8  J4        A1166147   B05 | JCP2022_001108 |  7425668235708125043 -  3  |   93.55000    4.53850   1.97104 |  0  | [-0.61607265  0.2852006   0.9905609  -1.3755591 ]\n",
      "| 375 | source_9  20210915- GR0000331  I19 | JCP2022_098658 |  7425724751230811500 - 12  |   23.55000    3.15913   1.37199 |  0  | [ 0.72810936  2.86649     0.34364152 -1.2112255 ]\n",
      "| 376 | source_5  JUMPCPE-2 ATSJUM214  I19 | JCP2022_098658 |  7425724751230811500 - 12  |   23.55000    3.15913   1.37199 |  0  | [-0.69332004  1.6601348   3.2164922  -1.345715  ]\n",
      "| 377 | source_5  JUMPCPE-2 ATSJUM114  I19 | JCP2022_098658 |  7425724751230811500 - 12  |   23.55000    3.15913   1.37199 |  0  | [ 0.46601677  0.99837303  3.2993128  -2.408314  ]\n",
      "| 378 | source_5  JUMPCPE-2 AETJUM116  G11 | JCP2022_041292 |  7425782882193978726 -  6  |   43.08000    3.76306   1.63428 |  0  | [ 0.8096447   0.7184553   1.3941214  -0.26590115]\n",
      "| 379 | source_9  20210825_ GR0000341  W35 | JCP2022_041292 |  7425782882193978726 -  6  |   43.08000    3.76306   1.63428 |  0  | [-0.8790989 -2.6610389  0.6625465  0.9802754]\n",
      "| 380 | source_11 Batch4    EC000118   G17 | JCP2022_041292 |  7425782882193978726 -  6  |   43.08000    3.76306   1.63428 |  0  | [ 0.03050995  0.93610287 -0.11483181 -0.26626688]\n",
      "| 381 | source_9  20210831- GR0000333  R06 | JCP2022_033491 |  7426102752676859920 -  0  |   72.64000    4.28552   1.86118 |  0  | [-0.3408394  7.7265396  7.465579   5.945709 ]\n",
      "| 382 | source_11 Batch3    EC000152   C12 | JCP2022_033491 |  7426102752676859920 -  0  |   72.64000    4.28552   1.86118 |  0  | [-4.1123743  5.173376   4.4240375 -0.8607011]\n",
      "| 383 | source_9  20210831- GR0000333  B06 | JCP2022_033491 |  7426102752676859920 -  0  |   72.64000    4.28552   1.86118 |  0  | [-0.85730267  5.6161118   6.593749    7.468471  ]\n",
      "| 384 | source_2  20210823_ 108629194  I03 | JCP2022_097753 |  7426280646799839145 -  9  |   77.84000    4.35466   1.89120 |  0  | [-0.5958307 -1.4951539  2.1514363 -1.7968212]\n",
      "| 385 | source_3  CP59      BR5871a3   E03 | JCP2022_097753 |  7426280646799839145 -  9  |   77.84000    4.35466   1.89120 |  0  | [ 0.5904784  -0.19731426  1.5602194  -1.1019425 ]\n",
      "| 386 | source_8  J3        A1170529   E03 | JCP2022_097753 |  7426280646799839145 -  9  |   77.84000    4.35466   1.89120 |  0  | [ 0.7248883  -0.7702489   0.08745694 -0.5381711 ]\n",
      "| 387 | source_6  p210928CP 110000296  J17 | JCP2022_084499 |  7426514466524800898 -  2  |   64.28000    4.16325   1.80808 |  0  | [-0.9296999   1.548656    0.14846152 -0.02291769]\n",
      "| 388 | source_3  CP_32_all B40703dW   J17 | JCP2022_084499 |  7426514466524800898 -  2  |   64.28000    4.16325   1.80808 |  0  | [0.12150526 0.91180706 1.9643764  0.730062  ]\n",
      "| 389 | source_10 2021_08_2 Dest21081  D12 | JCP2022_084499 |  7426514466524800898 -  2  |   64.28000    4.16325   1.80808 |  0  | [-0.10050321  2.819888   -0.20439208 -3.2975347 ]\n",
      "| 390 | source_11 Batch2    EC000054   E22 | JCP2022_019595 |  7426654678346657308 - 12  |   73.22000    4.29347   1.86463 |  0  | [-0.8302555  3.2909923  0.2742809  0.6443841]\n",
      "| 391 | source_9  20211103- GR0000441  T33 | JCP2022_019595 |  7426654678346657308 - 12  |   73.22000    4.29347   1.86463 |  0  | [ 0.13686013 -0.28309774 -1.5127925  -0.6328068 ]\n",
      "| 392 | source_9  20211103- GR0000441  T09 | JCP2022_019595 |  7426654678346657308 - 12  |   73.22000    4.29347   1.86463 |  0  | [ 0.6442635  0.5290127  1.5395894 -1.96221  ]\n",
      "| 393 | source_10 2021_06_2 Dest21062  N11 | JCP2022_102481 |  7426737838555066642 -  2  |   78.53000    4.36348   1.89504 |  0  | [-0.18871307 -1.1394496   2.4336574  -3.5230796 ]\n",
      "| 394 | source_3  CP_32_all B40503cW   G17 | JCP2022_102481 |  7426737838555066642 -  2  |   78.53000    4.36348   1.89504 |  0  | [-1.3131772  2.6855822 -1.1721134  0.8151454]\n",
      "| 395 | source_6  p210928CP 110000296  G17 | JCP2022_102481 |  7426737838555066642 -  2  |   78.53000    4.36348   1.89504 |  0  | [-1.8320718   0.00572872  0.536257   -3.0044184 ]\n",
      "| 396 | source_3  CP_26_all J12455a    H12 | JCP2022_012487 |  7426784136196223117 - 13  |   67.98000    4.21921   1.83238 |  0  | [-0.09433246  1.7102022   0.02403247 -1.1794916 ]\n",
      "| 397 | source_2  20210719_ 108629397  O21 | JCP2022_012487 |  7426784136196223117 - 13  |   67.98000    4.21921   1.83238 |  0  | [0.8445332  0.03220987 2.0435338  0.6818954 ]\n",
      "| 398 | source_1  Batch6_20 UL000587   O23 | JCP2022_012487 |  7426784136196223117 - 13  |   67.98000    4.21921   1.83238 |  0  | [ 0.05139017  0.7413697   1.7862282  -1.2868978 ]\n",
      "| 399 | source_3  CP_29_all SP36P38a   F03 | JCP2022_034625 |  7426908706412803220 -  4  |   23.55000    3.15913   1.37199 |  0  | [ 0.26921558 -0.3086033  -1.0383835  -1.086293  ]\n",
      "| 400 | source_1  Batch6_20 UL000599   K05 | JCP2022_034625 |  7426908706412803220 -  4  |   23.55000    3.15913   1.37199 |  0  | [ 0.23881245  0.45881748  1.476455   -0.45055395]\n",
      "| 401 | source_2  20210726_ 108629342  K03 | JCP2022_034625 |  7426908706412803220 -  4  |   23.55000    3.15913   1.37199 |  0  | [-0.84495926  1.1802802  -0.36081862  1.1594987 ]\n",
      "| 402 | source_9  20211013- GR0000328  L37 | JCP2022_086779 |  7426910947148246500 -  4  |   83.31000    4.42257   1.92070 |  0  | [ 1.0483503   0.02059746  0.4996171  -1.3699343 ]\n",
      "| 403 | source_9  20211013- GR0000328  L13 | JCP2022_086779 |  7426910947148246500 -  4  |   83.31000    4.42257   1.92070 |  0  | [ 0.45085406  1.8324442   0.39444113 -0.47916138]\n",
      "| 404 | source_9  20211013- GR0000328 AB13 | JCP2022_086779 |  7426910947148246500 -  4  |   83.31000    4.42257   1.92070 |  0  | [ 0.02322197  1.113347    0.5711371  -0.75099766]\n",
      "| 405 | source_1  Batch2_20 UL001647  AB27 | JCP2022_011139 |  7427008487818683111 -  7  |  121.63000    4.80098   2.08504 |  1  | [-0.76481414  1.1747713   0.60367316 -1.1562624 ]\n",
      "| 406 | source_3  CP_25_all C13459cW   N14 | JCP2022_011139 |  7427008487818683111 -  7  |  121.63000    4.80098   2.08504 |  1  | [-0.34988666  2.5145302   0.40202147 -0.22285652]\n",
      "| 407 | source_8  J4        A1166152   N14 | JCP2022_011139 |  7427008487818683111 -  7  |  121.63000    4.80098   2.08504 |  1  | [ 0.49902916  0.5022712   0.62650627 -1.0763352 ]\n",
      "| 408 | source_5  JUMPCPE-2 AEOJUM701  P19 | JCP2022_064091 |  7427219187744703803 - 11  |   57.13000    4.04533   1.75686 |  0  | [ 0.47983456 -2.1961737   0.14910173 -2.8252168 ]\n",
      "| 409 | source_1  Batch4_20 UL000083   T35 | JCP2022_064091 |  7427219187744703803 - 11  |   57.13000    4.04533   1.75686 |  0  | [0.02805912 1.4532089  0.41571105 0.1636616 ]\n",
      "| 410 | source_6  p210927CP 110000296  J18 | JCP2022_064091 |  7427219187744703803 - 11  |   57.13000    4.04533   1.75686 |  0  | [-2.425317    1.8879824   0.68037236 -0.77177894]\n",
      "| 411 | source_10 2021_08_2 Dest21082  C17 | JCP2022_090159 |  7427307418428018237 - 13  |   80.07000    4.38290   1.90347 |  0  | [ 0.34304476 -0.17585659  1.0065825  -0.6851255 ]\n",
      "| 412 | source_6  p210927CP 110000296  J20 | JCP2022_090159 |  7427307418428018237 - 13  |   80.07000    4.38290   1.90347 |  0  | [-0.9447162  -0.15036297  1.2223418  -0.5543825 ]\n",
      "| 413 | source_1  Batch6_20 UL000585   S39 | JCP2022_090159 |  7427307418428018237 - 13  |   80.07000    4.38290   1.90347 |  0  | [ 0.1827879   0.6844373  -0.17930812 -0.03794086]\n",
      "| 414 | source_9  20210831- GR0000333  Z36 | JCP2022_051607 |  7427572528003559345 -  1  |  129.92000    4.86692   2.11368 |  1  | [-0.552109   -0.8916559   0.23276937 -0.9796919 ]\n",
      "| 415 | source_9  20210831- GR0000333  Z12 | JCP2022_051607 |  7427572528003559345 -  1  |  129.92000    4.86692   2.11368 |  1  | [-1.1504192  -0.83941984  0.17529035  0.89555454]\n",
      "| 416 | source_5  JUMPCPE-2 AETJUM117  J12 | JCP2022_051607 |  7427572528003559345 -  1  |  129.92000    4.86692   2.11368 |  1  | [-1.1232761   0.9348855   1.1063697  -0.78652257]\n",
      "| 417 | source_1  Batch6_20 UL000599  AC19 | JCP2022_033292 |  7427647384828971529 -  9  |  112.49000    4.72286   2.05111 |  1  | [ 0.06635618 -1.3041177  -0.52809894 -0.2093172 ]\n",
      "| 418 | source_8  J1        A1170427   O10 | JCP2022_033292 |  7427647384828971529 -  9  |  112.49000    4.72286   2.05111 |  1  | [ 0.14687753  1.1117749   0.2749133  -0.49643898]\n",
      "| 419 | source_10 2021_08_2 Dest21082  N18 | JCP2022_033292 |  7427647384828971529 -  9  |  112.49000    4.72286   2.05111 |  1  | [-0.36504066  2.6535716   1.4293661  -0.64516306]\n",
      "| 420 | source_11 Batch5    EC000098   G15 | JCP2022_016096 |  7427798417527286664 -  8  |   64.11000    4.16060   1.80693 |  0  | [ 0.13766193 -0.2942629  -1.0840156  -2.1985304 ]\n",
      "| 421 | source_9  20210918- GR0000437  E11 | JCP2022_016096 |  7427798417527286664 -  8  |   64.11000    4.16060   1.80693 |  0  | [-0.9233389  -0.19255352  0.28995752 -3.3447104 ]\n",
      "| 422 | source_5  JUMPCPE-2 ATSJUM228  E11 | JCP2022_016096 |  7427798417527286664 -  8  |   64.11000    4.16060   1.80693 |  0  | [-1.0744901   0.5958233   0.4455061  -0.09923291]\n",
      "| 423 | source_6  p210920CP 110000296  K15 | JCP2022_065420 |  7427973312030652577 -  1  |   54.56000    3.99930   1.73687 |  0  | [-2.0167503  6.206375   5.5732756  2.1606917]\n",
      "| 424 | source_8  J1        A1170415   K15 | JCP2022_065420 |  7427973312030652577 -  1  |   54.56000    3.99930   1.73687 |  0  | [ 2.2368307  11.025488    1.3098605  -0.77792287]\n",
      "| 425 | source_1  Batch2_20 UL001673   U29 | JCP2022_065420 |  7427973312030652577 -  1  |   54.56000    3.99930   1.73687 |  0  | [-2.650039  8.358759  1.67785   7.338253]\n",
      "| 426 | source_9  20210831- GR0000333  L27 | JCP2022_036867 |  7428153161256918588 - 12  |   87.49000    4.47152   1.94196 |  0  | [-2.8983483 -1.5508451  3.4053621  1.5358126]\n",
      "| 427 | source_5  JUMPCPE-2 AETJUM123  L03 | JCP2022_036867 |  7428153161256918588 - 12  |   87.49000    4.47152   1.94196 |  0  | [-0.9020474  -0.4746151  -0.40989876 -2.389465  ]\n",
      "| 428 | source_11 Batch4    EC000125   A14 | JCP2022_036867 |  7428153161256918588 - 12  |   87.49000    4.47152   1.94196 |  0  | [ 0.8735051   3.5286746  -0.40813866 -2.1065865 ]\n",
      "| 429 | source_5  JUMPCPE-2 ATSJUM202  K22 | JCP2022_096646 |  7428231439873876451 -  3  |   76.57000    4.33821   1.88406 |  0  | [-0.37429452  0.5411148   1.0891194   0.26951998]\n",
      "| 430 | source_9  20210914- GR0000329  K22 | JCP2022_096646 |  7428231439873876451 -  3  |   76.57000    4.33821   1.88406 |  0  | [-0.37809312  2.2822838  -0.2722234  -0.91561824]\n",
      "| 431 | source_5  JUMPCPE-2 ATSJUM502  K22 | JCP2022_096646 |  7428231439873876451 -  3  |   76.57000    4.33821   1.88406 |  0  | [-1.9661262  -1.4950986  -0.11180556 -2.763569  ]\n",
      "| 432 | source_5  JUMPCPE-2 ATSJUM113  B08 | JCP2022_055145 |  7428421846802103314 -  2  |   82.61000    4.41413   1.91703 |  0  | [ 1.4780602  -0.8429127  -0.00887907 -1.9382892 ]\n",
      "| 433 | source_9  20210915- GR0000331  B08 | JCP2022_055145 |  7428421846802103314 -  2  |   82.61000    4.41413   1.91703 |  0  | [-1.150598    0.54558086  1.1172104   0.56018806]\n",
      "| 434 | source_11 Batch5    EC000083   E04 | JCP2022_055145 |  7428421846802103314 -  2  |   82.61000    4.41413   1.91703 |  0  | [-0.13623309  0.7267771  -0.04078197 -0.72751385]\n",
      "| 435 | source_3  CP_33_all A12079cW   O20 | JCP2022_078358 |  7428529442455898716 - 12  |   98.44000    4.58945   1.99317 |  0  | [-0.04097152  2.8519564  -0.09981215  0.30232787]\n",
      "| 436 | source_2  20210808_ 108629285  N17 | JCP2022_078358 |  7428529442455898716 - 12  |   98.44000    4.58945   1.99317 |  0  | [ 0.34203124 -0.1523962   1.2730651  -0.41464627]\n",
      "| 437 | source_8  J4        A1166156   O20 | JCP2022_078358 |  7428529442455898716 - 12  |   98.44000    4.58945   1.99317 |  0  | [-0.2083559  -0.02233505  0.5042591  -1.6724465 ]\n",
      "| 438 | source_6  p211109CP 110000296  N16 | JCP2022_089669 |  7428720526979226647 -  7  |   90.93000    4.51009   1.95871 |  0  | [-0.4441495  -0.79615164  1.8328195   0.6391555 ]\n",
      "| 439 | source_10 2021_06_1 Dest21061  K09 | JCP2022_089669 |  7428720526979226647 -  7  |   90.93000    4.51009   1.95871 |  0  | [ 0.359097    0.32396793 -1.2844923  -0.8661202 ]\n",
      "| 440 | source_2  20210614_ 105360074  K09 | JCP2022_089669 |  7428720526979226647 -  7  |   90.93000    4.51009   1.95871 |  0  | [-0.3331288  -0.26087475  2.7369     -0.4102447 ]\n",
      "| 441 | source_2  20210614_ 105360082  A18 | JCP2022_111222 |  7428724248131525946 - 10  |   60.43000    4.10149   1.78125 |  0  | [-0.9881797   1.0683298   0.9696801   0.72877586]\n",
      "| 442 | source_8  J2        A1170482   I20 | JCP2022_111222 |  7428724248131525946 - 10  |   60.43000    4.10149   1.78125 |  0  | [-0.7513089  -0.02965832 -0.2222783   0.45400095]\n",
      "| 443 | source_6  p210914CP 110000296  I20 | JCP2022_111222 |  7428724248131525946 - 10  |   60.43000    4.10149   1.78125 |  0  | [ 0.00817013  1.4373326   1.8973595  -0.7442659 ]\n",
      "| 444 | source_10 2021_06_0 Dest21060  O17 | JCP2022_013511 |  7428731623903708840 -  8  |   30.19000    3.40751   1.47986 |  0  | [-0.7608688  -0.25101042  0.73422885 -1.8959856 ]\n",
      "| 445 | source_8  J2        A1170481   P10 | JCP2022_013511 |  7428731623903708840 -  8  |   30.19000    3.40751   1.47986 |  0  | [-0.05534935  0.43063402 -0.4122699  -1.2553027 ]\n",
      "| 446 | source_6  p210914CP 110000296  P10 | JCP2022_013511 |  7428731623903708840 -  8  |   30.19000    3.40751   1.47986 |  0  | [ 0.37048674 -0.0873847   0.73365366 -1.1052547 ]\n",
      "| 447 | source_6  p210920CP 110000296  A18 | JCP2022_066375 |  7428758270803642432 -  0  |   65.37000    4.18006   1.81538 |  0  | [ 1.0318398  -0.18766403  1.1360294  -3.465487  ]\n",
      "| 448 | source_1  Batch3_20 UL000087   B36 | JCP2022_066375 |  7428758270803642432 -  0  |   65.37000    4.18006   1.81538 |  0  | [ 0.03762722 -0.99210644  1.3222106  -1.7513868 ]\n",
      "| 449 | source_10 2021_08_0 Dest21072  B14 | JCP2022_066375 |  7428758270803642432 -  0  |   65.37000    4.18006   1.81538 |  0  | [ 0.4871353 -0.5195513  1.3069489 -2.5913324]\n",
      "| 450 | source_8  J4        A1166176   H16 | JCP2022_091496 |  7428801850674473676 - 12  |   35.83000    3.57879   1.55425 |  0  | [ 0.7679939   1.8152561  -0.21501422  0.6668743 ]\n",
      "| 451 | source_3  CP_25_all C13487cW   H16 | JCP2022_091496 |  7428801850674473676 - 12  |   35.83000    3.57879   1.55425 |  0  | [-1.155715    0.8187094   0.26408827  0.28318363]\n",
      "| 452 | source_2  20210621_ 105359967  P09 | JCP2022_091496 |  7428801850674473676 - 12  |   35.83000    3.57879   1.55425 |  0  | [2.6351793  0.19694614 0.44065726 2.0899503 ]\n",
      "| 453 | source_3  CP59      BR5871d3   O15 | JCP2022_069742 |  7428952611472262541 - 13  |   79.37000    4.37412   1.89966 |  0  | [ 0.19945979  0.76400614  0.03947675 -0.26110697]\n",
      "| 454 | source_3  CP_35_all BAY5871d   O15 | JCP2022_069742 |  7428952611472262541 - 13  |   79.37000    4.37412   1.89966 |  0  | [ 0.34641552  1.8085508   0.15421766 -0.2738024 ]\n",
      "| 455 | source_6  p211012CP 110000295  O15 | JCP2022_069742 |  7428952611472262541 - 13  |   79.37000    4.37412   1.89966 |  0  | [ 1.269932    0.05002594  1.430796   -1.6590328 ]\n",
      "| 456 | source_9  20211013- GR0000328  P43 | JCP2022_031687 |  7428982381070434574 - 14  |   72.41000    4.28234   1.85980 |  0  | [-2.8898683   0.8093939   1.2991328   0.09845233]\n",
      "| 457 | source_11 Batch2    EC000051   N14 | JCP2022_031687 |  7428982381070434574 - 14  |   72.41000    4.28234   1.85980 |  0  | [-0.3423481   0.24197483 -1.5841451  -0.42893934]\n",
      "| 458 | source_5  JUMPCPE-2 APTJUM231  P19 | JCP2022_031687 |  7428982381070434574 - 14  |   72.41000    4.28234   1.85980 |  0  | [-1.5177777   1.3273182   1.228486    0.08878756]\n",
      "| 459 | source_5  JUMPCPE-2 AETJUM226  E09 | JCP2022_043684 |  7429052193708380996 -  4  |   90.35000    4.50369   1.95593 |  0  | [ 0.18235874 -1.0434828  -0.47879624 -1.2544662 ]\n",
      "| 460 | source_11 Batch4    EC000128   F03 | JCP2022_043684 |  7429052193708380996 -  4  |   90.35000    4.50369   1.95593 |  0  | [ 2.166356   1.4634194 -2.4155169 -2.5709655]\n",
      "| 461 | source_9  20210901_ GR0000331  U09 | JCP2022_043684 |  7429052193708380996 -  4  |   90.35000    4.50369   1.95593 |  0  | [ 0.51565146 -1.5300813   0.4086902  -0.78453696]\n",
      "| 462 | source_11 Batch3    EC000134   C03 | JCP2022_103111 |  7429090158903461416 -  8  |  121.90000    4.80320   2.08600 |  1  | [ 0.21813726  0.9839897  -0.33587897 -2.5983102 ]\n",
      "| 463 | source_9  20210824- GR0000338  Y29 | JCP2022_103111 |  7429090158903461416 -  8  |  121.90000    4.80320   2.08600 |  1  | [-1.604774    1.6014185  -0.88507813  0.20800638]\n",
      "| 464 | source_9  20210824- GR0000338  I05 | JCP2022_103111 |  7429090158903461416 -  8  |  121.90000    4.80320   2.08600 |  1  | [-0.86703706 -1.1860533   1.5762448   0.02918148]\n",
      "| 465 | source_1  Batch2_20 UL001647   K43 | JCP2022_069390 |  7429288784394887117 - 13  |   77.32000    4.34795   1.88829 |  0  | [ 0.5262959   0.06672382  1.2608106  -1.2652311 ]\n",
      "| 466 | source_2  20210808_ 108629283  K21 | JCP2022_069390 |  7429288784394887117 - 13  |   77.32000    4.34795   1.88829 |  0  | [-0.5638827  -0.48176956  1.5739678   0.28101635]\n",
      "| 467 | source_8  J4        A1166150   F22 | JCP2022_069390 |  7429288784394887117 - 13  |   77.32000    4.34795   1.88829 |  0  | [-0.09510708 -0.50634     0.04852974 -1.4912823 ]\n",
      "| 468 | source_3  CP_28_all SP01P04b   B10 | JCP2022_060779 |  7429353416623391459 -  3  |  100.59000    4.61105   2.00255 |  1  | [-0.22862303  1.6243954  -0.28945374 -0.37654668]\n",
      "| 469 | source_10 2021_06_0 Dest21060  C17 | JCP2022_060779 |  7429353416623391459 -  3  |  100.59000    4.61105   2.00255 |  1  | [-0.812073   1.8928156  1.2890962 -5.586543 ]\n",
      "| 470 | source_1  Batch6_20 UL000577   C20 | JCP2022_060779 |  7429353416623391459 -  3  |  100.59000    4.61105   2.00255 |  1  | [-1.4543715   2.0701594   0.5739646  -0.53690696]\n",
      "| 471 | source_10 2021_06_1 Dest21061  E07 | JCP2022_054449 |  7429665024227353167 - 15  |   68.01000    4.21965   1.83257 |  0  | [-0.08948052 -1.6205015  -0.05515671  0.08077145]\n",
      "| 472 | source_6  p211109CP 110000295  K05 | JCP2022_054449 |  7429665024227353167 - 15  |   68.01000    4.21965   1.83257 |  0  | [ 0.04344094  1.3092833   1.2521517  -0.06748843]\n",
      "| 473 | source_8  J3        A1170501   K05 | JCP2022_054449 |  7429665024227353167 - 15  |   68.01000    4.21965   1.83257 |  0  | [-0.9447229   1.2208352   0.85742795  0.26255655]\n",
      "| 474 | source_11 Batch2    EC000052   N07 | JCP2022_091482 |  7429809460771614017 -  1  |   49.81000    3.90822   1.69732 |  0  | [ 0.4145677   0.88176966  0.34150183 -1.5113081 ]\n",
      "| 475 | source_9  20211013- GR0000328  I43 | JCP2022_091482 |  7429809460771614017 -  1  |   49.81000    3.90822   1.69732 |  0  | [-0.74354124  1.8269081   0.4304843  -1.9021533 ]\n",
      "| 476 | source_5  JUMPCPE-2 APTJUM232  I19 | JCP2022_091482 |  7429809460771614017 -  1  |   49.81000    3.90822   1.69732 |  0  | [-0.41027546  2.5577807   1.9119031  -1.1787299 ]\n",
      "| 477 | source_1  Batch2_20 UL001675   Y19 | JCP2022_026145 |  7430063231105787405 - 13  |  113.77000    4.73418   2.05603 |  1  | [-1.6854682  1.9080639  1.4384402  0.3288523]\n",
      "| 478 | source_8  J1        A1170403   M10 | JCP2022_026145 |  7430063231105787405 - 13  |  113.77000    4.73418   2.05603 |  1  | [-0.4262793   1.7038355   0.25643897 -1.7871403 ]\n",
      "| 479 | source_6  p211123CP 110000297  M10 | JCP2022_026145 |  7430063231105787405 - 13  |  113.77000    4.73418   2.05603 |  1  | [-0.32817554  1.3652754   0.09417289 -1.9121935 ]\n",
      "| 480 | source_3  CP59      BR5870c3   A18 | JCP2022_016032 |  7430310672103053594 - 10  |   50.91000    3.93006   1.70680 |  0  | [ 1.6636031  -1.0383062  -0.68093586 -0.26772773]\n",
      "| 481 | source_2  20210816_ 108629230  I13 | JCP2022_016032 |  7430310672103053594 - 10  |   50.91000    3.93006   1.70680 |  0  | [ 0.18900275  1.3376226   1.1474484  -0.8314232 ]\n",
      "| 482 | source_3  CP59      BR5868d3   D06 | JCP2022_016032 |  7430310672103053594 - 10  |   50.91000    3.93006   1.70680 |  0  | [ 0.5332768   0.8495064   0.12844968 -1.8433548 ]\n",
      "| 483 | source_5  JUMPCPE-2 APTJUM415  L08 | JCP2022_093105 |  7430316755209783883 - 11  |   67.60000    4.21361   1.82995 |  0  | [-3.7459838  3.1863441  1.5764301  0.7332802]\n",
      "| 484 | source_9  20211103- GR0000440  L08 | JCP2022_093105 |  7430316755209783883 - 11  |   67.60000    4.21361   1.82995 |  0  | [-1.6279106  2.943305   1.8208203  1.6970887]\n",
      "| 485 | source_11 Batch1    EC000031   E14 | JCP2022_093105 |  7430316755209783883 - 11  |   67.60000    4.21361   1.82995 |  0  | [ 1.2324436   2.196292   -0.05629742 -1.7552615 ]\n",
      "| 486 | source_11 Batch2    EC000065   G13 | JCP2022_034400 |  7430346653072508187 - 11  |   75.51000    4.32427   1.87800 |  0  | [ 0.6969819  2.978178  -1.7850062 -1.6369429]\n",
      "| 487 | source_5  JUMPCPE-2 APTJUM128  C11 | JCP2022_034400 |  7430346653072508187 - 11  |   75.51000    4.32427   1.87800 |  0  | [ 0.57736635 -2.2158232   1.7391433  -2.1549084 ]\n",
      "| 488 | source_9  20211013- GR0000328  S11 | JCP2022_034400 |  7430346653072508187 - 11  |   75.51000    4.32427   1.87800 |  0  | [ 0.44025302 -0.5956087   0.79354024  1.0984856 ]\n",
      "| 489 | source_5  JUMPCPE-2 AETJUM123  C09 | JCP2022_053235 |  7430354368538139541 -  5  |   61.44000    4.11806   1.78845 |  0  | [ 0.05074143  0.29276085  0.95035183 -1.5889184 ]\n",
      "| 490 | source_11 Batch3    EC000155   E21 | JCP2022_053235 |  7430354368538139541 -  5  |   61.44000    4.11806   1.78845 |  0  | [ 0.4916935   3.2779932   0.34782314 -0.99397904]\n",
      "| 491 | source_9  20210831- GR0000333  C09 | JCP2022_053235 |  7430354368538139541 -  5  |   61.44000    4.11806   1.78845 |  0  | [ 1.7101862  -0.04297924  0.5235865  -0.7527412 ]\n",
      "| 492 | source_1  Batch1_20 UL001643   H36 | JCP2022_066417 |  7430485505584264156 - 12  |   56.49000    4.03406   1.75197 |  0  | [-1.2538614   2.7869148   0.5855627  -0.37573218]\n",
      "| 493 | source_8  J4        A1166165   D18 | JCP2022_066417 |  7430485505584264156 - 12  |   56.49000    4.03406   1.75197 |  0  | [-1.4982929  1.4249954  2.3756297  1.1547525]\n",
      "| 494 | source_2  20211003_ 108628970  H14 | JCP2022_066417 |  7430485505584264156 - 12  |   56.49000    4.03406   1.75197 |  0  | [-2.2811718   5.7485027   1.1906471  -0.79172456]\n",
      "| 495 | source_8  J4        A1166135   H20 | JCP2022_007309 |  7430608874130368154 - 10  |   93.06000    4.53324   1.96876 |  0  | [-0.01161993 -0.4317751   0.34462488 -1.0992241 ]\n",
      "| 496 | source_3  CP60      BR5876b3   H20 | JCP2022_007309 |  7430608874130368154 - 10  |   93.06000    4.53324   1.96876 |  0  | [-0.48621297  1.3365021   0.33325613 -0.25893497]\n",
      "| 497 | source_7  20210731_ CP6-SC1-0  J11 | JCP2022_007309 |  7430608874130368154 - 10  |   93.06000    4.53324   1.96876 |  0  | [-0.21899462  0.38083744  1.1051433  -1.2801545 ]\n",
      "| 498 | source_3  CP_31_all B040303d   P22 | JCP2022_037578 |  7430718261136948351 - 15  |   46.84000    3.84674   1.67062 |  0  | [ 0.15551901 -1.8138657  -1.5467259   0.00498307]\n",
      "| 499 | source_6  p211123CP 110000297  P22 | JCP2022_037578 |  7430718261136948351 - 15  |   46.84000    3.84674   1.67062 |  0  | [ 0.84320426  0.45423603  2.783727   -0.7118343 ]\n",
      "| 500 | source_10 2021_06_2 Dest21062  P22 | JCP2022_037578 |  7430718261136948351 - 15  |   46.84000    3.84674   1.67062 |  0  | [-0.0084846  -0.16671419  3.5260813  -5.069601  ]\n",
      "| 501 | source_6  p210824CP 110000293  J08 | JCP2022_005723 |  7430817150057752116 -  4  |  113.77000    4.73418   2.05603 |  1  | [ 0.05643272  1.7342143   2.2439916  -1.3725275 ]\n",
      "| 502 | source_2  20210719_ 108629399  D14 | JCP2022_005723 |  7430817150057752116 -  4  |  113.77000    4.73418   2.05603 |  1  | [-0.83358693 -1.5372262   3.4432178   1.322213  ]\n",
      "| 503 | source_10 2021_08_1 Dest21080  D14 | JCP2022_005723 |  7430817150057752116 -  4  |  113.77000    4.73418   2.05603 |  1  | [ 0.8612957 -0.3247738  1.4229513 -1.119132 ]\n",
      "| 504 | source_2  20210816_ 108629242  C20 | JCP2022_033070 |  7430850748514792639 - 15  |   58.62000    4.07108   1.76805 |  0  | [ 2.0294075  2.7306328 -2.3969007 -2.3348062]\n",
      "| 505 | source_3  CP_35_all BAY5870b   B11 | JCP2022_033070 |  7430850748514792639 - 15  |   58.62000    4.07108   1.76805 |  0  | [-0.04488087 -0.17796516  1.338656   -1.4982047 ]\n",
      "| 506 | source_6  p211012CP 110000295  B11 | JCP2022_033070 |  7430850748514792639 - 15  |   58.62000    4.07108   1.76805 |  0  | [-3.1446793 -1.7480068  1.602531  -3.459448 ]\n",
      "| 507 | source_10 2021_05_3 Dest21053  H13 | JCP2022_088771 |  7430939737076747274 - 10  |   69.72000    4.24449   1.84336 |  0  | [-1.1892767   0.9887943   0.35862827 -0.984017  ]\n",
      "| 508 | source_1  Batch6_20 UL000581   W15 | JCP2022_088771 |  7430939737076747274 - 10  |   69.72000    4.24449   1.84336 |  0  | [-0.08112073 -0.02054453  0.00926208 -1.3407218 ]\n",
      "| 509 | source_2  20210802_ 108629317  G13 | JCP2022_088771 |  7430939737076747274 - 10  |   69.72000    4.24449   1.84336 |  0  | [-0.7835566  -0.8160353   2.0961215  -0.24553454]\n",
      "| 510 | source_9  20211103- GR0000441 AE36 | JCP2022_049176 |  7431114129111514309 -  5  |   83.54000    4.42533   1.92189 |  0  | [-1.566649    3.3291507  -1.3635339  -0.45748436]\n",
      "| 511 | source_9  20211103- GR0000442  O36 | JCP2022_049176 |  7431114129111514309 -  5  |   83.54000    4.42533   1.92189 |  0  | [ 0.7608378  3.0482426  0.3946222 -1.9598005]\n",
      "| 512 | source_5  JUMPCPE-2 APTJUM217  O12 | JCP2022_049176 |  7431114129111514309 -  5  |   83.54000    4.42533   1.92189 |  0  | [-3.243855   1.0462723 -1.3573678 -1.0206432]\n",
      "| 513 | source_3  CP_32_all B40703aW   M20 | JCP2022_070923 |  7431131906991516224 -  0  |   62.62000    4.13708   1.79671 |  0  | [ 0.45756793  0.22902966  1.9531442  -0.63202107]\n",
      "| 514 | source_10 2021_08_2 Dest21081  I17 | JCP2022_070923 |  7431131906991516224 -  0  |   62.62000    4.13708   1.79671 |  0  | [ 0.11664295  4.358741   -0.925339   -3.3654695 ]\n",
      "| 515 | source_1  Batch5_20 UL001791   Y39 | JCP2022_070923 |  7431131906991516224 -  0  |   62.62000    4.13708   1.79671 |  0  | [ 0.5718839   2.2601976   1.8116486  -0.64093053]\n",
      "| 516 | source_11 Batch3    EC000141   M18 | JCP2022_056335 |  7431396185933890814 - 14  |   58.64000    4.07142   1.76819 |  0  | [-0.48081768  0.59290886 -1.0196142  -0.5647638 ]\n",
      "| 517 | source_9  20210825_ GR0000339 AF42 | JCP2022_056335 |  7431396185933890814 - 14  |   58.64000    4.07142   1.76819 |  0  | [-3.5888755  5.261647  -2.071894   2.3066475]\n",
      "| 518 | source_9  20210825_ GR0000339 AF18 | JCP2022_056335 |  7431396185933890814 - 14  |   58.64000    4.07142   1.76819 |  0  | [-2.191374   2.156385  -0.8606256  2.274057 ]\n",
      "| 519 | source_8  J4        A1166171   J15 | JCP2022_054073 |  7431507258206291797 -  5  |   68.46000    4.22625   1.83544 |  0  | [ 0.6030209  2.175684   1.2092953 -0.7115044]\n",
      "| 520 | source_3  CP_34_mix A13451bW   J15 | JCP2022_054073 |  7431507258206291797 -  5  |   68.46000    4.22625   1.83544 |  0  | [-0.01102602  2.992363   -0.32021672 -0.37131947]\n",
      "| 521 | source_1  Batch1_20 UL001641   S30 | JCP2022_054073 |  7431507258206291797 -  5  |   68.46000    4.22625   1.83544 |  0  | [-0.02998424  0.35205078 -1.1125505   0.26768064]\n",
      "| 522 | source_8  J3        A1170528   I04 | JCP2022_043285 |  7431654279164553207 -  7  |   26.03000    3.25925   1.41547 |  0  | [0.02279949 1.7398133  0.9028523  0.1420883 ]\n",
      "| 523 | source_2  20210816_ 108629240  B06 | JCP2022_043285 |  7431654279164553207 -  7  |   26.03000    3.25925   1.41547 |  0  | [ 0.28995848 -1.5212612   1.8877488   0.33123457]\n",
      "| 524 | source_1  Batch5_20 UL001713   D36 | JCP2022_043285 |  7431654279164553207 -  7  |   26.03000    3.25925   1.41547 |  0  | [ 0.99852824  1.1389861   1.2485434  -0.35989976]\n",
      "| 525 | source_10 2021_06_0 Dest21060  N05 | JCP2022_028519 |  7431671477581420879 - 15  |   42.43000    3.74786   1.62767 |  0  | [ 1.5654657  1.2510395  4.598242  -6.744821 ]\n",
      "| 526 | source_3  CP_29_all SP28P31b   G04 | JCP2022_028519 |  7431671477581420879 - 15  |   42.43000    3.74786   1.62767 |  0  | [ 0.5390754   2.5336304  -0.16131687  0.1445322 ]\n",
      "| 527 | source_2  20210726_ 108629351  M06 | JCP2022_028519 |  7431671477581420879 - 15  |   42.43000    3.74786   1.62767 |  0  | [-0.2947018   0.7797723   1.8010728  -0.90899265]\n",
      "| 528 | source_1  Batch5_20 UL001791   Z11 | JCP2022_116401 |  7432112079727565994 - 10  |   96.42000    4.56871   1.98417 |  0  | [-1.1121931   2.0145783   0.1821475   0.49231946]\n",
      "| 529 | source_10 2021_08_2 Dest21081  J09 | JCP2022_116401 |  7432112079727565994 - 10  |   96.42000    4.56871   1.98417 |  0  | [-0.8782182   1.1097927   0.09727788  0.07313895]\n",
      "| 530 | source_6  p210928CP 110000296  M06 | JCP2022_116401 |  7432112079727565994 - 10  |   96.42000    4.56871   1.98417 |  0  | [ 1.0963383  -0.42479897  1.1483741   1.0891693 ]\n",
      "| 531 | source_1  Batch4_20 UL000093  AF34 | JCP2022_057832 |  7432256942005306073 -  9  |   57.00000    4.04305   1.75587 |  0  | [ 2.3822844  0.9584713  0.9597477 -0.6640756]\n",
      "| 532 | source_10 2021_07_0 Dest21070  P12 | JCP2022_057832 |  7432256942005306073 -  9  |   57.00000    4.04305   1.75587 |  0  | [-2.7690148  -0.50981855  0.0416218  -2.067122  ]\n",
      "| 533 | source_6  p211109CP 110000296  P17 | JCP2022_057832 |  7432256942005306073 -  9  |   57.00000    4.04305   1.75587 |  0  | [-2.2658226   1.4674153  -0.63095427 -0.96464825]\n",
      "| 534 | source_11 Batch5    EC000099   J08 | JCP2022_090585 |  7432396755373232098 -  2  |   87.38000    4.47027   1.94141 |  0  | [ 1.2067225   1.4222126  -0.06570017 -1.8900098 ]\n",
      "| 535 | source_9  20210918- GR0000438  J38 | JCP2022_090585 |  7432396755373232098 -  2  |   87.38000    4.47027   1.94141 |  0  | [-1.04949    0.2184496 -3.9859176  0.6413927]\n",
      "| 536 | source_5  JUMPCPE-2 ATSJUM129  J14 | JCP2022_090585 |  7432396755373232098 -  2  |   87.38000    4.47027   1.94141 |  0  | [ 0.35356498  2.1006813   2.3593955  -1.7313368 ]\n",
      "| 537 | source_2  20210830_ 108629066  I12 | JCP2022_082625 |  7432650552946612213 -  5  |   92.34000    4.52548   1.96539 |  0  | [-0.18834639  1.0256763   0.9302453   0.7203535 ]\n",
      "| 538 | source_6  p211109CP 110000295  E17 | JCP2022_082625 |  7432650552946612213 -  5  |   92.34000    4.52548   1.96539 |  0  | [-0.38686013  0.7377076   2.2045333   0.22533411]\n",
      "| 539 | source_10 2021_06_1 Dest21061  I12 | JCP2022_082625 |  7432650552946612213 -  5  |   92.34000    4.52548   1.96539 |  0  | [-0.3362558   2.4302683   0.00848973  0.03361893]\n",
      "| 540 | source_1  Batch4_20 UL000093   V10 | JCP2022_087701 |  7432728220405474929 -  1  |   71.51000    4.26984   1.85437 |  0  | [ 0.36484838  0.27885342 -0.45283127 -0.8182415 ]\n",
      "| 541 | source_3  CP_27_all J12436d    K05 | JCP2022_087701 |  7432728220405474929 -  1  |   71.51000    4.26984   1.85437 |  0  | [ 1.6492038   0.83654547  0.82545614 -2.3137271 ]\n",
      "| 542 | source_6  p211109CP 110000296  K05 | JCP2022_087701 |  7432728220405474929 -  1  |   71.51000    4.26984   1.85437 |  0  | [-1.9358377  3.436676   1.838251  -0.9054903]\n",
      "| 543 | source_1  Batch5_20 UL001793   J44 | JCP2022_010119 |  7432771083960472132 -  4  |   59.30000    4.08261   1.77305 |  0  | [ 0.22129631  2.3777218   0.80291677 -1.8467983 ]\n",
      "| 544 | source_10 2021_06_2 Dest21062  J22 | JCP2022_010119 |  7432771083960472132 -  4  |   59.30000    4.08261   1.77305 |  0  | [-0.6799598 -3.4079857  0.8601823 -1.131777 ]\n",
      "| 545 | source_6  p210928CP 110000296  E22 | JCP2022_010119 |  7432771083960472132 -  4  |   59.30000    4.08261   1.77305 |  0  | [-1.108633  -0.7840519  1.4759303 -2.2821302]\n",
      "| 546 | source_3  CP_26_all J12459c    F21 | JCP2022_067553 |  7432915727637803798 -  6  |   51.97000    3.95067   1.71575 |  0  | [2.1531708  2.2664804  0.278036   0.01140243]\n",
      "| 547 | source_10 2021_07_0 Dest21070  L19 | JCP2022_067553 |  7432915727637803798 -  6  |   51.97000    3.95067   1.71575 |  0  | [2.840701   0.5950036  0.79950815 1.5366762 ]\n",
      "| 548 | source_2  20210719_ 108629400  L19 | JCP2022_067553 |  7432915727637803798 -  6  |   51.97000    3.95067   1.71575 |  0  | [ 1.1673398 -1.2880588  1.8320688 -0.3194902]\n",
      "| 549 | source_7  20210723_ CP2-SC1-0  N09 | JCP2022_106938 |  7433104154576637111 -  7  |   65.98000    4.18935   1.81941 |  0  | [ 0.45298302  0.6820359  -0.01718378  0.00870663]\n",
      "| 550 | source_2  20210823_ 108629194  E20 | JCP2022_106938 |  7433104154576637111 -  7  |   65.98000    4.18935   1.81941 |  0  | [ 0.05572045 -1.1508384   1.3096807  -0.5346505 ]\n",
      "| 551 | source_3  CP_35_all BAY5871b   C11 | JCP2022_106938 |  7433104154576637111 -  7  |   65.98000    4.18935   1.81941 |  0  | [ 0.34168494  0.19339275 -0.08187073 -1.2680992 ]\n",
      "| 552 | source_1  Batch2_20 UL001677   K29 | JCP2022_021212 |  7433134006337708090 - 10  |   65.74000    4.18571   1.81783 |  0  | [ 1.2447183   0.91116714  0.26222068 -0.81156415]\n",
      "| 553 | source_3  CP_25_all C13495aW   F15 | JCP2022_021212 |  7433134006337708090 - 10  |   65.74000    4.18571   1.81783 |  0  | [ 0.3994136  2.4213734  1.2888997 -1.0985469]\n",
      "| 554 | source_2  20210621_ 105359963  K07 | JCP2022_021212 |  7433134006337708090 - 10  |   65.74000    4.18571   1.81783 |  0  | [ 0.41890872  1.3183584   1.2224542  -0.7641593 ]\n",
      "| 555 | source_6  p210927CP 110000296  M11 | JCP2022_036091 |  7433255883107698770 -  2  |   55.34000    4.01350   1.74304 |  0  | [ 0.20748925 -1.3656173   1.6807889  -0.5183461 ]\n",
      "| 556 | source_8  J1        A1170424   M11 | JCP2022_036091 |  7433255883107698770 -  2  |   55.34000    4.01350   1.74304 |  0  | [-0.00831103 -2.7859163   1.9026198  -2.9711223 ]\n",
      "| 557 | source_1  Batch3_20 UL000089   Y22 | JCP2022_036091 |  7433255883107698770 -  2  |   55.34000    4.01350   1.74304 |  0  | [0.22944856 3.3780017  0.04306686 0.07117146]\n",
      "| 558 | source_1  Batch3_20 UL000089  AE44 | JCP2022_043203 |  7433470200047373311 - 15  |   78.95000    4.36881   1.89735 |  0  | [-0.5437043 -0.5883436  0.9048054 -0.3773396]\n",
      "| 559 | source_10 2021_08_0 Dest21072  O22 | JCP2022_043203 |  7433470200047373311 - 15  |   78.95000    4.36881   1.89735 |  0  | [ 0.4791646 -1.0244617  1.8455173 -2.396062 ]\n",
      "| 560 | source_6  p210927CP 110000296  P22 | JCP2022_043203 |  7433470200047373311 - 15  |   78.95000    4.36881   1.89735 |  0  | [-0.15322423 -0.9991107  -0.11167729 -0.4595815 ]\n",
      "| 561 | source_2  20210621_ 105359964  D09 | JCP2022_061001 |  7433485267327884548 -  4  |  103.78000    4.64227   2.01611 |  1  | [-1.1001856  -0.02674866  1.3123208  -1.325849  ]\n",
      "| 562 | source_8  J4        A1166144   B06 | JCP2022_061001 |  7433485267327884548 -  4  |  103.78000    4.64227   2.01611 |  1  | [-0.11910844 -0.18866348  1.3488216  -0.9701351 ]\n",
      "| 563 | source_1  Batch2_20 UL001677   D11 | JCP2022_061001 |  7433485267327884548 -  4  |  103.78000    4.64227   2.01611 |  1  | [ 1.187768    1.2003088   1.3986678  -0.15581053]\n",
      "| 564 | source_9  20211103- GR0000440  B10 | JCP2022_050037 |  7433500765223030170 - 10  |   49.25000    3.89691   1.69241 |  0  | [ 1.656995    2.3571777   0.62636817 -1.5089844 ]\n",
      "| 565 | source_11 Batch1    EC000016   F16 | JCP2022_050037 |  7433500765223030170 - 10  |   49.25000    3.89691   1.69241 |  0  | [ 1.1506395   3.4437227  -0.42134506 -1.1320326 ]\n",
      "| 566 | source_9  20211103- GR0000440  R10 | JCP2022_050037 |  7433500765223030170 - 10  |   49.25000    3.89691   1.69241 |  0  | [-0.3569529  -0.15726185  2.491891   -0.11662591]\n",
      "| 567 | source_9  20210918- GR0000437  J37 | JCP2022_055181 |  7433539804098454108 - 12  |   67.23000    4.20812   1.82756 |  0  | [-0.07872415  2.231236   -0.37230015 -0.9722952 ]\n",
      "| 568 | source_11 Batch5    EC000094   I12 | JCP2022_055181 |  7433539804098454108 - 12  |   67.23000    4.20812   1.82756 |  0  | [-0.96772146  2.1599364   0.2739247  -1.9902802 ]\n",
      "| 569 | source_9  20210918- GR0000437  J13 | JCP2022_055181 |  7433539804098454108 - 12  |   67.23000    4.20812   1.82756 |  0  | [ 1.1866727   1.0662622   0.10597485 -1.3513082 ]\n",
      "| 570 | source_3  CP59      BR5870d3   N09 | JCP2022_021388 |  7433682927002200920 -  8  |   60.91000    4.10940   1.78469 |  0  | [ 0.71970916  0.54531765  1.6404276  -0.0932647 ]\n",
      "| 571 | source_2  20210816_ 108629240  L16 | JCP2022_021388 |  7433682927002200920 -  8  |   60.91000    4.10940   1.78469 |  0  | [ 0.10015738  0.51569605  0.72325736 -0.63226527]\n",
      "| 572 | source_3  CP_35_all BAY5870d   N09 | JCP2022_021388 |  7433682927002200920 -  8  |   60.91000    4.10940   1.78469 |  0  | [-0.38116992  0.20250607  1.774556   -0.41943502]\n",
      "| 573 | source_8  J3        A1170518   L20 | JCP2022_102725 |  7433717264141394638 - 14  |   63.08000    4.14440   1.79989 |  0  | [ 1.4552698  -0.02688313  0.83587754 -2.79971   ]\n",
      "| 574 | source_3  CP59      BR5868b3   L20 | JCP2022_102725 |  7433717264141394638 - 14  |   63.08000    4.14440   1.79989 |  0  | [ 0.61957455  1.8595386   1.4532664  -1.3777478 ]\n",
      "| 575 | source_3  CP_35_all BAY5868b   L20 | JCP2022_102725 |  7433717264141394638 - 14  |   63.08000    4.14440   1.79989 |  0  | [-1.942474   1.1863117 -0.8211503 -1.322365 ]\n",
      "| 576 | source_1  Batch4_20 UL000081   G24 | JCP2022_016492 |  7433747697745258864 -  0  |   46.34000    3.83601   1.66596 |  0  | [ 0.40886998  1.7699986  -0.4100634  -0.2707113 ]\n",
      "| 577 | source_6  p210830CP 110000293  D12 | JCP2022_016492 |  7433747697745258864 -  0  |   46.34000    3.83601   1.66596 |  0  | [-2.1377618  -0.13909149  2.0019197  -1.5925132 ]\n",
      "| 578 | source_2  20210719_ 108629393  G22 | JCP2022_016492 |  7433747697745258864 -  0  |   46.34000    3.83601   1.66596 |  0  | [ 0.2046752  -1.4012341   0.320301   -0.97506857]\n",
      "| 579 | source_9  20210824- GR0000338  X21 | JCP2022_042726 |  7434753143095100121 -  9  |   59.67000    4.08883   1.77576 |  0  | [-2.608841    0.96904564 -1.155683    0.03564835]\n",
      "| 580 | source_11 Batch4    EC000104   O18 | JCP2022_042726 |  7434753143095100121 -  9  |   59.67000    4.08883   1.77576 |  0  | [-1.0793941   2.9755068   0.09087896 -1.4952762 ]\n",
      "| 581 | source_9  20210824- GR0000338  X45 | JCP2022_042726 |  7434753143095100121 -  9  |   59.67000    4.08883   1.77576 |  0  | [-1.0607393   0.01439285 -1.9266194  -0.769753  ]\n",
      "| 582 | source_1  Batch1_20 UL001651  AB06 | JCP2022_009701 |  7434843595554313222 -  6  |   88.41000    4.48199   1.94650 |  0  | [ 0.5071862  0.1292119  0.3554442 -1.7278287]\n",
      "| 583 | source_8  J4        A1166161   N03 | JCP2022_009701 |  7434843595554313222 -  6  |   88.41000    4.48199   1.94650 |  0  | [-0.19384742  0.13746834  1.2933104  -0.8370226 ]\n",
      "| 584 | source_3  CP_33_all A13407dW   N03 | JCP2022_009701 |  7434843595554313222 -  6  |   88.41000    4.48199   1.94650 |  0  | [ 1.1359923  -0.7143116   0.17935193 -2.2188683 ]\n",
      "| 585 | source_6  p210928CP 110000296  N13 | JCP2022_031802 |  7434968985319697831 -  7  |  102.59000    4.63074   2.01111 |  1  | [-3.1515687  -1.6746016  -0.21451807 -1.9501952 ]\n",
      "| 586 | source_1  Batch5_20 UL001795  AA25 | JCP2022_031802 |  7434968985319697831 -  7  |  102.59000    4.63074   2.01111 |  1  | [ 0.877584   -0.09789753  0.84276414 -0.0656538 ]\n",
      "| 587 | source_3  CP_32_all B40503aW   N13 | JCP2022_031802 |  7434968985319697831 -  7  |  102.59000    4.63074   2.01111 |  1  | [-0.5850146   0.02338123  1.750376   -1.0634117 ]\n",
      "| 588 | source_5  JUMPCPE-2 ATSJUM130  D19 | JCP2022_094766 |  7435011989443624342 -  6  |   53.51000    3.97987   1.72843 |  0  | [-0.67601216 -0.18501854 -0.7075447  -1.0714253 ]\n",
      "| 589 | source_9  20210918- GR0000438  T43 | JCP2022_094766 |  7435011989443624342 -  6  |   53.51000    3.97987   1.72843 |  0  | [-3.94232    -3.7582579  -0.79694366 -2.326705  ]\n",
      "| 590 | source_9  20210918- GR0000438  D43 | JCP2022_094766 |  7435011989443624342 -  6  |   53.51000    3.97987   1.72843 |  0  | [-0.08149767  3.3015203   1.6515615  -2.4394288 ]\n",
      "| 591 | source_10 2021_06_1 Dest21061  C15 | JCP2022_022999 |  7435025635952354462 - 14  |   46.01000    3.82886   1.66285 |  0  | [-0.39598632 -3.0191545   1.0388556  -0.85309887]\n",
      "| 592 | source_8  J3        A1170493   J19 | JCP2022_022999 |  7435025635952354462 - 14  |   46.01000    3.82886   1.66285 |  0  | [-0.14451623  0.45103502  0.40261734 -0.46356922]\n",
      "| 593 | source_2  20210830_ 108629064  C15 | JCP2022_022999 |  7435025635952354462 - 14  |   46.01000    3.82886   1.66285 |  0  | [-0.30460024 -0.375494    0.5261518  -1.3107849 ]\n",
      "| 594 | source_1  Batch6_20 UL000593  AA42 | JCP2022_058488 |  7435356301908791722 - 10  |   41.04000    3.71455   1.61321 |  0  | [1.2929397  0.69669914 0.42498994 1.5149517 ]\n",
      "| 595 | source_1  Batch4_20 UL000083  AA42 | JCP2022_058488 |  7435356301908791722 - 10  |   41.04000    3.71455   1.61321 |  0  | [-0.5928309  1.4145188  0.9063821 -0.6790759]\n",
      "| 596 | source_10 2021_08_0 Dest21072  K20 | JCP2022_058488 |  7435356301908791722 - 10  |   41.04000    3.71455   1.61321 |  0  | [-0.00518823  2.6101112   1.4019346  -2.290785  ]\n",
      "| 597 | source_10 2021_05_3 Dest21053  H19 | JCP2022_039932 |  7435595174798092274 -  2  |   50.19000    3.91582   1.70062 |  0  | [ 1.4274435   1.8950987   0.59173787 -0.28038657]\n",
      "| 598 | source_8  J1        A1170432   D21 | JCP2022_039932 |  7435595174798092274 -  2  |   50.19000    3.91582   1.70062 |  0  | [0.50607276 1.3496251  0.07098752 0.50383687]\n",
      "| 599 | source_2  20210726_ 108629345  G20 | JCP2022_039932 |  7435595174798092274 -  2  |   50.19000    3.91582   1.70062 |  0  | [ 0.64489436 -1.4640875   0.88810575 -0.30367547]\n",
      "---------------------------------------------------------------------------------------------------------------------------------------\n",
      "  Batch Id: 1   <class 'tuple'>  Rows returned 600 features: 150  \n",
      "+-----+------------------------------------+----------------+----------------------------+---------------------------------+-----+--------------------------------------------------------+\n",
      "| idx |   batch[2]                         |    batch[3]    |      batch[2]              |           batch[5]              | [1] |     batch[0]                                           | \n",
      "|     | SRCE      BATCH     PLATE     WELL |   COMPOUND_ID  |       CMPHASH / BIN        |   TPSA  / Ln(TPSA) / Log(TPSA)  | LBL |     FEATURES                                           | \n",
      "+-----+------------------------------------+----------------+----------------------------+---------------------------------+-----+--------------------------------------------------------+\n",
      "|   0 | source_9  20210914- GR0000330  M07 | JCP2022_031454 |  7435685910669555015 -  7  |   57.38000    4.04970   1.75876 |  0  | [ 0.5775106   0.5920353   0.86591995 -0.9874567 ]\n",
      "|   1 | source_5  JUMPCPE-2 ATSJUM208  M07 | JCP2022_031454 |  7435685910669555015 -  7  |   57.38000    4.04970   1.75876 |  0  | [-0.61955535  0.5628605   0.27757967 -0.86094606]\n",
      "|   2 | source_9  20210914- GR0000330  M31 | JCP2022_031454 |  7435685910669555015 -  7  |   57.38000    4.04970   1.75876 |  0  | [-0.36782026  2.162003   -2.0124233   1.6238995 ]\n",
      "|   3 | source_6  p211123CP 110000297  L15 | JCP2022_002134 |  7435745690234038366 - 14  |  101.21000    4.61720   2.00522 |  1  | [-1.1877897   0.18613291  0.24111736 -0.40326953]\n",
      "|   4 | source_2  20210607_ 105360179  H08 | JCP2022_002134 |  7435745690234038366 - 14  |  101.21000    4.61720   2.00522 |  1  | [-0.35297108 -0.64521694  2.0938768  -0.7612769 ]\n",
      "|   5 | source_10 2021_08_1 Dest21080  H08 | JCP2022_002134 |  7435745690234038366 - 14  |  101.21000    4.61720   2.00522 |  1  | [-0.3296404  1.5045652  0.4366486 -0.7665217]\n",
      "|   6 | source_6  p211123CP 110000297  E13 | JCP2022_003885 |  7436061382099668473 -  9  |   83.55000    4.42545   1.92195 |  0  | [ 0.5045278  -0.84162855  1.7700065  -0.07342601]\n",
      "|   7 | source_1  Batch2_20 UL001675   I26 | JCP2022_003885 |  7436061382099668473 -  9  |   83.55000    4.42545   1.92195 |  0  | [ 1.8577888   2.2464747   0.11979389 -0.03764772]\n",
      "|   8 | source_8  J1        A1170404   E13 | JCP2022_003885 |  7436061382099668473 -  9  |   83.55000    4.42545   1.92195 |  0  | [-0.10993981  0.3140397   0.35841024 -1.3830266 ]\n",
      "|   9 | source_10 2021_08_1 Dest21080  F03 | JCP2022_085859 |  7436108730710903395 -  3  |   41.82000    3.73337   1.62138 |  0  | [ 0.06647313  1.1131916   0.56605184 -1.6739142 ]\n",
      "|  10 | source_2  20210614_ 105360087  F03 | JCP2022_085859 |  7436108730710903395 -  3  |   41.82000    3.73337   1.62138 |  0  | [-0.57279015  2.6223154   1.6817949  -3.0698948 ]\n",
      "|  11 | source_8  J2        A1170471   K03 | JCP2022_085859 |  7436108730710903395 -  3  |   41.82000    3.73337   1.62138 |  0  | [-1.4166985  -2.1723623   2.3378747   0.22809649]\n",
      "|  12 | source_2  20210607_ 105360185  O08 | JCP2022_029590 |  7436331940712020958 - 14  |   71.51000    4.26984   1.85437 |  0  | [ 0.43591475  0.7752142  -1.3495488  -2.3424344 ]\n",
      "|  13 | source_10 2021_08_1 Dest21080  O08 | JCP2022_029590 |  7436331940712020958 - 14  |   71.51000    4.26984   1.85437 |  0  | [-1.2730856  -0.31961155  0.3791579  -3.0571828 ]\n",
      "|  14 | source_6  p211109CP 110000295  H15 | JCP2022_029590 |  7436331940712020958 - 14  |   71.51000    4.26984   1.85437 |  0  | [-0.0435524   0.92173004  0.5461736   0.65382767]\n",
      "|  15 | source_1  Batch4_20 UL001769   W26 | JCP2022_087431 |  7436473462315697594 - 10  |   58.12000    4.06251   1.76433 |  0  | [-1.5477732  1.0473394  1.4072671 -0.5365519]\n",
      "|  16 | source_10 2021_08_0 Dest21072  G04 | JCP2022_087431 |  7436473462315697594 - 10  |   58.12000    4.06251   1.76433 |  0  | [ 0.02219784  3.6431117   2.611911   -0.9607811 ]\n",
      "|  17 | source_6  p210927CP 110000296  L13 | JCP2022_087431 |  7436473462315697594 - 10  |   58.12000    4.06251   1.76433 |  0  | [ 0.13119006 -0.22236967  1.3452024  -0.30600595]\n",
      "|  18 | source_9  20210918- GR0000437  C16 | JCP2022_000723 |  7436734696970026093 - 13  |   61.60000    4.12066   1.78958 |  0  | [ 1.382652    1.276906   -0.26281345 -0.49903423]\n",
      "|  19 | source_5  JUMPCPE-2 ATSJUM221  C16 | JCP2022_000723 |  7436734696970026093 - 13  |   61.60000    4.12066   1.78958 |  0  | [ 0.76095223  0.02524567  0.968274   -1.4389226 ]\n",
      "|  20 | source_9  20210918- GR0000437  C40 | JCP2022_000723 |  7436734696970026093 - 13  |   61.60000    4.12066   1.78958 |  0  | [ 3.0321007  -1.6732635   6.3401756   0.13452005]\n",
      "|  21 | source_8  J1        A1170420   O14 | JCP2022_029943 |  7436740632987689205 -  5  |   87.55000    4.47221   1.94226 |  0  | [-1.3516898  2.517651   0.2864021 -1.0282815]\n",
      "|  22 | source_10 2021_08_2 Dest21082  M06 | JCP2022_029943 |  7436740632987689205 -  5  |   87.55000    4.47221   1.94226 |  0  | [-1.9661555   1.3767147  -0.37505698 -0.4722343 ]\n",
      "|  23 | source_6  p210927CP 110000296  O14 | JCP2022_029943 |  7436740632987689205 -  5  |   87.55000    4.47221   1.94226 |  0  | [ 1.6631706  -0.15009832  2.1842675  -1.2381284 ]\n",
      "|  24 | source_6  p210906CP 110000294  C10 | JCP2022_106945 |  7437422686469496718 - 14  |   54.29000    3.99434   1.73472 |  0  | [0.05465841 1.4933214  2.420453   2.0027297 ]\n",
      "|  25 | source_10 2021_08_2 Dest21081  E17 | JCP2022_106945 |  7437422686469496718 - 14  |   54.29000    3.99434   1.73472 |  0  | [-1.1446115   0.10958505 -0.7044592   0.31722456]\n",
      "|  26 | source_2  20210712_ 105359785  E17 | JCP2022_106945 |  7437422686469496718 - 14  |   54.29000    3.99434   1.73472 |  0  | [-1.2533857   0.42328262  1.8493692  -0.06441277]\n",
      "|  27 | source_2  20210808_ 108629274  F06 | JCP2022_089391 |  7437582503477119938 -  2  |   79.10000    4.37071   1.89818 |  0  | [-1.5796622  2.2240849  5.2301426 -3.711848 ]\n",
      "|  28 | source_3  CP_33_all A13415dW   C14 | JCP2022_089391 |  7437582503477119938 -  2  |   79.10000    4.37071   1.89818 |  0  | [-3.3629894   0.01327801  4.075614    0.53849435]\n",
      "|  29 | source_1  Batch1_20 UL001645   F28 | JCP2022_089391 |  7437582503477119938 -  2  |   79.10000    4.37071   1.89818 |  0  | [ 0.6745355   3.8815227   0.88924587 -0.7622758 ]\n",
      "|  30 | source_11 Batch1    EC000020   D21 | JCP2022_032228 |  7437856060036694563 -  3  |   69.78000    4.24535   1.84373 |  0  | [-0.3906988  2.1995645 -0.7135056  1.3115487]\n",
      "|  31 | source_5  JUMPCPE-2 ATTJUM204  O07 | JCP2022_032228 |  7437856060036694563 -  3  |   69.78000    4.24535   1.84373 |  0  | [ 1.7783716  0.6004658  2.6747415 -0.7466861]\n",
      "|  32 | source_9  20211102- GR0000439 AE07 | JCP2022_032228 |  7437856060036694563 -  3  |   69.78000    4.24535   1.84373 |  0  | [ 1.6835053   3.9772873   0.3188429  -0.79944825]\n",
      "|  33 | source_6  p210906CP 110000294  K10 | JCP2022_033295 |  7438024168905380185 -  9  |   67.60000    4.21361   1.82995 |  0  | [ 0.77627087  2.7232952   3.2895505  -2.5836973 ]\n",
      "|  34 | source_2  20210712_ 105359800  E17 | JCP2022_033295 |  7438024168905380185 -  9  |   67.60000    4.21361   1.82995 |  0  | [ 0.72465587 -0.8885722   1.8260653   0.34749758]\n",
      "|  35 | source_3  CP_26_all J12440a    K10 | JCP2022_033295 |  7438024168905380185 -  9  |   67.60000    4.21361   1.82995 |  0  | [-0.19267583  0.16356516  0.00979137 -0.7239803 ]\n",
      "|  36 | source_1  Batch2_20 UL001649  AC44 | JCP2022_101180 |  7438080591978400605 - 13  |   63.91000    4.15748   1.80557 |  0  | [-0.997488    2.6561317   0.6090735  -0.24198109]\n",
      "|  37 | source_8  J4        A1166139   O22 | JCP2022_101180 |  7438080591978400605 - 13  |   63.91000    4.15748   1.80557 |  0  | [-0.37877536 -0.29026842  0.50476444 -0.13830829]\n",
      "|  38 | source_3  CP_33_all A12069bW   O22 | JCP2022_101180 |  7438080591978400605 - 13  |   63.91000    4.15748   1.80557 |  0  | [-2.0691812  -0.17225981  0.43396056  0.5899389 ]\n",
      "|  39 | source_3  CP_31_all B040203c   E16 | JCP2022_004543 |  7438212053958586912 -  0  |   64.15000    4.16122   1.80720 |  0  | [ 1.7292101   0.6815424  -0.85431147  0.4520319 ]\n",
      "|  40 | source_6  p211004CP 110000295  E16 | JCP2022_004543 |  7438212053958586912 -  0  |   64.15000    4.16122   1.80720 |  0  | [ 0.09321094 -0.17050219  2.7822504  -1.3114321 ]\n",
      "|  41 | source_1  Batch5_20 UL001799   J31 | JCP2022_004543 |  7438212053958586912 -  0  |   64.15000    4.16122   1.80720 |  0  | [-0.24898934  2.4442682  -1.6761601  -1.3469114 ]\n",
      "|  42 | source_3  CP_27_all J12450a    N17 | JCP2022_103995 |  7438234930750048675 -  3  |   50.41000    3.92019   1.70252 |  0  | [ 2.2237446   1.9066443   0.43708456 -0.20321423]\n",
      "|  43 | source_1  Batch4_20 UL000081  AA33 | JCP2022_103995 |  7438234930750048675 -  3  |   50.41000    3.92019   1.70252 |  0  | [-1.1021385  -0.8089552   0.32702112  0.02550149]\n",
      "|  44 | source_6  p210830CP 110000293  N17 | JCP2022_103995 |  7438234930750048675 -  3  |   50.41000    3.92019   1.70252 |  0  | [-0.5023606 -0.9131708  0.8874819 -1.3439548]\n",
      "|  45 | source_2  20210719_ 108629384  G17 | JCP2022_105202 |  7438245893544122750 - 14  |   76.71000    4.34003   1.88485 |  0  | [-0.34942317 -2.6320066   0.48829526 -2.669859  ]\n",
      "|  46 | source_6  p210831CP 110000294  D10 | JCP2022_105202 |  7438245893544122750 - 14  |   76.71000    4.34003   1.88485 |  0  | [-1.4972074  -0.55112743  1.0364814   0.35470724]\n",
      "|  47 | source_10 2021_08_2 Dest21082  G17 | JCP2022_105202 |  7438245893544122750 - 14  |   76.71000    4.34003   1.88485 |  0  | [ 0.3847394  -0.42905998 -0.04442143 -0.13458931]\n",
      "|  48 | source_8  J3        A1170542   H05 | JCP2022_100228 |  7438302404019083417 -  9  |   56.15000    4.02803   1.74935 |  0  | [0.08922315 1.4586968  1.4959809  0.63065815]\n",
      "|  49 | source_3  CP60      BR5874b3   H05 | JCP2022_100228 |  7438302404019083417 -  9  |   56.15000    4.02803   1.74935 |  0  | [ 1.048676    0.57090044  0.52587694 -0.5167447 ]\n",
      "|  50 | source_6  p211004CP 110000295  H05 | JCP2022_100228 |  7438302404019083417 -  9  |   56.15000    4.02803   1.74935 |  0  | [-0.7848346   0.25263166  1.4913723   0.80337995]\n",
      "|  51 | source_9  20211103- GR0000441  Y07 | JCP2022_057018 |  7438994428640235780 -  4  |   91.04000    4.51130   1.95923 |  0  | [ 0.99131656 -2.8518581   2.4685893   0.81900406]\n",
      "|  52 | source_5  JUMPCPE-2 APTJUM218  I07 | JCP2022_057018 |  7438994428640235780 -  4  |   91.04000    4.51130   1.95923 |  0  | [-0.77906466  2.701661    2.1338234  -0.20084846]\n",
      "|  53 | source_9  20211103- GR0000441  I31 | JCP2022_057018 |  7438994428640235780 -  4  |   91.04000    4.51130   1.95923 |  0  | [-2.9903202   1.8238642  -0.96793413 -0.5357777 ]\n",
      "|  54 | source_6  p211123CP 110000297  B17 | JCP2022_010834 |  7439050649143175386 - 10  |   29.26000    3.37622   1.46627 |  0  | [0.03912711 0.35268307 2.743055   0.95953846]\n",
      "|  55 | source_8  J3        A1170508   B17 | JCP2022_010834 |  7439050649143175386 - 10  |   29.26000    3.37622   1.46627 |  0  | [-0.9827459  -0.33587217  0.21884292 -0.14132792]\n",
      "|  56 | source_2  20210607_ 105360181  D12 | JCP2022_010834 |  7439050649143175386 - 10  |   29.26000    3.37622   1.46627 |  0  | [ 0.7570741   0.18052578  1.2027327  -1.614618  ]\n",
      "|  57 | source_1  Batch3_20 UL001667   K42 | JCP2022_098141 |  7439178958071883499 - 11  |   66.73000    4.20065   1.82432 |  0  | [-1.1504118   2.590714    1.3855395   0.08211356]\n",
      "|  58 | source_6  p210831CP 110000294  F21 | JCP2022_098141 |  7439178958071883499 - 11  |   66.73000    4.20065   1.82432 |  0  | [ 0.32232928  2.0937595  -0.15347755 -2.2646728 ]\n",
      "|  59 | source_2  20210712_ 105359788  K20 | JCP2022_098141 |  7439178958071883499 - 11  |   66.73000    4.20065   1.82432 |  0  | [ 1.8463533   1.4944596   2.3660522  -0.37187576]\n",
      "|  60 | source_2  20210614_ 105360073  G05 | JCP2022_105751 |  7439248605044344069 -  5  |   59.16000    4.08025   1.77203 |  0  | [-1.3312874 -1.4895754  2.425218  -1.5903779]\n",
      "|  61 | source_5  JUMPCPE-2 AEOJUM301  C21 | JCP2022_105751 |  7439248605044344069 -  5  |   59.16000    4.08025   1.77203 |  0  | [ 0.33064628 -0.53441954  0.1922642   0.07344514]\n",
      "|  62 | source_6  p211102CP 110000295  D04 | JCP2022_105751 |  7439248605044344069 -  5  |   59.16000    4.08025   1.77203 |  0  | [ 1.6000843 -0.5836611  1.2198566 -0.9038939]\n",
      "|  63 | source_9  20210901_ GR0000331  O29 | JCP2022_025170 |  7439644130648471799 -  7  |   81.35000    4.39876   1.91036 |  0  | [ 0.24453735  2.247305    0.44102716 -0.09323251]\n",
      "|  64 | source_9  20210901_ GR0000333  O05 | JCP2022_025170 |  7439644130648471799 -  7  |   81.35000    4.39876   1.91036 |  0  | [ 0.4482534  -0.9366727   0.6944722   0.14316821]\n",
      "|  65 | source_9  20210901_ GR0000331 AE05 | JCP2022_025170 |  7439644130648471799 -  7  |   81.35000    4.39876   1.91036 |  0  | [-3.1081066  -2.3479524   0.18200994  5.323613  ]\n",
      "|  66 | source_1  Batch6_20 UL000581   D32 | JCP2022_112241 |  7439742887131015683 -  3  |   94.14000    4.54478   1.97377 |  0  | [ 0.27621365  1.6427932   2.9538617  -1.4695545 ]\n",
      "|  67 | source_3  CP_29_all SP09P12d   B16 | JCP2022_112241 |  7439742887131015683 -  3  |   94.14000    4.54478   1.97377 |  0  | [-0.63147354  0.83805656  0.874133   -0.9705093 ]\n",
      "|  68 | source_8  J2        A1170460   B16 | JCP2022_112241 |  7439742887131015683 -  3  |   94.14000    4.54478   1.97377 |  0  | [ 0.7444265   1.7196894  -0.47884995  0.7563896 ]\n",
      "|  69 | source_3  CP_31_all B040203c   O15 | JCP2022_056912 |  7439902349354466658 -  2  |   52.90000    3.96840   1.72346 |  0  | [ 0.9166752  -0.50488377 -2.418807   -0.87319463]\n",
      "|  70 | source_6  p211004CP 110000295  O15 | JCP2022_056912 |  7439902349354466658 -  2  |   52.90000    3.96840   1.72346 |  0  | [-1.2877722  -0.40270996  2.2144275  -2.1156816 ]\n",
      "|  71 | source_10 2021_08_1 Dest21080  N07 | JCP2022_056912 |  7439902349354466658 -  2  |   52.90000    3.96840   1.72346 |  0  | [-0.06846738  0.55212784  1.7587045  -1.0418315 ]\n",
      "|  72 | source_8  J1        A1170385   M20 | JCP2022_035811 |  7440246866004702020 -  4  |   76.04000    4.33126   1.88104 |  0  | [-1.8173809   2.1288185  -0.21807349 -1.0790627 ]\n",
      "|  73 | source_6  p210920CP 110000296  M20 | JCP2022_035811 |  7440246866004702020 -  4  |   76.04000    4.33126   1.88104 |  0  | [-1.6048529  -0.44886637  2.6886876  -0.41243434]\n",
      "|  74 | source_10 2021_08_1 Dest21080  J17 | JCP2022_035811 |  7440246866004702020 -  4  |   76.04000    4.33126   1.88104 |  0  | [ 0.17681623 -0.88339186 -0.33222866 -0.40599942]\n",
      "|  75 | source_6  p211123CP 110000297  I06 | JCP2022_041956 |  7440296894050335602 -  2  |   49.54000    3.90278   1.69496 |  0  | [ 0.8177024  1.7604079  2.3142767 -0.8558389]\n",
      "|  76 | source_10 2021_06_2 Dest21062  A09 | JCP2022_041956 |  7440296894050335602 -  2  |   49.54000    3.90278   1.69496 |  0  | [-1.6232158 -3.1198301  1.9459426 -3.5627232]\n",
      "|  77 | source_3  CP_31_all B040303a   I06 | JCP2022_041956 |  7440296894050335602 -  2  |   49.54000    3.90278   1.69496 |  0  | [-0.18744111  3.455215    1.5274031  -1.1892531 ]\n",
      "|  78 | source_6  p210831CP 110000294  G04 | JCP2022_030730 |  7440338189494640623 - 15  |   24.50000    3.19867   1.38917 |  0  | [-0.6391492   2.8760023   6.249981    0.12230825]\n",
      "|  79 | source_10 2021_08_2 Dest21082  M05 | JCP2022_030730 |  7440338189494640623 - 15  |   24.50000    3.19867   1.38917 |  0  | [-3.1665077  5.4564314  2.2328339 -4.2654834]\n",
      "|  80 | source_2  20210719_ 108629384  M05 | JCP2022_030730 |  7440338189494640623 - 15  |   24.50000    3.19867   1.38917 |  0  | [-0.8222842 10.080079   4.411518  -3.231915 ]\n",
      "|  81 | source_2  20210830_ 108629064  H05 | JCP2022_022782 |  7440420848213008229 -  5  |   53.51000    3.97987   1.72843 |  0  | [ 0.09884763 -0.46132708  0.988832    0.7107221 ]\n",
      "|  82 | source_6  p211109CP 110000295  L14 | JCP2022_022782 |  7440420848213008229 -  5  |   53.51000    3.97987   1.72843 |  0  | [-0.01324356 -0.7279577   1.0353045  -0.5886743 ]\n",
      "|  83 | source_8  J3        A1170495   L14 | JCP2022_022782 |  7440420848213008229 -  5  |   53.51000    3.97987   1.72843 |  0  | [-1.7614818   0.76773167  0.6881359  -1.8809471 ]\n",
      "|  84 | source_8  J3        A1170493   D17 | JCP2022_076976 |  7440460600050820715 - 11  |   51.05000    3.93281   1.70800 |  0  | [ 0.26509178 -0.21687222  0.87514186 -0.67849636]\n",
      "|  85 | source_10 2021_06_1 Dest21061  G11 | JCP2022_076976 |  7440460600050820715 - 11  |   51.05000    3.93281   1.70800 |  0  | [-0.3967415  -1.2504134  -1.4081253  -0.54948103]\n",
      "|  86 | source_6  p211109CP 110000295  D17 | JCP2022_076976 |  7440460600050820715 - 11  |   51.05000    3.93281   1.70800 |  0  | [ 1.2507195   0.06667614  1.2122071  -1.1325312 ]\n",
      "|  87 | source_7  20210803_ CP5-SC1-1  B13 | JCP2022_017705 |  7440927594251596708 -  4  |  105.02000    4.65415   2.02127 |  1  | [-0.6585858 -0.8106141  0.3400663 -2.202697 ]\n",
      "|  88 | source_7  20210723_ CP2-SC1-1  B13 | JCP2022_017705 |  7440927594251596708 -  4  |  105.02000    4.65415   2.02127 |  1  | [-0.04588461  0.73153114 -0.3347056  -0.60080886]\n",
      "|  89 | source_7  20210731_ CP4-SC1-1  B13 | JCP2022_017705 |  7440927594251596708 -  4  |  105.02000    4.65415   2.02127 |  1  | [ 0.04423892 -0.41611052  0.18815988 -2.5918365 ]\n",
      "|  90 | source_8  J1        A1170390   N15 | JCP2022_053967 |  7440968845896546470 -  6  |   97.67000    4.58159   1.98976 |  0  | [ 0.32779098  0.70845985  1.4343965  -0.693901  ]\n",
      "|  91 | source_10 2021_08_0 Dest21072  L08 | JCP2022_053967 |  7440968845896546470 -  6  |   97.67000    4.58159   1.98976 |  0  | [-0.25233722 -0.04284668  1.6512097  -1.1537248 ]\n",
      "|  92 | source_1  Batch6_20 UL000593  AB30 | JCP2022_053967 |  7440968845896546470 -  6  |   97.67000    4.58159   1.98976 |  0  | [ 1.3861759  -0.4813485   0.5887227   0.04668581]\n",
      "|  93 | source_3  CP_25_all C13443bW   C07 | JCP2022_071372 |  7440984708423256005 -  5  |   81.92000    4.40574   1.91339 |  0  | [ 1.0602875   0.1258421  -0.07942045  0.27564305]\n",
      "|  94 | source_8  J4        A1166163   C07 | JCP2022_071372 |  7440984708423256005 -  5  |   81.92000    4.40574   1.91339 |  0  | [-0.34757352  0.527092    1.1866322  -2.8521352 ]\n",
      "|  95 | source_2  20211003_ 108628971  E12 | JCP2022_071372 |  7440984708423256005 -  5  |   81.92000    4.40574   1.91339 |  0  | [-0.31914127  1.0679765   1.2681469  -0.23520762]\n",
      "|  96 | source_10 2021_08_2 Dest21082  J05 | JCP2022_114047 |  7440996273269809505 -  1  |   64.80000    4.17131   1.81158 |  0  | [ 0.247334    0.8620014  -1.4358401   0.53247786]\n",
      "|  97 | source_1  Batch6_20 UL001789   J07 | JCP2022_114047 |  7440996273269809505 -  1  |   64.80000    4.17131   1.81158 |  0  | [ 2.227908    1.3866334  -0.97871447 -0.9938833 ]\n",
      "|  98 | source_6  p210830CP 110000293  E04 | JCP2022_114047 |  7440996273269809505 -  1  |   64.80000    4.17131   1.81158 |  0  | [-0.17645144 -1.4311967   0.8278061  -2.7301948 ]\n",
      "|  99 | source_8  J4        A1166155   E03 | JCP2022_084815 |  7441324506293664024 -  8  |   68.01000    4.21965   1.83257 |  0  | [ 0.81364036 -1.2766199   0.5776187  -1.2785408 ]\n",
      "| 100 | source_2  20210808_ 108629290  I04 | JCP2022_084815 |  7441324506293664024 -  8  |   68.01000    4.21965   1.83257 |  0  | [-0.02084494 -1.4842463   1.9625994  -3.1541104 ]\n",
      "| 101 | source_1  Batch1_20 UL001653   I06 | JCP2022_084815 |  7441324506293664024 -  8  |   68.01000    4.21965   1.83257 |  0  | [0.27873456 3.1503325  0.8515874  1.5929337 ]\n",
      "| 102 | source_6  p211004CP 110000295  G10 | JCP2022_010670 |  7441356627802894072 -  8  |   50.41000    3.92019   1.70252 |  0  | [-1.5317056  -2.9075089   0.68426836 -0.68132067]\n",
      "| 103 | source_3  CP_31_all B040203c   G10 | JCP2022_010670 |  7441356627802894072 -  8  |   50.41000    3.92019   1.70252 |  0  | [0.06451297 2.6794133  0.45430398 0.60865164]\n",
      "| 104 | source_1  Batch5_20 UL001799   N19 | JCP2022_010670 |  7441356627802894072 -  8  |   50.41000    3.92019   1.70252 |  0  | [ 0.45547223  1.3219633   0.99487734 -0.5555004 ]\n",
      "| 105 | source_9  20210915- GR0000330  J28 | JCP2022_074437 |  7441378821176277722 - 10  |   93.50000    4.53796   1.97081 |  0  | [ 0.5610585   1.2108784   0.44081157 -0.8283399 ]\n",
      "| 106 | source_11 Batch5    EC000082   B08 | JCP2022_074437 |  7441378821176277722 - 10  |   93.50000    4.53796   1.97081 |  0  | [-0.6759254   2.448483    1.6421621  -0.54753816]\n",
      "| 107 | source_5  JUMPCPE-2 ATSJUM112  J04 | JCP2022_074437 |  7441378821176277722 - 10  |   93.50000    4.53796   1.97081 |  0  | [-0.7916689   1.6685572   1.4206685   0.55464447]\n",
      "| 108 | source_3  CP_31_all B040103d   A20 | JCP2022_082090 |  7441531877328636699 - 11  |   51.96000    3.95047   1.71567 |  0  | [-2.2458596   0.30702162  2.3529494  -1.5744469 ]\n",
      "| 109 | source_10 2021_06_2 Dest21062  B18 | JCP2022_082090 |  7441531877328636699 - 11  |   51.96000    3.95047   1.71567 |  0  | [ 0.67987657 -0.8112583   1.4873366  -7.025186  ]\n",
      "| 110 | source_1  Batch5_20 UL001797   B40 | JCP2022_082090 |  7441531877328636699 - 11  |   51.96000    3.95047   1.71567 |  0  | [-0.5054604   1.7007465   0.36655295 -0.43315446]\n",
      "| 111 | source_10 2021_08_2 Dest21082  M07 | JCP2022_107564 |  7441729941847339198 - 14  |   50.48000    3.92158   1.70312 |  0  | [-0.20608139 -0.4762864   0.4878006  -1.1783562 ]\n",
      "| 112 | source_2  20210719_ 108629381  M07 | JCP2022_107564 |  7441729941847339198 - 14  |   50.48000    3.92158   1.70312 |  0  | [-0.34058976 -0.07731628 -1.1122909  -0.01518607]\n",
      "| 113 | source_6  p210831CP 110000294  O15 | JCP2022_107564 |  7441729941847339198 - 14  |   50.48000    3.92158   1.70312 |  0  | [-1.287545   -0.89340687  2.094894   -1.0356547 ]\n",
      "| 114 | source_1  Batch1_20 UL001643   X24 | JCP2022_081257 |  7441950370228814162 -  2  |   41.38000    3.72280   1.61679 |  0  | [-0.64644396  1.8183813   0.81336015 -0.00947237]\n",
      "| 115 | source_2  20211003_ 108628967  H22 | JCP2022_081257 |  7441950370228814162 -  2  |   41.38000    3.72280   1.61679 |  0  | [-0.41369236 -0.8776703   1.616092   -1.000206  ]\n",
      "| 116 | source_8  J4        A1166165   L12 | JCP2022_081257 |  7441950370228814162 -  2  |   41.38000    3.72280   1.61679 |  0  | [-0.00396776  0.7119789   1.1769515  -2.2571797 ]\n",
      "| 117 | source_1  Batch6_20 UL000583   U42 | JCP2022_020986 |  7441974649021250229 -  5  |   92.91000    4.53163   1.96806 |  0  | [ 0.2500546   1.9842358   0.7646003  -0.43861634]\n",
      "| 118 | source_8  J1        A1170432   K21 | JCP2022_020986 |  7441974649021250229 -  5  |   92.91000    4.53163   1.96806 |  0  | [ 0.18564916  0.17438316  0.08941579 -0.5714062 ]\n",
      "| 119 | source_10 2021_08_2 Dest21082  F19 | JCP2022_020986 |  7441974649021250229 -  5  |   92.91000    4.53163   1.96806 |  0  | [ 0.1385436   1.2748847  -0.35994947 -0.7643931 ]\n",
      "| 120 | source_2  20210802_ 108629307  G11 | JCP2022_033339 |  7442109428849302690 -  2  |   98.23000    4.58731   1.99224 |  0  | [-0.61468005  1.8197975   1.7937993  -1.5964066 ]\n",
      "| 121 | source_3  CP_28_all SP16P19a   L17 | JCP2022_033339 |  7442109428849302690 -  2  |   98.23000    4.58731   1.99224 |  0  | [-1.0594808   3.0139284  -0.62550783  0.12895215]\n",
      "| 122 | source_10 2021_06_0 Dest21060  G19 | JCP2022_033339 |  7442109428849302690 -  2  |   98.23000    4.58731   1.99224 |  0  | [-0.39496827 -0.20155954  0.2574756  -0.7350819 ]\n",
      "| 123 | source_3  CP_27_all J12436d    M20 | JCP2022_090931 |  7442197755879288815 - 15  |   55.84000    4.02249   1.74695 |  0  | [-0.08667326  2.1263986  -0.37889075  0.45812374]\n",
      "| 124 | source_1  Batch4_20 UL000093   Z40 | JCP2022_090931 |  7442197755879288815 - 15  |   55.84000    4.02249   1.74695 |  0  | [ 0.93492556 -0.9387536  -0.43239808 -0.24259233]\n",
      "| 125 | source_6  p211109CP 110000296  M20 | JCP2022_090931 |  7442197755879288815 - 15  |   55.84000    4.02249   1.74695 |  0  | [ 0.77072704 -2.4275665  -0.62431073 -1.6398964 ]\n",
      "| 126 | source_1  Batch6_20 UL000577   I17 | JCP2022_086815 |  7442205196176633862 -  6  |   88.86000    4.48706   1.94871 |  0  | [ 1.5939589   0.02189636 -0.80220616 -1.4163063 ]\n",
      "| 127 | source_2  20210802_ 108629306  I15 | JCP2022_086815 |  7442205196176633862 -  6  |   88.86000    4.48706   1.94871 |  0  | [-0.33332372  0.16266632  0.38854837  0.0757404 ]\n",
      "| 128 | source_10 2021_06_0 Dest21060  J15 | JCP2022_086815 |  7442205196176633862 -  6  |   88.86000    4.48706   1.94871 |  0  | [ 0.45344138  1.1174712   0.15212673 -0.2066859 ]\n",
      "| 129 | source_3  CP_27_all J12450c    B18 | JCP2022_074032 |  7442368988379340045 - 13  |   58.44000    4.06800   1.76671 |  0  | [-3.279762  -2.8911858 -1.7706891 -4.995967 ]\n",
      "| 130 | source_2  20210920_ 108629033  D13 | JCP2022_074032 |  7442368988379340045 - 13  |   58.44000    4.06800   1.76671 |  0  | [ 0.3510785 -1.2221317  2.2298698  0.754436 ]\n",
      "| 131 | source_6  p210830CP 110000293  B18 | JCP2022_074032 |  7442368988379340045 - 13  |   58.44000    4.06800   1.76671 |  0  | [-1.6978939  -0.49009228  2.1659698  -0.2440064 ]\n",
      "| 132 | source_8  J1        A1170396   L04 | JCP2022_058495 |  7442535033739067428 -  4  |   71.78000    4.27361   1.85600 |  0  | [ 1.2553763   0.6133852  -0.77429223  0.64276886]\n",
      "| 133 | source_10 2021_08_2 Dest21082  G06 | JCP2022_058495 |  7442535033739067428 -  4  |   71.78000    4.27361   1.85600 |  0  | [-0.8110244   0.45000887  0.18843657  0.14946723]\n",
      "| 134 | source_5  JUMPCPE-2 AEOJUM301  I09 | JCP2022_058495 |  7442535033739067428 -  4  |   71.78000    4.27361   1.85600 |  0  | [ 1.2473922   0.55876064  1.281569   -0.19817191]\n",
      "| 135 | source_6  p211123CP 110000297  I14 | JCP2022_082246 |  7442957553655510301 - 13  |   62.18000    4.13003   1.79365 |  0  | [-0.46397793  0.10179186  0.9251149  -0.4481662 ]\n",
      "| 136 | source_8  J3        A1170505   I14 | JCP2022_082246 |  7442957553655510301 - 13  |   62.18000    4.13003   1.79365 |  0  | [-0.45235038  2.7618427   0.65605164 -0.8321451 ]\n",
      "| 137 | source_2  20210607_ 105360179  A05 | JCP2022_082246 |  7442957553655510301 - 13  |   62.18000    4.13003   1.79365 |  0  | [-1.1525595  -0.46638918  0.36132598 -1.0984259 ]\n",
      "| 138 | source_3  CP_33_all A13407cW   N15 | JCP2022_088987 |  7443373211650224080 -  0  |   74.43000    4.30986   1.87175 |  0  | [-0.47283792  1.87988    -0.5861114  -0.34980428]\n",
      "| 139 | source_2  20210808_ 108629295  L07 | JCP2022_088987 |  7443373211650224080 -  0  |   74.43000    4.30986   1.87175 |  0  | [ 1.1134303   1.89116     0.97459316 -0.6712699 ]\n",
      "| 140 | source_8  J4        A1166160   N15 | JCP2022_088987 |  7443373211650224080 -  0  |   74.43000    4.30986   1.87175 |  0  | [ 0.00485277 -0.7787838   1.456819   -1.5353506 ]\n",
      "| 141 | source_1  Batch3_20 UL001669   Y41 | JCP2022_015416 |  7443411768670768752 -  0  |   96.14000    4.56581   1.98290 |  0  | [0.51038766 2.141518   0.22207779 0.67938745]\n",
      "| 142 | source_3  CP_26_all J12424a    M21 | JCP2022_015416 |  7443411768670768752 -  0  |   96.14000    4.56581   1.98290 |  0  | [ 0.23024237  2.1379213   0.4829697  -0.74529284]\n",
      "| 143 | source_2  20211003_ 108628973  I19 | JCP2022_015416 |  7443411768670768752 -  0  |   96.14000    4.56581   1.98290 |  0  | [-1.2246497  0.900712  -1.605786  -1.6553777]\n",
      "| 144 | source_6  p210824CP 110000293  C18 | JCP2022_065695 |  7443839795845447101 - 13  |   74.60000    4.31214   1.87274 |  0  | [ 0.39907074 -0.8012123   4.7327766   0.12652922]\n",
      "| 145 | source_1  Batch4_20 UL000095   F36 | JCP2022_065695 |  7443839795845447101 - 13  |   74.60000    4.31214   1.87274 |  0  | [-0.54826903  1.4541106  -0.68916833 -0.43872064]\n",
      "| 146 | source_10 2021_08_1 Dest21080  F14 | JCP2022_065695 |  7443839795845447101 - 13  |   74.60000    4.31214   1.87274 |  0  | [-0.2194786  -0.7218528   0.05277097 -0.925018  ]\n",
      "| 147 | source_5  JUMPCPE-2 APTJUM112  P16 | JCP2022_028844 |  7444125549570630548 -  4  |   62.24000    4.13100   1.79407 |  0  | [0.9809933  1.6526089  4.6693187  0.20250171]\n",
      "| 148 | source_11 Batch1    EC000012   L06 | JCP2022_028844 |  7444125549570630548 -  4  |   62.24000    4.13100   1.79407 |  0  | [ 1.4105425 -0.8493862 -1.6209942 -1.3254964]\n",
      "| 149 | source_9  20211013- GR0000329  P16 | JCP2022_028844 |  7444125549570630548 -  4  |   62.24000    4.13100   1.79407 |  0  | [-0.5254039   2.5514627  -1.6224     -0.73307097]\n",
      "| 150 | source_9  20210831- GR0000333 AB18 | JCP2022_099907 |  7444583167625830744 -  8  |   94.53000    4.54892   1.97557 |  0  | [-0.4955809   0.30056858  0.30020177 -0.23337007]\n",
      "| 151 | source_5  JUMPCPE-2 AETJUM119  L18 | JCP2022_099907 |  7444583167625830744 -  8  |   94.53000    4.54892   1.97557 |  0  | [-1.4710485  1.5697837  1.017106  -1.4065781]\n",
      "| 152 | source_11 Batch3    EC000151   M14 | JCP2022_099907 |  7444583167625830744 -  8  |   94.53000    4.54892   1.97557 |  0  | [-0.5896969   2.5968199  -0.45745468 -0.41817498]\n",
      "| 153 | source_9  20210918- GR0000438  R28 | JCP2022_033379 |  7444867604804694844 - 12  |   75.38000    4.32254   1.87726 |  0  | [ 0.25515318  1.8589835  -0.05712521 -3.19462   ]\n",
      "| 154 | source_5  JUMPCPE-2 ATSJUM130  B04 | JCP2022_033379 |  7444867604804694844 - 12  |   75.38000    4.32254   1.87726 |  0  | [ 2.7694752   0.15341568  2.5383902  -2.2470384 ]\n",
      "| 155 | source_9  20210918- GR0000438  R04 | JCP2022_033379 |  7444867604804694844 - 12  |   75.38000    4.32254   1.87726 |  0  | [-0.45398903  2.183116   -0.41977543 -0.03941453]\n",
      "| 156 | source_2  20210808_ 108629296  M16 | JCP2022_035382 |  7444879122190150342 -  6  |   51.05000    3.93281   1.70800 |  0  | [-1.1213639  -1.1014576   0.07159114 -0.17827189]\n",
      "| 157 | source_3  CP_33_all A13407bW   O09 | JCP2022_035382 |  7444879122190150342 -  6  |   51.05000    3.93281   1.70800 |  0  | [ 0.68619585  1.6153646  -0.68328565 -1.1689622 ]\n",
      "| 158 | source_8  J4        A1166159   O09 | JCP2022_035382 |  7444879122190150342 -  6  |   51.05000    3.93281   1.70800 |  0  | [-0.9661231   0.9744587  -0.6856432  -0.36993706]\n",
      "| 159 | source_7  20210727_ CP3-SC1-2  E12 | JCP2022_045967 |  7444945135052851278 - 14  |   19.37000    2.96373   1.28713 |  0  | [ 0.9760215  -0.20409775  2.8455162  -2.0404277 ]\n",
      "| 160 | source_7  20210803_ CP5-SC1-2  E12 | JCP2022_045967 |  7444945135052851278 - 14  |   19.37000    2.96373   1.28713 |  0  | [ 0.8557508  -2.0594387   0.24915886 -0.3003906 ]\n",
      "| 161 | source_7  20210731_ CP4-SC1-2  E12 | JCP2022_045967 |  7444945135052851278 - 14  |   19.37000    2.96373   1.28713 |  0  | [ 2.51204   -0.8988261  1.663293  -0.8952372]\n",
      "| 162 | source_9  20210918- GR0000437 AF30 | JCP2022_091287 |  7445220320343377542 -  6  |   68.69000    4.22960   1.83689 |  0  | [-1.8140883  0.498806  -2.6955328  2.6819205]\n",
      "| 163 | source_11 Batch5    EC000093   D06 | JCP2022_091287 |  7445220320343377542 -  6  |   68.69000    4.22960   1.83689 |  0  | [-0.40037203  2.2388039  -2.2904046  -2.531496  ]\n",
      "| 164 | source_9  20210918- GR0000437 AF06 | JCP2022_091287 |  7445220320343377542 -  6  |   68.69000    4.22960   1.83689 |  0  | [-0.13162994  0.36154747 -0.49097633 -0.6301447 ]\n",
      "| 165 | source_2  20210712_ 105359797  A04 | JCP2022_011030 |  7445221347243225104 -  0  |   72.53000    4.28400   1.86052 |  0  | [-3.8102129  0.8781004 -0.7103443 -1.1073397]\n",
      "| 166 | source_6  p211109CP 110000296  A13 | JCP2022_011030 |  7445221347243225104 -  0  |   72.53000    4.28400   1.86052 |  0  | [-1.332862    0.08969116  1.7884266  -0.09257209]\n",
      "| 167 | source_10 2021_08_2 Dest21082  A04 | JCP2022_011030 |  7445221347243225104 -  0  |   72.53000    4.28400   1.86052 |  0  | [-1.5044007 -1.6100769  5.261218  -6.177167 ]\n",
      "| 168 | source_7  20210727_ CP3-SC1-1  K03 | JCP2022_025347 |  7445300665639130544 -  0  |  107.20000    4.67470   2.03019 |  1  | [ 0.38048577 -1.6316376  -0.6244457  -2.1310205 ]\n",
      "| 169 | source_7  20210723_ CP2-SC1-1  K03 | JCP2022_025347 |  7445300665639130544 -  0  |  107.20000    4.67470   2.03019 |  1  | [ 0.8215419 -2.6201982 -0.6991637 -2.623398 ]\n",
      "| 170 | source_7  20210731_ CP4-SC1-1  K03 | JCP2022_025347 |  7445300665639130544 -  0  |  107.20000    4.67470   2.03019 |  1  | [ 1.8950713  -0.46986628  0.5669447  -2.3909006 ]\n",
      "| 171 | source_10 2021_06_2 Dest21062  A17 | JCP2022_039432 |  7445787351924219831 -  7  |   82.53000    4.41316   1.91661 |  0  | [2.8428454  1.5727425  2.7325335  0.76735544]\n",
      "| 172 | source_3  CP_31_all B040303a   I20 | JCP2022_039432 |  7445787351924219831 -  7  |   82.53000    4.41316   1.91661 |  0  | [ 0.19446135  1.5663972   0.45117354 -0.84198534]\n",
      "| 173 | source_6  p211123CP 110000297  I20 | JCP2022_039432 |  7445787351924219831 -  7  |   82.53000    4.41316   1.91661 |  0  | [ 1.6243262  0.5880313  1.9064513 -2.2450323]\n",
      "| 174 | source_7  20210719_ CP1-SC1-0  L05 | JCP2022_081233 |  7445789253185476193 -  1  |   81.00000    4.39445   1.90849 |  0  | [-0.79272723  1.460247   -0.45752418 -0.3796718 ]\n",
      "| 175 | source_7  20210731_ CP4-SC1-0  L05 | JCP2022_081233 |  7445789253185476193 -  1  |   81.00000    4.39445   1.90849 |  0  | [ 0.46271276 -0.73896885  1.131784   -0.54575586]\n",
      "| 176 | source_7  20210803_ CP5-SC1-0  L05 | JCP2022_081233 |  7445789253185476193 -  1  |   81.00000    4.39445   1.90849 |  0  | [-0.12294149 -0.9286771  -0.21907938 -1.771388  ]\n",
      "| 177 | source_3  CP_31_all B040903b   F15 | JCP2022_005445 |  7445888649869298107 - 11  |   74.90000    4.31615   1.87448 |  0  | [-2.2596586   4.2707167  -1.5673838  -0.23612666]\n",
      "| 178 | source_6  p210927CP 110000296  F15 | JCP2022_005445 |  7445888649869298107 - 11  |   74.90000    4.31615   1.87448 |  0  | [-0.48701656  1.9249792   3.66754    -1.8128543 ]\n",
      "| 179 | source_1  Batch5_20 UL001781   K30 | JCP2022_005445 |  7445888649869298107 - 11  |   74.90000    4.31615   1.87448 |  0  | [-1.3090677   0.69833946 -0.19241947 -0.17785847]\n",
      "| 180 | source_8  J2        A1170446   D18 | JCP2022_012871 |  7445964131557684781 - 13  |   45.67000    3.82144   1.65963 |  0  | [-1.0843812   1.9770236  -0.79855084 -2.1247432 ]\n",
      "| 181 | source_3  CP_28_all SP20P23b   D18 | JCP2022_012871 |  7445964131557684781 - 13  |   45.67000    3.82144   1.65963 |  0  | [-0.13338208  1.4221654   0.52485144 -0.4009211 ]\n",
      "| 182 | source_1  Batch5_20 UL001773   G36 | JCP2022_012871 |  7445964131557684781 - 13  |   45.67000    3.82144   1.65963 |  0  | [ 1.9103289  0.9760995 -1.4159204 -0.5285541]\n",
      "| 183 | source_6  p210928CP 110000296  E19 | JCP2022_040300 |  7445988389184543761 -  1  |   88.43000    4.48221   1.94660 |  0  | [ 1.0848099  -0.47612858  1.1111608  -0.9615315 ]\n",
      "| 184 | source_10 2021_06_2 Dest21062  J16 | JCP2022_040300 |  7445988389184543761 -  1  |   88.43000    4.48221   1.94660 |  0  | [ 0.8389833   2.0188503  -0.00462162 -1.7385614 ]\n",
      "| 185 | source_1  Batch3_20 UL001785   J38 | JCP2022_040300 |  7445988389184543761 -  1  |   88.43000    4.48221   1.94660 |  0  | [-1.7138517  -0.41048813 -2.067268   -1.885578  ]\n",
      "| 186 | source_3  CP_29_all SP28P31b   K08 | JCP2022_089234 |  7446471979091078275 -  3  |   76.38000    4.33572   1.88298 |  0  | [ 0.24333954  1.6052618  -0.98312163 -0.55043674]\n",
      "| 187 | source_2  20210726_ 108629348  E14 | JCP2022_089234 |  7446471979091078275 -  3  |   76.38000    4.33572   1.88298 |  0  | [ 0.15255666 -0.71608114  1.1170064  -0.29390907]\n",
      "| 188 | source_8  J2        A1170438   K08 | JCP2022_089234 |  7446471979091078275 -  3  |   76.38000    4.33572   1.88298 |  0  | [ 0.34845877 -0.3292966   0.11608422 -1.1522293 ]\n",
      "| 189 | source_11 Batch3    EC000167   H16 | JCP2022_093390 |  7446473855600492246 -  6  |   70.81000    4.26000   1.85009 |  0  | [-0.01244879  0.6534271  -1.1643881  -2.4356234 ]\n",
      "| 190 | source_8  J1        A1170399   L19 | JCP2022_093390 |  7446473855600492246 -  6  |   70.81000    4.26000   1.85009 |  0  | [-0.28433037  0.42796564  1.3440046  -1.3058302 ]\n",
      "| 191 | source_1  Batch4_20 UL001765   W37 | JCP2022_093390 |  7446473855600492246 -  6  |   70.81000    4.26000   1.85009 |  0  | [-1.4258394 -2.3071384 -0.7883642 -1.0673519]\n",
      "| 192 | source_1  Batch2_20 UL001671   E10 | JCP2022_027161 |  7446553715022364759 -  7  |   87.95000    4.47677   1.94424 |  0  | [ 1.8637626   1.1829128  -0.5713521   0.22391546]\n",
      "| 193 | source_6  p210914CP 110000296  C05 | JCP2022_027161 |  7446553715022364759 -  7  |   87.95000    4.47677   1.94424 |  0  | [-0.20774746  0.21926975 -0.22304392 -0.60352254]\n",
      "| 194 | source_8  J1        A1170412   C05 | JCP2022_027161 |  7446553715022364759 -  7  |   87.95000    4.47677   1.94424 |  0  | [ 1.1151724   2.5479207  -0.00465298 -0.2647136 ]\n",
      "| 195 | source_9  20210914- GR0000330  K36 | JCP2022_107056 |  7446819220533151146 - 10  |   62.47000    4.13469   1.79567 |  0  | [-0.64445305  3.1373243  -0.7226592  -0.14951181]\n",
      "| 196 | source_5  JUMPCPE-2 ATSJUM108  K12 | JCP2022_107056 |  7446819220533151146 - 10  |   62.47000    4.13469   1.79567 |  0  | [-0.375067    0.9006667   0.00541592  0.56514484]\n",
      "| 197 | source_9  20210914- GR0000330 AA12 | JCP2022_107056 |  7446819220533151146 - 10  |   62.47000    4.13469   1.79567 |  0  | [-0.46842337 -0.992733    1.2135129  -0.4112143 ]\n",
      "| 198 | source_6  p211102CP 110000295  E17 | JCP2022_116671 |  7446987625273244509 - 13  |   46.40000    3.83730   1.66652 |  0  | [-0.13422251 -0.40997553  3.658462   -0.5679477 ]\n",
      "| 199 | source_8  J3        A1170519   E17 | JCP2022_116671 |  7446987625273244509 - 13  |   46.40000    3.83730   1.66652 |  0  | [-0.5301349   0.75170565  1.2741759  -1.8670359 ]\n",
      "| 200 | source_3  CP_35_all BAY5868c   E17 | JCP2022_116671 |  7446987625273244509 - 13  |   46.40000    3.83730   1.66652 |  0  | [ 0.5661099   2.9625149   1.2913158  -0.80756724]\n",
      "| 201 | source_3  CP59      BR5869d3   B15 | JCP2022_083487 |  7447091039698017210 - 10  |   46.09000    3.83060   1.66361 |  0  | [ 1.2360629  -0.29896355  0.49092484 -0.7898259 ]\n",
      "| 202 | source_3  CP_35_all BAY5869d   B15 | JCP2022_083487 |  7447091039698017210 - 10  |   46.09000    3.83060   1.66361 |  0  | [ 0.4459586   0.34238243 -0.33224523 -1.4415811 ]\n",
      "| 203 | source_8  J3        A1170524   B15 | JCP2022_083487 |  7447091039698017210 - 10  |   46.09000    3.83060   1.66361 |  0  | [ 0.0369122   0.894547    0.81816816 -0.8182171 ]\n",
      "| 204 | source_7  20210803_ CP5-SC1-0  K07 | JCP2022_019629 |  7447100256188057823 - 15  |   55.76000    4.02106   1.74632 |  0  | [ 3.8412328  -2.6246586   3.26023    -0.02265871]\n",
      "| 205 | source_8  J2        A1170480   F11 | JCP2022_019629 |  7447100256188057823 - 15  |   55.76000    4.02106   1.74632 |  0  | [ 1.5818021   0.14152241 -0.06762695 -1.3897774 ]\n",
      "| 206 | source_7  20210731_ CP4-SC1-0  K07 | JCP2022_019629 |  7447100256188057823 - 15  |   55.76000    4.02106   1.74632 |  0  | [-0.7794249  0.3308196  3.0967412 -2.3085856]\n",
      "| 207 | source_11 Batch5    EC000072   I07 | JCP2022_057605 |  7447475558696082070 -  6  |   87.99000    4.47722   1.94443 |  0  | [ 1.3968587   0.21696186  2.80092    -6.969001  ]\n",
      "| 208 | source_9  20210914- GR0000329  K32 | JCP2022_057605 |  7447475558696082070 -  6  |   87.99000    4.47722   1.94443 |  0  | [11.02215    7.4772453 11.871658  -8.259242 ]\n",
      "| 209 | source_9  20210914- GR0000329  K08 | JCP2022_057605 |  7447475558696082070 -  6  |   87.99000    4.47722   1.94443 |  0  | [12.295986  9.172562 11.784075 -8.685648]\n",
      "| 210 | source_5  JUMPCPE-2 AETJUM117  J19 | JCP2022_080515 |  7447542630062083361 -  1  |   81.12000    4.39593   1.90913 |  0  | [-0.6340983   2.557753    1.8126409   0.66237503]\n",
      "| 211 | source_9  20210831- GR0000333  Z43 | JCP2022_080515 |  7447542630062083361 -  1  |   81.12000    4.39593   1.90913 |  0  | [-1.3475308   1.0915308   0.34169352 -0.63520104]\n",
      "| 212 | source_11 Batch3    EC000149   N08 | JCP2022_080515 |  7447542630062083361 -  1  |   81.12000    4.39593   1.90913 |  0  | [-0.63098884  1.1596508  -1.6035757   0.38250375]\n",
      "| 213 | source_10 2021_06_0 Dest21060  F04 | JCP2022_022484 |  7447603161896579821 - 13  |   58.22000    4.06423   1.76507 |  0  | [-0.7183516   1.2410264   0.12815595  0.7089753 ]\n",
      "| 214 | source_1  Batch5_20 UL001773   E25 | JCP2022_022484 |  7447603161896579821 - 13  |   58.22000    4.06423   1.76507 |  0  | [ 1.023488   2.7376847  1.1532332 -1.2928015]\n",
      "| 215 | source_3  CP_28_all SP20P23a   C13 | JCP2022_022484 |  7447603161896579821 - 13  |   58.22000    4.06423   1.76507 |  0  | [-0.3665347   1.7132993   0.39124888 -1.5504239 ]\n",
      "| 216 | source_9  20210915- GR0000330  R06 | JCP2022_020137 |  7447710296815067889 -  1  |  111.79000    4.71662   2.04840 |  1  | [ 0.5313208  -0.07129097 -0.44376242 -1.176123  ]\n",
      "| 217 | source_9  20210915- GR0000330  B06 | JCP2022_020137 |  7447710296815067889 -  1  |  111.79000    4.71662   2.04840 |  1  | [0.49469137 0.6208186  1.6852287  0.84327257]\n",
      "| 218 | source_9  20210915- GR0000330  R30 | JCP2022_020137 |  7447710296815067889 -  1  |  111.79000    4.71662   2.04840 |  1  | [-0.32212996  1.8025017  -0.82760024  0.6360384 ]\n",
      "| 219 | source_6  p210824CP 110000293  A17 | JCP2022_064829 |  7447746705719177417 -  9  |   88.43000    4.48221   1.94660 |  0  | [-0.22261739 -0.26390505  2.4390428  -0.48007804]\n",
      "| 220 | source_2  20210719_ 108629400  A11 | JCP2022_064829 |  7447746705719177417 -  9  |   88.43000    4.48221   1.94660 |  0  | [-1.6260425   0.98173904  1.2989247   2.594816  ]\n",
      "| 221 | source_3  CP_26_all J12459a    A17 | JCP2022_064829 |  7447746705719177417 -  9  |   88.43000    4.48221   1.94660 |  0  | [ 0.39014983 -0.41466427  0.4968512  -0.4763    ]\n",
      "| 222 | source_10 2021_06_1 Dest21061  D16 | JCP2022_015557 |  7447882563709667624 -  8  |   88.54000    4.48345   1.94714 |  0  | [ 0.55361557  3.0099788   0.33344364 -1.62759   ]\n",
      "| 223 | source_3  CP_32_all B40003dW   J09 | JCP2022_015557 |  7447882563709667624 -  8  |   88.54000    4.48345   1.94714 |  0  | [1.388325   1.5339637  1.2698445  0.64717436]\n",
      "| 224 | source_10 2021_08_2 Dest21082  D16 | JCP2022_015557 |  7447882563709667624 -  8  |   88.54000    4.48345   1.94714 |  0  | [-0.23074198 -0.7545681   1.4461627  -2.7959776 ]\n",
      "| 225 | source_1  Batch1_20 UL001655   O07 | JCP2022_062925 |  7447939065687619789 - 13  |   75.51000    4.32427   1.87800 |  0  | [-0.8193226   1.8467054  -0.47755706 -0.5679333 ]\n",
      "| 226 | source_5  JUMPCPE-2 AEOJUM706  O05 | JCP2022_062925 |  7447939065687619789 - 13  |   75.51000    4.32427   1.87800 |  0  | [-0.54313254 -1.2904158   1.9556515  -1.9318974 ]\n",
      "| 227 | source_5  JUMPCPE-2 AEOJUM406  O05 | JCP2022_062925 |  7447939065687619789 - 13  |   75.51000    4.32427   1.87800 |  0  | [ 0.76412106 -0.6008134   1.6760691  -1.555746  ]\n",
      "| 228 | source_11 Batch2    EC000043   I04 | JCP2022_071205 |  7448051027034565983 - 15  |   30.29000    3.41082   1.48130 |  0  | [ 1.1630983   0.17143917 -0.17708361 -3.0117233 ]\n",
      "| 229 | source_9  20211102- GR0000440  B13 | JCP2022_071205 |  7448051027034565983 - 15  |   30.29000    3.41082   1.48130 |  0  | [-0.42551684  2.811851   -0.5185987  -0.31353652]\n",
      "| 230 | source_9  20211102- GR0000440  R13 | JCP2022_071205 |  7448051027034565983 - 15  |   30.29000    3.41082   1.48130 |  0  | [ 0.72233963  0.9180174  -0.19943547  0.12507164]\n",
      "| 231 | source_8  J4        A1166169   J22 | JCP2022_060327 |  7448186716404779009 -  1  |   88.18000    4.47938   1.94537 |  0  | [-0.34308338  0.66187096  0.48225087 -0.9277849 ]\n",
      "| 232 | source_1  Batch1_20 UL001645   T44 | JCP2022_060327 |  7448186716404779009 -  1  |   88.18000    4.47938   1.94537 |  0  | [-1.4928629   1.5624843  -0.40588856  0.96725047]\n",
      "| 233 | source_2  20210808_ 108629272  D22 | JCP2022_060327 |  7448186716404779009 -  1  |   88.18000    4.47938   1.94537 |  0  | [-0.8717344  1.3445697  0.6934942  0.6502231]\n",
      "| 234 | source_10 2021_08_1 Dest21080  B15 | JCP2022_009146 |  7448207052544240370 -  2  |  101.41000    4.61917   2.00608 |  1  | [-0.32717586  0.79226446  1.1218296  -1.96891   ]\n",
      "| 235 | source_6  p210914CP 110000296  A09 | JCP2022_009146 |  7448207052544240370 -  2  |  101.41000    4.61917   2.00608 |  1  | [ 0.9509597  -0.92904615  1.6756577  -0.23507476]\n",
      "| 236 | source_2  20210614_ 105360085  B15 | JCP2022_009146 |  7448207052544240370 -  2  |  101.41000    4.61917   2.00608 |  1  | [-1.3896748  -0.04714775  1.4177227  -0.1820479 ]\n",
      "| 237 | source_1  Batch5_20 UL001797   O10 | JCP2022_111805 |  7448643179990038950 -  6  |   92.70000    4.52937   1.96708 |  0  | [ 2.5022414  2.5610714 -1.0616649 -0.890113 ]\n",
      "| 238 | source_10 2021_06_2 Dest21062  O08 | JCP2022_111805 |  7448643179990038950 -  6  |   92.70000    4.52937   1.96708 |  0  | [-1.7775445  -1.1272626   0.8366895   0.20370638]\n",
      "| 239 | source_6  p211004CP 110000295  H05 | JCP2022_111805 |  7448643179990038950 -  6  |   92.70000    4.52937   1.96708 |  0  | [-0.08043528 -0.6175699   0.9264592  -0.96460116]\n",
      "| 240 | source_1  Batch1_20 UL001651   T41 | JCP2022_030239 |  7448731382121590625 -  1  |   79.20000    4.37198   1.89873 |  0  | [-2.6721263  2.138361  -3.1978674 -0.3813517]\n",
      "| 241 | source_3  CP_33_all A13407cW   J21 | JCP2022_030239 |  7448731382121590625 -  1  |   79.20000    4.37198   1.89873 |  0  | [ 0.10884666  0.6365485  -0.9541817  -0.41037023]\n",
      "| 242 | source_2  20210808_ 108629295  D19 | JCP2022_030239 |  7448731382121590625 -  1  |   79.20000    4.37198   1.89873 |  0  | [-0.80703783  0.97720003  1.3844725  -0.87559545]\n",
      "| 243 | source_11 Batch3    EC000139   I05 | JCP2022_062246 |  7448790128235003238 -  6  |   82.44000    4.41207   1.91614 |  0  | [-1.6663246  -1.2410259  -0.63530433 -4.5002356 ]\n",
      "| 244 | source_9  20210824- GR0000338  S13 | JCP2022_062246 |  7448790128235003238 -  6  |   82.44000    4.41207   1.91614 |  0  | [-0.4684254   1.6255713  -0.37182024  0.66394925]\n",
      "| 245 | source_5  JUMPCPE-2 AETJUM107  C13 | JCP2022_062246 |  7448790128235003238 -  6  |   82.44000    4.41207   1.91614 |  0  | [-2.9120245  -1.7766047   0.38245094 -1.3409083 ]\n",
      "| 246 | source_6  p211109CP 110000296  E18 | JCP2022_101444 |  7448823125593373997 - 13  |   36.44000    3.59567   1.56158 |  0  | [ 0.04905915 -1.0886493   1.096695   -0.54098886]\n",
      "| 247 | source_10 2021_06_0 Dest21060  J14 | JCP2022_101444 |  7448823125593373997 - 13  |   36.44000    3.59567   1.56158 |  0  | [-1.4709238   1.6910768   0.28834766 -0.5342139 ]\n",
      "| 248 | source_2  20210614_ 105360088  J14 | JCP2022_101444 |  7448823125593373997 - 13  |   36.44000    3.59567   1.56158 |  0  | [ 1.2733285  -0.31117868  1.720724    0.36031318]\n",
      "| 249 | source_5  JUMPCPE-2 AETJUM121  A18 | JCP2022_006562 |  7448890260071351199 - 15  |   70.16000    4.25078   1.84609 |  0  | [-0.12845564  0.81482744 -0.09370387 -0.54637784]\n",
      "| 250 | source_11 Batch4    EC000123   M03 | JCP2022_006562 |  7448890260071351199 - 15  |   70.16000    4.25078   1.84609 |  0  | [ 1.1025193   1.8979216  -0.68382096 -1.6004754 ]\n",
      "| 251 | source_9  20210831- GR0000333  Q18 | JCP2022_006562 |  7448890260071351199 - 15  |   70.16000    4.25078   1.84609 |  0  | [ 0.44634604  2.3286743  -1.5054582  -2.2125316 ]\n",
      "| 252 | source_3  CP_35_all BAY5867c   F16 | JCP2022_019125 |  7448905059464858450 -  2  |   20.31000    3.01111   1.30771 |  0  | [0.12855232 2.2191658  0.8391142  1.923142  ]\n",
      "| 253 | source_3  CP59      BR5867c3   F16 | JCP2022_019125 |  7448905059464858450 -  2  |   20.31000    3.01111   1.30771 |  0  | [-0.06876016  1.1127214  -0.17687178 -0.97136104]\n",
      "| 254 | source_2  20210816_ 108629228  L09 | JCP2022_019125 |  7448905059464858450 -  2  |   20.31000    3.01111   1.30771 |  0  | [ 0.07034326 -0.8979111   1.5502061  -3.4542575 ]\n",
      "| 255 | source_6  p211109CP 110000296  G05 | JCP2022_075865 |  7449145190078298833 -  1  |   95.89000    4.56320   1.98177 |  0  | [ 0.7969277   0.23474693  1.3356566  -0.29815328]\n",
      "| 256 | source_10 2021_06_1 Dest21061  M08 | JCP2022_075865 |  7449145190078298833 -  1  |   95.89000    4.56320   1.98177 |  0  | [-0.9106095  0.5831137 -1.0167099 -1.07512  ]\n",
      "| 257 | source_8  J2        A1170486   G05 | JCP2022_075865 |  7449145190078298833 -  1  |   95.89000    4.56320   1.98177 |  0  | [ 0.283579    0.28715706  0.46315634 -1.5787954 ]\n",
      "| 258 | source_10 2021_08_2 Dest21081  D10 | JCP2022_020025 |  7449604538665105412 -  4  |   65.18000    4.17715   1.81411 |  0  | [-3.3660793 -4.199618   1.8597996 -5.2268414]\n",
      "| 259 | source_5  JUMPCPE-2 AEOJUM806  L15 | JCP2022_020025 |  7449604538665105412 -  4  |   65.18000    4.17715   1.81411 |  0  | [ 0.74307823 -0.910861    1.9416817  -0.9088298 ]\n",
      "| 260 | source_5  JUMPCPE-2 AEOJUM706  L15 | JCP2022_020025 |  7449604538665105412 -  4  |   65.18000    4.17715   1.81411 |  0  | [ 1.2278402 -1.6458855  2.7195768  1.0558212]\n",
      "| 261 | source_1  Batch5_20 UL001793   B19 | JCP2022_099383 |  7449820399984555149 - 13  |   71.51000    4.26984   1.85437 |  0  | [-0.35194492 -0.40262604  2.4917827  -2.0347462 ]\n",
      "| 262 | source_10 2021_08_1 Dest21080  B17 | JCP2022_099383 |  7449820399984555149 - 13  |   71.51000    4.26984   1.85437 |  0  | [ 1.1769519  -0.24633121  2.3715668  -2.2688968 ]\n",
      "| 263 | source_6  p210928CP 110000296  A10 | JCP2022_099383 |  7449820399984555149 - 13  |   71.51000    4.26984   1.85437 |  0  | [-1.1654699  -0.65917397  2.9416137  -2.222072  ]\n",
      "| 264 | source_8  J1        A1170428   L08 | JCP2022_045982 |  7449881880827689146 - 10  |  176.55000    5.17360   2.24687 |  1  | [ 0.26571178  0.76968384 -0.6649642  -0.7907802 ]\n",
      "| 265 | source_1  Batch6_20 UL000599   W16 | JCP2022_045982 |  7449881880827689146 - 10  |  176.55000    5.17360   2.24687 |  1  | [ 0.09647775 -0.15320015 -0.12235051 -1.0181642 ]\n",
      "| 266 | source_3  CP_29_all SP36P38b   L08 | JCP2022_045982 |  7449881880827689146 - 10  |  176.55000    5.17360   2.24687 |  1  | [ 0.21113276 -0.24003553 -0.1294012   0.17964798]\n",
      "| 267 | source_10 2021_08_1 Dest21080  H12 | JCP2022_091996 |  7449988607949873933 - 13  |   51.66000    3.94468   1.71315 |  0  | [-0.07112861 -0.22721672 -1.8077726   0.701879  ]\n",
      "| 268 | source_6  p210928CP 110000296  D07 | JCP2022_091996 |  7449988607949873933 - 13  |   51.66000    3.94468   1.71315 |  0  | [-2.0611107 -0.9722595  1.0848945 -0.8417914]\n",
      "| 269 | source_1  Batch5_20 UL001793   H14 | JCP2022_091996 |  7449988607949873933 - 13  |   51.66000    3.94468   1.71315 |  0  | [-1.1688378   0.698987   -0.45127964 -1.5255691 ]\n",
      "| 270 | source_11 Batch2    EC000049   F09 | JCP2022_033702 |  7450029519896666099 -  3  |   80.98000    4.39420   1.90838 |  0  | [ 0.31518054  1.4638844  -1.9118855  -1.7857674 ]\n",
      "| 271 | source_9  20211013- GR0000328 AA09 | JCP2022_033702 |  7450029519896666099 -  3  |   80.98000    4.39420   1.90838 |  0  | [ 1.3863678  -0.14345741  0.16300619 -1.8801589 ]\n",
      "| 272 | source_9  20211013- GR0000328 AA33 | JCP2022_033702 |  7450029519896666099 -  3  |   80.98000    4.39420   1.90838 |  0  | [-0.7504811  3.081952  -1.6940126 -1.4855464]\n",
      "| 273 | source_2  20211003_ 108628964  F21 | JCP2022_000078 |  7450064621948574306 -  2  |   41.37000    3.72256   1.61669 |  0  | [-0.78253317 -0.23226547  0.90400577 -1.5327704 ]\n",
      "| 274 | source_10 2021_08_2 Dest21082  F21 | JCP2022_000078 |  7450064621948574306 -  2  |   41.37000    3.72256   1.61669 |  0  | [1.4109595  1.9275951  0.774124   0.16284871]\n",
      "| 275 | source_6  p210824CP 110000293  K12 | JCP2022_000078 |  7450064621948574306 -  2  |   41.37000    3.72256   1.61669 |  0  | [ 0.87865543 -0.78513193  3.8684156  -0.38496244]\n",
      "| 276 | source_9  20211013- GR0000328 AA06 | JCP2022_114936 |  7450376032727880940 - 12  |   54.90000    4.00551   1.73957 |  0  | [ 0.71108866  0.21359205  2.3101342  -0.18644166]\n",
      "| 277 | source_11 Batch2    EC000050   C21 | JCP2022_114936 |  7450376032727880940 - 12  |   54.90000    4.00551   1.73957 |  0  | [-0.71339    2.8672018 -1.4648051 -1.6513705]\n",
      "| 278 | source_9  20211013- GR0000328  K30 | JCP2022_114936 |  7450376032727880940 - 12  |   54.90000    4.00551   1.73957 |  0  | [ 0.89635324 -1.4250898   2.0226402   1.8255485 ]\n",
      "| 279 | source_5  JUMPCPE-2 APTJUM233  A14 | JCP2022_070262 |  7450672224804247694 - 14  |   80.98000    4.39420   1.90838 |  0  | [-1.0374999  1.5413022  0.7516842  0.5043764]\n",
      "| 280 | source_9  20211013- GR0000328  A38 | JCP2022_070262 |  7450672224804247694 - 14  |   80.98000    4.39420   1.90838 |  0  | [-1.2043631  3.1062174 -0.6585245  0.9039439]\n",
      "| 281 | source_9  20211013- GR0000328  Q38 | JCP2022_070262 |  7450672224804247694 - 14  |   80.98000    4.39420   1.90838 |  0  | [ 0.08443856  0.5717678  -0.4413731  -1.7631569 ]\n",
      "| 282 | source_8  J1        A1170411   B22 | JCP2022_107957 |  7450739210981602465 -  1  |  100.07000    4.60587   2.00030 |  1  | [ 0.16573024 -0.15503216  0.8505908  -2.0889416 ]\n",
      "| 283 | source_1  Batch2_20 UL001671   C43 | JCP2022_107957 |  7450739210981602465 -  1  |  100.07000    4.60587   2.00030 |  1  | [ 1.3596442   0.62784195  0.0352428  -1.2297997 ]\n",
      "| 284 | source_10 2021_08_0 Dest21072  C21 | JCP2022_107957 |  7450739210981602465 -  1  |  100.07000    4.60587   2.00030 |  1  | [-0.54105556 -0.33534384  0.9174726  -1.918709  ]\n",
      "| 285 | source_8  J4        A1166160   N04 | JCP2022_044322 |  7450771950818694127 - 15  |  113.05000    4.72783   2.05327 |  1  | [-0.02031791  1.1827455   1.029171   -0.00868523]\n",
      "| 286 | source_1  Batch1_20 UL001651  AB07 | JCP2022_044322 |  7450771950818694127 - 15  |  113.05000    4.72783   2.05327 |  1  | [-0.6503103   0.30470943  0.4105     -0.9113805 ]\n",
      "| 287 | source_3  CP_33_all A13407cW   N04 | JCP2022_044322 |  7450771950818694127 - 15  |  113.05000    4.72783   2.05327 |  1  | [ 0.03178251  1.4661746  -0.2929194  -1.6105669 ]\n",
      "| 288 | source_3  CP_28_all SP24P27a   G16 | JCP2022_050701 |  7450991520636847657 -  9  |   84.25000    4.43379   1.92557 |  0  | [ 0.04231358  1.9905663   0.4976027  -1.0761311 ]\n",
      "| 289 | source_10 2021_08_1 Dest21080  N10 | JCP2022_050701 |  7450991520636847657 -  9  |   84.25000    4.43379   1.92557 |  0  | [-1.3005754   0.29114962  2.6782813  -3.2870777 ]\n",
      "| 290 | source_8  J2        A1170441   G16 | JCP2022_050701 |  7450991520636847657 -  9  |   84.25000    4.43379   1.92557 |  0  | [-0.73588204 -0.6761942   1.325773   -1.9584731 ]\n",
      "| 291 | source_6  p211004CP 110000295  A09 | JCP2022_049158 |  7451189233244628683 - 11  |   92.43000    4.52645   1.96581 |  0  | [ 0.6110668 -1.3391628  2.1086662 -1.8153541]\n",
      "| 292 | source_3  CP_32_all B40003bW   A09 | JCP2022_049158 |  7451189233244628683 - 11  |   92.43000    4.52645   1.96581 |  0  | [-1.1420076  -3.0595675   1.7692409  -0.24880886]\n",
      "| 293 | source_1  Batch4_20 UL001771   A18 | JCP2022_049158 |  7451189233244628683 - 11  |   92.43000    4.52645   1.96581 |  0  | [-2.8618827  -0.6634598  -0.1726054   0.48907256]\n",
      "| 294 | source_11 Batch5    EC000082   I16 | JCP2022_056597 |  7451322387563520384 -  0  |   68.54000    4.22742   1.83594 |  0  | [ 0.6062441   1.1526165  -0.02072173 -0.00346434]\n",
      "| 295 | source_9  20210915- GR0000330  N13 | JCP2022_056597 |  7451322387563520384 -  0  |   68.54000    4.22742   1.83594 |  0  | [ 0.6001365   1.260067    2.1050234  -0.03066403]\n",
      "| 296 | source_9  20210915- GR0000330  N37 | JCP2022_056597 |  7451322387563520384 -  0  |   68.54000    4.22742   1.83594 |  0  | [-0.1047467  2.104282  -1.123153  -1.0106188]\n",
      "| 297 | source_11 Batch2    EC000052   F09 | JCP2022_059993 |  7451780991050943246 - 14  |   75.51000    4.32427   1.87800 |  0  | [ 0.559978   2.334611   1.6404161 -1.2290345]\n",
      "| 298 | source_9  20211013- GR0000438 AA09 | JCP2022_059993 |  7451780991050943246 - 14  |   75.51000    4.32427   1.87800 |  0  | [1.0577164 4.183423  0.7785294 2.4931283]\n",
      "| 299 | source_11 Batch2    EC000069   F09 | JCP2022_059993 |  7451780991050943246 - 14  |   75.51000    4.32427   1.87800 |  0  | [-0.83486605  1.573184   -0.61512804 -0.4717158 ]\n",
      "| 300 | source_11 Batch5    EC000077   L07 | JCP2022_096303 |  7451840188251223486 - 14  |   63.64000    4.15324   1.80373 |  0  | [ 1.1545182   0.7355056   0.98457134 -1.2736871 ]\n",
      "| 301 | source_9  20210914- GR0000330  Q17 | JCP2022_096303 |  7451840188251223486 - 14  |   63.64000    4.15324   1.80373 |  0  | [-1.2536048   2.251174   -0.90637636 -1.594873  ]\n",
      "| 302 | source_5  JUMPCPE-2 ATSJUM207  A17 | JCP2022_096303 |  7451840188251223486 - 14  |   63.64000    4.15324   1.80373 |  0  | [-1.3887644   0.22905827  0.09213758 -0.56679446]\n",
      "| 303 | source_9  20210915- GR0000331  F27 | JCP2022_059835 |  7451849240034882422 -  6  |   83.91000    4.42974   1.92381 |  0  | [-0.67432714  0.21748257 -0.01212287 -1.2062594 ]\n",
      "| 304 | source_9  20210915- GR0000331  V03 | JCP2022_059835 |  7451849240034882422 -  6  |   83.91000    4.42974   1.92381 |  0  | [-0.9281554   1.7849808  -0.20419335 -0.59703237]\n",
      "| 305 | source_11 Batch5    EC000086   A08 | JCP2022_059835 |  7451849240034882422 -  6  |   83.91000    4.42974   1.92381 |  0  | [ 0.07857072  1.1405473  -0.6935384  -0.7311186 ]\n",
      "| 306 | source_5  JUMPCPE-2 AEOJUM202  F19 | JCP2022_044006 |  7452394971137166056 -  8  |   84.41000    4.43569   1.92639 |  0  | [-2.051478   1.4704895  3.548304  -1.3137312]\n",
      "| 307 | source_5  JUMPCPE-2 AEOJUM902  F19 | JCP2022_044006 |  7452394971137166056 -  8  |   84.41000    4.43569   1.92639 |  0  | [-3.1521358   0.31198502  2.6604817  -1.8355699 ]\n",
      "| 308 | source_8  J1        A1170418   M05 | JCP2022_044006 |  7452394971137166056 -  8  |   84.41000    4.43569   1.92639 |  0  | [-2.5617168  1.5245585  1.4222786 -0.6720439]\n",
      "| 309 | source_9  20211102- GR0000439  E34 | JCP2022_033366 |  7452513394963396352 -  0  |   77.05000    4.34445   1.88677 |  0  | [-1.1420382   2.4647121  -0.5128305  -0.63532865]\n",
      "| 310 | source_9  20211102- GR0000439  U10 | JCP2022_033366 |  7452513394963396352 -  0  |   77.05000    4.34445   1.88677 |  0  | [-0.01446044  0.99050426  0.51572514 -2.105684  ]\n",
      "| 311 | source_11 Batch1    EC000022   F19 | JCP2022_033366 |  7452513394963396352 -  0  |   77.05000    4.34445   1.88677 |  0  | [ 0.41538978 -1.0270066  -0.68808603 -1.1908145 ]\n",
      "| 312 | source_10 2021_08_1 Dest21080  N12 | JCP2022_057530 |  7452591112716300978 -  2  |   68.02000    4.21980   1.83264 |  0  | [-1.7444117  0.9557462  0.2594521 -1.5857522]\n",
      "| 313 | source_2  20210607_ 105360181  N12 | JCP2022_057530 |  7452591112716300978 -  2  |   68.02000    4.21980   1.83264 |  0  | [-0.7570305   0.3306961   0.46263897  0.05780923]\n",
      "| 314 | source_6  p211123CP 110000297  G17 | JCP2022_057530 |  7452591112716300978 -  2  |   68.02000    4.21980   1.83264 |  0  | [-1.6723657 -0.7923136  3.079405  -3.6180584]\n",
      "| 315 | source_6  p211109CP 110000296  I11 | JCP2022_078498 |  7452901419223149226 - 10  |   86.55000    4.46072   1.93727 |  0  | [-1.1664786   0.01092529  0.9696324   0.7266042 ]\n",
      "| 316 | source_2  20210614_ 105360075  A20 | JCP2022_078498 |  7452901419223149226 - 10  |   86.55000    4.46072   1.93727 |  0  | [-1.0451524 -1.3813024  0.6909354 -0.6468065]\n",
      "| 317 | source_8  J2        A1170486   I11 | JCP2022_078498 |  7452901419223149226 - 10  |   86.55000    4.46072   1.93727 |  0  | [ 1.0623453   0.47533512  1.2047815  -0.46085715]\n",
      "| 318 | source_8  J4        A1166176   P21 | JCP2022_067097 |  7453160097491477265 -  1  |  108.37000    4.68555   2.03491 |  1  | [-0.8262334  3.0824242 -1.718925  -1.4693834]\n",
      "| 319 | source_3  CP_25_all C13487cW   P21 | JCP2022_067097 |  7453160097491477265 -  1  |  108.37000    4.68555   2.03491 |  1  | [ 1.5185502  0.8385067  1.2979444 -1.3698827]\n",
      "| 320 | source_2  20210621_ 105359965  P19 | JCP2022_067097 |  7453160097491477265 -  1  |  108.37000    4.68555   2.03491 |  1  | [ 0.21882498 -0.8885546   1.6800268  -1.034191  ]\n",
      "| 321 | source_5  JUMPCPE-2 AEOJUM304  N17 | JCP2022_032554 |  7453252430009550661 -  5  |   80.78000    4.39173   1.90730 |  0  | [-1.6320809   1.9662938   3.421979   -0.28983152]\n",
      "| 322 | source_8  J1        A1170418   G15 | JCP2022_032554 |  7453252430009550661 -  5  |   80.78000    4.39173   1.90730 |  0  | [-0.8210864  1.5088243  1.1866928  0.7354789]\n",
      "| 323 | source_5  JUMPCPE-2 AEOJUM404  N17 | JCP2022_032554 |  7453252430009550661 -  5  |   80.78000    4.39173   1.90730 |  0  | [1.2838955  0.32925606 2.6407385  0.12650824]\n",
      "| 324 | source_9  20210824- GR0000338  H44 | JCP2022_010241 |  7453370988063051734 -  6  |   62.21000    4.13052   1.79386 |  0  | [-0.06501293  0.32562733 -0.8609497  -1.6025958 ]\n",
      "| 325 | source_11 Batch3    EC000133   N22 | JCP2022_010241 |  7453370988063051734 -  6  |   62.21000    4.13052   1.79386 |  0  | [ 2.8479085   0.29752302 -2.321586   -2.7309136 ]\n",
      "| 326 | source_5  JUMPCPE-2 AETJUM101  H20 | JCP2022_010241 |  7453370988063051734 -  6  |   62.21000    4.13052   1.79386 |  0  | [ 0.15897703  1.0611691   1.705245   -0.51064855]\n",
      "| 327 | source_6  p211102CP 110000295  L06 | JCP2022_031576 |  7453537758557667932 - 12  |   51.96000    3.95047   1.71567 |  0  | [-0.03833914  0.4315443   0.9342079  -1.1408218 ]\n",
      "| 328 | source_10 2021_06_1 Dest21061  G10 | JCP2022_031576 |  7453537758557667932 - 12  |   51.96000    3.95047   1.71567 |  0  | [-0.7190726   0.8506088   0.06247848  0.71989787]\n",
      "| 329 | source_9  20211103- GR0000441  C29 | JCP2022_031576 |  7453537758557667932 - 12  |   51.96000    3.95047   1.71567 |  0  | [0.21691012 1.6129589  0.8102343  0.25547677]\n",
      "| 330 | source_1  Batch3_20 UL001787   Z13 | JCP2022_105578 |  7454027263618934012 - 12  |   47.48000    3.86031   1.67651 |  0  | [-0.9183483  1.9467363  1.2635825  0.2932706]\n",
      "| 331 | source_6  p211123CP 110000297  M07 | JCP2022_105578 |  7454027263618934012 - 12  |   47.48000    3.86031   1.67651 |  0  | [-0.5530147  -0.26192856  0.9019044  -1.886045  ]\n",
      "| 332 | source_10 2021_06_2 Dest21062  J11 | JCP2022_105578 |  7454027263618934012 - 12  |   47.48000    3.86031   1.67651 |  0  | [ 0.21509564  0.32888174  0.39750856 -0.46186548]\n",
      "| 333 | source_6  p210927CP 110000296  H13 | JCP2022_101400 |  7454399252306589907 -  3  |   95.47000    4.55881   1.97987 |  0  | [-0.4927101   1.8071675   1.5782714   0.26710063]\n",
      "| 334 | source_8  J1        A1170419   H13 | JCP2022_101400 |  7454399252306589907 -  3  |   95.47000    4.55881   1.97987 |  0  | [-0.5118866  0.5129242  0.252537  -0.6400683]\n",
      "| 335 | source_8  J3        A1170508   D05 | JCP2022_101400 |  7454399252306589907 -  3  |   95.47000    4.55881   1.97987 |  0  | [ 0.38539433 -0.38519573  0.33422887 -2.2950184 ]\n",
      "| 336 | source_7  20210803_ CP5-SC1-1  N10 | JCP2022_064148 |  7454456453992351561 -  9  |   29.26000    3.37622   1.46627 |  0  | [ 0.7888434  -1.0249815   0.44478494 -0.40962553]\n",
      "| 337 | source_7  20210731_ CP4-SC1-1  N10 | JCP2022_064148 |  7454456453992351561 -  9  |   29.26000    3.37622   1.46627 |  0  | [0.505944   0.47350216 1.1423802  0.09903449]\n",
      "| 338 | source_11 Batch3    EC000169   B08 | JCP2022_064148 |  7454456453992351561 -  9  |   29.26000    3.37622   1.46627 |  0  | [-0.39861417  1.5520811   0.80917454 -2.7040565 ]\n",
      "| 339 | source_10 2021_06_0 Dest21060  D21 | JCP2022_104825 |  7454487550837000181 -  5  |   55.98000    4.02499   1.74803 |  0  | [ 2.4453335  4.9879     5.972478  -2.2642894]\n",
      "| 340 | source_2  20210614_ 105360079  D21 | JCP2022_104825 |  7454487550837000181 -  5  |   55.98000    4.02499   1.74803 |  0  | [0.13753986 5.68132    2.304223   1.3912055 ]\n",
      "| 341 | source_8  J2        A1170475   J12 | JCP2022_104825 |  7454487550837000181 -  5  |   55.98000    4.02499   1.74803 |  0  | [-0.32098842  2.8732777   2.9151769  -1.9971377 ]\n",
      "| 342 | source_10 2021_08_0 Dest21072  G14 | JCP2022_030493 |  7454542715783540245 -  5  |   41.04000    3.71455   1.61321 |  0  | [-2.7520864   1.26303    -1.7537075  -0.09193933]\n",
      "| 343 | source_1  Batch3_20 UL000087   G36 | JCP2022_030493 |  7454542715783540245 -  5  |   41.04000    3.71455   1.61321 |  0  | [ 1.0319009  0.7795267 -1.6873201 -1.6143961]\n",
      "| 344 | source_8  J1        A1170408   D18 | JCP2022_030493 |  7454542715783540245 -  5  |   41.04000    3.71455   1.61321 |  0  | [-0.9174769  1.2338858  1.0570779 -0.5587408]\n",
      "| 345 | source_11 Batch3    EC000160   K17 | JCP2022_010905 |  7454984018438702720 -  0  |   63.45000    4.15025   1.80243 |  0  | [ 0.30647492  1.044055   -0.4129539   0.5775299 ]\n",
      "| 346 | source_9  20210901_ GR0000331  G40 | JCP2022_010905 |  7454984018438702720 -  0  |   63.45000    4.15025   1.80243 |  0  | [-0.25245285  3.1491785  -1.4086934  -1.4299886 ]\n",
      "| 347 | source_5  JUMPCPE-2 AETJUM228  G16 | JCP2022_010905 |  7454984018438702720 -  0  |   63.45000    4.15025   1.80243 |  0  | [1.007287   0.331851   1.9514476  0.42913568]\n",
      "| 348 | source_1  Batch6_20 UL000577   P38 | JCP2022_034430 |  7455039575912122083 -  3  |   78.68000    4.36539   1.89586 |  0  | [-1.5274913   1.7992501  -0.73004353 -0.6015862 ]\n",
      "| 349 | source_10 2021_06_0 Dest21060  O15 | JCP2022_034430 |  7455039575912122083 -  3  |   78.68000    4.36539   1.89586 |  0  | [-3.2612834   0.20989513  0.02870774 -2.528036  ]\n",
      "| 350 | source_2  20211003_ 108628977  P16 | JCP2022_034430 |  7455039575912122083 -  3  |   78.68000    4.36539   1.89586 |  0  | [-1.0263371  -2.1241236   0.47546113 -1.2140785 ]\n",
      "| 351 | source_6  p210927CP 110000296  C06 | JCP2022_105073 |  7455232299882593925 -  5  |   56.56000    4.03530   1.75251 |  0  | [ 0.14837527  0.72764397  2.037303   -1.2382729 ]\n",
      "| 352 | source_1  Batch6_20 UL000585   E12 | JCP2022_105073 |  7455232299882593925 -  5  |   56.56000    4.03530   1.75251 |  0  | [0.38590658 1.628562   0.06744206 0.17325997]\n",
      "| 353 | source_10 2021_08_0 Dest21072  E10 | JCP2022_105073 |  7455232299882593925 -  5  |   56.56000    4.03530   1.75251 |  0  | [-1.6463733  1.1713285  0.6017629 -1.7282892]\n",
      "| 354 | source_1  Batch2_20 UL001671  AE23 | JCP2022_111166 |  7455308183052681262 - 14  |   80.57000    4.38913   1.90617 |  0  | [ 1.2765837   0.00939035  1.9304186  -0.08507335]\n",
      "| 355 | source_8  J1        A1170411   P12 | JCP2022_111166 |  7455308183052681262 - 14  |   80.57000    4.38913   1.90617 |  0  | [ 0.24247122  0.5200472  -0.18796265  0.16229224]\n",
      "| 356 | source_10 2021_08_0 Dest21072  O21 | JCP2022_111166 |  7455308183052681262 - 14  |   80.57000    4.38913   1.90617 |  0  | [ 0.6317785  -0.18299675  2.330544   -4.623202  ]\n",
      "| 357 | source_11 Batch3    EC000147   D21 | JCP2022_049784 |  7455800263722206205 - 13  |   80.42000    4.38726   1.90536 |  0  | [ 0.6002512  1.9522476 -3.0380154 -1.0201622]\n",
      "| 358 | source_9  20210825_ GR0000341  O07 | JCP2022_049784 |  7455800263722206205 - 13  |   80.42000    4.38726   1.90536 |  0  | [-0.6576834  -2.4242268   1.6892018   0.33337164]\n",
      "| 359 | source_9  20210825_ GR0000339 AE07 | JCP2022_049784 |  7455800263722206205 - 13  |   80.42000    4.38726   1.90536 |  0  | [-1.8165662  -0.45527172 -0.48377126  0.2639109 ]\n",
      "| 360 | source_8  J1        A1170418   C07 | JCP2022_089423 |  7455833499464588998 -  6  |   61.58000    4.12034   1.78944 |  0  | [ 0.11168456  0.46846294  1.7550331  -0.9251356 ]\n",
      "| 361 | source_11 Batch3    EC000167   H14 | JCP2022_089423 |  7455833499464588998 -  6  |   61.58000    4.12034   1.78944 |  0  | [-0.741735    2.3429585   2.498209   -0.67542005]\n",
      "| 362 | source_1  Batch6_20 UL000585   F14 | JCP2022_089423 |  7455833499464588998 -  6  |   61.58000    4.12034   1.78944 |  0  | [ 0.79293656  0.0947485   1.004936   -1.493349  ]\n",
      "| 363 | source_9  20210901_ GR0000333  G42 | JCP2022_103993 |  7456034574378765077 -  5  |   54.71000    4.00205   1.73807 |  0  | [-1.6971486  2.2063236  0.3856138 -0.8096903]\n",
      "| 364 | source_11 Batch3    EC000159   M09 | JCP2022_103993 |  7456034574378765077 -  5  |   54.71000    4.00205   1.73807 |  0  | [ 1.1186659   2.9268813   0.01624948 -0.18893576]\n",
      "| 365 | source_5  JUMPCPE-2 AETJUM427  G18 | JCP2022_103993 |  7456034574378765077 -  5  |   54.71000    4.00205   1.73807 |  0  | [-1.3240013   1.7101426   1.0451707   0.26010287]\n",
      "| 366 | source_7  20210803_ CP5-SC1-1  P22 | JCP2022_013659 |  7456087859709795290 - 10  |   66.73000    4.20065   1.82432 |  0  | [ 0.54093504 -0.2710247   1.578888   -0.48076594]\n",
      "| 367 | source_7  20210727_ CP3-SC1-1  P22 | JCP2022_013659 |  7456087859709795290 - 10  |   66.73000    4.20065   1.82432 |  0  | [ 0.55230117  0.22225666  1.6753654  -0.42751813]\n",
      "| 368 | source_7  20210719_ CP1-SC1-1  P22 | JCP2022_013659 |  7456087859709795290 - 10  |   66.73000    4.20065   1.82432 |  0  | [-1.3015773  -1.148046    1.9549509   0.86476755]\n",
      "| 369 | source_10 2021_08_2 Dest21082  C21 | JCP2022_053315 |  7456491217227150438 -  6  |   95.58000    4.55996   1.98037 |  0  | [ 1.5103067   0.40069723  1.8861673  -2.1394956 ]\n",
      "| 370 | source_8  J1        A1170423   J12 | JCP2022_053315 |  7456491217227150438 -  6  |   95.58000    4.55996   1.98037 |  0  | [ 0.26569617  0.99943113  0.6996205  -0.20545048]\n",
      "| 371 | source_6  p210927CP 110000296  J12 | JCP2022_053315 |  7456491217227150438 -  6  |   95.58000    4.55996   1.98037 |  0  | [-0.91963387  0.8498354   2.6690116  -0.0709995 ]\n",
      "| 372 | source_6  p211123CP 110000297  B03 | JCP2022_002742 |  7456543846441394636 - 12  |   61.58000    4.12034   1.78944 |  0  | [-1.0005047  -0.82223225  1.3441824  -0.18108112]\n",
      "| 373 | source_10 2021_08_2 Dest21082  C03 | JCP2022_002742 |  7456543846441394636 - 12  |   61.58000    4.12034   1.78944 |  0  | [ 1.7591131  0.7759714  1.1283941 -1.4763104]\n",
      "| 374 | source_10 2021_08_0 Dest21072  C03 | JCP2022_002742 |  7456543846441394636 - 12  |   61.58000    4.12034   1.78944 |  0  | [-0.576591   -0.535512   -0.04090106 -1.4152095 ]\n",
      "| 375 | source_3  CP_31_all B040603b   B09 | JCP2022_046342 |  7456561732984800280 -  8  |   76.30000    4.33467   1.88252 |  0  | [ 0.265486    0.27039146  0.21357453 -0.86009514]\n",
      "| 376 | source_10 2021_08_1 Dest21080  C16 | JCP2022_046342 |  7456561732984800280 -  8  |   76.30000    4.33467   1.88252 |  0  | [ 0.6064112   1.1361585   1.6070974  -0.89735687]\n",
      "| 377 | source_1  Batch5_20 UL001793   C18 | JCP2022_046342 |  7456561732984800280 -  8  |   76.30000    4.33467   1.88252 |  0  | [-2.8007832   0.7415142  -0.20443428 -0.1588149 ]\n",
      "| 378 | source_2  20210719_ 108629387  J08 | JCP2022_051289 |  7456757135207237316 -  4  |   46.34000    3.83601   1.66596 |  0  | [ 0.53280115 -3.4986548   4.8747883  -2.3105597 ]\n",
      "| 379 | source_3  CP_27_all J12446d    E15 | JCP2022_051289 |  7456757135207237316 -  4  |   46.34000    3.83601   1.66596 |  0  | [ 0.7856779   1.0099473   0.71030056 -0.6052463 ]\n",
      "| 380 | source_1  Batch6_20 UL001789   J30 | JCP2022_051289 |  7456757135207237316 -  4  |   46.34000    3.83601   1.66596 |  0  | [-1.3336585  1.3766351  1.5571803 -1.7300222]\n",
      "| 381 | source_10 2021_06_0 Dest21060  G03 | JCP2022_003639 |  7456804024402284320 -  0  |   45.67000    3.82144   1.65963 |  0  | [-3.223879    1.1078835  -0.451388   -0.20719671]\n",
      "| 382 | source_3  CP_28_all SP16P19d   D13 | JCP2022_003639 |  7456804024402284320 -  0  |   45.67000    3.82144   1.65963 |  0  | [ 0.06608343  2.616972   -0.64509666  0.9175663 ]\n",
      "| 383 | source_2  20210802_ 108629309  H04 | JCP2022_003639 |  7456804024402284320 -  0  |   45.67000    3.82144   1.65963 |  0  | [ 1.3143823   0.5858097   0.91095984 -2.1291347 ]\n",
      "| 384 | source_7  20210719_ CP1-SC1-1  N07 | JCP2022_104681 |  7456812361542753902 - 14  |   64.76000    4.17069   1.81131 |  0  | [ 1.1001027 -1.4930787  2.3722239 -1.1953305]\n",
      "| 385 | source_2  20210823_ 108629207  E06 | JCP2022_104681 |  7456812361542753902 - 14  |   64.76000    4.17069   1.81131 |  0  | [0.5941441  1.4040308  0.2502277  0.23063838]\n",
      "| 386 | source_7  20210723_ CP2-SC1-1  N07 | JCP2022_104681 |  7456812361542753902 - 14  |   64.76000    4.17069   1.81131 |  0  | [ 0.78335834  0.8754492   0.83325565 -0.44409233]\n",
      "| 387 | source_9  20210918- GR0000437  V28 | JCP2022_035591 |  7457055419215650972 - 12  |  103.13000    4.63599   2.01339 |  1  | [ 0.4858222   2.7252622  -1.0241002  -0.99358606]\n",
      "| 388 | source_5  JUMPCPE-2 ATSJUM121  F04 | JCP2022_035591 |  7457055419215650972 - 12  |  103.13000    4.63599   2.01339 |  1  | [-1.2196766   1.4375806   1.3449411  -0.00252521]\n",
      "| 389 | source_5  JUMPCPE-2 ATSJUM221  F04 | JCP2022_035591 |  7457055419215650972 - 12  |  103.13000    4.63599   2.01339 |  1  | [0.29770708 0.80929804 0.8654895  0.02860129]\n",
      "| 390 | source_2  20210719_ 108629397  P06 | JCP2022_020037 |  7457517082005755548 - 12  |   66.54000    4.19780   1.82308 |  0  | [-0.7681439   0.8239999  -0.85562396 -0.28714395]\n",
      "| 391 | source_10 2021_08_1 Dest21080  P06 | JCP2022_020037 |  7457517082005755548 - 12  |   66.54000    4.19780   1.82308 |  0  | [-1.4506834  -0.13664722 -0.4745679  -1.3127677 ]\n",
      "| 392 | source_1  Batch6_20 UL000587   P08 | JCP2022_020037 |  7457517082005755548 - 12  |   66.54000    4.19780   1.82308 |  0  | [-0.67958534  3.3489652   1.3414457  -1.4545617 ]\n",
      "| 393 | source_6  p211004CP 110000295  B12 | JCP2022_097524 |  7457584657155455281 -  1  |   41.82000    3.73337   1.62138 |  0  | [ 0.44461465 -1.5648422   0.8206576  -0.40424967]\n",
      "| 394 | source_10 2021_06_2 Dest21062  D22 | JCP2022_097524 |  7457584657155455281 -  1  |   41.82000    3.73337   1.62138 |  0  | [ 1.3889663  -0.07673168  1.4279835  -5.957136  ]\n",
      "| 395 | source_1  Batch5_20 UL001799   D24 | JCP2022_097524 |  7457584657155455281 -  1  |   41.82000    3.73337   1.62138 |  0  | [-0.9179404  1.9606733 -1.5206598 -0.4046011]\n",
      "| 396 | source_9  20210918- GR0000438  S30 | JCP2022_099823 |  7457771362986597889 -  1  |   90.28000    4.50292   1.95559 |  0  | [ 0.11387897  0.5807557   0.04064393 -0.9883251 ]\n",
      "| 397 | source_9  20210918- GR0000438  C30 | JCP2022_099823 |  7457771362986597889 -  1  |   90.28000    4.50292   1.95559 |  0  | [ 0.3763442  4.5410066 -2.0624518 -1.8446387]\n",
      "| 398 | source_11 Batch5    EC000102   C13 | JCP2022_099823 |  7457771362986597889 -  1  |   90.28000    4.50292   1.95559 |  0  | [-0.7534996   1.1947651   0.5405982  -0.16656387]\n",
      "| 399 | source_8  J2        A1170481   K10 | JCP2022_034975 |  7457968035287999414 -  6  |   64.85000    4.17208   1.81191 |  0  | [ 0.2817663   0.16103554  0.7023728  -0.5046284 ]\n",
      "| 400 | source_6  p210914CP 110000296  K10 | JCP2022_034975 |  7457968035287999414 -  6  |   64.85000    4.17208   1.81191 |  0  | [-1.4115888   1.162745   -0.0512774  -0.78370106]\n",
      "| 401 | source_2  20210614_ 105360083  E17 | JCP2022_034975 |  7457968035287999414 -  6  |   64.85000    4.17208   1.81191 |  0  | [0.63604    2.2038155  2.8159714  0.06828499]\n",
      "| 402 | source_11 Batch5    EC000079   E20 | JCP2022_047618 |  7458036432753324567 -  7  |  100.15000    4.60667   2.00065 |  1  | [ 0.03330708  1.3714023   0.2781002  -2.1210196 ]\n",
      "| 403 | source_9  20210915- GR0000330  R09 | JCP2022_047618 |  7458036432753324567 -  7  |  100.15000    4.60667   2.00065 |  1  | [ 0.04895949 -0.265872    1.4038222  -1.3657159 ]\n",
      "| 404 | source_5  JUMPCPE-2 ATSJUM209  B09 | JCP2022_047618 |  7458036432753324567 -  7  |  100.15000    4.60667   2.00065 |  1  | [ 0.23928642 -1.3323832  -0.17375433 -2.104868  ]\n",
      "| 405 | source_9  20210918- GR0000437  O22 | JCP2022_022634 |  7458039942059168088 -  8  |  107.99000    4.68204   2.03338 |  1  | [ 0.4498639  1.9753132 -2.386386   0.6288986]\n",
      "| 406 | source_9  20210918- GR0000437 AE22 | JCP2022_022634 |  7458039942059168088 -  8  |  107.99000    4.68204   2.03338 |  1  | [-0.84585714  2.4632025   0.5188626   2.4556215 ]\n",
      "| 407 | source_11 Batch5    EC000092   P21 | JCP2022_022634 |  7458039942059168088 -  8  |  107.99000    4.68204   2.03338 |  1  | [-1.5150234   1.8937006   0.33448875 -0.14906865]\n",
      "| 408 | source_9  20210914- GR0000329  E14 | JCP2022_076516 |  7458357677926143716 -  4  |   63.25000    4.14710   1.80106 |  0  | [ 1.3790805  -0.24779701  1.7901324  -1.7034203 ]\n",
      "| 409 | source_5  JUMPCPE-2 ATSJUM103  E14 | JCP2022_076516 |  7458357677926143716 -  4  |   63.25000    4.14710   1.80106 |  0  | [-0.3887427   1.1996083  -0.46494615 -0.93948185]\n",
      "| 410 | source_11 Batch5    EC000073   J03 | JCP2022_076516 |  7458357677926143716 -  4  |   63.25000    4.14710   1.80106 |  0  | [ 0.87570643  1.3326397   1.0902334  -1.7773956 ]\n",
      "| 411 | source_9  20210824- GR0000338  Q32 | JCP2022_102931 |  7458410322051395683 -  3  |   70.38000    4.25391   1.84745 |  0  | [ 0.7020631   1.8380394   0.02865082 -0.5843851 ]\n",
      "| 412 | source_11 Batch4    EC000108   E03 | JCP2022_102931 |  7458410322051395683 -  3  |   70.38000    4.25391   1.84745 |  0  | [-0.26336884  0.09332132 -0.40284443 -1.1757724 ]\n",
      "| 413 | source_11 Batch3    EC000138   E03 | JCP2022_102931 |  7458410322051395683 -  3  |   70.38000    4.25391   1.84745 |  0  | [-1.0725381  1.6125212 -2.4203234 -4.935423 ]\n",
      "| 414 | source_11 Batch4    EC000124   M10 | JCP2022_063398 |  7458649572744619181 - 13  |   55.32000    4.01313   1.74288 |  0  | [ 1.1087618   1.9803619  -0.15535468 -0.83609486]\n",
      "| 415 | source_11 Batch3    EC000154   M10 | JCP2022_063398 |  7458649572744619181 - 13  |   55.32000    4.01313   1.74288 |  0  | [-1.2793301   2.1522884  -0.3776244   0.49734652]\n",
      "| 416 | source_9  20210831- GR0000333  H18 | JCP2022_063398 |  7458649572744619181 - 13  |   55.32000    4.01313   1.74288 |  0  | [-0.62677526  1.3260689   0.9891366  -0.6731007 ]\n",
      "| 417 | source_2  20210607_ 105360185  K03 | JCP2022_083809 |  7458815115220951297 -  1  |  176.76000    5.17479   2.24738 |  1  | [0.50732946 6.3695855  0.3089249  1.2205498 ]\n",
      "| 418 | source_6  p211109CP 110000295  F13 | JCP2022_083809 |  7458815115220951297 -  1  |  176.76000    5.17479   2.24738 |  1  | [-0.39588213  0.1942854   0.9737491   0.5794249 ]\n",
      "| 419 | source_8  J3        A1170501   F13 | JCP2022_083809 |  7458815115220951297 -  1  |  176.76000    5.17479   2.24738 |  1  | [-1.7945364  2.1038694  1.7045116 -1.6955934]\n",
      "| 420 | source_1  Batch2_20 UL001677   B35 | JCP2022_058070 |  7458876436717106334 - 14  |  104.86000    4.65263   2.02061 |  1  | [ 0.19184303 -0.34808302  1.1060994  -1.0175536 ]\n",
      "| 421 | source_8  J4        A1166144   A18 | JCP2022_058070 |  7458876436717106334 - 14  |  104.86000    4.65263   2.02061 |  1  | [ 0.15563321  0.6739054   0.8442952  -1.3390418 ]\n",
      "| 422 | source_3  CP_25_all C13495cW   A18 | JCP2022_058070 |  7458876436717106334 - 14  |  104.86000    4.65263   2.02061 |  1  | [-0.8963034  0.8284273 -0.4571222 -1.0275254]\n",
      "| 423 | source_7  20210727_ CP3-SC1-0  E15 | JCP2022_061379 |  7459148556550299958 -  6  |  121.70000    4.80156   2.08529 |  1  | [ 0.32489443 -0.38392687  2.6065764  -1.4438202 ]\n",
      "| 424 | source_7  20210719_ CP1-SC1-0  E15 | JCP2022_061379 |  7459148556550299958 -  6  |  121.70000    4.80156   2.08529 |  1  | [ 2.9301453  -1.4814172   0.39251018 -1.7616711 ]\n",
      "| 425 | source_7  20210803_ CP5-SC1-0  E15 | JCP2022_061379 |  7459148556550299958 -  6  |  121.70000    4.80156   2.08529 |  1  | [ 1.2472105  -0.31023264  1.4545953  -1.8200921 ]\n",
      "| 426 | source_6  p210831CP 110000294  H15 | JCP2022_047064 |  7459385947384695908 -  4  |   70.72000    4.25873   1.84954 |  0  | [-0.22143197  0.862072    1.7281151   0.09254986]\n",
      "| 427 | source_3  CP_27_all J12432d    H15 | JCP2022_047064 |  7459385947384695908 -  4  |   70.72000    4.25873   1.84954 |  0  | [-1.4835399  -0.05969286  1.3687115  -0.6003115 ]\n",
      "| 428 | source_1  Batch3_20 UL001665   P30 | JCP2022_047064 |  7459385947384695908 -  4  |   70.72000    4.25873   1.84954 |  0  | [-2.9582136   0.9603052  -0.1997127  -0.10604739]\n",
      "| 429 | source_2  20210802_ 108629321  E11 | JCP2022_087413 |  7459466259452115426 -  2  |   74.61000    4.31227   1.87280 |  0  | [0.84008765 1.3965511  0.46152014 0.641348  ]\n",
      "| 430 | source_8  J2        A1170461   K07 | JCP2022_087413 |  7459466259452115426 -  2  |   74.61000    4.31227   1.87280 |  0  | [-0.46751285  0.42884016  0.41679597 -0.6468146 ]\n",
      "| 431 | source_10 2021_08_0 Dest21072  F11 | JCP2022_087413 |  7459466259452115426 -  2  |   74.61000    4.31227   1.87280 |  0  | [ 0.01245952  0.7845688  -0.4295317  -1.348011  ]\n",
      "| 432 | source_8  J4        A1166161   M08 | JCP2022_073568 |  7459488099571756207 - 15  |   75.51000    4.32427   1.87800 |  0  | [-0.0982008  -0.2835493  -0.24806571 -1.2267503 ]\n",
      "| 433 | source_1  Batch1_20 UL001651   Z16 | JCP2022_073568 |  7459488099571756207 - 15  |   75.51000    4.32427   1.87800 |  0  | [-1.6980886  -0.65999365 -0.19668984 -1.6633546 ]\n",
      "| 434 | source_2  20210808_ 108629296  J14 | JCP2022_073568 |  7459488099571756207 - 15  |   75.51000    4.32427   1.87800 |  0  | [-1.4676077  -1.1291299   1.5653453   0.46829367]\n",
      "| 435 | source_7  20210723_ CP2-SC1-1  C19 | JCP2022_044739 |  7459543260845297718 -  6  |   54.88000    4.00515   1.73941 |  0  | [-0.65501416 -0.3009286   0.7516625  -0.8300663 ]\n",
      "| 436 | source_3  CP_36_all BAY5872b   L15 | JCP2022_044739 |  7459543260845297718 -  6  |   54.88000    4.00515   1.73941 |  0  | [ 0.4403646  -0.14282513  0.63777745 -0.25364208]\n",
      "| 437 | source_3  CP60      BR5872b3   L15 | JCP2022_044739 |  7459543260845297718 -  6  |   54.88000    4.00515   1.73941 |  0  | [0.23118114 1.2631044  0.6511052  0.16293204]\n",
      "| 438 | source_11 Batch3    EC000146   G11 | JCP2022_065035 |  7459564573423580597 -  5  |   71.36000    4.26774   1.85345 |  0  | [-0.45151782  1.4556293  -1.6465876  -1.4026197 ]\n",
      "| 439 | source_9  20210825_ GR0000341  Q11 | JCP2022_065035 |  7459564573423580597 -  5  |   71.36000    4.26774   1.85345 |  0  | [-0.5597483  0.6205864 -0.45485   -2.7225688]\n",
      "| 440 | source_9  20210825_ GR0000339  Q35 | JCP2022_065035 |  7459564573423580597 -  5  |   71.36000    4.26774   1.85345 |  0  | [-0.8986921  -0.49893236  0.9194188   0.14957142]\n",
      "| 441 | source_8  J4        A1166157   B07 | JCP2022_113637 |  7459584649361027406 - 14  |   48.99000    3.89162   1.69011 |  0  | [-0.64436734  0.9453993   0.90468466 -0.49975908]\n",
      "| 442 | source_1  Batch1_20 UL001653   D14 | JCP2022_113637 |  7459584649361027406 - 14  |   48.99000    3.89162   1.69011 |  0  | [ 0.05672884 -0.27257013 -0.7182478  -1.3911321 ]\n",
      "| 443 | source_3  CP_33_all A12079dW   B07 | JCP2022_113637 |  7459584649361027406 - 14  |   48.99000    3.89162   1.69011 |  0  | [ 0.7766156   0.6279025   0.46842325 -1.6461072 ]\n",
      "| 444 | source_5  JUMPCPE-2 AEOJUM202  P22 | JCP2022_025068 |  7459623242473259969 -  1  |  121.88000    4.80304   2.08593 |  1  | [ 0.28172684 -0.29439116  0.5560986  -0.7170186 ]\n",
      "| 445 | source_5  JUMPCPE-2 AEOJUM402  P22 | JCP2022_025068 |  7459623242473259969 -  1  |  121.88000    4.80304   2.08593 |  1  | [-0.13171053 -1.5335169   1.1564319   0.00979495]\n",
      "| 446 | source_8  J1        A1170400   P19 | JCP2022_025068 |  7459623242473259969 -  1  |  121.88000    4.80304   2.08593 |  1  | [-2.0233989  1.3489485 -0.544997  -0.6717875]\n",
      "| 447 | source_6  p211123CP 110000297  I04 | JCP2022_026494 |  7459628934602676338 -  2  |  101.51000    4.62016   2.00651 |  1  | [ 0.43986535 -0.15256453  1.9489453  -1.4912798 ]\n",
      "| 448 | source_10 2021_06_2 Dest21062  B06 | JCP2022_026494 |  7459628934602676338 -  2  |  101.51000    4.62016   2.00651 |  1  | [-0.41158688 -1.1316423   0.1786902  -4.021577  ]\n",
      "| 449 | source_1  Batch3_20 UL001787   R08 | JCP2022_026494 |  7459628934602676338 -  2  |  101.51000    4.62016   2.00651 |  1  | [ 2.8997064   2.154976   -0.74272704 -0.62831855]\n",
      "| 450 | source_3  CP_26_all J12455a    K10 | JCP2022_110554 |  7459711760239601826 -  2  |   56.59000    4.03583   1.75274 |  0  | [-4.442502  -4.2888756  6.050517  -5.7303944]\n",
      "| 451 | source_1  Batch6_20 UL000587   U19 | JCP2022_110554 |  7459711760239601826 -  2  |   56.59000    4.03583   1.75274 |  0  | [ 1.1104856   1.5475006   0.16865528 -1.590574  ]\n",
      "| 452 | source_10 2021_07_0 Dest21070  E17 | JCP2022_110554 |  7459711760239601826 -  2  |   56.59000    4.03583   1.75274 |  0  | [ 1.4765348  6.461651   5.7713666 -6.2794876]\n",
      "| 453 | source_3  CP60      BR5875d3   J22 | JCP2022_063325 |  7459712145536954231 -  7  |  139.29000    4.93656   2.14392 |  1  | [-0.09726465  0.9253578   0.2603085  -0.99471223]\n",
      "| 454 | source_3  CP_36_all BAY5875d   J22 | JCP2022_063325 |  7459712145536954231 -  7  |  139.29000    4.93656   2.14392 |  1  | [-0.3826102  -0.4872532   0.25012994 -1.0449876 ]\n",
      "| 455 | source_8  J4        A1166133   J22 | JCP2022_063325 |  7459712145536954231 -  7  |  139.29000    4.93656   2.14392 |  1  | [-0.4171903  -0.51755524  0.14855945 -0.73318315]\n",
      "| 456 | source_5  JUMPCPE-2 AETJUM112  I06 | JCP2022_074936 |  7459762001206828786 -  2  |   76.44000    4.33651   1.88332 |  0  | [-3.2984247  2.478529  -1.3801842 -0.4818009]\n",
      "| 457 | source_11 Batch4    EC000114   C19 | JCP2022_074936 |  7459762001206828786 -  2  |   76.44000    4.33651   1.88332 |  0  | [ 0.25541115  2.1783018  -0.11374843 -3.2544465 ]\n",
      "| 458 | source_11 Batch3    EC000144   C19 | JCP2022_074936 |  7459762001206828786 -  2  |   76.44000    4.33651   1.88332 |  0  | [ 2.6116083   1.5936441  -0.02571964 -3.0666258 ]\n",
      "| 459 | source_3  CP_29_all SP09P12c   N13 | JCP2022_012043 |  7459769556527137488 -  0  |   97.03000    4.57502   1.98691 |  0  | [ 0.95138407  1.9372859  -0.2521385  -0.44915193]\n",
      "| 460 | source_2  20210802_ 108629316  L03 | JCP2022_012043 |  7459769556527137488 -  0  |   97.03000    4.57502   1.98691 |  0  | [ 0.00241554  0.4085493   1.1250978  -0.64697206]\n",
      "| 461 | source_10 2021_08_1 Dest21080  K03 | JCP2022_012043 |  7459769556527137488 -  0  |   97.03000    4.57502   1.98691 |  0  | [-0.7325995   0.02946663  0.02713448 -0.5283318 ]\n",
      "| 462 | source_11 Batch4    EC000130   N20 | JCP2022_001044 |  7459848284534177293 - 13  |   99.11000    4.59623   1.99612 |  0  | [-0.15034413  2.2967954  -0.8006205   0.2716881 ]\n",
      "| 463 | source_11 Batch3    EC000160   N20 | JCP2022_001044 |  7459848284534177293 - 13  |   99.11000    4.59623   1.99612 |  0  | [ 1.0335925  2.5014687 -1.4110259 -1.1143227]\n",
      "| 464 | source_9  20210901_ GR0000331  V20 | JCP2022_001044 |  7459848284534177293 - 13  |   99.11000    4.59623   1.99612 |  0  | [ 0.27563334  1.056427    1.6938823  -0.07089996]\n",
      "| 465 | source_8  J3        A1170524   M08 | JCP2022_116522 |  7459869564184000321 -  1  |   67.07000    4.20574   1.82653 |  0  | [-0.3141513   0.30622053  0.76901495  0.605791  ]\n",
      "| 466 | source_6  p211123CP 110000297  M08 | JCP2022_116522 |  7459869564184000321 -  1  |   67.07000    4.20574   1.82653 |  0  | [-2.322885   -2.0359216   0.65473604  1.5250129 ]\n",
      "| 467 | source_3  CP_35_all BAY5869d   M08 | JCP2022_116522 |  7459869564184000321 -  1  |   67.07000    4.20574   1.82653 |  0  | [-0.6417966   2.7800846   0.93003654  0.15629113]\n",
      "| 468 | source_10 2021_08_2 Dest21082  C18 | JCP2022_013585 |  7459929292316641100 - 12  |  104.10000    4.64535   2.01745 |  1  | [ 2.3022609  4.786396   3.579679  -0.7919928]\n",
      "| 469 | source_6  p211123CP 110000297  J20 | JCP2022_013585 |  7459929292316641100 - 12  |  104.10000    4.64535   2.01745 |  1  | [ 1.0243707   0.98489714  1.6054655  -1.642909  ]\n",
      "| 470 | source_10 2021_08_0 Dest21072  C18 | JCP2022_013585 |  7459929292316641100 - 12  |  104.10000    4.64535   2.01745 |  1  | [ 0.39218163 -1.1880455   2.9829206  -1.1534078 ]\n",
      "| 471 | source_1  Batch5_20 UL001791   T39 | JCP2022_102912 |  7460332931420556406 -  6  |   54.29000    3.99434   1.73472 |  0  | [ 0.8927889   0.76147175  0.3576522  -0.76855767]\n",
      "| 472 | source_10 2021_08_2 Dest21081  D17 | JCP2022_102912 |  7460332931420556406 -  6  |   54.29000    3.99434   1.73472 |  0  | [ 0.0859344   0.02957153  0.8183197  -1.5758802 ]\n",
      "| 473 | source_3  CP_32_all B40703cW   J20 | JCP2022_102912 |  7460332931420556406 -  6  |   54.29000    3.99434   1.73472 |  0  | [ 1.7619053  3.6145744  1.321329  -0.5627463]\n",
      "| 474 | source_8  J1        A1170411   H09 | JCP2022_102580 |  7460579874583428096 -  0  |   85.61000    4.44980   1.93252 |  0  | [-0.56511474  0.82280064  0.14859712 -0.46768647]\n",
      "| 475 | source_10 2021_08_0 Dest21072  O15 | JCP2022_102580 |  7460579874583428096 -  0  |   85.61000    4.44980   1.93252 |  0  | [-0.88931084  0.35209465  2.5251439  -4.829612  ]\n",
      "| 476 | source_6  p210914CP 110000296  H09 | JCP2022_102580 |  7460579874583428096 -  0  |   85.61000    4.44980   1.93252 |  0  | [-0.41666186  0.2934451   1.0514805  -1.4621665 ]\n",
      "| 477 | source_5  JUMPCPE-2 AETJUM118  J08 | JCP2022_069078 |  7460816959938388974 - 14  |   73.21000    4.29333   1.86457 |  0  | [-0.62536836  0.33404303  2.0717063  -0.15234053]\n",
      "| 478 | source_9  20210831- GR0000333  J32 | JCP2022_069078 |  7460816959938388974 - 14  |   73.21000    4.29333   1.86457 |  0  | [ 0.02330017  4.9377418  -2.343875   -0.10913718]\n",
      "| 479 | source_9  20210831- GR0000333  Z32 | JCP2022_069078 |  7460816959938388974 - 14  |   73.21000    4.29333   1.86457 |  0  | [-0.18848133  1.5586367  -0.7095845  -0.6714053 ]\n",
      "| 480 | source_1  Batch6_20 UL000587   M37 | JCP2022_002894 |  7460870831651054415 - 15  |   93.21000    4.53486   1.96946 |  0  | [-1.3819017   3.6127872  -1.8731143  -0.07068825]\n",
      "| 481 | source_3  CP_26_all J12455a    G19 | JCP2022_002894 |  7460870831651054415 - 15  |   93.21000    4.53486   1.96946 |  0  | [-4.9699087   2.1018906  -0.18245721 -1.3975933 ]\n",
      "| 482 | source_6  p211109CP 110000296  G19 | JCP2022_002894 |  7460870831651054415 - 15  |   93.21000    4.53486   1.96946 |  0  | [-0.6140487  -0.6000762   1.2328631   0.76123023]\n",
      "| 483 | source_3  CP_26_all J12428c    B08 | JCP2022_076947 |  7461040609782677520 -  0  |   77.08000    4.34484   1.88694 |  0  | [ 1.544286    0.51680994  0.7452688  -3.4388943 ]\n",
      "| 484 | source_1  Batch3_20 UL001667   D15 | JCP2022_076947 |  7461040609782677520 -  0  |   77.08000    4.34484   1.88694 |  0  | [-2.5642076   1.0082893   0.09157145 -0.02815759]\n",
      "| 485 | source_6  p210831CP 110000294  B08 | JCP2022_076947 |  7461040609782677520 -  0  |   77.08000    4.34484   1.88694 |  0  | [-0.40609097 -0.6706319   0.658759    0.2844801 ]\n",
      "| 486 | source_8  J3        A1170498   I20 | JCP2022_073393 |  7461179167869019247 - 15  |   67.15000    4.20693   1.82705 |  0  | [ 0.2019484  1.0707741  0.0948962 -2.2777424]\n",
      "| 487 | source_6  p210906CP 110000294  I20 | JCP2022_073393 |  7461179167869019247 - 15  |   67.15000    4.20693   1.82705 |  0  | [ 0.10736954 -0.6070113   0.95740867 -1.119776  ]\n",
      "| 488 | source_10 2021_08_2 Dest21082  A18 | JCP2022_073393 |  7461179167869019247 - 15  |   67.15000    4.20693   1.82705 |  0  | [ 2.2556913  1.1425991  3.3891985 -1.918495 ]\n",
      "| 489 | source_6  p210928CP 110000296  N03 | JCP2022_010709 |  7461260547497820364 - 12  |  105.13000    4.65520   2.02173 |  1  | [-0.07121277  0.41749     0.9104574  -2.6774845 ]\n",
      "| 490 | source_10 2021_08_1 Dest21080  L04 | JCP2022_010709 |  7461260547497820364 - 12  |  105.13000    4.65520   2.02173 |  1  | [ 0.03487468 -2.4788609  -1.0511755   0.8530369 ]\n",
      "| 491 | source_1  Batch5_20 UL001795  AB06 | JCP2022_010709 |  7461260547497820364 - 12  |  105.13000    4.65520   2.02173 |  1  | [ 1.6741958 -0.4220481 -1.469816  -0.5334637]\n",
      "| 492 | source_8  J3        A1170518   P06 | JCP2022_058193 |  7461405584972243015 -  7  |   87.23000    4.46855   1.94067 |  0  | [0.4060626  0.72113657 1.5195761  0.32300186]\n",
      "| 493 | source_3  CP_35_all BAY5868b   P06 | JCP2022_058193 |  7461405584972243015 -  7  |   87.23000    4.46855   1.94067 |  0  | [ 3.3732762 -0.0938406  0.2394619 -3.3260124]\n",
      "| 494 | source_3  CP59      BR5868b3   P06 | JCP2022_058193 |  7461405584972243015 -  7  |   87.23000    4.46855   1.94067 |  0  | [-1.6672018   2.3174496  -0.68188775 -0.26219404]\n",
      "| 495 | source_1  Batch4_20 UL000083   G24 | JCP2022_002110 |  7461483723621438000 -  0  |   43.86000    3.78100   1.64207 |  0  | [-0.7436284  2.0008926  0.6203753 -1.0333495]\n",
      "| 496 | source_8  J1        A1170392   D12 | JCP2022_002110 |  7461483723621438000 -  0  |   43.86000    3.78100   1.64207 |  0  | [-0.18292737 -1.660562    0.9529096  -2.9988961 ]\n",
      "| 497 | source_6  p210927CP 110000296  D12 | JCP2022_002110 |  7461483723621438000 -  0  |   43.86000    3.78100   1.64207 |  0  | [ 0.40169907 -0.524683    1.3231776  -1.262852  ]\n",
      "| 498 | source_10 2021_06_1 Dest21061  B04 | JCP2022_094970 |  7461631476081104782 - 14  |   71.26000    4.26634   1.85285 |  0  | [-0.9774115   0.99446106  1.7874427  -1.8244722 ]\n",
      "| 499 | source_2  20210614_ 105360073  B04 | JCP2022_094970 |  7461631476081104782 - 14  |   71.26000    4.26634   1.85285 |  0  | [ 1.7095375  -0.46284962  3.5694609   0.64245224]\n",
      "| 500 | source_6  p210914CP 110000296  A03 | JCP2022_094970 |  7461631476081104782 - 14  |   71.26000    4.26634   1.85285 |  0  | [ 0.524384    0.08295202  2.3415725  -0.8224551 ]\n",
      "| 501 | source_6  p211109CP 110000295  D11 | JCP2022_016838 |  7461928487228997551 - 15  |   72.03000    4.27708   1.85751 |  0  | [-0.43368113  0.3202324   2.3239496  -0.235156  ]\n",
      "| 502 | source_2  20210607_ 105360186  G20 | JCP2022_016838 |  7461928487228997551 - 15  |   72.03000    4.27708   1.85751 |  0  | [ 0.02143312 -1.2885637   2.092084   -1.383868  ]\n",
      "| 503 | source_10 2021_08_2 Dest21082  G20 | JCP2022_016838 |  7461928487228997551 - 15  |   72.03000    4.27708   1.85751 |  0  | [ 1.8234427   0.90455914  0.1036315  -2.0622416 ]\n",
      "| 504 | source_8  J3        A1170497   H19 | JCP2022_015313 |  7461997412739003744 -  0  |   66.73000    4.20065   1.82432 |  0  | [ 0.46944427  0.19844246  0.62090015 -0.9019364 ]\n",
      "| 505 | source_10 2021_06_1 Dest21061  O15 | JCP2022_015313 |  7461997412739003744 -  0  |   66.73000    4.20065   1.82432 |  0  | [-0.31405687  0.9847479   0.5333824  -2.955276  ]\n",
      "| 506 | source_2  20210607_ 105360177  O16 | JCP2022_015313 |  7461997412739003744 -  0  |   66.73000    4.20065   1.82432 |  0  | [ 0.92702913 -0.20283604  1.2873023  -2.684038  ]\n",
      "| 507 | source_8  J1        A1170387   L05 | JCP2022_025677 |  7462291042633358356 -  4  |   52.31000    3.95719   1.71858 |  0  | [0.26508933 0.48670006 1.2749678  0.3367188 ]\n",
      "| 508 | source_10 2021_08_1 Dest21080  G07 | JCP2022_025677 |  7462291042633358356 -  4  |   52.31000    3.95719   1.71858 |  0  | [ 0.02348709  0.780674   -0.25080848 -0.1285851 ]\n",
      "| 509 | source_6  p210920CP 110000296  L05 | JCP2022_025677 |  7462291042633358356 -  4  |   52.31000    3.95719   1.71858 |  0  | [ 0.5111259  1.5638514  1.486009  -0.6537377]\n",
      "| 510 | source_2  20210621_ 105359966  P18 | JCP2022_107601 |  7462329963551553542 -  6  |   83.31000    4.42257   1.92070 |  0  | [ 0.16959524 -2.681406    1.058274   -0.4499271 ]\n",
      "| 511 | source_1  Batch1_20 UL001655  AF20 | JCP2022_107601 |  7462329963551553542 -  6  |   83.31000    4.42257   1.92070 |  0  | [-1.7692533  -2.128973   -1.8174831   0.32602298]\n",
      "| 512 | source_3  CP_25_all C13487dW   P10 | JCP2022_107601 |  7462329963551553542 -  6  |   83.31000    4.42257   1.92070 |  0  | [-1.380132  -0.3674879 -0.8562991 -0.2138555]\n",
      "| 513 | source_9  20210901_ GR0000333 AC14 | JCP2022_039270 |  7462373907579848369 -  1  |   75.77000    4.32770   1.87950 |  0  | [-1.3330348   0.1492014   0.74358916 -0.1067909 ]\n",
      "| 514 | source_5  JUMPCPE-2 AETJUM125  M14 | JCP2022_039270 |  7462373907579848369 -  1  |   75.77000    4.32770   1.87950 |  0  | [-0.21206999  0.03906298  0.47504878  0.05425286]\n",
      "| 515 | source_11 Batch4    EC000127   J11 | JCP2022_039270 |  7462373907579848369 -  1  |   75.77000    4.32770   1.87950 |  0  | [ 0.44759274  0.49130106 -1.1877666  -1.3870014 ]\n",
      "| 516 | source_3  CP_31_all B040303b   B08 | JCP2022_020078 |  7462414188304247300 -  4  |   73.10000    4.29183   1.86392 |  0  | [ 0.14707947  1.6778097   1.3798186  -1.2714936 ]\n",
      "| 517 | source_1  Batch3_20 UL001787   C16 | JCP2022_020078 |  7462414188304247300 -  4  |   73.10000    4.29183   1.86392 |  0  | [-1.0568931   1.5602379   0.73905337  0.10654926]\n",
      "| 518 | source_6  p211123CP 110000297  B08 | JCP2022_020078 |  7462414188304247300 -  4  |   73.10000    4.29183   1.86392 |  0  | [-3.3707144  -1.7266841   0.69452834 -1.2631588 ]\n",
      "| 519 | source_3  CP60      BR5876b3   B13 | JCP2022_027062 |  7462441511765308181 -  5  |  105.15000    4.65539   2.02181 |  1  | [ 0.7768886   0.40295887 -0.23979938 -1.1319051 ]\n",
      "| 520 | source_2  20211003_ 108628979  E15 | JCP2022_027062 |  7462441511765308181 -  5  |  105.15000    4.65539   2.02181 |  1  | [-0.45446873  0.40581846  0.9684514   0.10112268]\n",
      "| 521 | source_3  CP60      BR5875a3   K19 | JCP2022_027062 |  7462441511765308181 -  5  |  105.15000    4.65539   2.02181 |  1  | [-1.043407   1.4291167  0.2880476 -0.0269686]\n",
      "| 522 | source_1  Batch2_20 UL001671  AD34 | JCP2022_011577 |  7462612175158645835 - 11  |   76.34000    4.33520   1.88275 |  0  | [-0.3517747  0.7578726 -1.5546391 -1.5803142]\n",
      "| 523 | source_10 2021_08_0 Dest21072  N12 | JCP2022_011577 |  7462612175158645835 - 11  |   76.34000    4.33520   1.88275 |  0  | [-1.4015363  1.7051873  3.2037199 -3.040907 ]\n",
      "| 524 | source_6  p210914CP 110000296  O17 | JCP2022_011577 |  7462612175158645835 - 11  |   76.34000    4.33520   1.88275 |  0  | [ 0.6785903   0.16476583  1.6353984  -1.801816  ]\n",
      "| 525 | source_3  CP60      BR5876d3   J19 | JCP2022_072150 |  7462740896904670364 - 12  |  211.28000    5.35318   2.32486 |  1  | [ 0.6705662   0.3870163   0.7548348  -0.80187154]\n",
      "| 526 | source_3  CP_36_all BAY5876d   J19 | JCP2022_072150 |  7462740896904670364 - 12  |  211.28000    5.35318   2.32486 |  1  | [-0.0885067   0.86508226  0.11043704 -0.7898973 ]\n",
      "| 527 | source_7  20210719_ CP1-SC1-1  M17 | JCP2022_072150 |  7462740896904670364 - 12  |  211.28000    5.35318   2.32486 |  1  | [2.0403714  0.70203495 1.2552711  0.54153085]\n",
      "| 528 | source_11 Batch3    EC000151   O05 | JCP2022_114994 |  7462961640518330479 - 15  |  117.53000    4.76669   2.07015 |  1  | [ 0.83279204  2.221551   -2.0291424  -1.3844004 ]\n",
      "| 529 | source_9  20210831- GR0000333  K44 | JCP2022_114994 |  7462961640518330479 - 15  |  117.53000    4.76669   2.07015 |  1  | [ 0.37994874  0.02296495  0.21468401 -1.4377514 ]\n",
      "| 530 | source_11 Batch4    EC000121   O05 | JCP2022_114994 |  7462961640518330479 - 15  |  117.53000    4.76669   2.07015 |  1  | [-0.311661    2.6101713   0.23422027 -1.7103816 ]\n",
      "| 531 | source_6  p210927CP 110000296  A07 | JCP2022_040212 |  7462964904000874555 - 11  |   15.79000    2.75938   1.19838 |  0  | [-1.4530883   0.12594366  0.9636276  -1.7640653 ]\n",
      "| 532 | source_10 2021_08_0 Dest21072  A11 | JCP2022_040212 |  7462964904000874555 - 11  |   15.79000    2.75938   1.19838 |  0  | [-2.016332  -2.0893478  1.3156514 -3.1710715]\n",
      "| 533 | source_1  Batch4_20 UL001769   A13 | JCP2022_040212 |  7462964904000874555 - 11  |   15.79000    2.75938   1.19838 |  0  | [-0.81774664 -0.07756996 -0.3066659  -1.0307026 ]\n",
      "| 534 | source_2  20210808_ 108629275  D20 | JCP2022_018203 |  7463481418813966371 -  3  |   51.81000    3.94758   1.71441 |  0  | [0.40365386 1.0773263  0.51146483 0.93905   ]\n",
      "| 535 | source_3  CP_33_all A13415dW   J11 | JCP2022_018203 |  7463481418813966371 -  3  |   51.81000    3.94758   1.71441 |  0  | [0.5705676  1.4786458  0.7059196  0.21561491]\n",
      "| 536 | source_8  J4        A1166169   J11 | JCP2022_018203 |  7463481418813966371 -  3  |   51.81000    3.94758   1.71441 |  0  | [-0.784652   -1.6313963   0.40972054 -0.7905996 ]\n",
      "| 537 | source_7  20210727_ CP3-SC1-0  L17 | JCP2022_105413 |  7463570597762524842 - 10  |   91.36000    4.51481   1.96076 |  0  | [ 0.07064819 -0.7028823   0.6987588  -0.6978309 ]\n",
      "| 538 | source_6  p211004CP 110000296  C17 | JCP2022_105413 |  7463570597762524842 - 10  |   91.36000    4.51481   1.96076 |  0  | [ 0.64810324  1.5653691   1.1257911  -0.35525918]\n",
      "| 539 | source_7  20211126_ CP8-SC1-0  E08 | JCP2022_105413 |  7463570597762524842 - 10  |   91.36000    4.51481   1.96076 |  0  | [-0.5646628  -1.8238006  -0.20893896 -1.5693777 ]\n",
      "| 540 | source_2  20210808_ 108629286  N12 | JCP2022_027733 |  7463680722458336940 - 12  |   73.34000    4.29511   1.86534 |  0  | [-4.9440255  2.8855572  1.2455592 -0.9544101]\n",
      "| 541 | source_1  Batch1_20 UL001653  AD14 | JCP2022_027733 |  7463680722458336940 - 12  |   73.34000    4.29511   1.86534 |  0  | [ 0.20797157  1.7545261   5.4466963  -1.9870481 ]\n",
      "| 542 | source_3  CP_33_all A12079dW   O07 | JCP2022_027733 |  7463680722458336940 - 12  |   73.34000    4.29511   1.86534 |  0  | [-3.0575466 -3.7798958  3.0006037 -6.596347 ]\n",
      "| 543 | source_10 2021_06_1 Dest21061  N09 | JCP2022_000962 |  7463862687382194611 -  3  |   68.45000    4.22610   1.83537 |  0  | [-1.6063361  0.9351554 -1.6683193 -3.013268 ]\n",
      "| 544 | source_8  J2        A1170479   O06 | JCP2022_000962 |  7463862687382194611 -  3  |   68.45000    4.22610   1.83537 |  0  | [-0.32494283  0.195261    0.7663927  -0.6626161 ]\n",
      "| 545 | source_6  p211102CP 110000295  O06 | JCP2022_000962 |  7463862687382194611 -  3  |   68.45000    4.22610   1.83537 |  0  | [-0.24702919  0.3558116   0.13931906 -2.2676096 ]\n",
      "| 546 | source_9  20210918- GR0000437  C45 | JCP2022_059898 |  7463994192193767169 -  1  |  111.97000    4.71823   2.04910 |  1  | [-0.8678634  1.4610877  0.5589527 -1.5928304]\n",
      "| 547 | source_9  20210918- GR0000436  C21 | JCP2022_059898 |  7463994192193767169 -  1  |  111.97000    4.71823   2.04910 |  1  | [ 0.20241463  0.09154606 -0.47168815 -1.5672216 ]\n",
      "| 548 | source_9  20210918- GR0000436  S21 | JCP2022_059898 |  7463994192193767169 -  1  |  111.97000    4.71823   2.04910 |  1  | [ 1.192388   -0.56561136  0.85425854 -2.1203446 ]\n",
      "| 549 | source_5  JUMPCPE-2 APTJUM324  E04 | JCP2022_103820 |  7464322247353226561 -  1  |   54.82000    4.00406   1.73894 |  0  | [ 0.5276871  -1.9988484  -0.87971187 -0.27151406]\n",
      "| 550 | source_5  JUMPCPE-2 APTJUM124  E04 | JCP2022_103820 |  7464322247353226561 -  1  |   54.82000    4.00406   1.73894 |  0  | [-0.3650849  1.854394   0.5721445 -0.4993536]\n",
      "| 551 | source_9  20211013- GR0000328  U28 | JCP2022_103820 |  7464322247353226561 -  1  |   54.82000    4.00406   1.73894 |  0  | [ 0.36456513  4.0345173   0.7095691  -1.2175359 ]\n",
      "| 552 | source_6  p210928CP 110000296  F13 | JCP2022_026198 |  7464868926197481583 - 15  |   87.05000    4.46648   1.93977 |  0  | [-1.910433   1.3260112 -1.5465605  1.4651669]\n",
      "| 553 | source_1  Batch5_20 UL001791   L25 | JCP2022_026198 |  7464868926197481583 - 15  |   87.05000    4.46648   1.93977 |  0  | [ 0.08647352  2.8733673  -0.5240196   0.9109808 ]\n",
      "| 554 | source_10 2021_08_2 Dest21082  L03 | JCP2022_026198 |  7464868926197481583 - 15  |   87.05000    4.46648   1.93977 |  0  | [-2.0226212  3.2154589 -1.393533  -2.1789336]\n",
      "| 555 | source_9  20211103- GR0000441  T17 | JCP2022_019330 |  7465131242554676023 -  7  |   32.59000    3.48401   1.51308 |  0  | [ 1.3271985   1.2269211  -0.09382331  0.5995083 ]\n",
      "| 556 | source_5  JUMPCPE-2 APTJUM218  D17 | JCP2022_019330 |  7465131242554676023 -  7  |   32.59000    3.48401   1.51308 |  0  | [ 0.9831574  -0.94937754 -0.57408595 -0.06327212]\n",
      "| 557 | source_9  20211103- GR0000441  T41 | JCP2022_019330 |  7465131242554676023 -  7  |   32.59000    3.48401   1.51308 |  0  | [-0.95077205  0.7490988   2.2488682   0.98130274]\n",
      "| 558 | source_9  20211103- GR0000441  D41 | JCP2022_031880 |  7465251444545840968 -  8  |  115.03000    4.74519   2.06081 |  1  | [ 0.08306146  3.191492   -0.1649555  -2.900074  ]\n",
      "| 559 | source_9  20211103- GR0000441  T41 | JCP2022_031880 |  7465251444545840968 -  8  |  115.03000    4.74519   2.06081 |  1  | [ 0.37353134 -0.58815956  0.9886944  -0.05105793]\n",
      "| 560 | source_11 Batch2    EC000056   L10 | JCP2022_031880 |  7465251444545840968 -  8  |  115.03000    4.74519   2.06081 |  1  | [-0.64025307  1.5579519   0.49568695 -0.9816212 ]\n",
      "| 561 | source_9  20211013- GR0000328  M34 | JCP2022_072568 |  7465331608470591658 - 10  |   54.45000    3.99728   1.73600 |  0  | [ 0.4236517   3.1984901  -1.3353677  -0.46112537]\n",
      "| 562 | source_9  20211013- GR0000328 AC34 | JCP2022_072568 |  7465331608470591658 - 10  |   54.45000    3.99728   1.73600 |  0  | [-0.41910553  1.4593196   0.56340694  0.92663026]\n",
      "| 563 | source_5  JUMPCPE-2 APTJUM229  M10 | JCP2022_072568 |  7465331608470591658 - 10  |   54.45000    3.99728   1.73600 |  0  | [0.73601913 0.2245636  2.5080352  0.03466016]\n",
      "| 564 | source_1  Batch3_20 UL000089  AA24 | JCP2022_050566 |  7465566733079241022 - 14  |   64.69000    4.16961   1.81084 |  0  | [-0.937592    2.2241545   0.5781106  -0.16448534]\n",
      "| 565 | source_8  J1        A1170424   N12 | JCP2022_050566 |  7465566733079241022 - 14  |   64.69000    4.16961   1.81084 |  0  | [ 1.2264612   1.5131111   0.07267106 -0.5987442 ]\n",
      "| 566 | source_10 2021_08_2 Dest21082  K22 | JCP2022_050566 |  7465566733079241022 - 14  |   64.69000    4.16961   1.81084 |  0  | [ 0.70209384  0.46322823 -0.01939845 -1.3168464 ]\n",
      "| 567 | source_6  p211102CP 110000295  J08 | JCP2022_083541 |  7465610021014912653 - 13  |   28.16000    3.33790   1.44963 |  0  | [-0.7324115   0.24994087  1.538822   -0.4081    ]\n",
      "| 568 | source_10 2021_06_1 Dest21061  D14 | JCP2022_083541 |  7465610021014912653 - 13  |   28.16000    3.33790   1.44963 |  0  | [-0.33099353 -0.5442543   1.6174171  -2.495149  ]\n",
      "| 569 | source_8  J2        A1170480   J08 | JCP2022_083541 |  7465610021014912653 - 13  |   28.16000    3.33790   1.44963 |  0  | [-0.14522195 -0.68208075  1.0010054   0.8579086 ]\n",
      "| 570 | source_5  JUMPCPE-2 ATSJUM229  O15 | JCP2022_035320 |  7465649733470472630 -  6  |   58.36000    4.06663   1.76612 |  0  | [-0.0236547   0.5558877   2.9479997   0.17643726]\n",
      "| 571 | source_9  20210918- GR0000438  O39 | JCP2022_035320 |  7465649733470472630 -  6  |   58.36000    4.06663   1.76612 |  0  | [-0.49238205  0.64117813  0.44735157  0.45468092]\n",
      "| 572 | source_9  20210918- GR0000438 AE15 | JCP2022_035320 |  7465649733470472630 -  6  |   58.36000    4.06663   1.76612 |  0  | [ 2.381076  -0.8313246  2.2904298  3.302235 ]\n",
      "| 573 | source_9  20210918- GR0000437 AA33 | JCP2022_075658 |  7465649933977000394 - 10  |   85.39000    4.44723   1.93141 |  0  | [-1.1727834   2.5501285  -0.2604959   0.08228064]\n",
      "| 574 | source_11 Batch5    EC000090   F09 | JCP2022_075658 |  7465649933977000394 - 10  |   85.39000    4.44723   1.93141 |  0  | [ 1.3091111   0.20259953 -0.6455724  -0.66609275]\n",
      "| 575 | source_9  20210918- GR0000436 AA09 | JCP2022_075658 |  7465649933977000394 - 10  |   85.39000    4.44723   1.93141 |  0  | [-0.9772495  -1.1713886   0.11608589  0.5268396 ]\n",
      "| 576 | source_10 2021_05_3 Dest21053  I14 | JCP2022_039773 |  7465721421516326474 - 10  |   71.11000    4.26423   1.85193 |  0  | [-0.5499251  -0.24102974  0.05442643  0.8917661 ]\n",
      "| 577 | source_2  20210726_ 108629341  I14 | JCP2022_039773 |  7465721421516326474 - 10  |   71.11000    4.26423   1.85193 |  0  | [-0.34859228 -1.0766711   2.0783095  -0.9667984 ]\n",
      "| 578 | source_8  J1        A1170428   E18 | JCP2022_039773 |  7465721421516326474 - 10  |   71.11000    4.26423   1.85193 |  0  | [ 0.6310872   0.23783684  0.2705124  -0.7988438 ]\n",
      "| 579 | source_1  Batch5_20 UL001791   L27 | JCP2022_038644 |  7465827559827249698 -  2  |   32.78000    3.48982   1.51561 |  0  | [ 0.09773302  2.59729     0.99003685 -1.1258714 ]\n",
      "| 580 | source_10 2021_08_2 Dest21082  L05 | JCP2022_038644 |  7465827559827249698 -  2  |   32.78000    3.48982   1.51561 |  0  | [-2.2826757  1.1630268  2.357969   0.5944271]\n",
      "| 581 | source_6  p210928CP 110000296  F14 | JCP2022_038644 |  7465827559827249698 -  2  |   32.78000    3.48982   1.51561 |  0  | [-1.8446026   0.19566107  4.969826    0.93273735]\n",
      "| 582 | source_10 2021_08_1 Dest21080  E15 | JCP2022_002970 |  7465950051412284844 - 12  |  148.20000    4.99856   2.17085 |  1  | [ 1.1226201  -0.28817034  0.40377593  0.48930573]\n",
      "| 583 | source_2  20210614_ 105360086  E15 | JCP2022_002970 |  7465950051412284844 - 12  |  148.20000    4.99856   2.17085 |  1  | [-1.1352675  -1.3281808   3.0842476  -0.47408378]\n",
      "| 584 | source_8  J2        A1170469   K19 | JCP2022_002970 |  7465950051412284844 - 12  |  148.20000    4.99856   2.17085 |  1  | [-0.16360855  0.05555105  0.44400156 -1.8538816 ]\n",
      "| 585 | source_1  Batch3_20 UL001785   Y18 | JCP2022_104625 |  7465999524641873371 - 11  |   64.51000    4.16682   1.80963 |  0  | [ 0.09943271 -0.35673618  1.2393899  -0.5807216 ]\n",
      "| 586 | source_6  p210928CP 110000296  M09 | JCP2022_104625 |  7465999524641873371 - 11  |   64.51000    4.16682   1.80963 |  0  | [ 0.58963156  1.5054569   0.23206687 -0.8675911 ]\n",
      "| 587 | source_3  CP_32_all B40403bW   M09 | JCP2022_104625 |  7465999524641873371 - 11  |   64.51000    4.16682   1.80963 |  0  | [ 1.3678918  -0.35869837 -1.219118   -1.4976333 ]\n",
      "| 588 | source_8  J2        A1170468   K04 | JCP2022_099424 |  7466037304726652343 -  7  |   69.64000    4.24334   1.84286 |  0  | [ 0.25037432  0.2288456   2.39888    -0.40130854]\n",
      "| 589 | source_1  Batch6_20 UL000577   V08 | JCP2022_099424 |  7466037304726652343 -  7  |   69.64000    4.24334   1.84286 |  0  | [ 0.9168887  -0.6607847  -0.36934853 -1.3067346 ]\n",
      "| 590 | source_2  20211003_ 108628978  F06 | JCP2022_099424 |  7466037304726652343 -  7  |   69.64000    4.24334   1.84286 |  0  | [-1.229742    0.02174854  0.27819526 -1.1650568 ]\n",
      "| 591 | source_2  20210808_ 108629291  O22 | JCP2022_095218 |  7466071033942329154 -  2  |   45.23000    3.81176   1.65543 |  0  | [-0.679399    0.31076622  1.5080377   0.60332555]\n",
      "| 592 | source_3  CP_34_mix A13451bW   P22 | JCP2022_095218 |  7466071033942329154 -  2  |   45.23000    3.81176   1.65543 |  0  | [-1.1042533  2.3719573  1.6768839 -1.3030307]\n",
      "| 593 | source_1  Batch1_20 UL001641  AE44 | JCP2022_095218 |  7466071033942329154 -  2  |   45.23000    3.81176   1.65543 |  0  | [ 1.1532109  -1.8185349  -0.22183466 -1.3313786 ]\n",
      "| 594 | source_9  20210901_ GR0000334 AF27 | JCP2022_044856 |  7466079978711745147 - 11  |   57.51000    4.05196   1.75974 |  0  | [ 0.08504939  1.8566928  -1.9886131   0.9906682 ]\n",
      "| 595 | source_11 Batch3    EC000162   A18 | JCP2022_044856 |  7466079978711745147 - 11  |   57.51000    4.05196   1.75974 |  0  | [ 2.234692    1.7092924   0.23395944 -2.008532  ]\n",
      "| 596 | source_9  20210901_ GR0000334 AF03 | JCP2022_044856 |  7466079978711745147 - 11  |   57.51000    4.05196   1.75974 |  0  | [-0.5005264  -0.05862427 -1.397414   -0.23247993]\n",
      "| 597 | source_3  CP_33_all A13415aW   N11 | JCP2022_053541 |  7466145248149191213 - 13  |  107.84000    4.68065   2.03278 |  1  | [-0.02859163  1.3243008   0.11700141 -0.90896606]\n",
      "| 598 | source_2  20210808_ 108629275  K19 | JCP2022_053541 |  7466145248149191213 - 13  |  107.84000    4.68065   2.03278 |  1  | [-0.03182542 -0.74479866 -0.23117232 -0.9961176 ]\n",
      "| 599 | source_8  J4        A1166166   N11 | JCP2022_053541 |  7466145248149191213 - 13  |  107.84000    4.68065   2.03278 |  1  | [ 0.19739401  0.2289648   1.2768086  -1.3975756 ]\n"
     ]
    }
   ],
   "source": [
    "# %%timeit\n",
    "# for self.batch_count, (batch_features, batch_labels, _, _, _, _) in enumerate(data_loader):\n",
    "for idx, batch in enumerate(data_loader['train']):\n",
    "    print(batch[0].shape[0], batch[1].sum())\n",
    "    # display_cellpainting_batch(idx, batch)\n",
    "    if idx == 1:\n",
    "        break\n",
    "\n",
    "for idx, batch in enumerate(data_loader['val']):\n",
    "    display_cellpainting_batch(idx, batch)\n",
    "    if idx == 1:\n",
    "        break"
   ]
  },
  {
   "cell_type": "code",
   "execution_count": 17,
   "id": "8c05ab7f-9e55-44f2-b148-004a640f4ec6",
   "metadata": {
    "execution": {
     "iopub.execute_input": "2024-08-26T22:59:51.349709Z",
     "iopub.status.busy": "2024-08-26T22:59:51.349151Z",
     "iopub.status.idle": "2024-08-26T22:59:51.395732Z",
     "shell.execute_reply": "2024-08-26T22:59:51.394785Z",
     "shell.execute_reply.started": "2024-08-26T22:59:51.349660Z"
    }
   },
   "outputs": [
    {
     "name": "stdout",
     "output_type": "stream",
     "text": [
      " len of train data loader: 312000   number of batches: 520\n",
      " len of train data loader: 24000   number of batches: 40\n"
     ]
    }
   ],
   "source": [
    "#-----------------------------------------\n",
    "#  Count pos/neg labels in each dataset\n",
    "#-----------------------------------------   \n",
    "train_minibatches = len(data_loader['train']) // MINIBATCH_SIZE\n",
    "val_minibatches = len(data_loader['val']) // MINIBATCH_SIZE\n",
    "print(f\" len of train data loader: {len(data_loader['train'])}   number of batches: {train_minibatches}\")\n",
    "print(f\" len of train data loader: {len(data_loader['val'])}   number of batches: {val_minibatches}\")"
   ]
  },
  {
   "cell_type": "code",
   "execution_count": 18,
   "id": "3f97307d-ec79-48f4-a9e4-58cc198abead",
   "metadata": {
    "execution": {
     "iopub.execute_input": "2024-08-26T22:59:52.783305Z",
     "iopub.status.busy": "2024-08-26T22:59:52.782879Z",
     "iopub.status.idle": "2024-08-26T23:00:09.767266Z",
     "shell.execute_reply": "2024-08-26T23:00:09.765900Z",
     "shell.execute_reply.started": "2024-08-26T22:59:52.783265Z"
    }
   },
   "outputs": [
    {
     "name": "stdout",
     "output_type": "stream",
     "text": [
      "                                                                                                                                                                                                           \n",
      " Dataset: train\n",
      "------------------------------\n",
      " total rows     : 312000\n",
      " total pos rows :   37164 - 11.91%\n",
      " total neg rows :  274836 - 88.09%\n",
      "                                                                                                                                                                                                           \n",
      " Dataset: val\n",
      "------------------------------\n",
      " total rows     : 24000\n",
      " total pos rows :    2844 - 11.85%\n",
      " total neg rows :   21156 - 88.15%\n",
      "                                                                                                                                                                                                           \n",
      " Dataset: test\n",
      "------------------------------\n",
      " total rows     : 10200\n",
      " total pos rows :    1269 - 12.44%\n",
      " total neg rows :    8931 - 87.56%\n"
     ]
    }
   ],
   "source": [
    "current_epoch = 1\n",
    "ttl_epochs = 1\n",
    "for datatype in ['train', 'val', 'test']:\n",
    "    ttl_rows = 0\n",
    "    ttl_pos_labels = 0 \n",
    "    with tqdm.tqdm(enumerate(data_loader[datatype]), initial=0, total = train_minibatches, position=0, file=sys.stdout,\n",
    "                   leave= False, desc=f\" Epoch {current_epoch}\") as t_warmup:\n",
    "        for batch_count, (batch_features, batch_labels, _, _, _, _) in t_warmup:\n",
    "            ttl_rows += batch_labels.shape[0]\n",
    "            ttl_pos_labels += batch_labels.sum()\n",
    "\n",
    "    ttl_neg_labels = ttl_rows - ttl_pos_labels\n",
    "    print(f\"\\n Dataset: {datatype}\")\n",
    "    print('-'*30)\n",
    "    print(f\" total rows     : {ttl_rows}\")\n",
    "    print(f\" total pos rows : {ttl_pos_labels:7.0f} - {ttl_pos_labels*100.0/ttl_rows:5.2f}%\")\n",
    "    print(f\" total neg rows : {ttl_neg_labels:7.0f} - {ttl_neg_labels*100.0/ttl_rows:5.2f}%\")"
   ]
  },
  {
   "cell_type": "markdown",
   "id": "c795d1f1-80c4-4efa-86a9-dcabe361a4cc",
   "metadata": {},
   "source": [
    "# Define Neural Net Model "
   ]
  },
  {
   "cell_type": "code",
   "execution_count": 19,
   "id": "5da6c33f-2e14-47b6-8dfd-57294ae44921",
   "metadata": {
    "ExecuteTime": {
     "end_time": "2023-07-31T18:45:10.550334Z",
     "start_time": "2023-07-31T18:45:07.868769Z"
    },
    "execution": {
     "iopub.execute_input": "2024-08-26T23:00:16.580035Z",
     "iopub.status.busy": "2024-08-26T23:00:16.579459Z",
     "iopub.status.idle": "2024-08-26T23:00:16.677260Z",
     "shell.execute_reply": "2024-08-26T23:00:16.676194Z",
     "shell.execute_reply.started": "2024-08-26T23:00:16.579988Z"
    }
   },
   "outputs": [],
   "source": [
    "\n",
    "## Set visible GPU device \n",
    "##----------------------------------------------\n",
    "# os.environ[\"CUDA_DEVICE_ORDER\"]=\"PCI_BUS_ID\"   \n",
    "# os.environ[\"CUDA_VISIBLE_DEVICES\"] = '0'\n",
    "\n",
    "if torch.cuda.is_available():\n",
    "    device = torch.device('cuda:0')\n",
    "else:\n",
    "    device = torch.device('cpu')\n",
    "\n",
    "try:\n",
    "    del model\n",
    "except:\n",
    "    pass"
   ]
  },
  {
   "cell_type": "code",
   "execution_count": 20,
   "id": "f32c6590-d212-4f37-8ce1-4ee46fd4246a",
   "metadata": {
    "ExecuteTime": {
     "end_time": "2023-07-31T18:45:44.380055Z",
     "start_time": "2023-07-31T18:45:41.073911Z"
    },
    "execution": {
     "iopub.execute_input": "2024-08-26T23:00:16.920249Z",
     "iopub.status.busy": "2024-08-26T23:00:16.919939Z",
     "iopub.status.idle": "2024-08-26T23:00:17.456240Z",
     "shell.execute_reply": "2024-08-26T23:00:17.455278Z",
     "shell.execute_reply.started": "2024-08-26T23:00:16.920220Z"
    }
   },
   "outputs": [
    {
     "data": {
      "text/plain": [
       "Sequential(\n",
       "  (0): Linear(in_features=150, out_features=256, bias=True)\n",
       "  (1): ReLU()\n",
       "  (2): Linear(in_features=256, out_features=256, bias=True)\n",
       "  (3): ReLU()\n",
       "  (4): Linear(in_features=256, out_features=128, bias=True)\n",
       "  (5): ReLU()\n",
       "  (6): Linear(in_features=128, out_features=1, bias=True)\n",
       ")"
      ]
     },
     "execution_count": 20,
     "metadata": {},
     "output_type": "execute_result"
    }
   ],
   "source": [
    "###### hierarchical network\n",
    "#  nn.Linear(n_hidden_2, n_hidden, bias=False), BatchNorm1d(n_hidden), Tanh(),\n",
    " \n",
    "n_input    = 150 # the dimensionality of the character embedding vectors\n",
    "n_hidden_1 = 256 # the number of neurons in the hidden layer of the MLP\n",
    "n_hidden_2 = 256 # the number of neurons in the hidden layer of the MLP\n",
    "n_hidden_3 = 128\n",
    "# loss_fn = nn.BCELoss()    ## receives input from  nn.Sigmoid()\n",
    "loss_fn = nn.BCEWithLogitsLoss()\n",
    "\n",
    "model = nn.Sequential(\n",
    "    nn.Linear(n_input , n_hidden_1, bias=True), \n",
    "    # nn.BatchNorm1d(n_hidden_1), \n",
    "    # nn.Tanh(),\n",
    "    nn.ReLU(),\n",
    "    \n",
    "    nn.Linear(n_hidden_1, n_hidden_2, bias=True), \n",
    "    # nn.BatchNorm1d(n_hidden_2), \n",
    "    # nn.Tanh(),\n",
    "    nn.ReLU(),\n",
    "    \n",
    "    nn.Linear(n_hidden_2, n_hidden_3, bias=True), \n",
    "    # nn.BatchNorm1d(n_hidden_3), \n",
    "    # nn.Tanh(),\n",
    "    nn.ReLU(),\n",
    "    \n",
    "    nn.Linear(n_hidden_3, 1),    \n",
    ")\n",
    "model.to(device)"
   ]
  },
  {
   "cell_type": "code",
   "execution_count": 21,
   "id": "516fbc97-8c0d-4ba9-820d-c37c4eaebf27",
   "metadata": {
    "ExecuteTime": {
     "end_time": "2023-07-31T18:47:48.292853Z",
     "start_time": "2023-07-31T18:47:45.651556Z"
    },
    "execution": {
     "iopub.execute_input": "2024-08-26T23:00:17.457698Z",
     "iopub.status.busy": "2024-08-26T23:00:17.457485Z",
     "iopub.status.idle": "2024-08-26T23:00:17.833098Z",
     "shell.execute_reply": "2024-08-26T23:00:17.831983Z",
     "shell.execute_reply.started": "2024-08-26T23:00:17.457677Z"
    },
    "scrolled": true
   },
   "outputs": [
    {
     "name": "stdout",
     "output_type": "stream",
     "text": [
      "Parm shape: torch.Size([256, 150])                 # elements:    38400    Required gradient calc: True\n",
      "Parm shape: torch.Size([256])                      # elements:      256    Required gradient calc: True\n",
      "Parm shape: torch.Size([256, 256])                 # elements:    65536    Required gradient calc: True\n",
      "Parm shape: torch.Size([256])                      # elements:      256    Required gradient calc: True\n",
      "Parm shape: torch.Size([128, 256])                 # elements:    32768    Required gradient calc: True\n",
      "Parm shape: torch.Size([128])                      # elements:      128    Required gradient calc: True\n",
      "Parm shape: torch.Size([1, 128])                   # elements:      128    Required gradient calc: True\n",
      "Parm shape: torch.Size([1])                        # elements:        1    Required gradient calc: True\n",
      "137473\n",
      "Total num of parameters: 137473\n",
      "==============================================================================================================================================================================================\n",
      "Layer (type:depth-idx)                   Input Shape               Output Shape              Param #                   Param %                   Mult-Adds                 Trainable\n",
      "==============================================================================================================================================================================================\n",
      "Sequential                               [30, 150]                 [30, 1]                   --                             --                   --                        True\n",
      "├─Linear: 1-1                            [30, 150]                 [30, 256]                 38,656                     28.12%                   1,159,680                 True\n",
      "│    └─weight                                                                                ├─38,400\n",
      "│    └─bias                                                                                  └─256\n",
      "├─ReLU: 1-2                              [30, 256]                 [30, 256]                 --                             --                   --                        --\n",
      "├─Linear: 1-3                            [30, 256]                 [30, 256]                 65,792                     47.86%                   1,973,760                 True\n",
      "│    └─weight                                                                                ├─65,536\n",
      "│    └─bias                                                                                  └─256\n",
      "├─ReLU: 1-4                              [30, 256]                 [30, 256]                 --                             --                   --                        --\n",
      "├─Linear: 1-5                            [30, 256]                 [30, 128]                 32,896                     23.93%                   986,880                   True\n",
      "│    └─weight                                                                                ├─32,768\n",
      "│    └─bias                                                                                  └─128\n",
      "├─ReLU: 1-6                              [30, 128]                 [30, 128]                 --                             --                   --                        --\n",
      "├─Linear: 1-7                            [30, 128]                 [30, 1]                   129                         0.09%                   3,870                     True\n",
      "│    └─weight                                                                                ├─128\n",
      "│    └─bias                                                                                  └─1\n",
      "==============================================================================================================================================================================================\n",
      "Total params: 137,473\n",
      "Trainable params: 137,473\n",
      "Non-trainable params: 0\n",
      "Total mult-adds (Units.MEGABYTES): 4.12\n",
      "==============================================================================================================================================================================================\n",
      "Input size (MB): 0.02\n",
      "Forward/backward pass size (MB): 0.15\n",
      "Params size (MB): 0.55\n",
      "Estimated Total Size (MB): 0.72\n",
      "==============================================================================================================================================================================================\n"
     ]
    }
   ],
   "source": [
    "# ## parameter initialization\n",
    "# with torch.no_grad():\n",
    "#     model[-1].weight *= 0.1 # last layer make less confident\n",
    "# model[-1].weight\n",
    "\n",
    "parameters = model.parameters()\n",
    "ttl_nelements = 0\n",
    "for p in parameters:\n",
    "    print(f\"Parm shape: {str(p.shape):35s}    # elements: {p.nelement():8d}    Required gradient calc: {p.requires_grad}\")\n",
    "    ttl_nelements += p.nelement()\n",
    "print(ttl_nelements)\n",
    "\n",
    "print(f\"Total num of parameters: {sum(p.nelement() for p in model.parameters())}\") # number of parameters in total\n",
    "for p in parameters:\n",
    "    p.requires_grad = True\n",
    "\n",
    "col_names = [ \"input_size\", \"output_size\", \"num_params\", \"params_percent\", \"mult_adds\", \"trainable\"]\n",
    "\n",
    "summary_input_size = (30  , 150)\n",
    "_ = summary(model, verbose = 2, input_size=summary_input_size, col_names = col_names)"
   ]
  },
  {
   "cell_type": "code",
   "execution_count": 22,
   "id": "fe84fdb0-28d1-45fd-bda1-6133e41e33cc",
   "metadata": {
    "execution": {
     "iopub.execute_input": "2024-08-26T23:00:18.629320Z",
     "iopub.status.busy": "2024-08-26T23:00:18.628942Z",
     "iopub.status.idle": "2024-08-26T23:00:18.684082Z",
     "shell.execute_reply": "2024-08-26T23:00:18.682963Z",
     "shell.execute_reply.started": "2024-08-26T23:00:18.629286Z"
    }
   },
   "outputs": [],
   "source": [
    "\n",
    "def train(dataloader, current_epoch = 0, total_epochs = 0):\n",
    "    loss = 0\n",
    "    accuracy = 0 \n",
    "    train_minibatches = len(dataloader) // MINIBATCH_SIZE\n",
    "\n",
    "    t_trn = tqdm.tqdm(enumerate(data_loader['train']), initial=0, total = train_minibatches,\n",
    "                      position=0, file=sys.stdout,\n",
    "                      leave= False, desc=f\" Trn {current_epoch}/{total_epochs}\")\n",
    "\n",
    "    for batch_count, (batch_features, y_true, _, _, _, _) in t_trn:\n",
    "        batch_features = batch_features.to(device)\n",
    "        y_true = y_true.to(device)\n",
    "\n",
    "        # forward pass\n",
    "        y_logits = model(batch_features)\n",
    "        y_pred = torch.round(torch.sigmoid(y_logits))\n",
    "\n",
    "        # loss_bce = F.binary_cross_entropy_with_logits(logits, batch_labels) ## <--- INCLUDES sigmoid\n",
    "        loss_bce = loss_fn(y_logits, y_true)\n",
    "\n",
    "        loss += loss_bce\n",
    "\n",
    "        acc = accuracy_fn(y_true, y_pred )\n",
    "        accuracy += acc\n",
    "\n",
    "        # print(f\" {batch_count} logits:  min: {logits.min()}   max: {logits.max()}  loss: {loss_bce}\")\n",
    "        t_trn.set_postfix({'Loss': f\"{loss_bce:.4f}\", 'Acc': f\"{acc:.2f}\", 'lbls': f\"{y_true.sum()}\"})\n",
    "\n",
    "        optimizer.zero_grad(set_to_none=True)\n",
    "        loss_bce.backward()\n",
    "        optimizer.step()\n",
    "\n",
    "    loss /= (batch_count +1)\n",
    "    accuracy /= (batch_count+1)\n",
    "    return loss, accuracy\n",
    "\n",
    "@torch.no_grad()\n",
    "def validation(dataloader, current_epoch = 0, total_epochs = 0):\n",
    "    loss = 0\n",
    "    accuracy = 0 \n",
    "    val_minibatches = len(dataloader) // MINIBATCH_SIZE\n",
    "    t_val = tqdm.tqdm(enumerate(data_loader['val']), initial=0, total = val_minibatches, \n",
    "                      position=0, file=sys.stdout, leave= False, desc=f\" Val {current_epoch}/{total_epochs}\") \n",
    "\n",
    "    for batch_count, (batch_features, y_true, _, _, _, _) in t_val:\n",
    "        batch_features = batch_features.to(device)\n",
    "        y_true = y_true.to(device)\n",
    "        y_logits = model(batch_features)\n",
    "        y_pred = torch.round(torch.sigmoid(y_logits))\n",
    "        loss_bce = loss_fn(y_logits, y_true)\n",
    "        loss += loss_bce\n",
    "        acc = accuracy_fn(y_true, y_pred)\n",
    "        accuracy += acc\n",
    "        t_val.set_postfix({'Loss': f\"{loss_bce:.4f}\", 'Acc': f\"{acc:.2f}\", 'lbls': f\"{y_true.sum()}\"})  \n",
    "\n",
    "    loss /= (batch_count+1)\n",
    "    accuracy /= (batch_count+1)\n",
    "    return loss, accuracy\n",
    "\n",
    "\n",
    "@torch.no_grad()\n",
    "# Calculate accuracy (a classification metric)\n",
    "def accuracy_fn(y_true, y_pred):\n",
    "    correct = torch.eq(y_true, y_pred).sum().item() # torch.eq() calculates where two tensors are equal\n",
    "    acc = (correct / len(y_pred)) * 100 \n",
    "    return acc\n",
    "\n",
    "# @torch.no_grad()\n",
    "# def validation_mse(val_steps=50):\n",
    "#     loss = 0\n",
    "#     for i in range(val_steps):\n",
    "#         ix = torch.randint(0, val_X.shape[0], (batch_size,))\n",
    "#         Xv, Yv = torch.Tensor(val_X[ix]).to(device), torch.Tensor(val_y[ix]).to(device) # batch X,Y\n",
    "#         logits = model(Xv)\n",
    "#         loss += F.mse_loss(logits, Yv)\n",
    "#     loss /= val_steps\n",
    "#     return loss \n",
    "\n",
    "# evaluate the loss\n",
    "# @torch.no_grad() # this decorator disables gradient tracking inside pytorch\n",
    "# def split_loss(split):\n",
    "#     \"\"\"\n",
    "#     compute loss for data split passed (training, validation, or test data)\n",
    "#     \"\"\"\n",
    "#     # from torch.torcheval.metrics import R2Score    \n",
    "#     # import torchmetrics \n",
    "#     from torchmetrics.regression import R2Score, PearsonCorrCoef\n",
    "#     x_numpy,y_numpy = {\n",
    "#     'train': (train_X, train_y),\n",
    "#     'val'  : (val_X  , val_y),\n",
    "#     'test' : (test_X , test_y),\n",
    "#     }[split]\n",
    "#     x = torch.Tensor(x_numpy).to(device)\n",
    "#     y = torch.Tensor(y_numpy).to(device) \n",
    "#     logits = model(x)\n",
    "# #     print(f\" size of logits: {logits.shape}   size of y: {y.shape}\")\n",
    "#     mse_loss = F.mse_loss(logits, y)\n",
    "#     r2score = R2Score().to(device)\n",
    "#     pearson = PearsonCorrCoef(num_outputs=1).to(device)\n",
    "#     r2_loss = r2score(logits, y) \n",
    "#     pearson_loss= pearson(logits.view(-1), y.view(-1))\n",
    "#     print(f\"\\n {split:5s} data:   MSE loss: {mse_loss.item():10.4f}    R2 Score: {r2_loss.item():.5f}     Pearson Coeff. {pearson_loss:.4f}\")\n",
    "\n",
    "# @torch.no_grad()\n",
    "# def calc_loss(x,y):\n",
    "#     logits = model(x)\n",
    "#     loss = F.mse_loss(logits, y)\n",
    "#     print(y[:20].T)\n",
    "#     print(logits[:20].T)\n",
    "#     print(f\"Calculated loss:  {loss.item():5e}\")\n"
   ]
  },
  {
   "cell_type": "code",
   "execution_count": 23,
   "id": "b76b192e-1e7d-4e47-a4d2-8a2a94b1c634",
   "metadata": {
    "ExecuteTime": {
     "end_time": "2023-07-31T18:48:09.459977Z",
     "start_time": "2023-07-31T18:48:09.429767Z"
    },
    "execution": {
     "iopub.execute_input": "2024-08-26T23:00:20.289261Z",
     "iopub.status.busy": "2024-08-26T23:00:20.288739Z",
     "iopub.status.idle": "2024-08-26T23:00:20.335672Z",
     "shell.execute_reply": "2024-08-26T23:00:20.334734Z",
     "shell.execute_reply.started": "2024-08-26T23:00:20.289218Z"
    }
   },
   "outputs": [],
   "source": [
    "# create a PyTorch optimizer\n",
    "lossi = []\n",
    "acci = [] \n",
    "lossv = []\n",
    "accv = [] \n",
    "init_LR = 1.0e-4\n",
    "curr_LR = init_LR\n",
    "# scheduler = torch.optim.lr_scheduler.StepLR(optimizer, step_size = step_size, gamma=0.1, last_epoch =-1)\n",
    "# scheduler = torch.optim.lr_scheduler.ReduceLROnPlateau(optimizer, mode = 'min', factor = 0.3 , patience=20, cooldown=10,)\n",
    "optimizer = torch.optim.AdamW(model.parameters(), lr=init_LR)\n",
    "scheduler = torch.optim.lr_scheduler.ReduceLROnPlateau(optimizer, mode = 'min', factor = 0.5 , threshold=1.0e-06, patience=50, cooldown=10,) \n"
   ]
  },
  {
   "cell_type": "code",
   "execution_count": 25,
   "id": "31ec54be-10d4-4b6e-85c9-8175fab24f02",
   "metadata": {
    "ExecuteTime": {
     "end_time": "2023-07-31T18:48:09.459977Z",
     "start_time": "2023-07-31T18:48:09.429767Z"
    },
    "execution": {
     "iopub.execute_input": "2024-08-26T23:00:29.356997Z",
     "iopub.status.busy": "2024-08-26T23:00:29.356472Z",
     "iopub.status.idle": "2024-08-26T23:00:29.400627Z",
     "shell.execute_reply": "2024-08-26T23:00:29.399902Z",
     "shell.execute_reply.started": "2024-08-26T23:00:29.356937Z"
    }
   },
   "outputs": [],
   "source": [
    "start_epoch = 0\n",
    "end_epoch   = 20"
   ]
  },
  {
   "cell_type": "code",
   "execution_count": 26,
   "id": "361b32a8-8e5e-4dc2-8919-5ff3c49abdab",
   "metadata": {
    "ExecuteTime": {
     "end_time": "2023-07-31T19:00:14.450630Z",
     "start_time": "2023-07-31T18:49:12.235999Z"
    },
    "execution": {
     "iopub.execute_input": "2024-08-26T23:00:30.253366Z",
     "iopub.status.busy": "2024-08-26T23:00:30.252848Z",
     "iopub.status.idle": "2024-08-26T23:06:02.618759Z",
     "shell.execute_reply": "2024-08-26T23:06:02.617564Z",
     "shell.execute_reply.started": "2024-08-26T23:00:30.253322Z"
    },
    "scrolled": true
   },
   "outputs": [
    {
     "name": "stdout",
     "output_type": "stream",
     "text": [
      " 01:00:47 | Ep:   0/  20 | Trn loss:  0.375492 -  0.375492  Acc: 87.7955 | Val loss:  0.361158  -  0.361158  Acc: 88.1667 | last_lr: 1.00000e-04  bad_ep: 0  cdwn: 0                                       \n",
      " 01:01:04 | Ep:   1/  20 | Trn loss:  0.360217 -  0.367854  Acc: 88.0955 | Val loss:  0.359337  -  0.360247  Acc: 88.1708 | last_lr: 1.00000e-04  bad_ep: 0  cdwn: 0                                       \n",
      " 01:01:20 | Ep:   2/  20 | Trn loss:  0.358012 -  0.364574  Acc: 88.0990 | Val loss:  0.358241  -  0.359578  Acc: 88.1708 | last_lr: 1.00000e-04  bad_ep: 0  cdwn: 0                                       \n",
      " 01:01:37 | Ep:   3/  20 | Trn loss:  0.356251 -  0.362493  Acc: 88.1038 | Val loss:  0.357423  -  0.359039  Acc: 88.1750 | last_lr: 1.00000e-04  bad_ep: 0  cdwn: 0                                       \n",
      " 01:01:53 | Ep:   4/  20 | Trn loss:  0.354708 -  0.360936  Acc: 88.1112 | Val loss:  0.356915  -  0.358615  Acc: 88.1708 | last_lr: 1.00000e-04  bad_ep: 0  cdwn: 0                                       \n",
      " 01:02:10 | Ep:   5/  20 | Trn loss:  0.353307 -  0.359665  Acc: 88.1218 | Val loss:  0.356634  -  0.358285  Acc: 88.1625 | last_lr: 1.00000e-04  bad_ep: 0  cdwn: 0                                       \n",
      " 01:02:26 | Ep:   6/  20 | Trn loss:  0.351996 -  0.358569  Acc: 88.1327 | Val loss:  0.356551  -  0.358037  Acc: 88.1583 | last_lr: 1.00000e-04  bad_ep: 0  cdwn: 0                                       \n",
      " 01:02:43 | Ep:   7/  20 | Trn loss:  0.350713 -  0.357587  Acc: 88.1462 | Val loss:  0.356603  -  0.357858  Acc: 88.1583 | last_lr: 1.00000e-04  bad_ep: 1  cdwn: 0                                       \n",
      " 01:03:00 | Ep:   8/  20 | Trn loss:  0.349424 -  0.356680  Acc: 88.1551 | Val loss:  0.356716  -  0.357731  Acc: 88.1500 | last_lr: 1.00000e-04  bad_ep: 2  cdwn: 0                                       \n",
      " 01:03:16 | Ep:   9/  20 | Trn loss:  0.348128 -  0.355825  Acc: 88.1641 | Val loss:  0.357012  -  0.357659  Acc: 88.1500 | last_lr: 1.00000e-04  bad_ep: 3  cdwn: 0                                       \n",
      " 01:03:33 | Ep:  10/  20 | Trn loss:  0.346824 -  0.355007  Acc: 88.1782 | Val loss:  0.357446  -  0.357640  Acc: 88.1333 | last_lr: 1.00000e-04  bad_ep: 4  cdwn: 0                                       \n",
      " 01:03:49 | Ep:  11/  20 | Trn loss:  0.345502 -  0.354215  Acc: 88.1987 | Val loss:  0.357932  -  0.357664  Acc: 88.1167 | last_lr: 1.00000e-04  bad_ep: 5  cdwn: 0                                       \n",
      " 01:04:06 | Ep:  12/  20 | Trn loss:  0.344145 -  0.353440  Acc: 88.2122 | Val loss:  0.358437  -  0.357723  Acc: 88.1208 | last_lr: 1.00000e-04  bad_ep: 6  cdwn: 0                                       \n",
      " 01:04:22 | Ep:  13/  20 | Trn loss:  0.342757 -  0.352677  Acc: 88.2308 | Val loss:  0.359087  -  0.357821  Acc: 88.1167 | last_lr: 1.00000e-04  bad_ep: 7  cdwn: 0                                       \n",
      " 01:04:39 | Ep:  14/  20 | Trn loss:  0.341347 -  0.351922  Acc: 88.2442 | Val loss:  0.359788  -  0.357952  Acc: 88.1125 | last_lr: 1.00000e-04  bad_ep: 8  cdwn: 0                                       \n",
      " 01:04:56 | Ep:  15/  20 | Trn loss:  0.339892 -  0.351170  Acc: 88.2670 | Val loss:  0.360539  -  0.358114  Acc: 88.1083 | last_lr: 1.00000e-04  bad_ep: 9  cdwn: 0                                       \n",
      " 01:05:12 | Ep:  16/  20 | Trn loss:  0.338440 -  0.350421  Acc: 88.2901 | Val loss:  0.361345  -  0.358304  Acc: 88.0667 | last_lr: 1.00000e-04  bad_ep: 10  cdwn: 0                                      \n",
      " 01:05:29 | Ep:  17/  20 | Trn loss:  0.336955 -  0.349673  Acc: 88.3109 | Val loss:  0.362176  -  0.358519  Acc: 88.0750 | last_lr: 1.00000e-04  bad_ep: 11  cdwn: 0                                      \n",
      " 01:05:45 | Ep:  18/  20 | Trn loss:  0.335442 -  0.348924  Acc: 88.3356 | Val loss:  0.363107  -  0.358760  Acc: 88.0375 | last_lr: 1.00000e-04  bad_ep: 12  cdwn: 0                                      \n",
      " 01:06:02 | Ep:  19/  20 | Trn loss:  0.333934 -  0.348174  Acc: 88.3580 | Val loss:  0.364092  -  0.359027  Acc: 88.0292 | last_lr: 1.00000e-04  bad_ep: 13  cdwn: 0                                      \n"
     ]
    }
   ],
   "source": [
    "_ = model.train();\n",
    " \n",
    "for epoch in range(start_epoch, end_epoch):\n",
    "    #train\n",
    "    trn_loss, trn_acc = train(data_loader['train'], epoch, end_epoch)\n",
    "    lossi.append(trn_loss)\n",
    "    acci.append(trn_acc)\n",
    "\n",
    "    # Validation \n",
    "    val_loss, val_acc = validation(data_loader['val'], epoch, end_epoch)\n",
    "    lossv.append(val_loss)\n",
    "    accv.append(val_acc)\n",
    "\n",
    "    scheduler.step(val_loss)\n",
    "\n",
    "    avg_val_loss = sum(lossv) / len(lossv)\n",
    "    avg_val_acc  = sum(accv) / len(accv)\n",
    "\n",
    "    avg_trn_loss = sum(lossi) / len(lossi)\n",
    "    avg_trn_acc  = sum(acci) / len(acci)\n",
    "\n",
    "    s_dict = scheduler.state_dict()\n",
    "    print(f\" {datetime.now().strftime('%X')} | Ep: {epoch:3d}/{end_epoch:4d} | Trn loss: {trn_loss:9.6f} - {avg_trn_loss:9.6f}  Acc: {trn_acc:.4f} |\"\n",
    "          f\" Val loss: {val_loss:9.6f}  - {avg_val_loss:9.6f}  Acc: {val_acc:.4f} |\" \\\n",
    "          f\" last_lr: {s_dict['_last_lr'][0]:.5e}  bad_ep: {s_dict['num_bad_epochs']:d}  cdwn: {s_dict['cooldown_counter']:d} \")"
   ]
  },
  {
   "cell_type": "code",
   "execution_count": null,
   "id": "e14f84dd-395b-4b14-bb2d-1c3cfdcecfac",
   "metadata": {},
   "outputs": [],
   "source": [
    " 22:44:22 | Ep:  10/  30 | Trn loss:  0.347028 -  0.347028 | 88.1353 - 88.14 | Val loss:  0.358947  -  0.358947 | 88.1500 - 88.15 | last_lr: 1.00000e-04  bad_ep: 0  cdwn: 0             \n",
    " 22:47:13 | Ep:  20/  30 | Trn loss:  0.336719 -  0.341815 | 88.2337 - 88.18 | Val loss:  0.363670  -  0.360976 | 88.1083 - 88.14 | last_lr: 1.00000e-04  bad_ep: 10  cdwn: 0            \n",
    " 22:49:45 | Ep:  29/  30 | Trn loss:  0.327701 -  0.337260 | 88.3446 - 88.24 | Val loss:  0.371076  -  0.363975 | 88.0667 - 88.12 | last_lr: 1.00000e-04  bad_ep: 19  cdwn: 0      \n",
    " 00:59:14 | Ep:  99/ 100 | Trn loss:  0.292072 -  0.312464  Acc: 89.0122 | Val loss:  0.400771  -  0.383093  Acc: 87.2250 | last_lr: 1.25000e-05  bad_ep: 0  cdwn: 4 \n",
    " 01:32:31 | Ep: 199/ 200 | Trn loss:  0.283415 -  0.298738  Acc: 89.2369 | Val loss:  0.409670  -  0.395568  Acc: 86.8333 | last_lr: 1.56250e-06  bad_ep: 3  cdwn: 0 \n",
    "\n",
    " 21:28:04 | Ep: 200/ 300 | Trn loss:  0.184271 -  0.230100  Acc: 93.0782 | Val loss:  0.539160  -  0.480525  Acc: 83.7750 | last_lr: 1.56250e-06  bad_ep: 10  cdwn: 0 \n",
    " 21:56:08 | Ep: 299/ 300 | Trn loss:  0.181429 -  0.214337  Acc: 93.1699 | Val loss:  0.543866  -  0.500949  Acc: 83.7250 | last_lr: 1.95313e-07  bad_ep: 16  cdwn: 0 "
   ]
  },
  {
   "cell_type": "code",
   "execution_count": 53,
   "id": "96f700ef-58ba-4895-a7ec-f2fd97b5fa4b",
   "metadata": {
    "execution": {
     "iopub.execute_input": "2024-08-22T16:14:09.436911Z",
     "iopub.status.busy": "2024-08-22T16:14:09.435868Z",
     "iopub.status.idle": "2024-08-22T16:14:09.491446Z",
     "shell.execute_reply": "2024-08-22T16:14:09.490509Z",
     "shell.execute_reply.started": "2024-08-22T16:14:09.436849Z"
    }
   },
   "outputs": [
    {
     "name": "stdout",
     "output_type": "stream",
     "text": [
      "NN_snnl_embd200_150Ltnt_512_20240718_1956_BEST_20240821_2336_ep_500\n"
     ]
    }
   ],
   "source": [
    "end_epoch = 500\n",
    "SAVE_PATH = \"model_ckpts\"\n",
    "filename = f\"NN_snnl_embd200_150Ltnt_512_{date_time}_{ckpt_type}_{RUN_DATETIME}_ep_{end_epoch}\"\n",
    "print(filename)"
   ]
  },
  {
   "cell_type": "code",
   "execution_count": null,
   "id": "e1cee810-f722-49ba-9a62-77b73cfaec55",
   "metadata": {},
   "outputs": [],
   "source": []
  },
  {
   "cell_type": "code",
   "execution_count": 54,
   "id": "12256d9f-d57e-4f3b-8a67-dc7940ad47dd",
   "metadata": {
    "execution": {
     "iopub.execute_input": "2024-08-22T16:14:16.027505Z",
     "iopub.status.busy": "2024-08-22T16:14:16.027019Z",
     "iopub.status.idle": "2024-08-22T16:14:16.080610Z",
     "shell.execute_reply": "2024-08-22T16:14:16.080106Z",
     "shell.execute_reply.started": "2024-08-22T16:14:16.027465Z"
    }
   },
   "outputs": [
    {
     "name": "stderr",
     "output_type": "stream",
     "text": [
      "2024-08-22 18:14:16,077 - utils.utils_cellpainting - INFO: -  Model exported to NN_snnl_embd200_150Ltnt_512_20240718_1956_BEST_20240821_2336_ep_500.pt - epoch: 500\n"
     ]
    }
   ],
   "source": [
    "save_checkpoint(end_epoch, model, optimizer, scheduler, filename = filename, ckpt_path = \"model_ckpts\", verbose = False)"
   ]
  },
  {
   "cell_type": "code",
   "execution_count": 44,
   "id": "5e978589-d202-445e-a7a8-2c8068acbe85",
   "metadata": {
    "ExecuteTime": {
     "end_time": "2023-06-04T11:35:15.434870Z",
     "start_time": "2023-06-04T11:35:15.344699Z"
    },
    "execution": {
     "iopub.execute_input": "2024-08-22T15:23:32.595494Z",
     "iopub.status.busy": "2024-08-22T15:23:32.594993Z",
     "iopub.status.idle": "2024-08-22T15:23:32.637039Z",
     "shell.execute_reply": "2024-08-22T15:23:32.636472Z",
     "shell.execute_reply.started": "2024-08-22T15:23:32.595454Z"
    }
   },
   "outputs": [],
   "source": [
    "# for g in optimizer.param_groups:\n",
    "#     g['lr']=1e-4\n",
    "#     print(g)"
   ]
  },
  {
   "cell_type": "code",
   "execution_count": 45,
   "id": "6954a895-037f-4adb-b0f5-f69015b02d96",
   "metadata": {
    "execution": {
     "iopub.execute_input": "2024-08-22T15:23:33.619000Z",
     "iopub.status.busy": "2024-08-22T15:23:33.618329Z",
     "iopub.status.idle": "2024-08-22T15:23:33.662969Z",
     "shell.execute_reply": "2024-08-22T15:23:33.662266Z",
     "shell.execute_reply.started": "2024-08-22T15:23:33.618958Z"
    }
   },
   "outputs": [],
   "source": [
    "# https://scikit-learn.org/stable/modules/model_evaluation.html#regression-metrics:~:text=The%20r2_score%20function%20computes,score%20of%200.0."
   ]
  },
  {
   "cell_type": "code",
   "execution_count": 46,
   "id": "c0d40151-f0f5-49c3-b760-4a7821aa5bfe",
   "metadata": {
    "ExecuteTime": {
     "end_time": "2023-06-04T10:31:05.356460Z",
     "start_time": "2023-06-04T10:31:04.836269Z"
    },
    "execution": {
     "iopub.execute_input": "2024-08-22T15:23:40.556512Z",
     "iopub.status.busy": "2024-08-22T15:23:40.556089Z",
     "iopub.status.idle": "2024-08-22T15:23:40.598489Z",
     "shell.execute_reply": "2024-08-22T15:23:40.597736Z",
     "shell.execute_reply.started": "2024-08-22T15:23:40.556476Z"
    }
   },
   "outputs": [],
   "source": [
    "# put layers into eval mode (needed for batchnorm especially)\n",
    "# model.eval();\n",
    "# split_loss('train')\n",
    "# split_loss('val')\n",
    "# split_loss('test')\n",
    "# model.train();"
   ]
  },
  {
   "cell_type": "markdown",
   "id": "775a554b-8709-4041-a530-6c037b5dc549",
   "metadata": {},
   "source": [
    "**training using TPSA**\n",
    "\n",
    "     train data:        MSE loss:   125.6541    R2 Score: 0.88529     Pearson Coeff. 0.9419\n",
    "\n",
    "     val   data:        MSE loss:   290.9020    R2 Score: 0.67287     Pearson Coeff. 0.8236\n",
    "\n",
    "     test  data:        MSE loss:   384.7767    R2 Score: 0.67663     Pearson Coeff. 0.8230\n",
    "      \n",
    "      "
   ]
  },
  {
   "cell_type": "markdown",
   "id": "791cf011-7eb0-4425-a7aa-f84ac8330074",
   "metadata": {},
   "source": [
    "# Evaluation on Test dataset"
   ]
  },
  {
   "cell_type": "code",
   "execution_count": 55,
   "id": "1ec40c8e-d772-4ca9-802c-1158f930f432",
   "metadata": {
    "execution": {
     "iopub.execute_input": "2024-08-22T16:14:20.540745Z",
     "iopub.status.busy": "2024-08-22T16:14:20.540243Z",
     "iopub.status.idle": "2024-08-22T16:14:21.370419Z",
     "shell.execute_reply": "2024-08-22T16:14:21.369531Z",
     "shell.execute_reply.started": "2024-08-22T16:14:20.540706Z"
    }
   },
   "outputs": [
    {
     "name": "stdout",
     "output_type": "stream",
     "text": [
      " output :   0 - Labels:  600   y_true:(600, 1)   y_pred:(0, 1) \n",
      " output :   1 - Labels: 1200   y_true:(1200, 1)   y_pred:(0, 1) \n",
      " output :   2 - Labels: 1800   y_true:(1800, 1)   y_pred:(0, 1) \n",
      " output :   3 - Labels: 2400   y_true:(2400, 1)   y_pred:(0, 1) \n",
      " output :   4 - Labels: 3000   y_true:(3000, 1)   y_pred:(0, 1) \n",
      " output :   5 - Labels: 3600   y_true:(3600, 1)   y_pred:(0, 1) \n",
      " output :   6 - Labels: 4200   y_true:(4200, 1)   y_pred:(0, 1) \n",
      " output :   7 - Labels: 4800   y_true:(4800, 1)   y_pred:(0, 1) \n",
      " output :   8 - Labels: 5400   y_true:(5400, 1)   y_pred:(0, 1) \n",
      " output :   9 - Labels: 6000   y_true:(6000, 1)   y_pred:(0, 1) \n",
      " output :  10 - Labels: 6600   y_true:(6600, 1)   y_pred:(0, 1) \n",
      " output :  11 - Labels: 7200   y_true:(7200, 1)   y_pred:(0, 1) \n",
      " output :  12 - Labels: 7800   y_true:(7800, 1)   y_pred:(0, 1) \n",
      " output :  13 - Labels: 8400   y_true:(8400, 1)   y_pred:(0, 1) \n",
      " output :  14 - Labels: 9000   y_true:(9000, 1)   y_pred:(0, 1) \n",
      " output :  15 - Labels: 9600   y_true:(9600, 1)   y_pred:(0, 1) \n",
      " output :  16 - Labels:10200   y_true:(10200, 1)   y_pred:(0, 1) \n",
      " out.y_true     :  uint8  shape: (10200,) sum: 1269 - [1 1 1 0 0]\n",
      " out.y_logits   :  float64  shape: (10200,) - [-2.2452786  -2.32459855 -4.27682972  1.19990075 -3.38722253]\n",
      " out.y_prob     :  float64  shape: (10200,) - [0.09575751 0.0891061  0.01369642 0.76850712 0.03269719]\n",
      " out.y_pred     :  uint8  shape: (10200,) sum: 777 - [0 0 0 1 0]\n",
      " out.compounds  :  object    shape: (10200,)\n",
      " out.comp_labels:  int16   shape: (10200,) - [0 0 0 1 1 1 2 2 2 3 3 3 4 4 4 5 5 5 6 6 6 7 7 7 8]\n"
     ]
    }
   ],
   "source": [
    "mdl_outputs = run_model_on_test_data(model, data_loader['test'],  device = device, verbose = True)"
   ]
  },
  {
   "cell_type": "code",
   "execution_count": 48,
   "id": "deb3eb45-54df-43c7-b2b9-b8773cc2048a",
   "metadata": {
    "execution": {
     "iopub.execute_input": "2024-08-22T15:23:56.197416Z",
     "iopub.status.busy": "2024-08-22T15:23:56.196918Z",
     "iopub.status.idle": "2024-08-22T15:23:56.969111Z",
     "shell.execute_reply": "2024-08-22T15:23:56.968408Z",
     "shell.execute_reply.started": "2024-08-22T15:23:56.197375Z"
    }
   },
   "outputs": [],
   "source": [
    "mdl_outputs = run_model_on_test_data(model, data_loader['test'], device, verbose = False)"
   ]
  },
  {
   "cell_type": "code",
   "execution_count": 49,
   "id": "b44221f9-36fa-4109-9573-ee30817586bc",
   "metadata": {
    "execution": {
     "iopub.execute_input": "2024-08-22T15:23:58.136964Z",
     "iopub.status.busy": "2024-08-22T15:23:58.136462Z",
     "iopub.status.idle": "2024-08-22T15:23:58.181733Z",
     "shell.execute_reply": "2024-08-22T15:23:58.181058Z",
     "shell.execute_reply.started": "2024-08-22T15:23:58.136923Z"
    }
   },
   "outputs": [],
   "source": [
    "# mtrcs= compute_classification_metrics(mdl_outputs)\n",
    "#   def compute_classification_metrics(mo):\n",
    "# from torchmetrics.classification import BinaryF1Score\n",
    "# accuracy = skm.accuracy_score(mdl_outputs.y_true, mdl_outputs.y_pred)*100.0\n",
    "# roc_auc  = skm.roc_auc_score(mdl_outputs.y_true, mdl_outputs.y_prob)\n",
    "# precision, recall, f1, _ = skm.precision_recall_fscore_support(mdl_outputs.y_true, mdl_outputs.y_pred, average='binary', zero_division=0)\n",
    "# cls_report = skm.classification_report(mdl_outputs.y_true, mdl_outputs.y_pred)\n",
    "# print(f\" precision:   {mo.precision:.6f}   \\n recall   :   {mo.recall:.6f}    \\n f1       :   {mo.f1:.6f}\")\n",
    "# print(f\" roc_auc  :   {mo.roc_auc:.6f} \")\n",
    "# print(f\" accuracy :   {mo.accuracy:.2f} %\")\n",
    "# print(\"\\n Classification Report: \\n\")\n",
    "# print(mo.cls_report)\n",
    "# (mdl_outputs.labels == mdl_outputs.y_pred).sum()\n",
    "# np.bincount(mdl_outputs.y_pred.squeeze())\n",
    "# cm.test_accuracy = binary_accuracy(y_true=mdl_outputs.labels, y_prob=mdl_outputs.logits)\n",
    "# cm.test_f1 = binary_f1_score(y_true=mdl_outputs.labels, y_prob=mdl_outputs.logits)"
   ]
  },
  {
   "cell_type": "code",
   "execution_count": 31,
   "id": "e0fa30de-6211-4d35-8d1d-74fcb2fd9b06",
   "metadata": {
    "execution": {
     "iopub.execute_input": "2024-08-21T22:30:05.250713Z",
     "iopub.status.busy": "2024-08-21T22:30:05.250166Z",
     "iopub.status.idle": "2024-08-21T22:30:06.001293Z",
     "shell.execute_reply": "2024-08-21T22:30:06.000329Z",
     "shell.execute_reply.started": "2024-08-21T22:30:05.250671Z"
    }
   },
   "outputs": [
    {
     "name": "stdout",
     "output_type": "stream",
     "text": [
      " accuracy :   84.62 %\n",
      " roc_auc  :   0.561734 \n",
      " precision:   0.196356   \n",
      " recall   :   0.076438    \n",
      " f1       :   0.110040\n",
      "\n",
      " Classification Report: \n",
      "\n",
      "              precision    recall  f1-score   support\n",
      "\n",
      "           0       0.88      0.96      0.92      8931\n",
      "           1       0.20      0.08      0.11      1269\n",
      "\n",
      "    accuracy                           0.85     10200\n",
      "   macro avg       0.54      0.52      0.51     10200\n",
      "weighted avg       0.79      0.85      0.82     10200\n",
      "\n",
      "[9706  494]\n"
     ]
    },
    {
     "data": {
      "image/png": "[encoded data removed]",
      "text/plain": [
       "<Figure size 1600x500 with 4 Axes>"
      ]
     },
     "metadata": {},
     "output_type": "display_data"
    }
   ],
   "source": [
    "plot_cls_metrics(mdl_outputs.y_true, mdl_outputs.y_prob, mdl_outputs.y_pred, epochs = 100 )\n",
    "mo = compute_classification_metrics(mdl_outputs, True)"
   ]
  },
  {
   "cell_type": "code",
   "execution_count": 39,
   "id": "0e68c057-6d35-421c-96e7-a8d2f7a507de",
   "metadata": {
    "execution": {
     "iopub.execute_input": "2024-08-21T23:19:51.893631Z",
     "iopub.status.busy": "2024-08-21T23:19:51.893145Z",
     "iopub.status.idle": "2024-08-21T23:19:52.585391Z",
     "shell.execute_reply": "2024-08-21T23:19:52.584859Z",
     "shell.execute_reply.started": "2024-08-21T23:19:51.893590Z"
    }
   },
   "outputs": [
    {
     "name": "stdout",
     "output_type": "stream",
     "text": [
      " accuracy :   82.92 %\n",
      " roc_auc  :   0.555263 \n",
      " precision:   0.172891   \n",
      " recall   :   0.098503    \n",
      " f1       :   0.125502\n",
      "\n",
      " Classification Report: \n",
      "\n",
      "              precision    recall  f1-score   support\n",
      "\n",
      "           0       0.88      0.93      0.91      8931\n",
      "           1       0.17      0.10      0.13      1269\n",
      "\n",
      "    accuracy                           0.83     10200\n",
      "   macro avg       0.53      0.52      0.52     10200\n",
      "weighted avg       0.79      0.83      0.81     10200\n",
      "\n",
      "[9477  723]\n"
     ]
    },
    {
     "data": {
      "image/png": "[encoded data removed]",
      "text/plain": [
       "<Figure size 1600x500 with 4 Axes>"
      ]
     },
     "metadata": {},
     "output_type": "display_data"
    }
   ],
   "source": [
    "plot_cls_metrics(mdl_outputs.y_true, mdl_outputs.y_prob, mdl_outputs.y_pred, epochs = 200 )\n",
    "mo = compute_classification_metrics(mdl_outputs, True)"
   ]
  },
  {
   "cell_type": "code",
   "execution_count": 50,
   "id": "62df54c5-cdd4-4bae-8744-44bdbde37eaf",
   "metadata": {
    "execution": {
     "iopub.execute_input": "2024-08-22T15:24:32.193416Z",
     "iopub.status.busy": "2024-08-22T15:24:32.192912Z",
     "iopub.status.idle": "2024-08-22T15:24:32.940822Z",
     "shell.execute_reply": "2024-08-22T15:24:32.940253Z",
     "shell.execute_reply.started": "2024-08-22T15:24:32.193375Z"
    }
   },
   "outputs": [
    {
     "name": "stdout",
     "output_type": "stream",
     "text": [
      " accuracy :   82.83 %\n",
      " roc_auc  :   0.551280 \n",
      " precision:   0.166205   \n",
      " recall   :   0.094563    \n",
      " f1       :   0.120542\n",
      "\n",
      " Classification Report: \n",
      "\n",
      "              precision    recall  f1-score   support\n",
      "\n",
      "           0       0.88      0.93      0.90      8931\n",
      "           1       0.17      0.09      0.12      1269\n",
      "\n",
      "    accuracy                           0.83     10200\n",
      "   macro avg       0.52      0.51      0.51     10200\n",
      "weighted avg       0.79      0.83      0.81     10200\n",
      "\n",
      "[9478  722]\n"
     ]
    },
    {
     "data": {
      "image/png": "[encoded data removed]",
      "text/plain": [
       "<Figure size 1600x500 with 4 Axes>"
      ]
     },
     "metadata": {},
     "output_type": "display_data"
    }
   ],
   "source": [
    "plot_cls_metrics(mdl_outputs.y_true, mdl_outputs.y_prob, mdl_outputs.y_pred, epochs = 400 )\n",
    "mo = compute_classification_metrics(mdl_outputs, True)"
   ]
  },
  {
   "cell_type": "code",
   "execution_count": 56,
   "id": "d208bcbf-4fb4-4131-a54e-da3718d3fa57",
   "metadata": {
    "execution": {
     "iopub.execute_input": "2024-08-22T16:14:46.532230Z",
     "iopub.status.busy": "2024-08-22T16:14:46.531694Z",
     "iopub.status.idle": "2024-08-22T16:14:47.727337Z",
     "shell.execute_reply": "2024-08-22T16:14:47.726688Z",
     "shell.execute_reply.started": "2024-08-22T16:14:46.532188Z"
    }
   },
   "outputs": [
    {
     "name": "stdout",
     "output_type": "stream",
     "text": [
      " accuracy :   82.37 %\n",
      " roc_auc  :   0.551468 \n",
      " precision:   0.159588   \n",
      " recall   :   0.097715    \n",
      " f1       :   0.121212\n",
      "\n",
      " Classification Report: \n",
      "\n",
      "              precision    recall  f1-score   support\n",
      "\n",
      "           0       0.88      0.93      0.90      8931\n",
      "           1       0.16      0.10      0.12      1269\n",
      "\n",
      "    accuracy                           0.82     10200\n",
      "   macro avg       0.52      0.51      0.51     10200\n",
      "weighted avg       0.79      0.82      0.80     10200\n",
      "\n",
      "[9423  777]\n"
     ]
    },
    {
     "data": {
      "image/png": "[encoded data removed]",
      "text/plain": [
       "<Figure size 1600x500 with 4 Axes>"
      ]
     },
     "metadata": {},
     "output_type": "display_data"
    }
   ],
   "source": [
    "plot_cls_metrics(mdl_outputs.y_true, mdl_outputs.y_prob, mdl_outputs.y_pred, epochs = 400 )\n",
    "mo = compute_classification_metrics(mdl_outputs, True)"
   ]
  },
  {
   "cell_type": "code",
   "execution_count": null,
   "id": "5c292d0c-9f38-43b4-b443-bd20ba6bd6ff",
   "metadata": {},
   "outputs": [],
   "source": []
  },
  {
   "cell_type": "code",
   "execution_count": null,
   "id": "05a1a528-7f68-4ad4-87f6-da92082e8aa8",
   "metadata": {},
   "outputs": [],
   "source": [
    "\n"
   ]
  },
  {
   "cell_type": "markdown",
   "id": "ab03b7da-f9fe-44a4-a1ae-5cf876dd157e",
   "metadata": {
    "jp-MarkdownHeadingCollapsed": true
   },
   "source": [
    "### MinMax TPSA 128 x 64 , no BatchNorm "
   ]
  },
  {
   "cell_type": "markdown",
   "id": "cb47273c-d476-4496-b0d4-84e84eede8c3",
   "metadata": {},
   "source": [
    "**MinMax TPSA 128 x 64 , no BatchNorm**\n",
    "\n",
    "**50k iterations**\n",
    "\n",
    "     train data:        MSE loss:     0.0001    R2 Score: 0.79670     Pearson Coeff. 0.8926\n",
    "\n",
    "     val   data:        MSE loss:     0.0001    R2 Score: 0.68855     Pearson Coeff. 0.8333\n",
    "\n",
    "     test  data:        MSE loss:     0.0002    R2 Score: 0.66196     Pearson Coeff. 0.8145\n",
    "\n",
    "\n",
    "**100k iterations**\n",
    "\n",
    "     train data:        MSE loss:     0.0001    R2 Score: 0.88567     Pearson Coeff. 0.9418\n",
    "\n",
    "     val   data:        MSE loss:     0.0001    R2 Score: 0.70376     Pearson Coeff. 0.8402\n",
    "\n",
    "     test  data:        MSE loss:     0.0002    R2 Score: 0.70878     Pearson Coeff. 0.8433\n",
    "      \n",
    "      \n",
    "**150k iterations**\n",
    "\n",
    "     train data:        MSE loss:     0.0001    R2 Score: 0.88960     Pearson Coeff. 0.9438\n",
    "\n",
    "     val   data:        MSE loss:     0.0001    R2 Score: 0.70221     Pearson Coeff. 0.8394\n",
    "\n",
    "     test  data:        MSE loss:     0.0002    R2 Score: 0.70636     Pearson Coeff. 0.8420\n",
    "      \n",
    "      \n",
    "**200k iterations**\n",
    "\n",
    "    train data:        MSE loss:     0.0001    R2 Score: 0.89114     Pearson Coeff. 0.9441\n",
    "\n",
    "     val   data:       MSE loss:     0.0001    R2 Score: 0.70325     Pearson Coeff. 0.8394\n",
    "\n",
    "     test  data:       MSE loss:     0.0002    R2 Score: 0.70603     Pearson Coeff. 0.8416\n",
    "      \n",
    "\n",
    "**250k iterations**      \n",
    "      \n",
    "     train data:        MSE loss:     0.0001    R2 Score: 0.89125     Pearson Coeff. 0.9440\n",
    "\n",
    "     val   data:        MSE loss:     0.0001    R2 Score: 0.70360     Pearson Coeff. 0.8398\n",
    "\n",
    "     test  data:        MSE loss:     0.0002    R2 Score: 0.70624     Pearson Coeff. 0.8417  \n",
    "      "
   ]
  },
  {
   "cell_type": "markdown",
   "id": "048447db-eabc-4ea7-ae6f-bc97f955dc41",
   "metadata": {},
   "source": [
    "### MinMax TPSA 128 x 64 , With BatchNorm "
   ]
  },
  {
   "cell_type": "markdown",
   "id": "df18f990-ec59-4a4d-b7b6-d5ba5cc07a73",
   "metadata": {},
   "source": [
    "**MinMax TPSA 128 x 64 , with BatchNorm**\n",
    "\n",
    "**50k iterations**\n",
    "\n",
    "     train data:    MSE loss:     0.0001    R2 Score: 0.80766     Pearson Coeff. 0.8994\n",
    "\n",
    "     val   data:    MSE loss:     0.0001    R2 Score: 0.66401     Pearson Coeff. 0.8181\n",
    "\n",
    "     test  data:    MSE loss:     0.0002    R2 Score: 0.68471     Pearson Coeff. 0.8312\n",
    "\n",
    "\n",
    "**100k iterations**\n",
    "\n",
    "\n",
    "     train data:    MSE loss:     0.0001    R2 Score: 0.85963     Pearson Coeff. 0.9295\n",
    "\n",
    "     val   data:    MSE loss:     0.0001    R2 Score: 0.68456     Pearson Coeff. 0.8308\n",
    "\n",
    "     test  data:    MSE loss:     0.0002    R2 Score: 0.69034     Pearson Coeff. 0.8358      \n",
    "      \n",
    "      \n",
    "**150k iterations**\n",
    "\n",
    "\n",
    "     train data:    MSE loss:     0.0001    R2 Score: 0.87261     Pearson Coeff. 0.9345\n",
    "\n",
    "     val   data:    MSE loss:     0.0001    R2 Score: 0.69643     Pearson Coeff. 0.8354\n",
    "\n",
    "     test  data:    MSE loss:     0.0002    R2 Score: 0.69435     Pearson Coeff. 0.8362\n",
    "\n",
    "      \n",
    "**200k iterations**\n",
    "\n",
    "\n",
    "     train data:    MSE loss:     0.0001    R2 Score: 0.87318     Pearson Coeff. 0.9345\n",
    "\n",
    "     val   data:    MSE loss:     0.0001    R2 Score: 0.69366     Pearson Coeff. 0.8337\n",
    "\n",
    "     test  data:    MSE loss:     0.0002    R2 Score: 0.69301     Pearson Coeff. 0.8363      \n",
    "     \n",
    "\n",
    "**250k iterations**      \n",
    "      \n",
    "     train data:    MSE loss:     0.0001    R2 Score: 0.87323     Pearson Coeff. 0.9346\n",
    "\n",
    "     val   data:    MSE loss:     0.0001    R2 Score: 0.69520     Pearson Coeff. 0.8343\n",
    "\n",
    "     test  data:    MSE loss:     0.0002    R2 Score: 0.69483     Pearson Coeff. 0.8368\n",
    "      "
   ]
  },
  {
   "cell_type": "code",
   "execution_count": null,
   "id": "cf69e828-09d0-4ffa-95a5-a9fedf72ea42",
   "metadata": {
    "ExecuteTime": {
     "end_time": "2023-05-29T13:08:43.483858Z",
     "start_time": "2023-05-29T13:08:43.470308Z"
    }
   },
   "outputs": [],
   "source": [
    "from sklearn.metrics import get_scorer_names\n",
    "for i in get_scorer_names() :\n",
    "    if \"error\" in i:\n",
    "        print(i)"
   ]
  },
  {
   "cell_type": "markdown",
   "id": "d75622ea-9d55-42a5-afbd-b7453166bce0",
   "metadata": {},
   "source": [
    "# Modify TPSA Threshold"
   ]
  },
  {
   "cell_type": "code",
   "execution_count": 269,
   "id": "9ca4e52f-46c9-4506-8b0d-239f045f04ac",
   "metadata": {
    "execution": {
     "iopub.execute_input": "2024-08-02T19:43:18.952547Z",
     "iopub.status.busy": "2024-08-02T19:43:18.952152Z",
     "iopub.status.idle": "2024-08-02T19:43:18.990375Z",
     "shell.execute_reply": "2024-08-02T19:43:18.989668Z",
     "shell.execute_reply.started": "2024-08-02T19:43:18.952516Z"
    }
   },
   "outputs": [
    {
     "data": {
      "text/plain": [
       "104000.0"
      ]
     },
     "execution_count": 269,
     "metadata": {},
     "output_type": "execute_result"
    }
   ],
   "source": [
    "\n",
    "train_y_72 = np.zeros_like(train_y)\n",
    "train_y_72.shape[0]/3"
   ]
  },
  {
   "cell_type": "code",
   "execution_count": 42,
   "id": "e11392e3-cbea-49a8-9a0b-2030c1a0aee1",
   "metadata": {
    "editable": true,
    "execution": {
     "iopub.execute_input": "2024-01-24T12:31:19.584307Z",
     "iopub.status.busy": "2024-01-24T12:31:19.583896Z",
     "iopub.status.idle": "2024-01-24T12:31:19.647754Z",
     "shell.execute_reply": "2024-01-24T12:31:19.646662Z",
     "shell.execute_reply.started": "2024-01-24T12:31:19.584277Z"
    },
    "slideshow": {
     "slide_type": ""
    },
    "tags": []
   },
   "outputs": [
    {
     "name": "stdout",
     "output_type": "stream",
     "text": [
      "                  min           max           std          mean           median\n",
      "TPSA             3.2400000  2834.6700000    32.8859880    73.6213196    71.3600000\n",
      "lnTPSA           1.1755733     7.9496808     0.3917724     4.2261118     4.2677375\n",
      "log10TPSA        0.5105450     3.4525025     0.1701446     1.8353770     1.8534548\n"
     ]
    },
    {
     "data": {
      "text/plain": [
       "116691"
      ]
     },
     "execution_count": 42,
     "metadata": {},
     "output_type": "execute_result"
    },
    {
     "data": {
      "text/plain": [
       "0.12232305833354758"
      ]
     },
     "execution_count": 42,
     "metadata": {},
     "output_type": "execute_result"
    },
    {
     "data": {
      "text/plain": [
       "0.8776769416664524"
      ]
     },
     "execution_count": 42,
     "metadata": {},
     "output_type": "execute_result"
    }
   ],
   "source": [
    "print(f\"                  min           max           std          mean           median\")\n",
    "for x in ['TPSA', 'lnTPSA', 'log10TPSA']:\n",
    "    print(f\"{x:12s} {df_train[x].min():13.7f} {df_train[x].max():13.7f} {df_train[x].std():13.7f} {df_train[x].mean():13.7f} {df_train[x].median():13.7f}\") \n",
    "\n",
    "df_train.TPSA.count()\n",
    "df_train[df_train.TPSA >= THRESHOLD].TPSA.count()/df_train.TPSA.count()\n",
    "df_train[df_train.TPSA < THRESHOLD].TPSA.count()/df_train.TPSA.count()\n"
   ]
  },
  {
   "cell_type": "code",
   "execution_count": 203,
   "id": "d5f5bab9-6b23-4078-a398-dccbea38ae78",
   "metadata": {
    "execution": {
     "iopub.execute_input": "2024-08-02T18:25:44.400889Z",
     "iopub.status.busy": "2024-08-02T18:25:44.400409Z",
     "iopub.status.idle": "2024-08-02T18:25:44.451332Z",
     "shell.execute_reply": "2024-08-02T18:25:44.450555Z",
     "shell.execute_reply.started": "2024-08-02T18:25:44.400850Z"
    }
   },
   "outputs": [
    {
     "data": {
      "text/plain": [
       "(274836, 37164)"
      ]
     },
     "execution_count": 203,
     "metadata": {},
     "output_type": "execute_result"
    }
   ],
   "source": [
    "_tmp = df_train.Metadata_Permiation.value_counts()\n",
    "_tmp[0], _tmp[1]"
   ]
  },
  {
   "cell_type": "code",
   "execution_count": 264,
   "id": "d59dcba1-6add-4446-aa27-a30564f42e54",
   "metadata": {
    "editable": true,
    "execution": {
     "iopub.execute_input": "2024-08-02T19:17:47.830206Z",
     "iopub.status.busy": "2024-08-02T19:17:47.829809Z",
     "iopub.status.idle": "2024-08-02T19:17:47.877739Z",
     "shell.execute_reply": "2024-08-02T19:17:47.877049Z",
     "shell.execute_reply.started": "2024-08-02T19:17:47.830173Z"
    },
    "slideshow": {
     "slide_type": ""
    },
    "tags": []
   },
   "outputs": [
    {
     "name": "stdout",
     "output_type": "stream",
     "text": [
      "\n",
      " TPSA threshold 68 \n",
      " Total samples: 312000\n",
      " Label 0:  138900      % 44.52 \n",
      " Label 1:  173100      % 55.48 \n",
      "\n",
      " TPSA threshold 69 \n",
      " Total samples: 312000\n",
      " Label 0:  144249      % 46.23 \n",
      " Label 1:  167751      % 53.77 \n",
      "\n",
      " TPSA threshold 70 \n",
      " Total samples: 312000\n",
      " Label 0:  149058      % 47.77 \n",
      " Label 1:  162942      % 52.23 \n",
      "\n",
      " TPSA threshold 71 \n",
      " Total samples: 312000\n",
      " Label 0:  154125      % 49.40 \n",
      " Label 1:  157875      % 50.60 \n",
      "\n",
      " TPSA threshold 72 \n",
      " Total samples: 312000\n",
      " Label 0:  160203      % 51.35 \n",
      " Label 1:  151797      % 48.65 \n",
      "\n",
      " TPSA threshold 100 \n",
      " Total samples: 312000\n",
      " Label 0:  274836      % 88.09 \n",
      " Label 1:   37164      % 11.91 \n"
     ]
    }
   ],
   "source": [
    "for threshold in [68, 69, 70, 71, 72, 100]:\n",
    "    _tmp = (df_train['Metadata_TPSA'] >= threshold).value_counts()\n",
    "    print(f\"\\n TPSA threshold {threshold} \\n Total samples: {_tmp.sum()}\")\n",
    "    print(f\" Label 0: {_tmp[False]:>7d}      % {_tmp[False]*100/_tmp.sum():2.2f} \")\n",
    "    print(f\" Label 1: {_tmp[True]:>7d}      % {_tmp[True]*100/_tmp.sum():2.2f} \")"
   ]
  },
  {
   "cell_type": "code",
   "execution_count": 265,
   "id": "65d1d01b-3946-4668-9c10-5fb3f2b3bd64",
   "metadata": {
    "execution": {
     "iopub.execute_input": "2024-08-02T19:18:15.207992Z",
     "iopub.status.busy": "2024-08-02T19:18:15.207573Z",
     "iopub.status.idle": "2024-08-02T19:18:15.241831Z",
     "shell.execute_reply": "2024-08-02T19:18:15.241195Z",
     "shell.execute_reply.started": "2024-08-02T19:18:15.207957Z"
    }
   },
   "outputs": [],
   "source": [
    "# fig, ax = plt.subplots(figsize=(4,4))\n",
    "# fig.canvas.draw()  # Need to draw the figure to define renderer\n",
    "# ax.set_title(\"AngleLabel example\")\n",
    "# # Plot two crossing lines and label each angle between them with the above\n",
    "# center = (4.5, 650)\n",
    "# p1 = [(2.5, 710), (6.0, 605)]\n",
    "# p2 = [(3.0, 275), (5.5, 900)]\n",
    "# line1, = ax.plot(*zip(*p1))\n",
    "# line2, = ax.plot(*zip(*p2))\n",
    "# point, = ax.plot(*center, marker=\"o\")\n"
   ]
  },
  {
   "cell_type": "code",
   "execution_count": 259,
   "id": "9f19bd08-45c1-4d41-9d02-a5b59d30c53c",
   "metadata": {
    "ExecuteTime": {
     "end_time": "2023-06-28T19:37:34.108730Z",
     "start_time": "2023-06-28T19:37:34.072553Z"
    },
    "editable": true,
    "execution": {
     "iopub.execute_input": "2024-08-02T19:10:23.741139Z",
     "iopub.status.busy": "2024-08-02T19:10:23.740867Z",
     "iopub.status.idle": "2024-08-02T19:10:24.222816Z",
     "shell.execute_reply": "2024-08-02T19:10:24.222024Z",
     "shell.execute_reply.started": "2024-08-02T19:10:23.741118Z"
    },
    "slideshow": {
     "slide_type": ""
    },
    "tags": []
   },
   "outputs": [
    {
     "data": {
      "text/plain": [
       "<matplotlib.legend.Legend at 0x7fb5da6ead90>"
      ]
     },
     "execution_count": 259,
     "metadata": {},
     "output_type": "execute_result"
    },
    {
     "data": {
      "image/png": "[encoded data removed]",
      "text/plain": [
       "<Figure size 1000x500 with 1 Axes>"
      ]
     },
     "metadata": {},
     "output_type": "display_data"
    }
   ],
   "source": [
    "from matplotlib import colors\n",
    "from matplotlib.ticker import PercentFormatter\n",
    "num_bins = 200\n",
    "# fig, ax = plt.subplots()\n",
    "fig = plt.figure(figsize=(10,5))\n",
    "sigma = df_train.Metadata_TPSA.std()\n",
    "mu = df_train.Metadata_TPSA.mean()\n",
    "med = df_train.Metadata_TPSA.median()\n",
    "# the histogram of the data\n",
    "# We can set the number of bins with the *bins* keyword argument.\n",
    "n, bins, patches = plt.hist(df_train.Metadata_TPSA, num_bins, density=False, range=[0, 500],)\n",
    "# p1 = [(med, 710), (6.0, 605)]\n",
    "# _ = plt.vlines(x=med, ymin=10, ymax=17000, colors='red', linestyles='-', lw=1.75, label='Single Short Line')\n",
    "_ = plt.axvline(x=med, ymin=0, ymax=.97, color='red', linestyle='-', lw=1.75, label='Single Short Line')\n",
    "_ = plt.xlabel('TPSA Value');\n",
    "_ = plt.ylabel('# Compounds');\n",
    "_ = plt.title(fr'TPSA distribution -  $\\mu={mu:.3f}$    $\\sigma={sigma:.3f}$')\n",
    "plt.legend(bbox_to_anchor=(1.04,0.5), loc=\"center left\", borderaxespad=0)\n",
    "# axs[1].hist(dist2, bins=n_bins)\n",
    "plt.show()"
   ]
  },
  {
   "cell_type": "markdown",
   "id": "e58c33d9-a56a-4175-9936-b16efed13334",
   "metadata": {
    "editable": true,
    "jp-MarkdownHeadingCollapsed": true,
    "slideshow": {
     "slide_type": ""
    },
    "tags": []
   },
   "source": [
    "# Stratified CV data splits"
   ]
  },
  {
   "cell_type": "code",
   "execution_count": 260,
   "id": "36185b9f-f76e-4556-a736-7a97ac07659f",
   "metadata": {
    "execution": {
     "iopub.execute_input": "2024-08-02T19:12:20.623736Z",
     "iopub.status.busy": "2024-08-02T19:12:20.623234Z",
     "iopub.status.idle": "2024-08-02T19:12:20.661974Z",
     "shell.execute_reply": "2024-08-02T19:12:20.661237Z",
     "shell.execute_reply.started": "2024-08-02T19:12:20.623693Z"
    }
   },
   "outputs": [],
   "source": [
    "def visualize_groups(classes, groups, name):\n",
    "    # Visualize dataset groups\n",
    "    fig, ax = plt.subplots(figsize=(10,5))\n",
    "    ax.scatter(\n",
    "        range(len(groups)),\n",
    "        [0.5] * len(groups),\n",
    "        c=groups,\n",
    "        marker=\"_\",\n",
    "        lw=50,\n",
    "        cmap=cmap_data,\n",
    "    )\n",
    "    ax.scatter(\n",
    "        range(len(groups)),\n",
    "        [3.5] * len(groups),\n",
    "        c=classes,\n",
    "        marker=\"_\",\n",
    "        lw=50,\n",
    "        cmap=cmap_data,\n",
    "    )\n",
    "    ax.set(\n",
    "        ylim=[-1, 5],\n",
    "        yticks=[0.5, 3.5],\n",
    "        yticklabels=[\"Data\\ngroup\", \"Data\\nclass\"],\n",
    "        xlabel=\"Sample index\",\n",
    "    )"
   ]
  },
  {
   "cell_type": "code",
   "execution_count": 261,
   "id": "f532d16b-50f2-486d-a2b8-22e960f6007a",
   "metadata": {
    "execution": {
     "iopub.execute_input": "2024-08-02T19:12:20.975622Z",
     "iopub.status.busy": "2024-08-02T19:12:20.975197Z",
     "iopub.status.idle": "2024-08-02T19:12:21.013984Z",
     "shell.execute_reply": "2024-08-02T19:12:21.013243Z",
     "shell.execute_reply.started": "2024-08-02T19:12:20.975584Z"
    }
   },
   "outputs": [],
   "source": [
    "def plot_cv_indices(cv, X, y, group, ax, n_splits, lw=10):\n",
    "    \"\"\"Create a sample plot for indices of a cross-validation object.\"\"\"\n",
    "    use_groups = \"Group\" in type(cv).__name__\n",
    "    groups = group if use_groups else None\n",
    "    # Generate the training/testing visualizations for each CV split\n",
    "    for ii, (tr, tt) in enumerate(cv.split(X=X, y=y, groups=groups)):\n",
    "        # Fill in indices with the training/test groups\n",
    "        indices = np.array([np.nan] * len(X))\n",
    "        indices[tt] = 1\n",
    "        indices[tr] = 0\n",
    "\n",
    "        # Visualize the results\n",
    "        ax.scatter(\n",
    "            range(len(indices)),\n",
    "            [ii + 0.5] * len(indices),\n",
    "            c=indices,\n",
    "            marker=\"_\",\n",
    "            lw=lw,\n",
    "            cmap=cmap_cv,\n",
    "            vmin=-0.2,\n",
    "            vmax=1.2,\n",
    "        )\n",
    "\n",
    "    # Plot the data classes and groups at the end\n",
    "    ax.scatter(\n",
    "        range(len(X)), [ii + 1.5] * len(X), c=y, marker=\"_\", lw=lw, cmap=cmap_data\n",
    "    )\n",
    "\n",
    "    ax.scatter(\n",
    "        range(len(X)), [ii + 2.5] * len(X), c=group, marker=\"_\", lw=lw, cmap=cmap_data\n",
    "    )\n",
    "\n",
    "    # Formatting\n",
    "    yticklabels = list(range(n_splits)) + [\"class\", \"group\"]\n",
    "    ax.set(\n",
    "        yticks=np.arange(n_splits + 2) + 0.5,\n",
    "        yticklabels=yticklabels,\n",
    "        xlabel=\"Sample index\",\n",
    "        ylabel=\"CV iteration\",\n",
    "        ylim=[n_splits + 2.2, -0.2],\n",
    "        xlim=[0, 100],\n",
    "    )\n",
    "    ax.set_title(\"{}\".format(type(cv).__name__), fontsize=15)\n",
    "    return ax"
   ]
  },
  {
   "cell_type": "code",
   "execution_count": null,
   "id": "d6f3f078-8b33-4acc-b639-6daac6d9d519",
   "metadata": {
    "execution": {
     "iopub.execute_input": "2024-08-01T20:37:00.702630Z",
     "iopub.status.busy": "2024-08-01T20:37:00.702069Z",
     "iopub.status.idle": "2024-08-01T20:37:00.746490Z",
     "shell.execute_reply": "2024-08-01T20:37:00.745822Z",
     "shell.execute_reply.started": "2024-08-01T20:37:00.702589Z"
    }
   },
   "outputs": [],
   "source": [
    "import matplotlib.pyplot as plt\n",
    "import numpy as np\n",
    "from matplotlib.patches import Patch\n"
   ]
  },
  {
   "cell_type": "code",
   "execution_count": null,
   "id": "f1165a3b-5756-443f-ad46-bf316c34929e",
   "metadata": {
    "execution": {
     "iopub.execute_input": "2024-08-01T20:37:00.702630Z",
     "iopub.status.busy": "2024-08-01T20:37:00.702069Z",
     "iopub.status.idle": "2024-08-01T20:37:00.746490Z",
     "shell.execute_reply": "2024-08-01T20:37:00.745822Z",
     "shell.execute_reply.started": "2024-08-01T20:37:00.702589Z"
    }
   },
   "outputs": [],
   "source": [
    "rng = np.random.RandomState(1338)\n",
    "cmap_data = plt.cm.Paired\n",
    "cmap_cv = plt.cm.coolwarm\n",
    "n_splits = 4\n",
    "\n",
    "# Generate the class/group data\n",
    "# n_points = 100\n",
    "# X = rng.randn(100, 10)\n",
    "\n",
    "# percentiles_classes = [0.1, 0.3, 0.6]\n",
    "# y = np.hstack([[ii] * int(100 * perc) for ii, perc in enumerate(percentiles_classes)])"
   ]
  },
  {
   "cell_type": "code",
   "execution_count": null,
   "id": "94dd8391-cbf3-4468-9aa2-d311c7f83bd2",
   "metadata": {
    "execution": {
     "iopub.execute_input": "2024-08-01T20:37:00.702630Z",
     "iopub.status.busy": "2024-08-01T20:37:00.702069Z",
     "iopub.status.idle": "2024-08-01T20:37:00.746490Z",
     "shell.execute_reply": "2024-08-01T20:37:00.745822Z",
     "shell.execute_reply.started": "2024-08-01T20:37:00.702589Z"
    }
   },
   "outputs": [],
   "source": [
    "# Generate uneven groups\n",
    "\n",
    "# group_prior = rng.dirichlet([2] * 10)\n",
    "# group_prior.sum()\n",
    "# group_prior\n",
    "\n",
    "# groups = np.repeat(np.arange(10), rng.multinomial(100, group_prior))\n",
    "# groups.shape\n",
    "# groups"
   ]
  },
  {
   "cell_type": "code",
   "execution_count": null,
   "id": "0be667cf-b73b-49d9-8f93-028feb33dc07",
   "metadata": {
    "execution": {
     "iopub.execute_input": "2024-08-01T20:37:00.702630Z",
     "iopub.status.busy": "2024-08-01T20:37:00.702069Z",
     "iopub.status.idle": "2024-08-01T20:37:00.746490Z",
     "shell.execute_reply": "2024-08-01T20:37:00.745822Z",
     "shell.execute_reply.started": "2024-08-01T20:37:00.702589Z"
    }
   },
   "outputs": [],
   "source": [
    "groups = np.repeat(0, train_X.shape[0])\n",
    "groups.shape"
   ]
  },
  {
   "cell_type": "code",
   "execution_count": 84,
   "id": "a3cc3e15-7328-43d7-87b0-e662e89f8995",
   "metadata": {
    "execution": {
     "iopub.execute_input": "2024-08-01T20:39:00.214016Z",
     "iopub.status.busy": "2024-08-01T20:39:00.213534Z",
     "iopub.status.idle": "2024-08-01T20:39:17.703513Z",
     "shell.execute_reply": "2024-08-01T20:39:17.702174Z",
     "shell.execute_reply.started": "2024-08-01T20:39:00.213981Z"
    }
   },
   "outputs": [
    {
     "data": {
      "image/png": "[encoded data removed]",
      "text/plain": [
       "<Figure size 1000x500 with 1 Axes>"
      ]
     },
     "metadata": {},
     "output_type": "display_data"
    }
   ],
   "source": [
    "visualize_groups(train_y, groups, \"no groups\")"
   ]
  },
  {
   "cell_type": "code",
   "execution_count": 88,
   "id": "f27b44ef-5b62-4008-8e90-fcd97dca2186",
   "metadata": {
    "execution": {
     "iopub.execute_input": "2024-08-01T20:42:20.513960Z",
     "iopub.status.busy": "2024-08-01T20:42:20.513311Z",
     "iopub.status.idle": "2024-08-01T20:42:20.563347Z",
     "shell.execute_reply": "2024-08-01T20:42:20.562557Z",
     "shell.execute_reply.started": "2024-08-01T20:42:20.513913Z"
    }
   },
   "outputs": [],
   "source": [
    "n_splits = 5\n",
    "groups = None"
   ]
  },
  {
   "cell_type": "code",
   "execution_count": 89,
   "id": "0cc5f1e4-9fbf-4c51-a82a-ee2c870850aa",
   "metadata": {
    "execution": {
     "iopub.execute_input": "2024-08-01T20:42:22.118077Z",
     "iopub.status.busy": "2024-08-01T20:42:22.117570Z",
     "iopub.status.idle": "2024-08-01T20:42:40.626608Z",
     "shell.execute_reply": "2024-08-01T20:42:40.625579Z",
     "shell.execute_reply.started": "2024-08-01T20:42:22.118037Z"
    }
   },
   "outputs": [
    {
     "name": "stderr",
     "output_type": "stream",
     "text": [
      "/tmp/ipykernel_4107164/1298143750.py:29: UserWarning: No data for colormapping provided via 'c'. Parameters 'cmap' will be ignored\n",
      "  ax.scatter(\n"
     ]
    },
    {
     "data": {
      "text/plain": [
       "<Axes: title={'center': 'KFold'}, xlabel='Sample index', ylabel='CV iteration'>"
      ]
     },
     "execution_count": 89,
     "metadata": {},
     "output_type": "execute_result"
    },
    {
     "data": {
      "image/png": "[encoded data removed]",
      "text/plain": [
       "<Figure size 640x480 with 1 Axes>"
      ]
     },
     "metadata": {},
     "output_type": "display_data"
    }
   ],
   "source": [
    "fig, ax = plt.subplots()\n",
    "cv = KFold(n_splits)\n",
    "plot_cv_indices(cv, train_X, train_y, groups, ax, n_splits)"
   ]
  },
  {
   "cell_type": "markdown",
   "id": "d2e1cd39-be31-4f80-b0b3-a064ddf5b59d",
   "metadata": {},
   "source": [
    "# Input "
   ]
  },
  {
   "cell_type": "markdown",
   "id": "987503fe-4de3-4967-a228-9e5b7a6d30b8",
   "metadata": {},
   "source": [
    "## Read Embedded Features CSV file"
   ]
  },
  {
   "cell_type": "code",
   "execution_count": 11,
   "id": "ab7b33d4-10b8-44a2-a97b-3fb5e124812e",
   "metadata": {
    "editable": true,
    "execution": {
     "iopub.execute_input": "2024-08-13T19:23:56.610748Z",
     "iopub.status.busy": "2024-08-13T19:23:56.610221Z",
     "iopub.status.idle": "2024-08-13T19:23:56.657393Z",
     "shell.execute_reply": "2024-08-13T19:23:56.656724Z",
     "shell.execute_reply.started": "2024-08-13T19:23:56.610706Z"
    },
    "slideshow": {
     "slide_type": ""
    },
    "tags": []
   },
   "outputs": [
    {
     "data": {
      "text/plain": [
       "'/home/kevin/WSL-shared/cellpainting/cj-datasets/output_11102023/3_sample_embeddings/3sample_profiles_embedding_161_HashOrder_BASELINE_20240718_1956_BEST_train.csv'"
      ]
     },
     "execution_count": 11,
     "metadata": {},
     "output_type": "execute_result"
    },
    {
     "data": {
      "text/plain": [
       "'/home/kevin/WSL-shared/cellpainting/cj-datasets/output_11102023/3_sample_embeddings/3sample_profiles_embedding_161_HashOrder_BASELINE_20240718_1956_BEST_test.csv'"
      ]
     },
     "execution_count": 11,
     "metadata": {},
     "output_type": "execute_result"
    },
    {
     "data": {
      "text/plain": [
       "'/home/kevin/WSL-shared/cellpainting/cj-datasets/output_11102023/3_sample_embeddings/3sample_profiles_embedding_161_HashOrder_SNNL_20240718_1956_BEST_train.csv'"
      ]
     },
     "execution_count": 11,
     "metadata": {},
     "output_type": "execute_result"
    },
    {
     "data": {
      "text/plain": [
       "'/home/kevin/WSL-shared/cellpainting/cj-datasets/output_11102023/3_sample_embeddings/3sample_profiles_embedding_161_HashOrder_SNNL_20240718_1956_BEST_test.csv'"
      ]
     },
     "execution_count": 11,
     "metadata": {},
     "output_type": "execute_result"
    }
   ],
   "source": [
    "BASE_TRAIN_INPUT = os.path.join(OUTPUT_PATH, INPUT_FILE.format(runmode = BASE_runmode ,datatype='train'))\n",
    "BASE_TEST_INPUT  = os.path.join(OUTPUT_PATH, INPUT_FILE.format(runmode = BASE_runmode ,datatype='test'))\n",
    "SNNL_TRAIN_INPUT = os.path.join(OUTPUT_PATH, INPUT_FILE.format(runmode = SNNL_runmode ,datatype='train'))\n",
    "SNNL_TEST_INPUT  = os.path.join(OUTPUT_PATH, INPUT_FILE.format(runmode = SNNL_runmode ,datatype='test'))\n",
    "BASE_TRAIN_INPUT\n",
    "BASE_TEST_INPUT \n",
    "SNNL_TRAIN_INPUT\n",
    "SNNL_TEST_INPUT "
   ]
  },
  {
   "cell_type": "code",
   "execution_count": 12,
   "id": "8dff17ab-dd6a-49fe-8733-8f3448537618",
   "metadata": {
    "execution": {
     "iopub.execute_input": "2024-08-13T19:24:01.706752Z",
     "iopub.status.busy": "2024-08-13T19:24:01.706221Z",
     "iopub.status.idle": "2024-08-13T19:24:12.945184Z",
     "shell.execute_reply": "2024-08-13T19:24:12.944270Z",
     "shell.execute_reply.started": "2024-08-13T19:24:01.706709Z"
    }
   },
   "outputs": [],
   "source": [
    "df_test = pd.read_csv(SNNL_TEST_INPUT )\n",
    "df_train = pd.read_csv(SNNL_TRAIN_INPUT)\n",
    "\n",
    "# df_train = pd.read_csv(BASE_TRAIN_INPUT)\n",
    "# df_test = pd.read_csv(BASE_TEST_INPUT )\n",
    "# df_train = pd.read_csv(TRAIN_INPUT, nrows = 100 )\n",
    "# df_train = pd.read_csv(TRAIN_INPUT, usecols = ['Metadata_Batch'])"
   ]
  },
  {
   "cell_type": "code",
   "execution_count": 13,
   "id": "9e7a273e-36aa-4b1b-8a49-3c911fe62659",
   "metadata": {
    "execution": {
     "iopub.execute_input": "2024-08-13T19:24:12.947133Z",
     "iopub.status.busy": "2024-08-13T19:24:12.946871Z",
     "iopub.status.idle": "2024-08-13T19:24:13.021391Z",
     "shell.execute_reply": "2024-08-13T19:24:13.020841Z",
     "shell.execute_reply.started": "2024-08-13T19:24:12.947111Z"
    }
   },
   "outputs": [
    {
     "name": "stdout",
     "output_type": "stream",
     "text": [
      "<class 'pandas.core.frame.DataFrame'>\n",
      "RangeIndex: 34542 entries, 0 to 34541\n",
      "Columns: 161 entries, Metadata_Source to Feature_149\n",
      "dtypes: float64(154), int64(2), object(5)\n",
      "memory usage: 42.4+ MB\n"
     ]
    },
    {
     "data": {
      "text/plain": [
       "(34542, 161)"
      ]
     },
     "execution_count": 13,
     "metadata": {},
     "output_type": "execute_result"
    },
    {
     "data": {
      "text/plain": [
       "Index(['Metadata_Source', 'Metadata_Batch', 'Metadata_Plate', 'Metadata_Well', 'Metadata_JCP2022', 'Metadata_Hash', 'Metadata_Bin',\n",
       "       'Metadata_TPSA', 'Metadata_lnTPSA', 'Metadata_log10TPSA',\n",
       "       ...\n",
       "       'Feature_140', 'Feature_141', 'Feature_142', 'Feature_143', 'Feature_144', 'Feature_145', 'Feature_146', 'Feature_147',\n",
       "       'Feature_148', 'Feature_149'],\n",
       "      dtype='object', length=161)"
      ]
     },
     "execution_count": 13,
     "metadata": {},
     "output_type": "execute_result"
    },
    {
     "data": {
      "text/html": [
       "<div>\n",
       "<style scoped>\n",
       "    .dataframe tbody tr th:only-of-type {\n",
       "        vertical-align: middle;\n",
       "    }\n",
       "\n",
       "    .dataframe tbody tr th {\n",
       "        vertical-align: top;\n",
       "    }\n",
       "\n",
       "    .dataframe thead th {\n",
       "        text-align: right;\n",
       "    }\n",
       "</style>\n",
       "<table border=\"1\" class=\"dataframe\">\n",
       "  <thead>\n",
       "    <tr style=\"text-align: right;\">\n",
       "      <th></th>\n",
       "      <th>Metadata_Source</th>\n",
       "      <th>Metadata_Batch</th>\n",
       "      <th>Metadata_Plate</th>\n",
       "      <th>Metadata_Well</th>\n",
       "      <th>Metadata_JCP2022</th>\n",
       "      <th>Metadata_Hash</th>\n",
       "      <th>Metadata_Bin</th>\n",
       "      <th>Metadata_TPSA</th>\n",
       "      <th>Metadata_lnTPSA</th>\n",
       "      <th>Metadata_log10TPSA</th>\n",
       "      <th>Metadata_Permiation</th>\n",
       "      <th>Feature_000</th>\n",
       "      <th>Feature_001</th>\n",
       "    </tr>\n",
       "  </thead>\n",
       "  <tbody>\n",
       "    <tr>\n",
       "      <th>0</th>\n",
       "      <td>source_11</td>\n",
       "      <td>Batch2</td>\n",
       "      <td>EC000046</td>\n",
       "      <td>K04</td>\n",
       "      <td>JCP2022_009278</td>\n",
       "      <td>7406361908543180200</td>\n",
       "      <td>8</td>\n",
       "      <td>62.78</td>\n",
       "      <td>4.139637</td>\n",
       "      <td>1.797821</td>\n",
       "      <td>0.0</td>\n",
       "      <td>0.613709</td>\n",
       "      <td>0.704578</td>\n",
       "    </tr>\n",
       "    <tr>\n",
       "      <th>1</th>\n",
       "      <td>source_11</td>\n",
       "      <td>Batch2</td>\n",
       "      <td>EC000063</td>\n",
       "      <td>K04</td>\n",
       "      <td>JCP2022_009278</td>\n",
       "      <td>7406361908543180200</td>\n",
       "      <td>8</td>\n",
       "      <td>62.78</td>\n",
       "      <td>4.139637</td>\n",
       "      <td>1.797821</td>\n",
       "      <td>0.0</td>\n",
       "      <td>0.396030</td>\n",
       "      <td>1.886775</td>\n",
       "    </tr>\n",
       "    <tr>\n",
       "      <th>2</th>\n",
       "      <td>source_9</td>\n",
       "      <td>20211013-Run14</td>\n",
       "      <td>GR00003281</td>\n",
       "      <td>J15</td>\n",
       "      <td>JCP2022_009278</td>\n",
       "      <td>7406361908543180200</td>\n",
       "      <td>8</td>\n",
       "      <td>62.78</td>\n",
       "      <td>4.139637</td>\n",
       "      <td>1.797821</td>\n",
       "      <td>0.0</td>\n",
       "      <td>0.967456</td>\n",
       "      <td>-0.243835</td>\n",
       "    </tr>\n",
       "    <tr>\n",
       "      <th>3</th>\n",
       "      <td>source_5</td>\n",
       "      <td>JUMPCPE-20210908-Run28_20210909_072022</td>\n",
       "      <td>AETJUM107</td>\n",
       "      <td>J10</td>\n",
       "      <td>JCP2022_045457</td>\n",
       "      <td>7406621140030190348</td>\n",
       "      <td>12</td>\n",
       "      <td>33.20</td>\n",
       "      <td>3.502550</td>\n",
       "      <td>1.521138</td>\n",
       "      <td>0.0</td>\n",
       "      <td>-0.355203</td>\n",
       "      <td>0.057036</td>\n",
       "    </tr>\n",
       "    <tr>\n",
       "      <th>4</th>\n",
       "      <td>source_11</td>\n",
       "      <td>Batch3</td>\n",
       "      <td>EC000139</td>\n",
       "      <td>G04</td>\n",
       "      <td>JCP2022_045457</td>\n",
       "      <td>7406621140030190348</td>\n",
       "      <td>12</td>\n",
       "      <td>33.20</td>\n",
       "      <td>3.502550</td>\n",
       "      <td>1.521138</td>\n",
       "      <td>0.0</td>\n",
       "      <td>1.246175</td>\n",
       "      <td>0.795314</td>\n",
       "    </tr>\n",
       "  </tbody>\n",
       "</table>\n",
       "</div>"
      ],
      "text/plain": [
       "  Metadata_Source                          Metadata_Batch Metadata_Plate Metadata_Well Metadata_JCP2022        Metadata_Hash  \\\n",
       "0       source_11                                  Batch2       EC000046           K04   JCP2022_009278  7406361908543180200   \n",
       "1       source_11                                  Batch2       EC000063           K04   JCP2022_009278  7406361908543180200   \n",
       "2        source_9                          20211013-Run14     GR00003281           J15   JCP2022_009278  7406361908543180200   \n",
       "3        source_5  JUMPCPE-20210908-Run28_20210909_072022      AETJUM107           J10   JCP2022_045457  7406621140030190348   \n",
       "4       source_11                                  Batch3       EC000139           G04   JCP2022_045457  7406621140030190348   \n",
       "\n",
       "   Metadata_Bin  Metadata_TPSA  Metadata_lnTPSA  Metadata_log10TPSA  Metadata_Permiation  Feature_000  Feature_001  \n",
       "0             8          62.78         4.139637            1.797821                  0.0     0.613709     0.704578  \n",
       "1             8          62.78         4.139637            1.797821                  0.0     0.396030     1.886775  \n",
       "2             8          62.78         4.139637            1.797821                  0.0     0.967456    -0.243835  \n",
       "3            12          33.20         3.502550            1.521138                  0.0    -0.355203     0.057036  \n",
       "4            12          33.20         3.502550            1.521138                  0.0     1.246175     0.795314  "
      ]
     },
     "execution_count": 13,
     "metadata": {},
     "output_type": "execute_result"
    }
   ],
   "source": [
    "df_test.info()\n",
    "df_test.shape\n",
    "df_test.columns\n",
    "df_test.iloc[:5,:13]"
   ]
  },
  {
   "cell_type": "code",
   "execution_count": 14,
   "id": "e21aa50d-b501-4532-9c1f-62a2c960f48d",
   "metadata": {
    "execution": {
     "iopub.execute_input": "2024-08-13T19:24:13.022484Z",
     "iopub.status.busy": "2024-08-13T19:24:13.022264Z",
     "iopub.status.idle": "2024-08-13T19:24:13.061987Z",
     "shell.execute_reply": "2024-08-13T19:24:13.061229Z",
     "shell.execute_reply.started": "2024-08-13T19:24:13.022463Z"
    }
   },
   "outputs": [],
   "source": [
    "# df_train = pd.read_csv(TRAIN_INPUT, nrows = 100 )\n",
    "# df_train = pd.read_csv(TRAIN_INPUT, usecols = ['Metadata_Batch'])"
   ]
  },
  {
   "cell_type": "code",
   "execution_count": 15,
   "id": "8e266886-b249-4370-84ef-242c34c98e72",
   "metadata": {
    "execution": {
     "iopub.execute_input": "2024-08-13T19:24:13.063932Z",
     "iopub.status.busy": "2024-08-13T19:24:13.063702Z",
     "iopub.status.idle": "2024-08-13T19:24:13.117561Z",
     "shell.execute_reply": "2024-08-13T19:24:13.116875Z",
     "shell.execute_reply.started": "2024-08-13T19:24:13.063911Z"
    }
   },
   "outputs": [
    {
     "data": {
      "text/plain": [
       "4164"
      ]
     },
     "execution_count": 15,
     "metadata": {},
     "output_type": "execute_result"
    },
    {
     "data": {
      "text/plain": [
       "((34542,), numpy.ndarray, dtype('uint8'))"
      ]
     },
     "execution_count": 15,
     "metadata": {},
     "output_type": "execute_result"
    },
    {
     "data": {
      "text/plain": [
       "((34542, 150), numpy.ndarray, dtype('float64'))"
      ]
     },
     "execution_count": 15,
     "metadata": {},
     "output_type": "execute_result"
    }
   ],
   "source": [
    "test_y = df_test.iloc[:,10:11].to_numpy().ravel().astype(np.uint8)\n",
    "test_y.sum()\n",
    "test_y.shape, type(test_y), test_y.dtype\n",
    "test_X = df_test.iloc[:,11:].to_numpy()\n",
    "test_X.shape,type(test_X), test_X.dtype"
   ]
  },
  {
   "cell_type": "code",
   "execution_count": 19,
   "id": "b5ccbf57-4fa7-4842-919b-103d14e44c79",
   "metadata": {
    "execution": {
     "iopub.execute_input": "2024-08-13T19:24:28.621893Z",
     "iopub.status.busy": "2024-08-13T19:24:28.621391Z",
     "iopub.status.idle": "2024-08-13T19:24:28.699266Z",
     "shell.execute_reply": "2024-08-13T19:24:28.698612Z",
     "shell.execute_reply.started": "2024-08-13T19:24:28.621851Z"
    }
   },
   "outputs": [
    {
     "data": {
      "text/plain": [
       "(312000, 161)"
      ]
     },
     "execution_count": 19,
     "metadata": {},
     "output_type": "execute_result"
    },
    {
     "name": "stdout",
     "output_type": "stream",
     "text": [
      "<class 'pandas.core.frame.DataFrame'>\n",
      "RangeIndex: 312000 entries, 0 to 311999\n",
      "Columns: 161 entries, Metadata_Source to Feature_149\n",
      "dtypes: float64(154), int64(2), object(5)\n",
      "memory usage: 383.2+ MB\n"
     ]
    },
    {
     "data": {
      "text/html": [
       "<div>\n",
       "<style scoped>\n",
       "    .dataframe tbody tr th:only-of-type {\n",
       "        vertical-align: middle;\n",
       "    }\n",
       "\n",
       "    .dataframe tbody tr th {\n",
       "        vertical-align: top;\n",
       "    }\n",
       "\n",
       "    .dataframe thead th {\n",
       "        text-align: right;\n",
       "    }\n",
       "</style>\n",
       "<table border=\"1\" class=\"dataframe\">\n",
       "  <thead>\n",
       "    <tr style=\"text-align: right;\">\n",
       "      <th></th>\n",
       "      <th>Metadata_Source</th>\n",
       "      <th>Metadata_Batch</th>\n",
       "      <th>Metadata_Plate</th>\n",
       "      <th>Metadata_Well</th>\n",
       "      <th>Metadata_JCP2022</th>\n",
       "      <th>Metadata_Hash</th>\n",
       "      <th>Metadata_Bin</th>\n",
       "      <th>Metadata_TPSA</th>\n",
       "      <th>Metadata_lnTPSA</th>\n",
       "      <th>Metadata_log10TPSA</th>\n",
       "      <th>Metadata_Permiation</th>\n",
       "      <th>Feature_000</th>\n",
       "      <th>Feature_001</th>\n",
       "      <th>Feature_002</th>\n",
       "      <th>Feature_003</th>\n",
       "      <th>Feature_004</th>\n",
       "    </tr>\n",
       "  </thead>\n",
       "  <tbody>\n",
       "    <tr>\n",
       "      <th>0</th>\n",
       "      <td>source_1</td>\n",
       "      <td>Batch5_20221030</td>\n",
       "      <td>UL001793</td>\n",
       "      <td>M26</td>\n",
       "      <td>JCP2022_006020</td>\n",
       "      <td>-9223347314827979542</td>\n",
       "      <td>10</td>\n",
       "      <td>71.18</td>\n",
       "      <td>4.265212</td>\n",
       "      <td>1.852358</td>\n",
       "      <td>0.0</td>\n",
       "      <td>-0.584816</td>\n",
       "      <td>1.739848</td>\n",
       "      <td>-0.512839</td>\n",
       "      <td>0.171693</td>\n",
       "      <td>-0.277947</td>\n",
       "    </tr>\n",
       "    <tr>\n",
       "      <th>1</th>\n",
       "      <td>source_10</td>\n",
       "      <td>2021_06_22_U2OS_48_hr_run8</td>\n",
       "      <td>Dest210622-143628</td>\n",
       "      <td>M04</td>\n",
       "      <td>JCP2022_006020</td>\n",
       "      <td>-9223347314827979542</td>\n",
       "      <td>10</td>\n",
       "      <td>71.18</td>\n",
       "      <td>4.265212</td>\n",
       "      <td>1.852358</td>\n",
       "      <td>0.0</td>\n",
       "      <td>0.072229</td>\n",
       "      <td>4.545980</td>\n",
       "      <td>-0.728832</td>\n",
       "      <td>-6.005501</td>\n",
       "      <td>0.926439</td>\n",
       "    </tr>\n",
       "    <tr>\n",
       "      <th>2</th>\n",
       "      <td>source_3</td>\n",
       "      <td>CP_31_all_Phenix1</td>\n",
       "      <td>B040603b</td>\n",
       "      <td>G13</td>\n",
       "      <td>JCP2022_006020</td>\n",
       "      <td>-9223347314827979542</td>\n",
       "      <td>10</td>\n",
       "      <td>71.18</td>\n",
       "      <td>4.265212</td>\n",
       "      <td>1.852358</td>\n",
       "      <td>0.0</td>\n",
       "      <td>1.418385</td>\n",
       "      <td>4.461677</td>\n",
       "      <td>2.481470</td>\n",
       "      <td>-0.635005</td>\n",
       "      <td>-2.307799</td>\n",
       "    </tr>\n",
       "    <tr>\n",
       "      <th>3</th>\n",
       "      <td>source_6</td>\n",
       "      <td>p211004CPU2OS48hw384exp031JUMP</td>\n",
       "      <td>110000295562</td>\n",
       "      <td>M08</td>\n",
       "      <td>JCP2022_058905</td>\n",
       "      <td>-9223229703754907651</td>\n",
       "      <td>13</td>\n",
       "      <td>58.65</td>\n",
       "      <td>4.071588</td>\n",
       "      <td>1.768268</td>\n",
       "      <td>0.0</td>\n",
       "      <td>-2.747379</td>\n",
       "      <td>0.744657</td>\n",
       "      <td>2.082911</td>\n",
       "      <td>1.504725</td>\n",
       "      <td>1.156345</td>\n",
       "    </tr>\n",
       "    <tr>\n",
       "      <th>4</th>\n",
       "      <td>source_3</td>\n",
       "      <td>CP_32_all_Phenix1</td>\n",
       "      <td>B40003aW</td>\n",
       "      <td>M08</td>\n",
       "      <td>JCP2022_058905</td>\n",
       "      <td>-9223229703754907651</td>\n",
       "      <td>13</td>\n",
       "      <td>58.65</td>\n",
       "      <td>4.071588</td>\n",
       "      <td>1.768268</td>\n",
       "      <td>0.0</td>\n",
       "      <td>0.559964</td>\n",
       "      <td>1.732896</td>\n",
       "      <td>0.296971</td>\n",
       "      <td>-1.477167</td>\n",
       "      <td>1.171373</td>\n",
       "    </tr>\n",
       "  </tbody>\n",
       "</table>\n",
       "</div>"
      ],
      "text/plain": [
       "  Metadata_Source                  Metadata_Batch     Metadata_Plate Metadata_Well Metadata_JCP2022        Metadata_Hash  \\\n",
       "0        source_1                 Batch5_20221030           UL001793           M26   JCP2022_006020 -9223347314827979542   \n",
       "1       source_10      2021_06_22_U2OS_48_hr_run8  Dest210622-143628           M04   JCP2022_006020 -9223347314827979542   \n",
       "2        source_3               CP_31_all_Phenix1           B040603b           G13   JCP2022_006020 -9223347314827979542   \n",
       "3        source_6  p211004CPU2OS48hw384exp031JUMP       110000295562           M08   JCP2022_058905 -9223229703754907651   \n",
       "4        source_3               CP_32_all_Phenix1           B40003aW           M08   JCP2022_058905 -9223229703754907651   \n",
       "\n",
       "   Metadata_Bin  Metadata_TPSA  Metadata_lnTPSA  Metadata_log10TPSA  Metadata_Permiation  Feature_000  Feature_001  Feature_002  \\\n",
       "0            10          71.18         4.265212            1.852358                  0.0    -0.584816     1.739848    -0.512839   \n",
       "1            10          71.18         4.265212            1.852358                  0.0     0.072229     4.545980    -0.728832   \n",
       "2            10          71.18         4.265212            1.852358                  0.0     1.418385     4.461677     2.481470   \n",
       "3            13          58.65         4.071588            1.768268                  0.0    -2.747379     0.744657     2.082911   \n",
       "4            13          58.65         4.071588            1.768268                  0.0     0.559964     1.732896     0.296971   \n",
       "\n",
       "   Feature_003  Feature_004  \n",
       "0     0.171693    -0.277947  \n",
       "1    -6.005501     0.926439  \n",
       "2    -0.635005    -2.307799  \n",
       "3     1.504725     1.156345  \n",
       "4    -1.477167     1.171373  "
      ]
     },
     "execution_count": 19,
     "metadata": {},
     "output_type": "execute_result"
    }
   ],
   "source": [
    "df_train.shape\n",
    "df_train.info()\n",
    "df_train.iloc[:5,:16]"
   ]
  },
  {
   "cell_type": "code",
   "execution_count": 20,
   "id": "8b7d392e-68eb-4474-ad37-12244f4d23b0",
   "metadata": {
    "execution": {
     "iopub.execute_input": "2024-08-13T19:24:30.381848Z",
     "iopub.status.busy": "2024-08-13T19:24:30.381352Z",
     "iopub.status.idle": "2024-08-13T19:24:30.423928Z",
     "shell.execute_reply": "2024-08-13T19:24:30.423098Z",
     "shell.execute_reply.started": "2024-08-13T19:24:30.381806Z"
    }
   },
   "outputs": [
    {
     "data": {
      "text/plain": [
       "346542"
      ]
     },
     "execution_count": 20,
     "metadata": {},
     "output_type": "execute_result"
    }
   ],
   "source": [
    "312000+34542"
   ]
  },
  {
   "cell_type": "code",
   "execution_count": 21,
   "id": "8710ee4c-badf-4f28-a214-f8354f6c1e5f",
   "metadata": {
    "execution": {
     "iopub.execute_input": "2024-08-13T19:24:31.216625Z",
     "iopub.status.busy": "2024-08-13T19:24:31.216131Z",
     "iopub.status.idle": "2024-08-13T19:24:31.420957Z",
     "shell.execute_reply": "2024-08-13T19:24:31.420138Z",
     "shell.execute_reply.started": "2024-08-13T19:24:31.216584Z"
    }
   },
   "outputs": [
    {
     "data": {
      "text/plain": [
       "37164"
      ]
     },
     "execution_count": 21,
     "metadata": {},
     "output_type": "execute_result"
    },
    {
     "data": {
      "text/plain": [
       "((312000,), numpy.ndarray, dtype('uint8'))"
      ]
     },
     "execution_count": 21,
     "metadata": {},
     "output_type": "execute_result"
    },
    {
     "data": {
      "text/plain": [
       "((312000, 150), numpy.ndarray, dtype('float64'))"
      ]
     },
     "execution_count": 21,
     "metadata": {},
     "output_type": "execute_result"
    }
   ],
   "source": [
    "train_y = df_train.iloc[:,10:11].to_numpy().ravel().astype(np.uint8)\n",
    "train_y.sum()\n",
    "train_y.shape, type(train_y), train_y.dtype\n",
    "\n",
    "train_X = df_train.iloc[:,11:].to_numpy()\n",
    "train_X.shape,type(train_X) ,train_X.dtype"
   ]
  },
  {
   "cell_type": "markdown",
   "id": "00c738a2-74d5-4702-a93f-36428714aedf",
   "metadata": {},
   "source": [
    "## Standardize inputs"
   ]
  },
  {
   "cell_type": "code",
   "execution_count": 22,
   "id": "6ba790ed-fea3-4803-bf33-91b2a0d74fd7",
   "metadata": {
    "execution": {
     "iopub.execute_input": "2024-08-13T19:24:32.337765Z",
     "iopub.status.busy": "2024-08-13T19:24:32.337272Z",
     "iopub.status.idle": "2024-08-13T19:24:32.800020Z",
     "shell.execute_reply": "2024-08-13T19:24:32.798966Z",
     "shell.execute_reply.started": "2024-08-13T19:24:32.337723Z"
    }
   },
   "outputs": [
    {
     "name": "stdout",
     "output_type": "stream",
     "text": [
      "Train_X :  Min: -72.2029    Max: 103.8641   Mean: 0.0527  Std: 2.5164\n",
      "Test_X  :  Min: -53.3835    Max: 71.4748    Mean: 0.0529  Std: 2.4997\n"
     ]
    }
   ],
   "source": [
    "print(f\"Train_X :  Min: {train_X.min():.4f}    Max: {train_X.max():.4f}   Mean: {train_X.mean():.4f}  Std: {train_X.std():.4f}\")\n",
    "print(f\"Test_X  :  Min: {test_X.min():.4f}    Max: {test_X.max():.4f}    Mean: {test_X.mean():.4f}  Std: {test_X.std():.4f}\")"
   ]
  },
  {
   "cell_type": "code",
   "execution_count": 23,
   "id": "8ab780bd-8b49-46ce-b18b-abc1e0ff181d",
   "metadata": {
    "execution": {
     "iopub.execute_input": "2024-08-13T19:24:33.528131Z",
     "iopub.status.busy": "2024-08-13T19:24:33.527642Z",
     "iopub.status.idle": "2024-08-13T19:24:33.570174Z",
     "shell.execute_reply": "2024-08-13T19:24:33.569459Z",
     "shell.execute_reply.started": "2024-08-13T19:24:33.528091Z"
    }
   },
   "outputs": [],
   "source": [
    "# print(f\"Train_X :  Min: {train_X.min():.4f}    Max: {train_X.max():.4f}   Mean: {train_X.mean():.4f}  Std: {train_X.std():.4f}\")\n",
    "# print(f\"Test_X  :  Min: {test_X.min():.4f}    Max: {test_X.max():.4f}    Mean: {test_X.mean():.4f}  Std: {test_X.std():.4f}\")"
   ]
  },
  {
   "cell_type": "code",
   "execution_count": 24,
   "id": "614ed6ad-1c8c-4c10-9bc5-82e6fcc9fa56",
   "metadata": {
    "execution": {
     "iopub.execute_input": "2024-08-13T19:24:33.890559Z",
     "iopub.status.busy": "2024-08-13T19:24:33.889942Z",
     "iopub.status.idle": "2024-08-13T19:24:34.689413Z",
     "shell.execute_reply": "2024-08-13T19:24:34.688691Z",
     "shell.execute_reply.started": "2024-08-13T19:24:33.890476Z"
    }
   },
   "outputs": [],
   "source": [
    "scaler = StandardScaler(copy = True)\n",
    "train_X = scaler.fit_transform(train_X)\n",
    "test_X = scaler.transform(test_X)"
   ]
  },
  {
   "cell_type": "code",
   "execution_count": 25,
   "id": "34a118cd-aed2-4e64-a4da-8de20a99be3a",
   "metadata": {
    "execution": {
     "iopub.execute_input": "2024-08-13T19:24:34.691554Z",
     "iopub.status.busy": "2024-08-13T19:24:34.691225Z",
     "iopub.status.idle": "2024-08-13T19:24:35.144298Z",
     "shell.execute_reply": "2024-08-13T19:24:35.143272Z",
     "shell.execute_reply.started": "2024-08-13T19:24:34.691521Z"
    }
   },
   "outputs": [
    {
     "name": "stdout",
     "output_type": "stream",
     "text": [
      "After Standard Scaler Transformation\n",
      "Train_X :  Min: -33.4514    Max: 27.3319   Mean: -0.0000  Std: 1.0000\n",
      "Test_X  :  Min: -24.2626    Max: 28.1195    Mean: 0.0003  Std: 0.9889\n"
     ]
    }
   ],
   "source": [
    "print(\"After Standard Scaler Transformation\")\n",
    "print(f\"Train_X :  Min: {train_X.min():.4f}    Max: {train_X.max():.4f}   Mean: {train_X.mean():.4f}  Std: {train_X.std():.4f}\")\n",
    "print(f\"Test_X  :  Min: {test_X.min():.4f}    Max: {test_X.max():.4f}    Mean: {test_X.mean():.4f}  Std: {test_X.std():.4f}\")\n"
   ]
  },
  {
   "cell_type": "code",
   "execution_count": 26,
   "id": "c685b4df-8975-4935-8bd2-edba44873a90",
   "metadata": {
    "execution": {
     "iopub.execute_input": "2024-08-13T19:24:36.082161Z",
     "iopub.status.busy": "2024-08-13T19:24:36.081671Z",
     "iopub.status.idle": "2024-08-13T19:24:36.125587Z",
     "shell.execute_reply": "2024-08-13T19:24:36.124622Z",
     "shell.execute_reply.started": "2024-08-13T19:24:36.082121Z"
    }
   },
   "outputs": [
    {
     "name": "stdout",
     "output_type": "stream",
     "text": [
      " Training\n",
      " ---------\n",
      " Total samples: 312000  - compounds: 104000\n",
      " Label 0: 274,836      % 88.09 \n",
      " Label 1:  37,164      % 11.91 \n",
      "\n",
      " Test\n",
      " -----\n",
      " Total samples: 34542  - compounds: 11514\n",
      " Label 0:  30,378      % 87.95 \n",
      " Label 1:   4,164      % 12.05 \n",
      "\n"
     ]
    }
   ],
   "source": [
    "label_counts([(\"Training\", train_y), (\"Test\", test_y)])"
   ]
  },
  {
   "cell_type": "code",
   "execution_count": null,
   "id": "a0b7ad73-1936-428c-bd8e-341f594d816b",
   "metadata": {},
   "outputs": [],
   "source": []
  },
  {
   "cell_type": "markdown",
   "id": "aa293a17-1064-44e2-8d7c-42a5aef53159",
   "metadata": {},
   "source": [
    "# TQDM Examples"
   ]
  },
  {
   "cell_type": "code",
   "execution_count": 322,
   "id": "7d4955de-e618-45a3-83be-028e913b55d1",
   "metadata": {
    "execution": {
     "iopub.execute_input": "2024-08-14T19:32:03.322606Z",
     "iopub.status.busy": "2024-08-14T19:32:03.322242Z",
     "iopub.status.idle": "2024-08-14T19:32:03.375094Z",
     "shell.execute_reply": "2024-08-14T19:32:03.374284Z",
     "shell.execute_reply.started": "2024-08-14T19:32:03.322576Z"
    }
   },
   "outputs": [],
   "source": [
    "#-----------------------------------------\n",
    "# TRANGE example\n",
    "#-----------------------------------------   \n",
    "# with trange(+1, ns.trn_iters_warmup+1 , initial = 0 , total = ns.trn_iters_warmup, position=0, file=sys.stdout,\n",
    "#             leave= False, disable = disable_tqdm, desc=f\" Warmup Epoch {ns.current_epoch}/{ns.stop_epoch_warmup}\") as t_warmup :\n",
    "#     for _ in t_warmup:\n",
    "#         ns.current_iter += 1            \n",
    "\n",
    "#         batch = next(dldrs.warmup_trn_loader)            \n",
    "#         environ.set_inputs(batch, input_size)\n",
    "\n",
    "#         environ.optimize(is_policy=False, \n",
    "#                          num_train_layers=ns.num_train_layers,\n",
    "#                          flag='update_weights', \n",
    "#                          verbose = verbose)\n",
    "    \n",
    "#         t_warmup.set_postfix({'curr_iter':ns.current_iter, \n",
    "#                             'Loss': f\"{environ.losses['total']['total'].item():.4f}\"})\n",
    "\n",
    "#-----------------------------------------\n",
    "# TQDM example\n",
    "#-----------------------------------------   \n",
    "# current_epoch = 1\n",
    "# total_epochs = 20\n",
    "# current_iter = 0 \n",
    "# train_minibatches = len(data_loader['train']) // minibatch_size\n",
    "# val_minibatches = len(data_loader['val']) // minibatch_size\n",
    "\n",
    "# # with batch_count, (batch_features, batch_labels, _, _, _, _) in tqdm(enumerate(data_loader['train']), initial=0, total = 400, position=0, file=sys.stdout,\n",
    "#             # leave= False, desc=f\" Epoch {current_epoch}/{total_epochs}\") as t_warmup :\n",
    "# t_warmup =  tqdm(enumerate(data_loader['train']), initial=0, total = train_minibatches, position=0, file=sys.stdout,\n",
    "#             leave= False, desc=f\" Epoch {current_epoch}/{total_epochs}\") \n",
    "# for batch_count, (batch_features, batch_labels, _, _, _, _) in t_warmup:\n",
    "#     # batch_count, (batch_features, batch_labels, _, _, _, _) = pp\n",
    "#     loss = random.random()\n",
    "#     t_warmup.set_postfix({'curr_iter':batch_count, 'Loss': f\"{loss:.4f}\"})"
   ]
  }
 ],
 "metadata": {
  "kernelspec": {
   "display_name": "Python [conda env:cp311]",
   "language": "python",
   "name": "conda-env-cp311-py"
  },
  "language_info": {
   "codemirror_mode": {
    "name": "ipython",
    "version": 3
   },
   "file_extension": ".py",
   "mimetype": "text/x-python",
   "name": "python",
   "nbconvert_exporter": "python",
   "pygments_lexer": "ipython3",
   "version": "3.11.4"
  }
 },
 "nbformat": 4,
 "nbformat_minor": 5
}
