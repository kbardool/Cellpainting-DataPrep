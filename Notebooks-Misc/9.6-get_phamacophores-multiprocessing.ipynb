{
 "cells": [
  {
   "cell_type": "markdown",
   "id": "9997e167",
   "metadata": {},
   "source": [
    "# Initialization"
   ]
  },
  {
   "cell_type": "code",
   "execution_count": 2,
   "id": "a7ce6847",
   "metadata": {
    "ExecuteTime": {
     "end_time": "2023-10-03T20:09:54.993784Z",
     "start_time": "2023-10-03T20:09:54.979968Z"
    },
    "execution": {
     "iopub.execute_input": "2023-11-09T21:57:52.121793Z",
     "iopub.status.busy": "2023-11-09T21:57:52.121539Z",
     "iopub.status.idle": "2023-11-09T21:57:52.134171Z",
     "shell.execute_reply": "2023-11-09T21:57:52.133534Z",
     "shell.execute_reply.started": "2023-11-09T21:57:52.121776Z"
    }
   },
   "outputs": [
    {
     "data": {
      "text/html": [
       "<style>.container { width:98% !important; }</style>"
      ],
      "text/plain": [
       "<IPython.core.display.HTML object>"
      ]
     },
     "metadata": {},
     "output_type": "display_data"
    }
   ],
   "source": [
    "from IPython.display import display, HTML\n",
    "display(HTML(\"<style>.container { width:98% !important; }</style>\"))\n",
    "%load_ext autoreload  \n",
    "%autoreload 2\n",
    "from IPython.core.interactiveshell import InteractiveShell\n",
    "InteractiveShell.ast_node_interactivity = \"all\""
   ]
  },
  {
   "cell_type": "code",
   "execution_count": 3,
   "id": "84ea9b01",
   "metadata": {
    "ExecuteTime": {
     "end_time": "2023-10-03T20:09:57.595949Z",
     "start_time": "2023-10-03T20:09:55.268530Z"
    },
    "execution": {
     "iopub.execute_input": "2023-11-09T21:57:52.458419Z",
     "iopub.status.busy": "2023-11-09T21:57:52.457750Z",
     "iopub.status.idle": "2023-11-09T21:57:56.478730Z",
     "shell.execute_reply": "2023-11-09T21:57:56.477774Z",
     "shell.execute_reply.started": "2023-11-09T21:57:52.458384Z"
    }
   },
   "outputs": [],
   "source": [
    "import os\n",
    "import sys\n",
    "import argparse\n",
    "import csv\n",
    "import json\n",
    "import time\n",
    "import types, copy, pprint\n",
    "from datetime import datetime\n",
    "import numpy as np\n",
    "import pandas as pd\n",
    "# import utils\n",
    "from utils import getPharmacophoresFromRDKit, appendSmilesFromRDKit, appendMolFromRDKit \n",
    "from utils import my_enumerator, starmap_with_kwargs_async, starmap_with_kwargs\n",
    "from itertools import repeat\n",
    "import more_itertools\n",
    "from multiprocessing import Pool, process\n",
    "from os import getpid\n",
    "from rdkit.Chem import PandasTools\n",
    "\n",
    "pp = pprint.PrettyPrinter(indent=4)\n",
    "np.set_printoptions(edgeitems=10, infstr='inf', linewidth=150, nanstr='nan')\n",
    "pd.options.display.width = 180"
   ]
  },
  {
   "cell_type": "code",
   "execution_count": 4,
   "id": "539993b3",
   "metadata": {
    "ExecuteTime": {
     "end_time": "2023-10-03T20:09:57.612728Z",
     "start_time": "2023-10-03T20:09:57.598143Z"
    },
    "execution": {
     "iopub.execute_input": "2023-11-09T21:57:56.480018Z",
     "iopub.status.busy": "2023-11-09T21:57:56.479737Z",
     "iopub.status.idle": "2023-11-09T21:57:56.509000Z",
     "shell.execute_reply": "2023-11-09T21:57:56.507762Z",
     "shell.execute_reply.started": "2023-11-09T21:57:56.480002Z"
    },
    "scrolled": true
   },
   "outputs": [
    {
     "data": {
      "text/plain": [
       "'13:57:56 11/09/23 PST'"
      ]
     },
     "execution_count": 4,
     "metadata": {},
     "output_type": "execute_result"
    }
   ],
   "source": [
    "time.strftime('%X %x %Z')\n",
    "# datetime.now().strftime('%X.%f')"
   ]
  },
  {
   "cell_type": "code",
   "execution_count": 5,
   "id": "a1c16a7a",
   "metadata": {
    "ExecuteTime": {
     "end_time": "2023-10-03T20:09:57.630444Z",
     "start_time": "2023-10-03T20:09:57.615687Z"
    },
    "execution": {
     "iopub.execute_input": "2023-11-09T21:57:56.510658Z",
     "iopub.status.busy": "2023-11-09T21:57:56.510369Z",
     "iopub.status.idle": "2023-11-09T21:57:56.530591Z",
     "shell.execute_reply": "2023-11-09T21:57:56.529722Z",
     "shell.execute_reply.started": "2023-11-09T21:57:56.510632Z"
    }
   },
   "outputs": [
    {
     "name": "stdout",
     "output_type": "stream",
     "text": [
      " prefix                         : CP\n",
      " compound Metadata Input File   : ./input/JUMP-CP_compound_library.csv\n",
      " compound Metadata w/Smiles File: ./output_03102023/cp_compound_metadata_smiles.csv\n",
      " compound Metadata Output File 2: ./output_03102023/cp_compound_metadata_clean.csv\n",
      " compound Metadata Output File 3: ./output_03102023/cp_compound_metadata_clean_fp.csv\n",
      " compound Pharmacophore File    : ./output_03102023/cp_compound_pharmacophores_sparse.pkl\n"
     ]
    }
   ],
   "source": [
    "input_path =\"./input/\"\n",
    "output_path =\"./output_03102023/\"\n",
    "prefix = 'CP' ### Target-2' , 'MOA'\n",
    "prefix_lc = prefix.lower().replace('-', '_')\n",
    " \n",
    "compoundMetadataInputFile       = f\"{input_path}JUMP-{prefix}_compound_library.csv\"\n",
    "compoundMetadataOutputFile      = f\"{output_path}{prefix_lc}_compound_metadata_smiles.csv\"\n",
    "compoundMetadataOutputFile_2    = f\"{output_path}{prefix_lc}_compound_metadata_clean.csv\"\n",
    "compoundMetadataOutputFile_3    = f\"{output_path}{prefix_lc}_compound_metadata_clean_fp.csv\"\n",
    "compoundPharmacophoreFile       = f\"{output_path}{prefix_lc}_compound_pharmacophores_sparse.pkl\"\n",
    "\n",
    "print(f\" prefix                         : {prefix}\" )\n",
    "print(f\" compound Metadata Input File   : {compoundMetadataInputFile}\")\n",
    "print(f\" compound Metadata w/Smiles File: {compoundMetadataOutputFile}\")\n",
    "print(f\" compound Metadata Output File 2: {compoundMetadataOutputFile_2}\")\n",
    "print(f\" compound Metadata Output File 3: {compoundMetadataOutputFile_3}\")\n",
    "print(f\" compound Pharmacophore File    : {compoundPharmacophoreFile}\")"
   ]
  },
  {
   "cell_type": "markdown",
   "id": "cad05dee-d8a1-4447-a092-8a763decaccd",
   "metadata": {
    "jp-MarkdownHeadingCollapsed": true
   },
   "source": [
    "#  - Append Smiles to metadata file using RDKit - ` getSmilesFromRDKit`"
   ]
  },
  {
   "cell_type": "code",
   "execution_count": 8,
   "id": "6fd16272",
   "metadata": {
    "ExecuteTime": {
     "end_time": "2023-05-24T14:39:47.653570Z",
     "start_time": "2023-05-24T14:39:47.637912Z"
    },
    "execution": {
     "iopub.execute_input": "2023-10-03T18:51:24.681327Z",
     "iopub.status.busy": "2023-10-03T18:51:24.681064Z",
     "iopub.status.idle": "2023-10-03T18:51:24.964770Z",
     "shell.execute_reply": "2023-10-03T18:51:24.964196Z",
     "shell.execute_reply.started": "2023-10-03T18:51:24.681297Z"
    }
   },
   "outputs": [
    {
     "data": {
      "text/plain": [
       "RangeIndex(start=0, stop=116753, step=1)"
      ]
     },
     "execution_count": 8,
     "metadata": {},
     "output_type": "execute_result"
    },
    {
     "name": "stdout",
     "output_type": "stream",
     "text": [
      "<class 'pandas.core.frame.DataFrame'>\n",
      "RangeIndex: 116753 entries, 0 to 116752\n",
      "Data columns (total 3 columns):\n",
      " #   Column    Non-Null Count   Dtype \n",
      "---  ------    --------------   ----- \n",
      " 0   JCP2022   116753 non-null  object\n",
      " 1   InChIKey  116752 non-null  object\n",
      " 2   InChI     116752 non-null  object\n",
      "dtypes: object(3)\n",
      "memory usage: 2.7+ MB\n"
     ]
    },
    {
     "data": {
      "text/html": [
       "<div>\n",
       "<style scoped>\n",
       "    .dataframe tbody tr th:only-of-type {\n",
       "        vertical-align: middle;\n",
       "    }\n",
       "\n",
       "    .dataframe tbody tr th {\n",
       "        vertical-align: top;\n",
       "    }\n",
       "\n",
       "    .dataframe thead th {\n",
       "        text-align: right;\n",
       "    }\n",
       "</style>\n",
       "<table border=\"1\" class=\"dataframe\">\n",
       "  <thead>\n",
       "    <tr style=\"text-align: right;\">\n",
       "      <th></th>\n",
       "      <th>JCP2022</th>\n",
       "      <th>InChIKey</th>\n",
       "      <th>InChI</th>\n",
       "    </tr>\n",
       "  </thead>\n",
       "  <tbody>\n",
       "    <tr>\n",
       "      <th>0</th>\n",
       "      <td>JCP2022_000001</td>\n",
       "      <td>AAAHWCWPZPSPIW-UHFFFAOYSA-N</td>\n",
       "      <td>InChI=1S/C25H31N5O2/c1-4-23-26-14-16-30(23)24-...</td>\n",
       "    </tr>\n",
       "    <tr>\n",
       "      <th>1</th>\n",
       "      <td>JCP2022_000002</td>\n",
       "      <td>AAAJHRMBUHXWLD-UHFFFAOYSA-N</td>\n",
       "      <td>InChI=1S/C11H13ClN2O/c12-10-4-2-9(3-5-10)8-14-...</td>\n",
       "    </tr>\n",
       "  </tbody>\n",
       "</table>\n",
       "</div>"
      ],
      "text/plain": [
       "          JCP2022                     InChIKey                                              InChI\n",
       "0  JCP2022_000001  AAAHWCWPZPSPIW-UHFFFAOYSA-N  InChI=1S/C25H31N5O2/c1-4-23-26-14-16-30(23)24-...\n",
       "1  JCP2022_000002  AAAJHRMBUHXWLD-UHFFFAOYSA-N  InChI=1S/C11H13ClN2O/c12-10-4-2-9(3-5-10)8-14-..."
      ]
     },
     "execution_count": 8,
     "metadata": {},
     "output_type": "execute_result"
    },
    {
     "data": {
      "text/html": [
       "<div>\n",
       "<style scoped>\n",
       "    .dataframe tbody tr th:only-of-type {\n",
       "        vertical-align: middle;\n",
       "    }\n",
       "\n",
       "    .dataframe tbody tr th {\n",
       "        vertical-align: top;\n",
       "    }\n",
       "\n",
       "    .dataframe thead th {\n",
       "        text-align: right;\n",
       "    }\n",
       "</style>\n",
       "<table border=\"1\" class=\"dataframe\">\n",
       "  <thead>\n",
       "    <tr style=\"text-align: right;\">\n",
       "      <th></th>\n",
       "      <th>JCP2022</th>\n",
       "      <th>InChIKey</th>\n",
       "      <th>InChI</th>\n",
       "    </tr>\n",
       "  </thead>\n",
       "  <tbody>\n",
       "    <tr>\n",
       "      <th>116751</th>\n",
       "      <td>JCP2022_116753</td>\n",
       "      <td>ZZZZVNLQWWXZTQ-UHFFFAOYSA-N</td>\n",
       "      <td>InChI=1S/C14H20N2O3/c1-18-13-5-3-2-4-12(13)14(...</td>\n",
       "    </tr>\n",
       "    <tr>\n",
       "      <th>116752</th>\n",
       "      <td>JCP2022_999999</td>\n",
       "      <td>NaN</td>\n",
       "      <td>NaN</td>\n",
       "    </tr>\n",
       "  </tbody>\n",
       "</table>\n",
       "</div>"
      ],
      "text/plain": [
       "               JCP2022                     InChIKey                                              InChI\n",
       "116751  JCP2022_116753  ZZZZVNLQWWXZTQ-UHFFFAOYSA-N  InChI=1S/C14H20N2O3/c1-18-13-5-3-2-4-12(13)14(...\n",
       "116752  JCP2022_999999                          NaN                                                NaN"
      ]
     },
     "execution_count": 8,
     "metadata": {},
     "output_type": "execute_result"
    }
   ],
   "source": [
    "n_rows = 999999\n",
    "skip_rows = 0\n",
    "\n",
    "df = pd.read_csv(compoundMetadataInputFile , nrows = n_rows, skiprows = skip_rows, header=0,  names=['JCP2022','InChIKey', 'InChI'], )\n",
    "df.index\n",
    "df.info()\n",
    "df.head(2)\n",
    "df.tail(2)"
   ]
  },
  {
   "cell_type": "code",
   "execution_count": null,
   "id": "f2228145-6606-412d-a66b-6a660656e7d1",
   "metadata": {
    "ExecuteTime": {
     "end_time": "2023-05-24T14:39:47.670429Z",
     "start_time": "2023-05-24T14:39:47.654994Z"
    },
    "execution": {
     "iopub.execute_input": "2023-10-03T18:51:39.255065Z",
     "iopub.status.busy": "2023-10-03T18:51:39.254828Z",
     "iopub.status.idle": "2023-10-03T18:52:43.519878Z",
     "shell.execute_reply": "2023-10-03T18:52:43.519157Z",
     "shell.execute_reply.started": "2023-10-03T18:51:39.255049Z"
    },
    "scrolled": true
   },
   "outputs": [],
   "source": [
    "# ## Get mol and SMILES for each InChI in the input file \n",
    "rc = appendSmilesFromRDKit(df, limit = -1, verbose = False)"
   ]
  },
  {
   "cell_type": "code",
   "execution_count": null,
   "id": "fb705fb2-43e1-4c24-9869-dcf7e1cd2874",
   "metadata": {
    "ExecuteTime": {
     "end_time": "2023-05-24T14:39:47.670429Z",
     "start_time": "2023-05-24T14:39:47.654994Z"
    },
    "execution": {
     "iopub.execute_input": "2023-10-03T18:51:39.255065Z",
     "iopub.status.busy": "2023-10-03T18:51:39.254828Z",
     "iopub.status.idle": "2023-10-03T18:52:43.519878Z",
     "shell.execute_reply": "2023-10-03T18:52:43.519157Z",
     "shell.execute_reply.started": "2023-10-03T18:51:39.255049Z"
    },
    "scrolled": true
   },
   "outputs": [],
   "source": [
    "print(f'RC: {rc}')"
   ]
  },
  {
   "cell_type": "code",
   "execution_count": 11,
   "id": "85f49169",
   "metadata": {
    "ExecuteTime": {
     "end_time": "2023-05-24T14:39:47.682319Z",
     "start_time": "2023-05-24T14:39:47.672156Z"
    },
    "execution": {
     "iopub.execute_input": "2023-10-03T18:55:56.084184Z",
     "iopub.status.busy": "2023-10-03T18:55:56.083908Z",
     "iopub.status.idle": "2023-10-03T18:55:56.135213Z",
     "shell.execute_reply": "2023-10-03T18:55:56.134523Z",
     "shell.execute_reply.started": "2023-10-03T18:55:56.084165Z"
    }
   },
   "outputs": [
    {
     "name": "stdout",
     "output_type": "stream",
     "text": [
      "<class 'pandas.core.frame.DataFrame'>\n",
      "RangeIndex: 116753 entries, 0 to 116752\n",
      "Data columns (total 4 columns):\n",
      " #   Column    Non-Null Count   Dtype \n",
      "---  ------    --------------   ----- \n",
      " 0   JCP2022   116753 non-null  object\n",
      " 1   InChIKey  116752 non-null  object\n",
      " 2   InChI     116752 non-null  object\n",
      " 3   smiles    116751 non-null  object\n",
      "dtypes: object(4)\n",
      "memory usage: 3.6+ MB\n",
      "None\n",
      "          JCP2022                     InChIKey                                              InChI                                             smiles\n",
      "0  JCP2022_000001  AAAHWCWPZPSPIW-UHFFFAOYSA-N  InChI=1S/C25H31N5O2/c1-4-23-26-14-16-30(23)24-...  CCC1=NC=CN1c2cccc(n2)C3CCCN3C(=O)c4ccc(cc4)OCC...\n",
      "1  JCP2022_000002  AAAJHRMBUHXWLD-UHFFFAOYSA-N  InChI=1S/C11H13ClN2O/c12-10-4-2-9(3-5-10)8-14-...                            OC1=NCCCN1Cc2ccc(Cl)cc2\n",
      "2  JCP2022_000003  AAALVYBICLMAMA-UHFFFAOYSA-N  InChI=1S/C20H15N3O2/c24-19-15-11-17(21-13-7-3-...          OC2=NC(=O)c3cc(Nc1ccccc1)c(cc23)Nc4ccccc4\n",
      "               JCP2022                     InChIKey                                              InChI                                             smiles\n",
      "116750  JCP2022_116752  ZZZZIBSVRUABIA-UHFFFAOYSA-N  InChI=1S/C19H13F6N3O2S/c1-11-26-6-5-17(27-11)1...  Cc1nccc(n1)c2cccc(c2)NS(=O)(=O)c3cc(cc(c3)C(F)...\n",
      "116751  JCP2022_116753  ZZZZVNLQWWXZTQ-UHFFFAOYSA-N  InChI=1S/C14H20N2O3/c1-18-13-5-3-2-4-12(13)14(...                         COc1ccccc1C(O)=NCCN2CCOCC2\n",
      "116752  JCP2022_999999                          NaN                                                NaN                                               None\n"
     ]
    }
   ],
   "source": [
    "print(df.info())\n",
    "print(df.head(3))\n",
    "print(df.tail(3))"
   ]
  },
  {
   "cell_type": "code",
   "execution_count": 15,
   "id": "885d6439",
   "metadata": {
    "ExecuteTime": {
     "end_time": "2023-05-24T14:39:47.698008Z",
     "start_time": "2023-05-24T14:39:47.683730Z"
    },
    "execution": {
     "iopub.execute_input": "2023-10-03T18:58:30.392962Z",
     "iopub.status.busy": "2023-10-03T18:58:30.392693Z",
     "iopub.status.idle": "2023-10-03T18:58:30.404845Z",
     "shell.execute_reply": "2023-10-03T18:58:30.404259Z",
     "shell.execute_reply.started": "2023-10-03T18:58:30.392926Z"
    }
   },
   "outputs": [
    {
     "name": "stdout",
     "output_type": "stream",
     "text": [
      " compound Metadata Input File   : ./input/JUMP-CP_compound_library.csv\n",
      " compound Metadata Output File  : ./output_03102023/cp_compound_metadata_smiles.csv\n"
     ]
    }
   ],
   "source": [
    "print(f\" compound Metadata Input File   : {compoundMetadataInputFile}\")\n",
    "print(f\" compound Metadata Output File  : {compoundMetadataOutputFile}\")"
   ]
  },
  {
   "cell_type": "code",
   "execution_count": 13,
   "id": "7dd98ae3",
   "metadata": {
    "ExecuteTime": {
     "end_time": "2023-05-24T14:39:47.715014Z",
     "start_time": "2023-05-24T14:39:47.700251Z"
    },
    "execution": {
     "iopub.execute_input": "2023-10-03T18:56:18.522720Z",
     "iopub.status.busy": "2023-10-03T18:56:18.522477Z",
     "iopub.status.idle": "2023-10-03T18:56:18.854810Z",
     "shell.execute_reply": "2023-10-03T18:56:18.853377Z",
     "shell.execute_reply.started": "2023-10-03T18:56:18.522704Z"
    }
   },
   "outputs": [],
   "source": [
    "df.to_csv(compoundMetadataOutputFile, index = False)"
   ]
  },
  {
   "cell_type": "code",
   "execution_count": 14,
   "id": "631460f8",
   "metadata": {
    "ExecuteTime": {
     "end_time": "2023-05-24T14:39:47.726636Z",
     "start_time": "2023-05-24T14:39:47.716656Z"
    },
    "execution": {
     "iopub.execute_input": "2023-10-03T18:56:22.983064Z",
     "iopub.status.busy": "2023-10-03T18:56:22.982530Z",
     "iopub.status.idle": "2023-10-03T18:56:23.291634Z",
     "shell.execute_reply": "2023-10-03T18:56:23.291044Z",
     "shell.execute_reply.started": "2023-10-03T18:56:22.983032Z"
    }
   },
   "outputs": [
    {
     "name": "stdout",
     "output_type": "stream",
     "text": [
      "<class 'pandas.core.frame.DataFrame'>\n",
      "RangeIndex: 116753 entries, 0 to 116752\n",
      "Data columns (total 4 columns):\n",
      " #   Column    Non-Null Count   Dtype \n",
      "---  ------    --------------   ----- \n",
      " 0   JCP2022   116753 non-null  object\n",
      " 1   InChIKey  116752 non-null  object\n",
      " 2   InChI     116752 non-null  object\n",
      " 3   smiles    116751 non-null  object\n",
      "dtypes: object(4)\n",
      "memory usage: 3.6+ MB\n"
     ]
    },
    {
     "data": {
      "text/html": [
       "<div>\n",
       "<style scoped>\n",
       "    .dataframe tbody tr th:only-of-type {\n",
       "        vertical-align: middle;\n",
       "    }\n",
       "\n",
       "    .dataframe tbody tr th {\n",
       "        vertical-align: top;\n",
       "    }\n",
       "\n",
       "    .dataframe thead th {\n",
       "        text-align: right;\n",
       "    }\n",
       "</style>\n",
       "<table border=\"1\" class=\"dataframe\">\n",
       "  <thead>\n",
       "    <tr style=\"text-align: right;\">\n",
       "      <th></th>\n",
       "      <th>JCP2022</th>\n",
       "      <th>InChIKey</th>\n",
       "      <th>InChI</th>\n",
       "      <th>smiles</th>\n",
       "    </tr>\n",
       "  </thead>\n",
       "  <tbody>\n",
       "    <tr>\n",
       "      <th>0</th>\n",
       "      <td>JCP2022_000001</td>\n",
       "      <td>AAAHWCWPZPSPIW-UHFFFAOYSA-N</td>\n",
       "      <td>InChI=1S/C25H31N5O2/c1-4-23-26-14-16-30(23)24-...</td>\n",
       "      <td>CCC1=NC=CN1c2cccc(n2)C3CCCN3C(=O)c4ccc(cc4)OCC...</td>\n",
       "    </tr>\n",
       "    <tr>\n",
       "      <th>1</th>\n",
       "      <td>JCP2022_000002</td>\n",
       "      <td>AAAJHRMBUHXWLD-UHFFFAOYSA-N</td>\n",
       "      <td>InChI=1S/C11H13ClN2O/c12-10-4-2-9(3-5-10)8-14-...</td>\n",
       "      <td>OC1=NCCCN1Cc2ccc(Cl)cc2</td>\n",
       "    </tr>\n",
       "    <tr>\n",
       "      <th>2</th>\n",
       "      <td>JCP2022_000003</td>\n",
       "      <td>AAALVYBICLMAMA-UHFFFAOYSA-N</td>\n",
       "      <td>InChI=1S/C20H15N3O2/c24-19-15-11-17(21-13-7-3-...</td>\n",
       "      <td>OC2=NC(=O)c3cc(Nc1ccccc1)c(cc23)Nc4ccccc4</td>\n",
       "    </tr>\n",
       "    <tr>\n",
       "      <th>3</th>\n",
       "      <td>JCP2022_000004</td>\n",
       "      <td>AAANUZMCJQUYNX-UHFFFAOYSA-N</td>\n",
       "      <td>InChI=1S/C13H22N4O2S/c1-2-7-16-13(5-6-15-16)20...</td>\n",
       "      <td>CCCN1N=CC=C1S(=O)(=O)N2CC3CNCC2CC3</td>\n",
       "    </tr>\n",
       "    <tr>\n",
       "      <th>4</th>\n",
       "      <td>JCP2022_000005</td>\n",
       "      <td>AAAQFGUYHFJNHI-UHFFFAOYSA-N</td>\n",
       "      <td>InChI=1S/C22H22ClN5O2/c1-4-24-20(29)12-18-22-2...</td>\n",
       "      <td>CCN=C(O)CC3N=C(c1ccc(Cl)cc1)c2cc(ccc2N4C(C)=NN...</td>\n",
       "    </tr>\n",
       "  </tbody>\n",
       "</table>\n",
       "</div>"
      ],
      "text/plain": [
       "          JCP2022                     InChIKey                                              InChI                                             smiles\n",
       "0  JCP2022_000001  AAAHWCWPZPSPIW-UHFFFAOYSA-N  InChI=1S/C25H31N5O2/c1-4-23-26-14-16-30(23)24-...  CCC1=NC=CN1c2cccc(n2)C3CCCN3C(=O)c4ccc(cc4)OCC...\n",
       "1  JCP2022_000002  AAAJHRMBUHXWLD-UHFFFAOYSA-N  InChI=1S/C11H13ClN2O/c12-10-4-2-9(3-5-10)8-14-...                            OC1=NCCCN1Cc2ccc(Cl)cc2\n",
       "2  JCP2022_000003  AAALVYBICLMAMA-UHFFFAOYSA-N  InChI=1S/C20H15N3O2/c24-19-15-11-17(21-13-7-3-...          OC2=NC(=O)c3cc(Nc1ccccc1)c(cc23)Nc4ccccc4\n",
       "3  JCP2022_000004  AAANUZMCJQUYNX-UHFFFAOYSA-N  InChI=1S/C13H22N4O2S/c1-2-7-16-13(5-6-15-16)20...                 CCCN1N=CC=C1S(=O)(=O)N2CC3CNCC2CC3\n",
       "4  JCP2022_000005  AAAQFGUYHFJNHI-UHFFFAOYSA-N  InChI=1S/C22H22ClN5O2/c1-4-24-20(29)12-18-22-2...  CCN=C(O)CC3N=C(c1ccc(Cl)cc1)c2cc(ccc2N4C(C)=NN..."
      ]
     },
     "execution_count": 14,
     "metadata": {},
     "output_type": "execute_result"
    }
   ],
   "source": [
    "df1 = pd.read_csv(compoundMetadataOutputFile)\n",
    "df1.info()\n",
    "df1.head(5)"
   ]
  },
  {
   "cell_type": "markdown",
   "id": "d7f258cd",
   "metadata": {},
   "source": [
    "## Read metadata file and drop rows with NaN / None"
   ]
  },
  {
   "cell_type": "code",
   "execution_count": 5,
   "id": "168af79f",
   "metadata": {
    "ExecuteTime": {
     "end_time": "2023-05-24T15:14:35.741706Z",
     "start_time": "2023-05-24T15:14:35.469724Z"
    },
    "scrolled": true
   },
   "outputs": [
    {
     "name": "stdout",
     "output_type": "stream",
     "text": [
      "<class 'pandas.core.frame.DataFrame'>\n",
      "RangeIndex: 116753 entries, 0 to 116752\n",
      "Data columns (total 4 columns):\n",
      " #   Column    Non-Null Count   Dtype \n",
      "---  ------    --------------   ----- \n",
      " 0   JCP2022   116753 non-null  object\n",
      " 1   InChIKey  116752 non-null  object\n",
      " 2   InChI     116752 non-null  object\n",
      " 3   smiles    116751 non-null  object\n",
      "dtypes: object(4)\n",
      "memory usage: 3.6+ MB\n",
      "None\n",
      "          JCP2022                     InChIKey                                              InChI                                             smiles\n",
      "0  JCP2022_000001  AAAHWCWPZPSPIW-UHFFFAOYSA-N  InChI=1S/C25H31N5O2/c1-4-23-26-14-16-30(23)24-...  CCC1=NC=CN1c2cccc(n2)C3CCCN3C(=O)c4ccc(cc4)OCC...\n",
      "1  JCP2022_000002  AAAJHRMBUHXWLD-UHFFFAOYSA-N  InChI=1S/C11H13ClN2O/c12-10-4-2-9(3-5-10)8-14-...                            OC1=NCCCN1Cc2ccc(Cl)cc2\n",
      "2  JCP2022_000003  AAALVYBICLMAMA-UHFFFAOYSA-N  InChI=1S/C20H15N3O2/c24-19-15-11-17(21-13-7-3-...          OC2=NC(=O)c3cc(Nc1ccccc1)c(cc23)Nc4ccccc4\n",
      "               JCP2022                     InChIKey                                              InChI                                             smiles\n",
      "116750  JCP2022_116752  ZZZZIBSVRUABIA-UHFFFAOYSA-N  InChI=1S/C19H13F6N3O2S/c1-11-26-6-5-17(27-11)1...  Cc1nccc(n1)c2cccc(c2)NS(=O)(=O)c3cc(cc(c3)C(F)...\n",
      "116751  JCP2022_116753  ZZZZVNLQWWXZTQ-UHFFFAOYSA-N  InChI=1S/C14H20N2O3/c1-18-13-5-3-2-4-12(13)14(...                         COc1ccccc1C(O)=NCCN2CCOCC2\n",
      "116752  JCP2022_999999                          NaN                                                NaN                                                NaN\n"
     ]
    }
   ],
   "source": [
    "df = pd.read_csv(compoundMetadataOutputFile)\n",
    "print(df.info())\n",
    "print(df.head(3))\n",
    "print(df.tail(3))\n"
   ]
  },
  {
   "cell_type": "markdown",
   "id": "dffbd848",
   "metadata": {},
   "source": [
    "### Remove rows with  Nan in any column"
   ]
  },
  {
   "cell_type": "code",
   "execution_count": 6,
   "id": "f8a4c676",
   "metadata": {
    "ExecuteTime": {
     "end_time": "2023-05-24T15:15:27.121533Z",
     "start_time": "2023-05-24T15:15:27.101366Z"
    }
   },
   "outputs": [
    {
     "data": {
      "text/html": [
       "<div>\n",
       "<style scoped>\n",
       "    .dataframe tbody tr th:only-of-type {\n",
       "        vertical-align: middle;\n",
       "    }\n",
       "\n",
       "    .dataframe tbody tr th {\n",
       "        vertical-align: top;\n",
       "    }\n",
       "\n",
       "    .dataframe thead th {\n",
       "        text-align: right;\n",
       "    }\n",
       "</style>\n",
       "<table border=\"1\" class=\"dataframe\">\n",
       "  <thead>\n",
       "    <tr style=\"text-align: right;\">\n",
       "      <th></th>\n",
       "      <th>JCP2022</th>\n",
       "      <th>InChIKey</th>\n",
       "      <th>InChI</th>\n",
       "      <th>smiles</th>\n",
       "    </tr>\n",
       "  </thead>\n",
       "  <tbody>\n",
       "    <tr>\n",
       "      <th>65738</th>\n",
       "      <td>JCP2022_065740</td>\n",
       "      <td>ORYDPOVDJJZGHQ-UHFFFAOYSA-N</td>\n",
       "      <td>InChI=1S/C7H6N4O2/c8-7-9-11(13)6-4-2-1-3-5(6)1...</td>\n",
       "      <td>NaN</td>\n",
       "    </tr>\n",
       "    <tr>\n",
       "      <th>116752</th>\n",
       "      <td>JCP2022_999999</td>\n",
       "      <td>NaN</td>\n",
       "      <td>NaN</td>\n",
       "      <td>NaN</td>\n",
       "    </tr>\n",
       "  </tbody>\n",
       "</table>\n",
       "</div>"
      ],
      "text/plain": [
       "               JCP2022                     InChIKey                                              InChI smiles\n",
       "65738   JCP2022_065740  ORYDPOVDJJZGHQ-UHFFFAOYSA-N  InChI=1S/C7H6N4O2/c8-7-9-11(13)6-4-2-1-3-5(6)1...    NaN\n",
       "116752  JCP2022_999999                          NaN                                                NaN    NaN"
      ]
     },
     "execution_count": 6,
     "metadata": {},
     "output_type": "execute_result"
    },
    {
     "data": {
      "text/plain": [
       "116753"
      ]
     },
     "execution_count": 6,
     "metadata": {},
     "output_type": "execute_result"
    }
   ],
   "source": [
    "df[df['smiles'].isna()]\n",
    "len(df)"
   ]
  },
  {
   "cell_type": "code",
   "execution_count": 7,
   "id": "a8f286b6",
   "metadata": {
    "ExecuteTime": {
     "end_time": "2023-05-24T15:15:32.301446Z",
     "start_time": "2023-05-24T15:15:32.273603Z"
    }
   },
   "outputs": [
    {
     "data": {
      "text/plain": [
       "116751"
      ]
     },
     "execution_count": 7,
     "metadata": {},
     "output_type": "execute_result"
    }
   ],
   "source": [
    "df.dropna(axis=0, subset='smiles', inplace=True)\n",
    "len(df)"
   ]
  },
  {
   "cell_type": "code",
   "execution_count": 8,
   "id": "5825da52",
   "metadata": {
    "ExecuteTime": {
     "end_time": "2023-05-24T15:15:35.385002Z",
     "start_time": "2023-05-24T15:15:35.350018Z"
    }
   },
   "outputs": [
    {
     "name": "stdout",
     "output_type": "stream",
     "text": [
      "<class 'pandas.core.frame.DataFrame'>\n",
      "Index: 116751 entries, 0 to 116751\n",
      "Data columns (total 4 columns):\n",
      " #   Column    Non-Null Count   Dtype \n",
      "---  ------    --------------   ----- \n",
      " 0   JCP2022   116751 non-null  object\n",
      " 1   InChIKey  116751 non-null  object\n",
      " 2   InChI     116751 non-null  object\n",
      " 3   smiles    116751 non-null  object\n",
      "dtypes: object(4)\n",
      "memory usage: 4.5+ MB\n"
     ]
    },
    {
     "data": {
      "text/html": [
       "<div>\n",
       "<style scoped>\n",
       "    .dataframe tbody tr th:only-of-type {\n",
       "        vertical-align: middle;\n",
       "    }\n",
       "\n",
       "    .dataframe tbody tr th {\n",
       "        vertical-align: top;\n",
       "    }\n",
       "\n",
       "    .dataframe thead th {\n",
       "        text-align: right;\n",
       "    }\n",
       "</style>\n",
       "<table border=\"1\" class=\"dataframe\">\n",
       "  <thead>\n",
       "    <tr style=\"text-align: right;\">\n",
       "      <th></th>\n",
       "      <th>JCP2022</th>\n",
       "      <th>InChIKey</th>\n",
       "      <th>InChI</th>\n",
       "      <th>smiles</th>\n",
       "    </tr>\n",
       "  </thead>\n",
       "  <tbody>\n",
       "    <tr>\n",
       "      <th>65736</th>\n",
       "      <td>JCP2022_065738</td>\n",
       "      <td>ORYBDSTVITXLOM-UHFFFAOYSA-N</td>\n",
       "      <td>InChI=1S/C14H12IN5O3/c1-19(2)11-7-10(16-9-5-3-...</td>\n",
       "      <td>CN(C)C2=CC(Nc1ccc(I)cc1)=C(C3=NON=C23)[N+]([O-...</td>\n",
       "    </tr>\n",
       "    <tr>\n",
       "      <th>65737</th>\n",
       "      <td>JCP2022_065739</td>\n",
       "      <td>ORYBLTNNDMTRNX-UHFFFAOYSA-N</td>\n",
       "      <td>InChI=1S/C25H31FN2O4/c1-25(30)11-14-28(18-23(2...</td>\n",
       "      <td>CC1(O)CCN(CC1Oc2cccc(F)c2)C(=O)c3ccc(cc3)OCCN4...</td>\n",
       "    </tr>\n",
       "    <tr>\n",
       "      <th>65739</th>\n",
       "      <td>JCP2022_065741</td>\n",
       "      <td>ORYHMBVHFGOAIX-UHFFFAOYSA-N</td>\n",
       "      <td>InChI=1S/C21H22N4O3S/c1-16-7-8-17(15-20(16)29(...</td>\n",
       "      <td>Cc1ccc(cc1S(=O)(=O)N2CCOCC2)C4C=CC(=Nc3ccccc3)...</td>\n",
       "    </tr>\n",
       "    <tr>\n",
       "      <th>65740</th>\n",
       "      <td>JCP2022_065742</td>\n",
       "      <td>ORYIJHQLVLSPRM-UHFFFAOYSA-N</td>\n",
       "      <td>InChI=1S/C19H23ClN2O2/c1-13-11-18(19(24)12-21-...</td>\n",
       "      <td>CC2=CC(C(=O)CN1CCC(O)CC1)=C(C)N2c3ccc(Cl)cc3</td>\n",
       "    </tr>\n",
       "  </tbody>\n",
       "</table>\n",
       "</div>"
      ],
      "text/plain": [
       "              JCP2022                     InChIKey                                              InChI                                             smiles\n",
       "65736  JCP2022_065738  ORYBDSTVITXLOM-UHFFFAOYSA-N  InChI=1S/C14H12IN5O3/c1-19(2)11-7-10(16-9-5-3-...  CN(C)C2=CC(Nc1ccc(I)cc1)=C(C3=NON=C23)[N+]([O-...\n",
       "65737  JCP2022_065739  ORYBLTNNDMTRNX-UHFFFAOYSA-N  InChI=1S/C25H31FN2O4/c1-25(30)11-14-28(18-23(2...  CC1(O)CCN(CC1Oc2cccc(F)c2)C(=O)c3ccc(cc3)OCCN4...\n",
       "65739  JCP2022_065741  ORYHMBVHFGOAIX-UHFFFAOYSA-N  InChI=1S/C21H22N4O3S/c1-16-7-8-17(15-20(16)29(...  Cc1ccc(cc1S(=O)(=O)N2CCOCC2)C4C=CC(=Nc3ccccc3)...\n",
       "65740  JCP2022_065742  ORYIJHQLVLSPRM-UHFFFAOYSA-N  InChI=1S/C19H23ClN2O2/c1-13-11-18(19(24)12-21-...       CC2=CC(C(=O)CN1CCC(O)CC1)=C(C)N2c3ccc(Cl)cc3"
      ]
     },
     "execution_count": 8,
     "metadata": {},
     "output_type": "execute_result"
    },
    {
     "data": {
      "text/html": [
       "<div>\n",
       "<style scoped>\n",
       "    .dataframe tbody tr th:only-of-type {\n",
       "        vertical-align: middle;\n",
       "    }\n",
       "\n",
       "    .dataframe tbody tr th {\n",
       "        vertical-align: top;\n",
       "    }\n",
       "\n",
       "    .dataframe thead th {\n",
       "        text-align: right;\n",
       "    }\n",
       "</style>\n",
       "<table border=\"1\" class=\"dataframe\">\n",
       "  <thead>\n",
       "    <tr style=\"text-align: right;\">\n",
       "      <th></th>\n",
       "      <th>JCP2022</th>\n",
       "      <th>InChIKey</th>\n",
       "      <th>InChI</th>\n",
       "      <th>smiles</th>\n",
       "    </tr>\n",
       "  </thead>\n",
       "  <tbody>\n",
       "    <tr>\n",
       "      <th>116750</th>\n",
       "      <td>JCP2022_116752</td>\n",
       "      <td>ZZZZIBSVRUABIA-UHFFFAOYSA-N</td>\n",
       "      <td>InChI=1S/C19H13F6N3O2S/c1-11-26-6-5-17(27-11)1...</td>\n",
       "      <td>Cc1nccc(n1)c2cccc(c2)NS(=O)(=O)c3cc(cc(c3)C(F)...</td>\n",
       "    </tr>\n",
       "    <tr>\n",
       "      <th>116751</th>\n",
       "      <td>JCP2022_116753</td>\n",
       "      <td>ZZZZVNLQWWXZTQ-UHFFFAOYSA-N</td>\n",
       "      <td>InChI=1S/C14H20N2O3/c1-18-13-5-3-2-4-12(13)14(...</td>\n",
       "      <td>COc1ccccc1C(O)=NCCN2CCOCC2</td>\n",
       "    </tr>\n",
       "  </tbody>\n",
       "</table>\n",
       "</div>"
      ],
      "text/plain": [
       "               JCP2022                     InChIKey                                              InChI                                             smiles\n",
       "116750  JCP2022_116752  ZZZZIBSVRUABIA-UHFFFAOYSA-N  InChI=1S/C19H13F6N3O2S/c1-11-26-6-5-17(27-11)1...  Cc1nccc(n1)c2cccc(c2)NS(=O)(=O)c3cc(cc(c3)C(F)...\n",
       "116751  JCP2022_116753  ZZZZVNLQWWXZTQ-UHFFFAOYSA-N  InChI=1S/C14H20N2O3/c1-18-13-5-3-2-4-12(13)14(...                         COc1ccccc1C(O)=NCCN2CCOCC2"
      ]
     },
     "execution_count": 8,
     "metadata": {},
     "output_type": "execute_result"
    }
   ],
   "source": [
    "df.info()\n",
    "df.loc[65736:65740]\n",
    "df[116749:]"
   ]
  },
  {
   "cell_type": "markdown",
   "id": "e8a6cc9a",
   "metadata": {},
   "source": [
    "### Reindex and check "
   ]
  },
  {
   "cell_type": "code",
   "execution_count": 9,
   "id": "3dbc949a",
   "metadata": {
    "ExecuteTime": {
     "end_time": "2023-05-24T15:15:42.795962Z",
     "start_time": "2023-05-24T15:15:42.770145Z"
    }
   },
   "outputs": [
    {
     "data": {
      "text/html": [
       "<div>\n",
       "<style scoped>\n",
       "    .dataframe tbody tr th:only-of-type {\n",
       "        vertical-align: middle;\n",
       "    }\n",
       "\n",
       "    .dataframe tbody tr th {\n",
       "        vertical-align: top;\n",
       "    }\n",
       "\n",
       "    .dataframe thead th {\n",
       "        text-align: right;\n",
       "    }\n",
       "</style>\n",
       "<table border=\"1\" class=\"dataframe\">\n",
       "  <thead>\n",
       "    <tr style=\"text-align: right;\">\n",
       "      <th></th>\n",
       "      <th>index</th>\n",
       "      <th>JCP2022</th>\n",
       "      <th>InChIKey</th>\n",
       "      <th>InChI</th>\n",
       "      <th>smiles</th>\n",
       "    </tr>\n",
       "  </thead>\n",
       "  <tbody>\n",
       "    <tr>\n",
       "      <th>65736</th>\n",
       "      <td>65736</td>\n",
       "      <td>JCP2022_065738</td>\n",
       "      <td>ORYBDSTVITXLOM-UHFFFAOYSA-N</td>\n",
       "      <td>InChI=1S/C14H12IN5O3/c1-19(2)11-7-10(16-9-5-3-...</td>\n",
       "      <td>CN(C)C2=CC(Nc1ccc(I)cc1)=C(C3=NON=C23)[N+]([O-...</td>\n",
       "    </tr>\n",
       "    <tr>\n",
       "      <th>65737</th>\n",
       "      <td>65737</td>\n",
       "      <td>JCP2022_065739</td>\n",
       "      <td>ORYBLTNNDMTRNX-UHFFFAOYSA-N</td>\n",
       "      <td>InChI=1S/C25H31FN2O4/c1-25(30)11-14-28(18-23(2...</td>\n",
       "      <td>CC1(O)CCN(CC1Oc2cccc(F)c2)C(=O)c3ccc(cc3)OCCN4...</td>\n",
       "    </tr>\n",
       "    <tr>\n",
       "      <th>65738</th>\n",
       "      <td>65739</td>\n",
       "      <td>JCP2022_065741</td>\n",
       "      <td>ORYHMBVHFGOAIX-UHFFFAOYSA-N</td>\n",
       "      <td>InChI=1S/C21H22N4O3S/c1-16-7-8-17(15-20(16)29(...</td>\n",
       "      <td>Cc1ccc(cc1S(=O)(=O)N2CCOCC2)C4C=CC(=Nc3ccccc3)...</td>\n",
       "    </tr>\n",
       "    <tr>\n",
       "      <th>65739</th>\n",
       "      <td>65740</td>\n",
       "      <td>JCP2022_065742</td>\n",
       "      <td>ORYIJHQLVLSPRM-UHFFFAOYSA-N</td>\n",
       "      <td>InChI=1S/C19H23ClN2O2/c1-13-11-18(19(24)12-21-...</td>\n",
       "      <td>CC2=CC(C(=O)CN1CCC(O)CC1)=C(C)N2c3ccc(Cl)cc3</td>\n",
       "    </tr>\n",
       "    <tr>\n",
       "      <th>65740</th>\n",
       "      <td>65741</td>\n",
       "      <td>JCP2022_065743</td>\n",
       "      <td>ORYLUUJGYCTHAQ-UHFFFAOYSA-N</td>\n",
       "      <td>InChI=1S/C20H21N3O3/c1-13-5-4-6-16(9-13)20-22-...</td>\n",
       "      <td>Cc1cccc(c1)C3=NOC(CN=C(O)COc2ccc(C)c(C)c2)=N3</td>\n",
       "    </tr>\n",
       "  </tbody>\n",
       "</table>\n",
       "</div>"
      ],
      "text/plain": [
       "       index         JCP2022                     InChIKey                                              InChI                                             smiles\n",
       "65736  65736  JCP2022_065738  ORYBDSTVITXLOM-UHFFFAOYSA-N  InChI=1S/C14H12IN5O3/c1-19(2)11-7-10(16-9-5-3-...  CN(C)C2=CC(Nc1ccc(I)cc1)=C(C3=NON=C23)[N+]([O-...\n",
       "65737  65737  JCP2022_065739  ORYBLTNNDMTRNX-UHFFFAOYSA-N  InChI=1S/C25H31FN2O4/c1-25(30)11-14-28(18-23(2...  CC1(O)CCN(CC1Oc2cccc(F)c2)C(=O)c3ccc(cc3)OCCN4...\n",
       "65738  65739  JCP2022_065741  ORYHMBVHFGOAIX-UHFFFAOYSA-N  InChI=1S/C21H22N4O3S/c1-16-7-8-17(15-20(16)29(...  Cc1ccc(cc1S(=O)(=O)N2CCOCC2)C4C=CC(=Nc3ccccc3)...\n",
       "65739  65740  JCP2022_065742  ORYIJHQLVLSPRM-UHFFFAOYSA-N  InChI=1S/C19H23ClN2O2/c1-13-11-18(19(24)12-21-...       CC2=CC(C(=O)CN1CCC(O)CC1)=C(C)N2c3ccc(Cl)cc3\n",
       "65740  65741  JCP2022_065743  ORYLUUJGYCTHAQ-UHFFFAOYSA-N  InChI=1S/C20H21N3O3/c1-13-5-4-6-16(9-13)20-22-...      Cc1cccc(c1)C3=NOC(CN=C(O)COc2ccc(C)c(C)c2)=N3"
      ]
     },
     "execution_count": 9,
     "metadata": {},
     "output_type": "execute_result"
    },
    {
     "data": {
      "text/html": [
       "<div>\n",
       "<style scoped>\n",
       "    .dataframe tbody tr th:only-of-type {\n",
       "        vertical-align: middle;\n",
       "    }\n",
       "\n",
       "    .dataframe tbody tr th {\n",
       "        vertical-align: top;\n",
       "    }\n",
       "\n",
       "    .dataframe thead th {\n",
       "        text-align: right;\n",
       "    }\n",
       "</style>\n",
       "<table border=\"1\" class=\"dataframe\">\n",
       "  <thead>\n",
       "    <tr style=\"text-align: right;\">\n",
       "      <th></th>\n",
       "      <th>index</th>\n",
       "      <th>JCP2022</th>\n",
       "      <th>InChIKey</th>\n",
       "      <th>InChI</th>\n",
       "      <th>smiles</th>\n",
       "    </tr>\n",
       "  </thead>\n",
       "  <tbody>\n",
       "    <tr>\n",
       "      <th>116749</th>\n",
       "      <td>116750</td>\n",
       "      <td>JCP2022_116752</td>\n",
       "      <td>ZZZZIBSVRUABIA-UHFFFAOYSA-N</td>\n",
       "      <td>InChI=1S/C19H13F6N3O2S/c1-11-26-6-5-17(27-11)1...</td>\n",
       "      <td>Cc1nccc(n1)c2cccc(c2)NS(=O)(=O)c3cc(cc(c3)C(F)...</td>\n",
       "    </tr>\n",
       "    <tr>\n",
       "      <th>116750</th>\n",
       "      <td>116751</td>\n",
       "      <td>JCP2022_116753</td>\n",
       "      <td>ZZZZVNLQWWXZTQ-UHFFFAOYSA-N</td>\n",
       "      <td>InChI=1S/C14H20N2O3/c1-18-13-5-3-2-4-12(13)14(...</td>\n",
       "      <td>COc1ccccc1C(O)=NCCN2CCOCC2</td>\n",
       "    </tr>\n",
       "  </tbody>\n",
       "</table>\n",
       "</div>"
      ],
      "text/plain": [
       "         index         JCP2022                     InChIKey                                              InChI                                             smiles\n",
       "116749  116750  JCP2022_116752  ZZZZIBSVRUABIA-UHFFFAOYSA-N  InChI=1S/C19H13F6N3O2S/c1-11-26-6-5-17(27-11)1...  Cc1nccc(n1)c2cccc(c2)NS(=O)(=O)c3cc(cc(c3)C(F)...\n",
       "116750  116751  JCP2022_116753  ZZZZVNLQWWXZTQ-UHFFFAOYSA-N  InChI=1S/C14H20N2O3/c1-18-13-5-3-2-4-12(13)14(...                         COc1ccccc1C(O)=NCCN2CCOCC2"
      ]
     },
     "execution_count": 9,
     "metadata": {},
     "output_type": "execute_result"
    }
   ],
   "source": [
    "df.reset_index(inplace = True)\n",
    "df.loc[65736:65740]\n",
    "df.loc[116749:]"
   ]
  },
  {
   "cell_type": "markdown",
   "id": "1c459440",
   "metadata": {},
   "source": [
    "### Write cleaned dataframe to CSV file `./input/cp_compound_metadata_clean.csv`"
   ]
  },
  {
   "cell_type": "code",
   "execution_count": 12,
   "id": "40852ddf",
   "metadata": {
    "ExecuteTime": {
     "end_time": "2023-05-24T15:17:24.377846Z",
     "start_time": "2023-05-24T15:17:24.365603Z"
    }
   },
   "outputs": [
    {
     "name": "stdout",
     "output_type": "stream",
     "text": [
      " compound Metadata Output File  : ./output/cp_compound_metadata_clean.csv\n",
      "\n"
     ]
    }
   ],
   "source": [
    "print(f\" compound Metadata Output File  : {compoundMetadataOutputFile_2}\\n\")"
   ]
  },
  {
   "cell_type": "code",
   "execution_count": 13,
   "id": "f591bbfd",
   "metadata": {
    "ExecuteTime": {
     "end_time": "2023-05-24T15:17:27.650881Z",
     "start_time": "2023-05-24T15:17:27.321706Z"
    }
   },
   "outputs": [],
   "source": [
    "df.to_csv(compoundMetadataOutputFile, index = False)"
   ]
  },
  {
   "cell_type": "markdown",
   "id": "ac039eb9",
   "metadata": {},
   "source": [
    "# Multiparallelism - append pharmacophore fingerprints to dataframe using `appendFromPubChem`"
   ]
  },
  {
   "cell_type": "markdown",
   "id": "fdaace03",
   "metadata": {},
   "source": [
    "## Read Jump-CP compound metadata file `./output/cp_compound_metadata_X.csv`"
   ]
  },
  {
   "cell_type": "code",
   "execution_count": 7,
   "id": "bf3cd3cd",
   "metadata": {
    "ExecuteTime": {
     "end_time": "2023-10-03T20:10:27.878099Z",
     "start_time": "2023-10-03T20:10:27.866559Z"
    },
    "execution": {
     "iopub.execute_input": "2023-11-09T21:58:15.609119Z",
     "iopub.status.busy": "2023-11-09T21:58:15.608867Z",
     "iopub.status.idle": "2023-11-09T21:58:15.621734Z",
     "shell.execute_reply": "2023-11-09T21:58:15.621039Z",
     "shell.execute_reply.started": "2023-11-09T21:58:15.609101Z"
    }
   },
   "outputs": [
    {
     "name": "stdout",
     "output_type": "stream",
     "text": [
      " prefix                          : CP\n",
      " compound Metadata Input File    : ./input/JUMP-CP_compound_library.csv\n",
      " compound Pharmacophore File     : ./output_03102023/cp_compound_pharmacophores_sparse.pkl\n"
     ]
    }
   ],
   "source": [
    "print(f\" prefix                          : {prefix}\" )\n",
    "print(f\" compound Metadata Input File    : {compoundMetadataInputFile}\")\n",
    "# print(f\" compound Metadata Output File   : {compoundMetadataOutputFile}\")\n",
    "# print(f\" compound Metadata Output File 2 : {compoundMetadataOutputFile_2}\")\n",
    "# print(f\" compound Metadata Output File 3 : {compoundMetadataOutputFile_3}\")\n",
    "print(f\" compound Pharmacophore File     : {compoundPharmacophoreFile}\")"
   ]
  },
  {
   "cell_type": "code",
   "execution_count": 8,
   "id": "502b72da",
   "metadata": {
    "ExecuteTime": {
     "end_time": "2023-10-03T20:10:35.188355Z",
     "start_time": "2023-10-03T20:10:34.841155Z"
    },
    "scrolled": true
   },
   "outputs": [
    {
     "name": "stdout",
     "output_type": "stream",
     "text": [
      "<class 'pandas.core.frame.DataFrame'>\n",
      "RangeIndex: 116751 entries, 0 to 116750\n",
      "Data columns (total 5 columns):\n",
      " #   Column    Non-Null Count   Dtype \n",
      "---  ------    --------------   ----- \n",
      " 0   index     116751 non-null  int64 \n",
      " 1   JCP2022   116751 non-null  object\n",
      " 2   InChIKey  116751 non-null  object\n",
      " 3   InChI     116751 non-null  object\n",
      " 4   smiles    116751 non-null  object\n",
      "dtypes: int64(1), object(4)\n",
      "memory usage: 4.5+ MB\n",
      "None\n",
      "   index         JCP2022                     InChIKey                                              InChI                                             smiles\n",
      "0      0  JCP2022_000001  AAAHWCWPZPSPIW-UHFFFAOYSA-N  InChI=1S/C25H31N5O2/c1-4-23-26-14-16-30(23)24-...  CCC1=NC=CN1c2cccc(n2)C3CCCN3C(=O)c4ccc(cc4)OCC...\n",
      "1      1  JCP2022_000002  AAAJHRMBUHXWLD-UHFFFAOYSA-N  InChI=1S/C11H13ClN2O/c12-10-4-2-9(3-5-10)8-14-...                            OC1=NCCCN1Cc2ccc(Cl)cc2\n",
      "2      2  JCP2022_000003  AAALVYBICLMAMA-UHFFFAOYSA-N  InChI=1S/C20H15N3O2/c24-19-15-11-17(21-13-7-3-...          OC2=NC(=O)c3cc(Nc1ccccc1)c(cc23)Nc4ccccc4\n",
      "         index         JCP2022                     InChIKey                                              InChI                                             smiles\n",
      "116748  116749  JCP2022_116751  ZZZUOLMMTJKOGE-UHFFFAOYSA-N  InChI=1S/C19H17N5O2/c1-23-9-6-13-7-10-24(19(26...      CN4C=CC3C=CN(CCN=C(O)c2cnc1ccccc1n2)C(=O)C=34\n",
      "116749  116750  JCP2022_116752  ZZZZIBSVRUABIA-UHFFFAOYSA-N  InChI=1S/C19H13F6N3O2S/c1-11-26-6-5-17(27-11)1...  Cc1nccc(n1)c2cccc(c2)NS(=O)(=O)c3cc(cc(c3)C(F)...\n",
      "116750  116751  JCP2022_116753  ZZZZVNLQWWXZTQ-UHFFFAOYSA-N  InChI=1S/C14H20N2O3/c1-18-13-5-3-2-4-12(13)14(...                         COc1ccccc1C(O)=NCCN2CCOCC2\n"
     ]
    },
    {
     "data": {
      "text/html": [
       "<div>\n",
       "<style scoped>\n",
       "    .dataframe tbody tr th:only-of-type {\n",
       "        vertical-align: middle;\n",
       "    }\n",
       "\n",
       "    .dataframe tbody tr th {\n",
       "        vertical-align: top;\n",
       "    }\n",
       "\n",
       "    .dataframe thead th {\n",
       "        text-align: right;\n",
       "    }\n",
       "</style>\n",
       "<table border=\"1\" class=\"dataframe\">\n",
       "  <thead>\n",
       "    <tr style=\"text-align: right;\">\n",
       "      <th></th>\n",
       "      <th>index</th>\n",
       "      <th>JCP2022</th>\n",
       "      <th>InChIKey</th>\n",
       "      <th>InChI</th>\n",
       "      <th>smiles</th>\n",
       "    </tr>\n",
       "  </thead>\n",
       "  <tbody>\n",
       "  </tbody>\n",
       "</table>\n",
       "</div>"
      ],
      "text/plain": [
       "Empty DataFrame\n",
       "Columns: [index, JCP2022, InChIKey, InChI, smiles]\n",
       "Index: []"
      ]
     },
     "execution_count": 8,
     "metadata": {},
     "output_type": "execute_result"
    },
    {
     "data": {
      "text/plain": [
       "116751"
      ]
     },
     "execution_count": 8,
     "metadata": {},
     "output_type": "execute_result"
    }
   ],
   "source": [
    "df = pd.read_csv(compoundMetadataOutputFile_2)\n",
    "print(df.info())\n",
    "print(df.head(3))\n",
    "print(df.tail(3))\n",
    "df[df['smiles'].isna()]\n",
    "len(df)"
   ]
  },
  {
   "cell_type": "markdown",
   "id": "a4752030",
   "metadata": {},
   "source": [
    "### Setup parameters for multiprocessing"
   ]
  },
  {
   "cell_type": "code",
   "execution_count": 9,
   "id": "39995103",
   "metadata": {
    "ExecuteTime": {
     "end_time": "2023-10-03T20:10:37.065770Z",
     "start_time": "2023-10-03T20:10:37.052054Z"
    }
   },
   "outputs": [],
   "source": [
    "nrows = 999999\n",
    "chunksize = 10000\n",
    "progress_int = 500\n",
    "df_iterator  = pd.read_csv(compoundMetadataOutputFile_2 , nrows=nrows, header=0,  chunksize= chunksize)\n",
    "\n",
    "\n",
    "# dd = next(df_iterator)\n",
    "# type(dd)\n",
    "# dd.info()\n",
    "# dd.head(4)\n",
    "\n",
    "idx = my_enumerator()\n",
    "fn = getPharmacophoresFromRDKit\n",
    "args = zip(idx, df_iterator)\n",
    "kwargs = dict({'append_pharmacophore': True, 'progress_int':progress_int}) \n"
   ]
  },
  {
   "cell_type": "markdown",
   "id": "a158010f",
   "metadata": {},
   "source": [
    "##  multiprocessing: "
   ]
  },
  {
   "cell_type": "markdown",
   "id": "6d549114",
   "metadata": {
    "heading_collapsed": true
   },
   "source": [
    "### method 1 - calling `starmap_with_kwargs` directly "
   ]
  },
  {
   "cell_type": "code",
   "execution_count": 12,
   "id": "9ecdd468",
   "metadata": {
    "ExecuteTime": {
     "end_time": "2023-10-03T20:00:07.295970Z",
     "start_time": "2023-10-03T20:00:07.223672Z"
    },
    "hidden": true,
    "scrolled": true
   },
   "outputs": [
    {
     "name": "stdout",
     "output_type": "stream",
     "text": [
      " 13:00:07.234512 | Started \n",
      " starmap_with_kwargs_async \n",
      " processes  : 4\n",
      " fn         : <function getPharmacophoresFromRDKit at 0x7f667236a9e0>  \n",
      " args_iter  : <class 'zip'>   \n",
      " kwargs_iter: <class 'dict'> \n",
      "\n",
      " 13:00:07.284045 | starmap_with_kwargs_async() | Started \n"
     ]
    },
    {
     "name": "stderr",
     "output_type": "stream",
     "text": [
      "Process ForkPoolWorker-11:\n",
      "Process ForkPoolWorker-12:\n",
      "Process ForkPoolWorker-9:\n",
      "Process ForkPoolWorker-7:\n",
      "Process ForkPoolWorker-8:\n",
      "Process ForkPoolWorker-10:\n",
      "Traceback (most recent call last):\n",
      "Traceback (most recent call last):\n",
      "Traceback (most recent call last):\n",
      "Traceback (most recent call last):\n",
      "Traceback (most recent call last):\n",
      "  File \"/home/kbardool/miniconda3/envs/cellpainting/lib/python3.10/multiprocessing/process.py\", line 314, in _bootstrap\n",
      "    self.run()\n",
      "  File \"/home/kbardool/miniconda3/envs/cellpainting/lib/python3.10/multiprocessing/process.py\", line 314, in _bootstrap\n",
      "    self.run()\n",
      "  File \"/home/kbardool/miniconda3/envs/cellpainting/lib/python3.10/multiprocessing/process.py\", line 314, in _bootstrap\n",
      "    self.run()\n",
      "  File \"/home/kbardool/miniconda3/envs/cellpainting/lib/python3.10/multiprocessing/process.py\", line 314, in _bootstrap\n",
      "    self.run()\n",
      "  File \"/home/kbardool/miniconda3/envs/cellpainting/lib/python3.10/multiprocessing/process.py\", line 314, in _bootstrap\n",
      "    self.run()\n",
      "  File \"/home/kbardool/miniconda3/envs/cellpainting/lib/python3.10/multiprocessing/process.py\", line 108, in run\n",
      "    self._target(*self._args, **self._kwargs)\n",
      "Traceback (most recent call last):\n",
      "  File \"/home/kbardool/miniconda3/envs/cellpainting/lib/python3.10/multiprocessing/process.py\", line 108, in run\n",
      "    self._target(*self._args, **self._kwargs)\n",
      "  File \"/home/kbardool/miniconda3/envs/cellpainting/lib/python3.10/multiprocessing/process.py\", line 108, in run\n",
      "    self._target(*self._args, **self._kwargs)\n",
      "  File \"/home/kbardool/miniconda3/envs/cellpainting/lib/python3.10/multiprocessing/process.py\", line 108, in run\n",
      "    self._target(*self._args, **self._kwargs)\n",
      "  File \"/home/kbardool/miniconda3/envs/cellpainting/lib/python3.10/multiprocessing/process.py\", line 314, in _bootstrap\n",
      "    self.run()\n",
      "  File \"/home/kbardool/miniconda3/envs/cellpainting/lib/python3.10/multiprocessing/pool.py\", line 114, in worker\n",
      "    task = get()\n",
      "  File \"/home/kbardool/miniconda3/envs/cellpainting/lib/python3.10/multiprocessing/pool.py\", line 114, in worker\n",
      "    task = get()\n",
      "  File \"/home/kbardool/miniconda3/envs/cellpainting/lib/python3.10/multiprocessing/process.py\", line 108, in run\n",
      "    self._target(*self._args, **self._kwargs)\n",
      "  File \"/home/kbardool/miniconda3/envs/cellpainting/lib/python3.10/multiprocessing/pool.py\", line 114, in worker\n",
      "    task = get()\n",
      "  File \"/home/kbardool/miniconda3/envs/cellpainting/lib/python3.10/multiprocessing/process.py\", line 108, in run\n",
      "    self._target(*self._args, **self._kwargs)\n",
      "  File \"/home/kbardool/miniconda3/envs/cellpainting/lib/python3.10/multiprocessing/queues.py\", line 364, in get\n",
      "    with self._rlock:\n",
      "  File \"/home/kbardool/miniconda3/envs/cellpainting/lib/python3.10/multiprocessing/pool.py\", line 114, in worker\n",
      "    task = get()\n",
      "  File \"/home/kbardool/miniconda3/envs/cellpainting/lib/python3.10/multiprocessing/synchronize.py\", line 95, in __enter__\n",
      "    return self._semlock.__enter__()\n",
      "  File \"/home/kbardool/miniconda3/envs/cellpainting/lib/python3.10/multiprocessing/queues.py\", line 365, in get\n",
      "    res = self._reader.recv_bytes()\n",
      "KeyboardInterrupt\n",
      "  File \"/home/kbardool/miniconda3/envs/cellpainting/lib/python3.10/multiprocessing/connection.py\", line 216, in recv_bytes\n",
      "    buf = self._recv_bytes(maxlength)\n",
      "  File \"/home/kbardool/miniconda3/envs/cellpainting/lib/python3.10/multiprocessing/pool.py\", line 114, in worker\n",
      "    task = get()\n",
      "  File \"/home/kbardool/miniconda3/envs/cellpainting/lib/python3.10/multiprocessing/queues.py\", line 364, in get\n",
      "    with self._rlock:\n",
      "  File \"/home/kbardool/miniconda3/envs/cellpainting/lib/python3.10/multiprocessing/queues.py\", line 364, in get\n",
      "    with self._rlock:\n",
      "  File \"/home/kbardool/miniconda3/envs/cellpainting/lib/python3.10/multiprocessing/pool.py\", line 114, in worker\n",
      "    task = get()\n",
      "  File \"/home/kbardool/miniconda3/envs/cellpainting/lib/python3.10/multiprocessing/synchronize.py\", line 95, in __enter__\n",
      "    return self._semlock.__enter__()\n",
      "  File \"/home/kbardool/miniconda3/envs/cellpainting/lib/python3.10/multiprocessing/queues.py\", line 364, in get\n",
      "    with self._rlock:\n",
      "  File \"/home/kbardool/miniconda3/envs/cellpainting/lib/python3.10/multiprocessing/synchronize.py\", line 95, in __enter__\n",
      "    return self._semlock.__enter__()\n",
      "KeyboardInterrupt\n",
      "  File \"/home/kbardool/miniconda3/envs/cellpainting/lib/python3.10/multiprocessing/queues.py\", line 364, in get\n",
      "    with self._rlock:\n",
      "KeyboardInterrupt\n",
      "  File \"/home/kbardool/miniconda3/envs/cellpainting/lib/python3.10/multiprocessing/synchronize.py\", line 95, in __enter__\n",
      "    return self._semlock.__enter__()\n",
      "  File \"/home/kbardool/miniconda3/envs/cellpainting/lib/python3.10/multiprocessing/synchronize.py\", line 95, in __enter__\n",
      "    return self._semlock.__enter__()\n",
      "KeyboardInterrupt\n",
      "KeyboardInterrupt\n",
      "  File \"/home/kbardool/miniconda3/envs/cellpainting/lib/python3.10/multiprocessing/connection.py\", line 414, in _recv_bytes\n",
      "    buf = self._recv(4)\n",
      "  File \"/home/kbardool/miniconda3/envs/cellpainting/lib/python3.10/multiprocessing/connection.py\", line 379, in _recv\n",
      "    chunk = read(handle, remaining)\n",
      "KeyboardInterrupt\n"
     ]
    }
   ],
   "source": [
    " \n",
    "start_time = time.perf_counter()\n",
    "print(f\" {datetime.now().strftime('%X.%f')} | Started \")   \n",
    "pool = Pool(6)\n",
    "results = starmap_with_kwargs_async( pool, fn=fn, args=args, kwargs = kwargs, processes = 4)\n",
    "# result = pool.starmap_async(get_pharmacophores, enumerate(df_iterator)) \n"
   ]
  },
  {
   "cell_type": "markdown",
   "id": "f32ce9e1",
   "metadata": {
    "heading_collapsed": true
   },
   "source": [
    "### method 2 - calling `starmap_with_kwargs` directly \n",
    "\n",
    "`starmap_with_kwargs( fn, args , kwargs , pool = None):` \n",
    "\n",
    "takes a pool, function, aergs and kwargs and applies pool.starmap()"
   ]
  },
  {
   "cell_type": "code",
   "execution_count": 11,
   "id": "88eaf6db",
   "metadata": {
    "ExecuteTime": {
     "end_time": "2023-10-03T20:15:40.657561Z",
     "start_time": "2023-10-03T20:15:40.604158Z"
    },
    "hidden": true
   },
   "outputs": [
    {
     "name": "stdout",
     "output_type": "stream",
     "text": [
      " 13:15:40.615166 | Started \n"
     ]
    }
   ],
   "source": [
    " \n",
    "start_time = time.perf_counter()\n",
    "print(f\" {datetime.now().strftime('%X.%f')} | Started \")   \n",
    "pool = Pool(6)\n",
    "# results = starmap_with_kwargs( fn=fn, args=args, kwargs = kwargs)"
   ]
  },
  {
   "cell_type": "markdown",
   "id": "235b7ffa",
   "metadata": {
    "heading_collapsed": true
   },
   "source": [
    "### method 3 -  calling `pool.starmap_async()` directly \n",
    "\n",
    "this method requires passing the function to the starmap_async. Here we were calling ` getPharmacophoresFromRDKit()` "
   ]
  },
  {
   "cell_type": "code",
   "execution_count": 12,
   "id": "ccb9d92b",
   "metadata": {
    "ExecuteTime": {
     "end_time": "2023-10-03T20:16:28.394375Z",
     "start_time": "2023-10-03T20:16:28.091354Z"
    },
    "hidden": true,
    "scrolled": true
   },
   "outputs": [
    {
     "name": "stdout",
     "output_type": "stream",
     "text": [
      " 13:16:28.111667 | Started \n",
      " progress_int : 250\n",
      "\n",
      " ------------------------------------------------------------------------- \n",
      " 13:16:28.405176 | chunk_id: 0 | process started - chunk sz: 10000  append_phar: False\n",
      " ------------------------------------------------------------------------- \n",
      "\n",
      " 13:16:28.410746 | chunk_id: 0 | pharmacophore_base64 column exists\n",
      "\n",
      " 13:16:28.414189 | chunk_id: 0 | 0 rows processed  progress_int : 250\n",
      "\n",
      " ------------------------------------------------------------------------- \n",
      " 13:16:28.420270 | chunk_id: 1 | process started - chunk sz: 10000  append_phar: False\n",
      " ------------------------------------------------------------------------- \n",
      "\n",
      " 13:16:28.427575 | chunk_id: 1 | pharmacophore_base64 column exists\n",
      " progress_int : 250 13:16:28.431506 | chunk_id: 1 | 0 rows processed \n",
      "\n",
      " ------------------------------------------------------------------------- \n",
      " 13:16:28.433642 | chunk_id: 2 | process started - chunk sz: 10000  append_phar: False\n",
      " ------------------------------------------------------------------------- \n",
      "\n",
      "\n",
      " progress_int : 250 13:16:28.440181 | chunk_id: 2 | pharmacophore_base64 column exists\n",
      "\n",
      "\n",
      " ------------------------------------------------------------------------- \n",
      " 13:16:28.441612 | chunk_id: 3 | process started - chunk sz: 10000  append_phar: False\n",
      " ------------------------------------------------------------------------- \n",
      "\n",
      " 13:16:28.442886 | chunk_id: 2 | 0 rows processed \n",
      " 13:16:28.447286 | chunk_id: 3 | pharmacophore_base64 column exists\n",
      " 13:16:28.450719 | chunk_id: 3 | 0 rows processed \n",
      " progress_int : 250\n",
      "\n",
      " ------------------------------------------------------------------------- \n",
      " 13:16:28.456389 | chunk_id: 4 | process started - chunk sz: 10000  append_phar: False\n",
      " ------------------------------------------------------------------------- \n",
      "\n",
      " progress_int : 250 13:16:28.462521 | chunk_id: 4 | pharmacophore_base64 column exists\n",
      "\n",
      "\n",
      " ------------------------------------------------------------------------- \n",
      " 13:16:28.468201 | chunk_id: 5 | process started - chunk sz: 10000  append_phar: False\n",
      " ------------------------------------------------------------------------- \n",
      "\n",
      " 13:16:28.470591 | chunk_id: 4 | 0 rows processed \n",
      " 13:16:28.476041 | chunk_id: 5 | pharmacophore_base64 column exists\n",
      " 13:16:28.479482 | chunk_id: 5 | 0 rows processed \n"
     ]
    },
    {
     "name": "stderr",
     "output_type": "stream",
     "text": [
      "[13:16:28] WARNING:  Problems/mismatches: Mobile-H( Mobile-H groups: One instead of multiple, Attachment points, Number)\n",
      "\n"
     ]
    },
    {
     "name": "stdout",
     "output_type": "stream",
     "text": [
      " 13:16:29.603989 | chunk_id: 1 | 250 rows processed \n",
      " 13:16:29.627109 | chunk_id: 3 | 250 rows processed \n"
     ]
    },
    {
     "name": "stderr",
     "output_type": "stream",
     "text": [
      "[13:16:29] WARNING:  Problems/mismatches: Mobile-H( Hydrogens: Locations or number, Number; Mobile-H groups: One instead of multiple, Attachment points, Number; Charge(s): Do not match; Proton balance: Does not match)\n",
      "\n"
     ]
    },
    {
     "name": "stdout",
     "output_type": "stream",
     "text": [
      " 13:16:29.723484 | chunk_id: 2 | 250 rows processed \n",
      " 13:16:29.754227 | chunk_id: 4 | 250 rows processed \n",
      " 13:16:30.202948 | chunk_id: 5 | 250 rows processed \n",
      " 13:16:30.955367 | chunk_id: 4 | 500 rows processed \n"
     ]
    },
    {
     "name": "stderr",
     "output_type": "stream",
     "text": [
      "[13:16:30] WARNING:  Problems/mismatches: Mobile-H( Hydrogens: Locations or number; Mobile-H groups: Attachment points, Number)\n",
      "\n"
     ]
    },
    {
     "name": "stdout",
     "output_type": "stream",
     "text": [
      " 13:16:31.092209 | chunk_id: 3 | 500 rows processed \n",
      " 13:16:31.176953 | chunk_id: 1 | 500 rows processed \n",
      " 13:16:31.238481 | chunk_id: 2 | 500 rows processed \n",
      " 13:16:31.269611 | chunk_id: 0 | 250 rows processed \n",
      " 13:16:32.052890 | chunk_id: 5 | 500 rows processed \n"
     ]
    },
    {
     "name": "stderr",
     "output_type": "stream",
     "text": [
      "[13:16:32] WARNING:  Problems/mismatches: Mobile-H( Hydrogens: Locations or number; Mobile-H groups: Attachment points, Number)\n",
      "\n"
     ]
    },
    {
     "name": "stdout",
     "output_type": "stream",
     "text": [
      " 13:16:32.421013 | chunk_id: 0 | 500 rows processed \n",
      " 13:16:32.477452 | chunk_id: 3 | 750 rows processed \n",
      " 13:16:32.677143 | chunk_id: 2 | 750 rows processed \n",
      " 13:16:33.157229 | chunk_id: 1 | 750 rows processed \n",
      " 13:16:33.408094 | chunk_id: 5 | 750 rows processed \n",
      " 13:16:33.416543 | chunk_id: 4 | 750 rows processed \n"
     ]
    },
    {
     "name": "stderr",
     "output_type": "stream",
     "text": [
      "[13:16:33] WARNING:  Problems/mismatches: Mobile-H( Mobile-H groups: Attachment points, Number)\n",
      "\n"
     ]
    },
    {
     "name": "stdout",
     "output_type": "stream",
     "text": [
      " 13:16:33.796506 | chunk_id: 3 | 1000 rows processed \n"
     ]
    },
    {
     "name": "stderr",
     "output_type": "stream",
     "text": [
      "[13:16:33] WARNING:  Problems/mismatches: Mobile-H( Hydrogens: Number; Mobile-H groups: One instead of multiple, Attachment points, Number; Charge(s): Do not match)\n",
      "\n"
     ]
    },
    {
     "name": "stdout",
     "output_type": "stream",
     "text": [
      " 13:16:34.008683 | chunk_id: 2 | 1000 rows processed \n",
      " 13:16:34.324939 | chunk_id: 1 | 1000 rows processed \n",
      " 13:16:34.543476 | chunk_id: 5 | 1000 rows processed \n",
      " 13:16:34.837113 | chunk_id: 4 | 1000 rows processed \n",
      " 13:16:34.996150 | chunk_id: 3 | 1250 rows processed \n",
      " 13:16:35.207573 | chunk_id: 2 | 1250 rows processed \n",
      " 13:16:35.342868 | chunk_id: 0 | 750 rows processed \n",
      " 13:16:35.469442 | chunk_id: 1 | 1250 rows processed \n",
      " 13:16:36.051392 | chunk_id: 4 | 1250 rows processed \n"
     ]
    },
    {
     "name": "stderr",
     "output_type": "stream",
     "text": [
      "[13:16:36] Unusual charge on atom 3 number of radical electrons set to zero\n",
      "[13:16:36] WARNING:  Problems/mismatches: Mobile-H( Hydrogens: Locations or number, Number; Mobile-H groups: One instead of multiple, Attachment points, Number; Charge(s): Do not match; Proton balance: Does not match)\n",
      "\n"
     ]
    },
    {
     "name": "stdout",
     "output_type": "stream",
     "text": [
      " 13:16:36.766258 | chunk_id: 0 | 1000 rows processed \n",
      " 13:16:36.875986 | chunk_id: 1 | 1500 rows processed \n",
      " 13:16:37.020087 | chunk_id: 2 | 1500 rows processed \n"
     ]
    },
    {
     "name": "stderr",
     "output_type": "stream",
     "text": [
      "[13:16:37] WARNING:  Problems/mismatches: Mobile-H( Hydrogens: Locations or number, Number; Mobile-H groups: One instead of multiple, Attachment points, Number; Charge(s): Do not match)\n",
      "\n"
     ]
    },
    {
     "name": "stdout",
     "output_type": "stream",
     "text": [
      " 13:16:37.912041 | chunk_id: 4 | 1500 rows processed \n",
      " 13:16:38.192497 | chunk_id: 1 | 1750 rows processed \n",
      " 13:16:38.220930 | chunk_id: 0 | 1250 rows processed \n",
      " 13:16:38.390575 | chunk_id: 2 | 1750 rows processed \n",
      " 13:16:39.378647 | chunk_id: 4 | 1750 rows processed \n",
      " 13:16:39.684431 | chunk_id: 0 | 1500 rows processed \n",
      " 13:16:39.699289 | chunk_id: 2 | 2000 rows processed \n"
     ]
    },
    {
     "name": "stderr",
     "output_type": "stream",
     "text": [
      "[13:16:39] WARNING:  Problems/mismatches: Mobile-H( Hydrogens: Locations or number, Number; Mobile-H groups: One instead of multiple, Attachment points, Number; Charge(s): Do not match)\n",
      "\n"
     ]
    },
    {
     "name": "stdout",
     "output_type": "stream",
     "text": [
      " 13:16:40.564202 | chunk_id: 4 | 2000 rows processed \n",
      " 13:16:40.861634 | chunk_id: 2 | 2250 rows processed \n",
      " 13:16:41.936578 | chunk_id: 4 | 2250 rows processed \n",
      " 13:16:42.037150 | chunk_id: 2 | 2500 rows processed \n",
      " 13:16:42.167600 | chunk_id: 0 | 1750 rows processed \n",
      " 13:16:43.471977 | chunk_id: 1 | 2000 rows processed \n",
      " 13:16:43.523643 | chunk_id: 0 | 2000 rows processed \n",
      " 13:16:43.636168 | chunk_id: 2 | 2750 rows processed \n",
      " 13:16:43.803385 | chunk_id: 4 | 2500 rows processed \n",
      " 13:16:44.637420 | chunk_id: 0 | 2250 rows processed \n",
      " 13:16:44.797068 | chunk_id: 1 | 2250 rows processed \n",
      " 13:16:44.822960 | chunk_id: 2 | 3000 rows processed \n",
      " 13:16:44.972279 | chunk_id: 4 | 2750 rows processed \n",
      " 13:16:46.096421 | chunk_id: 0 | 2500 rows processed \n",
      " 13:16:46.203257 | chunk_id: 2 | 3250 rows processed \n",
      " 13:16:46.612310 | chunk_id: 1 | 2500 rows processed \n"
     ]
    },
    {
     "name": "stderr",
     "output_type": "stream",
     "text": [
      "[13:16:46] WARNING:  Problems/mismatches: Mobile-H( Hydrogens: Number; Mobile-H groups: One instead of multiple, Attachment points, Number; Charge(s): Do not match)\n",
      "\n"
     ]
    },
    {
     "name": "stdout",
     "output_type": "stream",
     "text": [
      " 13:16:47.398008 | chunk_id: 4 | 3000 rows processed \n",
      " 13:16:47.918387 | chunk_id: 2 | 3500 rows processed \n",
      " 13:16:47.985654 | chunk_id: 0 | 2750 rows processed \n",
      " 13:16:48.300537 | chunk_id: 1 | 2750 rows processed \n"
     ]
    },
    {
     "name": "stderr",
     "output_type": "stream",
     "text": [
      "[13:16:48] WARNING:  Problems/mismatches: Mobile-H( Hydrogens: Locations or number, Number; Charge(s): Do not match)\n",
      "\n"
     ]
    },
    {
     "name": "stdout",
     "output_type": "stream",
     "text": [
      " 13:16:48.610240 | chunk_id: 4 | 3250 rows processed \n",
      " 13:16:49.367605 | chunk_id: 0 | 3000 rows processed \n",
      " 13:16:49.438916 | chunk_id: 2 | 3750 rows processed \n",
      " 13:16:49.696983 | chunk_id: 1 | 3000 rows processed \n"
     ]
    },
    {
     "name": "stderr",
     "output_type": "stream",
     "text": [
      "[13:16:50] WARNING:  Problems/mismatches: Mobile-H( Mobile-H groups: Attachment points, Number)\n",
      "\n"
     ]
    },
    {
     "name": "stdout",
     "output_type": "stream",
     "text": [
      " 13:16:50.810093 | chunk_id: 1 | 3250 rows processed \n",
      " 13:16:50.951460 | chunk_id: 0 | 3250 rows processed \n",
      " 13:16:51.147097 | chunk_id: 2 | 4000 rows processed \n",
      " 13:16:52.096164 | chunk_id: 1 | 3500 rows processed \n",
      " 13:16:52.330130 | chunk_id: 0 | 3500 rows processed \n",
      " 13:16:52.391741 | chunk_id: 2 | 4250 rows processed \n"
     ]
    },
    {
     "name": "stderr",
     "output_type": "stream",
     "text": [
      "[13:16:53] WARNING:  Problems/mismatches: Mobile-H( Hydrogens: Locations or number, Number; Mobile-H groups: One instead of multiple, Attachment points, Number; Charge(s): Do not match)\n",
      "\n"
     ]
    },
    {
     "name": "stdout",
     "output_type": "stream",
     "text": [
      " 13:16:53.641584 | chunk_id: 0 | 3750 rows processed \n",
      " 13:16:53.778796 | chunk_id: 2 | 4500 rows processed \n",
      " 13:16:53.877190 | chunk_id: 1 | 3750 rows processed \n",
      " 13:16:54.985218 | chunk_id: 2 | 4750 rows processed \n",
      " 13:16:55.260819 | chunk_id: 1 | 4000 rows processed \n",
      " 13:16:55.887352 | chunk_id: 0 | 4000 rows processed \n",
      " 13:16:56.205032 | chunk_id: 2 | 5000 rows processed \n",
      " 13:16:56.658141 | chunk_id: 1 | 4250 rows processed \n",
      " 13:16:57.137725 | chunk_id: 0 | 4250 rows processed \n",
      " 13:16:58.302192 | chunk_id: 1 | 4500 rows processed \n",
      " 13:16:59.901848 | chunk_id: 1 | 4750 rows processed \n",
      " 13:17:01.046466 | chunk_id: 0 | 4500 rows processed \n",
      " 13:17:01.319230 | chunk_id: 1 | 5000 rows processed \n",
      " 13:17:02.393865 | chunk_id: 0 | 4750 rows processed \n",
      " 13:17:02.518106 | chunk_id: 2 | 5250 rows processed \n",
      " 13:17:02.567730 | chunk_id: 1 | 5250 rows processed \n",
      " 13:17:03.677547 | chunk_id: 1 | 5500 rows processed \n",
      " 13:17:03.722327 | chunk_id: 0 | 5000 rows processed \n",
      " 13:17:05.327169 | chunk_id: 1 | 5750 rows processed \n",
      " 13:17:06.485278 | chunk_id: 1 | 6000 rows processed \n",
      " 13:17:07.615300 | chunk_id: 2 | 5500 rows processed \n",
      " 13:17:08.849374 | chunk_id: 2 | 5750 rows processed \n",
      " 13:17:09.626180 | chunk_id: 1 | 6250 rows processed \n",
      " 13:17:10.798044 | chunk_id: 2 | 6000 rows processed \n",
      " 13:17:11.314618 | chunk_id: 1 | 6500 rows processed \n",
      " 13:17:12.083104 | chunk_id: 2 | 6250 rows processed \n",
      " 13:17:12.570381 | chunk_id: 1 | 6750 rows processed \n",
      " 13:17:13.368342 | chunk_id: 2 | 6500 rows processed \n",
      " 13:17:13.905060 | chunk_id: 1 | 7000 rows processed \n",
      " 13:17:14.789650 | chunk_id: 2 | 6750 rows processed \n",
      " 13:17:16.106788 | chunk_id: 2 | 7000 rows processed \n",
      " 13:17:18.077187 | chunk_id: 2 | 7250 rows processed \n",
      " 13:17:19.875715 | chunk_id: 2 | 7500 rows processed \n",
      " 13:17:21.165875 | chunk_id: 2 | 7750 rows processed \n",
      " 13:17:22.559683 | chunk_id: 2 | 8000 rows processed \n",
      " 13:17:23.911202 | chunk_id: 2 | 8250 rows processed \n",
      " 13:17:24.202367 | chunk_id: 1 | 7250 rows processed \n",
      " 13:17:25.212299 | chunk_id: 2 | 8500 rows processed \n",
      " 13:17:25.809259 | chunk_id: 1 | 7500 rows processed \n",
      " 13:17:26.807428 | chunk_id: 2 | 8750 rows processed \n",
      " 13:17:28.088377 | chunk_id: 1 | 7750 rows processed \n"
     ]
    },
    {
     "name": "stderr",
     "output_type": "stream",
     "text": [
      "[13:17:29] WARNING:  Problems/mismatches: Mobile-H( Mobile-H groups: Attachment points, Number)\n",
      "\n"
     ]
    },
    {
     "name": "stdout",
     "output_type": "stream",
     "text": [
      " 13:17:29.479837 | chunk_id: 1 | 8000 rows processed \n",
      " 13:17:29.605429 | chunk_id: 2 | 9000 rows processed \n",
      " 13:17:30.870666 | chunk_id: 1 | 8250 rows processed \n",
      " 13:17:35.026094 | chunk_id: 1 | 8500 rows processed \n",
      " 13:17:36.440659 | chunk_id: 1 | 8750 rows processed \n",
      " 13:17:37.610359 | chunk_id: 4 | 3500 rows processed \n",
      " 13:17:37.840718 | chunk_id: 1 | 9000 rows processed \n",
      " 13:17:39.091100 | chunk_id: 1 | 9250 rows processed \n",
      " 13:17:39.284184 | chunk_id: 4 | 3750 rows processed \n",
      " 13:17:40.487148 | chunk_id: 1 | 9500 rows processed \n",
      " 13:17:40.613783 | chunk_id: 5 | 1250 rows processed \n",
      " 13:17:41.786823 | chunk_id: 1 | 9750 rows processed \n",
      " 13:17:41.907083 | chunk_id: 4 | 4000 rows processed \n",
      " 13:17:42.026998 | chunk_id: 5 | 1500 rows processed \n",
      "\n",
      " ------------------------------------------------------------------------- \n",
      " Results of processing chunk 1 \n",
      " ------------------------------------------------------------------------- \n",
      "                                          Total Read :  10000\n",
      " rows with missing InChiKey in input                 :      0 \n",
      " rows with no MOL object returned from RDKit         :      0      \n",
      " rows with with valid Mol                            :  10000   \n",
      " rows with No fingerprint computed                   :      0       \n",
      " rows with with valid Mol                            :  10000   \n",
      "                                               Total :      0\n",
      " ------------------------------------------------------------------------- \n",
      " 13:17:43.271110 | chunk_id: 1 | Process end   \n",
      " ------------------------------------------------------------------------- \n",
      "\n",
      " 13:17:43.320506 | chunk_id: 4 | 4250 rows processed \n",
      " progress_int : 250\n",
      "\n",
      " ------------------------------------------------------------------------- \n",
      " 13:17:43.426751 | chunk_id: 6 | process started - chunk sz: 10000  append_phar: False\n",
      " ------------------------------------------------------------------------- \n",
      "\n",
      " 13:17:43.432369 | chunk_id: 6 | pharmacophore_base64 column exists\n",
      " 13:17:43.434407 | chunk_id: 6 | 0 rows processed \n",
      " 13:17:43.665730 | chunk_id: 5 | 1750 rows processed \n",
      " 13:17:44.640175 | chunk_id: 4 | 4500 rows processed \n",
      " 13:17:44.712383 | chunk_id: 6 | 250 rows processed \n",
      " 13:17:44.928146 | chunk_id: 2 | 9250 rows processed \n",
      " 13:17:45.059610 | chunk_id: 5 | 2000 rows processed \n",
      " 13:17:47.058708 | chunk_id: 6 | 500 rows processed \n",
      " 13:17:47.120869 | chunk_id: 5 | 2250 rows processed \n",
      " 13:17:48.030487 | chunk_id: 2 | 9500 rows processed \n",
      " 13:17:48.459601 | chunk_id: 6 | 750 rows processed \n",
      " 13:17:48.494092 | chunk_id: 5 | 2500 rows processed \n",
      " 13:17:49.919682 | chunk_id: 5 | 2750 rows processed \n",
      " 13:17:50.208922 | chunk_id: 2 | 9750 rows processed \n",
      " 13:17:50.666214 | chunk_id: 4 | 4750 rows processed \n",
      " 13:17:52.886000 | chunk_id: 4 | 5000 rows processed \n",
      " 13:17:53.208110 | chunk_id: 6 | 1000 rows processed \n",
      " 13:17:54.489026 | chunk_id: 4 | 5250 rows processed \n",
      " 13:17:55.871812 | chunk_id: 4 | 5500 rows processed \n",
      "\n",
      " ------------------------------------------------------------------------- \n",
      " Results of processing chunk 2 \n",
      " ------------------------------------------------------------------------- \n",
      "                                          Total Read :  10000\n",
      " rows with missing InChiKey in input                 :      0 \n",
      " rows with no MOL object returned from RDKit         :      0      \n",
      " rows with with valid Mol                            :  10000   \n",
      " rows with No fingerprint computed                   :      0       \n",
      " rows with with valid Mol                            :  10000   \n",
      "                                               Total :      0\n",
      " ------------------------------------------------------------------------- \n",
      " 13:17:56.035649 | chunk_id: 2 | Process end   \n",
      " ------------------------------------------------------------------------- \n",
      "\n",
      " progress_int : 250\n",
      "\n",
      " ------------------------------------------------------------------------- \n",
      " 13:17:56.192925 | chunk_id: 7 | process started - chunk sz: 10000  append_phar: False\n",
      " ------------------------------------------------------------------------- \n",
      "\n",
      " 13:17:56.198260 | chunk_id: 7 | pharmacophore_base64 column exists\n",
      " 13:17:56.200139 | chunk_id: 7 | 0 rows processed \n",
      " 13:17:57.631866 | chunk_id: 7 | 250 rows processed \n",
      " 13:17:57.847547 | chunk_id: 4 | 5750 rows processed \n",
      " 13:17:59.244599 | chunk_id: 7 | 500 rows processed \n",
      " 13:17:59.339287 | chunk_id: 4 | 6000 rows processed \n",
      " 13:18:01.040714 | chunk_id: 4 | 6250 rows processed \n",
      " 13:18:01.141612 | chunk_id: 7 | 750 rows processed \n",
      " 13:18:01.650686 | chunk_id: 5 | 3000 rows processed \n",
      " 13:18:02.385741 | chunk_id: 4 | 6500 rows processed \n",
      " 13:18:02.614231 | chunk_id: 7 | 1000 rows processed \n",
      " 13:18:03.290995 | chunk_id: 5 | 3250 rows processed \n",
      " 13:18:03.857178 | chunk_id: 4 | 6750 rows processed \n",
      " 13:18:04.279551 | chunk_id: 7 | 1250 rows processed \n"
     ]
    },
    {
     "name": "stderr",
     "output_type": "stream",
     "text": [
      "[13:18:04] WARNING:  Problems/mismatches: Mobile-H( Hydrogens: Locations or number, Number; Mobile-H groups: Attachment points, Number; Charge(s): Do not match)\n",
      "\n"
     ]
    },
    {
     "name": "stdout",
     "output_type": "stream",
     "text": [
      " 13:18:05.236491 | chunk_id: 4 | 7000 rows processed \n",
      " 13:18:06.152949 | chunk_id: 7 | 1500 rows processed \n",
      " 13:18:06.671677 | chunk_id: 4 | 7250 rows processed \n",
      " 13:18:07.690091 | chunk_id: 7 | 1750 rows processed \n",
      " 13:18:08.693267 | chunk_id: 5 | 3500 rows processed \n",
      " 13:18:09.141615 | chunk_id: 7 | 2000 rows processed \n",
      " 13:18:09.628623 | chunk_id: 4 | 7500 rows processed \n",
      " 13:18:10.355980 | chunk_id: 5 | 3750 rows processed \n",
      " 13:18:10.589071 | chunk_id: 7 | 2250 rows processed \n",
      " 13:18:11.878375 | chunk_id: 5 | 4000 rows processed \n",
      " 13:18:12.211442 | chunk_id: 7 | 2500 rows processed \n",
      " 13:18:12.654463 | chunk_id: 4 | 7750 rows processed \n",
      " 13:18:13.291389 | chunk_id: 5 | 4250 rows processed \n",
      " 13:18:14.144678 | chunk_id: 7 | 2750 rows processed \n",
      " 13:18:14.160495 | chunk_id: 4 | 8000 rows processed \n",
      " 13:18:14.835236 | chunk_id: 5 | 4500 rows processed \n",
      " 13:18:15.466451 | chunk_id: 7 | 3000 rows processed \n",
      " 13:18:16.044467 | chunk_id: 4 | 8250 rows processed \n",
      " 13:18:16.431228 | chunk_id: 5 | 4750 rows processed \n",
      " 13:18:17.524838 | chunk_id: 4 | 8500 rows processed \n",
      " 13:18:17.866233 | chunk_id: 5 | 5000 rows processed \n",
      " 13:18:19.163698 | chunk_id: 4 | 8750 rows processed \n",
      " 13:18:19.390025 | chunk_id: 5 | 5250 rows processed \n",
      " 13:18:20.496322 | chunk_id: 4 | 9000 rows processed \n",
      " 13:18:20.715630 | chunk_id: 5 | 5500 rows processed \n",
      " 13:18:22.005968 | chunk_id: 4 | 9250 rows processed \n",
      " 13:18:22.112431 | chunk_id: 5 | 5750 rows processed \n",
      " 13:18:23.475760 | chunk_id: 5 | 6000 rows processed \n",
      " 13:18:23.584288 | chunk_id: 4 | 9500 rows processed \n",
      " 13:18:24.847093 | chunk_id: 5 | 6250 rows processed \n",
      " 13:18:25.024050 | chunk_id: 4 | 9750 rows processed \n",
      " 13:18:26.245068 | chunk_id: 5 | 6500 rows processed \n",
      "\n",
      " ------------------------------------------------------------------------- \n",
      " Results of processing chunk 4 \n",
      " ------------------------------------------------------------------------- \n",
      "                                          Total Read :  10000\n",
      " rows with missing InChiKey in input                 :      0 \n",
      " rows with no MOL object returned from RDKit         :      0      \n",
      " rows with with valid Mol                            :  10000   \n",
      " rows with No fingerprint computed                   :      0       \n",
      " rows with with valid Mol                            :  10000   \n",
      "                                               Total :      0\n",
      " ------------------------------------------------------------------------- \n",
      " 13:18:26.513071 | chunk_id: 4 | Process end   \n",
      " ------------------------------------------------------------------------- \n",
      "\n",
      " progress_int : 250\n",
      "\n",
      " ------------------------------------------------------------------------- \n",
      " 13:18:26.738413 | chunk_id: 8 | process started - chunk sz: 10000  append_phar: False\n",
      " ------------------------------------------------------------------------- \n",
      "\n",
      " 13:18:26.743255 | chunk_id: 8 | pharmacophore_base64 column exists\n",
      " 13:18:26.745009 | chunk_id: 8 | 0 rows processed \n"
     ]
    },
    {
     "name": "stderr",
     "output_type": "stream",
     "text": [
      "[13:18:27] WARNING:  Problems/mismatches: Mobile-H( Hydrogens: Number; Mobile-H groups: Number; Charge(s): Do not match)\n",
      "\n"
     ]
    },
    {
     "name": "stdout",
     "output_type": "stream",
     "text": [
      " 13:18:28.155708 | chunk_id: 8 | 250 rows processed \n",
      " 13:18:28.189999 | chunk_id: 5 | 6750 rows processed \n"
     ]
    },
    {
     "name": "stderr",
     "output_type": "stream",
     "text": [
      "[13:18:29] WARNING:  Problems/mismatches: Mobile-H( Hydrogens: Locations or number, Number; Mobile-H groups: One instead of multiple, Attachment points, Number; Charge(s): Do not match)\n",
      "\n"
     ]
    },
    {
     "name": "stdout",
     "output_type": "stream",
     "text": [
      " 13:18:29.727716 | chunk_id: 5 | 7000 rows processed \n",
      " 13:18:31.008028 | chunk_id: 8 | 500 rows processed \n"
     ]
    },
    {
     "name": "stderr",
     "output_type": "stream",
     "text": [
      "[13:18:31] WARNING:  Problems/mismatches: Mobile-H( Hydrogens: Locations or number; Mobile-H groups: Missing, Attachment points)\n",
      "\n"
     ]
    },
    {
     "name": "stdout",
     "output_type": "stream",
     "text": [
      " 13:18:32.339261 | chunk_id: 5 | 7250 rows processed \n",
      " 13:18:32.490004 | chunk_id: 8 | 750 rows processed \n",
      " 13:18:33.802888 | chunk_id: 5 | 7500 rows processed \n",
      " 13:18:33.949974 | chunk_id: 8 | 1000 rows processed \n",
      " 13:18:35.428231 | chunk_id: 5 | 7750 rows processed \n",
      " 13:18:36.661164 | chunk_id: 8 | 1250 rows processed \n",
      " 13:18:37.042887 | chunk_id: 5 | 8000 rows processed \n",
      " 13:18:38.357744 | chunk_id: 5 | 8250 rows processed \n",
      " 13:18:38.600252 | chunk_id: 8 | 1500 rows processed \n",
      " 13:18:39.938608 | chunk_id: 5 | 8500 rows processed \n",
      " 13:18:41.789354 | chunk_id: 8 | 1750 rows processed \n",
      " 13:18:43.344540 | chunk_id: 8 | 2000 rows processed \n",
      " 13:18:43.544300 | chunk_id: 5 | 8750 rows processed \n",
      " 13:18:45.152208 | chunk_id: 5 | 9000 rows processed \n",
      " 13:18:46.783741 | chunk_id: 8 | 2250 rows processed \n"
     ]
    },
    {
     "name": "stderr",
     "output_type": "stream",
     "text": [
      "[13:18:46] WARNING:  Problems/mismatches: Mobile-H( Hydrogens: Locations or number; Mobile-H groups: One instead of multiple, Attachment points, Number)\n",
      "\n"
     ]
    },
    {
     "name": "stdout",
     "output_type": "stream",
     "text": [
      " 13:18:48.285940 | chunk_id: 8 | 2500 rows processed \n",
      " 13:18:50.284254 | chunk_id: 5 | 9250 rows processed \n",
      " 13:18:51.319412 | chunk_id: 8 | 2750 rows processed \n",
      " 13:18:51.766855 | chunk_id: 5 | 9500 rows processed \n",
      " 13:18:52.305044 | chunk_id: 7 | 3250 rows processed \n",
      " 13:18:53.133712 | chunk_id: 5 | 9750 rows processed \n",
      " 13:18:53.809631 | chunk_id: 7 | 3500 rows processed \n",
      "\n",
      " ------------------------------------------------------------------------- \n",
      " Results of processing chunk 5 \n",
      " ------------------------------------------------------------------------- \n",
      "                                          Total Read :  10000\n",
      " rows with missing InChiKey in input                 :      0 \n",
      " rows with no MOL object returned from RDKit         :      0      \n",
      " rows with with valid Mol                            :  10000   \n",
      " rows with No fingerprint computed                   :      0       \n",
      " rows with with valid Mol                            :  10000   \n",
      "                                               Total :      0\n",
      " ------------------------------------------------------------------------- \n",
      " 13:18:54.991978 | chunk_id: 5 | Process end   \n",
      " ------------------------------------------------------------------------- \n",
      "\n",
      " 13:18:55.019014 | chunk_id: 8 | 3000 rows processed \n",
      " progress_int : 250\n",
      "\n",
      " ------------------------------------------------------------------------- \n",
      " 13:18:55.192948 | chunk_id: 9 | process started - chunk sz: 10000  append_phar: False\n",
      " ------------------------------------------------------------------------- \n",
      "\n",
      " 13:18:55.198059 | chunk_id: 9 | pharmacophore_base64 column exists\n",
      " 13:18:55.200092 | chunk_id: 9 | 0 rows processed \n",
      " 13:18:55.239732 | chunk_id: 7 | 3750 rows processed \n",
      " 13:18:56.651980 | chunk_id: 9 | 250 rows processed \n",
      " 13:18:57.172779 | chunk_id: 8 | 3250 rows processed \n",
      " 13:18:58.307755 | chunk_id: 9 | 500 rows processed \n",
      " 13:18:58.470009 | chunk_id: 7 | 4000 rows processed \n",
      " 13:18:58.736289 | chunk_id: 8 | 3500 rows processed \n",
      " 13:18:59.885005 | chunk_id: 9 | 750 rows processed \n",
      " 13:19:00.234222 | chunk_id: 8 | 3750 rows processed \n",
      " 13:19:00.254594 | chunk_id: 7 | 4250 rows processed \n",
      " 13:19:01.703433 | chunk_id: 8 | 4000 rows processed \n",
      " 13:19:01.770558 | chunk_id: 9 | 1000 rows processed \n",
      " 13:19:01.804048 | chunk_id: 7 | 4500 rows processed \n",
      " 13:19:03.134263 | chunk_id: 8 | 4250 rows processed \n",
      " 13:19:03.325338 | chunk_id: 9 | 1250 rows processed \n",
      " 13:19:04.684914 | chunk_id: 7 | 4750 rows processed \n",
      " 13:19:04.837812 | chunk_id: 8 | 4500 rows processed \n",
      " 13:19:06.422627 | chunk_id: 7 | 5000 rows processed \n",
      " 13:19:06.544783 | chunk_id: 8 | 4750 rows processed \n",
      " 13:19:07.866405 | chunk_id: 8 | 5000 rows processed \n",
      " 13:19:08.694492 | chunk_id: 7 | 5250 rows processed \n",
      " 13:19:09.055155 | chunk_id: 8 | 5250 rows processed \n"
     ]
    },
    {
     "name": "stderr",
     "output_type": "stream",
     "text": [
      "[13:19:09] WARNING:  Problems/mismatches: Mobile-H( Hydrogens: Locations or number, Number; Mobile-H groups: One instead of multiple, Attachment points, Number; Charge(s): Do not match)\n",
      "\n"
     ]
    },
    {
     "name": "stdout",
     "output_type": "stream",
     "text": [
      " 13:19:10.239300 | chunk_id: 7 | 5500 rows processed \n",
      " 13:19:10.465541 | chunk_id: 8 | 5500 rows processed \n",
      " 13:19:12.143033 | chunk_id: 8 | 5750 rows processed \n",
      " 13:19:12.282949 | chunk_id: 7 | 5750 rows processed \n",
      " 13:19:13.752180 | chunk_id: 8 | 6000 rows processed \n",
      " 13:19:14.655575 | chunk_id: 9 | 1500 rows processed \n",
      " 13:19:14.658044 | chunk_id: 7 | 6000 rows processed \n",
      " 13:19:15.268990 | chunk_id: 8 | 6250 rows processed \n",
      " 13:19:16.032817 | chunk_id: 7 | 6250 rows processed \n",
      " 13:19:16.072483 | chunk_id: 9 | 1750 rows processed \n"
     ]
    },
    {
     "name": "stderr",
     "output_type": "stream",
     "text": [
      "[13:19:16] WARNING:  Problems/mismatches: Mobile-H( Hydrogens: Locations or number, Number; Mobile-H groups: One instead of multiple, Attachment points, Number; Charge(s): Do not match; Proton balance: Does not match)\n",
      "\n"
     ]
    },
    {
     "name": "stdout",
     "output_type": "stream",
     "text": [
      " 13:19:16.910208 | chunk_id: 8 | 6500 rows processed \n",
      " 13:19:17.357745 | chunk_id: 7 | 6500 rows processed \n",
      " 13:19:17.573429 | chunk_id: 9 | 2000 rows processed \n"
     ]
    },
    {
     "name": "stderr",
     "output_type": "stream",
     "text": [
      "[13:19:17] WARNING:  Problems/mismatches: Mobile-H( Hydrogens: Number; Mobile-H groups: One instead of multiple, Attachment points, Number; Charge(s): Do not match)\n",
      "\n"
     ]
    },
    {
     "name": "stdout",
     "output_type": "stream",
     "text": [
      " 13:19:18.351042 | chunk_id: 8 | 6750 rows processed \n",
      " 13:19:18.838327 | chunk_id: 7 | 6750 rows processed \n",
      " 13:19:19.473054 | chunk_id: 9 | 2250 rows processed \n",
      " 13:19:20.004511 | chunk_id: 8 | 7000 rows processed \n",
      " 13:19:20.271272 | chunk_id: 7 | 7000 rows processed \n",
      " 13:19:21.047445 | chunk_id: 9 | 2500 rows processed \n",
      " 13:19:21.649077 | chunk_id: 8 | 7250 rows processed \n",
      " 13:19:22.528125 | chunk_id: 9 | 2750 rows processed \n",
      " 13:19:23.079671 | chunk_id: 8 | 7500 rows processed \n",
      " 13:19:23.973003 | chunk_id: 9 | 3000 rows processed \n",
      " 13:19:24.641489 | chunk_id: 8 | 7750 rows processed \n",
      " 13:19:25.611779 | chunk_id: 9 | 3250 rows processed \n",
      " 13:19:26.076841 | chunk_id: 8 | 8000 rows processed \n",
      " 13:19:26.957786 | chunk_id: 9 | 3500 rows processed \n",
      " 13:19:27.724498 | chunk_id: 8 | 8250 rows processed \n",
      " 13:19:28.568999 | chunk_id: 9 | 3750 rows processed \n",
      " 13:19:29.270335 | chunk_id: 8 | 8500 rows processed \n",
      " 13:19:30.229247 | chunk_id: 9 | 4000 rows processed \n",
      " 13:19:31.629826 | chunk_id: 8 | 8750 rows processed \n",
      " 13:19:31.660545 | chunk_id: 9 | 4250 rows processed \n",
      " 13:19:33.077079 | chunk_id: 8 | 9000 rows processed \n",
      " 13:19:34.462329 | chunk_id: 8 | 9250 rows processed \n",
      " 13:19:36.139670 | chunk_id: 8 | 9500 rows processed \n",
      " 13:19:37.560087 | chunk_id: 9 | 4500 rows processed \n",
      " 13:19:37.607811 | chunk_id: 8 | 9750 rows processed \n",
      " 13:19:38.947770 | chunk_id: 9 | 4750 rows processed \n",
      "\n",
      " ------------------------------------------------------------------------- \n",
      " Results of processing chunk 8 \n",
      " ------------------------------------------------------------------------- \n",
      "                                          Total Read :  10000\n",
      " rows with missing InChiKey in input                 :      0 \n",
      " rows with no MOL object returned from RDKit         :      0      \n",
      " rows with with valid Mol                            :  10000   \n",
      " rows with No fingerprint computed                   :      0       \n",
      " rows with with valid Mol                            :  10000   \n",
      "                                               Total :      0\n",
      " ------------------------------------------------------------------------- \n",
      " 13:19:39.102528 | chunk_id: 8 | Process end   \n",
      " ------------------------------------------------------------------------- \n",
      "\n",
      " progress_int : 250\n",
      "\n",
      " ------------------------------------------------------------------------- \n",
      " 13:19:39.274676 | chunk_id: 10 | process started - chunk sz: 10000  append_phar: False\n",
      " ------------------------------------------------------------------------- \n",
      "\n",
      " 13:19:39.280192 | chunk_id: 10 | pharmacophore_base64 column exists\n",
      " 13:19:39.282530 | chunk_id: 10 | 0 rows processed \n",
      " 13:19:40.647712 | chunk_id: 10 | 250 rows processed \n",
      " 13:19:40.848525 | chunk_id: 9 | 5000 rows processed \n",
      " 13:19:40.911201 | chunk_id: 3 | 1500 rows processed \n",
      " 13:19:42.083593 | chunk_id: 10 | 500 rows processed \n",
      " 13:19:42.555972 | chunk_id: 9 | 5250 rows processed \n",
      " 13:19:43.986095 | chunk_id: 9 | 5500 rows processed \n",
      " 13:19:44.502874 | chunk_id: 10 | 750 rows processed \n",
      " 13:19:45.997057 | chunk_id: 10 | 1000 rows processed \n",
      " 13:19:46.061005 | chunk_id: 7 | 7250 rows processed \n",
      " 13:19:46.813001 | chunk_id: 9 | 5750 rows processed \n",
      " 13:19:47.435838 | chunk_id: 7 | 7500 rows processed \n",
      " 13:19:47.438982 | chunk_id: 10 | 1250 rows processed \n",
      " 13:19:48.261041 | chunk_id: 9 | 6000 rows processed \n",
      " 13:19:48.866916 | chunk_id: 10 | 1500 rows processed \n",
      " 13:19:49.331707 | chunk_id: 7 | 7750 rows processed \n",
      " 13:19:49.637730 | chunk_id: 9 | 6250 rows processed \n",
      " 13:19:50.265413 | chunk_id: 10 | 1750 rows processed \n",
      " 13:19:50.788114 | chunk_id: 7 | 8000 rows processed \n",
      " 13:19:51.082077 | chunk_id: 9 | 6500 rows processed \n"
     ]
    },
    {
     "name": "stderr",
     "output_type": "stream",
     "text": [
      "[13:19:51] WARNING:  Problems/mismatches: Mobile-H( Mobile-H groups: Multiple instead of one, Number)\n",
      "\n"
     ]
    },
    {
     "name": "stdout",
     "output_type": "stream",
     "text": [
      " 13:19:51.698534 | chunk_id: 10 | 2000 rows processed \n",
      " 13:19:52.331641 | chunk_id: 7 | 8250 rows processed \n",
      " 13:19:52.649291 | chunk_id: 9 | 6750 rows processed \n",
      " 13:19:53.606087 | chunk_id: 7 | 8500 rows processed \n",
      " 13:19:54.280995 | chunk_id: 9 | 7000 rows processed \n",
      " 13:19:54.557350 | chunk_id: 3 | 1750 rows processed \n",
      " 13:19:54.663086 | chunk_id: 10 | 2250 rows processed \n",
      " 13:19:54.874624 | chunk_id: 7 | 8750 rows processed \n"
     ]
    },
    {
     "name": "stderr",
     "output_type": "stream",
     "text": [
      "[13:19:55] WARNING:  Problems/mismatches: Mobile-H( Mobile-H groups: Attachment points, Number)\n",
      "\n"
     ]
    },
    {
     "name": "stdout",
     "output_type": "stream",
     "text": [
      " 13:19:55.977430 | chunk_id: 10 | 2500 rows processed \n",
      " 13:19:56.041741 | chunk_id: 3 | 2000 rows processed \n",
      " 13:19:56.074316 | chunk_id: 9 | 7250 rows processed \n",
      " 13:19:57.424134 | chunk_id: 10 | 2750 rows processed \n",
      " 13:19:57.447424 | chunk_id: 3 | 2250 rows processed \n",
      " 13:19:57.547816 | chunk_id: 9 | 7500 rows processed \n",
      " 13:19:59.016365 | chunk_id: 9 | 7750 rows processed \n",
      " 13:19:59.085120 | chunk_id: 10 | 3000 rows processed \n",
      " 13:19:59.601003 | chunk_id: 3 | 2500 rows processed \n",
      " 13:20:00.724503 | chunk_id: 9 | 8000 rows processed \n",
      " 13:20:01.643288 | chunk_id: 3 | 2750 rows processed \n",
      " 13:20:02.074991 | chunk_id: 9 | 8250 rows processed \n",
      " 13:20:03.366695 | chunk_id: 3 | 3000 rows processed \n",
      " 13:20:03.447962 | chunk_id: 9 | 8500 rows processed \n",
      " 13:20:04.327096 | chunk_id: 7 | 9000 rows processed \n",
      " 13:20:05.104097 | chunk_id: 9 | 8750 rows processed \n",
      " 13:20:05.301951 | chunk_id: 3 | 3250 rows processed \n",
      " 13:20:05.609769 | chunk_id: 7 | 9250 rows processed \n",
      " 13:20:07.131389 | chunk_id: 3 | 3500 rows processed \n",
      " 13:20:07.147990 | chunk_id: 7 | 9500 rows processed \n",
      " 13:20:08.556889 | chunk_id: 3 | 3750 rows processed \n",
      " 13:20:08.709895 | chunk_id: 7 | 9750 rows processed \n",
      " 13:20:09.964259 | chunk_id: 3 | 4000 rows processed \n",
      "\n",
      " ------------------------------------------------------------------------- \n",
      " Results of processing chunk 7 \n",
      " ------------------------------------------------------------------------- \n",
      "                                          Total Read :  10000\n",
      " rows with missing InChiKey in input                 :      0 \n",
      " rows with no MOL object returned from RDKit         :      0      \n",
      " rows with with valid Mol                            :  10000   \n",
      " rows with No fingerprint computed                   :      0       \n",
      " rows with with valid Mol                            :  10000   \n",
      "                                               Total :      0\n",
      " ------------------------------------------------------------------------- \n",
      " 13:20:10.524117 | chunk_id: 7 | Process end   \n",
      " ------------------------------------------------------------------------- \n",
      "\n",
      " progress_int : 250\n",
      "\n",
      " ------------------------------------------------------------------------- \n",
      " 13:20:10.696260 | chunk_id: 11 | process started - chunk sz: 6751  append_phar: False\n",
      " ------------------------------------------------------------------------- \n",
      "\n",
      " 13:20:10.701232 | chunk_id: 11 | pharmacophore_base64 column exists\n",
      " 13:20:10.703126 | chunk_id: 11 | 0 rows processed \n",
      " 13:20:11.412114 | chunk_id: 3 | 4250 rows processed \n",
      " 13:20:12.477542 | chunk_id: 11 | 250 rows processed \n",
      " 13:20:12.877803 | chunk_id: 3 | 4500 rows processed \n",
      " 13:20:14.394498 | chunk_id: 3 | 4750 rows processed \n"
     ]
    },
    {
     "name": "stderr",
     "output_type": "stream",
     "text": [
      "[13:20:14] WARNING:  Problems/mismatches: Mobile-H( Hydrogens: Number; Mobile-H groups: One instead of multiple, Attachment points, Number; Charge(s): Do not match)\n",
      "\n"
     ]
    },
    {
     "name": "stdout",
     "output_type": "stream",
     "text": [
      " 13:20:15.811355 | chunk_id: 3 | 5000 rows processed \n",
      " 13:20:16.038640 | chunk_id: 11 | 500 rows processed \n"
     ]
    },
    {
     "name": "stderr",
     "output_type": "stream",
     "text": [
      "[13:20:16] WARNING:  Problems/mismatches: Mobile-H( Mobile-H groups: Attachment points, Number)\n",
      "\n"
     ]
    },
    {
     "name": "stdout",
     "output_type": "stream",
     "text": [
      " 13:20:17.239634 | chunk_id: 3 | 5250 rows processed \n",
      " 13:20:17.514727 | chunk_id: 11 | 750 rows processed \n",
      " 13:20:19.142631 | chunk_id: 11 | 1000 rows processed \n",
      " 13:20:20.560095 | chunk_id: 11 | 1250 rows processed \n",
      " 13:20:22.039478 | chunk_id: 11 | 1500 rows processed \n",
      " 13:20:23.585486 | chunk_id: 3 | 5500 rows processed \n",
      " 13:20:23.815068 | chunk_id: 11 | 1750 rows processed \n",
      " 13:20:25.271039 | chunk_id: 11 | 2000 rows processed \n",
      " 13:20:25.488508 | chunk_id: 3 | 5750 rows processed \n",
      " 13:20:27.056250 | chunk_id: 11 | 2250 rows processed \n",
      " 13:20:27.191646 | chunk_id: 3 | 6000 rows processed \n",
      " 13:20:28.548885 | chunk_id: 3 | 6250 rows processed \n",
      " 13:20:29.899152 | chunk_id: 3 | 6500 rows processed \n",
      " 13:20:31.589942 | chunk_id: 3 | 6750 rows processed \n",
      " 13:20:33.121069 | chunk_id: 3 | 7000 rows processed \n",
      " 13:20:34.599409 | chunk_id: 3 | 7250 rows processed \n",
      " 13:20:36.308133 | chunk_id: 3 | 7500 rows processed \n",
      " 13:20:37.943483 | chunk_id: 3 | 7750 rows processed \n",
      " 13:20:55.324567 | chunk_id: 3 | 8000 rows processed \n",
      " 13:20:57.119238 | chunk_id: 3 | 8250 rows processed \n",
      " 13:20:59.286771 | chunk_id: 3 | 8500 rows processed \n",
      " 13:20:59.790661 | chunk_id: 10 | 3250 rows processed \n",
      " 13:21:01.454352 | chunk_id: 10 | 3500 rows processed \n",
      " 13:21:01.603744 | chunk_id: 3 | 8750 rows processed \n",
      " 13:21:02.787063 | chunk_id: 10 | 3750 rows processed \n",
      " 13:21:04.261552 | chunk_id: 3 | 9000 rows processed \n",
      " 13:21:04.337439 | chunk_id: 10 | 4000 rows processed \n",
      " 13:21:05.992117 | chunk_id: 10 | 4250 rows processed \n",
      " 13:21:07.226945 | chunk_id: 3 | 9250 rows processed \n",
      " 13:21:08.243838 | chunk_id: 10 | 4500 rows processed \n",
      " 13:21:09.758044 | chunk_id: 10 | 4750 rows processed \n",
      " 13:21:11.494550 | chunk_id: 10 | 5000 rows processed \n",
      " 13:21:13.019519 | chunk_id: 10 | 5250 rows processed \n",
      " 13:21:21.649401 | chunk_id: 3 | 9500 rows processed \n",
      " 13:21:26.859167 | chunk_id: 3 | 9750 rows processed \n",
      "\n",
      " ------------------------------------------------------------------------- \n",
      " Results of processing chunk 3 \n",
      " ------------------------------------------------------------------------- \n",
      "                                          Total Read :  10000\n",
      " rows with missing InChiKey in input                 :      0 \n",
      " rows with no MOL object returned from RDKit         :      0      \n",
      " rows with with valid Mol                            :  10000   \n",
      " rows with No fingerprint computed                   :      0       \n",
      " rows with with valid Mol                            :  10000   \n",
      "                                               Total :      0\n",
      " ------------------------------------------------------------------------- \n",
      " 13:21:28.918086 | chunk_id: 3 | Process end   \n",
      " ------------------------------------------------------------------------- \n",
      "\n",
      " 13:21:39.750837 | chunk_id: 9 | 9000 rows processed \n",
      " 13:21:41.320456 | chunk_id: 9 | 9250 rows processed \n"
     ]
    },
    {
     "name": "stderr",
     "output_type": "stream",
     "text": [
      "[13:21:41] WARNING:  Problems/mismatches: Mobile-H( Hydrogens: Number; Mobile-H groups: Missing, Attachment points; Charge(s): Do not match; Proton balance: Does not match)\n",
      "\n"
     ]
    },
    {
     "name": "stdout",
     "output_type": "stream",
     "text": [
      " 13:21:42.851445 | chunk_id: 9 | 9500 rows processed \n",
      " 13:21:45.457178 | chunk_id: 9 | 9750 rows processed \n",
      "\n",
      " ------------------------------------------------------------------------- \n",
      " Results of processing chunk 9 \n",
      " ------------------------------------------------------------------------- \n",
      "                                          Total Read :  10000\n",
      " rows with missing InChiKey in input                 :      0 \n",
      " rows with no MOL object returned from RDKit         :      0      \n",
      " rows with with valid Mol                            :  10000   \n",
      " rows with No fingerprint computed                   :      0       \n",
      " rows with with valid Mol                            :  10000   \n",
      "                                               Total :      0\n",
      " ------------------------------------------------------------------------- \n",
      " 13:21:47.451966 | chunk_id: 9 | Process end   \n",
      " ------------------------------------------------------------------------- \n",
      "\n",
      " 13:23:14.442119 | chunk_id: 6 | 1250 rows processed \n",
      " 13:23:16.041368 | chunk_id: 6 | 1500 rows processed \n",
      " 13:23:22.124928 | chunk_id: 6 | 1750 rows processed \n",
      " 13:23:23.614127 | chunk_id: 6 | 2000 rows processed \n",
      " 13:23:24.932756 | chunk_id: 6 | 2250 rows processed \n",
      " 13:23:26.370258 | chunk_id: 6 | 2500 rows processed \n",
      " 13:23:27.889536 | chunk_id: 6 | 2750 rows processed \n",
      " 13:23:29.233541 | chunk_id: 6 | 3000 rows processed \n",
      " 13:23:48.194007 | chunk_id: 6 | 3250 rows processed \n",
      " 13:23:50.603798 | chunk_id: 6 | 3500 rows processed \n",
      " 13:23:52.018598 | chunk_id: 6 | 3750 rows processed \n",
      " 13:23:53.254658 | chunk_id: 6 | 4000 rows processed \n",
      " 13:24:33.434500 | chunk_id: 6 | 4250 rows processed \n",
      " 13:24:34.931247 | chunk_id: 6 | 4500 rows processed \n",
      " 13:24:36.676625 | chunk_id: 6 | 4750 rows processed \n",
      " 13:24:38.054633 | chunk_id: 6 | 5000 rows processed \n",
      " 13:24:39.396458 | chunk_id: 6 | 5250 rows processed \n",
      " 13:24:40.663615 | chunk_id: 6 | 5500 rows processed \n",
      " 13:24:43.479652 | chunk_id: 6 | 5750 rows processed \n",
      " 13:24:44.881540 | chunk_id: 6 | 6000 rows processed \n",
      " 13:24:48.036286 | chunk_id: 6 | 6250 rows processed \n",
      " 13:24:49.418883 | chunk_id: 6 | 6500 rows processed \n",
      " 13:24:52.678233 | chunk_id: 6 | 6750 rows processed \n",
      " 13:24:54.041451 | chunk_id: 6 | 7000 rows processed \n",
      " 13:24:59.894609 | chunk_id: 6 | 7250 rows processed \n",
      " 13:25:01.383818 | chunk_id: 6 | 7500 rows processed \n",
      " 13:25:02.664450 | chunk_id: 6 | 7750 rows processed \n",
      " 13:25:03.976368 | chunk_id: 6 | 8000 rows processed \n",
      " 13:25:05.189679 | chunk_id: 6 | 8250 rows processed \n",
      " 13:25:06.566776 | chunk_id: 6 | 8500 rows processed \n",
      " 13:25:25.530257 | chunk_id: 6 | 8750 rows processed \n",
      " 13:25:28.594593 | chunk_id: 6 | 9000 rows processed \n",
      " 13:25:29.853792 | chunk_id: 6 | 9250 rows processed \n",
      " 13:25:31.734470 | chunk_id: 6 | 9500 rows processed \n",
      " 13:25:33.327744 | chunk_id: 6 | 9750 rows processed \n",
      "\n",
      " ------------------------------------------------------------------------- \n",
      " Results of processing chunk 6 \n",
      " ------------------------------------------------------------------------- \n",
      "                                          Total Read :  10000\n",
      " rows with missing InChiKey in input                 :      0 \n",
      " rows with no MOL object returned from RDKit         :      0      \n",
      " rows with with valid Mol                            :  10000   \n",
      " rows with No fingerprint computed                   :      0       \n",
      " rows with with valid Mol                            :  10000   \n",
      "                                               Total :      0\n",
      " ------------------------------------------------------------------------- \n",
      " 13:25:34.860236 | chunk_id: 6 | Process end   \n",
      " ------------------------------------------------------------------------- \n",
      "\n",
      " 13:27:08.374310 | chunk_id: 10 | 5500 rows processed \n"
     ]
    },
    {
     "name": "stderr",
     "output_type": "stream",
     "text": [
      "[13:27:08] WARNING:  Problems/mismatches: Mobile-H( Mobile-H groups: Attachment points, Number)\n",
      "\n"
     ]
    },
    {
     "name": "stdout",
     "output_type": "stream",
     "text": [
      " 13:27:10.105556 | chunk_id: 10 | 5750 rows processed \n",
      " 13:27:11.809475 | chunk_id: 10 | 6000 rows processed \n",
      " 13:27:13.224993 | chunk_id: 10 | 6250 rows processed \n"
     ]
    },
    {
     "name": "stderr",
     "output_type": "stream",
     "text": [
      "[13:27:14] WARNING:  Problems/mismatches: Mobile-H( Hydrogens: Number; Mobile-H groups: One instead of multiple, Number; Charge(s): Do not match; Proton balance: Does not match)\n",
      "\n"
     ]
    },
    {
     "name": "stdout",
     "output_type": "stream",
     "text": [
      " 13:27:14.574139 | chunk_id: 10 | 6500 rows processed \n",
      " 13:27:15.841247 | chunk_id: 10 | 6750 rows processed \n",
      " 13:27:17.133370 | chunk_id: 10 | 7000 rows processed \n",
      " 13:27:20.227392 | chunk_id: 10 | 7250 rows processed \n",
      " 13:27:21.430447 | chunk_id: 10 | 7500 rows processed \n",
      " 13:27:22.833733 | chunk_id: 10 | 7750 rows processed \n",
      " 13:27:24.122723 | chunk_id: 10 | 8000 rows processed \n",
      " 13:27:25.479067 | chunk_id: 10 | 8250 rows processed \n",
      " 13:27:26.743356 | chunk_id: 10 | 8500 rows processed \n",
      " 13:27:28.263997 | chunk_id: 10 | 8750 rows processed \n",
      " 13:27:30.934436 | chunk_id: 10 | 9000 rows processed \n"
     ]
    },
    {
     "name": "stderr",
     "output_type": "stream",
     "text": [
      "[13:27:31] WARNING:  Problems/mismatches: Mobile-H( Mobile-H groups: Attachment points, Number)\n",
      "\n"
     ]
    },
    {
     "name": "stdout",
     "output_type": "stream",
     "text": [
      " 13:27:32.263104 | chunk_id: 10 | 9250 rows processed \n",
      " 13:28:09.569343 | chunk_id: 0 | 5250 rows processed \n",
      " 13:28:10.900518 | chunk_id: 0 | 5500 rows processed \n",
      " 13:28:12.537308 | chunk_id: 0 | 5750 rows processed \n"
     ]
    },
    {
     "name": "stderr",
     "output_type": "stream",
     "text": [
      "[13:28:14] WARNING:  Problems/mismatches: Mobile-H( Hydrogens: Number; Mobile-H groups: One instead of multiple, Attachment points, Number; Charge(s): Do not match)\n",
      "\n"
     ]
    },
    {
     "name": "stdout",
     "output_type": "stream",
     "text": [
      " 13:28:16.284944 | chunk_id: 0 | 6000 rows processed \n",
      " 13:28:17.708474 | chunk_id: 0 | 6250 rows processed \n",
      " 13:28:45.155193 | chunk_id: 0 | 6500 rows processed \n",
      " 13:28:48.124473 | chunk_id: 0 | 6750 rows processed \n",
      " 13:28:49.367818 | chunk_id: 0 | 7000 rows processed \n",
      " 13:28:51.612537 | chunk_id: 0 | 7250 rows processed \n",
      " 13:28:53.550620 | chunk_id: 0 | 7500 rows processed \n",
      " 13:28:54.101370 | chunk_id: 10 | 9500 rows processed \n",
      " 13:28:55.008706 | chunk_id: 0 | 7750 rows processed \n",
      " 13:28:55.482390 | chunk_id: 10 | 9750 rows processed \n"
     ]
    },
    {
     "name": "stderr",
     "output_type": "stream",
     "text": [
      "[13:28:56] WARNING:  Problems/mismatches: Mobile-H( Mobile-H groups: Attachment points, Number)\n",
      "\n"
     ]
    },
    {
     "name": "stdout",
     "output_type": "stream",
     "text": [
      "\n",
      " ------------------------------------------------------------------------- \n",
      " Results of processing chunk 10 \n",
      " ------------------------------------------------------------------------- \n",
      "                                          Total Read :  10000\n",
      " rows with missing InChiKey in input                 :      0 \n",
      " rows with no MOL object returned from RDKit         :      0      \n",
      " rows with with valid Mol                            :  10000   \n",
      " rows with No fingerprint computed                   :      0       \n",
      " rows with with valid Mol                            :  10000   \n",
      "                                               Total :      0\n",
      " ------------------------------------------------------------------------- \n",
      " 13:28:56.884304 | chunk_id: 10 | Process end   \n",
      " ------------------------------------------------------------------------- \n",
      "\n",
      " 13:28:57.382920 | chunk_id: 0 | 8000 rows processed \n",
      " 13:28:58.564612 | chunk_id: 0 | 8250 rows processed \n",
      " 13:28:59.720268 | chunk_id: 0 | 8500 rows processed \n",
      " 13:29:00.977506 | chunk_id: 0 | 8750 rows processed \n",
      " 13:29:02.406565 | chunk_id: 0 | 9000 rows processed \n",
      " 13:29:03.538567 | chunk_id: 0 | 9250 rows processed \n",
      " 13:29:05.112572 | chunk_id: 0 | 9500 rows processed \n",
      " 13:29:07.162783 | chunk_id: 0 | 9750 rows processed \n",
      "\n",
      " ------------------------------------------------------------------------- \n",
      " Results of processing chunk 0 \n",
      " ------------------------------------------------------------------------- \n",
      "                                          Total Read :  10000\n",
      " rows with missing InChiKey in input                 :      0 \n",
      " rows with no MOL object returned from RDKit         :      0      \n",
      " rows with with valid Mol                            :  10000   \n",
      " rows with No fingerprint computed                   :      0       \n",
      " rows with with valid Mol                            :  10000   \n",
      "                                               Total :      0\n",
      " ------------------------------------------------------------------------- \n",
      " 13:29:09.262718 | chunk_id: 0 | Process end   \n",
      " ------------------------------------------------------------------------- \n",
      "\n",
      " 13:30:48.523557 | chunk_id: 11 | 2500 rows processed \n",
      " 13:30:49.956032 | chunk_id: 11 | 2750 rows processed \n",
      " 13:30:50.821672 | chunk_id: 11 | 3000 rows processed \n",
      " 13:30:51.772124 | chunk_id: 11 | 3250 rows processed \n",
      " 13:30:52.647670 | chunk_id: 11 | 3500 rows processed \n",
      " 13:30:53.632050 | chunk_id: 11 | 3750 rows processed \n",
      " 13:30:54.495531 | chunk_id: 11 | 4000 rows processed \n",
      " 13:30:56.231074 | chunk_id: 11 | 4250 rows processed \n",
      " 13:30:57.208697 | chunk_id: 11 | 4500 rows processed \n",
      " 13:31:00.581018 | chunk_id: 11 | 4750 rows processed \n"
     ]
    }
   ],
   "source": [
    "start_time = time.perf_counter()\n",
    "print(f\" {datetime.now().strftime('%X.%f')} | Started \")   \n",
    "pool = Pool(6)\n",
    "results = pool.starmap_async(fn, enumerate(df_iterator)) "
   ]
  },
  {
   "cell_type": "code",
   "execution_count": 13,
   "id": "2d64b3fc",
   "metadata": {
    "ExecuteTime": {
     "end_time": "2023-10-03T20:16:42.165051Z",
     "start_time": "2023-10-03T20:16:42.141280Z"
    },
    "hidden": true
   },
   "outputs": [
    {
     "data": {
      "text/plain": [
       "False"
      ]
     },
     "execution_count": 13,
     "metadata": {},
     "output_type": "execute_result"
    }
   ],
   "source": [
    "results.ready()"
   ]
  },
  {
   "cell_type": "code",
   "execution_count": null,
   "id": "aef5a114",
   "metadata": {
    "ExecuteTime": {
     "start_time": "2023-10-03T20:16:43.463Z"
    },
    "hidden": true
   },
   "outputs": [
    {
     "name": "stdout",
     "output_type": "stream",
     "text": [
      " 13:16:43.478385 | still waiting - - sleep for 600 seconds\n",
      " 13:26:43.579088 | still waiting - - sleep for 600 seconds\n",
      " 13:36:43.679477 | still waiting - - sleep for 600 seconds\n",
      " 13:46:43.779989 | still waiting - - sleep for 600 seconds\n",
      " 13:56:43.880458 | still waiting - - sleep for 600 seconds\n",
      " 14:06:43.973121 | still waiting - - sleep for 600 seconds\n",
      " 14:16:44.073439 | still waiting - - sleep for 600 seconds\n",
      " 14:26:44.173835 | still waiting - - sleep for 600 seconds\n",
      " 14:36:44.274234 | still waiting - - sleep for 600 seconds\n",
      " 14:46:44.313107 | still waiting - - sleep for 600 seconds\n",
      " 14:56:44.413522 | still waiting - - sleep for 600 seconds\n",
      " 15:06:44.438798 | still waiting - - sleep for 600 seconds\n",
      " 15:16:44.497425 | still waiting - - sleep for 600 seconds\n",
      " 15:26:44.597833 | still waiting - - sleep for 600 seconds\n",
      " 11:31:18.054244 | still waiting - - sleep for 600 seconds\n",
      " 11:41:18.154867 | still waiting - - sleep for 600 seconds\n",
      " 11:51:18.255598 | still waiting - - sleep for 600 seconds\n"
     ]
    }
   ],
   "source": [
    "#     results.wait()\n",
    "sleep_interval = 600\n",
    "while not results.ready():\n",
    "    print(f\" {datetime.now().strftime('%X.%f')} | still waiting - - sleep for {sleep_interval} seconds\")\n",
    "    time.sleep(sleep_interval)\n",
    "else:\n",
    "    results = results.get()\n",
    "    finish_time = time.perf_counter()\n",
    "    print(f\" {datetime.now().strftime('%X.%f')} | starmap_with_kwargs_async() | Results ready. . .  \")    \n",
    "    print(f\" {datetime.now().strftime('%X.%f')} | All processes complete\")\n",
    "    print(f\" {datetime.now().strftime('%X.%f')} | Program finished in {finish_time-start_time:5f} seconds\")  \n",
    "    \n",
    "print(f\" {datetime.now().strftime('%X.%f')} | Process Ended \")    "
   ]
  },
  {
   "cell_type": "markdown",
   "id": "1aa51161",
   "metadata": {},
   "source": [
    "### check results "
   ]
  },
  {
   "cell_type": "code",
   "execution_count": 17,
   "id": "efabc589",
   "metadata": {
    "ExecuteTime": {
     "end_time": "2023-10-03T20:00:53.154937Z",
     "start_time": "2023-10-03T20:00:53.139493Z"
    }
   },
   "outputs": [
    {
     "data": {
      "text/plain": [
       "(list, 0)"
      ]
     },
     "execution_count": 17,
     "metadata": {},
     "output_type": "execute_result"
    }
   ],
   "source": [
    "type(results), len(results)## , len(results[0])   ## ,  len(results[0][1])"
   ]
  },
  {
   "cell_type": "code",
   "execution_count": 31,
   "id": "4f9278fc",
   "metadata": {
    "ExecuteTime": {
     "end_time": "2023-05-25T06:16:47.242926Z",
     "start_time": "2023-05-25T06:16:47.217131Z"
    },
    "scrolled": true
   },
   "outputs": [
    {
     "name": "stdout",
     "output_type": "stream",
     "text": [
      "0\n",
      "      index         JCP2022                     InChIKey                                              InChI                                             smiles   \n",
      "0         0  JCP2022_000001  AAAHWCWPZPSPIW-UHFFFAOYSA-N  InChI=1S/C25H31N5O2/c1-4-23-26-14-16-30(23)24-...  CCC1=NC=CN1c2cccc(n2)C3CCCN3C(=O)c4ccc(cc4)OCC...  \\\n",
      "1         1  JCP2022_000002  AAAJHRMBUHXWLD-UHFFFAOYSA-N  InChI=1S/C11H13ClN2O/c12-10-4-2-9(3-5-10)8-14-...                            OC1=NCCCN1Cc2ccc(Cl)cc2   \n",
      "2         2  JCP2022_000003  AAALVYBICLMAMA-UHFFFAOYSA-N  InChI=1S/C20H15N3O2/c24-19-15-11-17(21-13-7-3-...          OC2=NC(=O)c3cc(Nc1ccccc1)c(cc23)Nc4ccccc4   \n",
      "3         3  JCP2022_000004  AAANUZMCJQUYNX-UHFFFAOYSA-N  InChI=1S/C13H22N4O2S/c1-2-7-16-13(5-6-15-16)20...                 CCCN1N=CC=C1S(=O)(=O)N2CC3CNCC2CC3   \n",
      "4         4  JCP2022_000005  AAAQFGUYHFJNHI-UHFFFAOYSA-N  InChI=1S/C22H22ClN5O2/c1-4-24-20(29)12-18-22-2...  CCN=C(O)CC3N=C(c1ccc(Cl)cc1)c2cc(ccc2N4C(C)=NN...   \n",
      "...     ...             ...                          ...                                                ...                                                ...   \n",
      "9995   9995  JCP2022_009996  CBEQULMOCCWAQT-UHFFFAOYSA-N  InChI=1S/C19H22N2/c1-16-7-9-17(10-8-16)18(19-6...                   Cc1ccc(cc1)C(=CCN2CCCC2)c3ccccn3   \n",
      "9996   9996  JCP2022_009997  CBEUCAOGCWMURO-UHFFFAOYSA-N  InChI=1S/C14H14N4/c1-2-10-3-6-12(7-4-10)18-16-...                   CCc1ccc(cc1)N3N=C2C=CC(N)=CC2=N3   \n",
      "9997   9997  JCP2022_009998  CBEVWEBUFBJVTM-UHFFFAOYSA-N  InChI=1S/C18H22N4O/c1-13-10-14(2)22(20-13)12-1...        CC1=CC=C(O1)C2=NC=CN2CC4(CN3N=C(C)C=C3C)CC4   \n",
      "9998   9998  JCP2022_009999  CBEWGSAHPZRONA-UHFFFAOYSA-N  InChI=1S/C16H13F3N4O4S/c17-16(18,19)15(22-28(2...  OC2=NC(NS(=O)(=O)c1ccccc1)(C(=O)N2Cc3cccnc3)C(...   \n",
      "9999   9999  JCP2022_010000  CBEYOUYPCODNPD-UHFFFAOYSA-N  InChI=1S/C18H15ClN2/c19-15-9-7-13(8-10-15)18-1...                 Clc1ccc(cc1)C3NCc2ccccc2N4C=CC=C34   \n",
      "\n",
      "                                   pharmacophore_base64  \n",
      "0     4P///wgEAABaAAAAAgAAAAAAAAAABAAEAAAAAAACBAAIAA...  \n",
      "1     4P///wgEAAAXAAAABgAEAhAAFAIAAAAO0GoADEixALUAAA...  \n",
      "2     4P///wgEAABeAAAAAgAAAgAAAAAMAAAAAgAADgAAAAAMBA...  \n",
      "3     4P///wgEAAAfAAAAAAAABAIKCgAACggUCDoCFAYGBiYGJg...  \n",
      "4     4P///wgEAABhAAAAAAAAAAIAAAAADAACAAAAABAAAgwAAA...  \n",
      "...                                                 ...  \n",
      "9995  4P///wgEAABEAAAABgIAAAIGBAQAAAAICAACDAAABgAOug...  \n",
      "9996  4P///wgEAAAxAAAAAAIEAgAOAAAAAAAAABQADAIADjQUDg...  \n",
      "9997  4P///wgEAAAqAAAAAgAABgIGBAAEAAAABAAoDjogDjoAGA...  \n",
      "9998  4P///wgEAABiAAAAAAAAAAAAAAAAAA4AAAICDAAAAAAADg...  \n",
      "9999  4P///wgEAAA1AAAAIAAAAgAAAAQKAAAQAgQABgTNAgYGCg...  \n",
      "\n",
      "[10000 rows x 6 columns]\n",
      "             JCP2022                                   pharmacophore_fp\n",
      "0     JCP2022_000001  [0, 1, 1, 1, 1, 1, 1, 1, 1, 1, 0, 0, 1, 1, 0, ...\n",
      "1     JCP2022_000002  [0, 0, 0, 1, 1, 0, 0, 1, 0, 1, 0, 0, 0, 0, 0, ...\n",
      "2     JCP2022_000003  [0, 1, 1, 1, 0, 1, 1, 1, 1, 1, 0, 0, 0, 0, 0, ...\n",
      "3     JCP2022_000004  [1, 1, 1, 0, 0, 1, 0, 1, 0, 0, 0, 0, 0, 1, 0, ...\n",
      "4     JCP2022_000005  [1, 1, 1, 1, 0, 1, 1, 1, 1, 1, 0, 0, 0, 0, 0, ...\n",
      "...              ...                                                ...\n",
      "9995  JCP2022_009996  [0, 0, 0, 1, 0, 1, 1, 1, 0, 1, 0, 0, 0, 1, 0, ...\n",
      "9996  JCP2022_009997  [1, 0, 1, 0, 0, 1, 0, 1, 1, 0, 0, 0, 0, 0, 0, ...\n",
      "9997  JCP2022_009998  [0, 1, 1, 1, 0, 0, 0, 1, 0, 1, 0, 0, 0, 1, 0, ...\n",
      "9998  JCP2022_009999  [1, 1, 1, 1, 1, 1, 1, 1, 1, 1, 0, 0, 0, 0, 0, ...\n",
      "9999  JCP2022_010000  [0, 0, 0, 0, 0, 0, 0, 0, 0, 0, 0, 0, 0, 0, 0, ...\n",
      "\n",
      "[10000 rows x 2 columns]\n"
     ]
    }
   ],
   "source": [
    "print(results[0][0])\n",
    "print(results[0][1])\n",
    "print(results[0][2])"
   ]
  },
  {
   "cell_type": "markdown",
   "id": "cd45e1a7",
   "metadata": {},
   "source": [
    "## combine metadata files generated by separate processes and write to CSV `./output/cp_compound_metadata_clean.csv`"
   ]
  },
  {
   "cell_type": "code",
   "execution_count": null,
   "id": "a93d3e3f",
   "metadata": {
    "ExecuteTime": {
     "start_time": "2023-10-03T20:59:07.686Z"
    },
    "scrolled": true
   },
   "outputs": [],
   "source": [
    "print(f\" compound Metadata Input File   : {compoundMetadataInputFile}\")\n",
    "print(f\" compound Metadata Output File  : {compoundMetadataOutputFile}\\n\")\n",
    "print(f\" compound Metadata Output File 2: {compoundMetadataOutputFile_2}\\n\")\n",
    "print(f\" compound Metadata Output File 3: {compoundMetadataOutputFile_3}\\n\")\n",
    "print(f\" compound Pharmacophore File    : {compoundPharmacophoreFile}\")"
   ]
  },
  {
   "cell_type": "code",
   "execution_count": null,
   "id": "572db9d2",
   "metadata": {},
   "outputs": [],
   "source": [
    "# for i, res in enumerate(results):\n",
    "#     chunk_id, df_chunk ,df_fingerprints = res    \n",
    "#     mode = 'w' if chunk_id == 0 else 'a'\n",
    "#     header = chunk_id == 0\n",
    "#     print(f\" {datetime.now().strftime('%X.%f')} | chunk_id: {chunk_id} | write to compoundDataOutputFile     | mode : {mode}  header: {header}\")\n",
    "#     df_chunk.to_csv(compoundMetadataOutputFile_2,\n",
    "#                     index=False,  \n",
    "#                     header=header, mode=mode) # Skip index column    "
   ]
  },
  {
   "cell_type": "code",
   "execution_count": null,
   "id": "fbbf1174",
   "metadata": {
    "ExecuteTime": {
     "end_time": "2023-05-25T06:15:21.212219Z",
     "start_time": "2023-05-25T06:15:21.169228Z"
    }
   },
   "outputs": [],
   "source": [
    "df_metadata_all = pd.concat([i[1] for i in results ], axis = 0, ignore_index=True )"
   ]
  },
  {
   "cell_type": "code",
   "execution_count": 37,
   "id": "12f77f00",
   "metadata": {
    "ExecuteTime": {
     "end_time": "2023-05-25T06:21:53.660299Z",
     "start_time": "2023-05-25T06:21:53.606053Z"
    }
   },
   "outputs": [
    {
     "name": "stdout",
     "output_type": "stream",
     "text": [
      "<class 'pandas.core.frame.DataFrame'>\n",
      "RangeIndex: 116751 entries, 0 to 116750\n",
      "Data columns (total 5 columns):\n",
      " #   Column                Non-Null Count   Dtype \n",
      "---  ------                --------------   ----- \n",
      " 0   JCP2022               116751 non-null  object\n",
      " 1   InChIKey              116751 non-null  object\n",
      " 2   InChI                 116751 non-null  object\n",
      " 3   smiles                116751 non-null  object\n",
      " 4   pharmacophore_base64  116751 non-null  object\n",
      "dtypes: object(5)\n",
      "memory usage: 4.5+ MB\n"
     ]
    },
    {
     "data": {
      "text/html": [
       "<div>\n",
       "<style scoped>\n",
       "    .dataframe tbody tr th:only-of-type {\n",
       "        vertical-align: middle;\n",
       "    }\n",
       "\n",
       "    .dataframe tbody tr th {\n",
       "        vertical-align: top;\n",
       "    }\n",
       "\n",
       "    .dataframe thead th {\n",
       "        text-align: right;\n",
       "    }\n",
       "</style>\n",
       "<table border=\"1\" class=\"dataframe\">\n",
       "  <thead>\n",
       "    <tr style=\"text-align: right;\">\n",
       "      <th></th>\n",
       "      <th>JCP2022</th>\n",
       "      <th>InChIKey</th>\n",
       "      <th>InChI</th>\n",
       "      <th>smiles</th>\n",
       "      <th>pharmacophore_base64</th>\n",
       "    </tr>\n",
       "  </thead>\n",
       "  <tbody>\n",
       "    <tr>\n",
       "      <th>0</th>\n",
       "      <td>JCP2022_000001</td>\n",
       "      <td>AAAHWCWPZPSPIW-UHFFFAOYSA-N</td>\n",
       "      <td>InChI=1S/C25H31N5O2/c1-4-23-26-14-16-30(23)24-...</td>\n",
       "      <td>CCC1=NC=CN1c2cccc(n2)C3CCCN3C(=O)c4ccc(cc4)OCC...</td>\n",
       "      <td>4P///wgEAABaAAAAAgAAAAAAAAAABAAEAAAAAAACBAAIAA...</td>\n",
       "    </tr>\n",
       "    <tr>\n",
       "      <th>1</th>\n",
       "      <td>JCP2022_000002</td>\n",
       "      <td>AAAJHRMBUHXWLD-UHFFFAOYSA-N</td>\n",
       "      <td>InChI=1S/C11H13ClN2O/c12-10-4-2-9(3-5-10)8-14-...</td>\n",
       "      <td>OC1=NCCCN1Cc2ccc(Cl)cc2</td>\n",
       "      <td>4P///wgEAAAXAAAABgAEAhAAFAIAAAAO0GoADEixALUAAA...</td>\n",
       "    </tr>\n",
       "    <tr>\n",
       "      <th>2</th>\n",
       "      <td>JCP2022_000003</td>\n",
       "      <td>AAALVYBICLMAMA-UHFFFAOYSA-N</td>\n",
       "      <td>InChI=1S/C20H15N3O2/c24-19-15-11-17(21-13-7-3-...</td>\n",
       "      <td>OC2=NC(=O)c3cc(Nc1ccccc1)c(cc23)Nc4ccccc4</td>\n",
       "      <td>4P///wgEAABeAAAAAgAAAgAAAAAMAAAAAgAADgAAAAAMBA...</td>\n",
       "    </tr>\n",
       "    <tr>\n",
       "      <th>3</th>\n",
       "      <td>JCP2022_000004</td>\n",
       "      <td>AAANUZMCJQUYNX-UHFFFAOYSA-N</td>\n",
       "      <td>InChI=1S/C13H22N4O2S/c1-2-7-16-13(5-6-15-16)20...</td>\n",
       "      <td>CCCN1N=CC=C1S(=O)(=O)N2CC3CNCC2CC3</td>\n",
       "      <td>4P///wgEAAAfAAAAAAAABAIKCgAACggUCDoCFAYGBiYGJg...</td>\n",
       "    </tr>\n",
       "    <tr>\n",
       "      <th>4</th>\n",
       "      <td>JCP2022_000005</td>\n",
       "      <td>AAAQFGUYHFJNHI-UHFFFAOYSA-N</td>\n",
       "      <td>InChI=1S/C22H22ClN5O2/c1-4-24-20(29)12-18-22-2...</td>\n",
       "      <td>CCN=C(O)CC3N=C(c1ccc(Cl)cc1)c2cc(ccc2N4C(C)=NN...</td>\n",
       "      <td>4P///wgEAABhAAAAAAAAAAIAAAAADAACAAAAABAAAgwAAA...</td>\n",
       "    </tr>\n",
       "  </tbody>\n",
       "</table>\n",
       "</div>"
      ],
      "text/plain": [
       "          JCP2022                     InChIKey                                              InChI                                             smiles   \n",
       "0  JCP2022_000001  AAAHWCWPZPSPIW-UHFFFAOYSA-N  InChI=1S/C25H31N5O2/c1-4-23-26-14-16-30(23)24-...  CCC1=NC=CN1c2cccc(n2)C3CCCN3C(=O)c4ccc(cc4)OCC...  \\\n",
       "1  JCP2022_000002  AAAJHRMBUHXWLD-UHFFFAOYSA-N  InChI=1S/C11H13ClN2O/c12-10-4-2-9(3-5-10)8-14-...                            OC1=NCCCN1Cc2ccc(Cl)cc2   \n",
       "2  JCP2022_000003  AAALVYBICLMAMA-UHFFFAOYSA-N  InChI=1S/C20H15N3O2/c24-19-15-11-17(21-13-7-3-...          OC2=NC(=O)c3cc(Nc1ccccc1)c(cc23)Nc4ccccc4   \n",
       "3  JCP2022_000004  AAANUZMCJQUYNX-UHFFFAOYSA-N  InChI=1S/C13H22N4O2S/c1-2-7-16-13(5-6-15-16)20...                 CCCN1N=CC=C1S(=O)(=O)N2CC3CNCC2CC3   \n",
       "4  JCP2022_000005  AAAQFGUYHFJNHI-UHFFFAOYSA-N  InChI=1S/C22H22ClN5O2/c1-4-24-20(29)12-18-22-2...  CCN=C(O)CC3N=C(c1ccc(Cl)cc1)c2cc(ccc2N4C(C)=NN...   \n",
       "\n",
       "                                pharmacophore_base64  \n",
       "0  4P///wgEAABaAAAAAgAAAAAAAAAABAAEAAAAAAACBAAIAA...  \n",
       "1  4P///wgEAAAXAAAABgAEAhAAFAIAAAAO0GoADEixALUAAA...  \n",
       "2  4P///wgEAABeAAAAAgAAAgAAAAAMAAAAAgAADgAAAAAMBA...  \n",
       "3  4P///wgEAAAfAAAAAAAABAIKCgAACggUCDoCFAYGBiYGJg...  \n",
       "4  4P///wgEAABhAAAAAAAAAAIAAAAADAACAAAAABAAAgwAAA...  "
      ]
     },
     "execution_count": 37,
     "metadata": {},
     "output_type": "execute_result"
    },
    {
     "data": {
      "text/html": [
       "<div>\n",
       "<style scoped>\n",
       "    .dataframe tbody tr th:only-of-type {\n",
       "        vertical-align: middle;\n",
       "    }\n",
       "\n",
       "    .dataframe tbody tr th {\n",
       "        vertical-align: top;\n",
       "    }\n",
       "\n",
       "    .dataframe thead th {\n",
       "        text-align: right;\n",
       "    }\n",
       "</style>\n",
       "<table border=\"1\" class=\"dataframe\">\n",
       "  <thead>\n",
       "    <tr style=\"text-align: right;\">\n",
       "      <th></th>\n",
       "      <th>JCP2022</th>\n",
       "      <th>InChIKey</th>\n",
       "      <th>InChI</th>\n",
       "      <th>smiles</th>\n",
       "      <th>pharmacophore_base64</th>\n",
       "    </tr>\n",
       "  </thead>\n",
       "  <tbody>\n",
       "  </tbody>\n",
       "</table>\n",
       "</div>"
      ],
      "text/plain": [
       "Empty DataFrame\n",
       "Columns: [JCP2022, InChIKey, InChI, smiles, pharmacophore_base64]\n",
       "Index: []"
      ]
     },
     "execution_count": 37,
     "metadata": {},
     "output_type": "execute_result"
    },
    {
     "data": {
      "text/plain": [
       "116751"
      ]
     },
     "execution_count": 37,
     "metadata": {},
     "output_type": "execute_result"
    },
    {
     "data": {
      "text/html": [
       "<div>\n",
       "<style scoped>\n",
       "    .dataframe tbody tr th:only-of-type {\n",
       "        vertical-align: middle;\n",
       "    }\n",
       "\n",
       "    .dataframe tbody tr th {\n",
       "        vertical-align: top;\n",
       "    }\n",
       "\n",
       "    .dataframe thead th {\n",
       "        text-align: right;\n",
       "    }\n",
       "</style>\n",
       "<table border=\"1\" class=\"dataframe\">\n",
       "  <thead>\n",
       "    <tr style=\"text-align: right;\">\n",
       "      <th></th>\n",
       "      <th>JCP2022</th>\n",
       "      <th>InChIKey</th>\n",
       "      <th>InChI</th>\n",
       "      <th>smiles</th>\n",
       "      <th>pharmacophore_base64</th>\n",
       "    </tr>\n",
       "  </thead>\n",
       "  <tbody>\n",
       "  </tbody>\n",
       "</table>\n",
       "</div>"
      ],
      "text/plain": [
       "Empty DataFrame\n",
       "Columns: [JCP2022, InChIKey, InChI, smiles, pharmacophore_base64]\n",
       "Index: []"
      ]
     },
     "execution_count": 37,
     "metadata": {},
     "output_type": "execute_result"
    },
    {
     "data": {
      "text/plain": [
       "116751"
      ]
     },
     "execution_count": 37,
     "metadata": {},
     "output_type": "execute_result"
    },
    {
     "data": {
      "text/html": [
       "<div>\n",
       "<style scoped>\n",
       "    .dataframe tbody tr th:only-of-type {\n",
       "        vertical-align: middle;\n",
       "    }\n",
       "\n",
       "    .dataframe tbody tr th {\n",
       "        vertical-align: top;\n",
       "    }\n",
       "\n",
       "    .dataframe thead th {\n",
       "        text-align: right;\n",
       "    }\n",
       "</style>\n",
       "<table border=\"1\" class=\"dataframe\">\n",
       "  <thead>\n",
       "    <tr style=\"text-align: right;\">\n",
       "      <th></th>\n",
       "      <th>JCP2022</th>\n",
       "      <th>InChIKey</th>\n",
       "      <th>InChI</th>\n",
       "      <th>smiles</th>\n",
       "      <th>pharmacophore_base64</th>\n",
       "    </tr>\n",
       "  </thead>\n",
       "  <tbody>\n",
       "  </tbody>\n",
       "</table>\n",
       "</div>"
      ],
      "text/plain": [
       "Empty DataFrame\n",
       "Columns: [JCP2022, InChIKey, InChI, smiles, pharmacophore_base64]\n",
       "Index: []"
      ]
     },
     "execution_count": 37,
     "metadata": {},
     "output_type": "execute_result"
    },
    {
     "data": {
      "text/plain": [
       "116751"
      ]
     },
     "execution_count": 37,
     "metadata": {},
     "output_type": "execute_result"
    }
   ],
   "source": [
    "# df_metadata_all.drop(columns='index', inplace = True)\n",
    "df_metadata_all.info()\n",
    "df_metadata_all.head()\n",
    "# df_fingerprints_all.loc[197:203]\n",
    "\n",
    "df_metadata_all[df_metadata_all['smiles'].isna()]\n",
    "len(df_metadata_all)\n",
    "df_metadata_all[df_metadata_all['InChI'].isna()]\n",
    "len(df_metadata_all)\n",
    "df_metadata_all[df_metadata_all['pharmacophore_base64'].isna()]\n",
    "len(df_metadata_all)"
   ]
  },
  {
   "cell_type": "code",
   "execution_count": 38,
   "id": "f01f33d6",
   "metadata": {
    "ExecuteTime": {
     "end_time": "2023-05-25T06:21:58.654847Z",
     "start_time": "2023-05-25T06:21:58.642398Z"
    }
   },
   "outputs": [
    {
     "name": "stdout",
     "output_type": "stream",
     "text": [
      " compound Metadata Output File 2: ./output/cp_compound_metadata_clean.csv\n",
      "\n"
     ]
    }
   ],
   "source": [
    "print(f\" compound Metadata Output File 3: {compoundMetadataOutputFile_3}\\n\")"
   ]
  },
  {
   "cell_type": "code",
   "execution_count": 39,
   "id": "2aa3e31e",
   "metadata": {
    "ExecuteTime": {
     "end_time": "2023-05-25T06:21:59.262398Z",
     "start_time": "2023-05-25T06:21:58.812004Z"
    }
   },
   "outputs": [],
   "source": [
    "df_metadata_all.to_csv(compoundMetadataOutputFile_3, header = True, index = False)"
   ]
  },
  {
   "cell_type": "markdown",
   "id": "f55af95d",
   "metadata": {},
   "source": [
    "## combine all fingerprint files and write to pickle `./output/cp_compound_pharmacophores.pkl`"
   ]
  },
  {
   "cell_type": "code",
   "execution_count": null,
   "id": "f5946e8e",
   "metadata": {
    "ExecuteTime": {
     "end_time": "2023-05-24T09:02:17.314822Z",
     "start_time": "2023-05-24T09:02:17.293822Z"
    }
   },
   "outputs": [],
   "source": [
    "   \n",
    "#     print(f\" {datetime.now().strftime('%X.%f')} | chunk_id: {chunk_id} | write to compoundPharmacophoreFile  | mode : {mode}  header: {header}\")\n",
    "#     df_fingerprints.to_csv(compoundPharmacophoreFile,\n",
    "#                     index=False,  \n",
    "#                     header=header, mode=mode)     # Skip index column"
   ]
  },
  {
   "cell_type": "code",
   "execution_count": 40,
   "id": "d8ef8b83",
   "metadata": {
    "ExecuteTime": {
     "end_time": "2023-05-25T06:22:22.091773Z",
     "start_time": "2023-05-25T06:22:22.053388Z"
    },
    "scrolled": true
   },
   "outputs": [
    {
     "name": "stdout",
     "output_type": "stream",
     "text": [
      "<class 'pandas.core.frame.DataFrame'>\n",
      "RangeIndex: 116751 entries, 0 to 116750\n",
      "Data columns (total 2 columns):\n",
      " #   Column            Non-Null Count   Dtype \n",
      "---  ------            --------------   ----- \n",
      " 0   JCP2022           116751 non-null  object\n",
      " 1   pharmacophore_fp  116751 non-null  object\n",
      "dtypes: object(2)\n",
      "memory usage: 1.8+ MB\n"
     ]
    },
    {
     "data": {
      "text/html": [
       "<div>\n",
       "<style scoped>\n",
       "    .dataframe tbody tr th:only-of-type {\n",
       "        vertical-align: middle;\n",
       "    }\n",
       "\n",
       "    .dataframe tbody tr th {\n",
       "        vertical-align: top;\n",
       "    }\n",
       "\n",
       "    .dataframe thead th {\n",
       "        text-align: right;\n",
       "    }\n",
       "</style>\n",
       "<table border=\"1\" class=\"dataframe\">\n",
       "  <thead>\n",
       "    <tr style=\"text-align: right;\">\n",
       "      <th></th>\n",
       "      <th>JCP2022</th>\n",
       "      <th>pharmacophore_fp</th>\n",
       "    </tr>\n",
       "  </thead>\n",
       "  <tbody>\n",
       "    <tr>\n",
       "      <th>0</th>\n",
       "      <td>JCP2022_000001</td>\n",
       "      <td>[0, 1, 1, 1, 1, 1, 1, 1, 1, 1, 0, 0, 1, 1, 0, ...</td>\n",
       "    </tr>\n",
       "    <tr>\n",
       "      <th>1</th>\n",
       "      <td>JCP2022_000002</td>\n",
       "      <td>[0, 0, 0, 1, 1, 0, 0, 1, 0, 1, 0, 0, 0, 0, 0, ...</td>\n",
       "    </tr>\n",
       "    <tr>\n",
       "      <th>2</th>\n",
       "      <td>JCP2022_000003</td>\n",
       "      <td>[0, 1, 1, 1, 0, 1, 1, 1, 1, 1, 0, 0, 0, 0, 0, ...</td>\n",
       "    </tr>\n",
       "    <tr>\n",
       "      <th>3</th>\n",
       "      <td>JCP2022_000004</td>\n",
       "      <td>[1, 1, 1, 0, 0, 1, 0, 1, 0, 0, 0, 0, 0, 1, 0, ...</td>\n",
       "    </tr>\n",
       "    <tr>\n",
       "      <th>4</th>\n",
       "      <td>JCP2022_000005</td>\n",
       "      <td>[1, 1, 1, 1, 0, 1, 1, 1, 1, 1, 0, 0, 0, 0, 0, ...</td>\n",
       "    </tr>\n",
       "  </tbody>\n",
       "</table>\n",
       "</div>"
      ],
      "text/plain": [
       "          JCP2022                                   pharmacophore_fp\n",
       "0  JCP2022_000001  [0, 1, 1, 1, 1, 1, 1, 1, 1, 1, 0, 0, 1, 1, 0, ...\n",
       "1  JCP2022_000002  [0, 0, 0, 1, 1, 0, 0, 1, 0, 1, 0, 0, 0, 0, 0, ...\n",
       "2  JCP2022_000003  [0, 1, 1, 1, 0, 1, 1, 1, 1, 1, 0, 0, 0, 0, 0, ...\n",
       "3  JCP2022_000004  [1, 1, 1, 0, 0, 1, 0, 1, 0, 0, 0, 0, 0, 1, 0, ...\n",
       "4  JCP2022_000005  [1, 1, 1, 1, 0, 1, 1, 1, 1, 1, 0, 0, 0, 0, 0, ..."
      ]
     },
     "execution_count": 40,
     "metadata": {},
     "output_type": "execute_result"
    },
    {
     "data": {
      "text/html": [
       "<div>\n",
       "<style scoped>\n",
       "    .dataframe tbody tr th:only-of-type {\n",
       "        vertical-align: middle;\n",
       "    }\n",
       "\n",
       "    .dataframe tbody tr th {\n",
       "        vertical-align: top;\n",
       "    }\n",
       "\n",
       "    .dataframe thead th {\n",
       "        text-align: right;\n",
       "    }\n",
       "</style>\n",
       "<table border=\"1\" class=\"dataframe\">\n",
       "  <thead>\n",
       "    <tr style=\"text-align: right;\">\n",
       "      <th></th>\n",
       "      <th>JCP2022</th>\n",
       "      <th>pharmacophore_fp</th>\n",
       "    </tr>\n",
       "  </thead>\n",
       "  <tbody>\n",
       "  </tbody>\n",
       "</table>\n",
       "</div>"
      ],
      "text/plain": [
       "Empty DataFrame\n",
       "Columns: [JCP2022, pharmacophore_fp]\n",
       "Index: []"
      ]
     },
     "execution_count": 40,
     "metadata": {},
     "output_type": "execute_result"
    },
    {
     "data": {
      "text/plain": [
       "116751"
      ]
     },
     "execution_count": 40,
     "metadata": {},
     "output_type": "execute_result"
    }
   ],
   "source": [
    "df_fingerprints_all = pd.concat([i[2] for i in results ], axis = 0, ignore_index=True )\n",
    "df_fingerprints_all.info()\n",
    "df_fingerprints_all.head()\n",
    "# df_fingerprints_all.loc[197:203]\n",
    "\n",
    "df_fingerprints_all[df_fingerprints_all['pharmacophore_fp'].isna()]\n",
    "len(df_fingerprints_all)"
   ]
  },
  {
   "cell_type": "code",
   "execution_count": 41,
   "id": "9835cb35",
   "metadata": {
    "ExecuteTime": {
     "end_time": "2023-05-25T06:22:30.460649Z",
     "start_time": "2023-05-25T06:22:30.448879Z"
    }
   },
   "outputs": [
    {
     "name": "stdout",
     "output_type": "stream",
     "text": [
      " compound Pharmacophore File    : ./output/cp_compound_pharmacophores.pkl\n"
     ]
    }
   ],
   "source": [
    "print(f\" compound Pharmacophore File    : {compoundPharmacophoreFile}\")"
   ]
  },
  {
   "cell_type": "code",
   "execution_count": 42,
   "id": "057f9dbb",
   "metadata": {
    "ExecuteTime": {
     "end_time": "2023-05-25T06:22:34.353360Z",
     "start_time": "2023-05-25T06:22:33.669830Z"
    }
   },
   "outputs": [],
   "source": [
    "df_fingerprints_all.to_pickle(compoundPharmacophoreFile)"
   ]
  },
  {
   "cell_type": "code",
   "execution_count": 43,
   "id": "6c7560e2",
   "metadata": {
    "ExecuteTime": {
     "end_time": "2023-05-25T06:22:35.302159Z",
     "start_time": "2023-05-25T06:22:35.291055Z"
    }
   },
   "outputs": [],
   "source": [
    "# df_chunk.info()\n",
    "# df_fingerprints.info()\n",
    "del df_fingerprints_all,   df_metadata_all"
   ]
  },
  {
   "cell_type": "markdown",
   "id": "6616c8e2",
   "metadata": {
    "heading_collapsed": true
   },
   "source": [
    "## Reread saved files and recheck them"
   ]
  },
  {
   "cell_type": "markdown",
   "id": "8911c423",
   "metadata": {
    "hidden": true
   },
   "source": [
    "### check - reread the written metadata CSV file `./output/cp_compound_metadata_clean.csv`"
   ]
  },
  {
   "cell_type": "code",
   "execution_count": 63,
   "id": "eef1fe7c",
   "metadata": {
    "ExecuteTime": {
     "end_time": "2023-05-25T10:35:30.580582Z",
     "start_time": "2023-05-25T10:35:30.569191Z"
    },
    "hidden": true,
    "scrolled": true
   },
   "outputs": [
    {
     "name": "stdout",
     "output_type": "stream",
     "text": [
      " compound Metadata Output File 2: ./output/cp_compound_metadata_clean.csv\n",
      "\n"
     ]
    }
   ],
   "source": [
    "print(f\" compound Metadata Output File 3: {compoundMetadataOutputFile_3}\\n\")\n"
   ]
  },
  {
   "cell_type": "code",
   "execution_count": 64,
   "id": "4b8bdac9",
   "metadata": {
    "ExecuteTime": {
     "end_time": "2023-05-25T10:35:34.375560Z",
     "start_time": "2023-05-25T10:35:33.974430Z"
    },
    "hidden": true
   },
   "outputs": [
    {
     "name": "stdout",
     "output_type": "stream",
     "text": [
      "<class 'pandas.core.frame.DataFrame'>\n",
      "RangeIndex: 116751 entries, 0 to 116750\n",
      "Data columns (total 5 columns):\n",
      " #   Column                Non-Null Count   Dtype \n",
      "---  ------                --------------   ----- \n",
      " 0   JCP2022               116751 non-null  object\n",
      " 1   InChIKey              116751 non-null  object\n",
      " 2   InChI                 116751 non-null  object\n",
      " 3   smiles                116751 non-null  object\n",
      " 4   pharmacophore_base64  116751 non-null  object\n",
      "dtypes: object(5)\n",
      "memory usage: 4.5+ MB\n"
     ]
    },
    {
     "data": {
      "text/html": [
       "<div>\n",
       "<style scoped>\n",
       "    .dataframe tbody tr th:only-of-type {\n",
       "        vertical-align: middle;\n",
       "    }\n",
       "\n",
       "    .dataframe tbody tr th {\n",
       "        vertical-align: top;\n",
       "    }\n",
       "\n",
       "    .dataframe thead th {\n",
       "        text-align: right;\n",
       "    }\n",
       "</style>\n",
       "<table border=\"1\" class=\"dataframe\">\n",
       "  <thead>\n",
       "    <tr style=\"text-align: right;\">\n",
       "      <th></th>\n",
       "      <th>JCP2022</th>\n",
       "      <th>InChIKey</th>\n",
       "      <th>InChI</th>\n",
       "      <th>smiles</th>\n",
       "      <th>pharmacophore_base64</th>\n",
       "    </tr>\n",
       "  </thead>\n",
       "  <tbody>\n",
       "    <tr>\n",
       "      <th>0</th>\n",
       "      <td>JCP2022_000001</td>\n",
       "      <td>AAAHWCWPZPSPIW-UHFFFAOYSA-N</td>\n",
       "      <td>InChI=1S/C25H31N5O2/c1-4-23-26-14-16-30(23)24-...</td>\n",
       "      <td>CCC1=NC=CN1c2cccc(n2)C3CCCN3C(=O)c4ccc(cc4)OCC...</td>\n",
       "      <td>4P///wgEAABaAAAAAgAAAAAAAAAABAAEAAAAAAACBAAIAA...</td>\n",
       "    </tr>\n",
       "    <tr>\n",
       "      <th>1</th>\n",
       "      <td>JCP2022_000002</td>\n",
       "      <td>AAAJHRMBUHXWLD-UHFFFAOYSA-N</td>\n",
       "      <td>InChI=1S/C11H13ClN2O/c12-10-4-2-9(3-5-10)8-14-...</td>\n",
       "      <td>OC1=NCCCN1Cc2ccc(Cl)cc2</td>\n",
       "      <td>4P///wgEAAAXAAAABgAEAhAAFAIAAAAO0GoADEixALUAAA...</td>\n",
       "    </tr>\n",
       "    <tr>\n",
       "      <th>2</th>\n",
       "      <td>JCP2022_000003</td>\n",
       "      <td>AAALVYBICLMAMA-UHFFFAOYSA-N</td>\n",
       "      <td>InChI=1S/C20H15N3O2/c24-19-15-11-17(21-13-7-3-...</td>\n",
       "      <td>OC2=NC(=O)c3cc(Nc1ccccc1)c(cc23)Nc4ccccc4</td>\n",
       "      <td>4P///wgEAABeAAAAAgAAAgAAAAAMAAAAAgAADgAAAAAMBA...</td>\n",
       "    </tr>\n",
       "    <tr>\n",
       "      <th>3</th>\n",
       "      <td>JCP2022_000004</td>\n",
       "      <td>AAANUZMCJQUYNX-UHFFFAOYSA-N</td>\n",
       "      <td>InChI=1S/C13H22N4O2S/c1-2-7-16-13(5-6-15-16)20...</td>\n",
       "      <td>CCCN1N=CC=C1S(=O)(=O)N2CC3CNCC2CC3</td>\n",
       "      <td>4P///wgEAAAfAAAAAAAABAIKCgAACggUCDoCFAYGBiYGJg...</td>\n",
       "    </tr>\n",
       "    <tr>\n",
       "      <th>4</th>\n",
       "      <td>JCP2022_000005</td>\n",
       "      <td>AAAQFGUYHFJNHI-UHFFFAOYSA-N</td>\n",
       "      <td>InChI=1S/C22H22ClN5O2/c1-4-24-20(29)12-18-22-2...</td>\n",
       "      <td>CCN=C(O)CC3N=C(c1ccc(Cl)cc1)c2cc(ccc2N4C(C)=NN...</td>\n",
       "      <td>4P///wgEAABhAAAAAAAAAAIAAAAADAACAAAAABAAAgwAAA...</td>\n",
       "    </tr>\n",
       "    <tr>\n",
       "      <th>5</th>\n",
       "      <td>JCP2022_000006</td>\n",
       "      <td>AAAROXVLYNJINN-UHFFFAOYSA-N</td>\n",
       "      <td>InChI=1S/C16H20N6O/c1-16(2,3)22-13(10-5-6-10)7...</td>\n",
       "      <td>CN1C=C(C=N1)C2=NOC(=N2)C4C=C(C3CC3)N(N=4)C(C)(C)C</td>\n",
       "      <td>4P///wgEAABHAAAAAAAAAAQAAAAMAAQAAAAmAg4wAAACBg...</td>\n",
       "    </tr>\n",
       "    <tr>\n",
       "      <th>6</th>\n",
       "      <td>JCP2022_000007</td>\n",
       "      <td>AAATVJFGQAZXQO-UHFFFAOYSA-N</td>\n",
       "      <td>InChI=1S/C24H22N2O4S/c1-14-20(15(2)30-26-14)13...</td>\n",
       "      <td>CC(OC(=O)c1ccccc1SCC2C(C)=NOC=2C)C(=O)C3=CNc4c...</td>\n",
       "      <td>4P///wgEAABiAAAAAAAAAAIAAAAADgAAAAACEAAAAAwAAA...</td>\n",
       "    </tr>\n",
       "    <tr>\n",
       "      <th>7</th>\n",
       "      <td>JCP2022_000008</td>\n",
       "      <td>AAAUIKUIDRZZQT-UHFFFAOYSA-N</td>\n",
       "      <td>InChI=1S/C26H24ClN3O2/c1-3-22(25(31)29-20-13-9...</td>\n",
       "      <td>CCC(C(O)=Nc1cccc(Cl)c1)N4C(=O)C(C)N=C(c2ccccc2...</td>\n",
       "      <td>4P///wgEAAA9AAAAAgICAgIMAAIAAAAAEgIMAAAADABCHg...</td>\n",
       "    </tr>\n",
       "    <tr>\n",
       "      <th>8</th>\n",
       "      <td>JCP2022_000009</td>\n",
       "      <td>AAAZRMGPBSWFDK-UHFFFAOYSA-N</td>\n",
       "      <td>InChI=1S/C18H19F3N4O4S2/c19-18(20,21)13-3-1-2-...</td>\n",
       "      <td>NC(=O)C1C=CSC=1N=C(O)CN2CCN(CC2)S(=O)(=O)c3ccc...</td>\n",
       "      <td>4P///wgEAABKAAAAAAAAAAAAAAAAAAYIAA4GAAAAAAYEDA...</td>\n",
       "    </tr>\n",
       "    <tr>\n",
       "      <th>9</th>\n",
       "      <td>JCP2022_000010</td>\n",
       "      <td>AABLKAPUNFMSIA-UHFFFAOYSA-N</td>\n",
       "      <td>InChI=1S/C15H24N4O4S/c1-3-18-14(4-7-16-18)15(2...</td>\n",
       "      <td>CCN1N=CC=C1C(=O)N2CC(C2)N(C3CCOCC3)S(C)(=O)=O</td>\n",
       "      <td>4P///wgEAAAPAAAAAAAAAAAAGHYIBAgEAGAKxQs=</td>\n",
       "    </tr>\n",
       "  </tbody>\n",
       "</table>\n",
       "</div>"
      ],
      "text/plain": [
       "          JCP2022                     InChIKey                                              InChI                                             smiles   \n",
       "0  JCP2022_000001  AAAHWCWPZPSPIW-UHFFFAOYSA-N  InChI=1S/C25H31N5O2/c1-4-23-26-14-16-30(23)24-...  CCC1=NC=CN1c2cccc(n2)C3CCCN3C(=O)c4ccc(cc4)OCC...  \\\n",
       "1  JCP2022_000002  AAAJHRMBUHXWLD-UHFFFAOYSA-N  InChI=1S/C11H13ClN2O/c12-10-4-2-9(3-5-10)8-14-...                            OC1=NCCCN1Cc2ccc(Cl)cc2   \n",
       "2  JCP2022_000003  AAALVYBICLMAMA-UHFFFAOYSA-N  InChI=1S/C20H15N3O2/c24-19-15-11-17(21-13-7-3-...          OC2=NC(=O)c3cc(Nc1ccccc1)c(cc23)Nc4ccccc4   \n",
       "3  JCP2022_000004  AAANUZMCJQUYNX-UHFFFAOYSA-N  InChI=1S/C13H22N4O2S/c1-2-7-16-13(5-6-15-16)20...                 CCCN1N=CC=C1S(=O)(=O)N2CC3CNCC2CC3   \n",
       "4  JCP2022_000005  AAAQFGUYHFJNHI-UHFFFAOYSA-N  InChI=1S/C22H22ClN5O2/c1-4-24-20(29)12-18-22-2...  CCN=C(O)CC3N=C(c1ccc(Cl)cc1)c2cc(ccc2N4C(C)=NN...   \n",
       "5  JCP2022_000006  AAAROXVLYNJINN-UHFFFAOYSA-N  InChI=1S/C16H20N6O/c1-16(2,3)22-13(10-5-6-10)7...  CN1C=C(C=N1)C2=NOC(=N2)C4C=C(C3CC3)N(N=4)C(C)(C)C   \n",
       "6  JCP2022_000007  AAATVJFGQAZXQO-UHFFFAOYSA-N  InChI=1S/C24H22N2O4S/c1-14-20(15(2)30-26-14)13...  CC(OC(=O)c1ccccc1SCC2C(C)=NOC=2C)C(=O)C3=CNc4c...   \n",
       "7  JCP2022_000008  AAAUIKUIDRZZQT-UHFFFAOYSA-N  InChI=1S/C26H24ClN3O2/c1-3-22(25(31)29-20-13-9...  CCC(C(O)=Nc1cccc(Cl)c1)N4C(=O)C(C)N=C(c2ccccc2...   \n",
       "8  JCP2022_000009  AAAZRMGPBSWFDK-UHFFFAOYSA-N  InChI=1S/C18H19F3N4O4S2/c19-18(20,21)13-3-1-2-...  NC(=O)C1C=CSC=1N=C(O)CN2CCN(CC2)S(=O)(=O)c3ccc...   \n",
       "9  JCP2022_000010  AABLKAPUNFMSIA-UHFFFAOYSA-N  InChI=1S/C15H24N4O4S/c1-3-18-14(4-7-16-18)15(2...      CCN1N=CC=C1C(=O)N2CC(C2)N(C3CCOCC3)S(C)(=O)=O   \n",
       "\n",
       "                                pharmacophore_base64  \n",
       "0  4P///wgEAABaAAAAAgAAAAAAAAAABAAEAAAAAAACBAAIAA...  \n",
       "1  4P///wgEAAAXAAAABgAEAhAAFAIAAAAO0GoADEixALUAAA...  \n",
       "2  4P///wgEAABeAAAAAgAAAgAAAAAMAAAAAgAADgAAAAAMBA...  \n",
       "3  4P///wgEAAAfAAAAAAAABAIKCgAACggUCDoCFAYGBiYGJg...  \n",
       "4  4P///wgEAABhAAAAAAAAAAIAAAAADAACAAAAABAAAgwAAA...  \n",
       "5  4P///wgEAABHAAAAAAAAAAQAAAAMAAQAAAAmAg4wAAACBg...  \n",
       "6  4P///wgEAABiAAAAAAAAAAIAAAAADgAAAAACEAAAAAwAAA...  \n",
       "7  4P///wgEAAA9AAAAAgICAgIMAAIAAAAAEgIMAAAADABCHg...  \n",
       "8  4P///wgEAABKAAAAAAAAAAAAAAAAAAYIAA4GAAAAAAYEDA...  \n",
       "9           4P///wgEAAAPAAAAAAAAAAAAGHYIBAgEAGAKxQs=  "
      ]
     },
     "execution_count": 64,
     "metadata": {},
     "output_type": "execute_result"
    }
   ],
   "source": [
    "df = pd.read_csv(compoundMetadataOutputFile_3)\n",
    "df.info()\n",
    "df.head(10)\n",
    "# df.tail(10)"
   ]
  },
  {
   "cell_type": "code",
   "execution_count": 65,
   "id": "cbc6cc33",
   "metadata": {
    "ExecuteTime": {
     "end_time": "2023-05-25T10:36:06.352181Z",
     "start_time": "2023-05-25T10:36:06.318052Z"
    },
    "hidden": true
   },
   "outputs": [
    {
     "data": {
      "text/html": [
       "<div>\n",
       "<style scoped>\n",
       "    .dataframe tbody tr th:only-of-type {\n",
       "        vertical-align: middle;\n",
       "    }\n",
       "\n",
       "    .dataframe tbody tr th {\n",
       "        vertical-align: top;\n",
       "    }\n",
       "\n",
       "    .dataframe thead th {\n",
       "        text-align: right;\n",
       "    }\n",
       "</style>\n",
       "<table border=\"1\" class=\"dataframe\">\n",
       "  <thead>\n",
       "    <tr style=\"text-align: right;\">\n",
       "      <th></th>\n",
       "      <th>JCP2022</th>\n",
       "      <th>InChIKey</th>\n",
       "      <th>InChI</th>\n",
       "      <th>smiles</th>\n",
       "      <th>pharmacophore_base64</th>\n",
       "    </tr>\n",
       "  </thead>\n",
       "  <tbody>\n",
       "  </tbody>\n",
       "</table>\n",
       "</div>"
      ],
      "text/plain": [
       "Empty DataFrame\n",
       "Columns: [JCP2022, InChIKey, InChI, smiles, pharmacophore_base64]\n",
       "Index: []"
      ]
     },
     "execution_count": 65,
     "metadata": {},
     "output_type": "execute_result"
    },
    {
     "data": {
      "text/plain": [
       "116751"
      ]
     },
     "execution_count": 65,
     "metadata": {},
     "output_type": "execute_result"
    },
    {
     "data": {
      "text/html": [
       "<div>\n",
       "<style scoped>\n",
       "    .dataframe tbody tr th:only-of-type {\n",
       "        vertical-align: middle;\n",
       "    }\n",
       "\n",
       "    .dataframe tbody tr th {\n",
       "        vertical-align: top;\n",
       "    }\n",
       "\n",
       "    .dataframe thead th {\n",
       "        text-align: right;\n",
       "    }\n",
       "</style>\n",
       "<table border=\"1\" class=\"dataframe\">\n",
       "  <thead>\n",
       "    <tr style=\"text-align: right;\">\n",
       "      <th></th>\n",
       "      <th>JCP2022</th>\n",
       "      <th>InChIKey</th>\n",
       "      <th>InChI</th>\n",
       "      <th>smiles</th>\n",
       "      <th>pharmacophore_base64</th>\n",
       "    </tr>\n",
       "  </thead>\n",
       "  <tbody>\n",
       "  </tbody>\n",
       "</table>\n",
       "</div>"
      ],
      "text/plain": [
       "Empty DataFrame\n",
       "Columns: [JCP2022, InChIKey, InChI, smiles, pharmacophore_base64]\n",
       "Index: []"
      ]
     },
     "execution_count": 65,
     "metadata": {},
     "output_type": "execute_result"
    },
    {
     "data": {
      "text/plain": [
       "116751"
      ]
     },
     "execution_count": 65,
     "metadata": {},
     "output_type": "execute_result"
    },
    {
     "data": {
      "text/html": [
       "<div>\n",
       "<style scoped>\n",
       "    .dataframe tbody tr th:only-of-type {\n",
       "        vertical-align: middle;\n",
       "    }\n",
       "\n",
       "    .dataframe tbody tr th {\n",
       "        vertical-align: top;\n",
       "    }\n",
       "\n",
       "    .dataframe thead th {\n",
       "        text-align: right;\n",
       "    }\n",
       "</style>\n",
       "<table border=\"1\" class=\"dataframe\">\n",
       "  <thead>\n",
       "    <tr style=\"text-align: right;\">\n",
       "      <th></th>\n",
       "      <th>JCP2022</th>\n",
       "      <th>InChIKey</th>\n",
       "      <th>InChI</th>\n",
       "      <th>smiles</th>\n",
       "      <th>pharmacophore_base64</th>\n",
       "    </tr>\n",
       "  </thead>\n",
       "  <tbody>\n",
       "  </tbody>\n",
       "</table>\n",
       "</div>"
      ],
      "text/plain": [
       "Empty DataFrame\n",
       "Columns: [JCP2022, InChIKey, InChI, smiles, pharmacophore_base64]\n",
       "Index: []"
      ]
     },
     "execution_count": 65,
     "metadata": {},
     "output_type": "execute_result"
    },
    {
     "data": {
      "text/plain": [
       "116751"
      ]
     },
     "execution_count": 65,
     "metadata": {},
     "output_type": "execute_result"
    }
   ],
   "source": [
    "df[df['InChI'].isna()]\n",
    "len(df)\n",
    "df[df['smiles'].isna()]\n",
    "len(df)\n",
    "df[df['pharmacophore_base64'].isna()]\n",
    "len(df)\n"
   ]
  },
  {
   "cell_type": "code",
   "execution_count": null,
   "id": "800084eb",
   "metadata": {
    "hidden": true
   },
   "outputs": [],
   "source": []
  },
  {
   "cell_type": "code",
   "execution_count": 47,
   "id": "8b10301d",
   "metadata": {
    "ExecuteTime": {
     "end_time": "2023-05-25T06:23:06.424162Z",
     "start_time": "2023-05-25T06:23:06.412680Z"
    },
    "hidden": true
   },
   "outputs": [],
   "source": [
    "del df "
   ]
  },
  {
   "cell_type": "markdown",
   "id": "8d36c014",
   "metadata": {
    "heading_collapsed": true,
    "hidden": true
   },
   "source": [
    "### check - reread the written fingerprint pickle file `./output/cp_compound_pharmacophores.pkl`"
   ]
  },
  {
   "cell_type": "code",
   "execution_count": 54,
   "id": "16230c78",
   "metadata": {
    "ExecuteTime": {
     "end_time": "2023-05-25T10:05:20.749055Z",
     "start_time": "2023-05-25T10:05:20.736987Z"
    },
    "hidden": true
   },
   "outputs": [
    {
     "name": "stdout",
     "output_type": "stream",
     "text": [
      " compound Pharmacophore File    : ./output/cp_compound_pharmacophores.pkl\n"
     ]
    }
   ],
   "source": [
    "print(f\" compound Pharmacophore File    : {compoundPharmacophoreFile}\")"
   ]
  },
  {
   "cell_type": "code",
   "execution_count": 44,
   "id": "87b16cb3",
   "metadata": {
    "ExecuteTime": {
     "end_time": "2023-05-25T06:22:43.794360Z",
     "start_time": "2023-05-25T06:22:42.794157Z"
    },
    "hidden": true
   },
   "outputs": [
    {
     "name": "stdout",
     "output_type": "stream",
     "text": [
      "<class 'pandas.core.frame.DataFrame'>\n",
      "RangeIndex: 116751 entries, 0 to 116750\n",
      "Data columns (total 2 columns):\n",
      " #   Column            Non-Null Count   Dtype \n",
      "---  ------            --------------   ----- \n",
      " 0   JCP2022           116751 non-null  object\n",
      " 1   pharmacophore_fp  116751 non-null  object\n",
      "dtypes: object(2)\n",
      "memory usage: 1.8+ MB\n"
     ]
    },
    {
     "data": {
      "text/html": [
       "<div>\n",
       "<style scoped>\n",
       "    .dataframe tbody tr th:only-of-type {\n",
       "        vertical-align: middle;\n",
       "    }\n",
       "\n",
       "    .dataframe tbody tr th {\n",
       "        vertical-align: top;\n",
       "    }\n",
       "\n",
       "    .dataframe thead th {\n",
       "        text-align: right;\n",
       "    }\n",
       "</style>\n",
       "<table border=\"1\" class=\"dataframe\">\n",
       "  <thead>\n",
       "    <tr style=\"text-align: right;\">\n",
       "      <th></th>\n",
       "      <th>JCP2022</th>\n",
       "      <th>pharmacophore_fp</th>\n",
       "    </tr>\n",
       "  </thead>\n",
       "  <tbody>\n",
       "    <tr>\n",
       "      <th>0</th>\n",
       "      <td>JCP2022_000001</td>\n",
       "      <td>[0, 1, 1, 1, 1, 1, 1, 1, 1, 1, 0, 0, 1, 1, 0, ...</td>\n",
       "    </tr>\n",
       "    <tr>\n",
       "      <th>1</th>\n",
       "      <td>JCP2022_000002</td>\n",
       "      <td>[0, 0, 0, 1, 1, 0, 0, 1, 0, 1, 0, 0, 0, 0, 0, ...</td>\n",
       "    </tr>\n",
       "    <tr>\n",
       "      <th>2</th>\n",
       "      <td>JCP2022_000003</td>\n",
       "      <td>[0, 1, 1, 1, 0, 1, 1, 1, 1, 1, 0, 0, 0, 0, 0, ...</td>\n",
       "    </tr>\n",
       "    <tr>\n",
       "      <th>3</th>\n",
       "      <td>JCP2022_000004</td>\n",
       "      <td>[1, 1, 1, 0, 0, 1, 0, 1, 0, 0, 0, 0, 0, 1, 0, ...</td>\n",
       "    </tr>\n",
       "    <tr>\n",
       "      <th>4</th>\n",
       "      <td>JCP2022_000005</td>\n",
       "      <td>[1, 1, 1, 1, 0, 1, 1, 1, 1, 1, 0, 0, 0, 0, 0, ...</td>\n",
       "    </tr>\n",
       "    <tr>\n",
       "      <th>5</th>\n",
       "      <td>JCP2022_000006</td>\n",
       "      <td>[1, 1, 1, 1, 0, 0, 1, 1, 1, 1, 0, 0, 0, 0, 0, ...</td>\n",
       "    </tr>\n",
       "    <tr>\n",
       "      <th>6</th>\n",
       "      <td>JCP2022_000007</td>\n",
       "      <td>[1, 1, 1, 1, 0, 1, 1, 1, 1, 1, 0, 0, 0, 0, 0, ...</td>\n",
       "    </tr>\n",
       "    <tr>\n",
       "      <th>7</th>\n",
       "      <td>JCP2022_000008</td>\n",
       "      <td>[0, 1, 0, 1, 0, 1, 0, 1, 0, 1, 0, 0, 0, 0, 0, ...</td>\n",
       "    </tr>\n",
       "    <tr>\n",
       "      <th>8</th>\n",
       "      <td>JCP2022_000009</td>\n",
       "      <td>[1, 1, 1, 1, 1, 1, 1, 1, 1, 1, 0, 0, 0, 1, 0, ...</td>\n",
       "    </tr>\n",
       "    <tr>\n",
       "      <th>9</th>\n",
       "      <td>JCP2022_000010</td>\n",
       "      <td>[1, 1, 1, 1, 1, 1, 0, 0, 0, 0, 0, 0, 0, 0, 0, ...</td>\n",
       "    </tr>\n",
       "  </tbody>\n",
       "</table>\n",
       "</div>"
      ],
      "text/plain": [
       "          JCP2022                                   pharmacophore_fp\n",
       "0  JCP2022_000001  [0, 1, 1, 1, 1, 1, 1, 1, 1, 1, 0, 0, 1, 1, 0, ...\n",
       "1  JCP2022_000002  [0, 0, 0, 1, 1, 0, 0, 1, 0, 1, 0, 0, 0, 0, 0, ...\n",
       "2  JCP2022_000003  [0, 1, 1, 1, 0, 1, 1, 1, 1, 1, 0, 0, 0, 0, 0, ...\n",
       "3  JCP2022_000004  [1, 1, 1, 0, 0, 1, 0, 1, 0, 0, 0, 0, 0, 1, 0, ...\n",
       "4  JCP2022_000005  [1, 1, 1, 1, 0, 1, 1, 1, 1, 1, 0, 0, 0, 0, 0, ...\n",
       "5  JCP2022_000006  [1, 1, 1, 1, 0, 0, 1, 1, 1, 1, 0, 0, 0, 0, 0, ...\n",
       "6  JCP2022_000007  [1, 1, 1, 1, 0, 1, 1, 1, 1, 1, 0, 0, 0, 0, 0, ...\n",
       "7  JCP2022_000008  [0, 1, 0, 1, 0, 1, 0, 1, 0, 1, 0, 0, 0, 0, 0, ...\n",
       "8  JCP2022_000009  [1, 1, 1, 1, 1, 1, 1, 1, 1, 1, 0, 0, 0, 1, 0, ...\n",
       "9  JCP2022_000010  [1, 1, 1, 1, 1, 1, 0, 0, 0, 0, 0, 0, 0, 0, 0, ..."
      ]
     },
     "execution_count": 44,
     "metadata": {},
     "output_type": "execute_result"
    },
    {
     "data": {
      "text/html": [
       "<div>\n",
       "<style scoped>\n",
       "    .dataframe tbody tr th:only-of-type {\n",
       "        vertical-align: middle;\n",
       "    }\n",
       "\n",
       "    .dataframe tbody tr th {\n",
       "        vertical-align: top;\n",
       "    }\n",
       "\n",
       "    .dataframe thead th {\n",
       "        text-align: right;\n",
       "    }\n",
       "</style>\n",
       "<table border=\"1\" class=\"dataframe\">\n",
       "  <thead>\n",
       "    <tr style=\"text-align: right;\">\n",
       "      <th></th>\n",
       "      <th>JCP2022</th>\n",
       "      <th>pharmacophore_fp</th>\n",
       "    </tr>\n",
       "  </thead>\n",
       "  <tbody>\n",
       "    <tr>\n",
       "      <th>116741</th>\n",
       "      <td>JCP2022_116744</td>\n",
       "      <td>[0, 1, 1, 1, 0, 0, 1, 1, 1, 1, 0, 0, 0, 0, 0, ...</td>\n",
       "    </tr>\n",
       "    <tr>\n",
       "      <th>116742</th>\n",
       "      <td>JCP2022_116745</td>\n",
       "      <td>[0, 1, 1, 1, 1, 1, 0, 1, 1, 1, 0, 0, 0, 0, 0, ...</td>\n",
       "    </tr>\n",
       "    <tr>\n",
       "      <th>116743</th>\n",
       "      <td>JCP2022_116746</td>\n",
       "      <td>[0, 1, 1, 1, 0, 1, 1, 1, 1, 1, 0, 0, 0, 0, 0, ...</td>\n",
       "    </tr>\n",
       "    <tr>\n",
       "      <th>116744</th>\n",
       "      <td>JCP2022_116747</td>\n",
       "      <td>[0, 1, 1, 0, 0, 1, 1, 1, 0, 0, 0, 0, 0, 1, 0, ...</td>\n",
       "    </tr>\n",
       "    <tr>\n",
       "      <th>116745</th>\n",
       "      <td>JCP2022_116748</td>\n",
       "      <td>[0, 1, 1, 1, 1, 1, 1, 1, 1, 1, 0, 0, 0, 0, 0, ...</td>\n",
       "    </tr>\n",
       "    <tr>\n",
       "      <th>116746</th>\n",
       "      <td>JCP2022_116749</td>\n",
       "      <td>[0, 1, 1, 1, 1, 1, 1, 1, 1, 1, 0, 0, 0, 1, 0, ...</td>\n",
       "    </tr>\n",
       "    <tr>\n",
       "      <th>116747</th>\n",
       "      <td>JCP2022_116750</td>\n",
       "      <td>[1, 1, 1, 1, 1, 1, 1, 1, 0, 1, 0, 0, 0, 0, 0, ...</td>\n",
       "    </tr>\n",
       "    <tr>\n",
       "      <th>116748</th>\n",
       "      <td>JCP2022_116751</td>\n",
       "      <td>[0, 1, 1, 1, 0, 1, 0, 1, 1, 1, 0, 0, 0, 0, 0, ...</td>\n",
       "    </tr>\n",
       "    <tr>\n",
       "      <th>116749</th>\n",
       "      <td>JCP2022_116752</td>\n",
       "      <td>[1, 1, 1, 1, 1, 1, 1, 1, 1, 1, 0, 0, 0, 0, 0, ...</td>\n",
       "    </tr>\n",
       "    <tr>\n",
       "      <th>116750</th>\n",
       "      <td>JCP2022_116753</td>\n",
       "      <td>[0, 1, 1, 0, 0, 1, 1, 0, 1, 0, 0, 0, 0, 1, 0, ...</td>\n",
       "    </tr>\n",
       "  </tbody>\n",
       "</table>\n",
       "</div>"
      ],
      "text/plain": [
       "               JCP2022                                   pharmacophore_fp\n",
       "116741  JCP2022_116744  [0, 1, 1, 1, 0, 0, 1, 1, 1, 1, 0, 0, 0, 0, 0, ...\n",
       "116742  JCP2022_116745  [0, 1, 1, 1, 1, 1, 0, 1, 1, 1, 0, 0, 0, 0, 0, ...\n",
       "116743  JCP2022_116746  [0, 1, 1, 1, 0, 1, 1, 1, 1, 1, 0, 0, 0, 0, 0, ...\n",
       "116744  JCP2022_116747  [0, 1, 1, 0, 0, 1, 1, 1, 0, 0, 0, 0, 0, 1, 0, ...\n",
       "116745  JCP2022_116748  [0, 1, 1, 1, 1, 1, 1, 1, 1, 1, 0, 0, 0, 0, 0, ...\n",
       "116746  JCP2022_116749  [0, 1, 1, 1, 1, 1, 1, 1, 1, 1, 0, 0, 0, 1, 0, ...\n",
       "116747  JCP2022_116750  [1, 1, 1, 1, 1, 1, 1, 1, 0, 1, 0, 0, 0, 0, 0, ...\n",
       "116748  JCP2022_116751  [0, 1, 1, 1, 0, 1, 0, 1, 1, 1, 0, 0, 0, 0, 0, ...\n",
       "116749  JCP2022_116752  [1, 1, 1, 1, 1, 1, 1, 1, 1, 1, 0, 0, 0, 0, 0, ...\n",
       "116750  JCP2022_116753  [0, 1, 1, 0, 0, 1, 1, 0, 1, 0, 0, 0, 0, 1, 0, ..."
      ]
     },
     "execution_count": 44,
     "metadata": {},
     "output_type": "execute_result"
    }
   ],
   "source": [
    "df = pd.read_pickle(compoundPharmacophoreFile)\n",
    "df.info()\n",
    "df.head(10)\n",
    "df.tail(10)"
   ]
  },
  {
   "cell_type": "code",
   "execution_count": 45,
   "id": "4d9cfb66",
   "metadata": {
    "ExecuteTime": {
     "end_time": "2023-05-25T06:22:49.221216Z",
     "start_time": "2023-05-25T06:22:49.208807Z"
    },
    "hidden": true
   },
   "outputs": [
    {
     "name": "stdout",
     "output_type": "stream",
     "text": [
      "<class 'rdkit.DataStructs.cDataStructs.SparseBitVect'> 1032 <rdkit.DataStructs.cDataStructs.SparseBitVect object at 0x7fc484318f90>\n",
      "<class 'rdkit.DataStructs.cDataStructs.SparseBitVect'> 1032 <rdkit.DataStructs.cDataStructs.SparseBitVect object at 0x7fc484318f90>\n",
      "<class 'rdkit.DataStructs.cDataStructs.SparseBitVect'> 1032 <rdkit.DataStructs.cDataStructs.SparseBitVect object at 0x7fc484318f90>\n"
     ]
    }
   ],
   "source": [
    "\n",
    "print(type(df.at[0, 'pharmacophore_fp']), len(df.at[0, 'pharmacophore_fp']),  df.at[0, 'pharmacophore_fp'])\n",
    "print(type(df.loc[0].pharmacophore_fp)  , len(df.loc[0].pharmacophore_fp)  ,  df.loc[0].pharmacophore_fp)\n",
    "print(type(df.iloc[0].pharmacophore_fp) , len(df.iloc[0].pharmacophore_fp) ,  df.iloc[0].pharmacophore_fp)\n",
    "# print(type(df[0].pharmacophore_fp) , len(df[0].pharmacophore_fp) ,  df[0].pharmacophore_fp)\n"
   ]
  },
  {
   "cell_type": "markdown",
   "id": "a4e2aa75",
   "metadata": {
    "ExecuteTime": {
     "end_time": "2023-05-23T10:58:12.475270Z",
     "start_time": "2023-05-23T10:58:12.464876Z"
    }
   },
   "source": [
    "# Figuring out what to do with the fingerprints --> Sparse CSR matrix"
   ]
  },
  {
   "cell_type": "code",
   "execution_count": 75,
   "id": "b13e699a",
   "metadata": {
    "ExecuteTime": {
     "end_time": "2023-05-25T11:22:20.144434Z",
     "start_time": "2023-05-25T11:22:20.127251Z"
    }
   },
   "outputs": [
    {
     "name": "stdout",
     "output_type": "stream",
     "text": [
      "1032\n"
     ]
    }
   ],
   "source": [
    "# import rdkit\n",
    "# from rdkit.Chem import AllChem\n",
    "# # from rdkit.Chem.Draw import rdMolDraw2D\n",
    "# from rdkit.Chem import inchi\n",
    "\n",
    "# from rdkit.Chem.Pharm2D import Generate\n",
    "# import rdkit.Avalon.pyAvalonTools as pat\n",
    "\n",
    "from rdkit import RDConfig\n",
    "from rdkit.Chem import ChemicalFeatures\n",
    "from rdkit.Chem.Pharm2D.SigFactory import SigFactory    \n",
    "\n",
    "fdefName = os.path.join(RDConfig.RDDataDir,'BaseFeatures.fdef')\n",
    "#     print(f\" RDKit BaseFeatures.fdef : {fdefName}\")\n",
    "featFactory = ChemicalFeatures.BuildFeatureFactory(fdefName)\n",
    "sigFactory = SigFactory(featFactory,minPointCount=2,maxPointCount=3)\n",
    "sigFactory.SetBins( [(0,3),(3,8)])\n",
    "sigFactory.Init()\n",
    "ncols=sigFactory.GetSigSize()    \n",
    "print(ncols)"
   ]
  },
  {
   "cell_type": "code",
   "execution_count": 67,
   "id": "71dcc3f6",
   "metadata": {
    "ExecuteTime": {
     "end_time": "2023-05-25T10:43:34.261968Z",
     "start_time": "2023-05-25T10:43:34.249209Z"
    }
   },
   "outputs": [
    {
     "name": "stdout",
     "output_type": "stream",
     "text": [
      " prefix                             : CP \n",
      "\n",
      " compound Metadata Input File       : ./output/cp_compound_metadata_clean.csv \n",
      "\n",
      " compound Metadata Input File TPSA  : ./input/cp_compound_metadata_clean_tpsa.csv\n",
      " compound Metadata Output File      : ./output/cp_compound_metadata_clean.csv\n",
      "\n",
      " compound TPSA File                 : ./output/cp_compound_TPSA.csv\n",
      " compound Pharmacophore File        : ./output/cp_compound_pharmacophores.pkl\n"
     ]
    }
   ],
   "source": [
    "input_path =\"./input/\"\n",
    "output_path =\"./output/\"\n",
    "prefix = 'CP' ### Target-2' , 'MOA'\n",
    "prefix_lc = prefix.lower().replace('-', '_')\n",
    " \n",
    "# compoundMetadataInputFile   = f\"{input_path}JUMP-{prefix}_compound_library.csv\"\n",
    "\n",
    "# compoundMetadataInputFile      = f\"{output_path}{prefix_lc}_compound_metadata_clean.csv\"\n",
    "# compoundMetadataInputFileTPSA  = f\"{input_path}{prefix_lc}_compound_metadata_clean_tpsa.csv\"\n",
    "# # compoundMetadataOutputFile_2   = f\"{output_path}{prefix_lc}_compound_metadata_2_X.csv\"\n",
    "# compoundTPSAFile                = f\"{output_path}{prefix_lc}_compound_TPSA.csv\"\n",
    "# compoundPharmacophoreFile       = f\"{output_path}{prefix_lc}_compound_pharmacophores.pkl\"\n",
    "\n",
    "print(f\" prefix                             : {prefix} \\n\" )\n",
    "print(f\" compound Metadata Input File       : {compoundMetadataInputFile} \\n\")\n",
    "print(f\" compound Metadata Input File TPSA  : {compoundMetadataInputFileTPSA}\")\n",
    "print(f\" compound Metadata Output File      : {compoundMetadataOutputFile}\\n\")\n",
    "print(f\" compound TPSA File                 : {compoundTPSAFile}\")\n",
    "print(f\" compound Pharmacophore File        : {compoundPharmacophoreFile}\")"
   ]
  },
  {
   "cell_type": "code",
   "execution_count": 72,
   "id": "3e82c645",
   "metadata": {
    "ExecuteTime": {
     "end_time": "2023-05-25T10:45:36.600539Z",
     "start_time": "2023-05-25T10:45:35.702901Z"
    }
   },
   "outputs": [
    {
     "name": "stdout",
     "output_type": "stream",
     "text": [
      "<class 'pandas.core.frame.DataFrame'>\n",
      "RangeIndex: 116751 entries, 0 to 116750\n",
      "Data columns (total 2 columns):\n",
      " #   Column            Non-Null Count   Dtype \n",
      "---  ------            --------------   ----- \n",
      " 0   JCP2022           116751 non-null  object\n",
      " 1   pharmacophore_fp  116751 non-null  object\n",
      "dtypes: object(2)\n",
      "memory usage: 1.8+ MB\n",
      "None\n",
      "          JCP2022                                   pharmacophore_fp\n",
      "0  JCP2022_000001  [0, 1, 1, 1, 1, 1, 1, 1, 1, 1, 0, 0, 1, 1, 0, ...\n",
      "1  JCP2022_000002  [0, 0, 0, 1, 1, 0, 0, 1, 0, 1, 0, 0, 0, 0, 0, ...\n",
      "2  JCP2022_000003  [0, 1, 1, 1, 0, 1, 1, 1, 1, 1, 0, 0, 0, 0, 0, ...\n",
      "3  JCP2022_000004  [1, 1, 1, 0, 0, 1, 0, 1, 0, 0, 0, 0, 0, 1, 0, ...\n",
      "4  JCP2022_000005  [1, 1, 1, 1, 0, 1, 1, 1, 1, 1, 0, 0, 0, 0, 0, ...\n",
      "<class 'pandas.core.frame.DataFrame'>\n",
      "RangeIndex: 116751 entries, 0 to 116750\n",
      "Data columns (total 2 columns):\n",
      " #   Column            Non-Null Count   Dtype \n",
      "---  ------            --------------   ----- \n",
      " 0   JCP2022           116751 non-null  object\n",
      " 1   pharmacophore_fp  116751 non-null  object\n",
      "dtypes: object(2)\n",
      "memory usage: 1.8+ MB\n"
     ]
    },
    {
     "data": {
      "text/plain": [
       "rdkit.DataStructs.cDataStructs.SparseBitVect"
      ]
     },
     "execution_count": 72,
     "metadata": {},
     "output_type": "execute_result"
    }
   ],
   "source": [
    "df = pd.read_pickle(compoundPharmacophoreFile)\n",
    "print(df.info())\n",
    "print(df.head(5))\n",
    "# print(df.tail(10))\n",
    "df.info() \n",
    "type(df.loc[0].pharmacophore_fp)"
   ]
  },
  {
   "cell_type": "code",
   "execution_count": null,
   "id": "31918bbf",
   "metadata": {
    "ExecuteTime": {
     "end_time": "2023-05-24T08:11:17.480077Z",
     "start_time": "2023-05-24T08:11:17.414058Z"
    }
   },
   "outputs": [],
   "source": [
    "chunk_id = 0\n",
    "NoMol_ctr, Found_ctr, Mol_Found_ctr = 0,0,0\n",
    "NoSmiles_ctr, Smiles_Found_ctr = 0,0 \n",
    "FP_ctr, NoFP_ctr = 0,0\n",
    "smiles = True\n",
    "mol = True\n",
    "fingerprints = []\n",
    "append_pharmacophore = True\n",
    "pharmacophore_col_name = 'pharmacophore_fp'\n",
    "FPSparse = None\n",
    "fp_prev = None\n",
    "np_prev = None\n",
    "base64_prev = None\n",
    " \n",
    "fp_fromBase64Sparse = rdkit.DataStructs.cDataStructs.SparseBitVect(0)\n",
    "fp_fromBase64Explicit = rdkit.DataStructs.cDataStructs.ExplicitBitVect(0)\n",
    "\n",
    "np_rows = []\n",
    "indptr  = np.zeros((1,),dtype=np.int8)\n",
    "indices = np.empty((0,),dtype=np.int8)\n",
    "data    = np.empty((0,),dtype=np.int8)\n",
    "print(indptr)\n",
    "print(indices)\n",
    "print(data)\n",
    "\n",
    "ctr = 0\n",
    "for comp in df.itertuples():\n",
    "    if ctr > 20: break\n",
    "    print()\n",
    "    if ctr % 1 == 0:\n",
    "        print(f\" {datetime.now().strftime('%X.%f')} | chunk_id: {chunk_id} | {ctr} rows processed | index: {comp.Index} | {df.at[comp.Index, 'JCP2022']}\", flush = True)\n",
    "    ctr +=1\n",
    "\n",
    "    ## Get Mol from InChI and generate 2D pharmacophore fingerprint\n",
    "    mol_tmp = inchi.MolFromInchi(comp.InChI, sanitize = True, removeHs = True)\n",
    "    \n",
    "    if mol_tmp is None:\n",
    "        print(f\" ctr: {ctr} index: {comp.Index}   InChIKey: {comp.InChIKey } \\t No MOL returned for inchi from RDKit - continue\", flush = True)\n",
    "        fingerprints.append((df.at[comp.Index, 'JCP2022'], np.nan))\n",
    "        NoMol_ctr +=1\n",
    "        continue\n",
    "    else:\n",
    "        Mol_Found_ctr +=1\n",
    "        print(f\" ctr: {ctr} index: {comp.Index}   mol: {mol_tmp}  mol type:{type(mol_tmp)} - get 2D fingerprint\") \n",
    "        FPSparse = Generate.Gen2DFingerprint(mol_tmp, sigFactory)\n",
    "\n",
    "    if FPSparse is None:\n",
    "        print(f\" ctr: {ctr} index: {comp.Index}   InChIKey: {comp.InChIKey } \\t No Fingerprint computed from molecule file  - continue\", flush = True)\n",
    "        fingerprints.append((df.at[comp.Index, 'JCP2022'], np.nan))\n",
    "        NoFP_ctr +=1\n",
    "    else:\n",
    "        base64_sparse = rdkit.DataStructs.cDataStructs.SparseBitVect.ToBase64(FPSparse)\n",
    "        FP_ctr += 1 \n",
    "        \n",
    "        FPExplicit =rdkit.DataStructs.cDataStructs.ConvertToExplicit(FPSparse)        \n",
    "        base64_explicit = rdkit.DataStructs.cDataStructs.ExplicitBitVect.ToBase64(FPExplicit)\n",
    "        \n",
    "#         from base64 ---> Explicit & Sparse Bit Vector \n",
    "#         rdkit.DataStructs.cDataStructs.ExplicitBitVect.FromBase64(fp_fromBase64Explicit, base64_explicit)\n",
    "#         rdkit.DataStructs.cDataStructs.SparseBitVect.FromBase64(fp_fromBase64Sparse, base64_sparse)        \n",
    "        \n",
    "#         from FPSparse and FPExplicit ---> lists\n",
    "#         list_fromFPSparse = rdkit.DataStructs.cDataStructs.SparseBitVect.ToList(FPSparse)     \n",
    "#         list_fromFPExplicit = rdkit.DataStructs.cDataStructs.ExplicitBitVect.ToList(FPExplicit)\n",
    "        \n",
    "#         from FPSparse and FPExplicit ---> lists\n",
    "#         list_fromBase64Explicit = rdkit.DataStructs.cDataStructs.ExplicitBitVect.ToList(fp_fromBase64Explicit)          \n",
    "#         list_fromBase64Sparse = rdkit.DataStructs.cDataStructs.SparseBitVect.ToList(fp_fromBase64Sparse)        \n",
    "\n",
    "#         from FPExplict, fromBase64Explicit ---> numpy arrays\n",
    "#         np_fromFPExplicit = np.zeros((0), dtype=np.int8)\n",
    "#         np_fromBase64Explicit= np.zeros((0), dtype=np.int8) \n",
    "#         rdkit.DataStructs.cDataStructs.ConvertToNumpyArray(FPExplicit, np_fromFPExplicit)\n",
    "#         rdkit.DataStructs.cDataStructs.ConvertToNumpyArray(fp_fromBase64Explicit, np_fromBase64Explicit)\n",
    "\n",
    "#         print(f\" base64: {base64_sparse} \", flush = True)\n",
    "#         print()\n",
    "#         print(f\" fp = fp_prev?                         : {FPSparse == fp_prev}\")\n",
    "#         print(f\" base64_sparse = base64_prev?          : {base64_prev == base64_sparse} \")  \n",
    "        print(f\" base64_sparse = base64_explicit : {base64_explicit == base64_sparse} \")  \n",
    "#         if np_prev is not None:  \n",
    "#             print(f\" np_explicit = np_prev                 : {np_fromFPExplicit.sum()}  {np_prev.sum()}    {(np_fromFPExplicit == np_prev).all()} \")\n",
    "#         print(f\" np_fromBase64Sparse = fp              : {fp_fromBase64Sparse == FPSparse} \")\n",
    "#         print(f\" np_fromBase64Explicit = fp_explcit    : {fp_fromBase64Explicit == FPExplicit} \" )\n",
    "#         print(f\" **_list_1 = **_list_2                 : {list_fromFPExplicit == list_fromBase64Explicit}   {list_fromFPExplicit == list_fromFPSparse }   {list_fromFPSparse == list_fromBase64Sparse}\" )\n",
    "#         print(f\" np_explicit = np_explicit_2           : {np_fromFPExplicit.dtype}  {np_fromFPExplicit.sum()}  {np_fromBase64Explicit.sum()} {(np_fromFPExplicit == np_fromBase64Explicit).all()} \")\n",
    "#         base64_prev = base64_sparse\n",
    "#         np_prev = np_fromFPExplicit\n",
    "#         fp_prev = FPSparse\n",
    "\n",
    "\n",
    "        ## Build sparse matrix representation \n",
    "    \n",
    "        onbits = list(FPSparse.GetOnBits())\n",
    "        len_onbits = len(onbits)            \n",
    "        next_indptr = indptr[-1] + len_onbits\n",
    "        indptr  = np.concatenate([indptr, [next_indptr]])\n",
    "        data    = np.concatenate([data, np.ones(len_onbits)])\n",
    "        indices = np.concatenate([indices,onbits])\n",
    "        \n",
    "#         print()\n",
    "#         print(f\" onbits {len(onbits):5d} : {onbits}\")\n",
    "#         print(f\" indptr {len(indptr):5d} : {indptr}\")\n",
    "#         print(f\" data   {  len(data):5d} : {data}\")\n",
    "#         print(f\" indices{len(indices):5d}: {indices}\")\n",
    "\n",
    "    fingerprints.append((df.at[comp.Index,'JCP2022'], FPSparse, base64_sparse, onbits))\n",
    "                                                                              \n",
    "    if append_pharmacophore:\n",
    "        df.at[comp.Index, \"pharmacophore_fp\" ]    = FPSparse\n",
    "        df.at[comp.Index, \"pharmacophore_base64\"] = base64_sparse\n",
    "        \n",
    " "
   ]
  },
  {
   "cell_type": "markdown",
   "id": "93608d25",
   "metadata": {
    "ExecuteTime": {
     "end_time": "2023-05-24T02:12:53.849886Z",
     "start_time": "2023-05-24T02:12:53.837376Z"
    }
   },
   "source": [
    "from scipy import sparse\n",
    "csr = sparse.csr_matrix((data, indices, indptr), shape=(len(indptr)-1, ncols), dtype = np.int8)\n",
    "csr"
   ]
  },
  {
   "cell_type": "code",
   "execution_count": null,
   "id": "83a6b5dc",
   "metadata": {
    "ExecuteTime": {
     "end_time": "2023-05-24T08:07:58.905076Z",
     "start_time": "2023-05-24T08:07:58.894526Z"
    }
   },
   "outputs": [],
   "source": [
    "# print(csr[3])"
   ]
  },
  {
   "cell_type": "code",
   "execution_count": null,
   "id": "2c84bba3",
   "metadata": {
    "ExecuteTime": {
     "end_time": "2023-05-24T08:11:29.579448Z",
     "start_time": "2023-05-24T08:11:29.563160Z"
    }
   },
   "outputs": [],
   "source": [
    "len(fingerprints[0])\n",
    "fingerprints[0][0]\n",
    "fingerprints[0][1]\n",
    "fingerprints[0][2]\n",
    "type(fingerprints[0][3]), len(fingerprints[0][3])\n",
    "\n",
    "# for i in fingerprints:\n",
    "#     print(i[0], '    ',i[3])"
   ]
  },
  {
   "cell_type": "code",
   "execution_count": null,
   "id": "a20d7f1c",
   "metadata": {
    "ExecuteTime": {
     "end_time": "2023-05-24T08:11:34.335901Z",
     "start_time": "2023-05-24T08:11:34.302237Z"
    }
   },
   "outputs": [],
   "source": [
    "df_fingerprints = pd.DataFrame(fingerprints, columns=['JCP2022', 'pharmacophore_fp', 'pharmacophore_base64','pharmacophore_onbits' ])        \n",
    "df_fingerprints.info()\n",
    "df_fingerprints.head(10)"
   ]
  },
  {
   "cell_type": "markdown",
   "id": "47bfd512",
   "metadata": {},
   "source": [
    "###  write fingerprints to pickle file"
   ]
  },
  {
   "cell_type": "code",
   "execution_count": null,
   "id": "2b2ada4e",
   "metadata": {
    "ExecuteTime": {
     "end_time": "2023-05-24T08:11:48.114510Z",
     "start_time": "2023-05-24T08:11:48.102615Z"
    }
   },
   "outputs": [],
   "source": [
    "# df_fingerprints.to_csv(compoundPharmacophoreFile, index = False)\n",
    "df_fingerprints.to_pickle('./output/cp_compound_pharmacophore_X.pkl')"
   ]
  },
  {
   "cell_type": "markdown",
   "id": "ccd7c743",
   "metadata": {},
   "source": [
    "### Read back from written pharmacohpore pickle file"
   ]
  },
  {
   "cell_type": "code",
   "execution_count": null,
   "id": "6ce17a6d",
   "metadata": {
    "ExecuteTime": {
     "end_time": "2023-05-24T08:01:34.966365Z",
     "start_time": "2023-05-24T08:01:34.950303Z"
    }
   },
   "outputs": [],
   "source": [
    "print(f\" prefix                       : {prefix}\" )\n",
    "print(f\" compound Metadata Input File  : {compoundMetadataInputFile}\")\n",
    "print(f\" compound Metadata Output File : {compoundMetadataOutputFile}\")\n",
    "print(f\" compound Metadata Output File 2: {compoundMetadataOutputFile_2}\")\n",
    "print(f\" compound Pharmacophore File  : {compoundPharmacophoreFile}\")"
   ]
  },
  {
   "cell_type": "code",
   "execution_count": null,
   "id": "36645d3a",
   "metadata": {
    "ExecuteTime": {
     "end_time": "2023-05-24T08:11:56.175178Z",
     "start_time": "2023-05-24T08:11:56.138214Z"
    }
   },
   "outputs": [],
   "source": [
    "df_fingerprints = pd.read_pickle('./output/cp_compound_pharmacophore_X.pkl')\n",
    "# df_fingerprints = pd.read_csv(compoundPharmacophoreFile)\n",
    "\n",
    "df_fingerprints.info()\n",
    "df_fingerprints.head(10)\n",
    "np_prev = None\n",
    "ex_prev = None"
   ]
  },
  {
   "cell_type": "code",
   "execution_count": null,
   "id": "078716ac",
   "metadata": {
    "ExecuteTime": {
     "end_time": "2023-05-24T08:14:15.101912Z",
     "start_time": "2023-05-24T08:14:15.085320Z"
    }
   },
   "outputs": [],
   "source": [
    "\n",
    "df_fingerprints.iloc[0,0]\n",
    "df_fingerprints.iloc[0,1]\n",
    "df_fingerprints.iloc[0,2]\n",
    "type(df_fingerprints.iloc[0,3]), len(df_fingerprints.iloc[0,3])\n",
    "type(df_fingerprints.loc[0].pharmacophore_onbits)\n",
    "# for i in fingerprints:\n",
    "#     print(i[0], '    ',i[3])"
   ]
  },
  {
   "cell_type": "code",
   "execution_count": null,
   "id": "2754be13",
   "metadata": {},
   "outputs": [],
   "source": []
  },
  {
   "cell_type": "code",
   "execution_count": null,
   "id": "65432fb2",
   "metadata": {},
   "outputs": [],
   "source": []
  },
  {
   "cell_type": "code",
   "execution_count": 73,
   "id": "09fd6e94",
   "metadata": {
    "ExecuteTime": {
     "end_time": "2023-05-25T11:21:30.742200Z",
     "start_time": "2023-05-25T11:21:30.720106Z"
    }
   },
   "outputs": [
    {
     "ename": "NameError",
     "evalue": "name 'ChemicalFeatures' is not defined",
     "output_type": "error",
     "traceback": [
      "\u001b[0;31m---------------------------------------------------------------------------\u001b[0m",
      "\u001b[0;31mNameError\u001b[0m                                 Traceback (most recent call last)",
      "Cell \u001b[0;32mIn[73], line 1\u001b[0m\n\u001b[0;32m----> 1\u001b[0m featFactory \u001b[38;5;241m=\u001b[39m \u001b[43mChemicalFeatures\u001b[49m\u001b[38;5;241m.\u001b[39mBuildFeatureFactory(fdefName)\n\u001b[1;32m      2\u001b[0m sigFactory \u001b[38;5;241m=\u001b[39m SigFactory(featFactory,minPointCount\u001b[38;5;241m=\u001b[39m\u001b[38;5;241m2\u001b[39m,maxPointCount\u001b[38;5;241m=\u001b[39m\u001b[38;5;241m3\u001b[39m)\n\u001b[1;32m      3\u001b[0m sigFactory\u001b[38;5;241m.\u001b[39mSetBins( [(\u001b[38;5;241m0\u001b[39m,\u001b[38;5;241m3\u001b[39m),(\u001b[38;5;241m3\u001b[39m,\u001b[38;5;241m8\u001b[39m)])\n",
      "\u001b[0;31mNameError\u001b[0m: name 'ChemicalFeatures' is not defined"
     ]
    }
   ],
   "source": [
    "featFactory = ChemicalFeatures.BuildFeatureFactory(fdefName)\n",
    "sigFactory = SigFactory(featFactory,minPointCount=2,maxPointCount=3)\n",
    "sigFactory.SetBins( [(0,3),(3,8)])\n",
    "sigFactory.Init()\n",
    "ncols=sigFactory.GetSigSize()    \n",
    "print(ncols)"
   ]
  },
  {
   "cell_type": "code",
   "execution_count": null,
   "id": "f7ef4648",
   "metadata": {
    "ExecuteTime": {
     "end_time": "2023-05-24T08:16:12.299209Z",
     "start_time": "2023-05-24T08:16:12.284447Z"
    }
   },
   "outputs": [],
   "source": [
    "fp_fromBase64Sparse = rdkit.DataStructs.cDataStructs.SparseBitVect(0)\n",
    "fp_fromBase64Explicit = rdkit.DataStructs.cDataStructs.ExplicitBitVect(0)\n",
    "np_rows = []\n",
    "indptr  = np.zeros((1,),dtype=np.int8)\n",
    "indices = np.empty((0,),dtype=np.int8)\n",
    "data    = np.empty((0,),dtype=np.int8)\n",
    "print(indptr)\n",
    "print(indices)\n",
    "print(data)"
   ]
  },
  {
   "cell_type": "code",
   "execution_count": null,
   "id": "b6d176ca",
   "metadata": {
    "ExecuteTime": {
     "end_time": "2023-05-24T08:22:09.590189Z",
     "start_time": "2023-05-24T08:22:09.574824Z"
    }
   },
   "outputs": [],
   "source": [
    "for comp in df_fingerprints.itertuples():\n",
    "    \n",
    "    rdkit.DataStructs.cDataStructs.ExplicitBitVect.FromBase64(fp_fromBase64Explicit, comp.pharmacophore_base64)\n",
    "    rdkit.DataStructs.cDataStructs.SparseBitVect.FromBase64(fp_fromBase64Sparse, comp.pharmacophore_base64)\n",
    "       \n",
    "#     explicit_list = rdkit.DataStructs.cDataStructs.ExplicitBitVect.ToList(fp_fromBase64Explicit)\n",
    "#     sparse_list = rdkit.DataStructs.cDataStructs.SparseBitVect.ToList(fp_fromBase64Sparse)        \n",
    "\n",
    "    ## fromBase64Explicit ---> numpy arrays\n",
    "#     np_fromBase64Explicit= np.zeros((0), dtype=np.int8) \n",
    "#     rdkit.DataStructs.cDataStructs.ConvertToNumpyArray(fp_fromBase64Explicit, np_fromBase64Explicit)    \n",
    "    \n",
    "    print(f\" {comp.JCP2022}      pharmacophore_np: {type(comp.pharmacophore_fp)}  pharmacophore_base64: {type( comp.pharmacophore_base64)}   pharmacophore_onbits: {type(comp.pharmacophore_onbits)} \")\n",
    "    print(f\"                                                                      pharmacophore_base64: {comp.pharmacophore_base64[:7]}      pharmacophore_onbits: {comp.pharmacophore_onbits[:7]}\")\n",
    "    \n",
    "#     print(f\" expl_vect :    {type(expl_vect)}    sparse_list: {type(sparse_list)}   explicit_list: {type(explicit_list)}\")\n",
    "#     print(f\"  sparse_list  == explicit_list ?     {sparse_list == explicit_list}\")\n",
    "#     print(f\"  sparse_numpy == explicit_numpy?     {sparse_list == explicit_list}\")\n",
    "#     print(f\"  sparse_numpy == explicit_numpy?     {np_fromBase64Explicit.dtype}   {np_fromBase64Explicit.sum()}  \")\n",
    "\n",
    "    onbits = list(comp.pharmacophore_fp.GetOnBits())\n",
    "\n",
    "    print(f\" pharmacophore_onbits: {comp.pharmacophore_onbits}\")    \n",
    "    print(f\"                     : {onbits} \")\n",
    "    print()\n",
    "    \n",
    "    ## Build sparse matrix representation \n",
    "\n",
    "#     onbits = list(FPSparse.GetOnBits())\n",
    "#     len_onbits = len(onbits)            \n",
    "#     next_indptr = indptr[-1] + len_onbits\n",
    "#     indptr  = np.concatenate([indptr, [next_indptr]])\n",
    "#     data    = np.concatenate([data, np.ones(len_onbits)])\n",
    "#     indices = np.concatenate([indices,onbits])\n",
    "#         print()\n",
    "#         print(f\" onbits {len(onbits):5d} : {onbits}\")\n",
    "#         print(f\" indptr {len(indptr):5d} : {indptr}\")\n",
    "#         print(f\" data   {  len(data):5d} : {data}\")\n",
    "#         print(f\" indices{len(indices):5d}: {indices}\")\n",
    "    \n",
    "    np_prev= np_explicit\n",
    "    ex_prev= expl_vect\n",
    "    np_rows.append(np_fromBase64Explicit)\n",
    "# inchi_1 = df.loc[0, 'InChI']\n",
    "# m1 = df.loc[0, 'mol']\n",
    "# m2 = df.loc[0, 'mol_2']\n",
    "\n",
    "# print(type(inchi_1), type(m1), type(m2))\n",
    "# m1\n",
    "# m2"
   ]
  },
  {
   "cell_type": "code",
   "execution_count": null,
   "id": "2049c7e4",
   "metadata": {
    "ExecuteTime": {
     "end_time": "2023-05-24T00:52:36.264745Z",
     "start_time": "2023-05-24T00:52:36.252456Z"
    }
   },
   "outputs": [],
   "source": [
    "len(np_rows[0])"
   ]
  },
  {
   "cell_type": "code",
   "execution_count": null,
   "id": "a24e84e4",
   "metadata": {
    "ExecuteTime": {
     "end_time": "2023-05-24T01:34:10.287977Z",
     "start_time": "2023-05-24T01:34:10.272309Z"
    }
   },
   "outputs": [],
   "source": [
    "print(f\" indptr {len(indptr):5d} : {indptr}\")\n",
    "print(f\" data   {len(data):5d}   : {data}\")\n",
    "print(f\" indices{len(indices):5d}: {indices}\")"
   ]
  },
  {
   "cell_type": "code",
   "execution_count": null,
   "id": "d8a1dc82",
   "metadata": {
    "ExecuteTime": {
     "end_time": "2023-05-24T01:40:18.040614Z",
     "start_time": "2023-05-24T01:40:18.028022Z"
    }
   },
   "outputs": [],
   "source": [
    "from scipy import sparse\n",
    "csr = sparse.csr_matrix((data, indices, indptr), shape=(len(indptr)-1, len(np_rows[0])), dtype = np.int8)"
   ]
  },
  {
   "cell_type": "code",
   "execution_count": null,
   "id": "b718edbd",
   "metadata": {
    "ExecuteTime": {
     "end_time": "2023-05-24T01:40:19.833147Z",
     "start_time": "2023-05-24T01:40:19.820834Z"
    }
   },
   "outputs": [],
   "source": [
    "csr"
   ]
  }
 ],
 "metadata": {
  "kernelspec": {
   "display_name": "Python [conda env:cellpainting]",
   "language": "python",
   "name": "conda-env-cellpainting-py"
  },
  "language_info": {
   "codemirror_mode": {
    "name": "ipython",
    "version": 3
   },
   "file_extension": ".py",
   "mimetype": "text/x-python",
   "name": "python",
   "nbconvert_exporter": "python",
   "pygments_lexer": "ipython3",
   "version": "3.10.10"
  },
  "toc": {
   "base_numbering": 1,
   "nav_menu": {},
   "number_sections": true,
   "sideBar": true,
   "skip_h1_title": false,
   "title_cell": "Table of Contents",
   "title_sidebar": "Contents",
   "toc_cell": false,
   "toc_position": {},
   "toc_section_display": true,
   "toc_window_display": false
  }
 },
 "nbformat": 4,
 "nbformat_minor": 5
}
