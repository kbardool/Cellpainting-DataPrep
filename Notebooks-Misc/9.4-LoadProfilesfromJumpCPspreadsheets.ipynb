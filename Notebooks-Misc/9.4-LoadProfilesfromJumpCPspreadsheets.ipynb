{
 "cells": [
  {
   "cell_type": "markdown",
   "id": "74e3a3e4-54bc-4813-b6d1-ab316e7efe57",
   "metadata": {
    "jp-MarkdownHeadingCollapsed": true
   },
   "source": [
    "# Initializations"
   ]
  },
  {
   "cell_type": "markdown",
   "id": "a0c9e030-81f6-4adb-9d69-6a6d6b7d934a",
   "metadata": {
    "jp-MarkdownHeadingCollapsed": true
   },
   "source": [
    "## Import libraries"
   ]
  },
  {
   "cell_type": "code",
   "execution_count": 1,
   "id": "8b68825a",
   "metadata": {
    "ExecuteTime": {
     "end_time": "2023-06-28T19:57:20.869853Z",
     "start_time": "2023-06-28T19:57:20.833401Z"
    },
    "execution": {
     "iopub.execute_input": "2024-01-25T07:42:46.794191Z",
     "iopub.status.busy": "2024-01-25T07:42:46.793852Z",
     "iopub.status.idle": "2024-01-25T07:42:46.824172Z",
     "shell.execute_reply": "2024-01-25T07:42:46.823443Z",
     "shell.execute_reply.started": "2024-01-25T07:42:46.794166Z"
    }
   },
   "outputs": [
    {
     "data": {
      "text/html": [
       "<style>.container { width:98% !important; }</style>"
      ],
      "text/plain": [
       "<IPython.core.display.HTML object>"
      ]
     },
     "metadata": {},
     "output_type": "display_data"
    }
   ],
   "source": [
    "from IPython.display import display, HTML\n",
    "display(HTML(\"<style>.container { width:98% !important; }</style>\"))\n",
    "%load_ext autoreload  \n",
    "%autoreload 2\n",
    "from IPython.core.interactiveshell import InteractiveShell\n",
    "InteractiveShell.ast_node_interactivity = \"all\""
   ]
  },
  {
   "cell_type": "code",
   "execution_count": 2,
   "id": "efc3f590",
   "metadata": {
    "ExecuteTime": {
     "end_time": "2023-06-28T19:57:21.896176Z",
     "start_time": "2023-06-28T19:57:21.323077Z"
    },
    "execution": {
     "iopub.execute_input": "2024-01-25T07:42:46.825978Z",
     "iopub.status.busy": "2024-01-25T07:42:46.825709Z",
     "iopub.status.idle": "2024-01-25T07:42:48.844867Z",
     "shell.execute_reply": "2024-01-25T07:42:48.844109Z",
     "shell.execute_reply.started": "2024-01-25T07:42:46.825954Z"
    }
   },
   "outputs": [
    {
     "name": "stdout",
     "output_type": "stream",
     "text": [
      "1.11.4\n"
     ]
    }
   ],
   "source": [
    "import io\n",
    "import os\n",
    "import numpy as np\n",
    "import pandas as pd\n",
    "import plotly.express as px\n",
    "import plotly.io as pio\n",
    "import s3fs\n",
    "import time\n",
    "import pickle\n",
    "from datetime import datetime\n",
    "import scipy\n",
    "print(scipy.__version__)\n",
    "# from scipy.stats import median_absolute_deviation\n",
    "from pycytominer import normalize, feature_select\n",
    " \n",
    "pio.renderers.default = \"png\"  # Set to \"svg\" or \"png\" for static plots or \"notebook_connected\" for interactive plots\n",
    "pd.set_option('display.width', 140)"
   ]
  },
  {
   "cell_type": "code",
   "execution_count": 3,
   "id": "2806bf87-fff4-4e8d-a9b1-f94d21dc01e2",
   "metadata": {
    "ExecuteTime": {
     "end_time": "2023-05-25T10:04:49.563601Z",
     "start_time": "2023-05-25T10:04:49.551265Z"
    },
    "execution": {
     "iopub.execute_input": "2024-01-25T07:42:48.846566Z",
     "iopub.status.busy": "2024-01-25T07:42:48.846097Z",
     "iopub.status.idle": "2024-01-25T07:42:48.883217Z",
     "shell.execute_reply": "2024-01-25T07:42:48.882054Z",
     "shell.execute_reply.started": "2024-01-25T07:42:48.846538Z"
    },
    "scrolled": true
   },
   "outputs": [
    {
     "name": "stdout",
     "output_type": "stream",
     "text": [
      "01/25/24-08:42:48.878463\n",
      "2024-42-25 08:01:48.878925\n"
     ]
    }
   ],
   "source": [
    "# time.strftime(' %x%X')\n",
    "# datetime.now().strftime('%X.%f')\n",
    "# time.strftime('%X %x %Z')\n",
    "print(datetime.now().strftime('%D-%X.%f'))\n",
    "time_fmt = '%Y-%M-%d %H:%m:%S.%f'\n",
    "time_fmt = '%Y-%M-%d %H:%m:%S.%f' \n",
    "print(datetime.now().strftime(time_fmt))"
   ]
  },
  {
   "cell_type": "code",
   "execution_count": 4,
   "id": "2bb071ed-652a-4ae8-9c66-b24fa95b2570",
   "metadata": {
    "ExecuteTime": {
     "end_time": "2023-06-28T19:57:26.086260Z",
     "start_time": "2023-06-28T19:57:25.294622Z"
    },
    "execution": {
     "iopub.execute_input": "2024-01-25T07:42:48.886684Z",
     "iopub.status.busy": "2024-01-25T07:42:48.886227Z",
     "iopub.status.idle": "2024-01-25T07:42:50.486772Z",
     "shell.execute_reply": "2024-01-25T07:42:50.485938Z",
     "shell.execute_reply.started": "2024-01-25T07:42:48.886644Z"
    }
   },
   "outputs": [],
   "source": [
    "gzip_compression_options = {\"method\": \"gzip\", 'compresslevel': 1,\"mtime\": 1}\n",
    "\n",
    "metadata_path = \"../cj-datasets/metadata\"\n",
    "plates = pd.read_csv(os.path.join(metadata_path,\"plate.csv.gz\"))\n",
    "wells = pd.read_csv(os.path.join(metadata_path,\"well.csv.gz\"))\n",
    "compound = pd.read_csv(os.path.join(metadata_path,\"compound.csv.gz\"))\n",
    "orf = pd.read_csv(os.path.join(metadata_path,\"orf.csv.gz\"))\n",
    "\n",
    "\n",
    "## gz, bz2, zip, tar, tar.gz, tar.bz2\n",
    "# types = ['.gz', '.bz2','.zip', '.tar', '.tar.gz', '.tar.bz2']\n",
    "type_bz2 = 'bz2'\n",
    "type_gzip = 'gz'\n"
   ]
  },
  {
   "cell_type": "code",
   "execution_count": 5,
   "id": "b07e505a-ed77-4f8a-b02b-6ec62dcc2654",
   "metadata": {
    "execution": {
     "iopub.execute_input": "2024-01-25T07:42:50.488327Z",
     "iopub.status.busy": "2024-01-25T07:42:50.488092Z",
     "iopub.status.idle": "2024-01-25T07:42:50.514804Z",
     "shell.execute_reply": "2024-01-25T07:42:50.513982Z",
     "shell.execute_reply.started": "2024-01-25T07:42:50.488303Z"
    }
   },
   "outputs": [
    {
     "name": "stdout",
     "output_type": "stream",
     "text": [
      " \n",
      " Compound Extended MetadataFile              : ./output_11102023/compound_extended_metadata.csv\n",
      " Compound Extended Metadata 5 SampleFile     : ./output_11102023/compound_extended_metadata_5samples.csv\n",
      " Compound Profiles 5 Sample File CSV         : ./output_11102023/compound_profiles_5samples.csv\n",
      " \n",
      " Compound Extended Metadata 2 SampleFile     : ./output_11102023/compound_extended_metadata_2samples.csv\n",
      " Compound Profiles 2 Samples File CSV        : ./output_11102023/compound_profiles_2samples.csv\n",
      " \n",
      " featureSelectionFile                        : ./output_11102023/_normalized_feature_select.csv.gz\n"
     ]
    }
   ],
   "source": [
    "input_path =\"./metadata/\"\n",
    "output_path = \"./output_11102023/\"\n",
    "prefix = '' ### Target-2' , 'MOA'\n",
    "prefix_lc = prefix.lower().replace('-', '_')\n",
    "\n",
    "\n",
    "CompoundExtendedMetadataFile        = f\"{output_path}{prefix_lc}compound_extended_metadata.csv\"\n",
    "\n",
    "CompoundExtendedMetadata5SampleFile = f\"{output_path}{prefix_lc}compound_extended_metadata_5samples.csv\"\n",
    "CompoundProfiles5SampleFileCSV      = f\"{output_path}{prefix_lc}compound_profiles_5samples.csv\"\n",
    "\n",
    "CompoundExtendedMetadata2SampleFile = f\"{output_path}{prefix_lc}compound_extended_metadata_2samples.csv\"\n",
    "CompoundProfiles2SampleFileCSV      = f\"{output_path}{prefix_lc}compound_profiles_2samples.csv\"\n",
    "\n",
    "# CompoundProfiles2SampleFileParquet  = f\"{output_path}{prefix_lc}compound_profiles_2samples.parquet\"\n",
    "# CompoundProfiles2SampleFileGZ       = f\"{output_path}{prefix_lc}compound_profiles_2samples.gz\"\n",
    "\n",
    "CompoundExtendedMetadataSampleFile  = f\"{output_path}{prefix_lc}compound_extended_metadata_samples.csv\"\n",
    "featureSelectionFile                = f\"{output_path}{prefix_lc}_normalized_feature_select.csv.gz\"\n",
    "\n",
    "print(f\" \")\n",
    "print(f\" Compound Extended MetadataFile              : {CompoundExtendedMetadataFile }\")\n",
    "\n",
    "print(f\" Compound Extended Metadata 5 SampleFile     : {CompoundExtendedMetadata5SampleFile }\")\n",
    "print(f\" Compound Profiles 5 Sample File CSV         : {CompoundProfiles5SampleFileCSV }\")\n",
    "\n",
    "print(f\" \")\n",
    "print(f\" Compound Extended Metadata 2 SampleFile     : {CompoundExtendedMetadata2SampleFile }\")\n",
    "print(f\" Compound Profiles 2 Samples File CSV        : {CompoundProfiles2SampleFileCSV}\")\n",
    "# print(f\" \")\n",
    "# print(f\" CompoundProfiles2SamplesFile Parquet        : {CompoundProfiles2SampleFileParquet }\")\n",
    "# print(f\" CompoundProfiles2SamplesFile gz             : {CompoundProfiles2SampleFileGZ }\")\n",
    "print(f\" \")\n",
    "print(f\" featureSelectionFile                        : {featureSelectionFile}\")\n"
   ]
  },
  {
   "cell_type": "markdown",
   "id": "e4c4ecbd-e7b7-4db6-8b13-47fbc1e4f456",
   "metadata": {
    "jp-MarkdownHeadingCollapsed": true
   },
   "source": [
    "## Helper functions"
   ]
  },
  {
   "cell_type": "code",
   "execution_count": 6,
   "id": "d4c5954f",
   "metadata": {
    "ExecuteTime": {
     "end_time": "2023-06-28T19:57:23.000798Z",
     "start_time": "2023-06-28T19:57:22.970636Z"
    },
    "execution": {
     "iopub.execute_input": "2024-01-25T07:42:50.516191Z",
     "iopub.status.busy": "2024-01-25T07:42:50.515970Z",
     "iopub.status.idle": "2024-01-25T07:42:50.541257Z",
     "shell.execute_reply": "2024-01-25T07:42:50.540199Z",
     "shell.execute_reply.started": "2024-01-25T07:42:50.516169Z"
    }
   },
   "outputs": [],
   "source": [
    "profile_formatter = (\n",
    "    \"s3://cellpainting-gallery/cpg0016-jump/\"\n",
    "    \"{Metadata_Source}/workspace/profiles/\"\n",
    "    \"{Metadata_Batch}/{Metadata_Plate}/{Metadata_Plate}.parquet\"\n",
    ")\n",
    "\n",
    "## images\n",
    "loaddata_formatter = (\n",
    "    \"s3://cellpainting-gallery/cpg0016-jump/\"\n",
    "    \"{Metadata_Source}/workspace/load_data_csv/\"\n",
    "    \"{Metadata_Batch}/{Metadata_Plate}/load_data_with_illum.parquet\"\n",
    ")\n",
    "\n",
    "# csv_formatter = (\n",
    "#     \"/mnt/i/cellpainting-gallery/cpg0016-jump/{Metadata_Plate}.csv\")\n",
    "#     # \"{Metadata_Source}/workspace/profiles/\"\n",
    "#     # \"{Metadata_Batch}/{Metadata_Plate}/{Metadata_Plate}.csv\"\n",
    "\n",
    "# local_formatter = (\n",
    "#     \"/mnt/i/cellpainting-gallery/cpg0016-jump/\"\n",
    "#     \"{Metadata_Source}/workspace/profiles/\"\n",
    "#     \"{Metadata_Batch}/{Metadata_Plate}/{Metadata_Plate}.parquet\"\n",
    "# )\n",
    "\n",
    "csv_formatter = (\n",
    "    \"/mnt/i/cellpainting-gallery/cpg0016-jump/{2}.csv\")\n",
    "    # \"{Metadata_Source}/workspace/profiles/\"\n",
    "    # \"{Metadata_Batch}/{Metadata_Plate}/{Metadata_Plate}.csv\"\n",
    "\n",
    "local_formatter = (\n",
    "    \"/mnt/i/cellpainting-gallery/cpg0016-jump/\"\n",
    "    \"{0}/workspace/profiles/\"\n",
    "    \"{1}/{2}/{2}.parquet\"\n",
    ")"
   ]
  },
  {
   "cell_type": "markdown",
   "id": "793b7df6-a1b6-4a80-8bec-ce987ce60627",
   "metadata": {},
   "source": [
    "### Load Profile routines ( amazon S3 / local )"
   ]
  },
  {
   "cell_type": "code",
   "execution_count": 7,
   "id": "9e08be20-eea8-4ffa-96c8-9bf7ddfbe425",
   "metadata": {
    "ExecuteTime": {
     "end_time": "2023-06-27T17:21:49.759179Z",
     "start_time": "2023-06-27T17:21:45.867556Z"
    },
    "execution": {
     "iopub.execute_input": "2024-01-25T07:42:50.543234Z",
     "iopub.status.busy": "2024-01-25T07:42:50.542715Z",
     "iopub.status.idle": "2024-01-25T07:42:50.576072Z",
     "shell.execute_reply": "2024-01-25T07:42:50.575100Z",
     "shell.execute_reply.started": "2024-01-25T07:42:50.543145Z"
    }
   },
   "outputs": [],
   "source": [
    "def read_profiles_from_s3(sample_set, s3_path):\n",
    "    for i, row in sample_set.iterrows():\n",
    "        # print(f'row : \\n{row}')\n",
    "        print(f\"Metadata {i}  Source:{row['Metadata_Source']}  Batch:{row['Metadata_Batch']}   Plate:{row['Metadata_Plate']}   Plate Type:{row['Metadata_PlateType']}\")\n",
    "        s3_path = profile_formatter.format(**row.to_dict())\n",
    "        print(f\"Path: {s3_path}\")\n",
    "        dframes.append(\n",
    "            pd.read_parquet(s3_path, storage_options={\"anon\": True}, columns=columns)\n",
    "        )\n",
    "        temp_dframes = pd.concat(dframes)\n",
    "        stats = get_stats(stats, temp_dframes)\n",
    "        # break\n",
    "    dframes = pd.concat(dframes) \n",
    "\n",
    "\n",
    "def read_profiles_from_local(keys, source, columns):\n",
    "    read_frames = []\n",
    "    Metadata_Source, Metadata_Batch, Metadata_Plate = keys\n",
    "    source_path = source.format(Metadata_Source, Metadata_Batch, Metadata_Plate)\n",
    "    df = pd.read_parquet(source_path, columns=columns)\n",
    "    \n",
    "    # print(len(df.columns.to_list()))\n",
    "    return df"
   ]
  },
  {
   "cell_type": "code",
   "execution_count": 8,
   "id": "f9428a75-4795-4f8e-ad1b-30d2cbf6f254",
   "metadata": {
    "execution": {
     "iopub.execute_input": "2024-01-25T07:42:50.577756Z",
     "iopub.status.busy": "2024-01-25T07:42:50.577407Z",
     "iopub.status.idle": "2024-01-25T07:42:50.616401Z",
     "shell.execute_reply": "2024-01-25T07:42:50.615306Z",
     "shell.execute_reply.started": "2024-01-25T07:42:50.577720Z"
    }
   },
   "outputs": [],
   "source": [
    "# Get the bucket name and key of the parquet file\n",
    "# bucket_name = 'my-bucket'\n",
    "# key = 'my-file.parquet'\n",
    "\n",
    "# Copy the file to a local location\n",
    "# with open('my-file.parquet', 'wb') as f:\n",
    "    # s3.download_file(bucket_name, key, f)"
   ]
  },
  {
   "cell_type": "code",
   "execution_count": 9,
   "id": "d02f5d3b-c030-4b87-badd-829be6ba95da",
   "metadata": {
    "execution": {
     "iopub.execute_input": "2024-01-25T07:42:50.618001Z",
     "iopub.status.busy": "2024-01-25T07:42:50.617710Z",
     "iopub.status.idle": "2024-01-25T07:42:50.657921Z",
     "shell.execute_reply": "2024-01-25T07:42:50.657101Z",
     "shell.execute_reply.started": "2024-01-25T07:42:50.617974Z"
    }
   },
   "outputs": [],
   "source": [
    "def cat_columns(column_list = None):\n",
    "    from collections import defaultdict\n",
    "    if isinstance(column_list, pd.DataFrame):\n",
    "        print(f\" input is dataframe shape: {column_list.shape}\")\n",
    "        column_list = column_list.columns.to_list()\n",
    "    elif isinstance(column_list, list):\n",
    "        print(f\" input is list length {len(column_list)}\")\n",
    "\n",
    "    len(column_list)\n",
    "    # col_list[:12]\n",
    "    # keys = [\"Cells_\", \"Cytoplasm_\", \"Nuclei_\", \"Metadata_\", \"Image_Granularity_\", \"Image_Intensity_\", \"Image_Texture_\", \"Image_Threshold_\", \"Image_ImageQuality_\"]\n",
    "    keys = [\"Cells\", \"Cytoplasm\", \"Nuclei\", \"Metadata\", \"Image_Granularity\", \n",
    "            \"Image_Intensity\", \"Image_Texture\", \"Image_Threshold\", \"Image_ImageQuality\", \"Texture\",\n",
    "            \"Channel\", \"Count\", \"ExecutionTime\", \"FileName\", \"Frame\", \"Granularity\", \"MD5Digest\", \"Width\", \"Height\",\n",
    "            \"Series\", \"ModuleError\", \"PathName\", \"Scaling\", \"Threshold\", \"URL\"]\n",
    "    key_len = [len(x) for x in keys]\n",
    "    ttls = defaultdict(int)  ## {'Cells': 0, 'Cytoplasm': 0 , 'Nuclei' : 0, 'Metadata': 0, 'Other': 0}\n",
    "    cols = defaultdict(list)\n",
    "    \n",
    "    for i in column_list:\n",
    "        for j  in range(len(keys)):\n",
    "            if i[:key_len[j]] == keys[j]:\n",
    "                # print(f\" found   {j}  - {keys[j]}  {key_len[j]}    {i[:key_len[j]]}\")\n",
    "                ttls[keys[j]] += 1\n",
    "                cols[keys[j]].append(i)\n",
    "                break\n",
    "        else:\n",
    "            cols['Other'].append(i)\n",
    "            ttls['Other']+= 1\n",
    "            # print(f\" not found :   {i}\")\n",
    "    \n",
    "    for k,v in ttls.items():\n",
    "        print(f\" Field type: {k:20s}    count: {v}\")   \n",
    "    return cols\n",
    "\n",
    "def get_cols_like(col_list, pattern = None):\n",
    "    import re\n",
    "    if not isinstance(pattern, list):\n",
    "        pattern = [pattern]\n",
    "    result = []\n",
    "    for pat in pattern:\n",
    "        p = re.compile(pat)    \n",
    "        result += [ i for i in col_list if p.search(i) is not None]\n",
    "    return result \n",
    "\n",
    "def disp_stats(df, cols):\n",
    "    n_rows = df.shape[0]\n",
    "    print(f\"{' ':4s} {' ':60s}: {'min':>10s}   {'max':>10s}   {'std':>10s}   {'var':>10s}   {'mean':>10s}   {'median':>10s}    {'uniq rto':>10s}    {'freq rto':>10s}   {'quantile':^50s}\")\n",
    "    for ctr, i in enumerate(cols):\n",
    "        print(f\"{ctr:4d} {i[:60]:60s}: {df[i].min():10.2f}   {df[i].max():10.2f}   {df[i].std():10.2f}   {df[i].var():10.2f}\"\\\n",
    "              f\"   {df[i].mean():10.2f}   {df[i].median():10.2f}    {df[i].nunique()/n_rows:10.2f}    {calculate_frequency(df[i]):10.2f}     {np.quantile(df[i], [0.0,0.25, 0.50, 0.75,1.00] )}\")\n",
    "\n",
    "def check_values(df, cols):\n",
    "    # if df is not None:\n",
    "    #     print(f\" dataframe shape: {df.shape}\")\n",
    "    #     cols = df.columns.to_list()\n",
    "    # else:\n",
    "    #     cols = column_list\n",
    "    # len(col_list)    \n",
    "    inv_columns = []\n",
    "    n_rows = df.shape[0]\n",
    "    print(f\"\\n Columns with invalid data from {len(cols)} columns \" \\\n",
    "          f\" {'min':>10s}    {'max':>10s}    {'std':>10s}    {'mean':>10s}    {'median':>10s}    {'quantile':^50s}\")    \n",
    "    for ctr, i in enumerate(cols):\n",
    "        if (pd.isna(df[i].min()) or pd.isna(df[i].max()) or pd.isna(df[i].std()) \n",
    "           or df[i].max() == np.inf ): \n",
    "            inv_columns.append(i)\n",
    "            print(f\"{ctr:4d} {i[:45]:45s}: {df[i].min():10.2f}    {df[i].max():10.2f}    {df[i].std():10.2f}\"\\\n",
    "                  f\"    {df[i].mean():10.2f}    {df[i].median():10.2f}    {np.quantile(df[i], [0.0,0.25, 0.50, 0.75,1.00] )}\")  \n",
    "    if len(inv_columns) == 0:\n",
    "        print(f\" **** No Invalid Numeric Columns Found ****\")\n",
    "    return inv_columns\n",
    "\n",
    "def reduce_col_sizes(df, cols):\n",
    "    flt_cnt, int_cnt = 0, 0 \n",
    "    for i in  cols:\n",
    "        if df[i].dtype == 'float64':\n",
    "            flt_cnt +=1\n",
    "            df[i] = df[i].astype('float32')\n",
    "            # print(f\" {i} converted from float64 to {dframe[i].dtype}\")\n",
    "        elif df[i].dtype ==  np.dtype(object): \n",
    "            df[i] = df[i].astype(np.string_)\n",
    "            print(f\" {i} converted from object to np.string\")\n",
    "        elif df[i].dtype == 'int64':\n",
    "            int_cnt += 1\n",
    "            df[i] = df[i].astype('int32')\n",
    "            print(f\" {i} converted to int64 {dframe[i].dtype}\")\n",
    "    return df, flt_cnt, int_cnt\n",
    "\n",
    "def calculate_frequency(feature_column):\n",
    "    \"\"\"Calculate frequency of second most common to most common feature.\n",
    "    \n",
    "    Parameters\n",
    "    ----------\n",
    "    feature_column : Pandas series of the specific feature in the population_df\n",
    "\n",
    "    Returns\n",
    "    -------\n",
    "    Feature name if it passes threshold, \"NA\" otherwise\n",
    "    \"\"\"\n",
    "    \n",
    "    val_count = feature_column.value_counts()\n",
    "    \n",
    "    try:\n",
    "        max_count = val_count.iloc[0]\n",
    "    except IndexError:\n",
    "        return np.nan\n",
    "    \n",
    "    try:\n",
    "        second_max_count = val_count.iloc[1]\n",
    "    except IndexError:\n",
    "        return np.nan\n",
    "\n",
    "    freq = second_max_count / max_count\n",
    "    return freq"
   ]
  },
  {
   "cell_type": "markdown",
   "id": "af402c36-6ccc-4f23-8e27-0e217f8dbec3",
   "metadata": {
    "jp-MarkdownHeadingCollapsed": true
   },
   "source": [
    "## Parquet files column metadata"
   ]
  },
  {
   "attachments": {},
   "cell_type": "markdown",
   "id": "df7bcb9e-0e24-41d9-90e5-7bf680667a83",
   "metadata": {
    "jp-MarkdownHeadingCollapsed": true
   },
   "source": [
    "# Loading JUMP Cell Painting Metadata \n",
    "<!-- This notebook loads a small number of plates with precomputed features and the metadata information. -->\n",
    "\n",
    "- Order Extended Metadata Data set by Source, Batch, Plate\n",
    "\n",
    "The following files contain the metadata information for the entire dataset.\n",
    "The schema is [here](metadata/README.md)."
   ]
  },
  {
   "cell_type": "markdown",
   "id": "c0b322fc-344b-4d78-b8ad-1ab85054a49b",
   "metadata": {
    "jp-MarkdownHeadingCollapsed": true
   },
   "source": [
    "## Build Profile Columns Metadata (if not existing)"
   ]
  },
  {
   "cell_type": "markdown",
   "id": "caed68b4-46a9-4872-8ced-86a363985d06",
   "metadata": {},
   "source": [
    "Build dictionary of Parquet data columns - write columns to pickle\n",
    "\n",
    "This list of column names will allow us to identify & control the columns we want to load from parquet files"
   ]
  },
  {
   "cell_type": "code",
   "execution_count": 25,
   "id": "3562f33f-0451-47b5-835b-c7d19806db57",
   "metadata": {
    "execution": {
     "iopub.execute_input": "2023-12-06T17:00:04.284836Z",
     "iopub.status.busy": "2023-12-06T17:00:04.284372Z",
     "iopub.status.idle": "2023-12-06T17:00:04.572257Z",
     "shell.execute_reply": "2023-12-06T17:00:04.571691Z",
     "shell.execute_reply.started": "2023-12-06T17:00:04.284818Z"
    },
    "scrolled": true
   },
   "outputs": [
    {
     "name": "stdout",
     "output_type": "stream",
     "text": [
      " rows: 384  columns 4765\n",
      " dataframe shape: (384, 4765)\n",
      " Field type: Metadata                count: 3\n",
      " Field type: Cells                   count: 1256\n",
      " Field type: Cytoplasm               count: 1241\n",
      " Field type: Image_Granularity       count: 80\n",
      " Field type: Image_ImageQuality      count: 107\n",
      " Field type: Image_Intensity         count: 110\n",
      " Field type: Image_Texture           count: 780\n",
      " Field type: Image_Threshold         count: 12\n",
      " Field type: Nuclei                  count: 1176\n"
     ]
    }
   ],
   "source": [
    "# # keys = ('source_1', 'Batch1_20221004', 'UL001641')\n",
    "# keys = ('source_6' , 'p210920CPU2OS48hw384exp028JUMP',   '110000296345') \n",
    "\n",
    "# dframe = read_profiles_from_local(keys, local_formatter,  columns = None)\n",
    "# cols = dframe.columns.to_list()\n",
    "# print(f\" rows: {len(dframe)}  columns {len(cols)}\")      \n",
    "# cat_cols = cat_columns(dframe)"
   ]
  },
  {
   "cell_type": "code",
   "execution_count": 764,
   "id": "d4ad0fa4-9c22-4cea-9100-b8feae48d5cf",
   "metadata": {
    "execution": {
     "iopub.execute_input": "2023-11-30T17:46:49.296026Z",
     "iopub.status.busy": "2023-11-30T17:46:49.295735Z",
     "iopub.status.idle": "2023-11-30T17:46:49.309040Z",
     "shell.execute_reply": "2023-11-30T17:46:49.308378Z",
     "shell.execute_reply.started": "2023-11-30T17:46:49.295998Z"
    }
   },
   "outputs": [],
   "source": [
    "# tt = [] \n",
    "# for k in cols:\n",
    "#     if (dframe[k].dtype in [np.int64]):\n",
    "#         print(f\" {k:50s}   {dframe[k].dtype}\")\n",
    "#         tt.append(k)\n",
    "# len(tt)\n"
   ]
  },
  {
   "cell_type": "code",
   "execution_count": 768,
   "id": "d1ebbb4a-5ad4-4297-bb1b-0e11607a7d96",
   "metadata": {
    "execution": {
     "iopub.execute_input": "2023-11-30T17:52:54.400860Z",
     "iopub.status.busy": "2023-11-30T17:52:54.400350Z",
     "iopub.status.idle": "2023-11-30T17:52:54.437670Z",
     "shell.execute_reply": "2023-11-30T17:52:54.436641Z",
     "shell.execute_reply.started": "2023-11-30T17:52:54.400839Z"
    }
   },
   "outputs": [
    {
     "name": "stdout",
     "output_type": "stream",
     "text": [
      "4762\n"
     ]
    }
   ],
   "source": [
    "# ParquetColumns = { 'Metadata' : {x: dframe[x].dtype for x in cat_cols['Metadata']},\n",
    "#                    'Cells'    : {x: dframe[x].dtype for x in cat_cols['Cells']},\n",
    "#                    'Cytoplasm': {x: dframe[x].dtype for x in cat_cols['Cytoplasm']},\n",
    "#                     'Nuclei'  : {x: dframe[x].dtype for x in cat_cols['Nuclei']},\n",
    "#                     'Image'   : {x: dframe[x].dtype for x in (cat_cols['Image_Granularity']+ cat_cols['Image_ImageQuality'] + \n",
    "#                                                               cat_cols['Image_Intensity']  + cat_cols['Image_Texture']      + \n",
    "#                                                               cat_cols['Image_Threshold'])},\n",
    "#                  }\n",
    "\n",
    "# print(len(floatConversion) + len(intConversion))\n",
    "# import pickle\n",
    "# with open(\"./metadata/parquet_columns.pkl\", 'wb') as f: \n",
    "#     pickle.dump(ParquetColumns,f)"
   ]
  },
  {
   "cell_type": "code",
   "execution_count": 14,
   "id": "251ae927-8073-403a-8498-12006f59044f",
   "metadata": {
    "execution": {
     "iopub.execute_input": "2023-11-30T18:56:15.690649Z",
     "iopub.status.busy": "2023-11-30T18:56:15.689981Z",
     "iopub.status.idle": "2023-11-30T18:56:15.703047Z",
     "shell.execute_reply": "2023-11-30T18:56:15.702383Z",
     "shell.execute_reply.started": "2023-11-30T18:56:15.690626Z"
    }
   },
   "outputs": [],
   "source": [
    "# del ParquetColumns\n",
    "\n",
    "# with open(\"./metadata/parquet_columns.pkl\",'rb') as f:\n",
    "#     ParquetColumns = pickle.load(f)\n",
    "\n",
    "# for k,v in ParquetColumns.items():\n",
    "#     print(f\" {k:20s}   items: {len(v)}\")\n",
    "\n",
    "# for k,v in ParquetColumns['Cytoplasm'].items():\n",
    "#     print(f\" {k:50s}   type: {v}\")\n"
   ]
  },
  {
   "cell_type": "markdown",
   "id": "86e02f43",
   "metadata": {
    "jp-MarkdownHeadingCollapsed": true
   },
   "source": [
    "## Plates"
   ]
  },
  {
   "cell_type": "markdown",
   "id": "ad28aa38",
   "metadata": {},
   "source": [
    "**Plate Types:**\n",
    "\n",
    "- **COMPOUND:** Plates of cells perturbed by chemical compounds.\n",
    "- **DMSO:** Plates of cells perturbed by DMSO (compound negative control) in all the wells.\n",
    "- **TARGET2:** Positive control plates, as described in https://github.com/jump-cellpainting/JUMP-Target.\n",
    "- **COMPOUND_EMPTY:** Plates of untreated cells in all the wells.\n",
    "- **ORF:** Plate of cells perturbed by ORFs.\n",
    "- **TARGET1:** Plates of Target-1 compounds, as described in https://github.com/jump-cellpainting/JUMP-Target. -- DO NOT USE \n",
    "- **POSCON8:** Plate of cells perturbed by eight compound positive controls."
   ]
  },
  {
   "cell_type": "code",
   "execution_count": 12,
   "id": "ea66bf47",
   "metadata": {
    "ExecuteTime": {
     "end_time": "2023-06-28T19:57:26.756189Z",
     "start_time": "2023-06-28T19:57:26.714383Z"
    },
    "execution": {
     "iopub.execute_input": "2024-01-25T07:43:21.701120Z",
     "iopub.status.busy": "2024-01-25T07:43:21.700488Z",
     "iopub.status.idle": "2024-01-25T07:43:21.773664Z",
     "shell.execute_reply": "2024-01-25T07:43:21.772887Z",
     "shell.execute_reply.started": "2024-01-25T07:43:21.701048Z"
    }
   },
   "outputs": [
    {
     "name": "stdout",
     "output_type": "stream",
     "text": [
      "<class 'pandas.core.frame.DataFrame'>\n",
      "RangeIndex: 2378 entries, 0 to 2377\n",
      "Data columns (total 4 columns):\n",
      " #   Column              Non-Null Count  Dtype \n",
      "---  ------              --------------  ----- \n",
      " 0   Metadata_Source     2378 non-null   object\n",
      " 1   Metadata_Batch      2378 non-null   object\n",
      " 2   Metadata_Plate      2378 non-null   object\n",
      " 3   Metadata_PlateType  2378 non-null   object\n",
      "dtypes: object(4)\n",
      "memory usage: 74.4+ KB\n"
     ]
    },
    {
     "data": {
      "text/html": [
       "<div>\n",
       "<style scoped>\n",
       "    .dataframe tbody tr th:only-of-type {\n",
       "        vertical-align: middle;\n",
       "    }\n",
       "\n",
       "    .dataframe tbody tr th {\n",
       "        vertical-align: top;\n",
       "    }\n",
       "\n",
       "    .dataframe thead th {\n",
       "        text-align: right;\n",
       "    }\n",
       "</style>\n",
       "<table border=\"1\" class=\"dataframe\">\n",
       "  <thead>\n",
       "    <tr style=\"text-align: right;\">\n",
       "      <th></th>\n",
       "      <th>Metadata_Source</th>\n",
       "      <th>Metadata_Batch</th>\n",
       "      <th>Metadata_Plate</th>\n",
       "      <th>Metadata_PlateType</th>\n",
       "    </tr>\n",
       "  </thead>\n",
       "  <tbody>\n",
       "    <tr>\n",
       "      <th>0</th>\n",
       "      <td>source_1</td>\n",
       "      <td>Batch1_20221004</td>\n",
       "      <td>UL000109</td>\n",
       "      <td>COMPOUND_EMPTY</td>\n",
       "    </tr>\n",
       "    <tr>\n",
       "      <th>1</th>\n",
       "      <td>source_1</td>\n",
       "      <td>Batch1_20221004</td>\n",
       "      <td>UL001641</td>\n",
       "      <td>COMPOUND</td>\n",
       "    </tr>\n",
       "    <tr>\n",
       "      <th>2</th>\n",
       "      <td>source_1</td>\n",
       "      <td>Batch1_20221004</td>\n",
       "      <td>UL001643</td>\n",
       "      <td>COMPOUND</td>\n",
       "    </tr>\n",
       "    <tr>\n",
       "      <th>3</th>\n",
       "      <td>source_1</td>\n",
       "      <td>Batch1_20221004</td>\n",
       "      <td>UL001645</td>\n",
       "      <td>COMPOUND</td>\n",
       "    </tr>\n",
       "    <tr>\n",
       "      <th>4</th>\n",
       "      <td>source_1</td>\n",
       "      <td>Batch1_20221004</td>\n",
       "      <td>UL001651</td>\n",
       "      <td>COMPOUND</td>\n",
       "    </tr>\n",
       "    <tr>\n",
       "      <th>...</th>\n",
       "      <td>...</td>\n",
       "      <td>...</td>\n",
       "      <td>...</td>\n",
       "      <td>...</td>\n",
       "    </tr>\n",
       "    <tr>\n",
       "      <th>95</th>\n",
       "      <td>source_10</td>\n",
       "      <td>2021_06_08_U2OS_48_hr_run4</td>\n",
       "      <td>Dest210608-152610</td>\n",
       "      <td>COMPOUND</td>\n",
       "    </tr>\n",
       "    <tr>\n",
       "      <th>96</th>\n",
       "      <td>source_10</td>\n",
       "      <td>2021_06_08_U2OS_48_hr_run4</td>\n",
       "      <td>Dest210608-152745</td>\n",
       "      <td>COMPOUND</td>\n",
       "    </tr>\n",
       "    <tr>\n",
       "      <th>97</th>\n",
       "      <td>source_10</td>\n",
       "      <td>2021_06_08_U2OS_48_hr_run4</td>\n",
       "      <td>Dest210608-152921</td>\n",
       "      <td>COMPOUND</td>\n",
       "    </tr>\n",
       "    <tr>\n",
       "      <th>98</th>\n",
       "      <td>source_10</td>\n",
       "      <td>2021_06_08_U2OS_48_hr_run4</td>\n",
       "      <td>Dest210608-153057</td>\n",
       "      <td>COMPOUND</td>\n",
       "    </tr>\n",
       "    <tr>\n",
       "      <th>99</th>\n",
       "      <td>source_10</td>\n",
       "      <td>2021_06_08_U2OS_48_hr_run4</td>\n",
       "      <td>Dest210608-153234</td>\n",
       "      <td>COMPOUND</td>\n",
       "    </tr>\n",
       "  </tbody>\n",
       "</table>\n",
       "<p>100 rows × 4 columns</p>\n",
       "</div>"
      ],
      "text/plain": [
       "   Metadata_Source              Metadata_Batch     Metadata_Plate Metadata_PlateType\n",
       "0         source_1             Batch1_20221004           UL000109     COMPOUND_EMPTY\n",
       "1         source_1             Batch1_20221004           UL001641           COMPOUND\n",
       "2         source_1             Batch1_20221004           UL001643           COMPOUND\n",
       "3         source_1             Batch1_20221004           UL001645           COMPOUND\n",
       "4         source_1             Batch1_20221004           UL001651           COMPOUND\n",
       "..             ...                         ...                ...                ...\n",
       "95       source_10  2021_06_08_U2OS_48_hr_run4  Dest210608-152610           COMPOUND\n",
       "96       source_10  2021_06_08_U2OS_48_hr_run4  Dest210608-152745           COMPOUND\n",
       "97       source_10  2021_06_08_U2OS_48_hr_run4  Dest210608-152921           COMPOUND\n",
       "98       source_10  2021_06_08_U2OS_48_hr_run4  Dest210608-153057           COMPOUND\n",
       "99       source_10  2021_06_08_U2OS_48_hr_run4  Dest210608-153234           COMPOUND\n",
       "\n",
       "[100 rows x 4 columns]"
      ]
     },
     "execution_count": 12,
     "metadata": {},
     "output_type": "execute_result"
    },
    {
     "name": "stdout",
     "output_type": "stream",
     "text": [
      "Unique source counts: ['source_1' 'source_10' 'source_11' 'source_13' 'source_2' 'source_3'\n",
      " 'source_4' 'source_5' 'source_6' 'source_7' 'source_8' 'source_9']\n",
      "Unqiue batch counts : 143\n",
      "Unqiue plate counts : 2378\n",
      "Unqiue platetype counts : ['COMPOUND_EMPTY' 'COMPOUND' 'DMSO' 'TARGET2' 'CRISPR' 'ORF' 'TARGET1'\n",
      " 'POSCON8']\n",
      "Number of batches   : 143\n"
     ]
    },
    {
     "data": {
      "text/plain": [
       "Metadata_PlateType\n",
       "COMPOUND          1729\n",
       "ORF                251\n",
       "CRISPR             148\n",
       "TARGET2            141\n",
       "DMSO                77\n",
       "COMPOUND_EMPTY      20\n",
       "POSCON8              8\n",
       "TARGET1              4\n",
       "Name: count, dtype: int64"
      ]
     },
     "execution_count": 12,
     "metadata": {},
     "output_type": "execute_result"
    }
   ],
   "source": [
    "plates.info()\n",
    "plates.head(100)\n",
    "print(\"Unique source counts:\", plates['Metadata_Source'].unique())\n",
    "print(\"Unqiue batch counts :\", len(plates['Metadata_Batch'].unique()))\n",
    "print(\"Unqiue plate counts :\", len(plates['Metadata_Plate'].unique()))\n",
    "print(\"Unqiue platetype counts :\", plates['Metadata_PlateType'].unique())\n",
    "print(\"Number of batches   :\", plates.Metadata_Batch.unique().shape[0])\n",
    "plates.Metadata_PlateType.value_counts()"
   ]
  },
  {
   "cell_type": "markdown",
   "id": "49e73285",
   "metadata": {
    "jp-MarkdownHeadingCollapsed": true
   },
   "source": [
    "## Wells"
   ]
  },
  {
   "cell_type": "code",
   "execution_count": 13,
   "id": "c0913671",
   "metadata": {
    "ExecuteTime": {
     "end_time": "2023-06-28T19:57:33.066251Z",
     "start_time": "2023-06-28T19:57:32.679492Z"
    },
    "execution": {
     "iopub.execute_input": "2024-01-25T07:43:38.051409Z",
     "iopub.status.busy": "2024-01-25T07:43:38.050787Z",
     "iopub.status.idle": "2024-01-25T07:43:38.471762Z",
     "shell.execute_reply": "2024-01-25T07:43:38.470906Z",
     "shell.execute_reply.started": "2024-01-25T07:43:38.051371Z"
    }
   },
   "outputs": [
    {
     "name": "stdout",
     "output_type": "stream",
     "text": [
      "<class 'pandas.core.frame.DataFrame'>\n",
      "RangeIndex: 1096074 entries, 0 to 1096073\n",
      "Data columns (total 4 columns):\n",
      " #   Column            Non-Null Count    Dtype \n",
      "---  ------            --------------    ----- \n",
      " 0   Metadata_Source   1096074 non-null  object\n",
      " 1   Metadata_Plate    1096074 non-null  object\n",
      " 2   Metadata_Well     1096074 non-null  object\n",
      " 3   Metadata_JCP2022  1096074 non-null  object\n",
      "dtypes: object(4)\n",
      "memory usage: 33.4+ MB\n"
     ]
    },
    {
     "data": {
      "text/html": [
       "<div>\n",
       "<style scoped>\n",
       "    .dataframe tbody tr th:only-of-type {\n",
       "        vertical-align: middle;\n",
       "    }\n",
       "\n",
       "    .dataframe tbody tr th {\n",
       "        vertical-align: top;\n",
       "    }\n",
       "\n",
       "    .dataframe thead th {\n",
       "        text-align: right;\n",
       "    }\n",
       "</style>\n",
       "<table border=\"1\" class=\"dataframe\">\n",
       "  <thead>\n",
       "    <tr style=\"text-align: right;\">\n",
       "      <th></th>\n",
       "      <th>Metadata_Source</th>\n",
       "      <th>Metadata_Plate</th>\n",
       "      <th>Metadata_Well</th>\n",
       "      <th>Metadata_JCP2022</th>\n",
       "    </tr>\n",
       "  </thead>\n",
       "  <tbody>\n",
       "    <tr>\n",
       "      <th>0</th>\n",
       "      <td>source_1</td>\n",
       "      <td>UL000081</td>\n",
       "      <td>A02</td>\n",
       "      <td>JCP2022_033924</td>\n",
       "    </tr>\n",
       "    <tr>\n",
       "      <th>1</th>\n",
       "      <td>source_1</td>\n",
       "      <td>UL000081</td>\n",
       "      <td>A03</td>\n",
       "      <td>JCP2022_085227</td>\n",
       "    </tr>\n",
       "    <tr>\n",
       "      <th>2</th>\n",
       "      <td>source_1</td>\n",
       "      <td>UL000081</td>\n",
       "      <td>A04</td>\n",
       "      <td>JCP2022_033924</td>\n",
       "    </tr>\n",
       "    <tr>\n",
       "      <th>3</th>\n",
       "      <td>source_1</td>\n",
       "      <td>UL000081</td>\n",
       "      <td>A05</td>\n",
       "      <td>JCP2022_047857</td>\n",
       "    </tr>\n",
       "    <tr>\n",
       "      <th>4</th>\n",
       "      <td>source_1</td>\n",
       "      <td>UL000081</td>\n",
       "      <td>A06</td>\n",
       "      <td>JCP2022_072229</td>\n",
       "    </tr>\n",
       "  </tbody>\n",
       "</table>\n",
       "</div>"
      ],
      "text/plain": [
       "  Metadata_Source Metadata_Plate Metadata_Well Metadata_JCP2022\n",
       "0        source_1       UL000081           A02   JCP2022_033924\n",
       "1        source_1       UL000081           A03   JCP2022_085227\n",
       "2        source_1       UL000081           A04   JCP2022_033924\n",
       "3        source_1       UL000081           A05   JCP2022_047857\n",
       "4        source_1       UL000081           A06   JCP2022_072229"
      ]
     },
     "execution_count": 13,
     "metadata": {},
     "output_type": "execute_result"
    },
    {
     "name": "stdout",
     "output_type": "stream",
     "text": [
      "Unique source counts: ['source_1' 'source_10' 'source_11' 'source_13' 'source_2' 'source_3'\n",
      " 'source_4' 'source_5' 'source_6' 'source_7' 'source_8' 'source_9']\n",
      "Unqiue well counts : 1536\n",
      "Unqiue plate counts: 2378\n"
     ]
    }
   ],
   "source": [
    "wells.info()\n",
    "wells.head()\n",
    "print(\"Unique source counts:\", wells['Metadata_Source'].unique())\n",
    "print(\"Unqiue well counts :\", len(wells['Metadata_Well'].unique()))\n",
    "print(\"Unqiue plate counts:\", len(wells['Metadata_Plate'].unique()))"
   ]
  },
  {
   "cell_type": "markdown",
   "id": "729d5816",
   "metadata": {
    "jp-MarkdownHeadingCollapsed": true
   },
   "source": [
    "## Compound"
   ]
  },
  {
   "cell_type": "code",
   "execution_count": 14,
   "id": "a2364168",
   "metadata": {
    "ExecuteTime": {
     "end_time": "2023-06-28T19:57:35.168745Z",
     "start_time": "2023-06-28T19:57:35.106924Z"
    },
    "execution": {
     "iopub.execute_input": "2024-01-25T07:43:41.697845Z",
     "iopub.status.busy": "2024-01-25T07:43:41.697463Z",
     "iopub.status.idle": "2024-01-25T07:43:41.746814Z",
     "shell.execute_reply": "2024-01-25T07:43:41.746126Z",
     "shell.execute_reply.started": "2024-01-25T07:43:41.697822Z"
    }
   },
   "outputs": [
    {
     "name": "stdout",
     "output_type": "stream",
     "text": [
      "<class 'pandas.core.frame.DataFrame'>\n",
      "RangeIndex: 116753 entries, 0 to 116752\n",
      "Data columns (total 3 columns):\n",
      " #   Column             Non-Null Count   Dtype \n",
      "---  ------             --------------   ----- \n",
      " 0   Metadata_JCP2022   116753 non-null  object\n",
      " 1   Metadata_InChIKey  116752 non-null  object\n",
      " 2   Metadata_InChI     116752 non-null  object\n",
      "dtypes: object(3)\n",
      "memory usage: 2.7+ MB\n"
     ]
    },
    {
     "data": {
      "text/html": [
       "<div>\n",
       "<style scoped>\n",
       "    .dataframe tbody tr th:only-of-type {\n",
       "        vertical-align: middle;\n",
       "    }\n",
       "\n",
       "    .dataframe tbody tr th {\n",
       "        vertical-align: top;\n",
       "    }\n",
       "\n",
       "    .dataframe thead th {\n",
       "        text-align: right;\n",
       "    }\n",
       "</style>\n",
       "<table border=\"1\" class=\"dataframe\">\n",
       "  <thead>\n",
       "    <tr style=\"text-align: right;\">\n",
       "      <th></th>\n",
       "      <th>Metadata_JCP2022</th>\n",
       "      <th>Metadata_InChIKey</th>\n",
       "      <th>Metadata_InChI</th>\n",
       "    </tr>\n",
       "  </thead>\n",
       "  <tbody>\n",
       "    <tr>\n",
       "      <th>0</th>\n",
       "      <td>JCP2022_000001</td>\n",
       "      <td>AAAHWCWPZPSPIW-UHFFFAOYSA-N</td>\n",
       "      <td>InChI=1S/C25H31N5O2/c1-4-23-26-14-16-30(23)24-...</td>\n",
       "    </tr>\n",
       "    <tr>\n",
       "      <th>1</th>\n",
       "      <td>JCP2022_000002</td>\n",
       "      <td>AAAJHRMBUHXWLD-UHFFFAOYSA-N</td>\n",
       "      <td>InChI=1S/C11H13ClN2O/c12-10-4-2-9(3-5-10)8-14-...</td>\n",
       "    </tr>\n",
       "    <tr>\n",
       "      <th>2</th>\n",
       "      <td>JCP2022_000003</td>\n",
       "      <td>AAALVYBICLMAMA-UHFFFAOYSA-N</td>\n",
       "      <td>InChI=1S/C20H15N3O2/c24-19-15-11-17(21-13-7-3-...</td>\n",
       "    </tr>\n",
       "    <tr>\n",
       "      <th>3</th>\n",
       "      <td>JCP2022_000004</td>\n",
       "      <td>AAANUZMCJQUYNX-UHFFFAOYSA-N</td>\n",
       "      <td>InChI=1S/C13H22N4O2S/c1-2-7-16-13(5-6-15-16)20...</td>\n",
       "    </tr>\n",
       "    <tr>\n",
       "      <th>4</th>\n",
       "      <td>JCP2022_000005</td>\n",
       "      <td>AAAQFGUYHFJNHI-UHFFFAOYSA-N</td>\n",
       "      <td>InChI=1S/C22H22ClN5O2/c1-4-24-20(29)12-18-22-2...</td>\n",
       "    </tr>\n",
       "  </tbody>\n",
       "</table>\n",
       "</div>"
      ],
      "text/plain": [
       "  Metadata_JCP2022            Metadata_InChIKey                                     Metadata_InChI\n",
       "0   JCP2022_000001  AAAHWCWPZPSPIW-UHFFFAOYSA-N  InChI=1S/C25H31N5O2/c1-4-23-26-14-16-30(23)24-...\n",
       "1   JCP2022_000002  AAAJHRMBUHXWLD-UHFFFAOYSA-N  InChI=1S/C11H13ClN2O/c12-10-4-2-9(3-5-10)8-14-...\n",
       "2   JCP2022_000003  AAALVYBICLMAMA-UHFFFAOYSA-N  InChI=1S/C20H15N3O2/c24-19-15-11-17(21-13-7-3-...\n",
       "3   JCP2022_000004  AAANUZMCJQUYNX-UHFFFAOYSA-N  InChI=1S/C13H22N4O2S/c1-2-7-16-13(5-6-15-16)20...\n",
       "4   JCP2022_000005  AAAQFGUYHFJNHI-UHFFFAOYSA-N  InChI=1S/C22H22ClN5O2/c1-4-24-20(29)12-18-22-2..."
      ]
     },
     "execution_count": 14,
     "metadata": {},
     "output_type": "execute_result"
    }
   ],
   "source": [
    "compound.info()\n",
    "compound.head()"
   ]
  },
  {
   "cell_type": "markdown",
   "id": "c0450742",
   "metadata": {
    "jp-MarkdownHeadingCollapsed": true
   },
   "source": [
    "## ORF"
   ]
  },
  {
   "cell_type": "markdown",
   "id": "8d4d5a6f",
   "metadata": {},
   "source": [
    "**ORF Types:**\n",
    "\n",
    "trt are ORF treatments, where the cells are perturbed by an ORF treatment.\n",
    "- **poscon** are four compound treatments that are used as positive control.\n",
    "- **negcon** are four ORF treatments that are used as negative control. They are not expected to cause morphological changes."
   ]
  },
  {
   "cell_type": "code",
   "execution_count": 16,
   "id": "c76a4a32",
   "metadata": {
    "ExecuteTime": {
     "end_time": "2023-06-28T19:57:37.251055Z",
     "start_time": "2023-06-28T19:57:37.202443Z"
    },
    "execution": {
     "iopub.execute_input": "2024-01-25T07:43:59.501998Z",
     "iopub.status.busy": "2024-01-25T07:43:59.501416Z",
     "iopub.status.idle": "2024-01-25T07:43:59.578265Z",
     "shell.execute_reply": "2024-01-25T07:43:59.577506Z",
     "shell.execute_reply.started": "2024-01-25T07:43:59.501951Z"
    }
   },
   "outputs": [
    {
     "name": "stdout",
     "output_type": "stream",
     "text": [
      "<class 'pandas.core.frame.DataFrame'>\n",
      "RangeIndex: 15142 entries, 0 to 15141\n",
      "Data columns (total 12 columns):\n",
      " #   Column                     Non-Null Count  Dtype  \n",
      "---  ------                     --------------  -----  \n",
      " 0   Metadata_JCP2022           15142 non-null  object \n",
      " 1   Metadata_broad_sample      15142 non-null  object \n",
      " 2   Metadata_Name              15132 non-null  object \n",
      " 3   Metadata_Vector            15142 non-null  object \n",
      " 4   Metadata_Transcript        15106 non-null  object \n",
      " 5   Metadata_Symbol            15107 non-null  object \n",
      " 6   Metadata_NCBI_Gene_ID      15107 non-null  object \n",
      " 7   Metadata_Taxon_ID          15107 non-null  object \n",
      " 8   Metadata_Gene_Description  14853 non-null  object \n",
      " 9   Metadata_Prot_Match        14320 non-null  float64\n",
      " 10  Metadata_Insert_Length     15141 non-null  float64\n",
      " 11  Metadata_pert_type         15142 non-null  object \n",
      "dtypes: float64(2), object(10)\n",
      "memory usage: 1.4+ MB\n"
     ]
    },
    {
     "data": {
      "text/html": [
       "<div>\n",
       "<style scoped>\n",
       "    .dataframe tbody tr th:only-of-type {\n",
       "        vertical-align: middle;\n",
       "    }\n",
       "\n",
       "    .dataframe tbody tr th {\n",
       "        vertical-align: top;\n",
       "    }\n",
       "\n",
       "    .dataframe thead th {\n",
       "        text-align: right;\n",
       "    }\n",
       "</style>\n",
       "<table border=\"1\" class=\"dataframe\">\n",
       "  <thead>\n",
       "    <tr style=\"text-align: right;\">\n",
       "      <th></th>\n",
       "      <th>Metadata_JCP2022</th>\n",
       "      <th>Metadata_broad_sample</th>\n",
       "      <th>Metadata_Name</th>\n",
       "      <th>Metadata_Vector</th>\n",
       "      <th>Metadata_Transcript</th>\n",
       "      <th>Metadata_Symbol</th>\n",
       "      <th>Metadata_NCBI_Gene_ID</th>\n",
       "      <th>Metadata_Taxon_ID</th>\n",
       "      <th>Metadata_Gene_Description</th>\n",
       "      <th>Metadata_Prot_Match</th>\n",
       "      <th>Metadata_Insert_Length</th>\n",
       "      <th>Metadata_pert_type</th>\n",
       "    </tr>\n",
       "  </thead>\n",
       "  <tbody>\n",
       "    <tr>\n",
       "      <th>0</th>\n",
       "      <td>JCP2022_900002</td>\n",
       "      <td>ccsbBroad304_00001</td>\n",
       "      <td>ORF008415.1_TRC304.1</td>\n",
       "      <td>pLX_304</td>\n",
       "      <td>NM_001160173.3</td>\n",
       "      <td>NAT1</td>\n",
       "      <td>9</td>\n",
       "      <td>9606</td>\n",
       "      <td>N-acetyltransferase 1</td>\n",
       "      <td>100.0</td>\n",
       "      <td>870.0</td>\n",
       "      <td>trt</td>\n",
       "    </tr>\n",
       "    <tr>\n",
       "      <th>1</th>\n",
       "      <td>JCP2022_900003</td>\n",
       "      <td>ccsbBroad304_00002</td>\n",
       "      <td>ORF005388.1_TRC304.1</td>\n",
       "      <td>pLX_304</td>\n",
       "      <td>NM_001088.3</td>\n",
       "      <td>AANAT</td>\n",
       "      <td>15</td>\n",
       "      <td>9606</td>\n",
       "      <td>aralkylamine N-acetyltransferase</td>\n",
       "      <td>100.0</td>\n",
       "      <td>621.0</td>\n",
       "      <td>trt</td>\n",
       "    </tr>\n",
       "    <tr>\n",
       "      <th>2</th>\n",
       "      <td>JCP2022_900004</td>\n",
       "      <td>ccsbBroad304_00003</td>\n",
       "      <td>ORF003876.1_TRC304.1</td>\n",
       "      <td>pLX_304</td>\n",
       "      <td>NM_000663.4</td>\n",
       "      <td>ABAT</td>\n",
       "      <td>18</td>\n",
       "      <td>9606</td>\n",
       "      <td>4-aminobutyrate aminotransferase</td>\n",
       "      <td>100.0</td>\n",
       "      <td>1500.0</td>\n",
       "      <td>trt</td>\n",
       "    </tr>\n",
       "    <tr>\n",
       "      <th>3</th>\n",
       "      <td>JCP2022_900005</td>\n",
       "      <td>ccsbBroad304_00007</td>\n",
       "      <td>ORF004679.1_TRC304.1</td>\n",
       "      <td>pLX_304</td>\n",
       "      <td>NM_000018.4</td>\n",
       "      <td>ACADVL</td>\n",
       "      <td>37</td>\n",
       "      <td>9606</td>\n",
       "      <td>acyl-CoA dehydrogenase very long chain</td>\n",
       "      <td>100.0</td>\n",
       "      <td>1965.0</td>\n",
       "      <td>trt</td>\n",
       "    </tr>\n",
       "    <tr>\n",
       "      <th>4</th>\n",
       "      <td>JCP2022_900006</td>\n",
       "      <td>ccsbBroad304_00008</td>\n",
       "      <td>ORF000425.1_TRC304.1</td>\n",
       "      <td>pLX_304</td>\n",
       "      <td>NM_001095.4</td>\n",
       "      <td>ASIC1</td>\n",
       "      <td>41</td>\n",
       "      <td>9606</td>\n",
       "      <td>acid sensing ion channel subunit 1</td>\n",
       "      <td>100.0</td>\n",
       "      <td>1584.0</td>\n",
       "      <td>trt</td>\n",
       "    </tr>\n",
       "  </tbody>\n",
       "</table>\n",
       "</div>"
      ],
      "text/plain": [
       "  Metadata_JCP2022 Metadata_broad_sample         Metadata_Name Metadata_Vector Metadata_Transcript Metadata_Symbol Metadata_NCBI_Gene_ID  \\\n",
       "0   JCP2022_900002    ccsbBroad304_00001  ORF008415.1_TRC304.1         pLX_304      NM_001160173.3            NAT1                     9   \n",
       "1   JCP2022_900003    ccsbBroad304_00002  ORF005388.1_TRC304.1         pLX_304         NM_001088.3           AANAT                    15   \n",
       "2   JCP2022_900004    ccsbBroad304_00003  ORF003876.1_TRC304.1         pLX_304         NM_000663.4            ABAT                    18   \n",
       "3   JCP2022_900005    ccsbBroad304_00007  ORF004679.1_TRC304.1         pLX_304         NM_000018.4          ACADVL                    37   \n",
       "4   JCP2022_900006    ccsbBroad304_00008  ORF000425.1_TRC304.1         pLX_304         NM_001095.4           ASIC1                    41   \n",
       "\n",
       "  Metadata_Taxon_ID               Metadata_Gene_Description  Metadata_Prot_Match  Metadata_Insert_Length Metadata_pert_type  \n",
       "0              9606                   N-acetyltransferase 1                100.0                   870.0                trt  \n",
       "1              9606        aralkylamine N-acetyltransferase                100.0                   621.0                trt  \n",
       "2              9606        4-aminobutyrate aminotransferase                100.0                  1500.0                trt  \n",
       "3              9606  acyl-CoA dehydrogenase very long chain                100.0                  1965.0                trt  \n",
       "4              9606      acid sensing ion channel subunit 1                100.0                  1584.0                trt  "
      ]
     },
     "execution_count": 16,
     "metadata": {},
     "output_type": "execute_result"
    }
   ],
   "source": [
    "orf.info()\n",
    "orf.head()"
   ]
  },
  {
   "cell_type": "markdown",
   "id": "c98478ed-178c-42df-a60d-3ed61848d262",
   "metadata": {},
   "source": [
    "## Parquet Profile Columns Metadata \n",
    "\n",
    "Parquet files column metadata"
   ]
  },
  {
   "cell_type": "code",
   "execution_count": null,
   "id": "aed250b2-0ee4-4a3f-abce-c734d1fcae37",
   "metadata": {
    "execution": {
     "iopub.execute_input": "2024-01-25T07:44:08.210082Z",
     "iopub.status.busy": "2024-01-25T07:44:08.209444Z",
     "iopub.status.idle": "2024-01-25T07:44:08.239260Z",
     "shell.execute_reply": "2024-01-25T07:44:08.238393Z",
     "shell.execute_reply.started": "2024-01-25T07:44:08.210028Z"
    }
   },
   "outputs": [],
   "source": [
    "with open(\"./metadata/parquet_columns.pkl\",'rb') as f:\n",
    "    ParquetColumns = pickle.load(f)\n",
    "\n",
    "for k,v in ParquetColumns.items():\n",
    "    print(f\" {k:20s}   items: {len(v)}\")\n",
    "# print(ParquetColumns['Cytoplasm'])"
   ]
  },
  {
   "cell_type": "markdown",
   "id": "6eef209c-144f-4ca5-af8a-67f91a80af7f",
   "metadata": {},
   "source": [
    "  ### Define different cell groups"
   ]
  },
  {
   "cell_type": "code",
   "execution_count": 27,
   "id": "3fbccf36-097e-4308-9f35-4aa16c8a6d5e",
   "metadata": {
    "execution": {
     "iopub.execute_input": "2024-01-25T07:50:25.992693Z",
     "iopub.status.busy": "2024-01-25T07:50:25.992105Z",
     "iopub.status.idle": "2024-01-25T07:50:26.047718Z",
     "shell.execute_reply": "2024-01-25T07:50:26.046941Z",
     "shell.execute_reply.started": "2024-01-25T07:50:25.992652Z"
    }
   },
   "outputs": [
    {
     "name": "stdout",
     "output_type": "stream",
     "text": [
      " Cells_AreaShape                               53\n",
      " Cells_Children                                1\n",
      " Cells_Correlation                             80\n",
      " Cells_Granularity                             80\n",
      " Cells_Intensity                               75\n",
      " Cells_Neighbors                               14\n",
      " Cells_Parent                                  1\n",
      " Cells_RadialDistribution                      171\n",
      " Cells_Texture                                 780\n",
      " Cells_Texture_AngularSecondMoment             60\n",
      " Cells_Texture_Contrast                        60\n",
      " Cells_Texture_Correlation                     60\n",
      " Cells_Texture_DifferenceEntropy               60\n",
      " Cells_Texture_DifferenceVariance              60\n",
      " Cells_Texture_Entropy                         60\n",
      " Cells_Texture_InfoMeas1                       60\n",
      " Cells_Texture_InfoMeas2                       60\n",
      " Cells_Texture_InverseDifferenceMoment         60\n",
      " Cells_Texture_SumAverage                      60\n",
      " Cells_Texture_SumEntropy                      60\n",
      " Cells_Texture_SumVariance                     60\n",
      " Cells_Texture_Variance                        60\n",
      "\n",
      "\n",
      " Cytoplasm_Texture                             780\n",
      " Cytoplasm_Number                              1\n",
      " Cytoplasm_Intensity                           75\n",
      " Cytoplasm_RadialDistribution                  171\n",
      " Cytoplasm_Granularity                         80\n",
      " Cytoplasm_Correlation                         80\n",
      " Cytoplasm_AreaShape                           53\n",
      "\n",
      "\n",
      " Nuclei_Location                               33\n",
      " Nuclei_Neighbors                              7\n",
      " Nuclei_ObjectSkeleton                         4\n",
      " Nuclei_Parent                                 1\n",
      " Nuclei_Number                                 1\n",
      " Nuclei_Intensity                              75\n",
      " Nuclei_Children                               1\n",
      " Nuclei_RadialDistribution                     60\n",
      " Nuclei_Granularity                            80\n",
      " Nuclei_Correlation                            80\n",
      " Nuclei_AreaShape                              53\n",
      " Nuclei_Texture                                780\n"
     ]
    }
   ],
   "source": [
    "cell_fld_grps = ['Cells_AreaShape', 'Cells_Children', 'Cells_Correlation', \n",
    "                 ## 'Cells_Correlation_Correlation', 'Cells_Correlation_K', 'Cells_Correlation_Manders','Cells_Correlation_Overlap', 'Cells_Correlation_RWC',\n",
    "                 ## 'Cells_RadialDistribution_FracAtD', 'Cells_RadialDistribution_MeanFrac', 'Cells_RadialDistribution_RadialCV',\n",
    "                 'Cells_Granularity', 'Cells_Intensity', 'Cells_Neighbors', 'Cells_Parent',\n",
    "                 'Cells_RadialDistribution', \n",
    "                 'Cells_Texture', \n",
    "                 'Cells_Texture_AngularSecondMoment','Cells_Texture_Contrast', 'Cells_Texture_Correlation',\n",
    "                 'Cells_Texture_DifferenceEntropy', 'Cells_Texture_DifferenceVariance', 'Cells_Texture_Entropy',\n",
    "                 'Cells_Texture_InfoMeas1' , 'Cells_Texture_InfoMeas2' , 'Cells_Texture_InverseDifferenceMoment',\n",
    "                 'Cells_Texture_SumAverage', 'Cells_Texture_SumEntropy', 'Cells_Texture_SumVariance',  'Cells_Texture_Variance']\n",
    "for grp in cell_fld_grps:\n",
    "    cellColumns = get_cols_like(numeric_columns,grp )\n",
    "    print(f\" {grp:40s}      {len(cellColumns)}\")\n",
    "print('\\n')    \n",
    "# cytoplasm_fld_names = [ x for x in ParquetColumns['Cytoplasm'].keys()]\n",
    "# cytoplasm_fld_grps = set([x.split('_')[1] for x in cytoplasm_fld_names])\n",
    "# cytoplasm_fld_grps = ['Cytoplasm_'+ x for x in cytoplasm_fld_grps]\n",
    "# cytoplasm_fld_grps\n",
    "cytoplasm_fld_grps = ['Cytoplasm_Texture',\n",
    "                      'Cytoplasm_Number',\n",
    "                      'Cytoplasm_Intensity',\n",
    "                      'Cytoplasm_RadialDistribution',\n",
    "                      'Cytoplasm_Granularity',\n",
    "                      'Cytoplasm_Correlation',\n",
    "                      'Cytoplasm_AreaShape']\n",
    "\n",
    "for grp in cytoplasm_fld_grps:\n",
    "    cellColumns = get_cols_like(numeric_columns,grp )\n",
    "    print(f\" {grp:40s}      {len(cellColumns)}\")\n",
    "print('\\n')\n",
    "# nuclei_fld_names = [ x for x in ParquetColumns['Nuclei'].keys()]\n",
    "# nuclei_fld_grps = set([x.split('_')[1] for x in nuclei_fld_names])\n",
    "# nuclei_fld_grps = ['Nuclei_'+ x for x in nuclei_fld_grps]\n",
    "# nuclei_fld_grps\n",
    "# ##nuclei_fld_names\n",
    "nuclei_fld_grps = ['Nuclei_Location',\n",
    "                   'Nuclei_Neighbors',\n",
    "                   'Nuclei_ObjectSkeleton',\n",
    "                   'Nuclei_Parent',\n",
    "                   'Nuclei_Number',\n",
    "                   'Nuclei_Intensity',\n",
    "                   'Nuclei_Children',\n",
    "                   'Nuclei_RadialDistribution',\n",
    "                   'Nuclei_Granularity',\n",
    "                   'Nuclei_Correlation',\n",
    "                   'Nuclei_AreaShape',\n",
    "                   'Nuclei_Texture']\n",
    " \n",
    "for grp in nuclei_fld_grps:\n",
    "    cellColumns = get_cols_like(numeric_columns,grp )\n",
    "    print(f\" {grp:40s}      {len(cellColumns)}\")\n"
   ]
  },
  {
   "cell_type": "markdown",
   "id": "20c46656-132a-437e-8acf-2fd882ee3d92",
   "metadata": {},
   "source": [
    "  ### Specify columns to read from extMetadata and parquet files"
   ]
  },
  {
   "cell_type": "code",
   "execution_count": 34,
   "id": "8569fbf4-47af-4970-a9d5-2c0616f37ad5",
   "metadata": {
    "execution": {
     "iopub.execute_input": "2024-01-25T07:54:42.450490Z",
     "iopub.status.busy": "2024-01-25T07:54:42.449967Z",
     "iopub.status.idle": "2024-01-25T07:54:42.486598Z",
     "shell.execute_reply": "2024-01-25T07:54:42.485853Z",
     "shell.execute_reply.started": "2024-01-25T07:54:42.450448Z"
    }
   },
   "outputs": [
    {
     "name": "stdout",
     "output_type": "stream",
     "text": [
      " Ext Metadata Columns :  ['Metadata_Source', 'Metadata_Batch', 'Metadata_Plate', 'Metadata_Well', 'Metadata_JCP2022', 'TPSA', 'lnTPSA', 'log10TPSA', 'permiation']\n",
      " Categorical columns  :  ['Metadata_Source', 'Metadata_Batch', 'Metadata_Plate', 'Metadata_Well']\n",
      " Parquet Metadata Columns:  {'Metadata_Source': dtype('O'), 'Metadata_Plate': dtype('O'), 'Metadata_Well': dtype('O')}\n",
      " all numeric columns: 3673\n",
      " all numeric columns after removal of FormFactor Columns : 3670\n",
      " conversion dict length: 3670\n",
      " conversion dict length (after addition of Categorical columns): 3674\n",
      " all get_columns    : 3673\n",
      " all columns in join: 3679\n"
     ]
    },
    {
     "data": {
      "text/plain": [
       "['Metadata_Source',\n",
       " 'Metadata_Batch',\n",
       " 'Metadata_Plate',\n",
       " 'Metadata_Well',\n",
       " 'Metadata_JCP2022',\n",
       " 'Metadata_TPSA',\n",
       " 'Metadata_lnTPSA']"
      ]
     },
     "execution_count": 34,
     "metadata": {},
     "output_type": "execute_result"
    },
    {
     "name": "stdout",
     "output_type": "stream",
     "text": [
      "\n",
      "\n",
      "\n",
      " Numeric columns :\n",
      "------------------\n",
      " input is list length 3670\n",
      " Field type: Cells                   count: 1255\n",
      " Field type: Cytoplasm               count: 1240\n",
      " Field type: Nuclei                  count: 1175\n"
     ]
    }
   ],
   "source": [
    "extMetadataColumns = [\"Metadata_Source\", \"Metadata_Batch\" ,\"Metadata_Plate\" , \"Metadata_Well\", \"Metadata_JCP2022\"]\n",
    "extMetadataColumns = [\"Metadata_Source\", \"Metadata_Batch\" ,\"Metadata_Plate\" , \"Metadata_Well\", \"Metadata_JCP2022\", \"TPSA\"  , \"lnTPSA\"  , \"log10TPSA\", \"permiation\"]\n",
    "extMetadataNames   = [\"Metadata_Source\", \"Metadata_Batch\" ,\"Metadata_Plate\" , \"Metadata_Well\", \"Metadata_JCP2022\", \"Metadata_TPSA\", \"Metadata_lnTPSA\", \"Metadata_log10TPSA\",\"permiation\"]\n",
    "categoricalColumns = [\"Metadata_Source\", \"Metadata_Batch\" ,\"Metadata_Plate\" , \"Metadata_Well\"]\n",
    "\n",
    "print(' Ext Metadata Columns : ', extMetadataColumns)\n",
    "print(' Categorical columns  : ', categoricalColumns) \n",
    "print(' Parquet Metadata Columns: ' ,ParquetColumns['Metadata'])\n",
    "\n",
    "## all numeric columns \n",
    "numeric_columns  =  ParquetColumns['Cells'] | ParquetColumns['Cytoplasm'] | ParquetColumns['Nuclei']\n",
    "\n",
    "print(f\" all numeric columns: {len(numeric_columns)}\")\n",
    " \n",
    "## Remove numeric columns that contains bad values\n",
    "for x in ['Cells_AreaShape_FormFactor', 'Cytoplasm_AreaShape_FormFactor', 'Nuclei_AreaShape_FormFactor']:\n",
    "    del numeric_columns[x]\n",
    "print(f\" all numeric columns after removal of FormFactor Columns : {len(numeric_columns)}\")\n",
    "\n",
    "numeric_cols_list = [x for x in numeric_columns.keys()]\n",
    "\n",
    "## Conversion dictionary for reading CSV files \n",
    "conversionDict = dict()\n",
    "for k,v in numeric_columns.items():\n",
    "    conversionDict[k] = np.float32\n",
    "\n",
    "print(f\" conversion dict length: {len(conversionDict)}\")\n",
    "\n",
    "conversionDict |= {x:'category'  for x in categoricalColumns}\n",
    "print(f\" conversion dict length (after addition of Categorical columns): {len(conversionDict)}\")\n",
    "\n",
    "## get_column list for fields to read from Parquet files \n",
    "get_columns = list(ParquetColumns['Metadata'] | numeric_columns)\n",
    "print(f\" all get_columns    : {len(get_columns)}\")\n",
    "# print(get_columns[:20])\n",
    "\n",
    "## join Columns \n",
    "join_columns = extMetadataNames + list(numeric_columns)\n",
    "print(f\" all columns in join: {len(join_columns)}\")\n",
    "join_columns[:7]\n",
    "\n",
    "\n",
    "print('\\n\\n')\n",
    "print(f\" Numeric columns :\")\n",
    "print(f\"------------------\")\n",
    "_ = cat_columns(numeric_cols_list)"
   ]
  },
  {
   "cell_type": "markdown",
   "id": "ccc6550a-0680-4757-a1e9-c18a527d65ad",
   "metadata": {
    "jp-MarkdownHeadingCollapsed": true
   },
   "source": [
    "## Sample plates\n",
    "Let's sample two plates of a certain type (encoded in `Metadata_PlateType`) from each data-generating center (`Metadata_Source`). Note that only 10 out of the 13 sources are currently available and `source_1` does not have the plate type being queried below."
   ]
  },
  {
   "cell_type": "code",
   "execution_count": 28,
   "id": "084e3ba4",
   "metadata": {
    "ExecuteTime": {
     "end_time": "2023-06-28T19:57:47.908831Z",
     "start_time": "2023-06-28T19:57:47.856466Z"
    },
    "execution": {
     "iopub.execute_input": "2024-01-25T07:51:53.701881Z",
     "iopub.status.busy": "2024-01-25T07:51:53.701444Z",
     "iopub.status.idle": "2024-01-25T07:51:53.779758Z",
     "shell.execute_reply": "2024-01-25T07:51:53.778920Z",
     "shell.execute_reply.started": "2024-01-25T07:51:53.701845Z"
    }
   },
   "outputs": [
    {
     "data": {
      "text/html": [
       "<div>\n",
       "<style scoped>\n",
       "    .dataframe tbody tr th:only-of-type {\n",
       "        vertical-align: middle;\n",
       "    }\n",
       "\n",
       "    .dataframe tbody tr th {\n",
       "        vertical-align: top;\n",
       "    }\n",
       "\n",
       "    .dataframe thead th {\n",
       "        text-align: right;\n",
       "    }\n",
       "</style>\n",
       "<table border=\"1\" class=\"dataframe\">\n",
       "  <thead>\n",
       "    <tr style=\"text-align: right;\">\n",
       "      <th></th>\n",
       "      <th>Metadata_Source</th>\n",
       "      <th>Metadata_Batch</th>\n",
       "      <th>Metadata_Plate</th>\n",
       "      <th>Metadata_PlateType</th>\n",
       "    </tr>\n",
       "  </thead>\n",
       "  <tbody>\n",
       "    <tr>\n",
       "      <th>47</th>\n",
       "      <td>source_1</td>\n",
       "      <td>Batch6_20221102</td>\n",
       "      <td>UL000585</td>\n",
       "      <td>COMPOUND</td>\n",
       "    </tr>\n",
       "    <tr>\n",
       "      <th>44</th>\n",
       "      <td>source_1</td>\n",
       "      <td>Batch6_20221102</td>\n",
       "      <td>UL000579</td>\n",
       "      <td>COMPOUND</td>\n",
       "    </tr>\n",
       "    <tr>\n",
       "      <th>140</th>\n",
       "      <td>source_10</td>\n",
       "      <td>2021_06_22_U2OS_48_hr_run8</td>\n",
       "      <td>Dest210622-145122</td>\n",
       "      <td>COMPOUND</td>\n",
       "    </tr>\n",
       "    <tr>\n",
       "      <th>101</th>\n",
       "      <td>source_10</td>\n",
       "      <td>2021_06_14_U2OS_48_hr_run5</td>\n",
       "      <td>Dest210614-162933</td>\n",
       "      <td>COMPOUND</td>\n",
       "    </tr>\n",
       "    <tr>\n",
       "      <th>305</th>\n",
       "      <td>source_11</td>\n",
       "      <td>Batch1</td>\n",
       "      <td>EC000029</td>\n",
       "      <td>COMPOUND</td>\n",
       "    </tr>\n",
       "    <tr>\n",
       "      <th>316</th>\n",
       "      <td>source_11</td>\n",
       "      <td>Batch2</td>\n",
       "      <td>EC000044</td>\n",
       "      <td>COMPOUND</td>\n",
       "    </tr>\n",
       "    <tr>\n",
       "      <th>702</th>\n",
       "      <td>source_2</td>\n",
       "      <td>20210719_Batch_6</td>\n",
       "      <td>1086294024</td>\n",
       "      <td>COMPOUND</td>\n",
       "    </tr>\n",
       "    <tr>\n",
       "      <th>814</th>\n",
       "      <td>source_2</td>\n",
       "      <td>20210830_Batch_11</td>\n",
       "      <td>1086290477</td>\n",
       "      <td>COMPOUND</td>\n",
       "    </tr>\n",
       "    <tr>\n",
       "      <th>1071</th>\n",
       "      <td>source_3</td>\n",
       "      <td>CP_33_all_Phenix1</td>\n",
       "      <td>A13407bW</td>\n",
       "      <td>COMPOUND</td>\n",
       "    </tr>\n",
       "    <tr>\n",
       "      <th>875</th>\n",
       "      <td>source_3</td>\n",
       "      <td>CP60</td>\n",
       "      <td>BR5874c3</td>\n",
       "      <td>COMPOUND</td>\n",
       "    </tr>\n",
       "    <tr>\n",
       "      <th>1488</th>\n",
       "      <td>source_5</td>\n",
       "      <td>JUMPCPE-20210715-Run10_20210715_223420</td>\n",
       "      <td>ATSJUM112</td>\n",
       "      <td>COMPOUND</td>\n",
       "    </tr>\n",
       "    <tr>\n",
       "      <th>1551</th>\n",
       "      <td>source_5</td>\n",
       "      <td>JUMPCPE-20210806-Run17_20210807_000211</td>\n",
       "      <td>APTJUM301</td>\n",
       "      <td>COMPOUND</td>\n",
       "    </tr>\n",
       "    <tr>\n",
       "      <th>1703</th>\n",
       "      <td>source_6</td>\n",
       "      <td>p210831CPU2OS48hw384exp024JUMP</td>\n",
       "      <td>110000294904</td>\n",
       "      <td>COMPOUND</td>\n",
       "    </tr>\n",
       "    <tr>\n",
       "      <th>1877</th>\n",
       "      <td>source_6</td>\n",
       "      <td>p211109CPU2OS48hw384exp035JUMP</td>\n",
       "      <td>110000296159</td>\n",
       "      <td>COMPOUND</td>\n",
       "    </tr>\n",
       "    <tr>\n",
       "      <th>1994</th>\n",
       "      <td>source_7</td>\n",
       "      <td>20210727_Run3</td>\n",
       "      <td>CP3-SC1-22</td>\n",
       "      <td>COMPOUND</td>\n",
       "    </tr>\n",
       "    <tr>\n",
       "      <th>2000</th>\n",
       "      <td>source_7</td>\n",
       "      <td>20210731_Run4</td>\n",
       "      <td>CP4-SC1-06</td>\n",
       "      <td>COMPOUND</td>\n",
       "    </tr>\n",
       "    <tr>\n",
       "      <th>2085</th>\n",
       "      <td>source_8</td>\n",
       "      <td>J1</td>\n",
       "      <td>A1170414</td>\n",
       "      <td>COMPOUND</td>\n",
       "    </tr>\n",
       "    <tr>\n",
       "      <th>2160</th>\n",
       "      <td>source_8</td>\n",
       "      <td>J2</td>\n",
       "      <td>A1170491</td>\n",
       "      <td>COMPOUND</td>\n",
       "    </tr>\n",
       "    <tr>\n",
       "      <th>2318</th>\n",
       "      <td>source_9</td>\n",
       "      <td>20210915-Run10</td>\n",
       "      <td>GR00003317</td>\n",
       "      <td>COMPOUND</td>\n",
       "    </tr>\n",
       "    <tr>\n",
       "      <th>2303</th>\n",
       "      <td>source_9</td>\n",
       "      <td>20210914-Run9</td>\n",
       "      <td>GR00003296</td>\n",
       "      <td>COMPOUND</td>\n",
       "    </tr>\n",
       "  </tbody>\n",
       "</table>\n",
       "</div>"
      ],
      "text/plain": [
       "     Metadata_Source                          Metadata_Batch     Metadata_Plate Metadata_PlateType\n",
       "47          source_1                         Batch6_20221102           UL000585           COMPOUND\n",
       "44          source_1                         Batch6_20221102           UL000579           COMPOUND\n",
       "140        source_10              2021_06_22_U2OS_48_hr_run8  Dest210622-145122           COMPOUND\n",
       "101        source_10              2021_06_14_U2OS_48_hr_run5  Dest210614-162933           COMPOUND\n",
       "305        source_11                                  Batch1           EC000029           COMPOUND\n",
       "316        source_11                                  Batch2           EC000044           COMPOUND\n",
       "702         source_2                        20210719_Batch_6         1086294024           COMPOUND\n",
       "814         source_2                       20210830_Batch_11         1086290477           COMPOUND\n",
       "1071        source_3                       CP_33_all_Phenix1           A13407bW           COMPOUND\n",
       "875         source_3                                    CP60           BR5874c3           COMPOUND\n",
       "1488        source_5  JUMPCPE-20210715-Run10_20210715_223420          ATSJUM112           COMPOUND\n",
       "1551        source_5  JUMPCPE-20210806-Run17_20210807_000211          APTJUM301           COMPOUND\n",
       "1703        source_6          p210831CPU2OS48hw384exp024JUMP       110000294904           COMPOUND\n",
       "1877        source_6          p211109CPU2OS48hw384exp035JUMP       110000296159           COMPOUND\n",
       "1994        source_7                           20210727_Run3         CP3-SC1-22           COMPOUND\n",
       "2000        source_7                           20210731_Run4         CP4-SC1-06           COMPOUND\n",
       "2085        source_8                                      J1           A1170414           COMPOUND\n",
       "2160        source_8                                      J2           A1170491           COMPOUND\n",
       "2318        source_9                          20210915-Run10         GR00003317           COMPOUND\n",
       "2303        source_9                           20210914-Run9         GR00003296           COMPOUND"
      ]
     },
     "execution_count": 28,
     "metadata": {},
     "output_type": "execute_result"
    }
   ],
   "source": [
    "sample = (\n",
    "    plates.query('Metadata_PlateType==\"COMPOUND\"')\n",
    "    .groupby(\"Metadata_Source\")\n",
    "    .sample(2, random_state=42)   ## sample 2 per Metadata_Source\n",
    ")\n",
    "sample\n",
    "# sample.Metadata_Batch.sum()\n"
   ]
  },
  {
   "cell_type": "markdown",
   "id": "e6fa1334-eb5b-471b-b40f-bfb07156287e",
   "metadata": {},
   "source": [
    "`TARGET2` plates are \"sentinel\" plates that are run in each batch. More on all this in future updates."
   ]
  },
  {
   "cell_type": "markdown",
   "id": "cebf9ddf-8c24-405e-a18b-5ad526b3707f",
   "metadata": {},
   "source": [
    "## Extended Metadata "
   ]
  },
  {
   "cell_type": "code",
   "execution_count": 35,
   "id": "130e8b1e-7952-4083-8356-43319e37c0f1",
   "metadata": {
    "execution": {
     "iopub.execute_input": "2024-01-25T07:54:44.765699Z",
     "iopub.status.busy": "2024-01-25T07:54:44.765163Z",
     "iopub.status.idle": "2024-01-25T07:54:44.795723Z",
     "shell.execute_reply": "2024-01-25T07:54:44.794923Z",
     "shell.execute_reply.started": "2024-01-25T07:54:44.765657Z"
    }
   },
   "outputs": [
    {
     "name": "stdout",
     "output_type": "stream",
     "text": [
      " Ext Metadata Columns :  ['Metadata_Source', 'Metadata_Batch', 'Metadata_Plate', 'Metadata_Well', 'Metadata_JCP2022', 'TPSA', 'lnTPSA', 'log10TPSA', 'permiation']\n",
      " Categorical columns  :  ['Metadata_Source', 'Metadata_Batch', 'Metadata_Plate', 'Metadata_Well']\n"
     ]
    },
    {
     "data": {
      "text/plain": [
       "'./output_11102023/compound_extended_metadata_2samples.csv'"
      ]
     },
     "execution_count": 35,
     "metadata": {},
     "output_type": "execute_result"
    }
   ],
   "source": [
    "# extMetadataColumns = [\"Metadata_Source\", \"Metadata_Batch\" ,\"Metadata_Plate\" , \"Metadata_Well\", \"Metadata_JCP2022\", \"TPSA\", \"lnTPSA\", \"log10TPSA\"]\n",
    "# categoricalColumns = [\"Metadata_Source\", \"Metadata_Batch\" ,\"Metadata_Plate\" , \"Metadata_Well\"]\n",
    "\n",
    "print(' Ext Metadata Columns : ', extMetadataColumns)\n",
    "print(' Categorical columns  : ', categoricalColumns) \n",
    "\n",
    "CompoundExtendedMetadata2SampleFile"
   ]
  },
  {
   "cell_type": "code",
   "execution_count": 47,
   "id": "732f87db-72bd-4b55-a867-37b773aa4c75",
   "metadata": {
    "ExecuteTime": {
     "end_time": "2023-06-28T19:57:26.086260Z",
     "start_time": "2023-06-28T19:57:25.294622Z"
    },
    "execution": {
     "iopub.execute_input": "2024-01-25T07:57:54.892065Z",
     "iopub.status.busy": "2024-01-25T07:57:54.891557Z",
     "iopub.status.idle": "2024-01-25T07:57:55.501355Z",
     "shell.execute_reply": "2024-01-25T07:57:55.500460Z",
     "shell.execute_reply.started": "2024-01-25T07:57:54.892024Z"
    }
   },
   "outputs": [],
   "source": [
    "ext_metadata = pd.read_csv(CompoundExtendedMetadata2SampleFile, \n",
    "                           usecols = extMetadataColumns,\n",
    "                           header=0)\n",
    "ext_metadata.sort_values(by=categoricalColumns, inplace=True, ignore_index=True )"
   ]
  },
  {
   "cell_type": "code",
   "execution_count": 48,
   "id": "0ed1fa9b-2b5a-49ae-9a18-a4fdb4641757",
   "metadata": {
    "ExecuteTime": {
     "end_time": "2023-06-28T19:57:26.086260Z",
     "start_time": "2023-06-28T19:57:25.294622Z"
    },
    "execution": {
     "iopub.execute_input": "2024-01-25T07:57:56.318046Z",
     "iopub.status.busy": "2024-01-25T07:57:56.317531Z",
     "iopub.status.idle": "2024-01-25T07:57:56.428503Z",
     "shell.execute_reply": "2024-01-25T07:57:56.427908Z",
     "shell.execute_reply.started": "2024-01-25T07:57:56.318008Z"
    }
   },
   "outputs": [
    {
     "name": "stdout",
     "output_type": "stream",
     "text": [
      "<class 'pandas.core.frame.DataFrame'>\n",
      "RangeIndex: 231028 entries, 0 to 231027\n",
      "Data columns (total 9 columns):\n",
      " #   Column            Non-Null Count   Dtype  \n",
      "---  ------            --------------   -----  \n",
      " 0   Metadata_JCP2022  231028 non-null  object \n",
      " 1   Metadata_Source   231028 non-null  object \n",
      " 2   Metadata_Batch    231028 non-null  object \n",
      " 3   Metadata_Plate    231028 non-null  object \n",
      " 4   Metadata_Well     231028 non-null  object \n",
      " 5   TPSA              231028 non-null  float64\n",
      " 6   lnTPSA            231028 non-null  float64\n",
      " 7   log10TPSA         231028 non-null  float64\n",
      " 8   permiation        231028 non-null  int64  \n",
      "dtypes: float64(3), int64(1), object(5)\n",
      "memory usage: 15.9+ MB\n"
     ]
    },
    {
     "data": {
      "text/html": [
       "<div>\n",
       "<style scoped>\n",
       "    .dataframe tbody tr th:only-of-type {\n",
       "        vertical-align: middle;\n",
       "    }\n",
       "\n",
       "    .dataframe tbody tr th {\n",
       "        vertical-align: top;\n",
       "    }\n",
       "\n",
       "    .dataframe thead th {\n",
       "        text-align: right;\n",
       "    }\n",
       "</style>\n",
       "<table border=\"1\" class=\"dataframe\">\n",
       "  <thead>\n",
       "    <tr style=\"text-align: right;\">\n",
       "      <th></th>\n",
       "      <th>Metadata_JCP2022</th>\n",
       "      <th>Metadata_Source</th>\n",
       "      <th>Metadata_Batch</th>\n",
       "      <th>Metadata_Plate</th>\n",
       "      <th>Metadata_Well</th>\n",
       "      <th>TPSA</th>\n",
       "      <th>lnTPSA</th>\n",
       "      <th>log10TPSA</th>\n",
       "      <th>permiation</th>\n",
       "    </tr>\n",
       "  </thead>\n",
       "  <tbody>\n",
       "    <tr>\n",
       "      <th>0</th>\n",
       "      <td>JCP2022_036592</td>\n",
       "      <td>source_1</td>\n",
       "      <td>Batch1_20221004</td>\n",
       "      <td>UL001641</td>\n",
       "      <td>A05</td>\n",
       "      <td>82.21</td>\n",
       "      <td>4.409277</td>\n",
       "      <td>1.914925</td>\n",
       "      <td>0</td>\n",
       "    </tr>\n",
       "    <tr>\n",
       "      <th>1</th>\n",
       "      <td>JCP2022_071885</td>\n",
       "      <td>source_1</td>\n",
       "      <td>Batch1_20221004</td>\n",
       "      <td>UL001641</td>\n",
       "      <td>A06</td>\n",
       "      <td>54.50</td>\n",
       "      <td>3.998201</td>\n",
       "      <td>1.736397</td>\n",
       "      <td>0</td>\n",
       "    </tr>\n",
       "    <tr>\n",
       "      <th>2</th>\n",
       "      <td>JCP2022_078645</td>\n",
       "      <td>source_1</td>\n",
       "      <td>Batch1_20221004</td>\n",
       "      <td>UL001641</td>\n",
       "      <td>A08</td>\n",
       "      <td>90.58</td>\n",
       "      <td>4.506233</td>\n",
       "      <td>1.957032</td>\n",
       "      <td>0</td>\n",
       "    </tr>\n",
       "    <tr>\n",
       "      <th>3</th>\n",
       "      <td>JCP2022_098761</td>\n",
       "      <td>source_1</td>\n",
       "      <td>Batch1_20221004</td>\n",
       "      <td>UL001641</td>\n",
       "      <td>A11</td>\n",
       "      <td>103.50</td>\n",
       "      <td>4.639572</td>\n",
       "      <td>2.014940</td>\n",
       "      <td>1</td>\n",
       "    </tr>\n",
       "    <tr>\n",
       "      <th>4</th>\n",
       "      <td>JCP2022_070236</td>\n",
       "      <td>source_1</td>\n",
       "      <td>Batch1_20221004</td>\n",
       "      <td>UL001641</td>\n",
       "      <td>A15</td>\n",
       "      <td>31.60</td>\n",
       "      <td>3.453157</td>\n",
       "      <td>1.499687</td>\n",
       "      <td>0</td>\n",
       "    </tr>\n",
       "  </tbody>\n",
       "</table>\n",
       "</div>"
      ],
      "text/plain": [
       "  Metadata_JCP2022 Metadata_Source   Metadata_Batch Metadata_Plate Metadata_Well    TPSA    lnTPSA  log10TPSA  permiation\n",
       "0   JCP2022_036592        source_1  Batch1_20221004       UL001641           A05   82.21  4.409277   1.914925           0\n",
       "1   JCP2022_071885        source_1  Batch1_20221004       UL001641           A06   54.50  3.998201   1.736397           0\n",
       "2   JCP2022_078645        source_1  Batch1_20221004       UL001641           A08   90.58  4.506233   1.957032           0\n",
       "3   JCP2022_098761        source_1  Batch1_20221004       UL001641           A11  103.50  4.639572   2.014940           1\n",
       "4   JCP2022_070236        source_1  Batch1_20221004       UL001641           A15   31.60  3.453157   1.499687           0"
      ]
     },
     "execution_count": 48,
     "metadata": {},
     "output_type": "execute_result"
    },
    {
     "data": {
      "text/html": [
       "<div>\n",
       "<style scoped>\n",
       "    .dataframe tbody tr th:only-of-type {\n",
       "        vertical-align: middle;\n",
       "    }\n",
       "\n",
       "    .dataframe tbody tr th {\n",
       "        vertical-align: top;\n",
       "    }\n",
       "\n",
       "    .dataframe thead th {\n",
       "        text-align: right;\n",
       "    }\n",
       "</style>\n",
       "<table border=\"1\" class=\"dataframe\">\n",
       "  <thead>\n",
       "    <tr style=\"text-align: right;\">\n",
       "      <th></th>\n",
       "      <th>Metadata_JCP2022</th>\n",
       "      <th>Metadata_Source</th>\n",
       "      <th>Metadata_Batch</th>\n",
       "      <th>Metadata_Plate</th>\n",
       "      <th>Metadata_Well</th>\n",
       "      <th>TPSA</th>\n",
       "      <th>lnTPSA</th>\n",
       "      <th>log10TPSA</th>\n",
       "      <th>permiation</th>\n",
       "    </tr>\n",
       "  </thead>\n",
       "  <tbody>\n",
       "    <tr>\n",
       "      <th>231023</th>\n",
       "      <td>JCP2022_050165</td>\n",
       "      <td>source_9</td>\n",
       "      <td>20211103-Run16</td>\n",
       "      <td>GR00004421</td>\n",
       "      <td>Z08</td>\n",
       "      <td>58.56</td>\n",
       "      <td>4.070052</td>\n",
       "      <td>1.767601</td>\n",
       "      <td>0</td>\n",
       "    </tr>\n",
       "    <tr>\n",
       "      <th>231024</th>\n",
       "      <td>JCP2022_076910</td>\n",
       "      <td>source_9</td>\n",
       "      <td>20211103-Run16</td>\n",
       "      <td>GR00004421</td>\n",
       "      <td>Z09</td>\n",
       "      <td>127.09</td>\n",
       "      <td>4.844895</td>\n",
       "      <td>2.104111</td>\n",
       "      <td>1</td>\n",
       "    </tr>\n",
       "    <tr>\n",
       "      <th>231025</th>\n",
       "      <td>JCP2022_083151</td>\n",
       "      <td>source_9</td>\n",
       "      <td>20211103-Run16</td>\n",
       "      <td>GR00004421</td>\n",
       "      <td>Z12</td>\n",
       "      <td>120.49</td>\n",
       "      <td>4.791567</td>\n",
       "      <td>2.080951</td>\n",
       "      <td>1</td>\n",
       "    </tr>\n",
       "    <tr>\n",
       "      <th>231026</th>\n",
       "      <td>JCP2022_073861</td>\n",
       "      <td>source_9</td>\n",
       "      <td>20211103-Run16</td>\n",
       "      <td>GR00004421</td>\n",
       "      <td>Z18</td>\n",
       "      <td>95.44</td>\n",
       "      <td>4.558498</td>\n",
       "      <td>1.979730</td>\n",
       "      <td>0</td>\n",
       "    </tr>\n",
       "    <tr>\n",
       "      <th>231027</th>\n",
       "      <td>JCP2022_099794</td>\n",
       "      <td>source_9</td>\n",
       "      <td>20211103-Run16</td>\n",
       "      <td>GR00004421</td>\n",
       "      <td>Z19</td>\n",
       "      <td>99.28</td>\n",
       "      <td>4.597944</td>\n",
       "      <td>1.996862</td>\n",
       "      <td>0</td>\n",
       "    </tr>\n",
       "  </tbody>\n",
       "</table>\n",
       "</div>"
      ],
      "text/plain": [
       "       Metadata_JCP2022 Metadata_Source  Metadata_Batch Metadata_Plate Metadata_Well    TPSA    lnTPSA  log10TPSA  permiation\n",
       "231023   JCP2022_050165        source_9  20211103-Run16     GR00004421           Z08   58.56  4.070052   1.767601           0\n",
       "231024   JCP2022_076910        source_9  20211103-Run16     GR00004421           Z09  127.09  4.844895   2.104111           1\n",
       "231025   JCP2022_083151        source_9  20211103-Run16     GR00004421           Z12  120.49  4.791567   2.080951           1\n",
       "231026   JCP2022_073861        source_9  20211103-Run16     GR00004421           Z18   95.44  4.558498   1.979730           0\n",
       "231027   JCP2022_099794        source_9  20211103-Run16     GR00004421           Z19   99.28  4.597944   1.996862           0"
      ]
     },
     "execution_count": 48,
     "metadata": {},
     "output_type": "execute_result"
    }
   ],
   "source": [
    "ext_metadata.info()\n",
    "ext_metadata.head(5)\n",
    "ext_metadata.tail(5)"
   ]
  },
  {
   "cell_type": "code",
   "execution_count": 49,
   "id": "9a20c73c-a45c-4f15-81b0-e604164cf515",
   "metadata": {
    "ExecuteTime": {
     "end_time": "2023-06-28T19:57:26.086260Z",
     "start_time": "2023-06-28T19:57:25.294622Z"
    },
    "execution": {
     "iopub.execute_input": "2024-01-25T07:58:29.735046Z",
     "iopub.status.busy": "2024-01-25T07:58:29.734436Z",
     "iopub.status.idle": "2024-01-25T07:58:29.759853Z",
     "shell.execute_reply": "2024-01-25T07:58:29.759107Z",
     "shell.execute_reply.started": "2024-01-25T07:58:29.735001Z"
    }
   },
   "outputs": [],
   "source": [
    "# ext_metadata.reset_index(drop=True, inplace = True)\n",
    "# print('---------------------------------------------------------------')\n",
    "# print(' After Index Reset')\n",
    "# print('---------------------------------------------------------------')\n",
    "# ext_metadata.info()\n",
    "# ext_metadata.head(5)\n",
    "# ext_metadata.tail(5)"
   ]
  },
  {
   "cell_type": "code",
   "execution_count": 50,
   "id": "a91623d9-f52e-4d37-aea7-8deef82cd5d8",
   "metadata": {
    "ExecuteTime": {
     "end_time": "2023-06-28T19:57:26.086260Z",
     "start_time": "2023-06-28T19:57:25.294622Z"
    },
    "execution": {
     "iopub.execute_input": "2024-01-25T07:58:34.776546Z",
     "iopub.status.busy": "2024-01-25T07:58:34.776195Z",
     "iopub.status.idle": "2024-01-25T07:58:35.122011Z",
     "shell.execute_reply": "2024-01-25T07:58:35.120943Z",
     "shell.execute_reply.started": "2024-01-25T07:58:34.776514Z"
    },
    "scrolled": true
   },
   "outputs": [
    {
     "data": {
      "text/plain": [
       "Index                    132\n",
       "Metadata_JCP2022    16402988\n",
       "Metadata_Source     15057995\n",
       "Metadata_Batch      17234260\n",
       "Metadata_Plate      15504410\n",
       "Metadata_Well       13873113\n",
       "TPSA                 1848224\n",
       "lnTPSA               1848224\n",
       "log10TPSA            1848224\n",
       "permiation           1848224\n",
       "dtype: int64"
      ]
     },
     "execution_count": 50,
     "metadata": {},
     "output_type": "execute_result"
    }
   ],
   "source": [
    "ext_metadata.memory_usage(deep=True) "
   ]
  },
  {
   "cell_type": "code",
   "execution_count": 24,
   "id": "a3e8f422-ca9e-4718-a729-6059d5e55f2b",
   "metadata": {
    "execution": {
     "iopub.execute_input": "2023-12-06T23:23:53.671136Z",
     "iopub.status.busy": "2023-12-06T23:23:53.670142Z",
     "iopub.status.idle": "2023-12-06T23:23:53.696270Z",
     "shell.execute_reply": "2023-12-06T23:23:53.695228Z",
     "shell.execute_reply.started": "2023-12-06T23:23:53.671069Z"
    }
   },
   "outputs": [],
   "source": [
    "# del ext_metadata"
   ]
  },
  {
   "cell_type": "markdown",
   "id": "5a2d3daf-eb5a-44d7-98d4-7a4de01770dd",
   "metadata": {},
   "source": [
    "## Read parquet profile file"
   ]
  },
  {
   "cell_type": "code",
   "execution_count": 51,
   "id": "af14e83d-7c9c-4146-8287-97470bbdbb6f",
   "metadata": {
    "execution": {
     "iopub.execute_input": "2024-01-25T07:59:08.222046Z",
     "iopub.status.busy": "2024-01-25T07:59:08.221439Z",
     "iopub.status.idle": "2024-01-25T07:59:08.967687Z",
     "shell.execute_reply": "2024-01-25T07:59:08.966594Z",
     "shell.execute_reply.started": "2024-01-25T07:59:08.221993Z"
    }
   },
   "outputs": [
    {
     "name": "stdout",
     "output_type": "stream",
     "text": [
      "/mnt/i/cellpainting-gallery/cpg0016-jump/source_10/workspace/profiles/2021_06_07_U2OS_48_hr_run3/Dest210607-134443/Dest210607-134443.parquet\n"
     ]
    },
    {
     "ename": "FileNotFoundError",
     "evalue": "[Errno 2] No such file or directory: '/mnt/i/cellpainting-gallery/cpg0016-jump/source_10/workspace/profiles/2021_06_07_U2OS_48_hr_run3/Dest210607-134443/Dest210607-134443.parquet'",
     "output_type": "error",
     "traceback": [
      "\u001b[0;31m---------------------------------------------------------------------------\u001b[0m",
      "\u001b[0;31mFileNotFoundError\u001b[0m                         Traceback (most recent call last)",
      "Cell \u001b[0;32mIn[51], line 10\u001b[0m\n\u001b[1;32m      7\u001b[0m source_path \u001b[38;5;241m=\u001b[39m local_formatter\u001b[38;5;241m.\u001b[39mformat(keys[\u001b[38;5;241m0\u001b[39m],keys[\u001b[38;5;241m1\u001b[39m],keys[\u001b[38;5;241m2\u001b[39m],)\n\u001b[1;32m      8\u001b[0m \u001b[38;5;28mprint\u001b[39m(source_path)\n\u001b[0;32m---> 10\u001b[0m dframe \u001b[38;5;241m=\u001b[39m \u001b[43mpd\u001b[49m\u001b[38;5;241;43m.\u001b[39;49m\u001b[43mread_parquet\u001b[49m\u001b[43m(\u001b[49m\u001b[43msource_path\u001b[49m\u001b[43m,\u001b[49m\u001b[43m \u001b[49m\u001b[43mcolumns\u001b[49m\u001b[38;5;241;43m=\u001b[39;49m\u001b[43mget_columns\u001b[49m\u001b[43m)\u001b[49m\n",
      "File \u001b[0;32m~/miniforge3/envs/cp/lib/python3.11/site-packages/pandas/io/parquet.py:667\u001b[0m, in \u001b[0;36mread_parquet\u001b[0;34m(path, engine, columns, storage_options, use_nullable_dtypes, dtype_backend, filesystem, filters, **kwargs)\u001b[0m\n\u001b[1;32m    664\u001b[0m     use_nullable_dtypes \u001b[38;5;241m=\u001b[39m \u001b[38;5;28;01mFalse\u001b[39;00m\n\u001b[1;32m    665\u001b[0m check_dtype_backend(dtype_backend)\n\u001b[0;32m--> 667\u001b[0m \u001b[38;5;28;01mreturn\u001b[39;00m \u001b[43mimpl\u001b[49m\u001b[38;5;241;43m.\u001b[39;49m\u001b[43mread\u001b[49m\u001b[43m(\u001b[49m\n\u001b[1;32m    668\u001b[0m \u001b[43m    \u001b[49m\u001b[43mpath\u001b[49m\u001b[43m,\u001b[49m\n\u001b[1;32m    669\u001b[0m \u001b[43m    \u001b[49m\u001b[43mcolumns\u001b[49m\u001b[38;5;241;43m=\u001b[39;49m\u001b[43mcolumns\u001b[49m\u001b[43m,\u001b[49m\n\u001b[1;32m    670\u001b[0m \u001b[43m    \u001b[49m\u001b[43mfilters\u001b[49m\u001b[38;5;241;43m=\u001b[39;49m\u001b[43mfilters\u001b[49m\u001b[43m,\u001b[49m\n\u001b[1;32m    671\u001b[0m \u001b[43m    \u001b[49m\u001b[43mstorage_options\u001b[49m\u001b[38;5;241;43m=\u001b[39;49m\u001b[43mstorage_options\u001b[49m\u001b[43m,\u001b[49m\n\u001b[1;32m    672\u001b[0m \u001b[43m    \u001b[49m\u001b[43muse_nullable_dtypes\u001b[49m\u001b[38;5;241;43m=\u001b[39;49m\u001b[43muse_nullable_dtypes\u001b[49m\u001b[43m,\u001b[49m\n\u001b[1;32m    673\u001b[0m \u001b[43m    \u001b[49m\u001b[43mdtype_backend\u001b[49m\u001b[38;5;241;43m=\u001b[39;49m\u001b[43mdtype_backend\u001b[49m\u001b[43m,\u001b[49m\n\u001b[1;32m    674\u001b[0m \u001b[43m    \u001b[49m\u001b[43mfilesystem\u001b[49m\u001b[38;5;241;43m=\u001b[39;49m\u001b[43mfilesystem\u001b[49m\u001b[43m,\u001b[49m\n\u001b[1;32m    675\u001b[0m \u001b[43m    \u001b[49m\u001b[38;5;241;43m*\u001b[39;49m\u001b[38;5;241;43m*\u001b[39;49m\u001b[43mkwargs\u001b[49m\u001b[43m,\u001b[49m\n\u001b[1;32m    676\u001b[0m \u001b[43m\u001b[49m\u001b[43m)\u001b[49m\n",
      "File \u001b[0;32m~/miniforge3/envs/cp/lib/python3.11/site-packages/pandas/io/parquet.py:267\u001b[0m, in \u001b[0;36mPyArrowImpl.read\u001b[0;34m(self, path, columns, filters, use_nullable_dtypes, dtype_backend, storage_options, filesystem, **kwargs)\u001b[0m\n\u001b[1;32m    264\u001b[0m \u001b[38;5;28;01mif\u001b[39;00m manager \u001b[38;5;241m==\u001b[39m \u001b[38;5;124m\"\u001b[39m\u001b[38;5;124marray\u001b[39m\u001b[38;5;124m\"\u001b[39m:\n\u001b[1;32m    265\u001b[0m     to_pandas_kwargs[\u001b[38;5;124m\"\u001b[39m\u001b[38;5;124msplit_blocks\u001b[39m\u001b[38;5;124m\"\u001b[39m] \u001b[38;5;241m=\u001b[39m \u001b[38;5;28;01mTrue\u001b[39;00m  \u001b[38;5;66;03m# type: ignore[assignment]\u001b[39;00m\n\u001b[0;32m--> 267\u001b[0m path_or_handle, handles, filesystem \u001b[38;5;241m=\u001b[39m \u001b[43m_get_path_or_handle\u001b[49m\u001b[43m(\u001b[49m\n\u001b[1;32m    268\u001b[0m \u001b[43m    \u001b[49m\u001b[43mpath\u001b[49m\u001b[43m,\u001b[49m\n\u001b[1;32m    269\u001b[0m \u001b[43m    \u001b[49m\u001b[43mfilesystem\u001b[49m\u001b[43m,\u001b[49m\n\u001b[1;32m    270\u001b[0m \u001b[43m    \u001b[49m\u001b[43mstorage_options\u001b[49m\u001b[38;5;241;43m=\u001b[39;49m\u001b[43mstorage_options\u001b[49m\u001b[43m,\u001b[49m\n\u001b[1;32m    271\u001b[0m \u001b[43m    \u001b[49m\u001b[43mmode\u001b[49m\u001b[38;5;241;43m=\u001b[39;49m\u001b[38;5;124;43m\"\u001b[39;49m\u001b[38;5;124;43mrb\u001b[39;49m\u001b[38;5;124;43m\"\u001b[39;49m\u001b[43m,\u001b[49m\n\u001b[1;32m    272\u001b[0m \u001b[43m\u001b[49m\u001b[43m)\u001b[49m\n\u001b[1;32m    273\u001b[0m \u001b[38;5;28;01mtry\u001b[39;00m:\n\u001b[1;32m    274\u001b[0m     pa_table \u001b[38;5;241m=\u001b[39m \u001b[38;5;28mself\u001b[39m\u001b[38;5;241m.\u001b[39mapi\u001b[38;5;241m.\u001b[39mparquet\u001b[38;5;241m.\u001b[39mread_table(\n\u001b[1;32m    275\u001b[0m         path_or_handle,\n\u001b[1;32m    276\u001b[0m         columns\u001b[38;5;241m=\u001b[39mcolumns,\n\u001b[0;32m   (...)\u001b[0m\n\u001b[1;32m    279\u001b[0m         \u001b[38;5;241m*\u001b[39m\u001b[38;5;241m*\u001b[39mkwargs,\n\u001b[1;32m    280\u001b[0m     )\n",
      "File \u001b[0;32m~/miniforge3/envs/cp/lib/python3.11/site-packages/pandas/io/parquet.py:140\u001b[0m, in \u001b[0;36m_get_path_or_handle\u001b[0;34m(path, fs, storage_options, mode, is_dir)\u001b[0m\n\u001b[1;32m    130\u001b[0m handles \u001b[38;5;241m=\u001b[39m \u001b[38;5;28;01mNone\u001b[39;00m\n\u001b[1;32m    131\u001b[0m \u001b[38;5;28;01mif\u001b[39;00m (\n\u001b[1;32m    132\u001b[0m     \u001b[38;5;129;01mnot\u001b[39;00m fs\n\u001b[1;32m    133\u001b[0m     \u001b[38;5;129;01mand\u001b[39;00m \u001b[38;5;129;01mnot\u001b[39;00m is_dir\n\u001b[0;32m   (...)\u001b[0m\n\u001b[1;32m    138\u001b[0m     \u001b[38;5;66;03m# fsspec resources can also point to directories\u001b[39;00m\n\u001b[1;32m    139\u001b[0m     \u001b[38;5;66;03m# this branch is used for example when reading from non-fsspec URLs\u001b[39;00m\n\u001b[0;32m--> 140\u001b[0m     handles \u001b[38;5;241m=\u001b[39m \u001b[43mget_handle\u001b[49m\u001b[43m(\u001b[49m\n\u001b[1;32m    141\u001b[0m \u001b[43m        \u001b[49m\u001b[43mpath_or_handle\u001b[49m\u001b[43m,\u001b[49m\u001b[43m \u001b[49m\u001b[43mmode\u001b[49m\u001b[43m,\u001b[49m\u001b[43m \u001b[49m\u001b[43mis_text\u001b[49m\u001b[38;5;241;43m=\u001b[39;49m\u001b[38;5;28;43;01mFalse\u001b[39;49;00m\u001b[43m,\u001b[49m\u001b[43m \u001b[49m\u001b[43mstorage_options\u001b[49m\u001b[38;5;241;43m=\u001b[39;49m\u001b[43mstorage_options\u001b[49m\n\u001b[1;32m    142\u001b[0m \u001b[43m    \u001b[49m\u001b[43m)\u001b[49m\n\u001b[1;32m    143\u001b[0m     fs \u001b[38;5;241m=\u001b[39m \u001b[38;5;28;01mNone\u001b[39;00m\n\u001b[1;32m    144\u001b[0m     path_or_handle \u001b[38;5;241m=\u001b[39m handles\u001b[38;5;241m.\u001b[39mhandle\n",
      "File \u001b[0;32m~/miniforge3/envs/cp/lib/python3.11/site-packages/pandas/io/common.py:882\u001b[0m, in \u001b[0;36mget_handle\u001b[0;34m(path_or_buf, mode, encoding, compression, memory_map, is_text, errors, storage_options)\u001b[0m\n\u001b[1;32m    873\u001b[0m         handle \u001b[38;5;241m=\u001b[39m \u001b[38;5;28mopen\u001b[39m(\n\u001b[1;32m    874\u001b[0m             handle,\n\u001b[1;32m    875\u001b[0m             ioargs\u001b[38;5;241m.\u001b[39mmode,\n\u001b[0;32m   (...)\u001b[0m\n\u001b[1;32m    878\u001b[0m             newline\u001b[38;5;241m=\u001b[39m\u001b[38;5;124m\"\u001b[39m\u001b[38;5;124m\"\u001b[39m,\n\u001b[1;32m    879\u001b[0m         )\n\u001b[1;32m    880\u001b[0m     \u001b[38;5;28;01melse\u001b[39;00m:\n\u001b[1;32m    881\u001b[0m         \u001b[38;5;66;03m# Binary mode\u001b[39;00m\n\u001b[0;32m--> 882\u001b[0m         handle \u001b[38;5;241m=\u001b[39m \u001b[38;5;28mopen\u001b[39m(handle, ioargs\u001b[38;5;241m.\u001b[39mmode)\n\u001b[1;32m    883\u001b[0m     handles\u001b[38;5;241m.\u001b[39mappend(handle)\n\u001b[1;32m    885\u001b[0m \u001b[38;5;66;03m# Convert BytesIO or file objects passed with an encoding\u001b[39;00m\n",
      "\u001b[0;31mFileNotFoundError\u001b[0m: [Errno 2] No such file or directory: '/mnt/i/cellpainting-gallery/cpg0016-jump/source_10/workspace/profiles/2021_06_07_U2OS_48_hr_run3/Dest210607-134443/Dest210607-134443.parquet'"
     ]
    }
   ],
   "source": [
    "keys = ('source_10','2021_06_07_U2OS_48_hr_run3','Dest210607-134443')\n",
    "# keys = ('source_6' , 'p210920CPU2OS48hw384exp028JUMP',   '110000296345') \n",
    "\n",
    "group_data = ext_metadata.query('Metadata_Source == @keys[0] & Metadata_Batch == @keys[1] & Metadata_Plate == @keys[2]')\n",
    "# group_data = ext_metadata.query('Metadata_Source == @keys[0] & Metadata_Batch == @keys[1]')\n",
    "\n",
    "source_path = local_formatter.format(keys[0],keys[1],keys[2],)\n",
    "print(source_path)\n",
    "\n",
    "dframe = pd.read_parquet(source_path, columns=get_columns)"
   ]
  },
  {
   "cell_type": "code",
   "execution_count": 26,
   "id": "f87adf2a-2050-4d12-82e5-aeaed66ee473",
   "metadata": {
    "execution": {
     "iopub.execute_input": "2023-11-30T18:59:43.073241Z",
     "iopub.status.busy": "2023-11-30T18:59:43.072973Z",
     "iopub.status.idle": "2023-11-30T18:59:43.251486Z",
     "shell.execute_reply": "2023-11-30T18:59:43.250837Z",
     "shell.execute_reply.started": "2023-11-30T18:59:43.073224Z"
    },
    "scrolled": true
   },
   "outputs": [
    {
     "data": {
      "text/plain": [
       "11351168"
      ]
     },
     "execution_count": 26,
     "metadata": {},
     "output_type": "execute_result"
    },
    {
     "data": {
      "text/plain": [
       "Index                                     128\n",
       "Metadata_Source                         25344\n",
       "Metadata_Plate                          28416\n",
       "Metadata_Well                           23040\n",
       "Cells_AreaShape_Area                     3072\n",
       "Cells_AreaShape_BoundingBoxArea          3072\n",
       "Cells_AreaShape_BoundingBoxMaximum_X     3072\n",
       "Cells_AreaShape_BoundingBoxMaximum_Y     3072\n",
       "Cells_AreaShape_BoundingBoxMinimum_X     3072\n",
       "Cells_AreaShape_BoundingBoxMinimum_Y     3072\n",
       "Cells_AreaShape_Center_X                 3072\n",
       "Cells_AreaShape_Center_Y                 3072\n",
       "Cells_AreaShape_Compactness              3072\n",
       "Cells_AreaShape_Eccentricity             3072\n",
       "Cells_AreaShape_EquivalentDiameter       3072\n",
       "Cells_AreaShape_EulerNumber              3072\n",
       "Cells_AreaShape_Extent                   3072\n",
       "Cells_AreaShape_MajorAxisLength          3072\n",
       "Cells_AreaShape_MaxFeretDiameter         3072\n",
       "Cells_AreaShape_MaximumRadius            3072\n",
       "dtype: int64"
      ]
     },
     "execution_count": 26,
     "metadata": {},
     "output_type": "execute_result"
    }
   ],
   "source": [
    "# dframe['Cytoplasm_RadialDistribution_MeanFrac_mito_tubeness_3of20']\n",
    "# dframe.info(verbose = True) \n",
    "dframe.memory_usage(deep=True).sum()\n",
    "dframe.memory_usage(deep=True)[:20]"
   ]
  },
  {
   "cell_type": "code",
   "execution_count": 798,
   "id": "cbf9f4dd-0527-42c1-8b77-4f3fedbb32e8",
   "metadata": {
    "execution": {
     "iopub.execute_input": "2023-11-30T18:16:23.486746Z",
     "iopub.status.busy": "2023-11-30T18:16:23.486460Z",
     "iopub.status.idle": "2023-11-30T18:16:23.502386Z",
     "shell.execute_reply": "2023-11-30T18:16:23.501542Z",
     "shell.execute_reply.started": "2023-11-30T18:16:23.486727Z"
    }
   },
   "outputs": [
    {
     "name": "stdout",
     "output_type": "stream",
     "text": [
      "<_io.TextIOWrapper name='./output_11102023/test_1.csv' mode='a' encoding='UTF-8'>\n"
     ]
    }
   ],
   "source": [
    "# outputFile = open('./output_11102023/test_1.csv', mode = 'a')\n",
    "# print(outputFile)"
   ]
  },
  {
   "cell_type": "code",
   "execution_count": 799,
   "id": "0804f154-400e-4f6c-94e4-17c1e396138d",
   "metadata": {
    "execution": {
     "iopub.execute_input": "2023-11-30T18:16:32.135755Z",
     "iopub.status.busy": "2023-11-30T18:16:32.134689Z",
     "iopub.status.idle": "2023-11-30T18:16:32.754396Z",
     "shell.execute_reply": "2023-11-30T18:16:32.753484Z",
     "shell.execute_reply.started": "2023-11-30T18:16:32.135731Z"
    }
   },
   "outputs": [],
   "source": [
    "# dframe.to_csv(outputFile, mode = 'a', index = False)\n",
    "# outputFile.close()"
   ]
  },
  {
   "cell_type": "code",
   "execution_count": null,
   "id": "236a3a44-7ffd-4c13-8e39-12c7c7a0616c",
   "metadata": {
    "execution": {
     "iopub.execute_input": "2023-11-30T18:22:19.816020Z",
     "iopub.status.busy": "2023-11-30T18:22:19.815751Z",
     "iopub.status.idle": "2023-11-30T18:22:19.916995Z",
     "shell.execute_reply": "2023-11-30T18:22:19.916201Z",
     "shell.execute_reply.started": "2023-11-30T18:22:19.816003Z"
    },
    "scrolled": true
   },
   "outputs": [],
   "source": [
    "# dframe = pd.read_csv('./output_11102023/test_1.csv' )\n",
    "\n",
    "# dframe.head(5)\n",
    "# dframe.memory_usage(deep=True).sum()\n",
    "# dframe.memory_usage(deep=True)[:20]\n",
    "# dframe.info(verbose=True) "
   ]
  },
  {
   "cell_type": "code",
   "execution_count": null,
   "id": "b3aac58a-b08a-4659-89a1-f70bc9f1811d",
   "metadata": {
    "execution": {
     "iopub.execute_input": "2023-11-30T18:28:26.839444Z",
     "iopub.status.busy": "2023-11-30T18:28:26.838902Z",
     "iopub.status.idle": "2023-11-30T18:28:26.853828Z",
     "shell.execute_reply": "2023-11-30T18:28:26.853189Z",
     "shell.execute_reply.started": "2023-11-30T18:28:26.839416Z"
    }
   },
   "outputs": [],
   "source": [
    "# dframe2 = pd.read_csv('./output_11102023/test_1.csv', dtype = conversionDict )\n",
    "\n",
    "# dframe.head(5)\n",
    "# dframe2.memory_usage(deep=True).sum()\n",
    "# dframe2.memory_usage(deep=True)[:20]\n",
    "# dframe2.info(verbose=True) "
   ]
  },
  {
   "cell_type": "markdown",
   "id": "7972e5ea-1fcb-451f-aa56-fa16b09efff6",
   "metadata": {},
   "source": [
    "###  Display Stats for columns"
   ]
  },
  {
   "cell_type": "code",
   "execution_count": 28,
   "id": "91cd8197-5d5a-4e6c-b6d4-8f728d4e0595",
   "metadata": {
    "execution": {
     "iopub.execute_input": "2023-11-30T19:01:11.513042Z",
     "iopub.status.busy": "2023-11-30T19:01:11.512782Z",
     "iopub.status.idle": "2023-11-30T19:01:11.530011Z",
     "shell.execute_reply": "2023-11-30T19:01:11.529160Z",
     "shell.execute_reply.started": "2023-11-30T19:01:11.513026Z"
    }
   },
   "outputs": [
    {
     "name": "stdout",
     "output_type": "stream",
     "text": [
      " dataframe shape: (384, 3673)\n",
      " Field type: Metadata                count: 3\n",
      " Field type: Cells                   count: 1255\n",
      " Field type: Cytoplasm               count: 1240\n",
      " Field type: Nuclei                  count: 1175\n"
     ]
    }
   ],
   "source": [
    "col_dict = cat_columns(dframe)"
   ]
  },
  {
   "cell_type": "code",
   "execution_count": 29,
   "id": "366d052d-2746-419e-a238-f4ff123a3794",
   "metadata": {
    "execution": {
     "iopub.execute_input": "2023-11-30T19:01:48.294736Z",
     "iopub.status.busy": "2023-11-30T19:01:48.293958Z",
     "iopub.status.idle": "2023-11-30T19:01:48.345155Z",
     "shell.execute_reply": "2023-11-30T19:01:48.344539Z",
     "shell.execute_reply.started": "2023-11-30T19:01:48.294713Z"
    },
    "scrolled": true
   },
   "outputs": [
    {
     "name": "stdout",
     "output_type": "stream",
     "text": [
      "                                             :        min          max          std         mean       median                        quantile                     \n",
      "   0 Cells_Texture_Variance_AGP_3_01_256     :       9.39        38.64         3.74        15.79        15.21   [ 9.3878  13.40375 15.2145  17.40425 38.64   ]\n",
      "   1 Cells_Texture_Variance_AGP_3_02_256     :       9.40        38.57         3.71        15.77        15.20   [ 9.3969 13.4215 15.1965 17.3825 38.574 ]\n",
      "   2 Cells_Texture_Variance_AGP_3_03_256     :       9.38        38.73         3.74        15.79        15.22   [ 9.3829  13.419   15.218   17.39375 38.727  ]\n",
      "   3 Cells_Texture_Variance_AGP_5_00_256     :       9.33        38.85         3.74        15.68        15.11   [ 9.3296  13.29925 15.1085  17.3435  38.847  ]\n",
      "   4 Cells_Texture_Variance_AGP_5_01_256     :       9.45        38.80         3.75        15.79        15.20   [ 9.451   13.36175 15.1995  17.406   38.796  ]\n",
      "   5 Cells_Texture_Variance_AGP_5_02_256     :       9.48        38.72         3.77        15.94        15.36   [ 9.4845  13.5575  15.3635  17.57625 38.721  ]\n",
      "   6 Cells_Texture_Variance_AGP_5_03_256     :       9.47        38.88         3.75        15.79        15.21   [ 9.4654 13.3935 15.213  17.4205 38.879 ]\n",
      "   7 Cells_Texture_Variance_DNA_10_00_256    :       4.40       119.24         7.14         8.73         7.90   [  4.3987     7.229425   7.90205    8.984475 119.24    ]\n",
      "   8 Cells_Texture_Variance_DNA_10_01_256    :       4.49       115.07         6.77         8.78         7.99   [  4.485     7.3086    7.98735   9.12835 115.07   ]\n",
      "   9 Cells_Texture_Variance_DNA_10_02_256    :       4.45       117.29         6.97         8.72         7.92   [  4.4454     7.215675   7.91565    8.990775 117.29    ]\n",
      "  10 Cells_Texture_Variance_DNA_10_03_256    :       4.48       119.79         6.88         8.78         8.01   [  4.4826    7.3048    8.0078    9.13695 119.79   ]\n",
      "  11 Cells_Texture_Variance_DNA_3_00_256     :       4.13       111.58         6.79         8.09         7.32   [  4.1333     6.67995    7.3192     8.272425 111.58    ]\n",
      "  12 Cells_Texture_Variance_DNA_3_01_256     :       4.20       114.86         7.01         8.27         7.47   [  4.2003    6.8231    7.4727    8.44165 114.86   ]\n",
      "  13 Cells_Texture_Variance_DNA_3_02_256     :       4.13       111.26         6.79         8.09         7.32   [  4.1255    6.6814    7.31615   8.26775 111.26   ]\n",
      "  14 Cells_Texture_Variance_DNA_3_03_256     :       4.22       114.36         6.95         8.26         7.48   [  4.219      6.817625   7.47575    8.444775 114.36    ]\n",
      "  15 Cells_Texture_Variance_DNA_5_00_256     :       4.25       116.15         7.07         8.36         7.55   [  4.248      6.8908     7.54925    8.540275 116.15    ]\n",
      "  16 Cells_Texture_Variance_DNA_5_01_256     :       4.33       118.09         7.21         8.57         7.72   [  4.3271     7.065425   7.7201     8.764575 118.09    ]\n",
      "  17 Cells_Texture_Variance_DNA_5_02_256     :       4.24       116.64         7.11         8.36         7.55   [  4.2441    6.89485   7.54935   8.5378  116.64   ]\n",
      "  18 Cells_Texture_Variance_DNA_5_03_256     :       4.35       118.05         7.07         8.55         7.73   [  4.3506    7.06255   7.7317    8.7674  118.05   ]\n",
      "  19 Cells_Texture_Variance_ER_10_00_256     :       4.19        32.10         1.88         7.18         6.87   [ 4.1904    6.3394    6.87185   7.687375 32.101   ]\n",
      "  20 Cells_Texture_Variance_ER_10_01_256     :       4.21        31.70         1.86         7.23         6.95   [ 4.2088    6.384525  6.9503    7.70685  31.7     ]\n",
      "  21 Cells_Texture_Variance_ER_10_02_256     :       4.14        32.31         1.90         7.20         6.90   [ 4.145    6.3318   6.89615  7.68885 32.308  ]\n",
      "  22 Cells_Texture_Variance_ER_10_03_256     :       4.18        30.01         1.77         7.22         6.96   [ 4.1788   6.3781   6.95555  7.7141  30.014  ]\n",
      "  23 Cells_Texture_Variance_ER_3_00_256      :       4.04        29.93         1.81         6.95         6.68   [ 4.0435    6.096875  6.6793    7.426175 29.928   ]\n",
      "  24 Cells_Texture_Variance_ER_3_01_256      :       4.07        30.27         1.83         7.02         6.75   [ 4.0744    6.141625  6.7526    7.498775 30.271   ]\n",
      "  25 Cells_Texture_Variance_ER_3_02_256      :       4.05        29.85         1.81         6.95         6.68   [ 4.0468    6.09355   6.6837    7.417975 29.849   ]\n",
      "  26 Cells_Texture_Variance_ER_3_03_256      :       4.08        30.25         1.83         7.02         6.74   [ 4.0752   6.14505  6.73625  7.48455 30.245  ]\n",
      "  27 Cells_Texture_Variance_ER_5_00_256      :       4.09        30.68         1.84         7.05         6.77   [ 4.091   6.1744  6.7681  7.5298 30.681 ]\n",
      "  28 Cells_Texture_Variance_ER_5_01_256      :       4.13        31.60         1.88         7.13         6.84   [ 4.1343   6.24855  6.84295  7.6266  31.603  ]\n",
      "  29 Cells_Texture_Variance_ER_5_02_256      :       4.09        30.50         1.84         7.06         6.78   [ 4.092     6.177275  6.7834    7.53505  30.496   ]\n",
      "  30 Cells_Texture_Variance_ER_5_03_256      :       4.12        31.56         1.87         7.13         6.82   [ 4.1211    6.2483    6.8232    7.601325 31.563   ]\n",
      "  31 Cells_Texture_Variance_Mito_10_00_256   :       0.61       223.63        12.07         5.04         3.81   [  0.60517    3.121675   3.80685    4.564575 223.63    ]\n",
      "  32 Cells_Texture_Variance_Mito_10_01_256   :       0.59       222.50        12.03         5.09         3.90   [  0.59313    3.188275   3.9013     4.679075 222.5     ]\n",
      "  33 Cells_Texture_Variance_Mito_10_02_256   :       0.62       224.22        12.10         5.03         3.81   [  0.61579    3.120775   3.81325    4.58835  224.22    ]\n",
      "  34 Cells_Texture_Variance_Mito_10_03_256   :       0.63       206.43        11.30         5.05         3.85   [  0.62853    3.191725   3.85215    4.685025 206.43    ]\n",
      "  35 Cells_Texture_Variance_Mito_3_00_256    :       0.57       212.01        11.41         4.74         3.60   [  0.57355    2.965625   3.59865    4.30555  212.01    ]\n",
      "  36 Cells_Texture_Variance_Mito_3_01_256    :       0.58       214.78        11.57         4.81         3.65   [  0.58233    3.004075   3.64845    4.3878   214.78    ]\n",
      "  37 Cells_Texture_Variance_Mito_3_02_256    :       0.58       212.34        11.44         4.74         3.60   [  0.57524    2.961125   3.5972     4.29225  212.34    ]\n",
      "  38 Cells_Texture_Variance_Mito_3_03_256    :       0.58       215.45        11.61         4.82         3.66   [  0.58341   3.0019    3.65955   4.3655  215.45   ]\n",
      "  39 Cells_Texture_Variance_Mito_5_00_256    :       0.58       217.14        11.70         4.85         3.67   [  0.58495    3.010375   3.6686     4.4291   217.14    ]\n",
      "  40 Cells_Texture_Variance_Mito_5_01_256    :       0.60       220.83        11.89         4.94         3.75   [  0.5974    3.07195   3.7503    4.496   220.83   ]\n",
      "  41 Cells_Texture_Variance_Mito_5_02_256    :       0.59       216.30        11.67         4.85         3.69   [  0.59006   3.02515   3.69075   4.4158  216.3    ]\n",
      "  42 Cells_Texture_Variance_Mito_5_03_256    :       0.60       222.09        11.97         4.95         3.75   [  0.59675    3.075875   3.74835    4.4964   222.09    ]\n",
      "  43 Cells_Texture_Variance_RNA_10_00_256    :      25.56       293.65        17.36        53.10        50.31   [ 25.559    44.23425  50.313    58.9015  293.65   ]\n",
      "  44 Cells_Texture_Variance_RNA_10_01_256    :      25.56       280.27        16.63        53.30        50.94   [ 25.557    44.7455   50.944    58.62925 280.27   ]\n",
      "  45 Cells_Texture_Variance_RNA_10_02_256    :      25.69       292.13        17.34        53.13        50.21   [ 25.69   44.241  50.213  58.704 292.13 ]\n",
      "  46 Cells_Texture_Variance_RNA_10_03_256    :      25.70       272.05        16.30        53.26        51.02   [ 25.701  44.547  51.019  58.731 272.05 ]\n",
      "  47 Cells_Texture_Variance_RNA_3_00_256     :      24.60       267.83        16.22        50.67        47.72   [ 24.601   42.3     47.717   56.0185 267.83  ]\n",
      "  48 Cells_Texture_Variance_RNA_3_01_256     :      24.95       273.59        16.56        51.35        48.30   [ 24.954   42.8135  48.295   56.7795 273.59  ]\n",
      "  49 Cells_Texture_Variance_RNA_3_02_256     :      24.55       267.95        16.23        50.65        47.63   [ 24.549    42.25175  47.6335   56.03    267.95   ]\n",
      "  50 Cells_Texture_Variance_RNA_3_03_256     :      24.81       272.15        16.51        51.33        48.26   [ 24.809    42.83125  48.258    56.754   272.15   ]\n",
      "  51 Cells_Texture_Variance_RNA_5_00_256     :      25.08       276.13        16.70        51.68        48.60   [ 25.078    43.04625  48.6015   57.1345  276.13   ]\n",
      "  52 Cells_Texture_Variance_RNA_5_01_256     :      25.40       288.83        17.25        52.51        49.32   [ 25.403    43.84175  49.324    58.087   288.83   ]\n",
      "  53 Cells_Texture_Variance_RNA_5_02_256     :      25.01       276.97        16.75        51.70        48.61   [ 25.006    43.06575  48.6075   57.252   276.97   ]\n",
      "  54 Cells_Texture_Variance_RNA_5_03_256     :      25.19       285.60        17.14        52.48        49.37   [ 25.186    43.67475  49.3735   58.121   285.6    ]\n"
     ]
    }
   ],
   "source": [
    "disp_stats(dframe, col_dict['Cells'][1200:])\n",
    "# disp_stats(dframe, col_dict['Nuclei'][1000:])\n",
    "# disp_stats(dframe, col_dict['Cytoplasm'][:200])"
   ]
  },
  {
   "cell_type": "code",
   "execution_count": 68,
   "id": "01579947-b5e1-4e69-924e-5830208e6284",
   "metadata": {
    "execution": {
     "iopub.execute_input": "2023-11-29T20:04:28.635457Z",
     "iopub.status.busy": "2023-11-29T20:04:28.635199Z",
     "iopub.status.idle": "2023-11-29T20:04:28.650803Z",
     "shell.execute_reply": "2023-11-29T20:04:28.649979Z",
     "shell.execute_reply.started": "2023-11-29T20:04:28.635439Z"
    },
    "scrolled": true
   },
   "outputs": [],
   "source": [
    "# cols_subset = get_cols_like(col_dict['Cells'], 'AreaShape')\n",
    "# cols_subset = col_dict['Cells'][:100]"
   ]
  },
  {
   "cell_type": "code",
   "execution_count": 30,
   "id": "f10ee421-2c81-4855-bbe9-2c4654273722",
   "metadata": {
    "execution": {
     "iopub.execute_input": "2023-11-30T19:02:04.453754Z",
     "iopub.status.busy": "2023-11-30T19:02:04.453499Z",
     "iopub.status.idle": "2023-11-30T19:02:04.469775Z",
     "shell.execute_reply": "2023-11-30T19:02:04.469158Z",
     "shell.execute_reply.started": "2023-11-30T19:02:04.453737Z"
    }
   },
   "outputs": [
    {
     "name": "stdout",
     "output_type": "stream",
     "text": [
      "                                             :        min          max          std         mean       median                        quantile                     \n",
      "   0 Cells_AreaShape_Area                    :    2401.90     63039.00      3114.51      3808.89      3550.55   [ 2401.9    3448.35   3550.55   3678.275 63039.   ]\n",
      "   1 Nuclei_Texture_Variance_RNA_10_03_256   :      23.63       125.33         9.71        43.56        42.64   [ 23.633    37.65975  42.637    48.952   125.33   ]\n"
     ]
    }
   ],
   "source": [
    "disp_stats(dframe, ['Cells_AreaShape_Area', 'Nuclei_Texture_Variance_RNA_10_03_256'])\n",
    "# disp_stats(dframe, col_dict['Cells'][:200])\n",
    "# disp_stats(dframe, integerColumns)"
   ]
  },
  {
   "cell_type": "markdown",
   "id": "fa26824a-c263-4cc3-a1b9-ac1fbed59eda",
   "metadata": {
    "jp-MarkdownHeadingCollapsed": true
   },
   "source": [
    "###  Check for invalid columns "
   ]
  },
  {
   "cell_type": "code",
   "execution_count": 31,
   "id": "672fbb89-561c-4bd5-a03f-7d06238c066a",
   "metadata": {
    "execution": {
     "iopub.execute_input": "2023-11-30T19:02:11.193156Z",
     "iopub.status.busy": "2023-11-30T19:02:11.192922Z",
     "iopub.status.idle": "2023-11-30T19:02:11.698184Z",
     "shell.execute_reply": "2023-11-30T19:02:11.697306Z",
     "shell.execute_reply.started": "2023-11-30T19:02:11.193142Z"
    }
   },
   "outputs": [
    {
     "name": "stdout",
     "output_type": "stream",
     "text": [
      "\n",
      " Columns with invalid data from 3670 columns \n",
      "                                                  :        min           max           std          mean        median                         quantile                     \n",
      "[]\n"
     ]
    }
   ],
   "source": [
    "inv_cols = check_values(dframe,  col_dict['Cells']+col_dict['Cytoplasm']+ col_dict['Nuclei'])\n",
    "print(inv_cols)"
   ]
  },
  {
   "cell_type": "code",
   "execution_count": 237,
   "id": "60853195-a782-4e6c-bf0b-abbfeeeb5a18",
   "metadata": {
    "execution": {
     "iopub.execute_input": "2023-11-28T23:32:12.846862Z",
     "iopub.status.busy": "2023-11-28T23:32:12.846149Z",
     "iopub.status.idle": "2023-11-28T23:32:12.861798Z",
     "shell.execute_reply": "2023-11-28T23:32:12.861114Z",
     "shell.execute_reply.started": "2023-11-28T23:32:12.846840Z"
    }
   },
   "outputs": [],
   "source": [
    "# check_values(dframe,col_dict['Cytoplasm'][:200])"
   ]
  },
  {
   "cell_type": "markdown",
   "id": "2e0305c8-ebcd-4445-9aa3-3360847499ce",
   "metadata": {
    "jp-MarkdownHeadingCollapsed": true
   },
   "source": [
    "# Reading profiles"
   ]
  },
  {
   "cell_type": "markdown",
   "id": "3978e2bb-6d06-4274-873c-ebf57d3d11ab",
   "metadata": {
    "jp-MarkdownHeadingCollapsed": true
   },
   "source": [
    "## Load Extended metadata\n",
    "\n",
    "The following files contain the metadata information for the entire dataset.\n",
    "The schema is [here](metadata/README.md)."
   ]
  },
  {
   "cell_type": "code",
   "execution_count": 102,
   "id": "080b5492-06ab-441b-97d2-c514cc00a290",
   "metadata": {
    "execution": {
     "iopub.execute_input": "2023-12-07T03:03:05.812041Z",
     "iopub.status.busy": "2023-12-07T03:03:05.811766Z",
     "iopub.status.idle": "2023-12-07T03:03:05.827937Z",
     "shell.execute_reply": "2023-12-07T03:03:05.827246Z",
     "shell.execute_reply.started": "2023-12-07T03:03:05.812022Z"
    }
   },
   "outputs": [
    {
     "data": {
      "text/plain": [
       "'./output_11102023/compound_extended_metadata_2samples.csv'"
      ]
     },
     "execution_count": 102,
     "metadata": {},
     "output_type": "execute_result"
    }
   ],
   "source": [
    "CompoundExtendedMetadata2SampleFile"
   ]
  },
  {
   "cell_type": "code",
   "execution_count": 111,
   "id": "bef53b77-611d-43f3-bbf8-410f4b34c6ec",
   "metadata": {
    "ExecuteTime": {
     "end_time": "2023-06-28T19:57:26.086260Z",
     "start_time": "2023-06-28T19:57:25.294622Z"
    },
    "execution": {
     "iopub.execute_input": "2023-12-07T03:05:15.107733Z",
     "iopub.status.busy": "2023-12-07T03:05:15.106950Z",
     "iopub.status.idle": "2023-12-07T03:05:15.604814Z",
     "shell.execute_reply": "2023-12-07T03:05:15.604109Z",
     "shell.execute_reply.started": "2023-12-07T03:05:15.107698Z"
    }
   },
   "outputs": [
    {
     "name": "stdout",
     "output_type": "stream",
     "text": [
      "<class 'pandas.core.frame.DataFrame'>\n",
      "Int64Index: 231342 entries, 176094 to 146362\n",
      "Data columns (total 8 columns):\n",
      " #   Column              Non-Null Count   Dtype  \n",
      "---  ------              --------------   -----  \n",
      " 0   Metadata_Source     231342 non-null  object \n",
      " 1   Metadata_Batch      231342 non-null  object \n",
      " 2   Metadata_Plate      231342 non-null  object \n",
      " 3   Metadata_Well       231342 non-null  object \n",
      " 4   Metadata_JCP2022    231342 non-null  object \n",
      " 5   Metadata_TPSA       231342 non-null  float64\n",
      " 6   Metadata_lnTPSA     231342 non-null  float64\n",
      " 7   Metadata_log10TPSA  231342 non-null  float64\n",
      "dtypes: float64(3), object(5)\n",
      "memory usage: 15.9+ MB\n"
     ]
    },
    {
     "data": {
      "text/html": [
       "<div>\n",
       "<style scoped>\n",
       "    .dataframe tbody tr th:only-of-type {\n",
       "        vertical-align: middle;\n",
       "    }\n",
       "\n",
       "    .dataframe tbody tr th {\n",
       "        vertical-align: top;\n",
       "    }\n",
       "\n",
       "    .dataframe thead th {\n",
       "        text-align: right;\n",
       "    }\n",
       "</style>\n",
       "<table border=\"1\" class=\"dataframe\">\n",
       "  <thead>\n",
       "    <tr style=\"text-align: right;\">\n",
       "      <th></th>\n",
       "      <th>Metadata_Source</th>\n",
       "      <th>Metadata_Batch</th>\n",
       "      <th>Metadata_Plate</th>\n",
       "      <th>Metadata_Well</th>\n",
       "      <th>Metadata_JCP2022</th>\n",
       "      <th>Metadata_TPSA</th>\n",
       "      <th>Metadata_lnTPSA</th>\n",
       "      <th>Metadata_log10TPSA</th>\n",
       "    </tr>\n",
       "  </thead>\n",
       "  <tbody>\n",
       "    <tr>\n",
       "      <th>176094</th>\n",
       "      <td>source_1</td>\n",
       "      <td>Batch1_20221004</td>\n",
       "      <td>UL001641</td>\n",
       "      <td>A07</td>\n",
       "      <td>JCP2022_088861</td>\n",
       "      <td>63.55</td>\n",
       "      <td>4.151827</td>\n",
       "      <td>1.803116</td>\n",
       "    </tr>\n",
       "    <tr>\n",
       "      <th>100932</th>\n",
       "      <td>source_1</td>\n",
       "      <td>Batch1_20221004</td>\n",
       "      <td>UL001641</td>\n",
       "      <td>A12</td>\n",
       "      <td>JCP2022_050926</td>\n",
       "      <td>59.06</td>\n",
       "      <td>4.078554</td>\n",
       "      <td>1.771293</td>\n",
       "    </tr>\n",
       "    <tr>\n",
       "      <th>100933</th>\n",
       "      <td>source_1</td>\n",
       "      <td>Batch1_20221004</td>\n",
       "      <td>UL001641</td>\n",
       "      <td>A12</td>\n",
       "      <td>JCP2022_050926</td>\n",
       "      <td>59.06</td>\n",
       "      <td>4.078554</td>\n",
       "      <td>1.771293</td>\n",
       "    </tr>\n",
       "  </tbody>\n",
       "</table>\n",
       "</div>"
      ],
      "text/plain": [
       "       Metadata_Source   Metadata_Batch Metadata_Plate Metadata_Well Metadata_JCP2022  Metadata_TPSA  Metadata_lnTPSA  Metadata_log10TPSA\n",
       "176094        source_1  Batch1_20221004       UL001641           A07   JCP2022_088861          63.55         4.151827            1.803116\n",
       "100932        source_1  Batch1_20221004       UL001641           A12   JCP2022_050926          59.06         4.078554            1.771293\n",
       "100933        source_1  Batch1_20221004       UL001641           A12   JCP2022_050926          59.06         4.078554            1.771293"
      ]
     },
     "execution_count": 111,
     "metadata": {},
     "output_type": "execute_result"
    },
    {
     "data": {
      "text/html": [
       "<div>\n",
       "<style scoped>\n",
       "    .dataframe tbody tr th:only-of-type {\n",
       "        vertical-align: middle;\n",
       "    }\n",
       "\n",
       "    .dataframe tbody tr th {\n",
       "        vertical-align: top;\n",
       "    }\n",
       "\n",
       "    .dataframe thead th {\n",
       "        text-align: right;\n",
       "    }\n",
       "</style>\n",
       "<table border=\"1\" class=\"dataframe\">\n",
       "  <thead>\n",
       "    <tr style=\"text-align: right;\">\n",
       "      <th></th>\n",
       "      <th>Metadata_Source</th>\n",
       "      <th>Metadata_Batch</th>\n",
       "      <th>Metadata_Plate</th>\n",
       "      <th>Metadata_Well</th>\n",
       "      <th>Metadata_JCP2022</th>\n",
       "      <th>Metadata_TPSA</th>\n",
       "      <th>Metadata_lnTPSA</th>\n",
       "      <th>Metadata_log10TPSA</th>\n",
       "    </tr>\n",
       "  </thead>\n",
       "  <tbody>\n",
       "    <tr>\n",
       "      <th>149806</th>\n",
       "      <td>source_9</td>\n",
       "      <td>20211103-Run16</td>\n",
       "      <td>GR00004421</td>\n",
       "      <td>Z16</td>\n",
       "      <td>JCP2022_075595</td>\n",
       "      <td>69.97</td>\n",
       "      <td>4.248067</td>\n",
       "      <td>1.844912</td>\n",
       "    </tr>\n",
       "    <tr>\n",
       "      <th>149807</th>\n",
       "      <td>source_9</td>\n",
       "      <td>20211103-Run16</td>\n",
       "      <td>GR00004421</td>\n",
       "      <td>Z16</td>\n",
       "      <td>JCP2022_075595</td>\n",
       "      <td>69.97</td>\n",
       "      <td>4.248067</td>\n",
       "      <td>1.844912</td>\n",
       "    </tr>\n",
       "    <tr>\n",
       "      <th>146362</th>\n",
       "      <td>source_9</td>\n",
       "      <td>20211103-Run16</td>\n",
       "      <td>GR00004421</td>\n",
       "      <td>Z18</td>\n",
       "      <td>JCP2022_073861</td>\n",
       "      <td>95.44</td>\n",
       "      <td>4.558498</td>\n",
       "      <td>1.979730</td>\n",
       "    </tr>\n",
       "  </tbody>\n",
       "</table>\n",
       "</div>"
      ],
      "text/plain": [
       "       Metadata_Source  Metadata_Batch Metadata_Plate Metadata_Well Metadata_JCP2022  Metadata_TPSA  Metadata_lnTPSA  Metadata_log10TPSA\n",
       "149806        source_9  20211103-Run16     GR00004421           Z16   JCP2022_075595          69.97         4.248067            1.844912\n",
       "149807        source_9  20211103-Run16     GR00004421           Z16   JCP2022_075595          69.97         4.248067            1.844912\n",
       "146362        source_9  20211103-Run16     GR00004421           Z18   JCP2022_073861          95.44         4.558498            1.979730"
      ]
     },
     "execution_count": 111,
     "metadata": {},
     "output_type": "execute_result"
    }
   ],
   "source": [
    "ext_metadata = pd.read_csv(CompoundExtendedMetadata2SampleFile ,\n",
    "                           usecols = [0,1,2,4,5,9,10,11], \n",
    "                           # usecols = extMetadataColumns, \n",
    "                           names=extMetadataNames,  \n",
    "                           header=0,\n",
    "                          )\n",
    "ext_metadata.sort_values(by=categoricalColumns, inplace=True)\n",
    "\n",
    "ext_metadata.info()\n",
    "ext_metadata.head(3)\n",
    "ext_metadata.tail(3)\n",
    "ext_metadata.reset_index(drop=True, inplace = True)\n",
    "# print('---------------------------------------------------------------')\n",
    "# print(' After Index Reset')\n",
    "# print('---------------------------------------------------------------')\n",
    "# ext_metadata.info()\n",
    "# ext_metadata.head(3)\n",
    "# ext_metadata.tail(3)"
   ]
  },
  {
   "cell_type": "code",
   "execution_count": 105,
   "id": "3d5254d2-2380-4c18-96d1-f38e9540d9fa",
   "metadata": {
    "ExecuteTime": {
     "end_time": "2023-06-28T19:57:26.086260Z",
     "start_time": "2023-06-28T19:57:25.294622Z"
    },
    "execution": {
     "iopub.execute_input": "2023-12-07T03:03:08.623280Z",
     "iopub.status.busy": "2023-12-07T03:03:08.623023Z",
     "iopub.status.idle": "2023-12-07T03:03:08.713633Z",
     "shell.execute_reply": "2023-12-07T03:03:08.712809Z",
     "shell.execute_reply.started": "2023-12-07T03:03:08.623263Z"
    },
    "scrolled": true
   },
   "outputs": [
    {
     "data": {
      "text/plain": [
       "Index                    128\n",
       "Metadata_Source     15078430\n",
       "Metadata_Batch      17257228\n",
       "Metadata_Plate      15525892\n",
       "Metadata_Well       13892096\n",
       "Metadata_JCP2022    16425282\n",
       "TPSA                 1850736\n",
       "lnTPSA               1850736\n",
       "log10TPSA            1850736\n",
       "dtype: int64"
      ]
     },
     "execution_count": 105,
     "metadata": {},
     "output_type": "execute_result"
    }
   ],
   "source": [
    "ext_metadata.memory_usage(deep=True) "
   ]
  },
  {
   "cell_type": "markdown",
   "id": "e4e5a317-72ae-4f01-9605-1c2486f11bdd",
   "metadata": {
    "jp-MarkdownHeadingCollapsed": true
   },
   "source": [
    "## Group Ext Metadata"
   ]
  },
  {
   "cell_type": "code",
   "execution_count": 112,
   "id": "129cb8d8-9aa4-4dae-96dc-cc395d24ed17",
   "metadata": {
    "execution": {
     "iopub.execute_input": "2023-12-07T03:05:35.819689Z",
     "iopub.status.busy": "2023-12-07T03:05:35.819116Z",
     "iopub.status.idle": "2023-12-07T03:05:36.502220Z",
     "shell.execute_reply": "2023-12-07T03:05:36.501178Z",
     "shell.execute_reply.started": "2023-12-07T03:05:35.819634Z"
    }
   },
   "outputs": [
    {
     "data": {
      "text/plain": [
       "1684"
      ]
     },
     "execution_count": 112,
     "metadata": {},
     "output_type": "execute_result"
    },
    {
     "name": "stdout",
     "output_type": "stream",
     "text": [
      "    0     ('source_1', 'Batch1_20221004', 'UL001641')\n",
      "    1     ('source_1', 'Batch1_20221004', 'UL001643')\n",
      "    2     ('source_1', 'Batch1_20221004', 'UL001645')\n",
      "    3     ('source_1', 'Batch1_20221004', 'UL001651')\n",
      "    4     ('source_1', 'Batch1_20221004', 'UL001653')\n"
     ]
    }
   ],
   "source": [
    "grouped_metadata = ext_metadata.groupby(by = ['Metadata_Source','Metadata_Batch','Metadata_Plate'])\n",
    "len(grouped_metadata)\n",
    "for ctr, (keys, group_data) in enumerate(grouped_metadata):\n",
    "    print(f\"{ctr:5d}     {keys}\") \n",
    "    # group_data.info()\n",
    "    # group_data.memory_usage(deep=True)\n",
    "    if ctr > 3:\n",
    "        break"
   ]
  },
  {
   "cell_type": "markdown",
   "id": "7a4dc411-d06f-483b-8cff-1199f891e8f2",
   "metadata": {
    "jp-MarkdownHeadingCollapsed": true
   },
   "source": [
    "## Read profiles for loaded metadata"
   ]
  },
  {
   "cell_type": "markdown",
   "id": "9192b138-bbbb-41bd-a83f-bc4e00cd7b62",
   "metadata": {
    "jp-MarkdownHeadingCollapsed": true
   },
   "source": [
    "Now let's load the profiles from these plates.\n",
    "\n",
    "Setting `columns = None` below will load all of the features.\n",
    "\n",
    "```\n",
    "profile_formatter = (\"s3://cellpainting-gallery/cpg0016-jump/{Metadata_Source}/workspace/profiles/{Metadata_Batch}/{Metadata_Plate}/{Metadata_Plate}.parquet\")\n",
    "```\n",
    "\n",
    "<div class=\"alert alert-warning\">\n",
    "WARNING: Files are located in S3. This loop loads only two features per each sampled plate; loading many feature and/or many plates can take several minutes.\n",
    "</div>"
   ]
  },
  {
   "cell_type": "markdown",
   "id": "1665f513-6799-4bb3-ae74-ee892ef9942f",
   "metadata": {},
   "source": [
    "### For each ExtMetadata group and read matching parquet profile (plate)"
   ]
  },
  {
   "cell_type": "code",
   "execution_count": 113,
   "id": "08d1db30-33f5-4d40-94bb-e7616eb9e3cd",
   "metadata": {
    "execution": {
     "iopub.execute_input": "2023-12-07T03:05:38.849137Z",
     "iopub.status.busy": "2023-12-07T03:05:38.848718Z",
     "iopub.status.idle": "2023-12-07T03:05:39.181928Z",
     "shell.execute_reply": "2023-12-07T03:05:39.181067Z",
     "shell.execute_reply.started": "2023-12-07T03:05:38.849116Z"
    }
   },
   "outputs": [
    {
     "name": "stdout",
     "output_type": "stream",
     "text": [
      "('source_1', 'Batch1_20221004', 'UL001641')\n",
      "3673\n",
      "file ctr: 0 rows: 608  Total rows 608\n",
      " number of groups: 0  total number of rows: 608\n"
     ]
    }
   ],
   "source": [
    "df_profiles_list = []\n",
    "rows = 0\n",
    "ttl_rows = 0\n",
    "\n",
    "for i, (keys, group_data) in enumerate(grouped_metadata):\n",
    "# for i in [1]:\n",
    "    print(keys)\n",
    "    dframe = read_profiles_from_local(keys, local_formatter, get_columns)\n",
    "    print(len(dframe.columns.to_list()))\n",
    "    df_join = pd.merge(group_data, dframe, how='left', on=['Metadata_Source', 'Metadata_Plate', 'Metadata_Well'])\n",
    "\n",
    "    rows += len(df_join)\n",
    "    ttl_rows += rows\n",
    "    \n",
    "    df_profiles_list.append(df_join)\n",
    "    print(f\"file ctr: {i} rows: {rows}  Total rows {ttl_rows}\")\n",
    "    break\n",
    "    # if i == 10 :\n",
    "        # break\n",
    "\n",
    "\n",
    "df_profiles = pd.concat(df_profiles_list)\n",
    "print(f\" number of groups: {i}  total number of rows: {ttl_rows}\")"
   ]
  },
  {
   "cell_type": "code",
   "execution_count": 109,
   "id": "afca9e60-480e-4eb3-91f8-fca1f35098ed",
   "metadata": {
    "execution": {
     "iopub.execute_input": "2023-12-07T03:03:19.813989Z",
     "iopub.status.busy": "2023-12-07T03:03:19.813101Z",
     "iopub.status.idle": "2023-12-07T03:03:19.845819Z",
     "shell.execute_reply": "2023-12-07T03:03:19.844910Z",
     "shell.execute_reply.started": "2023-12-07T03:03:19.813953Z"
    }
   },
   "outputs": [
    {
     "data": {
      "text/html": [
       "<div>\n",
       "<style scoped>\n",
       "    .dataframe tbody tr th:only-of-type {\n",
       "        vertical-align: middle;\n",
       "    }\n",
       "\n",
       "    .dataframe tbody tr th {\n",
       "        vertical-align: top;\n",
       "    }\n",
       "\n",
       "    .dataframe thead th {\n",
       "        text-align: right;\n",
       "    }\n",
       "</style>\n",
       "<table border=\"1\" class=\"dataframe\">\n",
       "  <thead>\n",
       "    <tr style=\"text-align: right;\">\n",
       "      <th></th>\n",
       "      <th>Metadata_Source</th>\n",
       "      <th>Metadata_Batch</th>\n",
       "      <th>Metadata_Plate</th>\n",
       "      <th>Metadata_Well</th>\n",
       "      <th>Metadata_JCP2022</th>\n",
       "      <th>TPSA</th>\n",
       "      <th>lnTPSA</th>\n",
       "      <th>log10TPSA</th>\n",
       "      <th>Cells_AreaShape_Area</th>\n",
       "      <th>Cells_AreaShape_BoundingBoxArea</th>\n",
       "      <th>...</th>\n",
       "      <th>Nuclei_Texture_Variance_RNA_10_02_256</th>\n",
       "      <th>Nuclei_Texture_Variance_RNA_10_03_256</th>\n",
       "      <th>Nuclei_Texture_Variance_RNA_3_00_256</th>\n",
       "      <th>Nuclei_Texture_Variance_RNA_3_01_256</th>\n",
       "      <th>Nuclei_Texture_Variance_RNA_3_02_256</th>\n",
       "      <th>Nuclei_Texture_Variance_RNA_3_03_256</th>\n",
       "      <th>Nuclei_Texture_Variance_RNA_5_00_256</th>\n",
       "      <th>Nuclei_Texture_Variance_RNA_5_01_256</th>\n",
       "      <th>Nuclei_Texture_Variance_RNA_5_02_256</th>\n",
       "      <th>Nuclei_Texture_Variance_RNA_5_03_256</th>\n",
       "    </tr>\n",
       "  </thead>\n",
       "  <tbody>\n",
       "    <tr>\n",
       "      <th>0</th>\n",
       "      <td>source_1</td>\n",
       "      <td>Batch1_20221004</td>\n",
       "      <td>UL001641</td>\n",
       "      <td>A07</td>\n",
       "      <td>JCP2022_088861</td>\n",
       "      <td>63.55</td>\n",
       "      <td>4.151827</td>\n",
       "      <td>1.803116</td>\n",
       "      <td>3808.1</td>\n",
       "      <td>7228.8</td>\n",
       "      <td>...</td>\n",
       "      <td>87.377</td>\n",
       "      <td>89.595</td>\n",
       "      <td>84.613</td>\n",
       "      <td>83.577</td>\n",
       "      <td>84.613</td>\n",
       "      <td>83.847</td>\n",
       "      <td>83.570</td>\n",
       "      <td>85.001</td>\n",
       "      <td>83.487</td>\n",
       "      <td>84.289</td>\n",
       "    </tr>\n",
       "    <tr>\n",
       "      <th>1</th>\n",
       "      <td>source_1</td>\n",
       "      <td>Batch1_20221004</td>\n",
       "      <td>UL001641</td>\n",
       "      <td>A12</td>\n",
       "      <td>JCP2022_050926</td>\n",
       "      <td>59.06</td>\n",
       "      <td>4.078554</td>\n",
       "      <td>1.771293</td>\n",
       "      <td>3656.7</td>\n",
       "      <td>6883.0</td>\n",
       "      <td>...</td>\n",
       "      <td>77.073</td>\n",
       "      <td>79.241</td>\n",
       "      <td>75.460</td>\n",
       "      <td>74.542</td>\n",
       "      <td>75.545</td>\n",
       "      <td>74.663</td>\n",
       "      <td>74.535</td>\n",
       "      <td>74.743</td>\n",
       "      <td>74.412</td>\n",
       "      <td>75.154</td>\n",
       "    </tr>\n",
       "    <tr>\n",
       "      <th>2</th>\n",
       "      <td>source_1</td>\n",
       "      <td>Batch1_20221004</td>\n",
       "      <td>UL001641</td>\n",
       "      <td>A12</td>\n",
       "      <td>JCP2022_050926</td>\n",
       "      <td>59.06</td>\n",
       "      <td>4.078554</td>\n",
       "      <td>1.771293</td>\n",
       "      <td>3656.7</td>\n",
       "      <td>6883.0</td>\n",
       "      <td>...</td>\n",
       "      <td>77.073</td>\n",
       "      <td>79.241</td>\n",
       "      <td>75.460</td>\n",
       "      <td>74.542</td>\n",
       "      <td>75.545</td>\n",
       "      <td>74.663</td>\n",
       "      <td>74.535</td>\n",
       "      <td>74.743</td>\n",
       "      <td>74.412</td>\n",
       "      <td>75.154</td>\n",
       "    </tr>\n",
       "    <tr>\n",
       "      <th>3</th>\n",
       "      <td>source_1</td>\n",
       "      <td>Batch1_20221004</td>\n",
       "      <td>UL001641</td>\n",
       "      <td>A13</td>\n",
       "      <td>JCP2022_042105</td>\n",
       "      <td>72.92</td>\n",
       "      <td>4.289363</td>\n",
       "      <td>1.862847</td>\n",
       "      <td>4036.1</td>\n",
       "      <td>7580.4</td>\n",
       "      <td>...</td>\n",
       "      <td>84.880</td>\n",
       "      <td>87.777</td>\n",
       "      <td>83.932</td>\n",
       "      <td>82.470</td>\n",
       "      <td>83.330</td>\n",
       "      <td>82.790</td>\n",
       "      <td>82.393</td>\n",
       "      <td>82.479</td>\n",
       "      <td>81.841</td>\n",
       "      <td>82.713</td>\n",
       "    </tr>\n",
       "  </tbody>\n",
       "</table>\n",
       "<p>4 rows × 3678 columns</p>\n",
       "</div>"
      ],
      "text/plain": [
       "  Metadata_Source   Metadata_Batch Metadata_Plate Metadata_Well Metadata_JCP2022   TPSA    lnTPSA  log10TPSA  Cells_AreaShape_Area  \\\n",
       "0        source_1  Batch1_20221004       UL001641           A07   JCP2022_088861  63.55  4.151827   1.803116                3808.1   \n",
       "1        source_1  Batch1_20221004       UL001641           A12   JCP2022_050926  59.06  4.078554   1.771293                3656.7   \n",
       "2        source_1  Batch1_20221004       UL001641           A12   JCP2022_050926  59.06  4.078554   1.771293                3656.7   \n",
       "3        source_1  Batch1_20221004       UL001641           A13   JCP2022_042105  72.92  4.289363   1.862847                4036.1   \n",
       "\n",
       "   Cells_AreaShape_BoundingBoxArea  ...  Nuclei_Texture_Variance_RNA_10_02_256  Nuclei_Texture_Variance_RNA_10_03_256  \\\n",
       "0                           7228.8  ...                                 87.377                                 89.595   \n",
       "1                           6883.0  ...                                 77.073                                 79.241   \n",
       "2                           6883.0  ...                                 77.073                                 79.241   \n",
       "3                           7580.4  ...                                 84.880                                 87.777   \n",
       "\n",
       "   Nuclei_Texture_Variance_RNA_3_00_256  Nuclei_Texture_Variance_RNA_3_01_256  Nuclei_Texture_Variance_RNA_3_02_256  \\\n",
       "0                                84.613                                83.577                                84.613   \n",
       "1                                75.460                                74.542                                75.545   \n",
       "2                                75.460                                74.542                                75.545   \n",
       "3                                83.932                                82.470                                83.330   \n",
       "\n",
       "   Nuclei_Texture_Variance_RNA_3_03_256  Nuclei_Texture_Variance_RNA_5_00_256  Nuclei_Texture_Variance_RNA_5_01_256  \\\n",
       "0                                83.847                                83.570                                85.001   \n",
       "1                                74.663                                74.535                                74.743   \n",
       "2                                74.663                                74.535                                74.743   \n",
       "3                                82.790                                82.393                                82.479   \n",
       "\n",
       "   Nuclei_Texture_Variance_RNA_5_02_256  Nuclei_Texture_Variance_RNA_5_03_256  \n",
       "0                                83.487                                84.289  \n",
       "1                                74.412                                75.154  \n",
       "2                                74.412                                75.154  \n",
       "3                                81.841                                82.713  \n",
       "\n",
       "[4 rows x 3678 columns]"
      ]
     },
     "execution_count": 109,
     "metadata": {},
     "output_type": "execute_result"
    },
    {
     "data": {
      "text/plain": [
       "array(['UL001641'], dtype=object)"
      ]
     },
     "execution_count": 109,
     "metadata": {},
     "output_type": "execute_result"
    }
   ],
   "source": [
    "df_profiles.head(4)\n",
    "df_profiles['Metadata_Plate'].unique()"
   ]
  },
  {
   "cell_type": "code",
   "execution_count": 114,
   "id": "87cc5b04-567f-44ce-8f55-677637e46143",
   "metadata": {
    "execution": {
     "iopub.execute_input": "2023-12-07T03:05:48.845293Z",
     "iopub.status.busy": "2023-12-07T03:05:48.845017Z",
     "iopub.status.idle": "2023-12-07T03:05:48.868476Z",
     "shell.execute_reply": "2023-12-07T03:05:48.867763Z",
     "shell.execute_reply.started": "2023-12-07T03:05:48.845277Z"
    }
   },
   "outputs": [
    {
     "data": {
      "text/html": [
       "<div>\n",
       "<style scoped>\n",
       "    .dataframe tbody tr th:only-of-type {\n",
       "        vertical-align: middle;\n",
       "    }\n",
       "\n",
       "    .dataframe tbody tr th {\n",
       "        vertical-align: top;\n",
       "    }\n",
       "\n",
       "    .dataframe thead th {\n",
       "        text-align: right;\n",
       "    }\n",
       "</style>\n",
       "<table border=\"1\" class=\"dataframe\">\n",
       "  <thead>\n",
       "    <tr style=\"text-align: right;\">\n",
       "      <th></th>\n",
       "      <th>Metadata_Source</th>\n",
       "      <th>Metadata_Batch</th>\n",
       "      <th>Metadata_Plate</th>\n",
       "      <th>Metadata_Well</th>\n",
       "      <th>Metadata_JCP2022</th>\n",
       "      <th>Metadata_TPSA</th>\n",
       "      <th>Metadata_lnTPSA</th>\n",
       "      <th>Metadata_log10TPSA</th>\n",
       "      <th>Cells_AreaShape_Area</th>\n",
       "      <th>Cells_AreaShape_BoundingBoxArea</th>\n",
       "      <th>...</th>\n",
       "      <th>Nuclei_Texture_Variance_RNA_10_02_256</th>\n",
       "      <th>Nuclei_Texture_Variance_RNA_10_03_256</th>\n",
       "      <th>Nuclei_Texture_Variance_RNA_3_00_256</th>\n",
       "      <th>Nuclei_Texture_Variance_RNA_3_01_256</th>\n",
       "      <th>Nuclei_Texture_Variance_RNA_3_02_256</th>\n",
       "      <th>Nuclei_Texture_Variance_RNA_3_03_256</th>\n",
       "      <th>Nuclei_Texture_Variance_RNA_5_00_256</th>\n",
       "      <th>Nuclei_Texture_Variance_RNA_5_01_256</th>\n",
       "      <th>Nuclei_Texture_Variance_RNA_5_02_256</th>\n",
       "      <th>Nuclei_Texture_Variance_RNA_5_03_256</th>\n",
       "    </tr>\n",
       "  </thead>\n",
       "  <tbody>\n",
       "    <tr>\n",
       "      <th>0</th>\n",
       "      <td>source_1</td>\n",
       "      <td>Batch1_20221004</td>\n",
       "      <td>UL001641</td>\n",
       "      <td>A07</td>\n",
       "      <td>JCP2022_088861</td>\n",
       "      <td>63.55</td>\n",
       "      <td>4.151827</td>\n",
       "      <td>1.803116</td>\n",
       "      <td>3808.1</td>\n",
       "      <td>7228.8</td>\n",
       "      <td>...</td>\n",
       "      <td>87.377</td>\n",
       "      <td>89.595</td>\n",
       "      <td>84.613</td>\n",
       "      <td>83.577</td>\n",
       "      <td>84.613</td>\n",
       "      <td>83.847</td>\n",
       "      <td>83.570</td>\n",
       "      <td>85.001</td>\n",
       "      <td>83.487</td>\n",
       "      <td>84.289</td>\n",
       "    </tr>\n",
       "    <tr>\n",
       "      <th>1</th>\n",
       "      <td>source_1</td>\n",
       "      <td>Batch1_20221004</td>\n",
       "      <td>UL001641</td>\n",
       "      <td>A12</td>\n",
       "      <td>JCP2022_050926</td>\n",
       "      <td>59.06</td>\n",
       "      <td>4.078554</td>\n",
       "      <td>1.771293</td>\n",
       "      <td>3656.7</td>\n",
       "      <td>6883.0</td>\n",
       "      <td>...</td>\n",
       "      <td>77.073</td>\n",
       "      <td>79.241</td>\n",
       "      <td>75.460</td>\n",
       "      <td>74.542</td>\n",
       "      <td>75.545</td>\n",
       "      <td>74.663</td>\n",
       "      <td>74.535</td>\n",
       "      <td>74.743</td>\n",
       "      <td>74.412</td>\n",
       "      <td>75.154</td>\n",
       "    </tr>\n",
       "    <tr>\n",
       "      <th>2</th>\n",
       "      <td>source_1</td>\n",
       "      <td>Batch1_20221004</td>\n",
       "      <td>UL001641</td>\n",
       "      <td>A12</td>\n",
       "      <td>JCP2022_050926</td>\n",
       "      <td>59.06</td>\n",
       "      <td>4.078554</td>\n",
       "      <td>1.771293</td>\n",
       "      <td>3656.7</td>\n",
       "      <td>6883.0</td>\n",
       "      <td>...</td>\n",
       "      <td>77.073</td>\n",
       "      <td>79.241</td>\n",
       "      <td>75.460</td>\n",
       "      <td>74.542</td>\n",
       "      <td>75.545</td>\n",
       "      <td>74.663</td>\n",
       "      <td>74.535</td>\n",
       "      <td>74.743</td>\n",
       "      <td>74.412</td>\n",
       "      <td>75.154</td>\n",
       "    </tr>\n",
       "    <tr>\n",
       "      <th>3</th>\n",
       "      <td>source_1</td>\n",
       "      <td>Batch1_20221004</td>\n",
       "      <td>UL001641</td>\n",
       "      <td>A13</td>\n",
       "      <td>JCP2022_042105</td>\n",
       "      <td>72.92</td>\n",
       "      <td>4.289363</td>\n",
       "      <td>1.862847</td>\n",
       "      <td>4036.1</td>\n",
       "      <td>7580.4</td>\n",
       "      <td>...</td>\n",
       "      <td>84.880</td>\n",
       "      <td>87.777</td>\n",
       "      <td>83.932</td>\n",
       "      <td>82.470</td>\n",
       "      <td>83.330</td>\n",
       "      <td>82.790</td>\n",
       "      <td>82.393</td>\n",
       "      <td>82.479</td>\n",
       "      <td>81.841</td>\n",
       "      <td>82.713</td>\n",
       "    </tr>\n",
       "  </tbody>\n",
       "</table>\n",
       "<p>4 rows × 3678 columns</p>\n",
       "</div>"
      ],
      "text/plain": [
       "  Metadata_Source   Metadata_Batch Metadata_Plate Metadata_Well Metadata_JCP2022  Metadata_TPSA  Metadata_lnTPSA  Metadata_log10TPSA  \\\n",
       "0        source_1  Batch1_20221004       UL001641           A07   JCP2022_088861          63.55         4.151827            1.803116   \n",
       "1        source_1  Batch1_20221004       UL001641           A12   JCP2022_050926          59.06         4.078554            1.771293   \n",
       "2        source_1  Batch1_20221004       UL001641           A12   JCP2022_050926          59.06         4.078554            1.771293   \n",
       "3        source_1  Batch1_20221004       UL001641           A13   JCP2022_042105          72.92         4.289363            1.862847   \n",
       "\n",
       "   Cells_AreaShape_Area  Cells_AreaShape_BoundingBoxArea  ...  Nuclei_Texture_Variance_RNA_10_02_256  \\\n",
       "0                3808.1                           7228.8  ...                                 87.377   \n",
       "1                3656.7                           6883.0  ...                                 77.073   \n",
       "2                3656.7                           6883.0  ...                                 77.073   \n",
       "3                4036.1                           7580.4  ...                                 84.880   \n",
       "\n",
       "   Nuclei_Texture_Variance_RNA_10_03_256  Nuclei_Texture_Variance_RNA_3_00_256  Nuclei_Texture_Variance_RNA_3_01_256  \\\n",
       "0                                 89.595                                84.613                                83.577   \n",
       "1                                 79.241                                75.460                                74.542   \n",
       "2                                 79.241                                75.460                                74.542   \n",
       "3                                 87.777                                83.932                                82.470   \n",
       "\n",
       "   Nuclei_Texture_Variance_RNA_3_02_256  Nuclei_Texture_Variance_RNA_3_03_256  Nuclei_Texture_Variance_RNA_5_00_256  \\\n",
       "0                                84.613                                83.847                                83.570   \n",
       "1                                75.545                                74.663                                74.535   \n",
       "2                                75.545                                74.663                                74.535   \n",
       "3                                83.330                                82.790                                82.393   \n",
       "\n",
       "   Nuclei_Texture_Variance_RNA_5_01_256  Nuclei_Texture_Variance_RNA_5_02_256  Nuclei_Texture_Variance_RNA_5_03_256  \n",
       "0                                85.001                                83.487                                84.289  \n",
       "1                                74.743                                74.412                                75.154  \n",
       "2                                74.743                                74.412                                75.154  \n",
       "3                                82.479                                81.841                                82.713  \n",
       "\n",
       "[4 rows x 3678 columns]"
      ]
     },
     "execution_count": 114,
     "metadata": {},
     "output_type": "execute_result"
    }
   ],
   "source": [
    "df_join.head(4)\n",
    "# df_profiles['Metadata_Plate'].unique()"
   ]
  },
  {
   "cell_type": "code",
   "execution_count": 82,
   "id": "a605368e-a21d-4fac-bf1e-de139040049b",
   "metadata": {
    "execution": {
     "iopub.execute_input": "2023-12-06T23:51:11.500156Z",
     "iopub.status.busy": "2023-12-06T23:51:11.499482Z",
     "iopub.status.idle": "2023-12-06T23:51:11.523430Z",
     "shell.execute_reply": "2023-12-06T23:51:11.522483Z",
     "shell.execute_reply.started": "2023-12-06T23:51:11.500123Z"
    }
   },
   "outputs": [
    {
     "data": {
      "text/plain": [
       "3678"
      ]
     },
     "execution_count": 82,
     "metadata": {},
     "output_type": "execute_result"
    },
    {
     "name": "stdout",
     "output_type": "stream",
     "text": [
      " input is dataframe shape: (608, 3678)\n",
      " Field type: Metadata                count: 5\n",
      " Field type: Other                   count: 3\n",
      " Field type: Cells                   count: 1255\n",
      " Field type: Cytoplasm               count: 1240\n",
      " Field type: Nuclei                  count: 1175\n"
     ]
    }
   ],
   "source": [
    "len(df_profiles.columns.to_list())\n",
    "col_dict = cat_columns(df_profiles)\n",
    "# col_dict['Nuclei'][1000:]"
   ]
  },
  {
   "cell_type": "markdown",
   "id": "2a01bbbb-b264-481e-906c-d71470d56ad9",
   "metadata": {
    "jp-MarkdownHeadingCollapsed": true
   },
   "source": [
    "## Normalize by Plate|"
   ]
  },
  {
   "cell_type": "markdown",
   "id": "7804ad76-436b-4e49-8e08-323eba4fe7c8",
   "metadata": {},
   "source": [
    "**`normalize Parameters()`**\r\n",
    "\n",
    "- **profiles :** pandas.core.frame.DataFrame or path\\\n",
    "    Either a pandas DataFrame or a file that stores profile data\n",
    "- **features :** list\\\n",
    "    A list of strings corresponding to feature measurement column names in the `profiles` DataFrame. All features listed must be found in `profiles`.\\\n",
    "    Defaults to `\"infer\"`. If `\"infer\"`, then assume cell painting features are those prefixed with `\"Cells\"`, `\"Nuclei\"`, or `\"Cytoplasm\"`.\n",
    "- **image_features:** bool, default False\\\n",
    "    Whether the profiles contain image features.\n",
    "- **meta_features :** list\\\n",
    "    A list of strings corresponding to metadata column names in the `profiles`DataFrame. All features listed must be found in `profiles`. Defaults to \"infer\".\n",
    "    If `\"infer\"`, then assume metadata features are those prefixed with `\"Metadata\"`\n",
    "- **samples :** sr, default `all`r\\\n",
    "    The metadata column values to use as a normalization reference. We often us econtrol samples. The function uses a `pd.query()` function, so you should\\\n",
    "    structure samples in this fashion. An example is\"Metadata_treatment == 'control'\" (include all quotes). Defaults to \"all\".\n",
    "- **method :** str  `'standardize'` | `'robustize'` | `'mad_robustize'` | `'spherize'` \\\n",
    "    How to normalize the dataframe. Defaults to \"standardize\". Check avail_method sfor available normalization methods.\n",
    "- **output_file :** str, optional\\\n",
    "    If provided, will write normalized profiles to file. If not specified, will return the normalized profiles as outpu.t\\\n",
    "    We recommend that this output file b  suffixed with \"_normalized.csv\".\n",
    "- **output_type :** str, optional\\\n",
    "    If provided, will write normalized profiles as a specified file type (either CSV or parquet).\n",
    "    If not specified and output_file is provided, then the file will be outputed as CSV as default.\n",
    "- **compression_options :** str or dict, optional\\\n",
    "    Contains compression options as input to pd.DataFrame.to_csv(compression=compression_options). pandas version >= 1.2.\n",
    "- **float_format :** str, optional\\\n",
    "    Decimal precision to use in writing output file as input to\n",
    "    pd.DataFrame.to_csv(float_format=float_format). For example, use \"%.3g\" for 3\n",
    "    decimal precision.\n",
    "- **mad_robustize_epsilon:** float, optional\\\n",
    "    The mad_robustize fudge factor parameter. The function only uses\n",
    "    this variable if method = \"mad_robustize\". Set this to 0 if\n",
    "    mad_robustize generates features with large values.\n",
    "- **spherize_center :** bool\\\n",
    "    If the function should center data before sphering (aka whitening). The\n",
    "    function only uses this variable if method = \"spherize\". Defaults to True.\n",
    "- **spherize_method :** str\\\n",
    "    The sphering (aka whitening) normalization selection. The function only uses\n",
    "    this variable if method = \"spherize\". Defaults to \"ZCA-corr\". See\n",
    "    :py:func:`pycytominer.operations.transform` for available spherize methods.\n",
    "- **spherize_epsilon :** float, default 1e-6.\\\n",
    "    The sphering (aka whitening) fudge factor parameter. The function only uses\n",
    "    this variable if method = \"spherize\".\n",
    "  \n",
    "**Returns**\n",
    " \n",
    "- **normalized :** pandas.core.frame.DataFrame, optional\\\n",
    "    The normalized profile DataFrame. If output_file=None, then return the\n",
    "    DataFrame. If you specify output_file, then write to file and do not return\n",
    "    data.\n",
    ", then write to file and do not return\r\n",
    "        data\n",
    ".\r"
   ]
  },
  {
   "cell_type": "code",
   "execution_count": 115,
   "id": "b1e5771b-8497-44aa-9704-9b9d2bcdf1e8",
   "metadata": {
    "execution": {
     "iopub.execute_input": "2023-12-07T03:06:00.412624Z",
     "iopub.status.busy": "2023-12-07T03:06:00.411845Z",
     "iopub.status.idle": "2023-12-07T03:06:00.507760Z",
     "shell.execute_reply": "2023-12-07T03:06:00.506863Z",
     "shell.execute_reply.started": "2023-12-07T03:06:00.412593Z"
    }
   },
   "outputs": [],
   "source": [
    "try:\n",
    "    df_normalized = normalize(\n",
    "        profiles=df_joim,\n",
    "        features=\"infer\",\n",
    "        meta_features=\"infer\",\n",
    "        samples=\"all\",\n",
    "        method=\"standardize\",\n",
    "        # method=\"robustize\",\n",
    "        # method=\"mad_robustize\",\n",
    "        # method=\"spherize\",\n",
    "        # output_file=None,\n",
    "        # mad_robustize_epsilon = 0 , \n",
    "        # compression_options=compression_options,\n",
    "    )    \n",
    "except Exception as e:\n",
    "    print(f\" exception:  {e} occurred at {keys}\")"
   ]
  },
  {
   "cell_type": "code",
   "execution_count": 117,
   "id": "1889d808-a9d1-49f9-b0e4-033037351d2c",
   "metadata": {
    "execution": {
     "iopub.execute_input": "2023-12-07T03:07:06.112452Z",
     "iopub.status.busy": "2023-12-07T03:07:06.112035Z",
     "iopub.status.idle": "2023-12-07T03:07:06.138114Z",
     "shell.execute_reply": "2023-12-07T03:07:06.137353Z",
     "shell.execute_reply.started": "2023-12-07T03:07:06.112412Z"
    }
   },
   "outputs": [
    {
     "data": {
      "text/html": [
       "<div>\n",
       "<style scoped>\n",
       "    .dataframe tbody tr th:only-of-type {\n",
       "        vertical-align: middle;\n",
       "    }\n",
       "\n",
       "    .dataframe tbody tr th {\n",
       "        vertical-align: top;\n",
       "    }\n",
       "\n",
       "    .dataframe thead th {\n",
       "        text-align: right;\n",
       "    }\n",
       "</style>\n",
       "<table border=\"1\" class=\"dataframe\">\n",
       "  <thead>\n",
       "    <tr style=\"text-align: right;\">\n",
       "      <th></th>\n",
       "      <th>Metadata_Source</th>\n",
       "      <th>Metadata_Batch</th>\n",
       "      <th>Metadata_Plate</th>\n",
       "      <th>Metadata_Well</th>\n",
       "      <th>Metadata_JCP2022</th>\n",
       "      <th>Metadata_TPSA</th>\n",
       "      <th>Metadata_lnTPSA</th>\n",
       "      <th>Metadata_log10TPSA</th>\n",
       "      <th>Cells_AreaShape_Area</th>\n",
       "      <th>Cells_AreaShape_BoundingBoxArea</th>\n",
       "      <th>...</th>\n",
       "      <th>Nuclei_Texture_Variance_RNA_10_02_256</th>\n",
       "      <th>Nuclei_Texture_Variance_RNA_10_03_256</th>\n",
       "      <th>Nuclei_Texture_Variance_RNA_3_00_256</th>\n",
       "      <th>Nuclei_Texture_Variance_RNA_3_01_256</th>\n",
       "      <th>Nuclei_Texture_Variance_RNA_3_02_256</th>\n",
       "      <th>Nuclei_Texture_Variance_RNA_3_03_256</th>\n",
       "      <th>Nuclei_Texture_Variance_RNA_5_00_256</th>\n",
       "      <th>Nuclei_Texture_Variance_RNA_5_01_256</th>\n",
       "      <th>Nuclei_Texture_Variance_RNA_5_02_256</th>\n",
       "      <th>Nuclei_Texture_Variance_RNA_5_03_256</th>\n",
       "    </tr>\n",
       "  </thead>\n",
       "  <tbody>\n",
       "    <tr>\n",
       "      <th>0</th>\n",
       "      <td>source_1</td>\n",
       "      <td>Batch1_20221004</td>\n",
       "      <td>UL001641</td>\n",
       "      <td>A07</td>\n",
       "      <td>JCP2022_088861</td>\n",
       "      <td>63.55</td>\n",
       "      <td>4.151827</td>\n",
       "      <td>1.803116</td>\n",
       "      <td>-0.090949</td>\n",
       "      <td>-0.089839</td>\n",
       "      <td>...</td>\n",
       "      <td>-0.063635</td>\n",
       "      <td>-0.090584</td>\n",
       "      <td>-0.080025</td>\n",
       "      <td>-0.068345</td>\n",
       "      <td>-0.069226</td>\n",
       "      <td>-0.063567</td>\n",
       "      <td>-0.072309</td>\n",
       "      <td>-0.047511</td>\n",
       "      <td>-0.064414</td>\n",
       "      <td>-0.061068</td>\n",
       "    </tr>\n",
       "    <tr>\n",
       "      <th>1</th>\n",
       "      <td>source_1</td>\n",
       "      <td>Batch1_20221004</td>\n",
       "      <td>UL001641</td>\n",
       "      <td>A12</td>\n",
       "      <td>JCP2022_050926</td>\n",
       "      <td>59.06</td>\n",
       "      <td>4.078554</td>\n",
       "      <td>1.771293</td>\n",
       "      <td>-0.104021</td>\n",
       "      <td>-0.109172</td>\n",
       "      <td>...</td>\n",
       "      <td>-0.264675</td>\n",
       "      <td>-0.299316</td>\n",
       "      <td>-0.272180</td>\n",
       "      <td>-0.263496</td>\n",
       "      <td>-0.258986</td>\n",
       "      <td>-0.256941</td>\n",
       "      <td>-0.263362</td>\n",
       "      <td>-0.257096</td>\n",
       "      <td>-0.255702</td>\n",
       "      <td>-0.251433</td>\n",
       "    </tr>\n",
       "    <tr>\n",
       "      <th>2</th>\n",
       "      <td>source_1</td>\n",
       "      <td>Batch1_20221004</td>\n",
       "      <td>UL001641</td>\n",
       "      <td>A12</td>\n",
       "      <td>JCP2022_050926</td>\n",
       "      <td>59.06</td>\n",
       "      <td>4.078554</td>\n",
       "      <td>1.771293</td>\n",
       "      <td>-0.104021</td>\n",
       "      <td>-0.109172</td>\n",
       "      <td>...</td>\n",
       "      <td>-0.264675</td>\n",
       "      <td>-0.299316</td>\n",
       "      <td>-0.272180</td>\n",
       "      <td>-0.263496</td>\n",
       "      <td>-0.258986</td>\n",
       "      <td>-0.256941</td>\n",
       "      <td>-0.263362</td>\n",
       "      <td>-0.257096</td>\n",
       "      <td>-0.255702</td>\n",
       "      <td>-0.251433</td>\n",
       "    </tr>\n",
       "    <tr>\n",
       "      <th>3</th>\n",
       "      <td>source_1</td>\n",
       "      <td>Batch1_20221004</td>\n",
       "      <td>UL001641</td>\n",
       "      <td>A13</td>\n",
       "      <td>JCP2022_042105</td>\n",
       "      <td>72.92</td>\n",
       "      <td>4.289363</td>\n",
       "      <td>1.862847</td>\n",
       "      <td>-0.071264</td>\n",
       "      <td>-0.070181</td>\n",
       "      <td>...</td>\n",
       "      <td>-0.112353</td>\n",
       "      <td>-0.127234</td>\n",
       "      <td>-0.094322</td>\n",
       "      <td>-0.092256</td>\n",
       "      <td>-0.096074</td>\n",
       "      <td>-0.085823</td>\n",
       "      <td>-0.097198</td>\n",
       "      <td>-0.099039</td>\n",
       "      <td>-0.099109</td>\n",
       "      <td>-0.093911</td>\n",
       "    </tr>\n",
       "    <tr>\n",
       "      <th>4</th>\n",
       "      <td>source_1</td>\n",
       "      <td>Batch1_20221004</td>\n",
       "      <td>UL001641</td>\n",
       "      <td>A13</td>\n",
       "      <td>JCP2022_042105</td>\n",
       "      <td>72.92</td>\n",
       "      <td>4.289363</td>\n",
       "      <td>1.862847</td>\n",
       "      <td>-0.071264</td>\n",
       "      <td>-0.070181</td>\n",
       "      <td>...</td>\n",
       "      <td>-0.112353</td>\n",
       "      <td>-0.127234</td>\n",
       "      <td>-0.094322</td>\n",
       "      <td>-0.092256</td>\n",
       "      <td>-0.096074</td>\n",
       "      <td>-0.085823</td>\n",
       "      <td>-0.097198</td>\n",
       "      <td>-0.099039</td>\n",
       "      <td>-0.099109</td>\n",
       "      <td>-0.093911</td>\n",
       "    </tr>\n",
       "  </tbody>\n",
       "</table>\n",
       "<p>5 rows × 3678 columns</p>\n",
       "</div>"
      ],
      "text/plain": [
       "  Metadata_Source   Metadata_Batch Metadata_Plate Metadata_Well Metadata_JCP2022  Metadata_TPSA  Metadata_lnTPSA  Metadata_log10TPSA  \\\n",
       "0        source_1  Batch1_20221004       UL001641           A07   JCP2022_088861          63.55         4.151827            1.803116   \n",
       "1        source_1  Batch1_20221004       UL001641           A12   JCP2022_050926          59.06         4.078554            1.771293   \n",
       "2        source_1  Batch1_20221004       UL001641           A12   JCP2022_050926          59.06         4.078554            1.771293   \n",
       "3        source_1  Batch1_20221004       UL001641           A13   JCP2022_042105          72.92         4.289363            1.862847   \n",
       "4        source_1  Batch1_20221004       UL001641           A13   JCP2022_042105          72.92         4.289363            1.862847   \n",
       "\n",
       "   Cells_AreaShape_Area  Cells_AreaShape_BoundingBoxArea  ...  Nuclei_Texture_Variance_RNA_10_02_256  \\\n",
       "0             -0.090949                        -0.089839  ...                              -0.063635   \n",
       "1             -0.104021                        -0.109172  ...                              -0.264675   \n",
       "2             -0.104021                        -0.109172  ...                              -0.264675   \n",
       "3             -0.071264                        -0.070181  ...                              -0.112353   \n",
       "4             -0.071264                        -0.070181  ...                              -0.112353   \n",
       "\n",
       "   Nuclei_Texture_Variance_RNA_10_03_256  Nuclei_Texture_Variance_RNA_3_00_256  Nuclei_Texture_Variance_RNA_3_01_256  \\\n",
       "0                              -0.090584                             -0.080025                             -0.068345   \n",
       "1                              -0.299316                             -0.272180                             -0.263496   \n",
       "2                              -0.299316                             -0.272180                             -0.263496   \n",
       "3                              -0.127234                             -0.094322                             -0.092256   \n",
       "4                              -0.127234                             -0.094322                             -0.092256   \n",
       "\n",
       "   Nuclei_Texture_Variance_RNA_3_02_256  Nuclei_Texture_Variance_RNA_3_03_256  Nuclei_Texture_Variance_RNA_5_00_256  \\\n",
       "0                             -0.069226                             -0.063567                             -0.072309   \n",
       "1                             -0.258986                             -0.256941                             -0.263362   \n",
       "2                             -0.258986                             -0.256941                             -0.263362   \n",
       "3                             -0.096074                             -0.085823                             -0.097198   \n",
       "4                             -0.096074                             -0.085823                             -0.097198   \n",
       "\n",
       "   Nuclei_Texture_Variance_RNA_5_01_256  Nuclei_Texture_Variance_RNA_5_02_256  Nuclei_Texture_Variance_RNA_5_03_256  \n",
       "0                             -0.047511                             -0.064414                             -0.061068  \n",
       "1                             -0.257096                             -0.255702                             -0.251433  \n",
       "2                             -0.257096                             -0.255702                             -0.251433  \n",
       "3                             -0.099039                             -0.099109                             -0.093911  \n",
       "4                             -0.099039                             -0.099109                             -0.093911  \n",
       "\n",
       "[5 rows x 3678 columns]"
      ]
     },
     "execution_count": 117,
     "metadata": {},
     "output_type": "execute_result"
    }
   ],
   "source": [
    "df_normalized.head(5)"
   ]
  },
  {
   "cell_type": "code",
   "execution_count": 95,
   "id": "8ca0ee89-d5b6-4ec0-95bf-9b44cb94464c",
   "metadata": {
    "execution": {
     "iopub.execute_input": "2023-11-29T20:16:35.717219Z",
     "iopub.status.busy": "2023-11-29T20:16:35.716728Z",
     "iopub.status.idle": "2023-11-29T20:16:35.732781Z",
     "shell.execute_reply": "2023-11-29T20:16:35.732141Z",
     "shell.execute_reply.started": "2023-11-29T20:16:35.717188Z"
    },
    "scrolled": true
   },
   "outputs": [],
   "source": [
    "# df_normalized[:10]\n",
    "# df_normalized.isna().any(axis=1)"
   ]
  },
  {
   "cell_type": "code",
   "execution_count": 664,
   "id": "18f7641c-598d-4da5-ae86-90d32d717f20",
   "metadata": {
    "execution": {
     "iopub.execute_input": "2023-11-30T16:50:44.084836Z",
     "iopub.status.busy": "2023-11-30T16:50:44.084583Z",
     "iopub.status.idle": "2023-11-30T16:50:44.100483Z",
     "shell.execute_reply": "2023-11-30T16:50:44.099843Z",
     "shell.execute_reply.started": "2023-11-30T16:50:44.084818Z"
    },
    "scrolled": true
   },
   "outputs": [],
   "source": [
    "# disp_stats(df_normalized, col_dict['Cells'][:20])"
   ]
  },
  {
   "cell_type": "code",
   "execution_count": 118,
   "id": "b5678160-b9d8-49bc-8e6e-42e730220ffc",
   "metadata": {
    "execution": {
     "iopub.execute_input": "2023-12-07T03:07:13.886001Z",
     "iopub.status.busy": "2023-12-07T03:07:13.885738Z",
     "iopub.status.idle": "2023-12-07T03:07:13.906458Z",
     "shell.execute_reply": "2023-12-07T03:07:13.905674Z",
     "shell.execute_reply.started": "2023-12-07T03:07:13.885984Z"
    }
   },
   "outputs": [
    {
     "name": "stdout",
     "output_type": "stream",
     "text": [
      "                                             :        min          max          std         mean       median                        quantile                     \n",
      "   0 Cells_AreaShape_Area                    :      -0.16        19.83         1.00         0.00        -0.07   [-0.15879352 -0.0842839  -0.07189441 -0.05749108 19.83427899]\n",
      "   1 Nuclei_Texture_Variance_RNA_10_03_256   :      -0.92        15.52         1.00         0.00        -0.11   [-0.92242735 -0.25618447 -0.11426124  0.04399626 15.52449938]\n"
     ]
    }
   ],
   "source": [
    "disp_stats(df_normalized, ['Cells_AreaShape_Area', 'Nuclei_Texture_Variance_RNA_10_03_256'])"
   ]
  },
  {
   "cell_type": "markdown",
   "id": "ad185bc0-e902-4b9c-b713-685edcbdf222",
   "metadata": {
    "jp-MarkdownHeadingCollapsed": true
   },
   "source": [
    "## Display and plot normalized columns"
   ]
  },
  {
   "cell_type": "code",
   "execution_count": 90,
   "id": "ece01d52-85d3-4cd3-a227-dc7f6e795aa4",
   "metadata": {
    "execution": {
     "iopub.execute_input": "2023-11-29T20:13:53.431250Z",
     "iopub.status.busy": "2023-11-29T20:13:53.430982Z",
     "iopub.status.idle": "2023-11-29T20:13:53.446893Z",
     "shell.execute_reply": "2023-11-29T20:13:53.446289Z",
     "shell.execute_reply.started": "2023-11-29T20:13:53.431230Z"
    }
   },
   "outputs": [],
   "source": [
    "# disp_stats(df_normalized_robust, ['Cells_AreaShape_Area', 'Nuclei_Texture_Variance_RNA_10_03_256'])\n",
    "# disp_stats(df_normalized_mad, ['Cells_AreaShape_Area', 'Nuclei_Texture_Variance_RNA_10_03_256'])\n",
    "# len(col_dict['Cells'])"
   ]
  },
  {
   "cell_type": "code",
   "execution_count": 31,
   "id": "77dd8532-86bb-4236-8e95-c2edfeb53d63",
   "metadata": {
    "execution": {
     "iopub.execute_input": "2023-11-28T18:56:28.026365Z",
     "iopub.status.busy": "2023-11-28T18:56:28.026102Z",
     "iopub.status.idle": "2023-11-28T18:56:29.144859Z",
     "shell.execute_reply": "2023-11-28T18:56:29.144131Z",
     "shell.execute_reply.started": "2023-11-28T18:56:28.026346Z"
    }
   },
   "outputs": [
    {
     "data": {
      "image/png": "[encoded data removed]"
     },
     "metadata": {},
     "output_type": "display_data"
    }
   ],
   "source": [
    "fig = px.box(df_normalized, y=cols_subset[:34], notched=True)\n",
    "fig.show()"
   ]
  },
  {
   "cell_type": "markdown",
   "id": "617d9612-abdf-4609-91ed-b0948d5b7bfc",
   "metadata": {
    "jp-MarkdownHeadingCollapsed": true
   },
   "source": [
    "# Read Normalized Compound/Profiles table"
   ]
  },
  {
   "cell_type": "code",
   "execution_count": 139,
   "id": "1e02c8a1-aa2e-41e2-ab39-842a4f942a01",
   "metadata": {
    "execution": {
     "iopub.execute_input": "2023-12-07T05:29:23.074281Z",
     "iopub.status.busy": "2023-12-07T05:29:23.073805Z",
     "iopub.status.idle": "2023-12-07T05:29:23.090068Z",
     "shell.execute_reply": "2023-12-07T05:29:23.089418Z",
     "shell.execute_reply.started": "2023-12-07T05:29:23.074259Z"
    }
   },
   "outputs": [
    {
     "name": "stdout",
     "output_type": "stream",
     "text": [
      " Read from ./output_11102023/compound_profiles_2samples.csv.bz2\n"
     ]
    }
   ],
   "source": [
    "profilesFile = CompoundProfiles2SampleFileCSV +'.'+ type_bz2\n",
    "# oldOutputFile ='./output_11102023/compound_profiles_2samples_old2.csv.bz2'\n",
    "# del df_profiles_list \n",
    "print(f\" Read from {profilesFile}\")\n",
    "nrows = 5000"
   ]
  },
  {
   "cell_type": "code",
   "execution_count": 45,
   "id": "a227b5fa-7f7f-4e36-8996-a7ffbfad6244",
   "metadata": {
    "execution": {
     "iopub.execute_input": "2023-12-01T20:21:15.122493Z",
     "iopub.status.busy": "2023-12-01T20:21:15.122218Z",
     "iopub.status.idle": "2023-12-01T20:22:09.562606Z",
     "shell.execute_reply": "2023-12-01T20:22:09.561729Z",
     "shell.execute_reply.started": "2023-12-01T20:21:15.122477Z"
    },
    "scrolled": true
   },
   "outputs": [
    {
     "data": {
      "text/plain": [
       "Index(['Metadata_JCP2022', 'Cells_AreaShape_Area'], dtype='object')"
      ]
     },
     "execution_count": 45,
     "metadata": {},
     "output_type": "execute_result"
    },
    {
     "data": {
      "text/plain": [
       "Metadata_JCP2022              JCP2022_002416\n",
       "Cells_AreaShape_Area    -0.10364100951446817\n",
       "Name: 0, dtype: object"
      ]
     },
     "execution_count": 45,
     "metadata": {},
     "output_type": "execute_result"
    },
    {
     "data": {
      "text/plain": [
       "36797"
      ]
     },
     "execution_count": 45,
     "metadata": {},
     "output_type": "execute_result"
    },
    {
     "data": {
      "text/plain": [
       "Index                     128\n",
       "Metadata_JCP2022        17752\n",
       "Cells_AreaShape_Area    18917\n",
       "dtype: int64"
      ]
     },
     "execution_count": 45,
     "metadata": {},
     "output_type": "execute_result"
    },
    {
     "data": {
      "text/html": [
       "<div>\n",
       "<style scoped>\n",
       "    .dataframe tbody tr th:only-of-type {\n",
       "        vertical-align: middle;\n",
       "    }\n",
       "\n",
       "    .dataframe tbody tr th {\n",
       "        vertical-align: top;\n",
       "    }\n",
       "\n",
       "    .dataframe thead th {\n",
       "        text-align: right;\n",
       "    }\n",
       "</style>\n",
       "<table border=\"1\" class=\"dataframe\">\n",
       "  <thead>\n",
       "    <tr style=\"text-align: right;\">\n",
       "      <th></th>\n",
       "      <th>Metadata_JCP2022</th>\n",
       "      <th>Cells_AreaShape_Area</th>\n",
       "    </tr>\n",
       "  </thead>\n",
       "  <tbody>\n",
       "    <tr>\n",
       "      <th>0</th>\n",
       "      <td>JCP2022_002416</td>\n",
       "      <td>-0.10364100951446817</td>\n",
       "    </tr>\n",
       "    <tr>\n",
       "      <th>1</th>\n",
       "      <td>JCP2022_067802</td>\n",
       "      <td>0.2909296155289947</td>\n",
       "    </tr>\n",
       "    <tr>\n",
       "      <th>2</th>\n",
       "      <td>JCP2022_080082</td>\n",
       "      <td>0.28737492521328745</td>\n",
       "    </tr>\n",
       "    <tr>\n",
       "      <th>3</th>\n",
       "      <td>Metadata_JCP2022</td>\n",
       "      <td>Cells_AreaShape_Area</td>\n",
       "    </tr>\n",
       "    <tr>\n",
       "      <th>4</th>\n",
       "      <td>JCP2022_066344</td>\n",
       "      <td>0.1530516045343132</td>\n",
       "    </tr>\n",
       "  </tbody>\n",
       "</table>\n",
       "</div>"
      ],
      "text/plain": [
       "   Metadata_JCP2022  Cells_AreaShape_Area\n",
       "0    JCP2022_002416  -0.10364100951446817\n",
       "1    JCP2022_067802    0.2909296155289947\n",
       "2    JCP2022_080082   0.28737492521328745\n",
       "3  Metadata_JCP2022  Cells_AreaShape_Area\n",
       "4    JCP2022_066344    0.1530516045343132"
      ]
     },
     "execution_count": 45,
     "metadata": {},
     "output_type": "execute_result"
    },
    {
     "name": "stdout",
     "output_type": "stream",
     "text": [
      "<class 'pandas.core.frame.DataFrame'>\n",
      "RangeIndex: 250 entries, 0 to 249\n",
      "Data columns (total 2 columns):\n",
      " #   Column                Non-Null Count  Dtype \n",
      "---  ------                --------------  ----- \n",
      " 0   Metadata_JCP2022      250 non-null    object\n",
      " 1   Cells_AreaShape_Area  250 non-null    object\n",
      "dtypes: object(2)\n",
      "memory usage: 4.0+ KB\n"
     ]
    }
   ],
   "source": [
    "df_profiles =  pd.read_csv(profilesFile, \n",
    "                           nrows = 20000,\n",
    "                           skiprows = 20000, \n",
    "                           header = 0, \n",
    "                           names = join_columns,\n",
    "                           dtype = conversionDict,\n",
    "                           usecols = ['Metadata_JCP2022','Cells_AreaShape_Area'])\n",
    "df_profiles.columns\n",
    "df_profiles.loc[0]\n",
    "df_profiles.memory_usage(deep=True).sum()\n",
    "df_profiles.memory_usage(deep=True)[:20]\n",
    "df_profiles.head(5)\n",
    "df_profiles.info(verbose=True)"
   ]
  },
  {
   "cell_type": "code",
   "execution_count": 142,
   "id": "ec95eb8c-7497-45b8-bbd1-1821e7e2dd73",
   "metadata": {
    "execution": {
     "iopub.execute_input": "2023-12-07T05:30:30.292182Z",
     "iopub.status.busy": "2023-12-07T05:30:30.291796Z",
     "iopub.status.idle": "2023-12-07T05:30:30.337317Z",
     "shell.execute_reply": "2023-12-07T05:30:30.336500Z",
     "shell.execute_reply.started": "2023-12-07T05:30:30.292151Z"
    },
    "scrolled": true
   },
   "outputs": [],
   "source": [
    "df_iter =  pd.read_csv(profilesFile, \n",
    "                       low_memory = True, \n",
    "                       chunksize= 15000,  \n",
    "                       # skiprows=30000, \n",
    "                       iterator = True, \n",
    "                       dtype = conversionDict,\n",
    "                       usecols = join_columns)"
   ]
  },
  {
   "cell_type": "code",
   "execution_count": 143,
   "id": "3b861504-46d3-41d9-80a9-07d09d1c04e9",
   "metadata": {
    "execution": {
     "iopub.execute_input": "2023-12-07T05:30:34.165790Z",
     "iopub.status.busy": "2023-12-07T05:30:34.165522Z",
     "iopub.status.idle": "2023-12-07T05:45:10.024459Z",
     "shell.execute_reply": "2023-12-07T05:45:10.023760Z",
     "shell.execute_reply.started": "2023-12-07T05:30:34.165772Z"
    },
    "scrolled": true
   },
   "outputs": [
    {
     "name": "stdout",
     "output_type": "stream",
     "text": [
      " Chunk 0   Starting index : 0   Ending Index 14999\n",
      " Number of rows 15000   Size of chunk read: 221,813,649 bytes\n",
      "\n",
      " Columns with invalid data from 3670 columns         min           max           std          mean        median                         quantile                     \n",
      " **** No Invalid Numeric Columns Found ****\n",
      "------------------------------------------------------------------------------------------------------------------------------------------------------ \n",
      "\n",
      " Chunk 1   Starting index : 15000   Ending Index 29999\n",
      " Number of rows 15000   Size of chunk read: 221,819,138 bytes\n",
      "\n",
      " Columns with invalid data from 3670 columns         min           max           std          mean        median                         quantile                     \n",
      " **** No Invalid Numeric Columns Found ****\n",
      "------------------------------------------------------------------------------------------------------------------------------------------------------ \n",
      "\n",
      " Chunk 2   Starting index : 30000   Ending Index 44999\n",
      " Number of rows 15000   Size of chunk read: 221,741,081 bytes\n",
      "\n",
      " Columns with invalid data from 3670 columns         min           max           std          mean        median                         quantile                     \n",
      " **** No Invalid Numeric Columns Found ****\n",
      "------------------------------------------------------------------------------------------------------------------------------------------------------ \n",
      "\n",
      " Chunk 3   Starting index : 45000   Ending Index 59999\n",
      " Number of rows 15000   Size of chunk read: 221,757,930 bytes\n",
      "\n",
      " Columns with invalid data from 3670 columns         min           max           std          mean        median                         quantile                     \n",
      " **** No Invalid Numeric Columns Found ****\n",
      "------------------------------------------------------------------------------------------------------------------------------------------------------ \n",
      "\n",
      " Chunk 4   Starting index : 60000   Ending Index 74999\n",
      " Number of rows 15000   Size of chunk read: 221,756,925 bytes\n",
      "\n",
      " Columns with invalid data from 3670 columns         min           max           std          mean        median                         quantile                     \n",
      " **** No Invalid Numeric Columns Found ****\n",
      "------------------------------------------------------------------------------------------------------------------------------------------------------ \n",
      "\n",
      " Chunk 5   Starting index : 75000   Ending Index 89999\n",
      " Number of rows 15000   Size of chunk read: 221,756,844 bytes\n",
      "\n",
      " Columns with invalid data from 3670 columns         min           max           std          mean        median                         quantile                     \n",
      " **** No Invalid Numeric Columns Found ****\n",
      "------------------------------------------------------------------------------------------------------------------------------------------------------ \n",
      "\n",
      " Chunk 6   Starting index : 90000   Ending Index 104999\n",
      " Number of rows 15000   Size of chunk read: 221,757,297 bytes\n",
      "\n",
      " Columns with invalid data from 3670 columns         min           max           std          mean        median                         quantile                     \n",
      " **** No Invalid Numeric Columns Found ****\n",
      "------------------------------------------------------------------------------------------------------------------------------------------------------ \n",
      "\n",
      " Chunk 7   Starting index : 105000   Ending Index 119999\n",
      " Number of rows 15000   Size of chunk read: 221,740,088 bytes\n",
      "\n",
      " Columns with invalid data from 3670 columns         min           max           std          mean        median                         quantile                     \n",
      " **** No Invalid Numeric Columns Found ****\n",
      "------------------------------------------------------------------------------------------------------------------------------------------------------ \n",
      "\n",
      " Chunk 8   Starting index : 120000   Ending Index 134999\n",
      " Number of rows 15000   Size of chunk read: 221,763,187 bytes\n",
      "\n",
      " Columns with invalid data from 3670 columns         min           max           std          mean        median                         quantile                     \n",
      " **** No Invalid Numeric Columns Found ****\n",
      "------------------------------------------------------------------------------------------------------------------------------------------------------ \n",
      "\n",
      " Chunk 9   Starting index : 135000   Ending Index 149999\n",
      " Number of rows 15000   Size of chunk read: 221,742,017 bytes\n",
      "\n",
      " Columns with invalid data from 3670 columns         min           max           std          mean        median                         quantile                     \n",
      " **** No Invalid Numeric Columns Found ****\n",
      "------------------------------------------------------------------------------------------------------------------------------------------------------ \n",
      "\n",
      " Chunk 10   Starting index : 150000   Ending Index 164999\n",
      " Number of rows 15000   Size of chunk read: 221,757,454 bytes\n",
      "\n",
      " Columns with invalid data from 3670 columns         min           max           std          mean        median                         quantile                     \n",
      " **** No Invalid Numeric Columns Found ****\n",
      "------------------------------------------------------------------------------------------------------------------------------------------------------ \n",
      "\n",
      " Chunk 11   Starting index : 165000   Ending Index 179999\n",
      " Number of rows 15000   Size of chunk read: 221,758,079 bytes\n",
      "\n",
      " Columns with invalid data from 3670 columns         min           max           std          mean        median                         quantile                     \n",
      " **** No Invalid Numeric Columns Found ****\n",
      "------------------------------------------------------------------------------------------------------------------------------------------------------ \n",
      "\n",
      " Chunk 12   Starting index : 180000   Ending Index 194999\n",
      " Number of rows 15000   Size of chunk read: 221,755,401 bytes\n",
      "\n",
      " Columns with invalid data from 3670 columns         min           max           std          mean        median                         quantile                     \n",
      " **** No Invalid Numeric Columns Found ****\n",
      "------------------------------------------------------------------------------------------------------------------------------------------------------ \n",
      "\n",
      " Chunk 13   Starting index : 195000   Ending Index 209999\n",
      " Number of rows 15000   Size of chunk read: 221,816,787 bytes\n",
      "\n",
      " Columns with invalid data from 3670 columns         min           max           std          mean        median                         quantile                     \n",
      " **** No Invalid Numeric Columns Found ****\n",
      "------------------------------------------------------------------------------------------------------------------------------------------------------ \n",
      "\n",
      " Chunk 14   Starting index : 210000   Ending Index 224999\n",
      " Number of rows 15000   Size of chunk read: 221,815,046 bytes\n",
      "\n",
      " Columns with invalid data from 3670 columns         min           max           std          mean        median                         quantile                     \n",
      " **** No Invalid Numeric Columns Found ****\n",
      "------------------------------------------------------------------------------------------------------------------------------------------------------ \n",
      "\n",
      " Chunk 15   Starting index : 225000   Ending Index 231341\n",
      " Number of rows 6342   Size of chunk read: 93,847,040 bytes\n",
      "\n",
      " Columns with invalid data from 3670 columns         min           max           std          mean        median                         quantile                     \n",
      " **** No Invalid Numeric Columns Found ****\n",
      "------------------------------------------------------------------------------------------------------------------------------------------------------ \n",
      "\n"
     ]
    }
   ],
   "source": [
    "for i, df_profiles in enumerate(df_iter):\n",
    "    print(f\" Chunk {i}   Starting index : {df_profiles.index[0]}   Ending Index {df_profiles.index[-1]}\")\n",
    "    print(f\" Number of rows {df_profiles.shape[0]}   Size of chunk read: {df_profiles.memory_usage(deep=True).sum():,d} bytes\")\n",
    "    inv_cols = check_values(df_profiles,  numeric_columns)\n",
    "    print(\"-\"*150,'\\n')\n",
    "    # if i >= 0 :\n",
    "    #     break"
   ]
  },
  {
   "cell_type": "code",
   "execution_count": 144,
   "id": "1f2e6888-b48b-40a4-a6d6-db3a7f762fd0",
   "metadata": {
    "execution": {
     "iopub.execute_input": "2023-12-07T05:45:10.025940Z",
     "iopub.status.busy": "2023-12-07T05:45:10.025579Z",
     "iopub.status.idle": "2023-12-07T05:45:10.042755Z",
     "shell.execute_reply": "2023-12-07T05:45:10.041813Z",
     "shell.execute_reply.started": "2023-12-07T05:45:10.025920Z"
    }
   },
   "outputs": [],
   "source": [
    "# df_profiles.shape\n",
    "# df_profiles.head(2)\n",
    "# df_profiles.tail(2)\n",
    "# df_profiles.info()\n",
    "# print(f\" Chunk {i}   Starting index : {df_profiles.index[0]}   Ending Index {df_profiles.index[-1]}\")\n",
    "# print(f\" Number of rows {df_profiles.shape[0]}   Size of chunk read: {df_profiles.memory_usage(deep=True).sum():,} bytes\")\n",
    "# df_profiles.index[0], df_profiles.index[-1]\n",
    "# # inv_cols = check_values(df_profiles,  numeric_columns)"
   ]
  },
  {
   "cell_type": "code",
   "execution_count": 145,
   "id": "f59dad37-a469-4f4b-95f9-b653372b0a1e",
   "metadata": {
    "execution": {
     "iopub.execute_input": "2023-12-07T05:45:10.044700Z",
     "iopub.status.busy": "2023-12-07T05:45:10.043767Z",
     "iopub.status.idle": "2023-12-07T05:45:10.064489Z",
     "shell.execute_reply": "2023-12-07T05:45:10.063399Z",
     "shell.execute_reply.started": "2023-12-07T05:45:10.044662Z"
    }
   },
   "outputs": [],
   "source": [
    "# del df_profiles"
   ]
  },
  {
   "cell_type": "code",
   "execution_count": 146,
   "id": "480d87e0-3131-47a6-911b-69bbae3e357c",
   "metadata": {
    "execution": {
     "iopub.execute_input": "2023-12-07T05:45:10.155402Z",
     "iopub.status.busy": "2023-12-07T05:45:10.155111Z",
     "iopub.status.idle": "2023-12-07T05:45:10.186093Z",
     "shell.execute_reply": "2023-12-07T05:45:10.184553Z",
     "shell.execute_reply.started": "2023-12-07T05:45:10.155376Z"
    }
   },
   "outputs": [],
   "source": [
    "# cols = cat_columns(df_profiles)"
   ]
  },
  {
   "cell_type": "markdown",
   "id": "ed2cb019-7511-4068-9314-daf0e9688461",
   "metadata": {
    "jp-MarkdownHeadingCollapsed": true
   },
   "source": [
    "# Get Plate Level Stats"
   ]
  },
  {
   "cell_type": "code",
   "execution_count": 206,
   "id": "aa8ae4b0-ad41-4487-9d97-698d398f4753",
   "metadata": {
    "execution": {
     "iopub.execute_input": "2023-11-15T22:17:04.828048Z",
     "iopub.status.busy": "2023-11-15T22:17:04.827831Z",
     "iopub.status.idle": "2023-11-15T22:17:04.839065Z",
     "shell.execute_reply": "2023-11-15T22:17:04.838445Z",
     "shell.execute_reply.started": "2023-11-15T22:17:04.828033Z"
    }
   },
   "outputs": [],
   "source": [
    "def get_stats(df_stats, df_data):\n",
    "    df_data_cols = df_data.columns.tolist()\n",
    "    print(df_data_cols[:10])\n",
    "    if len(df_stats.columns) == 0 :\n",
    "        print(f\" length of df_stats.columns: {len(df_stats.columns)}\")\n",
    "        df_stats = pd.DataFrame(columns = [\"Stat\"]+(df_data.columns.tolist()) ) \n",
    "        df_stats_cols = df_stats.columns.tolist()\n",
    "        print(df_stats_cols[:10])\n",
    "    col_data = [df_data.iloc[0,0], df_data.iloc[0,1], \"All wells\"]\n",
    "    print(col_data)\n",
    "    df_stats.loc[len(df_stats)] = [\"Minimum\"] + col_data + df_data.min(0).tolist()[5:] \n",
    "    df_stats.loc[len(df_stats)] = [\"Maximum\"] + col_data + df_data.max(0).tolist()[5:] \n",
    "    # df_stats.loc[len(df_stats)] = [\"Mean\"]    + col_data + df_data.mean(0, numeric_only=True).tolist()[5:] \n",
    "    # df_stats.loc[len(df_stats)] = [\"Median\"]  + col_data + df_data.median(0, numeric_only=True).tolist()[5:] \n",
    "    print(type(df_stats), len(df_stats))\n",
    "    return df_stats\n",
    "\n"
   ]
  },
  {
   "cell_type": "code",
   "execution_count": 207,
   "id": "aa8d0bfb-29fb-4531-a6c6-7f7f1e1041a4",
   "metadata": {
    "execution": {
     "iopub.execute_input": "2023-11-15T22:17:06.451379Z",
     "iopub.status.busy": "2023-11-15T22:17:06.451168Z",
     "iopub.status.idle": "2023-11-15T22:17:06.820718Z",
     "shell.execute_reply": "2023-11-15T22:17:06.819768Z",
     "shell.execute_reply.started": "2023-11-15T22:17:06.451364Z"
    }
   },
   "outputs": [
    {
     "name": "stdout",
     "output_type": "stream",
     "text": [
      "['Metadata_Source', 'Metadata_Batch', 'Metadata_Plate', 'Metadata_Well', 'Metadata_JCP2022', 'Cells_AreaShape_Area', 'Cells_AreaShape_BoundingBoxArea', 'Cells_AreaShape_BoundingBoxMaximum_X', 'Cells_AreaShape_BoundingBoxMaximum_Y', 'Cells_AreaShape_BoundingBoxMinimum_X']\n",
      " length of df_stats.columns: 0\n",
      "['Stat', 'Metadata_Source', 'Metadata_Batch', 'Metadata_Plate', 'Metadata_Well', 'Metadata_JCP2022', 'Cells_AreaShape_Area', 'Cells_AreaShape_BoundingBoxArea', 'Cells_AreaShape_BoundingBoxMaximum_X', 'Cells_AreaShape_BoundingBoxMaximum_Y']\n",
      "['source_1', 'Batch1_20221004', 'All wells']\n"
     ]
    },
    {
     "ename": "ValueError",
     "evalue": "cannot set a row with mismatched columns",
     "output_type": "error",
     "traceback": [
      "\u001b[0;31m---------------------------------------------------------------------------\u001b[0m",
      "\u001b[0;31mValueError\u001b[0m                                Traceback (most recent call last)",
      "Cell \u001b[0;32mIn[207], line 4\u001b[0m\n\u001b[1;32m      1\u001b[0m \u001b[38;5;28;01mdel\u001b[39;00m stats\n\u001b[1;32m      3\u001b[0m stats \u001b[38;5;241m=\u001b[39m pd\u001b[38;5;241m.\u001b[39mDataFrame()\n\u001b[0;32m----> 4\u001b[0m stats \u001b[38;5;241m=\u001b[39m \u001b[43mget_stats\u001b[49m\u001b[43m(\u001b[49m\u001b[43mstats\u001b[49m\u001b[43m,\u001b[49m\u001b[43m \u001b[49m\u001b[43mdf_profiles\u001b[49m\u001b[43m)\u001b[49m\n",
      "Cell \u001b[0;32mIn[206], line 11\u001b[0m, in \u001b[0;36mget_stats\u001b[0;34m(df_stats, df_data)\u001b[0m\n\u001b[1;32m      9\u001b[0m col_data \u001b[38;5;241m=\u001b[39m [df_data\u001b[38;5;241m.\u001b[39miloc[\u001b[38;5;241m0\u001b[39m,\u001b[38;5;241m0\u001b[39m], df_data\u001b[38;5;241m.\u001b[39miloc[\u001b[38;5;241m0\u001b[39m,\u001b[38;5;241m1\u001b[39m], \u001b[38;5;124m\"\u001b[39m\u001b[38;5;124mAll wells\u001b[39m\u001b[38;5;124m\"\u001b[39m]\n\u001b[1;32m     10\u001b[0m \u001b[38;5;28mprint\u001b[39m(col_data)\n\u001b[0;32m---> 11\u001b[0m \u001b[43mdf_stats\u001b[49m\u001b[38;5;241;43m.\u001b[39;49m\u001b[43mloc\u001b[49m\u001b[43m[\u001b[49m\u001b[38;5;28;43mlen\u001b[39;49m\u001b[43m(\u001b[49m\u001b[43mdf_stats\u001b[49m\u001b[43m)\u001b[49m\u001b[43m]\u001b[49m \u001b[38;5;241m=\u001b[39m [\u001b[38;5;124m\"\u001b[39m\u001b[38;5;124mMinimum\u001b[39m\u001b[38;5;124m\"\u001b[39m] \u001b[38;5;241m+\u001b[39m col_data \u001b[38;5;241m+\u001b[39m df_data\u001b[38;5;241m.\u001b[39mmin(\u001b[38;5;241m0\u001b[39m)\u001b[38;5;241m.\u001b[39mtolist()[\u001b[38;5;241m5\u001b[39m:] \n\u001b[1;32m     12\u001b[0m df_stats\u001b[38;5;241m.\u001b[39mloc[\u001b[38;5;28mlen\u001b[39m(df_stats)] \u001b[38;5;241m=\u001b[39m [\u001b[38;5;124m\"\u001b[39m\u001b[38;5;124mMaximum\u001b[39m\u001b[38;5;124m\"\u001b[39m] \u001b[38;5;241m+\u001b[39m col_data \u001b[38;5;241m+\u001b[39m df_data\u001b[38;5;241m.\u001b[39mmax(\u001b[38;5;241m0\u001b[39m)\u001b[38;5;241m.\u001b[39mtolist()[\u001b[38;5;241m5\u001b[39m:] \n\u001b[1;32m     13\u001b[0m \u001b[38;5;66;03m# df_stats.loc[len(df_stats)] = [\"Mean\"]    + col_data + df_data.mean(0, numeric_only=True).tolist()[5:] \u001b[39;00m\n\u001b[1;32m     14\u001b[0m \u001b[38;5;66;03m# df_stats.loc[len(df_stats)] = [\"Median\"]  + col_data + df_data.median(0, numeric_only=True).tolist()[5:] \u001b[39;00m\n",
      "File \u001b[0;32m~/miniconda3/envs/cellpainting/lib/python3.10/site-packages/pandas/core/indexing.py:818\u001b[0m, in \u001b[0;36m_LocationIndexer.__setitem__\u001b[0;34m(self, key, value)\u001b[0m\n\u001b[1;32m    815\u001b[0m \u001b[38;5;28mself\u001b[39m\u001b[38;5;241m.\u001b[39m_has_valid_setitem_indexer(key)\n\u001b[1;32m    817\u001b[0m iloc \u001b[38;5;241m=\u001b[39m \u001b[38;5;28mself\u001b[39m \u001b[38;5;28;01mif\u001b[39;00m \u001b[38;5;28mself\u001b[39m\u001b[38;5;241m.\u001b[39mname \u001b[38;5;241m==\u001b[39m \u001b[38;5;124m\"\u001b[39m\u001b[38;5;124miloc\u001b[39m\u001b[38;5;124m\"\u001b[39m \u001b[38;5;28;01melse\u001b[39;00m \u001b[38;5;28mself\u001b[39m\u001b[38;5;241m.\u001b[39mobj\u001b[38;5;241m.\u001b[39miloc\n\u001b[0;32m--> 818\u001b[0m \u001b[43miloc\u001b[49m\u001b[38;5;241;43m.\u001b[39;49m\u001b[43m_setitem_with_indexer\u001b[49m\u001b[43m(\u001b[49m\u001b[43mindexer\u001b[49m\u001b[43m,\u001b[49m\u001b[43m \u001b[49m\u001b[43mvalue\u001b[49m\u001b[43m,\u001b[49m\u001b[43m \u001b[49m\u001b[38;5;28;43mself\u001b[39;49m\u001b[38;5;241;43m.\u001b[39;49m\u001b[43mname\u001b[49m\u001b[43m)\u001b[49m\n",
      "File \u001b[0;32m~/miniconda3/envs/cellpainting/lib/python3.10/site-packages/pandas/core/indexing.py:1785\u001b[0m, in \u001b[0;36m_iLocIndexer._setitem_with_indexer\u001b[0;34m(self, indexer, value, name)\u001b[0m\n\u001b[1;32m   1782\u001b[0m     indexer, missing \u001b[38;5;241m=\u001b[39m convert_missing_indexer(indexer)\n\u001b[1;32m   1784\u001b[0m     \u001b[38;5;28;01mif\u001b[39;00m missing:\n\u001b[0;32m-> 1785\u001b[0m         \u001b[38;5;28;43mself\u001b[39;49m\u001b[38;5;241;43m.\u001b[39;49m\u001b[43m_setitem_with_indexer_missing\u001b[49m\u001b[43m(\u001b[49m\u001b[43mindexer\u001b[49m\u001b[43m,\u001b[49m\u001b[43m \u001b[49m\u001b[43mvalue\u001b[49m\u001b[43m)\u001b[49m\n\u001b[1;32m   1786\u001b[0m         \u001b[38;5;28;01mreturn\u001b[39;00m\n\u001b[1;32m   1788\u001b[0m \u001b[38;5;28;01mif\u001b[39;00m name \u001b[38;5;241m==\u001b[39m \u001b[38;5;124m\"\u001b[39m\u001b[38;5;124mloc\u001b[39m\u001b[38;5;124m\"\u001b[39m:\n\u001b[1;32m   1789\u001b[0m     \u001b[38;5;66;03m# must come after setting of missing\u001b[39;00m\n",
      "File \u001b[0;32m~/miniconda3/envs/cellpainting/lib/python3.10/site-packages/pandas/core/indexing.py:2160\u001b[0m, in \u001b[0;36m_iLocIndexer._setitem_with_indexer_missing\u001b[0;34m(self, indexer, value)\u001b[0m\n\u001b[1;32m   2157\u001b[0m     \u001b[38;5;28;01mif\u001b[39;00m is_list_like_indexer(value):\n\u001b[1;32m   2158\u001b[0m         \u001b[38;5;66;03m# must have conforming columns\u001b[39;00m\n\u001b[1;32m   2159\u001b[0m         \u001b[38;5;28;01mif\u001b[39;00m \u001b[38;5;28mlen\u001b[39m(value) \u001b[38;5;241m!=\u001b[39m \u001b[38;5;28mlen\u001b[39m(\u001b[38;5;28mself\u001b[39m\u001b[38;5;241m.\u001b[39mobj\u001b[38;5;241m.\u001b[39mcolumns):\n\u001b[0;32m-> 2160\u001b[0m             \u001b[38;5;28;01mraise\u001b[39;00m \u001b[38;5;167;01mValueError\u001b[39;00m(\u001b[38;5;124m\"\u001b[39m\u001b[38;5;124mcannot set a row with mismatched columns\u001b[39m\u001b[38;5;124m\"\u001b[39m)\n\u001b[1;32m   2162\u001b[0m     value \u001b[38;5;241m=\u001b[39m Series(value, index\u001b[38;5;241m=\u001b[39m\u001b[38;5;28mself\u001b[39m\u001b[38;5;241m.\u001b[39mobj\u001b[38;5;241m.\u001b[39mcolumns, name\u001b[38;5;241m=\u001b[39mindexer)\n\u001b[1;32m   2164\u001b[0m \u001b[38;5;28;01mif\u001b[39;00m \u001b[38;5;129;01mnot\u001b[39;00m \u001b[38;5;28mlen\u001b[39m(\u001b[38;5;28mself\u001b[39m\u001b[38;5;241m.\u001b[39mobj):\n\u001b[1;32m   2165\u001b[0m     \u001b[38;5;66;03m# We will ignore the existing dtypes instead of using\u001b[39;00m\n\u001b[1;32m   2166\u001b[0m     \u001b[38;5;66;03m#  internals.concat logic\u001b[39;00m\n",
      "\u001b[0;31mValueError\u001b[0m: cannot set a row with mismatched columns"
     ]
    }
   ],
   "source": [
    "del stats\n",
    "stats = pd.DataFrame()\n",
    "stats = get_stats(stats, df_profiles)"
   ]
  },
  {
   "cell_type": "code",
   "execution_count": 198,
   "id": "fafe34d3-a295-4621-b812-9bc0aac08e07",
   "metadata": {
    "execution": {
     "iopub.execute_input": "2023-11-15T22:09:23.739073Z",
     "iopub.status.busy": "2023-11-15T22:09:23.738841Z",
     "iopub.status.idle": "2023-11-15T22:09:23.767386Z",
     "shell.execute_reply": "2023-11-15T22:09:23.766802Z",
     "shell.execute_reply.started": "2023-11-15T22:09:23.739059Z"
    }
   },
   "outputs": [
    {
     "name": "stdout",
     "output_type": "stream",
     "text": [
      "<class 'pandas.core.frame.DataFrame'> 2\n"
     ]
    },
    {
     "data": {
      "text/html": [
       "<div>\n",
       "<style scoped>\n",
       "    .dataframe tbody tr th:only-of-type {\n",
       "        vertical-align: middle;\n",
       "    }\n",
       "\n",
       "    .dataframe tbody tr th {\n",
       "        vertical-align: top;\n",
       "    }\n",
       "\n",
       "    .dataframe thead th {\n",
       "        text-align: right;\n",
       "    }\n",
       "</style>\n",
       "<table border=\"1\" class=\"dataframe\">\n",
       "  <thead>\n",
       "    <tr style=\"text-align: right;\">\n",
       "      <th></th>\n",
       "      <th>Stat</th>\n",
       "      <th>Metadata_Source</th>\n",
       "      <th>Metadata_Batch</th>\n",
       "      <th>Metadata_Plate</th>\n",
       "      <th>Metadata_Well</th>\n",
       "      <th>Metadata_JCP2022</th>\n",
       "      <th>Cells_AreaShape_Area</th>\n",
       "      <th>Cells_AreaShape_BoundingBoxArea</th>\n",
       "      <th>Cells_AreaShape_BoundingBoxMaximum_X</th>\n",
       "      <th>Cells_AreaShape_BoundingBoxMaximum_Y</th>\n",
       "      <th>...</th>\n",
       "      <th>Nuclei_Texture_Variance_RNA_10_02_256</th>\n",
       "      <th>Nuclei_Texture_Variance_RNA_10_03_256</th>\n",
       "      <th>Nuclei_Texture_Variance_RNA_3_00_256</th>\n",
       "      <th>Nuclei_Texture_Variance_RNA_3_01_256</th>\n",
       "      <th>Nuclei_Texture_Variance_RNA_3_02_256</th>\n",
       "      <th>Nuclei_Texture_Variance_RNA_3_03_256</th>\n",
       "      <th>Nuclei_Texture_Variance_RNA_5_00_256</th>\n",
       "      <th>Nuclei_Texture_Variance_RNA_5_01_256</th>\n",
       "      <th>Nuclei_Texture_Variance_RNA_5_02_256</th>\n",
       "      <th>Nuclei_Texture_Variance_RNA_5_03_256</th>\n",
       "    </tr>\n",
       "  </thead>\n",
       "  <tbody>\n",
       "    <tr>\n",
       "      <th>0</th>\n",
       "      <td>Minimum</td>\n",
       "      <td>source_1</td>\n",
       "      <td>Batch1_20221004</td>\n",
       "      <td>All wells</td>\n",
       "      <td>A05</td>\n",
       "      <td>JCP2022_000009</td>\n",
       "      <td>2382.7</td>\n",
       "      <td>4401.7</td>\n",
       "      <td>477.62</td>\n",
       "      <td>432.83</td>\n",
       "      <td>...</td>\n",
       "      <td>45.037</td>\n",
       "      <td>48.332</td>\n",
       "      <td>43.093</td>\n",
       "      <td>42.673</td>\n",
       "      <td>42.883</td>\n",
       "      <td>42.341</td>\n",
       "      <td>42.319</td>\n",
       "      <td>42.815</td>\n",
       "      <td>42.348</td>\n",
       "      <td>42.706</td>\n",
       "    </tr>\n",
       "    <tr>\n",
       "      <th>1</th>\n",
       "      <td>Maximum</td>\n",
       "      <td>source_1</td>\n",
       "      <td>Batch1_20221004</td>\n",
       "      <td>All wells</td>\n",
       "      <td>Z44</td>\n",
       "      <td>JCP2022_116745</td>\n",
       "      <td>1166200.0</td>\n",
       "      <td>1166400.0</td>\n",
       "      <td>1080.00</td>\n",
       "      <td>1080.00</td>\n",
       "      <td>...</td>\n",
       "      <td>1191.400</td>\n",
       "      <td>1096.900</td>\n",
       "      <td>1170.300</td>\n",
       "      <td>1078.200</td>\n",
       "      <td>1178.100</td>\n",
       "      <td>1150.200</td>\n",
       "      <td>1161.100</td>\n",
       "      <td>1164.400</td>\n",
       "      <td>1151.800</td>\n",
       "      <td>1089.700</td>\n",
       "    </tr>\n",
       "  </tbody>\n",
       "</table>\n",
       "<p>2 rows × 4768 columns</p>\n",
       "</div>"
      ],
      "text/plain": [
       "      Stat Metadata_Source   Metadata_Batch Metadata_Plate Metadata_Well Metadata_JCP2022  Cells_AreaShape_Area  \\\n",
       "0  Minimum        source_1  Batch1_20221004      All wells           A05   JCP2022_000009                2382.7   \n",
       "1  Maximum        source_1  Batch1_20221004      All wells           Z44   JCP2022_116745             1166200.0   \n",
       "\n",
       "   Cells_AreaShape_BoundingBoxArea  Cells_AreaShape_BoundingBoxMaximum_X  Cells_AreaShape_BoundingBoxMaximum_Y  ...  \\\n",
       "0                           4401.7                                477.62                                432.83  ...   \n",
       "1                        1166400.0                               1080.00                               1080.00  ...   \n",
       "\n",
       "   Nuclei_Texture_Variance_RNA_10_02_256  Nuclei_Texture_Variance_RNA_10_03_256  Nuclei_Texture_Variance_RNA_3_00_256  \\\n",
       "0                                 45.037                                 48.332                                43.093   \n",
       "1                               1191.400                               1096.900                              1170.300   \n",
       "\n",
       "   Nuclei_Texture_Variance_RNA_3_01_256  Nuclei_Texture_Variance_RNA_3_02_256  Nuclei_Texture_Variance_RNA_3_03_256  \\\n",
       "0                                42.673                                42.883                                42.341   \n",
       "1                              1078.200                              1178.100                              1150.200   \n",
       "\n",
       "   Nuclei_Texture_Variance_RNA_5_00_256  Nuclei_Texture_Variance_RNA_5_01_256  Nuclei_Texture_Variance_RNA_5_02_256  \\\n",
       "0                                42.319                                42.815                                42.348   \n",
       "1                              1161.100                              1164.400                              1151.800   \n",
       "\n",
       "   Nuclei_Texture_Variance_RNA_5_03_256  \n",
       "0                                42.706  \n",
       "1                              1089.700  \n",
       "\n",
       "[2 rows x 4768 columns]"
      ]
     },
     "execution_count": 198,
     "metadata": {},
     "output_type": "execute_result"
    }
   ],
   "source": [
    "print(type(stats), len(stats))\n",
    "stats"
   ]
  },
  {
   "cell_type": "code",
   "execution_count": 168,
   "id": "78037265",
   "metadata": {
    "ExecuteTime": {
     "end_time": "2023-06-27T18:08:46.481573Z",
     "start_time": "2023-06-27T18:08:46.463611Z"
    },
    "execution": {
     "iopub.execute_input": "2023-08-01T00:21:05.926332Z",
     "iopub.status.busy": "2023-08-01T00:21:05.925947Z",
     "iopub.status.idle": "2023-08-01T00:21:06.517686Z",
     "shell.execute_reply": "2023-08-01T00:21:06.517171Z",
     "shell.execute_reply.started": "2023-08-01T00:21:05.926312Z"
    },
    "scrolled": true
   },
   "outputs": [],
   "source": [
    "# for i in dframes.columns[:500]:\n",
    "#     print(f' {i}')\n",
    "# stats.columns.to_series().to_csv('./output/measurement_column_names.csv')\n",
    "stats.to_csv('./output/sample_statistics.csv')"
   ]
  },
  {
   "cell_type": "markdown",
   "id": "d5f4b16f",
   "metadata": {
    "jp-MarkdownHeadingCollapsed": true
   },
   "source": [
    "## Join features with Compound and Well metadata\n",
    "\n",
    "The profiles are annotated with only three columns of metadata (source, plate, well).\n",
    "\n",
    "Let's add more metadata!"
   ]
  },
  {
   "cell_type": "code",
   "execution_count": 80,
   "id": "f58cab74-e6f7-4496-b221-1a5832a4af15",
   "metadata": {
    "execution": {
     "iopub.execute_input": "2023-08-08T20:38:13.260100Z",
     "iopub.status.busy": "2023-08-08T20:38:13.259683Z",
     "iopub.status.idle": "2023-08-08T20:38:13.271469Z",
     "shell.execute_reply": "2023-08-08T20:38:13.270585Z",
     "shell.execute_reply.started": "2023-08-08T20:38:13.260080Z"
    }
   },
   "outputs": [],
   "source": [
    "# wells[(wells.Metadata_Source == \"source_3\") & (wells.Metadata_Plate == \"BR5874c3\") & (wells.Metadata_JCP2022 == \"JCP2022_999999\")][20:50]"
   ]
  },
  {
   "cell_type": "code",
   "execution_count": null,
   "id": "02605c1f-41d3-4911-b055-61e4fa18af0a",
   "metadata": {
    "ExecuteTime": {
     "end_time": "2023-06-23T19:10:04.288315Z",
     "start_time": "2023-06-23T19:10:03.912980Z"
    },
    "execution": {
     "iopub.execute_input": "2023-08-08T20:09:14.344176Z",
     "iopub.status.busy": "2023-08-08T20:09:14.343582Z",
     "iopub.status.idle": "2023-08-08T20:09:14.878223Z",
     "shell.execute_reply": "2023-08-08T20:09:14.877536Z",
     "shell.execute_reply.started": "2023-08-08T20:09:14.344152Z"
    }
   },
   "outputs": [],
   "source": [
    "metadata = wells.merge(plates, on=[\"Metadata_Source\", \"Metadata_Plate\"])"
   ]
  },
  {
   "cell_type": "code",
   "execution_count": 63,
   "id": "0e421673-69ed-4c64-93e5-636d9defc01e",
   "metadata": {
    "execution": {
     "iopub.execute_input": "2023-08-08T20:21:15.458153Z",
     "iopub.status.busy": "2023-08-08T20:21:15.457912Z",
     "iopub.status.idle": "2023-08-08T20:21:15.975595Z",
     "shell.execute_reply": "2023-08-08T20:21:15.974406Z",
     "shell.execute_reply.started": "2023-08-08T20:21:15.458137Z"
    }
   },
   "outputs": [
    {
     "name": "stdout",
     "output_type": "stream",
     "text": [
      "<class 'pandas.core.frame.DataFrame'>\n",
      "Int64Index: 1096074 entries, 0 to 1096073\n",
      "Data columns (total 6 columns):\n",
      " #   Column              Non-Null Count    Dtype \n",
      "---  ------              --------------    ----- \n",
      " 0   Metadata_Source     1096074 non-null  object\n",
      " 1   Metadata_Plate      1096074 non-null  object\n",
      " 2   Metadata_Well       1096074 non-null  object\n",
      " 3   Metadata_JCP2022    1096074 non-null  object\n",
      " 4   Metadata_Batch      1096074 non-null  object\n",
      " 5   Metadata_PlateType  1096074 non-null  object\n",
      "dtypes: object(6)\n",
      "memory usage: 58.5+ MB\n"
     ]
    },
    {
     "data": {
      "text/html": [
       "<div>\n",
       "<style scoped>\n",
       "    .dataframe tbody tr th:only-of-type {\n",
       "        vertical-align: middle;\n",
       "    }\n",
       "\n",
       "    .dataframe tbody tr th {\n",
       "        vertical-align: top;\n",
       "    }\n",
       "\n",
       "    .dataframe thead th {\n",
       "        text-align: right;\n",
       "    }\n",
       "</style>\n",
       "<table border=\"1\" class=\"dataframe\">\n",
       "  <thead>\n",
       "    <tr style=\"text-align: right;\">\n",
       "      <th></th>\n",
       "      <th>Metadata_Source</th>\n",
       "      <th>Metadata_Plate</th>\n",
       "      <th>Metadata_Well</th>\n",
       "      <th>Metadata_JCP2022</th>\n",
       "      <th>Metadata_Batch</th>\n",
       "      <th>Metadata_PlateType</th>\n",
       "    </tr>\n",
       "  </thead>\n",
       "  <tbody>\n",
       "    <tr>\n",
       "      <th>0</th>\n",
       "      <td>source_1</td>\n",
       "      <td>UL000081</td>\n",
       "      <td>A02</td>\n",
       "      <td>JCP2022_033924</td>\n",
       "      <td>Batch4_20221012</td>\n",
       "      <td>COMPOUND</td>\n",
       "    </tr>\n",
       "    <tr>\n",
       "      <th>1</th>\n",
       "      <td>source_1</td>\n",
       "      <td>UL000081</td>\n",
       "      <td>A03</td>\n",
       "      <td>JCP2022_085227</td>\n",
       "      <td>Batch4_20221012</td>\n",
       "      <td>COMPOUND</td>\n",
       "    </tr>\n",
       "    <tr>\n",
       "      <th>2</th>\n",
       "      <td>source_1</td>\n",
       "      <td>UL000081</td>\n",
       "      <td>A04</td>\n",
       "      <td>JCP2022_033924</td>\n",
       "      <td>Batch4_20221012</td>\n",
       "      <td>COMPOUND</td>\n",
       "    </tr>\n",
       "    <tr>\n",
       "      <th>3</th>\n",
       "      <td>source_1</td>\n",
       "      <td>UL000081</td>\n",
       "      <td>A05</td>\n",
       "      <td>JCP2022_047857</td>\n",
       "      <td>Batch4_20221012</td>\n",
       "      <td>COMPOUND</td>\n",
       "    </tr>\n",
       "    <tr>\n",
       "      <th>4</th>\n",
       "      <td>source_1</td>\n",
       "      <td>UL000081</td>\n",
       "      <td>A06</td>\n",
       "      <td>JCP2022_072229</td>\n",
       "      <td>Batch4_20221012</td>\n",
       "      <td>COMPOUND</td>\n",
       "    </tr>\n",
       "  </tbody>\n",
       "</table>\n",
       "</div>"
      ],
      "text/plain": [
       "  Metadata_Source Metadata_Plate Metadata_Well Metadata_JCP2022  \\\n",
       "0        source_1       UL000081           A02   JCP2022_033924   \n",
       "1        source_1       UL000081           A03   JCP2022_085227   \n",
       "2        source_1       UL000081           A04   JCP2022_033924   \n",
       "3        source_1       UL000081           A05   JCP2022_047857   \n",
       "4        source_1       UL000081           A06   JCP2022_072229   \n",
       "\n",
       "    Metadata_Batch Metadata_PlateType  \n",
       "0  Batch4_20221012           COMPOUND  \n",
       "1  Batch4_20221012           COMPOUND  \n",
       "2  Batch4_20221012           COMPOUND  \n",
       "3  Batch4_20221012           COMPOUND  \n",
       "4  Batch4_20221012           COMPOUND  "
      ]
     },
     "execution_count": 63,
     "metadata": {},
     "output_type": "execute_result"
    },
    {
     "data": {
      "text/plain": [
       "COMPOUND          832295\n",
       "ORF                96377\n",
       "TARGET2            64485\n",
       "CRISPR             56832\n",
       "DMSO               29566\n",
       "COMPOUND_EMPTY     11914\n",
       "POSCON8             3072\n",
       "TARGET1             1533\n",
       "Name: Metadata_PlateType, dtype: int64"
      ]
     },
     "execution_count": 63,
     "metadata": {},
     "output_type": "execute_result"
    },
    {
     "data": {
      "text/plain": [
       "JCP2022_033924    138936\n",
       "JCP2022_999999     37094\n",
       "JCP2022_050797      9732\n",
       "JCP2022_037716      9571\n",
       "JCP2022_012818      9544\n",
       "                   ...  \n",
       "JCP2022_074073         2\n",
       "JCP2022_022015         2\n",
       "JCP2022_005821         2\n",
       "JCP2022_082186         2\n",
       "JCP2022_090832         1\n",
       "Name: Metadata_JCP2022, Length: 115796, dtype: int64"
      ]
     },
     "execution_count": 63,
     "metadata": {},
     "output_type": "execute_result"
    }
   ],
   "source": [
    "metadata.info()\n",
    "metadata.head()\n",
    "metadata.Metadata_PlateType.value_counts()\n",
    "metadata2.Metadata_JCP2022.value_counts()"
   ]
  },
  {
   "cell_type": "code",
   "execution_count": 68,
   "id": "795148ab-d578-46b9-9e30-bd9f14af7bc2",
   "metadata": {
    "ExecuteTime": {
     "end_time": "2023-06-23T19:10:04.288315Z",
     "start_time": "2023-06-23T19:10:03.912980Z"
    },
    "execution": {
     "iopub.execute_input": "2023-08-08T20:24:56.278985Z",
     "iopub.status.busy": "2023-08-08T20:24:56.278717Z",
     "iopub.status.idle": "2023-08-08T20:24:57.109046Z",
     "shell.execute_reply": "2023-08-08T20:24:57.108047Z",
     "shell.execute_reply.started": "2023-08-08T20:24:56.278968Z"
    }
   },
   "outputs": [
    {
     "name": "stdout",
     "output_type": "stream",
     "text": [
      "<class 'pandas.core.frame.DataFrame'>\n",
      "Int64Index: 945604 entries, 0 to 945603\n",
      "Data columns (total 8 columns):\n",
      " #   Column              Non-Null Count   Dtype \n",
      "---  ------              --------------   ----- \n",
      " 0   Metadata_Source     945604 non-null  object\n",
      " 1   Metadata_Plate      945604 non-null  object\n",
      " 2   Metadata_Well       945604 non-null  object\n",
      " 3   Metadata_JCP2022    945604 non-null  object\n",
      " 4   Metadata_Batch      945604 non-null  object\n",
      " 5   Metadata_PlateType  945604 non-null  object\n",
      " 6   Metadata_InChIKey   908510 non-null  object\n",
      " 7   Metadata_InChI      908510 non-null  object\n",
      "dtypes: object(8)\n",
      "memory usage: 64.9+ MB\n"
     ]
    },
    {
     "data": {
      "text/html": [
       "<div>\n",
       "<style scoped>\n",
       "    .dataframe tbody tr th:only-of-type {\n",
       "        vertical-align: middle;\n",
       "    }\n",
       "\n",
       "    .dataframe tbody tr th {\n",
       "        vertical-align: top;\n",
       "    }\n",
       "\n",
       "    .dataframe thead th {\n",
       "        text-align: right;\n",
       "    }\n",
       "</style>\n",
       "<table border=\"1\" class=\"dataframe\">\n",
       "  <thead>\n",
       "    <tr style=\"text-align: right;\">\n",
       "      <th></th>\n",
       "      <th>Metadata_Source</th>\n",
       "      <th>Metadata_Plate</th>\n",
       "      <th>Metadata_Well</th>\n",
       "      <th>Metadata_JCP2022</th>\n",
       "      <th>Metadata_Batch</th>\n",
       "      <th>Metadata_PlateType</th>\n",
       "      <th>Metadata_InChIKey</th>\n",
       "      <th>Metadata_InChI</th>\n",
       "    </tr>\n",
       "  </thead>\n",
       "  <tbody>\n",
       "    <tr>\n",
       "      <th>0</th>\n",
       "      <td>source_1</td>\n",
       "      <td>UL000081</td>\n",
       "      <td>A02</td>\n",
       "      <td>JCP2022_033924</td>\n",
       "      <td>Batch4_20221012</td>\n",
       "      <td>COMPOUND</td>\n",
       "      <td>IAZDPXIOMUYVGZ-UHFFFAOYSA-N</td>\n",
       "      <td>InChI=1S/C2H6OS/c1-4(2)3/h1-2H3</td>\n",
       "    </tr>\n",
       "    <tr>\n",
       "      <th>1</th>\n",
       "      <td>source_1</td>\n",
       "      <td>UL000081</td>\n",
       "      <td>A04</td>\n",
       "      <td>JCP2022_033924</td>\n",
       "      <td>Batch4_20221012</td>\n",
       "      <td>COMPOUND</td>\n",
       "      <td>IAZDPXIOMUYVGZ-UHFFFAOYSA-N</td>\n",
       "      <td>InChI=1S/C2H6OS/c1-4(2)3/h1-2H3</td>\n",
       "    </tr>\n",
       "    <tr>\n",
       "      <th>2</th>\n",
       "      <td>source_1</td>\n",
       "      <td>UL000081</td>\n",
       "      <td>A45</td>\n",
       "      <td>JCP2022_033924</td>\n",
       "      <td>Batch4_20221012</td>\n",
       "      <td>COMPOUND</td>\n",
       "      <td>IAZDPXIOMUYVGZ-UHFFFAOYSA-N</td>\n",
       "      <td>InChI=1S/C2H6OS/c1-4(2)3/h1-2H3</td>\n",
       "    </tr>\n",
       "    <tr>\n",
       "      <th>3</th>\n",
       "      <td>source_1</td>\n",
       "      <td>UL000081</td>\n",
       "      <td>A47</td>\n",
       "      <td>JCP2022_033924</td>\n",
       "      <td>Batch4_20221012</td>\n",
       "      <td>COMPOUND</td>\n",
       "      <td>IAZDPXIOMUYVGZ-UHFFFAOYSA-N</td>\n",
       "      <td>InChI=1S/C2H6OS/c1-4(2)3/h1-2H3</td>\n",
       "    </tr>\n",
       "    <tr>\n",
       "      <th>4</th>\n",
       "      <td>source_1</td>\n",
       "      <td>UL000081</td>\n",
       "      <td>AA02</td>\n",
       "      <td>JCP2022_033924</td>\n",
       "      <td>Batch4_20221012</td>\n",
       "      <td>COMPOUND</td>\n",
       "      <td>IAZDPXIOMUYVGZ-UHFFFAOYSA-N</td>\n",
       "      <td>InChI=1S/C2H6OS/c1-4(2)3/h1-2H3</td>\n",
       "    </tr>\n",
       "  </tbody>\n",
       "</table>\n",
       "</div>"
      ],
      "text/plain": [
       "  Metadata_Source Metadata_Plate Metadata_Well Metadata_JCP2022  \\\n",
       "0        source_1       UL000081           A02   JCP2022_033924   \n",
       "1        source_1       UL000081           A04   JCP2022_033924   \n",
       "2        source_1       UL000081           A45   JCP2022_033924   \n",
       "3        source_1       UL000081           A47   JCP2022_033924   \n",
       "4        source_1       UL000081          AA02   JCP2022_033924   \n",
       "\n",
       "    Metadata_Batch Metadata_PlateType            Metadata_InChIKey  \\\n",
       "0  Batch4_20221012           COMPOUND  IAZDPXIOMUYVGZ-UHFFFAOYSA-N   \n",
       "1  Batch4_20221012           COMPOUND  IAZDPXIOMUYVGZ-UHFFFAOYSA-N   \n",
       "2  Batch4_20221012           COMPOUND  IAZDPXIOMUYVGZ-UHFFFAOYSA-N   \n",
       "3  Batch4_20221012           COMPOUND  IAZDPXIOMUYVGZ-UHFFFAOYSA-N   \n",
       "4  Batch4_20221012           COMPOUND  IAZDPXIOMUYVGZ-UHFFFAOYSA-N   \n",
       "\n",
       "                    Metadata_InChI  \n",
       "0  InChI=1S/C2H6OS/c1-4(2)3/h1-2H3  \n",
       "1  InChI=1S/C2H6OS/c1-4(2)3/h1-2H3  \n",
       "2  InChI=1S/C2H6OS/c1-4(2)3/h1-2H3  \n",
       "3  InChI=1S/C2H6OS/c1-4(2)3/h1-2H3  \n",
       "4  InChI=1S/C2H6OS/c1-4(2)3/h1-2H3  "
      ]
     },
     "execution_count": 68,
     "metadata": {},
     "output_type": "execute_result"
    },
    {
     "data": {
      "text/plain": [
       "COMPOUND          819716\n",
       "TARGET2            64485\n",
       "DMSO               29566\n",
       "COMPOUND_EMPTY     11914\n",
       "ORF                 9678\n",
       "CRISPR              5640\n",
       "POSCON8             3072\n",
       "TARGET1             1533\n",
       "Name: Metadata_PlateType, dtype: int64"
      ]
     },
     "execution_count": 68,
     "metadata": {},
     "output_type": "execute_result"
    },
    {
     "data": {
      "text/plain": [
       "JCP2022_033924    138936\n",
       "JCP2022_999999     37094\n",
       "JCP2022_050797      9732\n",
       "JCP2022_037716      9571\n",
       "JCP2022_012818      9544\n",
       "                   ...  \n",
       "JCP2022_074073         2\n",
       "JCP2022_022015         2\n",
       "JCP2022_005821         2\n",
       "JCP2022_082186         2\n",
       "JCP2022_090832         1\n",
       "Name: Metadata_JCP2022, Length: 115796, dtype: int64"
      ]
     },
     "execution_count": 68,
     "metadata": {},
     "output_type": "execute_result"
    }
   ],
   "source": [
    "metadata2 = metadata.merge(compound, on=\"Metadata_JCP2022\")\n",
    "metadata2.info()\n",
    "metadata2.head()\n",
    "metadata2.Metadata_PlateType.value_counts()\n",
    "metadata2.Metadata_JCP2022.value_counts()"
   ]
  },
  {
   "cell_type": "code",
   "execution_count": 99,
   "id": "991113a0-b98a-4bc3-afae-3270febfdd17",
   "metadata": {
    "execution": {
     "iopub.execute_input": "2023-08-08T20:47:31.349795Z",
     "iopub.status.busy": "2023-08-08T20:47:31.349566Z",
     "iopub.status.idle": "2023-08-08T20:47:31.409217Z",
     "shell.execute_reply": "2023-08-08T20:47:31.408620Z",
     "shell.execute_reply.started": "2023-08-08T20:47:31.349779Z"
    }
   },
   "outputs": [
    {
     "data": {
      "text/plain": [
       "37094"
      ]
     },
     "execution_count": 99,
     "metadata": {},
     "output_type": "execute_result"
    }
   ],
   "source": [
    "jcp_999999_idxs = metadata2[ metadata2.Metadata_JCP2022 == \"JCP2022_999999\"].index\n",
    "len(jcp_999999_idxs)"
   ]
  },
  {
   "cell_type": "code",
   "execution_count": 100,
   "id": "6831e6ae-43d8-4b77-89a0-6efc7812ef36",
   "metadata": {
    "execution": {
     "iopub.execute_input": "2023-08-08T20:47:31.928929Z",
     "iopub.status.busy": "2023-08-08T20:47:31.928683Z",
     "iopub.status.idle": "2023-08-08T20:47:31.995351Z",
     "shell.execute_reply": "2023-08-08T20:47:31.994387Z",
     "shell.execute_reply.started": "2023-08-08T20:47:31.928914Z"
    }
   },
   "outputs": [
    {
     "data": {
      "text/plain": [
       "138936"
      ]
     },
     "execution_count": 100,
     "metadata": {},
     "output_type": "execute_result"
    }
   ],
   "source": [
    "jcp_033924_idxs = metadata2[ metadata2.Metadata_JCP2022 == \"JCP2022_033924\"].index\n",
    "len(jcp_033924_idxs)"
   ]
  },
  {
   "cell_type": "code",
   "execution_count": 101,
   "id": "8269d008-49ad-4905-9d30-ab56cee2af70",
   "metadata": {
    "execution": {
     "iopub.execute_input": "2023-08-08T20:47:32.485050Z",
     "iopub.status.busy": "2023-08-08T20:47:32.484492Z",
     "iopub.status.idle": "2023-08-08T20:47:32.497362Z",
     "shell.execute_reply": "2023-08-08T20:47:32.496644Z",
     "shell.execute_reply.started": "2023-08-08T20:47:32.485024Z"
    }
   },
   "outputs": [
    {
     "data": {
      "text/plain": [
       "176030"
      ]
     },
     "execution_count": 101,
     "metadata": {},
     "output_type": "execute_result"
    }
   ],
   "source": [
    "# jcp_all_idxs = jcp_999999_idxs + jcp_033924_idx\n",
    "jcp_bad_idxs = pd.Index.append(jcp_999999_idxs,jcp_033924_idxs)\n",
    "len(jcp_bad_idxs)"
   ]
  },
  {
   "cell_type": "code",
   "execution_count": 102,
   "id": "6ce7b707-e2ce-4d88-a2a0-81c50c21cd07",
   "metadata": {
    "execution": {
     "iopub.execute_input": "2023-08-08T20:48:06.745393Z",
     "iopub.status.busy": "2023-08-08T20:48:06.745167Z",
     "iopub.status.idle": "2023-08-08T20:48:06.834335Z",
     "shell.execute_reply": "2023-08-08T20:48:06.833471Z",
     "shell.execute_reply.started": "2023-08-08T20:48:06.745377Z"
    }
   },
   "outputs": [],
   "source": [
    "metadata3 = metadata2.drop(jcp_bad_idxs)"
   ]
  },
  {
   "cell_type": "code",
   "execution_count": 104,
   "id": "efa89df2-0ab7-4f99-be85-9e27f9a85a6c",
   "metadata": {
    "execution": {
     "iopub.execute_input": "2023-08-08T20:48:30.402115Z",
     "iopub.status.busy": "2023-08-08T20:48:30.401843Z",
     "iopub.status.idle": "2023-08-08T20:48:30.886557Z",
     "shell.execute_reply": "2023-08-08T20:48:30.886007Z",
     "shell.execute_reply.started": "2023-08-08T20:48:30.402096Z"
    }
   },
   "outputs": [
    {
     "name": "stdout",
     "output_type": "stream",
     "text": [
      "<class 'pandas.core.frame.DataFrame'>\n",
      "Int64Index: 769574 entries, 138936 to 945603\n",
      "Data columns (total 8 columns):\n",
      " #   Column              Non-Null Count   Dtype \n",
      "---  ------              --------------   ----- \n",
      " 0   Metadata_Source     769574 non-null  object\n",
      " 1   Metadata_Plate      769574 non-null  object\n",
      " 2   Metadata_Well       769574 non-null  object\n",
      " 3   Metadata_JCP2022    769574 non-null  object\n",
      " 4   Metadata_Batch      769574 non-null  object\n",
      " 5   Metadata_PlateType  769574 non-null  object\n",
      " 6   Metadata_InChIKey   769574 non-null  object\n",
      " 7   Metadata_InChI      769574 non-null  object\n",
      "dtypes: object(8)\n",
      "memory usage: 52.8+ MB\n"
     ]
    },
    {
     "data": {
      "text/html": [
       "<div>\n",
       "<style scoped>\n",
       "    .dataframe tbody tr th:only-of-type {\n",
       "        vertical-align: middle;\n",
       "    }\n",
       "\n",
       "    .dataframe tbody tr th {\n",
       "        vertical-align: top;\n",
       "    }\n",
       "\n",
       "    .dataframe thead th {\n",
       "        text-align: right;\n",
       "    }\n",
       "</style>\n",
       "<table border=\"1\" class=\"dataframe\">\n",
       "  <thead>\n",
       "    <tr style=\"text-align: right;\">\n",
       "      <th></th>\n",
       "      <th>Metadata_Source</th>\n",
       "      <th>Metadata_Plate</th>\n",
       "      <th>Metadata_Well</th>\n",
       "      <th>Metadata_JCP2022</th>\n",
       "      <th>Metadata_Batch</th>\n",
       "      <th>Metadata_PlateType</th>\n",
       "      <th>Metadata_InChIKey</th>\n",
       "      <th>Metadata_InChI</th>\n",
       "    </tr>\n",
       "  </thead>\n",
       "  <tbody>\n",
       "    <tr>\n",
       "      <th>138936</th>\n",
       "      <td>source_1</td>\n",
       "      <td>UL000081</td>\n",
       "      <td>A03</td>\n",
       "      <td>JCP2022_085227</td>\n",
       "      <td>Batch4_20221012</td>\n",
       "      <td>COMPOUND</td>\n",
       "      <td>SRVFFFJZQVENJC-UHFFFAOYSA-N</td>\n",
       "      <td>InChI=1S/C17H30N2O5/c1-6-23-17(22)14-13(24-14)...</td>\n",
       "    </tr>\n",
       "    <tr>\n",
       "      <th>138937</th>\n",
       "      <td>source_1</td>\n",
       "      <td>UL000081</td>\n",
       "      <td>A46</td>\n",
       "      <td>JCP2022_085227</td>\n",
       "      <td>Batch4_20221012</td>\n",
       "      <td>COMPOUND</td>\n",
       "      <td>SRVFFFJZQVENJC-UHFFFAOYSA-N</td>\n",
       "      <td>InChI=1S/C17H30N2O5/c1-6-23-17(22)14-13(24-14)...</td>\n",
       "    </tr>\n",
       "    <tr>\n",
       "      <th>138938</th>\n",
       "      <td>source_1</td>\n",
       "      <td>UL000081</td>\n",
       "      <td>I03</td>\n",
       "      <td>JCP2022_085227</td>\n",
       "      <td>Batch4_20221012</td>\n",
       "      <td>COMPOUND</td>\n",
       "      <td>SRVFFFJZQVENJC-UHFFFAOYSA-N</td>\n",
       "      <td>InChI=1S/C17H30N2O5/c1-6-23-17(22)14-13(24-14)...</td>\n",
       "    </tr>\n",
       "    <tr>\n",
       "      <th>138939</th>\n",
       "      <td>source_1</td>\n",
       "      <td>UL000081</td>\n",
       "      <td>I46</td>\n",
       "      <td>JCP2022_085227</td>\n",
       "      <td>Batch4_20221012</td>\n",
       "      <td>COMPOUND</td>\n",
       "      <td>SRVFFFJZQVENJC-UHFFFAOYSA-N</td>\n",
       "      <td>InChI=1S/C17H30N2O5/c1-6-23-17(22)14-13(24-14)...</td>\n",
       "    </tr>\n",
       "    <tr>\n",
       "      <th>138940</th>\n",
       "      <td>source_1</td>\n",
       "      <td>UL000081</td>\n",
       "      <td>Q03</td>\n",
       "      <td>JCP2022_085227</td>\n",
       "      <td>Batch4_20221012</td>\n",
       "      <td>COMPOUND</td>\n",
       "      <td>SRVFFFJZQVENJC-UHFFFAOYSA-N</td>\n",
       "      <td>InChI=1S/C17H30N2O5/c1-6-23-17(22)14-13(24-14)...</td>\n",
       "    </tr>\n",
       "  </tbody>\n",
       "</table>\n",
       "</div>"
      ],
      "text/plain": [
       "       Metadata_Source Metadata_Plate Metadata_Well Metadata_JCP2022  \\\n",
       "138936        source_1       UL000081           A03   JCP2022_085227   \n",
       "138937        source_1       UL000081           A46   JCP2022_085227   \n",
       "138938        source_1       UL000081           I03   JCP2022_085227   \n",
       "138939        source_1       UL000081           I46   JCP2022_085227   \n",
       "138940        source_1       UL000081           Q03   JCP2022_085227   \n",
       "\n",
       "         Metadata_Batch Metadata_PlateType            Metadata_InChIKey  \\\n",
       "138936  Batch4_20221012           COMPOUND  SRVFFFJZQVENJC-UHFFFAOYSA-N   \n",
       "138937  Batch4_20221012           COMPOUND  SRVFFFJZQVENJC-UHFFFAOYSA-N   \n",
       "138938  Batch4_20221012           COMPOUND  SRVFFFJZQVENJC-UHFFFAOYSA-N   \n",
       "138939  Batch4_20221012           COMPOUND  SRVFFFJZQVENJC-UHFFFAOYSA-N   \n",
       "138940  Batch4_20221012           COMPOUND  SRVFFFJZQVENJC-UHFFFAOYSA-N   \n",
       "\n",
       "                                           Metadata_InChI  \n",
       "138936  InChI=1S/C17H30N2O5/c1-6-23-17(22)14-13(24-14)...  \n",
       "138937  InChI=1S/C17H30N2O5/c1-6-23-17(22)14-13(24-14)...  \n",
       "138938  InChI=1S/C17H30N2O5/c1-6-23-17(22)14-13(24-14)...  \n",
       "138939  InChI=1S/C17H30N2O5/c1-6-23-17(22)14-13(24-14)...  \n",
       "138940  InChI=1S/C17H30N2O5/c1-6-23-17(22)14-13(24-14)...  "
      ]
     },
     "execution_count": 104,
     "metadata": {},
     "output_type": "execute_result"
    },
    {
     "data": {
      "text/plain": [
       "JCP2022_050797    9732\n",
       "JCP2022_037716    9571\n",
       "JCP2022_012818    9544\n",
       "JCP2022_025848    9513\n",
       "JCP2022_046054    9508\n",
       "JCP2022_064022    9346\n",
       "JCP2022_085227    8923\n",
       "JCP2022_035095    7983\n",
       "JCP2022_033954    1594\n",
       "JCP2022_033914     362\n",
       "JCP2022_013856     361\n",
       "JCP2022_001036     359\n",
       "JCP2022_105442     356\n",
       "JCP2022_080920     355\n",
       "JCP2022_032771     354\n",
       "JCP2022_004587     354\n",
       "JCP2022_073628     354\n",
       "JCP2022_046462     354\n",
       "JCP2022_056401     354\n",
       "JCP2022_060040     353\n",
       "Name: Metadata_JCP2022, dtype: int64"
      ]
     },
     "execution_count": 104,
     "metadata": {},
     "output_type": "execute_result"
    }
   ],
   "source": [
    "\n",
    "# metadata2 = compound.merge(wells, on=\"Metadata_JCP2022\")\n",
    "# metadata2.info()\n",
    "# metadata2.head()\n",
    "# metadata2.Metadata_JCP2022.value_counts()\n",
    "\n",
    "# metadata3 = metadata2.merge(plates, on=[\"Metadata_Source\", \"Metadata_Plate\"])\n",
    "metadata3.info()\n",
    "metadata3.head()\n",
    "metadata3.Metadata_JCP2022.value_counts()[:20]"
   ]
  },
  {
   "cell_type": "markdown",
   "id": "cf509a33-3987-4efb-812c-da49208c2fa7",
   "metadata": {},
   "source": [
    "### Save as `compound_well_plate.csv`"
   ]
  },
  {
   "cell_type": "code",
   "execution_count": 115,
   "id": "08b0356a-1044-4d58-8a22-081afb542e22",
   "metadata": {
    "execution": {
     "iopub.execute_input": "2023-08-08T20:58:30.204276Z",
     "iopub.status.busy": "2023-08-08T20:58:30.204030Z",
     "iopub.status.idle": "2023-08-08T20:58:32.784375Z",
     "shell.execute_reply": "2023-08-08T20:58:32.783619Z",
     "shell.execute_reply.started": "2023-08-08T20:58:30.204258Z"
    }
   },
   "outputs": [],
   "source": [
    "compoundWellPlateFile         = f\"./output/cwp_metadata_clean.csv\"\n",
    "metadata3.to_csv(compoundWellPlateFile)"
   ]
  },
  {
   "cell_type": "code",
   "execution_count": 105,
   "id": "ca9af55f-54e2-4c39-a1a0-642044e3aadf",
   "metadata": {
    "ExecuteTime": {
     "end_time": "2023-06-23T19:10:04.288315Z",
     "start_time": "2023-06-23T19:10:03.912980Z"
    },
    "execution": {
     "iopub.execute_input": "2023-08-08T20:48:51.973037Z",
     "iopub.status.busy": "2023-08-08T20:48:51.972788Z",
     "iopub.status.idle": "2023-08-08T20:48:52.702925Z",
     "shell.execute_reply": "2023-08-08T20:48:52.702017Z",
     "shell.execute_reply.started": "2023-08-08T20:48:51.973019Z"
    }
   },
   "outputs": [],
   "source": [
    "ann_dframe = metadata3.merge(    \n",
    "    dframes, on=[\"Metadata_Source\", \"Metadata_Plate\", \"Metadata_Well\"]\n",
    ")"
   ]
  },
  {
   "cell_type": "markdown",
   "id": "fd18825b",
   "metadata": {},
   "source": [
    "We now know a little bit more about each profile:"
   ]
  },
  {
   "cell_type": "code",
   "execution_count": 108,
   "id": "9d78abd5-1000-41f9-9b53-511a7ea4b1e0",
   "metadata": {
    "execution": {
     "iopub.execute_input": "2023-08-08T20:49:06.248629Z",
     "iopub.status.busy": "2023-08-08T20:49:06.248375Z",
     "iopub.status.idle": "2023-08-08T20:49:06.312574Z",
     "shell.execute_reply": "2023-08-08T20:49:06.311522Z",
     "shell.execute_reply.started": "2023-08-08T20:49:06.248613Z"
    }
   },
   "outputs": [
    {
     "name": "stdout",
     "output_type": "stream",
     "text": [
      "<class 'pandas.core.frame.DataFrame'>\n",
      "Int64Index: 9571 entries, 0 to 9570\n",
      "Columns: 4770 entries, Metadata_Source to Nuclei_Texture_Variance_RNA_5_03_256\n",
      "dtypes: float64(4762), object(8)\n",
      "memory usage: 348.4+ MB\n"
     ]
    },
    {
     "data": {
      "text/html": [
       "<div>\n",
       "<style scoped>\n",
       "    .dataframe tbody tr th:only-of-type {\n",
       "        vertical-align: middle;\n",
       "    }\n",
       "\n",
       "    .dataframe tbody tr th {\n",
       "        vertical-align: top;\n",
       "    }\n",
       "\n",
       "    .dataframe thead th {\n",
       "        text-align: right;\n",
       "    }\n",
       "</style>\n",
       "<table border=\"1\" class=\"dataframe\">\n",
       "  <thead>\n",
       "    <tr style=\"text-align: right;\">\n",
       "      <th></th>\n",
       "      <th>Metadata_Source</th>\n",
       "      <th>Metadata_Plate</th>\n",
       "      <th>Metadata_Well</th>\n",
       "      <th>Metadata_JCP2022</th>\n",
       "      <th>Metadata_Batch</th>\n",
       "      <th>Metadata_PlateType</th>\n",
       "      <th>Metadata_InChIKey</th>\n",
       "      <th>Metadata_InChI</th>\n",
       "      <th>Cells_AreaShape_Area</th>\n",
       "      <th>Cells_AreaShape_BoundingBoxArea</th>\n",
       "      <th>...</th>\n",
       "      <th>Nuclei_Texture_Variance_RNA_10_02_256</th>\n",
       "      <th>Nuclei_Texture_Variance_RNA_10_03_256</th>\n",
       "      <th>Nuclei_Texture_Variance_RNA_3_00_256</th>\n",
       "      <th>Nuclei_Texture_Variance_RNA_3_01_256</th>\n",
       "      <th>Nuclei_Texture_Variance_RNA_3_02_256</th>\n",
       "      <th>Nuclei_Texture_Variance_RNA_3_03_256</th>\n",
       "      <th>Nuclei_Texture_Variance_RNA_5_00_256</th>\n",
       "      <th>Nuclei_Texture_Variance_RNA_5_01_256</th>\n",
       "      <th>Nuclei_Texture_Variance_RNA_5_02_256</th>\n",
       "      <th>Nuclei_Texture_Variance_RNA_5_03_256</th>\n",
       "    </tr>\n",
       "  </thead>\n",
       "  <tbody>\n",
       "    <tr>\n",
       "      <th>0</th>\n",
       "      <td>source_1</td>\n",
       "      <td>UL000579</td>\n",
       "      <td>A03</td>\n",
       "      <td>JCP2022_085227</td>\n",
       "      <td>Batch6_20221102</td>\n",
       "      <td>COMPOUND</td>\n",
       "      <td>SRVFFFJZQVENJC-UHFFFAOYSA-N</td>\n",
       "      <td>InChI=1S/C17H30N2O5/c1-6-23-17(22)14-13(24-14)...</td>\n",
       "      <td>6009.7</td>\n",
       "      <td>12123.0</td>\n",
       "      <td>...</td>\n",
       "      <td>66.042</td>\n",
       "      <td>68.372</td>\n",
       "      <td>64.748</td>\n",
       "      <td>63.664</td>\n",
       "      <td>64.532</td>\n",
       "      <td>63.680</td>\n",
       "      <td>63.369</td>\n",
       "      <td>63.522</td>\n",
       "      <td>63.086</td>\n",
       "      <td>63.838</td>\n",
       "    </tr>\n",
       "    <tr>\n",
       "      <th>1</th>\n",
       "      <td>source_1</td>\n",
       "      <td>UL000579</td>\n",
       "      <td>A46</td>\n",
       "      <td>JCP2022_085227</td>\n",
       "      <td>Batch6_20221102</td>\n",
       "      <td>COMPOUND</td>\n",
       "      <td>SRVFFFJZQVENJC-UHFFFAOYSA-N</td>\n",
       "      <td>InChI=1S/C17H30N2O5/c1-6-23-17(22)14-13(24-14)...</td>\n",
       "      <td>13604.0</td>\n",
       "      <td>29361.0</td>\n",
       "      <td>...</td>\n",
       "      <td>71.017</td>\n",
       "      <td>76.838</td>\n",
       "      <td>73.541</td>\n",
       "      <td>72.373</td>\n",
       "      <td>72.863</td>\n",
       "      <td>70.650</td>\n",
       "      <td>71.529</td>\n",
       "      <td>70.996</td>\n",
       "      <td>70.544</td>\n",
       "      <td>69.753</td>\n",
       "    </tr>\n",
       "    <tr>\n",
       "      <th>2</th>\n",
       "      <td>source_1</td>\n",
       "      <td>UL000579</td>\n",
       "      <td>I03</td>\n",
       "      <td>JCP2022_085227</td>\n",
       "      <td>Batch6_20221102</td>\n",
       "      <td>COMPOUND</td>\n",
       "      <td>SRVFFFJZQVENJC-UHFFFAOYSA-N</td>\n",
       "      <td>InChI=1S/C17H30N2O5/c1-6-23-17(22)14-13(24-14)...</td>\n",
       "      <td>4674.7</td>\n",
       "      <td>8899.6</td>\n",
       "      <td>...</td>\n",
       "      <td>48.293</td>\n",
       "      <td>51.704</td>\n",
       "      <td>47.422</td>\n",
       "      <td>46.659</td>\n",
       "      <td>47.412</td>\n",
       "      <td>46.388</td>\n",
       "      <td>46.397</td>\n",
       "      <td>46.871</td>\n",
       "      <td>46.355</td>\n",
       "      <td>46.498</td>\n",
       "    </tr>\n",
       "    <tr>\n",
       "      <th>3</th>\n",
       "      <td>source_1</td>\n",
       "      <td>UL000579</td>\n",
       "      <td>I46</td>\n",
       "      <td>JCP2022_085227</td>\n",
       "      <td>Batch6_20221102</td>\n",
       "      <td>COMPOUND</td>\n",
       "      <td>SRVFFFJZQVENJC-UHFFFAOYSA-N</td>\n",
       "      <td>InChI=1S/C17H30N2O5/c1-6-23-17(22)14-13(24-14)...</td>\n",
       "      <td>4759.3</td>\n",
       "      <td>9223.9</td>\n",
       "      <td>...</td>\n",
       "      <td>42.510</td>\n",
       "      <td>43.750</td>\n",
       "      <td>41.216</td>\n",
       "      <td>40.388</td>\n",
       "      <td>41.414</td>\n",
       "      <td>40.696</td>\n",
       "      <td>40.082</td>\n",
       "      <td>41.088</td>\n",
       "      <td>40.318</td>\n",
       "      <td>40.294</td>\n",
       "    </tr>\n",
       "    <tr>\n",
       "      <th>4</th>\n",
       "      <td>source_1</td>\n",
       "      <td>UL000579</td>\n",
       "      <td>Q03</td>\n",
       "      <td>JCP2022_085227</td>\n",
       "      <td>Batch6_20221102</td>\n",
       "      <td>COMPOUND</td>\n",
       "      <td>SRVFFFJZQVENJC-UHFFFAOYSA-N</td>\n",
       "      <td>InChI=1S/C17H30N2O5/c1-6-23-17(22)14-13(24-14)...</td>\n",
       "      <td>4908.1</td>\n",
       "      <td>9551.5</td>\n",
       "      <td>...</td>\n",
       "      <td>48.529</td>\n",
       "      <td>51.142</td>\n",
       "      <td>47.865</td>\n",
       "      <td>46.617</td>\n",
       "      <td>47.739</td>\n",
       "      <td>46.719</td>\n",
       "      <td>46.629</td>\n",
       "      <td>46.347</td>\n",
       "      <td>46.557</td>\n",
       "      <td>46.606</td>\n",
       "    </tr>\n",
       "  </tbody>\n",
       "</table>\n",
       "<p>5 rows × 4770 columns</p>\n",
       "</div>"
      ],
      "text/plain": [
       "  Metadata_Source Metadata_Plate Metadata_Well Metadata_JCP2022  \\\n",
       "0        source_1       UL000579           A03   JCP2022_085227   \n",
       "1        source_1       UL000579           A46   JCP2022_085227   \n",
       "2        source_1       UL000579           I03   JCP2022_085227   \n",
       "3        source_1       UL000579           I46   JCP2022_085227   \n",
       "4        source_1       UL000579           Q03   JCP2022_085227   \n",
       "\n",
       "    Metadata_Batch Metadata_PlateType            Metadata_InChIKey  \\\n",
       "0  Batch6_20221102           COMPOUND  SRVFFFJZQVENJC-UHFFFAOYSA-N   \n",
       "1  Batch6_20221102           COMPOUND  SRVFFFJZQVENJC-UHFFFAOYSA-N   \n",
       "2  Batch6_20221102           COMPOUND  SRVFFFJZQVENJC-UHFFFAOYSA-N   \n",
       "3  Batch6_20221102           COMPOUND  SRVFFFJZQVENJC-UHFFFAOYSA-N   \n",
       "4  Batch6_20221102           COMPOUND  SRVFFFJZQVENJC-UHFFFAOYSA-N   \n",
       "\n",
       "                                      Metadata_InChI  Cells_AreaShape_Area  \\\n",
       "0  InChI=1S/C17H30N2O5/c1-6-23-17(22)14-13(24-14)...                6009.7   \n",
       "1  InChI=1S/C17H30N2O5/c1-6-23-17(22)14-13(24-14)...               13604.0   \n",
       "2  InChI=1S/C17H30N2O5/c1-6-23-17(22)14-13(24-14)...                4674.7   \n",
       "3  InChI=1S/C17H30N2O5/c1-6-23-17(22)14-13(24-14)...                4759.3   \n",
       "4  InChI=1S/C17H30N2O5/c1-6-23-17(22)14-13(24-14)...                4908.1   \n",
       "\n",
       "   Cells_AreaShape_BoundingBoxArea  ...  \\\n",
       "0                          12123.0  ...   \n",
       "1                          29361.0  ...   \n",
       "2                           8899.6  ...   \n",
       "3                           9223.9  ...   \n",
       "4                           9551.5  ...   \n",
       "\n",
       "   Nuclei_Texture_Variance_RNA_10_02_256  \\\n",
       "0                                 66.042   \n",
       "1                                 71.017   \n",
       "2                                 48.293   \n",
       "3                                 42.510   \n",
       "4                                 48.529   \n",
       "\n",
       "   Nuclei_Texture_Variance_RNA_10_03_256  \\\n",
       "0                                 68.372   \n",
       "1                                 76.838   \n",
       "2                                 51.704   \n",
       "3                                 43.750   \n",
       "4                                 51.142   \n",
       "\n",
       "   Nuclei_Texture_Variance_RNA_3_00_256  Nuclei_Texture_Variance_RNA_3_01_256  \\\n",
       "0                                64.748                                63.664   \n",
       "1                                73.541                                72.373   \n",
       "2                                47.422                                46.659   \n",
       "3                                41.216                                40.388   \n",
       "4                                47.865                                46.617   \n",
       "\n",
       "   Nuclei_Texture_Variance_RNA_3_02_256  Nuclei_Texture_Variance_RNA_3_03_256  \\\n",
       "0                                64.532                                63.680   \n",
       "1                                72.863                                70.650   \n",
       "2                                47.412                                46.388   \n",
       "3                                41.414                                40.696   \n",
       "4                                47.739                                46.719   \n",
       "\n",
       "   Nuclei_Texture_Variance_RNA_5_00_256  Nuclei_Texture_Variance_RNA_5_01_256  \\\n",
       "0                                63.369                                63.522   \n",
       "1                                71.529                                70.996   \n",
       "2                                46.397                                46.871   \n",
       "3                                40.082                                41.088   \n",
       "4                                46.629                                46.347   \n",
       "\n",
       "   Nuclei_Texture_Variance_RNA_5_02_256  Nuclei_Texture_Variance_RNA_5_03_256  \n",
       "0                                63.086                                63.838  \n",
       "1                                70.544                                69.753  \n",
       "2                                46.355                                46.498  \n",
       "3                                40.318                                40.294  \n",
       "4                                46.557                                46.606  \n",
       "\n",
       "[5 rows x 4770 columns]"
      ]
     },
     "execution_count": 108,
     "metadata": {},
     "output_type": "execute_result"
    },
    {
     "data": {
      "text/plain": [
       "COMPOUND    9571\n",
       "Name: Metadata_PlateType, dtype: int64"
      ]
     },
     "execution_count": 108,
     "metadata": {},
     "output_type": "execute_result"
    },
    {
     "data": {
      "text/plain": [
       "JCP2022_046054    96\n",
       "JCP2022_064022    96\n",
       "JCP2022_050797    96\n",
       "JCP2022_037716    96\n",
       "JCP2022_025848    96\n",
       "JCP2022_012818    95\n",
       "JCP2022_085227    92\n",
       "JCP2022_035095    64\n",
       "JCP2022_033954    32\n",
       "JCP2022_090939     3\n",
       "JCP2022_083818     3\n",
       "JCP2022_018628     3\n",
       "JCP2022_070903     2\n",
       "JCP2022_097030     2\n",
       "JCP2022_087287     2\n",
       "JCP2022_105904     2\n",
       "JCP2022_062223     2\n",
       "JCP2022_066379     2\n",
       "JCP2022_061347     2\n",
       "JCP2022_002206     2\n",
       "Name: Metadata_JCP2022, dtype: int64"
      ]
     },
     "execution_count": 108,
     "metadata": {},
     "output_type": "execute_result"
    }
   ],
   "source": [
    "ann_dframe.info()\n",
    "ann_dframe.head()\n",
    "ann_dframe.Metadata_PlateType.value_counts()\n",
    "ann_dframe.Metadata_JCP2022.value_counts()[:20]"
   ]
  },
  {
   "cell_type": "code",
   "execution_count": 109,
   "id": "4ce31d1b",
   "metadata": {
    "ExecuteTime": {
     "end_time": "2023-06-23T19:10:05.749782Z",
     "start_time": "2023-06-23T19:10:05.741987Z"
    },
    "execution": {
     "iopub.execute_input": "2023-08-08T20:49:19.733549Z",
     "iopub.status.busy": "2023-08-08T20:49:19.733265Z",
     "iopub.status.idle": "2023-08-08T20:49:19.928747Z",
     "shell.execute_reply": "2023-08-08T20:49:19.927924Z",
     "shell.execute_reply.started": "2023-08-08T20:49:19.733532Z"
    }
   },
   "outputs": [
    {
     "data": {
      "text/html": [
       "<div>\n",
       "<style scoped>\n",
       "    .dataframe tbody tr th:only-of-type {\n",
       "        vertical-align: middle;\n",
       "    }\n",
       "\n",
       "    .dataframe tbody tr th {\n",
       "        vertical-align: top;\n",
       "    }\n",
       "\n",
       "    .dataframe thead th {\n",
       "        text-align: right;\n",
       "    }\n",
       "</style>\n",
       "<table border=\"1\" class=\"dataframe\">\n",
       "  <thead>\n",
       "    <tr style=\"text-align: right;\">\n",
       "      <th></th>\n",
       "      <th>Metadata_Source</th>\n",
       "      <th>Metadata_Plate</th>\n",
       "      <th>Metadata_Well</th>\n",
       "      <th>Metadata_JCP2022</th>\n",
       "      <th>Metadata_Batch</th>\n",
       "      <th>Metadata_PlateType</th>\n",
       "      <th>Metadata_InChIKey</th>\n",
       "      <th>Metadata_InChI</th>\n",
       "      <th>Cells_AreaShape_Area</th>\n",
       "      <th>Cells_AreaShape_BoundingBoxArea</th>\n",
       "      <th>...</th>\n",
       "      <th>Nuclei_Texture_Variance_RNA_10_02_256</th>\n",
       "      <th>Nuclei_Texture_Variance_RNA_10_03_256</th>\n",
       "      <th>Nuclei_Texture_Variance_RNA_3_00_256</th>\n",
       "      <th>Nuclei_Texture_Variance_RNA_3_01_256</th>\n",
       "      <th>Nuclei_Texture_Variance_RNA_3_02_256</th>\n",
       "      <th>Nuclei_Texture_Variance_RNA_3_03_256</th>\n",
       "      <th>Nuclei_Texture_Variance_RNA_5_00_256</th>\n",
       "      <th>Nuclei_Texture_Variance_RNA_5_01_256</th>\n",
       "      <th>Nuclei_Texture_Variance_RNA_5_02_256</th>\n",
       "      <th>Nuclei_Texture_Variance_RNA_5_03_256</th>\n",
       "    </tr>\n",
       "  </thead>\n",
       "  <tbody>\n",
       "    <tr>\n",
       "      <th>8918</th>\n",
       "      <td>source_3</td>\n",
       "      <td>BR5874c3</td>\n",
       "      <td>K08</td>\n",
       "      <td>JCP2022_000005</td>\n",
       "      <td>CP60</td>\n",
       "      <td>COMPOUND</td>\n",
       "      <td>AAAQFGUYHFJNHI-UHFFFAOYSA-N</td>\n",
       "      <td>InChI=1S/C22H22ClN5O2/c1-4-24-20(29)12-18-22-2...</td>\n",
       "      <td>3967.7</td>\n",
       "      <td>7303.8</td>\n",
       "      <td>...</td>\n",
       "      <td>26.8320</td>\n",
       "      <td>25.7450</td>\n",
       "      <td>24.908</td>\n",
       "      <td>25.0050</td>\n",
       "      <td>24.8450</td>\n",
       "      <td>25.0420</td>\n",
       "      <td>25.2640</td>\n",
       "      <td>25.9160</td>\n",
       "      <td>25.2170</td>\n",
       "      <td>25.8540</td>\n",
       "    </tr>\n",
       "    <tr>\n",
       "      <th>2578</th>\n",
       "      <td>source_1</td>\n",
       "      <td>UL000585</td>\n",
       "      <td>I13</td>\n",
       "      <td>JCP2022_000014</td>\n",
       "      <td>Batch6_20221102</td>\n",
       "      <td>COMPOUND</td>\n",
       "      <td>AABVQGHWEQDLQT-UHFFFAOYSA-N</td>\n",
       "      <td>InChI=1S/C19H22N4O4/c1-11-8-17(21-19-18(11)12(...</td>\n",
       "      <td>4578.2</td>\n",
       "      <td>8734.3</td>\n",
       "      <td>...</td>\n",
       "      <td>50.5670</td>\n",
       "      <td>53.0090</td>\n",
       "      <td>49.121</td>\n",
       "      <td>48.2860</td>\n",
       "      <td>49.1050</td>\n",
       "      <td>48.2930</td>\n",
       "      <td>48.2230</td>\n",
       "      <td>48.4510</td>\n",
       "      <td>48.2140</td>\n",
       "      <td>48.5870</td>\n",
       "    </tr>\n",
       "    <tr>\n",
       "      <th>3351</th>\n",
       "      <td>source_3</td>\n",
       "      <td>A13407bW</td>\n",
       "      <td>O12</td>\n",
       "      <td>JCP2022_000019</td>\n",
       "      <td>CP_33_all_Phenix1</td>\n",
       "      <td>COMPOUND</td>\n",
       "      <td>AABYXSCBKRYKHE-UHFFFAOYSA-N</td>\n",
       "      <td>InChI=1S/C17H12N6/c1-2-4-14-11(3-1)9-12-5-6-13...</td>\n",
       "      <td>3956.3</td>\n",
       "      <td>7376.7</td>\n",
       "      <td>...</td>\n",
       "      <td>6.2031</td>\n",
       "      <td>6.0329</td>\n",
       "      <td>5.857</td>\n",
       "      <td>5.8542</td>\n",
       "      <td>5.8322</td>\n",
       "      <td>5.8832</td>\n",
       "      <td>5.9092</td>\n",
       "      <td>5.9859</td>\n",
       "      <td>5.8725</td>\n",
       "      <td>6.0165</td>\n",
       "    </tr>\n",
       "    <tr>\n",
       "      <th>4596</th>\n",
       "      <td>source_10</td>\n",
       "      <td>Dest210622-145122</td>\n",
       "      <td>J09</td>\n",
       "      <td>JCP2022_000026</td>\n",
       "      <td>2021_06_22_U2OS_48_hr_run8</td>\n",
       "      <td>COMPOUND</td>\n",
       "      <td>AACNNMAJYLOGIN-UHFFFAOYSA-N</td>\n",
       "      <td>InChI=1S/C11H17BrN2O/c1-8(2)11(3,15)7-14-10-4-...</td>\n",
       "      <td>3404.6</td>\n",
       "      <td>6608.9</td>\n",
       "      <td>...</td>\n",
       "      <td>40.1490</td>\n",
       "      <td>36.7290</td>\n",
       "      <td>38.933</td>\n",
       "      <td>39.5700</td>\n",
       "      <td>38.8600</td>\n",
       "      <td>39.6410</td>\n",
       "      <td>39.8970</td>\n",
       "      <td>40.7300</td>\n",
       "      <td>40.0100</td>\n",
       "      <td>40.6900</td>\n",
       "    </tr>\n",
       "    <tr>\n",
       "      <th>7767</th>\n",
       "      <td>source_9</td>\n",
       "      <td>GR00003317</td>\n",
       "      <td>R43</td>\n",
       "      <td>JCP2022_000073</td>\n",
       "      <td>20210915-Run10</td>\n",
       "      <td>COMPOUND</td>\n",
       "      <td>AAIVITOVJTVMAM-UHFFFAOYSA-N</td>\n",
       "      <td>InChI=1S/C15H20N4O/c20-15(17-7-10-19-8-5-16-6-...</td>\n",
       "      <td>2949.8</td>\n",
       "      <td>5551.9</td>\n",
       "      <td>...</td>\n",
       "      <td>44.3630</td>\n",
       "      <td>43.8680</td>\n",
       "      <td>41.689</td>\n",
       "      <td>41.9050</td>\n",
       "      <td>41.7200</td>\n",
       "      <td>41.9190</td>\n",
       "      <td>42.0470</td>\n",
       "      <td>43.1040</td>\n",
       "      <td>42.1480</td>\n",
       "      <td>42.9160</td>\n",
       "    </tr>\n",
       "    <tr>\n",
       "      <th>...</th>\n",
       "      <td>...</td>\n",
       "      <td>...</td>\n",
       "      <td>...</td>\n",
       "      <td>...</td>\n",
       "      <td>...</td>\n",
       "      <td>...</td>\n",
       "      <td>...</td>\n",
       "      <td>...</td>\n",
       "      <td>...</td>\n",
       "      <td>...</td>\n",
       "      <td>...</td>\n",
       "      <td>...</td>\n",
       "      <td>...</td>\n",
       "      <td>...</td>\n",
       "      <td>...</td>\n",
       "      <td>...</td>\n",
       "      <td>...</td>\n",
       "      <td>...</td>\n",
       "      <td>...</td>\n",
       "      <td>...</td>\n",
       "      <td>...</td>\n",
       "    </tr>\n",
       "    <tr>\n",
       "      <th>7195</th>\n",
       "      <td>source_9</td>\n",
       "      <td>GR00003296</td>\n",
       "      <td>AA22</td>\n",
       "      <td>JCP2022_116704</td>\n",
       "      <td>20210914-Run9</td>\n",
       "      <td>COMPOUND</td>\n",
       "      <td>ZZSRPLCIOAXFMA-UHFFFAOYSA-N</td>\n",
       "      <td>InChI=1S/C28H28N2S2/c1-18-11-14-24-23(15-18)25...</td>\n",
       "      <td>2573.6</td>\n",
       "      <td>4763.9</td>\n",
       "      <td>...</td>\n",
       "      <td>54.4350</td>\n",
       "      <td>50.3300</td>\n",
       "      <td>51.214</td>\n",
       "      <td>51.5270</td>\n",
       "      <td>51.0880</td>\n",
       "      <td>51.8260</td>\n",
       "      <td>52.2380</td>\n",
       "      <td>53.7370</td>\n",
       "      <td>52.0640</td>\n",
       "      <td>53.9040</td>\n",
       "    </tr>\n",
       "    <tr>\n",
       "      <th>3006</th>\n",
       "      <td>source_1</td>\n",
       "      <td>UL000585</td>\n",
       "      <td>S41</td>\n",
       "      <td>JCP2022_116713</td>\n",
       "      <td>Batch6_20221102</td>\n",
       "      <td>COMPOUND</td>\n",
       "      <td>ZZUDMMIMMQQLHC-UHFFFAOYSA-N</td>\n",
       "      <td>InChI=1S/C22H30N2O/c1-25-22-9-7-20(8-10-22)11-...</td>\n",
       "      <td>3792.3</td>\n",
       "      <td>6969.8</td>\n",
       "      <td>...</td>\n",
       "      <td>34.5920</td>\n",
       "      <td>35.7510</td>\n",
       "      <td>33.778</td>\n",
       "      <td>32.9470</td>\n",
       "      <td>33.7350</td>\n",
       "      <td>33.0770</td>\n",
       "      <td>32.8700</td>\n",
       "      <td>32.9320</td>\n",
       "      <td>32.9680</td>\n",
       "      <td>32.8920</td>\n",
       "    </tr>\n",
       "    <tr>\n",
       "      <th>6140</th>\n",
       "      <td>source_9</td>\n",
       "      <td>GR00003296</td>\n",
       "      <td>J12</td>\n",
       "      <td>JCP2022_116727</td>\n",
       "      <td>20210914-Run9</td>\n",
       "      <td>COMPOUND</td>\n",
       "      <td>ZZWGXGHWFOTKNP-UHFFFAOYSA-N</td>\n",
       "      <td>InChI=1S/C9H11BrN4O2/c1-12-7-6(8(15)13(2)9(12)...</td>\n",
       "      <td>3270.8</td>\n",
       "      <td>6054.6</td>\n",
       "      <td>...</td>\n",
       "      <td>52.5320</td>\n",
       "      <td>51.0360</td>\n",
       "      <td>49.246</td>\n",
       "      <td>49.6390</td>\n",
       "      <td>49.5190</td>\n",
       "      <td>49.5680</td>\n",
       "      <td>49.7030</td>\n",
       "      <td>51.0260</td>\n",
       "      <td>50.0440</td>\n",
       "      <td>51.1220</td>\n",
       "    </tr>\n",
       "    <tr>\n",
       "      <th>1667</th>\n",
       "      <td>source_1</td>\n",
       "      <td>UL000579</td>\n",
       "      <td>R33</td>\n",
       "      <td>JCP2022_116731</td>\n",
       "      <td>Batch6_20221102</td>\n",
       "      <td>COMPOUND</td>\n",
       "      <td>ZZWPJAHLSOTZFL-UHFFFAOYSA-N</td>\n",
       "      <td>InChI=1S/C26H31N5O3/c1-33-22-9-7-18(8-10-22)24...</td>\n",
       "      <td>4754.5</td>\n",
       "      <td>9108.4</td>\n",
       "      <td>...</td>\n",
       "      <td>37.3580</td>\n",
       "      <td>39.8950</td>\n",
       "      <td>37.295</td>\n",
       "      <td>36.2420</td>\n",
       "      <td>37.0880</td>\n",
       "      <td>36.5910</td>\n",
       "      <td>36.3780</td>\n",
       "      <td>36.0140</td>\n",
       "      <td>36.0530</td>\n",
       "      <td>36.4890</td>\n",
       "    </tr>\n",
       "    <tr>\n",
       "      <th>8973</th>\n",
       "      <td>source_3</td>\n",
       "      <td>BR5874c3</td>\n",
       "      <td>D22</td>\n",
       "      <td>JCP2022_116739</td>\n",
       "      <td>CP60</td>\n",
       "      <td>COMPOUND</td>\n",
       "      <td>ZZXUNAFAKNKXFW-UHFFFAOYSA-N</td>\n",
       "      <td>InChI=1S/C27H45N2/c1-3-4-5-6-7-8-9-10-11-12-13...</td>\n",
       "      <td>1862.3</td>\n",
       "      <td>2838.8</td>\n",
       "      <td>...</td>\n",
       "      <td>132.1600</td>\n",
       "      <td>125.6800</td>\n",
       "      <td>126.250</td>\n",
       "      <td>126.6600</td>\n",
       "      <td>126.5700</td>\n",
       "      <td>126.5100</td>\n",
       "      <td>127.7100</td>\n",
       "      <td>131.4700</td>\n",
       "      <td>128.1200</td>\n",
       "      <td>131.8100</td>\n",
       "    </tr>\n",
       "  </tbody>\n",
       "</table>\n",
       "<p>9571 rows × 4770 columns</p>\n",
       "</div>"
      ],
      "text/plain": [
       "     Metadata_Source     Metadata_Plate Metadata_Well Metadata_JCP2022  \\\n",
       "8918        source_3           BR5874c3           K08   JCP2022_000005   \n",
       "2578        source_1           UL000585           I13   JCP2022_000014   \n",
       "3351        source_3           A13407bW           O12   JCP2022_000019   \n",
       "4596       source_10  Dest210622-145122           J09   JCP2022_000026   \n",
       "7767        source_9         GR00003317           R43   JCP2022_000073   \n",
       "...              ...                ...           ...              ...   \n",
       "7195        source_9         GR00003296          AA22   JCP2022_116704   \n",
       "3006        source_1           UL000585           S41   JCP2022_116713   \n",
       "6140        source_9         GR00003296           J12   JCP2022_116727   \n",
       "1667        source_1           UL000579           R33   JCP2022_116731   \n",
       "8973        source_3           BR5874c3           D22   JCP2022_116739   \n",
       "\n",
       "                  Metadata_Batch Metadata_PlateType  \\\n",
       "8918                        CP60           COMPOUND   \n",
       "2578             Batch6_20221102           COMPOUND   \n",
       "3351           CP_33_all_Phenix1           COMPOUND   \n",
       "4596  2021_06_22_U2OS_48_hr_run8           COMPOUND   \n",
       "7767              20210915-Run10           COMPOUND   \n",
       "...                          ...                ...   \n",
       "7195               20210914-Run9           COMPOUND   \n",
       "3006             Batch6_20221102           COMPOUND   \n",
       "6140               20210914-Run9           COMPOUND   \n",
       "1667             Batch6_20221102           COMPOUND   \n",
       "8973                        CP60           COMPOUND   \n",
       "\n",
       "                Metadata_InChIKey  \\\n",
       "8918  AAAQFGUYHFJNHI-UHFFFAOYSA-N   \n",
       "2578  AABVQGHWEQDLQT-UHFFFAOYSA-N   \n",
       "3351  AABYXSCBKRYKHE-UHFFFAOYSA-N   \n",
       "4596  AACNNMAJYLOGIN-UHFFFAOYSA-N   \n",
       "7767  AAIVITOVJTVMAM-UHFFFAOYSA-N   \n",
       "...                           ...   \n",
       "7195  ZZSRPLCIOAXFMA-UHFFFAOYSA-N   \n",
       "3006  ZZUDMMIMMQQLHC-UHFFFAOYSA-N   \n",
       "6140  ZZWGXGHWFOTKNP-UHFFFAOYSA-N   \n",
       "1667  ZZWPJAHLSOTZFL-UHFFFAOYSA-N   \n",
       "8973  ZZXUNAFAKNKXFW-UHFFFAOYSA-N   \n",
       "\n",
       "                                         Metadata_InChI  Cells_AreaShape_Area  \\\n",
       "8918  InChI=1S/C22H22ClN5O2/c1-4-24-20(29)12-18-22-2...                3967.7   \n",
       "2578  InChI=1S/C19H22N4O4/c1-11-8-17(21-19-18(11)12(...                4578.2   \n",
       "3351  InChI=1S/C17H12N6/c1-2-4-14-11(3-1)9-12-5-6-13...                3956.3   \n",
       "4596  InChI=1S/C11H17BrN2O/c1-8(2)11(3,15)7-14-10-4-...                3404.6   \n",
       "7767  InChI=1S/C15H20N4O/c20-15(17-7-10-19-8-5-16-6-...                2949.8   \n",
       "...                                                 ...                   ...   \n",
       "7195  InChI=1S/C28H28N2S2/c1-18-11-14-24-23(15-18)25...                2573.6   \n",
       "3006  InChI=1S/C22H30N2O/c1-25-22-9-7-20(8-10-22)11-...                3792.3   \n",
       "6140  InChI=1S/C9H11BrN4O2/c1-12-7-6(8(15)13(2)9(12)...                3270.8   \n",
       "1667  InChI=1S/C26H31N5O3/c1-33-22-9-7-18(8-10-22)24...                4754.5   \n",
       "8973  InChI=1S/C27H45N2/c1-3-4-5-6-7-8-9-10-11-12-13...                1862.3   \n",
       "\n",
       "      Cells_AreaShape_BoundingBoxArea  ...  \\\n",
       "8918                           7303.8  ...   \n",
       "2578                           8734.3  ...   \n",
       "3351                           7376.7  ...   \n",
       "4596                           6608.9  ...   \n",
       "7767                           5551.9  ...   \n",
       "...                               ...  ...   \n",
       "7195                           4763.9  ...   \n",
       "3006                           6969.8  ...   \n",
       "6140                           6054.6  ...   \n",
       "1667                           9108.4  ...   \n",
       "8973                           2838.8  ...   \n",
       "\n",
       "      Nuclei_Texture_Variance_RNA_10_02_256  \\\n",
       "8918                                26.8320   \n",
       "2578                                50.5670   \n",
       "3351                                 6.2031   \n",
       "4596                                40.1490   \n",
       "7767                                44.3630   \n",
       "...                                     ...   \n",
       "7195                                54.4350   \n",
       "3006                                34.5920   \n",
       "6140                                52.5320   \n",
       "1667                                37.3580   \n",
       "8973                               132.1600   \n",
       "\n",
       "      Nuclei_Texture_Variance_RNA_10_03_256  \\\n",
       "8918                                25.7450   \n",
       "2578                                53.0090   \n",
       "3351                                 6.0329   \n",
       "4596                                36.7290   \n",
       "7767                                43.8680   \n",
       "...                                     ...   \n",
       "7195                                50.3300   \n",
       "3006                                35.7510   \n",
       "6140                                51.0360   \n",
       "1667                                39.8950   \n",
       "8973                               125.6800   \n",
       "\n",
       "      Nuclei_Texture_Variance_RNA_3_00_256  \\\n",
       "8918                                24.908   \n",
       "2578                                49.121   \n",
       "3351                                 5.857   \n",
       "4596                                38.933   \n",
       "7767                                41.689   \n",
       "...                                    ...   \n",
       "7195                                51.214   \n",
       "3006                                33.778   \n",
       "6140                                49.246   \n",
       "1667                                37.295   \n",
       "8973                               126.250   \n",
       "\n",
       "      Nuclei_Texture_Variance_RNA_3_01_256  \\\n",
       "8918                               25.0050   \n",
       "2578                               48.2860   \n",
       "3351                                5.8542   \n",
       "4596                               39.5700   \n",
       "7767                               41.9050   \n",
       "...                                    ...   \n",
       "7195                               51.5270   \n",
       "3006                               32.9470   \n",
       "6140                               49.6390   \n",
       "1667                               36.2420   \n",
       "8973                              126.6600   \n",
       "\n",
       "      Nuclei_Texture_Variance_RNA_3_02_256  \\\n",
       "8918                               24.8450   \n",
       "2578                               49.1050   \n",
       "3351                                5.8322   \n",
       "4596                               38.8600   \n",
       "7767                               41.7200   \n",
       "...                                    ...   \n",
       "7195                               51.0880   \n",
       "3006                               33.7350   \n",
       "6140                               49.5190   \n",
       "1667                               37.0880   \n",
       "8973                              126.5700   \n",
       "\n",
       "      Nuclei_Texture_Variance_RNA_3_03_256  \\\n",
       "8918                               25.0420   \n",
       "2578                               48.2930   \n",
       "3351                                5.8832   \n",
       "4596                               39.6410   \n",
       "7767                               41.9190   \n",
       "...                                    ...   \n",
       "7195                               51.8260   \n",
       "3006                               33.0770   \n",
       "6140                               49.5680   \n",
       "1667                               36.5910   \n",
       "8973                              126.5100   \n",
       "\n",
       "      Nuclei_Texture_Variance_RNA_5_00_256  \\\n",
       "8918                               25.2640   \n",
       "2578                               48.2230   \n",
       "3351                                5.9092   \n",
       "4596                               39.8970   \n",
       "7767                               42.0470   \n",
       "...                                    ...   \n",
       "7195                               52.2380   \n",
       "3006                               32.8700   \n",
       "6140                               49.7030   \n",
       "1667                               36.3780   \n",
       "8973                              127.7100   \n",
       "\n",
       "      Nuclei_Texture_Variance_RNA_5_01_256  \\\n",
       "8918                               25.9160   \n",
       "2578                               48.4510   \n",
       "3351                                5.9859   \n",
       "4596                               40.7300   \n",
       "7767                               43.1040   \n",
       "...                                    ...   \n",
       "7195                               53.7370   \n",
       "3006                               32.9320   \n",
       "6140                               51.0260   \n",
       "1667                               36.0140   \n",
       "8973                              131.4700   \n",
       "\n",
       "      Nuclei_Texture_Variance_RNA_5_02_256  \\\n",
       "8918                               25.2170   \n",
       "2578                               48.2140   \n",
       "3351                                5.8725   \n",
       "4596                               40.0100   \n",
       "7767                               42.1480   \n",
       "...                                    ...   \n",
       "7195                               52.0640   \n",
       "3006                               32.9680   \n",
       "6140                               50.0440   \n",
       "1667                               36.0530   \n",
       "8973                              128.1200   \n",
       "\n",
       "      Nuclei_Texture_Variance_RNA_5_03_256  \n",
       "8918                               25.8540  \n",
       "2578                               48.5870  \n",
       "3351                                6.0165  \n",
       "4596                               40.6900  \n",
       "7767                               42.9160  \n",
       "...                                    ...  \n",
       "7195                               53.9040  \n",
       "3006                               32.8920  \n",
       "6140                               51.1220  \n",
       "1667                               36.4890  \n",
       "8973                              131.8100  \n",
       "\n",
       "[9571 rows x 4770 columns]"
      ]
     },
     "execution_count": 109,
     "metadata": {},
     "output_type": "execute_result"
    }
   ],
   "source": [
    "# ann_dframe.sample(2, random_state=42)\n",
    "ann_dframe.sort_values(\"Metadata_JCP2022\")"
   ]
  },
  {
   "cell_type": "markdown",
   "id": "73b7cb6b",
   "metadata": {},
   "source": [
    "More metadata information will be added in the future. "
   ]
  },
  {
   "cell_type": "markdown",
   "id": "28f67064",
   "metadata": {
    "jp-MarkdownHeadingCollapsed": true
   },
   "source": [
    "# Plot features\n",
    "\n",
    "\n",
    "The scatterplot below contains every well in the sampled dataset.\n",
    "\n",
    "In the interactive plot (see settings for `pio.renderers.default` above), you can hover over the points to see the JCP ID and the InChiKey for a given compound.\n",
    "\n",
    "<div class=\"alert alert-warning\">\n",
    "NOTE: Because these are raw, unnormalized features, you will notice discernable clusters corresponding to each source due to batch effects.\n",
    "Upcoming data releases will included normalized features, where these effects are mitigated to some extent. \n",
    "</div>"
   ]
  },
  {
   "cell_type": "code",
   "execution_count": 136,
   "id": "124a37ea-6993-4f1f-a571-cd545804c477",
   "metadata": {
    "execution": {
     "iopub.execute_input": "2023-12-06T19:09:01.474263Z",
     "iopub.status.busy": "2023-12-06T19:09:01.474014Z",
     "iopub.status.idle": "2023-12-06T19:09:01.490822Z",
     "shell.execute_reply": "2023-12-06T19:09:01.490150Z",
     "shell.execute_reply.started": "2023-12-06T19:09:01.474246Z"
    }
   },
   "outputs": [],
   "source": [
    " # pio.renderers.default = 'jupyterl`ab'\n",
    "# pio.renderers.default = 'notebook_connected'\n",
    "pio.renderers.default = \"browser\""
   ]
  },
  {
   "cell_type": "code",
   "execution_count": 155,
   "id": "8f53eb9e",
   "metadata": {
    "ExecuteTime": {
     "end_time": "2023-06-23T19:10:33.928926Z",
     "start_time": "2023-06-23T19:10:32.287950Z"
    },
    "execution": {
     "iopub.execute_input": "2023-12-06T19:30:13.395034Z",
     "iopub.status.busy": "2023-12-06T19:30:13.394550Z",
     "iopub.status.idle": "2023-12-06T19:30:16.033928Z",
     "shell.execute_reply": "2023-12-06T19:30:16.033183Z",
     "shell.execute_reply.started": "2023-12-06T19:30:13.395013Z"
    }
   },
   "outputs": [],
   "source": [
    "from pickle import FALSE, TRUE\n",
    "del fig\n",
    "fig = px.scatter(\n",
    "    df_profiles,\n",
    "    x=\"Cells_AreaShape_Eccentricity\",\n",
    "    y=\"Cells_AreaShape_EulerNumber\",\n",
    "    color=\"Metadata_Source\",\n",
    "    hover_name=\"Metadata_JCP2022\",\n",
    "    hover_data=[\"Metadata_Source\"],\n",
    ")\n",
    "\n",
    "fig.show()"
   ]
  },
  {
   "cell_type": "markdown",
   "id": "e61d054c-7cc1-4d43-b385-38f6ce4b79c2",
   "metadata": {},
   "source": [
    "### **Use DASH**"
   ]
  },
  {
   "cell_type": "code",
   "execution_count": 154,
   "id": "980d99de-e530-4d17-9730-d09d2d1d4a8c",
   "metadata": {
    "execution": {
     "iopub.execute_input": "2023-12-06T19:29:37.716412Z",
     "iopub.status.busy": "2023-12-06T19:29:37.716022Z",
     "iopub.status.idle": "2023-12-06T19:29:37.792751Z",
     "shell.execute_reply": "2023-12-06T19:29:37.792149Z",
     "shell.execute_reply.started": "2023-12-06T19:29:37.716383Z"
    }
   },
   "outputs": [
    {
     "data": {
      "text/html": [
       "\n",
       "        <iframe\n",
       "            width=\"100%\"\n",
       "            height=\"650\"\n",
       "            src=\"http://127.0.0.1:8051/\"\n",
       "            frameborder=\"0\"\n",
       "            allowfullscreen\n",
       "            \n",
       "        ></iframe>\n",
       "        "
      ],
      "text/plain": [
       "<IPython.lib.display.IFrame at 0x7fd43a55aec0>"
      ]
     },
     "metadata": {},
     "output_type": "display_data"
    },
    {
     "name": "stdout",
     "output_type": "stream",
     "text": [
      "\u001b[1;31m---------------------------------------------------------------------------\u001b[0m\n",
      "\u001b[1;31mNameError\u001b[0m                                 Traceback (most recent call last)\n",
      "\u001b[1;31mNameError\u001b[0m: name 'value' is not defined\n",
      "\n"
     ]
    }
   ],
   "source": [
    "from dash import Dash, dcc, html, Input, Output\n",
    "import plotly.express as px\n",
    "\n",
    "app = Dash(__name__)\n",
    "\n",
    "app.layout = html.Div([\n",
    "    html.H4('Analysis of Iris data using scatter matrix'),\n",
    "    dcc.Dropdown(\n",
    "        id=\"dropdown\",\n",
    "        options=useColumns,\n",
    "        value=[useColumns[0], \"Cells_AreaShape_Eccentricity\"],\n",
    "        multi=True\n",
    "    ),\n",
    "    dcc.Graph(id=\"graph\"),\n",
    "])\n",
    "\n",
    "\n",
    "@app.callback(\n",
    "    Output(\"graph\", \"figure\"), \n",
    "    Input(\"dropdown\", \"value\"))\n",
    "def update_bar_chart(dims):\n",
    "    # df = px.data.iris() # replace with your own data source\n",
    "    # fig = px.scatter_matrix(\n",
    "    #     df_profiles, dimensions=dims, color=\"species\")\n",
    "    print(value)\n",
    "    fig = px.scatter(\n",
    "            df_profiles,\n",
    "            x=\"Cells_AreaShape_Eccentricity\",\n",
    "            y=\"Cells_AreaShape_EulerNumber\",\n",
    "            color=\"Metadata_Source\",\n",
    "            hover_name=\"Metadata_JCP2022\",\n",
    "            hover_data=[\"Metadata_Source\"],\n",
    "        )\n",
    "    return fig\n",
    "\n",
    "\n",
    "app.run_server(debug=True,port=8051)"
   ]
  },
  {
   "cell_type": "markdown",
   "id": "4bfb1c6b",
   "metadata": {},
   "source": [
    "So that's just a couple of (raw) measurements from the sentinel plates for 10/13 of the sources, for the principal dataset alone. "
   ]
  },
  {
   "cell_type": "markdown",
   "id": "54895cff-0d10-4760-bf7b-c5c1cd9b3f2e",
   "metadata": {
    "jp-MarkdownHeadingCollapsed": true
   },
   "source": [
    "# Load images\n",
    "\n",
    "[LoadData](https://cellprofiler-manual.s3.amazonaws.com/CPmanual/LoadData.html) CSV files provide Metadata associated with the images to be processed."
   ]
  },
  {
   "cell_type": "code",
   "execution_count": 111,
   "id": "21a770f0",
   "metadata": {
    "ExecuteTime": {
     "end_time": "2023-06-23T19:11:38.741774Z",
     "start_time": "2023-06-23T19:11:17.868956Z"
    },
    "execution": {
     "iopub.execute_input": "2023-08-08T20:51:19.878005Z",
     "iopub.status.busy": "2023-08-08T20:51:19.877409Z",
     "iopub.status.idle": "2023-08-08T20:51:41.871272Z",
     "shell.execute_reply": "2023-08-08T20:51:41.870667Z",
     "shell.execute_reply.started": "2023-08-08T20:51:19.877985Z"
    }
   },
   "outputs": [
    {
     "name": "stdout",
     "output_type": "stream",
     "text": [
      "s3_path :  s3://cellpainting-gallery/cpg0016-jump/source_1/workspace/load_data_csv/Batch6_20221102/UL000585/load_data_with_illum.parquet\n",
      "s3_path :  s3://cellpainting-gallery/cpg0016-jump/source_1/workspace/load_data_csv/Batch6_20221102/UL000579/load_data_with_illum.parquet\n",
      "s3_path :  s3://cellpainting-gallery/cpg0016-jump/source_10/workspace/load_data_csv/2021_06_22_U2OS_48_hr_run8/Dest210622-145122/load_data_with_illum.parquet\n",
      "s3_path :  s3://cellpainting-gallery/cpg0016-jump/source_10/workspace/load_data_csv/2021_06_14_U2OS_48_hr_run5/Dest210614-162933/load_data_with_illum.parquet\n",
      "s3_path :  s3://cellpainting-gallery/cpg0016-jump/source_11/workspace/load_data_csv/Batch1/EC000029/load_data_with_illum.parquet\n",
      "s3_path :  s3://cellpainting-gallery/cpg0016-jump/source_11/workspace/load_data_csv/Batch2/EC000044/load_data_with_illum.parquet\n",
      "s3_path :  s3://cellpainting-gallery/cpg0016-jump/source_2/workspace/load_data_csv/20210719_Batch_6/1086294024/load_data_with_illum.parquet\n",
      "s3_path :  s3://cellpainting-gallery/cpg0016-jump/source_2/workspace/load_data_csv/20210830_Batch_11/1086290477/load_data_with_illum.parquet\n",
      "s3_path :  s3://cellpainting-gallery/cpg0016-jump/source_3/workspace/load_data_csv/CP_33_all_Phenix1/A13407bW/load_data_with_illum.parquet\n",
      "s3_path :  s3://cellpainting-gallery/cpg0016-jump/source_3/workspace/load_data_csv/CP60/BR5874c3/load_data_with_illum.parquet\n",
      "s3_path :  s3://cellpainting-gallery/cpg0016-jump/source_5/workspace/load_data_csv/JUMPCPE-20210715-Run10_20210715_223420/ATSJUM112/load_data_with_illum.parquet\n",
      "s3_path :  s3://cellpainting-gallery/cpg0016-jump/source_5/workspace/load_data_csv/JUMPCPE-20210806-Run17_20210807_000211/APTJUM301/load_data_with_illum.parquet\n",
      "s3_path :  s3://cellpainting-gallery/cpg0016-jump/source_6/workspace/load_data_csv/p210831CPU2OS48hw384exp024JUMP/110000294904/load_data_with_illum.parquet\n",
      "s3_path :  s3://cellpainting-gallery/cpg0016-jump/source_6/workspace/load_data_csv/p211109CPU2OS48hw384exp035JUMP/110000296159/load_data_with_illum.parquet\n",
      "s3_path :  s3://cellpainting-gallery/cpg0016-jump/source_7/workspace/load_data_csv/20210727_Run3/CP3-SC1-22/load_data_with_illum.parquet\n",
      "s3_path :  s3://cellpainting-gallery/cpg0016-jump/source_7/workspace/load_data_csv/20210731_Run4/CP4-SC1-06/load_data_with_illum.parquet\n",
      "s3_path :  s3://cellpainting-gallery/cpg0016-jump/source_8/workspace/load_data_csv/J1/A1170414/load_data_with_illum.parquet\n",
      "s3_path :  s3://cellpainting-gallery/cpg0016-jump/source_8/workspace/load_data_csv/J2/A1170491/load_data_with_illum.parquet\n",
      "s3_path :  s3://cellpainting-gallery/cpg0016-jump/source_9/workspace/load_data_csv/20210915-Run10/GR00003317/load_data_with_illum.parquet\n",
      "s3_path :  s3://cellpainting-gallery/cpg0016-jump/source_9/workspace/load_data_csv/20210914-Run9/GR00003296/load_data_with_illum.parquet\n"
     ]
    }
   ],
   "source": [
    "load_data = []\n",
    "\n",
    "for _, row in sample.iterrows():\n",
    "    s3_path = loaddata_formatter.format(**row.to_dict())\n",
    "    print(\"s3_path : \", s3_path)\n",
    "    load_data.append(pd.read_parquet(s3_path, storage_options={\"anon\": True}))\n",
    "    \n",
    "load_data = pd.concat(load_data)\n"
   ]
  },
  {
   "cell_type": "code",
   "execution_count": 113,
   "id": "9a398b30",
   "metadata": {
    "ExecuteTime": {
     "end_time": "2023-06-23T19:12:06.974847Z",
     "start_time": "2023-06-23T19:12:06.856019Z"
    },
    "execution": {
     "iopub.execute_input": "2023-08-08T20:52:00.185635Z",
     "iopub.status.busy": "2023-08-08T20:52:00.185359Z",
     "iopub.status.idle": "2023-08-08T20:52:00.331376Z",
     "shell.execute_reply": "2023-08-08T20:52:00.330701Z",
     "shell.execute_reply.started": "2023-08-08T20:52:00.185619Z"
    }
   },
   "outputs": [
    {
     "name": "stdout",
     "output_type": "stream",
     "text": [
      "<class 'pandas.core.frame.DataFrame'>\n",
      "Int64Index: 74739 entries, 0 to 6141\n",
      "Data columns (total 25 columns):\n",
      " #   Column              Non-Null Count  Dtype \n",
      "---  ------              --------------  ----- \n",
      " 0   Metadata_Source     74739 non-null  object\n",
      " 1   Metadata_Batch      74739 non-null  object\n",
      " 2   Metadata_Plate      74739 non-null  object\n",
      " 3   Metadata_Well       74739 non-null  object\n",
      " 4   Metadata_Site       74739 non-null  object\n",
      " 5   FileName_IllumAGP   74739 non-null  object\n",
      " 6   FileName_IllumDNA   74739 non-null  object\n",
      " 7   FileName_IllumER    74739 non-null  object\n",
      " 8   FileName_IllumMito  74739 non-null  object\n",
      " 9   FileName_IllumRNA   74739 non-null  object\n",
      " 10  FileName_OrigAGP    74739 non-null  object\n",
      " 11  FileName_OrigDNA    74739 non-null  object\n",
      " 12  FileName_OrigER     74739 non-null  object\n",
      " 13  FileName_OrigMito   74739 non-null  object\n",
      " 14  FileName_OrigRNA    74739 non-null  object\n",
      " 15  PathName_IllumAGP   74739 non-null  object\n",
      " 16  PathName_IllumDNA   74739 non-null  object\n",
      " 17  PathName_IllumER    74739 non-null  object\n",
      " 18  PathName_IllumMito  74739 non-null  object\n",
      " 19  PathName_IllumRNA   74739 non-null  object\n",
      " 20  PathName_OrigAGP    74739 non-null  object\n",
      " 21  PathName_OrigDNA    74739 non-null  object\n",
      " 22  PathName_OrigER     74739 non-null  object\n",
      " 23  PathName_OrigMito   74739 non-null  object\n",
      " 24  PathName_OrigRNA    74739 non-null  object\n",
      "dtypes: object(25)\n",
      "memory usage: 14.8+ MB\n"
     ]
    },
    {
     "data": {
      "text/html": [
       "<div>\n",
       "<style scoped>\n",
       "    .dataframe tbody tr th:only-of-type {\n",
       "        vertical-align: middle;\n",
       "    }\n",
       "\n",
       "    .dataframe tbody tr th {\n",
       "        vertical-align: top;\n",
       "    }\n",
       "\n",
       "    .dataframe thead th {\n",
       "        text-align: right;\n",
       "    }\n",
       "</style>\n",
       "<table border=\"1\" class=\"dataframe\">\n",
       "  <thead>\n",
       "    <tr style=\"text-align: right;\">\n",
       "      <th></th>\n",
       "      <th>Metadata_Source</th>\n",
       "      <th>Metadata_Batch</th>\n",
       "      <th>Metadata_Plate</th>\n",
       "      <th>Metadata_Well</th>\n",
       "      <th>Metadata_Site</th>\n",
       "      <th>FileName_IllumAGP</th>\n",
       "      <th>FileName_IllumDNA</th>\n",
       "      <th>FileName_IllumER</th>\n",
       "      <th>FileName_IllumMito</th>\n",
       "      <th>FileName_IllumRNA</th>\n",
       "      <th>...</th>\n",
       "      <th>PathName_IllumAGP</th>\n",
       "      <th>PathName_IllumDNA</th>\n",
       "      <th>PathName_IllumER</th>\n",
       "      <th>PathName_IllumMito</th>\n",
       "      <th>PathName_IllumRNA</th>\n",
       "      <th>PathName_OrigAGP</th>\n",
       "      <th>PathName_OrigDNA</th>\n",
       "      <th>PathName_OrigER</th>\n",
       "      <th>PathName_OrigMito</th>\n",
       "      <th>PathName_OrigRNA</th>\n",
       "    </tr>\n",
       "  </thead>\n",
       "  <tbody>\n",
       "    <tr>\n",
       "      <th>0</th>\n",
       "      <td>source_1</td>\n",
       "      <td>Batch6_20221102</td>\n",
       "      <td>UL000585</td>\n",
       "      <td>A02</td>\n",
       "      <td>1</td>\n",
       "      <td>UL000585_IllumAGP.npy</td>\n",
       "      <td>UL000585_IllumDNA.npy</td>\n",
       "      <td>UL000585_IllumER.npy</td>\n",
       "      <td>UL000585_IllumMito.npy</td>\n",
       "      <td>UL000585_IllumRNA.npy</td>\n",
       "      <td>...</td>\n",
       "      <td>s3://cellpainting-gallery/cpg0016-jump/source_...</td>\n",
       "      <td>s3://cellpainting-gallery/cpg0016-jump/source_...</td>\n",
       "      <td>s3://cellpainting-gallery/cpg0016-jump/source_...</td>\n",
       "      <td>s3://cellpainting-gallery/cpg0016-jump/source_...</td>\n",
       "      <td>s3://cellpainting-gallery/cpg0016-jump/source_...</td>\n",
       "      <td>s3://cellpainting-gallery/cpg0016-jump/source_...</td>\n",
       "      <td>s3://cellpainting-gallery/cpg0016-jump/source_...</td>\n",
       "      <td>s3://cellpainting-gallery/cpg0016-jump/source_...</td>\n",
       "      <td>s3://cellpainting-gallery/cpg0016-jump/source_...</td>\n",
       "      <td>s3://cellpainting-gallery/cpg0016-jump/source_...</td>\n",
       "    </tr>\n",
       "    <tr>\n",
       "      <th>1</th>\n",
       "      <td>source_1</td>\n",
       "      <td>Batch6_20221102</td>\n",
       "      <td>UL000585</td>\n",
       "      <td>A02</td>\n",
       "      <td>2</td>\n",
       "      <td>UL000585_IllumAGP.npy</td>\n",
       "      <td>UL000585_IllumDNA.npy</td>\n",
       "      <td>UL000585_IllumER.npy</td>\n",
       "      <td>UL000585_IllumMito.npy</td>\n",
       "      <td>UL000585_IllumRNA.npy</td>\n",
       "      <td>...</td>\n",
       "      <td>s3://cellpainting-gallery/cpg0016-jump/source_...</td>\n",
       "      <td>s3://cellpainting-gallery/cpg0016-jump/source_...</td>\n",
       "      <td>s3://cellpainting-gallery/cpg0016-jump/source_...</td>\n",
       "      <td>s3://cellpainting-gallery/cpg0016-jump/source_...</td>\n",
       "      <td>s3://cellpainting-gallery/cpg0016-jump/source_...</td>\n",
       "      <td>s3://cellpainting-gallery/cpg0016-jump/source_...</td>\n",
       "      <td>s3://cellpainting-gallery/cpg0016-jump/source_...</td>\n",
       "      <td>s3://cellpainting-gallery/cpg0016-jump/source_...</td>\n",
       "      <td>s3://cellpainting-gallery/cpg0016-jump/source_...</td>\n",
       "      <td>s3://cellpainting-gallery/cpg0016-jump/source_...</td>\n",
       "    </tr>\n",
       "    <tr>\n",
       "      <th>2</th>\n",
       "      <td>source_1</td>\n",
       "      <td>Batch6_20221102</td>\n",
       "      <td>UL000585</td>\n",
       "      <td>A02</td>\n",
       "      <td>3</td>\n",
       "      <td>UL000585_IllumAGP.npy</td>\n",
       "      <td>UL000585_IllumDNA.npy</td>\n",
       "      <td>UL000585_IllumER.npy</td>\n",
       "      <td>UL000585_IllumMito.npy</td>\n",
       "      <td>UL000585_IllumRNA.npy</td>\n",
       "      <td>...</td>\n",
       "      <td>s3://cellpainting-gallery/cpg0016-jump/source_...</td>\n",
       "      <td>s3://cellpainting-gallery/cpg0016-jump/source_...</td>\n",
       "      <td>s3://cellpainting-gallery/cpg0016-jump/source_...</td>\n",
       "      <td>s3://cellpainting-gallery/cpg0016-jump/source_...</td>\n",
       "      <td>s3://cellpainting-gallery/cpg0016-jump/source_...</td>\n",
       "      <td>s3://cellpainting-gallery/cpg0016-jump/source_...</td>\n",
       "      <td>s3://cellpainting-gallery/cpg0016-jump/source_...</td>\n",
       "      <td>s3://cellpainting-gallery/cpg0016-jump/source_...</td>\n",
       "      <td>s3://cellpainting-gallery/cpg0016-jump/source_...</td>\n",
       "      <td>s3://cellpainting-gallery/cpg0016-jump/source_...</td>\n",
       "    </tr>\n",
       "    <tr>\n",
       "      <th>3</th>\n",
       "      <td>source_1</td>\n",
       "      <td>Batch6_20221102</td>\n",
       "      <td>UL000585</td>\n",
       "      <td>A02</td>\n",
       "      <td>4</td>\n",
       "      <td>UL000585_IllumAGP.npy</td>\n",
       "      <td>UL000585_IllumDNA.npy</td>\n",
       "      <td>UL000585_IllumER.npy</td>\n",
       "      <td>UL000585_IllumMito.npy</td>\n",
       "      <td>UL000585_IllumRNA.npy</td>\n",
       "      <td>...</td>\n",
       "      <td>s3://cellpainting-gallery/cpg0016-jump/source_...</td>\n",
       "      <td>s3://cellpainting-gallery/cpg0016-jump/source_...</td>\n",
       "      <td>s3://cellpainting-gallery/cpg0016-jump/source_...</td>\n",
       "      <td>s3://cellpainting-gallery/cpg0016-jump/source_...</td>\n",
       "      <td>s3://cellpainting-gallery/cpg0016-jump/source_...</td>\n",
       "      <td>s3://cellpainting-gallery/cpg0016-jump/source_...</td>\n",
       "      <td>s3://cellpainting-gallery/cpg0016-jump/source_...</td>\n",
       "      <td>s3://cellpainting-gallery/cpg0016-jump/source_...</td>\n",
       "      <td>s3://cellpainting-gallery/cpg0016-jump/source_...</td>\n",
       "      <td>s3://cellpainting-gallery/cpg0016-jump/source_...</td>\n",
       "    </tr>\n",
       "    <tr>\n",
       "      <th>4</th>\n",
       "      <td>source_1</td>\n",
       "      <td>Batch6_20221102</td>\n",
       "      <td>UL000585</td>\n",
       "      <td>A03</td>\n",
       "      <td>1</td>\n",
       "      <td>UL000585_IllumAGP.npy</td>\n",
       "      <td>UL000585_IllumDNA.npy</td>\n",
       "      <td>UL000585_IllumER.npy</td>\n",
       "      <td>UL000585_IllumMito.npy</td>\n",
       "      <td>UL000585_IllumRNA.npy</td>\n",
       "      <td>...</td>\n",
       "      <td>s3://cellpainting-gallery/cpg0016-jump/source_...</td>\n",
       "      <td>s3://cellpainting-gallery/cpg0016-jump/source_...</td>\n",
       "      <td>s3://cellpainting-gallery/cpg0016-jump/source_...</td>\n",
       "      <td>s3://cellpainting-gallery/cpg0016-jump/source_...</td>\n",
       "      <td>s3://cellpainting-gallery/cpg0016-jump/source_...</td>\n",
       "      <td>s3://cellpainting-gallery/cpg0016-jump/source_...</td>\n",
       "      <td>s3://cellpainting-gallery/cpg0016-jump/source_...</td>\n",
       "      <td>s3://cellpainting-gallery/cpg0016-jump/source_...</td>\n",
       "      <td>s3://cellpainting-gallery/cpg0016-jump/source_...</td>\n",
       "      <td>s3://cellpainting-gallery/cpg0016-jump/source_...</td>\n",
       "    </tr>\n",
       "  </tbody>\n",
       "</table>\n",
       "<p>5 rows × 25 columns</p>\n",
       "</div>"
      ],
      "text/plain": [
       "  Metadata_Source   Metadata_Batch Metadata_Plate Metadata_Well Metadata_Site  \\\n",
       "0        source_1  Batch6_20221102       UL000585           A02             1   \n",
       "1        source_1  Batch6_20221102       UL000585           A02             2   \n",
       "2        source_1  Batch6_20221102       UL000585           A02             3   \n",
       "3        source_1  Batch6_20221102       UL000585           A02             4   \n",
       "4        source_1  Batch6_20221102       UL000585           A03             1   \n",
       "\n",
       "       FileName_IllumAGP      FileName_IllumDNA      FileName_IllumER  \\\n",
       "0  UL000585_IllumAGP.npy  UL000585_IllumDNA.npy  UL000585_IllumER.npy   \n",
       "1  UL000585_IllumAGP.npy  UL000585_IllumDNA.npy  UL000585_IllumER.npy   \n",
       "2  UL000585_IllumAGP.npy  UL000585_IllumDNA.npy  UL000585_IllumER.npy   \n",
       "3  UL000585_IllumAGP.npy  UL000585_IllumDNA.npy  UL000585_IllumER.npy   \n",
       "4  UL000585_IllumAGP.npy  UL000585_IllumDNA.npy  UL000585_IllumER.npy   \n",
       "\n",
       "       FileName_IllumMito      FileName_IllumRNA  ...  \\\n",
       "0  UL000585_IllumMito.npy  UL000585_IllumRNA.npy  ...   \n",
       "1  UL000585_IllumMito.npy  UL000585_IllumRNA.npy  ...   \n",
       "2  UL000585_IllumMito.npy  UL000585_IllumRNA.npy  ...   \n",
       "3  UL000585_IllumMito.npy  UL000585_IllumRNA.npy  ...   \n",
       "4  UL000585_IllumMito.npy  UL000585_IllumRNA.npy  ...   \n",
       "\n",
       "                                   PathName_IllumAGP  \\\n",
       "0  s3://cellpainting-gallery/cpg0016-jump/source_...   \n",
       "1  s3://cellpainting-gallery/cpg0016-jump/source_...   \n",
       "2  s3://cellpainting-gallery/cpg0016-jump/source_...   \n",
       "3  s3://cellpainting-gallery/cpg0016-jump/source_...   \n",
       "4  s3://cellpainting-gallery/cpg0016-jump/source_...   \n",
       "\n",
       "                                   PathName_IllumDNA  \\\n",
       "0  s3://cellpainting-gallery/cpg0016-jump/source_...   \n",
       "1  s3://cellpainting-gallery/cpg0016-jump/source_...   \n",
       "2  s3://cellpainting-gallery/cpg0016-jump/source_...   \n",
       "3  s3://cellpainting-gallery/cpg0016-jump/source_...   \n",
       "4  s3://cellpainting-gallery/cpg0016-jump/source_...   \n",
       "\n",
       "                                    PathName_IllumER  \\\n",
       "0  s3://cellpainting-gallery/cpg0016-jump/source_...   \n",
       "1  s3://cellpainting-gallery/cpg0016-jump/source_...   \n",
       "2  s3://cellpainting-gallery/cpg0016-jump/source_...   \n",
       "3  s3://cellpainting-gallery/cpg0016-jump/source_...   \n",
       "4  s3://cellpainting-gallery/cpg0016-jump/source_...   \n",
       "\n",
       "                                  PathName_IllumMito  \\\n",
       "0  s3://cellpainting-gallery/cpg0016-jump/source_...   \n",
       "1  s3://cellpainting-gallery/cpg0016-jump/source_...   \n",
       "2  s3://cellpainting-gallery/cpg0016-jump/source_...   \n",
       "3  s3://cellpainting-gallery/cpg0016-jump/source_...   \n",
       "4  s3://cellpainting-gallery/cpg0016-jump/source_...   \n",
       "\n",
       "                                   PathName_IllumRNA  \\\n",
       "0  s3://cellpainting-gallery/cpg0016-jump/source_...   \n",
       "1  s3://cellpainting-gallery/cpg0016-jump/source_...   \n",
       "2  s3://cellpainting-gallery/cpg0016-jump/source_...   \n",
       "3  s3://cellpainting-gallery/cpg0016-jump/source_...   \n",
       "4  s3://cellpainting-gallery/cpg0016-jump/source_...   \n",
       "\n",
       "                                    PathName_OrigAGP  \\\n",
       "0  s3://cellpainting-gallery/cpg0016-jump/source_...   \n",
       "1  s3://cellpainting-gallery/cpg0016-jump/source_...   \n",
       "2  s3://cellpainting-gallery/cpg0016-jump/source_...   \n",
       "3  s3://cellpainting-gallery/cpg0016-jump/source_...   \n",
       "4  s3://cellpainting-gallery/cpg0016-jump/source_...   \n",
       "\n",
       "                                    PathName_OrigDNA  \\\n",
       "0  s3://cellpainting-gallery/cpg0016-jump/source_...   \n",
       "1  s3://cellpainting-gallery/cpg0016-jump/source_...   \n",
       "2  s3://cellpainting-gallery/cpg0016-jump/source_...   \n",
       "3  s3://cellpainting-gallery/cpg0016-jump/source_...   \n",
       "4  s3://cellpainting-gallery/cpg0016-jump/source_...   \n",
       "\n",
       "                                     PathName_OrigER  \\\n",
       "0  s3://cellpainting-gallery/cpg0016-jump/source_...   \n",
       "1  s3://cellpainting-gallery/cpg0016-jump/source_...   \n",
       "2  s3://cellpainting-gallery/cpg0016-jump/source_...   \n",
       "3  s3://cellpainting-gallery/cpg0016-jump/source_...   \n",
       "4  s3://cellpainting-gallery/cpg0016-jump/source_...   \n",
       "\n",
       "                                   PathName_OrigMito  \\\n",
       "0  s3://cellpainting-gallery/cpg0016-jump/source_...   \n",
       "1  s3://cellpainting-gallery/cpg0016-jump/source_...   \n",
       "2  s3://cellpainting-gallery/cpg0016-jump/source_...   \n",
       "3  s3://cellpainting-gallery/cpg0016-jump/source_...   \n",
       "4  s3://cellpainting-gallery/cpg0016-jump/source_...   \n",
       "\n",
       "                                    PathName_OrigRNA  \n",
       "0  s3://cellpainting-gallery/cpg0016-jump/source_...  \n",
       "1  s3://cellpainting-gallery/cpg0016-jump/source_...  \n",
       "2  s3://cellpainting-gallery/cpg0016-jump/source_...  \n",
       "3  s3://cellpainting-gallery/cpg0016-jump/source_...  \n",
       "4  s3://cellpainting-gallery/cpg0016-jump/source_...  \n",
       "\n",
       "[5 rows x 25 columns]"
      ]
     },
     "execution_count": 113,
     "metadata": {},
     "output_type": "execute_result"
    }
   ],
   "source": [
    "load_data.info()\n",
    "load_data.head()"
   ]
  },
  {
   "cell_type": "markdown",
   "id": "11cb5181-e6bd-4e10-b672-e62876938fce",
   "metadata": {},
   "source": [
    "Let's pick a row at random and inspect it"
   ]
  },
  {
   "cell_type": "code",
   "execution_count": 17,
   "id": "f7323582",
   "metadata": {
    "ExecuteTime": {
     "end_time": "2023-06-23T19:12:47.269337Z",
     "start_time": "2023-06-23T19:12:47.257541Z"
    }
   },
   "outputs": [
    {
     "name": "stdout",
     "output_type": "stream",
     "text": [
      "<class 'pandas.core.frame.DataFrame'>\n",
      "Int64Index: 1 entries, 3244 to 3244\n",
      "Data columns (total 25 columns):\n",
      " #   Column              Non-Null Count  Dtype \n",
      "---  ------              --------------  ----- \n",
      " 0   Metadata_Source     1 non-null      object\n",
      " 1   Metadata_Batch      1 non-null      object\n",
      " 2   Metadata_Plate      1 non-null      object\n",
      " 3   Metadata_Well       1 non-null      object\n",
      " 4   Metadata_Site       1 non-null      object\n",
      " 5   FileName_IllumAGP   1 non-null      object\n",
      " 6   FileName_IllumDNA   1 non-null      object\n",
      " 7   FileName_IllumER    1 non-null      object\n",
      " 8   FileName_IllumMito  1 non-null      object\n",
      " 9   FileName_IllumRNA   1 non-null      object\n",
      " 10  FileName_OrigAGP    1 non-null      object\n",
      " 11  FileName_OrigDNA    1 non-null      object\n",
      " 12  FileName_OrigER     1 non-null      object\n",
      " 13  FileName_OrigMito   1 non-null      object\n",
      " 14  FileName_OrigRNA    1 non-null      object\n",
      " 15  PathName_IllumAGP   1 non-null      object\n",
      " 16  PathName_IllumDNA   1 non-null      object\n",
      " 17  PathName_IllumER    1 non-null      object\n",
      " 18  PathName_IllumMito  1 non-null      object\n",
      " 19  PathName_IllumRNA   1 non-null      object\n",
      " 20  PathName_OrigAGP    1 non-null      object\n",
      " 21  PathName_OrigDNA    1 non-null      object\n",
      " 22  PathName_OrigER     1 non-null      object\n",
      " 23  PathName_OrigMito   1 non-null      object\n",
      " 24  PathName_OrigRNA    1 non-null      object\n",
      "dtypes: object(25)\n",
      "memory usage: 208.0+ bytes\n"
     ]
    },
    {
     "data": {
      "text/html": [
       "<div>\n",
       "<style scoped>\n",
       "    .dataframe tbody tr th:only-of-type {\n",
       "        vertical-align: middle;\n",
       "    }\n",
       "\n",
       "    .dataframe tbody tr th {\n",
       "        vertical-align: top;\n",
       "    }\n",
       "\n",
       "    .dataframe thead th {\n",
       "        text-align: right;\n",
       "    }\n",
       "</style>\n",
       "<table border=\"1\" class=\"dataframe\">\n",
       "  <thead>\n",
       "    <tr style=\"text-align: right;\">\n",
       "      <th></th>\n",
       "      <th>variable</th>\n",
       "      <th>value</th>\n",
       "    </tr>\n",
       "  </thead>\n",
       "  <tbody>\n",
       "    <tr>\n",
       "      <th>0</th>\n",
       "      <td>Metadata_Source</td>\n",
       "      <td>source_8</td>\n",
       "    </tr>\n",
       "    <tr>\n",
       "      <th>1</th>\n",
       "      <td>Metadata_Batch</td>\n",
       "      <td>J3</td>\n",
       "    </tr>\n",
       "    <tr>\n",
       "      <th>2</th>\n",
       "      <td>Metadata_Plate</td>\n",
       "      <td>A1166127</td>\n",
       "    </tr>\n",
       "    <tr>\n",
       "      <th>3</th>\n",
       "      <td>Metadata_Well</td>\n",
       "      <td>P01</td>\n",
       "    </tr>\n",
       "    <tr>\n",
       "      <th>4</th>\n",
       "      <td>Metadata_Site</td>\n",
       "      <td>5</td>\n",
       "    </tr>\n",
       "    <tr>\n",
       "      <th>5</th>\n",
       "      <td>FileName_IllumAGP</td>\n",
       "      <td>A1166127_IllumAGP.npy</td>\n",
       "    </tr>\n",
       "    <tr>\n",
       "      <th>6</th>\n",
       "      <td>FileName_IllumDNA</td>\n",
       "      <td>A1166127_IllumDNA.npy</td>\n",
       "    </tr>\n",
       "    <tr>\n",
       "      <th>7</th>\n",
       "      <td>FileName_IllumER</td>\n",
       "      <td>A1166127_IllumER.npy</td>\n",
       "    </tr>\n",
       "    <tr>\n",
       "      <th>8</th>\n",
       "      <td>FileName_IllumMito</td>\n",
       "      <td>A1166127_IllumMito.npy</td>\n",
       "    </tr>\n",
       "    <tr>\n",
       "      <th>9</th>\n",
       "      <td>FileName_IllumRNA</td>\n",
       "      <td>A1166127_IllumRNA.npy</td>\n",
       "    </tr>\n",
       "    <tr>\n",
       "      <th>10</th>\n",
       "      <td>FileName_OrigAGP</td>\n",
       "      <td>HTS_P01_s5_w245ED96D0-AEAD-4377-A8F8-735ABB4F6...</td>\n",
       "    </tr>\n",
       "    <tr>\n",
       "      <th>11</th>\n",
       "      <td>FileName_OrigDNA</td>\n",
       "      <td>HTS_P01_s5_w5E1B0F96A-93CC-4293-9601-D1FB1B7BD...</td>\n",
       "    </tr>\n",
       "    <tr>\n",
       "      <th>12</th>\n",
       "      <td>FileName_OrigER</td>\n",
       "      <td>HTS_P01_s5_w4BC5C6564-11AA-40AD-889D-15442E97F...</td>\n",
       "    </tr>\n",
       "    <tr>\n",
       "      <th>13</th>\n",
       "      <td>FileName_OrigMito</td>\n",
       "      <td>HTS_P01_s5_w10C3316DC-F512-40A1-99DE-8F2C1C13B...</td>\n",
       "    </tr>\n",
       "    <tr>\n",
       "      <th>14</th>\n",
       "      <td>FileName_OrigRNA</td>\n",
       "      <td>HTS_P01_s5_w3B102FFB7-0378-4F00-A420-5AC77107F...</td>\n",
       "    </tr>\n",
       "    <tr>\n",
       "      <th>15</th>\n",
       "      <td>PathName_IllumAGP</td>\n",
       "      <td>s3://cellpainting-gallery/cpg0016-jump/source_...</td>\n",
       "    </tr>\n",
       "    <tr>\n",
       "      <th>16</th>\n",
       "      <td>PathName_IllumDNA</td>\n",
       "      <td>s3://cellpainting-gallery/cpg0016-jump/source_...</td>\n",
       "    </tr>\n",
       "    <tr>\n",
       "      <th>17</th>\n",
       "      <td>PathName_IllumER</td>\n",
       "      <td>s3://cellpainting-gallery/cpg0016-jump/source_...</td>\n",
       "    </tr>\n",
       "    <tr>\n",
       "      <th>18</th>\n",
       "      <td>PathName_IllumMito</td>\n",
       "      <td>s3://cellpainting-gallery/cpg0016-jump/source_...</td>\n",
       "    </tr>\n",
       "    <tr>\n",
       "      <th>19</th>\n",
       "      <td>PathName_IllumRNA</td>\n",
       "      <td>s3://cellpainting-gallery/cpg0016-jump/source_...</td>\n",
       "    </tr>\n",
       "    <tr>\n",
       "      <th>20</th>\n",
       "      <td>PathName_OrigAGP</td>\n",
       "      <td>s3://cellpainting-gallery/cpg0016-jump/source_...</td>\n",
       "    </tr>\n",
       "    <tr>\n",
       "      <th>21</th>\n",
       "      <td>PathName_OrigDNA</td>\n",
       "      <td>s3://cellpainting-gallery/cpg0016-jump/source_...</td>\n",
       "    </tr>\n",
       "    <tr>\n",
       "      <th>22</th>\n",
       "      <td>PathName_OrigER</td>\n",
       "      <td>s3://cellpainting-gallery/cpg0016-jump/source_...</td>\n",
       "    </tr>\n",
       "    <tr>\n",
       "      <th>23</th>\n",
       "      <td>PathName_OrigMito</td>\n",
       "      <td>s3://cellpainting-gallery/cpg0016-jump/source_...</td>\n",
       "    </tr>\n",
       "    <tr>\n",
       "      <th>24</th>\n",
       "      <td>PathName_OrigRNA</td>\n",
       "      <td>s3://cellpainting-gallery/cpg0016-jump/source_...</td>\n",
       "    </tr>\n",
       "  </tbody>\n",
       "</table>\n",
       "</div>"
      ],
      "text/plain": [
       "              variable                                              value\n",
       "0      Metadata_Source                                           source_8\n",
       "1       Metadata_Batch                                                 J3\n",
       "2       Metadata_Plate                                           A1166127\n",
       "3        Metadata_Well                                                P01\n",
       "4        Metadata_Site                                                  5\n",
       "5    FileName_IllumAGP                              A1166127_IllumAGP.npy\n",
       "6    FileName_IllumDNA                              A1166127_IllumDNA.npy\n",
       "7     FileName_IllumER                               A1166127_IllumER.npy\n",
       "8   FileName_IllumMito                             A1166127_IllumMito.npy\n",
       "9    FileName_IllumRNA                              A1166127_IllumRNA.npy\n",
       "10    FileName_OrigAGP  HTS_P01_s5_w245ED96D0-AEAD-4377-A8F8-735ABB4F6...\n",
       "11    FileName_OrigDNA  HTS_P01_s5_w5E1B0F96A-93CC-4293-9601-D1FB1B7BD...\n",
       "12     FileName_OrigER  HTS_P01_s5_w4BC5C6564-11AA-40AD-889D-15442E97F...\n",
       "13   FileName_OrigMito  HTS_P01_s5_w10C3316DC-F512-40A1-99DE-8F2C1C13B...\n",
       "14    FileName_OrigRNA  HTS_P01_s5_w3B102FFB7-0378-4F00-A420-5AC77107F...\n",
       "15   PathName_IllumAGP  s3://cellpainting-gallery/cpg0016-jump/source_...\n",
       "16   PathName_IllumDNA  s3://cellpainting-gallery/cpg0016-jump/source_...\n",
       "17    PathName_IllumER  s3://cellpainting-gallery/cpg0016-jump/source_...\n",
       "18  PathName_IllumMito  s3://cellpainting-gallery/cpg0016-jump/source_...\n",
       "19   PathName_IllumRNA  s3://cellpainting-gallery/cpg0016-jump/source_...\n",
       "20    PathName_OrigAGP  s3://cellpainting-gallery/cpg0016-jump/source_...\n",
       "21    PathName_OrigDNA  s3://cellpainting-gallery/cpg0016-jump/source_...\n",
       "22     PathName_OrigER  s3://cellpainting-gallery/cpg0016-jump/source_...\n",
       "23   PathName_OrigMito  s3://cellpainting-gallery/cpg0016-jump/source_...\n",
       "24    PathName_OrigRNA  s3://cellpainting-gallery/cpg0016-jump/source_..."
      ]
     },
     "execution_count": 17,
     "metadata": {},
     "output_type": "execute_result"
    }
   ],
   "source": [
    "sample_loaddata = load_data.sample(1, random_state=42)\n",
    "sample_loaddata.info()\n",
    "pd.melt(sample_loaddata)"
   ]
  },
  {
   "cell_type": "markdown",
   "id": "75975a48-f56f-4312-9fdc-48791a1cd156",
   "metadata": {},
   "source": [
    "The `Metadata_` columns can be used to link the images to profiles. \n",
    "Let's pick a profile and view it's corresponding image. "
   ]
  },
  {
   "cell_type": "code",
   "execution_count": 18,
   "id": "1bb2961c",
   "metadata": {
    "ExecuteTime": {
     "end_time": "2023-06-23T19:13:38.488264Z",
     "start_time": "2023-06-23T19:13:38.481188Z"
    }
   },
   "outputs": [
    {
     "data": {
      "text/html": [
       "<div>\n",
       "<style scoped>\n",
       "    .dataframe tbody tr th:only-of-type {\n",
       "        vertical-align: middle;\n",
       "    }\n",
       "\n",
       "    .dataframe tbody tr th {\n",
       "        vertical-align: top;\n",
       "    }\n",
       "\n",
       "    .dataframe thead th {\n",
       "        text-align: right;\n",
       "    }\n",
       "</style>\n",
       "<table border=\"1\" class=\"dataframe\">\n",
       "  <thead>\n",
       "    <tr style=\"text-align: right;\">\n",
       "      <th></th>\n",
       "      <th>variable</th>\n",
       "      <th>value</th>\n",
       "    </tr>\n",
       "  </thead>\n",
       "  <tbody>\n",
       "    <tr>\n",
       "      <th>0</th>\n",
       "      <td>Metadata_JCP2022</td>\n",
       "      <td>JCP2022_100876</td>\n",
       "    </tr>\n",
       "    <tr>\n",
       "      <th>1</th>\n",
       "      <td>Metadata_InChIKey</td>\n",
       "      <td>WSMQUUGTQYPVPD-UHFFFAOYSA-N</td>\n",
       "    </tr>\n",
       "    <tr>\n",
       "      <th>2</th>\n",
       "      <td>Metadata_InChI</td>\n",
       "      <td>InChI=1S/C20H18FN5O2/c1-10-18-16(26-20(22)23-1...</td>\n",
       "    </tr>\n",
       "    <tr>\n",
       "      <th>3</th>\n",
       "      <td>Metadata_Source</td>\n",
       "      <td>source_5</td>\n",
       "    </tr>\n",
       "    <tr>\n",
       "      <th>4</th>\n",
       "      <td>Metadata_Plate</td>\n",
       "      <td>ACPJUM062</td>\n",
       "    </tr>\n",
       "    <tr>\n",
       "      <th>5</th>\n",
       "      <td>Metadata_Well</td>\n",
       "      <td>O23</td>\n",
       "    </tr>\n",
       "    <tr>\n",
       "      <th>6</th>\n",
       "      <td>Cells_AreaShape_Eccentricity</td>\n",
       "      <td>0.7822</td>\n",
       "    </tr>\n",
       "    <tr>\n",
       "      <th>7</th>\n",
       "      <td>Nuclei_AreaShape_Area</td>\n",
       "      <td>645.03</td>\n",
       "    </tr>\n",
       "  </tbody>\n",
       "</table>\n",
       "</div>"
      ],
      "text/plain": [
       "                       variable  \\\n",
       "0              Metadata_JCP2022   \n",
       "1             Metadata_InChIKey   \n",
       "2                Metadata_InChI   \n",
       "3               Metadata_Source   \n",
       "4                Metadata_Plate   \n",
       "5                 Metadata_Well   \n",
       "6  Cells_AreaShape_Eccentricity   \n",
       "7         Nuclei_AreaShape_Area   \n",
       "\n",
       "                                               value  \n",
       "0                                     JCP2022_100876  \n",
       "1                        WSMQUUGTQYPVPD-UHFFFAOYSA-N  \n",
       "2  InChI=1S/C20H18FN5O2/c1-10-18-16(26-20(22)23-1...  \n",
       "3                                           source_5  \n",
       "4                                          ACPJUM062  \n",
       "5                                                O23  \n",
       "6                                             0.7822  \n",
       "7                                             645.03  "
      ]
     },
     "execution_count": 18,
     "metadata": {},
     "output_type": "execute_result"
    }
   ],
   "source": [
    "sample_profile = ann_dframe.sample(1, random_state=22)\n",
    "sample_profile.melt()"
   ]
  },
  {
   "cell_type": "markdown",
   "id": "7d910514-4da3-40fe-9dcb-e678ad1482f6",
   "metadata": {},
   "source": [
    "First link the profile to it's images.\n",
    "These are well-level profiles, and each well has typically 9 sites imaged."
   ]
  },
  {
   "cell_type": "code",
   "execution_count": 19,
   "id": "5121ec3d",
   "metadata": {
    "ExecuteTime": {
     "end_time": "2023-06-23T19:13:46.075761Z",
     "start_time": "2023-06-23T19:13:46.057822Z"
    }
   },
   "outputs": [
    {
     "data": {
      "text/html": [
       "<div>\n",
       "<style scoped>\n",
       "    .dataframe tbody tr th:only-of-type {\n",
       "        vertical-align: middle;\n",
       "    }\n",
       "\n",
       "    .dataframe tbody tr th {\n",
       "        vertical-align: top;\n",
       "    }\n",
       "\n",
       "    .dataframe thead th {\n",
       "        text-align: right;\n",
       "    }\n",
       "</style>\n",
       "<table border=\"1\" class=\"dataframe\">\n",
       "  <thead>\n",
       "    <tr style=\"text-align: right;\">\n",
       "      <th></th>\n",
       "      <th>Metadata_Well</th>\n",
       "      <th>Metadata_Site</th>\n",
       "    </tr>\n",
       "  </thead>\n",
       "  <tbody>\n",
       "    <tr>\n",
       "      <th>0</th>\n",
       "      <td>O23</td>\n",
       "      <td>1</td>\n",
       "    </tr>\n",
       "    <tr>\n",
       "      <th>1</th>\n",
       "      <td>O23</td>\n",
       "      <td>2</td>\n",
       "    </tr>\n",
       "    <tr>\n",
       "      <th>2</th>\n",
       "      <td>O23</td>\n",
       "      <td>3</td>\n",
       "    </tr>\n",
       "    <tr>\n",
       "      <th>3</th>\n",
       "      <td>O23</td>\n",
       "      <td>4</td>\n",
       "    </tr>\n",
       "    <tr>\n",
       "      <th>4</th>\n",
       "      <td>O23</td>\n",
       "      <td>5</td>\n",
       "    </tr>\n",
       "    <tr>\n",
       "      <th>5</th>\n",
       "      <td>O23</td>\n",
       "      <td>6</td>\n",
       "    </tr>\n",
       "    <tr>\n",
       "      <th>6</th>\n",
       "      <td>O23</td>\n",
       "      <td>7</td>\n",
       "    </tr>\n",
       "    <tr>\n",
       "      <th>7</th>\n",
       "      <td>O23</td>\n",
       "      <td>8</td>\n",
       "    </tr>\n",
       "    <tr>\n",
       "      <th>8</th>\n",
       "      <td>O23</td>\n",
       "      <td>9</td>\n",
       "    </tr>\n",
       "  </tbody>\n",
       "</table>\n",
       "</div>"
      ],
      "text/plain": [
       "  Metadata_Well Metadata_Site\n",
       "0           O23             1\n",
       "1           O23             2\n",
       "2           O23             3\n",
       "3           O23             4\n",
       "4           O23             5\n",
       "5           O23             6\n",
       "6           O23             7\n",
       "7           O23             8\n",
       "8           O23             9"
      ]
     },
     "execution_count": 19,
     "metadata": {},
     "output_type": "execute_result"
    }
   ],
   "source": [
    "sample_linked = pd.merge(\n",
    "    load_data, sample_profile, on=[\"Metadata_Source\", \"Metadata_Plate\", \"Metadata_Well\"]\n",
    ")\n",
    "sample_linked[['Metadata_Well', 'Metadata_Site']]"
   ]
  },
  {
   "cell_type": "markdown",
   "id": "2d2e7146-ec78-42a4-a2f5-c39abab73a89",
   "metadata": {},
   "source": [
    "Inspect details of a single site for this profile"
   ]
  },
  {
   "cell_type": "code",
   "execution_count": 20,
   "id": "5f4450d3",
   "metadata": {
    "ExecuteTime": {
     "end_time": "2023-06-23T19:13:51.600786Z",
     "start_time": "2023-06-23T19:13:51.593589Z"
    }
   },
   "outputs": [
    {
     "data": {
      "text/html": [
       "<div>\n",
       "<style scoped>\n",
       "    .dataframe tbody tr th:only-of-type {\n",
       "        vertical-align: middle;\n",
       "    }\n",
       "\n",
       "    .dataframe tbody tr th {\n",
       "        vertical-align: top;\n",
       "    }\n",
       "\n",
       "    .dataframe thead th {\n",
       "        text-align: right;\n",
       "    }\n",
       "</style>\n",
       "<table border=\"1\" class=\"dataframe\">\n",
       "  <thead>\n",
       "    <tr style=\"text-align: right;\">\n",
       "      <th></th>\n",
       "      <th>variable</th>\n",
       "      <th>value</th>\n",
       "    </tr>\n",
       "  </thead>\n",
       "  <tbody>\n",
       "    <tr>\n",
       "      <th>0</th>\n",
       "      <td>Metadata_Source</td>\n",
       "      <td>source_5</td>\n",
       "    </tr>\n",
       "    <tr>\n",
       "      <th>1</th>\n",
       "      <td>Metadata_Batch</td>\n",
       "      <td>JUMPCPE-20210716-Run12_20210719_162047</td>\n",
       "    </tr>\n",
       "    <tr>\n",
       "      <th>2</th>\n",
       "      <td>Metadata_Plate</td>\n",
       "      <td>ACPJUM062</td>\n",
       "    </tr>\n",
       "    <tr>\n",
       "      <th>3</th>\n",
       "      <td>Metadata_Well</td>\n",
       "      <td>O23</td>\n",
       "    </tr>\n",
       "    <tr>\n",
       "      <th>4</th>\n",
       "      <td>Metadata_Site</td>\n",
       "      <td>1</td>\n",
       "    </tr>\n",
       "    <tr>\n",
       "      <th>5</th>\n",
       "      <td>FileName_IllumAGP</td>\n",
       "      <td>ACPJUM062_IllumAGP.npy</td>\n",
       "    </tr>\n",
       "    <tr>\n",
       "      <th>6</th>\n",
       "      <td>FileName_IllumDNA</td>\n",
       "      <td>ACPJUM062_IllumDNA.npy</td>\n",
       "    </tr>\n",
       "    <tr>\n",
       "      <th>7</th>\n",
       "      <td>FileName_IllumER</td>\n",
       "      <td>ACPJUM062_IllumER.npy</td>\n",
       "    </tr>\n",
       "    <tr>\n",
       "      <th>8</th>\n",
       "      <td>FileName_IllumMito</td>\n",
       "      <td>ACPJUM062_IllumMito.npy</td>\n",
       "    </tr>\n",
       "    <tr>\n",
       "      <th>9</th>\n",
       "      <td>FileName_IllumRNA</td>\n",
       "      <td>ACPJUM062_IllumRNA.npy</td>\n",
       "    </tr>\n",
       "    <tr>\n",
       "      <th>10</th>\n",
       "      <td>FileName_OrigAGP</td>\n",
       "      <td>P01_ACPJUM062_O23_T0001F001L01A04Z01C04.tif</td>\n",
       "    </tr>\n",
       "    <tr>\n",
       "      <th>11</th>\n",
       "      <td>FileName_OrigDNA</td>\n",
       "      <td>P01_ACPJUM062_O23_T0001F001L01A01Z01C01.tif</td>\n",
       "    </tr>\n",
       "    <tr>\n",
       "      <th>12</th>\n",
       "      <td>FileName_OrigER</td>\n",
       "      <td>P01_ACPJUM062_O23_T0001F001L01A02Z01C02.tif</td>\n",
       "    </tr>\n",
       "    <tr>\n",
       "      <th>13</th>\n",
       "      <td>FileName_OrigMito</td>\n",
       "      <td>P01_ACPJUM062_O23_T0001F001L01A05Z01C05.tif</td>\n",
       "    </tr>\n",
       "    <tr>\n",
       "      <th>14</th>\n",
       "      <td>FileName_OrigRNA</td>\n",
       "      <td>P01_ACPJUM062_O23_T0001F001L01A03Z01C03.tif</td>\n",
       "    </tr>\n",
       "    <tr>\n",
       "      <th>15</th>\n",
       "      <td>PathName_IllumAGP</td>\n",
       "      <td>s3://cellpainting-gallery/cpg0016-jump/source_...</td>\n",
       "    </tr>\n",
       "    <tr>\n",
       "      <th>16</th>\n",
       "      <td>PathName_IllumDNA</td>\n",
       "      <td>s3://cellpainting-gallery/cpg0016-jump/source_...</td>\n",
       "    </tr>\n",
       "    <tr>\n",
       "      <th>17</th>\n",
       "      <td>PathName_IllumER</td>\n",
       "      <td>s3://cellpainting-gallery/cpg0016-jump/source_...</td>\n",
       "    </tr>\n",
       "    <tr>\n",
       "      <th>18</th>\n",
       "      <td>PathName_IllumMito</td>\n",
       "      <td>s3://cellpainting-gallery/cpg0016-jump/source_...</td>\n",
       "    </tr>\n",
       "    <tr>\n",
       "      <th>19</th>\n",
       "      <td>PathName_IllumRNA</td>\n",
       "      <td>s3://cellpainting-gallery/cpg0016-jump/source_...</td>\n",
       "    </tr>\n",
       "    <tr>\n",
       "      <th>20</th>\n",
       "      <td>PathName_OrigAGP</td>\n",
       "      <td>s3://cellpainting-gallery/cpg0016-jump/source_...</td>\n",
       "    </tr>\n",
       "    <tr>\n",
       "      <th>21</th>\n",
       "      <td>PathName_OrigDNA</td>\n",
       "      <td>s3://cellpainting-gallery/cpg0016-jump/source_...</td>\n",
       "    </tr>\n",
       "    <tr>\n",
       "      <th>22</th>\n",
       "      <td>PathName_OrigER</td>\n",
       "      <td>s3://cellpainting-gallery/cpg0016-jump/source_...</td>\n",
       "    </tr>\n",
       "    <tr>\n",
       "      <th>23</th>\n",
       "      <td>PathName_OrigMito</td>\n",
       "      <td>s3://cellpainting-gallery/cpg0016-jump/source_...</td>\n",
       "    </tr>\n",
       "    <tr>\n",
       "      <th>24</th>\n",
       "      <td>PathName_OrigRNA</td>\n",
       "      <td>s3://cellpainting-gallery/cpg0016-jump/source_...</td>\n",
       "    </tr>\n",
       "    <tr>\n",
       "      <th>25</th>\n",
       "      <td>Metadata_JCP2022</td>\n",
       "      <td>JCP2022_100876</td>\n",
       "    </tr>\n",
       "    <tr>\n",
       "      <th>26</th>\n",
       "      <td>Metadata_InChIKey</td>\n",
       "      <td>WSMQUUGTQYPVPD-UHFFFAOYSA-N</td>\n",
       "    </tr>\n",
       "    <tr>\n",
       "      <th>27</th>\n",
       "      <td>Metadata_InChI</td>\n",
       "      <td>InChI=1S/C20H18FN5O2/c1-10-18-16(26-20(22)23-1...</td>\n",
       "    </tr>\n",
       "    <tr>\n",
       "      <th>28</th>\n",
       "      <td>Cells_AreaShape_Eccentricity</td>\n",
       "      <td>0.7822</td>\n",
       "    </tr>\n",
       "    <tr>\n",
       "      <th>29</th>\n",
       "      <td>Nuclei_AreaShape_Area</td>\n",
       "      <td>645.03</td>\n",
       "    </tr>\n",
       "  </tbody>\n",
       "</table>\n",
       "</div>"
      ],
      "text/plain": [
       "                        variable  \\\n",
       "0                Metadata_Source   \n",
       "1                 Metadata_Batch   \n",
       "2                 Metadata_Plate   \n",
       "3                  Metadata_Well   \n",
       "4                  Metadata_Site   \n",
       "5              FileName_IllumAGP   \n",
       "6              FileName_IllumDNA   \n",
       "7               FileName_IllumER   \n",
       "8             FileName_IllumMito   \n",
       "9              FileName_IllumRNA   \n",
       "10              FileName_OrigAGP   \n",
       "11              FileName_OrigDNA   \n",
       "12               FileName_OrigER   \n",
       "13             FileName_OrigMito   \n",
       "14              FileName_OrigRNA   \n",
       "15             PathName_IllumAGP   \n",
       "16             PathName_IllumDNA   \n",
       "17              PathName_IllumER   \n",
       "18            PathName_IllumMito   \n",
       "19             PathName_IllumRNA   \n",
       "20              PathName_OrigAGP   \n",
       "21              PathName_OrigDNA   \n",
       "22               PathName_OrigER   \n",
       "23             PathName_OrigMito   \n",
       "24              PathName_OrigRNA   \n",
       "25              Metadata_JCP2022   \n",
       "26             Metadata_InChIKey   \n",
       "27                Metadata_InChI   \n",
       "28  Cells_AreaShape_Eccentricity   \n",
       "29         Nuclei_AreaShape_Area   \n",
       "\n",
       "                                                value  \n",
       "0                                            source_5  \n",
       "1              JUMPCPE-20210716-Run12_20210719_162047  \n",
       "2                                           ACPJUM062  \n",
       "3                                                 O23  \n",
       "4                                                   1  \n",
       "5                              ACPJUM062_IllumAGP.npy  \n",
       "6                              ACPJUM062_IllumDNA.npy  \n",
       "7                               ACPJUM062_IllumER.npy  \n",
       "8                             ACPJUM062_IllumMito.npy  \n",
       "9                              ACPJUM062_IllumRNA.npy  \n",
       "10        P01_ACPJUM062_O23_T0001F001L01A04Z01C04.tif  \n",
       "11        P01_ACPJUM062_O23_T0001F001L01A01Z01C01.tif  \n",
       "12        P01_ACPJUM062_O23_T0001F001L01A02Z01C02.tif  \n",
       "13        P01_ACPJUM062_O23_T0001F001L01A05Z01C05.tif  \n",
       "14        P01_ACPJUM062_O23_T0001F001L01A03Z01C03.tif  \n",
       "15  s3://cellpainting-gallery/cpg0016-jump/source_...  \n",
       "16  s3://cellpainting-gallery/cpg0016-jump/source_...  \n",
       "17  s3://cellpainting-gallery/cpg0016-jump/source_...  \n",
       "18  s3://cellpainting-gallery/cpg0016-jump/source_...  \n",
       "19  s3://cellpainting-gallery/cpg0016-jump/source_...  \n",
       "20  s3://cellpainting-gallery/cpg0016-jump/source_...  \n",
       "21  s3://cellpainting-gallery/cpg0016-jump/source_...  \n",
       "22  s3://cellpainting-gallery/cpg0016-jump/source_...  \n",
       "23  s3://cellpainting-gallery/cpg0016-jump/source_...  \n",
       "24  s3://cellpainting-gallery/cpg0016-jump/source_...  \n",
       "25                                     JCP2022_100876  \n",
       "26                        WSMQUUGTQYPVPD-UHFFFAOYSA-N  \n",
       "27  InChI=1S/C20H18FN5O2/c1-10-18-16(26-20(22)23-1...  \n",
       "28                                             0.7822  \n",
       "29                                             645.03  "
      ]
     },
     "execution_count": 20,
     "metadata": {},
     "output_type": "execute_result"
    }
   ],
   "source": [
    "sample_linked.iloc[:1].melt()"
   ]
  },
  {
   "cell_type": "markdown",
   "id": "fe6e7189-6af6-40d0-80b6-b47f555084aa",
   "metadata": {},
   "source": [
    "Now load and display a single channel of this 5-channel image"
   ]
  },
  {
   "cell_type": "code",
   "execution_count": 25,
   "id": "b5ed1058",
   "metadata": {
    "ExecuteTime": {
     "end_time": "2023-06-23T19:27:30.292140Z",
     "start_time": "2023-06-23T19:27:29.175540Z"
    }
   },
   "outputs": [
    {
     "name": "stdout",
     "output_type": "stream",
     "text": [
      " Image url:  s3://cellpainting-gallery/cpg0016-jump/source_5/images/JUMPCPE-20210716-Run12_20210719_162047/images/P01_ACPJUM062/P01_ACPJUM062_O23_T0001F001L01A01Z01C01.tif\n",
      " Bucket   :  cellpainting-gallery\n",
      " Key      :  ['cpg0016-jump', 'source_5', 'images', 'JUMPCPE-20210716-Run12_20210719_162047', 'images', 'P01_ACPJUM062', 'P01_ACPJUM062_O23_T0001F001L01A01Z01C01.tif']\n"
     ]
    },
    {
     "data": {
      "text/plain": [
       "'s3://cellpainting-gallery/cpg0016-jump/source_5/images/JUMPCPE-20210716-Run12_20210719_162047/images/P01_ACPJUM062/P01_ACPJUM062_O23_T0001F001L01A01Z01C01.tif'"
      ]
     },
     "execution_count": 25,
     "metadata": {},
     "output_type": "execute_result"
    },
    {
     "data": {
      "image/png": "[encoded data removed]",
      "text/plain": [
       "<Figure size 640x480 with 1 Axes>"
      ]
     },
     "metadata": {},
     "output_type": "display_data"
    }
   ],
   "source": [
    "import os\n",
    "import requests\n",
    "from io import BytesIO\n",
    "from matplotlib import pyplot as plt\n",
    "from matplotlib import image as mpimg\n",
    "import boto3\n",
    "\n",
    "image_url = os.path.join(\n",
    "    sample_linked.iloc[0].PathName_OrigDNA, sample_linked.iloc[0].FileName_OrigDNA\n",
    ")\n",
    "print(' Image url: ', image_url)\n",
    "print(' Bucket   : ', image_url.split(\"/\")[2])\n",
    "print(' Key      : ', image_url.split(\"/\")[3:])\n",
    "s3_client = boto3.client(\"s3\")\n",
    "response = s3_client.get_object(\n",
    "    Bucket=image_url.split(\"/\")[2], Key=\"/\".join(image_url.split(\"/\")[3:])\n",
    ")\n",
    "image = mpimg.imread(BytesIO(response[\"Body\"].read()), format=\"tiff\")\n",
    "\n",
    "plt.imshow(image, cmap=\"gray\")\n",
    "image_url\n"
   ]
  },
  {
   "cell_type": "markdown",
   "id": "d4a50964-9c9a-4266-89c2-de12d95227f3",
   "metadata": {},
   "source": [
    "There's a lot more to come! We will add more example notebooks as we go."
   ]
  }
 ],
 "metadata": {
  "kernelspec": {
   "display_name": "Python [conda env:cp]",
   "language": "python",
   "name": "conda-env-cp-py"
  },
  "language_info": {
   "codemirror_mode": {
    "name": "ipython",
    "version": 3
   },
   "file_extension": ".py",
   "mimetype": "text/x-python",
   "name": "python",
   "nbconvert_exporter": "python",
   "pygments_lexer": "ipython3",
   "version": "3.11.4"
  },
  "toc": {
   "base_numbering": 1,
   "nav_menu": {},
   "number_sections": true,
   "sideBar": true,
   "skip_h1_title": false,
   "title_cell": "Table of Contents",
   "title_sidebar": "Contents",
   "toc_cell": false,
   "toc_position": {},
   "toc_section_display": true,
   "toc_window_display": false
  },
  "vscode": {
   "interpreter": {
    "hash": "99b7565f135174dc0b2b48bf12677acb9f68934ef480bdca979ca8cd3dcbc0b9"
   }
  }
 },
 "nbformat": 4,
 "nbformat_minor": 5
}
