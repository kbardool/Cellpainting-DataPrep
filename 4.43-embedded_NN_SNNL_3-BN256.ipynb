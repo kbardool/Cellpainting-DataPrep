{
 "cells": [
  {
   "cell_type": "markdown",
   "id": "418c282c-2b25-4f32-96cf-883b40b84c36",
   "metadata": {
    "editable": true,
    "slideshow": {
     "slide_type": ""
    },
    "tags": []
   },
   "source": [
    "  # Apply encoder to morphological profiles to get latent space representations :"
   ]
  },
  {
   "cell_type": "markdown",
   "id": "14da93a6-653f-4a55-9b3a-e72ab79a1121",
   "metadata": {},
   "source": [
    "# Setup"
   ]
  },
  {
   "cell_type": "code",
   "execution_count": 1,
   "id": "a104a277-3ad3-438a-b706-d4499f709f89",
   "metadata": {
    "ExecuteTime": {
     "end_time": "2023-04-12T10:29:16.111588Z",
     "start_time": "2023-04-12T10:29:15.764305Z"
    },
    "editable": true,
    "execution": {
     "iopub.execute_input": "2024-09-30T17:42:03.369584Z",
     "iopub.status.busy": "2024-09-30T17:42:03.369166Z",
     "iopub.status.idle": "2024-09-30T17:42:03.399622Z",
     "shell.execute_reply": "2024-09-30T17:42:03.398986Z",
     "shell.execute_reply.started": "2024-09-30T17:42:03.369542Z"
    },
    "slideshow": {
     "slide_type": ""
    },
    "tags": []
   },
   "outputs": [
    {
     "data": {
      "text/html": [
       "<style>.container { width:98% !important; }</style>"
      ],
      "text/plain": [
       "<IPython.core.display.HTML object>"
      ]
     },
     "metadata": {},
     "output_type": "display_data"
    }
   ],
   "source": [
    "%load_ext autoreload  \n",
    "%autoreload 2\n",
    "from IPython.display import display, HTML, Image\n",
    "from IPython.core.interactiveshell import InteractiveShell\n",
    "display(HTML(\"<style>.container { width:98% !important; }</style>\"))\n",
    "InteractiveShell.ast_node_interactivity = \"all\""
   ]
  },
  {
   "cell_type": "code",
   "execution_count": 2,
   "id": "7478f60a-2ea2-4407-bd91-f068349f222b",
   "metadata": {
    "ExecuteTime": {
     "end_time": "2023-04-12T10:29:16.111588Z",
     "start_time": "2023-04-12T10:29:15.764305Z"
    },
    "editable": true,
    "execution": {
     "iopub.execute_input": "2024-09-30T17:42:03.402064Z",
     "iopub.status.busy": "2024-09-30T17:42:03.401661Z",
     "iopub.status.idle": "2024-09-30T17:42:05.881274Z",
     "shell.execute_reply": "2024-09-30T17:42:05.880730Z",
     "shell.execute_reply.started": "2024-09-30T17:42:03.402041Z"
    },
    "slideshow": {
     "slide_type": ""
    },
    "tags": []
   },
   "outputs": [
    {
     "name": "stdout",
     "output_type": "stream",
     "text": [
      "insert ./src\n",
      "insert ../pt-snnl\n",
      "insert ../..\n",
      "['../..', '../pt-snnl', './src', '/home/kevin/WSL-shared/cellpainting/cj-datasets', '/home/kevin/miniforge3/envs/cp311/lib/python311.zip', '/home/kevin/miniforge3/envs/cp311/lib/python3.11', '/home/kevin/miniforge3/envs/cp311/lib/python3.11/lib-dynload', '', '/home/kevin/miniforge3/envs/cp311/lib/python3.11/site-packages', '/home/kevin/miniforge3/envs/cp311/lib/python3.11/site-packages/huggingface_hub-0.20.3-py3.8.egg']\n"
     ]
    },
    {
     "data": {
      "text/plain": [
       "<torch._C.Generator at 0x7fa98f923f30>"
      ]
     },
     "execution_count": 2,
     "metadata": {},
     "output_type": "execute_result"
    },
    {
     "data": {
      "text/plain": [
       "4"
      ]
     },
     "execution_count": 2,
     "metadata": {},
     "output_type": "execute_result"
    }
   ],
   "source": [
    "import os\n",
    "import sys\n",
    "import random\n",
    "from typing import List, Tuple\n",
    "from types import SimpleNamespace\n",
    "import pprint\n",
    "import logging\n",
    "from datetime import datetime\n",
    "for p in ['./src','../pt-snnl','../..']:\n",
    "    if p not in sys.path:\n",
    "        print(f\"insert {p}\")\n",
    "        sys.path.insert(0, p)\n",
    "print(sys.path)\n",
    "\n",
    "import tqdm\n",
    "import numpy as np\n",
    "import matplotlib.pyplot as plt\n",
    "import seaborn as sb\n",
    "import pandas as pd\n",
    "\n",
    "import scipy\n",
    "import scipy.stats as sps\n",
    "import sklearn.metrics as skm\n",
    "from scipy.spatial.distance import pdist, squareform, euclidean\n",
    "\n",
    "import torch\n",
    "import torch.nn as nn\n",
    "import torch.nn.functional as F\n",
    "import matplotlib.pyplot as plt  # for making figures\n",
    "from torchinfo import summary\n",
    "\n",
    "torch.set_printoptions(precision=None, threshold=None, edgeitems=None, linewidth=180, profile=None, sci_mode=None)\n",
    "torch.manual_seed(42);   # seed rng for reproducibility\n",
    "pp = pprint.PrettyPrinter(indent=4)\n",
    "pd.options.display.width = 132\n",
    "np.set_printoptions(edgeitems=3, infstr='inf', linewidth=150, nanstr='nan')\n",
    "\n",
    "os.environ[\"WANDB_NOTEBOOK_NAME\"] = \"AE-MAIN-SNNL.ipynb\"\n",
    "# os.environ[\"CUDA_LAUNCH_BLOCKING\"] = \"1\"\n",
    "os.environ[\"CUDA_VISIBLE_DEVICES\"] = \"0,1,2\"\n",
    "\n",
    "torch.set_num_threads(4)  ## <--- limit to ~ 2 CPUs\n",
    "torch.get_num_threads()"
   ]
  },
  {
   "cell_type": "code",
   "execution_count": 3,
   "id": "b939a031-286c-430c-890d-946ea497d8e3",
   "metadata": {
    "editable": true,
    "execution": {
     "iopub.execute_input": "2024-09-30T17:42:05.882418Z",
     "iopub.status.busy": "2024-09-30T17:42:05.882108Z",
     "iopub.status.idle": "2024-09-30T17:42:07.720546Z",
     "shell.execute_reply": "2024-09-30T17:42:07.719714Z",
     "shell.execute_reply.started": "2024-09-30T17:42:05.882397Z"
    },
    "slideshow": {
     "slide_type": ""
    },
    "tags": []
   },
   "outputs": [
    {
     "name": "stderr",
     "output_type": "stream",
     "text": [
      "/home/kevin/miniforge3/envs/cp311/lib/python3.11/site-packages/dask/dataframe/_pyarrow_compat.py:17: FutureWarning: Minimal version of pyarrow will soon be increased to 14.0.1. You are using 11.0.0. Please consider upgrading.\n",
      "  warnings.warn(\n"
     ]
    }
   ],
   "source": [
    "# from KevinsRoutines.utils.utils_general import list_namespace, save_to_pickle, load_from_pickle, get_device\n",
    "import KevinsRoutines.utils as myutils\n",
    "# import snnl.utils as utils\n",
    "# from utils.utils_ptsnnl import display_cellpainting_batch, get_device\n",
    "from utils.utils_cellpainting import label_counts, balance_datasets,save_checkpoint, load_checkpoint\n",
    "\n",
    "from utils.utils_notebooks import plot_cls_metrics, compute_classification_metrics, run_model_on_test_data,\\\n",
    "                                train, validation, accuracy_fn, fit, build_model, define_datasets"
   ]
  },
  {
   "cell_type": "code",
   "execution_count": 5,
   "id": "c12352c5-443c-414b-bb2b-6ea5ba801515",
   "metadata": {
    "editable": true,
    "execution": {
     "iopub.execute_input": "2024-09-30T17:42:07.983475Z",
     "iopub.status.busy": "2024-09-30T17:42:07.983267Z",
     "iopub.status.idle": "2024-09-30T17:42:08.020021Z",
     "shell.execute_reply": "2024-09-30T17:42:08.019528Z",
     "shell.execute_reply.started": "2024-09-30T17:42:07.983454Z"
    },
    "scrolled": true,
    "slideshow": {
     "slide_type": ""
    },
    "tags": []
   },
   "outputs": [
    {
     "name": "stderr",
     "output_type": "stream",
     "text": [
      "2024-09-30 19:42:08,014 - __main__ - INFO: -  Excution started : 2024_09_30_19:42:08 \n",
      "2024-09-30 19:42:08,015 - __main__ - INFO: -  Pytorch version  : 2.2.0\n",
      "2024-09-30 19:42:08,016 - __main__ - INFO: -  Scipy version    : 1.11.4  \t\t Numpy version : 1.26.2\n",
      "2024-09-30 19:42:08,017 - __main__ - INFO: -  Pandas version   : 2.2.0  \n"
     ]
    }
   ],
   "source": [
    "timestamp = datetime.now().strftime('%Y_%m_%d_%H:%M:%S')\n",
    "logger = logging.getLogger(__name__)\n",
    "logLevel = os.environ.get('LOG_LEVEL', 'INFO').upper()\n",
    "FORMAT = '%(asctime)s - %(name)s - %(levelname)s: - %(message)s'\n",
    "logging.basicConfig(level=\"INFO\", format= FORMAT)\n",
    "logger.info(f\" Excution started : {timestamp} \")\n",
    "logger.info(f\" Pytorch version  : {torch.__version__}\")\n",
    "logger.info(f\" Scipy version    : {scipy.__version__}  \\t\\t Numpy version : {np.__version__}\")\n",
    "logger.info(f\" Pandas version   : {pd.__version__}  \")"
   ]
  },
  {
   "cell_type": "code",
   "execution_count": 6,
   "id": "776090d4-6009-4908-8272-26d915c165a6",
   "metadata": {
    "ExecuteTime": {
     "end_time": "2023-07-31T18:45:10.550334Z",
     "start_time": "2023-07-31T18:45:07.868769Z"
    },
    "execution": {
     "iopub.execute_input": "2024-10-03T17:55:20.960567Z",
     "iopub.status.busy": "2024-10-03T17:55:20.960378Z",
     "iopub.status.idle": "2024-10-03T17:55:21.027449Z",
     "shell.execute_reply": "2024-10-03T17:55:21.026608Z",
     "shell.execute_reply.started": "2024-10-03T17:55:20.960547Z"
    }
   },
   "outputs": [],
   "source": [
    "try:\n",
    "    del model\n",
    "except Exception as e:\n",
    "    pass"
   ]
  },
  {
   "cell_type": "code",
   "execution_count": 7,
   "id": "fd9bda27-00ff-4f3f-bdab-e753e327e2d2",
   "metadata": {
    "execution": {
     "iopub.execute_input": "2024-10-03T17:55:21.028362Z",
     "iopub.status.busy": "2024-10-03T17:55:21.028182Z",
     "iopub.status.idle": "2024-10-03T17:55:21.086798Z",
     "shell.execute_reply": "2024-10-03T17:55:21.085493Z",
     "shell.execute_reply.started": "2024-10-03T17:55:21.028344Z"
    }
   },
   "outputs": [
    {
     "name": "stdout",
     "output_type": "stream",
     "text": [
      " Switched to: \"cuda:1\"   Device Name: Quadro GV100                  \n"
     ]
    },
    {
     "data": {
      "text/plain": [
       "'cuda:1'"
      ]
     },
     "execution_count": 7,
     "metadata": {},
     "output_type": "execute_result"
    },
    {
     "name": "stdout",
     "output_type": "stream",
     "text": [
      "Dev Id   Device Name                    Total Memory                     InUse                            Free Memory \n",
      "   0     Quadro GV100                   34,069,872,640 B/ (31.73 GB)  \t 325,058,560 B / (0.30 GB)  \t 33,744,814,080 B / (31.43 GB)  \n",
      "   1     Quadro GV100                   34,069,872,640 B/ (31.73 GB)  \t 325,058,560 B / (0.30 GB)  \t 33,744,814,080 B / (31.43 GB)   *** CURRENT DEVICE *** \n",
      "   2     NVIDIA TITAN Xp                12,774,539,264 B/ (11.90 GB)  \t 157,417,472 B / (0.15 GB)  \t 12,617,121,792 B / (11.75 GB)  \n",
      "\n",
      " Current CUDA Device is:  \"cuda:1\"  Device Name: Quadro GV100\n",
      "cuda:1\n"
     ]
    }
   ],
   "source": [
    "myutils.set_device(1)\n",
    "device  = myutils.get_device(verbose = True)\n",
    "print(device)"
   ]
  },
  {
   "cell_type": "markdown",
   "id": "cdac793b-be20-4c56-8bab-989c05caad80",
   "metadata": {},
   "source": [
    "# Args "
   ]
  },
  {
   "cell_type": "code",
   "execution_count": 6,
   "id": "c25082b2-753b-4069-b183-00a90f611b68",
   "metadata": {
    "editable": true,
    "execution": {
     "iopub.execute_input": "2024-09-30T17:42:08.022898Z",
     "iopub.status.busy": "2024-09-30T17:42:08.022618Z",
     "iopub.status.idle": "2024-09-30T17:42:08.057747Z",
     "shell.execute_reply": "2024-09-30T17:42:08.057175Z",
     "shell.execute_reply.started": "2024-09-30T17:42:08.022878Z"
    },
    "slideshow": {
     "slide_type": ""
    },
    "tags": []
   },
   "outputs": [
    {
     "name": "stdout",
     "output_type": "stream",
     "text": [
      "11\n",
      "261\n"
     ]
    }
   ],
   "source": [
    "LATENT_DIM    = 250\n",
    "COMPOUNDS_PER_BATCH = 600\n",
    "\n",
    "MODEL_TYPE = 'batch_norm'\n",
    "# MODEL_TYPE = 'single_layer'\n",
    "# MODEL_TYPE = 'relu'\n",
    "n_input    = LATENT_DIM  # the embedding dimensionality \n",
    "n_hidden_1 = 512  # the number of neurons in the hidden layer of the MLP\n",
    "n_hidden_2 = 512  # the number of neurons in the hidden layer of the MLP\n",
    "n_hidden_3 = 128\n",
    "\n",
    "METADATA_COLS = ['Metadata_Source', 'Metadata_Batch', 'Metadata_Plate', 'Metadata_Well', 'Metadata_JCP2022', 'Metadata_Hash', 'Metadata_Bin', 'Metadata_TPSA', 'Metadata_lnTPSA', 'Metadata_log10TPSA', 'Metadata_Permiation']\n",
    "# METADATA_COLS += [f'Feature_{x:03d}' for x in range(LATENT_DIM)]\n",
    "input_cols = LATENT_DIM + len(METADATA_COLS)\n",
    "print(len(METADATA_COLS))\n",
    "print(input_cols)\n",
    "\n",
    "INPUT_PATH = f\"/home/kevin/WSL-shared/cellpainting/cj-datasets/output_11102023/3_sample_embeddings/\"\n",
    "CKPT_PATH = \"./saved_models/embedding_models\""
   ]
  },
  {
   "cell_type": "code",
   "execution_count": 1,
   "id": "33ba5b40-139d-4ad4-b6c4-51e4e19a0dc6",
   "metadata": {
    "execution": {
     "iopub.execute_input": "2024-10-03T19:57:34.960813Z",
     "iopub.status.busy": "2024-10-03T19:57:34.960284Z",
     "iopub.status.idle": "2024-10-03T19:57:35.122673Z",
     "shell.execute_reply": "2024-10-03T19:57:35.121682Z",
     "shell.execute_reply.started": "2024-10-03T19:57:34.960769Z"
    }
   },
   "outputs": [
    {
     "ename": "NameError",
     "evalue": "name 'RUN_DATETIME' is not defined",
     "output_type": "error",
     "traceback": [
      "\u001b[0;31m---------------------------------------------------------------------------\u001b[0m",
      "\u001b[0;31mNameError\u001b[0m                                 Traceback (most recent call last)",
      "Cell \u001b[0;32mIn[1], line 11\u001b[0m\n\u001b[1;32m      1\u001b[0m \u001b[38;5;66;03m# RUN_DATETIME = datetime.now().strftime('%Y%m%d_%H%M')\u001b[39;00m\n\u001b[1;32m      2\u001b[0m \u001b[38;5;66;03m# RUN_DATETIME = '20240909_1801'\u001b[39;00m\n\u001b[1;32m      3\u001b[0m \u001b[38;5;66;03m# RUN_DATETIME = '20240909_1800'\u001b[39;00m\n\u001b[0;32m   (...)\u001b[0m\n\u001b[1;32m      9\u001b[0m \u001b[38;5;66;03m# RUN_DATETIME = '20240929_2015'\u001b[39;00m\n\u001b[1;32m     10\u001b[0m \u001b[38;5;66;03m# RUN_DATETIME = '20240930_1930'\u001b[39;00m\n\u001b[0;32m---> 11\u001b[0m \u001b[38;5;28mprint\u001b[39m(\u001b[43mRUN_DATETIME\u001b[49m)\n",
      "\u001b[0;31mNameError\u001b[0m: name 'RUN_DATETIME' is not defined"
     ]
    }
   ],
   "source": [
    "# RUN_DATETIME = datetime.now().strftime('%Y%m%d_%H%M')\n",
    "# RUN_DATETIME = '20240909_1801'\n",
    "# RUN_DATETIME = '20240909_1800'\n",
    "# RUN_DATETIME = '20240909_2100'\n",
    "# RUN_DATETIME = '20240916_1830'\n",
    "# RUN_DATETIME = '20240921_0700'\n",
    "# RUN_DATETIME = '20240926_1900'\n",
    "# RUN_DATETIME = '20240927_2345'\n",
    "RUN_DATETIME = '20240929_2015'\n",
    "# RUN_DATETIME = '20240930_1930'\n",
    "print(RUN_DATETIME)"
   ]
  },
  {
   "cell_type": "code",
   "execution_count": 8,
   "id": "60285362-f1d0-48f0-91d3-1787dce08036",
   "metadata": {
    "editable": true,
    "execution": {
     "iopub.execute_input": "2024-09-30T17:42:08.115533Z",
     "iopub.status.busy": "2024-09-30T17:42:08.115085Z",
     "iopub.status.idle": "2024-09-30T17:42:08.145272Z",
     "shell.execute_reply": "2024-09-30T17:42:08.144788Z",
     "shell.execute_reply.started": "2024-09-30T17:42:08.115495Z"
    },
    "slideshow": {
     "slide_type": ""
    },
    "tags": []
   },
   "outputs": [],
   "source": [
    "# SNNL AUTOENCODERS \n",
    "AE_RUNMODE = \"snnl\"\n",
    "# AE_DATETIME = \"20240718_1956\"\n",
    "AE_DATETIME = \"20240906_2201\"     # Autoencoder training - SNNL, CPB = 600, Latent 150, WD = 0.001, SNN Factor 3\n",
    "# AE_DATETIME = \"20240917_2004\"     # Autoencoder training - SNNL, CPB = 600, Latent 250, WD = 0.001, SNN Factor 3\n",
    "\n",
    "## BASELINE AUTOENCODERS \n",
    "# AE_RUNMODE = 'base'\n",
    "# AE_DATETIME = \"20240917_2017\"     # Autoencoder training - Baseline, CPB = 600, Latent 250, WD = 0.001 (SNN Factor 0)\n",
    "\n",
    "# AE_CKPTTYPE = \"BEST\"\n",
    "AE_CKPTTYPE = \"LAST\""
   ]
  },
  {
   "cell_type": "code",
   "execution_count": 18,
   "id": "593a54d5-8fa0-42d0-bbae-e0f29019cb09",
   "metadata": {
    "execution": {
     "iopub.execute_input": "2024-09-30T17:42:29.091806Z",
     "iopub.status.busy": "2024-09-30T17:42:29.091531Z",
     "iopub.status.idle": "2024-09-30T17:42:29.122759Z",
     "shell.execute_reply": "2024-09-30T17:42:29.122081Z",
     "shell.execute_reply.started": "2024-09-30T17:42:29.091788Z"
    }
   },
   "outputs": [
    {
     "name": "stdout",
     "output_type": "stream",
     "text": [
      "NN_snnl_embd600_250Ltnt_512_20240917_2004_LAST_20240930_1930_ep_{ep}\n"
     ]
    }
   ],
   "source": [
    "CKPT_FILE = f\"NN_{AE_RUNMODE.lower()}_embd600_{LATENT_DIM}Ltnt_512_{AE_DATETIME}_{AE_CKPTTYPE}_{RUN_DATETIME}_ep_{{ep}}\"\n",
    "print(CKPT_FILE)"
   ]
  },
  {
   "cell_type": "code",
   "execution_count": 9,
   "id": "12b67fd3-5cee-433b-b177-60d588e8b7e8",
   "metadata": {
    "execution": {
     "iopub.execute_input": "2024-09-30T17:42:08.146534Z",
     "iopub.status.busy": "2024-09-30T17:42:08.146252Z",
     "iopub.status.idle": "2024-09-30T17:42:08.172337Z",
     "shell.execute_reply": "2024-09-30T17:42:08.171714Z",
     "shell.execute_reply.started": "2024-09-30T17:42:08.146515Z"
    }
   },
   "outputs": [],
   "source": [
    "## total rows = 346,542\n",
    "## Trn file sz: 312,000 \n",
    "## Train      : 277,200    (312_000 - (21,600 + 12,600 + 600) = 277,200\n",
    "## Validation :  21,600\n",
    "## Test       :  12,600\n",
    "## Leftover   :     600\n",
    "cellpainting_args = {'compounds_per_batch': COMPOUNDS_PER_BATCH,\n",
    "                     'train_start'        : 0,\n",
    "                     'train_end'          : 277_200,\n",
    "                     'val_start'          : 0,\n",
    "                     'val_end'            : 21_600,\n",
    "                     'test_start'         : 0,\n",
    "                     'test_end'           : 12_600, \n",
    "                    }"
   ]
  },
  {
   "cell_type": "code",
   "execution_count": 10,
   "id": "d2a6e1c4-2637-42f1-b545-9b71ea07855d",
   "metadata": {
    "execution": {
     "iopub.execute_input": "2024-09-30T17:42:08.175684Z",
     "iopub.status.busy": "2024-09-30T17:42:08.175426Z",
     "iopub.status.idle": "2024-09-30T17:42:08.233857Z",
     "shell.execute_reply": "2024-09-30T17:42:08.233404Z",
     "shell.execute_reply.started": "2024-09-30T17:42:08.175667Z"
    }
   },
   "outputs": [
    {
     "name": "stderr",
     "output_type": "stream",
     "text": [
      "2024-09-30 19:42:08,204 - utils.dataloader - INFO: -  Building CellPantingDataset for train\n",
      "2024-09-30 19:42:08,205 - utils.dataloader - INFO: -  filename:  /home/kevin/WSL-shared/cellpainting/cj-datasets/output_11102023/3_sample_embeddings/3smpl_prfl_embedding_261_HashOrder_snnl_20240917_2004_LAST_train.csv\n",
      "2024-09-30 19:42:08,206 - utils.dataloader - INFO: -  type    :  train\n",
      "2024-09-30 19:42:08,207 - utils.dataloader - INFO: -  start   :  0\n",
      "2024-09-30 19:42:08,208 - utils.dataloader - INFO: -  end     :  277200\n",
      "2024-09-30 19:42:08,209 - utils.dataloader - INFO: -  numrows :  277200\n",
      "2024-09-30 19:42:08,209 - utils.dataloader - INFO: -  names   :  None     usecols :  None\n",
      "2024-09-30 19:42:08,210 - utils.dataloader - INFO: -  batch_size  :  1\n",
      "2024-09-30 19:42:08,210 - utils.dataloader - INFO: -  sample_size :  3\n",
      "2024-09-30 19:42:08,211 - utils.dataloader - INFO: -  compounds_per_batch :  600\n",
      "2024-09-30 19:42:08,212 - utils.dataloader - INFO: -  rows per batch (chunksize) :  1800\n",
      "2024-09-30 19:42:08,212 - utils.dataloader - INFO: -  Each mini-batch contains 600.0 compounds with 3 samples per compound : total 1800 rows\n",
      "2024-09-30 19:42:08,213 - utils.dataloader - INFO: -  Number of 1800 row full size batches per epoch: 154\n",
      "2024-09-30 19:42:08,213 - utils.dataloader - INFO: -  Rows covered by 154 full size batches (1800 rows) per epoch:  277200\n",
      "2024-09-30 19:42:08,214 - utils.dataloader - INFO: -  Last partial batch contains : 0 rows\n",
      "2024-09-30 19:42:08,215 - utils.dataloader - INFO: -  \n",
      "2024-09-30 19:42:08,215 - utils.dataloader - INFO: -  Building CellPantingDataset for val\n",
      "2024-09-30 19:42:08,216 - utils.dataloader - INFO: -  filename:  /home/kevin/WSL-shared/cellpainting/cj-datasets/output_11102023/3_sample_embeddings/3smpl_prfl_embedding_261_HashOrder_snnl_20240917_2004_LAST_train_sub_val.csv\n",
      "2024-09-30 19:42:08,216 - utils.dataloader - INFO: -  type    :  val\n",
      "2024-09-30 19:42:08,217 - utils.dataloader - INFO: -  start   :  0\n",
      "2024-09-30 19:42:08,218 - utils.dataloader - INFO: -  end     :  21600\n",
      "2024-09-30 19:42:08,218 - utils.dataloader - INFO: -  numrows :  21600\n",
      "2024-09-30 19:42:08,218 - utils.dataloader - INFO: -  names   :  None     usecols :  None\n",
      "2024-09-30 19:42:08,219 - utils.dataloader - INFO: -  batch_size  :  1\n",
      "2024-09-30 19:42:08,219 - utils.dataloader - INFO: -  sample_size :  3\n",
      "2024-09-30 19:42:08,219 - utils.dataloader - INFO: -  compounds_per_batch :  600\n",
      "2024-09-30 19:42:08,220 - utils.dataloader - INFO: -  rows per batch (chunksize) :  1800\n",
      "2024-09-30 19:42:08,220 - utils.dataloader - INFO: -  Each mini-batch contains 600.0 compounds with 3 samples per compound : total 1800 rows\n",
      "2024-09-30 19:42:08,220 - utils.dataloader - INFO: -  Number of 1800 row full size batches per epoch: 12\n",
      "2024-09-30 19:42:08,221 - utils.dataloader - INFO: -  Rows covered by 12 full size batches (1800 rows) per epoch:  21600\n",
      "2024-09-30 19:42:08,221 - utils.dataloader - INFO: -  Last partial batch contains : 0 rows\n",
      "2024-09-30 19:42:08,222 - utils.dataloader - INFO: -  \n",
      "2024-09-30 19:42:08,222 - utils.dataloader - INFO: -  Building CellPantingDataset for test\n",
      "2024-09-30 19:42:08,222 - utils.dataloader - INFO: -  filename:  /home/kevin/WSL-shared/cellpainting/cj-datasets/output_11102023/3_sample_embeddings/3smpl_prfl_embedding_261_HashOrder_snnl_20240917_2004_LAST_train_sub_test.csv\n",
      "2024-09-30 19:42:08,223 - utils.dataloader - INFO: -  type    :  test\n",
      "2024-09-30 19:42:08,223 - utils.dataloader - INFO: -  start   :  0\n",
      "2024-09-30 19:42:08,223 - utils.dataloader - INFO: -  end     :  12600\n",
      "2024-09-30 19:42:08,224 - utils.dataloader - INFO: -  numrows :  12600\n",
      "2024-09-30 19:42:08,224 - utils.dataloader - INFO: -  names   :  None     usecols :  None\n",
      "2024-09-30 19:42:08,225 - utils.dataloader - INFO: -  batch_size  :  1\n",
      "2024-09-30 19:42:08,225 - utils.dataloader - INFO: -  sample_size :  3\n",
      "2024-09-30 19:42:08,225 - utils.dataloader - INFO: -  compounds_per_batch :  600\n",
      "2024-09-30 19:42:08,226 - utils.dataloader - INFO: -  rows per batch (chunksize) :  1800\n",
      "2024-09-30 19:42:08,226 - utils.dataloader - INFO: -  Each mini-batch contains 600.0 compounds with 3 samples per compound : total 1800 rows\n",
      "2024-09-30 19:42:08,226 - utils.dataloader - INFO: -  Number of 1800 row full size batches per epoch: 7\n",
      "2024-09-30 19:42:08,227 - utils.dataloader - INFO: -  Rows covered by 7 full size batches (1800 rows) per epoch:  12600\n",
      "2024-09-30 19:42:08,227 - utils.dataloader - INFO: -  Last partial batch contains : 0 rows\n",
      "2024-09-30 19:42:08,227 - utils.dataloader - INFO: -  \n"
     ]
    },
    {
     "name": "stdout",
     "output_type": "stream",
     "text": [
      " TRAIN_INPUT:  /home/kevin/WSL-shared/cellpainting/cj-datasets/output_11102023/3_sample_embeddings/3smpl_prfl_embedding_261_HashOrder_snnl_20240917_2004_LAST_train.csv\n",
      " TEST_INPUT :  /home/kevin/WSL-shared/cellpainting/cj-datasets/output_11102023/3_sample_embeddings/3smpl_prfl_embedding_261_HashOrder_snnl_20240917_2004_LAST_train_sub_test.csv\n",
      " ALL_INPUT  :  /home/kevin/WSL-shared/cellpainting/cj-datasets/output_11102023/3_sample_embeddings/3smpl_prfl_embedding_261_HashOrder_snnl_20240917_2004_LAST_train_sub_val.csv\n",
      " load {}\n",
      " Dataset size: 277200   rows per batch: 1800\n",
      " Dataset size: 21600   rows per batch: 1800\n",
      " Dataset size: 12600   rows per batch: 1800\n"
     ]
    }
   ],
   "source": [
    "data_loader = define_datasets(cellpainting_args, AE_RUNMODE, AE_DATETIME, input_cols, AE_CKPTTYPE, INPUT_PATH)"
   ]
  },
  {
   "attachments": {},
   "cell_type": "markdown",
   "id": "9af485a0-e4bd-4e05-8764-39a5d9f908c8",
   "metadata": {},
   "source": [
    "## Input Dataloader\n"
   ]
  },
  {
   "cell_type": "code",
   "execution_count": 11,
   "id": "417e03f3-163a-42d4-8055-7e39f9c3f8af",
   "metadata": {
    "editable": true,
    "execution": {
     "iopub.execute_input": "2024-09-30T17:42:08.234824Z",
     "iopub.status.busy": "2024-09-30T17:42:08.234546Z",
     "iopub.status.idle": "2024-09-30T17:42:08.260053Z",
     "shell.execute_reply": "2024-09-30T17:42:08.259550Z",
     "shell.execute_reply.started": "2024-09-30T17:42:08.234805Z"
    },
    "slideshow": {
     "slide_type": ""
    },
    "tags": []
   },
   "outputs": [],
   "source": [
    "# TRAIN_INPUT_FILE = f\"3smpl_prfl_embedding_{input_cols}_HashOrder_{AE_RUNMODE}_{AE_DATETIME}_{AE_CKPTTYPE}_train.csv\"\n",
    "# TEST_INPUT_FILE  = f\"3smpl_prfl_embedding_{input_cols}_HashOrder_{AE_RUNMODE}_{AE_DATETIME}_{AE_CKPTTYPE}_train_sub_test.csv\"\n",
    "# VAL_INPUT_FILE   = f\"3smpl_prfl_embedding_{input_cols}_HashOrder_{AE_RUNMODE}_{AE_DATETIME}_{AE_CKPTTYPE}_train_sub_val.csv\"\n",
    "# # ALL_INPUT_FILE   = f\"3smpl_prfl_embedding_{num_cols}_HashOrder_{AE_RUNMODE}_{AE_DATETIME}_{AE_CKPTTYPE}_sub_val.csv\"\n",
    "\n",
    "# TRAIN_INPUT = os.path.join(INPUT_PATH, TRAIN_INPUT_FILE)\n",
    "# TEST_INPUT  = os.path.join(INPUT_PATH, TEST_INPUT_FILE)\n",
    "# VAL_INPUT   = os.path.join(INPUT_PATH, VAL_INPUT_FILE)\n",
    "\n",
    "# print(f\" TRAIN_INPUT:  {TRAIN_INPUT}\")\n",
    "# print(f\" TEST_INPUT :  {TEST_INPUT }\")\n",
    "# print(f\" ALL_INPUT  :  {VAL_INPUT }\")"
   ]
  },
  {
   "cell_type": "code",
   "execution_count": 12,
   "id": "64f7cf1f-5231-41b9-a050-690a4a482fd3",
   "metadata": {
    "execution": {
     "iopub.execute_input": "2024-09-30T17:42:08.261028Z",
     "iopub.status.busy": "2024-09-30T17:42:08.260745Z",
     "iopub.status.idle": "2024-09-30T17:42:08.290834Z",
     "shell.execute_reply": "2024-09-30T17:42:08.290304Z",
     "shell.execute_reply.started": "2024-09-30T17:42:08.261010Z"
    }
   },
   "outputs": [],
   "source": [
    "## total rows = 346,542\n",
    "## Trn file sz: 312,000 \n",
    "## Train      : 277,200    (312_000 - (21,600 + 12,600 + 600) = 277,200\n",
    "## Validation :  21,600\n",
    "## Test       :  12,600\n",
    "## Leftover   :     600\n",
    "# cellpainting_args = {'sample_size': 3,\n",
    "#                      'batch_size': 1,\n",
    "#                      'compounds_per_batch': 600,\n",
    "#                      'training_path'  : TRAIN_INPUT,\n",
    "#                      'validation_path': TRAIN_INPUT,\n",
    "#                      'test_path'      : TRAIN_INPUT,\n",
    "#                      'train_start'    : 0,\n",
    "#                      'train_end'      : 277_200,  # 277,200 samples\n",
    "#                      'val_start'      : 277_200,  # \n",
    "#                      'val_end'        : 298_800,  # 21_600 samples\n",
    "#                      'test_start'     : 298_800,  # \n",
    "#                      'test_end'       : 311_400,  # 12_600 samples\n",
    "#                     }"
   ]
  },
  {
   "cell_type": "code",
   "execution_count": 13,
   "id": "ac80b685-550e-43a7-b48d-af4518aa718a",
   "metadata": {
    "execution": {
     "iopub.execute_input": "2024-09-30T17:42:08.292976Z",
     "iopub.status.busy": "2024-09-30T17:42:08.292720Z",
     "iopub.status.idle": "2024-09-30T17:42:08.317292Z",
     "shell.execute_reply": "2024-09-30T17:42:08.316705Z",
     "shell.execute_reply.started": "2024-09-30T17:42:08.292957Z"
    }
   },
   "outputs": [],
   "source": [
    "# cellpainting_args"
   ]
  },
  {
   "cell_type": "code",
   "execution_count": 14,
   "id": "3dda57be-1cd6-4598-b05e-a1c8b68176df",
   "metadata": {
    "execution": {
     "iopub.execute_input": "2024-09-30T17:38:37.838420Z",
     "iopub.status.busy": "2024-09-30T17:38:37.838031Z",
     "iopub.status.idle": "2024-09-30T17:38:37.868696Z",
     "shell.execute_reply": "2024-09-30T17:38:37.868128Z",
     "shell.execute_reply.started": "2024-09-30T17:38:37.838384Z"
    },
    "scrolled": true
   },
   "outputs": [],
   "source": [
    "#### Load CellPainting Dataset\n",
    "# data : keys to the dataset settings (and resulting keys in output dictionary)\n",
    "# dataset = dict()\n",
    "# data_loader = dict()\n",
    "\n",
    "# print(f\" load {dataset}\")\n",
    "# for datatype in ['train', 'val', 'test']:\n",
    "#     dataset[datatype] = CellpaintingDataset(type = datatype, **cellpainting_args)\n",
    "#     data_loader[datatype] = InfiniteDataLoader(dataset = dataset[datatype], batch_size=1, shuffle = False, num_workers = 0, collate_fn = custom_collate_fn)"
   ]
  },
  {
   "cell_type": "code",
   "execution_count": 15,
   "id": "5465d0ad-2f89-45a5-9e48-a55da7c4fa47",
   "metadata": {
    "execution": {
     "iopub.execute_input": "2024-09-30T17:38:38.018048Z",
     "iopub.status.busy": "2024-09-30T17:38:38.017860Z",
     "iopub.status.idle": "2024-09-30T17:38:38.043213Z",
     "shell.execute_reply": "2024-09-30T17:38:38.042621Z",
     "shell.execute_reply.started": "2024-09-30T17:38:38.018030Z"
    },
    "scrolled": true
   },
   "outputs": [],
   "source": [
    "# %%timeit\n",
    "# for dataset in ['train', 'val', 'test']:\n",
    "#     for idx, batch in enumerate(data_loader[dataset]):\n",
    "#         print(batch[0].shape[0], batch[1].sum())\n",
    "#         # display_cellpainting_batch(idx, batch)\n",
    "#         if idx == 1:\n",
    "#             break"
   ]
  },
  {
   "cell_type": "code",
   "execution_count": 16,
   "id": "1247a1cd-eda6-4231-9603-feab85fea20d",
   "metadata": {
    "execution": {
     "iopub.execute_input": "2024-09-30T17:38:38.199996Z",
     "iopub.status.busy": "2024-09-30T17:38:38.199809Z",
     "iopub.status.idle": "2024-09-30T17:38:38.225270Z",
     "shell.execute_reply": "2024-09-30T17:38:38.224738Z",
     "shell.execute_reply.started": "2024-09-30T17:38:38.199978Z"
    }
   },
   "outputs": [],
   "source": [
    "# # -----------------------------------------\n",
    "# #  Count pos/neg labels in each dataset\n",
    "# # -----------------------------------------\n",
    "# for datatype in ['train', 'val', 'test']:\n",
    "#     MINIBATCH_SIZE = data_loader[datatype].dataset.sample_size * data_loader[datatype].dataset.compounds_per_batch\n",
    "#     print(f\" {datatype.capitalize()} Minibatch size : {MINIBATCH_SIZE} \\n\") \n",
    "# # for datatype in ['val', 'test']:\n",
    "#     minibatches = len(data_loader[datatype]) // MINIBATCH_SIZE\n",
    "#     ttl_rows = 0\n",
    "#     ttl_pos_labels = 0\n",
    "#     with tqdm.tqdm(enumerate(data_loader[datatype]), initial=0, total = minibatches, position=0, file=sys.stdout,\n",
    "#                    leave= False, desc=f\" Count labels \") as t_warmup:\n",
    "#         for batch_count, (batch_features, batch_labels, _, _, _, _) in t_warmup:\n",
    "#             ttl_rows += batch_labels.shape[0]\n",
    "#             ttl_pos_labels += batch_labels.sum()\n",
    "#     ttl_neg_labels = ttl_rows - ttl_pos_labels\n",
    "#     ttl = f\"\\n Dataset: {datatype} -  len of {datatype} data loader: {len(data_loader[datatype])}   number of batches: {minibatches}\"\n",
    "#     print(ttl)\n",
    "#     print('-'*len(ttl))\n",
    "#     print(f\" total rows     : {ttl_rows:7d}\")\n",
    "#     print(f\" total pos rows : {ttl_pos_labels:7.0f} - {ttl_pos_labels*100.0/ttl_rows:5.2f}%\")\n",
    "#     print(f\" total neg rows : {ttl_neg_labels:7.0f} - {ttl_neg_labels*100.0/ttl_rows:5.2f}%\")\n",
    "#     print()"
   ]
  },
  {
   "cell_type": "markdown",
   "id": "0424ff70-bcba-4702-bbb1-9d1871a5489d",
   "metadata": {},
   "source": [
    "     Minibatch size : 1800 \n",
    "                                                                                                 \n",
    "     Dataset: train - len of train data loader: 277200   number of batches: 154  \n",
    "    ------------------------------\n",
    "     total rows     :  277200\n",
    "     total pos rows :   33129 - 11.95%\n",
    "     total neg rows :  244071 - 88.05%\n",
    "\n",
    "     Dataset: val - len of val data loader: 21600   number of batches: 12\n",
    "    ------------------------------\n",
    "     total rows     :   21600\n",
    "     total pos rows :    2532 - 11.72%\n",
    "     total neg rows :   19068 - 88.28%\n",
    "    \n",
    "     Dataset: test - len of test data loader: 12600   number of batches: 7\n",
    "    ------------------------------\n",
    "     total rows     :   12600\n",
    "     total pos rows :    1431 - 11.36%\n",
    "     total neg rows :   11169 - 88.64%"
   ]
  },
  {
   "attachments": {},
   "cell_type": "markdown",
   "id": "a34d7988-3fab-4356-bad5-1511fe8bad40",
   "metadata": {},
   "source": [
    "# Define Neural Net Model \n",
    "\n",
    "- **4 layer model :**\n",
    "\n",
    "    Input --> Hidden1 --> (BN/NL) ---> Hidden2 ---> (BN/NL) ---> Hidden3 --->  (BN/NL) ---> 1\n",
    "   \n",
    "    -  **20240909_1800** : Run on 4 FC layers model, model configuration UNKNOWN\n",
    "    -  **20240909_1801** : Run on 4 FC layers model, Relu non linearities (NO Batch Norm)\n",
    "    -  **20240909_2100** : Run on 4 FC layers model, with BATCH NORM / Tanh 256,256,128\n",
    "\n",
    "    -  **20240930_1930** : Run on 4 FC layers model, with BATCH NORM/ Tanh 512,512,128\n",
    "      \n",
    " - **Single Hidden Layer - 256**\n",
    "\n",
    "   Input --> Hidden1 --> (Tanh) --->  1\n",
    "    -  **20240916_1830** : Run on 1 FC layers model, Input --> 256 --> Tanh --> 1 ,  Read from 20240906_2201 (SNNL - CPB 600, LAT 150, SNN Factor 3)\n",
    "    -  **20240926_1900** : Run on 1 FC layers model, Input --> 256 --> Tanh --> 1 ,  Read from 20240917_2017 (BASELINE - CPB 600, LAT 250, SNN Factor 0)\n",
    "    -  **20240926_1930** : Run on 1 FC layers model, Input --> 256 --> Tanh --> 1 ,  Read from 20240917_2004 (SNNL - CPB 600, LAT 250, SNN Factor 3)\n",
    "    -  **20240926_2000** : Run on 1 FC layers model, Input --> 256 --> Tanh --> 1 ,  Read from 20240924_0146 (SNNL - CPB 600, LAT 250, SNN Factor 30)\n",
    "<br>\n",
    "\n",
    " - **Single Hidden Layer - 256**\n",
    "\n",
    "    -  **20240921_0700** : Run on 1 FC layers model (includes final layer), Input --> 512 --> Tanh --> 1 ,  Read from 20240906_2201 (SNNL - CPB 600, LAT 150, SNN Factor 3)    \n"
   ]
  },
  {
   "cell_type": "code",
   "execution_count": 15,
   "id": "f32c6590-d212-4f37-8ce1-4ee46fd4246a",
   "metadata": {
    "ExecuteTime": {
     "end_time": "2023-07-31T18:45:44.380055Z",
     "start_time": "2023-07-31T18:45:41.073911Z"
    },
    "execution": {
     "iopub.execute_input": "2024-09-30T17:42:28.614217Z",
     "iopub.status.busy": "2024-09-30T17:42:28.614014Z",
     "iopub.status.idle": "2024-09-30T17:42:28.662126Z",
     "shell.execute_reply": "2024-09-30T17:42:28.661494Z",
     "shell.execute_reply.started": "2024-09-30T17:42:28.614199Z"
    }
   },
   "outputs": [],
   "source": [
    "model = build_model(MODEL_TYPE, input = n_input, hidden_1 = n_hidden_1, hidden_2 = n_hidden_2, hidden_3=n_hidden_3, device = device)"
   ]
  },
  {
   "cell_type": "code",
   "execution_count": 19,
   "id": "3dc6a92e-2ca2-4ed8-b9f9-38d720f13973",
   "metadata": {
    "ExecuteTime": {
     "end_time": "2023-07-31T18:48:09.459977Z",
     "start_time": "2023-07-31T18:48:09.429767Z"
    },
    "execution": {
     "iopub.execute_input": "2024-09-30T17:42:30.272149Z",
     "iopub.status.busy": "2024-09-30T17:42:30.271871Z",
     "iopub.status.idle": "2024-09-30T17:42:30.298836Z",
     "shell.execute_reply": "2024-09-30T17:42:30.298272Z",
     "shell.execute_reply.started": "2024-09-30T17:42:30.272130Z"
    }
   },
   "outputs": [],
   "source": [
    "metrics = { 'loss_trn' : [], 'acc_trn' : [], 'loss_val' : [], 'acc_val' : []}\n",
    "\n",
    "start_epoch, end_epoch = 0,0\n",
    "init_LR = 1.0e-3\n",
    "# curr_LR = init_LR\n",
    "\n",
    "# create a PyTorch optimizer\n",
    "optimizer = torch.optim.AdamW(model.parameters(), lr=init_LR)\n",
    "\n",
    "# scheduler = torch.optim.lr_scheduler.ReduceLROnPlateau(optimizer, mode = 'min', factor = 0.3 , patience=20, cooldown=10,)\n",
    "# scheduler = torch.optim.lr_scheduler.StepLR(optimizer, step_size = step_size, gamma=0.1, last_epoch =-1)\n",
    "scheduler = torch.optim.lr_scheduler.ReduceLROnPlateau(optimizer, mode = 'min', factor = 0.5, threshold=1.0e-06, patience=50, cooldown=10,)"
   ]
  },
  {
   "cell_type": "markdown",
   "id": "4cbb012c-1066-4a40-ba6d-8bd792e06ffb",
   "metadata": {},
   "source": [
    "### Read checkpoint"
   ]
  },
  {
   "cell_type": "code",
   "execution_count": 20,
   "id": "9d8cc5c1-a8b4-4488-ba18-c7b6180722ca",
   "metadata": {
    "execution": {
     "iopub.execute_input": "2024-09-30T17:42:32.889586Z",
     "iopub.status.busy": "2024-09-30T17:42:32.889386Z",
     "iopub.status.idle": "2024-09-30T17:42:32.915371Z",
     "shell.execute_reply": "2024-09-30T17:42:32.914734Z",
     "shell.execute_reply.started": "2024-09-30T17:42:32.889569Z"
    }
   },
   "outputs": [],
   "source": [
    "# loaded_epoch\n",
    "# optimizer.state_dict()\n",
    "# scheduler.state_dict()"
   ]
  },
  {
   "cell_type": "code",
   "execution_count": 21,
   "id": "9d093781-edac-4acb-a6ed-8c9f322228e4",
   "metadata": {
    "execution": {
     "iopub.execute_input": "2024-09-30T17:42:33.142154Z",
     "iopub.status.busy": "2024-09-30T17:42:33.141953Z",
     "iopub.status.idle": "2024-09-30T17:42:33.167941Z",
     "shell.execute_reply": "2024-09-30T17:42:33.167419Z",
     "shell.execute_reply.started": "2024-09-30T17:42:33.142136Z"
    }
   },
   "outputs": [],
   "source": [
    "# model, optimizer, scheudler, end_epoch = load_checkpoint(model, optimizer, scheduler, checkpoint_file.format(ep=100), ckpt_path = CKPT_PATH)\n",
    "# model = model.to(device)"
   ]
  },
  {
   "cell_type": "code",
   "execution_count": 22,
   "id": "9599cdd1-7434-4360-aa21-d8130696ffc3",
   "metadata": {
    "execution": {
     "iopub.execute_input": "2024-09-30T17:42:33.332685Z",
     "iopub.status.busy": "2024-09-30T17:42:33.332413Z",
     "iopub.status.idle": "2024-09-30T17:42:33.358672Z",
     "shell.execute_reply": "2024-09-30T17:42:33.358018Z",
     "shell.execute_reply.started": "2024-09-30T17:42:33.332666Z"
    }
   },
   "outputs": [],
   "source": [
    "# end_epoch\n",
    "# optimizer.state_dict()\n",
    "# scheduler.state_dict()"
   ]
  },
  {
   "cell_type": "markdown",
   "id": "5a53a7c8-de53-45ec-ac18-2519c89e3ce5",
   "metadata": {},
   "source": [
    "# Run Training"
   ]
  },
  {
   "cell_type": "code",
   "execution_count": 23,
   "id": "31ec54be-10d4-4b6e-85c9-8175fab24f02",
   "metadata": {
    "ExecuteTime": {
     "end_time": "2023-07-31T18:48:09.459977Z",
     "start_time": "2023-07-31T18:48:09.429767Z"
    },
    "execution": {
     "iopub.execute_input": "2024-09-30T17:42:34.198179Z",
     "iopub.status.busy": "2024-09-30T17:42:34.197979Z",
     "iopub.status.idle": "2024-09-30T17:42:34.224653Z",
     "shell.execute_reply": "2024-09-30T17:42:34.223983Z",
     "shell.execute_reply.started": "2024-09-30T17:42:34.198161Z"
    }
   },
   "outputs": [
    {
     "name": "stdout",
     "output_type": "stream",
     "text": [
      "0 600\n"
     ]
    }
   ],
   "source": [
    "# start_epoch = 0\n",
    "# start_epoch = loaded_epoch\n",
    "start_epoch = end_epoch\n",
    "end_epoch += 600\n",
    "# start_epoch, end_epoch = 0,100\n",
    "print(start_epoch, end_epoch)\n",
    "_ = model.train()"
   ]
  },
  {
   "cell_type": "code",
   "execution_count": 24,
   "id": "b26ae239-ec9d-4afc-aef9-387fa19d0ca0",
   "metadata": {
    "ExecuteTime": {
     "end_time": "2023-07-31T19:00:14.450630Z",
     "start_time": "2023-07-31T18:49:12.235999Z"
    },
    "execution": {
     "iopub.execute_input": "2024-09-30T17:42:34.414456Z",
     "iopub.status.busy": "2024-09-30T17:42:34.414255Z",
     "iopub.status.idle": "2024-09-30T21:47:23.367232Z",
     "shell.execute_reply": "2024-09-30T21:47:23.366496Z",
     "shell.execute_reply.started": "2024-09-30T17:42:34.414438Z"
    },
    "scrolled": true
   },
   "outputs": [
    {
     "name": "stdout",
     "output_type": "stream",
     "text": [
      " 19:42:58 | Ep:   1/ 600 | Trn loss:  0.398827 - Acc: 86.3727 | Val loss:  0.351597 - Acc: 88.2407 | last_lr: 1.00000e-03  bad_ep: 0  cdwn: 0                              \n",
      " 19:43:21 | Ep:   2/ 600 | Trn loss:  0.358226 - Acc: 87.9942 | Val loss:  0.352385 - Acc: 88.2454 | last_lr: 1.00000e-03  bad_ep: 1  cdwn: 0                              \n",
      " 19:43:45 | Ep:   3/ 600 | Trn loss:  0.355861 - Acc: 88.0249 | Val loss:  0.352876 - Acc: 88.2407 | last_lr: 1.00000e-03  bad_ep: 2  cdwn: 0                              \n",
      " 19:44:08 | Ep:   4/ 600 | Trn loss:  0.354865 - Acc: 88.0317 | Val loss:  0.353677 - Acc: 88.2176 | last_lr: 1.00000e-03  bad_ep: 3  cdwn: 0                              \n",
      " 19:44:31 | Ep:   5/ 600 | Trn loss:  0.354195 - Acc: 88.0426 | Val loss:  0.353060 - Acc: 88.2407 | last_lr: 1.00000e-03  bad_ep: 4  cdwn: 0                              \n",
      " 19:44:54 | Ep:   6/ 600 | Trn loss:  0.353654 - Acc: 88.0480 | Val loss:  0.351972 - Acc: 88.2778 | last_lr: 1.00000e-03  bad_ep: 5  cdwn: 0                              \n",
      " 19:45:17 | Ep:   7/ 600 | Trn loss:  0.353212 - Acc: 88.0523 | Val loss:  0.350989 - Acc: 88.2870 | last_lr: 1.00000e-03  bad_ep: 0  cdwn: 0                              \n",
      " 19:45:40 | Ep:   8/ 600 | Trn loss:  0.352811 - Acc: 88.0581 | Val loss:  0.350609 - Acc: 88.3009 | last_lr: 1.00000e-03  bad_ep: 0  cdwn: 0                              \n",
      " 19:46:03 | Ep:   9/ 600 | Trn loss:  0.352482 - Acc: 88.0631 | Val loss:  0.350132 - Acc: 88.2963 | last_lr: 1.00000e-03  bad_ep: 0  cdwn: 0                              \n",
      " 19:46:26 | Ep:  10/ 600 | Trn loss:  0.352214 - Acc: 88.0682 | Val loss:  0.349980 - Acc: 88.3056 | last_lr: 1.00000e-03  bad_ep: 0  cdwn: 0                              \n",
      " 19:46:50 | Ep:  11/ 600 | Trn loss:  0.351959 - Acc: 88.0729 | Val loss:  0.349886 - Acc: 88.3287 | last_lr: 1.00000e-03  bad_ep: 0  cdwn: 0                              \n",
      " 19:47:12 | Ep:  12/ 600 | Trn loss:  0.351755 - Acc: 88.0707 | Val loss:  0.349536 - Acc: 88.3380 | last_lr: 1.00000e-03  bad_ep: 0  cdwn: 0                              \n",
      " 19:47:35 | Ep:  13/ 600 | Trn loss:  0.351576 - Acc: 88.0725 | Val loss:  0.349340 - Acc: 88.3241 | last_lr: 1.00000e-03  bad_ep: 0  cdwn: 0                              \n",
      " 19:47:58 | Ep:  14/ 600 | Trn loss:  0.351382 - Acc: 88.0783 | Val loss:  0.348789 - Acc: 88.3380 | last_lr: 1.00000e-03  bad_ep: 0  cdwn: 0                              \n",
      " 19:48:21 | Ep:  15/ 600 | Trn loss:  0.351189 - Acc: 88.0812 | Val loss:  0.348817 - Acc: 88.3380 | last_lr: 1.00000e-03  bad_ep: 1  cdwn: 0                              \n",
      " 19:48:43 | Ep:  16/ 600 | Trn loss:  0.351004 - Acc: 88.0837 | Val loss:  0.348774 - Acc: 88.3194 | last_lr: 1.00000e-03  bad_ep: 0  cdwn: 0                              \n",
      " 19:49:06 | Ep:  17/ 600 | Trn loss:  0.350826 - Acc: 88.0859 | Val loss:  0.348784 - Acc: 88.3194 | last_lr: 1.00000e-03  bad_ep: 1  cdwn: 0                              \n",
      " 19:49:30 | Ep:  18/ 600 | Trn loss:  0.350674 - Acc: 88.0859 | Val loss:  0.348686 - Acc: 88.3241 | last_lr: 1.00000e-03  bad_ep: 0  cdwn: 0                              \n",
      " 19:49:53 | Ep:  19/ 600 | Trn loss:  0.350483 - Acc: 88.0873 | Val loss:  0.348672 - Acc: 88.3102 | last_lr: 1.00000e-03  bad_ep: 0  cdwn: 0                              \n",
      " 19:50:16 | Ep:  20/ 600 | Trn loss:  0.350328 - Acc: 88.0880 | Val loss:  0.348752 - Acc: 88.3148 | last_lr: 1.00000e-03  bad_ep: 1  cdwn: 0                              \n",
      " 19:50:39 | Ep:  21/ 600 | Trn loss:  0.350153 - Acc: 88.0898 | Val loss:  0.349042 - Acc: 88.3102 | last_lr: 1.00000e-03  bad_ep: 2  cdwn: 0                              \n",
      " 19:51:03 | Ep:  22/ 600 | Trn loss:  0.350011 - Acc: 88.0960 | Val loss:  0.348799 - Acc: 88.3148 | last_lr: 1.00000e-03  bad_ep: 3  cdwn: 0                              \n",
      " 19:51:25 | Ep:  23/ 600 | Trn loss:  0.349830 - Acc: 88.0988 | Val loss:  0.348915 - Acc: 88.3148 | last_lr: 1.00000e-03  bad_ep: 4  cdwn: 0                              \n",
      " 19:51:48 | Ep:  24/ 600 | Trn loss:  0.349672 - Acc: 88.1050 | Val loss:  0.348780 - Acc: 88.3194 | last_lr: 1.00000e-03  bad_ep: 5  cdwn: 0                              \n",
      " 19:52:11 | Ep:  25/ 600 | Trn loss:  0.349527 - Acc: 88.1079 | Val loss:  0.348738 - Acc: 88.3241 | last_lr: 1.00000e-03  bad_ep: 6  cdwn: 0                              \n",
      " 19:52:34 | Ep:  26/ 600 | Trn loss:  0.349359 - Acc: 88.1104 | Val loss:  0.348982 - Acc: 88.3287 | last_lr: 1.00000e-03  bad_ep: 7  cdwn: 0                              \n",
      " 19:52:57 | Ep:  27/ 600 | Trn loss:  0.349219 - Acc: 88.1115 | Val loss:  0.348963 - Acc: 88.3148 | last_lr: 1.00000e-03  bad_ep: 8  cdwn: 0                              \n",
      " 19:53:20 | Ep:  28/ 600 | Trn loss:  0.349085 - Acc: 88.1158 | Val loss:  0.348959 - Acc: 88.3102 | last_lr: 1.00000e-03  bad_ep: 9  cdwn: 0                              \n",
      " 19:53:43 | Ep:  29/ 600 | Trn loss:  0.348872 - Acc: 88.1227 | Val loss:  0.348832 - Acc: 88.2917 | last_lr: 1.00000e-03  bad_ep: 10  cdwn: 0                             \n",
      " 19:54:06 | Ep:  30/ 600 | Trn loss:  0.348694 - Acc: 88.1219 | Val loss:  0.348857 - Acc: 88.2870 | last_lr: 1.00000e-03  bad_ep: 11  cdwn: 0                             \n",
      " 19:54:29 | Ep:  31/ 600 | Trn loss:  0.348525 - Acc: 88.1270 | Val loss:  0.348831 - Acc: 88.3009 | last_lr: 1.00000e-03  bad_ep: 12  cdwn: 0                             \n",
      " 19:54:53 | Ep:  32/ 600 | Trn loss:  0.348324 - Acc: 88.1306 | Val loss:  0.348745 - Acc: 88.3102 | last_lr: 1.00000e-03  bad_ep: 13  cdwn: 0                             \n",
      " 19:55:17 | Ep:  33/ 600 | Trn loss:  0.348150 - Acc: 88.1288 | Val loss:  0.348634 - Acc: 88.2917 | last_lr: 1.00000e-03  bad_ep: 0  cdwn: 0                              \n",
      " 19:55:42 | Ep:  34/ 600 | Trn loss:  0.347942 - Acc: 88.1342 | Val loss:  0.348801 - Acc: 88.2870 | last_lr: 1.00000e-03  bad_ep: 1  cdwn: 0                              \n",
      " 19:56:06 | Ep:  35/ 600 | Trn loss:  0.347771 - Acc: 88.1382 | Val loss:  0.348520 - Acc: 88.3009 | last_lr: 1.00000e-03  bad_ep: 0  cdwn: 0                              \n",
      " 19:56:31 | Ep:  36/ 600 | Trn loss:  0.347570 - Acc: 88.1407 | Val loss:  0.348657 - Acc: 88.2963 | last_lr: 1.00000e-03  bad_ep: 1  cdwn: 0                              \n",
      " 19:56:56 | Ep:  37/ 600 | Trn loss:  0.347351 - Acc: 88.1501 | Val loss:  0.348737 - Acc: 88.2917 | last_lr: 1.00000e-03  bad_ep: 2  cdwn: 0                              \n",
      " 19:57:20 | Ep:  38/ 600 | Trn loss:  0.347155 - Acc: 88.1555 | Val loss:  0.348498 - Acc: 88.2685 | last_lr: 1.00000e-03  bad_ep: 0  cdwn: 0                              \n",
      " 19:57:44 | Ep:  39/ 600 | Trn loss:  0.346973 - Acc: 88.1656 | Val loss:  0.348675 - Acc: 88.2593 | last_lr: 1.00000e-03  bad_ep: 1  cdwn: 0                              \n",
      " 19:58:08 | Ep:  40/ 600 | Trn loss:  0.346725 - Acc: 88.1663 | Val loss:  0.348793 - Acc: 88.2685 | last_lr: 1.00000e-03  bad_ep: 2  cdwn: 0                              \n",
      " 19:58:32 | Ep:  41/ 600 | Trn loss:  0.346536 - Acc: 88.1677 | Val loss:  0.348790 - Acc: 88.2593 | last_lr: 1.00000e-03  bad_ep: 3  cdwn: 0                              \n",
      " 19:58:56 | Ep:  42/ 600 | Trn loss:  0.346275 - Acc: 88.1732 | Val loss:  0.348753 - Acc: 88.2546 | last_lr: 1.00000e-03  bad_ep: 4  cdwn: 0                              \n",
      " 19:59:20 | Ep:  43/ 600 | Trn loss:  0.346018 - Acc: 88.1793 | Val loss:  0.348807 - Acc: 88.2315 | last_lr: 1.00000e-03  bad_ep: 5  cdwn: 0                              \n",
      " 19:59:44 | Ep:  44/ 600 | Trn loss:  0.345831 - Acc: 88.1836 | Val loss:  0.348880 - Acc: 88.2407 | last_lr: 1.00000e-03  bad_ep: 6  cdwn: 0                              \n",
      " 20:00:08 | Ep:  45/ 600 | Trn loss:  0.345560 - Acc: 88.1890 | Val loss:  0.349102 - Acc: 88.2269 | last_lr: 1.00000e-03  bad_ep: 7  cdwn: 0                              \n",
      " 20:00:31 | Ep:  46/ 600 | Trn loss:  0.345339 - Acc: 88.1890 | Val loss:  0.348995 - Acc: 88.2315 | last_lr: 1.00000e-03  bad_ep: 8  cdwn: 0                              \n",
      " 20:00:55 | Ep:  47/ 600 | Trn loss:  0.345075 - Acc: 88.2017 | Val loss:  0.348925 - Acc: 88.2361 | last_lr: 1.00000e-03  bad_ep: 9  cdwn: 0                              \n",
      " 20:01:19 | Ep:  48/ 600 | Trn loss:  0.344908 - Acc: 88.2045 | Val loss:  0.349282 - Acc: 88.2269 | last_lr: 1.00000e-03  bad_ep: 10  cdwn: 0                             \n",
      " 20:01:43 | Ep:  49/ 600 | Trn loss:  0.344617 - Acc: 88.2154 | Val loss:  0.349574 - Acc: 88.1991 | last_lr: 1.00000e-03  bad_ep: 11  cdwn: 0                             \n",
      " 20:02:08 | Ep:  50/ 600 | Trn loss:  0.344335 - Acc: 88.2146 | Val loss:  0.349818 - Acc: 88.1991 | last_lr: 1.00000e-03  bad_ep: 12  cdwn: 0                             \n",
      " 20:02:32 | Ep:  51/ 600 | Trn loss:  0.344087 - Acc: 88.2219 | Val loss:  0.349686 - Acc: 88.1898 | last_lr: 1.00000e-03  bad_ep: 13  cdwn: 0                             \n",
      " 20:02:57 | Ep:  52/ 600 | Trn loss:  0.343934 - Acc: 88.2247 | Val loss:  0.349751 - Acc: 88.1944 | last_lr: 1.00000e-03  bad_ep: 14  cdwn: 0                             \n",
      " 20:03:22 | Ep:  53/ 600 | Trn loss:  0.343634 - Acc: 88.2291 | Val loss:  0.350139 - Acc: 88.1759 | last_lr: 1.00000e-03  bad_ep: 15  cdwn: 0                             \n",
      " 20:03:46 | Ep:  54/ 600 | Trn loss:  0.343345 - Acc: 88.2352 | Val loss:  0.350235 - Acc: 88.2037 | last_lr: 1.00000e-03  bad_ep: 16  cdwn: 0                             \n",
      " 20:04:10 | Ep:  55/ 600 | Trn loss:  0.343051 - Acc: 88.2486 | Val loss:  0.350389 - Acc: 88.1898 | last_lr: 1.00000e-03  bad_ep: 17  cdwn: 0                             \n",
      " 20:04:34 | Ep:  56/ 600 | Trn loss:  0.342821 - Acc: 88.2551 | Val loss:  0.350507 - Acc: 88.1898 | last_lr: 1.00000e-03  bad_ep: 18  cdwn: 0                             \n",
      " 20:04:58 | Ep:  57/ 600 | Trn loss:  0.342515 - Acc: 88.2587 | Val loss:  0.351253 - Acc: 88.1759 | last_lr: 1.00000e-03  bad_ep: 19  cdwn: 0                             \n",
      " 20:05:22 | Ep:  58/ 600 | Trn loss:  0.342270 - Acc: 88.2745 | Val loss:  0.351196 - Acc: 88.1389 | last_lr: 1.00000e-03  bad_ep: 20  cdwn: 0                             \n",
      " 20:05:46 | Ep:  59/ 600 | Trn loss:  0.341989 - Acc: 88.2929 | Val loss:  0.351713 - Acc: 88.1343 | last_lr: 1.00000e-03  bad_ep: 21  cdwn: 0                             \n",
      " 20:06:10 | Ep:  60/ 600 | Trn loss:  0.341799 - Acc: 88.2962 | Val loss:  0.351522 - Acc: 88.1157 | last_lr: 1.00000e-03  bad_ep: 22  cdwn: 0                             \n",
      " 20:06:34 | Ep:  61/ 600 | Trn loss:  0.341410 - Acc: 88.3102 | Val loss:  0.351490 - Acc: 88.0926 | last_lr: 1.00000e-03  bad_ep: 23  cdwn: 0                             \n",
      " 20:06:58 | Ep:  62/ 600 | Trn loss:  0.341096 - Acc: 88.3185 | Val loss:  0.352028 - Acc: 88.0648 | last_lr: 1.00000e-03  bad_ep: 24  cdwn: 0                             \n",
      " 20:07:21 | Ep:  63/ 600 | Trn loss:  0.340817 - Acc: 88.3265 | Val loss:  0.352310 - Acc: 88.0926 | last_lr: 1.00000e-03  bad_ep: 25  cdwn: 0                             \n",
      " 20:07:45 | Ep:  64/ 600 | Trn loss:  0.340417 - Acc: 88.3424 | Val loss:  0.353154 - Acc: 88.0556 | last_lr: 1.00000e-03  bad_ep: 26  cdwn: 0                             \n",
      " 20:08:09 | Ep:  65/ 600 | Trn loss:  0.340108 - Acc: 88.3492 | Val loss:  0.352540 - Acc: 88.0648 | last_lr: 1.00000e-03  bad_ep: 27  cdwn: 0                             \n",
      " 20:08:33 | Ep:  66/ 600 | Trn loss:  0.339816 - Acc: 88.3528 | Val loss:  0.354773 - Acc: 88.0833 | last_lr: 1.00000e-03  bad_ep: 28  cdwn: 0                             \n",
      " 20:08:58 | Ep:  67/ 600 | Trn loss:  0.339390 - Acc: 88.3658 | Val loss:  0.354873 - Acc: 88.0417 | last_lr: 1.00000e-03  bad_ep: 29  cdwn: 0                             \n",
      " 20:09:23 | Ep:  68/ 600 | Trn loss:  0.338968 - Acc: 88.3802 | Val loss:  0.354836 - Acc: 88.0463 | last_lr: 1.00000e-03  bad_ep: 30  cdwn: 0                             \n",
      " 20:09:48 | Ep:  69/ 600 | Trn loss:  0.338487 - Acc: 88.3972 | Val loss:  0.357709 - Acc: 88.0417 | last_lr: 1.00000e-03  bad_ep: 31  cdwn: 0                             \n",
      " 20:10:12 | Ep:  70/ 600 | Trn loss:  0.338185 - Acc: 88.3961 | Val loss:  0.356426 - Acc: 88.1111 | last_lr: 1.00000e-03  bad_ep: 32  cdwn: 0                             \n",
      " 20:10:37 | Ep:  71/ 600 | Trn loss:  0.337699 - Acc: 88.4095 | Val loss:  0.360858 - Acc: 88.0509 | last_lr: 1.00000e-03  bad_ep: 33  cdwn: 0                             \n",
      " 20:11:02 | Ep:  72/ 600 | Trn loss:  0.337355 - Acc: 88.4177 | Val loss:  0.358929 - Acc: 88.0694 | last_lr: 1.00000e-03  bad_ep: 34  cdwn: 0                             \n",
      " 20:11:26 | Ep:  73/ 600 | Trn loss:  0.336996 - Acc: 88.4282 | Val loss:  0.358106 - Acc: 88.1157 | last_lr: 1.00000e-03  bad_ep: 35  cdwn: 0                             \n",
      " 20:11:51 | Ep:  74/ 600 | Trn loss:  0.336578 - Acc: 88.4340 | Val loss:  0.357291 - Acc: 88.0833 | last_lr: 1.00000e-03  bad_ep: 36  cdwn: 0                             \n",
      " 20:12:15 | Ep:  75/ 600 | Trn loss:  0.336121 - Acc: 88.4509 | Val loss:  0.358128 - Acc: 88.0972 | last_lr: 1.00000e-03  bad_ep: 37  cdwn: 0                             \n",
      " 20:12:40 | Ep:  76/ 600 | Trn loss:  0.335790 - Acc: 88.4600 | Val loss:  0.361824 - Acc: 88.0602 | last_lr: 1.00000e-03  bad_ep: 38  cdwn: 0                             \n",
      " 20:13:04 | Ep:  77/ 600 | Trn loss:  0.335490 - Acc: 88.4654 | Val loss:  0.358747 - Acc: 88.0509 | last_lr: 1.00000e-03  bad_ep: 39  cdwn: 0                             \n",
      " 20:13:29 | Ep:  78/ 600 | Trn loss:  0.335140 - Acc: 88.4845 | Val loss:  0.360861 - Acc: 88.0509 | last_lr: 1.00000e-03  bad_ep: 40  cdwn: 0                             \n",
      " 20:13:54 | Ep:  79/ 600 | Trn loss:  0.334937 - Acc: 88.4877 | Val loss:  0.361867 - Acc: 88.0370 | last_lr: 1.00000e-03  bad_ep: 41  cdwn: 0                             \n",
      " 20:14:19 | Ep:  80/ 600 | Trn loss:  0.334569 - Acc: 88.4931 | Val loss:  0.361572 - Acc: 88.0556 | last_lr: 1.00000e-03  bad_ep: 42  cdwn: 0                             \n",
      " 20:14:43 | Ep:  81/ 600 | Trn loss:  0.334252 - Acc: 88.5018 | Val loss:  0.363120 - Acc: 88.0046 | last_lr: 1.00000e-03  bad_ep: 43  cdwn: 0                             \n",
      " 20:15:07 | Ep:  82/ 600 | Trn loss:  0.333933 - Acc: 88.5152 | Val loss:  0.363542 - Acc: 87.9907 | last_lr: 1.00000e-03  bad_ep: 44  cdwn: 0                             \n",
      " 20:15:31 | Ep:  83/ 600 | Trn loss:  0.333559 - Acc: 88.5271 | Val loss:  0.361070 - Acc: 88.0000 | last_lr: 1.00000e-03  bad_ep: 45  cdwn: 0                             \n",
      " 20:15:55 | Ep:  84/ 600 | Trn loss:  0.333044 - Acc: 88.5390 | Val loss:  0.360612 - Acc: 88.0139 | last_lr: 1.00000e-03  bad_ep: 46  cdwn: 0                             \n",
      " 20:16:19 | Ep:  85/ 600 | Trn loss:  0.332746 - Acc: 88.5639 | Val loss:  0.363302 - Acc: 87.9954 | last_lr: 1.00000e-03  bad_ep: 47  cdwn: 0                             \n",
      " 20:16:43 | Ep:  86/ 600 | Trn loss:  0.332152 - Acc: 88.5812 | Val loss:  0.362592 - Acc: 87.9537 | last_lr: 1.00000e-03  bad_ep: 48  cdwn: 0                             \n",
      " 20:17:07 | Ep:  87/ 600 | Trn loss:  0.331693 - Acc: 88.5967 | Val loss:  0.356335 - Acc: 87.9954 | last_lr: 1.00000e-03  bad_ep: 49  cdwn: 0                             \n",
      " 20:17:31 | Ep:  88/ 600 | Trn loss:  0.331249 - Acc: 88.6097 | Val loss:  0.359905 - Acc: 87.9815 | last_lr: 1.00000e-03  bad_ep: 50  cdwn: 0                             \n",
      " 20:17:55 | Ep:  89/ 600 | Trn loss:  0.330877 - Acc: 88.6079 | Val loss:  0.362636 - Acc: 87.9630 | last_lr: 5.00000e-04  bad_ep: 0  cdwn: 10                             \n",
      " 20:18:19 | Ep:  90/ 600 | Trn loss:  0.330298 - Acc: 88.5556 | Val loss:  0.383830 - Acc: 87.9954 | last_lr: 5.00000e-04  bad_ep: 0  cdwn: 9                              \n",
      " 20:18:43 | Ep:  91/ 600 | Trn loss:  0.329536 - Acc: 88.5685 | Val loss:  0.409002 - Acc: 87.9630 | last_lr: 5.00000e-04  bad_ep: 0  cdwn: 8                              \n",
      " 20:19:07 | Ep:  92/ 600 | Trn loss:  0.328494 - Acc: 88.6122 | Val loss:  0.415844 - Acc: 87.9259 | last_lr: 5.00000e-04  bad_ep: 0  cdwn: 7                              \n",
      " 20:19:31 | Ep:  93/ 600 | Trn loss:  0.327539 - Acc: 88.6457 | Val loss:  0.418667 - Acc: 87.9306 | last_lr: 5.00000e-04  bad_ep: 0  cdwn: 6                              \n",
      " 20:19:55 | Ep:  94/ 600 | Trn loss:  0.326653 - Acc: 88.6663 | Val loss:  0.426357 - Acc: 87.8519 | last_lr: 5.00000e-04  bad_ep: 0  cdwn: 5                              \n",
      " 20:20:19 | Ep:  95/ 600 | Trn loss:  0.325802 - Acc: 88.6999 | Val loss:  0.435294 - Acc: 87.6435 | last_lr: 5.00000e-04  bad_ep: 0  cdwn: 4                              \n",
      " 20:20:43 | Ep:  96/ 600 | Trn loss:  0.324990 - Acc: 88.7327 | Val loss:  0.442651 - Acc: 87.1065 | last_lr: 5.00000e-04  bad_ep: 0  cdwn: 3                              \n",
      " 20:21:07 | Ep:  97/ 600 | Trn loss:  0.324155 - Acc: 88.7615 | Val loss:  0.443378 - Acc: 87.0787 | last_lr: 5.00000e-04  bad_ep: 0  cdwn: 2                              \n",
      " 20:21:31 | Ep:  98/ 600 | Trn loss:  0.323354 - Acc: 88.7828 | Val loss:  0.445772 - Acc: 86.9444 | last_lr: 5.00000e-04  bad_ep: 0  cdwn: 1                              \n",
      " 20:21:55 | Ep:  99/ 600 | Trn loss:  0.322566 - Acc: 88.8081 | Val loss:  0.444414 - Acc: 87.0833 | last_lr: 5.00000e-04  bad_ep: 0  cdwn: 0                              \n",
      "                                                                                                                                                                           "
     ]
    },
    {
     "name": "stderr",
     "output_type": "stream",
     "text": [
      "2024-09-30 20:22:18,907 - utils.utils_cellpainting - INFO: -  Model exported to NN_snnl_embd600_250Ltnt_512_20240917_2004_LAST_20240930_1930_ep_100.pt - epoch: 100\n"
     ]
    },
    {
     "name": "stdout",
     "output_type": "stream",
     "text": [
      " 20:22:18 | Ep: 100/ 600 | Trn loss:  0.321803 - Acc: 88.8232 | Val loss:  0.436422 - Acc: 87.6250 | last_lr: 5.00000e-04  bad_ep: 1  cdwn: 0 \n",
      " 20:22:42 | Ep: 101/ 600 | Trn loss:  0.321032 - Acc: 88.8405 | Val loss:  0.439582 - Acc: 87.5231 | last_lr: 5.00000e-04  bad_ep: 2  cdwn: 0                              \n",
      " 20:23:06 | Ep: 102/ 600 | Trn loss:  0.320279 - Acc: 88.8622 | Val loss:  0.439251 - Acc: 87.4769 | last_lr: 5.00000e-04  bad_ep: 3  cdwn: 0                              \n",
      " 20:23:30 | Ep: 103/ 600 | Trn loss:  0.319522 - Acc: 88.8900 | Val loss:  0.439580 - Acc: 87.4630 | last_lr: 5.00000e-04  bad_ep: 4  cdwn: 0                              \n",
      " 20:23:54 | Ep: 104/ 600 | Trn loss:  0.318787 - Acc: 88.9098 | Val loss:  0.437508 - Acc: 87.6065 | last_lr: 5.00000e-04  bad_ep: 5  cdwn: 0                              \n",
      " 20:24:18 | Ep: 105/ 600 | Trn loss:  0.318053 - Acc: 88.9325 | Val loss:  0.435091 - Acc: 87.6806 | last_lr: 5.00000e-04  bad_ep: 6  cdwn: 0                              \n",
      " 20:24:42 | Ep: 106/ 600 | Trn loss:  0.317310 - Acc: 88.9517 | Val loss:  0.428267 - Acc: 87.7593 | last_lr: 5.00000e-04  bad_ep: 7  cdwn: 0                              \n",
      " 20:25:06 | Ep: 107/ 600 | Trn loss:  0.316578 - Acc: 88.9704 | Val loss:  0.422994 - Acc: 87.7593 | last_lr: 5.00000e-04  bad_ep: 8  cdwn: 0                              \n",
      " 20:25:30 | Ep: 108/ 600 | Trn loss:  0.315873 - Acc: 88.9939 | Val loss:  0.417906 - Acc: 87.7731 | last_lr: 5.00000e-04  bad_ep: 9  cdwn: 0                              \n",
      " 20:25:55 | Ep: 109/ 600 | Trn loss:  0.315198 - Acc: 89.0043 | Val loss:  0.413278 - Acc: 87.7870 | last_lr: 5.00000e-04  bad_ep: 10  cdwn: 0                             \n",
      " 20:26:19 | Ep: 110/ 600 | Trn loss:  0.314487 - Acc: 89.0206 | Val loss:  0.409782 - Acc: 87.7917 | last_lr: 5.00000e-04  bad_ep: 11  cdwn: 0                             \n",
      " 20:26:44 | Ep: 111/ 600 | Trn loss:  0.313782 - Acc: 89.0462 | Val loss:  0.411787 - Acc: 87.7824 | last_lr: 5.00000e-04  bad_ep: 12  cdwn: 0                             \n",
      " 20:27:08 | Ep: 112/ 600 | Trn loss:  0.313095 - Acc: 89.0646 | Val loss:  0.407604 - Acc: 87.7963 | last_lr: 5.00000e-04  bad_ep: 13  cdwn: 0                             \n",
      " 20:27:33 | Ep: 113/ 600 | Trn loss:  0.312412 - Acc: 89.0866 | Val loss:  0.404505 - Acc: 87.8056 | last_lr: 5.00000e-04  bad_ep: 14  cdwn: 0                             \n",
      " 20:27:57 | Ep: 114/ 600 | Trn loss:  0.311720 - Acc: 89.1057 | Val loss:  0.399287 - Acc: 87.8287 | last_lr: 5.00000e-04  bad_ep: 15  cdwn: 0                             \n",
      " 20:28:20 | Ep: 115/ 600 | Trn loss:  0.311060 - Acc: 89.1194 | Val loss:  0.396180 - Acc: 87.8565 | last_lr: 5.00000e-04  bad_ep: 16  cdwn: 0                             \n",
      " 20:28:44 | Ep: 116/ 600 | Trn loss:  0.310391 - Acc: 89.1407 | Val loss:  0.390504 - Acc: 87.8194 | last_lr: 5.00000e-04  bad_ep: 17  cdwn: 0                             \n",
      " 20:29:07 | Ep: 117/ 600 | Trn loss:  0.309729 - Acc: 89.1620 | Val loss:  0.385880 - Acc: 87.8102 | last_lr: 5.00000e-04  bad_ep: 18  cdwn: 0                             \n",
      " 20:29:30 | Ep: 118/ 600 | Trn loss:  0.309065 - Acc: 89.1804 | Val loss:  0.384481 - Acc: 87.7870 | last_lr: 5.00000e-04  bad_ep: 19  cdwn: 0                             \n",
      " 20:29:53 | Ep: 119/ 600 | Trn loss:  0.308387 - Acc: 89.1930 | Val loss:  0.380510 - Acc: 87.7639 | last_lr: 5.00000e-04  bad_ep: 20  cdwn: 0                             \n",
      " 20:30:17 | Ep: 120/ 600 | Trn loss:  0.307732 - Acc: 89.2146 | Val loss:  0.379898 - Acc: 87.7546 | last_lr: 5.00000e-04  bad_ep: 21  cdwn: 0                             \n",
      " 20:30:42 | Ep: 121/ 600 | Trn loss:  0.307059 - Acc: 89.2323 | Val loss:  0.381150 - Acc: 87.7731 | last_lr: 5.00000e-04  bad_ep: 22  cdwn: 0                             \n",
      " 20:31:07 | Ep: 122/ 600 | Trn loss:  0.306375 - Acc: 89.2590 | Val loss:  0.380998 - Acc: 87.7454 | last_lr: 5.00000e-04  bad_ep: 23  cdwn: 0                             \n",
      " 20:31:31 | Ep: 123/ 600 | Trn loss:  0.305690 - Acc: 89.2792 | Val loss:  0.381936 - Acc: 87.7546 | last_lr: 5.00000e-04  bad_ep: 24  cdwn: 0                             \n",
      " 20:31:56 | Ep: 124/ 600 | Trn loss:  0.305010 - Acc: 89.3030 | Val loss:  0.383696 - Acc: 87.7361 | last_lr: 5.00000e-04  bad_ep: 25  cdwn: 0                             \n",
      " 20:32:20 | Ep: 125/ 600 | Trn loss:  0.304334 - Acc: 89.3200 | Val loss:  0.381073 - Acc: 87.7546 | last_lr: 5.00000e-04  bad_ep: 26  cdwn: 0                             \n",
      " 20:32:45 | Ep: 126/ 600 | Trn loss:  0.303668 - Acc: 89.3369 | Val loss:  0.378559 - Acc: 87.7778 | last_lr: 5.00000e-04  bad_ep: 27  cdwn: 0                             \n",
      " 20:33:10 | Ep: 127/ 600 | Trn loss:  0.303014 - Acc: 89.3561 | Val loss:  0.376145 - Acc: 87.7778 | last_lr: 5.00000e-04  bad_ep: 28  cdwn: 0                             \n",
      " 20:33:34 | Ep: 128/ 600 | Trn loss:  0.302361 - Acc: 89.3712 | Val loss:  0.375896 - Acc: 87.7824 | last_lr: 5.00000e-04  bad_ep: 29  cdwn: 0                             \n",
      " 20:33:59 | Ep: 129/ 600 | Trn loss:  0.301735 - Acc: 89.3882 | Val loss:  0.375895 - Acc: 87.7778 | last_lr: 5.00000e-04  bad_ep: 30  cdwn: 0                             \n",
      " 20:34:24 | Ep: 130/ 600 | Trn loss:  0.301073 - Acc: 89.4069 | Val loss:  0.377654 - Acc: 87.7593 | last_lr: 5.00000e-04  bad_ep: 31  cdwn: 0                             \n",
      " 20:34:48 | Ep: 131/ 600 | Trn loss:  0.300507 - Acc: 89.4242 | Val loss:  0.379440 - Acc: 87.7546 | last_lr: 5.00000e-04  bad_ep: 32  cdwn: 0                             \n",
      " 20:35:12 | Ep: 132/ 600 | Trn loss:  0.299936 - Acc: 89.4361 | Val loss:  0.378762 - Acc: 87.7546 | last_lr: 5.00000e-04  bad_ep: 33  cdwn: 0                             \n",
      " 20:35:36 | Ep: 133/ 600 | Trn loss:  0.299383 - Acc: 89.4444 | Val loss:  0.381691 - Acc: 87.7361 | last_lr: 5.00000e-04  bad_ep: 34  cdwn: 0                             \n",
      " 20:36:01 | Ep: 134/ 600 | Trn loss:  0.298829 - Acc: 89.4578 | Val loss:  0.384208 - Acc: 87.6991 | last_lr: 5.00000e-04  bad_ep: 35  cdwn: 0                             \n",
      " 20:36:26 | Ep: 135/ 600 | Trn loss:  0.298251 - Acc: 89.4766 | Val loss:  0.386562 - Acc: 87.6806 | last_lr: 5.00000e-04  bad_ep: 36  cdwn: 0                             \n",
      " 20:36:51 | Ep: 136/ 600 | Trn loss:  0.297687 - Acc: 89.4939 | Val loss:  0.394288 - Acc: 87.6481 | last_lr: 5.00000e-04  bad_ep: 37  cdwn: 0                             \n",
      " 20:37:16 | Ep: 137/ 600 | Trn loss:  0.297083 - Acc: 89.5043 | Val loss:  0.400289 - Acc: 87.6019 | last_lr: 5.00000e-04  bad_ep: 38  cdwn: 0                             \n",
      " 20:37:40 | Ep: 138/ 600 | Trn loss:  0.296478 - Acc: 89.5278 | Val loss:  0.415268 - Acc: 87.5231 | last_lr: 5.00000e-04  bad_ep: 39  cdwn: 0                             \n",
      " 20:38:05 | Ep: 139/ 600 | Trn loss:  0.295864 - Acc: 89.5422 | Val loss:  0.426281 - Acc: 87.4120 | last_lr: 5.00000e-04  bad_ep: 40  cdwn: 0                             \n",
      " 20:38:29 | Ep: 140/ 600 | Trn loss:  0.295256 - Acc: 89.5548 | Val loss:  0.443705 - Acc: 87.1898 | last_lr: 5.00000e-04  bad_ep: 41  cdwn: 0                             \n",
      " 20:38:53 | Ep: 141/ 600 | Trn loss:  0.294653 - Acc: 89.5718 | Val loss:  0.455083 - Acc: 86.7546 | last_lr: 5.00000e-04  bad_ep: 42  cdwn: 0                             \n",
      " 20:39:17 | Ep: 142/ 600 | Trn loss:  0.294051 - Acc: 89.5898 | Val loss:  0.474230 - Acc: 81.1435 | last_lr: 5.00000e-04  bad_ep: 43  cdwn: 0                             \n",
      " 20:39:42 | Ep: 143/ 600 | Trn loss:  0.293455 - Acc: 89.6057 | Val loss:  0.484348 - Acc: 77.4167 | last_lr: 5.00000e-04  bad_ep: 44  cdwn: 0                             \n",
      " 20:40:06 | Ep: 144/ 600 | Trn loss:  0.292890 - Acc: 89.6302 | Val loss:  0.517817 - Acc: 69.9213 | last_lr: 5.00000e-04  bad_ep: 45  cdwn: 0                             \n",
      " 20:40:30 | Ep: 145/ 600 | Trn loss:  0.292340 - Acc: 89.6461 | Val loss:  0.546839 - Acc: 66.5324 | last_lr: 5.00000e-04  bad_ep: 46  cdwn: 0                             \n",
      " 20:40:54 | Ep: 146/ 600 | Trn loss:  0.291788 - Acc: 89.6681 | Val loss:  0.615000 - Acc: 62.5231 | last_lr: 5.00000e-04  bad_ep: 47  cdwn: 0                             \n",
      " 20:41:18 | Ep: 147/ 600 | Trn loss:  0.291209 - Acc: 89.6833 | Val loss:  0.662009 - Acc: 60.7176 | last_lr: 5.00000e-04  bad_ep: 48  cdwn: 0                             \n",
      " 20:41:43 | Ep: 148/ 600 | Trn loss:  0.290678 - Acc: 89.6995 | Val loss:  0.667487 - Acc: 60.4676 | last_lr: 5.00000e-04  bad_ep: 49  cdwn: 0                             \n",
      " 20:42:08 | Ep: 149/ 600 | Trn loss:  0.290152 - Acc: 89.7161 | Val loss:  0.700330 - Acc: 59.6250 | last_lr: 5.00000e-04  bad_ep: 50  cdwn: 0                             \n",
      " 20:42:32 | Ep: 150/ 600 | Trn loss:  0.289610 - Acc: 89.7334 | Val loss:  0.703655 - Acc: 59.4769 | last_lr: 2.50000e-04  bad_ep: 0  cdwn: 10                             \n",
      " 20:42:56 | Ep: 151/ 600 | Trn loss:  0.298778 - Acc: 89.4127 | Val loss:  0.392052 - Acc: 87.7731 | last_lr: 2.50000e-04  bad_ep: 0  cdwn: 9                              \n",
      " 20:43:20 | Ep: 152/ 600 | Trn loss:  0.297277 - Acc: 89.4491 | Val loss:  0.411715 - Acc: 87.6389 | last_lr: 2.50000e-04  bad_ep: 0  cdwn: 8                              \n",
      " 20:43:44 | Ep: 153/ 600 | Trn loss:  0.295142 - Acc: 89.5220 | Val loss:  0.387249 - Acc: 87.7407 | last_lr: 2.50000e-04  bad_ep: 0  cdwn: 7                              \n",
      " 20:44:09 | Ep: 154/ 600 | Trn loss:  0.293745 - Acc: 89.5635 | Val loss:  0.380718 - Acc: 87.7917 | last_lr: 2.50000e-04  bad_ep: 0  cdwn: 6                              \n",
      " 20:44:33 | Ep: 155/ 600 | Trn loss:  0.292578 - Acc: 89.5967 | Val loss:  0.380918 - Acc: 87.8241 | last_lr: 2.50000e-04  bad_ep: 0  cdwn: 5                              \n",
      " 20:44:57 | Ep: 156/ 600 | Trn loss:  0.291534 - Acc: 89.6277 | Val loss:  0.381528 - Acc: 87.8194 | last_lr: 2.50000e-04  bad_ep: 0  cdwn: 4                              \n",
      " 20:45:22 | Ep: 157/ 600 | Trn loss:  0.290605 - Acc: 89.6562 | Val loss:  0.382280 - Acc: 87.8102 | last_lr: 2.50000e-04  bad_ep: 0  cdwn: 3                              \n",
      " 20:45:46 | Ep: 158/ 600 | Trn loss:  0.289728 - Acc: 89.6825 | Val loss:  0.383272 - Acc: 87.8009 | last_lr: 2.50000e-04  bad_ep: 0  cdwn: 2                              \n",
      " 20:46:09 | Ep: 159/ 600 | Trn loss:  0.288904 - Acc: 89.7020 | Val loss:  0.384515 - Acc: 87.8287 | last_lr: 2.50000e-04  bad_ep: 0  cdwn: 1                              \n",
      " 20:46:33 | Ep: 160/ 600 | Trn loss:  0.288115 - Acc: 89.7237 | Val loss:  0.385977 - Acc: 87.8148 | last_lr: 2.50000e-04  bad_ep: 0  cdwn: 0                              \n",
      " 20:46:57 | Ep: 161/ 600 | Trn loss:  0.287355 - Acc: 89.7468 | Val loss:  0.387564 - Acc: 87.8287 | last_lr: 2.50000e-04  bad_ep: 1  cdwn: 0                              \n",
      " 20:47:22 | Ep: 162/ 600 | Trn loss:  0.286618 - Acc: 89.7633 | Val loss:  0.389391 - Acc: 87.8241 | last_lr: 2.50000e-04  bad_ep: 2  cdwn: 0                              \n",
      " 20:47:45 | Ep: 163/ 600 | Trn loss:  0.285899 - Acc: 89.7861 | Val loss:  0.390875 - Acc: 87.8333 | last_lr: 2.50000e-04  bad_ep: 3  cdwn: 0                              \n",
      " 20:48:09 | Ep: 164/ 600 | Trn loss:  0.285195 - Acc: 89.8157 | Val loss:  0.392258 - Acc: 87.8333 | last_lr: 2.50000e-04  bad_ep: 4  cdwn: 0                              \n",
      " 20:48:32 | Ep: 165/ 600 | Trn loss:  0.284503 - Acc: 89.8359 | Val loss:  0.393716 - Acc: 87.8241 | last_lr: 2.50000e-04  bad_ep: 5  cdwn: 0                              \n",
      " 20:48:56 | Ep: 166/ 600 | Trn loss:  0.283822 - Acc: 89.8644 | Val loss:  0.394851 - Acc: 87.8519 | last_lr: 2.50000e-04  bad_ep: 6  cdwn: 0                              \n",
      " 20:49:21 | Ep: 167/ 600 | Trn loss:  0.283150 - Acc: 89.8856 | Val loss:  0.395765 - Acc: 87.8565 | last_lr: 2.50000e-04  bad_ep: 7  cdwn: 0                              \n",
      " 20:49:46 | Ep: 168/ 600 | Trn loss:  0.282486 - Acc: 89.8986 | Val loss:  0.396869 - Acc: 87.8611 | last_lr: 2.50000e-04  bad_ep: 8  cdwn: 0                              \n",
      " 20:50:11 | Ep: 169/ 600 | Trn loss:  0.281829 - Acc: 89.9192 | Val loss:  0.397593 - Acc: 87.8519 | last_lr: 2.50000e-04  bad_ep: 9  cdwn: 0                              \n",
      " 20:50:36 | Ep: 170/ 600 | Trn loss:  0.281179 - Acc: 89.9412 | Val loss:  0.398203 - Acc: 87.8565 | last_lr: 2.50000e-04  bad_ep: 10  cdwn: 0                             \n",
      " 20:51:00 | Ep: 171/ 600 | Trn loss:  0.280536 - Acc: 89.9585 | Val loss:  0.398916 - Acc: 87.8519 | last_lr: 2.50000e-04  bad_ep: 11  cdwn: 0                             \n",
      " 20:51:24 | Ep: 172/ 600 | Trn loss:  0.279900 - Acc: 89.9733 | Val loss:  0.399306 - Acc: 87.8333 | last_lr: 2.50000e-04  bad_ep: 12  cdwn: 0                             \n",
      " 20:51:49 | Ep: 173/ 600 | Trn loss:  0.279270 - Acc: 89.9960 | Val loss:  0.399439 - Acc: 87.8426 | last_lr: 2.50000e-04  bad_ep: 13  cdwn: 0                             \n",
      " 20:52:14 | Ep: 174/ 600 | Trn loss:  0.278645 - Acc: 90.0202 | Val loss:  0.400028 - Acc: 87.8241 | last_lr: 2.50000e-04  bad_ep: 14  cdwn: 0                             \n",
      " 20:52:38 | Ep: 175/ 600 | Trn loss:  0.278025 - Acc: 90.0310 | Val loss:  0.400291 - Acc: 87.7963 | last_lr: 2.50000e-04  bad_ep: 15  cdwn: 0                             \n",
      " 20:53:03 | Ep: 176/ 600 | Trn loss:  0.277410 - Acc: 90.0462 | Val loss:  0.400475 - Acc: 87.7870 | last_lr: 2.50000e-04  bad_ep: 16  cdwn: 0                             \n",
      " 20:53:29 | Ep: 177/ 600 | Trn loss:  0.276799 - Acc: 90.0660 | Val loss:  0.400950 - Acc: 87.7870 | last_lr: 2.50000e-04  bad_ep: 17  cdwn: 0                             \n",
      " 20:53:54 | Ep: 178/ 600 | Trn loss:  0.276192 - Acc: 90.0927 | Val loss:  0.401291 - Acc: 87.7917 | last_lr: 2.50000e-04  bad_ep: 18  cdwn: 0                             \n",
      " 20:54:18 | Ep: 179/ 600 | Trn loss:  0.275589 - Acc: 90.1129 | Val loss:  0.401546 - Acc: 87.8009 | last_lr: 2.50000e-04  bad_ep: 19  cdwn: 0                             \n",
      " 20:54:43 | Ep: 180/ 600 | Trn loss:  0.274989 - Acc: 90.1288 | Val loss:  0.402090 - Acc: 87.7963 | last_lr: 2.50000e-04  bad_ep: 20  cdwn: 0                             \n",
      " 20:55:07 | Ep: 181/ 600 | Trn loss:  0.274392 - Acc: 90.1540 | Val loss:  0.402900 - Acc: 87.7824 | last_lr: 2.50000e-04  bad_ep: 21  cdwn: 0                             \n",
      " 20:55:32 | Ep: 182/ 600 | Trn loss:  0.273797 - Acc: 90.1728 | Val loss:  0.403296 - Acc: 87.7778 | last_lr: 2.50000e-04  bad_ep: 22  cdwn: 0                             \n",
      " 20:55:57 | Ep: 183/ 600 | Trn loss:  0.273206 - Acc: 90.1894 | Val loss:  0.403800 - Acc: 87.7778 | last_lr: 2.50000e-04  bad_ep: 23  cdwn: 0                             \n",
      " 20:56:22 | Ep: 184/ 600 | Trn loss:  0.272616 - Acc: 90.2071 | Val loss:  0.404710 - Acc: 87.7685 | last_lr: 2.50000e-04  bad_ep: 24  cdwn: 0                             \n",
      " 20:56:47 | Ep: 185/ 600 | Trn loss:  0.272028 - Acc: 90.2244 | Val loss:  0.405519 - Acc: 87.7639 | last_lr: 2.50000e-04  bad_ep: 25  cdwn: 0                             \n",
      " 20:57:12 | Ep: 186/ 600 | Trn loss:  0.271443 - Acc: 90.2449 | Val loss:  0.406749 - Acc: 87.7639 | last_lr: 2.50000e-04  bad_ep: 26  cdwn: 0                             \n",
      " 20:57:37 | Ep: 187/ 600 | Trn loss:  0.270859 - Acc: 90.2673 | Val loss:  0.406665 - Acc: 87.7778 | last_lr: 2.50000e-04  bad_ep: 27  cdwn: 0                             \n",
      " 20:58:02 | Ep: 188/ 600 | Trn loss:  0.270278 - Acc: 90.2918 | Val loss:  0.408453 - Acc: 87.7824 | last_lr: 2.50000e-04  bad_ep: 28  cdwn: 0                             \n",
      " 20:58:26 | Ep: 189/ 600 | Trn loss:  0.269699 - Acc: 90.3059 | Val loss:  0.408862 - Acc: 87.7963 | last_lr: 2.50000e-04  bad_ep: 29  cdwn: 0                             \n",
      " 20:58:51 | Ep: 190/ 600 | Trn loss:  0.269122 - Acc: 90.3232 | Val loss:  0.410574 - Acc: 87.7963 | last_lr: 2.50000e-04  bad_ep: 30  cdwn: 0                             \n",
      " 20:59:15 | Ep: 191/ 600 | Trn loss:  0.268550 - Acc: 90.3467 | Val loss:  0.411224 - Acc: 87.7917 | last_lr: 2.50000e-04  bad_ep: 31  cdwn: 0                             \n",
      " 20:59:40 | Ep: 192/ 600 | Trn loss:  0.267980 - Acc: 90.3669 | Val loss:  0.412422 - Acc: 87.8009 | last_lr: 2.50000e-04  bad_ep: 32  cdwn: 0                             \n",
      " 21:00:04 | Ep: 193/ 600 | Trn loss:  0.267415 - Acc: 90.3846 | Val loss:  0.414647 - Acc: 87.8056 | last_lr: 2.50000e-04  bad_ep: 33  cdwn: 0                             \n",
      " 21:00:29 | Ep: 194/ 600 | Trn loss:  0.266856 - Acc: 90.4048 | Val loss:  0.415217 - Acc: 87.8102 | last_lr: 2.50000e-04  bad_ep: 34  cdwn: 0                             \n",
      " 21:00:53 | Ep: 195/ 600 | Trn loss:  0.266302 - Acc: 90.4199 | Val loss:  0.416932 - Acc: 87.7917 | last_lr: 2.50000e-04  bad_ep: 35  cdwn: 0                             \n",
      " 21:01:18 | Ep: 196/ 600 | Trn loss:  0.265756 - Acc: 90.4408 | Val loss:  0.417878 - Acc: 87.7778 | last_lr: 2.50000e-04  bad_ep: 36  cdwn: 0                             \n",
      " 21:01:43 | Ep: 197/ 600 | Trn loss:  0.265216 - Acc: 90.4596 | Val loss:  0.419885 - Acc: 87.7824 | last_lr: 2.50000e-04  bad_ep: 37  cdwn: 0                             \n",
      " 21:02:08 | Ep: 198/ 600 | Trn loss:  0.264685 - Acc: 90.4755 | Val loss:  0.420670 - Acc: 87.7824 | last_lr: 2.50000e-04  bad_ep: 38  cdwn: 0                             \n",
      " 21:02:32 | Ep: 199/ 600 | Trn loss:  0.264163 - Acc: 90.4895 | Val loss:  0.423095 - Acc: 87.8009 | last_lr: 2.50000e-04  bad_ep: 39  cdwn: 0                             \n",
      "                                                                                                                                                                           "
     ]
    },
    {
     "name": "stderr",
     "output_type": "stream",
     "text": [
      "2024-09-30 21:02:57,613 - utils.utils_cellpainting - INFO: -  Model exported to NN_snnl_embd600_250Ltnt_512_20240917_2004_LAST_20240930_1930_ep_200.pt - epoch: 200\n"
     ]
    },
    {
     "name": "stdout",
     "output_type": "stream",
     "text": [
      " 21:02:57 | Ep: 200/ 600 | Trn loss:  0.263652 - Acc: 90.5047 | Val loss:  0.423765 - Acc: 87.7917 | last_lr: 2.50000e-04  bad_ep: 40  cdwn: 0 \n",
      " 21:03:22 | Ep: 201/ 600 | Trn loss:  0.263151 - Acc: 90.5263 | Val loss:  0.425724 - Acc: 87.7870 | last_lr: 2.50000e-04  bad_ep: 41  cdwn: 0                             \n",
      " 21:03:46 | Ep: 202/ 600 | Trn loss:  0.262663 - Acc: 90.5411 | Val loss:  0.427152 - Acc: 87.7824 | last_lr: 2.50000e-04  bad_ep: 42  cdwn: 0                             \n",
      " 21:04:11 | Ep: 203/ 600 | Trn loss:  0.262187 - Acc: 90.5588 | Val loss:  0.428904 - Acc: 87.7778 | last_lr: 2.50000e-04  bad_ep: 43  cdwn: 0                             \n",
      " 21:04:35 | Ep: 204/ 600 | Trn loss:  0.261730 - Acc: 90.5758 | Val loss:  0.430261 - Acc: 87.7778 | last_lr: 2.50000e-04  bad_ep: 44  cdwn: 0                             \n",
      " 21:04:59 | Ep: 205/ 600 | Trn loss:  0.261290 - Acc: 90.5848 | Val loss:  0.432208 - Acc: 87.7870 | last_lr: 2.50000e-04  bad_ep: 45  cdwn: 0                             \n",
      " 21:05:23 | Ep: 206/ 600 | Trn loss:  0.260877 - Acc: 90.6039 | Val loss:  0.432798 - Acc: 87.7778 | last_lr: 2.50000e-04  bad_ep: 46  cdwn: 0                             \n",
      " 21:05:48 | Ep: 207/ 600 | Trn loss:  0.260492 - Acc: 90.6190 | Val loss:  0.435778 - Acc: 87.7824 | last_lr: 2.50000e-04  bad_ep: 47  cdwn: 0                             \n",
      " 21:06:12 | Ep: 208/ 600 | Trn loss:  0.260150 - Acc: 90.6313 | Val loss:  0.436897 - Acc: 87.7731 | last_lr: 2.50000e-04  bad_ep: 48  cdwn: 0                             \n",
      " 21:06:37 | Ep: 209/ 600 | Trn loss:  0.259863 - Acc: 90.6418 | Val loss:  0.441882 - Acc: 87.7731 | last_lr: 2.50000e-04  bad_ep: 49  cdwn: 0                             \n",
      " 21:07:02 | Ep: 210/ 600 | Trn loss:  0.259655 - Acc: 90.6562 | Val loss:  0.443116 - Acc: 87.7500 | last_lr: 2.50000e-04  bad_ep: 50  cdwn: 0                             \n",
      " 21:07:27 | Ep: 211/ 600 | Trn loss:  0.259579 - Acc: 90.6566 | Val loss:  0.449923 - Acc: 87.7546 | last_lr: 1.25000e-04  bad_ep: 0  cdwn: 10                             \n",
      " 21:07:51 | Ep: 212/ 600 | Trn loss:  0.275597 - Acc: 90.2175 | Val loss:  0.498136 - Acc: 87.7778 | last_lr: 1.25000e-04  bad_ep: 0  cdwn: 9                              \n",
      " 21:08:15 | Ep: 213/ 600 | Trn loss:  0.274904 - Acc: 90.1429 | Val loss:  0.502442 - Acc: 87.8426 | last_lr: 1.25000e-04  bad_ep: 0  cdwn: 8                              \n",
      " 21:08:40 | Ep: 214/ 600 | Trn loss:  0.271564 - Acc: 90.2356 | Val loss:  0.504606 - Acc: 87.8380 | last_lr: 1.25000e-04  bad_ep: 0  cdwn: 7                              \n",
      " 21:09:04 | Ep: 215/ 600 | Trn loss:  0.269685 - Acc: 90.2850 | Val loss:  0.505151 - Acc: 87.8056 | last_lr: 1.25000e-04  bad_ep: 0  cdwn: 6                              \n",
      " 21:09:27 | Ep: 216/ 600 | Trn loss:  0.268384 - Acc: 90.3193 | Val loss:  0.503047 - Acc: 87.7963 | last_lr: 1.25000e-04  bad_ep: 0  cdwn: 5                              \n",
      " 21:09:51 | Ep: 217/ 600 | Trn loss:  0.267334 - Acc: 90.3629 | Val loss:  0.500786 - Acc: 87.8148 | last_lr: 1.25000e-04  bad_ep: 0  cdwn: 4                              \n",
      " 21:10:16 | Ep: 218/ 600 | Trn loss:  0.266432 - Acc: 90.3954 | Val loss:  0.498697 - Acc: 87.8056 | last_lr: 1.25000e-04  bad_ep: 0  cdwn: 3                              \n",
      " 21:10:40 | Ep: 219/ 600 | Trn loss:  0.265621 - Acc: 90.4260 | Val loss:  0.496825 - Acc: 87.8194 | last_lr: 1.25000e-04  bad_ep: 0  cdwn: 2                              \n",
      " 21:11:06 | Ep: 220/ 600 | Trn loss:  0.264879 - Acc: 90.4571 | Val loss:  0.495344 - Acc: 87.8380 | last_lr: 1.25000e-04  bad_ep: 0  cdwn: 1                              \n",
      " 21:11:31 | Ep: 221/ 600 | Trn loss:  0.264185 - Acc: 90.4740 | Val loss:  0.494377 - Acc: 87.8565 | last_lr: 1.25000e-04  bad_ep: 0  cdwn: 0                              \n",
      " 21:11:56 | Ep: 222/ 600 | Trn loss:  0.263529 - Acc: 90.4982 | Val loss:  0.493784 - Acc: 87.8565 | last_lr: 1.25000e-04  bad_ep: 1  cdwn: 0                              \n",
      " 21:12:21 | Ep: 223/ 600 | Trn loss:  0.262904 - Acc: 90.5180 | Val loss:  0.493622 - Acc: 87.8519 | last_lr: 1.25000e-04  bad_ep: 2  cdwn: 0                              \n",
      " 21:12:46 | Ep: 224/ 600 | Trn loss:  0.262306 - Acc: 90.5393 | Val loss:  0.493681 - Acc: 87.8380 | last_lr: 1.25000e-04  bad_ep: 3  cdwn: 0                              \n",
      " 21:13:11 | Ep: 225/ 600 | Trn loss:  0.261731 - Acc: 90.5577 | Val loss:  0.493965 - Acc: 87.8472 | last_lr: 1.25000e-04  bad_ep: 4  cdwn: 0                              \n",
      " 21:13:35 | Ep: 226/ 600 | Trn loss:  0.261176 - Acc: 90.5758 | Val loss:  0.494671 - Acc: 87.8472 | last_lr: 1.25000e-04  bad_ep: 5  cdwn: 0                              \n",
      " 21:13:59 | Ep: 227/ 600 | Trn loss:  0.260638 - Acc: 90.5920 | Val loss:  0.495142 - Acc: 87.8519 | last_lr: 1.25000e-04  bad_ep: 6  cdwn: 0                              \n",
      " 21:14:23 | Ep: 228/ 600 | Trn loss:  0.260114 - Acc: 90.6097 | Val loss:  0.495955 - Acc: 87.8472 | last_lr: 1.25000e-04  bad_ep: 7  cdwn: 0                              \n",
      " 21:14:47 | Ep: 229/ 600 | Trn loss:  0.259604 - Acc: 90.6263 | Val loss:  0.496472 - Acc: 87.8472 | last_lr: 1.25000e-04  bad_ep: 8  cdwn: 0                              \n",
      " 21:15:12 | Ep: 230/ 600 | Trn loss:  0.259106 - Acc: 90.6429 | Val loss:  0.497439 - Acc: 87.8472 | last_lr: 1.25000e-04  bad_ep: 9  cdwn: 0                              \n",
      " 21:15:37 | Ep: 231/ 600 | Trn loss:  0.258617 - Acc: 90.6576 | Val loss:  0.498658 - Acc: 87.8472 | last_lr: 1.25000e-04  bad_ep: 10  cdwn: 0                             \n",
      " 21:16:02 | Ep: 232/ 600 | Trn loss:  0.258138 - Acc: 90.6750 | Val loss:  0.499424 - Acc: 87.8565 | last_lr: 1.25000e-04  bad_ep: 11  cdwn: 0                             \n",
      " 21:16:28 | Ep: 233/ 600 | Trn loss:  0.257667 - Acc: 90.6916 | Val loss:  0.500817 - Acc: 87.8519 | last_lr: 1.25000e-04  bad_ep: 12  cdwn: 0                             \n",
      " 21:16:52 | Ep: 234/ 600 | Trn loss:  0.257203 - Acc: 90.7078 | Val loss:  0.501931 - Acc: 87.8472 | last_lr: 1.25000e-04  bad_ep: 13  cdwn: 0                             \n",
      " 21:17:16 | Ep: 235/ 600 | Trn loss:  0.256745 - Acc: 90.7269 | Val loss:  0.503223 - Acc: 87.8565 | last_lr: 1.25000e-04  bad_ep: 14  cdwn: 0                             \n",
      " 21:17:41 | Ep: 236/ 600 | Trn loss:  0.256294 - Acc: 90.7449 | Val loss:  0.504250 - Acc: 87.8565 | last_lr: 1.25000e-04  bad_ep: 15  cdwn: 0                             \n",
      " 21:18:05 | Ep: 237/ 600 | Trn loss:  0.255848 - Acc: 90.7572 | Val loss:  0.505733 - Acc: 87.8611 | last_lr: 1.25000e-04  bad_ep: 16  cdwn: 0                             \n",
      " 21:18:30 | Ep: 238/ 600 | Trn loss:  0.255407 - Acc: 90.7684 | Val loss:  0.506752 - Acc: 87.8750 | last_lr: 1.25000e-04  bad_ep: 17  cdwn: 0                             \n",
      " 21:18:54 | Ep: 239/ 600 | Trn loss:  0.254972 - Acc: 90.7835 | Val loss:  0.508388 - Acc: 87.8657 | last_lr: 1.25000e-04  bad_ep: 18  cdwn: 0                             \n",
      " 21:19:19 | Ep: 240/ 600 | Trn loss:  0.254540 - Acc: 90.8009 | Val loss:  0.509646 - Acc: 87.8611 | last_lr: 1.25000e-04  bad_ep: 19  cdwn: 0                             \n",
      " 21:19:43 | Ep: 241/ 600 | Trn loss:  0.254112 - Acc: 90.8193 | Val loss:  0.511032 - Acc: 87.8657 | last_lr: 1.25000e-04  bad_ep: 20  cdwn: 0                             \n",
      " 21:20:08 | Ep: 242/ 600 | Trn loss:  0.253689 - Acc: 90.8326 | Val loss:  0.513169 - Acc: 87.8611 | last_lr: 1.25000e-04  bad_ep: 21  cdwn: 0                             \n",
      " 21:20:32 | Ep: 243/ 600 | Trn loss:  0.253269 - Acc: 90.8510 | Val loss:  0.514598 - Acc: 87.8565 | last_lr: 1.25000e-04  bad_ep: 22  cdwn: 0                             \n",
      " 21:20:57 | Ep: 244/ 600 | Trn loss:  0.252853 - Acc: 90.8636 | Val loss:  0.516192 - Acc: 87.8519 | last_lr: 1.25000e-04  bad_ep: 23  cdwn: 0                             \n",
      " 21:21:22 | Ep: 245/ 600 | Trn loss:  0.252440 - Acc: 90.8777 | Val loss:  0.518370 - Acc: 87.8426 | last_lr: 1.25000e-04  bad_ep: 24  cdwn: 0                             \n",
      " 21:21:47 | Ep: 246/ 600 | Trn loss:  0.252031 - Acc: 90.8896 | Val loss:  0.519847 - Acc: 87.8241 | last_lr: 1.25000e-04  bad_ep: 25  cdwn: 0                             \n",
      " 21:22:11 | Ep: 247/ 600 | Trn loss:  0.251624 - Acc: 90.9012 | Val loss:  0.522466 - Acc: 87.8194 | last_lr: 1.25000e-04  bad_ep: 26  cdwn: 0                             \n",
      " 21:22:35 | Ep: 248/ 600 | Trn loss:  0.251221 - Acc: 90.9127 | Val loss:  0.524002 - Acc: 87.8194 | last_lr: 1.25000e-04  bad_ep: 27  cdwn: 0                             \n",
      " 21:22:59 | Ep: 249/ 600 | Trn loss:  0.250820 - Acc: 90.9289 | Val loss:  0.526243 - Acc: 87.8194 | last_lr: 1.25000e-04  bad_ep: 28  cdwn: 0                             \n",
      " 21:23:23 | Ep: 250/ 600 | Trn loss:  0.250422 - Acc: 90.9390 | Val loss:  0.528436 - Acc: 87.8287 | last_lr: 1.25000e-04  bad_ep: 29  cdwn: 0                             \n",
      " 21:23:48 | Ep: 251/ 600 | Trn loss:  0.250026 - Acc: 90.9477 | Val loss:  0.530457 - Acc: 87.8148 | last_lr: 1.25000e-04  bad_ep: 30  cdwn: 0                             \n",
      " 21:24:13 | Ep: 252/ 600 | Trn loss:  0.249632 - Acc: 90.9600 | Val loss:  0.533145 - Acc: 87.8194 | last_lr: 1.25000e-04  bad_ep: 31  cdwn: 0                             \n",
      " 21:24:38 | Ep: 253/ 600 | Trn loss:  0.249241 - Acc: 90.9740 | Val loss:  0.535561 - Acc: 87.8333 | last_lr: 1.25000e-04  bad_ep: 32  cdwn: 0                             \n",
      " 21:25:02 | Ep: 254/ 600 | Trn loss:  0.248852 - Acc: 90.9848 | Val loss:  0.537589 - Acc: 87.8380 | last_lr: 1.25000e-04  bad_ep: 33  cdwn: 0                             \n",
      " 21:25:26 | Ep: 255/ 600 | Trn loss:  0.248465 - Acc: 90.9996 | Val loss:  0.540084 - Acc: 87.8380 | last_lr: 1.25000e-04  bad_ep: 34  cdwn: 0                             \n",
      " 21:25:51 | Ep: 256/ 600 | Trn loss:  0.248079 - Acc: 91.0126 | Val loss:  0.542672 - Acc: 87.8426 | last_lr: 1.25000e-04  bad_ep: 35  cdwn: 0                             \n",
      " 21:26:16 | Ep: 257/ 600 | Trn loss:  0.247696 - Acc: 91.0253 | Val loss:  0.544944 - Acc: 87.8426 | last_lr: 1.25000e-04  bad_ep: 36  cdwn: 0                             \n",
      " 21:26:41 | Ep: 258/ 600 | Trn loss:  0.247315 - Acc: 91.0397 | Val loss:  0.547813 - Acc: 87.8426 | last_lr: 1.25000e-04  bad_ep: 37  cdwn: 0                             \n",
      " 21:27:05 | Ep: 259/ 600 | Trn loss:  0.246936 - Acc: 91.0527 | Val loss:  0.550370 - Acc: 87.8333 | last_lr: 1.25000e-04  bad_ep: 38  cdwn: 0                             \n",
      " 21:27:29 | Ep: 260/ 600 | Trn loss:  0.246558 - Acc: 91.0624 | Val loss:  0.553071 - Acc: 87.8241 | last_lr: 1.25000e-04  bad_ep: 39  cdwn: 0                             \n",
      " 21:27:53 | Ep: 261/ 600 | Trn loss:  0.246181 - Acc: 91.0693 | Val loss:  0.556143 - Acc: 87.8287 | last_lr: 1.25000e-04  bad_ep: 40  cdwn: 0                             \n",
      " 21:28:17 | Ep: 262/ 600 | Trn loss:  0.245807 - Acc: 91.0844 | Val loss:  0.558525 - Acc: 87.8287 | last_lr: 1.25000e-04  bad_ep: 41  cdwn: 0                             \n",
      " 21:28:41 | Ep: 263/ 600 | Trn loss:  0.245433 - Acc: 91.0978 | Val loss:  0.561666 - Acc: 87.8241 | last_lr: 1.25000e-04  bad_ep: 42  cdwn: 0                             \n",
      " 21:29:06 | Ep: 264/ 600 | Trn loss:  0.245062 - Acc: 91.1126 | Val loss:  0.564694 - Acc: 87.8148 | last_lr: 1.25000e-04  bad_ep: 43  cdwn: 0                             \n",
      " 21:29:30 | Ep: 265/ 600 | Trn loss:  0.244691 - Acc: 91.1277 | Val loss:  0.567089 - Acc: 87.8148 | last_lr: 1.25000e-04  bad_ep: 44  cdwn: 0                             \n",
      " 21:29:54 | Ep: 266/ 600 | Trn loss:  0.244322 - Acc: 91.1385 | Val loss:  0.569972 - Acc: 87.8148 | last_lr: 1.25000e-04  bad_ep: 45  cdwn: 0                             \n",
      " 21:30:19 | Ep: 267/ 600 | Trn loss:  0.243954 - Acc: 91.1537 | Val loss:  0.572721 - Acc: 87.8287 | last_lr: 1.25000e-04  bad_ep: 46  cdwn: 0                             \n",
      " 21:30:44 | Ep: 268/ 600 | Trn loss:  0.243588 - Acc: 91.1631 | Val loss:  0.575573 - Acc: 87.8333 | last_lr: 1.25000e-04  bad_ep: 47  cdwn: 0                             \n",
      " 21:31:09 | Ep: 269/ 600 | Trn loss:  0.243222 - Acc: 91.1714 | Val loss:  0.578681 - Acc: 87.8333 | last_lr: 1.25000e-04  bad_ep: 48  cdwn: 0                             \n",
      " 21:31:34 | Ep: 270/ 600 | Trn loss:  0.242858 - Acc: 91.1836 | Val loss:  0.581880 - Acc: 87.8241 | last_lr: 1.25000e-04  bad_ep: 49  cdwn: 0                             \n",
      " 21:31:58 | Ep: 271/ 600 | Trn loss:  0.242495 - Acc: 91.2020 | Val loss:  0.584560 - Acc: 87.8194 | last_lr: 1.25000e-04  bad_ep: 50  cdwn: 0                             \n",
      " 21:32:24 | Ep: 272/ 600 | Trn loss:  0.242133 - Acc: 91.2161 | Val loss:  0.587682 - Acc: 87.8194 | last_lr: 6.25000e-05  bad_ep: 0  cdwn: 10                             \n",
      " 21:32:49 | Ep: 273/ 600 | Trn loss:  0.250986 - Acc: 90.9069 | Val loss:  0.446672 - Acc: 87.6481 | last_lr: 6.25000e-05  bad_ep: 0  cdwn: 9                              \n",
      " 21:33:14 | Ep: 274/ 600 | Trn loss:  0.252044 - Acc: 90.8698 | Val loss:  0.443025 - Acc: 87.6528 | last_lr: 6.25000e-05  bad_ep: 0  cdwn: 8                              \n",
      " 21:33:38 | Ep: 275/ 600 | Trn loss:  0.251675 - Acc: 90.8680 | Val loss:  0.465154 - Acc: 87.7407 | last_lr: 6.25000e-05  bad_ep: 0  cdwn: 7                              \n",
      " 21:34:03 | Ep: 276/ 600 | Trn loss:  0.251243 - Acc: 90.8806 | Val loss:  0.484442 - Acc: 87.7593 | last_lr: 6.25000e-05  bad_ep: 0  cdwn: 6                              \n",
      " 21:34:28 | Ep: 277/ 600 | Trn loss:  0.250789 - Acc: 90.8965 | Val loss:  0.495081 - Acc: 87.7917 | last_lr: 6.25000e-05  bad_ep: 0  cdwn: 5                              \n",
      " 21:34:52 | Ep: 278/ 600 | Trn loss:  0.250332 - Acc: 90.9152 | Val loss:  0.498874 - Acc: 87.7685 | last_lr: 6.25000e-05  bad_ep: 0  cdwn: 4                              \n",
      " 21:35:16 | Ep: 279/ 600 | Trn loss:  0.249891 - Acc: 90.9325 | Val loss:  0.499005 - Acc: 87.7870 | last_lr: 6.25000e-05  bad_ep: 0  cdwn: 3                              \n",
      " 21:35:40 | Ep: 280/ 600 | Trn loss:  0.249471 - Acc: 90.9578 | Val loss:  0.497552 - Acc: 87.7778 | last_lr: 6.25000e-05  bad_ep: 0  cdwn: 2                              \n",
      " 21:36:04 | Ep: 281/ 600 | Trn loss:  0.249071 - Acc: 90.9693 | Val loss:  0.495854 - Acc: 87.7824 | last_lr: 6.25000e-05  bad_ep: 0  cdwn: 1                              \n",
      " 21:36:28 | Ep: 282/ 600 | Trn loss:  0.248687 - Acc: 90.9820 | Val loss:  0.494300 - Acc: 87.7963 | last_lr: 6.25000e-05  bad_ep: 0  cdwn: 0                              \n",
      " 21:36:53 | Ep: 283/ 600 | Trn loss:  0.248316 - Acc: 90.9986 | Val loss:  0.493089 - Acc: 87.8194 | last_lr: 6.25000e-05  bad_ep: 1  cdwn: 0                              \n",
      " 21:37:17 | Ep: 284/ 600 | Trn loss:  0.247954 - Acc: 91.0159 | Val loss:  0.492187 - Acc: 87.8102 | last_lr: 6.25000e-05  bad_ep: 2  cdwn: 0                              \n",
      " 21:37:41 | Ep: 285/ 600 | Trn loss:  0.247598 - Acc: 91.0307 | Val loss:  0.491746 - Acc: 87.7963 | last_lr: 6.25000e-05  bad_ep: 3  cdwn: 0                              \n",
      " 21:38:06 | Ep: 286/ 600 | Trn loss:  0.247245 - Acc: 91.0404 | Val loss:  0.491979 - Acc: 87.8056 | last_lr: 6.25000e-05  bad_ep: 4  cdwn: 0                              \n",
      " 21:38:31 | Ep: 287/ 600 | Trn loss:  0.246896 - Acc: 91.0563 | Val loss:  0.492070 - Acc: 87.7917 | last_lr: 6.25000e-05  bad_ep: 5  cdwn: 0                              \n",
      " 21:38:56 | Ep: 288/ 600 | Trn loss:  0.246549 - Acc: 91.0664 | Val loss:  0.492305 - Acc: 87.8056 | last_lr: 6.25000e-05  bad_ep: 6  cdwn: 0                              \n",
      " 21:39:20 | Ep: 289/ 600 | Trn loss:  0.246204 - Acc: 91.0812 | Val loss:  0.493228 - Acc: 87.8102 | last_lr: 6.25000e-05  bad_ep: 7  cdwn: 0                              \n",
      " 21:39:45 | Ep: 290/ 600 | Trn loss:  0.245861 - Acc: 91.0967 | Val loss:  0.494002 - Acc: 87.8009 | last_lr: 6.25000e-05  bad_ep: 8  cdwn: 0                              \n",
      " 21:40:10 | Ep: 291/ 600 | Trn loss:  0.245521 - Acc: 91.1035 | Val loss:  0.495001 - Acc: 87.8009 | last_lr: 6.25000e-05  bad_ep: 9  cdwn: 0                              \n",
      " 21:40:35 | Ep: 292/ 600 | Trn loss:  0.245183 - Acc: 91.1126 | Val loss:  0.496028 - Acc: 87.7963 | last_lr: 6.25000e-05  bad_ep: 10  cdwn: 0                             \n",
      " 21:40:59 | Ep: 293/ 600 | Trn loss:  0.244848 - Acc: 91.1227 | Val loss:  0.496957 - Acc: 87.7778 | last_lr: 6.25000e-05  bad_ep: 11  cdwn: 0                             \n",
      " 21:41:23 | Ep: 294/ 600 | Trn loss:  0.244517 - Acc: 91.1317 | Val loss:  0.498269 - Acc: 87.7824 | last_lr: 6.25000e-05  bad_ep: 12  cdwn: 0                             \n",
      " 21:41:48 | Ep: 295/ 600 | Trn loss:  0.244189 - Acc: 91.1360 | Val loss:  0.499198 - Acc: 87.7778 | last_lr: 6.25000e-05  bad_ep: 13  cdwn: 0                             \n",
      " 21:42:12 | Ep: 296/ 600 | Trn loss:  0.243865 - Acc: 91.1414 | Val loss:  0.500543 - Acc: 87.7824 | last_lr: 6.25000e-05  bad_ep: 14  cdwn: 0                             \n",
      " 21:42:36 | Ep: 297/ 600 | Trn loss:  0.243545 - Acc: 91.1504 | Val loss:  0.501686 - Acc: 87.7731 | last_lr: 6.25000e-05  bad_ep: 15  cdwn: 0                             \n",
      " 21:43:01 | Ep: 298/ 600 | Trn loss:  0.243229 - Acc: 91.1634 | Val loss:  0.502648 - Acc: 87.7870 | last_lr: 6.25000e-05  bad_ep: 16  cdwn: 0                             \n",
      " 21:43:26 | Ep: 299/ 600 | Trn loss:  0.242918 - Acc: 91.1750 | Val loss:  0.504167 - Acc: 87.7778 | last_lr: 6.25000e-05  bad_ep: 17  cdwn: 0                             \n",
      "                                                                                                                                                                           "
     ]
    },
    {
     "name": "stderr",
     "output_type": "stream",
     "text": [
      "2024-09-30 21:43:51,448 - utils.utils_cellpainting - INFO: -  Model exported to NN_snnl_embd600_250Ltnt_512_20240917_2004_LAST_20240930_1930_ep_300.pt - epoch: 300\n"
     ]
    },
    {
     "name": "stdout",
     "output_type": "stream",
     "text": [
      " 21:43:51 | Ep: 300/ 600 | Trn loss:  0.242610 - Acc: 91.1851 | Val loss:  0.505182 - Acc: 87.7685 | last_lr: 6.25000e-05  bad_ep: 18  cdwn: 0 \n",
      " 21:44:15 | Ep: 301/ 600 | Trn loss:  0.242307 - Acc: 91.1970 | Val loss:  0.506149 - Acc: 87.7639 | last_lr: 6.25000e-05  bad_ep: 19  cdwn: 0                             \n",
      " 21:44:40 | Ep: 302/ 600 | Trn loss:  0.242008 - Acc: 91.2063 | Val loss:  0.507242 - Acc: 87.7731 | last_lr: 6.25000e-05  bad_ep: 20  cdwn: 0                             \n",
      " 21:45:05 | Ep: 303/ 600 | Trn loss:  0.241712 - Acc: 91.2114 | Val loss:  0.508451 - Acc: 87.7731 | last_lr: 6.25000e-05  bad_ep: 21  cdwn: 0                             \n",
      " 21:45:30 | Ep: 304/ 600 | Trn loss:  0.241421 - Acc: 91.2219 | Val loss:  0.509346 - Acc: 87.7685 | last_lr: 6.25000e-05  bad_ep: 22  cdwn: 0                             \n",
      " 21:45:54 | Ep: 305/ 600 | Trn loss:  0.241133 - Acc: 91.2312 | Val loss:  0.510453 - Acc: 87.7639 | last_lr: 6.25000e-05  bad_ep: 23  cdwn: 0                             \n",
      " 21:46:18 | Ep: 306/ 600 | Trn loss:  0.240849 - Acc: 91.2442 | Val loss:  0.511558 - Acc: 87.7685 | last_lr: 6.25000e-05  bad_ep: 24  cdwn: 0                             \n",
      " 21:46:42 | Ep: 307/ 600 | Trn loss:  0.240568 - Acc: 91.2579 | Val loss:  0.512588 - Acc: 87.7731 | last_lr: 6.25000e-05  bad_ep: 25  cdwn: 0                             \n",
      " 21:47:06 | Ep: 308/ 600 | Trn loss:  0.240291 - Acc: 91.2691 | Val loss:  0.513438 - Acc: 87.7639 | last_lr: 6.25000e-05  bad_ep: 26  cdwn: 0                             \n",
      " 21:47:30 | Ep: 309/ 600 | Trn loss:  0.240017 - Acc: 91.2814 | Val loss:  0.514424 - Acc: 87.7639 | last_lr: 6.25000e-05  bad_ep: 27  cdwn: 0                             \n",
      " 21:47:53 | Ep: 310/ 600 | Trn loss:  0.239746 - Acc: 91.2947 | Val loss:  0.515547 - Acc: 87.7593 | last_lr: 6.25000e-05  bad_ep: 28  cdwn: 0                             \n",
      " 21:48:17 | Ep: 311/ 600 | Trn loss:  0.239479 - Acc: 91.3027 | Val loss:  0.516376 - Acc: 87.7593 | last_lr: 6.25000e-05  bad_ep: 29  cdwn: 0                             \n",
      " 21:48:41 | Ep: 312/ 600 | Trn loss:  0.239214 - Acc: 91.3139 | Val loss:  0.517492 - Acc: 87.7593 | last_lr: 6.25000e-05  bad_ep: 30  cdwn: 0                             \n",
      " 21:49:05 | Ep: 313/ 600 | Trn loss:  0.238952 - Acc: 91.3240 | Val loss:  0.518180 - Acc: 87.7593 | last_lr: 6.25000e-05  bad_ep: 31  cdwn: 0                             \n",
      " 21:49:29 | Ep: 314/ 600 | Trn loss:  0.238693 - Acc: 91.3326 | Val loss:  0.519110 - Acc: 87.7593 | last_lr: 6.25000e-05  bad_ep: 32  cdwn: 0                             \n",
      " 21:49:53 | Ep: 315/ 600 | Trn loss:  0.238437 - Acc: 91.3442 | Val loss:  0.520232 - Acc: 87.7546 | last_lr: 6.25000e-05  bad_ep: 33  cdwn: 0                             \n",
      " 21:50:16 | Ep: 316/ 600 | Trn loss:  0.238182 - Acc: 91.3499 | Val loss:  0.520917 - Acc: 87.7546 | last_lr: 6.25000e-05  bad_ep: 34  cdwn: 0                             \n",
      " 21:50:40 | Ep: 317/ 600 | Trn loss:  0.237930 - Acc: 91.3600 | Val loss:  0.522032 - Acc: 87.7546 | last_lr: 6.25000e-05  bad_ep: 35  cdwn: 0                             \n",
      " 21:51:04 | Ep: 318/ 600 | Trn loss:  0.237680 - Acc: 91.3662 | Val loss:  0.522727 - Acc: 87.7546 | last_lr: 6.25000e-05  bad_ep: 36  cdwn: 0                             \n",
      " 21:51:28 | Ep: 319/ 600 | Trn loss:  0.237432 - Acc: 91.3734 | Val loss:  0.523738 - Acc: 87.7500 | last_lr: 6.25000e-05  bad_ep: 37  cdwn: 0                             \n",
      " 21:51:53 | Ep: 320/ 600 | Trn loss:  0.237186 - Acc: 91.3835 | Val loss:  0.524509 - Acc: 87.7546 | last_lr: 6.25000e-05  bad_ep: 38  cdwn: 0                             \n",
      " 21:52:17 | Ep: 321/ 600 | Trn loss:  0.236942 - Acc: 91.3932 | Val loss:  0.525390 - Acc: 87.7500 | last_lr: 6.25000e-05  bad_ep: 39  cdwn: 0                             \n",
      " 21:52:41 | Ep: 322/ 600 | Trn loss:  0.236699 - Acc: 91.4004 | Val loss:  0.526576 - Acc: 87.7500 | last_lr: 6.25000e-05  bad_ep: 40  cdwn: 0                                                                \n",
      " 21:53:06 | Ep: 323/ 600 | Trn loss:  0.236459 - Acc: 91.4134 | Val loss:  0.527319 - Acc: 87.7407 | last_lr: 6.25000e-05  bad_ep: 41  cdwn: 0                                                                \n",
      " 21:53:30 | Ep: 324/ 600 | Trn loss:  0.236219 - Acc: 91.4217 | Val loss:  0.528374 - Acc: 87.7407 | last_lr: 6.25000e-05  bad_ep: 42  cdwn: 0                                                                \n",
      " 21:53:54 | Ep: 325/ 600 | Trn loss:  0.235982 - Acc: 91.4322 | Val loss:  0.529438 - Acc: 87.7315 | last_lr: 6.25000e-05  bad_ep: 43  cdwn: 0                                                                \n",
      " 21:54:18 | Ep: 326/ 600 | Trn loss:  0.235745 - Acc: 91.4380 | Val loss:  0.530461 - Acc: 87.7269 | last_lr: 6.25000e-05  bad_ep: 44  cdwn: 0                                                                \n",
      " 21:54:42 | Ep: 327/ 600 | Trn loss:  0.235510 - Acc: 91.4491 | Val loss:  0.531185 - Acc: 87.7269 | last_lr: 6.25000e-05  bad_ep: 45  cdwn: 0                                                                \n",
      " 21:55:06 | Ep: 328/ 600 | Trn loss:  0.235276 - Acc: 91.4589 | Val loss:  0.532123 - Acc: 87.7269 | last_lr: 6.25000e-05  bad_ep: 46  cdwn: 0                                                                \n",
      " 21:55:30 | Ep: 329/ 600 | Trn loss:  0.235043 - Acc: 91.4625 | Val loss:  0.533026 - Acc: 87.7222 | last_lr: 6.25000e-05  bad_ep: 47  cdwn: 0                                                                \n",
      " 21:55:54 | Ep: 330/ 600 | Trn loss:  0.234812 - Acc: 91.4715 | Val loss:  0.533981 - Acc: 87.7176 | last_lr: 6.25000e-05  bad_ep: 48  cdwn: 0                                                                \n",
      " 21:56:17 | Ep: 331/ 600 | Trn loss:  0.234581 - Acc: 91.4838 | Val loss:  0.535162 - Acc: 87.7222 | last_lr: 6.25000e-05  bad_ep: 49  cdwn: 0                                                                \n",
      " 21:56:42 | Ep: 332/ 600 | Trn loss:  0.234352 - Acc: 91.4953 | Val loss:  0.535851 - Acc: 87.7269 | last_lr: 6.25000e-05  bad_ep: 50  cdwn: 0                                                                \n",
      " 21:57:06 | Ep: 333/ 600 | Trn loss:  0.234123 - Acc: 91.5018 | Val loss:  0.536660 - Acc: 87.7269 | last_lr: 3.12500e-05  bad_ep: 0  cdwn: 10                                                                \n",
      " 21:57:30 | Ep: 334/ 600 | Trn loss:  0.240550 - Acc: 91.2695 | Val loss:  0.559623 - Acc: 87.7685 | last_lr: 3.12500e-05  bad_ep: 0  cdwn: 9                                                                 \n",
      " 21:57:54 | Ep: 335/ 600 | Trn loss:  0.241249 - Acc: 91.2435 | Val loss:  0.493719 - Acc: 87.7176 | last_lr: 3.12500e-05  bad_ep: 0  cdwn: 8                                                                 \n",
      " 21:58:18 | Ep: 336/ 600 | Trn loss:  0.241223 - Acc: 91.2532 | Val loss:  0.439848 - Acc: 87.6296 | last_lr: 3.12500e-05  bad_ep: 0  cdwn: 7                                                                 \n",
      " 21:58:41 | Ep: 337/ 600 | Trn loss:  0.240927 - Acc: 91.2536 | Val loss:  0.426340 - Acc: 87.5602 | last_lr: 3.12500e-05  bad_ep: 0  cdwn: 6                                                                 \n",
      " 21:59:05 | Ep: 338/ 600 | Trn loss:  0.240450 - Acc: 91.2760 | Val loss:  0.432490 - Acc: 87.4907 | last_lr: 3.12500e-05  bad_ep: 0  cdwn: 5                                                                 \n",
      " 21:59:29 | Ep: 339/ 600 | Trn loss:  0.239910 - Acc: 91.2955 | Val loss:  0.437690 - Acc: 87.4583 | last_lr: 3.12500e-05  bad_ep: 0  cdwn: 4                                                                 \n",
      " 21:59:53 | Ep: 340/ 600 | Trn loss:  0.239386 - Acc: 91.2976 | Val loss:  0.439105 - Acc: 87.4444 | last_lr: 3.12500e-05  bad_ep: 0  cdwn: 3                                                                 \n",
      " 22:00:17 | Ep: 341/ 600 | Trn loss:  0.238907 - Acc: 91.3092 | Val loss:  0.438076 - Acc: 87.4537 | last_lr: 3.12500e-05  bad_ep: 0  cdwn: 2                                                                 \n",
      " 22:00:41 | Ep: 342/ 600 | Trn loss:  0.238474 - Acc: 91.3211 | Val loss:  0.436289 - Acc: 87.4630 | last_lr: 3.12500e-05  bad_ep: 0  cdwn: 1                                                                 \n",
      " 22:01:05 | Ep: 343/ 600 | Trn loss:  0.238083 - Acc: 91.3330 | Val loss:  0.434520 - Acc: 87.4815 | last_lr: 3.12500e-05  bad_ep: 0  cdwn: 0                                                                 \n",
      " 22:01:29 | Ep: 344/ 600 | Trn loss:  0.237725 - Acc: 91.3344 | Val loss:  0.432784 - Acc: 87.4815 | last_lr: 3.12500e-05  bad_ep: 1  cdwn: 0                                                                 \n",
      " 22:01:53 | Ep: 345/ 600 | Trn loss:  0.237394 - Acc: 91.3398 | Val loss:  0.431441 - Acc: 87.4954 | last_lr: 3.12500e-05  bad_ep: 2  cdwn: 0                                                                 \n",
      " 22:02:18 | Ep: 346/ 600 | Trn loss:  0.237085 - Acc: 91.3496 | Val loss:  0.430259 - Acc: 87.5278 | last_lr: 3.12500e-05  bad_ep: 3  cdwn: 0                                                                 \n",
      " 22:02:42 | Ep: 347/ 600 | Trn loss:  0.236794 - Acc: 91.3618 | Val loss:  0.429279 - Acc: 87.5324 | last_lr: 3.12500e-05  bad_ep: 4  cdwn: 0                                                                 \n",
      " 22:03:06 | Ep: 348/ 600 | Trn loss:  0.236519 - Acc: 91.3680 | Val loss:  0.428499 - Acc: 87.5278 | last_lr: 3.12500e-05  bad_ep: 5  cdwn: 0                                                                 \n",
      " 22:03:30 | Ep: 349/ 600 | Trn loss:  0.236256 - Acc: 91.3773 | Val loss:  0.427910 - Acc: 87.5509 | last_lr: 3.12500e-05  bad_ep: 6  cdwn: 0                                                                 \n",
      " 22:03:55 | Ep: 350/ 600 | Trn loss:  0.236005 - Acc: 91.3853 | Val loss:  0.427413 - Acc: 87.5602 | last_lr: 3.12500e-05  bad_ep: 7  cdwn: 0                                                                 \n",
      " 22:04:19 | Ep: 351/ 600 | Trn loss:  0.235764 - Acc: 91.3914 | Val loss:  0.427066 - Acc: 87.5648 | last_lr: 3.12500e-05  bad_ep: 8  cdwn: 0                                                                 \n",
      " 22:04:43 | Ep: 352/ 600 | Trn loss:  0.235531 - Acc: 91.3986 | Val loss:  0.426825 - Acc: 87.5648 | last_lr: 3.12500e-05  bad_ep: 9  cdwn: 0                                                                 \n",
      " 22:05:08 | Ep: 353/ 600 | Trn loss:  0.235306 - Acc: 91.4055 | Val loss:  0.426684 - Acc: 87.5648 | last_lr: 3.12500e-05  bad_ep: 10  cdwn: 0                                                                \n",
      " 22:05:32 | Ep: 354/ 600 | Trn loss:  0.235087 - Acc: 91.4134 | Val loss:  0.426609 - Acc: 87.5648 | last_lr: 3.12500e-05  bad_ep: 11  cdwn: 0                                                                \n",
      " 22:05:56 | Ep: 355/ 600 | Trn loss:  0.234875 - Acc: 91.4203 | Val loss:  0.426621 - Acc: 87.5694 | last_lr: 3.12500e-05  bad_ep: 12  cdwn: 0                                                                \n",
      " 22:06:21 | Ep: 356/ 600 | Trn loss:  0.234669 - Acc: 91.4297 | Val loss:  0.426691 - Acc: 87.5741 | last_lr: 3.12500e-05  bad_ep: 13  cdwn: 0                                                                \n",
      " 22:06:45 | Ep: 357/ 600 | Trn loss:  0.234467 - Acc: 91.4380 | Val loss:  0.426814 - Acc: 87.5694 | last_lr: 3.12500e-05  bad_ep: 14  cdwn: 0                                                                \n",
      " 22:07:10 | Ep: 358/ 600 | Trn loss:  0.234270 - Acc: 91.4462 | Val loss:  0.426982 - Acc: 87.5741 | last_lr: 3.12500e-05  bad_ep: 15  cdwn: 0                                                                \n",
      " 22:07:35 | Ep: 359/ 600 | Trn loss:  0.234078 - Acc: 91.4553 | Val loss:  0.427186 - Acc: 87.5741 | last_lr: 3.12500e-05  bad_ep: 16  cdwn: 0                                                                \n",
      " 22:08:00 | Ep: 360/ 600 | Trn loss:  0.233890 - Acc: 91.4636 | Val loss:  0.427426 - Acc: 87.5694 | last_lr: 3.12500e-05  bad_ep: 17  cdwn: 0                                                                \n",
      " 22:08:24 | Ep: 361/ 600 | Trn loss:  0.233705 - Acc: 91.4690 | Val loss:  0.427702 - Acc: 87.5787 | last_lr: 3.12500e-05  bad_ep: 18  cdwn: 0                                                                \n",
      " 22:08:49 | Ep: 362/ 600 | Trn loss:  0.233524 - Acc: 91.4787 | Val loss:  0.427967 - Acc: 87.5833 | last_lr: 3.12500e-05  bad_ep: 19  cdwn: 0                                                                \n",
      " 22:09:13 | Ep: 363/ 600 | Trn loss:  0.233346 - Acc: 91.4874 | Val loss:  0.428276 - Acc: 87.5833 | last_lr: 3.12500e-05  bad_ep: 20  cdwn: 0                                                                \n",
      " 22:09:37 | Ep: 364/ 600 | Trn loss:  0.233171 - Acc: 91.4924 | Val loss:  0.428592 - Acc: 87.5741 | last_lr: 3.12500e-05  bad_ep: 21  cdwn: 0                                                                \n",
      " 22:10:02 | Ep: 365/ 600 | Trn loss:  0.232999 - Acc: 91.4986 | Val loss:  0.428903 - Acc: 87.5741 | last_lr: 3.12500e-05  bad_ep: 22  cdwn: 0                                                                \n",
      " 22:10:26 | Ep: 366/ 600 | Trn loss:  0.232829 - Acc: 91.5061 | Val loss:  0.429206 - Acc: 87.5741 | last_lr: 3.12500e-05  bad_ep: 23  cdwn: 0                                                                \n",
      " 22:10:50 | Ep: 367/ 600 | Trn loss:  0.232662 - Acc: 91.5105 | Val loss:  0.429515 - Acc: 87.5787 | last_lr: 3.12500e-05  bad_ep: 24  cdwn: 0                                                                \n",
      " 22:11:15 | Ep: 368/ 600 | Trn loss:  0.232498 - Acc: 91.5144 | Val loss:  0.429858 - Acc: 87.5741 | last_lr: 3.12500e-05  bad_ep: 25  cdwn: 0                                                                \n",
      " 22:11:39 | Ep: 369/ 600 | Trn loss:  0.232335 - Acc: 91.5180 | Val loss:  0.430191 - Acc: 87.5741 | last_lr: 3.12500e-05  bad_ep: 26  cdwn: 0                                                                \n",
      " 22:12:03 | Ep: 370/ 600 | Trn loss:  0.232175 - Acc: 91.5263 | Val loss:  0.430464 - Acc: 87.5741 | last_lr: 3.12500e-05  bad_ep: 27  cdwn: 0                                                                \n",
      " 22:12:28 | Ep: 371/ 600 | Trn loss:  0.232017 - Acc: 91.5299 | Val loss:  0.430777 - Acc: 87.5787 | last_lr: 3.12500e-05  bad_ep: 28  cdwn: 0                                                                \n",
      " 22:12:52 | Ep: 372/ 600 | Trn loss:  0.231860 - Acc: 91.5350 | Val loss:  0.431058 - Acc: 87.5694 | last_lr: 3.12500e-05  bad_ep: 29  cdwn: 0                                                                \n",
      " 22:13:16 | Ep: 373/ 600 | Trn loss:  0.231705 - Acc: 91.5415 | Val loss:  0.431327 - Acc: 87.5648 | last_lr: 3.12500e-05  bad_ep: 30  cdwn: 0                                                                \n",
      " 22:13:41 | Ep: 374/ 600 | Trn loss:  0.231552 - Acc: 91.5480 | Val loss:  0.431621 - Acc: 87.5509 | last_lr: 3.12500e-05  bad_ep: 31  cdwn: 0                                                                \n",
      " 22:14:06 | Ep: 375/ 600 | Trn loss:  0.231400 - Acc: 91.5541 | Val loss:  0.431896 - Acc: 87.5556 | last_lr: 3.12500e-05  bad_ep: 32  cdwn: 0                                                                \n",
      " 22:14:32 | Ep: 376/ 600 | Trn loss:  0.231250 - Acc: 91.5599 | Val loss:  0.432135 - Acc: 87.5556 | last_lr: 3.12500e-05  bad_ep: 33  cdwn: 0                                                                \n",
      " 22:14:57 | Ep: 377/ 600 | Trn loss:  0.231101 - Acc: 91.5649 | Val loss:  0.432396 - Acc: 87.5556 | last_lr: 3.12500e-05  bad_ep: 34  cdwn: 0                                                                \n",
      " 22:15:22 | Ep: 378/ 600 | Trn loss:  0.230954 - Acc: 91.5685 | Val loss:  0.432617 - Acc: 87.5556 | last_lr: 3.12500e-05  bad_ep: 35  cdwn: 0                                                                \n",
      " 22:15:47 | Ep: 379/ 600 | Trn loss:  0.230807 - Acc: 91.5736 | Val loss:  0.432857 - Acc: 87.5556 | last_lr: 3.12500e-05  bad_ep: 36  cdwn: 0                                                                \n",
      " 22:16:13 | Ep: 380/ 600 | Trn loss:  0.230662 - Acc: 91.5772 | Val loss:  0.433069 - Acc: 87.5648 | last_lr: 3.12500e-05  bad_ep: 37  cdwn: 0                                                                \n",
      " 22:16:37 | Ep: 381/ 600 | Trn loss:  0.230518 - Acc: 91.5859 | Val loss:  0.433263 - Acc: 87.5648 | last_lr: 3.12500e-05  bad_ep: 38  cdwn: 0                                                                \n",
      " 22:17:03 | Ep: 382/ 600 | Trn loss:  0.230375 - Acc: 91.5902 | Val loss:  0.433419 - Acc: 87.5648 | last_lr: 3.12500e-05  bad_ep: 39  cdwn: 0                                                                \n",
      " 22:17:29 | Ep: 383/ 600 | Trn loss:  0.230233 - Acc: 91.5988 | Val loss:  0.433649 - Acc: 87.5556 | last_lr: 3.12500e-05  bad_ep: 40  cdwn: 0                                                                \n",
      " 22:17:54 | Ep: 384/ 600 | Trn loss:  0.230092 - Acc: 91.6079 | Val loss:  0.433804 - Acc: 87.5509 | last_lr: 3.12500e-05  bad_ep: 41  cdwn: 0                                                                \n",
      " 22:18:19 | Ep: 385/ 600 | Trn loss:  0.229951 - Acc: 91.6154 | Val loss:  0.433973 - Acc: 87.5370 | last_lr: 3.12500e-05  bad_ep: 42  cdwn: 0                                                                \n",
      " 22:18:45 | Ep: 386/ 600 | Trn loss:  0.229812 - Acc: 91.6194 | Val loss:  0.434136 - Acc: 87.5324 | last_lr: 3.12500e-05  bad_ep: 43  cdwn: 0                                                                \n",
      " 22:19:10 | Ep: 387/ 600 | Trn loss:  0.229673 - Acc: 91.6263 | Val loss:  0.434268 - Acc: 87.5278 | last_lr: 3.12500e-05  bad_ep: 44  cdwn: 0                                                                \n",
      " 22:19:35 | Ep: 388/ 600 | Trn loss:  0.229535 - Acc: 91.6331 | Val loss:  0.434440 - Acc: 87.5278 | last_lr: 3.12500e-05  bad_ep: 45  cdwn: 0                                                                \n",
      " 22:20:00 | Ep: 389/ 600 | Trn loss:  0.229398 - Acc: 91.6403 | Val loss:  0.434573 - Acc: 87.5231 | last_lr: 3.12500e-05  bad_ep: 46  cdwn: 0                                                                \n",
      " 22:20:26 | Ep: 390/ 600 | Trn loss:  0.229261 - Acc: 91.6432 | Val loss:  0.434743 - Acc: 87.5231 | last_lr: 3.12500e-05  bad_ep: 47  cdwn: 0                                                                \n",
      " 22:20:51 | Ep: 391/ 600 | Trn loss:  0.229125 - Acc: 91.6494 | Val loss:  0.434877 - Acc: 87.5278 | last_lr: 3.12500e-05  bad_ep: 48  cdwn: 0                                                                \n",
      " 22:21:16 | Ep: 392/ 600 | Trn loss:  0.228990 - Acc: 91.6548 | Val loss:  0.434998 - Acc: 87.5231 | last_lr: 3.12500e-05  bad_ep: 49  cdwn: 0                                                                \n",
      " 22:21:41 | Ep: 393/ 600 | Trn loss:  0.228855 - Acc: 91.6591 | Val loss:  0.435108 - Acc: 87.5185 | last_lr: 3.12500e-05  bad_ep: 50  cdwn: 0                                                                \n",
      " 22:22:07 | Ep: 394/ 600 | Trn loss:  0.228721 - Acc: 91.6627 | Val loss:  0.435218 - Acc: 87.5185 | last_lr: 1.56250e-05  bad_ep: 0  cdwn: 10                                                                \n",
      " 22:22:32 | Ep: 395/ 600 | Trn loss:  0.230781 - Acc: 91.5895 | Val loss:  0.455509 - Acc: 87.0602 | last_lr: 1.56250e-05  bad_ep: 0  cdwn: 9                                                                 \n",
      " 22:22:57 | Ep: 396/ 600 | Trn loss:  0.230774 - Acc: 91.5927 | Val loss:  0.442850 - Acc: 87.1713 | last_lr: 1.56250e-05  bad_ep: 0  cdwn: 8                                                                 \n",
      " 22:23:23 | Ep: 397/ 600 | Trn loss:  0.230561 - Acc: 91.6014 | Val loss:  0.437250 - Acc: 87.2222 | last_lr: 1.56250e-05  bad_ep: 0  cdwn: 7                                                                 \n",
      " 22:23:48 | Ep: 398/ 600 | Trn loss:  0.230384 - Acc: 91.6122 | Val loss:  0.434578 - Acc: 87.2593 | last_lr: 1.56250e-05  bad_ep: 0  cdwn: 6                                                                 \n",
      " 22:24:13 | Ep: 399/ 600 | Trn loss:  0.230221 - Acc: 91.6198 | Val loss:  0.433492 - Acc: 87.2639 | last_lr: 1.56250e-05  bad_ep: 0  cdwn: 5                                                                 \n",
      "                                                                                                                                                                                                              "
     ]
    },
    {
     "name": "stderr",
     "output_type": "stream",
     "text": [
      "2024-09-30 22:24:38,943 - utils.utils_cellpainting - INFO: -  Model exported to NN_snnl_embd600_250Ltnt_512_20240917_2004_LAST_20240930_1930_ep_400.pt - epoch: 400\n"
     ]
    },
    {
     "name": "stdout",
     "output_type": "stream",
     "text": [
      " 22:24:38 | Ep: 400/ 600 | Trn loss:  0.230068 - Acc: 91.6219 | Val loss:  0.433319 - Acc: 87.2824 | last_lr: 1.56250e-05  bad_ep: 0  cdwn: 4 \n",
      " 22:25:04 | Ep: 401/ 600 | Trn loss:  0.229921 - Acc: 91.6335 | Val loss:  0.433649 - Acc: 87.3009 | last_lr: 1.56250e-05  bad_ep: 0  cdwn: 3                                                                 \n",
      " 22:25:29 | Ep: 402/ 600 | Trn loss:  0.229780 - Acc: 91.6411 | Val loss:  0.434264 - Acc: 87.3380 | last_lr: 1.56250e-05  bad_ep: 0  cdwn: 2                                                                 \n",
      " 22:25:54 | Ep: 403/ 600 | Trn loss:  0.229644 - Acc: 91.6432 | Val loss:  0.435028 - Acc: 87.3472 | last_lr: 1.56250e-05  bad_ep: 0  cdwn: 1                                                                 \n",
      " 22:26:18 | Ep: 404/ 600 | Trn loss:  0.229513 - Acc: 91.6461 | Val loss:  0.435852 - Acc: 87.3611 | last_lr: 1.56250e-05  bad_ep: 0  cdwn: 0                                                                 \n",
      " 22:26:43 | Ep: 405/ 600 | Trn loss:  0.229386 - Acc: 91.6497 | Val loss:  0.436680 - Acc: 87.3565 | last_lr: 1.56250e-05  bad_ep: 1  cdwn: 0                                                                 \n",
      " 22:27:07 | Ep: 406/ 600 | Trn loss:  0.229263 - Acc: 91.6504 | Val loss:  0.437484 - Acc: 87.3611 | last_lr: 1.56250e-05  bad_ep: 2  cdwn: 0                                                                 \n",
      " 22:27:32 | Ep: 407/ 600 | Trn loss:  0.229144 - Acc: 91.6548 | Val loss:  0.438271 - Acc: 87.3704 | last_lr: 1.56250e-05  bad_ep: 3  cdwn: 0                                                                 \n",
      " 22:27:56 | Ep: 408/ 600 | Trn loss:  0.229028 - Acc: 91.6580 | Val loss:  0.439002 - Acc: 87.3657 | last_lr: 1.56250e-05  bad_ep: 4  cdwn: 0                                                                 \n",
      " 22:28:21 | Ep: 409/ 600 | Trn loss:  0.228915 - Acc: 91.6659 | Val loss:  0.439723 - Acc: 87.3657 | last_lr: 1.56250e-05  bad_ep: 5  cdwn: 0                                                                 \n",
      " 22:28:46 | Ep: 410/ 600 | Trn loss:  0.228805 - Acc: 91.6710 | Val loss:  0.440337 - Acc: 87.3565 | last_lr: 1.56250e-05  bad_ep: 6  cdwn: 0                                                                 \n",
      " 22:29:10 | Ep: 411/ 600 | Trn loss:  0.228697 - Acc: 91.6724 | Val loss:  0.440930 - Acc: 87.3657 | last_lr: 1.56250e-05  bad_ep: 7  cdwn: 0                                                                 \n",
      " 22:29:35 | Ep: 412/ 600 | Trn loss:  0.228592 - Acc: 91.6786 | Val loss:  0.441511 - Acc: 87.3657 | last_lr: 1.56250e-05  bad_ep: 8  cdwn: 0                                                                 \n",
      " 22:30:00 | Ep: 413/ 600 | Trn loss:  0.228489 - Acc: 91.6825 | Val loss:  0.442047 - Acc: 87.3611 | last_lr: 1.56250e-05  bad_ep: 9  cdwn: 0                                                                 \n",
      " 22:30:25 | Ep: 414/ 600 | Trn loss:  0.228388 - Acc: 91.6861 | Val loss:  0.442521 - Acc: 87.3657 | last_lr: 1.56250e-05  bad_ep: 10  cdwn: 0                                                                \n",
      " 22:30:50 | Ep: 415/ 600 | Trn loss:  0.228288 - Acc: 91.6887 | Val loss:  0.443039 - Acc: 87.3657 | last_lr: 1.56250e-05  bad_ep: 11  cdwn: 0                                                                \n",
      " 22:31:15 | Ep: 416/ 600 | Trn loss:  0.228191 - Acc: 91.6919 | Val loss:  0.443444 - Acc: 87.3657 | last_lr: 1.56250e-05  bad_ep: 12  cdwn: 0                                                                \n",
      " 22:31:39 | Ep: 417/ 600 | Trn loss:  0.228095 - Acc: 91.6941 | Val loss:  0.443872 - Acc: 87.3657 | last_lr: 1.56250e-05  bad_ep: 13  cdwn: 0                                                                \n",
      " 22:32:04 | Ep: 418/ 600 | Trn loss:  0.228000 - Acc: 91.6955 | Val loss:  0.444258 - Acc: 87.3657 | last_lr: 1.56250e-05  bad_ep: 14  cdwn: 0                                                                \n",
      " 22:32:29 | Ep: 419/ 600 | Trn loss:  0.227907 - Acc: 91.6959 | Val loss:  0.444634 - Acc: 87.3704 | last_lr: 1.56250e-05  bad_ep: 15  cdwn: 0                                                                \n",
      " 22:32:53 | Ep: 420/ 600 | Trn loss:  0.227815 - Acc: 91.6991 | Val loss:  0.444985 - Acc: 87.3704 | last_lr: 1.56250e-05  bad_ep: 16  cdwn: 0                                                                \n",
      " 22:33:17 | Ep: 421/ 600 | Trn loss:  0.227725 - Acc: 91.7009 | Val loss:  0.445330 - Acc: 87.3704 | last_lr: 1.56250e-05  bad_ep: 17  cdwn: 0                                                                \n",
      " 22:33:42 | Ep: 422/ 600 | Trn loss:  0.227635 - Acc: 91.7038 | Val loss:  0.445667 - Acc: 87.3704 | last_lr: 1.56250e-05  bad_ep: 18  cdwn: 0                                                                \n",
      " 22:34:06 | Ep: 423/ 600 | Trn loss:  0.227547 - Acc: 91.7074 | Val loss:  0.445969 - Acc: 87.3704 | last_lr: 1.56250e-05  bad_ep: 19  cdwn: 0                                                                \n",
      " 22:34:31 | Ep: 424/ 600 | Trn loss:  0.227460 - Acc: 91.7121 | Val loss:  0.446308 - Acc: 87.3657 | last_lr: 1.56250e-05  bad_ep: 20  cdwn: 0                                                                \n",
      " 22:34:56 | Ep: 425/ 600 | Trn loss:  0.227373 - Acc: 91.7154 | Val loss:  0.446615 - Acc: 87.3657 | last_lr: 1.56250e-05  bad_ep: 21  cdwn: 0                                                                \n",
      " 22:35:21 | Ep: 426/ 600 | Trn loss:  0.227287 - Acc: 91.7183 | Val loss:  0.446907 - Acc: 87.3704 | last_lr: 1.56250e-05  bad_ep: 22  cdwn: 0                                                                \n",
      " 22:35:45 | Ep: 427/ 600 | Trn loss:  0.227203 - Acc: 91.7222 | Val loss:  0.447215 - Acc: 87.3565 | last_lr: 1.56250e-05  bad_ep: 23  cdwn: 0                                                                \n",
      " 22:36:10 | Ep: 428/ 600 | Trn loss:  0.227119 - Acc: 91.7266 | Val loss:  0.447470 - Acc: 87.3611 | last_lr: 1.56250e-05  bad_ep: 24  cdwn: 0                                                                \n",
      " 22:36:35 | Ep: 429/ 600 | Trn loss:  0.227035 - Acc: 91.7309 | Val loss:  0.447731 - Acc: 87.3657 | last_lr: 1.56250e-05  bad_ep: 25  cdwn: 0                                                                \n",
      " 22:36:59 | Ep: 430/ 600 | Trn loss:  0.226953 - Acc: 91.7312 | Val loss:  0.448003 - Acc: 87.3657 | last_lr: 1.56250e-05  bad_ep: 26  cdwn: 0                                                                \n",
      " 22:37:23 | Ep: 431/ 600 | Trn loss:  0.226871 - Acc: 91.7338 | Val loss:  0.448313 - Acc: 87.3750 | last_lr: 1.56250e-05  bad_ep: 27  cdwn: 0                                                                \n",
      " 22:37:47 | Ep: 432/ 600 | Trn loss:  0.226790 - Acc: 91.7377 | Val loss:  0.448569 - Acc: 87.3750 | last_lr: 1.56250e-05  bad_ep: 28  cdwn: 0                                                                \n",
      " 22:38:11 | Ep: 433/ 600 | Trn loss:  0.226709 - Acc: 91.7388 | Val loss:  0.448827 - Acc: 87.3796 | last_lr: 1.56250e-05  bad_ep: 29  cdwn: 0                                                                \n",
      " 22:38:35 | Ep: 434/ 600 | Trn loss:  0.226629 - Acc: 91.7406 | Val loss:  0.449062 - Acc: 87.3704 | last_lr: 1.56250e-05  bad_ep: 30  cdwn: 0                                                                \n",
      " 22:38:59 | Ep: 435/ 600 | Trn loss:  0.226550 - Acc: 91.7439 | Val loss:  0.449337 - Acc: 87.3657 | last_lr: 1.56250e-05  bad_ep: 31  cdwn: 0                                                                \n",
      " 22:39:24 | Ep: 436/ 600 | Trn loss:  0.226471 - Acc: 91.7460 | Val loss:  0.449590 - Acc: 87.3657 | last_lr: 1.56250e-05  bad_ep: 32  cdwn: 0                                                                \n",
      " 22:39:48 | Ep: 437/ 600 | Trn loss:  0.226392 - Acc: 91.7475 | Val loss:  0.449826 - Acc: 87.3657 | last_lr: 1.56250e-05  bad_ep: 33  cdwn: 0                                                                \n",
      " 22:40:12 | Ep: 438/ 600 | Trn loss:  0.226314 - Acc: 91.7489 | Val loss:  0.450041 - Acc: 87.3565 | last_lr: 1.56250e-05  bad_ep: 34  cdwn: 0                                                                \n",
      " 22:40:36 | Ep: 439/ 600 | Trn loss:  0.226237 - Acc: 91.7525 | Val loss:  0.450335 - Acc: 87.3519 | last_lr: 1.56250e-05  bad_ep: 35  cdwn: 0                                                                \n",
      " 22:41:01 | Ep: 440/ 600 | Trn loss:  0.226160 - Acc: 91.7561 | Val loss:  0.450541 - Acc: 87.3565 | last_lr: 1.56250e-05  bad_ep: 36  cdwn: 0                                                                \n",
      " 22:41:25 | Ep: 441/ 600 | Trn loss:  0.226083 - Acc: 91.7587 | Val loss:  0.450765 - Acc: 87.3519 | last_lr: 1.56250e-05  bad_ep: 37  cdwn: 0                                                                \n",
      " 22:41:49 | Ep: 442/ 600 | Trn loss:  0.226006 - Acc: 91.7605 | Val loss:  0.451056 - Acc: 87.3519 | last_lr: 1.56250e-05  bad_ep: 38  cdwn: 0                                                                \n",
      " 22:42:13 | Ep: 443/ 600 | Trn loss:  0.225930 - Acc: 91.7608 | Val loss:  0.451308 - Acc: 87.3565 | last_lr: 1.56250e-05  bad_ep: 39  cdwn: 0                                                                \n",
      " 22:42:37 | Ep: 444/ 600 | Trn loss:  0.225855 - Acc: 91.7655 | Val loss:  0.451521 - Acc: 87.3519 | last_lr: 1.56250e-05  bad_ep: 40  cdwn: 0                                                                \n",
      " 22:43:01 | Ep: 445/ 600 | Trn loss:  0.225780 - Acc: 91.7695 | Val loss:  0.451772 - Acc: 87.3472 | last_lr: 1.56250e-05  bad_ep: 41  cdwn: 0                                                                \n",
      " 22:43:25 | Ep: 446/ 600 | Trn loss:  0.225705 - Acc: 91.7724 | Val loss:  0.452024 - Acc: 87.3472 | last_lr: 1.56250e-05  bad_ep: 42  cdwn: 0                                                                \n",
      " 22:43:49 | Ep: 447/ 600 | Trn loss:  0.225630 - Acc: 91.7763 | Val loss:  0.452240 - Acc: 87.3472 | last_lr: 1.56250e-05  bad_ep: 43  cdwn: 0                                                                \n",
      " 22:44:13 | Ep: 448/ 600 | Trn loss:  0.225556 - Acc: 91.7792 | Val loss:  0.452452 - Acc: 87.3472 | last_lr: 1.56250e-05  bad_ep: 44  cdwn: 0                                                                \n",
      " 22:44:38 | Ep: 449/ 600 | Trn loss:  0.225482 - Acc: 91.7843 | Val loss:  0.452730 - Acc: 87.3472 | last_lr: 1.56250e-05  bad_ep: 45  cdwn: 0                                                                \n",
      " 22:45:02 | Ep: 450/ 600 | Trn loss:  0.225408 - Acc: 91.7850 | Val loss:  0.452975 - Acc: 87.3426 | last_lr: 1.56250e-05  bad_ep: 46  cdwn: 0                                                                \n",
      " 22:45:26 | Ep: 451/ 600 | Trn loss:  0.225334 - Acc: 91.7879 | Val loss:  0.453137 - Acc: 87.3472 | last_lr: 1.56250e-05  bad_ep: 47  cdwn: 0                                                                \n",
      " 22:45:50 | Ep: 452/ 600 | Trn loss:  0.225261 - Acc: 91.7908 | Val loss:  0.453420 - Acc: 87.3472 | last_lr: 1.56250e-05  bad_ep: 48  cdwn: 0                                                                \n",
      " 22:46:14 | Ep: 453/ 600 | Trn loss:  0.225188 - Acc: 91.7926 | Val loss:  0.453621 - Acc: 87.3472 | last_lr: 1.56250e-05  bad_ep: 49  cdwn: 0                                                                \n",
      " 22:46:38 | Ep: 454/ 600 | Trn loss:  0.225115 - Acc: 91.7951 | Val loss:  0.453884 - Acc: 87.3426 | last_lr: 1.56250e-05  bad_ep: 50  cdwn: 0                                                                \n",
      " 22:47:03 | Ep: 455/ 600 | Trn loss:  0.225043 - Acc: 91.7980 | Val loss:  0.454113 - Acc: 87.3426 | last_lr: 7.81250e-06  bad_ep: 0  cdwn: 10                                                                \n",
      " 22:47:27 | Ep: 456/ 600 | Trn loss:  0.225741 - Acc: 91.7698 | Val loss:  0.455300 - Acc: 87.4352 | last_lr: 7.81250e-06  bad_ep: 0  cdwn: 9                                                                 \n",
      " 22:47:51 | Ep: 457/ 600 | Trn loss:  0.225434 - Acc: 91.7756 | Val loss:  0.451902 - Acc: 87.4167 | last_lr: 7.81250e-06  bad_ep: 0  cdwn: 8                                                                 \n",
      " 22:48:15 | Ep: 458/ 600 | Trn loss:  0.225301 - Acc: 91.7796 | Val loss:  0.449725 - Acc: 87.4074 | last_lr: 7.81250e-06  bad_ep: 0  cdwn: 7                                                                 \n",
      " 22:48:39 | Ep: 459/ 600 | Trn loss:  0.225197 - Acc: 91.7810 | Val loss:  0.448127 - Acc: 87.3843 | last_lr: 7.81250e-06  bad_ep: 0  cdwn: 6                                                                 \n",
      " 22:49:03 | Ep: 460/ 600 | Trn loss:  0.225105 - Acc: 91.7850 | Val loss:  0.446935 - Acc: 87.3843 | last_lr: 7.81250e-06  bad_ep: 0  cdwn: 5                                                                 \n",
      " 22:49:28 | Ep: 461/ 600 | Trn loss:  0.225021 - Acc: 91.7915 | Val loss:  0.446033 - Acc: 87.3935 | last_lr: 7.81250e-06  bad_ep: 0  cdwn: 4                                                                 \n",
      " 22:49:53 | Ep: 462/ 600 | Trn loss:  0.224942 - Acc: 91.7958 | Val loss:  0.445351 - Acc: 87.3889 | last_lr: 7.81250e-06  bad_ep: 0  cdwn: 3                                                                 \n",
      " 22:50:18 | Ep: 463/ 600 | Trn loss:  0.224867 - Acc: 91.7955 | Val loss:  0.444822 - Acc: 87.3843 | last_lr: 7.81250e-06  bad_ep: 0  cdwn: 2                                                                 \n",
      " 22:50:42 | Ep: 464/ 600 | Trn loss:  0.224796 - Acc: 91.8001 | Val loss:  0.444384 - Acc: 87.3704 | last_lr: 7.81250e-06  bad_ep: 0  cdwn: 1                                                                 \n",
      " 22:51:07 | Ep: 465/ 600 | Trn loss:  0.224727 - Acc: 91.8048 | Val loss:  0.444069 - Acc: 87.3704 | last_lr: 7.81250e-06  bad_ep: 0  cdwn: 0                                                                 \n",
      " 22:51:33 | Ep: 466/ 600 | Trn loss:  0.224661 - Acc: 91.8066 | Val loss:  0.443796 - Acc: 87.3611 | last_lr: 7.81250e-06  bad_ep: 1  cdwn: 0                                                                 \n",
      " 22:51:58 | Ep: 467/ 600 | Trn loss:  0.224598 - Acc: 91.8066 | Val loss:  0.443576 - Acc: 87.3611 | last_lr: 7.81250e-06  bad_ep: 2  cdwn: 0                                                                 \n",
      " 22:52:23 | Ep: 468/ 600 | Trn loss:  0.224537 - Acc: 91.8092 | Val loss:  0.443408 - Acc: 87.3565 | last_lr: 7.81250e-06  bad_ep: 3  cdwn: 0                                                                 \n",
      " 22:52:49 | Ep: 469/ 600 | Trn loss:  0.224477 - Acc: 91.8128 | Val loss:  0.443267 - Acc: 87.3472 | last_lr: 7.81250e-06  bad_ep: 4  cdwn: 0                                                                 \n",
      " 22:53:14 | Ep: 470/ 600 | Trn loss:  0.224418 - Acc: 91.8160 | Val loss:  0.443159 - Acc: 87.3472 | last_lr: 7.81250e-06  bad_ep: 5  cdwn: 0                                                                 \n",
      " 22:53:39 | Ep: 471/ 600 | Trn loss:  0.224361 - Acc: 91.8175 | Val loss:  0.443059 - Acc: 87.3519 | last_lr: 7.81250e-06  bad_ep: 6  cdwn: 0                                                                 \n",
      " 22:54:04 | Ep: 472/ 600 | Trn loss:  0.224306 - Acc: 91.8189 | Val loss:  0.442988 - Acc: 87.3472 | last_lr: 7.81250e-06  bad_ep: 7  cdwn: 0                                                                 \n",
      " 22:54:30 | Ep: 473/ 600 | Trn loss:  0.224251 - Acc: 91.8200 | Val loss:  0.442927 - Acc: 87.3426 | last_lr: 7.81250e-06  bad_ep: 8  cdwn: 0                                                                 \n",
      " 22:54:55 | Ep: 474/ 600 | Trn loss:  0.224198 - Acc: 91.8207 | Val loss:  0.442891 - Acc: 87.3426 | last_lr: 7.81250e-06  bad_ep: 9  cdwn: 0                                                                 \n",
      " 22:55:20 | Ep: 475/ 600 | Trn loss:  0.224145 - Acc: 91.8211 | Val loss:  0.442844 - Acc: 87.3426 | last_lr: 7.81250e-06  bad_ep: 10  cdwn: 0                                                                \n",
      " 22:55:46 | Ep: 476/ 600 | Trn loss:  0.224094 - Acc: 91.8268 | Val loss:  0.442828 - Acc: 87.3472 | last_lr: 7.81250e-06  bad_ep: 11  cdwn: 0                                                                \n",
      " 22:56:11 | Ep: 477/ 600 | Trn loss:  0.224043 - Acc: 91.8272 | Val loss:  0.442798 - Acc: 87.3426 | last_lr: 7.81250e-06  bad_ep: 12  cdwn: 0                                                                \n",
      " 22:56:36 | Ep: 478/ 600 | Trn loss:  0.223993 - Acc: 91.8286 | Val loss:  0.442785 - Acc: 87.3333 | last_lr: 7.81250e-06  bad_ep: 13  cdwn: 0                                                                \n",
      " 22:57:01 | Ep: 479/ 600 | Trn loss:  0.223943 - Acc: 91.8312 | Val loss:  0.442773 - Acc: 87.3287 | last_lr: 7.81250e-06  bad_ep: 14  cdwn: 0                                                                \n",
      " 22:57:27 | Ep: 480/ 600 | Trn loss:  0.223894 - Acc: 91.8308 | Val loss:  0.442759 - Acc: 87.3333 | last_lr: 7.81250e-06  bad_ep: 15  cdwn: 0                                                                \n",
      " 22:57:52 | Ep: 481/ 600 | Trn loss:  0.223846 - Acc: 91.8323 | Val loss:  0.442744 - Acc: 87.3287 | last_lr: 7.81250e-06  bad_ep: 16  cdwn: 0                                                                \n",
      " 22:58:18 | Ep: 482/ 600 | Trn loss:  0.223798 - Acc: 91.8348 | Val loss:  0.442741 - Acc: 87.3287 | last_lr: 7.81250e-06  bad_ep: 17  cdwn: 0                                                                \n",
      " 22:58:43 | Ep: 483/ 600 | Trn loss:  0.223751 - Acc: 91.8380 | Val loss:  0.442742 - Acc: 87.3287 | last_lr: 7.81250e-06  bad_ep: 18  cdwn: 0                                                                \n",
      " 22:59:08 | Ep: 484/ 600 | Trn loss:  0.223704 - Acc: 91.8398 | Val loss:  0.442741 - Acc: 87.3287 | last_lr: 7.81250e-06  bad_ep: 19  cdwn: 0                                                                \n",
      " 22:59:34 | Ep: 485/ 600 | Trn loss:  0.223658 - Acc: 91.8409 | Val loss:  0.442748 - Acc: 87.3287 | last_lr: 7.81250e-06  bad_ep: 20  cdwn: 0                                                                \n",
      " 22:59:59 | Ep: 486/ 600 | Trn loss:  0.223612 - Acc: 91.8427 | Val loss:  0.442763 - Acc: 87.3333 | last_lr: 7.81250e-06  bad_ep: 21  cdwn: 0                                                                \n",
      " 23:00:24 | Ep: 487/ 600 | Trn loss:  0.223567 - Acc: 91.8460 | Val loss:  0.442763 - Acc: 87.3380 | last_lr: 7.81250e-06  bad_ep: 22  cdwn: 0                                                                \n",
      " 23:00:50 | Ep: 488/ 600 | Trn loss:  0.223522 - Acc: 91.8467 | Val loss:  0.442757 - Acc: 87.3380 | last_lr: 7.81250e-06  bad_ep: 23  cdwn: 0                                                                \n",
      " 23:01:15 | Ep: 489/ 600 | Trn loss:  0.223477 - Acc: 91.8481 | Val loss:  0.442773 - Acc: 87.3380 | last_lr: 7.81250e-06  bad_ep: 24  cdwn: 0                                                                \n",
      " 23:01:40 | Ep: 490/ 600 | Trn loss:  0.223433 - Acc: 91.8528 | Val loss:  0.442775 - Acc: 87.3333 | last_lr: 7.81250e-06  bad_ep: 25  cdwn: 0                                                                \n",
      " 23:02:06 | Ep: 491/ 600 | Trn loss:  0.223389 - Acc: 91.8561 | Val loss:  0.442789 - Acc: 87.3333 | last_lr: 7.81250e-06  bad_ep: 26  cdwn: 0                                                                \n",
      " 23:02:31 | Ep: 492/ 600 | Trn loss:  0.223345 - Acc: 91.8564 | Val loss:  0.442802 - Acc: 87.3333 | last_lr: 7.81250e-06  bad_ep: 27  cdwn: 0                                                                \n",
      " 23:02:56 | Ep: 493/ 600 | Trn loss:  0.223301 - Acc: 91.8568 | Val loss:  0.442813 - Acc: 87.3333 | last_lr: 7.81250e-06  bad_ep: 28  cdwn: 0                                                                \n",
      " 23:03:21 | Ep: 494/ 600 | Trn loss:  0.223258 - Acc: 91.8586 | Val loss:  0.442827 - Acc: 87.3333 | last_lr: 7.81250e-06  bad_ep: 29  cdwn: 0                                                                \n",
      " 23:03:47 | Ep: 495/ 600 | Trn loss:  0.223215 - Acc: 91.8608 | Val loss:  0.442830 - Acc: 87.3287 | last_lr: 7.81250e-06  bad_ep: 30  cdwn: 0                                                                \n",
      " 23:04:12 | Ep: 496/ 600 | Trn loss:  0.223172 - Acc: 91.8622 | Val loss:  0.442852 - Acc: 87.3287 | last_lr: 7.81250e-06  bad_ep: 31  cdwn: 0                                                                \n",
      " 23:04:37 | Ep: 497/ 600 | Trn loss:  0.223130 - Acc: 91.8647 | Val loss:  0.442865 - Acc: 87.3241 | last_lr: 7.81250e-06  bad_ep: 32  cdwn: 0                                                                \n",
      " 23:05:03 | Ep: 498/ 600 | Trn loss:  0.223088 - Acc: 91.8658 | Val loss:  0.442873 - Acc: 87.3241 | last_lr: 7.81250e-06  bad_ep: 33  cdwn: 0                                                                \n",
      " 23:05:27 | Ep: 499/ 600 | Trn loss:  0.223046 - Acc: 91.8665 | Val loss:  0.442889 - Acc: 87.3241 | last_lr: 7.81250e-06  bad_ep: 34  cdwn: 0                                                                \n",
      "                                                                                                                                                                                                              "
     ]
    },
    {
     "name": "stderr",
     "output_type": "stream",
     "text": [
      "2024-09-30 23:05:51,923 - utils.utils_cellpainting - INFO: -  Model exported to NN_snnl_embd600_250Ltnt_512_20240917_2004_LAST_20240930_1930_ep_500.pt - epoch: 500\n"
     ]
    },
    {
     "name": "stdout",
     "output_type": "stream",
     "text": [
      " 23:05:51 | Ep: 500/ 600 | Trn loss:  0.223004 - Acc: 91.8669 | Val loss:  0.442907 - Acc: 87.3241 | last_lr: 7.81250e-06  bad_ep: 35  cdwn: 0 \n",
      " 23:06:16 | Ep: 501/ 600 | Trn loss:  0.222962 - Acc: 91.8669 | Val loss:  0.442923 - Acc: 87.3194 | last_lr: 7.81250e-06  bad_ep: 36  cdwn: 0                                                                \n",
      " 23:06:40 | Ep: 502/ 600 | Trn loss:  0.222921 - Acc: 91.8698 | Val loss:  0.442938 - Acc: 87.3148 | last_lr: 7.81250e-06  bad_ep: 37  cdwn: 0                                                                \n",
      " 23:07:04 | Ep: 503/ 600 | Trn loss:  0.222879 - Acc: 91.8690 | Val loss:  0.442957 - Acc: 87.3102 | last_lr: 7.81250e-06  bad_ep: 38  cdwn: 0                                                                \n",
      " 23:07:29 | Ep: 504/ 600 | Trn loss:  0.222838 - Acc: 91.8694 | Val loss:  0.442975 - Acc: 87.3102 | last_lr: 7.81250e-06  bad_ep: 39  cdwn: 0                                                                \n",
      " 23:07:53 | Ep: 505/ 600 | Trn loss:  0.222797 - Acc: 91.8698 | Val loss:  0.442992 - Acc: 87.3102 | last_lr: 7.81250e-06  bad_ep: 40  cdwn: 0                                                                \n",
      " 23:08:18 | Ep: 506/ 600 | Trn loss:  0.222757 - Acc: 91.8734 | Val loss:  0.443010 - Acc: 87.3056 | last_lr: 7.81250e-06  bad_ep: 41  cdwn: 0                                                                \n",
      " 23:08:42 | Ep: 507/ 600 | Trn loss:  0.222716 - Acc: 91.8737 | Val loss:  0.443021 - Acc: 87.3009 | last_lr: 7.81250e-06  bad_ep: 42  cdwn: 0                                                                \n",
      " 23:09:07 | Ep: 508/ 600 | Trn loss:  0.222676 - Acc: 91.8755 | Val loss:  0.443044 - Acc: 87.3009 | last_lr: 7.81250e-06  bad_ep: 43  cdwn: 0                                                                \n",
      " 23:09:31 | Ep: 509/ 600 | Trn loss:  0.222635 - Acc: 91.8773 | Val loss:  0.443071 - Acc: 87.3009 | last_lr: 7.81250e-06  bad_ep: 44  cdwn: 0                                                                \n",
      " 23:09:56 | Ep: 510/ 600 | Trn loss:  0.222595 - Acc: 91.8788 | Val loss:  0.443090 - Acc: 87.3009 | last_lr: 7.81250e-06  bad_ep: 45  cdwn: 0                                                                \n",
      " 23:10:20 | Ep: 511/ 600 | Trn loss:  0.222555 - Acc: 91.8802 | Val loss:  0.443097 - Acc: 87.3009 | last_lr: 7.81250e-06  bad_ep: 46  cdwn: 0                                                                \n",
      " 23:10:45 | Ep: 512/ 600 | Trn loss:  0.222515 - Acc: 91.8820 | Val loss:  0.443128 - Acc: 87.3056 | last_lr: 7.81250e-06  bad_ep: 47  cdwn: 0                                                                \n",
      " 23:11:09 | Ep: 513/ 600 | Trn loss:  0.222475 - Acc: 91.8835 | Val loss:  0.443152 - Acc: 87.3102 | last_lr: 7.81250e-06  bad_ep: 48  cdwn: 0                                                                \n",
      " 23:11:34 | Ep: 514/ 600 | Trn loss:  0.222436 - Acc: 91.8842 | Val loss:  0.443172 - Acc: 87.3102 | last_lr: 7.81250e-06  bad_ep: 49  cdwn: 0                                                                \n",
      " 23:11:58 | Ep: 515/ 600 | Trn loss:  0.222396 - Acc: 91.8864 | Val loss:  0.443189 - Acc: 87.3148 | last_lr: 7.81250e-06  bad_ep: 50  cdwn: 0                                                                \n",
      " 23:12:23 | Ep: 516/ 600 | Trn loss:  0.222357 - Acc: 91.8878 | Val loss:  0.443216 - Acc: 87.3148 | last_lr: 3.90625e-06  bad_ep: 0  cdwn: 10                                                                \n",
      " 23:12:47 | Ep: 517/ 600 | Trn loss:  0.222205 - Acc: 91.8896 | Val loss:  0.439710 - Acc: 87.3333 | last_lr: 3.90625e-06  bad_ep: 0  cdwn: 9                                                                 \n",
      " 23:13:12 | Ep: 518/ 600 | Trn loss:  0.222028 - Acc: 91.8954 | Val loss:  0.439724 - Acc: 87.3241 | last_lr: 3.90625e-06  bad_ep: 0  cdwn: 8                                                                 \n",
      " 23:13:36 | Ep: 519/ 600 | Trn loss:  0.221977 - Acc: 91.8957 | Val loss:  0.439772 - Acc: 87.3241 | last_lr: 3.90625e-06  bad_ep: 0  cdwn: 7                                                                 \n",
      " 23:14:01 | Ep: 520/ 600 | Trn loss:  0.221941 - Acc: 91.8994 | Val loss:  0.439822 - Acc: 87.3194 | last_lr: 3.90625e-06  bad_ep: 0  cdwn: 6                                                                 \n",
      " 23:14:25 | Ep: 521/ 600 | Trn loss:  0.221909 - Acc: 91.8983 | Val loss:  0.439869 - Acc: 87.3241 | last_lr: 3.90625e-06  bad_ep: 0  cdwn: 5                                                                 \n",
      " 23:14:49 | Ep: 522/ 600 | Trn loss:  0.221880 - Acc: 91.8968 | Val loss:  0.439915 - Acc: 87.3287 | last_lr: 3.90625e-06  bad_ep: 0  cdwn: 4                                                                 \n",
      " 23:15:13 | Ep: 523/ 600 | Trn loss:  0.221853 - Acc: 91.8983 | Val loss:  0.439959 - Acc: 87.3287 | last_lr: 3.90625e-06  bad_ep: 0  cdwn: 3                                                                 \n",
      " 23:15:38 | Ep: 524/ 600 | Trn loss:  0.221827 - Acc: 91.8997 | Val loss:  0.440003 - Acc: 87.3287 | last_lr: 3.90625e-06  bad_ep: 0  cdwn: 2                                                                 \n",
      " 23:16:03 | Ep: 525/ 600 | Trn loss:  0.221801 - Acc: 91.9012 | Val loss:  0.440042 - Acc: 87.3287 | last_lr: 3.90625e-06  bad_ep: 0  cdwn: 1                                                                 \n",
      " 23:16:28 | Ep: 526/ 600 | Trn loss:  0.221776 - Acc: 91.9033 | Val loss:  0.440082 - Acc: 87.3241 | last_lr: 3.90625e-06  bad_ep: 0  cdwn: 0                                                                 \n",
      " 23:16:53 | Ep: 527/ 600 | Trn loss:  0.221752 - Acc: 91.9022 | Val loss:  0.440118 - Acc: 87.3287 | last_lr: 3.90625e-06  bad_ep: 1  cdwn: 0                                                                 \n",
      " 23:17:18 | Ep: 528/ 600 | Trn loss:  0.221727 - Acc: 91.9012 | Val loss:  0.440156 - Acc: 87.3287 | last_lr: 3.90625e-06  bad_ep: 2  cdwn: 0                                                                 \n",
      " 23:17:44 | Ep: 529/ 600 | Trn loss:  0.221704 - Acc: 91.9015 | Val loss:  0.440197 - Acc: 87.3287 | last_lr: 3.90625e-06  bad_ep: 3  cdwn: 0                                                                 \n",
      " 23:18:09 | Ep: 530/ 600 | Trn loss:  0.221680 - Acc: 91.9015 | Val loss:  0.440234 - Acc: 87.3287 | last_lr: 3.90625e-06  bad_ep: 4  cdwn: 0                                                                 \n",
      " 23:18:34 | Ep: 531/ 600 | Trn loss:  0.221657 - Acc: 91.9030 | Val loss:  0.440272 - Acc: 87.3287 | last_lr: 3.90625e-06  bad_ep: 5  cdwn: 0                                                                 \n",
      " 23:18:59 | Ep: 532/ 600 | Trn loss:  0.221634 - Acc: 91.9037 | Val loss:  0.440307 - Acc: 87.3287 | last_lr: 3.90625e-06  bad_ep: 6  cdwn: 0                                                                 \n",
      " 23:19:25 | Ep: 533/ 600 | Trn loss:  0.221611 - Acc: 91.9037 | Val loss:  0.440347 - Acc: 87.3287 | last_lr: 3.90625e-06  bad_ep: 7  cdwn: 0                                                                 \n",
      " 23:19:50 | Ep: 534/ 600 | Trn loss:  0.221588 - Acc: 91.9037 | Val loss:  0.440382 - Acc: 87.3333 | last_lr: 3.90625e-06  bad_ep: 8  cdwn: 0                                                                 \n",
      " 23:20:15 | Ep: 535/ 600 | Trn loss:  0.221566 - Acc: 91.9048 | Val loss:  0.440420 - Acc: 87.3333 | last_lr: 3.90625e-06  bad_ep: 9  cdwn: 0                                                                 \n",
      " 23:20:40 | Ep: 536/ 600 | Trn loss:  0.221543 - Acc: 91.9080 | Val loss:  0.440455 - Acc: 87.3333 | last_lr: 3.90625e-06  bad_ep: 10  cdwn: 0                                                                \n",
      " 23:21:06 | Ep: 537/ 600 | Trn loss:  0.221521 - Acc: 91.9073 | Val loss:  0.440491 - Acc: 87.3287 | last_lr: 3.90625e-06  bad_ep: 11  cdwn: 0                                                                \n",
      " 23:21:31 | Ep: 538/ 600 | Trn loss:  0.221499 - Acc: 91.9087 | Val loss:  0.440529 - Acc: 87.3287 | last_lr: 3.90625e-06  bad_ep: 12  cdwn: 0                                                                \n",
      " 23:21:57 | Ep: 539/ 600 | Trn loss:  0.221477 - Acc: 91.9087 | Val loss:  0.440563 - Acc: 87.3287 | last_lr: 3.90625e-06  bad_ep: 13  cdwn: 0                                                                \n",
      " 23:22:22 | Ep: 540/ 600 | Trn loss:  0.221456 - Acc: 91.9095 | Val loss:  0.440598 - Acc: 87.3241 | last_lr: 3.90625e-06  bad_ep: 14  cdwn: 0                                                                \n",
      " 23:22:48 | Ep: 541/ 600 | Trn loss:  0.221434 - Acc: 91.9109 | Val loss:  0.440634 - Acc: 87.3241 | last_lr: 3.90625e-06  bad_ep: 15  cdwn: 0                                                                \n",
      " 23:23:13 | Ep: 542/ 600 | Trn loss:  0.221412 - Acc: 91.9116 | Val loss:  0.440668 - Acc: 87.3241 | last_lr: 3.90625e-06  bad_ep: 16  cdwn: 0                                                                \n",
      " 23:23:38 | Ep: 543/ 600 | Trn loss:  0.221391 - Acc: 91.9113 | Val loss:  0.440704 - Acc: 87.3287 | last_lr: 3.90625e-06  bad_ep: 17  cdwn: 0                                                                \n",
      " 23:24:04 | Ep: 544/ 600 | Trn loss:  0.221369 - Acc: 91.9113 | Val loss:  0.440738 - Acc: 87.3287 | last_lr: 3.90625e-06  bad_ep: 18  cdwn: 0                                                                \n",
      " 23:24:29 | Ep: 545/ 600 | Trn loss:  0.221348 - Acc: 91.9109 | Val loss:  0.440775 - Acc: 87.3287 | last_lr: 3.90625e-06  bad_ep: 19  cdwn: 0                                                                \n",
      " 23:24:55 | Ep: 546/ 600 | Trn loss:  0.221327 - Acc: 91.9123 | Val loss:  0.440806 - Acc: 87.3287 | last_lr: 3.90625e-06  bad_ep: 20  cdwn: 0                                                                \n",
      " 23:25:20 | Ep: 547/ 600 | Trn loss:  0.221306 - Acc: 91.9134 | Val loss:  0.440841 - Acc: 87.3287 | last_lr: 3.90625e-06  bad_ep: 21  cdwn: 0                                                                \n",
      " 23:25:46 | Ep: 548/ 600 | Trn loss:  0.221285 - Acc: 91.9145 | Val loss:  0.440877 - Acc: 87.3287 | last_lr: 3.90625e-06  bad_ep: 22  cdwn: 0                                                                \n",
      " 23:26:11 | Ep: 549/ 600 | Trn loss:  0.221264 - Acc: 91.9141 | Val loss:  0.440909 - Acc: 87.3287 | last_lr: 3.90625e-06  bad_ep: 23  cdwn: 0                                                                \n",
      " 23:26:36 | Ep: 550/ 600 | Trn loss:  0.221243 - Acc: 91.9159 | Val loss:  0.440946 - Acc: 87.3287 | last_lr: 3.90625e-06  bad_ep: 24  cdwn: 0                                                                \n",
      " 23:27:00 | Ep: 551/ 600 | Trn loss:  0.221222 - Acc: 91.9181 | Val loss:  0.440978 - Acc: 87.3287 | last_lr: 3.90625e-06  bad_ep: 25  cdwn: 0                                                                \n",
      " 23:27:25 | Ep: 552/ 600 | Trn loss:  0.221202 - Acc: 91.9181 | Val loss:  0.441014 - Acc: 87.3287 | last_lr: 3.90625e-06  bad_ep: 26  cdwn: 0                                                                \n",
      " 23:27:50 | Ep: 553/ 600 | Trn loss:  0.221181 - Acc: 91.9196 | Val loss:  0.441051 - Acc: 87.3241 | last_lr: 3.90625e-06  bad_ep: 27  cdwn: 0                                                                \n",
      " 23:28:15 | Ep: 554/ 600 | Trn loss:  0.221161 - Acc: 91.9206 | Val loss:  0.441085 - Acc: 87.3241 | last_lr: 3.90625e-06  bad_ep: 28  cdwn: 0                                                                \n",
      " 23:28:40 | Ep: 555/ 600 | Trn loss:  0.221140 - Acc: 91.9228 | Val loss:  0.441114 - Acc: 87.3241 | last_lr: 3.90625e-06  bad_ep: 29  cdwn: 0                                                                \n",
      " 23:29:05 | Ep: 556/ 600 | Trn loss:  0.221120 - Acc: 91.9235 | Val loss:  0.441149 - Acc: 87.3241 | last_lr: 3.90625e-06  bad_ep: 30  cdwn: 0                                                                \n",
      " 23:29:31 | Ep: 557/ 600 | Trn loss:  0.221099 - Acc: 91.9242 | Val loss:  0.441186 - Acc: 87.3194 | last_lr: 3.90625e-06  bad_ep: 31  cdwn: 0                                                                \n",
      " 23:29:56 | Ep: 558/ 600 | Trn loss:  0.221079 - Acc: 91.9253 | Val loss:  0.441218 - Acc: 87.3194 | last_lr: 3.90625e-06  bad_ep: 32  cdwn: 0                                                                \n",
      " 23:30:22 | Ep: 559/ 600 | Trn loss:  0.221059 - Acc: 91.9275 | Val loss:  0.441251 - Acc: 87.3194 | last_lr: 3.90625e-06  bad_ep: 33  cdwn: 0                                                                \n",
      " 23:30:47 | Ep: 560/ 600 | Trn loss:  0.221038 - Acc: 91.9282 | Val loss:  0.441285 - Acc: 87.3194 | last_lr: 3.90625e-06  bad_ep: 34  cdwn: 0                                                                \n",
      " 23:31:13 | Ep: 561/ 600 | Trn loss:  0.221018 - Acc: 91.9286 | Val loss:  0.441318 - Acc: 87.3241 | last_lr: 3.90625e-06  bad_ep: 35  cdwn: 0                                                                \n",
      " 23:31:38 | Ep: 562/ 600 | Trn loss:  0.220998 - Acc: 91.9286 | Val loss:  0.441353 - Acc: 87.3241 | last_lr: 3.90625e-06  bad_ep: 36  cdwn: 0                                                                \n",
      " 23:32:03 | Ep: 563/ 600 | Trn loss:  0.220978 - Acc: 91.9289 | Val loss:  0.441385 - Acc: 87.3241 | last_lr: 3.90625e-06  bad_ep: 37  cdwn: 0                                                                \n",
      " 23:32:29 | Ep: 564/ 600 | Trn loss:  0.220958 - Acc: 91.9311 | Val loss:  0.441419 - Acc: 87.3194 | last_lr: 3.90625e-06  bad_ep: 38  cdwn: 0                                                                \n",
      " 23:32:54 | Ep: 565/ 600 | Trn loss:  0.220938 - Acc: 91.9315 | Val loss:  0.441451 - Acc: 87.3194 | last_lr: 3.90625e-06  bad_ep: 39  cdwn: 0                                                                \n",
      " 23:33:20 | Ep: 566/ 600 | Trn loss:  0.220918 - Acc: 91.9322 | Val loss:  0.441488 - Acc: 87.3194 | last_lr: 3.90625e-06  bad_ep: 40  cdwn: 0                                                                \n",
      " 23:33:45 | Ep: 567/ 600 | Trn loss:  0.220898 - Acc: 91.9315 | Val loss:  0.441519 - Acc: 87.3148 | last_lr: 3.90625e-06  bad_ep: 41  cdwn: 0                                                                \n",
      " 23:34:11 | Ep: 568/ 600 | Trn loss:  0.220878 - Acc: 91.9311 | Val loss:  0.441552 - Acc: 87.3148 | last_lr: 3.90625e-06  bad_ep: 42  cdwn: 0                                                                \n",
      " 23:34:37 | Ep: 569/ 600 | Trn loss:  0.220858 - Acc: 91.9311 | Val loss:  0.441583 - Acc: 87.3148 | last_lr: 3.90625e-06  bad_ep: 43  cdwn: 0                                                                \n",
      " 23:35:02 | Ep: 570/ 600 | Trn loss:  0.220839 - Acc: 91.9322 | Val loss:  0.441617 - Acc: 87.3148 | last_lr: 3.90625e-06  bad_ep: 44  cdwn: 0                                                                \n",
      " 23:35:27 | Ep: 571/ 600 | Trn loss:  0.220819 - Acc: 91.9329 | Val loss:  0.441651 - Acc: 87.3148 | last_lr: 3.90625e-06  bad_ep: 45  cdwn: 0                                                                \n",
      " 23:35:53 | Ep: 572/ 600 | Trn loss:  0.220799 - Acc: 91.9325 | Val loss:  0.441682 - Acc: 87.3148 | last_lr: 3.90625e-06  bad_ep: 46  cdwn: 0                                                                \n",
      " 23:36:18 | Ep: 573/ 600 | Trn loss:  0.220780 - Acc: 91.9325 | Val loss:  0.441718 - Acc: 87.3102 | last_lr: 3.90625e-06  bad_ep: 47  cdwn: 0                                                                \n",
      " 23:36:44 | Ep: 574/ 600 | Trn loss:  0.220760 - Acc: 91.9333 | Val loss:  0.441751 - Acc: 87.3102 | last_lr: 3.90625e-06  bad_ep: 48  cdwn: 0                                                                \n",
      " 23:37:09 | Ep: 575/ 600 | Trn loss:  0.220740 - Acc: 91.9340 | Val loss:  0.441779 - Acc: 87.3148 | last_lr: 3.90625e-06  bad_ep: 49  cdwn: 0                                                                \n",
      " 23:37:35 | Ep: 576/ 600 | Trn loss:  0.220721 - Acc: 91.9354 | Val loss:  0.441814 - Acc: 87.3148 | last_lr: 3.90625e-06  bad_ep: 50  cdwn: 0                                                                \n",
      " 23:38:01 | Ep: 577/ 600 | Trn loss:  0.220701 - Acc: 91.9358 | Val loss:  0.441845 - Acc: 87.3194 | last_lr: 1.95313e-06  bad_ep: 0  cdwn: 10                                                                \n",
      " 23:38:26 | Ep: 578/ 600 | Trn loss:  0.220518 - Acc: 91.9477 | Val loss:  0.441307 - Acc: 87.3380 | last_lr: 1.95313e-06  bad_ep: 0  cdwn: 9                                                                 \n",
      " 23:38:51 | Ep: 579/ 600 | Trn loss:  0.220424 - Acc: 91.9495 | Val loss:  0.441306 - Acc: 87.3519 | last_lr: 1.95313e-06  bad_ep: 0  cdwn: 8                                                                 \n",
      " 23:39:17 | Ep: 580/ 600 | Trn loss:  0.220401 - Acc: 91.9545 | Val loss:  0.441309 - Acc: 87.3565 | last_lr: 1.95313e-06  bad_ep: 0  cdwn: 7                                                                 \n",
      " 23:39:42 | Ep: 581/ 600 | Trn loss:  0.220385 - Acc: 91.9545 | Val loss:  0.441316 - Acc: 87.3611 | last_lr: 1.95313e-06  bad_ep: 0  cdwn: 6                                                                 \n",
      " 23:40:07 | Ep: 582/ 600 | Trn loss:  0.220372 - Acc: 91.9556 | Val loss:  0.441333 - Acc: 87.3611 | last_lr: 1.95313e-06  bad_ep: 0  cdwn: 5                                                                 \n",
      " 23:40:31 | Ep: 583/ 600 | Trn loss:  0.220359 - Acc: 91.9560 | Val loss:  0.441348 - Acc: 87.3611 | last_lr: 1.95313e-06  bad_ep: 0  cdwn: 4                                                                 \n",
      " 23:40:55 | Ep: 584/ 600 | Trn loss:  0.220347 - Acc: 91.9563 | Val loss:  0.441366 - Acc: 87.3611 | last_lr: 1.95313e-06  bad_ep: 0  cdwn: 3                                                                 \n",
      " 23:41:19 | Ep: 585/ 600 | Trn loss:  0.220336 - Acc: 91.9560 | Val loss:  0.441383 - Acc: 87.3611 | last_lr: 1.95313e-06  bad_ep: 0  cdwn: 2                                                                 \n",
      " 23:41:44 | Ep: 586/ 600 | Trn loss:  0.220324 - Acc: 91.9563 | Val loss:  0.441400 - Acc: 87.3611 | last_lr: 1.95313e-06  bad_ep: 0  cdwn: 1                                                                 \n",
      " 23:42:08 | Ep: 587/ 600 | Trn loss:  0.220313 - Acc: 91.9567 | Val loss:  0.441418 - Acc: 87.3611 | last_lr: 1.95313e-06  bad_ep: 0  cdwn: 0                                                                 \n",
      " 23:42:32 | Ep: 588/ 600 | Trn loss:  0.220302 - Acc: 91.9567 | Val loss:  0.441435 - Acc: 87.3611 | last_lr: 1.95313e-06  bad_ep: 1  cdwn: 0                                                                 \n",
      " 23:42:56 | Ep: 589/ 600 | Trn loss:  0.220291 - Acc: 91.9567 | Val loss:  0.441450 - Acc: 87.3565 | last_lr: 1.95313e-06  bad_ep: 2  cdwn: 0                                                                 \n",
      " 23:43:20 | Ep: 590/ 600 | Trn loss:  0.220280 - Acc: 91.9571 | Val loss:  0.441469 - Acc: 87.3565 | last_lr: 1.95313e-06  bad_ep: 3  cdwn: 0                                                                 \n",
      " 23:43:45 | Ep: 591/ 600 | Trn loss:  0.220269 - Acc: 91.9574 | Val loss:  0.441486 - Acc: 87.3565 | last_lr: 1.95313e-06  bad_ep: 4  cdwn: 0                                                                 \n",
      " 23:44:09 | Ep: 592/ 600 | Trn loss:  0.220258 - Acc: 91.9582 | Val loss:  0.441503 - Acc: 87.3565 | last_lr: 1.95313e-06  bad_ep: 5  cdwn: 0                                                                 \n",
      " 23:44:34 | Ep: 593/ 600 | Trn loss:  0.220247 - Acc: 91.9600 | Val loss:  0.441521 - Acc: 87.3565 | last_lr: 1.95313e-06  bad_ep: 6  cdwn: 0                                                                 \n",
      " 23:44:59 | Ep: 594/ 600 | Trn loss:  0.220236 - Acc: 91.9603 | Val loss:  0.441537 - Acc: 87.3565 | last_lr: 1.95313e-06  bad_ep: 7  cdwn: 0                                                                 \n",
      " 23:45:24 | Ep: 595/ 600 | Trn loss:  0.220225 - Acc: 91.9603 | Val loss:  0.441555 - Acc: 87.3565 | last_lr: 1.95313e-06  bad_ep: 8  cdwn: 0                                                                 \n",
      " 23:45:48 | Ep: 596/ 600 | Trn loss:  0.220214 - Acc: 91.9610 | Val loss:  0.441572 - Acc: 87.3565 | last_lr: 1.95313e-06  bad_ep: 9  cdwn: 0                                                                 \n",
      " 23:46:11 | Ep: 597/ 600 | Trn loss:  0.220204 - Acc: 91.9614 | Val loss:  0.441589 - Acc: 87.3519 | last_lr: 1.95313e-06  bad_ep: 10  cdwn: 0                                                                \n",
      " 23:46:35 | Ep: 598/ 600 | Trn loss:  0.220193 - Acc: 91.9614 | Val loss:  0.441606 - Acc: 87.3519 | last_lr: 1.95313e-06  bad_ep: 11  cdwn: 0                                                                \n",
      " 23:46:59 | Ep: 599/ 600 | Trn loss:  0.220182 - Acc: 91.9607 | Val loss:  0.441625 - Acc: 87.3519 | last_lr: 1.95313e-06  bad_ep: 12  cdwn: 0                                                                \n",
      "                                                                                                                                                                                                              "
     ]
    },
    {
     "name": "stderr",
     "output_type": "stream",
     "text": [
      "2024-09-30 23:47:23,358 - utils.utils_cellpainting - INFO: -  Model exported to NN_snnl_embd600_250Ltnt_512_20240917_2004_LAST_20240930_1930_ep_600.pt - epoch: 600\n"
     ]
    },
    {
     "name": "stdout",
     "output_type": "stream",
     "text": [
      " 23:47:23 | Ep: 600/ 600 | Trn loss:  0.220171 - Acc: 91.9607 | Val loss:  0.441641 - Acc: 87.3519 | last_lr: 1.95313e-06  bad_ep: 13  cdwn: 0 \n"
     ]
    }
   ],
   "source": [
    "\n",
    "_ = fit(model, optimizer, scheduler, data_loader, metrics, start_epoch, end_epoch, device, CKPT_FILE, CKPT_PATH )\n"
   ]
  },
  {
   "cell_type": "markdown",
   "id": "573ac673-4b85-4d5a-ba01-40945db8419f",
   "metadata": {},
   "source": [
    "    \n",
    " "
   ]
  },
  {
   "cell_type": "code",
   "execution_count": null,
   "id": "52421a1e-edc4-4f04-af58-390ac23260cb",
   "metadata": {},
   "outputs": [],
   "source": [
    "# print(CKPT_FILE)\n",
    "# save_checkpoint(end_epoch, model, optimizer, scheduler, metrics = metrics,\n",
    "#                 filename = CKPT_FILE.format(ep=end_epoch),\n",
    "#                 ckpt_path = CKPT_PATH, verbose = True)"
   ]
  },
  {
   "cell_type": "code",
   "execution_count": null,
   "id": "5e978589-d202-445e-a7a8-2c8068acbe85",
   "metadata": {
    "ExecuteTime": {
     "end_time": "2023-06-04T11:35:15.434870Z",
     "start_time": "2023-06-04T11:35:15.344699Z"
    }
   },
   "outputs": [],
   "source": [
    "# start_epoch, end_epoch\n",
    "\n",
    "# for mtrc in ['loss_trn', 'loss_val']:\n",
    "#     for i in range(len(metrics[mtrc])):\n",
    "#         # print(i)\n",
    "#         metrics[mtrc][i] = metrics[mtrc][i].item()\n",
    " "
   ]
  },
  {
   "cell_type": "markdown",
   "id": "d75622ea-9d55-42a5-afbd-b7453166bce0",
   "metadata": {
    "jp-MarkdownHeadingCollapsed": true
   },
   "source": [
    "# Modify TPSA Threshold"
   ]
  },
  {
   "cell_type": "code",
   "execution_count": null,
   "id": "9ca4e52f-46c9-4506-8b0d-239f045f04ac",
   "metadata": {},
   "outputs": [],
   "source": [
    "\n",
    "train_y_72 = np.zeros_like(train_y)\n",
    "train_y_72.shape[0]/3"
   ]
  },
  {
   "cell_type": "code",
   "execution_count": null,
   "id": "e11392e3-cbea-49a8-9a0b-2030c1a0aee1",
   "metadata": {
    "editable": true,
    "slideshow": {
     "slide_type": ""
    },
    "tags": []
   },
   "outputs": [],
   "source": [
    "print(f\"                  min           max           std          mean           median\")\n",
    "for x in ['TPSA', 'lnTPSA', 'log10TPSA']:\n",
    "    print(f\"{x:12s} {df_train[x].min():13.7f} {df_train[x].max():13.7f} {df_train[x].std():13.7f} {df_train[x].mean():13.7f} {df_train[x].median():13.7f}\") \n",
    "\n",
    "df_train.TPSA.count()\n",
    "df_train[df_train.TPSA >= THRESHOLD].TPSA.count()/df_train.TPSA.count()\n",
    "df_train[df_train.TPSA < THRESHOLD].TPSA.count()/df_train.TPSA.count()\n"
   ]
  },
  {
   "cell_type": "code",
   "execution_count": null,
   "id": "d5f5bab9-6b23-4078-a398-dccbea38ae78",
   "metadata": {},
   "outputs": [],
   "source": [
    "_tmp = df_train.Metadata_Permiation.value_counts()\n",
    "_tmp[0], _tmp[1]"
   ]
  },
  {
   "cell_type": "code",
   "execution_count": null,
   "id": "d59dcba1-6add-4446-aa27-a30564f42e54",
   "metadata": {
    "editable": true,
    "slideshow": {
     "slide_type": ""
    },
    "tags": []
   },
   "outputs": [],
   "source": [
    "for threshold in [68, 69, 70, 71, 72, 100]:\n",
    "    _tmp = (df_train['Metadata_TPSA'] >= threshold).value_counts()\n",
    "    print(f\"\\n TPSA threshold {threshold} \\n Total samples: {_tmp.sum()}\")\n",
    "    print(f\" Label 0: {_tmp[False]:>7d}      % {_tmp[False]*100/_tmp.sum():2.2f} \")\n",
    "    print(f\" Label 1: {_tmp[True]:>7d}      % {_tmp[True]*100/_tmp.sum():2.2f} \")"
   ]
  },
  {
   "cell_type": "code",
   "execution_count": null,
   "id": "65d1d01b-3946-4668-9c10-5fb3f2b3bd64",
   "metadata": {},
   "outputs": [],
   "source": [
    "# fig, ax = plt.subplots(figsize=(4,4))\n",
    "# fig.canvas.draw()  # Need to draw the figure to define renderer\n",
    "# ax.set_title(\"AngleLabel example\")\n",
    "# # Plot two crossing lines and label each angle between them with the above\n",
    "# center = (4.5, 650)\n",
    "# p1 = [(2.5, 710), (6.0, 605)]\n",
    "# p2 = [(3.0, 275), (5.5, 900)]\n",
    "# line1, = ax.plot(*zip(*p1))\n",
    "# line2, = ax.plot(*zip(*p2))\n",
    "# point, = ax.plot(*center, marker=\"o\")\n"
   ]
  },
  {
   "cell_type": "code",
   "execution_count": null,
   "id": "9f19bd08-45c1-4d41-9d02-a5b59d30c53c",
   "metadata": {
    "ExecuteTime": {
     "end_time": "2023-06-28T19:37:34.108730Z",
     "start_time": "2023-06-28T19:37:34.072553Z"
    },
    "editable": true,
    "slideshow": {
     "slide_type": ""
    },
    "tags": []
   },
   "outputs": [],
   "source": [
    "from matplotlib import colors\n",
    "from matplotlib.ticker import PercentFormatter\n",
    "num_bins = 200\n",
    "# fig, ax = plt.subplots()\n",
    "fig = plt.figure(figsize=(10,5))\n",
    "sigma = df_train.Metadata_TPSA.std()\n",
    "mu = df_train.Metadata_TPSA.mean()\n",
    "med = df_train.Metadata_TPSA.median()\n",
    "# the histogram of the data\n",
    "# We can set the number of bins with the *bins* keyword argument.\n",
    "n, bins, patches = plt.hist(df_train.Metadata_TPSA, num_bins, density=False, range=[0, 500],)\n",
    "# p1 = [(med, 710), (6.0, 605)]\n",
    "# _ = plt.vlines(x=med, ymin=10, ymax=17000, colors='red', linestyles='-', lw=1.75, label='Single Short Line')\n",
    "_ = plt.axvline(x=med, ymin=0, ymax=.97, color='red', linestyle='-', lw=1.75, label='Single Short Line')\n",
    "_ = plt.xlabel('TPSA Value');\n",
    "_ = plt.ylabel('# Compounds');\n",
    "_ = plt.title(fr'TPSA distribution -  $\\mu={mu:.3f}$    $\\sigma={sigma:.3f}$')\n",
    "plt.legend(bbox_to_anchor=(1.04,0.5), loc=\"center left\", borderaxespad=0)\n",
    "# axs[1].hist(dist2, bins=n_bins)\n",
    "plt.show()"
   ]
  },
  {
   "cell_type": "markdown",
   "id": "e58c33d9-a56a-4175-9936-b16efed13334",
   "metadata": {
    "editable": true,
    "jp-MarkdownHeadingCollapsed": true,
    "slideshow": {
     "slide_type": ""
    },
    "tags": []
   },
   "source": [
    "# Stratified CV data splits"
   ]
  },
  {
   "cell_type": "code",
   "execution_count": null,
   "id": "36185b9f-f76e-4556-a736-7a97ac07659f",
   "metadata": {},
   "outputs": [],
   "source": [
    "def visualize_groups(classes, groups, name):\n",
    "    # Visualize dataset groups\n",
    "    fig, ax = plt.subplots(figsize=(10,5))\n",
    "    ax.scatter(\n",
    "        range(len(groups)),\n",
    "        [0.5] * len(groups),\n",
    "        c=groups,\n",
    "        marker=\"_\",\n",
    "        lw=50,\n",
    "        cmap=cmap_data,\n",
    "    )\n",
    "    ax.scatter(\n",
    "        range(len(groups)),\n",
    "        [3.5] * len(groups),\n",
    "        c=classes,\n",
    "        marker=\"_\",\n",
    "        lw=50,\n",
    "        cmap=cmap_data,\n",
    "    )\n",
    "    ax.set(\n",
    "        ylim=[-1, 5],\n",
    "        yticks=[0.5, 3.5],\n",
    "        yticklabels=[\"Data\\ngroup\", \"Data\\nclass\"],\n",
    "        xlabel=\"Sample index\",\n",
    "    )"
   ]
  },
  {
   "cell_type": "code",
   "execution_count": null,
   "id": "f532d16b-50f2-486d-a2b8-22e960f6007a",
   "metadata": {},
   "outputs": [],
   "source": [
    "def plot_cv_indices(cv, X, y, group, ax, n_splits, lw=10):\n",
    "    \"\"\"Create a sample plot for indices of a cross-validation object.\"\"\"\n",
    "    use_groups = \"Group\" in type(cv).__name__\n",
    "    groups = group if use_groups else None\n",
    "    # Generate the training/testing visualizations for each CV split\n",
    "    for ii, (tr, tt) in enumerate(cv.split(X=X, y=y, groups=groups)):\n",
    "        # Fill in indices with the training/test groups\n",
    "        indices = np.array([np.nan] * len(X))\n",
    "        indices[tt] = 1\n",
    "        indices[tr] = 0\n",
    "\n",
    "        # Visualize the results\n",
    "        ax.scatter(\n",
    "            range(len(indices)),\n",
    "            [ii + 0.5] * len(indices),\n",
    "            c=indices,\n",
    "            marker=\"_\",\n",
    "            lw=lw,\n",
    "            cmap=cmap_cv,\n",
    "            vmin=-0.2,\n",
    "            vmax=1.2,\n",
    "        )\n",
    "\n",
    "    # Plot the data classes and groups at the end\n",
    "    ax.scatter(\n",
    "        range(len(X)), [ii + 1.5] * len(X), c=y, marker=\"_\", lw=lw, cmap=cmap_data\n",
    "    )\n",
    "\n",
    "    ax.scatter(\n",
    "        range(len(X)), [ii + 2.5] * len(X), c=group, marker=\"_\", lw=lw, cmap=cmap_data\n",
    "    )\n",
    "\n",
    "    # Formatting\n",
    "    yticklabels = list(range(n_splits)) + [\"class\", \"group\"]\n",
    "    ax.set(\n",
    "        yticks=np.arange(n_splits + 2) + 0.5,\n",
    "        yticklabels=yticklabels,\n",
    "        xlabel=\"Sample index\",\n",
    "        ylabel=\"CV iteration\",\n",
    "        ylim=[n_splits + 2.2, -0.2],\n",
    "        xlim=[0, 100],\n",
    "    )\n",
    "    ax.set_title(\"{}\".format(type(cv).__name__), fontsize=15)\n",
    "    return ax"
   ]
  },
  {
   "cell_type": "code",
   "execution_count": null,
   "id": "d6f3f078-8b33-4acc-b639-6daac6d9d519",
   "metadata": {},
   "outputs": [],
   "source": [
    "import matplotlib.pyplot as plt\n",
    "import numpy as np\n",
    "from matplotlib.patches import Patch\n"
   ]
  },
  {
   "cell_type": "code",
   "execution_count": null,
   "id": "f1165a3b-5756-443f-ad46-bf316c34929e",
   "metadata": {},
   "outputs": [],
   "source": [
    "rng = np.random.RandomState(1338)\n",
    "cmap_data = plt.cm.Paired\n",
    "cmap_cv = plt.cm.coolwarm\n",
    "n_splits = 4\n",
    "\n",
    "# Generate the class/group data\n",
    "# n_points = 100\n",
    "# X = rng.randn(100, 10)\n",
    "\n",
    "# percentiles_classes = [0.1, 0.3, 0.6]\n",
    "# y = np.hstack([[ii] * int(100 * perc) for ii, perc in enumerate(percentiles_classes)])"
   ]
  },
  {
   "cell_type": "code",
   "execution_count": null,
   "id": "94dd8391-cbf3-4468-9aa2-d311c7f83bd2",
   "metadata": {},
   "outputs": [],
   "source": [
    "# Generate uneven groups\n",
    "\n",
    "# group_prior = rng.dirichlet([2] * 10)\n",
    "# group_prior.sum()\n",
    "# group_prior\n",
    "\n",
    "# groups = np.repeat(np.arange(10), rng.multinomial(100, group_prior))\n",
    "# groups.shape\n",
    "# groups"
   ]
  },
  {
   "cell_type": "code",
   "execution_count": null,
   "id": "0be667cf-b73b-49d9-8f93-028feb33dc07",
   "metadata": {},
   "outputs": [],
   "source": [
    "groups = np.repeat(0, train_X.shape[0])\n",
    "groups.shape"
   ]
  },
  {
   "cell_type": "code",
   "execution_count": null,
   "id": "a3cc3e15-7328-43d7-87b0-e662e89f8995",
   "metadata": {},
   "outputs": [],
   "source": [
    "visualize_groups(train_y, groups, \"no groups\")"
   ]
  },
  {
   "cell_type": "code",
   "execution_count": null,
   "id": "f27b44ef-5b62-4008-8e90-fcd97dca2186",
   "metadata": {},
   "outputs": [],
   "source": [
    "n_splits = 5\n",
    "groups = None"
   ]
  },
  {
   "cell_type": "code",
   "execution_count": null,
   "id": "0cc5f1e4-9fbf-4c51-a82a-ee2c870850aa",
   "metadata": {},
   "outputs": [],
   "source": [
    "fig, ax = plt.subplots()\n",
    "cv = KFold(n_splits)\n",
    "plot_cv_indices(cv, train_X, train_y, groups, ax, n_splits)"
   ]
  },
  {
   "cell_type": "markdown",
   "id": "d2e1cd39-be31-4f80-b0b3-a064ddf5b59d",
   "metadata": {
    "jp-MarkdownHeadingCollapsed": true
   },
   "source": [
    "# Input "
   ]
  },
  {
   "cell_type": "markdown",
   "id": "987503fe-4de3-4967-a228-9e5b7a6d30b8",
   "metadata": {},
   "source": [
    "## Read Embedded Features CSV file"
   ]
  },
  {
   "cell_type": "code",
   "execution_count": null,
   "id": "ab7b33d4-10b8-44a2-a97b-3fb5e124812e",
   "metadata": {
    "editable": true,
    "slideshow": {
     "slide_type": ""
    },
    "tags": []
   },
   "outputs": [],
   "source": [
    "BASE_TRAIN_INPUT = os.path.join(OUTPUT_PATH, INPUT_FILE.format(runmode = BASE_runmode ,datatype='train'))\n",
    "BASE_TEST_INPUT  = os.path.join(OUTPUT_PATH, INPUT_FILE.format(runmode = BASE_runmode ,datatype='test'))\n",
    "SNNL_TRAIN_INPUT = os.path.join(OUTPUT_PATH, INPUT_FILE.format(runmode = SNNL_runmode ,datatype='train'))\n",
    "SNNL_TEST_INPUT  = os.path.join(OUTPUT_PATH, INPUT_FILE.format(runmode = SNNL_runmode ,datatype='test'))\n",
    "BASE_TRAIN_INPUT\n",
    "BASE_TEST_INPUT \n",
    "SNNL_TRAIN_INPUT\n",
    "SNNL_TEST_INPUT "
   ]
  },
  {
   "cell_type": "code",
   "execution_count": null,
   "id": "8dff17ab-dd6a-49fe-8733-8f3448537618",
   "metadata": {},
   "outputs": [],
   "source": [
    "df_test = pd.read_csv(SNNL_TEST_INPUT )\n",
    "df_train = pd.read_csv(SNNL_TRAIN_INPUT)\n",
    "\n",
    "# df_train = pd.read_csv(BASE_TRAIN_INPUT)\n",
    "# df_test = pd.read_csv(BASE_TEST_INPUT )\n",
    "# df_train = pd.read_csv(TRAIN_INPUT, nrows = 100 )\n",
    "# df_train = pd.read_csv(TRAIN_INPUT, usecols = ['Metadata_Batch'])"
   ]
  },
  {
   "cell_type": "code",
   "execution_count": null,
   "id": "9e7a273e-36aa-4b1b-8a49-3c911fe62659",
   "metadata": {},
   "outputs": [],
   "source": [
    "df_test.info()\n",
    "df_test.shape\n",
    "df_test.columns\n",
    "df_test.iloc[:5,:13]"
   ]
  },
  {
   "cell_type": "code",
   "execution_count": null,
   "id": "e21aa50d-b501-4532-9c1f-62a2c960f48d",
   "metadata": {},
   "outputs": [],
   "source": [
    "# df_train = pd.read_csv(TRAIN_INPUT, nrows = 100 )\n",
    "# df_train = pd.read_csv(TRAIN_INPUT, usecols = ['Metadata_Batch'])"
   ]
  },
  {
   "cell_type": "code",
   "execution_count": null,
   "id": "8e266886-b249-4370-84ef-242c34c98e72",
   "metadata": {},
   "outputs": [],
   "source": [
    "test_y = df_test.iloc[:,10:11].to_numpy().ravel().astype(np.uint8)\n",
    "test_y.sum()\n",
    "test_y.shape, type(test_y), test_y.dtype\n",
    "test_X = df_test.iloc[:,11:].to_numpy()\n",
    "test_X.shape,type(test_X), test_X.dtype"
   ]
  },
  {
   "cell_type": "code",
   "execution_count": null,
   "id": "b5ccbf57-4fa7-4842-919b-103d14e44c79",
   "metadata": {},
   "outputs": [],
   "source": [
    "df_train.shape\n",
    "df_train.info()\n",
    "df_train.iloc[:5,:16]"
   ]
  },
  {
   "cell_type": "code",
   "execution_count": null,
   "id": "8b7d392e-68eb-4474-ad37-12244f4d23b0",
   "metadata": {},
   "outputs": [],
   "source": [
    "312000+34542"
   ]
  },
  {
   "cell_type": "code",
   "execution_count": null,
   "id": "8710ee4c-badf-4f28-a214-f8354f6c1e5f",
   "metadata": {},
   "outputs": [],
   "source": [
    "train_y = df_train.iloc[:,10:11].to_numpy().ravel().astype(np.uint8)\n",
    "train_y.sum()\n",
    "train_y.shape, type(train_y), train_y.dtype\n",
    "\n",
    "train_X = df_train.iloc[:,11:].to_numpy()\n",
    "train_X.shape,type(train_X) ,train_X.dtype"
   ]
  },
  {
   "cell_type": "markdown",
   "id": "00c738a2-74d5-4702-a93f-36428714aedf",
   "metadata": {},
   "source": [
    "## Standardize inputs"
   ]
  },
  {
   "cell_type": "code",
   "execution_count": null,
   "id": "6ba790ed-fea3-4803-bf33-91b2a0d74fd7",
   "metadata": {},
   "outputs": [],
   "source": [
    "print(f\"Train_X :  Min: {train_X.min():.4f}    Max: {train_X.max():.4f}   Mean: {train_X.mean():.4f}  Std: {train_X.std():.4f}\")\n",
    "print(f\"Test_X  :  Min: {test_X.min():.4f}    Max: {test_X.max():.4f}    Mean: {test_X.mean():.4f}  Std: {test_X.std():.4f}\")"
   ]
  },
  {
   "cell_type": "code",
   "execution_count": null,
   "id": "8ab780bd-8b49-46ce-b18b-abc1e0ff181d",
   "metadata": {},
   "outputs": [],
   "source": [
    "# print(f\"Train_X :  Min: {train_X.min():.4f}    Max: {train_X.max():.4f}   Mean: {train_X.mean():.4f}  Std: {train_X.std():.4f}\")\n",
    "# print(f\"Test_X  :  Min: {test_X.min():.4f}    Max: {test_X.max():.4f}    Mean: {test_X.mean():.4f}  Std: {test_X.std():.4f}\")"
   ]
  },
  {
   "cell_type": "code",
   "execution_count": null,
   "id": "614ed6ad-1c8c-4c10-9bc5-82e6fcc9fa56",
   "metadata": {},
   "outputs": [],
   "source": [
    "scaler = StandardScaler(copy = True)\n",
    "train_X = scaler.fit_transform(train_X)\n",
    "test_X = scaler.transform(test_X)"
   ]
  },
  {
   "cell_type": "code",
   "execution_count": null,
   "id": "34a118cd-aed2-4e64-a4da-8de20a99be3a",
   "metadata": {},
   "outputs": [],
   "source": [
    "print(\"After Standard Scaler Transformation\")\n",
    "print(f\"Train_X :  Min: {train_X.min():.4f}    Max: {train_X.max():.4f}   Mean: {train_X.mean():.4f}  Std: {train_X.std():.4f}\")\n",
    "print(f\"Test_X  :  Min: {test_X.min():.4f}    Max: {test_X.max():.4f}    Mean: {test_X.mean():.4f}  Std: {test_X.std():.4f}\")\n"
   ]
  },
  {
   "cell_type": "code",
   "execution_count": null,
   "id": "c685b4df-8975-4935-8bd2-edba44873a90",
   "metadata": {},
   "outputs": [],
   "source": [
    "label_counts([(\"Training\", train_y), (\"Test\", test_y)])"
   ]
  },
  {
   "cell_type": "code",
   "execution_count": null,
   "id": "a0b7ad73-1936-428c-bd8e-341f594d816b",
   "metadata": {},
   "outputs": [],
   "source": []
  },
  {
   "cell_type": "markdown",
   "id": "aa293a17-1064-44e2-8d7c-42a5aef53159",
   "metadata": {
    "jp-MarkdownHeadingCollapsed": true
   },
   "source": [
    "# TQDM Examples"
   ]
  },
  {
   "cell_type": "code",
   "execution_count": null,
   "id": "7d4955de-e618-45a3-83be-028e913b55d1",
   "metadata": {},
   "outputs": [],
   "source": [
    "#-----------------------------------------\n",
    "# TRANGE example\n",
    "#-----------------------------------------   \n",
    "# with trange(+1, ns.trn_iters_warmup+1 , initial = 0 , total = ns.trn_iters_warmup, position=0, file=sys.stdout,\n",
    "#             leave= False, disable = disable_tqdm, desc=f\" Warmup Epoch {ns.current_epoch}/{ns.stop_epoch_warmup}\") as t_warmup :\n",
    "#     for _ in t_warmup:\n",
    "#         ns.current_iter += 1            \n",
    "\n",
    "#         batch = next(dldrs.warmup_trn_loader)            \n",
    "#         environ.set_inputs(batch, input_size)\n",
    "\n",
    "#         environ.optimize(is_policy=False, \n",
    "#                          num_train_layers=ns.num_train_layers,\n",
    "#                          flag='update_weights', \n",
    "#                          verbose = verbose)\n",
    "    \n",
    "#         t_warmup.set_postfix({'curr_iter':ns.current_iter, \n",
    "#                             'Loss': f\"{environ.losses['total']['total'].item():.4f}\"})\n",
    "\n",
    "#-----------------------------------------\n",
    "# TQDM example\n",
    "#-----------------------------------------   \n",
    "# current_epoch = 1\n",
    "# total_epochs = 20\n",
    "# current_iter = 0 \n",
    "# train_minibatches = len(data_loader['train']) // minibatch_size\n",
    "# val_minibatches = len(data_loader['val']) // minibatch_size\n",
    "\n",
    "# # with batch_count, (batch_features, batch_labels, _, _, _, _) in tqdm(enumerate(data_loader['train']), initial=0, total = 400, position=0, file=sys.stdout,\n",
    "#             # leave= False, desc=f\" Epoch {current_epoch}/{total_epochs}\") as t_warmup :\n",
    "# t_warmup =  tqdm(enumerate(data_loader['train']), initial=0, total = train_minibatches, position=0, file=sys.stdout,\n",
    "#             leave= False, desc=f\" Epoch {current_epoch}/{total_epochs}\") \n",
    "# for batch_count, (batch_features, batch_labels, _, _, _, _) in t_warmup:\n",
    "#     # batch_count, (batch_features, batch_labels, _, _, _, _) = pp\n",
    "#     loss = random.random()\n",
    "#     t_warmup.set_postfix({'curr_iter':batch_count, 'Loss': f\"{loss:.4f}\"})"
   ]
  }
 ],
 "metadata": {
  "kernelspec": {
   "display_name": "Python [conda env:cp311]",
   "language": "python",
   "name": "conda-env-cp311-py"
  },
  "language_info": {
   "codemirror_mode": {
    "name": "ipython",
    "version": 3
   },
   "file_extension": ".py",
   "mimetype": "text/x-python",
   "name": "python",
   "nbconvert_exporter": "python",
   "pygments_lexer": "ipython3",
   "version": "3.11.4"
  }
 },
 "nbformat": 4,
 "nbformat_minor": 5
}
