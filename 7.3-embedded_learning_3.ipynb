{
 "cells": [
  {
   "cell_type": "markdown",
   "id": "418c282c-2b25-4f32-96cf-883b40b84c36",
   "metadata": {
    "editable": true,
    "slideshow": {
     "slide_type": ""
    },
    "tags": []
   },
   "source": [
    "  # Apply encoder to morphological profiles to get latent space representations :"
   ]
  },
  {
   "cell_type": "markdown",
   "id": "14da93a6-653f-4a55-9b3a-e72ab79a1121",
   "metadata": {},
   "source": [
    "# Setup"
   ]
  },
  {
   "cell_type": "code",
   "execution_count": 1,
   "id": "a104a277-3ad3-438a-b706-d4499f709f89",
   "metadata": {
    "ExecuteTime": {
     "end_time": "2023-04-12T10:29:16.111588Z",
     "start_time": "2023-04-12T10:29:15.764305Z"
    },
    "editable": true,
    "execution": {
     "iopub.execute_input": "2024-08-05T21:27:28.906961Z",
     "iopub.status.busy": "2024-08-05T21:27:28.906318Z",
     "iopub.status.idle": "2024-08-05T21:27:28.946474Z",
     "shell.execute_reply": "2024-08-05T21:27:28.945486Z",
     "shell.execute_reply.started": "2024-08-05T21:27:28.906900Z"
    },
    "slideshow": {
     "slide_type": ""
    },
    "tags": []
   },
   "outputs": [
    {
     "data": {
      "text/html": [
       "<style>.container { width:98% !important; }</style>"
      ],
      "text/plain": [
       "<IPython.core.display.HTML object>"
      ]
     },
     "metadata": {},
     "output_type": "display_data"
    }
   ],
   "source": [
    "%load_ext autoreload  \n",
    "%autoreload 2\n",
    "from IPython.display import display, HTML, Image\n",
    "from IPython.core.interactiveshell import InteractiveShell\n",
    "display(HTML(\"<style>.container { width:98% !important; }</style>\"))\n",
    "InteractiveShell.ast_node_interactivity = \"all\""
   ]
  },
  {
   "cell_type": "code",
   "execution_count": 2,
   "id": "7478f60a-2ea2-4407-bd91-f068349f222b",
   "metadata": {
    "ExecuteTime": {
     "end_time": "2023-04-12T10:29:16.111588Z",
     "start_time": "2023-04-12T10:29:15.764305Z"
    },
    "editable": true,
    "execution": {
     "iopub.execute_input": "2024-08-05T21:27:28.948941Z",
     "iopub.status.busy": "2024-08-05T21:27:28.948439Z",
     "iopub.status.idle": "2024-08-05T21:27:31.891505Z",
     "shell.execute_reply": "2024-08-05T21:27:31.890763Z",
     "shell.execute_reply.started": "2024-08-05T21:27:28.948899Z"
    },
    "slideshow": {
     "slide_type": ""
    },
    "tags": []
   },
   "outputs": [
    {
     "name": "stdout",
     "output_type": "stream",
     "text": [
      "insert ./src\n",
      "insert ../..\n",
      "['../..', './src', '/home/kevin/miniforge3/envs/ptsnnl/lib/python311.zip', '/home/kevin/miniforge3/envs/ptsnnl/lib/python3.11', '/home/kevin/miniforge3/envs/ptsnnl/lib/python3.11/lib-dynload', '', '/home/kevin/miniforge3/envs/ptsnnl/lib/python3.11/site-packages', '/home/kevin/miniforge3/envs/ptsnnl/lib/python3.11/site-packages/cytominer_eval-0.1-py3.11.egg']\n"
     ]
    }
   ],
   "source": [
    "import os\n",
    "import sys\n",
    "# import csv\n",
    "# import json\n",
    "# import time\n",
    "# import types\n",
    "# import copy\n",
    "import pprint\n",
    "import logging\n",
    "from datetime import datetime\n",
    "for p in ['./src','../..']:\n",
    "    if p not in sys.path:\n",
    "        print(f\"insert {p}\")\n",
    "        sys.path.insert(0, p)\n",
    "print(sys.path)\n",
    "# import shutil\n",
    "# import getpass\n",
    "# import yaml\n",
    "# import hydra\n",
    "# from hydra import initialize, initialize_config_module, initialize_config_dir, compose\n",
    "# from omegaconf import OmegaConf\n",
    "# from typing import Dict, List, Tuple\n",
    "# from scipy.sparse import csr_matrix\n",
    "# from tqdm import tqdm\n",
    "# import wandb\n",
    "\n",
    "import numpy as np\n",
    "import pandas as pd\n",
    "import scipy\n",
    "import torch\n",
    "# import torch.nn.functional as F\n",
    "# from torchinfo import summary\n",
    "\n",
    "torch.set_printoptions(precision=None, threshold=None, edgeitems=None, linewidth=150, profile=None, sci_mode=None)\n",
    "\n",
    "\n",
    "pp = pprint.PrettyPrinter(indent=4)\n",
    "pd.options.display.width = 132\n",
    "torch.set_printoptions(precision=None, threshold=None, edgeitems=None, linewidth=150, profile=None, sci_mode=None)\n",
    "np.set_printoptions(edgeitems=3, infstr='inf', linewidth=150, nanstr='nan')\n",
    "\n",
    "os.environ[\"WANDB_NOTEBOOK_NAME\"] = \"AE-MAIN-SNNL.ipynb\"\n",
    "# os.environ[\"CUDA_LAUNCH_BLOCKING\"] = \"1\"\n",
    "# os.environ[\"CUDA_VISIBLE_DEVICES\"] = \"2\""
   ]
  },
  {
   "cell_type": "code",
   "execution_count": 3,
   "id": "9473003f-757e-4cf6-b5da-491ae0e04f57",
   "metadata": {
    "editable": true,
    "execution": {
     "iopub.execute_input": "2024-08-05T21:27:31.893192Z",
     "iopub.status.busy": "2024-08-05T21:27:31.892765Z",
     "iopub.status.idle": "2024-08-05T21:27:34.396443Z",
     "shell.execute_reply": "2024-08-05T21:27:34.395240Z",
     "shell.execute_reply.started": "2024-08-05T21:27:31.893169Z"
    },
    "slideshow": {
     "slide_type": ""
    },
    "tags": []
   },
   "outputs": [],
   "source": [
    "# import snnl.utils as utils\n",
    "# from snnl.utils import parse_args, load_configuration, set_global_seed, get_device, set_device\n",
    "from KevinsRoutines.utils.utils_general import list_namespace, save_to_pickle, load_from_pickle"
   ]
  },
  {
   "cell_type": "code",
   "execution_count": 4,
   "id": "46fc79f1-4481-4f1c-bed7-a5e375ea3eae",
   "metadata": {
    "editable": true,
    "execution": {
     "iopub.execute_input": "2024-08-05T21:27:34.399737Z",
     "iopub.status.busy": "2024-08-05T21:27:34.398877Z",
     "iopub.status.idle": "2024-08-05T21:27:35.229544Z",
     "shell.execute_reply": "2024-08-05T21:27:35.228841Z",
     "shell.execute_reply.started": "2024-08-05T21:27:34.399693Z"
    },
    "slideshow": {
     "slide_type": ""
    },
    "tags": []
   },
   "outputs": [],
   "source": [
    "import scipy.stats as sps\n",
    "import sklearn.metrics as skm\n",
    "from scipy.spatial.distance import pdist, squareform, euclidean\n",
    "import matplotlib.pyplot as plt\n",
    "import seaborn as sb\n",
    "\n",
    "# from sklearn.metrics import accuracy_score, f1_score, roc_curve, roc_auc_score, classification_report, precision_recall_fscore_support\n",
    "# from sklearn.metrics import precision_recall_curve, PrecisionRecallDisplay, roc_curve, RocCurveDisplay\n",
    "# from sklearn.metrics import confusion_matrix, ConfusionMatrixDisplay"
   ]
  },
  {
   "cell_type": "code",
   "execution_count": 5,
   "id": "6651619f-dac6-4962-881e-8fd87b2cbfe2",
   "metadata": {
    "editable": true,
    "execution": {
     "iopub.execute_input": "2024-08-05T21:27:35.231476Z",
     "iopub.status.busy": "2024-08-05T21:27:35.231111Z",
     "iopub.status.idle": "2024-08-05T21:27:35.260053Z",
     "shell.execute_reply": "2024-08-05T21:27:35.259459Z",
     "shell.execute_reply.started": "2024-08-05T21:27:35.231452Z"
    },
    "slideshow": {
     "slide_type": ""
    },
    "tags": []
   },
   "outputs": [],
   "source": [
    "# # Models\n",
    "# from xgboost import XGBClassifier, XGBRegressor\n",
    "\n",
    "# import sklearn.metrics as skm\n",
    "# from sklearn.decomposition import PCA\n",
    "# from sklearn.manifold import TSNE\n",
    "\n",
    "# from sklearn.ensemble import RandomForestClassifier, RandomForestRegressor\n",
    "# from sklearn.svm import SVC, SVR\n",
    "# from sklearn.neighbors import KNeighborsClassifier, KNeighborsRegressor\n",
    "\n",
    "# # utility class to help normalize labels such that they contain only values between 0 and n_classes-1.\n",
    "# from sklearn.preprocessing import LabelEncoder\n",
    "\n",
    "# # K-Folds cross-validator - Provides train/test indices to split data in train/test sets. Split dataset into k consecutive folds (without shuffling by default).\n",
    "# # Each fold is then used once as a validation while the k - 1 remaining folds form the training set.\n",
    "# from sklearn.model_selection import KFold, StratifiedKFold\n",
    "# from sklearn.model_selection import GroupKFold, StratifiedGroupKFold\n",
    "# from sklearn.model_selection import ShuffleSplit, GroupShuffleSplit, StratifiedShuffleSplit, TimeSeriesSplit\n",
    "\n",
    "# # Evaluate metric(s) by cross-validation and also record fit/score times.\n",
    "# from sklearn.model_selection import cross_validate, cross_val_score\n",
    "\n",
    "# # Generate cross-validated estimates for each input data point.\n",
    "# # The data is split according to the cv parameter. Each sample belongs to exactly one test set,\n",
    "# # and its prediction is computed with an estimator fitted on the corresponding training set.\n",
    "# from sklearn.model_selection import cross_val_predict\n",
    "\n",
    "# # Exhaustive search over specified parameter values for an estimator.\n",
    "# # Randomized search on hyper parameters.\n",
    "# from sklearn.model_selection import GridSearchCV, RandomizedSearchCV\n",
    "\n",
    "# # Input checker utility for building a cross-validator.(?)\n",
    "# from sklearn.model_selection._split import check_cv\n",
    "\n",
    "# from sklearn.pipeline import Pipeline\n",
    "\n",
    "# # Make a scorer from a performance metric or loss function. This factory function wraps scoring\n",
    "# # functions for use in GridSearchCV and cross_val_score. It takes a score function, such as accuracy_score,\n",
    "# # mean_squared_error, adjusted_rand_score or average_precision_score and returns a callable that\n",
    "# # scores an estimator’s output. The signature of the call is (estimator, X, y) where estimator\n",
    "# # is the model to be evaluated, X is the data and y is the ground truth labeling (or None in the\n",
    "# # case of unsupervised models).\n",
    "# from sklearn.metrics import make_scorer\n",
    "\n",
    "# # regression matrics\n",
    "# from sklearn.metrics import mean_absolute_error, mean_squared_error, r2_score\n",
    "\n",
    "# # classification metrics\n",
    "# from sklearn.metrics import accuracy_score, confusion_matrix, classification_report\n",
    "\n",
    "# # from sklearn.base import BaseEstimator\n",
    "# # from sklearn.base import ClassifierMixin\n",
    "# # from sklearn.base import TransformerMixin\n",
    "\n",
    "# # Construct a new unfitted estimator with the same parameters. Clone does a deep copy of the model\n",
    "# # in an estimator without actually copying attached data. It returns a new estimator with the same\n",
    "# # parameters that has not been fitted on any data.\n",
    "# # from sklearn.base import clone\n",
    "# from sklearn.preprocessing import StandardScaler\n"
   ]
  },
  {
   "cell_type": "code",
   "execution_count": 6,
   "id": "c12352c5-443c-414b-bb2b-6ea5ba801515",
   "metadata": {
    "editable": true,
    "execution": {
     "iopub.execute_input": "2024-08-05T21:27:35.261445Z",
     "iopub.status.busy": "2024-08-05T21:27:35.261201Z",
     "iopub.status.idle": "2024-08-05T21:27:35.318954Z",
     "shell.execute_reply": "2024-08-05T21:27:35.318087Z",
     "shell.execute_reply.started": "2024-08-05T21:27:35.261423Z"
    },
    "scrolled": true,
    "slideshow": {
     "slide_type": ""
    },
    "tags": []
   },
   "outputs": [
    {
     "name": "stderr",
     "output_type": "stream",
     "text": [
      "2024-08-05 23:27:35,312 - __main__ - INFO: -  Excution started : 2024_08_05_23:27:35 \n",
      "2024-08-05 23:27:35,313 - __main__ - INFO: -  Pytorch version  : 2.2.2\n",
      "2024-08-05 23:27:35,314 - __main__ - INFO: -  Scipy version    : 1.12.0  \t\t Numpy version : 1.26.4\n",
      "2024-08-05 23:27:35,315 - __main__ - INFO: -  Pandas version: 2.2.1  \n"
     ]
    }
   ],
   "source": [
    "timestamp = datetime.now().strftime('%Y_%m_%d_%H:%M:%S')\n",
    "logger = logging.getLogger(__name__)\n",
    "logLevel = os.environ.get('LOG_LEVEL', 'INFO').upper()\n",
    "FORMAT = '%(asctime)s - %(name)s - %(levelname)s: - %(message)s'\n",
    "logging.basicConfig(level=\"INFO\", format= FORMAT)\n",
    "\n",
    "logger.info(f\" Excution started : {timestamp} \")\n",
    "logger.info(f\" Pytorch version  : {torch.__version__}\")\n",
    "logger.info(f\" Scipy version    : {scipy.__version__}  \\t\\t Numpy version : {np.__version__}\")\n",
    "logger.info(f\" Pandas version: {pd.__version__}  \")\n"
   ]
  },
  {
   "cell_type": "markdown",
   "id": "cdaa5260-01ce-4a98-b597-62c43c388f43",
   "metadata": {},
   "source": [
    "## Helper routines"
   ]
  },
  {
   "cell_type": "code",
   "execution_count": 435,
   "id": "fad41fd4-cbab-4881-92bc-0c04a9d2864a",
   "metadata": {
    "editable": true,
    "execution": {
     "iopub.execute_input": "2024-08-03T16:24:23.961093Z",
     "iopub.status.busy": "2024-08-03T16:24:23.960710Z",
     "iopub.status.idle": "2024-08-03T16:24:24.005497Z",
     "shell.execute_reply": "2024-08-03T16:24:24.004902Z",
     "shell.execute_reply.started": "2024-08-03T16:24:23.961061Z"
    },
    "slideshow": {
     "slide_type": ""
    },
    "tags": []
   },
   "outputs": [],
   "source": [
    "# model selection (hyperparameter tuning)\n",
    "\n",
    "def model_selection(model, params_grid, X, y,\n",
    "                    scoring = None, \n",
    "                    cv=5, n_jobs=6, pre_dispatch = None,\n",
    "                    GridSearch = True, n_iter=20,\n",
    "                    refit = True, verbose = 0):\n",
    "    \"\"\"\n",
    "    return the refitted model on the whole train data\n",
    "    input:\n",
    "    -----\n",
    "    model:          model to be grid searched\n",
    "    params_grid:    dictionary of hyperparms to grid search\n",
    "    X, y:           obvious\n",
    "    scoring:        scoring Strategy to evaluate the performance of the cross-validated model on the test set.\n",
    "    cv:             cross-validation fold, integer specifies the number of folds in a (Stratified)KFold,\n",
    "                    stratified is used if the estimator is a classifier and y is either binary or multiclass\n",
    "    n_iter          Number of parameter settings that are sampled in RandomizedSearchCV.\n",
    "                    n_iter trades off runtime vs quality of the solution.\n",
    "    refit:          Refit an estimator using the best found parameters on the whole dataset.\n",
    "    \"\"\"\n",
    "    print(f\" verbose is {verbose}\")\n",
    "    if verbose > 0:\n",
    "        print(f\" params_grid: {params_grid}\")\n",
    "        print(f\" scoring    : {scoring}     cv:  {cv}   n_jobs: {n_jobs}   gridsearch: {GridSearch}    n_iter: {n_iter}   refit: {refit}   \")\n",
    "    if pre_dispatch is None:\n",
    "        pre_dispatch = n_jobs\n",
    "    if GridSearch :\n",
    "        model_train = GridSearchCV(model, params_grid, \n",
    "                                   cv=cv, n_jobs=n_jobs,\n",
    "                                   scoring = scoring, \n",
    "                                   pre_dispatch = pre_dispatch,\n",
    "                                   refit = refit, verbose = verbose)\n",
    "    else:\n",
    "        model_train = RandomizedSearchCV(model, param_distributions = params_grid, \n",
    "                                         cv=cv, n_jobs=n_jobs, \n",
    "                                         n_iter = n_iter,\n",
    "                                         scoring=scoring,\n",
    "                                         pre_dispatch = pre_dispatch,\n",
    "                                         refit = refit, verbose = verbose)\n",
    "\n",
    "    model_train.fit(X, y)\n",
    "\n",
    "    print(\"Best parameters set found on development set:\", model_train.best_params_ )\n",
    "    print(\"Best score:\", model_train.best_score_ )\n",
    "\n",
    "    print(\"Grid scores on development set:\")\n",
    "    print()\n",
    "    means = model_train.cv_results_['mean_test_score']\n",
    "    stds = model_train.cv_results_['std_test_score']\n",
    "\n",
    "\n",
    "    for mean, std, params in zip(means, stds, model_train.cv_results_['params']):\n",
    "        print(\"%0.5f (+/-%0.03f) for %r\" % (mean, std * 2, params))\n",
    "    return model_train\n"
   ]
  },
  {
   "cell_type": "markdown",
   "id": "cdac793b-be20-4c56-8bab-989c05caad80",
   "metadata": {},
   "source": [
    "### main(args)"
   ]
  },
  {
   "cell_type": "code",
   "execution_count": 8,
   "id": "c25082b2-753b-4069-b183-00a90f611b68",
   "metadata": {
    "editable": true,
    "execution": {
     "iopub.execute_input": "2024-08-01T18:29:23.821655Z",
     "iopub.status.busy": "2024-08-01T18:29:23.821114Z",
     "iopub.status.idle": "2024-08-01T18:29:23.861798Z",
     "shell.execute_reply": "2024-08-01T18:29:23.860986Z",
     "shell.execute_reply.started": "2024-08-01T18:29:23.821611Z"
    },
    "slideshow": {
     "slide_type": ""
    },
    "tags": []
   },
   "outputs": [],
   "source": [
    "WANDB_ACTIVE  = False\n",
    "LATENT_DIM    = 150\n",
    "HIDDEN_1      = 512\n",
    "# HIDDEN_2    = '_256'\n",
    "HIDDEN_2      = ''\n",
    "DATE          = 'yyyymmdd-hhmm'\n",
    "LOAD_EPOCH    = 200\n",
    "EPOCHS        = 5\n",
    "COMPOUNDS_PER_BATCH = 200\n",
    "LEARNING_RATE = 1.00e-04\n",
    "TEMP          = 0.05\n",
    "TEMP_LR       = 1.00e-05\n",
    "# RUNMODE       = \"baseline\"\n",
    "# CONFIGURATION = \"./hyperparameters/ae_cp_150_512_cpb.yaml\"\n",
    "RUNMODE       = \"snnl\"\n",
    "CONFIGURATION   = \"./hyperparameters/ae_sn_150_512_cpb.yaml\"\n",
    "# CHECKPT       = f\"AE_snnl_dcpb{COMPOUNDS_PER_BATCH}_{LATENT_DIM}Ltnt_{HIDDEN_1}{HIDDEN_2}_{DATE}_LAST_ep_{LOAD_EPOCH:03d}.pt\"\n",
    "# CHECKPT       = \"AE_snnl_dcpb200_150Ltnt_512_20240709_2235_LAST_ep_700.pt\"\n",
    "# CHECKPT       = \"AE_snnl_dcpb200_150Ltnt_512_240709_2235_LAST_ep_705.pt\"\n",
    "# RUN_ID        = \"jzt6ecjz\"\n"
   ]
  },
  {
   "cell_type": "code",
   "execution_count": 9,
   "id": "60285362-f1d0-48f0-91d3-1787dce08036",
   "metadata": {
    "editable": true,
    "execution": {
     "iopub.execute_input": "2024-08-01T18:29:24.297813Z",
     "iopub.status.busy": "2024-08-01T18:29:24.297325Z",
     "iopub.status.idle": "2024-08-01T18:29:24.341413Z",
     "shell.execute_reply": "2024-08-01T18:29:24.340462Z",
     "shell.execute_reply.started": "2024-08-01T18:29:24.297776Z"
    },
    "slideshow": {
     "slide_type": ""
    },
    "tags": []
   },
   "outputs": [],
   "source": [
    "# ex_runmode = 'baseline'\n",
    "# ex_runmode = 'base'\n",
    "# ex_date = \"20240709\"\n",
    "# ex_time = \"1950\"\n",
    "# indicator = 's'\n",
    "SNNL_runmode = 'SNNL'\n",
    "BASE_runmode = 'BASELINE'\n",
    "\n",
    "base_date = \"20240718\"\n",
    "base_time = \"1956\"\n",
    "##\n",
    "snnl_date = \"20240718\"\n",
    "snnl_time = \"1956\"\n",
    "indicator = 'd'\n",
    "##\n",
    "ex_title = f\"scpb{COMPOUNDS_PER_BATCH}-{LATENT_DIM}Ltnt\"\n",
    "ex_cpb = 200\n",
    "suffix = '*'\n",
    "epochs = 50"
   ]
  },
  {
   "cell_type": "code",
   "execution_count": 14,
   "id": "c2d45c0c-8e38-4a67-80d4-69274f7eed33",
   "metadata": {
    "editable": true,
    "execution": {
     "iopub.execute_input": "2024-08-01T18:29:45.343946Z",
     "iopub.status.busy": "2024-08-01T18:29:45.343407Z",
     "iopub.status.idle": "2024-08-01T18:29:45.403026Z",
     "shell.execute_reply": "2024-08-01T18:29:45.402100Z",
     "shell.execute_reply.started": "2024-08-01T18:29:45.343905Z"
    },
    "slideshow": {
     "slide_type": ""
    },
    "tags": []
   },
   "outputs": [
    {
     "name": "stdout",
     "output_type": "stream",
     "text": [
      "161\n",
      "3sample_profiles_embedding_161_HashOrder_{runmode}_20240718_1956_BEST_{datatype}.csv\n",
      "3sample_profiles_embedding_161_HashOrder_{runmode}_20240718_1956_BEST_{datatype}.csv\n"
     ]
    }
   ],
   "source": [
    "# = utils.load_model_from_ckpt(model, ex_mode, ex_timestamp, ex_title, epochs, ex_cpb, ex_factor )\n",
    "output_file_cols = ['Metadata_Source', 'Metadata_Batch', 'Metadata_Plate', 'Metadata_Well', 'Metadata_JCP2022', 'Metadata_Hash', 'Metadata_Bin', 'Metadata_TPSA', 'Metadata_lnTPSA', 'Metadata_log10TPSA', 'Metadata_Permiation']\n",
    "output_file_cols += [f'Feature_{x:03d}' for x in range(LATENT_DIM)]\n",
    "output_path = f\"/home/kevin/WSL-shared/cellpainting/cj-datasets/output_11102023/3_sample_embeddings/\"\n",
    "print(len(output_file_cols))\n",
    "\n",
    "BASELINE_BEST_INPUT_FILE = f\"3sample_profiles_embedding_{len(output_file_cols)}_HashOrder_{{runmode}}_{base_date}_{base_time}_BEST_{{datatype}}.csv\"\n",
    "BASELINE_LAST_INPUT_FILE = f\"3sample_profiles_embedding_{len(output_file_cols)}_HashOrder_{{runmode}}_{base_date}_{base_time}_LAST_{{datatype}}.csv\"\n",
    "SNNL_BEST_INPUT_FILE = f\"3sample_profiles_embedding_{len(output_file_cols)}_HashOrder_{{runmode}}_{snnl_date}_{snnl_time}_BEST_{{datatype}}.csv\"\n",
    "SNNL_LAST_INPUT_FILE = f\"3sample_profiles_embedding_{len(output_file_cols)}_HashOrder_{{runmode}}_{snnl_date}_{sbbl_time}_LAST_{{datatype}}.csv\"\n",
    "\n",
    "print(BASELINE_BEST_INPUT_FILE)\n",
    "print(SNNL_BEST_INPUT_FILE)"
   ]
  },
  {
   "cell_type": "code",
   "execution_count": 15,
   "id": "666fae22-31c3-43b5-ac9f-50f5df9356f7",
   "metadata": {
    "execution": {
     "iopub.execute_input": "2024-08-01T18:29:46.488530Z",
     "iopub.status.busy": "2024-08-01T18:29:46.487925Z",
     "iopub.status.idle": "2024-08-01T18:29:46.549982Z",
     "shell.execute_reply": "2024-08-01T18:29:46.548973Z",
     "shell.execute_reply.started": "2024-08-01T18:29:46.488487Z"
    }
   },
   "outputs": [
    {
     "name": "stdout",
     "output_type": "stream",
     "text": [
      "/home/kevin/WSL-shared/cellpainting/cj-datasets/output_11102023/3_sample_embeddings/3sample_profiles_embedding_161_HashOrder_BASELINE_20240718_1956_BEST_train.csv\n",
      "/home/kevin/WSL-shared/cellpainting/cj-datasets/output_11102023/3_sample_embeddings/3sample_profiles_embedding_161_HashOrder_BASELINE_20240718_1956_BEST_test.csv\n",
      "/home/kevin/WSL-shared/cellpainting/cj-datasets/output_11102023/3_sample_embeddings/3sample_profiles_embedding_161_HashOrder_SNNL_20240718_1956_BEST_train.csv\n",
      "/home/kevin/WSL-shared/cellpainting/cj-datasets/output_11102023/3_sample_embeddings/3sample_profiles_embedding_161_HashOrder_SNNL_20240718_1956_BEST_test.csv\n"
     ]
    }
   ],
   "source": [
    "# BEST_OUTPUT_FILE = BASELINE_BEST_OUTPUT_FILE\n",
    "# LAST_OUTPUT_FILE = BASELINE_LAST_OUTPUT_FILE\n",
    "\n",
    "# OUTPUT_FILE = SNNL_LAST_OUTPUT_FILE\n",
    "INPUT_FILE = SNNL_BEST_INPUT_FILE\n",
    "for runmode in ['BASELINE', 'SNNL']:\n",
    "    for datatype in ['train', 'test']:\n",
    "        print(os.path.join(output_path, INPUT_FILE.format(runmode = runmode, datatype=datatype)))\n",
    "        # print(os.path.join(output_path, LAST_OUTPUT_FILE.format(datatype=datatype)))"
   ]
  },
  {
   "cell_type": "markdown",
   "id": "a967d653-5403-4533-9221-300cdf7c508e",
   "metadata": {
    "jp-MarkdownHeadingCollapsed": true
   },
   "source": [
    "# Input "
   ]
  },
  {
   "cell_type": "markdown",
   "id": "c0559cf4-2d97-4272-bf8d-e9a41b499dfb",
   "metadata": {
    "jp-MarkdownHeadingCollapsed": true
   },
   "source": [
    "## Read Embedded Features CSV file"
   ]
  },
  {
   "cell_type": "code",
   "execution_count": 16,
   "id": "ab7b33d4-10b8-44a2-a97b-3fb5e124812e",
   "metadata": {
    "editable": true,
    "execution": {
     "iopub.execute_input": "2024-08-01T18:29:47.354483Z",
     "iopub.status.busy": "2024-08-01T18:29:47.353908Z",
     "iopub.status.idle": "2024-08-01T18:29:47.417056Z",
     "shell.execute_reply": "2024-08-01T18:29:47.416202Z",
     "shell.execute_reply.started": "2024-08-01T18:29:47.354441Z"
    },
    "slideshow": {
     "slide_type": ""
    },
    "tags": []
   },
   "outputs": [
    {
     "data": {
      "text/plain": [
       "'/home/kevin/WSL-shared/cellpainting/cj-datasets/output_11102023/3_sample_embeddings/3sample_profiles_embedding_161_HashOrder_SNNL_20240718_1956_BEST_test.csv'"
      ]
     },
     "execution_count": 16,
     "metadata": {},
     "output_type": "execute_result"
    },
    {
     "data": {
      "text/plain": [
       "'/home/kevin/WSL-shared/cellpainting/cj-datasets/output_11102023/3_sample_embeddings/3sample_profiles_embedding_161_HashOrder_SNNL_20240718_1956_BEST_train.csv'"
      ]
     },
     "execution_count": 16,
     "metadata": {},
     "output_type": "execute_result"
    }
   ],
   "source": [
    "BASE_TRAIN_INPUT = os.path.join(output_path, INPUT_FILE.format(runmode = BASE_runmode ,datatype='train'))\n",
    "BASE_TEST_INPUT  = os.path.join(output_path, INPUT_FILE.format(runmode = BASE_runmode ,datatype='test'))\n",
    "SNNL_TRAIN_INPUT = os.path.join(output_path, INPUT_FILE.format(runmode = SNNL_runmode ,datatype='train'))\n",
    "SNNL_TEST_INPUT  = os.path.join(output_path, INPUT_FILE.format(runmode = SNNL_runmode ,datatype='test'))\n",
    "BASE_TRAIN_INPUT\n",
    "BASE_TEST_INPUT \n",
    "SNNL_TRAIN_INPUT\n",
    "SNNL_TEST_INPUT "
   ]
  },
  {
   "cell_type": "code",
   "execution_count": 17,
   "id": "8dff17ab-dd6a-49fe-8733-8f3448537618",
   "metadata": {
    "execution": {
     "iopub.execute_input": "2024-08-01T18:29:48.580445Z",
     "iopub.status.busy": "2024-08-01T18:29:48.579858Z",
     "iopub.status.idle": "2024-08-01T18:29:50.217095Z",
     "shell.execute_reply": "2024-08-01T18:29:50.216337Z",
     "shell.execute_reply.started": "2024-08-01T18:29:48.580402Z"
    }
   },
   "outputs": [],
   "source": [
    "df_test = pd.read_csv(TEST_INPUT )"
   ]
  },
  {
   "cell_type": "code",
   "execution_count": 18,
   "id": "9e7a273e-36aa-4b1b-8a49-3c911fe62659",
   "metadata": {
    "execution": {
     "iopub.execute_input": "2024-08-01T18:29:51.285477Z",
     "iopub.status.busy": "2024-08-01T18:29:51.284932Z",
     "iopub.status.idle": "2024-08-01T18:29:51.351782Z",
     "shell.execute_reply": "2024-08-01T18:29:51.350858Z",
     "shell.execute_reply.started": "2024-08-01T18:29:51.285437Z"
    }
   },
   "outputs": [
    {
     "name": "stdout",
     "output_type": "stream",
     "text": [
      "<class 'pandas.core.frame.DataFrame'>\n",
      "RangeIndex: 34542 entries, 0 to 34541\n",
      "Columns: 161 entries, Metadata_Source to Feature_149\n",
      "dtypes: float64(154), int64(2), object(5)\n",
      "memory usage: 42.4+ MB\n"
     ]
    },
    {
     "data": {
      "text/plain": [
       "(34542, 161)"
      ]
     },
     "execution_count": 18,
     "metadata": {},
     "output_type": "execute_result"
    },
    {
     "data": {
      "text/plain": [
       "Index(['Metadata_Source', 'Metadata_Batch', 'Metadata_Plate', 'Metadata_Well', 'Metadata_JCP2022', 'Metadata_Hash', 'Metadata_Bin',\n",
       "       'Metadata_TPSA', 'Metadata_lnTPSA', 'Metadata_log10TPSA',\n",
       "       ...\n",
       "       'Feature_140', 'Feature_141', 'Feature_142', 'Feature_143', 'Feature_144', 'Feature_145', 'Feature_146', 'Feature_147',\n",
       "       'Feature_148', 'Feature_149'],\n",
       "      dtype='object', length=161)"
      ]
     },
     "execution_count": 18,
     "metadata": {},
     "output_type": "execute_result"
    }
   ],
   "source": [
    "df_test.info()\n",
    "df_test.shape\n",
    "df_test.columns"
   ]
  },
  {
   "cell_type": "code",
   "execution_count": 19,
   "id": "39a0de32-44c7-4220-8ada-fb9fbb461a40",
   "metadata": {
    "execution": {
     "iopub.execute_input": "2024-08-01T18:29:51.499652Z",
     "iopub.status.busy": "2024-08-01T18:29:51.499131Z",
     "iopub.status.idle": "2024-08-01T18:29:51.577517Z",
     "shell.execute_reply": "2024-08-01T18:29:51.576453Z",
     "shell.execute_reply.started": "2024-08-01T18:29:51.499613Z"
    }
   },
   "outputs": [
    {
     "data": {
      "text/html": [
       "<div>\n",
       "<style scoped>\n",
       "    .dataframe tbody tr th:only-of-type {\n",
       "        vertical-align: middle;\n",
       "    }\n",
       "\n",
       "    .dataframe tbody tr th {\n",
       "        vertical-align: top;\n",
       "    }\n",
       "\n",
       "    .dataframe thead th {\n",
       "        text-align: right;\n",
       "    }\n",
       "</style>\n",
       "<table border=\"1\" class=\"dataframe\">\n",
       "  <thead>\n",
       "    <tr style=\"text-align: right;\">\n",
       "      <th></th>\n",
       "      <th>Metadata_Source</th>\n",
       "      <th>Metadata_Batch</th>\n",
       "      <th>Metadata_Plate</th>\n",
       "      <th>Metadata_Well</th>\n",
       "      <th>Metadata_JCP2022</th>\n",
       "      <th>Metadata_Hash</th>\n",
       "      <th>Metadata_Bin</th>\n",
       "      <th>Metadata_TPSA</th>\n",
       "      <th>Metadata_lnTPSA</th>\n",
       "      <th>Metadata_log10TPSA</th>\n",
       "      <th>Metadata_Permiation</th>\n",
       "      <th>Feature_000</th>\n",
       "      <th>Feature_001</th>\n",
       "    </tr>\n",
       "  </thead>\n",
       "  <tbody>\n",
       "    <tr>\n",
       "      <th>0</th>\n",
       "      <td>source_11</td>\n",
       "      <td>Batch2</td>\n",
       "      <td>EC000046</td>\n",
       "      <td>K04</td>\n",
       "      <td>JCP2022_009278</td>\n",
       "      <td>7406361908543180200</td>\n",
       "      <td>8</td>\n",
       "      <td>62.78</td>\n",
       "      <td>4.139637</td>\n",
       "      <td>1.797821</td>\n",
       "      <td>0.0</td>\n",
       "      <td>0.613709</td>\n",
       "      <td>0.704578</td>\n",
       "    </tr>\n",
       "    <tr>\n",
       "      <th>1</th>\n",
       "      <td>source_11</td>\n",
       "      <td>Batch2</td>\n",
       "      <td>EC000063</td>\n",
       "      <td>K04</td>\n",
       "      <td>JCP2022_009278</td>\n",
       "      <td>7406361908543180200</td>\n",
       "      <td>8</td>\n",
       "      <td>62.78</td>\n",
       "      <td>4.139637</td>\n",
       "      <td>1.797821</td>\n",
       "      <td>0.0</td>\n",
       "      <td>0.396030</td>\n",
       "      <td>1.886775</td>\n",
       "    </tr>\n",
       "    <tr>\n",
       "      <th>2</th>\n",
       "      <td>source_9</td>\n",
       "      <td>20211013-Run14</td>\n",
       "      <td>GR00003281</td>\n",
       "      <td>J15</td>\n",
       "      <td>JCP2022_009278</td>\n",
       "      <td>7406361908543180200</td>\n",
       "      <td>8</td>\n",
       "      <td>62.78</td>\n",
       "      <td>4.139637</td>\n",
       "      <td>1.797821</td>\n",
       "      <td>0.0</td>\n",
       "      <td>0.967456</td>\n",
       "      <td>-0.243835</td>\n",
       "    </tr>\n",
       "    <tr>\n",
       "      <th>3</th>\n",
       "      <td>source_5</td>\n",
       "      <td>JUMPCPE-20210908-Run28_20210909_072022</td>\n",
       "      <td>AETJUM107</td>\n",
       "      <td>J10</td>\n",
       "      <td>JCP2022_045457</td>\n",
       "      <td>7406621140030190348</td>\n",
       "      <td>12</td>\n",
       "      <td>33.20</td>\n",
       "      <td>3.502550</td>\n",
       "      <td>1.521138</td>\n",
       "      <td>0.0</td>\n",
       "      <td>-0.355203</td>\n",
       "      <td>0.057036</td>\n",
       "    </tr>\n",
       "    <tr>\n",
       "      <th>4</th>\n",
       "      <td>source_11</td>\n",
       "      <td>Batch3</td>\n",
       "      <td>EC000139</td>\n",
       "      <td>G04</td>\n",
       "      <td>JCP2022_045457</td>\n",
       "      <td>7406621140030190348</td>\n",
       "      <td>12</td>\n",
       "      <td>33.20</td>\n",
       "      <td>3.502550</td>\n",
       "      <td>1.521138</td>\n",
       "      <td>0.0</td>\n",
       "      <td>1.246175</td>\n",
       "      <td>0.795314</td>\n",
       "    </tr>\n",
       "  </tbody>\n",
       "</table>\n",
       "</div>"
      ],
      "text/plain": [
       "  Metadata_Source                          Metadata_Batch Metadata_Plate Metadata_Well Metadata_JCP2022        Metadata_Hash  \\\n",
       "0       source_11                                  Batch2       EC000046           K04   JCP2022_009278  7406361908543180200   \n",
       "1       source_11                                  Batch2       EC000063           K04   JCP2022_009278  7406361908543180200   \n",
       "2        source_9                          20211013-Run14     GR00003281           J15   JCP2022_009278  7406361908543180200   \n",
       "3        source_5  JUMPCPE-20210908-Run28_20210909_072022      AETJUM107           J10   JCP2022_045457  7406621140030190348   \n",
       "4       source_11                                  Batch3       EC000139           G04   JCP2022_045457  7406621140030190348   \n",
       "\n",
       "   Metadata_Bin  Metadata_TPSA  Metadata_lnTPSA  Metadata_log10TPSA  Metadata_Permiation  Feature_000  Feature_001  \n",
       "0             8          62.78         4.139637            1.797821                  0.0     0.613709     0.704578  \n",
       "1             8          62.78         4.139637            1.797821                  0.0     0.396030     1.886775  \n",
       "2             8          62.78         4.139637            1.797821                  0.0     0.967456    -0.243835  \n",
       "3            12          33.20         3.502550            1.521138                  0.0    -0.355203     0.057036  \n",
       "4            12          33.20         3.502550            1.521138                  0.0     1.246175     0.795314  "
      ]
     },
     "execution_count": 19,
     "metadata": {},
     "output_type": "execute_result"
    }
   ],
   "source": [
    "df_test.iloc[:5,:13]"
   ]
  },
  {
   "cell_type": "code",
   "execution_count": 20,
   "id": "e21aa50d-b501-4532-9c1f-62a2c960f48d",
   "metadata": {
    "execution": {
     "iopub.execute_input": "2024-08-01T18:29:52.660126Z",
     "iopub.status.busy": "2024-08-01T18:29:52.659579Z",
     "iopub.status.idle": "2024-08-01T18:30:06.573618Z",
     "shell.execute_reply": "2024-08-01T18:30:06.572290Z",
     "shell.execute_reply.started": "2024-08-01T18:29:52.660086Z"
    }
   },
   "outputs": [],
   "source": [
    "df_train = pd.read_csv(TRAIN_INPUT)\n",
    "# df_train = pd.read_csv(TRAIN_INPUT, nrows = 100 )\n",
    "# df_train = pd.read_csv(TRAIN_INPUT, usecols = ['Metadata_Batch'])"
   ]
  },
  {
   "cell_type": "code",
   "execution_count": 615,
   "id": "8e266886-b249-4370-84ef-242c34c98e72",
   "metadata": {
    "execution": {
     "iopub.execute_input": "2024-08-05T18:58:20.250465Z",
     "iopub.status.busy": "2024-08-05T18:58:20.250120Z",
     "iopub.status.idle": "2024-08-05T18:58:20.320033Z",
     "shell.execute_reply": "2024-08-05T18:58:20.319252Z",
     "shell.execute_reply.started": "2024-08-05T18:58:20.250438Z"
    }
   },
   "outputs": [
    {
     "data": {
      "text/plain": [
       "4164"
      ]
     },
     "execution_count": 615,
     "metadata": {},
     "output_type": "execute_result"
    },
    {
     "data": {
      "text/plain": [
       "((34542,), numpy.ndarray, dtype('uint8'))"
      ]
     },
     "execution_count": 615,
     "metadata": {},
     "output_type": "execute_result"
    },
    {
     "data": {
      "text/plain": [
       "((34542, 150), numpy.ndarray, dtype('float64'))"
      ]
     },
     "execution_count": 615,
     "metadata": {},
     "output_type": "execute_result"
    }
   ],
   "source": [
    "test_y = df_test.iloc[:,10:11].to_numpy().ravel().astype(np.uint8)\n",
    "test_y.sum()\n",
    "test_y.shape, type(test_y), test_y.dtype\n",
    "test_X = df_test.iloc[:,11:].to_numpy()\n",
    "test_X.shape,type(test_X), test_X.dtype"
   ]
  },
  {
   "cell_type": "code",
   "execution_count": 617,
   "id": "b5ccbf57-4fa7-4842-919b-103d14e44c79",
   "metadata": {
    "execution": {
     "iopub.execute_input": "2024-08-05T18:59:03.488309Z",
     "iopub.status.busy": "2024-08-05T18:59:03.487885Z",
     "iopub.status.idle": "2024-08-05T18:59:03.613080Z",
     "shell.execute_reply": "2024-08-05T18:59:03.612350Z",
     "shell.execute_reply.started": "2024-08-05T18:59:03.488276Z"
    }
   },
   "outputs": [
    {
     "data": {
      "text/plain": [
       "(312000, 161)"
      ]
     },
     "execution_count": 617,
     "metadata": {},
     "output_type": "execute_result"
    },
    {
     "name": "stdout",
     "output_type": "stream",
     "text": [
      "<class 'pandas.core.frame.DataFrame'>\n",
      "RangeIndex: 312000 entries, 0 to 311999\n",
      "Columns: 161 entries, Metadata_Source to Feature_149\n",
      "dtypes: float64(154), int64(2), object(5)\n",
      "memory usage: 383.2+ MB\n"
     ]
    },
    {
     "data": {
      "text/html": [
       "<div>\n",
       "<style scoped>\n",
       "    .dataframe tbody tr th:only-of-type {\n",
       "        vertical-align: middle;\n",
       "    }\n",
       "\n",
       "    .dataframe tbody tr th {\n",
       "        vertical-align: top;\n",
       "    }\n",
       "\n",
       "    .dataframe thead th {\n",
       "        text-align: right;\n",
       "    }\n",
       "</style>\n",
       "<table border=\"1\" class=\"dataframe\">\n",
       "  <thead>\n",
       "    <tr style=\"text-align: right;\">\n",
       "      <th></th>\n",
       "      <th>Metadata_Source</th>\n",
       "      <th>Metadata_Batch</th>\n",
       "      <th>Metadata_Plate</th>\n",
       "      <th>Metadata_Well</th>\n",
       "      <th>Metadata_JCP2022</th>\n",
       "      <th>Metadata_Hash</th>\n",
       "      <th>Metadata_Bin</th>\n",
       "      <th>Metadata_TPSA</th>\n",
       "      <th>Metadata_lnTPSA</th>\n",
       "      <th>Metadata_log10TPSA</th>\n",
       "      <th>Metadata_Permiation</th>\n",
       "      <th>Feature_000</th>\n",
       "      <th>Feature_001</th>\n",
       "      <th>Feature_002</th>\n",
       "      <th>Feature_003</th>\n",
       "      <th>Feature_004</th>\n",
       "    </tr>\n",
       "  </thead>\n",
       "  <tbody>\n",
       "    <tr>\n",
       "      <th>0</th>\n",
       "      <td>source_1</td>\n",
       "      <td>Batch5_20221030</td>\n",
       "      <td>UL001793</td>\n",
       "      <td>M26</td>\n",
       "      <td>JCP2022_006020</td>\n",
       "      <td>-9223347314827979542</td>\n",
       "      <td>10</td>\n",
       "      <td>71.18</td>\n",
       "      <td>4.265212</td>\n",
       "      <td>1.852358</td>\n",
       "      <td>0.0</td>\n",
       "      <td>-0.584816</td>\n",
       "      <td>1.739848</td>\n",
       "      <td>-0.512839</td>\n",
       "      <td>0.171693</td>\n",
       "      <td>-0.277947</td>\n",
       "    </tr>\n",
       "    <tr>\n",
       "      <th>1</th>\n",
       "      <td>source_10</td>\n",
       "      <td>2021_06_22_U2OS_48_hr_run8</td>\n",
       "      <td>Dest210622-143628</td>\n",
       "      <td>M04</td>\n",
       "      <td>JCP2022_006020</td>\n",
       "      <td>-9223347314827979542</td>\n",
       "      <td>10</td>\n",
       "      <td>71.18</td>\n",
       "      <td>4.265212</td>\n",
       "      <td>1.852358</td>\n",
       "      <td>0.0</td>\n",
       "      <td>0.072229</td>\n",
       "      <td>4.545980</td>\n",
       "      <td>-0.728832</td>\n",
       "      <td>-6.005501</td>\n",
       "      <td>0.926439</td>\n",
       "    </tr>\n",
       "    <tr>\n",
       "      <th>2</th>\n",
       "      <td>source_3</td>\n",
       "      <td>CP_31_all_Phenix1</td>\n",
       "      <td>B040603b</td>\n",
       "      <td>G13</td>\n",
       "      <td>JCP2022_006020</td>\n",
       "      <td>-9223347314827979542</td>\n",
       "      <td>10</td>\n",
       "      <td>71.18</td>\n",
       "      <td>4.265212</td>\n",
       "      <td>1.852358</td>\n",
       "      <td>0.0</td>\n",
       "      <td>1.418385</td>\n",
       "      <td>4.461677</td>\n",
       "      <td>2.481470</td>\n",
       "      <td>-0.635005</td>\n",
       "      <td>-2.307799</td>\n",
       "    </tr>\n",
       "    <tr>\n",
       "      <th>3</th>\n",
       "      <td>source_6</td>\n",
       "      <td>p211004CPU2OS48hw384exp031JUMP</td>\n",
       "      <td>110000295562</td>\n",
       "      <td>M08</td>\n",
       "      <td>JCP2022_058905</td>\n",
       "      <td>-9223229703754907651</td>\n",
       "      <td>13</td>\n",
       "      <td>58.65</td>\n",
       "      <td>4.071588</td>\n",
       "      <td>1.768268</td>\n",
       "      <td>0.0</td>\n",
       "      <td>-2.747379</td>\n",
       "      <td>0.744657</td>\n",
       "      <td>2.082911</td>\n",
       "      <td>1.504725</td>\n",
       "      <td>1.156345</td>\n",
       "    </tr>\n",
       "    <tr>\n",
       "      <th>4</th>\n",
       "      <td>source_3</td>\n",
       "      <td>CP_32_all_Phenix1</td>\n",
       "      <td>B40003aW</td>\n",
       "      <td>M08</td>\n",
       "      <td>JCP2022_058905</td>\n",
       "      <td>-9223229703754907651</td>\n",
       "      <td>13</td>\n",
       "      <td>58.65</td>\n",
       "      <td>4.071588</td>\n",
       "      <td>1.768268</td>\n",
       "      <td>0.0</td>\n",
       "      <td>0.559964</td>\n",
       "      <td>1.732896</td>\n",
       "      <td>0.296971</td>\n",
       "      <td>-1.477167</td>\n",
       "      <td>1.171373</td>\n",
       "    </tr>\n",
       "  </tbody>\n",
       "</table>\n",
       "</div>"
      ],
      "text/plain": [
       "  Metadata_Source                  Metadata_Batch     Metadata_Plate Metadata_Well Metadata_JCP2022        Metadata_Hash  \\\n",
       "0        source_1                 Batch5_20221030           UL001793           M26   JCP2022_006020 -9223347314827979542   \n",
       "1       source_10      2021_06_22_U2OS_48_hr_run8  Dest210622-143628           M04   JCP2022_006020 -9223347314827979542   \n",
       "2        source_3               CP_31_all_Phenix1           B040603b           G13   JCP2022_006020 -9223347314827979542   \n",
       "3        source_6  p211004CPU2OS48hw384exp031JUMP       110000295562           M08   JCP2022_058905 -9223229703754907651   \n",
       "4        source_3               CP_32_all_Phenix1           B40003aW           M08   JCP2022_058905 -9223229703754907651   \n",
       "\n",
       "   Metadata_Bin  Metadata_TPSA  Metadata_lnTPSA  Metadata_log10TPSA  Metadata_Permiation  Feature_000  Feature_001  Feature_002  \\\n",
       "0            10          71.18         4.265212            1.852358                  0.0    -0.584816     1.739848    -0.512839   \n",
       "1            10          71.18         4.265212            1.852358                  0.0     0.072229     4.545980    -0.728832   \n",
       "2            10          71.18         4.265212            1.852358                  0.0     1.418385     4.461677     2.481470   \n",
       "3            13          58.65         4.071588            1.768268                  0.0    -2.747379     0.744657     2.082911   \n",
       "4            13          58.65         4.071588            1.768268                  0.0     0.559964     1.732896     0.296971   \n",
       "\n",
       "   Feature_003  Feature_004  \n",
       "0     0.171693    -0.277947  \n",
       "1    -6.005501     0.926439  \n",
       "2    -0.635005    -2.307799  \n",
       "3     1.504725     1.156345  \n",
       "4    -1.477167     1.171373  "
      ]
     },
     "execution_count": 617,
     "metadata": {},
     "output_type": "execute_result"
    }
   ],
   "source": [
    "df_train.shape\n",
    "df_train.info()\n",
    "df_train.iloc[:5,:16]"
   ]
  },
  {
   "cell_type": "code",
   "execution_count": 26,
   "id": "8b7d392e-68eb-4474-ad37-12244f4d23b0",
   "metadata": {
    "execution": {
     "iopub.execute_input": "2024-08-01T18:30:22.776484Z",
     "iopub.status.busy": "2024-08-01T18:30:22.775957Z",
     "iopub.status.idle": "2024-08-01T18:30:22.832600Z",
     "shell.execute_reply": "2024-08-01T18:30:22.831596Z",
     "shell.execute_reply.started": "2024-08-01T18:30:22.776444Z"
    }
   },
   "outputs": [
    {
     "data": {
      "text/plain": [
       "346542"
      ]
     },
     "execution_count": 26,
     "metadata": {},
     "output_type": "execute_result"
    }
   ],
   "source": [
    "312000+34542"
   ]
  },
  {
   "cell_type": "code",
   "execution_count": 618,
   "id": "8710ee4c-badf-4f28-a214-f8354f6c1e5f",
   "metadata": {
    "execution": {
     "iopub.execute_input": "2024-08-05T18:59:55.274716Z",
     "iopub.status.busy": "2024-08-05T18:59:55.274258Z",
     "iopub.status.idle": "2024-08-05T18:59:57.938573Z",
     "shell.execute_reply": "2024-08-05T18:59:57.937715Z",
     "shell.execute_reply.started": "2024-08-05T18:59:55.274678Z"
    }
   },
   "outputs": [
    {
     "data": {
      "text/plain": [
       "37164"
      ]
     },
     "execution_count": 618,
     "metadata": {},
     "output_type": "execute_result"
    },
    {
     "data": {
      "text/plain": [
       "((312000,), numpy.ndarray, dtype('uint8'))"
      ]
     },
     "execution_count": 618,
     "metadata": {},
     "output_type": "execute_result"
    },
    {
     "data": {
      "text/plain": [
       "((312000, 150), numpy.ndarray, dtype('float64'))"
      ]
     },
     "execution_count": 618,
     "metadata": {},
     "output_type": "execute_result"
    }
   ],
   "source": [
    "train_y = df_train.iloc[:,10:11].to_numpy().ravel().astype(np.uint8)\n",
    "train_y.sum()\n",
    "train_y.shape, type(train_y), train_y.dtype\n",
    "\n",
    "train_X = df_train.iloc[:,11:].to_numpy()\n",
    "train_X.shape,type(train_X) ,train_X.dtype"
   ]
  },
  {
   "cell_type": "markdown",
   "id": "6fe81c72-1a16-4661-abdf-515d3cf37658",
   "metadata": {
    "jp-MarkdownHeadingCollapsed": true
   },
   "source": [
    "## Standardize inputs"
   ]
  },
  {
   "cell_type": "code",
   "execution_count": 619,
   "id": "f0e166f8-7c19-4113-b2c8-798b367e840c",
   "metadata": {
    "execution": {
     "iopub.execute_input": "2024-08-05T19:00:33.908202Z",
     "iopub.status.busy": "2024-08-05T19:00:33.907453Z",
     "iopub.status.idle": "2024-08-05T19:00:41.033685Z",
     "shell.execute_reply": "2024-08-05T19:00:41.032940Z",
     "shell.execute_reply.started": "2024-08-05T19:00:33.908137Z"
    }
   },
   "outputs": [
    {
     "name": "stdout",
     "output_type": "stream",
     "text": [
      "Train_X :  Min: -72.2029    Max: 103.8641   Mean: 0.0527  Std: 2.5164\n",
      "Test_X  :  Min: -53.3835    Max: 71.4748    Mean: 0.0529  Std: 2.4997\n"
     ]
    }
   ],
   "source": [
    "print(f\"Train_X :  Min: {train_X.min():.4f}    Max: {train_X.max():.4f}   Mean: {train_X.mean():.4f}  Std: {train_X.std():.4f}\")\n",
    "print(f\"Test_X  :  Min: {test_X.min():.4f}    Max: {test_X.max():.4f}    Mean: {test_X.mean():.4f}  Std: {test_X.std():.4f}\")"
   ]
  },
  {
   "cell_type": "code",
   "execution_count": 620,
   "id": "a9405556-1159-4dff-9b35-aa0b940668b1",
   "metadata": {
    "execution": {
     "iopub.execute_input": "2024-08-05T19:00:53.122587Z",
     "iopub.status.busy": "2024-08-05T19:00:53.122167Z",
     "iopub.status.idle": "2024-08-05T19:00:53.158912Z",
     "shell.execute_reply": "2024-08-05T19:00:53.158150Z",
     "shell.execute_reply.started": "2024-08-05T19:00:53.122543Z"
    }
   },
   "outputs": [],
   "source": [
    "# print(f\"Train_X :  Min: {train_X.min():.4f}    Max: {train_X.max():.4f}   Mean: {train_X.mean():.4f}  Std: {train_X.std():.4f}\")\n",
    "# print(f\"Test_X  :  Min: {test_X.min():.4f}    Max: {test_X.max():.4f}    Mean: {test_X.mean():.4f}  Std: {test_X.std():.4f}\")"
   ]
  },
  {
   "cell_type": "code",
   "execution_count": 621,
   "id": "94b469ab-98e6-4a6a-83d1-22f5c0634433",
   "metadata": {
    "execution": {
     "iopub.execute_input": "2024-08-05T19:00:55.486362Z",
     "iopub.status.busy": "2024-08-05T19:00:55.485889Z",
     "iopub.status.idle": "2024-08-05T19:01:06.354980Z",
     "shell.execute_reply": "2024-08-05T19:01:06.354109Z",
     "shell.execute_reply.started": "2024-08-05T19:00:55.486323Z"
    }
   },
   "outputs": [],
   "source": [
    "scaler = StandardScaler(copy = True)\n",
    "train_X = scaler.fit_transform(train_X)\n",
    "test_X = scaler.transform(test_X)"
   ]
  },
  {
   "cell_type": "code",
   "execution_count": 622,
   "id": "0ecee7ee-224f-469d-88c3-f4677cdc2afe",
   "metadata": {
    "execution": {
     "iopub.execute_input": "2024-08-05T19:01:13.946463Z",
     "iopub.status.busy": "2024-08-05T19:01:13.946020Z",
     "iopub.status.idle": "2024-08-05T19:01:16.963257Z",
     "shell.execute_reply": "2024-08-05T19:01:16.962253Z",
     "shell.execute_reply.started": "2024-08-05T19:01:13.946426Z"
    }
   },
   "outputs": [
    {
     "name": "stdout",
     "output_type": "stream",
     "text": [
      "After Standard Scaler Transformation\n",
      "Train_X :  Min: -33.4514    Max: 27.3319   Mean: -0.0000  Std: 1.0000\n",
      "Test_X  :  Min: -24.2626    Max: 28.1195    Mean: 0.0003  Std: 0.9889\n"
     ]
    }
   ],
   "source": [
    "print(\"After Standard Scaler Transformation\")\n",
    "print(f\"Train_X :  Min: {train_X.min():.4f}    Max: {train_X.max():.4f}   Mean: {train_X.mean():.4f}  Std: {train_X.std():.4f}\")\n",
    "print(f\"Test_X  :  Min: {test_X.min():.4f}    Max: {test_X.max():.4f}    Mean: {test_X.mean():.4f}  Std: {test_X.std():.4f}\")\n"
   ]
  },
  {
   "cell_type": "code",
   "execution_count": 623,
   "id": "c3b3616c-e89b-4cdc-ab4c-e48ba0846a8e",
   "metadata": {
    "execution": {
     "iopub.execute_input": "2024-08-05T19:01:57.328685Z",
     "iopub.status.busy": "2024-08-05T19:01:57.328153Z",
     "iopub.status.idle": "2024-08-05T19:01:57.388925Z",
     "shell.execute_reply": "2024-08-05T19:01:57.387905Z",
     "shell.execute_reply.started": "2024-08-05T19:01:57.328646Z"
    }
   },
   "outputs": [
    {
     "name": "stdout",
     "output_type": "stream",
     "text": [
      " Training\n",
      " Total samples: 312000\n",
      " Label 0: 274,836      % 88.09 \n",
      " Label 1:  37,164      % 11.91 \n",
      "\n",
      " Test\n",
      " Total samples: 34542\n",
      " Label 0:  30,378      % 87.95 \n",
      " Label 1:   4,164      % 12.05 \n",
      "\n"
     ]
    }
   ],
   "source": [
    "label_counts([(\"Training\", train_y), (\"Test\", test_y)])\n",
    "# for grp_name, labels in [(\"Training\", train_y), (\"Test\", test_y)]:\n",
    "#     bcnt = np.bincount(labels.astype(np.int64))\n",
    "#     print(f\" {grp_name}\")\n",
    "#     print(f\" Total samples: {bcnt.sum()}\")\n",
    "#     print(f\" Label 0: {bcnt[0]:>7d}      % {bcnt[0]*100/bcnt.sum():2.2f} \")\n",
    "#     print(f\" Label 0: {bcnt[1]:>7d}      % {bcnt[1]*100/bcnt.sum():2.2f} \")\n",
    "#     print(\"\")"
   ]
  },
  {
   "cell_type": "markdown",
   "id": "5b413996-c395-4f26-8354-b1a408a6140a",
   "metadata": {
    "jp-MarkdownHeadingCollapsed": true
   },
   "source": [
    "## Modify TPSA Threshold"
   ]
  },
  {
   "cell_type": "code",
   "execution_count": 269,
   "id": "9ca4e52f-46c9-4506-8b0d-239f045f04ac",
   "metadata": {
    "execution": {
     "iopub.execute_input": "2024-08-02T19:43:18.952547Z",
     "iopub.status.busy": "2024-08-02T19:43:18.952152Z",
     "iopub.status.idle": "2024-08-02T19:43:18.990375Z",
     "shell.execute_reply": "2024-08-02T19:43:18.989668Z",
     "shell.execute_reply.started": "2024-08-02T19:43:18.952516Z"
    }
   },
   "outputs": [
    {
     "data": {
      "text/plain": [
       "104000.0"
      ]
     },
     "execution_count": 269,
     "metadata": {},
     "output_type": "execute_result"
    }
   ],
   "source": [
    "train_y_72 = np.zeros_like(train_y)\n",
    "train_y_72.shape[0]/3"
   ]
  },
  {
   "cell_type": "code",
   "execution_count": 42,
   "id": "e11392e3-cbea-49a8-9a0b-2030c1a0aee1",
   "metadata": {
    "editable": true,
    "execution": {
     "iopub.execute_input": "2024-01-24T12:31:19.584307Z",
     "iopub.status.busy": "2024-01-24T12:31:19.583896Z",
     "iopub.status.idle": "2024-01-24T12:31:19.647754Z",
     "shell.execute_reply": "2024-01-24T12:31:19.646662Z",
     "shell.execute_reply.started": "2024-01-24T12:31:19.584277Z"
    },
    "slideshow": {
     "slide_type": ""
    },
    "tags": []
   },
   "outputs": [
    {
     "name": "stdout",
     "output_type": "stream",
     "text": [
      "                  min           max           std          mean           median\n",
      "TPSA             3.2400000  2834.6700000    32.8859880    73.6213196    71.3600000\n",
      "lnTPSA           1.1755733     7.9496808     0.3917724     4.2261118     4.2677375\n",
      "log10TPSA        0.5105450     3.4525025     0.1701446     1.8353770     1.8534548\n"
     ]
    },
    {
     "data": {
      "text/plain": [
       "116691"
      ]
     },
     "execution_count": 42,
     "metadata": {},
     "output_type": "execute_result"
    },
    {
     "data": {
      "text/plain": [
       "0.12232305833354758"
      ]
     },
     "execution_count": 42,
     "metadata": {},
     "output_type": "execute_result"
    },
    {
     "data": {
      "text/plain": [
       "0.8776769416664524"
      ]
     },
     "execution_count": 42,
     "metadata": {},
     "output_type": "execute_result"
    }
   ],
   "source": [
    "print(f\"                  min           max           std          mean           median\")\n",
    "for x in ['TPSA', 'lnTPSA', 'log10TPSA']:\n",
    "    print(f\"{x:12s} {df_train[x].min():13.7f} {df_train[x].max():13.7f} {df_train[x].std():13.7f} {df_train[x].mean():13.7f} {df_train[x].median():13.7f}\") \n",
    "\n",
    "df_train.TPSA.count()\n",
    "df_train[df_train.TPSA >= THRESHOLD].TPSA.count()/df_train.TPSA.count()\n",
    "df_train[df_train.TPSA < THRESHOLD].TPSA.count()/df_train.TPSA.count()\n"
   ]
  },
  {
   "cell_type": "code",
   "execution_count": 203,
   "id": "d5f5bab9-6b23-4078-a398-dccbea38ae78",
   "metadata": {
    "execution": {
     "iopub.execute_input": "2024-08-02T18:25:44.400889Z",
     "iopub.status.busy": "2024-08-02T18:25:44.400409Z",
     "iopub.status.idle": "2024-08-02T18:25:44.451332Z",
     "shell.execute_reply": "2024-08-02T18:25:44.450555Z",
     "shell.execute_reply.started": "2024-08-02T18:25:44.400850Z"
    }
   },
   "outputs": [
    {
     "data": {
      "text/plain": [
       "(274836, 37164)"
      ]
     },
     "execution_count": 203,
     "metadata": {},
     "output_type": "execute_result"
    }
   ],
   "source": [
    "_tmp = df_train.Metadata_Permiation.value_counts()\n",
    "_tmp[0], _tmp[1]"
   ]
  },
  {
   "cell_type": "code",
   "execution_count": 264,
   "id": "d59dcba1-6add-4446-aa27-a30564f42e54",
   "metadata": {
    "editable": true,
    "execution": {
     "iopub.execute_input": "2024-08-02T19:17:47.830206Z",
     "iopub.status.busy": "2024-08-02T19:17:47.829809Z",
     "iopub.status.idle": "2024-08-02T19:17:47.877739Z",
     "shell.execute_reply": "2024-08-02T19:17:47.877049Z",
     "shell.execute_reply.started": "2024-08-02T19:17:47.830173Z"
    },
    "slideshow": {
     "slide_type": ""
    },
    "tags": []
   },
   "outputs": [
    {
     "name": "stdout",
     "output_type": "stream",
     "text": [
      "\n",
      " TPSA threshold 68 \n",
      " Total samples: 312000\n",
      " Label 0:  138900      % 44.52 \n",
      " Label 1:  173100      % 55.48 \n",
      "\n",
      " TPSA threshold 69 \n",
      " Total samples: 312000\n",
      " Label 0:  144249      % 46.23 \n",
      " Label 1:  167751      % 53.77 \n",
      "\n",
      " TPSA threshold 70 \n",
      " Total samples: 312000\n",
      " Label 0:  149058      % 47.77 \n",
      " Label 1:  162942      % 52.23 \n",
      "\n",
      " TPSA threshold 71 \n",
      " Total samples: 312000\n",
      " Label 0:  154125      % 49.40 \n",
      " Label 1:  157875      % 50.60 \n",
      "\n",
      " TPSA threshold 72 \n",
      " Total samples: 312000\n",
      " Label 0:  160203      % 51.35 \n",
      " Label 1:  151797      % 48.65 \n",
      "\n",
      " TPSA threshold 100 \n",
      " Total samples: 312000\n",
      " Label 0:  274836      % 88.09 \n",
      " Label 1:   37164      % 11.91 \n"
     ]
    }
   ],
   "source": [
    "for threshold in [68, 69, 70, 71, 72, 100]:\n",
    "    _tmp = (df_train['Metadata_TPSA'] >= threshold).value_counts()\n",
    "    print(f\"\\n TPSA threshold {threshold} \\n Total samples: {_tmp.sum()}\")\n",
    "    print(f\" Label 0: {_tmp[False]:>7d}      % {_tmp[False]*100/_tmp.sum():2.2f} \")\n",
    "    print(f\" Label 1: {_tmp[True]:>7d}      % {_tmp[True]*100/_tmp.sum():2.2f} \")"
   ]
  },
  {
   "cell_type": "code",
   "execution_count": 265,
   "id": "65d1d01b-3946-4668-9c10-5fb3f2b3bd64",
   "metadata": {
    "execution": {
     "iopub.execute_input": "2024-08-02T19:18:15.207992Z",
     "iopub.status.busy": "2024-08-02T19:18:15.207573Z",
     "iopub.status.idle": "2024-08-02T19:18:15.241831Z",
     "shell.execute_reply": "2024-08-02T19:18:15.241195Z",
     "shell.execute_reply.started": "2024-08-02T19:18:15.207957Z"
    }
   },
   "outputs": [],
   "source": [
    "# fig, ax = plt.subplots(figsize=(4,4))\n",
    "# fig.canvas.draw()  # Need to draw the figure to define renderer\n",
    "# ax.set_title(\"AngleLabel example\")\n",
    "# # Plot two crossing lines and label each angle between them with the above\n",
    "# center = (4.5, 650)\n",
    "# p1 = [(2.5, 710), (6.0, 605)]\n",
    "# p2 = [(3.0, 275), (5.5, 900)]\n",
    "# line1, = ax.plot(*zip(*p1))\n",
    "# line2, = ax.plot(*zip(*p2))\n",
    "# point, = ax.plot(*center, marker=\"o\")\n"
   ]
  },
  {
   "cell_type": "code",
   "execution_count": 259,
   "id": "9f19bd08-45c1-4d41-9d02-a5b59d30c53c",
   "metadata": {
    "ExecuteTime": {
     "end_time": "2023-06-28T19:37:34.108730Z",
     "start_time": "2023-06-28T19:37:34.072553Z"
    },
    "editable": true,
    "execution": {
     "iopub.execute_input": "2024-08-02T19:10:23.741139Z",
     "iopub.status.busy": "2024-08-02T19:10:23.740867Z",
     "iopub.status.idle": "2024-08-02T19:10:24.222816Z",
     "shell.execute_reply": "2024-08-02T19:10:24.222024Z",
     "shell.execute_reply.started": "2024-08-02T19:10:23.741118Z"
    },
    "slideshow": {
     "slide_type": ""
    },
    "tags": []
   },
   "outputs": [
    {
     "data": {
      "text/plain": [
       "<matplotlib.legend.Legend at 0x7fb5da6ead90>"
      ]
     },
     "execution_count": 259,
     "metadata": {},
     "output_type": "execute_result"
    },
    {
     "data": {
      "image/png": "[encoded data removed]",
      "text/plain": [
       "<Figure size 1000x500 with 1 Axes>"
      ]
     },
     "metadata": {},
     "output_type": "display_data"
    }
   ],
   "source": [
    "from matplotlib import colors\n",
    "from matplotlib.ticker import PercentFormatter\n",
    "num_bins = 200\n",
    "# fig, ax = plt.subplots()\n",
    "fig = plt.figure(figsize=(10,5))\n",
    "sigma = df_train.Metadata_TPSA.std()\n",
    "mu = df_train.Metadata_TPSA.mean()\n",
    "med = df_train.Metadata_TPSA.median()\n",
    "# the histogram of the data\n",
    "# We can set the number of bins with the *bins* keyword argument.\n",
    "n, bins, patches = plt.hist(df_train.Metadata_TPSA, num_bins, density=False, range=[0, 500],)\n",
    "# p1 = [(med, 710), (6.0, 605)]\n",
    "# _ = plt.vlines(x=med, ymin=10, ymax=17000, colors='red', linestyles='-', lw=1.75, label='Single Short Line')\n",
    "_ = plt.axvline(x=med, ymin=0, ymax=.97, color='red', linestyle='-', lw=1.75, label='Single Short Line')\n",
    "_ = plt.xlabel('TPSA Value');\n",
    "_ = plt.ylabel('# Compounds');\n",
    "_ = plt.title(fr'TPSA distribution -  $\\mu={mu:.3f}$    $\\sigma={sigma:.3f}$')\n",
    "plt.legend(bbox_to_anchor=(1.04,0.5), loc=\"center left\", borderaxespad=0)\n",
    "# axs[1].hist(dist2, bins=n_bins)\n",
    "plt.show()"
   ]
  },
  {
   "cell_type": "markdown",
   "id": "a08179a7-e4d2-4425-803e-1f78943b3aaf",
   "metadata": {
    "editable": true,
    "jp-MarkdownHeadingCollapsed": true,
    "slideshow": {
     "slide_type": ""
    },
    "tags": []
   },
   "source": [
    "## Stratified CV data splits"
   ]
  },
  {
   "cell_type": "code",
   "execution_count": 260,
   "id": "36185b9f-f76e-4556-a736-7a97ac07659f",
   "metadata": {
    "execution": {
     "iopub.execute_input": "2024-08-02T19:12:20.623736Z",
     "iopub.status.busy": "2024-08-02T19:12:20.623234Z",
     "iopub.status.idle": "2024-08-02T19:12:20.661974Z",
     "shell.execute_reply": "2024-08-02T19:12:20.661237Z",
     "shell.execute_reply.started": "2024-08-02T19:12:20.623693Z"
    }
   },
   "outputs": [],
   "source": [
    "def visualize_groups(classes, groups, name):\n",
    "    # Visualize dataset groups\n",
    "    fig, ax = plt.subplots(figsize=(10,5))\n",
    "    ax.scatter(\n",
    "        range(len(groups)),\n",
    "        [0.5] * len(groups),\n",
    "        c=groups,\n",
    "        marker=\"_\",\n",
    "        lw=50,\n",
    "        cmap=cmap_data,\n",
    "    )\n",
    "    ax.scatter(\n",
    "        range(len(groups)),\n",
    "        [3.5] * len(groups),\n",
    "        c=classes,\n",
    "        marker=\"_\",\n",
    "        lw=50,\n",
    "        cmap=cmap_data,\n",
    "    )\n",
    "    ax.set(\n",
    "        ylim=[-1, 5],\n",
    "        yticks=[0.5, 3.5],\n",
    "        yticklabels=[\"Data\\ngroup\", \"Data\\nclass\"],\n",
    "        xlabel=\"Sample index\",\n",
    "    )"
   ]
  },
  {
   "cell_type": "code",
   "execution_count": 261,
   "id": "f532d16b-50f2-486d-a2b8-22e960f6007a",
   "metadata": {
    "execution": {
     "iopub.execute_input": "2024-08-02T19:12:20.975622Z",
     "iopub.status.busy": "2024-08-02T19:12:20.975197Z",
     "iopub.status.idle": "2024-08-02T19:12:21.013984Z",
     "shell.execute_reply": "2024-08-02T19:12:21.013243Z",
     "shell.execute_reply.started": "2024-08-02T19:12:20.975584Z"
    }
   },
   "outputs": [],
   "source": [
    "def plot_cv_indices(cv, X, y, group, ax, n_splits, lw=10):\n",
    "    \"\"\"Create a sample plot for indices of a cross-validation object.\"\"\"\n",
    "    use_groups = \"Group\" in type(cv).__name__\n",
    "    groups = group if use_groups else None\n",
    "    # Generate the training/testing visualizations for each CV split\n",
    "    for ii, (tr, tt) in enumerate(cv.split(X=X, y=y, groups=groups)):\n",
    "        # Fill in indices with the training/test groups\n",
    "        indices = np.array([np.nan] * len(X))\n",
    "        indices[tt] = 1\n",
    "        indices[tr] = 0\n",
    "\n",
    "        # Visualize the results\n",
    "        ax.scatter(\n",
    "            range(len(indices)),\n",
    "            [ii + 0.5] * len(indices),\n",
    "            c=indices,\n",
    "            marker=\"_\",\n",
    "            lw=lw,\n",
    "            cmap=cmap_cv,\n",
    "            vmin=-0.2,\n",
    "            vmax=1.2,\n",
    "        )\n",
    "\n",
    "    # Plot the data classes and groups at the end\n",
    "    ax.scatter(\n",
    "        range(len(X)), [ii + 1.5] * len(X), c=y, marker=\"_\", lw=lw, cmap=cmap_data\n",
    "    )\n",
    "\n",
    "    ax.scatter(\n",
    "        range(len(X)), [ii + 2.5] * len(X), c=group, marker=\"_\", lw=lw, cmap=cmap_data\n",
    "    )\n",
    "\n",
    "    # Formatting\n",
    "    yticklabels = list(range(n_splits)) + [\"class\", \"group\"]\n",
    "    ax.set(\n",
    "        yticks=np.arange(n_splits + 2) + 0.5,\n",
    "        yticklabels=yticklabels,\n",
    "        xlabel=\"Sample index\",\n",
    "        ylabel=\"CV iteration\",\n",
    "        ylim=[n_splits + 2.2, -0.2],\n",
    "        xlim=[0, 100],\n",
    "    )\n",
    "    ax.set_title(\"{}\".format(type(cv).__name__), fontsize=15)\n",
    "    return ax"
   ]
  },
  {
   "cell_type": "code",
   "execution_count": null,
   "id": "d6f3f078-8b33-4acc-b639-6daac6d9d519",
   "metadata": {
    "execution": {
     "iopub.execute_input": "2024-08-01T20:37:00.702630Z",
     "iopub.status.busy": "2024-08-01T20:37:00.702069Z",
     "iopub.status.idle": "2024-08-01T20:37:00.746490Z",
     "shell.execute_reply": "2024-08-01T20:37:00.745822Z",
     "shell.execute_reply.started": "2024-08-01T20:37:00.702589Z"
    }
   },
   "outputs": [],
   "source": [
    "import matplotlib.pyplot as plt\n",
    "import numpy as np\n",
    "from matplotlib.patches import Patch\n"
   ]
  },
  {
   "cell_type": "code",
   "execution_count": null,
   "id": "f1165a3b-5756-443f-ad46-bf316c34929e",
   "metadata": {
    "execution": {
     "iopub.execute_input": "2024-08-01T20:37:00.702630Z",
     "iopub.status.busy": "2024-08-01T20:37:00.702069Z",
     "iopub.status.idle": "2024-08-01T20:37:00.746490Z",
     "shell.execute_reply": "2024-08-01T20:37:00.745822Z",
     "shell.execute_reply.started": "2024-08-01T20:37:00.702589Z"
    }
   },
   "outputs": [],
   "source": [
    "rng = np.random.RandomState(1338)\n",
    "cmap_data = plt.cm.Paired\n",
    "cmap_cv = plt.cm.coolwarm\n",
    "n_splits = 4\n",
    "\n",
    "# Generate the class/group data\n",
    "# n_points = 100\n",
    "# X = rng.randn(100, 10)\n",
    "\n",
    "# percentiles_classes = [0.1, 0.3, 0.6]\n",
    "# y = np.hstack([[ii] * int(100 * perc) for ii, perc in enumerate(percentiles_classes)])"
   ]
  },
  {
   "cell_type": "code",
   "execution_count": null,
   "id": "94dd8391-cbf3-4468-9aa2-d311c7f83bd2",
   "metadata": {
    "execution": {
     "iopub.execute_input": "2024-08-01T20:37:00.702630Z",
     "iopub.status.busy": "2024-08-01T20:37:00.702069Z",
     "iopub.status.idle": "2024-08-01T20:37:00.746490Z",
     "shell.execute_reply": "2024-08-01T20:37:00.745822Z",
     "shell.execute_reply.started": "2024-08-01T20:37:00.702589Z"
    }
   },
   "outputs": [],
   "source": [
    "# Generate uneven groups\n",
    "\n",
    "# group_prior = rng.dirichlet([2] * 10)\n",
    "# group_prior.sum()\n",
    "# group_prior\n",
    "\n",
    "# groups = np.repeat(np.arange(10), rng.multinomial(100, group_prior))\n",
    "# groups.shape\n",
    "# groups"
   ]
  },
  {
   "cell_type": "code",
   "execution_count": null,
   "id": "0be667cf-b73b-49d9-8f93-028feb33dc07",
   "metadata": {
    "execution": {
     "iopub.execute_input": "2024-08-01T20:37:00.702630Z",
     "iopub.status.busy": "2024-08-01T20:37:00.702069Z",
     "iopub.status.idle": "2024-08-01T20:37:00.746490Z",
     "shell.execute_reply": "2024-08-01T20:37:00.745822Z",
     "shell.execute_reply.started": "2024-08-01T20:37:00.702589Z"
    }
   },
   "outputs": [],
   "source": [
    "groups = np.repeat(0, train_X.shape[0])\n",
    "groups.shape"
   ]
  },
  {
   "cell_type": "code",
   "execution_count": 84,
   "id": "a3cc3e15-7328-43d7-87b0-e662e89f8995",
   "metadata": {
    "execution": {
     "iopub.execute_input": "2024-08-01T20:39:00.214016Z",
     "iopub.status.busy": "2024-08-01T20:39:00.213534Z",
     "iopub.status.idle": "2024-08-01T20:39:17.703513Z",
     "shell.execute_reply": "2024-08-01T20:39:17.702174Z",
     "shell.execute_reply.started": "2024-08-01T20:39:00.213981Z"
    }
   },
   "outputs": [
    {
     "data": {
      "image/png": "[encoded data removed]",
      "text/plain": [
       "<Figure size 1000x500 with 1 Axes>"
      ]
     },
     "metadata": {},
     "output_type": "display_data"
    }
   ],
   "source": [
    "visualize_groups(train_y, groups, \"no groups\")"
   ]
  },
  {
   "cell_type": "code",
   "execution_count": 88,
   "id": "f27b44ef-5b62-4008-8e90-fcd97dca2186",
   "metadata": {
    "execution": {
     "iopub.execute_input": "2024-08-01T20:42:20.513960Z",
     "iopub.status.busy": "2024-08-01T20:42:20.513311Z",
     "iopub.status.idle": "2024-08-01T20:42:20.563347Z",
     "shell.execute_reply": "2024-08-01T20:42:20.562557Z",
     "shell.execute_reply.started": "2024-08-01T20:42:20.513913Z"
    }
   },
   "outputs": [],
   "source": [
    "n_splits = 5\n",
    "groups = None"
   ]
  },
  {
   "cell_type": "code",
   "execution_count": 89,
   "id": "0cc5f1e4-9fbf-4c51-a82a-ee2c870850aa",
   "metadata": {
    "execution": {
     "iopub.execute_input": "2024-08-01T20:42:22.118077Z",
     "iopub.status.busy": "2024-08-01T20:42:22.117570Z",
     "iopub.status.idle": "2024-08-01T20:42:40.626608Z",
     "shell.execute_reply": "2024-08-01T20:42:40.625579Z",
     "shell.execute_reply.started": "2024-08-01T20:42:22.118037Z"
    }
   },
   "outputs": [
    {
     "name": "stderr",
     "output_type": "stream",
     "text": [
      "/tmp/ipykernel_4107164/1298143750.py:29: UserWarning: No data for colormapping provided via 'c'. Parameters 'cmap' will be ignored\n",
      "  ax.scatter(\n"
     ]
    },
    {
     "data": {
      "text/plain": [
       "<Axes: title={'center': 'KFold'}, xlabel='Sample index', ylabel='CV iteration'>"
      ]
     },
     "execution_count": 89,
     "metadata": {},
     "output_type": "execute_result"
    },
    {
     "data": {
      "image/png": "[encoded data removed]",
      "text/plain": [
       "<Figure size 640x480 with 1 Axes>"
      ]
     },
     "metadata": {},
     "output_type": "display_data"
    }
   ],
   "source": [
    "fig, ax = plt.subplots()\n",
    "cv = KFold(n_splits)\n",
    "plot_cv_indices(cv, train_X, train_y, groups, ax, n_splits)"
   ]
  },
  {
   "cell_type": "markdown",
   "id": "431caa87-8ebb-496e-a35c-bee422a9aeee",
   "metadata": {
    "jp-MarkdownHeadingCollapsed": true
   },
   "source": [
    "## Create balanced datasets"
   ]
  },
  {
   "cell_type": "code",
   "execution_count": 634,
   "id": "45a73746-91ef-4e32-a6ec-e6608069942a",
   "metadata": {
    "execution": {
     "iopub.execute_input": "2024-08-05T19:07:37.114883Z",
     "iopub.status.busy": "2024-08-05T19:07:37.114347Z",
     "iopub.status.idle": "2024-08-05T19:07:37.156610Z",
     "shell.execute_reply": "2024-08-05T19:07:37.155826Z",
     "shell.execute_reply.started": "2024-08-05T19:07:37.114813Z"
    }
   },
   "outputs": [],
   "source": [
    "def balance_datasets(X,y, ratio = 2, verbose = False):\n",
    "    y = y.astype(np.uint8)\n",
    "    neg_idxs = np.nonzero([y == 0])[1]\n",
    "    pos_idxs = np.nonzero([y == 1])[1]\n",
    "    pos_idxs = np.array(pos_idxs)\n",
    "    # print(f\"\\n # Pos rows: {len(pos_idxs)}   # Neg rows: {len(neg_idxs)}  Total: {len(pos_idxs)+ len(neg_idxs)}\")\n",
    "    # print(f\" # Pos compounds: {len(pos_idxs)//3}   # Neg compounds: {len(neg_idxs)//3}  total: {(len(pos_idxs) + len(neg_idxs))//3}\")\n",
    "    # print(f\"\\n pos indexes - len: {len(pos_idxs)}\")\n",
    "    # print( pos_idxs[:50])\n",
    "    # print( pos_idxs[-50:])\n",
    "    # print(f\"\\n neg indexes - len: {len(neg_idxs)}\")\n",
    "    # print(neg_idxs[:50])\n",
    "    # print(neg_idxs[-50:])\n",
    "    \n",
    "    stepped_pos_idxs = [x for x in pos_idxs if x % 3 == 0]\n",
    "    stepped_neg_idxs = [x for x in neg_idxs if x % 3 == 0]\n",
    "    stepped_neg_idxs = np.array(stepped_neg_idxs)\n",
    "    pos_counts = len(stepped_pos_idxs)\n",
    "    neg_counts = len(stepped_neg_idxs)\n",
    "    \n",
    "    if verbose:\n",
    "        print(f\"\\n # Pos counts: {pos_counts}    # Neg counts: {neg_counts}   Total: {pos_counts+neg_counts}\")\n",
    "        print(f\"\\n pos indexes - len: {pos_counts}\")\n",
    "        print(stepped_pos_idxs[:25])\n",
    "        print(stepped_pos_idxs[-25:])\n",
    "        print(f\"\\n neg indexes - len: {neg_counts}\")\n",
    "        print(stepped_neg_idxs[:25])\n",
    "        print(stepped_neg_idxs[-25:])\n",
    "        print()\n",
    "    num_neg_samples = ratio * pos_counts\n",
    "    \n",
    "    print(f\"\\n Take {pos_counts} samples from total of {pos_counts} negative training samples\")\n",
    "    print(f\" Take {num_neg_samples} samples from total of {neg_counts} negative training samples\")\n",
    "    sample_idxs = skr.sample_without_replacement(n_population=neg_counts, n_samples= num_neg_samples, )\n",
    "    sample_idxs.sort()\n",
    "    neg_sample_idxs = stepped_neg_idxs[sample_idxs]\n",
    "    if verbose:\n",
    "        print(f\"\\n Sample indxs - len: {len(sample_idxs)}\")\n",
    "        print(f\" {sample_idxs[:20]}\")\n",
    "        print(f\" {sample_idxs[-20:]}\")\n",
    "        print(f\"\\n neg_sample_idxs: {len(neg_sample_idxs)}\")\n",
    "        print(f\"{neg_sample_idxs[:20]}\")\n",
    "        print(f\"{neg_sample_idxs[-20:]}\")\n",
    "        print()\n",
    "        print(neg_sample_idxs[:20])\n",
    "        print(neg_sample_idxs[:20]+1)\n",
    "        print(neg_sample_idxs[:20]+2)\n",
    "    \n",
    "    neg_sample_idxs_3 = np.concatenate((neg_sample_idxs, neg_sample_idxs+1, neg_sample_idxs+2))\n",
    "    neg_sample_idxs_3.sort()\n",
    "    if verbose:\n",
    "        print(f\"\\n pos_sample_idxs_3: {len(pos_idxs)}\")\n",
    "        print(f\" [:20] :{pos_idxs[:20]}\")\n",
    "        print(f\" [-20:] {pos_idxs[-20:]}\")\n",
    "        print(f\"\\n neg_sample_idxs_3: {len(neg_sample_idxs_3)}\")\n",
    "        print(f\" [:20] :{neg_sample_idxs_3[:20]}\")\n",
    "        print(f\" [-20:] {neg_sample_idxs_3[-20:]}\")\n",
    "    \n",
    "    balanced_ds_idxs = np.concatenate((pos_idxs, neg_sample_idxs_3))\n",
    "\n",
    "    bal_X = X[balanced_ds_idxs]\n",
    "    bal_y = y[balanced_ds_idxs]\n",
    "\n",
    "    print(f\"\\n Balanced Dataset: # pos samples: {len(pos_idxs)}    # Neg samples: {len(neg_sample_idxs_3)}  Total len: {len(balanced_ds_idxs)}\")   \n",
    "    print(f\"\\n X :  Min: {bal_X.min():.4f}    Max: {bal_X.max():.4f}   Mean: {bal_X.mean():.4f}  Std: {bal_X.std():.4f}\")\n",
    "    print(f\" y :  Min: {bal_y.min():.4f}    Max: {bal_y.max():.4f}   Mean: {bal_y.mean():.4f}  Std: {bal_y.std():.4f}\")\n",
    "    return bal_X,bal_y"
   ]
  },
  {
   "cell_type": "code",
   "execution_count": 635,
   "id": "b979ba88-3eb5-4da5-a718-3cebca95260b",
   "metadata": {
    "execution": {
     "iopub.execute_input": "2024-08-05T19:07:37.952565Z",
     "iopub.status.busy": "2024-08-05T19:07:37.952226Z",
     "iopub.status.idle": "2024-08-05T19:07:42.982772Z",
     "shell.execute_reply": "2024-08-05T19:07:42.981691Z",
     "shell.execute_reply.started": "2024-08-05T19:07:37.952542Z"
    }
   },
   "outputs": [
    {
     "name": "stdout",
     "output_type": "stream",
     "text": [
      "\n",
      " Take 12388 samples from total of 12388 negative training samples\n",
      " Take 12388 samples from total of 91612 negative training samples\n",
      "\n",
      " Balanced Dataset: # pos samples: 37164    # Neg samples: 37164  Total len: 74328\n",
      "\n",
      " X :  Min: -27.6719    Max: 23.7271   Mean: 0.0016  Std: 1.0157\n",
      " y :  Min: 0.0000    Max: 1.0000   Mean: 0.5000  Std: 0.5000\n",
      "\n",
      " Take 12388 samples from total of 12388 negative training samples\n",
      " Take 24776 samples from total of 91612 negative training samples\n",
      "\n",
      " Balanced Dataset: # pos samples: 37164    # Neg samples: 74328  Total len: 111492\n",
      "\n",
      " X :  Min: -27.3326    Max: 26.3826   Mean: 0.0014  Std: 1.0076\n",
      " y :  Min: 0.0000    Max: 1.0000   Mean: 0.3333  Std: 0.4714\n"
     ]
    }
   ],
   "source": [
    "bal_train_X, bal_train_y = balance_datasets(train_X, train_y, ratio = 1)\n",
    "bal_train_X_2, bal_train_y_2 = balance_datasets(train_X, train_y, ratio = 2)"
   ]
  },
  {
   "cell_type": "code",
   "execution_count": 636,
   "id": "216225bd-9951-42ee-9223-e4230c525a3a",
   "metadata": {
    "execution": {
     "iopub.execute_input": "2024-08-05T19:07:48.795533Z",
     "iopub.status.busy": "2024-08-05T19:07:48.795065Z",
     "iopub.status.idle": "2024-08-05T19:07:48.920041Z",
     "shell.execute_reply": "2024-08-05T19:07:48.919101Z",
     "shell.execute_reply.started": "2024-08-05T19:07:48.795500Z"
    }
   },
   "outputs": [
    {
     "name": "stdout",
     "output_type": "stream",
     "text": [
      "\n",
      " Take 1388 samples from total of 1388 negative training samples\n",
      " Take 1388 samples from total of 10126 negative training samples\n",
      "\n",
      " Balanced Dataset: # pos samples: 4164    # Neg samples: 4164  Total len: 8328\n",
      "\n",
      " X :  Min: -16.9431    Max: 19.0416   Mean: 0.0030  Std: 1.0028\n",
      " y :  Min: 0.0000    Max: 1.0000   Mean: 0.5000  Std: 0.5000\n",
      "\n",
      " Take 1388 samples from total of 1388 negative training samples\n",
      " Take 2776 samples from total of 10126 negative training samples\n",
      "\n",
      " Balanced Dataset: # pos samples: 4164    # Neg samples: 8328  Total len: 12492\n",
      "\n",
      " X :  Min: -18.7677    Max: 20.9524   Mean: 0.0015  Std: 0.9780\n",
      " y :  Min: 0.0000    Max: 1.0000   Mean: 0.3333  Std: 0.4714\n"
     ]
    }
   ],
   "source": [
    "bal_test_X, bal_test_y = balance_datasets(test_X, test_y, ratio = 1)\n",
    "bal_test_X_2, bal_test_y_2 = balance_datasets(test_X, test_y, ratio = 2)"
   ]
  },
  {
   "cell_type": "markdown",
   "id": "59413831-c2c4-4ede-b74b-78698df67581",
   "metadata": {
    "jp-MarkdownHeadingCollapsed": true
   },
   "source": [
    "# Model definitions"
   ]
  },
  {
   "cell_type": "markdown",
   "id": "c795d1f1-80c4-4efa-86a9-dcabe361a4cc",
   "metadata": {},
   "source": [
    "# Neural Net Model "
   ]
  },
  {
   "cell_type": "code",
   "execution_count": 7,
   "id": "aff62522-68f3-4349-9eaf-9a3a89326681",
   "metadata": {
    "ExecuteTime": {
     "end_time": "2023-07-31T18:45:10.550334Z",
     "start_time": "2023-07-31T18:45:07.868769Z"
    },
    "execution": {
     "iopub.execute_input": "2024-08-05T21:32:43.887708Z",
     "iopub.status.busy": "2024-08-05T21:32:43.887401Z",
     "iopub.status.idle": "2024-08-05T21:32:43.974879Z",
     "shell.execute_reply": "2024-08-05T21:32:43.974357Z",
     "shell.execute_reply.started": "2024-08-05T21:32:43.887685Z"
    }
   },
   "outputs": [
    {
     "data": {
      "text/plain": [
       "device(type='cuda', index=0)"
      ]
     },
     "execution_count": 7,
     "metadata": {},
     "output_type": "execute_result"
    }
   ],
   "source": [
    "import torch\n",
    "import torch.nn as nn\n",
    "import torch.nn.functional as F\n",
    "import matplotlib.pyplot as plt # for making figures\n",
    "from torchinfo import summary\n",
    "torch.set_printoptions(precision=None, threshold=None, edgeitems=None, linewidth=180, profile=None, sci_mode=None)\n",
    "## Set visible GPU device \n",
    "##----------------------------------------------\n",
    "# os.environ[\"CUDA_DEVICE_ORDER\"]=\"PCI_BUS_ID\"   \n",
    "# os.environ[\"CUDA_VISIBLE_DEVICES\"] = '0'\n",
    "\n",
    "if torch.cuda.is_available():\n",
    "    device = torch.device('cuda:0')\n",
    "else:\n",
    "    device = torch.device('cpu')\n",
    "\n",
    "device"
   ]
  },
  {
   "cell_type": "code",
   "execution_count": 8,
   "id": "e0b6b077-b0c9-4965-9b78-945450c183ae",
   "metadata": {
    "ExecuteTime": {
     "end_time": "2023-07-31T18:49:05.754561Z",
     "start_time": "2023-07-31T18:49:05.702444Z"
    },
    "execution": {
     "iopub.execute_input": "2024-08-05T21:32:45.189655Z",
     "iopub.status.busy": "2024-08-05T21:32:45.189116Z",
     "iopub.status.idle": "2024-08-05T21:32:45.229839Z",
     "shell.execute_reply": "2024-08-05T21:32:45.228942Z",
     "shell.execute_reply.started": "2024-08-05T21:32:45.189616Z"
    }
   },
   "outputs": [],
   "source": [
    "@torch.no_grad()\n",
    "def validation(val_steps=50):\n",
    "    loss = 0\n",
    "    for i in range(val_steps):\n",
    "        ix = torch.randint(0, val_X.shape[0], (batch_size,))\n",
    "        Xv, Yv = torch.Tensor(val_X[ix]).to(device), torch.Tensor(val_y[ix]).to(device) # batch X,Y\n",
    "        logits = model(Xv)\n",
    "        loss += F.mse_loss(logits, Yv)\n",
    "    loss /= val_steps\n",
    "    return loss \n",
    "\n",
    "# import torchmetrics \n",
    "# evaluate the loss\n",
    "@torch.no_grad() # this decorator disables gradient tracking inside pytorch\n",
    "def split_loss(split):\n",
    "    \"\"\"\n",
    "    compute loss for data split passed (training, validation, or test data)\n",
    "    \"\"\"\n",
    "#     from torch.torcheval.metrics import R2Score    \n",
    "    from torchmetrics.regression import R2Score, PearsonCorrCoef\n",
    "    x_numpy,y_numpy = {\n",
    "    'train': (train_X, train_y),\n",
    "    'val'  : (val_X  , val_y),\n",
    "    'test' : (test_X , test_y),\n",
    "    }[split]\n",
    "    x = torch.Tensor(x_numpy).to(device)\n",
    "    y = torch.Tensor(y_numpy).to(device) \n",
    "    logits = model(x)\n",
    "#     print(f\" size of logits: {logits.shape}   size of y: {y.shape}\")\n",
    "    mse_loss = F.mse_loss(logits, y)\n",
    "    r2score = R2Score().to(device)\n",
    "    pearson = PearsonCorrCoef(num_outputs=1).to(device)\n",
    "    r2_loss = r2score(logits, y) \n",
    "    pearson_loss= pearson(logits.view(-1), y.view(-1))\n",
    "    print(f\"\\n {split:5s} data:   MSE loss: {mse_loss.item():10.4f}    R2 Score: {r2_loss.item():.5f}     Pearson Coeff. {pearson_loss:.4f}\")\n",
    "    \n",
    "@torch.no_grad()\n",
    "def calc_loss(x,y):\n",
    "    logits = model(x)\n",
    "    loss = F.mse_loss(logits, y)\n",
    "    print(y[:20].T)\n",
    "    print(logits[:20].T)\n",
    "    print(f\"Calculated loss:  {loss.item():5e}\")\n",
    "    "
   ]
  },
  {
   "cell_type": "code",
   "execution_count": 9,
   "id": "dece9914-a914-44fa-ad98-2c708b2f9222",
   "metadata": {
    "execution": {
     "iopub.execute_input": "2024-08-05T21:32:49.882042Z",
     "iopub.status.busy": "2024-08-05T21:32:49.881525Z",
     "iopub.status.idle": "2024-08-05T21:32:49.930966Z",
     "shell.execute_reply": "2024-08-05T21:32:49.929925Z",
     "shell.execute_reply.started": "2024-08-05T21:32:49.882003Z"
    }
   },
   "outputs": [],
   "source": [
    "try:\n",
    "    del model\n",
    "except:\n",
    "    pass"
   ]
  },
  {
   "cell_type": "code",
   "execution_count": 10,
   "id": "78182fc1-e431-4c7b-800a-05554c69a19f",
   "metadata": {
    "ExecuteTime": {
     "end_time": "2023-07-31T18:45:44.380055Z",
     "start_time": "2023-07-31T18:45:41.073911Z"
    },
    "execution": {
     "iopub.execute_input": "2024-08-05T21:32:54.127085Z",
     "iopub.status.busy": "2024-08-05T21:32:54.126676Z",
     "iopub.status.idle": "2024-08-05T21:32:55.169301Z",
     "shell.execute_reply": "2024-08-05T21:32:55.168368Z",
     "shell.execute_reply.started": "2024-08-05T21:32:54.127052Z"
    }
   },
   "outputs": [
    {
     "data": {
      "text/plain": [
       "Sequential(\n",
       "  (0): Linear(in_features=150, out_features=128, bias=False)\n",
       "  (1): BatchNorm1d(128, eps=1e-05, momentum=0.1, affine=True, track_running_stats=True)\n",
       "  (2): Tanh()\n",
       "  (3): Linear(in_features=128, out_features=128, bias=False)\n",
       "  (4): BatchNorm1d(128, eps=1e-05, momentum=0.1, affine=True, track_running_stats=True)\n",
       "  (5): Tanh()\n",
       "  (6): Linear(in_features=128, out_features=1, bias=True)\n",
       ")"
      ]
     },
     "execution_count": 10,
     "metadata": {},
     "output_type": "execute_result"
    }
   ],
   "source": [
    "# hierarchical network\n",
    "#  nn.Linear(n_hidden_2, n_hidden, bias=False), BatchNorm1d(n_hidden), Tanh(),\n",
    "# del model\n",
    "\n",
    "n_input    = 150 # the dimensionality of the character embedding vectors\n",
    "n_hidden_1 = 128 # the number of neurons in the hidden layer of the MLP\n",
    "n_hidden_2 = 128 # the number of neurons in the hidden layer of the MLP\n",
    "model = nn.Sequential(\n",
    "    nn.Linear(n_input , n_hidden_1, bias=False), \n",
    "    nn.BatchNorm1d(n_hidden_1), \n",
    "    nn.Tanh(),\n",
    "    nn.Linear(n_hidden_1, n_hidden_2, bias=False), \n",
    "    nn.BatchNorm1d(n_hidden_2), \n",
    "    nn.Tanh(),\n",
    "    nn.Linear(n_hidden_2, 1),\n",
    ")\n",
    "model.to(device)"
   ]
  },
  {
   "cell_type": "code",
   "execution_count": 23,
   "id": "bf4d1f13-30d1-4ecc-b312-21c9f65b74a5",
   "metadata": {
    "ExecuteTime": {
     "end_time": "2023-07-31T18:47:25.981015Z",
     "start_time": "2023-07-31T18:47:25.916290Z"
    },
    "execution": {
     "iopub.execute_input": "2024-08-05T21:41:42.961497Z",
     "iopub.status.busy": "2024-08-05T21:41:42.961179Z",
     "iopub.status.idle": "2024-08-05T21:41:43.016479Z",
     "shell.execute_reply": "2024-08-05T21:41:43.015934Z",
     "shell.execute_reply.started": "2024-08-05T21:41:42.961474Z"
    }
   },
   "outputs": [
    {
     "name": "stdout",
     "output_type": "stream",
     "text": [
      "Sequential(\n",
      "  (0): Linear(in_features=150, out_features=128, bias=False)\n",
      "  (1): BatchNorm1d(128, eps=1e-05, momentum=0.1, affine=True, track_running_stats=True)\n",
      "  (2): Tanh()\n",
      "  (3): Linear(in_features=128, out_features=128, bias=False)\n",
      "  (4): BatchNorm1d(128, eps=1e-05, momentum=0.1, affine=True, track_running_stats=True)\n",
      "  (5): Tanh()\n",
      "  (6): Linear(in_features=128, out_features=1, bias=True)\n",
      ")\n",
      "------------------------------------------------------------------------------------------\n",
      "layer 0: Linear(in_features=150, out_features=128, bias=False)\n",
      "------------------------------------------------------------------------------------------\n"
     ]
    },
    {
     "data": {
      "text/plain": [
       "torch.Size([128, 150])"
      ]
     },
     "execution_count": 23,
     "metadata": {},
     "output_type": "execute_result"
    },
    {
     "data": {
      "text/plain": [
       "Parameter containing:\n",
       "tensor([[-0.0378, -0.0755,  0.0457,  ..., -0.0592,  0.0092,  0.0053],\n",
       "        [-0.0808, -0.0480,  0.0654,  ..., -0.0006,  0.0253, -0.0101],\n",
       "        [-0.0697,  0.0075, -0.0133,  ...,  0.0763, -0.0627,  0.0024],\n",
       "        ...,\n",
       "        [ 0.0255, -0.0792,  0.0688,  ..., -0.0755, -0.0475,  0.0269],\n",
       "        [ 0.0573,  0.0181,  0.0477,  ...,  0.0149, -0.0415,  0.0438],\n",
       "        [ 0.0176, -0.0357, -0.0255,  ..., -0.0312, -0.0376,  0.0421]], device='cuda:0', requires_grad=True)"
      ]
     },
     "execution_count": 23,
     "metadata": {},
     "output_type": "execute_result"
    },
    {
     "name": "stdout",
     "output_type": "stream",
     "text": [
      "------------------------------------------------------------------------------------------\n",
      "layer 1: BatchNorm1d(128, eps=1e-05, momentum=0.1, affine=True, track_running_stats=True)\n",
      "------------------------------------------------------------------------------------------\n",
      "------------------------------------------------------------------------------------------\n",
      "layer 2: Tanh()\n",
      "------------------------------------------------------------------------------------------\n",
      "------------------------------------------------------------------------------------------\n",
      "layer 3: Linear(in_features=128, out_features=128, bias=False)\n",
      "------------------------------------------------------------------------------------------\n"
     ]
    },
    {
     "data": {
      "text/plain": [
       "torch.Size([128, 128])"
      ]
     },
     "execution_count": 23,
     "metadata": {},
     "output_type": "execute_result"
    },
    {
     "data": {
      "text/plain": [
       "Parameter containing:\n",
       "tensor([[-0.0433, -0.0263, -0.0359,  ...,  0.0053,  0.0587, -0.0498],\n",
       "        [ 0.0863, -0.0242,  0.0036,  ..., -0.0522,  0.0150, -0.0691],\n",
       "        [-0.0162,  0.0058,  0.0665,  ...,  0.0605, -0.0106,  0.0714],\n",
       "        ...,\n",
       "        [ 0.0184,  0.0880,  0.0258,  ..., -0.0124, -0.0272,  0.0495],\n",
       "        [ 0.0514, -0.0685, -0.0572,  ...,  0.0770, -0.0326,  0.0461],\n",
       "        [ 0.0506,  0.0792,  0.0092,  ...,  0.0861, -0.0593, -0.0630]], device='cuda:0', requires_grad=True)"
      ]
     },
     "execution_count": 23,
     "metadata": {},
     "output_type": "execute_result"
    },
    {
     "name": "stdout",
     "output_type": "stream",
     "text": [
      "------------------------------------------------------------------------------------------\n",
      "layer 4: BatchNorm1d(128, eps=1e-05, momentum=0.1, affine=True, track_running_stats=True)\n",
      "------------------------------------------------------------------------------------------\n",
      "------------------------------------------------------------------------------------------\n",
      "layer 5: Tanh()\n",
      "------------------------------------------------------------------------------------------\n",
      "------------------------------------------------------------------------------------------\n",
      "layer 6: Linear(in_features=128, out_features=1, bias=True)\n",
      "------------------------------------------------------------------------------------------\n"
     ]
    },
    {
     "data": {
      "text/plain": [
       "torch.Size([1, 128])"
      ]
     },
     "execution_count": 23,
     "metadata": {},
     "output_type": "execute_result"
    },
    {
     "data": {
      "text/plain": [
       "Parameter containing:\n",
       "tensor([[ 3.2355e-05, -8.5638e-05, -4.7210e-05,  5.1546e-05,  8.0051e-05, -3.8740e-05, -2.5618e-05, -3.8152e-05,  3.5455e-05,  9.2917e-06, -5.0927e-05, -2.8379e-05, -7.1641e-05,\n",
       "         -7.4132e-05, -2.2444e-05, -3.2088e-05, -1.9096e-05, -6.3730e-05,  6.4556e-05, -5.4213e-05,  4.7789e-06,  7.5579e-05, -4.8166e-05,  5.9376e-05,  5.7375e-05, -8.6694e-05,\n",
       "          4.1954e-05,  6.3671e-05,  3.6093e-05,  3.1687e-05, -2.4955e-07,  6.6022e-05,  5.3165e-05, -2.7712e-07,  2.7265e-05, -2.7724e-05, -4.9875e-05, -4.9622e-05,  4.6541e-06,\n",
       "         -8.4543e-05,  6.0771e-06,  5.8673e-05, -1.6071e-05,  7.3634e-05,  1.8176e-06,  2.8855e-05, -1.7629e-05,  7.2590e-05, -6.8730e-05, -8.1912e-05,  6.7641e-05, -8.5236e-05,\n",
       "         -6.3898e-05, -4.0830e-05, -6.9300e-06,  3.7249e-05,  7.2675e-05, -8.5057e-05,  4.4539e-05, -8.4051e-06, -1.1069e-06, -3.9544e-05, -3.5207e-05,  7.4578e-05, -3.5048e-05,\n",
       "         -6.0423e-05,  3.6145e-05, -4.6600e-05,  4.3311e-05,  7.7865e-05, -8.0930e-05, -1.2059e-05,  1.7145e-05, -6.9810e-05, -1.8714e-05, -3.3816e-05,  5.1024e-05,  3.2401e-05,\n",
       "         -1.5026e-05,  4.7983e-06, -3.3084e-05, -3.0743e-05, -6.2318e-05, -7.7318e-05, -2.0976e-05, -3.1133e-06,  1.2427e-05, -4.4220e-05, -4.7982e-05,  1.4681e-05,  4.5964e-05,\n",
       "         -3.9317e-05,  7.8664e-05,  6.2304e-06,  4.9479e-05,  7.5812e-05,  2.2697e-05,  7.8787e-05, -7.1290e-05,  6.4753e-05,  5.7747e-05, -7.8291e-06, -4.3718e-05, -4.7508e-05,\n",
       "          7.8120e-05,  2.6503e-05,  7.3580e-05, -6.3716e-05,  5.5791e-06, -4.7255e-07, -4.2217e-05, -7.6441e-05,  2.2156e-05,  4.1244e-05,  3.1356e-05,  6.7339e-05,  2.2022e-05,\n",
       "          7.1518e-05, -6.8252e-05,  6.6338e-05, -6.5279e-06,  2.5944e-05, -1.5556e-05, -4.2551e-05, -3.7600e-06,  6.8843e-05,  2.8482e-05, -6.9526e-05]], device='cuda:0',\n",
       "       requires_grad=True)"
      ]
     },
     "execution_count": 23,
     "metadata": {},
     "output_type": "execute_result"
    },
    {
     "data": {
      "text/plain": [
       "torch.Size([1])"
      ]
     },
     "execution_count": 23,
     "metadata": {},
     "output_type": "execute_result"
    },
    {
     "data": {
      "text/plain": [
       "Parameter containing:\n",
       "tensor([-0.0210], device='cuda:0', requires_grad=True)"
      ]
     },
     "execution_count": 23,
     "metadata": {},
     "output_type": "execute_result"
    }
   ],
   "source": [
    "print(model)\n",
    "# print(type(model[-1]))\n",
    "for i, layer in enumerate(model):\n",
    "    print('-'*90)\n",
    "    print(f\"layer {i}: {layer}\")\n",
    "    print('-'*90)\n",
    "    if isinstance(layer, nn.Linear):\n",
    "        # layer.__dict__\n",
    "        layer.weight.shape\n",
    "        layer.weight\n",
    "        if layer.bias is not None:\n",
    "            layer.bias.shape\n",
    "            layer.bias"
   ]
  },
  {
   "cell_type": "code",
   "execution_count": 13,
   "id": "7e0b71ab-72be-46f1-9184-85f2e50355ef",
   "metadata": {
    "ExecuteTime": {
     "end_time": "2023-07-31T18:47:25.981015Z",
     "start_time": "2023-07-31T18:47:25.916290Z"
    },
    "execution": {
     "iopub.execute_input": "2024-08-05T21:34:27.656064Z",
     "iopub.status.busy": "2024-08-05T21:34:27.655608Z",
     "iopub.status.idle": "2024-08-05T21:34:27.707084Z",
     "shell.execute_reply": "2024-08-05T21:34:27.706332Z",
     "shell.execute_reply.started": "2024-08-05T21:34:27.656031Z"
    }
   },
   "outputs": [
    {
     "data": {
      "text/plain": [
       "Parameter containing:\n",
       "tensor([[ 3.2355e-05, -8.5638e-05, -4.7210e-05,  5.1546e-05,  8.0051e-05, -3.8740e-05, -2.5618e-05, -3.8152e-05,  3.5455e-05,  9.2917e-06, -5.0927e-05, -2.8379e-05, -7.1641e-05,\n",
       "         -7.4132e-05, -2.2444e-05, -3.2088e-05, -1.9096e-05, -6.3730e-05,  6.4556e-05, -5.4213e-05,  4.7789e-06,  7.5579e-05, -4.8166e-05,  5.9376e-05,  5.7375e-05, -8.6694e-05,\n",
       "          4.1954e-05,  6.3671e-05,  3.6093e-05,  3.1687e-05, -2.4955e-07,  6.6022e-05,  5.3165e-05, -2.7712e-07,  2.7265e-05, -2.7724e-05, -4.9875e-05, -4.9622e-05,  4.6541e-06,\n",
       "         -8.4543e-05,  6.0771e-06,  5.8673e-05, -1.6071e-05,  7.3634e-05,  1.8176e-06,  2.8855e-05, -1.7629e-05,  7.2590e-05, -6.8730e-05, -8.1912e-05,  6.7641e-05, -8.5236e-05,\n",
       "         -6.3898e-05, -4.0830e-05, -6.9300e-06,  3.7249e-05,  7.2675e-05, -8.5057e-05,  4.4539e-05, -8.4051e-06, -1.1069e-06, -3.9544e-05, -3.5207e-05,  7.4578e-05, -3.5048e-05,\n",
       "         -6.0423e-05,  3.6145e-05, -4.6600e-05,  4.3311e-05,  7.7865e-05, -8.0930e-05, -1.2059e-05,  1.7145e-05, -6.9810e-05, -1.8714e-05, -3.3816e-05,  5.1024e-05,  3.2401e-05,\n",
       "         -1.5026e-05,  4.7983e-06, -3.3084e-05, -3.0743e-05, -6.2318e-05, -7.7318e-05, -2.0976e-05, -3.1133e-06,  1.2427e-05, -4.4220e-05, -4.7982e-05,  1.4681e-05,  4.5964e-05,\n",
       "         -3.9317e-05,  7.8664e-05,  6.2304e-06,  4.9479e-05,  7.5812e-05,  2.2697e-05,  7.8787e-05, -7.1290e-05,  6.4753e-05,  5.7747e-05, -7.8291e-06, -4.3718e-05, -4.7508e-05,\n",
       "          7.8120e-05,  2.6503e-05,  7.3580e-05, -6.3716e-05,  5.5791e-06, -4.7255e-07, -4.2217e-05, -7.6441e-05,  2.2156e-05,  4.1244e-05,  3.1356e-05,  6.7339e-05,  2.2022e-05,\n",
       "          7.1518e-05, -6.8252e-05,  6.6338e-05, -6.5279e-06,  2.5944e-05, -1.5556e-05, -4.2551e-05, -3.7600e-06,  6.8843e-05,  2.8482e-05, -6.9526e-05]], device='cuda:0',\n",
       "       requires_grad=True)"
      ]
     },
     "execution_count": 13,
     "metadata": {},
     "output_type": "execute_result"
    }
   ],
   "source": [
    "    \n",
    "# parameter init\n",
    "with torch.no_grad():\n",
    "    model[-1].weight *= 0.1 # last layer make less confident\n",
    "model[-1].weight"
   ]
  },
  {
   "cell_type": "code",
   "execution_count": 26,
   "id": "664d67fb-775d-4445-befe-64b68cf9de67",
   "metadata": {
    "ExecuteTime": {
     "end_time": "2023-07-31T18:47:48.292853Z",
     "start_time": "2023-07-31T18:47:45.651556Z"
    },
    "execution": {
     "iopub.execute_input": "2024-08-05T21:43:23.906030Z",
     "iopub.status.busy": "2024-08-05T21:43:23.905543Z",
     "iopub.status.idle": "2024-08-05T21:43:23.955137Z",
     "shell.execute_reply": "2024-08-05T21:43:23.954240Z",
     "shell.execute_reply.started": "2024-08-05T21:43:23.905995Z"
    }
   },
   "outputs": [
    {
     "name": "stdout",
     "output_type": "stream",
     "text": [
      "Parm shape: torch.Size([128, 150])                 # elements:    19200    Required gradient calc: True\n",
      "Parm shape: torch.Size([128])                      # elements:      128    Required gradient calc: True\n",
      "Parm shape: torch.Size([128])                      # elements:      128    Required gradient calc: True\n",
      "Parm shape: torch.Size([128, 128])                 # elements:    16384    Required gradient calc: True\n",
      "Parm shape: torch.Size([128])                      # elements:      128    Required gradient calc: True\n",
      "Parm shape: torch.Size([128])                      # elements:      128    Required gradient calc: True\n",
      "Parm shape: torch.Size([1, 128])                   # elements:      128    Required gradient calc: True\n",
      "Parm shape: torch.Size([1])                        # elements:        1    Required gradient calc: True\n",
      "36225\n",
      "Total num of parameters: 36225\n",
      "==============================================================================================================================================================================================\n",
      "Layer (type:depth-idx)                   Input Shape               Output Shape              Param #                   Param %                   Mult-Adds                 Trainable\n",
      "==============================================================================================================================================================================================\n",
      "Sequential                               [30, 150]                 [30, 1]                   --                             --                   --                        True\n",
      "├─Linear: 1-1                            [30, 150]                 [30, 128]                 19,200                     53.00%                   576,000                   True\n",
      "│    └─weight                                                                                └─19,200\n",
      "├─BatchNorm1d: 1-2                       [30, 128]                 [30, 128]                 256                         0.71%                   7,680                     True\n",
      "│    └─weight                                                                                ├─128\n",
      "│    └─bias                                                                                  └─128\n",
      "├─Tanh: 1-3                              [30, 128]                 [30, 128]                 --                             --                   --                        --\n",
      "├─Linear: 1-4                            [30, 128]                 [30, 128]                 16,384                     45.23%                   491,520                   True\n",
      "│    └─weight                                                                                └─16,384\n",
      "├─BatchNorm1d: 1-5                       [30, 128]                 [30, 128]                 256                         0.71%                   7,680                     True\n",
      "│    └─weight                                                                                ├─128\n",
      "│    └─bias                                                                                  └─128\n",
      "├─Tanh: 1-6                              [30, 128]                 [30, 128]                 --                             --                   --                        --\n",
      "├─Linear: 1-7                            [30, 128]                 [30, 1]                   129                         0.36%                   3,870                     True\n",
      "│    └─weight                                                                                ├─128\n",
      "│    └─bias                                                                                  └─1\n",
      "==============================================================================================================================================================================================\n",
      "Total params: 36,225\n",
      "Trainable params: 36,225\n",
      "Non-trainable params: 0\n",
      "Total mult-adds (Units.MEGABYTES): 1.09\n",
      "==============================================================================================================================================================================================\n",
      "Input size (MB): 0.02\n",
      "Forward/backward pass size (MB): 0.12\n",
      "Params size (MB): 0.14\n",
      "Estimated Total Size (MB): 0.29\n",
      "==============================================================================================================================================================================================\n"
     ]
    }
   ],
   "source": [
    "parameters = model.parameters()\n",
    "ttl_nelements = 0\n",
    "for p in parameters:\n",
    "    print(f\"Parm shape: {str(p.shape):35s}    # elements: {p.nelement():8d}    Required gradient calc: {p.requires_grad}\")\n",
    "    ttl_nelements += p.nelement()\n",
    "print(ttl_nelements)\n",
    "\n",
    "print(f\"Total num of parameters: {sum(p.nelement() for p in model.parameters())}\") # number of parameters in total\n",
    "for p in parameters:\n",
    "    p.requires_grad = True\n",
    "\n",
    "col_names = [ \"input_size\", \"output_size\", \"num_params\", \"params_percent\", \"mult_adds\", \"trainable\"]\n",
    "\n",
    "summary_input_size = (30  , 150)\n",
    "_ = summary(model, \n",
    "        verbose = 2,\n",
    "        input_size=summary_input_size, col_names = col_names)\n",
    "\n",
    "# summary(model, \n",
    "#         input_size = (1,1032),\n",
    "#         verbose =2, \n",
    "#         col_names = [\"input_size\", \"output_size\", \"num_params\", \"params_percent\",  \"mult_adds\",\"trainable\"],\n",
    "#         col_width=16,\n",
    "#         row_settings=[\"var_names\"],);"
   ]
  },
  {
   "cell_type": "code",
   "execution_count": null,
   "id": "7a27fde6-8ba9-4379-939f-2e7454687e3b",
   "metadata": {
    "ExecuteTime": {
     "end_time": "2023-07-31T18:48:04.381774Z",
     "start_time": "2023-07-31T18:48:04.327798Z"
    }
   },
   "outputs": [],
   "source": [
    "torch.manual_seed(42); # seed rng for reproducibility"
   ]
  },
  {
   "cell_type": "code",
   "execution_count": null,
   "id": "997d5cc2-7424-42b7-856b-a4dffe9128dc",
   "metadata": {},
   "outputs": [],
   "source": [
    "start_step = 0\n",
    "end_step = 200000\n"
   ]
  },
  {
   "cell_type": "code",
   "execution_count": 27,
   "id": "e0d16212-9dae-4dda-a604-33c414aa7d79",
   "metadata": {
    "ExecuteTime": {
     "end_time": "2023-07-31T18:48:09.459977Z",
     "start_time": "2023-07-31T18:48:09.429767Z"
    },
    "execution": {
     "iopub.execute_input": "2024-08-05T21:43:42.564516Z",
     "iopub.status.busy": "2024-08-05T21:43:42.563986Z",
     "iopub.status.idle": "2024-08-05T21:43:42.655147Z",
     "shell.execute_reply": "2024-08-05T21:43:42.653966Z",
     "shell.execute_reply.started": "2024-08-05T21:43:42.564474Z"
    }
   },
   "outputs": [
    {
     "name": "stderr",
     "output_type": "stream",
     "text": [
      "/home/kevin/miniforge3/envs/ptsnnl/lib/python3.11/site-packages/torch/optim/lr_scheduler.py:28: UserWarning: The verbose parameter is deprecated. Please use get_last_lr() to access the learning rate.\n",
      "  warnings.warn(\"The verbose parameter is deprecated. Please use get_last_lr() \"\n"
     ]
    }
   ],
   "source": [
    "# create a PyTorch optimizer\n",
    "init_LR = 1e-3\n",
    "curr_LR = init_LR\n",
    "step_size = 100000\n",
    "start_step = 0\n",
    "end_step  = 200000\n",
    "batch_size = 64\n",
    "lossi = []\n",
    "lossv = []\n",
    "\n",
    "optimizer = torch.optim.AdamW(model.parameters(), lr=init_LR)\n",
    "\n",
    "scheduler = torch.optim.lr_scheduler.StepLR(optimizer, step_size = step_size, gamma=0.1, last_epoch= -1 , verbose=False)"
   ]
  },
  {
   "cell_type": "code",
   "execution_count": null,
   "id": "a49fd07c-d99b-411c-8971-00341d2c28e3",
   "metadata": {
    "ExecuteTime": {
     "end_time": "2023-07-31T19:00:14.450630Z",
     "start_time": "2023-07-31T18:49:12.235999Z"
    },
    "scrolled": true
   },
   "outputs": [],
   "source": [
    "model.train();\n",
    "for i in range(start_step, end_step):\n",
    "  \n",
    "    # minibatch construct\n",
    "    ix = torch.randint(0, train_X.shape[0], (batch_size,))\n",
    "    Xb, Yb = torch.Tensor(train_X[ix]).to(device), torch.Tensor(train_y[ix]).to(device) # batch X,Y\n",
    "    \n",
    "    # forward pass\n",
    "    logits = model(Xb)\n",
    "    loss_mse = F.mse_loss(logits, Yb)\n",
    "\n",
    "    optimizer.zero_grad(set_to_none=True)\n",
    "    loss_mse.backward()\n",
    "\n",
    "    optimizer.step()\n",
    "\n",
    "    lossi.append(loss_mse.log10().item())\n",
    "    \n",
    "    scheduler.step()\n",
    "\n",
    "    # track stats\n",
    "    if i % 1000 == 0:\n",
    "        val_loss_mse = validation()\n",
    "        lossv.append(val_loss_mse.log10().item())\n",
    "        print(f\" {datetime.now().strftime('%X.%f')} | batch: {i:7d}/{end_step:7d} | training loss: {loss_mse.item():11.6f} | validation loss: {val_loss_mse.item():11.6f}\") \n",
    "    \n",
    "        if i % 50000 == 0:\n",
    "            if curr_LR != optimizer.param_groups[0]['lr']:\n",
    "                curr_LR = optimizer.param_groups[0]['lr']\n",
    "                print(f\" ===> learning rate adjusted to {curr_LR}\")        \n",
    "            model.eval();\n",
    "            print(f\"**{i//50000} iterations**\")\n",
    "            split_loss('train')\n",
    "            split_loss('val')\n",
    "            split_loss('test')\n",
    "            print()\n",
    "            model.train();\n",
    "\n",
    "## End of training loop\n",
    "        \n",
    "print(f\" start_step : {start_step}     end_step: {end_step}    i: {i}\")    \n",
    "\n",
    "model.eval();\n",
    "split_loss('train')\n",
    "split_loss('val')\n",
    "split_loss('test')\n",
    "model.train();\n",
    "\n"
   ]
  },
  {
   "cell_type": "code",
   "execution_count": null,
   "id": "14cb37ed-21be-4cd2-9dab-b9a3f969f988",
   "metadata": {
    "ExecuteTime": {
     "end_time": "2023-06-04T10:55:45.256653Z",
     "start_time": "2023-06-04T10:55:45.195469Z"
    },
    "editable": true,
    "slideshow": {
     "slide_type": ""
    },
    "tags": []
   },
   "outputs": [],
   "source": [
    "# start_step = end_step\n",
    "# end_step += 50000"
   ]
  },
  {
   "cell_type": "code",
   "execution_count": null,
   "id": "f7d9e83a-74e6-4593-8c9a-d0c9a07df452",
   "metadata": {
    "ExecuteTime": {
     "end_time": "2023-07-31T19:52:14.542283Z",
     "start_time": "2023-07-31T19:52:14.519732Z"
    }
   },
   "outputs": [],
   "source": [
    "print(f\" start_step : {start_step}     end_step: {end_step}     end_step: {end_step - start_step}   i: {i}      learning rate: {optimizer.param_groups[0]['lr']}\")    "
   ]
  },
  {
   "cell_type": "code",
   "execution_count": null,
   "id": "5e978589-d202-445e-a7a8-2c8068acbe85",
   "metadata": {
    "ExecuteTime": {
     "end_time": "2023-06-04T11:35:15.434870Z",
     "start_time": "2023-06-04T11:35:15.344699Z"
    }
   },
   "outputs": [],
   "source": [
    "# for g in optimizer.param_groups:\n",
    "#     g['lr']=1e-4\n",
    "#     print(g)"
   ]
  },
  {
   "cell_type": "code",
   "execution_count": null,
   "id": "4c908dea-571f-41a1-89fc-f6d61b373560",
   "metadata": {
    "ExecuteTime": {
     "end_time": "2023-06-04T11:35:26.494885Z",
     "start_time": "2023-06-04T11:35:25.936385Z"
    }
   },
   "outputs": [],
   "source": [
    "print(len(lossi), len(lossv));\n",
    "# print(lossi[0], lossi[-1])\n",
    "# lossi.pop()\n",
    "# print(len(lossi), len(lossv));\n",
    "# print(lossi[0], lossi[-1])\n",
    "plt.plot(torch.tensor(lossi).view(-1, 1000).mean(1));\n",
    "plt.plot(torch.tensor(lossv).view(-1));\n"
   ]
  },
  {
   "cell_type": "code",
   "execution_count": null,
   "id": "6954a895-037f-4adb-b0f5-f69015b02d96",
   "metadata": {},
   "outputs": [],
   "source": [
    "https://scikit-learn.org/stable/modules/model_evaluation.html#regression-metrics:~:text=The%20r2_score%20function%20computes,score%20of%200.0."
   ]
  },
  {
   "cell_type": "code",
   "execution_count": null,
   "id": "c0d40151-f0f5-49c3-b760-4a7821aa5bfe",
   "metadata": {
    "ExecuteTime": {
     "end_time": "2023-06-04T10:31:05.356460Z",
     "start_time": "2023-06-04T10:31:04.836269Z"
    }
   },
   "outputs": [],
   "source": [
    "# put layers into eval mode (needed for batchnorm especially)\n",
    "model.eval();\n",
    "split_loss('train')\n",
    "split_loss('val')\n",
    "split_loss('test')\n",
    "model.train();"
   ]
  },
  {
   "cell_type": "markdown",
   "id": "775a554b-8709-4041-a530-6c037b5dc549",
   "metadata": {},
   "source": [
    "**training using TPSA**\n",
    "\n",
    "     train data:        MSE loss:   125.6541    R2 Score: 0.88529     Pearson Coeff. 0.9419\n",
    "\n",
    "     val   data:        MSE loss:   290.9020    R2 Score: 0.67287     Pearson Coeff. 0.8236\n",
    "\n",
    "     test  data:        MSE loss:   384.7767    R2 Score: 0.67663     Pearson Coeff. 0.8230\n",
    "      \n",
    "      "
   ]
  },
  {
   "cell_type": "markdown",
   "id": "4184f299-8ac8-418c-b494-c3e85faf2d59",
   "metadata": {},
   "source": [
    "### MinMax TPSA 128 x 64 , no BatchNorm "
   ]
  },
  {
   "cell_type": "markdown",
   "id": "6470f657-658e-40ac-846c-4731a8264a63",
   "metadata": {},
   "source": [
    "**MinMax TPSA 128 x 64 , no BatchNorm**\n",
    "\n",
    "**50k iterations**\n",
    "\n",
    "     train data:        MSE loss:     0.0001    R2 Score: 0.79670     Pearson Coeff. 0.8926\n",
    "\n",
    "     val   data:        MSE loss:     0.0001    R2 Score: 0.68855     Pearson Coeff. 0.8333\n",
    "\n",
    "     test  data:        MSE loss:     0.0002    R2 Score: 0.66196     Pearson Coeff. 0.8145\n",
    "\n",
    "\n",
    "**100k iterations**\n",
    "\n",
    "     train data:        MSE loss:     0.0001    R2 Score: 0.88567     Pearson Coeff. 0.9418\n",
    "\n",
    "     val   data:        MSE loss:     0.0001    R2 Score: 0.70376     Pearson Coeff. 0.8402\n",
    "\n",
    "     test  data:        MSE loss:     0.0002    R2 Score: 0.70878     Pearson Coeff. 0.8433\n",
    "      \n",
    "      \n",
    "**150k iterations**\n",
    "\n",
    "     train data:        MSE loss:     0.0001    R2 Score: 0.88960     Pearson Coeff. 0.9438\n",
    "\n",
    "     val   data:        MSE loss:     0.0001    R2 Score: 0.70221     Pearson Coeff. 0.8394\n",
    "\n",
    "     test  data:        MSE loss:     0.0002    R2 Score: 0.70636     Pearson Coeff. 0.8420\n",
    "      \n",
    "      \n",
    "**200k iterations**\n",
    "\n",
    "    train data:        MSE loss:     0.0001    R2 Score: 0.89114     Pearson Coeff. 0.9441\n",
    "\n",
    "     val   data:       MSE loss:     0.0001    R2 Score: 0.70325     Pearson Coeff. 0.8394\n",
    "\n",
    "     test  data:       MSE loss:     0.0002    R2 Score: 0.70603     Pearson Coeff. 0.8416\n",
    "      \n",
    "\n",
    "**250k iterations**      \n",
    "      \n",
    "     train data:        MSE loss:     0.0001    R2 Score: 0.89125     Pearson Coeff. 0.9440\n",
    "\n",
    "     val   data:        MSE loss:     0.0001    R2 Score: 0.70360     Pearson Coeff. 0.8398\n",
    "\n",
    "     test  data:        MSE loss:     0.0002    R2 Score: 0.70624     Pearson Coeff. 0.8417  \n",
    "      "
   ]
  },
  {
   "cell_type": "markdown",
   "id": "62ac0490-43ea-4b89-921c-cbee7d15733c",
   "metadata": {},
   "source": [
    "### MinMax TPSA 128 x 64 , With BatchNorm "
   ]
  },
  {
   "cell_type": "markdown",
   "id": "c4d328d5-38e1-49d5-af91-b0b3a727e98e",
   "metadata": {},
   "source": [
    "**MinMax TPSA 128 x 64 , with BatchNorm**\n",
    "\n",
    "**50k iterations**\n",
    "\n",
    "     train data:    MSE loss:     0.0001    R2 Score: 0.80766     Pearson Coeff. 0.8994\n",
    "\n",
    "     val   data:    MSE loss:     0.0001    R2 Score: 0.66401     Pearson Coeff. 0.8181\n",
    "\n",
    "     test  data:    MSE loss:     0.0002    R2 Score: 0.68471     Pearson Coeff. 0.8312\n",
    "\n",
    "\n",
    "**100k iterations**\n",
    "\n",
    "\n",
    "     train data:    MSE loss:     0.0001    R2 Score: 0.85963     Pearson Coeff. 0.9295\n",
    "\n",
    "     val   data:    MSE loss:     0.0001    R2 Score: 0.68456     Pearson Coeff. 0.8308\n",
    "\n",
    "     test  data:    MSE loss:     0.0002    R2 Score: 0.69034     Pearson Coeff. 0.8358      \n",
    "      \n",
    "      \n",
    "**150k iterations**\n",
    "\n",
    "\n",
    "     train data:    MSE loss:     0.0001    R2 Score: 0.87261     Pearson Coeff. 0.9345\n",
    "\n",
    "     val   data:    MSE loss:     0.0001    R2 Score: 0.69643     Pearson Coeff. 0.8354\n",
    "\n",
    "     test  data:    MSE loss:     0.0002    R2 Score: 0.69435     Pearson Coeff. 0.8362\n",
    "\n",
    "      \n",
    "**200k iterations**\n",
    "\n",
    "\n",
    "     train data:    MSE loss:     0.0001    R2 Score: 0.87318     Pearson Coeff. 0.9345\n",
    "\n",
    "     val   data:    MSE loss:     0.0001    R2 Score: 0.69366     Pearson Coeff. 0.8337\n",
    "\n",
    "     test  data:    MSE loss:     0.0002    R2 Score: 0.69301     Pearson Coeff. 0.8363      \n",
    "     \n",
    "\n",
    "**250k iterations**      \n",
    "      \n",
    "     train data:    MSE loss:     0.0001    R2 Score: 0.87323     Pearson Coeff. 0.9346\n",
    "\n",
    "     val   data:    MSE loss:     0.0001    R2 Score: 0.69520     Pearson Coeff. 0.8343\n",
    "\n",
    "     test  data:    MSE loss:     0.0002    R2 Score: 0.69483     Pearson Coeff. 0.8368\n",
    "      "
   ]
  },
  {
   "cell_type": "code",
   "execution_count": null,
   "id": "cf69e828-09d0-4ffa-95a5-a9fedf72ea42",
   "metadata": {
    "ExecuteTime": {
     "end_time": "2023-05-29T13:08:43.483858Z",
     "start_time": "2023-05-29T13:08:43.470308Z"
    }
   },
   "outputs": [],
   "source": [
    "from sklearn.metrics import get_scorer_names\n",
    "for i in get_scorer_names() :\n",
    "    if \"error\" in i:\n",
    "        print(i)"
   ]
  },
  {
   "cell_type": "markdown",
   "id": "791cf011-7eb0-4425-a7aa-f84ac8330074",
   "metadata": {},
   "source": [
    "## Evaluation on Test dataset"
   ]
  },
  {
   "cell_type": "code",
   "execution_count": null,
   "id": "5c292d0c-9f38-43b4-b443-bd20ba6bd6ff",
   "metadata": {},
   "outputs": [],
   "source": [
    "model.eval()\n",
    "# minibatch construct\n",
    "ix = torch.randint(0, train_X.shape[0], (batch_size,))\n",
    "Xb, Yb = torch.Tensor(train_X[ix]).to(device), torch.Tensor(train_y[ix]).to(device) # batch X,Y\n",
    "\n",
    "print(ix)\n",
    "logits = model(Xb)\n",
    "with torch.no_grad():\n",
    "    a,b = logits.cpu().numpy().squeeze(), Yb.cpu().numpy().squeeze()\n",
    "    print(a.shape, b.shape)\n",
    "    for i, j in zip(logits.cpu().numpy(), Yb.cpu().numpy()):\n",
    "        print(f\" {i[0]:.5f}     {j[0]:.5f}\")"
   ]
  },
  {
   "cell_type": "code",
   "execution_count": null,
   "id": "05a1a528-7f68-4ad4-87f6-da92082e8aa8",
   "metadata": {},
   "outputs": [],
   "source": [
    "\n"
   ]
  }
 ],
 "metadata": {
  "kernelspec": {
   "display_name": "Python [conda env:ptsnnl]",
   "language": "python",
   "name": "conda-env-ptsnnl-py"
  },
  "language_info": {
   "codemirror_mode": {
    "name": "ipython",
    "version": 3
   },
   "file_extension": ".py",
   "mimetype": "text/x-python",
   "name": "python",
   "nbconvert_exporter": "python",
   "pygments_lexer": "ipython3",
   "version": "3.11.0"
  }
 },
 "nbformat": 4,
 "nbformat_minor": 5
}
