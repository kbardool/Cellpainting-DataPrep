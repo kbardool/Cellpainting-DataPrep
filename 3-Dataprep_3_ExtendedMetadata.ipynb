{
 "cells": [
  {
   "cell_type": "markdown",
   "id": "40902a6d",
   "metadata": {},
   "source": [
    "  # Compound file processing - Part 2\n",
    "\n",
    "- Read Plate, Well and compound metdata files\n",
    "- Create Plate/Well/Compound metadata file consisting of\n",
    "    - Plate info\n",
    "    - Well Info\n",
    "    - Compound info\n",
    "- Join above file with Compound TPSA file"
   ]
  },
  {
   "cell_type": "code",
   "execution_count": 2,
   "id": "11ad0ae2",
   "metadata": {
    "ExecuteTime": {
     "end_time": "2023-06-28T22:39:38.184509Z",
     "start_time": "2023-06-28T22:39:38.165366Z"
    },
    "execution": {
     "iopub.execute_input": "2024-06-18T09:08:53.555658Z",
     "iopub.status.busy": "2024-06-18T09:08:53.554965Z",
     "iopub.status.idle": "2024-06-18T09:08:53.580805Z",
     "shell.execute_reply": "2024-06-18T09:08:53.580160Z",
     "shell.execute_reply.started": "2024-06-18T09:08:53.555613Z"
    }
   },
   "outputs": [
    {
     "data": {
      "text/html": [
       "<style>.container { width:98% !important; }</style>"
      ],
      "text/plain": [
       "<IPython.core.display.HTML object>"
      ]
     },
     "metadata": {},
     "output_type": "display_data"
    },
    {
     "name": "stdout",
     "output_type": "stream",
     "text": [
      "The autoreload extension is already loaded. To reload it, use:\n",
      "  %reload_ext autoreload\n"
     ]
    },
    {
     "data": {
      "text/plain": [
       "'/home/kevin/WSL-shared/Cellpainting/cj-datasets'"
      ]
     },
     "execution_count": 2,
     "metadata": {},
     "output_type": "execute_result"
    }
   ],
   "source": [
    "from IPython.display import display, HTML\n",
    "display(HTML(\"<style>.container { width:98% !important; }</style>\"))\n",
    "%load_ext autoreload  \n",
    "%autoreload 2\n",
    "from IPython.core.interactiveshell import InteractiveShell\n",
    "InteractiveShell.ast_node_interactivity = \"all\"\n",
    "%matplotlib inline\n",
    "%pwd\n",
    "# %cd Cellpainting/cj-datasets/"
   ]
  },
  {
   "cell_type": "code",
   "execution_count": 12,
   "id": "f521cd80-249e-4336-b818-7a61d732bd34",
   "metadata": {
    "ExecuteTime": {
     "end_time": "2023-06-28T22:39:42.815187Z",
     "start_time": "2023-06-28T22:39:38.392419Z"
    },
    "execution": {
     "iopub.execute_input": "2024-06-18T09:16:53.105968Z",
     "iopub.status.busy": "2024-06-18T09:16:53.105490Z",
     "iopub.status.idle": "2024-06-18T09:17:06.461964Z",
     "shell.execute_reply": "2024-06-18T09:17:06.460840Z",
     "shell.execute_reply.started": "2024-06-18T09:16:53.105925Z"
    }
   },
   "outputs": [
    {
     "name": "stdout",
     "output_type": "stream",
     "text": [
      "['../..', './src', '/home/kevin/WSL-shared/Cellpainting/cj-datasets', '/home/kevin/miniforge3/envs/cp311/lib/python311.zip', '/home/kevin/miniforge3/envs/cp311/lib/python3.11', '/home/kevin/miniforge3/envs/cp311/lib/python3.11/lib-dynload', '', '/home/kevin/miniforge3/envs/cp311/lib/python3.11/site-packages', '/home/kevin/miniforge3/envs/cp311/lib/python3.11/site-packages/huggingface_hub-0.20.3-py3.8.egg']\n",
      "06/18/24-11:17:06.442924\n",
      "2024-17-18 11:06:06.443175\n"
     ]
    }
   ],
   "source": [
    "import os\n",
    "import sys\n",
    "import argparse\n",
    "import csv\n",
    "import json\n",
    "import time\n",
    "import types, copy, pprint\n",
    "from datetime import datetime\n",
    "for p in ['./src','../..']:\n",
    "    if p not in sys.path:\n",
    "        print(f\"insert {p}\")\n",
    "        sys.path.insert(0, p)\n",
    "print(sys.path)\n",
    "import numpy as np\n",
    "import pandas as pd\n",
    "from scipy.sparse import csr_matrix\n",
    "\n",
    "from rdkit import Chem\n",
    "from rdkit.Chem import PandasTools \n",
    "import matplotlib.pyplot as plt\n",
    "\n",
    "from utils import project_datasets\n",
    "from KevinsRoutines.utils.utils_chem  import getTPSAFromRDKit, getSmilesFromRDKit\n",
    "from KevinsRoutines.utils.utils_general import list_namespace\n",
    "\n",
    "pp = pprint.PrettyPrinter(indent=4)\n",
    "np.set_printoptions(edgeitems=3, infstr='inf', linewidth=150, nanstr='nan')\n",
    "pd.options.display.width = 132\n",
    "\n",
    "os.environ[\"WANDB_NOTEBOOK_NAME\"] = \"Adashare_Train.ipynb\"\n",
    "os.environ[\"CUDA_LAUNCH_BLOCKING\"] = \"1\"\n",
    "\n",
    "# time.strftime(' %x%X')\n",
    "# datetime.now().strftime('%X.%f')\n",
    "# time.strftime('%X %x %Z')\n",
    "print(datetime.now().strftime('%D-%X.%f'))\n",
    "print(datetime.now().strftime('%Y-%M-%d %H:%m:%S.%f'))"
   ]
  },
  {
   "cell_type": "code",
   "execution_count": 19,
   "id": "179be13f-6b60-440f-bc5a-03f9191f473f",
   "metadata": {
    "ExecuteTime": {
     "end_time": "2023-06-28T19:57:26.086260Z",
     "start_time": "2023-06-28T19:57:25.294622Z"
    },
    "execution": {
     "iopub.execute_input": "2024-06-18T09:18:33.314812Z",
     "iopub.status.busy": "2024-06-18T09:18:33.314206Z",
     "iopub.status.idle": "2024-06-18T09:18:33.355068Z",
     "shell.execute_reply": "2024-06-18T09:18:33.353908Z",
     "shell.execute_reply.started": "2024-06-18T09:18:33.314766Z"
    }
   },
   "outputs": [],
   "source": [
    "# plates = pd.read_csv(os.path.join(metadata_path,\"plate_new.csv\"))\n",
    "# wells = pd.read_csv(os.path.join(metadata_path,\"well.csv\"))\n",
    "# compound = pd.read_csv(os.path.join(metadata_path,\"compound.csv\"))\n",
    "# orf = pd.read_csv(os.path.join(metadata_path,\"orf.csv\"))\n",
    "# crispr = pd.read_csv(os.path.join(metadata_path,\"crispr.csv\"))\n",
    "## gz, bz2, zip, tar, tar.gz, tar.bz2\n",
    "# types = ['.gz', '.bz2','.zip', '.tar', '.tar.gz', '.tar.bz2']\n",
    "# type_bz2 = 'bz2'\n",
    "# type_gzip = 'gz'\n",
    "\n",
    "metadata_path = \"./metadata_20240618/\"\n",
    "input_path =\"./metadata/\"\n",
    "output_path =\"./output_11102023/\"\n",
    "ds = project_datasets(metadata_path=metadata_path, input_path=input_path, output_path=output_path) "
   ]
  },
  {
   "cell_type": "code",
   "execution_count": 20,
   "id": "045844f6-7c37-404d-a0c9-88a8f44e0338",
   "metadata": {
    "execution": {
     "iopub.execute_input": "2024-06-18T09:18:35.706582Z",
     "iopub.status.busy": "2024-06-18T09:18:35.705857Z",
     "iopub.status.idle": "2024-06-18T09:18:35.747609Z",
     "shell.execute_reply": "2024-06-18T09:18:35.746545Z",
     "shell.execute_reply.started": "2024-06-18T09:18:35.706497Z"
    }
   },
   "outputs": [
    {
     "name": "stdout",
     "output_type": "stream",
     "text": [
      " prefix                                   :  \n",
      "\n",
      " compound Metadata Input File             : ./metadata_20240618/compound.csv\n",
      " plate Metadata Input File                : ./metadata_20240618/plate_new.csv\n",
      " well Metadata Input File                 : ./metadata_20240618/well.csv\n",
      " ORF Metadata File                        : ./metadata_20240618/orf.csv\n",
      " Crispr Metadata File                     : ./metadata_20240618/crispr.csv\n",
      " \n",
      " compound Metadata Output File            : ./output_11102023/compound_metadata_clean.csv\n",
      " \n",
      " compound Metadata + TPSA File            : ./output_11102023/compound_metadata_tpsa.csv\n",
      " compound Metadata + TPSA Cleaned File    : ./output_11102023/compound_metadata_tpsa_clean.csv\n",
      " \n",
      " CompoundExtendedMetadataFile             : ./output_11102023/compound_extended_metadata.csv\n",
      " CompoundExtendedMetadataMoreThan3        : ./output_11102023/compound_extended_metadata_morethan_3_wells.csv\n",
      "\n",
      " CompoundExtendedMetadata 5 SampleFile    : ./output_11102023/compound_extended_metadata_5samples.csv\n",
      " CompoundExtendedMetadata 4 SampleFile    : ./output_11102023/compound_extended_metadata_4samples.csv\n",
      " CompoundExtendedMetadata 3 SampleFile    : ./output_11102023/compound_extended_metadata_3samples.csv\n",
      " CompoundExtendedMetadata 2 SampleFile    : ./output_11102023/compound_extended_metadata_2samples.csv\n",
      " \n",
      " compound TPSA File                       : ./output_11102023/compound_TPSA.csv\n",
      " compound TPSA Clean File                 : ./output_11102023/compound_TPSA_clean.csv\n",
      "\n"
     ]
    }
   ],
   "source": [
    " \n",
    "print(f\" prefix                                   : {ds.prefix} \\n\" )\n",
    "print(f\" compound Metadata Input File             : {ds.compoundMetadata}\")\n",
    "print(f\" plate Metadata Input File                : {ds.plateMetadata}\")\n",
    "print(f\" well Metadata Input File                 : {ds.wellMetadata}\")\n",
    "print(f\" ORF Metadata File                        : {ds.ORFMetadata}\")\n",
    "print(f\" Crispr Metadata File                     : {ds.CrisprMetadata}\")\n",
    "print(f\" \")\n",
    "print(f\" compound Metadata Output File            : {ds.compoundMetadataCleanFile}\")\n",
    "print(f\" \")\n",
    "print(f\" compound Metadata + TPSA File            : {ds.compoundMetadataTPSAFile}\")\n",
    "print(f\" compound Metadata + TPSA Cleaned File    : {ds.compoundMetadataTPSACleanFile}\")\n",
    "print(f\" \")\n",
    "print(f\" CompoundExtendedMetadataFile             : {ds.CompoundExtendedMetadataFile }\")\n",
    "print(f\" CompoundExtendedMetadataMoreThan3        : {ds.CompoundExtendedMetadataMoreThan3File}\")\n",
    "print()\n",
    "print(f\" CompoundExtendedMetadata 5 SampleFile    : {ds.CompoundExtendedMetadata5SampleFile }\")\n",
    "print(f\" CompoundExtendedMetadata 4 SampleFile    : {ds.CompoundExtendedMetadata4SampleFile }\")\n",
    "print(f\" CompoundExtendedMetadata 3 SampleFile    : {ds.CompoundExtendedMetadata3SampleFile }\")\n",
    "print(f\" CompoundExtendedMetadata 2 SampleFile    : {ds.CompoundExtendedMetadata2SampleFile }\")\n",
    "print(f\" \")\n",
    "print(f\" compound TPSA File                       : {ds.compoundTPSAFile}\")\n",
    "print(f\" compound TPSA Clean File                 : {ds.compoundTPSACleanFile}\\n\")\n",
    "\n",
    "# print(f\" compound Pharmacophore Sparse File       : {compoundPharmacophoreFile}\")\n",
    "# print(f\" compound Pharmacophore Sparse Clean File : {compoundPharmacophoreCleanFile}\\n\")\n",
    "# print(f\" compound Pharmacophore Dense File        : {compoundPharmacophoreDenseFile}\")\n",
    "# print(f\" compound Pharmacophore Dense Zipped File : {compoundPharmacophoreDenseZipFile}\")"
   ]
  },
  {
   "cell_type": "code",
   "execution_count": 7,
   "id": "b52e2790-8e15-402b-81db-dcafeb9f4393",
   "metadata": {
    "execution": {
     "iopub.execute_input": "2024-05-07T13:19:38.288101Z",
     "iopub.status.busy": "2024-05-07T13:19:38.287624Z",
     "iopub.status.idle": "2024-05-07T13:19:39.325405Z",
     "shell.execute_reply": "2024-05-07T13:19:39.324470Z",
     "shell.execute_reply.started": "2024-05-07T13:19:38.288058Z"
    }
   },
   "outputs": [],
   "source": [
    "# compounds   = pd.read_csv(ds.compoundMetadata)\n",
    "# wells    = pd.read_csv(ds.plateMetadata)\n",
    "# compound = pd.read_csv(ds.wellMetadata)\n",
    "# orf      = pd.read_csv(ds.ORFMetadata)\n",
    "# crispr   = pd.read_csv(ds.CrisprMetadata)"
   ]
  },
  {
   "cell_type": "markdown",
   "id": "c58f843e-1989-4fa1-acdc-1a65d018ad8e",
   "metadata": {},
   "source": [
    "# Read Metadata files"
   ]
  },
  {
   "cell_type": "markdown",
   "id": "b1537af7",
   "metadata": {
    "jp-MarkdownHeadingCollapsed": true
   },
   "source": [
    "## compound_metadata_tpsa clean file"
   ]
  },
  {
   "cell_type": "markdown",
   "id": "37d944b9-d4a3-4b83-a73c-1965b5c666e5",
   "metadata": {},
   "source": [
    " ##### Number of compounds: 116,691 \n",
    " (There are: \n",
    "   -  116,753 Unique compounds on the Compounds metadata file provided by broad\n",
    "   -  116,691 Compounds in the Compound/TPSA file we have created. \n",
    "   -  138,907 unique compounds with JCP2022 codes on the Wells metadata file - 23216 compounds are missing"
   ]
  },
  {
   "cell_type": "code",
   "execution_count": 10,
   "id": "e0f3ade8-9ff2-4641-8f56-df23cfa7820f",
   "metadata": {
    "ExecuteTime": {
     "end_time": "2023-06-28T23:05:10.548233Z",
     "start_time": "2023-06-28T23:05:10.225529Z"
    },
    "execution": {
     "iopub.execute_input": "2024-05-07T13:20:46.179792Z",
     "iopub.status.busy": "2024-05-07T13:20:46.179326Z",
     "iopub.status.idle": "2024-05-07T13:20:46.203610Z",
     "shell.execute_reply": "2024-05-07T13:20:46.202927Z",
     "shell.execute_reply.started": "2024-05-07T13:20:46.179751Z"
    }
   },
   "outputs": [
    {
     "name": "stdout",
     "output_type": "stream",
     "text": [
      "compound+Metadata+TPSA Clean File  ./output_11102023/compound_metadata_tpsa_clean.csv\n"
     ]
    }
   ],
   "source": [
    "print(f\"compound+Metadata+TPSA Clean File  {ds.compoundMetadataTPSACleanFile}\")"
   ]
  },
  {
   "cell_type": "code",
   "execution_count": 11,
   "id": "66e57185-0550-45d1-8c66-c4e56c0abed0",
   "metadata": {
    "ExecuteTime": {
     "end_time": "2023-06-28T23:05:10.548233Z",
     "start_time": "2023-06-28T23:05:10.225529Z"
    },
    "execution": {
     "iopub.execute_input": "2024-05-07T13:20:53.226881Z",
     "iopub.status.busy": "2024-05-07T13:20:53.226380Z",
     "iopub.status.idle": "2024-05-07T13:20:53.778410Z",
     "shell.execute_reply": "2024-05-07T13:20:53.777828Z",
     "shell.execute_reply.started": "2024-05-07T13:20:53.226839Z"
    }
   },
   "outputs": [
    {
     "name": "stdout",
     "output_type": "stream",
     "text": [
      "<class 'pandas.core.frame.DataFrame'>\n",
      "RangeIndex: 116691 entries, 0 to 116690\n",
      "Data columns (total 10 columns):\n",
      " #   Column               Non-Null Count   Dtype  \n",
      "---  ------               --------------   -----  \n",
      " 0   Metadata_JCP2022     116691 non-null  object \n",
      " 1   Metadata_Hash        116691 non-null  int64  \n",
      " 2   Metadata_Bin         116691 non-null  int64  \n",
      " 3   Metadata_InChIKey    116691 non-null  object \n",
      " 4   Metadata_InChI       116691 non-null  object \n",
      " 5   Metadata_Smiles      116691 non-null  object \n",
      " 6   Metadata_TPSA        116691 non-null  float64\n",
      " 7   Metadata_lnTPSA      116691 non-null  float64\n",
      " 8   Metadata_logTPSA     116691 non-null  float64\n",
      " 9   Metadata_Permiation  116691 non-null  int64  \n",
      "dtypes: float64(3), int64(3), object(4)\n",
      "memory usage: 8.9+ MB\n"
     ]
    },
    {
     "data": {
      "text/html": [
       "<div>\n",
       "<style scoped>\n",
       "    .dataframe tbody tr th:only-of-type {\n",
       "        vertical-align: middle;\n",
       "    }\n",
       "\n",
       "    .dataframe tbody tr th {\n",
       "        vertical-align: top;\n",
       "    }\n",
       "\n",
       "    .dataframe thead th {\n",
       "        text-align: right;\n",
       "    }\n",
       "</style>\n",
       "<table border=\"1\" class=\"dataframe\">\n",
       "  <thead>\n",
       "    <tr style=\"text-align: right;\">\n",
       "      <th></th>\n",
       "      <th>Metadata_JCP2022</th>\n",
       "      <th>Metadata_Hash</th>\n",
       "      <th>Metadata_Bin</th>\n",
       "      <th>Metadata_InChIKey</th>\n",
       "      <th>Metadata_InChI</th>\n",
       "      <th>Metadata_Smiles</th>\n",
       "      <th>Metadata_TPSA</th>\n",
       "      <th>Metadata_lnTPSA</th>\n",
       "      <th>Metadata_logTPSA</th>\n",
       "      <th>Metadata_Permiation</th>\n",
       "    </tr>\n",
       "  </thead>\n",
       "  <tbody>\n",
       "    <tr>\n",
       "      <th>0</th>\n",
       "      <td>JCP2022_000001</td>\n",
       "      <td>-8640665944756343816</td>\n",
       "      <td>4</td>\n",
       "      <td>AAAHWCWPZPSPIW-UHFFFAOYSA-N</td>\n",
       "      <td>InChI=1S/C25H31N5O2/c1-4-23-26-14-16-30(23)24-...</td>\n",
       "      <td>CCC1=NC=CN1c2cccc(n2)C3CCCN3C(=O)c4ccc(cc4)OCC...</td>\n",
       "      <td>63.49</td>\n",
       "      <td>4.150882</td>\n",
       "      <td>1.802705</td>\n",
       "      <td>0</td>\n",
       "    </tr>\n",
       "    <tr>\n",
       "      <th>1</th>\n",
       "      <td>JCP2022_000002</td>\n",
       "      <td>-2058530355611931119</td>\n",
       "      <td>1</td>\n",
       "      <td>AAAJHRMBUHXWLD-UHFFFAOYSA-N</td>\n",
       "      <td>InChI=1S/C11H13ClN2O/c12-10-4-2-9(3-5-10)8-14-...</td>\n",
       "      <td>OC1=NCCCN1Cc2ccc(Cl)cc2</td>\n",
       "      <td>35.83</td>\n",
       "      <td>3.578786</td>\n",
       "      <td>1.554247</td>\n",
       "      <td>0</td>\n",
       "    </tr>\n",
       "  </tbody>\n",
       "</table>\n",
       "</div>"
      ],
      "text/plain": [
       "  Metadata_JCP2022        Metadata_Hash  Metadata_Bin            Metadata_InChIKey  \\\n",
       "0   JCP2022_000001 -8640665944756343816             4  AAAHWCWPZPSPIW-UHFFFAOYSA-N   \n",
       "1   JCP2022_000002 -2058530355611931119             1  AAAJHRMBUHXWLD-UHFFFAOYSA-N   \n",
       "\n",
       "                                      Metadata_InChI                                    Metadata_Smiles  Metadata_TPSA  \\\n",
       "0  InChI=1S/C25H31N5O2/c1-4-23-26-14-16-30(23)24-...  CCC1=NC=CN1c2cccc(n2)C3CCCN3C(=O)c4ccc(cc4)OCC...          63.49   \n",
       "1  InChI=1S/C11H13ClN2O/c12-10-4-2-9(3-5-10)8-14-...                            OC1=NCCCN1Cc2ccc(Cl)cc2          35.83   \n",
       "\n",
       "   Metadata_lnTPSA  Metadata_logTPSA  Metadata_Permiation  \n",
       "0         4.150882          1.802705                    0  \n",
       "1         3.578786          1.554247                    0  "
      ]
     },
     "execution_count": 11,
     "metadata": {},
     "output_type": "execute_result"
    },
    {
     "data": {
      "text/html": [
       "<div>\n",
       "<style scoped>\n",
       "    .dataframe tbody tr th:only-of-type {\n",
       "        vertical-align: middle;\n",
       "    }\n",
       "\n",
       "    .dataframe tbody tr th {\n",
       "        vertical-align: top;\n",
       "    }\n",
       "\n",
       "    .dataframe thead th {\n",
       "        text-align: right;\n",
       "    }\n",
       "</style>\n",
       "<table border=\"1\" class=\"dataframe\">\n",
       "  <thead>\n",
       "    <tr style=\"text-align: right;\">\n",
       "      <th></th>\n",
       "      <th>Metadata_JCP2022</th>\n",
       "      <th>Metadata_Hash</th>\n",
       "      <th>Metadata_Bin</th>\n",
       "      <th>Metadata_InChIKey</th>\n",
       "      <th>Metadata_InChI</th>\n",
       "      <th>Metadata_Smiles</th>\n",
       "      <th>Metadata_TPSA</th>\n",
       "      <th>Metadata_lnTPSA</th>\n",
       "      <th>Metadata_logTPSA</th>\n",
       "      <th>Metadata_Permiation</th>\n",
       "    </tr>\n",
       "  </thead>\n",
       "  <tbody>\n",
       "    <tr>\n",
       "      <th>116689</th>\n",
       "      <td>JCP2022_116752</td>\n",
       "      <td>8043583690001075349</td>\n",
       "      <td>9</td>\n",
       "      <td>ZZZZIBSVRUABIA-UHFFFAOYSA-N</td>\n",
       "      <td>InChI=1S/C19H13F6N3O2S/c1-11-26-6-5-17(27-11)1...</td>\n",
       "      <td>Cc1nccc(n1)c2cccc(c2)NS(=O)(=O)c3cc(cc(c3)C(F)...</td>\n",
       "      <td>71.95</td>\n",
       "      <td>4.275971</td>\n",
       "      <td>1.857031</td>\n",
       "      <td>0</td>\n",
       "    </tr>\n",
       "    <tr>\n",
       "      <th>116690</th>\n",
       "      <td>JCP2022_116753</td>\n",
       "      <td>-9112886486787329276</td>\n",
       "      <td>4</td>\n",
       "      <td>ZZZZVNLQWWXZTQ-UHFFFAOYSA-N</td>\n",
       "      <td>InChI=1S/C14H20N2O3/c1-18-13-5-3-2-4-12(13)14(...</td>\n",
       "      <td>COc1ccccc1C(O)=NCCN2CCOCC2</td>\n",
       "      <td>54.29</td>\n",
       "      <td>3.994340</td>\n",
       "      <td>1.734720</td>\n",
       "      <td>0</td>\n",
       "    </tr>\n",
       "  </tbody>\n",
       "</table>\n",
       "</div>"
      ],
      "text/plain": [
       "       Metadata_JCP2022        Metadata_Hash  Metadata_Bin            Metadata_InChIKey  \\\n",
       "116689   JCP2022_116752  8043583690001075349             9  ZZZZIBSVRUABIA-UHFFFAOYSA-N   \n",
       "116690   JCP2022_116753 -9112886486787329276             4  ZZZZVNLQWWXZTQ-UHFFFAOYSA-N   \n",
       "\n",
       "                                           Metadata_InChI                                    Metadata_Smiles  Metadata_TPSA  \\\n",
       "116689  InChI=1S/C19H13F6N3O2S/c1-11-26-6-5-17(27-11)1...  Cc1nccc(n1)c2cccc(c2)NS(=O)(=O)c3cc(cc(c3)C(F)...          71.95   \n",
       "116690  InChI=1S/C14H20N2O3/c1-18-13-5-3-2-4-12(13)14(...                         COc1ccccc1C(O)=NCCN2CCOCC2          54.29   \n",
       "\n",
       "        Metadata_lnTPSA  Metadata_logTPSA  Metadata_Permiation  \n",
       "116689         4.275971          1.857031                    0  \n",
       "116690         3.994340          1.734720                    0  "
      ]
     },
     "execution_count": 11,
     "metadata": {},
     "output_type": "execute_result"
    }
   ],
   "source": [
    "# df = pd.read_csv('JUMP-MOA_compound_metadata.tsv', delimiter='\\t')\n",
    "# df = pd.read_csv('JUMP-Target-1_compound_metadata.tsv', delimiter='\\t')\n",
    "# df = pd.read_csv(compoundMetadataOutputFile)\n",
    "# df = pd.read_csv(compoundMetadataOutputFile_2)\n",
    "# inputFile1 = compoundMetadataTPSAFile\n",
    "\n",
    " \n",
    "df_compounds = pd.read_csv(ds.compoundMetadataTPSACleanFile)\n",
    "df_compounds.info()\n",
    "df_compounds.head(2)\n",
    "df_compounds.tail(2)\n",
    "\n",
    "# df_compounds[df_compounds.Metadata_JCP2022 == \"JCP2022_UNKNOWN\"]"
   ]
  },
  {
   "cell_type": "markdown",
   "id": "95622215-30d9-4ebf-bc12-e143659e1b85",
   "metadata": {},
   "source": [
    "## Compound Metadata"
   ]
  },
  {
   "cell_type": "code",
   "execution_count": 21,
   "id": "628ed452-d315-44cd-b6b5-d5d6e9d2f9b1",
   "metadata": {
    "ExecuteTime": {
     "end_time": "2023-06-28T22:39:43.411896Z",
     "start_time": "2023-06-28T22:39:43.390769Z"
    },
    "execution": {
     "iopub.execute_input": "2024-06-18T09:18:49.186297Z",
     "iopub.status.busy": "2024-06-18T09:18:49.185746Z",
     "iopub.status.idle": "2024-06-18T09:18:49.697830Z",
     "shell.execute_reply": "2024-06-18T09:18:49.696880Z",
     "shell.execute_reply.started": "2024-06-18T09:18:49.186252Z"
    }
   },
   "outputs": [
    {
     "name": "stdout",
     "output_type": "stream",
     "text": [
      "Compound Metadata file:  ./metadata_20240618/compound.csv\n"
     ]
    }
   ],
   "source": [
    "print(f\"Compound Metadata file:  {ds.compoundMetadata}\")\n",
    "df_compounds = pd.read_csv(ds.compoundMetadata)"
   ]
  },
  {
   "cell_type": "code",
   "execution_count": 14,
   "id": "edb43c3f-fc13-432f-ada9-2fe075e4d366",
   "metadata": {
    "execution": {
     "iopub.execute_input": "2024-05-07T13:21:24.237693Z",
     "iopub.status.busy": "2024-05-07T13:21:24.237194Z",
     "iopub.status.idle": "2024-05-07T13:21:24.306476Z",
     "shell.execute_reply": "2024-05-07T13:21:24.305766Z",
     "shell.execute_reply.started": "2024-05-07T13:21:24.237651Z"
    }
   },
   "outputs": [
    {
     "name": "stdout",
     "output_type": "stream",
     "text": [
      "<class 'pandas.core.frame.DataFrame'>\n",
      "RangeIndex: 116753 entries, 0 to 116752\n",
      "Data columns (total 3 columns):\n",
      " #   Column             Non-Null Count   Dtype \n",
      "---  ------             --------------   ----- \n",
      " 0   Metadata_JCP2022   116753 non-null  object\n",
      " 1   Metadata_InChIKey  116752 non-null  object\n",
      " 2   Metadata_InChI     116752 non-null  object\n",
      "dtypes: object(3)\n",
      "memory usage: 2.7+ MB\n",
      "None\n"
     ]
    },
    {
     "data": {
      "text/html": [
       "<div>\n",
       "<style scoped>\n",
       "    .dataframe tbody tr th:only-of-type {\n",
       "        vertical-align: middle;\n",
       "    }\n",
       "\n",
       "    .dataframe tbody tr th {\n",
       "        vertical-align: top;\n",
       "    }\n",
       "\n",
       "    .dataframe thead th {\n",
       "        text-align: right;\n",
       "    }\n",
       "</style>\n",
       "<table border=\"1\" class=\"dataframe\">\n",
       "  <thead>\n",
       "    <tr style=\"text-align: right;\">\n",
       "      <th></th>\n",
       "      <th>Metadata_JCP2022</th>\n",
       "      <th>Metadata_InChIKey</th>\n",
       "      <th>Metadata_InChI</th>\n",
       "    </tr>\n",
       "  </thead>\n",
       "  <tbody>\n",
       "    <tr>\n",
       "      <th>0</th>\n",
       "      <td>JCP2022_000001</td>\n",
       "      <td>AAAHWCWPZPSPIW-UHFFFAOYSA-N</td>\n",
       "      <td>InChI=1S/C25H31N5O2/c1-4-23-26-14-16-30(23)24-...</td>\n",
       "    </tr>\n",
       "    <tr>\n",
       "      <th>1</th>\n",
       "      <td>JCP2022_000002</td>\n",
       "      <td>AAAJHRMBUHXWLD-UHFFFAOYSA-N</td>\n",
       "      <td>InChI=1S/C11H13ClN2O/c12-10-4-2-9(3-5-10)8-14-...</td>\n",
       "    </tr>\n",
       "    <tr>\n",
       "      <th>2</th>\n",
       "      <td>JCP2022_000003</td>\n",
       "      <td>AAALVYBICLMAMA-UHFFFAOYSA-N</td>\n",
       "      <td>InChI=1S/C20H15N3O2/c24-19-15-11-17(21-13-7-3-...</td>\n",
       "    </tr>\n",
       "  </tbody>\n",
       "</table>\n",
       "</div>"
      ],
      "text/plain": [
       "  Metadata_JCP2022            Metadata_InChIKey                                     Metadata_InChI\n",
       "0   JCP2022_000001  AAAHWCWPZPSPIW-UHFFFAOYSA-N  InChI=1S/C25H31N5O2/c1-4-23-26-14-16-30(23)24-...\n",
       "1   JCP2022_000002  AAAJHRMBUHXWLD-UHFFFAOYSA-N  InChI=1S/C11H13ClN2O/c12-10-4-2-9(3-5-10)8-14-...\n",
       "2   JCP2022_000003  AAALVYBICLMAMA-UHFFFAOYSA-N  InChI=1S/C20H15N3O2/c24-19-15-11-17(21-13-7-3-..."
      ]
     },
     "execution_count": 14,
     "metadata": {},
     "output_type": "execute_result"
    },
    {
     "data": {
      "text/html": [
       "<div>\n",
       "<style scoped>\n",
       "    .dataframe tbody tr th:only-of-type {\n",
       "        vertical-align: middle;\n",
       "    }\n",
       "\n",
       "    .dataframe tbody tr th {\n",
       "        vertical-align: top;\n",
       "    }\n",
       "\n",
       "    .dataframe thead th {\n",
       "        text-align: right;\n",
       "    }\n",
       "</style>\n",
       "<table border=\"1\" class=\"dataframe\">\n",
       "  <thead>\n",
       "    <tr style=\"text-align: right;\">\n",
       "      <th></th>\n",
       "      <th>Metadata_JCP2022</th>\n",
       "      <th>Metadata_InChIKey</th>\n",
       "      <th>Metadata_InChI</th>\n",
       "    </tr>\n",
       "  </thead>\n",
       "  <tbody>\n",
       "    <tr>\n",
       "      <th>116750</th>\n",
       "      <td>JCP2022_116752</td>\n",
       "      <td>ZZZZIBSVRUABIA-UHFFFAOYSA-N</td>\n",
       "      <td>InChI=1S/C19H13F6N3O2S/c1-11-26-6-5-17(27-11)1...</td>\n",
       "    </tr>\n",
       "    <tr>\n",
       "      <th>116751</th>\n",
       "      <td>JCP2022_116753</td>\n",
       "      <td>ZZZZVNLQWWXZTQ-UHFFFAOYSA-N</td>\n",
       "      <td>InChI=1S/C14H20N2O3/c1-18-13-5-3-2-4-12(13)14(...</td>\n",
       "    </tr>\n",
       "    <tr>\n",
       "      <th>116752</th>\n",
       "      <td>JCP2022_999999</td>\n",
       "      <td>NaN</td>\n",
       "      <td>NaN</td>\n",
       "    </tr>\n",
       "  </tbody>\n",
       "</table>\n",
       "</div>"
      ],
      "text/plain": [
       "       Metadata_JCP2022            Metadata_InChIKey                                     Metadata_InChI\n",
       "116750   JCP2022_116752  ZZZZIBSVRUABIA-UHFFFAOYSA-N  InChI=1S/C19H13F6N3O2S/c1-11-26-6-5-17(27-11)1...\n",
       "116751   JCP2022_116753  ZZZZVNLQWWXZTQ-UHFFFAOYSA-N  InChI=1S/C14H20N2O3/c1-18-13-5-3-2-4-12(13)14(...\n",
       "116752   JCP2022_999999                          NaN                                                NaN"
      ]
     },
     "execution_count": 14,
     "metadata": {},
     "output_type": "execute_result"
    },
    {
     "data": {
      "text/plain": [
       "116753"
      ]
     },
     "execution_count": 14,
     "metadata": {},
     "output_type": "execute_result"
    }
   ],
   "source": [
    "print(df_compounds.info())\n",
    "df_compounds.head(3)\n",
    "df_compounds.tail(3)\n",
    "len(df_compounds['Metadata_JCP2022'].unique())"
   ]
  },
  {
   "cell_type": "code",
   "execution_count": 23,
   "id": "504d1fb0-83f1-4b5d-b038-55ec3054e70d",
   "metadata": {
    "execution": {
     "iopub.execute_input": "2024-06-18T09:19:34.023405Z",
     "iopub.status.busy": "2024-06-18T09:19:34.022900Z",
     "iopub.status.idle": "2024-06-18T09:19:34.060882Z",
     "shell.execute_reply": "2024-06-18T09:19:34.059670Z",
     "shell.execute_reply.started": "2024-06-18T09:19:34.023361Z"
    }
   },
   "outputs": [],
   "source": [
    "# print(df_compounds.info())\n",
    "# df_compounds.head(3)\n",
    "# df_compounds.tail(3)\n",
    "# len(df_compounds['Metadata_JCP2022'].unique())"
   ]
  },
  {
   "cell_type": "markdown",
   "id": "b8d3b995-3306-4fdf-aea4-3678c687ba0d",
   "metadata": {},
   "source": [
    "## Plate Metadata"
   ]
  },
  {
   "cell_type": "code",
   "execution_count": 26,
   "id": "a36699a2",
   "metadata": {
    "ExecuteTime": {
     "end_time": "2023-06-28T22:39:43.411896Z",
     "start_time": "2023-06-28T22:39:43.390769Z"
    },
    "execution": {
     "iopub.execute_input": "2024-06-18T09:20:21.850192Z",
     "iopub.status.busy": "2024-06-18T09:20:21.849674Z",
     "iopub.status.idle": "2024-06-18T09:20:21.891365Z",
     "shell.execute_reply": "2024-06-18T09:20:21.890238Z",
     "shell.execute_reply.started": "2024-06-18T09:20:21.850149Z"
    }
   },
   "outputs": [
    {
     "name": "stdout",
     "output_type": "stream",
     "text": [
      "Plate file:  ./metadata_20240618/plate.csv\n"
     ]
    }
   ],
   "source": [
    "# ds.plateMetadata = './metadata_20240618/plate.csv'\n",
    "print(f\"Plate file:  {ds.plateMetadata}\")\n",
    "df_plate = pd.read_csv(ds.plateMetadata)"
   ]
  },
  {
   "cell_type": "code",
   "execution_count": 16,
   "id": "f2d08a43-4534-4ed7-acbd-7e310a5c6b03",
   "metadata": {
    "execution": {
     "iopub.execute_input": "2024-05-07T13:21:52.000714Z",
     "iopub.status.busy": "2024-05-07T13:21:52.000416Z",
     "iopub.status.idle": "2024-05-07T13:21:52.043784Z",
     "shell.execute_reply": "2024-05-07T13:21:52.043063Z",
     "shell.execute_reply.started": "2024-05-07T13:21:52.000693Z"
    }
   },
   "outputs": [
    {
     "name": "stdout",
     "output_type": "stream",
     "text": [
      "<class 'pandas.core.frame.DataFrame'>\n",
      "RangeIndex: 2378 entries, 0 to 2377\n",
      "Data columns (total 4 columns):\n",
      " #   Column              Non-Null Count  Dtype \n",
      "---  ------              --------------  ----- \n",
      " 0   Metadata_Source     2378 non-null   object\n",
      " 1   Metadata_Batch      2378 non-null   object\n",
      " 2   Metadata_Plate      2378 non-null   object\n",
      " 3   Metadata_PlateType  2378 non-null   object\n",
      "dtypes: object(4)\n",
      "memory usage: 74.4+ KB\n",
      "None\n"
     ]
    },
    {
     "data": {
      "text/html": [
       "<div>\n",
       "<style scoped>\n",
       "    .dataframe tbody tr th:only-of-type {\n",
       "        vertical-align: middle;\n",
       "    }\n",
       "\n",
       "    .dataframe tbody tr th {\n",
       "        vertical-align: top;\n",
       "    }\n",
       "\n",
       "    .dataframe thead th {\n",
       "        text-align: right;\n",
       "    }\n",
       "</style>\n",
       "<table border=\"1\" class=\"dataframe\">\n",
       "  <thead>\n",
       "    <tr style=\"text-align: right;\">\n",
       "      <th></th>\n",
       "      <th>Metadata_Source</th>\n",
       "      <th>Metadata_Batch</th>\n",
       "      <th>Metadata_Plate</th>\n",
       "      <th>Metadata_PlateType</th>\n",
       "    </tr>\n",
       "  </thead>\n",
       "  <tbody>\n",
       "    <tr>\n",
       "      <th>0</th>\n",
       "      <td>source_1</td>\n",
       "      <td>Batch1_20221004</td>\n",
       "      <td>UL000109</td>\n",
       "      <td>COMPOUND_EMPTY</td>\n",
       "    </tr>\n",
       "    <tr>\n",
       "      <th>1</th>\n",
       "      <td>source_1</td>\n",
       "      <td>Batch1_20221004</td>\n",
       "      <td>UL001641</td>\n",
       "      <td>COMPOUND</td>\n",
       "    </tr>\n",
       "    <tr>\n",
       "      <th>2</th>\n",
       "      <td>source_1</td>\n",
       "      <td>Batch1_20221004</td>\n",
       "      <td>UL001643</td>\n",
       "      <td>COMPOUND</td>\n",
       "    </tr>\n",
       "  </tbody>\n",
       "</table>\n",
       "</div>"
      ],
      "text/plain": [
       "  Metadata_Source   Metadata_Batch Metadata_Plate Metadata_PlateType\n",
       "0        source_1  Batch1_20221004       UL000109     COMPOUND_EMPTY\n",
       "1        source_1  Batch1_20221004       UL001641           COMPOUND\n",
       "2        source_1  Batch1_20221004       UL001643           COMPOUND"
      ]
     },
     "execution_count": 16,
     "metadata": {},
     "output_type": "execute_result"
    },
    {
     "data": {
      "text/html": [
       "<div>\n",
       "<style scoped>\n",
       "    .dataframe tbody tr th:only-of-type {\n",
       "        vertical-align: middle;\n",
       "    }\n",
       "\n",
       "    .dataframe tbody tr th {\n",
       "        vertical-align: top;\n",
       "    }\n",
       "\n",
       "    .dataframe thead th {\n",
       "        text-align: right;\n",
       "    }\n",
       "</style>\n",
       "<table border=\"1\" class=\"dataframe\">\n",
       "  <thead>\n",
       "    <tr style=\"text-align: right;\">\n",
       "      <th></th>\n",
       "      <th>Metadata_Source</th>\n",
       "      <th>Metadata_Batch</th>\n",
       "      <th>Metadata_Plate</th>\n",
       "      <th>Metadata_PlateType</th>\n",
       "    </tr>\n",
       "  </thead>\n",
       "  <tbody>\n",
       "    <tr>\n",
       "      <th>2375</th>\n",
       "      <td>source_9</td>\n",
       "      <td>20211103-Run16</td>\n",
       "      <td>GR00004419</td>\n",
       "      <td>COMPOUND</td>\n",
       "    </tr>\n",
       "    <tr>\n",
       "      <th>2376</th>\n",
       "      <td>source_9</td>\n",
       "      <td>20211103-Run16</td>\n",
       "      <td>GR00004420</td>\n",
       "      <td>COMPOUND</td>\n",
       "    </tr>\n",
       "    <tr>\n",
       "      <th>2377</th>\n",
       "      <td>source_9</td>\n",
       "      <td>20211103-Run16</td>\n",
       "      <td>GR00004421</td>\n",
       "      <td>COMPOUND</td>\n",
       "    </tr>\n",
       "  </tbody>\n",
       "</table>\n",
       "</div>"
      ],
      "text/plain": [
       "     Metadata_Source  Metadata_Batch Metadata_Plate Metadata_PlateType\n",
       "2375        source_9  20211103-Run16     GR00004419           COMPOUND\n",
       "2376        source_9  20211103-Run16     GR00004420           COMPOUND\n",
       "2377        source_9  20211103-Run16     GR00004421           COMPOUND"
      ]
     },
     "execution_count": 16,
     "metadata": {},
     "output_type": "execute_result"
    }
   ],
   "source": [
    "print(df_plate.info())\n",
    "df_plate.head(3)\n",
    "df_plate.tail(3)"
   ]
  },
  {
   "cell_type": "code",
   "execution_count": 17,
   "id": "79bdd4f7",
   "metadata": {
    "ExecuteTime": {
     "end_time": "2023-06-28T22:39:43.815085Z",
     "start_time": "2023-06-28T22:39:43.779114Z"
    },
    "execution": {
     "iopub.execute_input": "2024-05-07T13:21:54.512975Z",
     "iopub.status.busy": "2024-05-07T13:21:54.512563Z",
     "iopub.status.idle": "2024-05-07T13:21:54.546052Z",
     "shell.execute_reply": "2024-05-07T13:21:54.545065Z",
     "shell.execute_reply.started": "2024-05-07T13:21:54.512941Z"
    },
    "scrolled": true
   },
   "outputs": [
    {
     "data": {
      "text/plain": [
       "Metadata_PlateType\n",
       "COMPOUND          1729\n",
       "ORF                251\n",
       "CRISPR             148\n",
       "TARGET2            141\n",
       "DMSO                77\n",
       "COMPOUND_EMPTY      20\n",
       "POSCON8              8\n",
       "TARGET1              4\n",
       "Name: count, dtype: int64"
      ]
     },
     "execution_count": 17,
     "metadata": {},
     "output_type": "execute_result"
    },
    {
     "data": {
      "text/plain": [
       "Metadata_Source\n",
       "source_3     303\n",
       "source_4     277\n",
       "source_5     260\n",
       "source_6     246\n",
       "source_2     229\n",
       "source_10    222\n",
       "source_8     216\n",
       "source_11    180\n",
       "source_13    154\n",
       "source_7     128\n",
       "source_9     108\n",
       "source_1      55\n",
       "Name: count, dtype: int64"
      ]
     },
     "execution_count": 17,
     "metadata": {},
     "output_type": "execute_result"
    }
   ],
   "source": [
    "df_plate.Metadata_PlateType.value_counts()\n",
    "df_plate.Metadata_Source.value_counts()\n",
    "# df[df['Metadata_JCP2022'].isna()]"
   ]
  },
  {
   "cell_type": "code",
   "execution_count": 67,
   "id": "a83595df-0903-475a-a477-a380d9741e26",
   "metadata": {
    "ExecuteTime": {
     "end_time": "2023-06-28T22:39:43.815085Z",
     "start_time": "2023-06-28T22:39:43.779114Z"
    },
    "execution": {
     "iopub.execute_input": "2024-06-18T10:10:09.291040Z",
     "iopub.status.busy": "2024-06-18T10:10:09.290463Z",
     "iopub.status.idle": "2024-06-18T10:10:09.340510Z",
     "shell.execute_reply": "2024-06-18T10:10:09.339758Z",
     "shell.execute_reply.started": "2024-06-18T10:10:09.290999Z"
    },
    "scrolled": true
   },
   "outputs": [
    {
     "data": {
      "text/plain": [
       "Metadata_PlateType\n",
       "COMPOUND          1729\n",
       "ORF                251\n",
       "CRISPR             148\n",
       "TARGET2            141\n",
       "DMSO                77\n",
       "COMPOUND_EMPTY      20\n",
       "POSCON8              8\n",
       "TARGET1              4\n",
       "Name: count, dtype: int64"
      ]
     },
     "execution_count": 67,
     "metadata": {},
     "output_type": "execute_result"
    },
    {
     "data": {
      "text/plain": [
       "Metadata_Source\n",
       "source_3     303\n",
       "source_4     277\n",
       "source_5     260\n",
       "source_6     246\n",
       "source_2     229\n",
       "source_10    222\n",
       "source_8     216\n",
       "source_11    180\n",
       "source_13    154\n",
       "source_7     128\n",
       "source_9     108\n",
       "source_1      55\n",
       "Name: count, dtype: int64"
      ]
     },
     "execution_count": 67,
     "metadata": {},
     "output_type": "execute_result"
    },
    {
     "data": {
      "text/plain": [
       "Metadata_Source  Metadata_PlateType\n",
       "source_4         ORF                   251\n",
       "source_3         COMPOUND              237\n",
       "source_6         COMPOUND              225\n",
       "source_2         COMPOUND              219\n",
       "source_10        COMPOUND              208\n",
       "source_8         COMPOUND              199\n",
       "source_5         COMPOUND              197\n",
       "source_11        COMPOUND              173\n",
       "source_13        CRISPR                148\n",
       "source_7         COMPOUND              121\n",
       "source_9         COMPOUND               99\n",
       "source_1         COMPOUND               51\n",
       "source_3         DMSO                   38\n",
       "source_5         DMSO                   31\n",
       "source_3         TARGET2                25\n",
       "source_5         TARGET2                24\n",
       "source_4         TARGET2                22\n",
       "source_6         TARGET2                21\n",
       "source_8         COMPOUND_EMPTY         13\n",
       "source_2         TARGET2                10\n",
       "source_9         TARGET2                 9\n",
       "source_5         POSCON8                 8\n",
       "source_10        DMSO                    8\n",
       "source_11        TARGET2                 7\n",
       "source_7         TARGET2                 7\n",
       "source_13        TARGET2                 6\n",
       "source_10        TARGET2                 6\n",
       "source_4         TARGET1                 4\n",
       "source_1         COMPOUND_EMPTY          4\n",
       "source_8         TARGET2                 4\n",
       "source_3         COMPOUND_EMPTY          3\n",
       "Name: count, dtype: int64"
      ]
     },
     "execution_count": 67,
     "metadata": {},
     "output_type": "execute_result"
    }
   ],
   "source": [
    "df_plate.Metadata_PlateType.value_counts()\n",
    "df_plate.Metadata_Source.value_counts()\n",
    "df_plate[['Metadata_Source', 'Metadata_PlateType']].value_counts()"
   ]
  },
  {
   "cell_type": "markdown",
   "id": "40820c11-fe05-4e0d-a15d-f5f3803722e9",
   "metadata": {},
   "source": [
    "## Well Metadata"
   ]
  },
  {
   "cell_type": "code",
   "execution_count": 29,
   "id": "6e29089d",
   "metadata": {
    "ExecuteTime": {
     "end_time": "2023-06-28T22:39:43.388528Z",
     "start_time": "2023-06-28T22:39:42.893176Z"
    },
    "execution": {
     "iopub.execute_input": "2024-06-18T09:21:15.281095Z",
     "iopub.status.busy": "2024-06-18T09:21:15.280591Z",
     "iopub.status.idle": "2024-06-18T09:21:16.064179Z",
     "shell.execute_reply": "2024-06-18T09:21:16.063346Z",
     "shell.execute_reply.started": "2024-06-18T09:21:15.281054Z"
    }
   },
   "outputs": [
    {
     "name": "stdout",
     "output_type": "stream",
     "text": [
      "Well file: ./metadata_20240618/well.csv\n"
     ]
    }
   ],
   "source": [
    "print(f\"Well file: {ds.wellMetadata}\")\n",
    "df_wells = pd.read_csv(ds.wellMetadata)"
   ]
  },
  {
   "cell_type": "code",
   "execution_count": 49,
   "id": "d3bbd941",
   "metadata": {
    "ExecuteTime": {
     "end_time": "2023-06-28T23:29:54.355032Z",
     "start_time": "2023-06-28T23:29:54.037755Z"
    },
    "execution": {
     "iopub.execute_input": "2024-05-07T13:53:20.445446Z",
     "iopub.status.busy": "2024-05-07T13:53:20.445022Z",
     "iopub.status.idle": "2024-05-07T13:53:20.646705Z",
     "shell.execute_reply": "2024-05-07T13:53:20.645891Z",
     "shell.execute_reply.started": "2024-05-07T13:53:20.445417Z"
    },
    "scrolled": true
   },
   "outputs": [
    {
     "name": "stdout",
     "output_type": "stream",
     "text": [
      "<class 'pandas.core.frame.DataFrame'>\n",
      "RangeIndex: 1096074 entries, 0 to 1096073\n",
      "Data columns (total 4 columns):\n",
      " #   Column            Non-Null Count    Dtype \n",
      "---  ------            --------------    ----- \n",
      " 0   Metadata_Source   1096074 non-null  object\n",
      " 1   Metadata_Plate    1096074 non-null  object\n",
      " 2   Metadata_Well     1096074 non-null  object\n",
      " 3   Metadata_JCP2022  1096074 non-null  object\n",
      "dtypes: object(4)\n",
      "memory usage: 33.4+ MB\n",
      "None\n"
     ]
    },
    {
     "data": {
      "text/html": [
       "<div>\n",
       "<style scoped>\n",
       "    .dataframe tbody tr th:only-of-type {\n",
       "        vertical-align: middle;\n",
       "    }\n",
       "\n",
       "    .dataframe tbody tr th {\n",
       "        vertical-align: top;\n",
       "    }\n",
       "\n",
       "    .dataframe thead th {\n",
       "        text-align: right;\n",
       "    }\n",
       "</style>\n",
       "<table border=\"1\" class=\"dataframe\">\n",
       "  <thead>\n",
       "    <tr style=\"text-align: right;\">\n",
       "      <th></th>\n",
       "      <th>Metadata_Source</th>\n",
       "      <th>Metadata_Plate</th>\n",
       "      <th>Metadata_Well</th>\n",
       "      <th>Metadata_JCP2022</th>\n",
       "    </tr>\n",
       "  </thead>\n",
       "  <tbody>\n",
       "    <tr>\n",
       "      <th>0</th>\n",
       "      <td>source_1</td>\n",
       "      <td>UL000081</td>\n",
       "      <td>A02</td>\n",
       "      <td>JCP2022_033924</td>\n",
       "    </tr>\n",
       "    <tr>\n",
       "      <th>1</th>\n",
       "      <td>source_1</td>\n",
       "      <td>UL000081</td>\n",
       "      <td>A03</td>\n",
       "      <td>JCP2022_085227</td>\n",
       "    </tr>\n",
       "  </tbody>\n",
       "</table>\n",
       "</div>"
      ],
      "text/plain": [
       "  Metadata_Source Metadata_Plate Metadata_Well Metadata_JCP2022\n",
       "0        source_1       UL000081           A02   JCP2022_033924\n",
       "1        source_1       UL000081           A03   JCP2022_085227"
      ]
     },
     "execution_count": 49,
     "metadata": {},
     "output_type": "execute_result"
    },
    {
     "data": {
      "text/html": [
       "<div>\n",
       "<style scoped>\n",
       "    .dataframe tbody tr th:only-of-type {\n",
       "        vertical-align: middle;\n",
       "    }\n",
       "\n",
       "    .dataframe tbody tr th {\n",
       "        vertical-align: top;\n",
       "    }\n",
       "\n",
       "    .dataframe thead th {\n",
       "        text-align: right;\n",
       "    }\n",
       "</style>\n",
       "<table border=\"1\" class=\"dataframe\">\n",
       "  <thead>\n",
       "    <tr style=\"text-align: right;\">\n",
       "      <th></th>\n",
       "      <th>Metadata_Source</th>\n",
       "      <th>Metadata_Plate</th>\n",
       "      <th>Metadata_Well</th>\n",
       "      <th>Metadata_JCP2022</th>\n",
       "    </tr>\n",
       "  </thead>\n",
       "  <tbody>\n",
       "    <tr>\n",
       "      <th>1096072</th>\n",
       "      <td>source_9</td>\n",
       "      <td>GR00004421</td>\n",
       "      <td>Z47</td>\n",
       "      <td>JCP2022_033924</td>\n",
       "    </tr>\n",
       "    <tr>\n",
       "      <th>1096073</th>\n",
       "      <td>source_9</td>\n",
       "      <td>GR00004421</td>\n",
       "      <td>Z48</td>\n",
       "      <td>JCP2022_037716</td>\n",
       "    </tr>\n",
       "  </tbody>\n",
       "</table>\n",
       "</div>"
      ],
      "text/plain": [
       "        Metadata_Source Metadata_Plate Metadata_Well Metadata_JCP2022\n",
       "1096072        source_9     GR00004421           Z47   JCP2022_033924\n",
       "1096073        source_9     GR00004421           Z48   JCP2022_037716"
      ]
     },
     "execution_count": 49,
     "metadata": {},
     "output_type": "execute_result"
    }
   ],
   "source": [
    "print(df_wells.info())\n",
    "df_wells.head(2)\n",
    "df_wells.tail(2)"
   ]
  },
  {
   "cell_type": "code",
   "execution_count": 30,
   "id": "3ffad2bd-e2e3-48cc-85a4-d876f761c60a",
   "metadata": {
    "ExecuteTime": {
     "end_time": "2023-06-28T23:29:54.355032Z",
     "start_time": "2023-06-28T23:29:54.037755Z"
    },
    "execution": {
     "iopub.execute_input": "2024-06-18T09:21:32.288503Z",
     "iopub.status.busy": "2024-06-18T09:21:32.287993Z",
     "iopub.status.idle": "2024-06-18T09:21:32.522292Z",
     "shell.execute_reply": "2024-06-18T09:21:32.521466Z",
     "shell.execute_reply.started": "2024-06-18T09:21:32.288460Z"
    },
    "scrolled": true
   },
   "outputs": [
    {
     "name": "stdout",
     "output_type": "stream",
     "text": [
      "<class 'pandas.core.frame.DataFrame'>\n",
      "RangeIndex: 1096069 entries, 0 to 1096068\n",
      "Data columns (total 4 columns):\n",
      " #   Column            Non-Null Count    Dtype \n",
      "---  ------            --------------    ----- \n",
      " 0   Metadata_Source   1096069 non-null  object\n",
      " 1   Metadata_Plate    1096069 non-null  object\n",
      " 2   Metadata_Well     1096069 non-null  object\n",
      " 3   Metadata_JCP2022  1096069 non-null  object\n",
      "dtypes: object(4)\n",
      "memory usage: 33.4+ MB\n",
      "None\n"
     ]
    },
    {
     "data": {
      "text/html": [
       "<div>\n",
       "<style scoped>\n",
       "    .dataframe tbody tr th:only-of-type {\n",
       "        vertical-align: middle;\n",
       "    }\n",
       "\n",
       "    .dataframe tbody tr th {\n",
       "        vertical-align: top;\n",
       "    }\n",
       "\n",
       "    .dataframe thead th {\n",
       "        text-align: right;\n",
       "    }\n",
       "</style>\n",
       "<table border=\"1\" class=\"dataframe\">\n",
       "  <thead>\n",
       "    <tr style=\"text-align: right;\">\n",
       "      <th></th>\n",
       "      <th>Metadata_Source</th>\n",
       "      <th>Metadata_Plate</th>\n",
       "      <th>Metadata_Well</th>\n",
       "      <th>Metadata_JCP2022</th>\n",
       "    </tr>\n",
       "  </thead>\n",
       "  <tbody>\n",
       "    <tr>\n",
       "      <th>0</th>\n",
       "      <td>source_1</td>\n",
       "      <td>UL000081</td>\n",
       "      <td>A02</td>\n",
       "      <td>JCP2022_033924</td>\n",
       "    </tr>\n",
       "    <tr>\n",
       "      <th>1</th>\n",
       "      <td>source_1</td>\n",
       "      <td>UL000081</td>\n",
       "      <td>A03</td>\n",
       "      <td>JCP2022_085227</td>\n",
       "    </tr>\n",
       "  </tbody>\n",
       "</table>\n",
       "</div>"
      ],
      "text/plain": [
       "  Metadata_Source Metadata_Plate Metadata_Well Metadata_JCP2022\n",
       "0        source_1       UL000081           A02   JCP2022_033924\n",
       "1        source_1       UL000081           A03   JCP2022_085227"
      ]
     },
     "execution_count": 30,
     "metadata": {},
     "output_type": "execute_result"
    },
    {
     "data": {
      "text/html": [
       "<div>\n",
       "<style scoped>\n",
       "    .dataframe tbody tr th:only-of-type {\n",
       "        vertical-align: middle;\n",
       "    }\n",
       "\n",
       "    .dataframe tbody tr th {\n",
       "        vertical-align: top;\n",
       "    }\n",
       "\n",
       "    .dataframe thead th {\n",
       "        text-align: right;\n",
       "    }\n",
       "</style>\n",
       "<table border=\"1\" class=\"dataframe\">\n",
       "  <thead>\n",
       "    <tr style=\"text-align: right;\">\n",
       "      <th></th>\n",
       "      <th>Metadata_Source</th>\n",
       "      <th>Metadata_Plate</th>\n",
       "      <th>Metadata_Well</th>\n",
       "      <th>Metadata_JCP2022</th>\n",
       "    </tr>\n",
       "  </thead>\n",
       "  <tbody>\n",
       "    <tr>\n",
       "      <th>1096067</th>\n",
       "      <td>source_9</td>\n",
       "      <td>GR00004421</td>\n",
       "      <td>Z47</td>\n",
       "      <td>JCP2022_033924</td>\n",
       "    </tr>\n",
       "    <tr>\n",
       "      <th>1096068</th>\n",
       "      <td>source_9</td>\n",
       "      <td>GR00004421</td>\n",
       "      <td>Z48</td>\n",
       "      <td>JCP2022_037716</td>\n",
       "    </tr>\n",
       "  </tbody>\n",
       "</table>\n",
       "</div>"
      ],
      "text/plain": [
       "        Metadata_Source Metadata_Plate Metadata_Well Metadata_JCP2022\n",
       "1096067        source_9     GR00004421           Z47   JCP2022_033924\n",
       "1096068        source_9     GR00004421           Z48   JCP2022_037716"
      ]
     },
     "execution_count": 30,
     "metadata": {},
     "output_type": "execute_result"
    }
   ],
   "source": [
    "print(df_wells.info())\n",
    "df_wells.head(2)\n",
    "df_wells.tail(2)"
   ]
  },
  {
   "cell_type": "code",
   "execution_count": 110,
   "id": "fb96cd32-6488-4821-a030-f5cdcc746833",
   "metadata": {
    "ExecuteTime": {
     "end_time": "2023-06-28T23:38:54.544203Z",
     "start_time": "2023-06-28T23:38:54.391856Z"
    },
    "execution": {
     "iopub.execute_input": "2024-05-07T15:11:46.547535Z",
     "iopub.status.busy": "2024-05-07T15:11:46.547069Z",
     "iopub.status.idle": "2024-05-07T15:11:47.033649Z",
     "shell.execute_reply": "2024-05-07T15:11:47.032825Z",
     "shell.execute_reply.started": "2024-05-07T15:11:46.547495Z"
    }
   },
   "outputs": [
    {
     "name": "stdout",
     "output_type": "stream",
     "text": [
      " Number of unqiue sources               ::  12\n",
      "\n",
      " Number of total / unique Perturbations         : 1,096,074 /   138,907\n",
      " Number of total / unique Compounds             :   908,515 /   115,796\n",
      " Number of total / unique ORFs                  :    51,192 /    15,133\n",
      " Number of total / unique CRISPRs               :   123,793 /     7,977\n",
      "\n"
     ]
    }
   ],
   "source": [
    "df_well_pert = df_wells['Metadata_JCP2022']\n",
    "df_well_compound_rows = df_well_pert[df_well_pert.lt('JCP2022_200000')]\n",
    "df_well_crispr_rows = df_well_pert[df_well_pert.between('JCP2022_799999', 'JCP2022_900000')]\n",
    "df_well_orf_rows = df_well_pert[df_well_pert.between('JCP2022_899999', 'JCP2022_999999')]\n",
    "ttl_pert_rows = df_well_pert.shape[0]\n",
    "ttl_compound_rows = df_well_compound_rows.shape[0]\n",
    "ttl_orf_rows = df_well_crispr_rows.shape[0]\n",
    "ttl_crispr_rows = df_well_orf_rows.shape[0]\n",
    "\n",
    "print(f\" Number of unqiue sources               ::  {len(df_wells['Metadata_Source'].unique())}\")\n",
    "print()\n",
    "print(f\" Number of total / unique Perturbations         :{ttl_pert_rows:10,d} /  {len(df_wells['Metadata_JCP2022'].unique()):8,d}\")\n",
    "print(f\" Number of total / unique Compounds             :{ttl_compound_rows:10,d} /  {len(df_well_compound_rows.unique()):8,d}\")\n",
    "print(f\" Number of total / unique ORFs                  :{ttl_orf_rows:10,d} /  {len(df_well_orf_rows.unique()):8,d}\")\n",
    "print(f\" Number of total / unique CRISPRs               :{ttl_crispr_rows:10,d} /  {len(df_well_crispr_rows.unique()):8,d}\")\n",
    "print()"
   ]
  },
  {
   "cell_type": "code",
   "execution_count": 82,
   "id": "74ef62fa-6eeb-4290-a57f-d07c3df083cd",
   "metadata": {
    "ExecuteTime": {
     "end_time": "2023-06-28T23:38:54.544203Z",
     "start_time": "2023-06-28T23:38:54.391856Z"
    },
    "execution": {
     "iopub.execute_input": "2024-06-18T10:32:54.578602Z",
     "iopub.status.busy": "2024-06-18T10:32:54.578148Z",
     "iopub.status.idle": "2024-06-18T10:32:55.295244Z",
     "shell.execute_reply": "2024-06-18T10:32:55.294050Z",
     "shell.execute_reply.started": "2024-06-18T10:32:54.578569Z"
    }
   },
   "outputs": [
    {
     "name": "stdout",
     "output_type": "stream",
     "text": [
      " Number of unqiue sources               ::  12\n",
      "\n",
      " Number of total / unique Compounds             :   908,510 /   115,795\n",
      " Number of total / unique ORFs                  :    51,192 /    15,133\n",
      " Number of total / unique CRISPRs               :   123,793 /     7,977\n",
      " Number of total / unique misc JCP2022s         :    12,574 /         1\n",
      "\n",
      "                            Totals              : 1,096,069 /   138,906\n"
     ]
    }
   ],
   "source": [
    "df_well_pert = df_wells['Metadata_JCP2022']\n",
    "df_well_compound_rows = df_well_pert[df_well_pert.lt('JCP2022_200000')]\n",
    "df_well_crispr_rows = df_well_pert[df_well_pert.between('JCP2022_799999', 'JCP2022_900000')]\n",
    "df_well_orf_rows = df_well_pert[df_well_pert.between('JCP2022_899999', 'JCP2022_999999')]\n",
    "df_well_misc_rows = df_well_pert[df_well_pert.gt('JCP2022_999999')]\n",
    "ttl_pert_rows = df_well_pert.shape[0]\n",
    "ttl_compound_rows = df_well_compound_rows.shape[0]\n",
    "ttl_orf_rows = df_well_crispr_rows.shape[0]\n",
    "ttl_crispr_rows = df_well_orf_rows.shape[0]\n",
    "ttl_misc_rows = df_well_misc_rows.shape[0]\n",
    "\n",
    "print(f\" Number of unqiue sources               ::  {len(df_wells['Metadata_Source'].unique())}\")\n",
    "print()\n",
    "print(f\" Number of total / unique Compounds             :{ttl_compound_rows:10,d} /  {len(df_well_compound_rows.unique()):8,d}\")\n",
    "print(f\" Number of total / unique ORFs                  :{ttl_orf_rows:10,d} /  {len(df_well_orf_rows.unique()):8,d}\")\n",
    "print(f\" Number of total / unique CRISPRs               :{ttl_crispr_rows:10,d} /  {len(df_well_crispr_rows.unique()):8,d}\")\n",
    "print(f\" Number of total / unique misc JCP2022s         :{ttl_misc_rows:10,d} /  {len(df_well_misc_rows.unique()):8,d}\")\n",
    "print()\n",
    "print(f\"                            Totals              :{ttl_pert_rows:10,d} /  {len(df_wells['Metadata_JCP2022'].unique()):8,d}\")"
   ]
  },
  {
   "cell_type": "code",
   "execution_count": 85,
   "id": "095043cf-4389-4f09-a477-105a1a8d5c44",
   "metadata": {
    "ExecuteTime": {
     "end_time": "2023-06-28T23:38:54.544203Z",
     "start_time": "2023-06-28T23:38:54.391856Z"
    },
    "execution": {
     "iopub.execute_input": "2024-06-18T10:35:12.668285Z",
     "iopub.status.busy": "2024-06-18T10:35:12.667844Z",
     "iopub.status.idle": "2024-06-18T10:35:12.772271Z",
     "shell.execute_reply": "2024-06-18T10:35:12.771274Z",
     "shell.execute_reply.started": "2024-06-18T10:35:12.668251Z"
    }
   },
   "outputs": [
    {
     "name": "stdout",
     "output_type": "stream",
     "text": [
      " -----------------------\n",
      " Well counts by Source\n",
      " -----------------------\n",
      "                 count_x  count_y  well_per_plate\n",
      "Metadata_Source                                  \n",
      "source_1              55    80613     1465.690909\n",
      "source_10            222    85235      383.941441\n",
      "source_11            180    68347      379.705556\n",
      "source_13            154    59136      384.000000\n",
      "source_2             229    87860      383.668122\n",
      "source_3             303   116271      383.732673\n",
      "source_4             277   106352      383.942238\n",
      "source_5             260    99836      383.984615\n",
      "source_6             246    94459      383.979675\n",
      "source_7             128    49143      383.929688\n",
      "source_8             216    82929      383.930556\n",
      "source_9             108   165888     1536.000000\n",
      " total number of populted wells : 1096069\n"
     ]
    }
   ],
   "source": [
    "df_source_well_counts = df_wells.Metadata_Source.value_counts()\n",
    "df_source_plate_counts = df_plate.Metadata_Source.value_counts()\n",
    "df_join = pd.merge(df_source_plate_counts, df_source_well_counts, on =\"Metadata_Source\")\n",
    "df_join['well_per_plate'] = df_join.count_y / df_join.count_x\n",
    "print(f\" -----------------------\")\n",
    "print(f\" Well counts by Source\")\n",
    "print(f\" -----------------------\")\n",
    "print(df_join.sort_index())\n",
    "print(f\" total number of populted wells : {df_compound_counts.sum()}\")"
   ]
  },
  {
   "cell_type": "code",
   "execution_count": 86,
   "id": "6a69c6be-6479-4c12-95a8-c64a25bc189a",
   "metadata": {
    "ExecuteTime": {
     "end_time": "2023-06-28T23:38:54.544203Z",
     "start_time": "2023-06-28T23:38:54.391856Z"
    },
    "execution": {
     "iopub.execute_input": "2024-06-18T10:38:30.780411Z",
     "iopub.status.busy": "2024-06-18T10:38:30.779862Z",
     "iopub.status.idle": "2024-06-18T10:38:31.079016Z",
     "shell.execute_reply": "2024-06-18T10:38:31.078060Z",
     "shell.execute_reply.started": "2024-06-18T10:38:30.780368Z"
    }
   },
   "outputs": [
    {
     "name": "stdout",
     "output_type": "stream",
     "text": [
      " -----------------------\n",
      " Well counts by compound\n",
      " -----------------------\n"
     ]
    },
    {
     "data": {
      "text/plain": [
       "Metadata_JCP2022\n",
       "JCP2022_033924     138936\n",
       "JCP2022_999999      37094\n",
       "JCP2022_UNKNOWN     12574\n",
       "JCP2022_050797       9732\n",
       "JCP2022_037716       9571\n",
       "JCP2022_012818       9544\n",
       "JCP2022_025848       9513\n",
       "JCP2022_046054       9508\n",
       "JCP2022_064022       9346\n",
       "JCP2022_085227       8923\n",
       "JCP2022_035095       7983\n",
       "JCP2022_800001       4724\n",
       "JCP2022_800002       2754\n",
       "JCP2022_915132       2026\n",
       "JCP2022_033954       1594\n",
       "JCP2022_915129        973\n",
       "JCP2022_915128        973\n",
       "JCP2022_915131        973\n",
       "JCP2022_915130        973\n",
       "JCP2022_900001        632\n",
       "JCP2022_805264        569\n",
       "JCP2022_033914        362\n",
       "JCP2022_013856        361\n",
       "JCP2022_001036        359\n",
       "JCP2022_105442        356\n",
       "JCP2022_080920        355\n",
       "JCP2022_073628        354\n",
       "JCP2022_056401        354\n",
       "JCP2022_032771        354\n",
       "JCP2022_004587        354\n",
       "JCP2022_046462        354\n",
       "JCP2022_060040        353\n",
       "JCP2022_015955        349\n",
       "JCP2022_102083        348\n",
       "JCP2022_001890        344\n",
       "Name: count, dtype: int64"
      ]
     },
     "execution_count": 86,
     "metadata": {},
     "output_type": "execute_result"
    },
    {
     "name": "stdout",
     "output_type": "stream",
     "text": [
      " total number of populted wells : 1096069\n"
     ]
    }
   ],
   "source": [
    "df_compound_counts = df_wells.Metadata_JCP2022.value_counts()\n",
    "\n",
    "print(f\" -----------------------\")\n",
    "print(f\" Well counts by compound\")\n",
    "print(f\" -----------------------\")\n",
    "df_compound_counts[:35]\n",
    "print(f\" total number of populted wells : {df_compound_counts.sum()}\")"
   ]
  },
  {
   "cell_type": "code",
   "execution_count": 60,
   "id": "3897c770-bccf-435b-850f-0471747c7928",
   "metadata": {
    "ExecuteTime": {
     "end_time": "2023-06-28T23:38:54.544203Z",
     "start_time": "2023-06-28T23:38:54.391856Z"
    },
    "execution": {
     "iopub.execute_input": "2024-06-18T10:01:50.034005Z",
     "iopub.status.busy": "2024-06-18T10:01:50.033450Z",
     "iopub.status.idle": "2024-06-18T10:01:50.069641Z",
     "shell.execute_reply": "2024-06-18T10:01:50.069041Z",
     "shell.execute_reply.started": "2024-06-18T10:01:50.033963Z"
    }
   },
   "outputs": [
    {
     "data": {
      "text/plain": [
       "37094"
      ]
     },
     "execution_count": 60,
     "metadata": {},
     "output_type": "execute_result"
    }
   ],
   "source": [
    "df_compound_counts['JCP2022_999999']"
   ]
  },
  {
   "cell_type": "markdown",
   "id": "9ea0ed14-f13d-42e5-9227-0ad3fb9fc46c",
   "metadata": {
    "jp-MarkdownHeadingCollapsed": true
   },
   "source": [
    "## ORF (Open reading frame) Metadata"
   ]
  },
  {
   "cell_type": "markdown",
   "id": "933938f5-25e4-401a-8e9f-d07ec25e6faa",
   "metadata": {},
   "source": [
    "**ORF Types:**\n",
    "\n",
    "trt are ORF treatments, where the cells are perturbed by an ORF treatment.\n",
    "- **poscon** are four compound treatments that are used as positive control.\n",
    "- **negcon** are four ORF treatments that are used as negative control. They are not expected to cause morphological changes."
   ]
  },
  {
   "cell_type": "code",
   "execution_count": 24,
   "id": "0dba281a-dbfa-4b8f-b29c-ea47f223a6aa",
   "metadata": {
    "ExecuteTime": {
     "end_time": "2023-06-28T22:39:43.411896Z",
     "start_time": "2023-06-28T22:39:43.390769Z"
    },
    "execution": {
     "iopub.execute_input": "2024-05-07T13:26:58.673910Z",
     "iopub.status.busy": "2024-05-07T13:26:58.673419Z",
     "iopub.status.idle": "2024-05-07T13:26:58.761162Z",
     "shell.execute_reply": "2024-05-07T13:26:58.760262Z",
     "shell.execute_reply.started": "2024-05-07T13:26:58.673869Z"
    }
   },
   "outputs": [
    {
     "name": "stdout",
     "output_type": "stream",
     "text": [
      "ORF file:  ./metadata/orf.csv\n"
     ]
    }
   ],
   "source": [
    "print(f\"ORF file:  {ds.ORFMetadata}\")\n",
    "df_orf = pd.read_csv(ds.ORFMetadata)"
   ]
  },
  {
   "cell_type": "code",
   "execution_count": 45,
   "id": "4a308ba9-f9b9-4711-bca6-459ab2c86a5d",
   "metadata": {
    "ExecuteTime": {
     "end_time": "2023-06-28T19:57:37.251055Z",
     "start_time": "2023-06-28T19:57:37.202443Z"
    },
    "execution": {
     "iopub.execute_input": "2024-05-07T13:42:12.807862Z",
     "iopub.status.busy": "2024-05-07T13:42:12.807383Z",
     "iopub.status.idle": "2024-05-07T13:42:12.868459Z",
     "shell.execute_reply": "2024-05-07T13:42:12.867792Z",
     "shell.execute_reply.started": "2024-05-07T13:42:12.807821Z"
    }
   },
   "outputs": [
    {
     "name": "stdout",
     "output_type": "stream",
     "text": [
      "<class 'pandas.core.frame.DataFrame'>\n",
      "RangeIndex: 15142 entries, 0 to 15141\n",
      "Data columns (total 12 columns):\n",
      " #   Column                     Non-Null Count  Dtype  \n",
      "---  ------                     --------------  -----  \n",
      " 0   Metadata_JCP2022           15142 non-null  object \n",
      " 1   Metadata_broad_sample      15142 non-null  object \n",
      " 2   Metadata_Name              15132 non-null  object \n",
      " 3   Metadata_Vector            15142 non-null  object \n",
      " 4   Metadata_Transcript        15106 non-null  object \n",
      " 5   Metadata_Symbol            15107 non-null  object \n",
      " 6   Metadata_NCBI_Gene_ID      15107 non-null  object \n",
      " 7   Metadata_Taxon_ID          15107 non-null  object \n",
      " 8   Metadata_Gene_Description  14853 non-null  object \n",
      " 9   Metadata_Prot_Match        14320 non-null  float64\n",
      " 10  Metadata_Insert_Length     15141 non-null  float64\n",
      " 11  Metadata_pert_type         15142 non-null  object \n",
      "dtypes: float64(2), object(10)\n",
      "memory usage: 1.4+ MB\n"
     ]
    },
    {
     "data": {
      "text/html": [
       "<div>\n",
       "<style scoped>\n",
       "    .dataframe tbody tr th:only-of-type {\n",
       "        vertical-align: middle;\n",
       "    }\n",
       "\n",
       "    .dataframe tbody tr th {\n",
       "        vertical-align: top;\n",
       "    }\n",
       "\n",
       "    .dataframe thead th {\n",
       "        text-align: right;\n",
       "    }\n",
       "</style>\n",
       "<table border=\"1\" class=\"dataframe\">\n",
       "  <thead>\n",
       "    <tr style=\"text-align: right;\">\n",
       "      <th></th>\n",
       "      <th>Metadata_JCP2022</th>\n",
       "      <th>Metadata_broad_sample</th>\n",
       "      <th>Metadata_Name</th>\n",
       "      <th>Metadata_Vector</th>\n",
       "      <th>Metadata_Transcript</th>\n",
       "      <th>Metadata_Symbol</th>\n",
       "      <th>Metadata_NCBI_Gene_ID</th>\n",
       "      <th>Metadata_Taxon_ID</th>\n",
       "      <th>Metadata_Gene_Description</th>\n",
       "      <th>Metadata_Prot_Match</th>\n",
       "      <th>Metadata_Insert_Length</th>\n",
       "      <th>Metadata_pert_type</th>\n",
       "    </tr>\n",
       "  </thead>\n",
       "  <tbody>\n",
       "    <tr>\n",
       "      <th>0</th>\n",
       "      <td>JCP2022_900002</td>\n",
       "      <td>ccsbBroad304_00001</td>\n",
       "      <td>ORF008415.1_TRC304.1</td>\n",
       "      <td>pLX_304</td>\n",
       "      <td>NM_001160173.3</td>\n",
       "      <td>NAT1</td>\n",
       "      <td>9</td>\n",
       "      <td>9606</td>\n",
       "      <td>N-acetyltransferase 1</td>\n",
       "      <td>100.0</td>\n",
       "      <td>870.0</td>\n",
       "      <td>trt</td>\n",
       "    </tr>\n",
       "    <tr>\n",
       "      <th>1</th>\n",
       "      <td>JCP2022_900003</td>\n",
       "      <td>ccsbBroad304_00002</td>\n",
       "      <td>ORF005388.1_TRC304.1</td>\n",
       "      <td>pLX_304</td>\n",
       "      <td>NM_001088.3</td>\n",
       "      <td>AANAT</td>\n",
       "      <td>15</td>\n",
       "      <td>9606</td>\n",
       "      <td>aralkylamine N-acetyltransferase</td>\n",
       "      <td>100.0</td>\n",
       "      <td>621.0</td>\n",
       "      <td>trt</td>\n",
       "    </tr>\n",
       "    <tr>\n",
       "      <th>2</th>\n",
       "      <td>JCP2022_900004</td>\n",
       "      <td>ccsbBroad304_00003</td>\n",
       "      <td>ORF003876.1_TRC304.1</td>\n",
       "      <td>pLX_304</td>\n",
       "      <td>NM_000663.4</td>\n",
       "      <td>ABAT</td>\n",
       "      <td>18</td>\n",
       "      <td>9606</td>\n",
       "      <td>4-aminobutyrate aminotransferase</td>\n",
       "      <td>100.0</td>\n",
       "      <td>1500.0</td>\n",
       "      <td>trt</td>\n",
       "    </tr>\n",
       "    <tr>\n",
       "      <th>3</th>\n",
       "      <td>JCP2022_900005</td>\n",
       "      <td>ccsbBroad304_00007</td>\n",
       "      <td>ORF004679.1_TRC304.1</td>\n",
       "      <td>pLX_304</td>\n",
       "      <td>NM_000018.4</td>\n",
       "      <td>ACADVL</td>\n",
       "      <td>37</td>\n",
       "      <td>9606</td>\n",
       "      <td>acyl-CoA dehydrogenase very long chain</td>\n",
       "      <td>100.0</td>\n",
       "      <td>1965.0</td>\n",
       "      <td>trt</td>\n",
       "    </tr>\n",
       "    <tr>\n",
       "      <th>4</th>\n",
       "      <td>JCP2022_900006</td>\n",
       "      <td>ccsbBroad304_00008</td>\n",
       "      <td>ORF000425.1_TRC304.1</td>\n",
       "      <td>pLX_304</td>\n",
       "      <td>NM_001095.4</td>\n",
       "      <td>ASIC1</td>\n",
       "      <td>41</td>\n",
       "      <td>9606</td>\n",
       "      <td>acid sensing ion channel subunit 1</td>\n",
       "      <td>100.0</td>\n",
       "      <td>1584.0</td>\n",
       "      <td>trt</td>\n",
       "    </tr>\n",
       "  </tbody>\n",
       "</table>\n",
       "</div>"
      ],
      "text/plain": [
       "  Metadata_JCP2022 Metadata_broad_sample         Metadata_Name Metadata_Vector Metadata_Transcript Metadata_Symbol  \\\n",
       "0   JCP2022_900002    ccsbBroad304_00001  ORF008415.1_TRC304.1         pLX_304      NM_001160173.3            NAT1   \n",
       "1   JCP2022_900003    ccsbBroad304_00002  ORF005388.1_TRC304.1         pLX_304         NM_001088.3           AANAT   \n",
       "2   JCP2022_900004    ccsbBroad304_00003  ORF003876.1_TRC304.1         pLX_304         NM_000663.4            ABAT   \n",
       "3   JCP2022_900005    ccsbBroad304_00007  ORF004679.1_TRC304.1         pLX_304         NM_000018.4          ACADVL   \n",
       "4   JCP2022_900006    ccsbBroad304_00008  ORF000425.1_TRC304.1         pLX_304         NM_001095.4           ASIC1   \n",
       "\n",
       "  Metadata_NCBI_Gene_ID Metadata_Taxon_ID               Metadata_Gene_Description  Metadata_Prot_Match  Metadata_Insert_Length  \\\n",
       "0                     9              9606                   N-acetyltransferase 1                100.0                   870.0   \n",
       "1                    15              9606        aralkylamine N-acetyltransferase                100.0                   621.0   \n",
       "2                    18              9606        4-aminobutyrate aminotransferase                100.0                  1500.0   \n",
       "3                    37              9606  acyl-CoA dehydrogenase very long chain                100.0                  1965.0   \n",
       "4                    41              9606      acid sensing ion channel subunit 1                100.0                  1584.0   \n",
       "\n",
       "  Metadata_pert_type  \n",
       "0                trt  \n",
       "1                trt  \n",
       "2                trt  \n",
       "3                trt  \n",
       "4                trt  "
      ]
     },
     "execution_count": 45,
     "metadata": {},
     "output_type": "execute_result"
    },
    {
     "data": {
      "text/html": [
       "<div>\n",
       "<style scoped>\n",
       "    .dataframe tbody tr th:only-of-type {\n",
       "        vertical-align: middle;\n",
       "    }\n",
       "\n",
       "    .dataframe tbody tr th {\n",
       "        vertical-align: top;\n",
       "    }\n",
       "\n",
       "    .dataframe thead th {\n",
       "        text-align: right;\n",
       "    }\n",
       "</style>\n",
       "<table border=\"1\" class=\"dataframe\">\n",
       "  <thead>\n",
       "    <tr style=\"text-align: right;\">\n",
       "      <th></th>\n",
       "      <th>Metadata_JCP2022</th>\n",
       "      <th>Metadata_broad_sample</th>\n",
       "      <th>Metadata_Name</th>\n",
       "      <th>Metadata_Vector</th>\n",
       "      <th>Metadata_Transcript</th>\n",
       "      <th>Metadata_Symbol</th>\n",
       "      <th>Metadata_NCBI_Gene_ID</th>\n",
       "      <th>Metadata_Taxon_ID</th>\n",
       "      <th>Metadata_Gene_Description</th>\n",
       "      <th>Metadata_Prot_Match</th>\n",
       "      <th>Metadata_Insert_Length</th>\n",
       "      <th>Metadata_pert_type</th>\n",
       "    </tr>\n",
       "  </thead>\n",
       "  <tbody>\n",
       "    <tr>\n",
       "      <th>15137</th>\n",
       "      <td>JCP2022_915128</td>\n",
       "      <td>ccsbBroad304_99985</td>\n",
       "      <td>ORFC00001.1_TRC304.1</td>\n",
       "      <td>pLX_304</td>\n",
       "      <td>BFP.1</td>\n",
       "      <td>BFP</td>\n",
       "      <td>BFP</td>\n",
       "      <td>CONTROL</td>\n",
       "      <td>Hahn Lab BFP</td>\n",
       "      <td>99.5</td>\n",
       "      <td>717.0</td>\n",
       "      <td>negcon</td>\n",
       "    </tr>\n",
       "    <tr>\n",
       "      <th>15138</th>\n",
       "      <td>JCP2022_915129</td>\n",
       "      <td>ccsbBroad304_99988</td>\n",
       "      <td>ORFC00002.1_TRC304.1</td>\n",
       "      <td>pLX_304</td>\n",
       "      <td>HcRed.1</td>\n",
       "      <td>HcRed</td>\n",
       "      <td>HcRed</td>\n",
       "      <td>CONTROL</td>\n",
       "      <td>NaN</td>\n",
       "      <td>NaN</td>\n",
       "      <td>824.0</td>\n",
       "      <td>negcon</td>\n",
       "    </tr>\n",
       "    <tr>\n",
       "      <th>15139</th>\n",
       "      <td>JCP2022_915130</td>\n",
       "      <td>ccsbBroad304_99991</td>\n",
       "      <td>ORFC00003.1_TRC304.1</td>\n",
       "      <td>pLX_304</td>\n",
       "      <td>promegaLuc.1</td>\n",
       "      <td>LUCIFERASE</td>\n",
       "      <td>LUCIFERASE</td>\n",
       "      <td>CONTROL</td>\n",
       "      <td>promegaLuc</td>\n",
       "      <td>100.0</td>\n",
       "      <td>1650.0</td>\n",
       "      <td>negcon</td>\n",
       "    </tr>\n",
       "    <tr>\n",
       "      <th>15140</th>\n",
       "      <td>JCP2022_915131</td>\n",
       "      <td>ccsbBroad304_99994</td>\n",
       "      <td>ORFC00004.1_TRC304.1</td>\n",
       "      <td>pLX_304</td>\n",
       "      <td>LacZ.1</td>\n",
       "      <td>LacZ</td>\n",
       "      <td>LacZ</td>\n",
       "      <td>CONTROL</td>\n",
       "      <td>Hahn Lab LacZ</td>\n",
       "      <td>100.0</td>\n",
       "      <td>3204.0</td>\n",
       "      <td>negcon</td>\n",
       "    </tr>\n",
       "    <tr>\n",
       "      <th>15141</th>\n",
       "      <td>JCP2022_915132</td>\n",
       "      <td>ccsbBroad304_99997</td>\n",
       "      <td>ORFC00005.1_TRC304.1</td>\n",
       "      <td>pLX_304</td>\n",
       "      <td>eGFP.1</td>\n",
       "      <td>eGFP</td>\n",
       "      <td>eGFP</td>\n",
       "      <td>CONTROL</td>\n",
       "      <td>Hahn Lab eGFP</td>\n",
       "      <td>100.0</td>\n",
       "      <td>717.0</td>\n",
       "      <td>poscon</td>\n",
       "    </tr>\n",
       "  </tbody>\n",
       "</table>\n",
       "</div>"
      ],
      "text/plain": [
       "      Metadata_JCP2022 Metadata_broad_sample         Metadata_Name Metadata_Vector Metadata_Transcript Metadata_Symbol  \\\n",
       "15137   JCP2022_915128    ccsbBroad304_99985  ORFC00001.1_TRC304.1         pLX_304               BFP.1             BFP   \n",
       "15138   JCP2022_915129    ccsbBroad304_99988  ORFC00002.1_TRC304.1         pLX_304             HcRed.1           HcRed   \n",
       "15139   JCP2022_915130    ccsbBroad304_99991  ORFC00003.1_TRC304.1         pLX_304        promegaLuc.1      LUCIFERASE   \n",
       "15140   JCP2022_915131    ccsbBroad304_99994  ORFC00004.1_TRC304.1         pLX_304              LacZ.1            LacZ   \n",
       "15141   JCP2022_915132    ccsbBroad304_99997  ORFC00005.1_TRC304.1         pLX_304              eGFP.1            eGFP   \n",
       "\n",
       "      Metadata_NCBI_Gene_ID Metadata_Taxon_ID Metadata_Gene_Description  Metadata_Prot_Match  Metadata_Insert_Length  \\\n",
       "15137                   BFP           CONTROL              Hahn Lab BFP                 99.5                   717.0   \n",
       "15138                 HcRed           CONTROL                       NaN                  NaN                   824.0   \n",
       "15139            LUCIFERASE           CONTROL                promegaLuc                100.0                  1650.0   \n",
       "15140                  LacZ           CONTROL             Hahn Lab LacZ                100.0                  3204.0   \n",
       "15141                  eGFP           CONTROL             Hahn Lab eGFP                100.0                   717.0   \n",
       "\n",
       "      Metadata_pert_type  \n",
       "15137             negcon  \n",
       "15138             negcon  \n",
       "15139             negcon  \n",
       "15140             negcon  \n",
       "15141             poscon  "
      ]
     },
     "execution_count": 45,
     "metadata": {},
     "output_type": "execute_result"
    },
    {
     "name": "stdout",
     "output_type": "stream",
     "text": [
      "\n",
      " Unique Metadata Symbols 12610\n"
     ]
    },
    {
     "data": {
      "text/html": [
       "<div>\n",
       "<style scoped>\n",
       "    .dataframe tbody tr th:only-of-type {\n",
       "        vertical-align: middle;\n",
       "    }\n",
       "\n",
       "    .dataframe tbody tr th {\n",
       "        vertical-align: top;\n",
       "    }\n",
       "\n",
       "    .dataframe thead th {\n",
       "        text-align: right;\n",
       "    }\n",
       "</style>\n",
       "<table border=\"1\" class=\"dataframe\">\n",
       "  <thead>\n",
       "    <tr style=\"text-align: right;\">\n",
       "      <th></th>\n",
       "      <th>Metadata_Symbol</th>\n",
       "    </tr>\n",
       "  </thead>\n",
       "  <tbody>\n",
       "    <tr>\n",
       "      <th>0</th>\n",
       "      <td>NAT1</td>\n",
       "    </tr>\n",
       "    <tr>\n",
       "      <th>1</th>\n",
       "      <td>AANAT</td>\n",
       "    </tr>\n",
       "    <tr>\n",
       "      <th>2</th>\n",
       "      <td>ABAT</td>\n",
       "    </tr>\n",
       "    <tr>\n",
       "      <th>3</th>\n",
       "      <td>ACADVL</td>\n",
       "    </tr>\n",
       "    <tr>\n",
       "      <th>4</th>\n",
       "      <td>ASIC1</td>\n",
       "    </tr>\n",
       "  </tbody>\n",
       "</table>\n",
       "</div>"
      ],
      "text/plain": [
       "  Metadata_Symbol\n",
       "0            NAT1\n",
       "1           AANAT\n",
       "2            ABAT\n",
       "3          ACADVL\n",
       "4           ASIC1"
      ]
     },
     "execution_count": 45,
     "metadata": {},
     "output_type": "execute_result"
    }
   ],
   "source": [
    "df_orf.info()\n",
    "df_orf.head()\n",
    "df_orf.tail()\n",
    "print()\n",
    "df_orf_symbols_unique= pd.DataFrame(df_orf['Metadata_Symbol'].unique(), columns=['Metadata_Symbol'])\n",
    "print(f\" Unique Metadata Symbols {len(df_orf['Metadata_Symbol'].unique())}\")\n",
    "df_orf_symbols_unique.head()"
   ]
  },
  {
   "cell_type": "markdown",
   "id": "a97447f8-53e9-4e41-b50b-3086d794fd36",
   "metadata": {
    "jp-MarkdownHeadingCollapsed": true
   },
   "source": [
    "## CRISPR (clustered regularly interspaced short palindromic repeats) Metadata"
   ]
  },
  {
   "cell_type": "markdown",
   "id": "a4540e4d-7a3d-41e7-b007-bf818431ab84",
   "metadata": {},
   "source": [
    "**CRISPR Types:**\n",
    "\n"
   ]
  },
  {
   "cell_type": "code",
   "execution_count": 22,
   "id": "2f0871a1-bcd0-4f36-a6df-73ddb92714c8",
   "metadata": {
    "ExecuteTime": {
     "end_time": "2023-06-28T22:39:43.411896Z",
     "start_time": "2023-06-28T22:39:43.390769Z"
    },
    "execution": {
     "iopub.execute_input": "2024-05-07T13:25:47.268922Z",
     "iopub.status.busy": "2024-05-07T13:25:47.268495Z",
     "iopub.status.idle": "2024-05-07T13:25:47.302192Z",
     "shell.execute_reply": "2024-05-07T13:25:47.301451Z",
     "shell.execute_reply.started": "2024-05-07T13:25:47.268888Z"
    }
   },
   "outputs": [
    {
     "name": "stdout",
     "output_type": "stream",
     "text": [
      "ORF file:  ./metadata/crispr.csv\n"
     ]
    }
   ],
   "source": [
    "print(f\"Crispr file:  {ds.CrisprMetadata}\")\n",
    "df_crispr = pd.read_csv(ds.CrisprMetadata)"
   ]
  },
  {
   "cell_type": "code",
   "execution_count": 46,
   "id": "3067a8dc-5974-4350-9462-2ecefa86762f",
   "metadata": {
    "ExecuteTime": {
     "end_time": "2023-06-28T19:57:37.251055Z",
     "start_time": "2023-06-28T19:57:37.202443Z"
    },
    "execution": {
     "iopub.execute_input": "2024-05-07T13:42:33.307104Z",
     "iopub.status.busy": "2024-05-07T13:42:33.306449Z",
     "iopub.status.idle": "2024-05-07T13:42:33.347107Z",
     "shell.execute_reply": "2024-05-07T13:42:33.346382Z",
     "shell.execute_reply.started": "2024-05-07T13:42:33.307063Z"
    }
   },
   "outputs": [
    {
     "name": "stdout",
     "output_type": "stream",
     "text": [
      "<class 'pandas.core.frame.DataFrame'>\n",
      "RangeIndex: 7977 entries, 0 to 7976\n",
      "Data columns (total 3 columns):\n",
      " #   Column                 Non-Null Count  Dtype  \n",
      "---  ------                 --------------  -----  \n",
      " 0   Metadata_JCP2022       7977 non-null   object \n",
      " 1   Metadata_NCBI_Gene_ID  7975 non-null   float64\n",
      " 2   Metadata_Symbol        7977 non-null   object \n",
      "dtypes: float64(1), object(2)\n",
      "memory usage: 187.1+ KB\n"
     ]
    },
    {
     "data": {
      "text/html": [
       "<div>\n",
       "<style scoped>\n",
       "    .dataframe tbody tr th:only-of-type {\n",
       "        vertical-align: middle;\n",
       "    }\n",
       "\n",
       "    .dataframe tbody tr th {\n",
       "        vertical-align: top;\n",
       "    }\n",
       "\n",
       "    .dataframe thead th {\n",
       "        text-align: right;\n",
       "    }\n",
       "</style>\n",
       "<table border=\"1\" class=\"dataframe\">\n",
       "  <thead>\n",
       "    <tr style=\"text-align: right;\">\n",
       "      <th></th>\n",
       "      <th>Metadata_JCP2022</th>\n",
       "      <th>Metadata_NCBI_Gene_ID</th>\n",
       "      <th>Metadata_Symbol</th>\n",
       "    </tr>\n",
       "  </thead>\n",
       "  <tbody>\n",
       "    <tr>\n",
       "      <th>0</th>\n",
       "      <td>JCP2022_800001</td>\n",
       "      <td>NaN</td>\n",
       "      <td>no-guide</td>\n",
       "    </tr>\n",
       "    <tr>\n",
       "      <th>1</th>\n",
       "      <td>JCP2022_800002</td>\n",
       "      <td>NaN</td>\n",
       "      <td>non-targeting</td>\n",
       "    </tr>\n",
       "    <tr>\n",
       "      <th>2</th>\n",
       "      <td>JCP2022_800003</td>\n",
       "      <td>2.0</td>\n",
       "      <td>A2M</td>\n",
       "    </tr>\n",
       "    <tr>\n",
       "      <th>3</th>\n",
       "      <td>JCP2022_800004</td>\n",
       "      <td>127550.0</td>\n",
       "      <td>A3GALT2</td>\n",
       "    </tr>\n",
       "    <tr>\n",
       "      <th>4</th>\n",
       "      <td>JCP2022_800005</td>\n",
       "      <td>53947.0</td>\n",
       "      <td>A4GALT</td>\n",
       "    </tr>\n",
       "  </tbody>\n",
       "</table>\n",
       "</div>"
      ],
      "text/plain": [
       "  Metadata_JCP2022  Metadata_NCBI_Gene_ID Metadata_Symbol\n",
       "0   JCP2022_800001                    NaN        no-guide\n",
       "1   JCP2022_800002                    NaN   non-targeting\n",
       "2   JCP2022_800003                    2.0             A2M\n",
       "3   JCP2022_800004               127550.0         A3GALT2\n",
       "4   JCP2022_800005                53947.0          A4GALT"
      ]
     },
     "execution_count": 46,
     "metadata": {},
     "output_type": "execute_result"
    },
    {
     "data": {
      "text/html": [
       "<div>\n",
       "<style scoped>\n",
       "    .dataframe tbody tr th:only-of-type {\n",
       "        vertical-align: middle;\n",
       "    }\n",
       "\n",
       "    .dataframe tbody tr th {\n",
       "        vertical-align: top;\n",
       "    }\n",
       "\n",
       "    .dataframe thead th {\n",
       "        text-align: right;\n",
       "    }\n",
       "</style>\n",
       "<table border=\"1\" class=\"dataframe\">\n",
       "  <thead>\n",
       "    <tr style=\"text-align: right;\">\n",
       "      <th></th>\n",
       "      <th>Metadata_JCP2022</th>\n",
       "      <th>Metadata_NCBI_Gene_ID</th>\n",
       "      <th>Metadata_Symbol</th>\n",
       "    </tr>\n",
       "  </thead>\n",
       "  <tbody>\n",
       "    <tr>\n",
       "      <th>7972</th>\n",
       "      <td>JCP2022_807973</td>\n",
       "      <td>54925.0</td>\n",
       "      <td>ZSCAN32</td>\n",
       "    </tr>\n",
       "    <tr>\n",
       "      <th>7973</th>\n",
       "      <td>JCP2022_807974</td>\n",
       "      <td>201516.0</td>\n",
       "      <td>ZSCAN4</td>\n",
       "    </tr>\n",
       "    <tr>\n",
       "      <th>7974</th>\n",
       "      <td>JCP2022_807975</td>\n",
       "      <td>79149.0</td>\n",
       "      <td>ZSCAN5A</td>\n",
       "    </tr>\n",
       "    <tr>\n",
       "      <th>7975</th>\n",
       "      <td>JCP2022_807976</td>\n",
       "      <td>7746.0</td>\n",
       "      <td>ZSCAN9</td>\n",
       "    </tr>\n",
       "    <tr>\n",
       "      <th>7976</th>\n",
       "      <td>JCP2022_807977</td>\n",
       "      <td>151112.0</td>\n",
       "      <td>ZSWIM2</td>\n",
       "    </tr>\n",
       "  </tbody>\n",
       "</table>\n",
       "</div>"
      ],
      "text/plain": [
       "     Metadata_JCP2022  Metadata_NCBI_Gene_ID Metadata_Symbol\n",
       "7972   JCP2022_807973                54925.0         ZSCAN32\n",
       "7973   JCP2022_807974               201516.0          ZSCAN4\n",
       "7974   JCP2022_807975                79149.0         ZSCAN5A\n",
       "7975   JCP2022_807976                 7746.0          ZSCAN9\n",
       "7976   JCP2022_807977               151112.0          ZSWIM2"
      ]
     },
     "execution_count": 46,
     "metadata": {},
     "output_type": "execute_result"
    },
    {
     "name": "stdout",
     "output_type": "stream",
     "text": [
      "\n",
      " Unique Metadata Symbols 7977\n"
     ]
    }
   ],
   "source": [
    "df_crispr.info()\n",
    "df_crispr.head()\n",
    "df_crispr.tail()\n",
    "print()\n",
    "df_crispr_symbols_unique = pd.DataFrame(df_crispr['Metadata_Symbol'].unique(), columns=['Metadata_Symbol'])\n",
    "print(f\" Unique Metadata Symbols {len(df_crispr_symbols_unqiue)}\")"
   ]
  },
  {
   "cell_type": "code",
   "execution_count": 44,
   "id": "292939ec-d3fe-49cc-bf03-8885f5109a25",
   "metadata": {
    "ExecuteTime": {
     "end_time": "2023-06-28T19:57:37.251055Z",
     "start_time": "2023-06-28T19:57:37.202443Z"
    },
    "execution": {
     "iopub.execute_input": "2024-05-07T13:37:23.565926Z",
     "iopub.status.busy": "2024-05-07T13:37:23.565456Z",
     "iopub.status.idle": "2024-05-07T13:37:23.608274Z",
     "shell.execute_reply": "2024-05-07T13:37:23.607541Z",
     "shell.execute_reply.started": "2024-05-07T13:37:23.565885Z"
    }
   },
   "outputs": [
    {
     "data": {
      "text/plain": [
       "(12610, 2)"
      ]
     },
     "execution_count": 44,
     "metadata": {},
     "output_type": "execute_result"
    },
    {
     "data": {
      "text/html": [
       "<div>\n",
       "<style scoped>\n",
       "    .dataframe tbody tr th:only-of-type {\n",
       "        vertical-align: middle;\n",
       "    }\n",
       "\n",
       "    .dataframe tbody tr th {\n",
       "        vertical-align: top;\n",
       "    }\n",
       "\n",
       "    .dataframe thead th {\n",
       "        text-align: right;\n",
       "    }\n",
       "</style>\n",
       "<table border=\"1\" class=\"dataframe\">\n",
       "  <thead>\n",
       "    <tr style=\"text-align: right;\">\n",
       "      <th></th>\n",
       "      <th>Metadata_Symbol</th>\n",
       "      <th>_merge</th>\n",
       "    </tr>\n",
       "  </thead>\n",
       "  <tbody>\n",
       "    <tr>\n",
       "      <th>0</th>\n",
       "      <td>NAT1</td>\n",
       "      <td>both</td>\n",
       "    </tr>\n",
       "    <tr>\n",
       "      <th>1</th>\n",
       "      <td>AANAT</td>\n",
       "      <td>both</td>\n",
       "    </tr>\n",
       "    <tr>\n",
       "      <th>2</th>\n",
       "      <td>ABAT</td>\n",
       "      <td>both</td>\n",
       "    </tr>\n",
       "    <tr>\n",
       "      <th>3</th>\n",
       "      <td>ACADVL</td>\n",
       "      <td>both</td>\n",
       "    </tr>\n",
       "    <tr>\n",
       "      <th>4</th>\n",
       "      <td>ASIC1</td>\n",
       "      <td>both</td>\n",
       "    </tr>\n",
       "  </tbody>\n",
       "</table>\n",
       "</div>"
      ],
      "text/plain": [
       "  Metadata_Symbol _merge\n",
       "0            NAT1   both\n",
       "1           AANAT   both\n",
       "2            ABAT   both\n",
       "3          ACADVL   both\n",
       "4           ASIC1   both"
      ]
     },
     "execution_count": 44,
     "metadata": {},
     "output_type": "execute_result"
    }
   ],
   "source": [
    " \n",
    "df_symbols_join = pd.merge( df_orf_symbols_unique,df_crispr_symbols_unique, how='left', on=['Metadata_Symbol'], indicator = True)\n",
    "df_symbols_join.shape\n",
    "df_symbols_join.head()"
   ]
  },
  {
   "cell_type": "markdown",
   "id": "17891427-a741-47c0-aa42-36c49ee5a1a7",
   "metadata": {},
   "source": [
    "## Plate - Well - Compound Analysis\n",
    "\n",
    "  #### Number of unqiue pertubation types (compounds + ORFs + CRISPRs) ::  138907"
   ]
  },
  {
   "cell_type": "code",
   "execution_count": 62,
   "id": "cd48bdf2-6e59-447e-9e50-672b263b7b79",
   "metadata": {
    "ExecuteTime": {
     "end_time": "2023-06-28T22:39:43.851690Z",
     "start_time": "2023-06-28T22:39:43.817754Z"
    },
    "execution": {
     "iopub.execute_input": "2024-06-18T10:04:33.016359Z",
     "iopub.status.busy": "2024-06-18T10:04:33.015862Z",
     "iopub.status.idle": "2024-06-18T10:04:35.495190Z",
     "shell.execute_reply": "2024-06-18T10:04:35.494125Z",
     "shell.execute_reply.started": "2024-06-18T10:04:33.016320Z"
    },
    "hidden": true,
    "scrolled": true
   },
   "outputs": [
    {
     "name": "stdout",
     "output_type": "stream",
     "text": [
      "\n",
      " --------------------------------------------------\n",
      " Plate type: COMPOUND\n",
      " --------------------------------------------------\n",
      "   Number of plates for type COMPOUND : 1729\n",
      "\n",
      "   Counts by source sites:\n",
      "   -----------------------\n",
      "     source_3                 237\n",
      "     source_6                 225\n",
      "     source_2                 219\n",
      "     source_10                208\n",
      "     source_8                 199\n",
      "     source_5                 197\n",
      "     source_11                173\n",
      "     source_7                 121\n",
      "     source_9                  99\n",
      "     source_1                  51\n",
      "\n",
      "     Total plates:           1729\n",
      "\n",
      "   Total number of wells           :  832290\n",
      "   Total number of unique compounds:  115732\n",
      "\n",
      " --------------------------------------------------\n",
      " Plate type: ORF\n",
      " --------------------------------------------------\n",
      "   Number of plates for type ORF : 251\n",
      "\n",
      "   Counts by source sites:\n",
      "   -----------------------\n",
      "     source_4                 251\n",
      "\n",
      "     Total plates:            251\n",
      "\n",
      "   Total number of wells           :   96377\n",
      "   Total number of unique compounds:   15137\n",
      "\n",
      " --------------------------------------------------\n",
      " Plate type: CRISPR\n",
      " --------------------------------------------------\n",
      "   Number of plates for type CRISPR : 148\n",
      "\n",
      "   Counts by source sites:\n",
      "   -----------------------\n",
      "     source_13                148\n",
      "\n",
      "     Total plates:            148\n",
      "\n",
      "   Total number of wells           :   56832\n",
      "   Total number of unique compounds:    7986\n",
      "\n",
      " --------------------------------------------------\n",
      " Plate type: TARGET1\n",
      " --------------------------------------------------\n",
      "   Number of plates for type TARGET1 : 4\n",
      "\n",
      "   Counts by source sites:\n",
      "   -----------------------\n",
      "     source_4                   4\n",
      "\n",
      "     Total plates:              4\n",
      "\n",
      "   Total number of wells           :    1533\n",
      "   Total number of unique compounds:     302\n",
      "\n",
      " --------------------------------------------------\n",
      " Plate type: TARGET2\n",
      " --------------------------------------------------\n",
      "   Number of plates for type TARGET2 : 141\n",
      "\n",
      "   Counts by source sites:\n",
      "   -----------------------\n",
      "     source_3                  25\n",
      "     source_5                  24\n",
      "     source_4                  22\n",
      "     source_6                  21\n",
      "     source_2                  10\n",
      "     source_9                   9\n",
      "     source_11                  7\n",
      "     source_7                   7\n",
      "     source_10                  6\n",
      "     source_13                  6\n",
      "     source_8                   4\n",
      "\n",
      "     Total plates:            141\n",
      "\n",
      "   Total number of wells           :   64485\n",
      "   Total number of unique compounds:     302\n",
      "\n",
      " --------------------------------------------------\n",
      " Plate type: DMSO\n",
      " --------------------------------------------------\n",
      "   Number of plates for type DMSO : 77\n",
      "\n",
      "   Counts by source sites:\n",
      "   -----------------------\n",
      "     source_3                  38\n",
      "     source_5                  31\n",
      "     source_10                  8\n",
      "\n",
      "     Total plates:             77\n",
      "\n",
      "   Total number of wells           :   29566\n",
      "   Total number of unique compounds:       1\n",
      "\n",
      "     Compound              Wells\n",
      "     JCP2022_033924         29566\n",
      "\n",
      "     Total wells:           29566\n",
      "\n",
      " --------------------------------------------------\n",
      " Plate type: COMPOUND_EMPTY\n",
      " --------------------------------------------------\n",
      "   Number of plates for type COMPOUND_EMPTY : 20\n",
      "\n",
      "   Counts by source sites:\n",
      "   -----------------------\n",
      "     source_8                  13\n",
      "     source_1                   4\n",
      "     source_3                   3\n",
      "\n",
      "     Total plates:             20\n",
      "\n",
      "   Total number of wells           :   11914\n",
      "   Total number of unique compounds:      10\n",
      "\n",
      "     Compound              Wells\n",
      "     JCP2022_012818            96\n",
      "     JCP2022_025848            94\n",
      "     JCP2022_033924          8590\n",
      "     JCP2022_035095            96\n",
      "     JCP2022_037716            96\n",
      "     JCP2022_046054            94\n",
      "     JCP2022_050797            96\n",
      "     JCP2022_064022            96\n",
      "     JCP2022_085227            96\n",
      "     JCP2022_999999          2560\n",
      "\n",
      "     Total wells:           11914\n",
      "\n",
      " --------------------------------------------------\n",
      " Plate type: POSCON8\n",
      " --------------------------------------------------\n",
      "   Number of plates for type POSCON8 : 8\n",
      "\n",
      "   Counts by source sites:\n",
      "   -----------------------\n",
      "     source_5                   8\n",
      "\n",
      "     Total plates:              8\n",
      "\n",
      "   Total number of wells           :    3072\n",
      "   Total number of unique compounds:       8\n",
      "\n",
      "     Compound              Wells\n",
      "     JCP2022_012818           384\n",
      "     JCP2022_025848           384\n",
      "     JCP2022_035095           384\n",
      "     JCP2022_037716           384\n",
      "     JCP2022_046054           384\n",
      "     JCP2022_050797           384\n",
      "     JCP2022_064022           384\n",
      "     JCP2022_085227           384\n",
      "\n",
      "     Total wells:            3072\n"
     ]
    }
   ],
   "source": [
    "# df_compound_plates = df_plate[(df_plate.Metadata_PlateType == 'COMPOUND') & (df_plate.Metadata_Source=='source_3')]\n",
    "for plateType in [\"COMPOUND\",\"ORF\",\"CRISPR\",\"TARGET1\",\"TARGET2\",\"DMSO\",\"COMPOUND_EMPTY\",\"POSCON8\"]:\n",
    "    print(\"\\n \"+\"-\"*50)\n",
    "    print(f\" Plate type: {plateType}\")\n",
    "    print(f\" \"+\"-\"*50)    \n",
    "    df_cmp_plates = df_plate[(df_plate.Metadata_PlateType == plateType) ]\n",
    "\n",
    "    print(f\"   Number of plates for type {plateType} : {df_cmp_plates.shape[0]}\")\n",
    "    # df_cmp_plates.head(5)\n",
    "    \n",
    "    print(f\"\\n   Counts by source sites:\")\n",
    "    print(  f\"   -----------------------\")\n",
    "    source_plate_counts = df_cmp_plates.Metadata_Source.value_counts()\n",
    "\n",
    "    \n",
    "    for idx, val in source_plate_counts.items():\n",
    "        print(f\"     {idx:15s}        {val:5d}\")\n",
    "    print(f\"\\n     Total plates:        {source_plate_counts.sum():7d}\")\n",
    "    \n",
    "    df_join = pd.merge( df_cmp_plates, df_wells, how='left', on=['Metadata_Source','Metadata_Plate'], indicator = True)\n",
    "    # df_join._merge.value_counts()\n",
    "    print(f\"\\n   Total number of wells           : {df_join.shape[0]:7d}\")\n",
    "    unique_cmpds = len(df_join.Metadata_JCP2022.unique())\n",
    "    print(f\"   Total number of unique compounds: {unique_cmpds:7d}\")\n",
    "    \n",
    "    if unique_cmpds < 20:\n",
    "        df_vc = df_join.Metadata_JCP2022.value_counts().sort_index()\n",
    "        print(f\"\\n     Compound              Wells\")\n",
    "        for idx, val in df_vc.items():\n",
    "            print(f\"     {idx:15s}        {val:5d}\")\n",
    "        print(f\"\\n     Total wells:        {df_vc.sum():8d}\")        \n",
    "        del df_vc\n",
    "    del df_cmp_plates, df_join, source_plate_counts, "
   ]
  },
  {
   "attachments": {},
   "cell_type": "markdown",
   "id": "20eb6a77-9bac-4323-8ec9-e163694310f7",
   "metadata": {},
   "source": [
    "# Create `Source/Batch/Plate/Well/Compound`  file"
   ]
  },
  {
   "cell_type": "markdown",
   "id": "9ef7b81d",
   "metadata": {
    "heading_collapsed": true
   },
   "source": [
    "## Extract all plates where PlateType == `COMPOUND`\n",
    "\n",
    " #### Total number of plates 1729"
   ]
  },
  {
   "cell_type": "code",
   "execution_count": 114,
   "id": "edc559d9-010e-4a52-8861-1c500d543038",
   "metadata": {
    "ExecuteTime": {
     "end_time": "2023-06-28T22:39:43.851690Z",
     "start_time": "2023-06-28T22:39:43.817754Z"
    },
    "execution": {
     "iopub.execute_input": "2024-05-07T15:20:44.282915Z",
     "iopub.status.busy": "2024-05-07T15:20:44.282308Z",
     "iopub.status.idle": "2024-05-07T15:20:44.316729Z",
     "shell.execute_reply": "2024-05-07T15:20:44.316157Z",
     "shell.execute_reply.started": "2024-05-07T15:20:44.282874Z"
    },
    "hidden": true
   },
   "outputs": [
    {
     "name": "stdout",
     "output_type": "stream",
     "text": [
      "<class 'pandas.core.frame.DataFrame'>\n",
      "Index: 1729 entries, 1 to 2377\n",
      "Data columns (total 4 columns):\n",
      " #   Column              Non-Null Count  Dtype \n",
      "---  ------              --------------  ----- \n",
      " 0   Metadata_Source     1729 non-null   object\n",
      " 1   Metadata_Batch      1729 non-null   object\n",
      " 2   Metadata_Plate      1729 non-null   object\n",
      " 3   Metadata_PlateType  1729 non-null   object\n",
      "dtypes: object(4)\n",
      "memory usage: 67.5+ KB\n"
     ]
    },
    {
     "data": {
      "text/plain": [
       "Metadata_Source\n",
       "source_3     237\n",
       "source_6     225\n",
       "source_2     219\n",
       "source_10    208\n",
       "source_8     199\n",
       "source_5     197\n",
       "source_11    173\n",
       "source_7     121\n",
       "source_9      99\n",
       "source_1      51\n",
       "Name: count, dtype: int64"
      ]
     },
     "execution_count": 114,
     "metadata": {},
     "output_type": "execute_result"
    },
    {
     "data": {
      "text/plain": [
       "1729"
      ]
     },
     "execution_count": 114,
     "metadata": {},
     "output_type": "execute_result"
    }
   ],
   "source": [
    "df_cmp_plates = df_plate[(df_plate.Metadata_PlateType == 'COMPOUND') ]\n",
    "df_cmp_plates.info()\n",
    "\n",
    "source_plate_counts = df_cmp_plates.Metadata_Source.value_counts()\n",
    "source_plate_counts\n",
    "source_plate_counts.sum()\n"
   ]
  },
  {
   "attachments": {},
   "cell_type": "markdown",
   "id": "78a391af-983b-4a03-a4e9-95db3ef29bfb",
   "metadata": {},
   "source": [
    "## Join Plates and Well-Compound information\n",
    "\n",
    "  **We will lose some compounds that are related to non-compound plates during join**"
   ]
  },
  {
   "cell_type": "code",
   "execution_count": 115,
   "id": "f7caf6ef-cb51-4467-85f6-9311623c6306",
   "metadata": {
    "ExecuteTime": {
     "end_time": "2023-06-28T22:44:03.926927Z",
     "start_time": "2023-06-28T22:44:03.569241Z"
    },
    "execution": {
     "iopub.execute_input": "2024-05-07T15:21:03.552767Z",
     "iopub.status.busy": "2024-05-07T15:21:03.552298Z",
     "iopub.status.idle": "2024-05-07T15:21:04.394669Z",
     "shell.execute_reply": "2024-05-07T15:21:04.394129Z",
     "shell.execute_reply.started": "2024-05-07T15:21:03.552727Z"
    },
    "hidden": true
   },
   "outputs": [
    {
     "name": "stdout",
     "output_type": "stream",
     "text": [
      "<class 'pandas.core.frame.DataFrame'>\n",
      "Index: 1729 entries, 1 to 2377\n",
      "Data columns (total 4 columns):\n",
      " #   Column              Non-Null Count  Dtype \n",
      "---  ------              --------------  ----- \n",
      " 0   Metadata_Source     1729 non-null   object\n",
      " 1   Metadata_Batch      1729 non-null   object\n",
      " 2   Metadata_Plate      1729 non-null   object\n",
      " 3   Metadata_PlateType  1729 non-null   object\n",
      "dtypes: object(4)\n",
      "memory usage: 67.5+ KB\n",
      "<class 'pandas.core.frame.DataFrame'>\n",
      "RangeIndex: 1096074 entries, 0 to 1096073\n",
      "Data columns (total 4 columns):\n",
      " #   Column            Non-Null Count    Dtype \n",
      "---  ------            --------------    ----- \n",
      " 0   Metadata_Source   1096074 non-null  object\n",
      " 1   Metadata_Plate    1096074 non-null  object\n",
      " 2   Metadata_Well     1096074 non-null  object\n",
      " 3   Metadata_JCP2022  1096074 non-null  object\n",
      "dtypes: object(4)\n",
      "memory usage: 33.4+ MB\n",
      "\n",
      "\n",
      "\n",
      "<class 'pandas.core.frame.DataFrame'>\n",
      "RangeIndex: 832295 entries, 0 to 832294\n",
      "Data columns (total 7 columns):\n",
      " #   Column              Non-Null Count   Dtype   \n",
      "---  ------              --------------   -----   \n",
      " 0   Metadata_Source     832295 non-null  object  \n",
      " 1   Metadata_Batch      832295 non-null  object  \n",
      " 2   Metadata_Plate      832295 non-null  object  \n",
      " 3   Metadata_PlateType  832295 non-null  object  \n",
      " 4   Metadata_Well       832295 non-null  object  \n",
      " 5   Metadata_JCP2022    832295 non-null  object  \n",
      " 6   _merge              832295 non-null  category\n",
      "dtypes: category(1), object(6)\n",
      "memory usage: 38.9+ MB\n"
     ]
    },
    {
     "data": {
      "text/plain": [
       "_merge\n",
       "both          832295\n",
       "left_only          0\n",
       "right_only         0\n",
       "Name: count, dtype: int64"
      ]
     },
     "execution_count": 115,
     "metadata": {},
     "output_type": "execute_result"
    },
    {
     "name": "stdout",
     "output_type": "stream",
     "text": [
      "\n"
     ]
    },
    {
     "data": {
      "text/plain": [
       "115733"
      ]
     },
     "execution_count": 115,
     "metadata": {},
     "output_type": "execute_result"
    }
   ],
   "source": [
    "df_cmp_plates.info()\n",
    "print('\\n\\n')\n",
    "df_wells.info()\n",
    "print('\\n\\n')\n",
    "df_cmp_plates_wells = pd.merge( df_cmp_plates,df_wells, how='left', on=['Metadata_Source','Metadata_Plate'], indicator = True)\n",
    "\n",
    "df_cmp_plates_wells.info()\n",
    "df_cmp_plates_wells._merge.value_counts()\n",
    "print()\n",
    "len(df_cmp_plates_wells.Metadata_JCP2022.unique())"
   ]
  },
  {
   "cell_type": "code",
   "execution_count": 64,
   "id": "9fc7d3a5-2b92-472c-8a5f-388993beb8d8",
   "metadata": {
    "ExecuteTime": {
     "end_time": "2023-06-28T22:44:03.926927Z",
     "start_time": "2023-06-28T22:44:03.569241Z"
    },
    "execution": {
     "iopub.execute_input": "2024-06-18T10:05:30.206320Z",
     "iopub.status.busy": "2024-06-18T10:05:30.205858Z",
     "iopub.status.idle": "2024-06-18T10:05:31.230147Z",
     "shell.execute_reply": "2024-06-18T10:05:31.229417Z",
     "shell.execute_reply.started": "2024-06-18T10:05:30.206283Z"
    },
    "hidden": true
   },
   "outputs": [
    {
     "name": "stdout",
     "output_type": "stream",
     "text": [
      "<class 'pandas.core.frame.DataFrame'>\n",
      "Index: 1729 entries, 1 to 2377\n",
      "Data columns (total 4 columns):\n",
      " #   Column              Non-Null Count  Dtype \n",
      "---  ------              --------------  ----- \n",
      " 0   Metadata_Source     1729 non-null   object\n",
      " 1   Metadata_Batch      1729 non-null   object\n",
      " 2   Metadata_Plate      1729 non-null   object\n",
      " 3   Metadata_PlateType  1729 non-null   object\n",
      "dtypes: object(4)\n",
      "memory usage: 67.5+ KB\n",
      "\n",
      "\n",
      "\n",
      "<class 'pandas.core.frame.DataFrame'>\n",
      "RangeIndex: 1096069 entries, 0 to 1096068\n",
      "Data columns (total 4 columns):\n",
      " #   Column            Non-Null Count    Dtype \n",
      "---  ------            --------------    ----- \n",
      " 0   Metadata_Source   1096069 non-null  object\n",
      " 1   Metadata_Plate    1096069 non-null  object\n",
      " 2   Metadata_Well     1096069 non-null  object\n",
      " 3   Metadata_JCP2022  1096069 non-null  object\n",
      "dtypes: object(4)\n",
      "memory usage: 33.4+ MB\n",
      "\n",
      "\n",
      "\n",
      "<class 'pandas.core.frame.DataFrame'>\n",
      "RangeIndex: 832290 entries, 0 to 832289\n",
      "Data columns (total 7 columns):\n",
      " #   Column              Non-Null Count   Dtype   \n",
      "---  ------              --------------   -----   \n",
      " 0   Metadata_Source     832290 non-null  object  \n",
      " 1   Metadata_Batch      832290 non-null  object  \n",
      " 2   Metadata_Plate      832290 non-null  object  \n",
      " 3   Metadata_PlateType  832290 non-null  object  \n",
      " 4   Metadata_Well       832290 non-null  object  \n",
      " 5   Metadata_JCP2022    832290 non-null  object  \n",
      " 6   _merge              832290 non-null  category\n",
      "dtypes: category(1), object(6)\n",
      "memory usage: 38.9+ MB\n"
     ]
    },
    {
     "data": {
      "text/plain": [
       "_merge\n",
       "both          832290\n",
       "left_only          0\n",
       "right_only         0\n",
       "Name: count, dtype: int64"
      ]
     },
     "execution_count": 64,
     "metadata": {},
     "output_type": "execute_result"
    },
    {
     "name": "stdout",
     "output_type": "stream",
     "text": [
      "\n"
     ]
    },
    {
     "data": {
      "text/plain": [
       "115732"
      ]
     },
     "execution_count": 64,
     "metadata": {},
     "output_type": "execute_result"
    }
   ],
   "source": [
    "df_cmp_plates.info()\n",
    "print('\\n\\n')\n",
    "df_wells.info()\n",
    "print('\\n\\n')\n",
    "df_cmp_plates_wells = pd.merge( df_cmp_plates,df_wells, how='left', on=['Metadata_Source','Metadata_Plate'], indicator = True)\n",
    "\n",
    "df_cmp_plates_wells.info()\n",
    "df_cmp_plates_wells._merge.value_counts()\n",
    "print()\n",
    "len(df_cmp_plates_wells.Metadata_JCP2022.unique())"
   ]
  },
  {
   "cell_type": "code",
   "execution_count": 116,
   "id": "2ac9f85f",
   "metadata": {
    "ExecuteTime": {
     "end_time": "2023-06-28T22:46:04.631919Z",
     "start_time": "2023-06-28T22:46:04.353252Z"
    },
    "execution": {
     "iopub.execute_input": "2024-05-07T15:21:17.721965Z",
     "iopub.status.busy": "2024-05-07T15:21:17.721677Z",
     "iopub.status.idle": "2024-05-07T15:21:17.786537Z",
     "shell.execute_reply": "2024-05-07T15:21:17.786003Z",
     "shell.execute_reply.started": "2024-05-07T15:21:17.721943Z"
    },
    "hidden": true
   },
   "outputs": [
    {
     "data": {
      "text/plain": [
       "Metadata_Source\n",
       "source_9     152064\n",
       "source_3      90929\n",
       "source_6      86395\n",
       "source_2      84032\n",
       "source_10     79862\n",
       "source_8      76401\n",
       "source_5      75646\n",
       "source_1      74843\n",
       "source_11     65663\n",
       "source_7      46460\n",
       "Name: count, dtype: int64"
      ]
     },
     "execution_count": 116,
     "metadata": {},
     "output_type": "execute_result"
    },
    {
     "name": "stdout",
     "output_type": "stream",
     "text": [
      "\n",
      " ------------------------------------\n",
      " Average wells per plate by source\n",
      " ------------------------------------\n"
     ]
    },
    {
     "data": {
      "text/plain": [
       "Metadata_Source\n",
       "source_1     1467.509804\n",
       "source_10     383.951923\n",
       "source_11     379.554913\n",
       "source_2      383.707763\n",
       "source_3      383.666667\n",
       "source_5      383.989848\n",
       "source_6      383.977778\n",
       "source_7      383.966942\n",
       "source_8      383.924623\n",
       "source_9     1536.000000\n",
       "Name: count, dtype: float64"
      ]
     },
     "execution_count": 116,
     "metadata": {},
     "output_type": "execute_result"
    }
   ],
   "source": [
    "source_well_counts = df_cmp_plates_wells.Metadata_Source.value_counts()\n",
    "source_well_counts \n",
    "print(\"\\n ------------------------------------\")\n",
    "print(f\" Average wells per plate by source\")\n",
    "print(f\" ------------------------------------\")\n",
    "source_well_counts / source_plate_counts"
   ]
  },
  {
   "cell_type": "code",
   "execution_count": 83,
   "id": "f8a86f40-fadb-44c3-b6ff-a274db35f425",
   "metadata": {
    "ExecuteTime": {
     "end_time": "2023-06-28T22:46:04.631919Z",
     "start_time": "2023-06-28T22:46:04.353252Z"
    },
    "execution": {
     "iopub.execute_input": "2024-06-18T10:33:50.087883Z",
     "iopub.status.busy": "2024-06-18T10:33:50.087484Z",
     "iopub.status.idle": "2024-06-18T10:33:50.175721Z",
     "shell.execute_reply": "2024-06-18T10:33:50.174702Z",
     "shell.execute_reply.started": "2024-06-18T10:33:50.087858Z"
    },
    "hidden": true
   },
   "outputs": [
    {
     "data": {
      "text/plain": [
       "Metadata_Source\n",
       "source_9     152064\n",
       "source_3      90929\n",
       "source_6      86395\n",
       "source_2      84032\n",
       "source_10     79862\n",
       "source_8      76401\n",
       "source_5      75646\n",
       "source_1      74843\n",
       "source_11     65663\n",
       "source_7      46455\n",
       "Name: count, dtype: int64"
      ]
     },
     "execution_count": 83,
     "metadata": {},
     "output_type": "execute_result"
    },
    {
     "name": "stdout",
     "output_type": "stream",
     "text": [
      "\n",
      " ------------------------------------\n",
      " Average wells per plate by source\n",
      " ------------------------------------\n"
     ]
    },
    {
     "data": {
      "text/plain": [
       "Metadata_Source\n",
       "source_1     1467.509804\n",
       "source_10     383.951923\n",
       "source_11     379.554913\n",
       "source_2      383.707763\n",
       "source_3      383.666667\n",
       "source_5      383.989848\n",
       "source_6      383.977778\n",
       "source_7      383.925620\n",
       "source_8      383.924623\n",
       "source_9     1536.000000\n",
       "Name: count, dtype: float64"
      ]
     },
     "execution_count": 83,
     "metadata": {},
     "output_type": "execute_result"
    }
   ],
   "source": [
    "source_well_counts = df_cmp_plates_wells.Metadata_Source.value_counts()\n",
    "source_well_counts \n",
    "print(\"\\n ------------------------------------\")\n",
    "print(f\" Average wells per plate by source\")\n",
    "print(f\" ------------------------------------\")\n",
    "source_well_counts / source_plate_counts"
   ]
  },
  {
   "cell_type": "code",
   "execution_count": 126,
   "id": "22f67192-0fbc-4965-9c37-bed94ec5b4bf",
   "metadata": {
    "execution": {
     "iopub.execute_input": "2024-06-18T11:10:12.550198Z",
     "iopub.status.busy": "2024-06-18T11:10:12.549728Z",
     "iopub.status.idle": "2024-06-18T11:10:12.741769Z",
     "shell.execute_reply": "2024-06-18T11:10:12.741041Z",
     "shell.execute_reply.started": "2024-06-18T11:10:12.550156Z"
    }
   },
   "outputs": [
    {
     "data": {
      "text/plain": [
       "Metadata_Source\n",
       "source_1      74843\n",
       "source_10     79862\n",
       "source_11     65663\n",
       "source_2      84032\n",
       "source_3      90929\n",
       "source_5      75646\n",
       "source_6      86395\n",
       "source_7      46455\n",
       "source_8      76401\n",
       "source_9     152064\n",
       "Name: count, dtype: int64"
      ]
     },
     "execution_count": 126,
     "metadata": {},
     "output_type": "execute_result"
    },
    {
     "data": {
      "text/plain": [
       "Metadata_Source  Metadata_Plate\n",
       "source_9         GR00004421        1536\n",
       "                 GR00003315        1536\n",
       "                 GR00003317        1536\n",
       "                 GR00003318        1536\n",
       "                 GR00003330        1536\n",
       "                                   ... \n",
       "source_3         P24P27dW           319\n",
       "source_11        EC000137           250\n",
       "                 EC000038           250\n",
       "                 EC000045           189\n",
       "                 EC000048           126\n",
       "Name: count, Length: 1729, dtype: int64"
      ]
     },
     "execution_count": 126,
     "metadata": {},
     "output_type": "execute_result"
    },
    {
     "data": {
      "text/plain": [
       "Metadata_Source  Metadata_Plate\n",
       "source_1         UL000081          1\n",
       "                 UL000083          1\n",
       "                 UL000087          1\n",
       "                 UL000089          1\n",
       "                 UL000091          1\n",
       "                                  ..\n",
       "source_9         GR00004417        1\n",
       "                 GR00004418        1\n",
       "                 GR00004419        1\n",
       "                 GR00004420        1\n",
       "                 GR00004421        1\n",
       "Name: count, Length: 1729, dtype: int64"
      ]
     },
     "execution_count": 126,
     "metadata": {},
     "output_type": "execute_result"
    },
    {
     "data": {
      "text/plain": [
       "Metadata_Source\n",
       "source_1      51\n",
       "source_10    208\n",
       "source_11    173\n",
       "source_2     219\n",
       "source_3     237\n",
       "source_5     197\n",
       "source_6     225\n",
       "source_7     121\n",
       "source_8     199\n",
       "source_9      99\n",
       "Name: count, dtype: int64"
      ]
     },
     "execution_count": 126,
     "metadata": {},
     "output_type": "execute_result"
    },
    {
     "data": {
      "text/html": [
       "<div>\n",
       "<style scoped>\n",
       "    .dataframe tbody tr th:only-of-type {\n",
       "        vertical-align: middle;\n",
       "    }\n",
       "\n",
       "    .dataframe tbody tr th {\n",
       "        vertical-align: top;\n",
       "    }\n",
       "\n",
       "    .dataframe thead th {\n",
       "        text-align: right;\n",
       "    }\n",
       "</style>\n",
       "<table border=\"1\" class=\"dataframe\">\n",
       "  <thead>\n",
       "    <tr style=\"text-align: right;\">\n",
       "      <th></th>\n",
       "      <th>Metadata_Source</th>\n",
       "      <th>Metadata_Batch</th>\n",
       "      <th>Metadata_Plate</th>\n",
       "      <th>Metadata_PlateType</th>\n",
       "      <th>Metadata_Well</th>\n",
       "      <th>Metadata_JCP2022</th>\n",
       "      <th>_merge</th>\n",
       "    </tr>\n",
       "  </thead>\n",
       "  <tbody>\n",
       "    <tr>\n",
       "      <th>0</th>\n",
       "      <td>source_1</td>\n",
       "      <td>Batch1_20221004</td>\n",
       "      <td>UL001641</td>\n",
       "      <td>COMPOUND</td>\n",
       "      <td>A02</td>\n",
       "      <td>JCP2022_033924</td>\n",
       "      <td>both</td>\n",
       "    </tr>\n",
       "    <tr>\n",
       "      <th>1</th>\n",
       "      <td>source_1</td>\n",
       "      <td>Batch1_20221004</td>\n",
       "      <td>UL001641</td>\n",
       "      <td>COMPOUND</td>\n",
       "      <td>A03</td>\n",
       "      <td>JCP2022_085227</td>\n",
       "      <td>both</td>\n",
       "    </tr>\n",
       "    <tr>\n",
       "      <th>2</th>\n",
       "      <td>source_1</td>\n",
       "      <td>Batch1_20221004</td>\n",
       "      <td>UL001641</td>\n",
       "      <td>COMPOUND</td>\n",
       "      <td>A04</td>\n",
       "      <td>JCP2022_033924</td>\n",
       "      <td>both</td>\n",
       "    </tr>\n",
       "    <tr>\n",
       "      <th>3</th>\n",
       "      <td>source_1</td>\n",
       "      <td>Batch1_20221004</td>\n",
       "      <td>UL001641</td>\n",
       "      <td>COMPOUND</td>\n",
       "      <td>A05</td>\n",
       "      <td>JCP2022_036592</td>\n",
       "      <td>both</td>\n",
       "    </tr>\n",
       "    <tr>\n",
       "      <th>4</th>\n",
       "      <td>source_1</td>\n",
       "      <td>Batch1_20221004</td>\n",
       "      <td>UL001641</td>\n",
       "      <td>COMPOUND</td>\n",
       "      <td>A06</td>\n",
       "      <td>JCP2022_071885</td>\n",
       "      <td>both</td>\n",
       "    </tr>\n",
       "  </tbody>\n",
       "</table>\n",
       "</div>"
      ],
      "text/plain": [
       "  Metadata_Source   Metadata_Batch Metadata_Plate Metadata_PlateType Metadata_Well Metadata_JCP2022 _merge\n",
       "0        source_1  Batch1_20221004       UL001641           COMPOUND           A02   JCP2022_033924   both\n",
       "1        source_1  Batch1_20221004       UL001641           COMPOUND           A03   JCP2022_085227   both\n",
       "2        source_1  Batch1_20221004       UL001641           COMPOUND           A04   JCP2022_033924   both\n",
       "3        source_1  Batch1_20221004       UL001641           COMPOUND           A05   JCP2022_036592   both\n",
       "4        source_1  Batch1_20221004       UL001641           COMPOUND           A06   JCP2022_071885   both"
      ]
     },
     "execution_count": 126,
     "metadata": {},
     "output_type": "execute_result"
    }
   ],
   "source": [
    "df_source_well_counts = df_cmp_plates_wells.Metadata_Source.value_counts().sort_index()\n",
    "df_source_well_counts\n",
    "df_source_plate_counts = df_cmp_plates_wells[['Metadata_Source','Metadata_Plate']].value_counts()\n",
    "df_source_plate_counts\n",
    "df_source_plate_grp= df_source_plate_counts.groupby(['Metadata_Source','Metadata_Plate']).count()\n",
    "df_source_plate_grp\n",
    "df_source_plate_grp.groupby('Metadata_Source').sum()\n",
    "# df_source_plate_grp['Metadata_Source'].value_counts()\n",
    "# for group in df_source_plate_grp:\n",
    "#     group[0]\n",
    "#     group[1]\n",
    "#     break\n",
    "# df_source_plate_counts = df_cmp_plates_wells[['Metadata_Source','Metadata_Plate']].count()\n",
    "df_cmp_plates_wells.head()"
   ]
  },
  {
   "cell_type": "code",
   "execution_count": 127,
   "id": "8de0ec19-636e-40e2-934d-4419cf34b2f5",
   "metadata": {
    "execution": {
     "iopub.execute_input": "2024-06-18T11:11:15.976927Z",
     "iopub.status.busy": "2024-06-18T11:11:15.976454Z",
     "iopub.status.idle": "2024-06-18T11:11:16.009780Z",
     "shell.execute_reply": "2024-06-18T11:11:16.008908Z",
     "shell.execute_reply.started": "2024-06-18T11:11:15.976885Z"
    }
   },
   "outputs": [],
   "source": [
    "# df_join = pd.merge(df_source_plate_counts, df_source_well_counts, on =\"Metadata_Source\")\n",
    "# df_join['well_per_plate'] = df_join.count_y / df_join.count_x\n",
    "# print(f\" -----------------------\")\n",
    "# print(f\" Well counts by Source\")\n",
    "# print(f\" -----------------------\")\n",
    "# print(df_join.sort_index())\n",
    "# print(f\" total number of populted wells : {df_compound_counts.sum()}\")"
   ]
  },
  {
   "cell_type": "code",
   "execution_count": 133,
   "id": "5d459c7b-84eb-4bfb-ad09-712cf861d25a",
   "metadata": {
    "ExecuteTime": {
     "end_time": "2023-06-28T22:39:43.851690Z",
     "start_time": "2023-06-28T22:39:43.817754Z"
    },
    "execution": {
     "iopub.execute_input": "2024-06-18T11:24:46.688157Z",
     "iopub.status.busy": "2024-06-18T11:24:46.687687Z",
     "iopub.status.idle": "2024-06-18T11:24:47.260636Z",
     "shell.execute_reply": "2024-06-18T11:24:47.259912Z",
     "shell.execute_reply.started": "2024-06-18T11:24:46.688117Z"
    },
    "hidden": true
   },
   "outputs": [
    {
     "name": "stdout",
     "output_type": "stream",
     "text": [
      "\n",
      " --------------------------------------------------\n",
      " Compound Id: JCP2022_012818\n",
      " --------------------------------------------------\n",
      "   Number of wells for compound JCP2022_012818 : 8111\n",
      "\n",
      "   Counts by source sites:\n",
      "   -----------------------\n",
      "     source_1                 408\n",
      "     source_10                827\n",
      "     source_11                648\n",
      "     source_2                 832\n",
      "     source_3                 946\n",
      "     source_5                 788\n",
      "     source_6                 837\n",
      "     source_7                 460\n",
      "     source_8                 781\n",
      "     source_9                1584\n",
      "\n",
      "     Total plates:           8111\n",
      "\n",
      " --------------------------------------------------\n",
      " Compound Id: JCP2022_025848\n",
      " --------------------------------------------------\n",
      "   Number of wells for compound JCP2022_025848 : 8127\n",
      "\n",
      "   Counts by source sites:\n",
      "   -----------------------\n",
      "     source_1                 407\n",
      "     source_10                832\n",
      "     source_11                660\n",
      "     source_2                 832\n",
      "     source_3                 948\n",
      "     source_5                 788\n",
      "     source_6                 836\n",
      "     source_7                 460\n",
      "     source_8                 780\n",
      "     source_9                1584\n",
      "\n",
      "     Total plates:           8127\n",
      "\n",
      " --------------------------------------------------\n",
      " Compound Id: JCP2022_033924\n",
      " --------------------------------------------------\n",
      "   Number of wells for compound JCP2022_033924 : 88583\n",
      "\n",
      "   Counts by source sites:\n",
      "   -----------------------\n",
      "     source_1                9217\n",
      "     source_10               6560\n",
      "     source_11               7587\n",
      "     source_2               10877\n",
      "     source_3                7574\n",
      "     source_5                6304\n",
      "     source_6               12832\n",
      "     source_7                7184\n",
      "     source_8                7776\n",
      "     source_9               12672\n",
      "\n",
      "     Total plates:          88583\n",
      "\n",
      " --------------------------------------------------\n",
      " Compound Id: JCP2022_033954\n",
      " --------------------------------------------------\n",
      "   Number of wells for compound JCP2022_033954 : 1594\n",
      "\n",
      "   Counts by source sites:\n",
      "   -----------------------\n",
      "     source_2                   1\n",
      "     source_3                   2\n",
      "     source_6                   1\n",
      "     source_7                   5\n",
      "     source_8                   1\n",
      "     source_9                1584\n",
      "\n",
      "     Total plates:           1594\n",
      "\n",
      " --------------------------------------------------\n",
      " Compound Id: JCP2022_035095\n",
      " --------------------------------------------------\n",
      "   Number of wells for compound JCP2022_035095 : 6550\n",
      "\n",
      "   Counts by source sites:\n",
      "   -----------------------\n",
      "     source_1                 406\n",
      "     source_10                832\n",
      "     source_11                659\n",
      "     source_2                 833\n",
      "     source_3                 949\n",
      "     source_5                 788\n",
      "     source_6                 837\n",
      "     source_7                 465\n",
      "     source_8                 781\n",
      "\n",
      "     Total plates:           6550\n",
      "\n",
      " --------------------------------------------------\n",
      " Compound Id: JCP2022_037716\n",
      " --------------------------------------------------\n",
      "   Number of wells for compound JCP2022_037716 : 8138\n",
      "\n",
      "   Counts by source sites:\n",
      "   -----------------------\n",
      "     source_1                 407\n",
      "     source_10                832\n",
      "     source_11                661\n",
      "     source_2                 833\n",
      "     source_3                 950\n",
      "     source_5                 788\n",
      "     source_6                 837\n",
      "     source_7                 465\n",
      "     source_8                 781\n",
      "     source_9                1584\n",
      "\n",
      "     Total plates:           8138\n",
      "\n",
      " --------------------------------------------------\n",
      " Compound Id: JCP2022_046054\n",
      " --------------------------------------------------\n",
      "   Number of wells for compound JCP2022_046054 : 8122\n",
      "\n",
      "   Counts by source sites:\n",
      "   -----------------------\n",
      "     source_1                 407\n",
      "     source_10                831\n",
      "     source_11                657\n",
      "     source_2                 832\n",
      "     source_3                 947\n",
      "     source_5                 788\n",
      "     source_6                 836\n",
      "     source_7                 460\n",
      "     source_8                 780\n",
      "     source_9                1584\n",
      "\n",
      "     Total plates:           8122\n",
      "\n",
      " --------------------------------------------------\n",
      " Compound Id: JCP2022_050797\n",
      " --------------------------------------------------\n",
      "   Number of wells for compound JCP2022_050797 : 8127\n",
      "\n",
      "   Counts by source sites:\n",
      "   -----------------------\n",
      "     source_1                 407\n",
      "     source_10                832\n",
      "     source_11                654\n",
      "     source_2                 832\n",
      "     source_3                 944\n",
      "     source_5                 788\n",
      "     source_6                 836\n",
      "     source_7                 470\n",
      "     source_8                 780\n",
      "     source_9                1584\n",
      "\n",
      "     Total plates:           8127\n",
      "\n",
      " --------------------------------------------------\n",
      " Compound Id: JCP2022_064022\n",
      " --------------------------------------------------\n",
      "   Number of wells for compound JCP2022_064022 : 8130\n",
      "\n",
      "   Counts by source sites:\n",
      "   -----------------------\n",
      "     source_1                 406\n",
      "     source_10                832\n",
      "     source_11                660\n",
      "     source_2                 834\n",
      "     source_3                 947\n",
      "     source_5                 788\n",
      "     source_6                 838\n",
      "     source_7                 460\n",
      "     source_8                 781\n",
      "     source_9                1584\n",
      "\n",
      "     Total plates:           8130\n",
      "\n",
      " --------------------------------------------------\n",
      " Compound Id: JCP2022_085227\n",
      " --------------------------------------------------\n",
      "   Number of wells for compound JCP2022_085227 : 7707\n",
      "\n",
      "   Counts by source sites:\n",
      "   -----------------------\n",
      "     source_1                 407\n",
      "     source_10                406\n",
      "     source_11                659\n",
      "     source_2                 833\n",
      "     source_3                 947\n",
      "     source_5                 788\n",
      "     source_6                 837\n",
      "     source_7                 465\n",
      "     source_8                 781\n",
      "     source_9                1584\n",
      "\n",
      "     Total plates:           7707\n",
      "\n",
      " --------------------------------------------------\n",
      " Compound Id: JCP2022_999999\n",
      " --------------------------------------------------\n",
      "   Number of wells for compound JCP2022_999999 : 25724\n",
      "\n",
      "   Counts by source sites:\n",
      "   -----------------------\n",
      "     source_10               7170\n",
      "     source_3                6388\n",
      "     source_5                2462\n",
      "     source_8                4140\n",
      "     source_9                5564\n",
      "\n",
      "     Total plates:          25724\n"
     ]
    }
   ],
   "source": [
    "# df_compound_plates = df_plate[(df_plate.Metadata_PlateType == 'COMPOUND') & (df_plate.Metadata_Source=='source_3')]\n",
    "for compound in [\"JCP2022_012818\",\"JCP2022_025848\",\"JCP2022_033924\",\n",
    "                 \"JCP2022_033954\",\"JCP2022_035095\",\"JCP2022_037716\",\"JCP2022_046054\",\n",
    "                 \"JCP2022_050797\",\"JCP2022_064022\",\"JCP2022_085227\",\"JCP2022_999999\"]:\n",
    "    \n",
    "    print(\"\\n \"+\"-\"*50)\n",
    "    print(f\" Compound Id: {compound}\")\n",
    "    print(f\" \"+\"-\"*50)    \n",
    "    df_sel_cmp = df_cmp_plates_wells[(df_cmp_plates_wells.Metadata_JCP2022 ==compound) ]\n",
    "\n",
    "    print(f\"   Number of wells for compound {compound} : {df_sel_cmp.shape[0]}\")\n",
    "    # df_cmp_plates.head(5)\n",
    "    \n",
    "    print(f\"\\n   Counts by source sites:\")\n",
    "    print(  f\"   -----------------------\")\n",
    "    source_plate_counts = df_sel_cmp.Metadata_Source.value_counts().sort_index()\n",
    "    for idx, val in source_plate_counts.items():\n",
    "        print(f\"     {idx:15s}        {val:5d}\")\n",
    "        \n",
    "    print(f\"\\n     Total plates:        {source_plate_counts.sum():7d}\")\n",
    "    \n",
    "    # df_join = pd.merge( df_cmp_plates, df_wells, how='left', on=['Metadata_Source','Metadata_Plate'], indicator = True)\n",
    "    # # df_join._merge.value_counts()\n",
    "    # print(f\"\\n   Total number of wells           : {df_join.shape[0]:7d}\")\n",
    "    # unique_cmpds = len(df_join.Metadata_JCP2022.unique())\n",
    "    # print(f\"   Total number of unique compounds: {unique_cmpds:7d}\")\n",
    "    \n",
    "    # if unique_cmpds < 20:\n",
    "    #     df_vc = df_join.Metadata_JCP2022.value_counts().sort_index()\n",
    "    #     print(f\"\\n     Compound              Wells\")\n",
    "    #     for idx, val in df_vc.items():\n",
    "    #         print(f\"     {idx:15s}        {val:5d}\")\n",
    "    #     print(f\"\\n     Total wells:        {df_vc.sum():8d}\")        \n",
    "    #     del df_vc\n",
    "    # del df_cmp_plates, df_join, source_plate_counts, "
   ]
  },
  {
   "cell_type": "code",
   "execution_count": 141,
   "id": "602e4681-931d-48d5-b133-623ba2486936",
   "metadata": {
    "execution": {
     "iopub.execute_input": "2024-06-18T12:43:46.835290Z",
     "iopub.status.busy": "2024-06-18T12:43:46.834830Z",
     "iopub.status.idle": "2024-06-18T12:43:46.930596Z",
     "shell.execute_reply": "2024-06-18T12:43:46.929906Z",
     "shell.execute_reply.started": "2024-06-18T12:43:46.835250Z"
    }
   },
   "outputs": [
    {
     "name": "stdout",
     "output_type": "stream",
     "text": [
      "\n",
      " --------------------------------------------------\n",
      " Compound Id: JCP2022_033924\n",
      " --------------------------------------------------\n",
      "   Number of wells for compound JCP2022_033924 : 88583\n",
      "\n",
      "   Counts by source sites:\n",
      "   -----------------------\n"
     ]
    },
    {
     "data": {
      "text/html": [
       "<div>\n",
       "<style scoped>\n",
       "    .dataframe tbody tr th:only-of-type {\n",
       "        vertical-align: middle;\n",
       "    }\n",
       "\n",
       "    .dataframe tbody tr th {\n",
       "        vertical-align: top;\n",
       "    }\n",
       "\n",
       "    .dataframe thead th {\n",
       "        text-align: right;\n",
       "    }\n",
       "</style>\n",
       "<table border=\"1\" class=\"dataframe\">\n",
       "  <thead>\n",
       "    <tr style=\"text-align: right;\">\n",
       "      <th></th>\n",
       "      <th></th>\n",
       "      <th>Metadata_Batch</th>\n",
       "      <th>Metadata_PlateType</th>\n",
       "      <th>Metadata_Well</th>\n",
       "      <th>Metadata_JCP2022</th>\n",
       "      <th>_merge</th>\n",
       "    </tr>\n",
       "    <tr>\n",
       "      <th>Metadata_Source</th>\n",
       "      <th>Metadata_Plate</th>\n",
       "      <th></th>\n",
       "      <th></th>\n",
       "      <th></th>\n",
       "      <th></th>\n",
       "      <th></th>\n",
       "    </tr>\n",
       "  </thead>\n",
       "  <tbody>\n",
       "    <tr>\n",
       "      <th rowspan=\"5\" valign=\"top\">source_1</th>\n",
       "      <th>UL000081</th>\n",
       "      <td>129</td>\n",
       "      <td>129</td>\n",
       "      <td>129</td>\n",
       "      <td>129</td>\n",
       "      <td>129</td>\n",
       "    </tr>\n",
       "    <tr>\n",
       "      <th>UL000083</th>\n",
       "      <td>117</td>\n",
       "      <td>117</td>\n",
       "      <td>117</td>\n",
       "      <td>117</td>\n",
       "      <td>117</td>\n",
       "    </tr>\n",
       "    <tr>\n",
       "      <th>UL000087</th>\n",
       "      <td>128</td>\n",
       "      <td>128</td>\n",
       "      <td>128</td>\n",
       "      <td>128</td>\n",
       "      <td>128</td>\n",
       "    </tr>\n",
       "    <tr>\n",
       "      <th>UL000089</th>\n",
       "      <td>713</td>\n",
       "      <td>713</td>\n",
       "      <td>713</td>\n",
       "      <td>713</td>\n",
       "      <td>713</td>\n",
       "    </tr>\n",
       "    <tr>\n",
       "      <th>UL000091</th>\n",
       "      <td>129</td>\n",
       "      <td>129</td>\n",
       "      <td>129</td>\n",
       "      <td>129</td>\n",
       "      <td>129</td>\n",
       "    </tr>\n",
       "    <tr>\n",
       "      <th>...</th>\n",
       "      <th>...</th>\n",
       "      <td>...</td>\n",
       "      <td>...</td>\n",
       "      <td>...</td>\n",
       "      <td>...</td>\n",
       "      <td>...</td>\n",
       "    </tr>\n",
       "    <tr>\n",
       "      <th rowspan=\"5\" valign=\"top\">source_9</th>\n",
       "      <th>GR00004417</th>\n",
       "      <td>128</td>\n",
       "      <td>128</td>\n",
       "      <td>128</td>\n",
       "      <td>128</td>\n",
       "      <td>128</td>\n",
       "    </tr>\n",
       "    <tr>\n",
       "      <th>GR00004418</th>\n",
       "      <td>128</td>\n",
       "      <td>128</td>\n",
       "      <td>128</td>\n",
       "      <td>128</td>\n",
       "      <td>128</td>\n",
       "    </tr>\n",
       "    <tr>\n",
       "      <th>GR00004419</th>\n",
       "      <td>128</td>\n",
       "      <td>128</td>\n",
       "      <td>128</td>\n",
       "      <td>128</td>\n",
       "      <td>128</td>\n",
       "    </tr>\n",
       "    <tr>\n",
       "      <th>GR00004420</th>\n",
       "      <td>128</td>\n",
       "      <td>128</td>\n",
       "      <td>128</td>\n",
       "      <td>128</td>\n",
       "      <td>128</td>\n",
       "    </tr>\n",
       "    <tr>\n",
       "      <th>GR00004421</th>\n",
       "      <td>128</td>\n",
       "      <td>128</td>\n",
       "      <td>128</td>\n",
       "      <td>128</td>\n",
       "      <td>128</td>\n",
       "    </tr>\n",
       "  </tbody>\n",
       "</table>\n",
       "<p>1726 rows × 5 columns</p>\n",
       "</div>"
      ],
      "text/plain": [
       "                                Metadata_Batch  Metadata_PlateType  Metadata_Well  Metadata_JCP2022  _merge\n",
       "Metadata_Source Metadata_Plate                                                                             \n",
       "source_1        UL000081                   129                 129            129               129     129\n",
       "                UL000083                   117                 117            117               117     117\n",
       "                UL000087                   128                 128            128               128     128\n",
       "                UL000089                   713                 713            713               713     713\n",
       "                UL000091                   129                 129            129               129     129\n",
       "...                                        ...                 ...            ...               ...     ...\n",
       "source_9        GR00004417                 128                 128            128               128     128\n",
       "                GR00004418                 128                 128            128               128     128\n",
       "                GR00004419                 128                 128            128               128     128\n",
       "                GR00004420                 128                 128            128               128     128\n",
       "                GR00004421                 128                 128            128               128     128\n",
       "\n",
       "[1726 rows x 5 columns]"
      ]
     },
     "execution_count": 141,
     "metadata": {},
     "output_type": "execute_result"
    }
   ],
   "source": [
    "# df_compound_plates = df_plate[(df_plate.Metadata_PlateType == 'COMPOUND') & (df_plate.Metadata_Source=='source_3')]\n",
    "for compound in [\"JCP2022_033924\"]:\n",
    "    \n",
    "    print(\"\\n \"+\"-\"*50)\n",
    "    print(f\" Compound Id: {compound}\")\n",
    "    print(f\" \"+\"-\"*50)    \n",
    "    df_sel_cmp = df_cmp_plates_wells.query(\"Metadata_JCP2022 == @compound\")\n",
    "    \n",
    "\n",
    "    print(f\"   Number of wells for compound {compound} : {df_sel_cmp.shape[0]}\")\n",
    "    # df_cmp_plates.head(5)\n",
    "    \n",
    "    print(f\"\\n   Counts by source sites:\")\n",
    "    print(  f\"   -----------------------\")\n",
    "    # source_plate_counts = df_sel_cmp.Metadata_Source.value_counts().sort_index()\n",
    "    source_plate_counts = df_sel_cmp.groupby(['Metadata_Source','Metadata_Plate']).count() \n",
    "    source_plate_counts\n",
    "    break\n",
    "    for idx, val in source_plate_counts.items():\n",
    "        print(f\"     {idx:15s}        {val:5d}\")\n",
    "        \n",
    "    print(f\"\\n     Total plates:        {source_plate_counts.sum():7d}\")\n",
    "    "
   ]
  },
  {
   "cell_type": "code",
   "execution_count": 128,
   "id": "6e008788-51a5-402e-9ff4-ad2192a92a1a",
   "metadata": {
    "execution": {
     "iopub.execute_input": "2024-06-18T11:11:19.231684Z",
     "iopub.status.busy": "2024-06-18T11:11:19.231217Z",
     "iopub.status.idle": "2024-06-18T11:11:19.596461Z",
     "shell.execute_reply": "2024-06-18T11:11:19.595659Z",
     "shell.execute_reply.started": "2024-06-18T11:11:19.231643Z"
    }
   },
   "outputs": [
    {
     "name": "stdout",
     "output_type": "stream",
     "text": [
      " Number of unqiue compounds ::  115732 \n",
      "\n",
      "   JCP2022_033924     -  138936          88583 -   JCP2022_033924\n",
      "   JCP2022_999999     -   37094          25724 -   JCP2022_999999\n",
      "   JCP2022_UNKNOWN    -   12574          12574 -   JCP2022_UNKNOWN\n",
      "   JCP2022_050797     -    9732           8138 -   JCP2022_037716\n",
      "   JCP2022_037716     -    9571           8130 -   JCP2022_064022\n",
      "   JCP2022_012818     -    9544           8127 -   JCP2022_025848\n",
      "   JCP2022_025848     -    9513           8127 -   JCP2022_050797\n",
      "   JCP2022_046054     -    9508           8122 -   JCP2022_046054\n",
      "   JCP2022_064022     -    9346           8111 -   JCP2022_012818\n",
      "   JCP2022_085227     -    8923           7707 -   JCP2022_085227\n",
      "   JCP2022_035095     -    7983           6550 -   JCP2022_035095\n",
      "   JCP2022_800001     -    4724           1594 -   JCP2022_033954\n",
      "   JCP2022_800002     -    2754             58 -   JCP2022_101934\n",
      "   JCP2022_915132     -    2026             49 -   JCP2022_109350\n",
      "   JCP2022_033954     -    1594             47 -   JCP2022_018628\n",
      "   JCP2022_915129     -     973             43 -   JCP2022_050997\n",
      "   JCP2022_915128     -     973             41 -   JCP2022_072565\n",
      "   JCP2022_915131     -     973             39 -   JCP2022_029611\n",
      "   JCP2022_915130     -     973             37 -   JCP2022_029868\n",
      "   JCP2022_900001     -     632             35 -   JCP2022_061774\n",
      "   JCP2022_805264     -     569             35 -   JCP2022_067216\n",
      "   JCP2022_033914     -     362             34 -   JCP2022_062326\n",
      "   JCP2022_013856     -     361             34 -   JCP2022_059004\n",
      "   JCP2022_001036     -     359             34 -   JCP2022_072343\n",
      "   JCP2022_105442     -     356             34 -   JCP2022_019441\n",
      "   JCP2022_080920     -     355             33 -   JCP2022_019585\n",
      "   JCP2022_073628     -     354             33 -   JCP2022_095595\n",
      "   JCP2022_056401     -     354             32 -   JCP2022_006452\n",
      "   JCP2022_032771     -     354             32 -   JCP2022_003104\n",
      "   JCP2022_004587     -     354             32 -   JCP2022_028032\n",
      "   JCP2022_046462     -     354             32 -   JCP2022_083372\n",
      "   JCP2022_060040     -     353             31 -   JCP2022_048392\n",
      "   JCP2022_015955     -     349             31 -   JCP2022_025420\n",
      "   JCP2022_102083     -     348             30 -   JCP2022_029646\n",
      "   JCP2022_001890     -     344             30 -   JCP2022_005373\n"
     ]
    }
   ],
   "source": [
    "print(f\" Number of unqiue compounds ::  {len(df_cmp_plates_wells['Metadata_JCP2022'].unique())} \\n\")\n",
    "df_compound_counts = df_wells.Metadata_JCP2022.value_counts()\n",
    "df_compound_counts_2 = df_cmp_plates_wells['Metadata_JCP2022'].value_counts()\n",
    "for i,j in zip(df_compound_counts.index[:35],df_compound_counts_2.index[:35]):\n",
    "    print(f\"   {i:16s}   - {df_compound_counts[i]:7d}        {df_compound_counts_2[j]:7d} -   {j}\")"
   ]
  },
  {
   "cell_type": "code",
   "execution_count": 76,
   "id": "575817d5-4310-4417-a000-cfebf523b5cf",
   "metadata": {
    "execution": {
     "iopub.execute_input": "2024-06-18T10:27:32.265527Z",
     "iopub.status.busy": "2024-06-18T10:27:32.264961Z",
     "iopub.status.idle": "2024-06-18T10:27:32.941163Z",
     "shell.execute_reply": "2024-06-18T10:27:32.940438Z",
     "shell.execute_reply.started": "2024-06-18T10:27:32.265487Z"
    }
   },
   "outputs": [
    {
     "name": "stdout",
     "output_type": "stream",
     "text": [
      " Number of unqiue compounds on df_wells ::  138906 \n",
      "\n",
      " Number of unqiue compounds on df_cmp_plates_wells::  115732 \n",
      "\n",
      "   JCP2022_033924     -  138936          88583 -   JCP2022_033924\n",
      "   JCP2022_999999     -   37094          25724 -   JCP2022_999999\n",
      "   JCP2022_UNKNOWN    -   12574          12574 -   JCP2022_UNKNOWN\n",
      "   JCP2022_050797     -    9732           8138 -   JCP2022_037716\n",
      "   JCP2022_037716     -    9571           8130 -   JCP2022_064022\n",
      "   JCP2022_012818     -    9544           8127 -   JCP2022_025848\n",
      "   JCP2022_025848     -    9513           8127 -   JCP2022_050797\n",
      "   JCP2022_046054     -    9508           8122 -   JCP2022_046054\n",
      "   JCP2022_064022     -    9346           8111 -   JCP2022_012818\n",
      "   JCP2022_085227     -    8923           7707 -   JCP2022_085227\n",
      "   JCP2022_035095     -    7983           6550 -   JCP2022_035095\n",
      "   JCP2022_800001     -    4724           1594 -   JCP2022_033954\n",
      "   JCP2022_800002     -    2754             58 -   JCP2022_101934\n",
      "   JCP2022_915132     -    2026             49 -   JCP2022_109350\n",
      "   JCP2022_033954     -    1594             47 -   JCP2022_018628\n",
      "   JCP2022_915129     -     973             43 -   JCP2022_050997\n",
      "   JCP2022_915128     -     973             41 -   JCP2022_072565\n",
      "   JCP2022_915131     -     973             39 -   JCP2022_029611\n",
      "   JCP2022_915130     -     973             37 -   JCP2022_029868\n",
      "   JCP2022_900001     -     632             35 -   JCP2022_061774\n",
      "   JCP2022_805264     -     569             35 -   JCP2022_067216\n",
      "   JCP2022_033914     -     362             34 -   JCP2022_062326\n",
      "   JCP2022_013856     -     361             34 -   JCP2022_059004\n",
      "   JCP2022_001036     -     359             34 -   JCP2022_072343\n",
      "   JCP2022_105442     -     356             34 -   JCP2022_019441\n",
      "   JCP2022_080920     -     355             33 -   JCP2022_019585\n",
      "   JCP2022_073628     -     354             33 -   JCP2022_095595\n",
      "   JCP2022_056401     -     354             32 -   JCP2022_006452\n",
      "   JCP2022_032771     -     354             32 -   JCP2022_003104\n",
      "   JCP2022_004587     -     354             32 -   JCP2022_028032\n",
      "   JCP2022_046462     -     354             32 -   JCP2022_083372\n",
      "   JCP2022_060040     -     353             31 -   JCP2022_048392\n",
      "   JCP2022_015955     -     349             31 -   JCP2022_025420\n",
      "   JCP2022_102083     -     348             30 -   JCP2022_029646\n",
      "   JCP2022_001890     -     344             30 -   JCP2022_005373\n"
     ]
    }
   ],
   "source": [
    "print(f\" Number of unqiue compounds on df_wells ::  {len(df_wells['Metadata_JCP2022'].unique())} \")\n",
    "print(f\" Number of unqiue compounds on df_cmp_plates_wells::  {len(df_cmp_plates_wells['Metadata_JCP2022'].unique())} \\n\")\n",
    "\n",
    "df_compound_counts = df_wells.Metadata_JCP2022.value_counts()\n",
    "df_compound_counts_2 = df_cmp_plates_wells['Metadata_JCP2022'].value_counts()\n",
    "\n",
    "for i,j in zip(df_compound_counts.index[:35],df_compound_counts_2.index[:35]):\n",
    "    print(f\"   {i:16s}   - {df_compound_counts[i]:7d}        {df_compound_counts_2[j]:7d} -   {j}\")"
   ]
  },
  {
   "cell_type": "code",
   "execution_count": 71,
   "id": "21a22ba1-1a3f-4209-bac2-9d2aad62d337",
   "metadata": {
    "execution": {
     "iopub.execute_input": "2024-06-18T10:23:59.365085Z",
     "iopub.status.busy": "2024-06-18T10:23:59.364577Z",
     "iopub.status.idle": "2024-06-18T10:23:59.407736Z",
     "shell.execute_reply": "2024-06-18T10:23:59.406980Z",
     "shell.execute_reply.started": "2024-06-18T10:23:59.365045Z"
    }
   },
   "outputs": [
    {
     "name": "stdout",
     "output_type": "stream",
     "text": [
      "<class 'pandas.core.series.Series'>\n",
      "Index: 138906 entries, JCP2022_033924 to JCP2022_803433\n",
      "Series name: count\n",
      "Non-Null Count   Dtype\n",
      "--------------   -----\n",
      "138906 non-null  int64\n",
      "dtypes: int64(1)\n",
      "memory usage: 6.2+ MB\n",
      "<class 'pandas.core.series.Series'>\n",
      "Index: 115732 entries, JCP2022_033924 to JCP2022_090832\n",
      "Series name: count\n",
      "Non-Null Count   Dtype\n",
      "--------------   -----\n",
      "115732 non-null  int64\n",
      "dtypes: int64(1)\n",
      "memory usage: 5.8+ MB\n"
     ]
    }
   ],
   "source": [
    "df_compound_counts.info()\n",
    "df_compound_counts_2.info()"
   ]
  },
  {
   "cell_type": "code",
   "execution_count": 78,
   "id": "2e0533d6-eb77-4389-8b59-ea151ab01d32",
   "metadata": {
    "execution": {
     "iopub.execute_input": "2024-06-18T10:29:19.270384Z",
     "iopub.status.busy": "2024-06-18T10:29:19.269849Z",
     "iopub.status.idle": "2024-06-18T10:29:19.616920Z",
     "shell.execute_reply": "2024-06-18T10:29:19.616093Z",
     "shell.execute_reply.started": "2024-06-18T10:29:19.270340Z"
    }
   },
   "outputs": [],
   "source": [
    "df_cmp_count_join = pd.merge(df_compound_counts,df_compound_counts_2, how='outer', indicator= True,left_index=True, right_index=True)"
   ]
  },
  {
   "cell_type": "code",
   "execution_count": 81,
   "id": "9dd035ba-0117-42f0-b97a-ff33da52b26f",
   "metadata": {
    "execution": {
     "iopub.execute_input": "2024-06-18T10:29:45.153776Z",
     "iopub.status.busy": "2024-06-18T10:29:45.153261Z",
     "iopub.status.idle": "2024-06-18T10:29:45.194575Z",
     "shell.execute_reply": "2024-06-18T10:29:45.193711Z",
     "shell.execute_reply.started": "2024-06-18T10:29:45.153736Z"
    }
   },
   "outputs": [
    {
     "data": {
      "text/plain": [
       "_merge\n",
       "both          115732\n",
       "left_only      23174\n",
       "right_only         0\n",
       "Name: count, dtype: int64"
      ]
     },
     "execution_count": 81,
     "metadata": {},
     "output_type": "execute_result"
    }
   ],
   "source": [
    "df_cmp_count_join._merge.value_counts()"
   ]
  },
  {
   "cell_type": "markdown",
   "id": "2cb1c4cb",
   "metadata": {
    "heading_collapsed": true
   },
   "source": [
    "## Drop rows with an invalid compound (`JCP2022_999999` or  `JCP2022_UNKNOWN`)"
   ]
  },
  {
   "cell_type": "code",
   "execution_count": 119,
   "id": "3304f320",
   "metadata": {
    "ExecuteTime": {
     "end_time": "2023-06-28T22:48:10.718851Z",
     "start_time": "2023-06-28T22:48:10.645256Z"
    },
    "execution": {
     "iopub.execute_input": "2024-05-07T15:21:43.300579Z",
     "iopub.status.busy": "2024-05-07T15:21:43.300308Z",
     "iopub.status.idle": "2024-05-07T15:21:43.385286Z",
     "shell.execute_reply": "2024-05-07T15:21:43.384705Z",
     "shell.execute_reply.started": "2024-05-07T15:21:43.300558Z"
    },
    "hidden": true
   },
   "outputs": [
    {
     "data": {
      "text/html": [
       "<div>\n",
       "<style scoped>\n",
       "    .dataframe tbody tr th:only-of-type {\n",
       "        vertical-align: middle;\n",
       "    }\n",
       "\n",
       "    .dataframe tbody tr th {\n",
       "        vertical-align: top;\n",
       "    }\n",
       "\n",
       "    .dataframe thead th {\n",
       "        text-align: right;\n",
       "    }\n",
       "</style>\n",
       "<table border=\"1\" class=\"dataframe\">\n",
       "  <thead>\n",
       "    <tr style=\"text-align: right;\">\n",
       "      <th></th>\n",
       "      <th>Metadata_Source</th>\n",
       "      <th>Metadata_Batch</th>\n",
       "      <th>Metadata_Plate</th>\n",
       "      <th>Metadata_PlateType</th>\n",
       "      <th>Metadata_Well</th>\n",
       "      <th>Metadata_JCP2022</th>\n",
       "      <th>_merge</th>\n",
       "    </tr>\n",
       "  </thead>\n",
       "  <tbody>\n",
       "    <tr>\n",
       "      <th>74847</th>\n",
       "      <td>source_10</td>\n",
       "      <td>2021_05_31_U2OS_48_hr_run1</td>\n",
       "      <td>Dest210531-152149</td>\n",
       "      <td>COMPOUND</td>\n",
       "      <td>A05</td>\n",
       "      <td>JCP2022_999999</td>\n",
       "      <td>both</td>\n",
       "    </tr>\n",
       "    <tr>\n",
       "      <th>74851</th>\n",
       "      <td>source_10</td>\n",
       "      <td>2021_05_31_U2OS_48_hr_run1</td>\n",
       "      <td>Dest210531-152149</td>\n",
       "      <td>COMPOUND</td>\n",
       "      <td>A09</td>\n",
       "      <td>JCP2022_999999</td>\n",
       "      <td>both</td>\n",
       "    </tr>\n",
       "    <tr>\n",
       "      <th>74855</th>\n",
       "      <td>source_10</td>\n",
       "      <td>2021_05_31_U2OS_48_hr_run1</td>\n",
       "      <td>Dest210531-152149</td>\n",
       "      <td>COMPOUND</td>\n",
       "      <td>A13</td>\n",
       "      <td>JCP2022_999999</td>\n",
       "      <td>both</td>\n",
       "    </tr>\n",
       "  </tbody>\n",
       "</table>\n",
       "</div>"
      ],
      "text/plain": [
       "      Metadata_Source              Metadata_Batch     Metadata_Plate Metadata_PlateType Metadata_Well Metadata_JCP2022 _merge\n",
       "74847       source_10  2021_05_31_U2OS_48_hr_run1  Dest210531-152149           COMPOUND           A05   JCP2022_999999   both\n",
       "74851       source_10  2021_05_31_U2OS_48_hr_run1  Dest210531-152149           COMPOUND           A09   JCP2022_999999   both\n",
       "74855       source_10  2021_05_31_U2OS_48_hr_run1  Dest210531-152149           COMPOUND           A13   JCP2022_999999   both"
      ]
     },
     "execution_count": 119,
     "metadata": {},
     "output_type": "execute_result"
    },
    {
     "data": {
      "text/plain": [
       "Index([74847, 74851, 74855, 74859, 74863, 74870, 74872, 74874, 74876, 74878], dtype='int64')"
      ]
     },
     "execution_count": 119,
     "metadata": {},
     "output_type": "execute_result"
    },
    {
     "name": "stdout",
     "output_type": "stream",
     "text": [
      " Number of entires with compound = JCP2022_999999: 25724\n"
     ]
    }
   ],
   "source": [
    "join_999999  = df_cmp_plates_wells[df_cmp_plates_wells.Metadata_JCP2022 == 'JCP2022_999999']\n",
    "join_999999.head(3)\n",
    "join_999999_indexes = join_999999.index\n",
    "join_999999_indexes[:10]\n",
    "\n",
    "print(f\" Number of entires with compound = JCP2022_999999: {len(join_999999_indexes)}\")"
   ]
  },
  {
   "cell_type": "code",
   "execution_count": 120,
   "id": "d0ddfbfd",
   "metadata": {
    "ExecuteTime": {
     "end_time": "2023-06-28T22:49:10.055800Z",
     "start_time": "2023-06-28T22:49:09.981223Z"
    },
    "execution": {
     "iopub.execute_input": "2024-05-07T15:21:55.011159Z",
     "iopub.status.busy": "2024-05-07T15:21:55.010592Z",
     "iopub.status.idle": "2024-05-07T15:21:55.091695Z",
     "shell.execute_reply": "2024-05-07T15:21:55.091186Z",
     "shell.execute_reply.started": "2024-05-07T15:21:55.011117Z"
    },
    "hidden": true
   },
   "outputs": [
    {
     "data": {
      "text/html": [
       "<div>\n",
       "<style scoped>\n",
       "    .dataframe tbody tr th:only-of-type {\n",
       "        vertical-align: middle;\n",
       "    }\n",
       "\n",
       "    .dataframe tbody tr th {\n",
       "        vertical-align: top;\n",
       "    }\n",
       "\n",
       "    .dataframe thead th {\n",
       "        text-align: right;\n",
       "    }\n",
       "</style>\n",
       "<table border=\"1\" class=\"dataframe\">\n",
       "  <thead>\n",
       "    <tr style=\"text-align: right;\">\n",
       "      <th></th>\n",
       "      <th>Metadata_Source</th>\n",
       "      <th>Metadata_Batch</th>\n",
       "      <th>Metadata_Plate</th>\n",
       "      <th>Metadata_PlateType</th>\n",
       "      <th>Metadata_Well</th>\n",
       "      <th>Metadata_JCP2022</th>\n",
       "      <th>_merge</th>\n",
       "    </tr>\n",
       "  </thead>\n",
       "  <tbody>\n",
       "    <tr>\n",
       "      <th>172602</th>\n",
       "      <td>source_11</td>\n",
       "      <td>Batch2</td>\n",
       "      <td>EC000053</td>\n",
       "      <td>COMPOUND</td>\n",
       "      <td>C12</td>\n",
       "      <td>JCP2022_UNKNOWN</td>\n",
       "      <td>both</td>\n",
       "    </tr>\n",
       "    <tr>\n",
       "      <th>172603</th>\n",
       "      <td>source_11</td>\n",
       "      <td>Batch2</td>\n",
       "      <td>EC000053</td>\n",
       "      <td>COMPOUND</td>\n",
       "      <td>C13</td>\n",
       "      <td>JCP2022_UNKNOWN</td>\n",
       "      <td>both</td>\n",
       "    </tr>\n",
       "    <tr>\n",
       "      <th>172604</th>\n",
       "      <td>source_11</td>\n",
       "      <td>Batch2</td>\n",
       "      <td>EC000053</td>\n",
       "      <td>COMPOUND</td>\n",
       "      <td>C14</td>\n",
       "      <td>JCP2022_UNKNOWN</td>\n",
       "      <td>both</td>\n",
       "    </tr>\n",
       "  </tbody>\n",
       "</table>\n",
       "</div>"
      ],
      "text/plain": [
       "       Metadata_Source Metadata_Batch Metadata_Plate Metadata_PlateType Metadata_Well Metadata_JCP2022 _merge\n",
       "172602       source_11         Batch2       EC000053           COMPOUND           C12  JCP2022_UNKNOWN   both\n",
       "172603       source_11         Batch2       EC000053           COMPOUND           C13  JCP2022_UNKNOWN   both\n",
       "172604       source_11         Batch2       EC000053           COMPOUND           C14  JCP2022_UNKNOWN   both"
      ]
     },
     "execution_count": 120,
     "metadata": {},
     "output_type": "execute_result"
    },
    {
     "data": {
      "text/plain": [
       "Index([172602, 172603, 172604, 172605, 172606, 172607, 172608, 172609, 172610, 172611], dtype='int64')"
      ]
     },
     "execution_count": 120,
     "metadata": {},
     "output_type": "execute_result"
    },
    {
     "name": "stdout",
     "output_type": "stream",
     "text": [
      " Number of entires with compound = JCP2022_UNKNOWN: 12574\n"
     ]
    }
   ],
   "source": [
    "join_unknown = df_cmp_plates_wells[df_cmp_plates_wells.Metadata_JCP2022 == 'JCP2022_UNKNOWN']\n",
    "join_unknown.head(3)\n",
    "join_unknown_indexes = join_unknown.index\n",
    "join_unknown_indexes[:10]\n",
    "print(f\" Number of entires with compound = JCP2022_UNKNOWN: {len(join_unknown_indexes)}\")"
   ]
  },
  {
   "cell_type": "markdown",
   "id": "111f1ec2-4998-406e-bf99-4bad0cb979d4",
   "metadata": {},
   "source": [
    "   ##### JCP2022_033924 == DMSO  - WE DONT DROP THESE"
   ]
  },
  {
   "cell_type": "code",
   "execution_count": 121,
   "id": "f5477eb7-767e-41f0-aa9b-74a03cee13a8",
   "metadata": {
    "ExecuteTime": {
     "end_time": "2023-06-28T22:49:10.055800Z",
     "start_time": "2023-06-28T22:49:09.981223Z"
    },
    "execution": {
     "iopub.execute_input": "2024-05-07T15:22:00.658506Z",
     "iopub.status.busy": "2024-05-07T15:22:00.658047Z",
     "iopub.status.idle": "2024-05-07T15:22:00.754008Z",
     "shell.execute_reply": "2024-05-07T15:22:00.753483Z",
     "shell.execute_reply.started": "2024-05-07T15:22:00.658466Z"
    },
    "hidden": true
   },
   "outputs": [
    {
     "data": {
      "text/plain": [
       "88583"
      ]
     },
     "execution_count": 121,
     "metadata": {},
     "output_type": "execute_result"
    },
    {
     "data": {
      "text/html": [
       "<div>\n",
       "<style scoped>\n",
       "    .dataframe tbody tr th:only-of-type {\n",
       "        vertical-align: middle;\n",
       "    }\n",
       "\n",
       "    .dataframe tbody tr th {\n",
       "        vertical-align: top;\n",
       "    }\n",
       "\n",
       "    .dataframe thead th {\n",
       "        text-align: right;\n",
       "    }\n",
       "</style>\n",
       "<table border=\"1\" class=\"dataframe\">\n",
       "  <thead>\n",
       "    <tr style=\"text-align: right;\">\n",
       "      <th></th>\n",
       "      <th>Metadata_Source</th>\n",
       "      <th>Metadata_Batch</th>\n",
       "      <th>Metadata_Plate</th>\n",
       "      <th>Metadata_PlateType</th>\n",
       "      <th>Metadata_Well</th>\n",
       "      <th>Metadata_JCP2022</th>\n",
       "      <th>_merge</th>\n",
       "    </tr>\n",
       "  </thead>\n",
       "  <tbody>\n",
       "    <tr>\n",
       "      <th>0</th>\n",
       "      <td>source_1</td>\n",
       "      <td>Batch1_20221004</td>\n",
       "      <td>UL001641</td>\n",
       "      <td>COMPOUND</td>\n",
       "      <td>A02</td>\n",
       "      <td>JCP2022_033924</td>\n",
       "      <td>both</td>\n",
       "    </tr>\n",
       "    <tr>\n",
       "      <th>2</th>\n",
       "      <td>source_1</td>\n",
       "      <td>Batch1_20221004</td>\n",
       "      <td>UL001641</td>\n",
       "      <td>COMPOUND</td>\n",
       "      <td>A04</td>\n",
       "      <td>JCP2022_033924</td>\n",
       "      <td>both</td>\n",
       "    </tr>\n",
       "    <tr>\n",
       "      <th>43</th>\n",
       "      <td>source_1</td>\n",
       "      <td>Batch1_20221004</td>\n",
       "      <td>UL001641</td>\n",
       "      <td>COMPOUND</td>\n",
       "      <td>A45</td>\n",
       "      <td>JCP2022_033924</td>\n",
       "      <td>both</td>\n",
       "    </tr>\n",
       "  </tbody>\n",
       "</table>\n",
       "</div>"
      ],
      "text/plain": [
       "   Metadata_Source   Metadata_Batch Metadata_Plate Metadata_PlateType Metadata_Well Metadata_JCP2022 _merge\n",
       "0         source_1  Batch1_20221004       UL001641           COMPOUND           A02   JCP2022_033924   both\n",
       "2         source_1  Batch1_20221004       UL001641           COMPOUND           A04   JCP2022_033924   both\n",
       "43        source_1  Batch1_20221004       UL001641           COMPOUND           A45   JCP2022_033924   both"
      ]
     },
     "execution_count": 121,
     "metadata": {},
     "output_type": "execute_result"
    },
    {
     "data": {
      "text/plain": [
       "Index([0, 2, 43, 45, 46, 48, 89, 91, 92, 94], dtype='int64')"
      ]
     },
     "execution_count": 121,
     "metadata": {},
     "output_type": "execute_result"
    },
    {
     "name": "stdout",
     "output_type": "stream",
     "text": [
      " Number of entires with compound = JCP2022_033924: 88583\n"
     ]
    }
   ],
   "source": [
    "join_033924 = df_cmp_plates_wells[df_cmp_plates_wells.Metadata_JCP2022 == 'JCP2022_033924']\n",
    "join_033924.head(3)\n",
    "join_033924_indexes = join_033924.index\n",
    "join_033924_indexes[:10]\n",
    "print(f\" Number of entires with compound = JCP2022_033924: {len(join_033924_indexes)}\")"
   ]
  },
  {
   "cell_type": "code",
   "execution_count": 123,
   "id": "df0c8246",
   "metadata": {
    "ExecuteTime": {
     "end_time": "2023-06-28T22:47:07.924232Z",
     "start_time": "2023-06-28T22:47:07.516771Z"
    },
    "execution": {
     "iopub.execute_input": "2024-05-07T15:22:13.165669Z",
     "iopub.status.busy": "2024-05-07T15:22:13.165200Z",
     "iopub.status.idle": "2024-05-07T15:22:13.199038Z",
     "shell.execute_reply": "2024-05-07T15:22:13.198343Z",
     "shell.execute_reply.started": "2024-05-07T15:22:13.165628Z"
    },
    "hidden": true
   },
   "outputs": [
    {
     "name": "stdout",
     "output_type": "stream",
     "text": [
      " indexes in join_999999 :  25724   -- will be dropped\n",
      " indexes in join_unknown:  12574   -- will be dropped\n",
      "       combinded indexes:  38298\n",
      "        indexes in union:  38298\n",
      " indexes in join_033924 :  88583   -- retained \n"
     ]
    }
   ],
   "source": [
    " \n",
    "all_invalid_indexes = join_999999_indexes.union(join_unknown_indexes)  ##.union(join_033924_indexes)\n",
    "# joined_invalid_indexes\n",
    "print(' indexes in join_999999 : ', len(join_999999_indexes)  , '  -- will be dropped')\n",
    "print(' indexes in join_unknown: ', len(join_unknown_indexes) , '  -- will be dropped')\n",
    "print('       combinded indexes: ', len(set(join_unknown_indexes) | set(join_999999_indexes)   ) )\n",
    "print('        indexes in union: ', len(all_invalid_indexes))\n",
    "print(' indexes in join_033924 : ', len(join_033924_indexes)  , '  -- retained ')\n"
   ]
  },
  {
   "cell_type": "markdown",
   "id": "661c4bf7-d208-47d2-99ad-b372c337c9a1",
   "metadata": {},
   "source": [
    "## Drop rows for JCP2022_999999 and JCP2022_UNKNOWN "
   ]
  },
  {
   "cell_type": "code",
   "execution_count": 34,
   "id": "a74ea1a3-1e13-4141-ac32-93bef25edc9b",
   "metadata": {
    "ExecuteTime": {
     "end_time": "2023-06-28T23:00:24.861740Z",
     "start_time": "2023-06-28T23:00:24.773063Z"
    },
    "execution": {
     "iopub.execute_input": "2024-02-09T10:24:07.072763Z",
     "iopub.status.busy": "2024-02-09T10:24:07.072213Z",
     "iopub.status.idle": "2024-02-09T10:24:07.105123Z",
     "shell.execute_reply": "2024-02-09T10:24:07.104356Z",
     "shell.execute_reply.started": "2024-02-09T10:24:07.072722Z"
    },
    "hidden": true
   },
   "outputs": [
    {
     "name": "stdout",
     "output_type": "stream",
     "text": [
      " indexes in join_999999 :  25724\n",
      " indexes in join_unknown:  12574\n",
      " indexes in join_033924 :  88583\n",
      "       combinded indexes:  38298\n",
      "        indexes in union:  38298\n"
     ]
    }
   ],
   "source": []
  },
  {
   "cell_type": "code",
   "execution_count": 35,
   "id": "bb7fb31e",
   "metadata": {
    "ExecuteTime": {
     "end_time": "2023-06-28T22:59:19.205354Z",
     "start_time": "2023-06-28T22:59:19.186917Z"
    },
    "execution": {
     "iopub.execute_input": "2024-02-09T10:24:08.256413Z",
     "iopub.status.busy": "2024-02-09T10:24:08.255872Z",
     "iopub.status.idle": "2024-02-09T10:24:08.281303Z",
     "shell.execute_reply": "2024-02-09T10:24:08.280440Z",
     "shell.execute_reply.started": "2024-02-09T10:24:08.256373Z"
    },
    "hidden": true
   },
   "outputs": [
    {
     "name": "stdout",
     "output_type": "stream",
     "text": [
      "126881\n",
      "832295\n",
      "832295\n"
     ]
    }
   ],
   "source": [
    "print(25724 + 12574 + 88583)\n",
    "print(705414 + 25724 + 12574 + 88583)\n",
    "print(793997 + 25724 + 12574 )"
   ]
  },
  {
   "cell_type": "code",
   "execution_count": 36,
   "id": "5f78d7d6-df97-41e6-9e06-c3670d90bd76",
   "metadata": {
    "ExecuteTime": {
     "end_time": "2023-06-28T23:00:50.807284Z",
     "start_time": "2023-06-28T23:00:49.916944Z"
    },
    "execution": {
     "iopub.execute_input": "2024-02-09T10:24:09.149489Z",
     "iopub.status.busy": "2024-02-09T10:24:09.148977Z",
     "iopub.status.idle": "2024-02-09T10:24:09.304609Z",
     "shell.execute_reply": "2024-02-09T10:24:09.303869Z",
     "shell.execute_reply.started": "2024-02-09T10:24:09.149453Z"
    },
    "hidden": true
   },
   "outputs": [],
   "source": [
    "df_cmp_plates_wells.drop(all_invalid_indexes, inplace = True)\n",
    "df_cmp_plates_wells.drop(columns=['_merge','Metadata_PlateType'],inplace = True)\n"
   ]
  },
  {
   "cell_type": "code",
   "execution_count": 37,
   "id": "e2f2a5a5-0eef-4647-9b07-364912c176b7",
   "metadata": {
    "ExecuteTime": {
     "end_time": "2023-06-28T23:02:31.845329Z",
     "start_time": "2023-06-28T23:02:31.818403Z"
    },
    "execution": {
     "iopub.execute_input": "2024-02-09T10:24:11.697140Z",
     "iopub.status.busy": "2024-02-09T10:24:11.696597Z",
     "iopub.status.idle": "2024-02-09T10:24:11.954096Z",
     "shell.execute_reply": "2024-02-09T10:24:11.953220Z",
     "shell.execute_reply.started": "2024-02-09T10:24:11.697100Z"
    },
    "hidden": true
   },
   "outputs": [
    {
     "name": "stdout",
     "output_type": "stream",
     "text": [
      "<class 'pandas.core.frame.DataFrame'>\n",
      "Index: 793997 entries, 0 to 832294\n",
      "Data columns (total 5 columns):\n",
      " #   Column            Non-Null Count   Dtype \n",
      "---  ------            --------------   ----- \n",
      " 0   Metadata_Source   793997 non-null  object\n",
      " 1   Metadata_Batch    793997 non-null  object\n",
      " 2   Metadata_Plate    793997 non-null  object\n",
      " 3   Metadata_Well     793997 non-null  object\n",
      " 4   Metadata_JCP2022  793997 non-null  object\n",
      "dtypes: object(5)\n",
      "memory usage: 36.3+ MB\n"
     ]
    },
    {
     "data": {
      "text/html": [
       "<div>\n",
       "<style scoped>\n",
       "    .dataframe tbody tr th:only-of-type {\n",
       "        vertical-align: middle;\n",
       "    }\n",
       "\n",
       "    .dataframe tbody tr th {\n",
       "        vertical-align: top;\n",
       "    }\n",
       "\n",
       "    .dataframe thead th {\n",
       "        text-align: right;\n",
       "    }\n",
       "</style>\n",
       "<table border=\"1\" class=\"dataframe\">\n",
       "  <thead>\n",
       "    <tr style=\"text-align: right;\">\n",
       "      <th></th>\n",
       "      <th>Metadata_Source</th>\n",
       "      <th>Metadata_Batch</th>\n",
       "      <th>Metadata_Plate</th>\n",
       "      <th>Metadata_Well</th>\n",
       "      <th>Metadata_JCP2022</th>\n",
       "    </tr>\n",
       "  </thead>\n",
       "  <tbody>\n",
       "    <tr>\n",
       "      <th>0</th>\n",
       "      <td>source_1</td>\n",
       "      <td>Batch1_20221004</td>\n",
       "      <td>UL001641</td>\n",
       "      <td>A02</td>\n",
       "      <td>JCP2022_033924</td>\n",
       "    </tr>\n",
       "    <tr>\n",
       "      <th>1</th>\n",
       "      <td>source_1</td>\n",
       "      <td>Batch1_20221004</td>\n",
       "      <td>UL001641</td>\n",
       "      <td>A03</td>\n",
       "      <td>JCP2022_085227</td>\n",
       "    </tr>\n",
       "    <tr>\n",
       "      <th>2</th>\n",
       "      <td>source_1</td>\n",
       "      <td>Batch1_20221004</td>\n",
       "      <td>UL001641</td>\n",
       "      <td>A04</td>\n",
       "      <td>JCP2022_033924</td>\n",
       "    </tr>\n",
       "    <tr>\n",
       "      <th>3</th>\n",
       "      <td>source_1</td>\n",
       "      <td>Batch1_20221004</td>\n",
       "      <td>UL001641</td>\n",
       "      <td>A05</td>\n",
       "      <td>JCP2022_036592</td>\n",
       "    </tr>\n",
       "    <tr>\n",
       "      <th>4</th>\n",
       "      <td>source_1</td>\n",
       "      <td>Batch1_20221004</td>\n",
       "      <td>UL001641</td>\n",
       "      <td>A06</td>\n",
       "      <td>JCP2022_071885</td>\n",
       "    </tr>\n",
       "    <tr>\n",
       "      <th>5</th>\n",
       "      <td>source_1</td>\n",
       "      <td>Batch1_20221004</td>\n",
       "      <td>UL001641</td>\n",
       "      <td>A07</td>\n",
       "      <td>JCP2022_088861</td>\n",
       "    </tr>\n",
       "    <tr>\n",
       "      <th>6</th>\n",
       "      <td>source_1</td>\n",
       "      <td>Batch1_20221004</td>\n",
       "      <td>UL001641</td>\n",
       "      <td>A08</td>\n",
       "      <td>JCP2022_078645</td>\n",
       "    </tr>\n",
       "    <tr>\n",
       "      <th>7</th>\n",
       "      <td>source_1</td>\n",
       "      <td>Batch1_20221004</td>\n",
       "      <td>UL001641</td>\n",
       "      <td>A09</td>\n",
       "      <td>JCP2022_074163</td>\n",
       "    </tr>\n",
       "    <tr>\n",
       "      <th>8</th>\n",
       "      <td>source_1</td>\n",
       "      <td>Batch1_20221004</td>\n",
       "      <td>UL001641</td>\n",
       "      <td>A10</td>\n",
       "      <td>JCP2022_041689</td>\n",
       "    </tr>\n",
       "    <tr>\n",
       "      <th>9</th>\n",
       "      <td>source_1</td>\n",
       "      <td>Batch1_20221004</td>\n",
       "      <td>UL001641</td>\n",
       "      <td>A11</td>\n",
       "      <td>JCP2022_098761</td>\n",
       "    </tr>\n",
       "  </tbody>\n",
       "</table>\n",
       "</div>"
      ],
      "text/plain": [
       "  Metadata_Source   Metadata_Batch Metadata_Plate Metadata_Well Metadata_JCP2022\n",
       "0        source_1  Batch1_20221004       UL001641           A02   JCP2022_033924\n",
       "1        source_1  Batch1_20221004       UL001641           A03   JCP2022_085227\n",
       "2        source_1  Batch1_20221004       UL001641           A04   JCP2022_033924\n",
       "3        source_1  Batch1_20221004       UL001641           A05   JCP2022_036592\n",
       "4        source_1  Batch1_20221004       UL001641           A06   JCP2022_071885\n",
       "5        source_1  Batch1_20221004       UL001641           A07   JCP2022_088861\n",
       "6        source_1  Batch1_20221004       UL001641           A08   JCP2022_078645\n",
       "7        source_1  Batch1_20221004       UL001641           A09   JCP2022_074163\n",
       "8        source_1  Batch1_20221004       UL001641           A10   JCP2022_041689\n",
       "9        source_1  Batch1_20221004       UL001641           A11   JCP2022_098761"
      ]
     },
     "execution_count": 37,
     "metadata": {},
     "output_type": "execute_result"
    },
    {
     "data": {
      "text/plain": [
       "115731"
      ]
     },
     "execution_count": 37,
     "metadata": {},
     "output_type": "execute_result"
    }
   ],
   "source": [
    "df_cmp_plates_wells.info()\n",
    "df_cmp_plates_wells.head(10)\n",
    "len(df_cmp_plates_wells.Metadata_JCP2022.unique())\n"
   ]
  },
  {
   "cell_type": "markdown",
   "id": "1a454736-eef7-43c2-9acc-8b70678cb850",
   "metadata": {},
   "source": [
    "# Create Compound Extended Metadata File \n",
    "\n",
    "- a file of Plate/Well/Compound/TPSA information"
   ]
  },
  {
   "cell_type": "markdown",
   "id": "8cc7b7d7",
   "metadata": {
    "jp-MarkdownHeadingCollapsed": true
   },
   "source": [
    "## Join selected Plate/Well Metadata with Compound/TPSA Data"
   ]
  },
  {
   "cell_type": "code",
   "execution_count": 38,
   "id": "a2882249-61d6-4017-83d6-a5c017a7f27e",
   "metadata": {
    "execution": {
     "iopub.execute_input": "2024-02-09T10:24:28.869792Z",
     "iopub.status.busy": "2024-02-09T10:24:28.869190Z",
     "iopub.status.idle": "2024-02-09T10:24:28.899028Z",
     "shell.execute_reply": "2024-02-09T10:24:28.898235Z",
     "shell.execute_reply.started": "2024-02-09T10:24:28.869741Z"
    }
   },
   "outputs": [
    {
     "name": "stdout",
     "output_type": "stream",
     "text": [
      "Doesnt exist\n"
     ]
    }
   ],
   "source": [
    "try: \n",
    "    del joined_metadata\n",
    "except Exception as e:\n",
    "    print('Doesnt exist')"
   ]
  },
  {
   "cell_type": "code",
   "execution_count": 39,
   "id": "fb424fc2-9bf7-4b5f-9658-cbbdf30103a5",
   "metadata": {
    "execution": {
     "iopub.execute_input": "2024-02-09T10:24:30.975529Z",
     "iopub.status.busy": "2024-02-09T10:24:30.974905Z",
     "iopub.status.idle": "2024-02-09T10:24:31.215977Z",
     "shell.execute_reply": "2024-02-09T10:24:31.215187Z",
     "shell.execute_reply.started": "2024-02-09T10:24:30.975477Z"
    }
   },
   "outputs": [
    {
     "name": "stdout",
     "output_type": "stream",
     "text": [
      "<class 'pandas.core.frame.DataFrame'>\n",
      "Index: 793997 entries, 0 to 832294\n",
      "Data columns (total 5 columns):\n",
      " #   Column            Non-Null Count   Dtype \n",
      "---  ------            --------------   ----- \n",
      " 0   Metadata_Source   793997 non-null  object\n",
      " 1   Metadata_Batch    793997 non-null  object\n",
      " 2   Metadata_Plate    793997 non-null  object\n",
      " 3   Metadata_Well     793997 non-null  object\n",
      " 4   Metadata_JCP2022  793997 non-null  object\n",
      "dtypes: object(5)\n",
      "memory usage: 36.3+ MB\n",
      " Number of unqiue compounds ::  115731\n"
     ]
    }
   ],
   "source": [
    "df_cmp_plates_wells.info()\n",
    "print(f\" Number of unqiue compounds ::  {len(df_cmp_plates_wells['Metadata_JCP2022'].unique())}\")"
   ]
  },
  {
   "cell_type": "code",
   "execution_count": 40,
   "id": "6c76199f",
   "metadata": {
    "ExecuteTime": {
     "end_time": "2023-06-28T23:39:16.194232Z",
     "start_time": "2023-06-28T23:39:16.165322Z"
    },
    "execution": {
     "iopub.execute_input": "2024-02-09T10:24:34.102231Z",
     "iopub.status.busy": "2024-02-09T10:24:34.101691Z",
     "iopub.status.idle": "2024-02-09T10:24:34.181738Z",
     "shell.execute_reply": "2024-02-09T10:24:34.180988Z",
     "shell.execute_reply.started": "2024-02-09T10:24:34.102190Z"
    }
   },
   "outputs": [
    {
     "name": "stdout",
     "output_type": "stream",
     "text": [
      "<class 'pandas.core.frame.DataFrame'>\n",
      "RangeIndex: 116691 entries, 0 to 116690\n",
      "Data columns (total 10 columns):\n",
      " #   Column               Non-Null Count   Dtype  \n",
      "---  ------               --------------   -----  \n",
      " 0   Metadata_JCP2022     116691 non-null  object \n",
      " 1   Metadata_Hash        116691 non-null  int64  \n",
      " 2   Metadata_Bin         116691 non-null  int64  \n",
      " 3   Metadata_InChIKey    116691 non-null  object \n",
      " 4   Metadata_InChI       116691 non-null  object \n",
      " 5   Metadata_Smiles      116691 non-null  object \n",
      " 6   Metadata_TPSA        116691 non-null  float64\n",
      " 7   Metadata_lnTPSA      116691 non-null  float64\n",
      " 8   Metadata_logTPSA     116691 non-null  float64\n",
      " 9   Metadata_Permiation  116691 non-null  int64  \n",
      "dtypes: float64(3), int64(3), object(4)\n",
      "memory usage: 8.9+ MB\n",
      " Number of unqiue compounds ::  116691\n"
     ]
    }
   ],
   "source": [
    "df_compounds.info()\n",
    "print(f\" Number of unqiue compounds ::  {len(df_compounds['Metadata_JCP2022'].unique())}\")\n",
    "# df_compounds.head(2)\n",
    "# df_compounds.drop(columns='Unnamed: 0',inplace = True)\n",
    "# df_compounds.head(2)"
   ]
  },
  {
   "cell_type": "markdown",
   "id": "be616f1b-70a9-44f8-a0eb-4e534e80df68",
   "metadata": {},
   "source": [
    "  ### Join - we will lose some compounds that are not present on the compounds metadata file provided by Broad"
   ]
  },
  {
   "cell_type": "code",
   "execution_count": 41,
   "id": "90921683-98c9-4094-892c-5694738cdbf9",
   "metadata": {
    "ExecuteTime": {
     "end_time": "2023-06-28T22:43:54.164656Z",
     "start_time": "2023-06-28T22:43:53.864074Z"
    },
    "execution": {
     "iopub.execute_input": "2024-02-09T10:24:52.245044Z",
     "iopub.status.busy": "2024-02-09T10:24:52.244500Z",
     "iopub.status.idle": "2024-02-09T10:24:52.977408Z",
     "shell.execute_reply": "2024-02-09T10:24:52.976649Z",
     "shell.execute_reply.started": "2024-02-09T10:24:52.245004Z"
    },
    "hidden": true
   },
   "outputs": [],
   "source": [
    "# joined_metadata = pd.merge(df_cmp_plates_wells, df_compounds, on=[\"Metadata_JCP2022]\")\n",
    "# joined_metadata = pd.merge( df_cmp_plates_wells, df_compounds, how='left', on=['Metadata_JCP2022'], indicator = True)\n",
    "joined_metadata = pd.merge( df_cmp_plates_wells, df_compounds, how='inner', on=['Metadata_JCP2022'], indicator = True)\n"
   ]
  },
  {
   "cell_type": "code",
   "execution_count": 42,
   "id": "fba013ea",
   "metadata": {
    "ExecuteTime": {
     "end_time": "2023-06-28T23:39:33.450261Z",
     "start_time": "2023-06-28T23:39:32.953438Z"
    },
    "execution": {
     "iopub.execute_input": "2024-02-09T10:24:54.297511Z",
     "iopub.status.busy": "2024-02-09T10:24:54.297025Z",
     "iopub.status.idle": "2024-02-09T10:24:54.722415Z",
     "shell.execute_reply": "2024-02-09T10:24:54.721631Z",
     "shell.execute_reply.started": "2024-02-09T10:24:54.297477Z"
    }
   },
   "outputs": [
    {
     "name": "stdout",
     "output_type": "stream",
     "text": [
      "<class 'pandas.core.frame.DataFrame'>\n",
      "RangeIndex: 793603 entries, 0 to 793602\n",
      "Data columns (total 15 columns):\n",
      " #   Column               Non-Null Count   Dtype   \n",
      "---  ------               --------------   -----   \n",
      " 0   Metadata_Source      793603 non-null  object  \n",
      " 1   Metadata_Batch       793603 non-null  object  \n",
      " 2   Metadata_Plate       793603 non-null  object  \n",
      " 3   Metadata_Well        793603 non-null  object  \n",
      " 4   Metadata_JCP2022     793603 non-null  object  \n",
      " 5   Metadata_Hash        793603 non-null  int64   \n",
      " 6   Metadata_Bin         793603 non-null  int64   \n",
      " 7   Metadata_InChIKey    793603 non-null  object  \n",
      " 8   Metadata_InChI       793603 non-null  object  \n",
      " 9   Metadata_Smiles      793603 non-null  object  \n",
      " 10  Metadata_TPSA        793603 non-null  float64 \n",
      " 11  Metadata_lnTPSA      793603 non-null  float64 \n",
      " 12  Metadata_logTPSA     793603 non-null  float64 \n",
      " 13  Metadata_Permiation  793603 non-null  int64   \n",
      " 14  _merge               793603 non-null  category\n",
      "dtypes: category(1), float64(3), int64(3), object(8)\n",
      "memory usage: 85.5+ MB\n"
     ]
    },
    {
     "data": {
      "text/html": [
       "<div>\n",
       "<style scoped>\n",
       "    .dataframe tbody tr th:only-of-type {\n",
       "        vertical-align: middle;\n",
       "    }\n",
       "\n",
       "    .dataframe tbody tr th {\n",
       "        vertical-align: top;\n",
       "    }\n",
       "\n",
       "    .dataframe thead th {\n",
       "        text-align: right;\n",
       "    }\n",
       "</style>\n",
       "<table border=\"1\" class=\"dataframe\">\n",
       "  <thead>\n",
       "    <tr style=\"text-align: right;\">\n",
       "      <th></th>\n",
       "      <th>Metadata_Source</th>\n",
       "      <th>Metadata_Batch</th>\n",
       "      <th>Metadata_Plate</th>\n",
       "      <th>Metadata_Well</th>\n",
       "      <th>Metadata_JCP2022</th>\n",
       "      <th>Metadata_Hash</th>\n",
       "      <th>Metadata_Bin</th>\n",
       "      <th>Metadata_InChIKey</th>\n",
       "      <th>Metadata_InChI</th>\n",
       "      <th>Metadata_Smiles</th>\n",
       "      <th>Metadata_TPSA</th>\n",
       "      <th>Metadata_lnTPSA</th>\n",
       "      <th>Metadata_logTPSA</th>\n",
       "      <th>Metadata_Permiation</th>\n",
       "      <th>_merge</th>\n",
       "    </tr>\n",
       "  </thead>\n",
       "  <tbody>\n",
       "    <tr>\n",
       "      <th>0</th>\n",
       "      <td>source_1</td>\n",
       "      <td>Batch1_20221004</td>\n",
       "      <td>UL001641</td>\n",
       "      <td>A02</td>\n",
       "      <td>JCP2022_033924</td>\n",
       "      <td>-2482608177051088161</td>\n",
       "      <td>3</td>\n",
       "      <td>IAZDPXIOMUYVGZ-UHFFFAOYSA-N</td>\n",
       "      <td>InChI=1S/C2H6OS/c1-4(2)3/h1-2H3</td>\n",
       "      <td>CS(C)=O</td>\n",
       "      <td>17.07</td>\n",
       "      <td>2.837323</td>\n",
       "      <td>1.232234</td>\n",
       "      <td>0</td>\n",
       "      <td>both</td>\n",
       "    </tr>\n",
       "    <tr>\n",
       "      <th>1</th>\n",
       "      <td>source_1</td>\n",
       "      <td>Batch1_20221004</td>\n",
       "      <td>UL001641</td>\n",
       "      <td>A03</td>\n",
       "      <td>JCP2022_085227</td>\n",
       "      <td>-418123801347200593</td>\n",
       "      <td>11</td>\n",
       "      <td>SRVFFFJZQVENJC-UHFFFAOYSA-N</td>\n",
       "      <td>InChI=1S/C17H30N2O5/c1-6-23-17(22)14-13(24-14)...</td>\n",
       "      <td>CCOC(=O)C1OC1C(O)=NC(CC(C)C)C(O)=NCCC(C)C</td>\n",
       "      <td>104.01</td>\n",
       "      <td>4.644487</td>\n",
       "      <td>2.017075</td>\n",
       "      <td>1</td>\n",
       "      <td>both</td>\n",
       "    </tr>\n",
       "    <tr>\n",
       "      <th>2</th>\n",
       "      <td>source_1</td>\n",
       "      <td>Batch1_20221004</td>\n",
       "      <td>UL001641</td>\n",
       "      <td>A04</td>\n",
       "      <td>JCP2022_033924</td>\n",
       "      <td>-2482608177051088161</td>\n",
       "      <td>3</td>\n",
       "      <td>IAZDPXIOMUYVGZ-UHFFFAOYSA-N</td>\n",
       "      <td>InChI=1S/C2H6OS/c1-4(2)3/h1-2H3</td>\n",
       "      <td>CS(C)=O</td>\n",
       "      <td>17.07</td>\n",
       "      <td>2.837323</td>\n",
       "      <td>1.232234</td>\n",
       "      <td>0</td>\n",
       "      <td>both</td>\n",
       "    </tr>\n",
       "    <tr>\n",
       "      <th>3</th>\n",
       "      <td>source_1</td>\n",
       "      <td>Batch1_20221004</td>\n",
       "      <td>UL001641</td>\n",
       "      <td>A05</td>\n",
       "      <td>JCP2022_036592</td>\n",
       "      <td>-2269427237513215312</td>\n",
       "      <td>8</td>\n",
       "      <td>IPPYTNWGGOIMDZ-UHFFFAOYSA-N</td>\n",
       "      <td>InChI=1S/C17H12ClF3N4O2/c1-24(15-13(18)6-9(7-2...</td>\n",
       "      <td>CN(c1ncc(cc1Cl)C(F)(F)F)N3C=C(C(=N)O)c2ccccc2C3=O</td>\n",
       "      <td>82.21</td>\n",
       "      <td>4.409277</td>\n",
       "      <td>1.914925</td>\n",
       "      <td>0</td>\n",
       "      <td>both</td>\n",
       "    </tr>\n",
       "    <tr>\n",
       "      <th>4</th>\n",
       "      <td>source_1</td>\n",
       "      <td>Batch1_20221004</td>\n",
       "      <td>UL001641</td>\n",
       "      <td>A06</td>\n",
       "      <td>JCP2022_071885</td>\n",
       "      <td>497302877741102064</td>\n",
       "      <td>0</td>\n",
       "      <td>PYZMXVUWLLQNEP-UHFFFAOYSA-N</td>\n",
       "      <td>InChI=1S/C10H7ClN4/c11-9-3-1-2-8(4-9)6-15-7-13...</td>\n",
       "      <td>N#CC1=NN=CN1Cc2cccc(Cl)c2</td>\n",
       "      <td>54.50</td>\n",
       "      <td>3.998201</td>\n",
       "      <td>1.736397</td>\n",
       "      <td>0</td>\n",
       "      <td>both</td>\n",
       "    </tr>\n",
       "  </tbody>\n",
       "</table>\n",
       "</div>"
      ],
      "text/plain": [
       "  Metadata_Source   Metadata_Batch Metadata_Plate Metadata_Well Metadata_JCP2022        Metadata_Hash  Metadata_Bin  \\\n",
       "0        source_1  Batch1_20221004       UL001641           A02   JCP2022_033924 -2482608177051088161             3   \n",
       "1        source_1  Batch1_20221004       UL001641           A03   JCP2022_085227  -418123801347200593            11   \n",
       "2        source_1  Batch1_20221004       UL001641           A04   JCP2022_033924 -2482608177051088161             3   \n",
       "3        source_1  Batch1_20221004       UL001641           A05   JCP2022_036592 -2269427237513215312             8   \n",
       "4        source_1  Batch1_20221004       UL001641           A06   JCP2022_071885   497302877741102064             0   \n",
       "\n",
       "             Metadata_InChIKey                                     Metadata_InChI  \\\n",
       "0  IAZDPXIOMUYVGZ-UHFFFAOYSA-N                    InChI=1S/C2H6OS/c1-4(2)3/h1-2H3   \n",
       "1  SRVFFFJZQVENJC-UHFFFAOYSA-N  InChI=1S/C17H30N2O5/c1-6-23-17(22)14-13(24-14)...   \n",
       "2  IAZDPXIOMUYVGZ-UHFFFAOYSA-N                    InChI=1S/C2H6OS/c1-4(2)3/h1-2H3   \n",
       "3  IPPYTNWGGOIMDZ-UHFFFAOYSA-N  InChI=1S/C17H12ClF3N4O2/c1-24(15-13(18)6-9(7-2...   \n",
       "4  PYZMXVUWLLQNEP-UHFFFAOYSA-N  InChI=1S/C10H7ClN4/c11-9-3-1-2-8(4-9)6-15-7-13...   \n",
       "\n",
       "                                     Metadata_Smiles  Metadata_TPSA  Metadata_lnTPSA  Metadata_logTPSA  Metadata_Permiation _merge  \n",
       "0                                            CS(C)=O          17.07         2.837323          1.232234                    0   both  \n",
       "1          CCOC(=O)C1OC1C(O)=NC(CC(C)C)C(O)=NCCC(C)C         104.01         4.644487          2.017075                    1   both  \n",
       "2                                            CS(C)=O          17.07         2.837323          1.232234                    0   both  \n",
       "3  CN(c1ncc(cc1Cl)C(F)(F)F)N3C=C(C(=N)O)c2ccccc2C3=O          82.21         4.409277          1.914925                    0   both  \n",
       "4                          N#CC1=NN=CN1Cc2cccc(Cl)c2          54.50         3.998201          1.736397                    0   both  "
      ]
     },
     "execution_count": 42,
     "metadata": {},
     "output_type": "execute_result"
    },
    {
     "data": {
      "text/plain": [
       "_merge\n",
       "both          793603\n",
       "left_only          0\n",
       "right_only         0\n",
       "Name: count, dtype: int64"
      ]
     },
     "execution_count": 42,
     "metadata": {},
     "output_type": "execute_result"
    },
    {
     "name": "stdout",
     "output_type": "stream",
     "text": [
      " Number of unqiue compounds ::  115671\n"
     ]
    }
   ],
   "source": [
    "joined_metadata.info()\n",
    "joined_metadata.head()\n",
    "joined_metadata._merge.value_counts()\n",
    "print(f\" Number of unqiue compounds ::  {len(joined_metadata['Metadata_JCP2022'].unique())}\")"
   ]
  },
  {
   "cell_type": "code",
   "execution_count": 48,
   "id": "24670f46-a500-4373-b043-7c0b3253aac4",
   "metadata": {
    "execution": {
     "iopub.execute_input": "2024-02-09T10:27:22.309532Z",
     "iopub.status.busy": "2024-02-09T10:27:22.308979Z",
     "iopub.status.idle": "2024-02-09T10:27:22.341389Z",
     "shell.execute_reply": "2024-02-09T10:27:22.340834Z",
     "shell.execute_reply.started": "2024-02-09T10:27:22.309488Z"
    }
   },
   "outputs": [
    {
     "data": {
      "text/plain": [
       "Metadata_Bin\n",
       "0      60095\n",
       "1      52481\n",
       "2      53016\n",
       "3     141937\n",
       "4      53942\n",
       "5      63315\n",
       "6      62152\n",
       "7      69604\n",
       "8      53297\n",
       "9      61113\n",
       "10     53400\n",
       "11     69251\n",
       "Name: count, dtype: int64"
      ]
     },
     "execution_count": 48,
     "metadata": {},
     "output_type": "execute_result"
    }
   ],
   "source": [
    "joined_metadata.Metadata_Bin.value_counts().sort_index()"
   ]
  },
  {
   "cell_type": "code",
   "execution_count": 42,
   "id": "9cd2b256-6a34-4b44-8280-a8e55d8c366d",
   "metadata": {
    "execution": {
     "iopub.execute_input": "2024-02-07T12:39:43.194604Z",
     "iopub.status.busy": "2024-02-07T12:39:43.194122Z",
     "iopub.status.idle": "2024-02-07T12:39:43.219777Z",
     "shell.execute_reply": "2024-02-07T12:39:43.218912Z",
     "shell.execute_reply.started": "2024-02-07T12:39:43.194564Z"
    }
   },
   "outputs": [],
   "source": [
    "# df_compounds.info()\n",
    "# df_compounds.head()\n",
    "# df_compounds_indexed = df_compounds.set_index('Metadata_JCP2022')\n",
    "# df_compounds_indexed.info()\n",
    "# df_compounds_indexed.head()"
   ]
  },
  {
   "cell_type": "code",
   "execution_count": 43,
   "id": "cb0ca904-ddb2-4aa7-8cf9-d770fbba9bf0",
   "metadata": {
    "execution": {
     "iopub.execute_input": "2024-02-07T12:39:43.866421Z",
     "iopub.status.busy": "2024-02-07T12:39:43.865938Z",
     "iopub.status.idle": "2024-02-07T12:39:43.890754Z",
     "shell.execute_reply": "2024-02-07T12:39:43.890034Z",
     "shell.execute_reply.started": "2024-02-07T12:39:43.866382Z"
    }
   },
   "outputs": [],
   "source": [
    "# left_only = joined_metadata[joined_metadata._merge == \"left_only\"]\n",
    "# left_only.head(10)\n",
    "# left_only_compounds = left_only.Metadata_JCP2022.value_counts()\n",
    "# left_only_indexes = left_only_compounds.index\n",
    "# left_only_compounds\n",
    "# left_only_indexes"
   ]
  },
  {
   "cell_type": "code",
   "execution_count": 44,
   "id": "aa4dbd1c-8381-4907-aaeb-021b8433d95c",
   "metadata": {
    "execution": {
     "iopub.execute_input": "2024-02-07T12:39:44.202048Z",
     "iopub.status.busy": "2024-02-07T12:39:44.201688Z",
     "iopub.status.idle": "2024-02-07T12:39:44.226179Z",
     "shell.execute_reply": "2024-02-07T12:39:44.225324Z",
     "shell.execute_reply.started": "2024-02-07T12:39:44.202020Z"
    }
   },
   "outputs": [],
   "source": [
    "# joined_metadata.reset_index(drop = False)\n",
    "# df_1 = joined_metadata.set_index('Metadata_JCP2022', drop = False)\n",
    "# df_1.info()\n",
    "# df_1.head(3)\n",
    "# df_1 = df_1.reset_index(drop = True)\n",
    "# df_1.info()\n",
    "# df_1.head(3)"
   ]
  },
  {
   "cell_type": "markdown",
   "id": "7380934f-4782-48a9-9a70-60e0f3797700",
   "metadata": {},
   "source": [
    "## Plot Compound Well counts"
   ]
  },
  {
   "cell_type": "code",
   "execution_count": 49,
   "id": "7af1bdb8-95b6-4bb1-9ea8-561e84565bab",
   "metadata": {
    "execution": {
     "iopub.execute_input": "2024-02-09T10:27:43.121395Z",
     "iopub.status.busy": "2024-02-09T10:27:43.120851Z",
     "iopub.status.idle": "2024-02-09T10:27:43.153537Z",
     "shell.execute_reply": "2024-02-09T10:27:43.152845Z",
     "shell.execute_reply.started": "2024-02-09T10:27:43.121354Z"
    }
   },
   "outputs": [
    {
     "name": "stdout",
     "output_type": "stream",
     "text": [
      "<class 'pandas.core.series.Series'>\n",
      "Index: 138907 entries, JCP2022_033924 to JCP2022_803433\n",
      "Series name: count\n",
      "Non-Null Count   Dtype\n",
      "--------------   -----\n",
      "138907 non-null  int64\n",
      "dtypes: int64(1)\n",
      "memory usage: 6.2+ MB\n"
     ]
    },
    {
     "data": {
      "text/plain": [
       "Metadata_JCP2022\n",
       "JCP2022_033924     138936\n",
       "JCP2022_999999      37094\n",
       "JCP2022_UNKNOWN     12574\n",
       "JCP2022_050797       9732\n",
       "JCP2022_037716       9571\n",
       "JCP2022_012818       9544\n",
       "JCP2022_025848       9513\n",
       "JCP2022_046054       9508\n",
       "JCP2022_064022       9346\n",
       "JCP2022_085227       8923\n",
       "Name: count, dtype: int64"
      ]
     },
     "execution_count": 49,
     "metadata": {},
     "output_type": "execute_result"
    }
   ],
   "source": [
    "df_compound_counts.info()\n",
    "df_compound_counts.head(10)"
   ]
  },
  {
   "cell_type": "code",
   "execution_count": 50,
   "id": "0b8f5c95",
   "metadata": {
    "ExecuteTime": {
     "end_time": "2023-06-29T00:15:43.284141Z",
     "start_time": "2023-06-29T00:15:43.264509Z"
    },
    "execution": {
     "iopub.execute_input": "2024-02-09T10:27:43.365730Z",
     "iopub.status.busy": "2024-02-09T10:27:43.365369Z",
     "iopub.status.idle": "2024-02-09T10:27:43.390731Z",
     "shell.execute_reply": "2024-02-09T10:27:43.390160Z",
     "shell.execute_reply.started": "2024-02-09T10:27:43.365702Z"
    }
   },
   "outputs": [
    {
     "data": {
      "text/plain": [
       "(1, 138936, 7.890703852217671, 5.0, 394.1025852129889)"
      ]
     },
     "execution_count": 50,
     "metadata": {},
     "output_type": "execute_result"
    }
   ],
   "source": [
    " df_compound_counts.min(), df_compound_counts.max(), df_compound_counts.mean() , df_compound_counts.median(), df_compound_counts.std()"
   ]
  },
  {
   "cell_type": "code",
   "execution_count": 51,
   "id": "36769676-3277-4711-98fa-bc42adf78eb3",
   "metadata": {
    "execution": {
     "iopub.execute_input": "2024-02-09T10:27:44.447340Z",
     "iopub.status.busy": "2024-02-09T10:27:44.446721Z",
     "iopub.status.idle": "2024-02-09T10:27:44.472961Z",
     "shell.execute_reply": "2024-02-09T10:27:44.472340Z",
     "shell.execute_reply.started": "2024-02-09T10:27:44.447288Z"
    }
   },
   "outputs": [
    {
     "data": {
      "text/plain": [
       "Metadata_JCP2022\n",
       "JCP2022_033924     138936\n",
       "JCP2022_999999      37094\n",
       "JCP2022_UNKNOWN     12574\n",
       "JCP2022_050797       9732\n",
       "JCP2022_037716       9571\n",
       "JCP2022_012818       9544\n",
       "JCP2022_025848       9513\n",
       "JCP2022_046054       9508\n",
       "JCP2022_064022       9346\n",
       "JCP2022_085227       8923\n",
       "Name: count, dtype: int64"
      ]
     },
     "execution_count": 51,
     "metadata": {},
     "output_type": "execute_result"
    }
   ],
   "source": [
    "df_compound_counts.head(10)"
   ]
  },
  {
   "cell_type": "code",
   "execution_count": 52,
   "id": "c67d6548-1eb1-4d41-9ce3-66314d0491ed",
   "metadata": {
    "ExecuteTime": {
     "end_time": "2023-06-29T00:15:43.284141Z",
     "start_time": "2023-06-29T00:15:43.264509Z"
    },
    "execution": {
     "iopub.execute_input": "2024-02-09T10:27:45.414007Z",
     "iopub.status.busy": "2024-02-09T10:27:45.413469Z",
     "iopub.status.idle": "2024-02-09T10:27:45.447736Z",
     "shell.execute_reply": "2024-02-09T10:27:45.447016Z",
     "shell.execute_reply.started": "2024-02-09T10:27:45.413968Z"
    }
   },
   "outputs": [
    {
     "name": "stdout",
     "output_type": "stream",
     "text": [
      "<class 'pandas.core.series.Series'>\n",
      "Index: 102 entries, 5 to 138936\n",
      "Series name: count\n",
      "Non-Null Count  Dtype\n",
      "--------------  -----\n",
      "102 non-null    int64\n",
      "dtypes: int64(1)\n",
      "memory usage: 1.6 KB\n",
      "# of Wells used     Compound Count\n"
     ]
    },
    {
     "data": {
      "text/plain": [
       "count\n",
       "5      52505\n",
       "4      41342\n",
       "7      18987\n",
       "8       9503\n",
       "6       5899\n",
       "10      3287\n",
       "3       2877\n",
       "9       1996\n",
       "12       768\n",
       "15       283\n",
       "11       267\n",
       "17       164\n",
       "2        160\n",
       "14       134\n",
       "16        75\n",
       "13        64\n",
       "20        62\n",
       "172       55\n",
       "182       54\n",
       "177       45\n",
       "Name: count, dtype: int64"
      ]
     },
     "execution_count": 52,
     "metadata": {},
     "output_type": "execute_result"
    },
    {
     "data": {
      "text/plain": [
       "count\n",
       "1         4\n",
       "2       160\n",
       "3      2877\n",
       "4     41342\n",
       "5     52505\n",
       "6      5899\n",
       "7     18987\n",
       "8      9503\n",
       "9      1996\n",
       "10     3287\n",
       "Name: count, dtype: int64"
      ]
     },
     "execution_count": 52,
     "metadata": {},
     "output_type": "execute_result"
    }
   ],
   "source": [
    "df_well_use_counts = df_compound_counts.value_counts()\n",
    "df_well_use_counts.info()\n",
    "print('# of Wells used     Compound Count')\n",
    "df_well_use_counts[:20]\n",
    "df_well_use_counts.sort_index(inplace=True)\n",
    "df_well_use_counts[:10]"
   ]
  },
  {
   "cell_type": "code",
   "execution_count": 49,
   "id": "1835e041-0937-4e6c-a95b-5ae06b19250f",
   "metadata": {
    "ExecuteTime": {
     "end_time": "2023-06-29T00:15:43.284141Z",
     "start_time": "2023-06-29T00:15:43.264509Z"
    },
    "execution": {
     "iopub.execute_input": "2024-02-07T12:39:50.822495Z",
     "iopub.status.busy": "2024-02-07T12:39:50.822092Z",
     "iopub.status.idle": "2024-02-07T12:39:50.846716Z",
     "shell.execute_reply": "2024-02-07T12:39:50.845951Z",
     "shell.execute_reply.started": "2024-02-07T12:39:50.822464Z"
    }
   },
   "outputs": [],
   "source": [
    "# len(df_well_use_counts.index), len(df_well_use_counts.values)\n",
    "# df_well_use_counts.sort_values()[:20]\n",
    " "
   ]
  },
  {
   "cell_type": "code",
   "execution_count": 1,
   "id": "5e8dbe19-a796-4e7c-a34a-932e8c045a9a",
   "metadata": {
    "execution": {
     "iopub.execute_input": "2024-04-25T08:39:20.918274Z",
     "iopub.status.busy": "2024-04-25T08:39:20.917770Z",
     "iopub.status.idle": "2024-04-25T08:39:21.198679Z",
     "shell.execute_reply": "2024-04-25T08:39:21.197753Z",
     "shell.execute_reply.started": "2024-04-25T08:39:20.918231Z"
    }
   },
   "outputs": [
    {
     "ename": "NameError",
     "evalue": "name 'plt' is not defined",
     "output_type": "error",
     "traceback": [
      "\u001b[0;31m---------------------------------------------------------------------------\u001b[0m",
      "\u001b[0;31mNameError\u001b[0m                                 Traceback (most recent call last)",
      "Cell \u001b[0;32mIn[1], line 2\u001b[0m\n\u001b[1;32m      1\u001b[0m \u001b[38;5;66;03m# the histogram of the data\u001b[39;00m\n\u001b[0;32m----> 2\u001b[0m _\u001b[38;5;241m=\u001b[39m \u001b[43mplt\u001b[49m\u001b[38;5;241m.\u001b[39mfigure(figsize\u001b[38;5;241m=\u001b[39m(\u001b[38;5;241m20\u001b[39m, \u001b[38;5;241m5\u001b[39m))\n\u001b[1;32m      3\u001b[0m _\u001b[38;5;241m=\u001b[39m plt\u001b[38;5;241m.\u001b[39mbar(df_well_use_counts\u001b[38;5;241m.\u001b[39mindex, df_well_use_counts\u001b[38;5;241m.\u001b[39mvalues, tick_label\u001b[38;5;241m=\u001b[39mdf_well_use_counts\u001b[38;5;241m.\u001b[39mindex, width \u001b[38;5;241m=\u001b[39m \u001b[38;5;241m0.4\u001b[39m ) \n\u001b[1;32m      4\u001b[0m \u001b[38;5;66;03m##  , facecolor='g', alpha=0.75, rwidth=1.0, orientation='horizontal')\u001b[39;00m\n",
      "\u001b[0;31mNameError\u001b[0m: name 'plt' is not defined"
     ]
    }
   ],
   "source": [
    "# the histogram of the data\n",
    "_= plt.figure(figsize=(20, 5))\n",
    "_= plt.bar(df_well_use_counts.index, df_well_use_counts.values, tick_label=df_well_use_counts.index, width = 0.4 ) \n",
    "##  , facecolor='g', alpha=0.75, rwidth=1.0, orientation='horizontal')\n",
    "_= plt.xlabel('# of Wells')\n",
    "_= plt.ylabel('# of Compounds')\n",
    "_= plt.title('# Wells used by compounds')\n",
    "_= plt.text(0.1, 10500, r'example $\\mu=100,\\ \\sigma=15$')\n",
    "_= plt.xlim(0, 30)\n",
    "_= plt.ylim(0, 10000)\n",
    "_= plt.grid(True)\n",
    "plt.show()"
   ]
  },
  {
   "cell_type": "code",
   "execution_count": 187,
   "id": "5ebd4eb5",
   "metadata": {
    "ExecuteTime": {
     "end_time": "2023-06-29T00:24:26.549131Z",
     "start_time": "2023-06-29T00:24:26.415010Z"
    },
    "execution": {
     "iopub.execute_input": "2024-02-07T11:53:31.862918Z",
     "iopub.status.busy": "2024-02-07T11:53:31.862496Z",
     "iopub.status.idle": "2024-02-07T11:53:31.882707Z",
     "shell.execute_reply": "2024-02-07T11:53:31.882001Z",
     "shell.execute_reply.started": "2024-02-07T11:53:31.862892Z"
    }
   },
   "outputs": [],
   "source": [
    "# import matplotlib.pyplot as plt\n",
    "# # the histogram of the data\n",
    "# plt.figure(figsize=(20, 5))\n",
    "# # _ = plt.bar(np.log(df_well_use_counts.index), df_well_use_counts.values, tick_label = labels, width = 0.1,log = False) ##  , facecolor='g', alpha=0.75, rwidth=1.0, orientation='horizontal')\n",
    "# _ = plt.bar(df_well_use_counts.index, df_well_use_counts.values,  width = 0.1 ) ##  , facecolor='g', alpha=0.75, rwidth=1.0, orientation='horizontal')\n",
    "# plt.xlabel('# of Wells');\n",
    "# plt.ylabel('# of Compounds')\n",
    "# plt.title('# Wells used by compounds')\n",
    "# # plt.text(60, .025, r'$\\mu=100,\\ \\sigma=15$')\n",
    "# # plt.xlim(0, 60)\n",
    "# # plt.ylim(0, 1000)\n",
    "# plt.grid(True)\n",
    "# plt.show()"
   ]
  },
  {
   "cell_type": "markdown",
   "id": "a0048f0e-d504-4f11-87c4-f934908fe438",
   "metadata": {},
   "source": [
    "### Histogram"
   ]
  },
  {
   "cell_type": "code",
   "execution_count": 120,
   "id": "759b046d-05e1-4a86-9445-efc4b4086d9f",
   "metadata": {
    "execution": {
     "iopub.execute_input": "2024-01-24T13:57:48.643976Z",
     "iopub.status.busy": "2024-01-24T13:57:48.643525Z",
     "iopub.status.idle": "2024-01-24T13:57:48.680058Z",
     "shell.execute_reply": "2024-01-24T13:57:48.678932Z",
     "shell.execute_reply.started": "2024-01-24T13:57:48.643923Z"
    }
   },
   "outputs": [],
   "source": [
    "# df_compound_counts\n",
    "# df_well_use_counts?"
   ]
  },
  {
   "cell_type": "markdown",
   "id": "66ee934b",
   "metadata": {},
   "source": [
    "## Check if any rows have a TPSA of 0.0 or Nan"
   ]
  },
  {
   "cell_type": "code",
   "execution_count": 53,
   "id": "ea3017d9-e16f-435a-bf46-2a0c5af832e7",
   "metadata": {
    "ExecuteTime": {
     "end_time": "2023-06-28T23:43:21.420028Z",
     "start_time": "2023-06-28T23:43:21.338184Z"
    },
    "execution": {
     "iopub.execute_input": "2024-02-09T10:27:48.857212Z",
     "iopub.status.busy": "2024-02-09T10:27:48.856674Z",
     "iopub.status.idle": "2024-02-09T10:27:48.889578Z",
     "shell.execute_reply": "2024-02-09T10:27:48.888907Z",
     "shell.execute_reply.started": "2024-02-09T10:27:48.857169Z"
    }
   },
   "outputs": [
    {
     "data": {
      "text/plain": [
       "0"
      ]
     },
     "execution_count": 53,
     "metadata": {},
     "output_type": "execute_result"
    },
    {
     "data": {
      "text/plain": [
       "0"
      ]
     },
     "execution_count": 53,
     "metadata": {},
     "output_type": "execute_result"
    },
    {
     "data": {
      "text/plain": [
       "0"
      ]
     },
     "execution_count": 53,
     "metadata": {},
     "output_type": "execute_result"
    }
   ],
   "source": [
    "joined_md_zero = joined_metadata[joined_metadata['Metadata_TPSA'] == 0.0]\n",
    "len(joined_md_zero)\n",
    "# joined_md_zero\n",
    "\n",
    "joined_md_inv = joined_metadata[joined_metadata['Metadata_TPSA'].isna()]\n",
    "len(joined_md_inv)\n",
    "# joined_md_inv\n",
    "\n",
    "joined_md_inv = joined_metadata[joined_metadata['Metadata_TPSA'] == 0.0]\n",
    "len(joined_md_inv)\n",
    "# joined_md_inv"
   ]
  },
  {
   "cell_type": "markdown",
   "id": "20b1b8ea",
   "metadata": {},
   "source": [
    "## Sort by Source, Batch, and Plate  "
   ]
  },
  {
   "cell_type": "code",
   "execution_count": 54,
   "id": "ad8d1ab4",
   "metadata": {
    "ExecuteTime": {
     "end_time": "2023-06-28T23:48:23.792153Z",
     "start_time": "2023-06-28T23:48:23.576275Z"
    },
    "execution": {
     "iopub.execute_input": "2024-02-09T10:27:50.690264Z",
     "iopub.status.busy": "2024-02-09T10:27:50.689715Z",
     "iopub.status.idle": "2024-02-09T10:27:50.877009Z",
     "shell.execute_reply": "2024-02-09T10:27:50.876383Z",
     "shell.execute_reply.started": "2024-02-09T10:27:50.690222Z"
    }
   },
   "outputs": [
    {
     "data": {
      "text/plain": [
       "793603"
      ]
     },
     "execution_count": 54,
     "metadata": {},
     "output_type": "execute_result"
    },
    {
     "data": {
      "text/html": [
       "<div>\n",
       "<style scoped>\n",
       "    .dataframe tbody tr th:only-of-type {\n",
       "        vertical-align: middle;\n",
       "    }\n",
       "\n",
       "    .dataframe tbody tr th {\n",
       "        vertical-align: top;\n",
       "    }\n",
       "\n",
       "    .dataframe thead th {\n",
       "        text-align: right;\n",
       "    }\n",
       "</style>\n",
       "<table border=\"1\" class=\"dataframe\">\n",
       "  <thead>\n",
       "    <tr style=\"text-align: right;\">\n",
       "      <th></th>\n",
       "      <th>Metadata_Source</th>\n",
       "      <th>Metadata_Batch</th>\n",
       "      <th>Metadata_Plate</th>\n",
       "      <th>Metadata_Well</th>\n",
       "      <th>Metadata_JCP2022</th>\n",
       "      <th>Metadata_Hash</th>\n",
       "      <th>Metadata_Bin</th>\n",
       "      <th>Metadata_InChIKey</th>\n",
       "      <th>Metadata_InChI</th>\n",
       "      <th>Metadata_Smiles</th>\n",
       "      <th>Metadata_TPSA</th>\n",
       "      <th>Metadata_lnTPSA</th>\n",
       "      <th>Metadata_logTPSA</th>\n",
       "      <th>Metadata_Permiation</th>\n",
       "      <th>_merge</th>\n",
       "    </tr>\n",
       "  </thead>\n",
       "  <tbody>\n",
       "    <tr>\n",
       "      <th>0</th>\n",
       "      <td>source_1</td>\n",
       "      <td>Batch1_20221004</td>\n",
       "      <td>UL001641</td>\n",
       "      <td>A02</td>\n",
       "      <td>JCP2022_033924</td>\n",
       "      <td>-2482608177051088161</td>\n",
       "      <td>3</td>\n",
       "      <td>IAZDPXIOMUYVGZ-UHFFFAOYSA-N</td>\n",
       "      <td>InChI=1S/C2H6OS/c1-4(2)3/h1-2H3</td>\n",
       "      <td>CS(C)=O</td>\n",
       "      <td>17.07</td>\n",
       "      <td>2.837323</td>\n",
       "      <td>1.232234</td>\n",
       "      <td>0</td>\n",
       "      <td>both</td>\n",
       "    </tr>\n",
       "    <tr>\n",
       "      <th>1</th>\n",
       "      <td>source_1</td>\n",
       "      <td>Batch1_20221004</td>\n",
       "      <td>UL001641</td>\n",
       "      <td>A03</td>\n",
       "      <td>JCP2022_085227</td>\n",
       "      <td>-418123801347200593</td>\n",
       "      <td>11</td>\n",
       "      <td>SRVFFFJZQVENJC-UHFFFAOYSA-N</td>\n",
       "      <td>InChI=1S/C17H30N2O5/c1-6-23-17(22)14-13(24-14)...</td>\n",
       "      <td>CCOC(=O)C1OC1C(O)=NC(CC(C)C)C(O)=NCCC(C)C</td>\n",
       "      <td>104.01</td>\n",
       "      <td>4.644487</td>\n",
       "      <td>2.017075</td>\n",
       "      <td>1</td>\n",
       "      <td>both</td>\n",
       "    </tr>\n",
       "    <tr>\n",
       "      <th>2</th>\n",
       "      <td>source_1</td>\n",
       "      <td>Batch1_20221004</td>\n",
       "      <td>UL001641</td>\n",
       "      <td>A04</td>\n",
       "      <td>JCP2022_033924</td>\n",
       "      <td>-2482608177051088161</td>\n",
       "      <td>3</td>\n",
       "      <td>IAZDPXIOMUYVGZ-UHFFFAOYSA-N</td>\n",
       "      <td>InChI=1S/C2H6OS/c1-4(2)3/h1-2H3</td>\n",
       "      <td>CS(C)=O</td>\n",
       "      <td>17.07</td>\n",
       "      <td>2.837323</td>\n",
       "      <td>1.232234</td>\n",
       "      <td>0</td>\n",
       "      <td>both</td>\n",
       "    </tr>\n",
       "    <tr>\n",
       "      <th>3</th>\n",
       "      <td>source_1</td>\n",
       "      <td>Batch1_20221004</td>\n",
       "      <td>UL001641</td>\n",
       "      <td>A05</td>\n",
       "      <td>JCP2022_036592</td>\n",
       "      <td>-2269427237513215312</td>\n",
       "      <td>8</td>\n",
       "      <td>IPPYTNWGGOIMDZ-UHFFFAOYSA-N</td>\n",
       "      <td>InChI=1S/C17H12ClF3N4O2/c1-24(15-13(18)6-9(7-2...</td>\n",
       "      <td>CN(c1ncc(cc1Cl)C(F)(F)F)N3C=C(C(=N)O)c2ccccc2C3=O</td>\n",
       "      <td>82.21</td>\n",
       "      <td>4.409277</td>\n",
       "      <td>1.914925</td>\n",
       "      <td>0</td>\n",
       "      <td>both</td>\n",
       "    </tr>\n",
       "    <tr>\n",
       "      <th>4</th>\n",
       "      <td>source_1</td>\n",
       "      <td>Batch1_20221004</td>\n",
       "      <td>UL001641</td>\n",
       "      <td>A06</td>\n",
       "      <td>JCP2022_071885</td>\n",
       "      <td>497302877741102064</td>\n",
       "      <td>0</td>\n",
       "      <td>PYZMXVUWLLQNEP-UHFFFAOYSA-N</td>\n",
       "      <td>InChI=1S/C10H7ClN4/c11-9-3-1-2-8(4-9)6-15-7-13...</td>\n",
       "      <td>N#CC1=NN=CN1Cc2cccc(Cl)c2</td>\n",
       "      <td>54.50</td>\n",
       "      <td>3.998201</td>\n",
       "      <td>1.736397</td>\n",
       "      <td>0</td>\n",
       "      <td>both</td>\n",
       "    </tr>\n",
       "  </tbody>\n",
       "</table>\n",
       "</div>"
      ],
      "text/plain": [
       "  Metadata_Source   Metadata_Batch Metadata_Plate Metadata_Well Metadata_JCP2022        Metadata_Hash  Metadata_Bin  \\\n",
       "0        source_1  Batch1_20221004       UL001641           A02   JCP2022_033924 -2482608177051088161             3   \n",
       "1        source_1  Batch1_20221004       UL001641           A03   JCP2022_085227  -418123801347200593            11   \n",
       "2        source_1  Batch1_20221004       UL001641           A04   JCP2022_033924 -2482608177051088161             3   \n",
       "3        source_1  Batch1_20221004       UL001641           A05   JCP2022_036592 -2269427237513215312             8   \n",
       "4        source_1  Batch1_20221004       UL001641           A06   JCP2022_071885   497302877741102064             0   \n",
       "\n",
       "             Metadata_InChIKey                                     Metadata_InChI  \\\n",
       "0  IAZDPXIOMUYVGZ-UHFFFAOYSA-N                    InChI=1S/C2H6OS/c1-4(2)3/h1-2H3   \n",
       "1  SRVFFFJZQVENJC-UHFFFAOYSA-N  InChI=1S/C17H30N2O5/c1-6-23-17(22)14-13(24-14)...   \n",
       "2  IAZDPXIOMUYVGZ-UHFFFAOYSA-N                    InChI=1S/C2H6OS/c1-4(2)3/h1-2H3   \n",
       "3  IPPYTNWGGOIMDZ-UHFFFAOYSA-N  InChI=1S/C17H12ClF3N4O2/c1-24(15-13(18)6-9(7-2...   \n",
       "4  PYZMXVUWLLQNEP-UHFFFAOYSA-N  InChI=1S/C10H7ClN4/c11-9-3-1-2-8(4-9)6-15-7-13...   \n",
       "\n",
       "                                     Metadata_Smiles  Metadata_TPSA  Metadata_lnTPSA  Metadata_logTPSA  Metadata_Permiation _merge  \n",
       "0                                            CS(C)=O          17.07         2.837323          1.232234                    0   both  \n",
       "1          CCOC(=O)C1OC1C(O)=NC(CC(C)C)C(O)=NCCC(C)C         104.01         4.644487          2.017075                    1   both  \n",
       "2                                            CS(C)=O          17.07         2.837323          1.232234                    0   both  \n",
       "3  CN(c1ncc(cc1Cl)C(F)(F)F)N3C=C(C(=N)O)c2ccccc2C3=O          82.21         4.409277          1.914925                    0   both  \n",
       "4                          N#CC1=NN=CN1Cc2cccc(Cl)c2          54.50         3.998201          1.736397                    0   both  "
      ]
     },
     "execution_count": 54,
     "metadata": {},
     "output_type": "execute_result"
    }
   ],
   "source": [
    "joined_metadata.sort_values(by=['Metadata_Source','Metadata_Batch','Metadata_Plate'], inplace=True)\n",
    "len(joined_metadata)\n",
    "joined_metadata.head(5)"
   ]
  },
  {
   "cell_type": "code",
   "execution_count": null,
   "id": "fc1e082d",
   "metadata": {},
   "outputs": [],
   "source": []
  },
  {
   "cell_type": "markdown",
   "id": "20548cb3",
   "metadata": {
    "ExecuteTime": {
     "end_time": "2023-05-24T15:12:06.272966Z",
     "start_time": "2023-05-24T15:12:06.261113Z"
    },
    "heading_collapsed": true
   },
   "source": [
    "## Write resulting file  \n",
    "`./output/compound_extended_metadata.csv`"
   ]
  },
  {
   "cell_type": "code",
   "execution_count": 55,
   "id": "638cd62f-5807-48ff-966c-59c2cd5af20c",
   "metadata": {
    "execution": {
     "iopub.execute_input": "2024-02-09T10:27:59.912879Z",
     "iopub.status.busy": "2024-02-09T10:27:59.912302Z",
     "iopub.status.idle": "2024-02-09T10:27:59.935877Z",
     "shell.execute_reply": "2024-02-09T10:27:59.935302Z",
     "shell.execute_reply.started": "2024-02-09T10:27:59.912829Z"
    }
   },
   "outputs": [
    {
     "name": "stdout",
     "output_type": "stream",
     "text": [
      "./output_11102023/compound_extended_metadata.csv\n"
     ]
    }
   ],
   "source": [
    "print(CompoundExtendedMetadataFile)"
   ]
  },
  {
   "cell_type": "code",
   "execution_count": 56,
   "id": "c4eb529f-7297-42e6-8800-7e0420625fbd",
   "metadata": {
    "execution": {
     "iopub.execute_input": "2024-02-09T10:28:01.881215Z",
     "iopub.status.busy": "2024-02-09T10:28:01.880674Z",
     "iopub.status.idle": "2024-02-09T10:28:12.514699Z",
     "shell.execute_reply": "2024-02-09T10:28:12.512949Z",
     "shell.execute_reply.started": "2024-02-09T10:28:01.881176Z"
    }
   },
   "outputs": [],
   "source": [
    "joined_metadata.to_csv(CompoundExtendedMetadataFile, index = False)"
   ]
  },
  {
   "cell_type": "markdown",
   "id": "0145aeac-2e6b-40b5-b2b8-628e8afa200e",
   "metadata": {
    "jp-MarkdownHeadingCollapsed": true
   },
   "source": [
    "# Extract extended metadata recs for compounds with a min of 3 at least cell profiles"
   ]
  },
  {
   "cell_type": "code",
   "execution_count": 57,
   "id": "575c8f98-3fee-428a-89ae-48d80eab2055",
   "metadata": {
    "execution": {
     "iopub.execute_input": "2024-02-09T10:28:19.199657Z",
     "iopub.status.busy": "2024-02-09T10:28:19.198989Z",
     "iopub.status.idle": "2024-02-09T10:28:19.231223Z",
     "shell.execute_reply": "2024-02-09T10:28:19.230581Z",
     "shell.execute_reply.started": "2024-02-09T10:28:19.199610Z"
    }
   },
   "outputs": [
    {
     "name": "stdout",
     "output_type": "stream",
     "text": [
      " does not exist -- delete skipped\n"
     ]
    }
   ],
   "source": [
    "try: \n",
    "    del joined_md_inv, joined_md_zero, joined_metadata_2, joined_metadata\n",
    "except Exception as e:\n",
    "    print(' does not exist -- delete skipped') "
   ]
  },
  {
   "cell_type": "code",
   "execution_count": 58,
   "id": "eb26fe41-c108-40b1-8c14-d900f9d390ac",
   "metadata": {
    "execution": {
     "iopub.execute_input": "2024-02-09T10:28:23.279284Z",
     "iopub.status.busy": "2024-02-09T10:28:23.278667Z",
     "iopub.status.idle": "2024-02-09T10:28:23.303639Z",
     "shell.execute_reply": "2024-02-09T10:28:23.302910Z",
     "shell.execute_reply.started": "2024-02-09T10:28:23.279244Z"
    }
   },
   "outputs": [
    {
     "name": "stdout",
     "output_type": "stream",
     "text": [
      " compound Extended Metadata File  : ./output_11102023/compound_extended_metadata.csv\n",
      "\n"
     ]
    }
   ],
   "source": [
    "print(f\" compound Extended Metadata File  : {CompoundExtendedMetadataFile}\\n\")"
   ]
  },
  {
   "cell_type": "code",
   "execution_count": 24,
   "id": "72d968bd-fa0c-426f-ac15-021db2c2716e",
   "metadata": {
    "execution": {
     "iopub.execute_input": "2024-02-26T11:15:21.373108Z",
     "iopub.status.busy": "2024-02-26T11:15:21.372641Z",
     "iopub.status.idle": "2024-02-26T11:15:25.028117Z",
     "shell.execute_reply": "2024-02-26T11:15:25.027326Z",
     "shell.execute_reply.started": "2024-02-26T11:15:21.373066Z"
    }
   },
   "outputs": [
    {
     "name": "stderr",
     "output_type": "stream",
     "text": [
      "/tmp/ipykernel_541781/1524408378.py:1: DtypeWarning: Columns (2) have mixed types. Specify dtype option on import or set low_memory=False.\n",
      "  joined_metadata = pd.read_csv(CompoundExtendedMetadataFile)\n"
     ]
    }
   ],
   "source": [
    "joined_metadata = pd.read_csv(CompoundExtendedMetadataFile)"
   ]
  },
  {
   "cell_type": "code",
   "execution_count": 60,
   "id": "dc7d6a75-94b6-43a5-9f4b-528213bbd7f2",
   "metadata": {
    "ExecuteTime": {
     "end_time": "2023-06-28T19:20:19.405780Z",
     "start_time": "2023-06-28T19:20:19.027235Z"
    },
    "execution": {
     "iopub.execute_input": "2024-02-09T10:28:35.503469Z",
     "iopub.status.busy": "2024-02-09T10:28:35.502835Z",
     "iopub.status.idle": "2024-02-09T10:28:35.981435Z",
     "shell.execute_reply": "2024-02-09T10:28:35.980765Z",
     "shell.execute_reply.started": "2024-02-09T10:28:35.503427Z"
    },
    "hidden": true
   },
   "outputs": [
    {
     "data": {
      "text/plain": [
       "(793603, 15)"
      ]
     },
     "execution_count": 60,
     "metadata": {},
     "output_type": "execute_result"
    },
    {
     "name": "stdout",
     "output_type": "stream",
     "text": [
      "<class 'pandas.core.frame.DataFrame'>\n",
      "RangeIndex: 793603 entries, 0 to 793602\n",
      "Data columns (total 15 columns):\n",
      " #   Column               Non-Null Count   Dtype  \n",
      "---  ------               --------------   -----  \n",
      " 0   Metadata_Source      793603 non-null  object \n",
      " 1   Metadata_Batch       793603 non-null  object \n",
      " 2   Metadata_Plate       793603 non-null  object \n",
      " 3   Metadata_Well        793603 non-null  object \n",
      " 4   Metadata_JCP2022     793603 non-null  object \n",
      " 5   Metadata_Hash        793603 non-null  int64  \n",
      " 6   Metadata_Bin         793603 non-null  int64  \n",
      " 7   Metadata_InChIKey    793603 non-null  object \n",
      " 8   Metadata_InChI       793603 non-null  object \n",
      " 9   Metadata_Smiles      793603 non-null  object \n",
      " 10  Metadata_TPSA        793603 non-null  float64\n",
      " 11  Metadata_lnTPSA      793603 non-null  float64\n",
      " 12  Metadata_logTPSA     793603 non-null  float64\n",
      " 13  Metadata_Permiation  793603 non-null  int64  \n",
      " 14  _merge               793603 non-null  object \n",
      "dtypes: float64(3), int64(3), object(9)\n",
      "memory usage: 90.8+ MB\n"
     ]
    },
    {
     "data": {
      "text/html": [
       "<div>\n",
       "<style scoped>\n",
       "    .dataframe tbody tr th:only-of-type {\n",
       "        vertical-align: middle;\n",
       "    }\n",
       "\n",
       "    .dataframe tbody tr th {\n",
       "        vertical-align: top;\n",
       "    }\n",
       "\n",
       "    .dataframe thead th {\n",
       "        text-align: right;\n",
       "    }\n",
       "</style>\n",
       "<table border=\"1\" class=\"dataframe\">\n",
       "  <thead>\n",
       "    <tr style=\"text-align: right;\">\n",
       "      <th></th>\n",
       "      <th>Metadata_Source</th>\n",
       "      <th>Metadata_Batch</th>\n",
       "      <th>Metadata_Plate</th>\n",
       "      <th>Metadata_Well</th>\n",
       "      <th>Metadata_JCP2022</th>\n",
       "      <th>Metadata_Hash</th>\n",
       "      <th>Metadata_Bin</th>\n",
       "      <th>Metadata_InChIKey</th>\n",
       "      <th>Metadata_InChI</th>\n",
       "      <th>Metadata_Smiles</th>\n",
       "      <th>Metadata_TPSA</th>\n",
       "      <th>Metadata_lnTPSA</th>\n",
       "      <th>Metadata_logTPSA</th>\n",
       "      <th>Metadata_Permiation</th>\n",
       "    </tr>\n",
       "  </thead>\n",
       "  <tbody>\n",
       "    <tr>\n",
       "      <th>0</th>\n",
       "      <td>source_1</td>\n",
       "      <td>Batch1_20221004</td>\n",
       "      <td>UL001641</td>\n",
       "      <td>A02</td>\n",
       "      <td>JCP2022_033924</td>\n",
       "      <td>-2482608177051088161</td>\n",
       "      <td>3</td>\n",
       "      <td>IAZDPXIOMUYVGZ-UHFFFAOYSA-N</td>\n",
       "      <td>InChI=1S/C2H6OS/c1-4(2)3/h1-2H3</td>\n",
       "      <td>CS(C)=O</td>\n",
       "      <td>17.07</td>\n",
       "      <td>2.837323</td>\n",
       "      <td>1.232234</td>\n",
       "      <td>0</td>\n",
       "    </tr>\n",
       "    <tr>\n",
       "      <th>1</th>\n",
       "      <td>source_1</td>\n",
       "      <td>Batch1_20221004</td>\n",
       "      <td>UL001641</td>\n",
       "      <td>A03</td>\n",
       "      <td>JCP2022_085227</td>\n",
       "      <td>-418123801347200593</td>\n",
       "      <td>11</td>\n",
       "      <td>SRVFFFJZQVENJC-UHFFFAOYSA-N</td>\n",
       "      <td>InChI=1S/C17H30N2O5/c1-6-23-17(22)14-13(24-14)...</td>\n",
       "      <td>CCOC(=O)C1OC1C(O)=NC(CC(C)C)C(O)=NCCC(C)C</td>\n",
       "      <td>104.01</td>\n",
       "      <td>4.644487</td>\n",
       "      <td>2.017075</td>\n",
       "      <td>1</td>\n",
       "    </tr>\n",
       "  </tbody>\n",
       "</table>\n",
       "</div>"
      ],
      "text/plain": [
       "  Metadata_Source   Metadata_Batch Metadata_Plate Metadata_Well Metadata_JCP2022        Metadata_Hash  Metadata_Bin  \\\n",
       "0        source_1  Batch1_20221004       UL001641           A02   JCP2022_033924 -2482608177051088161             3   \n",
       "1        source_1  Batch1_20221004       UL001641           A03   JCP2022_085227  -418123801347200593            11   \n",
       "\n",
       "             Metadata_InChIKey                                     Metadata_InChI                            Metadata_Smiles  \\\n",
       "0  IAZDPXIOMUYVGZ-UHFFFAOYSA-N                    InChI=1S/C2H6OS/c1-4(2)3/h1-2H3                                    CS(C)=O   \n",
       "1  SRVFFFJZQVENJC-UHFFFAOYSA-N  InChI=1S/C17H30N2O5/c1-6-23-17(22)14-13(24-14)...  CCOC(=O)C1OC1C(O)=NC(CC(C)C)C(O)=NCCC(C)C   \n",
       "\n",
       "   Metadata_TPSA  Metadata_lnTPSA  Metadata_logTPSA  Metadata_Permiation  \n",
       "0          17.07         2.837323          1.232234                    0  \n",
       "1         104.01         4.644487          2.017075                    1  "
      ]
     },
     "execution_count": 60,
     "metadata": {},
     "output_type": "execute_result"
    },
    {
     "data": {
      "text/html": [
       "<div>\n",
       "<style scoped>\n",
       "    .dataframe tbody tr th:only-of-type {\n",
       "        vertical-align: middle;\n",
       "    }\n",
       "\n",
       "    .dataframe tbody tr th {\n",
       "        vertical-align: top;\n",
       "    }\n",
       "\n",
       "    .dataframe thead th {\n",
       "        text-align: right;\n",
       "    }\n",
       "</style>\n",
       "<table border=\"1\" class=\"dataframe\">\n",
       "  <thead>\n",
       "    <tr style=\"text-align: right;\">\n",
       "      <th></th>\n",
       "      <th>Metadata_Source</th>\n",
       "      <th>Metadata_Batch</th>\n",
       "      <th>Metadata_Plate</th>\n",
       "      <th>Metadata_Well</th>\n",
       "      <th>Metadata_JCP2022</th>\n",
       "      <th>Metadata_Hash</th>\n",
       "      <th>Metadata_Bin</th>\n",
       "      <th>Metadata_InChIKey</th>\n",
       "      <th>Metadata_InChI</th>\n",
       "      <th>Metadata_Smiles</th>\n",
       "      <th>Metadata_TPSA</th>\n",
       "      <th>Metadata_lnTPSA</th>\n",
       "      <th>Metadata_logTPSA</th>\n",
       "      <th>Metadata_Permiation</th>\n",
       "    </tr>\n",
       "  </thead>\n",
       "  <tbody>\n",
       "    <tr>\n",
       "      <th>793601</th>\n",
       "      <td>source_9</td>\n",
       "      <td>20211103-Run16</td>\n",
       "      <td>GR00004421</td>\n",
       "      <td>Z47</td>\n",
       "      <td>JCP2022_033924</td>\n",
       "      <td>-2482608177051088161</td>\n",
       "      <td>3</td>\n",
       "      <td>IAZDPXIOMUYVGZ-UHFFFAOYSA-N</td>\n",
       "      <td>InChI=1S/C2H6OS/c1-4(2)3/h1-2H3</td>\n",
       "      <td>CS(C)=O</td>\n",
       "      <td>17.07</td>\n",
       "      <td>2.837323</td>\n",
       "      <td>1.232234</td>\n",
       "      <td>0</td>\n",
       "    </tr>\n",
       "    <tr>\n",
       "      <th>793602</th>\n",
       "      <td>source_9</td>\n",
       "      <td>20211103-Run16</td>\n",
       "      <td>GR00004421</td>\n",
       "      <td>Z48</td>\n",
       "      <td>JCP2022_037716</td>\n",
       "      <td>4830946690474853765</td>\n",
       "      <td>5</td>\n",
       "      <td>IVUGFMLRJOCGAS-UHFFFAOYSA-N</td>\n",
       "      <td>InChI=1S/C28H21N7OS/c1-17-15-24(37-16-17)25-20...</td>\n",
       "      <td>CC1=CSC(=C1)c5nnc(Nc2ccc(cc2)Oc3ncccc3C4C=CNC(...</td>\n",
       "      <td>112.46</td>\n",
       "      <td>4.722598</td>\n",
       "      <td>2.050998</td>\n",
       "      <td>1</td>\n",
       "    </tr>\n",
       "  </tbody>\n",
       "</table>\n",
       "</div>"
      ],
      "text/plain": [
       "       Metadata_Source  Metadata_Batch Metadata_Plate Metadata_Well Metadata_JCP2022        Metadata_Hash  Metadata_Bin  \\\n",
       "793601        source_9  20211103-Run16     GR00004421           Z47   JCP2022_033924 -2482608177051088161             3   \n",
       "793602        source_9  20211103-Run16     GR00004421           Z48   JCP2022_037716  4830946690474853765             5   \n",
       "\n",
       "                  Metadata_InChIKey                                     Metadata_InChI  \\\n",
       "793601  IAZDPXIOMUYVGZ-UHFFFAOYSA-N                    InChI=1S/C2H6OS/c1-4(2)3/h1-2H3   \n",
       "793602  IVUGFMLRJOCGAS-UHFFFAOYSA-N  InChI=1S/C28H21N7OS/c1-17-15-24(37-16-17)25-20...   \n",
       "\n",
       "                                          Metadata_Smiles  Metadata_TPSA  Metadata_lnTPSA  Metadata_logTPSA  Metadata_Permiation  \n",
       "793601                                            CS(C)=O          17.07         2.837323          1.232234                    0  \n",
       "793602  CC1=CSC(=C1)c5nnc(Nc2ccc(cc2)Oc3ncccc3C4C=CNC(...         112.46         4.722598          2.050998                    1  "
      ]
     },
     "execution_count": 60,
     "metadata": {},
     "output_type": "execute_result"
    }
   ],
   "source": [
    "# df.drop(columns=[\"_merge\", \"Unnamed: 0\"], inplace = True)\n",
    "joined_metadata.shape\n",
    "joined_metadata.info()\n",
    "joined_metadata.drop(columns=['_merge'],inplace = True)\n",
    "joined_metadata.head(2)\n",
    "joined_metadata.tail(2)"
   ]
  },
  {
   "cell_type": "code",
   "execution_count": 26,
   "id": "1c4ae9d6",
   "metadata": {
    "ExecuteTime": {
     "end_time": "2023-06-28T19:20:28.273305Z",
     "start_time": "2023-06-28T19:20:28.192162Z"
    },
    "execution": {
     "iopub.execute_input": "2024-02-26T11:15:54.974599Z",
     "iopub.status.busy": "2024-02-26T11:15:54.974172Z",
     "iopub.status.idle": "2024-02-26T11:15:55.062100Z",
     "shell.execute_reply": "2024-02-26T11:15:55.061409Z",
     "shell.execute_reply.started": "2024-02-26T11:15:54.974557Z"
    },
    "hidden": true
   },
   "outputs": [
    {
     "data": {
      "text/plain": [
       "0"
      ]
     },
     "execution_count": 26,
     "metadata": {},
     "output_type": "execute_result"
    },
    {
     "data": {
      "text/plain": [
       "0"
      ]
     },
     "execution_count": 26,
     "metadata": {},
     "output_type": "execute_result"
    },
    {
     "data": {
      "text/plain": [
       "0"
      ]
     },
     "execution_count": 26,
     "metadata": {},
     "output_type": "execute_result"
    }
   ],
   "source": [
    "df_test = joined_metadata[joined_metadata['Metadata_InChI'].isna()]\n",
    "len(df_test)\n",
    "df_test = joined_metadata[joined_metadata['Metadata_Smiles'].isna()]\n",
    "len(df_test)\n",
    "df_test = joined_metadata[joined_metadata['Metadata_TPSA'].isna()]\n",
    "len(df_test)\n",
    "# df[df['pharmacophore_base64'].isna()]\n",
    "# len(df)"
   ]
  },
  {
   "cell_type": "markdown",
   "id": "32c05f70-bc84-4107-b2c6-5e2429685398",
   "metadata": {
    "jp-MarkdownHeadingCollapsed": true
   },
   "source": [
    "## Counts of compounds"
   ]
  },
  {
   "cell_type": "code",
   "execution_count": 27,
   "id": "12447f71",
   "metadata": {
    "ExecuteTime": {
     "end_time": "2023-06-28T23:40:26.498592Z",
     "start_time": "2023-06-28T23:40:26.405236Z"
    },
    "execution": {
     "iopub.execute_input": "2024-02-26T11:16:03.382407Z",
     "iopub.status.busy": "2024-02-26T11:16:03.381933Z",
     "iopub.status.idle": "2024-02-26T11:16:03.578316Z",
     "shell.execute_reply": "2024-02-26T11:16:03.577725Z",
     "shell.execute_reply.started": "2024-02-26T11:16:03.382364Z"
    }
   },
   "outputs": [
    {
     "name": "stdout",
     "output_type": "stream",
     "text": [
      "<class 'pandas.core.frame.DataFrame'>\n",
      "RangeIndex: 115671 entries, 0 to 115670\n",
      "Data columns (total 2 columns):\n",
      " #   Column            Non-Null Count   Dtype \n",
      "---  ------            --------------   ----- \n",
      " 0   Metadata_JCP2022  115671 non-null  object\n",
      " 1   Counts            115671 non-null  int64 \n",
      "dtypes: int64(1), object(1)\n",
      "memory usage: 1.8+ MB\n"
     ]
    },
    {
     "data": {
      "text/html": [
       "<div>\n",
       "<style scoped>\n",
       "    .dataframe tbody tr th:only-of-type {\n",
       "        vertical-align: middle;\n",
       "    }\n",
       "\n",
       "    .dataframe tbody tr th {\n",
       "        vertical-align: top;\n",
       "    }\n",
       "\n",
       "    .dataframe thead th {\n",
       "        text-align: right;\n",
       "    }\n",
       "</style>\n",
       "<table border=\"1\" class=\"dataframe\">\n",
       "  <thead>\n",
       "    <tr style=\"text-align: right;\">\n",
       "      <th></th>\n",
       "      <th>Metadata_JCP2022</th>\n",
       "      <th>Counts</th>\n",
       "    </tr>\n",
       "  </thead>\n",
       "  <tbody>\n",
       "    <tr>\n",
       "      <th>0</th>\n",
       "      <td>JCP2022_033924</td>\n",
       "      <td>88583</td>\n",
       "    </tr>\n",
       "    <tr>\n",
       "      <th>1</th>\n",
       "      <td>JCP2022_037716</td>\n",
       "      <td>8138</td>\n",
       "    </tr>\n",
       "    <tr>\n",
       "      <th>2</th>\n",
       "      <td>JCP2022_064022</td>\n",
       "      <td>8130</td>\n",
       "    </tr>\n",
       "  </tbody>\n",
       "</table>\n",
       "</div>"
      ],
      "text/plain": [
       "  Metadata_JCP2022  Counts\n",
       "0   JCP2022_033924   88583\n",
       "1   JCP2022_037716    8138\n",
       "2   JCP2022_064022    8130"
      ]
     },
     "execution_count": 27,
     "metadata": {},
     "output_type": "execute_result"
    },
    {
     "data": {
      "text/html": [
       "<div>\n",
       "<style scoped>\n",
       "    .dataframe tbody tr th:only-of-type {\n",
       "        vertical-align: middle;\n",
       "    }\n",
       "\n",
       "    .dataframe tbody tr th {\n",
       "        vertical-align: top;\n",
       "    }\n",
       "\n",
       "    .dataframe thead th {\n",
       "        text-align: right;\n",
       "    }\n",
       "</style>\n",
       "<table border=\"1\" class=\"dataframe\">\n",
       "  <thead>\n",
       "    <tr style=\"text-align: right;\">\n",
       "      <th></th>\n",
       "      <th>Metadata_JCP2022</th>\n",
       "      <th>Counts</th>\n",
       "    </tr>\n",
       "  </thead>\n",
       "  <tbody>\n",
       "    <tr>\n",
       "      <th>115668</th>\n",
       "      <td>JCP2022_082707</td>\n",
       "      <td>2</td>\n",
       "    </tr>\n",
       "    <tr>\n",
       "      <th>115669</th>\n",
       "      <td>JCP2022_028647</td>\n",
       "      <td>2</td>\n",
       "    </tr>\n",
       "    <tr>\n",
       "      <th>115670</th>\n",
       "      <td>JCP2022_090832</td>\n",
       "      <td>1</td>\n",
       "    </tr>\n",
       "  </tbody>\n",
       "</table>\n",
       "</div>"
      ],
      "text/plain": [
       "       Metadata_JCP2022  Counts\n",
       "115668   JCP2022_082707       2\n",
       "115669   JCP2022_028647       2\n",
       "115670   JCP2022_090832       1"
      ]
     },
     "execution_count": 27,
     "metadata": {},
     "output_type": "execute_result"
    }
   ],
   "source": [
    "df_compound_counts = joined_metadata['Metadata_JCP2022'].value_counts().to_frame(name = 'Counts')\n",
    "df_compound_counts.reset_index(drop = False, names = 'Metadata_JCP2022', inplace = True)\n",
    "df_compound_counts.info()\n",
    "df_compound_counts.head(3)\n",
    "df_compound_counts.tail(3)"
   ]
  },
  {
   "cell_type": "markdown",
   "id": "8408d0c9-87d4-4518-a8c1-4b7bc45dee53",
   "metadata": {
    "jp-MarkdownHeadingCollapsed": true
   },
   "source": [
    "## Drop compounds applied to less than 3 wells "
   ]
  },
  {
   "cell_type": "code",
   "execution_count": 28,
   "id": "65ef450c-eafe-4b95-ab1f-368620a04745",
   "metadata": {
    "execution": {
     "iopub.execute_input": "2024-02-26T11:16:11.080697Z",
     "iopub.status.busy": "2024-02-26T11:16:11.080258Z",
     "iopub.status.idle": "2024-02-26T11:16:11.110658Z",
     "shell.execute_reply": "2024-02-26T11:16:11.109995Z",
     "shell.execute_reply.started": "2024-02-26T11:16:11.080655Z"
    }
   },
   "outputs": [],
   "source": [
    "df_eligble_compounds  = df_compound_counts[(df_compound_counts.Counts >= 3) ]\n",
    "df_ineligble_compounds  = df_compound_counts[(df_compound_counts.Counts < 3) ]\n",
    "# df_eligble_compounds  = df_compound_counts[(df_compound_counts.Counts > 3) & (df_compound_counts.Counts < 1000)]"
   ]
  },
  {
   "cell_type": "code",
   "execution_count": 64,
   "id": "bff5c780-d4b7-4ba1-b32a-870c80896086",
   "metadata": {
    "execution": {
     "iopub.execute_input": "2024-02-09T10:28:54.591341Z",
     "iopub.status.busy": "2024-02-09T10:28:54.590922Z",
     "iopub.status.idle": "2024-02-09T10:28:54.635260Z",
     "shell.execute_reply": "2024-02-09T10:28:54.634670Z",
     "shell.execute_reply.started": "2024-02-09T10:28:54.591307Z"
    }
   },
   "outputs": [
    {
     "name": "stdout",
     "output_type": "stream",
     "text": [
      "<class 'pandas.core.frame.DataFrame'>\n",
      "Index: 115514 entries, 0 to 115513\n",
      "Data columns (total 2 columns):\n",
      " #   Column            Non-Null Count   Dtype \n",
      "---  ------            --------------   ----- \n",
      " 0   Metadata_JCP2022  115514 non-null  object\n",
      " 1   Counts            115514 non-null  int64 \n",
      "dtypes: int64(1), object(1)\n",
      "memory usage: 2.6+ MB\n"
     ]
    },
    {
     "data": {
      "text/html": [
       "<div>\n",
       "<style scoped>\n",
       "    .dataframe tbody tr th:only-of-type {\n",
       "        vertical-align: middle;\n",
       "    }\n",
       "\n",
       "    .dataframe tbody tr th {\n",
       "        vertical-align: top;\n",
       "    }\n",
       "\n",
       "    .dataframe thead th {\n",
       "        text-align: right;\n",
       "    }\n",
       "</style>\n",
       "<table border=\"1\" class=\"dataframe\">\n",
       "  <thead>\n",
       "    <tr style=\"text-align: right;\">\n",
       "      <th></th>\n",
       "      <th>Metadata_JCP2022</th>\n",
       "      <th>Counts</th>\n",
       "    </tr>\n",
       "  </thead>\n",
       "  <tbody>\n",
       "    <tr>\n",
       "      <th>0</th>\n",
       "      <td>JCP2022_033924</td>\n",
       "      <td>88583</td>\n",
       "    </tr>\n",
       "    <tr>\n",
       "      <th>1</th>\n",
       "      <td>JCP2022_037716</td>\n",
       "      <td>8138</td>\n",
       "    </tr>\n",
       "    <tr>\n",
       "      <th>2</th>\n",
       "      <td>JCP2022_064022</td>\n",
       "      <td>8130</td>\n",
       "    </tr>\n",
       "    <tr>\n",
       "      <th>3</th>\n",
       "      <td>JCP2022_050797</td>\n",
       "      <td>8127</td>\n",
       "    </tr>\n",
       "    <tr>\n",
       "      <th>4</th>\n",
       "      <td>JCP2022_025848</td>\n",
       "      <td>8127</td>\n",
       "    </tr>\n",
       "  </tbody>\n",
       "</table>\n",
       "</div>"
      ],
      "text/plain": [
       "  Metadata_JCP2022  Counts\n",
       "0   JCP2022_033924   88583\n",
       "1   JCP2022_037716    8138\n",
       "2   JCP2022_064022    8130\n",
       "3   JCP2022_050797    8127\n",
       "4   JCP2022_025848    8127"
      ]
     },
     "execution_count": 64,
     "metadata": {},
     "output_type": "execute_result"
    },
    {
     "name": "stdout",
     "output_type": "stream",
     "text": [
      " df_compound_counts.shape        (115671, 2)\n",
      " df_eligble_compounds.shape      (115514, 2)\n",
      " df_ineligble_compounds.shape    (157, 2)\n",
      " joined_metadata.shape           (793603, 14)\n"
     ]
    }
   ],
   "source": [
    "df_eligble_compounds.info()\n",
    "df_eligble_compounds.head(5)\n",
    "print(f\" df_compound_counts.shape        {df_compound_counts.shape}\")\n",
    "print(f\" df_eligble_compounds.shape      {df_eligble_compounds.shape}\")\n",
    "print(f\" df_ineligble_compounds.shape    {df_ineligble_compounds.shape}\")\n",
    "print(f\" joined_metadata.shape           {joined_metadata.shape}\")\n"
   ]
  },
  {
   "cell_type": "markdown",
   "id": "7c2fe896-71e5-4a55-96d6-cdc6ff1ddce6",
   "metadata": {
    "jp-MarkdownHeadingCollapsed": true
   },
   "source": [
    "## Join list of compounds present in more than 3 wells with compound metadata "
   ]
  },
  {
   "cell_type": "code",
   "execution_count": 31,
   "id": "61e87c63-97d8-4056-ad64-8a18c940d984",
   "metadata": {
    "execution": {
     "iopub.execute_input": "2024-02-26T11:16:53.845562Z",
     "iopub.status.busy": "2024-02-26T11:16:53.845142Z",
     "iopub.status.idle": "2024-02-26T11:16:54.791180Z",
     "shell.execute_reply": "2024-02-26T11:16:54.790300Z",
     "shell.execute_reply.started": "2024-02-26T11:16:53.845522Z"
    }
   },
   "outputs": [],
   "source": [
    "joined_metadata_2 = pd.merge(df_eligble_compounds, joined_metadata, how='left', on=['Metadata_JCP2022'], indicator = True)\n",
    "joined_metadata_2.drop(columns=['Counts','_merge'],inplace = True)"
   ]
  },
  {
   "cell_type": "markdown",
   "id": "738197a1-682a-47fe-8e1b-bb8c6a0ca1c1",
   "metadata": {
    "jp-MarkdownHeadingCollapsed": true
   },
   "source": [
    "## Information on joined dataset"
   ]
  },
  {
   "cell_type": "code",
   "execution_count": 35,
   "id": "b90724ce-51b3-49a5-b14d-dd7fcaaa7cf0",
   "metadata": {
    "execution": {
     "iopub.execute_input": "2024-02-26T11:19:04.109098Z",
     "iopub.status.busy": "2024-02-26T11:19:04.108666Z",
     "iopub.status.idle": "2024-02-26T11:19:04.463784Z",
     "shell.execute_reply": "2024-02-26T11:19:04.462998Z",
     "shell.execute_reply.started": "2024-02-26T11:19:04.109056Z"
    },
    "scrolled": true
   },
   "outputs": [
    {
     "name": "stdout",
     "output_type": "stream",
     "text": [
      "<class 'pandas.core.frame.DataFrame'>\n",
      "RangeIndex: 793290 entries, 0 to 793289\n",
      "Data columns (total 14 columns):\n",
      " #   Column               Non-Null Count   Dtype  \n",
      "---  ------               --------------   -----  \n",
      " 0   Metadata_JCP2022     793290 non-null  object \n",
      " 1   Metadata_Source      793290 non-null  object \n",
      " 2   Metadata_Batch       793290 non-null  object \n",
      " 3   Metadata_Plate       793290 non-null  object \n",
      " 4   Metadata_Well        793290 non-null  object \n",
      " 5   Metadata_Hash        793290 non-null  int64  \n",
      " 6   Metadata_Bin         793290 non-null  int64  \n",
      " 7   Metadata_InChIKey    793290 non-null  object \n",
      " 8   Metadata_InChI       793290 non-null  object \n",
      " 9   Metadata_Smiles      793290 non-null  object \n",
      " 10  Metadata_TPSA        793290 non-null  float64\n",
      " 11  Metadata_lnTPSA      793290 non-null  float64\n",
      " 12  Metadata_log10TPSA   793290 non-null  float64\n",
      " 13  Metadata_Permiation  793290 non-null  int64  \n",
      "dtypes: float64(3), int64(3), object(8)\n",
      "memory usage: 84.7+ MB\n"
     ]
    },
    {
     "data": {
      "text/plain": [
       "(793290, 14)"
      ]
     },
     "execution_count": 35,
     "metadata": {},
     "output_type": "execute_result"
    },
    {
     "data": {
      "text/html": [
       "<div>\n",
       "<style scoped>\n",
       "    .dataframe tbody tr th:only-of-type {\n",
       "        vertical-align: middle;\n",
       "    }\n",
       "\n",
       "    .dataframe tbody tr th {\n",
       "        vertical-align: top;\n",
       "    }\n",
       "\n",
       "    .dataframe thead th {\n",
       "        text-align: right;\n",
       "    }\n",
       "</style>\n",
       "<table border=\"1\" class=\"dataframe\">\n",
       "  <thead>\n",
       "    <tr style=\"text-align: right;\">\n",
       "      <th></th>\n",
       "      <th>Metadata_JCP2022</th>\n",
       "      <th>Metadata_Source</th>\n",
       "      <th>Metadata_Batch</th>\n",
       "      <th>Metadata_Plate</th>\n",
       "      <th>Metadata_Well</th>\n",
       "      <th>Metadata_Hash</th>\n",
       "      <th>Metadata_Bin</th>\n",
       "      <th>Metadata_InChIKey</th>\n",
       "      <th>Metadata_InChI</th>\n",
       "      <th>Metadata_Smiles</th>\n",
       "      <th>Metadata_TPSA</th>\n",
       "      <th>Metadata_lnTPSA</th>\n",
       "      <th>Metadata_log10TPSA</th>\n",
       "      <th>Metadata_Permiation</th>\n",
       "    </tr>\n",
       "  </thead>\n",
       "  <tbody>\n",
       "    <tr>\n",
       "      <th>0</th>\n",
       "      <td>JCP2022_033924</td>\n",
       "      <td>source_1</td>\n",
       "      <td>Batch1_20221004</td>\n",
       "      <td>UL001641</td>\n",
       "      <td>A02</td>\n",
       "      <td>-2482608177051088161</td>\n",
       "      <td>3</td>\n",
       "      <td>IAZDPXIOMUYVGZ-UHFFFAOYSA-N</td>\n",
       "      <td>InChI=1S/C2H6OS/c1-4(2)3/h1-2H3</td>\n",
       "      <td>CS(C)=O</td>\n",
       "      <td>17.07</td>\n",
       "      <td>2.837323</td>\n",
       "      <td>1.232234</td>\n",
       "      <td>0</td>\n",
       "    </tr>\n",
       "    <tr>\n",
       "      <th>1</th>\n",
       "      <td>JCP2022_033924</td>\n",
       "      <td>source_1</td>\n",
       "      <td>Batch1_20221004</td>\n",
       "      <td>UL001641</td>\n",
       "      <td>A04</td>\n",
       "      <td>-2482608177051088161</td>\n",
       "      <td>3</td>\n",
       "      <td>IAZDPXIOMUYVGZ-UHFFFAOYSA-N</td>\n",
       "      <td>InChI=1S/C2H6OS/c1-4(2)3/h1-2H3</td>\n",
       "      <td>CS(C)=O</td>\n",
       "      <td>17.07</td>\n",
       "      <td>2.837323</td>\n",
       "      <td>1.232234</td>\n",
       "      <td>0</td>\n",
       "    </tr>\n",
       "    <tr>\n",
       "      <th>2</th>\n",
       "      <td>JCP2022_033924</td>\n",
       "      <td>source_1</td>\n",
       "      <td>Batch1_20221004</td>\n",
       "      <td>UL001641</td>\n",
       "      <td>A45</td>\n",
       "      <td>-2482608177051088161</td>\n",
       "      <td>3</td>\n",
       "      <td>IAZDPXIOMUYVGZ-UHFFFAOYSA-N</td>\n",
       "      <td>InChI=1S/C2H6OS/c1-4(2)3/h1-2H3</td>\n",
       "      <td>CS(C)=O</td>\n",
       "      <td>17.07</td>\n",
       "      <td>2.837323</td>\n",
       "      <td>1.232234</td>\n",
       "      <td>0</td>\n",
       "    </tr>\n",
       "    <tr>\n",
       "      <th>3</th>\n",
       "      <td>JCP2022_033924</td>\n",
       "      <td>source_1</td>\n",
       "      <td>Batch1_20221004</td>\n",
       "      <td>UL001641</td>\n",
       "      <td>A47</td>\n",
       "      <td>-2482608177051088161</td>\n",
       "      <td>3</td>\n",
       "      <td>IAZDPXIOMUYVGZ-UHFFFAOYSA-N</td>\n",
       "      <td>InChI=1S/C2H6OS/c1-4(2)3/h1-2H3</td>\n",
       "      <td>CS(C)=O</td>\n",
       "      <td>17.07</td>\n",
       "      <td>2.837323</td>\n",
       "      <td>1.232234</td>\n",
       "      <td>0</td>\n",
       "    </tr>\n",
       "    <tr>\n",
       "      <th>4</th>\n",
       "      <td>JCP2022_033924</td>\n",
       "      <td>source_1</td>\n",
       "      <td>Batch1_20221004</td>\n",
       "      <td>UL001641</td>\n",
       "      <td>AA02</td>\n",
       "      <td>-2482608177051088161</td>\n",
       "      <td>3</td>\n",
       "      <td>IAZDPXIOMUYVGZ-UHFFFAOYSA-N</td>\n",
       "      <td>InChI=1S/C2H6OS/c1-4(2)3/h1-2H3</td>\n",
       "      <td>CS(C)=O</td>\n",
       "      <td>17.07</td>\n",
       "      <td>2.837323</td>\n",
       "      <td>1.232234</td>\n",
       "      <td>0</td>\n",
       "    </tr>\n",
       "  </tbody>\n",
       "</table>\n",
       "</div>"
      ],
      "text/plain": [
       "  Metadata_JCP2022 Metadata_Source   Metadata_Batch Metadata_Plate Metadata_Well        Metadata_Hash  Metadata_Bin  \\\n",
       "0   JCP2022_033924        source_1  Batch1_20221004       UL001641           A02 -2482608177051088161             3   \n",
       "1   JCP2022_033924        source_1  Batch1_20221004       UL001641           A04 -2482608177051088161             3   \n",
       "2   JCP2022_033924        source_1  Batch1_20221004       UL001641           A45 -2482608177051088161             3   \n",
       "3   JCP2022_033924        source_1  Batch1_20221004       UL001641           A47 -2482608177051088161             3   \n",
       "4   JCP2022_033924        source_1  Batch1_20221004       UL001641          AA02 -2482608177051088161             3   \n",
       "\n",
       "             Metadata_InChIKey                   Metadata_InChI Metadata_Smiles  Metadata_TPSA  Metadata_lnTPSA  \\\n",
       "0  IAZDPXIOMUYVGZ-UHFFFAOYSA-N  InChI=1S/C2H6OS/c1-4(2)3/h1-2H3         CS(C)=O          17.07         2.837323   \n",
       "1  IAZDPXIOMUYVGZ-UHFFFAOYSA-N  InChI=1S/C2H6OS/c1-4(2)3/h1-2H3         CS(C)=O          17.07         2.837323   \n",
       "2  IAZDPXIOMUYVGZ-UHFFFAOYSA-N  InChI=1S/C2H6OS/c1-4(2)3/h1-2H3         CS(C)=O          17.07         2.837323   \n",
       "3  IAZDPXIOMUYVGZ-UHFFFAOYSA-N  InChI=1S/C2H6OS/c1-4(2)3/h1-2H3         CS(C)=O          17.07         2.837323   \n",
       "4  IAZDPXIOMUYVGZ-UHFFFAOYSA-N  InChI=1S/C2H6OS/c1-4(2)3/h1-2H3         CS(C)=O          17.07         2.837323   \n",
       "\n",
       "   Metadata_log10TPSA  Metadata_Permiation  \n",
       "0            1.232234                    0  \n",
       "1            1.232234                    0  \n",
       "2            1.232234                    0  \n",
       "3            1.232234                    0  \n",
       "4            1.232234                    0  "
      ]
     },
     "execution_count": 35,
     "metadata": {},
     "output_type": "execute_result"
    },
    {
     "data": {
      "text/html": [
       "<div>\n",
       "<style scoped>\n",
       "    .dataframe tbody tr th:only-of-type {\n",
       "        vertical-align: middle;\n",
       "    }\n",
       "\n",
       "    .dataframe tbody tr th {\n",
       "        vertical-align: top;\n",
       "    }\n",
       "\n",
       "    .dataframe thead th {\n",
       "        text-align: right;\n",
       "    }\n",
       "</style>\n",
       "<table border=\"1\" class=\"dataframe\">\n",
       "  <thead>\n",
       "    <tr style=\"text-align: right;\">\n",
       "      <th></th>\n",
       "      <th>Metadata_JCP2022</th>\n",
       "      <th>Metadata_Source</th>\n",
       "      <th>Metadata_Batch</th>\n",
       "      <th>Metadata_Plate</th>\n",
       "      <th>Metadata_Well</th>\n",
       "      <th>Metadata_Hash</th>\n",
       "      <th>Metadata_Bin</th>\n",
       "      <th>Metadata_InChIKey</th>\n",
       "      <th>Metadata_InChI</th>\n",
       "      <th>Metadata_Smiles</th>\n",
       "      <th>Metadata_TPSA</th>\n",
       "      <th>Metadata_lnTPSA</th>\n",
       "      <th>Metadata_log10TPSA</th>\n",
       "      <th>Metadata_Permiation</th>\n",
       "    </tr>\n",
       "  </thead>\n",
       "  <tbody>\n",
       "    <tr>\n",
       "      <th>793285</th>\n",
       "      <td>JCP2022_009152</td>\n",
       "      <td>source_6</td>\n",
       "      <td>p210920CPU2OS48hw384exp028JUMP</td>\n",
       "      <td>110000296341</td>\n",
       "      <td>M18</td>\n",
       "      <td>3946250187745462996</td>\n",
       "      <td>4</td>\n",
       "      <td>BWOOWUSUEVQGLS-UHFFFAOYSA-N</td>\n",
       "      <td>InChI=1S/C19H25F2N5O3/c1-24(13-14-6-8-15(9-7-1...</td>\n",
       "      <td>CN(Cc1ccc(cc1)OC(F)F)C(O)=NCCCN3N=C2CCCCN2C3=O</td>\n",
       "      <td>84.88</td>\n",
       "      <td>4.441238</td>\n",
       "      <td>1.928805</td>\n",
       "      <td>0</td>\n",
       "    </tr>\n",
       "    <tr>\n",
       "      <th>793286</th>\n",
       "      <td>JCP2022_009152</td>\n",
       "      <td>source_8</td>\n",
       "      <td>J1</td>\n",
       "      <td>A1170388</td>\n",
       "      <td>M18</td>\n",
       "      <td>3946250187745462996</td>\n",
       "      <td>4</td>\n",
       "      <td>BWOOWUSUEVQGLS-UHFFFAOYSA-N</td>\n",
       "      <td>InChI=1S/C19H25F2N5O3/c1-24(13-14-6-8-15(9-7-1...</td>\n",
       "      <td>CN(Cc1ccc(cc1)OC(F)F)C(O)=NCCCN3N=C2CCCCN2C3=O</td>\n",
       "      <td>84.88</td>\n",
       "      <td>4.441238</td>\n",
       "      <td>1.928805</td>\n",
       "      <td>0</td>\n",
       "    </tr>\n",
       "    <tr>\n",
       "      <th>793287</th>\n",
       "      <td>JCP2022_099232</td>\n",
       "      <td>source_10</td>\n",
       "      <td>2021_08_12_U2OS_48_hr_run15</td>\n",
       "      <td>Dest210803-154619</td>\n",
       "      <td>I08</td>\n",
       "      <td>-7892033651920253197</td>\n",
       "      <td>11</td>\n",
       "      <td>WJTCUUKPWPMZAU-UHFFFAOYSA-N</td>\n",
       "      <td>InChI=1S/C20H17F3N2O5/c1-10-3-5-13(16(26)7-10)...</td>\n",
       "      <td>CC(OC(=O)c1ccc(C)cc1O)C(=O)N3CC(O)=Nc2cc(ccc23...</td>\n",
       "      <td>99.43</td>\n",
       "      <td>4.599454</td>\n",
       "      <td>1.997517</td>\n",
       "      <td>0</td>\n",
       "    </tr>\n",
       "    <tr>\n",
       "      <th>793288</th>\n",
       "      <td>JCP2022_099232</td>\n",
       "      <td>source_6</td>\n",
       "      <td>p210920CPU2OS48hw384exp028JUMP</td>\n",
       "      <td>110000296341</td>\n",
       "      <td>M15</td>\n",
       "      <td>-7892033651920253197</td>\n",
       "      <td>11</td>\n",
       "      <td>WJTCUUKPWPMZAU-UHFFFAOYSA-N</td>\n",
       "      <td>InChI=1S/C20H17F3N2O5/c1-10-3-5-13(16(26)7-10)...</td>\n",
       "      <td>CC(OC(=O)c1ccc(C)cc1O)C(=O)N3CC(O)=Nc2cc(ccc23...</td>\n",
       "      <td>99.43</td>\n",
       "      <td>4.599454</td>\n",
       "      <td>1.997517</td>\n",
       "      <td>0</td>\n",
       "    </tr>\n",
       "    <tr>\n",
       "      <th>793289</th>\n",
       "      <td>JCP2022_099232</td>\n",
       "      <td>source_8</td>\n",
       "      <td>J1</td>\n",
       "      <td>A1170388</td>\n",
       "      <td>M15</td>\n",
       "      <td>-7892033651920253197</td>\n",
       "      <td>11</td>\n",
       "      <td>WJTCUUKPWPMZAU-UHFFFAOYSA-N</td>\n",
       "      <td>InChI=1S/C20H17F3N2O5/c1-10-3-5-13(16(26)7-10)...</td>\n",
       "      <td>CC(OC(=O)c1ccc(C)cc1O)C(=O)N3CC(O)=Nc2cc(ccc23...</td>\n",
       "      <td>99.43</td>\n",
       "      <td>4.599454</td>\n",
       "      <td>1.997517</td>\n",
       "      <td>0</td>\n",
       "    </tr>\n",
       "  </tbody>\n",
       "</table>\n",
       "</div>"
      ],
      "text/plain": [
       "       Metadata_JCP2022 Metadata_Source                  Metadata_Batch     Metadata_Plate Metadata_Well        Metadata_Hash  \\\n",
       "793285   JCP2022_009152        source_6  p210920CPU2OS48hw384exp028JUMP       110000296341           M18  3946250187745462996   \n",
       "793286   JCP2022_009152        source_8                              J1           A1170388           M18  3946250187745462996   \n",
       "793287   JCP2022_099232       source_10     2021_08_12_U2OS_48_hr_run15  Dest210803-154619           I08 -7892033651920253197   \n",
       "793288   JCP2022_099232        source_6  p210920CPU2OS48hw384exp028JUMP       110000296341           M15 -7892033651920253197   \n",
       "793289   JCP2022_099232        source_8                              J1           A1170388           M15 -7892033651920253197   \n",
       "\n",
       "        Metadata_Bin            Metadata_InChIKey                                     Metadata_InChI  \\\n",
       "793285             4  BWOOWUSUEVQGLS-UHFFFAOYSA-N  InChI=1S/C19H25F2N5O3/c1-24(13-14-6-8-15(9-7-1...   \n",
       "793286             4  BWOOWUSUEVQGLS-UHFFFAOYSA-N  InChI=1S/C19H25F2N5O3/c1-24(13-14-6-8-15(9-7-1...   \n",
       "793287            11  WJTCUUKPWPMZAU-UHFFFAOYSA-N  InChI=1S/C20H17F3N2O5/c1-10-3-5-13(16(26)7-10)...   \n",
       "793288            11  WJTCUUKPWPMZAU-UHFFFAOYSA-N  InChI=1S/C20H17F3N2O5/c1-10-3-5-13(16(26)7-10)...   \n",
       "793289            11  WJTCUUKPWPMZAU-UHFFFAOYSA-N  InChI=1S/C20H17F3N2O5/c1-10-3-5-13(16(26)7-10)...   \n",
       "\n",
       "                                          Metadata_Smiles  Metadata_TPSA  Metadata_lnTPSA  Metadata_log10TPSA  Metadata_Permiation  \n",
       "793285     CN(Cc1ccc(cc1)OC(F)F)C(O)=NCCCN3N=C2CCCCN2C3=O          84.88         4.441238            1.928805                    0  \n",
       "793286     CN(Cc1ccc(cc1)OC(F)F)C(O)=NCCCN3N=C2CCCCN2C3=O          84.88         4.441238            1.928805                    0  \n",
       "793287  CC(OC(=O)c1ccc(C)cc1O)C(=O)N3CC(O)=Nc2cc(ccc23...          99.43         4.599454            1.997517                    0  \n",
       "793288  CC(OC(=O)c1ccc(C)cc1O)C(=O)N3CC(O)=Nc2cc(ccc23...          99.43         4.599454            1.997517                    0  \n",
       "793289  CC(OC(=O)c1ccc(C)cc1O)C(=O)N3CC(O)=Nc2cc(ccc23...          99.43         4.599454            1.997517                    0  "
      ]
     },
     "execution_count": 35,
     "metadata": {},
     "output_type": "execute_result"
    }
   ],
   "source": [
    "# joined_metadata_2.reset_index(drop=True, inplace=True)\n",
    "joined_metadata_2.info()\n",
    "joined_metadata_2.shape\n",
    "joined_metadata_2.head()\n",
    "joined_metadata_2.tail()\n",
    "# col_list = joined_metadata_2.columns.tolist()"
   ]
  },
  {
   "cell_type": "code",
   "execution_count": 39,
   "id": "d99761ce-2f32-431b-b305-deefd33f93c4",
   "metadata": {
    "execution": {
     "iopub.execute_input": "2024-02-26T11:20:26.381238Z",
     "iopub.status.busy": "2024-02-26T11:20:26.380816Z",
     "iopub.status.idle": "2024-02-26T11:20:26.740338Z",
     "shell.execute_reply": "2024-02-26T11:20:26.739766Z",
     "shell.execute_reply.started": "2024-02-26T11:20:26.381197Z"
    },
    "scrolled": true
   },
   "outputs": [
    {
     "name": "stdout",
     "output_type": "stream",
     "text": [
      "<class 'pandas.core.frame.DataFrame'>\n",
      "RangeIndex: 793290 entries, 0 to 793289\n",
      "Data columns (total 14 columns):\n",
      " #   Column               Non-Null Count   Dtype  \n",
      "---  ------               --------------   -----  \n",
      " 0   Metadata_Source      793290 non-null  object \n",
      " 1   Metadata_Batch       793290 non-null  object \n",
      " 2   Metadata_Plate       793290 non-null  object \n",
      " 3   Metadata_Well        793290 non-null  object \n",
      " 4   Metadata_JCP2022     793290 non-null  object \n",
      " 5   Metadata_Hash        793290 non-null  int64  \n",
      " 6   Metadata_Bin         793290 non-null  int64  \n",
      " 7   Metadata_InChIKey    793290 non-null  object \n",
      " 8   Metadata_InChI       793290 non-null  object \n",
      " 9   Metadata_Smiles      793290 non-null  object \n",
      " 10  Metadata_TPSA        793290 non-null  float64\n",
      " 11  Metadata_lnTPSA      793290 non-null  float64\n",
      " 12  Metadata_log10TPSA   793290 non-null  float64\n",
      " 13  Metadata_Permiation  793290 non-null  int64  \n",
      "dtypes: float64(3), int64(3), object(8)\n",
      "memory usage: 84.7+ MB\n"
     ]
    },
    {
     "data": {
      "text/plain": [
       "(793290, 14)"
      ]
     },
     "execution_count": 39,
     "metadata": {},
     "output_type": "execute_result"
    },
    {
     "data": {
      "text/html": [
       "<div>\n",
       "<style scoped>\n",
       "    .dataframe tbody tr th:only-of-type {\n",
       "        vertical-align: middle;\n",
       "    }\n",
       "\n",
       "    .dataframe tbody tr th {\n",
       "        vertical-align: top;\n",
       "    }\n",
       "\n",
       "    .dataframe thead th {\n",
       "        text-align: right;\n",
       "    }\n",
       "</style>\n",
       "<table border=\"1\" class=\"dataframe\">\n",
       "  <thead>\n",
       "    <tr style=\"text-align: right;\">\n",
       "      <th></th>\n",
       "      <th>Metadata_Source</th>\n",
       "      <th>Metadata_Batch</th>\n",
       "      <th>Metadata_Plate</th>\n",
       "      <th>Metadata_Well</th>\n",
       "      <th>Metadata_JCP2022</th>\n",
       "      <th>Metadata_Hash</th>\n",
       "      <th>Metadata_Bin</th>\n",
       "      <th>Metadata_InChIKey</th>\n",
       "      <th>Metadata_InChI</th>\n",
       "      <th>Metadata_Smiles</th>\n",
       "      <th>Metadata_TPSA</th>\n",
       "      <th>Metadata_lnTPSA</th>\n",
       "      <th>Metadata_log10TPSA</th>\n",
       "      <th>Metadata_Permiation</th>\n",
       "    </tr>\n",
       "  </thead>\n",
       "  <tbody>\n",
       "    <tr>\n",
       "      <th>0</th>\n",
       "      <td>source_1</td>\n",
       "      <td>Batch1_20221004</td>\n",
       "      <td>UL001641</td>\n",
       "      <td>A02</td>\n",
       "      <td>JCP2022_033924</td>\n",
       "      <td>-2482608177051088161</td>\n",
       "      <td>3</td>\n",
       "      <td>IAZDPXIOMUYVGZ-UHFFFAOYSA-N</td>\n",
       "      <td>InChI=1S/C2H6OS/c1-4(2)3/h1-2H3</td>\n",
       "      <td>CS(C)=O</td>\n",
       "      <td>17.07</td>\n",
       "      <td>2.837323</td>\n",
       "      <td>1.232234</td>\n",
       "      <td>0</td>\n",
       "    </tr>\n",
       "    <tr>\n",
       "      <th>1</th>\n",
       "      <td>source_1</td>\n",
       "      <td>Batch1_20221004</td>\n",
       "      <td>UL001641</td>\n",
       "      <td>A04</td>\n",
       "      <td>JCP2022_033924</td>\n",
       "      <td>-2482608177051088161</td>\n",
       "      <td>3</td>\n",
       "      <td>IAZDPXIOMUYVGZ-UHFFFAOYSA-N</td>\n",
       "      <td>InChI=1S/C2H6OS/c1-4(2)3/h1-2H3</td>\n",
       "      <td>CS(C)=O</td>\n",
       "      <td>17.07</td>\n",
       "      <td>2.837323</td>\n",
       "      <td>1.232234</td>\n",
       "      <td>0</td>\n",
       "    </tr>\n",
       "    <tr>\n",
       "      <th>2</th>\n",
       "      <td>source_1</td>\n",
       "      <td>Batch1_20221004</td>\n",
       "      <td>UL001641</td>\n",
       "      <td>A45</td>\n",
       "      <td>JCP2022_033924</td>\n",
       "      <td>-2482608177051088161</td>\n",
       "      <td>3</td>\n",
       "      <td>IAZDPXIOMUYVGZ-UHFFFAOYSA-N</td>\n",
       "      <td>InChI=1S/C2H6OS/c1-4(2)3/h1-2H3</td>\n",
       "      <td>CS(C)=O</td>\n",
       "      <td>17.07</td>\n",
       "      <td>2.837323</td>\n",
       "      <td>1.232234</td>\n",
       "      <td>0</td>\n",
       "    </tr>\n",
       "    <tr>\n",
       "      <th>3</th>\n",
       "      <td>source_1</td>\n",
       "      <td>Batch1_20221004</td>\n",
       "      <td>UL001641</td>\n",
       "      <td>A47</td>\n",
       "      <td>JCP2022_033924</td>\n",
       "      <td>-2482608177051088161</td>\n",
       "      <td>3</td>\n",
       "      <td>IAZDPXIOMUYVGZ-UHFFFAOYSA-N</td>\n",
       "      <td>InChI=1S/C2H6OS/c1-4(2)3/h1-2H3</td>\n",
       "      <td>CS(C)=O</td>\n",
       "      <td>17.07</td>\n",
       "      <td>2.837323</td>\n",
       "      <td>1.232234</td>\n",
       "      <td>0</td>\n",
       "    </tr>\n",
       "    <tr>\n",
       "      <th>4</th>\n",
       "      <td>source_1</td>\n",
       "      <td>Batch1_20221004</td>\n",
       "      <td>UL001641</td>\n",
       "      <td>AA02</td>\n",
       "      <td>JCP2022_033924</td>\n",
       "      <td>-2482608177051088161</td>\n",
       "      <td>3</td>\n",
       "      <td>IAZDPXIOMUYVGZ-UHFFFAOYSA-N</td>\n",
       "      <td>InChI=1S/C2H6OS/c1-4(2)3/h1-2H3</td>\n",
       "      <td>CS(C)=O</td>\n",
       "      <td>17.07</td>\n",
       "      <td>2.837323</td>\n",
       "      <td>1.232234</td>\n",
       "      <td>0</td>\n",
       "    </tr>\n",
       "  </tbody>\n",
       "</table>\n",
       "</div>"
      ],
      "text/plain": [
       "  Metadata_Source   Metadata_Batch Metadata_Plate Metadata_Well Metadata_JCP2022        Metadata_Hash  Metadata_Bin  \\\n",
       "0        source_1  Batch1_20221004       UL001641           A02   JCP2022_033924 -2482608177051088161             3   \n",
       "1        source_1  Batch1_20221004       UL001641           A04   JCP2022_033924 -2482608177051088161             3   \n",
       "2        source_1  Batch1_20221004       UL001641           A45   JCP2022_033924 -2482608177051088161             3   \n",
       "3        source_1  Batch1_20221004       UL001641           A47   JCP2022_033924 -2482608177051088161             3   \n",
       "4        source_1  Batch1_20221004       UL001641          AA02   JCP2022_033924 -2482608177051088161             3   \n",
       "\n",
       "             Metadata_InChIKey                   Metadata_InChI Metadata_Smiles  Metadata_TPSA  Metadata_lnTPSA  \\\n",
       "0  IAZDPXIOMUYVGZ-UHFFFAOYSA-N  InChI=1S/C2H6OS/c1-4(2)3/h1-2H3         CS(C)=O          17.07         2.837323   \n",
       "1  IAZDPXIOMUYVGZ-UHFFFAOYSA-N  InChI=1S/C2H6OS/c1-4(2)3/h1-2H3         CS(C)=O          17.07         2.837323   \n",
       "2  IAZDPXIOMUYVGZ-UHFFFAOYSA-N  InChI=1S/C2H6OS/c1-4(2)3/h1-2H3         CS(C)=O          17.07         2.837323   \n",
       "3  IAZDPXIOMUYVGZ-UHFFFAOYSA-N  InChI=1S/C2H6OS/c1-4(2)3/h1-2H3         CS(C)=O          17.07         2.837323   \n",
       "4  IAZDPXIOMUYVGZ-UHFFFAOYSA-N  InChI=1S/C2H6OS/c1-4(2)3/h1-2H3         CS(C)=O          17.07         2.837323   \n",
       "\n",
       "   Metadata_log10TPSA  Metadata_Permiation  \n",
       "0            1.232234                    0  \n",
       "1            1.232234                    0  \n",
       "2            1.232234                    0  \n",
       "3            1.232234                    0  \n",
       "4            1.232234                    0  "
      ]
     },
     "execution_count": 39,
     "metadata": {},
     "output_type": "execute_result"
    },
    {
     "data": {
      "text/html": [
       "<div>\n",
       "<style scoped>\n",
       "    .dataframe tbody tr th:only-of-type {\n",
       "        vertical-align: middle;\n",
       "    }\n",
       "\n",
       "    .dataframe tbody tr th {\n",
       "        vertical-align: top;\n",
       "    }\n",
       "\n",
       "    .dataframe thead th {\n",
       "        text-align: right;\n",
       "    }\n",
       "</style>\n",
       "<table border=\"1\" class=\"dataframe\">\n",
       "  <thead>\n",
       "    <tr style=\"text-align: right;\">\n",
       "      <th></th>\n",
       "      <th>Metadata_Source</th>\n",
       "      <th>Metadata_Batch</th>\n",
       "      <th>Metadata_Plate</th>\n",
       "      <th>Metadata_Well</th>\n",
       "      <th>Metadata_JCP2022</th>\n",
       "      <th>Metadata_Hash</th>\n",
       "      <th>Metadata_Bin</th>\n",
       "      <th>Metadata_InChIKey</th>\n",
       "      <th>Metadata_InChI</th>\n",
       "      <th>Metadata_Smiles</th>\n",
       "      <th>Metadata_TPSA</th>\n",
       "      <th>Metadata_lnTPSA</th>\n",
       "      <th>Metadata_log10TPSA</th>\n",
       "      <th>Metadata_Permiation</th>\n",
       "    </tr>\n",
       "  </thead>\n",
       "  <tbody>\n",
       "    <tr>\n",
       "      <th>793285</th>\n",
       "      <td>source_6</td>\n",
       "      <td>p210920CPU2OS48hw384exp028JUMP</td>\n",
       "      <td>110000296341</td>\n",
       "      <td>M18</td>\n",
       "      <td>JCP2022_009152</td>\n",
       "      <td>3946250187745462996</td>\n",
       "      <td>4</td>\n",
       "      <td>BWOOWUSUEVQGLS-UHFFFAOYSA-N</td>\n",
       "      <td>InChI=1S/C19H25F2N5O3/c1-24(13-14-6-8-15(9-7-1...</td>\n",
       "      <td>CN(Cc1ccc(cc1)OC(F)F)C(O)=NCCCN3N=C2CCCCN2C3=O</td>\n",
       "      <td>84.88</td>\n",
       "      <td>4.441238</td>\n",
       "      <td>1.928805</td>\n",
       "      <td>0</td>\n",
       "    </tr>\n",
       "    <tr>\n",
       "      <th>793286</th>\n",
       "      <td>source_8</td>\n",
       "      <td>J1</td>\n",
       "      <td>A1170388</td>\n",
       "      <td>M18</td>\n",
       "      <td>JCP2022_009152</td>\n",
       "      <td>3946250187745462996</td>\n",
       "      <td>4</td>\n",
       "      <td>BWOOWUSUEVQGLS-UHFFFAOYSA-N</td>\n",
       "      <td>InChI=1S/C19H25F2N5O3/c1-24(13-14-6-8-15(9-7-1...</td>\n",
       "      <td>CN(Cc1ccc(cc1)OC(F)F)C(O)=NCCCN3N=C2CCCCN2C3=O</td>\n",
       "      <td>84.88</td>\n",
       "      <td>4.441238</td>\n",
       "      <td>1.928805</td>\n",
       "      <td>0</td>\n",
       "    </tr>\n",
       "    <tr>\n",
       "      <th>793287</th>\n",
       "      <td>source_10</td>\n",
       "      <td>2021_08_12_U2OS_48_hr_run15</td>\n",
       "      <td>Dest210803-154619</td>\n",
       "      <td>I08</td>\n",
       "      <td>JCP2022_099232</td>\n",
       "      <td>-7892033651920253197</td>\n",
       "      <td>11</td>\n",
       "      <td>WJTCUUKPWPMZAU-UHFFFAOYSA-N</td>\n",
       "      <td>InChI=1S/C20H17F3N2O5/c1-10-3-5-13(16(26)7-10)...</td>\n",
       "      <td>CC(OC(=O)c1ccc(C)cc1O)C(=O)N3CC(O)=Nc2cc(ccc23...</td>\n",
       "      <td>99.43</td>\n",
       "      <td>4.599454</td>\n",
       "      <td>1.997517</td>\n",
       "      <td>0</td>\n",
       "    </tr>\n",
       "    <tr>\n",
       "      <th>793288</th>\n",
       "      <td>source_6</td>\n",
       "      <td>p210920CPU2OS48hw384exp028JUMP</td>\n",
       "      <td>110000296341</td>\n",
       "      <td>M15</td>\n",
       "      <td>JCP2022_099232</td>\n",
       "      <td>-7892033651920253197</td>\n",
       "      <td>11</td>\n",
       "      <td>WJTCUUKPWPMZAU-UHFFFAOYSA-N</td>\n",
       "      <td>InChI=1S/C20H17F3N2O5/c1-10-3-5-13(16(26)7-10)...</td>\n",
       "      <td>CC(OC(=O)c1ccc(C)cc1O)C(=O)N3CC(O)=Nc2cc(ccc23...</td>\n",
       "      <td>99.43</td>\n",
       "      <td>4.599454</td>\n",
       "      <td>1.997517</td>\n",
       "      <td>0</td>\n",
       "    </tr>\n",
       "    <tr>\n",
       "      <th>793289</th>\n",
       "      <td>source_8</td>\n",
       "      <td>J1</td>\n",
       "      <td>A1170388</td>\n",
       "      <td>M15</td>\n",
       "      <td>JCP2022_099232</td>\n",
       "      <td>-7892033651920253197</td>\n",
       "      <td>11</td>\n",
       "      <td>WJTCUUKPWPMZAU-UHFFFAOYSA-N</td>\n",
       "      <td>InChI=1S/C20H17F3N2O5/c1-10-3-5-13(16(26)7-10)...</td>\n",
       "      <td>CC(OC(=O)c1ccc(C)cc1O)C(=O)N3CC(O)=Nc2cc(ccc23...</td>\n",
       "      <td>99.43</td>\n",
       "      <td>4.599454</td>\n",
       "      <td>1.997517</td>\n",
       "      <td>0</td>\n",
       "    </tr>\n",
       "  </tbody>\n",
       "</table>\n",
       "</div>"
      ],
      "text/plain": [
       "       Metadata_Source                  Metadata_Batch     Metadata_Plate Metadata_Well Metadata_JCP2022        Metadata_Hash  \\\n",
       "793285        source_6  p210920CPU2OS48hw384exp028JUMP       110000296341           M18   JCP2022_009152  3946250187745462996   \n",
       "793286        source_8                              J1           A1170388           M18   JCP2022_009152  3946250187745462996   \n",
       "793287       source_10     2021_08_12_U2OS_48_hr_run15  Dest210803-154619           I08   JCP2022_099232 -7892033651920253197   \n",
       "793288        source_6  p210920CPU2OS48hw384exp028JUMP       110000296341           M15   JCP2022_099232 -7892033651920253197   \n",
       "793289        source_8                              J1           A1170388           M15   JCP2022_099232 -7892033651920253197   \n",
       "\n",
       "        Metadata_Bin            Metadata_InChIKey                                     Metadata_InChI  \\\n",
       "793285             4  BWOOWUSUEVQGLS-UHFFFAOYSA-N  InChI=1S/C19H25F2N5O3/c1-24(13-14-6-8-15(9-7-1...   \n",
       "793286             4  BWOOWUSUEVQGLS-UHFFFAOYSA-N  InChI=1S/C19H25F2N5O3/c1-24(13-14-6-8-15(9-7-1...   \n",
       "793287            11  WJTCUUKPWPMZAU-UHFFFAOYSA-N  InChI=1S/C20H17F3N2O5/c1-10-3-5-13(16(26)7-10)...   \n",
       "793288            11  WJTCUUKPWPMZAU-UHFFFAOYSA-N  InChI=1S/C20H17F3N2O5/c1-10-3-5-13(16(26)7-10)...   \n",
       "793289            11  WJTCUUKPWPMZAU-UHFFFAOYSA-N  InChI=1S/C20H17F3N2O5/c1-10-3-5-13(16(26)7-10)...   \n",
       "\n",
       "                                          Metadata_Smiles  Metadata_TPSA  Metadata_lnTPSA  Metadata_log10TPSA  Metadata_Permiation  \n",
       "793285     CN(Cc1ccc(cc1)OC(F)F)C(O)=NCCCN3N=C2CCCCN2C3=O          84.88         4.441238            1.928805                    0  \n",
       "793286     CN(Cc1ccc(cc1)OC(F)F)C(O)=NCCCN3N=C2CCCCN2C3=O          84.88         4.441238            1.928805                    0  \n",
       "793287  CC(OC(=O)c1ccc(C)cc1O)C(=O)N3CC(O)=Nc2cc(ccc23...          99.43         4.599454            1.997517                    0  \n",
       "793288  CC(OC(=O)c1ccc(C)cc1O)C(=O)N3CC(O)=Nc2cc(ccc23...          99.43         4.599454            1.997517                    0  \n",
       "793289  CC(OC(=O)c1ccc(C)cc1O)C(=O)N3CC(O)=Nc2cc(ccc23...          99.43         4.599454            1.997517                    0  "
      ]
     },
     "execution_count": 39,
     "metadata": {},
     "output_type": "execute_result"
    }
   ],
   "source": [
    "# joined_metadata_2.reset_index(drop=True, inplace=True)\n",
    "joined_metadata_2.info()\n",
    "joined_metadata_2.shape\n",
    "joined_metadata_2.head()\n",
    "joined_metadata_2.tail()\n",
    "# col_list = joined_metadata_2.columns.tolist()"
   ]
  },
  {
   "cell_type": "markdown",
   "id": "5953d65c-7732-47af-9df1-8eddd55916c9",
   "metadata": {},
   "source": [
    "### Rearrage column order , rename logTPSA col to log10TPSA"
   ]
  },
  {
   "cell_type": "code",
   "execution_count": 34,
   "id": "cf0a8e05-c8e1-490a-8611-231cf513e597",
   "metadata": {
    "execution": {
     "iopub.execute_input": "2024-02-26T11:18:56.928210Z",
     "iopub.status.busy": "2024-02-26T11:18:56.927730Z",
     "iopub.status.idle": "2024-02-26T11:18:56.952253Z",
     "shell.execute_reply": "2024-02-26T11:18:56.951533Z",
     "shell.execute_reply.started": "2024-02-26T11:18:56.928166Z"
    }
   },
   "outputs": [],
   "source": [
    "joined_metadata_2.rename(columns ={'Metadata_logTPSA' : 'Metadata_log10TPSA'}, inplace=True)"
   ]
  },
  {
   "cell_type": "code",
   "execution_count": 38,
   "id": "6484b7f6-9335-45b9-81d2-449bb8538093",
   "metadata": {
    "execution": {
     "iopub.execute_input": "2024-02-26T11:20:21.280643Z",
     "iopub.status.busy": "2024-02-26T11:20:21.280221Z",
     "iopub.status.idle": "2024-02-26T11:20:21.404668Z",
     "shell.execute_reply": "2024-02-26T11:20:21.404058Z",
     "shell.execute_reply.started": "2024-02-26T11:20:21.280602Z"
    }
   },
   "outputs": [],
   "source": [
    "column_list = [\"Metadata_Source\"  , \"Metadata_Batch\" , \"Metadata_Plate\"  , \"Metadata_Well\" , \"Metadata_JCP2022\", \"Metadata_Hash\"   , \"Metadata_Bin\", \n",
    "               'Metadata_InChIKey', 'Metadata_InChI' , 'Metadata_Smiles' , \"Metadata_TPSA\" , \"Metadata_lnTPSA\" , \"Metadata_log10TPSA\", \"Metadata_Permiation\"]\n",
    "\n",
    "joined_metadata_2 = joined_metadata_2[column_list]"
   ]
  },
  {
   "cell_type": "code",
   "execution_count": 40,
   "id": "e1e5c18b-1b90-4b9e-ae82-530fc0d3c20e",
   "metadata": {
    "execution": {
     "iopub.execute_input": "2024-02-26T11:20:36.184546Z",
     "iopub.status.busy": "2024-02-26T11:20:36.184115Z",
     "iopub.status.idle": "2024-02-26T11:20:36.333837Z",
     "shell.execute_reply": "2024-02-26T11:20:36.333116Z",
     "shell.execute_reply.started": "2024-02-26T11:20:36.184504Z"
    }
   },
   "outputs": [
    {
     "name": "stdout",
     "output_type": "stream",
     "text": [
      " Number of unqiue compounds ::  115514\n",
      "\n"
     ]
    },
    {
     "data": {
      "text/plain": [
       "Metadata_JCP2022\n",
       "JCP2022_033924    88583\n",
       "JCP2022_037716     8138\n",
       "JCP2022_064022     8130\n",
       "JCP2022_050797     8127\n",
       "JCP2022_025848     8127\n",
       "                  ...  \n",
       "JCP2022_079404        3\n",
       "JCP2022_045870        3\n",
       "JCP2022_049817        3\n",
       "JCP2022_035068        3\n",
       "JCP2022_099232        3\n",
       "Name: count, Length: 115514, dtype: int64"
      ]
     },
     "execution_count": 40,
     "metadata": {},
     "output_type": "execute_result"
    }
   ],
   "source": [
    "print(f\" Number of unqiue compounds ::  {len(joined_metadata_2['Metadata_JCP2022'].unique())}\")\n",
    "print()\n",
    "joined_metadata_2['Metadata_JCP2022'].value_counts() "
   ]
  },
  {
   "cell_type": "markdown",
   "id": "edb34cf0-e9fc-41a6-ad6b-13f15d4b4c86",
   "metadata": {
    "jp-MarkdownHeadingCollapsed": true
   },
   "source": [
    "## Write metadata file for compunds with more than 3 wells"
   ]
  },
  {
   "cell_type": "code",
   "execution_count": 41,
   "id": "cd87b690-3d2c-4079-a344-e788a0b215e7",
   "metadata": {
    "execution": {
     "iopub.execute_input": "2024-02-26T11:20:42.400067Z",
     "iopub.status.busy": "2024-02-26T11:20:42.399643Z",
     "iopub.status.idle": "2024-02-26T11:20:42.424045Z",
     "shell.execute_reply": "2024-02-26T11:20:42.423314Z",
     "shell.execute_reply.started": "2024-02-26T11:20:42.400026Z"
    }
   },
   "outputs": [
    {
     "data": {
      "text/plain": [
       "'./output_11102023/compound_extended_metadata_morethan_3_wells.csv'"
      ]
     },
     "execution_count": 41,
     "metadata": {},
     "output_type": "execute_result"
    }
   ],
   "source": [
    "CompoundExtendedMetadataMoreThan3File"
   ]
  },
  {
   "cell_type": "code",
   "execution_count": 42,
   "id": "43bc6a4c-16f0-4470-99db-cc4c5c67aa15",
   "metadata": {
    "execution": {
     "iopub.execute_input": "2024-02-26T11:20:49.790484Z",
     "iopub.status.busy": "2024-02-26T11:20:49.790068Z",
     "iopub.status.idle": "2024-02-26T11:20:58.897943Z",
     "shell.execute_reply": "2024-02-26T11:20:58.896734Z",
     "shell.execute_reply.started": "2024-02-26T11:20:49.790441Z"
    }
   },
   "outputs": [],
   "source": [
    "joined_metadata_2.to_csv(CompoundExtendedMetadataMoreThan3File, index = False)"
   ]
  },
  {
   "cell_type": "markdown",
   "id": "e6dbe769-ff43-4e1a-bf66-aac7d5e8f1af",
   "metadata": {
    "jp-MarkdownHeadingCollapsed": true
   },
   "source": [
    "# Sample Extended Metadata file - 2/3/n samples per compound"
   ]
  },
  {
   "cell_type": "markdown",
   "id": "507821f9-5f3f-4fd7-af16-4b6de59e7b4b",
   "metadata": {},
   "source": [
    "\n",
    "\n",
    "   Sample Compounds from `df_pwc`- 2 per source\n",
    "\n",
    "- Do we want to just sample by Compound, or by Source as well?"
   ]
  },
  {
   "cell_type": "code",
   "execution_count": 73,
   "id": "9ccaba15-957b-4d69-8b78-cf81ca4ef183",
   "metadata": {
    "execution": {
     "iopub.execute_input": "2024-02-09T10:31:36.242152Z",
     "iopub.status.busy": "2024-02-09T10:31:36.241610Z",
     "iopub.status.idle": "2024-02-09T10:31:36.274426Z",
     "shell.execute_reply": "2024-02-09T10:31:36.273860Z",
     "shell.execute_reply.started": "2024-02-09T10:31:36.242111Z"
    }
   },
   "outputs": [
    {
     "data": {
      "text/plain": [
       "231028"
      ]
     },
     "execution_count": 73,
     "metadata": {},
     "output_type": "execute_result"
    },
    {
     "data": {
      "text/plain": [
       "346542"
      ]
     },
     "execution_count": 73,
     "metadata": {},
     "output_type": "execute_result"
    }
   ],
   "source": [
    "### Sample Plates from `df_compound_plates`- 2 per source\n",
    "\n",
    "#  sample = (\n",
    "#     df_compound_plates.groupby([\"Metadata_Source\", \"Metadata_Batch\"])\n",
    "#     .sample(2, random_state=42, replace = True)   ## sample 2 per Metadata_Source\n",
    "# )\n",
    "# sample\n",
    "# # sample.Metadata_Batch.sum()\n",
    "115514 * 2\n",
    "115514 * 3"
   ]
  },
  {
   "cell_type": "code",
   "execution_count": 43,
   "id": "7c7e478d-62ff-48d7-861a-4c616c7d27e7",
   "metadata": {
    "execution": {
     "iopub.execute_input": "2024-02-26T11:21:15.123875Z",
     "iopub.status.busy": "2024-02-26T11:21:15.123396Z",
     "iopub.status.idle": "2024-02-26T11:21:17.409410Z",
     "shell.execute_reply": "2024-02-26T11:21:17.408513Z",
     "shell.execute_reply.started": "2024-02-26T11:21:15.123833Z"
    }
   },
   "outputs": [
    {
     "name": "stdout",
     "output_type": "stream",
     "text": [
      "CompoundExtendedMetadata3SampleFile\n"
     ]
    },
    {
     "data": {
      "text/plain": [
       "'./output_11102023/compound_extended_metadata_3samples.csv'"
      ]
     },
     "execution_count": 43,
     "metadata": {},
     "output_type": "execute_result"
    }
   ],
   "source": [
    "NO_OF_SAMPLES = 3\n",
    "# outputFile = CompoundExtendedMetadata5SampleFile\n",
    "# outputFile = CompoundExtendedMetadata4SampleFile\n",
    "# outputFile = CompoundExtendedMetadata3SampleFile\n",
    "\n",
    "inputFile =  CompoundExtendedMetadataMoreThan3File\n",
    "\n",
    "outputFile = f\"CompoundExtendedMetadata{NO_OF_SAMPLES:1d}SampleFile\"\n",
    "print(outputFile)\n",
    "eval(outputFile)\n",
    "\n",
    "joined_metadata_2 = pd.read_csv(CompoundExtendedMetadataMoreThan3File)"
   ]
  },
  {
   "cell_type": "code",
   "execution_count": 44,
   "id": "9d31b5a0-4080-4a88-b2cf-43b86d650370",
   "metadata": {
    "execution": {
     "iopub.execute_input": "2024-02-26T11:21:25.185481Z",
     "iopub.status.busy": "2024-02-26T11:21:25.185021Z",
     "iopub.status.idle": "2024-02-26T11:21:25.214843Z",
     "shell.execute_reply": "2024-02-26T11:21:25.214173Z",
     "shell.execute_reply.started": "2024-02-26T11:21:25.185436Z"
    }
   },
   "outputs": [
    {
     "name": "stdout",
     "output_type": "stream",
     "text": [
      "Not deleted\n"
     ]
    }
   ],
   "source": [
    "try:\n",
    "    del sample\n",
    "except Exception as e:\n",
    "    print('Not deleted')"
   ]
  },
  {
   "cell_type": "code",
   "execution_count": 45,
   "id": "237073ef-8ef2-4477-94c1-8358e9c45d1c",
   "metadata": {
    "execution": {
     "iopub.execute_input": "2024-02-26T11:21:29.562634Z",
     "iopub.status.busy": "2024-02-26T11:21:29.562218Z",
     "iopub.status.idle": "2024-02-26T11:21:34.404661Z",
     "shell.execute_reply": "2024-02-26T11:21:34.404066Z",
     "shell.execute_reply.started": "2024-02-26T11:21:29.562594Z"
    }
   },
   "outputs": [
    {
     "data": {
      "text/html": [
       "<div>\n",
       "<style scoped>\n",
       "    .dataframe tbody tr th:only-of-type {\n",
       "        vertical-align: middle;\n",
       "    }\n",
       "\n",
       "    .dataframe tbody tr th {\n",
       "        vertical-align: top;\n",
       "    }\n",
       "\n",
       "    .dataframe thead th {\n",
       "        text-align: right;\n",
       "    }\n",
       "</style>\n",
       "<table border=\"1\" class=\"dataframe\">\n",
       "  <thead>\n",
       "    <tr style=\"text-align: right;\">\n",
       "      <th></th>\n",
       "      <th>Metadata_Source</th>\n",
       "      <th>Metadata_Batch</th>\n",
       "      <th>Metadata_Plate</th>\n",
       "      <th>Metadata_Well</th>\n",
       "      <th>Metadata_JCP2022</th>\n",
       "      <th>Metadata_Hash</th>\n",
       "      <th>Metadata_Bin</th>\n",
       "      <th>Metadata_InChIKey</th>\n",
       "      <th>Metadata_InChI</th>\n",
       "      <th>Metadata_Smiles</th>\n",
       "      <th>Metadata_TPSA</th>\n",
       "      <th>Metadata_lnTPSA</th>\n",
       "      <th>Metadata_log10TPSA</th>\n",
       "      <th>Metadata_Permiation</th>\n",
       "    </tr>\n",
       "  </thead>\n",
       "  <tbody>\n",
       "    <tr>\n",
       "      <th>763156</th>\n",
       "      <td>source_10</td>\n",
       "      <td>2021_06_22_U2OS_48_hr_run8</td>\n",
       "      <td>Dest210622-144945</td>\n",
       "      <td>C07</td>\n",
       "      <td>JCP2022_000001</td>\n",
       "      <td>-8640665944756343816</td>\n",
       "      <td>4</td>\n",
       "      <td>AAAHWCWPZPSPIW-UHFFFAOYSA-N</td>\n",
       "      <td>InChI=1S/C25H31N5O2/c1-4-23-26-14-16-30(23)24-...</td>\n",
       "      <td>CCC1=NC=CN1c2cccc(n2)C3CCCN3C(=O)c4ccc(cc4)OCC...</td>\n",
       "      <td>63.49</td>\n",
       "      <td>4.150882</td>\n",
       "      <td>1.802705</td>\n",
       "      <td>0</td>\n",
       "    </tr>\n",
       "    <tr>\n",
       "      <th>763158</th>\n",
       "      <td>source_6</td>\n",
       "      <td>p210928CPU2OS48hw384exp030JUMP</td>\n",
       "      <td>110000296383</td>\n",
       "      <td>B15</td>\n",
       "      <td>JCP2022_000001</td>\n",
       "      <td>-8640665944756343816</td>\n",
       "      <td>4</td>\n",
       "      <td>AAAHWCWPZPSPIW-UHFFFAOYSA-N</td>\n",
       "      <td>InChI=1S/C25H31N5O2/c1-4-23-26-14-16-30(23)24-...</td>\n",
       "      <td>CCC1=NC=CN1c2cccc(n2)C3CCCN3C(=O)c4ccc(cc4)OCC...</td>\n",
       "      <td>63.49</td>\n",
       "      <td>4.150882</td>\n",
       "      <td>1.802705</td>\n",
       "      <td>0</td>\n",
       "    </tr>\n",
       "    <tr>\n",
       "      <th>763155</th>\n",
       "      <td>source_1</td>\n",
       "      <td>Batch5_20221030</td>\n",
       "      <td>UL001783</td>\n",
       "      <td>C29</td>\n",
       "      <td>JCP2022_000001</td>\n",
       "      <td>-8640665944756343816</td>\n",
       "      <td>4</td>\n",
       "      <td>AAAHWCWPZPSPIW-UHFFFAOYSA-N</td>\n",
       "      <td>InChI=1S/C25H31N5O2/c1-4-23-26-14-16-30(23)24-...</td>\n",
       "      <td>CCC1=NC=CN1c2cccc(n2)C3CCCN3C(=O)c4ccc(cc4)OCC...</td>\n",
       "      <td>63.49</td>\n",
       "      <td>4.150882</td>\n",
       "      <td>1.802705</td>\n",
       "      <td>0</td>\n",
       "    </tr>\n",
       "    <tr>\n",
       "      <th>627800</th>\n",
       "      <td>source_10</td>\n",
       "      <td>2021_08_03_U2OS_48_hr_run12</td>\n",
       "      <td>Dest210726-163143</td>\n",
       "      <td>D21</td>\n",
       "      <td>JCP2022_000002</td>\n",
       "      <td>-2058530355611931119</td>\n",
       "      <td>1</td>\n",
       "      <td>AAAJHRMBUHXWLD-UHFFFAOYSA-N</td>\n",
       "      <td>InChI=1S/C11H13ClN2O/c12-10-4-2-9(3-5-10)8-14-...</td>\n",
       "      <td>OC1=NCCCN1Cc2ccc(Cl)cc2</td>\n",
       "      <td>35.83</td>\n",
       "      <td>3.578786</td>\n",
       "      <td>1.554247</td>\n",
       "      <td>0</td>\n",
       "    </tr>\n",
       "    <tr>\n",
       "      <th>627802</th>\n",
       "      <td>source_8</td>\n",
       "      <td>J1</td>\n",
       "      <td>A1170405</td>\n",
       "      <td>B22</td>\n",
       "      <td>JCP2022_000002</td>\n",
       "      <td>-2058530355611931119</td>\n",
       "      <td>1</td>\n",
       "      <td>AAAJHRMBUHXWLD-UHFFFAOYSA-N</td>\n",
       "      <td>InChI=1S/C11H13ClN2O/c12-10-4-2-9(3-5-10)8-14-...</td>\n",
       "      <td>OC1=NCCCN1Cc2ccc(Cl)cc2</td>\n",
       "      <td>35.83</td>\n",
       "      <td>3.578786</td>\n",
       "      <td>1.554247</td>\n",
       "      <td>0</td>\n",
       "    </tr>\n",
       "    <tr>\n",
       "      <th>...</th>\n",
       "      <td>...</td>\n",
       "      <td>...</td>\n",
       "      <td>...</td>\n",
       "      <td>...</td>\n",
       "      <td>...</td>\n",
       "      <td>...</td>\n",
       "      <td>...</td>\n",
       "      <td>...</td>\n",
       "      <td>...</td>\n",
       "      <td>...</td>\n",
       "      <td>...</td>\n",
       "      <td>...</td>\n",
       "      <td>...</td>\n",
       "      <td>...</td>\n",
       "    </tr>\n",
       "    <tr>\n",
       "      <th>709802</th>\n",
       "      <td>source_8</td>\n",
       "      <td>J2</td>\n",
       "      <td>A1170487</td>\n",
       "      <td>I09</td>\n",
       "      <td>JCP2022_116752</td>\n",
       "      <td>8043583690001075349</td>\n",
       "      <td>9</td>\n",
       "      <td>ZZZZIBSVRUABIA-UHFFFAOYSA-N</td>\n",
       "      <td>InChI=1S/C19H13F6N3O2S/c1-11-26-6-5-17(27-11)1...</td>\n",
       "      <td>Cc1nccc(n1)c2cccc(c2)NS(=O)(=O)c3cc(cc(c3)C(F)...</td>\n",
       "      <td>71.95</td>\n",
       "      <td>4.275971</td>\n",
       "      <td>1.857031</td>\n",
       "      <td>0</td>\n",
       "    </tr>\n",
       "    <tr>\n",
       "      <th>709799</th>\n",
       "      <td>source_10</td>\n",
       "      <td>2021_06_14_U2OS_48_hr_run5</td>\n",
       "      <td>Dest210614-163244</td>\n",
       "      <td>B15</td>\n",
       "      <td>JCP2022_116752</td>\n",
       "      <td>8043583690001075349</td>\n",
       "      <td>9</td>\n",
       "      <td>ZZZZIBSVRUABIA-UHFFFAOYSA-N</td>\n",
       "      <td>InChI=1S/C19H13F6N3O2S/c1-11-26-6-5-17(27-11)1...</td>\n",
       "      <td>Cc1nccc(n1)c2cccc(c2)NS(=O)(=O)c3cc(cc(c3)C(F)...</td>\n",
       "      <td>71.95</td>\n",
       "      <td>4.275971</td>\n",
       "      <td>1.857031</td>\n",
       "      <td>0</td>\n",
       "    </tr>\n",
       "    <tr>\n",
       "      <th>389569</th>\n",
       "      <td>source_9</td>\n",
       "      <td>20210918-Run12</td>\n",
       "      <td>GR00004385</td>\n",
       "      <td>O42</td>\n",
       "      <td>JCP2022_116753</td>\n",
       "      <td>-9112886486787329276</td>\n",
       "      <td>4</td>\n",
       "      <td>ZZZZVNLQWWXZTQ-UHFFFAOYSA-N</td>\n",
       "      <td>InChI=1S/C14H20N2O3/c1-18-13-5-3-2-4-12(13)14(...</td>\n",
       "      <td>COc1ccccc1C(O)=NCCN2CCOCC2</td>\n",
       "      <td>54.29</td>\n",
       "      <td>3.994340</td>\n",
       "      <td>1.734720</td>\n",
       "      <td>0</td>\n",
       "    </tr>\n",
       "    <tr>\n",
       "      <th>389563</th>\n",
       "      <td>source_11</td>\n",
       "      <td>Batch5</td>\n",
       "      <td>EC000101</td>\n",
       "      <td>M17</td>\n",
       "      <td>JCP2022_116753</td>\n",
       "      <td>-9112886486787329276</td>\n",
       "      <td>4</td>\n",
       "      <td>ZZZZVNLQWWXZTQ-UHFFFAOYSA-N</td>\n",
       "      <td>InChI=1S/C14H20N2O3/c1-18-13-5-3-2-4-12(13)14(...</td>\n",
       "      <td>COc1ccccc1C(O)=NCCN2CCOCC2</td>\n",
       "      <td>54.29</td>\n",
       "      <td>3.994340</td>\n",
       "      <td>1.734720</td>\n",
       "      <td>0</td>\n",
       "    </tr>\n",
       "    <tr>\n",
       "      <th>389566</th>\n",
       "      <td>source_9</td>\n",
       "      <td>20210918-Run12</td>\n",
       "      <td>GR00004382</td>\n",
       "      <td>AE42</td>\n",
       "      <td>JCP2022_116753</td>\n",
       "      <td>-9112886486787329276</td>\n",
       "      <td>4</td>\n",
       "      <td>ZZZZVNLQWWXZTQ-UHFFFAOYSA-N</td>\n",
       "      <td>InChI=1S/C14H20N2O3/c1-18-13-5-3-2-4-12(13)14(...</td>\n",
       "      <td>COc1ccccc1C(O)=NCCN2CCOCC2</td>\n",
       "      <td>54.29</td>\n",
       "      <td>3.994340</td>\n",
       "      <td>1.734720</td>\n",
       "      <td>0</td>\n",
       "    </tr>\n",
       "  </tbody>\n",
       "</table>\n",
       "<p>346542 rows × 14 columns</p>\n",
       "</div>"
      ],
      "text/plain": [
       "       Metadata_Source                  Metadata_Batch     Metadata_Plate Metadata_Well Metadata_JCP2022        Metadata_Hash  \\\n",
       "763156       source_10      2021_06_22_U2OS_48_hr_run8  Dest210622-144945           C07   JCP2022_000001 -8640665944756343816   \n",
       "763158        source_6  p210928CPU2OS48hw384exp030JUMP       110000296383           B15   JCP2022_000001 -8640665944756343816   \n",
       "763155        source_1                 Batch5_20221030           UL001783           C29   JCP2022_000001 -8640665944756343816   \n",
       "627800       source_10     2021_08_03_U2OS_48_hr_run12  Dest210726-163143           D21   JCP2022_000002 -2058530355611931119   \n",
       "627802        source_8                              J1           A1170405           B22   JCP2022_000002 -2058530355611931119   \n",
       "...                ...                             ...                ...           ...              ...                  ...   \n",
       "709802        source_8                              J2           A1170487           I09   JCP2022_116752  8043583690001075349   \n",
       "709799       source_10      2021_06_14_U2OS_48_hr_run5  Dest210614-163244           B15   JCP2022_116752  8043583690001075349   \n",
       "389569        source_9                  20210918-Run12         GR00004385           O42   JCP2022_116753 -9112886486787329276   \n",
       "389563       source_11                          Batch5           EC000101           M17   JCP2022_116753 -9112886486787329276   \n",
       "389566        source_9                  20210918-Run12         GR00004382          AE42   JCP2022_116753 -9112886486787329276   \n",
       "\n",
       "        Metadata_Bin            Metadata_InChIKey                                     Metadata_InChI  \\\n",
       "763156             4  AAAHWCWPZPSPIW-UHFFFAOYSA-N  InChI=1S/C25H31N5O2/c1-4-23-26-14-16-30(23)24-...   \n",
       "763158             4  AAAHWCWPZPSPIW-UHFFFAOYSA-N  InChI=1S/C25H31N5O2/c1-4-23-26-14-16-30(23)24-...   \n",
       "763155             4  AAAHWCWPZPSPIW-UHFFFAOYSA-N  InChI=1S/C25H31N5O2/c1-4-23-26-14-16-30(23)24-...   \n",
       "627800             1  AAAJHRMBUHXWLD-UHFFFAOYSA-N  InChI=1S/C11H13ClN2O/c12-10-4-2-9(3-5-10)8-14-...   \n",
       "627802             1  AAAJHRMBUHXWLD-UHFFFAOYSA-N  InChI=1S/C11H13ClN2O/c12-10-4-2-9(3-5-10)8-14-...   \n",
       "...              ...                          ...                                                ...   \n",
       "709802             9  ZZZZIBSVRUABIA-UHFFFAOYSA-N  InChI=1S/C19H13F6N3O2S/c1-11-26-6-5-17(27-11)1...   \n",
       "709799             9  ZZZZIBSVRUABIA-UHFFFAOYSA-N  InChI=1S/C19H13F6N3O2S/c1-11-26-6-5-17(27-11)1...   \n",
       "389569             4  ZZZZVNLQWWXZTQ-UHFFFAOYSA-N  InChI=1S/C14H20N2O3/c1-18-13-5-3-2-4-12(13)14(...   \n",
       "389563             4  ZZZZVNLQWWXZTQ-UHFFFAOYSA-N  InChI=1S/C14H20N2O3/c1-18-13-5-3-2-4-12(13)14(...   \n",
       "389566             4  ZZZZVNLQWWXZTQ-UHFFFAOYSA-N  InChI=1S/C14H20N2O3/c1-18-13-5-3-2-4-12(13)14(...   \n",
       "\n",
       "                                          Metadata_Smiles  Metadata_TPSA  Metadata_lnTPSA  Metadata_log10TPSA  Metadata_Permiation  \n",
       "763156  CCC1=NC=CN1c2cccc(n2)C3CCCN3C(=O)c4ccc(cc4)OCC...          63.49         4.150882            1.802705                    0  \n",
       "763158  CCC1=NC=CN1c2cccc(n2)C3CCCN3C(=O)c4ccc(cc4)OCC...          63.49         4.150882            1.802705                    0  \n",
       "763155  CCC1=NC=CN1c2cccc(n2)C3CCCN3C(=O)c4ccc(cc4)OCC...          63.49         4.150882            1.802705                    0  \n",
       "627800                            OC1=NCCCN1Cc2ccc(Cl)cc2          35.83         3.578786            1.554247                    0  \n",
       "627802                            OC1=NCCCN1Cc2ccc(Cl)cc2          35.83         3.578786            1.554247                    0  \n",
       "...                                                   ...            ...              ...                 ...                  ...  \n",
       "709802  Cc1nccc(n1)c2cccc(c2)NS(=O)(=O)c3cc(cc(c3)C(F)...          71.95         4.275971            1.857031                    0  \n",
       "709799  Cc1nccc(n1)c2cccc(c2)NS(=O)(=O)c3cc(cc(c3)C(F)...          71.95         4.275971            1.857031                    0  \n",
       "389569                         COc1ccccc1C(O)=NCCN2CCOCC2          54.29         3.994340            1.734720                    0  \n",
       "389563                         COc1ccccc1C(O)=NCCN2CCOCC2          54.29         3.994340            1.734720                    0  \n",
       "389566                         COc1ccccc1C(O)=NCCN2CCOCC2          54.29         3.994340            1.734720                    0  \n",
       "\n",
       "[346542 rows x 14 columns]"
      ]
     },
     "execution_count": 45,
     "metadata": {},
     "output_type": "execute_result"
    }
   ],
   "source": [
    "sample = (\n",
    "    joined_metadata_2.groupby([\"Metadata_JCP2022\"])\n",
    "    .sample(n= NO_OF_SAMPLES, random_state=42, replace = False)   ## sample 2 per Metadata_Source\n",
    ")\n",
    "sample\n"
   ]
  },
  {
   "cell_type": "code",
   "execution_count": 80,
   "id": "fb4c1c13-1a5a-4785-9602-e37960563109",
   "metadata": {
    "execution": {
     "iopub.execute_input": "2024-02-09T10:33:11.169281Z",
     "iopub.status.busy": "2024-02-09T10:33:11.168782Z",
     "iopub.status.idle": "2024-02-09T10:33:11.218970Z",
     "shell.execute_reply": "2024-02-09T10:33:11.217924Z",
     "shell.execute_reply.started": "2024-02-09T10:33:11.169239Z"
    }
   },
   "outputs": [
    {
     "data": {
      "text/plain": [
       "Metadata_Source\n",
       "source_1     27555\n",
       "source_10    26362\n",
       "source_11    14813\n",
       "source_2     24490\n",
       "source_3     27884\n",
       "source_5     16361\n",
       "source_6     26190\n",
       "source_7      9016\n",
       "source_8     24833\n",
       "source_9     33524\n",
       "Name: count, dtype: int64"
      ]
     },
     "execution_count": 80,
     "metadata": {},
     "output_type": "execute_result"
    },
    {
     "data": {
      "text/plain": [
       "Metadata_Bin\n",
       "0     19280\n",
       "1     18816\n",
       "2     19050\n",
       "3     19422\n",
       "4     19368\n",
       "5     19334\n",
       "6     19480\n",
       "7     19298\n",
       "8     19246\n",
       "9     19190\n",
       "10    19184\n",
       "11    19360\n",
       "Name: count, dtype: int64"
      ]
     },
     "execution_count": 80,
     "metadata": {},
     "output_type": "execute_result"
    }
   ],
   "source": [
    "sample.Metadata_Source.value_counts().sort_index()\n",
    "sample.Metadata_Bin.value_counts().sort_index()"
   ]
  },
  {
   "cell_type": "code",
   "execution_count": 49,
   "id": "ce4a5e49-5f47-476b-9157-757a1982ae96",
   "metadata": {
    "execution": {
     "iopub.execute_input": "2024-02-26T11:22:39.623901Z",
     "iopub.status.busy": "2024-02-26T11:22:39.623484Z",
     "iopub.status.idle": "2024-02-26T11:22:39.662681Z",
     "shell.execute_reply": "2024-02-26T11:22:39.662016Z",
     "shell.execute_reply.started": "2024-02-26T11:22:39.623859Z"
    }
   },
   "outputs": [
    {
     "data": {
      "text/plain": [
       "Metadata_Hash\n",
       "-8640665944756343816    3\n",
       " 5512448742287374249    3\n",
       "-4662810283802257593    3\n",
       " 5827778992572835189    3\n",
       "-7498592330315478199    3\n",
       "                       ..\n",
       " 6491144231861643726    3\n",
       " 5927704025180017616    3\n",
       " 5616657514162988247    3\n",
       "-3551456184639598733    3\n",
       "-9112886486787329276    3\n",
       "Name: count, Length: 115514, dtype: int64"
      ]
     },
     "execution_count": 49,
     "metadata": {},
     "output_type": "execute_result"
    },
    {
     "data": {
      "text/plain": [
       "False"
      ]
     },
     "execution_count": 49,
     "metadata": {},
     "output_type": "execute_result"
    },
    {
     "data": {
      "text/plain": [
       "True"
      ]
     },
     "execution_count": 49,
     "metadata": {},
     "output_type": "execute_result"
    }
   ],
   "source": [
    "# df_pwc[df_pwc.Metadata_Source == 'source_1'].Metadata_Source.value_counts()\n",
    "# df_pwc[df_pwc.Metadata_Source == 'source_1'].Metadata_Batch.value_counts()\n",
    "# df_pwc[df_pwc.Metadata_Source == 'source_1'].Metadata_Plate.value_counts()\n",
    "# df_pwc[df_pwc.Metadata_Source == 'source_1'].Metadata_JCP2022.value_counts()\n",
    "sample_counts = sample['Metadata_Hash'].value_counts()\n",
    "sample_counts\n",
    "sample_counts[sample_counts != NO_OF_SAMPLES].any()\n",
    "sample_counts[sample_counts == NO_OF_SAMPLES].all()"
   ]
  },
  {
   "cell_type": "code",
   "execution_count": 51,
   "id": "16c02945-a268-44e1-9ed0-48273de27ba8",
   "metadata": {
    "execution": {
     "iopub.execute_input": "2024-02-26T11:24:41.646666Z",
     "iopub.status.busy": "2024-02-26T11:24:41.646190Z",
     "iopub.status.idle": "2024-02-26T11:24:41.831764Z",
     "shell.execute_reply": "2024-02-26T11:24:41.831046Z",
     "shell.execute_reply.started": "2024-02-26T11:24:41.646622Z"
    }
   },
   "outputs": [
    {
     "name": "stdout",
     "output_type": "stream",
     "text": [
      "<class 'pandas.core.frame.DataFrame'>\n",
      "Index: 346542 entries, 763156 to 389566\n",
      "Data columns (total 14 columns):\n",
      " #   Column               Non-Null Count   Dtype  \n",
      "---  ------               --------------   -----  \n",
      " 0   Metadata_Source      346542 non-null  object \n",
      " 1   Metadata_Batch       346542 non-null  object \n",
      " 2   Metadata_Plate       346542 non-null  object \n",
      " 3   Metadata_Well        346542 non-null  object \n",
      " 4   Metadata_JCP2022     346542 non-null  object \n",
      " 5   Metadata_Hash        346542 non-null  int64  \n",
      " 6   Metadata_Bin         346542 non-null  int64  \n",
      " 7   Metadata_InChIKey    346542 non-null  object \n",
      " 8   Metadata_InChI       346542 non-null  object \n",
      " 9   Metadata_Smiles      346542 non-null  object \n",
      " 10  Metadata_TPSA        346542 non-null  float64\n",
      " 11  Metadata_lnTPSA      346542 non-null  float64\n",
      " 12  Metadata_log10TPSA   346542 non-null  float64\n",
      " 13  Metadata_Permiation  346542 non-null  int64  \n",
      "dtypes: float64(3), int64(3), object(8)\n",
      "memory usage: 39.7+ MB\n"
     ]
    },
    {
     "data": {
      "text/html": [
       "<div>\n",
       "<style scoped>\n",
       "    .dataframe tbody tr th:only-of-type {\n",
       "        vertical-align: middle;\n",
       "    }\n",
       "\n",
       "    .dataframe tbody tr th {\n",
       "        vertical-align: top;\n",
       "    }\n",
       "\n",
       "    .dataframe thead th {\n",
       "        text-align: right;\n",
       "    }\n",
       "</style>\n",
       "<table border=\"1\" class=\"dataframe\">\n",
       "  <thead>\n",
       "    <tr style=\"text-align: right;\">\n",
       "      <th></th>\n",
       "      <th>Metadata_Source</th>\n",
       "      <th>Metadata_Batch</th>\n",
       "      <th>Metadata_Plate</th>\n",
       "      <th>Metadata_Well</th>\n",
       "      <th>Metadata_JCP2022</th>\n",
       "      <th>Metadata_Hash</th>\n",
       "      <th>Metadata_Bin</th>\n",
       "      <th>Metadata_InChIKey</th>\n",
       "      <th>Metadata_InChI</th>\n",
       "      <th>Metadata_Smiles</th>\n",
       "      <th>Metadata_TPSA</th>\n",
       "      <th>Metadata_lnTPSA</th>\n",
       "      <th>Metadata_log10TPSA</th>\n",
       "      <th>Metadata_Permiation</th>\n",
       "    </tr>\n",
       "  </thead>\n",
       "  <tbody>\n",
       "    <tr>\n",
       "      <th>763156</th>\n",
       "      <td>source_10</td>\n",
       "      <td>2021_06_22_U2OS_48_hr_run8</td>\n",
       "      <td>Dest210622-144945</td>\n",
       "      <td>C07</td>\n",
       "      <td>JCP2022_000001</td>\n",
       "      <td>-8640665944756343816</td>\n",
       "      <td>4</td>\n",
       "      <td>AAAHWCWPZPSPIW-UHFFFAOYSA-N</td>\n",
       "      <td>InChI=1S/C25H31N5O2/c1-4-23-26-14-16-30(23)24-...</td>\n",
       "      <td>CCC1=NC=CN1c2cccc(n2)C3CCCN3C(=O)c4ccc(cc4)OCC...</td>\n",
       "      <td>63.49</td>\n",
       "      <td>4.150882</td>\n",
       "      <td>1.802705</td>\n",
       "      <td>0</td>\n",
       "    </tr>\n",
       "    <tr>\n",
       "      <th>763158</th>\n",
       "      <td>source_6</td>\n",
       "      <td>p210928CPU2OS48hw384exp030JUMP</td>\n",
       "      <td>110000296383</td>\n",
       "      <td>B15</td>\n",
       "      <td>JCP2022_000001</td>\n",
       "      <td>-8640665944756343816</td>\n",
       "      <td>4</td>\n",
       "      <td>AAAHWCWPZPSPIW-UHFFFAOYSA-N</td>\n",
       "      <td>InChI=1S/C25H31N5O2/c1-4-23-26-14-16-30(23)24-...</td>\n",
       "      <td>CCC1=NC=CN1c2cccc(n2)C3CCCN3C(=O)c4ccc(cc4)OCC...</td>\n",
       "      <td>63.49</td>\n",
       "      <td>4.150882</td>\n",
       "      <td>1.802705</td>\n",
       "      <td>0</td>\n",
       "    </tr>\n",
       "    <tr>\n",
       "      <th>763155</th>\n",
       "      <td>source_1</td>\n",
       "      <td>Batch5_20221030</td>\n",
       "      <td>UL001783</td>\n",
       "      <td>C29</td>\n",
       "      <td>JCP2022_000001</td>\n",
       "      <td>-8640665944756343816</td>\n",
       "      <td>4</td>\n",
       "      <td>AAAHWCWPZPSPIW-UHFFFAOYSA-N</td>\n",
       "      <td>InChI=1S/C25H31N5O2/c1-4-23-26-14-16-30(23)24-...</td>\n",
       "      <td>CCC1=NC=CN1c2cccc(n2)C3CCCN3C(=O)c4ccc(cc4)OCC...</td>\n",
       "      <td>63.49</td>\n",
       "      <td>4.150882</td>\n",
       "      <td>1.802705</td>\n",
       "      <td>0</td>\n",
       "    </tr>\n",
       "    <tr>\n",
       "      <th>627800</th>\n",
       "      <td>source_10</td>\n",
       "      <td>2021_08_03_U2OS_48_hr_run12</td>\n",
       "      <td>Dest210726-163143</td>\n",
       "      <td>D21</td>\n",
       "      <td>JCP2022_000002</td>\n",
       "      <td>-2058530355611931119</td>\n",
       "      <td>1</td>\n",
       "      <td>AAAJHRMBUHXWLD-UHFFFAOYSA-N</td>\n",
       "      <td>InChI=1S/C11H13ClN2O/c12-10-4-2-9(3-5-10)8-14-...</td>\n",
       "      <td>OC1=NCCCN1Cc2ccc(Cl)cc2</td>\n",
       "      <td>35.83</td>\n",
       "      <td>3.578786</td>\n",
       "      <td>1.554247</td>\n",
       "      <td>0</td>\n",
       "    </tr>\n",
       "    <tr>\n",
       "      <th>627802</th>\n",
       "      <td>source_8</td>\n",
       "      <td>J1</td>\n",
       "      <td>A1170405</td>\n",
       "      <td>B22</td>\n",
       "      <td>JCP2022_000002</td>\n",
       "      <td>-2058530355611931119</td>\n",
       "      <td>1</td>\n",
       "      <td>AAAJHRMBUHXWLD-UHFFFAOYSA-N</td>\n",
       "      <td>InChI=1S/C11H13ClN2O/c12-10-4-2-9(3-5-10)8-14-...</td>\n",
       "      <td>OC1=NCCCN1Cc2ccc(Cl)cc2</td>\n",
       "      <td>35.83</td>\n",
       "      <td>3.578786</td>\n",
       "      <td>1.554247</td>\n",
       "      <td>0</td>\n",
       "    </tr>\n",
       "  </tbody>\n",
       "</table>\n",
       "</div>"
      ],
      "text/plain": [
       "       Metadata_Source                  Metadata_Batch     Metadata_Plate Metadata_Well Metadata_JCP2022        Metadata_Hash  \\\n",
       "763156       source_10      2021_06_22_U2OS_48_hr_run8  Dest210622-144945           C07   JCP2022_000001 -8640665944756343816   \n",
       "763158        source_6  p210928CPU2OS48hw384exp030JUMP       110000296383           B15   JCP2022_000001 -8640665944756343816   \n",
       "763155        source_1                 Batch5_20221030           UL001783           C29   JCP2022_000001 -8640665944756343816   \n",
       "627800       source_10     2021_08_03_U2OS_48_hr_run12  Dest210726-163143           D21   JCP2022_000002 -2058530355611931119   \n",
       "627802        source_8                              J1           A1170405           B22   JCP2022_000002 -2058530355611931119   \n",
       "\n",
       "        Metadata_Bin            Metadata_InChIKey                                     Metadata_InChI  \\\n",
       "763156             4  AAAHWCWPZPSPIW-UHFFFAOYSA-N  InChI=1S/C25H31N5O2/c1-4-23-26-14-16-30(23)24-...   \n",
       "763158             4  AAAHWCWPZPSPIW-UHFFFAOYSA-N  InChI=1S/C25H31N5O2/c1-4-23-26-14-16-30(23)24-...   \n",
       "763155             4  AAAHWCWPZPSPIW-UHFFFAOYSA-N  InChI=1S/C25H31N5O2/c1-4-23-26-14-16-30(23)24-...   \n",
       "627800             1  AAAJHRMBUHXWLD-UHFFFAOYSA-N  InChI=1S/C11H13ClN2O/c12-10-4-2-9(3-5-10)8-14-...   \n",
       "627802             1  AAAJHRMBUHXWLD-UHFFFAOYSA-N  InChI=1S/C11H13ClN2O/c12-10-4-2-9(3-5-10)8-14-...   \n",
       "\n",
       "                                          Metadata_Smiles  Metadata_TPSA  Metadata_lnTPSA  Metadata_log10TPSA  Metadata_Permiation  \n",
       "763156  CCC1=NC=CN1c2cccc(n2)C3CCCN3C(=O)c4ccc(cc4)OCC...          63.49         4.150882            1.802705                    0  \n",
       "763158  CCC1=NC=CN1c2cccc(n2)C3CCCN3C(=O)c4ccc(cc4)OCC...          63.49         4.150882            1.802705                    0  \n",
       "763155  CCC1=NC=CN1c2cccc(n2)C3CCCN3C(=O)c4ccc(cc4)OCC...          63.49         4.150882            1.802705                    0  \n",
       "627800                            OC1=NCCCN1Cc2ccc(Cl)cc2          35.83         3.578786            1.554247                    0  \n",
       "627802                            OC1=NCCCN1Cc2ccc(Cl)cc2          35.83         3.578786            1.554247                    0  "
      ]
     },
     "execution_count": 51,
     "metadata": {},
     "output_type": "execute_result"
    }
   ],
   "source": [
    "sample.info()\n",
    "sample.head()"
   ]
  },
  {
   "cell_type": "code",
   "execution_count": 53,
   "id": "f065cd89-519c-4c7e-a3e5-73c082e32023",
   "metadata": {
    "execution": {
     "iopub.execute_input": "2024-02-26T11:24:56.454788Z",
     "iopub.status.busy": "2024-02-26T11:24:56.454360Z",
     "iopub.status.idle": "2024-02-26T11:24:56.638833Z",
     "shell.execute_reply": "2024-02-26T11:24:56.638099Z",
     "shell.execute_reply.started": "2024-02-26T11:24:56.454746Z"
    }
   },
   "outputs": [
    {
     "name": "stdout",
     "output_type": "stream",
     "text": [
      "<class 'pandas.core.frame.DataFrame'>\n",
      "RangeIndex: 346542 entries, 0 to 346541\n",
      "Data columns (total 14 columns):\n",
      " #   Column               Non-Null Count   Dtype  \n",
      "---  ------               --------------   -----  \n",
      " 0   Metadata_Source      346542 non-null  object \n",
      " 1   Metadata_Batch       346542 non-null  object \n",
      " 2   Metadata_Plate       346542 non-null  object \n",
      " 3   Metadata_Well        346542 non-null  object \n",
      " 4   Metadata_JCP2022     346542 non-null  object \n",
      " 5   Metadata_Hash        346542 non-null  int64  \n",
      " 6   Metadata_Bin         346542 non-null  int64  \n",
      " 7   Metadata_InChIKey    346542 non-null  object \n",
      " 8   Metadata_InChI       346542 non-null  object \n",
      " 9   Metadata_Smiles      346542 non-null  object \n",
      " 10  Metadata_TPSA        346542 non-null  float64\n",
      " 11  Metadata_lnTPSA      346542 non-null  float64\n",
      " 12  Metadata_log10TPSA   346542 non-null  float64\n",
      " 13  Metadata_Permiation  346542 non-null  int64  \n",
      "dtypes: float64(3), int64(3), object(8)\n",
      "memory usage: 37.0+ MB\n"
     ]
    },
    {
     "data": {
      "text/html": [
       "<div>\n",
       "<style scoped>\n",
       "    .dataframe tbody tr th:only-of-type {\n",
       "        vertical-align: middle;\n",
       "    }\n",
       "\n",
       "    .dataframe tbody tr th {\n",
       "        vertical-align: top;\n",
       "    }\n",
       "\n",
       "    .dataframe thead th {\n",
       "        text-align: right;\n",
       "    }\n",
       "</style>\n",
       "<table border=\"1\" class=\"dataframe\">\n",
       "  <thead>\n",
       "    <tr style=\"text-align: right;\">\n",
       "      <th></th>\n",
       "      <th>Metadata_Source</th>\n",
       "      <th>Metadata_Batch</th>\n",
       "      <th>Metadata_Plate</th>\n",
       "      <th>Metadata_Well</th>\n",
       "      <th>Metadata_JCP2022</th>\n",
       "      <th>Metadata_Hash</th>\n",
       "      <th>Metadata_Bin</th>\n",
       "      <th>Metadata_InChIKey</th>\n",
       "      <th>Metadata_InChI</th>\n",
       "      <th>Metadata_Smiles</th>\n",
       "      <th>Metadata_TPSA</th>\n",
       "      <th>Metadata_lnTPSA</th>\n",
       "      <th>Metadata_log10TPSA</th>\n",
       "      <th>Metadata_Permiation</th>\n",
       "    </tr>\n",
       "  </thead>\n",
       "  <tbody>\n",
       "    <tr>\n",
       "      <th>0</th>\n",
       "      <td>source_10</td>\n",
       "      <td>2021_06_22_U2OS_48_hr_run8</td>\n",
       "      <td>Dest210622-144945</td>\n",
       "      <td>C07</td>\n",
       "      <td>JCP2022_000001</td>\n",
       "      <td>-8640665944756343816</td>\n",
       "      <td>4</td>\n",
       "      <td>AAAHWCWPZPSPIW-UHFFFAOYSA-N</td>\n",
       "      <td>InChI=1S/C25H31N5O2/c1-4-23-26-14-16-30(23)24-...</td>\n",
       "      <td>CCC1=NC=CN1c2cccc(n2)C3CCCN3C(=O)c4ccc(cc4)OCC...</td>\n",
       "      <td>63.49</td>\n",
       "      <td>4.150882</td>\n",
       "      <td>1.802705</td>\n",
       "      <td>0</td>\n",
       "    </tr>\n",
       "    <tr>\n",
       "      <th>1</th>\n",
       "      <td>source_6</td>\n",
       "      <td>p210928CPU2OS48hw384exp030JUMP</td>\n",
       "      <td>110000296383</td>\n",
       "      <td>B15</td>\n",
       "      <td>JCP2022_000001</td>\n",
       "      <td>-8640665944756343816</td>\n",
       "      <td>4</td>\n",
       "      <td>AAAHWCWPZPSPIW-UHFFFAOYSA-N</td>\n",
       "      <td>InChI=1S/C25H31N5O2/c1-4-23-26-14-16-30(23)24-...</td>\n",
       "      <td>CCC1=NC=CN1c2cccc(n2)C3CCCN3C(=O)c4ccc(cc4)OCC...</td>\n",
       "      <td>63.49</td>\n",
       "      <td>4.150882</td>\n",
       "      <td>1.802705</td>\n",
       "      <td>0</td>\n",
       "    </tr>\n",
       "    <tr>\n",
       "      <th>2</th>\n",
       "      <td>source_1</td>\n",
       "      <td>Batch5_20221030</td>\n",
       "      <td>UL001783</td>\n",
       "      <td>C29</td>\n",
       "      <td>JCP2022_000001</td>\n",
       "      <td>-8640665944756343816</td>\n",
       "      <td>4</td>\n",
       "      <td>AAAHWCWPZPSPIW-UHFFFAOYSA-N</td>\n",
       "      <td>InChI=1S/C25H31N5O2/c1-4-23-26-14-16-30(23)24-...</td>\n",
       "      <td>CCC1=NC=CN1c2cccc(n2)C3CCCN3C(=O)c4ccc(cc4)OCC...</td>\n",
       "      <td>63.49</td>\n",
       "      <td>4.150882</td>\n",
       "      <td>1.802705</td>\n",
       "      <td>0</td>\n",
       "    </tr>\n",
       "    <tr>\n",
       "      <th>3</th>\n",
       "      <td>source_10</td>\n",
       "      <td>2021_08_03_U2OS_48_hr_run12</td>\n",
       "      <td>Dest210726-163143</td>\n",
       "      <td>D21</td>\n",
       "      <td>JCP2022_000002</td>\n",
       "      <td>-2058530355611931119</td>\n",
       "      <td>1</td>\n",
       "      <td>AAAJHRMBUHXWLD-UHFFFAOYSA-N</td>\n",
       "      <td>InChI=1S/C11H13ClN2O/c12-10-4-2-9(3-5-10)8-14-...</td>\n",
       "      <td>OC1=NCCCN1Cc2ccc(Cl)cc2</td>\n",
       "      <td>35.83</td>\n",
       "      <td>3.578786</td>\n",
       "      <td>1.554247</td>\n",
       "      <td>0</td>\n",
       "    </tr>\n",
       "    <tr>\n",
       "      <th>4</th>\n",
       "      <td>source_8</td>\n",
       "      <td>J1</td>\n",
       "      <td>A1170405</td>\n",
       "      <td>B22</td>\n",
       "      <td>JCP2022_000002</td>\n",
       "      <td>-2058530355611931119</td>\n",
       "      <td>1</td>\n",
       "      <td>AAAJHRMBUHXWLD-UHFFFAOYSA-N</td>\n",
       "      <td>InChI=1S/C11H13ClN2O/c12-10-4-2-9(3-5-10)8-14-...</td>\n",
       "      <td>OC1=NCCCN1Cc2ccc(Cl)cc2</td>\n",
       "      <td>35.83</td>\n",
       "      <td>3.578786</td>\n",
       "      <td>1.554247</td>\n",
       "      <td>0</td>\n",
       "    </tr>\n",
       "  </tbody>\n",
       "</table>\n",
       "</div>"
      ],
      "text/plain": [
       "  Metadata_Source                  Metadata_Batch     Metadata_Plate Metadata_Well Metadata_JCP2022        Metadata_Hash  \\\n",
       "0       source_10      2021_06_22_U2OS_48_hr_run8  Dest210622-144945           C07   JCP2022_000001 -8640665944756343816   \n",
       "1        source_6  p210928CPU2OS48hw384exp030JUMP       110000296383           B15   JCP2022_000001 -8640665944756343816   \n",
       "2        source_1                 Batch5_20221030           UL001783           C29   JCP2022_000001 -8640665944756343816   \n",
       "3       source_10     2021_08_03_U2OS_48_hr_run12  Dest210726-163143           D21   JCP2022_000002 -2058530355611931119   \n",
       "4        source_8                              J1           A1170405           B22   JCP2022_000002 -2058530355611931119   \n",
       "\n",
       "   Metadata_Bin            Metadata_InChIKey                                     Metadata_InChI  \\\n",
       "0             4  AAAHWCWPZPSPIW-UHFFFAOYSA-N  InChI=1S/C25H31N5O2/c1-4-23-26-14-16-30(23)24-...   \n",
       "1             4  AAAHWCWPZPSPIW-UHFFFAOYSA-N  InChI=1S/C25H31N5O2/c1-4-23-26-14-16-30(23)24-...   \n",
       "2             4  AAAHWCWPZPSPIW-UHFFFAOYSA-N  InChI=1S/C25H31N5O2/c1-4-23-26-14-16-30(23)24-...   \n",
       "3             1  AAAJHRMBUHXWLD-UHFFFAOYSA-N  InChI=1S/C11H13ClN2O/c12-10-4-2-9(3-5-10)8-14-...   \n",
       "4             1  AAAJHRMBUHXWLD-UHFFFAOYSA-N  InChI=1S/C11H13ClN2O/c12-10-4-2-9(3-5-10)8-14-...   \n",
       "\n",
       "                                     Metadata_Smiles  Metadata_TPSA  Metadata_lnTPSA  Metadata_log10TPSA  Metadata_Permiation  \n",
       "0  CCC1=NC=CN1c2cccc(n2)C3CCCN3C(=O)c4ccc(cc4)OCC...          63.49         4.150882            1.802705                    0  \n",
       "1  CCC1=NC=CN1c2cccc(n2)C3CCCN3C(=O)c4ccc(cc4)OCC...          63.49         4.150882            1.802705                    0  \n",
       "2  CCC1=NC=CN1c2cccc(n2)C3CCCN3C(=O)c4ccc(cc4)OCC...          63.49         4.150882            1.802705                    0  \n",
       "3                            OC1=NCCCN1Cc2ccc(Cl)cc2          35.83         3.578786            1.554247                    0  \n",
       "4                            OC1=NCCCN1Cc2ccc(Cl)cc2          35.83         3.578786            1.554247                    0  "
      ]
     },
     "execution_count": 53,
     "metadata": {},
     "output_type": "execute_result"
    }
   ],
   "source": [
    "sample.reset_index(drop=True, inplace=True)\n",
    "sample.info()\n",
    "sample.head()"
   ]
  },
  {
   "cell_type": "markdown",
   "id": "f9bfd730-0907-4df7-9fa0-4361f51765ea",
   "metadata": {},
   "source": [
    "### Write sample file to disk"
   ]
  },
  {
   "cell_type": "code",
   "execution_count": 55,
   "id": "d44fbb44-7b00-4f16-afd1-b2d7ebfef32f",
   "metadata": {
    "execution": {
     "iopub.execute_input": "2024-02-26T11:25:26.833522Z",
     "iopub.status.busy": "2024-02-26T11:25:26.832957Z",
     "iopub.status.idle": "2024-02-26T11:25:26.858606Z",
     "shell.execute_reply": "2024-02-26T11:25:26.857922Z",
     "shell.execute_reply.started": "2024-02-26T11:25:26.833478Z"
    }
   },
   "outputs": [
    {
     "name": "stdout",
     "output_type": "stream",
     "text": [
      "CompoundExtendedMetadata3SampleFile\n",
      "./output_11102023/compound_extended_metadata_3samples.csv\n"
     ]
    }
   ],
   "source": [
    "print(outputFile)\n",
    "print(eval(outputFile))\n",
    "# print(f\" compound Extended Metadata Sample File  : {CompoundExtendedMetadata5SampleFile}\\n\")\n",
    "# print(f\" compound Extended Metadata Sample File  : {CompoundExtendedMetadata2SampleFile}\\n\")"
   ]
  },
  {
   "cell_type": "code",
   "execution_count": 56,
   "id": "648984f0-3b42-4b65-9b25-51560499fba1",
   "metadata": {
    "execution": {
     "iopub.execute_input": "2024-02-26T11:25:48.940188Z",
     "iopub.status.busy": "2024-02-26T11:25:48.939774Z",
     "iopub.status.idle": "2024-02-26T11:25:53.157203Z",
     "shell.execute_reply": "2024-02-26T11:25:53.156022Z",
     "shell.execute_reply.started": "2024-02-26T11:25:48.940147Z"
    }
   },
   "outputs": [],
   "source": [
    "sample.to_csv(eval(outputFile), index = False)"
   ]
  },
  {
   "cell_type": "markdown",
   "id": "3728188f-8366-42e0-91e3-17dddb54f200",
   "metadata": {},
   "source": [
    "## Convert BIN to Hash % 16"
   ]
  },
  {
   "cell_type": "code",
   "execution_count": 12,
   "id": "9285adcc-86f5-460c-9ce8-8241ff1f369e",
   "metadata": {
    "execution": {
     "iopub.execute_input": "2024-02-26T17:20:45.971900Z",
     "iopub.status.busy": "2024-02-26T17:20:45.971490Z",
     "iopub.status.idle": "2024-02-26T17:20:45.995447Z",
     "shell.execute_reply": "2024-02-26T17:20:45.994908Z",
     "shell.execute_reply.started": "2024-02-26T17:20:45.971861Z"
    }
   },
   "outputs": [
    {
     "data": {
      "text/plain": [
       "'./output_11102023/compound_extended_metadata_3samples.csv'"
      ]
     },
     "execution_count": 12,
     "metadata": {},
     "output_type": "execute_result"
    },
    {
     "name": "stdout",
     "output_type": "stream",
     "text": [
      "CompoundExtendedMetadata3SampleFile\n"
     ]
    },
    {
     "data": {
      "text/plain": [
       "'./output_11102023/compound_extended_metadata_3samples.csv'"
      ]
     },
     "execution_count": 12,
     "metadata": {},
     "output_type": "execute_result"
    }
   ],
   "source": [
    "NO_OF_SAMPLES = 3\n",
    "CompoundExtendedMetadata3SampleFile\n",
    "inputFile =  f\"CompoundExtendedMetadata{NO_OF_SAMPLES:1d}SampleFile\"\n",
    "outputFile = f\"CompoundExtendedMetadata{NO_OF_SAMPLES:1d}SampleFile\"\n",
    "print(outputFile)\n",
    "eval(outputFile)"
   ]
  },
  {
   "cell_type": "code",
   "execution_count": 13,
   "id": "e9ccaafa-2032-4dcf-9896-90e7529d0a28",
   "metadata": {
    "execution": {
     "iopub.execute_input": "2024-02-26T17:21:46.909169Z",
     "iopub.status.busy": "2024-02-26T17:21:46.908756Z",
     "iopub.status.idle": "2024-02-26T17:21:48.117863Z",
     "shell.execute_reply": "2024-02-26T17:21:48.116862Z",
     "shell.execute_reply.started": "2024-02-26T17:21:46.909130Z"
    }
   },
   "outputs": [],
   "source": [
    "df =  pd.read_csv(CompoundExtendedMetadata3SampleFile)"
   ]
  },
  {
   "cell_type": "code",
   "execution_count": 24,
   "id": "26079e82-230a-4b39-86f7-d99b92e0a334",
   "metadata": {
    "execution": {
     "iopub.execute_input": "2024-02-26T17:25:00.394405Z",
     "iopub.status.busy": "2024-02-26T17:25:00.393957Z",
     "iopub.status.idle": "2024-02-26T17:25:00.424623Z",
     "shell.execute_reply": "2024-02-26T17:25:00.423647Z",
     "shell.execute_reply.started": "2024-02-26T17:25:00.394366Z"
    }
   },
   "outputs": [
    {
     "data": {
      "text/plain": [
       "Metadata_Bin\n",
       "12    22014\n",
       "15    21927\n",
       "7     21834\n",
       "2     21804\n",
       "10    21783\n",
       "0     21780\n",
       "4     21756\n",
       "3     21714\n",
       "13    21654\n",
       "11    21645\n",
       "14    21633\n",
       "9     21606\n",
       "1     21435\n",
       "6     21351\n",
       "5     21315\n",
       "8     21291\n",
       "Name: count, dtype: int64"
      ]
     },
     "execution_count": 24,
     "metadata": {},
     "output_type": "execute_result"
    }
   ],
   "source": [
    "# df.info()\n",
    "# df.head()\n",
    "df.Metadata_Bin.value_counts()"
   ]
  },
  {
   "cell_type": "code",
   "execution_count": 19,
   "id": "8845d238-0bc3-4190-ba25-10727648cf89",
   "metadata": {
    "execution": {
     "iopub.execute_input": "2024-02-26T17:23:22.999439Z",
     "iopub.status.busy": "2024-02-26T17:23:22.999020Z",
     "iopub.status.idle": "2024-02-26T17:23:23.170536Z",
     "shell.execute_reply": "2024-02-26T17:23:23.169965Z",
     "shell.execute_reply.started": "2024-02-26T17:23:22.999398Z"
    }
   },
   "outputs": [],
   "source": [
    "from operator import  mod\n",
    "df['Metadata_Bin'] = df['Metadata_Hash'].map(lambda x: mod(x,16))"
   ]
  },
  {
   "cell_type": "code",
   "execution_count": 20,
   "id": "46cecbca-e6f0-4a61-b7c3-9eeaa9a2a96e",
   "metadata": {
    "execution": {
     "iopub.execute_input": "2024-02-26T17:23:32.381088Z",
     "iopub.status.busy": "2024-02-26T17:23:32.380618Z",
     "iopub.status.idle": "2024-02-26T17:23:32.408887Z",
     "shell.execute_reply": "2024-02-26T17:23:32.408358Z",
     "shell.execute_reply.started": "2024-02-26T17:23:32.381046Z"
    }
   },
   "outputs": [
    {
     "data": {
      "text/plain": [
       "Metadata_Bin\n",
       "12    22014\n",
       "15    21927\n",
       "7     21834\n",
       "2     21804\n",
       "10    21783\n",
       "0     21780\n",
       "4     21756\n",
       "3     21714\n",
       "13    21654\n",
       "11    21645\n",
       "14    21633\n",
       "9     21606\n",
       "1     21435\n",
       "6     21351\n",
       "5     21315\n",
       "8     21291\n",
       "Name: count, dtype: int64"
      ]
     },
     "execution_count": 20,
     "metadata": {},
     "output_type": "execute_result"
    }
   ],
   "source": [
    "df.Metadata_Bin.value_counts()"
   ]
  },
  {
   "cell_type": "code",
   "execution_count": 21,
   "id": "2b764fda-3ec2-4118-8bee-99ea32886955",
   "metadata": {
    "execution": {
     "iopub.execute_input": "2024-02-26T17:24:01.189788Z",
     "iopub.status.busy": "2024-02-26T17:24:01.189378Z",
     "iopub.status.idle": "2024-02-26T17:24:01.213072Z",
     "shell.execute_reply": "2024-02-26T17:24:01.212422Z",
     "shell.execute_reply.started": "2024-02-26T17:24:01.189749Z"
    }
   },
   "outputs": [
    {
     "data": {
      "text/plain": [
       "'CompoundExtendedMetadata3SampleFile'"
      ]
     },
     "execution_count": 21,
     "metadata": {},
     "output_type": "execute_result"
    }
   ],
   "source": [
    "outputFile"
   ]
  },
  {
   "cell_type": "code",
   "execution_count": 23,
   "id": "31f321fd-771b-4bdd-89e3-5df97b3bc5df",
   "metadata": {
    "execution": {
     "iopub.execute_input": "2024-02-26T17:24:36.630303Z",
     "iopub.status.busy": "2024-02-26T17:24:36.629816Z",
     "iopub.status.idle": "2024-02-26T17:24:40.235767Z",
     "shell.execute_reply": "2024-02-26T17:24:40.234905Z",
     "shell.execute_reply.started": "2024-02-26T17:24:36.630258Z"
    }
   },
   "outputs": [],
   "source": [
    "df.to_csv(eval(outputFile), index = False)"
   ]
  },
  {
   "cell_type": "markdown",
   "id": "37ea245a-ae82-4673-bdbc-bfcb07939519",
   "metadata": {
    "jp-MarkdownHeadingCollapsed": true
   },
   "source": [
    "# Explore Compounds w/ high count on the Extended Metadata file"
   ]
  },
  {
   "cell_type": "code",
   "execution_count": 2,
   "id": "df4e7c11-364a-406b-958b-6367698502c9",
   "metadata": {
    "execution": {
     "iopub.execute_input": "2024-04-25T08:40:22.215228Z",
     "iopub.status.busy": "2024-04-25T08:40:22.214752Z",
     "iopub.status.idle": "2024-04-25T08:40:22.235564Z",
     "shell.execute_reply": "2024-04-25T08:40:22.234861Z",
     "shell.execute_reply.started": "2024-04-25T08:40:22.215185Z"
    }
   },
   "outputs": [
    {
     "ename": "NameError",
     "evalue": "name 'pd' is not defined",
     "output_type": "error",
     "traceback": [
      "\u001b[0;31m---------------------------------------------------------------------------\u001b[0m",
      "\u001b[0;31mNameError\u001b[0m                                 Traceback (most recent call last)",
      "Cell \u001b[0;32mIn[2], line 1\u001b[0m\n\u001b[0;32m----> 1\u001b[0m joined_metadata \u001b[38;5;241m=\u001b[39m \u001b[43mpd\u001b[49m\u001b[38;5;241m.\u001b[39mread_csv(CompoundExtendedMetadataFile)\n\u001b[1;32m      2\u001b[0m joined_metadata\u001b[38;5;241m.\u001b[39minfo()\n\u001b[1;32m      3\u001b[0m joined_metadata\u001b[38;5;241m.\u001b[39mhead()\n",
      "\u001b[0;31mNameError\u001b[0m: name 'pd' is not defined"
     ]
    }
   ],
   "source": [
    "joined_metadata = pd.read_csv(CompoundExtendedMetadataFile)\n",
    "joined_metadata.info()\n",
    "joined_metadata.head()\n",
    "joined_metadata.tail()"
   ]
  },
  {
   "cell_type": "code",
   "execution_count": 3,
   "id": "dae7b5e9-8055-4a3f-a9bd-34d0a4402ff8",
   "metadata": {
    "execution": {
     "iopub.execute_input": "2024-04-25T08:40:22.425525Z",
     "iopub.status.busy": "2024-04-25T08:40:22.425264Z",
     "iopub.status.idle": "2024-04-25T08:40:22.439784Z",
     "shell.execute_reply": "2024-04-25T08:40:22.439010Z",
     "shell.execute_reply.started": "2024-04-25T08:40:22.425503Z"
    }
   },
   "outputs": [
    {
     "ename": "NameError",
     "evalue": "name 'df_compounds' is not defined",
     "output_type": "error",
     "traceback": [
      "\u001b[0;31m---------------------------------------------------------------------------\u001b[0m",
      "\u001b[0;31mNameError\u001b[0m                                 Traceback (most recent call last)",
      "Cell \u001b[0;32mIn[3], line 2\u001b[0m\n\u001b[1;32m      1\u001b[0m \u001b[38;5;66;03m# df_compounds_indexed = pd.read_csv(CompoundExtendedMetadataMoreThan3File)\u001b[39;00m\n\u001b[0;32m----> 2\u001b[0m df_compounds_indexed \u001b[38;5;241m=\u001b[39m \u001b[43mdf_compounds\u001b[49m\u001b[38;5;241m.\u001b[39mcopy()\n",
      "\u001b[0;31mNameError\u001b[0m: name 'df_compounds' is not defined"
     ]
    }
   ],
   "source": [
    "\n",
    "# df_compounds_indexed = pd.read_csv(CompoundExtendedMetadataMoreThan3File)\n",
    "df_compounds_indexed = df_compounds.copy()"
   ]
  },
  {
   "cell_type": "code",
   "execution_count": 4,
   "id": "7e34d814-6659-4860-a31c-cb0c243eded4",
   "metadata": {
    "execution": {
     "iopub.execute_input": "2024-04-25T08:40:22.757992Z",
     "iopub.status.busy": "2024-04-25T08:40:22.757552Z",
     "iopub.status.idle": "2024-04-25T08:40:22.778974Z",
     "shell.execute_reply": "2024-04-25T08:40:22.778227Z",
     "shell.execute_reply.started": "2024-04-25T08:40:22.757951Z"
    }
   },
   "outputs": [
    {
     "ename": "NameError",
     "evalue": "name 'df_compounds_indexed' is not defined",
     "output_type": "error",
     "traceback": [
      "\u001b[0;31m---------------------------------------------------------------------------\u001b[0m",
      "\u001b[0;31mNameError\u001b[0m                                 Traceback (most recent call last)",
      "Cell \u001b[0;32mIn[4], line 1\u001b[0m\n\u001b[0;32m----> 1\u001b[0m \u001b[43mdf_compounds_indexed\u001b[49m\u001b[38;5;241m.\u001b[39minfo()\n\u001b[1;32m      2\u001b[0m df_compounds_indexed\u001b[38;5;241m.\u001b[39mset_index(\u001b[38;5;124m\"\u001b[39m\u001b[38;5;124mMetadata_JCP2022\u001b[39m\u001b[38;5;124m\"\u001b[39m, drop \u001b[38;5;241m=\u001b[39m \u001b[38;5;28;01mFalse\u001b[39;00m, inplace \u001b[38;5;241m=\u001b[39m \u001b[38;5;28;01mTrue\u001b[39;00m)\n\u001b[1;32m      3\u001b[0m df_compounds_indexed\u001b[38;5;241m.\u001b[39mhead()\n",
      "\u001b[0;31mNameError\u001b[0m: name 'df_compounds_indexed' is not defined"
     ]
    }
   ],
   "source": [
    "df_compounds_indexed.info()\n",
    "df_compounds_indexed.set_index(\"Metadata_JCP2022\", drop = False, inplace = True)\n",
    "df_compounds_indexed.head()\n",
    "df_compounds_indexed.tail()"
   ]
  },
  {
   "cell_type": "code",
   "execution_count": 62,
   "id": "b07c5ea6-5a34-4751-a8de-b5f622d49e6d",
   "metadata": {
    "execution": {
     "iopub.execute_input": "2024-01-26T12:11:39.902504Z",
     "iopub.status.busy": "2024-01-26T12:11:39.902036Z",
     "iopub.status.idle": "2024-01-26T12:11:40.044604Z",
     "shell.execute_reply": "2024-01-26T12:11:40.043708Z",
     "shell.execute_reply.started": "2024-01-26T12:11:39.902465Z"
    }
   },
   "outputs": [
    {
     "data": {
      "text/plain": [
       "Metadata_JCP2022\n",
       "JCP2022_033924    88583\n",
       "JCP2022_037716     8138\n",
       "JCP2022_064022     8130\n",
       "JCP2022_050797     8127\n",
       "JCP2022_025848     8127\n",
       "                  ...  \n",
       "JCP2022_092664        2\n",
       "JCP2022_072270        2\n",
       "JCP2022_082707        2\n",
       "JCP2022_028647        2\n",
       "JCP2022_090832        1\n",
       "Name: count, Length: 115671, dtype: int64"
      ]
     },
     "execution_count": 62,
     "metadata": {},
     "output_type": "execute_result"
    }
   ],
   "source": [
    "compound_counts = joined_metadata['Metadata_JCP2022'].value_counts()\n",
    "compound_counts"
   ]
  },
  {
   "cell_type": "code",
   "execution_count": 63,
   "id": "921b002e-3ca4-4a25-b831-a5322ad77da4",
   "metadata": {
    "execution": {
     "iopub.execute_input": "2024-01-26T12:11:51.391164Z",
     "iopub.status.busy": "2024-01-26T12:11:51.390656Z",
     "iopub.status.idle": "2024-01-26T12:11:51.425698Z",
     "shell.execute_reply": "2024-01-26T12:11:51.424711Z",
     "shell.execute_reply.started": "2024-01-26T12:11:51.391123Z"
    }
   },
   "outputs": [
    {
     "name": "stdout",
     "output_type": "stream",
     "text": [
      "<class 'pandas.core.series.Series'>\n",
      "Index: 115671 entries, JCP2022_033924 to JCP2022_090832\n",
      "Series name: count\n",
      "Non-Null Count   Dtype\n",
      "--------------   -----\n",
      "115671 non-null  int64\n",
      "dtypes: int64(1)\n",
      "memory usage: 5.8+ MB\n"
     ]
    },
    {
     "data": {
      "text/plain": [
       "115671"
      ]
     },
     "execution_count": 63,
     "metadata": {},
     "output_type": "execute_result"
    },
    {
     "data": {
      "text/plain": [
       "Metadata_JCP2022\n",
       "JCP2022_033924    88583\n",
       "JCP2022_037716     8138\n",
       "JCP2022_064022     8130\n",
       "JCP2022_050797     8127\n",
       "JCP2022_025848     8127\n",
       "JCP2022_046054     8122\n",
       "JCP2022_012818     8111\n",
       "JCP2022_085227     7707\n",
       "JCP2022_035095     6550\n",
       "JCP2022_033954     1594\n",
       "JCP2022_101934       58\n",
       "JCP2022_109350       49\n",
       "JCP2022_018628       47\n",
       "JCP2022_050997       43\n",
       "JCP2022_072565       41\n",
       "JCP2022_029611       39\n",
       "JCP2022_029868       37\n",
       "JCP2022_067216       35\n",
       "JCP2022_061774       35\n",
       "JCP2022_019441       34\n",
       "JCP2022_062326       34\n",
       "JCP2022_072343       34\n",
       "JCP2022_059004       34\n",
       "JCP2022_019585       33\n",
       "JCP2022_095595       33\n",
       "JCP2022_003104       32\n",
       "JCP2022_083372       32\n",
       "JCP2022_028032       32\n",
       "JCP2022_006452       32\n",
       "JCP2022_025420       31\n",
       "Name: count, dtype: int64"
      ]
     },
     "execution_count": 63,
     "metadata": {},
     "output_type": "execute_result"
    }
   ],
   "source": [
    "compound_counts.info()\n",
    "len(compound_counts)\n",
    "compound_counts[:30]\n",
    "# df_pwc['Metadata_JCP2022'].unique().shape[0]\n",
    "# del joined_metadata_indexed\n",
    "# df_compounds_indexed"
   ]
  },
  {
   "cell_type": "markdown",
   "id": "a3cd216c-655e-41d7-83d7-5a5dbe8c3386",
   "metadata": {
    "jp-MarkdownHeadingCollapsed": true
   },
   "source": [
    "## Dataframe of compounds present in more than 60 wells"
   ]
  },
  {
   "cell_type": "code",
   "execution_count": 65,
   "id": "d836abc4-26e5-45f9-8a02-168b87d27ad0",
   "metadata": {
    "execution": {
     "iopub.execute_input": "2024-01-26T12:12:12.262734Z",
     "iopub.status.busy": "2024-01-26T12:12:12.262214Z",
     "iopub.status.idle": "2024-01-26T12:12:12.316770Z",
     "shell.execute_reply": "2024-01-26T12:12:12.315763Z",
     "shell.execute_reply.started": "2024-01-26T12:12:12.262691Z"
    }
   },
   "outputs": [
    {
     "data": {
      "text/plain": [
       "Index(['JCP2022_033924', 'JCP2022_037716', 'JCP2022_064022', 'JCP2022_050797', 'JCP2022_025848', 'JCP2022_046054',\n",
       "       'JCP2022_012818', 'JCP2022_085227', 'JCP2022_035095', 'JCP2022_033954'],\n",
       "      dtype='object', name='Metadata_JCP2022')"
      ]
     },
     "execution_count": 65,
     "metadata": {},
     "output_type": "execute_result"
    },
    {
     "data": {
      "text/html": [
       "<div>\n",
       "<style scoped>\n",
       "    .dataframe tbody tr th:only-of-type {\n",
       "        vertical-align: middle;\n",
       "    }\n",
       "\n",
       "    .dataframe tbody tr th {\n",
       "        vertical-align: top;\n",
       "    }\n",
       "\n",
       "    .dataframe thead th {\n",
       "        text-align: right;\n",
       "    }\n",
       "</style>\n",
       "<table border=\"1\" class=\"dataframe\">\n",
       "  <thead>\n",
       "    <tr style=\"text-align: right;\">\n",
       "      <th></th>\n",
       "      <th>Metadata_JCP2022</th>\n",
       "      <th>Metadata_InChIKey</th>\n",
       "      <th>Metadata_InChI</th>\n",
       "      <th>smiles</th>\n",
       "      <th>TPSA</th>\n",
       "      <th>lnTPSA</th>\n",
       "      <th>log10TPSA</th>\n",
       "      <th>permiation</th>\n",
       "    </tr>\n",
       "    <tr>\n",
       "      <th>Metadata_JCP2022</th>\n",
       "      <th></th>\n",
       "      <th></th>\n",
       "      <th></th>\n",
       "      <th></th>\n",
       "      <th></th>\n",
       "      <th></th>\n",
       "      <th></th>\n",
       "      <th></th>\n",
       "    </tr>\n",
       "  </thead>\n",
       "  <tbody>\n",
       "    <tr>\n",
       "      <th>JCP2022_033924</th>\n",
       "      <td>JCP2022_033924</td>\n",
       "      <td>IAZDPXIOMUYVGZ-UHFFFAOYSA-N</td>\n",
       "      <td>InChI=1S/C2H6OS/c1-4(2)3/h1-2H3</td>\n",
       "      <td>CS(C)=O</td>\n",
       "      <td>17.07</td>\n",
       "      <td>2.837323</td>\n",
       "      <td>1.232234</td>\n",
       "      <td>0</td>\n",
       "    </tr>\n",
       "    <tr>\n",
       "      <th>JCP2022_037716</th>\n",
       "      <td>JCP2022_037716</td>\n",
       "      <td>IVUGFMLRJOCGAS-UHFFFAOYSA-N</td>\n",
       "      <td>InChI=1S/C28H21N7OS/c1-17-15-24(37-16-17)25-20...</td>\n",
       "      <td>CC1=CSC(=C1)c5nnc(Nc2ccc(cc2)Oc3ncccc3C4C=CNC(...</td>\n",
       "      <td>112.46</td>\n",
       "      <td>4.722598</td>\n",
       "      <td>2.050998</td>\n",
       "      <td>1</td>\n",
       "    </tr>\n",
       "    <tr>\n",
       "      <th>JCP2022_064022</th>\n",
       "      <td>JCP2022_064022</td>\n",
       "      <td>OINGHOPGNMYCAB-UHFFFAOYSA-N</td>\n",
       "      <td>InChI=1S/C23H25ClF3N5O/c1-13(2)28-23(33)31-8-7...</td>\n",
       "      <td>CC(C)N=C(O)N1CCC(C1)N=C3Nc2cc(F)ccc2N(CC(F)F)c...</td>\n",
       "      <td>63.46</td>\n",
       "      <td>4.150410</td>\n",
       "      <td>1.802500</td>\n",
       "      <td>0</td>\n",
       "    </tr>\n",
       "    <tr>\n",
       "      <th>JCP2022_050797</th>\n",
       "      <td>JCP2022_050797</td>\n",
       "      <td>LOUPRKONTZGTKE-UHFFFAOYSA-N</td>\n",
       "      <td>InChI=1S/C20H24N2O2/c1-3-13-12-22-9-7-14(13)10...</td>\n",
       "      <td>C=CC1CN2CCC1CC2C(O)c3ccnc4ccc(cc34)OC</td>\n",
       "      <td>45.59</td>\n",
       "      <td>3.819688</td>\n",
       "      <td>1.658870</td>\n",
       "      <td>0</td>\n",
       "    </tr>\n",
       "    <tr>\n",
       "      <th>JCP2022_025848</th>\n",
       "      <td>JCP2022_025848</td>\n",
       "      <td>GJFCONYVAUNLKB-UHFFFAOYSA-N</td>\n",
       "      <td>InChI=1S/C22H29FO5/c1-12-8-16-15-5-4-13-9-14(2...</td>\n",
       "      <td>CC4CC3C2CC=C1CC(=O)C=CC1(C)C2(F)C(O)CC3(C)C4(O...</td>\n",
       "      <td>94.83</td>\n",
       "      <td>4.552086</td>\n",
       "      <td>1.976946</td>\n",
       "      <td>0</td>\n",
       "    </tr>\n",
       "    <tr>\n",
       "      <th>JCP2022_046054</th>\n",
       "      <td>JCP2022_046054</td>\n",
       "      <td>KPBNHDGDUADAGP-UHFFFAOYSA-N</td>\n",
       "      <td>InChI=1S/C24H29N3O2/c28-23(12-11-21-8-6-15-25-...</td>\n",
       "      <td>OC(C=Cc1cccnc1)=NCCCCC2CCN(CC2)C(=O)c3ccccc3</td>\n",
       "      <td>65.79</td>\n",
       "      <td>4.186468</td>\n",
       "      <td>1.818160</td>\n",
       "      <td>0</td>\n",
       "    </tr>\n",
       "    <tr>\n",
       "      <th>JCP2022_012818</th>\n",
       "      <td>JCP2022_012818</td>\n",
       "      <td>CQKBSRPVZZLCJE-UHFFFAOYSA-N</td>\n",
       "      <td>InChI=1S/C23H17Cl2N5O4/c1-34-23-27-11-14-8-16(...</td>\n",
       "      <td>COc4ncc3cc(C(=O)Nc1cc(ccc1Cl)C(O)=NCc2cccc(Cl)...</td>\n",
       "      <td>129.82</td>\n",
       "      <td>4.866149</td>\n",
       "      <td>2.113342</td>\n",
       "      <td>1</td>\n",
       "    </tr>\n",
       "    <tr>\n",
       "      <th>JCP2022_085227</th>\n",
       "      <td>JCP2022_085227</td>\n",
       "      <td>SRVFFFJZQVENJC-UHFFFAOYSA-N</td>\n",
       "      <td>InChI=1S/C17H30N2O5/c1-6-23-17(22)14-13(24-14)...</td>\n",
       "      <td>CCOC(=O)C1OC1C(O)=NC(CC(C)C)C(O)=NCCC(C)C</td>\n",
       "      <td>104.01</td>\n",
       "      <td>4.644487</td>\n",
       "      <td>2.017075</td>\n",
       "      <td>1</td>\n",
       "    </tr>\n",
       "    <tr>\n",
       "      <th>JCP2022_035095</th>\n",
       "      <td>JCP2022_035095</td>\n",
       "      <td>IHLVSLOZUHKNMQ-UHFFFAOYSA-N</td>\n",
       "      <td>InChI=1S/C26H27N5O2/c1-2-9-27-22(4-1)26-25(24-...</td>\n",
       "      <td>C(CN1CCOCC1)Oc2ccc3c(c2)nccc3C5=C4CCCN4N=C5c6c...</td>\n",
       "      <td>65.30</td>\n",
       "      <td>4.178992</td>\n",
       "      <td>1.814913</td>\n",
       "      <td>0</td>\n",
       "    </tr>\n",
       "    <tr>\n",
       "      <th>JCP2022_033954</th>\n",
       "      <td>JCP2022_033954</td>\n",
       "      <td>IBCXZJCWDGCXQT-UHFFFAOYSA-N</td>\n",
       "      <td>InChI=1S/C17H12N4/c1-2-6-15-13(5-1)12(8-10-19-...</td>\n",
       "      <td>C1NN=C(C=1c2ccnc3ccccc23)c4ccccn4</td>\n",
       "      <td>54.46</td>\n",
       "      <td>3.997466</td>\n",
       "      <td>1.736078</td>\n",
       "      <td>0</td>\n",
       "    </tr>\n",
       "  </tbody>\n",
       "</table>\n",
       "</div>"
      ],
      "text/plain": [
       "                 Metadata_JCP2022            Metadata_InChIKey                                     Metadata_InChI  \\\n",
       "Metadata_JCP2022                                                                                                    \n",
       "JCP2022_033924     JCP2022_033924  IAZDPXIOMUYVGZ-UHFFFAOYSA-N                    InChI=1S/C2H6OS/c1-4(2)3/h1-2H3   \n",
       "JCP2022_037716     JCP2022_037716  IVUGFMLRJOCGAS-UHFFFAOYSA-N  InChI=1S/C28H21N7OS/c1-17-15-24(37-16-17)25-20...   \n",
       "JCP2022_064022     JCP2022_064022  OINGHOPGNMYCAB-UHFFFAOYSA-N  InChI=1S/C23H25ClF3N5O/c1-13(2)28-23(33)31-8-7...   \n",
       "JCP2022_050797     JCP2022_050797  LOUPRKONTZGTKE-UHFFFAOYSA-N  InChI=1S/C20H24N2O2/c1-3-13-12-22-9-7-14(13)10...   \n",
       "JCP2022_025848     JCP2022_025848  GJFCONYVAUNLKB-UHFFFAOYSA-N  InChI=1S/C22H29FO5/c1-12-8-16-15-5-4-13-9-14(2...   \n",
       "JCP2022_046054     JCP2022_046054  KPBNHDGDUADAGP-UHFFFAOYSA-N  InChI=1S/C24H29N3O2/c28-23(12-11-21-8-6-15-25-...   \n",
       "JCP2022_012818     JCP2022_012818  CQKBSRPVZZLCJE-UHFFFAOYSA-N  InChI=1S/C23H17Cl2N5O4/c1-34-23-27-11-14-8-16(...   \n",
       "JCP2022_085227     JCP2022_085227  SRVFFFJZQVENJC-UHFFFAOYSA-N  InChI=1S/C17H30N2O5/c1-6-23-17(22)14-13(24-14)...   \n",
       "JCP2022_035095     JCP2022_035095  IHLVSLOZUHKNMQ-UHFFFAOYSA-N  InChI=1S/C26H27N5O2/c1-2-9-27-22(4-1)26-25(24-...   \n",
       "JCP2022_033954     JCP2022_033954  IBCXZJCWDGCXQT-UHFFFAOYSA-N  InChI=1S/C17H12N4/c1-2-6-15-13(5-1)12(8-10-19-...   \n",
       "\n",
       "                                                             smiles    TPSA    lnTPSA  log10TPSA  permiation  \n",
       "Metadata_JCP2022                                                                                              \n",
       "JCP2022_033924                                              CS(C)=O   17.07  2.837323   1.232234           0  \n",
       "JCP2022_037716    CC1=CSC(=C1)c5nnc(Nc2ccc(cc2)Oc3ncccc3C4C=CNC(...  112.46  4.722598   2.050998           1  \n",
       "JCP2022_064022    CC(C)N=C(O)N1CCC(C1)N=C3Nc2cc(F)ccc2N(CC(F)F)c...   63.46  4.150410   1.802500           0  \n",
       "JCP2022_050797                C=CC1CN2CCC1CC2C(O)c3ccnc4ccc(cc34)OC   45.59  3.819688   1.658870           0  \n",
       "JCP2022_025848    CC4CC3C2CC=C1CC(=O)C=CC1(C)C2(F)C(O)CC3(C)C4(O...   94.83  4.552086   1.976946           0  \n",
       "JCP2022_046054         OC(C=Cc1cccnc1)=NCCCCC2CCN(CC2)C(=O)c3ccccc3   65.79  4.186468   1.818160           0  \n",
       "JCP2022_012818    COc4ncc3cc(C(=O)Nc1cc(ccc1Cl)C(O)=NCc2cccc(Cl)...  129.82  4.866149   2.113342           1  \n",
       "JCP2022_085227            CCOC(=O)C1OC1C(O)=NC(CC(C)C)C(O)=NCCC(C)C  104.01  4.644487   2.017075           1  \n",
       "JCP2022_035095    C(CN1CCOCC1)Oc2ccc3c(c2)nccc3C5=C4CCCN4N=C5c6c...   65.30  4.178992   1.814913           0  \n",
       "JCP2022_033954                    C1NN=C(C=1c2ccnc3ccccc23)c4ccccn4   54.46  3.997466   1.736078           0  "
      ]
     },
     "execution_count": 65,
     "metadata": {},
     "output_type": "execute_result"
    }
   ],
   "source": [
    "# counts_gt_60 = compound_counts[compound_counts>60]\n",
    "# counts_gt_60\n",
    "compound_counts[compound_counts>60].index\n",
    "counts_gt_60 = df_compounds_indexed.loc[compound_counts[compound_counts>60].index]\n",
    "counts_gt_60"
   ]
  },
  {
   "cell_type": "code",
   "execution_count": 204,
   "id": "2c835dc8-5f07-4524-8adf-2e6b139cf570",
   "metadata": {
    "execution": {
     "iopub.execute_input": "2024-01-24T14:32:20.901266Z",
     "iopub.status.busy": "2024-01-24T14:32:20.900708Z",
     "iopub.status.idle": "2024-01-24T14:32:20.927905Z",
     "shell.execute_reply": "2024-01-24T14:32:20.927043Z",
     "shell.execute_reply.started": "2024-01-24T14:32:20.901227Z"
    }
   },
   "outputs": [],
   "source": [
    "# counts_gt_60.Metadata_InChIKey"
   ]
  },
  {
   "cell_type": "markdown",
   "id": "f7888345-0de6-45d9-8a0a-29da6bfbc12b",
   "metadata": {
    "jp-MarkdownHeadingCollapsed": true
   },
   "source": [
    "## Add Molecule to dataframe"
   ]
  },
  {
   "cell_type": "code",
   "execution_count": 69,
   "id": "bae1ab35-9463-420a-8358-9ae9f27ed02f",
   "metadata": {
    "execution": {
     "iopub.execute_input": "2024-01-27T12:11:36.088842Z",
     "iopub.status.busy": "2024-01-27T12:11:36.088377Z",
     "iopub.status.idle": "2024-01-27T12:11:36.116428Z",
     "shell.execute_reply": "2024-01-27T12:11:36.115501Z",
     "shell.execute_reply.started": "2024-01-27T12:11:36.088802Z"
    }
   },
   "outputs": [
    {
     "name": "stderr",
     "output_type": "stream",
     "text": [
      "Failed to patch pandas - unable to change molecule rendering\n"
     ]
    }
   ],
   "source": [
    "PandasTools.AddMoleculeColumnToFrame(counts_gt_60,smilesCol='smiles')"
   ]
  },
  {
   "cell_type": "code",
   "execution_count": 67,
   "id": "414caef5-d122-4853-a120-646d4bcca753",
   "metadata": {
    "execution": {
     "iopub.execute_input": "2024-01-26T12:13:10.291451Z",
     "iopub.status.busy": "2024-01-26T12:13:10.290797Z",
     "iopub.status.idle": "2024-01-26T12:13:10.320852Z",
     "shell.execute_reply": "2024-01-26T12:13:10.320081Z",
     "shell.execute_reply.started": "2024-01-26T12:13:10.291407Z"
    }
   },
   "outputs": [
    {
     "data": {
      "text/html": [
       "<div>\n",
       "<style scoped>\n",
       "    .dataframe tbody tr th:only-of-type {\n",
       "        vertical-align: middle;\n",
       "    }\n",
       "\n",
       "    .dataframe tbody tr th {\n",
       "        vertical-align: top;\n",
       "    }\n",
       "\n",
       "    .dataframe thead th {\n",
       "        text-align: right;\n",
       "    }\n",
       "</style>\n",
       "<table border=\"1\" class=\"dataframe\">\n",
       "  <thead>\n",
       "    <tr style=\"text-align: right;\">\n",
       "      <th></th>\n",
       "      <th>Metadata_JCP2022</th>\n",
       "      <th>Metadata_InChIKey</th>\n",
       "      <th>Metadata_InChI</th>\n",
       "      <th>smiles</th>\n",
       "      <th>TPSA</th>\n",
       "      <th>lnTPSA</th>\n",
       "      <th>log10TPSA</th>\n",
       "      <th>permiation</th>\n",
       "      <th>ROMol</th>\n",
       "    </tr>\n",
       "    <tr>\n",
       "      <th>Metadata_JCP2022</th>\n",
       "      <th></th>\n",
       "      <th></th>\n",
       "      <th></th>\n",
       "      <th></th>\n",
       "      <th></th>\n",
       "      <th></th>\n",
       "      <th></th>\n",
       "      <th></th>\n",
       "      <th></th>\n",
       "    </tr>\n",
       "  </thead>\n",
       "  <tbody>\n",
       "    <tr>\n",
       "      <th>JCP2022_033924</th>\n",
       "      <td>JCP2022_033924</td>\n",
       "      <td>IAZDPXIOMUYVGZ-UHFFFAOYSA-N</td>\n",
       "      <td>InChI=1S/C2H6OS/c1-4(2)3/h1-2H3</td>\n",
       "      <td>CS(C)=O</td>\n",
       "      <td>17.07</td>\n",
       "      <td>2.837323</td>\n",
       "      <td>1.232234</td>\n",
       "      <td>0</td>\n",
       "      <td>&lt;rdkit.Chem.rdchem.Mol object at 0x7fe4fb76d150&gt;</td>\n",
       "    </tr>\n",
       "    <tr>\n",
       "      <th>JCP2022_037716</th>\n",
       "      <td>JCP2022_037716</td>\n",
       "      <td>IVUGFMLRJOCGAS-UHFFFAOYSA-N</td>\n",
       "      <td>InChI=1S/C28H21N7OS/c1-17-15-24(37-16-17)25-20...</td>\n",
       "      <td>CC1=CSC(=C1)c5nnc(Nc2ccc(cc2)Oc3ncccc3C4C=CNC(...</td>\n",
       "      <td>112.46</td>\n",
       "      <td>4.722598</td>\n",
       "      <td>2.050998</td>\n",
       "      <td>1</td>\n",
       "      <td>&lt;rdkit.Chem.rdchem.Mol object at 0x7fe4fb76d2a0&gt;</td>\n",
       "    </tr>\n",
       "    <tr>\n",
       "      <th>JCP2022_064022</th>\n",
       "      <td>JCP2022_064022</td>\n",
       "      <td>OINGHOPGNMYCAB-UHFFFAOYSA-N</td>\n",
       "      <td>InChI=1S/C23H25ClF3N5O/c1-13(2)28-23(33)31-8-7...</td>\n",
       "      <td>CC(C)N=C(O)N1CCC(C1)N=C3Nc2cc(F)ccc2N(CC(F)F)c...</td>\n",
       "      <td>63.46</td>\n",
       "      <td>4.150410</td>\n",
       "      <td>1.802500</td>\n",
       "      <td>0</td>\n",
       "      <td>&lt;rdkit.Chem.rdchem.Mol object at 0x7fe4fb76ceb0&gt;</td>\n",
       "    </tr>\n",
       "    <tr>\n",
       "      <th>JCP2022_050797</th>\n",
       "      <td>JCP2022_050797</td>\n",
       "      <td>LOUPRKONTZGTKE-UHFFFAOYSA-N</td>\n",
       "      <td>InChI=1S/C20H24N2O2/c1-3-13-12-22-9-7-14(13)10...</td>\n",
       "      <td>C=CC1CN2CCC1CC2C(O)c3ccnc4ccc(cc34)OC</td>\n",
       "      <td>45.59</td>\n",
       "      <td>3.819688</td>\n",
       "      <td>1.658870</td>\n",
       "      <td>0</td>\n",
       "      <td>&lt;rdkit.Chem.rdchem.Mol object at 0x7fe4fb76da80&gt;</td>\n",
       "    </tr>\n",
       "    <tr>\n",
       "      <th>JCP2022_025848</th>\n",
       "      <td>JCP2022_025848</td>\n",
       "      <td>GJFCONYVAUNLKB-UHFFFAOYSA-N</td>\n",
       "      <td>InChI=1S/C22H29FO5/c1-12-8-16-15-5-4-13-9-14(2...</td>\n",
       "      <td>CC4CC3C2CC=C1CC(=O)C=CC1(C)C2(F)C(O)CC3(C)C4(O...</td>\n",
       "      <td>94.83</td>\n",
       "      <td>4.552086</td>\n",
       "      <td>1.976946</td>\n",
       "      <td>0</td>\n",
       "      <td>&lt;rdkit.Chem.rdchem.Mol object at 0x7fe4fb76d850&gt;</td>\n",
       "    </tr>\n",
       "    <tr>\n",
       "      <th>JCP2022_046054</th>\n",
       "      <td>JCP2022_046054</td>\n",
       "      <td>KPBNHDGDUADAGP-UHFFFAOYSA-N</td>\n",
       "      <td>InChI=1S/C24H29N3O2/c28-23(12-11-21-8-6-15-25-...</td>\n",
       "      <td>OC(C=Cc1cccnc1)=NCCCCC2CCN(CC2)C(=O)c3ccccc3</td>\n",
       "      <td>65.79</td>\n",
       "      <td>4.186468</td>\n",
       "      <td>1.818160</td>\n",
       "      <td>0</td>\n",
       "      <td>&lt;rdkit.Chem.rdchem.Mol object at 0x7fe4fb76d9a0&gt;</td>\n",
       "    </tr>\n",
       "    <tr>\n",
       "      <th>JCP2022_012818</th>\n",
       "      <td>JCP2022_012818</td>\n",
       "      <td>CQKBSRPVZZLCJE-UHFFFAOYSA-N</td>\n",
       "      <td>InChI=1S/C23H17Cl2N5O4/c1-34-23-27-11-14-8-16(...</td>\n",
       "      <td>COc4ncc3cc(C(=O)Nc1cc(ccc1Cl)C(O)=NCc2cccc(Cl)...</td>\n",
       "      <td>129.82</td>\n",
       "      <td>4.866149</td>\n",
       "      <td>2.113342</td>\n",
       "      <td>1</td>\n",
       "      <td>&lt;rdkit.Chem.rdchem.Mol object at 0x7fe4fb76dcb0&gt;</td>\n",
       "    </tr>\n",
       "    <tr>\n",
       "      <th>JCP2022_085227</th>\n",
       "      <td>JCP2022_085227</td>\n",
       "      <td>SRVFFFJZQVENJC-UHFFFAOYSA-N</td>\n",
       "      <td>InChI=1S/C17H30N2O5/c1-6-23-17(22)14-13(24-14)...</td>\n",
       "      <td>CCOC(=O)C1OC1C(O)=NC(CC(C)C)C(O)=NCCC(C)C</td>\n",
       "      <td>104.01</td>\n",
       "      <td>4.644487</td>\n",
       "      <td>2.017075</td>\n",
       "      <td>1</td>\n",
       "      <td>&lt;rdkit.Chem.rdchem.Mol object at 0x7fe4fb76dbd0&gt;</td>\n",
       "    </tr>\n",
       "    <tr>\n",
       "      <th>JCP2022_035095</th>\n",
       "      <td>JCP2022_035095</td>\n",
       "      <td>IHLVSLOZUHKNMQ-UHFFFAOYSA-N</td>\n",
       "      <td>InChI=1S/C26H27N5O2/c1-2-9-27-22(4-1)26-25(24-...</td>\n",
       "      <td>C(CN1CCOCC1)Oc2ccc3c(c2)nccc3C5=C4CCCN4N=C5c6c...</td>\n",
       "      <td>65.30</td>\n",
       "      <td>4.178992</td>\n",
       "      <td>1.814913</td>\n",
       "      <td>0</td>\n",
       "      <td>&lt;rdkit.Chem.rdchem.Mol object at 0x7fe4fb76daf0&gt;</td>\n",
       "    </tr>\n",
       "    <tr>\n",
       "      <th>JCP2022_033954</th>\n",
       "      <td>JCP2022_033954</td>\n",
       "      <td>IBCXZJCWDGCXQT-UHFFFAOYSA-N</td>\n",
       "      <td>InChI=1S/C17H12N4/c1-2-6-15-13(5-1)12(8-10-19-...</td>\n",
       "      <td>C1NN=C(C=1c2ccnc3ccccc23)c4ccccn4</td>\n",
       "      <td>54.46</td>\n",
       "      <td>3.997466</td>\n",
       "      <td>1.736078</td>\n",
       "      <td>0</td>\n",
       "      <td>&lt;rdkit.Chem.rdchem.Mol object at 0x7fe4fb76da10&gt;</td>\n",
       "    </tr>\n",
       "  </tbody>\n",
       "</table>\n",
       "</div>"
      ],
      "text/plain": [
       "                 Metadata_JCP2022            Metadata_InChIKey                                     Metadata_InChI  \\\n",
       "Metadata_JCP2022                                                                                                    \n",
       "JCP2022_033924     JCP2022_033924  IAZDPXIOMUYVGZ-UHFFFAOYSA-N                    InChI=1S/C2H6OS/c1-4(2)3/h1-2H3   \n",
       "JCP2022_037716     JCP2022_037716  IVUGFMLRJOCGAS-UHFFFAOYSA-N  InChI=1S/C28H21N7OS/c1-17-15-24(37-16-17)25-20...   \n",
       "JCP2022_064022     JCP2022_064022  OINGHOPGNMYCAB-UHFFFAOYSA-N  InChI=1S/C23H25ClF3N5O/c1-13(2)28-23(33)31-8-7...   \n",
       "JCP2022_050797     JCP2022_050797  LOUPRKONTZGTKE-UHFFFAOYSA-N  InChI=1S/C20H24N2O2/c1-3-13-12-22-9-7-14(13)10...   \n",
       "JCP2022_025848     JCP2022_025848  GJFCONYVAUNLKB-UHFFFAOYSA-N  InChI=1S/C22H29FO5/c1-12-8-16-15-5-4-13-9-14(2...   \n",
       "JCP2022_046054     JCP2022_046054  KPBNHDGDUADAGP-UHFFFAOYSA-N  InChI=1S/C24H29N3O2/c28-23(12-11-21-8-6-15-25-...   \n",
       "JCP2022_012818     JCP2022_012818  CQKBSRPVZZLCJE-UHFFFAOYSA-N  InChI=1S/C23H17Cl2N5O4/c1-34-23-27-11-14-8-16(...   \n",
       "JCP2022_085227     JCP2022_085227  SRVFFFJZQVENJC-UHFFFAOYSA-N  InChI=1S/C17H30N2O5/c1-6-23-17(22)14-13(24-14)...   \n",
       "JCP2022_035095     JCP2022_035095  IHLVSLOZUHKNMQ-UHFFFAOYSA-N  InChI=1S/C26H27N5O2/c1-2-9-27-22(4-1)26-25(24-...   \n",
       "JCP2022_033954     JCP2022_033954  IBCXZJCWDGCXQT-UHFFFAOYSA-N  InChI=1S/C17H12N4/c1-2-6-15-13(5-1)12(8-10-19-...   \n",
       "\n",
       "                                                             smiles    TPSA    lnTPSA  log10TPSA  permiation  \\\n",
       "Metadata_JCP2022                                                                                               \n",
       "JCP2022_033924                                              CS(C)=O   17.07  2.837323   1.232234           0   \n",
       "JCP2022_037716    CC1=CSC(=C1)c5nnc(Nc2ccc(cc2)Oc3ncccc3C4C=CNC(...  112.46  4.722598   2.050998           1   \n",
       "JCP2022_064022    CC(C)N=C(O)N1CCC(C1)N=C3Nc2cc(F)ccc2N(CC(F)F)c...   63.46  4.150410   1.802500           0   \n",
       "JCP2022_050797                C=CC1CN2CCC1CC2C(O)c3ccnc4ccc(cc34)OC   45.59  3.819688   1.658870           0   \n",
       "JCP2022_025848    CC4CC3C2CC=C1CC(=O)C=CC1(C)C2(F)C(O)CC3(C)C4(O...   94.83  4.552086   1.976946           0   \n",
       "JCP2022_046054         OC(C=Cc1cccnc1)=NCCCCC2CCN(CC2)C(=O)c3ccccc3   65.79  4.186468   1.818160           0   \n",
       "JCP2022_012818    COc4ncc3cc(C(=O)Nc1cc(ccc1Cl)C(O)=NCc2cccc(Cl)...  129.82  4.866149   2.113342           1   \n",
       "JCP2022_085227            CCOC(=O)C1OC1C(O)=NC(CC(C)C)C(O)=NCCC(C)C  104.01  4.644487   2.017075           1   \n",
       "JCP2022_035095    C(CN1CCOCC1)Oc2ccc3c(c2)nccc3C5=C4CCCN4N=C5c6c...   65.30  4.178992   1.814913           0   \n",
       "JCP2022_033954                    C1NN=C(C=1c2ccnc3ccccc23)c4ccccn4   54.46  3.997466   1.736078           0   \n",
       "\n",
       "                                                             ROMol  \n",
       "Metadata_JCP2022                                                    \n",
       "JCP2022_033924    <rdkit.Chem.rdchem.Mol object at 0x7fe4fb76d150>  \n",
       "JCP2022_037716    <rdkit.Chem.rdchem.Mol object at 0x7fe4fb76d2a0>  \n",
       "JCP2022_064022    <rdkit.Chem.rdchem.Mol object at 0x7fe4fb76ceb0>  \n",
       "JCP2022_050797    <rdkit.Chem.rdchem.Mol object at 0x7fe4fb76da80>  \n",
       "JCP2022_025848    <rdkit.Chem.rdchem.Mol object at 0x7fe4fb76d850>  \n",
       "JCP2022_046054    <rdkit.Chem.rdchem.Mol object at 0x7fe4fb76d9a0>  \n",
       "JCP2022_012818    <rdkit.Chem.rdchem.Mol object at 0x7fe4fb76dcb0>  \n",
       "JCP2022_085227    <rdkit.Chem.rdchem.Mol object at 0x7fe4fb76dbd0>  \n",
       "JCP2022_035095    <rdkit.Chem.rdchem.Mol object at 0x7fe4fb76daf0>  \n",
       "JCP2022_033954    <rdkit.Chem.rdchem.Mol object at 0x7fe4fb76da10>  "
      ]
     },
     "execution_count": 67,
     "metadata": {},
     "output_type": "execute_result"
    }
   ],
   "source": [
    "counts_gt_60"
   ]
  },
  {
   "cell_type": "code",
   "execution_count": 84,
   "id": "3715d5c9-4057-4a31-a194-05a963fc7bce",
   "metadata": {
    "execution": {
     "iopub.execute_input": "2023-08-08T22:32:35.337987Z",
     "iopub.status.busy": "2023-08-08T22:32:35.337321Z",
     "iopub.status.idle": "2023-08-08T22:32:35.469884Z",
     "shell.execute_reply": "2023-08-08T22:32:35.469015Z",
     "shell.execute_reply.started": "2023-08-08T22:32:35.337969Z"
    }
   },
   "outputs": [
    {
     "data": {
      "text/html": [
       "<div>\n",
       "<style scoped>\n",
       "    .dataframe tbody tr th:only-of-type {\n",
       "        vertical-align: middle;\n",
       "    }\n",
       "\n",
       "    .dataframe tbody tr th {\n",
       "        vertical-align: top;\n",
       "    }\n",
       "\n",
       "    .dataframe thead th {\n",
       "        text-align: right;\n",
       "    }\n",
       "</style>\n",
       "<table border=\"1\" class=\"dataframe\">\n",
       "  <thead>\n",
       "    <tr style=\"text-align: right;\">\n",
       "      <th></th>\n",
       "      <th>Unnamed: 0</th>\n",
       "      <th>Metadata_JCP2022</th>\n",
       "      <th>Metadata_InChIKey</th>\n",
       "      <th>Metadata_InChI</th>\n",
       "      <th>smiles</th>\n",
       "      <th>TPSA</th>\n",
       "      <th>lnTPSA</th>\n",
       "      <th>log10TPSA</th>\n",
       "      <th>ROMol</th>\n",
       "    </tr>\n",
       "  </thead>\n",
       "  <tbody>\n",
       "    <tr>\n",
       "      <th>JCP2022_033924</th>\n",
       "      <td>33922</td>\n",
       "      <td>JCP2022_033924</td>\n",
       "      <td>IAZDPXIOMUYVGZ-UHFFFAOYSA-N</td>\n",
       "      <td>InChI=1S/C2H6OS/c1-4(2)3/h1-2H3</td>\n",
       "      <td>CS(C)=O</td>\n",
       "      <td>17.07</td>\n",
       "      <td>2.837323</td>\n",
       "      <td>1.232234</td>\n",
       "      <td style=\"text-align: center;\"><div style=\"width: 200px; height: 200px\" data-content=\"rdkit/molecule\"><img src=\"data:image/png;base64,iVBORw0KGgoAAAANSUhEUgAAAMgAAADICAIAAAAiOjnJAAAABmJLR0QA/wD/AP+gvaeTAAAQpklEQVR4nO3dfVRU550H8N/ceWOGeQEGhAFGgSKoRATNaqrRNEdPoo2aNo3pHx6SbXcPu9uNL9kTl3Rtpcm6qUl6Vlyzbm16zEGzqWvTnCOy1pdUjcYYVw1iJICggAPD64DDMO/3Zf+YYYZ3ZmAe7lzm9zn+8dzhvvyAL/fluc+9ijiOA4TCjeK7ADQ7YbAQERgsRAQGCxGBwUJEYLAQERgsRAQGCxGBwUJEYLAQERgsRAQGCxGBwUJESPguIILRNFy/DmfPQnU19PSA2QwAoNNBYiIUFMAzz8CKFSDBH+DYRDhsZgwuF/z2t/D229DVNdFsiYnw6qvw+usQGztTlQkGBmuUu3fh+efhwYNg58/MhIoKeOwxkjUJDwZruMuX4fnn4dGjwCd6PXz/+5CfD4mJwHHQ0wO3b8Pp08N2ZnFxcPIkrFkz8/VGLg75tbRwcXEcgO9fSgp35AjHMGPMSdPcoUOcTheYOS6Oa2mZ8YojF+6xBrEsrFsHFy/6JnNz4fx5MBgmWqSpCdauhaYm3+Tq1XDxIojFZOsUCOxuGPSnPwVSpVbD2bOTpAoAMjOhshLkct/klStw8iTBCgUFgzXo/fcD7b17Yd68oJZatAh+8YvA5MGDYa5KsPBQCAAA9fWwYIGvrVZDe3sIPQh9fZCWBg6Hb/LePZg/P/wVCg3usQAA4PLlQPuHPwytXyo+HjZvHntVUQyDBQAAX34ZaK9cGfLiq1YF2teuhaEe4cNgAQDAnTuBdkFByIsvXRpoV1eHoR7hw2ABAPjuA3qlp4e8+NDrx6GrimIYLACAYV3tGk3Ii2u1Y68qiuFVIQAASKVA0742TYfcyUnTIJX62hIJeDzhrE2YcI8FAAAqVaBtt4e8uM0WaE9hhzcbYbAAACAuLtC2WkNevL8/0I6PD0M9wofBAoDhwWpvD3lxkynQxmABAAbLZ/HiQPv27ZAXr6oKtPPzw1CP8GGwAABgxYpA+8aNkBcfusjQVUUxvCoEAIDbt6Gw0NdOSoK2tsBV3qScTtDrA70Md+9CXl74KxQa3GMBAEBBASxZ4mt3d8Onn4aw7PHjgVStWIGp8sJgDfrZzwLtXbuCvTa0WGD37sDktm1hrkqwMFiDioogJ8fXNhph61ZwuSZZxOGAl14KXBLm58OWLQQrFBQM1iCFAo4eDTwneOoUbNgADQ3jzl9fD888A+fO+SZlMjh6FGQy4nUKBJ68D3foEGzbBizrm5TJ4Mc/hs2bYckS0OsBAEwmqK6Gigo4cQLcbt9sYjF88AH85Cf81ByRMFijfPopbN0KTmew88vlcOwYHgRHwEPhKC+8AF99FdRDgiIRvPgifPMNpmo03GON78YNOHUKzp6FqqphAxZkMli6FNavhx/8INBJgYbDYAWnr8/36HNy8rAbi2gcGCxEBJ5jISIwWKNUVsLx48PG7k3AZoPjx6GyknBNwoOHwlEyM6G5GR48gMzMyWduaoKsLMjICLzBAQEA7rEQIRgsRAQGCxGBwUJEYLAQERgsRAQGCxGBwUJEYLAQERgsRAQGCxGBwUJEYLAQERgsRAQGCxGBwUJEYLAQERgsRAQGCxGBwUJEYLAQERgsRAQGCxGBwUJEYLAQERgsRAQGCxGBwUJEYLAQERgsRAQGCxGBwUJEYLAQEZLJZ4kybfuzGZtGn0QF8//KeZKo9o/yxbFz0ojXJTAYrJF6v9PodjcnS9nJZwVgpWz3gjsyWQYGawQ8FCIiMFiICAwWIgKDhYjAYCEiMFiICAwWIgKDhYjAYCEiMFiICAwWIgKDhYjAYCEiMFiICAwWIgKDhYjAYCEiMFiICAwWIgKDhYjAYCEiMFiICAwWIgKDhYjAYCEiMFiICAwWIgKDhYjAYCEiMFiICAwWIgKDhYjAF6+NpFAsFIvVFCULZmaKkikUi2WydNJVCY6I4zi+a0CzEB4KEREYLEQEnmNNgmVtVutlm+262/2QYSwc5xGLNXJ5lkKxRK3+nkSi47vACIXBGhfD9JtMpWbzhwxjGWcWSqX6bkJCUWLiX4tE8hktLuLhyfvYnM7axsbnXK6mSecUi7VLlnSLRMG8Fj6K4B5rDDTd1dCw3u1+6P9EIpmjUq2SyeZSVAxNdzud9Xb7LZZ1AoBG8yymajQM1hhMpj3+VInFGoOhLCGhSCQa9rNiGKvFUtnX90l8/I/4qDHS4aFwJIaxVlcncZwLAEQicU7OZZVqJd9FCQ92N4w0MHDJmyoA0GjWY6qmBoM1kttt9LdjYhbyWImgYbBG8p6Se9G0mcdKBA2DNdLQO8pW6wX/YRGFBIM1klye5W+73S0PH24DCOq/mENDYbBGUiqXDs1WT88H9fVrrNZLGK+QYHfDGPr7zzQ2buI4euiHMtm8hIStOt3WmJhFfBUmIBissZnN5S0tfzfmCZZCsUSn26rT/Y1EkjDzhQkFBmtcDsfd1tZd/f3nxjwIUlRscvJOvX6PSBTUWNNog8GahMt1v7f3v/v6PnE4vhn91djYFfPnnxeL1TNfWITDYAXL6azt7f24t/cPLtf9oZ9rtZuys08CiPgqLDJhsEJmtf7FaNzpcNz1f5KV9T/x8S/xWFIEwu6GkKnVa3Nzv1Aql/k/6ek5wmM9kQmDNRVisdZgOOCftNm+AsAd/zAYLGAY6xQ6P1Wq71KUYnANFpZ1DH6FZRhr+KoTqigPFmc2H62pyTGbj4W+LEVRQy8GfXsss/no3buZXV0HOI4JS4kCFb3BGhi4Wlu7vLn5FY+nw2I5FeriNG2m6R5vm6JUFBXrbVsslTRtNhp31tU9MTBwNZwVC0o0BsvjaWtufrm+frXdflMqTcvIKM/K+mOoKzGbP/QfQJXKpf7Ps7I+yc6ukMky7Pab9fVPNjZucrubw1W5gERXsFjW0dHxTk3NQrP5GEXFpKSU5OXV6nQvD+2FcrmaHjx4yWq9MMGJl9V6yWQq9U/Gx78w9Kta7aa8vJq0tH0UpbJYKmtq8tra3mDZARLfUcSKon4si+WU0bjD+0SXVrvRYPgPuTxz9GwdHfva2n4OAFKpPj7+R1rtJoXiMak0FQBY1ma33zKbj5nNH/pPoeTyrEWLaigqZvSq3O5Wk+lfzOaPADipNC0t7W2drihKulKjIlh2e5XRuHNg4DIAKJWFBkOZSrVmvJlrawvt9tujPxeJpBznGfGhWByfk/MXpbJwgq3bbP9nNO6w2b4CgNjY5QbDgdjYJ6bybQjKLA8WTZvb29/q7v5PjmMkEp1e/8ukpFdFIvH4S7Dt7b/u7f3Y6fx20pXHxv7VvHlHFIrHgiiENZs/amv7Z4+nE4DS6bampb0rlaYE/40IzqwNFsd5ursPmUylDGMRiaRJSf+QmvqWWKwNcnGHo7q39w8Wyxmns2bEwCyxWKtSrU5M/KlWu3nCjI7EsraOjvc6OvZxnIuiYpOTX9frfz5bn82fncHq7//MaNzh3etoNOvS08sUiryprYplHW53E8NYGMYmFmskkkS5PHM650kuV0Nb2+6+vj8CgFyenZb2dnz8limvLWLNtmA5nfdaW//JYvlfAIiJyUlP/3et9jm+ixrD0DvZavVag2G/QrGY76LCafYEi2H6Ojre6ezcz3FusTguJeWN5OTXInkUHsfRZvORtrbdNN0jEkl0up+mpe2VSJL4ris8ZkewWLP5o9bWXTTd5T01Tk//jUQyh++qgkLTve3tb3Z3H+I4WiJJ0Ov3JCX944j3RAiR4INltV40Gnc6HHcAQK3+nsFQplAs4buokDmddUbja/39ZwAgJmaBwbBfo1nPd1HTIuBgud1Gk2m39/6xTGZITd2r073Md1HTYrGcMhp3ulwPwNeFWyaXf4fvoqZIkMHyXrd3dr7Dsk6KUiYn70pJeWPMvm/B4Th3d/d/mUx7GKZ/sJfkX8ViDd91hUxwweL6+j5pbX3d7X4IIIqPfzE9/Tcy2Vy+qwozj6fdZPpVT8/vAVipVJ+a+qvExL8V1o1dIQXLbr9pNO4YGPgSAJTKxw2GA7P7HUN2+y2jcYd37I1SucxgKFOpnuS7qGAJI1gej8lkenPwLzg1NbVUcH/BU+XdQ+9yu1sG99DvyWTz+K5qcpEerMFzjl8yjFUkkiUl/X1q6t5oe46PZe0dHe92dr7Lso7Bc8oS/8DoyBTRwRo10OXA0Nd1RJuhg3BksvTU1H+L5EE4ERosp7PWaHytv/8sAMTELDQY9ms0z/JdVESwWj9vbd3pHdijVj+Vnl6mVBbwXdQYIi5Ygz3R3oEu3p7oiQe6RKHRg3Dek0qT+a5qmAgKlsfj+fjj3xUUlNK0WSSSzpnzql6/RyyO47uuCMUwj9rb3+rqep/jPBSlu3XrzVdeKZZKI+aN81xkOH/+fF5eHgD8+c9r7t1bZ7ff5bsiYXA67zU0bNy7dw0AzJ8//8SJE3xX5MN/sOrq6jZs2OBNeW5u7rlzp/muSHjOnj2dm5vr/Rlu2LChrq6O74p4DVZfX19JSYlcLgeAuLi4ffv2OZ1OHusRNLfbffjw4cTERACQSqXFxcXd3d081sNPsBiGKS8vT05OBgCKooqKijo6OnipZJYxm83bt28Xi8UAkJCQUFZWRtM0L5XwEKxLly4VFPiukJ966qmqqqqZr2F2+/bbb5991tc7s3DhwjNnzsx8DTMaLKPRWFRUJBKJACA9Pb28vJxl2ZksIKpUVFRkZvoenNy4ceP9+/dncuszFCybzVZaWqpQKABAqVSWlpba7faZ2XQ0c7lcZWVlarUaAGQy2fbt2/v7+2dm08SDxbLsiRMn5s2bBwAikWjLli3Nzc2kN4qGamtrKy4upigKAFJTUw8fPswwDOmNkg3WzZs3V61a5d0bL1u27MqVK0Q3hyZw48aNlSt9o4wef/zxq1evEt0cqWCZTCb/X4ler5+ZvxI0Me/RY+7cuf6jR0tLC6FthT9Y3uO6RqPxdqhs377dYrGEfStoygYGBkpLS2NiYgAgNja2tLTU4XCEfSthDlZFRUVWVpb/SqSxsTG860fh8vDhw6KiIu9vymAwlJeXh3f9YQtWbW3t+vW+J5YWLFhw+jTemRGACxcu5Ofne39rTz/9dHV1dbjWHIZgeXt7JRKJv7fX4/FMf7VoZnjvgsyZM8d/F6Szs3P6q51WsDwej//+lEQiKS4u7urqmn5NaOb19vaWlJTIZDL/fVuXyzWdFU49WJ999tnixb73WKxdu/bOnTvTqQNFgrq6uuee871DJScnp7KycsqrmkqwGhoatmzxvXknOzs7csYAobA4f/78okW+/5Nx3bp1NTU1U1hJaMHyXql6B7p4r1RxoMus5Ha7y8rKtFqtv8/o0aNHIa0h2GB5T/FSUlK8fWtFRUXt7e2hF4yEpKenxz8IR6fThTQIJ6hgXb9+/YknfO9jXb58+bVr16ZRLRKYr7/+evXq1d7ffmFh4eeffx7MUpMEq7W11T/QJS0tDQe6RK2KioqMjAx/13dTU9PE848bLJvNtm/fPpVKBQAKhaKkpMRqtYa5WCQodrt9RCQmGIQzbrAaGhq8vRrBxBNFD/9BTCqVTvDUxkTPFR48eLCwsPDJJwXzhhM0Y7744ouqqqpt27aNN0MEPbCKZpNoeBMQ4gEGCxGBwUJEYLAQERgsRAQGCxGBwUJEYLAQERgsRAQGCxGBwUJEYLAQEf8PpDpoTFgv0iQAAAByelRYdHJka2l0UEtMIHJka2l0IDIwMjMuMDMuMQAAeJx7v2/tPQYg4GWAACYgZgFiZiBuYGRjSADSjMwCDAogcRiXg0EDpISJm4GRgZEJJMAkAtIsbgWShprEwPLQbdl+BgaH/QxoAChujyp+wB5EigEAkAoNP6Xsd2wAAAC1elRYdE1PTCByZGtpdCAyMDIzLjAzLjEAAHicjVDLCsIwELznK+YHGjaPojm2SRGRJmCr/+Dd/8cNJSZFFHdymB1mh90I5LqGy+OJd+kgBEA/nnMOd0NEYkYmGKfTOcKvw1gUn25xXWBheIKxdw5rmoui4NEpqZ0jc0RH8tBzMo9Ioo0Up8bSqJ+k+Awn/hVokaqqZP8tcIpht/J2xJhiqEdk6LopNzB1Ic2wbVw7nPvyd8zFC0f7TUnekbjDAAAAR3pUWHRTTUlMRVMgcmRraXQgMjAyMy4wMy4xAAB4nHMO1nDWtPVXqNHQNdQzsrQ0MNHRNdAzN9WxNtAx0LHGEDPUM9XRrAEAOroLPvQX16YAAAAASUVORK5CYII=\" alt=\"Mol\"/></div></td>\n",
       "    </tr>\n",
       "    <tr>\n",
       "      <th>JCP2022_037716</th>\n",
       "      <td>37714</td>\n",
       "      <td>JCP2022_037716</td>\n",
       "      <td>IVUGFMLRJOCGAS-UHFFFAOYSA-N</td>\n",
       "      <td>InChI=1S/C28H21N7OS/c1-17-15-24(37-16-17)25-20...</td>\n",
       "      <td>CC1=CSC(=C1)c5nnc(Nc2ccc(cc2)Oc3ncccc3C4C=CNC(...</td>\n",
       "      <td>112.46</td>\n",
       "      <td>4.722598</td>\n",
       "      <td>2.050998</td>\n",
       "      <td style=\"text-align: center;\"><div style=\"width: 200px; height: 200px\" data-content=\"rdkit/molecule\"><img src=\"data:image/png;base64,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\" alt=\"Mol\"/></div></td>\n",
       "    </tr>\n",
       "    <tr>\n",
       "      <th>JCP2022_064022</th>\n",
       "      <td>64020</td>\n",
       "      <td>JCP2022_064022</td>\n",
       "      <td>OINGHOPGNMYCAB-UHFFFAOYSA-N</td>\n",
       "      <td>InChI=1S/C23H25ClF3N5O/c1-13(2)28-23(33)31-8-7...</td>\n",
       "      <td>CC(C)N=C(O)N1CCC(C1)N=C3Nc2cc(F)ccc2N(CC(F)F)c...</td>\n",
       "      <td>63.46</td>\n",
       "      <td>4.150410</td>\n",
       "      <td>1.802500</td>\n",
       "      <td style=\"text-align: center;\"><div style=\"width: 200px; height: 200px\" data-content=\"rdkit/molecule\"><img src=\"data:image/png;base64,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\" alt=\"Mol\"/></div></td>\n",
       "    </tr>\n",
       "    <tr>\n",
       "      <th>JCP2022_050797</th>\n",
       "      <td>50795</td>\n",
       "      <td>JCP2022_050797</td>\n",
       "      <td>LOUPRKONTZGTKE-UHFFFAOYSA-N</td>\n",
       "      <td>InChI=1S/C20H24N2O2/c1-3-13-12-22-9-7-14(13)10...</td>\n",
       "      <td>C=CC1CN2CCC1CC2C(O)c3ccnc4ccc(cc34)OC</td>\n",
       "      <td>45.59</td>\n",
       "      <td>3.819688</td>\n",
       "      <td>1.658870</td>\n",
       "      <td style=\"text-align: center;\"><div style=\"width: 200px; height: 200px\" data-content=\"rdkit/molecule\"><img src=\"data:image/png;base64,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\" alt=\"Mol\"/></div></td>\n",
       "    </tr>\n",
       "    <tr>\n",
       "      <th>JCP2022_025848</th>\n",
       "      <td>25847</td>\n",
       "      <td>JCP2022_025848</td>\n",
       "      <td>GJFCONYVAUNLKB-UHFFFAOYSA-N</td>\n",
       "      <td>InChI=1S/C22H29FO5/c1-12-8-16-15-5-4-13-9-14(2...</td>\n",
       "      <td>CC4CC3C2CC=C1CC(=O)C=CC1(C)C2(F)C(O)CC3(C)C4(O...</td>\n",
       "      <td>94.83</td>\n",
       "      <td>4.552086</td>\n",
       "      <td>1.976946</td>\n",
       "      <td style=\"text-align: center;\"><div style=\"width: 200px; height: 200px\" data-content=\"rdkit/molecule\"><img src=\"data:image/png;base64,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\" alt=\"Mol\"/></div></td>\n",
       "    </tr>\n",
       "    <tr>\n",
       "      <th>JCP2022_046054</th>\n",
       "      <td>46052</td>\n",
       "      <td>JCP2022_046054</td>\n",
       "      <td>KPBNHDGDUADAGP-UHFFFAOYSA-N</td>\n",
       "      <td>InChI=1S/C24H29N3O2/c28-23(12-11-21-8-6-15-25-...</td>\n",
       "      <td>OC(C=Cc1cccnc1)=NCCCCC2CCN(CC2)C(=O)c3ccccc3</td>\n",
       "      <td>65.79</td>\n",
       "      <td>4.186468</td>\n",
       "      <td>1.818160</td>\n",
       "      <td style=\"text-align: center;\"><div style=\"width: 200px; height: 200px\" data-content=\"rdkit/molecule\"><img src=\"data:image/png;base64,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\" alt=\"Mol\"/></div></td>\n",
       "    </tr>\n",
       "    <tr>\n",
       "      <th>JCP2022_012818</th>\n",
       "      <td>12817</td>\n",
       "      <td>JCP2022_012818</td>\n",
       "      <td>CQKBSRPVZZLCJE-UHFFFAOYSA-N</td>\n",
       "      <td>InChI=1S/C23H17Cl2N5O4/c1-34-23-27-11-14-8-16(...</td>\n",
       "      <td>COc4ncc3cc(C(=O)Nc1cc(ccc1Cl)C(O)=NCc2cccc(Cl)...</td>\n",
       "      <td>129.82</td>\n",
       "      <td>4.866149</td>\n",
       "      <td>2.113342</td>\n",
       "      <td style=\"text-align: center;\"><div style=\"width: 200px; height: 200px\" data-content=\"rdkit/molecule\"><img src=\"data:image/png;base64,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\" alt=\"Mol\"/></div></td>\n",
       "    </tr>\n",
       "    <tr>\n",
       "      <th>JCP2022_085227</th>\n",
       "      <td>85225</td>\n",
       "      <td>JCP2022_085227</td>\n",
       "      <td>SRVFFFJZQVENJC-UHFFFAOYSA-N</td>\n",
       "      <td>InChI=1S/C17H30N2O5/c1-6-23-17(22)14-13(24-14)...</td>\n",
       "      <td>CCOC(=O)C1OC1C(O)=NC(CC(C)C)C(O)=NCCC(C)C</td>\n",
       "      <td>104.01</td>\n",
       "      <td>4.644487</td>\n",
       "      <td>2.017075</td>\n",
       "      <td style=\"text-align: center;\"><div style=\"width: 200px; height: 200px\" data-content=\"rdkit/molecule\"><img src=\"data:image/png;base64,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\" alt=\"Mol\"/></div></td>\n",
       "    </tr>\n",
       "    <tr>\n",
       "      <th>JCP2022_035095</th>\n",
       "      <td>35093</td>\n",
       "      <td>JCP2022_035095</td>\n",
       "      <td>IHLVSLOZUHKNMQ-UHFFFAOYSA-N</td>\n",
       "      <td>InChI=1S/C26H27N5O2/c1-2-9-27-22(4-1)26-25(24-...</td>\n",
       "      <td>C(CN1CCOCC1)Oc2ccc3c(c2)nccc3C5=C4CCCN4N=C5c6c...</td>\n",
       "      <td>65.30</td>\n",
       "      <td>4.178992</td>\n",
       "      <td>1.814913</td>\n",
       "      <td style=\"text-align: center;\"><div style=\"width: 200px; height: 200px\" data-content=\"rdkit/molecule\"><img src=\"data:image/png;base64,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\" alt=\"Mol\"/></div></td>\n",
       "    </tr>\n",
       "    <tr>\n",
       "      <th>JCP2022_033954</th>\n",
       "      <td>33952</td>\n",
       "      <td>JCP2022_033954</td>\n",
       "      <td>IBCXZJCWDGCXQT-UHFFFAOYSA-N</td>\n",
       "      <td>InChI=1S/C17H12N4/c1-2-6-15-13(5-1)12(8-10-19-...</td>\n",
       "      <td>C1NN=C(C=1c2ccnc3ccccc23)c4ccccn4</td>\n",
       "      <td>54.46</td>\n",
       "      <td>3.997466</td>\n",
       "      <td>1.736078</td>\n",
       "      <td style=\"text-align: center;\"><div style=\"width: 200px; height: 200px\" data-content=\"rdkit/molecule\"><img src=\"data:image/png;base64,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\" alt=\"Mol\"/></div></td>\n",
       "    </tr>\n",
       "  </tbody>\n",
       "</table>\n",
       "</div>"
      ],
      "text/plain": [
       "                Unnamed: 0 Metadata_JCP2022            Metadata_InChIKey                                     Metadata_InChI  \\\n",
       "JCP2022_033924       33922   JCP2022_033924  IAZDPXIOMUYVGZ-UHFFFAOYSA-N                    InChI=1S/C2H6OS/c1-4(2)3/h1-2H3   \n",
       "JCP2022_037716       37714   JCP2022_037716  IVUGFMLRJOCGAS-UHFFFAOYSA-N  InChI=1S/C28H21N7OS/c1-17-15-24(37-16-17)25-20...   \n",
       "JCP2022_064022       64020   JCP2022_064022  OINGHOPGNMYCAB-UHFFFAOYSA-N  InChI=1S/C23H25ClF3N5O/c1-13(2)28-23(33)31-8-7...   \n",
       "JCP2022_050797       50795   JCP2022_050797  LOUPRKONTZGTKE-UHFFFAOYSA-N  InChI=1S/C20H24N2O2/c1-3-13-12-22-9-7-14(13)10...   \n",
       "JCP2022_025848       25847   JCP2022_025848  GJFCONYVAUNLKB-UHFFFAOYSA-N  InChI=1S/C22H29FO5/c1-12-8-16-15-5-4-13-9-14(2...   \n",
       "JCP2022_046054       46052   JCP2022_046054  KPBNHDGDUADAGP-UHFFFAOYSA-N  InChI=1S/C24H29N3O2/c28-23(12-11-21-8-6-15-25-...   \n",
       "JCP2022_012818       12817   JCP2022_012818  CQKBSRPVZZLCJE-UHFFFAOYSA-N  InChI=1S/C23H17Cl2N5O4/c1-34-23-27-11-14-8-16(...   \n",
       "JCP2022_085227       85225   JCP2022_085227  SRVFFFJZQVENJC-UHFFFAOYSA-N  InChI=1S/C17H30N2O5/c1-6-23-17(22)14-13(24-14)...   \n",
       "JCP2022_035095       35093   JCP2022_035095  IHLVSLOZUHKNMQ-UHFFFAOYSA-N  InChI=1S/C26H27N5O2/c1-2-9-27-22(4-1)26-25(24-...   \n",
       "JCP2022_033954       33952   JCP2022_033954  IBCXZJCWDGCXQT-UHFFFAOYSA-N  InChI=1S/C17H12N4/c1-2-6-15-13(5-1)12(8-10-19-...   \n",
       "\n",
       "                                                           smiles    TPSA    lnTPSA  log10TPSA  \\\n",
       "JCP2022_033924                                            CS(C)=O   17.07  2.837323   1.232234   \n",
       "JCP2022_037716  CC1=CSC(=C1)c5nnc(Nc2ccc(cc2)Oc3ncccc3C4C=CNC(...  112.46  4.722598   2.050998   \n",
       "JCP2022_064022  CC(C)N=C(O)N1CCC(C1)N=C3Nc2cc(F)ccc2N(CC(F)F)c...   63.46  4.150410   1.802500   \n",
       "JCP2022_050797              C=CC1CN2CCC1CC2C(O)c3ccnc4ccc(cc34)OC   45.59  3.819688   1.658870   \n",
       "JCP2022_025848  CC4CC3C2CC=C1CC(=O)C=CC1(C)C2(F)C(O)CC3(C)C4(O...   94.83  4.552086   1.976946   \n",
       "JCP2022_046054       OC(C=Cc1cccnc1)=NCCCCC2CCN(CC2)C(=O)c3ccccc3   65.79  4.186468   1.818160   \n",
       "JCP2022_012818  COc4ncc3cc(C(=O)Nc1cc(ccc1Cl)C(O)=NCc2cccc(Cl)...  129.82  4.866149   2.113342   \n",
       "JCP2022_085227          CCOC(=O)C1OC1C(O)=NC(CC(C)C)C(O)=NCCC(C)C  104.01  4.644487   2.017075   \n",
       "JCP2022_035095  C(CN1CCOCC1)Oc2ccc3c(c2)nccc3C5=C4CCCN4N=C5c6c...   65.30  4.178992   1.814913   \n",
       "JCP2022_033954                  C1NN=C(C=1c2ccnc3ccccc23)c4ccccn4   54.46  3.997466   1.736078   \n",
       "\n",
       "                                                           ROMol  \n",
       "JCP2022_033924  <rdkit.Chem.rdchem.Mol object at 0x7feb54aaaab0>  \n",
       "JCP2022_037716  <rdkit.Chem.rdchem.Mol object at 0x7feb54aaa500>  \n",
       "JCP2022_064022  <rdkit.Chem.rdchem.Mol object at 0x7feb54aaa030>  \n",
       "JCP2022_050797  <rdkit.Chem.rdchem.Mol object at 0x7feb54aa9f50>  \n",
       "JCP2022_025848  <rdkit.Chem.rdchem.Mol object at 0x7feb54aa9af0>  \n",
       "JCP2022_046054  <rdkit.Chem.rdchem.Mol object at 0x7feb54aa9d20>  \n",
       "JCP2022_012818  <rdkit.Chem.rdchem.Mol object at 0x7feb54aa9b60>  \n",
       "JCP2022_085227  <rdkit.Chem.rdchem.Mol object at 0x7feb54aa9c40>  \n",
       "JCP2022_035095  <rdkit.Chem.rdchem.Mol object at 0x7feb54aaa6c0>  \n",
       "JCP2022_033954  <rdkit.Chem.rdchem.Mol object at 0x7feb54aa9850>  "
      ]
     },
     "execution_count": 84,
     "metadata": {},
     "output_type": "execute_result"
    }
   ],
   "source": [
    "hi_counts"
   ]
  },
  {
   "cell_type": "code",
   "execution_count": null,
   "id": "0f966af1-8f0d-476e-9840-f2d4bf839039",
   "metadata": {},
   "outputs": [],
   "source": []
  },
  {
   "cell_type": "markdown",
   "id": "34c0e91f-0971-4243-bc90-faea378eb8c5",
   "metadata": {},
   "source": [
    "|A|B|\n",
    "|---- |---- |\n",
    "|CS(C)=O|tbd|\n",
    "|\n",
    "CC1=CSC(=C1)c5nnc(Nc2ccc(cc2)Oc3ncccc3C4C=CNC(=N)N=4)c6ccccc5|tbd|6|\n",
    "CC(C)N=C(O)N1CCC(C1)N=C3Nc2cc(F)ccc2N(CC(F)F)c4ccc(Cl)cc|tbd|3|4\n",
    "C=CC1CN2CCC1CC2C(O)c3ccnc4ccc(cc34|tbd|)|OC\n",
    "CC4CC3C2CC=C1CC(=O)C=CC1(C)C2(F)C(O)CC3(C)C4(O)C(=|tbd|O|)CO\n",
    "OC(C=Cc1cccnc1)=NCCCCC2CCN(CC2)C(=O)c3c|tbd|c|ccc3\n",
    "COc4ncc3cc(C(=O)Nc1cc(ccc1Cl)C(O)=NCc2cccc(Cl)c2)c(O|tbd|)|nc3n4\n",
    "CCOC(=O)C1OC1C(O)=NC(CC(C)C)C(O)=N|tbd|C|CC(C)C\n",
    "C(CN1CCOCC1)Oc2ccc3c(c2)nccc3C5=C4CCCN4N=C5|tbd|c|6ccccn6\n",
    "C1NN=C(C=1c2ccnc3ccccc23|tbd|)c4ccccn4"
   ]
  },
  {
   "cell_type": "code",
   "execution_count": 229,
   "id": "550dbf81-2e5c-429c-a30f-2db70dc69619",
   "metadata": {
    "execution": {
     "iopub.execute_input": "2024-01-24T14:43:22.991776Z",
     "iopub.status.busy": "2024-01-24T14:43:22.991199Z",
     "iopub.status.idle": "2024-01-24T14:43:23.018362Z",
     "shell.execute_reply": "2024-01-24T14:43:23.017069Z",
     "shell.execute_reply.started": "2024-01-24T14:43:22.991745Z"
    }
   },
   "outputs": [
    {
     "name": "stdout",
     "output_type": "stream",
     "text": [
      "JCP2022_033924      CS(C)=O\n",
      "JCP2022_037716      CC1=CSC(=C1)c5nnc(Nc2ccc(cc2)Oc3ncccc3C4C=CNC(=N)N=4)c6ccccc56\n",
      "JCP2022_064022      CC(C)N=C(O)N1CCC(C1)N=C3Nc2cc(F)ccc2N(CC(F)F)c4ccc(Cl)cc34\n",
      "JCP2022_050797      C=CC1CN2CCC1CC2C(O)c3ccnc4ccc(cc34)OC\n",
      "JCP2022_025848      CC4CC3C2CC=C1CC(=O)C=CC1(C)C2(F)C(O)CC3(C)C4(O)C(=O)CO\n",
      "JCP2022_046054      OC(C=Cc1cccnc1)=NCCCCC2CCN(CC2)C(=O)c3ccccc3\n",
      "JCP2022_012818      COc4ncc3cc(C(=O)Nc1cc(ccc1Cl)C(O)=NCc2cccc(Cl)c2)c(O)nc3n4\n",
      "JCP2022_085227      CCOC(=O)C1OC1C(O)=NC(CC(C)C)C(O)=NCCC(C)C\n",
      "JCP2022_035095      C(CN1CCOCC1)Oc2ccc3c(c2)nccc3C5=C4CCCN4N=C5c6ccccn6\n",
      "JCP2022_033954      C1NN=C(C=1c2ccnc3ccccc23)c4ccccn4\n"
     ]
    }
   ],
   "source": [
    "# for idx, val in compound_counts[compound_counts>60].items():\n",
    "#     print(idx, '    ', df_compounds_indexed.loc[idx].smiles)\n",
    "for row in counts_gt_60.itertuples():\n",
    "    print(row.Index, '    ', row.smiles )"
   ]
  },
  {
   "cell_type": "code",
   "execution_count": 241,
   "id": "8dcb7abf-f343-4929-84c5-2a9c9d276a3a",
   "metadata": {
    "execution": {
     "iopub.execute_input": "2024-01-24T14:50:30.504040Z",
     "iopub.status.busy": "2024-01-24T14:50:30.503462Z",
     "iopub.status.idle": "2024-01-24T14:50:31.683340Z",
     "shell.execute_reply": "2024-01-24T14:50:31.682442Z",
     "shell.execute_reply.started": "2024-01-24T14:50:30.503970Z"
    }
   },
   "outputs": [
    {
     "name": "stdout",
     "output_type": "stream",
     "text": [
      "<class 'pandas.core.frame.DataFrame'>\n",
      "RangeIndex: 793603 entries, 0 to 793602\n",
      "Data columns (total 12 columns):\n",
      " #   Column             Non-Null Count   Dtype  \n",
      "---  ------             --------------   -----  \n",
      " 0   Metadata_Source    793603 non-null  object \n",
      " 1   Metadata_Batch     793603 non-null  object \n",
      " 2   Metadata_Plate     793603 non-null  object \n",
      " 3   Metadata_Well      793603 non-null  object \n",
      " 4   Metadata_JCP2022   793603 non-null  object \n",
      " 5   Metadata_InChIKey  793603 non-null  object \n",
      " 6   Metadata_InChI     793603 non-null  object \n",
      " 7   smiles             793603 non-null  object \n",
      " 8   TPSA               793603 non-null  float64\n",
      " 9   lnTPSA             793603 non-null  float64\n",
      " 10  log10TPSA          793603 non-null  float64\n",
      " 11  permiation         793603 non-null  int64  \n",
      "dtypes: float64(3), int64(1), object(8)\n",
      "memory usage: 72.7+ MB\n"
     ]
    },
    {
     "data": {
      "text/html": [
       "<div>\n",
       "<style scoped>\n",
       "    .dataframe tbody tr th:only-of-type {\n",
       "        vertical-align: middle;\n",
       "    }\n",
       "\n",
       "    .dataframe tbody tr th {\n",
       "        vertical-align: top;\n",
       "    }\n",
       "\n",
       "    .dataframe thead th {\n",
       "        text-align: right;\n",
       "    }\n",
       "</style>\n",
       "<table border=\"1\" class=\"dataframe\">\n",
       "  <thead>\n",
       "    <tr style=\"text-align: right;\">\n",
       "      <th></th>\n",
       "      <th>Metadata_JCP2022</th>\n",
       "      <th>Metadata_Source</th>\n",
       "      <th>Metadata_Batch</th>\n",
       "      <th>Metadata_Plate</th>\n",
       "      <th>Metadata_Well</th>\n",
       "      <th>Metadata_InChIKey</th>\n",
       "      <th>Metadata_InChI</th>\n",
       "      <th>smiles</th>\n",
       "      <th>TPSA</th>\n",
       "      <th>lnTPSA</th>\n",
       "      <th>log10TPSA</th>\n",
       "      <th>permiation</th>\n",
       "    </tr>\n",
       "  </thead>\n",
       "  <tbody>\n",
       "    <tr>\n",
       "      <th>0</th>\n",
       "      <td>JCP2022_033924</td>\n",
       "      <td>source_1</td>\n",
       "      <td>Batch1_20221004</td>\n",
       "      <td>UL001641</td>\n",
       "      <td>A02</td>\n",
       "      <td>IAZDPXIOMUYVGZ-UHFFFAOYSA-N</td>\n",
       "      <td>InChI=1S/C2H6OS/c1-4(2)3/h1-2H3</td>\n",
       "      <td>CS(C)=O</td>\n",
       "      <td>17.07</td>\n",
       "      <td>2.837323</td>\n",
       "      <td>1.232234</td>\n",
       "      <td>0</td>\n",
       "    </tr>\n",
       "    <tr>\n",
       "      <th>1</th>\n",
       "      <td>JCP2022_033924</td>\n",
       "      <td>source_1</td>\n",
       "      <td>Batch1_20221004</td>\n",
       "      <td>UL001641</td>\n",
       "      <td>A04</td>\n",
       "      <td>IAZDPXIOMUYVGZ-UHFFFAOYSA-N</td>\n",
       "      <td>InChI=1S/C2H6OS/c1-4(2)3/h1-2H3</td>\n",
       "      <td>CS(C)=O</td>\n",
       "      <td>17.07</td>\n",
       "      <td>2.837323</td>\n",
       "      <td>1.232234</td>\n",
       "      <td>0</td>\n",
       "    </tr>\n",
       "    <tr>\n",
       "      <th>2</th>\n",
       "      <td>JCP2022_033924</td>\n",
       "      <td>source_1</td>\n",
       "      <td>Batch1_20221004</td>\n",
       "      <td>UL001641</td>\n",
       "      <td>A45</td>\n",
       "      <td>IAZDPXIOMUYVGZ-UHFFFAOYSA-N</td>\n",
       "      <td>InChI=1S/C2H6OS/c1-4(2)3/h1-2H3</td>\n",
       "      <td>CS(C)=O</td>\n",
       "      <td>17.07</td>\n",
       "      <td>2.837323</td>\n",
       "      <td>1.232234</td>\n",
       "      <td>0</td>\n",
       "    </tr>\n",
       "    <tr>\n",
       "      <th>3</th>\n",
       "      <td>JCP2022_033924</td>\n",
       "      <td>source_1</td>\n",
       "      <td>Batch1_20221004</td>\n",
       "      <td>UL001641</td>\n",
       "      <td>A47</td>\n",
       "      <td>IAZDPXIOMUYVGZ-UHFFFAOYSA-N</td>\n",
       "      <td>InChI=1S/C2H6OS/c1-4(2)3/h1-2H3</td>\n",
       "      <td>CS(C)=O</td>\n",
       "      <td>17.07</td>\n",
       "      <td>2.837323</td>\n",
       "      <td>1.232234</td>\n",
       "      <td>0</td>\n",
       "    </tr>\n",
       "    <tr>\n",
       "      <th>4</th>\n",
       "      <td>JCP2022_033924</td>\n",
       "      <td>source_1</td>\n",
       "      <td>Batch1_20221004</td>\n",
       "      <td>UL001641</td>\n",
       "      <td>AA02</td>\n",
       "      <td>IAZDPXIOMUYVGZ-UHFFFAOYSA-N</td>\n",
       "      <td>InChI=1S/C2H6OS/c1-4(2)3/h1-2H3</td>\n",
       "      <td>CS(C)=O</td>\n",
       "      <td>17.07</td>\n",
       "      <td>2.837323</td>\n",
       "      <td>1.232234</td>\n",
       "      <td>0</td>\n",
       "    </tr>\n",
       "    <tr>\n",
       "      <th>...</th>\n",
       "      <td>...</td>\n",
       "      <td>...</td>\n",
       "      <td>...</td>\n",
       "      <td>...</td>\n",
       "      <td>...</td>\n",
       "      <td>...</td>\n",
       "      <td>...</td>\n",
       "      <td>...</td>\n",
       "      <td>...</td>\n",
       "      <td>...</td>\n",
       "      <td>...</td>\n",
       "      <td>...</td>\n",
       "    </tr>\n",
       "    <tr>\n",
       "      <th>88578</th>\n",
       "      <td>JCP2022_033924</td>\n",
       "      <td>source_9</td>\n",
       "      <td>20211103-Run16</td>\n",
       "      <td>GR00004421</td>\n",
       "      <td>Y47</td>\n",
       "      <td>IAZDPXIOMUYVGZ-UHFFFAOYSA-N</td>\n",
       "      <td>InChI=1S/C2H6OS/c1-4(2)3/h1-2H3</td>\n",
       "      <td>CS(C)=O</td>\n",
       "      <td>17.07</td>\n",
       "      <td>2.837323</td>\n",
       "      <td>1.232234</td>\n",
       "      <td>0</td>\n",
       "    </tr>\n",
       "    <tr>\n",
       "      <th>88579</th>\n",
       "      <td>JCP2022_033924</td>\n",
       "      <td>source_9</td>\n",
       "      <td>20211103-Run16</td>\n",
       "      <td>GR00004421</td>\n",
       "      <td>Z02</td>\n",
       "      <td>IAZDPXIOMUYVGZ-UHFFFAOYSA-N</td>\n",
       "      <td>InChI=1S/C2H6OS/c1-4(2)3/h1-2H3</td>\n",
       "      <td>CS(C)=O</td>\n",
       "      <td>17.07</td>\n",
       "      <td>2.837323</td>\n",
       "      <td>1.232234</td>\n",
       "      <td>0</td>\n",
       "    </tr>\n",
       "    <tr>\n",
       "      <th>88580</th>\n",
       "      <td>JCP2022_033924</td>\n",
       "      <td>source_9</td>\n",
       "      <td>20211103-Run16</td>\n",
       "      <td>GR00004421</td>\n",
       "      <td>Z23</td>\n",
       "      <td>IAZDPXIOMUYVGZ-UHFFFAOYSA-N</td>\n",
       "      <td>InChI=1S/C2H6OS/c1-4(2)3/h1-2H3</td>\n",
       "      <td>CS(C)=O</td>\n",
       "      <td>17.07</td>\n",
       "      <td>2.837323</td>\n",
       "      <td>1.232234</td>\n",
       "      <td>0</td>\n",
       "    </tr>\n",
       "    <tr>\n",
       "      <th>88581</th>\n",
       "      <td>JCP2022_033924</td>\n",
       "      <td>source_9</td>\n",
       "      <td>20211103-Run16</td>\n",
       "      <td>GR00004421</td>\n",
       "      <td>Z26</td>\n",
       "      <td>IAZDPXIOMUYVGZ-UHFFFAOYSA-N</td>\n",
       "      <td>InChI=1S/C2H6OS/c1-4(2)3/h1-2H3</td>\n",
       "      <td>CS(C)=O</td>\n",
       "      <td>17.07</td>\n",
       "      <td>2.837323</td>\n",
       "      <td>1.232234</td>\n",
       "      <td>0</td>\n",
       "    </tr>\n",
       "    <tr>\n",
       "      <th>88582</th>\n",
       "      <td>JCP2022_033924</td>\n",
       "      <td>source_9</td>\n",
       "      <td>20211103-Run16</td>\n",
       "      <td>GR00004421</td>\n",
       "      <td>Z47</td>\n",
       "      <td>IAZDPXIOMUYVGZ-UHFFFAOYSA-N</td>\n",
       "      <td>InChI=1S/C2H6OS/c1-4(2)3/h1-2H3</td>\n",
       "      <td>CS(C)=O</td>\n",
       "      <td>17.07</td>\n",
       "      <td>2.837323</td>\n",
       "      <td>1.232234</td>\n",
       "      <td>0</td>\n",
       "    </tr>\n",
       "  </tbody>\n",
       "</table>\n",
       "<p>88583 rows × 12 columns</p>\n",
       "</div>"
      ],
      "text/plain": [
       "      Metadata_JCP2022 Metadata_Source   Metadata_Batch Metadata_Plate Metadata_Well            Metadata_InChIKey  \\\n",
       "0       JCP2022_033924        source_1  Batch1_20221004       UL001641           A02  IAZDPXIOMUYVGZ-UHFFFAOYSA-N   \n",
       "1       JCP2022_033924        source_1  Batch1_20221004       UL001641           A04  IAZDPXIOMUYVGZ-UHFFFAOYSA-N   \n",
       "2       JCP2022_033924        source_1  Batch1_20221004       UL001641           A45  IAZDPXIOMUYVGZ-UHFFFAOYSA-N   \n",
       "3       JCP2022_033924        source_1  Batch1_20221004       UL001641           A47  IAZDPXIOMUYVGZ-UHFFFAOYSA-N   \n",
       "4       JCP2022_033924        source_1  Batch1_20221004       UL001641          AA02  IAZDPXIOMUYVGZ-UHFFFAOYSA-N   \n",
       "...                ...             ...              ...            ...           ...                          ...   \n",
       "88578   JCP2022_033924        source_9   20211103-Run16     GR00004421           Y47  IAZDPXIOMUYVGZ-UHFFFAOYSA-N   \n",
       "88579   JCP2022_033924        source_9   20211103-Run16     GR00004421           Z02  IAZDPXIOMUYVGZ-UHFFFAOYSA-N   \n",
       "88580   JCP2022_033924        source_9   20211103-Run16     GR00004421           Z23  IAZDPXIOMUYVGZ-UHFFFAOYSA-N   \n",
       "88581   JCP2022_033924        source_9   20211103-Run16     GR00004421           Z26  IAZDPXIOMUYVGZ-UHFFFAOYSA-N   \n",
       "88582   JCP2022_033924        source_9   20211103-Run16     GR00004421           Z47  IAZDPXIOMUYVGZ-UHFFFAOYSA-N   \n",
       "\n",
       "                        Metadata_InChI   smiles   TPSA    lnTPSA  log10TPSA  permiation  \n",
       "0      InChI=1S/C2H6OS/c1-4(2)3/h1-2H3  CS(C)=O  17.07  2.837323   1.232234           0  \n",
       "1      InChI=1S/C2H6OS/c1-4(2)3/h1-2H3  CS(C)=O  17.07  2.837323   1.232234           0  \n",
       "2      InChI=1S/C2H6OS/c1-4(2)3/h1-2H3  CS(C)=O  17.07  2.837323   1.232234           0  \n",
       "3      InChI=1S/C2H6OS/c1-4(2)3/h1-2H3  CS(C)=O  17.07  2.837323   1.232234           0  \n",
       "4      InChI=1S/C2H6OS/c1-4(2)3/h1-2H3  CS(C)=O  17.07  2.837323   1.232234           0  \n",
       "...                                ...      ...    ...       ...        ...         ...  \n",
       "88578  InChI=1S/C2H6OS/c1-4(2)3/h1-2H3  CS(C)=O  17.07  2.837323   1.232234           0  \n",
       "88579  InChI=1S/C2H6OS/c1-4(2)3/h1-2H3  CS(C)=O  17.07  2.837323   1.232234           0  \n",
       "88580  InChI=1S/C2H6OS/c1-4(2)3/h1-2H3  CS(C)=O  17.07  2.837323   1.232234           0  \n",
       "88581  InChI=1S/C2H6OS/c1-4(2)3/h1-2H3  CS(C)=O  17.07  2.837323   1.232234           0  \n",
       "88582  InChI=1S/C2H6OS/c1-4(2)3/h1-2H3  CS(C)=O  17.07  2.837323   1.232234           0  \n",
       "\n",
       "[88583 rows x 12 columns]"
      ]
     },
     "execution_count": 241,
     "metadata": {},
     "output_type": "execute_result"
    }
   ],
   "source": [
    "joined_metadata_2.info()\n",
    "# joined_metadata_2.loc['JCP2022_033924'] \n",
    "joined_metadata_2[joined_metadata_2.Metadata_JCP2022 == 'JCP2022_033924'] "
   ]
  },
  {
   "cell_type": "code",
   "execution_count": 238,
   "id": "4972e09e-9f84-49eb-b1bf-cbcd8d2ad40a",
   "metadata": {
    "execution": {
     "iopub.execute_input": "2024-01-24T14:45:38.843026Z",
     "iopub.status.busy": "2024-01-24T14:45:38.842489Z",
     "iopub.status.idle": "2024-01-24T14:45:38.868302Z",
     "shell.execute_reply": "2024-01-24T14:45:38.867517Z",
     "shell.execute_reply.started": "2024-01-24T14:45:38.842984Z"
    }
   },
   "outputs": [],
   "source": [
    "# del sampleb"
   ]
  },
  {
   "cell_type": "code",
   "execution_count": 247,
   "id": "6a8140c8-c94f-40e5-adc2-cc8be9c10ba8",
   "metadata": {
    "execution": {
     "iopub.execute_input": "2024-01-24T14:55:04.551509Z",
     "iopub.status.busy": "2024-01-24T14:55:04.550902Z",
     "iopub.status.idle": "2024-01-24T14:55:04.578820Z",
     "shell.execute_reply": "2024-01-24T14:55:04.578188Z",
     "shell.execute_reply.started": "2024-01-24T14:55:04.551468Z"
    }
   },
   "outputs": [],
   "source": [
    "# .groupby(by = ['Metadata_Source', 'Metadata_Plate']) \n",
    "grouped_metadata = joined_metadata.groupby(by = ['Metadata_Source', 'Metadata_Plate'])"
   ]
  },
  {
   "cell_type": "code",
   "execution_count": 293,
   "id": "14193df8-8d6e-4908-834e-c0f76d7f74e3",
   "metadata": {
    "execution": {
     "iopub.execute_input": "2024-01-24T15:26:24.482475Z",
     "iopub.status.busy": "2024-01-24T15:26:24.481912Z",
     "iopub.status.idle": "2024-01-24T15:26:24.747786Z",
     "shell.execute_reply": "2024-01-24T15:26:24.747062Z",
     "shell.execute_reply.started": "2024-01-24T15:26:24.482434Z"
    }
   },
   "outputs": [
    {
     "data": {
      "text/plain": [
       "1731"
      ]
     },
     "execution_count": 293,
     "metadata": {},
     "output_type": "execute_result"
    },
    {
     "name": "stdout",
     "output_type": "stream",
     "text": [
      "       Total for plates  : 0\n",
      "       Total for plates source_1 : 51\n",
      "       Total for plates source_10 : 208\n",
      "       Total for plates source_11 : 173\n",
      "       Total for plates source_2 : 219\n",
      "       Total for plates source_3 : 237\n",
      "       Total for plates source_5 : 197\n",
      "       Total for plates source_6 : 227\n",
      "       Total for plates source_7 : 121\n",
      "       Total for plates source_8 : 199\n",
      "       Total for plates source_9 : 99\n"
     ]
    }
   ],
   "source": [
    "len(grouped_metadata)\n",
    "cur_key = ''\n",
    "cur_ttl = 0 \n",
    "for ctr, (keys, group_data) in enumerate(grouped_metadata):\n",
    "    if cur_key != keys[0]:\n",
    "        print(f\"       Total for plates {cur_key} : {cur_ttl}\")\n",
    "        cur_key = keys[0]\n",
    "        cur_ttl = 0\n",
    "    # print(f\"{ctr:5d}     {keys[0]}   {keys[1]}   {group_data.shape[0]}\") \n",
    "    cur_ttl += 1\n",
    "    \n",
    "    # group_data.info()\n",
    "    # group_data.memory_usage(deep=True)\n",
    "    # if ctr > 500:\n",
    "    #     break\n",
    "print(f\"       Total for plates {cur_key} : {cur_ttl}\")\n",
    "    "
   ]
  },
  {
   "cell_type": "code",
   "execution_count": null,
   "id": "876d4fae-1856-4677-ae8a-52b28b97878f",
   "metadata": {},
   "outputs": [],
   "source": [
    "JCP2022_033924      CS(C)=O\n",
    "JCP2022_037716      CC1=CSC(=C1)c5nnc(Nc2ccc(cc2)Oc3ncccc3C4C=CNC(=N)N=4)c6ccccc56\n",
    "JCP2022_064022      CC(C)N=C(O)N1CCC(C1)N=C3Nc2cc(F)ccc2N(CC(F)F)c4ccc(Cl)cc34\n",
    "JCP2022_050797      C=CC1CN2CCC1CC2C(O)c3ccnc4ccc(cc34)OC\n",
    "JCP2022_025848      CC4CC3C2CC=C1CC(=O)C=CC1(C)C2(F)C(O)CC3(C)C4(O)C(=O)CO\n",
    "JCP2022_046054      OC(C=Cc1cccnc1)=NCCCCC2CCN(CC2)C(=O)c3ccccc3\n",
    "JCP2022_012818      COc4ncc3cc(C(=O)Nc1cc(ccc1Cl)C(O)=NCc2cccc(Cl)c2)c(O)nc3n4\n",
    "JCP2022_085227      CCOC(=O)C1OC1C(O)=NC(CC(C)C)C(O)=NCCC(C)C\n",
    "JCP2022_035095      C(CN1CCOCC1)Oc2ccc3c(c2)nccc3C5=C4CCCN4N=C5c6ccccn6\n",
    "JCP2022_033954      C1NN=C(C=1c2ccnc3ccccc23)c4ccccn4"
   ]
  },
  {
   "cell_type": "code",
   "execution_count": 375,
   "id": "765f4a62-b4f6-48e5-ab6f-163f8e2b75a6",
   "metadata": {
    "execution": {
     "iopub.execute_input": "2024-01-24T16:41:20.681229Z",
     "iopub.status.busy": "2024-01-24T16:41:20.680890Z",
     "iopub.status.idle": "2024-01-24T16:41:20.818924Z",
     "shell.execute_reply": "2024-01-24T16:41:20.818253Z",
     "shell.execute_reply.started": "2024-01-24T16:41:20.681206Z"
    }
   },
   "outputs": [
    {
     "data": {
      "text/plain": [
       "(88583, 12)"
      ]
     },
     "execution_count": 375,
     "metadata": {},
     "output_type": "execute_result"
    },
    {
     "name": "stdout",
     "output_type": "stream",
     "text": [
      "JCP2022_033924\n",
      "       Total for plates from source_1   :      51  total wells:  9217 \n",
      "       Total for plates from source_10  :     205  total wells:  6560 \n",
      "       Total for plates from source_11  :     173  total wells:  7587 \n",
      "       Total for plates from source_2   :     219  total wells: 10877 \n",
      "       Total for plates from source_3   :     237  total wells:  7574 \n",
      "       Total for plates from source_5   :     197  total wells:  6304 \n",
      "       Total for plates from source_6   :     225  total wells: 12832 \n",
      "       Total for plates from source_7   :     121  total wells:  7184 \n",
      "       Total for plates from source_8   :     199  total wells:  7776 \n",
      "       Total for plates from source_9   :      99  total wells: 12672 \n",
      "\n",
      "\n",
      " JCP2022_033924 \n",
      "\n",
      " source  1       51    9217        180.7\n",
      " source  2      219   10877         49.7\n",
      " source  3      237    7574         32.0\n",
      " source  4        1       0          0.0\n",
      " source  5      197    6304         32.0\n",
      " source  6      225   12832         57.0\n",
      " source  7      121    7184         59.4\n",
      " source  8      199    7776         39.1\n",
      " source  9       99   12672        128.0\n",
      " source 10      205    6560         32.0\n",
      " source 11      173    7587         43.9\n",
      "\n",
      " plates : 1726    wells: 88583\n"
     ]
    }
   ],
   "source": [
    "CC = \"JCP2022_033924\"\n",
    "# CC = \"JCP2022_037716\"\n",
    "# CC = \"JCP2022_064022\"\n",
    "# CC = \"JCP2022_050797\"\n",
    "# CC = \"JCP2022_025848\"\n",
    "# CC = \"JCP2022_046054\"\n",
    "# CC = \"JCP2022_012818\"\n",
    "# CC = \"JCP2022_085227\"\n",
    "# CC = \"JCP2022_035095\"\n",
    "# CC = \"JCP2022_033954\"\n",
    "dmso_metadata = joined_metadata[joined_metadata.Metadata_JCP2022 == CC]\n",
    "dmso_metadata.shape \n",
    "\n",
    "grouped_dmso = dmso_metadata.groupby(by = ['Metadata_Source', 'Metadata_Plate'])\n",
    "\n",
    "print(CC)\n",
    "cur_key = ''\n",
    "cur_plate_ttl = 0 \n",
    "cur_well_ttl = 0 \n",
    "well_ttl = 0\n",
    "plate_ttl = 0\n",
    "ttls = {} \n",
    "for ctr, (keys, group_data) in enumerate(grouped_dmso):\n",
    "    if cur_key != keys[0]:\n",
    "        if cur_key != '' :\n",
    "            print(f\"       Total for plates from {cur_key:10s} :    {cur_plate_ttl:4d}  total wells: {cur_well_ttl:5d} \")\n",
    "            ttls[int(cur_key.split('_')[-1])] = (cur_plate_ttl, cur_well_ttl)\n",
    "        cur_key = keys[0]\n",
    "        cur_plate_ttl = 0\n",
    "        cur_well_ttl = 0\n",
    "    # print(f\"{ctr:5d}     {keys[0]}   {keys[1]}   {group_data.shape[0]}\") \n",
    "    cur_plate_ttl += 1\n",
    "    plate_ttl +=1\n",
    "    cur_well_ttl  += group_data.shape[0]\n",
    "    well_ttl+= group_data.shape[0]\n",
    "    # group_data.info()\n",
    "    # group_data.memory_usage(deep=True)\n",
    "    # if ctr > 500:\n",
    "    #     break\n",
    "\n",
    "print(f\"       Total for plates from {cur_key:10s} :    {cur_plate_ttl:4d}  total wells: {cur_well_ttl:5d} \")\n",
    "\n",
    "ttls[int(cur_key.split('_')[-1])] = (cur_plate_ttl, cur_well_ttl)\n",
    "print(f'\\n\\n {CC} \\n')\n",
    "for i in range(1,12): \n",
    "    a = ttls.get(i, (1, 0))\n",
    "    print(f\" source {i:2d}    {a[0]:5d}   {a[1]:5d}   {a[1]/a[0]:>10.1f}\")\n",
    "\n",
    "print(f\"\\n plates : {plate_ttl}    wells: {well_ttl}\")"
   ]
  },
  {
   "cell_type": "markdown",
   "id": "84054a08-a0f5-465e-a2ed-1201e575d60c",
   "metadata": {},
   "source": [
    "#### Histogram"
   ]
  },
  {
   "cell_type": "code",
   "execution_count": 110,
   "id": "f25d725a-be93-43a5-9646-bc97ec04daf9",
   "metadata": {
    "ExecuteTime": {
     "end_time": "2023-06-29T00:24:26.549131Z",
     "start_time": "2023-06-29T00:24:26.415010Z"
    },
    "execution": {
     "iopub.execute_input": "2024-01-24T13:54:07.988240Z",
     "iopub.status.busy": "2024-01-24T13:54:07.987805Z",
     "iopub.status.idle": "2024-01-24T13:54:08.011810Z",
     "shell.execute_reply": "2024-01-24T13:54:08.010901Z",
     "shell.execute_reply.started": "2024-01-24T13:54:07.988204Z"
    }
   },
   "outputs": [],
   "source": [
    "# import matplotlib.pyplot as plt\n",
    "# the histogram of the data\n",
    "# plt.figure(figsize=(9, 5))\n",
    "# n, bins, patches = plt.hist(df_compound_counts[10:].values, range(1,60), density= False) ##  , facecolor='g', alpha=0.75, rwidth=1.0, orientation='horizontal')\n",
    "# n, bins, patches = plt.hist(df_well_use_counts, range(1,60), density= False) ##  , facecolor='g', alpha=0.75, rwidth=1.0, orientation='horizontal')\n",
    "\n",
    "# print('n', n[:10])\n",
    "# print('bins: ', bins[:10])\n",
    "# plt.xlabel('Count')\n",
    "# plt.ylabel('# of Wells')\n",
    "# plt.title('Histogram')\n",
    "# plt.text(60, .025, r'$\\mu=100,\\ \\sigma=15$')\n",
    "# plt.xlim(0, 60)\n",
    "# plt.ylim(0, 10000)\n",
    "# plt.grid(True)\n",
    "# plt.show()"
   ]
  },
  {
   "cell_type": "code",
   "execution_count": null,
   "id": "73bfcaee-3843-4da0-b871-f605ac5b0741",
   "metadata": {},
   "outputs": [],
   "source": []
  }
 ],
 "metadata": {
  "kernelspec": {
   "display_name": "Python [conda env:cp311]",
   "language": "python",
   "name": "conda-env-cp311-py"
  },
  "language_info": {
   "codemirror_mode": {
    "name": "ipython",
    "version": 3
   },
   "file_extension": ".py",
   "mimetype": "text/x-python",
   "name": "python",
   "nbconvert_exporter": "python",
   "pygments_lexer": "ipython3",
   "version": "3.11.4"
  },
  "toc": {
   "base_numbering": 1,
   "nav_menu": {},
   "number_sections": true,
   "sideBar": true,
   "skip_h1_title": false,
   "title_cell": "Table of Contents",
   "title_sidebar": "Contents",
   "toc_cell": false,
   "toc_position": {},
   "toc_section_display": true,
   "toc_window_display": false
  }
 },
 "nbformat": 4,
 "nbformat_minor": 5
}
