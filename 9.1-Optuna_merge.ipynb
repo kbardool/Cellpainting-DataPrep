{
 "cells": [
  {
   "cell_type": "markdown",
   "metadata": {
    "slideshow": {
     "slide_type": ""
    },
    "tags": []
   },
   "source": [
    " # Optuna Merge"
   ]
  },
  {
   "cell_type": "markdown",
   "metadata": {
    "slideshow": {
     "slide_type": ""
    },
    "tags": []
   },
   "source": [
    "**Merge two dbs within Optuna**"
   ]
  },
  {
   "cell_type": "markdown",
   "metadata": {},
   "source": [
    "# Initialization"
   ]
  },
  {
   "cell_type": "code",
   "execution_count": 1,
   "metadata": {
    "ExecuteTime": {
     "end_time": "2023-12-21T20:50:25.298115Z",
     "start_time": "2023-12-21T20:50:24.855884Z"
    },
    "execution": {
     "iopub.execute_input": "2024-04-22T17:58:34.221096Z",
     "iopub.status.busy": "2024-04-22T17:58:34.220610Z",
     "iopub.status.idle": "2024-04-22T17:58:34.887176Z",
     "shell.execute_reply": "2024-04-22T17:58:34.886238Z",
     "shell.execute_reply.started": "2024-04-22T17:58:34.221053Z"
    }
   },
   "outputs": [
    {
     "data": {
      "text/html": [
       "<style>.container { width:98% !important; }</style>"
      ],
      "text/plain": [
       "<IPython.core.display.HTML object>"
      ]
     },
     "metadata": {},
     "output_type": "display_data"
    }
   ],
   "source": [
    "from IPython.display import display, HTML\n",
    "display(HTML(\"<style>.container { width:98% !important; }</style>\"))\n",
    "%load_ext autoreload  \n",
    "%autoreload 2\n",
    "from IPython.core.interactiveshell import InteractiveShell\n",
    "InteractiveShell.ast_node_interactivity = \"all\"\n",
    "%matplotlib inline"
   ]
  },
  {
   "cell_type": "markdown",
   "metadata": {},
   "source": [
    "## imports "
   ]
  },
  {
   "cell_type": "code",
   "execution_count": 2,
   "metadata": {
    "ExecuteTime": {
     "end_time": "2023-12-21T20:50:28.460258Z",
     "start_time": "2023-12-21T20:50:25.868966Z"
    },
    "execution": {
     "iopub.execute_input": "2024-04-22T17:58:36.594041Z",
     "iopub.status.busy": "2024-04-22T17:58:36.593460Z",
     "iopub.status.idle": "2024-04-22T17:58:57.390727Z",
     "shell.execute_reply": "2024-04-22T17:58:57.389677Z",
     "shell.execute_reply.started": "2024-04-22T17:58:36.594009Z"
    }
   },
   "outputs": [
    {
     "name": "stdout",
     "output_type": "stream",
     "text": [
      "insert ./src\n",
      "['./src', '/home/kevin/WSL-shared/Cellpainting/cj-datasets', '/home/kevin/miniforge3/envs/cp311/lib/python311.zip', '/home/kevin/miniforge3/envs/cp311/lib/python3.11', '/home/kevin/miniforge3/envs/cp311/lib/python3.11/lib-dynload', '', '/home/kevin/miniforge3/envs/cp311/lib/python3.11/site-packages', '/home/kevin/miniforge3/envs/cp311/lib/python3.11/site-packages/huggingface_hub-0.20.3-py3.8.egg']\n"
     ]
    },
    {
     "name": "stderr",
     "output_type": "stream",
     "text": [
      "/home/kevin/miniforge3/envs/cp311/lib/python3.11/site-packages/dask/dataframe/_pyarrow_compat.py:17: FutureWarning: Minimal version of pyarrow will soon be increased to 14.0.1. You are using 11.0.0. Please consider upgrading.\n",
      "  warnings.warn(\n"
     ]
    }
   ],
   "source": [
    "# Models\n",
    "import os, sys\n",
    "import math\n",
    "import pickle\n",
    "import itertools\n",
    "import copy \n",
    "import joblib\n",
    "import logging \n",
    "import types\n",
    "\n",
    "from datetime import datetime, time\n",
    "from collections.abc import Iterator\n",
    "if './src' not in sys.path:\n",
    "    print(f\"insert ./src\")\n",
    "    sys.path.insert(0, './src')\n",
    "print(sys.path)\n",
    "\n",
    "import numpy as np\n",
    "np.set_printoptions(edgeitems=3, infstr='inf', linewidth=150, nanstr='nan')\n",
    "\n",
    "import pandas as pd\n",
    "pd.options.display.width = 170\n",
    "\n",
    "import scipy.stats as sps \n",
    "\n",
    "import matplotlib.pyplot as plt\n",
    "\n",
    "from pprint import PrettyPrinter\n",
    "pp = PrettyPrinter(indent=4)\n",
    "from collections import defaultdict\n",
    "from utils_cellpainting import *\n",
    "from utils import display_gpu_info, display_gpu_device_info\n",
    "# (initialize, init_dataloaders, init_environment, init_wandb, training_initializations, model_initializations, \n",
    "\n",
    "\n",
    "import warnings\n",
    "warnings.filterwarnings('ignore')"
   ]
  },
  {
   "cell_type": "code",
   "execution_count": 3,
   "metadata": {
    "execution": {
     "iopub.execute_input": "2024-04-22T17:58:57.392735Z",
     "iopub.status.busy": "2024-04-22T17:58:57.392337Z",
     "iopub.status.idle": "2024-04-22T17:58:57.421587Z",
     "shell.execute_reply": "2024-04-22T17:58:57.420763Z",
     "shell.execute_reply.started": "2024-04-22T17:58:57.392713Z"
    }
   },
   "outputs": [],
   "source": [
    "# display_gpu_info()"
   ]
  },
  {
   "cell_type": "code",
   "execution_count": 4,
   "metadata": {
    "ExecuteTime": {
     "end_time": "2023-12-21T20:50:31.139023Z",
     "start_time": "2023-12-21T20:50:30.891155Z"
    },
    "execution": {
     "iopub.execute_input": "2024-04-22T17:58:57.422675Z",
     "iopub.status.busy": "2024-04-22T17:58:57.422406Z",
     "iopub.status.idle": "2024-04-22T17:58:57.450370Z",
     "shell.execute_reply": "2024-04-22T17:58:57.449483Z",
     "shell.execute_reply.started": "2024-04-22T17:58:57.422631Z"
    }
   },
   "outputs": [],
   "source": [
    "# import joblib\n",
    "# from dask_cuda import LocalCUDACluster\n",
    "# from sklearn.model_selection import GridSearchCV\n",
    "import optuna\n",
    "\n"
   ]
  },
  {
   "cell_type": "code",
   "execution_count": 5,
   "metadata": {
    "ExecuteTime": {
     "end_time": "2023-12-21T20:50:28.476862Z",
     "start_time": "2023-12-21T20:50:28.461907Z"
    },
    "execution": {
     "iopub.execute_input": "2024-04-22T17:58:57.451620Z",
     "iopub.status.busy": "2024-04-22T17:58:57.451442Z",
     "iopub.status.idle": "2024-04-22T17:58:57.481507Z",
     "shell.execute_reply": "2024-04-22T17:58:57.480654Z",
     "shell.execute_reply.started": "2024-04-22T17:58:57.451602Z"
    }
   },
   "outputs": [],
   "source": [
    "# os.environ[\"WANDB_NOTEBOOK_NAME\"] = \"Adashare_Train.ipynb\"\n",
    "# os.environ[\"CUDA_LAUNCH_BLOCKING\"] = \"1\"\n",
    "# os.environ[\"CUDA_VISIBLE_DEVICES\"] = \"2\""
   ]
  },
  {
   "cell_type": "code",
   "execution_count": 6,
   "metadata": {
    "execution": {
     "iopub.execute_input": "2024-04-22T17:59:00.448953Z",
     "iopub.status.busy": "2024-04-22T17:59:00.448706Z",
     "iopub.status.idle": "2024-04-22T17:59:00.483747Z",
     "shell.execute_reply": "2024-04-22T17:59:00.482712Z",
     "shell.execute_reply.started": "2024-04-22T17:59:00.448932Z"
    }
   },
   "outputs": [
    {
     "name": "stdout",
     "output_type": "stream",
     "text": [
      "\n",
      " datetime.now().strftime('%x%X')                     : 04/22/2419:59:00\n",
      " datetime.now().strftime('%X %x %Z')                 : 19:59:00 04/22/24 \n",
      " datetime.now().strftime('%X.%f')                    : 19:59:00.479777\n",
      " datetime.now().strftime('%D-%X.%f')                 : 04/22/24-19:59:00.479789\n",
      " datetime.now().strftime('%Y-%m-%d %H:%M:%S.%f')     : 2024-04-22 19:59:00.479799\n"
     ]
    }
   ],
   "source": [
    "logLevel = os.environ.get('LOG_LEVEL', 'INFO').upper()\n",
    "FORMAT = '%(asctime)s - %(levelname)s: - %(message)s'\n",
    "logging.basicConfig(level=\"INFO\", format= FORMAT)\n",
    "logging.getLogger(\"imported_module\").setLevel(logging.CRITICAL)\n",
    "# logging.info(f\" 1/7- engine connected\")\n",
    "# logging.warning(f\" 1/7- engine connected\")\n",
    "# logging.error(f\" 1/7- engine connected\")\n",
    "# logging.critical(f\" 1/7- engine connected\")\n",
    "\n",
    "# print(logging.NOTSET, logging.DEBUG,  logging.INFO, logging.WARN, logging.WARNING, logging.ERROR, logging.CRITICAL,  logging.FATAL)\n",
    "# xgb.__version__\n",
    "\n",
    "print()\n",
    "for time_fmt in ['%x%X', '%X %x %Z', '%X.%f', '%D-%X.%f', '%Y-%m-%d %H:%M:%S.%f']:\n",
    "    cmd_string = f\"datetime.now().strftime('{time_fmt}')\"\n",
    "    print(f\" {cmd_string:50s}  : {datetime.now().strftime(time_fmt)}\")"
   ]
  },
  {
   "cell_type": "markdown",
   "metadata": {},
   "source": [
    "## Datasets"
   ]
  },
  {
   "cell_type": "code",
   "execution_count": 12,
   "metadata": {
    "ExecuteTime": {
     "end_time": "2023-12-21T20:50:35.620802Z",
     "start_time": "2023-12-21T20:50:35.605234Z"
    },
    "execution": {
     "iopub.execute_input": "2024-04-22T18:00:04.345364Z",
     "iopub.status.busy": "2024-04-22T18:00:04.344816Z",
     "iopub.status.idle": "2024-04-22T18:00:04.380319Z",
     "shell.execute_reply": "2024-04-22T18:00:04.379657Z",
     "shell.execute_reply.started": "2024-04-22T18:00:04.345312Z"
    },
    "lines_to_next_cell": 0
   },
   "outputs": [],
   "source": [
    "prefix = '' ### Target-2' , 'MOA'\n",
    "db1  = f\"./example.db\"\n",
    "db2  = f\"./example_copy.db\""
   ]
  },
  {
   "cell_type": "code",
   "execution_count": 8,
   "metadata": {
    "execution": {
     "iopub.execute_input": "2024-04-22T17:59:06.437208Z",
     "iopub.status.busy": "2024-04-22T17:59:06.436925Z",
     "iopub.status.idle": "2024-04-22T17:59:06.475132Z",
     "shell.execute_reply": "2024-04-22T17:59:06.474139Z",
     "shell.execute_reply.started": "2024-04-22T17:59:06.437186Z"
    }
   },
   "outputs": [],
   "source": [
    "import sqlite3\n",
    "import pandas as pd"
   ]
  },
  {
   "cell_type": "code",
   "execution_count": 9,
   "metadata": {
    "execution": {
     "iopub.execute_input": "2024-04-22T17:59:40.732141Z",
     "iopub.status.busy": "2024-04-22T17:59:40.731570Z",
     "iopub.status.idle": "2024-04-22T17:59:40.778065Z",
     "shell.execute_reply": "2024-04-22T17:59:40.776692Z",
     "shell.execute_reply.started": "2024-04-22T17:59:40.732097Z"
    }
   },
   "outputs": [],
   "source": [
    "def combine_optuna_dbs(db1_path, db2_path):\n",
    "    \"\"\"\"\n",
    "    This function combines two optuna databases into the db1.\n",
    "    Both dbs should be from the same study.\n",
    "    The ids of the db2 are updated to be unique.\n",
    "    \"\"\"\n",
    "    \n",
    "    # get all the tables names\n",
    "    with sqlite3.connect(db1_path) as con:\n",
    "        tables = con.execute(\"SELECT name FROM sqlite_master WHERE type='table';\").fetchall()\n",
    "        tables = [table[0] for table in tables]\n",
    "    not_tables = ['studies', 'version_info', 'study_directions', 'alembic_version']\n",
    "    tables = [table for table in tables if table not in not_tables]\n",
    "    print(f\"tbles are: {tables}\")\n",
    "    \n",
    "    dfs1 = {}\n",
    "    with sqlite3.connect(db1_path) as con:\n",
    "        for table in tables:\n",
    "            dfs1[table] = pd.read_sql_query(f\"SELECT * FROM {table}\", con)\n",
    "    return dfs1\n",
    "    table_ids = {'study_user_attributes'     : ['study_user_attribute_id'],\n",
    "                 'study_system_attributes'   : ['study_system_attribute_id'],\n",
    "                 'trials'                    : ['trial_id', 'number'],\n",
    "                 'trial_user_attributes'     : ['trial_user_attribute_id'],\n",
    "                 'trial_system_attributes'   : ['trial_system_attribute_id'],\n",
    "                 'trial_params'              : ['param_id'],\n",
    "                 'trial_values'              : ['trial_value_id'],\n",
    "                 'trial_intermediate_values' : ['trial_intermediate_value_id'],\n",
    "                 'trial_heartbeats'          : ['trial_heartbeat_id'],\n",
    "    }\n",
    "    \n",
    "    max_ids = {}\n",
    "    \n",
    "    # # add max id if the table is not empty\n",
    "    # for table in tables:\n",
    "    #     if len(dfs1[table]) > 0:\n",
    "    #         for id in table_ids[table]:\n",
    "    #             max_ids[id] = dfs1[table].iloc[-1][id]\n",
    "    #     else:\n",
    "    #         for id in table_ids[table]:\n",
    "    #             max_ids[id] = 0\n",
    "    \n",
    "    dfs2 = {}\n",
    "    with sqlite3.connect(db2_path) as con:\n",
    "        for table in tables:\n",
    "            dfs2[table] = pd.read_sql_query(f\"SELECT * FROM {table}\", con)\n",
    "    \n",
    "    update_ids = {'study_user_attributes'     : ['study_user_attribute_id'],\n",
    "                  'study_system_attributes'   : ['study_system_attribute_id'],\n",
    "                  'trials'                    : ['trial_id', 'number'],\n",
    "                  'trial_user_attributes'     : ['trial_user_attribute_id'  , 'trial_id'],\n",
    "                  'trial_system_attributes'   : ['trial_system_attribute_id', 'trial_id'],\n",
    "                  'trial_params'              : ['param_id', 'trial_id'],\n",
    "                  'trial_values'              : ['trial_value_id', 'trial_id'],\n",
    "                  'trial_intermediate_values' : ['trial_intermediate_value_id', 'trial_id'],\n",
    "                  'trial_heartbeats'          : ['trial_heartbeat_id', 'trial_id'],\n",
    "    }\n",
    "    \n",
    "    # # update the ids of the second db\n",
    "    # for table in tables:\n",
    "    #     if len(dfs2[table]) > 0:\n",
    "    #         for id in update_ids[table]:\n",
    "    #             dfs2[table][id] = dfs2[table][id] + max_ids[id]\n",
    "    \n",
    "    # # add the second db to the first db\n",
    "    # with sqlite3.connect(db1_path) as con1:\n",
    "    #     for table in tables:\n",
    "    #         dfs2[table].to_sql(table, con1, if_exists='append', index=False)"
   ]
  },
  {
   "cell_type": "code",
   "execution_count": 13,
   "metadata": {
    "execution": {
     "iopub.execute_input": "2024-04-22T18:00:06.402286Z",
     "iopub.status.busy": "2024-04-22T18:00:06.401859Z",
     "iopub.status.idle": "2024-04-22T18:00:06.491090Z",
     "shell.execute_reply": "2024-04-22T18:00:06.490208Z",
     "shell.execute_reply.started": "2024-04-22T18:00:06.402250Z"
    }
   },
   "outputs": [
    {
     "name": "stdout",
     "output_type": "stream",
     "text": [
      "tbles are: ['study_user_attributes', 'study_system_attributes', 'trials', 'trial_user_attributes', 'trial_system_attributes', 'trial_params', 'trial_values', 'trial_intermediate_values', 'trial_heartbeats']\n"
     ]
    }
   ],
   "source": [
    "tbls =  combine_optuna_dbs(db1, db2)"
   ]
  },
  {
   "cell_type": "code",
   "execution_count": 14,
   "metadata": {
    "execution": {
     "iopub.execute_input": "2024-04-22T18:00:18.904083Z",
     "iopub.status.busy": "2024-04-22T18:00:18.903628Z",
     "iopub.status.idle": "2024-04-22T18:00:18.941725Z",
     "shell.execute_reply": "2024-04-22T18:00:18.941062Z",
     "shell.execute_reply.started": "2024-04-22T18:00:18.904045Z"
    }
   },
   "outputs": [
    {
     "data": {
      "text/plain": [
       "dict_keys(['study_user_attributes', 'study_system_attributes', 'trials', 'trial_user_attributes', 'trial_system_attributes', 'trial_params', 'trial_values', 'trial_intermediate_values', 'trial_heartbeats'])"
      ]
     },
     "execution_count": 14,
     "metadata": {},
     "output_type": "execute_result"
    }
   ],
   "source": [
    "tbls.keys()"
   ]
  },
  {
   "cell_type": "code",
   "execution_count": 24,
   "metadata": {
    "execution": {
     "iopub.execute_input": "2024-04-22T18:03:55.302746Z",
     "iopub.status.busy": "2024-04-22T18:03:55.302232Z",
     "iopub.status.idle": "2024-04-22T18:03:55.376157Z",
     "shell.execute_reply": "2024-04-22T18:03:55.375549Z",
     "shell.execute_reply.started": "2024-04-22T18:03:55.302709Z"
    }
   },
   "outputs": [
    {
     "data": {
      "text/html": [
       "<div>\n",
       "<style scoped>\n",
       "    .dataframe tbody tr th:only-of-type {\n",
       "        vertical-align: middle;\n",
       "    }\n",
       "\n",
       "    .dataframe tbody tr th {\n",
       "        vertical-align: top;\n",
       "    }\n",
       "\n",
       "    .dataframe thead th {\n",
       "        text-align: right;\n",
       "    }\n",
       "</style>\n",
       "<table border=\"1\" class=\"dataframe\">\n",
       "  <thead>\n",
       "    <tr style=\"text-align: right;\">\n",
       "      <th></th>\n",
       "      <th>study_user_attribute_id</th>\n",
       "      <th>study_id</th>\n",
       "      <th>key</th>\n",
       "      <th>value_json</th>\n",
       "    </tr>\n",
       "  </thead>\n",
       "  <tbody>\n",
       "  </tbody>\n",
       "</table>\n",
       "</div>"
      ],
      "text/plain": [
       "Empty DataFrame\n",
       "Columns: [study_user_attribute_id, study_id, key, value_json]\n",
       "Index: []"
      ]
     },
     "execution_count": 24,
     "metadata": {},
     "output_type": "execute_result"
    },
    {
     "data": {
      "text/html": [
       "<div>\n",
       "<style scoped>\n",
       "    .dataframe tbody tr th:only-of-type {\n",
       "        vertical-align: middle;\n",
       "    }\n",
       "\n",
       "    .dataframe tbody tr th {\n",
       "        vertical-align: top;\n",
       "    }\n",
       "\n",
       "    .dataframe thead th {\n",
       "        text-align: right;\n",
       "    }\n",
       "</style>\n",
       "<table border=\"1\" class=\"dataframe\">\n",
       "  <thead>\n",
       "    <tr style=\"text-align: right;\">\n",
       "      <th></th>\n",
       "      <th>trial_user_attribute_id</th>\n",
       "      <th>trial_id</th>\n",
       "      <th>key</th>\n",
       "      <th>value_json</th>\n",
       "    </tr>\n",
       "  </thead>\n",
       "  <tbody>\n",
       "  </tbody>\n",
       "</table>\n",
       "</div>"
      ],
      "text/plain": [
       "Empty DataFrame\n",
       "Columns: [trial_user_attribute_id, trial_id, key, value_json]\n",
       "Index: []"
      ]
     },
     "execution_count": 24,
     "metadata": {},
     "output_type": "execute_result"
    },
    {
     "data": {
      "text/html": [
       "<div>\n",
       "<style scoped>\n",
       "    .dataframe tbody tr th:only-of-type {\n",
       "        vertical-align: middle;\n",
       "    }\n",
       "\n",
       "    .dataframe tbody tr th {\n",
       "        vertical-align: top;\n",
       "    }\n",
       "\n",
       "    .dataframe thead th {\n",
       "        text-align: right;\n",
       "    }\n",
       "</style>\n",
       "<table border=\"1\" class=\"dataframe\">\n",
       "  <thead>\n",
       "    <tr style=\"text-align: right;\">\n",
       "      <th></th>\n",
       "      <th>trial_intermediate_value_id</th>\n",
       "      <th>trial_id</th>\n",
       "      <th>step</th>\n",
       "      <th>intermediate_value</th>\n",
       "      <th>intermediate_value_type</th>\n",
       "    </tr>\n",
       "  </thead>\n",
       "  <tbody>\n",
       "  </tbody>\n",
       "</table>\n",
       "</div>"
      ],
      "text/plain": [
       "Empty DataFrame\n",
       "Columns: [trial_intermediate_value_id, trial_id, step, intermediate_value, intermediate_value_type]\n",
       "Index: []"
      ]
     },
     "execution_count": 24,
     "metadata": {},
     "output_type": "execute_result"
    },
    {
     "data": {
      "text/html": [
       "<div>\n",
       "<style scoped>\n",
       "    .dataframe tbody tr th:only-of-type {\n",
       "        vertical-align: middle;\n",
       "    }\n",
       "\n",
       "    .dataframe tbody tr th {\n",
       "        vertical-align: top;\n",
       "    }\n",
       "\n",
       "    .dataframe thead th {\n",
       "        text-align: right;\n",
       "    }\n",
       "</style>\n",
       "<table border=\"1\" class=\"dataframe\">\n",
       "  <thead>\n",
       "    <tr style=\"text-align: right;\">\n",
       "      <th></th>\n",
       "      <th>trial_heartbeat_id</th>\n",
       "      <th>trial_id</th>\n",
       "      <th>heartbeat</th>\n",
       "    </tr>\n",
       "  </thead>\n",
       "  <tbody>\n",
       "  </tbody>\n",
       "</table>\n",
       "</div>"
      ],
      "text/plain": [
       "Empty DataFrame\n",
       "Columns: [trial_heartbeat_id, trial_id, heartbeat]\n",
       "Index: []"
      ]
     },
     "execution_count": 24,
     "metadata": {},
     "output_type": "execute_result"
    },
    {
     "data": {
      "text/html": [
       "<div>\n",
       "<style scoped>\n",
       "    .dataframe tbody tr th:only-of-type {\n",
       "        vertical-align: middle;\n",
       "    }\n",
       "\n",
       "    .dataframe tbody tr th {\n",
       "        vertical-align: top;\n",
       "    }\n",
       "\n",
       "    .dataframe thead th {\n",
       "        text-align: right;\n",
       "    }\n",
       "</style>\n",
       "<table border=\"1\" class=\"dataframe\">\n",
       "  <thead>\n",
       "    <tr style=\"text-align: right;\">\n",
       "      <th></th>\n",
       "      <th>study_system_attribute_id</th>\n",
       "      <th>study_id</th>\n",
       "      <th>key</th>\n",
       "      <th>value_json</th>\n",
       "    </tr>\n",
       "  </thead>\n",
       "  <tbody>\n",
       "    <tr>\n",
       "      <th>0</th>\n",
       "      <td>1</td>\n",
       "      <td>2</td>\n",
       "      <td>study:metric_names</td>\n",
       "      <td>[\"mse_score\", \"R2_score\"]</td>\n",
       "    </tr>\n",
       "    <tr>\n",
       "      <th>1</th>\n",
       "      <td>2</td>\n",
       "      <td>4</td>\n",
       "      <td>study:metric_names</td>\n",
       "      <td>[\"mse_score\", \"pearson_corr\"]</td>\n",
       "    </tr>\n",
       "    <tr>\n",
       "      <th>2</th>\n",
       "      <td>3</td>\n",
       "      <td>5</td>\n",
       "      <td>study:metric_names</td>\n",
       "      <td>[\"roc_auc\", \"logloss\"]</td>\n",
       "    </tr>\n",
       "  </tbody>\n",
       "</table>\n",
       "</div>"
      ],
      "text/plain": [
       "   study_system_attribute_id  study_id                 key                     value_json\n",
       "0                          1         2  study:metric_names      [\"mse_score\", \"R2_score\"]\n",
       "1                          2         4  study:metric_names  [\"mse_score\", \"pearson_corr\"]\n",
       "2                          3         5  study:metric_names         [\"roc_auc\", \"logloss\"]"
      ]
     },
     "execution_count": 24,
     "metadata": {},
     "output_type": "execute_result"
    },
    {
     "data": {
      "text/html": [
       "<div>\n",
       "<style scoped>\n",
       "    .dataframe tbody tr th:only-of-type {\n",
       "        vertical-align: middle;\n",
       "    }\n",
       "\n",
       "    .dataframe tbody tr th {\n",
       "        vertical-align: top;\n",
       "    }\n",
       "\n",
       "    .dataframe thead th {\n",
       "        text-align: right;\n",
       "    }\n",
       "</style>\n",
       "<table border=\"1\" class=\"dataframe\">\n",
       "  <thead>\n",
       "    <tr style=\"text-align: right;\">\n",
       "      <th></th>\n",
       "      <th>trial_system_attribute_id</th>\n",
       "      <th>trial_id</th>\n",
       "      <th>key</th>\n",
       "      <th>value_json</th>\n",
       "    </tr>\n",
       "  </thead>\n",
       "  <tbody>\n",
       "    <tr>\n",
       "      <th>0</th>\n",
       "      <td>1</td>\n",
       "      <td>17</td>\n",
       "      <td>nsga2:generation</td>\n",
       "      <td>0</td>\n",
       "    </tr>\n",
       "    <tr>\n",
       "      <th>1</th>\n",
       "      <td>2</td>\n",
       "      <td>18</td>\n",
       "      <td>nsga2:generation</td>\n",
       "      <td>0</td>\n",
       "    </tr>\n",
       "    <tr>\n",
       "      <th>2</th>\n",
       "      <td>3</td>\n",
       "      <td>19</td>\n",
       "      <td>nsga2:generation</td>\n",
       "      <td>0</td>\n",
       "    </tr>\n",
       "    <tr>\n",
       "      <th>3</th>\n",
       "      <td>4</td>\n",
       "      <td>20</td>\n",
       "      <td>nsga2:generation</td>\n",
       "      <td>0</td>\n",
       "    </tr>\n",
       "    <tr>\n",
       "      <th>4</th>\n",
       "      <td>5</td>\n",
       "      <td>21</td>\n",
       "      <td>nsga2:generation</td>\n",
       "      <td>0</td>\n",
       "    </tr>\n",
       "    <tr>\n",
       "      <th>...</th>\n",
       "      <td>...</td>\n",
       "      <td>...</td>\n",
       "      <td>...</td>\n",
       "      <td>...</td>\n",
       "    </tr>\n",
       "    <tr>\n",
       "      <th>99</th>\n",
       "      <td>100</td>\n",
       "      <td>116</td>\n",
       "      <td>nsga2:generation</td>\n",
       "      <td>0</td>\n",
       "    </tr>\n",
       "    <tr>\n",
       "      <th>100</th>\n",
       "      <td>101</td>\n",
       "      <td>117</td>\n",
       "      <td>nsga2:generation</td>\n",
       "      <td>0</td>\n",
       "    </tr>\n",
       "    <tr>\n",
       "      <th>101</th>\n",
       "      <td>102</td>\n",
       "      <td>118</td>\n",
       "      <td>nsga2:generation</td>\n",
       "      <td>0</td>\n",
       "    </tr>\n",
       "    <tr>\n",
       "      <th>102</th>\n",
       "      <td>103</td>\n",
       "      <td>119</td>\n",
       "      <td>nsga2:generation</td>\n",
       "      <td>0</td>\n",
       "    </tr>\n",
       "    <tr>\n",
       "      <th>103</th>\n",
       "      <td>104</td>\n",
       "      <td>120</td>\n",
       "      <td>nsga2:generation</td>\n",
       "      <td>0</td>\n",
       "    </tr>\n",
       "  </tbody>\n",
       "</table>\n",
       "<p>104 rows × 4 columns</p>\n",
       "</div>"
      ],
      "text/plain": [
       "     trial_system_attribute_id  trial_id               key value_json\n",
       "0                            1        17  nsga2:generation          0\n",
       "1                            2        18  nsga2:generation          0\n",
       "2                            3        19  nsga2:generation          0\n",
       "3                            4        20  nsga2:generation          0\n",
       "4                            5        21  nsga2:generation          0\n",
       "..                         ...       ...               ...        ...\n",
       "99                         100       116  nsga2:generation          0\n",
       "100                        101       117  nsga2:generation          0\n",
       "101                        102       118  nsga2:generation          0\n",
       "102                        103       119  nsga2:generation          0\n",
       "103                        104       120  nsga2:generation          0\n",
       "\n",
       "[104 rows x 4 columns]"
      ]
     },
     "execution_count": 24,
     "metadata": {},
     "output_type": "execute_result"
    },
    {
     "data": {
      "text/html": [
       "<div>\n",
       "<style scoped>\n",
       "    .dataframe tbody tr th:only-of-type {\n",
       "        vertical-align: middle;\n",
       "    }\n",
       "\n",
       "    .dataframe tbody tr th {\n",
       "        vertical-align: top;\n",
       "    }\n",
       "\n",
       "    .dataframe thead th {\n",
       "        text-align: right;\n",
       "    }\n",
       "</style>\n",
       "<table border=\"1\" class=\"dataframe\">\n",
       "  <thead>\n",
       "    <tr style=\"text-align: right;\">\n",
       "      <th></th>\n",
       "      <th>trial_id</th>\n",
       "      <th>number</th>\n",
       "      <th>study_id</th>\n",
       "      <th>state</th>\n",
       "      <th>datetime_start</th>\n",
       "      <th>datetime_complete</th>\n",
       "    </tr>\n",
       "  </thead>\n",
       "  <tbody>\n",
       "    <tr>\n",
       "      <th>0</th>\n",
       "      <td>17</td>\n",
       "      <td>0</td>\n",
       "      <td>2</td>\n",
       "      <td>FAIL</td>\n",
       "      <td>2024-01-10 15:34:20.240464</td>\n",
       "      <td>2024-01-10 15:34:20.458984</td>\n",
       "    </tr>\n",
       "    <tr>\n",
       "      <th>1</th>\n",
       "      <td>18</td>\n",
       "      <td>1</td>\n",
       "      <td>2</td>\n",
       "      <td>COMPLETE</td>\n",
       "      <td>2024-01-10 15:51:14.898264</td>\n",
       "      <td>2024-01-10 16:00:22.971070</td>\n",
       "    </tr>\n",
       "    <tr>\n",
       "      <th>2</th>\n",
       "      <td>19</td>\n",
       "      <td>2</td>\n",
       "      <td>2</td>\n",
       "      <td>COMPLETE</td>\n",
       "      <td>2024-01-10 16:00:23.425742</td>\n",
       "      <td>2024-01-10 16:10:23.476871</td>\n",
       "    </tr>\n",
       "    <tr>\n",
       "      <th>3</th>\n",
       "      <td>20</td>\n",
       "      <td>3</td>\n",
       "      <td>2</td>\n",
       "      <td>COMPLETE</td>\n",
       "      <td>2024-01-10 16:10:23.958746</td>\n",
       "      <td>2024-01-10 16:20:46.199603</td>\n",
       "    </tr>\n",
       "    <tr>\n",
       "      <th>4</th>\n",
       "      <td>21</td>\n",
       "      <td>4</td>\n",
       "      <td>2</td>\n",
       "      <td>COMPLETE</td>\n",
       "      <td>2024-01-10 16:20:46.713100</td>\n",
       "      <td>2024-01-10 16:31:21.687379</td>\n",
       "    </tr>\n",
       "    <tr>\n",
       "      <th>...</th>\n",
       "      <td>...</td>\n",
       "      <td>...</td>\n",
       "      <td>...</td>\n",
       "      <td>...</td>\n",
       "      <td>...</td>\n",
       "      <td>...</td>\n",
       "    </tr>\n",
       "    <tr>\n",
       "      <th>99</th>\n",
       "      <td>116</td>\n",
       "      <td>25</td>\n",
       "      <td>5</td>\n",
       "      <td>COMPLETE</td>\n",
       "      <td>2024-02-12 01:55:54.321211</td>\n",
       "      <td>2024-02-12 02:12:44.511828</td>\n",
       "    </tr>\n",
       "    <tr>\n",
       "      <th>100</th>\n",
       "      <td>117</td>\n",
       "      <td>26</td>\n",
       "      <td>5</td>\n",
       "      <td>COMPLETE</td>\n",
       "      <td>2024-02-12 02:12:45.046738</td>\n",
       "      <td>2024-02-12 02:29:49.915460</td>\n",
       "    </tr>\n",
       "    <tr>\n",
       "      <th>101</th>\n",
       "      <td>118</td>\n",
       "      <td>27</td>\n",
       "      <td>5</td>\n",
       "      <td>COMPLETE</td>\n",
       "      <td>2024-02-12 02:29:50.425523</td>\n",
       "      <td>2024-02-12 03:59:12.655144</td>\n",
       "    </tr>\n",
       "    <tr>\n",
       "      <th>102</th>\n",
       "      <td>119</td>\n",
       "      <td>28</td>\n",
       "      <td>5</td>\n",
       "      <td>COMPLETE</td>\n",
       "      <td>2024-02-12 03:59:13.129237</td>\n",
       "      <td>2024-02-12 04:49:11.655533</td>\n",
       "    </tr>\n",
       "    <tr>\n",
       "      <th>103</th>\n",
       "      <td>120</td>\n",
       "      <td>29</td>\n",
       "      <td>5</td>\n",
       "      <td>COMPLETE</td>\n",
       "      <td>2024-02-12 04:49:12.123042</td>\n",
       "      <td>2024-02-12 05:08:23.327686</td>\n",
       "    </tr>\n",
       "  </tbody>\n",
       "</table>\n",
       "<p>104 rows × 6 columns</p>\n",
       "</div>"
      ],
      "text/plain": [
       "     trial_id  number  study_id     state              datetime_start           datetime_complete\n",
       "0          17       0         2      FAIL  2024-01-10 15:34:20.240464  2024-01-10 15:34:20.458984\n",
       "1          18       1         2  COMPLETE  2024-01-10 15:51:14.898264  2024-01-10 16:00:22.971070\n",
       "2          19       2         2  COMPLETE  2024-01-10 16:00:23.425742  2024-01-10 16:10:23.476871\n",
       "3          20       3         2  COMPLETE  2024-01-10 16:10:23.958746  2024-01-10 16:20:46.199603\n",
       "4          21       4         2  COMPLETE  2024-01-10 16:20:46.713100  2024-01-10 16:31:21.687379\n",
       "..        ...     ...       ...       ...                         ...                         ...\n",
       "99        116      25         5  COMPLETE  2024-02-12 01:55:54.321211  2024-02-12 02:12:44.511828\n",
       "100       117      26         5  COMPLETE  2024-02-12 02:12:45.046738  2024-02-12 02:29:49.915460\n",
       "101       118      27         5  COMPLETE  2024-02-12 02:29:50.425523  2024-02-12 03:59:12.655144\n",
       "102       119      28         5  COMPLETE  2024-02-12 03:59:13.129237  2024-02-12 04:49:11.655533\n",
       "103       120      29         5  COMPLETE  2024-02-12 04:49:12.123042  2024-02-12 05:08:23.327686\n",
       "\n",
       "[104 rows x 6 columns]"
      ]
     },
     "execution_count": 24,
     "metadata": {},
     "output_type": "execute_result"
    },
    {
     "data": {
      "text/html": [
       "<div>\n",
       "<style scoped>\n",
       "    .dataframe tbody tr th:only-of-type {\n",
       "        vertical-align: middle;\n",
       "    }\n",
       "\n",
       "    .dataframe tbody tr th {\n",
       "        vertical-align: top;\n",
       "    }\n",
       "\n",
       "    .dataframe thead th {\n",
       "        text-align: right;\n",
       "    }\n",
       "</style>\n",
       "<table border=\"1\" class=\"dataframe\">\n",
       "  <thead>\n",
       "    <tr style=\"text-align: right;\">\n",
       "      <th></th>\n",
       "      <th>param_id</th>\n",
       "      <th>trial_id</th>\n",
       "      <th>param_name</th>\n",
       "      <th>param_value</th>\n",
       "      <th>distribution_json</th>\n",
       "    </tr>\n",
       "  </thead>\n",
       "  <tbody>\n",
       "    <tr>\n",
       "      <th>0</th>\n",
       "      <td>49</td>\n",
       "      <td>17</td>\n",
       "      <td>learning_rate</td>\n",
       "      <td>0.021931</td>\n",
       "      <td>{\"name\": \"FloatDistribution\", \"attributes\": {\"...</td>\n",
       "    </tr>\n",
       "    <tr>\n",
       "      <th>1</th>\n",
       "      <td>50</td>\n",
       "      <td>17</td>\n",
       "      <td>colsample_bytree</td>\n",
       "      <td>0.614273</td>\n",
       "      <td>{\"name\": \"FloatDistribution\", \"attributes\": {\"...</td>\n",
       "    </tr>\n",
       "    <tr>\n",
       "      <th>2</th>\n",
       "      <td>51</td>\n",
       "      <td>17</td>\n",
       "      <td>colsample_bylevel</td>\n",
       "      <td>0.891675</td>\n",
       "      <td>{\"name\": \"FloatDistribution\", \"attributes\": {\"...</td>\n",
       "    </tr>\n",
       "    <tr>\n",
       "      <th>3</th>\n",
       "      <td>52</td>\n",
       "      <td>17</td>\n",
       "      <td>colsample_bynode</td>\n",
       "      <td>0.598044</td>\n",
       "      <td>{\"name\": \"FloatDistribution\", \"attributes\": {\"...</td>\n",
       "    </tr>\n",
       "    <tr>\n",
       "      <th>4</th>\n",
       "      <td>53</td>\n",
       "      <td>17</td>\n",
       "      <td>reg_lambda</td>\n",
       "      <td>0.677960</td>\n",
       "      <td>{\"name\": \"FloatDistribution\", \"attributes\": {\"...</td>\n",
       "    </tr>\n",
       "    <tr>\n",
       "      <th>...</th>\n",
       "      <td>...</td>\n",
       "      <td>...</td>\n",
       "      <td>...</td>\n",
       "      <td>...</td>\n",
       "      <td>...</td>\n",
       "    </tr>\n",
       "    <tr>\n",
       "      <th>827</th>\n",
       "      <td>876</td>\n",
       "      <td>120</td>\n",
       "      <td>min_child_weight</td>\n",
       "      <td>8.575491</td>\n",
       "      <td>{\"name\": \"FloatDistribution\", \"attributes\": {\"...</td>\n",
       "    </tr>\n",
       "    <tr>\n",
       "      <th>828</th>\n",
       "      <td>877</td>\n",
       "      <td>120</td>\n",
       "      <td>max_delta_step</td>\n",
       "      <td>7.047180</td>\n",
       "      <td>{\"name\": \"FloatDistribution\", \"attributes\": {\"...</td>\n",
       "    </tr>\n",
       "    <tr>\n",
       "      <th>829</th>\n",
       "      <td>878</td>\n",
       "      <td>120</td>\n",
       "      <td>subsample</td>\n",
       "      <td>0.897760</td>\n",
       "      <td>{\"name\": \"FloatDistribution\", \"attributes\": {\"...</td>\n",
       "    </tr>\n",
       "    <tr>\n",
       "      <th>830</th>\n",
       "      <td>879</td>\n",
       "      <td>120</td>\n",
       "      <td>colsample_bylevel</td>\n",
       "      <td>0.860123</td>\n",
       "      <td>{\"name\": \"FloatDistribution\", \"attributes\": {\"...</td>\n",
       "    </tr>\n",
       "    <tr>\n",
       "      <th>831</th>\n",
       "      <td>880</td>\n",
       "      <td>120</td>\n",
       "      <td>colsample_bynode</td>\n",
       "      <td>0.874122</td>\n",
       "      <td>{\"name\": \"FloatDistribution\", \"attributes\": {\"...</td>\n",
       "    </tr>\n",
       "  </tbody>\n",
       "</table>\n",
       "<p>832 rows × 5 columns</p>\n",
       "</div>"
      ],
      "text/plain": [
       "     param_id  trial_id         param_name  param_value                                  distribution_json\n",
       "0          49        17      learning_rate     0.021931  {\"name\": \"FloatDistribution\", \"attributes\": {\"...\n",
       "1          50        17   colsample_bytree     0.614273  {\"name\": \"FloatDistribution\", \"attributes\": {\"...\n",
       "2          51        17  colsample_bylevel     0.891675  {\"name\": \"FloatDistribution\", \"attributes\": {\"...\n",
       "3          52        17   colsample_bynode     0.598044  {\"name\": \"FloatDistribution\", \"attributes\": {\"...\n",
       "4          53        17         reg_lambda     0.677960  {\"name\": \"FloatDistribution\", \"attributes\": {\"...\n",
       "..        ...       ...                ...          ...                                                ...\n",
       "827       876       120   min_child_weight     8.575491  {\"name\": \"FloatDistribution\", \"attributes\": {\"...\n",
       "828       877       120     max_delta_step     7.047180  {\"name\": \"FloatDistribution\", \"attributes\": {\"...\n",
       "829       878       120          subsample     0.897760  {\"name\": \"FloatDistribution\", \"attributes\": {\"...\n",
       "830       879       120  colsample_bylevel     0.860123  {\"name\": \"FloatDistribution\", \"attributes\": {\"...\n",
       "831       880       120   colsample_bynode     0.874122  {\"name\": \"FloatDistribution\", \"attributes\": {\"...\n",
       "\n",
       "[832 rows x 5 columns]"
      ]
     },
     "execution_count": 24,
     "metadata": {},
     "output_type": "execute_result"
    },
    {
     "data": {
      "text/html": [
       "<div>\n",
       "<style scoped>\n",
       "    .dataframe tbody tr th:only-of-type {\n",
       "        vertical-align: middle;\n",
       "    }\n",
       "\n",
       "    .dataframe tbody tr th {\n",
       "        vertical-align: top;\n",
       "    }\n",
       "\n",
       "    .dataframe thead th {\n",
       "        text-align: right;\n",
       "    }\n",
       "</style>\n",
       "<table border=\"1\" class=\"dataframe\">\n",
       "  <thead>\n",
       "    <tr style=\"text-align: right;\">\n",
       "      <th></th>\n",
       "      <th>trial_value_id</th>\n",
       "      <th>trial_id</th>\n",
       "      <th>objective</th>\n",
       "      <th>value</th>\n",
       "      <th>value_type</th>\n",
       "    </tr>\n",
       "  </thead>\n",
       "  <tbody>\n",
       "    <tr>\n",
       "      <th>0</th>\n",
       "      <td>15</td>\n",
       "      <td>18</td>\n",
       "      <td>0</td>\n",
       "      <td>0.023774</td>\n",
       "      <td>FINITE</td>\n",
       "    </tr>\n",
       "    <tr>\n",
       "      <th>1</th>\n",
       "      <td>16</td>\n",
       "      <td>18</td>\n",
       "      <td>1</td>\n",
       "      <td>-0.000156</td>\n",
       "      <td>FINITE</td>\n",
       "    </tr>\n",
       "    <tr>\n",
       "      <th>2</th>\n",
       "      <td>17</td>\n",
       "      <td>19</td>\n",
       "      <td>0</td>\n",
       "      <td>0.023621</td>\n",
       "      <td>FINITE</td>\n",
       "    </tr>\n",
       "    <tr>\n",
       "      <th>3</th>\n",
       "      <td>18</td>\n",
       "      <td>19</td>\n",
       "      <td>1</td>\n",
       "      <td>0.006289</td>\n",
       "      <td>FINITE</td>\n",
       "    </tr>\n",
       "    <tr>\n",
       "      <th>4</th>\n",
       "      <td>19</td>\n",
       "      <td>20</td>\n",
       "      <td>0</td>\n",
       "      <td>0.023774</td>\n",
       "      <td>FINITE</td>\n",
       "    </tr>\n",
       "    <tr>\n",
       "      <th>...</th>\n",
       "      <td>...</td>\n",
       "      <td>...</td>\n",
       "      <td>...</td>\n",
       "      <td>...</td>\n",
       "      <td>...</td>\n",
       "    </tr>\n",
       "    <tr>\n",
       "      <th>177</th>\n",
       "      <td>192</td>\n",
       "      <td>118</td>\n",
       "      <td>1</td>\n",
       "      <td>0.374718</td>\n",
       "      <td>FINITE</td>\n",
       "    </tr>\n",
       "    <tr>\n",
       "      <th>178</th>\n",
       "      <td>193</td>\n",
       "      <td>119</td>\n",
       "      <td>0</td>\n",
       "      <td>0.616641</td>\n",
       "      <td>FINITE</td>\n",
       "    </tr>\n",
       "    <tr>\n",
       "      <th>179</th>\n",
       "      <td>194</td>\n",
       "      <td>119</td>\n",
       "      <td>1</td>\n",
       "      <td>0.354772</td>\n",
       "      <td>FINITE</td>\n",
       "    </tr>\n",
       "    <tr>\n",
       "      <th>180</th>\n",
       "      <td>195</td>\n",
       "      <td>120</td>\n",
       "      <td>0</td>\n",
       "      <td>0.527256</td>\n",
       "      <td>FINITE</td>\n",
       "    </tr>\n",
       "    <tr>\n",
       "      <th>181</th>\n",
       "      <td>196</td>\n",
       "      <td>120</td>\n",
       "      <td>1</td>\n",
       "      <td>0.372122</td>\n",
       "      <td>FINITE</td>\n",
       "    </tr>\n",
       "  </tbody>\n",
       "</table>\n",
       "<p>182 rows × 5 columns</p>\n",
       "</div>"
      ],
      "text/plain": [
       "     trial_value_id  trial_id  objective     value value_type\n",
       "0                15        18          0  0.023774     FINITE\n",
       "1                16        18          1 -0.000156     FINITE\n",
       "2                17        19          0  0.023621     FINITE\n",
       "3                18        19          1  0.006289     FINITE\n",
       "4                19        20          0  0.023774     FINITE\n",
       "..              ...       ...        ...       ...        ...\n",
       "177             192       118          1  0.374718     FINITE\n",
       "178             193       119          0  0.616641     FINITE\n",
       "179             194       119          1  0.354772     FINITE\n",
       "180             195       120          0  0.527256     FINITE\n",
       "181             196       120          1  0.372122     FINITE\n",
       "\n",
       "[182 rows x 5 columns]"
      ]
     },
     "execution_count": 24,
     "metadata": {},
     "output_type": "execute_result"
    }
   ],
   "source": [
    "tbls['study_user_attributes']\n",
    "tbls['trial_user_attributes']\n",
    "tbls['trial_intermediate_values']\n",
    "tbls['trial_heartbeats']\n",
    "\n",
    "tbls['study_system_attributes']\n",
    "tbls['trial_system_attributes']\n",
    "tbls['trials']\n",
    "tbls['trial_params']\n",
    "tbls['trial_values']"
   ]
  },
  {
   "cell_type": "code",
   "execution_count": null,
   "metadata": {},
   "outputs": [],
   "source": []
  }
 ],
 "metadata": {
  "kernelspec": {
   "display_name": "Python [conda env:cp311]",
   "language": "python",
   "name": "conda-env-cp311-py"
  },
  "language_info": {
   "codemirror_mode": {
    "name": "ipython",
    "version": 3
   },
   "file_extension": ".py",
   "mimetype": "text/x-python",
   "name": "python",
   "nbconvert_exporter": "python",
   "pygments_lexer": "ipython3",
   "version": "3.11.4"
  },
  "toc": {
   "base_numbering": 1,
   "nav_menu": {},
   "number_sections": true,
   "sideBar": true,
   "skip_h1_title": false,
   "title_cell": "Table of Contents",
   "title_sidebar": "Contents",
   "toc_cell": false,
   "toc_position": {
    "height": "calc(100% - 180px)",
    "left": "10px",
    "top": "150px",
    "width": "380.631px"
   },
   "toc_section_display": true,
   "toc_window_display": false
  }
 },
 "nbformat": 4,
 "nbformat_minor": 4
}
