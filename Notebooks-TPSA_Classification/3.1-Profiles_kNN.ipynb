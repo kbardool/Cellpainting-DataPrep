{
 "cells": [
  {
   "cell_type": "markdown",
   "id": "418c282c-2b25-4f32-96cf-883b40b84c36",
   "metadata": {
    "editable": true,
    "slideshow": {
     "slide_type": ""
    },
    "tags": []
   },
   "source": [
    "   # Run kNN models on Cell profiles for TPSA Classification "
   ]
  },
  {
   "cell_type": "markdown",
   "id": "14da93a6-653f-4a55-9b3a-e72ab79a1121",
   "metadata": {},
   "source": [
    "# Setup"
   ]
  },
  {
   "cell_type": "code",
   "execution_count": 1,
   "id": "a104a277-3ad3-438a-b706-d4499f709f89",
   "metadata": {
    "ExecuteTime": {
     "end_time": "2023-04-12T10:29:16.111588Z",
     "start_time": "2023-04-12T10:29:15.764305Z"
    },
    "editable": true,
    "execution": {
     "iopub.execute_input": "2024-12-09T09:56:57.297347Z",
     "iopub.status.busy": "2024-12-09T09:56:57.296927Z",
     "iopub.status.idle": "2024-12-09T09:56:57.331222Z",
     "shell.execute_reply": "2024-12-09T09:56:57.330193Z",
     "shell.execute_reply.started": "2024-12-09T09:56:57.297312Z"
    },
    "slideshow": {
     "slide_type": ""
    },
    "tags": []
   },
   "outputs": [
    {
     "data": {
      "text/html": [
       "<style>.container { width:98% !important; }</style>"
      ],
      "text/plain": [
       "<IPython.core.display.HTML object>"
      ]
     },
     "metadata": {},
     "output_type": "display_data"
    }
   ],
   "source": [
    "%load_ext autoreload  \n",
    "%autoreload 2\n",
    "from IPython.display import display, HTML, Image\n",
    "from IPython.core.interactiveshell import InteractiveShell\n",
    "display(HTML(\"<style>.container { width:98% !important; }</style>\"))\n",
    "InteractiveShell.ast_node_interactivity = \"all\""
   ]
  },
  {
   "cell_type": "code",
   "execution_count": 2,
   "id": "7478f60a-2ea2-4407-bd91-f068349f222b",
   "metadata": {
    "ExecuteTime": {
     "end_time": "2023-04-12T10:29:16.111588Z",
     "start_time": "2023-04-12T10:29:15.764305Z"
    },
    "editable": true,
    "execution": {
     "iopub.execute_input": "2024-12-09T09:56:58.442250Z",
     "iopub.status.busy": "2024-12-09T09:56:58.441834Z",
     "iopub.status.idle": "2024-12-09T09:56:58.962767Z",
     "shell.execute_reply": "2024-12-09T09:56:58.961954Z",
     "shell.execute_reply.started": "2024-12-09T09:56:58.442215Z"
    },
    "slideshow": {
     "slide_type": ""
    },
    "tags": []
   },
   "outputs": [
    {
     "name": "stdout",
     "output_type": "stream",
     "text": [
      "insert ../\n",
      "insert ../../..\n",
      "['../../..', '../', '/home/kevin/WSL-shared/cellpainting/cj-datasets/Notebooks-TPSA_Classification', '/home/kevin/miniforge3/envs/cp311/lib/python311.zip', '/home/kevin/miniforge3/envs/cp311/lib/python3.11', '/home/kevin/miniforge3/envs/cp311/lib/python3.11/lib-dynload', '', '/home/kevin/miniforge3/envs/cp311/lib/python3.11/site-packages', '/home/kevin/miniforge3/envs/cp311/lib/python3.11/site-packages/huggingface_hub-0.20.3-py3.8.egg']\n"
     ]
    }
   ],
   "source": [
    "import os\n",
    "import sys\n",
    "import csv\n",
    "import json\n",
    "import time\n",
    "import types\n",
    "import copy\n",
    "import pprint\n",
    "import logging\n",
    "from datetime import datetime\n",
    "for p in ['../','../../..']:\n",
    "    if p not in sys.path:\n",
    "        print(f\"insert {p}\")\n",
    "        sys.path.insert(0, p)\n",
    "print(sys.path)\n",
    "\n",
    "import numpy as np\n",
    "import pandas as pd\n",
    "import scipy\n",
    "# import torch\n",
    "# import torch.nn.functional as F\n",
    "# from torchinfo import summary\n",
    "# torch.set_printoptions(precision=None, threshold=None, edgeitems=None, linewidth=150, profile=None, sci_mode=None)\n",
    "# torch.set_printoptions(precision=None, threshold=None, edgeitems=None, linewidth=150, profile=None, sci_mode=None)\n",
    "\n",
    "\n",
    "\n",
    "pp = pprint.PrettyPrinter(indent=4)\n",
    "pd.options.display.width = 132\n",
    "np.set_printoptions(edgeitems=3, infstr='inf', linewidth=150, nanstr='nan')\n",
    "\n",
    "os.environ[\"WANDB_NOTEBOOK_NAME\"] = \"AE-MAIN-SNNL.ipynb\"\n",
    "# os.environ[\"CUDA_LAUNCH_BLOCKING\"] = \"1\"\n",
    "# os.environ[\"CUDA_VISIBLE_DEVICES\"] = \"2\""
   ]
  },
  {
   "cell_type": "code",
   "execution_count": 28,
   "id": "e95095f6-1bf7-40bc-8fc4-3a925094cae7",
   "metadata": {
    "editable": true,
    "execution": {
     "iopub.execute_input": "2024-12-09T13:50:01.210805Z",
     "iopub.status.busy": "2024-12-09T13:50:01.210243Z",
     "iopub.status.idle": "2024-12-09T13:50:01.255731Z",
     "shell.execute_reply": "2024-12-09T13:50:01.254610Z",
     "shell.execute_reply.started": "2024-12-09T13:50:01.210762Z"
    },
    "slideshow": {
     "slide_type": ""
    },
    "tags": []
   },
   "outputs": [],
   "source": [
    "# import snnl.utils as utils\n",
    "# from snnl.utils import parse_args, load_configuration, set_global_seed, get_device, set_device\n",
    "from KevinsRoutines.utils.utils_general import list_namespace, save_to_pickle, load_from_pickle\n",
    "\n",
    "from src.utils.utils_cellpainting import (model_selection, balance_datasets, label_counts, compute_metrics,\n",
    "                                        plots_from_estimator, plots_from_predictions, plot_cls_metrics)\n",
    "from src.utils.jcp_datasets import project_datasets, display_project_datasets"
   ]
  },
  {
   "cell_type": "code",
   "execution_count": 4,
   "id": "46fc79f1-4481-4f1c-bed7-a5e375ea3eae",
   "metadata": {
    "editable": true,
    "execution": {
     "iopub.execute_input": "2024-12-09T09:57:04.398984Z",
     "iopub.status.busy": "2024-12-09T09:57:04.398453Z",
     "iopub.status.idle": "2024-12-09T09:57:04.537803Z",
     "shell.execute_reply": "2024-12-09T09:57:04.537015Z",
     "shell.execute_reply.started": "2024-12-09T09:57:04.398943Z"
    },
    "slideshow": {
     "slide_type": ""
    },
    "tags": []
   },
   "outputs": [],
   "source": [
    "import seaborn as sb\n",
    "import matplotlib.pyplot as plt\n",
    "import scipy.stats as sps\n",
    "\n",
    "import sklearn.metrics as skm\n",
    "import sklearn.utils.random as skr\n",
    "from scipy.spatial.distance import pdist, squareform, euclidean\n",
    "\n",
    "# from sklearn.metrics import accuracy_score, f1_score, roc_curve, roc_auc_score, classification_report, precision_recall_fscore_support\n",
    "# from sklearn.metrics import precision_recall_curve, PrecisionRecallDisplay, roc_curve, RocCurveDisplay\n",
    "# from sklearn.metrics import confusion_matrix, ConfusionMatrixDisplay"
   ]
  },
  {
   "cell_type": "code",
   "execution_count": 5,
   "id": "6651619f-dac6-4962-881e-8fd87b2cbfe2",
   "metadata": {
    "editable": true,
    "execution": {
     "iopub.execute_input": "2024-12-09T09:57:04.539586Z",
     "iopub.status.busy": "2024-12-09T09:57:04.539300Z",
     "iopub.status.idle": "2024-12-09T09:57:04.696160Z",
     "shell.execute_reply": "2024-12-09T09:57:04.695288Z",
     "shell.execute_reply.started": "2024-12-09T09:57:04.539561Z"
    },
    "slideshow": {
     "slide_type": ""
    },
    "tags": []
   },
   "outputs": [],
   "source": [
    "# Models\n",
    "from xgboost import XGBClassifier, XGBRegressor\n",
    "\n",
    "import sklearn.metrics as skm\n",
    "from sklearn.decomposition import PCA\n",
    "from sklearn.manifold import TSNE\n",
    "\n",
    "from sklearn.ensemble import RandomForestClassifier, RandomForestRegressor\n",
    "from sklearn.svm import SVC, SVR\n",
    "from sklearn.neighbors import KNeighborsClassifier, KNeighborsRegressor\n",
    "\n",
    "# utility class to help normalize labels such that they contain only values between 0 and n_classes-1.\n",
    "from sklearn.preprocessing import LabelEncoder\n",
    "\n",
    "# K-Folds cross-validator - Provides train/test indices to split data in train/test sets. Split dataset into k consecutive folds (without shuffling by default).\n",
    "# Each fold is then used once as a validation while the k - 1 remaining folds form the training set.\n",
    "from sklearn.model_selection import KFold, StratifiedKFold\n",
    "from sklearn.model_selection import GroupKFold, StratifiedGroupKFold\n",
    "from sklearn.model_selection import ShuffleSplit, GroupShuffleSplit, StratifiedShuffleSplit, TimeSeriesSplit\n",
    "\n",
    "# Evaluate metric(s) by cross-validation and also record fit/score times.\n",
    "from sklearn.model_selection import cross_validate, cross_val_score\n",
    "\n",
    "# Generate cross-validated estimates for each input data point.\n",
    "# The data is split according to the cv parameter. Each sample belongs to exactly one test set,\n",
    "# and its prediction is computed with an estimator fitted on the corresponding training set.\n",
    "from sklearn.model_selection import cross_val_predict\n",
    "\n",
    "# Exhaustive search over specified parameter values for an estimator.\n",
    "# Randomized search on hyper parameters.\n",
    "from sklearn.model_selection import GridSearchCV, RandomizedSearchCV\n",
    "\n",
    "# Input checker utility for building a cross-validator.(?)\n",
    "from sklearn.model_selection._split import check_cv\n",
    "\n",
    "from sklearn.pipeline import Pipeline\n",
    "\n",
    "# Make a scorer from a performance metric or loss function. This factory function wraps scoring\n",
    "# functions for use in GridSearchCV and cross_val_score. It takes a score function, such as accuracy_score,\n",
    "# mean_squared_error, adjusted_rand_score or average_precision_score and returns a callable that\n",
    "# scores an estimator’s output. The signature of the call is (estimator, X, y) where estimator\n",
    "# is the model to be evaluated, X is the data and y is the ground truth labeling (or None in the\n",
    "# case of unsupervised models).\n",
    "from sklearn.metrics import make_scorer\n",
    "\n",
    "# regression matrics\n",
    "from sklearn.metrics import mean_absolute_error, mean_squared_error, r2_score\n",
    "\n",
    "# classification metrics\n",
    "from sklearn.metrics import accuracy_score, confusion_matrix, classification_report\n",
    "\n",
    "# from sklearn.base import BaseEstimator\n",
    "# from sklearn.base import ClassifierMixin\n",
    "# from sklearn.base import TransformerMixin\n",
    "\n",
    "# Construct a new unfitted estimator with the same parameters. Clone does a deep copy of the model\n",
    "# in an estimator without actually copying attached data. It returns a new estimator with the same\n",
    "# parameters that has not been fitted on any data.\n",
    "# from sklearn.base import clone\n",
    "from sklearn.preprocessing import StandardScaler\n"
   ]
  },
  {
   "cell_type": "code",
   "execution_count": 6,
   "id": "c12352c5-443c-414b-bb2b-6ea5ba801515",
   "metadata": {
    "editable": true,
    "execution": {
     "iopub.execute_input": "2024-12-09T09:57:04.698287Z",
     "iopub.status.busy": "2024-12-09T09:57:04.698004Z",
     "iopub.status.idle": "2024-12-09T09:57:04.739559Z",
     "shell.execute_reply": "2024-12-09T09:57:04.738926Z",
     "shell.execute_reply.started": "2024-12-09T09:57:04.698259Z"
    },
    "scrolled": true,
    "slideshow": {
     "slide_type": ""
    },
    "tags": []
   },
   "outputs": [
    {
     "name": "stderr",
     "output_type": "stream",
     "text": [
      "2024-12-09 10:57:04,734 - __main__ - INFO: -  Excution started : 2024_12_09_10:57:04 \n",
      "2024-12-09 10:57:04,735 - __main__ - INFO: -  Scipy version    : 1.11.4  \t\t Numpy version : 1.26.2\n",
      "2024-12-09 10:57:04,736 - __main__ - INFO: -  Pandas version: 2.2.2  \n"
     ]
    }
   ],
   "source": [
    "timestamp = datetime.now().strftime('%Y_%m_%d_%H:%M:%S')\n",
    "logger = logging.getLogger(__name__)\n",
    "logLevel = os.environ.get('LOG_LEVEL', 'INFO').upper()\n",
    "FORMAT = '%(asctime)s - %(name)s - %(levelname)s: - %(message)s'\n",
    "logging.basicConfig(level=\"INFO\", format= FORMAT)\n",
    "\n",
    "logger.info(f\" Excution started : {timestamp} \")\n",
    "logger.info(f\" Scipy version    : {scipy.__version__}  \\t\\t Numpy version : {np.__version__}\")\n",
    "logger.info(f\" Pandas version: {pd.__version__}  \")\n"
   ]
  },
  {
   "cell_type": "code",
   "execution_count": 7,
   "id": "74ded0a9-9065-46cb-b0de-5f3cd0769ed1",
   "metadata": {
    "execution": {
     "iopub.execute_input": "2024-12-09T09:57:04.741551Z",
     "iopub.status.busy": "2024-12-09T09:57:04.741185Z",
     "iopub.status.idle": "2024-12-09T09:57:04.779107Z",
     "shell.execute_reply": "2024-12-09T09:57:04.778090Z",
     "shell.execute_reply.started": "2024-12-09T09:57:04.741524Z"
    },
    "scrolled": true
   },
   "outputs": [
    {
     "name": "stdout",
     "output_type": "stream",
     "text": [
      " Path and Prefixes : \n",
      " ------------------- \n",
      " prefix                                      : \n",
      " prefix_lc                                   : \n",
      " metadata path                               : ./metadata/\n",
      " input path                                  : ./input/\n",
      " output path                                 : ../output_10162023/\n",
      "\n",
      " Input & Metadata Datasets : \n",
      " --------------------------- \n",
      " Compound Metadata Input File                : ./metadata/compound.csv\n",
      " Plate Metadata Input File                   : ./metadata/plate_new.csv\n",
      " Well Metadata Input File                    : ./metadata/well.csv\n",
      "\n",
      " Profiles Metadata File                      : ./metadata/profile_metadata.pkl\n",
      " Parquet  Metadata File                      : ./metadata/parquet_columns.pkl\n",
      "\n",
      " Compound Metadata : \n",
      " ------------------- \n",
      " Metadata + Smiles                           : ../output_10162023/compound_metadata_smiles.csv\n",
      "          + TPSA                             : ../output_10162023/compound_metadata_tpsa.csv\n",
      "          + TPSA Cleaned (TPSA <> 0)         : ../output_10162023/compound_metadata_tpsa_clean.csv\n",
      "          + Base64 Pharmacophores            : ../output_10162023/compound_metadads.ta_pcfp.csv\n",
      "\n",
      " Compound/TPSA File:\n",
      " -------------------\n",
      " compound TPSA File                          : ../output_10162023/compound_TPSA.csv\n",
      " compound TPSA Clean File                    : ../output_10162023/compound_TPSA_clean.csv\n",
      "\n",
      "\n",
      " Compound/Pharmacophore Files :\n",
      " ------------------------------\n",
      " compound Pharmacophore Sparse File          : ../output_10162023/compound_pharmacophores_sparse.pkl\n",
      " compound Pharmacophore CSV File             : ../output_10162023/compound_pharmacophores.csv\n",
      " compound Pharmacophore Numpy File           : ../output_10162023/compound_pharmacophores.npy\n",
      " compound Pharmacophore Numpy Zipped File    : ../output_10162023/compound_pharmacophores_zip.npz\n",
      "\n",
      " compound Pharmacophore 3Sample File         : ../output_10162023/compound_pharmacophores_3samples.csv\n",
      "\n",
      " Compound Extended Metadata files:\n",
      " ---------------------------------\n",
      " Compound Extended MetadataFile              : ../output_10162023/compound_extended_metadata.csv\n",
      "\n",
      " Compound Extended Metadata 5 SampleFile     : ../output_10162023/compound_extended_metadata_5samples.csv\n",
      " Compound Extended Metadata 3 SampleFile     : ../output_10162023/compound_extended_metadata_3samples.csv\n",
      " Compound Extended Metadata 2 SampleFile     : ../output_10162023/compound_extended_metadata_2samples.csv\n",
      "\n",
      " Compound Profiles files:\n",
      " ------------------------\n",
      " Compound Profiles 5 Samples File            : ../output_10162023//5_sample_profiles/5sample_profiles_{0:03d}{1:s}.csv\n",
      " Compound Profiles 3 Samples File            : ../output_10162023//3_sample_profiles/3sample_profiles_{0:03d}{1:s}.csv\n",
      " Compound Profiles 2 Samples File            : ../output_10162023//2_sample_profiles/2sample_profiles_{0:03d}{1:s}.csv\n",
      "\n"
     ]
    }
   ],
   "source": [
    "ds = project_datasets(output_path = '../output_10162023/')\n",
    "display_project_datasets(ds)"
   ]
  },
  {
   "cell_type": "markdown",
   "id": "cdaa5260-01ce-4a98-b597-62c43c388f43",
   "metadata": {},
   "source": [
    "## Helper routines"
   ]
  },
  {
   "cell_type": "code",
   "execution_count": 8,
   "id": "7461695c-e909-4d0a-baf7-dd0ae6768c72",
   "metadata": {
    "execution": {
     "iopub.execute_input": "2024-12-06T14:57:33.206631Z",
     "iopub.status.busy": "2024-12-06T14:57:33.206347Z",
     "iopub.status.idle": "2024-12-06T14:57:33.256904Z",
     "shell.execute_reply": "2024-12-06T14:57:33.255924Z",
     "shell.execute_reply.started": "2024-12-06T14:57:33.206605Z"
    }
   },
   "outputs": [
    {
     "data": {
      "text/plain": [
       "array([[83, 82, 86, 87, 65, 14, 56, 18, 44,  5],\n",
       "       [64, 68, 19, 40, 76, 75,  1, 30, 67, 74],\n",
       "       [39, 79, 92, 38,  9, 37, 59,  7, 29, 48],\n",
       "       [46, 26, 25, 73, 80, 69, 34, 36, 53, 70],\n",
       "       [43, 97, 52, 84, 13, 89, 94, 55, 49, 85],\n",
       "       [27, 15, 24, 96, 93, 12, 23, 32, 28, 11],\n",
       "       [88, 62, 42, 57,  2, 91, 66, 50, 51, 45],\n",
       "       [63,  0,  3, 78, 98, 61, 72, 41, 10, 35],\n",
       "       [47,  8, 22, 99, 21, 95, 33, 77, 90,  4],\n",
       "       [31, 60, 54, 71,  6, 81, 16, 20, 58, 17]])"
      ]
     },
     "execution_count": 8,
     "metadata": {},
     "output_type": "execute_result"
    }
   ],
   "source": [
    "sample_idxs = skr.sample_without_replacement(n_population=100, n_samples= 10 )\n",
    "\n",
    "rng = np.random.default_rng()\n",
    "\n",
    "indxs = rng.choice(100, [10,10], replace = False)\n",
    "indxs"
   ]
  },
  {
   "cell_type": "markdown",
   "id": "cdac793b-be20-4c56-8bab-989c05caad80",
   "metadata": {},
   "source": [
    "### main(args)"
   ]
  },
  {
   "cell_type": "code",
   "execution_count": 8,
   "id": "70631048-6b63-4c40-8ab9-96f2230936e5",
   "metadata": {
    "editable": true,
    "execution": {
     "iopub.execute_input": "2024-12-09T09:57:05.952371Z",
     "iopub.status.busy": "2024-12-09T09:57:05.951916Z",
     "iopub.status.idle": "2024-12-09T09:57:05.997169Z",
     "shell.execute_reply": "2024-12-09T09:57:05.996260Z",
     "shell.execute_reply.started": "2024-12-09T09:57:05.952331Z"
    },
    "slideshow": {
     "slide_type": ""
    },
    "tags": []
   },
   "outputs": [
    {
     "name": "stdout",
     "output_type": "stream",
     "text": [
      "11\n",
      "1482\n"
     ]
    }
   ],
   "source": [
    "WANDB_ACTIVE  = False\n",
    "DATE          = 'yyyymmdd-hhmm'\n",
    "\n",
    "PROFILES_INPUT_PATH = f\"/home/kevin/WSL-shared/cellpainting/cj-datasets/output_11102023/3_sample_profiles/\"\n",
    "EMBEDDINGS_INPUT_PATH = f\"/home/kevin/WSL-shared/cellpainting/cj-datasets/output_11102023/3_sample_embeddings/\"\n",
    "FINGERPRINTS_INPUT_PATH = f\"/home/kevin/WSL-shared/cellpainting/cj-datasets/output_11102023/3_sample_profiles/\"\n",
    "MODEL_SAVE_PATH = f\"/home/kevin/WSL-shared/cellpainting/cj-datasets/saved_tpsa_models/profile_models\"\n",
    "\n",
    "LATENT_DIM = 1471\n",
    "METADATA_COLS = ['Metadata_Source', 'Metadata_Batch', 'Metadata_Plate', 'Metadata_Well'  , 'Metadata_JCP2022', \n",
    "                 'Metadata_Hash'  , 'Metadata_Bin'  , 'Metadata_TPSA' , 'Metadata_lnTPSA', 'Metadata_log10TPSA', \n",
    "                 'Metadata_Permiation']\n",
    "\n",
    "# METADATA_COLS += [f'Feature_{x:03d}' for x in range(LATENT_DIM)]\n",
    "INPUT_COLS = LATENT_DIM + len(METADATA_COLS)\n",
    "print(len(METADATA_COLS))\n",
    "print(INPUT_COLS)\n",
    "\n",
    "\n",
    "## AUTOENCODER RUNMODE \n",
    "# AE_RUNMODE = \"snnl\"\n",
    "# AE_RUNMODE = 'base'\n",
    "## \n",
    "# AE_DATETIME = \"20240906_2201\"     # SNNL, CPB = 600, Latent 150, WD = 0.001, SNN Factor 3\n",
    "# AE_DATETIME = \"20240917_2004\"     # SNNL, CPB = 600, Latent 250, WD = 0.001, SNN Factor 3\n",
    "##\n",
    "# AE_CKPTTYPE = \"BEST\"\n",
    "# AE_CKPTTYPE = \"LAST\"\n",
    "# df_header = pd.read_csv(HEADER_FILE).columns.to_list()\n",
    "# header_cols"
   ]
  },
  {
   "cell_type": "code",
   "execution_count": 9,
   "id": "02788c47-43ae-4507-b405-6b647dff8fba",
   "metadata": {
    "editable": true,
    "execution": {
     "iopub.execute_input": "2024-12-09T09:57:07.095961Z",
     "iopub.status.busy": "2024-12-09T09:57:07.095487Z",
     "iopub.status.idle": "2024-12-09T09:57:07.154207Z",
     "shell.execute_reply": "2024-12-09T09:57:07.153143Z",
     "shell.execute_reply.started": "2024-12-09T09:57:07.095923Z"
    },
    "slideshow": {
     "slide_type": ""
    },
    "tags": []
   },
   "outputs": [
    {
     "name": "stdout",
     "output_type": "stream",
     "text": [
      "3sample_pharmacophores_1482_HashOrder_training.csv\n",
      "3sample_pharmacophores_1482_HashOrder_validation.csv\n",
      "3sample_pharmacophores_1482_HashOrder_test.csv\n",
      "\n",
      "3sample_profiles_1482_HashOrder_training.csv\n",
      "3sample_profiles_1482_HashOrder_validation.csv\n",
      "3sample_profiles_1482_HashOrder_test.csv\n"
     ]
    }
   ],
   "source": [
    "# = utils.load_model_from_ckpt(model, ex_mode, ex_timestamp, ex_title, epochs, ex_cpb, ex_factor )\n",
    "\n",
    "FINGERPRINTS_TRAINING_FILE   = f\"3sample_pharmacophores_{INPUT_COLS}_HashOrder_training.csv\"\n",
    "FINGERPRINTS_VALIDATION_FILE = f\"3sample_pharmacophores_{INPUT_COLS}_HashOrder_validation.csv\"\n",
    "FINGERPRINTS_TEST_FILE       = f\"3sample_pharmacophores_{INPUT_COLS}_HashOrder_test.csv\"\n",
    "\n",
    "print(FINGERPRINTS_TRAINING_FILE)\n",
    "print(FINGERPRINTS_VALIDATION_FILE)\n",
    "print(FINGERPRINTS_TEST_FILE)\n",
    "\n",
    "PROFILES_TRAINING_FILE   = f'3sample_profiles_{INPUT_COLS}_HashOrder_training.csv'\n",
    "PROFILES_VALIDATION_FILE = f'3sample_profiles_{INPUT_COLS}_HashOrder_validation.csv'\n",
    "PROFILES_TEST_FILE       = f'3sample_profiles_{INPUT_COLS}_HashOrder_test.csv'\n",
    "\n",
    "print()\n",
    "print(PROFILES_TRAINING_FILE)\n",
    "print(PROFILES_VALIDATION_FILE)\n",
    "print(PROFILES_TEST_FILE)\n",
    "\n",
    "# EMBEDDINGS_TRAINING_FILE   = f'3smpl_prfl_embedding_{INPUT_COLS}_HashOrder_{AE_RUNMODE}_{AE_DATETIME}_LAST_training.csv'\n",
    "# EMBEDDINGS_VALIDATION_FILE = f'3smpl_prfl_embedding_{INPUT_COLS}_HashOrder_{AE_RUNMODE}_{AE_DATETIME}_LAST_validation.csv'\n",
    "# EMBEDDINGS_TEST_FILE       = f'3smpl_prfl_embedding_{INPUT_COLS}_HashOrder_{AE_RUNMODE}_{AE_DATETIME}_LAST_test.csv'\n",
    "\n",
    "# print()\n",
    "# print(EMBEDDINGS_TRAINING_FILE)\n",
    "# print(EMBEDDINGS_VALIDATION_FILE)\n",
    "# print(EMBEDDINGS_TEST_FILE)"
   ]
  },
  {
   "cell_type": "code",
   "execution_count": 10,
   "id": "341f9891-7027-4cf3-a019-c8474d25031f",
   "metadata": {
    "editable": true,
    "execution": {
     "iopub.execute_input": "2024-12-09T09:57:09.114991Z",
     "iopub.status.busy": "2024-12-09T09:57:09.114373Z",
     "iopub.status.idle": "2024-12-09T09:57:09.163652Z",
     "shell.execute_reply": "2024-12-09T09:57:09.162824Z",
     "shell.execute_reply.started": "2024-12-09T09:57:09.114941Z"
    },
    "slideshow": {
     "slide_type": ""
    },
    "tags": []
   },
   "outputs": [
    {
     "data": {
      "text/plain": [
       "'/home/kevin/WSL-shared/cellpainting/cj-datasets/output_11102023/3_sample_profiles/3sample_profiles_1482_HashOrder_training.csv'"
      ]
     },
     "execution_count": 10,
     "metadata": {},
     "output_type": "execute_result"
    },
    {
     "data": {
      "text/plain": [
       "'/home/kevin/WSL-shared/cellpainting/cj-datasets/output_11102023/3_sample_profiles/3sample_pharmacophores_1482_HashOrder_training.csv'"
      ]
     },
     "execution_count": 10,
     "metadata": {},
     "output_type": "execute_result"
    },
    {
     "data": {
      "text/plain": [
       "'/home/kevin/WSL-shared/cellpainting/cj-datasets/output_11102023/3_sample_profiles/3sample_profiles_1482_HashOrder_test.csv'"
      ]
     },
     "execution_count": 10,
     "metadata": {},
     "output_type": "execute_result"
    },
    {
     "data": {
      "text/plain": [
       "'/home/kevin/WSL-shared/cellpainting/cj-datasets/output_11102023/3_sample_profiles/3sample_pharmacophores_1482_HashOrder_test.csv'"
      ]
     },
     "execution_count": 10,
     "metadata": {},
     "output_type": "execute_result"
    }
   ],
   "source": [
    "TRAIN_INPUT_X = os.path.join(PROFILES_INPUT_PATH, PROFILES_TRAINING_FILE)\n",
    "TRAIN_INPUT_Y = os.path.join(FINGERPRINTS_INPUT_PATH, FINGERPRINTS_TRAINING_FILE)\n",
    "TRAIN_INPUT_X\n",
    "TRAIN_INPUT_Y\n",
    "\n",
    "TEST_INPUT_X  = os.path.join(PROFILES_INPUT_PATH, PROFILES_TEST_FILE)\n",
    "TEST_INPUT_Y  = os.path.join(FINGERPRINTS_INPUT_PATH, FINGERPRINTS_TEST_FILE)\n",
    "TEST_INPUT_X\n",
    "TEST_INPUT_Y"
   ]
  },
  {
   "cell_type": "code",
   "execution_count": 28,
   "id": "c25082b2-753b-4069-b183-00a90f611b68",
   "metadata": {
    "editable": true,
    "execution": {
     "iopub.execute_input": "2024-12-06T15:02:52.942033Z",
     "iopub.status.busy": "2024-12-06T15:02:52.941553Z",
     "iopub.status.idle": "2024-12-06T15:02:52.977635Z",
     "shell.execute_reply": "2024-12-06T15:02:52.976696Z",
     "shell.execute_reply.started": "2024-12-06T15:02:52.941993Z"
    },
    "slideshow": {
     "slide_type": ""
    },
    "tags": []
   },
   "outputs": [],
   "source": [
    "# WANDB_ACTIVE  = False\n",
    "# LATENT_DIM    = 150\n",
    "# HIDDEN_1      = 512\n",
    "# # HIDDEN_2    = '_256'\n",
    "# HIDDEN_2      = ''\n",
    "# DATE          = 'yyyymmdd-hhmm'\n",
    "# LOAD_EPOCH    = 200\n",
    "# EPOCHS        = 5\n",
    "# COMPOUNDS_PER_BATCH = 200\n",
    "# LEARNING_RATE = 1.00e-04\n",
    "# TEMP          = 0.05\n",
    "# TEMP_LR       = 1.00e-05\n",
    "# # RUNMODE       = \"baseline\"\n",
    "# # CONFIGURATION = \"./hyperparameters/ae_cp_150_512_cpb.yaml\"\n",
    "# RUNMODE       = \"snnl\"\n",
    "# CONFIGURATION   = \"./hyperparameters/ae_sn_150_512_cpb.yaml\"\n",
    "# # CHECKPT       = f\"AE_snnl_dcpb{COMPOUNDS_PER_BATCH}_{LATENT_DIM}Ltnt_{HIDDEN_1}{HIDDEN_2}_{DATE}_LAST_ep_{LOAD_EPOCH:03d}.pt\"\n",
    "# # CHECKPT       = \"AE_snnl_dcpb200_150Ltnt_512_20240709_2235_LAST_ep_700.pt\"\n",
    "# # CHECKPT       = \"AE_snnl_dcpb200_150Ltnt_512_240709_2235_LAST_ep_705.pt\"\n",
    "# # RUN_ID        = \"jzt6ecjz\"\n"
   ]
  },
  {
   "cell_type": "code",
   "execution_count": 15,
   "id": "666fae22-31c3-43b5-ac9f-50f5df9356f7",
   "metadata": {
    "execution": {
     "iopub.execute_input": "2024-12-06T14:58:09.004247Z",
     "iopub.status.busy": "2024-12-06T14:58:09.003762Z",
     "iopub.status.idle": "2024-12-06T14:58:09.041653Z",
     "shell.execute_reply": "2024-12-06T14:58:09.040657Z",
     "shell.execute_reply.started": "2024-12-06T14:58:09.004205Z"
    }
   },
   "outputs": [],
   "source": [
    "# BEST_OUTPUT_FILE = BASELINE_BEST_OUTPUT_FILE\n",
    "# LAST_OUTPUT_FILE = BASELINE_LAST_OUTPUT_FILE\n",
    "\n",
    "# OUTPUT_FILE = SNNL_LAST_OUTPUT_FILE\n",
    "# INPUT_FILE = SNNL_BEST_INPUT_FILE\n",
    "# for runmode in ['BASELINE', 'SNNL']:\n",
    "#     for datatype in ['train', 'test']:\n",
    "#         print(os.path.join(output_path, INPUT_FILE.format(runmode = runmode, datatype=datatype)))\n",
    "#         print(os.path.join(output_path, LAST_OUTPUT_FILE.format(datatype=datatype)))"
   ]
  },
  {
   "attachments": {},
   "cell_type": "markdown",
   "id": "ad09a169-2a35-4fb3-a0f5-3c8357ff8bc9",
   "metadata": {},
   "source": [
    "# Load Datasets - Embedded Features CSV files"
   ]
  },
  {
   "cell_type": "markdown",
   "id": "b66f4eaa-d6a0-4b07-abe4-2cb1796e4ed7",
   "metadata": {},
   "source": [
    "## Training Data"
   ]
  },
  {
   "cell_type": "code",
   "execution_count": 30,
   "id": "5612943e-8bc2-4971-a7a3-bb20d2896e5b",
   "metadata": {
    "execution": {
     "iopub.execute_input": "2024-12-06T15:02:56.439416Z",
     "iopub.status.busy": "2024-12-06T15:02:56.438934Z",
     "iopub.status.idle": "2024-12-06T15:04:33.929969Z",
     "shell.execute_reply": "2024-12-06T15:04:33.928623Z",
     "shell.execute_reply.started": "2024-12-06T15:02:56.439376Z"
    }
   },
   "outputs": [],
   "source": [
    "df_train_x = pd.read_csv(TRAIN_INPUT_X)\n",
    "# df_train = pd.read_csv(TRAIN_INPUT, nrows = 100 )\n",
    "# df_train = pd.read_csv(TRAIN_INPUT, usecols = ['Metadata_Batch'])"
   ]
  },
  {
   "cell_type": "code",
   "execution_count": 31,
   "id": "86fe0c0e-7d78-4a6a-90fc-656cfd4b8843",
   "metadata": {
    "execution": {
     "iopub.execute_input": "2024-12-06T15:04:33.932172Z",
     "iopub.status.busy": "2024-12-06T15:04:33.931889Z",
     "iopub.status.idle": "2024-12-06T15:04:34.326559Z",
     "shell.execute_reply": "2024-12-06T15:04:34.325758Z",
     "shell.execute_reply.started": "2024-12-06T15:04:33.932151Z"
    }
   },
   "outputs": [
    {
     "data": {
      "text/plain": [
       "(277200, 1482)"
      ]
     },
     "execution_count": 31,
     "metadata": {},
     "output_type": "execute_result"
    },
    {
     "name": "stdout",
     "output_type": "stream",
     "text": [
      "<class 'pandas.core.frame.DataFrame'>\n",
      "RangeIndex: 277200 entries, 0 to 277199\n",
      "Columns: 1482 entries, Metadata_Source to Nuclei_Texture_SumVariance_RNA_10_01_256\n",
      "dtypes: float64(1474), int64(3), object(5)\n",
      "memory usage: 3.1+ GB\n"
     ]
    },
    {
     "data": {
      "text/html": [
       "<div>\n",
       "<style scoped>\n",
       "    .dataframe tbody tr th:only-of-type {\n",
       "        vertical-align: middle;\n",
       "    }\n",
       "\n",
       "    .dataframe tbody tr th {\n",
       "        vertical-align: top;\n",
       "    }\n",
       "\n",
       "    .dataframe thead th {\n",
       "        text-align: right;\n",
       "    }\n",
       "</style>\n",
       "<table border=\"1\" class=\"dataframe\">\n",
       "  <thead>\n",
       "    <tr style=\"text-align: right;\">\n",
       "      <th></th>\n",
       "      <th>Metadata_Source</th>\n",
       "      <th>Metadata_Batch</th>\n",
       "      <th>Metadata_Plate</th>\n",
       "      <th>Metadata_Well</th>\n",
       "      <th>Metadata_JCP2022</th>\n",
       "      <th>Metadata_Hash</th>\n",
       "      <th>Metadata_Bin</th>\n",
       "      <th>Metadata_TPSA</th>\n",
       "      <th>Metadata_lnTPSA</th>\n",
       "      <th>Metadata_log10TPSA</th>\n",
       "      <th>...</th>\n",
       "      <th>Nuclei_Texture_SumAverage_DNA_10_01_256</th>\n",
       "      <th>Nuclei_Texture_SumAverage_ER_10_01_256</th>\n",
       "      <th>Nuclei_Texture_SumAverage_Mito_10_01_256</th>\n",
       "      <th>Nuclei_Texture_SumAverage_RNA_10_01_256</th>\n",
       "      <th>Nuclei_Texture_SumEntropy_DNA_10_03_256</th>\n",
       "      <th>Nuclei_Texture_SumVariance_AGP_10_03_256</th>\n",
       "      <th>Nuclei_Texture_SumVariance_DNA_10_03_256</th>\n",
       "      <th>Nuclei_Texture_SumVariance_ER_10_01_256</th>\n",
       "      <th>Nuclei_Texture_SumVariance_Mito_10_03_256</th>\n",
       "      <th>Nuclei_Texture_SumVariance_RNA_10_01_256</th>\n",
       "    </tr>\n",
       "  </thead>\n",
       "  <tbody>\n",
       "    <tr>\n",
       "      <th>0</th>\n",
       "      <td>source_1</td>\n",
       "      <td>Batch5_20221030</td>\n",
       "      <td>UL001793</td>\n",
       "      <td>M26</td>\n",
       "      <td>JCP2022_006020</td>\n",
       "      <td>-9223347314827979542</td>\n",
       "      <td>10</td>\n",
       "      <td>71.18</td>\n",
       "      <td>4.265212</td>\n",
       "      <td>1.852358</td>\n",
       "      <td>...</td>\n",
       "      <td>0.443768</td>\n",
       "      <td>0.062235</td>\n",
       "      <td>-0.648585</td>\n",
       "      <td>0.308744</td>\n",
       "      <td>0.073046</td>\n",
       "      <td>-0.245728</td>\n",
       "      <td>0.099481</td>\n",
       "      <td>-0.107570</td>\n",
       "      <td>-0.558575</td>\n",
       "      <td>0.174041</td>\n",
       "    </tr>\n",
       "    <tr>\n",
       "      <th>1</th>\n",
       "      <td>source_10</td>\n",
       "      <td>2021_06_22_U2OS_48_hr_run8</td>\n",
       "      <td>Dest210622-143628</td>\n",
       "      <td>M04</td>\n",
       "      <td>JCP2022_006020</td>\n",
       "      <td>-9223347314827979542</td>\n",
       "      <td>10</td>\n",
       "      <td>71.18</td>\n",
       "      <td>4.265212</td>\n",
       "      <td>1.852358</td>\n",
       "      <td>...</td>\n",
       "      <td>1.705322</td>\n",
       "      <td>3.242936</td>\n",
       "      <td>-1.327198</td>\n",
       "      <td>1.111929</td>\n",
       "      <td>2.102121</td>\n",
       "      <td>1.878933</td>\n",
       "      <td>3.540586</td>\n",
       "      <td>2.529848</td>\n",
       "      <td>-1.022145</td>\n",
       "      <td>0.753343</td>\n",
       "    </tr>\n",
       "    <tr>\n",
       "      <th>2</th>\n",
       "      <td>source_3</td>\n",
       "      <td>CP_31_all_Phenix1</td>\n",
       "      <td>B040603b</td>\n",
       "      <td>G13</td>\n",
       "      <td>JCP2022_006020</td>\n",
       "      <td>-9223347314827979542</td>\n",
       "      <td>10</td>\n",
       "      <td>71.18</td>\n",
       "      <td>4.265212</td>\n",
       "      <td>1.852358</td>\n",
       "      <td>...</td>\n",
       "      <td>-0.408875</td>\n",
       "      <td>-0.214203</td>\n",
       "      <td>-0.092149</td>\n",
       "      <td>-0.658746</td>\n",
       "      <td>-0.453523</td>\n",
       "      <td>5.058665</td>\n",
       "      <td>-0.418815</td>\n",
       "      <td>-0.455386</td>\n",
       "      <td>0.699883</td>\n",
       "      <td>-0.680918</td>\n",
       "    </tr>\n",
       "    <tr>\n",
       "      <th>3</th>\n",
       "      <td>source_6</td>\n",
       "      <td>p211004CPU2OS48hw384exp031JUMP</td>\n",
       "      <td>110000295562</td>\n",
       "      <td>M08</td>\n",
       "      <td>JCP2022_058905</td>\n",
       "      <td>-9223229703754907651</td>\n",
       "      <td>13</td>\n",
       "      <td>58.65</td>\n",
       "      <td>4.071588</td>\n",
       "      <td>1.768268</td>\n",
       "      <td>...</td>\n",
       "      <td>-0.438654</td>\n",
       "      <td>-0.627846</td>\n",
       "      <td>-0.707734</td>\n",
       "      <td>-0.504685</td>\n",
       "      <td>-0.398547</td>\n",
       "      <td>-0.303720</td>\n",
       "      <td>-0.389571</td>\n",
       "      <td>0.922415</td>\n",
       "      <td>-0.724165</td>\n",
       "      <td>-0.202291</td>\n",
       "    </tr>\n",
       "  </tbody>\n",
       "</table>\n",
       "<p>4 rows × 1482 columns</p>\n",
       "</div>"
      ],
      "text/plain": [
       "  Metadata_Source                  Metadata_Batch     Metadata_Plate Metadata_Well Metadata_JCP2022        Metadata_Hash  \\\n",
       "0        source_1                 Batch5_20221030           UL001793           M26   JCP2022_006020 -9223347314827979542   \n",
       "1       source_10      2021_06_22_U2OS_48_hr_run8  Dest210622-143628           M04   JCP2022_006020 -9223347314827979542   \n",
       "2        source_3               CP_31_all_Phenix1           B040603b           G13   JCP2022_006020 -9223347314827979542   \n",
       "3        source_6  p211004CPU2OS48hw384exp031JUMP       110000295562           M08   JCP2022_058905 -9223229703754907651   \n",
       "\n",
       "   Metadata_Bin  Metadata_TPSA  Metadata_lnTPSA  Metadata_log10TPSA  ...  Nuclei_Texture_SumAverage_DNA_10_01_256  \\\n",
       "0            10          71.18         4.265212            1.852358  ...                                 0.443768   \n",
       "1            10          71.18         4.265212            1.852358  ...                                 1.705322   \n",
       "2            10          71.18         4.265212            1.852358  ...                                -0.408875   \n",
       "3            13          58.65         4.071588            1.768268  ...                                -0.438654   \n",
       "\n",
       "   Nuclei_Texture_SumAverage_ER_10_01_256  Nuclei_Texture_SumAverage_Mito_10_01_256  Nuclei_Texture_SumAverage_RNA_10_01_256  \\\n",
       "0                                0.062235                                 -0.648585                                 0.308744   \n",
       "1                                3.242936                                 -1.327198                                 1.111929   \n",
       "2                               -0.214203                                 -0.092149                                -0.658746   \n",
       "3                               -0.627846                                 -0.707734                                -0.504685   \n",
       "\n",
       "   Nuclei_Texture_SumEntropy_DNA_10_03_256  Nuclei_Texture_SumVariance_AGP_10_03_256  Nuclei_Texture_SumVariance_DNA_10_03_256  \\\n",
       "0                                 0.073046                                 -0.245728                                  0.099481   \n",
       "1                                 2.102121                                  1.878933                                  3.540586   \n",
       "2                                -0.453523                                  5.058665                                 -0.418815   \n",
       "3                                -0.398547                                 -0.303720                                 -0.389571   \n",
       "\n",
       "   Nuclei_Texture_SumVariance_ER_10_01_256  Nuclei_Texture_SumVariance_Mito_10_03_256  Nuclei_Texture_SumVariance_RNA_10_01_256  \n",
       "0                                -0.107570                                  -0.558575                                  0.174041  \n",
       "1                                 2.529848                                  -1.022145                                  0.753343  \n",
       "2                                -0.455386                                   0.699883                                 -0.680918  \n",
       "3                                 0.922415                                  -0.724165                                 -0.202291  \n",
       "\n",
       "[4 rows x 1482 columns]"
      ]
     },
     "execution_count": 31,
     "metadata": {},
     "output_type": "execute_result"
    },
    {
     "data": {
      "text/html": [
       "<div>\n",
       "<style scoped>\n",
       "    .dataframe tbody tr th:only-of-type {\n",
       "        vertical-align: middle;\n",
       "    }\n",
       "\n",
       "    .dataframe tbody tr th {\n",
       "        vertical-align: top;\n",
       "    }\n",
       "\n",
       "    .dataframe thead th {\n",
       "        text-align: right;\n",
       "    }\n",
       "</style>\n",
       "<table border=\"1\" class=\"dataframe\">\n",
       "  <thead>\n",
       "    <tr style=\"text-align: right;\">\n",
       "      <th></th>\n",
       "      <th>Metadata_Source</th>\n",
       "      <th>Metadata_Batch</th>\n",
       "      <th>Metadata_Plate</th>\n",
       "      <th>Metadata_Well</th>\n",
       "      <th>Metadata_JCP2022</th>\n",
       "      <th>Metadata_Hash</th>\n",
       "      <th>Metadata_Bin</th>\n",
       "      <th>Metadata_TPSA</th>\n",
       "      <th>Metadata_lnTPSA</th>\n",
       "      <th>Metadata_log10TPSA</th>\n",
       "      <th>...</th>\n",
       "      <th>Nuclei_Texture_SumAverage_DNA_10_01_256</th>\n",
       "      <th>Nuclei_Texture_SumAverage_ER_10_01_256</th>\n",
       "      <th>Nuclei_Texture_SumAverage_Mito_10_01_256</th>\n",
       "      <th>Nuclei_Texture_SumAverage_RNA_10_01_256</th>\n",
       "      <th>Nuclei_Texture_SumEntropy_DNA_10_03_256</th>\n",
       "      <th>Nuclei_Texture_SumVariance_AGP_10_03_256</th>\n",
       "      <th>Nuclei_Texture_SumVariance_DNA_10_03_256</th>\n",
       "      <th>Nuclei_Texture_SumVariance_ER_10_01_256</th>\n",
       "      <th>Nuclei_Texture_SumVariance_Mito_10_03_256</th>\n",
       "      <th>Nuclei_Texture_SumVariance_RNA_10_01_256</th>\n",
       "    </tr>\n",
       "  </thead>\n",
       "  <tbody>\n",
       "    <tr>\n",
       "      <th>277196</th>\n",
       "      <td>source_10</td>\n",
       "      <td>2021_08_17_U2OS_48_hr_run16</td>\n",
       "      <td>Dest210809-140929</td>\n",
       "      <td>N19</td>\n",
       "      <td>JCP2022_040737</td>\n",
       "      <td>5548902807653184645</td>\n",
       "      <td>5</td>\n",
       "      <td>55.55</td>\n",
       "      <td>4.017284</td>\n",
       "      <td>1.744684</td>\n",
       "      <td>...</td>\n",
       "      <td>0.279704</td>\n",
       "      <td>-0.477297</td>\n",
       "      <td>0.766346</td>\n",
       "      <td>-0.538395</td>\n",
       "      <td>0.534544</td>\n",
       "      <td>-0.168472</td>\n",
       "      <td>0.167678</td>\n",
       "      <td>5.556482</td>\n",
       "      <td>0.234914</td>\n",
       "      <td>0.033930</td>\n",
       "    </tr>\n",
       "    <tr>\n",
       "      <th>277197</th>\n",
       "      <td>source_5</td>\n",
       "      <td>JUMPCPE-20211001-Run34_20211003_121618</td>\n",
       "      <td>APTJUM513</td>\n",
       "      <td>I14</td>\n",
       "      <td>JCP2022_100922</td>\n",
       "      <td>5548998150937919747</td>\n",
       "      <td>3</td>\n",
       "      <td>79.96</td>\n",
       "      <td>4.381527</td>\n",
       "      <td>1.902873</td>\n",
       "      <td>...</td>\n",
       "      <td>1.355798</td>\n",
       "      <td>0.717887</td>\n",
       "      <td>0.582572</td>\n",
       "      <td>0.980785</td>\n",
       "      <td>1.483980</td>\n",
       "      <td>0.776554</td>\n",
       "      <td>1.503725</td>\n",
       "      <td>0.131455</td>\n",
       "      <td>0.991715</td>\n",
       "      <td>0.536435</td>\n",
       "    </tr>\n",
       "    <tr>\n",
       "      <th>277198</th>\n",
       "      <td>source_11</td>\n",
       "      <td>Batch1</td>\n",
       "      <td>EC000029</td>\n",
       "      <td>J07</td>\n",
       "      <td>JCP2022_100922</td>\n",
       "      <td>5548998150937919747</td>\n",
       "      <td>3</td>\n",
       "      <td>79.96</td>\n",
       "      <td>4.381527</td>\n",
       "      <td>1.902873</td>\n",
       "      <td>...</td>\n",
       "      <td>1.222598</td>\n",
       "      <td>2.746357</td>\n",
       "      <td>-0.969408</td>\n",
       "      <td>1.989859</td>\n",
       "      <td>2.133944</td>\n",
       "      <td>0.750914</td>\n",
       "      <td>0.038839</td>\n",
       "      <td>0.516236</td>\n",
       "      <td>-0.378281</td>\n",
       "      <td>0.546976</td>\n",
       "    </tr>\n",
       "    <tr>\n",
       "      <th>277199</th>\n",
       "      <td>source_5</td>\n",
       "      <td>JUMPCPE-20210706-Run06_20210706_235916</td>\n",
       "      <td>APTJUM213</td>\n",
       "      <td>I14</td>\n",
       "      <td>JCP2022_100922</td>\n",
       "      <td>5548998150937919747</td>\n",
       "      <td>3</td>\n",
       "      <td>79.96</td>\n",
       "      <td>4.381527</td>\n",
       "      <td>1.902873</td>\n",
       "      <td>...</td>\n",
       "      <td>0.575722</td>\n",
       "      <td>-0.627173</td>\n",
       "      <td>-1.028061</td>\n",
       "      <td>-2.295289</td>\n",
       "      <td>0.119773</td>\n",
       "      <td>0.577766</td>\n",
       "      <td>0.641044</td>\n",
       "      <td>0.361389</td>\n",
       "      <td>-0.855551</td>\n",
       "      <td>-1.424477</td>\n",
       "    </tr>\n",
       "  </tbody>\n",
       "</table>\n",
       "<p>4 rows × 1482 columns</p>\n",
       "</div>"
      ],
      "text/plain": [
       "       Metadata_Source                          Metadata_Batch     Metadata_Plate Metadata_Well Metadata_JCP2022  \\\n",
       "277196       source_10             2021_08_17_U2OS_48_hr_run16  Dest210809-140929           N19   JCP2022_040737   \n",
       "277197        source_5  JUMPCPE-20211001-Run34_20211003_121618          APTJUM513           I14   JCP2022_100922   \n",
       "277198       source_11                                  Batch1           EC000029           J07   JCP2022_100922   \n",
       "277199        source_5  JUMPCPE-20210706-Run06_20210706_235916          APTJUM213           I14   JCP2022_100922   \n",
       "\n",
       "              Metadata_Hash  Metadata_Bin  Metadata_TPSA  Metadata_lnTPSA  Metadata_log10TPSA  ...  \\\n",
       "277196  5548902807653184645             5          55.55         4.017284            1.744684  ...   \n",
       "277197  5548998150937919747             3          79.96         4.381527            1.902873  ...   \n",
       "277198  5548998150937919747             3          79.96         4.381527            1.902873  ...   \n",
       "277199  5548998150937919747             3          79.96         4.381527            1.902873  ...   \n",
       "\n",
       "        Nuclei_Texture_SumAverage_DNA_10_01_256  Nuclei_Texture_SumAverage_ER_10_01_256  Nuclei_Texture_SumAverage_Mito_10_01_256  \\\n",
       "277196                                 0.279704                               -0.477297                                  0.766346   \n",
       "277197                                 1.355798                                0.717887                                  0.582572   \n",
       "277198                                 1.222598                                2.746357                                 -0.969408   \n",
       "277199                                 0.575722                               -0.627173                                 -1.028061   \n",
       "\n",
       "        Nuclei_Texture_SumAverage_RNA_10_01_256  Nuclei_Texture_SumEntropy_DNA_10_03_256  \\\n",
       "277196                                -0.538395                                 0.534544   \n",
       "277197                                 0.980785                                 1.483980   \n",
       "277198                                 1.989859                                 2.133944   \n",
       "277199                                -2.295289                                 0.119773   \n",
       "\n",
       "        Nuclei_Texture_SumVariance_AGP_10_03_256  Nuclei_Texture_SumVariance_DNA_10_03_256  \\\n",
       "277196                                 -0.168472                                  0.167678   \n",
       "277197                                  0.776554                                  1.503725   \n",
       "277198                                  0.750914                                  0.038839   \n",
       "277199                                  0.577766                                  0.641044   \n",
       "\n",
       "        Nuclei_Texture_SumVariance_ER_10_01_256  Nuclei_Texture_SumVariance_Mito_10_03_256  \\\n",
       "277196                                 5.556482                                   0.234914   \n",
       "277197                                 0.131455                                   0.991715   \n",
       "277198                                 0.516236                                  -0.378281   \n",
       "277199                                 0.361389                                  -0.855551   \n",
       "\n",
       "        Nuclei_Texture_SumVariance_RNA_10_01_256  \n",
       "277196                                  0.033930  \n",
       "277197                                  0.536435  \n",
       "277198                                  0.546976  \n",
       "277199                                 -1.424477  \n",
       "\n",
       "[4 rows x 1482 columns]"
      ]
     },
     "execution_count": 31,
     "metadata": {},
     "output_type": "execute_result"
    }
   ],
   "source": [
    "df_train_x.shape\n",
    "df_train_x.info()\n",
    "# df_train_x.iloc[:5,4:16]\n",
    "df_train_x.head(4)\n",
    "df_train_x.tail(4)"
   ]
  },
  {
   "cell_type": "code",
   "execution_count": 32,
   "id": "6cef2442-7a70-4ebc-9d38-c1151fd5a085",
   "metadata": {
    "execution": {
     "iopub.execute_input": "2024-12-06T15:04:34.327813Z",
     "iopub.status.busy": "2024-12-06T15:04:34.327550Z",
     "iopub.status.idle": "2024-12-06T15:04:34.370867Z",
     "shell.execute_reply": "2024-12-06T15:04:34.369968Z",
     "shell.execute_reply.started": "2024-12-06T15:04:34.327792Z"
    }
   },
   "outputs": [
    {
     "data": {
      "text/plain": [
       "(277200,)"
      ]
     },
     "execution_count": 32,
     "metadata": {},
     "output_type": "execute_result"
    },
    {
     "name": "stdout",
     "output_type": "stream",
     "text": [
      "<class 'pandas.core.series.Series'>\n",
      "RangeIndex: 277200 entries, 0 to 277199\n",
      "Series name: Metadata_Permiation\n",
      "Non-Null Count   Dtype\n",
      "--------------   -----\n",
      "277200 non-null  int64\n",
      "dtypes: int64(1)\n",
      "memory usage: 2.1 MB\n"
     ]
    },
    {
     "data": {
      "text/plain": [
       "0    0\n",
       "1    0\n",
       "2    0\n",
       "3    0\n",
       "4    0\n",
       "5    0\n",
       "6    0\n",
       "7    0\n",
       "8    0\n",
       "9    0\n",
       "Name: Metadata_Permiation, dtype: int64"
      ]
     },
     "execution_count": 32,
     "metadata": {},
     "output_type": "execute_result"
    },
    {
     "data": {
      "text/plain": [
       "277190    1\n",
       "277191    0\n",
       "277192    0\n",
       "277193    0\n",
       "277194    0\n",
       "277195    0\n",
       "277196    0\n",
       "277197    0\n",
       "277198    0\n",
       "277199    0\n",
       "Name: Metadata_Permiation, dtype: int64"
      ]
     },
     "execution_count": 32,
     "metadata": {},
     "output_type": "execute_result"
    }
   ],
   "source": [
    "# df_train_y = pd.read_csv(TRAIN_INPUT_Y)\n",
    "df_train_y = df_train_x.Metadata_Permiation.astype(np.int64)\n",
    "df_train_y.shape\n",
    "df_train_y.info()\n",
    "df_train_y.iloc[:10]\n",
    "df_train_y.iloc[-10:]"
   ]
  },
  {
   "cell_type": "code",
   "execution_count": 33,
   "id": "cdc076ef-9f5b-429f-8ace-9b81217e53b0",
   "metadata": {
    "execution": {
     "iopub.execute_input": "2024-12-06T15:04:34.372438Z",
     "iopub.status.busy": "2024-12-06T15:04:34.372197Z",
     "iopub.status.idle": "2024-12-06T15:04:34.406985Z",
     "shell.execute_reply": "2024-12-06T15:04:34.406197Z",
     "shell.execute_reply.started": "2024-12-06T15:04:34.372416Z"
    }
   },
   "outputs": [
    {
     "data": {
      "text/plain": [
       "((277200, 1482), pandas.core.frame.DataFrame)"
      ]
     },
     "execution_count": 33,
     "metadata": {},
     "output_type": "execute_result"
    },
    {
     "data": {
      "text/plain": [
       "((277200,), pandas.core.series.Series)"
      ]
     },
     "execution_count": 33,
     "metadata": {},
     "output_type": "execute_result"
    }
   ],
   "source": [
    "df_train_x.shape, type(df_train_x)\n",
    "df_train_y.shape, type(df_train_y)"
   ]
  },
  {
   "cell_type": "code",
   "execution_count": 30,
   "id": "81f13cbc-6685-4782-8e5d-64b4332fb5b8",
   "metadata": {
    "execution": {
     "iopub.execute_input": "2024-10-30T18:40:14.446380Z",
     "iopub.status.busy": "2024-10-30T18:40:14.445716Z",
     "iopub.status.idle": "2024-10-30T18:40:14.507937Z",
     "shell.execute_reply": "2024-10-30T18:40:14.507205Z",
     "shell.execute_reply.started": "2024-10-30T18:40:14.446320Z"
    }
   },
   "outputs": [],
   "source": [
    "# del train_x, train_y"
   ]
  },
  {
   "cell_type": "markdown",
   "id": "252f849a-8dcf-45d9-af13-9b4a57e6d68a",
   "metadata": {},
   "source": [
    "## Test Data "
   ]
  },
  {
   "cell_type": "code",
   "execution_count": 11,
   "id": "f5a700e0-6a2b-43c4-9985-baaf6cef929e",
   "metadata": {
    "execution": {
     "iopub.execute_input": "2024-12-09T09:57:32.456927Z",
     "iopub.status.busy": "2024-12-09T09:57:32.456421Z",
     "iopub.status.idle": "2024-12-09T09:57:32.498811Z",
     "shell.execute_reply": "2024-12-09T09:57:32.497946Z",
     "shell.execute_reply.started": "2024-12-09T09:57:32.456885Z"
    }
   },
   "outputs": [
    {
     "data": {
      "text/plain": [
       "'/home/kevin/WSL-shared/cellpainting/cj-datasets/output_11102023/3_sample_profiles/3sample_profiles_1482_HashOrder_test.csv'"
      ]
     },
     "execution_count": 11,
     "metadata": {},
     "output_type": "execute_result"
    },
    {
     "data": {
      "text/plain": [
       "'/home/kevin/WSL-shared/cellpainting/cj-datasets/output_11102023/3_sample_profiles/3sample_pharmacophores_1482_HashOrder_test.csv'"
      ]
     },
     "execution_count": 11,
     "metadata": {},
     "output_type": "execute_result"
    }
   ],
   "source": [
    "TEST_INPUT_X\n",
    "TEST_INPUT_Y"
   ]
  },
  {
   "cell_type": "code",
   "execution_count": 12,
   "id": "4fd496eb-cec7-446a-80fc-66fc57aa5ef3",
   "metadata": {
    "execution": {
     "iopub.execute_input": "2024-12-09T09:57:32.730189Z",
     "iopub.status.busy": "2024-12-09T09:57:32.729716Z",
     "iopub.status.idle": "2024-12-09T09:57:37.958101Z",
     "shell.execute_reply": "2024-12-09T09:57:37.957034Z",
     "shell.execute_reply.started": "2024-12-09T09:57:32.730150Z"
    }
   },
   "outputs": [
    {
     "name": "stdout",
     "output_type": "stream",
     "text": [
      "<class 'pandas.core.frame.DataFrame'>\n",
      "RangeIndex: 12600 entries, 0 to 12599\n",
      "Columns: 1482 entries, Metadata_Source to Nuclei_Texture_SumVariance_RNA_10_01_256\n",
      "dtypes: float64(1474), int64(3), object(5)\n",
      "memory usage: 142.5+ MB\n"
     ]
    },
    {
     "data": {
      "text/plain": [
       "(12600, 1482)"
      ]
     },
     "execution_count": 12,
     "metadata": {},
     "output_type": "execute_result"
    },
    {
     "data": {
      "text/plain": [
       "Index(['Metadata_Source', 'Metadata_Batch', 'Metadata_Plate', 'Metadata_Well', 'Metadata_JCP2022', 'Metadata_Hash', 'Metadata_Bin',\n",
       "       'Metadata_TPSA', 'Metadata_lnTPSA', 'Metadata_log10TPSA',\n",
       "       ...\n",
       "       'Nuclei_Texture_SumAverage_DNA_10_01_256', 'Nuclei_Texture_SumAverage_ER_10_01_256',\n",
       "       'Nuclei_Texture_SumAverage_Mito_10_01_256', 'Nuclei_Texture_SumAverage_RNA_10_01_256',\n",
       "       'Nuclei_Texture_SumEntropy_DNA_10_03_256', 'Nuclei_Texture_SumVariance_AGP_10_03_256',\n",
       "       'Nuclei_Texture_SumVariance_DNA_10_03_256', 'Nuclei_Texture_SumVariance_ER_10_01_256',\n",
       "       'Nuclei_Texture_SumVariance_Mito_10_03_256', 'Nuclei_Texture_SumVariance_RNA_10_01_256'],\n",
       "      dtype='object', length=1482)"
      ]
     },
     "execution_count": 12,
     "metadata": {},
     "output_type": "execute_result"
    },
    {
     "data": {
      "text/html": [
       "<div>\n",
       "<style scoped>\n",
       "    .dataframe tbody tr th:only-of-type {\n",
       "        vertical-align: middle;\n",
       "    }\n",
       "\n",
       "    .dataframe tbody tr th {\n",
       "        vertical-align: top;\n",
       "    }\n",
       "\n",
       "    .dataframe thead th {\n",
       "        text-align: right;\n",
       "    }\n",
       "</style>\n",
       "<table border=\"1\" class=\"dataframe\">\n",
       "  <thead>\n",
       "    <tr style=\"text-align: right;\">\n",
       "      <th></th>\n",
       "      <th>Metadata_Source</th>\n",
       "      <th>Metadata_Batch</th>\n",
       "      <th>Metadata_Plate</th>\n",
       "      <th>Metadata_Well</th>\n",
       "      <th>Metadata_JCP2022</th>\n",
       "      <th>Metadata_Hash</th>\n",
       "      <th>Metadata_Bin</th>\n",
       "      <th>Metadata_TPSA</th>\n",
       "      <th>Metadata_lnTPSA</th>\n",
       "      <th>Metadata_log10TPSA</th>\n",
       "      <th>Metadata_Permiation</th>\n",
       "      <th>Cells_AreaShape_BoundingBoxMaximum_X</th>\n",
       "      <th>Cells_AreaShape_Center_X</th>\n",
       "    </tr>\n",
       "  </thead>\n",
       "  <tbody>\n",
       "    <tr>\n",
       "      <th>0</th>\n",
       "      <td>source_9</td>\n",
       "      <td>20210914-Run9</td>\n",
       "      <td>GR00003302</td>\n",
       "      <td>H45</td>\n",
       "      <td>JCP2022_004021</td>\n",
       "      <td>6703456398488902534</td>\n",
       "      <td>6</td>\n",
       "      <td>58.04</td>\n",
       "      <td>4.061132</td>\n",
       "      <td>1.763727</td>\n",
       "      <td>0</td>\n",
       "      <td>0.265359</td>\n",
       "      <td>-1.023236</td>\n",
       "    </tr>\n",
       "    <tr>\n",
       "      <th>1</th>\n",
       "      <td>source_9</td>\n",
       "      <td>20210914-Run9</td>\n",
       "      <td>GR00003301</td>\n",
       "      <td>H21</td>\n",
       "      <td>JCP2022_004021</td>\n",
       "      <td>6703456398488902534</td>\n",
       "      <td>6</td>\n",
       "      <td>58.04</td>\n",
       "      <td>4.061132</td>\n",
       "      <td>1.763727</td>\n",
       "      <td>0</td>\n",
       "      <td>1.264069</td>\n",
       "      <td>-0.121984</td>\n",
       "    </tr>\n",
       "    <tr>\n",
       "      <th>2</th>\n",
       "      <td>source_9</td>\n",
       "      <td>20210914-Run9</td>\n",
       "      <td>GR00003303</td>\n",
       "      <td>X45</td>\n",
       "      <td>JCP2022_004021</td>\n",
       "      <td>6703456398488902534</td>\n",
       "      <td>6</td>\n",
       "      <td>58.04</td>\n",
       "      <td>4.061132</td>\n",
       "      <td>1.763727</td>\n",
       "      <td>0</td>\n",
       "      <td>2.304297</td>\n",
       "      <td>1.081565</td>\n",
       "    </tr>\n",
       "    <tr>\n",
       "      <th>3</th>\n",
       "      <td>source_3</td>\n",
       "      <td>CP_32_all_Phenix1</td>\n",
       "      <td>B40803aW</td>\n",
       "      <td>P21</td>\n",
       "      <td>JCP2022_102146</td>\n",
       "      <td>6704177726803547665</td>\n",
       "      <td>1</td>\n",
       "      <td>86.51</td>\n",
       "      <td>4.460260</td>\n",
       "      <td>1.937066</td>\n",
       "      <td>0</td>\n",
       "      <td>-1.042122</td>\n",
       "      <td>-0.901804</td>\n",
       "    </tr>\n",
       "    <tr>\n",
       "      <th>4</th>\n",
       "      <td>source_6</td>\n",
       "      <td>p210928CPU2OS48hw384exp030JUMP</td>\n",
       "      <td>110000296383</td>\n",
       "      <td>P21</td>\n",
       "      <td>JCP2022_102146</td>\n",
       "      <td>6704177726803547665</td>\n",
       "      <td>1</td>\n",
       "      <td>86.51</td>\n",
       "      <td>4.460260</td>\n",
       "      <td>1.937066</td>\n",
       "      <td>0</td>\n",
       "      <td>0.282867</td>\n",
       "      <td>0.404944</td>\n",
       "    </tr>\n",
       "  </tbody>\n",
       "</table>\n",
       "</div>"
      ],
      "text/plain": [
       "  Metadata_Source                  Metadata_Batch Metadata_Plate Metadata_Well Metadata_JCP2022        Metadata_Hash  \\\n",
       "0        source_9                   20210914-Run9     GR00003302           H45   JCP2022_004021  6703456398488902534   \n",
       "1        source_9                   20210914-Run9     GR00003301           H21   JCP2022_004021  6703456398488902534   \n",
       "2        source_9                   20210914-Run9     GR00003303           X45   JCP2022_004021  6703456398488902534   \n",
       "3        source_3               CP_32_all_Phenix1       B40803aW           P21   JCP2022_102146  6704177726803547665   \n",
       "4        source_6  p210928CPU2OS48hw384exp030JUMP   110000296383           P21   JCP2022_102146  6704177726803547665   \n",
       "\n",
       "   Metadata_Bin  Metadata_TPSA  Metadata_lnTPSA  Metadata_log10TPSA  Metadata_Permiation  Cells_AreaShape_BoundingBoxMaximum_X  \\\n",
       "0             6          58.04         4.061132            1.763727                    0                              0.265359   \n",
       "1             6          58.04         4.061132            1.763727                    0                              1.264069   \n",
       "2             6          58.04         4.061132            1.763727                    0                              2.304297   \n",
       "3             1          86.51         4.460260            1.937066                    0                             -1.042122   \n",
       "4             1          86.51         4.460260            1.937066                    0                              0.282867   \n",
       "\n",
       "   Cells_AreaShape_Center_X  \n",
       "0                 -1.023236  \n",
       "1                 -0.121984  \n",
       "2                  1.081565  \n",
       "3                 -0.901804  \n",
       "4                  0.404944  "
      ]
     },
     "execution_count": 12,
     "metadata": {},
     "output_type": "execute_result"
    }
   ],
   "source": [
    "df_test_x = pd.read_csv(TEST_INPUT_X )\n",
    "df_test_x.info()\n",
    "df_test_x.shape\n",
    "df_test_x.columns\n",
    "df_test_x.iloc[:5,:13]"
   ]
  },
  {
   "cell_type": "code",
   "execution_count": 13,
   "id": "94df4036-9ec8-41f4-a0b4-50c15faf2302",
   "metadata": {
    "execution": {
     "iopub.execute_input": "2024-12-09T09:57:37.960868Z",
     "iopub.status.busy": "2024-12-09T09:57:37.960503Z",
     "iopub.status.idle": "2024-12-09T09:57:38.017682Z",
     "shell.execute_reply": "2024-12-09T09:57:38.017075Z",
     "shell.execute_reply.started": "2024-12-09T09:57:37.960843Z"
    }
   },
   "outputs": [
    {
     "data": {
      "text/plain": [
       "(12600,)"
      ]
     },
     "execution_count": 13,
     "metadata": {},
     "output_type": "execute_result"
    },
    {
     "name": "stdout",
     "output_type": "stream",
     "text": [
      "<class 'pandas.core.series.Series'>\n",
      "RangeIndex: 12600 entries, 0 to 12599\n",
      "Series name: Metadata_Permiation\n",
      "Non-Null Count  Dtype\n",
      "--------------  -----\n",
      "12600 non-null  int64\n",
      "dtypes: int64(1)\n",
      "memory usage: 98.6 KB\n"
     ]
    },
    {
     "data": {
      "text/plain": [
       "0    0\n",
       "1    0\n",
       "2    0\n",
       "3    0\n",
       "4    0\n",
       "Name: Metadata_Permiation, dtype: int64"
      ]
     },
     "execution_count": 13,
     "metadata": {},
     "output_type": "execute_result"
    }
   ],
   "source": [
    "df_test_y = df_test_x.Metadata_Permiation.astype(np.int64)\n",
    "df_test_y.shape\n",
    "df_test_y.info()\n",
    "df_test_y.iloc[:5]"
   ]
  },
  {
   "cell_type": "markdown",
   "id": "5e249088-f83b-4fc8-ba2e-863e65f332bf",
   "metadata": {
    "jp-MarkdownHeadingCollapsed": true
   },
   "source": [
    "## Other input preprocessing"
   ]
  },
  {
   "cell_type": "markdown",
   "id": "6fe81c72-1a16-4661-abdf-515d3cf37658",
   "metadata": {
    "jp-MarkdownHeadingCollapsed": true
   },
   "source": [
    "### Standardize inputs"
   ]
  },
  {
   "cell_type": "code",
   "execution_count": 619,
   "id": "f0e166f8-7c19-4113-b2c8-798b367e840c",
   "metadata": {
    "execution": {
     "iopub.execute_input": "2024-08-05T19:00:33.908202Z",
     "iopub.status.busy": "2024-08-05T19:00:33.907453Z",
     "iopub.status.idle": "2024-08-05T19:00:41.033685Z",
     "shell.execute_reply": "2024-08-05T19:00:41.032940Z",
     "shell.execute_reply.started": "2024-08-05T19:00:33.908137Z"
    }
   },
   "outputs": [
    {
     "name": "stdout",
     "output_type": "stream",
     "text": [
      "Train_X :  Min: -72.2029    Max: 103.8641   Mean: 0.0527  Std: 2.5164\n",
      "Test_X  :  Min: -53.3835    Max: 71.4748    Mean: 0.0529  Std: 2.4997\n"
     ]
    }
   ],
   "source": [
    "print(f\"Train_X :  Min: {train_X.min():.4f}    Max: {train_X.max():.4f}   Mean: {train_X.mean():.4f}  Std: {train_X.std():.4f}\")\n",
    "print(f\"Test_X  :  Min: {test_X.min():.4f}    Max: {test_X.max():.4f}    Mean: {test_X.mean():.4f}  Std: {test_X.std():.4f}\")"
   ]
  },
  {
   "cell_type": "code",
   "execution_count": 620,
   "id": "a9405556-1159-4dff-9b35-aa0b940668b1",
   "metadata": {
    "execution": {
     "iopub.execute_input": "2024-08-05T19:00:53.122587Z",
     "iopub.status.busy": "2024-08-05T19:00:53.122167Z",
     "iopub.status.idle": "2024-08-05T19:00:53.158912Z",
     "shell.execute_reply": "2024-08-05T19:00:53.158150Z",
     "shell.execute_reply.started": "2024-08-05T19:00:53.122543Z"
    }
   },
   "outputs": [],
   "source": [
    "# print(f\"Train_X :  Min: {train_X.min():.4f}    Max: {train_X.max():.4f}   Mean: {train_X.mean():.4f}  Std: {train_X.std():.4f}\")\n",
    "# print(f\"Test_X  :  Min: {test_X.min():.4f}    Max: {test_X.max():.4f}    Mean: {test_X.mean():.4f}  Std: {test_X.std():.4f}\")"
   ]
  },
  {
   "cell_type": "code",
   "execution_count": 621,
   "id": "94b469ab-98e6-4a6a-83d1-22f5c0634433",
   "metadata": {
    "execution": {
     "iopub.execute_input": "2024-08-05T19:00:55.486362Z",
     "iopub.status.busy": "2024-08-05T19:00:55.485889Z",
     "iopub.status.idle": "2024-08-05T19:01:06.354980Z",
     "shell.execute_reply": "2024-08-05T19:01:06.354109Z",
     "shell.execute_reply.started": "2024-08-05T19:00:55.486323Z"
    }
   },
   "outputs": [],
   "source": [
    "scaler = StandardScaler(copy = True)\n",
    "train_X = scaler.fit_transform(train_X)\n",
    "test_X = scaler.transform(test_X)"
   ]
  },
  {
   "cell_type": "code",
   "execution_count": 622,
   "id": "0ecee7ee-224f-469d-88c3-f4677cdc2afe",
   "metadata": {
    "execution": {
     "iopub.execute_input": "2024-08-05T19:01:13.946463Z",
     "iopub.status.busy": "2024-08-05T19:01:13.946020Z",
     "iopub.status.idle": "2024-08-05T19:01:16.963257Z",
     "shell.execute_reply": "2024-08-05T19:01:16.962253Z",
     "shell.execute_reply.started": "2024-08-05T19:01:13.946426Z"
    }
   },
   "outputs": [
    {
     "name": "stdout",
     "output_type": "stream",
     "text": [
      "After Standard Scaler Transformation\n",
      "Train_X :  Min: -33.4514    Max: 27.3319   Mean: -0.0000  Std: 1.0000\n",
      "Test_X  :  Min: -24.2626    Max: 28.1195    Mean: 0.0003  Std: 0.9889\n"
     ]
    }
   ],
   "source": [
    "print(\"After Standard Scaler Transformation\")\n",
    "print(f\"Train_X :  Min: {train_X.min():.4f}    Max: {train_X.max():.4f}   Mean: {train_X.mean():.4f}  Std: {train_X.std():.4f}\")\n",
    "print(f\"Test_X  :  Min: {test_X.min():.4f}    Max: {test_X.max():.4f}    Mean: {test_X.mean():.4f}  Std: {test_X.std():.4f}\")\n"
   ]
  },
  {
   "cell_type": "code",
   "execution_count": 623,
   "id": "c3b3616c-e89b-4cdc-ab4c-e48ba0846a8e",
   "metadata": {
    "execution": {
     "iopub.execute_input": "2024-08-05T19:01:57.328685Z",
     "iopub.status.busy": "2024-08-05T19:01:57.328153Z",
     "iopub.status.idle": "2024-08-05T19:01:57.388925Z",
     "shell.execute_reply": "2024-08-05T19:01:57.387905Z",
     "shell.execute_reply.started": "2024-08-05T19:01:57.328646Z"
    },
    "scrolled": true
   },
   "outputs": [
    {
     "name": "stdout",
     "output_type": "stream",
     "text": [
      " Training\n",
      " Total samples: 312000\n",
      " Label 0: 274,836      % 88.09 \n",
      " Label 1:  37,164      % 11.91 \n",
      "\n",
      " Test\n",
      " Total samples: 34542\n",
      " Label 0:  30,378      % 87.95 \n",
      " Label 1:   4,164      % 12.05 \n",
      "\n"
     ]
    }
   ],
   "source": [
    "label_counts([(\"Training\", train_y), (\"Test\", test_y)])\n",
    "# for grp_name, labels in [(\"Training\", train_y), (\"Test\", test_y)]:\n",
    "#     bcnt = np.bincount(labels.astype(np.int64))\n",
    "#     print(f\" {grp_name}\")\n",
    "#     print(f\" Total samples: {bcnt.sum()}\")\n",
    "#     print(f\" Label 0: {bcnt[0]:>7d}      % {bcnt[0]*100/bcnt.sum():2.2f} \")\n",
    "#     print(f\" Label 0: {bcnt[1]:>7d}      % {bcnt[1]*100/bcnt.sum():2.2f} \")\n",
    "#     print(\"\")"
   ]
  },
  {
   "cell_type": "markdown",
   "id": "5b413996-c395-4f26-8354-b1a408a6140a",
   "metadata": {
    "jp-MarkdownHeadingCollapsed": true
   },
   "source": [
    "### Modify TPSA Threshold"
   ]
  },
  {
   "cell_type": "code",
   "execution_count": 269,
   "id": "9ca4e52f-46c9-4506-8b0d-239f045f04ac",
   "metadata": {
    "execution": {
     "iopub.execute_input": "2024-08-02T19:43:18.952547Z",
     "iopub.status.busy": "2024-08-02T19:43:18.952152Z",
     "iopub.status.idle": "2024-08-02T19:43:18.990375Z",
     "shell.execute_reply": "2024-08-02T19:43:18.989668Z",
     "shell.execute_reply.started": "2024-08-02T19:43:18.952516Z"
    }
   },
   "outputs": [
    {
     "data": {
      "text/plain": [
       "104000.0"
      ]
     },
     "execution_count": 269,
     "metadata": {},
     "output_type": "execute_result"
    }
   ],
   "source": [
    "train_y_72 = np.zeros_like(train_y)\n",
    "train_y_72.shape[0]/3"
   ]
  },
  {
   "cell_type": "code",
   "execution_count": 42,
   "id": "e11392e3-cbea-49a8-9a0b-2030c1a0aee1",
   "metadata": {
    "editable": true,
    "execution": {
     "iopub.execute_input": "2024-01-24T12:31:19.584307Z",
     "iopub.status.busy": "2024-01-24T12:31:19.583896Z",
     "iopub.status.idle": "2024-01-24T12:31:19.647754Z",
     "shell.execute_reply": "2024-01-24T12:31:19.646662Z",
     "shell.execute_reply.started": "2024-01-24T12:31:19.584277Z"
    },
    "slideshow": {
     "slide_type": ""
    },
    "tags": []
   },
   "outputs": [
    {
     "name": "stdout",
     "output_type": "stream",
     "text": [
      "                  min           max           std          mean           median\n",
      "TPSA             3.2400000  2834.6700000    32.8859880    73.6213196    71.3600000\n",
      "lnTPSA           1.1755733     7.9496808     0.3917724     4.2261118     4.2677375\n",
      "log10TPSA        0.5105450     3.4525025     0.1701446     1.8353770     1.8534548\n"
     ]
    },
    {
     "data": {
      "text/plain": [
       "116691"
      ]
     },
     "execution_count": 42,
     "metadata": {},
     "output_type": "execute_result"
    },
    {
     "data": {
      "text/plain": [
       "0.12232305833354758"
      ]
     },
     "execution_count": 42,
     "metadata": {},
     "output_type": "execute_result"
    },
    {
     "data": {
      "text/plain": [
       "0.8776769416664524"
      ]
     },
     "execution_count": 42,
     "metadata": {},
     "output_type": "execute_result"
    }
   ],
   "source": [
    "print(f\"                  min           max           std          mean           median\")\n",
    "for x in ['TPSA', 'lnTPSA', 'log10TPSA']:\n",
    "    print(f\"{x:12s} {df_train[x].min():13.7f} {df_train[x].max():13.7f} {df_train[x].std():13.7f} {df_train[x].mean():13.7f} {df_train[x].median():13.7f}\") \n",
    "\n",
    "df_train.TPSA.count()\n",
    "df_train[df_train.TPSA >= THRESHOLD].TPSA.count()/df_train.TPSA.count()\n",
    "df_train[df_train.TPSA < THRESHOLD].TPSA.count()/df_train.TPSA.count()\n"
   ]
  },
  {
   "cell_type": "code",
   "execution_count": 203,
   "id": "d5f5bab9-6b23-4078-a398-dccbea38ae78",
   "metadata": {
    "execution": {
     "iopub.execute_input": "2024-08-02T18:25:44.400889Z",
     "iopub.status.busy": "2024-08-02T18:25:44.400409Z",
     "iopub.status.idle": "2024-08-02T18:25:44.451332Z",
     "shell.execute_reply": "2024-08-02T18:25:44.450555Z",
     "shell.execute_reply.started": "2024-08-02T18:25:44.400850Z"
    }
   },
   "outputs": [
    {
     "data": {
      "text/plain": [
       "(274836, 37164)"
      ]
     },
     "execution_count": 203,
     "metadata": {},
     "output_type": "execute_result"
    }
   ],
   "source": [
    "_tmp = df_train.Metadata_Permiation.value_counts()\n",
    "_tmp[0], _tmp[1]"
   ]
  },
  {
   "cell_type": "code",
   "execution_count": 264,
   "id": "d59dcba1-6add-4446-aa27-a30564f42e54",
   "metadata": {
    "editable": true,
    "execution": {
     "iopub.execute_input": "2024-08-02T19:17:47.830206Z",
     "iopub.status.busy": "2024-08-02T19:17:47.829809Z",
     "iopub.status.idle": "2024-08-02T19:17:47.877739Z",
     "shell.execute_reply": "2024-08-02T19:17:47.877049Z",
     "shell.execute_reply.started": "2024-08-02T19:17:47.830173Z"
    },
    "slideshow": {
     "slide_type": ""
    },
    "tags": []
   },
   "outputs": [
    {
     "name": "stdout",
     "output_type": "stream",
     "text": [
      "\n",
      " TPSA threshold 68 \n",
      " Total samples: 312000\n",
      " Label 0:  138900      % 44.52 \n",
      " Label 1:  173100      % 55.48 \n",
      "\n",
      " TPSA threshold 69 \n",
      " Total samples: 312000\n",
      " Label 0:  144249      % 46.23 \n",
      " Label 1:  167751      % 53.77 \n",
      "\n",
      " TPSA threshold 70 \n",
      " Total samples: 312000\n",
      " Label 0:  149058      % 47.77 \n",
      " Label 1:  162942      % 52.23 \n",
      "\n",
      " TPSA threshold 71 \n",
      " Total samples: 312000\n",
      " Label 0:  154125      % 49.40 \n",
      " Label 1:  157875      % 50.60 \n",
      "\n",
      " TPSA threshold 72 \n",
      " Total samples: 312000\n",
      " Label 0:  160203      % 51.35 \n",
      " Label 1:  151797      % 48.65 \n",
      "\n",
      " TPSA threshold 100 \n",
      " Total samples: 312000\n",
      " Label 0:  274836      % 88.09 \n",
      " Label 1:   37164      % 11.91 \n"
     ]
    }
   ],
   "source": [
    "for threshold in [68, 69, 70, 71, 72, 100]:\n",
    "    _tmp = (df_train['Metadata_TPSA'] >= threshold).value_counts()\n",
    "    print(f\"\\n TPSA threshold {threshold} \\n Total samples: {_tmp.sum()}\")\n",
    "    print(f\" Label 0: {_tmp[False]:>7d}      % {_tmp[False]*100/_tmp.sum():2.2f} \")\n",
    "    print(f\" Label 1: {_tmp[True]:>7d}      % {_tmp[True]*100/_tmp.sum():2.2f} \")"
   ]
  },
  {
   "cell_type": "code",
   "execution_count": 265,
   "id": "65d1d01b-3946-4668-9c10-5fb3f2b3bd64",
   "metadata": {
    "execution": {
     "iopub.execute_input": "2024-08-02T19:18:15.207992Z",
     "iopub.status.busy": "2024-08-02T19:18:15.207573Z",
     "iopub.status.idle": "2024-08-02T19:18:15.241831Z",
     "shell.execute_reply": "2024-08-02T19:18:15.241195Z",
     "shell.execute_reply.started": "2024-08-02T19:18:15.207957Z"
    }
   },
   "outputs": [],
   "source": [
    "# fig, ax = plt.subplots(figsize=(4,4))\n",
    "# fig.canvas.draw()  # Need to draw the figure to define renderer\n",
    "# ax.set_title(\"AngleLabel example\")\n",
    "# # Plot two crossing lines and label each angle between them with the above\n",
    "# center = (4.5, 650)\n",
    "# p1 = [(2.5, 710), (6.0, 605)]\n",
    "# p2 = [(3.0, 275), (5.5, 900)]\n",
    "# line1, = ax.plot(*zip(*p1))\n",
    "# line2, = ax.plot(*zip(*p2))\n",
    "# point, = ax.plot(*center, marker=\"o\")\n"
   ]
  },
  {
   "cell_type": "code",
   "execution_count": 259,
   "id": "9f19bd08-45c1-4d41-9d02-a5b59d30c53c",
   "metadata": {
    "ExecuteTime": {
     "end_time": "2023-06-28T19:37:34.108730Z",
     "start_time": "2023-06-28T19:37:34.072553Z"
    },
    "editable": true,
    "execution": {
     "iopub.execute_input": "2024-08-02T19:10:23.741139Z",
     "iopub.status.busy": "2024-08-02T19:10:23.740867Z",
     "iopub.status.idle": "2024-08-02T19:10:24.222816Z",
     "shell.execute_reply": "2024-08-02T19:10:24.222024Z",
     "shell.execute_reply.started": "2024-08-02T19:10:23.741118Z"
    },
    "scrolled": true,
    "slideshow": {
     "slide_type": ""
    },
    "tags": []
   },
   "outputs": [
    {
     "data": {
      "text/plain": [
       "<matplotlib.legend.Legend at 0x7fb5da6ead90>"
      ]
     },
     "execution_count": 259,
     "metadata": {},
     "output_type": "execute_result"
    },
    {
     "data": {
      "image/png": "[encoded data removed]",
      "text/plain": [
       "<Figure size 1000x500 with 1 Axes>"
      ]
     },
     "metadata": {},
     "output_type": "display_data"
    }
   ],
   "source": [
    "from matplotlib import colors\n",
    "from matplotlib.ticker import PercentFormatter\n",
    "num_bins = 200\n",
    "# fig, ax = plt.subplots()\n",
    "fig = plt.figure(figsize=(10,5))\n",
    "sigma = df_train.Metadata_TPSA.std()\n",
    "mu = df_train.Metadata_TPSA.mean()\n",
    "med = df_train.Metadata_TPSA.median()\n",
    "# the histogram of the data\n",
    "# We can set the number of bins with the *bins* keyword argument.\n",
    "n, bins, patches = plt.hist(df_train.Metadata_TPSA, num_bins, density=False, range=[0, 500],)\n",
    "# p1 = [(med, 710), (6.0, 605)]\n",
    "# _ = plt.vlines(x=med, ymin=10, ymax=17000, colors='red', linestyles='-', lw=1.75, label='Single Short Line')\n",
    "_ = plt.axvline(x=med, ymin=0, ymax=.97, color='red', linestyle='-', lw=1.75, label='Single Short Line')\n",
    "_ = plt.xlabel('TPSA Value');\n",
    "_ = plt.ylabel('# Compounds');\n",
    "_ = plt.title(fr'TPSA distribution -  $\\mu={mu:.3f}$    $\\sigma={sigma:.3f}$')\n",
    "plt.legend(bbox_to_anchor=(1.04,0.5), loc=\"center left\", borderaxespad=0)\n",
    "# axs[1].hist(dist2, bins=n_bins)\n",
    "plt.show()"
   ]
  },
  {
   "cell_type": "markdown",
   "id": "a08179a7-e4d2-4425-803e-1f78943b3aaf",
   "metadata": {
    "editable": true,
    "jp-MarkdownHeadingCollapsed": true,
    "slideshow": {
     "slide_type": ""
    },
    "tags": []
   },
   "source": [
    "### Stratified CV data splits"
   ]
  },
  {
   "cell_type": "code",
   "execution_count": 260,
   "id": "36185b9f-f76e-4556-a736-7a97ac07659f",
   "metadata": {
    "execution": {
     "iopub.execute_input": "2024-08-02T19:12:20.623736Z",
     "iopub.status.busy": "2024-08-02T19:12:20.623234Z",
     "iopub.status.idle": "2024-08-02T19:12:20.661974Z",
     "shell.execute_reply": "2024-08-02T19:12:20.661237Z",
     "shell.execute_reply.started": "2024-08-02T19:12:20.623693Z"
    }
   },
   "outputs": [],
   "source": [
    "def visualize_groups(classes, groups, name):\n",
    "    # Visualize dataset groups\n",
    "    fig, ax = plt.subplots(figsize=(10,5))\n",
    "    ax.scatter(\n",
    "        range(len(groups)),\n",
    "        [0.5] * len(groups),\n",
    "        c=groups,\n",
    "        marker=\"_\",\n",
    "        lw=50,\n",
    "        cmap=cmap_data,\n",
    "    )\n",
    "    ax.scatter(\n",
    "        range(len(groups)),\n",
    "        [3.5] * len(groups),\n",
    "        c=classes,\n",
    "        marker=\"_\",\n",
    "        lw=50,\n",
    "        cmap=cmap_data,\n",
    "    )\n",
    "    ax.set(\n",
    "        ylim=[-1, 5],\n",
    "        yticks=[0.5, 3.5],\n",
    "        yticklabels=[\"Data\\ngroup\", \"Data\\nclass\"],\n",
    "        xlabel=\"Sample index\",\n",
    "    )"
   ]
  },
  {
   "cell_type": "code",
   "execution_count": 261,
   "id": "f532d16b-50f2-486d-a2b8-22e960f6007a",
   "metadata": {
    "execution": {
     "iopub.execute_input": "2024-08-02T19:12:20.975622Z",
     "iopub.status.busy": "2024-08-02T19:12:20.975197Z",
     "iopub.status.idle": "2024-08-02T19:12:21.013984Z",
     "shell.execute_reply": "2024-08-02T19:12:21.013243Z",
     "shell.execute_reply.started": "2024-08-02T19:12:20.975584Z"
    }
   },
   "outputs": [],
   "source": [
    "def plot_cv_indices(cv, X, y, group, ax, n_splits, lw=10):\n",
    "    \"\"\"Create a sample plot for indices of a cross-validation object.\"\"\"\n",
    "    use_groups = \"Group\" in type(cv).__name__\n",
    "    groups = group if use_groups else None\n",
    "    # Generate the training/testing visualizations for each CV split\n",
    "    for ii, (tr, tt) in enumerate(cv.split(X=X, y=y, groups=groups)):\n",
    "        # Fill in indices with the training/test groups\n",
    "        indices = np.array([np.nan] * len(X))\n",
    "        indices[tt] = 1\n",
    "        indices[tr] = 0\n",
    "\n",
    "        # Visualize the results\n",
    "        ax.scatter(\n",
    "            range(len(indices)),\n",
    "            [ii + 0.5] * len(indices),\n",
    "            c=indices,\n",
    "            marker=\"_\",\n",
    "            lw=lw,\n",
    "            cmap=cmap_cv,\n",
    "            vmin=-0.2,\n",
    "            vmax=1.2,\n",
    "        )\n",
    "\n",
    "    # Plot the data classes and groups at the end\n",
    "    ax.scatter(\n",
    "        range(len(X)), [ii + 1.5] * len(X), c=y, marker=\"_\", lw=lw, cmap=cmap_data\n",
    "    )\n",
    "\n",
    "    ax.scatter(\n",
    "        range(len(X)), [ii + 2.5] * len(X), c=group, marker=\"_\", lw=lw, cmap=cmap_data\n",
    "    )\n",
    "\n",
    "    # Formatting\n",
    "    yticklabels = list(range(n_splits)) + [\"class\", \"group\"]\n",
    "    ax.set(\n",
    "        yticks=np.arange(n_splits + 2) + 0.5,\n",
    "        yticklabels=yticklabels,\n",
    "        xlabel=\"Sample index\",\n",
    "        ylabel=\"CV iteration\",\n",
    "        ylim=[n_splits + 2.2, -0.2],\n",
    "        xlim=[0, 100],\n",
    "    )\n",
    "    ax.set_title(\"{}\".format(type(cv).__name__), fontsize=15)\n",
    "    return ax"
   ]
  },
  {
   "cell_type": "code",
   "execution_count": null,
   "id": "d6f3f078-8b33-4acc-b639-6daac6d9d519",
   "metadata": {
    "execution": {
     "iopub.execute_input": "2024-08-01T20:37:00.702630Z",
     "iopub.status.busy": "2024-08-01T20:37:00.702069Z",
     "iopub.status.idle": "2024-08-01T20:37:00.746490Z",
     "shell.execute_reply": "2024-08-01T20:37:00.745822Z",
     "shell.execute_reply.started": "2024-08-01T20:37:00.702589Z"
    }
   },
   "outputs": [],
   "source": [
    "import matplotlib.pyplot as plt\n",
    "import numpy as np\n",
    "from matplotlib.patches import Patch\n"
   ]
  },
  {
   "cell_type": "code",
   "execution_count": null,
   "id": "f1165a3b-5756-443f-ad46-bf316c34929e",
   "metadata": {
    "execution": {
     "iopub.execute_input": "2024-08-01T20:37:00.702630Z",
     "iopub.status.busy": "2024-08-01T20:37:00.702069Z",
     "iopub.status.idle": "2024-08-01T20:37:00.746490Z",
     "shell.execute_reply": "2024-08-01T20:37:00.745822Z",
     "shell.execute_reply.started": "2024-08-01T20:37:00.702589Z"
    }
   },
   "outputs": [],
   "source": [
    "rng = np.random.RandomState(1338)\n",
    "cmap_data = plt.cm.Paired\n",
    "cmap_cv = plt.cm.coolwarm\n",
    "n_splits = 4\n",
    "\n",
    "# Generate the class/group data\n",
    "# n_points = 100\n",
    "# X = rng.randn(100, 10)\n",
    "\n",
    "# percentiles_classes = [0.1, 0.3, 0.6]\n",
    "# y = np.hstack([[ii] * int(100 * perc) for ii, perc in enumerate(percentiles_classes)])"
   ]
  },
  {
   "cell_type": "code",
   "execution_count": null,
   "id": "94dd8391-cbf3-4468-9aa2-d311c7f83bd2",
   "metadata": {
    "execution": {
     "iopub.execute_input": "2024-08-01T20:37:00.702630Z",
     "iopub.status.busy": "2024-08-01T20:37:00.702069Z",
     "iopub.status.idle": "2024-08-01T20:37:00.746490Z",
     "shell.execute_reply": "2024-08-01T20:37:00.745822Z",
     "shell.execute_reply.started": "2024-08-01T20:37:00.702589Z"
    }
   },
   "outputs": [],
   "source": [
    "# Generate uneven groups\n",
    "\n",
    "# group_prior = rng.dirichlet([2] * 10)\n",
    "# group_prior.sum()\n",
    "# group_prior\n",
    "\n",
    "# groups = np.repeat(np.arange(10), rng.multinomial(100, group_prior))\n",
    "# groups.shape\n",
    "# groups"
   ]
  },
  {
   "cell_type": "code",
   "execution_count": null,
   "id": "0be667cf-b73b-49d9-8f93-028feb33dc07",
   "metadata": {
    "execution": {
     "iopub.execute_input": "2024-08-01T20:37:00.702630Z",
     "iopub.status.busy": "2024-08-01T20:37:00.702069Z",
     "iopub.status.idle": "2024-08-01T20:37:00.746490Z",
     "shell.execute_reply": "2024-08-01T20:37:00.745822Z",
     "shell.execute_reply.started": "2024-08-01T20:37:00.702589Z"
    }
   },
   "outputs": [],
   "source": [
    "groups = np.repeat(0, train_X.shape[0])\n",
    "groups.shape"
   ]
  },
  {
   "cell_type": "code",
   "execution_count": 84,
   "id": "a3cc3e15-7328-43d7-87b0-e662e89f8995",
   "metadata": {
    "execution": {
     "iopub.execute_input": "2024-08-01T20:39:00.214016Z",
     "iopub.status.busy": "2024-08-01T20:39:00.213534Z",
     "iopub.status.idle": "2024-08-01T20:39:17.703513Z",
     "shell.execute_reply": "2024-08-01T20:39:17.702174Z",
     "shell.execute_reply.started": "2024-08-01T20:39:00.213981Z"
    }
   },
   "outputs": [
    {
     "data": {
      "image/png": "[encoded data removed]",
      "text/plain": [
       "<Figure size 1000x500 with 1 Axes>"
      ]
     },
     "metadata": {},
     "output_type": "display_data"
    }
   ],
   "source": [
    "visualize_groups(train_y, groups, \"no groups\")"
   ]
  },
  {
   "cell_type": "code",
   "execution_count": 88,
   "id": "f27b44ef-5b62-4008-8e90-fcd97dca2186",
   "metadata": {
    "execution": {
     "iopub.execute_input": "2024-08-01T20:42:20.513960Z",
     "iopub.status.busy": "2024-08-01T20:42:20.513311Z",
     "iopub.status.idle": "2024-08-01T20:42:20.563347Z",
     "shell.execute_reply": "2024-08-01T20:42:20.562557Z",
     "shell.execute_reply.started": "2024-08-01T20:42:20.513913Z"
    }
   },
   "outputs": [],
   "source": [
    "n_splits = 5\n",
    "groups = None"
   ]
  },
  {
   "cell_type": "code",
   "execution_count": 89,
   "id": "0cc5f1e4-9fbf-4c51-a82a-ee2c870850aa",
   "metadata": {
    "execution": {
     "iopub.execute_input": "2024-08-01T20:42:22.118077Z",
     "iopub.status.busy": "2024-08-01T20:42:22.117570Z",
     "iopub.status.idle": "2024-08-01T20:42:40.626608Z",
     "shell.execute_reply": "2024-08-01T20:42:40.625579Z",
     "shell.execute_reply.started": "2024-08-01T20:42:22.118037Z"
    }
   },
   "outputs": [
    {
     "name": "stderr",
     "output_type": "stream",
     "text": [
      "/tmp/ipykernel_4107164/1298143750.py:29: UserWarning: No data for colormapping provided via 'c'. Parameters 'cmap' will be ignored\n",
      "  ax.scatter(\n"
     ]
    },
    {
     "data": {
      "text/plain": [
       "<Axes: title={'center': 'KFold'}, xlabel='Sample index', ylabel='CV iteration'>"
      ]
     },
     "execution_count": 89,
     "metadata": {},
     "output_type": "execute_result"
    },
    {
     "data": {
      "image/png": "[encoded data removed]",
      "text/plain": [
       "<Figure size 640x480 with 1 Axes>"
      ]
     },
     "metadata": {},
     "output_type": "display_data"
    }
   ],
   "source": [
    "fig, ax = plt.subplots()\n",
    "cv = KFold(n_splits)\n",
    "plot_cv_indices(cv, train_X, train_y, groups, ax, n_splits)"
   ]
  },
  {
   "cell_type": "markdown",
   "id": "431caa87-8ebb-496e-a35c-bee422a9aeee",
   "metadata": {},
   "source": [
    "### Create balanced datasets"
   ]
  },
  {
   "cell_type": "code",
   "execution_count": 635,
   "id": "b979ba88-3eb5-4da5-a718-3cebca95260b",
   "metadata": {
    "execution": {
     "iopub.execute_input": "2024-08-05T19:07:37.952565Z",
     "iopub.status.busy": "2024-08-05T19:07:37.952226Z",
     "iopub.status.idle": "2024-08-05T19:07:42.982772Z",
     "shell.execute_reply": "2024-08-05T19:07:42.981691Z",
     "shell.execute_reply.started": "2024-08-05T19:07:37.952542Z"
    }
   },
   "outputs": [
    {
     "name": "stdout",
     "output_type": "stream",
     "text": [
      "\n",
      " Take 12388 samples from total of 12388 negative training samples\n",
      " Take 12388 samples from total of 91612 negative training samples\n",
      "\n",
      " Balanced Dataset: # pos samples: 37164    # Neg samples: 37164  Total len: 74328\n",
      "\n",
      " X :  Min: -27.6719    Max: 23.7271   Mean: 0.0016  Std: 1.0157\n",
      " y :  Min: 0.0000    Max: 1.0000   Mean: 0.5000  Std: 0.5000\n",
      "\n",
      " Take 12388 samples from total of 12388 negative training samples\n",
      " Take 24776 samples from total of 91612 negative training samples\n",
      "\n",
      " Balanced Dataset: # pos samples: 37164    # Neg samples: 74328  Total len: 111492\n",
      "\n",
      " X :  Min: -27.3326    Max: 26.3826   Mean: 0.0014  Std: 1.0076\n",
      " y :  Min: 0.0000    Max: 1.0000   Mean: 0.3333  Std: 0.4714\n"
     ]
    }
   ],
   "source": [
    "bal_train_X, bal_train_y = balance_datasets(train_X, train_y, ratio = 1)\n",
    "bal_train_X_2, bal_train_y_2 = balance_datasets(train_X, train_y, ratio = 2)"
   ]
  },
  {
   "cell_type": "code",
   "execution_count": 636,
   "id": "216225bd-9951-42ee-9223-e4230c525a3a",
   "metadata": {
    "execution": {
     "iopub.execute_input": "2024-08-05T19:07:48.795533Z",
     "iopub.status.busy": "2024-08-05T19:07:48.795065Z",
     "iopub.status.idle": "2024-08-05T19:07:48.920041Z",
     "shell.execute_reply": "2024-08-05T19:07:48.919101Z",
     "shell.execute_reply.started": "2024-08-05T19:07:48.795500Z"
    }
   },
   "outputs": [
    {
     "name": "stdout",
     "output_type": "stream",
     "text": [
      "\n",
      " Take 1388 samples from total of 1388 negative training samples\n",
      " Take 1388 samples from total of 10126 negative training samples\n",
      "\n",
      " Balanced Dataset: # pos samples: 4164    # Neg samples: 4164  Total len: 8328\n",
      "\n",
      " X :  Min: -16.9431    Max: 19.0416   Mean: 0.0030  Std: 1.0028\n",
      " y :  Min: 0.0000    Max: 1.0000   Mean: 0.5000  Std: 0.5000\n",
      "\n",
      " Take 1388 samples from total of 1388 negative training samples\n",
      " Take 2776 samples from total of 10126 negative training samples\n",
      "\n",
      " Balanced Dataset: # pos samples: 4164    # Neg samples: 8328  Total len: 12492\n",
      "\n",
      " X :  Min: -18.7677    Max: 20.9524   Mean: 0.0015  Std: 0.9780\n",
      " y :  Min: 0.0000    Max: 1.0000   Mean: 0.3333  Std: 0.4714\n"
     ]
    }
   ],
   "source": [
    "bal_test_X, bal_test_y = balance_datasets(test_X, test_y, ratio = 1)\n",
    "bal_test_X_2, bal_test_y_2 = balance_datasets(test_X, test_y, ratio = 2)"
   ]
  },
  {
   "cell_type": "markdown",
   "id": "59413831-c2c4-4ede-b74b-78698df67581",
   "metadata": {
    "jp-MarkdownHeadingCollapsed": true
   },
   "source": [
    "# Model definitions"
   ]
  },
  {
   "cell_type": "markdown",
   "id": "aeac9638-6313-41df-aa1d-0e337db02529",
   "metadata": {
    "editable": true,
    "slideshow": {
     "slide_type": ""
    },
    "tags": []
   },
   "source": [
    "* **algorithm**  {‘auto’, ‘ball_tree’, ‘kd_tree’, ‘brute’}, default=’auto’\n",
    "Algorithm used to compute the nearest neighbors:\n",
    "\n",
    "    `ball_tree` will use BallTree\n",
    "  \n",
    "    `kd_tree` will use KDTree\n",
    "\n",
    "    `brute` will use a brute-force search.\n",
    "\n",
    "    `auto` will attempt to decide the most appropriate algorithm based on the values passed to fit method.\n",
    "\n",
    "    Note: fitting on sparse input will override the setting of this parameter, using brute force.\n",
    "\n",
    "*  **leaf_size** int, default=30  -- Leaf size passed to BallTree or KDTree.\n",
    "\n",
    "      This can affect the speed of the construction and query, as well as the memory required to store the tree. The optimal value depends on the nature of the problem.\n",
    "\n",
    "*  **p**   float, default=2 -- Power parameter for the Minkowski metric.\n",
    "\n",
    "      When p = 1, this is equivalent to using manhattan_distance (l1), and euclidean_distance (l2) for p = 2. For arbitrary p, minkowski_distance (l_p) is used. This parameter is expected to be positive.\n",
    "\n",
    "\n",
    "*  **metric**  str or callable, default=’minkowski’ -- Metric to use for distance computation.\n",
    "\n",
    "      Default is `minkowski`, which results in the standard Euclidean distance when p = 2. See the documentation of scipy.spatial.distance and the metrics listed in distance_metrics for valid metric values.\n",
    "\n",
    "      If metric is `precomputed`, X is assumed to be a distance matrix and must be square during fit. X may be a sparse graph, in which case only “nonzero” elements may be considered neighbors. \n",
    "\n",
    "      If metric is a callable function, it takes two arrays representing 1D vectors as inputs and must return one value indicating the distance between those vectors. This works for Scipy’s metrics, but is less efficient than passing the metric name as a string.\n",
    "\n",
    "*  **metric_params**   dict, default=None -- Additional keyword arguments for the metric function.\n",
    "\n",
    "*  **n_jobs**  int, default=None -- The number of parallel jobs to run for neighbors search.\n",
    "\n",
    "    None means 1 unless in a joblib.parallel_backend context. -1 means using all processors. Doesn’t affect fit method.   "
   ]
  },
  {
   "cell_type": "code",
   "execution_count": 166,
   "id": "9a4eb3bc-6f1b-46fe-bb11-21ec982868e6",
   "metadata": {
    "execution": {
     "iopub.execute_input": "2024-07-31T19:01:01.263805Z",
     "iopub.status.busy": "2024-07-31T19:01:01.263271Z",
     "iopub.status.idle": "2024-07-31T19:01:01.327031Z",
     "shell.execute_reply": "2024-07-31T19:01:01.326345Z",
     "shell.execute_reply.started": "2024-07-31T19:01:01.263762Z"
    }
   },
   "outputs": [],
   "source": [
    "# del knn_clf, knn_estimators, knn_grid_parameters_des, knn_grid_parameters_fp, knn_grid_parameters_fpcounts"
   ]
  },
  {
   "cell_type": "markdown",
   "id": "201b5407-d5b0-4005-a284-1f9b7b21a2ea",
   "metadata": {},
   "source": [
    "## Parameters"
   ]
  },
  {
   "cell_type": "code",
   "execution_count": 37,
   "id": "39072b92-1243-4426-b443-846b4e4ad2f5",
   "metadata": {
    "execution": {
     "iopub.execute_input": "2024-12-06T15:10:38.414097Z",
     "iopub.status.busy": "2024-12-06T15:10:38.413565Z",
     "iopub.status.idle": "2024-12-06T15:10:38.449324Z",
     "shell.execute_reply": "2024-12-06T15:10:38.448330Z",
     "shell.execute_reply.started": "2024-12-06T15:10:38.414056Z"
    }
   },
   "outputs": [],
   "source": [
    "try:\n",
    "    del X_DATA, Y_DATA\n",
    "except:\n",
    "    pass\n",
    "# train_y.head()"
   ]
  },
  {
   "cell_type": "code",
   "execution_count": 38,
   "id": "313f43af-753f-4c4a-9a7f-7235e8bcc7c3",
   "metadata": {
    "execution": {
     "iopub.execute_input": "2024-12-06T15:10:56.498867Z",
     "iopub.status.busy": "2024-12-06T15:10:56.497966Z",
     "iopub.status.idle": "2024-12-06T15:10:57.846129Z",
     "shell.execute_reply": "2024-12-06T15:10:57.845187Z",
     "shell.execute_reply.started": "2024-12-06T15:10:56.498822Z"
    },
    "scrolled": true
   },
   "outputs": [
    {
     "data": {
      "text/html": [
       "<div>\n",
       "<style scoped>\n",
       "    .dataframe tbody tr th:only-of-type {\n",
       "        vertical-align: middle;\n",
       "    }\n",
       "\n",
       "    .dataframe tbody tr th {\n",
       "        vertical-align: top;\n",
       "    }\n",
       "\n",
       "    .dataframe thead th {\n",
       "        text-align: right;\n",
       "    }\n",
       "</style>\n",
       "<table border=\"1\" class=\"dataframe\">\n",
       "  <thead>\n",
       "    <tr style=\"text-align: right;\">\n",
       "      <th></th>\n",
       "      <th>Cells_AreaShape_BoundingBoxMaximum_X</th>\n",
       "      <th>Cells_AreaShape_Center_X</th>\n",
       "      <th>Cells_AreaShape_Center_Y</th>\n",
       "      <th>Cells_AreaShape_Compactness</th>\n",
       "      <th>Cells_AreaShape_Eccentricity</th>\n",
       "      <th>Cells_AreaShape_EulerNumber</th>\n",
       "      <th>Cells_AreaShape_Extent</th>\n",
       "      <th>Cells_AreaShape_MajorAxisLength</th>\n",
       "      <th>Cells_AreaShape_MedianRadius</th>\n",
       "      <th>Cells_AreaShape_MinorAxisLength</th>\n",
       "      <th>...</th>\n",
       "      <th>Nuclei_Texture_SumAverage_DNA_10_01_256</th>\n",
       "      <th>Nuclei_Texture_SumAverage_ER_10_01_256</th>\n",
       "      <th>Nuclei_Texture_SumAverage_Mito_10_01_256</th>\n",
       "      <th>Nuclei_Texture_SumAverage_RNA_10_01_256</th>\n",
       "      <th>Nuclei_Texture_SumEntropy_DNA_10_03_256</th>\n",
       "      <th>Nuclei_Texture_SumVariance_AGP_10_03_256</th>\n",
       "      <th>Nuclei_Texture_SumVariance_DNA_10_03_256</th>\n",
       "      <th>Nuclei_Texture_SumVariance_ER_10_01_256</th>\n",
       "      <th>Nuclei_Texture_SumVariance_Mito_10_03_256</th>\n",
       "      <th>Nuclei_Texture_SumVariance_RNA_10_01_256</th>\n",
       "    </tr>\n",
       "  </thead>\n",
       "  <tbody>\n",
       "    <tr>\n",
       "      <th>0</th>\n",
       "      <td>-0.422301</td>\n",
       "      <td>-0.414977</td>\n",
       "      <td>0.296784</td>\n",
       "      <td>0.352499</td>\n",
       "      <td>-0.098035</td>\n",
       "      <td>0.684400</td>\n",
       "      <td>0.087884</td>\n",
       "      <td>0.314826</td>\n",
       "      <td>0.368505</td>\n",
       "      <td>0.557306</td>\n",
       "      <td>...</td>\n",
       "      <td>0.443768</td>\n",
       "      <td>0.062235</td>\n",
       "      <td>-0.648585</td>\n",
       "      <td>0.308744</td>\n",
       "      <td>0.073046</td>\n",
       "      <td>-0.245728</td>\n",
       "      <td>0.099481</td>\n",
       "      <td>-0.107570</td>\n",
       "      <td>-0.558575</td>\n",
       "      <td>0.174041</td>\n",
       "    </tr>\n",
       "    <tr>\n",
       "      <th>1</th>\n",
       "      <td>-0.634604</td>\n",
       "      <td>-0.623231</td>\n",
       "      <td>-1.604601</td>\n",
       "      <td>1.556609</td>\n",
       "      <td>1.229354</td>\n",
       "      <td>0.991301</td>\n",
       "      <td>-2.159390</td>\n",
       "      <td>-0.222254</td>\n",
       "      <td>-1.807152</td>\n",
       "      <td>-1.510269</td>\n",
       "      <td>...</td>\n",
       "      <td>1.705322</td>\n",
       "      <td>3.242936</td>\n",
       "      <td>-1.327198</td>\n",
       "      <td>1.111929</td>\n",
       "      <td>2.102121</td>\n",
       "      <td>1.878933</td>\n",
       "      <td>3.540586</td>\n",
       "      <td>2.529848</td>\n",
       "      <td>-1.022145</td>\n",
       "      <td>0.753343</td>\n",
       "    </tr>\n",
       "    <tr>\n",
       "      <th>2</th>\n",
       "      <td>0.510761</td>\n",
       "      <td>0.556297</td>\n",
       "      <td>-0.224569</td>\n",
       "      <td>0.064905</td>\n",
       "      <td>-0.326477</td>\n",
       "      <td>-0.091838</td>\n",
       "      <td>-0.289178</td>\n",
       "      <td>-0.276995</td>\n",
       "      <td>-0.439694</td>\n",
       "      <td>-0.303454</td>\n",
       "      <td>...</td>\n",
       "      <td>-0.408875</td>\n",
       "      <td>-0.214203</td>\n",
       "      <td>-0.092149</td>\n",
       "      <td>-0.658746</td>\n",
       "      <td>-0.453523</td>\n",
       "      <td>5.058665</td>\n",
       "      <td>-0.418815</td>\n",
       "      <td>-0.455386</td>\n",
       "      <td>0.699883</td>\n",
       "      <td>-0.680918</td>\n",
       "    </tr>\n",
       "    <tr>\n",
       "      <th>3</th>\n",
       "      <td>-1.832139</td>\n",
       "      <td>-1.829487</td>\n",
       "      <td>1.057670</td>\n",
       "      <td>-0.193737</td>\n",
       "      <td>-0.485366</td>\n",
       "      <td>-1.987315</td>\n",
       "      <td>0.516659</td>\n",
       "      <td>-0.306041</td>\n",
       "      <td>-0.054500</td>\n",
       "      <td>-0.082623</td>\n",
       "      <td>...</td>\n",
       "      <td>-0.438654</td>\n",
       "      <td>-0.627846</td>\n",
       "      <td>-0.707734</td>\n",
       "      <td>-0.504685</td>\n",
       "      <td>-0.398547</td>\n",
       "      <td>-0.303720</td>\n",
       "      <td>-0.389571</td>\n",
       "      <td>0.922415</td>\n",
       "      <td>-0.724165</td>\n",
       "      <td>-0.202291</td>\n",
       "    </tr>\n",
       "    <tr>\n",
       "      <th>4</th>\n",
       "      <td>-1.167907</td>\n",
       "      <td>-1.244004</td>\n",
       "      <td>0.685477</td>\n",
       "      <td>0.346317</td>\n",
       "      <td>1.788158</td>\n",
       "      <td>-0.596517</td>\n",
       "      <td>-0.806163</td>\n",
       "      <td>0.875543</td>\n",
       "      <td>-0.278969</td>\n",
       "      <td>-0.196213</td>\n",
       "      <td>...</td>\n",
       "      <td>0.683232</td>\n",
       "      <td>-0.350120</td>\n",
       "      <td>0.300466</td>\n",
       "      <td>-0.384838</td>\n",
       "      <td>0.766679</td>\n",
       "      <td>-0.162195</td>\n",
       "      <td>-0.055417</td>\n",
       "      <td>-0.199495</td>\n",
       "      <td>4.481964</td>\n",
       "      <td>-0.165720</td>\n",
       "    </tr>\n",
       "    <tr>\n",
       "      <th>...</th>\n",
       "      <td>...</td>\n",
       "      <td>...</td>\n",
       "      <td>...</td>\n",
       "      <td>...</td>\n",
       "      <td>...</td>\n",
       "      <td>...</td>\n",
       "      <td>...</td>\n",
       "      <td>...</td>\n",
       "      <td>...</td>\n",
       "      <td>...</td>\n",
       "      <td>...</td>\n",
       "      <td>...</td>\n",
       "      <td>...</td>\n",
       "      <td>...</td>\n",
       "      <td>...</td>\n",
       "      <td>...</td>\n",
       "      <td>...</td>\n",
       "      <td>...</td>\n",
       "      <td>...</td>\n",
       "      <td>...</td>\n",
       "      <td>...</td>\n",
       "    </tr>\n",
       "    <tr>\n",
       "      <th>277195</th>\n",
       "      <td>-0.084395</td>\n",
       "      <td>-0.002513</td>\n",
       "      <td>-0.185704</td>\n",
       "      <td>-0.287740</td>\n",
       "      <td>-0.099358</td>\n",
       "      <td>-0.058082</td>\n",
       "      <td>0.131313</td>\n",
       "      <td>-0.181117</td>\n",
       "      <td>-0.146545</td>\n",
       "      <td>-0.187826</td>\n",
       "      <td>...</td>\n",
       "      <td>0.370676</td>\n",
       "      <td>-0.556230</td>\n",
       "      <td>-0.191734</td>\n",
       "      <td>-0.675387</td>\n",
       "      <td>0.408261</td>\n",
       "      <td>-0.356981</td>\n",
       "      <td>-0.077135</td>\n",
       "      <td>-0.290681</td>\n",
       "      <td>-0.331243</td>\n",
       "      <td>-0.663728</td>\n",
       "    </tr>\n",
       "    <tr>\n",
       "      <th>277196</th>\n",
       "      <td>-0.543744</td>\n",
       "      <td>-0.509286</td>\n",
       "      <td>-0.168635</td>\n",
       "      <td>0.084203</td>\n",
       "      <td>-0.585224</td>\n",
       "      <td>-0.015510</td>\n",
       "      <td>0.175776</td>\n",
       "      <td>-0.106084</td>\n",
       "      <td>-0.096501</td>\n",
       "      <td>-0.049715</td>\n",
       "      <td>...</td>\n",
       "      <td>0.279704</td>\n",
       "      <td>-0.477297</td>\n",
       "      <td>0.766346</td>\n",
       "      <td>-0.538395</td>\n",
       "      <td>0.534544</td>\n",
       "      <td>-0.168472</td>\n",
       "      <td>0.167678</td>\n",
       "      <td>5.556482</td>\n",
       "      <td>0.234914</td>\n",
       "      <td>0.033930</td>\n",
       "    </tr>\n",
       "    <tr>\n",
       "      <th>277197</th>\n",
       "      <td>-1.379825</td>\n",
       "      <td>-1.462928</td>\n",
       "      <td>-1.051015</td>\n",
       "      <td>0.710750</td>\n",
       "      <td>0.604528</td>\n",
       "      <td>0.181762</td>\n",
       "      <td>-0.578815</td>\n",
       "      <td>1.178558</td>\n",
       "      <td>0.834233</td>\n",
       "      <td>0.769260</td>\n",
       "      <td>...</td>\n",
       "      <td>1.355798</td>\n",
       "      <td>0.717887</td>\n",
       "      <td>0.582572</td>\n",
       "      <td>0.980785</td>\n",
       "      <td>1.483980</td>\n",
       "      <td>0.776554</td>\n",
       "      <td>1.503725</td>\n",
       "      <td>0.131455</td>\n",
       "      <td>0.991715</td>\n",
       "      <td>0.536435</td>\n",
       "    </tr>\n",
       "    <tr>\n",
       "      <th>277198</th>\n",
       "      <td>0.560076</td>\n",
       "      <td>0.596412</td>\n",
       "      <td>1.796055</td>\n",
       "      <td>-0.491293</td>\n",
       "      <td>-0.346014</td>\n",
       "      <td>0.163590</td>\n",
       "      <td>0.936329</td>\n",
       "      <td>-0.466165</td>\n",
       "      <td>-0.203812</td>\n",
       "      <td>-0.582082</td>\n",
       "      <td>...</td>\n",
       "      <td>1.222598</td>\n",
       "      <td>2.746357</td>\n",
       "      <td>-0.969408</td>\n",
       "      <td>1.989859</td>\n",
       "      <td>2.133944</td>\n",
       "      <td>0.750914</td>\n",
       "      <td>0.038839</td>\n",
       "      <td>0.516236</td>\n",
       "      <td>-0.378281</td>\n",
       "      <td>0.546976</td>\n",
       "    </tr>\n",
       "    <tr>\n",
       "      <th>277199</th>\n",
       "      <td>1.216171</td>\n",
       "      <td>1.212295</td>\n",
       "      <td>-0.961529</td>\n",
       "      <td>1.165591</td>\n",
       "      <td>0.048198</td>\n",
       "      <td>0.520771</td>\n",
       "      <td>0.007233</td>\n",
       "      <td>-0.068774</td>\n",
       "      <td>-0.113392</td>\n",
       "      <td>-0.018788</td>\n",
       "      <td>...</td>\n",
       "      <td>0.575722</td>\n",
       "      <td>-0.627173</td>\n",
       "      <td>-1.028061</td>\n",
       "      <td>-2.295289</td>\n",
       "      <td>0.119773</td>\n",
       "      <td>0.577766</td>\n",
       "      <td>0.641044</td>\n",
       "      <td>0.361389</td>\n",
       "      <td>-0.855551</td>\n",
       "      <td>-1.424477</td>\n",
       "    </tr>\n",
       "  </tbody>\n",
       "</table>\n",
       "<p>277200 rows × 1471 columns</p>\n",
       "</div>"
      ],
      "text/plain": [
       "        Cells_AreaShape_BoundingBoxMaximum_X  Cells_AreaShape_Center_X  Cells_AreaShape_Center_Y  Cells_AreaShape_Compactness  \\\n",
       "0                                  -0.422301                 -0.414977                  0.296784                     0.352499   \n",
       "1                                  -0.634604                 -0.623231                 -1.604601                     1.556609   \n",
       "2                                   0.510761                  0.556297                 -0.224569                     0.064905   \n",
       "3                                  -1.832139                 -1.829487                  1.057670                    -0.193737   \n",
       "4                                  -1.167907                 -1.244004                  0.685477                     0.346317   \n",
       "...                                      ...                       ...                       ...                          ...   \n",
       "277195                             -0.084395                 -0.002513                 -0.185704                    -0.287740   \n",
       "277196                             -0.543744                 -0.509286                 -0.168635                     0.084203   \n",
       "277197                             -1.379825                 -1.462928                 -1.051015                     0.710750   \n",
       "277198                              0.560076                  0.596412                  1.796055                    -0.491293   \n",
       "277199                              1.216171                  1.212295                 -0.961529                     1.165591   \n",
       "\n",
       "        Cells_AreaShape_Eccentricity  Cells_AreaShape_EulerNumber  Cells_AreaShape_Extent  Cells_AreaShape_MajorAxisLength  \\\n",
       "0                          -0.098035                     0.684400                0.087884                         0.314826   \n",
       "1                           1.229354                     0.991301               -2.159390                        -0.222254   \n",
       "2                          -0.326477                    -0.091838               -0.289178                        -0.276995   \n",
       "3                          -0.485366                    -1.987315                0.516659                        -0.306041   \n",
       "4                           1.788158                    -0.596517               -0.806163                         0.875543   \n",
       "...                              ...                          ...                     ...                              ...   \n",
       "277195                     -0.099358                    -0.058082                0.131313                        -0.181117   \n",
       "277196                     -0.585224                    -0.015510                0.175776                        -0.106084   \n",
       "277197                      0.604528                     0.181762               -0.578815                         1.178558   \n",
       "277198                     -0.346014                     0.163590                0.936329                        -0.466165   \n",
       "277199                      0.048198                     0.520771                0.007233                        -0.068774   \n",
       "\n",
       "        Cells_AreaShape_MedianRadius  Cells_AreaShape_MinorAxisLength  ...  Nuclei_Texture_SumAverage_DNA_10_01_256  \\\n",
       "0                           0.368505                         0.557306  ...                                 0.443768   \n",
       "1                          -1.807152                        -1.510269  ...                                 1.705322   \n",
       "2                          -0.439694                        -0.303454  ...                                -0.408875   \n",
       "3                          -0.054500                        -0.082623  ...                                -0.438654   \n",
       "4                          -0.278969                        -0.196213  ...                                 0.683232   \n",
       "...                              ...                              ...  ...                                      ...   \n",
       "277195                     -0.146545                        -0.187826  ...                                 0.370676   \n",
       "277196                     -0.096501                        -0.049715  ...                                 0.279704   \n",
       "277197                      0.834233                         0.769260  ...                                 1.355798   \n",
       "277198                     -0.203812                        -0.582082  ...                                 1.222598   \n",
       "277199                     -0.113392                        -0.018788  ...                                 0.575722   \n",
       "\n",
       "        Nuclei_Texture_SumAverage_ER_10_01_256  Nuclei_Texture_SumAverage_Mito_10_01_256  Nuclei_Texture_SumAverage_RNA_10_01_256  \\\n",
       "0                                     0.062235                                 -0.648585                                 0.308744   \n",
       "1                                     3.242936                                 -1.327198                                 1.111929   \n",
       "2                                    -0.214203                                 -0.092149                                -0.658746   \n",
       "3                                    -0.627846                                 -0.707734                                -0.504685   \n",
       "4                                    -0.350120                                  0.300466                                -0.384838   \n",
       "...                                        ...                                       ...                                      ...   \n",
       "277195                               -0.556230                                 -0.191734                                -0.675387   \n",
       "277196                               -0.477297                                  0.766346                                -0.538395   \n",
       "277197                                0.717887                                  0.582572                                 0.980785   \n",
       "277198                                2.746357                                 -0.969408                                 1.989859   \n",
       "277199                               -0.627173                                 -1.028061                                -2.295289   \n",
       "\n",
       "        Nuclei_Texture_SumEntropy_DNA_10_03_256  Nuclei_Texture_SumVariance_AGP_10_03_256  \\\n",
       "0                                      0.073046                                 -0.245728   \n",
       "1                                      2.102121                                  1.878933   \n",
       "2                                     -0.453523                                  5.058665   \n",
       "3                                     -0.398547                                 -0.303720   \n",
       "4                                      0.766679                                 -0.162195   \n",
       "...                                         ...                                       ...   \n",
       "277195                                 0.408261                                 -0.356981   \n",
       "277196                                 0.534544                                 -0.168472   \n",
       "277197                                 1.483980                                  0.776554   \n",
       "277198                                 2.133944                                  0.750914   \n",
       "277199                                 0.119773                                  0.577766   \n",
       "\n",
       "        Nuclei_Texture_SumVariance_DNA_10_03_256  Nuclei_Texture_SumVariance_ER_10_01_256  \\\n",
       "0                                       0.099481                                -0.107570   \n",
       "1                                       3.540586                                 2.529848   \n",
       "2                                      -0.418815                                -0.455386   \n",
       "3                                      -0.389571                                 0.922415   \n",
       "4                                      -0.055417                                -0.199495   \n",
       "...                                          ...                                      ...   \n",
       "277195                                 -0.077135                                -0.290681   \n",
       "277196                                  0.167678                                 5.556482   \n",
       "277197                                  1.503725                                 0.131455   \n",
       "277198                                  0.038839                                 0.516236   \n",
       "277199                                  0.641044                                 0.361389   \n",
       "\n",
       "        Nuclei_Texture_SumVariance_Mito_10_03_256  Nuclei_Texture_SumVariance_RNA_10_01_256  \n",
       "0                                       -0.558575                                  0.174041  \n",
       "1                                       -1.022145                                  0.753343  \n",
       "2                                        0.699883                                 -0.680918  \n",
       "3                                       -0.724165                                 -0.202291  \n",
       "4                                        4.481964                                 -0.165720  \n",
       "...                                           ...                                       ...  \n",
       "277195                                  -0.331243                                 -0.663728  \n",
       "277196                                   0.234914                                  0.033930  \n",
       "277197                                   0.991715                                  0.536435  \n",
       "277198                                  -0.378281                                  0.546976  \n",
       "277199                                  -0.855551                                 -1.424477  \n",
       "\n",
       "[277200 rows x 1471 columns]"
      ]
     },
     "execution_count": 38,
     "metadata": {},
     "output_type": "execute_result"
    }
   ],
   "source": [
    "X_DATA = df_train_x.iloc[:, 11:]    ## bal_train_X\n",
    "X_DATA\n",
    "# X_TEST = df_test_x.iloc[:, 11:]\n",
    "# X_TEST"
   ]
  },
  {
   "cell_type": "code",
   "execution_count": 90,
   "id": "9292ab45-db5c-46ca-b9dc-a0739903f038",
   "metadata": {
    "execution": {
     "iopub.execute_input": "2024-12-07T12:11:19.683963Z",
     "iopub.status.busy": "2024-12-07T12:11:19.683453Z",
     "iopub.status.idle": "2024-12-07T12:11:19.724651Z",
     "shell.execute_reply": "2024-12-07T12:11:19.723858Z",
     "shell.execute_reply.started": "2024-12-07T12:11:19.683922Z"
    }
   },
   "outputs": [],
   "source": [
    "Best_Estimators = []\n",
    "df_metrics = pd.DataFrame()"
   ]
  },
  {
   "cell_type": "code",
   "execution_count": 40,
   "id": "377a17e4-4492-42e6-bb79-cf344def52ac",
   "metadata": {
    "execution": {
     "iopub.execute_input": "2024-12-06T15:11:03.287795Z",
     "iopub.status.busy": "2024-12-06T15:11:03.287003Z",
     "iopub.status.idle": "2024-12-06T15:11:03.324905Z",
     "shell.execute_reply": "2024-12-06T15:11:03.323932Z",
     "shell.execute_reply.started": "2024-12-06T15:11:03.287761Z"
    }
   },
   "outputs": [],
   "source": [
    "RANDOM_STATE = 6666\n",
    "NUM_JOBS = 1\n"
   ]
  },
  {
   "cell_type": "code",
   "execution_count": 41,
   "id": "6104c96e-75b9-48cc-8f36-1699a2e95039",
   "metadata": {
    "execution": {
     "iopub.execute_input": "2024-12-06T15:11:05.181523Z",
     "iopub.status.busy": "2024-12-06T15:11:05.180982Z",
     "iopub.status.idle": "2024-12-06T15:11:05.216866Z",
     "shell.execute_reply": "2024-12-06T15:11:05.215898Z",
     "shell.execute_reply.started": "2024-12-06T15:11:05.181485Z"
    }
   },
   "outputs": [],
   "source": [
    "# Y_INDEX = 17\n",
    "Y_DATA = df_train_y ## .iloc[:, Y_INDEX + Y_OFFSET] ## bal_train_y"
   ]
  },
  {
   "cell_type": "code",
   "execution_count": 42,
   "id": "62849b26-a645-449d-8053-a919d7d626a3",
   "metadata": {
    "ExecuteTime": {
     "end_time": "2023-04-28T12:47:10.584139Z",
     "start_time": "2023-04-28T12:47:10.568010Z"
    },
    "editable": true,
    "execution": {
     "iopub.execute_input": "2024-12-06T15:11:06.517721Z",
     "iopub.status.busy": "2024-12-06T15:11:06.517242Z",
     "iopub.status.idle": "2024-12-06T15:11:06.554268Z",
     "shell.execute_reply": "2024-12-06T15:11:06.553298Z",
     "shell.execute_reply.started": "2024-12-06T15:11:06.517687Z"
    },
    "hidden": true,
    "slideshow": {
     "slide_type": ""
    },
    "tags": []
   },
   "outputs": [],
   "source": [
    "knn_grid_parameters = {'n_neighbors': [3,4,5],\n",
    "                       'weights': ['distance'],\n",
    "                       'p': [1,2]}\n",
    "\n",
    "# knn_grid_parameters = {'n_neighbors': [5, 9, 15, 19, 23, 25, 35, 45, 55, 71],\n",
    "#                        'weights': ['distance'],\n",
    "#                        'metric' : ['jaccard', 'dice', 'rogerstanimoto']}\n",
    "\n",
    "# knn_grid_parameters = {'n_neighbors': [5, 9, 15, 19, 25, 35, 45, 55, 71],\n",
    "#                        'weights': ['distance'],\n",
    "#                        'metric' : ['hamming', 'canberra', 'braycurtis']}\n",
    "\n",
    "# knn_grid_parameters = {'n_neighbors': [57],\n",
    "#                        'weights': ['distance'],\n",
    "#                        'metric' : ['jaccard', 'dice', 'rogerstanimoto', \n",
    "#                                    'hamming', 'canberra', 'braycurtis']}\n",
    "\n",
    "# knn_grid_parameters_des = {'n_neighbors': [3, 6, 9, 12, 15],\n",
    "#                            'weights': ['distance'],\n",
    "#                            'p': [1]}\n",
    "\n",
    "# knn_grid_parameters = {'n_neighbors': [105, 120,  135, 150 ],\n",
    "#                        'weights': ['distance'],\n",
    "#                        'metric' : ['minkowski'],'p': [2]}\n"
   ]
  },
  {
   "cell_type": "code",
   "execution_count": 48,
   "id": "890ea1a5-298f-40be-b759-d7f4f5f1f884",
   "metadata": {
    "execution": {
     "iopub.execute_input": "2024-12-06T15:13:08.044606Z",
     "iopub.status.busy": "2024-12-06T15:13:08.043559Z",
     "iopub.status.idle": "2024-12-06T15:13:08.090377Z",
     "shell.execute_reply": "2024-12-06T15:13:08.089476Z",
     "shell.execute_reply.started": "2024-12-06T15:13:08.044552Z"
    }
   },
   "outputs": [
    {
     "data": {
      "text/plain": [
       "{'n_neighbors': [3, 4, 5], 'weights': ['distance'], 'p': [1, 2]}"
      ]
     },
     "execution_count": 48,
     "metadata": {},
     "output_type": "execute_result"
    },
    {
     "data": {
      "text/plain": [
       "6666"
      ]
     },
     "execution_count": 48,
     "metadata": {},
     "output_type": "execute_result"
    }
   ],
   "source": [
    "PARM_SET = knn_grid_parameters\n",
    "PARM_SET\n",
    "RANDOM_STATE\n",
    "NUM_JOBS = 1"
   ]
  },
  {
   "cell_type": "markdown",
   "id": "9a763530-f0c5-4cca-a3e6-8dd2ee3506b4",
   "metadata": {},
   "source": [
    "## Training"
   ]
  },
  {
   "cell_type": "code",
   "execution_count": 49,
   "id": "4c7a942a-6086-438a-b8fe-90300b30c1c2",
   "metadata": {
    "editable": true,
    "execution": {
     "iopub.execute_input": "2024-12-06T15:13:10.113828Z",
     "iopub.status.busy": "2024-12-06T15:13:10.112767Z",
     "iopub.status.idle": "2024-12-06T15:13:10.149655Z",
     "shell.execute_reply": "2024-12-06T15:13:10.148710Z",
     "shell.execute_reply.started": "2024-12-06T15:13:10.113784Z"
    },
    "slideshow": {
     "slide_type": ""
    },
    "tags": []
   },
   "outputs": [],
   "source": [
    "knn_clf = KNeighborsClassifier()"
   ]
  },
  {
   "cell_type": "code",
   "execution_count": 50,
   "id": "a2b9f459-19c7-4ed9-8b51-173c5f622772",
   "metadata": {
    "ExecuteTime": {
     "end_time": "2023-04-28T12:53:46.034659Z",
     "start_time": "2023-04-28T12:48:26.670871Z"
    },
    "editable": true,
    "execution": {
     "iopub.execute_input": "2024-12-06T15:13:33.109397Z",
     "iopub.status.busy": "2024-12-06T15:13:33.108387Z",
     "iopub.status.idle": "2024-12-07T05:04:36.477376Z",
     "shell.execute_reply": "2024-12-07T05:04:36.476019Z",
     "shell.execute_reply.started": "2024-12-06T15:13:33.109353Z"
    },
    "hidden": true,
    "scrolled": true,
    "slideshow": {
     "slide_type": ""
    },
    "tags": []
   },
   "outputs": [
    {
     "name": "stdout",
     "output_type": "stream",
     "text": [
      " verbose is 4\n",
      " params_grid: {'n_neighbors': [3, 4, 5], 'weights': ['distance'], 'p': [1, 2]}\n",
      " scoring    : roc_auc     cv:  4   n_jobs: 1   gridsearch: True    n_iter: 20   refit: True   \n",
      "Fitting 4 folds for each of 6 candidates, totalling 24 fits\n",
      "[CV 1/4] END n_neighbors=3, p=1, weights=distance;, score=0.539 total time=66.2min\n",
      "[CV 2/4] END n_neighbors=3, p=1, weights=distance;, score=0.541 total time=66.2min\n",
      "[CV 3/4] END n_neighbors=3, p=1, weights=distance;, score=0.531 total time=66.2min\n",
      "[CV 4/4] END n_neighbors=3, p=1, weights=distance;, score=0.540 total time=65.8min\n",
      "[CV 1/4] END n_neighbors=3, p=2, weights=distance;, score=0.539 total time= 3.8min\n",
      "[CV 2/4] END n_neighbors=3, p=2, weights=distance;, score=0.536 total time= 3.8min\n",
      "[CV 3/4] END n_neighbors=3, p=2, weights=distance;, score=0.534 total time= 3.8min\n",
      "[CV 4/4] END n_neighbors=3, p=2, weights=distance;, score=0.536 total time= 3.8min\n",
      "[CV 1/4] END n_neighbors=4, p=1, weights=distance;, score=0.544 total time=66.0min\n",
      "[CV 2/4] END n_neighbors=4, p=1, weights=distance;, score=0.547 total time=65.5min\n",
      "[CV 3/4] END n_neighbors=4, p=1, weights=distance;, score=0.537 total time=65.3min\n",
      "[CV 4/4] END n_neighbors=4, p=1, weights=distance;, score=0.545 total time=65.2min\n",
      "[CV 1/4] END n_neighbors=4, p=2, weights=distance;, score=0.541 total time= 3.6min\n",
      "[CV 2/4] END n_neighbors=4, p=2, weights=distance;, score=0.542 total time= 3.6min\n",
      "[CV 3/4] END n_neighbors=4, p=2, weights=distance;, score=0.538 total time= 3.6min\n",
      "[CV 4/4] END n_neighbors=4, p=2, weights=distance;, score=0.543 total time= 3.6min\n",
      "[CV 1/4] END n_neighbors=5, p=1, weights=distance;, score=0.547 total time=65.0min\n",
      "[CV 2/4] END n_neighbors=5, p=1, weights=distance;, score=0.550 total time=65.2min\n",
      "[CV 3/4] END n_neighbors=5, p=1, weights=distance;, score=0.541 total time=65.3min\n",
      "[CV 4/4] END n_neighbors=5, p=1, weights=distance;, score=0.550 total time=64.9min\n",
      "[CV 1/4] END n_neighbors=5, p=2, weights=distance;, score=0.545 total time= 3.6min\n",
      "[CV 2/4] END n_neighbors=5, p=2, weights=distance;, score=0.546 total time= 3.6min\n",
      "[CV 3/4] END n_neighbors=5, p=2, weights=distance;, score=0.542 total time= 3.6min\n",
      "[CV 4/4] END n_neighbors=5, p=2, weights=distance;, score=0.547 total time= 3.6min\n",
      "Best parameters set found on development set: {'n_neighbors': 5, 'p': 1, 'weights': 'distance'}\n",
      "Best score: 0.5468951328370069\n",
      "Grid scores on development set:\n",
      "\n",
      "0.53746 (+/-0.008) for {'n_neighbors': 3, 'p': 1, 'weights': 'distance'}\n",
      "0.53614 (+/-0.004) for {'n_neighbors': 3, 'p': 2, 'weights': 'distance'}\n",
      "0.54334 (+/-0.007) for {'n_neighbors': 4, 'p': 1, 'weights': 'distance'}\n",
      "0.54105 (+/-0.004) for {'n_neighbors': 4, 'p': 2, 'weights': 'distance'}\n",
      "0.54690 (+/-0.007) for {'n_neighbors': 5, 'p': 1, 'weights': 'distance'}\n",
      "0.54500 (+/-0.004) for {'n_neighbors': 5, 'p': 2, 'weights': 'distance'}\n"
     ]
    }
   ],
   "source": [
    "vt_knn  = model_selection(knn_clf, PARM_SET, X_DATA, Y_DATA, scoring='roc_auc',\n",
    "                          cv=4, GridSearch=True, n_jobs=NUM_JOBS, verbose=4)"
   ]
  },
  {
   "cell_type": "code",
   "execution_count": 91,
   "id": "1f029eb5-2a6c-4034-915c-457d65b7c09c",
   "metadata": {
    "execution": {
     "iopub.execute_input": "2024-12-07T12:11:25.630740Z",
     "iopub.status.busy": "2024-12-07T12:11:25.630193Z",
     "iopub.status.idle": "2024-12-07T12:11:25.672352Z",
     "shell.execute_reply": "2024-12-07T12:11:25.671584Z",
     "shell.execute_reply.started": "2024-12-07T12:11:25.630698Z"
    }
   },
   "outputs": [
    {
     "data": {
      "text/plain": [
       "dict_keys(['mean_fit_time', 'std_fit_time', 'mean_score_time', 'std_score_time', 'param_n_neighbors', 'param_p', 'param_weights', 'params', 'split0_test_score', 'split1_test_score', 'split2_test_score', 'split3_test_score', 'mean_test_score', 'std_test_score', 'rank_test_score'])"
      ]
     },
     "execution_count": 91,
     "metadata": {},
     "output_type": "execute_result"
    }
   ],
   "source": [
    "vt_knn.cv_results_.keys()"
   ]
  },
  {
   "cell_type": "code",
   "execution_count": 92,
   "id": "b83932ba-9baf-474e-a3e6-a0dcfed5919e",
   "metadata": {
    "execution": {
     "iopub.execute_input": "2024-12-07T12:11:40.418031Z",
     "iopub.status.busy": "2024-12-07T12:11:40.417539Z",
     "iopub.status.idle": "2024-12-07T12:11:40.471523Z",
     "shell.execute_reply": "2024-12-07T12:11:40.470714Z",
     "shell.execute_reply.started": "2024-12-07T12:11:40.417990Z"
    },
    "scrolled": true
   },
   "outputs": [
    {
     "data": {
      "text/html": [
       "<div>\n",
       "<style scoped>\n",
       "    .dataframe tbody tr th:only-of-type {\n",
       "        vertical-align: middle;\n",
       "    }\n",
       "\n",
       "    .dataframe tbody tr th {\n",
       "        vertical-align: top;\n",
       "    }\n",
       "\n",
       "    .dataframe thead th {\n",
       "        text-align: right;\n",
       "    }\n",
       "</style>\n",
       "<table border=\"1\" class=\"dataframe\">\n",
       "  <thead>\n",
       "    <tr style=\"text-align: right;\">\n",
       "      <th></th>\n",
       "      <th>rank_test_score</th>\n",
       "      <th>mean_test_score</th>\n",
       "      <th>std_test_score</th>\n",
       "      <th>param_n_neighbors</th>\n",
       "      <th>param_p</th>\n",
       "      <th>param_weights</th>\n",
       "      <th>split0_test_score</th>\n",
       "      <th>split1_test_score</th>\n",
       "      <th>split2_test_score</th>\n",
       "      <th>split3_test_score</th>\n",
       "      <th>mean_fit_time</th>\n",
       "      <th>std_fit_time</th>\n",
       "      <th>mean_score_time</th>\n",
       "      <th>std_score_time</th>\n",
       "      <th>random_seed</th>\n",
       "    </tr>\n",
       "  </thead>\n",
       "  <tbody>\n",
       "    <tr>\n",
       "      <th>0</th>\n",
       "      <td>5</td>\n",
       "      <td>0.537461</td>\n",
       "      <td>0.003942</td>\n",
       "      <td>3</td>\n",
       "      <td>1</td>\n",
       "      <td>distance</td>\n",
       "      <td>0.538533</td>\n",
       "      <td>0.540830</td>\n",
       "      <td>0.530779</td>\n",
       "      <td>0.539701</td>\n",
       "      <td>3.041094</td>\n",
       "      <td>0.079198</td>\n",
       "      <td>3963.618618</td>\n",
       "      <td>10.156025</td>\n",
       "      <td>6666</td>\n",
       "    </tr>\n",
       "    <tr>\n",
       "      <th>1</th>\n",
       "      <td>6</td>\n",
       "      <td>0.536144</td>\n",
       "      <td>0.001776</td>\n",
       "      <td>3</td>\n",
       "      <td>2</td>\n",
       "      <td>distance</td>\n",
       "      <td>0.538662</td>\n",
       "      <td>0.535844</td>\n",
       "      <td>0.533669</td>\n",
       "      <td>0.536401</td>\n",
       "      <td>2.966964</td>\n",
       "      <td>0.015438</td>\n",
       "      <td>224.243279</td>\n",
       "      <td>0.584475</td>\n",
       "      <td>6666</td>\n",
       "    </tr>\n",
       "    <tr>\n",
       "      <th>2</th>\n",
       "      <td>3</td>\n",
       "      <td>0.543342</td>\n",
       "      <td>0.003558</td>\n",
       "      <td>4</td>\n",
       "      <td>1</td>\n",
       "      <td>distance</td>\n",
       "      <td>0.543645</td>\n",
       "      <td>0.546757</td>\n",
       "      <td>0.537484</td>\n",
       "      <td>0.545481</td>\n",
       "      <td>2.966111</td>\n",
       "      <td>0.019428</td>\n",
       "      <td>3928.859039</td>\n",
       "      <td>17.438901</td>\n",
       "      <td>6666</td>\n",
       "    </tr>\n",
       "    <tr>\n",
       "      <th>3</th>\n",
       "      <td>4</td>\n",
       "      <td>0.541052</td>\n",
       "      <td>0.001891</td>\n",
       "      <td>4</td>\n",
       "      <td>2</td>\n",
       "      <td>distance</td>\n",
       "      <td>0.541376</td>\n",
       "      <td>0.542245</td>\n",
       "      <td>0.537882</td>\n",
       "      <td>0.542705</td>\n",
       "      <td>3.078697</td>\n",
       "      <td>0.055864</td>\n",
       "      <td>213.226424</td>\n",
       "      <td>1.566184</td>\n",
       "      <td>6666</td>\n",
       "    </tr>\n",
       "    <tr>\n",
       "      <th>4</th>\n",
       "      <td>1</td>\n",
       "      <td>0.546895</td>\n",
       "      <td>0.003721</td>\n",
       "      <td>5</td>\n",
       "      <td>1</td>\n",
       "      <td>distance</td>\n",
       "      <td>0.546904</td>\n",
       "      <td>0.549513</td>\n",
       "      <td>0.540833</td>\n",
       "      <td>0.550330</td>\n",
       "      <td>2.954861</td>\n",
       "      <td>0.076701</td>\n",
       "      <td>3903.043584</td>\n",
       "      <td>8.805527</td>\n",
       "      <td>6666</td>\n",
       "    </tr>\n",
       "    <tr>\n",
       "      <th>5</th>\n",
       "      <td>2</td>\n",
       "      <td>0.545001</td>\n",
       "      <td>0.001836</td>\n",
       "      <td>5</td>\n",
       "      <td>2</td>\n",
       "      <td>distance</td>\n",
       "      <td>0.544850</td>\n",
       "      <td>0.545808</td>\n",
       "      <td>0.542163</td>\n",
       "      <td>0.547181</td>\n",
       "      <td>3.166515</td>\n",
       "      <td>0.516222</td>\n",
       "      <td>214.004052</td>\n",
       "      <td>0.578412</td>\n",
       "      <td>6666</td>\n",
       "    </tr>\n",
       "  </tbody>\n",
       "</table>\n",
       "</div>"
      ],
      "text/plain": [
       "   rank_test_score  mean_test_score  std_test_score param_n_neighbors param_p param_weights  split0_test_score  split1_test_score  \\\n",
       "0                5         0.537461        0.003942                 3       1      distance           0.538533           0.540830   \n",
       "1                6         0.536144        0.001776                 3       2      distance           0.538662           0.535844   \n",
       "2                3         0.543342        0.003558                 4       1      distance           0.543645           0.546757   \n",
       "3                4         0.541052        0.001891                 4       2      distance           0.541376           0.542245   \n",
       "4                1         0.546895        0.003721                 5       1      distance           0.546904           0.549513   \n",
       "5                2         0.545001        0.001836                 5       2      distance           0.544850           0.545808   \n",
       "\n",
       "   split2_test_score  split3_test_score  mean_fit_time  std_fit_time  mean_score_time  std_score_time  random_seed  \n",
       "0           0.530779           0.539701       3.041094      0.079198      3963.618618       10.156025         6666  \n",
       "1           0.533669           0.536401       2.966964      0.015438       224.243279        0.584475         6666  \n",
       "2           0.537484           0.545481       2.966111      0.019428      3928.859039       17.438901         6666  \n",
       "3           0.537882           0.542705       3.078697      0.055864       213.226424        1.566184         6666  \n",
       "4           0.540833           0.550330       2.954861      0.076701      3903.043584        8.805527         6666  \n",
       "5           0.542163           0.547181       3.166515      0.516222       214.004052        0.578412         6666  "
      ]
     },
     "execution_count": 92,
     "metadata": {},
     "output_type": "execute_result"
    }
   ],
   "source": [
    "## Save best estimator and metrics\n",
    "## -------------------------------------------------------\n",
    "\n",
    "_tmp_df = pd.DataFrame(vt_knn.cv_results_)\n",
    "# _tmp_df['Y_bit'] = selected_label_indices[Y_INDEX]\n",
    "_tmp_df['random_seed'] = RANDOM_STATE\n",
    "# reordered_col_names = ['Y_bit',\n",
    "reordered_col_names = ['rank_test_score', 'mean_test_score', 'std_test_score',  'param_n_neighbors', 'param_p', 'param_weights',\n",
    "                       'split0_test_score', 'split1_test_score', 'split2_test_score', 'split3_test_score', 'mean_fit_time',\n",
    "                       'std_fit_time', 'mean_score_time', 'std_score_time',  'random_seed']\n",
    "_tmp_df = _tmp_df[reordered_col_names]\n",
    "_tmp_df"
   ]
  },
  {
   "cell_type": "markdown",
   "id": "810bf4e6-4ff0-49cd-8fe7-f7cc11acf0ed",
   "metadata": {
    "jp-MarkdownHeadingCollapsed": true
   },
   "source": [
    "#### Metric results"
   ]
  },
  {
   "cell_type": "code",
   "execution_count": null,
   "id": "90b091be-ce97-4c42-855f-4947fe2520f1",
   "metadata": {
    "editable": true,
    "slideshow": {
     "slide_type": ""
    },
    "tags": []
   },
   "outputs": [],
   "source": [
    "# Best parameters set found on development set: {'C': 10, 'kernel': 'rbf'}\n",
    "# Best score: 0.5378465362878473\n",
    "# Grid scores on development set:\n",
    "\n",
    "# 0.50235 (+/-0.031) for {'C': 1, 'kernel': 'rbf'}\n",
    "# 0.53181 (+/-0.010) for {'C': 5, 'kernel': 'rbf'}\n",
    "### 0.53785 (+/-0.008) for {'C': 10, 'kernel': 'rbf'}\n",
    "### 0.53836 (+/-0.009) for {'C': 10, 'kernel': 'rbf'}\n",
    "# 0.52558 (+/-0.010) for {'C': 15, 'kernel': 'rbf'}\n",
    "# 0.51977 (+/-0.027) for {'C': 20, 'kernel': 'rbf'}\n",
    "# 0.52734 (+/-0.028) for {'C': 25, 'kernel': 'rbf'}\n",
    "# 0.53087 (+/-0.011) for {'C': 30, 'kernel': 'rbf'}\n",
    "### 0.53761 (+/-0.014) for {'C': 30, 'kernel': 'rbf'}\n",
    "# 0.53227 (+/-0.014) for {'C': 50, 'kernel': 'rbf'}\n",
    "# 0.51949 (+/-0.011) for {'C': 70, 'kernel': 'rbf'}\n",
    "# 0.53222 (+/-0.006) for {'C': 90, 'kernel': 'rbf'}\n",
    "# 0.52077 (+/-0.022) for {'C': 100, 'kernel': 'rbf'}\n",
    "\n",
    "# Best parameters set found on development set: {'C': 10, 'gamma': 0.01, 'kernel': 'rbf'}\n",
    "# Best score: 0.5263117855594914\n",
    "# Grid scores on development set:\n",
    "\n",
    "# 0.48997 (+/-0.005) for {'C': 10, 'gamma': 1, 'kernel': 'rbf'}\n",
    "# 0.48441 (+/-0.002) for {'C': 10, 'gamma': 0.1, 'kernel': 'rbf'}\n",
    "# 0.52631 (+/-0.016) for {'C': 10, 'gamma': 0.01, 'kernel': 'rbf'}\n",
    "# 0.52721 (+/-0.007) for {'C': 10, 'gamma': 0.001, 'kernel': 'rbf'}\n",
    "# 0.53590 (+/-0.010) for {'C': 10, 'gamma': 0.0001, 'kernel': 'rbf'}\n",
    "# 0.54687 (+/-0.011) for {'C': 10, 'gamma': 1e-05, 'kernel': 'rbf'}\n",
    "# 0.54837 (+/-0.010) for {'C': 10, 'gamma': 1e-06, 'kernel': 'rbf'}\n",
    "### 0.54872 (+/-0.011) for {'C': 10, 'gamma': 1e-07, 'kernel': 'rbf'}\n",
    "# 0.54796 (+/-0.012) for {'C': 10, 'gamma': 1e-08, 'kernel': 'rbf'}\n",
    " \n"
   ]
  },
  {
   "cell_type": "code",
   "execution_count": 640,
   "id": "08505a74-aa44-4596-a18f-bd32fe849021",
   "metadata": {
    "editable": true,
    "execution": {
     "iopub.execute_input": "2024-08-05T20:55:04.712770Z",
     "iopub.status.busy": "2024-08-05T20:55:04.712203Z",
     "iopub.status.idle": "2024-08-05T20:55:04.806832Z",
     "shell.execute_reply": "2024-08-05T20:55:04.806152Z",
     "shell.execute_reply.started": "2024-08-05T20:55:04.712729Z"
    },
    "scrolled": true,
    "slideshow": {
     "slide_type": ""
    },
    "tags": []
   },
   "outputs": [
    {
     "data": {
      "text/html": [
       "<style>#sk-container-id-17 {\n",
       "  /* Definition of color scheme common for light and dark mode */\n",
       "  --sklearn-color-text: black;\n",
       "  --sklearn-color-line: gray;\n",
       "  /* Definition of color scheme for unfitted estimators */\n",
       "  --sklearn-color-unfitted-level-0: #fff5e6;\n",
       "  --sklearn-color-unfitted-level-1: #f6e4d2;\n",
       "  --sklearn-color-unfitted-level-2: #ffe0b3;\n",
       "  --sklearn-color-unfitted-level-3: chocolate;\n",
       "  /* Definition of color scheme for fitted estimators */\n",
       "  --sklearn-color-fitted-level-0: #f0f8ff;\n",
       "  --sklearn-color-fitted-level-1: #d4ebff;\n",
       "  --sklearn-color-fitted-level-2: #b3dbfd;\n",
       "  --sklearn-color-fitted-level-3: cornflowerblue;\n",
       "\n",
       "  /* Specific color for light theme */\n",
       "  --sklearn-color-text-on-default-background: var(--sg-text-color, var(--theme-code-foreground, var(--jp-content-font-color1, black)));\n",
       "  --sklearn-color-background: var(--sg-background-color, var(--theme-background, var(--jp-layout-color0, white)));\n",
       "  --sklearn-color-border-box: var(--sg-text-color, var(--theme-code-foreground, var(--jp-content-font-color1, black)));\n",
       "  --sklearn-color-icon: #696969;\n",
       "\n",
       "  @media (prefers-color-scheme: dark) {\n",
       "    /* Redefinition of color scheme for dark theme */\n",
       "    --sklearn-color-text-on-default-background: var(--sg-text-color, var(--theme-code-foreground, var(--jp-content-font-color1, white)));\n",
       "    --sklearn-color-background: var(--sg-background-color, var(--theme-background, var(--jp-layout-color0, #111)));\n",
       "    --sklearn-color-border-box: var(--sg-text-color, var(--theme-code-foreground, var(--jp-content-font-color1, white)));\n",
       "    --sklearn-color-icon: #878787;\n",
       "  }\n",
       "}\n",
       "\n",
       "#sk-container-id-17 {\n",
       "  color: var(--sklearn-color-text);\n",
       "}\n",
       "\n",
       "#sk-container-id-17 pre {\n",
       "  padding: 0;\n",
       "}\n",
       "\n",
       "#sk-container-id-17 input.sk-hidden--visually {\n",
       "  border: 0;\n",
       "  clip: rect(1px 1px 1px 1px);\n",
       "  clip: rect(1px, 1px, 1px, 1px);\n",
       "  height: 1px;\n",
       "  margin: -1px;\n",
       "  overflow: hidden;\n",
       "  padding: 0;\n",
       "  position: absolute;\n",
       "  width: 1px;\n",
       "}\n",
       "\n",
       "#sk-container-id-17 div.sk-dashed-wrapped {\n",
       "  border: 1px dashed var(--sklearn-color-line);\n",
       "  margin: 0 0.4em 0.5em 0.4em;\n",
       "  box-sizing: border-box;\n",
       "  padding-bottom: 0.4em;\n",
       "  background-color: var(--sklearn-color-background);\n",
       "}\n",
       "\n",
       "#sk-container-id-17 div.sk-container {\n",
       "  /* jupyter's `normalize.less` sets `[hidden] { display: none; }`\n",
       "     but bootstrap.min.css set `[hidden] { display: none !important; }`\n",
       "     so we also need the `!important` here to be able to override the\n",
       "     default hidden behavior on the sphinx rendered scikit-learn.org.\n",
       "     See: https://github.com/scikit-learn/scikit-learn/issues/21755 */\n",
       "  display: inline-block !important;\n",
       "  position: relative;\n",
       "}\n",
       "\n",
       "#sk-container-id-17 div.sk-text-repr-fallback {\n",
       "  display: none;\n",
       "}\n",
       "\n",
       "div.sk-parallel-item,\n",
       "div.sk-serial,\n",
       "div.sk-item {\n",
       "  /* draw centered vertical line to link estimators */\n",
       "  background-image: linear-gradient(var(--sklearn-color-text-on-default-background), var(--sklearn-color-text-on-default-background));\n",
       "  background-size: 2px 100%;\n",
       "  background-repeat: no-repeat;\n",
       "  background-position: center center;\n",
       "}\n",
       "\n",
       "/* Parallel-specific style estimator block */\n",
       "\n",
       "#sk-container-id-17 div.sk-parallel-item::after {\n",
       "  content: \"\";\n",
       "  width: 100%;\n",
       "  border-bottom: 2px solid var(--sklearn-color-text-on-default-background);\n",
       "  flex-grow: 1;\n",
       "}\n",
       "\n",
       "#sk-container-id-17 div.sk-parallel {\n",
       "  display: flex;\n",
       "  align-items: stretch;\n",
       "  justify-content: center;\n",
       "  background-color: var(--sklearn-color-background);\n",
       "  position: relative;\n",
       "}\n",
       "\n",
       "#sk-container-id-17 div.sk-parallel-item {\n",
       "  display: flex;\n",
       "  flex-direction: column;\n",
       "}\n",
       "\n",
       "#sk-container-id-17 div.sk-parallel-item:first-child::after {\n",
       "  align-self: flex-end;\n",
       "  width: 50%;\n",
       "}\n",
       "\n",
       "#sk-container-id-17 div.sk-parallel-item:last-child::after {\n",
       "  align-self: flex-start;\n",
       "  width: 50%;\n",
       "}\n",
       "\n",
       "#sk-container-id-17 div.sk-parallel-item:only-child::after {\n",
       "  width: 0;\n",
       "}\n",
       "\n",
       "/* Serial-specific style estimator block */\n",
       "\n",
       "#sk-container-id-17 div.sk-serial {\n",
       "  display: flex;\n",
       "  flex-direction: column;\n",
       "  align-items: center;\n",
       "  background-color: var(--sklearn-color-background);\n",
       "  padding-right: 1em;\n",
       "  padding-left: 1em;\n",
       "}\n",
       "\n",
       "\n",
       "/* Toggleable style: style used for estimator/Pipeline/ColumnTransformer box that is\n",
       "clickable and can be expanded/collapsed.\n",
       "- Pipeline and ColumnTransformer use this feature and define the default style\n",
       "- Estimators will overwrite some part of the style using the `sk-estimator` class\n",
       "*/\n",
       "\n",
       "/* Pipeline and ColumnTransformer style (default) */\n",
       "\n",
       "#sk-container-id-17 div.sk-toggleable {\n",
       "  /* Default theme specific background. It is overwritten whether we have a\n",
       "  specific estimator or a Pipeline/ColumnTransformer */\n",
       "  background-color: var(--sklearn-color-background);\n",
       "}\n",
       "\n",
       "/* Toggleable label */\n",
       "#sk-container-id-17 label.sk-toggleable__label {\n",
       "  cursor: pointer;\n",
       "  display: block;\n",
       "  width: 100%;\n",
       "  margin-bottom: 0;\n",
       "  padding: 0.5em;\n",
       "  box-sizing: border-box;\n",
       "  text-align: center;\n",
       "}\n",
       "\n",
       "#sk-container-id-17 label.sk-toggleable__label-arrow:before {\n",
       "  /* Arrow on the left of the label */\n",
       "  content: \"▸\";\n",
       "  float: left;\n",
       "  margin-right: 0.25em;\n",
       "  color: var(--sklearn-color-icon);\n",
       "}\n",
       "\n",
       "#sk-container-id-17 label.sk-toggleable__label-arrow:hover:before {\n",
       "  color: var(--sklearn-color-text);\n",
       "}\n",
       "\n",
       "/* Toggleable content - dropdown */\n",
       "\n",
       "#sk-container-id-17 div.sk-toggleable__content {\n",
       "  max-height: 0;\n",
       "  max-width: 0;\n",
       "  overflow: hidden;\n",
       "  text-align: left;\n",
       "  /* unfitted */\n",
       "  background-color: var(--sklearn-color-unfitted-level-0);\n",
       "}\n",
       "\n",
       "#sk-container-id-17 div.sk-toggleable__content.fitted {\n",
       "  /* fitted */\n",
       "  background-color: var(--sklearn-color-fitted-level-0);\n",
       "}\n",
       "\n",
       "#sk-container-id-17 div.sk-toggleable__content pre {\n",
       "  margin: 0.2em;\n",
       "  border-radius: 0.25em;\n",
       "  color: var(--sklearn-color-text);\n",
       "  /* unfitted */\n",
       "  background-color: var(--sklearn-color-unfitted-level-0);\n",
       "}\n",
       "\n",
       "#sk-container-id-17 div.sk-toggleable__content.fitted pre {\n",
       "  /* unfitted */\n",
       "  background-color: var(--sklearn-color-fitted-level-0);\n",
       "}\n",
       "\n",
       "#sk-container-id-17 input.sk-toggleable__control:checked~div.sk-toggleable__content {\n",
       "  /* Expand drop-down */\n",
       "  max-height: 200px;\n",
       "  max-width: 100%;\n",
       "  overflow: auto;\n",
       "}\n",
       "\n",
       "#sk-container-id-17 input.sk-toggleable__control:checked~label.sk-toggleable__label-arrow:before {\n",
       "  content: \"▾\";\n",
       "}\n",
       "\n",
       "/* Pipeline/ColumnTransformer-specific style */\n",
       "\n",
       "#sk-container-id-17 div.sk-label input.sk-toggleable__control:checked~label.sk-toggleable__label {\n",
       "  color: var(--sklearn-color-text);\n",
       "  background-color: var(--sklearn-color-unfitted-level-2);\n",
       "}\n",
       "\n",
       "#sk-container-id-17 div.sk-label.fitted input.sk-toggleable__control:checked~label.sk-toggleable__label {\n",
       "  background-color: var(--sklearn-color-fitted-level-2);\n",
       "}\n",
       "\n",
       "/* Estimator-specific style */\n",
       "\n",
       "/* Colorize estimator box */\n",
       "#sk-container-id-17 div.sk-estimator input.sk-toggleable__control:checked~label.sk-toggleable__label {\n",
       "  /* unfitted */\n",
       "  background-color: var(--sklearn-color-unfitted-level-2);\n",
       "}\n",
       "\n",
       "#sk-container-id-17 div.sk-estimator.fitted input.sk-toggleable__control:checked~label.sk-toggleable__label {\n",
       "  /* fitted */\n",
       "  background-color: var(--sklearn-color-fitted-level-2);\n",
       "}\n",
       "\n",
       "#sk-container-id-17 div.sk-label label.sk-toggleable__label,\n",
       "#sk-container-id-17 div.sk-label label {\n",
       "  /* The background is the default theme color */\n",
       "  color: var(--sklearn-color-text-on-default-background);\n",
       "}\n",
       "\n",
       "/* On hover, darken the color of the background */\n",
       "#sk-container-id-17 div.sk-label:hover label.sk-toggleable__label {\n",
       "  color: var(--sklearn-color-text);\n",
       "  background-color: var(--sklearn-color-unfitted-level-2);\n",
       "}\n",
       "\n",
       "/* Label box, darken color on hover, fitted */\n",
       "#sk-container-id-17 div.sk-label.fitted:hover label.sk-toggleable__label.fitted {\n",
       "  color: var(--sklearn-color-text);\n",
       "  background-color: var(--sklearn-color-fitted-level-2);\n",
       "}\n",
       "\n",
       "/* Estimator label */\n",
       "\n",
       "#sk-container-id-17 div.sk-label label {\n",
       "  font-family: monospace;\n",
       "  font-weight: bold;\n",
       "  display: inline-block;\n",
       "  line-height: 1.2em;\n",
       "}\n",
       "\n",
       "#sk-container-id-17 div.sk-label-container {\n",
       "  text-align: center;\n",
       "}\n",
       "\n",
       "/* Estimator-specific */\n",
       "#sk-container-id-17 div.sk-estimator {\n",
       "  font-family: monospace;\n",
       "  border: 1px dotted var(--sklearn-color-border-box);\n",
       "  border-radius: 0.25em;\n",
       "  box-sizing: border-box;\n",
       "  margin-bottom: 0.5em;\n",
       "  /* unfitted */\n",
       "  background-color: var(--sklearn-color-unfitted-level-0);\n",
       "}\n",
       "\n",
       "#sk-container-id-17 div.sk-estimator.fitted {\n",
       "  /* fitted */\n",
       "  background-color: var(--sklearn-color-fitted-level-0);\n",
       "}\n",
       "\n",
       "/* on hover */\n",
       "#sk-container-id-17 div.sk-estimator:hover {\n",
       "  /* unfitted */\n",
       "  background-color: var(--sklearn-color-unfitted-level-2);\n",
       "}\n",
       "\n",
       "#sk-container-id-17 div.sk-estimator.fitted:hover {\n",
       "  /* fitted */\n",
       "  background-color: var(--sklearn-color-fitted-level-2);\n",
       "}\n",
       "\n",
       "/* Specification for estimator info (e.g. \"i\" and \"?\") */\n",
       "\n",
       "/* Common style for \"i\" and \"?\" */\n",
       "\n",
       ".sk-estimator-doc-link,\n",
       "a:link.sk-estimator-doc-link,\n",
       "a:visited.sk-estimator-doc-link {\n",
       "  float: right;\n",
       "  font-size: smaller;\n",
       "  line-height: 1em;\n",
       "  font-family: monospace;\n",
       "  background-color: var(--sklearn-color-background);\n",
       "  border-radius: 1em;\n",
       "  height: 1em;\n",
       "  width: 1em;\n",
       "  text-decoration: none !important;\n",
       "  margin-left: 1ex;\n",
       "  /* unfitted */\n",
       "  border: var(--sklearn-color-unfitted-level-1) 1pt solid;\n",
       "  color: var(--sklearn-color-unfitted-level-1);\n",
       "}\n",
       "\n",
       ".sk-estimator-doc-link.fitted,\n",
       "a:link.sk-estimator-doc-link.fitted,\n",
       "a:visited.sk-estimator-doc-link.fitted {\n",
       "  /* fitted */\n",
       "  border: var(--sklearn-color-fitted-level-1) 1pt solid;\n",
       "  color: var(--sklearn-color-fitted-level-1);\n",
       "}\n",
       "\n",
       "/* On hover */\n",
       "div.sk-estimator:hover .sk-estimator-doc-link:hover,\n",
       ".sk-estimator-doc-link:hover,\n",
       "div.sk-label-container:hover .sk-estimator-doc-link:hover,\n",
       ".sk-estimator-doc-link:hover {\n",
       "  /* unfitted */\n",
       "  background-color: var(--sklearn-color-unfitted-level-3);\n",
       "  color: var(--sklearn-color-background);\n",
       "  text-decoration: none;\n",
       "}\n",
       "\n",
       "div.sk-estimator.fitted:hover .sk-estimator-doc-link.fitted:hover,\n",
       ".sk-estimator-doc-link.fitted:hover,\n",
       "div.sk-label-container:hover .sk-estimator-doc-link.fitted:hover,\n",
       ".sk-estimator-doc-link.fitted:hover {\n",
       "  /* fitted */\n",
       "  background-color: var(--sklearn-color-fitted-level-3);\n",
       "  color: var(--sklearn-color-background);\n",
       "  text-decoration: none;\n",
       "}\n",
       "\n",
       "/* Span, style for the box shown on hovering the info icon */\n",
       ".sk-estimator-doc-link span {\n",
       "  display: none;\n",
       "  z-index: 9999;\n",
       "  position: relative;\n",
       "  font-weight: normal;\n",
       "  right: .2ex;\n",
       "  padding: .5ex;\n",
       "  margin: .5ex;\n",
       "  width: min-content;\n",
       "  min-width: 20ex;\n",
       "  max-width: 50ex;\n",
       "  color: var(--sklearn-color-text);\n",
       "  box-shadow: 2pt 2pt 4pt #999;\n",
       "  /* unfitted */\n",
       "  background: var(--sklearn-color-unfitted-level-0);\n",
       "  border: .5pt solid var(--sklearn-color-unfitted-level-3);\n",
       "}\n",
       "\n",
       ".sk-estimator-doc-link.fitted span {\n",
       "  /* fitted */\n",
       "  background: var(--sklearn-color-fitted-level-0);\n",
       "  border: var(--sklearn-color-fitted-level-3);\n",
       "}\n",
       "\n",
       ".sk-estimator-doc-link:hover span {\n",
       "  display: block;\n",
       "}\n",
       "\n",
       "/* \"?\"-specific style due to the `<a>` HTML tag */\n",
       "\n",
       "#sk-container-id-17 a.estimator_doc_link {\n",
       "  float: right;\n",
       "  font-size: 1rem;\n",
       "  line-height: 1em;\n",
       "  font-family: monospace;\n",
       "  background-color: var(--sklearn-color-background);\n",
       "  border-radius: 1rem;\n",
       "  height: 1rem;\n",
       "  width: 1rem;\n",
       "  text-decoration: none;\n",
       "  /* unfitted */\n",
       "  color: var(--sklearn-color-unfitted-level-1);\n",
       "  border: var(--sklearn-color-unfitted-level-1) 1pt solid;\n",
       "}\n",
       "\n",
       "#sk-container-id-17 a.estimator_doc_link.fitted {\n",
       "  /* fitted */\n",
       "  border: var(--sklearn-color-fitted-level-1) 1pt solid;\n",
       "  color: var(--sklearn-color-fitted-level-1);\n",
       "}\n",
       "\n",
       "/* On hover */\n",
       "#sk-container-id-17 a.estimator_doc_link:hover {\n",
       "  /* unfitted */\n",
       "  background-color: var(--sklearn-color-unfitted-level-3);\n",
       "  color: var(--sklearn-color-background);\n",
       "  text-decoration: none;\n",
       "}\n",
       "\n",
       "#sk-container-id-17 a.estimator_doc_link.fitted:hover {\n",
       "  /* fitted */\n",
       "  background-color: var(--sklearn-color-fitted-level-3);\n",
       "}\n",
       "</style><div id=\"sk-container-id-17\" class=\"sk-top-container\"><div class=\"sk-text-repr-fallback\"><pre>GridSearchCV(cv=4,\n",
       "             estimator=SVC(cache_size=400, class_weight=&#x27;balanced&#x27;,\n",
       "                           max_iter=10000, random_state=42, tol=1e-05),\n",
       "             n_jobs=5, param_grid={&#x27;C&#x27;: [100, 500, 1000], &#x27;kernel&#x27;: [&#x27;rbf&#x27;]},\n",
       "             pre_dispatch=5, scoring=&#x27;roc_auc&#x27;, verbose=3)</pre><b>In a Jupyter environment, please rerun this cell to show the HTML representation or trust the notebook. <br />On GitHub, the HTML representation is unable to render, please try loading this page with nbviewer.org.</b></div><div class=\"sk-container\" hidden><div class=\"sk-item sk-dashed-wrapped\"><div class=\"sk-label-container\"><div class=\"sk-label fitted sk-toggleable\"><input class=\"sk-toggleable__control sk-hidden--visually\" id=\"sk-estimator-id-37\" type=\"checkbox\" ><label for=\"sk-estimator-id-37\" class=\"sk-toggleable__label fitted sk-toggleable__label-arrow fitted\">&nbsp;&nbsp;GridSearchCV<a class=\"sk-estimator-doc-link fitted\" rel=\"noreferrer\" target=\"_blank\" href=\"https://scikit-learn.org/1.4/modules/generated/sklearn.model_selection.GridSearchCV.html\">?<span>Documentation for GridSearchCV</span></a><span class=\"sk-estimator-doc-link fitted\">i<span>Fitted</span></span></label><div class=\"sk-toggleable__content fitted\"><pre>GridSearchCV(cv=4,\n",
       "             estimator=SVC(cache_size=400, class_weight=&#x27;balanced&#x27;,\n",
       "                           max_iter=10000, random_state=42, tol=1e-05),\n",
       "             n_jobs=5, param_grid={&#x27;C&#x27;: [100, 500, 1000], &#x27;kernel&#x27;: [&#x27;rbf&#x27;]},\n",
       "             pre_dispatch=5, scoring=&#x27;roc_auc&#x27;, verbose=3)</pre></div> </div></div><div class=\"sk-parallel\"><div class=\"sk-parallel-item\"><div class=\"sk-item\"><div class=\"sk-label-container\"><div class=\"sk-label fitted sk-toggleable\"><input class=\"sk-toggleable__control sk-hidden--visually\" id=\"sk-estimator-id-38\" type=\"checkbox\" ><label for=\"sk-estimator-id-38\" class=\"sk-toggleable__label fitted sk-toggleable__label-arrow fitted\">estimator: SVC</label><div class=\"sk-toggleable__content fitted\"><pre>SVC(cache_size=400, class_weight=&#x27;balanced&#x27;, max_iter=10000, random_state=42,\n",
       "    tol=1e-05)</pre></div> </div></div><div class=\"sk-serial\"><div class=\"sk-item\"><div class=\"sk-estimator fitted sk-toggleable\"><input class=\"sk-toggleable__control sk-hidden--visually\" id=\"sk-estimator-id-39\" type=\"checkbox\" ><label for=\"sk-estimator-id-39\" class=\"sk-toggleable__label fitted sk-toggleable__label-arrow fitted\">&nbsp;SVC<a class=\"sk-estimator-doc-link fitted\" rel=\"noreferrer\" target=\"_blank\" href=\"https://scikit-learn.org/1.4/modules/generated/sklearn.svm.SVC.html\">?<span>Documentation for SVC</span></a></label><div class=\"sk-toggleable__content fitted\"><pre>SVC(cache_size=400, class_weight=&#x27;balanced&#x27;, max_iter=10000, random_state=42,\n",
       "    tol=1e-05)</pre></div> </div></div></div></div></div></div></div></div></div>"
      ],
      "text/plain": [
       "GridSearchCV(cv=4,\n",
       "             estimator=SVC(cache_size=400, class_weight='balanced',\n",
       "                           max_iter=10000, random_state=42, tol=1e-05),\n",
       "             n_jobs=5, param_grid={'C': [100, 500, 1000], 'kernel': ['rbf']},\n",
       "             pre_dispatch=5, scoring='roc_auc', verbose=3)"
      ]
     },
     "execution_count": 640,
     "metadata": {},
     "output_type": "execute_result"
    },
    {
     "data": {
      "text/html": [
       "<style>#sk-container-id-18 {\n",
       "  /* Definition of color scheme common for light and dark mode */\n",
       "  --sklearn-color-text: black;\n",
       "  --sklearn-color-line: gray;\n",
       "  /* Definition of color scheme for unfitted estimators */\n",
       "  --sklearn-color-unfitted-level-0: #fff5e6;\n",
       "  --sklearn-color-unfitted-level-1: #f6e4d2;\n",
       "  --sklearn-color-unfitted-level-2: #ffe0b3;\n",
       "  --sklearn-color-unfitted-level-3: chocolate;\n",
       "  /* Definition of color scheme for fitted estimators */\n",
       "  --sklearn-color-fitted-level-0: #f0f8ff;\n",
       "  --sklearn-color-fitted-level-1: #d4ebff;\n",
       "  --sklearn-color-fitted-level-2: #b3dbfd;\n",
       "  --sklearn-color-fitted-level-3: cornflowerblue;\n",
       "\n",
       "  /* Specific color for light theme */\n",
       "  --sklearn-color-text-on-default-background: var(--sg-text-color, var(--theme-code-foreground, var(--jp-content-font-color1, black)));\n",
       "  --sklearn-color-background: var(--sg-background-color, var(--theme-background, var(--jp-layout-color0, white)));\n",
       "  --sklearn-color-border-box: var(--sg-text-color, var(--theme-code-foreground, var(--jp-content-font-color1, black)));\n",
       "  --sklearn-color-icon: #696969;\n",
       "\n",
       "  @media (prefers-color-scheme: dark) {\n",
       "    /* Redefinition of color scheme for dark theme */\n",
       "    --sklearn-color-text-on-default-background: var(--sg-text-color, var(--theme-code-foreground, var(--jp-content-font-color1, white)));\n",
       "    --sklearn-color-background: var(--sg-background-color, var(--theme-background, var(--jp-layout-color0, #111)));\n",
       "    --sklearn-color-border-box: var(--sg-text-color, var(--theme-code-foreground, var(--jp-content-font-color1, white)));\n",
       "    --sklearn-color-icon: #878787;\n",
       "  }\n",
       "}\n",
       "\n",
       "#sk-container-id-18 {\n",
       "  color: var(--sklearn-color-text);\n",
       "}\n",
       "\n",
       "#sk-container-id-18 pre {\n",
       "  padding: 0;\n",
       "}\n",
       "\n",
       "#sk-container-id-18 input.sk-hidden--visually {\n",
       "  border: 0;\n",
       "  clip: rect(1px 1px 1px 1px);\n",
       "  clip: rect(1px, 1px, 1px, 1px);\n",
       "  height: 1px;\n",
       "  margin: -1px;\n",
       "  overflow: hidden;\n",
       "  padding: 0;\n",
       "  position: absolute;\n",
       "  width: 1px;\n",
       "}\n",
       "\n",
       "#sk-container-id-18 div.sk-dashed-wrapped {\n",
       "  border: 1px dashed var(--sklearn-color-line);\n",
       "  margin: 0 0.4em 0.5em 0.4em;\n",
       "  box-sizing: border-box;\n",
       "  padding-bottom: 0.4em;\n",
       "  background-color: var(--sklearn-color-background);\n",
       "}\n",
       "\n",
       "#sk-container-id-18 div.sk-container {\n",
       "  /* jupyter's `normalize.less` sets `[hidden] { display: none; }`\n",
       "     but bootstrap.min.css set `[hidden] { display: none !important; }`\n",
       "     so we also need the `!important` here to be able to override the\n",
       "     default hidden behavior on the sphinx rendered scikit-learn.org.\n",
       "     See: https://github.com/scikit-learn/scikit-learn/issues/21755 */\n",
       "  display: inline-block !important;\n",
       "  position: relative;\n",
       "}\n",
       "\n",
       "#sk-container-id-18 div.sk-text-repr-fallback {\n",
       "  display: none;\n",
       "}\n",
       "\n",
       "div.sk-parallel-item,\n",
       "div.sk-serial,\n",
       "div.sk-item {\n",
       "  /* draw centered vertical line to link estimators */\n",
       "  background-image: linear-gradient(var(--sklearn-color-text-on-default-background), var(--sklearn-color-text-on-default-background));\n",
       "  background-size: 2px 100%;\n",
       "  background-repeat: no-repeat;\n",
       "  background-position: center center;\n",
       "}\n",
       "\n",
       "/* Parallel-specific style estimator block */\n",
       "\n",
       "#sk-container-id-18 div.sk-parallel-item::after {\n",
       "  content: \"\";\n",
       "  width: 100%;\n",
       "  border-bottom: 2px solid var(--sklearn-color-text-on-default-background);\n",
       "  flex-grow: 1;\n",
       "}\n",
       "\n",
       "#sk-container-id-18 div.sk-parallel {\n",
       "  display: flex;\n",
       "  align-items: stretch;\n",
       "  justify-content: center;\n",
       "  background-color: var(--sklearn-color-background);\n",
       "  position: relative;\n",
       "}\n",
       "\n",
       "#sk-container-id-18 div.sk-parallel-item {\n",
       "  display: flex;\n",
       "  flex-direction: column;\n",
       "}\n",
       "\n",
       "#sk-container-id-18 div.sk-parallel-item:first-child::after {\n",
       "  align-self: flex-end;\n",
       "  width: 50%;\n",
       "}\n",
       "\n",
       "#sk-container-id-18 div.sk-parallel-item:last-child::after {\n",
       "  align-self: flex-start;\n",
       "  width: 50%;\n",
       "}\n",
       "\n",
       "#sk-container-id-18 div.sk-parallel-item:only-child::after {\n",
       "  width: 0;\n",
       "}\n",
       "\n",
       "/* Serial-specific style estimator block */\n",
       "\n",
       "#sk-container-id-18 div.sk-serial {\n",
       "  display: flex;\n",
       "  flex-direction: column;\n",
       "  align-items: center;\n",
       "  background-color: var(--sklearn-color-background);\n",
       "  padding-right: 1em;\n",
       "  padding-left: 1em;\n",
       "}\n",
       "\n",
       "\n",
       "/* Toggleable style: style used for estimator/Pipeline/ColumnTransformer box that is\n",
       "clickable and can be expanded/collapsed.\n",
       "- Pipeline and ColumnTransformer use this feature and define the default style\n",
       "- Estimators will overwrite some part of the style using the `sk-estimator` class\n",
       "*/\n",
       "\n",
       "/* Pipeline and ColumnTransformer style (default) */\n",
       "\n",
       "#sk-container-id-18 div.sk-toggleable {\n",
       "  /* Default theme specific background. It is overwritten whether we have a\n",
       "  specific estimator or a Pipeline/ColumnTransformer */\n",
       "  background-color: var(--sklearn-color-background);\n",
       "}\n",
       "\n",
       "/* Toggleable label */\n",
       "#sk-container-id-18 label.sk-toggleable__label {\n",
       "  cursor: pointer;\n",
       "  display: block;\n",
       "  width: 100%;\n",
       "  margin-bottom: 0;\n",
       "  padding: 0.5em;\n",
       "  box-sizing: border-box;\n",
       "  text-align: center;\n",
       "}\n",
       "\n",
       "#sk-container-id-18 label.sk-toggleable__label-arrow:before {\n",
       "  /* Arrow on the left of the label */\n",
       "  content: \"▸\";\n",
       "  float: left;\n",
       "  margin-right: 0.25em;\n",
       "  color: var(--sklearn-color-icon);\n",
       "}\n",
       "\n",
       "#sk-container-id-18 label.sk-toggleable__label-arrow:hover:before {\n",
       "  color: var(--sklearn-color-text);\n",
       "}\n",
       "\n",
       "/* Toggleable content - dropdown */\n",
       "\n",
       "#sk-container-id-18 div.sk-toggleable__content {\n",
       "  max-height: 0;\n",
       "  max-width: 0;\n",
       "  overflow: hidden;\n",
       "  text-align: left;\n",
       "  /* unfitted */\n",
       "  background-color: var(--sklearn-color-unfitted-level-0);\n",
       "}\n",
       "\n",
       "#sk-container-id-18 div.sk-toggleable__content.fitted {\n",
       "  /* fitted */\n",
       "  background-color: var(--sklearn-color-fitted-level-0);\n",
       "}\n",
       "\n",
       "#sk-container-id-18 div.sk-toggleable__content pre {\n",
       "  margin: 0.2em;\n",
       "  border-radius: 0.25em;\n",
       "  color: var(--sklearn-color-text);\n",
       "  /* unfitted */\n",
       "  background-color: var(--sklearn-color-unfitted-level-0);\n",
       "}\n",
       "\n",
       "#sk-container-id-18 div.sk-toggleable__content.fitted pre {\n",
       "  /* unfitted */\n",
       "  background-color: var(--sklearn-color-fitted-level-0);\n",
       "}\n",
       "\n",
       "#sk-container-id-18 input.sk-toggleable__control:checked~div.sk-toggleable__content {\n",
       "  /* Expand drop-down */\n",
       "  max-height: 200px;\n",
       "  max-width: 100%;\n",
       "  overflow: auto;\n",
       "}\n",
       "\n",
       "#sk-container-id-18 input.sk-toggleable__control:checked~label.sk-toggleable__label-arrow:before {\n",
       "  content: \"▾\";\n",
       "}\n",
       "\n",
       "/* Pipeline/ColumnTransformer-specific style */\n",
       "\n",
       "#sk-container-id-18 div.sk-label input.sk-toggleable__control:checked~label.sk-toggleable__label {\n",
       "  color: var(--sklearn-color-text);\n",
       "  background-color: var(--sklearn-color-unfitted-level-2);\n",
       "}\n",
       "\n",
       "#sk-container-id-18 div.sk-label.fitted input.sk-toggleable__control:checked~label.sk-toggleable__label {\n",
       "  background-color: var(--sklearn-color-fitted-level-2);\n",
       "}\n",
       "\n",
       "/* Estimator-specific style */\n",
       "\n",
       "/* Colorize estimator box */\n",
       "#sk-container-id-18 div.sk-estimator input.sk-toggleable__control:checked~label.sk-toggleable__label {\n",
       "  /* unfitted */\n",
       "  background-color: var(--sklearn-color-unfitted-level-2);\n",
       "}\n",
       "\n",
       "#sk-container-id-18 div.sk-estimator.fitted input.sk-toggleable__control:checked~label.sk-toggleable__label {\n",
       "  /* fitted */\n",
       "  background-color: var(--sklearn-color-fitted-level-2);\n",
       "}\n",
       "\n",
       "#sk-container-id-18 div.sk-label label.sk-toggleable__label,\n",
       "#sk-container-id-18 div.sk-label label {\n",
       "  /* The background is the default theme color */\n",
       "  color: var(--sklearn-color-text-on-default-background);\n",
       "}\n",
       "\n",
       "/* On hover, darken the color of the background */\n",
       "#sk-container-id-18 div.sk-label:hover label.sk-toggleable__label {\n",
       "  color: var(--sklearn-color-text);\n",
       "  background-color: var(--sklearn-color-unfitted-level-2);\n",
       "}\n",
       "\n",
       "/* Label box, darken color on hover, fitted */\n",
       "#sk-container-id-18 div.sk-label.fitted:hover label.sk-toggleable__label.fitted {\n",
       "  color: var(--sklearn-color-text);\n",
       "  background-color: var(--sklearn-color-fitted-level-2);\n",
       "}\n",
       "\n",
       "/* Estimator label */\n",
       "\n",
       "#sk-container-id-18 div.sk-label label {\n",
       "  font-family: monospace;\n",
       "  font-weight: bold;\n",
       "  display: inline-block;\n",
       "  line-height: 1.2em;\n",
       "}\n",
       "\n",
       "#sk-container-id-18 div.sk-label-container {\n",
       "  text-align: center;\n",
       "}\n",
       "\n",
       "/* Estimator-specific */\n",
       "#sk-container-id-18 div.sk-estimator {\n",
       "  font-family: monospace;\n",
       "  border: 1px dotted var(--sklearn-color-border-box);\n",
       "  border-radius: 0.25em;\n",
       "  box-sizing: border-box;\n",
       "  margin-bottom: 0.5em;\n",
       "  /* unfitted */\n",
       "  background-color: var(--sklearn-color-unfitted-level-0);\n",
       "}\n",
       "\n",
       "#sk-container-id-18 div.sk-estimator.fitted {\n",
       "  /* fitted */\n",
       "  background-color: var(--sklearn-color-fitted-level-0);\n",
       "}\n",
       "\n",
       "/* on hover */\n",
       "#sk-container-id-18 div.sk-estimator:hover {\n",
       "  /* unfitted */\n",
       "  background-color: var(--sklearn-color-unfitted-level-2);\n",
       "}\n",
       "\n",
       "#sk-container-id-18 div.sk-estimator.fitted:hover {\n",
       "  /* fitted */\n",
       "  background-color: var(--sklearn-color-fitted-level-2);\n",
       "}\n",
       "\n",
       "/* Specification for estimator info (e.g. \"i\" and \"?\") */\n",
       "\n",
       "/* Common style for \"i\" and \"?\" */\n",
       "\n",
       ".sk-estimator-doc-link,\n",
       "a:link.sk-estimator-doc-link,\n",
       "a:visited.sk-estimator-doc-link {\n",
       "  float: right;\n",
       "  font-size: smaller;\n",
       "  line-height: 1em;\n",
       "  font-family: monospace;\n",
       "  background-color: var(--sklearn-color-background);\n",
       "  border-radius: 1em;\n",
       "  height: 1em;\n",
       "  width: 1em;\n",
       "  text-decoration: none !important;\n",
       "  margin-left: 1ex;\n",
       "  /* unfitted */\n",
       "  border: var(--sklearn-color-unfitted-level-1) 1pt solid;\n",
       "  color: var(--sklearn-color-unfitted-level-1);\n",
       "}\n",
       "\n",
       ".sk-estimator-doc-link.fitted,\n",
       "a:link.sk-estimator-doc-link.fitted,\n",
       "a:visited.sk-estimator-doc-link.fitted {\n",
       "  /* fitted */\n",
       "  border: var(--sklearn-color-fitted-level-1) 1pt solid;\n",
       "  color: var(--sklearn-color-fitted-level-1);\n",
       "}\n",
       "\n",
       "/* On hover */\n",
       "div.sk-estimator:hover .sk-estimator-doc-link:hover,\n",
       ".sk-estimator-doc-link:hover,\n",
       "div.sk-label-container:hover .sk-estimator-doc-link:hover,\n",
       ".sk-estimator-doc-link:hover {\n",
       "  /* unfitted */\n",
       "  background-color: var(--sklearn-color-unfitted-level-3);\n",
       "  color: var(--sklearn-color-background);\n",
       "  text-decoration: none;\n",
       "}\n",
       "\n",
       "div.sk-estimator.fitted:hover .sk-estimator-doc-link.fitted:hover,\n",
       ".sk-estimator-doc-link.fitted:hover,\n",
       "div.sk-label-container:hover .sk-estimator-doc-link.fitted:hover,\n",
       ".sk-estimator-doc-link.fitted:hover {\n",
       "  /* fitted */\n",
       "  background-color: var(--sklearn-color-fitted-level-3);\n",
       "  color: var(--sklearn-color-background);\n",
       "  text-decoration: none;\n",
       "}\n",
       "\n",
       "/* Span, style for the box shown on hovering the info icon */\n",
       ".sk-estimator-doc-link span {\n",
       "  display: none;\n",
       "  z-index: 9999;\n",
       "  position: relative;\n",
       "  font-weight: normal;\n",
       "  right: .2ex;\n",
       "  padding: .5ex;\n",
       "  margin: .5ex;\n",
       "  width: min-content;\n",
       "  min-width: 20ex;\n",
       "  max-width: 50ex;\n",
       "  color: var(--sklearn-color-text);\n",
       "  box-shadow: 2pt 2pt 4pt #999;\n",
       "  /* unfitted */\n",
       "  background: var(--sklearn-color-unfitted-level-0);\n",
       "  border: .5pt solid var(--sklearn-color-unfitted-level-3);\n",
       "}\n",
       "\n",
       ".sk-estimator-doc-link.fitted span {\n",
       "  /* fitted */\n",
       "  background: var(--sklearn-color-fitted-level-0);\n",
       "  border: var(--sklearn-color-fitted-level-3);\n",
       "}\n",
       "\n",
       ".sk-estimator-doc-link:hover span {\n",
       "  display: block;\n",
       "}\n",
       "\n",
       "/* \"?\"-specific style due to the `<a>` HTML tag */\n",
       "\n",
       "#sk-container-id-18 a.estimator_doc_link {\n",
       "  float: right;\n",
       "  font-size: 1rem;\n",
       "  line-height: 1em;\n",
       "  font-family: monospace;\n",
       "  background-color: var(--sklearn-color-background);\n",
       "  border-radius: 1rem;\n",
       "  height: 1rem;\n",
       "  width: 1rem;\n",
       "  text-decoration: none;\n",
       "  /* unfitted */\n",
       "  color: var(--sklearn-color-unfitted-level-1);\n",
       "  border: var(--sklearn-color-unfitted-level-1) 1pt solid;\n",
       "}\n",
       "\n",
       "#sk-container-id-18 a.estimator_doc_link.fitted {\n",
       "  /* fitted */\n",
       "  border: var(--sklearn-color-fitted-level-1) 1pt solid;\n",
       "  color: var(--sklearn-color-fitted-level-1);\n",
       "}\n",
       "\n",
       "/* On hover */\n",
       "#sk-container-id-18 a.estimator_doc_link:hover {\n",
       "  /* unfitted */\n",
       "  background-color: var(--sklearn-color-unfitted-level-3);\n",
       "  color: var(--sklearn-color-background);\n",
       "  text-decoration: none;\n",
       "}\n",
       "\n",
       "#sk-container-id-18 a.estimator_doc_link.fitted:hover {\n",
       "  /* fitted */\n",
       "  background-color: var(--sklearn-color-fitted-level-3);\n",
       "}\n",
       "</style><div id=\"sk-container-id-18\" class=\"sk-top-container\"><div class=\"sk-text-repr-fallback\"><pre>SVC(C=100, cache_size=400, class_weight=&#x27;balanced&#x27;, max_iter=10000,\n",
       "    random_state=42, tol=1e-05)</pre><b>In a Jupyter environment, please rerun this cell to show the HTML representation or trust the notebook. <br />On GitHub, the HTML representation is unable to render, please try loading this page with nbviewer.org.</b></div><div class=\"sk-container\" hidden><div class=\"sk-item\"><div class=\"sk-estimator fitted sk-toggleable\"><input class=\"sk-toggleable__control sk-hidden--visually\" id=\"sk-estimator-id-40\" type=\"checkbox\" checked><label for=\"sk-estimator-id-40\" class=\"sk-toggleable__label fitted sk-toggleable__label-arrow fitted\">&nbsp;&nbsp;SVC<a class=\"sk-estimator-doc-link fitted\" rel=\"noreferrer\" target=\"_blank\" href=\"https://scikit-learn.org/1.4/modules/generated/sklearn.svm.SVC.html\">?<span>Documentation for SVC</span></a><span class=\"sk-estimator-doc-link fitted\">i<span>Fitted</span></span></label><div class=\"sk-toggleable__content fitted\"><pre>SVC(C=100, cache_size=400, class_weight=&#x27;balanced&#x27;, max_iter=10000,\n",
       "    random_state=42, tol=1e-05)</pre></div> </div></div></div></div>"
      ],
      "text/plain": [
       "SVC(C=100, cache_size=400, class_weight='balanced', max_iter=10000,\n",
       "    random_state=42, tol=1e-05)"
      ]
     },
     "execution_count": 640,
     "metadata": {},
     "output_type": "execute_result"
    },
    {
     "data": {
      "text/plain": [
       "0"
      ]
     },
     "execution_count": 640,
     "metadata": {},
     "output_type": "execute_result"
    },
    {
     "data": {
      "text/plain": [
       "{'C': 100, 'kernel': 'rbf'}"
      ]
     },
     "execution_count": 640,
     "metadata": {},
     "output_type": "execute_result"
    },
    {
     "data": {
      "text/plain": [
       "0.5360226792539031"
      ]
     },
     "execution_count": 640,
     "metadata": {},
     "output_type": "execute_result"
    },
    {
     "data": {
      "text/plain": [
       "array([0, 1], dtype=uint8)"
      ]
     },
     "execution_count": 640,
     "metadata": {},
     "output_type": "execute_result"
    },
    {
     "data": {
      "text/plain": [
       "4"
      ]
     },
     "execution_count": 640,
     "metadata": {},
     "output_type": "execute_result"
    },
    {
     "data": {
      "text/plain": [
       "{'mean_fit_time': array([205.12652862, 243.32209796, 225.83543795]),\n",
       " 'std_fit_time': array([ 6.79211394, 18.80770631, 34.98232562]),\n",
       " 'mean_score_time': array([88.93056607, 91.10064435, 88.03145939]),\n",
       " 'std_score_time': array([1.21205485, 1.97996244, 3.45450594]),\n",
       " 'param_C': masked_array(data=[100, 500, 1000],\n",
       "              mask=[False, False, False],\n",
       "        fill_value='?',\n",
       "             dtype=object),\n",
       " 'param_kernel': masked_array(data=['rbf', 'rbf', 'rbf'],\n",
       "              mask=[False, False, False],\n",
       "        fill_value='?',\n",
       "             dtype=object),\n",
       " 'params': [{'C': 100, 'kernel': 'rbf'},\n",
       "  {'C': 500, 'kernel': 'rbf'},\n",
       "  {'C': 1000, 'kernel': 'rbf'}],\n",
       " 'split0_test_score': array([0.54505406, 0.52896171, 0.52896171]),\n",
       " 'split1_test_score': array([0.52928611, 0.53277688, 0.53277688]),\n",
       " 'split2_test_score': array([0.52812428, 0.5412952 , 0.5412952 ]),\n",
       " 'split3_test_score': array([0.54162626, 0.52158292, 0.52158292]),\n",
       " 'mean_test_score': array([0.53602268, 0.53115418, 0.53115418]),\n",
       " 'std_test_score': array([0.00742853, 0.00710439, 0.00710439]),\n",
       " 'rank_test_score': array([1, 2, 2], dtype=int32)}"
      ]
     },
     "execution_count": 640,
     "metadata": {},
     "output_type": "execute_result"
    },
    {
     "data": {
      "text/plain": [
       "<bound method BaseSearchCV.decision_function of GridSearchCV(cv=4,\n",
       "             estimator=SVC(cache_size=400, class_weight='balanced',\n",
       "                           max_iter=10000, random_state=42, tol=1e-05),\n",
       "             n_jobs=5, param_grid={'C': [100, 500, 1000], 'kernel': ['rbf']},\n",
       "             pre_dispatch=5, scoring='roc_auc', verbose=3)>"
      ]
     },
     "execution_count": 640,
     "metadata": {},
     "output_type": "execute_result"
    },
    {
     "data": {
      "text/plain": [
       "nan"
      ]
     },
     "execution_count": 640,
     "metadata": {},
     "output_type": "execute_result"
    },
    {
     "data": {
      "text/html": [
       "<style>#sk-container-id-19 {\n",
       "  /* Definition of color scheme common for light and dark mode */\n",
       "  --sklearn-color-text: black;\n",
       "  --sklearn-color-line: gray;\n",
       "  /* Definition of color scheme for unfitted estimators */\n",
       "  --sklearn-color-unfitted-level-0: #fff5e6;\n",
       "  --sklearn-color-unfitted-level-1: #f6e4d2;\n",
       "  --sklearn-color-unfitted-level-2: #ffe0b3;\n",
       "  --sklearn-color-unfitted-level-3: chocolate;\n",
       "  /* Definition of color scheme for fitted estimators */\n",
       "  --sklearn-color-fitted-level-0: #f0f8ff;\n",
       "  --sklearn-color-fitted-level-1: #d4ebff;\n",
       "  --sklearn-color-fitted-level-2: #b3dbfd;\n",
       "  --sklearn-color-fitted-level-3: cornflowerblue;\n",
       "\n",
       "  /* Specific color for light theme */\n",
       "  --sklearn-color-text-on-default-background: var(--sg-text-color, var(--theme-code-foreground, var(--jp-content-font-color1, black)));\n",
       "  --sklearn-color-background: var(--sg-background-color, var(--theme-background, var(--jp-layout-color0, white)));\n",
       "  --sklearn-color-border-box: var(--sg-text-color, var(--theme-code-foreground, var(--jp-content-font-color1, black)));\n",
       "  --sklearn-color-icon: #696969;\n",
       "\n",
       "  @media (prefers-color-scheme: dark) {\n",
       "    /* Redefinition of color scheme for dark theme */\n",
       "    --sklearn-color-text-on-default-background: var(--sg-text-color, var(--theme-code-foreground, var(--jp-content-font-color1, white)));\n",
       "    --sklearn-color-background: var(--sg-background-color, var(--theme-background, var(--jp-layout-color0, #111)));\n",
       "    --sklearn-color-border-box: var(--sg-text-color, var(--theme-code-foreground, var(--jp-content-font-color1, white)));\n",
       "    --sklearn-color-icon: #878787;\n",
       "  }\n",
       "}\n",
       "\n",
       "#sk-container-id-19 {\n",
       "  color: var(--sklearn-color-text);\n",
       "}\n",
       "\n",
       "#sk-container-id-19 pre {\n",
       "  padding: 0;\n",
       "}\n",
       "\n",
       "#sk-container-id-19 input.sk-hidden--visually {\n",
       "  border: 0;\n",
       "  clip: rect(1px 1px 1px 1px);\n",
       "  clip: rect(1px, 1px, 1px, 1px);\n",
       "  height: 1px;\n",
       "  margin: -1px;\n",
       "  overflow: hidden;\n",
       "  padding: 0;\n",
       "  position: absolute;\n",
       "  width: 1px;\n",
       "}\n",
       "\n",
       "#sk-container-id-19 div.sk-dashed-wrapped {\n",
       "  border: 1px dashed var(--sklearn-color-line);\n",
       "  margin: 0 0.4em 0.5em 0.4em;\n",
       "  box-sizing: border-box;\n",
       "  padding-bottom: 0.4em;\n",
       "  background-color: var(--sklearn-color-background);\n",
       "}\n",
       "\n",
       "#sk-container-id-19 div.sk-container {\n",
       "  /* jupyter's `normalize.less` sets `[hidden] { display: none; }`\n",
       "     but bootstrap.min.css set `[hidden] { display: none !important; }`\n",
       "     so we also need the `!important` here to be able to override the\n",
       "     default hidden behavior on the sphinx rendered scikit-learn.org.\n",
       "     See: https://github.com/scikit-learn/scikit-learn/issues/21755 */\n",
       "  display: inline-block !important;\n",
       "  position: relative;\n",
       "}\n",
       "\n",
       "#sk-container-id-19 div.sk-text-repr-fallback {\n",
       "  display: none;\n",
       "}\n",
       "\n",
       "div.sk-parallel-item,\n",
       "div.sk-serial,\n",
       "div.sk-item {\n",
       "  /* draw centered vertical line to link estimators */\n",
       "  background-image: linear-gradient(var(--sklearn-color-text-on-default-background), var(--sklearn-color-text-on-default-background));\n",
       "  background-size: 2px 100%;\n",
       "  background-repeat: no-repeat;\n",
       "  background-position: center center;\n",
       "}\n",
       "\n",
       "/* Parallel-specific style estimator block */\n",
       "\n",
       "#sk-container-id-19 div.sk-parallel-item::after {\n",
       "  content: \"\";\n",
       "  width: 100%;\n",
       "  border-bottom: 2px solid var(--sklearn-color-text-on-default-background);\n",
       "  flex-grow: 1;\n",
       "}\n",
       "\n",
       "#sk-container-id-19 div.sk-parallel {\n",
       "  display: flex;\n",
       "  align-items: stretch;\n",
       "  justify-content: center;\n",
       "  background-color: var(--sklearn-color-background);\n",
       "  position: relative;\n",
       "}\n",
       "\n",
       "#sk-container-id-19 div.sk-parallel-item {\n",
       "  display: flex;\n",
       "  flex-direction: column;\n",
       "}\n",
       "\n",
       "#sk-container-id-19 div.sk-parallel-item:first-child::after {\n",
       "  align-self: flex-end;\n",
       "  width: 50%;\n",
       "}\n",
       "\n",
       "#sk-container-id-19 div.sk-parallel-item:last-child::after {\n",
       "  align-self: flex-start;\n",
       "  width: 50%;\n",
       "}\n",
       "\n",
       "#sk-container-id-19 div.sk-parallel-item:only-child::after {\n",
       "  width: 0;\n",
       "}\n",
       "\n",
       "/* Serial-specific style estimator block */\n",
       "\n",
       "#sk-container-id-19 div.sk-serial {\n",
       "  display: flex;\n",
       "  flex-direction: column;\n",
       "  align-items: center;\n",
       "  background-color: var(--sklearn-color-background);\n",
       "  padding-right: 1em;\n",
       "  padding-left: 1em;\n",
       "}\n",
       "\n",
       "\n",
       "/* Toggleable style: style used for estimator/Pipeline/ColumnTransformer box that is\n",
       "clickable and can be expanded/collapsed.\n",
       "- Pipeline and ColumnTransformer use this feature and define the default style\n",
       "- Estimators will overwrite some part of the style using the `sk-estimator` class\n",
       "*/\n",
       "\n",
       "/* Pipeline and ColumnTransformer style (default) */\n",
       "\n",
       "#sk-container-id-19 div.sk-toggleable {\n",
       "  /* Default theme specific background. It is overwritten whether we have a\n",
       "  specific estimator or a Pipeline/ColumnTransformer */\n",
       "  background-color: var(--sklearn-color-background);\n",
       "}\n",
       "\n",
       "/* Toggleable label */\n",
       "#sk-container-id-19 label.sk-toggleable__label {\n",
       "  cursor: pointer;\n",
       "  display: block;\n",
       "  width: 100%;\n",
       "  margin-bottom: 0;\n",
       "  padding: 0.5em;\n",
       "  box-sizing: border-box;\n",
       "  text-align: center;\n",
       "}\n",
       "\n",
       "#sk-container-id-19 label.sk-toggleable__label-arrow:before {\n",
       "  /* Arrow on the left of the label */\n",
       "  content: \"▸\";\n",
       "  float: left;\n",
       "  margin-right: 0.25em;\n",
       "  color: var(--sklearn-color-icon);\n",
       "}\n",
       "\n",
       "#sk-container-id-19 label.sk-toggleable__label-arrow:hover:before {\n",
       "  color: var(--sklearn-color-text);\n",
       "}\n",
       "\n",
       "/* Toggleable content - dropdown */\n",
       "\n",
       "#sk-container-id-19 div.sk-toggleable__content {\n",
       "  max-height: 0;\n",
       "  max-width: 0;\n",
       "  overflow: hidden;\n",
       "  text-align: left;\n",
       "  /* unfitted */\n",
       "  background-color: var(--sklearn-color-unfitted-level-0);\n",
       "}\n",
       "\n",
       "#sk-container-id-19 div.sk-toggleable__content.fitted {\n",
       "  /* fitted */\n",
       "  background-color: var(--sklearn-color-fitted-level-0);\n",
       "}\n",
       "\n",
       "#sk-container-id-19 div.sk-toggleable__content pre {\n",
       "  margin: 0.2em;\n",
       "  border-radius: 0.25em;\n",
       "  color: var(--sklearn-color-text);\n",
       "  /* unfitted */\n",
       "  background-color: var(--sklearn-color-unfitted-level-0);\n",
       "}\n",
       "\n",
       "#sk-container-id-19 div.sk-toggleable__content.fitted pre {\n",
       "  /* unfitted */\n",
       "  background-color: var(--sklearn-color-fitted-level-0);\n",
       "}\n",
       "\n",
       "#sk-container-id-19 input.sk-toggleable__control:checked~div.sk-toggleable__content {\n",
       "  /* Expand drop-down */\n",
       "  max-height: 200px;\n",
       "  max-width: 100%;\n",
       "  overflow: auto;\n",
       "}\n",
       "\n",
       "#sk-container-id-19 input.sk-toggleable__control:checked~label.sk-toggleable__label-arrow:before {\n",
       "  content: \"▾\";\n",
       "}\n",
       "\n",
       "/* Pipeline/ColumnTransformer-specific style */\n",
       "\n",
       "#sk-container-id-19 div.sk-label input.sk-toggleable__control:checked~label.sk-toggleable__label {\n",
       "  color: var(--sklearn-color-text);\n",
       "  background-color: var(--sklearn-color-unfitted-level-2);\n",
       "}\n",
       "\n",
       "#sk-container-id-19 div.sk-label.fitted input.sk-toggleable__control:checked~label.sk-toggleable__label {\n",
       "  background-color: var(--sklearn-color-fitted-level-2);\n",
       "}\n",
       "\n",
       "/* Estimator-specific style */\n",
       "\n",
       "/* Colorize estimator box */\n",
       "#sk-container-id-19 div.sk-estimator input.sk-toggleable__control:checked~label.sk-toggleable__label {\n",
       "  /* unfitted */\n",
       "  background-color: var(--sklearn-color-unfitted-level-2);\n",
       "}\n",
       "\n",
       "#sk-container-id-19 div.sk-estimator.fitted input.sk-toggleable__control:checked~label.sk-toggleable__label {\n",
       "  /* fitted */\n",
       "  background-color: var(--sklearn-color-fitted-level-2);\n",
       "}\n",
       "\n",
       "#sk-container-id-19 div.sk-label label.sk-toggleable__label,\n",
       "#sk-container-id-19 div.sk-label label {\n",
       "  /* The background is the default theme color */\n",
       "  color: var(--sklearn-color-text-on-default-background);\n",
       "}\n",
       "\n",
       "/* On hover, darken the color of the background */\n",
       "#sk-container-id-19 div.sk-label:hover label.sk-toggleable__label {\n",
       "  color: var(--sklearn-color-text);\n",
       "  background-color: var(--sklearn-color-unfitted-level-2);\n",
       "}\n",
       "\n",
       "/* Label box, darken color on hover, fitted */\n",
       "#sk-container-id-19 div.sk-label.fitted:hover label.sk-toggleable__label.fitted {\n",
       "  color: var(--sklearn-color-text);\n",
       "  background-color: var(--sklearn-color-fitted-level-2);\n",
       "}\n",
       "\n",
       "/* Estimator label */\n",
       "\n",
       "#sk-container-id-19 div.sk-label label {\n",
       "  font-family: monospace;\n",
       "  font-weight: bold;\n",
       "  display: inline-block;\n",
       "  line-height: 1.2em;\n",
       "}\n",
       "\n",
       "#sk-container-id-19 div.sk-label-container {\n",
       "  text-align: center;\n",
       "}\n",
       "\n",
       "/* Estimator-specific */\n",
       "#sk-container-id-19 div.sk-estimator {\n",
       "  font-family: monospace;\n",
       "  border: 1px dotted var(--sklearn-color-border-box);\n",
       "  border-radius: 0.25em;\n",
       "  box-sizing: border-box;\n",
       "  margin-bottom: 0.5em;\n",
       "  /* unfitted */\n",
       "  background-color: var(--sklearn-color-unfitted-level-0);\n",
       "}\n",
       "\n",
       "#sk-container-id-19 div.sk-estimator.fitted {\n",
       "  /* fitted */\n",
       "  background-color: var(--sklearn-color-fitted-level-0);\n",
       "}\n",
       "\n",
       "/* on hover */\n",
       "#sk-container-id-19 div.sk-estimator:hover {\n",
       "  /* unfitted */\n",
       "  background-color: var(--sklearn-color-unfitted-level-2);\n",
       "}\n",
       "\n",
       "#sk-container-id-19 div.sk-estimator.fitted:hover {\n",
       "  /* fitted */\n",
       "  background-color: var(--sklearn-color-fitted-level-2);\n",
       "}\n",
       "\n",
       "/* Specification for estimator info (e.g. \"i\" and \"?\") */\n",
       "\n",
       "/* Common style for \"i\" and \"?\" */\n",
       "\n",
       ".sk-estimator-doc-link,\n",
       "a:link.sk-estimator-doc-link,\n",
       "a:visited.sk-estimator-doc-link {\n",
       "  float: right;\n",
       "  font-size: smaller;\n",
       "  line-height: 1em;\n",
       "  font-family: monospace;\n",
       "  background-color: var(--sklearn-color-background);\n",
       "  border-radius: 1em;\n",
       "  height: 1em;\n",
       "  width: 1em;\n",
       "  text-decoration: none !important;\n",
       "  margin-left: 1ex;\n",
       "  /* unfitted */\n",
       "  border: var(--sklearn-color-unfitted-level-1) 1pt solid;\n",
       "  color: var(--sklearn-color-unfitted-level-1);\n",
       "}\n",
       "\n",
       ".sk-estimator-doc-link.fitted,\n",
       "a:link.sk-estimator-doc-link.fitted,\n",
       "a:visited.sk-estimator-doc-link.fitted {\n",
       "  /* fitted */\n",
       "  border: var(--sklearn-color-fitted-level-1) 1pt solid;\n",
       "  color: var(--sklearn-color-fitted-level-1);\n",
       "}\n",
       "\n",
       "/* On hover */\n",
       "div.sk-estimator:hover .sk-estimator-doc-link:hover,\n",
       ".sk-estimator-doc-link:hover,\n",
       "div.sk-label-container:hover .sk-estimator-doc-link:hover,\n",
       ".sk-estimator-doc-link:hover {\n",
       "  /* unfitted */\n",
       "  background-color: var(--sklearn-color-unfitted-level-3);\n",
       "  color: var(--sklearn-color-background);\n",
       "  text-decoration: none;\n",
       "}\n",
       "\n",
       "div.sk-estimator.fitted:hover .sk-estimator-doc-link.fitted:hover,\n",
       ".sk-estimator-doc-link.fitted:hover,\n",
       "div.sk-label-container:hover .sk-estimator-doc-link.fitted:hover,\n",
       ".sk-estimator-doc-link.fitted:hover {\n",
       "  /* fitted */\n",
       "  background-color: var(--sklearn-color-fitted-level-3);\n",
       "  color: var(--sklearn-color-background);\n",
       "  text-decoration: none;\n",
       "}\n",
       "\n",
       "/* Span, style for the box shown on hovering the info icon */\n",
       ".sk-estimator-doc-link span {\n",
       "  display: none;\n",
       "  z-index: 9999;\n",
       "  position: relative;\n",
       "  font-weight: normal;\n",
       "  right: .2ex;\n",
       "  padding: .5ex;\n",
       "  margin: .5ex;\n",
       "  width: min-content;\n",
       "  min-width: 20ex;\n",
       "  max-width: 50ex;\n",
       "  color: var(--sklearn-color-text);\n",
       "  box-shadow: 2pt 2pt 4pt #999;\n",
       "  /* unfitted */\n",
       "  background: var(--sklearn-color-unfitted-level-0);\n",
       "  border: .5pt solid var(--sklearn-color-unfitted-level-3);\n",
       "}\n",
       "\n",
       ".sk-estimator-doc-link.fitted span {\n",
       "  /* fitted */\n",
       "  background: var(--sklearn-color-fitted-level-0);\n",
       "  border: var(--sklearn-color-fitted-level-3);\n",
       "}\n",
       "\n",
       ".sk-estimator-doc-link:hover span {\n",
       "  display: block;\n",
       "}\n",
       "\n",
       "/* \"?\"-specific style due to the `<a>` HTML tag */\n",
       "\n",
       "#sk-container-id-19 a.estimator_doc_link {\n",
       "  float: right;\n",
       "  font-size: 1rem;\n",
       "  line-height: 1em;\n",
       "  font-family: monospace;\n",
       "  background-color: var(--sklearn-color-background);\n",
       "  border-radius: 1rem;\n",
       "  height: 1rem;\n",
       "  width: 1rem;\n",
       "  text-decoration: none;\n",
       "  /* unfitted */\n",
       "  color: var(--sklearn-color-unfitted-level-1);\n",
       "  border: var(--sklearn-color-unfitted-level-1) 1pt solid;\n",
       "}\n",
       "\n",
       "#sk-container-id-19 a.estimator_doc_link.fitted {\n",
       "  /* fitted */\n",
       "  border: var(--sklearn-color-fitted-level-1) 1pt solid;\n",
       "  color: var(--sklearn-color-fitted-level-1);\n",
       "}\n",
       "\n",
       "/* On hover */\n",
       "#sk-container-id-19 a.estimator_doc_link:hover {\n",
       "  /* unfitted */\n",
       "  background-color: var(--sklearn-color-unfitted-level-3);\n",
       "  color: var(--sklearn-color-background);\n",
       "  text-decoration: none;\n",
       "}\n",
       "\n",
       "#sk-container-id-19 a.estimator_doc_link.fitted:hover {\n",
       "  /* fitted */\n",
       "  background-color: var(--sklearn-color-fitted-level-3);\n",
       "}\n",
       "</style><div id=\"sk-container-id-19\" class=\"sk-top-container\"><div class=\"sk-text-repr-fallback\"><pre>SVC(cache_size=400, class_weight=&#x27;balanced&#x27;, max_iter=10000, random_state=42,\n",
       "    tol=1e-05)</pre><b>In a Jupyter environment, please rerun this cell to show the HTML representation or trust the notebook. <br />On GitHub, the HTML representation is unable to render, please try loading this page with nbviewer.org.</b></div><div class=\"sk-container\" hidden><div class=\"sk-item\"><div class=\"sk-estimator  sk-toggleable\"><input class=\"sk-toggleable__control sk-hidden--visually\" id=\"sk-estimator-id-41\" type=\"checkbox\" checked><label for=\"sk-estimator-id-41\" class=\"sk-toggleable__label  sk-toggleable__label-arrow \">&nbsp;&nbsp;SVC<a class=\"sk-estimator-doc-link \" rel=\"noreferrer\" target=\"_blank\" href=\"https://scikit-learn.org/1.4/modules/generated/sklearn.svm.SVC.html\">?<span>Documentation for SVC</span></a><span class=\"sk-estimator-doc-link \">i<span>Not fitted</span></span></label><div class=\"sk-toggleable__content \"><pre>SVC(cache_size=400, class_weight=&#x27;balanced&#x27;, max_iter=10000, random_state=42,\n",
       "    tol=1e-05)</pre></div> </div></div></div></div>"
      ],
      "text/plain": [
       "SVC(cache_size=400, class_weight='balanced', max_iter=10000, random_state=42,\n",
       "    tol=1e-05)"
      ]
     },
     "execution_count": 640,
     "metadata": {},
     "output_type": "execute_result"
    },
    {
     "data": {
      "text/plain": [
       "<bound method BaseSearchCV.fit of GridSearchCV(cv=4,\n",
       "             estimator=SVC(cache_size=400, class_weight='balanced',\n",
       "                           max_iter=10000, random_state=42, tol=1e-05),\n",
       "             n_jobs=5, param_grid={'C': [100, 500, 1000], 'kernel': ['rbf']},\n",
       "             pre_dispatch=5, scoring='roc_auc', verbose=3)>"
      ]
     },
     "execution_count": 640,
     "metadata": {},
     "output_type": "execute_result"
    },
    {
     "data": {
      "text/plain": [
       "{'estimator': {'mapping': [{'callee': 'fit', 'caller': 'fit'}], 'router': {'fit': {'sample_weight': None}, 'score': {'sample_weight': None}}}, 'scorer': {'mapping': [{'callee': 'score', 'caller': 'score'}, {'callee': 'score', 'caller': 'fit'}], 'router': {}}, 'splitter': {'mapping': [{'callee': 'split', 'caller': 'fit'}], 'router': {}}}"
      ]
     },
     "execution_count": 640,
     "metadata": {},
     "output_type": "execute_result"
    },
    {
     "name": "stdout",
     "output_type": "stream",
     "text": [
      "----------------------------------------\n",
      "vt_svm parameters: \n",
      "----------------------------------------\n"
     ]
    },
    {
     "data": {
      "text/plain": [
       "{'cv': 4,\n",
       " 'error_score': nan,\n",
       " 'estimator__C': 1.0,\n",
       " 'estimator__break_ties': False,\n",
       " 'estimator__cache_size': 400,\n",
       " 'estimator__class_weight': 'balanced',\n",
       " 'estimator__coef0': 0.0,\n",
       " 'estimator__decision_function_shape': 'ovr',\n",
       " 'estimator__degree': 3,\n",
       " 'estimator__gamma': 'scale',\n",
       " 'estimator__kernel': 'rbf',\n",
       " 'estimator__max_iter': 10000,\n",
       " 'estimator__probability': False,\n",
       " 'estimator__random_state': 42,\n",
       " 'estimator__shrinking': True,\n",
       " 'estimator__tol': 1e-05,\n",
       " 'estimator__verbose': False,\n",
       " 'estimator': SVC(cache_size=400, class_weight='balanced', max_iter=10000, random_state=42,\n",
       "     tol=1e-05),\n",
       " 'n_jobs': 5,\n",
       " 'param_grid': {'C': [100, 500, 1000], 'kernel': ['rbf']},\n",
       " 'pre_dispatch': 5,\n",
       " 'refit': True,\n",
       " 'return_train_score': False,\n",
       " 'scoring': 'roc_auc',\n",
       " 'verbose': 3}"
      ]
     },
     "execution_count": 640,
     "metadata": {},
     "output_type": "execute_result"
    }
   ],
   "source": [
    "vt_knn\n",
    "vt_knn.best_estimator_\n",
    "vt_knn.best_index_\n",
    "vt_knn.best_params_\n",
    "vt_knn.best_score_\n",
    "vt_knn.classes_\n",
    "vt_knn.cv\n",
    "vt_knn.cv_results_\n",
    "vt_knn.decision_function\n",
    "vt_knn.error_score\n",
    "vt_knn.estimator\n",
    "vt_knn.fit\n",
    "vt_knn.get_metadata_routing()\n",
    "print('-'*40)\n",
    "print(f\"vt_knn parameters: \")\n",
    "print('-'*40)\n",
    "vt_knn.get_params()\n",
    "# vt_knn.inverse_transform"
   ]
  },
  {
   "cell_type": "markdown",
   "id": "094aeb16-e594-4d6b-af22-d8ad13bba6d6",
   "metadata": {},
   "source": [
    "## Append and Save best estimator and metrics"
   ]
  },
  {
   "cell_type": "code",
   "execution_count": 93,
   "id": "ae7d4cbf-941b-4b44-96c0-0b6cfa9dbf60",
   "metadata": {
    "execution": {
     "iopub.execute_input": "2024-12-07T12:11:44.699181Z",
     "iopub.status.busy": "2024-12-07T12:11:44.698475Z",
     "iopub.status.idle": "2024-12-07T12:11:44.782837Z",
     "shell.execute_reply": "2024-12-07T12:11:44.781753Z",
     "shell.execute_reply.started": "2024-12-07T12:11:44.699137Z"
    },
    "scrolled": true
   },
   "outputs": [
    {
     "data": {
      "text/plain": [
       "[]"
      ]
     },
     "execution_count": 93,
     "metadata": {},
     "output_type": "execute_result"
    },
    {
     "data": {
      "text/plain": [
       "(0, 0)"
      ]
     },
     "execution_count": 93,
     "metadata": {},
     "output_type": "execute_result"
    },
    {
     "ename": "KeyError",
     "evalue": "'mean_test_score'",
     "output_type": "error",
     "traceback": [
      "\u001b[0;31m---------------------------------------------------------------------------\u001b[0m",
      "\u001b[0;31mKeyError\u001b[0m                                  Traceback (most recent call last)",
      "Cell \u001b[0;32mIn[93], line 3\u001b[0m\n\u001b[1;32m      1\u001b[0m Best_Estimators\n\u001b[1;32m      2\u001b[0m df_metrics\u001b[38;5;241m.\u001b[39mshape\n\u001b[0;32m----> 3\u001b[0m \u001b[43mdf_metrics\u001b[49m\u001b[38;5;241;43m.\u001b[39;49m\u001b[43msort_values\u001b[49m\u001b[43m(\u001b[49m\u001b[38;5;124;43m'\u001b[39;49m\u001b[38;5;124;43mmean_test_score\u001b[39;49m\u001b[38;5;124;43m'\u001b[39;49m\u001b[43m)\u001b[49m\n",
      "File \u001b[0;32m~/miniforge3/envs/cp311/lib/python3.11/site-packages/pandas/core/frame.py:7189\u001b[0m, in \u001b[0;36mDataFrame.sort_values\u001b[0;34m(self, by, axis, ascending, inplace, kind, na_position, ignore_index, key)\u001b[0m\n\u001b[1;32m   7183\u001b[0m     indexer \u001b[38;5;241m=\u001b[39m lexsort_indexer(\n\u001b[1;32m   7184\u001b[0m         keys, orders\u001b[38;5;241m=\u001b[39mascending, na_position\u001b[38;5;241m=\u001b[39mna_position, key\u001b[38;5;241m=\u001b[39mkey\n\u001b[1;32m   7185\u001b[0m     )\n\u001b[1;32m   7186\u001b[0m \u001b[38;5;28;01melif\u001b[39;00m \u001b[38;5;28mlen\u001b[39m(by):\n\u001b[1;32m   7187\u001b[0m     \u001b[38;5;66;03m# len(by) == 1\u001b[39;00m\n\u001b[0;32m-> 7189\u001b[0m     k \u001b[38;5;241m=\u001b[39m \u001b[38;5;28;43mself\u001b[39;49m\u001b[38;5;241;43m.\u001b[39;49m\u001b[43m_get_label_or_level_values\u001b[49m\u001b[43m(\u001b[49m\u001b[43mby\u001b[49m\u001b[43m[\u001b[49m\u001b[38;5;241;43m0\u001b[39;49m\u001b[43m]\u001b[49m\u001b[43m,\u001b[49m\u001b[43m \u001b[49m\u001b[43maxis\u001b[49m\u001b[38;5;241;43m=\u001b[39;49m\u001b[43maxis\u001b[49m\u001b[43m)\u001b[49m\n\u001b[1;32m   7191\u001b[0m     \u001b[38;5;66;03m# need to rewrap column in Series to apply key function\u001b[39;00m\n\u001b[1;32m   7192\u001b[0m     \u001b[38;5;28;01mif\u001b[39;00m key \u001b[38;5;129;01mis\u001b[39;00m \u001b[38;5;129;01mnot\u001b[39;00m \u001b[38;5;28;01mNone\u001b[39;00m:\n\u001b[1;32m   7193\u001b[0m         \u001b[38;5;66;03m# error: Incompatible types in assignment (expression has type\u001b[39;00m\n\u001b[1;32m   7194\u001b[0m         \u001b[38;5;66;03m# \"Series\", variable has type \"ndarray\")\u001b[39;00m\n",
      "File \u001b[0;32m~/miniforge3/envs/cp311/lib/python3.11/site-packages/pandas/core/generic.py:1911\u001b[0m, in \u001b[0;36mNDFrame._get_label_or_level_values\u001b[0;34m(self, key, axis)\u001b[0m\n\u001b[1;32m   1909\u001b[0m     values \u001b[38;5;241m=\u001b[39m \u001b[38;5;28mself\u001b[39m\u001b[38;5;241m.\u001b[39maxes[axis]\u001b[38;5;241m.\u001b[39mget_level_values(key)\u001b[38;5;241m.\u001b[39m_values\n\u001b[1;32m   1910\u001b[0m \u001b[38;5;28;01melse\u001b[39;00m:\n\u001b[0;32m-> 1911\u001b[0m     \u001b[38;5;28;01mraise\u001b[39;00m \u001b[38;5;167;01mKeyError\u001b[39;00m(key)\n\u001b[1;32m   1913\u001b[0m \u001b[38;5;66;03m# Check for duplicates\u001b[39;00m\n\u001b[1;32m   1914\u001b[0m \u001b[38;5;28;01mif\u001b[39;00m values\u001b[38;5;241m.\u001b[39mndim \u001b[38;5;241m>\u001b[39m \u001b[38;5;241m1\u001b[39m:\n",
      "\u001b[0;31mKeyError\u001b[0m: 'mean_test_score'"
     ]
    }
   ],
   "source": [
    "Best_Estimators\n",
    "df_metrics.shape\n",
    "df_metrics.sort_values('mean_test_score')"
   ]
  },
  {
   "cell_type": "code",
   "execution_count": 94,
   "id": "88f306e2-dcdf-4396-863f-1f3bbe01e44b",
   "metadata": {
    "execution": {
     "iopub.execute_input": "2024-12-07T12:11:48.189919Z",
     "iopub.status.busy": "2024-12-07T12:11:48.189288Z",
     "iopub.status.idle": "2024-12-07T12:11:48.233358Z",
     "shell.execute_reply": "2024-12-07T12:11:48.232546Z",
     "shell.execute_reply.started": "2024-12-07T12:11:48.189877Z"
    }
   },
   "outputs": [
    {
     "data": {
      "text/plain": [
       "(KNeighborsClassifier(p=1, weights='distance'),\n",
       " {'n_neighbors': 5, 'p': 1, 'weights': 'distance'})"
      ]
     },
     "execution_count": 94,
     "metadata": {},
     "output_type": "execute_result"
    }
   ],
   "source": [
    "vt_knn.best_estimator_, vt_knn.best_params_"
   ]
  },
  {
   "cell_type": "code",
   "execution_count": 95,
   "id": "24751e56-2977-4ed1-959d-6d0fccb20a95",
   "metadata": {
    "execution": {
     "iopub.execute_input": "2024-12-07T12:11:50.995431Z",
     "iopub.status.busy": "2024-12-07T12:11:50.994929Z",
     "iopub.status.idle": "2024-12-07T12:11:51.036154Z",
     "shell.execute_reply": "2024-12-07T12:11:51.035311Z",
     "shell.execute_reply.started": "2024-12-07T12:11:50.995388Z"
    }
   },
   "outputs": [],
   "source": [
    "df_metrics = pd.concat((df_metrics, _tmp_df))\n",
    "Best_Estimators.append((vt_knn.best_estimator_, vt_knn.best_params_))"
   ]
  },
  {
   "cell_type": "code",
   "execution_count": 96,
   "id": "39aa06a3-2f8f-4cf7-9b0c-64ea080d7d3b",
   "metadata": {
    "execution": {
     "iopub.execute_input": "2024-12-07T12:11:51.548745Z",
     "iopub.status.busy": "2024-12-07T12:11:51.548279Z",
     "iopub.status.idle": "2024-12-07T12:11:51.602949Z",
     "shell.execute_reply": "2024-12-07T12:11:51.602161Z",
     "shell.execute_reply.started": "2024-12-07T12:11:51.548706Z"
    },
    "scrolled": true
   },
   "outputs": [
    {
     "data": {
      "text/plain": [
       "[(KNeighborsClassifier(p=1, weights='distance'),\n",
       "  {'n_neighbors': 5, 'p': 1, 'weights': 'distance'})]"
      ]
     },
     "execution_count": 96,
     "metadata": {},
     "output_type": "execute_result"
    },
    {
     "data": {
      "text/plain": [
       "(6, 15)"
      ]
     },
     "execution_count": 96,
     "metadata": {},
     "output_type": "execute_result"
    },
    {
     "data": {
      "text/html": [
       "<div>\n",
       "<style scoped>\n",
       "    .dataframe tbody tr th:only-of-type {\n",
       "        vertical-align: middle;\n",
       "    }\n",
       "\n",
       "    .dataframe tbody tr th {\n",
       "        vertical-align: top;\n",
       "    }\n",
       "\n",
       "    .dataframe thead th {\n",
       "        text-align: right;\n",
       "    }\n",
       "</style>\n",
       "<table border=\"1\" class=\"dataframe\">\n",
       "  <thead>\n",
       "    <tr style=\"text-align: right;\">\n",
       "      <th></th>\n",
       "      <th>rank_test_score</th>\n",
       "      <th>mean_test_score</th>\n",
       "      <th>std_test_score</th>\n",
       "      <th>param_n_neighbors</th>\n",
       "      <th>param_p</th>\n",
       "      <th>param_weights</th>\n",
       "      <th>split0_test_score</th>\n",
       "      <th>split1_test_score</th>\n",
       "      <th>split2_test_score</th>\n",
       "      <th>split3_test_score</th>\n",
       "      <th>mean_fit_time</th>\n",
       "      <th>std_fit_time</th>\n",
       "      <th>mean_score_time</th>\n",
       "      <th>std_score_time</th>\n",
       "      <th>random_seed</th>\n",
       "    </tr>\n",
       "  </thead>\n",
       "  <tbody>\n",
       "    <tr>\n",
       "      <th>1</th>\n",
       "      <td>6</td>\n",
       "      <td>0.536144</td>\n",
       "      <td>0.001776</td>\n",
       "      <td>3</td>\n",
       "      <td>2</td>\n",
       "      <td>distance</td>\n",
       "      <td>0.538662</td>\n",
       "      <td>0.535844</td>\n",
       "      <td>0.533669</td>\n",
       "      <td>0.536401</td>\n",
       "      <td>2.966964</td>\n",
       "      <td>0.015438</td>\n",
       "      <td>224.243279</td>\n",
       "      <td>0.584475</td>\n",
       "      <td>6666</td>\n",
       "    </tr>\n",
       "    <tr>\n",
       "      <th>0</th>\n",
       "      <td>5</td>\n",
       "      <td>0.537461</td>\n",
       "      <td>0.003942</td>\n",
       "      <td>3</td>\n",
       "      <td>1</td>\n",
       "      <td>distance</td>\n",
       "      <td>0.538533</td>\n",
       "      <td>0.540830</td>\n",
       "      <td>0.530779</td>\n",
       "      <td>0.539701</td>\n",
       "      <td>3.041094</td>\n",
       "      <td>0.079198</td>\n",
       "      <td>3963.618618</td>\n",
       "      <td>10.156025</td>\n",
       "      <td>6666</td>\n",
       "    </tr>\n",
       "    <tr>\n",
       "      <th>3</th>\n",
       "      <td>4</td>\n",
       "      <td>0.541052</td>\n",
       "      <td>0.001891</td>\n",
       "      <td>4</td>\n",
       "      <td>2</td>\n",
       "      <td>distance</td>\n",
       "      <td>0.541376</td>\n",
       "      <td>0.542245</td>\n",
       "      <td>0.537882</td>\n",
       "      <td>0.542705</td>\n",
       "      <td>3.078697</td>\n",
       "      <td>0.055864</td>\n",
       "      <td>213.226424</td>\n",
       "      <td>1.566184</td>\n",
       "      <td>6666</td>\n",
       "    </tr>\n",
       "    <tr>\n",
       "      <th>2</th>\n",
       "      <td>3</td>\n",
       "      <td>0.543342</td>\n",
       "      <td>0.003558</td>\n",
       "      <td>4</td>\n",
       "      <td>1</td>\n",
       "      <td>distance</td>\n",
       "      <td>0.543645</td>\n",
       "      <td>0.546757</td>\n",
       "      <td>0.537484</td>\n",
       "      <td>0.545481</td>\n",
       "      <td>2.966111</td>\n",
       "      <td>0.019428</td>\n",
       "      <td>3928.859039</td>\n",
       "      <td>17.438901</td>\n",
       "      <td>6666</td>\n",
       "    </tr>\n",
       "    <tr>\n",
       "      <th>5</th>\n",
       "      <td>2</td>\n",
       "      <td>0.545001</td>\n",
       "      <td>0.001836</td>\n",
       "      <td>5</td>\n",
       "      <td>2</td>\n",
       "      <td>distance</td>\n",
       "      <td>0.544850</td>\n",
       "      <td>0.545808</td>\n",
       "      <td>0.542163</td>\n",
       "      <td>0.547181</td>\n",
       "      <td>3.166515</td>\n",
       "      <td>0.516222</td>\n",
       "      <td>214.004052</td>\n",
       "      <td>0.578412</td>\n",
       "      <td>6666</td>\n",
       "    </tr>\n",
       "    <tr>\n",
       "      <th>4</th>\n",
       "      <td>1</td>\n",
       "      <td>0.546895</td>\n",
       "      <td>0.003721</td>\n",
       "      <td>5</td>\n",
       "      <td>1</td>\n",
       "      <td>distance</td>\n",
       "      <td>0.546904</td>\n",
       "      <td>0.549513</td>\n",
       "      <td>0.540833</td>\n",
       "      <td>0.550330</td>\n",
       "      <td>2.954861</td>\n",
       "      <td>0.076701</td>\n",
       "      <td>3903.043584</td>\n",
       "      <td>8.805527</td>\n",
       "      <td>6666</td>\n",
       "    </tr>\n",
       "  </tbody>\n",
       "</table>\n",
       "</div>"
      ],
      "text/plain": [
       "   rank_test_score  mean_test_score  std_test_score param_n_neighbors param_p param_weights  split0_test_score  split1_test_score  \\\n",
       "1                6         0.536144        0.001776                 3       2      distance           0.538662           0.535844   \n",
       "0                5         0.537461        0.003942                 3       1      distance           0.538533           0.540830   \n",
       "3                4         0.541052        0.001891                 4       2      distance           0.541376           0.542245   \n",
       "2                3         0.543342        0.003558                 4       1      distance           0.543645           0.546757   \n",
       "5                2         0.545001        0.001836                 5       2      distance           0.544850           0.545808   \n",
       "4                1         0.546895        0.003721                 5       1      distance           0.546904           0.549513   \n",
       "\n",
       "   split2_test_score  split3_test_score  mean_fit_time  std_fit_time  mean_score_time  std_score_time  random_seed  \n",
       "1           0.533669           0.536401       2.966964      0.015438       224.243279        0.584475         6666  \n",
       "0           0.530779           0.539701       3.041094      0.079198      3963.618618       10.156025         6666  \n",
       "3           0.537882           0.542705       3.078697      0.055864       213.226424        1.566184         6666  \n",
       "2           0.537484           0.545481       2.966111      0.019428      3928.859039       17.438901         6666  \n",
       "5           0.542163           0.547181       3.166515      0.516222       214.004052        0.578412         6666  \n",
       "4           0.540833           0.550330       2.954861      0.076701      3903.043584        8.805527         6666  "
      ]
     },
     "execution_count": 96,
     "metadata": {},
     "output_type": "execute_result"
    }
   ],
   "source": [
    "Best_Estimators\n",
    "df_metrics.shape\n",
    "df_metrics.sort_values('mean_test_score')"
   ]
  },
  {
   "cell_type": "markdown",
   "id": "c4b31bfa-fbbc-4e94-ae80-95d294033c22",
   "metadata": {},
   "source": [
    "# Persist Model"
   ]
  },
  {
   "cell_type": "code",
   "execution_count": 97,
   "id": "4daf1c90-2273-465d-b476-8d6a31e02199",
   "metadata": {
    "execution": {
     "iopub.execute_input": "2024-12-07T12:11:56.253530Z",
     "iopub.status.busy": "2024-12-07T12:11:56.253032Z",
     "iopub.status.idle": "2024-12-07T12:11:56.297215Z",
     "shell.execute_reply": "2024-12-07T12:11:56.296454Z",
     "shell.execute_reply.started": "2024-12-07T12:11:56.253488Z"
    }
   },
   "outputs": [
    {
     "data": {
      "text/plain": [
       "'TPSA_KNN_profiles_20241207_0700.pkl'"
      ]
     },
     "execution_count": 97,
     "metadata": {},
     "output_type": "execute_result"
    },
    {
     "data": {
      "text/plain": [
       "'TPSA_KNN_profiles_20241207_0700_metrics.csv'"
      ]
     },
     "execution_count": 97,
     "metadata": {},
     "output_type": "execute_result"
    },
    {
     "data": {
      "text/plain": [
       "'/home/kevin/WSL-shared/cellpainting/cj-datasets/saved_tpsa_models/profile_models'"
      ]
     },
     "execution_count": 97,
     "metadata": {},
     "output_type": "execute_result"
    }
   ],
   "source": [
    "ESTIMATORS_FILENAME = f'TPSA_KNN_profiles_20241207_0700.pkl'\n",
    "ESTIMATORS_FILENAME\n",
    "METRICS_FILENAME = f'TPSA_KNN_profiles_20241207_0700_metrics.csv'\n",
    "METRICS_FILENAME\n",
    "MODEL_SAVE_PATH"
   ]
  },
  {
   "cell_type": "code",
   "execution_count": 98,
   "id": "1093a7f7-51bf-4b3b-80e0-9e97b3d8b656",
   "metadata": {
    "execution": {
     "iopub.execute_input": "2024-12-07T12:11:57.085220Z",
     "iopub.status.busy": "2024-12-07T12:11:57.084757Z",
     "iopub.status.idle": "2024-12-07T12:12:17.380519Z",
     "shell.execute_reply": "2024-12-07T12:12:17.379413Z",
     "shell.execute_reply.started": "2024-12-07T12:11:57.085180Z"
    }
   },
   "outputs": [
    {
     "name": "stdout",
     "output_type": "stream",
     "text": [
      " save_to_pickle(): save data to /home/kevin/WSL-shared/cellpainting/cj-datasets/saved_tpsa_models/profile_models/TPSA_KNN_profiles_20241207_0700.pkl\n"
     ]
    }
   ],
   "source": [
    "save_to_pickle(Best_Estimators, MODEL_SAVE_PATH, ESTIMATORS_FILENAME, verbose = True)"
   ]
  },
  {
   "cell_type": "code",
   "execution_count": 99,
   "id": "a2d28893-d291-4f8d-99d4-e048b6ea5f90",
   "metadata": {
    "execution": {
     "iopub.execute_input": "2024-12-07T12:12:21.115642Z",
     "iopub.status.busy": "2024-12-07T12:12:21.115132Z",
     "iopub.status.idle": "2024-12-07T12:12:21.157925Z",
     "shell.execute_reply": "2024-12-07T12:12:21.157188Z",
     "shell.execute_reply.started": "2024-12-07T12:12:21.115599Z"
    }
   },
   "outputs": [],
   "source": [
    "df_metrics.to_csv(os.path.join(MODEL_SAVE_PATH,METRICS_FILENAME))"
   ]
  },
  {
   "cell_type": "markdown",
   "id": "227c0ea1-c2e3-4d6b-a582-ad7e591392c9",
   "metadata": {},
   "source": [
    "### Load Model"
   ]
  },
  {
   "cell_type": "code",
   "execution_count": 17,
   "id": "c35ed283-c0e1-4c49-bee7-6ffb321beb20",
   "metadata": {
    "execution": {
     "iopub.execute_input": "2024-12-09T09:58:52.387366Z",
     "iopub.status.busy": "2024-12-09T09:58:52.386814Z",
     "iopub.status.idle": "2024-12-09T09:58:52.431971Z",
     "shell.execute_reply": "2024-12-09T09:58:52.431246Z",
     "shell.execute_reply.started": "2024-12-09T09:58:52.387324Z"
    }
   },
   "outputs": [
    {
     "data": {
      "text/plain": [
       "'TPSA_KNN_profiles_20241207_0700.pkl'"
      ]
     },
     "execution_count": 17,
     "metadata": {},
     "output_type": "execute_result"
    },
    {
     "data": {
      "text/plain": [
       "'TPSA_KNN_profiles_20241207_0700_metrics.csv'"
      ]
     },
     "execution_count": 17,
     "metadata": {},
     "output_type": "execute_result"
    },
    {
     "data": {
      "text/plain": [
       "'/home/kevin/WSL-shared/cellpainting/cj-datasets/saved_tpsa_models/profile_models'"
      ]
     },
     "execution_count": 17,
     "metadata": {},
     "output_type": "execute_result"
    }
   ],
   "source": [
    "ESTIMATORS_FILENAME = f'TPSA_KNN_profiles_20241207_0700.pkl'\n",
    "ESTIMATORS_FILENAME\n",
    "METRICS_FILENAME = f'TPSA_KNN_profiles_20241207_0700_metrics.csv'\n",
    "METRICS_FILENAME\n",
    "MODEL_SAVE_PATH"
   ]
  },
  {
   "cell_type": "code",
   "execution_count": 71,
   "id": "87e458bd-a71a-49bb-a012-18379feb6ee9",
   "metadata": {
    "execution": {
     "iopub.execute_input": "2024-12-07T12:06:17.446450Z",
     "iopub.status.busy": "2024-12-07T12:06:17.446032Z",
     "iopub.status.idle": "2024-12-07T12:06:19.579603Z",
     "shell.execute_reply": "2024-12-07T12:06:19.578883Z",
     "shell.execute_reply.started": "2024-12-07T12:06:17.446416Z"
    }
   },
   "outputs": [
    {
     "data": {
      "text/plain": [
       "1"
      ]
     },
     "execution_count": 71,
     "metadata": {},
     "output_type": "execute_result"
    }
   ],
   "source": [
    "Best_Estimators = load_from_pickle(MODEL_SAVE_PATH, ESTIMATORS_FILENAME)\n",
    "len(Best_Estimators)"
   ]
  },
  {
   "cell_type": "code",
   "execution_count": 448,
   "id": "8c41725e-4254-4d92-92ab-6edf1fe87276",
   "metadata": {
    "execution": {
     "iopub.execute_input": "2024-08-03T20:28:39.741723Z",
     "iopub.status.busy": "2024-08-03T20:28:39.741133Z",
     "iopub.status.idle": "2024-08-03T20:28:39.788662Z",
     "shell.execute_reply": "2024-08-03T20:28:39.787467Z",
     "shell.execute_reply.started": "2024-08-03T20:28:39.741680Z"
    }
   },
   "outputs": [
    {
     "data": {
      "text/html": [
       "<style>#sk-container-id-16 {\n",
       "  /* Definition of color scheme common for light and dark mode */\n",
       "  --sklearn-color-text: black;\n",
       "  --sklearn-color-line: gray;\n",
       "  /* Definition of color scheme for unfitted estimators */\n",
       "  --sklearn-color-unfitted-level-0: #fff5e6;\n",
       "  --sklearn-color-unfitted-level-1: #f6e4d2;\n",
       "  --sklearn-color-unfitted-level-2: #ffe0b3;\n",
       "  --sklearn-color-unfitted-level-3: chocolate;\n",
       "  /* Definition of color scheme for fitted estimators */\n",
       "  --sklearn-color-fitted-level-0: #f0f8ff;\n",
       "  --sklearn-color-fitted-level-1: #d4ebff;\n",
       "  --sklearn-color-fitted-level-2: #b3dbfd;\n",
       "  --sklearn-color-fitted-level-3: cornflowerblue;\n",
       "\n",
       "  /* Specific color for light theme */\n",
       "  --sklearn-color-text-on-default-background: var(--sg-text-color, var(--theme-code-foreground, var(--jp-content-font-color1, black)));\n",
       "  --sklearn-color-background: var(--sg-background-color, var(--theme-background, var(--jp-layout-color0, white)));\n",
       "  --sklearn-color-border-box: var(--sg-text-color, var(--theme-code-foreground, var(--jp-content-font-color1, black)));\n",
       "  --sklearn-color-icon: #696969;\n",
       "\n",
       "  @media (prefers-color-scheme: dark) {\n",
       "    /* Redefinition of color scheme for dark theme */\n",
       "    --sklearn-color-text-on-default-background: var(--sg-text-color, var(--theme-code-foreground, var(--jp-content-font-color1, white)));\n",
       "    --sklearn-color-background: var(--sg-background-color, var(--theme-background, var(--jp-layout-color0, #111)));\n",
       "    --sklearn-color-border-box: var(--sg-text-color, var(--theme-code-foreground, var(--jp-content-font-color1, white)));\n",
       "    --sklearn-color-icon: #878787;\n",
       "  }\n",
       "}\n",
       "\n",
       "#sk-container-id-16 {\n",
       "  color: var(--sklearn-color-text);\n",
       "}\n",
       "\n",
       "#sk-container-id-16 pre {\n",
       "  padding: 0;\n",
       "}\n",
       "\n",
       "#sk-container-id-16 input.sk-hidden--visually {\n",
       "  border: 0;\n",
       "  clip: rect(1px 1px 1px 1px);\n",
       "  clip: rect(1px, 1px, 1px, 1px);\n",
       "  height: 1px;\n",
       "  margin: -1px;\n",
       "  overflow: hidden;\n",
       "  padding: 0;\n",
       "  position: absolute;\n",
       "  width: 1px;\n",
       "}\n",
       "\n",
       "#sk-container-id-16 div.sk-dashed-wrapped {\n",
       "  border: 1px dashed var(--sklearn-color-line);\n",
       "  margin: 0 0.4em 0.5em 0.4em;\n",
       "  box-sizing: border-box;\n",
       "  padding-bottom: 0.4em;\n",
       "  background-color: var(--sklearn-color-background);\n",
       "}\n",
       "\n",
       "#sk-container-id-16 div.sk-container {\n",
       "  /* jupyter's `normalize.less` sets `[hidden] { display: none; }`\n",
       "     but bootstrap.min.css set `[hidden] { display: none !important; }`\n",
       "     so we also need the `!important` here to be able to override the\n",
       "     default hidden behavior on the sphinx rendered scikit-learn.org.\n",
       "     See: https://github.com/scikit-learn/scikit-learn/issues/21755 */\n",
       "  display: inline-block !important;\n",
       "  position: relative;\n",
       "}\n",
       "\n",
       "#sk-container-id-16 div.sk-text-repr-fallback {\n",
       "  display: none;\n",
       "}\n",
       "\n",
       "div.sk-parallel-item,\n",
       "div.sk-serial,\n",
       "div.sk-item {\n",
       "  /* draw centered vertical line to link estimators */\n",
       "  background-image: linear-gradient(var(--sklearn-color-text-on-default-background), var(--sklearn-color-text-on-default-background));\n",
       "  background-size: 2px 100%;\n",
       "  background-repeat: no-repeat;\n",
       "  background-position: center center;\n",
       "}\n",
       "\n",
       "/* Parallel-specific style estimator block */\n",
       "\n",
       "#sk-container-id-16 div.sk-parallel-item::after {\n",
       "  content: \"\";\n",
       "  width: 100%;\n",
       "  border-bottom: 2px solid var(--sklearn-color-text-on-default-background);\n",
       "  flex-grow: 1;\n",
       "}\n",
       "\n",
       "#sk-container-id-16 div.sk-parallel {\n",
       "  display: flex;\n",
       "  align-items: stretch;\n",
       "  justify-content: center;\n",
       "  background-color: var(--sklearn-color-background);\n",
       "  position: relative;\n",
       "}\n",
       "\n",
       "#sk-container-id-16 div.sk-parallel-item {\n",
       "  display: flex;\n",
       "  flex-direction: column;\n",
       "}\n",
       "\n",
       "#sk-container-id-16 div.sk-parallel-item:first-child::after {\n",
       "  align-self: flex-end;\n",
       "  width: 50%;\n",
       "}\n",
       "\n",
       "#sk-container-id-16 div.sk-parallel-item:last-child::after {\n",
       "  align-self: flex-start;\n",
       "  width: 50%;\n",
       "}\n",
       "\n",
       "#sk-container-id-16 div.sk-parallel-item:only-child::after {\n",
       "  width: 0;\n",
       "}\n",
       "\n",
       "/* Serial-specific style estimator block */\n",
       "\n",
       "#sk-container-id-16 div.sk-serial {\n",
       "  display: flex;\n",
       "  flex-direction: column;\n",
       "  align-items: center;\n",
       "  background-color: var(--sklearn-color-background);\n",
       "  padding-right: 1em;\n",
       "  padding-left: 1em;\n",
       "}\n",
       "\n",
       "\n",
       "/* Toggleable style: style used for estimator/Pipeline/ColumnTransformer box that is\n",
       "clickable and can be expanded/collapsed.\n",
       "- Pipeline and ColumnTransformer use this feature and define the default style\n",
       "- Estimators will overwrite some part of the style using the `sk-estimator` class\n",
       "*/\n",
       "\n",
       "/* Pipeline and ColumnTransformer style (default) */\n",
       "\n",
       "#sk-container-id-16 div.sk-toggleable {\n",
       "  /* Default theme specific background. It is overwritten whether we have a\n",
       "  specific estimator or a Pipeline/ColumnTransformer */\n",
       "  background-color: var(--sklearn-color-background);\n",
       "}\n",
       "\n",
       "/* Toggleable label */\n",
       "#sk-container-id-16 label.sk-toggleable__label {\n",
       "  cursor: pointer;\n",
       "  display: block;\n",
       "  width: 100%;\n",
       "  margin-bottom: 0;\n",
       "  padding: 0.5em;\n",
       "  box-sizing: border-box;\n",
       "  text-align: center;\n",
       "}\n",
       "\n",
       "#sk-container-id-16 label.sk-toggleable__label-arrow:before {\n",
       "  /* Arrow on the left of the label */\n",
       "  content: \"▸\";\n",
       "  float: left;\n",
       "  margin-right: 0.25em;\n",
       "  color: var(--sklearn-color-icon);\n",
       "}\n",
       "\n",
       "#sk-container-id-16 label.sk-toggleable__label-arrow:hover:before {\n",
       "  color: var(--sklearn-color-text);\n",
       "}\n",
       "\n",
       "/* Toggleable content - dropdown */\n",
       "\n",
       "#sk-container-id-16 div.sk-toggleable__content {\n",
       "  max-height: 0;\n",
       "  max-width: 0;\n",
       "  overflow: hidden;\n",
       "  text-align: left;\n",
       "  /* unfitted */\n",
       "  background-color: var(--sklearn-color-unfitted-level-0);\n",
       "}\n",
       "\n",
       "#sk-container-id-16 div.sk-toggleable__content.fitted {\n",
       "  /* fitted */\n",
       "  background-color: var(--sklearn-color-fitted-level-0);\n",
       "}\n",
       "\n",
       "#sk-container-id-16 div.sk-toggleable__content pre {\n",
       "  margin: 0.2em;\n",
       "  border-radius: 0.25em;\n",
       "  color: var(--sklearn-color-text);\n",
       "  /* unfitted */\n",
       "  background-color: var(--sklearn-color-unfitted-level-0);\n",
       "}\n",
       "\n",
       "#sk-container-id-16 div.sk-toggleable__content.fitted pre {\n",
       "  /* unfitted */\n",
       "  background-color: var(--sklearn-color-fitted-level-0);\n",
       "}\n",
       "\n",
       "#sk-container-id-16 input.sk-toggleable__control:checked~div.sk-toggleable__content {\n",
       "  /* Expand drop-down */\n",
       "  max-height: 200px;\n",
       "  max-width: 100%;\n",
       "  overflow: auto;\n",
       "}\n",
       "\n",
       "#sk-container-id-16 input.sk-toggleable__control:checked~label.sk-toggleable__label-arrow:before {\n",
       "  content: \"▾\";\n",
       "}\n",
       "\n",
       "/* Pipeline/ColumnTransformer-specific style */\n",
       "\n",
       "#sk-container-id-16 div.sk-label input.sk-toggleable__control:checked~label.sk-toggleable__label {\n",
       "  color: var(--sklearn-color-text);\n",
       "  background-color: var(--sklearn-color-unfitted-level-2);\n",
       "}\n",
       "\n",
       "#sk-container-id-16 div.sk-label.fitted input.sk-toggleable__control:checked~label.sk-toggleable__label {\n",
       "  background-color: var(--sklearn-color-fitted-level-2);\n",
       "}\n",
       "\n",
       "/* Estimator-specific style */\n",
       "\n",
       "/* Colorize estimator box */\n",
       "#sk-container-id-16 div.sk-estimator input.sk-toggleable__control:checked~label.sk-toggleable__label {\n",
       "  /* unfitted */\n",
       "  background-color: var(--sklearn-color-unfitted-level-2);\n",
       "}\n",
       "\n",
       "#sk-container-id-16 div.sk-estimator.fitted input.sk-toggleable__control:checked~label.sk-toggleable__label {\n",
       "  /* fitted */\n",
       "  background-color: var(--sklearn-color-fitted-level-2);\n",
       "}\n",
       "\n",
       "#sk-container-id-16 div.sk-label label.sk-toggleable__label,\n",
       "#sk-container-id-16 div.sk-label label {\n",
       "  /* The background is the default theme color */\n",
       "  color: var(--sklearn-color-text-on-default-background);\n",
       "}\n",
       "\n",
       "/* On hover, darken the color of the background */\n",
       "#sk-container-id-16 div.sk-label:hover label.sk-toggleable__label {\n",
       "  color: var(--sklearn-color-text);\n",
       "  background-color: var(--sklearn-color-unfitted-level-2);\n",
       "}\n",
       "\n",
       "/* Label box, darken color on hover, fitted */\n",
       "#sk-container-id-16 div.sk-label.fitted:hover label.sk-toggleable__label.fitted {\n",
       "  color: var(--sklearn-color-text);\n",
       "  background-color: var(--sklearn-color-fitted-level-2);\n",
       "}\n",
       "\n",
       "/* Estimator label */\n",
       "\n",
       "#sk-container-id-16 div.sk-label label {\n",
       "  font-family: monospace;\n",
       "  font-weight: bold;\n",
       "  display: inline-block;\n",
       "  line-height: 1.2em;\n",
       "}\n",
       "\n",
       "#sk-container-id-16 div.sk-label-container {\n",
       "  text-align: center;\n",
       "}\n",
       "\n",
       "/* Estimator-specific */\n",
       "#sk-container-id-16 div.sk-estimator {\n",
       "  font-family: monospace;\n",
       "  border: 1px dotted var(--sklearn-color-border-box);\n",
       "  border-radius: 0.25em;\n",
       "  box-sizing: border-box;\n",
       "  margin-bottom: 0.5em;\n",
       "  /* unfitted */\n",
       "  background-color: var(--sklearn-color-unfitted-level-0);\n",
       "}\n",
       "\n",
       "#sk-container-id-16 div.sk-estimator.fitted {\n",
       "  /* fitted */\n",
       "  background-color: var(--sklearn-color-fitted-level-0);\n",
       "}\n",
       "\n",
       "/* on hover */\n",
       "#sk-container-id-16 div.sk-estimator:hover {\n",
       "  /* unfitted */\n",
       "  background-color: var(--sklearn-color-unfitted-level-2);\n",
       "}\n",
       "\n",
       "#sk-container-id-16 div.sk-estimator.fitted:hover {\n",
       "  /* fitted */\n",
       "  background-color: var(--sklearn-color-fitted-level-2);\n",
       "}\n",
       "\n",
       "/* Specification for estimator info (e.g. \"i\" and \"?\") */\n",
       "\n",
       "/* Common style for \"i\" and \"?\" */\n",
       "\n",
       ".sk-estimator-doc-link,\n",
       "a:link.sk-estimator-doc-link,\n",
       "a:visited.sk-estimator-doc-link {\n",
       "  float: right;\n",
       "  font-size: smaller;\n",
       "  line-height: 1em;\n",
       "  font-family: monospace;\n",
       "  background-color: var(--sklearn-color-background);\n",
       "  border-radius: 1em;\n",
       "  height: 1em;\n",
       "  width: 1em;\n",
       "  text-decoration: none !important;\n",
       "  margin-left: 1ex;\n",
       "  /* unfitted */\n",
       "  border: var(--sklearn-color-unfitted-level-1) 1pt solid;\n",
       "  color: var(--sklearn-color-unfitted-level-1);\n",
       "}\n",
       "\n",
       ".sk-estimator-doc-link.fitted,\n",
       "a:link.sk-estimator-doc-link.fitted,\n",
       "a:visited.sk-estimator-doc-link.fitted {\n",
       "  /* fitted */\n",
       "  border: var(--sklearn-color-fitted-level-1) 1pt solid;\n",
       "  color: var(--sklearn-color-fitted-level-1);\n",
       "}\n",
       "\n",
       "/* On hover */\n",
       "div.sk-estimator:hover .sk-estimator-doc-link:hover,\n",
       ".sk-estimator-doc-link:hover,\n",
       "div.sk-label-container:hover .sk-estimator-doc-link:hover,\n",
       ".sk-estimator-doc-link:hover {\n",
       "  /* unfitted */\n",
       "  background-color: var(--sklearn-color-unfitted-level-3);\n",
       "  color: var(--sklearn-color-background);\n",
       "  text-decoration: none;\n",
       "}\n",
       "\n",
       "div.sk-estimator.fitted:hover .sk-estimator-doc-link.fitted:hover,\n",
       ".sk-estimator-doc-link.fitted:hover,\n",
       "div.sk-label-container:hover .sk-estimator-doc-link.fitted:hover,\n",
       ".sk-estimator-doc-link.fitted:hover {\n",
       "  /* fitted */\n",
       "  background-color: var(--sklearn-color-fitted-level-3);\n",
       "  color: var(--sklearn-color-background);\n",
       "  text-decoration: none;\n",
       "}\n",
       "\n",
       "/* Span, style for the box shown on hovering the info icon */\n",
       ".sk-estimator-doc-link span {\n",
       "  display: none;\n",
       "  z-index: 9999;\n",
       "  position: relative;\n",
       "  font-weight: normal;\n",
       "  right: .2ex;\n",
       "  padding: .5ex;\n",
       "  margin: .5ex;\n",
       "  width: min-content;\n",
       "  min-width: 20ex;\n",
       "  max-width: 50ex;\n",
       "  color: var(--sklearn-color-text);\n",
       "  box-shadow: 2pt 2pt 4pt #999;\n",
       "  /* unfitted */\n",
       "  background: var(--sklearn-color-unfitted-level-0);\n",
       "  border: .5pt solid var(--sklearn-color-unfitted-level-3);\n",
       "}\n",
       "\n",
       ".sk-estimator-doc-link.fitted span {\n",
       "  /* fitted */\n",
       "  background: var(--sklearn-color-fitted-level-0);\n",
       "  border: var(--sklearn-color-fitted-level-3);\n",
       "}\n",
       "\n",
       ".sk-estimator-doc-link:hover span {\n",
       "  display: block;\n",
       "}\n",
       "\n",
       "/* \"?\"-specific style due to the `<a>` HTML tag */\n",
       "\n",
       "#sk-container-id-16 a.estimator_doc_link {\n",
       "  float: right;\n",
       "  font-size: 1rem;\n",
       "  line-height: 1em;\n",
       "  font-family: monospace;\n",
       "  background-color: var(--sklearn-color-background);\n",
       "  border-radius: 1rem;\n",
       "  height: 1rem;\n",
       "  width: 1rem;\n",
       "  text-decoration: none;\n",
       "  /* unfitted */\n",
       "  color: var(--sklearn-color-unfitted-level-1);\n",
       "  border: var(--sklearn-color-unfitted-level-1) 1pt solid;\n",
       "}\n",
       "\n",
       "#sk-container-id-16 a.estimator_doc_link.fitted {\n",
       "  /* fitted */\n",
       "  border: var(--sklearn-color-fitted-level-1) 1pt solid;\n",
       "  color: var(--sklearn-color-fitted-level-1);\n",
       "}\n",
       "\n",
       "/* On hover */\n",
       "#sk-container-id-16 a.estimator_doc_link:hover {\n",
       "  /* unfitted */\n",
       "  background-color: var(--sklearn-color-unfitted-level-3);\n",
       "  color: var(--sklearn-color-background);\n",
       "  text-decoration: none;\n",
       "}\n",
       "\n",
       "#sk-container-id-16 a.estimator_doc_link.fitted:hover {\n",
       "  /* fitted */\n",
       "  background-color: var(--sklearn-color-fitted-level-3);\n",
       "}\n",
       "</style><div id=\"sk-container-id-16\" class=\"sk-top-container\"><div class=\"sk-text-repr-fallback\"><pre>GridSearchCV(cv=4,\n",
       "             estimator=SVC(cache_size=400, class_weight=&#x27;balanced&#x27;,\n",
       "                           max_iter=10000, random_state=42, tol=1e-05),\n",
       "             n_jobs=5,\n",
       "             param_grid={&#x27;C&#x27;: [0.1, 1, 10, 100, 200], &#x27;kernel&#x27;: [&#x27;rbf&#x27;]},\n",
       "             pre_dispatch=5, scoring=&#x27;roc_auc&#x27;, verbose=3)</pre><b>In a Jupyter environment, please rerun this cell to show the HTML representation or trust the notebook. <br />On GitHub, the HTML representation is unable to render, please try loading this page with nbviewer.org.</b></div><div class=\"sk-container\" hidden><div class=\"sk-item sk-dashed-wrapped\"><div class=\"sk-label-container\"><div class=\"sk-label fitted sk-toggleable\"><input class=\"sk-toggleable__control sk-hidden--visually\" id=\"sk-estimator-id-34\" type=\"checkbox\" ><label for=\"sk-estimator-id-34\" class=\"sk-toggleable__label fitted sk-toggleable__label-arrow fitted\">&nbsp;&nbsp;GridSearchCV<a class=\"sk-estimator-doc-link fitted\" rel=\"noreferrer\" target=\"_blank\" href=\"https://scikit-learn.org/1.4/modules/generated/sklearn.model_selection.GridSearchCV.html\">?<span>Documentation for GridSearchCV</span></a><span class=\"sk-estimator-doc-link fitted\">i<span>Fitted</span></span></label><div class=\"sk-toggleable__content fitted\"><pre>GridSearchCV(cv=4,\n",
       "             estimator=SVC(cache_size=400, class_weight=&#x27;balanced&#x27;,\n",
       "                           max_iter=10000, random_state=42, tol=1e-05),\n",
       "             n_jobs=5,\n",
       "             param_grid={&#x27;C&#x27;: [0.1, 1, 10, 100, 200], &#x27;kernel&#x27;: [&#x27;rbf&#x27;]},\n",
       "             pre_dispatch=5, scoring=&#x27;roc_auc&#x27;, verbose=3)</pre></div> </div></div><div class=\"sk-parallel\"><div class=\"sk-parallel-item\"><div class=\"sk-item\"><div class=\"sk-label-container\"><div class=\"sk-label fitted sk-toggleable\"><input class=\"sk-toggleable__control sk-hidden--visually\" id=\"sk-estimator-id-35\" type=\"checkbox\" ><label for=\"sk-estimator-id-35\" class=\"sk-toggleable__label fitted sk-toggleable__label-arrow fitted\">estimator: SVC</label><div class=\"sk-toggleable__content fitted\"><pre>SVC(cache_size=400, class_weight=&#x27;balanced&#x27;, max_iter=10000, random_state=42,\n",
       "    tol=1e-05)</pre></div> </div></div><div class=\"sk-serial\"><div class=\"sk-item\"><div class=\"sk-estimator fitted sk-toggleable\"><input class=\"sk-toggleable__control sk-hidden--visually\" id=\"sk-estimator-id-36\" type=\"checkbox\" ><label for=\"sk-estimator-id-36\" class=\"sk-toggleable__label fitted sk-toggleable__label-arrow fitted\">&nbsp;SVC<a class=\"sk-estimator-doc-link fitted\" rel=\"noreferrer\" target=\"_blank\" href=\"https://scikit-learn.org/1.4/modules/generated/sklearn.svm.SVC.html\">?<span>Documentation for SVC</span></a></label><div class=\"sk-toggleable__content fitted\"><pre>SVC(cache_size=400, class_weight=&#x27;balanced&#x27;, max_iter=10000, random_state=42,\n",
       "    tol=1e-05)</pre></div> </div></div></div></div></div></div></div></div></div>"
      ],
      "text/plain": [
       "GridSearchCV(cv=4,\n",
       "             estimator=SVC(cache_size=400, class_weight='balanced',\n",
       "                           max_iter=10000, random_state=42, tol=1e-05),\n",
       "             n_jobs=5,\n",
       "             param_grid={'C': [0.1, 1, 10, 100, 200], 'kernel': ['rbf']},\n",
       "             pre_dispatch=5, scoring='roc_auc', verbose=3)"
      ]
     },
     "execution_count": 448,
     "metadata": {},
     "output_type": "execute_result"
    },
    {
     "name": "stdout",
     "output_type": "stream",
     "text": [
      "parameters   :\n",
      "\n",
      "best_estimator_  :   SVC(C=0.1, cache_size=400, class_weight='balanced', max_iter=10000,\n",
      "    random_state=42, tol=1e-05)\n"
     ]
    }
   ],
   "source": [
    "Best_Estimators\n",
    "\n",
    "print(f\"parameters   :\")\n",
    "# pp.pprint(svm_estimators.get_params())\n",
    "print()\n",
    "print(f\"best_estimator_  :   {svm_estimators.best_estimator_}\")\n",
    "# print(f\"best_index_  :       {svm_estimators.best_index_}\")\n",
    "# print(f\"best_params_ :       {svm_estimators.best_params_}\")\n",
    "# print(f\"best_score_  :       {svm_estimators.best_score_}\")\n",
    "# print(f\"classes_     :       {svm_estimators.classes_}\")\n",
    "# print(f\"cv           :       {svm_estimators.cv}\")\n",
    "# print()\n",
    "# print(f\"cv_results_  :       {svm_estimators.cv_results_}\")\n",
    "# print()\n",
    "# print(f\"error_score  :       {svm_estimators.error_score}\")\n",
    "# print(f\"estimator    :       {svm_estimators.estimator}\")"
   ]
  },
  {
   "cell_type": "code",
   "execution_count": 18,
   "id": "4f4a2ee8-6484-441b-a43c-2eae8f3c7053",
   "metadata": {
    "execution": {
     "iopub.execute_input": "2024-12-09T09:59:25.113423Z",
     "iopub.status.busy": "2024-12-09T09:59:25.112968Z",
     "iopub.status.idle": "2024-12-09T09:59:25.166858Z",
     "shell.execute_reply": "2024-12-09T09:59:25.165835Z",
     "shell.execute_reply.started": "2024-12-09T09:59:25.113392Z"
    }
   },
   "outputs": [],
   "source": [
    "df_metrics = pd.read_csv(os.path.join(MODEL_SAVE_PATH,METRICS_FILENAME))"
   ]
  },
  {
   "cell_type": "code",
   "execution_count": 19,
   "id": "ca9fb230-a88d-4d6d-8bea-a6869425b683",
   "metadata": {
    "execution": {
     "iopub.execute_input": "2024-12-09T09:59:31.682230Z",
     "iopub.status.busy": "2024-12-09T09:59:31.681811Z",
     "iopub.status.idle": "2024-12-09T09:59:31.753954Z",
     "shell.execute_reply": "2024-12-09T09:59:31.752853Z",
     "shell.execute_reply.started": "2024-12-09T09:59:31.682197Z"
    }
   },
   "outputs": [
    {
     "data": {
      "text/html": [
       "<div>\n",
       "<style scoped>\n",
       "    .dataframe tbody tr th:only-of-type {\n",
       "        vertical-align: middle;\n",
       "    }\n",
       "\n",
       "    .dataframe tbody tr th {\n",
       "        vertical-align: top;\n",
       "    }\n",
       "\n",
       "    .dataframe thead th {\n",
       "        text-align: right;\n",
       "    }\n",
       "</style>\n",
       "<table border=\"1\" class=\"dataframe\">\n",
       "  <thead>\n",
       "    <tr style=\"text-align: right;\">\n",
       "      <th></th>\n",
       "      <th>Unnamed: 0</th>\n",
       "      <th>rank_test_score</th>\n",
       "      <th>mean_test_score</th>\n",
       "      <th>std_test_score</th>\n",
       "      <th>param_n_neighbors</th>\n",
       "      <th>param_p</th>\n",
       "      <th>param_weights</th>\n",
       "      <th>split0_test_score</th>\n",
       "      <th>split1_test_score</th>\n",
       "      <th>split2_test_score</th>\n",
       "      <th>split3_test_score</th>\n",
       "      <th>mean_fit_time</th>\n",
       "      <th>std_fit_time</th>\n",
       "      <th>mean_score_time</th>\n",
       "      <th>std_score_time</th>\n",
       "      <th>random_seed</th>\n",
       "    </tr>\n",
       "  </thead>\n",
       "  <tbody>\n",
       "    <tr>\n",
       "      <th>0</th>\n",
       "      <td>0</td>\n",
       "      <td>5</td>\n",
       "      <td>0.537461</td>\n",
       "      <td>0.003942</td>\n",
       "      <td>3</td>\n",
       "      <td>1</td>\n",
       "      <td>distance</td>\n",
       "      <td>0.538533</td>\n",
       "      <td>0.540830</td>\n",
       "      <td>0.530779</td>\n",
       "      <td>0.539701</td>\n",
       "      <td>3.041094</td>\n",
       "      <td>0.079198</td>\n",
       "      <td>3963.618618</td>\n",
       "      <td>10.156025</td>\n",
       "      <td>6666</td>\n",
       "    </tr>\n",
       "    <tr>\n",
       "      <th>1</th>\n",
       "      <td>1</td>\n",
       "      <td>6</td>\n",
       "      <td>0.536144</td>\n",
       "      <td>0.001776</td>\n",
       "      <td>3</td>\n",
       "      <td>2</td>\n",
       "      <td>distance</td>\n",
       "      <td>0.538662</td>\n",
       "      <td>0.535844</td>\n",
       "      <td>0.533669</td>\n",
       "      <td>0.536401</td>\n",
       "      <td>2.966964</td>\n",
       "      <td>0.015438</td>\n",
       "      <td>224.243279</td>\n",
       "      <td>0.584475</td>\n",
       "      <td>6666</td>\n",
       "    </tr>\n",
       "    <tr>\n",
       "      <th>2</th>\n",
       "      <td>2</td>\n",
       "      <td>3</td>\n",
       "      <td>0.543342</td>\n",
       "      <td>0.003558</td>\n",
       "      <td>4</td>\n",
       "      <td>1</td>\n",
       "      <td>distance</td>\n",
       "      <td>0.543645</td>\n",
       "      <td>0.546757</td>\n",
       "      <td>0.537484</td>\n",
       "      <td>0.545481</td>\n",
       "      <td>2.966111</td>\n",
       "      <td>0.019428</td>\n",
       "      <td>3928.859039</td>\n",
       "      <td>17.438901</td>\n",
       "      <td>6666</td>\n",
       "    </tr>\n",
       "    <tr>\n",
       "      <th>3</th>\n",
       "      <td>3</td>\n",
       "      <td>4</td>\n",
       "      <td>0.541052</td>\n",
       "      <td>0.001891</td>\n",
       "      <td>4</td>\n",
       "      <td>2</td>\n",
       "      <td>distance</td>\n",
       "      <td>0.541376</td>\n",
       "      <td>0.542245</td>\n",
       "      <td>0.537882</td>\n",
       "      <td>0.542705</td>\n",
       "      <td>3.078697</td>\n",
       "      <td>0.055864</td>\n",
       "      <td>213.226424</td>\n",
       "      <td>1.566184</td>\n",
       "      <td>6666</td>\n",
       "    </tr>\n",
       "    <tr>\n",
       "      <th>4</th>\n",
       "      <td>4</td>\n",
       "      <td>1</td>\n",
       "      <td>0.546895</td>\n",
       "      <td>0.003721</td>\n",
       "      <td>5</td>\n",
       "      <td>1</td>\n",
       "      <td>distance</td>\n",
       "      <td>0.546904</td>\n",
       "      <td>0.549513</td>\n",
       "      <td>0.540833</td>\n",
       "      <td>0.550330</td>\n",
       "      <td>2.954861</td>\n",
       "      <td>0.076701</td>\n",
       "      <td>3903.043584</td>\n",
       "      <td>8.805527</td>\n",
       "      <td>6666</td>\n",
       "    </tr>\n",
       "    <tr>\n",
       "      <th>5</th>\n",
       "      <td>5</td>\n",
       "      <td>2</td>\n",
       "      <td>0.545001</td>\n",
       "      <td>0.001836</td>\n",
       "      <td>5</td>\n",
       "      <td>2</td>\n",
       "      <td>distance</td>\n",
       "      <td>0.544850</td>\n",
       "      <td>0.545808</td>\n",
       "      <td>0.542163</td>\n",
       "      <td>0.547181</td>\n",
       "      <td>3.166515</td>\n",
       "      <td>0.516222</td>\n",
       "      <td>214.004052</td>\n",
       "      <td>0.578412</td>\n",
       "      <td>6666</td>\n",
       "    </tr>\n",
       "  </tbody>\n",
       "</table>\n",
       "</div>"
      ],
      "text/plain": [
       "   Unnamed: 0  rank_test_score  mean_test_score  std_test_score  param_n_neighbors  param_p param_weights  split0_test_score  \\\n",
       "0           0                5         0.537461        0.003942                  3        1      distance           0.538533   \n",
       "1           1                6         0.536144        0.001776                  3        2      distance           0.538662   \n",
       "2           2                3         0.543342        0.003558                  4        1      distance           0.543645   \n",
       "3           3                4         0.541052        0.001891                  4        2      distance           0.541376   \n",
       "4           4                1         0.546895        0.003721                  5        1      distance           0.546904   \n",
       "5           5                2         0.545001        0.001836                  5        2      distance           0.544850   \n",
       "\n",
       "   split1_test_score  split2_test_score  split3_test_score  mean_fit_time  std_fit_time  mean_score_time  std_score_time  \\\n",
       "0           0.540830           0.530779           0.539701       3.041094      0.079198      3963.618618       10.156025   \n",
       "1           0.535844           0.533669           0.536401       2.966964      0.015438       224.243279        0.584475   \n",
       "2           0.546757           0.537484           0.545481       2.966111      0.019428      3928.859039       17.438901   \n",
       "3           0.542245           0.537882           0.542705       3.078697      0.055864       213.226424        1.566184   \n",
       "4           0.549513           0.540833           0.550330       2.954861      0.076701      3903.043584        8.805527   \n",
       "5           0.545808           0.542163           0.547181       3.166515      0.516222       214.004052        0.578412   \n",
       "\n",
       "   random_seed  \n",
       "0         6666  \n",
       "1         6666  \n",
       "2         6666  \n",
       "3         6666  \n",
       "4         6666  \n",
       "5         6666  "
      ]
     },
     "execution_count": 19,
     "metadata": {},
     "output_type": "execute_result"
    }
   ],
   "source": [
    "df_metrics"
   ]
  },
  {
   "cell_type": "markdown",
   "id": "a84934d8-9e89-4b01-902f-a95d89cdfada",
   "metadata": {},
   "source": [
    "# Metrics"
   ]
  },
  {
   "cell_type": "code",
   "execution_count": 14,
   "id": "362100f6-0c55-4bd7-bff5-07e4ed29767b",
   "metadata": {
    "execution": {
     "iopub.execute_input": "2024-12-09T09:57:56.795165Z",
     "iopub.status.busy": "2024-12-09T09:57:56.794652Z",
     "iopub.status.idle": "2024-12-09T09:57:56.842412Z",
     "shell.execute_reply": "2024-12-09T09:57:56.841548Z",
     "shell.execute_reply.started": "2024-12-09T09:57:56.795124Z"
    }
   },
   "outputs": [
    {
     "data": {
      "text/plain": [
       "'TPSA_KNN_profiles_20241207_0700.pkl'"
      ]
     },
     "execution_count": 14,
     "metadata": {},
     "output_type": "execute_result"
    },
    {
     "data": {
      "text/plain": [
       "'TPSA_KNN_profiles_20241207_0700_metrics.csv'"
      ]
     },
     "execution_count": 14,
     "metadata": {},
     "output_type": "execute_result"
    },
    {
     "data": {
      "text/plain": [
       "'/home/kevin/WSL-shared/cellpainting/cj-datasets/saved_tpsa_models/profile_models'"
      ]
     },
     "execution_count": 14,
     "metadata": {},
     "output_type": "execute_result"
    }
   ],
   "source": [
    "ESTIMATORS_FILENAME = f'TPSA_KNN_profiles_20241207_0700.pkl'\n",
    "ESTIMATORS_FILENAME\n",
    "METRICS_FILENAME = f'TPSA_KNN_profiles_20241207_0700_metrics.csv'\n",
    "METRICS_FILENAME\n",
    "MODEL_SAVE_PATH"
   ]
  },
  {
   "cell_type": "code",
   "execution_count": 15,
   "id": "6235f1c0-6ade-448f-9b80-955d711c458e",
   "metadata": {
    "execution": {
     "iopub.execute_input": "2024-12-09T09:57:58.359421Z",
     "iopub.status.busy": "2024-12-09T09:57:58.358938Z",
     "iopub.status.idle": "2024-12-09T09:58:00.772204Z",
     "shell.execute_reply": "2024-12-09T09:58:00.771366Z",
     "shell.execute_reply.started": "2024-12-09T09:57:58.359382Z"
    },
    "scrolled": true
   },
   "outputs": [
    {
     "data": {
      "text/plain": [
       "1"
      ]
     },
     "execution_count": 15,
     "metadata": {},
     "output_type": "execute_result"
    }
   ],
   "source": [
    "Best_Estimators = load_from_pickle(MODEL_SAVE_PATH, ESTIMATORS_FILENAME)\n",
    "len(Best_Estimators)"
   ]
  },
  {
   "cell_type": "code",
   "execution_count": 16,
   "id": "cad87557-0e9c-442c-8d35-067b66a2bab0",
   "metadata": {
    "execution": {
     "iopub.execute_input": "2024-12-09T09:58:25.106091Z",
     "iopub.status.busy": "2024-12-09T09:58:25.105607Z",
     "iopub.status.idle": "2024-12-09T09:58:25.146628Z",
     "shell.execute_reply": "2024-12-09T09:58:25.145831Z",
     "shell.execute_reply.started": "2024-12-09T09:58:25.106050Z"
    }
   },
   "outputs": [
    {
     "name": "stdout",
     "output_type": "stream",
     "text": [
      "estimator  :   KNeighborsClassifier(p=1, weights='distance')\n"
     ]
    }
   ],
   "source": [
    "# print(f\"parameters   :\")\n",
    "# pp.pprint(svm_estimators.get_params())\n",
    "print(f\"estimator  :   {Best_Estimators[0][0]}\")\n",
    "# print()\n",
    " "
   ]
  },
  {
   "cell_type": "code",
   "execution_count": 20,
   "id": "5128a9d7-940f-4a32-b6b9-902f58c28c61",
   "metadata": {
    "execution": {
     "iopub.execute_input": "2024-12-09T09:59:59.530850Z",
     "iopub.status.busy": "2024-12-09T09:59:59.530220Z",
     "iopub.status.idle": "2024-12-09T09:59:59.658065Z",
     "shell.execute_reply": "2024-12-09T09:59:59.657076Z",
     "shell.execute_reply.started": "2024-12-09T09:59:59.530800Z"
    }
   },
   "outputs": [
    {
     "data": {
      "text/html": [
       "<div>\n",
       "<style scoped>\n",
       "    .dataframe tbody tr th:only-of-type {\n",
       "        vertical-align: middle;\n",
       "    }\n",
       "\n",
       "    .dataframe tbody tr th {\n",
       "        vertical-align: top;\n",
       "    }\n",
       "\n",
       "    .dataframe thead th {\n",
       "        text-align: right;\n",
       "    }\n",
       "</style>\n",
       "<table border=\"1\" class=\"dataframe\">\n",
       "  <thead>\n",
       "    <tr style=\"text-align: right;\">\n",
       "      <th></th>\n",
       "      <th>Cells_AreaShape_BoundingBoxMaximum_X</th>\n",
       "      <th>Cells_AreaShape_Center_X</th>\n",
       "      <th>Cells_AreaShape_Center_Y</th>\n",
       "      <th>Cells_AreaShape_Compactness</th>\n",
       "      <th>Cells_AreaShape_Eccentricity</th>\n",
       "      <th>Cells_AreaShape_EulerNumber</th>\n",
       "      <th>Cells_AreaShape_Extent</th>\n",
       "      <th>Cells_AreaShape_MajorAxisLength</th>\n",
       "      <th>Cells_AreaShape_MedianRadius</th>\n",
       "      <th>Cells_AreaShape_MinorAxisLength</th>\n",
       "      <th>...</th>\n",
       "      <th>Nuclei_Texture_SumAverage_DNA_10_01_256</th>\n",
       "      <th>Nuclei_Texture_SumAverage_ER_10_01_256</th>\n",
       "      <th>Nuclei_Texture_SumAverage_Mito_10_01_256</th>\n",
       "      <th>Nuclei_Texture_SumAverage_RNA_10_01_256</th>\n",
       "      <th>Nuclei_Texture_SumEntropy_DNA_10_03_256</th>\n",
       "      <th>Nuclei_Texture_SumVariance_AGP_10_03_256</th>\n",
       "      <th>Nuclei_Texture_SumVariance_DNA_10_03_256</th>\n",
       "      <th>Nuclei_Texture_SumVariance_ER_10_01_256</th>\n",
       "      <th>Nuclei_Texture_SumVariance_Mito_10_03_256</th>\n",
       "      <th>Nuclei_Texture_SumVariance_RNA_10_01_256</th>\n",
       "    </tr>\n",
       "  </thead>\n",
       "  <tbody>\n",
       "    <tr>\n",
       "      <th>0</th>\n",
       "      <td>0.265359</td>\n",
       "      <td>-1.023236</td>\n",
       "      <td>-1.667018</td>\n",
       "      <td>9.516489</td>\n",
       "      <td>3.396944</td>\n",
       "      <td>-4.288098</td>\n",
       "      <td>-4.214914</td>\n",
       "      <td>7.506416</td>\n",
       "      <td>6.678442</td>\n",
       "      <td>6.825577</td>\n",
       "      <td>...</td>\n",
       "      <td>-0.896670</td>\n",
       "      <td>1.450820</td>\n",
       "      <td>1.152851</td>\n",
       "      <td>-1.278530</td>\n",
       "      <td>1.418223</td>\n",
       "      <td>0.021354</td>\n",
       "      <td>-0.141206</td>\n",
       "      <td>0.868969</td>\n",
       "      <td>0.193294</td>\n",
       "      <td>0.005227</td>\n",
       "    </tr>\n",
       "    <tr>\n",
       "      <th>1</th>\n",
       "      <td>1.264069</td>\n",
       "      <td>-0.121984</td>\n",
       "      <td>-1.052618</td>\n",
       "      <td>6.685748</td>\n",
       "      <td>3.826743</td>\n",
       "      <td>-8.017166</td>\n",
       "      <td>-3.069860</td>\n",
       "      <td>9.142784</td>\n",
       "      <td>8.169262</td>\n",
       "      <td>8.976429</td>\n",
       "      <td>...</td>\n",
       "      <td>-2.831087</td>\n",
       "      <td>0.228118</td>\n",
       "      <td>-0.683563</td>\n",
       "      <td>-1.849235</td>\n",
       "      <td>-0.919059</td>\n",
       "      <td>0.182213</td>\n",
       "      <td>-0.887957</td>\n",
       "      <td>0.667862</td>\n",
       "      <td>-0.120462</td>\n",
       "      <td>-0.251829</td>\n",
       "    </tr>\n",
       "    <tr>\n",
       "      <th>2</th>\n",
       "      <td>2.304297</td>\n",
       "      <td>1.081565</td>\n",
       "      <td>0.205133</td>\n",
       "      <td>7.197979</td>\n",
       "      <td>5.303427</td>\n",
       "      <td>-0.763364</td>\n",
       "      <td>-4.214097</td>\n",
       "      <td>6.840013</td>\n",
       "      <td>6.558799</td>\n",
       "      <td>5.675367</td>\n",
       "      <td>...</td>\n",
       "      <td>-1.743976</td>\n",
       "      <td>1.145396</td>\n",
       "      <td>0.208649</td>\n",
       "      <td>-1.137074</td>\n",
       "      <td>0.149952</td>\n",
       "      <td>0.528899</td>\n",
       "      <td>-0.171473</td>\n",
       "      <td>1.336097</td>\n",
       "      <td>0.096783</td>\n",
       "      <td>0.456798</td>\n",
       "    </tr>\n",
       "    <tr>\n",
       "      <th>3</th>\n",
       "      <td>-1.042122</td>\n",
       "      <td>-0.901804</td>\n",
       "      <td>-2.492861</td>\n",
       "      <td>-0.252232</td>\n",
       "      <td>0.901445</td>\n",
       "      <td>-0.774559</td>\n",
       "      <td>-0.725909</td>\n",
       "      <td>-1.602487</td>\n",
       "      <td>-2.909940</td>\n",
       "      <td>-2.597397</td>\n",
       "      <td>...</td>\n",
       "      <td>0.343824</td>\n",
       "      <td>-0.960700</td>\n",
       "      <td>0.310768</td>\n",
       "      <td>-0.827690</td>\n",
       "      <td>0.089760</td>\n",
       "      <td>-0.492758</td>\n",
       "      <td>-0.630063</td>\n",
       "      <td>-0.921455</td>\n",
       "      <td>-0.279790</td>\n",
       "      <td>-0.952676</td>\n",
       "    </tr>\n",
       "    <tr>\n",
       "      <th>4</th>\n",
       "      <td>0.282867</td>\n",
       "      <td>0.404944</td>\n",
       "      <td>-1.720918</td>\n",
       "      <td>-0.519097</td>\n",
       "      <td>0.003475</td>\n",
       "      <td>0.583267</td>\n",
       "      <td>1.262719</td>\n",
       "      <td>-1.004806</td>\n",
       "      <td>-1.232853</td>\n",
       "      <td>-1.427747</td>\n",
       "      <td>...</td>\n",
       "      <td>0.164401</td>\n",
       "      <td>-0.457574</td>\n",
       "      <td>0.001981</td>\n",
       "      <td>0.241172</td>\n",
       "      <td>0.594398</td>\n",
       "      <td>0.351269</td>\n",
       "      <td>0.024534</td>\n",
       "      <td>-0.786780</td>\n",
       "      <td>-0.169006</td>\n",
       "      <td>0.893691</td>\n",
       "    </tr>\n",
       "    <tr>\n",
       "      <th>...</th>\n",
       "      <td>...</td>\n",
       "      <td>...</td>\n",
       "      <td>...</td>\n",
       "      <td>...</td>\n",
       "      <td>...</td>\n",
       "      <td>...</td>\n",
       "      <td>...</td>\n",
       "      <td>...</td>\n",
       "      <td>...</td>\n",
       "      <td>...</td>\n",
       "      <td>...</td>\n",
       "      <td>...</td>\n",
       "      <td>...</td>\n",
       "      <td>...</td>\n",
       "      <td>...</td>\n",
       "      <td>...</td>\n",
       "      <td>...</td>\n",
       "      <td>...</td>\n",
       "      <td>...</td>\n",
       "      <td>...</td>\n",
       "      <td>...</td>\n",
       "    </tr>\n",
       "    <tr>\n",
       "      <th>12595</th>\n",
       "      <td>-1.299478</td>\n",
       "      <td>-1.181188</td>\n",
       "      <td>1.434459</td>\n",
       "      <td>-0.482670</td>\n",
       "      <td>-0.713278</td>\n",
       "      <td>-0.926508</td>\n",
       "      <td>1.000880</td>\n",
       "      <td>-1.153474</td>\n",
       "      <td>-0.975278</td>\n",
       "      <td>-0.943724</td>\n",
       "      <td>...</td>\n",
       "      <td>-1.421420</td>\n",
       "      <td>1.191942</td>\n",
       "      <td>3.111663</td>\n",
       "      <td>0.740742</td>\n",
       "      <td>-1.882465</td>\n",
       "      <td>0.040255</td>\n",
       "      <td>-1.197548</td>\n",
       "      <td>0.768332</td>\n",
       "      <td>2.902781</td>\n",
       "      <td>0.549842</td>\n",
       "    </tr>\n",
       "    <tr>\n",
       "      <th>12596</th>\n",
       "      <td>-0.557000</td>\n",
       "      <td>-0.657765</td>\n",
       "      <td>-1.491670</td>\n",
       "      <td>1.062030</td>\n",
       "      <td>2.429478</td>\n",
       "      <td>-0.228929</td>\n",
       "      <td>-2.540673</td>\n",
       "      <td>1.924205</td>\n",
       "      <td>0.442371</td>\n",
       "      <td>0.502164</td>\n",
       "      <td>...</td>\n",
       "      <td>-1.857668</td>\n",
       "      <td>-0.644382</td>\n",
       "      <td>1.188705</td>\n",
       "      <td>-0.482810</td>\n",
       "      <td>-1.500339</td>\n",
       "      <td>-0.396200</td>\n",
       "      <td>-0.536321</td>\n",
       "      <td>-0.346985</td>\n",
       "      <td>0.259447</td>\n",
       "      <td>-0.151251</td>\n",
       "    </tr>\n",
       "    <tr>\n",
       "      <th>12597</th>\n",
       "      <td>1.104094</td>\n",
       "      <td>1.133162</td>\n",
       "      <td>0.886635</td>\n",
       "      <td>0.330062</td>\n",
       "      <td>-0.406393</td>\n",
       "      <td>0.301265</td>\n",
       "      <td>-0.648384</td>\n",
       "      <td>-0.277443</td>\n",
       "      <td>-0.585189</td>\n",
       "      <td>-0.066443</td>\n",
       "      <td>...</td>\n",
       "      <td>2.056177</td>\n",
       "      <td>-0.139923</td>\n",
       "      <td>1.344993</td>\n",
       "      <td>0.994875</td>\n",
       "      <td>1.954301</td>\n",
       "      <td>1.160509</td>\n",
       "      <td>2.162598</td>\n",
       "      <td>-0.239546</td>\n",
       "      <td>-0.006793</td>\n",
       "      <td>1.017170</td>\n",
       "    </tr>\n",
       "    <tr>\n",
       "      <th>12598</th>\n",
       "      <td>3.049630</td>\n",
       "      <td>3.085845</td>\n",
       "      <td>2.709192</td>\n",
       "      <td>-0.633402</td>\n",
       "      <td>-0.196028</td>\n",
       "      <td>0.116168</td>\n",
       "      <td>0.354054</td>\n",
       "      <td>-0.730798</td>\n",
       "      <td>-0.582224</td>\n",
       "      <td>-0.679643</td>\n",
       "      <td>...</td>\n",
       "      <td>-0.588323</td>\n",
       "      <td>0.413319</td>\n",
       "      <td>-0.718256</td>\n",
       "      <td>0.170423</td>\n",
       "      <td>-0.407126</td>\n",
       "      <td>0.370998</td>\n",
       "      <td>-0.286843</td>\n",
       "      <td>0.673749</td>\n",
       "      <td>-0.368921</td>\n",
       "      <td>0.440563</td>\n",
       "    </tr>\n",
       "    <tr>\n",
       "      <th>12599</th>\n",
       "      <td>1.691842</td>\n",
       "      <td>1.525127</td>\n",
       "      <td>0.563849</td>\n",
       "      <td>-0.154541</td>\n",
       "      <td>0.706121</td>\n",
       "      <td>0.292830</td>\n",
       "      <td>-0.377416</td>\n",
       "      <td>0.728297</td>\n",
       "      <td>1.071775</td>\n",
       "      <td>0.804180</td>\n",
       "      <td>...</td>\n",
       "      <td>0.903210</td>\n",
       "      <td>0.759851</td>\n",
       "      <td>1.091060</td>\n",
       "      <td>0.477611</td>\n",
       "      <td>0.934681</td>\n",
       "      <td>-0.064500</td>\n",
       "      <td>-0.156278</td>\n",
       "      <td>0.083262</td>\n",
       "      <td>0.294936</td>\n",
       "      <td>0.796720</td>\n",
       "    </tr>\n",
       "  </tbody>\n",
       "</table>\n",
       "<p>12600 rows × 1471 columns</p>\n",
       "</div>"
      ],
      "text/plain": [
       "       Cells_AreaShape_BoundingBoxMaximum_X  Cells_AreaShape_Center_X  Cells_AreaShape_Center_Y  Cells_AreaShape_Compactness  \\\n",
       "0                                  0.265359                 -1.023236                 -1.667018                     9.516489   \n",
       "1                                  1.264069                 -0.121984                 -1.052618                     6.685748   \n",
       "2                                  2.304297                  1.081565                  0.205133                     7.197979   \n",
       "3                                 -1.042122                 -0.901804                 -2.492861                    -0.252232   \n",
       "4                                  0.282867                  0.404944                 -1.720918                    -0.519097   \n",
       "...                                     ...                       ...                       ...                          ...   \n",
       "12595                             -1.299478                 -1.181188                  1.434459                    -0.482670   \n",
       "12596                             -0.557000                 -0.657765                 -1.491670                     1.062030   \n",
       "12597                              1.104094                  1.133162                  0.886635                     0.330062   \n",
       "12598                              3.049630                  3.085845                  2.709192                    -0.633402   \n",
       "12599                              1.691842                  1.525127                  0.563849                    -0.154541   \n",
       "\n",
       "       Cells_AreaShape_Eccentricity  Cells_AreaShape_EulerNumber  Cells_AreaShape_Extent  Cells_AreaShape_MajorAxisLength  \\\n",
       "0                          3.396944                    -4.288098               -4.214914                         7.506416   \n",
       "1                          3.826743                    -8.017166               -3.069860                         9.142784   \n",
       "2                          5.303427                    -0.763364               -4.214097                         6.840013   \n",
       "3                          0.901445                    -0.774559               -0.725909                        -1.602487   \n",
       "4                          0.003475                     0.583267                1.262719                        -1.004806   \n",
       "...                             ...                          ...                     ...                              ...   \n",
       "12595                     -0.713278                    -0.926508                1.000880                        -1.153474   \n",
       "12596                      2.429478                    -0.228929               -2.540673                         1.924205   \n",
       "12597                     -0.406393                     0.301265               -0.648384                        -0.277443   \n",
       "12598                     -0.196028                     0.116168                0.354054                        -0.730798   \n",
       "12599                      0.706121                     0.292830               -0.377416                         0.728297   \n",
       "\n",
       "       Cells_AreaShape_MedianRadius  Cells_AreaShape_MinorAxisLength  ...  Nuclei_Texture_SumAverage_DNA_10_01_256  \\\n",
       "0                          6.678442                         6.825577  ...                                -0.896670   \n",
       "1                          8.169262                         8.976429  ...                                -2.831087   \n",
       "2                          6.558799                         5.675367  ...                                -1.743976   \n",
       "3                         -2.909940                        -2.597397  ...                                 0.343824   \n",
       "4                         -1.232853                        -1.427747  ...                                 0.164401   \n",
       "...                             ...                              ...  ...                                      ...   \n",
       "12595                     -0.975278                        -0.943724  ...                                -1.421420   \n",
       "12596                      0.442371                         0.502164  ...                                -1.857668   \n",
       "12597                     -0.585189                        -0.066443  ...                                 2.056177   \n",
       "12598                     -0.582224                        -0.679643  ...                                -0.588323   \n",
       "12599                      1.071775                         0.804180  ...                                 0.903210   \n",
       "\n",
       "       Nuclei_Texture_SumAverage_ER_10_01_256  Nuclei_Texture_SumAverage_Mito_10_01_256  Nuclei_Texture_SumAverage_RNA_10_01_256  \\\n",
       "0                                    1.450820                                  1.152851                                -1.278530   \n",
       "1                                    0.228118                                 -0.683563                                -1.849235   \n",
       "2                                    1.145396                                  0.208649                                -1.137074   \n",
       "3                                   -0.960700                                  0.310768                                -0.827690   \n",
       "4                                   -0.457574                                  0.001981                                 0.241172   \n",
       "...                                       ...                                       ...                                      ...   \n",
       "12595                                1.191942                                  3.111663                                 0.740742   \n",
       "12596                               -0.644382                                  1.188705                                -0.482810   \n",
       "12597                               -0.139923                                  1.344993                                 0.994875   \n",
       "12598                                0.413319                                 -0.718256                                 0.170423   \n",
       "12599                                0.759851                                  1.091060                                 0.477611   \n",
       "\n",
       "       Nuclei_Texture_SumEntropy_DNA_10_03_256  Nuclei_Texture_SumVariance_AGP_10_03_256  \\\n",
       "0                                     1.418223                                  0.021354   \n",
       "1                                    -0.919059                                  0.182213   \n",
       "2                                     0.149952                                  0.528899   \n",
       "3                                     0.089760                                 -0.492758   \n",
       "4                                     0.594398                                  0.351269   \n",
       "...                                        ...                                       ...   \n",
       "12595                                -1.882465                                  0.040255   \n",
       "12596                                -1.500339                                 -0.396200   \n",
       "12597                                 1.954301                                  1.160509   \n",
       "12598                                -0.407126                                  0.370998   \n",
       "12599                                 0.934681                                 -0.064500   \n",
       "\n",
       "       Nuclei_Texture_SumVariance_DNA_10_03_256  Nuclei_Texture_SumVariance_ER_10_01_256  \\\n",
       "0                                     -0.141206                                 0.868969   \n",
       "1                                     -0.887957                                 0.667862   \n",
       "2                                     -0.171473                                 1.336097   \n",
       "3                                     -0.630063                                -0.921455   \n",
       "4                                      0.024534                                -0.786780   \n",
       "...                                         ...                                      ...   \n",
       "12595                                 -1.197548                                 0.768332   \n",
       "12596                                 -0.536321                                -0.346985   \n",
       "12597                                  2.162598                                -0.239546   \n",
       "12598                                 -0.286843                                 0.673749   \n",
       "12599                                 -0.156278                                 0.083262   \n",
       "\n",
       "       Nuclei_Texture_SumVariance_Mito_10_03_256  Nuclei_Texture_SumVariance_RNA_10_01_256  \n",
       "0                                       0.193294                                  0.005227  \n",
       "1                                      -0.120462                                 -0.251829  \n",
       "2                                       0.096783                                  0.456798  \n",
       "3                                      -0.279790                                 -0.952676  \n",
       "4                                      -0.169006                                  0.893691  \n",
       "...                                          ...                                       ...  \n",
       "12595                                   2.902781                                  0.549842  \n",
       "12596                                   0.259447                                 -0.151251  \n",
       "12597                                  -0.006793                                  1.017170  \n",
       "12598                                  -0.368921                                  0.440563  \n",
       "12599                                   0.294936                                  0.796720  \n",
       "\n",
       "[12600 rows x 1471 columns]"
      ]
     },
     "execution_count": 20,
     "metadata": {},
     "output_type": "execute_result"
    },
    {
     "data": {
      "text/plain": [
       "0        0\n",
       "1        0\n",
       "2        0\n",
       "3        0\n",
       "4        0\n",
       "        ..\n",
       "12595    0\n",
       "12596    0\n",
       "12597    1\n",
       "12598    1\n",
       "12599    1\n",
       "Name: Metadata_Permiation, Length: 12600, dtype: int64"
      ]
     },
     "execution_count": 20,
     "metadata": {},
     "output_type": "execute_result"
    }
   ],
   "source": [
    "# TEST_X, TEST_Y = bal_test_X, bal_test_y\n",
    "TEST_X = df_test_x.iloc[:, 11:]    ## bal_train_X\n",
    "TEST_X\n",
    "TEST_Y = df_test_y\n",
    "TEST_Y"
   ]
  },
  {
   "cell_type": "code",
   "execution_count": 25,
   "id": "6febe1ee-e783-4a7c-b1eb-2168837d6785",
   "metadata": {
    "execution": {
     "iopub.execute_input": "2024-12-09T12:52:56.892058Z",
     "iopub.status.busy": "2024-12-09T12:52:56.891511Z",
     "iopub.status.idle": "2024-12-09T13:10:40.991401Z",
     "shell.execute_reply": "2024-12-09T13:10:40.989862Z",
     "shell.execute_reply.started": "2024-12-09T12:52:56.892016Z"
    }
   },
   "outputs": [
    {
     "data": {
      "text/plain": [
       "(12600,)"
      ]
     },
     "execution_count": 25,
     "metadata": {},
     "output_type": "execute_result"
    }
   ],
   "source": [
    "y_pred = Best_Estimators[0][0].predict(TEST_X)\n",
    "y_pred.shape"
   ]
  },
  {
   "cell_type": "code",
   "execution_count": 23,
   "id": "7f6938c1-6d42-46ec-b187-33b86f616cc0",
   "metadata": {
    "execution": {
     "iopub.execute_input": "2024-12-09T11:59:21.831604Z",
     "iopub.status.busy": "2024-12-09T11:59:21.831075Z",
     "iopub.status.idle": "2024-12-09T12:17:12.540998Z",
     "shell.execute_reply": "2024-12-09T12:17:12.539999Z",
     "shell.execute_reply.started": "2024-12-09T11:59:21.831561Z"
    }
   },
   "outputs": [
    {
     "data": {
      "text/plain": [
       "(12600, 2)"
      ]
     },
     "execution_count": 23,
     "metadata": {},
     "output_type": "execute_result"
    },
    {
     "data": {
      "text/plain": [
       "array([[0.8135284 , 0.1864716 ],\n",
       "       [0.83782474, 0.16217526],\n",
       "       [0.8174777 , 0.1825223 ],\n",
       "       ...,\n",
       "       [0.79875494, 0.20124506],\n",
       "       [1.        , 0.        ],\n",
       "       [1.        , 0.        ]])"
      ]
     },
     "execution_count": 23,
     "metadata": {},
     "output_type": "execute_result"
    }
   ],
   "source": [
    "y_prob = Best_Estimators[0][0].predict_proba(TEST_X)\n",
    "y_prob.shape\n",
    "y_prob"
   ]
  },
  {
   "cell_type": "code",
   "execution_count": 648,
   "id": "62af41d9-dd7a-43a3-a57e-61b63c465264",
   "metadata": {
    "execution": {
     "iopub.execute_input": "2024-08-05T21:02:44.396932Z",
     "iopub.status.busy": "2024-08-05T21:02:44.396551Z",
     "iopub.status.idle": "2024-08-05T21:03:28.814557Z",
     "shell.execute_reply": "2024-08-05T21:03:28.813476Z",
     "shell.execute_reply.started": "2024-08-05T21:02:44.396906Z"
    }
   },
   "outputs": [
    {
     "data": {
      "text/plain": [
       "(8328,)"
      ]
     },
     "execution_count": 648,
     "metadata": {},
     "output_type": "execute_result"
    }
   ],
   "source": [
    "# bal_y_pred = svm_estimators.best_estimator_.predict(bal_test_X)\n",
    "# bal_y_pred.shape"
   ]
  },
  {
   "cell_type": "code",
   "execution_count": 106,
   "id": "62c8ba0e-4c72-4773-9740-6887334aaabf",
   "metadata": {
    "execution": {
     "iopub.execute_input": "2024-12-07T12:42:22.388690Z",
     "iopub.status.busy": "2024-12-07T12:42:22.388184Z",
     "iopub.status.idle": "2024-12-07T12:42:22.433849Z",
     "shell.execute_reply": "2024-12-07T12:42:22.433286Z",
     "shell.execute_reply.started": "2024-12-07T12:42:22.388649Z"
    }
   },
   "outputs": [
    {
     "name": "stdout",
     "output_type": "stream",
     "text": [
      " Ground Truth\n",
      " -------------\n",
      " Total samples: 12600  - compounds: 4200\n",
      " Label 0:  11,169      % 88.64 \n",
      " Label 1:   1,431      % 11.36 \n",
      "\n",
      " Predictions\n",
      " ------------\n",
      " Total samples: 12600  - compounds: 4200\n",
      " Label 0:  12,195      % 96.79 \n",
      " Label 1:     405      % 3.21 \n",
      "\n"
     ]
    }
   ],
   "source": [
    "label_counts( [(\"Ground Truth\", TEST_Y), (\"Predictions\", y_pred)])\n",
    "# label_counts( [(\"Balanced Ground Truth\", bal_test_y), (\"Balanced Predictions\", bal_test_y)])\n"
   ]
  },
  {
   "cell_type": "code",
   "execution_count": 26,
   "id": "7a2371df-1e3d-40f8-960f-d501809ee818",
   "metadata": {
    "execution": {
     "iopub.execute_input": "2024-12-09T13:49:26.915431Z",
     "iopub.status.busy": "2024-12-09T13:49:26.914786Z",
     "iopub.status.idle": "2024-12-09T13:49:27.029433Z",
     "shell.execute_reply": "2024-12-09T13:49:27.028364Z",
     "shell.execute_reply.started": "2024-12-09T13:49:26.915388Z"
    }
   },
   "outputs": [
    {
     "name": "stdout",
     "output_type": "stream",
     "text": [
      "Original test file\n",
      "-------------------\n",
      " Accuracy: 0.86778     Precision: 0.20988     Recall: 0.05940     F1: 0.09259 \n",
      " ROC AUC:  0.55292\n",
      "\n",
      "\n",
      " True + labels:          1431     ratio to total:  0.11357\n",
      " Predicted + labels:      405     ratio to total:  0.03214\n",
      " True/Predicted Match:  10934     ratio to total:  0.86778\n"
     ]
    }
   ],
   "source": [
    "compute_metrics(TEST_Y, y_pred, \"Original test file\", y_prob = y_prob[:,1])"
   ]
  },
  {
   "cell_type": "code",
   "execution_count": 108,
   "id": "e60cb6e4-02bb-4e23-ae53-06316789ca10",
   "metadata": {
    "execution": {
     "iopub.execute_input": "2024-12-07T12:42:42.676700Z",
     "iopub.status.busy": "2024-12-07T12:42:42.676230Z",
     "iopub.status.idle": "2024-12-07T12:42:42.729642Z",
     "shell.execute_reply": "2024-12-07T12:42:42.728916Z",
     "shell.execute_reply.started": "2024-12-07T12:42:42.676663Z"
    }
   },
   "outputs": [
    {
     "name": "stdout",
     "output_type": "stream",
     "text": [
      "Original test file\n",
      "-------------------\n",
      " Accuracy: 0.86778     Precision: 0.20988     Recall: 0.05940     F1: 0.09259 \n",
      "\n",
      " True + labels:          1431     ratio to total:  0.11357\n",
      " Predicted + labels:      405     ratio to total:  0.03214\n",
      " True/Predicted Match:  10934     ratio to total:  0.86778\n"
     ]
    }
   ],
   "source": [
    "compute_metrics(TEST_Y, y_pred, \"Original test file\")"
   ]
  },
  {
   "cell_type": "code",
   "execution_count": 661,
   "id": "c62f3e1b-a441-433f-b6f6-0a204594c70b",
   "metadata": {
    "execution": {
     "iopub.execute_input": "2024-08-05T21:18:44.616932Z",
     "iopub.status.busy": "2024-08-05T21:18:44.616435Z",
     "iopub.status.idle": "2024-08-05T21:18:44.666027Z",
     "shell.execute_reply": "2024-08-05T21:18:44.664500Z",
     "shell.execute_reply.started": "2024-08-05T21:18:44.616896Z"
    }
   },
   "outputs": [
    {
     "name": "stdout",
     "output_type": "stream",
     "text": [
      "  1:1 Balanced test file \n",
      " ----------------------- \n",
      " Accuracy: 0.51393     Precision: 0.52176     Recall: 0.33405     F1: 0.40732 \n",
      "\n",
      " True + labels:          4164     ratio to total:  0.50000\n",
      " Predicted + labels:     2666     ratio to total:  0.32012\n",
      " True/Predicted Match:   4280     ratio to total:  0.51393\n"
     ]
    }
   ],
   "source": [
    "compute_metrics(bal_test_y, bal_y_pred, \" 1:1 Balanced test file\")\n",
    "\n",
    " # 1:1 Balanced test file \n",
    " # ----------------------- \n",
    " # Accuracy: 0.51393     Precision: 0.52176     Recall: 0.33405     F1: 0.40732 \n",
    "\n",
    " # True + labels:          4164     ratio to total:  0.50000\n",
    " # Predicted + labels:     2666     ratio to total:  0.32012\n",
    " # True/Predicted Match:   4280     ratio to total:  0.51393"
   ]
  },
  {
   "cell_type": "code",
   "execution_count": 22,
   "id": "d789e4ce-c0e2-401c-946a-1b33ba06a544",
   "metadata": {
    "execution": {
     "iopub.execute_input": "2024-12-09T10:02:06.499834Z",
     "iopub.status.busy": "2024-12-09T10:02:06.499324Z",
     "iopub.status.idle": "2024-12-09T10:56:28.984111Z",
     "shell.execute_reply": "2024-12-09T10:56:28.983272Z",
     "shell.execute_reply.started": "2024-12-09T10:02:06.499792Z"
    }
   },
   "outputs": [
    {
     "data": {
      "image/png": "[encoded data removed]",
      "text/plain": [
       "<Figure size 1500x500 with 4 Axes>"
      ]
     },
     "metadata": {},
     "output_type": "display_data"
    }
   ],
   "source": [
    "plots_from_estimator(Best_Estimators[0][0], TEST_X, TEST_Y)\n",
    "# plots_from_estimator(svm_estimators.best_estimator_, bal_test_X, bal_y_pred)"
   ]
  },
  {
   "cell_type": "code",
   "execution_count": 30,
   "id": "762984ba-5bae-4ecc-a014-d8c71c529bd4",
   "metadata": {
    "execution": {
     "iopub.execute_input": "2024-12-09T13:51:00.945964Z",
     "iopub.status.busy": "2024-12-09T13:51:00.945503Z",
     "iopub.status.idle": "2024-12-09T13:51:01.004636Z",
     "shell.execute_reply": "2024-12-09T13:51:01.003385Z",
     "shell.execute_reply.started": "2024-12-09T13:51:00.945929Z"
    }
   },
   "outputs": [],
   "source": [
    "# plots_from_predictions(TEST_Y, y_pred)\n",
    "# plots_from_predictions(bal_test_y, bal_y_pred)"
   ]
  },
  {
   "cell_type": "code",
   "execution_count": 29,
   "id": "7d8eea91-1b7b-4ac4-8457-6ef86f767eac",
   "metadata": {
    "execution": {
     "iopub.execute_input": "2024-12-09T13:50:26.250443Z",
     "iopub.status.busy": "2024-12-09T13:50:26.249928Z",
     "iopub.status.idle": "2024-12-09T13:50:26.916161Z",
     "shell.execute_reply": "2024-12-09T13:50:26.915024Z",
     "shell.execute_reply.started": "2024-12-09T13:50:26.250401Z"
    }
   },
   "outputs": [
    {
     "data": {
      "image/png": "[encoded data removed]",
      "text/plain": [
       "<Figure size 1800x500 with 4 Axes>"
      ]
     },
     "metadata": {},
     "output_type": "display_data"
    }
   ],
   "source": [
    "plot_cls_metrics(TEST_Y, y_prob[:,1], y_pred, epochs = None )"
   ]
  },
  {
   "cell_type": "code",
   "execution_count": null,
   "id": "1648dd00-fd49-4cf3-9feb-62a538dd469a",
   "metadata": {},
   "outputs": [],
   "source": []
  }
 ],
 "metadata": {
  "kernelspec": {
   "display_name": "Python [conda env:cp311]",
   "language": "python",
   "name": "conda-env-cp311-py"
  },
  "language_info": {
   "codemirror_mode": {
    "name": "ipython",
    "version": 3
   },
   "file_extension": ".py",
   "mimetype": "text/x-python",
   "name": "python",
   "nbconvert_exporter": "python",
   "pygments_lexer": "ipython3",
   "version": "3.11.4"
  }
 },
 "nbformat": 4,
 "nbformat_minor": 5
}
