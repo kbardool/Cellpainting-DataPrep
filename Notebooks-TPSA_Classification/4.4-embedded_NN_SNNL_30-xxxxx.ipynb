{
 "cells": [
  {
   "cell_type": "markdown",
   "id": "418c282c-2b25-4f32-96cf-883b40b84c36",
   "metadata": {
    "editable": true,
    "slideshow": {
     "slide_type": ""
    },
    "tags": []
   },
   "source": [
    "  # Apply encoder to morphological profiles to get latent space representations :"
   ]
  },
  {
   "cell_type": "markdown",
   "id": "14da93a6-653f-4a55-9b3a-e72ab79a1121",
   "metadata": {},
   "source": [
    "# Setup"
   ]
  },
  {
   "cell_type": "code",
   "execution_count": 1,
   "id": "a104a277-3ad3-438a-b706-d4499f709f89",
   "metadata": {
    "ExecuteTime": {
     "end_time": "2023-04-12T10:29:16.111588Z",
     "start_time": "2023-04-12T10:29:15.764305Z"
    },
    "editable": true,
    "execution": {
     "iopub.execute_input": "2024-09-30T17:52:58.248621Z",
     "iopub.status.busy": "2024-09-30T17:52:58.248293Z",
     "iopub.status.idle": "2024-09-30T17:52:58.268947Z",
     "shell.execute_reply": "2024-09-30T17:52:58.268256Z",
     "shell.execute_reply.started": "2024-09-30T17:52:58.248589Z"
    },
    "slideshow": {
     "slide_type": ""
    },
    "tags": []
   },
   "outputs": [
    {
     "data": {
      "text/html": [
       "<style>.container { width:98% !important; }</style>"
      ],
      "text/plain": [
       "<IPython.core.display.HTML object>"
      ]
     },
     "metadata": {},
     "output_type": "display_data"
    }
   ],
   "source": [
    "%load_ext autoreload  \n",
    "%autoreload 2\n",
    "from IPython.display import display, HTML, Image\n",
    "from IPython.core.interactiveshell import InteractiveShell\n",
    "display(HTML(\"<style>.container { width:98% !important; }</style>\"))\n",
    "InteractiveShell.ast_node_interactivity = \"all\""
   ]
  },
  {
   "cell_type": "code",
   "execution_count": 2,
   "id": "7478f60a-2ea2-4407-bd91-f068349f222b",
   "metadata": {
    "ExecuteTime": {
     "end_time": "2023-04-12T10:29:16.111588Z",
     "start_time": "2023-04-12T10:29:15.764305Z"
    },
    "editable": true,
    "execution": {
     "iopub.execute_input": "2024-09-30T17:52:58.270181Z",
     "iopub.status.busy": "2024-09-30T17:52:58.269935Z",
     "iopub.status.idle": "2024-09-30T17:53:00.920087Z",
     "shell.execute_reply": "2024-09-30T17:53:00.919490Z",
     "shell.execute_reply.started": "2024-09-30T17:52:58.270158Z"
    },
    "slideshow": {
     "slide_type": ""
    },
    "tags": []
   },
   "outputs": [
    {
     "name": "stdout",
     "output_type": "stream",
     "text": [
      "insert ./src\n",
      "insert ../pt-snnl\n",
      "insert ../..\n",
      "['../..', '../pt-snnl', './src', '/home/kevin/WSL-shared/cellpainting/cj-datasets', '/home/kevin/miniforge3/envs/cp311/lib/python311.zip', '/home/kevin/miniforge3/envs/cp311/lib/python3.11', '/home/kevin/miniforge3/envs/cp311/lib/python3.11/lib-dynload', '', '/home/kevin/miniforge3/envs/cp311/lib/python3.11/site-packages', '/home/kevin/miniforge3/envs/cp311/lib/python3.11/site-packages/huggingface_hub-0.20.3-py3.8.egg']\n"
     ]
    },
    {
     "data": {
      "text/plain": [
       "<torch._C.Generator at 0x7f67eb8aff50>"
      ]
     },
     "execution_count": 2,
     "metadata": {},
     "output_type": "execute_result"
    },
    {
     "data": {
      "text/plain": [
       "4"
      ]
     },
     "execution_count": 2,
     "metadata": {},
     "output_type": "execute_result"
    }
   ],
   "source": [
    "import os\n",
    "import sys\n",
    "import random\n",
    "from typing import List, Tuple\n",
    "from types import SimpleNamespace\n",
    "import pprint\n",
    "import logging\n",
    "from datetime import datetime\n",
    "for p in ['./src','../pt-snnl','../..']:\n",
    "    if p not in sys.path:\n",
    "        print(f\"insert {p}\")\n",
    "        sys.path.insert(0, p)\n",
    "print(sys.path)\n",
    "\n",
    "import tqdm\n",
    "import numpy as np\n",
    "import matplotlib.pyplot as plt\n",
    "import seaborn as sb\n",
    "import pandas as pd\n",
    "\n",
    "import scipy\n",
    "import scipy.stats as sps\n",
    "import sklearn.metrics as skm\n",
    "from scipy.spatial.distance import pdist, squareform, euclidean\n",
    "\n",
    "import torch\n",
    "import torch.nn as nn\n",
    "import torch.nn.functional as F\n",
    "import matplotlib.pyplot as plt  # for making figures\n",
    "from torchinfo import summary\n",
    "\n",
    "torch.set_printoptions(precision=None, threshold=None, edgeitems=None, linewidth=180, profile=None, sci_mode=None)\n",
    "torch.manual_seed(42);   # seed rng for reproducibility\n",
    "pp = pprint.PrettyPrinter(indent=4)\n",
    "pd.options.display.width = 132\n",
    "np.set_printoptions(edgeitems=3, infstr='inf', linewidth=150, nanstr='nan')\n",
    "\n",
    "os.environ[\"WANDB_NOTEBOOK_NAME\"] = \"AE-MAIN-SNNL.ipynb\"\n",
    "# os.environ[\"CUDA_LAUNCH_BLOCKING\"] = \"1\"\n",
    "os.environ[\"CUDA_VISIBLE_DEVICES\"] = \"2\"\n",
    "\n",
    "torch.set_num_threads(4)  ## <--- limit to ~ 2 CPUs\n",
    "torch.get_num_threads()"
   ]
  },
  {
   "cell_type": "code",
   "execution_count": 3,
   "id": "247cba05-aa00-4249-aaef-1e672e0bcd9f",
   "metadata": {
    "editable": true,
    "execution": {
     "iopub.execute_input": "2024-09-30T17:53:00.921612Z",
     "iopub.status.busy": "2024-09-30T17:53:00.921238Z",
     "iopub.status.idle": "2024-09-30T17:53:02.858738Z",
     "shell.execute_reply": "2024-09-30T17:53:02.857996Z",
     "shell.execute_reply.started": "2024-09-30T17:53:00.921588Z"
    },
    "slideshow": {
     "slide_type": ""
    },
    "tags": []
   },
   "outputs": [
    {
     "name": "stderr",
     "output_type": "stream",
     "text": [
      "/home/kevin/miniforge3/envs/cp311/lib/python3.11/site-packages/dask/dataframe/_pyarrow_compat.py:17: FutureWarning: Minimal version of pyarrow will soon be increased to 14.0.1. You are using 11.0.0. Please consider upgrading.\n",
      "  warnings.warn(\n"
     ]
    }
   ],
   "source": [
    "# from KevinsRoutines.utils.utils_general import list_namespace, save_to_pickle, load_from_pickle, get_device\n",
    "import KevinsRoutines.utils as myutils\n",
    "# import snnl.utils as utils\n",
    "# from utils.utils_ptsnnl import display_cellpainting_batch, get_device\n",
    "from utils.utils_cellpainting import label_counts, balance_datasets,save_checkpoint, load_checkpoint\n",
    "\n",
    "from utils.utils_notebooks import plot_cls_metrics, compute_classification_metrics, run_model_on_test_data,\\\n",
    "                                train, validation, accuracy_fn, fit, build_model, define_datasets"
   ]
  },
  {
   "cell_type": "code",
   "execution_count": 4,
   "id": "c48065ef-8765-4b2f-a448-3d0d0dbf3609",
   "metadata": {
    "execution": {
     "iopub.execute_input": "2024-09-30T17:53:02.860073Z",
     "iopub.status.busy": "2024-09-30T17:53:02.859844Z",
     "iopub.status.idle": "2024-09-30T17:53:03.163132Z",
     "shell.execute_reply": "2024-09-30T17:53:03.162434Z",
     "shell.execute_reply.started": "2024-09-30T17:53:02.860050Z"
    }
   },
   "outputs": [
    {
     "name": "stdout",
     "output_type": "stream",
     "text": [
      "Dev Id   Device Name                    Total Memory                     InUse                            Free Memory \n",
      "   0     NVIDIA TITAN Xp                12,774,539,264 B/ (11.90 GB)  \t 918,683,648 B / (0.86 GB)  \t 11,855,855,616 B / (11.04 GB)   *** CURRENT DEVICE *** \n",
      "\n",
      " Current CUDA Device is:  \"cuda:0\"  Device Name: NVIDIA TITAN Xp\n"
     ]
    },
    {
     "data": {
      "text/plain": [
       "'cuda:0'"
      ]
     },
     "execution_count": 4,
     "metadata": {},
     "output_type": "execute_result"
    }
   ],
   "source": [
    "myutils.get_device(verbose = True)"
   ]
  },
  {
   "cell_type": "code",
   "execution_count": 5,
   "id": "c12352c5-443c-414b-bb2b-6ea5ba801515",
   "metadata": {
    "editable": true,
    "execution": {
     "iopub.execute_input": "2024-09-30T17:53:03.167677Z",
     "iopub.status.busy": "2024-09-30T17:53:03.167379Z",
     "iopub.status.idle": "2024-09-30T17:53:03.206563Z",
     "shell.execute_reply": "2024-09-30T17:53:03.205982Z",
     "shell.execute_reply.started": "2024-09-30T17:53:03.167655Z"
    },
    "scrolled": true,
    "slideshow": {
     "slide_type": ""
    },
    "tags": []
   },
   "outputs": [
    {
     "name": "stderr",
     "output_type": "stream",
     "text": [
      "2024-09-30 19:53:03,200 - __main__ - INFO: -  Excution started : 2024_09_30_19:53:03 \n",
      "2024-09-30 19:53:03,201 - __main__ - INFO: -  Pytorch version  : 2.2.0\n",
      "2024-09-30 19:53:03,202 - __main__ - INFO: -  Scipy version    : 1.11.4  \t\t Numpy version : 1.26.2\n",
      "2024-09-30 19:53:03,203 - __main__ - INFO: -  Pandas version   : 2.2.0  \n"
     ]
    }
   ],
   "source": [
    "timestamp = datetime.now().strftime('%Y_%m_%d_%H:%M:%S')\n",
    "logger = logging.getLogger(__name__)\n",
    "logLevel = os.environ.get('LOG_LEVEL', 'INFO').upper()\n",
    "FORMAT = '%(asctime)s - %(name)s - %(levelname)s: - %(message)s'\n",
    "logging.basicConfig(level=\"INFO\", format= FORMAT)\n",
    "logger.info(f\" Excution started : {timestamp} \")\n",
    "logger.info(f\" Pytorch version  : {torch.__version__}\")\n",
    "logger.info(f\" Scipy version    : {scipy.__version__}  \\t\\t Numpy version : {np.__version__}\")\n",
    "logger.info(f\" Pandas version   : {pd.__version__}  \")"
   ]
  },
  {
   "cell_type": "markdown",
   "id": "cdaa5260-01ce-4a98-b597-62c43c388f43",
   "metadata": {
    "jp-MarkdownHeadingCollapsed": true
   },
   "source": [
    "## Helper routines"
   ]
  },
  {
   "cell_type": "markdown",
   "id": "cdac793b-be20-4c56-8bab-989c05caad80",
   "metadata": {},
   "source": [
    "# Args "
   ]
  },
  {
   "cell_type": "code",
   "execution_count": 6,
   "id": "4143c6e6-33be-472f-880c-8a4e8e0885e2",
   "metadata": {
    "editable": true,
    "execution": {
     "iopub.execute_input": "2024-09-30T17:53:03.207703Z",
     "iopub.status.busy": "2024-09-30T17:53:03.207488Z",
     "iopub.status.idle": "2024-09-30T17:53:03.239527Z",
     "shell.execute_reply": "2024-09-30T17:53:03.238827Z",
     "shell.execute_reply.started": "2024-09-30T17:53:03.207681Z"
    },
    "slideshow": {
     "slide_type": ""
    },
    "tags": []
   },
   "outputs": [
    {
     "name": "stdout",
     "output_type": "stream",
     "text": [
      "11\n",
      "261\n"
     ]
    }
   ],
   "source": [
    "LATENT_DIM    = 250\n",
    "COMPOUNDS_PER_BATCH = 600\n",
    "n_input    = LATENT_DIM  # the embedding dimensionality \n",
    "n_hidden_1 = 512  # the number of neurons in the hidden layer of the MLP\n",
    "n_hidden_2 = 512  # the number of neurons in the hidden layer of the MLP\n",
    "n_hidden_3 = 128\n",
    "\n",
    "METADATA_COLS = ['Metadata_Source', 'Metadata_Batch', 'Metadata_Plate', 'Metadata_Well', 'Metadata_JCP2022', 'Metadata_Hash', 'Metadata_Bin', 'Metadata_TPSA', 'Metadata_lnTPSA', 'Metadata_log10TPSA', 'Metadata_Permiation']\n",
    "# METADATA_COLS += [f'Feature_{x:03d}' for x in range(LATENT_DIM)]\n",
    "input_cols = LATENT_DIM + len(METADATA_COLS)\n",
    "print(len(METADATA_COLS))\n",
    "print(input_cols)\n",
    "\n",
    "# OUTPUT_PATH = f\"/home/kevin/WSL-shared/cellpainting/cj-datasets/output_11102023/3_sample_embeddings/\"\n",
    "INPUT_PATH = f\"/home/kevin/WSL-shared/cellpainting/cj-datasets/output_11102023/3_sample_embeddings/\"\n",
    "CKPT_PATH = \"./saved_models/embedding_models\""
   ]
  },
  {
   "cell_type": "code",
   "execution_count": 9,
   "id": "33ba5b40-139d-4ad4-b6c4-51e4e19a0dc6",
   "metadata": {
    "execution": {
     "iopub.execute_input": "2024-09-30T17:53:34.342934Z",
     "iopub.status.busy": "2024-09-30T17:53:34.342405Z",
     "iopub.status.idle": "2024-09-30T17:53:34.381757Z",
     "shell.execute_reply": "2024-09-30T17:53:34.380861Z",
     "shell.execute_reply.started": "2024-09-30T17:53:34.342899Z"
    }
   },
   "outputs": [
    {
     "name": "stdout",
     "output_type": "stream",
     "text": [
      "20240930_1945\n"
     ]
    }
   ],
   "source": [
    "RUN_DATETIME = datetime.now().strftime('%Y%m%d_%H%M')\n",
    "# RUN_DATETIME = '20240909_1801'\n",
    "# RUN_DATETIME = '20240909_1800'\n",
    "# RUN_DATETIME = '20240909_2100'\n",
    "# RUN_DATETIME = '20240916_1830'\n",
    "# RUN_DATETIME = '20240921_0700'\n",
    "# RUN_DATETIME = '20240926_1900'\n",
    "# RUN_DATETIME = '20240926_1930'\n",
    "# RUN_DATETIME = '20240927_2355'\n",
    "# RUN_DATETIME = '20240929_2030'\n",
    "RUN_DATETIME = '20240930_1945'\n",
    "print(RUN_DATETIME)"
   ]
  },
  {
   "cell_type": "code",
   "execution_count": 10,
   "id": "60285362-f1d0-48f0-91d3-1787dce08036",
   "metadata": {
    "editable": true,
    "execution": {
     "iopub.execute_input": "2024-09-30T17:53:34.683299Z",
     "iopub.status.busy": "2024-09-30T17:53:34.682905Z",
     "iopub.status.idle": "2024-09-30T17:53:34.719750Z",
     "shell.execute_reply": "2024-09-30T17:53:34.719032Z",
     "shell.execute_reply.started": "2024-09-30T17:53:34.683268Z"
    },
    "slideshow": {
     "slide_type": ""
    },
    "tags": []
   },
   "outputs": [],
   "source": [
    "# SNNL AUTOENCODERS \n",
    "AE_RUNMODE = \"snnl\"\n",
    "# AE_DATETIME = \"20240718_1956\"\n",
    "# AE_DATETIME = \"20240906_2201\"     # Autoencoder training - SNNL, CPB = 600, Latent 150, WD = 0.001, SNN Factor 3\n",
    "# AE_DATETIME = \"20240917_2004\"     # Autoencoder training - SNNL, CPB = 600, Latent 250, WD = 0.001, SNN Factor 3\n",
    "AE_DATETIME = \"20240924_0146\"     # Autoencoder training - SNNL, CPB = 600, Latent 250, WD = 0.001, SNN Factor 30\n",
    "\n",
    "## BASELINE AUTOENCODERS \n",
    "# AE_RUNMODE = 'base'\n",
    "# AE_DATETIME = \"20240917_2017\"     # Autoencoder training - Baseline, CPB = 600, Latent 250, WD = 0.001 (SNN Factor 0)\n",
    "\n",
    "# AE_CKPTTYPE = \"BEST\"\n",
    "AE_CKPTTYPE = \"LAST\""
   ]
  },
  {
   "cell_type": "code",
   "execution_count": 11,
   "id": "d2d0e2bf-cf85-4e98-9da8-9fbddbce96cd",
   "metadata": {
    "execution": {
     "iopub.execute_input": "2024-09-30T17:53:34.996580Z",
     "iopub.status.busy": "2024-09-30T17:53:34.996294Z",
     "iopub.status.idle": "2024-09-30T17:53:35.031082Z",
     "shell.execute_reply": "2024-09-30T17:53:35.030349Z",
     "shell.execute_reply.started": "2024-09-30T17:53:34.996558Z"
    }
   },
   "outputs": [
    {
     "name": "stdout",
     "output_type": "stream",
     "text": [
      "NN_snnl_embd600_250Ltnt_512_20240924_0146_LAST_20240930_1945_ep_{ep}\n"
     ]
    }
   ],
   "source": [
    "CKPT_FILE = f\"NN_{AE_RUNMODE.lower()}_embd600_{LATENT_DIM}Ltnt_512_{AE_DATETIME}_{AE_CKPTTYPE}_{RUN_DATETIME}_ep_{{ep}}\"\n",
    "print(CKPT_FILE)"
   ]
  },
  {
   "cell_type": "code",
   "execution_count": 12,
   "id": "b6eb2301-c0dd-44bf-840f-f641a6ba8eec",
   "metadata": {
    "execution": {
     "iopub.execute_input": "2024-09-30T17:53:38.539099Z",
     "iopub.status.busy": "2024-09-30T17:53:38.538560Z",
     "iopub.status.idle": "2024-09-30T17:53:38.575720Z",
     "shell.execute_reply": "2024-09-30T17:53:38.575034Z",
     "shell.execute_reply.started": "2024-09-30T17:53:38.539060Z"
    }
   },
   "outputs": [],
   "source": [
    "## total rows = 346,542\n",
    "## Trn file sz: 312,000 \n",
    "## Train      : 277,200    (312_000 - (21,600 + 12,600 + 600) = 277,200\n",
    "## Validation :  21,600\n",
    "## Test       :  12,600\n",
    "## Leftover   :     600\n",
    "cellpainting_args = {'compounds_per_batch': COMPOUNDS_PER_BATCH,\n",
    "                     'train_start'        : 0,\n",
    "                     'train_end'          : 277_200,\n",
    "                     'val_start'          : 0,\n",
    "                     'val_end'            : 21_600,\n",
    "                     'test_start'         : 0,\n",
    "                     'test_end'           : 12_600, \n",
    "                    }"
   ]
  },
  {
   "cell_type": "code",
   "execution_count": 13,
   "id": "c7136d84-a648-412a-aa64-bae3f405b9db",
   "metadata": {
    "execution": {
     "iopub.execute_input": "2024-09-30T17:53:40.348491Z",
     "iopub.status.busy": "2024-09-30T17:53:40.348213Z",
     "iopub.status.idle": "2024-09-30T17:53:40.411952Z",
     "shell.execute_reply": "2024-09-30T17:53:40.411279Z",
     "shell.execute_reply.started": "2024-09-30T17:53:40.348469Z"
    }
   },
   "outputs": [
    {
     "name": "stderr",
     "output_type": "stream",
     "text": [
      "2024-09-30 19:53:40,379 - utils.dataloader - INFO: -  Building CellPantingDataset for train\n",
      "2024-09-30 19:53:40,379 - utils.dataloader - INFO: -  filename:  /home/kevin/WSL-shared/cellpainting/cj-datasets/output_11102023/3_sample_embeddings/3smpl_prfl_embedding_261_HashOrder_snnl_20240924_0146_LAST_train.csv\n",
      "2024-09-30 19:53:40,380 - utils.dataloader - INFO: -  type    :  train\n",
      "2024-09-30 19:53:40,381 - utils.dataloader - INFO: -  start   :  0\n",
      "2024-09-30 19:53:40,382 - utils.dataloader - INFO: -  end     :  277200\n",
      "2024-09-30 19:53:40,382 - utils.dataloader - INFO: -  numrows :  277200\n",
      "2024-09-30 19:53:40,383 - utils.dataloader - INFO: -  names   :  None     usecols :  None\n",
      "2024-09-30 19:53:40,384 - utils.dataloader - INFO: -  batch_size  :  1\n",
      "2024-09-30 19:53:40,384 - utils.dataloader - INFO: -  sample_size :  3\n",
      "2024-09-30 19:53:40,385 - utils.dataloader - INFO: -  compounds_per_batch :  600\n",
      "2024-09-30 19:53:40,385 - utils.dataloader - INFO: -  rows per batch (chunksize) :  1800\n",
      "2024-09-30 19:53:40,386 - utils.dataloader - INFO: -  Each mini-batch contains 600.0 compounds with 3 samples per compound : total 1800 rows\n",
      "2024-09-30 19:53:40,387 - utils.dataloader - INFO: -  Number of 1800 row full size batches per epoch: 154\n",
      "2024-09-30 19:53:40,387 - utils.dataloader - INFO: -  Rows covered by 154 full size batches (1800 rows) per epoch:  277200\n",
      "2024-09-30 19:53:40,388 - utils.dataloader - INFO: -  Last partial batch contains : 0 rows\n",
      "2024-09-30 19:53:40,389 - utils.dataloader - INFO: -  \n",
      "2024-09-30 19:53:40,390 - utils.dataloader - INFO: -  Building CellPantingDataset for val\n",
      "2024-09-30 19:53:40,390 - utils.dataloader - INFO: -  filename:  /home/kevin/WSL-shared/cellpainting/cj-datasets/output_11102023/3_sample_embeddings/3smpl_prfl_embedding_261_HashOrder_snnl_20240924_0146_LAST_train_sub_val.csv\n",
      "2024-09-30 19:53:40,391 - utils.dataloader - INFO: -  type    :  val\n",
      "2024-09-30 19:53:40,392 - utils.dataloader - INFO: -  start   :  0\n",
      "2024-09-30 19:53:40,392 - utils.dataloader - INFO: -  end     :  21600\n",
      "2024-09-30 19:53:40,395 - utils.dataloader - INFO: -  numrows :  21600\n",
      "2024-09-30 19:53:40,395 - utils.dataloader - INFO: -  names   :  None     usecols :  None\n",
      "2024-09-30 19:53:40,396 - utils.dataloader - INFO: -  batch_size  :  1\n",
      "2024-09-30 19:53:40,396 - utils.dataloader - INFO: -  sample_size :  3\n",
      "2024-09-30 19:53:40,396 - utils.dataloader - INFO: -  compounds_per_batch :  600\n",
      "2024-09-30 19:53:40,397 - utils.dataloader - INFO: -  rows per batch (chunksize) :  1800\n",
      "2024-09-30 19:53:40,397 - utils.dataloader - INFO: -  Each mini-batch contains 600.0 compounds with 3 samples per compound : total 1800 rows\n",
      "2024-09-30 19:53:40,398 - utils.dataloader - INFO: -  Number of 1800 row full size batches per epoch: 12\n",
      "2024-09-30 19:53:40,398 - utils.dataloader - INFO: -  Rows covered by 12 full size batches (1800 rows) per epoch:  21600\n",
      "2024-09-30 19:53:40,399 - utils.dataloader - INFO: -  Last partial batch contains : 0 rows\n",
      "2024-09-30 19:53:40,399 - utils.dataloader - INFO: -  \n",
      "2024-09-30 19:53:40,399 - utils.dataloader - INFO: -  Building CellPantingDataset for test\n",
      "2024-09-30 19:53:40,400 - utils.dataloader - INFO: -  filename:  /home/kevin/WSL-shared/cellpainting/cj-datasets/output_11102023/3_sample_embeddings/3smpl_prfl_embedding_261_HashOrder_snnl_20240924_0146_LAST_train_sub_test.csv\n",
      "2024-09-30 19:53:40,400 - utils.dataloader - INFO: -  type    :  test\n",
      "2024-09-30 19:53:40,401 - utils.dataloader - INFO: -  start   :  0\n",
      "2024-09-30 19:53:40,401 - utils.dataloader - INFO: -  end     :  12600\n",
      "2024-09-30 19:53:40,402 - utils.dataloader - INFO: -  numrows :  12600\n",
      "2024-09-30 19:53:40,402 - utils.dataloader - INFO: -  names   :  None     usecols :  None\n",
      "2024-09-30 19:53:40,402 - utils.dataloader - INFO: -  batch_size  :  1\n",
      "2024-09-30 19:53:40,403 - utils.dataloader - INFO: -  sample_size :  3\n",
      "2024-09-30 19:53:40,403 - utils.dataloader - INFO: -  compounds_per_batch :  600\n",
      "2024-09-30 19:53:40,404 - utils.dataloader - INFO: -  rows per batch (chunksize) :  1800\n",
      "2024-09-30 19:53:40,404 - utils.dataloader - INFO: -  Each mini-batch contains 600.0 compounds with 3 samples per compound : total 1800 rows\n",
      "2024-09-30 19:53:40,404 - utils.dataloader - INFO: -  Number of 1800 row full size batches per epoch: 7\n",
      "2024-09-30 19:53:40,405 - utils.dataloader - INFO: -  Rows covered by 7 full size batches (1800 rows) per epoch:  12600\n",
      "2024-09-30 19:53:40,405 - utils.dataloader - INFO: -  Last partial batch contains : 0 rows\n",
      "2024-09-30 19:53:40,406 - utils.dataloader - INFO: -  \n"
     ]
    },
    {
     "name": "stdout",
     "output_type": "stream",
     "text": [
      " TRAIN_INPUT:  /home/kevin/WSL-shared/cellpainting/cj-datasets/output_11102023/3_sample_embeddings/3smpl_prfl_embedding_261_HashOrder_snnl_20240924_0146_LAST_train.csv\n",
      " TEST_INPUT :  /home/kevin/WSL-shared/cellpainting/cj-datasets/output_11102023/3_sample_embeddings/3smpl_prfl_embedding_261_HashOrder_snnl_20240924_0146_LAST_train_sub_test.csv\n",
      " ALL_INPUT  :  /home/kevin/WSL-shared/cellpainting/cj-datasets/output_11102023/3_sample_embeddings/3smpl_prfl_embedding_261_HashOrder_snnl_20240924_0146_LAST_train_sub_val.csv\n",
      " load {}\n",
      " Dataset size: 277200   rows per batch: 1800\n",
      " Dataset size: 21600   rows per batch: 1800\n",
      " Dataset size: 12600   rows per batch: 1800\n"
     ]
    }
   ],
   "source": [
    "data_loader = define_datasets(cellpainting_args, AE_RUNMODE, AE_DATETIME, input_cols, AE_CKPTTYPE, INPUT_PATH)"
   ]
  },
  {
   "attachments": {},
   "cell_type": "markdown",
   "id": "9af485a0-e4bd-4e05-8764-39a5d9f908c8",
   "metadata": {},
   "source": [
    "## Input Dataloader\n",
    "\n",
    " ### Split the training portion of the dataset into train, val and test\n"
   ]
  },
  {
   "cell_type": "code",
   "execution_count": 14,
   "id": "417e03f3-163a-42d4-8055-7e39f9c3f8af",
   "metadata": {
    "editable": true,
    "execution": {
     "iopub.execute_input": "2024-09-30T17:53:45.215375Z",
     "iopub.status.busy": "2024-09-30T17:53:45.214886Z",
     "iopub.status.idle": "2024-09-30T17:53:45.251953Z",
     "shell.execute_reply": "2024-09-30T17:53:45.251274Z",
     "shell.execute_reply.started": "2024-09-30T17:53:45.215334Z"
    },
    "slideshow": {
     "slide_type": ""
    },
    "tags": []
   },
   "outputs": [],
   "source": [
    "# TRAIN_INPUT_FILE = f\"3smpl_prfl_embedding_{num_cols}_HashOrder_{AE_RUNMODE}_{AE_DATETIME}_{AE_CKPTTYPE}_train.csv\"\n",
    "# TEST_INPUT_FILE  = f\"3smpl_prfl_embedding_{num_cols}_HashOrder_{AE_RUNMODE}_{AE_DATETIME}_{AE_CKPTTYPE}_train_sub_test.csv\"\n",
    "# VAL_INPUT_FILE   = f\"3smpl_prfl_embedding_{num_cols}_HashOrder_{AE_RUNMODE}_{AE_DATETIME}_{AE_CKPTTYPE}_train_sub_val.csv\"\n",
    "# # ALL_INPUT_FILE   = f\"3smpl_prfl_embedding_{num_cols}_HashOrder_{AE_RUNMODE}_{AE_DATETIME}_{AE_CKPTTYPE}_sub_val.csv\"\n",
    "\n",
    "# TRAIN_INPUT = os.path.join(INPUT_PATH, TRAIN_INPUT_FILE)\n",
    "# TEST_INPUT  = os.path.join(INPUT_PATH, TEST_INPUT_FILE)\n",
    "# VAL_INPUT   = os.path.join(INPUT_PATH, VAL_INPUT_FILE)\n",
    "\n",
    "# print(f\" TRAIN_INPUT:  {TRAIN_INPUT}\")\n",
    "# print(f\" TEST_INPUT :  {TEST_INPUT }\")\n",
    "# print(f\" ALL_INPUT  :  {VAL_INPUT }\")"
   ]
  },
  {
   "cell_type": "code",
   "execution_count": 15,
   "id": "9560e3bb-2771-46e7-8938-9adc3510f59c",
   "metadata": {
    "execution": {
     "iopub.execute_input": "2024-09-30T17:53:45.426989Z",
     "iopub.status.busy": "2024-09-30T17:53:45.426646Z",
     "iopub.status.idle": "2024-09-30T17:53:45.464587Z",
     "shell.execute_reply": "2024-09-30T17:53:45.463806Z",
     "shell.execute_reply.started": "2024-09-30T17:53:45.426961Z"
    }
   },
   "outputs": [],
   "source": [
    "## total rows = 346,542\n",
    "## Trn file sz: 312,000 \n",
    "## Train      : 277,200    (312_000 - (21,600 + 12,600 + 600) = 277,200\n",
    "## Validation :  21,600\n",
    "## Test       :  12,600\n",
    "## Leftover   :     600\n",
    "# cellpainting_args = {'sample_size': 3,\n",
    "#                      'batch_size': 1,\n",
    "#                      'compounds_per_batch': 600,\n",
    "#                      'training_path'  : TRAIN_INPUT,\n",
    "#                      'validation_path': TRAIN_INPUT,\n",
    "#                      'test_path'      : TRAIN_INPUT,\n",
    "#                      'train_start'    : 0,\n",
    "#                      'train_end'      : 277_200,  # 277,200 samples\n",
    "#                      'val_start'      : 277_200,  # \n",
    "#                      'val_end'        : 298_800,  # 21_600 samples\n",
    "#                      'test_start'     : 298_800,  # \n",
    "#                      'test_end'       : 311_400,  # 12_600 samples\n",
    "#                     }\n",
    "\n",
    "\n",
    "# cellpainting_args = {'compounds_per_batch': COMPOUNDS_PER_BATCH,\n",
    "#                      'training_path'      : TRAIN_INPUT,\n",
    "#                      'validation_path'    :  VAL_INPUT,\n",
    "#                      'test_path'          : TEST_INPUT,\n",
    "#                      'train_start'        : 0,\n",
    "#                      'train_end'          : 277_200,\n",
    "#                      'val_start'          : 0,\n",
    "#                      'val_end'            : 21_600,\n",
    "#                      'test_start'         : 0,\n",
    "#                      'test_end'           : 12_600, \n",
    "#                     }"
   ]
  },
  {
   "cell_type": "code",
   "execution_count": 16,
   "id": "ac80b685-550e-43a7-b48d-af4518aa718a",
   "metadata": {
    "execution": {
     "iopub.execute_input": "2024-09-30T17:53:45.636390Z",
     "iopub.status.busy": "2024-09-30T17:53:45.636112Z",
     "iopub.status.idle": "2024-09-30T17:53:45.672511Z",
     "shell.execute_reply": "2024-09-30T17:53:45.671838Z",
     "shell.execute_reply.started": "2024-09-30T17:53:45.636369Z"
    }
   },
   "outputs": [],
   "source": [
    "# cellpainting_args"
   ]
  },
  {
   "cell_type": "code",
   "execution_count": 17,
   "id": "3dda57be-1cd6-4598-b05e-a1c8b68176df",
   "metadata": {
    "execution": {
     "iopub.execute_input": "2024-09-30T17:53:47.867676Z",
     "iopub.status.busy": "2024-09-30T17:53:47.867174Z",
     "iopub.status.idle": "2024-09-30T17:53:47.903314Z",
     "shell.execute_reply": "2024-09-30T17:53:47.902649Z",
     "shell.execute_reply.started": "2024-09-30T17:53:47.867640Z"
    },
    "scrolled": true
   },
   "outputs": [],
   "source": [
    "#### Load CellPainting Dataset\n",
    "# data : keys to the dataset settings (and resulting keys in output dictionary)\n",
    "# dataset = dict()\n",
    "# data_loader = dict()\n",
    "\n",
    "# print(f\" load {dataset}\")\n",
    "# for datatype in ['train', 'val', 'test']:\n",
    "#     dataset[datatype] = CellpaintingDataset(type = datatype, **cellpainting_args)\n",
    "#     data_loader[datatype] = InfiniteDataLoader(dataset = dataset[datatype], batch_size=1, shuffle = False, num_workers = 0, collate_fn = custom_collate_fn)"
   ]
  },
  {
   "cell_type": "code",
   "execution_count": 18,
   "id": "5465d0ad-2f89-45a5-9e48-a55da7c4fa47",
   "metadata": {
    "execution": {
     "iopub.execute_input": "2024-09-30T17:53:48.556973Z",
     "iopub.status.busy": "2024-09-30T17:53:48.556692Z",
     "iopub.status.idle": "2024-09-30T17:53:48.595387Z",
     "shell.execute_reply": "2024-09-30T17:53:48.594582Z",
     "shell.execute_reply.started": "2024-09-30T17:53:48.556951Z"
    },
    "scrolled": true
   },
   "outputs": [],
   "source": [
    "# %%timeit\n",
    "# for dataset in ['train', 'val', 'test']:\n",
    "#     for idx, batch in enumerate(data_loader[dataset]):\n",
    "#         print(batch[0].shape[0], batch[1].sum())\n",
    "#         # display_cellpainting_batch(idx, batch)\n",
    "#         if idx == 1:\n",
    "#             break"
   ]
  },
  {
   "cell_type": "code",
   "execution_count": 19,
   "id": "1247a1cd-eda6-4231-9603-feab85fea20d",
   "metadata": {
    "execution": {
     "iopub.execute_input": "2024-09-30T17:53:48.818960Z",
     "iopub.status.busy": "2024-09-30T17:53:48.818587Z",
     "iopub.status.idle": "2024-09-30T17:53:48.854418Z",
     "shell.execute_reply": "2024-09-30T17:53:48.853824Z",
     "shell.execute_reply.started": "2024-09-30T17:53:48.818938Z"
    }
   },
   "outputs": [],
   "source": [
    "# # -----------------------------------------\n",
    "# #  Count pos/neg labels in each dataset\n",
    "# # -----------------------------------------\n",
    "# for datatype in ['train', 'val', 'test']:\n",
    "#     MINIBATCH_SIZE = data_loader[datatype].dataset.sample_size * data_loader[datatype].dataset.compounds_per_batch\n",
    "#     print(f\" {datatype.capitalize()} Minibatch size : {MINIBATCH_SIZE} \\n\") \n",
    "# # for datatype in ['val', 'test']:\n",
    "#     minibatches = len(data_loader[datatype]) // MINIBATCH_SIZE\n",
    "#     ttl_rows = 0\n",
    "#     ttl_pos_labels = 0\n",
    "#     with tqdm.tqdm(enumerate(data_loader[datatype]), initial=0, total = minibatches, position=0, file=sys.stdout,\n",
    "#                    leave= False, desc=f\" Count labels \") as t_warmup:\n",
    "#         for batch_count, (batch_features, batch_labels, _, _, _, _) in t_warmup:\n",
    "#             ttl_rows += batch_labels.shape[0]\n",
    "#             ttl_pos_labels += batch_labels.sum()\n",
    "#     ttl_neg_labels = ttl_rows - ttl_pos_labels\n",
    "#     ttl = f\"\\n Dataset: {datatype} -  len of {datatype} data loader: {len(data_loader[datatype])}   number of batches: {minibatches}\"\n",
    "#     print(ttl)\n",
    "#     print('-'*len(ttl))\n",
    "#     print(f\" total rows     : {ttl_rows:7d}\")\n",
    "#     print(f\" total pos rows : {ttl_pos_labels:7.0f} - {ttl_pos_labels*100.0/ttl_rows:5.2f}%\")\n",
    "#     print(f\" total neg rows : {ttl_neg_labels:7.0f} - {ttl_neg_labels*100.0/ttl_rows:5.2f}%\")\n",
    "#     print()"
   ]
  },
  {
   "cell_type": "markdown",
   "id": "0424ff70-bcba-4702-bbb1-9d1871a5489d",
   "metadata": {},
   "source": [
    "     Minibatch size : 1800 \n",
    "                                                                                                 \n",
    "     Dataset: train - len of train data loader: 277200   number of batches: 154  \n",
    "    ------------------------------\n",
    "     total rows     :  277200\n",
    "     total pos rows :   33129 - 11.95%\n",
    "     total neg rows :  244071 - 88.05%\n",
    "\n",
    "     Dataset: val - len of val data loader: 21600   number of batches: 12\n",
    "    ------------------------------\n",
    "     total rows     :   21600\n",
    "     total pos rows :    2532 - 11.72%\n",
    "     total neg rows :   19068 - 88.28%\n",
    "    \n",
    "     Dataset: test - len of test data loader: 12600   number of batches: 7\n",
    "    ------------------------------\n",
    "     total rows     :   12600\n",
    "     total pos rows :    1431 - 11.36%\n",
    "     total neg rows :   11169 - 88.64%"
   ]
  },
  {
   "attachments": {},
   "cell_type": "markdown",
   "id": "c4af9154-15a1-4321-8feb-89f1885964f1",
   "metadata": {},
   "source": [
    "# Define Neural Net Model \n",
    "\n",
    "- **4 layer model :**\n",
    "\n",
    "    Input --> Hidden1 --> (BN/NL) ---> Hidden2 ---> (BN/NL) ---> Hidden3 --->  (BN/NL) ---> 1\n",
    "   \n",
    "    -  **20240909_1800** : Run on 4 FC layers model (includes final layer), model configuration UNKNOWN\n",
    "    -  **20240909_1801** : Run on 4 FC layers model (includes final layer), Relu non linearities (NO Batch Norm)\n",
    "    -  **20240909_2100** : Run on 4 FC layers model (includes final layer), with BATCH NORM and tanh non linearities  \n",
    " - **Single Hidden Layer - 256**\n",
    "\n",
    "   Input --> Hidden1 --> (Tanh) --->  1\n",
    "    -  **20240916_1830** : Run on 1 FC layers model (includes final layer), Input --> 256 --> Tanh --> 1 ,  Read from 20240906_2201 (SNNL - CPB 600, LAT 150, SNN Factor 3)\n",
    "    -  **20240926_1900** : Run on 1 FC layers model (includes final layer), Input --> 256 --> Tanh --> 1 ,  Read from 20240917_2017 (BASELINE - CPB 600, LAT 250, SNN Factor 0)\n",
    "    -  **20240926_1930** : Run on 1 FC layers model (includes final layer), Input --> 256 --> Tanh --> 1 ,  Read from 20240917_2004 (SNNL - CPB 600, LAT 250, SNN Factor 3)\n",
    "    -  **20240926_2000** : Run on 1 FC layers model (includes final layer), Input --> 256 --> Tanh --> 1 ,  Read from 20240924_0146 (SNNL - CPB 600, LAT 250, SNN Factor 30)\n",
    "<br>\n",
    "\n",
    " - **Single Hidden Layer - 256**\n",
    "\n",
    "    -  **20240921_0700** : Run on 1 FC layers model (includes final layer), Input --> 512 --> Tanh --> 1 ,  Read from 20240906_2201 (SNNL - CPB 600, LAT 150, SNN Factor 3)    \n"
   ]
  },
  {
   "cell_type": "code",
   "execution_count": 20,
   "id": "78dd68d4-cabf-4b8b-ba9f-82fbda15fc4c",
   "metadata": {
    "ExecuteTime": {
     "end_time": "2023-07-31T18:45:10.550334Z",
     "start_time": "2023-07-31T18:45:07.868769Z"
    },
    "execution": {
     "iopub.execute_input": "2024-09-30T17:53:51.979038Z",
     "iopub.status.busy": "2024-09-30T17:53:51.978435Z",
     "iopub.status.idle": "2024-09-30T17:53:52.019053Z",
     "shell.execute_reply": "2024-09-30T17:53:52.018131Z",
     "shell.execute_reply.started": "2024-09-30T17:53:51.978992Z"
    }
   },
   "outputs": [],
   "source": [
    "# Set visible GPU device \n",
    "# ----------------------------------------------\n",
    "if torch.cuda.is_available():\n",
    "    device = torch.device('cuda:0')\n",
    "else:\n",
    "    device = torch.device('cpu')\n",
    "\n",
    "try:\n",
    "    del model\n",
    "except Exception as e:\n",
    "    pass"
   ]
  },
  {
   "cell_type": "code",
   "execution_count": 21,
   "id": "f32c6590-d212-4f37-8ce1-4ee46fd4246a",
   "metadata": {
    "ExecuteTime": {
     "end_time": "2023-07-31T18:45:44.380055Z",
     "start_time": "2023-07-31T18:45:41.073911Z"
    },
    "execution": {
     "iopub.execute_input": "2024-09-30T17:53:52.416981Z",
     "iopub.status.busy": "2024-09-30T17:53:52.416682Z",
     "iopub.status.idle": "2024-09-30T17:53:52.458548Z",
     "shell.execute_reply": "2024-09-30T17:53:52.457825Z",
     "shell.execute_reply.started": "2024-09-30T17:53:52.416959Z"
    }
   },
   "outputs": [],
   "source": [
    "\n",
    "# model = build_model('single_layer', input = n_input, hidden_1 = n_hidden_1, device = device)\n",
    "# model = build_model('relu', input = n_input, hidden_1 = n_hidden_1, hidden_2 = n_hidden_2, hidden_3=n_hidden_3, device = device)\n",
    "model = build_model('batch_norm', input = n_input, hidden_1 = n_hidden_1, hidden_2 = n_hidden_2, hidden_3=n_hidden_3, device = device)\n"
   ]
  },
  {
   "cell_type": "code",
   "execution_count": 22,
   "id": "516fbc97-8c0d-4ba9-820d-c37c4eaebf27",
   "metadata": {
    "ExecuteTime": {
     "end_time": "2023-07-31T18:47:48.292853Z",
     "start_time": "2023-07-31T18:47:45.651556Z"
    },
    "execution": {
     "iopub.execute_input": "2024-09-30T17:53:53.427173Z",
     "iopub.status.busy": "2024-09-30T17:53:53.426892Z",
     "iopub.status.idle": "2024-09-30T17:53:53.515404Z",
     "shell.execute_reply": "2024-09-30T17:53:53.514670Z",
     "shell.execute_reply.started": "2024-09-30T17:53:53.427152Z"
    },
    "scrolled": true
   },
   "outputs": [
    {
     "name": "stdout",
     "output_type": "stream",
     "text": [
      "Parm shape: torch.Size([512, 250])                 # elements:   128000    Required gradient calc: True\n",
      "Parm shape: torch.Size([512])                      # elements:      512    Required gradient calc: True\n",
      "Parm shape: torch.Size([512])                      # elements:      512    Required gradient calc: True\n",
      "Parm shape: torch.Size([512])                      # elements:      512    Required gradient calc: True\n",
      "Parm shape: torch.Size([512, 512])                 # elements:   262144    Required gradient calc: True\n",
      "Parm shape: torch.Size([512])                      # elements:      512    Required gradient calc: True\n",
      "Parm shape: torch.Size([512])                      # elements:      512    Required gradient calc: True\n",
      "Parm shape: torch.Size([512])                      # elements:      512    Required gradient calc: True\n",
      "Parm shape: torch.Size([128, 512])                 # elements:    65536    Required gradient calc: True\n",
      "Parm shape: torch.Size([128])                      # elements:      128    Required gradient calc: True\n",
      "Parm shape: torch.Size([128])                      # elements:      128    Required gradient calc: True\n",
      "Parm shape: torch.Size([128])                      # elements:      128    Required gradient calc: True\n",
      "Parm shape: torch.Size([1, 128])                   # elements:      128    Required gradient calc: True\n",
      "Parm shape: torch.Size([1])                        # elements:        1    Required gradient calc: True\n",
      "Total num of parameters: 459265\n",
      "==============================================================================================================================================================================================\n",
      "Layer (type:depth-idx)                   Input Shape               Output Shape              Param #                   Param %                   Mult-Adds                 Trainable\n",
      "==============================================================================================================================================================================================\n",
      "Sequential                               [30, 250]                 [30, 1]                   --                             --                   --                        True\n",
      "├─Linear: 1-1                            [30, 250]                 [30, 512]                 128,512                    27.98%                   3,855,360                 True\n",
      "│    └─weight                                                                                ├─128,000\n",
      "│    └─bias                                                                                  └─512\n",
      "├─BatchNorm1d: 1-2                       [30, 512]                 [30, 512]                 1,024                       0.22%                   30,720                    True\n",
      "│    └─weight                                                                                ├─512\n",
      "│    └─bias                                                                                  └─512\n",
      "├─Tanh: 1-3                              [30, 512]                 [30, 512]                 --                             --                   --                        --\n",
      "├─Linear: 1-4                            [30, 512]                 [30, 512]                 262,656                    57.19%                   7,879,680                 True\n",
      "│    └─weight                                                                                ├─262,144\n",
      "│    └─bias                                                                                  └─512\n",
      "├─BatchNorm1d: 1-5                       [30, 512]                 [30, 512]                 1,024                       0.22%                   30,720                    True\n",
      "│    └─weight                                                                                ├─512\n",
      "│    └─bias                                                                                  └─512\n",
      "├─Tanh: 1-6                              [30, 512]                 [30, 512]                 --                             --                   --                        --\n",
      "├─Linear: 1-7                            [30, 512]                 [30, 128]                 65,664                     14.30%                   1,969,920                 True\n",
      "│    └─weight                                                                                ├─65,536\n",
      "│    └─bias                                                                                  └─128\n",
      "├─BatchNorm1d: 1-8                       [30, 128]                 [30, 128]                 256                         0.06%                   7,680                     True\n",
      "│    └─weight                                                                                ├─128\n",
      "│    └─bias                                                                                  └─128\n",
      "├─Tanh: 1-9                              [30, 128]                 [30, 128]                 --                             --                   --                        --\n",
      "├─Linear: 1-10                           [30, 128]                 [30, 1]                   129                         0.03%                   3,870                     True\n",
      "│    └─weight                                                                                ├─128\n",
      "│    └─bias                                                                                  └─1\n",
      "==============================================================================================================================================================================================\n",
      "Total params: 459,265\n",
      "Trainable params: 459,265\n",
      "Non-trainable params: 0\n",
      "Total mult-adds (Units.MEGABYTES): 13.78\n",
      "==============================================================================================================================================================================================\n",
      "Input size (MB): 0.03\n",
      "Forward/backward pass size (MB): 0.55\n",
      "Params size (MB): 1.84\n",
      "Estimated Total Size (MB): 2.42\n",
      "==============================================================================================================================================================================================\n"
     ]
    }
   ],
   "source": [
    "ttl_nelements = 0\n",
    "for p in model.parameters():\n",
    "    print(f\"Parm shape: {str(p.shape):35s}    # elements: {p.nelement():8d}    Required gradient calc: {p.requires_grad}\")\n",
    "    ttl_nelements += p.nelement()\n",
    "print(f\"Total num of parameters: {ttl_nelements}\")  # number of parameters in total\n",
    "\n",
    "col_names = [\"input_size\", \"output_size\", \"num_params\", \"params_percent\", \"mult_adds\", \"trainable\"]\n",
    "\n",
    "summary_input_size = (30, n_input)\n",
    "_ = summary(model, verbose = 2, input_size=summary_input_size, col_names = col_names)"
   ]
  },
  {
   "cell_type": "code",
   "execution_count": 24,
   "id": "4b7fc769-9c11-41df-b717-93fbb08024af",
   "metadata": {
    "execution": {
     "iopub.execute_input": "2024-09-30T17:54:29.107033Z",
     "iopub.status.busy": "2024-09-30T17:54:29.106524Z",
     "iopub.status.idle": "2024-09-30T17:54:29.144034Z",
     "shell.execute_reply": "2024-09-30T17:54:29.143326Z",
     "shell.execute_reply.started": "2024-09-30T17:54:29.106993Z"
    }
   },
   "outputs": [],
   "source": [
    "# ## parameter initialization\n",
    "# with torch.no_grad():\n",
    "#     model[-1].weight *= 0.1 # last layer make less confident\n",
    "# model[-1].weight.sum()"
   ]
  },
  {
   "cell_type": "code",
   "execution_count": 25,
   "id": "c6108f53-ea01-4f3a-a589-c41f55d4e821",
   "metadata": {
    "execution": {
     "iopub.execute_input": "2024-09-30T17:54:31.904331Z",
     "iopub.status.busy": "2024-09-30T17:54:31.903827Z",
     "iopub.status.idle": "2024-09-30T17:54:31.947939Z",
     "shell.execute_reply": "2024-09-30T17:54:31.947134Z",
     "shell.execute_reply.started": "2024-09-30T17:54:31.904288Z"
    }
   },
   "outputs": [
    {
     "name": "stdout",
     "output_type": "stream",
     "text": [
      "NN_snnl_embd600_250Ltnt_512_20240924_0146_LAST_20240930_1945_ep_{ep}\n"
     ]
    }
   ],
   "source": [
    "CKPT_FILE = f\"NN_{AE_RUNMODE.lower()}_embd600_{LATENT_DIM}Ltnt_512_{AE_DATETIME}_{AE_CKPTTYPE}_{RUN_DATETIME}_ep_{{ep}}\"\n",
    "print(CKPT_FILE)\n",
    "\n",
    "metrics = { 'loss_trn' : [], 'acc_trn' : [], 'loss_val' : [], 'acc_val' : []}\n",
    "\n",
    "start_epoch, end_epoch = 0,0\n",
    "init_LR = 1.0e-3\n",
    "# curr_LR = init_LR\n",
    "\n",
    "# create a PyTorch optimizer\n",
    "optimizer = torch.optim.AdamW(model.parameters(), lr=init_LR)\n",
    "\n",
    "# scheduler = torch.optim.lr_scheduler.ReduceLROnPlateau(optimizer, mode = 'min', factor = 0.3 , patience=20, cooldown=10,)\n",
    "# scheduler = torch.optim.lr_scheduler.StepLR(optimizer, step_size = step_size, gamma=0.1, last_epoch =-1)\n",
    "scheduler = torch.optim.lr_scheduler.ReduceLROnPlateau(optimizer, mode = 'min', factor = 0.5, threshold=1.0e-06, patience=50, cooldown=10,)"
   ]
  },
  {
   "cell_type": "markdown",
   "id": "4cbb012c-1066-4a40-ba6d-8bd792e06ffb",
   "metadata": {},
   "source": [
    "### Read checkpoint"
   ]
  },
  {
   "cell_type": "code",
   "execution_count": 26,
   "id": "9d8cc5c1-a8b4-4488-ba18-c7b6180722ca",
   "metadata": {
    "execution": {
     "iopub.execute_input": "2024-09-30T17:54:33.043163Z",
     "iopub.status.busy": "2024-09-30T17:54:33.042868Z",
     "iopub.status.idle": "2024-09-30T17:54:33.077169Z",
     "shell.execute_reply": "2024-09-30T17:54:33.076454Z",
     "shell.execute_reply.started": "2024-09-30T17:54:33.043141Z"
    }
   },
   "outputs": [],
   "source": [
    "# loaded_epoch\n",
    "# optimizer.state_dict()\n",
    "# scheduler.state_dict()"
   ]
  },
  {
   "cell_type": "code",
   "execution_count": 27,
   "id": "9d093781-edac-4acb-a6ed-8c9f322228e4",
   "metadata": {
    "execution": {
     "iopub.execute_input": "2024-09-30T17:54:33.371095Z",
     "iopub.status.busy": "2024-09-30T17:54:33.370664Z",
     "iopub.status.idle": "2024-09-30T17:54:33.406926Z",
     "shell.execute_reply": "2024-09-30T17:54:33.406321Z",
     "shell.execute_reply.started": "2024-09-30T17:54:33.371062Z"
    }
   },
   "outputs": [],
   "source": [
    "# from utils.utils_cellpainting import load_checkpoint\n",
    "# model, optimizer, scheudler, end_epoch = load_checkpoint(model, optimizer, scheduler, checkpoint_file.format(ep=100), ckpt_path = CKPT_PATH)\n",
    "# model = model.to(device)"
   ]
  },
  {
   "cell_type": "code",
   "execution_count": 28,
   "id": "9599cdd1-7434-4360-aa21-d8130696ffc3",
   "metadata": {
    "execution": {
     "iopub.execute_input": "2024-09-30T17:54:34.496678Z",
     "iopub.status.busy": "2024-09-30T17:54:34.496335Z",
     "iopub.status.idle": "2024-09-30T17:54:34.532481Z",
     "shell.execute_reply": "2024-09-30T17:54:34.531937Z",
     "shell.execute_reply.started": "2024-09-30T17:54:34.496656Z"
    }
   },
   "outputs": [],
   "source": [
    "# end_epoch\n",
    "# optimizer.state_dict()\n",
    "# scheduler.state_dict()"
   ]
  },
  {
   "cell_type": "markdown",
   "id": "5a53a7c8-de53-45ec-ac18-2519c89e3ce5",
   "metadata": {},
   "source": [
    "# Run Training"
   ]
  },
  {
   "cell_type": "code",
   "execution_count": 29,
   "id": "31ec54be-10d4-4b6e-85c9-8175fab24f02",
   "metadata": {
    "ExecuteTime": {
     "end_time": "2023-07-31T18:48:09.459977Z",
     "start_time": "2023-07-31T18:48:09.429767Z"
    },
    "execution": {
     "iopub.execute_input": "2024-09-30T17:54:35.178165Z",
     "iopub.status.busy": "2024-09-30T17:54:35.177727Z",
     "iopub.status.idle": "2024-09-30T17:54:35.216693Z",
     "shell.execute_reply": "2024-09-30T17:54:35.216009Z",
     "shell.execute_reply.started": "2024-09-30T17:54:35.178134Z"
    }
   },
   "outputs": [
    {
     "name": "stdout",
     "output_type": "stream",
     "text": [
      "0 600\n"
     ]
    }
   ],
   "source": [
    "# start_epoch = 0\n",
    "# start_epoch = loaded_epoch\n",
    "start_epoch = end_epoch\n",
    "end_epoch += 600\n",
    "# start_epoch, end_epoch = 0,100\n",
    "print(start_epoch, end_epoch)\n",
    "_ = model.train()"
   ]
  },
  {
   "cell_type": "code",
   "execution_count": 30,
   "id": "b26ae239-ec9d-4afc-aef9-387fa19d0ca0",
   "metadata": {
    "ExecuteTime": {
     "end_time": "2023-07-31T19:00:14.450630Z",
     "start_time": "2023-07-31T18:49:12.235999Z"
    },
    "execution": {
     "iopub.execute_input": "2024-09-30T17:54:35.499257Z",
     "iopub.status.busy": "2024-09-30T17:54:35.498846Z",
     "iopub.status.idle": "2024-09-30T21:55:16.206175Z",
     "shell.execute_reply": "2024-09-30T21:55:16.205455Z",
     "shell.execute_reply.started": "2024-09-30T17:54:35.499224Z"
    },
    "scrolled": true
   },
   "outputs": [
    {
     "name": "stdout",
     "output_type": "stream",
     "text": [
      " 19:55:00 | Ep:   1/ 600 | Trn loss:  0.408001 - Acc: 85.7172 | Val loss:  0.355314 - Acc: 88.1481 | last_lr: 1.00000e-03  bad_ep: 0  cdwn: 0                              \n",
      " 19:55:24 | Ep:   2/ 600 | Trn loss:  0.359419 - Acc: 87.9827 | Val loss:  0.353672 - Acc: 88.1620 | last_lr: 1.00000e-03  bad_ep: 0  cdwn: 0                              \n",
      " 19:55:48 | Ep:   3/ 600 | Trn loss:  0.357948 - Acc: 88.0339 | Val loss:  0.353858 - Acc: 88.1806 | last_lr: 1.00000e-03  bad_ep: 1  cdwn: 0                              \n",
      " 19:56:11 | Ep:   4/ 600 | Trn loss:  0.357275 - Acc: 88.0447 | Val loss:  0.352512 - Acc: 88.2315 | last_lr: 1.00000e-03  bad_ep: 0  cdwn: 0                              \n",
      " 19:56:35 | Ep:   5/ 600 | Trn loss:  0.356700 - Acc: 88.0602 | Val loss:  0.352397 - Acc: 88.2407 | last_lr: 1.00000e-03  bad_ep: 0  cdwn: 0                              \n",
      " 19:56:59 | Ep:   6/ 600 | Trn loss:  0.356045 - Acc: 88.0584 | Val loss:  0.351732 - Acc: 88.2454 | last_lr: 1.00000e-03  bad_ep: 0  cdwn: 0                              \n",
      " 19:57:22 | Ep:   7/ 600 | Trn loss:  0.355701 - Acc: 88.0642 | Val loss:  0.352094 - Acc: 88.2407 | last_lr: 1.00000e-03  bad_ep: 1  cdwn: 0                              \n",
      " 19:57:46 | Ep:   8/ 600 | Trn loss:  0.355342 - Acc: 88.0740 | Val loss:  0.352286 - Acc: 88.2222 | last_lr: 1.00000e-03  bad_ep: 2  cdwn: 0                              \n",
      " 19:58:10 | Ep:   9/ 600 | Trn loss:  0.355096 - Acc: 88.0703 | Val loss:  0.352677 - Acc: 88.2361 | last_lr: 1.00000e-03  bad_ep: 3  cdwn: 0                              \n",
      " 19:58:34 | Ep:  10/ 600 | Trn loss:  0.354962 - Acc: 88.0747 | Val loss:  0.352562 - Acc: 88.2361 | last_lr: 1.00000e-03  bad_ep: 4  cdwn: 0                              \n",
      " 19:58:58 | Ep:  11/ 600 | Trn loss:  0.354888 - Acc: 88.0703 | Val loss:  0.352681 - Acc: 88.2407 | last_lr: 1.00000e-03  bad_ep: 5  cdwn: 0                              \n",
      " 19:59:21 | Ep:  12/ 600 | Trn loss:  0.354727 - Acc: 88.0743 | Val loss:  0.352572 - Acc: 88.2454 | last_lr: 1.00000e-03  bad_ep: 6  cdwn: 0                              \n",
      " 19:59:45 | Ep:  13/ 600 | Trn loss:  0.354540 - Acc: 88.0768 | Val loss:  0.352329 - Acc: 88.2454 | last_lr: 1.00000e-03  bad_ep: 7  cdwn: 0                              \n",
      " 20:00:09 | Ep:  14/ 600 | Trn loss:  0.354331 - Acc: 88.0736 | Val loss:  0.352069 - Acc: 88.2176 | last_lr: 1.00000e-03  bad_ep: 8  cdwn: 0                              \n",
      " 20:00:32 | Ep:  15/ 600 | Trn loss:  0.354190 - Acc: 88.0678 | Val loss:  0.351800 - Acc: 88.2130 | last_lr: 1.00000e-03  bad_ep: 9  cdwn: 0                              \n",
      " 20:00:56 | Ep:  16/ 600 | Trn loss:  0.354008 - Acc: 88.0689 | Val loss:  0.351655 - Acc: 88.2176 | last_lr: 1.00000e-03  bad_ep: 0  cdwn: 0                              \n",
      " 20:01:20 | Ep:  17/ 600 | Trn loss:  0.353892 - Acc: 88.0693 | Val loss:  0.351651 - Acc: 88.2176 | last_lr: 1.00000e-03  bad_ep: 0  cdwn: 0                              \n",
      " 20:01:44 | Ep:  18/ 600 | Trn loss:  0.353767 - Acc: 88.0729 | Val loss:  0.351700 - Acc: 88.2222 | last_lr: 1.00000e-03  bad_ep: 1  cdwn: 0                              \n",
      " 20:02:07 | Ep:  19/ 600 | Trn loss:  0.353666 - Acc: 88.0696 | Val loss:  0.351418 - Acc: 88.2454 | last_lr: 1.00000e-03  bad_ep: 0  cdwn: 0                              \n",
      " 20:02:31 | Ep:  20/ 600 | Trn loss:  0.353569 - Acc: 88.0703 | Val loss:  0.351685 - Acc: 88.2315 | last_lr: 1.00000e-03  bad_ep: 1  cdwn: 0                              \n",
      " 20:02:55 | Ep:  21/ 600 | Trn loss:  0.353501 - Acc: 88.0729 | Val loss:  0.351671 - Acc: 88.2269 | last_lr: 1.00000e-03  bad_ep: 2  cdwn: 0                              \n",
      " 20:03:20 | Ep:  22/ 600 | Trn loss:  0.353441 - Acc: 88.0740 | Val loss:  0.351455 - Acc: 88.2361 | last_lr: 1.00000e-03  bad_ep: 3  cdwn: 0                              \n",
      " 20:03:45 | Ep:  23/ 600 | Trn loss:  0.353350 - Acc: 88.0765 | Val loss:  0.351410 - Acc: 88.2222 | last_lr: 1.00000e-03  bad_ep: 0  cdwn: 0                              \n",
      " 20:04:09 | Ep:  24/ 600 | Trn loss:  0.353200 - Acc: 88.0786 | Val loss:  0.351302 - Acc: 88.2454 | last_lr: 1.00000e-03  bad_ep: 0  cdwn: 0                              \n",
      " 20:04:34 | Ep:  25/ 600 | Trn loss:  0.353135 - Acc: 88.0801 | Val loss:  0.351337 - Acc: 88.2500 | last_lr: 1.00000e-03  bad_ep: 1  cdwn: 0                              \n",
      " 20:04:58 | Ep:  26/ 600 | Trn loss:  0.353058 - Acc: 88.0801 | Val loss:  0.351412 - Acc: 88.2407 | last_lr: 1.00000e-03  bad_ep: 2  cdwn: 0                              \n",
      " 20:05:21 | Ep:  27/ 600 | Trn loss:  0.352992 - Acc: 88.0848 | Val loss:  0.351464 - Acc: 88.2500 | last_lr: 1.00000e-03  bad_ep: 3  cdwn: 0                              \n",
      " 20:05:45 | Ep:  28/ 600 | Trn loss:  0.353013 - Acc: 88.0848 | Val loss:  0.350993 - Acc: 88.2315 | last_lr: 1.00000e-03  bad_ep: 0  cdwn: 0                              \n",
      " 20:06:09 | Ep:  29/ 600 | Trn loss:  0.352855 - Acc: 88.0877 | Val loss:  0.350931 - Acc: 88.2222 | last_lr: 1.00000e-03  bad_ep: 0  cdwn: 0                              \n",
      " 20:06:34 | Ep:  30/ 600 | Trn loss:  0.352837 - Acc: 88.0851 | Val loss:  0.350900 - Acc: 88.2407 | last_lr: 1.00000e-03  bad_ep: 0  cdwn: 0                              \n",
      " 20:06:58 | Ep:  31/ 600 | Trn loss:  0.352751 - Acc: 88.0855 | Val loss:  0.350980 - Acc: 88.2222 | last_lr: 1.00000e-03  bad_ep: 1  cdwn: 0                              \n",
      " 20:07:23 | Ep:  32/ 600 | Trn loss:  0.352688 - Acc: 88.0920 | Val loss:  0.350801 - Acc: 88.2315 | last_lr: 1.00000e-03  bad_ep: 0  cdwn: 0                              \n",
      " 20:07:47 | Ep:  33/ 600 | Trn loss:  0.352581 - Acc: 88.0920 | Val loss:  0.350809 - Acc: 88.2500 | last_lr: 1.00000e-03  bad_ep: 1  cdwn: 0                              \n",
      " 20:08:12 | Ep:  34/ 600 | Trn loss:  0.352587 - Acc: 88.0924 | Val loss:  0.350596 - Acc: 88.2361 | last_lr: 1.00000e-03  bad_ep: 0  cdwn: 0                              \n",
      " 20:08:36 | Ep:  35/ 600 | Trn loss:  0.352403 - Acc: 88.0938 | Val loss:  0.350735 - Acc: 88.2361 | last_lr: 1.00000e-03  bad_ep: 1  cdwn: 0                              \n",
      " 20:09:01 | Ep:  36/ 600 | Trn loss:  0.352420 - Acc: 88.0887 | Val loss:  0.350459 - Acc: 88.2407 | last_lr: 1.00000e-03  bad_ep: 0  cdwn: 0                              \n",
      " 20:09:25 | Ep:  37/ 600 | Trn loss:  0.352311 - Acc: 88.0945 | Val loss:  0.350598 - Acc: 88.2546 | last_lr: 1.00000e-03  bad_ep: 1  cdwn: 0                              \n",
      " 20:09:50 | Ep:  38/ 600 | Trn loss:  0.352213 - Acc: 88.0970 | Val loss:  0.350516 - Acc: 88.2778 | last_lr: 1.00000e-03  bad_ep: 2  cdwn: 0                              \n",
      " 20:10:14 | Ep:  39/ 600 | Trn loss:  0.352199 - Acc: 88.0981 | Val loss:  0.350473 - Acc: 88.2500 | last_lr: 1.00000e-03  bad_ep: 3  cdwn: 0                              \n",
      " 20:10:39 | Ep:  40/ 600 | Trn loss:  0.352091 - Acc: 88.0970 | Val loss:  0.350429 - Acc: 88.2593 | last_lr: 1.00000e-03  bad_ep: 0  cdwn: 0                              \n",
      " 20:11:03 | Ep:  41/ 600 | Trn loss:  0.352024 - Acc: 88.0992 | Val loss:  0.350405 - Acc: 88.2500 | last_lr: 1.00000e-03  bad_ep: 0  cdwn: 0                              \n",
      " 20:11:27 | Ep:  42/ 600 | Trn loss:  0.351907 - Acc: 88.0992 | Val loss:  0.350472 - Acc: 88.2361 | last_lr: 1.00000e-03  bad_ep: 1  cdwn: 0                              \n",
      " 20:11:51 | Ep:  43/ 600 | Trn loss:  0.351840 - Acc: 88.1053 | Val loss:  0.350535 - Acc: 88.2361 | last_lr: 1.00000e-03  bad_ep: 2  cdwn: 0                              \n",
      " 20:12:15 | Ep:  44/ 600 | Trn loss:  0.351753 - Acc: 88.1039 | Val loss:  0.350446 - Acc: 88.2454 | last_lr: 1.00000e-03  bad_ep: 3  cdwn: 0                              \n",
      " 20:12:39 | Ep:  45/ 600 | Trn loss:  0.351688 - Acc: 88.1068 | Val loss:  0.350562 - Acc: 88.2361 | last_lr: 1.00000e-03  bad_ep: 4  cdwn: 0                              \n",
      " 20:13:03 | Ep:  46/ 600 | Trn loss:  0.351663 - Acc: 88.1046 | Val loss:  0.350669 - Acc: 88.2222 | last_lr: 1.00000e-03  bad_ep: 5  cdwn: 0                              \n",
      " 20:13:27 | Ep:  47/ 600 | Trn loss:  0.351562 - Acc: 88.1089 | Val loss:  0.350463 - Acc: 88.2269 | last_lr: 1.00000e-03  bad_ep: 6  cdwn: 0                              \n",
      " 20:13:52 | Ep:  48/ 600 | Trn loss:  0.351476 - Acc: 88.1118 | Val loss:  0.350582 - Acc: 88.2315 | last_lr: 1.00000e-03  bad_ep: 7  cdwn: 0                              \n",
      " 20:14:16 | Ep:  49/ 600 | Trn loss:  0.351413 - Acc: 88.1144 | Val loss:  0.350619 - Acc: 88.2269 | last_lr: 1.00000e-03  bad_ep: 8  cdwn: 0                              \n",
      " 20:14:39 | Ep:  50/ 600 | Trn loss:  0.351334 - Acc: 88.1154 | Val loss:  0.350648 - Acc: 88.2130 | last_lr: 1.00000e-03  bad_ep: 9  cdwn: 0                              \n",
      " 20:15:02 | Ep:  51/ 600 | Trn loss:  0.351267 - Acc: 88.1212 | Val loss:  0.350427 - Acc: 88.2361 | last_lr: 1.00000e-03  bad_ep: 10  cdwn: 0                             \n",
      " 20:15:26 | Ep:  52/ 600 | Trn loss:  0.351174 - Acc: 88.1223 | Val loss:  0.350389 - Acc: 88.2546 | last_lr: 1.00000e-03  bad_ep: 0  cdwn: 0                              \n",
      " 20:15:50 | Ep:  53/ 600 | Trn loss:  0.351080 - Acc: 88.1281 | Val loss:  0.350396 - Acc: 88.2546 | last_lr: 1.00000e-03  bad_ep: 1  cdwn: 0                              \n",
      " 20:16:13 | Ep:  54/ 600 | Trn loss:  0.350985 - Acc: 88.1245 | Val loss:  0.350295 - Acc: 88.2639 | last_lr: 1.00000e-03  bad_ep: 0  cdwn: 0                              \n",
      " 20:16:36 | Ep:  55/ 600 | Trn loss:  0.350887 - Acc: 88.1331 | Val loss:  0.350488 - Acc: 88.2639 | last_lr: 1.00000e-03  bad_ep: 1  cdwn: 0                              \n",
      " 20:17:00 | Ep:  56/ 600 | Trn loss:  0.350767 - Acc: 88.1324 | Val loss:  0.350407 - Acc: 88.2407 | last_lr: 1.00000e-03  bad_ep: 2  cdwn: 0                              \n",
      " 20:17:23 | Ep:  57/ 600 | Trn loss:  0.350729 - Acc: 88.1342 | Val loss:  0.350381 - Acc: 88.2546 | last_lr: 1.00000e-03  bad_ep: 3  cdwn: 0                              \n",
      " 20:17:47 | Ep:  58/ 600 | Trn loss:  0.350630 - Acc: 88.1389 | Val loss:  0.350481 - Acc: 88.2685 | last_lr: 1.00000e-03  bad_ep: 4  cdwn: 0                              \n",
      " 20:18:10 | Ep:  59/ 600 | Trn loss:  0.350577 - Acc: 88.1378 | Val loss:  0.350689 - Acc: 88.2639 | last_lr: 1.00000e-03  bad_ep: 5  cdwn: 0                              \n",
      " 20:18:34 | Ep:  60/ 600 | Trn loss:  0.350492 - Acc: 88.1436 | Val loss:  0.350727 - Acc: 88.2546 | last_lr: 1.00000e-03  bad_ep: 6  cdwn: 0                              \n",
      " 20:18:57 | Ep:  61/ 600 | Trn loss:  0.350405 - Acc: 88.1457 | Val loss:  0.350668 - Acc: 88.2824 | last_lr: 1.00000e-03  bad_ep: 7  cdwn: 0                              \n",
      " 20:19:21 | Ep:  62/ 600 | Trn loss:  0.350359 - Acc: 88.1454 | Val loss:  0.350877 - Acc: 88.2731 | last_lr: 1.00000e-03  bad_ep: 8  cdwn: 0                              \n",
      " 20:19:45 | Ep:  63/ 600 | Trn loss:  0.350351 - Acc: 88.1501 | Val loss:  0.351133 - Acc: 88.2639 | last_lr: 1.00000e-03  bad_ep: 9  cdwn: 0                              \n",
      " 20:20:09 | Ep:  64/ 600 | Trn loss:  0.350192 - Acc: 88.1537 | Val loss:  0.351084 - Acc: 88.2639 | last_lr: 1.00000e-03  bad_ep: 10  cdwn: 0                             \n",
      " 20:20:32 | Ep:  65/ 600 | Trn loss:  0.350071 - Acc: 88.1512 | Val loss:  0.351099 - Acc: 88.2639 | last_lr: 1.00000e-03  bad_ep: 11  cdwn: 0                             \n",
      " 20:20:56 | Ep:  66/ 600 | Trn loss:  0.350007 - Acc: 88.1544 | Val loss:  0.351271 - Acc: 88.2639 | last_lr: 1.00000e-03  bad_ep: 12  cdwn: 0                             \n",
      " 20:21:19 | Ep:  67/ 600 | Trn loss:  0.349905 - Acc: 88.1602 | Val loss:  0.351259 - Acc: 88.2778 | last_lr: 1.00000e-03  bad_ep: 13  cdwn: 0                             \n",
      " 20:21:43 | Ep:  68/ 600 | Trn loss:  0.349807 - Acc: 88.1620 | Val loss:  0.351749 - Acc: 88.2824 | last_lr: 1.00000e-03  bad_ep: 14  cdwn: 0                             \n",
      " 20:22:07 | Ep:  69/ 600 | Trn loss:  0.349744 - Acc: 88.1623 | Val loss:  0.351819 - Acc: 88.2593 | last_lr: 1.00000e-03  bad_ep: 15  cdwn: 0                             \n",
      " 20:22:31 | Ep:  70/ 600 | Trn loss:  0.349748 - Acc: 88.1634 | Val loss:  0.352069 - Acc: 88.2639 | last_lr: 1.00000e-03  bad_ep: 16  cdwn: 0                             \n",
      " 20:22:56 | Ep:  71/ 600 | Trn loss:  0.349579 - Acc: 88.1696 | Val loss:  0.352047 - Acc: 88.2546 | last_lr: 1.00000e-03  bad_ep: 17  cdwn: 0                             \n",
      " 20:23:20 | Ep:  72/ 600 | Trn loss:  0.349461 - Acc: 88.1703 | Val loss:  0.352082 - Acc: 88.2454 | last_lr: 1.00000e-03  bad_ep: 18  cdwn: 0                             \n",
      " 20:23:44 | Ep:  73/ 600 | Trn loss:  0.349346 - Acc: 88.1750 | Val loss:  0.352358 - Acc: 88.2546 | last_lr: 1.00000e-03  bad_ep: 19  cdwn: 0                             \n",
      " 20:24:09 | Ep:  74/ 600 | Trn loss:  0.349288 - Acc: 88.1724 | Val loss:  0.352677 - Acc: 88.2130 | last_lr: 1.00000e-03  bad_ep: 20  cdwn: 0                             \n",
      " 20:24:33 | Ep:  75/ 600 | Trn loss:  0.349209 - Acc: 88.1789 | Val loss:  0.353287 - Acc: 88.2361 | last_lr: 1.00000e-03  bad_ep: 21  cdwn: 0                             \n",
      " 20:24:57 | Ep:  76/ 600 | Trn loss:  0.349095 - Acc: 88.1833 | Val loss:  0.353954 - Acc: 88.2176 | last_lr: 1.00000e-03  bad_ep: 22  cdwn: 0                             \n",
      " 20:25:22 | Ep:  77/ 600 | Trn loss:  0.348944 - Acc: 88.1847 | Val loss:  0.353188 - Acc: 88.2407 | last_lr: 1.00000e-03  bad_ep: 23  cdwn: 0                             \n",
      " 20:25:45 | Ep:  78/ 600 | Trn loss:  0.348830 - Acc: 88.1926 | Val loss:  0.354193 - Acc: 88.2222 | last_lr: 1.00000e-03  bad_ep: 24  cdwn: 0                             \n",
      " 20:26:09 | Ep:  79/ 600 | Trn loss:  0.348776 - Acc: 88.1984 | Val loss:  0.353863 - Acc: 88.2176 | last_lr: 1.00000e-03  bad_ep: 25  cdwn: 0                             \n",
      " 20:26:32 | Ep:  80/ 600 | Trn loss:  0.348656 - Acc: 88.2053 | Val loss:  0.353541 - Acc: 88.2176 | last_lr: 1.00000e-03  bad_ep: 26  cdwn: 0                             \n",
      " 20:26:56 | Ep:  81/ 600 | Trn loss:  0.348681 - Acc: 88.2110 | Val loss:  0.353012 - Acc: 88.2361 | last_lr: 1.00000e-03  bad_ep: 27  cdwn: 0                             \n",
      " 20:27:20 | Ep:  82/ 600 | Trn loss:  0.348564 - Acc: 88.2049 | Val loss:  0.352424 - Acc: 88.2083 | last_lr: 1.00000e-03  bad_ep: 28  cdwn: 0                             \n",
      " 20:27:44 | Ep:  83/ 600 | Trn loss:  0.348411 - Acc: 88.2118 | Val loss:  0.352704 - Acc: 88.2130 | last_lr: 1.00000e-03  bad_ep: 29  cdwn: 0                             \n",
      " 20:28:08 | Ep:  84/ 600 | Trn loss:  0.348265 - Acc: 88.2168 | Val loss:  0.352708 - Acc: 88.2361 | last_lr: 1.00000e-03  bad_ep: 30  cdwn: 0                             \n",
      " 20:28:32 | Ep:  85/ 600 | Trn loss:  0.348078 - Acc: 88.2240 | Val loss:  0.352692 - Acc: 88.2315 | last_lr: 1.00000e-03  bad_ep: 31  cdwn: 0                             \n",
      " 20:28:56 | Ep:  86/ 600 | Trn loss:  0.347886 - Acc: 88.2330 | Val loss:  0.352581 - Acc: 88.2546 | last_lr: 1.00000e-03  bad_ep: 32  cdwn: 0                             \n",
      " 20:29:19 | Ep:  87/ 600 | Trn loss:  0.347691 - Acc: 88.2356 | Val loss:  0.352440 - Acc: 88.2454 | last_lr: 1.00000e-03  bad_ep: 33  cdwn: 0                             \n",
      " 20:29:42 | Ep:  88/ 600 | Trn loss:  0.347505 - Acc: 88.2504 | Val loss:  0.352434 - Acc: 88.2546 | last_lr: 1.00000e-03  bad_ep: 34  cdwn: 0                             \n",
      " 20:30:06 | Ep:  89/ 600 | Trn loss:  0.347428 - Acc: 88.2453 | Val loss:  0.353003 - Acc: 88.2546 | last_lr: 1.00000e-03  bad_ep: 35  cdwn: 0                             \n",
      " 20:30:31 | Ep:  90/ 600 | Trn loss:  0.347262 - Acc: 88.2511 | Val loss:  0.353049 - Acc: 88.2361 | last_lr: 1.00000e-03  bad_ep: 36  cdwn: 0                             \n",
      " 20:30:55 | Ep:  91/ 600 | Trn loss:  0.347085 - Acc: 88.2532 | Val loss:  0.352976 - Acc: 88.2315 | last_lr: 1.00000e-03  bad_ep: 37  cdwn: 0                             \n",
      " 20:31:18 | Ep:  92/ 600 | Trn loss:  0.346930 - Acc: 88.2612 | Val loss:  0.353421 - Acc: 88.2176 | last_lr: 1.00000e-03  bad_ep: 38  cdwn: 0                             \n",
      " 20:31:41 | Ep:  93/ 600 | Trn loss:  0.346801 - Acc: 88.2702 | Val loss:  0.353291 - Acc: 88.2083 | last_lr: 1.00000e-03  bad_ep: 39  cdwn: 0                             \n",
      " 20:32:05 | Ep:  94/ 600 | Trn loss:  0.346667 - Acc: 88.2695 | Val loss:  0.353439 - Acc: 88.2176 | last_lr: 1.00000e-03  bad_ep: 40  cdwn: 0                             \n",
      " 20:32:28 | Ep:  95/ 600 | Trn loss:  0.346531 - Acc: 88.2771 | Val loss:  0.353862 - Acc: 88.1991 | last_lr: 1.00000e-03  bad_ep: 41  cdwn: 0                             \n",
      " 20:32:51 | Ep:  96/ 600 | Trn loss:  0.346448 - Acc: 88.2799 | Val loss:  0.353849 - Acc: 88.1991 | last_lr: 1.00000e-03  bad_ep: 42  cdwn: 0                             \n",
      " 20:33:13 | Ep:  97/ 600 | Trn loss:  0.346211 - Acc: 88.2897 | Val loss:  0.355402 - Acc: 88.2130 | last_lr: 1.00000e-03  bad_ep: 43  cdwn: 0                             \n",
      " 20:33:36 | Ep:  98/ 600 | Trn loss:  0.346101 - Acc: 88.2897 | Val loss:  0.356837 - Acc: 88.1991 | last_lr: 1.00000e-03  bad_ep: 44  cdwn: 0                             \n",
      " 20:33:59 | Ep:  99/ 600 | Trn loss:  0.345995 - Acc: 88.2937 | Val loss:  0.356574 - Acc: 88.1852 | last_lr: 1.00000e-03  bad_ep: 45  cdwn: 0                             \n",
      "                                                                                                                                                                           "
     ]
    },
    {
     "name": "stderr",
     "output_type": "stream",
     "text": [
      "2024-09-30 20:34:24,016 - utils.utils_cellpainting - INFO: -  Model exported to NN_snnl_embd600_250Ltnt_512_20240924_0146_LAST_20240930_1945_ep_100.pt - epoch: 100\n"
     ]
    },
    {
     "name": "stdout",
     "output_type": "stream",
     "text": [
      " 20:34:24 | Ep: 100/ 600 | Trn loss:  0.345923 - Acc: 88.2976 | Val loss:  0.359026 - Acc: 88.2130 | last_lr: 1.00000e-03  bad_ep: 46  cdwn: 0 \n",
      " 20:34:48 | Ep: 101/ 600 | Trn loss:  0.345713 - Acc: 88.3034 | Val loss:  0.366218 - Acc: 88.1944 | last_lr: 1.00000e-03  bad_ep: 47  cdwn: 0                             \n",
      " 20:35:12 | Ep: 102/ 600 | Trn loss:  0.345536 - Acc: 88.3056 | Val loss:  0.365543 - Acc: 88.2083 | last_lr: 1.00000e-03  bad_ep: 48  cdwn: 0                             \n",
      " 20:35:37 | Ep: 103/ 600 | Trn loss:  0.345315 - Acc: 88.3120 | Val loss:  0.364026 - Acc: 88.1944 | last_lr: 1.00000e-03  bad_ep: 49  cdwn: 0                             \n",
      " 20:36:01 | Ep: 104/ 600 | Trn loss:  0.345209 - Acc: 88.3153 | Val loss:  0.361716 - Acc: 88.2176 | last_lr: 1.00000e-03  bad_ep: 50  cdwn: 0                             \n",
      " 20:36:24 | Ep: 105/ 600 | Trn loss:  0.344988 - Acc: 88.3236 | Val loss:  0.367332 - Acc: 88.2130 | last_lr: 5.00000e-04  bad_ep: 0  cdwn: 10                             \n",
      " 20:36:49 | Ep: 106/ 600 | Trn loss:  0.344260 - Acc: 88.3167 | Val loss:  0.354058 - Acc: 88.1991 | last_lr: 5.00000e-04  bad_ep: 0  cdwn: 9                              \n",
      " 20:37:13 | Ep: 107/ 600 | Trn loss:  0.343844 - Acc: 88.3243 | Val loss:  0.354310 - Acc: 88.2176 | last_lr: 5.00000e-04  bad_ep: 0  cdwn: 8                              \n",
      " 20:37:36 | Ep: 108/ 600 | Trn loss:  0.343445 - Acc: 88.3359 | Val loss:  0.353980 - Acc: 88.2130 | last_lr: 5.00000e-04  bad_ep: 0  cdwn: 7                              \n",
      " 20:38:00 | Ep: 109/ 600 | Trn loss:  0.343089 - Acc: 88.3434 | Val loss:  0.354196 - Acc: 88.2269 | last_lr: 5.00000e-04  bad_ep: 0  cdwn: 6                              \n",
      " 20:38:24 | Ep: 110/ 600 | Trn loss:  0.342770 - Acc: 88.3553 | Val loss:  0.354429 - Acc: 88.2222 | last_lr: 5.00000e-04  bad_ep: 0  cdwn: 5                              \n",
      " 20:38:48 | Ep: 111/ 600 | Trn loss:  0.342468 - Acc: 88.3557 | Val loss:  0.354809 - Acc: 88.2130 | last_lr: 5.00000e-04  bad_ep: 0  cdwn: 4                              \n",
      " 20:39:12 | Ep: 112/ 600 | Trn loss:  0.342177 - Acc: 88.3647 | Val loss:  0.354951 - Acc: 88.2176 | last_lr: 5.00000e-04  bad_ep: 0  cdwn: 3                              \n",
      " 20:39:35 | Ep: 113/ 600 | Trn loss:  0.341891 - Acc: 88.3719 | Val loss:  0.354979 - Acc: 88.2361 | last_lr: 5.00000e-04  bad_ep: 0  cdwn: 2                              \n",
      " 20:39:59 | Ep: 114/ 600 | Trn loss:  0.341601 - Acc: 88.3777 | Val loss:  0.354859 - Acc: 88.2176 | last_lr: 5.00000e-04  bad_ep: 0  cdwn: 1                              \n",
      " 20:40:22 | Ep: 115/ 600 | Trn loss:  0.341295 - Acc: 88.3925 | Val loss:  0.354963 - Acc: 88.2130 | last_lr: 5.00000e-04  bad_ep: 0  cdwn: 0                              \n",
      " 20:40:46 | Ep: 116/ 600 | Trn loss:  0.340989 - Acc: 88.3986 | Val loss:  0.355135 - Acc: 88.2083 | last_lr: 5.00000e-04  bad_ep: 1  cdwn: 0                              \n",
      " 20:41:09 | Ep: 117/ 600 | Trn loss:  0.340723 - Acc: 88.4051 | Val loss:  0.355308 - Acc: 88.1991 | last_lr: 5.00000e-04  bad_ep: 2  cdwn: 0                              \n",
      " 20:41:33 | Ep: 118/ 600 | Trn loss:  0.340436 - Acc: 88.4181 | Val loss:  0.355431 - Acc: 88.1806 | last_lr: 5.00000e-04  bad_ep: 3  cdwn: 0                              \n",
      " 20:41:57 | Ep: 119/ 600 | Trn loss:  0.340137 - Acc: 88.4239 | Val loss:  0.355867 - Acc: 88.1852 | last_lr: 5.00000e-04  bad_ep: 4  cdwn: 0                              \n",
      " 20:42:21 | Ep: 120/ 600 | Trn loss:  0.339848 - Acc: 88.4329 | Val loss:  0.356271 - Acc: 88.1713 | last_lr: 5.00000e-04  bad_ep: 5  cdwn: 0                              \n",
      " 20:42:45 | Ep: 121/ 600 | Trn loss:  0.339533 - Acc: 88.4369 | Val loss:  0.355950 - Acc: 88.1759 | last_lr: 5.00000e-04  bad_ep: 6  cdwn: 0                              \n",
      " 20:43:08 | Ep: 122/ 600 | Trn loss:  0.339240 - Acc: 88.4520 | Val loss:  0.356060 - Acc: 88.1806 | last_lr: 5.00000e-04  bad_ep: 7  cdwn: 0                              \n",
      " 20:43:32 | Ep: 123/ 600 | Trn loss:  0.338943 - Acc: 88.4607 | Val loss:  0.356236 - Acc: 88.1898 | last_lr: 5.00000e-04  bad_ep: 8  cdwn: 0                              \n",
      " 20:43:55 | Ep: 124/ 600 | Trn loss:  0.338647 - Acc: 88.4701 | Val loss:  0.356291 - Acc: 88.1898 | last_lr: 5.00000e-04  bad_ep: 9  cdwn: 0                              \n",
      " 20:44:19 | Ep: 125/ 600 | Trn loss:  0.338357 - Acc: 88.4830 | Val loss:  0.356505 - Acc: 88.1759 | last_lr: 5.00000e-04  bad_ep: 10  cdwn: 0                             \n",
      " 20:44:42 | Ep: 126/ 600 | Trn loss:  0.338068 - Acc: 88.4881 | Val loss:  0.356608 - Acc: 88.1852 | last_lr: 5.00000e-04  bad_ep: 11  cdwn: 0                             \n",
      " 20:45:06 | Ep: 127/ 600 | Trn loss:  0.337792 - Acc: 88.4953 | Val loss:  0.356546 - Acc: 88.2037 | last_lr: 5.00000e-04  bad_ep: 12  cdwn: 0                             \n",
      " 20:45:29 | Ep: 128/ 600 | Trn loss:  0.337514 - Acc: 88.5014 | Val loss:  0.356778 - Acc: 88.2083 | last_lr: 5.00000e-04  bad_ep: 13  cdwn: 0                             \n",
      " 20:45:53 | Ep: 129/ 600 | Trn loss:  0.337266 - Acc: 88.5123 | Val loss:  0.356762 - Acc: 88.1898 | last_lr: 5.00000e-04  bad_ep: 14  cdwn: 0                             \n",
      " 20:46:16 | Ep: 130/ 600 | Trn loss:  0.337012 - Acc: 88.5224 | Val loss:  0.358605 - Acc: 88.1944 | last_lr: 5.00000e-04  bad_ep: 15  cdwn: 0                             \n",
      " 20:46:40 | Ep: 131/ 600 | Trn loss:  0.336742 - Acc: 88.5361 | Val loss:  0.357236 - Acc: 88.2083 | last_lr: 5.00000e-04  bad_ep: 16  cdwn: 0                             \n",
      " 20:47:04 | Ep: 132/ 600 | Trn loss:  0.336413 - Acc: 88.5462 | Val loss:  0.358708 - Acc: 88.1806 | last_lr: 5.00000e-04  bad_ep: 17  cdwn: 0                             \n",
      " 20:47:28 | Ep: 133/ 600 | Trn loss:  0.336112 - Acc: 88.5563 | Val loss:  0.357753 - Acc: 88.1852 | last_lr: 5.00000e-04  bad_ep: 18  cdwn: 0                             \n",
      " 20:47:51 | Ep: 134/ 600 | Trn loss:  0.335850 - Acc: 88.5667 | Val loss:  0.359252 - Acc: 88.1713 | last_lr: 5.00000e-04  bad_ep: 19  cdwn: 0                             \n",
      " 20:48:14 | Ep: 135/ 600 | Trn loss:  0.335525 - Acc: 88.5743 | Val loss:  0.358440 - Acc: 88.1435 | last_lr: 5.00000e-04  bad_ep: 20  cdwn: 0                             \n",
      " 20:48:38 | Ep: 136/ 600 | Trn loss:  0.335218 - Acc: 88.5855 | Val loss:  0.359753 - Acc: 88.1620 | last_lr: 5.00000e-04  bad_ep: 21  cdwn: 0                             \n",
      " 20:49:02 | Ep: 137/ 600 | Trn loss:  0.334921 - Acc: 88.5942 | Val loss:  0.360646 - Acc: 88.1806 | last_lr: 5.00000e-04  bad_ep: 22  cdwn: 0                             \n",
      " 20:49:27 | Ep: 138/ 600 | Trn loss:  0.334633 - Acc: 88.6003 | Val loss:  0.362128 - Acc: 88.1713 | last_lr: 5.00000e-04  bad_ep: 23  cdwn: 0                             \n",
      " 20:49:51 | Ep: 139/ 600 | Trn loss:  0.334347 - Acc: 88.6071 | Val loss:  0.362984 - Acc: 88.1528 | last_lr: 5.00000e-04  bad_ep: 24  cdwn: 0                             \n",
      " 20:50:14 | Ep: 140/ 600 | Trn loss:  0.334071 - Acc: 88.6176 | Val loss:  0.362736 - Acc: 88.1343 | last_lr: 5.00000e-04  bad_ep: 25  cdwn: 0                             \n",
      " 20:50:38 | Ep: 141/ 600 | Trn loss:  0.333862 - Acc: 88.6255 | Val loss:  0.364268 - Acc: 88.1111 | last_lr: 5.00000e-04  bad_ep: 26  cdwn: 0                             \n",
      " 20:51:01 | Ep: 142/ 600 | Trn loss:  0.333647 - Acc: 88.6310 | Val loss:  0.363819 - Acc: 88.1111 | last_lr: 5.00000e-04  bad_ep: 27  cdwn: 0                             \n",
      " 20:51:25 | Ep: 143/ 600 | Trn loss:  0.333389 - Acc: 88.6439 | Val loss:  0.366879 - Acc: 88.1111 | last_lr: 5.00000e-04  bad_ep: 28  cdwn: 0                             \n",
      " 20:51:49 | Ep: 144/ 600 | Trn loss:  0.333151 - Acc: 88.6540 | Val loss:  0.368429 - Acc: 88.1157 | last_lr: 5.00000e-04  bad_ep: 29  cdwn: 0                             \n",
      " 20:52:12 | Ep: 145/ 600 | Trn loss:  0.332963 - Acc: 88.6674 | Val loss:  0.371634 - Acc: 88.1065 | last_lr: 5.00000e-04  bad_ep: 30  cdwn: 0                             \n",
      " 20:52:36 | Ep: 146/ 600 | Trn loss:  0.332766 - Acc: 88.6717 | Val loss:  0.368355 - Acc: 88.0972 | last_lr: 5.00000e-04  bad_ep: 31  cdwn: 0                             \n",
      " 20:53:00 | Ep: 147/ 600 | Trn loss:  0.332542 - Acc: 88.6742 | Val loss:  0.369932 - Acc: 88.1204 | last_lr: 5.00000e-04  bad_ep: 32  cdwn: 0                             \n",
      " 20:53:23 | Ep: 148/ 600 | Trn loss:  0.332320 - Acc: 88.6883 | Val loss:  0.368569 - Acc: 88.0972 | last_lr: 5.00000e-04  bad_ep: 33  cdwn: 0                             \n",
      " 20:53:47 | Ep: 149/ 600 | Trn loss:  0.332112 - Acc: 88.6890 | Val loss:  0.371989 - Acc: 88.0602 | last_lr: 5.00000e-04  bad_ep: 34  cdwn: 0                             \n",
      " 20:54:11 | Ep: 150/ 600 | Trn loss:  0.331918 - Acc: 88.6908 | Val loss:  0.373126 - Acc: 88.0463 | last_lr: 5.00000e-04  bad_ep: 35  cdwn: 0                             \n",
      " 20:54:35 | Ep: 151/ 600 | Trn loss:  0.331727 - Acc: 88.7020 | Val loss:  0.372910 - Acc: 88.0556 | last_lr: 5.00000e-04  bad_ep: 36  cdwn: 0                             \n",
      " 20:54:58 | Ep: 152/ 600 | Trn loss:  0.331579 - Acc: 88.7045 | Val loss:  0.380219 - Acc: 88.0139 | last_lr: 5.00000e-04  bad_ep: 37  cdwn: 0                             \n",
      " 20:55:23 | Ep: 153/ 600 | Trn loss:  0.331284 - Acc: 88.7226 | Val loss:  0.377019 - Acc: 88.0231 | last_lr: 5.00000e-04  bad_ep: 38  cdwn: 0                             \n",
      " 20:55:48 | Ep: 154/ 600 | Trn loss:  0.330955 - Acc: 88.7323 | Val loss:  0.383249 - Acc: 87.9907 | last_lr: 5.00000e-04  bad_ep: 39  cdwn: 0                             \n",
      " 20:56:12 | Ep: 155/ 600 | Trn loss:  0.330727 - Acc: 88.7330 | Val loss:  0.391982 - Acc: 87.9722 | last_lr: 5.00000e-04  bad_ep: 40  cdwn: 0                             \n",
      " 20:56:36 | Ep: 156/ 600 | Trn loss:  0.330504 - Acc: 88.7381 | Val loss:  0.383993 - Acc: 88.0000 | last_lr: 5.00000e-04  bad_ep: 41  cdwn: 0                             \n",
      " 20:57:00 | Ep: 157/ 600 | Trn loss:  0.330255 - Acc: 88.7529 | Val loss:  0.379167 - Acc: 87.9954 | last_lr: 5.00000e-04  bad_ep: 42  cdwn: 0                             \n",
      " 20:57:23 | Ep: 158/ 600 | Trn loss:  0.329987 - Acc: 88.7590 | Val loss:  0.397551 - Acc: 87.9722 | last_lr: 5.00000e-04  bad_ep: 43  cdwn: 0                             \n",
      " 20:57:47 | Ep: 159/ 600 | Trn loss:  0.329766 - Acc: 88.7655 | Val loss:  0.392000 - Acc: 87.9769 | last_lr: 5.00000e-04  bad_ep: 44  cdwn: 0                             \n",
      " 20:58:11 | Ep: 160/ 600 | Trn loss:  0.329510 - Acc: 88.7778 | Val loss:  0.383089 - Acc: 87.9907 | last_lr: 5.00000e-04  bad_ep: 45  cdwn: 0                             \n",
      " 20:58:35 | Ep: 161/ 600 | Trn loss:  0.329273 - Acc: 88.7763 | Val loss:  0.383688 - Acc: 88.0185 | last_lr: 5.00000e-04  bad_ep: 46  cdwn: 0                             \n",
      " 20:58:59 | Ep: 162/ 600 | Trn loss:  0.329028 - Acc: 88.7821 | Val loss:  0.380414 - Acc: 88.0185 | last_lr: 5.00000e-04  bad_ep: 47  cdwn: 0                             \n",
      " 20:59:23 | Ep: 163/ 600 | Trn loss:  0.328814 - Acc: 88.7886 | Val loss:  0.393608 - Acc: 87.9907 | last_lr: 5.00000e-04  bad_ep: 48  cdwn: 0                             \n",
      " 20:59:46 | Ep: 164/ 600 | Trn loss:  0.328663 - Acc: 88.7973 | Val loss:  0.397425 - Acc: 87.9907 | last_lr: 5.00000e-04  bad_ep: 49  cdwn: 0                             \n",
      " 21:00:10 | Ep: 165/ 600 | Trn loss:  0.328554 - Acc: 88.7944 | Val loss:  0.377915 - Acc: 87.9676 | last_lr: 5.00000e-04  bad_ep: 50  cdwn: 0                             \n",
      " 21:00:33 | Ep: 166/ 600 | Trn loss:  0.328485 - Acc: 88.7991 | Val loss:  0.384498 - Acc: 87.9954 | last_lr: 2.50000e-04  bad_ep: 0  cdwn: 10                             \n",
      " 21:00:57 | Ep: 167/ 600 | Trn loss:  0.329263 - Acc: 88.7190 | Val loss:  0.363775 - Acc: 88.0185 | last_lr: 2.50000e-04  bad_ep: 0  cdwn: 9                              \n",
      " 21:01:20 | Ep: 168/ 600 | Trn loss:  0.328870 - Acc: 88.7374 | Val loss:  0.363771 - Acc: 88.0139 | last_lr: 2.50000e-04  bad_ep: 0  cdwn: 8                              \n",
      " 21:01:43 | Ep: 169/ 600 | Trn loss:  0.328356 - Acc: 88.7601 | Val loss:  0.364726 - Acc: 88.0324 | last_lr: 2.50000e-04  bad_ep: 0  cdwn: 7                              \n",
      " 21:02:07 | Ep: 170/ 600 | Trn loss:  0.327932 - Acc: 88.7731 | Val loss:  0.365963 - Acc: 88.0463 | last_lr: 2.50000e-04  bad_ep: 0  cdwn: 6                              \n",
      " 21:02:30 | Ep: 171/ 600 | Trn loss:  0.327510 - Acc: 88.7882 | Val loss:  0.367363 - Acc: 88.0417 | last_lr: 2.50000e-04  bad_ep: 0  cdwn: 5                              \n",
      " 21:02:54 | Ep: 172/ 600 | Trn loss:  0.327129 - Acc: 88.7973 | Val loss:  0.368339 - Acc: 88.0602 | last_lr: 2.50000e-04  bad_ep: 0  cdwn: 4                              \n",
      " 21:03:18 | Ep: 173/ 600 | Trn loss:  0.326773 - Acc: 88.8092 | Val loss:  0.370256 - Acc: 88.0556 | last_lr: 2.50000e-04  bad_ep: 0  cdwn: 3                              \n",
      " 21:03:42 | Ep: 174/ 600 | Trn loss:  0.326427 - Acc: 88.8229 | Val loss:  0.369986 - Acc: 88.0602 | last_lr: 2.50000e-04  bad_ep: 0  cdwn: 2                              \n",
      " 21:04:06 | Ep: 175/ 600 | Trn loss:  0.326086 - Acc: 88.8351 | Val loss:  0.370190 - Acc: 88.0463 | last_lr: 2.50000e-04  bad_ep: 0  cdwn: 1                              \n",
      " 21:04:30 | Ep: 176/ 600 | Trn loss:  0.325763 - Acc: 88.8474 | Val loss:  0.369763 - Acc: 88.0602 | last_lr: 2.50000e-04  bad_ep: 0  cdwn: 0                              \n",
      " 21:04:54 | Ep: 177/ 600 | Trn loss:  0.325449 - Acc: 88.8550 | Val loss:  0.369895 - Acc: 88.0602 | last_lr: 2.50000e-04  bad_ep: 1  cdwn: 0                              \n",
      " 21:05:18 | Ep: 178/ 600 | Trn loss:  0.325134 - Acc: 88.8669 | Val loss:  0.369923 - Acc: 88.0648 | last_lr: 2.50000e-04  bad_ep: 2  cdwn: 0                              \n",
      " 21:05:43 | Ep: 179/ 600 | Trn loss:  0.324836 - Acc: 88.8759 | Val loss:  0.369463 - Acc: 88.0648 | last_lr: 2.50000e-04  bad_ep: 3  cdwn: 0                              \n",
      " 21:06:07 | Ep: 180/ 600 | Trn loss:  0.324546 - Acc: 88.8835 | Val loss:  0.369051 - Acc: 88.0602 | last_lr: 2.50000e-04  bad_ep: 4  cdwn: 0                              \n",
      " 21:06:31 | Ep: 181/ 600 | Trn loss:  0.324256 - Acc: 88.8911 | Val loss:  0.368679 - Acc: 88.0556 | last_lr: 2.50000e-04  bad_ep: 5  cdwn: 0                              \n",
      " 21:06:56 | Ep: 182/ 600 | Trn loss:  0.323970 - Acc: 88.8979 | Val loss:  0.368517 - Acc: 88.0648 | last_lr: 2.50000e-04  bad_ep: 6  cdwn: 0                              \n",
      " 21:07:20 | Ep: 183/ 600 | Trn loss:  0.323685 - Acc: 88.9069 | Val loss:  0.368470 - Acc: 88.0556 | last_lr: 2.50000e-04  bad_ep: 7  cdwn: 0                              \n",
      " 21:07:44 | Ep: 184/ 600 | Trn loss:  0.323397 - Acc: 88.9123 | Val loss:  0.368376 - Acc: 88.0509 | last_lr: 2.50000e-04  bad_ep: 8  cdwn: 0                              \n",
      " 21:08:08 | Ep: 185/ 600 | Trn loss:  0.323112 - Acc: 88.9250 | Val loss:  0.368354 - Acc: 88.0556 | last_lr: 2.50000e-04  bad_ep: 9  cdwn: 0                              \n",
      " 21:08:32 | Ep: 186/ 600 | Trn loss:  0.322826 - Acc: 88.9322 | Val loss:  0.368337 - Acc: 88.0602 | last_lr: 2.50000e-04  bad_ep: 10  cdwn: 0                             \n",
      " 21:08:56 | Ep: 187/ 600 | Trn loss:  0.322540 - Acc: 88.9419 | Val loss:  0.368433 - Acc: 88.0370 | last_lr: 2.50000e-04  bad_ep: 11  cdwn: 0                             \n",
      " 21:09:22 | Ep: 188/ 600 | Trn loss:  0.322257 - Acc: 88.9509 | Val loss:  0.368665 - Acc: 88.0417 | last_lr: 2.50000e-04  bad_ep: 12  cdwn: 0                             \n",
      " 21:09:46 | Ep: 189/ 600 | Trn loss:  0.321976 - Acc: 88.9556 | Val loss:  0.368989 - Acc: 88.0509 | last_lr: 2.50000e-04  bad_ep: 13  cdwn: 0                             \n",
      " 21:10:10 | Ep: 190/ 600 | Trn loss:  0.321697 - Acc: 88.9607 | Val loss:  0.369514 - Acc: 88.0463 | last_lr: 2.50000e-04  bad_ep: 14  cdwn: 0                             \n",
      " 21:10:34 | Ep: 191/ 600 | Trn loss:  0.321418 - Acc: 88.9650 | Val loss:  0.370238 - Acc: 88.0417 | last_lr: 2.50000e-04  bad_ep: 15  cdwn: 0                             \n",
      " 21:10:58 | Ep: 192/ 600 | Trn loss:  0.321144 - Acc: 88.9661 | Val loss:  0.370688 - Acc: 88.0463 | last_lr: 2.50000e-04  bad_ep: 16  cdwn: 0                             \n",
      " 21:11:23 | Ep: 193/ 600 | Trn loss:  0.320874 - Acc: 88.9809 | Val loss:  0.371380 - Acc: 88.0463 | last_lr: 2.50000e-04  bad_ep: 17  cdwn: 0                             \n",
      " 21:11:46 | Ep: 194/ 600 | Trn loss:  0.320606 - Acc: 88.9877 | Val loss:  0.372160 - Acc: 88.0370 | last_lr: 2.50000e-04  bad_ep: 18  cdwn: 0                             \n",
      " 21:12:10 | Ep: 195/ 600 | Trn loss:  0.320346 - Acc: 88.9971 | Val loss:  0.373251 - Acc: 88.0324 | last_lr: 2.50000e-04  bad_ep: 19  cdwn: 0                             \n",
      " 21:12:34 | Ep: 196/ 600 | Trn loss:  0.320092 - Acc: 89.0061 | Val loss:  0.373944 - Acc: 88.0324 | last_lr: 2.50000e-04  bad_ep: 20  cdwn: 0                             \n",
      " 21:12:59 | Ep: 197/ 600 | Trn loss:  0.319841 - Acc: 89.0144 | Val loss:  0.375350 - Acc: 88.0417 | last_lr: 2.50000e-04  bad_ep: 21  cdwn: 0                             \n",
      " 21:13:22 | Ep: 198/ 600 | Trn loss:  0.319584 - Acc: 89.0224 | Val loss:  0.376311 - Acc: 88.0185 | last_lr: 2.50000e-04  bad_ep: 22  cdwn: 0                             \n",
      " 21:13:46 | Ep: 199/ 600 | Trn loss:  0.319333 - Acc: 89.0299 | Val loss:  0.378597 - Acc: 88.0231 | last_lr: 2.50000e-04  bad_ep: 23  cdwn: 0                             \n",
      "                                                                                                                                                                           "
     ]
    },
    {
     "name": "stderr",
     "output_type": "stream",
     "text": [
      "2024-09-30 21:14:10,340 - utils.utils_cellpainting - INFO: -  Model exported to NN_snnl_embd600_250Ltnt_512_20240924_0146_LAST_20240930_1945_ep_200.pt - epoch: 200\n"
     ]
    },
    {
     "name": "stdout",
     "output_type": "stream",
     "text": [
      " 21:14:10 | Ep: 200/ 600 | Trn loss:  0.319071 - Acc: 89.0357 | Val loss:  0.381215 - Acc: 88.0231 | last_lr: 2.50000e-04  bad_ep: 24  cdwn: 0 \n",
      " 21:14:34 | Ep: 201/ 600 | Trn loss:  0.318814 - Acc: 89.0455 | Val loss:  0.383711 - Acc: 88.0185 | last_lr: 2.50000e-04  bad_ep: 25  cdwn: 0                             \n",
      " 21:14:57 | Ep: 202/ 600 | Trn loss:  0.318557 - Acc: 89.0523 | Val loss:  0.386305 - Acc: 88.0185 | last_lr: 2.50000e-04  bad_ep: 26  cdwn: 0                             \n",
      " 21:15:21 | Ep: 203/ 600 | Trn loss:  0.318301 - Acc: 89.0570 | Val loss:  0.387980 - Acc: 88.0185 | last_lr: 2.50000e-04  bad_ep: 27  cdwn: 0                             \n",
      " 21:15:44 | Ep: 204/ 600 | Trn loss:  0.318049 - Acc: 89.0689 | Val loss:  0.389960 - Acc: 88.0324 | last_lr: 2.50000e-04  bad_ep: 28  cdwn: 0                             \n",
      " 21:16:08 | Ep: 205/ 600 | Trn loss:  0.317795 - Acc: 89.0786 | Val loss:  0.393174 - Acc: 88.0417 | last_lr: 2.50000e-04  bad_ep: 29  cdwn: 0                             \n",
      " 21:16:32 | Ep: 206/ 600 | Trn loss:  0.317541 - Acc: 89.0855 | Val loss:  0.395720 - Acc: 88.0463 | last_lr: 2.50000e-04  bad_ep: 30  cdwn: 0                             \n",
      " 21:16:56 | Ep: 207/ 600 | Trn loss:  0.317289 - Acc: 89.0949 | Val loss:  0.399040 - Acc: 88.0417 | last_lr: 2.50000e-04  bad_ep: 31  cdwn: 0                             \n",
      " 21:17:20 | Ep: 208/ 600 | Trn loss:  0.317037 - Acc: 89.1032 | Val loss:  0.401622 - Acc: 88.0278 | last_lr: 2.50000e-04  bad_ep: 32  cdwn: 0                             \n",
      " 21:17:44 | Ep: 209/ 600 | Trn loss:  0.316788 - Acc: 89.1144 | Val loss:  0.403667 - Acc: 88.0231 | last_lr: 2.50000e-04  bad_ep: 33  cdwn: 0                             \n",
      " 21:18:08 | Ep: 210/ 600 | Trn loss:  0.316539 - Acc: 89.1194 | Val loss:  0.405906 - Acc: 88.0139 | last_lr: 2.50000e-04  bad_ep: 34  cdwn: 0                             \n",
      " 21:18:32 | Ep: 211/ 600 | Trn loss:  0.316291 - Acc: 89.1223 | Val loss:  0.408104 - Acc: 87.9954 | last_lr: 2.50000e-04  bad_ep: 35  cdwn: 0                             \n",
      " 21:18:55 | Ep: 212/ 600 | Trn loss:  0.316045 - Acc: 89.1241 | Val loss:  0.409610 - Acc: 87.9815 | last_lr: 2.50000e-04  bad_ep: 36  cdwn: 0                             \n",
      " 21:19:19 | Ep: 213/ 600 | Trn loss:  0.315800 - Acc: 89.1248 | Val loss:  0.412373 - Acc: 87.9815 | last_lr: 2.50000e-04  bad_ep: 37  cdwn: 0                             \n",
      " 21:19:44 | Ep: 214/ 600 | Trn loss:  0.315558 - Acc: 89.1338 | Val loss:  0.413962 - Acc: 87.9815 | last_lr: 2.50000e-04  bad_ep: 38  cdwn: 0                             \n",
      " 21:20:08 | Ep: 215/ 600 | Trn loss:  0.315318 - Acc: 89.1436 | Val loss:  0.416476 - Acc: 87.9907 | last_lr: 2.50000e-04  bad_ep: 39  cdwn: 0                             \n",
      " 21:20:32 | Ep: 216/ 600 | Trn loss:  0.315080 - Acc: 89.1472 | Val loss:  0.417274 - Acc: 88.0000 | last_lr: 2.50000e-04  bad_ep: 40  cdwn: 0                             \n",
      " 21:20:55 | Ep: 217/ 600 | Trn loss:  0.314843 - Acc: 89.1540 | Val loss:  0.418612 - Acc: 87.9815 | last_lr: 2.50000e-04  bad_ep: 41  cdwn: 0                             \n",
      " 21:21:19 | Ep: 218/ 600 | Trn loss:  0.314606 - Acc: 89.1627 | Val loss:  0.422244 - Acc: 87.9630 | last_lr: 2.50000e-04  bad_ep: 42  cdwn: 0                             \n",
      " 21:21:43 | Ep: 219/ 600 | Trn loss:  0.314371 - Acc: 89.1667 | Val loss:  0.423408 - Acc: 87.9398 | last_lr: 2.50000e-04  bad_ep: 43  cdwn: 0                             \n",
      " 21:22:07 | Ep: 220/ 600 | Trn loss:  0.314139 - Acc: 89.1771 | Val loss:  0.424087 - Acc: 87.9352 | last_lr: 2.50000e-04  bad_ep: 44  cdwn: 0                             \n",
      " 21:22:31 | Ep: 221/ 600 | Trn loss:  0.313910 - Acc: 89.1872 | Val loss:  0.425511 - Acc: 87.9167 | last_lr: 2.50000e-04  bad_ep: 45  cdwn: 0                             \n",
      " 21:22:55 | Ep: 222/ 600 | Trn loss:  0.313688 - Acc: 89.1988 | Val loss:  0.427511 - Acc: 87.8889 | last_lr: 2.50000e-04  bad_ep: 46  cdwn: 0                             \n",
      " 21:23:19 | Ep: 223/ 600 | Trn loss:  0.313474 - Acc: 89.2067 | Val loss:  0.431859 - Acc: 87.8704 | last_lr: 2.50000e-04  bad_ep: 47  cdwn: 0                             \n",
      " 21:23:43 | Ep: 224/ 600 | Trn loss:  0.313272 - Acc: 89.2053 | Val loss:  0.435932 - Acc: 87.8102 | last_lr: 2.50000e-04  bad_ep: 48  cdwn: 0                             \n",
      " 21:24:07 | Ep: 225/ 600 | Trn loss:  0.313077 - Acc: 89.2074 | Val loss:  0.438644 - Acc: 87.8056 | last_lr: 2.50000e-04  bad_ep: 49  cdwn: 0                             \n",
      " 21:24:31 | Ep: 226/ 600 | Trn loss:  0.312881 - Acc: 89.2082 | Val loss:  0.440778 - Acc: 87.7731 | last_lr: 2.50000e-04  bad_ep: 50  cdwn: 0                             \n",
      " 21:24:55 | Ep: 227/ 600 | Trn loss:  0.312672 - Acc: 89.2165 | Val loss:  0.446375 - Acc: 87.6898 | last_lr: 1.25000e-04  bad_ep: 0  cdwn: 10                             \n",
      " 21:25:19 | Ep: 228/ 600 | Trn loss:  0.314739 - Acc: 89.1356 | Val loss:  0.381276 - Acc: 88.0741 | last_lr: 1.25000e-04  bad_ep: 0  cdwn: 9                              \n",
      " 21:25:43 | Ep: 229/ 600 | Trn loss:  0.314823 - Acc: 89.1270 | Val loss:  0.397615 - Acc: 88.0926 | last_lr: 1.25000e-04  bad_ep: 0  cdwn: 8                              \n",
      " 21:26:07 | Ep: 230/ 600 | Trn loss:  0.314614 - Acc: 89.1432 | Val loss:  0.416297 - Acc: 88.0880 | last_lr: 1.25000e-04  bad_ep: 0  cdwn: 7                              \n",
      " 21:26:32 | Ep: 231/ 600 | Trn loss:  0.314435 - Acc: 89.1436 | Val loss:  0.421563 - Acc: 88.0880 | last_lr: 1.25000e-04  bad_ep: 0  cdwn: 6                              \n",
      " 21:26:57 | Ep: 232/ 600 | Trn loss:  0.314259 - Acc: 89.1548 | Val loss:  0.426041 - Acc: 88.0880 | last_lr: 1.25000e-04  bad_ep: 0  cdwn: 5                              \n",
      " 21:27:21 | Ep: 233/ 600 | Trn loss:  0.314075 - Acc: 89.1576 | Val loss:  0.428922 - Acc: 88.0787 | last_lr: 1.25000e-04  bad_ep: 0  cdwn: 4                              \n",
      " 21:27:45 | Ep: 234/ 600 | Trn loss:  0.313893 - Acc: 89.1677 | Val loss:  0.431747 - Acc: 88.0787 | last_lr: 1.25000e-04  bad_ep: 0  cdwn: 3                              \n",
      " 21:28:10 | Ep: 235/ 600 | Trn loss:  0.313715 - Acc: 89.1739 | Val loss:  0.433759 - Acc: 88.0787 | last_lr: 1.25000e-04  bad_ep: 0  cdwn: 2                              \n",
      " 21:28:33 | Ep: 236/ 600 | Trn loss:  0.313534 - Acc: 89.1807 | Val loss:  0.435091 - Acc: 88.0833 | last_lr: 1.25000e-04  bad_ep: 0  cdwn: 1                              \n",
      " 21:28:57 | Ep: 237/ 600 | Trn loss:  0.313352 - Acc: 89.1825 | Val loss:  0.436700 - Acc: 88.0787 | last_lr: 1.25000e-04  bad_ep: 0  cdwn: 0                              \n",
      " 21:29:21 | Ep: 238/ 600 | Trn loss:  0.313164 - Acc: 89.1919 | Val loss:  0.437546 - Acc: 88.0833 | last_lr: 1.25000e-04  bad_ep: 1  cdwn: 0                              \n",
      " 21:29:44 | Ep: 239/ 600 | Trn loss:  0.312973 - Acc: 89.2002 | Val loss:  0.439477 - Acc: 88.0787 | last_lr: 1.25000e-04  bad_ep: 2  cdwn: 0                              \n",
      " 21:30:08 | Ep: 240/ 600 | Trn loss:  0.312777 - Acc: 89.2060 | Val loss:  0.440788 - Acc: 88.0833 | last_lr: 1.25000e-04  bad_ep: 3  cdwn: 0                              \n",
      " 21:30:32 | Ep: 241/ 600 | Trn loss:  0.312578 - Acc: 89.2092 | Val loss:  0.441920 - Acc: 88.0787 | last_lr: 1.25000e-04  bad_ep: 4  cdwn: 0                              \n",
      " 21:30:57 | Ep: 242/ 600 | Trn loss:  0.312380 - Acc: 89.2150 | Val loss:  0.443418 - Acc: 88.0787 | last_lr: 1.25000e-04  bad_ep: 5  cdwn: 0                              \n",
      " 21:31:21 | Ep: 243/ 600 | Trn loss:  0.312180 - Acc: 89.2168 | Val loss:  0.444498 - Acc: 88.0741 | last_lr: 1.25000e-04  bad_ep: 6  cdwn: 0                              \n",
      " 21:31:46 | Ep: 244/ 600 | Trn loss:  0.311982 - Acc: 89.2219 | Val loss:  0.445451 - Acc: 88.0694 | last_lr: 1.25000e-04  bad_ep: 7  cdwn: 0                              \n",
      " 21:32:10 | Ep: 245/ 600 | Trn loss:  0.311786 - Acc: 89.2273 | Val loss:  0.446522 - Acc: 88.0741 | last_lr: 1.25000e-04  bad_ep: 8  cdwn: 0                              \n",
      " 21:32:34 | Ep: 246/ 600 | Trn loss:  0.311591 - Acc: 89.2312 | Val loss:  0.447595 - Acc: 88.0741 | last_lr: 1.25000e-04  bad_ep: 9  cdwn: 0                              \n",
      " 21:32:58 | Ep: 247/ 600 | Trn loss:  0.311397 - Acc: 89.2395 | Val loss:  0.448411 - Acc: 88.0741 | last_lr: 1.25000e-04  bad_ep: 10  cdwn: 0                             \n",
      " 21:33:22 | Ep: 248/ 600 | Trn loss:  0.311206 - Acc: 89.2449 | Val loss:  0.449465 - Acc: 88.0602 | last_lr: 1.25000e-04  bad_ep: 11  cdwn: 0                             \n",
      " 21:33:45 | Ep: 249/ 600 | Trn loss:  0.311015 - Acc: 89.2496 | Val loss:  0.450035 - Acc: 88.0741 | last_lr: 1.25000e-04  bad_ep: 12  cdwn: 0                             \n",
      " 21:34:10 | Ep: 250/ 600 | Trn loss:  0.310827 - Acc: 89.2558 | Val loss:  0.451238 - Acc: 88.0648 | last_lr: 1.25000e-04  bad_ep: 13  cdwn: 0                             \n",
      " 21:34:34 | Ep: 251/ 600 | Trn loss:  0.310639 - Acc: 89.2619 | Val loss:  0.451705 - Acc: 88.0787 | last_lr: 1.25000e-04  bad_ep: 14  cdwn: 0                             \n",
      " 21:34:58 | Ep: 252/ 600 | Trn loss:  0.310453 - Acc: 89.2709 | Val loss:  0.452389 - Acc: 88.0741 | last_lr: 1.25000e-04  bad_ep: 15  cdwn: 0                             \n",
      " 21:35:21 | Ep: 253/ 600 | Trn loss:  0.310268 - Acc: 89.2716 | Val loss:  0.453258 - Acc: 88.0694 | last_lr: 1.25000e-04  bad_ep: 16  cdwn: 0                             \n",
      " 21:35:45 | Ep: 254/ 600 | Trn loss:  0.310084 - Acc: 89.2753 | Val loss:  0.453753 - Acc: 88.0648 | last_lr: 1.25000e-04  bad_ep: 17  cdwn: 0                             \n",
      " 21:36:09 | Ep: 255/ 600 | Trn loss:  0.309901 - Acc: 89.2835 | Val loss:  0.454715 - Acc: 88.0648 | last_lr: 1.25000e-04  bad_ep: 18  cdwn: 0                             \n",
      " 21:36:33 | Ep: 256/ 600 | Trn loss:  0.309720 - Acc: 89.2918 | Val loss:  0.455454 - Acc: 88.0602 | last_lr: 1.25000e-04  bad_ep: 19  cdwn: 0                             \n",
      " 21:36:57 | Ep: 257/ 600 | Trn loss:  0.309540 - Acc: 89.2944 | Val loss:  0.456012 - Acc: 88.0602 | last_lr: 1.25000e-04  bad_ep: 20  cdwn: 0                             \n",
      " 21:37:20 | Ep: 258/ 600 | Trn loss:  0.309361 - Acc: 89.2987 | Val loss:  0.456539 - Acc: 88.0648 | last_lr: 1.25000e-04  bad_ep: 21  cdwn: 0                             \n",
      " 21:37:44 | Ep: 259/ 600 | Trn loss:  0.309183 - Acc: 89.3034 | Val loss:  0.457025 - Acc: 88.0648 | last_lr: 1.25000e-04  bad_ep: 22  cdwn: 0                             \n",
      " 21:38:07 | Ep: 260/ 600 | Trn loss:  0.309007 - Acc: 89.3070 | Val loss:  0.457763 - Acc: 88.0602 | last_lr: 1.25000e-04  bad_ep: 23  cdwn: 0                             \n",
      " 21:38:31 | Ep: 261/ 600 | Trn loss:  0.308831 - Acc: 89.3113 | Val loss:  0.458038 - Acc: 88.0602 | last_lr: 1.25000e-04  bad_ep: 24  cdwn: 0                             \n",
      " 21:38:54 | Ep: 262/ 600 | Trn loss:  0.308657 - Acc: 89.3160 | Val loss:  0.458463 - Acc: 88.0648 | last_lr: 1.25000e-04  bad_ep: 25  cdwn: 0                             \n",
      " 21:39:18 | Ep: 263/ 600 | Trn loss:  0.308483 - Acc: 89.3214 | Val loss:  0.458981 - Acc: 88.0602 | last_lr: 1.25000e-04  bad_ep: 26  cdwn: 0                             \n",
      " 21:39:41 | Ep: 264/ 600 | Trn loss:  0.308311 - Acc: 89.3283 | Val loss:  0.459676 - Acc: 88.0602 | last_lr: 1.25000e-04  bad_ep: 27  cdwn: 0                             \n",
      " 21:40:05 | Ep: 265/ 600 | Trn loss:  0.308140 - Acc: 89.3330 | Val loss:  0.460354 - Acc: 88.0602 | last_lr: 1.25000e-04  bad_ep: 28  cdwn: 0                             \n",
      " 21:40:30 | Ep: 266/ 600 | Trn loss:  0.307969 - Acc: 89.3369 | Val loss:  0.460582 - Acc: 88.0556 | last_lr: 1.25000e-04  bad_ep: 29  cdwn: 0                             \n",
      " 21:40:54 | Ep: 267/ 600 | Trn loss:  0.307800 - Acc: 89.3424 | Val loss:  0.460942 - Acc: 88.0556 | last_lr: 1.25000e-04  bad_ep: 30  cdwn: 0                             \n",
      " 21:41:18 | Ep: 268/ 600 | Trn loss:  0.307631 - Acc: 89.3506 | Val loss:  0.461483 - Acc: 88.0556 | last_lr: 1.25000e-04  bad_ep: 31  cdwn: 0                             \n",
      " 21:41:43 | Ep: 269/ 600 | Trn loss:  0.307463 - Acc: 89.3579 | Val loss:  0.461977 - Acc: 88.0509 | last_lr: 1.25000e-04  bad_ep: 32  cdwn: 0                             \n",
      " 21:42:07 | Ep: 270/ 600 | Trn loss:  0.307296 - Acc: 89.3633 | Val loss:  0.462744 - Acc: 88.0417 | last_lr: 1.25000e-04  bad_ep: 33  cdwn: 0                             \n",
      " 21:42:32 | Ep: 271/ 600 | Trn loss:  0.307129 - Acc: 89.3687 | Val loss:  0.463109 - Acc: 88.0370 | last_lr: 1.25000e-04  bad_ep: 34  cdwn: 0                             \n",
      " 21:42:57 | Ep: 272/ 600 | Trn loss:  0.306963 - Acc: 89.3734 | Val loss:  0.463847 - Acc: 88.0324 | last_lr: 1.25000e-04  bad_ep: 35  cdwn: 0                             \n",
      " 21:43:20 | Ep: 273/ 600 | Trn loss:  0.306798 - Acc: 89.3777 | Val loss:  0.464426 - Acc: 88.0370 | last_lr: 1.25000e-04  bad_ep: 36  cdwn: 0                             \n",
      " 21:43:44 | Ep: 274/ 600 | Trn loss:  0.306633 - Acc: 89.3820 | Val loss:  0.464987 - Acc: 88.0417 | last_lr: 1.25000e-04  bad_ep: 37  cdwn: 0                             \n",
      " 21:44:08 | Ep: 275/ 600 | Trn loss:  0.306469 - Acc: 89.3885 | Val loss:  0.465418 - Acc: 88.0417 | last_lr: 1.25000e-04  bad_ep: 38  cdwn: 0                             \n",
      " 21:44:32 | Ep: 276/ 600 | Trn loss:  0.306305 - Acc: 89.3911 | Val loss:  0.466211 - Acc: 88.0417 | last_lr: 1.25000e-04  bad_ep: 39  cdwn: 0                             \n",
      " 21:44:56 | Ep: 277/ 600 | Trn loss:  0.306142 - Acc: 89.3936 | Val loss:  0.466767 - Acc: 88.0324 | last_lr: 1.25000e-04  bad_ep: 40  cdwn: 0                             \n",
      " 21:45:20 | Ep: 278/ 600 | Trn loss:  0.305980 - Acc: 89.3968 | Val loss:  0.467597 - Acc: 88.0324 | last_lr: 1.25000e-04  bad_ep: 41  cdwn: 0                             \n",
      " 21:45:44 | Ep: 279/ 600 | Trn loss:  0.305818 - Acc: 89.4019 | Val loss:  0.468343 - Acc: 88.0278 | last_lr: 1.25000e-04  bad_ep: 42  cdwn: 0                             \n",
      " 21:46:08 | Ep: 280/ 600 | Trn loss:  0.305656 - Acc: 89.4055 | Val loss:  0.468845 - Acc: 88.0278 | last_lr: 1.25000e-04  bad_ep: 43  cdwn: 0                             \n",
      " 21:46:33 | Ep: 281/ 600 | Trn loss:  0.305495 - Acc: 89.4076 | Val loss:  0.469402 - Acc: 88.0278 | last_lr: 1.25000e-04  bad_ep: 44  cdwn: 0                             \n",
      " 21:46:57 | Ep: 282/ 600 | Trn loss:  0.305334 - Acc: 89.4149 | Val loss:  0.470388 - Acc: 88.0324 | last_lr: 1.25000e-04  bad_ep: 45  cdwn: 0                             \n",
      " 21:47:22 | Ep: 283/ 600 | Trn loss:  0.305173 - Acc: 89.4235 | Val loss:  0.470794 - Acc: 88.0324 | last_lr: 1.25000e-04  bad_ep: 46  cdwn: 0                             \n",
      " 21:47:46 | Ep: 284/ 600 | Trn loss:  0.305012 - Acc: 89.4307 | Val loss:  0.471831 - Acc: 88.0324 | last_lr: 1.25000e-04  bad_ep: 47  cdwn: 0                             \n",
      " 21:48:11 | Ep: 285/ 600 | Trn loss:  0.304852 - Acc: 89.4361 | Val loss:  0.472718 - Acc: 88.0417 | last_lr: 1.25000e-04  bad_ep: 48  cdwn: 0                             \n",
      " 21:48:36 | Ep: 286/ 600 | Trn loss:  0.304693 - Acc: 89.4380 | Val loss:  0.473516 - Acc: 88.0370 | last_lr: 1.25000e-04  bad_ep: 49  cdwn: 0                             \n",
      " 21:48:59 | Ep: 287/ 600 | Trn loss:  0.304533 - Acc: 89.4423 | Val loss:  0.474834 - Acc: 88.0278 | last_lr: 1.25000e-04  bad_ep: 50  cdwn: 0                             \n",
      " 21:49:24 | Ep: 288/ 600 | Trn loss:  0.304375 - Acc: 89.4441 | Val loss:  0.475658 - Acc: 88.0324 | last_lr: 6.25000e-05  bad_ep: 0  cdwn: 10                             \n",
      " 21:49:47 | Ep: 289/ 600 | Trn loss:  0.307462 - Acc: 89.3918 | Val loss:  0.566398 - Acc: 87.9954 | last_lr: 6.25000e-05  bad_ep: 0  cdwn: 9                              \n",
      " 21:50:11 | Ep: 290/ 600 | Trn loss:  0.307987 - Acc: 89.3730 | Val loss:  0.564107 - Acc: 87.9861 | last_lr: 6.25000e-05  bad_ep: 0  cdwn: 8                              \n",
      " 21:50:34 | Ep: 291/ 600 | Trn loss:  0.307745 - Acc: 89.3680 | Val loss:  0.554410 - Acc: 88.0000 | last_lr: 6.25000e-05  bad_ep: 0  cdwn: 7                              \n",
      " 21:50:58 | Ep: 292/ 600 | Trn loss:  0.307429 - Acc: 89.3802 | Val loss:  0.543181 - Acc: 88.0046 | last_lr: 6.25000e-05  bad_ep: 0  cdwn: 6                              \n",
      " 21:51:22 | Ep: 293/ 600 | Trn loss:  0.307116 - Acc: 89.3846 | Val loss:  0.532583 - Acc: 88.0231 | last_lr: 6.25000e-05  bad_ep: 0  cdwn: 5                              \n",
      " 21:51:46 | Ep: 294/ 600 | Trn loss:  0.306826 - Acc: 89.3885 | Val loss:  0.523727 - Acc: 88.0185 | last_lr: 6.25000e-05  bad_ep: 0  cdwn: 4                              \n",
      " 21:52:09 | Ep: 295/ 600 | Trn loss:  0.306561 - Acc: 89.3925 | Val loss:  0.516802 - Acc: 88.0185 | last_lr: 6.25000e-05  bad_ep: 0  cdwn: 3                              \n",
      " 21:52:34 | Ep: 296/ 600 | Trn loss:  0.306317 - Acc: 89.4008 | Val loss:  0.511164 - Acc: 88.0093 | last_lr: 6.25000e-05  bad_ep: 0  cdwn: 2                              \n",
      " 21:52:58 | Ep: 297/ 600 | Trn loss:  0.306091 - Acc: 89.4058 | Val loss:  0.506523 - Acc: 88.0093 | last_lr: 6.25000e-05  bad_ep: 0  cdwn: 1                                                                 \n",
      " 21:53:21 | Ep: 298/ 600 | Trn loss:  0.305880 - Acc: 89.4069 | Val loss:  0.502981 - Acc: 88.0139 | last_lr: 6.25000e-05  bad_ep: 0  cdwn: 0                                                                 \n",
      " 21:53:45 | Ep: 299/ 600 | Trn loss:  0.305682 - Acc: 89.4120 | Val loss:  0.500210 - Acc: 88.0093 | last_lr: 6.25000e-05  bad_ep: 1  cdwn: 0                                                                 \n",
      "                                                                                                                                                                                                              "
     ]
    },
    {
     "name": "stderr",
     "output_type": "stream",
     "text": [
      "2024-09-30 21:54:09,458 - utils.utils_cellpainting - INFO: -  Model exported to NN_snnl_embd600_250Ltnt_512_20240924_0146_LAST_20240930_1945_ep_300.pt - epoch: 300\n"
     ]
    },
    {
     "name": "stdout",
     "output_type": "stream",
     "text": [
      " 21:54:09 | Ep: 300/ 600 | Trn loss:  0.305493 - Acc: 89.4170 | Val loss:  0.497982 - Acc: 88.0185 | last_lr: 6.25000e-05  bad_ep: 2  cdwn: 0 \n",
      " 21:54:33 | Ep: 301/ 600 | Trn loss:  0.305314 - Acc: 89.4203 | Val loss:  0.496125 - Acc: 88.0185 | last_lr: 6.25000e-05  bad_ep: 3  cdwn: 0                                                                 \n",
      " 21:54:57 | Ep: 302/ 600 | Trn loss:  0.305142 - Acc: 89.4300 | Val loss:  0.494564 - Acc: 88.0185 | last_lr: 6.25000e-05  bad_ep: 4  cdwn: 0                                                                 \n",
      " 21:55:21 | Ep: 303/ 600 | Trn loss:  0.304976 - Acc: 89.4297 | Val loss:  0.493407 - Acc: 88.0185 | last_lr: 6.25000e-05  bad_ep: 5  cdwn: 0                                                                 \n",
      " 21:55:45 | Ep: 304/ 600 | Trn loss:  0.304816 - Acc: 89.4333 | Val loss:  0.492522 - Acc: 88.0185 | last_lr: 6.25000e-05  bad_ep: 6  cdwn: 0                                                                 \n",
      " 21:56:09 | Ep: 305/ 600 | Trn loss:  0.304662 - Acc: 89.4372 | Val loss:  0.491811 - Acc: 88.0231 | last_lr: 6.25000e-05  bad_ep: 7  cdwn: 0                                                                 \n",
      " 21:56:34 | Ep: 306/ 600 | Trn loss:  0.304512 - Acc: 89.4401 | Val loss:  0.491239 - Acc: 88.0185 | last_lr: 6.25000e-05  bad_ep: 8  cdwn: 0                                                                 \n",
      " 21:56:58 | Ep: 307/ 600 | Trn loss:  0.304366 - Acc: 89.4430 | Val loss:  0.490644 - Acc: 88.0231 | last_lr: 6.25000e-05  bad_ep: 9  cdwn: 0                                                                 \n",
      " 21:57:22 | Ep: 308/ 600 | Trn loss:  0.304224 - Acc: 89.4452 | Val loss:  0.490090 - Acc: 88.0278 | last_lr: 6.25000e-05  bad_ep: 10  cdwn: 0                                                                \n",
      " 21:57:47 | Ep: 309/ 600 | Trn loss:  0.304086 - Acc: 89.4524 | Val loss:  0.489986 - Acc: 88.0231 | last_lr: 6.25000e-05  bad_ep: 11  cdwn: 0                                                                \n",
      " 21:58:11 | Ep: 310/ 600 | Trn loss:  0.303951 - Acc: 89.4592 | Val loss:  0.489780 - Acc: 88.0231 | last_lr: 6.25000e-05  bad_ep: 12  cdwn: 0                                                                \n",
      " 21:58:36 | Ep: 311/ 600 | Trn loss:  0.303818 - Acc: 89.4618 | Val loss:  0.489707 - Acc: 88.0231 | last_lr: 6.25000e-05  bad_ep: 13  cdwn: 0                                                                \n",
      " 21:59:00 | Ep: 312/ 600 | Trn loss:  0.303688 - Acc: 89.4643 | Val loss:  0.489524 - Acc: 88.0231 | last_lr: 6.25000e-05  bad_ep: 14  cdwn: 0                                                                \n",
      " 21:59:24 | Ep: 313/ 600 | Trn loss:  0.303561 - Acc: 89.4661 | Val loss:  0.489423 - Acc: 88.0231 | last_lr: 6.25000e-05  bad_ep: 15  cdwn: 0                                                                \n",
      " 21:59:49 | Ep: 314/ 600 | Trn loss:  0.303436 - Acc: 89.4697 | Val loss:  0.489414 - Acc: 88.0185 | last_lr: 6.25000e-05  bad_ep: 16  cdwn: 0                                                                \n",
      " 22:00:13 | Ep: 315/ 600 | Trn loss:  0.303312 - Acc: 89.4726 | Val loss:  0.489459 - Acc: 88.0185 | last_lr: 6.25000e-05  bad_ep: 17  cdwn: 0                                                                \n",
      " 22:00:38 | Ep: 316/ 600 | Trn loss:  0.303191 - Acc: 89.4729 | Val loss:  0.489394 - Acc: 88.0139 | last_lr: 6.25000e-05  bad_ep: 18  cdwn: 0                                                                \n",
      " 22:01:02 | Ep: 317/ 600 | Trn loss:  0.303071 - Acc: 89.4758 | Val loss:  0.489472 - Acc: 88.0139 | last_lr: 6.25000e-05  bad_ep: 19  cdwn: 0                                                                \n",
      " 22:01:27 | Ep: 318/ 600 | Trn loss:  0.302953 - Acc: 89.4766 | Val loss:  0.489677 - Acc: 88.0231 | last_lr: 6.25000e-05  bad_ep: 20  cdwn: 0                                                                \n",
      " 22:01:51 | Ep: 319/ 600 | Trn loss:  0.302837 - Acc: 89.4780 | Val loss:  0.489755 - Acc: 88.0139 | last_lr: 6.25000e-05  bad_ep: 21  cdwn: 0                                                                \n",
      " 22:02:16 | Ep: 320/ 600 | Trn loss:  0.302721 - Acc: 89.4798 | Val loss:  0.489863 - Acc: 88.0139 | last_lr: 6.25000e-05  bad_ep: 22  cdwn: 0                                                                \n",
      " 22:02:40 | Ep: 321/ 600 | Trn loss:  0.302607 - Acc: 89.4834 | Val loss:  0.490165 - Acc: 88.0139 | last_lr: 6.25000e-05  bad_ep: 23  cdwn: 0                                                                \n",
      " 22:03:03 | Ep: 322/ 600 | Trn loss:  0.302494 - Acc: 89.4881 | Val loss:  0.490149 - Acc: 88.0139 | last_lr: 6.25000e-05  bad_ep: 24  cdwn: 0                                                                \n",
      " 22:03:27 | Ep: 323/ 600 | Trn loss:  0.302382 - Acc: 89.4913 | Val loss:  0.490351 - Acc: 88.0139 | last_lr: 6.25000e-05  bad_ep: 25  cdwn: 0                                                                \n",
      " 22:03:51 | Ep: 324/ 600 | Trn loss:  0.302271 - Acc: 89.4935 | Val loss:  0.490673 - Acc: 88.0139 | last_lr: 6.25000e-05  bad_ep: 26  cdwn: 0                                                                \n",
      " 22:04:14 | Ep: 325/ 600 | Trn loss:  0.302161 - Acc: 89.4949 | Val loss:  0.490773 - Acc: 88.0139 | last_lr: 6.25000e-05  bad_ep: 27  cdwn: 0                                                                \n",
      " 22:04:38 | Ep: 326/ 600 | Trn loss:  0.302052 - Acc: 89.4971 | Val loss:  0.490952 - Acc: 88.0139 | last_lr: 6.25000e-05  bad_ep: 28  cdwn: 0                                                                \n",
      " 22:05:02 | Ep: 327/ 600 | Trn loss:  0.301944 - Acc: 89.5011 | Val loss:  0.491304 - Acc: 88.0139 | last_lr: 6.25000e-05  bad_ep: 29  cdwn: 0                                                                \n",
      " 22:05:25 | Ep: 328/ 600 | Trn loss:  0.301836 - Acc: 89.5011 | Val loss:  0.491502 - Acc: 88.0139 | last_lr: 6.25000e-05  bad_ep: 30  cdwn: 0                                                                \n",
      " 22:05:49 | Ep: 329/ 600 | Trn loss:  0.301729 - Acc: 89.5025 | Val loss:  0.491919 - Acc: 88.0139 | last_lr: 6.25000e-05  bad_ep: 31  cdwn: 0                                                                \n",
      " 22:06:13 | Ep: 330/ 600 | Trn loss:  0.301623 - Acc: 89.5043 | Val loss:  0.492253 - Acc: 88.0139 | last_lr: 6.25000e-05  bad_ep: 32  cdwn: 0                                                                \n",
      " 22:06:37 | Ep: 331/ 600 | Trn loss:  0.301517 - Acc: 89.5079 | Val loss:  0.492325 - Acc: 88.0139 | last_lr: 6.25000e-05  bad_ep: 33  cdwn: 0                                                                \n",
      " 22:07:01 | Ep: 332/ 600 | Trn loss:  0.301412 - Acc: 89.5101 | Val loss:  0.492763 - Acc: 88.0093 | last_lr: 6.25000e-05  bad_ep: 34  cdwn: 0                                                                \n",
      " 22:07:25 | Ep: 333/ 600 | Trn loss:  0.301308 - Acc: 89.5133 | Val loss:  0.492954 - Acc: 88.0046 | last_lr: 6.25000e-05  bad_ep: 35  cdwn: 0                                                                \n",
      " 22:07:49 | Ep: 334/ 600 | Trn loss:  0.301203 - Acc: 89.5188 | Val loss:  0.493374 - Acc: 88.0093 | last_lr: 6.25000e-05  bad_ep: 36  cdwn: 0                                                                \n",
      " 22:08:12 | Ep: 335/ 600 | Trn loss:  0.301100 - Acc: 89.5220 | Val loss:  0.493956 - Acc: 88.0093 | last_lr: 6.25000e-05  bad_ep: 37  cdwn: 0                                                                \n",
      " 22:08:37 | Ep: 336/ 600 | Trn loss:  0.300996 - Acc: 89.5242 | Val loss:  0.494227 - Acc: 88.0093 | last_lr: 6.25000e-05  bad_ep: 38  cdwn: 0                                                                \n",
      " 22:09:01 | Ep: 337/ 600 | Trn loss:  0.300893 - Acc: 89.5285 | Val loss:  0.494215 - Acc: 87.9954 | last_lr: 6.25000e-05  bad_ep: 39  cdwn: 0                                                                \n",
      " 22:09:25 | Ep: 338/ 600 | Trn loss:  0.300791 - Acc: 89.5310 | Val loss:  0.494591 - Acc: 87.9954 | last_lr: 6.25000e-05  bad_ep: 40  cdwn: 0                                                                \n",
      " 22:09:49 | Ep: 339/ 600 | Trn loss:  0.300688 - Acc: 89.5339 | Val loss:  0.494825 - Acc: 87.9954 | last_lr: 6.25000e-05  bad_ep: 41  cdwn: 0                                                                \n",
      " 22:10:14 | Ep: 340/ 600 | Trn loss:  0.300586 - Acc: 89.5390 | Val loss:  0.495175 - Acc: 87.9907 | last_lr: 6.25000e-05  bad_ep: 42  cdwn: 0                                                                \n",
      " 22:10:38 | Ep: 341/ 600 | Trn loss:  0.300485 - Acc: 89.5422 | Val loss:  0.495835 - Acc: 87.9907 | last_lr: 6.25000e-05  bad_ep: 43  cdwn: 0                                                                \n",
      " 22:11:03 | Ep: 342/ 600 | Trn loss:  0.300383 - Acc: 89.5422 | Val loss:  0.495927 - Acc: 88.0046 | last_lr: 6.25000e-05  bad_ep: 44  cdwn: 0                                                                \n",
      " 22:11:27 | Ep: 343/ 600 | Trn loss:  0.300282 - Acc: 89.5455 | Val loss:  0.496324 - Acc: 88.0000 | last_lr: 6.25000e-05  bad_ep: 45  cdwn: 0                                                                \n",
      " 22:11:51 | Ep: 344/ 600 | Trn loss:  0.300182 - Acc: 89.5480 | Val loss:  0.496580 - Acc: 87.9954 | last_lr: 6.25000e-05  bad_ep: 46  cdwn: 0                                                                \n",
      " 22:12:15 | Ep: 345/ 600 | Trn loss:  0.300081 - Acc: 89.5519 | Val loss:  0.496924 - Acc: 87.9954 | last_lr: 6.25000e-05  bad_ep: 47  cdwn: 0                                                                \n",
      " 22:12:39 | Ep: 346/ 600 | Trn loss:  0.299981 - Acc: 89.5541 | Val loss:  0.497420 - Acc: 87.9954 | last_lr: 6.25000e-05  bad_ep: 48  cdwn: 0                                                                \n",
      " 22:13:04 | Ep: 347/ 600 | Trn loss:  0.299881 - Acc: 89.5563 | Val loss:  0.497675 - Acc: 87.9954 | last_lr: 6.25000e-05  bad_ep: 49  cdwn: 0                                                                \n",
      " 22:13:29 | Ep: 348/ 600 | Trn loss:  0.299781 - Acc: 89.5570 | Val loss:  0.498194 - Acc: 88.0000 | last_lr: 6.25000e-05  bad_ep: 50  cdwn: 0                                                                \n",
      " 22:13:53 | Ep: 349/ 600 | Trn loss:  0.299682 - Acc: 89.5577 | Val loss:  0.498467 - Acc: 88.0046 | last_lr: 3.12500e-05  bad_ep: 0  cdwn: 10                                                                \n",
      " 22:14:18 | Ep: 350/ 600 | Trn loss:  0.301229 - Acc: 89.5195 | Val loss:  0.401465 - Acc: 87.9954 | last_lr: 3.12500e-05  bad_ep: 0  cdwn: 9                                                                 \n",
      " 22:14:42 | Ep: 351/ 600 | Trn loss:  0.301147 - Acc: 89.5238 | Val loss:  0.399151 - Acc: 88.0000 | last_lr: 3.12500e-05  bad_ep: 0  cdwn: 8                                                                 \n",
      " 22:15:07 | Ep: 352/ 600 | Trn loss:  0.300957 - Acc: 89.5267 | Val loss:  0.397588 - Acc: 87.9861 | last_lr: 3.12500e-05  bad_ep: 0  cdwn: 7                                                                 \n",
      " 22:15:31 | Ep: 353/ 600 | Trn loss:  0.300810 - Acc: 89.5310 | Val loss:  0.396300 - Acc: 87.9907 | last_lr: 3.12500e-05  bad_ep: 0  cdwn: 6                                                                 \n",
      " 22:15:56 | Ep: 354/ 600 | Trn loss:  0.300679 - Acc: 89.5350 | Val loss:  0.395440 - Acc: 87.9907 | last_lr: 3.12500e-05  bad_ep: 0  cdwn: 5                                                                 \n",
      " 22:16:20 | Ep: 355/ 600 | Trn loss:  0.300559 - Acc: 89.5379 | Val loss:  0.394759 - Acc: 87.9954 | last_lr: 3.12500e-05  bad_ep: 0  cdwn: 4                                                                 \n",
      " 22:16:45 | Ep: 356/ 600 | Trn loss:  0.300446 - Acc: 89.5379 | Val loss:  0.394265 - Acc: 88.0000 | last_lr: 3.12500e-05  bad_ep: 0  cdwn: 3                                                                 \n",
      " 22:17:08 | Ep: 357/ 600 | Trn loss:  0.300339 - Acc: 89.5415 | Val loss:  0.393843 - Acc: 88.0000 | last_lr: 3.12500e-05  bad_ep: 0  cdwn: 2                                                                 \n",
      " 22:17:33 | Ep: 358/ 600 | Trn loss:  0.300237 - Acc: 89.5426 | Val loss:  0.393565 - Acc: 87.9954 | last_lr: 3.12500e-05  bad_ep: 0  cdwn: 1                                                                 \n",
      " 22:17:57 | Ep: 359/ 600 | Trn loss:  0.300139 - Acc: 89.5473 | Val loss:  0.393311 - Acc: 87.9954 | last_lr: 3.12500e-05  bad_ep: 0  cdwn: 0                                                                 \n",
      " 22:18:22 | Ep: 360/ 600 | Trn loss:  0.300045 - Acc: 89.5483 | Val loss:  0.393115 - Acc: 88.0000 | last_lr: 3.12500e-05  bad_ep: 1  cdwn: 0                                                                 \n",
      " 22:18:46 | Ep: 361/ 600 | Trn loss:  0.299954 - Acc: 89.5527 | Val loss:  0.393056 - Acc: 88.0046 | last_lr: 3.12500e-05  bad_ep: 2  cdwn: 0                                                                 \n",
      " 22:19:10 | Ep: 362/ 600 | Trn loss:  0.299865 - Acc: 89.5584 | Val loss:  0.392991 - Acc: 88.0000 | last_lr: 3.12500e-05  bad_ep: 3  cdwn: 0                                                                 \n",
      " 22:19:35 | Ep: 363/ 600 | Trn loss:  0.299779 - Acc: 89.5617 | Val loss:  0.392970 - Acc: 88.0000 | last_lr: 3.12500e-05  bad_ep: 4  cdwn: 0                                                                 \n",
      " 22:19:59 | Ep: 364/ 600 | Trn loss:  0.299695 - Acc: 89.5617 | Val loss:  0.392970 - Acc: 87.9954 | last_lr: 3.12500e-05  bad_ep: 5  cdwn: 0                                                                 \n",
      " 22:20:23 | Ep: 365/ 600 | Trn loss:  0.299614 - Acc: 89.5613 | Val loss:  0.392988 - Acc: 87.9954 | last_lr: 3.12500e-05  bad_ep: 6  cdwn: 0                                                                 \n",
      " 22:20:48 | Ep: 366/ 600 | Trn loss:  0.299534 - Acc: 89.5635 | Val loss:  0.392986 - Acc: 87.9954 | last_lr: 3.12500e-05  bad_ep: 7  cdwn: 0                                                                 \n",
      " 22:21:12 | Ep: 367/ 600 | Trn loss:  0.299456 - Acc: 89.5675 | Val loss:  0.393065 - Acc: 87.9954 | last_lr: 3.12500e-05  bad_ep: 8  cdwn: 0                                                                 \n",
      " 22:21:36 | Ep: 368/ 600 | Trn loss:  0.299379 - Acc: 89.5700 | Val loss:  0.393144 - Acc: 87.9954 | last_lr: 3.12500e-05  bad_ep: 9  cdwn: 0                                                                 \n",
      " 22:22:00 | Ep: 369/ 600 | Trn loss:  0.299303 - Acc: 89.5732 | Val loss:  0.393224 - Acc: 87.9954 | last_lr: 3.12500e-05  bad_ep: 10  cdwn: 0                                                                \n",
      " 22:22:24 | Ep: 370/ 600 | Trn loss:  0.299229 - Acc: 89.5743 | Val loss:  0.393264 - Acc: 87.9954 | last_lr: 3.12500e-05  bad_ep: 11  cdwn: 0                                                                \n",
      " 22:22:49 | Ep: 371/ 600 | Trn loss:  0.299156 - Acc: 89.5754 | Val loss:  0.393350 - Acc: 87.9907 | last_lr: 3.12500e-05  bad_ep: 12  cdwn: 0                                                                \n",
      " 22:23:13 | Ep: 372/ 600 | Trn loss:  0.299084 - Acc: 89.5776 | Val loss:  0.393395 - Acc: 87.9861 | last_lr: 3.12500e-05  bad_ep: 13  cdwn: 0                                                                \n",
      " 22:23:37 | Ep: 373/ 600 | Trn loss:  0.299012 - Acc: 89.5808 | Val loss:  0.393517 - Acc: 87.9815 | last_lr: 3.12500e-05  bad_ep: 14  cdwn: 0                                                                \n",
      " 22:24:01 | Ep: 374/ 600 | Trn loss:  0.298942 - Acc: 89.5830 | Val loss:  0.393586 - Acc: 87.9769 | last_lr: 3.12500e-05  bad_ep: 15  cdwn: 0                                                                \n",
      " 22:24:25 | Ep: 375/ 600 | Trn loss:  0.298873 - Acc: 89.5844 | Val loss:  0.393685 - Acc: 87.9769 | last_lr: 3.12500e-05  bad_ep: 16  cdwn: 0                                                                \n",
      " 22:24:49 | Ep: 376/ 600 | Trn loss:  0.298804 - Acc: 89.5895 | Val loss:  0.393786 - Acc: 87.9769 | last_lr: 3.12500e-05  bad_ep: 17  cdwn: 0                                                                \n",
      " 22:25:14 | Ep: 377/ 600 | Trn loss:  0.298737 - Acc: 89.5905 | Val loss:  0.393837 - Acc: 87.9769 | last_lr: 3.12500e-05  bad_ep: 18  cdwn: 0                                                                \n",
      " 22:25:38 | Ep: 378/ 600 | Trn loss:  0.298669 - Acc: 89.5931 | Val loss:  0.393899 - Acc: 87.9769 | last_lr: 3.12500e-05  bad_ep: 19  cdwn: 0                                                                \n",
      " 22:26:03 | Ep: 379/ 600 | Trn loss:  0.298603 - Acc: 89.5960 | Val loss:  0.393962 - Acc: 87.9815 | last_lr: 3.12500e-05  bad_ep: 20  cdwn: 0                                                                \n",
      " 22:26:28 | Ep: 380/ 600 | Trn loss:  0.298537 - Acc: 89.5960 | Val loss:  0.394004 - Acc: 87.9815 | last_lr: 3.12500e-05  bad_ep: 21  cdwn: 0                                                                \n",
      " 22:26:52 | Ep: 381/ 600 | Trn loss:  0.298472 - Acc: 89.5988 | Val loss:  0.394096 - Acc: 87.9815 | last_lr: 3.12500e-05  bad_ep: 22  cdwn: 0                                                                \n",
      " 22:27:15 | Ep: 382/ 600 | Trn loss:  0.298407 - Acc: 89.6014 | Val loss:  0.394175 - Acc: 87.9815 | last_lr: 3.12500e-05  bad_ep: 23  cdwn: 0                                                                \n",
      " 22:27:39 | Ep: 383/ 600 | Trn loss:  0.298343 - Acc: 89.6028 | Val loss:  0.394211 - Acc: 87.9769 | last_lr: 3.12500e-05  bad_ep: 24  cdwn: 0                                                                \n",
      " 22:28:03 | Ep: 384/ 600 | Trn loss:  0.298279 - Acc: 89.6043 | Val loss:  0.394328 - Acc: 87.9769 | last_lr: 3.12500e-05  bad_ep: 25  cdwn: 0                                                                \n",
      " 22:28:27 | Ep: 385/ 600 | Trn loss:  0.298216 - Acc: 89.6061 | Val loss:  0.394414 - Acc: 87.9676 | last_lr: 3.12500e-05  bad_ep: 26  cdwn: 0                                                                \n",
      " 22:28:51 | Ep: 386/ 600 | Trn loss:  0.298153 - Acc: 89.6097 | Val loss:  0.394431 - Acc: 87.9722 | last_lr: 3.12500e-05  bad_ep: 27  cdwn: 0                                                                \n",
      " 22:29:15 | Ep: 387/ 600 | Trn loss:  0.298091 - Acc: 89.6140 | Val loss:  0.394539 - Acc: 87.9722 | last_lr: 3.12500e-05  bad_ep: 28  cdwn: 0                                                                \n",
      " 22:29:39 | Ep: 388/ 600 | Trn loss:  0.298029 - Acc: 89.6147 | Val loss:  0.394543 - Acc: 87.9722 | last_lr: 3.12500e-05  bad_ep: 29  cdwn: 0                                                                \n",
      " 22:30:03 | Ep: 389/ 600 | Trn loss:  0.297967 - Acc: 89.6144 | Val loss:  0.394590 - Acc: 87.9722 | last_lr: 3.12500e-05  bad_ep: 30  cdwn: 0                                                                \n",
      " 22:30:26 | Ep: 390/ 600 | Trn loss:  0.297906 - Acc: 89.6158 | Val loss:  0.394666 - Acc: 87.9722 | last_lr: 3.12500e-05  bad_ep: 31  cdwn: 0                                                                \n",
      " 22:30:50 | Ep: 391/ 600 | Trn loss:  0.297845 - Acc: 89.6180 | Val loss:  0.394700 - Acc: 87.9722 | last_lr: 3.12500e-05  bad_ep: 32  cdwn: 0                                                                \n",
      " 22:31:14 | Ep: 392/ 600 | Trn loss:  0.297785 - Acc: 89.6198 | Val loss:  0.394751 - Acc: 87.9722 | last_lr: 3.12500e-05  bad_ep: 33  cdwn: 0                                                                \n",
      " 22:31:38 | Ep: 393/ 600 | Trn loss:  0.297724 - Acc: 89.6212 | Val loss:  0.394764 - Acc: 87.9769 | last_lr: 3.12500e-05  bad_ep: 34  cdwn: 0                                                                \n",
      " 22:32:02 | Ep: 394/ 600 | Trn loss:  0.297664 - Acc: 89.6219 | Val loss:  0.394803 - Acc: 87.9769 | last_lr: 3.12500e-05  bad_ep: 35  cdwn: 0                                                                \n",
      " 22:32:27 | Ep: 395/ 600 | Trn loss:  0.297604 - Acc: 89.6245 | Val loss:  0.394887 - Acc: 87.9769 | last_lr: 3.12500e-05  bad_ep: 36  cdwn: 0                                                                \n",
      " 22:32:51 | Ep: 396/ 600 | Trn loss:  0.297545 - Acc: 89.6259 | Val loss:  0.394859 - Acc: 87.9769 | last_lr: 3.12500e-05  bad_ep: 37  cdwn: 0                                                                \n",
      " 22:33:15 | Ep: 397/ 600 | Trn loss:  0.297486 - Acc: 89.6288 | Val loss:  0.394911 - Acc: 87.9769 | last_lr: 3.12500e-05  bad_ep: 38  cdwn: 0                                                                \n",
      " 22:33:39 | Ep: 398/ 600 | Trn loss:  0.297427 - Acc: 89.6302 | Val loss:  0.395027 - Acc: 87.9722 | last_lr: 3.12500e-05  bad_ep: 39  cdwn: 0                                                                \n",
      " 22:34:03 | Ep: 399/ 600 | Trn loss:  0.297368 - Acc: 89.6313 | Val loss:  0.394970 - Acc: 87.9722 | last_lr: 3.12500e-05  bad_ep: 40  cdwn: 0                                                                \n",
      "                                                                                                                                                                                                              "
     ]
    },
    {
     "name": "stderr",
     "output_type": "stream",
     "text": [
      "2024-09-30 22:34:27,306 - utils.utils_cellpainting - INFO: -  Model exported to NN_snnl_embd600_250Ltnt_512_20240924_0146_LAST_20240930_1945_ep_400.pt - epoch: 400\n"
     ]
    },
    {
     "name": "stdout",
     "output_type": "stream",
     "text": [
      " 22:34:27 | Ep: 400/ 600 | Trn loss:  0.297309 - Acc: 89.6335 | Val loss:  0.395052 - Acc: 87.9722 | last_lr: 3.12500e-05  bad_ep: 41  cdwn: 0 \n",
      " 22:34:51 | Ep: 401/ 600 | Trn loss:  0.297251 - Acc: 89.6338 | Val loss:  0.395070 - Acc: 87.9722 | last_lr: 3.12500e-05  bad_ep: 42  cdwn: 0                                                                \n",
      " 22:35:15 | Ep: 402/ 600 | Trn loss:  0.297193 - Acc: 89.6353 | Val loss:  0.395000 - Acc: 87.9722 | last_lr: 3.12500e-05  bad_ep: 43  cdwn: 0                                                                \n",
      " 22:35:39 | Ep: 403/ 600 | Trn loss:  0.297135 - Acc: 89.6367 | Val loss:  0.395134 - Acc: 87.9722 | last_lr: 3.12500e-05  bad_ep: 44  cdwn: 0                                                                \n",
      " 22:36:03 | Ep: 404/ 600 | Trn loss:  0.297077 - Acc: 89.6396 | Val loss:  0.395152 - Acc: 87.9676 | last_lr: 3.12500e-05  bad_ep: 45  cdwn: 0                                                                \n",
      " 22:36:27 | Ep: 405/ 600 | Trn loss:  0.297020 - Acc: 89.6407 | Val loss:  0.395117 - Acc: 87.9676 | last_lr: 3.12500e-05  bad_ep: 46  cdwn: 0                                                                \n",
      " 22:36:52 | Ep: 406/ 600 | Trn loss:  0.296962 - Acc: 89.6439 | Val loss:  0.395186 - Acc: 87.9676 | last_lr: 3.12500e-05  bad_ep: 47  cdwn: 0                                                                \n",
      " 22:37:16 | Ep: 407/ 600 | Trn loss:  0.296905 - Acc: 89.6465 | Val loss:  0.395132 - Acc: 87.9676 | last_lr: 3.12500e-05  bad_ep: 48  cdwn: 0                                                                \n",
      " 22:37:40 | Ep: 408/ 600 | Trn loss:  0.296848 - Acc: 89.6494 | Val loss:  0.395143 - Acc: 87.9630 | last_lr: 3.12500e-05  bad_ep: 49  cdwn: 0                                                                \n",
      " 22:38:04 | Ep: 409/ 600 | Trn loss:  0.296791 - Acc: 89.6501 | Val loss:  0.395228 - Acc: 87.9630 | last_lr: 3.12500e-05  bad_ep: 50  cdwn: 0                                                                \n",
      " 22:38:28 | Ep: 410/ 600 | Trn loss:  0.296734 - Acc: 89.6526 | Val loss:  0.395208 - Acc: 87.9630 | last_lr: 1.56250e-05  bad_ep: 0  cdwn: 10                                                                \n",
      " 22:38:53 | Ep: 411/ 600 | Trn loss:  0.297459 - Acc: 89.6299 | Val loss:  0.387007 - Acc: 87.9583 | last_lr: 1.56250e-05  bad_ep: 0  cdwn: 9                                                                 \n",
      " 22:39:17 | Ep: 412/ 600 | Trn loss:  0.297313 - Acc: 89.6320 | Val loss:  0.387062 - Acc: 87.9630 | last_lr: 1.56250e-05  bad_ep: 0  cdwn: 8                                                                 \n",
      " 22:39:41 | Ep: 413/ 600 | Trn loss:  0.297220 - Acc: 89.6331 | Val loss:  0.387071 - Acc: 87.9583 | last_lr: 1.56250e-05  bad_ep: 0  cdwn: 7                                                                 \n",
      " 22:40:05 | Ep: 414/ 600 | Trn loss:  0.297147 - Acc: 89.6356 | Val loss:  0.387017 - Acc: 87.9583 | last_lr: 1.56250e-05  bad_ep: 0  cdwn: 6                                                                 \n",
      " 22:40:29 | Ep: 415/ 600 | Trn loss:  0.297082 - Acc: 89.6400 | Val loss:  0.386890 - Acc: 87.9583 | last_lr: 1.56250e-05  bad_ep: 0  cdwn: 5                                                                 \n",
      " 22:40:54 | Ep: 416/ 600 | Trn loss:  0.297022 - Acc: 89.6418 | Val loss:  0.386757 - Acc: 87.9583 | last_lr: 1.56250e-05  bad_ep: 0  cdwn: 4                                                                 \n",
      " 22:41:17 | Ep: 417/ 600 | Trn loss:  0.296965 - Acc: 89.6429 | Val loss:  0.386654 - Acc: 87.9583 | last_lr: 1.56250e-05  bad_ep: 0  cdwn: 3                                                                 \n",
      " 22:41:41 | Ep: 418/ 600 | Trn loss:  0.296911 - Acc: 89.6418 | Val loss:  0.386517 - Acc: 87.9583 | last_lr: 1.56250e-05  bad_ep: 0  cdwn: 2                                                                 \n",
      " 22:42:05 | Ep: 419/ 600 | Trn loss:  0.296859 - Acc: 89.6425 | Val loss:  0.386402 - Acc: 87.9630 | last_lr: 1.56250e-05  bad_ep: 0  cdwn: 1                                                                 \n",
      " 22:42:29 | Ep: 420/ 600 | Trn loss:  0.296809 - Acc: 89.6461 | Val loss:  0.386293 - Acc: 87.9676 | last_lr: 1.56250e-05  bad_ep: 0  cdwn: 0                                                                 \n",
      " 22:42:53 | Ep: 421/ 600 | Trn loss:  0.296760 - Acc: 89.6443 | Val loss:  0.386141 - Acc: 87.9676 | last_lr: 1.56250e-05  bad_ep: 1  cdwn: 0                                                                 \n",
      " 22:43:16 | Ep: 422/ 600 | Trn loss:  0.296713 - Acc: 89.6468 | Val loss:  0.386045 - Acc: 87.9676 | last_lr: 1.56250e-05  bad_ep: 2  cdwn: 0                                                                 \n",
      " 22:43:40 | Ep: 423/ 600 | Trn loss:  0.296667 - Acc: 89.6479 | Val loss:  0.385945 - Acc: 87.9676 | last_lr: 1.56250e-05  bad_ep: 3  cdwn: 0                                                                 \n",
      " 22:44:04 | Ep: 424/ 600 | Trn loss:  0.296621 - Acc: 89.6494 | Val loss:  0.385855 - Acc: 87.9722 | last_lr: 1.56250e-05  bad_ep: 4  cdwn: 0                                                                 \n",
      " 22:44:28 | Ep: 425/ 600 | Trn loss:  0.296577 - Acc: 89.6540 | Val loss:  0.385743 - Acc: 87.9722 | last_lr: 1.56250e-05  bad_ep: 5  cdwn: 0                                                                 \n",
      " 22:44:52 | Ep: 426/ 600 | Trn loss:  0.296534 - Acc: 89.6544 | Val loss:  0.385653 - Acc: 87.9722 | last_lr: 1.56250e-05  bad_ep: 6  cdwn: 0                                                                 \n",
      " 22:45:16 | Ep: 427/ 600 | Trn loss:  0.296491 - Acc: 89.6544 | Val loss:  0.385595 - Acc: 87.9722 | last_lr: 1.56250e-05  bad_ep: 7  cdwn: 0                                                                 \n",
      " 22:45:40 | Ep: 428/ 600 | Trn loss:  0.296449 - Acc: 89.6573 | Val loss:  0.385500 - Acc: 87.9769 | last_lr: 1.56250e-05  bad_ep: 8  cdwn: 0                                                                 \n",
      " 22:46:04 | Ep: 429/ 600 | Trn loss:  0.296407 - Acc: 89.6587 | Val loss:  0.385419 - Acc: 87.9722 | last_lr: 1.56250e-05  bad_ep: 9  cdwn: 0                                                                 \n",
      " 22:46:28 | Ep: 430/ 600 | Trn loss:  0.296367 - Acc: 89.6591 | Val loss:  0.385363 - Acc: 87.9722 | last_lr: 1.56250e-05  bad_ep: 10  cdwn: 0                                                                \n",
      " 22:46:52 | Ep: 431/ 600 | Trn loss:  0.296326 - Acc: 89.6620 | Val loss:  0.385304 - Acc: 87.9676 | last_lr: 1.56250e-05  bad_ep: 11  cdwn: 0                                                                \n",
      " 22:47:15 | Ep: 432/ 600 | Trn loss:  0.296287 - Acc: 89.6627 | Val loss:  0.385248 - Acc: 87.9676 | last_lr: 1.56250e-05  bad_ep: 12  cdwn: 0                                                                \n",
      " 22:47:39 | Ep: 433/ 600 | Trn loss:  0.296248 - Acc: 89.6634 | Val loss:  0.385173 - Acc: 87.9722 | last_lr: 1.56250e-05  bad_ep: 13  cdwn: 0                                                                \n",
      " 22:48:03 | Ep: 434/ 600 | Trn loss:  0.296209 - Acc: 89.6649 | Val loss:  0.385153 - Acc: 87.9630 | last_lr: 1.56250e-05  bad_ep: 14  cdwn: 0                                                                \n",
      " 22:48:27 | Ep: 435/ 600 | Trn loss:  0.296170 - Acc: 89.6656 | Val loss:  0.385107 - Acc: 87.9630 | last_lr: 1.56250e-05  bad_ep: 15  cdwn: 0                                                                \n",
      " 22:48:51 | Ep: 436/ 600 | Trn loss:  0.296133 - Acc: 89.6674 | Val loss:  0.385077 - Acc: 87.9630 | last_lr: 1.56250e-05  bad_ep: 16  cdwn: 0                                                                \n",
      " 22:49:15 | Ep: 437/ 600 | Trn loss:  0.296095 - Acc: 89.6692 | Val loss:  0.385017 - Acc: 87.9676 | last_lr: 1.56250e-05  bad_ep: 17  cdwn: 0                                                                \n",
      " 22:49:40 | Ep: 438/ 600 | Trn loss:  0.296058 - Acc: 89.6710 | Val loss:  0.384986 - Acc: 87.9676 | last_lr: 1.56250e-05  bad_ep: 18  cdwn: 0                                                                \n",
      " 22:50:04 | Ep: 439/ 600 | Trn loss:  0.296021 - Acc: 89.6721 | Val loss:  0.384915 - Acc: 87.9676 | last_lr: 1.56250e-05  bad_ep: 19  cdwn: 0                                                                \n",
      " 22:50:28 | Ep: 440/ 600 | Trn loss:  0.295984 - Acc: 89.6714 | Val loss:  0.384957 - Acc: 87.9722 | last_lr: 1.56250e-05  bad_ep: 20  cdwn: 0                                                                \n",
      " 22:50:53 | Ep: 441/ 600 | Trn loss:  0.295948 - Acc: 89.6760 | Val loss:  0.384908 - Acc: 87.9722 | last_lr: 1.56250e-05  bad_ep: 21  cdwn: 0                                                                \n",
      " 22:51:17 | Ep: 442/ 600 | Trn loss:  0.295912 - Acc: 89.6771 | Val loss:  0.384882 - Acc: 87.9722 | last_lr: 1.56250e-05  bad_ep: 22  cdwn: 0                                                                \n",
      " 22:51:42 | Ep: 443/ 600 | Trn loss:  0.295876 - Acc: 89.6797 | Val loss:  0.384844 - Acc: 87.9722 | last_lr: 1.56250e-05  bad_ep: 23  cdwn: 0                                                                \n",
      " 22:52:07 | Ep: 444/ 600 | Trn loss:  0.295841 - Acc: 89.6811 | Val loss:  0.384834 - Acc: 87.9722 | last_lr: 1.56250e-05  bad_ep: 24  cdwn: 0                                                                \n",
      " 22:52:31 | Ep: 445/ 600 | Trn loss:  0.295806 - Acc: 89.6825 | Val loss:  0.384838 - Acc: 87.9722 | last_lr: 1.56250e-05  bad_ep: 25  cdwn: 0                                                                \n",
      " 22:52:56 | Ep: 446/ 600 | Trn loss:  0.295771 - Acc: 89.6836 | Val loss:  0.384809 - Acc: 87.9769 | last_lr: 1.56250e-05  bad_ep: 26  cdwn: 0                                                                \n",
      " 22:53:21 | Ep: 447/ 600 | Trn loss:  0.295736 - Acc: 89.6836 | Val loss:  0.384821 - Acc: 87.9769 | last_lr: 1.56250e-05  bad_ep: 27  cdwn: 0                                                                \n",
      " 22:53:46 | Ep: 448/ 600 | Trn loss:  0.295701 - Acc: 89.6847 | Val loss:  0.384790 - Acc: 87.9769 | last_lr: 1.56250e-05  bad_ep: 28  cdwn: 0                                                                \n",
      " 22:54:10 | Ep: 449/ 600 | Trn loss:  0.295667 - Acc: 89.6851 | Val loss:  0.384747 - Acc: 87.9722 | last_lr: 1.56250e-05  bad_ep: 29  cdwn: 0                                                                \n",
      " 22:54:35 | Ep: 450/ 600 | Trn loss:  0.295633 - Acc: 89.6858 | Val loss:  0.384764 - Acc: 87.9769 | last_lr: 1.56250e-05  bad_ep: 30  cdwn: 0                                                                \n",
      " 22:55:00 | Ep: 451/ 600 | Trn loss:  0.295599 - Acc: 89.6869 | Val loss:  0.384785 - Acc: 87.9769 | last_lr: 1.56250e-05  bad_ep: 31  cdwn: 0                                                                \n",
      " 22:55:23 | Ep: 452/ 600 | Trn loss:  0.295565 - Acc: 89.6872 | Val loss:  0.384754 - Acc: 87.9815 | last_lr: 1.56250e-05  bad_ep: 32  cdwn: 0                                                                \n",
      " 22:55:48 | Ep: 453/ 600 | Trn loss:  0.295531 - Acc: 89.6887 | Val loss:  0.384751 - Acc: 87.9815 | last_lr: 1.56250e-05  bad_ep: 33  cdwn: 0                                                                \n",
      " 22:56:12 | Ep: 454/ 600 | Trn loss:  0.295498 - Acc: 89.6894 | Val loss:  0.384747 - Acc: 87.9815 | last_lr: 1.56250e-05  bad_ep: 34  cdwn: 0                                                                \n",
      " 22:56:36 | Ep: 455/ 600 | Trn loss:  0.295464 - Acc: 89.6905 | Val loss:  0.384754 - Acc: 87.9815 | last_lr: 1.56250e-05  bad_ep: 35  cdwn: 0                                                                \n",
      " 22:57:00 | Ep: 456/ 600 | Trn loss:  0.295431 - Acc: 89.6919 | Val loss:  0.384759 - Acc: 87.9815 | last_lr: 1.56250e-05  bad_ep: 36  cdwn: 0                                                                \n",
      " 22:57:24 | Ep: 457/ 600 | Trn loss:  0.295398 - Acc: 89.6926 | Val loss:  0.384755 - Acc: 87.9815 | last_lr: 1.56250e-05  bad_ep: 37  cdwn: 0                                                                \n",
      " 22:57:48 | Ep: 458/ 600 | Trn loss:  0.295365 - Acc: 89.6930 | Val loss:  0.384759 - Acc: 87.9815 | last_lr: 1.56250e-05  bad_ep: 38  cdwn: 0                                                                \n",
      " 22:58:12 | Ep: 459/ 600 | Trn loss:  0.295332 - Acc: 89.6937 | Val loss:  0.384771 - Acc: 87.9815 | last_lr: 1.56250e-05  bad_ep: 39  cdwn: 0                                                                \n",
      " 22:58:36 | Ep: 460/ 600 | Trn loss:  0.295300 - Acc: 89.6952 | Val loss:  0.384763 - Acc: 87.9815 | last_lr: 1.56250e-05  bad_ep: 40  cdwn: 0                                                                \n",
      " 22:59:00 | Ep: 461/ 600 | Trn loss:  0.295267 - Acc: 89.6966 | Val loss:  0.384758 - Acc: 87.9815 | last_lr: 1.56250e-05  bad_ep: 41  cdwn: 0                                                                \n",
      " 22:59:24 | Ep: 462/ 600 | Trn loss:  0.295234 - Acc: 89.6984 | Val loss:  0.384799 - Acc: 87.9815 | last_lr: 1.56250e-05  bad_ep: 42  cdwn: 0                                                                \n",
      " 22:59:49 | Ep: 463/ 600 | Trn loss:  0.295202 - Acc: 89.7006 | Val loss:  0.384769 - Acc: 87.9815 | last_lr: 1.56250e-05  bad_ep: 43  cdwn: 0                                                                \n",
      " 23:00:13 | Ep: 464/ 600 | Trn loss:  0.295170 - Acc: 89.7006 | Val loss:  0.384774 - Acc: 87.9815 | last_lr: 1.56250e-05  bad_ep: 44  cdwn: 0                                                                \n",
      " 23:00:37 | Ep: 465/ 600 | Trn loss:  0.295138 - Acc: 89.6999 | Val loss:  0.384804 - Acc: 87.9769 | last_lr: 1.56250e-05  bad_ep: 45  cdwn: 0                                                                \n",
      " 23:01:01 | Ep: 466/ 600 | Trn loss:  0.295105 - Acc: 89.7006 | Val loss:  0.384816 - Acc: 87.9815 | last_lr: 1.56250e-05  bad_ep: 46  cdwn: 0                                                                \n",
      " 23:01:25 | Ep: 467/ 600 | Trn loss:  0.295073 - Acc: 89.7009 | Val loss:  0.384811 - Acc: 87.9815 | last_lr: 1.56250e-05  bad_ep: 47  cdwn: 0                                                                \n",
      " 23:01:49 | Ep: 468/ 600 | Trn loss:  0.295042 - Acc: 89.7013 | Val loss:  0.384802 - Acc: 87.9815 | last_lr: 1.56250e-05  bad_ep: 48  cdwn: 0                                                                \n",
      " 23:02:13 | Ep: 469/ 600 | Trn loss:  0.295010 - Acc: 89.7006 | Val loss:  0.384820 - Acc: 87.9815 | last_lr: 1.56250e-05  bad_ep: 49  cdwn: 0                                                                \n",
      " 23:02:37 | Ep: 470/ 600 | Trn loss:  0.294978 - Acc: 89.7006 | Val loss:  0.384855 - Acc: 87.9815 | last_lr: 1.56250e-05  bad_ep: 50  cdwn: 0                                                                \n",
      " 23:03:01 | Ep: 471/ 600 | Trn loss:  0.294947 - Acc: 89.7013 | Val loss:  0.384867 - Acc: 87.9815 | last_lr: 7.81250e-06  bad_ep: 0  cdwn: 10                                                                \n",
      " 23:03:25 | Ep: 472/ 600 | Trn loss:  0.295211 - Acc: 89.6811 | Val loss:  0.383081 - Acc: 87.9769 | last_lr: 7.81250e-06  bad_ep: 0  cdwn: 9                                                                 \n",
      " 23:03:49 | Ep: 473/ 600 | Trn loss:  0.295103 - Acc: 89.6890 | Val loss:  0.382791 - Acc: 87.9769 | last_lr: 7.81250e-06  bad_ep: 0  cdwn: 8                                                                 \n",
      " 23:04:13 | Ep: 474/ 600 | Trn loss:  0.295058 - Acc: 89.6887 | Val loss:  0.382586 - Acc: 87.9676 | last_lr: 7.81250e-06  bad_ep: 0  cdwn: 7                                                                 \n",
      " 23:04:37 | Ep: 475/ 600 | Trn loss:  0.295025 - Acc: 89.6880 | Val loss:  0.382440 - Acc: 87.9630 | last_lr: 7.81250e-06  bad_ep: 0  cdwn: 6                                                                 \n",
      " 23:05:01 | Ep: 476/ 600 | Trn loss:  0.294995 - Acc: 89.6865 | Val loss:  0.382326 - Acc: 87.9676 | last_lr: 7.81250e-06  bad_ep: 0  cdwn: 5                                                                 \n",
      " 23:05:25 | Ep: 477/ 600 | Trn loss:  0.294967 - Acc: 89.6869 | Val loss:  0.382217 - Acc: 87.9676 | last_lr: 7.81250e-06  bad_ep: 0  cdwn: 4                                                                 \n",
      " 23:05:49 | Ep: 478/ 600 | Trn loss:  0.294940 - Acc: 89.6883 | Val loss:  0.382138 - Acc: 87.9722 | last_lr: 7.81250e-06  bad_ep: 0  cdwn: 3                                                                 \n",
      " 23:06:14 | Ep: 479/ 600 | Trn loss:  0.294914 - Acc: 89.6912 | Val loss:  0.382073 - Acc: 87.9769 | last_lr: 7.81250e-06  bad_ep: 0  cdwn: 2                                                                 \n",
      " 23:06:38 | Ep: 480/ 600 | Trn loss:  0.294889 - Acc: 89.6926 | Val loss:  0.382019 - Acc: 87.9769 | last_lr: 7.81250e-06  bad_ep: 0  cdwn: 1                                                                 \n",
      " 23:07:02 | Ep: 481/ 600 | Trn loss:  0.294865 - Acc: 89.6919 | Val loss:  0.381969 - Acc: 87.9769 | last_lr: 7.81250e-06  bad_ep: 0  cdwn: 0                                                                 \n",
      " 23:07:26 | Ep: 482/ 600 | Trn loss:  0.294841 - Acc: 89.6926 | Val loss:  0.381928 - Acc: 87.9815 | last_lr: 7.81250e-06  bad_ep: 1  cdwn: 0                                                                 \n",
      " 23:07:50 | Ep: 483/ 600 | Trn loss:  0.294817 - Acc: 89.6919 | Val loss:  0.381889 - Acc: 87.9861 | last_lr: 7.81250e-06  bad_ep: 2  cdwn: 0                                                                 \n",
      " 23:08:14 | Ep: 484/ 600 | Trn loss:  0.294794 - Acc: 89.6930 | Val loss:  0.381861 - Acc: 87.9861 | last_lr: 7.81250e-06  bad_ep: 3  cdwn: 0                                                                 \n",
      " 23:08:38 | Ep: 485/ 600 | Trn loss:  0.294772 - Acc: 89.6908 | Val loss:  0.381847 - Acc: 87.9815 | last_lr: 7.81250e-06  bad_ep: 4  cdwn: 0                                                                 \n",
      " 23:09:03 | Ep: 486/ 600 | Trn loss:  0.294750 - Acc: 89.6916 | Val loss:  0.381822 - Acc: 87.9769 | last_lr: 7.81250e-06  bad_ep: 5  cdwn: 0                                                                 \n",
      " 23:09:27 | Ep: 487/ 600 | Trn loss:  0.294728 - Acc: 89.6912 | Val loss:  0.381808 - Acc: 87.9722 | last_lr: 7.81250e-06  bad_ep: 6  cdwn: 0                                                                 \n",
      " 23:09:51 | Ep: 488/ 600 | Trn loss:  0.294706 - Acc: 89.6919 | Val loss:  0.381788 - Acc: 87.9722 | last_lr: 7.81250e-06  bad_ep: 7  cdwn: 0                                                                 \n",
      " 23:10:16 | Ep: 489/ 600 | Trn loss:  0.294685 - Acc: 89.6930 | Val loss:  0.381766 - Acc: 87.9769 | last_lr: 7.81250e-06  bad_ep: 8  cdwn: 0                                                                 \n",
      " 23:10:41 | Ep: 490/ 600 | Trn loss:  0.294664 - Acc: 89.6944 | Val loss:  0.381769 - Acc: 87.9769 | last_lr: 7.81250e-06  bad_ep: 9  cdwn: 0                                                                 \n",
      " 23:11:06 | Ep: 491/ 600 | Trn loss:  0.294643 - Acc: 89.6966 | Val loss:  0.381745 - Acc: 87.9769 | last_lr: 7.81250e-06  bad_ep: 10  cdwn: 0                                                                \n",
      " 23:11:30 | Ep: 492/ 600 | Trn loss:  0.294622 - Acc: 89.6977 | Val loss:  0.381742 - Acc: 87.9769 | last_lr: 7.81250e-06  bad_ep: 11  cdwn: 0                                                                \n",
      " 23:11:55 | Ep: 493/ 600 | Trn loss:  0.294601 - Acc: 89.6981 | Val loss:  0.381736 - Acc: 87.9769 | last_lr: 7.81250e-06  bad_ep: 12  cdwn: 0                                                                \n",
      " 23:12:20 | Ep: 494/ 600 | Trn loss:  0.294581 - Acc: 89.6995 | Val loss:  0.381737 - Acc: 87.9769 | last_lr: 7.81250e-06  bad_ep: 13  cdwn: 0                                                                \n",
      " 23:12:44 | Ep: 495/ 600 | Trn loss:  0.294561 - Acc: 89.7013 | Val loss:  0.381722 - Acc: 87.9815 | last_lr: 7.81250e-06  bad_ep: 14  cdwn: 0                                                                \n",
      " 23:13:08 | Ep: 496/ 600 | Trn loss:  0.294541 - Acc: 89.7027 | Val loss:  0.381726 - Acc: 87.9722 | last_lr: 7.81250e-06  bad_ep: 15  cdwn: 0                                                                \n",
      " 23:13:32 | Ep: 497/ 600 | Trn loss:  0.294521 - Acc: 89.7045 | Val loss:  0.381722 - Acc: 87.9722 | last_lr: 7.81250e-06  bad_ep: 16  cdwn: 0                                                                \n",
      " 23:13:56 | Ep: 498/ 600 | Trn loss:  0.294501 - Acc: 89.7049 | Val loss:  0.381721 - Acc: 87.9722 | last_lr: 7.81250e-06  bad_ep: 17  cdwn: 0                                                                \n",
      " 23:14:20 | Ep: 499/ 600 | Trn loss:  0.294482 - Acc: 89.7056 | Val loss:  0.381716 - Acc: 87.9722 | last_lr: 7.81250e-06  bad_ep: 18  cdwn: 0                                                                \n",
      "                                                                                                                                                                                                              "
     ]
    },
    {
     "name": "stderr",
     "output_type": "stream",
     "text": [
      "2024-09-30 23:14:45,633 - utils.utils_cellpainting - INFO: -  Model exported to NN_snnl_embd600_250Ltnt_512_20240924_0146_LAST_20240930_1945_ep_500.pt - epoch: 500\n"
     ]
    },
    {
     "name": "stdout",
     "output_type": "stream",
     "text": [
      " 23:14:45 | Ep: 500/ 600 | Trn loss:  0.294463 - Acc: 89.7060 | Val loss:  0.381716 - Acc: 87.9769 | last_lr: 7.81250e-06  bad_ep: 19  cdwn: 0 \n",
      " 23:15:10 | Ep: 501/ 600 | Trn loss:  0.294443 - Acc: 89.7060 | Val loss:  0.381714 - Acc: 87.9769 | last_lr: 7.81250e-06  bad_ep: 20  cdwn: 0                                                                \n",
      " 23:15:35 | Ep: 502/ 600 | Trn loss:  0.294424 - Acc: 89.7074 | Val loss:  0.381705 - Acc: 87.9769 | last_lr: 7.81250e-06  bad_ep: 21  cdwn: 0                                                                \n",
      " 23:16:00 | Ep: 503/ 600 | Trn loss:  0.294405 - Acc: 89.7074 | Val loss:  0.381721 - Acc: 87.9769 | last_lr: 7.81250e-06  bad_ep: 22  cdwn: 0                                                                \n",
      " 23:16:25 | Ep: 504/ 600 | Trn loss:  0.294386 - Acc: 89.7089 | Val loss:  0.381713 - Acc: 87.9769 | last_lr: 7.81250e-06  bad_ep: 23  cdwn: 0                                                                \n",
      " 23:16:50 | Ep: 505/ 600 | Trn loss:  0.294367 - Acc: 89.7085 | Val loss:  0.381708 - Acc: 87.9769 | last_lr: 7.81250e-06  bad_ep: 24  cdwn: 0                                                                \n",
      " 23:17:14 | Ep: 506/ 600 | Trn loss:  0.294349 - Acc: 89.7089 | Val loss:  0.381720 - Acc: 87.9769 | last_lr: 7.81250e-06  bad_ep: 25  cdwn: 0                                                                \n",
      " 23:17:38 | Ep: 507/ 600 | Trn loss:  0.294330 - Acc: 89.7096 | Val loss:  0.381719 - Acc: 87.9769 | last_lr: 7.81250e-06  bad_ep: 26  cdwn: 0                                                                \n",
      " 23:18:02 | Ep: 508/ 600 | Trn loss:  0.294311 - Acc: 89.7103 | Val loss:  0.381711 - Acc: 87.9769 | last_lr: 7.81250e-06  bad_ep: 27  cdwn: 0                                                                \n",
      " 23:18:27 | Ep: 509/ 600 | Trn loss:  0.294293 - Acc: 89.7096 | Val loss:  0.381713 - Acc: 87.9769 | last_lr: 7.81250e-06  bad_ep: 28  cdwn: 0                                                                \n",
      " 23:18:51 | Ep: 510/ 600 | Trn loss:  0.294275 - Acc: 89.7096 | Val loss:  0.381716 - Acc: 87.9769 | last_lr: 7.81250e-06  bad_ep: 29  cdwn: 0                                                                \n",
      " 23:19:15 | Ep: 511/ 600 | Trn loss:  0.294257 - Acc: 89.7100 | Val loss:  0.381724 - Acc: 87.9769 | last_lr: 7.81250e-06  bad_ep: 30  cdwn: 0                                                                \n",
      " 23:19:39 | Ep: 512/ 600 | Trn loss:  0.294238 - Acc: 89.7103 | Val loss:  0.381726 - Acc: 87.9769 | last_lr: 7.81250e-06  bad_ep: 31  cdwn: 0                                                                \n",
      " 23:20:03 | Ep: 513/ 600 | Trn loss:  0.294220 - Acc: 89.7128 | Val loss:  0.381719 - Acc: 87.9769 | last_lr: 7.81250e-06  bad_ep: 32  cdwn: 0                                                                \n",
      " 23:20:27 | Ep: 514/ 600 | Trn loss:  0.294202 - Acc: 89.7125 | Val loss:  0.381722 - Acc: 87.9769 | last_lr: 7.81250e-06  bad_ep: 33  cdwn: 0                                                                \n",
      " 23:20:52 | Ep: 515/ 600 | Trn loss:  0.294184 - Acc: 89.7136 | Val loss:  0.381729 - Acc: 87.9769 | last_lr: 7.81250e-06  bad_ep: 34  cdwn: 0                                                                \n",
      " 23:21:16 | Ep: 516/ 600 | Trn loss:  0.294166 - Acc: 89.7132 | Val loss:  0.381726 - Acc: 87.9769 | last_lr: 7.81250e-06  bad_ep: 35  cdwn: 0                                                                \n",
      " 23:21:40 | Ep: 517/ 600 | Trn loss:  0.294148 - Acc: 89.7143 | Val loss:  0.381731 - Acc: 87.9769 | last_lr: 7.81250e-06  bad_ep: 36  cdwn: 0                                                                \n",
      " 23:22:03 | Ep: 518/ 600 | Trn loss:  0.294131 - Acc: 89.7146 | Val loss:  0.381738 - Acc: 87.9769 | last_lr: 7.81250e-06  bad_ep: 37  cdwn: 0                                                                \n",
      " 23:22:27 | Ep: 519/ 600 | Trn loss:  0.294113 - Acc: 89.7161 | Val loss:  0.381725 - Acc: 87.9769 | last_lr: 7.81250e-06  bad_ep: 38  cdwn: 0                                                                \n",
      " 23:22:51 | Ep: 520/ 600 | Trn loss:  0.294095 - Acc: 89.7161 | Val loss:  0.381744 - Acc: 87.9722 | last_lr: 7.81250e-06  bad_ep: 39  cdwn: 0                                                                \n",
      " 23:23:15 | Ep: 521/ 600 | Trn loss:  0.294078 - Acc: 89.7175 | Val loss:  0.381741 - Acc: 87.9722 | last_lr: 7.81250e-06  bad_ep: 40  cdwn: 0                                                                \n",
      " 23:23:39 | Ep: 522/ 600 | Trn loss:  0.294060 - Acc: 89.7175 | Val loss:  0.381740 - Acc: 87.9722 | last_lr: 7.81250e-06  bad_ep: 41  cdwn: 0                                                                \n",
      " 23:24:04 | Ep: 523/ 600 | Trn loss:  0.294043 - Acc: 89.7179 | Val loss:  0.381744 - Acc: 87.9722 | last_lr: 7.81250e-06  bad_ep: 42  cdwn: 0                                                                \n",
      " 23:24:29 | Ep: 524/ 600 | Trn loss:  0.294025 - Acc: 89.7190 | Val loss:  0.381755 - Acc: 87.9722 | last_lr: 7.81250e-06  bad_ep: 43  cdwn: 0                                                                \n",
      " 23:24:53 | Ep: 525/ 600 | Trn loss:  0.294008 - Acc: 89.7190 | Val loss:  0.381749 - Acc: 87.9769 | last_lr: 7.81250e-06  bad_ep: 44  cdwn: 0                                                                \n",
      " 23:25:17 | Ep: 526/ 600 | Trn loss:  0.293991 - Acc: 89.7201 | Val loss:  0.381756 - Acc: 87.9769 | last_lr: 7.81250e-06  bad_ep: 45  cdwn: 0                                                                \n",
      " 23:25:42 | Ep: 527/ 600 | Trn loss:  0.293973 - Acc: 89.7204 | Val loss:  0.381756 - Acc: 87.9769 | last_lr: 7.81250e-06  bad_ep: 46  cdwn: 0                                                                \n",
      " 23:26:06 | Ep: 528/ 600 | Trn loss:  0.293956 - Acc: 89.7215 | Val loss:  0.381757 - Acc: 87.9769 | last_lr: 7.81250e-06  bad_ep: 47  cdwn: 0                                                                \n",
      " 23:26:31 | Ep: 529/ 600 | Trn loss:  0.293939 - Acc: 89.7226 | Val loss:  0.381764 - Acc: 87.9769 | last_lr: 7.81250e-06  bad_ep: 48  cdwn: 0                                                                \n",
      " 23:26:56 | Ep: 530/ 600 | Trn loss:  0.293922 - Acc: 89.7233 | Val loss:  0.381768 - Acc: 87.9769 | last_lr: 7.81250e-06  bad_ep: 49  cdwn: 0                                                                \n",
      " 23:27:20 | Ep: 531/ 600 | Trn loss:  0.293905 - Acc: 89.7233 | Val loss:  0.381762 - Acc: 87.9769 | last_lr: 7.81250e-06  bad_ep: 50  cdwn: 0                                                                \n",
      " 23:27:44 | Ep: 532/ 600 | Trn loss:  0.293888 - Acc: 89.7233 | Val loss:  0.381768 - Acc: 87.9769 | last_lr: 3.90625e-06  bad_ep: 0  cdwn: 10                                                                \n",
      " 23:28:08 | Ep: 533/ 600 | Trn loss:  0.293961 - Acc: 89.7240 | Val loss:  0.380570 - Acc: 87.9769 | last_lr: 3.90625e-06  bad_ep: 0  cdwn: 9                                                                 \n",
      " 23:28:32 | Ep: 534/ 600 | Trn loss:  0.293883 - Acc: 89.7294 | Val loss:  0.380554 - Acc: 87.9769 | last_lr: 3.90625e-06  bad_ep: 0  cdwn: 8                                                                 \n",
      " 23:28:57 | Ep: 535/ 600 | Trn loss:  0.293857 - Acc: 89.7302 | Val loss:  0.380551 - Acc: 87.9769 | last_lr: 3.90625e-06  bad_ep: 0  cdwn: 7                                                                 \n",
      " 23:29:21 | Ep: 536/ 600 | Trn loss:  0.293839 - Acc: 89.7302 | Val loss:  0.380547 - Acc: 87.9769 | last_lr: 3.90625e-06  bad_ep: 0  cdwn: 6                                                                 \n",
      " 23:29:46 | Ep: 537/ 600 | Trn loss:  0.293823 - Acc: 89.7305 | Val loss:  0.380549 - Acc: 87.9769 | last_lr: 3.90625e-06  bad_ep: 0  cdwn: 5                                                                 \n",
      " 23:30:11 | Ep: 538/ 600 | Trn loss:  0.293809 - Acc: 89.7305 | Val loss:  0.380550 - Acc: 87.9722 | last_lr: 3.90625e-06  bad_ep: 0  cdwn: 4                                                                 \n",
      " 23:30:35 | Ep: 539/ 600 | Trn loss:  0.293795 - Acc: 89.7320 | Val loss:  0.380551 - Acc: 87.9722 | last_lr: 3.90625e-06  bad_ep: 0  cdwn: 3                                                                 \n",
      " 23:31:00 | Ep: 540/ 600 | Trn loss:  0.293782 - Acc: 89.7320 | Val loss:  0.380549 - Acc: 87.9722 | last_lr: 3.90625e-06  bad_ep: 0  cdwn: 2                                                                 \n",
      " 23:31:24 | Ep: 541/ 600 | Trn loss:  0.293769 - Acc: 89.7327 | Val loss:  0.380550 - Acc: 87.9769 | last_lr: 3.90625e-06  bad_ep: 0  cdwn: 1                                                                 \n",
      " 23:31:48 | Ep: 542/ 600 | Trn loss:  0.293757 - Acc: 89.7338 | Val loss:  0.380551 - Acc: 87.9769 | last_lr: 3.90625e-06  bad_ep: 0  cdwn: 0                                                                 \n",
      " 23:32:13 | Ep: 543/ 600 | Trn loss:  0.293745 - Acc: 89.7323 | Val loss:  0.380552 - Acc: 87.9769 | last_lr: 3.90625e-06  bad_ep: 1  cdwn: 0                                                                 \n",
      " 23:32:38 | Ep: 544/ 600 | Trn loss:  0.293734 - Acc: 89.7320 | Val loss:  0.380550 - Acc: 87.9769 | last_lr: 3.90625e-06  bad_ep: 2  cdwn: 0                                                                 \n",
      " 23:33:03 | Ep: 545/ 600 | Trn loss:  0.293723 - Acc: 89.7323 | Val loss:  0.380553 - Acc: 87.9815 | last_lr: 3.90625e-06  bad_ep: 3  cdwn: 0                                                                 \n",
      " 23:33:28 | Ep: 546/ 600 | Trn loss:  0.293711 - Acc: 89.7320 | Val loss:  0.380552 - Acc: 87.9769 | last_lr: 3.90625e-06  bad_ep: 4  cdwn: 0                                                                 \n",
      " 23:33:54 | Ep: 547/ 600 | Trn loss:  0.293700 - Acc: 89.7320 | Val loss:  0.380554 - Acc: 87.9769 | last_lr: 3.90625e-06  bad_ep: 5  cdwn: 0                                                                 \n",
      " 23:34:19 | Ep: 548/ 600 | Trn loss:  0.293689 - Acc: 89.7323 | Val loss:  0.380554 - Acc: 87.9769 | last_lr: 3.90625e-06  bad_ep: 6  cdwn: 0                                                                 \n",
      " 23:34:44 | Ep: 549/ 600 | Trn loss:  0.293679 - Acc: 89.7338 | Val loss:  0.380557 - Acc: 87.9815 | last_lr: 3.90625e-06  bad_ep: 7  cdwn: 0                                                                 \n",
      " 23:35:09 | Ep: 550/ 600 | Trn loss:  0.293668 - Acc: 89.7334 | Val loss:  0.380556 - Acc: 87.9815 | last_lr: 3.90625e-06  bad_ep: 8  cdwn: 0                                                                 \n",
      " 23:35:34 | Ep: 551/ 600 | Trn loss:  0.293658 - Acc: 89.7341 | Val loss:  0.380560 - Acc: 87.9815 | last_lr: 3.90625e-06  bad_ep: 9  cdwn: 0                                                                 \n",
      " 23:35:59 | Ep: 552/ 600 | Trn loss:  0.293647 - Acc: 89.7348 | Val loss:  0.380558 - Acc: 87.9815 | last_lr: 3.90625e-06  bad_ep: 10  cdwn: 0                                                                \n",
      " 23:36:24 | Ep: 553/ 600 | Trn loss:  0.293637 - Acc: 89.7348 | Val loss:  0.380562 - Acc: 87.9815 | last_lr: 3.90625e-06  bad_ep: 11  cdwn: 0                                                                \n",
      " 23:36:50 | Ep: 554/ 600 | Trn loss:  0.293627 - Acc: 89.7356 | Val loss:  0.380562 - Acc: 87.9815 | last_lr: 3.90625e-06  bad_ep: 12  cdwn: 0                                                                \n",
      " 23:37:15 | Ep: 555/ 600 | Trn loss:  0.293616 - Acc: 89.7370 | Val loss:  0.380564 - Acc: 87.9815 | last_lr: 3.90625e-06  bad_ep: 13  cdwn: 0                                                                \n",
      " 23:37:40 | Ep: 556/ 600 | Trn loss:  0.293607 - Acc: 89.7377 | Val loss:  0.380566 - Acc: 87.9815 | last_lr: 3.90625e-06  bad_ep: 14  cdwn: 0                                                                \n",
      " 23:38:05 | Ep: 557/ 600 | Trn loss:  0.293596 - Acc: 89.7381 | Val loss:  0.380567 - Acc: 87.9815 | last_lr: 3.90625e-06  bad_ep: 15  cdwn: 0                                                                \n",
      " 23:38:30 | Ep: 558/ 600 | Trn loss:  0.293587 - Acc: 89.7381 | Val loss:  0.380570 - Acc: 87.9815 | last_lr: 3.90625e-06  bad_ep: 16  cdwn: 0                                                                \n",
      " 23:38:55 | Ep: 559/ 600 | Trn loss:  0.293577 - Acc: 89.7381 | Val loss:  0.380574 - Acc: 87.9815 | last_lr: 3.90625e-06  bad_ep: 17  cdwn: 0                                                                \n",
      " 23:39:20 | Ep: 560/ 600 | Trn loss:  0.293567 - Acc: 89.7392 | Val loss:  0.380575 - Acc: 87.9815 | last_lr: 3.90625e-06  bad_ep: 18  cdwn: 0                                                                \n",
      " 23:39:44 | Ep: 561/ 600 | Trn loss:  0.293557 - Acc: 89.7399 | Val loss:  0.380577 - Acc: 87.9815 | last_lr: 3.90625e-06  bad_ep: 19  cdwn: 0                                                                \n",
      " 23:40:09 | Ep: 562/ 600 | Trn loss:  0.293547 - Acc: 89.7406 | Val loss:  0.380581 - Acc: 87.9815 | last_lr: 3.90625e-06  bad_ep: 20  cdwn: 0                                                                \n",
      " 23:40:33 | Ep: 563/ 600 | Trn loss:  0.293538 - Acc: 89.7421 | Val loss:  0.380584 - Acc: 87.9815 | last_lr: 3.90625e-06  bad_ep: 21  cdwn: 0                                                                \n",
      " 23:40:57 | Ep: 564/ 600 | Trn loss:  0.293528 - Acc: 89.7428 | Val loss:  0.380586 - Acc: 87.9815 | last_lr: 3.90625e-06  bad_ep: 22  cdwn: 0                                                                \n",
      " 23:41:22 | Ep: 565/ 600 | Trn loss:  0.293519 - Acc: 89.7442 | Val loss:  0.380589 - Acc: 87.9769 | last_lr: 3.90625e-06  bad_ep: 23  cdwn: 0                                                                \n",
      " 23:41:46 | Ep: 566/ 600 | Trn loss:  0.293509 - Acc: 89.7446 | Val loss:  0.380589 - Acc: 87.9769 | last_lr: 3.90625e-06  bad_ep: 24  cdwn: 0                                                                \n",
      " 23:42:10 | Ep: 567/ 600 | Trn loss:  0.293500 - Acc: 89.7446 | Val loss:  0.380593 - Acc: 87.9769 | last_lr: 3.90625e-06  bad_ep: 25  cdwn: 0                                                                \n",
      " 23:42:34 | Ep: 568/ 600 | Trn loss:  0.293490 - Acc: 89.7446 | Val loss:  0.380598 - Acc: 87.9769 | last_lr: 3.90625e-06  bad_ep: 26  cdwn: 0                                                                \n",
      " 23:42:58 | Ep: 569/ 600 | Trn loss:  0.293481 - Acc: 89.7453 | Val loss:  0.380600 - Acc: 87.9769 | last_lr: 3.90625e-06  bad_ep: 27  cdwn: 0                                                                \n",
      " 23:43:22 | Ep: 570/ 600 | Trn loss:  0.293471 - Acc: 89.7457 | Val loss:  0.380603 - Acc: 87.9769 | last_lr: 3.90625e-06  bad_ep: 28  cdwn: 0                                                                \n",
      " 23:43:47 | Ep: 571/ 600 | Trn loss:  0.293462 - Acc: 89.7457 | Val loss:  0.380605 - Acc: 87.9769 | last_lr: 3.90625e-06  bad_ep: 29  cdwn: 0                                                                \n",
      " 23:44:12 | Ep: 572/ 600 | Trn loss:  0.293453 - Acc: 89.7460 | Val loss:  0.380610 - Acc: 87.9769 | last_lr: 3.90625e-06  bad_ep: 30  cdwn: 0                                                                \n",
      " 23:44:37 | Ep: 573/ 600 | Trn loss:  0.293444 - Acc: 89.7464 | Val loss:  0.380614 - Acc: 87.9769 | last_lr: 3.90625e-06  bad_ep: 31  cdwn: 0                                                                \n",
      " 23:45:02 | Ep: 574/ 600 | Trn loss:  0.293434 - Acc: 89.7464 | Val loss:  0.380617 - Acc: 87.9769 | last_lr: 3.90625e-06  bad_ep: 32  cdwn: 0                                                                \n",
      " 23:45:27 | Ep: 575/ 600 | Trn loss:  0.293425 - Acc: 89.7475 | Val loss:  0.380619 - Acc: 87.9769 | last_lr: 3.90625e-06  bad_ep: 33  cdwn: 0                                                                \n",
      " 23:45:52 | Ep: 576/ 600 | Trn loss:  0.293416 - Acc: 89.7478 | Val loss:  0.380621 - Acc: 87.9769 | last_lr: 3.90625e-06  bad_ep: 34  cdwn: 0                                                                \n",
      " 23:46:17 | Ep: 577/ 600 | Trn loss:  0.293407 - Acc: 89.7493 | Val loss:  0.380627 - Acc: 87.9815 | last_lr: 3.90625e-06  bad_ep: 35  cdwn: 0                                                                \n",
      " 23:46:42 | Ep: 578/ 600 | Trn loss:  0.293398 - Acc: 89.7500 | Val loss:  0.380629 - Acc: 87.9815 | last_lr: 3.90625e-06  bad_ep: 36  cdwn: 0                                                                \n",
      " 23:47:08 | Ep: 579/ 600 | Trn loss:  0.293389 - Acc: 89.7500 | Val loss:  0.380631 - Acc: 87.9815 | last_lr: 3.90625e-06  bad_ep: 37  cdwn: 0                                                                \n",
      " 23:47:33 | Ep: 580/ 600 | Trn loss:  0.293380 - Acc: 89.7504 | Val loss:  0.380636 - Acc: 87.9815 | last_lr: 3.90625e-06  bad_ep: 38  cdwn: 0                                                                \n",
      " 23:47:56 | Ep: 581/ 600 | Trn loss:  0.293371 - Acc: 89.7500 | Val loss:  0.380639 - Acc: 87.9861 | last_lr: 3.90625e-06  bad_ep: 39  cdwn: 0                                                                \n",
      " 23:48:19 | Ep: 582/ 600 | Trn loss:  0.293362 - Acc: 89.7504 | Val loss:  0.380645 - Acc: 87.9861 | last_lr: 3.90625e-06  bad_ep: 40  cdwn: 0                                                                \n",
      " 23:48:42 | Ep: 583/ 600 | Trn loss:  0.293353 - Acc: 89.7504 | Val loss:  0.380648 - Acc: 87.9861 | last_lr: 3.90625e-06  bad_ep: 41  cdwn: 0                                                                \n",
      " 23:49:05 | Ep: 584/ 600 | Trn loss:  0.293344 - Acc: 89.7507 | Val loss:  0.380651 - Acc: 87.9815 | last_lr: 3.90625e-06  bad_ep: 42  cdwn: 0                                                                \n",
      " 23:49:28 | Ep: 585/ 600 | Trn loss:  0.293335 - Acc: 89.7504 | Val loss:  0.380655 - Acc: 87.9815 | last_lr: 3.90625e-06  bad_ep: 43  cdwn: 0                                                                \n",
      " 23:49:52 | Ep: 586/ 600 | Trn loss:  0.293326 - Acc: 89.7500 | Val loss:  0.380659 - Acc: 87.9815 | last_lr: 3.90625e-06  bad_ep: 44  cdwn: 0                                                                \n",
      " 23:50:15 | Ep: 587/ 600 | Trn loss:  0.293317 - Acc: 89.7504 | Val loss:  0.380663 - Acc: 87.9815 | last_lr: 3.90625e-06  bad_ep: 45  cdwn: 0                                                                \n",
      " 23:50:38 | Ep: 588/ 600 | Trn loss:  0.293308 - Acc: 89.7511 | Val loss:  0.380667 - Acc: 87.9815 | last_lr: 3.90625e-06  bad_ep: 46  cdwn: 0                                                                \n",
      " 23:51:01 | Ep: 589/ 600 | Trn loss:  0.293299 - Acc: 89.7514 | Val loss:  0.380672 - Acc: 87.9815 | last_lr: 3.90625e-06  bad_ep: 47  cdwn: 0                                                                \n",
      " 23:51:25 | Ep: 590/ 600 | Trn loss:  0.293291 - Acc: 89.7507 | Val loss:  0.380674 - Acc: 87.9815 | last_lr: 3.90625e-06  bad_ep: 48  cdwn: 0                                                                \n",
      " 23:51:48 | Ep: 591/ 600 | Trn loss:  0.293282 - Acc: 89.7507 | Val loss:  0.380680 - Acc: 87.9815 | last_lr: 3.90625e-06  bad_ep: 49  cdwn: 0                                                                \n",
      " 23:52:11 | Ep: 592/ 600 | Trn loss:  0.293273 - Acc: 89.7511 | Val loss:  0.380681 - Acc: 87.9769 | last_lr: 3.90625e-06  bad_ep: 50  cdwn: 0                                                                \n",
      " 23:52:34 | Ep: 593/ 600 | Trn loss:  0.293264 - Acc: 89.7514 | Val loss:  0.380686 - Acc: 87.9769 | last_lr: 1.95313e-06  bad_ep: 0  cdwn: 10                                                                \n",
      " 23:52:56 | Ep: 594/ 600 | Trn loss:  0.293189 - Acc: 89.7504 | Val loss:  0.380861 - Acc: 87.9815 | last_lr: 1.95313e-06  bad_ep: 0  cdwn: 9                                                                 \n",
      " 23:53:20 | Ep: 595/ 600 | Trn loss:  0.293161 - Acc: 89.7554 | Val loss:  0.380815 - Acc: 87.9769 | last_lr: 1.95313e-06  bad_ep: 0  cdwn: 8                                                                 \n",
      " 23:53:43 | Ep: 596/ 600 | Trn loss:  0.293150 - Acc: 89.7572 | Val loss:  0.380798 - Acc: 87.9722 | last_lr: 1.95313e-06  bad_ep: 0  cdwn: 7                                                                 \n",
      " 23:54:06 | Ep: 597/ 600 | Trn loss:  0.293142 - Acc: 89.7601 | Val loss:  0.380789 - Acc: 87.9722 | last_lr: 1.95313e-06  bad_ep: 0  cdwn: 6                                                                 \n",
      " 23:54:29 | Ep: 598/ 600 | Trn loss:  0.293135 - Acc: 89.7594 | Val loss:  0.380784 - Acc: 87.9722 | last_lr: 1.95313e-06  bad_ep: 0  cdwn: 5                                                                 \n",
      " 23:54:52 | Ep: 599/ 600 | Trn loss:  0.293129 - Acc: 89.7605 | Val loss:  0.380780 - Acc: 87.9722 | last_lr: 1.95313e-06  bad_ep: 0  cdwn: 4                                                                 \n",
      "                                                                                                                                                                                                              "
     ]
    },
    {
     "name": "stderr",
     "output_type": "stream",
     "text": [
      "2024-09-30 23:55:16,197 - utils.utils_cellpainting - INFO: -  Model exported to NN_snnl_embd600_250Ltnt_512_20240924_0146_LAST_20240930_1945_ep_600.pt - epoch: 600\n"
     ]
    },
    {
     "name": "stdout",
     "output_type": "stream",
     "text": [
      " 23:55:16 | Ep: 600/ 600 | Trn loss:  0.293122 - Acc: 89.7594 | Val loss:  0.380778 - Acc: 87.9722 | last_lr: 1.95313e-06  bad_ep: 0  cdwn: 3 \n"
     ]
    }
   ],
   "source": [
    "\n",
    "_ = fit(model, optimizer, scheduler, data_loader, metrics, start_epoch, end_epoch, device, CKPT_FILE, CKPT_PATH )\n"
   ]
  },
  {
   "cell_type": "markdown",
   "id": "573ac673-4b85-4d5a-ba01-40945db8419f",
   "metadata": {},
   "source": []
  },
  {
   "cell_type": "code",
   "execution_count": null,
   "id": "52421a1e-edc4-4f04-af58-390ac23260cb",
   "metadata": {},
   "outputs": [],
   "source": [
    "# print(CKPT_FILE)\n",
    "# save_checkpoint(end_epoch, model, optimizer, scheduler, metrics = metrics,\n",
    "#                 filename = CKPT_FILE.format(ep=end_epoch),\n",
    "#                 ckpt_path = CKPT_PATH, verbose = True)"
   ]
  },
  {
   "cell_type": "code",
   "execution_count": null,
   "id": "5e978589-d202-445e-a7a8-2c8068acbe85",
   "metadata": {
    "ExecuteTime": {
     "end_time": "2023-06-04T11:35:15.434870Z",
     "start_time": "2023-06-04T11:35:15.344699Z"
    }
   },
   "outputs": [],
   "source": [
    "# start_epoch, end_epoch\n",
    "\n",
    "# for mtrc in ['loss_trn', 'loss_val']:\n",
    "#     for i in range(len(metrics[mtrc])):\n",
    "#         # print(i)\n",
    "#         metrics[mtrc][i] = metrics[mtrc][i].item()\n",
    " "
   ]
  },
  {
   "cell_type": "markdown",
   "id": "d75622ea-9d55-42a5-afbd-b7453166bce0",
   "metadata": {
    "jp-MarkdownHeadingCollapsed": true
   },
   "source": [
    "# Modify TPSA Threshold"
   ]
  },
  {
   "cell_type": "code",
   "execution_count": null,
   "id": "9ca4e52f-46c9-4506-8b0d-239f045f04ac",
   "metadata": {},
   "outputs": [],
   "source": [
    "\n",
    "train_y_72 = np.zeros_like(train_y)\n",
    "train_y_72.shape[0]/3"
   ]
  },
  {
   "cell_type": "code",
   "execution_count": null,
   "id": "e11392e3-cbea-49a8-9a0b-2030c1a0aee1",
   "metadata": {
    "editable": true,
    "slideshow": {
     "slide_type": ""
    },
    "tags": []
   },
   "outputs": [],
   "source": [
    "print(f\"                  min           max           std          mean           median\")\n",
    "for x in ['TPSA', 'lnTPSA', 'log10TPSA']:\n",
    "    print(f\"{x:12s} {df_train[x].min():13.7f} {df_train[x].max():13.7f} {df_train[x].std():13.7f} {df_train[x].mean():13.7f} {df_train[x].median():13.7f}\") \n",
    "\n",
    "df_train.TPSA.count()\n",
    "df_train[df_train.TPSA >= THRESHOLD].TPSA.count()/df_train.TPSA.count()\n",
    "df_train[df_train.TPSA < THRESHOLD].TPSA.count()/df_train.TPSA.count()\n"
   ]
  },
  {
   "cell_type": "code",
   "execution_count": null,
   "id": "d5f5bab9-6b23-4078-a398-dccbea38ae78",
   "metadata": {},
   "outputs": [],
   "source": [
    "_tmp = df_train.Metadata_Permiation.value_counts()\n",
    "_tmp[0], _tmp[1]"
   ]
  },
  {
   "cell_type": "code",
   "execution_count": null,
   "id": "d59dcba1-6add-4446-aa27-a30564f42e54",
   "metadata": {
    "editable": true,
    "slideshow": {
     "slide_type": ""
    },
    "tags": []
   },
   "outputs": [],
   "source": [
    "for threshold in [68, 69, 70, 71, 72, 100]:\n",
    "    _tmp = (df_train['Metadata_TPSA'] >= threshold).value_counts()\n",
    "    print(f\"\\n TPSA threshold {threshold} \\n Total samples: {_tmp.sum()}\")\n",
    "    print(f\" Label 0: {_tmp[False]:>7d}      % {_tmp[False]*100/_tmp.sum():2.2f} \")\n",
    "    print(f\" Label 1: {_tmp[True]:>7d}      % {_tmp[True]*100/_tmp.sum():2.2f} \")"
   ]
  },
  {
   "cell_type": "code",
   "execution_count": null,
   "id": "65d1d01b-3946-4668-9c10-5fb3f2b3bd64",
   "metadata": {},
   "outputs": [],
   "source": [
    "# fig, ax = plt.subplots(figsize=(4,4))\n",
    "# fig.canvas.draw()  # Need to draw the figure to define renderer\n",
    "# ax.set_title(\"AngleLabel example\")\n",
    "# # Plot two crossing lines and label each angle between them with the above\n",
    "# center = (4.5, 650)\n",
    "# p1 = [(2.5, 710), (6.0, 605)]\n",
    "# p2 = [(3.0, 275), (5.5, 900)]\n",
    "# line1, = ax.plot(*zip(*p1))\n",
    "# line2, = ax.plot(*zip(*p2))\n",
    "# point, = ax.plot(*center, marker=\"o\")\n"
   ]
  },
  {
   "cell_type": "code",
   "execution_count": null,
   "id": "9f19bd08-45c1-4d41-9d02-a5b59d30c53c",
   "metadata": {
    "ExecuteTime": {
     "end_time": "2023-06-28T19:37:34.108730Z",
     "start_time": "2023-06-28T19:37:34.072553Z"
    },
    "editable": true,
    "slideshow": {
     "slide_type": ""
    },
    "tags": []
   },
   "outputs": [],
   "source": [
    "from matplotlib import colors\n",
    "from matplotlib.ticker import PercentFormatter\n",
    "num_bins = 200\n",
    "# fig, ax = plt.subplots()\n",
    "fig = plt.figure(figsize=(10,5))\n",
    "sigma = df_train.Metadata_TPSA.std()\n",
    "mu = df_train.Metadata_TPSA.mean()\n",
    "med = df_train.Metadata_TPSA.median()\n",
    "# the histogram of the data\n",
    "# We can set the number of bins with the *bins* keyword argument.\n",
    "n, bins, patches = plt.hist(df_train.Metadata_TPSA, num_bins, density=False, range=[0, 500],)\n",
    "# p1 = [(med, 710), (6.0, 605)]\n",
    "# _ = plt.vlines(x=med, ymin=10, ymax=17000, colors='red', linestyles='-', lw=1.75, label='Single Short Line')\n",
    "_ = plt.axvline(x=med, ymin=0, ymax=.97, color='red', linestyle='-', lw=1.75, label='Single Short Line')\n",
    "_ = plt.xlabel('TPSA Value');\n",
    "_ = plt.ylabel('# Compounds');\n",
    "_ = plt.title(fr'TPSA distribution -  $\\mu={mu:.3f}$    $\\sigma={sigma:.3f}$')\n",
    "plt.legend(bbox_to_anchor=(1.04,0.5), loc=\"center left\", borderaxespad=0)\n",
    "# axs[1].hist(dist2, bins=n_bins)\n",
    "plt.show()"
   ]
  },
  {
   "cell_type": "markdown",
   "id": "e58c33d9-a56a-4175-9936-b16efed13334",
   "metadata": {
    "editable": true,
    "jp-MarkdownHeadingCollapsed": true,
    "slideshow": {
     "slide_type": ""
    },
    "tags": []
   },
   "source": [
    "# Stratified CV data splits"
   ]
  },
  {
   "cell_type": "code",
   "execution_count": null,
   "id": "36185b9f-f76e-4556-a736-7a97ac07659f",
   "metadata": {},
   "outputs": [],
   "source": [
    "def visualize_groups(classes, groups, name):\n",
    "    # Visualize dataset groups\n",
    "    fig, ax = plt.subplots(figsize=(10,5))\n",
    "    ax.scatter(\n",
    "        range(len(groups)),\n",
    "        [0.5] * len(groups),\n",
    "        c=groups,\n",
    "        marker=\"_\",\n",
    "        lw=50,\n",
    "        cmap=cmap_data,\n",
    "    )\n",
    "    ax.scatter(\n",
    "        range(len(groups)),\n",
    "        [3.5] * len(groups),\n",
    "        c=classes,\n",
    "        marker=\"_\",\n",
    "        lw=50,\n",
    "        cmap=cmap_data,\n",
    "    )\n",
    "    ax.set(\n",
    "        ylim=[-1, 5],\n",
    "        yticks=[0.5, 3.5],\n",
    "        yticklabels=[\"Data\\ngroup\", \"Data\\nclass\"],\n",
    "        xlabel=\"Sample index\",\n",
    "    )"
   ]
  },
  {
   "cell_type": "code",
   "execution_count": null,
   "id": "f532d16b-50f2-486d-a2b8-22e960f6007a",
   "metadata": {},
   "outputs": [],
   "source": [
    "def plot_cv_indices(cv, X, y, group, ax, n_splits, lw=10):\n",
    "    \"\"\"Create a sample plot for indices of a cross-validation object.\"\"\"\n",
    "    use_groups = \"Group\" in type(cv).__name__\n",
    "    groups = group if use_groups else None\n",
    "    # Generate the training/testing visualizations for each CV split\n",
    "    for ii, (tr, tt) in enumerate(cv.split(X=X, y=y, groups=groups)):\n",
    "        # Fill in indices with the training/test groups\n",
    "        indices = np.array([np.nan] * len(X))\n",
    "        indices[tt] = 1\n",
    "        indices[tr] = 0\n",
    "\n",
    "        # Visualize the results\n",
    "        ax.scatter(\n",
    "            range(len(indices)),\n",
    "            [ii + 0.5] * len(indices),\n",
    "            c=indices,\n",
    "            marker=\"_\",\n",
    "            lw=lw,\n",
    "            cmap=cmap_cv,\n",
    "            vmin=-0.2,\n",
    "            vmax=1.2,\n",
    "        )\n",
    "\n",
    "    # Plot the data classes and groups at the end\n",
    "    ax.scatter(\n",
    "        range(len(X)), [ii + 1.5] * len(X), c=y, marker=\"_\", lw=lw, cmap=cmap_data\n",
    "    )\n",
    "\n",
    "    ax.scatter(\n",
    "        range(len(X)), [ii + 2.5] * len(X), c=group, marker=\"_\", lw=lw, cmap=cmap_data\n",
    "    )\n",
    "\n",
    "    # Formatting\n",
    "    yticklabels = list(range(n_splits)) + [\"class\", \"group\"]\n",
    "    ax.set(\n",
    "        yticks=np.arange(n_splits + 2) + 0.5,\n",
    "        yticklabels=yticklabels,\n",
    "        xlabel=\"Sample index\",\n",
    "        ylabel=\"CV iteration\",\n",
    "        ylim=[n_splits + 2.2, -0.2],\n",
    "        xlim=[0, 100],\n",
    "    )\n",
    "    ax.set_title(\"{}\".format(type(cv).__name__), fontsize=15)\n",
    "    return ax"
   ]
  },
  {
   "cell_type": "code",
   "execution_count": null,
   "id": "d6f3f078-8b33-4acc-b639-6daac6d9d519",
   "metadata": {},
   "outputs": [],
   "source": [
    "import matplotlib.pyplot as plt\n",
    "import numpy as np\n",
    "from matplotlib.patches import Patch\n"
   ]
  },
  {
   "cell_type": "code",
   "execution_count": null,
   "id": "f1165a3b-5756-443f-ad46-bf316c34929e",
   "metadata": {},
   "outputs": [],
   "source": [
    "rng = np.random.RandomState(1338)\n",
    "cmap_data = plt.cm.Paired\n",
    "cmap_cv = plt.cm.coolwarm\n",
    "n_splits = 4\n",
    "\n",
    "# Generate the class/group data\n",
    "# n_points = 100\n",
    "# X = rng.randn(100, 10)\n",
    "\n",
    "# percentiles_classes = [0.1, 0.3, 0.6]\n",
    "# y = np.hstack([[ii] * int(100 * perc) for ii, perc in enumerate(percentiles_classes)])"
   ]
  },
  {
   "cell_type": "code",
   "execution_count": null,
   "id": "94dd8391-cbf3-4468-9aa2-d311c7f83bd2",
   "metadata": {},
   "outputs": [],
   "source": [
    "# Generate uneven groups\n",
    "\n",
    "# group_prior = rng.dirichlet([2] * 10)\n",
    "# group_prior.sum()\n",
    "# group_prior\n",
    "\n",
    "# groups = np.repeat(np.arange(10), rng.multinomial(100, group_prior))\n",
    "# groups.shape\n",
    "# groups"
   ]
  },
  {
   "cell_type": "code",
   "execution_count": null,
   "id": "0be667cf-b73b-49d9-8f93-028feb33dc07",
   "metadata": {},
   "outputs": [],
   "source": [
    "groups = np.repeat(0, train_X.shape[0])\n",
    "groups.shape"
   ]
  },
  {
   "cell_type": "code",
   "execution_count": null,
   "id": "a3cc3e15-7328-43d7-87b0-e662e89f8995",
   "metadata": {},
   "outputs": [],
   "source": [
    "visualize_groups(train_y, groups, \"no groups\")"
   ]
  },
  {
   "cell_type": "code",
   "execution_count": null,
   "id": "f27b44ef-5b62-4008-8e90-fcd97dca2186",
   "metadata": {},
   "outputs": [],
   "source": [
    "n_splits = 5\n",
    "groups = None"
   ]
  },
  {
   "cell_type": "code",
   "execution_count": null,
   "id": "0cc5f1e4-9fbf-4c51-a82a-ee2c870850aa",
   "metadata": {},
   "outputs": [],
   "source": [
    "fig, ax = plt.subplots()\n",
    "cv = KFold(n_splits)\n",
    "plot_cv_indices(cv, train_X, train_y, groups, ax, n_splits)"
   ]
  },
  {
   "cell_type": "markdown",
   "id": "d2e1cd39-be31-4f80-b0b3-a064ddf5b59d",
   "metadata": {
    "jp-MarkdownHeadingCollapsed": true
   },
   "source": [
    "# Input "
   ]
  },
  {
   "cell_type": "markdown",
   "id": "987503fe-4de3-4967-a228-9e5b7a6d30b8",
   "metadata": {},
   "source": [
    "## Read Embedded Features CSV file"
   ]
  },
  {
   "cell_type": "code",
   "execution_count": null,
   "id": "ab7b33d4-10b8-44a2-a97b-3fb5e124812e",
   "metadata": {
    "editable": true,
    "slideshow": {
     "slide_type": ""
    },
    "tags": []
   },
   "outputs": [],
   "source": [
    "BASE_TRAIN_INPUT = os.path.join(OUTPUT_PATH, INPUT_FILE.format(runmode = BASE_runmode ,datatype='train'))\n",
    "BASE_TEST_INPUT  = os.path.join(OUTPUT_PATH, INPUT_FILE.format(runmode = BASE_runmode ,datatype='test'))\n",
    "SNNL_TRAIN_INPUT = os.path.join(OUTPUT_PATH, INPUT_FILE.format(runmode = SNNL_runmode ,datatype='train'))\n",
    "SNNL_TEST_INPUT  = os.path.join(OUTPUT_PATH, INPUT_FILE.format(runmode = SNNL_runmode ,datatype='test'))\n",
    "BASE_TRAIN_INPUT\n",
    "BASE_TEST_INPUT \n",
    "SNNL_TRAIN_INPUT\n",
    "SNNL_TEST_INPUT "
   ]
  },
  {
   "cell_type": "code",
   "execution_count": null,
   "id": "8dff17ab-dd6a-49fe-8733-8f3448537618",
   "metadata": {},
   "outputs": [],
   "source": [
    "df_test = pd.read_csv(SNNL_TEST_INPUT )\n",
    "df_train = pd.read_csv(SNNL_TRAIN_INPUT)\n",
    "\n",
    "# df_train = pd.read_csv(BASE_TRAIN_INPUT)\n",
    "# df_test = pd.read_csv(BASE_TEST_INPUT )\n",
    "# df_train = pd.read_csv(TRAIN_INPUT, nrows = 100 )\n",
    "# df_train = pd.read_csv(TRAIN_INPUT, usecols = ['Metadata_Batch'])"
   ]
  },
  {
   "cell_type": "code",
   "execution_count": null,
   "id": "9e7a273e-36aa-4b1b-8a49-3c911fe62659",
   "metadata": {},
   "outputs": [],
   "source": [
    "df_test.info()\n",
    "df_test.shape\n",
    "df_test.columns\n",
    "df_test.iloc[:5,:13]"
   ]
  },
  {
   "cell_type": "code",
   "execution_count": null,
   "id": "e21aa50d-b501-4532-9c1f-62a2c960f48d",
   "metadata": {},
   "outputs": [],
   "source": [
    "# df_train = pd.read_csv(TRAIN_INPUT, nrows = 100 )\n",
    "# df_train = pd.read_csv(TRAIN_INPUT, usecols = ['Metadata_Batch'])"
   ]
  },
  {
   "cell_type": "code",
   "execution_count": null,
   "id": "8e266886-b249-4370-84ef-242c34c98e72",
   "metadata": {},
   "outputs": [],
   "source": [
    "test_y = df_test.iloc[:,10:11].to_numpy().ravel().astype(np.uint8)\n",
    "test_y.sum()\n",
    "test_y.shape, type(test_y), test_y.dtype\n",
    "test_X = df_test.iloc[:,11:].to_numpy()\n",
    "test_X.shape,type(test_X), test_X.dtype"
   ]
  },
  {
   "cell_type": "code",
   "execution_count": null,
   "id": "b5ccbf57-4fa7-4842-919b-103d14e44c79",
   "metadata": {},
   "outputs": [],
   "source": [
    "df_train.shape\n",
    "df_train.info()\n",
    "df_train.iloc[:5,:16]"
   ]
  },
  {
   "cell_type": "code",
   "execution_count": null,
   "id": "8b7d392e-68eb-4474-ad37-12244f4d23b0",
   "metadata": {},
   "outputs": [],
   "source": [
    "312000+34542"
   ]
  },
  {
   "cell_type": "code",
   "execution_count": null,
   "id": "8710ee4c-badf-4f28-a214-f8354f6c1e5f",
   "metadata": {},
   "outputs": [],
   "source": [
    "train_y = df_train.iloc[:,10:11].to_numpy().ravel().astype(np.uint8)\n",
    "train_y.sum()\n",
    "train_y.shape, type(train_y), train_y.dtype\n",
    "\n",
    "train_X = df_train.iloc[:,11:].to_numpy()\n",
    "train_X.shape,type(train_X) ,train_X.dtype"
   ]
  },
  {
   "cell_type": "markdown",
   "id": "00c738a2-74d5-4702-a93f-36428714aedf",
   "metadata": {},
   "source": [
    "## Standardize inputs"
   ]
  },
  {
   "cell_type": "code",
   "execution_count": null,
   "id": "6ba790ed-fea3-4803-bf33-91b2a0d74fd7",
   "metadata": {},
   "outputs": [],
   "source": [
    "print(f\"Train_X :  Min: {train_X.min():.4f}    Max: {train_X.max():.4f}   Mean: {train_X.mean():.4f}  Std: {train_X.std():.4f}\")\n",
    "print(f\"Test_X  :  Min: {test_X.min():.4f}    Max: {test_X.max():.4f}    Mean: {test_X.mean():.4f}  Std: {test_X.std():.4f}\")"
   ]
  },
  {
   "cell_type": "code",
   "execution_count": null,
   "id": "8ab780bd-8b49-46ce-b18b-abc1e0ff181d",
   "metadata": {},
   "outputs": [],
   "source": [
    "# print(f\"Train_X :  Min: {train_X.min():.4f}    Max: {train_X.max():.4f}   Mean: {train_X.mean():.4f}  Std: {train_X.std():.4f}\")\n",
    "# print(f\"Test_X  :  Min: {test_X.min():.4f}    Max: {test_X.max():.4f}    Mean: {test_X.mean():.4f}  Std: {test_X.std():.4f}\")"
   ]
  },
  {
   "cell_type": "code",
   "execution_count": null,
   "id": "614ed6ad-1c8c-4c10-9bc5-82e6fcc9fa56",
   "metadata": {},
   "outputs": [],
   "source": [
    "scaler = StandardScaler(copy = True)\n",
    "train_X = scaler.fit_transform(train_X)\n",
    "test_X = scaler.transform(test_X)"
   ]
  },
  {
   "cell_type": "code",
   "execution_count": null,
   "id": "34a118cd-aed2-4e64-a4da-8de20a99be3a",
   "metadata": {},
   "outputs": [],
   "source": [
    "print(\"After Standard Scaler Transformation\")\n",
    "print(f\"Train_X :  Min: {train_X.min():.4f}    Max: {train_X.max():.4f}   Mean: {train_X.mean():.4f}  Std: {train_X.std():.4f}\")\n",
    "print(f\"Test_X  :  Min: {test_X.min():.4f}    Max: {test_X.max():.4f}    Mean: {test_X.mean():.4f}  Std: {test_X.std():.4f}\")\n"
   ]
  },
  {
   "cell_type": "code",
   "execution_count": null,
   "id": "c685b4df-8975-4935-8bd2-edba44873a90",
   "metadata": {},
   "outputs": [],
   "source": [
    "label_counts([(\"Training\", train_y), (\"Test\", test_y)])"
   ]
  },
  {
   "cell_type": "code",
   "execution_count": null,
   "id": "a0b7ad73-1936-428c-bd8e-341f594d816b",
   "metadata": {},
   "outputs": [],
   "source": []
  },
  {
   "cell_type": "markdown",
   "id": "aa293a17-1064-44e2-8d7c-42a5aef53159",
   "metadata": {
    "jp-MarkdownHeadingCollapsed": true
   },
   "source": [
    "# TQDM Examples"
   ]
  },
  {
   "cell_type": "code",
   "execution_count": null,
   "id": "7d4955de-e618-45a3-83be-028e913b55d1",
   "metadata": {},
   "outputs": [],
   "source": [
    "#-----------------------------------------\n",
    "# TRANGE example\n",
    "#-----------------------------------------   \n",
    "# with trange(+1, ns.trn_iters_warmup+1 , initial = 0 , total = ns.trn_iters_warmup, position=0, file=sys.stdout,\n",
    "#             leave= False, disable = disable_tqdm, desc=f\" Warmup Epoch {ns.current_epoch}/{ns.stop_epoch_warmup}\") as t_warmup :\n",
    "#     for _ in t_warmup:\n",
    "#         ns.current_iter += 1            \n",
    "\n",
    "#         batch = next(dldrs.warmup_trn_loader)            \n",
    "#         environ.set_inputs(batch, input_size)\n",
    "\n",
    "#         environ.optimize(is_policy=False, \n",
    "#                          num_train_layers=ns.num_train_layers,\n",
    "#                          flag='update_weights', \n",
    "#                          verbose = verbose)\n",
    "    \n",
    "#         t_warmup.set_postfix({'curr_iter':ns.current_iter, \n",
    "#                             'Loss': f\"{environ.losses['total']['total'].item():.4f}\"})\n",
    "\n",
    "#-----------------------------------------\n",
    "# TQDM example\n",
    "#-----------------------------------------   \n",
    "# current_epoch = 1\n",
    "# total_epochs = 20\n",
    "# current_iter = 0 \n",
    "# train_minibatches = len(data_loader['train']) // minibatch_size\n",
    "# val_minibatches = len(data_loader['val']) // minibatch_size\n",
    "\n",
    "# # with batch_count, (batch_features, batch_labels, _, _, _, _) in tqdm(enumerate(data_loader['train']), initial=0, total = 400, position=0, file=sys.stdout,\n",
    "#             # leave= False, desc=f\" Epoch {current_epoch}/{total_epochs}\") as t_warmup :\n",
    "# t_warmup =  tqdm(enumerate(data_loader['train']), initial=0, total = train_minibatches, position=0, file=sys.stdout,\n",
    "#             leave= False, desc=f\" Epoch {current_epoch}/{total_epochs}\") \n",
    "# for batch_count, (batch_features, batch_labels, _, _, _, _) in t_warmup:\n",
    "#     # batch_count, (batch_features, batch_labels, _, _, _, _) = pp\n",
    "#     loss = random.random()\n",
    "#     t_warmup.set_postfix({'curr_iter':batch_count, 'Loss': f\"{loss:.4f}\"})"
   ]
  }
 ],
 "metadata": {
  "kernelspec": {
   "display_name": "Python [conda env:cp311]",
   "language": "python",
   "name": "conda-env-cp311-py"
  },
  "language_info": {
   "codemirror_mode": {
    "name": "ipython",
    "version": 3
   },
   "file_extension": ".py",
   "mimetype": "text/x-python",
   "name": "python",
   "nbconvert_exporter": "python",
   "pygments_lexer": "ipython3",
   "version": "3.11.4"
  }
 },
 "nbformat": 4,
 "nbformat_minor": 5
}
