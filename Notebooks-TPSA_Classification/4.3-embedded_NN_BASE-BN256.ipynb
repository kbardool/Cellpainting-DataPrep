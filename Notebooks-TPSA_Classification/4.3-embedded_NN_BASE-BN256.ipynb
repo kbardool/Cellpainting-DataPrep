{
 "cells": [
  {
   "cell_type": "markdown",
   "id": "418c282c-2b25-4f32-96cf-883b40b84c36",
   "metadata": {
    "editable": true,
    "slideshow": {
     "slide_type": ""
    },
    "tags": []
   },
   "source": [
    "  # Apply encoder to morphological profiles to get latent space representations :"
   ]
  },
  {
   "cell_type": "markdown",
   "id": "14da93a6-653f-4a55-9b3a-e72ab79a1121",
   "metadata": {},
   "source": [
    "# Setup"
   ]
  },
  {
   "cell_type": "code",
   "execution_count": 3,
   "id": "a104a277-3ad3-438a-b706-d4499f709f89",
   "metadata": {
    "ExecuteTime": {
     "end_time": "2023-04-12T10:29:16.111588Z",
     "start_time": "2023-04-12T10:29:15.764305Z"
    },
    "editable": true,
    "execution": {
     "iopub.execute_input": "2024-10-02T18:20:16.984619Z",
     "iopub.status.busy": "2024-10-02T18:20:16.984085Z",
     "iopub.status.idle": "2024-10-02T18:20:17.012630Z",
     "shell.execute_reply": "2024-10-02T18:20:17.011854Z",
     "shell.execute_reply.started": "2024-10-02T18:20:16.984573Z"
    },
    "slideshow": {
     "slide_type": ""
    },
    "tags": []
   },
   "outputs": [
    {
     "name": "stdout",
     "output_type": "stream",
     "text": [
      "The autoreload extension is already loaded. To reload it, use:\n",
      "  %reload_ext autoreload\n"
     ]
    },
    {
     "data": {
      "text/html": [
       "<style>.container { width:98% !important; }</style>"
      ],
      "text/plain": [
       "<IPython.core.display.HTML object>"
      ]
     },
     "metadata": {},
     "output_type": "display_data"
    }
   ],
   "source": [
    "%load_ext autoreload  \n",
    "%autoreload 2\n",
    "from IPython.display import display, HTML, Image\n",
    "from IPython.core.interactiveshell import InteractiveShell\n",
    "display(HTML(\"<style>.container { width:98% !important; }</style>\"))\n",
    "InteractiveShell.ast_node_interactivity = \"all\""
   ]
  },
  {
   "cell_type": "code",
   "execution_count": 4,
   "id": "7478f60a-2ea2-4407-bd91-f068349f222b",
   "metadata": {
    "ExecuteTime": {
     "end_time": "2023-04-12T10:29:16.111588Z",
     "start_time": "2023-04-12T10:29:15.764305Z"
    },
    "editable": true,
    "execution": {
     "iopub.execute_input": "2024-10-02T18:20:29.909660Z",
     "iopub.status.busy": "2024-10-02T18:20:29.909171Z",
     "iopub.status.idle": "2024-10-02T18:20:29.945328Z",
     "shell.execute_reply": "2024-10-02T18:20:29.944699Z",
     "shell.execute_reply.started": "2024-10-02T18:20:29.909608Z"
    },
    "slideshow": {
     "slide_type": ""
    },
    "tags": []
   },
   "outputs": [
    {
     "name": "stdout",
     "output_type": "stream",
     "text": [
      "['../..', '../pt-snnl', './src', '/home/kevin/WSL-shared/cellpainting/cj-datasets', '/home/kevin/miniforge3/envs/cp311/lib/python311.zip', '/home/kevin/miniforge3/envs/cp311/lib/python3.11', '/home/kevin/miniforge3/envs/cp311/lib/python3.11/lib-dynload', '', '/home/kevin/miniforge3/envs/cp311/lib/python3.11/site-packages', '/home/kevin/miniforge3/envs/cp311/lib/python3.11/site-packages/huggingface_hub-0.20.3-py3.8.egg']\n"
     ]
    },
    {
     "data": {
      "text/plain": [
       "<torch._C.Generator at 0x7f90e4923f10>"
      ]
     },
     "execution_count": 4,
     "metadata": {},
     "output_type": "execute_result"
    },
    {
     "data": {
      "text/plain": [
       "4"
      ]
     },
     "execution_count": 4,
     "metadata": {},
     "output_type": "execute_result"
    }
   ],
   "source": [
    "import os\n",
    "import sys\n",
    "import random\n",
    "from typing import List, Tuple\n",
    "from types import SimpleNamespace\n",
    "from functools import partial\n",
    "import pprint\n",
    "import logging\n",
    "from datetime import datetime\n",
    "for p in ['./src','../pt-snnl','../..']:\n",
    "    if p not in sys.path:\n",
    "        print(f\"insert {p}\")\n",
    "        sys.path.insert(0, p)\n",
    "print(sys.path)\n",
    "\n",
    "import tqdm\n",
    "import numpy as np\n",
    "import matplotlib.pyplot as plt\n",
    "import seaborn as sb\n",
    "import pandas as pd\n",
    "\n",
    "import scipy\n",
    "import scipy.stats as sps\n",
    "import sklearn.metrics as skm\n",
    "from scipy.spatial.distance import pdist, squareform, euclidean\n",
    "\n",
    "import torch\n",
    "import torch.nn as nn\n",
    "import torch.nn.functional as F\n",
    "import matplotlib.pyplot as plt  # for making figures\n",
    "from torchinfo import summary\n",
    "\n",
    "torch.set_printoptions(precision=None, threshold=None, edgeitems=None, linewidth=180, profile=None, sci_mode=None)\n",
    "torch.manual_seed(42);   # seed rng for reproducibility\n",
    "pp = pprint.PrettyPrinter(indent=4)\n",
    "pd.options.display.width = 132\n",
    "np.set_printoptions(edgeitems=3, infstr='inf', linewidth=150, nanstr='nan')\n",
    "\n",
    "os.environ[\"WANDB_NOTEBOOK_NAME\"] = \"AE-MAIN-SNNL.ipynb\"\n",
    "# os.environ[\"CUDA_LAUNCH_BLOCKING\"] = \"1\"\n",
    "os.environ[\"CUDA_VISIBLE_DEVICES\"] = \"0,1,2\"\n",
    "\n",
    "torch.set_num_threads(4)  ## <--- limit to ~ 2 CPUs\n",
    "torch.get_num_threads()"
   ]
  },
  {
   "cell_type": "code",
   "execution_count": 5,
   "id": "b939a031-286c-430c-890d-946ea497d8e3",
   "metadata": {
    "editable": true,
    "execution": {
     "iopub.execute_input": "2024-10-02T18:20:31.212853Z",
     "iopub.status.busy": "2024-10-02T18:20:31.212418Z",
     "iopub.status.idle": "2024-10-02T18:20:33.249137Z",
     "shell.execute_reply": "2024-10-02T18:20:33.248488Z",
     "shell.execute_reply.started": "2024-10-02T18:20:31.212817Z"
    },
    "slideshow": {
     "slide_type": ""
    },
    "tags": []
   },
   "outputs": [
    {
     "name": "stderr",
     "output_type": "stream",
     "text": [
      "/home/kevin/miniforge3/envs/cp311/lib/python3.11/site-packages/dask/dataframe/_pyarrow_compat.py:17: FutureWarning: Minimal version of pyarrow will soon be increased to 14.0.1. You are using 11.0.0. Please consider upgrading.\n",
      "  warnings.warn(\n"
     ]
    }
   ],
   "source": [
    "# from KevinsRoutines.utils.utils_general import list_namespace, save_to_pickle, load_from_pickle, get_device\n",
    "import KevinsRoutines.utils as myutils\n",
    "# import snnl.utils as utils\n",
    "# from utils.utils_ptsnnl import display_cellpainting_batch, get_device\n",
    "from utils.utils_cellpainting import label_counts, balance_datasets,save_checkpoint, load_checkpoint\n",
    "from utils.dataloader import custom_collate_fn, dynamic_collate_fn, CellpaintingDataset, InfiniteDataLoader\n",
    "from utils.utils_notebooks import plot_cls_metrics, compute_classification_metrics, run_model_on_test_data,\\\n",
    "                                train, validation, accuracy_fn, fit, build_model, define_datasets"
   ]
  },
  {
   "cell_type": "code",
   "execution_count": 5,
   "id": "c12352c5-443c-414b-bb2b-6ea5ba801515",
   "metadata": {
    "editable": true,
    "execution": {
     "iopub.execute_input": "2024-10-02T18:01:51.328941Z",
     "iopub.status.busy": "2024-10-02T18:01:51.328516Z",
     "iopub.status.idle": "2024-10-02T18:01:51.372641Z",
     "shell.execute_reply": "2024-10-02T18:01:51.371778Z",
     "shell.execute_reply.started": "2024-10-02T18:01:51.328897Z"
    },
    "scrolled": true,
    "slideshow": {
     "slide_type": ""
    },
    "tags": []
   },
   "outputs": [
    {
     "name": "stderr",
     "output_type": "stream",
     "text": [
      "2024-10-02 20:01:51,365 - __main__ - INFO: -  Excution started : 2024_10_02_20:01:51 \n",
      "2024-10-02 20:01:51,366 - __main__ - INFO: -  Pytorch version  : 2.2.0\n",
      "2024-10-02 20:01:51,367 - __main__ - INFO: -  Scipy version    : 1.11.4  \t\t Numpy version : 1.26.2\n",
      "2024-10-02 20:01:51,368 - __main__ - INFO: -  Pandas version   : 2.2.0  \n"
     ]
    }
   ],
   "source": [
    "timestamp = datetime.now().strftime('%Y_%m_%d_%H:%M:%S')\n",
    "logger = logging.getLogger(__name__)\n",
    "logLevel = os.environ.get('LOG_LEVEL', 'INFO').upper()\n",
    "FORMAT = '%(asctime)s - %(name)s - %(levelname)s: - %(message)s'\n",
    "logging.basicConfig(level=\"INFO\", format= FORMAT)\n",
    "logger.info(f\" Excution started : {timestamp} \")\n",
    "logger.info(f\" Pytorch version  : {torch.__version__}\")\n",
    "logger.info(f\" Scipy version    : {scipy.__version__}  \\t\\t Numpy version : {np.__version__}\")\n",
    "logger.info(f\" Pandas version   : {pd.__version__}  \")"
   ]
  },
  {
   "cell_type": "code",
   "execution_count": 16,
   "id": "78dd68d4-cabf-4b8b-ba9f-82fbda15fc4c",
   "metadata": {
    "ExecuteTime": {
     "end_time": "2023-07-31T18:45:10.550334Z",
     "start_time": "2023-07-31T18:45:07.868769Z"
    },
    "execution": {
     "iopub.execute_input": "2024-10-02T18:22:46.548341Z",
     "iopub.status.busy": "2024-10-02T18:22:46.547802Z",
     "iopub.status.idle": "2024-10-02T18:22:46.586445Z",
     "shell.execute_reply": "2024-10-02T18:22:46.585829Z",
     "shell.execute_reply.started": "2024-10-02T18:22:46.548300Z"
    }
   },
   "outputs": [],
   "source": [
    "# Set visible GPU device \n",
    "# ----------------------------------------------\n",
    "# os.environ[\"CUDA_VISIBLE_DEVICES\"] = '0'\n",
    "\n",
    "# if torch.cuda.is_available():\n",
    "#     device = torch.device('cuda:1')\n",
    "# else:\n",
    "#     device = torch.device('cpu')\n",
    "# print(device)\n",
    "try:\n",
    "    del model\n",
    "except Exception as e:\n",
    "    pass"
   ]
  },
  {
   "cell_type": "code",
   "execution_count": 17,
   "id": "c48065ef-8765-4b2f-a448-3d0d0dbf3609",
   "metadata": {
    "execution": {
     "iopub.execute_input": "2024-10-02T18:23:01.732753Z",
     "iopub.status.busy": "2024-10-02T18:23:01.732265Z",
     "iopub.status.idle": "2024-10-02T18:23:01.776392Z",
     "shell.execute_reply": "2024-10-02T18:23:01.775300Z",
     "shell.execute_reply.started": "2024-10-02T18:23:01.732711Z"
    }
   },
   "outputs": [
    {
     "name": "stdout",
     "output_type": "stream",
     "text": [
      " Switched to: \"cuda:1\"   Device Name: Quadro GV100                  \n"
     ]
    },
    {
     "data": {
      "text/plain": [
       "'cuda:1'"
      ]
     },
     "execution_count": 17,
     "metadata": {},
     "output_type": "execute_result"
    },
    {
     "name": "stdout",
     "output_type": "stream",
     "text": [
      "Dev Id   Device Name                    Total Memory                     InUse                            Free Memory \n",
      "   0     Quadro GV100                   34,069,872,640 B/ (31.73 GB)  \t 325,058,560 B / (0.30 GB)  \t 33,744,814,080 B / (31.43 GB)  \n",
      "   1     Quadro GV100                   34,069,872,640 B/ (31.73 GB)  \t 771,751,936 B / (0.72 GB)  \t 33,298,120,704 B / (31.01 GB)   *** CURRENT DEVICE *** \n",
      "   2     NVIDIA TITAN Xp                12,774,539,264 B/ (11.90 GB)  \t 390,201,344 B / (0.36 GB)  \t 12,384,337,920 B / (11.53 GB)  \n",
      "\n",
      " Current CUDA Device is:  \"cuda:1\"  Device Name: Quadro GV100\n",
      "cuda:1\n"
     ]
    }
   ],
   "source": [
    "myutils.set_device(1)\n",
    "device  = myutils.get_device(verbose = True)\n",
    "print(device)"
   ]
  },
  {
   "cell_type": "markdown",
   "id": "cdaa5260-01ce-4a98-b597-62c43c388f43",
   "metadata": {},
   "source": [
    "## Helper routines"
   ]
  },
  {
   "cell_type": "code",
   "execution_count": null,
   "id": "8e2e4e5e-7240-4dce-a643-821e51acf36a",
   "metadata": {},
   "outputs": [],
   "source": []
  },
  {
   "cell_type": "markdown",
   "id": "2953c069-cf3f-46b9-94e5-741525cf4232",
   "metadata": {},
   "source": [
    "# Args "
   ]
  },
  {
   "cell_type": "code",
   "execution_count": 19,
   "id": "aa4219af-8769-45f3-8b9f-23cff8e5eb6c",
   "metadata": {
    "editable": true,
    "execution": {
     "iopub.execute_input": "2024-10-02T18:24:04.954688Z",
     "iopub.status.busy": "2024-10-02T18:24:04.954162Z",
     "iopub.status.idle": "2024-10-02T18:24:04.996834Z",
     "shell.execute_reply": "2024-10-02T18:24:04.996044Z",
     "shell.execute_reply.started": "2024-10-02T18:24:04.954646Z"
    },
    "slideshow": {
     "slide_type": ""
    },
    "tags": []
   },
   "outputs": [
    {
     "name": "stdout",
     "output_type": "stream",
     "text": [
      "11\n",
      "161\n"
     ]
    }
   ],
   "source": [
    "LATENT_DIM    = 150\n",
    "COMPOUNDS_PER_BATCH = 600\n",
    "\n",
    "MODEL_TYPE = 'batch_norm'\n",
    "# MODEL_TYPE = 'single_layer'\n",
    "# MODEL_TYPE = 'relu'\n",
    "n_input    = LATENT_DIM  # the embedding dimensionality \n",
    "\n",
    "n_hidden_1 = 256  # the number of neurons in the hidden layer of the MLP\n",
    "n_hidden_2 = 256  # the number of neurons in the hidden layer of the MLP\n",
    "n_hidden_3 = 128\n",
    "\n",
    "METADATA_COLS = ['Metadata_Source', 'Metadata_Batch', 'Metadata_Plate', 'Metadata_Well', 'Metadata_JCP2022', 'Metadata_Hash', 'Metadata_Bin', 'Metadata_TPSA', 'Metadata_lnTPSA', 'Metadata_log10TPSA', 'Metadata_Permiation']\n",
    "# METADATA_COLS += [f'Feature_{x:03d}' for x in range(LATENT_DIM)]\n",
    "input_cols = LATENT_DIM + len(METADATA_COLS)\n",
    "print(len(METADATA_COLS))\n",
    "print(input_cols)\n",
    "\n",
    "\n",
    "INPUT_PATH = f\"/home/kevin/WSL-shared/cellpainting/cj-datasets/output_11102023/3_sample_embeddings/\"\n",
    "CKPT_PATH = \"./saved_models/embedding_models\""
   ]
  },
  {
   "cell_type": "code",
   "execution_count": 20,
   "id": "eda1f6ea-e344-4b74-966e-19afbe6f15e2",
   "metadata": {
    "execution": {
     "iopub.execute_input": "2024-10-02T18:24:41.120052Z",
     "iopub.status.busy": "2024-10-02T18:24:41.119569Z",
     "iopub.status.idle": "2024-10-02T18:24:41.156415Z",
     "shell.execute_reply": "2024-10-02T18:24:41.155655Z",
     "shell.execute_reply.started": "2024-10-02T18:24:41.120013Z"
    }
   },
   "outputs": [
    {
     "name": "stdout",
     "output_type": "stream",
     "text": [
      "20241002_1945\n"
     ]
    }
   ],
   "source": [
    "# RUN_DATETIME = datetime.now().strftime('%Y%m%d_%H%M')\n",
    "\n",
    "# RUN_DATETIME = '20240926_1900'   ## Baseline CPB 600, Latent 150  - Single layer 256\n",
    "# RUN_DATETIME = '20240927_2300'   ## Baseline CPB 600, Latent 150  - Single layer 512\n",
    "# RUN_DATETIME = '20240929_2000'   ## Baseline CPB 600, Latent 150  - Batch Norm 256/256/128\n",
    "# RUN_DATETIME = '20240929_1900'   ## Baseline CPB 600, Latent 150  - Batch Norm 512/512/128\n",
    "\n",
    "# RUN_DATETIME = '20240930_2100'   ## Baseline CPB 600, Latent 250  - Balanced TPSA labels - Batch Norm 256/256/128\n",
    "# RUN_DATETIME = '20241001_2100'   ## Baseline CPB 600, Latent 250  - Balanced TPSA labels - Batch Norm 512/512/256\n",
    "\n",
    "# RUN_DATETIME = '20241002_1915'   ## Baseline CPB 600, Latent 150  - Single layer 256\n",
    "# RUN_DATETIME = '20241002_1930'   ## Baseline CPB 600, Latent 150  - Single layer 512\n",
    "# RUN_DATETIME = '20241002_1945'   ## Baseline CPB 600, Latent 150  - Batch Norm 256/256/128\n",
    "# RUN_DATETIME = '20241002_2000'   ## Baseline CPB 600, Latent 150  - Batch Norm 512/512/128\n",
    "\n",
    "RUN_DATETIME = '20241002_1945'   ## Baseline CPB 600, Latent 150, Batchn Norm 256/256/128\n",
    "print(RUN_DATETIME)"
   ]
  },
  {
   "cell_type": "code",
   "execution_count": 21,
   "id": "d9f50920-9384-4d93-8ea4-40379f898aa8",
   "metadata": {
    "editable": true,
    "execution": {
     "iopub.execute_input": "2024-10-02T18:24:45.949402Z",
     "iopub.status.busy": "2024-10-02T18:24:45.948912Z",
     "iopub.status.idle": "2024-10-02T18:24:45.989331Z",
     "shell.execute_reply": "2024-10-02T18:24:45.988592Z",
     "shell.execute_reply.started": "2024-10-02T18:24:45.949362Z"
    },
    "slideshow": {
     "slide_type": ""
    },
    "tags": []
   },
   "outputs": [],
   "source": [
    "# SNNL AUTOENCODERS \n",
    "# AE_RUNMODE = \"snnl\"\n",
    "# AE_DATETIME = \"20240718_1956\"\n",
    "# AE_DATETIME = \"20240906_2201\"     # Autoencoder training - SNNL, CPB = 600, Latent 150, WD = 0.001, SNN Factor 3\n",
    "# AE_DATETIME = \"20240917_2004\"     # Autoencoder training - SNNL, CPB = 600, Latent 250, WD = 0.001, SNN Factor 3\n",
    "\n",
    "## BASELINE AUTOENCODERS \n",
    "AE_RUNMODE = 'base'\n",
    "AE_DATETIME = \"20240923_1943\"     # Autoencoder training - Baseline, CPB = 600, Latent 150, WD = 0.001 (SNN Factor 0)\n",
    "# AE_DATETIME = \"20240917_2017\"     # Autoencoder training - Baseline, CPB = 600, Latent 250, WD = 0.001 (SNN Factor 0)\n",
    "\n",
    "AE_CKPTTYPE = \"BEST\"\n",
    "# AE_CKPTTYPE = \"LAST\""
   ]
  },
  {
   "cell_type": "code",
   "execution_count": 22,
   "id": "d6a64a90-897f-4148-9618-d6f02fc40aaa",
   "metadata": {
    "execution": {
     "iopub.execute_input": "2024-10-02T18:24:47.314027Z",
     "iopub.status.busy": "2024-10-02T18:24:47.313527Z",
     "iopub.status.idle": "2024-10-02T18:24:47.351949Z",
     "shell.execute_reply": "2024-10-02T18:24:47.351340Z",
     "shell.execute_reply.started": "2024-10-02T18:24:47.313986Z"
    }
   },
   "outputs": [
    {
     "name": "stdout",
     "output_type": "stream",
     "text": [
      "NN_base_embd600_150Ltnt_512_20240923_1943_BEST_20241002_1945_ep_{ep}\n"
     ]
    }
   ],
   "source": [
    "CKPT_FILE = f\"NN_{AE_RUNMODE.lower()}_embd600_{LATENT_DIM}Ltnt_512_{AE_DATETIME}_{AE_CKPTTYPE}_{RUN_DATETIME}_ep_{{ep}}\"\n",
    "print(CKPT_FILE)"
   ]
  },
  {
   "cell_type": "markdown",
   "id": "a8a1b152-c298-465b-9313-e1cc880f6149",
   "metadata": {},
   "source": [
    "## Input Dataloader"
   ]
  },
  {
   "cell_type": "markdown",
   "id": "56f4808f-4200-4be4-9c9f-a2ec549b3b0c",
   "metadata": {},
   "source": [
    " ### Split the training portion of the dataset into train, val and test"
   ]
  },
  {
   "cell_type": "code",
   "execution_count": 23,
   "id": "10caf953-60e3-4c04-b096-4ae6240b6a27",
   "metadata": {
    "execution": {
     "iopub.execute_input": "2024-10-02T18:24:49.862418Z",
     "iopub.status.busy": "2024-10-02T18:24:49.861942Z",
     "iopub.status.idle": "2024-10-02T18:24:49.899438Z",
     "shell.execute_reply": "2024-10-02T18:24:49.898691Z",
     "shell.execute_reply.started": "2024-10-02T18:24:49.862377Z"
    }
   },
   "outputs": [],
   "source": [
    "## total rows = 346,542\n",
    "## Trn file sz: 312,000 \n",
    "## Train      : 277,200    (312_000 - (21,600 + 12,600 + 600) = 277,200\n",
    "## Validation :  21,600\n",
    "## Test       :  12,600\n",
    "## Leftover   :     600\n",
    "cellpainting_args = {'compounds_per_batch': COMPOUNDS_PER_BATCH,\n",
    "                     'train_start'        : 0,\n",
    "                     'train_end'          : 277_200,\n",
    "                     'val_start'          : 0,\n",
    "                     'val_end'            : 21_600,\n",
    "                     'test_start'         : 0,\n",
    "                     'test_end'           : 12_600,\n",
    "                     'tpsa_threshold'     : 100\n",
    "                    }"
   ]
  },
  {
   "cell_type": "code",
   "execution_count": 24,
   "id": "7ef5adfe-2daa-4f35-a263-66bf0c97efa6",
   "metadata": {
    "execution": {
     "iopub.execute_input": "2024-10-02T18:24:51.115330Z",
     "iopub.status.busy": "2024-10-02T18:24:51.114806Z",
     "iopub.status.idle": "2024-10-02T18:24:51.154443Z",
     "shell.execute_reply": "2024-10-02T18:24:51.153754Z",
     "shell.execute_reply.started": "2024-10-02T18:24:51.115289Z"
    }
   },
   "outputs": [
    {
     "name": "stdout",
     "output_type": "stream",
     "text": [
      " TRAIN_INPUT:  /home/kevin/WSL-shared/cellpainting/cj-datasets/output_11102023/3_sample_embeddings/3smpl_prfl_embedding_161_HashOrder_base_20240923_1943_BEST_train.csv\n",
      " TEST_INPUT :  /home/kevin/WSL-shared/cellpainting/cj-datasets/output_11102023/3_sample_embeddings/3smpl_prfl_embedding_161_HashOrder_base_20240923_1943_BEST_train_sub_test.csv\n",
      " ALL_INPUT  :  /home/kevin/WSL-shared/cellpainting/cj-datasets/output_11102023/3_sample_embeddings/3smpl_prfl_embedding_161_HashOrder_base_20240923_1943_BEST_train_sub_val.csv\n",
      " load {}\n",
      " Dataset size: 277200   rows per batch: 1800  tpsa_threshold: 100\n",
      " Dataset size: 21600   rows per batch: 1800  tpsa_threshold: 100\n",
      " Dataset size: 12600   rows per batch: 1800  tpsa_threshold: 100\n"
     ]
    }
   ],
   "source": [
    "data_loader = define_datasets(cellpainting_args, AE_RUNMODE, AE_DATETIME, input_cols, AE_CKPTTYPE, INPUT_PATH)"
   ]
  },
  {
   "cell_type": "code",
   "execution_count": 25,
   "id": "417e03f3-163a-42d4-8055-7e39f9c3f8af",
   "metadata": {
    "editable": true,
    "execution": {
     "iopub.execute_input": "2024-10-02T18:24:52.918888Z",
     "iopub.status.busy": "2024-10-02T18:24:52.918463Z",
     "iopub.status.idle": "2024-10-02T18:24:52.951470Z",
     "shell.execute_reply": "2024-10-02T18:24:52.950712Z",
     "shell.execute_reply.started": "2024-10-02T18:24:52.918851Z"
    },
    "slideshow": {
     "slide_type": ""
    },
    "tags": []
   },
   "outputs": [],
   "source": [
    "# TRAIN_INPUT_FILE = f\"3smpl_prfl_embedding_{input_cols}_HashOrder_{AE_RUNMODE}_{AE_DATETIME}_{AE_CKPTTYPE}_train.csv\"\n",
    "# TEST_INPUT_FILE  = f\"3smpl_prfl_embedding_{input_cols}_HashOrder_{AE_RUNMODE}_{AE_DATETIME}_{AE_CKPTTYPE}_train_sub_test.csv\"\n",
    "# VAL_INPUT_FILE   = f\"3smpl_prfl_embedding_{input_cols}_HashOrder_{AE_RUNMODE}_{AE_DATETIME}_{AE_CKPTTYPE}_train_sub_val.csv\"\n",
    "# # ALL_INPUT_FILE   = f\"3smpl_prfl_embedding_{num_cols}_HashOrder_{AE_RUNMODE}_{AE_DATETIME}_{AE_CKPTTYPE}_sub_val.csv\"\n",
    "\n",
    "# print(TRAIN_INPUT_FILE)\n",
    "# print(TEST_INPUT_FILE)\n",
    "# print(VAL_INPUT_FILE)\n",
    "\n",
    "# TRAIN_INPUT = os.path.join(INPUT_PATH, TRAIN_INPUT_FILE)\n",
    "# TEST_INPUT  = os.path.join(INPUT_PATH, TEST_INPUT_FILE)\n",
    "# VAL_INPUT   = os.path.join(INPUT_PATH, VAL_INPUT_FILE)\n",
    "\n",
    "# print(f\" TRAIN_INPUT:  {TRAIN_INPUT}\")\n",
    "# print(f\" TEST_INPUT :  {TEST_INPUT }\")\n",
    "# print(f\" ALL_INPUT  :  {VAL_INPUT }\")"
   ]
  },
  {
   "cell_type": "code",
   "execution_count": 26,
   "id": "2752eccf-171a-4851-ae70-22771fffa4d3",
   "metadata": {
    "execution": {
     "iopub.execute_input": "2024-10-02T18:24:53.526960Z",
     "iopub.status.busy": "2024-10-02T18:24:53.526528Z",
     "iopub.status.idle": "2024-10-02T18:24:53.559304Z",
     "shell.execute_reply": "2024-10-02T18:24:53.558399Z",
     "shell.execute_reply.started": "2024-10-02T18:24:53.526938Z"
    }
   },
   "outputs": [],
   "source": [
    "## total rows = 346,542\n",
    "## Trn file sz: 312,000 \n",
    "## Train      : 277,200    (312_000 - (21,600 + 12,600 + 600) = 277,200\n",
    "## Validation :  21,600\n",
    "## Test       :  12,600\n",
    "## Leftover   :     600\n",
    "# cellpainting_args = {'sample_size': 3,\n",
    "#                      'batch_size': 1,\n",
    "#                      'compounds_per_batch': 600,\n",
    "#                      'training_path'  : TRAIN_INPUT,\n",
    "#                      'validation_path': TRAIN_INPUT,\n",
    "#                      'test_path'      : TRAIN_INPUT,\n",
    "#                      'train_start'    : 0,\n",
    "#                      'train_end'      : 277_200,  # 277,200 samples\n",
    "#                      'val_start'      : 277_200,  # \n",
    "#                      'val_end'        : 298_800,  # 21_600 samples\n",
    "#                      'test_start'     : 298_800,  # \n",
    "#                      'test_end'       : 311_400,  # 12_600 samples\n",
    "#                     }\n",
    "\n",
    "# cellpainting_args = {'compounds_per_batch': COMPOUNDS_PER_BATCH,\n",
    "#                      'training_path'      : TRAIN_INPUT,\n",
    "#                      'validation_path'    :  VAL_INPUT,\n",
    "#                      'test_path'          : TEST_INPUT,\n",
    "#                      'train_start'        : 0,\n",
    "#                      'train_end'          : 277_200,\n",
    "#                      'val_start'          : 0,\n",
    "#                      'val_end'            : 21_600,\n",
    "#                      'test_start'         : 0,\n",
    "#                      'test_end'           : 12_600,\n",
    "#                      'tpsa_threshold'     : 100\n",
    "#                     }"
   ]
  },
  {
   "cell_type": "code",
   "execution_count": 27,
   "id": "ac80b685-550e-43a7-b48d-af4518aa718a",
   "metadata": {
    "execution": {
     "iopub.execute_input": "2024-10-02T18:24:54.108672Z",
     "iopub.status.busy": "2024-10-02T18:24:54.108300Z",
     "iopub.status.idle": "2024-10-02T18:24:54.142998Z",
     "shell.execute_reply": "2024-10-02T18:24:54.142312Z",
     "shell.execute_reply.started": "2024-10-02T18:24:54.108632Z"
    }
   },
   "outputs": [],
   "source": [
    "# cellpainting_args"
   ]
  },
  {
   "cell_type": "code",
   "execution_count": 28,
   "id": "3dda57be-1cd6-4598-b05e-a1c8b68176df",
   "metadata": {
    "execution": {
     "iopub.execute_input": "2024-10-02T18:24:54.614973Z",
     "iopub.status.busy": "2024-10-02T18:24:54.614525Z",
     "iopub.status.idle": "2024-10-02T18:24:54.651462Z",
     "shell.execute_reply": "2024-10-02T18:24:54.650661Z",
     "shell.execute_reply.started": "2024-10-02T18:24:54.614944Z"
    },
    "scrolled": true
   },
   "outputs": [],
   "source": [
    "#### Load CellPainting Dataset\n",
    "# data : keys to the dataset settings (and resulting keys in output dictionary)\n",
    "# dataset = dict()\n",
    "# data_loader = dict()\n",
    "\n",
    "# for datatype in ['train', 'val', 'test']:\n",
    "#     dataset[datatype] = CellpaintingDataset(type = datatype, **cellpainting_args)\n",
    "#     data_loader[datatype] = InfiniteDataLoader(dataset = dataset[datatype], batch_size=1, shuffle = False, num_workers = 0, \n",
    "#                                                collate_fn = partial(dynamic_collate_fn, tpsa_threshold = dataset[datatype].tpsa_threshold) )"
   ]
  },
  {
   "cell_type": "code",
   "execution_count": 29,
   "id": "9c6c6429-dd69-421c-8a5c-689558acc38a",
   "metadata": {
    "execution": {
     "iopub.execute_input": "2024-10-02T18:24:55.075465Z",
     "iopub.status.busy": "2024-10-02T18:24:55.075061Z",
     "iopub.status.idle": "2024-10-02T18:24:55.110422Z",
     "shell.execute_reply": "2024-10-02T18:24:55.109813Z",
     "shell.execute_reply.started": "2024-10-02T18:24:55.075432Z"
    }
   },
   "outputs": [],
   "source": [
    "# def display_cellpainting_batch(batch_id, batch):\n",
    "#     # data, labels, plates, compounds, cmphash, other, labels_2\n",
    "#     features, label, well_ids, compound_id, cmphash, tpsa, label_2 = batch\n",
    "#     # label_2 = np.zeros_like(label)\n",
    "#     print(\"-\"*135)\n",
    "#     print(f\"  Batch Id: {batch_id}   {type(batch)}  Rows returned {len(batch[0])} features: {features.shape}  \")\n",
    "#     print(f\"+-----+------------------------------------------+----------------+--------------------------+------------------------------+-----+-----+--------------------------------------------------------+\")\n",
    "#     print(f\"| idx |   batch[2]                               |    batch[3]    |      batch[2]            |          batch[5]            | [1] | [1] |     batch[0]                                           | \") \n",
    "#     print(f\"|     | SRCE      BATCH     PLATE     WELL       |   COMPOUND_ID  |       CMPHASH / BIN      |  TPSA / Ln(TPSA) / Log(TPSA) | LBL |LBL2 |     FEATURES                                           | \")\n",
    "#     print(f\"+-----+------------------------------------------+----------------+--------------------------+------------------------------+-----+-----+--------------------------------------------------------+\")\n",
    "#          ###    0 | source_11 Batch2    EC000046  K04      | JCP2022_009278 |  7406361908543180200 -  8  |   0   |   62.78000    4.13964   1.79782 | [-0.4377299 -0.4474466  1.1898487  0.2051901]\n",
    "#          # \"  1 | source_10    | JCP2022_006020 | -9223347314827979542 |   10 |  0 | tensor([-0.6346, -0.6232, -1.6046])\"\n",
    "    \n",
    "#     for i in range(len(label)):\n",
    "#         print(f\"| {i:3d} | {well_ids[i,0][:9]:9s} {well_ids[i,1][:12]:12s}  {well_ids[i,2][:10]:10s}  {well_ids[i,3]:4s} |\"\\\n",
    "#               f\" {compound_id[i]:14s} | {cmphash[i,0]:20d}  {cmphash[i,1]:2d} |\"\\\n",
    "#               f\" {tpsa[i,0]:7.3f}  {tpsa[i,1]:8.5f}  {tpsa[i,2]:8.5f}  |\"\n",
    "#               f\" {int(label[i]):2d}  | {int(label_2[i]):2d}  |\"\\\n",
    "#               f\" {features[i,:4].detach().cpu().numpy()}\")\n",
    "#         # print(f\"| {i:3d} | {batch[2][i,0]:9s} {batch[2][i,1][:9]:9s} {str(batch[2][i,2])[:9]:9s} {batch[2][i,3]:>4s}       \"\\\n",
    "#         #       f\"|{batch[3][i]:12s} | {batch[4][i,0]:20d} - {batch[4][i,1]:2d}  \"\\\n",
    "#         #       f\"{batch[5][i,0]:11.5f}   {batch[5][i,1]:8.5f}  {batch[5][i,2]:8.5f} \"\\\n",
    "#         #       f\"|  {int(batch[1][i]):1d}  | {batch[0][i,:4].detach().cpu().numpy()}\")\n"
   ]
  },
  {
   "cell_type": "code",
   "execution_count": 30,
   "id": "5465d0ad-2f89-45a5-9e48-a55da7c4fa47",
   "metadata": {
    "execution": {
     "iopub.execute_input": "2024-10-02T18:24:55.587084Z",
     "iopub.status.busy": "2024-10-02T18:24:55.586611Z",
     "iopub.status.idle": "2024-10-02T18:24:55.622592Z",
     "shell.execute_reply": "2024-10-02T18:24:55.621770Z",
     "shell.execute_reply.started": "2024-10-02T18:24:55.587053Z"
    },
    "scrolled": true
   },
   "outputs": [],
   "source": [
    "# # %%timeit\n",
    "# # for dataset in ['train', 'val', 'test']:\n",
    "# for dataset in ['test']:\n",
    "#     for idx, batch in enumerate(data_loader[dataset]):\n",
    "#         for b in batch :\n",
    "#             print(b.shape)\n",
    "#         display_cellpainting_batch(idx, batch)\n",
    "#         if idx == 0:\n",
    "#             break"
   ]
  },
  {
   "cell_type": "code",
   "execution_count": 31,
   "id": "1247a1cd-eda6-4231-9603-feab85fea20d",
   "metadata": {
    "execution": {
     "iopub.execute_input": "2024-10-02T18:24:56.142004Z",
     "iopub.status.busy": "2024-10-02T18:24:56.141657Z",
     "iopub.status.idle": "2024-10-02T18:24:56.178814Z",
     "shell.execute_reply": "2024-10-02T18:24:56.177999Z",
     "shell.execute_reply.started": "2024-10-02T18:24:56.141977Z"
    }
   },
   "outputs": [],
   "source": [
    "# # -----------------------------------------\n",
    "# #  Count pos/neg labels in each dataset\n",
    "# # -----------------------------------------\n",
    "# for datatype in ['train', 'val', 'test']:\n",
    "#     MINIBATCH_SIZE = data_loader[datatype].dataset.sample_size * data_loader[datatype].dataset.compounds_per_batch\n",
    "#     print(f\" {datatype.capitalize()} Minibatch size : {MINIBATCH_SIZE}\") \n",
    "# print()\n",
    "\n",
    "# for datatype in ['train', 'val', 'test']:\n",
    "#     minibatches = len(data_loader[datatype]) // MINIBATCH_SIZE\n",
    "#     ttl_rows, ttl_rows_2 = 0, 0\n",
    "#     ttl_pos_labels, ttl_pos_labels_2 = 0, 0\n",
    "#     with tqdm.tqdm(enumerate(data_loader[datatype]), initial=0, total = minibatches, position=0, file=sys.stdout,\n",
    "#                    leave= False, desc=f\" Count labels \") as t_warmup:\n",
    "#         for batch_count, (_, batch_labels, _, _, _, _, batch_labels_2) in t_warmup:\n",
    "#             ttl_rows += batch_labels.shape[0]\n",
    "#             ttl_rows_2 += batch_labels_2.shape[0]\n",
    "#             ttl_pos_labels += batch_labels.sum()\n",
    "#             ttl_pos_labels_2 += batch_labels_2.sum()\n",
    "#     ttl_neg_labels = ttl_rows - ttl_pos_labels\n",
    "#     ttl_neg_labels_2 = ttl_rows_2 - ttl_pos_labels_2\n",
    "#     ttl = f\"\\n Dataset: {datatype} -  len of {datatype} data loader: {len(data_loader[datatype])}   number of batches: {minibatches}\"\n",
    "#     print(ttl)\n",
    "#     print('-'*len(ttl))\n",
    "#     print(f\" total rows     : {ttl_rows:7d}\")\n",
    "#     print(f\" total pos rows : {ttl_pos_labels:7.0f} - {ttl_pos_labels*100.0/ttl_rows:5.2f}%         alternative pos rows : {ttl_pos_labels_2:7.0f} - {ttl_pos_labels_2*100.0/ttl_rows:5.2f}%      \")\n",
    "#     print(f\" total neg rows : {ttl_neg_labels:7.0f} - {ttl_neg_labels*100.0/ttl_rows:5.2f}%         alternative neg rows : {ttl_neg_labels_2:7.0f} - {ttl_neg_labels_2*100.0/ttl_rows:5.2f}%\")\n",
    "#     print()"
   ]
  },
  {
   "cell_type": "markdown",
   "id": "0424ff70-bcba-4702-bbb1-9d1871a5489d",
   "metadata": {},
   "source": [
    "     Minibatch size : 1800 \n",
    "                                                                                                 \n",
    "     Dataset: train - len of train data loader: 277200   number of batches: 154  \n",
    "    ------------------------------\n",
    "     total rows     :  277200\n",
    "     total pos rows :   33129 - 11.95%\n",
    "     total neg rows :  244071 - 88.05%\n",
    "\n",
    "     Dataset: val - len of val data loader: 21600   number of batches: 12\n",
    "    ------------------------------\n",
    "     total rows     :   21600\n",
    "     total pos rows :    2532 - 11.72%\n",
    "     total neg rows :   19068 - 88.28%\n",
    "    \n",
    "     Dataset: test - len of test data loader: 12600   number of batches: 7\n",
    "    ------------------------------\n",
    "     total rows     :   12600\n",
    "     total pos rows :    1431 - 11.36%\n",
    "     total neg rows :   11169 - 88.64%"
   ]
  },
  {
   "attachments": {},
   "cell_type": "markdown",
   "id": "84c48960-0808-47d4-bf2e-b0e5c00cace3",
   "metadata": {
    "jp-MarkdownHeadingCollapsed": true
   },
   "source": [
    "# Define Neural Net Model \n",
    "\n",
    "- **4 layer model :**\n",
    "\n",
    "    Input --> Hidden1 --> (BN/NL) ---> Hidden2 ---> (BN/NL) ---> Hidden3 --->  (BN/NL) ---> 1\n",
    "   \n",
    "    -  **20240909_1800** : Run on 4 FC layers model (includes final layer), model configuration UNKNOWN\n",
    "    -  **20240909_1801** : Run on 4 FC layers model (includes final layer), Relu non linearities (NO Batch Norm)\n",
    "    -  **20240909_2100** : Run on 4 FC layers model (includes final layer), with BATCH NORM and tanh non linearities\n",
    "\n",
    "      \n",
    " - **Single Hidden Layer - 256**\n",
    "\n",
    "   Input --> Hidden1 --> (Tanh) --->  1\n",
    "    -  **20240916_1830** : Run on 1 FC layers model (includes final layer), Input --> 256 --> Tanh --> 1 ,  Read from 20240906_2201 (SNNL - CPB 600, LAT 150, SNN Factor 3)\n",
    "    -  **20240926_1900** : Run on 1 FC layers model (includes final layer), Input --> 256 --> Tanh --> 1 ,  Read from 20240917_2017 (BASELINE - CPB 600, LAT 250, SNN Factor 0)\n",
    "    -  **20240926_1930** : Run on 1 FC layers model (includes final layer), Input --> 256 --> Tanh --> 1 ,  Read from 20240917_2004 (SNNL - CPB 600, LAT 250, SNN Factor 3)\n",
    "    -  **20240926_2000** : Run on 1 FC layers model (includes final layer), Input --> 256 --> Tanh --> 1 ,  Read from 20240924_0146 (SNNL - CPB 600, LAT 250, SNN Factor 30)\n",
    "<br>\n",
    "\n",
    " - **Single Hidden Layer - 256**\n",
    "\n",
    "    -  **20240921_0700** : Run on 1 FC layers model (includes final layer), Input --> 512 --> Tanh --> 1 ,  Read from 20240906_2201 (SNNL - CPB 600, LAT 150, SNN Factor 3)    \n"
   ]
  },
  {
   "cell_type": "code",
   "execution_count": 32,
   "id": "f32c6590-d212-4f37-8ce1-4ee46fd4246a",
   "metadata": {
    "ExecuteTime": {
     "end_time": "2023-07-31T18:45:44.380055Z",
     "start_time": "2023-07-31T18:45:41.073911Z"
    },
    "execution": {
     "iopub.execute_input": "2024-10-02T18:25:19.605359Z",
     "iopub.status.busy": "2024-10-02T18:25:19.604881Z",
     "iopub.status.idle": "2024-10-02T18:25:19.648700Z",
     "shell.execute_reply": "2024-10-02T18:25:19.648006Z",
     "shell.execute_reply.started": "2024-10-02T18:25:19.605319Z"
    }
   },
   "outputs": [],
   "source": [
    "\n",
    "model = build_model(MODEL_TYPE, input = n_input, hidden_1 = n_hidden_1, hidden_2 = n_hidden_2, hidden_3=n_hidden_3, device = device)\n",
    " "
   ]
  },
  {
   "cell_type": "code",
   "execution_count": 34,
   "id": "516fbc97-8c0d-4ba9-820d-c37c4eaebf27",
   "metadata": {
    "ExecuteTime": {
     "end_time": "2023-07-31T18:47:48.292853Z",
     "start_time": "2023-07-31T18:47:45.651556Z"
    },
    "execution": {
     "iopub.execute_input": "2024-10-02T18:25:30.875683Z",
     "iopub.status.busy": "2024-10-02T18:25:30.875200Z",
     "iopub.status.idle": "2024-10-02T18:25:30.914940Z",
     "shell.execute_reply": "2024-10-02T18:25:30.914146Z",
     "shell.execute_reply.started": "2024-10-02T18:25:30.875642Z"
    },
    "scrolled": true
   },
   "outputs": [
    {
     "name": "stdout",
     "output_type": "stream",
     "text": [
      "==============================================================================================================================================================================================\n",
      "Layer (type:depth-idx)                   Input Shape               Output Shape              Param #                   Param %                   Mult-Adds                 Trainable\n",
      "==============================================================================================================================================================================================\n",
      "Sequential                               [30, 150]                 [30, 1]                   --                             --                   --                        True\n",
      "├─Linear: 1-1                            [30, 150]                 [30, 256]                 38,656                     27.86%                   1,159,680                 True\n",
      "│    └─weight                                                                                ├─38,400\n",
      "│    └─bias                                                                                  └─256\n",
      "├─BatchNorm1d: 1-2                       [30, 256]                 [30, 256]                 512                         0.37%                   15,360                    True\n",
      "│    └─weight                                                                                ├─256\n",
      "│    └─bias                                                                                  └─256\n",
      "├─Tanh: 1-3                              [30, 256]                 [30, 256]                 --                             --                   --                        --\n",
      "├─Linear: 1-4                            [30, 256]                 [30, 256]                 65,792                     47.42%                   1,973,760                 True\n",
      "│    └─weight                                                                                ├─65,536\n",
      "│    └─bias                                                                                  └─256\n",
      "├─BatchNorm1d: 1-5                       [30, 256]                 [30, 256]                 512                         0.37%                   15,360                    True\n",
      "│    └─weight                                                                                ├─256\n",
      "│    └─bias                                                                                  └─256\n",
      "├─Tanh: 1-6                              [30, 256]                 [30, 256]                 --                             --                   --                        --\n",
      "├─Linear: 1-7                            [30, 256]                 [30, 128]                 32,896                     23.71%                   986,880                   True\n",
      "│    └─weight                                                                                ├─32,768\n",
      "│    └─bias                                                                                  └─128\n",
      "├─BatchNorm1d: 1-8                       [30, 128]                 [30, 128]                 256                         0.18%                   7,680                     True\n",
      "│    └─weight                                                                                ├─128\n",
      "│    └─bias                                                                                  └─128\n",
      "├─Tanh: 1-9                              [30, 128]                 [30, 128]                 --                             --                   --                        --\n",
      "├─Linear: 1-10                           [30, 128]                 [30, 1]                   129                         0.09%                   3,870                     True\n",
      "│    └─weight                                                                                ├─128\n",
      "│    └─bias                                                                                  └─1\n",
      "==============================================================================================================================================================================================\n",
      "Total params: 138,753\n",
      "Trainable params: 138,753\n",
      "Non-trainable params: 0\n",
      "Total mult-adds (Units.MEGABYTES): 4.16\n",
      "==============================================================================================================================================================================================\n",
      "Input size (MB): 0.02\n",
      "Forward/backward pass size (MB): 0.31\n",
      "Params size (MB): 0.56\n",
      "Estimated Total Size (MB): 0.88\n",
      "==============================================================================================================================================================================================\n"
     ]
    }
   ],
   "source": [
    "col_names = [\"input_size\", \"output_size\", \"num_params\", \"params_percent\", \"mult_adds\", \"trainable\"]\n",
    "\n",
    "summary_input_size = (30, n_input)\n",
    "_ = summary(model, verbose = 2, input_size=summary_input_size, col_names = col_names)"
   ]
  },
  {
   "cell_type": "code",
   "execution_count": 35,
   "id": "5670627f-ece1-46ba-bed9-c4a3bb729db4",
   "metadata": {
    "ExecuteTime": {
     "end_time": "2023-07-31T18:48:09.459977Z",
     "start_time": "2023-07-31T18:48:09.429767Z"
    },
    "execution": {
     "iopub.execute_input": "2024-10-02T18:25:34.654234Z",
     "iopub.status.busy": "2024-10-02T18:25:34.653673Z",
     "iopub.status.idle": "2024-10-02T18:25:34.692052Z",
     "shell.execute_reply": "2024-10-02T18:25:34.691430Z",
     "shell.execute_reply.started": "2024-10-02T18:25:34.654193Z"
    }
   },
   "outputs": [],
   "source": [
    "metrics = { 'loss_trn' : [], 'acc_trn' : [], 'loss_val' : [], 'acc_val' : []}\n",
    "\n",
    "start_epoch, end_epoch = 0,0\n",
    "init_LR = 1.0e-3\n",
    "# curr_LR = init_LR\n",
    "\n",
    "# create a PyTorch optimizer\n",
    "optimizer = torch.optim.AdamW(model.parameters(), lr=init_LR)\n",
    "\n",
    "# scheduler = torch.optim.lr_scheduler.ReduceLROnPlateau(optimizer, mode = 'min', factor = 0.3 , patience=20, cooldown=10,)\n",
    "# scheduler = torch.optim.lr_scheduler.StepLR(optimizer, step_size = step_size, gamma=0.1, last_epoch =-1)\n",
    "scheduler = torch.optim.lr_scheduler.ReduceLROnPlateau(optimizer, mode = 'min', factor = 0.5, threshold=1.0e-06, patience=50, cooldown=10,)"
   ]
  },
  {
   "cell_type": "markdown",
   "id": "4cbb012c-1066-4a40-ba6d-8bd792e06ffb",
   "metadata": {},
   "source": [
    "### Read checkpoint"
   ]
  },
  {
   "cell_type": "code",
   "execution_count": 39,
   "id": "9d8cc5c1-a8b4-4488-ba18-c7b6180722ca",
   "metadata": {
    "execution": {
     "iopub.execute_input": "2024-10-02T18:25:42.029407Z",
     "iopub.status.busy": "2024-10-02T18:25:42.028924Z",
     "iopub.status.idle": "2024-10-02T18:25:42.066264Z",
     "shell.execute_reply": "2024-10-02T18:25:42.065533Z",
     "shell.execute_reply.started": "2024-10-02T18:25:42.029367Z"
    }
   },
   "outputs": [],
   "source": [
    "# loaded_epoch\n",
    "# optimizer.state_dict()\n",
    "# scheduler.state_dict()"
   ]
  },
  {
   "cell_type": "code",
   "execution_count": 40,
   "id": "9d093781-edac-4acb-a6ed-8c9f322228e4",
   "metadata": {
    "execution": {
     "iopub.execute_input": "2024-10-02T18:25:42.392939Z",
     "iopub.status.busy": "2024-10-02T18:25:42.392578Z",
     "iopub.status.idle": "2024-10-02T18:25:42.427962Z",
     "shell.execute_reply": "2024-10-02T18:25:42.427269Z",
     "shell.execute_reply.started": "2024-10-02T18:25:42.392910Z"
    }
   },
   "outputs": [],
   "source": [
    "# model, optimizer, scheudler, end_epoch = load_checkpoint(model, optimizer, scheduler, checkpoint_file.format(ep=100), ckpt_path = CKPT_PATH)\n",
    "# model = model.to(device)"
   ]
  },
  {
   "cell_type": "code",
   "execution_count": 41,
   "id": "9599cdd1-7434-4360-aa21-d8130696ffc3",
   "metadata": {
    "execution": {
     "iopub.execute_input": "2024-10-02T18:25:42.717355Z",
     "iopub.status.busy": "2024-10-02T18:25:42.716974Z",
     "iopub.status.idle": "2024-10-02T18:25:42.755161Z",
     "shell.execute_reply": "2024-10-02T18:25:42.754368Z",
     "shell.execute_reply.started": "2024-10-02T18:25:42.717326Z"
    }
   },
   "outputs": [],
   "source": [
    "# end_epoch\n",
    "# optimizer.state_dict()\n",
    "# scheduler.state_dict()"
   ]
  },
  {
   "cell_type": "markdown",
   "id": "5a53a7c8-de53-45ec-ac18-2519c89e3ce5",
   "metadata": {},
   "source": [
    "# Run Training"
   ]
  },
  {
   "cell_type": "code",
   "execution_count": 42,
   "id": "31ec54be-10d4-4b6e-85c9-8175fab24f02",
   "metadata": {
    "ExecuteTime": {
     "end_time": "2023-07-31T18:48:09.459977Z",
     "start_time": "2023-07-31T18:48:09.429767Z"
    },
    "execution": {
     "iopub.execute_input": "2024-10-02T18:25:44.561312Z",
     "iopub.status.busy": "2024-10-02T18:25:44.561031Z",
     "iopub.status.idle": "2024-10-02T18:25:44.593666Z",
     "shell.execute_reply": "2024-10-02T18:25:44.592977Z",
     "shell.execute_reply.started": "2024-10-02T18:25:44.561289Z"
    }
   },
   "outputs": [
    {
     "name": "stdout",
     "output_type": "stream",
     "text": [
      "0 600\n"
     ]
    }
   ],
   "source": [
    "# start_epoch = 0\n",
    "# start_epoch = loaded_epoch\n",
    "start_epoch = end_epoch\n",
    "end_epoch += 600\n",
    "# start_epoch, end_epoch = 0,100\n",
    "print(start_epoch, end_epoch)\n",
    "_ = model.train()"
   ]
  },
  {
   "cell_type": "code",
   "execution_count": 43,
   "id": "b26ae239-ec9d-4afc-aef9-387fa19d0ca0",
   "metadata": {
    "ExecuteTime": {
     "end_time": "2023-07-31T19:00:14.450630Z",
     "start_time": "2023-07-31T18:49:12.235999Z"
    },
    "execution": {
     "iopub.execute_input": "2024-10-02T18:25:46.140926Z",
     "iopub.status.busy": "2024-10-02T18:25:46.140643Z",
     "iopub.status.idle": "2024-10-02T20:48:25.434152Z",
     "shell.execute_reply": "2024-10-02T20:48:25.433397Z",
     "shell.execute_reply.started": "2024-10-02T18:25:46.140904Z"
    },
    "scrolled": true
   },
   "outputs": [
    {
     "name": "stdout",
     "output_type": "stream",
     "text": [
      " 20:26:02 | Ep:   1/ 600 | Trn loss:  0.456108 - Acc: 84.2908 | Val loss:  0.367906 - Acc: 88.2778 | last_lr: 1.00000e-03  bad_ep: 0  cdwn: 0                              \n",
      " 20:26:16 | Ep:   2/ 600 | Trn loss:  0.366941 - Acc: 88.0606 | Val loss:  0.358349 - Acc: 88.2870 | last_lr: 1.00000e-03  bad_ep: 0  cdwn: 0                              \n",
      " 20:26:30 | Ep:   3/ 600 | Trn loss:  0.362299 - Acc: 88.0631 | Val loss:  0.357601 - Acc: 88.2963 | last_lr: 1.00000e-03  bad_ep: 0  cdwn: 0                              \n",
      " 20:26:44 | Ep:   4/ 600 | Trn loss:  0.360787 - Acc: 88.0606 | Val loss:  0.358432 - Acc: 88.2639 | last_lr: 1.00000e-03  bad_ep: 1  cdwn: 0                              \n",
      " 20:26:58 | Ep:   5/ 600 | Trn loss:  0.359764 - Acc: 88.0617 | Val loss:  0.358954 - Acc: 88.2685 | last_lr: 1.00000e-03  bad_ep: 2  cdwn: 0                              \n",
      " 20:27:12 | Ep:   6/ 600 | Trn loss:  0.358939 - Acc: 88.0639 | Val loss:  0.358520 - Acc: 88.2639 | last_lr: 1.00000e-03  bad_ep: 3  cdwn: 0                              \n",
      " 20:27:26 | Ep:   7/ 600 | Trn loss:  0.358182 - Acc: 88.0653 | Val loss:  0.358112 - Acc: 88.2546 | last_lr: 1.00000e-03  bad_ep: 4  cdwn: 0                              \n",
      " 20:27:41 | Ep:   8/ 600 | Trn loss:  0.357475 - Acc: 88.0671 | Val loss:  0.357855 - Acc: 88.2685 | last_lr: 1.00000e-03  bad_ep: 5  cdwn: 0                              \n",
      " 20:27:54 | Ep:   9/ 600 | Trn loss:  0.356796 - Acc: 88.0693 | Val loss:  0.357721 - Acc: 88.2639 | last_lr: 1.00000e-03  bad_ep: 6  cdwn: 0                              \n",
      " 20:28:09 | Ep:  10/ 600 | Trn loss:  0.356146 - Acc: 88.0703 | Val loss:  0.357642 - Acc: 88.2593 | last_lr: 1.00000e-03  bad_ep: 7  cdwn: 0                              \n",
      " 20:28:23 | Ep:  11/ 600 | Trn loss:  0.355507 - Acc: 88.0736 | Val loss:  0.357521 - Acc: 88.2593 | last_lr: 1.00000e-03  bad_ep: 0  cdwn: 0                              \n",
      " 20:28:37 | Ep:  12/ 600 | Trn loss:  0.354872 - Acc: 88.0794 | Val loss:  0.357434 - Acc: 88.2500 | last_lr: 1.00000e-03  bad_ep: 0  cdwn: 0                              \n",
      " 20:28:51 | Ep:  13/ 600 | Trn loss:  0.354239 - Acc: 88.0837 | Val loss:  0.357439 - Acc: 88.2315 | last_lr: 1.00000e-03  bad_ep: 1  cdwn: 0                              \n",
      " 20:29:05 | Ep:  14/ 600 | Trn loss:  0.353598 - Acc: 88.0873 | Val loss:  0.357539 - Acc: 88.2222 | last_lr: 1.00000e-03  bad_ep: 2  cdwn: 0                              \n",
      " 20:29:19 | Ep:  15/ 600 | Trn loss:  0.352947 - Acc: 88.0960 | Val loss:  0.357665 - Acc: 88.2083 | last_lr: 1.00000e-03  bad_ep: 3  cdwn: 0                              \n",
      " 20:29:33 | Ep:  16/ 600 | Trn loss:  0.352274 - Acc: 88.1050 | Val loss:  0.357843 - Acc: 88.2037 | last_lr: 1.00000e-03  bad_ep: 4  cdwn: 0                              \n",
      " 20:29:47 | Ep:  17/ 600 | Trn loss:  0.351582 - Acc: 88.1035 | Val loss:  0.358012 - Acc: 88.2037 | last_lr: 1.00000e-03  bad_ep: 5  cdwn: 0                              \n",
      " 20:30:01 | Ep:  18/ 600 | Trn loss:  0.350861 - Acc: 88.1144 | Val loss:  0.358157 - Acc: 88.1944 | last_lr: 1.00000e-03  bad_ep: 6  cdwn: 0                              \n",
      " 20:30:15 | Ep:  19/ 600 | Trn loss:  0.350109 - Acc: 88.1169 | Val loss:  0.358356 - Acc: 88.1991 | last_lr: 1.00000e-03  bad_ep: 7  cdwn: 0                              \n",
      " 20:30:29 | Ep:  20/ 600 | Trn loss:  0.349315 - Acc: 88.1255 | Val loss:  0.358624 - Acc: 88.1944 | last_lr: 1.00000e-03  bad_ep: 8  cdwn: 0                              \n",
      " 20:30:43 | Ep:  21/ 600 | Trn loss:  0.348483 - Acc: 88.1382 | Val loss:  0.358916 - Acc: 88.1991 | last_lr: 1.00000e-03  bad_ep: 9  cdwn: 0                              \n",
      " 20:30:57 | Ep:  22/ 600 | Trn loss:  0.347603 - Acc: 88.1479 | Val loss:  0.359309 - Acc: 88.1620 | last_lr: 1.00000e-03  bad_ep: 10  cdwn: 0                             \n",
      " 20:31:11 | Ep:  23/ 600 | Trn loss:  0.346667 - Acc: 88.1544 | Val loss:  0.359778 - Acc: 88.1620 | last_lr: 1.00000e-03  bad_ep: 11  cdwn: 0                             \n",
      " 20:31:25 | Ep:  24/ 600 | Trn loss:  0.345676 - Acc: 88.1652 | Val loss:  0.360230 - Acc: 88.1574 | last_lr: 1.00000e-03  bad_ep: 12  cdwn: 0                             \n",
      " 20:31:39 | Ep:  25/ 600 | Trn loss:  0.344631 - Acc: 88.1746 | Val loss:  0.360744 - Acc: 88.1343 | last_lr: 1.00000e-03  bad_ep: 13  cdwn: 0                             \n",
      " 20:31:53 | Ep:  26/ 600 | Trn loss:  0.343521 - Acc: 88.1847 | Val loss:  0.361283 - Acc: 88.1296 | last_lr: 1.00000e-03  bad_ep: 14  cdwn: 0                             \n",
      " 20:32:07 | Ep:  27/ 600 | Trn loss:  0.342345 - Acc: 88.2002 | Val loss:  0.361815 - Acc: 88.1343 | last_lr: 1.00000e-03  bad_ep: 15  cdwn: 0                             \n",
      " 20:32:21 | Ep:  28/ 600 | Trn loss:  0.341099 - Acc: 88.2096 | Val loss:  0.362432 - Acc: 88.1574 | last_lr: 1.00000e-03  bad_ep: 16  cdwn: 0                             \n",
      " 20:32:35 | Ep:  29/ 600 | Trn loss:  0.339774 - Acc: 88.2251 | Val loss:  0.363117 - Acc: 88.1481 | last_lr: 1.00000e-03  bad_ep: 17  cdwn: 0                             \n",
      " 20:32:49 | Ep:  30/ 600 | Trn loss:  0.338352 - Acc: 88.2410 | Val loss:  0.363837 - Acc: 88.1481 | last_lr: 1.00000e-03  bad_ep: 18  cdwn: 0                             \n",
      " 20:33:02 | Ep:  31/ 600 | Trn loss:  0.336825 - Acc: 88.2659 | Val loss:  0.364614 - Acc: 88.1574 | last_lr: 1.00000e-03  bad_ep: 19  cdwn: 0                             \n",
      " 20:33:16 | Ep:  32/ 600 | Trn loss:  0.335198 - Acc: 88.2861 | Val loss:  0.365513 - Acc: 88.1250 | last_lr: 1.00000e-03  bad_ep: 20  cdwn: 0                             \n",
      " 20:33:30 | Ep:  33/ 600 | Trn loss:  0.333453 - Acc: 88.3052 | Val loss:  0.366578 - Acc: 88.1296 | last_lr: 1.00000e-03  bad_ep: 21  cdwn: 0                             \n",
      " 20:33:44 | Ep:  34/ 600 | Trn loss:  0.331590 - Acc: 88.3185 | Val loss:  0.367913 - Acc: 88.1065 | last_lr: 1.00000e-03  bad_ep: 22  cdwn: 0                             \n",
      " 20:33:58 | Ep:  35/ 600 | Trn loss:  0.329615 - Acc: 88.3333 | Val loss:  0.369488 - Acc: 88.1204 | last_lr: 1.00000e-03  bad_ep: 23  cdwn: 0                             \n",
      " 20:34:12 | Ep:  36/ 600 | Trn loss:  0.327546 - Acc: 88.3467 | Val loss:  0.371130 - Acc: 88.0926 | last_lr: 1.00000e-03  bad_ep: 24  cdwn: 0                             \n",
      " 20:34:26 | Ep:  37/ 600 | Trn loss:  0.325370 - Acc: 88.3813 | Val loss:  0.372881 - Acc: 88.0694 | last_lr: 1.00000e-03  bad_ep: 25  cdwn: 0                             \n",
      " 20:34:41 | Ep:  38/ 600 | Trn loss:  0.323105 - Acc: 88.4022 | Val loss:  0.374580 - Acc: 88.0648 | last_lr: 1.00000e-03  bad_ep: 26  cdwn: 0                             \n",
      " 20:34:55 | Ep:  39/ 600 | Trn loss:  0.320705 - Acc: 88.4315 | Val loss:  0.376508 - Acc: 88.0417 | last_lr: 1.00000e-03  bad_ep: 27  cdwn: 0                             \n",
      " 20:35:09 | Ep:  40/ 600 | Trn loss:  0.318211 - Acc: 88.4823 | Val loss:  0.378574 - Acc: 88.0278 | last_lr: 1.00000e-03  bad_ep: 28  cdwn: 0                             \n",
      " 20:35:24 | Ep:  41/ 600 | Trn loss:  0.315591 - Acc: 88.5227 | Val loss:  0.380937 - Acc: 88.0278 | last_lr: 1.00000e-03  bad_ep: 29  cdwn: 0                             \n",
      " 20:35:38 | Ep:  42/ 600 | Trn loss:  0.312864 - Acc: 88.5660 | Val loss:  0.383391 - Acc: 87.9769 | last_lr: 1.00000e-03  bad_ep: 30  cdwn: 0                             \n",
      " 20:35:53 | Ep:  43/ 600 | Trn loss:  0.310024 - Acc: 88.6187 | Val loss:  0.386093 - Acc: 87.9444 | last_lr: 1.00000e-03  bad_ep: 31  cdwn: 0                             \n",
      " 20:36:08 | Ep:  44/ 600 | Trn loss:  0.307086 - Acc: 88.6649 | Val loss:  0.388920 - Acc: 87.8611 | last_lr: 1.00000e-03  bad_ep: 32  cdwn: 0                             \n",
      " 20:36:23 | Ep:  45/ 600 | Trn loss:  0.304065 - Acc: 88.7359 | Val loss:  0.391837 - Acc: 87.7917 | last_lr: 1.00000e-03  bad_ep: 33  cdwn: 0                             \n",
      " 20:36:37 | Ep:  46/ 600 | Trn loss:  0.301006 - Acc: 88.8135 | Val loss:  0.394750 - Acc: 87.7315 | last_lr: 1.00000e-03  bad_ep: 34  cdwn: 0                             \n",
      " 20:36:51 | Ep:  47/ 600 | Trn loss:  0.297909 - Acc: 88.8810 | Val loss:  0.397764 - Acc: 87.6852 | last_lr: 1.00000e-03  bad_ep: 35  cdwn: 0                             \n",
      " 20:37:05 | Ep:  48/ 600 | Trn loss:  0.294723 - Acc: 88.9614 | Val loss:  0.400919 - Acc: 87.6019 | last_lr: 1.00000e-03  bad_ep: 36  cdwn: 0                             \n",
      " 20:37:20 | Ep:  49/ 600 | Trn loss:  0.291480 - Acc: 89.0390 | Val loss:  0.404140 - Acc: 87.4907 | last_lr: 1.00000e-03  bad_ep: 37  cdwn: 0                             \n",
      " 20:37:35 | Ep:  50/ 600 | Trn loss:  0.288184 - Acc: 89.0999 | Val loss:  0.407612 - Acc: 87.3981 | last_lr: 1.00000e-03  bad_ep: 38  cdwn: 0                             \n",
      " 20:37:49 | Ep:  51/ 600 | Trn loss:  0.284862 - Acc: 89.1995 | Val loss:  0.411328 - Acc: 87.2963 | last_lr: 1.00000e-03  bad_ep: 39  cdwn: 0                             \n",
      " 20:38:04 | Ep:  52/ 600 | Trn loss:  0.281496 - Acc: 89.2908 | Val loss:  0.415240 - Acc: 87.1759 | last_lr: 1.00000e-03  bad_ep: 40  cdwn: 0                             \n",
      " 20:38:18 | Ep:  53/ 600 | Trn loss:  0.278088 - Acc: 89.3788 | Val loss:  0.419185 - Acc: 87.0787 | last_lr: 1.00000e-03  bad_ep: 41  cdwn: 0                             \n",
      " 20:38:32 | Ep:  54/ 600 | Trn loss:  0.274690 - Acc: 89.4794 | Val loss:  0.423251 - Acc: 86.9259 | last_lr: 1.00000e-03  bad_ep: 42  cdwn: 0                             \n",
      " 20:38:47 | Ep:  55/ 600 | Trn loss:  0.271330 - Acc: 89.5913 | Val loss:  0.427021 - Acc: 86.7824 | last_lr: 1.00000e-03  bad_ep: 43  cdwn: 0                             \n",
      " 20:39:01 | Ep:  56/ 600 | Trn loss:  0.267980 - Acc: 89.7071 | Val loss:  0.431175 - Acc: 86.6620 | last_lr: 1.00000e-03  bad_ep: 44  cdwn: 0                             \n",
      " 20:39:15 | Ep:  57/ 600 | Trn loss:  0.264676 - Acc: 89.8146 | Val loss:  0.435417 - Acc: 86.5694 | last_lr: 1.00000e-03  bad_ep: 45  cdwn: 0                             \n",
      " 20:39:29 | Ep:  58/ 600 | Trn loss:  0.261388 - Acc: 89.9105 | Val loss:  0.440276 - Acc: 86.4398 | last_lr: 1.00000e-03  bad_ep: 46  cdwn: 0                             \n",
      " 20:39:43 | Ep:  59/ 600 | Trn loss:  0.258155 - Acc: 90.0321 | Val loss:  0.445516 - Acc: 86.3333 | last_lr: 1.00000e-03  bad_ep: 47  cdwn: 0                             \n",
      " 20:39:57 | Ep:  60/ 600 | Trn loss:  0.255128 - Acc: 90.1392 | Val loss:  0.450980 - Acc: 86.2546 | last_lr: 1.00000e-03  bad_ep: 48  cdwn: 0                             \n",
      " 20:40:11 | Ep:  61/ 600 | Trn loss:  0.252244 - Acc: 90.2399 | Val loss:  0.456286 - Acc: 86.1667 | last_lr: 1.00000e-03  bad_ep: 49  cdwn: 0                             \n",
      " 20:40:25 | Ep:  62/ 600 | Trn loss:  0.249554 - Acc: 90.3373 | Val loss:  0.460806 - Acc: 86.0139 | last_lr: 1.00000e-03  bad_ep: 50  cdwn: 0                             \n",
      " 20:40:39 | Ep:  63/ 600 | Trn loss:  0.247014 - Acc: 90.4181 | Val loss:  0.463979 - Acc: 85.8981 | last_lr: 5.00000e-04  bad_ep: 0  cdwn: 10                             \n",
      " 20:40:53 | Ep:  64/ 600 | Trn loss:  0.245761 - Acc: 90.3373 | Val loss:  0.460038 - Acc: 85.9583 | last_lr: 5.00000e-04  bad_ep: 0  cdwn: 9                              \n",
      " 20:41:07 | Ep:  65/ 600 | Trn loss:  0.240121 - Acc: 90.5429 | Val loss:  0.462904 - Acc: 85.9306 | last_lr: 5.00000e-04  bad_ep: 0  cdwn: 8                              \n",
      " 20:41:22 | Ep:  66/ 600 | Trn loss:  0.235861 - Acc: 90.7291 | Val loss:  0.466068 - Acc: 85.8056 | last_lr: 5.00000e-04  bad_ep: 0  cdwn: 7                              \n",
      " 20:41:36 | Ep:  67/ 600 | Trn loss:  0.232156 - Acc: 90.8979 | Val loss:  0.469459 - Acc: 85.7176 | last_lr: 5.00000e-04  bad_ep: 0  cdwn: 6                              \n",
      " 20:41:50 | Ep:  68/ 600 | Trn loss:  0.228727 - Acc: 91.0361 | Val loss:  0.473068 - Acc: 85.6574 | last_lr: 5.00000e-04  bad_ep: 0  cdwn: 5                              \n",
      " 20:42:04 | Ep:  69/ 600 | Trn loss:  0.225471 - Acc: 91.1807 | Val loss:  0.476879 - Acc: 85.6065 | last_lr: 5.00000e-04  bad_ep: 0  cdwn: 4                              \n",
      " 20:42:18 | Ep:  70/ 600 | Trn loss:  0.222324 - Acc: 91.3261 | Val loss:  0.480882 - Acc: 85.5093 | last_lr: 5.00000e-04  bad_ep: 0  cdwn: 3                              \n",
      " 20:42:32 | Ep:  71/ 600 | Trn loss:  0.219249 - Acc: 91.4776 | Val loss:  0.485057 - Acc: 85.3241 | last_lr: 5.00000e-04  bad_ep: 0  cdwn: 2                              \n",
      " 20:42:46 | Ep:  72/ 600 | Trn loss:  0.216222 - Acc: 91.6187 | Val loss:  0.489388 - Acc: 85.1528 | last_lr: 5.00000e-04  bad_ep: 0  cdwn: 1                              \n",
      " 20:43:00 | Ep:  73/ 600 | Trn loss:  0.213228 - Acc: 91.7475 | Val loss:  0.493858 - Acc: 85.0324 | last_lr: 5.00000e-04  bad_ep: 0  cdwn: 0                              \n",
      " 20:43:14 | Ep:  74/ 600 | Trn loss:  0.210261 - Acc: 91.8777 | Val loss:  0.498460 - Acc: 84.9074 | last_lr: 5.00000e-04  bad_ep: 1  cdwn: 0                              \n",
      " 20:43:28 | Ep:  75/ 600 | Trn loss:  0.207315 - Acc: 92.0072 | Val loss:  0.503186 - Acc: 84.8565 | last_lr: 5.00000e-04  bad_ep: 2  cdwn: 0                              \n",
      " 20:43:42 | Ep:  76/ 600 | Trn loss:  0.204394 - Acc: 92.1317 | Val loss:  0.508034 - Acc: 84.7546 | last_lr: 5.00000e-04  bad_ep: 3  cdwn: 0                              \n",
      " 20:43:56 | Ep:  77/ 600 | Trn loss:  0.201496 - Acc: 92.2475 | Val loss:  0.513014 - Acc: 84.6620 | last_lr: 5.00000e-04  bad_ep: 4  cdwn: 0                              \n",
      " 20:44:10 | Ep:  78/ 600 | Trn loss:  0.198621 - Acc: 92.3647 | Val loss:  0.518142 - Acc: 84.5741 | last_lr: 5.00000e-04  bad_ep: 5  cdwn: 0                              \n",
      " 20:44:25 | Ep:  79/ 600 | Trn loss:  0.195769 - Acc: 92.4975 | Val loss:  0.523410 - Acc: 84.4306 | last_lr: 5.00000e-04  bad_ep: 6  cdwn: 0                              \n",
      " 20:46:21 | Ep:  87/ 600 | Trn loss:  0.174072 - Acc: 93.4679 | Val loss:  0.569294 - Acc: 83.6944 | last_lr: 5.00000e-04  bad_ep: 14  cdwn: 0                             \n",
      " 20:46:36 | Ep:  88/ 600 | Trn loss:  0.171529 - Acc: 93.5837 | Val loss:  0.575416 - Acc: 83.5370 | last_lr: 5.00000e-04  bad_ep: 15  cdwn: 0                             \n",
      " 20:46:50 | Ep:  89/ 600 | Trn loss:  0.169033 - Acc: 93.7096 | Val loss:  0.581629 - Acc: 83.4213 | last_lr: 5.00000e-04  bad_ep: 16  cdwn: 0                             \n",
      " 20:47:05 | Ep:  90/ 600 | Trn loss:  0.166586 - Acc: 93.8182 | Val loss:  0.587931 - Acc: 83.3519 | last_lr: 5.00000e-04  bad_ep: 17  cdwn: 0                             \n",
      " 20:47:20 | Ep:  91/ 600 | Trn loss:  0.164189 - Acc: 93.9206 | Val loss:  0.594302 - Acc: 83.3056 | last_lr: 5.00000e-04  bad_ep: 18  cdwn: 0                             \n",
      " 20:47:34 | Ep:  92/ 600 | Trn loss:  0.161844 - Acc: 94.0411 | Val loss:  0.600735 - Acc: 83.2454 | last_lr: 5.00000e-04  bad_ep: 19  cdwn: 0                             \n",
      " 20:47:49 | Ep:  93/ 600 | Trn loss:  0.159551 - Acc: 94.1356 | Val loss:  0.607216 - Acc: 83.2176 | last_lr: 5.00000e-04  bad_ep: 20  cdwn: 0                             \n",
      " 20:48:03 | Ep:  94/ 600 | Trn loss:  0.157311 - Acc: 94.2168 | Val loss:  0.613725 - Acc: 83.1898 | last_lr: 5.00000e-04  bad_ep: 21  cdwn: 0                             \n",
      " 20:48:17 | Ep:  95/ 600 | Trn loss:  0.155128 - Acc: 94.2994 | Val loss:  0.620229 - Acc: 83.1389 | last_lr: 5.00000e-04  bad_ep: 22  cdwn: 0                             \n",
      " 20:48:31 | Ep:  96/ 600 | Trn loss:  0.153009 - Acc: 94.4004 | Val loss:  0.626689 - Acc: 83.0694 | last_lr: 5.00000e-04  bad_ep: 23  cdwn: 0                             \n",
      " 20:48:45 | Ep:  97/ 600 | Trn loss:  0.150963 - Acc: 94.4863 | Val loss:  0.633088 - Acc: 83.0602 | last_lr: 5.00000e-04  bad_ep: 24  cdwn: 0                             \n",
      " 20:49:00 | Ep:  98/ 600 | Trn loss:  0.149002 - Acc: 94.5754 | Val loss:  0.639417 - Acc: 82.9769 | last_lr: 5.00000e-04  bad_ep: 25  cdwn: 0                             \n",
      " Trn 98/600:  18%|███████████████▎                                                                    | 28/154 [00:02<00:10, 11.58it/s, Loss=0.1425, Acc=94.83, lbls=207.0]"
     ]
    },
    {
     "name": "stderr",
     "output_type": "stream",
     "text": [
      "IOPub message rate exceeded.\n",
      "The Jupyter server will temporarily stop sending output\n",
      "to the client in order to avoid crashing it.\n",
      "To change this limit, set the config variable\n",
      "`--ServerApp.iopub_msg_rate_limit`.\n",
      "\n",
      "Current values:\n",
      "ServerApp.iopub_msg_rate_limit=1000.0 (msgs/sec)\n",
      "ServerApp.rate_limit_window=3.0 (secs)\n",
      "\n"
     ]
    },
    {
     "name": "stdout",
     "output_type": "stream",
     "text": [
      " 21:28:00 | Ep: 260/ 600 | Trn loss:  0.031130 - Acc: 99.5429 | Val loss:  1.175304 - Acc: 80.9074 | last_lr: 6.25000e-05  bad_ep: 4  cdwn: 0                              \n",
      " 21:28:15 | Ep: 261/ 600 | Trn loss:  0.030635 - Acc: 99.5602 | Val loss:  1.176528 - Acc: 80.9352 | last_lr: 6.25000e-05  bad_ep: 5  cdwn: 0                              \n",
      " 21:28:30 | Ep: 262/ 600 | Trn loss:  0.030156 - Acc: 99.5765 | Val loss:  1.177783 - Acc: 80.9444 | last_lr: 6.25000e-05  bad_ep: 6  cdwn: 0                              \n",
      " 21:28:44 | Ep: 263/ 600 | Trn loss:  0.029691 - Acc: 99.5891 | Val loss:  1.179067 - Acc: 80.9722 | last_lr: 6.25000e-05  bad_ep: 7  cdwn: 0                              \n",
      " 21:28:59 | Ep: 264/ 600 | Trn loss:  0.029239 - Acc: 99.6136 | Val loss:  1.180379 - Acc: 80.9630 | last_lr: 6.25000e-05  bad_ep: 8  cdwn: 0                              \n",
      " 21:29:14 | Ep: 265/ 600 | Trn loss:  0.028802 - Acc: 99.6295 | Val loss:  1.181717 - Acc: 81.0000 | last_lr: 6.25000e-05  bad_ep: 9  cdwn: 0                              \n",
      " 21:29:29 | Ep: 266/ 600 | Trn loss:  0.028377 - Acc: 99.6461 | Val loss:  1.183082 - Acc: 81.0231 | last_lr: 6.25000e-05  bad_ep: 10  cdwn: 0                             \n",
      " 21:29:43 | Ep: 267/ 600 | Trn loss:  0.027964 - Acc: 99.6605 | Val loss:  1.184473 - Acc: 81.0463 | last_lr: 6.25000e-05  bad_ep: 11  cdwn: 0                             \n",
      " 21:29:58 | Ep: 268/ 600 | Trn loss:  0.027563 - Acc: 99.6721 | Val loss:  1.185891 - Acc: 81.0278 | last_lr: 6.25000e-05  bad_ep: 12  cdwn: 0                             \n",
      " 21:30:13 | Ep: 269/ 600 | Trn loss:  0.027174 - Acc: 99.6851 | Val loss:  1.187336 - Acc: 81.0417 | last_lr: 6.25000e-05  bad_ep: 13  cdwn: 0                             \n",
      " 21:30:28 | Ep: 270/ 600 | Trn loss:  0.026794 - Acc: 99.6981 | Val loss:  1.188807 - Acc: 81.0417 | last_lr: 6.25000e-05  bad_ep: 14  cdwn: 0                             \n",
      " 21:30:42 | Ep: 271/ 600 | Trn loss:  0.026424 - Acc: 99.7074 | Val loss:  1.190305 - Acc: 81.0417 | last_lr: 6.25000e-05  bad_ep: 15  cdwn: 0                             \n",
      " 21:30:57 | Ep: 272/ 600 | Trn loss:  0.026064 - Acc: 99.7197 | Val loss:  1.191830 - Acc: 81.0139 | last_lr: 6.25000e-05  bad_ep: 16  cdwn: 0                             \n",
      " 21:31:12 | Ep: 273/ 600 | Trn loss:  0.025713 - Acc: 99.7298 | Val loss:  1.193381 - Acc: 81.0231 | last_lr: 6.25000e-05  bad_ep: 17  cdwn: 0                             \n",
      " 21:31:26 | Ep: 274/ 600 | Trn loss:  0.025371 - Acc: 99.7406 | Val loss:  1.194958 - Acc: 81.0185 | last_lr: 6.25000e-05  bad_ep: 18  cdwn: 0                             \n",
      " 21:31:41 | Ep: 275/ 600 | Trn loss:  0.025036 - Acc: 99.7482 | Val loss:  1.196561 - Acc: 81.0139 | last_lr: 6.25000e-05  bad_ep: 19  cdwn: 0                             \n",
      " 21:31:56 | Ep: 276/ 600 | Trn loss:  0.024709 - Acc: 99.7612 | Val loss:  1.198191 - Acc: 81.0370 | last_lr: 6.25000e-05  bad_ep: 20  cdwn: 0                             \n",
      " 21:32:10 | Ep: 277/ 600 | Trn loss:  0.024390 - Acc: 99.7702 | Val loss:  1.199846 - Acc: 81.0509 | last_lr: 6.25000e-05  bad_ep: 21  cdwn: 0                             \n",
      " 21:32:25 | Ep: 278/ 600 | Trn loss:  0.024077 - Acc: 99.7807 | Val loss:  1.201526 - Acc: 81.0648 | last_lr: 6.25000e-05  bad_ep: 22  cdwn: 0                             \n",
      " 21:32:39 | Ep: 279/ 600 | Trn loss:  0.023771 - Acc: 99.7864 | Val loss:  1.203231 - Acc: 81.0694 | last_lr: 6.25000e-05  bad_ep: 23  cdwn: 0                             \n",
      " 21:32:54 | Ep: 280/ 600 | Trn loss:  0.023472 - Acc: 99.7940 | Val loss:  1.204960 - Acc: 81.0833 | last_lr: 6.25000e-05  bad_ep: 24  cdwn: 0                             \n",
      " 21:33:09 | Ep: 281/ 600 | Trn loss:  0.023178 - Acc: 99.8016 | Val loss:  1.206712 - Acc: 81.0787 | last_lr: 6.25000e-05  bad_ep: 25  cdwn: 0                             \n",
      " 21:33:23 | Ep: 282/ 600 | Trn loss:  0.022891 - Acc: 99.8099 | Val loss:  1.208488 - Acc: 81.0880 | last_lr: 6.25000e-05  bad_ep: 26  cdwn: 0                             \n",
      " 21:33:38 | Ep: 283/ 600 | Trn loss:  0.022609 - Acc: 99.8175 | Val loss:  1.210286 - Acc: 81.0787 | last_lr: 6.25000e-05  bad_ep: 27  cdwn: 0                             \n",
      " 21:33:53 | Ep: 284/ 600 | Trn loss:  0.022332 - Acc: 99.8240 | Val loss:  1.212107 - Acc: 81.0741 | last_lr: 6.25000e-05  bad_ep: 28  cdwn: 0                             \n",
      " 21:34:07 | Ep: 285/ 600 | Trn loss:  0.022060 - Acc: 99.8312 | Val loss:  1.213949 - Acc: 81.0926 | last_lr: 6.25000e-05  bad_ep: 29  cdwn: 0                             \n",
      " 21:34:22 | Ep: 286/ 600 | Trn loss:  0.021793 - Acc: 99.8351 | Val loss:  1.215811 - Acc: 81.1019 | last_lr: 6.25000e-05  bad_ep: 30  cdwn: 0                             \n",
      " 21:34:37 | Ep: 287/ 600 | Trn loss:  0.021531 - Acc: 99.8402 | Val loss:  1.217694 - Acc: 81.1157 | last_lr: 6.25000e-05  bad_ep: 31  cdwn: 0                             \n",
      " 21:34:51 | Ep: 288/ 600 | Trn loss:  0.021273 - Acc: 99.8445 | Val loss:  1.219597 - Acc: 81.0972 | last_lr: 6.25000e-05  bad_ep: 32  cdwn: 0                             \n",
      " 21:35:05 | Ep: 289/ 600 | Trn loss:  0.021019 - Acc: 99.8492 | Val loss:  1.221516 - Acc: 81.0880 | last_lr: 6.25000e-05  bad_ep: 33  cdwn: 0                             \n",
      " 21:35:20 | Ep: 290/ 600 | Trn loss:  0.020770 - Acc: 99.8543 | Val loss:  1.223456 - Acc: 81.1019 | last_lr: 6.25000e-05  bad_ep: 34  cdwn: 0                             \n",
      " 21:35:34 | Ep: 291/ 600 | Trn loss:  0.020524 - Acc: 99.8604 | Val loss:  1.225414 - Acc: 81.1389 | last_lr: 6.25000e-05  bad_ep: 35  cdwn: 0                             \n",
      " 21:35:48 | Ep: 292/ 600 | Trn loss:  0.020283 - Acc: 99.8644 | Val loss:  1.227388 - Acc: 81.1343 | last_lr: 6.25000e-05  bad_ep: 36  cdwn: 0                             \n",
      " 21:36:03 | Ep: 293/ 600 | Trn loss:  0.020045 - Acc: 99.8683 | Val loss:  1.229380 - Acc: 81.1065 | last_lr: 6.25000e-05  bad_ep: 37  cdwn: 0                             \n",
      " 21:36:17 | Ep: 294/ 600 | Trn loss:  0.019810 - Acc: 99.8723 | Val loss:  1.231388 - Acc: 81.1296 | last_lr: 6.25000e-05  bad_ep: 38  cdwn: 0                             \n",
      " 21:36:31 | Ep: 295/ 600 | Trn loss:  0.019579 - Acc: 99.8781 | Val loss:  1.233413 - Acc: 81.1250 | last_lr: 6.25000e-05  bad_ep: 39  cdwn: 0                             \n",
      " 21:36:46 | Ep: 296/ 600 | Trn loss:  0.019352 - Acc: 99.8817 | Val loss:  1.235454 - Acc: 81.1435 | last_lr: 6.25000e-05  bad_ep: 40  cdwn: 0                             \n",
      " 21:37:00 | Ep: 297/ 600 | Trn loss:  0.019127 - Acc: 99.8853 | Val loss:  1.237511 - Acc: 81.1620 | last_lr: 6.25000e-05  bad_ep: 41  cdwn: 0                             \n",
      " 21:37:14 | Ep: 298/ 600 | Trn loss:  0.018906 - Acc: 99.8907 | Val loss:  1.239582 - Acc: 81.1528 | last_lr: 6.25000e-05  bad_ep: 42  cdwn: 0                             \n",
      " 21:37:29 | Ep: 299/ 600 | Trn loss:  0.018687 - Acc: 99.8936 | Val loss:  1.241668 - Acc: 81.1296 | last_lr: 6.25000e-05  bad_ep: 43  cdwn: 0                             \n",
      " 21:37:43 | Ep: 300/ 600 | Trn loss:  0.018472 - Acc: 99.8968 | Val loss:  1.243770 - Acc: 81.1296 | last_lr: 6.25000e-05  bad_ep: 44  cdwn: 0                             \n",
      " 21:37:57 | Ep: 301/ 600 | Trn loss:  0.018260 - Acc: 99.9001 | Val loss:  1.245886 - Acc: 81.1435 | last_lr: 6.25000e-05  bad_ep: 45  cdwn: 0                             \n",
      " 21:38:11 | Ep: 302/ 600 | Trn loss:  0.018050 - Acc: 99.9022 | Val loss:  1.248016 - Acc: 81.1574 | last_lr: 6.25000e-05  bad_ep: 46  cdwn: 0                             \n",
      " 21:38:26 | Ep: 303/ 600 | Trn loss:  0.017843 - Acc: 99.9048 | Val loss:  1.250160 - Acc: 81.1620 | last_lr: 6.25000e-05  bad_ep: 47  cdwn: 0                             \n",
      " 21:38:40 | Ep: 304/ 600 | Trn loss:  0.017638 - Acc: 99.9091 | Val loss:  1.252318 - Acc: 81.1713 | last_lr: 6.25000e-05  bad_ep: 48  cdwn: 0                             \n",
      " 21:38:54 | Ep: 305/ 600 | Trn loss:  0.017436 - Acc: 99.9123 | Val loss:  1.254489 - Acc: 81.1667 | last_lr: 6.25000e-05  bad_ep: 49  cdwn: 0                             \n",
      " 21:39:09 | Ep: 306/ 600 | Trn loss:  0.017237 - Acc: 99.9156 | Val loss:  1.256674 - Acc: 81.1667 | last_lr: 6.25000e-05  bad_ep: 50  cdwn: 0                             \n",
      " 21:39:23 | Ep: 307/ 600 | Trn loss:  0.017040 - Acc: 99.9185 | Val loss:  1.258872 - Acc: 81.1713 | last_lr: 3.12500e-05  bad_ep: 0  cdwn: 10                             \n",
      " 21:39:37 | Ep: 308/ 600 | Trn loss:  0.019738 - Acc: 99.8171 | Val loss:  1.263854 - Acc: 81.3380 | last_lr: 3.12500e-05  bad_ep: 0  cdwn: 9                              \n",
      " 21:39:51 | Ep: 309/ 600 | Trn loss:  0.019973 - Acc: 99.8113 | Val loss:  1.265488 - Acc: 81.4167 | last_lr: 3.12500e-05  bad_ep: 0  cdwn: 8                              \n",
      " 21:40:06 | Ep: 310/ 600 | Trn loss:  0.019882 - Acc: 99.8099 | Val loss:  1.266971 - Acc: 81.4676 | last_lr: 3.12500e-05  bad_ep: 0  cdwn: 7                              \n",
      " 21:40:20 | Ep: 311/ 600 | Trn loss:  0.019751 - Acc: 99.8113 | Val loss:  1.268215 - Acc: 81.5278 | last_lr: 3.12500e-05  bad_ep: 0  cdwn: 6                              \n",
      " 21:40:35 | Ep: 312/ 600 | Trn loss:  0.019592 - Acc: 99.8167 | Val loss:  1.269277 - Acc: 81.5694 | last_lr: 3.12500e-05  bad_ep: 0  cdwn: 5                              \n",
      " 21:40:49 | Ep: 313/ 600 | Trn loss:  0.019413 - Acc: 99.8203 | Val loss:  1.270211 - Acc: 81.5787 | last_lr: 3.12500e-05  bad_ep: 0  cdwn: 4                              \n",
      " 21:41:03 | Ep: 314/ 600 | Trn loss:  0.019224 - Acc: 99.8261 | Val loss:  1.271066 - Acc: 81.5880 | last_lr: 3.12500e-05  bad_ep: 0  cdwn: 3                              \n",
      " 21:41:18 | Ep: 315/ 600 | Trn loss:  0.019028 - Acc: 99.8301 | Val loss:  1.271878 - Acc: 81.5833 | last_lr: 3.12500e-05  bad_ep: 0  cdwn: 2                              \n",
      " 21:41:33 | Ep: 316/ 600 | Trn loss:  0.018831 - Acc: 99.8377 | Val loss:  1.272674 - Acc: 81.5602 | last_lr: 3.12500e-05  bad_ep: 0  cdwn: 1                              \n",
      " 21:41:47 | Ep: 317/ 600 | Trn loss:  0.018634 - Acc: 99.8409 | Val loss:  1.273468 - Acc: 81.5602 | last_lr: 3.12500e-05  bad_ep: 0  cdwn: 0                              \n",
      " 21:42:02 | Ep: 318/ 600 | Trn loss:  0.018438 - Acc: 99.8463 | Val loss:  1.274271 - Acc: 81.5556 | last_lr: 3.12500e-05  bad_ep: 1  cdwn: 0                              \n",
      " 21:42:17 | Ep: 319/ 600 | Trn loss:  0.018245 - Acc: 99.8528 | Val loss:  1.275084 - Acc: 81.5324 | last_lr: 3.12500e-05  bad_ep: 2  cdwn: 0                              \n",
      " 21:42:31 | Ep: 320/ 600 | Trn loss:  0.018056 - Acc: 99.8568 | Val loss:  1.275913 - Acc: 81.5046 | last_lr: 3.12500e-05  bad_ep: 3  cdwn: 0                              \n",
      " 21:42:46 | Ep: 321/ 600 | Trn loss:  0.017870 - Acc: 99.8618 | Val loss:  1.276758 - Acc: 81.4630 | last_lr: 3.12500e-05  bad_ep: 4  cdwn: 0                              \n",
      " 21:43:01 | Ep: 322/ 600 | Trn loss:  0.017688 - Acc: 99.8658 | Val loss:  1.277619 - Acc: 81.4676 | last_lr: 3.12500e-05  bad_ep: 5  cdwn: 0                              \n",
      " 21:43:15 | Ep: 323/ 600 | Trn loss:  0.017510 - Acc: 99.8712 | Val loss:  1.278494 - Acc: 81.4676 | last_lr: 3.12500e-05  bad_ep: 6  cdwn: 0                              \n",
      " 21:43:29 | Ep: 324/ 600 | Trn loss:  0.017336 - Acc: 99.8763 | Val loss:  1.279384 - Acc: 81.4583 | last_lr: 3.12500e-05  bad_ep: 7  cdwn: 0                              \n",
      " 21:43:43 | Ep: 325/ 600 | Trn loss:  0.017165 - Acc: 99.8813 | Val loss:  1.280289 - Acc: 81.4583 | last_lr: 3.12500e-05  bad_ep: 8  cdwn: 0                              \n",
      " 21:43:57 | Ep: 326/ 600 | Trn loss:  0.016999 - Acc: 99.8871 | Val loss:  1.281207 - Acc: 81.4537 | last_lr: 3.12500e-05  bad_ep: 9  cdwn: 0                              \n",
      " 21:44:12 | Ep: 327/ 600 | Trn loss:  0.016835 - Acc: 99.8900 | Val loss:  1.282139 - Acc: 81.4444 | last_lr: 3.12500e-05  bad_ep: 10  cdwn: 0                             \n",
      " 21:44:27 | Ep: 328/ 600 | Trn loss:  0.016675 - Acc: 99.8939 | Val loss:  1.283083 - Acc: 81.4306 | last_lr: 3.12500e-05  bad_ep: 11  cdwn: 0                             \n",
      " 21:44:41 | Ep: 329/ 600 | Trn loss:  0.016519 - Acc: 99.8965 | Val loss:  1.284040 - Acc: 81.4306 | last_lr: 3.12500e-05  bad_ep: 12  cdwn: 0                             \n",
      " 21:44:56 | Ep: 330/ 600 | Trn loss:  0.016366 - Acc: 99.8997 | Val loss:  1.285008 - Acc: 81.4259 | last_lr: 3.12500e-05  bad_ep: 13  cdwn: 0                             \n",
      " 21:45:11 | Ep: 331/ 600 | Trn loss:  0.016215 - Acc: 99.9048 | Val loss:  1.285989 - Acc: 81.4259 | last_lr: 3.12500e-05  bad_ep: 14  cdwn: 0                             \n",
      " 21:45:26 | Ep: 332/ 600 | Trn loss:  0.016068 - Acc: 99.9084 | Val loss:  1.286981 - Acc: 81.4259 | last_lr: 3.12500e-05  bad_ep: 15  cdwn: 0                             \n",
      " 21:45:41 | Ep: 333/ 600 | Trn loss:  0.015924 - Acc: 99.9109 | Val loss:  1.287983 - Acc: 81.4306 | last_lr: 3.12500e-05  bad_ep: 16  cdwn: 0                             \n",
      " 21:45:55 | Ep: 334/ 600 | Trn loss:  0.015782 - Acc: 99.9141 | Val loss:  1.288996 - Acc: 81.4352 | last_lr: 3.12500e-05  bad_ep: 17  cdwn: 0                             \n",
      " 21:46:09 | Ep: 335/ 600 | Trn loss:  0.015643 - Acc: 99.9192 | Val loss:  1.290021 - Acc: 81.4120 | last_lr: 3.12500e-05  bad_ep: 18  cdwn: 0                             \n",
      " 21:46:24 | Ep: 336/ 600 | Trn loss:  0.015506 - Acc: 99.9246 | Val loss:  1.291054 - Acc: 81.3981 | last_lr: 3.12500e-05  bad_ep: 19  cdwn: 0                             \n",
      " 21:46:38 | Ep: 337/ 600 | Trn loss:  0.015372 - Acc: 99.9268 | Val loss:  1.292098 - Acc: 81.3843 | last_lr: 3.12500e-05  bad_ep: 20  cdwn: 0                             \n",
      " 21:46:52 | Ep: 338/ 600 | Trn loss:  0.015240 - Acc: 99.9286 | Val loss:  1.293151 - Acc: 81.3889 | last_lr: 3.12500e-05  bad_ep: 21  cdwn: 0                             \n",
      " 21:47:06 | Ep: 339/ 600 | Trn loss:  0.015111 - Acc: 99.9318 | Val loss:  1.294213 - Acc: 81.3796 | last_lr: 3.12500e-05  bad_ep: 22  cdwn: 0                             \n",
      " 21:47:20 | Ep: 340/ 600 | Trn loss:  0.014983 - Acc: 99.9351 | Val loss:  1.295285 - Acc: 81.3704 | last_lr: 3.12500e-05  bad_ep: 23  cdwn: 0                             \n",
      " 21:47:35 | Ep: 341/ 600 | Trn loss:  0.014858 - Acc: 99.9380 | Val loss:  1.296365 - Acc: 81.3611 | last_lr: 3.12500e-05  bad_ep: 24  cdwn: 0                             \n",
      " 21:47:49 | Ep: 342/ 600 | Trn loss:  0.014734 - Acc: 99.9405 | Val loss:  1.297455 - Acc: 81.3519 | last_lr: 3.12500e-05  bad_ep: 25  cdwn: 0                             \n",
      " 21:48:03 | Ep: 343/ 600 | Trn loss:  0.014613 - Acc: 99.9416 | Val loss:  1.298552 - Acc: 81.3472 | last_lr: 3.12500e-05  bad_ep: 26  cdwn: 0                             \n",
      " 21:48:17 | Ep: 344/ 600 | Trn loss:  0.014493 - Acc: 99.9434 | Val loss:  1.299658 - Acc: 81.3194 | last_lr: 3.12500e-05  bad_ep: 27  cdwn: 0                             \n",
      " 21:48:31 | Ep: 345/ 600 | Trn loss:  0.014375 - Acc: 99.9452 | Val loss:  1.300772 - Acc: 81.3241 | last_lr: 3.12500e-05  bad_ep: 28  cdwn: 0                             \n",
      " 21:48:45 | Ep: 346/ 600 | Trn loss:  0.014259 - Acc: 99.9466 | Val loss:  1.301893 - Acc: 81.3287 | last_lr: 3.12500e-05  bad_ep: 29  cdwn: 0                             \n",
      " 21:49:00 | Ep: 347/ 600 | Trn loss:  0.014144 - Acc: 99.9477 | Val loss:  1.303022 - Acc: 81.3472 | last_lr: 3.12500e-05  bad_ep: 30  cdwn: 0                             \n",
      " 21:49:15 | Ep: 348/ 600 | Trn loss:  0.014031 - Acc: 99.9481 | Val loss:  1.304159 - Acc: 81.3333 | last_lr: 3.12500e-05  bad_ep: 31  cdwn: 0                             \n",
      " 21:49:29 | Ep: 349/ 600 | Trn loss:  0.013919 - Acc: 99.9506 | Val loss:  1.305304 - Acc: 81.3194 | last_lr: 3.12500e-05  bad_ep: 32  cdwn: 0                             \n",
      " 21:49:43 | Ep: 350/ 600 | Trn loss:  0.013809 - Acc: 99.9527 | Val loss:  1.306455 - Acc: 81.3148 | last_lr: 3.12500e-05  bad_ep: 33  cdwn: 0                             \n",
      " 21:49:58 | Ep: 351/ 600 | Trn loss:  0.013701 - Acc: 99.9553 | Val loss:  1.307613 - Acc: 81.3194 | last_lr: 3.12500e-05  bad_ep: 34  cdwn: 0                             \n",
      " 21:50:12 | Ep: 352/ 600 | Trn loss:  0.013593 - Acc: 99.9571 | Val loss:  1.308778 - Acc: 81.3194 | last_lr: 3.12500e-05  bad_ep: 35  cdwn: 0                             \n",
      " 21:50:26 | Ep: 353/ 600 | Trn loss:  0.013487 - Acc: 99.9596 | Val loss:  1.309950 - Acc: 81.3194 | last_lr: 3.12500e-05  bad_ep: 36  cdwn: 0                             \n",
      " 21:50:41 | Ep: 354/ 600 | Trn loss:  0.013383 - Acc: 99.9603 | Val loss:  1.311128 - Acc: 81.2917 | last_lr: 3.12500e-05  bad_ep: 37  cdwn: 0                             \n",
      " 21:50:55 | Ep: 355/ 600 | Trn loss:  0.013279 - Acc: 99.9621 | Val loss:  1.312313 - Acc: 81.2963 | last_lr: 3.12500e-05  bad_ep: 38  cdwn: 0                             \n",
      " 21:51:10 | Ep: 356/ 600 | Trn loss:  0.013177 - Acc: 99.9632 | Val loss:  1.313504 - Acc: 81.2917 | last_lr: 3.12500e-05  bad_ep: 39  cdwn: 0                             \n",
      " 21:51:24 | Ep: 357/ 600 | Trn loss:  0.013076 - Acc: 99.9639 | Val loss:  1.314701 - Acc: 81.3009 | last_lr: 3.12500e-05  bad_ep: 40  cdwn: 0                             \n",
      " 21:51:39 | Ep: 358/ 600 | Trn loss:  0.012976 - Acc: 99.9650 | Val loss:  1.315904 - Acc: 81.3194 | last_lr: 3.12500e-05  bad_ep: 41  cdwn: 0                             \n",
      " 21:51:53 | Ep: 359/ 600 | Trn loss:  0.012877 - Acc: 99.9657 | Val loss:  1.317113 - Acc: 81.3194 | last_lr: 3.12500e-05  bad_ep: 42  cdwn: 0                             \n",
      " 21:52:08 | Ep: 360/ 600 | Trn loss:  0.012780 - Acc: 99.9665 | Val loss:  1.318327 - Acc: 81.3241 | last_lr: 3.12500e-05  bad_ep: 43  cdwn: 0                             \n",
      " 21:52:22 | Ep: 361/ 600 | Trn loss:  0.012683 - Acc: 99.9668 | Val loss:  1.319548 - Acc: 81.3241 | last_lr: 3.12500e-05  bad_ep: 44  cdwn: 0                             \n",
      " 21:52:37 | Ep: 362/ 600 | Trn loss:  0.012587 - Acc: 99.9675 | Val loss:  1.320774 - Acc: 81.3148 | last_lr: 3.12500e-05  bad_ep: 45  cdwn: 0                             \n",
      " 21:52:51 | Ep: 363/ 600 | Trn loss:  0.012493 - Acc: 99.9690 | Val loss:  1.322006 - Acc: 81.3148 | last_lr: 3.12500e-05  bad_ep: 46  cdwn: 0                             \n",
      " 21:53:06 | Ep: 364/ 600 | Trn loss:  0.012399 - Acc: 99.9697 | Val loss:  1.323242 - Acc: 81.3241 | last_lr: 3.12500e-05  bad_ep: 47  cdwn: 0                             \n",
      " 21:53:20 | Ep: 365/ 600 | Trn loss:  0.012306 - Acc: 99.9711 | Val loss:  1.324485 - Acc: 81.3241 | last_lr: 3.12500e-05  bad_ep: 48  cdwn: 0                             \n",
      " 21:53:35 | Ep: 366/ 600 | Trn loss:  0.012214 - Acc: 99.9726 | Val loss:  1.325732 - Acc: 81.3287 | last_lr: 3.12500e-05  bad_ep: 49  cdwn: 0                             \n",
      " 21:53:49 | Ep: 367/ 600 | Trn loss:  0.012124 - Acc: 99.9744 | Val loss:  1.326985 - Acc: 81.3333 | last_lr: 3.12500e-05  bad_ep: 50  cdwn: 0                             \n",
      " 21:54:04 | Ep: 368/ 600 | Trn loss:  0.012034 - Acc: 99.9758 | Val loss:  1.328243 - Acc: 81.3426 | last_lr: 1.56250e-05  bad_ep: 0  cdwn: 10                             \n",
      " 21:54:18 | Ep: 369/ 600 | Trn loss:  0.012870 - Acc: 99.9477 | Val loss:  1.328281 - Acc: 81.3519 | last_lr: 1.56250e-05  bad_ep: 0  cdwn: 9                              \n",
      " 21:54:33 | Ep: 370/ 600 | Trn loss:  0.012809 - Acc: 99.9481 | Val loss:  1.328646 - Acc: 81.3333 | last_lr: 1.56250e-05  bad_ep: 0  cdwn: 8                              \n",
      " 21:54:47 | Ep: 371/ 600 | Trn loss:  0.012702 - Acc: 99.9513 | Val loss:  1.329130 - Acc: 81.3287 | last_lr: 1.56250e-05  bad_ep: 0  cdwn: 7                              \n",
      " 21:55:02 | Ep: 372/ 600 | Trn loss:  0.012605 - Acc: 99.9531 | Val loss:  1.329656 - Acc: 81.3148 | last_lr: 1.56250e-05  bad_ep: 0  cdwn: 6                              \n",
      " 21:55:16 | Ep: 373/ 600 | Trn loss:  0.012514 - Acc: 99.9556 | Val loss:  1.330197 - Acc: 81.2917 | last_lr: 1.56250e-05  bad_ep: 0  cdwn: 5                              \n",
      " 21:55:30 | Ep: 374/ 600 | Trn loss:  0.012425 - Acc: 99.9585 | Val loss:  1.330744 - Acc: 81.3009 | last_lr: 1.56250e-05  bad_ep: 0  cdwn: 4                              \n",
      " 21:55:45 | Ep: 375/ 600 | Trn loss:  0.012340 - Acc: 99.9607 | Val loss:  1.331293 - Acc: 81.3102 | last_lr: 1.56250e-05  bad_ep: 0  cdwn: 3                              \n",
      " 21:55:59 | Ep: 376/ 600 | Trn loss:  0.012257 - Acc: 99.9610 | Val loss:  1.331842 - Acc: 81.3102 | last_lr: 1.56250e-05  bad_ep: 0  cdwn: 2                              \n",
      " 21:56:14 | Ep: 377/ 600 | Trn loss:  0.012177 - Acc: 99.9625 | Val loss:  1.332392 - Acc: 81.3102 | last_lr: 1.56250e-05  bad_ep: 0  cdwn: 1                              \n",
      " 21:56:29 | Ep: 378/ 600 | Trn loss:  0.012099 - Acc: 99.9643 | Val loss:  1.332942 - Acc: 81.3056 | last_lr: 1.56250e-05  bad_ep: 0  cdwn: 0                              \n",
      " 21:56:43 | Ep: 379/ 600 | Trn loss:  0.012024 - Acc: 99.9650 | Val loss:  1.333493 - Acc: 81.3056 | last_lr: 1.56250e-05  bad_ep: 1  cdwn: 0                              \n",
      " 21:56:57 | Ep: 380/ 600 | Trn loss:  0.011950 - Acc: 99.9657 | Val loss:  1.334045 - Acc: 81.3194 | last_lr: 1.56250e-05  bad_ep: 2  cdwn: 0                              \n",
      " 21:57:12 | Ep: 381/ 600 | Trn loss:  0.011878 - Acc: 99.9672 | Val loss:  1.334598 - Acc: 81.3241 | last_lr: 1.56250e-05  bad_ep: 3  cdwn: 0                              \n",
      " 21:57:26 | Ep: 382/ 600 | Trn loss:  0.011808 - Acc: 99.9683 | Val loss:  1.335154 - Acc: 81.3333 | last_lr: 1.56250e-05  bad_ep: 4  cdwn: 0                              \n",
      " 21:57:41 | Ep: 383/ 600 | Trn loss:  0.011740 - Acc: 99.9686 | Val loss:  1.335711 - Acc: 81.3241 | last_lr: 1.56250e-05  bad_ep: 5  cdwn: 0                              \n",
      " 21:57:55 | Ep: 384/ 600 | Trn loss:  0.011674 - Acc: 99.9690 | Val loss:  1.336271 - Acc: 81.3102 | last_lr: 1.56250e-05  bad_ep: 6  cdwn: 0                              \n",
      " 21:58:10 | Ep: 385/ 600 | Trn loss:  0.011608 - Acc: 99.9693 | Val loss:  1.336834 - Acc: 81.2870 | last_lr: 1.56250e-05  bad_ep: 7  cdwn: 0                              \n",
      " 21:58:24 | Ep: 386/ 600 | Trn loss:  0.011545 - Acc: 99.9701 | Val loss:  1.337399 - Acc: 81.2917 | last_lr: 1.56250e-05  bad_ep: 8  cdwn: 0                              \n",
      " 21:58:39 | Ep: 387/ 600 | Trn loss:  0.011482 - Acc: 99.9708 | Val loss:  1.337968 - Acc: 81.2870 | last_lr: 1.56250e-05  bad_ep: 9  cdwn: 0                              \n",
      " 21:58:53 | Ep: 388/ 600 | Trn loss:  0.011421 - Acc: 99.9715 | Val loss:  1.338539 - Acc: 81.2685 | last_lr: 1.56250e-05  bad_ep: 10  cdwn: 0                             \n",
      " 21:59:07 | Ep: 389/ 600 | Trn loss:  0.011361 - Acc: 99.9719 | Val loss:  1.339113 - Acc: 81.2731 | last_lr: 1.56250e-05  bad_ep: 11  cdwn: 0                             \n",
      " 21:59:22 | Ep: 390/ 600 | Trn loss:  0.011302 - Acc: 99.9729 | Val loss:  1.339691 - Acc: 81.2731 | last_lr: 1.56250e-05  bad_ep: 12  cdwn: 0                             \n",
      " 21:59:36 | Ep: 391/ 600 | Trn loss:  0.011243 - Acc: 99.9737 | Val loss:  1.340271 - Acc: 81.2870 | last_lr: 1.56250e-05  bad_ep: 13  cdwn: 0                             \n",
      " 21:59:51 | Ep: 392/ 600 | Trn loss:  0.011186 - Acc: 99.9751 | Val loss:  1.340855 - Acc: 81.2685 | last_lr: 1.56250e-05  bad_ep: 14  cdwn: 0                             \n",
      " 22:00:06 | Ep: 393/ 600 | Trn loss:  0.011130 - Acc: 99.9776 | Val loss:  1.341442 - Acc: 81.2778 | last_lr: 1.56250e-05  bad_ep: 15  cdwn: 0                             \n",
      " 22:00:20 | Ep: 394/ 600 | Trn loss:  0.011075 - Acc: 99.9787 | Val loss:  1.342032 - Acc: 81.2685 | last_lr: 1.56250e-05  bad_ep: 16  cdwn: 0                             \n",
      " 22:00:35 | Ep: 395/ 600 | Trn loss:  0.011020 - Acc: 99.9798 | Val loss:  1.342624 - Acc: 81.2731 | last_lr: 1.56250e-05  bad_ep: 17  cdwn: 0                             \n",
      " 22:00:49 | Ep: 396/ 600 | Trn loss:  0.010966 - Acc: 99.9802 | Val loss:  1.343220 - Acc: 81.2639 | last_lr: 1.56250e-05  bad_ep: 18  cdwn: 0                             \n",
      " 22:01:03 | Ep: 397/ 600 | Trn loss:  0.010913 - Acc: 99.9805 | Val loss:  1.343819 - Acc: 81.2593 | last_lr: 1.56250e-05  bad_ep: 19  cdwn: 0                             \n",
      " 22:01:17 | Ep: 398/ 600 | Trn loss:  0.010861 - Acc: 99.9816 | Val loss:  1.344421 - Acc: 81.2593 | last_lr: 1.56250e-05  bad_ep: 20  cdwn: 0                             \n",
      " 22:01:32 | Ep: 399/ 600 | Trn loss:  0.010809 - Acc: 99.9820 | Val loss:  1.345026 - Acc: 81.2500 | last_lr: 1.56250e-05  bad_ep: 21  cdwn: 0                             \n",
      " 22:01:46 | Ep: 400/ 600 | Trn loss:  0.010758 - Acc: 99.9823 | Val loss:  1.345634 - Acc: 81.2407 | last_lr: 1.56250e-05  bad_ep: 22  cdwn: 0                             \n",
      " 22:02:00 | Ep: 401/ 600 | Trn loss:  0.010708 - Acc: 99.9827 | Val loss:  1.346244 - Acc: 81.2407 | last_lr: 1.56250e-05  bad_ep: 23  cdwn: 0                             \n",
      " 22:02:14 | Ep: 402/ 600 | Trn loss:  0.010658 - Acc: 99.9830 | Val loss:  1.346858 - Acc: 81.2454 | last_lr: 1.56250e-05  bad_ep: 24  cdwn: 0                             \n",
      " 22:02:29 | Ep: 403/ 600 | Trn loss:  0.010608 - Acc: 99.9834 | Val loss:  1.347474 - Acc: 81.2593 | last_lr: 1.56250e-05  bad_ep: 25  cdwn: 0                             \n",
      " 22:02:43 | Ep: 404/ 600 | Trn loss:  0.010559 - Acc: 99.9838 | Val loss:  1.348092 - Acc: 81.2593 | last_lr: 1.56250e-05  bad_ep: 26  cdwn: 0                             \n",
      " 22:02:57 | Ep: 405/ 600 | Trn loss:  0.010511 - Acc: 99.9838 | Val loss:  1.348714 - Acc: 81.2500 | last_lr: 1.56250e-05  bad_ep: 27  cdwn: 0                             \n",
      " 22:03:11 | Ep: 406/ 600 | Trn loss:  0.010463 - Acc: 99.9845 | Val loss:  1.349337 - Acc: 81.2593 | last_lr: 1.56250e-05  bad_ep: 28  cdwn: 0                             \n",
      " 22:03:26 | Ep: 407/ 600 | Trn loss:  0.010416 - Acc: 99.9848 | Val loss:  1.349964 - Acc: 81.2685 | last_lr: 1.56250e-05  bad_ep: 29  cdwn: 0                             \n",
      " 22:03:40 | Ep: 408/ 600 | Trn loss:  0.010369 - Acc: 99.9852 | Val loss:  1.350593 - Acc: 81.2824 | last_lr: 1.56250e-05  bad_ep: 30  cdwn: 0                             \n",
      " 22:03:54 | Ep: 409/ 600 | Trn loss:  0.010323 - Acc: 99.9856 | Val loss:  1.351224 - Acc: 81.2778 | last_lr: 1.56250e-05  bad_ep: 31  cdwn: 0                             \n",
      " 22:04:08 | Ep: 410/ 600 | Trn loss:  0.010277 - Acc: 99.9856 | Val loss:  1.351857 - Acc: 81.2731 | last_lr: 1.56250e-05  bad_ep: 32  cdwn: 0                             \n",
      " 22:04:22 | Ep: 411/ 600 | Trn loss:  0.010231 - Acc: 99.9859 | Val loss:  1.352493 - Acc: 81.2870 | last_lr: 1.56250e-05  bad_ep: 33  cdwn: 0                             \n",
      " 22:04:36 | Ep: 412/ 600 | Trn loss:  0.010186 - Acc: 99.9859 | Val loss:  1.353132 - Acc: 81.2917 | last_lr: 1.56250e-05  bad_ep: 34  cdwn: 0                             \n",
      " 22:04:50 | Ep: 413/ 600 | Trn loss:  0.010141 - Acc: 99.9870 | Val loss:  1.353772 - Acc: 81.3009 | last_lr: 1.56250e-05  bad_ep: 35  cdwn: 0                             \n",
      " 22:05:05 | Ep: 414/ 600 | Trn loss:  0.010097 - Acc: 99.9874 | Val loss:  1.354415 - Acc: 81.2824 | last_lr: 1.56250e-05  bad_ep: 36  cdwn: 0                             \n",
      " 22:05:19 | Ep: 415/ 600 | Trn loss:  0.010053 - Acc: 99.9881 | Val loss:  1.355060 - Acc: 81.2824 | last_lr: 1.56250e-05  bad_ep: 37  cdwn: 0                             \n",
      " 22:05:33 | Ep: 416/ 600 | Trn loss:  0.010009 - Acc: 99.9881 | Val loss:  1.355707 - Acc: 81.2870 | last_lr: 1.56250e-05  bad_ep: 38  cdwn: 0                             \n",
      " 22:05:47 | Ep: 417/ 600 | Trn loss:  0.009966 - Acc: 99.9881 | Val loss:  1.356356 - Acc: 81.2778 | last_lr: 1.56250e-05  bad_ep: 39  cdwn: 0                             \n",
      " 22:06:02 | Ep: 418/ 600 | Trn loss:  0.009923 - Acc: 99.9885 | Val loss:  1.357007 - Acc: 81.2778 | last_lr: 1.56250e-05  bad_ep: 40  cdwn: 0                             \n",
      " 22:06:16 | Ep: 419/ 600 | Trn loss:  0.009880 - Acc: 99.9888 | Val loss:  1.357661 - Acc: 81.2870 | last_lr: 1.56250e-05  bad_ep: 41  cdwn: 0                             \n",
      " 22:06:30 | Ep: 420/ 600 | Trn loss:  0.009837 - Acc: 99.9892 | Val loss:  1.358316 - Acc: 81.2824 | last_lr: 1.56250e-05  bad_ep: 42  cdwn: 0                             \n",
      " 22:06:44 | Ep: 421/ 600 | Trn loss:  0.009795 - Acc: 99.9892 | Val loss:  1.358974 - Acc: 81.2778 | last_lr: 1.56250e-05  bad_ep: 43  cdwn: 0                             \n",
      " 22:06:58 | Ep: 422/ 600 | Trn loss:  0.009754 - Acc: 99.9892 | Val loss:  1.359633 - Acc: 81.2731 | last_lr: 1.56250e-05  bad_ep: 44  cdwn: 0                             \n",
      " 22:07:13 | Ep: 423/ 600 | Trn loss:  0.009712 - Acc: 99.9892 | Val loss:  1.360294 - Acc: 81.2639 | last_lr: 1.56250e-05  bad_ep: 45  cdwn: 0                             \n",
      " 22:07:27 | Ep: 424/ 600 | Trn loss:  0.009671 - Acc: 99.9895 | Val loss:  1.360958 - Acc: 81.2685 | last_lr: 1.56250e-05  bad_ep: 46  cdwn: 0                             \n",
      " 22:07:41 | Ep: 425/ 600 | Trn loss:  0.009630 - Acc: 99.9899 | Val loss:  1.361622 - Acc: 81.2824 | last_lr: 1.56250e-05  bad_ep: 47  cdwn: 0                             \n",
      " 22:07:55 | Ep: 426/ 600 | Trn loss:  0.009589 - Acc: 99.9899 | Val loss:  1.362289 - Acc: 81.2824 | last_lr: 1.56250e-05  bad_ep: 48  cdwn: 0                             \n",
      " 22:08:09 | Ep: 427/ 600 | Trn loss:  0.009549 - Acc: 99.9899 | Val loss:  1.362958 - Acc: 81.2731 | last_lr: 1.56250e-05  bad_ep: 49  cdwn: 0                             \n",
      " 22:08:24 | Ep: 428/ 600 | Trn loss:  0.009509 - Acc: 99.9903 | Val loss:  1.363629 - Acc: 81.2685 | last_lr: 1.56250e-05  bad_ep: 50  cdwn: 0                             \n",
      " 22:08:38 | Ep: 429/ 600 | Trn loss:  0.009469 - Acc: 99.9903 | Val loss:  1.364301 - Acc: 81.2500 | last_lr: 7.81250e-06  bad_ep: 0  cdwn: 10                             \n",
      " 22:08:52 | Ep: 430/ 600 | Trn loss:  0.009603 - Acc: 99.9841 | Val loss:  1.363018 - Acc: 81.2778 | last_lr: 7.81250e-06  bad_ep: 0  cdwn: 9                              \n",
      " 22:09:07 | Ep: 431/ 600 | Trn loss:  0.009483 - Acc: 99.9870 | Val loss:  1.363324 - Acc: 81.2731 | last_lr: 7.81250e-06  bad_ep: 0  cdwn: 8                              \n",
      " 22:09:21 | Ep: 432/ 600 | Trn loss:  0.009427 - Acc: 99.9888 | Val loss:  1.363654 - Acc: 81.2731 | last_lr: 7.81250e-06  bad_ep: 0  cdwn: 7                              \n",
      " 22:09:36 | Ep: 433/ 600 | Trn loss:  0.009382 - Acc: 99.9885 | Val loss:  1.363996 - Acc: 81.2824 | last_lr: 7.81250e-06  bad_ep: 0  cdwn: 6                              \n",
      " 22:09:50 | Ep: 434/ 600 | Trn loss:  0.009344 - Acc: 99.9895 | Val loss:  1.364344 - Acc: 81.2731 | last_lr: 7.81250e-06  bad_ep: 0  cdwn: 5                              \n",
      " 22:10:05 | Ep: 435/ 600 | Trn loss:  0.009308 - Acc: 99.9895 | Val loss:  1.364696 - Acc: 81.2685 | last_lr: 7.81250e-06  bad_ep: 0  cdwn: 4                              \n",
      " 22:10:19 | Ep: 436/ 600 | Trn loss:  0.009275 - Acc: 99.9903 | Val loss:  1.365050 - Acc: 81.2731 | last_lr: 7.81250e-06  bad_ep: 0  cdwn: 3                              \n",
      " 22:10:33 | Ep: 437/ 600 | Trn loss:  0.009244 - Acc: 99.9903 | Val loss:  1.365405 - Acc: 81.2639 | last_lr: 7.81250e-06  bad_ep: 0  cdwn: 2                              \n",
      " 22:10:48 | Ep: 438/ 600 | Trn loss:  0.009214 - Acc: 99.9906 | Val loss:  1.365760 - Acc: 81.2685 | last_lr: 7.81250e-06  bad_ep: 0  cdwn: 1                              \n",
      " 22:11:02 | Ep: 439/ 600 | Trn loss:  0.009185 - Acc: 99.9906 | Val loss:  1.366116 - Acc: 81.2685 | last_lr: 7.81250e-06  bad_ep: 0  cdwn: 0                              \n",
      " 22:11:17 | Ep: 440/ 600 | Trn loss:  0.009157 - Acc: 99.9906 | Val loss:  1.366473 - Acc: 81.2731 | last_lr: 7.81250e-06  bad_ep: 1  cdwn: 0                              \n",
      " 22:11:32 | Ep: 441/ 600 | Trn loss:  0.009130 - Acc: 99.9906 | Val loss:  1.366830 - Acc: 81.2778 | last_lr: 7.81250e-06  bad_ep: 2  cdwn: 0                              \n",
      " 22:11:46 | Ep: 442/ 600 | Trn loss:  0.009104 - Acc: 99.9917 | Val loss:  1.367186 - Acc: 81.2824 | last_lr: 7.81250e-06  bad_ep: 3  cdwn: 0                              \n",
      " 22:12:01 | Ep: 443/ 600 | Trn loss:  0.009078 - Acc: 99.9917 | Val loss:  1.367544 - Acc: 81.2778 | last_lr: 7.81250e-06  bad_ep: 4  cdwn: 0                              \n",
      " 22:12:15 | Ep: 444/ 600 | Trn loss:  0.009053 - Acc: 99.9917 | Val loss:  1.367901 - Acc: 81.2778 | last_lr: 7.81250e-06  bad_ep: 5  cdwn: 0                              \n",
      " 22:12:29 | Ep: 445/ 600 | Trn loss:  0.009028 - Acc: 99.9917 | Val loss:  1.368259 - Acc: 81.2824 | last_lr: 7.81250e-06  bad_ep: 6  cdwn: 0                              \n",
      " 22:12:44 | Ep: 446/ 600 | Trn loss:  0.009003 - Acc: 99.9917 | Val loss:  1.368617 - Acc: 81.2824 | last_lr: 7.81250e-06  bad_ep: 7  cdwn: 0                              \n",
      " 22:12:58 | Ep: 447/ 600 | Trn loss:  0.008979 - Acc: 99.9917 | Val loss:  1.368976 - Acc: 81.2731 | last_lr: 7.81250e-06  bad_ep: 8  cdwn: 0                              \n",
      " 22:13:12 | Ep: 448/ 600 | Trn loss:  0.008955 - Acc: 99.9917 | Val loss:  1.369335 - Acc: 81.2731 | last_lr: 7.81250e-06  bad_ep: 9  cdwn: 0                              \n",
      " 22:13:26 | Ep: 449/ 600 | Trn loss:  0.008932 - Acc: 99.9921 | Val loss:  1.369694 - Acc: 81.2685 | last_lr: 7.81250e-06  bad_ep: 10  cdwn: 0                             \n",
      " 22:13:41 | Ep: 450/ 600 | Trn loss:  0.008909 - Acc: 99.9921 | Val loss:  1.370054 - Acc: 81.2639 | last_lr: 7.81250e-06  bad_ep: 11  cdwn: 0                             \n",
      " 22:13:55 | Ep: 451/ 600 | Trn loss:  0.008886 - Acc: 99.9921 | Val loss:  1.370414 - Acc: 81.2593 | last_lr: 7.81250e-06  bad_ep: 12  cdwn: 0                             \n",
      " 22:14:09 | Ep: 452/ 600 | Trn loss:  0.008863 - Acc: 99.9924 | Val loss:  1.370774 - Acc: 81.2685 | last_lr: 7.81250e-06  bad_ep: 13  cdwn: 0                             \n",
      " 22:14:24 | Ep: 453/ 600 | Trn loss:  0.008840 - Acc: 99.9924 | Val loss:  1.371135 - Acc: 81.2685 | last_lr: 7.81250e-06  bad_ep: 14  cdwn: 0                             \n",
      " 22:14:38 | Ep: 454/ 600 | Trn loss:  0.008818 - Acc: 99.9924 | Val loss:  1.371497 - Acc: 81.2639 | last_lr: 7.81250e-06  bad_ep: 15  cdwn: 0                             \n",
      " 22:14:53 | Ep: 455/ 600 | Trn loss:  0.008796 - Acc: 99.9924 | Val loss:  1.371858 - Acc: 81.2593 | last_lr: 7.81250e-06  bad_ep: 16  cdwn: 0                             \n",
      " 22:15:07 | Ep: 456/ 600 | Trn loss:  0.008774 - Acc: 99.9924 | Val loss:  1.372221 - Acc: 81.2685 | last_lr: 7.81250e-06  bad_ep: 17  cdwn: 0                             \n",
      " 22:15:21 | Ep: 457/ 600 | Trn loss:  0.008752 - Acc: 99.9928 | Val loss:  1.372583 - Acc: 81.2824 | last_lr: 7.81250e-06  bad_ep: 18  cdwn: 0                             \n",
      " 22:15:36 | Ep: 458/ 600 | Trn loss:  0.008731 - Acc: 99.9928 | Val loss:  1.372946 - Acc: 81.2963 | last_lr: 7.81250e-06  bad_ep: 19  cdwn: 0                             \n",
      " 22:15:50 | Ep: 459/ 600 | Trn loss:  0.008709 - Acc: 99.9931 | Val loss:  1.373310 - Acc: 81.2963 | last_lr: 7.81250e-06  bad_ep: 20  cdwn: 0                             \n",
      " 22:16:05 | Ep: 460/ 600 | Trn loss:  0.008688 - Acc: 99.9931 | Val loss:  1.373674 - Acc: 81.2963 | last_lr: 7.81250e-06  bad_ep: 21  cdwn: 0                             \n",
      " 22:16:19 | Ep: 461/ 600 | Trn loss:  0.008667 - Acc: 99.9931 | Val loss:  1.374039 - Acc: 81.3009 | last_lr: 7.81250e-06  bad_ep: 22  cdwn: 0                             \n",
      " 22:16:33 | Ep: 462/ 600 | Trn loss:  0.008646 - Acc: 99.9931 | Val loss:  1.374403 - Acc: 81.2963 | last_lr: 7.81250e-06  bad_ep: 23  cdwn: 0                             \n",
      " 22:16:48 | Ep: 463/ 600 | Trn loss:  0.008625 - Acc: 99.9931 | Val loss:  1.374769 - Acc: 81.2963 | last_lr: 7.81250e-06  bad_ep: 24  cdwn: 0                             \n",
      " 22:17:02 | Ep: 464/ 600 | Trn loss:  0.008605 - Acc: 99.9931 | Val loss:  1.375134 - Acc: 81.2917 | last_lr: 7.81250e-06  bad_ep: 25  cdwn: 0                             \n",
      " 22:17:16 | Ep: 465/ 600 | Trn loss:  0.008584 - Acc: 99.9931 | Val loss:  1.375501 - Acc: 81.2963 | last_lr: 7.81250e-06  bad_ep: 26  cdwn: 0                             \n",
      " 22:17:31 | Ep: 466/ 600 | Trn loss:  0.008564 - Acc: 99.9935 | Val loss:  1.375867 - Acc: 81.2963 | last_lr: 7.81250e-06  bad_ep: 27  cdwn: 0                             \n",
      " 22:17:45 | Ep: 467/ 600 | Trn loss:  0.008543 - Acc: 99.9935 | Val loss:  1.376234 - Acc: 81.3009 | last_lr: 7.81250e-06  bad_ep: 28  cdwn: 0                             \n",
      " 22:17:59 | Ep: 468/ 600 | Trn loss:  0.008523 - Acc: 99.9935 | Val loss:  1.376601 - Acc: 81.2917 | last_lr: 7.81250e-06  bad_ep: 29  cdwn: 0                             \n",
      " 22:18:14 | Ep: 469/ 600 | Trn loss:  0.008503 - Acc: 99.9935 | Val loss:  1.376969 - Acc: 81.2870 | last_lr: 7.81250e-06  bad_ep: 30  cdwn: 0                             \n",
      " 22:18:28 | Ep: 470/ 600 | Trn loss:  0.008483 - Acc: 99.9935 | Val loss:  1.377337 - Acc: 81.2963 | last_lr: 7.81250e-06  bad_ep: 31  cdwn: 0                             \n",
      " 22:18:43 | Ep: 471/ 600 | Trn loss:  0.008463 - Acc: 99.9935 | Val loss:  1.377706 - Acc: 81.2963 | last_lr: 7.81250e-06  bad_ep: 32  cdwn: 0                             \n",
      " 22:18:57 | Ep: 472/ 600 | Trn loss:  0.008443 - Acc: 99.9942 | Val loss:  1.378075 - Acc: 81.2963 | last_lr: 7.81250e-06  bad_ep: 33  cdwn: 0                             \n",
      " 22:19:12 | Ep: 473/ 600 | Trn loss:  0.008424 - Acc: 99.9942 | Val loss:  1.378445 - Acc: 81.3009 | last_lr: 7.81250e-06  bad_ep: 34  cdwn: 0                             \n",
      " 22:19:27 | Ep: 474/ 600 | Trn loss:  0.008404 - Acc: 99.9942 | Val loss:  1.378814 - Acc: 81.3009 | last_lr: 7.81250e-06  bad_ep: 35  cdwn: 0                             \n",
      " 22:19:42 | Ep: 475/ 600 | Trn loss:  0.008385 - Acc: 99.9942 | Val loss:  1.379185 - Acc: 81.2963 | last_lr: 7.81250e-06  bad_ep: 36  cdwn: 0                             \n",
      " 22:19:57 | Ep: 476/ 600 | Trn loss:  0.008365 - Acc: 99.9942 | Val loss:  1.379555 - Acc: 81.3056 | last_lr: 7.81250e-06  bad_ep: 37  cdwn: 0                             \n",
      " 22:20:12 | Ep: 477/ 600 | Trn loss:  0.008346 - Acc: 99.9942 | Val loss:  1.379926 - Acc: 81.3102 | last_lr: 7.81250e-06  bad_ep: 38  cdwn: 0                             \n",
      " 22:20:27 | Ep: 478/ 600 | Trn loss:  0.008327 - Acc: 99.9942 | Val loss:  1.380298 - Acc: 81.3009 | last_lr: 7.81250e-06  bad_ep: 39  cdwn: 0                             \n",
      " 22:20:42 | Ep: 479/ 600 | Trn loss:  0.008308 - Acc: 99.9946 | Val loss:  1.380669 - Acc: 81.2963 | last_lr: 7.81250e-06  bad_ep: 40  cdwn: 0                             \n",
      " 22:20:57 | Ep: 480/ 600 | Trn loss:  0.008289 - Acc: 99.9949 | Val loss:  1.381041 - Acc: 81.2870 | last_lr: 7.81250e-06  bad_ep: 41  cdwn: 0                             \n",
      " 22:21:12 | Ep: 481/ 600 | Trn loss:  0.008270 - Acc: 99.9949 | Val loss:  1.381414 - Acc: 81.2870 | last_lr: 7.81250e-06  bad_ep: 42  cdwn: 0                             \n",
      " 22:21:27 | Ep: 482/ 600 | Trn loss:  0.008251 - Acc: 99.9949 | Val loss:  1.381787 - Acc: 81.2963 | last_lr: 7.81250e-06  bad_ep: 43  cdwn: 0                             \n",
      " 22:21:41 | Ep: 483/ 600 | Trn loss:  0.008232 - Acc: 99.9949 | Val loss:  1.382160 - Acc: 81.3009 | last_lr: 7.81250e-06  bad_ep: 44  cdwn: 0                             \n",
      " 22:21:56 | Ep: 484/ 600 | Trn loss:  0.008214 - Acc: 99.9953 | Val loss:  1.382534 - Acc: 81.3009 | last_lr: 7.81250e-06  bad_ep: 45  cdwn: 0                             \n",
      " 22:22:11 | Ep: 485/ 600 | Trn loss:  0.008195 - Acc: 99.9953 | Val loss:  1.382908 - Acc: 81.3102 | last_lr: 7.81250e-06  bad_ep: 46  cdwn: 0                             \n",
      " 22:22:25 | Ep: 486/ 600 | Trn loss:  0.008177 - Acc: 99.9953 | Val loss:  1.383282 - Acc: 81.3102 | last_lr: 7.81250e-06  bad_ep: 47  cdwn: 0                             \n",
      " 22:22:40 | Ep: 487/ 600 | Trn loss:  0.008158 - Acc: 99.9953 | Val loss:  1.383657 - Acc: 81.3056 | last_lr: 7.81250e-06  bad_ep: 48  cdwn: 0                             \n",
      " 22:22:54 | Ep: 488/ 600 | Trn loss:  0.008140 - Acc: 99.9953 | Val loss:  1.384032 - Acc: 81.2963 | last_lr: 7.81250e-06  bad_ep: 49  cdwn: 0                             \n",
      " 22:23:09 | Ep: 489/ 600 | Trn loss:  0.008121 - Acc: 99.9953 | Val loss:  1.384408 - Acc: 81.2963 | last_lr: 7.81250e-06  bad_ep: 50  cdwn: 0                             \n",
      " 22:23:24 | Ep: 490/ 600 | Trn loss:  0.008103 - Acc: 99.9953 | Val loss:  1.384784 - Acc: 81.2963 | last_lr: 3.90625e-06  bad_ep: 0  cdwn: 10                             \n",
      " 22:23:38 | Ep: 491/ 600 | Trn loss:  0.008061 - Acc: 99.9957 | Val loss:  1.384255 - Acc: 81.3287 | last_lr: 3.90625e-06  bad_ep: 0  cdwn: 9                              \n",
      " 22:23:52 | Ep: 492/ 600 | Trn loss:  0.007994 - Acc: 99.9957 | Val loss:  1.384399 - Acc: 81.3565 | last_lr: 3.90625e-06  bad_ep: 0  cdwn: 8                              \n",
      " 22:24:06 | Ep: 493/ 600 | Trn loss:  0.007975 - Acc: 99.9957 | Val loss:  1.384574 - Acc: 81.3472 | last_lr: 3.90625e-06  bad_ep: 0  cdwn: 7                              \n",
      " 22:24:20 | Ep: 494/ 600 | Trn loss:  0.007961 - Acc: 99.9957 | Val loss:  1.384757 - Acc: 81.3426 | last_lr: 3.90625e-06  bad_ep: 0  cdwn: 6                              \n",
      " 22:24:34 | Ep: 495/ 600 | Trn loss:  0.007949 - Acc: 99.9957 | Val loss:  1.384942 - Acc: 81.3472 | last_lr: 3.90625e-06  bad_ep: 0  cdwn: 5                              \n",
      " 22:24:48 | Ep: 496/ 600 | Trn loss:  0.007937 - Acc: 99.9957 | Val loss:  1.385128 - Acc: 81.3519 | last_lr: 3.90625e-06  bad_ep: 0  cdwn: 4                              \n",
      " 22:25:01 | Ep: 497/ 600 | Trn loss:  0.007926 - Acc: 99.9957 | Val loss:  1.385314 - Acc: 81.3611 | last_lr: 3.90625e-06  bad_ep: 0  cdwn: 3                              \n",
      " 22:25:15 | Ep: 498/ 600 | Trn loss:  0.007916 - Acc: 99.9957 | Val loss:  1.385501 - Acc: 81.3704 | last_lr: 3.90625e-06  bad_ep: 0  cdwn: 2                              \n",
      " 22:25:29 | Ep: 499/ 600 | Trn loss:  0.007905 - Acc: 99.9957 | Val loss:  1.385688 - Acc: 81.3750 | last_lr: 3.90625e-06  bad_ep: 0  cdwn: 1                              \n",
      " 22:25:43 | Ep: 500/ 600 | Trn loss:  0.007895 - Acc: 99.9957 | Val loss:  1.385875 - Acc: 81.3843 | last_lr: 3.90625e-06  bad_ep: 0  cdwn: 0                              \n",
      " 22:25:56 | Ep: 501/ 600 | Trn loss:  0.007885 - Acc: 99.9957 | Val loss:  1.386062 - Acc: 81.3750 | last_lr: 3.90625e-06  bad_ep: 1  cdwn: 0                              \n",
      " 22:26:10 | Ep: 502/ 600 | Trn loss:  0.007875 - Acc: 99.9957 | Val loss:  1.386250 - Acc: 81.3750 | last_lr: 3.90625e-06  bad_ep: 2  cdwn: 0                              \n",
      " 22:26:23 | Ep: 503/ 600 | Trn loss:  0.007865 - Acc: 99.9957 | Val loss:  1.386437 - Acc: 81.3750 | last_lr: 3.90625e-06  bad_ep: 3  cdwn: 0                              \n",
      " 22:26:37 | Ep: 504/ 600 | Trn loss:  0.007855 - Acc: 99.9957 | Val loss:  1.386625 - Acc: 81.3796 | last_lr: 3.90625e-06  bad_ep: 4  cdwn: 0                              \n",
      " 22:26:51 | Ep: 505/ 600 | Trn loss:  0.007846 - Acc: 99.9957 | Val loss:  1.386813 - Acc: 81.3843 | last_lr: 3.90625e-06  bad_ep: 5  cdwn: 0                              \n",
      " 22:27:05 | Ep: 506/ 600 | Trn loss:  0.007836 - Acc: 99.9957 | Val loss:  1.387000 - Acc: 81.3843 | last_lr: 3.90625e-06  bad_ep: 6  cdwn: 0                              \n",
      " 22:27:18 | Ep: 507/ 600 | Trn loss:  0.007826 - Acc: 99.9957 | Val loss:  1.387188 - Acc: 81.3796 | last_lr: 3.90625e-06  bad_ep: 7  cdwn: 0                              \n",
      " 22:27:32 | Ep: 508/ 600 | Trn loss:  0.007817 - Acc: 99.9957 | Val loss:  1.387376 - Acc: 81.3843 | last_lr: 3.90625e-06  bad_ep: 8  cdwn: 0                              \n",
      " 22:27:46 | Ep: 509/ 600 | Trn loss:  0.007808 - Acc: 99.9957 | Val loss:  1.387563 - Acc: 81.3796 | last_lr: 3.90625e-06  bad_ep: 9  cdwn: 0                              \n",
      " 22:27:59 | Ep: 510/ 600 | Trn loss:  0.007798 - Acc: 99.9957 | Val loss:  1.387751 - Acc: 81.3796 | last_lr: 3.90625e-06  bad_ep: 10  cdwn: 0                             \n",
      " 22:28:13 | Ep: 511/ 600 | Trn loss:  0.007789 - Acc: 99.9957 | Val loss:  1.387938 - Acc: 81.3750 | last_lr: 3.90625e-06  bad_ep: 11  cdwn: 0                             \n",
      " 22:28:27 | Ep: 512/ 600 | Trn loss:  0.007780 - Acc: 99.9957 | Val loss:  1.388126 - Acc: 81.3704 | last_lr: 3.90625e-06  bad_ep: 12  cdwn: 0                             \n",
      " 22:28:40 | Ep: 513/ 600 | Trn loss:  0.007770 - Acc: 99.9957 | Val loss:  1.388314 - Acc: 81.3704 | last_lr: 3.90625e-06  bad_ep: 13  cdwn: 0                             \n",
      " 22:28:54 | Ep: 514/ 600 | Trn loss:  0.007761 - Acc: 99.9957 | Val loss:  1.388501 - Acc: 81.3657 | last_lr: 3.90625e-06  bad_ep: 14  cdwn: 0                             \n",
      " 22:29:08 | Ep: 515/ 600 | Trn loss:  0.007752 - Acc: 99.9957 | Val loss:  1.388689 - Acc: 81.3565 | last_lr: 3.90625e-06  bad_ep: 15  cdwn: 0                             \n",
      " 22:29:21 | Ep: 516/ 600 | Trn loss:  0.007743 - Acc: 99.9957 | Val loss:  1.388876 - Acc: 81.3565 | last_lr: 3.90625e-06  bad_ep: 16  cdwn: 0                             \n",
      " 22:29:35 | Ep: 517/ 600 | Trn loss:  0.007734 - Acc: 99.9957 | Val loss:  1.389064 - Acc: 81.3565 | last_lr: 3.90625e-06  bad_ep: 17  cdwn: 0                             \n",
      " 22:29:49 | Ep: 518/ 600 | Trn loss:  0.007725 - Acc: 99.9957 | Val loss:  1.389251 - Acc: 81.3519 | last_lr: 3.90625e-06  bad_ep: 18  cdwn: 0                             \n",
      " 22:30:02 | Ep: 519/ 600 | Trn loss:  0.007716 - Acc: 99.9957 | Val loss:  1.389439 - Acc: 81.3472 | last_lr: 3.90625e-06  bad_ep: 19  cdwn: 0                             \n",
      " 22:30:16 | Ep: 520/ 600 | Trn loss:  0.007707 - Acc: 99.9957 | Val loss:  1.389626 - Acc: 81.3519 | last_lr: 3.90625e-06  bad_ep: 20  cdwn: 0                             \n",
      " 22:30:30 | Ep: 521/ 600 | Trn loss:  0.007698 - Acc: 99.9957 | Val loss:  1.389814 - Acc: 81.3519 | last_lr: 3.90625e-06  bad_ep: 21  cdwn: 0                             \n",
      " 22:30:43 | Ep: 522/ 600 | Trn loss:  0.007689 - Acc: 99.9957 | Val loss:  1.390001 - Acc: 81.3472 | last_lr: 3.90625e-06  bad_ep: 22  cdwn: 0                             \n",
      " 22:30:57 | Ep: 523/ 600 | Trn loss:  0.007680 - Acc: 99.9957 | Val loss:  1.390189 - Acc: 81.3472 | last_lr: 3.90625e-06  bad_ep: 23  cdwn: 0                             \n",
      " 22:31:11 | Ep: 524/ 600 | Trn loss:  0.007671 - Acc: 99.9957 | Val loss:  1.390376 - Acc: 81.3472 | last_lr: 3.90625e-06  bad_ep: 24  cdwn: 0                             \n",
      " 22:31:24 | Ep: 525/ 600 | Trn loss:  0.007663 - Acc: 99.9957 | Val loss:  1.390563 - Acc: 81.3472 | last_lr: 3.90625e-06  bad_ep: 25  cdwn: 0                             \n",
      " 22:31:38 | Ep: 526/ 600 | Trn loss:  0.007654 - Acc: 99.9957 | Val loss:  1.390751 - Acc: 81.3472 | last_lr: 3.90625e-06  bad_ep: 26  cdwn: 0                             \n",
      " 22:31:52 | Ep: 527/ 600 | Trn loss:  0.007645 - Acc: 99.9957 | Val loss:  1.390938 - Acc: 81.3472 | last_lr: 3.90625e-06  bad_ep: 27  cdwn: 0                             \n",
      " 22:32:05 | Ep: 528/ 600 | Trn loss:  0.007636 - Acc: 99.9957 | Val loss:  1.391126 - Acc: 81.3472 | last_lr: 3.90625e-06  bad_ep: 28  cdwn: 0                             \n",
      " 22:32:19 | Ep: 529/ 600 | Trn loss:  0.007628 - Acc: 99.9957 | Val loss:  1.391313 - Acc: 81.3472 | last_lr: 3.90625e-06  bad_ep: 29  cdwn: 0                             \n",
      " 22:32:32 | Ep: 530/ 600 | Trn loss:  0.007619 - Acc: 99.9957 | Val loss:  1.391500 - Acc: 81.3472 | last_lr: 3.90625e-06  bad_ep: 30  cdwn: 0                             \n",
      " 22:32:46 | Ep: 531/ 600 | Trn loss:  0.007611 - Acc: 99.9957 | Val loss:  1.391688 - Acc: 81.3380 | last_lr: 3.90625e-06  bad_ep: 31  cdwn: 0                             \n",
      " 22:32:59 | Ep: 532/ 600 | Trn loss:  0.007602 - Acc: 99.9957 | Val loss:  1.391875 - Acc: 81.3380 | last_lr: 3.90625e-06  bad_ep: 32  cdwn: 0                             \n",
      " 22:33:13 | Ep: 533/ 600 | Trn loss:  0.007593 - Acc: 99.9957 | Val loss:  1.392062 - Acc: 81.3380 | last_lr: 3.90625e-06  bad_ep: 33  cdwn: 0                             \n",
      " 22:33:26 | Ep: 534/ 600 | Trn loss:  0.007585 - Acc: 99.9957 | Val loss:  1.392250 - Acc: 81.3380 | last_lr: 3.90625e-06  bad_ep: 34  cdwn: 0                             \n",
      " 22:33:40 | Ep: 535/ 600 | Trn loss:  0.007576 - Acc: 99.9957 | Val loss:  1.392437 - Acc: 81.3380 | last_lr: 3.90625e-06  bad_ep: 35  cdwn: 0                             \n",
      " 22:33:53 | Ep: 536/ 600 | Trn loss:  0.007568 - Acc: 99.9960 | Val loss:  1.392625 - Acc: 81.3472 | last_lr: 3.90625e-06  bad_ep: 36  cdwn: 0                             \n",
      " 22:34:07 | Ep: 537/ 600 | Trn loss:  0.007559 - Acc: 99.9960 | Val loss:  1.392812 - Acc: 81.3519 | last_lr: 3.90625e-06  bad_ep: 37  cdwn: 0                             \n",
      " 22:34:20 | Ep: 538/ 600 | Trn loss:  0.007551 - Acc: 99.9960 | Val loss:  1.393000 - Acc: 81.3519 | last_lr: 3.90625e-06  bad_ep: 38  cdwn: 0                             \n",
      " 22:34:34 | Ep: 539/ 600 | Trn loss:  0.007542 - Acc: 99.9960 | Val loss:  1.393187 - Acc: 81.3519 | last_lr: 3.90625e-06  bad_ep: 39  cdwn: 0                             \n",
      " 22:34:47 | Ep: 540/ 600 | Trn loss:  0.007534 - Acc: 99.9960 | Val loss:  1.393375 - Acc: 81.3565 | last_lr: 3.90625e-06  bad_ep: 40  cdwn: 0                             \n",
      " 22:35:01 | Ep: 541/ 600 | Trn loss:  0.007526 - Acc: 99.9960 | Val loss:  1.393562 - Acc: 81.3565 | last_lr: 3.90625e-06  bad_ep: 41  cdwn: 0                             \n",
      " 22:35:14 | Ep: 542/ 600 | Trn loss:  0.007517 - Acc: 99.9960 | Val loss:  1.393750 - Acc: 81.3565 | last_lr: 3.90625e-06  bad_ep: 42  cdwn: 0                             \n",
      " 22:35:28 | Ep: 543/ 600 | Trn loss:  0.007509 - Acc: 99.9964 | Val loss:  1.393937 - Acc: 81.3565 | last_lr: 3.90625e-06  bad_ep: 43  cdwn: 0                             \n",
      " 22:35:41 | Ep: 544/ 600 | Trn loss:  0.007501 - Acc: 99.9964 | Val loss:  1.394125 - Acc: 81.3519 | last_lr: 3.90625e-06  bad_ep: 44  cdwn: 0                             \n",
      " 22:35:55 | Ep: 545/ 600 | Trn loss:  0.007492 - Acc: 99.9964 | Val loss:  1.394312 - Acc: 81.3519 | last_lr: 3.90625e-06  bad_ep: 45  cdwn: 0                             \n",
      " 22:36:08 | Ep: 546/ 600 | Trn loss:  0.007484 - Acc: 99.9964 | Val loss:  1.394500 - Acc: 81.3519 | last_lr: 3.90625e-06  bad_ep: 46  cdwn: 0                             \n",
      " 22:36:22 | Ep: 547/ 600 | Trn loss:  0.007476 - Acc: 99.9964 | Val loss:  1.394688 - Acc: 81.3519 | last_lr: 3.90625e-06  bad_ep: 47  cdwn: 0                             \n",
      " 22:36:35 | Ep: 548/ 600 | Trn loss:  0.007467 - Acc: 99.9964 | Val loss:  1.394875 - Acc: 81.3519 | last_lr: 3.90625e-06  bad_ep: 48  cdwn: 0                             \n",
      " 22:36:49 | Ep: 549/ 600 | Trn loss:  0.007459 - Acc: 99.9964 | Val loss:  1.395063 - Acc: 81.3519 | last_lr: 3.90625e-06  bad_ep: 49  cdwn: 0                             \n",
      " 22:37:02 | Ep: 550/ 600 | Trn loss:  0.007451 - Acc: 99.9964 | Val loss:  1.395250 - Acc: 81.3519 | last_lr: 3.90625e-06  bad_ep: 50  cdwn: 0                             \n",
      " 22:37:16 | Ep: 551/ 600 | Trn loss:  0.007443 - Acc: 99.9964 | Val loss:  1.395438 - Acc: 81.3472 | last_lr: 1.95313e-06  bad_ep: 0  cdwn: 10                             \n",
      " 22:37:29 | Ep: 552/ 600 | Trn loss:  0.007399 - Acc: 99.9957 | Val loss:  1.395378 - Acc: 81.3241 | last_lr: 1.95313e-06  bad_ep: 0  cdwn: 9                              \n",
      " 22:37:43 | Ep: 553/ 600 | Trn loss:  0.007377 - Acc: 99.9957 | Val loss:  1.395453 - Acc: 81.3426 | last_lr: 1.95313e-06  bad_ep: 0  cdwn: 8                              \n",
      " 22:37:56 | Ep: 554/ 600 | Trn loss:  0.007368 - Acc: 99.9957 | Val loss:  1.395538 - Acc: 81.3519 | last_lr: 1.95313e-06  bad_ep: 0  cdwn: 7                              \n",
      " 22:38:10 | Ep: 555/ 600 | Trn loss:  0.007361 - Acc: 99.9957 | Val loss:  1.395629 - Acc: 81.3611 | last_lr: 1.95313e-06  bad_ep: 0  cdwn: 6                              \n",
      " 22:38:23 | Ep: 556/ 600 | Trn loss:  0.007356 - Acc: 99.9957 | Val loss:  1.395725 - Acc: 81.3611 | last_lr: 1.95313e-06  bad_ep: 0  cdwn: 5                              \n",
      " 22:38:37 | Ep: 557/ 600 | Trn loss:  0.007350 - Acc: 99.9957 | Val loss:  1.395824 - Acc: 81.3565 | last_lr: 1.95313e-06  bad_ep: 0  cdwn: 4                              \n",
      " 22:38:51 | Ep: 558/ 600 | Trn loss:  0.007345 - Acc: 99.9957 | Val loss:  1.395925 - Acc: 81.3565 | last_lr: 1.95313e-06  bad_ep: 0  cdwn: 3                              \n",
      " 22:39:04 | Ep: 559/ 600 | Trn loss:  0.007341 - Acc: 99.9957 | Val loss:  1.396026 - Acc: 81.3611 | last_lr: 1.95313e-06  bad_ep: 0  cdwn: 2                              \n",
      " 22:39:18 | Ep: 560/ 600 | Trn loss:  0.007336 - Acc: 99.9957 | Val loss:  1.396129 - Acc: 81.3657 | last_lr: 1.95313e-06  bad_ep: 0  cdwn: 1                              \n",
      " 22:39:32 | Ep: 561/ 600 | Trn loss:  0.007331 - Acc: 99.9957 | Val loss:  1.396231 - Acc: 81.3657 | last_lr: 1.95313e-06  bad_ep: 0  cdwn: 0                              \n",
      " 22:39:45 | Ep: 562/ 600 | Trn loss:  0.007326 - Acc: 99.9957 | Val loss:  1.396335 - Acc: 81.3611 | last_lr: 1.95313e-06  bad_ep: 1  cdwn: 0                              \n",
      " 22:39:59 | Ep: 563/ 600 | Trn loss:  0.007322 - Acc: 99.9957 | Val loss:  1.396439 - Acc: 81.3611 | last_lr: 1.95313e-06  bad_ep: 2  cdwn: 0                              \n",
      " 22:40:13 | Ep: 564/ 600 | Trn loss:  0.007317 - Acc: 99.9957 | Val loss:  1.396543 - Acc: 81.3611 | last_lr: 1.95313e-06  bad_ep: 3  cdwn: 0                              \n",
      " 22:40:26 | Ep: 565/ 600 | Trn loss:  0.007312 - Acc: 99.9957 | Val loss:  1.396647 - Acc: 81.3657 | last_lr: 1.95313e-06  bad_ep: 4  cdwn: 0                              \n",
      " 22:40:40 | Ep: 566/ 600 | Trn loss:  0.007308 - Acc: 99.9957 | Val loss:  1.396752 - Acc: 81.3611 | last_lr: 1.95313e-06  bad_ep: 5  cdwn: 0                              \n",
      " 22:40:54 | Ep: 567/ 600 | Trn loss:  0.007303 - Acc: 99.9957 | Val loss:  1.396856 - Acc: 81.3611 | last_lr: 1.95313e-06  bad_ep: 6  cdwn: 0                              \n",
      " 22:41:08 | Ep: 568/ 600 | Trn loss:  0.007298 - Acc: 99.9957 | Val loss:  1.396962 - Acc: 81.3611 | last_lr: 1.95313e-06  bad_ep: 7  cdwn: 0                              \n",
      " 22:41:21 | Ep: 569/ 600 | Trn loss:  0.007294 - Acc: 99.9957 | Val loss:  1.397067 - Acc: 81.3611 | last_lr: 1.95313e-06  bad_ep: 8  cdwn: 0                              \n",
      " 22:41:35 | Ep: 570/ 600 | Trn loss:  0.007289 - Acc: 99.9957 | Val loss:  1.397172 - Acc: 81.3657 | last_lr: 1.95313e-06  bad_ep: 9  cdwn: 0                              \n",
      " 22:41:49 | Ep: 571/ 600 | Trn loss:  0.007285 - Acc: 99.9957 | Val loss:  1.397278 - Acc: 81.3657 | last_lr: 1.95313e-06  bad_ep: 10  cdwn: 0                             \n",
      " 22:42:02 | Ep: 572/ 600 | Trn loss:  0.007280 - Acc: 99.9957 | Val loss:  1.397383 - Acc: 81.3657 | last_lr: 1.95313e-06  bad_ep: 11  cdwn: 0                             \n",
      " 22:42:16 | Ep: 573/ 600 | Trn loss:  0.007276 - Acc: 99.9957 | Val loss:  1.397489 - Acc: 81.3611 | last_lr: 1.95313e-06  bad_ep: 12  cdwn: 0                             \n",
      " 22:42:30 | Ep: 574/ 600 | Trn loss:  0.007271 - Acc: 99.9957 | Val loss:  1.397595 - Acc: 81.3611 | last_lr: 1.95313e-06  bad_ep: 13  cdwn: 0                             \n",
      " 22:42:43 | Ep: 575/ 600 | Trn loss:  0.007267 - Acc: 99.9957 | Val loss:  1.397701 - Acc: 81.3657 | last_lr: 1.95313e-06  bad_ep: 14  cdwn: 0                             \n",
      " 22:42:57 | Ep: 576/ 600 | Trn loss:  0.007262 - Acc: 99.9957 | Val loss:  1.397807 - Acc: 81.3657 | last_lr: 1.95313e-06  bad_ep: 15  cdwn: 0                             \n",
      " 22:43:11 | Ep: 577/ 600 | Trn loss:  0.007258 - Acc: 99.9957 | Val loss:  1.397913 - Acc: 81.3657 | last_lr: 1.95313e-06  bad_ep: 16  cdwn: 0                             \n",
      " 22:43:24 | Ep: 578/ 600 | Trn loss:  0.007253 - Acc: 99.9957 | Val loss:  1.398019 - Acc: 81.3611 | last_lr: 1.95313e-06  bad_ep: 17  cdwn: 0                             \n",
      " 22:43:38 | Ep: 579/ 600 | Trn loss:  0.007249 - Acc: 99.9957 | Val loss:  1.398126 - Acc: 81.3657 | last_lr: 1.95313e-06  bad_ep: 18  cdwn: 0                             \n",
      " 22:43:52 | Ep: 580/ 600 | Trn loss:  0.007244 - Acc: 99.9957 | Val loss:  1.398232 - Acc: 81.3704 | last_lr: 1.95313e-06  bad_ep: 19  cdwn: 0                             \n",
      " 22:44:06 | Ep: 581/ 600 | Trn loss:  0.007240 - Acc: 99.9957 | Val loss:  1.398338 - Acc: 81.3704 | last_lr: 1.95313e-06  bad_ep: 20  cdwn: 0                             \n",
      " 22:44:19 | Ep: 582/ 600 | Trn loss:  0.007236 - Acc: 99.9957 | Val loss:  1.398445 - Acc: 81.3704 | last_lr: 1.95313e-06  bad_ep: 21  cdwn: 0                             \n",
      " 22:44:33 | Ep: 583/ 600 | Trn loss:  0.007231 - Acc: 99.9957 | Val loss:  1.398551 - Acc: 81.3704 | last_lr: 1.95313e-06  bad_ep: 22  cdwn: 0                             \n",
      " 22:44:47 | Ep: 584/ 600 | Trn loss:  0.007227 - Acc: 99.9957 | Val loss:  1.398657 - Acc: 81.3704 | last_lr: 1.95313e-06  bad_ep: 23  cdwn: 0                             \n",
      " 22:45:00 | Ep: 585/ 600 | Trn loss:  0.007222 - Acc: 99.9957 | Val loss:  1.398764 - Acc: 81.3704 | last_lr: 1.95313e-06  bad_ep: 24  cdwn: 0                             \n",
      " 22:45:14 | Ep: 586/ 600 | Trn loss:  0.007218 - Acc: 99.9957 | Val loss:  1.398870 - Acc: 81.3750 | last_lr: 1.95313e-06  bad_ep: 25  cdwn: 0                             \n",
      " 22:45:28 | Ep: 587/ 600 | Trn loss:  0.007214 - Acc: 99.9957 | Val loss:  1.398977 - Acc: 81.3750 | last_lr: 1.95313e-06  bad_ep: 26  cdwn: 0                             \n",
      " 22:45:42 | Ep: 588/ 600 | Trn loss:  0.007209 - Acc: 99.9957 | Val loss:  1.399083 - Acc: 81.3750 | last_lr: 1.95313e-06  bad_ep: 27  cdwn: 0                             \n",
      " 22:45:55 | Ep: 589/ 600 | Trn loss:  0.007205 - Acc: 99.9957 | Val loss:  1.399190 - Acc: 81.3750 | last_lr: 1.95313e-06  bad_ep: 28  cdwn: 0                             \n",
      " 22:46:09 | Ep: 590/ 600 | Trn loss:  0.007201 - Acc: 99.9957 | Val loss:  1.399297 - Acc: 81.3657 | last_lr: 1.95313e-06  bad_ep: 29  cdwn: 0                             \n",
      " 22:46:23 | Ep: 591/ 600 | Trn loss:  0.007196 - Acc: 99.9957 | Val loss:  1.399403 - Acc: 81.3657 | last_lr: 1.95313e-06  bad_ep: 30  cdwn: 0                             \n",
      " 22:46:37 | Ep: 592/ 600 | Trn loss:  0.007192 - Acc: 99.9957 | Val loss:  1.399510 - Acc: 81.3657 | last_lr: 1.95313e-06  bad_ep: 31  cdwn: 0                             \n",
      " 22:46:50 | Ep: 593/ 600 | Trn loss:  0.007188 - Acc: 99.9960 | Val loss:  1.399616 - Acc: 81.3611 | last_lr: 1.95313e-06  bad_ep: 32  cdwn: 0                             \n",
      " 22:47:04 | Ep: 594/ 600 | Trn loss:  0.007183 - Acc: 99.9960 | Val loss:  1.399723 - Acc: 81.3611 | last_lr: 1.95313e-06  bad_ep: 33  cdwn: 0                             \n",
      " 22:47:18 | Ep: 595/ 600 | Trn loss:  0.007179 - Acc: 99.9960 | Val loss:  1.399830 - Acc: 81.3611 | last_lr: 1.95313e-06  bad_ep: 34  cdwn: 0                             \n",
      " 22:47:31 | Ep: 596/ 600 | Trn loss:  0.007175 - Acc: 99.9960 | Val loss:  1.399937 - Acc: 81.3611 | last_lr: 1.95313e-06  bad_ep: 35  cdwn: 0                             \n",
      " 22:47:45 | Ep: 597/ 600 | Trn loss:  0.007170 - Acc: 99.9960 | Val loss:  1.400043 - Acc: 81.3611 | last_lr: 1.95313e-06  bad_ep: 36  cdwn: 0                             \n",
      " 22:47:58 | Ep: 598/ 600 | Trn loss:  0.007166 - Acc: 99.9960 | Val loss:  1.400150 - Acc: 81.3611 | last_lr: 1.95313e-06  bad_ep: 37  cdwn: 0                             \n",
      " 22:48:11 | Ep: 599/ 600 | Trn loss:  0.007162 - Acc: 99.9960 | Val loss:  1.400257 - Acc: 81.3611 | last_lr: 1.95313e-06  bad_ep: 38  cdwn: 0                             \n",
      " 22:48:25 | Ep: 600/ 600 | Trn loss:  0.007158 - Acc: 99.9960 | Val loss:  1.400364 - Acc: 81.3611 | last_lr: 1.95313e-06  bad_ep: 39  cdwn: 0                             \n"
     ]
    }
   ],
   "source": [
    "\n",
    "metrics = fit(model, optimizer, scheduler, data_loader, metrics, start_epoch, end_epoch, device, CKPT_FILE, CKPT_PATH )\n"
   ]
  },
  {
   "cell_type": "markdown",
   "id": "573ac673-4b85-4d5a-ba01-40945db8419f",
   "metadata": {},
   "source": [
    "\n",
    " "
   ]
  },
  {
   "cell_type": "code",
   "execution_count": 56,
   "id": "8ff2ac55-77cb-4515-92ea-a29ab4e899bb",
   "metadata": {
    "execution": {
     "iopub.execute_input": "2024-10-01T20:14:37.782159Z",
     "iopub.status.busy": "2024-10-01T20:14:37.781728Z",
     "iopub.status.idle": "2024-10-01T20:14:38.993244Z",
     "shell.execute_reply": "2024-10-01T20:14:38.992461Z",
     "shell.execute_reply.started": "2024-10-01T20:14:37.782113Z"
    }
   },
   "outputs": [
    {
     "data": {
      "text/plain": [
       "(600, 1200)"
      ]
     },
     "execution_count": 56,
     "metadata": {},
     "output_type": "execute_result"
    }
   ],
   "source": [
    "# print(filename)\n",
    " \n",
    "# save_checkpoint(end_epoch, model, optimizer, scheduler, metrics = metrics,\n",
    "#                 filename = CKPT_FILE.format(ep=end_epoch),\n",
    "#                 ckpt_path = CKPT_PATH, verbose = True)\n",
    "\n",
    "start_epoch, end_epoch\n",
    "\n",
    "# for mtrc in ['loss_trn', 'loss_val']:\n",
    "#     for i in range(len(metrics[mtrc])):\n",
    "#         # print(i)\n",
    "#         metrics[mtrc][i] = metrics[mtrc][i].item()"
   ]
  },
  {
   "cell_type": "code",
   "execution_count": 44,
   "id": "a7463c33-544c-47ba-9c2b-c908a28948e8",
   "metadata": {
    "execution": {
     "iopub.execute_input": "2024-10-02T20:48:25.436347Z",
     "iopub.status.busy": "2024-10-02T20:48:25.436062Z",
     "iopub.status.idle": "2024-10-02T20:48:25.477864Z",
     "shell.execute_reply": "2024-10-02T20:48:25.477325Z",
     "shell.execute_reply.started": "2024-10-02T20:48:25.436325Z"
    }
   },
   "outputs": [],
   "source": [
    "#         metrics['loss_trn'].append(trn_loss.item())\n",
    "#         metrics['acc_trn'].append(trn_acc)\n",
    "#         metrics['loss_val'].append(val_loss.item())\n",
    "#         metrics['acc_val'].append(val_acc)\n",
    "# for idx, (trn_loss, trn_acc, val_loss, val_acc) in enumerate(zip(metrics['loss_trn'],metrics['acc_trn'],metrics['loss_val'],metrics['acc_val'])):\n",
    "#     print(f\" {datetime.now().strftime('%X')} | Ep: {idx:3d}/{end_epoch:4d} | Trn loss: {trn_loss:9.6f} - Acc: {trn_acc:.4f} |\"\n",
    "#       f\" Val loss: {val_loss:9.6f} - Acc: {val_acc:.4f} | \")"
   ]
  },
  {
   "cell_type": "markdown",
   "id": "d75622ea-9d55-42a5-afbd-b7453166bce0",
   "metadata": {
    "jp-MarkdownHeadingCollapsed": true
   },
   "source": [
    "# Modify TPSA Threshold"
   ]
  },
  {
   "cell_type": "code",
   "execution_count": null,
   "id": "9ca4e52f-46c9-4506-8b0d-239f045f04ac",
   "metadata": {},
   "outputs": [],
   "source": [
    "\n",
    "train_y_72 = np.zeros_like(train_y)\n",
    "train_y_72.shape[0]/3"
   ]
  },
  {
   "cell_type": "code",
   "execution_count": null,
   "id": "e11392e3-cbea-49a8-9a0b-2030c1a0aee1",
   "metadata": {
    "editable": true,
    "slideshow": {
     "slide_type": ""
    },
    "tags": []
   },
   "outputs": [],
   "source": [
    "print(f\"                  min           max           std          mean           median\")\n",
    "for x in ['TPSA', 'lnTPSA', 'log10TPSA']:\n",
    "    print(f\"{x:12s} {df_train[x].min():13.7f} {df_train[x].max():13.7f} {df_train[x].std():13.7f} {df_train[x].mean():13.7f} {df_train[x].median():13.7f}\") \n",
    "\n",
    "df_train.TPSA.count()\n",
    "df_train[df_train.TPSA >= THRESHOLD].TPSA.count()/df_train.TPSA.count()\n",
    "df_train[df_train.TPSA < THRESHOLD].TPSA.count()/df_train.TPSA.count()\n"
   ]
  },
  {
   "cell_type": "code",
   "execution_count": null,
   "id": "d5f5bab9-6b23-4078-a398-dccbea38ae78",
   "metadata": {},
   "outputs": [],
   "source": [
    "_tmp = df_train.Metadata_Permiation.value_counts()\n",
    "_tmp[0], _tmp[1]"
   ]
  },
  {
   "cell_type": "code",
   "execution_count": null,
   "id": "d59dcba1-6add-4446-aa27-a30564f42e54",
   "metadata": {
    "editable": true,
    "slideshow": {
     "slide_type": ""
    },
    "tags": []
   },
   "outputs": [],
   "source": [
    "for threshold in [68, 69, 70, 71, 72, 100]:\n",
    "    _tmp = (df_train['Metadata_TPSA'] >= threshold).value_counts()\n",
    "    print(f\"\\n TPSA threshold {threshold} \\n Total samples: {_tmp.sum()}\")\n",
    "    print(f\" Label 0: {_tmp[False]:>7d}      % {_tmp[False]*100/_tmp.sum():2.2f} \")\n",
    "    print(f\" Label 1: {_tmp[True]:>7d}      % {_tmp[True]*100/_tmp.sum():2.2f} \")"
   ]
  },
  {
   "cell_type": "code",
   "execution_count": null,
   "id": "65d1d01b-3946-4668-9c10-5fb3f2b3bd64",
   "metadata": {},
   "outputs": [],
   "source": [
    "# fig, ax = plt.subplots(figsize=(4,4))\n",
    "# fig.canvas.draw()  # Need to draw the figure to define renderer\n",
    "# ax.set_title(\"AngleLabel example\")\n",
    "# # Plot two crossing lines and label each angle between them with the above\n",
    "# center = (4.5, 650)\n",
    "# p1 = [(2.5, 710), (6.0, 605)]\n",
    "# p2 = [(3.0, 275), (5.5, 900)]\n",
    "# line1, = ax.plot(*zip(*p1))\n",
    "# line2, = ax.plot(*zip(*p2))\n",
    "# point, = ax.plot(*center, marker=\"o\")\n"
   ]
  },
  {
   "cell_type": "code",
   "execution_count": null,
   "id": "9f19bd08-45c1-4d41-9d02-a5b59d30c53c",
   "metadata": {
    "ExecuteTime": {
     "end_time": "2023-06-28T19:37:34.108730Z",
     "start_time": "2023-06-28T19:37:34.072553Z"
    },
    "editable": true,
    "slideshow": {
     "slide_type": ""
    },
    "tags": []
   },
   "outputs": [],
   "source": [
    "from matplotlib import colors\n",
    "from matplotlib.ticker import PercentFormatter\n",
    "num_bins = 200\n",
    "# fig, ax = plt.subplots()\n",
    "fig = plt.figure(figsize=(10,5))\n",
    "sigma = df_train.Metadata_TPSA.std()\n",
    "mu = df_train.Metadata_TPSA.mean()\n",
    "med = df_train.Metadata_TPSA.median()\n",
    "# the histogram of the data\n",
    "# We can set the number of bins with the *bins* keyword argument.\n",
    "n, bins, patches = plt.hist(df_train.Metadata_TPSA, num_bins, density=False, range=[0, 500],)\n",
    "# p1 = [(med, 710), (6.0, 605)]\n",
    "# _ = plt.vlines(x=med, ymin=10, ymax=17000, colors='red', linestyles='-', lw=1.75, label='Single Short Line')\n",
    "_ = plt.axvline(x=med, ymin=0, ymax=.97, color='red', linestyle='-', lw=1.75, label='Single Short Line')\n",
    "_ = plt.xlabel('TPSA Value');\n",
    "_ = plt.ylabel('# Compounds');\n",
    "_ = plt.title(fr'TPSA distribution -  $\\mu={mu:.3f}$    $\\sigma={sigma:.3f}$')\n",
    "plt.legend(bbox_to_anchor=(1.04,0.5), loc=\"center left\", borderaxespad=0)\n",
    "# axs[1].hist(dist2, bins=n_bins)\n",
    "plt.show()"
   ]
  },
  {
   "cell_type": "markdown",
   "id": "e58c33d9-a56a-4175-9936-b16efed13334",
   "metadata": {
    "editable": true,
    "jp-MarkdownHeadingCollapsed": true,
    "slideshow": {
     "slide_type": ""
    },
    "tags": []
   },
   "source": [
    "# Stratified CV data splits"
   ]
  },
  {
   "cell_type": "code",
   "execution_count": null,
   "id": "36185b9f-f76e-4556-a736-7a97ac07659f",
   "metadata": {},
   "outputs": [],
   "source": [
    "def visualize_groups(classes, groups, name):\n",
    "    # Visualize dataset groups\n",
    "    fig, ax = plt.subplots(figsize=(10,5))\n",
    "    ax.scatter(\n",
    "        range(len(groups)),\n",
    "        [0.5] * len(groups),\n",
    "        c=groups,\n",
    "        marker=\"_\",\n",
    "        lw=50,\n",
    "        cmap=cmap_data,\n",
    "    )\n",
    "    ax.scatter(\n",
    "        range(len(groups)),\n",
    "        [3.5] * len(groups),\n",
    "        c=classes,\n",
    "        marker=\"_\",\n",
    "        lw=50,\n",
    "        cmap=cmap_data,\n",
    "    )\n",
    "    ax.set(\n",
    "        ylim=[-1, 5],\n",
    "        yticks=[0.5, 3.5],\n",
    "        yticklabels=[\"Data\\ngroup\", \"Data\\nclass\"],\n",
    "        xlabel=\"Sample index\",\n",
    "    )"
   ]
  },
  {
   "cell_type": "code",
   "execution_count": null,
   "id": "f532d16b-50f2-486d-a2b8-22e960f6007a",
   "metadata": {},
   "outputs": [],
   "source": [
    "def plot_cv_indices(cv, X, y, group, ax, n_splits, lw=10):\n",
    "    \"\"\"Create a sample plot for indices of a cross-validation object.\"\"\"\n",
    "    use_groups = \"Group\" in type(cv).__name__\n",
    "    groups = group if use_groups else None\n",
    "    # Generate the training/testing visualizations for each CV split\n",
    "    for ii, (tr, tt) in enumerate(cv.split(X=X, y=y, groups=groups)):\n",
    "        # Fill in indices with the training/test groups\n",
    "        indices = np.array([np.nan] * len(X))\n",
    "        indices[tt] = 1\n",
    "        indices[tr] = 0\n",
    "\n",
    "        # Visualize the results\n",
    "        ax.scatter(\n",
    "            range(len(indices)),\n",
    "            [ii + 0.5] * len(indices),\n",
    "            c=indices,\n",
    "            marker=\"_\",\n",
    "            lw=lw,\n",
    "            cmap=cmap_cv,\n",
    "            vmin=-0.2,\n",
    "            vmax=1.2,\n",
    "        )\n",
    "\n",
    "    # Plot the data classes and groups at the end\n",
    "    ax.scatter(\n",
    "        range(len(X)), [ii + 1.5] * len(X), c=y, marker=\"_\", lw=lw, cmap=cmap_data\n",
    "    )\n",
    "\n",
    "    ax.scatter(\n",
    "        range(len(X)), [ii + 2.5] * len(X), c=group, marker=\"_\", lw=lw, cmap=cmap_data\n",
    "    )\n",
    "\n",
    "    # Formatting\n",
    "    yticklabels = list(range(n_splits)) + [\"class\", \"group\"]\n",
    "    ax.set(\n",
    "        yticks=np.arange(n_splits + 2) + 0.5,\n",
    "        yticklabels=yticklabels,\n",
    "        xlabel=\"Sample index\",\n",
    "        ylabel=\"CV iteration\",\n",
    "        ylim=[n_splits + 2.2, -0.2],\n",
    "        xlim=[0, 100],\n",
    "    )\n",
    "    ax.set_title(\"{}\".format(type(cv).__name__), fontsize=15)\n",
    "    return ax"
   ]
  },
  {
   "cell_type": "code",
   "execution_count": null,
   "id": "d6f3f078-8b33-4acc-b639-6daac6d9d519",
   "metadata": {},
   "outputs": [],
   "source": [
    "import matplotlib.pyplot as plt\n",
    "import numpy as np\n",
    "from matplotlib.patches import Patch\n"
   ]
  },
  {
   "cell_type": "code",
   "execution_count": null,
   "id": "f1165a3b-5756-443f-ad46-bf316c34929e",
   "metadata": {},
   "outputs": [],
   "source": [
    "rng = np.random.RandomState(1338)\n",
    "cmap_data = plt.cm.Paired\n",
    "cmap_cv = plt.cm.coolwarm\n",
    "n_splits = 4\n",
    "\n",
    "# Generate the class/group data\n",
    "# n_points = 100\n",
    "# X = rng.randn(100, 10)\n",
    "\n",
    "# percentiles_classes = [0.1, 0.3, 0.6]\n",
    "# y = np.hstack([[ii] * int(100 * perc) for ii, perc in enumerate(percentiles_classes)])"
   ]
  },
  {
   "cell_type": "code",
   "execution_count": null,
   "id": "94dd8391-cbf3-4468-9aa2-d311c7f83bd2",
   "metadata": {},
   "outputs": [],
   "source": [
    "# Generate uneven groups\n",
    "\n",
    "# group_prior = rng.dirichlet([2] * 10)\n",
    "# group_prior.sum()\n",
    "# group_prior\n",
    "\n",
    "# groups = np.repeat(np.arange(10), rng.multinomial(100, group_prior))\n",
    "# groups.shape\n",
    "# groups"
   ]
  },
  {
   "cell_type": "code",
   "execution_count": null,
   "id": "0be667cf-b73b-49d9-8f93-028feb33dc07",
   "metadata": {},
   "outputs": [],
   "source": [
    "groups = np.repeat(0, train_X.shape[0])\n",
    "groups.shape"
   ]
  },
  {
   "cell_type": "code",
   "execution_count": null,
   "id": "a3cc3e15-7328-43d7-87b0-e662e89f8995",
   "metadata": {},
   "outputs": [],
   "source": [
    "visualize_groups(train_y, groups, \"no groups\")"
   ]
  },
  {
   "cell_type": "code",
   "execution_count": null,
   "id": "f27b44ef-5b62-4008-8e90-fcd97dca2186",
   "metadata": {},
   "outputs": [],
   "source": [
    "n_splits = 5\n",
    "groups = None"
   ]
  },
  {
   "cell_type": "code",
   "execution_count": null,
   "id": "0cc5f1e4-9fbf-4c51-a82a-ee2c870850aa",
   "metadata": {},
   "outputs": [],
   "source": [
    "fig, ax = plt.subplots()\n",
    "cv = KFold(n_splits)\n",
    "plot_cv_indices(cv, train_X, train_y, groups, ax, n_splits)"
   ]
  },
  {
   "cell_type": "markdown",
   "id": "d2e1cd39-be31-4f80-b0b3-a064ddf5b59d",
   "metadata": {
    "jp-MarkdownHeadingCollapsed": true
   },
   "source": [
    "# Input "
   ]
  },
  {
   "cell_type": "markdown",
   "id": "987503fe-4de3-4967-a228-9e5b7a6d30b8",
   "metadata": {
    "jp-MarkdownHeadingCollapsed": true
   },
   "source": [
    "## Read Embedded Features CSV file"
   ]
  },
  {
   "cell_type": "code",
   "execution_count": null,
   "id": "ab7b33d4-10b8-44a2-a97b-3fb5e124812e",
   "metadata": {
    "editable": true,
    "slideshow": {
     "slide_type": ""
    },
    "tags": []
   },
   "outputs": [],
   "source": [
    "BASE_TRAIN_INPUT = os.path.join(OUTPUT_PATH, INPUT_FILE.format(runmode = BASE_runmode ,datatype='train'))\n",
    "BASE_TEST_INPUT  = os.path.join(OUTPUT_PATH, INPUT_FILE.format(runmode = BASE_runmode ,datatype='test'))\n",
    "SNNL_TRAIN_INPUT = os.path.join(OUTPUT_PATH, INPUT_FILE.format(runmode = SNNL_runmode ,datatype='train'))\n",
    "SNNL_TEST_INPUT  = os.path.join(OUTPUT_PATH, INPUT_FILE.format(runmode = SNNL_runmode ,datatype='test'))\n",
    "BASE_TRAIN_INPUT\n",
    "BASE_TEST_INPUT \n",
    "SNNL_TRAIN_INPUT\n",
    "SNNL_TEST_INPUT "
   ]
  },
  {
   "cell_type": "code",
   "execution_count": null,
   "id": "8dff17ab-dd6a-49fe-8733-8f3448537618",
   "metadata": {},
   "outputs": [],
   "source": [
    "df_test = pd.read_csv(SNNL_TEST_INPUT )\n",
    "df_train = pd.read_csv(SNNL_TRAIN_INPUT)\n",
    "\n",
    "# df_train = pd.read_csv(BASE_TRAIN_INPUT)\n",
    "# df_test = pd.read_csv(BASE_TEST_INPUT )\n",
    "# df_train = pd.read_csv(TRAIN_INPUT, nrows = 100 )\n",
    "# df_train = pd.read_csv(TRAIN_INPUT, usecols = ['Metadata_Batch'])"
   ]
  },
  {
   "cell_type": "code",
   "execution_count": null,
   "id": "9e7a273e-36aa-4b1b-8a49-3c911fe62659",
   "metadata": {},
   "outputs": [],
   "source": [
    "df_test.info()\n",
    "df_test.shape\n",
    "df_test.columns\n",
    "df_test.iloc[:5,:13]"
   ]
  },
  {
   "cell_type": "code",
   "execution_count": null,
   "id": "e21aa50d-b501-4532-9c1f-62a2c960f48d",
   "metadata": {},
   "outputs": [],
   "source": [
    "# df_train = pd.read_csv(TRAIN_INPUT, nrows = 100 )\n",
    "# df_train = pd.read_csv(TRAIN_INPUT, usecols = ['Metadata_Batch'])"
   ]
  },
  {
   "cell_type": "code",
   "execution_count": null,
   "id": "8e266886-b249-4370-84ef-242c34c98e72",
   "metadata": {},
   "outputs": [],
   "source": [
    "test_y = df_test.iloc[:,10:11].to_numpy().ravel().astype(np.uint8)\n",
    "test_y.sum()\n",
    "test_y.shape, type(test_y), test_y.dtype\n",
    "test_X = df_test.iloc[:,11:].to_numpy()\n",
    "test_X.shape,type(test_X), test_X.dtype"
   ]
  },
  {
   "cell_type": "code",
   "execution_count": null,
   "id": "b5ccbf57-4fa7-4842-919b-103d14e44c79",
   "metadata": {},
   "outputs": [],
   "source": [
    "df_train.shape\n",
    "df_train.info()\n",
    "df_train.iloc[:5,:16]"
   ]
  },
  {
   "cell_type": "code",
   "execution_count": null,
   "id": "8b7d392e-68eb-4474-ad37-12244f4d23b0",
   "metadata": {},
   "outputs": [],
   "source": [
    "312000+34542"
   ]
  },
  {
   "cell_type": "code",
   "execution_count": null,
   "id": "8710ee4c-badf-4f28-a214-f8354f6c1e5f",
   "metadata": {},
   "outputs": [],
   "source": [
    "train_y = df_train.iloc[:,10:11].to_numpy().ravel().astype(np.uint8)\n",
    "train_y.sum()\n",
    "train_y.shape, type(train_y), train_y.dtype\n",
    "\n",
    "train_X = df_train.iloc[:,11:].to_numpy()\n",
    "train_X.shape,type(train_X) ,train_X.dtype"
   ]
  },
  {
   "cell_type": "markdown",
   "id": "00c738a2-74d5-4702-a93f-36428714aedf",
   "metadata": {
    "jp-MarkdownHeadingCollapsed": true
   },
   "source": [
    "## Standardize inputs"
   ]
  },
  {
   "cell_type": "code",
   "execution_count": null,
   "id": "6ba790ed-fea3-4803-bf33-91b2a0d74fd7",
   "metadata": {},
   "outputs": [],
   "source": [
    "print(f\"Train_X :  Min: {train_X.min():.4f}    Max: {train_X.max():.4f}   Mean: {train_X.mean():.4f}  Std: {train_X.std():.4f}\")\n",
    "print(f\"Test_X  :  Min: {test_X.min():.4f}    Max: {test_X.max():.4f}    Mean: {test_X.mean():.4f}  Std: {test_X.std():.4f}\")"
   ]
  },
  {
   "cell_type": "code",
   "execution_count": null,
   "id": "8ab780bd-8b49-46ce-b18b-abc1e0ff181d",
   "metadata": {},
   "outputs": [],
   "source": [
    "# print(f\"Train_X :  Min: {train_X.min():.4f}    Max: {train_X.max():.4f}   Mean: {train_X.mean():.4f}  Std: {train_X.std():.4f}\")\n",
    "# print(f\"Test_X  :  Min: {test_X.min():.4f}    Max: {test_X.max():.4f}    Mean: {test_X.mean():.4f}  Std: {test_X.std():.4f}\")"
   ]
  },
  {
   "cell_type": "code",
   "execution_count": null,
   "id": "614ed6ad-1c8c-4c10-9bc5-82e6fcc9fa56",
   "metadata": {},
   "outputs": [],
   "source": [
    "scaler = StandardScaler(copy = True)\n",
    "train_X = scaler.fit_transform(train_X)\n",
    "test_X = scaler.transform(test_X)"
   ]
  },
  {
   "cell_type": "code",
   "execution_count": null,
   "id": "34a118cd-aed2-4e64-a4da-8de20a99be3a",
   "metadata": {},
   "outputs": [],
   "source": [
    "print(\"After Standard Scaler Transformation\")\n",
    "print(f\"Train_X :  Min: {train_X.min():.4f}    Max: {train_X.max():.4f}   Mean: {train_X.mean():.4f}  Std: {train_X.std():.4f}\")\n",
    "print(f\"Test_X  :  Min: {test_X.min():.4f}    Max: {test_X.max():.4f}    Mean: {test_X.mean():.4f}  Std: {test_X.std():.4f}\")\n"
   ]
  },
  {
   "cell_type": "code",
   "execution_count": null,
   "id": "c685b4df-8975-4935-8bd2-edba44873a90",
   "metadata": {},
   "outputs": [],
   "source": [
    "label_counts([(\"Training\", train_y), (\"Test\", test_y)])"
   ]
  },
  {
   "cell_type": "code",
   "execution_count": null,
   "id": "a0b7ad73-1936-428c-bd8e-341f594d816b",
   "metadata": {},
   "outputs": [],
   "source": []
  }
 ],
 "metadata": {
  "kernelspec": {
   "display_name": "Python [conda env:cp311]",
   "language": "python",
   "name": "conda-env-cp311-py"
  },
  "language_info": {
   "codemirror_mode": {
    "name": "ipython",
    "version": 3
   },
   "file_extension": ".py",
   "mimetype": "text/x-python",
   "name": "python",
   "nbconvert_exporter": "python",
   "pygments_lexer": "ipython3",
   "version": "3.11.4"
  }
 },
 "nbformat": 4,
 "nbformat_minor": 5
}
