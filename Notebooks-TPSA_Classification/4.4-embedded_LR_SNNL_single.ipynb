{
 "cells": [
  {
   "cell_type": "markdown",
   "id": "418c282c-2b25-4f32-96cf-883b40b84c36",
   "metadata": {
    "editable": true,
    "slideshow": {
     "slide_type": ""
    },
    "tags": []
   },
   "source": [
    "  # Apply encoder to morphological profiles to get latent space representations :"
   ]
  },
  {
   "cell_type": "markdown",
   "id": "14da93a6-653f-4a55-9b3a-e72ab79a1121",
   "metadata": {},
   "source": [
    "# Setup"
   ]
  },
  {
   "cell_type": "code",
   "execution_count": 1,
   "id": "a104a277-3ad3-438a-b706-d4499f709f89",
   "metadata": {
    "ExecuteTime": {
     "end_time": "2023-04-12T10:29:16.111588Z",
     "start_time": "2023-04-12T10:29:15.764305Z"
    },
    "editable": true,
    "execution": {
     "iopub.execute_input": "2024-12-06T14:14:55.524774Z",
     "iopub.status.busy": "2024-12-06T14:14:55.524413Z",
     "iopub.status.idle": "2024-12-06T14:14:55.556002Z",
     "shell.execute_reply": "2024-12-06T14:14:55.555315Z",
     "shell.execute_reply.started": "2024-12-06T14:14:55.524742Z"
    },
    "slideshow": {
     "slide_type": ""
    },
    "tags": []
   },
   "outputs": [
    {
     "data": {
      "text/html": [
       "<style>.container { width:98% !important; }</style>"
      ],
      "text/plain": [
       "<IPython.core.display.HTML object>"
      ]
     },
     "metadata": {},
     "output_type": "display_data"
    }
   ],
   "source": [
    "%load_ext autoreload  \n",
    "%autoreload 2\n",
    "from IPython.display import display, HTML, Image\n",
    "from IPython.core.interactiveshell import InteractiveShell\n",
    "display(HTML(\"<style>.container { width:98% !important; }</style>\"))\n",
    "InteractiveShell.ast_node_interactivity = \"all\""
   ]
  },
  {
   "cell_type": "code",
   "execution_count": 2,
   "id": "7478f60a-2ea2-4407-bd91-f068349f222b",
   "metadata": {
    "ExecuteTime": {
     "end_time": "2023-04-12T10:29:16.111588Z",
     "start_time": "2023-04-12T10:29:15.764305Z"
    },
    "editable": true,
    "execution": {
     "iopub.execute_input": "2024-12-06T14:14:55.557071Z",
     "iopub.status.busy": "2024-12-06T14:14:55.556871Z",
     "iopub.status.idle": "2024-12-06T14:14:55.987847Z",
     "shell.execute_reply": "2024-12-06T14:14:55.986959Z",
     "shell.execute_reply.started": "2024-12-06T14:14:55.557049Z"
    },
    "slideshow": {
     "slide_type": ""
    },
    "tags": []
   },
   "outputs": [
    {
     "name": "stdout",
     "output_type": "stream",
     "text": [
      "insert ../\n",
      "insert ../../..\n",
      "['../../..', '../', '/home/kevin/WSL-shared/cellpainting/cj-datasets/Notebooks-TPSA_Classification', '/home/kevin/miniforge3/envs/cp311/lib/python311.zip', '/home/kevin/miniforge3/envs/cp311/lib/python3.11', '/home/kevin/miniforge3/envs/cp311/lib/python3.11/lib-dynload', '', '/home/kevin/miniforge3/envs/cp311/lib/python3.11/site-packages', '/home/kevin/miniforge3/envs/cp311/lib/python3.11/site-packages/huggingface_hub-0.20.3-py3.8.egg']\n"
     ]
    }
   ],
   "source": [
    "import os\n",
    "import sys\n",
    "import csv\n",
    "import json\n",
    "import time\n",
    "import types\n",
    "import copy\n",
    "import pprint\n",
    "import logging\n",
    "from datetime import datetime\n",
    "for p in ['../','../../..']:\n",
    "    if p not in sys.path:\n",
    "        print(f\"insert {p}\")\n",
    "        sys.path.insert(0, p)\n",
    "print(sys.path)\n",
    "\n",
    "import numpy as np\n",
    "import pandas as pd\n",
    "import scipy\n",
    "# import torch\n",
    "# import torch.nn.functional as F\n",
    "# from torchinfo import summary\n",
    "# torch.set_printoptions(precision=None, threshold=None, edgeitems=None, linewidth=150, profile=None, sci_mode=None)\n",
    "# torch.set_printoptions(precision=None, threshold=None, edgeitems=None, linewidth=150, profile=None, sci_mode=None)\n",
    "\n",
    "\n",
    "\n",
    "pp = pprint.PrettyPrinter(indent=4)\n",
    "pd.options.display.width = 132\n",
    "np.set_printoptions(edgeitems=3, infstr='inf', linewidth=150, nanstr='nan')\n",
    "\n",
    "os.environ[\"WANDB_NOTEBOOK_NAME\"] = \"AE-MAIN-SNNL.ipynb\"\n",
    "# os.environ[\"CUDA_LAUNCH_BLOCKING\"] = \"1\"\n",
    "# os.environ[\"CUDA_VISIBLE_DEVICES\"] = \"2\""
   ]
  },
  {
   "cell_type": "code",
   "execution_count": 3,
   "id": "9473003f-757e-4cf6-b5da-491ae0e04f57",
   "metadata": {
    "editable": true,
    "execution": {
     "iopub.execute_input": "2024-12-06T14:14:55.989741Z",
     "iopub.status.busy": "2024-12-06T14:14:55.989266Z",
     "iopub.status.idle": "2024-12-06T14:14:58.586359Z",
     "shell.execute_reply": "2024-12-06T14:14:58.585677Z",
     "shell.execute_reply.started": "2024-12-06T14:14:55.989717Z"
    },
    "slideshow": {
     "slide_type": ""
    },
    "tags": []
   },
   "outputs": [],
   "source": [
    "# import snnl.utils as utils\n",
    "# from snnl.utils import parse_args, load_configuration, set_global_seed, get_device, set_device\n",
    "from KevinsRoutines.utils.utils_general import list_namespace, save_to_pickle, load_from_pickle"
   ]
  },
  {
   "cell_type": "code",
   "execution_count": 4,
   "id": "82fbcc19-b110-42d0-862c-4ce7f227ad06",
   "metadata": {
    "execution": {
     "iopub.execute_input": "2024-12-06T14:15:03.345100Z",
     "iopub.status.busy": "2024-12-06T14:15:03.344534Z",
     "iopub.status.idle": "2024-12-06T14:15:04.997611Z",
     "shell.execute_reply": "2024-12-06T14:15:04.996868Z",
     "shell.execute_reply.started": "2024-12-06T14:15:03.345054Z"
    }
   },
   "outputs": [
    {
     "name": "stderr",
     "output_type": "stream",
     "text": [
      "/home/kevin/miniforge3/envs/cp311/lib/python3.11/site-packages/dask/dataframe/_pyarrow_compat.py:17: FutureWarning: Minimal version of pyarrow will soon be increased to 14.0.1. You are using 11.0.0. Please consider upgrading.\n",
      "  warnings.warn(\n"
     ]
    }
   ],
   "source": [
    "from src.utils.utils_cellpainting import (model_selection, balance_datasets, label_counts, compute_metrics,\n",
    "                                        plots_from_estimator, plots_from_predictions)\n",
    "from src.utils.jcp_datasets import project_datasets, display_project_datasets"
   ]
  },
  {
   "cell_type": "code",
   "execution_count": 24,
   "id": "46fc79f1-4481-4f1c-bed7-a5e375ea3eae",
   "metadata": {
    "editable": true,
    "execution": {
     "iopub.execute_input": "2024-12-06T11:10:47.543799Z",
     "iopub.status.busy": "2024-12-06T11:10:47.542962Z",
     "iopub.status.idle": "2024-12-06T11:10:47.598284Z",
     "shell.execute_reply": "2024-12-06T11:10:47.596972Z",
     "shell.execute_reply.started": "2024-12-06T11:10:47.543715Z"
    },
    "slideshow": {
     "slide_type": ""
    },
    "tags": []
   },
   "outputs": [],
   "source": [
    "import seaborn as sb\n",
    "import matplotlib.pyplot as plt\n",
    "import scipy.stats as sps\n",
    "# from scipy.spatial.distance import pdist, squareform, euclidean\n",
    "# from sklearn.metrics import accuracy_score, f1_score, roc_curve, roc_auc_score, classification_report, precision_recall_fscore_support\n",
    "# from sklearn.metrics import precision_recall_curve, PrecisionRecallDisplay, roc_curve, RocCurveDisplay\n",
    "# from sklearn.metrics import confusion_matrix, ConfusionMatrixDisplay"
   ]
  },
  {
   "cell_type": "code",
   "execution_count": 5,
   "id": "6651619f-dac6-4962-881e-8fd87b2cbfe2",
   "metadata": {
    "editable": true,
    "execution": {
     "iopub.execute_input": "2024-12-06T11:09:01.677659Z",
     "iopub.status.busy": "2024-12-06T11:09:01.676589Z",
     "iopub.status.idle": "2024-12-06T11:09:02.140019Z",
     "shell.execute_reply": "2024-12-06T11:09:02.138529Z",
     "shell.execute_reply.started": "2024-12-06T11:09:01.677595Z"
    },
    "slideshow": {
     "slide_type": ""
    },
    "tags": []
   },
   "outputs": [],
   "source": [
    "# Models\n",
    "from xgboost import XGBClassifier, XGBRegressor\n",
    "\n",
    "import sklearn.metrics as skm\n",
    "from sklearn.decomposition import PCA\n",
    "from sklearn.manifold import TSNE\n",
    "import sklearn.utils.random as skr\n",
    "\n",
    "\n",
    "from sklearn.ensemble import RandomForestClassifier, RandomForestRegressor\n",
    "from sklearn.neighbors import KNeighborsClassifier, KNeighborsRegressor\n",
    "from sklearn.svm import SVC, SVR\n",
    "from sklearn.linear_model import LogisticRegression, LogisticRegressionCV\n",
    "\n",
    "# utility class to help normalize labels such that they contain only values between 0 and n_classes-1.\n",
    "from sklearn.preprocessing import LabelEncoder\n",
    "\n",
    "# K-Folds cross-validator - Provides train/test indices to split data in train/test sets. Split dataset into k consecutive folds (without shuffling by default).\n",
    "# Each fold is then used once as a validation while the k - 1 remaining folds form the training set.\n",
    "from sklearn.model_selection import KFold, StratifiedKFold\n",
    "from sklearn.model_selection import GroupKFold, StratifiedGroupKFold\n",
    "from sklearn.model_selection import ShuffleSplit, GroupShuffleSplit, StratifiedShuffleSplit, TimeSeriesSplit\n",
    "\n",
    "# Evaluate metric(s) by cross-validation and also record fit/score times.\n",
    "from sklearn.model_selection import cross_validate, cross_val_score\n",
    "\n",
    "# Generate cross-validated estimates for each input data point.\n",
    "# The data is split according to the cv parameter. Each sample belongs to exactly one test set,\n",
    "# and its prediction is computed with an estimator fitted on the corresponding training set.\n",
    "from sklearn.model_selection import cross_val_predict\n",
    "\n",
    "# Exhaustive search over specified parameter values for an estimator.\n",
    "# Randomized search on hyper parameters.\n",
    "from sklearn.model_selection import GridSearchCV, RandomizedSearchCV\n",
    "\n",
    "# Input checker utility for building a cross-validator.(?)\n",
    "from sklearn.model_selection._split import check_cv\n",
    "\n",
    "from sklearn.pipeline import Pipeline\n",
    "\n",
    "# Make a scorer from a performance metric or loss function. This factory function wraps scoring\n",
    "# functions for use in GridSearchCV and cross_val_score. It takes a score function, such as accuracy_score,\n",
    "# mean_squared_error, adjusted_rand_score or average_precision_score and returns a callable that\n",
    "# scores an estimator’s output. The signature of the call is (estimator, X, y) where estimator\n",
    "# is the model to be evaluated, X is the data and y is the ground truth labeling (or None in the\n",
    "# case of unsupervised models).\n",
    "from sklearn.metrics import make_scorer\n",
    "\n",
    "# regression matrics\n",
    "from sklearn.metrics import mean_absolute_error, mean_squared_error, r2_score\n",
    "\n",
    "# classification metrics\n",
    "from sklearn.metrics import accuracy_score, confusion_matrix, classification_report\n",
    "\n",
    "# from sklearn.base import BaseEstimator\n",
    "# from sklearn.base import ClassifierMixin\n",
    "# from sklearn.base import TransformerMixin\n",
    "\n",
    "# Construct a new unfitted estimator with the same parameters. Clone does a deep copy of the model\n",
    "# in an estimator without actually copying attached data. It returns a new estimator with the same\n",
    "# parameters that has not been fitted on any data.\n",
    "# from sklearn.base import clone\n",
    "from sklearn.preprocessing import StandardScaler\n"
   ]
  },
  {
   "cell_type": "code",
   "execution_count": 7,
   "id": "c12352c5-443c-414b-bb2b-6ea5ba801515",
   "metadata": {
    "editable": true,
    "execution": {
     "iopub.execute_input": "2024-12-06T11:09:10.588152Z",
     "iopub.status.busy": "2024-12-06T11:09:10.587154Z",
     "iopub.status.idle": "2024-12-06T11:09:10.643565Z",
     "shell.execute_reply": "2024-12-06T11:09:10.641967Z",
     "shell.execute_reply.started": "2024-12-06T11:09:10.588093Z"
    },
    "scrolled": true,
    "slideshow": {
     "slide_type": ""
    },
    "tags": []
   },
   "outputs": [
    {
     "name": "stderr",
     "output_type": "stream",
     "text": [
      "2024-12-06 12:09:10,635 - __main__ - INFO: -  Excution started : 2024_12_06_12:09:10 \n",
      "2024-12-06 12:09:10,637 - __main__ - INFO: -  Scipy version    : 1.11.4  \t\t Numpy version : 1.26.2\n",
      "2024-12-06 12:09:10,638 - __main__ - INFO: -  Pandas version: 2.2.2  \n"
     ]
    }
   ],
   "source": [
    "timestamp = datetime.now().strftime('%Y_%m_%d_%H:%M:%S')\n",
    "logger = logging.getLogger(__name__)\n",
    "logLevel = os.environ.get('LOG_LEVEL', 'INFO').upper()\n",
    "FORMAT = '%(asctime)s - %(name)s - %(levelname)s: - %(message)s'\n",
    "logging.basicConfig(level=\"INFO\", format= FORMAT)\n",
    "\n",
    "logger.info(f\" Excution started : {timestamp} \")\n",
    "# logger.info(f\" Pytorch version  : {torch.__version__}\")\n",
    "logger.info(f\" Scipy version    : {scipy.__version__}  \\t\\t Numpy version : {np.__version__}\")\n",
    "logger.info(f\" Pandas version: {pd.__version__}  \")\n"
   ]
  },
  {
   "cell_type": "code",
   "execution_count": 9,
   "id": "15735e2b-ae6a-4fa7-bc95-b4faa831e120",
   "metadata": {
    "execution": {
     "iopub.execute_input": "2024-12-06T11:09:30.356688Z",
     "iopub.status.busy": "2024-12-06T11:09:30.355931Z",
     "iopub.status.idle": "2024-12-06T11:09:32.313217Z",
     "shell.execute_reply": "2024-12-06T11:09:32.311971Z",
     "shell.execute_reply.started": "2024-12-06T11:09:30.356628Z"
    }
   },
   "outputs": [
    {
     "name": "stderr",
     "output_type": "stream",
     "text": [
      "/home/kevin/miniforge3/envs/cp311/lib/python3.11/site-packages/dask/dataframe/_pyarrow_compat.py:17: FutureWarning: Minimal version of pyarrow will soon be increased to 14.0.1. You are using 11.0.0. Please consider upgrading.\n",
      "  warnings.warn(\n"
     ]
    },
    {
     "name": "stdout",
     "output_type": "stream",
     "text": [
      " Path and Prefixes : \n",
      " ------------------- \n",
      " prefix                                      : \n",
      " prefix_lc                                   : \n",
      " metadata path                               : ./metadata/\n",
      " input path                                  : ./input/\n",
      " output path                                 : ../output_10162023/\n",
      "\n",
      " Input & Metadata Datasets : \n",
      " --------------------------- \n",
      " Compound Metadata Input File                : ./metadata/compound.csv\n",
      " Plate Metadata Input File                   : ./metadata/plate_new.csv\n",
      " Well Metadata Input File                    : ./metadata/well.csv\n",
      "\n",
      " Profiles Metadata File                      : ./metadata/profile_metadata.pkl\n",
      " Parquet  Metadata File                      : ./metadata/parquet_columns.pkl\n",
      "\n",
      " Compound Metadata : \n",
      " ------------------- \n",
      " Metadata + Smiles                           : ../output_10162023/compound_metadata_smiles.csv\n",
      "          + TPSA                             : ../output_10162023/compound_metadata_tpsa.csv\n",
      "          + TPSA Cleaned (TPSA <> 0)         : ../output_10162023/compound_metadata_tpsa_clean.csv\n",
      "          + Base64 Pharmacophores            : ../output_10162023/compound_metadads.ta_pcfp.csv\n",
      "\n",
      " Compound/TPSA File:\n",
      " -------------------\n",
      " compound TPSA File                          : ../output_10162023/compound_TPSA.csv\n",
      " compound TPSA Clean File                    : ../output_10162023/compound_TPSA_clean.csv\n",
      "\n",
      "\n",
      " Compound/Pharmacophore Files :\n",
      " ------------------------------\n",
      " compound Pharmacophore Sparse File          : ../output_10162023/compound_pharmacophores_sparse.pkl\n",
      " compound Pharmacophore CSV File             : ../output_10162023/compound_pharmacophores.csv\n",
      " compound Pharmacophore Numpy File           : ../output_10162023/compound_pharmacophores.npy\n",
      " compound Pharmacophore Numpy Zipped File    : ../output_10162023/compound_pharmacophores_zip.npz\n",
      "\n",
      " compound Pharmacophore 3Sample File         : ../output_10162023/compound_pharmacophores_3samples.csv\n",
      "\n",
      " Compound Extended Metadata files:\n",
      " ---------------------------------\n",
      " Compound Extended MetadataFile              : ../output_10162023/compound_extended_metadata.csv\n",
      "\n",
      " Compound Extended Metadata 5 SampleFile     : ../output_10162023/compound_extended_metadata_5samples.csv\n",
      " Compound Extended Metadata 3 SampleFile     : ../output_10162023/compound_extended_metadata_3samples.csv\n",
      " Compound Extended Metadata 2 SampleFile     : ../output_10162023/compound_extended_metadata_2samples.csv\n",
      "\n",
      " Compound Profiles files:\n",
      " ------------------------\n",
      " Compound Profiles 5 Samples File            : ../output_10162023//5_sample_profiles/5sample_profiles_{0:03d}{1:s}.csv\n",
      " Compound Profiles 3 Samples File            : ../output_10162023//3_sample_profiles/3sample_profiles_{0:03d}{1:s}.csv\n",
      " Compound Profiles 2 Samples File            : ../output_10162023//2_sample_profiles/2sample_profiles_{0:03d}{1:s}.csv\n",
      "\n"
     ]
    }
   ],
   "source": [
    "\n",
    "ds = project_datasets(output_path = '../output_10162023/')\n",
    "display_project_datasets(ds)"
   ]
  },
  {
   "cell_type": "code",
   "execution_count": 77,
   "id": "349e5527-7b82-484b-8c03-3623015c5906",
   "metadata": {
    "editable": true,
    "execution": {
     "iopub.execute_input": "2024-12-06T12:30:32.209223Z",
     "iopub.status.busy": "2024-12-06T12:30:32.208724Z",
     "iopub.status.idle": "2024-12-06T12:30:32.249646Z",
     "shell.execute_reply": "2024-12-06T12:30:32.248996Z",
     "shell.execute_reply.started": "2024-12-06T12:30:32.209185Z"
    },
    "slideshow": {
     "slide_type": ""
    },
    "tags": []
   },
   "outputs": [
    {
     "name": "stdout",
     "output_type": "stream",
     "text": [
      "11\n",
      "261\n"
     ]
    }
   ],
   "source": [
    "WANDB_ACTIVE  = False\n",
    "DATE          = 'yyyymmdd-hhmm'\n",
    "# CHECKPT       = \"AE_snnl_dcpb200_150Ltnt_512_240709_2235_LAST_ep_705.pt\"\n",
    "# RUN_ID        = \"jzt6ecjz\"\n",
    "PROFILES_INPUT_PATH = f\"/home/kevin/WSL-shared/cellpainting/cj-datasets/output_11102023/3_sample_profiles/\"\n",
    "EMBEDDINGS_INPUT_PATH = f\"/home/kevin/WSL-shared/cellpainting/cj-datasets/output_11102023/3_sample_embeddings/\"\n",
    "FINGERPRINTS_INPUT_PATH = f\"/home/kevin/WSL-shared/cellpainting/cj-datasets/output_11102023/3_sample_profiles/\"\n",
    "MODEL_SAVE_PATH = f\"/home/kevin/WSL-shared/cellpainting/cj-datasets/saved_tpsa_models/embedding_models\"\n",
    "\n",
    "LATENT_DIM = 250\n",
    "METADATA_COLS = ['Metadata_Source', 'Metadata_Batch', 'Metadata_Plate', 'Metadata_Well'  , 'Metadata_JCP2022', \n",
    "                 'Metadata_Hash'  , 'Metadata_Bin'  , 'Metadata_TPSA' , 'Metadata_lnTPSA', 'Metadata_log10TPSA', \n",
    "                 'Metadata_Permiation']\n",
    "\n",
    "# METADATA_COLS += [f'Feature_{x:03d}' for x in range(LATENT_DIM)]\n",
    "INPUT_COLS = LATENT_DIM + len(METADATA_COLS)\n",
    "print(len(METADATA_COLS))\n",
    "print(INPUT_COLS)\n",
    "\n",
    "\n",
    "## AUTOENCODER RUNMODE \n",
    "AE_RUNMODE = \"snnl\"\n",
    "# AE_RUNMODE = 'base'\n",
    "## \n",
    "# AE_DATETIME = \"20240906_2201\"     # SNNL, CPB = 600, Latent 150, WD = 0.001, SNN Factor 3\n",
    "AE_DATETIME = \"20240917_2004\"     # SNNL, CPB = 600, Latent 250, WD = 0.001, SNN Factor 3\n",
    "##\n",
    "# AE_CKPTTYPE = \"BEST\"\n",
    "AE_CKPTTYPE = \"LAST\"\n",
    "# df_header = pd.read_csv(HEADER_FILE).columns.to_list()\n",
    "# header_cols"
   ]
  },
  {
   "cell_type": "code",
   "execution_count": 73,
   "id": "c2d45c0c-8e38-4a67-80d4-69274f7eed33",
   "metadata": {
    "editable": true,
    "execution": {
     "iopub.execute_input": "2024-12-06T12:29:45.110722Z",
     "iopub.status.busy": "2024-12-06T12:29:45.110187Z",
     "iopub.status.idle": "2024-12-06T12:29:45.149692Z",
     "shell.execute_reply": "2024-12-06T12:29:45.149002Z",
     "shell.execute_reply.started": "2024-12-06T12:29:45.110682Z"
    },
    "slideshow": {
     "slide_type": ""
    },
    "tags": []
   },
   "outputs": [
    {
     "name": "stdout",
     "output_type": "stream",
     "text": [
      "3sample_pharmacophores_1482_HashOrder_training.csv\n",
      "3sample_pharmacophores_261_HashOrder_validation.csv\n",
      "3sample_pharmacophores_1482_HashOrder_test.csv\n",
      "\n",
      "3smpl_prfl_embedding_261_HashOrder_snnl_20240917_2004_LAST_training.csv\n",
      "3smpl_prfl_embedding_261_HashOrder_snnl_20240917_2004_LAST_validation.csv\n",
      "3smpl_prfl_embedding_261_HashOrder_snnl_20240917_2004_LAST_test.csv\n"
     ]
    }
   ],
   "source": [
    "# = utils.load_model_from_ckpt(model, ex_mode, ex_timestamp, ex_title, epochs, ex_cpb, ex_factor )\n",
    "\n",
    "FINGERPRINTS_TRAINING_FILE = f\"3sample_pharmacophores_1482_HashOrder_training.csv\"\n",
    "FINGERPRINTS_VALIDATION_FILE = f\"3sample_pharmacophores_{INPUT_COLS}_HashOrder_validation.csv\"\n",
    "FINGERPRINTS_TEST_FILE = f\"3sample_pharmacophores_1482_HashOrder_test.csv\"\n",
    "\n",
    "print(FINGERPRINTS_TRAINING_FILE)\n",
    "print(FINGERPRINTS_VALIDATION_FILE)\n",
    "print(FINGERPRINTS_TEST_FILE)\n",
    "\n",
    "EMBEDDINGS_TRAINING_FILE   = f'3smpl_prfl_embedding_{INPUT_COLS}_HashOrder_{AE_RUNMODE}_{AE_DATETIME}_LAST_training.csv'\n",
    "EMBEDDINGS_VALIDATION_FILE = f'3smpl_prfl_embedding_{INPUT_COLS}_HashOrder_{AE_RUNMODE}_{AE_DATETIME}_LAST_validation.csv'\n",
    "EMBEDDINGS_TEST_FILE       = f'3smpl_prfl_embedding_{INPUT_COLS}_HashOrder_{AE_RUNMODE}_{AE_DATETIME}_LAST_test.csv'\n",
    "\n",
    "print()\n",
    "print(EMBEDDINGS_TRAINING_FILE)\n",
    "print(EMBEDDINGS_VALIDATION_FILE)\n",
    "print(EMBEDDINGS_TEST_FILE)"
   ]
  },
  {
   "cell_type": "code",
   "execution_count": 34,
   "id": "ab7b33d4-10b8-44a2-a97b-3fb5e124812e",
   "metadata": {
    "editable": true,
    "execution": {
     "iopub.execute_input": "2024-12-06T11:13:30.192098Z",
     "iopub.status.busy": "2024-12-06T11:13:30.191235Z",
     "iopub.status.idle": "2024-12-06T11:13:30.249965Z",
     "shell.execute_reply": "2024-12-06T11:13:30.248990Z",
     "shell.execute_reply.started": "2024-12-06T11:13:30.192024Z"
    },
    "slideshow": {
     "slide_type": ""
    },
    "tags": []
   },
   "outputs": [
    {
     "data": {
      "text/plain": [
       "'/home/kevin/WSL-shared/cellpainting/cj-datasets/output_11102023/3_sample_embeddings/3smpl_prfl_embedding_261_HashOrder_snnl_20240917_2004_LAST_training.csv'"
      ]
     },
     "execution_count": 34,
     "metadata": {},
     "output_type": "execute_result"
    },
    {
     "data": {
      "text/plain": [
       "'/home/kevin/WSL-shared/cellpainting/cj-datasets/output_11102023/3_sample_profiles/3sample_pharmacophores_1482_HashOrder_training.csv'"
      ]
     },
     "execution_count": 34,
     "metadata": {},
     "output_type": "execute_result"
    },
    {
     "data": {
      "text/plain": [
       "'/home/kevin/WSL-shared/cellpainting/cj-datasets/output_11102023/3_sample_embeddings/3smpl_prfl_embedding_261_HashOrder_snnl_20240917_2004_LAST_test.csv'"
      ]
     },
     "execution_count": 34,
     "metadata": {},
     "output_type": "execute_result"
    },
    {
     "data": {
      "text/plain": [
       "'/home/kevin/WSL-shared/cellpainting/cj-datasets/output_11102023/3_sample_profiles/3sample_pharmacophores_1482_HashOrder_test.csv'"
      ]
     },
     "execution_count": 34,
     "metadata": {},
     "output_type": "execute_result"
    }
   ],
   "source": [
    "TRAIN_INPUT_X = os.path.join(EMBEDDINGS_INPUT_PATH, EMBEDDINGS_TRAINING_FILE)\n",
    "TRAIN_INPUT_Y = os.path.join(FINGERPRINTS_INPUT_PATH, FINGERPRINTS_TRAINING_FILE)\n",
    "TRAIN_INPUT_X\n",
    "TRAIN_INPUT_Y\n",
    "\n",
    "TEST_INPUT_X  = os.path.join(EMBEDDINGS_INPUT_PATH, EMBEDDINGS_TEST_FILE)\n",
    "TEST_INPUT_Y  = os.path.join(FINGERPRINTS_INPUT_PATH, FINGERPRINTS_TEST_FILE)\n",
    "TEST_INPUT_X\n",
    "TEST_INPUT_Y"
   ]
  },
  {
   "cell_type": "markdown",
   "id": "cdaa5260-01ce-4a98-b597-62c43c388f43",
   "metadata": {},
   "source": [
    "## Helper routines"
   ]
  },
  {
   "cell_type": "code",
   "execution_count": 25,
   "id": "3ddca72e-1b9d-4a58-b3ca-0b7d8485b27c",
   "metadata": {
    "execution": {
     "iopub.execute_input": "2024-12-06T11:10:52.682702Z",
     "iopub.status.busy": "2024-12-06T11:10:52.681830Z",
     "iopub.status.idle": "2024-12-06T11:10:52.743787Z",
     "shell.execute_reply": "2024-12-06T11:10:52.742585Z",
     "shell.execute_reply.started": "2024-12-06T11:10:52.682642Z"
    }
   },
   "outputs": [
    {
     "data": {
      "text/plain": [
       "array([[93, 52, 98, 75, 42, 18, 10, 61, 88, 60],\n",
       "       [16, 45, 23, 21, 76, 58, 24, 34,  5, 32],\n",
       "       [66, 95, 36, 96, 49, 80, 77, 83,  2, 99],\n",
       "       [ 4, 69, 68, 20, 47, 62, 81, 67, 97,  1],\n",
       "       [71, 64, 43, 55, 11, 35, 90, 40, 44, 70],\n",
       "       [ 3, 31, 65, 59,  0, 41, 50, 39, 74, 79],\n",
       "       [86, 25, 33, 51, 85, 29, 15, 94,  9, 17],\n",
       "       [38, 57, 27, 13, 12, 14, 63, 73, 78, 84],\n",
       "       [48, 54,  6, 53, 37, 89, 87, 56, 92, 30],\n",
       "       [22,  8, 91, 28, 19, 72, 26, 82,  7, 46]])"
      ]
     },
     "execution_count": 25,
     "metadata": {},
     "output_type": "execute_result"
    }
   ],
   "source": [
    "sample_idxs = skr.sample_without_replacement(n_population=100, n_samples= 10 )\n",
    "\n",
    "rng = np.random.default_rng()\n",
    "\n",
    "indxs = rng.choice(100, [10,10], replace = False)\n",
    "indxs"
   ]
  },
  {
   "attachments": {},
   "cell_type": "markdown",
   "id": "d7ac4b04-717b-41ac-842f-c4104ba6009f",
   "metadata": {},
   "source": [
    "# Load Datasets - Embedded Features CSV files"
   ]
  },
  {
   "cell_type": "markdown",
   "id": "a9a5c3ab-545b-45f2-8267-3c502e25298c",
   "metadata": {},
   "source": [
    "## Training Data"
   ]
  },
  {
   "cell_type": "code",
   "execution_count": 26,
   "id": "e21aa50d-b501-4532-9c1f-62a2c960f48d",
   "metadata": {
    "execution": {
     "iopub.execute_input": "2024-12-06T11:10:55.298770Z",
     "iopub.status.busy": "2024-12-06T11:10:55.297758Z",
     "iopub.status.idle": "2024-12-06T11:11:17.819429Z",
     "shell.execute_reply": "2024-12-06T11:11:17.817789Z",
     "shell.execute_reply.started": "2024-12-06T11:10:55.298688Z"
    }
   },
   "outputs": [],
   "source": [
    "df_train_x = pd.read_csv(TRAIN_INPUT_X)\n",
    "# df_train = pd.read_csv(TRAIN_INPUT, nrows = 100 )\n",
    "# df_train = pd.read_csv(TRAIN_INPUT, usecols = ['Metadata_Batch'])"
   ]
  },
  {
   "cell_type": "code",
   "execution_count": 27,
   "id": "b5ccbf57-4fa7-4842-919b-103d14e44c79",
   "metadata": {
    "execution": {
     "iopub.execute_input": "2024-12-06T11:11:17.822967Z",
     "iopub.status.busy": "2024-12-06T11:11:17.822303Z",
     "iopub.status.idle": "2024-12-06T11:11:17.962754Z",
     "shell.execute_reply": "2024-12-06T11:11:17.961769Z",
     "shell.execute_reply.started": "2024-12-06T11:11:17.822939Z"
    }
   },
   "outputs": [
    {
     "data": {
      "text/plain": [
       "(277200, 261)"
      ]
     },
     "execution_count": 27,
     "metadata": {},
     "output_type": "execute_result"
    },
    {
     "name": "stdout",
     "output_type": "stream",
     "text": [
      "<class 'pandas.core.frame.DataFrame'>\n",
      "RangeIndex: 277200 entries, 0 to 277199\n",
      "Columns: 261 entries, Metadata_Source to Feature_249\n",
      "dtypes: float64(254), int64(2), object(5)\n",
      "memory usage: 552.0+ MB\n"
     ]
    },
    {
     "data": {
      "text/html": [
       "<div>\n",
       "<style scoped>\n",
       "    .dataframe tbody tr th:only-of-type {\n",
       "        vertical-align: middle;\n",
       "    }\n",
       "\n",
       "    .dataframe tbody tr th {\n",
       "        vertical-align: top;\n",
       "    }\n",
       "\n",
       "    .dataframe thead th {\n",
       "        text-align: right;\n",
       "    }\n",
       "</style>\n",
       "<table border=\"1\" class=\"dataframe\">\n",
       "  <thead>\n",
       "    <tr style=\"text-align: right;\">\n",
       "      <th></th>\n",
       "      <th>Metadata_Source</th>\n",
       "      <th>Metadata_Batch</th>\n",
       "      <th>Metadata_Plate</th>\n",
       "      <th>Metadata_Well</th>\n",
       "      <th>Metadata_JCP2022</th>\n",
       "      <th>Metadata_Hash</th>\n",
       "      <th>Metadata_Bin</th>\n",
       "      <th>Metadata_TPSA</th>\n",
       "      <th>Metadata_lnTPSA</th>\n",
       "      <th>Metadata_log10TPSA</th>\n",
       "      <th>...</th>\n",
       "      <th>Feature_240</th>\n",
       "      <th>Feature_241</th>\n",
       "      <th>Feature_242</th>\n",
       "      <th>Feature_243</th>\n",
       "      <th>Feature_244</th>\n",
       "      <th>Feature_245</th>\n",
       "      <th>Feature_246</th>\n",
       "      <th>Feature_247</th>\n",
       "      <th>Feature_248</th>\n",
       "      <th>Feature_249</th>\n",
       "    </tr>\n",
       "  </thead>\n",
       "  <tbody>\n",
       "    <tr>\n",
       "      <th>0</th>\n",
       "      <td>source_1</td>\n",
       "      <td>Batch5_20221030</td>\n",
       "      <td>UL001793</td>\n",
       "      <td>M26</td>\n",
       "      <td>JCP2022_006020</td>\n",
       "      <td>-9223347314827979542</td>\n",
       "      <td>10</td>\n",
       "      <td>71.18</td>\n",
       "      <td>4.265212</td>\n",
       "      <td>1.852358</td>\n",
       "      <td>...</td>\n",
       "      <td>0.009390</td>\n",
       "      <td>-0.008253</td>\n",
       "      <td>-0.037940</td>\n",
       "      <td>-0.016286</td>\n",
       "      <td>0.022038</td>\n",
       "      <td>0.005269</td>\n",
       "      <td>-0.018263</td>\n",
       "      <td>0.012688</td>\n",
       "      <td>-0.054655</td>\n",
       "      <td>0.004202</td>\n",
       "    </tr>\n",
       "    <tr>\n",
       "      <th>1</th>\n",
       "      <td>source_10</td>\n",
       "      <td>2021_06_22_U2OS_48_hr_run8</td>\n",
       "      <td>Dest210622-143628</td>\n",
       "      <td>M04</td>\n",
       "      <td>JCP2022_006020</td>\n",
       "      <td>-9223347314827979542</td>\n",
       "      <td>10</td>\n",
       "      <td>71.18</td>\n",
       "      <td>4.265212</td>\n",
       "      <td>1.852358</td>\n",
       "      <td>...</td>\n",
       "      <td>0.095957</td>\n",
       "      <td>0.040152</td>\n",
       "      <td>-0.005584</td>\n",
       "      <td>0.046152</td>\n",
       "      <td>-0.024817</td>\n",
       "      <td>0.049557</td>\n",
       "      <td>-0.078429</td>\n",
       "      <td>0.029078</td>\n",
       "      <td>-0.124861</td>\n",
       "      <td>0.021048</td>\n",
       "    </tr>\n",
       "    <tr>\n",
       "      <th>2</th>\n",
       "      <td>source_3</td>\n",
       "      <td>CP_31_all_Phenix1</td>\n",
       "      <td>B040603b</td>\n",
       "      <td>G13</td>\n",
       "      <td>JCP2022_006020</td>\n",
       "      <td>-9223347314827979542</td>\n",
       "      <td>10</td>\n",
       "      <td>71.18</td>\n",
       "      <td>4.265212</td>\n",
       "      <td>1.852358</td>\n",
       "      <td>...</td>\n",
       "      <td>0.017318</td>\n",
       "      <td>-0.012258</td>\n",
       "      <td>-0.079632</td>\n",
       "      <td>-0.032763</td>\n",
       "      <td>0.054452</td>\n",
       "      <td>0.009448</td>\n",
       "      <td>-0.038036</td>\n",
       "      <td>0.030926</td>\n",
       "      <td>-0.111577</td>\n",
       "      <td>0.015640</td>\n",
       "    </tr>\n",
       "    <tr>\n",
       "      <th>3</th>\n",
       "      <td>source_6</td>\n",
       "      <td>p211004CPU2OS48hw384exp031JUMP</td>\n",
       "      <td>110000295562</td>\n",
       "      <td>M08</td>\n",
       "      <td>JCP2022_058905</td>\n",
       "      <td>-9223229703754907651</td>\n",
       "      <td>13</td>\n",
       "      <td>58.65</td>\n",
       "      <td>4.071588</td>\n",
       "      <td>1.768268</td>\n",
       "      <td>...</td>\n",
       "      <td>-0.114507</td>\n",
       "      <td>0.006824</td>\n",
       "      <td>-0.183686</td>\n",
       "      <td>0.006500</td>\n",
       "      <td>-0.066820</td>\n",
       "      <td>0.013238</td>\n",
       "      <td>-0.087850</td>\n",
       "      <td>-0.010228</td>\n",
       "      <td>-0.111716</td>\n",
       "      <td>-0.066975</td>\n",
       "    </tr>\n",
       "    <tr>\n",
       "      <th>4</th>\n",
       "      <td>source_3</td>\n",
       "      <td>CP_32_all_Phenix1</td>\n",
       "      <td>B40003aW</td>\n",
       "      <td>M08</td>\n",
       "      <td>JCP2022_058905</td>\n",
       "      <td>-9223229703754907651</td>\n",
       "      <td>13</td>\n",
       "      <td>58.65</td>\n",
       "      <td>4.071588</td>\n",
       "      <td>1.768268</td>\n",
       "      <td>...</td>\n",
       "      <td>-0.035176</td>\n",
       "      <td>0.004032</td>\n",
       "      <td>-0.049694</td>\n",
       "      <td>0.004337</td>\n",
       "      <td>-0.024952</td>\n",
       "      <td>0.003663</td>\n",
       "      <td>-0.024778</td>\n",
       "      <td>-0.007309</td>\n",
       "      <td>-0.026831</td>\n",
       "      <td>-0.021770</td>\n",
       "    </tr>\n",
       "    <tr>\n",
       "      <th>5</th>\n",
       "      <td>source_10</td>\n",
       "      <td>2021_08_23_U2OS_48_hr_run18</td>\n",
       "      <td>Dest210823-174733</td>\n",
       "      <td>I13</td>\n",
       "      <td>JCP2022_058905</td>\n",
       "      <td>-9223229703754907651</td>\n",
       "      <td>13</td>\n",
       "      <td>58.65</td>\n",
       "      <td>4.071588</td>\n",
       "      <td>1.768268</td>\n",
       "      <td>...</td>\n",
       "      <td>-0.027139</td>\n",
       "      <td>0.004088</td>\n",
       "      <td>-0.046459</td>\n",
       "      <td>-0.001154</td>\n",
       "      <td>-0.007352</td>\n",
       "      <td>0.002606</td>\n",
       "      <td>-0.018406</td>\n",
       "      <td>-0.002382</td>\n",
       "      <td>-0.020955</td>\n",
       "      <td>-0.010549</td>\n",
       "    </tr>\n",
       "    <tr>\n",
       "      <th>6</th>\n",
       "      <td>source_1</td>\n",
       "      <td>Batch6_20221102</td>\n",
       "      <td>UL000587</td>\n",
       "      <td>O34</td>\n",
       "      <td>JCP2022_051160</td>\n",
       "      <td>-9223005963369866647</td>\n",
       "      <td>9</td>\n",
       "      <td>68.54</td>\n",
       "      <td>4.227418</td>\n",
       "      <td>1.835944</td>\n",
       "      <td>...</td>\n",
       "      <td>-0.002073</td>\n",
       "      <td>-0.000038</td>\n",
       "      <td>-0.015420</td>\n",
       "      <td>-0.004371</td>\n",
       "      <td>0.008355</td>\n",
       "      <td>0.001346</td>\n",
       "      <td>0.001348</td>\n",
       "      <td>0.000147</td>\n",
       "      <td>-0.001792</td>\n",
       "      <td>0.003041</td>\n",
       "    </tr>\n",
       "    <tr>\n",
       "      <th>7</th>\n",
       "      <td>source_6</td>\n",
       "      <td>p211109CPU2OS48hw384exp035JUMP</td>\n",
       "      <td>110000296167</td>\n",
       "      <td>H17</td>\n",
       "      <td>JCP2022_051160</td>\n",
       "      <td>-9223005963369866647</td>\n",
       "      <td>9</td>\n",
       "      <td>68.54</td>\n",
       "      <td>4.227418</td>\n",
       "      <td>1.835944</td>\n",
       "      <td>...</td>\n",
       "      <td>-0.001083</td>\n",
       "      <td>0.000195</td>\n",
       "      <td>-0.005991</td>\n",
       "      <td>-0.001536</td>\n",
       "      <td>0.002483</td>\n",
       "      <td>0.000756</td>\n",
       "      <td>0.000326</td>\n",
       "      <td>-0.000075</td>\n",
       "      <td>-0.000487</td>\n",
       "      <td>0.001296</td>\n",
       "    </tr>\n",
       "    <tr>\n",
       "      <th>8</th>\n",
       "      <td>source_3</td>\n",
       "      <td>CP_26_all_Phenix1</td>\n",
       "      <td>J12455b</td>\n",
       "      <td>H17</td>\n",
       "      <td>JCP2022_051160</td>\n",
       "      <td>-9223005963369866647</td>\n",
       "      <td>9</td>\n",
       "      <td>68.54</td>\n",
       "      <td>4.227418</td>\n",
       "      <td>1.835944</td>\n",
       "      <td>...</td>\n",
       "      <td>-0.002815</td>\n",
       "      <td>0.000509</td>\n",
       "      <td>-0.013885</td>\n",
       "      <td>-0.003420</td>\n",
       "      <td>0.004727</td>\n",
       "      <td>0.001575</td>\n",
       "      <td>0.001028</td>\n",
       "      <td>-0.000059</td>\n",
       "      <td>-0.000732</td>\n",
       "      <td>0.002771</td>\n",
       "    </tr>\n",
       "    <tr>\n",
       "      <th>9</th>\n",
       "      <td>source_2</td>\n",
       "      <td>20210712_Batch_5</td>\n",
       "      <td>1053597875</td>\n",
       "      <td>K10</td>\n",
       "      <td>JCP2022_038591</td>\n",
       "      <td>-9222975330808494972</td>\n",
       "      <td>4</td>\n",
       "      <td>51.22</td>\n",
       "      <td>3.936130</td>\n",
       "      <td>1.709440</td>\n",
       "      <td>...</td>\n",
       "      <td>-0.090655</td>\n",
       "      <td>0.014275</td>\n",
       "      <td>-0.161705</td>\n",
       "      <td>0.008399</td>\n",
       "      <td>-0.085380</td>\n",
       "      <td>0.022014</td>\n",
       "      <td>-0.100648</td>\n",
       "      <td>-0.025694</td>\n",
       "      <td>-0.134630</td>\n",
       "      <td>-0.070563</td>\n",
       "    </tr>\n",
       "  </tbody>\n",
       "</table>\n",
       "<p>10 rows × 261 columns</p>\n",
       "</div>"
      ],
      "text/plain": [
       "  Metadata_Source                  Metadata_Batch     Metadata_Plate Metadata_Well Metadata_JCP2022        Metadata_Hash  \\\n",
       "0        source_1                 Batch5_20221030           UL001793           M26   JCP2022_006020 -9223347314827979542   \n",
       "1       source_10      2021_06_22_U2OS_48_hr_run8  Dest210622-143628           M04   JCP2022_006020 -9223347314827979542   \n",
       "2        source_3               CP_31_all_Phenix1           B040603b           G13   JCP2022_006020 -9223347314827979542   \n",
       "3        source_6  p211004CPU2OS48hw384exp031JUMP       110000295562           M08   JCP2022_058905 -9223229703754907651   \n",
       "4        source_3               CP_32_all_Phenix1           B40003aW           M08   JCP2022_058905 -9223229703754907651   \n",
       "5       source_10     2021_08_23_U2OS_48_hr_run18  Dest210823-174733           I13   JCP2022_058905 -9223229703754907651   \n",
       "6        source_1                 Batch6_20221102           UL000587           O34   JCP2022_051160 -9223005963369866647   \n",
       "7        source_6  p211109CPU2OS48hw384exp035JUMP       110000296167           H17   JCP2022_051160 -9223005963369866647   \n",
       "8        source_3               CP_26_all_Phenix1            J12455b           H17   JCP2022_051160 -9223005963369866647   \n",
       "9        source_2                20210712_Batch_5         1053597875           K10   JCP2022_038591 -9222975330808494972   \n",
       "\n",
       "   Metadata_Bin  Metadata_TPSA  Metadata_lnTPSA  Metadata_log10TPSA  ...  Feature_240  Feature_241  Feature_242  Feature_243  \\\n",
       "0            10          71.18         4.265212            1.852358  ...     0.009390    -0.008253    -0.037940    -0.016286   \n",
       "1            10          71.18         4.265212            1.852358  ...     0.095957     0.040152    -0.005584     0.046152   \n",
       "2            10          71.18         4.265212            1.852358  ...     0.017318    -0.012258    -0.079632    -0.032763   \n",
       "3            13          58.65         4.071588            1.768268  ...    -0.114507     0.006824    -0.183686     0.006500   \n",
       "4            13          58.65         4.071588            1.768268  ...    -0.035176     0.004032    -0.049694     0.004337   \n",
       "5            13          58.65         4.071588            1.768268  ...    -0.027139     0.004088    -0.046459    -0.001154   \n",
       "6             9          68.54         4.227418            1.835944  ...    -0.002073    -0.000038    -0.015420    -0.004371   \n",
       "7             9          68.54         4.227418            1.835944  ...    -0.001083     0.000195    -0.005991    -0.001536   \n",
       "8             9          68.54         4.227418            1.835944  ...    -0.002815     0.000509    -0.013885    -0.003420   \n",
       "9             4          51.22         3.936130            1.709440  ...    -0.090655     0.014275    -0.161705     0.008399   \n",
       "\n",
       "   Feature_244  Feature_245  Feature_246  Feature_247  Feature_248  Feature_249  \n",
       "0     0.022038     0.005269    -0.018263     0.012688    -0.054655     0.004202  \n",
       "1    -0.024817     0.049557    -0.078429     0.029078    -0.124861     0.021048  \n",
       "2     0.054452     0.009448    -0.038036     0.030926    -0.111577     0.015640  \n",
       "3    -0.066820     0.013238    -0.087850    -0.010228    -0.111716    -0.066975  \n",
       "4    -0.024952     0.003663    -0.024778    -0.007309    -0.026831    -0.021770  \n",
       "5    -0.007352     0.002606    -0.018406    -0.002382    -0.020955    -0.010549  \n",
       "6     0.008355     0.001346     0.001348     0.000147    -0.001792     0.003041  \n",
       "7     0.002483     0.000756     0.000326    -0.000075    -0.000487     0.001296  \n",
       "8     0.004727     0.001575     0.001028    -0.000059    -0.000732     0.002771  \n",
       "9    -0.085380     0.022014    -0.100648    -0.025694    -0.134630    -0.070563  \n",
       "\n",
       "[10 rows x 261 columns]"
      ]
     },
     "execution_count": 27,
     "metadata": {},
     "output_type": "execute_result"
    },
    {
     "data": {
      "text/html": [
       "<div>\n",
       "<style scoped>\n",
       "    .dataframe tbody tr th:only-of-type {\n",
       "        vertical-align: middle;\n",
       "    }\n",
       "\n",
       "    .dataframe tbody tr th {\n",
       "        vertical-align: top;\n",
       "    }\n",
       "\n",
       "    .dataframe thead th {\n",
       "        text-align: right;\n",
       "    }\n",
       "</style>\n",
       "<table border=\"1\" class=\"dataframe\">\n",
       "  <thead>\n",
       "    <tr style=\"text-align: right;\">\n",
       "      <th></th>\n",
       "      <th>Metadata_Source</th>\n",
       "      <th>Metadata_Batch</th>\n",
       "      <th>Metadata_Plate</th>\n",
       "      <th>Metadata_Well</th>\n",
       "      <th>Metadata_JCP2022</th>\n",
       "      <th>Metadata_Hash</th>\n",
       "      <th>Metadata_Bin</th>\n",
       "      <th>Metadata_TPSA</th>\n",
       "      <th>Metadata_lnTPSA</th>\n",
       "      <th>Metadata_log10TPSA</th>\n",
       "      <th>...</th>\n",
       "      <th>Feature_240</th>\n",
       "      <th>Feature_241</th>\n",
       "      <th>Feature_242</th>\n",
       "      <th>Feature_243</th>\n",
       "      <th>Feature_244</th>\n",
       "      <th>Feature_245</th>\n",
       "      <th>Feature_246</th>\n",
       "      <th>Feature_247</th>\n",
       "      <th>Feature_248</th>\n",
       "      <th>Feature_249</th>\n",
       "    </tr>\n",
       "  </thead>\n",
       "  <tbody>\n",
       "    <tr>\n",
       "      <th>277190</th>\n",
       "      <td>source_9</td>\n",
       "      <td>20211102-Run15</td>\n",
       "      <td>GR00004398</td>\n",
       "      <td>J35</td>\n",
       "      <td>JCP2022_089792</td>\n",
       "      <td>5548393758141673059</td>\n",
       "      <td>3</td>\n",
       "      <td>100.28</td>\n",
       "      <td>4.607966</td>\n",
       "      <td>2.001214</td>\n",
       "      <td>...</td>\n",
       "      <td>0.043714</td>\n",
       "      <td>-0.023889</td>\n",
       "      <td>0.018405</td>\n",
       "      <td>-0.099165</td>\n",
       "      <td>-0.042791</td>\n",
       "      <td>0.017094</td>\n",
       "      <td>0.023605</td>\n",
       "      <td>-0.207248</td>\n",
       "      <td>-0.161952</td>\n",
       "      <td>-0.112904</td>\n",
       "    </tr>\n",
       "    <tr>\n",
       "      <th>277191</th>\n",
       "      <td>source_3</td>\n",
       "      <td>CP_29_all_Phenix1</td>\n",
       "      <td>SP28P31d</td>\n",
       "      <td>L08</td>\n",
       "      <td>JCP2022_054246</td>\n",
       "      <td>5548833810863940256</td>\n",
       "      <td>0</td>\n",
       "      <td>83.10</td>\n",
       "      <td>4.420045</td>\n",
       "      <td>1.919601</td>\n",
       "      <td>...</td>\n",
       "      <td>-0.001373</td>\n",
       "      <td>0.001591</td>\n",
       "      <td>0.001995</td>\n",
       "      <td>-0.000417</td>\n",
       "      <td>-0.000101</td>\n",
       "      <td>0.000257</td>\n",
       "      <td>-0.001203</td>\n",
       "      <td>-0.000849</td>\n",
       "      <td>0.001829</td>\n",
       "      <td>-0.000155</td>\n",
       "    </tr>\n",
       "    <tr>\n",
       "      <th>277192</th>\n",
       "      <td>source_1</td>\n",
       "      <td>Batch6_20221102</td>\n",
       "      <td>UL000595</td>\n",
       "      <td>X16</td>\n",
       "      <td>JCP2022_054246</td>\n",
       "      <td>5548833810863940256</td>\n",
       "      <td>0</td>\n",
       "      <td>83.10</td>\n",
       "      <td>4.420045</td>\n",
       "      <td>1.919601</td>\n",
       "      <td>...</td>\n",
       "      <td>-0.001384</td>\n",
       "      <td>0.002455</td>\n",
       "      <td>0.001797</td>\n",
       "      <td>-0.000097</td>\n",
       "      <td>0.000234</td>\n",
       "      <td>-0.000613</td>\n",
       "      <td>-0.000397</td>\n",
       "      <td>-0.000183</td>\n",
       "      <td>0.001504</td>\n",
       "      <td>-0.000503</td>\n",
       "    </tr>\n",
       "    <tr>\n",
       "      <th>277193</th>\n",
       "      <td>source_10</td>\n",
       "      <td>2021_08_23_U2OS_48_hr_run18</td>\n",
       "      <td>Dest210823-175355</td>\n",
       "      <td>G13</td>\n",
       "      <td>JCP2022_054246</td>\n",
       "      <td>5548833810863940256</td>\n",
       "      <td>0</td>\n",
       "      <td>83.10</td>\n",
       "      <td>4.420045</td>\n",
       "      <td>1.919601</td>\n",
       "      <td>...</td>\n",
       "      <td>-0.003192</td>\n",
       "      <td>0.005639</td>\n",
       "      <td>0.002362</td>\n",
       "      <td>-0.001499</td>\n",
       "      <td>0.003252</td>\n",
       "      <td>0.000746</td>\n",
       "      <td>-0.001600</td>\n",
       "      <td>-0.000768</td>\n",
       "      <td>0.002042</td>\n",
       "      <td>0.000387</td>\n",
       "    </tr>\n",
       "    <tr>\n",
       "      <th>277194</th>\n",
       "      <td>source_6</td>\n",
       "      <td>p211109CPU2OS48hw384exp035JUMP</td>\n",
       "      <td>110000295497</td>\n",
       "      <td>G21</td>\n",
       "      <td>JCP2022_040737</td>\n",
       "      <td>5548902807653184645</td>\n",
       "      <td>5</td>\n",
       "      <td>55.55</td>\n",
       "      <td>4.017284</td>\n",
       "      <td>1.744684</td>\n",
       "      <td>...</td>\n",
       "      <td>0.001568</td>\n",
       "      <td>0.000434</td>\n",
       "      <td>-0.000401</td>\n",
       "      <td>-0.000586</td>\n",
       "      <td>0.002026</td>\n",
       "      <td>-0.001268</td>\n",
       "      <td>0.001957</td>\n",
       "      <td>0.001270</td>\n",
       "      <td>-0.000848</td>\n",
       "      <td>-0.000347</td>\n",
       "    </tr>\n",
       "    <tr>\n",
       "      <th>277195</th>\n",
       "      <td>source_8</td>\n",
       "      <td>J3</td>\n",
       "      <td>A1170503</td>\n",
       "      <td>G21</td>\n",
       "      <td>JCP2022_040737</td>\n",
       "      <td>5548902807653184645</td>\n",
       "      <td>5</td>\n",
       "      <td>55.55</td>\n",
       "      <td>4.017284</td>\n",
       "      <td>1.744684</td>\n",
       "      <td>...</td>\n",
       "      <td>0.001871</td>\n",
       "      <td>0.000387</td>\n",
       "      <td>-0.000532</td>\n",
       "      <td>-0.000985</td>\n",
       "      <td>0.002243</td>\n",
       "      <td>-0.001190</td>\n",
       "      <td>0.002249</td>\n",
       "      <td>0.001333</td>\n",
       "      <td>-0.001061</td>\n",
       "      <td>-0.000294</td>\n",
       "    </tr>\n",
       "    <tr>\n",
       "      <th>277196</th>\n",
       "      <td>source_10</td>\n",
       "      <td>2021_08_17_U2OS_48_hr_run16</td>\n",
       "      <td>Dest210809-140929</td>\n",
       "      <td>N19</td>\n",
       "      <td>JCP2022_040737</td>\n",
       "      <td>5548902807653184645</td>\n",
       "      <td>5</td>\n",
       "      <td>55.55</td>\n",
       "      <td>4.017284</td>\n",
       "      <td>1.744684</td>\n",
       "      <td>...</td>\n",
       "      <td>0.002895</td>\n",
       "      <td>0.000394</td>\n",
       "      <td>-0.001226</td>\n",
       "      <td>-0.001490</td>\n",
       "      <td>0.003483</td>\n",
       "      <td>-0.002166</td>\n",
       "      <td>0.003738</td>\n",
       "      <td>0.002156</td>\n",
       "      <td>-0.001370</td>\n",
       "      <td>-0.000499</td>\n",
       "    </tr>\n",
       "    <tr>\n",
       "      <th>277197</th>\n",
       "      <td>source_5</td>\n",
       "      <td>JUMPCPE-20211001-Run34_20211003_121618</td>\n",
       "      <td>APTJUM513</td>\n",
       "      <td>I14</td>\n",
       "      <td>JCP2022_100922</td>\n",
       "      <td>5548998150937919747</td>\n",
       "      <td>3</td>\n",
       "      <td>79.96</td>\n",
       "      <td>4.381527</td>\n",
       "      <td>1.902873</td>\n",
       "      <td>...</td>\n",
       "      <td>0.078374</td>\n",
       "      <td>0.063444</td>\n",
       "      <td>0.129917</td>\n",
       "      <td>0.051093</td>\n",
       "      <td>0.011726</td>\n",
       "      <td>-0.021745</td>\n",
       "      <td>-0.050653</td>\n",
       "      <td>-0.016714</td>\n",
       "      <td>0.055179</td>\n",
       "      <td>0.020004</td>\n",
       "    </tr>\n",
       "    <tr>\n",
       "      <th>277198</th>\n",
       "      <td>source_11</td>\n",
       "      <td>Batch1</td>\n",
       "      <td>EC000029</td>\n",
       "      <td>J07</td>\n",
       "      <td>JCP2022_100922</td>\n",
       "      <td>5548998150937919747</td>\n",
       "      <td>3</td>\n",
       "      <td>79.96</td>\n",
       "      <td>4.381527</td>\n",
       "      <td>1.902873</td>\n",
       "      <td>...</td>\n",
       "      <td>0.271270</td>\n",
       "      <td>0.117052</td>\n",
       "      <td>0.444226</td>\n",
       "      <td>0.021117</td>\n",
       "      <td>-0.012003</td>\n",
       "      <td>-0.033863</td>\n",
       "      <td>-0.132913</td>\n",
       "      <td>-0.304590</td>\n",
       "      <td>-0.049435</td>\n",
       "      <td>-0.070351</td>\n",
       "    </tr>\n",
       "    <tr>\n",
       "      <th>277199</th>\n",
       "      <td>source_5</td>\n",
       "      <td>JUMPCPE-20210706-Run06_20210706_235916</td>\n",
       "      <td>APTJUM213</td>\n",
       "      <td>I14</td>\n",
       "      <td>JCP2022_100922</td>\n",
       "      <td>5548998150937919747</td>\n",
       "      <td>3</td>\n",
       "      <td>79.96</td>\n",
       "      <td>4.381527</td>\n",
       "      <td>1.902873</td>\n",
       "      <td>...</td>\n",
       "      <td>0.131365</td>\n",
       "      <td>0.045351</td>\n",
       "      <td>0.195222</td>\n",
       "      <td>0.096053</td>\n",
       "      <td>0.026607</td>\n",
       "      <td>-0.065916</td>\n",
       "      <td>-0.088988</td>\n",
       "      <td>0.005895</td>\n",
       "      <td>0.127548</td>\n",
       "      <td>0.035524</td>\n",
       "    </tr>\n",
       "  </tbody>\n",
       "</table>\n",
       "<p>10 rows × 261 columns</p>\n",
       "</div>"
      ],
      "text/plain": [
       "       Metadata_Source                          Metadata_Batch     Metadata_Plate Metadata_Well Metadata_JCP2022  \\\n",
       "277190        source_9                          20211102-Run15         GR00004398           J35   JCP2022_089792   \n",
       "277191        source_3                       CP_29_all_Phenix1           SP28P31d           L08   JCP2022_054246   \n",
       "277192        source_1                         Batch6_20221102           UL000595           X16   JCP2022_054246   \n",
       "277193       source_10             2021_08_23_U2OS_48_hr_run18  Dest210823-175355           G13   JCP2022_054246   \n",
       "277194        source_6          p211109CPU2OS48hw384exp035JUMP       110000295497           G21   JCP2022_040737   \n",
       "277195        source_8                                      J3           A1170503           G21   JCP2022_040737   \n",
       "277196       source_10             2021_08_17_U2OS_48_hr_run16  Dest210809-140929           N19   JCP2022_040737   \n",
       "277197        source_5  JUMPCPE-20211001-Run34_20211003_121618          APTJUM513           I14   JCP2022_100922   \n",
       "277198       source_11                                  Batch1           EC000029           J07   JCP2022_100922   \n",
       "277199        source_5  JUMPCPE-20210706-Run06_20210706_235916          APTJUM213           I14   JCP2022_100922   \n",
       "\n",
       "              Metadata_Hash  Metadata_Bin  Metadata_TPSA  Metadata_lnTPSA  Metadata_log10TPSA  ...  Feature_240  Feature_241  \\\n",
       "277190  5548393758141673059             3         100.28         4.607966            2.001214  ...     0.043714    -0.023889   \n",
       "277191  5548833810863940256             0          83.10         4.420045            1.919601  ...    -0.001373     0.001591   \n",
       "277192  5548833810863940256             0          83.10         4.420045            1.919601  ...    -0.001384     0.002455   \n",
       "277193  5548833810863940256             0          83.10         4.420045            1.919601  ...    -0.003192     0.005639   \n",
       "277194  5548902807653184645             5          55.55         4.017284            1.744684  ...     0.001568     0.000434   \n",
       "277195  5548902807653184645             5          55.55         4.017284            1.744684  ...     0.001871     0.000387   \n",
       "277196  5548902807653184645             5          55.55         4.017284            1.744684  ...     0.002895     0.000394   \n",
       "277197  5548998150937919747             3          79.96         4.381527            1.902873  ...     0.078374     0.063444   \n",
       "277198  5548998150937919747             3          79.96         4.381527            1.902873  ...     0.271270     0.117052   \n",
       "277199  5548998150937919747             3          79.96         4.381527            1.902873  ...     0.131365     0.045351   \n",
       "\n",
       "        Feature_242  Feature_243  Feature_244  Feature_245  Feature_246  Feature_247  Feature_248  Feature_249  \n",
       "277190     0.018405    -0.099165    -0.042791     0.017094     0.023605    -0.207248    -0.161952    -0.112904  \n",
       "277191     0.001995    -0.000417    -0.000101     0.000257    -0.001203    -0.000849     0.001829    -0.000155  \n",
       "277192     0.001797    -0.000097     0.000234    -0.000613    -0.000397    -0.000183     0.001504    -0.000503  \n",
       "277193     0.002362    -0.001499     0.003252     0.000746    -0.001600    -0.000768     0.002042     0.000387  \n",
       "277194    -0.000401    -0.000586     0.002026    -0.001268     0.001957     0.001270    -0.000848    -0.000347  \n",
       "277195    -0.000532    -0.000985     0.002243    -0.001190     0.002249     0.001333    -0.001061    -0.000294  \n",
       "277196    -0.001226    -0.001490     0.003483    -0.002166     0.003738     0.002156    -0.001370    -0.000499  \n",
       "277197     0.129917     0.051093     0.011726    -0.021745    -0.050653    -0.016714     0.055179     0.020004  \n",
       "277198     0.444226     0.021117    -0.012003    -0.033863    -0.132913    -0.304590    -0.049435    -0.070351  \n",
       "277199     0.195222     0.096053     0.026607    -0.065916    -0.088988     0.005895     0.127548     0.035524  \n",
       "\n",
       "[10 rows x 261 columns]"
      ]
     },
     "execution_count": 27,
     "metadata": {},
     "output_type": "execute_result"
    }
   ],
   "source": [
    "df_train_x.shape\n",
    "df_train_x.info()\n",
    "# df_train_x.iloc[:5,4:16]\n",
    "df_train_x.head(10)\n",
    "df_train_x.tail(10)"
   ]
  },
  {
   "cell_type": "code",
   "execution_count": 30,
   "id": "c1a0bebc-e799-4ecd-acb0-e85d6db00934",
   "metadata": {
    "execution": {
     "iopub.execute_input": "2024-12-06T11:12:17.717152Z",
     "iopub.status.busy": "2024-12-06T11:12:17.716529Z",
     "iopub.status.idle": "2024-12-06T11:12:17.790922Z",
     "shell.execute_reply": "2024-12-06T11:12:17.789798Z",
     "shell.execute_reply.started": "2024-12-06T11:12:17.717105Z"
    }
   },
   "outputs": [
    {
     "data": {
      "text/plain": [
       "(277200,)"
      ]
     },
     "execution_count": 30,
     "metadata": {},
     "output_type": "execute_result"
    },
    {
     "name": "stdout",
     "output_type": "stream",
     "text": [
      "<class 'pandas.core.series.Series'>\n",
      "RangeIndex: 277200 entries, 0 to 277199\n",
      "Series name: Metadata_Permiation\n",
      "Non-Null Count   Dtype\n",
      "--------------   -----\n",
      "277200 non-null  int64\n",
      "dtypes: int64(1)\n",
      "memory usage: 2.1 MB\n"
     ]
    },
    {
     "data": {
      "text/plain": [
       "0    0\n",
       "1    0\n",
       "2    0\n",
       "3    0\n",
       "4    0\n",
       "5    0\n",
       "6    0\n",
       "7    0\n",
       "8    0\n",
       "9    0\n",
       "Name: Metadata_Permiation, dtype: int64"
      ]
     },
     "execution_count": 30,
     "metadata": {},
     "output_type": "execute_result"
    },
    {
     "data": {
      "text/plain": [
       "277190    1\n",
       "277191    0\n",
       "277192    0\n",
       "277193    0\n",
       "277194    0\n",
       "277195    0\n",
       "277196    0\n",
       "277197    0\n",
       "277198    0\n",
       "277199    0\n",
       "Name: Metadata_Permiation, dtype: int64"
      ]
     },
     "execution_count": 30,
     "metadata": {},
     "output_type": "execute_result"
    }
   ],
   "source": [
    "# df_train_y = pd.read_csv(TRAIN_INPUT_Y)\n",
    "df_train_y = df_train_x.Metadata_Permiation.astype(np.int64)\n",
    "\n",
    "df_train_y.shape\n",
    "df_train_y.info()\n",
    "df_train_y.iloc[:10]\n",
    "df_train_y.iloc[-10:]"
   ]
  },
  {
   "cell_type": "code",
   "execution_count": 31,
   "id": "0be874fe-07f0-4edb-9541-18d6f51e8c25",
   "metadata": {
    "execution": {
     "iopub.execute_input": "2024-12-06T11:12:45.393405Z",
     "iopub.status.busy": "2024-12-06T11:12:45.392575Z",
     "iopub.status.idle": "2024-12-06T11:12:45.468221Z",
     "shell.execute_reply": "2024-12-06T11:12:45.466834Z",
     "shell.execute_reply.started": "2024-12-06T11:12:45.393327Z"
    }
   },
   "outputs": [
    {
     "ename": "NameError",
     "evalue": "name 'train_x' is not defined",
     "output_type": "error",
     "traceback": [
      "\u001b[0;31m---------------------------------------------------------------------------\u001b[0m",
      "\u001b[0;31mNameError\u001b[0m                                 Traceback (most recent call last)",
      "Cell \u001b[0;32mIn[31], line 1\u001b[0m\n\u001b[0;32m----> 1\u001b[0m \u001b[43mtrain_x\u001b[49m\u001b[38;5;241m.\u001b[39mshape, \u001b[38;5;28mtype\u001b[39m(train_x)\n\u001b[1;32m      2\u001b[0m train_y\u001b[38;5;241m.\u001b[39mshape, \u001b[38;5;28mtype\u001b[39m(train_y)\n",
      "\u001b[0;31mNameError\u001b[0m: name 'train_x' is not defined"
     ]
    }
   ],
   "source": [
    "train_x.shape, type(train_x)\n",
    "train_y.shape, type(train_y)"
   ]
  },
  {
   "cell_type": "code",
   "execution_count": 30,
   "id": "65e23dab-a042-4ac8-8ca3-c04a86e9c43e",
   "metadata": {
    "execution": {
     "iopub.execute_input": "2024-10-30T18:40:14.446380Z",
     "iopub.status.busy": "2024-10-30T18:40:14.445716Z",
     "iopub.status.idle": "2024-10-30T18:40:14.507937Z",
     "shell.execute_reply": "2024-10-30T18:40:14.507205Z",
     "shell.execute_reply.started": "2024-10-30T18:40:14.446320Z"
    }
   },
   "outputs": [],
   "source": [
    "# del train_x, train_y"
   ]
  },
  {
   "cell_type": "markdown",
   "id": "43259313-f45c-4ef2-928e-528be86b1d36",
   "metadata": {},
   "source": [
    "## Test Data "
   ]
  },
  {
   "cell_type": "code",
   "execution_count": 35,
   "id": "66e03b2b-05a4-48d7-b119-b7851821be1d",
   "metadata": {
    "execution": {
     "iopub.execute_input": "2024-12-06T11:13:38.355410Z",
     "iopub.status.busy": "2024-12-06T11:13:38.354728Z",
     "iopub.status.idle": "2024-12-06T11:13:38.413307Z",
     "shell.execute_reply": "2024-12-06T11:13:38.412387Z",
     "shell.execute_reply.started": "2024-12-06T11:13:38.355360Z"
    }
   },
   "outputs": [
    {
     "data": {
      "text/plain": [
       "'/home/kevin/WSL-shared/cellpainting/cj-datasets/output_11102023/3_sample_embeddings/3smpl_prfl_embedding_261_HashOrder_snnl_20240917_2004_LAST_test.csv'"
      ]
     },
     "execution_count": 35,
     "metadata": {},
     "output_type": "execute_result"
    },
    {
     "data": {
      "text/plain": [
       "'/home/kevin/WSL-shared/cellpainting/cj-datasets/output_11102023/3_sample_profiles/3sample_pharmacophores_1482_HashOrder_test.csv'"
      ]
     },
     "execution_count": 35,
     "metadata": {},
     "output_type": "execute_result"
    }
   ],
   "source": [
    "TEST_INPUT_X\n",
    "TEST_INPUT_Y"
   ]
  },
  {
   "cell_type": "code",
   "execution_count": 36,
   "id": "8dff17ab-dd6a-49fe-8733-8f3448537618",
   "metadata": {
    "execution": {
     "iopub.execute_input": "2024-12-06T11:13:39.723531Z",
     "iopub.status.busy": "2024-12-06T11:13:39.722662Z",
     "iopub.status.idle": "2024-12-06T11:13:40.896817Z",
     "shell.execute_reply": "2024-12-06T11:13:40.895688Z",
     "shell.execute_reply.started": "2024-12-06T11:13:39.723471Z"
    }
   },
   "outputs": [],
   "source": [
    "df_test_x = pd.read_csv(TEST_INPUT_X )"
   ]
  },
  {
   "cell_type": "code",
   "execution_count": 37,
   "id": "20862c3d-4dae-4e03-b1c6-a6a652515c57",
   "metadata": {
    "execution": {
     "iopub.execute_input": "2024-12-06T11:13:44.867517Z",
     "iopub.status.busy": "2024-12-06T11:13:44.866995Z",
     "iopub.status.idle": "2024-12-06T11:13:44.954760Z",
     "shell.execute_reply": "2024-12-06T11:13:44.954046Z",
     "shell.execute_reply.started": "2024-12-06T11:13:44.867475Z"
    }
   },
   "outputs": [
    {
     "name": "stdout",
     "output_type": "stream",
     "text": [
      "<class 'pandas.core.frame.DataFrame'>\n",
      "RangeIndex: 12600 entries, 0 to 12599\n",
      "Columns: 261 entries, Metadata_Source to Feature_249\n",
      "dtypes: float64(254), int64(2), object(5)\n",
      "memory usage: 25.1+ MB\n"
     ]
    },
    {
     "data": {
      "text/plain": [
       "(12600, 261)"
      ]
     },
     "execution_count": 37,
     "metadata": {},
     "output_type": "execute_result"
    },
    {
     "data": {
      "text/plain": [
       "Index(['Metadata_Source', 'Metadata_Batch', 'Metadata_Plate', 'Metadata_Well', 'Metadata_JCP2022', 'Metadata_Hash', 'Metadata_Bin',\n",
       "       'Metadata_TPSA', 'Metadata_lnTPSA', 'Metadata_log10TPSA',\n",
       "       ...\n",
       "       'Feature_240', 'Feature_241', 'Feature_242', 'Feature_243', 'Feature_244', 'Feature_245', 'Feature_246', 'Feature_247',\n",
       "       'Feature_248', 'Feature_249'],\n",
       "      dtype='object', length=261)"
      ]
     },
     "execution_count": 37,
     "metadata": {},
     "output_type": "execute_result"
    },
    {
     "data": {
      "text/html": [
       "<div>\n",
       "<style scoped>\n",
       "    .dataframe tbody tr th:only-of-type {\n",
       "        vertical-align: middle;\n",
       "    }\n",
       "\n",
       "    .dataframe tbody tr th {\n",
       "        vertical-align: top;\n",
       "    }\n",
       "\n",
       "    .dataframe thead th {\n",
       "        text-align: right;\n",
       "    }\n",
       "</style>\n",
       "<table border=\"1\" class=\"dataframe\">\n",
       "  <thead>\n",
       "    <tr style=\"text-align: right;\">\n",
       "      <th></th>\n",
       "      <th>Metadata_Source</th>\n",
       "      <th>Metadata_Batch</th>\n",
       "      <th>Metadata_Plate</th>\n",
       "      <th>Metadata_Well</th>\n",
       "      <th>Metadata_JCP2022</th>\n",
       "      <th>Metadata_Hash</th>\n",
       "      <th>Metadata_Bin</th>\n",
       "      <th>Metadata_TPSA</th>\n",
       "      <th>Metadata_lnTPSA</th>\n",
       "      <th>Metadata_log10TPSA</th>\n",
       "      <th>Metadata_Permiation</th>\n",
       "      <th>Feature_000</th>\n",
       "      <th>Feature_001</th>\n",
       "    </tr>\n",
       "  </thead>\n",
       "  <tbody>\n",
       "    <tr>\n",
       "      <th>0</th>\n",
       "      <td>source_9</td>\n",
       "      <td>20210914-Run9</td>\n",
       "      <td>GR00003302</td>\n",
       "      <td>H45</td>\n",
       "      <td>JCP2022_004021</td>\n",
       "      <td>6703456398488902534</td>\n",
       "      <td>6</td>\n",
       "      <td>58.04</td>\n",
       "      <td>4.061132</td>\n",
       "      <td>1.763727</td>\n",
       "      <td>0.0</td>\n",
       "      <td>0.916451</td>\n",
       "      <td>0.872596</td>\n",
       "    </tr>\n",
       "    <tr>\n",
       "      <th>1</th>\n",
       "      <td>source_9</td>\n",
       "      <td>20210914-Run9</td>\n",
       "      <td>GR00003301</td>\n",
       "      <td>H21</td>\n",
       "      <td>JCP2022_004021</td>\n",
       "      <td>6703456398488902534</td>\n",
       "      <td>6</td>\n",
       "      <td>58.04</td>\n",
       "      <td>4.061132</td>\n",
       "      <td>1.763727</td>\n",
       "      <td>0.0</td>\n",
       "      <td>0.719237</td>\n",
       "      <td>0.682143</td>\n",
       "    </tr>\n",
       "    <tr>\n",
       "      <th>2</th>\n",
       "      <td>source_9</td>\n",
       "      <td>20210914-Run9</td>\n",
       "      <td>GR00003303</td>\n",
       "      <td>X45</td>\n",
       "      <td>JCP2022_004021</td>\n",
       "      <td>6703456398488902534</td>\n",
       "      <td>6</td>\n",
       "      <td>58.04</td>\n",
       "      <td>4.061132</td>\n",
       "      <td>1.763727</td>\n",
       "      <td>0.0</td>\n",
       "      <td>0.798004</td>\n",
       "      <td>0.805205</td>\n",
       "    </tr>\n",
       "    <tr>\n",
       "      <th>3</th>\n",
       "      <td>source_3</td>\n",
       "      <td>CP_32_all_Phenix1</td>\n",
       "      <td>B40803aW</td>\n",
       "      <td>P21</td>\n",
       "      <td>JCP2022_102146</td>\n",
       "      <td>6704177726803547665</td>\n",
       "      <td>1</td>\n",
       "      <td>86.51</td>\n",
       "      <td>4.460260</td>\n",
       "      <td>1.937066</td>\n",
       "      <td>0.0</td>\n",
       "      <td>-0.134616</td>\n",
       "      <td>-0.200266</td>\n",
       "    </tr>\n",
       "    <tr>\n",
       "      <th>4</th>\n",
       "      <td>source_6</td>\n",
       "      <td>p210928CPU2OS48hw384exp030JUMP</td>\n",
       "      <td>110000296383</td>\n",
       "      <td>P21</td>\n",
       "      <td>JCP2022_102146</td>\n",
       "      <td>6704177726803547665</td>\n",
       "      <td>1</td>\n",
       "      <td>86.51</td>\n",
       "      <td>4.460260</td>\n",
       "      <td>1.937066</td>\n",
       "      <td>0.0</td>\n",
       "      <td>-0.031706</td>\n",
       "      <td>-0.148909</td>\n",
       "    </tr>\n",
       "  </tbody>\n",
       "</table>\n",
       "</div>"
      ],
      "text/plain": [
       "  Metadata_Source                  Metadata_Batch Metadata_Plate Metadata_Well Metadata_JCP2022        Metadata_Hash  \\\n",
       "0        source_9                   20210914-Run9     GR00003302           H45   JCP2022_004021  6703456398488902534   \n",
       "1        source_9                   20210914-Run9     GR00003301           H21   JCP2022_004021  6703456398488902534   \n",
       "2        source_9                   20210914-Run9     GR00003303           X45   JCP2022_004021  6703456398488902534   \n",
       "3        source_3               CP_32_all_Phenix1       B40803aW           P21   JCP2022_102146  6704177726803547665   \n",
       "4        source_6  p210928CPU2OS48hw384exp030JUMP   110000296383           P21   JCP2022_102146  6704177726803547665   \n",
       "\n",
       "   Metadata_Bin  Metadata_TPSA  Metadata_lnTPSA  Metadata_log10TPSA  Metadata_Permiation  Feature_000  Feature_001  \n",
       "0             6          58.04         4.061132            1.763727                  0.0     0.916451     0.872596  \n",
       "1             6          58.04         4.061132            1.763727                  0.0     0.719237     0.682143  \n",
       "2             6          58.04         4.061132            1.763727                  0.0     0.798004     0.805205  \n",
       "3             1          86.51         4.460260            1.937066                  0.0    -0.134616    -0.200266  \n",
       "4             1          86.51         4.460260            1.937066                  0.0    -0.031706    -0.148909  "
      ]
     },
     "execution_count": 37,
     "metadata": {},
     "output_type": "execute_result"
    }
   ],
   "source": [
    "df_test_x.info()\n",
    "df_test_x.shape\n",
    "df_test_x.columns\n",
    "df_test_x.iloc[:5,:13]"
   ]
  },
  {
   "cell_type": "code",
   "execution_count": 40,
   "id": "907a4b34-7358-4e8a-a237-55935b68588b",
   "metadata": {
    "execution": {
     "iopub.execute_input": "2024-12-06T11:14:45.219173Z",
     "iopub.status.busy": "2024-12-06T11:14:45.206311Z",
     "iopub.status.idle": "2024-12-06T11:14:45.291756Z",
     "shell.execute_reply": "2024-12-06T11:14:45.291105Z",
     "shell.execute_reply.started": "2024-12-06T11:14:45.219101Z"
    }
   },
   "outputs": [
    {
     "data": {
      "text/plain": [
       "(12600,)"
      ]
     },
     "execution_count": 40,
     "metadata": {},
     "output_type": "execute_result"
    },
    {
     "name": "stdout",
     "output_type": "stream",
     "text": [
      "<class 'pandas.core.series.Series'>\n",
      "RangeIndex: 12600 entries, 0 to 12599\n",
      "Series name: Metadata_Permiation\n",
      "Non-Null Count  Dtype\n",
      "--------------  -----\n",
      "12600 non-null  int64\n",
      "dtypes: int64(1)\n",
      "memory usage: 98.6 KB\n"
     ]
    },
    {
     "data": {
      "text/plain": [
       "0    0\n",
       "1    0\n",
       "2    0\n",
       "3    0\n",
       "4    0\n",
       "Name: Metadata_Permiation, dtype: int64"
      ]
     },
     "execution_count": 40,
     "metadata": {},
     "output_type": "execute_result"
    }
   ],
   "source": [
    "# df_test_y = pd.read_csv(TEST_INPUT_Y )\n",
    "df_test_y = df_test_x.Metadata_Permiation.astype(np.int64)\n",
    "df_test_y.shape\n",
    "df_test_y.info()\n",
    "df_test_y.iloc[:5]\n"
   ]
  },
  {
   "cell_type": "code",
   "execution_count": 42,
   "id": "8e266886-b249-4370-84ef-242c34c98e72",
   "metadata": {
    "execution": {
     "iopub.execute_input": "2024-12-06T11:14:53.117604Z",
     "iopub.status.busy": "2024-12-06T11:14:53.116996Z",
     "iopub.status.idle": "2024-12-06T11:14:53.175814Z",
     "shell.execute_reply": "2024-12-06T11:14:53.174617Z",
     "shell.execute_reply.started": "2024-12-06T11:14:53.117560Z"
    },
    "scrolled": true
   },
   "outputs": [],
   "source": [
    "# test_x.shape, type(test_x)\n",
    "# test_y.shape, type(test_y)\n",
    "# test_x\n",
    "# test_y"
   ]
  },
  {
   "cell_type": "markdown",
   "id": "ed193ec7-7cd5-473c-9c39-5dd66b920a11",
   "metadata": {
    "jp-MarkdownHeadingCollapsed": true
   },
   "source": [
    "## Other input preprocessing"
   ]
  },
  {
   "cell_type": "markdown",
   "id": "6fe81c72-1a16-4661-abdf-515d3cf37658",
   "metadata": {},
   "source": [
    "### Standardize inputs"
   ]
  },
  {
   "cell_type": "code",
   "execution_count": 619,
   "id": "f0e166f8-7c19-4113-b2c8-798b367e840c",
   "metadata": {
    "execution": {
     "iopub.execute_input": "2024-08-05T19:00:33.908202Z",
     "iopub.status.busy": "2024-08-05T19:00:33.907453Z",
     "iopub.status.idle": "2024-08-05T19:00:41.033685Z",
     "shell.execute_reply": "2024-08-05T19:00:41.032940Z",
     "shell.execute_reply.started": "2024-08-05T19:00:33.908137Z"
    }
   },
   "outputs": [
    {
     "name": "stdout",
     "output_type": "stream",
     "text": [
      "Train_X :  Min: -72.2029    Max: 103.8641   Mean: 0.0527  Std: 2.5164\n",
      "Test_X  :  Min: -53.3835    Max: 71.4748    Mean: 0.0529  Std: 2.4997\n"
     ]
    }
   ],
   "source": [
    "print(f\"Train_X :  Min: {train_X.min():.4f}    Max: {train_X.max():.4f}   Mean: {train_X.mean():.4f}  Std: {train_X.std():.4f}\")\n",
    "print(f\"Test_X  :  Min: {test_X.min():.4f}    Max: {test_X.max():.4f}    Mean: {test_X.mean():.4f}  Std: {test_X.std():.4f}\")"
   ]
  },
  {
   "cell_type": "code",
   "execution_count": 620,
   "id": "a9405556-1159-4dff-9b35-aa0b940668b1",
   "metadata": {
    "execution": {
     "iopub.execute_input": "2024-08-05T19:00:53.122587Z",
     "iopub.status.busy": "2024-08-05T19:00:53.122167Z",
     "iopub.status.idle": "2024-08-05T19:00:53.158912Z",
     "shell.execute_reply": "2024-08-05T19:00:53.158150Z",
     "shell.execute_reply.started": "2024-08-05T19:00:53.122543Z"
    }
   },
   "outputs": [],
   "source": [
    "# print(f\"Train_X :  Min: {train_X.min():.4f}    Max: {train_X.max():.4f}   Mean: {train_X.mean():.4f}  Std: {train_X.std():.4f}\")\n",
    "# print(f\"Test_X  :  Min: {test_X.min():.4f}    Max: {test_X.max():.4f}    Mean: {test_X.mean():.4f}  Std: {test_X.std():.4f}\")"
   ]
  },
  {
   "cell_type": "code",
   "execution_count": 621,
   "id": "94b469ab-98e6-4a6a-83d1-22f5c0634433",
   "metadata": {
    "execution": {
     "iopub.execute_input": "2024-08-05T19:00:55.486362Z",
     "iopub.status.busy": "2024-08-05T19:00:55.485889Z",
     "iopub.status.idle": "2024-08-05T19:01:06.354980Z",
     "shell.execute_reply": "2024-08-05T19:01:06.354109Z",
     "shell.execute_reply.started": "2024-08-05T19:00:55.486323Z"
    }
   },
   "outputs": [],
   "source": [
    "scaler = StandardScaler(copy = True)\n",
    "train_X = scaler.fit_transform(train_X)\n",
    "test_X = scaler.transform(test_X)"
   ]
  },
  {
   "cell_type": "code",
   "execution_count": 622,
   "id": "0ecee7ee-224f-469d-88c3-f4677cdc2afe",
   "metadata": {
    "execution": {
     "iopub.execute_input": "2024-08-05T19:01:13.946463Z",
     "iopub.status.busy": "2024-08-05T19:01:13.946020Z",
     "iopub.status.idle": "2024-08-05T19:01:16.963257Z",
     "shell.execute_reply": "2024-08-05T19:01:16.962253Z",
     "shell.execute_reply.started": "2024-08-05T19:01:13.946426Z"
    }
   },
   "outputs": [
    {
     "name": "stdout",
     "output_type": "stream",
     "text": [
      "After Standard Scaler Transformation\n",
      "Train_X :  Min: -33.4514    Max: 27.3319   Mean: -0.0000  Std: 1.0000\n",
      "Test_X  :  Min: -24.2626    Max: 28.1195    Mean: 0.0003  Std: 0.9889\n"
     ]
    }
   ],
   "source": [
    "print(\"After Standard Scaler Transformation\")\n",
    "print(f\"Train_X :  Min: {train_X.min():.4f}    Max: {train_X.max():.4f}   Mean: {train_X.mean():.4f}  Std: {train_X.std():.4f}\")\n",
    "print(f\"Test_X  :  Min: {test_X.min():.4f}    Max: {test_X.max():.4f}    Mean: {test_X.mean():.4f}  Std: {test_X.std():.4f}\")\n"
   ]
  },
  {
   "cell_type": "code",
   "execution_count": 623,
   "id": "c3b3616c-e89b-4cdc-ab4c-e48ba0846a8e",
   "metadata": {
    "execution": {
     "iopub.execute_input": "2024-08-05T19:01:57.328685Z",
     "iopub.status.busy": "2024-08-05T19:01:57.328153Z",
     "iopub.status.idle": "2024-08-05T19:01:57.388925Z",
     "shell.execute_reply": "2024-08-05T19:01:57.387905Z",
     "shell.execute_reply.started": "2024-08-05T19:01:57.328646Z"
    }
   },
   "outputs": [
    {
     "name": "stdout",
     "output_type": "stream",
     "text": [
      " Training\n",
      " Total samples: 312000\n",
      " Label 0: 274,836      % 88.09 \n",
      " Label 1:  37,164      % 11.91 \n",
      "\n",
      " Test\n",
      " Total samples: 34542\n",
      " Label 0:  30,378      % 87.95 \n",
      " Label 1:   4,164      % 12.05 \n",
      "\n"
     ]
    }
   ],
   "source": [
    "label_counts([(\"Training\", train_y), (\"Test\", test_y)])\n",
    "# for grp_name, labels in [(\"Training\", train_y), (\"Test\", test_y)]:\n",
    "#     bcnt = np.bincount(labels.astype(np.int64))\n",
    "#     print(f\" {grp_name}\")\n",
    "#     print(f\" Total samples: {bcnt.sum()}\")\n",
    "#     print(f\" Label 0: {bcnt[0]:>7d}      % {bcnt[0]*100/bcnt.sum():2.2f} \")\n",
    "#     print(f\" Label 0: {bcnt[1]:>7d}      % {bcnt[1]*100/bcnt.sum():2.2f} \")\n",
    "#     print(\"\")"
   ]
  },
  {
   "cell_type": "markdown",
   "id": "a08179a7-e4d2-4425-803e-1f78943b3aaf",
   "metadata": {
    "editable": true,
    "slideshow": {
     "slide_type": ""
    },
    "tags": []
   },
   "source": [
    "### Stratified CV data splits"
   ]
  },
  {
   "cell_type": "code",
   "execution_count": 260,
   "id": "36185b9f-f76e-4556-a736-7a97ac07659f",
   "metadata": {
    "execution": {
     "iopub.execute_input": "2024-08-02T19:12:20.623736Z",
     "iopub.status.busy": "2024-08-02T19:12:20.623234Z",
     "iopub.status.idle": "2024-08-02T19:12:20.661974Z",
     "shell.execute_reply": "2024-08-02T19:12:20.661237Z",
     "shell.execute_reply.started": "2024-08-02T19:12:20.623693Z"
    }
   },
   "outputs": [],
   "source": [
    "def visualize_groups(classes, groups, name):\n",
    "    # Visualize dataset groups\n",
    "    fig, ax = plt.subplots(figsize=(10,5))\n",
    "    ax.scatter(\n",
    "        range(len(groups)),\n",
    "        [0.5] * len(groups),\n",
    "        c=groups,\n",
    "        marker=\"_\",\n",
    "        lw=50,\n",
    "        cmap=cmap_data,\n",
    "    )\n",
    "    ax.scatter(\n",
    "        range(len(groups)),\n",
    "        [3.5] * len(groups),\n",
    "        c=classes,\n",
    "        marker=\"_\",\n",
    "        lw=50,\n",
    "        cmap=cmap_data,\n",
    "    )\n",
    "    ax.set(\n",
    "        ylim=[-1, 5],\n",
    "        yticks=[0.5, 3.5],\n",
    "        yticklabels=[\"Data\\ngroup\", \"Data\\nclass\"],\n",
    "        xlabel=\"Sample index\",\n",
    "    )"
   ]
  },
  {
   "cell_type": "code",
   "execution_count": 261,
   "id": "f532d16b-50f2-486d-a2b8-22e960f6007a",
   "metadata": {
    "execution": {
     "iopub.execute_input": "2024-08-02T19:12:20.975622Z",
     "iopub.status.busy": "2024-08-02T19:12:20.975197Z",
     "iopub.status.idle": "2024-08-02T19:12:21.013984Z",
     "shell.execute_reply": "2024-08-02T19:12:21.013243Z",
     "shell.execute_reply.started": "2024-08-02T19:12:20.975584Z"
    }
   },
   "outputs": [],
   "source": [
    "def plot_cv_indices(cv, X, y, group, ax, n_splits, lw=10):\n",
    "    \"\"\"Create a sample plot for indices of a cross-validation object.\"\"\"\n",
    "    use_groups = \"Group\" in type(cv).__name__\n",
    "    groups = group if use_groups else None\n",
    "    # Generate the training/testing visualizations for each CV split\n",
    "    for ii, (tr, tt) in enumerate(cv.split(X=X, y=y, groups=groups)):\n",
    "        # Fill in indices with the training/test groups\n",
    "        indices = np.array([np.nan] * len(X))\n",
    "        indices[tt] = 1\n",
    "        indices[tr] = 0\n",
    "\n",
    "        # Visualize the results\n",
    "        ax.scatter(\n",
    "            range(len(indices)),\n",
    "            [ii + 0.5] * len(indices),\n",
    "            c=indices,\n",
    "            marker=\"_\",\n",
    "            lw=lw,\n",
    "            cmap=cmap_cv,\n",
    "            vmin=-0.2,\n",
    "            vmax=1.2,\n",
    "        )\n",
    "\n",
    "    # Plot the data classes and groups at the end\n",
    "    ax.scatter(\n",
    "        range(len(X)), [ii + 1.5] * len(X), c=y, marker=\"_\", lw=lw, cmap=cmap_data\n",
    "    )\n",
    "\n",
    "    ax.scatter(\n",
    "        range(len(X)), [ii + 2.5] * len(X), c=group, marker=\"_\", lw=lw, cmap=cmap_data\n",
    "    )\n",
    "\n",
    "    # Formatting\n",
    "    yticklabels = list(range(n_splits)) + [\"class\", \"group\"]\n",
    "    ax.set(\n",
    "        yticks=np.arange(n_splits + 2) + 0.5,\n",
    "        yticklabels=yticklabels,\n",
    "        xlabel=\"Sample index\",\n",
    "        ylabel=\"CV iteration\",\n",
    "        ylim=[n_splits + 2.2, -0.2],\n",
    "        xlim=[0, 100],\n",
    "    )\n",
    "    ax.set_title(\"{}\".format(type(cv).__name__), fontsize=15)\n",
    "    return ax"
   ]
  },
  {
   "cell_type": "code",
   "execution_count": null,
   "id": "d6f3f078-8b33-4acc-b639-6daac6d9d519",
   "metadata": {
    "execution": {
     "iopub.execute_input": "2024-08-01T20:37:00.702630Z",
     "iopub.status.busy": "2024-08-01T20:37:00.702069Z",
     "iopub.status.idle": "2024-08-01T20:37:00.746490Z",
     "shell.execute_reply": "2024-08-01T20:37:00.745822Z",
     "shell.execute_reply.started": "2024-08-01T20:37:00.702589Z"
    }
   },
   "outputs": [],
   "source": [
    "import matplotlib.pyplot as plt\n",
    "import numpy as np\n",
    "from matplotlib.patches import Patch\n"
   ]
  },
  {
   "cell_type": "code",
   "execution_count": null,
   "id": "f1165a3b-5756-443f-ad46-bf316c34929e",
   "metadata": {
    "execution": {
     "iopub.execute_input": "2024-08-01T20:37:00.702630Z",
     "iopub.status.busy": "2024-08-01T20:37:00.702069Z",
     "iopub.status.idle": "2024-08-01T20:37:00.746490Z",
     "shell.execute_reply": "2024-08-01T20:37:00.745822Z",
     "shell.execute_reply.started": "2024-08-01T20:37:00.702589Z"
    }
   },
   "outputs": [],
   "source": [
    "rng = np.random.RandomState(1338)\n",
    "cmap_data = plt.cm.Paired\n",
    "cmap_cv = plt.cm.coolwarm\n",
    "n_splits = 4\n",
    "\n",
    "# Generate the class/group data\n",
    "# n_points = 100\n",
    "# X = rng.randn(100, 10)\n",
    "\n",
    "# percentiles_classes = [0.1, 0.3, 0.6]\n",
    "# y = np.hstack([[ii] * int(100 * perc) for ii, perc in enumerate(percentiles_classes)])"
   ]
  },
  {
   "cell_type": "code",
   "execution_count": null,
   "id": "94dd8391-cbf3-4468-9aa2-d311c7f83bd2",
   "metadata": {
    "execution": {
     "iopub.execute_input": "2024-08-01T20:37:00.702630Z",
     "iopub.status.busy": "2024-08-01T20:37:00.702069Z",
     "iopub.status.idle": "2024-08-01T20:37:00.746490Z",
     "shell.execute_reply": "2024-08-01T20:37:00.745822Z",
     "shell.execute_reply.started": "2024-08-01T20:37:00.702589Z"
    }
   },
   "outputs": [],
   "source": [
    "# Generate uneven groups\n",
    "\n",
    "# group_prior = rng.dirichlet([2] * 10)\n",
    "# group_prior.sum()\n",
    "# group_prior\n",
    "\n",
    "# groups = np.repeat(np.arange(10), rng.multinomial(100, group_prior))\n",
    "# groups.shape\n",
    "# groups"
   ]
  },
  {
   "cell_type": "code",
   "execution_count": null,
   "id": "0be667cf-b73b-49d9-8f93-028feb33dc07",
   "metadata": {
    "execution": {
     "iopub.execute_input": "2024-08-01T20:37:00.702630Z",
     "iopub.status.busy": "2024-08-01T20:37:00.702069Z",
     "iopub.status.idle": "2024-08-01T20:37:00.746490Z",
     "shell.execute_reply": "2024-08-01T20:37:00.745822Z",
     "shell.execute_reply.started": "2024-08-01T20:37:00.702589Z"
    }
   },
   "outputs": [],
   "source": [
    "groups = np.repeat(0, train_X.shape[0])\n",
    "groups.shape"
   ]
  },
  {
   "cell_type": "code",
   "execution_count": 84,
   "id": "a3cc3e15-7328-43d7-87b0-e662e89f8995",
   "metadata": {
    "execution": {
     "iopub.execute_input": "2024-08-01T20:39:00.214016Z",
     "iopub.status.busy": "2024-08-01T20:39:00.213534Z",
     "iopub.status.idle": "2024-08-01T20:39:17.703513Z",
     "shell.execute_reply": "2024-08-01T20:39:17.702174Z",
     "shell.execute_reply.started": "2024-08-01T20:39:00.213981Z"
    }
   },
   "outputs": [
    {
     "data": {
      "image/png": "[encoded data removed]",
      "text/plain": [
       "<Figure size 1000x500 with 1 Axes>"
      ]
     },
     "metadata": {},
     "output_type": "display_data"
    }
   ],
   "source": [
    "visualize_groups(train_y, groups, \"no groups\")"
   ]
  },
  {
   "cell_type": "code",
   "execution_count": 88,
   "id": "f27b44ef-5b62-4008-8e90-fcd97dca2186",
   "metadata": {
    "execution": {
     "iopub.execute_input": "2024-08-01T20:42:20.513960Z",
     "iopub.status.busy": "2024-08-01T20:42:20.513311Z",
     "iopub.status.idle": "2024-08-01T20:42:20.563347Z",
     "shell.execute_reply": "2024-08-01T20:42:20.562557Z",
     "shell.execute_reply.started": "2024-08-01T20:42:20.513913Z"
    }
   },
   "outputs": [],
   "source": [
    "n_splits = 5\n",
    "groups = None"
   ]
  },
  {
   "cell_type": "code",
   "execution_count": 89,
   "id": "0cc5f1e4-9fbf-4c51-a82a-ee2c870850aa",
   "metadata": {
    "execution": {
     "iopub.execute_input": "2024-08-01T20:42:22.118077Z",
     "iopub.status.busy": "2024-08-01T20:42:22.117570Z",
     "iopub.status.idle": "2024-08-01T20:42:40.626608Z",
     "shell.execute_reply": "2024-08-01T20:42:40.625579Z",
     "shell.execute_reply.started": "2024-08-01T20:42:22.118037Z"
    }
   },
   "outputs": [
    {
     "name": "stderr",
     "output_type": "stream",
     "text": [
      "/tmp/ipykernel_4107164/1298143750.py:29: UserWarning: No data for colormapping provided via 'c'. Parameters 'cmap' will be ignored\n",
      "  ax.scatter(\n"
     ]
    },
    {
     "data": {
      "text/plain": [
       "<Axes: title={'center': 'KFold'}, xlabel='Sample index', ylabel='CV iteration'>"
      ]
     },
     "execution_count": 89,
     "metadata": {},
     "output_type": "execute_result"
    },
    {
     "data": {
      "image/png": "[encoded data removed]",
      "text/plain": [
       "<Figure size 640x480 with 1 Axes>"
      ]
     },
     "metadata": {},
     "output_type": "display_data"
    }
   ],
   "source": [
    "fig, ax = plt.subplots()\n",
    "cv = KFold(n_splits)\n",
    "plot_cv_indices(cv, train_X, train_y, groups, ax, n_splits)"
   ]
  },
  {
   "cell_type": "markdown",
   "id": "431caa87-8ebb-496e-a35c-bee422a9aeee",
   "metadata": {
    "jp-MarkdownHeadingCollapsed": true
   },
   "source": [
    "### Create balanced datasets"
   ]
  },
  {
   "cell_type": "code",
   "execution_count": 635,
   "id": "b979ba88-3eb5-4da5-a718-3cebca95260b",
   "metadata": {
    "execution": {
     "iopub.execute_input": "2024-08-05T19:07:37.952565Z",
     "iopub.status.busy": "2024-08-05T19:07:37.952226Z",
     "iopub.status.idle": "2024-08-05T19:07:42.982772Z",
     "shell.execute_reply": "2024-08-05T19:07:42.981691Z",
     "shell.execute_reply.started": "2024-08-05T19:07:37.952542Z"
    }
   },
   "outputs": [
    {
     "name": "stdout",
     "output_type": "stream",
     "text": [
      "\n",
      " Take 12388 samples from total of 12388 negative training samples\n",
      " Take 12388 samples from total of 91612 negative training samples\n",
      "\n",
      " Balanced Dataset: # pos samples: 37164    # Neg samples: 37164  Total len: 74328\n",
      "\n",
      " X :  Min: -27.6719    Max: 23.7271   Mean: 0.0016  Std: 1.0157\n",
      " y :  Min: 0.0000    Max: 1.0000   Mean: 0.5000  Std: 0.5000\n",
      "\n",
      " Take 12388 samples from total of 12388 negative training samples\n",
      " Take 24776 samples from total of 91612 negative training samples\n",
      "\n",
      " Balanced Dataset: # pos samples: 37164    # Neg samples: 74328  Total len: 111492\n",
      "\n",
      " X :  Min: -27.3326    Max: 26.3826   Mean: 0.0014  Std: 1.0076\n",
      " y :  Min: 0.0000    Max: 1.0000   Mean: 0.3333  Std: 0.4714\n"
     ]
    }
   ],
   "source": [
    "bal_train_X, bal_train_y = balance_datasets(train_X, train_y, ratio = 1)\n",
    "bal_train_X_2, bal_train_y_2 = balance_datasets(train_X, train_y, ratio = 2)"
   ]
  },
  {
   "cell_type": "code",
   "execution_count": 636,
   "id": "216225bd-9951-42ee-9223-e4230c525a3a",
   "metadata": {
    "execution": {
     "iopub.execute_input": "2024-08-05T19:07:48.795533Z",
     "iopub.status.busy": "2024-08-05T19:07:48.795065Z",
     "iopub.status.idle": "2024-08-05T19:07:48.920041Z",
     "shell.execute_reply": "2024-08-05T19:07:48.919101Z",
     "shell.execute_reply.started": "2024-08-05T19:07:48.795500Z"
    }
   },
   "outputs": [
    {
     "name": "stdout",
     "output_type": "stream",
     "text": [
      "\n",
      " Take 1388 samples from total of 1388 negative training samples\n",
      " Take 1388 samples from total of 10126 negative training samples\n",
      "\n",
      " Balanced Dataset: # pos samples: 4164    # Neg samples: 4164  Total len: 8328\n",
      "\n",
      " X :  Min: -16.9431    Max: 19.0416   Mean: 0.0030  Std: 1.0028\n",
      " y :  Min: 0.0000    Max: 1.0000   Mean: 0.5000  Std: 0.5000\n",
      "\n",
      " Take 1388 samples from total of 1388 negative training samples\n",
      " Take 2776 samples from total of 10126 negative training samples\n",
      "\n",
      " Balanced Dataset: # pos samples: 4164    # Neg samples: 8328  Total len: 12492\n",
      "\n",
      " X :  Min: -18.7677    Max: 20.9524   Mean: 0.0015  Std: 0.9780\n",
      " y :  Min: 0.0000    Max: 1.0000   Mean: 0.3333  Std: 0.4714\n"
     ]
    }
   ],
   "source": [
    "bal_test_X, bal_test_y = balance_datasets(test_X, test_y, ratio = 1)\n",
    "bal_test_X_2, bal_test_y_2 = balance_datasets(test_X, test_y, ratio = 2)"
   ]
  },
  {
   "cell_type": "markdown",
   "id": "70bef3f1-b412-4a56-a4b5-4793a90d3175",
   "metadata": {
    "heading_collapsed": true,
    "hidden": true
   },
   "source": [
    "# **[Logistic Regression Model](https://scikit-learn.org/stable/modules/generated/sklearn.linear_model.LogisticRegression.html#sklearn.linear_model.LogisticRegression)**"
   ]
  },
  {
   "cell_type": "markdown",
   "id": "b50422cb-55a9-42dc-b2a1-4d7249b20086",
   "metadata": {
    "hidden": true
   },
   "source": [
    "Intuitively, the `gamma` parameter defines how far the influence of a single training example reaches, with low values meaning ‘far’ and high values meaning ‘close’. The `gamma`parameters can be seen as the inverse of the radius of influence of samples selected by the model as support vectors.\n",
    "\n",
    "The `C`parameter trades off correct classification of training examples against maximization of the decision function’s margin. For larger values of `C`, a smaller margin will be accepted if the decision function is better at classifying all training points correctly. A lower C will encourage a larger margin, therefore a simpler decision function, at the cost of training accuracy. In other words`C` behaves as a regularization parameter in the SVM."
   ]
  },
  {
   "cell_type": "markdown",
   "id": "14e4bef6-ff94-470f-988e-2a507d867bf6",
   "metadata": {},
   "source": [
    "### Parameters"
   ]
  },
  {
   "cell_type": "code",
   "execution_count": 43,
   "id": "a45ee95d-b973-44d2-a692-d2d3ff81e216",
   "metadata": {
    "execution": {
     "iopub.execute_input": "2024-12-06T11:14:56.204582Z",
     "iopub.status.busy": "2024-12-06T11:14:56.203898Z",
     "iopub.status.idle": "2024-12-06T11:14:56.256142Z",
     "shell.execute_reply": "2024-12-06T11:14:56.255499Z",
     "shell.execute_reply.started": "2024-12-06T11:14:56.204530Z"
    }
   },
   "outputs": [],
   "source": [
    "try:\n",
    "    del X_DATA, Y_DATA\n",
    "except:\n",
    "    pass\n",
    "# train_y.head()"
   ]
  },
  {
   "cell_type": "code",
   "execution_count": 44,
   "id": "965c3053-14d5-45cf-b9bf-28430cfdc1f4",
   "metadata": {
    "execution": {
     "iopub.execute_input": "2024-12-06T11:15:12.627213Z",
     "iopub.status.busy": "2024-12-06T11:15:12.626717Z",
     "iopub.status.idle": "2024-12-06T11:15:21.100765Z",
     "shell.execute_reply": "2024-12-06T11:15:21.099372Z",
     "shell.execute_reply.started": "2024-12-06T11:15:12.627185Z"
    },
    "scrolled": true
   },
   "outputs": [
    {
     "data": {
      "text/html": [
       "<div>\n",
       "<style scoped>\n",
       "    .dataframe tbody tr th:only-of-type {\n",
       "        vertical-align: middle;\n",
       "    }\n",
       "\n",
       "    .dataframe tbody tr th {\n",
       "        vertical-align: top;\n",
       "    }\n",
       "\n",
       "    .dataframe thead th {\n",
       "        text-align: right;\n",
       "    }\n",
       "</style>\n",
       "<table border=\"1\" class=\"dataframe\">\n",
       "  <thead>\n",
       "    <tr style=\"text-align: right;\">\n",
       "      <th></th>\n",
       "      <th>Feature_000</th>\n",
       "      <th>Feature_001</th>\n",
       "      <th>Feature_002</th>\n",
       "      <th>Feature_003</th>\n",
       "      <th>Feature_004</th>\n",
       "      <th>Feature_005</th>\n",
       "      <th>Feature_006</th>\n",
       "      <th>Feature_007</th>\n",
       "      <th>Feature_008</th>\n",
       "      <th>Feature_009</th>\n",
       "      <th>...</th>\n",
       "      <th>Feature_240</th>\n",
       "      <th>Feature_241</th>\n",
       "      <th>Feature_242</th>\n",
       "      <th>Feature_243</th>\n",
       "      <th>Feature_244</th>\n",
       "      <th>Feature_245</th>\n",
       "      <th>Feature_246</th>\n",
       "      <th>Feature_247</th>\n",
       "      <th>Feature_248</th>\n",
       "      <th>Feature_249</th>\n",
       "    </tr>\n",
       "  </thead>\n",
       "  <tbody>\n",
       "    <tr>\n",
       "      <th>0</th>\n",
       "      <td>-0.015171</td>\n",
       "      <td>0.019367</td>\n",
       "      <td>0.028378</td>\n",
       "      <td>-0.016473</td>\n",
       "      <td>0.000907</td>\n",
       "      <td>0.000136</td>\n",
       "      <td>0.004825</td>\n",
       "      <td>-0.037934</td>\n",
       "      <td>-0.062155</td>\n",
       "      <td>-0.006528</td>\n",
       "      <td>...</td>\n",
       "      <td>0.009390</td>\n",
       "      <td>-0.008253</td>\n",
       "      <td>-0.037940</td>\n",
       "      <td>-0.016286</td>\n",
       "      <td>0.022038</td>\n",
       "      <td>0.005269</td>\n",
       "      <td>-0.018263</td>\n",
       "      <td>0.012688</td>\n",
       "      <td>-0.054655</td>\n",
       "      <td>0.004202</td>\n",
       "    </tr>\n",
       "    <tr>\n",
       "      <th>1</th>\n",
       "      <td>-0.010611</td>\n",
       "      <td>0.055484</td>\n",
       "      <td>0.074405</td>\n",
       "      <td>0.012844</td>\n",
       "      <td>-0.054465</td>\n",
       "      <td>-0.073002</td>\n",
       "      <td>0.032855</td>\n",
       "      <td>-0.061387</td>\n",
       "      <td>-0.149656</td>\n",
       "      <td>-0.119751</td>\n",
       "      <td>...</td>\n",
       "      <td>0.095957</td>\n",
       "      <td>0.040152</td>\n",
       "      <td>-0.005584</td>\n",
       "      <td>0.046152</td>\n",
       "      <td>-0.024817</td>\n",
       "      <td>0.049557</td>\n",
       "      <td>-0.078429</td>\n",
       "      <td>0.029078</td>\n",
       "      <td>-0.124861</td>\n",
       "      <td>0.021048</td>\n",
       "    </tr>\n",
       "    <tr>\n",
       "      <th>2</th>\n",
       "      <td>-0.034933</td>\n",
       "      <td>0.035995</td>\n",
       "      <td>0.057973</td>\n",
       "      <td>-0.034025</td>\n",
       "      <td>-0.006909</td>\n",
       "      <td>0.003759</td>\n",
       "      <td>0.004729</td>\n",
       "      <td>-0.072771</td>\n",
       "      <td>-0.125197</td>\n",
       "      <td>-0.009123</td>\n",
       "      <td>...</td>\n",
       "      <td>0.017318</td>\n",
       "      <td>-0.012258</td>\n",
       "      <td>-0.079632</td>\n",
       "      <td>-0.032763</td>\n",
       "      <td>0.054452</td>\n",
       "      <td>0.009448</td>\n",
       "      <td>-0.038036</td>\n",
       "      <td>0.030926</td>\n",
       "      <td>-0.111577</td>\n",
       "      <td>0.015640</td>\n",
       "    </tr>\n",
       "    <tr>\n",
       "      <th>3</th>\n",
       "      <td>-0.060865</td>\n",
       "      <td>0.105364</td>\n",
       "      <td>0.081075</td>\n",
       "      <td>-0.089675</td>\n",
       "      <td>0.001371</td>\n",
       "      <td>-0.018347</td>\n",
       "      <td>0.100143</td>\n",
       "      <td>0.004229</td>\n",
       "      <td>-0.168487</td>\n",
       "      <td>-0.065840</td>\n",
       "      <td>...</td>\n",
       "      <td>-0.114507</td>\n",
       "      <td>0.006824</td>\n",
       "      <td>-0.183686</td>\n",
       "      <td>0.006500</td>\n",
       "      <td>-0.066820</td>\n",
       "      <td>0.013238</td>\n",
       "      <td>-0.087850</td>\n",
       "      <td>-0.010228</td>\n",
       "      <td>-0.111716</td>\n",
       "      <td>-0.066975</td>\n",
       "    </tr>\n",
       "    <tr>\n",
       "      <th>4</th>\n",
       "      <td>-0.017895</td>\n",
       "      <td>0.029566</td>\n",
       "      <td>0.021643</td>\n",
       "      <td>-0.026001</td>\n",
       "      <td>0.001391</td>\n",
       "      <td>-0.007012</td>\n",
       "      <td>0.028064</td>\n",
       "      <td>0.005878</td>\n",
       "      <td>-0.042325</td>\n",
       "      <td>-0.021293</td>\n",
       "      <td>...</td>\n",
       "      <td>-0.035176</td>\n",
       "      <td>0.004032</td>\n",
       "      <td>-0.049694</td>\n",
       "      <td>0.004337</td>\n",
       "      <td>-0.024952</td>\n",
       "      <td>0.003663</td>\n",
       "      <td>-0.024778</td>\n",
       "      <td>-0.007309</td>\n",
       "      <td>-0.026831</td>\n",
       "      <td>-0.021770</td>\n",
       "    </tr>\n",
       "    <tr>\n",
       "      <th>...</th>\n",
       "      <td>...</td>\n",
       "      <td>...</td>\n",
       "      <td>...</td>\n",
       "      <td>...</td>\n",
       "      <td>...</td>\n",
       "      <td>...</td>\n",
       "      <td>...</td>\n",
       "      <td>...</td>\n",
       "      <td>...</td>\n",
       "      <td>...</td>\n",
       "      <td>...</td>\n",
       "      <td>...</td>\n",
       "      <td>...</td>\n",
       "      <td>...</td>\n",
       "      <td>...</td>\n",
       "      <td>...</td>\n",
       "      <td>...</td>\n",
       "      <td>...</td>\n",
       "      <td>...</td>\n",
       "      <td>...</td>\n",
       "      <td>...</td>\n",
       "    </tr>\n",
       "    <tr>\n",
       "      <th>277195</th>\n",
       "      <td>-0.000663</td>\n",
       "      <td>0.000106</td>\n",
       "      <td>-0.001281</td>\n",
       "      <td>-0.000529</td>\n",
       "      <td>0.001847</td>\n",
       "      <td>0.001724</td>\n",
       "      <td>-0.000201</td>\n",
       "      <td>-0.003414</td>\n",
       "      <td>0.001782</td>\n",
       "      <td>0.000404</td>\n",
       "      <td>...</td>\n",
       "      <td>0.001871</td>\n",
       "      <td>0.000387</td>\n",
       "      <td>-0.000532</td>\n",
       "      <td>-0.000985</td>\n",
       "      <td>0.002243</td>\n",
       "      <td>-0.001190</td>\n",
       "      <td>0.002249</td>\n",
       "      <td>0.001333</td>\n",
       "      <td>-0.001061</td>\n",
       "      <td>-0.000294</td>\n",
       "    </tr>\n",
       "    <tr>\n",
       "      <th>277196</th>\n",
       "      <td>-0.000814</td>\n",
       "      <td>0.000313</td>\n",
       "      <td>-0.001819</td>\n",
       "      <td>-0.000853</td>\n",
       "      <td>0.002900</td>\n",
       "      <td>0.002588</td>\n",
       "      <td>-0.000765</td>\n",
       "      <td>-0.005196</td>\n",
       "      <td>0.002887</td>\n",
       "      <td>0.000554</td>\n",
       "      <td>...</td>\n",
       "      <td>0.002895</td>\n",
       "      <td>0.000394</td>\n",
       "      <td>-0.001226</td>\n",
       "      <td>-0.001490</td>\n",
       "      <td>0.003483</td>\n",
       "      <td>-0.002166</td>\n",
       "      <td>0.003738</td>\n",
       "      <td>0.002156</td>\n",
       "      <td>-0.001370</td>\n",
       "      <td>-0.000499</td>\n",
       "    </tr>\n",
       "    <tr>\n",
       "      <th>277197</th>\n",
       "      <td>0.039051</td>\n",
       "      <td>0.002255</td>\n",
       "      <td>-0.013961</td>\n",
       "      <td>-0.017522</td>\n",
       "      <td>-0.006783</td>\n",
       "      <td>-0.036817</td>\n",
       "      <td>-0.041606</td>\n",
       "      <td>-0.026354</td>\n",
       "      <td>0.060860</td>\n",
       "      <td>0.058716</td>\n",
       "      <td>...</td>\n",
       "      <td>0.078374</td>\n",
       "      <td>0.063444</td>\n",
       "      <td>0.129917</td>\n",
       "      <td>0.051093</td>\n",
       "      <td>0.011726</td>\n",
       "      <td>-0.021745</td>\n",
       "      <td>-0.050653</td>\n",
       "      <td>-0.016714</td>\n",
       "      <td>0.055179</td>\n",
       "      <td>0.020004</td>\n",
       "    </tr>\n",
       "    <tr>\n",
       "      <th>277198</th>\n",
       "      <td>0.033865</td>\n",
       "      <td>0.079092</td>\n",
       "      <td>-0.107640</td>\n",
       "      <td>0.085196</td>\n",
       "      <td>0.036734</td>\n",
       "      <td>-0.138652</td>\n",
       "      <td>-0.016204</td>\n",
       "      <td>-0.106429</td>\n",
       "      <td>0.062254</td>\n",
       "      <td>0.010809</td>\n",
       "      <td>...</td>\n",
       "      <td>0.271270</td>\n",
       "      <td>0.117052</td>\n",
       "      <td>0.444226</td>\n",
       "      <td>0.021117</td>\n",
       "      <td>-0.012003</td>\n",
       "      <td>-0.033863</td>\n",
       "      <td>-0.132913</td>\n",
       "      <td>-0.304590</td>\n",
       "      <td>-0.049435</td>\n",
       "      <td>-0.070351</td>\n",
       "    </tr>\n",
       "    <tr>\n",
       "      <th>277199</th>\n",
       "      <td>0.075383</td>\n",
       "      <td>-0.031224</td>\n",
       "      <td>-0.005213</td>\n",
       "      <td>-0.050243</td>\n",
       "      <td>-0.004561</td>\n",
       "      <td>-0.015376</td>\n",
       "      <td>-0.090746</td>\n",
       "      <td>-0.026873</td>\n",
       "      <td>0.115318</td>\n",
       "      <td>0.120478</td>\n",
       "      <td>...</td>\n",
       "      <td>0.131365</td>\n",
       "      <td>0.045351</td>\n",
       "      <td>0.195222</td>\n",
       "      <td>0.096053</td>\n",
       "      <td>0.026607</td>\n",
       "      <td>-0.065916</td>\n",
       "      <td>-0.088988</td>\n",
       "      <td>0.005895</td>\n",
       "      <td>0.127548</td>\n",
       "      <td>0.035524</td>\n",
       "    </tr>\n",
       "  </tbody>\n",
       "</table>\n",
       "<p>277200 rows × 250 columns</p>\n",
       "</div>"
      ],
      "text/plain": [
       "        Feature_000  Feature_001  Feature_002  Feature_003  Feature_004  Feature_005  Feature_006  Feature_007  Feature_008  \\\n",
       "0         -0.015171     0.019367     0.028378    -0.016473     0.000907     0.000136     0.004825    -0.037934    -0.062155   \n",
       "1         -0.010611     0.055484     0.074405     0.012844    -0.054465    -0.073002     0.032855    -0.061387    -0.149656   \n",
       "2         -0.034933     0.035995     0.057973    -0.034025    -0.006909     0.003759     0.004729    -0.072771    -0.125197   \n",
       "3         -0.060865     0.105364     0.081075    -0.089675     0.001371    -0.018347     0.100143     0.004229    -0.168487   \n",
       "4         -0.017895     0.029566     0.021643    -0.026001     0.001391    -0.007012     0.028064     0.005878    -0.042325   \n",
       "...             ...          ...          ...          ...          ...          ...          ...          ...          ...   \n",
       "277195    -0.000663     0.000106    -0.001281    -0.000529     0.001847     0.001724    -0.000201    -0.003414     0.001782   \n",
       "277196    -0.000814     0.000313    -0.001819    -0.000853     0.002900     0.002588    -0.000765    -0.005196     0.002887   \n",
       "277197     0.039051     0.002255    -0.013961    -0.017522    -0.006783    -0.036817    -0.041606    -0.026354     0.060860   \n",
       "277198     0.033865     0.079092    -0.107640     0.085196     0.036734    -0.138652    -0.016204    -0.106429     0.062254   \n",
       "277199     0.075383    -0.031224    -0.005213    -0.050243    -0.004561    -0.015376    -0.090746    -0.026873     0.115318   \n",
       "\n",
       "        Feature_009  ...  Feature_240  Feature_241  Feature_242  Feature_243  Feature_244  Feature_245  Feature_246  Feature_247  \\\n",
       "0         -0.006528  ...     0.009390    -0.008253    -0.037940    -0.016286     0.022038     0.005269    -0.018263     0.012688   \n",
       "1         -0.119751  ...     0.095957     0.040152    -0.005584     0.046152    -0.024817     0.049557    -0.078429     0.029078   \n",
       "2         -0.009123  ...     0.017318    -0.012258    -0.079632    -0.032763     0.054452     0.009448    -0.038036     0.030926   \n",
       "3         -0.065840  ...    -0.114507     0.006824    -0.183686     0.006500    -0.066820     0.013238    -0.087850    -0.010228   \n",
       "4         -0.021293  ...    -0.035176     0.004032    -0.049694     0.004337    -0.024952     0.003663    -0.024778    -0.007309   \n",
       "...             ...  ...          ...          ...          ...          ...          ...          ...          ...          ...   \n",
       "277195     0.000404  ...     0.001871     0.000387    -0.000532    -0.000985     0.002243    -0.001190     0.002249     0.001333   \n",
       "277196     0.000554  ...     0.002895     0.000394    -0.001226    -0.001490     0.003483    -0.002166     0.003738     0.002156   \n",
       "277197     0.058716  ...     0.078374     0.063444     0.129917     0.051093     0.011726    -0.021745    -0.050653    -0.016714   \n",
       "277198     0.010809  ...     0.271270     0.117052     0.444226     0.021117    -0.012003    -0.033863    -0.132913    -0.304590   \n",
       "277199     0.120478  ...     0.131365     0.045351     0.195222     0.096053     0.026607    -0.065916    -0.088988     0.005895   \n",
       "\n",
       "        Feature_248  Feature_249  \n",
       "0         -0.054655     0.004202  \n",
       "1         -0.124861     0.021048  \n",
       "2         -0.111577     0.015640  \n",
       "3         -0.111716    -0.066975  \n",
       "4         -0.026831    -0.021770  \n",
       "...             ...          ...  \n",
       "277195    -0.001061    -0.000294  \n",
       "277196    -0.001370    -0.000499  \n",
       "277197     0.055179     0.020004  \n",
       "277198    -0.049435    -0.070351  \n",
       "277199     0.127548     0.035524  \n",
       "\n",
       "[277200 rows x 250 columns]"
      ]
     },
     "execution_count": 44,
     "metadata": {},
     "output_type": "execute_result"
    },
    {
     "data": {
      "text/html": [
       "<div>\n",
       "<style scoped>\n",
       "    .dataframe tbody tr th:only-of-type {\n",
       "        vertical-align: middle;\n",
       "    }\n",
       "\n",
       "    .dataframe tbody tr th {\n",
       "        vertical-align: top;\n",
       "    }\n",
       "\n",
       "    .dataframe thead th {\n",
       "        text-align: right;\n",
       "    }\n",
       "</style>\n",
       "<table border=\"1\" class=\"dataframe\">\n",
       "  <thead>\n",
       "    <tr style=\"text-align: right;\">\n",
       "      <th></th>\n",
       "      <th>Feature_000</th>\n",
       "      <th>Feature_001</th>\n",
       "      <th>Feature_002</th>\n",
       "      <th>Feature_003</th>\n",
       "      <th>Feature_004</th>\n",
       "      <th>Feature_005</th>\n",
       "      <th>Feature_006</th>\n",
       "      <th>Feature_007</th>\n",
       "      <th>Feature_008</th>\n",
       "      <th>Feature_009</th>\n",
       "      <th>...</th>\n",
       "      <th>Feature_240</th>\n",
       "      <th>Feature_241</th>\n",
       "      <th>Feature_242</th>\n",
       "      <th>Feature_243</th>\n",
       "      <th>Feature_244</th>\n",
       "      <th>Feature_245</th>\n",
       "      <th>Feature_246</th>\n",
       "      <th>Feature_247</th>\n",
       "      <th>Feature_248</th>\n",
       "      <th>Feature_249</th>\n",
       "    </tr>\n",
       "  </thead>\n",
       "  <tbody>\n",
       "    <tr>\n",
       "      <th>0</th>\n",
       "      <td>0.916451</td>\n",
       "      <td>0.872596</td>\n",
       "      <td>1.605941</td>\n",
       "      <td>-0.048202</td>\n",
       "      <td>0.390532</td>\n",
       "      <td>0.409812</td>\n",
       "      <td>-0.655648</td>\n",
       "      <td>-1.462573</td>\n",
       "      <td>0.143709</td>\n",
       "      <td>-0.054209</td>\n",
       "      <td>...</td>\n",
       "      <td>-0.518385</td>\n",
       "      <td>0.716023</td>\n",
       "      <td>-0.590375</td>\n",
       "      <td>2.141531</td>\n",
       "      <td>-1.800316</td>\n",
       "      <td>-0.172188</td>\n",
       "      <td>-0.072441</td>\n",
       "      <td>1.743561</td>\n",
       "      <td>1.466185</td>\n",
       "      <td>1.244473</td>\n",
       "    </tr>\n",
       "    <tr>\n",
       "      <th>1</th>\n",
       "      <td>0.719237</td>\n",
       "      <td>0.682143</td>\n",
       "      <td>1.551272</td>\n",
       "      <td>0.287570</td>\n",
       "      <td>0.318039</td>\n",
       "      <td>0.582101</td>\n",
       "      <td>-0.372718</td>\n",
       "      <td>-1.462299</td>\n",
       "      <td>0.030956</td>\n",
       "      <td>0.022026</td>\n",
       "      <td>...</td>\n",
       "      <td>-0.591034</td>\n",
       "      <td>0.550698</td>\n",
       "      <td>-0.636886</td>\n",
       "      <td>1.880710</td>\n",
       "      <td>-1.816228</td>\n",
       "      <td>-0.037780</td>\n",
       "      <td>-0.130082</td>\n",
       "      <td>1.685629</td>\n",
       "      <td>1.263643</td>\n",
       "      <td>0.943990</td>\n",
       "    </tr>\n",
       "    <tr>\n",
       "      <th>2</th>\n",
       "      <td>0.798004</td>\n",
       "      <td>0.805205</td>\n",
       "      <td>1.545128</td>\n",
       "      <td>0.241463</td>\n",
       "      <td>0.315389</td>\n",
       "      <td>0.497950</td>\n",
       "      <td>-0.449862</td>\n",
       "      <td>-1.470268</td>\n",
       "      <td>0.122954</td>\n",
       "      <td>-0.037246</td>\n",
       "      <td>...</td>\n",
       "      <td>-0.355327</td>\n",
       "      <td>0.605948</td>\n",
       "      <td>-0.733919</td>\n",
       "      <td>2.052279</td>\n",
       "      <td>-1.843459</td>\n",
       "      <td>-0.157140</td>\n",
       "      <td>-0.118316</td>\n",
       "      <td>1.835303</td>\n",
       "      <td>1.341295</td>\n",
       "      <td>0.968254</td>\n",
       "    </tr>\n",
       "    <tr>\n",
       "      <th>3</th>\n",
       "      <td>-0.134616</td>\n",
       "      <td>-0.200266</td>\n",
       "      <td>-0.109721</td>\n",
       "      <td>0.058983</td>\n",
       "      <td>-0.134415</td>\n",
       "      <td>-0.044743</td>\n",
       "      <td>-0.221009</td>\n",
       "      <td>0.147919</td>\n",
       "      <td>0.262348</td>\n",
       "      <td>-0.208570</td>\n",
       "      <td>...</td>\n",
       "      <td>0.132724</td>\n",
       "      <td>-0.171853</td>\n",
       "      <td>0.401244</td>\n",
       "      <td>-0.037833</td>\n",
       "      <td>0.000879</td>\n",
       "      <td>-0.071789</td>\n",
       "      <td>0.051848</td>\n",
       "      <td>-0.053514</td>\n",
       "      <td>0.171957</td>\n",
       "      <td>0.121377</td>\n",
       "    </tr>\n",
       "    <tr>\n",
       "      <th>4</th>\n",
       "      <td>-0.031706</td>\n",
       "      <td>-0.148909</td>\n",
       "      <td>-0.102415</td>\n",
       "      <td>0.078211</td>\n",
       "      <td>-0.046021</td>\n",
       "      <td>0.023729</td>\n",
       "      <td>-0.130609</td>\n",
       "      <td>0.044276</td>\n",
       "      <td>0.173374</td>\n",
       "      <td>-0.036158</td>\n",
       "      <td>...</td>\n",
       "      <td>0.087170</td>\n",
       "      <td>-0.024574</td>\n",
       "      <td>0.260385</td>\n",
       "      <td>-0.012428</td>\n",
       "      <td>0.086317</td>\n",
       "      <td>-0.071831</td>\n",
       "      <td>0.047108</td>\n",
       "      <td>0.024453</td>\n",
       "      <td>0.105712</td>\n",
       "      <td>0.071885</td>\n",
       "    </tr>\n",
       "    <tr>\n",
       "      <th>...</th>\n",
       "      <td>...</td>\n",
       "      <td>...</td>\n",
       "      <td>...</td>\n",
       "      <td>...</td>\n",
       "      <td>...</td>\n",
       "      <td>...</td>\n",
       "      <td>...</td>\n",
       "      <td>...</td>\n",
       "      <td>...</td>\n",
       "      <td>...</td>\n",
       "      <td>...</td>\n",
       "      <td>...</td>\n",
       "      <td>...</td>\n",
       "      <td>...</td>\n",
       "      <td>...</td>\n",
       "      <td>...</td>\n",
       "      <td>...</td>\n",
       "      <td>...</td>\n",
       "      <td>...</td>\n",
       "      <td>...</td>\n",
       "      <td>...</td>\n",
       "    </tr>\n",
       "    <tr>\n",
       "      <th>12595</th>\n",
       "      <td>0.165864</td>\n",
       "      <td>-0.253816</td>\n",
       "      <td>-0.244503</td>\n",
       "      <td>0.277046</td>\n",
       "      <td>0.047860</td>\n",
       "      <td>0.147268</td>\n",
       "      <td>-0.127380</td>\n",
       "      <td>-0.035903</td>\n",
       "      <td>0.443936</td>\n",
       "      <td>0.321162</td>\n",
       "      <td>...</td>\n",
       "      <td>0.137795</td>\n",
       "      <td>0.131801</td>\n",
       "      <td>0.281455</td>\n",
       "      <td>-0.004880</td>\n",
       "      <td>0.298354</td>\n",
       "      <td>-0.011975</td>\n",
       "      <td>0.249098</td>\n",
       "      <td>0.122328</td>\n",
       "      <td>0.279326</td>\n",
       "      <td>0.173874</td>\n",
       "    </tr>\n",
       "    <tr>\n",
       "      <th>12596</th>\n",
       "      <td>0.051572</td>\n",
       "      <td>-0.152540</td>\n",
       "      <td>-0.031808</td>\n",
       "      <td>0.170956</td>\n",
       "      <td>0.025151</td>\n",
       "      <td>0.050282</td>\n",
       "      <td>-0.035007</td>\n",
       "      <td>-0.025391</td>\n",
       "      <td>0.185056</td>\n",
       "      <td>0.219689</td>\n",
       "      <td>...</td>\n",
       "      <td>0.016096</td>\n",
       "      <td>0.096827</td>\n",
       "      <td>0.021602</td>\n",
       "      <td>-0.066104</td>\n",
       "      <td>0.215846</td>\n",
       "      <td>0.068682</td>\n",
       "      <td>0.075461</td>\n",
       "      <td>0.025770</td>\n",
       "      <td>0.146833</td>\n",
       "      <td>0.132271</td>\n",
       "    </tr>\n",
       "    <tr>\n",
       "      <th>12597</th>\n",
       "      <td>-0.013109</td>\n",
       "      <td>-0.010380</td>\n",
       "      <td>0.031994</td>\n",
       "      <td>-0.008713</td>\n",
       "      <td>-0.025707</td>\n",
       "      <td>-0.032357</td>\n",
       "      <td>-0.064948</td>\n",
       "      <td>-0.040382</td>\n",
       "      <td>-0.037646</td>\n",
       "      <td>-0.037369</td>\n",
       "      <td>...</td>\n",
       "      <td>0.089090</td>\n",
       "      <td>-0.034141</td>\n",
       "      <td>0.049892</td>\n",
       "      <td>-0.022626</td>\n",
       "      <td>0.008242</td>\n",
       "      <td>0.008548</td>\n",
       "      <td>-0.012342</td>\n",
       "      <td>-0.017410</td>\n",
       "      <td>-0.045713</td>\n",
       "      <td>0.028342</td>\n",
       "    </tr>\n",
       "    <tr>\n",
       "      <th>12598</th>\n",
       "      <td>0.007677</td>\n",
       "      <td>-0.029839</td>\n",
       "      <td>0.009657</td>\n",
       "      <td>0.025732</td>\n",
       "      <td>-0.036984</td>\n",
       "      <td>-0.016097</td>\n",
       "      <td>-0.066608</td>\n",
       "      <td>-0.027636</td>\n",
       "      <td>0.016297</td>\n",
       "      <td>-0.034339</td>\n",
       "      <td>...</td>\n",
       "      <td>0.115197</td>\n",
       "      <td>-0.066165</td>\n",
       "      <td>0.072447</td>\n",
       "      <td>-0.020661</td>\n",
       "      <td>0.028276</td>\n",
       "      <td>0.005337</td>\n",
       "      <td>0.022535</td>\n",
       "      <td>-0.031815</td>\n",
       "      <td>-0.022689</td>\n",
       "      <td>0.010540</td>\n",
       "    </tr>\n",
       "    <tr>\n",
       "      <th>12599</th>\n",
       "      <td>-0.001285</td>\n",
       "      <td>-0.009526</td>\n",
       "      <td>0.008893</td>\n",
       "      <td>-0.003330</td>\n",
       "      <td>-0.015659</td>\n",
       "      <td>-0.036123</td>\n",
       "      <td>-0.037049</td>\n",
       "      <td>-0.022767</td>\n",
       "      <td>-0.008878</td>\n",
       "      <td>-0.036014</td>\n",
       "      <td>...</td>\n",
       "      <td>0.080799</td>\n",
       "      <td>-0.023805</td>\n",
       "      <td>0.089674</td>\n",
       "      <td>-0.009829</td>\n",
       "      <td>-0.026093</td>\n",
       "      <td>0.009895</td>\n",
       "      <td>-0.009979</td>\n",
       "      <td>-0.032678</td>\n",
       "      <td>-0.018962</td>\n",
       "      <td>0.006637</td>\n",
       "    </tr>\n",
       "  </tbody>\n",
       "</table>\n",
       "<p>12600 rows × 250 columns</p>\n",
       "</div>"
      ],
      "text/plain": [
       "       Feature_000  Feature_001  Feature_002  Feature_003  Feature_004  Feature_005  Feature_006  Feature_007  Feature_008  \\\n",
       "0         0.916451     0.872596     1.605941    -0.048202     0.390532     0.409812    -0.655648    -1.462573     0.143709   \n",
       "1         0.719237     0.682143     1.551272     0.287570     0.318039     0.582101    -0.372718    -1.462299     0.030956   \n",
       "2         0.798004     0.805205     1.545128     0.241463     0.315389     0.497950    -0.449862    -1.470268     0.122954   \n",
       "3        -0.134616    -0.200266    -0.109721     0.058983    -0.134415    -0.044743    -0.221009     0.147919     0.262348   \n",
       "4        -0.031706    -0.148909    -0.102415     0.078211    -0.046021     0.023729    -0.130609     0.044276     0.173374   \n",
       "...            ...          ...          ...          ...          ...          ...          ...          ...          ...   \n",
       "12595     0.165864    -0.253816    -0.244503     0.277046     0.047860     0.147268    -0.127380    -0.035903     0.443936   \n",
       "12596     0.051572    -0.152540    -0.031808     0.170956     0.025151     0.050282    -0.035007    -0.025391     0.185056   \n",
       "12597    -0.013109    -0.010380     0.031994    -0.008713    -0.025707    -0.032357    -0.064948    -0.040382    -0.037646   \n",
       "12598     0.007677    -0.029839     0.009657     0.025732    -0.036984    -0.016097    -0.066608    -0.027636     0.016297   \n",
       "12599    -0.001285    -0.009526     0.008893    -0.003330    -0.015659    -0.036123    -0.037049    -0.022767    -0.008878   \n",
       "\n",
       "       Feature_009  ...  Feature_240  Feature_241  Feature_242  Feature_243  Feature_244  Feature_245  Feature_246  Feature_247  \\\n",
       "0        -0.054209  ...    -0.518385     0.716023    -0.590375     2.141531    -1.800316    -0.172188    -0.072441     1.743561   \n",
       "1         0.022026  ...    -0.591034     0.550698    -0.636886     1.880710    -1.816228    -0.037780    -0.130082     1.685629   \n",
       "2        -0.037246  ...    -0.355327     0.605948    -0.733919     2.052279    -1.843459    -0.157140    -0.118316     1.835303   \n",
       "3        -0.208570  ...     0.132724    -0.171853     0.401244    -0.037833     0.000879    -0.071789     0.051848    -0.053514   \n",
       "4        -0.036158  ...     0.087170    -0.024574     0.260385    -0.012428     0.086317    -0.071831     0.047108     0.024453   \n",
       "...            ...  ...          ...          ...          ...          ...          ...          ...          ...          ...   \n",
       "12595     0.321162  ...     0.137795     0.131801     0.281455    -0.004880     0.298354    -0.011975     0.249098     0.122328   \n",
       "12596     0.219689  ...     0.016096     0.096827     0.021602    -0.066104     0.215846     0.068682     0.075461     0.025770   \n",
       "12597    -0.037369  ...     0.089090    -0.034141     0.049892    -0.022626     0.008242     0.008548    -0.012342    -0.017410   \n",
       "12598    -0.034339  ...     0.115197    -0.066165     0.072447    -0.020661     0.028276     0.005337     0.022535    -0.031815   \n",
       "12599    -0.036014  ...     0.080799    -0.023805     0.089674    -0.009829    -0.026093     0.009895    -0.009979    -0.032678   \n",
       "\n",
       "       Feature_248  Feature_249  \n",
       "0         1.466185     1.244473  \n",
       "1         1.263643     0.943990  \n",
       "2         1.341295     0.968254  \n",
       "3         0.171957     0.121377  \n",
       "4         0.105712     0.071885  \n",
       "...            ...          ...  \n",
       "12595     0.279326     0.173874  \n",
       "12596     0.146833     0.132271  \n",
       "12597    -0.045713     0.028342  \n",
       "12598    -0.022689     0.010540  \n",
       "12599    -0.018962     0.006637  \n",
       "\n",
       "[12600 rows x 250 columns]"
      ]
     },
     "execution_count": 44,
     "metadata": {},
     "output_type": "execute_result"
    }
   ],
   "source": [
    "X_DATA = df_train_x.iloc[:, 11:]    ## bal_train_X\n",
    "X_DATA\n",
    "X_TEST = df_test_x.iloc[:, 11:]\n",
    "X_TEST"
   ]
  },
  {
   "cell_type": "code",
   "execution_count": 45,
   "id": "c25144e5-23c7-4521-93dd-7334f1c1ad47",
   "metadata": {
    "execution": {
     "iopub.execute_input": "2024-12-06T11:15:28.133473Z",
     "iopub.status.busy": "2024-12-06T11:15:28.132454Z",
     "iopub.status.idle": "2024-12-06T11:15:28.209963Z",
     "shell.execute_reply": "2024-12-06T11:15:28.208669Z",
     "shell.execute_reply.started": "2024-12-06T11:15:28.133410Z"
    }
   },
   "outputs": [],
   "source": [
    "Best_Estimators = []\n",
    "df_metrics = pd.DataFrame()"
   ]
  },
  {
   "cell_type": "code",
   "execution_count": 50,
   "id": "159b27bb-f204-4900-b849-1dbc48f2266d",
   "metadata": {
    "execution": {
     "iopub.execute_input": "2024-12-06T11:18:12.084930Z",
     "iopub.status.busy": "2024-12-06T11:18:12.084085Z",
     "iopub.status.idle": "2024-12-06T11:18:12.136426Z",
     "shell.execute_reply": "2024-12-06T11:18:12.135515Z",
     "shell.execute_reply.started": "2024-12-06T11:18:12.084880Z"
    }
   },
   "outputs": [],
   "source": [
    "RANDOM_STATE = 6666\n",
    "NUM_JOBS = 1\n"
   ]
  },
  {
   "cell_type": "code",
   "execution_count": 46,
   "id": "f4b2945e-bcca-4a59-a990-eb0bc13d6ee1",
   "metadata": {
    "execution": {
     "iopub.execute_input": "2024-12-06T11:15:53.914970Z",
     "iopub.status.busy": "2024-12-06T11:15:53.914330Z",
     "iopub.status.idle": "2024-12-06T11:15:53.978208Z",
     "shell.execute_reply": "2024-12-06T11:15:53.977072Z",
     "shell.execute_reply.started": "2024-12-06T11:15:53.914907Z"
    }
   },
   "outputs": [],
   "source": [
    "# Y_INDEX = 17\n",
    "Y_DATA = df_train_y ## .iloc[:, Y_INDEX + Y_OFFSET] ## bal_train_y"
   ]
  },
  {
   "cell_type": "code",
   "execution_count": 51,
   "id": "ccc6ab55-c4c5-474b-b9a9-4895b48fc491",
   "metadata": {
    "ExecuteTime": {
     "end_time": "2023-04-28T12:47:12.210936Z",
     "start_time": "2023-04-28T12:47:12.197029Z"
    },
    "editable": true,
    "execution": {
     "iopub.execute_input": "2024-12-06T11:18:17.309266Z",
     "iopub.status.busy": "2024-12-06T11:18:17.308580Z",
     "iopub.status.idle": "2024-12-06T11:18:17.358470Z",
     "shell.execute_reply": "2024-12-06T11:18:17.357474Z",
     "shell.execute_reply.started": "2024-12-06T11:18:17.309208Z"
    },
    "hidden": true,
    "slideshow": {
     "slide_type": ""
    },
    "tags": []
   },
   "outputs": [],
   "source": [
    "# lr_grid_parameters = {'C': [1.1e+05, 1.0e+05, 7.5e+04, 5.0e+04, 2.5e+04, 1.25e+04 ,\n",
    "#                             1.1e+04, 1.0e+04, 7.5e+03, 5.0e+03, 2.5e+03, 1.25e+03 ,\n",
    "#                             1.1e+03, 1.0e+03, 7.5e+02, 5.0e+02, 2.5e+02, 1.25e+02 ,\n",
    "#                             1.1e+02, 1.0e+02, 7.5e+01, 5.0e+01, 2.5e+01, 1.25e+01 ,\n",
    "#                             1.1e+01, 1.0e+01, 7.5e+00, 5.0e+00, 2.5e+00, 1.25e+00 ,\n",
    "#                             1.1e-00, 1.0e-00, 7.5e-01, 5.0e-01, 2.5e-01, 1.25e-01 ,\n",
    "#                             1.1e-01, 1.0e-01, 7.5e-02, 5.0e-02, 2.5e-02, 1.25e-02 ,\n",
    "#                             1.1e-02, 1.0e-02, 7.5e-03, 5.0e-03, 2.5e-03, 1.25e-03 ,\n",
    "#                             1.1e-03, 1.0e-03, 7.5e-04, 5.0e-04, 2.5e-04, 1.25e-04 ,\n",
    "#                             1.1e-04, 1.0e-04, 7.5e-05, 5.0e-05, 2.5e-05, 1.25e-05], \n",
    "#                       'solver': ['lbfgs'],}\n",
    "\n",
    "# lr_grid_parameters = {'C': [0.1, 1, 10, 100, 200], 'solver': ['lbfgs'],}\n",
    "# lr_grid_parameters = {'C': [  10,     5,   2,     1, 0.500, 0.250, 0.125], 'solver': ['lbfgs'],}\n",
    "# lr_grid_parameters = {'C': [1.1e+05, 1.0e+05, 7.5e+04, 5.0e+04, 2.5e+04, 1.25e+04], 'solver': ['lbfgs'],}\n",
    "# lr_grid_parameters = {'C': [1.1e+04, 1.0e+04, 7.5e+03, 5.0e+03, 2.5e+03, 1.25e+03], 'solver': ['lbfgs'],}\n",
    "# lr_grid_parameters = {'C': [1.1e+03, 1.0e+03, 7.5e+02, 5.0e+02, 2.5e+02, 1.25e+02], 'solver': ['lbfgs'],}\n",
    "# lr_grid_parameters = {'C': [1.1e+02, 1.0e+02, 7.5e+01, 5.0e+01, 2.5e+01, 1.25e+01], 'solver': ['lbfgs'],}\n",
    "# lr_grid_parameters = {'C': [1.1e+01, 1.0e+01, 7.5e+00, 5.0e+00, 2.5e+00, 1.25e+00], 'solver': ['lbfgs'],}\n",
    "# lr_grid_parameters = {'C': [1.1e-00, 1.0e-00, 7.5e-01, 5.0e-01, 2.5e-01, 1.25e-01], 'solver': ['lbfgs'],}\n",
    "lr_grid_parameters = {'C': [1.1e-01, 1.0e-01, 7.5e-02, 5.0e-02, 2.5e-02, 1.25e-02], 'solver': ['lbfgs'],}\n",
    "# lr_grid_parameters = {'C': [1.1e-02, 1.0e-02, 7.5e-03, 5.0e-03, 2.5e-03, 1.25e-03], 'solver': ['lbfgs'],}\n",
    "# lr_grid_parameters = {'C': [1.1e-03, 1.0e-03, 7.5e-04, 5.0e-04, 2.5e-04, 1.25e-04], 'solver': ['lbfgs'],}\n",
    "# lr_grid_parameters = {'C': [1.1e-04, 1.0e-04, 7.5e-05, 5.0e-05, 2.5e-05, 1.25e-05], 'solver': ['lbfgs'],}\n",
    "\n",
    "# lr_grid_parameters = {'C': [1.1e+01, 1.0e+01, 7.5e+00, 5.0e+00, 2.5e+00, 1.25e+00,\n",
    "#                             1.1e-00, 1.0e-00, 7.5e-01, 5.0e-01, 2.5e-01, 1.25e-01,\n",
    "#                             1.1e-01, 1.0e-01, 7.5e-02, 5.0e-02, 2.5e-02, 1.25e-02,\n",
    "#                             1.1e-02, 1.0e-02, 7.5e-03, 5.0e-03, 2.5e-03, 1.25e-03,\n",
    "#                             1.1e-03, 1.0e-03, 7.5e-04, 5.0e-04, 2.5e-04, 1.25e-04,\n",
    "#                             1.1e-04, 1.0e-04, 7.5e-05, 5.0e-05, 2.5e-05, 1.25e-05], 'solver': ['lbfgs'],}"
   ]
  },
  {
   "cell_type": "code",
   "execution_count": 54,
   "id": "ecdc4793-7085-4712-8771-445b217162f2",
   "metadata": {
    "execution": {
     "iopub.execute_input": "2024-12-06T11:18:51.182613Z",
     "iopub.status.busy": "2024-12-06T11:18:51.181861Z",
     "iopub.status.idle": "2024-12-06T11:18:51.236963Z",
     "shell.execute_reply": "2024-12-06T11:18:51.235886Z",
     "shell.execute_reply.started": "2024-12-06T11:18:51.182548Z"
    }
   },
   "outputs": [
    {
     "data": {
      "text/plain": [
       "{'C': [0.11, 0.1, 0.075, 0.05, 0.025, 0.0125], 'solver': ['lbfgs']}"
      ]
     },
     "execution_count": 54,
     "metadata": {},
     "output_type": "execute_result"
    },
    {
     "data": {
      "text/plain": [
       "6666"
      ]
     },
     "execution_count": 54,
     "metadata": {},
     "output_type": "execute_result"
    }
   ],
   "source": [
    "PARM_SET = lr_grid_parameters\n",
    "PARM_SET\n",
    "RANDOM_STATE\n",
    "# PARM_SET\n"
   ]
  },
  {
   "cell_type": "markdown",
   "id": "011be4dc-215b-4de0-af17-79b28de3e59f",
   "metadata": {},
   "source": [
    "## Training"
   ]
  },
  {
   "cell_type": "code",
   "execution_count": 55,
   "id": "62a2d56f-db6b-4274-b0d3-cbeeb9915b48",
   "metadata": {
    "execution": {
     "iopub.execute_input": "2024-12-06T11:20:11.747957Z",
     "iopub.status.busy": "2024-12-06T11:20:11.747263Z",
     "iopub.status.idle": "2024-12-06T11:20:11.801326Z",
     "shell.execute_reply": "2024-12-06T11:20:11.800554Z",
     "shell.execute_reply.started": "2024-12-06T11:20:11.747896Z"
    }
   },
   "outputs": [],
   "source": [
    "logreg = LogisticRegression(penalty = 'l2', random_state = RANDOM_STATE, max_iter = 10000, tol = 1e-5,\n",
    "                            n_jobs = 6, class_weight=None, solver = 'lbfgs')"
   ]
  },
  {
   "cell_type": "code",
   "execution_count": 56,
   "id": "84815163-d4df-4def-86e9-ac1a90d969e9",
   "metadata": {
    "editable": true,
    "execution": {
     "iopub.execute_input": "2024-12-06T11:20:13.116412Z",
     "iopub.status.busy": "2024-12-06T11:20:13.115857Z",
     "iopub.status.idle": "2024-12-06T11:31:23.937848Z",
     "shell.execute_reply": "2024-12-06T11:31:23.935976Z",
     "shell.execute_reply.started": "2024-12-06T11:20:13.116366Z"
    },
    "scrolled": true,
    "slideshow": {
     "slide_type": ""
    },
    "tags": []
   },
   "outputs": [
    {
     "name": "stdout",
     "output_type": "stream",
     "text": [
      " verbose is 3\n",
      " params_grid: {'C': [0.11, 0.1, 0.075, 0.05, 0.025, 0.0125], 'solver': ['lbfgs']}\n",
      " scoring    : roc_auc     cv:  4   n_jobs: 1   gridsearch: True    n_iter: 20   refit: True   \n",
      "Fitting 4 folds for each of 6 candidates, totalling 24 fits\n",
      "[CV 1/4] END ..............C=0.11, solver=lbfgs;, score=0.606 total time=  36.9s\n",
      "[CV 2/4] END ..............C=0.11, solver=lbfgs;, score=0.606 total time=  38.7s\n",
      "[CV 3/4] END ..............C=0.11, solver=lbfgs;, score=0.610 total time=  41.4s\n",
      "[CV 4/4] END ..............C=0.11, solver=lbfgs;, score=0.614 total time=  37.3s\n",
      "[CV 1/4] END ...............C=0.1, solver=lbfgs;, score=0.606 total time=  31.6s\n",
      "[CV 2/4] END ...............C=0.1, solver=lbfgs;, score=0.605 total time=  36.4s\n",
      "[CV 3/4] END ...............C=0.1, solver=lbfgs;, score=0.610 total time=  29.9s\n",
      "[CV 4/4] END ...............C=0.1, solver=lbfgs;, score=0.613 total time=  29.8s\n",
      "[CV 1/4] END .............C=0.075, solver=lbfgs;, score=0.605 total time=  29.5s\n",
      "[CV 2/4] END .............C=0.075, solver=lbfgs;, score=0.605 total time=  32.7s\n",
      "[CV 3/4] END .............C=0.075, solver=lbfgs;, score=0.610 total time=  22.9s\n",
      "[CV 4/4] END .............C=0.075, solver=lbfgs;, score=0.613 total time=  17.3s\n",
      "[CV 1/4] END ..............C=0.05, solver=lbfgs;, score=0.604 total time=  13.1s\n",
      "[CV 2/4] END ..............C=0.05, solver=lbfgs;, score=0.604 total time=  15.6s\n",
      "[CV 3/4] END ..............C=0.05, solver=lbfgs;, score=0.609 total time=  17.1s\n",
      "[CV 4/4] END ..............C=0.05, solver=lbfgs;, score=0.612 total time=  24.8s\n",
      "[CV 1/4] END .............C=0.025, solver=lbfgs;, score=0.603 total time=  26.3s\n",
      "[CV 2/4] END .............C=0.025, solver=lbfgs;, score=0.602 total time=  25.2s\n",
      "[CV 3/4] END .............C=0.025, solver=lbfgs;, score=0.608 total time=  21.2s\n",
      "[CV 4/4] END .............C=0.025, solver=lbfgs;, score=0.611 total time=  21.6s\n",
      "[CV 1/4] END ............C=0.0125, solver=lbfgs;, score=0.602 total time=  21.1s\n",
      "[CV 2/4] END ............C=0.0125, solver=lbfgs;, score=0.600 total time=  19.5s\n",
      "[CV 3/4] END ............C=0.0125, solver=lbfgs;, score=0.607 total time=  16.9s\n",
      "[CV 4/4] END ............C=0.0125, solver=lbfgs;, score=0.610 total time=  18.6s\n",
      "Best parameters set found on development set: {'C': 0.11, 'solver': 'lbfgs'}\n",
      "Best score: 0.6087832652896047\n",
      "Grid scores on development set:\n",
      "\n",
      "0.60878 (+/-0.007) for {'C': 0.11, 'solver': 'lbfgs'}\n",
      "0.60854 (+/-0.007) for {'C': 0.1, 'solver': 'lbfgs'}\n",
      "0.60801 (+/-0.007) for {'C': 0.075, 'solver': 'lbfgs'}\n",
      "0.60723 (+/-0.007) for {'C': 0.05, 'solver': 'lbfgs'}\n",
      "0.60616 (+/-0.007) for {'C': 0.025, 'solver': 'lbfgs'}\n",
      "0.60487 (+/-0.008) for {'C': 0.0125, 'solver': 'lbfgs'}\n"
     ]
    }
   ],
   "source": [
    "# vt_svm = model_selection(svc, PARM_SET, X_DATA, Y_DATA, scoring = 'roc_auc', cv=4, GridSearch = True, n_jobs=NUM_JOBS,  verbose = 3)\n",
    "vt_logreg = model_selection(logreg, PARM_SET, X_DATA, Y_DATA, scoring = 'roc_auc', cv=4,\n",
    "                            GridSearch = True, n_jobs = NUM_JOBS, verbose = 3)"
   ]
  },
  {
   "cell_type": "code",
   "execution_count": 57,
   "id": "3be78e0f-de02-4b49-a8ec-a3234e814e5f",
   "metadata": {
    "execution": {
     "iopub.execute_input": "2024-12-06T12:21:15.630304Z",
     "iopub.status.busy": "2024-12-06T12:21:15.629571Z",
     "iopub.status.idle": "2024-12-06T12:21:15.739984Z",
     "shell.execute_reply": "2024-12-06T12:21:15.739255Z",
     "shell.execute_reply.started": "2024-12-06T12:21:15.630242Z"
    },
    "scrolled": true
   },
   "outputs": [
    {
     "data": {
      "text/html": [
       "<div>\n",
       "<style scoped>\n",
       "    .dataframe tbody tr th:only-of-type {\n",
       "        vertical-align: middle;\n",
       "    }\n",
       "\n",
       "    .dataframe tbody tr th {\n",
       "        vertical-align: top;\n",
       "    }\n",
       "\n",
       "    .dataframe thead th {\n",
       "        text-align: right;\n",
       "    }\n",
       "</style>\n",
       "<table border=\"1\" class=\"dataframe\">\n",
       "  <thead>\n",
       "    <tr style=\"text-align: right;\">\n",
       "      <th></th>\n",
       "      <th>rank_test_score</th>\n",
       "      <th>param_C</th>\n",
       "      <th>param_solver</th>\n",
       "      <th>mean_test_score</th>\n",
       "      <th>std_test_score</th>\n",
       "      <th>split0_test_score</th>\n",
       "      <th>split1_test_score</th>\n",
       "      <th>split2_test_score</th>\n",
       "      <th>split3_test_score</th>\n",
       "      <th>mean_fit_time</th>\n",
       "      <th>std_fit_time</th>\n",
       "      <th>mean_score_time</th>\n",
       "      <th>std_score_time</th>\n",
       "      <th>params</th>\n",
       "      <th>random_seed</th>\n",
       "    </tr>\n",
       "  </thead>\n",
       "  <tbody>\n",
       "    <tr>\n",
       "      <th>0</th>\n",
       "      <td>1</td>\n",
       "      <td>0.11</td>\n",
       "      <td>lbfgs</td>\n",
       "      <td>0.608783</td>\n",
       "      <td>0.003347</td>\n",
       "      <td>0.605765</td>\n",
       "      <td>0.605514</td>\n",
       "      <td>0.610309</td>\n",
       "      <td>0.613546</td>\n",
       "      <td>38.472169</td>\n",
       "      <td>1.752602</td>\n",
       "      <td>0.072158</td>\n",
       "      <td>0.005986</td>\n",
       "      <td>{'C': 0.11, 'solver': 'lbfgs'}</td>\n",
       "      <td>6666</td>\n",
       "    </tr>\n",
       "    <tr>\n",
       "      <th>1</th>\n",
       "      <td>2</td>\n",
       "      <td>0.1</td>\n",
       "      <td>lbfgs</td>\n",
       "      <td>0.608536</td>\n",
       "      <td>0.003313</td>\n",
       "      <td>0.605540</td>\n",
       "      <td>0.605282</td>\n",
       "      <td>0.610108</td>\n",
       "      <td>0.613213</td>\n",
       "      <td>31.851046</td>\n",
       "      <td>2.662029</td>\n",
       "      <td>0.069145</td>\n",
       "      <td>0.006310</td>\n",
       "      <td>{'C': 0.1, 'solver': 'lbfgs'}</td>\n",
       "      <td>6666</td>\n",
       "    </tr>\n",
       "    <tr>\n",
       "      <th>2</th>\n",
       "      <td>3</td>\n",
       "      <td>0.075</td>\n",
       "      <td>lbfgs</td>\n",
       "      <td>0.608012</td>\n",
       "      <td>0.003433</td>\n",
       "      <td>0.604959</td>\n",
       "      <td>0.604550</td>\n",
       "      <td>0.609747</td>\n",
       "      <td>0.612791</td>\n",
       "      <td>25.553318</td>\n",
       "      <td>5.924446</td>\n",
       "      <td>0.064963</td>\n",
       "      <td>0.011648</td>\n",
       "      <td>{'C': 0.075, 'solver': 'lbfgs'}</td>\n",
       "      <td>6666</td>\n",
       "    </tr>\n",
       "    <tr>\n",
       "      <th>3</th>\n",
       "      <td>4</td>\n",
       "      <td>0.05</td>\n",
       "      <td>lbfgs</td>\n",
       "      <td>0.607228</td>\n",
       "      <td>0.003484</td>\n",
       "      <td>0.604213</td>\n",
       "      <td>0.603597</td>\n",
       "      <td>0.609108</td>\n",
       "      <td>0.611996</td>\n",
       "      <td>17.563865</td>\n",
       "      <td>4.341509</td>\n",
       "      <td>0.063868</td>\n",
       "      <td>0.016948</td>\n",
       "      <td>{'C': 0.05, 'solver': 'lbfgs'}</td>\n",
       "      <td>6666</td>\n",
       "    </tr>\n",
       "    <tr>\n",
       "      <th>4</th>\n",
       "      <td>5</td>\n",
       "      <td>0.025</td>\n",
       "      <td>lbfgs</td>\n",
       "      <td>0.606165</td>\n",
       "      <td>0.003649</td>\n",
       "      <td>0.603303</td>\n",
       "      <td>0.602108</td>\n",
       "      <td>0.608095</td>\n",
       "      <td>0.611153</td>\n",
       "      <td>23.462848</td>\n",
       "      <td>2.184836</td>\n",
       "      <td>0.097467</td>\n",
       "      <td>0.011414</td>\n",
       "      <td>{'C': 0.025, 'solver': 'lbfgs'}</td>\n",
       "      <td>6666</td>\n",
       "    </tr>\n",
       "    <tr>\n",
       "      <th>5</th>\n",
       "      <td>6</td>\n",
       "      <td>0.0125</td>\n",
       "      <td>lbfgs</td>\n",
       "      <td>0.604868</td>\n",
       "      <td>0.003902</td>\n",
       "      <td>0.601954</td>\n",
       "      <td>0.600465</td>\n",
       "      <td>0.606757</td>\n",
       "      <td>0.610295</td>\n",
       "      <td>18.944685</td>\n",
       "      <td>1.509081</td>\n",
       "      <td>0.091296</td>\n",
       "      <td>0.007215</td>\n",
       "      <td>{'C': 0.0125, 'solver': 'lbfgs'}</td>\n",
       "      <td>6666</td>\n",
       "    </tr>\n",
       "  </tbody>\n",
       "</table>\n",
       "</div>"
      ],
      "text/plain": [
       "   rank_test_score param_C param_solver  mean_test_score  std_test_score  split0_test_score  split1_test_score  split2_test_score  \\\n",
       "0                1    0.11        lbfgs         0.608783        0.003347           0.605765           0.605514           0.610309   \n",
       "1                2     0.1        lbfgs         0.608536        0.003313           0.605540           0.605282           0.610108   \n",
       "2                3   0.075        lbfgs         0.608012        0.003433           0.604959           0.604550           0.609747   \n",
       "3                4    0.05        lbfgs         0.607228        0.003484           0.604213           0.603597           0.609108   \n",
       "4                5   0.025        lbfgs         0.606165        0.003649           0.603303           0.602108           0.608095   \n",
       "5                6  0.0125        lbfgs         0.604868        0.003902           0.601954           0.600465           0.606757   \n",
       "\n",
       "   split3_test_score  mean_fit_time  std_fit_time  mean_score_time  std_score_time                            params  random_seed  \n",
       "0           0.613546      38.472169      1.752602         0.072158        0.005986    {'C': 0.11, 'solver': 'lbfgs'}         6666  \n",
       "1           0.613213      31.851046      2.662029         0.069145        0.006310     {'C': 0.1, 'solver': 'lbfgs'}         6666  \n",
       "2           0.612791      25.553318      5.924446         0.064963        0.011648   {'C': 0.075, 'solver': 'lbfgs'}         6666  \n",
       "3           0.611996      17.563865      4.341509         0.063868        0.016948    {'C': 0.05, 'solver': 'lbfgs'}         6666  \n",
       "4           0.611153      23.462848      2.184836         0.097467        0.011414   {'C': 0.025, 'solver': 'lbfgs'}         6666  \n",
       "5           0.610295      18.944685      1.509081         0.091296        0.007215  {'C': 0.0125, 'solver': 'lbfgs'}         6666  "
      ]
     },
     "execution_count": 57,
     "metadata": {},
     "output_type": "execute_result"
    }
   ],
   "source": [
    "## Save best estimator and metrics\n",
    "## -------------------------------------------------------\n",
    "\n",
    "_tmp_df = pd.DataFrame(vt_logreg.cv_results_)\n",
    "# _tmp_df['Y_bit'] = selected_label_indices[Y_INDEX]\n",
    "_tmp_df['random_seed'] = RANDOM_STATE\n",
    "# reordered_col_names = ['Y_bit',\n",
    "reordered_col_names = ['rank_test_score', 'param_C', 'param_solver', 'mean_test_score', 'std_test_score', \n",
    "                       'split0_test_score', 'split1_test_score', 'split2_test_score', 'split3_test_score', 'mean_fit_time',\n",
    "                       'std_fit_time', 'mean_score_time', 'std_score_time', 'params', 'random_seed']\n",
    "_tmp_df = _tmp_df[reordered_col_names]\n",
    "_tmp_df"
   ]
  },
  {
   "cell_type": "markdown",
   "id": "873d117e-0169-4fd5-95e9-41bcc24cf1eb",
   "metadata": {
    "jp-MarkdownHeadingCollapsed": true
   },
   "source": [
    "#### Metric results"
   ]
  },
  {
   "cell_type": "code",
   "execution_count": null,
   "id": "0d92edcb-823e-4b59-86f6-a55ed881c0ea",
   "metadata": {
    "editable": true,
    "slideshow": {
     "slide_type": ""
    },
    "tags": []
   },
   "outputs": [],
   "source": [
    "# Best parameters set found on development set: {'C': 0.012, 'solver': 'lbfgs'}\n",
    "# Best score: 0.5419\n",
    "# Grid scores on development set:\n",
    "# Best parameters set found on development set: {'C': 0.0012, 'solver': 'lbfgs'}\n",
    "# Best score: 0.5413\n",
    "# Grid scores on development set:\n",
    "\n",
    "0.54190 (+/-0.006) for {'C': 0.012, 'solver': 'lbfgs'}\n",
    "0.54182 (+/-0.006) for {'C': 0.01, 'solver': 'lbfgs'}\n",
    "0.54166 (+/-0.006) for {'C': 0.0075, 'solver': 'lbfgs'}\n",
    "0.54151 (+/-0.006) for {'C': 0.005, 'solver': 'lbfgs'}\n",
    "0.54130 (+/-0.006) for {'C': 0.0025, 'solver': 'lbfgs'}\n",
    "0.54130 (+/-0.007) for {'C': 0.00125, 'solver': 'lbfgs'}\n",
    "\n",
    "0.54130 (+/-0.007) for {'C': 0.0012, 'solver': 'lbfgs'}\n",
    "0.54124 (+/-0.007) for {'C': 0.001, 'solver': 'lbfgs'}\n",
    "0.54116 (+/-0.007) for {'C': 0.00075, 'solver': 'lbfgs'}\n",
    "0.54095 (+/-0.006) for {'C': 0.0005, 'solver': 'lbfgs'}\n",
    "0.54048 (+/-0.006) for {'C': 0.00025, 'solver': 'lbfgs'}\n",
    "0.54024 (+/-0.006) for {'C': 0.000125, 'solver': 'lbfgs'}\n",
    "\n",
    "# Best parameters set found on development set: {'C': 0.125, 'solver': 'lbfgs'}\n",
    "# Best score: 0.5483\n",
    "# Grid scores on development set:\n",
    "# Best parameters set found on development set: {'C': 0.012, 'solver': 'lbfgs'}\n",
    "# Best score: 0.5493 \n",
    "# Grid scores on development set:\n",
    "# Best parameters set found on development set: {'C': 0.00125, 'solver': 'lbfgs'}\n",
    "# Best score: 0.5513\n",
    "# Grid scores on development set:\n",
    "Best parameters set found on development set: {'C': 0.000125, 'solver': 'lbfgs'}\n",
    "Best score: 0.5526 \n",
    "Grid scores on development set:\n",
    "\n",
    "# 0.54795 (+/-0.006) for {'C': 10, 'solver': 'lbfgs'}\n",
    "# 0.54796 (+/-0.006) for {'C': 5, 'solver': 'lbfgs'}\n",
    "# 0.54798 (+/-0.006) for {'C': 2, 'solver': 'lbfgs'}\n",
    "# 0.54799 (+/-0.006) for {'C': 1, 'solver': 'lbfgs'}\n",
    "# 0.54805 (+/-0.006) for {'C': 0.5, 'solver': 'lbfgs'}\n",
    "# 0.54814 (+/-0.006) for {'C': 0.25, 'solver': 'lbfgs'}\n",
    "# 0.54828 (+/-0.006) for {'C': 0.125, 'solver': 'lbfgs'}\n",
    "# 0.54816 (+/-0.006) for {'C': 0.2, 'solver': 'lbfgs'}\n",
    "# 0.54828 (+/-0.006) for {'C': 0.125, 'solver': 'lbfgs'}\n",
    "# 0.54833 (+/-0.006) for {'C': 0.1, 'solver': 'lbfgs'}\n",
    "# 0.54842 (+/-0.006) for {'C': 0.075, 'solver': 'lbfgs'}\n",
    "# 0.54855 (+/-0.006) for {'C': 0.05, 'solver': 'lbfgs'}\n",
    "# 0.54886 (+/-0.006) for {'C': 0.025, 'solver': 'lbfgs'}\n",
    "# 0.54931 (+/-0.007) for {'C': 0.012, 'solver': 'lbfgs'}\n",
    "# 0.54931 (+/-0.007) for {'C': 0.012, 'solver': 'lbfgs'}\n",
    "# 0.54944 (+/-0.007) for {'C': 0.01, 'solver': 'lbfgs'}\n",
    "# 0.54965 (+/-0.007) for {'C': 0.0075, 'solver': 'lbfgs'}\n",
    "# 0.55000 (+/-0.007) for {'C': 0.005, 'solver': 'lbfgs'}\n",
    "# 0.55063 (+/-0.007) for {'C': 0.0025, 'solver': 'lbfgs'}\n",
    "# 0.55129 (+/-0.007) for {'C': 0.00125, 'solver': 'lbfgs'}\n",
    "# 0.55133 (+/-0.007) for {'C': 0.0012, 'solver': 'lbfgs'}\n",
    "# 0.55151 (+/-0.007) for {'C': 0.001, 'solver': 'lbfgs'}\n",
    "# 0.55177 (+/-0.006) for {'C': 0.00075, 'solver': 'lbfgs'}\n",
    "# 0.55211 (+/-0.006) for {'C': 0.0005, 'solver': 'lbfgs'}\n",
    "# 0.55254 (+/-0.006) for {'C': 0.00025, 'solver': 'lbfgs'}\n",
    "# 0.55263 (+/-0.005) for {'C': 0.000125, 'solver': 'lbfgs'}"
   ]
  },
  {
   "cell_type": "code",
   "execution_count": 83,
   "id": "8679e410-81d1-491f-a84e-b9beb5322c32",
   "metadata": {
    "editable": true,
    "execution": {
     "iopub.execute_input": "2024-11-01T17:12:05.621977Z",
     "iopub.status.busy": "2024-11-01T17:12:05.621124Z",
     "iopub.status.idle": "2024-11-01T17:12:05.718744Z",
     "shell.execute_reply": "2024-11-01T17:12:05.718098Z",
     "shell.execute_reply.started": "2024-11-01T17:12:05.621914Z"
    },
    "scrolled": true,
    "slideshow": {
     "slide_type": ""
    },
    "tags": []
   },
   "outputs": [
    {
     "data": {
      "text/html": [
       "<style>#sk-container-id-14 {color: black;}#sk-container-id-14 pre{padding: 0;}#sk-container-id-14 div.sk-toggleable {background-color: white;}#sk-container-id-14 label.sk-toggleable__label {cursor: pointer;display: block;width: 100%;margin-bottom: 0;padding: 0.3em;box-sizing: border-box;text-align: center;}#sk-container-id-14 label.sk-toggleable__label-arrow:before {content: \"▸\";float: left;margin-right: 0.25em;color: #696969;}#sk-container-id-14 label.sk-toggleable__label-arrow:hover:before {color: black;}#sk-container-id-14 div.sk-estimator:hover label.sk-toggleable__label-arrow:before {color: black;}#sk-container-id-14 div.sk-toggleable__content {max-height: 0;max-width: 0;overflow: hidden;text-align: left;background-color: #f0f8ff;}#sk-container-id-14 div.sk-toggleable__content pre {margin: 0.2em;color: black;border-radius: 0.25em;background-color: #f0f8ff;}#sk-container-id-14 input.sk-toggleable__control:checked~div.sk-toggleable__content {max-height: 200px;max-width: 100%;overflow: auto;}#sk-container-id-14 input.sk-toggleable__control:checked~label.sk-toggleable__label-arrow:before {content: \"▾\";}#sk-container-id-14 div.sk-estimator input.sk-toggleable__control:checked~label.sk-toggleable__label {background-color: #d4ebff;}#sk-container-id-14 div.sk-label input.sk-toggleable__control:checked~label.sk-toggleable__label {background-color: #d4ebff;}#sk-container-id-14 input.sk-hidden--visually {border: 0;clip: rect(1px 1px 1px 1px);clip: rect(1px, 1px, 1px, 1px);height: 1px;margin: -1px;overflow: hidden;padding: 0;position: absolute;width: 1px;}#sk-container-id-14 div.sk-estimator {font-family: monospace;background-color: #f0f8ff;border: 1px dotted black;border-radius: 0.25em;box-sizing: border-box;margin-bottom: 0.5em;}#sk-container-id-14 div.sk-estimator:hover {background-color: #d4ebff;}#sk-container-id-14 div.sk-parallel-item::after {content: \"\";width: 100%;border-bottom: 1px solid gray;flex-grow: 1;}#sk-container-id-14 div.sk-label:hover label.sk-toggleable__label {background-color: #d4ebff;}#sk-container-id-14 div.sk-serial::before {content: \"\";position: absolute;border-left: 1px solid gray;box-sizing: border-box;top: 0;bottom: 0;left: 50%;z-index: 0;}#sk-container-id-14 div.sk-serial {display: flex;flex-direction: column;align-items: center;background-color: white;padding-right: 0.2em;padding-left: 0.2em;position: relative;}#sk-container-id-14 div.sk-item {position: relative;z-index: 1;}#sk-container-id-14 div.sk-parallel {display: flex;align-items: stretch;justify-content: center;background-color: white;position: relative;}#sk-container-id-14 div.sk-item::before, #sk-container-id-14 div.sk-parallel-item::before {content: \"\";position: absolute;border-left: 1px solid gray;box-sizing: border-box;top: 0;bottom: 0;left: 50%;z-index: -1;}#sk-container-id-14 div.sk-parallel-item {display: flex;flex-direction: column;z-index: 1;position: relative;background-color: white;}#sk-container-id-14 div.sk-parallel-item:first-child::after {align-self: flex-end;width: 50%;}#sk-container-id-14 div.sk-parallel-item:last-child::after {align-self: flex-start;width: 50%;}#sk-container-id-14 div.sk-parallel-item:only-child::after {width: 0;}#sk-container-id-14 div.sk-dashed-wrapped {border: 1px dashed gray;margin: 0 0.4em 0.5em 0.4em;box-sizing: border-box;padding-bottom: 0.4em;background-color: white;}#sk-container-id-14 div.sk-label label {font-family: monospace;font-weight: bold;display: inline-block;line-height: 1.2em;}#sk-container-id-14 div.sk-label-container {text-align: center;}#sk-container-id-14 div.sk-container {/* jupyter's `normalize.less` sets `[hidden] { display: none; }` but bootstrap.min.css set `[hidden] { display: none !important; }` so we also need the `!important` here to be able to override the default hidden behavior on the sphinx rendered scikit-learn.org. See: https://github.com/scikit-learn/scikit-learn/issues/21755 */display: inline-block !important;position: relative;}#sk-container-id-14 div.sk-text-repr-fallback {display: none;}</style><div id=\"sk-container-id-14\" class=\"sk-top-container\"><div class=\"sk-text-repr-fallback\"><pre>LogisticRegression(C=0.11, max_iter=10000, n_jobs=5, random_state=42, tol=1e-05)</pre><b>In a Jupyter environment, please rerun this cell to show the HTML representation or trust the notebook. <br />On GitHub, the HTML representation is unable to render, please try loading this page with nbviewer.org.</b></div><div class=\"sk-container\" hidden><div class=\"sk-item\"><div class=\"sk-estimator sk-toggleable\"><input class=\"sk-toggleable__control sk-hidden--visually\" id=\"sk-estimator-id-14\" type=\"checkbox\" checked><label for=\"sk-estimator-id-14\" class=\"sk-toggleable__label sk-toggleable__label-arrow\">LogisticRegression</label><div class=\"sk-toggleable__content\"><pre>LogisticRegression(C=0.11, max_iter=10000, n_jobs=5, random_state=42, tol=1e-05)</pre></div></div></div></div></div>"
      ],
      "text/plain": [
       "LogisticRegression(C=0.11, max_iter=10000, n_jobs=5, random_state=42, tol=1e-05)"
      ]
     },
     "execution_count": 83,
     "metadata": {},
     "output_type": "execute_result"
    },
    {
     "data": {
      "text/plain": [
       "{'C': 0.11, 'solver': 'lbfgs'}"
      ]
     },
     "execution_count": 83,
     "metadata": {},
     "output_type": "execute_result"
    },
    {
     "data": {
      "text/plain": [
       "0"
      ]
     },
     "execution_count": 83,
     "metadata": {},
     "output_type": "execute_result"
    },
    {
     "data": {
      "text/plain": [
       "0.6278232496942742"
      ]
     },
     "execution_count": 83,
     "metadata": {},
     "output_type": "execute_result"
    },
    {
     "data": {
      "text/plain": [
       "{'mean_fit_time': array([27.1677404 , 26.47163665, 22.77508289, 20.56311017, 14.11951059, 12.28700131]),\n",
       " 'std_fit_time': array([3.10849646, 2.64916634, 1.15187001, 0.79634891, 0.25809116, 0.58122115]),\n",
       " 'mean_score_time': array([0.08005792, 0.08302319, 0.07620037, 0.06279695, 0.07058907, 0.07033074]),\n",
       " 'std_score_time': array([0.00379122, 0.00813264, 0.00261018, 0.00525258, 0.0064345 , 0.00468995]),\n",
       " 'param_C': masked_array(data=[0.11, 0.1, 0.075, 0.05, 0.025, 0.0125],\n",
       "              mask=[False, False, False, False, False, False],\n",
       "        fill_value='?',\n",
       "             dtype=object),\n",
       " 'param_solver': masked_array(data=['lbfgs', 'lbfgs', 'lbfgs', 'lbfgs', 'lbfgs', 'lbfgs'],\n",
       "              mask=[False, False, False, False, False, False],\n",
       "        fill_value='?',\n",
       "             dtype=object),\n",
       " 'params': [{'C': 0.11, 'solver': 'lbfgs'},\n",
       "  {'C': 0.1, 'solver': 'lbfgs'},\n",
       "  {'C': 0.075, 'solver': 'lbfgs'},\n",
       "  {'C': 0.05, 'solver': 'lbfgs'},\n",
       "  {'C': 0.025, 'solver': 'lbfgs'},\n",
       "  {'C': 0.0125, 'solver': 'lbfgs'}],\n",
       " 'split0_test_score': array([0.63137298, 0.63111161, 0.63048532, 0.62950183, 0.628382  , 0.62777903]),\n",
       " 'split1_test_score': array([0.62515834, 0.62488178, 0.62420304, 0.62309149, 0.6217856 , 0.62127386]),\n",
       " 'split2_test_score': array([0.62574523, 0.62546468, 0.62471593, 0.62380561, 0.62260794, 0.62207532]),\n",
       " 'split3_test_score': array([0.62901644, 0.62880637, 0.62808926, 0.62715429, 0.62621372, 0.62579817]),\n",
       " 'mean_test_score': array([0.62782325, 0.62756611, 0.62687339, 0.62588831, 0.62474732, 0.62423159]),\n",
       " 'std_test_score': array([0.00252211, 0.00253626, 0.00256465, 0.00258941, 0.00267908, 0.00266628]),\n",
       " 'rank_test_score': array([1, 2, 3, 4, 5, 6], dtype=int32)}"
      ]
     },
     "execution_count": 83,
     "metadata": {},
     "output_type": "execute_result"
    },
    {
     "name": "stdout",
     "output_type": "stream",
     "text": [
      "----------------------------------------\n",
      "vt_svm parameters: \n",
      "----------------------------------------\n"
     ]
    },
    {
     "data": {
      "text/plain": [
       "4"
      ]
     },
     "execution_count": 83,
     "metadata": {},
     "output_type": "execute_result"
    },
    {
     "name": "stdout",
     "output_type": "stream",
     "text": [
      "----------------------------------------\n",
      "metrics: \n",
      "----------------------------------------\n"
     ]
    },
    {
     "data": {
      "text/plain": [
       "{'cv': 4,\n",
       " 'error_score': nan,\n",
       " 'estimator__C': 1.0,\n",
       " 'estimator__class_weight': None,\n",
       " 'estimator__dual': False,\n",
       " 'estimator__fit_intercept': True,\n",
       " 'estimator__intercept_scaling': 1,\n",
       " 'estimator__l1_ratio': None,\n",
       " 'estimator__max_iter': 10000,\n",
       " 'estimator__multi_class': 'auto',\n",
       " 'estimator__n_jobs': 5,\n",
       " 'estimator__penalty': 'l2',\n",
       " 'estimator__random_state': 42,\n",
       " 'estimator__solver': 'lbfgs',\n",
       " 'estimator__tol': 1e-05,\n",
       " 'estimator__verbose': 0,\n",
       " 'estimator__warm_start': False,\n",
       " 'estimator': LogisticRegression(max_iter=10000, n_jobs=5, random_state=42, tol=1e-05),\n",
       " 'n_jobs': 1,\n",
       " 'param_grid': {'C': [0.11, 0.1, 0.075, 0.05, 0.025, 0.0125],\n",
       "  'solver': ['lbfgs']},\n",
       " 'pre_dispatch': 1,\n",
       " 'refit': True,\n",
       " 'return_train_score': False,\n",
       " 'scoring': 'roc_auc',\n",
       " 'verbose': 3}"
      ]
     },
     "execution_count": 83,
     "metadata": {},
     "output_type": "execute_result"
    }
   ],
   "source": [
    "# vt_logreg\n",
    "vt_logreg.best_estimator_\n",
    "vt_logreg.best_params_\n",
    "vt_logreg.best_index_\n",
    "vt_logreg.best_score_\n",
    "# vt_logreg.classes_\n",
    "vt_logreg.cv_results_\n",
    "# vt_logreg.decision_function\n",
    "# vt_logreg.error_score\n",
    "# vt_logreg.estimator\n",
    "# vt_logreg.fit\n",
    "# vt_logreg.get_metadata_routing()\n",
    "print('-'*40)\n",
    "print(f\"vt_svm parameters: \")\n",
    "print('-'*40)\n",
    "vt_logreg.cv\n",
    "print('-'*40)\n",
    "print(f\"metrics: \")\n",
    "print('-'*40)\n",
    "vt_logreg.get_params()\n"
   ]
  },
  {
   "cell_type": "markdown",
   "id": "2c10ed13-a174-48da-8a96-dd5f5096b385",
   "metadata": {},
   "source": [
    "## Save best estimator and metrics"
   ]
  },
  {
   "cell_type": "code",
   "execution_count": 60,
   "id": "ad4612b7-e67a-4159-b5f4-aee5ad22f677",
   "metadata": {
    "execution": {
     "iopub.execute_input": "2024-12-06T12:22:38.468554Z",
     "iopub.status.busy": "2024-12-06T12:22:38.468036Z",
     "iopub.status.idle": "2024-12-06T12:22:38.548984Z",
     "shell.execute_reply": "2024-12-06T12:22:38.548377Z",
     "shell.execute_reply.started": "2024-12-06T12:22:38.468515Z"
    },
    "scrolled": true
   },
   "outputs": [
    {
     "data": {
      "text/plain": [
       "[(LogisticRegression(C=0.11, max_iter=10000, n_jobs=6, random_state=6666,\n",
       "                     tol=1e-05),\n",
       "  {'C': 0.11, 'solver': 'lbfgs'})]"
      ]
     },
     "execution_count": 60,
     "metadata": {},
     "output_type": "execute_result"
    },
    {
     "data": {
      "text/plain": [
       "(6, 15)"
      ]
     },
     "execution_count": 60,
     "metadata": {},
     "output_type": "execute_result"
    },
    {
     "data": {
      "text/html": [
       "<div>\n",
       "<style scoped>\n",
       "    .dataframe tbody tr th:only-of-type {\n",
       "        vertical-align: middle;\n",
       "    }\n",
       "\n",
       "    .dataframe tbody tr th {\n",
       "        vertical-align: top;\n",
       "    }\n",
       "\n",
       "    .dataframe thead th {\n",
       "        text-align: right;\n",
       "    }\n",
       "</style>\n",
       "<table border=\"1\" class=\"dataframe\">\n",
       "  <thead>\n",
       "    <tr style=\"text-align: right;\">\n",
       "      <th></th>\n",
       "      <th>rank_test_score</th>\n",
       "      <th>param_C</th>\n",
       "      <th>param_solver</th>\n",
       "      <th>mean_test_score</th>\n",
       "      <th>std_test_score</th>\n",
       "      <th>split0_test_score</th>\n",
       "      <th>split1_test_score</th>\n",
       "      <th>split2_test_score</th>\n",
       "      <th>split3_test_score</th>\n",
       "      <th>mean_fit_time</th>\n",
       "      <th>std_fit_time</th>\n",
       "      <th>mean_score_time</th>\n",
       "      <th>std_score_time</th>\n",
       "      <th>params</th>\n",
       "      <th>random_seed</th>\n",
       "    </tr>\n",
       "  </thead>\n",
       "  <tbody>\n",
       "    <tr>\n",
       "      <th>5</th>\n",
       "      <td>6</td>\n",
       "      <td>0.0125</td>\n",
       "      <td>lbfgs</td>\n",
       "      <td>0.604868</td>\n",
       "      <td>0.003902</td>\n",
       "      <td>0.601954</td>\n",
       "      <td>0.600465</td>\n",
       "      <td>0.606757</td>\n",
       "      <td>0.610295</td>\n",
       "      <td>18.944685</td>\n",
       "      <td>1.509081</td>\n",
       "      <td>0.091296</td>\n",
       "      <td>0.007215</td>\n",
       "      <td>{'C': 0.0125, 'solver': 'lbfgs'}</td>\n",
       "      <td>6666</td>\n",
       "    </tr>\n",
       "    <tr>\n",
       "      <th>4</th>\n",
       "      <td>5</td>\n",
       "      <td>0.025</td>\n",
       "      <td>lbfgs</td>\n",
       "      <td>0.606165</td>\n",
       "      <td>0.003649</td>\n",
       "      <td>0.603303</td>\n",
       "      <td>0.602108</td>\n",
       "      <td>0.608095</td>\n",
       "      <td>0.611153</td>\n",
       "      <td>23.462848</td>\n",
       "      <td>2.184836</td>\n",
       "      <td>0.097467</td>\n",
       "      <td>0.011414</td>\n",
       "      <td>{'C': 0.025, 'solver': 'lbfgs'}</td>\n",
       "      <td>6666</td>\n",
       "    </tr>\n",
       "    <tr>\n",
       "      <th>3</th>\n",
       "      <td>4</td>\n",
       "      <td>0.05</td>\n",
       "      <td>lbfgs</td>\n",
       "      <td>0.607228</td>\n",
       "      <td>0.003484</td>\n",
       "      <td>0.604213</td>\n",
       "      <td>0.603597</td>\n",
       "      <td>0.609108</td>\n",
       "      <td>0.611996</td>\n",
       "      <td>17.563865</td>\n",
       "      <td>4.341509</td>\n",
       "      <td>0.063868</td>\n",
       "      <td>0.016948</td>\n",
       "      <td>{'C': 0.05, 'solver': 'lbfgs'}</td>\n",
       "      <td>6666</td>\n",
       "    </tr>\n",
       "    <tr>\n",
       "      <th>2</th>\n",
       "      <td>3</td>\n",
       "      <td>0.075</td>\n",
       "      <td>lbfgs</td>\n",
       "      <td>0.608012</td>\n",
       "      <td>0.003433</td>\n",
       "      <td>0.604959</td>\n",
       "      <td>0.604550</td>\n",
       "      <td>0.609747</td>\n",
       "      <td>0.612791</td>\n",
       "      <td>25.553318</td>\n",
       "      <td>5.924446</td>\n",
       "      <td>0.064963</td>\n",
       "      <td>0.011648</td>\n",
       "      <td>{'C': 0.075, 'solver': 'lbfgs'}</td>\n",
       "      <td>6666</td>\n",
       "    </tr>\n",
       "    <tr>\n",
       "      <th>1</th>\n",
       "      <td>2</td>\n",
       "      <td>0.1</td>\n",
       "      <td>lbfgs</td>\n",
       "      <td>0.608536</td>\n",
       "      <td>0.003313</td>\n",
       "      <td>0.605540</td>\n",
       "      <td>0.605282</td>\n",
       "      <td>0.610108</td>\n",
       "      <td>0.613213</td>\n",
       "      <td>31.851046</td>\n",
       "      <td>2.662029</td>\n",
       "      <td>0.069145</td>\n",
       "      <td>0.006310</td>\n",
       "      <td>{'C': 0.1, 'solver': 'lbfgs'}</td>\n",
       "      <td>6666</td>\n",
       "    </tr>\n",
       "    <tr>\n",
       "      <th>0</th>\n",
       "      <td>1</td>\n",
       "      <td>0.11</td>\n",
       "      <td>lbfgs</td>\n",
       "      <td>0.608783</td>\n",
       "      <td>0.003347</td>\n",
       "      <td>0.605765</td>\n",
       "      <td>0.605514</td>\n",
       "      <td>0.610309</td>\n",
       "      <td>0.613546</td>\n",
       "      <td>38.472169</td>\n",
       "      <td>1.752602</td>\n",
       "      <td>0.072158</td>\n",
       "      <td>0.005986</td>\n",
       "      <td>{'C': 0.11, 'solver': 'lbfgs'}</td>\n",
       "      <td>6666</td>\n",
       "    </tr>\n",
       "  </tbody>\n",
       "</table>\n",
       "</div>"
      ],
      "text/plain": [
       "   rank_test_score param_C param_solver  mean_test_score  std_test_score  split0_test_score  split1_test_score  split2_test_score  \\\n",
       "5                6  0.0125        lbfgs         0.604868        0.003902           0.601954           0.600465           0.606757   \n",
       "4                5   0.025        lbfgs         0.606165        0.003649           0.603303           0.602108           0.608095   \n",
       "3                4    0.05        lbfgs         0.607228        0.003484           0.604213           0.603597           0.609108   \n",
       "2                3   0.075        lbfgs         0.608012        0.003433           0.604959           0.604550           0.609747   \n",
       "1                2     0.1        lbfgs         0.608536        0.003313           0.605540           0.605282           0.610108   \n",
       "0                1    0.11        lbfgs         0.608783        0.003347           0.605765           0.605514           0.610309   \n",
       "\n",
       "   split3_test_score  mean_fit_time  std_fit_time  mean_score_time  std_score_time                            params  random_seed  \n",
       "5           0.610295      18.944685      1.509081         0.091296        0.007215  {'C': 0.0125, 'solver': 'lbfgs'}         6666  \n",
       "4           0.611153      23.462848      2.184836         0.097467        0.011414   {'C': 0.025, 'solver': 'lbfgs'}         6666  \n",
       "3           0.611996      17.563865      4.341509         0.063868        0.016948    {'C': 0.05, 'solver': 'lbfgs'}         6666  \n",
       "2           0.612791      25.553318      5.924446         0.064963        0.011648   {'C': 0.075, 'solver': 'lbfgs'}         6666  \n",
       "1           0.613213      31.851046      2.662029         0.069145        0.006310     {'C': 0.1, 'solver': 'lbfgs'}         6666  \n",
       "0           0.613546      38.472169      1.752602         0.072158        0.005986    {'C': 0.11, 'solver': 'lbfgs'}         6666  "
      ]
     },
     "execution_count": 60,
     "metadata": {},
     "output_type": "execute_result"
    }
   ],
   "source": [
    "Best_Estimators\n",
    "df_metrics.shape\n",
    "df_metrics.sort_values('mean_test_score')"
   ]
  },
  {
   "cell_type": "code",
   "execution_count": 100,
   "id": "2fe5aa42-0eb5-4d57-9ec9-1191a2fcfd6b",
   "metadata": {
    "execution": {
     "iopub.execute_input": "2024-12-06T12:37:46.403628Z",
     "iopub.status.busy": "2024-12-06T12:37:46.403132Z",
     "iopub.status.idle": "2024-12-06T12:37:46.441198Z",
     "shell.execute_reply": "2024-12-06T12:37:46.440671Z",
     "shell.execute_reply.started": "2024-12-06T12:37:46.403589Z"
    }
   },
   "outputs": [
    {
     "data": {
      "text/plain": [
       "(LogisticRegression(C=0.11, max_iter=10000, n_jobs=6, random_state=6666,\n",
       "                    tol=1e-05),\n",
       " {'C': 0.11, 'solver': 'lbfgs'})"
      ]
     },
     "execution_count": 100,
     "metadata": {},
     "output_type": "execute_result"
    }
   ],
   "source": [
    "vt_logreg.best_estimator_, vt_logreg.best_params_"
   ]
  },
  {
   "cell_type": "markdown",
   "id": "24a54f3c-6049-4d7c-84a2-bc8d457d2ce5",
   "metadata": {},
   "source": [
    "### Append best estimator and metrics"
   ]
  },
  {
   "cell_type": "code",
   "execution_count": null,
   "id": "645aafea-2f9f-4744-aeca-fa6e39a1211c",
   "metadata": {},
   "outputs": [],
   "source": []
  },
  {
   "cell_type": "code",
   "execution_count": 59,
   "id": "6154b1ae-d612-4bd5-b4a3-13f04cab5772",
   "metadata": {
    "execution": {
     "iopub.execute_input": "2024-12-06T12:22:36.053512Z",
     "iopub.status.busy": "2024-12-06T12:22:36.052891Z",
     "iopub.status.idle": "2024-12-06T12:22:36.102205Z",
     "shell.execute_reply": "2024-12-06T12:22:36.101473Z",
     "shell.execute_reply.started": "2024-12-06T12:22:36.053458Z"
    }
   },
   "outputs": [],
   "source": [
    "df_metrics = pd.concat((df_metrics, _tmp_df))\n",
    "Best_Estimators.append((vt_logreg.best_estimator_, vt_logreg.best_params_))"
   ]
  },
  {
   "cell_type": "code",
   "execution_count": 61,
   "id": "aca6c2cf-af45-417c-9297-cf631734bd23",
   "metadata": {
    "execution": {
     "iopub.execute_input": "2024-12-06T12:22:47.137954Z",
     "iopub.status.busy": "2024-12-06T12:22:47.137509Z",
     "iopub.status.idle": "2024-12-06T12:22:47.203475Z",
     "shell.execute_reply": "2024-12-06T12:22:47.202530Z",
     "shell.execute_reply.started": "2024-12-06T12:22:47.137923Z"
    },
    "scrolled": true
   },
   "outputs": [
    {
     "data": {
      "text/plain": [
       "[(LogisticRegression(C=0.11, max_iter=10000, n_jobs=6, random_state=6666,\n",
       "                     tol=1e-05),\n",
       "  {'C': 0.11, 'solver': 'lbfgs'})]"
      ]
     },
     "execution_count": 61,
     "metadata": {},
     "output_type": "execute_result"
    },
    {
     "data": {
      "text/plain": [
       "(6, 15)"
      ]
     },
     "execution_count": 61,
     "metadata": {},
     "output_type": "execute_result"
    },
    {
     "data": {
      "text/html": [
       "<div>\n",
       "<style scoped>\n",
       "    .dataframe tbody tr th:only-of-type {\n",
       "        vertical-align: middle;\n",
       "    }\n",
       "\n",
       "    .dataframe tbody tr th {\n",
       "        vertical-align: top;\n",
       "    }\n",
       "\n",
       "    .dataframe thead th {\n",
       "        text-align: right;\n",
       "    }\n",
       "</style>\n",
       "<table border=\"1\" class=\"dataframe\">\n",
       "  <thead>\n",
       "    <tr style=\"text-align: right;\">\n",
       "      <th></th>\n",
       "      <th>rank_test_score</th>\n",
       "      <th>param_C</th>\n",
       "      <th>param_solver</th>\n",
       "      <th>mean_test_score</th>\n",
       "      <th>std_test_score</th>\n",
       "      <th>split0_test_score</th>\n",
       "      <th>split1_test_score</th>\n",
       "      <th>split2_test_score</th>\n",
       "      <th>split3_test_score</th>\n",
       "      <th>mean_fit_time</th>\n",
       "      <th>std_fit_time</th>\n",
       "      <th>mean_score_time</th>\n",
       "      <th>std_score_time</th>\n",
       "      <th>params</th>\n",
       "      <th>random_seed</th>\n",
       "    </tr>\n",
       "  </thead>\n",
       "  <tbody>\n",
       "    <tr>\n",
       "      <th>5</th>\n",
       "      <td>6</td>\n",
       "      <td>0.0125</td>\n",
       "      <td>lbfgs</td>\n",
       "      <td>0.604868</td>\n",
       "      <td>0.003902</td>\n",
       "      <td>0.601954</td>\n",
       "      <td>0.600465</td>\n",
       "      <td>0.606757</td>\n",
       "      <td>0.610295</td>\n",
       "      <td>18.944685</td>\n",
       "      <td>1.509081</td>\n",
       "      <td>0.091296</td>\n",
       "      <td>0.007215</td>\n",
       "      <td>{'C': 0.0125, 'solver': 'lbfgs'}</td>\n",
       "      <td>6666</td>\n",
       "    </tr>\n",
       "    <tr>\n",
       "      <th>4</th>\n",
       "      <td>5</td>\n",
       "      <td>0.025</td>\n",
       "      <td>lbfgs</td>\n",
       "      <td>0.606165</td>\n",
       "      <td>0.003649</td>\n",
       "      <td>0.603303</td>\n",
       "      <td>0.602108</td>\n",
       "      <td>0.608095</td>\n",
       "      <td>0.611153</td>\n",
       "      <td>23.462848</td>\n",
       "      <td>2.184836</td>\n",
       "      <td>0.097467</td>\n",
       "      <td>0.011414</td>\n",
       "      <td>{'C': 0.025, 'solver': 'lbfgs'}</td>\n",
       "      <td>6666</td>\n",
       "    </tr>\n",
       "    <tr>\n",
       "      <th>3</th>\n",
       "      <td>4</td>\n",
       "      <td>0.05</td>\n",
       "      <td>lbfgs</td>\n",
       "      <td>0.607228</td>\n",
       "      <td>0.003484</td>\n",
       "      <td>0.604213</td>\n",
       "      <td>0.603597</td>\n",
       "      <td>0.609108</td>\n",
       "      <td>0.611996</td>\n",
       "      <td>17.563865</td>\n",
       "      <td>4.341509</td>\n",
       "      <td>0.063868</td>\n",
       "      <td>0.016948</td>\n",
       "      <td>{'C': 0.05, 'solver': 'lbfgs'}</td>\n",
       "      <td>6666</td>\n",
       "    </tr>\n",
       "    <tr>\n",
       "      <th>2</th>\n",
       "      <td>3</td>\n",
       "      <td>0.075</td>\n",
       "      <td>lbfgs</td>\n",
       "      <td>0.608012</td>\n",
       "      <td>0.003433</td>\n",
       "      <td>0.604959</td>\n",
       "      <td>0.604550</td>\n",
       "      <td>0.609747</td>\n",
       "      <td>0.612791</td>\n",
       "      <td>25.553318</td>\n",
       "      <td>5.924446</td>\n",
       "      <td>0.064963</td>\n",
       "      <td>0.011648</td>\n",
       "      <td>{'C': 0.075, 'solver': 'lbfgs'}</td>\n",
       "      <td>6666</td>\n",
       "    </tr>\n",
       "    <tr>\n",
       "      <th>1</th>\n",
       "      <td>2</td>\n",
       "      <td>0.1</td>\n",
       "      <td>lbfgs</td>\n",
       "      <td>0.608536</td>\n",
       "      <td>0.003313</td>\n",
       "      <td>0.605540</td>\n",
       "      <td>0.605282</td>\n",
       "      <td>0.610108</td>\n",
       "      <td>0.613213</td>\n",
       "      <td>31.851046</td>\n",
       "      <td>2.662029</td>\n",
       "      <td>0.069145</td>\n",
       "      <td>0.006310</td>\n",
       "      <td>{'C': 0.1, 'solver': 'lbfgs'}</td>\n",
       "      <td>6666</td>\n",
       "    </tr>\n",
       "    <tr>\n",
       "      <th>0</th>\n",
       "      <td>1</td>\n",
       "      <td>0.11</td>\n",
       "      <td>lbfgs</td>\n",
       "      <td>0.608783</td>\n",
       "      <td>0.003347</td>\n",
       "      <td>0.605765</td>\n",
       "      <td>0.605514</td>\n",
       "      <td>0.610309</td>\n",
       "      <td>0.613546</td>\n",
       "      <td>38.472169</td>\n",
       "      <td>1.752602</td>\n",
       "      <td>0.072158</td>\n",
       "      <td>0.005986</td>\n",
       "      <td>{'C': 0.11, 'solver': 'lbfgs'}</td>\n",
       "      <td>6666</td>\n",
       "    </tr>\n",
       "  </tbody>\n",
       "</table>\n",
       "</div>"
      ],
      "text/plain": [
       "   rank_test_score param_C param_solver  mean_test_score  std_test_score  split0_test_score  split1_test_score  split2_test_score  \\\n",
       "5                6  0.0125        lbfgs         0.604868        0.003902           0.601954           0.600465           0.606757   \n",
       "4                5   0.025        lbfgs         0.606165        0.003649           0.603303           0.602108           0.608095   \n",
       "3                4    0.05        lbfgs         0.607228        0.003484           0.604213           0.603597           0.609108   \n",
       "2                3   0.075        lbfgs         0.608012        0.003433           0.604959           0.604550           0.609747   \n",
       "1                2     0.1        lbfgs         0.608536        0.003313           0.605540           0.605282           0.610108   \n",
       "0                1    0.11        lbfgs         0.608783        0.003347           0.605765           0.605514           0.610309   \n",
       "\n",
       "   split3_test_score  mean_fit_time  std_fit_time  mean_score_time  std_score_time                            params  random_seed  \n",
       "5           0.610295      18.944685      1.509081         0.091296        0.007215  {'C': 0.0125, 'solver': 'lbfgs'}         6666  \n",
       "4           0.611153      23.462848      2.184836         0.097467        0.011414   {'C': 0.025, 'solver': 'lbfgs'}         6666  \n",
       "3           0.611996      17.563865      4.341509         0.063868        0.016948    {'C': 0.05, 'solver': 'lbfgs'}         6666  \n",
       "2           0.612791      25.553318      5.924446         0.064963        0.011648   {'C': 0.075, 'solver': 'lbfgs'}         6666  \n",
       "1           0.613213      31.851046      2.662029         0.069145        0.006310     {'C': 0.1, 'solver': 'lbfgs'}         6666  \n",
       "0           0.613546      38.472169      1.752602         0.072158        0.005986    {'C': 0.11, 'solver': 'lbfgs'}         6666  "
      ]
     },
     "execution_count": 61,
     "metadata": {},
     "output_type": "execute_result"
    }
   ],
   "source": [
    "Best_Estimators\n",
    "df_metrics.shape\n",
    "df_metrics.sort_values('mean_test_score')"
   ]
  },
  {
   "cell_type": "code",
   "execution_count": 187,
   "id": "cef3c5aa-6731-4373-954d-b2d9a084753a",
   "metadata": {
    "execution": {
     "iopub.execute_input": "2024-11-02T17:09:02.930307Z",
     "iopub.status.busy": "2024-11-02T17:09:02.929764Z",
     "iopub.status.idle": "2024-11-02T17:09:02.969145Z",
     "shell.execute_reply": "2024-11-02T17:09:02.968456Z",
     "shell.execute_reply.started": "2024-11-02T17:09:02.930254Z"
    }
   },
   "outputs": [],
   "source": [
    "# Best_Estimators = []\n",
    "# _tmp_df = df_metrics\n",
    "# _tmp_df['Y_bit'] = selected_label_indices[Y_INDEX]\n",
    "# reordered_col_names = ['Y_bit', 'rank_test_score', 'param_C', 'param_solver', 'mean_test_score', 'std_test_score', \n",
    "#                        'split0_test_score', 'split1_test_score', 'split2_test_score', 'split3_test_score', 'mean_fit_time',\n",
    "#                        'std_fit_time', 'mean_score_time', 'std_score_time', 'params']\n",
    "# _tmp_df = _tmp_df[reordered_col_names]\n",
    "# _tmp_df\n",
    "\n",
    "# df_metrics = _tmp_df\n",
    "# df_metrics['random_seed'] = 42"
   ]
  },
  {
   "cell_type": "markdown",
   "id": "e78c5e3a-1829-4fda-8f56-cc2959de4742",
   "metadata": {},
   "source": [
    "## Persist Model"
   ]
  },
  {
   "cell_type": "code",
   "execution_count": 62,
   "id": "32db9dbe-8f35-4702-b3e0-70a23b9aa93b",
   "metadata": {
    "execution": {
     "iopub.execute_input": "2024-12-06T12:23:34.149981Z",
     "iopub.status.busy": "2024-12-06T12:23:34.149444Z",
     "iopub.status.idle": "2024-12-06T12:23:34.199042Z",
     "shell.execute_reply": "2024-12-06T12:23:34.198294Z",
     "shell.execute_reply.started": "2024-12-06T12:23:34.149940Z"
    }
   },
   "outputs": [
    {
     "data": {
      "text/plain": [
       "'TPSA_LogReg_embeddings_20241206_1300.pkl'"
      ]
     },
     "execution_count": 62,
     "metadata": {},
     "output_type": "execute_result"
    },
    {
     "data": {
      "text/plain": [
       "'TPSA_LogReg_embeddings_20241206_1300_metrics.csv'"
      ]
     },
     "execution_count": 62,
     "metadata": {},
     "output_type": "execute_result"
    }
   ],
   "source": [
    "ESTIMATORS_FILENAME = f'TPSA_LogReg_embeddings_20241206_1300.pkl'\n",
    "ESTIMATORS_FILENAME\n",
    "METRICS_FILENAME = f'TPSA_LogReg_embeddings_20241206_1300_metrics.csv'\n",
    "METRICS_FILENAME"
   ]
  },
  {
   "cell_type": "code",
   "execution_count": 63,
   "id": "49e34d3d-a6d0-4b7c-9a25-bf980bae0efc",
   "metadata": {
    "execution": {
     "iopub.execute_input": "2024-12-06T12:23:47.285156Z",
     "iopub.status.busy": "2024-12-06T12:23:47.284609Z",
     "iopub.status.idle": "2024-12-06T12:23:47.333815Z",
     "shell.execute_reply": "2024-12-06T12:23:47.333002Z",
     "shell.execute_reply.started": "2024-12-06T12:23:47.285115Z"
    }
   },
   "outputs": [
    {
     "name": "stdout",
     "output_type": "stream",
     "text": [
      " save_to_pickle(): save data to TPSA_LogReg_embeddings_20241206_1300.pkl\n"
     ]
    }
   ],
   "source": [
    "save_to_pickle(Best_Estimators, '', ESTIMATORS_FILENAME, verbose = True)"
   ]
  },
  {
   "cell_type": "code",
   "execution_count": 64,
   "id": "7cdfb289-af10-4605-9e02-fcf439ba5126",
   "metadata": {
    "execution": {
     "iopub.execute_input": "2024-12-06T12:23:48.596387Z",
     "iopub.status.busy": "2024-12-06T12:23:48.595829Z",
     "iopub.status.idle": "2024-12-06T12:23:48.655575Z",
     "shell.execute_reply": "2024-12-06T12:23:48.654359Z",
     "shell.execute_reply.started": "2024-12-06T12:23:48.596346Z"
    }
   },
   "outputs": [],
   "source": [
    "df_metrics.to_csv(METRICS_FILENAME)"
   ]
  },
  {
   "cell_type": "markdown",
   "id": "45827781-e37d-4061-a8b3-84556b7f0b3f",
   "metadata": {},
   "source": [
    "## Load Model"
   ]
  },
  {
   "cell_type": "code",
   "execution_count": 78,
   "id": "9ddb91d5-912a-4e40-8fc8-37dafe256207",
   "metadata": {
    "execution": {
     "iopub.execute_input": "2024-12-06T12:30:40.632780Z",
     "iopub.status.busy": "2024-12-06T12:30:40.632285Z",
     "iopub.status.idle": "2024-12-06T12:30:40.670407Z",
     "shell.execute_reply": "2024-12-06T12:30:40.669879Z",
     "shell.execute_reply.started": "2024-12-06T12:30:40.632741Z"
    }
   },
   "outputs": [
    {
     "data": {
      "text/plain": [
       "'/home/kevin/WSL-shared/cellpainting/cj-datasets/saved_tpsa_models/embedding_models'"
      ]
     },
     "execution_count": 78,
     "metadata": {},
     "output_type": "execute_result"
    }
   ],
   "source": [
    "MODEL_SAVE_PATH"
   ]
  },
  {
   "cell_type": "code",
   "execution_count": 79,
   "id": "79cdf909-974b-4945-9c37-05f1bdede47a",
   "metadata": {
    "execution": {
     "iopub.execute_input": "2024-12-06T12:30:41.141053Z",
     "iopub.status.busy": "2024-12-06T12:30:41.140562Z",
     "iopub.status.idle": "2024-12-06T12:30:41.183347Z",
     "shell.execute_reply": "2024-12-06T12:30:41.182590Z",
     "shell.execute_reply.started": "2024-12-06T12:30:41.141012Z"
    }
   },
   "outputs": [
    {
     "data": {
      "text/plain": [
       "'/home/kevin/WSL-shared/cellpainting/cj-datasets/saved_tpsa_models/embedding_models'"
      ]
     },
     "execution_count": 79,
     "metadata": {},
     "output_type": "execute_result"
    },
    {
     "data": {
      "text/plain": [
       "'TPSA_LogReg_embeddings_20241206_1300.pkl'"
      ]
     },
     "execution_count": 79,
     "metadata": {},
     "output_type": "execute_result"
    },
    {
     "data": {
      "text/plain": [
       "'TPSA_LogReg_embeddings_20241206_1300_metrics.csv'"
      ]
     },
     "execution_count": 79,
     "metadata": {},
     "output_type": "execute_result"
    }
   ],
   "source": [
    "MODEL_SAVE_PATH \n",
    "ESTIMATORS_FILENAME = f'TPSA_LogReg_embeddings_20241206_1300.pkl'\n",
    "ESTIMATORS_FILENAME\n",
    "METRICS_FILENAME = f'TPSA_LogReg_embeddings_20241206_1300_metrics.csv'\n",
    "METRICS_FILENAME"
   ]
  },
  {
   "cell_type": "code",
   "execution_count": 80,
   "id": "47217f01-9230-46f8-b4ce-fdb26c5b61bd",
   "metadata": {
    "execution": {
     "iopub.execute_input": "2024-12-06T12:30:42.132281Z",
     "iopub.status.busy": "2024-12-06T12:30:42.131983Z",
     "iopub.status.idle": "2024-12-06T12:30:42.166815Z",
     "shell.execute_reply": "2024-12-06T12:30:42.166064Z",
     "shell.execute_reply.started": "2024-12-06T12:30:42.132259Z"
    }
   },
   "outputs": [],
   "source": [
    "Best_Estimators = load_from_pickle(MODEL_SAVE_PATH, ESTIMATORS_FILENAME)"
   ]
  },
  {
   "cell_type": "code",
   "execution_count": 111,
   "id": "823a2c70-d265-4e76-8430-29404c4b8e4a",
   "metadata": {
    "execution": {
     "iopub.execute_input": "2024-12-06T12:41:58.352252Z",
     "iopub.status.busy": "2024-12-06T12:41:58.351740Z",
     "iopub.status.idle": "2024-12-06T12:41:58.409018Z",
     "shell.execute_reply": "2024-12-06T12:41:58.407930Z",
     "shell.execute_reply.started": "2024-12-06T12:41:58.352202Z"
    },
    "scrolled": true
   },
   "outputs": [
    {
     "data": {
      "text/plain": [
       "[(LogisticRegression(C=0.11, max_iter=10000, n_jobs=6, random_state=6666,\n",
       "                     tol=1e-05),\n",
       "  {'C': 0.11, 'solver': 'lbfgs'})]"
      ]
     },
     "execution_count": 111,
     "metadata": {},
     "output_type": "execute_result"
    },
    {
     "data": {
      "text/html": [
       "<style>#sk-container-id-3 {color: black;}#sk-container-id-3 pre{padding: 0;}#sk-container-id-3 div.sk-toggleable {background-color: white;}#sk-container-id-3 label.sk-toggleable__label {cursor: pointer;display: block;width: 100%;margin-bottom: 0;padding: 0.3em;box-sizing: border-box;text-align: center;}#sk-container-id-3 label.sk-toggleable__label-arrow:before {content: \"▸\";float: left;margin-right: 0.25em;color: #696969;}#sk-container-id-3 label.sk-toggleable__label-arrow:hover:before {color: black;}#sk-container-id-3 div.sk-estimator:hover label.sk-toggleable__label-arrow:before {color: black;}#sk-container-id-3 div.sk-toggleable__content {max-height: 0;max-width: 0;overflow: hidden;text-align: left;background-color: #f0f8ff;}#sk-container-id-3 div.sk-toggleable__content pre {margin: 0.2em;color: black;border-radius: 0.25em;background-color: #f0f8ff;}#sk-container-id-3 input.sk-toggleable__control:checked~div.sk-toggleable__content {max-height: 200px;max-width: 100%;overflow: auto;}#sk-container-id-3 input.sk-toggleable__control:checked~label.sk-toggleable__label-arrow:before {content: \"▾\";}#sk-container-id-3 div.sk-estimator input.sk-toggleable__control:checked~label.sk-toggleable__label {background-color: #d4ebff;}#sk-container-id-3 div.sk-label input.sk-toggleable__control:checked~label.sk-toggleable__label {background-color: #d4ebff;}#sk-container-id-3 input.sk-hidden--visually {border: 0;clip: rect(1px 1px 1px 1px);clip: rect(1px, 1px, 1px, 1px);height: 1px;margin: -1px;overflow: hidden;padding: 0;position: absolute;width: 1px;}#sk-container-id-3 div.sk-estimator {font-family: monospace;background-color: #f0f8ff;border: 1px dotted black;border-radius: 0.25em;box-sizing: border-box;margin-bottom: 0.5em;}#sk-container-id-3 div.sk-estimator:hover {background-color: #d4ebff;}#sk-container-id-3 div.sk-parallel-item::after {content: \"\";width: 100%;border-bottom: 1px solid gray;flex-grow: 1;}#sk-container-id-3 div.sk-label:hover label.sk-toggleable__label {background-color: #d4ebff;}#sk-container-id-3 div.sk-serial::before {content: \"\";position: absolute;border-left: 1px solid gray;box-sizing: border-box;top: 0;bottom: 0;left: 50%;z-index: 0;}#sk-container-id-3 div.sk-serial {display: flex;flex-direction: column;align-items: center;background-color: white;padding-right: 0.2em;padding-left: 0.2em;position: relative;}#sk-container-id-3 div.sk-item {position: relative;z-index: 1;}#sk-container-id-3 div.sk-parallel {display: flex;align-items: stretch;justify-content: center;background-color: white;position: relative;}#sk-container-id-3 div.sk-item::before, #sk-container-id-3 div.sk-parallel-item::before {content: \"\";position: absolute;border-left: 1px solid gray;box-sizing: border-box;top: 0;bottom: 0;left: 50%;z-index: -1;}#sk-container-id-3 div.sk-parallel-item {display: flex;flex-direction: column;z-index: 1;position: relative;background-color: white;}#sk-container-id-3 div.sk-parallel-item:first-child::after {align-self: flex-end;width: 50%;}#sk-container-id-3 div.sk-parallel-item:last-child::after {align-self: flex-start;width: 50%;}#sk-container-id-3 div.sk-parallel-item:only-child::after {width: 0;}#sk-container-id-3 div.sk-dashed-wrapped {border: 1px dashed gray;margin: 0 0.4em 0.5em 0.4em;box-sizing: border-box;padding-bottom: 0.4em;background-color: white;}#sk-container-id-3 div.sk-label label {font-family: monospace;font-weight: bold;display: inline-block;line-height: 1.2em;}#sk-container-id-3 div.sk-label-container {text-align: center;}#sk-container-id-3 div.sk-container {/* jupyter's `normalize.less` sets `[hidden] { display: none; }` but bootstrap.min.css set `[hidden] { display: none !important; }` so we also need the `!important` here to be able to override the default hidden behavior on the sphinx rendered scikit-learn.org. See: https://github.com/scikit-learn/scikit-learn/issues/21755 */display: inline-block !important;position: relative;}#sk-container-id-3 div.sk-text-repr-fallback {display: none;}</style><div id=\"sk-container-id-3\" class=\"sk-top-container\"><div class=\"sk-text-repr-fallback\"><pre>LogisticRegression(C=0.11, max_iter=10000, n_jobs=6, random_state=6666,\n",
       "                   tol=1e-05)</pre><b>In a Jupyter environment, please rerun this cell to show the HTML representation or trust the notebook. <br />On GitHub, the HTML representation is unable to render, please try loading this page with nbviewer.org.</b></div><div class=\"sk-container\" hidden><div class=\"sk-item\"><div class=\"sk-estimator sk-toggleable\"><input class=\"sk-toggleable__control sk-hidden--visually\" id=\"sk-estimator-id-5\" type=\"checkbox\" checked><label for=\"sk-estimator-id-5\" class=\"sk-toggleable__label sk-toggleable__label-arrow\">LogisticRegression</label><div class=\"sk-toggleable__content\"><pre>LogisticRegression(C=0.11, max_iter=10000, n_jobs=6, random_state=6666,\n",
       "                   tol=1e-05)</pre></div></div></div></div></div>"
      ],
      "text/plain": [
       "LogisticRegression(C=0.11, max_iter=10000, n_jobs=6, random_state=6666,\n",
       "                   tol=1e-05)"
      ]
     },
     "execution_count": 111,
     "metadata": {},
     "output_type": "execute_result"
    },
    {
     "name": "stdout",
     "output_type": "stream",
     "text": [
      "parameters   :\n",
      "{   'C': 0.11,\n",
      "    'class_weight': None,\n",
      "    'dual': False,\n",
      "    'fit_intercept': True,\n",
      "    'intercept_scaling': 1,\n",
      "    'l1_ratio': None,\n",
      "    'max_iter': 10000,\n",
      "    'multi_class': 'auto',\n",
      "    'n_jobs': 6,\n",
      "    'penalty': 'l2',\n",
      "    'random_state': 6666,\n",
      "    'solver': 'lbfgs',\n",
      "    'tol': 1e-05,\n",
      "    'verbose': 0,\n",
      "    'warm_start': False}\n",
      "\n"
     ]
    },
    {
     "ename": "TypeError",
     "evalue": "'LogisticRegression' object is not subscriptable",
     "output_type": "error",
     "traceback": [
      "\u001b[0;31m---------------------------------------------------------------------------\u001b[0m",
      "\u001b[0;31mTypeError\u001b[0m                                 Traceback (most recent call last)",
      "Cell \u001b[0;32mIn[111], line 8\u001b[0m\n\u001b[1;32m      6\u001b[0m pp\u001b[38;5;241m.\u001b[39mpprint(lr_estimator\u001b[38;5;241m.\u001b[39mget_params())\n\u001b[1;32m      7\u001b[0m \u001b[38;5;28mprint\u001b[39m()\n\u001b[0;32m----> 8\u001b[0m \u001b[43mlr_estimator\u001b[49m\u001b[43m[\u001b[49m\u001b[38;5;241;43m0\u001b[39;49m\u001b[43m]\u001b[49m\u001b[38;5;241m.\u001b[39m\u001b[38;5;18m__dict__\u001b[39m\n",
      "\u001b[0;31mTypeError\u001b[0m: 'LogisticRegression' object is not subscriptable"
     ]
    }
   ],
   "source": [
    "Best_Estimators\n",
    "\n",
    "lr_estimator = Best_Estimators[-1][0]\n",
    "lr_estimator\n",
    "print(f\"parameters   :\")\n",
    "pp.pprint(lr_estimator.get_params())\n",
    "print()\n",
    "lr_estimator[0].__dict__"
   ]
  },
  {
   "cell_type": "code",
   "execution_count": 244,
   "id": "cb98f380-8a5a-44f9-8627-6ad6dcd5ae87",
   "metadata": {
    "execution": {
     "iopub.execute_input": "2024-11-04T15:55:58.191565Z",
     "iopub.status.busy": "2024-11-04T15:55:58.191195Z",
     "iopub.status.idle": "2024-11-04T15:55:58.229956Z",
     "shell.execute_reply": "2024-11-04T15:55:58.229426Z",
     "shell.execute_reply.started": "2024-11-04T15:55:58.191538Z"
    }
   },
   "outputs": [
    {
     "data": {
      "text/plain": [
       "'./saved_fingerprint_models/embedded_models/PFP_LogReg_embeddings_Y_Bit_17_20241101_0700_metrics.csv'"
      ]
     },
     "execution_count": 244,
     "metadata": {},
     "output_type": "execute_result"
    }
   ],
   "source": [
    "# !pwd\n",
    "# os.path.join(MODEL_SAVE_PATH, METRICS_FILENAME)\n",
    "# os.path.exists('./saved_models/')\n",
    "# os.path.exists('./saved_fingerprint_models/')"
   ]
  },
  {
   "cell_type": "code",
   "execution_count": 112,
   "id": "267a6a01-7f2b-447d-823c-ed11e83b8c5d",
   "metadata": {
    "execution": {
     "iopub.execute_input": "2024-12-06T12:42:10.467311Z",
     "iopub.status.busy": "2024-12-06T12:42:10.466802Z",
     "iopub.status.idle": "2024-12-06T12:42:10.506467Z",
     "shell.execute_reply": "2024-12-06T12:42:10.505740Z",
     "shell.execute_reply.started": "2024-12-06T12:42:10.467271Z"
    },
    "scrolled": true
   },
   "outputs": [],
   "source": [
    "df_metrics = pd.read_csv(os.path.join(MODEL_SAVE_PATH, METRICS_FILENAME))"
   ]
  },
  {
   "cell_type": "code",
   "execution_count": 113,
   "id": "35170801-67df-4f5e-82e4-122e0691a831",
   "metadata": {
    "execution": {
     "iopub.execute_input": "2024-12-06T12:42:11.585731Z",
     "iopub.status.busy": "2024-12-06T12:42:11.585288Z",
     "iopub.status.idle": "2024-12-06T12:42:11.636206Z",
     "shell.execute_reply": "2024-12-06T12:42:11.635640Z",
     "shell.execute_reply.started": "2024-12-06T12:42:11.585695Z"
    }
   },
   "outputs": [
    {
     "data": {
      "text/plain": [
       "(6, 16)"
      ]
     },
     "execution_count": 113,
     "metadata": {},
     "output_type": "execute_result"
    },
    {
     "data": {
      "text/html": [
       "<div>\n",
       "<style scoped>\n",
       "    .dataframe tbody tr th:only-of-type {\n",
       "        vertical-align: middle;\n",
       "    }\n",
       "\n",
       "    .dataframe tbody tr th {\n",
       "        vertical-align: top;\n",
       "    }\n",
       "\n",
       "    .dataframe thead th {\n",
       "        text-align: right;\n",
       "    }\n",
       "</style>\n",
       "<table border=\"1\" class=\"dataframe\">\n",
       "  <thead>\n",
       "    <tr style=\"text-align: right;\">\n",
       "      <th></th>\n",
       "      <th>Unnamed: 0</th>\n",
       "      <th>rank_test_score</th>\n",
       "      <th>param_C</th>\n",
       "      <th>param_solver</th>\n",
       "      <th>mean_test_score</th>\n",
       "      <th>std_test_score</th>\n",
       "      <th>split0_test_score</th>\n",
       "      <th>split1_test_score</th>\n",
       "      <th>split2_test_score</th>\n",
       "      <th>split3_test_score</th>\n",
       "      <th>mean_fit_time</th>\n",
       "      <th>std_fit_time</th>\n",
       "      <th>mean_score_time</th>\n",
       "      <th>std_score_time</th>\n",
       "      <th>params</th>\n",
       "      <th>random_seed</th>\n",
       "    </tr>\n",
       "  </thead>\n",
       "  <tbody>\n",
       "    <tr>\n",
       "      <th>5</th>\n",
       "      <td>5</td>\n",
       "      <td>6</td>\n",
       "      <td>0.0125</td>\n",
       "      <td>lbfgs</td>\n",
       "      <td>0.604868</td>\n",
       "      <td>0.003902</td>\n",
       "      <td>0.601954</td>\n",
       "      <td>0.600465</td>\n",
       "      <td>0.606757</td>\n",
       "      <td>0.610295</td>\n",
       "      <td>18.944685</td>\n",
       "      <td>1.509081</td>\n",
       "      <td>0.091296</td>\n",
       "      <td>0.007215</td>\n",
       "      <td>{'C': 0.0125, 'solver': 'lbfgs'}</td>\n",
       "      <td>6666</td>\n",
       "    </tr>\n",
       "    <tr>\n",
       "      <th>4</th>\n",
       "      <td>4</td>\n",
       "      <td>5</td>\n",
       "      <td>0.0250</td>\n",
       "      <td>lbfgs</td>\n",
       "      <td>0.606165</td>\n",
       "      <td>0.003649</td>\n",
       "      <td>0.603303</td>\n",
       "      <td>0.602108</td>\n",
       "      <td>0.608095</td>\n",
       "      <td>0.611153</td>\n",
       "      <td>23.462848</td>\n",
       "      <td>2.184836</td>\n",
       "      <td>0.097467</td>\n",
       "      <td>0.011414</td>\n",
       "      <td>{'C': 0.025, 'solver': 'lbfgs'}</td>\n",
       "      <td>6666</td>\n",
       "    </tr>\n",
       "    <tr>\n",
       "      <th>3</th>\n",
       "      <td>3</td>\n",
       "      <td>4</td>\n",
       "      <td>0.0500</td>\n",
       "      <td>lbfgs</td>\n",
       "      <td>0.607228</td>\n",
       "      <td>0.003484</td>\n",
       "      <td>0.604213</td>\n",
       "      <td>0.603597</td>\n",
       "      <td>0.609108</td>\n",
       "      <td>0.611996</td>\n",
       "      <td>17.563865</td>\n",
       "      <td>4.341509</td>\n",
       "      <td>0.063868</td>\n",
       "      <td>0.016948</td>\n",
       "      <td>{'C': 0.05, 'solver': 'lbfgs'}</td>\n",
       "      <td>6666</td>\n",
       "    </tr>\n",
       "    <tr>\n",
       "      <th>2</th>\n",
       "      <td>2</td>\n",
       "      <td>3</td>\n",
       "      <td>0.0750</td>\n",
       "      <td>lbfgs</td>\n",
       "      <td>0.608012</td>\n",
       "      <td>0.003433</td>\n",
       "      <td>0.604959</td>\n",
       "      <td>0.604550</td>\n",
       "      <td>0.609747</td>\n",
       "      <td>0.612791</td>\n",
       "      <td>25.553318</td>\n",
       "      <td>5.924446</td>\n",
       "      <td>0.064963</td>\n",
       "      <td>0.011648</td>\n",
       "      <td>{'C': 0.075, 'solver': 'lbfgs'}</td>\n",
       "      <td>6666</td>\n",
       "    </tr>\n",
       "    <tr>\n",
       "      <th>1</th>\n",
       "      <td>1</td>\n",
       "      <td>2</td>\n",
       "      <td>0.1000</td>\n",
       "      <td>lbfgs</td>\n",
       "      <td>0.608536</td>\n",
       "      <td>0.003313</td>\n",
       "      <td>0.605540</td>\n",
       "      <td>0.605282</td>\n",
       "      <td>0.610108</td>\n",
       "      <td>0.613213</td>\n",
       "      <td>31.851046</td>\n",
       "      <td>2.662029</td>\n",
       "      <td>0.069145</td>\n",
       "      <td>0.006310</td>\n",
       "      <td>{'C': 0.1, 'solver': 'lbfgs'}</td>\n",
       "      <td>6666</td>\n",
       "    </tr>\n",
       "    <tr>\n",
       "      <th>0</th>\n",
       "      <td>0</td>\n",
       "      <td>1</td>\n",
       "      <td>0.1100</td>\n",
       "      <td>lbfgs</td>\n",
       "      <td>0.608783</td>\n",
       "      <td>0.003347</td>\n",
       "      <td>0.605765</td>\n",
       "      <td>0.605514</td>\n",
       "      <td>0.610309</td>\n",
       "      <td>0.613546</td>\n",
       "      <td>38.472169</td>\n",
       "      <td>1.752602</td>\n",
       "      <td>0.072158</td>\n",
       "      <td>0.005986</td>\n",
       "      <td>{'C': 0.11, 'solver': 'lbfgs'}</td>\n",
       "      <td>6666</td>\n",
       "    </tr>\n",
       "  </tbody>\n",
       "</table>\n",
       "</div>"
      ],
      "text/plain": [
       "   Unnamed: 0  rank_test_score  param_C param_solver  mean_test_score  std_test_score  split0_test_score  split1_test_score  \\\n",
       "5           5                6   0.0125        lbfgs         0.604868        0.003902           0.601954           0.600465   \n",
       "4           4                5   0.0250        lbfgs         0.606165        0.003649           0.603303           0.602108   \n",
       "3           3                4   0.0500        lbfgs         0.607228        0.003484           0.604213           0.603597   \n",
       "2           2                3   0.0750        lbfgs         0.608012        0.003433           0.604959           0.604550   \n",
       "1           1                2   0.1000        lbfgs         0.608536        0.003313           0.605540           0.605282   \n",
       "0           0                1   0.1100        lbfgs         0.608783        0.003347           0.605765           0.605514   \n",
       "\n",
       "   split2_test_score  split3_test_score  mean_fit_time  std_fit_time  mean_score_time  std_score_time  \\\n",
       "5           0.606757           0.610295      18.944685      1.509081         0.091296        0.007215   \n",
       "4           0.608095           0.611153      23.462848      2.184836         0.097467        0.011414   \n",
       "3           0.609108           0.611996      17.563865      4.341509         0.063868        0.016948   \n",
       "2           0.609747           0.612791      25.553318      5.924446         0.064963        0.011648   \n",
       "1           0.610108           0.613213      31.851046      2.662029         0.069145        0.006310   \n",
       "0           0.610309           0.613546      38.472169      1.752602         0.072158        0.005986   \n",
       "\n",
       "                             params  random_seed  \n",
       "5  {'C': 0.0125, 'solver': 'lbfgs'}         6666  \n",
       "4   {'C': 0.025, 'solver': 'lbfgs'}         6666  \n",
       "3    {'C': 0.05, 'solver': 'lbfgs'}         6666  \n",
       "2   {'C': 0.075, 'solver': 'lbfgs'}         6666  \n",
       "1     {'C': 0.1, 'solver': 'lbfgs'}         6666  \n",
       "0    {'C': 0.11, 'solver': 'lbfgs'}         6666  "
      ]
     },
     "execution_count": 113,
     "metadata": {},
     "output_type": "execute_result"
    }
   ],
   "source": [
    "df_metrics.shape\n",
    "df_metrics.sort_values('mean_test_score')"
   ]
  },
  {
   "cell_type": "markdown",
   "id": "08f912ee-abb5-48ac-855f-b7d7e43a60ab",
   "metadata": {},
   "source": [
    "## Metrics "
   ]
  },
  {
   "cell_type": "code",
   "execution_count": 118,
   "id": "a816fb99-2dc8-47e0-a93d-b60e5138c3b4",
   "metadata": {
    "execution": {
     "iopub.execute_input": "2024-12-06T12:43:58.634252Z",
     "iopub.status.busy": "2024-12-06T12:43:58.633749Z",
     "iopub.status.idle": "2024-12-06T12:43:58.673216Z",
     "shell.execute_reply": "2024-12-06T12:43:58.672493Z",
     "shell.execute_reply.started": "2024-12-06T12:43:58.634210Z"
    }
   },
   "outputs": [
    {
     "data": {
      "text/plain": [
       "1"
      ]
     },
     "execution_count": 118,
     "metadata": {},
     "output_type": "execute_result"
    }
   ],
   "source": [
    "ESTIMATORS_FILENAME = f'TPSA_LogReg_embeddings_20241206_1300.pkl'\n",
    "lr_estimators = load_from_pickle(MODEL_SAVE_PATH, ESTIMATORS_FILENAME)\n",
    "len(lr_estimators)"
   ]
  },
  {
   "cell_type": "code",
   "execution_count": 122,
   "id": "0aca5d16-2a8e-4972-b99e-9d7466da3b97",
   "metadata": {
    "execution": {
     "iopub.execute_input": "2024-12-06T13:15:55.443088Z",
     "iopub.status.busy": "2024-12-06T13:15:55.442582Z",
     "iopub.status.idle": "2024-12-06T13:15:55.481818Z",
     "shell.execute_reply": "2024-12-06T13:15:55.481221Z",
     "shell.execute_reply.started": "2024-12-06T13:15:55.443048Z"
    }
   },
   "outputs": [
    {
     "name": "stdout",
     "output_type": "stream",
     "text": [
      "estimator[0][0]  :   LogisticRegression(C=0.11, max_iter=10000, n_jobs=6, random_state=6666,\n",
      "                   tol=1e-05)\n",
      "estimator[0][1]  :   {'C': 0.11, 'solver': 'lbfgs'}\n",
      "estimator[0][0] parms  :   {'C': 0.11, 'class_weight': None, 'dual': False, 'fit_intercept': True, 'intercept_scaling': 1, 'l1_ratio': None, 'max_iter': 10000, 'multi_class': 'auto', 'n_jobs': 6, 'penalty': 'l2', 'random_state': 6666, 'solver': 'lbfgs', 'tol': 1e-05, 'verbose': 0, 'warm_start': False}\n",
      "\n"
     ]
    }
   ],
   "source": [
    "# print(f\"parameters   :\")\n",
    "# pp.pprint(svm_estimators.get_params())\n",
    "print(f\"estimator[0][0]  :   {lr_estimators[0][0]}\")\n",
    "print(f\"estimator[0][1]  :   {lr_estimators[0][1]}\")\n",
    "print(f\"estimator[0][0] parms  :   {lr_estimators[0][0].get_params()}\")\n",
    "print()\n",
    "estimator = lr_estimators[0][0]\n",
    "# vt_logreg"
   ]
  },
  {
   "cell_type": "code",
   "execution_count": 120,
   "id": "945c9055-2766-4834-939d-c8379f03fb26",
   "metadata": {
    "execution": {
     "iopub.execute_input": "2024-12-06T13:13:26.694575Z",
     "iopub.status.busy": "2024-12-06T13:13:26.694043Z",
     "iopub.status.idle": "2024-12-06T13:13:26.759629Z",
     "shell.execute_reply": "2024-12-06T13:13:26.759056Z",
     "shell.execute_reply.started": "2024-12-06T13:13:26.694492Z"
    }
   },
   "outputs": [
    {
     "data": {
      "text/html": [
       "<div>\n",
       "<style scoped>\n",
       "    .dataframe tbody tr th:only-of-type {\n",
       "        vertical-align: middle;\n",
       "    }\n",
       "\n",
       "    .dataframe tbody tr th {\n",
       "        vertical-align: top;\n",
       "    }\n",
       "\n",
       "    .dataframe thead th {\n",
       "        text-align: right;\n",
       "    }\n",
       "</style>\n",
       "<table border=\"1\" class=\"dataframe\">\n",
       "  <thead>\n",
       "    <tr style=\"text-align: right;\">\n",
       "      <th></th>\n",
       "      <th>Feature_000</th>\n",
       "      <th>Feature_001</th>\n",
       "      <th>Feature_002</th>\n",
       "      <th>Feature_003</th>\n",
       "      <th>Feature_004</th>\n",
       "      <th>Feature_005</th>\n",
       "      <th>Feature_006</th>\n",
       "      <th>Feature_007</th>\n",
       "      <th>Feature_008</th>\n",
       "      <th>Feature_009</th>\n",
       "      <th>...</th>\n",
       "      <th>Feature_240</th>\n",
       "      <th>Feature_241</th>\n",
       "      <th>Feature_242</th>\n",
       "      <th>Feature_243</th>\n",
       "      <th>Feature_244</th>\n",
       "      <th>Feature_245</th>\n",
       "      <th>Feature_246</th>\n",
       "      <th>Feature_247</th>\n",
       "      <th>Feature_248</th>\n",
       "      <th>Feature_249</th>\n",
       "    </tr>\n",
       "  </thead>\n",
       "  <tbody>\n",
       "    <tr>\n",
       "      <th>0</th>\n",
       "      <td>0.916451</td>\n",
       "      <td>0.872596</td>\n",
       "      <td>1.605941</td>\n",
       "      <td>-0.048202</td>\n",
       "      <td>0.390532</td>\n",
       "      <td>0.409812</td>\n",
       "      <td>-0.655648</td>\n",
       "      <td>-1.462573</td>\n",
       "      <td>0.143709</td>\n",
       "      <td>-0.054209</td>\n",
       "      <td>...</td>\n",
       "      <td>-0.518385</td>\n",
       "      <td>0.716023</td>\n",
       "      <td>-0.590375</td>\n",
       "      <td>2.141531</td>\n",
       "      <td>-1.800316</td>\n",
       "      <td>-0.172188</td>\n",
       "      <td>-0.072441</td>\n",
       "      <td>1.743561</td>\n",
       "      <td>1.466185</td>\n",
       "      <td>1.244473</td>\n",
       "    </tr>\n",
       "    <tr>\n",
       "      <th>1</th>\n",
       "      <td>0.719237</td>\n",
       "      <td>0.682143</td>\n",
       "      <td>1.551272</td>\n",
       "      <td>0.287570</td>\n",
       "      <td>0.318039</td>\n",
       "      <td>0.582101</td>\n",
       "      <td>-0.372718</td>\n",
       "      <td>-1.462299</td>\n",
       "      <td>0.030956</td>\n",
       "      <td>0.022026</td>\n",
       "      <td>...</td>\n",
       "      <td>-0.591034</td>\n",
       "      <td>0.550698</td>\n",
       "      <td>-0.636886</td>\n",
       "      <td>1.880710</td>\n",
       "      <td>-1.816228</td>\n",
       "      <td>-0.037780</td>\n",
       "      <td>-0.130082</td>\n",
       "      <td>1.685629</td>\n",
       "      <td>1.263643</td>\n",
       "      <td>0.943990</td>\n",
       "    </tr>\n",
       "    <tr>\n",
       "      <th>2</th>\n",
       "      <td>0.798004</td>\n",
       "      <td>0.805205</td>\n",
       "      <td>1.545128</td>\n",
       "      <td>0.241463</td>\n",
       "      <td>0.315389</td>\n",
       "      <td>0.497950</td>\n",
       "      <td>-0.449862</td>\n",
       "      <td>-1.470268</td>\n",
       "      <td>0.122954</td>\n",
       "      <td>-0.037246</td>\n",
       "      <td>...</td>\n",
       "      <td>-0.355327</td>\n",
       "      <td>0.605948</td>\n",
       "      <td>-0.733919</td>\n",
       "      <td>2.052279</td>\n",
       "      <td>-1.843459</td>\n",
       "      <td>-0.157140</td>\n",
       "      <td>-0.118316</td>\n",
       "      <td>1.835303</td>\n",
       "      <td>1.341295</td>\n",
       "      <td>0.968254</td>\n",
       "    </tr>\n",
       "    <tr>\n",
       "      <th>3</th>\n",
       "      <td>-0.134616</td>\n",
       "      <td>-0.200266</td>\n",
       "      <td>-0.109721</td>\n",
       "      <td>0.058983</td>\n",
       "      <td>-0.134415</td>\n",
       "      <td>-0.044743</td>\n",
       "      <td>-0.221009</td>\n",
       "      <td>0.147919</td>\n",
       "      <td>0.262348</td>\n",
       "      <td>-0.208570</td>\n",
       "      <td>...</td>\n",
       "      <td>0.132724</td>\n",
       "      <td>-0.171853</td>\n",
       "      <td>0.401244</td>\n",
       "      <td>-0.037833</td>\n",
       "      <td>0.000879</td>\n",
       "      <td>-0.071789</td>\n",
       "      <td>0.051848</td>\n",
       "      <td>-0.053514</td>\n",
       "      <td>0.171957</td>\n",
       "      <td>0.121377</td>\n",
       "    </tr>\n",
       "    <tr>\n",
       "      <th>4</th>\n",
       "      <td>-0.031706</td>\n",
       "      <td>-0.148909</td>\n",
       "      <td>-0.102415</td>\n",
       "      <td>0.078211</td>\n",
       "      <td>-0.046021</td>\n",
       "      <td>0.023729</td>\n",
       "      <td>-0.130609</td>\n",
       "      <td>0.044276</td>\n",
       "      <td>0.173374</td>\n",
       "      <td>-0.036158</td>\n",
       "      <td>...</td>\n",
       "      <td>0.087170</td>\n",
       "      <td>-0.024574</td>\n",
       "      <td>0.260385</td>\n",
       "      <td>-0.012428</td>\n",
       "      <td>0.086317</td>\n",
       "      <td>-0.071831</td>\n",
       "      <td>0.047108</td>\n",
       "      <td>0.024453</td>\n",
       "      <td>0.105712</td>\n",
       "      <td>0.071885</td>\n",
       "    </tr>\n",
       "    <tr>\n",
       "      <th>...</th>\n",
       "      <td>...</td>\n",
       "      <td>...</td>\n",
       "      <td>...</td>\n",
       "      <td>...</td>\n",
       "      <td>...</td>\n",
       "      <td>...</td>\n",
       "      <td>...</td>\n",
       "      <td>...</td>\n",
       "      <td>...</td>\n",
       "      <td>...</td>\n",
       "      <td>...</td>\n",
       "      <td>...</td>\n",
       "      <td>...</td>\n",
       "      <td>...</td>\n",
       "      <td>...</td>\n",
       "      <td>...</td>\n",
       "      <td>...</td>\n",
       "      <td>...</td>\n",
       "      <td>...</td>\n",
       "      <td>...</td>\n",
       "      <td>...</td>\n",
       "    </tr>\n",
       "    <tr>\n",
       "      <th>12595</th>\n",
       "      <td>0.165864</td>\n",
       "      <td>-0.253816</td>\n",
       "      <td>-0.244503</td>\n",
       "      <td>0.277046</td>\n",
       "      <td>0.047860</td>\n",
       "      <td>0.147268</td>\n",
       "      <td>-0.127380</td>\n",
       "      <td>-0.035903</td>\n",
       "      <td>0.443936</td>\n",
       "      <td>0.321162</td>\n",
       "      <td>...</td>\n",
       "      <td>0.137795</td>\n",
       "      <td>0.131801</td>\n",
       "      <td>0.281455</td>\n",
       "      <td>-0.004880</td>\n",
       "      <td>0.298354</td>\n",
       "      <td>-0.011975</td>\n",
       "      <td>0.249098</td>\n",
       "      <td>0.122328</td>\n",
       "      <td>0.279326</td>\n",
       "      <td>0.173874</td>\n",
       "    </tr>\n",
       "    <tr>\n",
       "      <th>12596</th>\n",
       "      <td>0.051572</td>\n",
       "      <td>-0.152540</td>\n",
       "      <td>-0.031808</td>\n",
       "      <td>0.170956</td>\n",
       "      <td>0.025151</td>\n",
       "      <td>0.050282</td>\n",
       "      <td>-0.035007</td>\n",
       "      <td>-0.025391</td>\n",
       "      <td>0.185056</td>\n",
       "      <td>0.219689</td>\n",
       "      <td>...</td>\n",
       "      <td>0.016096</td>\n",
       "      <td>0.096827</td>\n",
       "      <td>0.021602</td>\n",
       "      <td>-0.066104</td>\n",
       "      <td>0.215846</td>\n",
       "      <td>0.068682</td>\n",
       "      <td>0.075461</td>\n",
       "      <td>0.025770</td>\n",
       "      <td>0.146833</td>\n",
       "      <td>0.132271</td>\n",
       "    </tr>\n",
       "    <tr>\n",
       "      <th>12597</th>\n",
       "      <td>-0.013109</td>\n",
       "      <td>-0.010380</td>\n",
       "      <td>0.031994</td>\n",
       "      <td>-0.008713</td>\n",
       "      <td>-0.025707</td>\n",
       "      <td>-0.032357</td>\n",
       "      <td>-0.064948</td>\n",
       "      <td>-0.040382</td>\n",
       "      <td>-0.037646</td>\n",
       "      <td>-0.037369</td>\n",
       "      <td>...</td>\n",
       "      <td>0.089090</td>\n",
       "      <td>-0.034141</td>\n",
       "      <td>0.049892</td>\n",
       "      <td>-0.022626</td>\n",
       "      <td>0.008242</td>\n",
       "      <td>0.008548</td>\n",
       "      <td>-0.012342</td>\n",
       "      <td>-0.017410</td>\n",
       "      <td>-0.045713</td>\n",
       "      <td>0.028342</td>\n",
       "    </tr>\n",
       "    <tr>\n",
       "      <th>12598</th>\n",
       "      <td>0.007677</td>\n",
       "      <td>-0.029839</td>\n",
       "      <td>0.009657</td>\n",
       "      <td>0.025732</td>\n",
       "      <td>-0.036984</td>\n",
       "      <td>-0.016097</td>\n",
       "      <td>-0.066608</td>\n",
       "      <td>-0.027636</td>\n",
       "      <td>0.016297</td>\n",
       "      <td>-0.034339</td>\n",
       "      <td>...</td>\n",
       "      <td>0.115197</td>\n",
       "      <td>-0.066165</td>\n",
       "      <td>0.072447</td>\n",
       "      <td>-0.020661</td>\n",
       "      <td>0.028276</td>\n",
       "      <td>0.005337</td>\n",
       "      <td>0.022535</td>\n",
       "      <td>-0.031815</td>\n",
       "      <td>-0.022689</td>\n",
       "      <td>0.010540</td>\n",
       "    </tr>\n",
       "    <tr>\n",
       "      <th>12599</th>\n",
       "      <td>-0.001285</td>\n",
       "      <td>-0.009526</td>\n",
       "      <td>0.008893</td>\n",
       "      <td>-0.003330</td>\n",
       "      <td>-0.015659</td>\n",
       "      <td>-0.036123</td>\n",
       "      <td>-0.037049</td>\n",
       "      <td>-0.022767</td>\n",
       "      <td>-0.008878</td>\n",
       "      <td>-0.036014</td>\n",
       "      <td>...</td>\n",
       "      <td>0.080799</td>\n",
       "      <td>-0.023805</td>\n",
       "      <td>0.089674</td>\n",
       "      <td>-0.009829</td>\n",
       "      <td>-0.026093</td>\n",
       "      <td>0.009895</td>\n",
       "      <td>-0.009979</td>\n",
       "      <td>-0.032678</td>\n",
       "      <td>-0.018962</td>\n",
       "      <td>0.006637</td>\n",
       "    </tr>\n",
       "  </tbody>\n",
       "</table>\n",
       "<p>12600 rows × 250 columns</p>\n",
       "</div>"
      ],
      "text/plain": [
       "       Feature_000  Feature_001  Feature_002  Feature_003  Feature_004  Feature_005  Feature_006  Feature_007  Feature_008  \\\n",
       "0         0.916451     0.872596     1.605941    -0.048202     0.390532     0.409812    -0.655648    -1.462573     0.143709   \n",
       "1         0.719237     0.682143     1.551272     0.287570     0.318039     0.582101    -0.372718    -1.462299     0.030956   \n",
       "2         0.798004     0.805205     1.545128     0.241463     0.315389     0.497950    -0.449862    -1.470268     0.122954   \n",
       "3        -0.134616    -0.200266    -0.109721     0.058983    -0.134415    -0.044743    -0.221009     0.147919     0.262348   \n",
       "4        -0.031706    -0.148909    -0.102415     0.078211    -0.046021     0.023729    -0.130609     0.044276     0.173374   \n",
       "...            ...          ...          ...          ...          ...          ...          ...          ...          ...   \n",
       "12595     0.165864    -0.253816    -0.244503     0.277046     0.047860     0.147268    -0.127380    -0.035903     0.443936   \n",
       "12596     0.051572    -0.152540    -0.031808     0.170956     0.025151     0.050282    -0.035007    -0.025391     0.185056   \n",
       "12597    -0.013109    -0.010380     0.031994    -0.008713    -0.025707    -0.032357    -0.064948    -0.040382    -0.037646   \n",
       "12598     0.007677    -0.029839     0.009657     0.025732    -0.036984    -0.016097    -0.066608    -0.027636     0.016297   \n",
       "12599    -0.001285    -0.009526     0.008893    -0.003330    -0.015659    -0.036123    -0.037049    -0.022767    -0.008878   \n",
       "\n",
       "       Feature_009  ...  Feature_240  Feature_241  Feature_242  Feature_243  Feature_244  Feature_245  Feature_246  Feature_247  \\\n",
       "0        -0.054209  ...    -0.518385     0.716023    -0.590375     2.141531    -1.800316    -0.172188    -0.072441     1.743561   \n",
       "1         0.022026  ...    -0.591034     0.550698    -0.636886     1.880710    -1.816228    -0.037780    -0.130082     1.685629   \n",
       "2        -0.037246  ...    -0.355327     0.605948    -0.733919     2.052279    -1.843459    -0.157140    -0.118316     1.835303   \n",
       "3        -0.208570  ...     0.132724    -0.171853     0.401244    -0.037833     0.000879    -0.071789     0.051848    -0.053514   \n",
       "4        -0.036158  ...     0.087170    -0.024574     0.260385    -0.012428     0.086317    -0.071831     0.047108     0.024453   \n",
       "...            ...  ...          ...          ...          ...          ...          ...          ...          ...          ...   \n",
       "12595     0.321162  ...     0.137795     0.131801     0.281455    -0.004880     0.298354    -0.011975     0.249098     0.122328   \n",
       "12596     0.219689  ...     0.016096     0.096827     0.021602    -0.066104     0.215846     0.068682     0.075461     0.025770   \n",
       "12597    -0.037369  ...     0.089090    -0.034141     0.049892    -0.022626     0.008242     0.008548    -0.012342    -0.017410   \n",
       "12598    -0.034339  ...     0.115197    -0.066165     0.072447    -0.020661     0.028276     0.005337     0.022535    -0.031815   \n",
       "12599    -0.036014  ...     0.080799    -0.023805     0.089674    -0.009829    -0.026093     0.009895    -0.009979    -0.032678   \n",
       "\n",
       "       Feature_248  Feature_249  \n",
       "0         1.466185     1.244473  \n",
       "1         1.263643     0.943990  \n",
       "2         1.341295     0.968254  \n",
       "3         0.171957     0.121377  \n",
       "4         0.105712     0.071885  \n",
       "...            ...          ...  \n",
       "12595     0.279326     0.173874  \n",
       "12596     0.146833     0.132271  \n",
       "12597    -0.045713     0.028342  \n",
       "12598    -0.022689     0.010540  \n",
       "12599    -0.018962     0.006637  \n",
       "\n",
       "[12600 rows x 250 columns]"
      ]
     },
     "execution_count": 120,
     "metadata": {},
     "output_type": "execute_result"
    },
    {
     "data": {
      "text/plain": [
       "0        0\n",
       "1        0\n",
       "2        0\n",
       "3        0\n",
       "4        0\n",
       "        ..\n",
       "12595    0\n",
       "12596    0\n",
       "12597    1\n",
       "12598    1\n",
       "12599    1\n",
       "Name: Metadata_Permiation, Length: 12600, dtype: int64"
      ]
     },
     "execution_count": 120,
     "metadata": {},
     "output_type": "execute_result"
    }
   ],
   "source": [
    "TEST_X = df_test_x.iloc[:, 11:]    ## bal_train_X\n",
    "TEST_Y = df_test_y                 ## bal_train_y\n",
    "TEST_X\n",
    "TEST_Y"
   ]
  },
  {
   "cell_type": "code",
   "execution_count": 123,
   "id": "76cc4712-33b1-44ba-883a-db0f5c3f81fe",
   "metadata": {
    "execution": {
     "iopub.execute_input": "2024-12-06T13:16:01.822219Z",
     "iopub.status.busy": "2024-12-06T13:16:01.821723Z",
     "iopub.status.idle": "2024-12-06T13:16:01.867386Z",
     "shell.execute_reply": "2024-12-06T13:16:01.866642Z",
     "shell.execute_reply.started": "2024-12-06T13:16:01.822180Z"
    }
   },
   "outputs": [
    {
     "data": {
      "text/plain": [
       "(12600,)"
      ]
     },
     "execution_count": 123,
     "metadata": {},
     "output_type": "execute_result"
    }
   ],
   "source": [
    "# y_pred = lr_estimators.best_estimator_.predict(TEST_X)\n",
    " \n",
    "y_pred = estimator.predict(TEST_X)\n",
    "y_pred.shape"
   ]
  },
  {
   "cell_type": "code",
   "execution_count": 648,
   "id": "1fef6d88-f539-47e1-b17c-357d88aee4df",
   "metadata": {
    "execution": {
     "iopub.execute_input": "2024-08-05T21:02:44.396932Z",
     "iopub.status.busy": "2024-08-05T21:02:44.396551Z",
     "iopub.status.idle": "2024-08-05T21:03:28.814557Z",
     "shell.execute_reply": "2024-08-05T21:03:28.813476Z",
     "shell.execute_reply.started": "2024-08-05T21:02:44.396906Z"
    }
   },
   "outputs": [
    {
     "data": {
      "text/plain": [
       "(8328,)"
      ]
     },
     "execution_count": 648,
     "metadata": {},
     "output_type": "execute_result"
    }
   ],
   "source": [
    "# bal_y_pred = svm_estimators.best_estimator_.predict(bal_test_X)\n",
    "# bal_y_pred.shape"
   ]
  },
  {
   "cell_type": "code",
   "execution_count": 124,
   "id": "e6ec7463-4411-439e-a1ac-30fa872ab172",
   "metadata": {
    "execution": {
     "iopub.execute_input": "2024-12-06T13:16:12.049047Z",
     "iopub.status.busy": "2024-12-06T13:16:12.048548Z",
     "iopub.status.idle": "2024-12-06T13:16:12.087514Z",
     "shell.execute_reply": "2024-12-06T13:16:12.086681Z",
     "shell.execute_reply.started": "2024-12-06T13:16:12.049005Z"
    }
   },
   "outputs": [
    {
     "name": "stdout",
     "output_type": "stream",
     "text": [
      " Ground Truth\n",
      " -------------\n",
      " Total samples: 12600  - compounds: 4200\n",
      " Label 0:  11,169      % 88.64 \n",
      " Label 1:   1,431      % 11.36 \n",
      "\n",
      " Predictions\n",
      " ------------\n",
      " Total samples: 12600  - compounds: 4200\n",
      " Label 0:  12,573      % 99.79 \n",
      " Label 1:      27      % 0.21 \n",
      "\n"
     ]
    }
   ],
   "source": [
    "# label_counts( [(\"Ground Truth\", test_y), (\"Predictions\", y_pred), (\"Balanced Ground Truth\", bal_test_y), (\"Balanced Predictions\", bal_test_y)])\n",
    "label_counts( [(\"Ground Truth\", TEST_Y), (\"Predictions\", y_pred)])"
   ]
  },
  {
   "cell_type": "code",
   "execution_count": 126,
   "id": "76003678-7a7d-4bf9-a373-4307bc644dc0",
   "metadata": {
    "execution": {
     "iopub.execute_input": "2024-12-06T13:40:53.279208Z",
     "iopub.status.busy": "2024-12-06T13:40:53.278704Z",
     "iopub.status.idle": "2024-12-06T13:40:53.324344Z",
     "shell.execute_reply": "2024-12-06T13:40:53.323651Z",
     "shell.execute_reply.started": "2024-12-06T13:40:53.279166Z"
    }
   },
   "outputs": [
    {
     "name": "stdout",
     "output_type": "stream",
     "text": [
      "Classification Metrics\n",
      "-----------------------\n",
      " Accuracy: 0.88587     Precision: 0.37037     Recall: 0.00699     F1: 0.01372 \n",
      "\n",
      " True + labels:          1431     ratio to total:  0.11357\n",
      " Predicted + labels:       27     ratio to total:  0.00214\n",
      " True/Predicted Match:  11162     ratio to total:  0.88587\n"
     ]
    }
   ],
   "source": [
    "compute_metrics(TEST_Y, y_pred)"
   ]
  },
  {
   "cell_type": "code",
   "execution_count": 1,
   "id": "89bac1f0-2111-4527-9842-a5d37c26665d",
   "metadata": {
    "execution": {
     "iopub.execute_input": "2024-12-06T14:04:45.646534Z",
     "iopub.status.busy": "2024-12-06T14:04:45.646095Z",
     "iopub.status.idle": "2024-12-06T14:04:45.651658Z",
     "shell.execute_reply": "2024-12-06T14:04:45.650687Z",
     "shell.execute_reply.started": "2024-12-06T14:04:45.646470Z"
    }
   },
   "outputs": [],
   "source": [
    "# compute_metrics(TEST_Y, y_pred)\n",
    "\n",
    " # Accuracy: 0.53675     Precision: 0.52869     Recall: 0.66078     F1: 0.58740 \n",
    "\n",
    " # True + labels:          6288     ratio to total:  0.49905\n",
    " # Predicted + labels:     7859     ratio to total:  0.62373\n",
    " # True/Predicted Match:   6763     ratio to total:  0.53675\n"
   ]
  },
  {
   "cell_type": "code",
   "execution_count": null,
   "id": "41c559eb-1c57-4b2b-8743-b34b985084e8",
   "metadata": {
    "execution": {
     "iopub.execute_input": "2024-10-30T22:00:35.045948Z",
     "iopub.status.busy": "2024-10-30T22:00:35.045648Z",
     "iopub.status.idle": "2024-10-30T22:00:35.081345Z",
     "shell.execute_reply": "2024-10-30T22:00:35.080300Z",
     "shell.execute_reply.started": "2024-10-30T22:00:35.045926Z"
    }
   },
   "outputs": [],
   "source": [
    "# compute_metrics(bal_test_y, bal_y_pred, \" 1:1 Balanced test file\")\n",
    "\n",
    "# plots_from_estimator(svm_estimators.best_estimator_, test_X, y_pred)\n",
    "# plots_from_estimator(svm_estimators.best_estimator_, bal_test_X, bal_y_pred)"
   ]
  },
  {
   "cell_type": "code",
   "execution_count": 128,
   "id": "ec3ff55f-5d3c-4064-8437-84bf74b9bba8",
   "metadata": {
    "execution": {
     "iopub.execute_input": "2024-12-06T13:49:07.313933Z",
     "iopub.status.busy": "2024-12-06T13:49:07.313431Z",
     "iopub.status.idle": "2024-12-06T13:49:08.024656Z",
     "shell.execute_reply": "2024-12-06T13:49:08.024100Z",
     "shell.execute_reply.started": "2024-12-06T13:49:07.313890Z"
    },
    "scrolled": true
   },
   "outputs": [
    {
     "data": {
      "image/png": "[encoded data removed]",
      "text/plain": [
       "<Figure size 1500x500 with 4 Axes>"
      ]
     },
     "metadata": {},
     "output_type": "display_data"
    }
   ],
   "source": [
    "plots_from_estimator(estimator, TEST_X, TEST_Y)"
   ]
  },
  {
   "cell_type": "code",
   "execution_count": 129,
   "id": "99700f2d-8a7e-4ff5-9539-69841438efbd",
   "metadata": {
    "execution": {
     "iopub.execute_input": "2024-12-06T13:49:35.283990Z",
     "iopub.status.busy": "2024-12-06T13:49:35.283474Z",
     "iopub.status.idle": "2024-12-06T13:49:35.932774Z",
     "shell.execute_reply": "2024-12-06T13:49:35.932051Z",
     "shell.execute_reply.started": "2024-12-06T13:49:35.283949Z"
    },
    "scrolled": true
   },
   "outputs": [
    {
     "data": {
      "image/png": "[encoded data removed]",
      "text/plain": [
       "<Figure size 1500x500 with 4 Axes>"
      ]
     },
     "metadata": {},
     "output_type": "display_data"
    }
   ],
   "source": [
    "plots_from_predictions(TEST_Y, y_pred)"
   ]
  },
  {
   "cell_type": "code",
   "execution_count": null,
   "id": "11c2a18e-d7a3-41bb-bc63-90ab84bd1ddb",
   "metadata": {},
   "outputs": [],
   "source": []
  }
 ],
 "metadata": {
  "kernelspec": {
   "display_name": "Python [conda env:cp311]",
   "language": "python",
   "name": "conda-env-cp311-py"
  },
  "language_info": {
   "codemirror_mode": {
    "name": "ipython",
    "version": 3
   },
   "file_extension": ".py",
   "mimetype": "text/x-python",
   "name": "python",
   "nbconvert_exporter": "python",
   "pygments_lexer": "ipython3",
   "version": "3.11.4"
  }
 },
 "nbformat": 4,
 "nbformat_minor": 5
}
