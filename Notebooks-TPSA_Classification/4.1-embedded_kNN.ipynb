{
 "cells": [
  {
   "cell_type": "markdown",
   "id": "418c282c-2b25-4f32-96cf-883b40b84c36",
   "metadata": {
    "editable": true,
    "slideshow": {
     "slide_type": ""
    },
    "tags": []
   },
   "source": [
    "  # Run kNN models on Latent Representation for TPSA Classification "
   ]
  },
  {
   "cell_type": "markdown",
   "id": "14da93a6-653f-4a55-9b3a-e72ab79a1121",
   "metadata": {},
   "source": [
    "# Setup"
   ]
  },
  {
   "cell_type": "code",
   "execution_count": 1,
   "id": "a104a277-3ad3-438a-b706-d4499f709f89",
   "metadata": {
    "ExecuteTime": {
     "end_time": "2023-04-12T10:29:16.111588Z",
     "start_time": "2023-04-12T10:29:15.764305Z"
    },
    "editable": true,
    "execution": {
     "iopub.execute_input": "2024-12-07T11:47:29.376732Z",
     "iopub.status.busy": "2024-12-07T11:47:29.375957Z",
     "iopub.status.idle": "2024-12-07T11:47:29.401057Z",
     "shell.execute_reply": "2024-12-07T11:47:29.400408Z",
     "shell.execute_reply.started": "2024-12-07T11:47:29.376688Z"
    },
    "slideshow": {
     "slide_type": ""
    },
    "tags": []
   },
   "outputs": [
    {
     "data": {
      "text/html": [
       "<style>.container { width:98% !important; }</style>"
      ],
      "text/plain": [
       "<IPython.core.display.HTML object>"
      ]
     },
     "metadata": {},
     "output_type": "display_data"
    }
   ],
   "source": [
    "%load_ext autoreload  \n",
    "%autoreload 2\n",
    "from IPython.display import display, HTML, Image\n",
    "from IPython.core.interactiveshell import InteractiveShell\n",
    "display(HTML(\"<style>.container { width:98% !important; }</style>\"))\n",
    "InteractiveShell.ast_node_interactivity = \"all\""
   ]
  },
  {
   "cell_type": "code",
   "execution_count": 2,
   "id": "7478f60a-2ea2-4407-bd91-f068349f222b",
   "metadata": {
    "ExecuteTime": {
     "end_time": "2023-04-12T10:29:16.111588Z",
     "start_time": "2023-04-12T10:29:15.764305Z"
    },
    "editable": true,
    "execution": {
     "iopub.execute_input": "2024-12-07T11:48:57.528075Z",
     "iopub.status.busy": "2024-12-07T11:48:57.527551Z",
     "iopub.status.idle": "2024-12-07T11:48:58.248771Z",
     "shell.execute_reply": "2024-12-07T11:48:58.247967Z",
     "shell.execute_reply.started": "2024-12-07T11:48:57.528033Z"
    },
    "slideshow": {
     "slide_type": ""
    },
    "tags": []
   },
   "outputs": [
    {
     "name": "stdout",
     "output_type": "stream",
     "text": [
      "insert ../\n",
      "insert ../../..\n",
      "['../../..', '../', '/home/kevin/WSL-shared/cellpainting/cj-datasets/Notebooks-TPSA_Classification', '/home/kevin/miniforge3/envs/cp311/lib/python311.zip', '/home/kevin/miniforge3/envs/cp311/lib/python3.11', '/home/kevin/miniforge3/envs/cp311/lib/python3.11/lib-dynload', '', '/home/kevin/miniforge3/envs/cp311/lib/python3.11/site-packages', '/home/kevin/miniforge3/envs/cp311/lib/python3.11/site-packages/huggingface_hub-0.20.3-py3.8.egg']\n"
     ]
    }
   ],
   "source": [
    "import os\n",
    "import sys\n",
    "import csv\n",
    "import json\n",
    "import time\n",
    "import types\n",
    "import copy\n",
    "import pprint\n",
    "import logging\n",
    "from datetime import datetime\n",
    "for p in ['../','../../..']:\n",
    "    if p not in sys.path:\n",
    "        print(f\"insert {p}\")\n",
    "        sys.path.insert(0, p)\n",
    "print(sys.path)\n",
    "\n",
    "import numpy as np\n",
    "import pandas as pd\n",
    "import scipy\n",
    "# import torch\n",
    "# import torch.nn.functional as F\n",
    "# from torchinfo import summary\n",
    "# torch.set_printoptions(precision=None, threshold=None, edgeitems=None, linewidth=150, profile=None, sci_mode=None)\n",
    "# torch.set_printoptions(precision=None, threshold=None, edgeitems=None, linewidth=150, profile=None, sci_mode=None)\n",
    "\n",
    "\n",
    "\n",
    "pp = pprint.PrettyPrinter(indent=4)\n",
    "pd.options.display.width = 132\n",
    "np.set_printoptions(edgeitems=3, infstr='inf', linewidth=150, nanstr='nan')\n",
    "\n",
    "os.environ[\"WANDB_NOTEBOOK_NAME\"] = \"AE-MAIN-SNNL.ipynb\"\n",
    "# os.environ[\"CUDA_LAUNCH_BLOCKING\"] = \"1\"\n",
    "# os.environ[\"CUDA_VISIBLE_DEVICES\"] = \"2\""
   ]
  },
  {
   "cell_type": "code",
   "execution_count": 3,
   "id": "e95095f6-1bf7-40bc-8fc4-3a925094cae7",
   "metadata": {
    "editable": true,
    "execution": {
     "iopub.execute_input": "2024-12-07T11:48:58.922454Z",
     "iopub.status.busy": "2024-12-07T11:48:58.922089Z",
     "iopub.status.idle": "2024-12-07T11:49:03.404431Z",
     "shell.execute_reply": "2024-12-07T11:49:03.403667Z",
     "shell.execute_reply.started": "2024-12-07T11:48:58.922429Z"
    },
    "slideshow": {
     "slide_type": ""
    },
    "tags": []
   },
   "outputs": [
    {
     "name": "stderr",
     "output_type": "stream",
     "text": [
      "/home/kevin/miniforge3/envs/cp311/lib/python3.11/site-packages/dask/dataframe/_pyarrow_compat.py:17: FutureWarning: Minimal version of pyarrow will soon be increased to 14.0.1. You are using 11.0.0. Please consider upgrading.\n",
      "  warnings.warn(\n"
     ]
    }
   ],
   "source": [
    "# import snnl.utils as utils\n",
    "# from snnl.utils import parse_args, load_configuration, set_global_seed, get_device, set_device\n",
    "from KevinsRoutines.utils.utils_general import list_namespace, save_to_pickle, load_from_pickle\n",
    "\n",
    "from src.utils.utils_cellpainting import (model_selection, balance_datasets, label_counts, compute_metrics,\n",
    "                                        plots_from_estimator, plots_from_predictions)\n",
    "from src.utils.jcp_datasets import project_datasets, display_project_datasets"
   ]
  },
  {
   "cell_type": "code",
   "execution_count": 5,
   "id": "46fc79f1-4481-4f1c-bed7-a5e375ea3eae",
   "metadata": {
    "editable": true,
    "execution": {
     "iopub.execute_input": "2024-12-07T11:49:10.840876Z",
     "iopub.status.busy": "2024-12-07T11:49:10.840443Z",
     "iopub.status.idle": "2024-12-07T11:49:10.877644Z",
     "shell.execute_reply": "2024-12-07T11:49:10.876967Z",
     "shell.execute_reply.started": "2024-12-07T11:49:10.840839Z"
    },
    "slideshow": {
     "slide_type": ""
    },
    "tags": []
   },
   "outputs": [],
   "source": [
    "import seaborn as sb\n",
    "import matplotlib.pyplot as plt\n",
    "import scipy.stats as sps\n",
    "\n",
    "import sklearn.metrics as skm\n",
    "import sklearn.utils.random as skr\n",
    "from scipy.spatial.distance import pdist, squareform, euclidean\n",
    "\n",
    "# from sklearn.metrics import accuracy_score, f1_score, roc_curve, roc_auc_score, classification_report, precision_recall_fscore_support\n",
    "# from sklearn.metrics import precision_recall_curve, PrecisionRecallDisplay, roc_curve, RocCurveDisplay\n",
    "# from sklearn.metrics import confusion_matrix, ConfusionMatrixDisplay"
   ]
  },
  {
   "cell_type": "code",
   "execution_count": 6,
   "id": "6651619f-dac6-4962-881e-8fd87b2cbfe2",
   "metadata": {
    "editable": true,
    "execution": {
     "iopub.execute_input": "2024-12-07T11:49:12.303109Z",
     "iopub.status.busy": "2024-12-07T11:49:12.302665Z",
     "iopub.status.idle": "2024-12-07T11:49:12.450964Z",
     "shell.execute_reply": "2024-12-07T11:49:12.450181Z",
     "shell.execute_reply.started": "2024-12-07T11:49:12.303073Z"
    },
    "slideshow": {
     "slide_type": ""
    },
    "tags": []
   },
   "outputs": [],
   "source": [
    "# Models\n",
    "from xgboost import XGBClassifier, XGBRegressor\n",
    "\n",
    "import sklearn.metrics as skm\n",
    "from sklearn.decomposition import PCA\n",
    "from sklearn.manifold import TSNE\n",
    "\n",
    "from sklearn.ensemble import RandomForestClassifier, RandomForestRegressor\n",
    "from sklearn.svm import SVC, SVR\n",
    "from sklearn.neighbors import KNeighborsClassifier, KNeighborsRegressor\n",
    "\n",
    "# utility class to help normalize labels such that they contain only values between 0 and n_classes-1.\n",
    "from sklearn.preprocessing import LabelEncoder\n",
    "\n",
    "# K-Folds cross-validator - Provides train/test indices to split data in train/test sets. Split dataset into k consecutive folds (without shuffling by default).\n",
    "# Each fold is then used once as a validation while the k - 1 remaining folds form the training set.\n",
    "from sklearn.model_selection import KFold, StratifiedKFold\n",
    "from sklearn.model_selection import GroupKFold, StratifiedGroupKFold\n",
    "from sklearn.model_selection import ShuffleSplit, GroupShuffleSplit, StratifiedShuffleSplit, TimeSeriesSplit\n",
    "\n",
    "# Evaluate metric(s) by cross-validation and also record fit/score times.\n",
    "from sklearn.model_selection import cross_validate, cross_val_score\n",
    "\n",
    "# Generate cross-validated estimates for each input data point.\n",
    "# The data is split according to the cv parameter. Each sample belongs to exactly one test set,\n",
    "# and its prediction is computed with an estimator fitted on the corresponding training set.\n",
    "from sklearn.model_selection import cross_val_predict\n",
    "\n",
    "# Exhaustive search over specified parameter values for an estimator.\n",
    "# Randomized search on hyper parameters.\n",
    "from sklearn.model_selection import GridSearchCV, RandomizedSearchCV\n",
    "\n",
    "# Input checker utility for building a cross-validator.(?)\n",
    "from sklearn.model_selection._split import check_cv\n",
    "\n",
    "from sklearn.pipeline import Pipeline\n",
    "\n",
    "# Make a scorer from a performance metric or loss function. This factory function wraps scoring\n",
    "# functions for use in GridSearchCV and cross_val_score. It takes a score function, such as accuracy_score,\n",
    "# mean_squared_error, adjusted_rand_score or average_precision_score and returns a callable that\n",
    "# scores an estimator’s output. The signature of the call is (estimator, X, y) where estimator\n",
    "# is the model to be evaluated, X is the data and y is the ground truth labeling (or None in the\n",
    "# case of unsupervised models).\n",
    "from sklearn.metrics import make_scorer\n",
    "\n",
    "# regression matrics\n",
    "from sklearn.metrics import mean_absolute_error, mean_squared_error, r2_score\n",
    "\n",
    "# classification metrics\n",
    "from sklearn.metrics import accuracy_score, confusion_matrix, classification_report\n",
    "\n",
    "# from sklearn.base import BaseEstimator\n",
    "# from sklearn.base import ClassifierMixin\n",
    "# from sklearn.base import TransformerMixin\n",
    "\n",
    "# Construct a new unfitted estimator with the same parameters. Clone does a deep copy of the model\n",
    "# in an estimator without actually copying attached data. It returns a new estimator with the same\n",
    "# parameters that has not been fitted on any data.\n",
    "# from sklearn.base import clone\n",
    "from sklearn.preprocessing import StandardScaler\n"
   ]
  },
  {
   "cell_type": "code",
   "execution_count": 7,
   "id": "c12352c5-443c-414b-bb2b-6ea5ba801515",
   "metadata": {
    "editable": true,
    "execution": {
     "iopub.execute_input": "2024-12-07T11:49:13.964954Z",
     "iopub.status.busy": "2024-12-07T11:49:13.964588Z",
     "iopub.status.idle": "2024-12-07T11:49:14.007241Z",
     "shell.execute_reply": "2024-12-07T11:49:14.006181Z",
     "shell.execute_reply.started": "2024-12-07T11:49:13.964920Z"
    },
    "scrolled": true,
    "slideshow": {
     "slide_type": ""
    },
    "tags": []
   },
   "outputs": [
    {
     "name": "stderr",
     "output_type": "stream",
     "text": [
      "2024-12-07 12:49:14,000 - __main__ - INFO: -  Excution started : 2024_12_07_12:49:13 \n",
      "2024-12-07 12:49:14,001 - __main__ - INFO: -  Scipy version    : 1.11.4  \t\t Numpy version : 1.26.2\n",
      "2024-12-07 12:49:14,002 - __main__ - INFO: -  Pandas version: 2.2.2  \n"
     ]
    }
   ],
   "source": [
    "timestamp = datetime.now().strftime('%Y_%m_%d_%H:%M:%S')\n",
    "logger = logging.getLogger(__name__)\n",
    "logLevel = os.environ.get('LOG_LEVEL', 'INFO').upper()\n",
    "FORMAT = '%(asctime)s - %(name)s - %(levelname)s: - %(message)s'\n",
    "logging.basicConfig(level=\"INFO\", format= FORMAT)\n",
    "\n",
    "logger.info(f\" Excution started : {timestamp} \")\n",
    "logger.info(f\" Scipy version    : {scipy.__version__}  \\t\\t Numpy version : {np.__version__}\")\n",
    "logger.info(f\" Pandas version: {pd.__version__}  \")\n"
   ]
  },
  {
   "cell_type": "code",
   "execution_count": 8,
   "id": "74ded0a9-9065-46cb-b0de-5f3cd0769ed1",
   "metadata": {
    "execution": {
     "iopub.execute_input": "2024-12-07T11:49:25.639508Z",
     "iopub.status.busy": "2024-12-07T11:49:25.639035Z",
     "iopub.status.idle": "2024-12-07T11:49:25.677728Z",
     "shell.execute_reply": "2024-12-07T11:49:25.677009Z",
     "shell.execute_reply.started": "2024-12-07T11:49:25.639464Z"
    },
    "scrolled": true
   },
   "outputs": [
    {
     "name": "stdout",
     "output_type": "stream",
     "text": [
      " Path and Prefixes : \n",
      " ------------------- \n",
      " prefix                                      : \n",
      " prefix_lc                                   : \n",
      " metadata path                               : ./metadata/\n",
      " input path                                  : ./input/\n",
      " output path                                 : ../output_10162023/\n",
      "\n",
      " Input & Metadata Datasets : \n",
      " --------------------------- \n",
      " Compound Metadata Input File                : ./metadata/compound.csv\n",
      " Plate Metadata Input File                   : ./metadata/plate_new.csv\n",
      " Well Metadata Input File                    : ./metadata/well.csv\n",
      "\n",
      " Profiles Metadata File                      : ./metadata/profile_metadata.pkl\n",
      " Parquet  Metadata File                      : ./metadata/parquet_columns.pkl\n",
      "\n",
      " Compound Metadata : \n",
      " ------------------- \n",
      " Metadata + Smiles                           : ../output_10162023/compound_metadata_smiles.csv\n",
      "          + TPSA                             : ../output_10162023/compound_metadata_tpsa.csv\n",
      "          + TPSA Cleaned (TPSA <> 0)         : ../output_10162023/compound_metadata_tpsa_clean.csv\n",
      "          + Base64 Pharmacophores            : ../output_10162023/compound_metadads.ta_pcfp.csv\n",
      "\n",
      " Compound/TPSA File:\n",
      " -------------------\n",
      " compound TPSA File                          : ../output_10162023/compound_TPSA.csv\n",
      " compound TPSA Clean File                    : ../output_10162023/compound_TPSA_clean.csv\n",
      "\n",
      "\n",
      " Compound/Pharmacophore Files :\n",
      " ------------------------------\n",
      " compound Pharmacophore Sparse File          : ../output_10162023/compound_pharmacophores_sparse.pkl\n",
      " compound Pharmacophore CSV File             : ../output_10162023/compound_pharmacophores.csv\n",
      " compound Pharmacophore Numpy File           : ../output_10162023/compound_pharmacophores.npy\n",
      " compound Pharmacophore Numpy Zipped File    : ../output_10162023/compound_pharmacophores_zip.npz\n",
      "\n",
      " compound Pharmacophore 3Sample File         : ../output_10162023/compound_pharmacophores_3samples.csv\n",
      "\n",
      " Compound Extended Metadata files:\n",
      " ---------------------------------\n",
      " Compound Extended MetadataFile              : ../output_10162023/compound_extended_metadata.csv\n",
      "\n",
      " Compound Extended Metadata 5 SampleFile     : ../output_10162023/compound_extended_metadata_5samples.csv\n",
      " Compound Extended Metadata 3 SampleFile     : ../output_10162023/compound_extended_metadata_3samples.csv\n",
      " Compound Extended Metadata 2 SampleFile     : ../output_10162023/compound_extended_metadata_2samples.csv\n",
      "\n",
      " Compound Profiles files:\n",
      " ------------------------\n",
      " Compound Profiles 5 Samples File            : ../output_10162023//5_sample_profiles/5sample_profiles_{0:03d}{1:s}.csv\n",
      " Compound Profiles 3 Samples File            : ../output_10162023//3_sample_profiles/3sample_profiles_{0:03d}{1:s}.csv\n",
      " Compound Profiles 2 Samples File            : ../output_10162023//2_sample_profiles/2sample_profiles_{0:03d}{1:s}.csv\n",
      "\n"
     ]
    }
   ],
   "source": [
    "ds = project_datasets(output_path = '../output_10162023/')\n",
    "display_project_datasets(ds)"
   ]
  },
  {
   "cell_type": "markdown",
   "id": "cdaa5260-01ce-4a98-b597-62c43c388f43",
   "metadata": {},
   "source": [
    "## Helper routines"
   ]
  },
  {
   "cell_type": "code",
   "execution_count": 9,
   "id": "7461695c-e909-4d0a-baf7-dd0ae6768c72",
   "metadata": {
    "execution": {
     "iopub.execute_input": "2024-12-07T11:49:29.891608Z",
     "iopub.status.busy": "2024-12-07T11:49:29.891127Z",
     "iopub.status.idle": "2024-12-07T11:49:29.929232Z",
     "shell.execute_reply": "2024-12-07T11:49:29.928555Z",
     "shell.execute_reply.started": "2024-12-07T11:49:29.891568Z"
    }
   },
   "outputs": [
    {
     "data": {
      "text/plain": [
       "array([[67, 20, 38, 84, 62, 94, 35, 46, 81, 64],\n",
       "       [19, 29, 37, 30, 49, 45, 65, 72,  2, 16],\n",
       "       [25, 14, 61,  4,  9, 39, 87, 54, 48, 53],\n",
       "       [86, 96, 44, 42, 13, 33, 31, 77, 23, 28],\n",
       "       [ 5, 69, 57, 85, 79, 15, 76, 97, 50, 56],\n",
       "       [73, 99,  6, 98, 66, 89, 24, 92, 71, 95],\n",
       "       [ 3, 70,  1, 93, 83, 12, 88,  8, 18, 26],\n",
       "       [41, 51,  7, 34, 63, 10,  0, 75, 90, 27],\n",
       "       [21, 74, 68, 91, 17, 36, 40, 59, 52, 58],\n",
       "       [47, 55, 82, 43, 32, 60, 22, 11, 78, 80]])"
      ]
     },
     "execution_count": 9,
     "metadata": {},
     "output_type": "execute_result"
    }
   ],
   "source": [
    "sample_idxs = skr.sample_without_replacement(n_population=100, n_samples= 10 )\n",
    "\n",
    "rng = np.random.default_rng()\n",
    "\n",
    "indxs = rng.choice(100, [10,10], replace = False)\n",
    "indxs"
   ]
  },
  {
   "cell_type": "markdown",
   "id": "cdac793b-be20-4c56-8bab-989c05caad80",
   "metadata": {},
   "source": [
    "### main(args)"
   ]
  },
  {
   "cell_type": "code",
   "execution_count": 10,
   "id": "70631048-6b63-4c40-8ab9-96f2230936e5",
   "metadata": {
    "editable": true,
    "execution": {
     "iopub.execute_input": "2024-12-07T11:49:37.825715Z",
     "iopub.status.busy": "2024-12-07T11:49:37.825246Z",
     "iopub.status.idle": "2024-12-07T11:49:37.864413Z",
     "shell.execute_reply": "2024-12-07T11:49:37.863822Z",
     "shell.execute_reply.started": "2024-12-07T11:49:37.825676Z"
    },
    "slideshow": {
     "slide_type": ""
    },
    "tags": []
   },
   "outputs": [
    {
     "name": "stdout",
     "output_type": "stream",
     "text": [
      "11\n",
      "261\n"
     ]
    }
   ],
   "source": [
    "WANDB_ACTIVE  = False\n",
    "DATE          = 'yyyymmdd-hhmm'\n",
    "# CHECKPT       = \"AE_snnl_dcpb200_150Ltnt_512_240709_2235_LAST_ep_705.pt\"\n",
    "# RUN_ID        = \"jzt6ecjz\"\n",
    "PROFILES_INPUT_PATH = f\"/home/kevin/WSL-shared/cellpainting/cj-datasets/output_11102023/3_sample_profiles/\"\n",
    "EMBEDDINGS_INPUT_PATH = f\"/home/kevin/WSL-shared/cellpainting/cj-datasets/output_11102023/3_sample_embeddings/\"\n",
    "FINGERPRINTS_INPUT_PATH = f\"/home/kevin/WSL-shared/cellpainting/cj-datasets/output_11102023/3_sample_profiles/\"\n",
    "MODEL_SAVE_PATH = f\"/home/kevin/WSL-shared/cellpainting/cj-datasets/saved_tpsa_models/embedding_models\"\n",
    "\n",
    "LATENT_DIM = 250\n",
    "METADATA_COLS = ['Metadata_Source', 'Metadata_Batch', 'Metadata_Plate', 'Metadata_Well'  , 'Metadata_JCP2022', \n",
    "                 'Metadata_Hash'  , 'Metadata_Bin'  , 'Metadata_TPSA' , 'Metadata_lnTPSA', 'Metadata_log10TPSA', \n",
    "                 'Metadata_Permiation']\n",
    "\n",
    "# METADATA_COLS += [f'Feature_{x:03d}' for x in range(LATENT_DIM)]\n",
    "INPUT_COLS = LATENT_DIM + len(METADATA_COLS)\n",
    "print(len(METADATA_COLS))\n",
    "print(INPUT_COLS)\n",
    "\n",
    "\n",
    "## AUTOENCODER RUNMODE \n",
    "AE_RUNMODE = \"snnl\"\n",
    "# AE_RUNMODE = 'base'\n",
    "## \n",
    "# AE_DATETIME = \"20240906_2201\"     # SNNL, CPB = 600, Latent 150, WD = 0.001, SNN Factor 3\n",
    "AE_DATETIME = \"20240917_2004\"     # SNNL, CPB = 600, Latent 250, WD = 0.001, SNN Factor 3\n",
    "##\n",
    "# AE_CKPTTYPE = \"BEST\"\n",
    "AE_CKPTTYPE = \"LAST\"\n",
    "# df_header = pd.read_csv(HEADER_FILE).columns.to_list()\n",
    "# header_cols"
   ]
  },
  {
   "cell_type": "code",
   "execution_count": 24,
   "id": "02788c47-43ae-4507-b405-6b647dff8fba",
   "metadata": {
    "editable": true,
    "execution": {
     "iopub.execute_input": "2024-12-07T11:54:41.274424Z",
     "iopub.status.busy": "2024-12-07T11:54:41.273919Z",
     "iopub.status.idle": "2024-12-07T11:54:41.314240Z",
     "shell.execute_reply": "2024-12-07T11:54:41.313638Z",
     "shell.execute_reply.started": "2024-12-07T11:54:41.274382Z"
    },
    "slideshow": {
     "slide_type": ""
    },
    "tags": []
   },
   "outputs": [
    {
     "name": "stdout",
     "output_type": "stream",
     "text": [
      "3sample_pharmacophores_261_HashOrder_training.csv\n",
      "3sample_pharmacophores_261_HashOrder_validation.csv\n",
      "3sample_pharmacophores_261_HashOrder_test.csv\n",
      "\n",
      "3smpl_prfl_embedding_261_HashOrder_snnl_20240917_2004_LAST_training.csv\n",
      "3smpl_prfl_embedding_261_HashOrder_snnl_20240917_2004_LAST_validation.csv\n",
      "3smpl_prfl_embedding_261_HashOrder_snnl_20240917_2004_LAST_test.csv\n"
     ]
    }
   ],
   "source": [
    "# = utils.load_model_from_ckpt(model, ex_mode, ex_timestamp, ex_title, epochs, ex_cpb, ex_factor )\n",
    "\n",
    "FINGERPRINTS_TRAINING_FILE   = f\"3sample_pharmacophores_{INPUT_COLS}_HashOrder_training.csv\"\n",
    "FINGERPRINTS_VALIDATION_FILE = f\"3sample_pharmacophores_{INPUT_COLS}_HashOrder_validation.csv\"\n",
    "FINGERPRINTS_TEST_FILE       = f\"3sample_pharmacophores_{INPUT_COLS}_HashOrder_test.csv\"\n",
    "\n",
    "print(FINGERPRINTS_TRAINING_FILE)\n",
    "print(FINGERPRINTS_VALIDATION_FILE)\n",
    "print(FINGERPRINTS_TEST_FILE)\n",
    "\n",
    "# PROFILES_TRAINING_FILE   = f'3sample_profiles_{INPUT_COLS}_HashOrder_training.csv'\n",
    "# PROFILES_VALIDATION_FILE = f'3sample_profiles_{INPUT_COLS}_HashOrder_validation.csv'\n",
    "# PROFILES_TEST_FILE       = f'3sample_profiles_{INPUT_COLS}_HashOrder_test.csv'\n",
    "\n",
    "# print()\n",
    "# print(PROFILES_TRAINING_FILE)\n",
    "# print(PROFILES_VALIDATION_FILE)\n",
    "# print(PROFILES_TEST_FILE)\n",
    "\n",
    "EMBEDDINGS_TRAINING_FILE   = f'3smpl_prfl_embedding_{INPUT_COLS}_HashOrder_{AE_RUNMODE}_{AE_DATETIME}_LAST_training.csv'\n",
    "EMBEDDINGS_VALIDATION_FILE = f'3smpl_prfl_embedding_{INPUT_COLS}_HashOrder_{AE_RUNMODE}_{AE_DATETIME}_LAST_validation.csv'\n",
    "EMBEDDINGS_TEST_FILE       = f'3smpl_prfl_embedding_{INPUT_COLS}_HashOrder_{AE_RUNMODE}_{AE_DATETIME}_LAST_test.csv'\n",
    "\n",
    "print()\n",
    "print(EMBEDDINGS_TRAINING_FILE)\n",
    "print(EMBEDDINGS_VALIDATION_FILE)\n",
    "print(EMBEDDINGS_TEST_FILE)"
   ]
  },
  {
   "cell_type": "code",
   "execution_count": 25,
   "id": "341f9891-7027-4cf3-a019-c8474d25031f",
   "metadata": {
    "editable": true,
    "execution": {
     "iopub.execute_input": "2024-12-07T11:54:42.326464Z",
     "iopub.status.busy": "2024-12-07T11:54:42.326132Z",
     "iopub.status.idle": "2024-12-07T11:54:42.368000Z",
     "shell.execute_reply": "2024-12-07T11:54:42.367489Z",
     "shell.execute_reply.started": "2024-12-07T11:54:42.326435Z"
    },
    "slideshow": {
     "slide_type": ""
    },
    "tags": []
   },
   "outputs": [
    {
     "data": {
      "text/plain": [
       "'/home/kevin/WSL-shared/cellpainting/cj-datasets/output_11102023/3_sample_embeddings/3smpl_prfl_embedding_261_HashOrder_snnl_20240917_2004_LAST_training.csv'"
      ]
     },
     "execution_count": 25,
     "metadata": {},
     "output_type": "execute_result"
    },
    {
     "data": {
      "text/plain": [
       "'/home/kevin/WSL-shared/cellpainting/cj-datasets/output_11102023/3_sample_profiles/3sample_pharmacophores_261_HashOrder_training.csv'"
      ]
     },
     "execution_count": 25,
     "metadata": {},
     "output_type": "execute_result"
    },
    {
     "data": {
      "text/plain": [
       "'/home/kevin/WSL-shared/cellpainting/cj-datasets/output_11102023/3_sample_embeddings/3smpl_prfl_embedding_261_HashOrder_snnl_20240917_2004_LAST_test.csv'"
      ]
     },
     "execution_count": 25,
     "metadata": {},
     "output_type": "execute_result"
    },
    {
     "data": {
      "text/plain": [
       "'/home/kevin/WSL-shared/cellpainting/cj-datasets/output_11102023/3_sample_profiles/3sample_pharmacophores_261_HashOrder_test.csv'"
      ]
     },
     "execution_count": 25,
     "metadata": {},
     "output_type": "execute_result"
    }
   ],
   "source": [
    "TRAIN_INPUT_X = os.path.join(EMBEDDINGS_INPUT_PATH, EMBEDDINGS_TRAINING_FILE)\n",
    "TRAIN_INPUT_Y = os.path.join(FINGERPRINTS_INPUT_PATH, FINGERPRINTS_TRAINING_FILE)\n",
    "TRAIN_INPUT_X\n",
    "TRAIN_INPUT_Y\n",
    "\n",
    "TEST_INPUT_X  = os.path.join(EMBEDDINGS_INPUT_PATH, EMBEDDINGS_TEST_FILE)\n",
    "TEST_INPUT_Y  = os.path.join(FINGERPRINTS_INPUT_PATH, FINGERPRINTS_TEST_FILE)\n",
    "TEST_INPUT_X\n",
    "TEST_INPUT_Y"
   ]
  },
  {
   "cell_type": "code",
   "execution_count": 19,
   "id": "c25082b2-753b-4069-b183-00a90f611b68",
   "metadata": {
    "editable": true,
    "execution": {
     "iopub.execute_input": "2024-12-07T11:53:38.045330Z",
     "iopub.status.busy": "2024-12-07T11:53:38.044882Z",
     "iopub.status.idle": "2024-12-07T11:53:38.081546Z",
     "shell.execute_reply": "2024-12-07T11:53:38.080983Z",
     "shell.execute_reply.started": "2024-12-07T11:53:38.045289Z"
    },
    "slideshow": {
     "slide_type": ""
    },
    "tags": []
   },
   "outputs": [],
   "source": [
    "# WANDB_ACTIVE  = False\n",
    "# LATENT_DIM    = 150\n",
    "# HIDDEN_1      = 512\n",
    "# # HIDDEN_2    = '_256'\n",
    "# HIDDEN_2      = ''\n",
    "# DATE          = 'yyyymmdd-hhmm'\n",
    "# LOAD_EPOCH    = 200\n",
    "# EPOCHS        = 5\n",
    "# COMPOUNDS_PER_BATCH = 200\n",
    "# LEARNING_RATE = 1.00e-04\n",
    "# TEMP          = 0.05\n",
    "# TEMP_LR       = 1.00e-05\n",
    "# # RUNMODE       = \"baseline\"\n",
    "# # CONFIGURATION = \"./hyperparameters/ae_cp_150_512_cpb.yaml\"\n",
    "# RUNMODE       = \"snnl\"\n",
    "# CONFIGURATION   = \"./hyperparameters/ae_sn_150_512_cpb.yaml\"\n",
    "# # CHECKPT       = f\"AE_snnl_dcpb{COMPOUNDS_PER_BATCH}_{LATENT_DIM}Ltnt_{HIDDEN_1}{HIDDEN_2}_{DATE}_LAST_ep_{LOAD_EPOCH:03d}.pt\"\n",
    "# # CHECKPT       = \"AE_snnl_dcpb200_150Ltnt_512_20240709_2235_LAST_ep_700.pt\"\n",
    "# # CHECKPT       = \"AE_snnl_dcpb200_150Ltnt_512_240709_2235_LAST_ep_705.pt\"\n",
    "# # RUN_ID        = \"jzt6ecjz\"\n"
   ]
  },
  {
   "cell_type": "code",
   "execution_count": 20,
   "id": "60285362-f1d0-48f0-91d3-1787dce08036",
   "metadata": {
    "editable": true,
    "execution": {
     "iopub.execute_input": "2024-12-07T11:53:38.485035Z",
     "iopub.status.busy": "2024-12-07T11:53:38.484790Z",
     "iopub.status.idle": "2024-12-07T11:53:38.518575Z",
     "shell.execute_reply": "2024-12-07T11:53:38.517883Z",
     "shell.execute_reply.started": "2024-12-07T11:53:38.485014Z"
    },
    "slideshow": {
     "slide_type": ""
    },
    "tags": []
   },
   "outputs": [],
   "source": [
    "# ex_runmode = 'baseline'\n",
    "# ex_runmode = 'base'\n",
    "# ex_date = \"20240709\"\n",
    "# ex_time = \"1950\"\n",
    "# indicator = 's'\n",
    "# SNNL_runmode = 'SNNL'\n",
    "# BASE_runmode = 'BASELINE'\n",
    "\n",
    "# base_date = \"20240718\"\n",
    "# base_time = \"1956\"\n",
    "# ##\n",
    "# snnl_date = \"20240718\"\n",
    "# snnl_time = \"1956\"\n",
    "# indicator = 'd'\n",
    "# ##\n",
    "# ex_title = f\"scpb{COMPOUNDS_PER_BATCH}-{LATENT_DIM}Ltnt\"\n",
    "# ex_cpb = 200\n",
    "# suffix = '*'\n",
    "# epochs = 50"
   ]
  },
  {
   "cell_type": "code",
   "execution_count": 21,
   "id": "c2d45c0c-8e38-4a67-80d4-69274f7eed33",
   "metadata": {
    "editable": true,
    "execution": {
     "iopub.execute_input": "2024-12-07T11:53:38.917863Z",
     "iopub.status.busy": "2024-12-07T11:53:38.917531Z",
     "iopub.status.idle": "2024-12-07T11:53:38.948911Z",
     "shell.execute_reply": "2024-12-07T11:53:38.948357Z",
     "shell.execute_reply.started": "2024-12-07T11:53:38.917832Z"
    },
    "slideshow": {
     "slide_type": ""
    },
    "tags": []
   },
   "outputs": [],
   "source": [
    "# = utils.load_model_from_ckpt(model, ex_mode, ex_timestamp, ex_title, epochs, ex_cpb, ex_factor )\n",
    "# output_file_cols = ['Metadata_Source', 'Metadata_Batch', 'Metadata_Plate', 'Metadata_Well', 'Metadata_JCP2022', 'Metadata_Hash', 'Metadata_Bin', 'Metadata_TPSA', 'Metadata_lnTPSA', 'Metadata_log10TPSA', 'Metadata_Permiation']\n",
    "# output_file_cols += [f'Feature_{x:03d}' for x in range(LATENT_DIM)]\n",
    "# output_path = f\"/home/kevin/WSL-shared/cellpainting/cj-datasets/output_11102023/3_sample_embeddings/\"\n",
    "# print(len(output_file_cols))\n",
    "\n",
    "# BASELINE_BEST_INPUT_FILE = f\"3sample_profiles_embedding_{len(output_file_cols)}_HashOrder_{{runmode}}_{base_date}_{base_time}_BEST_{{datatype}}.csv\"\n",
    "# BASELINE_LAST_INPUT_FILE = f\"3sample_profiles_embedding_{len(output_file_cols)}_HashOrder_{{runmode}}_{base_date}_{base_time}_LAST_{{datatype}}.csv\"\n",
    "# SNNL_BEST_INPUT_FILE = f\"3sample_profiles_embedding_{len(output_file_cols)}_HashOrder_{{runmode}}_{snnl_date}_{snnl_time}_BEST_{{datatype}}.csv\"\n",
    "# SNNL_LAST_INPUT_FILE = f\"3sample_profiles_embedding_{len(output_file_cols)}_HashOrder_{{runmode}}_{snnl_date}_{sbbl_time}_LAST_{{datatype}}.csv\"\n",
    "\n",
    "# print(BASELINE_BEST_INPUT_FILE)\n",
    "# print(SNNL_BEST_INPUT_FILE)"
   ]
  },
  {
   "cell_type": "code",
   "execution_count": 22,
   "id": "666fae22-31c3-43b5-ac9f-50f5df9356f7",
   "metadata": {
    "execution": {
     "iopub.execute_input": "2024-12-07T11:53:47.416801Z",
     "iopub.status.busy": "2024-12-07T11:53:47.416306Z",
     "iopub.status.idle": "2024-12-07T11:53:47.454443Z",
     "shell.execute_reply": "2024-12-07T11:53:47.453858Z",
     "shell.execute_reply.started": "2024-12-07T11:53:47.416760Z"
    }
   },
   "outputs": [],
   "source": [
    "# BEST_OUTPUT_FILE = BASELINE_BEST_OUTPUT_FILE\n",
    "# LAST_OUTPUT_FILE = BASELINE_LAST_OUTPUT_FILE\n",
    "\n",
    "# OUTPUT_FILE = SNNL_LAST_OUTPUT_FILE\n",
    "# INPUT_FILE = SNNL_BEST_INPUT_FILE\n",
    "# for runmode in ['BASELINE', 'SNNL']:\n",
    "#     for datatype in ['train', 'test']:\n",
    "#         print(os.path.join(output_path, INPUT_FILE.format(runmode = runmode, datatype=datatype)))\n",
    "#         print(os.path.join(output_path, LAST_OUTPUT_FILE.format(datatype=datatype)))"
   ]
  },
  {
   "attachments": {},
   "cell_type": "markdown",
   "id": "ad09a169-2a35-4fb3-a0f5-3c8357ff8bc9",
   "metadata": {},
   "source": [
    "# Load Datasets - Embedded Features CSV files"
   ]
  },
  {
   "cell_type": "markdown",
   "id": "b66f4eaa-d6a0-4b07-abe4-2cb1796e4ed7",
   "metadata": {},
   "source": [
    "## Training Data"
   ]
  },
  {
   "cell_type": "code",
   "execution_count": 26,
   "id": "5612943e-8bc2-4971-a7a3-bb20d2896e5b",
   "metadata": {
    "execution": {
     "iopub.execute_input": "2024-12-07T11:54:46.129984Z",
     "iopub.status.busy": "2024-12-07T11:54:46.129496Z",
     "iopub.status.idle": "2024-12-07T11:55:01.334201Z",
     "shell.execute_reply": "2024-12-07T11:55:01.333142Z",
     "shell.execute_reply.started": "2024-12-07T11:54:46.129944Z"
    }
   },
   "outputs": [],
   "source": [
    "df_train_x = pd.read_csv(TRAIN_INPUT_X)\n",
    "# df_train = pd.read_csv(TRAIN_INPUT, nrows = 100 )\n",
    "# df_train = pd.read_csv(TRAIN_INPUT, usecols = ['Metadata_Batch'])"
   ]
  },
  {
   "cell_type": "code",
   "execution_count": 27,
   "id": "86fe0c0e-7d78-4a6a-90fc-656cfd4b8843",
   "metadata": {
    "execution": {
     "iopub.execute_input": "2024-12-07T11:57:22.370291Z",
     "iopub.status.busy": "2024-12-07T11:57:22.369756Z",
     "iopub.status.idle": "2024-12-07T11:57:22.467726Z",
     "shell.execute_reply": "2024-12-07T11:57:22.467164Z",
     "shell.execute_reply.started": "2024-12-07T11:57:22.370251Z"
    }
   },
   "outputs": [
    {
     "data": {
      "text/plain": [
       "(277200, 261)"
      ]
     },
     "execution_count": 27,
     "metadata": {},
     "output_type": "execute_result"
    },
    {
     "name": "stdout",
     "output_type": "stream",
     "text": [
      "<class 'pandas.core.frame.DataFrame'>\n",
      "RangeIndex: 277200 entries, 0 to 277199\n",
      "Columns: 261 entries, Metadata_Source to Feature_249\n",
      "dtypes: float64(254), int64(2), object(5)\n",
      "memory usage: 552.0+ MB\n"
     ]
    },
    {
     "data": {
      "text/html": [
       "<div>\n",
       "<style scoped>\n",
       "    .dataframe tbody tr th:only-of-type {\n",
       "        vertical-align: middle;\n",
       "    }\n",
       "\n",
       "    .dataframe tbody tr th {\n",
       "        vertical-align: top;\n",
       "    }\n",
       "\n",
       "    .dataframe thead th {\n",
       "        text-align: right;\n",
       "    }\n",
       "</style>\n",
       "<table border=\"1\" class=\"dataframe\">\n",
       "  <thead>\n",
       "    <tr style=\"text-align: right;\">\n",
       "      <th></th>\n",
       "      <th>Metadata_Source</th>\n",
       "      <th>Metadata_Batch</th>\n",
       "      <th>Metadata_Plate</th>\n",
       "      <th>Metadata_Well</th>\n",
       "      <th>Metadata_JCP2022</th>\n",
       "      <th>Metadata_Hash</th>\n",
       "      <th>Metadata_Bin</th>\n",
       "      <th>Metadata_TPSA</th>\n",
       "      <th>Metadata_lnTPSA</th>\n",
       "      <th>Metadata_log10TPSA</th>\n",
       "      <th>...</th>\n",
       "      <th>Feature_240</th>\n",
       "      <th>Feature_241</th>\n",
       "      <th>Feature_242</th>\n",
       "      <th>Feature_243</th>\n",
       "      <th>Feature_244</th>\n",
       "      <th>Feature_245</th>\n",
       "      <th>Feature_246</th>\n",
       "      <th>Feature_247</th>\n",
       "      <th>Feature_248</th>\n",
       "      <th>Feature_249</th>\n",
       "    </tr>\n",
       "  </thead>\n",
       "  <tbody>\n",
       "    <tr>\n",
       "      <th>0</th>\n",
       "      <td>source_1</td>\n",
       "      <td>Batch5_20221030</td>\n",
       "      <td>UL001793</td>\n",
       "      <td>M26</td>\n",
       "      <td>JCP2022_006020</td>\n",
       "      <td>-9223347314827979542</td>\n",
       "      <td>10</td>\n",
       "      <td>71.18</td>\n",
       "      <td>4.265212</td>\n",
       "      <td>1.852358</td>\n",
       "      <td>...</td>\n",
       "      <td>0.009390</td>\n",
       "      <td>-0.008253</td>\n",
       "      <td>-0.037940</td>\n",
       "      <td>-0.016286</td>\n",
       "      <td>0.022038</td>\n",
       "      <td>0.005269</td>\n",
       "      <td>-0.018263</td>\n",
       "      <td>0.012688</td>\n",
       "      <td>-0.054655</td>\n",
       "      <td>0.004202</td>\n",
       "    </tr>\n",
       "    <tr>\n",
       "      <th>1</th>\n",
       "      <td>source_10</td>\n",
       "      <td>2021_06_22_U2OS_48_hr_run8</td>\n",
       "      <td>Dest210622-143628</td>\n",
       "      <td>M04</td>\n",
       "      <td>JCP2022_006020</td>\n",
       "      <td>-9223347314827979542</td>\n",
       "      <td>10</td>\n",
       "      <td>71.18</td>\n",
       "      <td>4.265212</td>\n",
       "      <td>1.852358</td>\n",
       "      <td>...</td>\n",
       "      <td>0.095957</td>\n",
       "      <td>0.040152</td>\n",
       "      <td>-0.005584</td>\n",
       "      <td>0.046152</td>\n",
       "      <td>-0.024817</td>\n",
       "      <td>0.049557</td>\n",
       "      <td>-0.078429</td>\n",
       "      <td>0.029078</td>\n",
       "      <td>-0.124861</td>\n",
       "      <td>0.021048</td>\n",
       "    </tr>\n",
       "    <tr>\n",
       "      <th>2</th>\n",
       "      <td>source_3</td>\n",
       "      <td>CP_31_all_Phenix1</td>\n",
       "      <td>B040603b</td>\n",
       "      <td>G13</td>\n",
       "      <td>JCP2022_006020</td>\n",
       "      <td>-9223347314827979542</td>\n",
       "      <td>10</td>\n",
       "      <td>71.18</td>\n",
       "      <td>4.265212</td>\n",
       "      <td>1.852358</td>\n",
       "      <td>...</td>\n",
       "      <td>0.017318</td>\n",
       "      <td>-0.012258</td>\n",
       "      <td>-0.079632</td>\n",
       "      <td>-0.032763</td>\n",
       "      <td>0.054452</td>\n",
       "      <td>0.009448</td>\n",
       "      <td>-0.038036</td>\n",
       "      <td>0.030926</td>\n",
       "      <td>-0.111577</td>\n",
       "      <td>0.015640</td>\n",
       "    </tr>\n",
       "    <tr>\n",
       "      <th>3</th>\n",
       "      <td>source_6</td>\n",
       "      <td>p211004CPU2OS48hw384exp031JUMP</td>\n",
       "      <td>110000295562</td>\n",
       "      <td>M08</td>\n",
       "      <td>JCP2022_058905</td>\n",
       "      <td>-9223229703754907651</td>\n",
       "      <td>13</td>\n",
       "      <td>58.65</td>\n",
       "      <td>4.071588</td>\n",
       "      <td>1.768268</td>\n",
       "      <td>...</td>\n",
       "      <td>-0.114507</td>\n",
       "      <td>0.006824</td>\n",
       "      <td>-0.183686</td>\n",
       "      <td>0.006500</td>\n",
       "      <td>-0.066820</td>\n",
       "      <td>0.013238</td>\n",
       "      <td>-0.087850</td>\n",
       "      <td>-0.010228</td>\n",
       "      <td>-0.111716</td>\n",
       "      <td>-0.066975</td>\n",
       "    </tr>\n",
       "    <tr>\n",
       "      <th>4</th>\n",
       "      <td>source_3</td>\n",
       "      <td>CP_32_all_Phenix1</td>\n",
       "      <td>B40003aW</td>\n",
       "      <td>M08</td>\n",
       "      <td>JCP2022_058905</td>\n",
       "      <td>-9223229703754907651</td>\n",
       "      <td>13</td>\n",
       "      <td>58.65</td>\n",
       "      <td>4.071588</td>\n",
       "      <td>1.768268</td>\n",
       "      <td>...</td>\n",
       "      <td>-0.035176</td>\n",
       "      <td>0.004032</td>\n",
       "      <td>-0.049694</td>\n",
       "      <td>0.004337</td>\n",
       "      <td>-0.024952</td>\n",
       "      <td>0.003663</td>\n",
       "      <td>-0.024778</td>\n",
       "      <td>-0.007309</td>\n",
       "      <td>-0.026831</td>\n",
       "      <td>-0.021770</td>\n",
       "    </tr>\n",
       "    <tr>\n",
       "      <th>5</th>\n",
       "      <td>source_10</td>\n",
       "      <td>2021_08_23_U2OS_48_hr_run18</td>\n",
       "      <td>Dest210823-174733</td>\n",
       "      <td>I13</td>\n",
       "      <td>JCP2022_058905</td>\n",
       "      <td>-9223229703754907651</td>\n",
       "      <td>13</td>\n",
       "      <td>58.65</td>\n",
       "      <td>4.071588</td>\n",
       "      <td>1.768268</td>\n",
       "      <td>...</td>\n",
       "      <td>-0.027139</td>\n",
       "      <td>0.004088</td>\n",
       "      <td>-0.046459</td>\n",
       "      <td>-0.001154</td>\n",
       "      <td>-0.007352</td>\n",
       "      <td>0.002606</td>\n",
       "      <td>-0.018406</td>\n",
       "      <td>-0.002382</td>\n",
       "      <td>-0.020955</td>\n",
       "      <td>-0.010549</td>\n",
       "    </tr>\n",
       "    <tr>\n",
       "      <th>6</th>\n",
       "      <td>source_1</td>\n",
       "      <td>Batch6_20221102</td>\n",
       "      <td>UL000587</td>\n",
       "      <td>O34</td>\n",
       "      <td>JCP2022_051160</td>\n",
       "      <td>-9223005963369866647</td>\n",
       "      <td>9</td>\n",
       "      <td>68.54</td>\n",
       "      <td>4.227418</td>\n",
       "      <td>1.835944</td>\n",
       "      <td>...</td>\n",
       "      <td>-0.002073</td>\n",
       "      <td>-0.000038</td>\n",
       "      <td>-0.015420</td>\n",
       "      <td>-0.004371</td>\n",
       "      <td>0.008355</td>\n",
       "      <td>0.001346</td>\n",
       "      <td>0.001348</td>\n",
       "      <td>0.000147</td>\n",
       "      <td>-0.001792</td>\n",
       "      <td>0.003041</td>\n",
       "    </tr>\n",
       "    <tr>\n",
       "      <th>7</th>\n",
       "      <td>source_6</td>\n",
       "      <td>p211109CPU2OS48hw384exp035JUMP</td>\n",
       "      <td>110000296167</td>\n",
       "      <td>H17</td>\n",
       "      <td>JCP2022_051160</td>\n",
       "      <td>-9223005963369866647</td>\n",
       "      <td>9</td>\n",
       "      <td>68.54</td>\n",
       "      <td>4.227418</td>\n",
       "      <td>1.835944</td>\n",
       "      <td>...</td>\n",
       "      <td>-0.001083</td>\n",
       "      <td>0.000195</td>\n",
       "      <td>-0.005991</td>\n",
       "      <td>-0.001536</td>\n",
       "      <td>0.002483</td>\n",
       "      <td>0.000756</td>\n",
       "      <td>0.000326</td>\n",
       "      <td>-0.000075</td>\n",
       "      <td>-0.000487</td>\n",
       "      <td>0.001296</td>\n",
       "    </tr>\n",
       "    <tr>\n",
       "      <th>8</th>\n",
       "      <td>source_3</td>\n",
       "      <td>CP_26_all_Phenix1</td>\n",
       "      <td>J12455b</td>\n",
       "      <td>H17</td>\n",
       "      <td>JCP2022_051160</td>\n",
       "      <td>-9223005963369866647</td>\n",
       "      <td>9</td>\n",
       "      <td>68.54</td>\n",
       "      <td>4.227418</td>\n",
       "      <td>1.835944</td>\n",
       "      <td>...</td>\n",
       "      <td>-0.002815</td>\n",
       "      <td>0.000509</td>\n",
       "      <td>-0.013885</td>\n",
       "      <td>-0.003420</td>\n",
       "      <td>0.004727</td>\n",
       "      <td>0.001575</td>\n",
       "      <td>0.001028</td>\n",
       "      <td>-0.000059</td>\n",
       "      <td>-0.000732</td>\n",
       "      <td>0.002771</td>\n",
       "    </tr>\n",
       "    <tr>\n",
       "      <th>9</th>\n",
       "      <td>source_2</td>\n",
       "      <td>20210712_Batch_5</td>\n",
       "      <td>1053597875</td>\n",
       "      <td>K10</td>\n",
       "      <td>JCP2022_038591</td>\n",
       "      <td>-9222975330808494972</td>\n",
       "      <td>4</td>\n",
       "      <td>51.22</td>\n",
       "      <td>3.936130</td>\n",
       "      <td>1.709440</td>\n",
       "      <td>...</td>\n",
       "      <td>-0.090655</td>\n",
       "      <td>0.014275</td>\n",
       "      <td>-0.161705</td>\n",
       "      <td>0.008399</td>\n",
       "      <td>-0.085380</td>\n",
       "      <td>0.022014</td>\n",
       "      <td>-0.100648</td>\n",
       "      <td>-0.025694</td>\n",
       "      <td>-0.134630</td>\n",
       "      <td>-0.070563</td>\n",
       "    </tr>\n",
       "  </tbody>\n",
       "</table>\n",
       "<p>10 rows × 261 columns</p>\n",
       "</div>"
      ],
      "text/plain": [
       "  Metadata_Source                  Metadata_Batch     Metadata_Plate Metadata_Well Metadata_JCP2022        Metadata_Hash  \\\n",
       "0        source_1                 Batch5_20221030           UL001793           M26   JCP2022_006020 -9223347314827979542   \n",
       "1       source_10      2021_06_22_U2OS_48_hr_run8  Dest210622-143628           M04   JCP2022_006020 -9223347314827979542   \n",
       "2        source_3               CP_31_all_Phenix1           B040603b           G13   JCP2022_006020 -9223347314827979542   \n",
       "3        source_6  p211004CPU2OS48hw384exp031JUMP       110000295562           M08   JCP2022_058905 -9223229703754907651   \n",
       "4        source_3               CP_32_all_Phenix1           B40003aW           M08   JCP2022_058905 -9223229703754907651   \n",
       "5       source_10     2021_08_23_U2OS_48_hr_run18  Dest210823-174733           I13   JCP2022_058905 -9223229703754907651   \n",
       "6        source_1                 Batch6_20221102           UL000587           O34   JCP2022_051160 -9223005963369866647   \n",
       "7        source_6  p211109CPU2OS48hw384exp035JUMP       110000296167           H17   JCP2022_051160 -9223005963369866647   \n",
       "8        source_3               CP_26_all_Phenix1            J12455b           H17   JCP2022_051160 -9223005963369866647   \n",
       "9        source_2                20210712_Batch_5         1053597875           K10   JCP2022_038591 -9222975330808494972   \n",
       "\n",
       "   Metadata_Bin  Metadata_TPSA  Metadata_lnTPSA  Metadata_log10TPSA  ...  Feature_240  Feature_241  Feature_242  Feature_243  \\\n",
       "0            10          71.18         4.265212            1.852358  ...     0.009390    -0.008253    -0.037940    -0.016286   \n",
       "1            10          71.18         4.265212            1.852358  ...     0.095957     0.040152    -0.005584     0.046152   \n",
       "2            10          71.18         4.265212            1.852358  ...     0.017318    -0.012258    -0.079632    -0.032763   \n",
       "3            13          58.65         4.071588            1.768268  ...    -0.114507     0.006824    -0.183686     0.006500   \n",
       "4            13          58.65         4.071588            1.768268  ...    -0.035176     0.004032    -0.049694     0.004337   \n",
       "5            13          58.65         4.071588            1.768268  ...    -0.027139     0.004088    -0.046459    -0.001154   \n",
       "6             9          68.54         4.227418            1.835944  ...    -0.002073    -0.000038    -0.015420    -0.004371   \n",
       "7             9          68.54         4.227418            1.835944  ...    -0.001083     0.000195    -0.005991    -0.001536   \n",
       "8             9          68.54         4.227418            1.835944  ...    -0.002815     0.000509    -0.013885    -0.003420   \n",
       "9             4          51.22         3.936130            1.709440  ...    -0.090655     0.014275    -0.161705     0.008399   \n",
       "\n",
       "   Feature_244  Feature_245  Feature_246  Feature_247  Feature_248  Feature_249  \n",
       "0     0.022038     0.005269    -0.018263     0.012688    -0.054655     0.004202  \n",
       "1    -0.024817     0.049557    -0.078429     0.029078    -0.124861     0.021048  \n",
       "2     0.054452     0.009448    -0.038036     0.030926    -0.111577     0.015640  \n",
       "3    -0.066820     0.013238    -0.087850    -0.010228    -0.111716    -0.066975  \n",
       "4    -0.024952     0.003663    -0.024778    -0.007309    -0.026831    -0.021770  \n",
       "5    -0.007352     0.002606    -0.018406    -0.002382    -0.020955    -0.010549  \n",
       "6     0.008355     0.001346     0.001348     0.000147    -0.001792     0.003041  \n",
       "7     0.002483     0.000756     0.000326    -0.000075    -0.000487     0.001296  \n",
       "8     0.004727     0.001575     0.001028    -0.000059    -0.000732     0.002771  \n",
       "9    -0.085380     0.022014    -0.100648    -0.025694    -0.134630    -0.070563  \n",
       "\n",
       "[10 rows x 261 columns]"
      ]
     },
     "execution_count": 27,
     "metadata": {},
     "output_type": "execute_result"
    },
    {
     "data": {
      "text/html": [
       "<div>\n",
       "<style scoped>\n",
       "    .dataframe tbody tr th:only-of-type {\n",
       "        vertical-align: middle;\n",
       "    }\n",
       "\n",
       "    .dataframe tbody tr th {\n",
       "        vertical-align: top;\n",
       "    }\n",
       "\n",
       "    .dataframe thead th {\n",
       "        text-align: right;\n",
       "    }\n",
       "</style>\n",
       "<table border=\"1\" class=\"dataframe\">\n",
       "  <thead>\n",
       "    <tr style=\"text-align: right;\">\n",
       "      <th></th>\n",
       "      <th>Metadata_Source</th>\n",
       "      <th>Metadata_Batch</th>\n",
       "      <th>Metadata_Plate</th>\n",
       "      <th>Metadata_Well</th>\n",
       "      <th>Metadata_JCP2022</th>\n",
       "      <th>Metadata_Hash</th>\n",
       "      <th>Metadata_Bin</th>\n",
       "      <th>Metadata_TPSA</th>\n",
       "      <th>Metadata_lnTPSA</th>\n",
       "      <th>Metadata_log10TPSA</th>\n",
       "      <th>...</th>\n",
       "      <th>Feature_240</th>\n",
       "      <th>Feature_241</th>\n",
       "      <th>Feature_242</th>\n",
       "      <th>Feature_243</th>\n",
       "      <th>Feature_244</th>\n",
       "      <th>Feature_245</th>\n",
       "      <th>Feature_246</th>\n",
       "      <th>Feature_247</th>\n",
       "      <th>Feature_248</th>\n",
       "      <th>Feature_249</th>\n",
       "    </tr>\n",
       "  </thead>\n",
       "  <tbody>\n",
       "    <tr>\n",
       "      <th>277190</th>\n",
       "      <td>source_9</td>\n",
       "      <td>20211102-Run15</td>\n",
       "      <td>GR00004398</td>\n",
       "      <td>J35</td>\n",
       "      <td>JCP2022_089792</td>\n",
       "      <td>5548393758141673059</td>\n",
       "      <td>3</td>\n",
       "      <td>100.28</td>\n",
       "      <td>4.607966</td>\n",
       "      <td>2.001214</td>\n",
       "      <td>...</td>\n",
       "      <td>0.043714</td>\n",
       "      <td>-0.023889</td>\n",
       "      <td>0.018405</td>\n",
       "      <td>-0.099165</td>\n",
       "      <td>-0.042791</td>\n",
       "      <td>0.017094</td>\n",
       "      <td>0.023605</td>\n",
       "      <td>-0.207248</td>\n",
       "      <td>-0.161952</td>\n",
       "      <td>-0.112904</td>\n",
       "    </tr>\n",
       "    <tr>\n",
       "      <th>277191</th>\n",
       "      <td>source_3</td>\n",
       "      <td>CP_29_all_Phenix1</td>\n",
       "      <td>SP28P31d</td>\n",
       "      <td>L08</td>\n",
       "      <td>JCP2022_054246</td>\n",
       "      <td>5548833810863940256</td>\n",
       "      <td>0</td>\n",
       "      <td>83.10</td>\n",
       "      <td>4.420045</td>\n",
       "      <td>1.919601</td>\n",
       "      <td>...</td>\n",
       "      <td>-0.001373</td>\n",
       "      <td>0.001591</td>\n",
       "      <td>0.001995</td>\n",
       "      <td>-0.000417</td>\n",
       "      <td>-0.000101</td>\n",
       "      <td>0.000257</td>\n",
       "      <td>-0.001203</td>\n",
       "      <td>-0.000849</td>\n",
       "      <td>0.001829</td>\n",
       "      <td>-0.000155</td>\n",
       "    </tr>\n",
       "    <tr>\n",
       "      <th>277192</th>\n",
       "      <td>source_1</td>\n",
       "      <td>Batch6_20221102</td>\n",
       "      <td>UL000595</td>\n",
       "      <td>X16</td>\n",
       "      <td>JCP2022_054246</td>\n",
       "      <td>5548833810863940256</td>\n",
       "      <td>0</td>\n",
       "      <td>83.10</td>\n",
       "      <td>4.420045</td>\n",
       "      <td>1.919601</td>\n",
       "      <td>...</td>\n",
       "      <td>-0.001384</td>\n",
       "      <td>0.002455</td>\n",
       "      <td>0.001797</td>\n",
       "      <td>-0.000097</td>\n",
       "      <td>0.000234</td>\n",
       "      <td>-0.000613</td>\n",
       "      <td>-0.000397</td>\n",
       "      <td>-0.000183</td>\n",
       "      <td>0.001504</td>\n",
       "      <td>-0.000503</td>\n",
       "    </tr>\n",
       "    <tr>\n",
       "      <th>277193</th>\n",
       "      <td>source_10</td>\n",
       "      <td>2021_08_23_U2OS_48_hr_run18</td>\n",
       "      <td>Dest210823-175355</td>\n",
       "      <td>G13</td>\n",
       "      <td>JCP2022_054246</td>\n",
       "      <td>5548833810863940256</td>\n",
       "      <td>0</td>\n",
       "      <td>83.10</td>\n",
       "      <td>4.420045</td>\n",
       "      <td>1.919601</td>\n",
       "      <td>...</td>\n",
       "      <td>-0.003192</td>\n",
       "      <td>0.005639</td>\n",
       "      <td>0.002362</td>\n",
       "      <td>-0.001499</td>\n",
       "      <td>0.003252</td>\n",
       "      <td>0.000746</td>\n",
       "      <td>-0.001600</td>\n",
       "      <td>-0.000768</td>\n",
       "      <td>0.002042</td>\n",
       "      <td>0.000387</td>\n",
       "    </tr>\n",
       "    <tr>\n",
       "      <th>277194</th>\n",
       "      <td>source_6</td>\n",
       "      <td>p211109CPU2OS48hw384exp035JUMP</td>\n",
       "      <td>110000295497</td>\n",
       "      <td>G21</td>\n",
       "      <td>JCP2022_040737</td>\n",
       "      <td>5548902807653184645</td>\n",
       "      <td>5</td>\n",
       "      <td>55.55</td>\n",
       "      <td>4.017284</td>\n",
       "      <td>1.744684</td>\n",
       "      <td>...</td>\n",
       "      <td>0.001568</td>\n",
       "      <td>0.000434</td>\n",
       "      <td>-0.000401</td>\n",
       "      <td>-0.000586</td>\n",
       "      <td>0.002026</td>\n",
       "      <td>-0.001268</td>\n",
       "      <td>0.001957</td>\n",
       "      <td>0.001270</td>\n",
       "      <td>-0.000848</td>\n",
       "      <td>-0.000347</td>\n",
       "    </tr>\n",
       "    <tr>\n",
       "      <th>277195</th>\n",
       "      <td>source_8</td>\n",
       "      <td>J3</td>\n",
       "      <td>A1170503</td>\n",
       "      <td>G21</td>\n",
       "      <td>JCP2022_040737</td>\n",
       "      <td>5548902807653184645</td>\n",
       "      <td>5</td>\n",
       "      <td>55.55</td>\n",
       "      <td>4.017284</td>\n",
       "      <td>1.744684</td>\n",
       "      <td>...</td>\n",
       "      <td>0.001871</td>\n",
       "      <td>0.000387</td>\n",
       "      <td>-0.000532</td>\n",
       "      <td>-0.000985</td>\n",
       "      <td>0.002243</td>\n",
       "      <td>-0.001190</td>\n",
       "      <td>0.002249</td>\n",
       "      <td>0.001333</td>\n",
       "      <td>-0.001061</td>\n",
       "      <td>-0.000294</td>\n",
       "    </tr>\n",
       "    <tr>\n",
       "      <th>277196</th>\n",
       "      <td>source_10</td>\n",
       "      <td>2021_08_17_U2OS_48_hr_run16</td>\n",
       "      <td>Dest210809-140929</td>\n",
       "      <td>N19</td>\n",
       "      <td>JCP2022_040737</td>\n",
       "      <td>5548902807653184645</td>\n",
       "      <td>5</td>\n",
       "      <td>55.55</td>\n",
       "      <td>4.017284</td>\n",
       "      <td>1.744684</td>\n",
       "      <td>...</td>\n",
       "      <td>0.002895</td>\n",
       "      <td>0.000394</td>\n",
       "      <td>-0.001226</td>\n",
       "      <td>-0.001490</td>\n",
       "      <td>0.003483</td>\n",
       "      <td>-0.002166</td>\n",
       "      <td>0.003738</td>\n",
       "      <td>0.002156</td>\n",
       "      <td>-0.001370</td>\n",
       "      <td>-0.000499</td>\n",
       "    </tr>\n",
       "    <tr>\n",
       "      <th>277197</th>\n",
       "      <td>source_5</td>\n",
       "      <td>JUMPCPE-20211001-Run34_20211003_121618</td>\n",
       "      <td>APTJUM513</td>\n",
       "      <td>I14</td>\n",
       "      <td>JCP2022_100922</td>\n",
       "      <td>5548998150937919747</td>\n",
       "      <td>3</td>\n",
       "      <td>79.96</td>\n",
       "      <td>4.381527</td>\n",
       "      <td>1.902873</td>\n",
       "      <td>...</td>\n",
       "      <td>0.078374</td>\n",
       "      <td>0.063444</td>\n",
       "      <td>0.129917</td>\n",
       "      <td>0.051093</td>\n",
       "      <td>0.011726</td>\n",
       "      <td>-0.021745</td>\n",
       "      <td>-0.050653</td>\n",
       "      <td>-0.016714</td>\n",
       "      <td>0.055179</td>\n",
       "      <td>0.020004</td>\n",
       "    </tr>\n",
       "    <tr>\n",
       "      <th>277198</th>\n",
       "      <td>source_11</td>\n",
       "      <td>Batch1</td>\n",
       "      <td>EC000029</td>\n",
       "      <td>J07</td>\n",
       "      <td>JCP2022_100922</td>\n",
       "      <td>5548998150937919747</td>\n",
       "      <td>3</td>\n",
       "      <td>79.96</td>\n",
       "      <td>4.381527</td>\n",
       "      <td>1.902873</td>\n",
       "      <td>...</td>\n",
       "      <td>0.271270</td>\n",
       "      <td>0.117052</td>\n",
       "      <td>0.444226</td>\n",
       "      <td>0.021117</td>\n",
       "      <td>-0.012003</td>\n",
       "      <td>-0.033863</td>\n",
       "      <td>-0.132913</td>\n",
       "      <td>-0.304590</td>\n",
       "      <td>-0.049435</td>\n",
       "      <td>-0.070351</td>\n",
       "    </tr>\n",
       "    <tr>\n",
       "      <th>277199</th>\n",
       "      <td>source_5</td>\n",
       "      <td>JUMPCPE-20210706-Run06_20210706_235916</td>\n",
       "      <td>APTJUM213</td>\n",
       "      <td>I14</td>\n",
       "      <td>JCP2022_100922</td>\n",
       "      <td>5548998150937919747</td>\n",
       "      <td>3</td>\n",
       "      <td>79.96</td>\n",
       "      <td>4.381527</td>\n",
       "      <td>1.902873</td>\n",
       "      <td>...</td>\n",
       "      <td>0.131365</td>\n",
       "      <td>0.045351</td>\n",
       "      <td>0.195222</td>\n",
       "      <td>0.096053</td>\n",
       "      <td>0.026607</td>\n",
       "      <td>-0.065916</td>\n",
       "      <td>-0.088988</td>\n",
       "      <td>0.005895</td>\n",
       "      <td>0.127548</td>\n",
       "      <td>0.035524</td>\n",
       "    </tr>\n",
       "  </tbody>\n",
       "</table>\n",
       "<p>10 rows × 261 columns</p>\n",
       "</div>"
      ],
      "text/plain": [
       "       Metadata_Source                          Metadata_Batch     Metadata_Plate Metadata_Well Metadata_JCP2022  \\\n",
       "277190        source_9                          20211102-Run15         GR00004398           J35   JCP2022_089792   \n",
       "277191        source_3                       CP_29_all_Phenix1           SP28P31d           L08   JCP2022_054246   \n",
       "277192        source_1                         Batch6_20221102           UL000595           X16   JCP2022_054246   \n",
       "277193       source_10             2021_08_23_U2OS_48_hr_run18  Dest210823-175355           G13   JCP2022_054246   \n",
       "277194        source_6          p211109CPU2OS48hw384exp035JUMP       110000295497           G21   JCP2022_040737   \n",
       "277195        source_8                                      J3           A1170503           G21   JCP2022_040737   \n",
       "277196       source_10             2021_08_17_U2OS_48_hr_run16  Dest210809-140929           N19   JCP2022_040737   \n",
       "277197        source_5  JUMPCPE-20211001-Run34_20211003_121618          APTJUM513           I14   JCP2022_100922   \n",
       "277198       source_11                                  Batch1           EC000029           J07   JCP2022_100922   \n",
       "277199        source_5  JUMPCPE-20210706-Run06_20210706_235916          APTJUM213           I14   JCP2022_100922   \n",
       "\n",
       "              Metadata_Hash  Metadata_Bin  Metadata_TPSA  Metadata_lnTPSA  Metadata_log10TPSA  ...  Feature_240  Feature_241  \\\n",
       "277190  5548393758141673059             3         100.28         4.607966            2.001214  ...     0.043714    -0.023889   \n",
       "277191  5548833810863940256             0          83.10         4.420045            1.919601  ...    -0.001373     0.001591   \n",
       "277192  5548833810863940256             0          83.10         4.420045            1.919601  ...    -0.001384     0.002455   \n",
       "277193  5548833810863940256             0          83.10         4.420045            1.919601  ...    -0.003192     0.005639   \n",
       "277194  5548902807653184645             5          55.55         4.017284            1.744684  ...     0.001568     0.000434   \n",
       "277195  5548902807653184645             5          55.55         4.017284            1.744684  ...     0.001871     0.000387   \n",
       "277196  5548902807653184645             5          55.55         4.017284            1.744684  ...     0.002895     0.000394   \n",
       "277197  5548998150937919747             3          79.96         4.381527            1.902873  ...     0.078374     0.063444   \n",
       "277198  5548998150937919747             3          79.96         4.381527            1.902873  ...     0.271270     0.117052   \n",
       "277199  5548998150937919747             3          79.96         4.381527            1.902873  ...     0.131365     0.045351   \n",
       "\n",
       "        Feature_242  Feature_243  Feature_244  Feature_245  Feature_246  Feature_247  Feature_248  Feature_249  \n",
       "277190     0.018405    -0.099165    -0.042791     0.017094     0.023605    -0.207248    -0.161952    -0.112904  \n",
       "277191     0.001995    -0.000417    -0.000101     0.000257    -0.001203    -0.000849     0.001829    -0.000155  \n",
       "277192     0.001797    -0.000097     0.000234    -0.000613    -0.000397    -0.000183     0.001504    -0.000503  \n",
       "277193     0.002362    -0.001499     0.003252     0.000746    -0.001600    -0.000768     0.002042     0.000387  \n",
       "277194    -0.000401    -0.000586     0.002026    -0.001268     0.001957     0.001270    -0.000848    -0.000347  \n",
       "277195    -0.000532    -0.000985     0.002243    -0.001190     0.002249     0.001333    -0.001061    -0.000294  \n",
       "277196    -0.001226    -0.001490     0.003483    -0.002166     0.003738     0.002156    -0.001370    -0.000499  \n",
       "277197     0.129917     0.051093     0.011726    -0.021745    -0.050653    -0.016714     0.055179     0.020004  \n",
       "277198     0.444226     0.021117    -0.012003    -0.033863    -0.132913    -0.304590    -0.049435    -0.070351  \n",
       "277199     0.195222     0.096053     0.026607    -0.065916    -0.088988     0.005895     0.127548     0.035524  \n",
       "\n",
       "[10 rows x 261 columns]"
      ]
     },
     "execution_count": 27,
     "metadata": {},
     "output_type": "execute_result"
    }
   ],
   "source": [
    "df_train_x.shape\n",
    "df_train_x.info()\n",
    "# df_train_x.iloc[:5,4:16]\n",
    "df_train_x.head(10)\n",
    "df_train_x.tail(10)"
   ]
  },
  {
   "cell_type": "code",
   "execution_count": 28,
   "id": "6cef2442-7a70-4ebc-9d38-c1151fd5a085",
   "metadata": {
    "execution": {
     "iopub.execute_input": "2024-12-07T11:57:28.993889Z",
     "iopub.status.busy": "2024-12-07T11:57:28.993294Z",
     "iopub.status.idle": "2024-12-07T11:57:29.041633Z",
     "shell.execute_reply": "2024-12-07T11:57:29.041114Z",
     "shell.execute_reply.started": "2024-12-07T11:57:28.993838Z"
    }
   },
   "outputs": [
    {
     "data": {
      "text/plain": [
       "(277200,)"
      ]
     },
     "execution_count": 28,
     "metadata": {},
     "output_type": "execute_result"
    },
    {
     "name": "stdout",
     "output_type": "stream",
     "text": [
      "<class 'pandas.core.series.Series'>\n",
      "RangeIndex: 277200 entries, 0 to 277199\n",
      "Series name: Metadata_Permiation\n",
      "Non-Null Count   Dtype\n",
      "--------------   -----\n",
      "277200 non-null  int64\n",
      "dtypes: int64(1)\n",
      "memory usage: 2.1 MB\n"
     ]
    },
    {
     "data": {
      "text/plain": [
       "0    0\n",
       "1    0\n",
       "2    0\n",
       "3    0\n",
       "4    0\n",
       "5    0\n",
       "6    0\n",
       "7    0\n",
       "8    0\n",
       "9    0\n",
       "Name: Metadata_Permiation, dtype: int64"
      ]
     },
     "execution_count": 28,
     "metadata": {},
     "output_type": "execute_result"
    },
    {
     "data": {
      "text/plain": [
       "277190    1\n",
       "277191    0\n",
       "277192    0\n",
       "277193    0\n",
       "277194    0\n",
       "277195    0\n",
       "277196    0\n",
       "277197    0\n",
       "277198    0\n",
       "277199    0\n",
       "Name: Metadata_Permiation, dtype: int64"
      ]
     },
     "execution_count": 28,
     "metadata": {},
     "output_type": "execute_result"
    }
   ],
   "source": [
    "# df_train_y = pd.read_csv(TRAIN_INPUT_Y)\n",
    "df_train_y = df_train_x.Metadata_Permiation.astype(np.int64)\n",
    "\n",
    "df_train_y.shape\n",
    "df_train_y.info()\n",
    "df_train_y.iloc[:10]\n",
    "df_train_y.iloc[-10:]"
   ]
  },
  {
   "cell_type": "code",
   "execution_count": 29,
   "id": "cdc076ef-9f5b-429f-8ace-9b81217e53b0",
   "metadata": {
    "execution": {
     "iopub.execute_input": "2024-12-07T11:57:39.697840Z",
     "iopub.status.busy": "2024-12-07T11:57:39.697339Z",
     "iopub.status.idle": "2024-12-07T11:57:39.737879Z",
     "shell.execute_reply": "2024-12-07T11:57:39.737231Z",
     "shell.execute_reply.started": "2024-12-07T11:57:39.697800Z"
    }
   },
   "outputs": [
    {
     "data": {
      "text/plain": [
       "((277200, 261), pandas.core.frame.DataFrame)"
      ]
     },
     "execution_count": 29,
     "metadata": {},
     "output_type": "execute_result"
    },
    {
     "data": {
      "text/plain": [
       "((277200,), pandas.core.series.Series)"
      ]
     },
     "execution_count": 29,
     "metadata": {},
     "output_type": "execute_result"
    }
   ],
   "source": [
    "df_train_x.shape, type(df_train_x)\n",
    "df_train_y.shape, type(df_train_y)"
   ]
  },
  {
   "cell_type": "code",
   "execution_count": 30,
   "id": "81f13cbc-6685-4782-8e5d-64b4332fb5b8",
   "metadata": {
    "execution": {
     "iopub.execute_input": "2024-12-07T11:57:41.271437Z",
     "iopub.status.busy": "2024-12-07T11:57:41.270994Z",
     "iopub.status.idle": "2024-12-07T11:57:41.306726Z",
     "shell.execute_reply": "2024-12-07T11:57:41.305906Z",
     "shell.execute_reply.started": "2024-12-07T11:57:41.271400Z"
    }
   },
   "outputs": [],
   "source": [
    "# del train_x, train_y"
   ]
  },
  {
   "cell_type": "markdown",
   "id": "252f849a-8dcf-45d9-af13-9b4a57e6d68a",
   "metadata": {},
   "source": [
    "## Test Data "
   ]
  },
  {
   "cell_type": "code",
   "execution_count": 31,
   "id": "f5a700e0-6a2b-43c4-9985-baaf6cef929e",
   "metadata": {
    "execution": {
     "iopub.execute_input": "2024-12-07T11:57:46.877170Z",
     "iopub.status.busy": "2024-12-07T11:57:46.876683Z",
     "iopub.status.idle": "2024-12-07T11:57:46.916034Z",
     "shell.execute_reply": "2024-12-07T11:57:46.915505Z",
     "shell.execute_reply.started": "2024-12-07T11:57:46.877130Z"
    }
   },
   "outputs": [
    {
     "data": {
      "text/plain": [
       "'/home/kevin/WSL-shared/cellpainting/cj-datasets/output_11102023/3_sample_embeddings/3smpl_prfl_embedding_261_HashOrder_snnl_20240917_2004_LAST_test.csv'"
      ]
     },
     "execution_count": 31,
     "metadata": {},
     "output_type": "execute_result"
    },
    {
     "data": {
      "text/plain": [
       "'/home/kevin/WSL-shared/cellpainting/cj-datasets/output_11102023/3_sample_profiles/3sample_pharmacophores_261_HashOrder_test.csv'"
      ]
     },
     "execution_count": 31,
     "metadata": {},
     "output_type": "execute_result"
    }
   ],
   "source": [
    "TEST_INPUT_X\n",
    "TEST_INPUT_Y"
   ]
  },
  {
   "cell_type": "code",
   "execution_count": 32,
   "id": "04062c4e-fc80-4fdf-8171-a4caeda72763",
   "metadata": {
    "execution": {
     "iopub.execute_input": "2024-12-07T11:57:54.785986Z",
     "iopub.status.busy": "2024-12-07T11:57:54.785491Z",
     "iopub.status.idle": "2024-12-07T11:57:55.516309Z",
     "shell.execute_reply": "2024-12-07T11:57:55.515644Z",
     "shell.execute_reply.started": "2024-12-07T11:57:54.785948Z"
    }
   },
   "outputs": [
    {
     "name": "stdout",
     "output_type": "stream",
     "text": [
      "<class 'pandas.core.frame.DataFrame'>\n",
      "RangeIndex: 12600 entries, 0 to 12599\n",
      "Columns: 261 entries, Metadata_Source to Feature_249\n",
      "dtypes: float64(254), int64(2), object(5)\n",
      "memory usage: 25.1+ MB\n"
     ]
    },
    {
     "data": {
      "text/plain": [
       "(12600, 261)"
      ]
     },
     "execution_count": 32,
     "metadata": {},
     "output_type": "execute_result"
    },
    {
     "data": {
      "text/plain": [
       "Index(['Metadata_Source', 'Metadata_Batch', 'Metadata_Plate', 'Metadata_Well', 'Metadata_JCP2022', 'Metadata_Hash', 'Metadata_Bin',\n",
       "       'Metadata_TPSA', 'Metadata_lnTPSA', 'Metadata_log10TPSA',\n",
       "       ...\n",
       "       'Feature_240', 'Feature_241', 'Feature_242', 'Feature_243', 'Feature_244', 'Feature_245', 'Feature_246', 'Feature_247',\n",
       "       'Feature_248', 'Feature_249'],\n",
       "      dtype='object', length=261)"
      ]
     },
     "execution_count": 32,
     "metadata": {},
     "output_type": "execute_result"
    },
    {
     "data": {
      "text/html": [
       "<div>\n",
       "<style scoped>\n",
       "    .dataframe tbody tr th:only-of-type {\n",
       "        vertical-align: middle;\n",
       "    }\n",
       "\n",
       "    .dataframe tbody tr th {\n",
       "        vertical-align: top;\n",
       "    }\n",
       "\n",
       "    .dataframe thead th {\n",
       "        text-align: right;\n",
       "    }\n",
       "</style>\n",
       "<table border=\"1\" class=\"dataframe\">\n",
       "  <thead>\n",
       "    <tr style=\"text-align: right;\">\n",
       "      <th></th>\n",
       "      <th>Metadata_Source</th>\n",
       "      <th>Metadata_Batch</th>\n",
       "      <th>Metadata_Plate</th>\n",
       "      <th>Metadata_Well</th>\n",
       "      <th>Metadata_JCP2022</th>\n",
       "      <th>Metadata_Hash</th>\n",
       "      <th>Metadata_Bin</th>\n",
       "      <th>Metadata_TPSA</th>\n",
       "      <th>Metadata_lnTPSA</th>\n",
       "      <th>Metadata_log10TPSA</th>\n",
       "      <th>Metadata_Permiation</th>\n",
       "      <th>Feature_000</th>\n",
       "      <th>Feature_001</th>\n",
       "    </tr>\n",
       "  </thead>\n",
       "  <tbody>\n",
       "    <tr>\n",
       "      <th>0</th>\n",
       "      <td>source_9</td>\n",
       "      <td>20210914-Run9</td>\n",
       "      <td>GR00003302</td>\n",
       "      <td>H45</td>\n",
       "      <td>JCP2022_004021</td>\n",
       "      <td>6703456398488902534</td>\n",
       "      <td>6</td>\n",
       "      <td>58.04</td>\n",
       "      <td>4.061132</td>\n",
       "      <td>1.763727</td>\n",
       "      <td>0.0</td>\n",
       "      <td>0.916451</td>\n",
       "      <td>0.872596</td>\n",
       "    </tr>\n",
       "    <tr>\n",
       "      <th>1</th>\n",
       "      <td>source_9</td>\n",
       "      <td>20210914-Run9</td>\n",
       "      <td>GR00003301</td>\n",
       "      <td>H21</td>\n",
       "      <td>JCP2022_004021</td>\n",
       "      <td>6703456398488902534</td>\n",
       "      <td>6</td>\n",
       "      <td>58.04</td>\n",
       "      <td>4.061132</td>\n",
       "      <td>1.763727</td>\n",
       "      <td>0.0</td>\n",
       "      <td>0.719237</td>\n",
       "      <td>0.682143</td>\n",
       "    </tr>\n",
       "    <tr>\n",
       "      <th>2</th>\n",
       "      <td>source_9</td>\n",
       "      <td>20210914-Run9</td>\n",
       "      <td>GR00003303</td>\n",
       "      <td>X45</td>\n",
       "      <td>JCP2022_004021</td>\n",
       "      <td>6703456398488902534</td>\n",
       "      <td>6</td>\n",
       "      <td>58.04</td>\n",
       "      <td>4.061132</td>\n",
       "      <td>1.763727</td>\n",
       "      <td>0.0</td>\n",
       "      <td>0.798004</td>\n",
       "      <td>0.805205</td>\n",
       "    </tr>\n",
       "    <tr>\n",
       "      <th>3</th>\n",
       "      <td>source_3</td>\n",
       "      <td>CP_32_all_Phenix1</td>\n",
       "      <td>B40803aW</td>\n",
       "      <td>P21</td>\n",
       "      <td>JCP2022_102146</td>\n",
       "      <td>6704177726803547665</td>\n",
       "      <td>1</td>\n",
       "      <td>86.51</td>\n",
       "      <td>4.460260</td>\n",
       "      <td>1.937066</td>\n",
       "      <td>0.0</td>\n",
       "      <td>-0.134616</td>\n",
       "      <td>-0.200266</td>\n",
       "    </tr>\n",
       "    <tr>\n",
       "      <th>4</th>\n",
       "      <td>source_6</td>\n",
       "      <td>p210928CPU2OS48hw384exp030JUMP</td>\n",
       "      <td>110000296383</td>\n",
       "      <td>P21</td>\n",
       "      <td>JCP2022_102146</td>\n",
       "      <td>6704177726803547665</td>\n",
       "      <td>1</td>\n",
       "      <td>86.51</td>\n",
       "      <td>4.460260</td>\n",
       "      <td>1.937066</td>\n",
       "      <td>0.0</td>\n",
       "      <td>-0.031706</td>\n",
       "      <td>-0.148909</td>\n",
       "    </tr>\n",
       "  </tbody>\n",
       "</table>\n",
       "</div>"
      ],
      "text/plain": [
       "  Metadata_Source                  Metadata_Batch Metadata_Plate Metadata_Well Metadata_JCP2022        Metadata_Hash  \\\n",
       "0        source_9                   20210914-Run9     GR00003302           H45   JCP2022_004021  6703456398488902534   \n",
       "1        source_9                   20210914-Run9     GR00003301           H21   JCP2022_004021  6703456398488902534   \n",
       "2        source_9                   20210914-Run9     GR00003303           X45   JCP2022_004021  6703456398488902534   \n",
       "3        source_3               CP_32_all_Phenix1       B40803aW           P21   JCP2022_102146  6704177726803547665   \n",
       "4        source_6  p210928CPU2OS48hw384exp030JUMP   110000296383           P21   JCP2022_102146  6704177726803547665   \n",
       "\n",
       "   Metadata_Bin  Metadata_TPSA  Metadata_lnTPSA  Metadata_log10TPSA  Metadata_Permiation  Feature_000  Feature_001  \n",
       "0             6          58.04         4.061132            1.763727                  0.0     0.916451     0.872596  \n",
       "1             6          58.04         4.061132            1.763727                  0.0     0.719237     0.682143  \n",
       "2             6          58.04         4.061132            1.763727                  0.0     0.798004     0.805205  \n",
       "3             1          86.51         4.460260            1.937066                  0.0    -0.134616    -0.200266  \n",
       "4             1          86.51         4.460260            1.937066                  0.0    -0.031706    -0.148909  "
      ]
     },
     "execution_count": 32,
     "metadata": {},
     "output_type": "execute_result"
    }
   ],
   "source": [
    "df_test_x = pd.read_csv(TEST_INPUT_X )\n",
    "\n",
    "df_test_x.info()\n",
    "df_test_x.shape\n",
    "df_test_x.columns\n",
    "df_test_x.iloc[:5,:13]"
   ]
  },
  {
   "cell_type": "code",
   "execution_count": 33,
   "id": "94df4036-9ec8-41f4-a0b4-50c15faf2302",
   "metadata": {
    "execution": {
     "iopub.execute_input": "2024-12-07T11:58:04.836406Z",
     "iopub.status.busy": "2024-12-07T11:58:04.835883Z",
     "iopub.status.idle": "2024-12-07T11:58:04.886902Z",
     "shell.execute_reply": "2024-12-07T11:58:04.886162Z",
     "shell.execute_reply.started": "2024-12-07T11:58:04.836365Z"
    }
   },
   "outputs": [
    {
     "data": {
      "text/plain": [
       "(12600,)"
      ]
     },
     "execution_count": 33,
     "metadata": {},
     "output_type": "execute_result"
    },
    {
     "name": "stdout",
     "output_type": "stream",
     "text": [
      "<class 'pandas.core.series.Series'>\n",
      "RangeIndex: 12600 entries, 0 to 12599\n",
      "Series name: Metadata_Permiation\n",
      "Non-Null Count  Dtype\n",
      "--------------  -----\n",
      "12600 non-null  int64\n",
      "dtypes: int64(1)\n",
      "memory usage: 98.6 KB\n"
     ]
    },
    {
     "data": {
      "text/plain": [
       "0    0\n",
       "1    0\n",
       "2    0\n",
       "3    0\n",
       "4    0\n",
       "Name: Metadata_Permiation, dtype: int64"
      ]
     },
     "execution_count": 33,
     "metadata": {},
     "output_type": "execute_result"
    }
   ],
   "source": [
    "# df_test_y = pd.read_csv(TEST_INPUT_Y )\n",
    "df_test_y = df_test_x.Metadata_Permiation.astype(np.int64)\n",
    "df_test_y.shape\n",
    "df_test_y.info()\n",
    "df_test_y.iloc[:5]\n"
   ]
  },
  {
   "cell_type": "code",
   "execution_count": 42,
   "id": "bbf5db87-b8af-4c32-a32f-a8931dc181e0",
   "metadata": {
    "execution": {
     "iopub.execute_input": "2024-12-06T11:14:53.117604Z",
     "iopub.status.busy": "2024-12-06T11:14:53.116996Z",
     "iopub.status.idle": "2024-12-06T11:14:53.175814Z",
     "shell.execute_reply": "2024-12-06T11:14:53.174617Z",
     "shell.execute_reply.started": "2024-12-06T11:14:53.117560Z"
    },
    "scrolled": true
   },
   "outputs": [],
   "source": [
    "# test_x.shape, type(test_x)\n",
    "# test_y.shape, type(test_y)\n",
    "# test_x\n",
    "# test_y"
   ]
  },
  {
   "cell_type": "markdown",
   "id": "5e249088-f83b-4fc8-ba2e-863e65f332bf",
   "metadata": {
    "jp-MarkdownHeadingCollapsed": true
   },
   "source": [
    "## Other input preprocessing"
   ]
  },
  {
   "cell_type": "markdown",
   "id": "6fe81c72-1a16-4661-abdf-515d3cf37658",
   "metadata": {
    "jp-MarkdownHeadingCollapsed": true
   },
   "source": [
    "### Standardize inputs"
   ]
  },
  {
   "cell_type": "code",
   "execution_count": 619,
   "id": "f0e166f8-7c19-4113-b2c8-798b367e840c",
   "metadata": {
    "execution": {
     "iopub.execute_input": "2024-08-05T19:00:33.908202Z",
     "iopub.status.busy": "2024-08-05T19:00:33.907453Z",
     "iopub.status.idle": "2024-08-05T19:00:41.033685Z",
     "shell.execute_reply": "2024-08-05T19:00:41.032940Z",
     "shell.execute_reply.started": "2024-08-05T19:00:33.908137Z"
    }
   },
   "outputs": [
    {
     "name": "stdout",
     "output_type": "stream",
     "text": [
      "Train_X :  Min: -72.2029    Max: 103.8641   Mean: 0.0527  Std: 2.5164\n",
      "Test_X  :  Min: -53.3835    Max: 71.4748    Mean: 0.0529  Std: 2.4997\n"
     ]
    }
   ],
   "source": [
    "print(f\"Train_X :  Min: {train_X.min():.4f}    Max: {train_X.max():.4f}   Mean: {train_X.mean():.4f}  Std: {train_X.std():.4f}\")\n",
    "print(f\"Test_X  :  Min: {test_X.min():.4f}    Max: {test_X.max():.4f}    Mean: {test_X.mean():.4f}  Std: {test_X.std():.4f}\")"
   ]
  },
  {
   "cell_type": "code",
   "execution_count": 620,
   "id": "a9405556-1159-4dff-9b35-aa0b940668b1",
   "metadata": {
    "execution": {
     "iopub.execute_input": "2024-08-05T19:00:53.122587Z",
     "iopub.status.busy": "2024-08-05T19:00:53.122167Z",
     "iopub.status.idle": "2024-08-05T19:00:53.158912Z",
     "shell.execute_reply": "2024-08-05T19:00:53.158150Z",
     "shell.execute_reply.started": "2024-08-05T19:00:53.122543Z"
    }
   },
   "outputs": [],
   "source": [
    "# print(f\"Train_X :  Min: {train_X.min():.4f}    Max: {train_X.max():.4f}   Mean: {train_X.mean():.4f}  Std: {train_X.std():.4f}\")\n",
    "# print(f\"Test_X  :  Min: {test_X.min():.4f}    Max: {test_X.max():.4f}    Mean: {test_X.mean():.4f}  Std: {test_X.std():.4f}\")"
   ]
  },
  {
   "cell_type": "code",
   "execution_count": 621,
   "id": "94b469ab-98e6-4a6a-83d1-22f5c0634433",
   "metadata": {
    "execution": {
     "iopub.execute_input": "2024-08-05T19:00:55.486362Z",
     "iopub.status.busy": "2024-08-05T19:00:55.485889Z",
     "iopub.status.idle": "2024-08-05T19:01:06.354980Z",
     "shell.execute_reply": "2024-08-05T19:01:06.354109Z",
     "shell.execute_reply.started": "2024-08-05T19:00:55.486323Z"
    }
   },
   "outputs": [],
   "source": [
    "scaler = StandardScaler(copy = True)\n",
    "train_X = scaler.fit_transform(train_X)\n",
    "test_X = scaler.transform(test_X)"
   ]
  },
  {
   "cell_type": "code",
   "execution_count": 622,
   "id": "0ecee7ee-224f-469d-88c3-f4677cdc2afe",
   "metadata": {
    "execution": {
     "iopub.execute_input": "2024-08-05T19:01:13.946463Z",
     "iopub.status.busy": "2024-08-05T19:01:13.946020Z",
     "iopub.status.idle": "2024-08-05T19:01:16.963257Z",
     "shell.execute_reply": "2024-08-05T19:01:16.962253Z",
     "shell.execute_reply.started": "2024-08-05T19:01:13.946426Z"
    }
   },
   "outputs": [
    {
     "name": "stdout",
     "output_type": "stream",
     "text": [
      "After Standard Scaler Transformation\n",
      "Train_X :  Min: -33.4514    Max: 27.3319   Mean: -0.0000  Std: 1.0000\n",
      "Test_X  :  Min: -24.2626    Max: 28.1195    Mean: 0.0003  Std: 0.9889\n"
     ]
    }
   ],
   "source": [
    "print(\"After Standard Scaler Transformation\")\n",
    "print(f\"Train_X :  Min: {train_X.min():.4f}    Max: {train_X.max():.4f}   Mean: {train_X.mean():.4f}  Std: {train_X.std():.4f}\")\n",
    "print(f\"Test_X  :  Min: {test_X.min():.4f}    Max: {test_X.max():.4f}    Mean: {test_X.mean():.4f}  Std: {test_X.std():.4f}\")\n"
   ]
  },
  {
   "cell_type": "code",
   "execution_count": 623,
   "id": "c3b3616c-e89b-4cdc-ab4c-e48ba0846a8e",
   "metadata": {
    "execution": {
     "iopub.execute_input": "2024-08-05T19:01:57.328685Z",
     "iopub.status.busy": "2024-08-05T19:01:57.328153Z",
     "iopub.status.idle": "2024-08-05T19:01:57.388925Z",
     "shell.execute_reply": "2024-08-05T19:01:57.387905Z",
     "shell.execute_reply.started": "2024-08-05T19:01:57.328646Z"
    },
    "scrolled": true
   },
   "outputs": [
    {
     "name": "stdout",
     "output_type": "stream",
     "text": [
      " Training\n",
      " Total samples: 312000\n",
      " Label 0: 274,836      % 88.09 \n",
      " Label 1:  37,164      % 11.91 \n",
      "\n",
      " Test\n",
      " Total samples: 34542\n",
      " Label 0:  30,378      % 87.95 \n",
      " Label 1:   4,164      % 12.05 \n",
      "\n"
     ]
    }
   ],
   "source": [
    "label_counts([(\"Training\", train_y), (\"Test\", test_y)])\n",
    "# for grp_name, labels in [(\"Training\", train_y), (\"Test\", test_y)]:\n",
    "#     bcnt = np.bincount(labels.astype(np.int64))\n",
    "#     print(f\" {grp_name}\")\n",
    "#     print(f\" Total samples: {bcnt.sum()}\")\n",
    "#     print(f\" Label 0: {bcnt[0]:>7d}      % {bcnt[0]*100/bcnt.sum():2.2f} \")\n",
    "#     print(f\" Label 0: {bcnt[1]:>7d}      % {bcnt[1]*100/bcnt.sum():2.2f} \")\n",
    "#     print(\"\")"
   ]
  },
  {
   "cell_type": "markdown",
   "id": "5b413996-c395-4f26-8354-b1a408a6140a",
   "metadata": {
    "jp-MarkdownHeadingCollapsed": true
   },
   "source": [
    "### Modify TPSA Threshold"
   ]
  },
  {
   "cell_type": "code",
   "execution_count": 269,
   "id": "9ca4e52f-46c9-4506-8b0d-239f045f04ac",
   "metadata": {
    "execution": {
     "iopub.execute_input": "2024-08-02T19:43:18.952547Z",
     "iopub.status.busy": "2024-08-02T19:43:18.952152Z",
     "iopub.status.idle": "2024-08-02T19:43:18.990375Z",
     "shell.execute_reply": "2024-08-02T19:43:18.989668Z",
     "shell.execute_reply.started": "2024-08-02T19:43:18.952516Z"
    }
   },
   "outputs": [
    {
     "data": {
      "text/plain": [
       "104000.0"
      ]
     },
     "execution_count": 269,
     "metadata": {},
     "output_type": "execute_result"
    }
   ],
   "source": [
    "train_y_72 = np.zeros_like(train_y)\n",
    "train_y_72.shape[0]/3"
   ]
  },
  {
   "cell_type": "code",
   "execution_count": 42,
   "id": "e11392e3-cbea-49a8-9a0b-2030c1a0aee1",
   "metadata": {
    "editable": true,
    "execution": {
     "iopub.execute_input": "2024-01-24T12:31:19.584307Z",
     "iopub.status.busy": "2024-01-24T12:31:19.583896Z",
     "iopub.status.idle": "2024-01-24T12:31:19.647754Z",
     "shell.execute_reply": "2024-01-24T12:31:19.646662Z",
     "shell.execute_reply.started": "2024-01-24T12:31:19.584277Z"
    },
    "slideshow": {
     "slide_type": ""
    },
    "tags": []
   },
   "outputs": [
    {
     "name": "stdout",
     "output_type": "stream",
     "text": [
      "                  min           max           std          mean           median\n",
      "TPSA             3.2400000  2834.6700000    32.8859880    73.6213196    71.3600000\n",
      "lnTPSA           1.1755733     7.9496808     0.3917724     4.2261118     4.2677375\n",
      "log10TPSA        0.5105450     3.4525025     0.1701446     1.8353770     1.8534548\n"
     ]
    },
    {
     "data": {
      "text/plain": [
       "116691"
      ]
     },
     "execution_count": 42,
     "metadata": {},
     "output_type": "execute_result"
    },
    {
     "data": {
      "text/plain": [
       "0.12232305833354758"
      ]
     },
     "execution_count": 42,
     "metadata": {},
     "output_type": "execute_result"
    },
    {
     "data": {
      "text/plain": [
       "0.8776769416664524"
      ]
     },
     "execution_count": 42,
     "metadata": {},
     "output_type": "execute_result"
    }
   ],
   "source": [
    "print(f\"                  min           max           std          mean           median\")\n",
    "for x in ['TPSA', 'lnTPSA', 'log10TPSA']:\n",
    "    print(f\"{x:12s} {df_train[x].min():13.7f} {df_train[x].max():13.7f} {df_train[x].std():13.7f} {df_train[x].mean():13.7f} {df_train[x].median():13.7f}\") \n",
    "\n",
    "df_train.TPSA.count()\n",
    "df_train[df_train.TPSA >= THRESHOLD].TPSA.count()/df_train.TPSA.count()\n",
    "df_train[df_train.TPSA < THRESHOLD].TPSA.count()/df_train.TPSA.count()\n"
   ]
  },
  {
   "cell_type": "code",
   "execution_count": 203,
   "id": "d5f5bab9-6b23-4078-a398-dccbea38ae78",
   "metadata": {
    "execution": {
     "iopub.execute_input": "2024-08-02T18:25:44.400889Z",
     "iopub.status.busy": "2024-08-02T18:25:44.400409Z",
     "iopub.status.idle": "2024-08-02T18:25:44.451332Z",
     "shell.execute_reply": "2024-08-02T18:25:44.450555Z",
     "shell.execute_reply.started": "2024-08-02T18:25:44.400850Z"
    }
   },
   "outputs": [
    {
     "data": {
      "text/plain": [
       "(274836, 37164)"
      ]
     },
     "execution_count": 203,
     "metadata": {},
     "output_type": "execute_result"
    }
   ],
   "source": [
    "_tmp = df_train.Metadata_Permiation.value_counts()\n",
    "_tmp[0], _tmp[1]"
   ]
  },
  {
   "cell_type": "code",
   "execution_count": 264,
   "id": "d59dcba1-6add-4446-aa27-a30564f42e54",
   "metadata": {
    "editable": true,
    "execution": {
     "iopub.execute_input": "2024-08-02T19:17:47.830206Z",
     "iopub.status.busy": "2024-08-02T19:17:47.829809Z",
     "iopub.status.idle": "2024-08-02T19:17:47.877739Z",
     "shell.execute_reply": "2024-08-02T19:17:47.877049Z",
     "shell.execute_reply.started": "2024-08-02T19:17:47.830173Z"
    },
    "slideshow": {
     "slide_type": ""
    },
    "tags": []
   },
   "outputs": [
    {
     "name": "stdout",
     "output_type": "stream",
     "text": [
      "\n",
      " TPSA threshold 68 \n",
      " Total samples: 312000\n",
      " Label 0:  138900      % 44.52 \n",
      " Label 1:  173100      % 55.48 \n",
      "\n",
      " TPSA threshold 69 \n",
      " Total samples: 312000\n",
      " Label 0:  144249      % 46.23 \n",
      " Label 1:  167751      % 53.77 \n",
      "\n",
      " TPSA threshold 70 \n",
      " Total samples: 312000\n",
      " Label 0:  149058      % 47.77 \n",
      " Label 1:  162942      % 52.23 \n",
      "\n",
      " TPSA threshold 71 \n",
      " Total samples: 312000\n",
      " Label 0:  154125      % 49.40 \n",
      " Label 1:  157875      % 50.60 \n",
      "\n",
      " TPSA threshold 72 \n",
      " Total samples: 312000\n",
      " Label 0:  160203      % 51.35 \n",
      " Label 1:  151797      % 48.65 \n",
      "\n",
      " TPSA threshold 100 \n",
      " Total samples: 312000\n",
      " Label 0:  274836      % 88.09 \n",
      " Label 1:   37164      % 11.91 \n"
     ]
    }
   ],
   "source": [
    "for threshold in [68, 69, 70, 71, 72, 100]:\n",
    "    _tmp = (df_train['Metadata_TPSA'] >= threshold).value_counts()\n",
    "    print(f\"\\n TPSA threshold {threshold} \\n Total samples: {_tmp.sum()}\")\n",
    "    print(f\" Label 0: {_tmp[False]:>7d}      % {_tmp[False]*100/_tmp.sum():2.2f} \")\n",
    "    print(f\" Label 1: {_tmp[True]:>7d}      % {_tmp[True]*100/_tmp.sum():2.2f} \")"
   ]
  },
  {
   "cell_type": "code",
   "execution_count": 265,
   "id": "65d1d01b-3946-4668-9c10-5fb3f2b3bd64",
   "metadata": {
    "execution": {
     "iopub.execute_input": "2024-08-02T19:18:15.207992Z",
     "iopub.status.busy": "2024-08-02T19:18:15.207573Z",
     "iopub.status.idle": "2024-08-02T19:18:15.241831Z",
     "shell.execute_reply": "2024-08-02T19:18:15.241195Z",
     "shell.execute_reply.started": "2024-08-02T19:18:15.207957Z"
    }
   },
   "outputs": [],
   "source": [
    "# fig, ax = plt.subplots(figsize=(4,4))\n",
    "# fig.canvas.draw()  # Need to draw the figure to define renderer\n",
    "# ax.set_title(\"AngleLabel example\")\n",
    "# # Plot two crossing lines and label each angle between them with the above\n",
    "# center = (4.5, 650)\n",
    "# p1 = [(2.5, 710), (6.0, 605)]\n",
    "# p2 = [(3.0, 275), (5.5, 900)]\n",
    "# line1, = ax.plot(*zip(*p1))\n",
    "# line2, = ax.plot(*zip(*p2))\n",
    "# point, = ax.plot(*center, marker=\"o\")\n"
   ]
  },
  {
   "cell_type": "code",
   "execution_count": 259,
   "id": "9f19bd08-45c1-4d41-9d02-a5b59d30c53c",
   "metadata": {
    "ExecuteTime": {
     "end_time": "2023-06-28T19:37:34.108730Z",
     "start_time": "2023-06-28T19:37:34.072553Z"
    },
    "editable": true,
    "execution": {
     "iopub.execute_input": "2024-08-02T19:10:23.741139Z",
     "iopub.status.busy": "2024-08-02T19:10:23.740867Z",
     "iopub.status.idle": "2024-08-02T19:10:24.222816Z",
     "shell.execute_reply": "2024-08-02T19:10:24.222024Z",
     "shell.execute_reply.started": "2024-08-02T19:10:23.741118Z"
    },
    "scrolled": true,
    "slideshow": {
     "slide_type": ""
    },
    "tags": []
   },
   "outputs": [
    {
     "data": {
      "text/plain": [
       "<matplotlib.legend.Legend at 0x7fb5da6ead90>"
      ]
     },
     "execution_count": 259,
     "metadata": {},
     "output_type": "execute_result"
    },
    {
     "data": {
      "image/png": "[encoded data removed]",
      "text/plain": [
       "<Figure size 1000x500 with 1 Axes>"
      ]
     },
     "metadata": {},
     "output_type": "display_data"
    }
   ],
   "source": [
    "from matplotlib import colors\n",
    "from matplotlib.ticker import PercentFormatter\n",
    "num_bins = 200\n",
    "# fig, ax = plt.subplots()\n",
    "fig = plt.figure(figsize=(10,5))\n",
    "sigma = df_train.Metadata_TPSA.std()\n",
    "mu = df_train.Metadata_TPSA.mean()\n",
    "med = df_train.Metadata_TPSA.median()\n",
    "# the histogram of the data\n",
    "# We can set the number of bins with the *bins* keyword argument.\n",
    "n, bins, patches = plt.hist(df_train.Metadata_TPSA, num_bins, density=False, range=[0, 500],)\n",
    "# p1 = [(med, 710), (6.0, 605)]\n",
    "# _ = plt.vlines(x=med, ymin=10, ymax=17000, colors='red', linestyles='-', lw=1.75, label='Single Short Line')\n",
    "_ = plt.axvline(x=med, ymin=0, ymax=.97, color='red', linestyle='-', lw=1.75, label='Single Short Line')\n",
    "_ = plt.xlabel('TPSA Value');\n",
    "_ = plt.ylabel('# Compounds');\n",
    "_ = plt.title(fr'TPSA distribution -  $\\mu={mu:.3f}$    $\\sigma={sigma:.3f}$')\n",
    "plt.legend(bbox_to_anchor=(1.04,0.5), loc=\"center left\", borderaxespad=0)\n",
    "# axs[1].hist(dist2, bins=n_bins)\n",
    "plt.show()"
   ]
  },
  {
   "cell_type": "markdown",
   "id": "a08179a7-e4d2-4425-803e-1f78943b3aaf",
   "metadata": {
    "editable": true,
    "jp-MarkdownHeadingCollapsed": true,
    "slideshow": {
     "slide_type": ""
    },
    "tags": []
   },
   "source": [
    "### Stratified CV data splits"
   ]
  },
  {
   "cell_type": "code",
   "execution_count": 260,
   "id": "36185b9f-f76e-4556-a736-7a97ac07659f",
   "metadata": {
    "execution": {
     "iopub.execute_input": "2024-08-02T19:12:20.623736Z",
     "iopub.status.busy": "2024-08-02T19:12:20.623234Z",
     "iopub.status.idle": "2024-08-02T19:12:20.661974Z",
     "shell.execute_reply": "2024-08-02T19:12:20.661237Z",
     "shell.execute_reply.started": "2024-08-02T19:12:20.623693Z"
    }
   },
   "outputs": [],
   "source": [
    "def visualize_groups(classes, groups, name):\n",
    "    # Visualize dataset groups\n",
    "    fig, ax = plt.subplots(figsize=(10,5))\n",
    "    ax.scatter(\n",
    "        range(len(groups)),\n",
    "        [0.5] * len(groups),\n",
    "        c=groups,\n",
    "        marker=\"_\",\n",
    "        lw=50,\n",
    "        cmap=cmap_data,\n",
    "    )\n",
    "    ax.scatter(\n",
    "        range(len(groups)),\n",
    "        [3.5] * len(groups),\n",
    "        c=classes,\n",
    "        marker=\"_\",\n",
    "        lw=50,\n",
    "        cmap=cmap_data,\n",
    "    )\n",
    "    ax.set(\n",
    "        ylim=[-1, 5],\n",
    "        yticks=[0.5, 3.5],\n",
    "        yticklabels=[\"Data\\ngroup\", \"Data\\nclass\"],\n",
    "        xlabel=\"Sample index\",\n",
    "    )"
   ]
  },
  {
   "cell_type": "code",
   "execution_count": 261,
   "id": "f532d16b-50f2-486d-a2b8-22e960f6007a",
   "metadata": {
    "execution": {
     "iopub.execute_input": "2024-08-02T19:12:20.975622Z",
     "iopub.status.busy": "2024-08-02T19:12:20.975197Z",
     "iopub.status.idle": "2024-08-02T19:12:21.013984Z",
     "shell.execute_reply": "2024-08-02T19:12:21.013243Z",
     "shell.execute_reply.started": "2024-08-02T19:12:20.975584Z"
    }
   },
   "outputs": [],
   "source": [
    "def plot_cv_indices(cv, X, y, group, ax, n_splits, lw=10):\n",
    "    \"\"\"Create a sample plot for indices of a cross-validation object.\"\"\"\n",
    "    use_groups = \"Group\" in type(cv).__name__\n",
    "    groups = group if use_groups else None\n",
    "    # Generate the training/testing visualizations for each CV split\n",
    "    for ii, (tr, tt) in enumerate(cv.split(X=X, y=y, groups=groups)):\n",
    "        # Fill in indices with the training/test groups\n",
    "        indices = np.array([np.nan] * len(X))\n",
    "        indices[tt] = 1\n",
    "        indices[tr] = 0\n",
    "\n",
    "        # Visualize the results\n",
    "        ax.scatter(\n",
    "            range(len(indices)),\n",
    "            [ii + 0.5] * len(indices),\n",
    "            c=indices,\n",
    "            marker=\"_\",\n",
    "            lw=lw,\n",
    "            cmap=cmap_cv,\n",
    "            vmin=-0.2,\n",
    "            vmax=1.2,\n",
    "        )\n",
    "\n",
    "    # Plot the data classes and groups at the end\n",
    "    ax.scatter(\n",
    "        range(len(X)), [ii + 1.5] * len(X), c=y, marker=\"_\", lw=lw, cmap=cmap_data\n",
    "    )\n",
    "\n",
    "    ax.scatter(\n",
    "        range(len(X)), [ii + 2.5] * len(X), c=group, marker=\"_\", lw=lw, cmap=cmap_data\n",
    "    )\n",
    "\n",
    "    # Formatting\n",
    "    yticklabels = list(range(n_splits)) + [\"class\", \"group\"]\n",
    "    ax.set(\n",
    "        yticks=np.arange(n_splits + 2) + 0.5,\n",
    "        yticklabels=yticklabels,\n",
    "        xlabel=\"Sample index\",\n",
    "        ylabel=\"CV iteration\",\n",
    "        ylim=[n_splits + 2.2, -0.2],\n",
    "        xlim=[0, 100],\n",
    "    )\n",
    "    ax.set_title(\"{}\".format(type(cv).__name__), fontsize=15)\n",
    "    return ax"
   ]
  },
  {
   "cell_type": "code",
   "execution_count": null,
   "id": "d6f3f078-8b33-4acc-b639-6daac6d9d519",
   "metadata": {
    "execution": {
     "iopub.execute_input": "2024-08-01T20:37:00.702630Z",
     "iopub.status.busy": "2024-08-01T20:37:00.702069Z",
     "iopub.status.idle": "2024-08-01T20:37:00.746490Z",
     "shell.execute_reply": "2024-08-01T20:37:00.745822Z",
     "shell.execute_reply.started": "2024-08-01T20:37:00.702589Z"
    }
   },
   "outputs": [],
   "source": [
    "import matplotlib.pyplot as plt\n",
    "import numpy as np\n",
    "from matplotlib.patches import Patch\n"
   ]
  },
  {
   "cell_type": "code",
   "execution_count": null,
   "id": "f1165a3b-5756-443f-ad46-bf316c34929e",
   "metadata": {
    "execution": {
     "iopub.execute_input": "2024-08-01T20:37:00.702630Z",
     "iopub.status.busy": "2024-08-01T20:37:00.702069Z",
     "iopub.status.idle": "2024-08-01T20:37:00.746490Z",
     "shell.execute_reply": "2024-08-01T20:37:00.745822Z",
     "shell.execute_reply.started": "2024-08-01T20:37:00.702589Z"
    }
   },
   "outputs": [],
   "source": [
    "rng = np.random.RandomState(1338)\n",
    "cmap_data = plt.cm.Paired\n",
    "cmap_cv = plt.cm.coolwarm\n",
    "n_splits = 4\n",
    "\n",
    "# Generate the class/group data\n",
    "# n_points = 100\n",
    "# X = rng.randn(100, 10)\n",
    "\n",
    "# percentiles_classes = [0.1, 0.3, 0.6]\n",
    "# y = np.hstack([[ii] * int(100 * perc) for ii, perc in enumerate(percentiles_classes)])"
   ]
  },
  {
   "cell_type": "code",
   "execution_count": null,
   "id": "94dd8391-cbf3-4468-9aa2-d311c7f83bd2",
   "metadata": {
    "execution": {
     "iopub.execute_input": "2024-08-01T20:37:00.702630Z",
     "iopub.status.busy": "2024-08-01T20:37:00.702069Z",
     "iopub.status.idle": "2024-08-01T20:37:00.746490Z",
     "shell.execute_reply": "2024-08-01T20:37:00.745822Z",
     "shell.execute_reply.started": "2024-08-01T20:37:00.702589Z"
    }
   },
   "outputs": [],
   "source": [
    "# Generate uneven groups\n",
    "\n",
    "# group_prior = rng.dirichlet([2] * 10)\n",
    "# group_prior.sum()\n",
    "# group_prior\n",
    "\n",
    "# groups = np.repeat(np.arange(10), rng.multinomial(100, group_prior))\n",
    "# groups.shape\n",
    "# groups"
   ]
  },
  {
   "cell_type": "code",
   "execution_count": null,
   "id": "0be667cf-b73b-49d9-8f93-028feb33dc07",
   "metadata": {
    "execution": {
     "iopub.execute_input": "2024-08-01T20:37:00.702630Z",
     "iopub.status.busy": "2024-08-01T20:37:00.702069Z",
     "iopub.status.idle": "2024-08-01T20:37:00.746490Z",
     "shell.execute_reply": "2024-08-01T20:37:00.745822Z",
     "shell.execute_reply.started": "2024-08-01T20:37:00.702589Z"
    }
   },
   "outputs": [],
   "source": [
    "groups = np.repeat(0, train_X.shape[0])\n",
    "groups.shape"
   ]
  },
  {
   "cell_type": "code",
   "execution_count": 84,
   "id": "a3cc3e15-7328-43d7-87b0-e662e89f8995",
   "metadata": {
    "execution": {
     "iopub.execute_input": "2024-08-01T20:39:00.214016Z",
     "iopub.status.busy": "2024-08-01T20:39:00.213534Z",
     "iopub.status.idle": "2024-08-01T20:39:17.703513Z",
     "shell.execute_reply": "2024-08-01T20:39:17.702174Z",
     "shell.execute_reply.started": "2024-08-01T20:39:00.213981Z"
    }
   },
   "outputs": [
    {
     "data": {
      "image/png": "[encoded data removed]",
      "text/plain": [
       "<Figure size 1000x500 with 1 Axes>"
      ]
     },
     "metadata": {},
     "output_type": "display_data"
    }
   ],
   "source": [
    "visualize_groups(train_y, groups, \"no groups\")"
   ]
  },
  {
   "cell_type": "code",
   "execution_count": 88,
   "id": "f27b44ef-5b62-4008-8e90-fcd97dca2186",
   "metadata": {
    "execution": {
     "iopub.execute_input": "2024-08-01T20:42:20.513960Z",
     "iopub.status.busy": "2024-08-01T20:42:20.513311Z",
     "iopub.status.idle": "2024-08-01T20:42:20.563347Z",
     "shell.execute_reply": "2024-08-01T20:42:20.562557Z",
     "shell.execute_reply.started": "2024-08-01T20:42:20.513913Z"
    }
   },
   "outputs": [],
   "source": [
    "n_splits = 5\n",
    "groups = None"
   ]
  },
  {
   "cell_type": "code",
   "execution_count": 89,
   "id": "0cc5f1e4-9fbf-4c51-a82a-ee2c870850aa",
   "metadata": {
    "execution": {
     "iopub.execute_input": "2024-08-01T20:42:22.118077Z",
     "iopub.status.busy": "2024-08-01T20:42:22.117570Z",
     "iopub.status.idle": "2024-08-01T20:42:40.626608Z",
     "shell.execute_reply": "2024-08-01T20:42:40.625579Z",
     "shell.execute_reply.started": "2024-08-01T20:42:22.118037Z"
    }
   },
   "outputs": [
    {
     "name": "stderr",
     "output_type": "stream",
     "text": [
      "/tmp/ipykernel_4107164/1298143750.py:29: UserWarning: No data for colormapping provided via 'c'. Parameters 'cmap' will be ignored\n",
      "  ax.scatter(\n"
     ]
    },
    {
     "data": {
      "text/plain": [
       "<Axes: title={'center': 'KFold'}, xlabel='Sample index', ylabel='CV iteration'>"
      ]
     },
     "execution_count": 89,
     "metadata": {},
     "output_type": "execute_result"
    },
    {
     "data": {
      "image/png": "[encoded data removed]",
      "text/plain": [
       "<Figure size 640x480 with 1 Axes>"
      ]
     },
     "metadata": {},
     "output_type": "display_data"
    }
   ],
   "source": [
    "fig, ax = plt.subplots()\n",
    "cv = KFold(n_splits)\n",
    "plot_cv_indices(cv, train_X, train_y, groups, ax, n_splits)"
   ]
  },
  {
   "cell_type": "markdown",
   "id": "431caa87-8ebb-496e-a35c-bee422a9aeee",
   "metadata": {},
   "source": [
    "### Create balanced datasets"
   ]
  },
  {
   "cell_type": "code",
   "execution_count": 635,
   "id": "b979ba88-3eb5-4da5-a718-3cebca95260b",
   "metadata": {
    "execution": {
     "iopub.execute_input": "2024-08-05T19:07:37.952565Z",
     "iopub.status.busy": "2024-08-05T19:07:37.952226Z",
     "iopub.status.idle": "2024-08-05T19:07:42.982772Z",
     "shell.execute_reply": "2024-08-05T19:07:42.981691Z",
     "shell.execute_reply.started": "2024-08-05T19:07:37.952542Z"
    }
   },
   "outputs": [
    {
     "name": "stdout",
     "output_type": "stream",
     "text": [
      "\n",
      " Take 12388 samples from total of 12388 negative training samples\n",
      " Take 12388 samples from total of 91612 negative training samples\n",
      "\n",
      " Balanced Dataset: # pos samples: 37164    # Neg samples: 37164  Total len: 74328\n",
      "\n",
      " X :  Min: -27.6719    Max: 23.7271   Mean: 0.0016  Std: 1.0157\n",
      " y :  Min: 0.0000    Max: 1.0000   Mean: 0.5000  Std: 0.5000\n",
      "\n",
      " Take 12388 samples from total of 12388 negative training samples\n",
      " Take 24776 samples from total of 91612 negative training samples\n",
      "\n",
      " Balanced Dataset: # pos samples: 37164    # Neg samples: 74328  Total len: 111492\n",
      "\n",
      " X :  Min: -27.3326    Max: 26.3826   Mean: 0.0014  Std: 1.0076\n",
      " y :  Min: 0.0000    Max: 1.0000   Mean: 0.3333  Std: 0.4714\n"
     ]
    }
   ],
   "source": [
    "bal_train_X, bal_train_y = balance_datasets(train_X, train_y, ratio = 1)\n",
    "bal_train_X_2, bal_train_y_2 = balance_datasets(train_X, train_y, ratio = 2)"
   ]
  },
  {
   "cell_type": "code",
   "execution_count": 636,
   "id": "216225bd-9951-42ee-9223-e4230c525a3a",
   "metadata": {
    "execution": {
     "iopub.execute_input": "2024-08-05T19:07:48.795533Z",
     "iopub.status.busy": "2024-08-05T19:07:48.795065Z",
     "iopub.status.idle": "2024-08-05T19:07:48.920041Z",
     "shell.execute_reply": "2024-08-05T19:07:48.919101Z",
     "shell.execute_reply.started": "2024-08-05T19:07:48.795500Z"
    }
   },
   "outputs": [
    {
     "name": "stdout",
     "output_type": "stream",
     "text": [
      "\n",
      " Take 1388 samples from total of 1388 negative training samples\n",
      " Take 1388 samples from total of 10126 negative training samples\n",
      "\n",
      " Balanced Dataset: # pos samples: 4164    # Neg samples: 4164  Total len: 8328\n",
      "\n",
      " X :  Min: -16.9431    Max: 19.0416   Mean: 0.0030  Std: 1.0028\n",
      " y :  Min: 0.0000    Max: 1.0000   Mean: 0.5000  Std: 0.5000\n",
      "\n",
      " Take 1388 samples from total of 1388 negative training samples\n",
      " Take 2776 samples from total of 10126 negative training samples\n",
      "\n",
      " Balanced Dataset: # pos samples: 4164    # Neg samples: 8328  Total len: 12492\n",
      "\n",
      " X :  Min: -18.7677    Max: 20.9524   Mean: 0.0015  Std: 0.9780\n",
      " y :  Min: 0.0000    Max: 1.0000   Mean: 0.3333  Std: 0.4714\n"
     ]
    }
   ],
   "source": [
    "bal_test_X, bal_test_y = balance_datasets(test_X, test_y, ratio = 1)\n",
    "bal_test_X_2, bal_test_y_2 = balance_datasets(test_X, test_y, ratio = 2)"
   ]
  },
  {
   "cell_type": "markdown",
   "id": "59413831-c2c4-4ede-b74b-78698df67581",
   "metadata": {},
   "source": [
    "# Model definitions"
   ]
  },
  {
   "cell_type": "markdown",
   "id": "aeac9638-6313-41df-aa1d-0e337db02529",
   "metadata": {
    "editable": true,
    "slideshow": {
     "slide_type": ""
    },
    "tags": []
   },
   "source": [
    "* **algorithm**  {‘auto’, ‘ball_tree’, ‘kd_tree’, ‘brute’}, default=’auto’\n",
    "Algorithm used to compute the nearest neighbors:\n",
    "\n",
    "    `ball_tree` will use BallTree\n",
    "  \n",
    "    `kd_tree` will use KDTree\n",
    "\n",
    "    `brute` will use a brute-force search.\n",
    "\n",
    "    `auto` will attempt to decide the most appropriate algorithm based on the values passed to fit method.\n",
    "\n",
    "    Note: fitting on sparse input will override the setting of this parameter, using brute force.\n",
    "\n",
    "*  **leaf_size** int, default=30  -- Leaf size passed to BallTree or KDTree.\n",
    "\n",
    "      This can affect the speed of the construction and query, as well as the memory required to store the tree. The optimal value depends on the nature of the problem.\n",
    "\n",
    "*  **p**   float, default=2 -- Power parameter for the Minkowski metric.\n",
    "\n",
    "      When p = 1, this is equivalent to using manhattan_distance (l1), and euclidean_distance (l2) for p = 2. For arbitrary p, minkowski_distance (l_p) is used. This parameter is expected to be positive.\n",
    "\n",
    "\n",
    "*  **metric**  str or callable, default=’minkowski’ -- Metric to use for distance computation.\n",
    "\n",
    "      Default is `minkowski`, which results in the standard Euclidean distance when p = 2. See the documentation of scipy.spatial.distance and the metrics listed in distance_metrics for valid metric values.\n",
    "\n",
    "      If metric is `precomputed`, X is assumed to be a distance matrix and must be square during fit. X may be a sparse graph, in which case only “nonzero” elements may be considered neighbors. \n",
    "\n",
    "      If metric is a callable function, it takes two arrays representing 1D vectors as inputs and must return one value indicating the distance between those vectors. This works for Scipy’s metrics, but is less efficient than passing the metric name as a string.\n",
    "\n",
    "*  **metric_params**   dict, default=None -- Additional keyword arguments for the metric function.\n",
    "\n",
    "*  **n_jobs**  int, default=None -- The number of parallel jobs to run for neighbors search.\n",
    "\n",
    "    None means 1 unless in a joblib.parallel_backend context. -1 means using all processors. Doesn’t affect fit method.   "
   ]
  },
  {
   "cell_type": "code",
   "execution_count": 166,
   "id": "9a4eb3bc-6f1b-46fe-bb11-21ec982868e6",
   "metadata": {
    "execution": {
     "iopub.execute_input": "2024-07-31T19:01:01.263805Z",
     "iopub.status.busy": "2024-07-31T19:01:01.263271Z",
     "iopub.status.idle": "2024-07-31T19:01:01.327031Z",
     "shell.execute_reply": "2024-07-31T19:01:01.326345Z",
     "shell.execute_reply.started": "2024-07-31T19:01:01.263762Z"
    }
   },
   "outputs": [],
   "source": [
    "# del knn_clf, knn_estimators, knn_grid_parameters_des, knn_grid_parameters_fp, knn_grid_parameters_fpcounts"
   ]
  },
  {
   "cell_type": "markdown",
   "id": "201b5407-d5b0-4005-a284-1f9b7b21a2ea",
   "metadata": {},
   "source": [
    "## Parameters"
   ]
  },
  {
   "cell_type": "code",
   "execution_count": 34,
   "id": "39072b92-1243-4426-b443-846b4e4ad2f5",
   "metadata": {
    "execution": {
     "iopub.execute_input": "2024-12-07T11:58:13.798550Z",
     "iopub.status.busy": "2024-12-07T11:58:13.798017Z",
     "iopub.status.idle": "2024-12-07T11:58:13.835926Z",
     "shell.execute_reply": "2024-12-07T11:58:13.835247Z",
     "shell.execute_reply.started": "2024-12-07T11:58:13.798479Z"
    }
   },
   "outputs": [],
   "source": [
    "try:\n",
    "    del X_DATA, Y_DATA\n",
    "except:\n",
    "    pass\n",
    "# train_y.head()"
   ]
  },
  {
   "cell_type": "code",
   "execution_count": 35,
   "id": "313f43af-753f-4c4a-9a7f-7235e8bcc7c3",
   "metadata": {
    "execution": {
     "iopub.execute_input": "2024-12-07T11:58:21.747230Z",
     "iopub.status.busy": "2024-12-07T11:58:21.746717Z",
     "iopub.status.idle": "2024-12-07T11:58:22.043537Z",
     "shell.execute_reply": "2024-12-07T11:58:22.042722Z",
     "shell.execute_reply.started": "2024-12-07T11:58:21.747190Z"
    },
    "scrolled": true
   },
   "outputs": [
    {
     "data": {
      "text/html": [
       "<div>\n",
       "<style scoped>\n",
       "    .dataframe tbody tr th:only-of-type {\n",
       "        vertical-align: middle;\n",
       "    }\n",
       "\n",
       "    .dataframe tbody tr th {\n",
       "        vertical-align: top;\n",
       "    }\n",
       "\n",
       "    .dataframe thead th {\n",
       "        text-align: right;\n",
       "    }\n",
       "</style>\n",
       "<table border=\"1\" class=\"dataframe\">\n",
       "  <thead>\n",
       "    <tr style=\"text-align: right;\">\n",
       "      <th></th>\n",
       "      <th>Feature_000</th>\n",
       "      <th>Feature_001</th>\n",
       "      <th>Feature_002</th>\n",
       "      <th>Feature_003</th>\n",
       "      <th>Feature_004</th>\n",
       "      <th>Feature_005</th>\n",
       "      <th>Feature_006</th>\n",
       "      <th>Feature_007</th>\n",
       "      <th>Feature_008</th>\n",
       "      <th>Feature_009</th>\n",
       "      <th>...</th>\n",
       "      <th>Feature_240</th>\n",
       "      <th>Feature_241</th>\n",
       "      <th>Feature_242</th>\n",
       "      <th>Feature_243</th>\n",
       "      <th>Feature_244</th>\n",
       "      <th>Feature_245</th>\n",
       "      <th>Feature_246</th>\n",
       "      <th>Feature_247</th>\n",
       "      <th>Feature_248</th>\n",
       "      <th>Feature_249</th>\n",
       "    </tr>\n",
       "  </thead>\n",
       "  <tbody>\n",
       "    <tr>\n",
       "      <th>0</th>\n",
       "      <td>-0.015171</td>\n",
       "      <td>0.019367</td>\n",
       "      <td>0.028378</td>\n",
       "      <td>-0.016473</td>\n",
       "      <td>0.000907</td>\n",
       "      <td>0.000136</td>\n",
       "      <td>0.004825</td>\n",
       "      <td>-0.037934</td>\n",
       "      <td>-0.062155</td>\n",
       "      <td>-0.006528</td>\n",
       "      <td>...</td>\n",
       "      <td>0.009390</td>\n",
       "      <td>-0.008253</td>\n",
       "      <td>-0.037940</td>\n",
       "      <td>-0.016286</td>\n",
       "      <td>0.022038</td>\n",
       "      <td>0.005269</td>\n",
       "      <td>-0.018263</td>\n",
       "      <td>0.012688</td>\n",
       "      <td>-0.054655</td>\n",
       "      <td>0.004202</td>\n",
       "    </tr>\n",
       "    <tr>\n",
       "      <th>1</th>\n",
       "      <td>-0.010611</td>\n",
       "      <td>0.055484</td>\n",
       "      <td>0.074405</td>\n",
       "      <td>0.012844</td>\n",
       "      <td>-0.054465</td>\n",
       "      <td>-0.073002</td>\n",
       "      <td>0.032855</td>\n",
       "      <td>-0.061387</td>\n",
       "      <td>-0.149656</td>\n",
       "      <td>-0.119751</td>\n",
       "      <td>...</td>\n",
       "      <td>0.095957</td>\n",
       "      <td>0.040152</td>\n",
       "      <td>-0.005584</td>\n",
       "      <td>0.046152</td>\n",
       "      <td>-0.024817</td>\n",
       "      <td>0.049557</td>\n",
       "      <td>-0.078429</td>\n",
       "      <td>0.029078</td>\n",
       "      <td>-0.124861</td>\n",
       "      <td>0.021048</td>\n",
       "    </tr>\n",
       "    <tr>\n",
       "      <th>2</th>\n",
       "      <td>-0.034933</td>\n",
       "      <td>0.035995</td>\n",
       "      <td>0.057973</td>\n",
       "      <td>-0.034025</td>\n",
       "      <td>-0.006909</td>\n",
       "      <td>0.003759</td>\n",
       "      <td>0.004729</td>\n",
       "      <td>-0.072771</td>\n",
       "      <td>-0.125197</td>\n",
       "      <td>-0.009123</td>\n",
       "      <td>...</td>\n",
       "      <td>0.017318</td>\n",
       "      <td>-0.012258</td>\n",
       "      <td>-0.079632</td>\n",
       "      <td>-0.032763</td>\n",
       "      <td>0.054452</td>\n",
       "      <td>0.009448</td>\n",
       "      <td>-0.038036</td>\n",
       "      <td>0.030926</td>\n",
       "      <td>-0.111577</td>\n",
       "      <td>0.015640</td>\n",
       "    </tr>\n",
       "    <tr>\n",
       "      <th>3</th>\n",
       "      <td>-0.060865</td>\n",
       "      <td>0.105364</td>\n",
       "      <td>0.081075</td>\n",
       "      <td>-0.089675</td>\n",
       "      <td>0.001371</td>\n",
       "      <td>-0.018347</td>\n",
       "      <td>0.100143</td>\n",
       "      <td>0.004229</td>\n",
       "      <td>-0.168487</td>\n",
       "      <td>-0.065840</td>\n",
       "      <td>...</td>\n",
       "      <td>-0.114507</td>\n",
       "      <td>0.006824</td>\n",
       "      <td>-0.183686</td>\n",
       "      <td>0.006500</td>\n",
       "      <td>-0.066820</td>\n",
       "      <td>0.013238</td>\n",
       "      <td>-0.087850</td>\n",
       "      <td>-0.010228</td>\n",
       "      <td>-0.111716</td>\n",
       "      <td>-0.066975</td>\n",
       "    </tr>\n",
       "    <tr>\n",
       "      <th>4</th>\n",
       "      <td>-0.017895</td>\n",
       "      <td>0.029566</td>\n",
       "      <td>0.021643</td>\n",
       "      <td>-0.026001</td>\n",
       "      <td>0.001391</td>\n",
       "      <td>-0.007012</td>\n",
       "      <td>0.028064</td>\n",
       "      <td>0.005878</td>\n",
       "      <td>-0.042325</td>\n",
       "      <td>-0.021293</td>\n",
       "      <td>...</td>\n",
       "      <td>-0.035176</td>\n",
       "      <td>0.004032</td>\n",
       "      <td>-0.049694</td>\n",
       "      <td>0.004337</td>\n",
       "      <td>-0.024952</td>\n",
       "      <td>0.003663</td>\n",
       "      <td>-0.024778</td>\n",
       "      <td>-0.007309</td>\n",
       "      <td>-0.026831</td>\n",
       "      <td>-0.021770</td>\n",
       "    </tr>\n",
       "    <tr>\n",
       "      <th>...</th>\n",
       "      <td>...</td>\n",
       "      <td>...</td>\n",
       "      <td>...</td>\n",
       "      <td>...</td>\n",
       "      <td>...</td>\n",
       "      <td>...</td>\n",
       "      <td>...</td>\n",
       "      <td>...</td>\n",
       "      <td>...</td>\n",
       "      <td>...</td>\n",
       "      <td>...</td>\n",
       "      <td>...</td>\n",
       "      <td>...</td>\n",
       "      <td>...</td>\n",
       "      <td>...</td>\n",
       "      <td>...</td>\n",
       "      <td>...</td>\n",
       "      <td>...</td>\n",
       "      <td>...</td>\n",
       "      <td>...</td>\n",
       "      <td>...</td>\n",
       "    </tr>\n",
       "    <tr>\n",
       "      <th>277195</th>\n",
       "      <td>-0.000663</td>\n",
       "      <td>0.000106</td>\n",
       "      <td>-0.001281</td>\n",
       "      <td>-0.000529</td>\n",
       "      <td>0.001847</td>\n",
       "      <td>0.001724</td>\n",
       "      <td>-0.000201</td>\n",
       "      <td>-0.003414</td>\n",
       "      <td>0.001782</td>\n",
       "      <td>0.000404</td>\n",
       "      <td>...</td>\n",
       "      <td>0.001871</td>\n",
       "      <td>0.000387</td>\n",
       "      <td>-0.000532</td>\n",
       "      <td>-0.000985</td>\n",
       "      <td>0.002243</td>\n",
       "      <td>-0.001190</td>\n",
       "      <td>0.002249</td>\n",
       "      <td>0.001333</td>\n",
       "      <td>-0.001061</td>\n",
       "      <td>-0.000294</td>\n",
       "    </tr>\n",
       "    <tr>\n",
       "      <th>277196</th>\n",
       "      <td>-0.000814</td>\n",
       "      <td>0.000313</td>\n",
       "      <td>-0.001819</td>\n",
       "      <td>-0.000853</td>\n",
       "      <td>0.002900</td>\n",
       "      <td>0.002588</td>\n",
       "      <td>-0.000765</td>\n",
       "      <td>-0.005196</td>\n",
       "      <td>0.002887</td>\n",
       "      <td>0.000554</td>\n",
       "      <td>...</td>\n",
       "      <td>0.002895</td>\n",
       "      <td>0.000394</td>\n",
       "      <td>-0.001226</td>\n",
       "      <td>-0.001490</td>\n",
       "      <td>0.003483</td>\n",
       "      <td>-0.002166</td>\n",
       "      <td>0.003738</td>\n",
       "      <td>0.002156</td>\n",
       "      <td>-0.001370</td>\n",
       "      <td>-0.000499</td>\n",
       "    </tr>\n",
       "    <tr>\n",
       "      <th>277197</th>\n",
       "      <td>0.039051</td>\n",
       "      <td>0.002255</td>\n",
       "      <td>-0.013961</td>\n",
       "      <td>-0.017522</td>\n",
       "      <td>-0.006783</td>\n",
       "      <td>-0.036817</td>\n",
       "      <td>-0.041606</td>\n",
       "      <td>-0.026354</td>\n",
       "      <td>0.060860</td>\n",
       "      <td>0.058716</td>\n",
       "      <td>...</td>\n",
       "      <td>0.078374</td>\n",
       "      <td>0.063444</td>\n",
       "      <td>0.129917</td>\n",
       "      <td>0.051093</td>\n",
       "      <td>0.011726</td>\n",
       "      <td>-0.021745</td>\n",
       "      <td>-0.050653</td>\n",
       "      <td>-0.016714</td>\n",
       "      <td>0.055179</td>\n",
       "      <td>0.020004</td>\n",
       "    </tr>\n",
       "    <tr>\n",
       "      <th>277198</th>\n",
       "      <td>0.033865</td>\n",
       "      <td>0.079092</td>\n",
       "      <td>-0.107640</td>\n",
       "      <td>0.085196</td>\n",
       "      <td>0.036734</td>\n",
       "      <td>-0.138652</td>\n",
       "      <td>-0.016204</td>\n",
       "      <td>-0.106429</td>\n",
       "      <td>0.062254</td>\n",
       "      <td>0.010809</td>\n",
       "      <td>...</td>\n",
       "      <td>0.271270</td>\n",
       "      <td>0.117052</td>\n",
       "      <td>0.444226</td>\n",
       "      <td>0.021117</td>\n",
       "      <td>-0.012003</td>\n",
       "      <td>-0.033863</td>\n",
       "      <td>-0.132913</td>\n",
       "      <td>-0.304590</td>\n",
       "      <td>-0.049435</td>\n",
       "      <td>-0.070351</td>\n",
       "    </tr>\n",
       "    <tr>\n",
       "      <th>277199</th>\n",
       "      <td>0.075383</td>\n",
       "      <td>-0.031224</td>\n",
       "      <td>-0.005213</td>\n",
       "      <td>-0.050243</td>\n",
       "      <td>-0.004561</td>\n",
       "      <td>-0.015376</td>\n",
       "      <td>-0.090746</td>\n",
       "      <td>-0.026873</td>\n",
       "      <td>0.115318</td>\n",
       "      <td>0.120478</td>\n",
       "      <td>...</td>\n",
       "      <td>0.131365</td>\n",
       "      <td>0.045351</td>\n",
       "      <td>0.195222</td>\n",
       "      <td>0.096053</td>\n",
       "      <td>0.026607</td>\n",
       "      <td>-0.065916</td>\n",
       "      <td>-0.088988</td>\n",
       "      <td>0.005895</td>\n",
       "      <td>0.127548</td>\n",
       "      <td>0.035524</td>\n",
       "    </tr>\n",
       "  </tbody>\n",
       "</table>\n",
       "<p>277200 rows × 250 columns</p>\n",
       "</div>"
      ],
      "text/plain": [
       "        Feature_000  Feature_001  Feature_002  Feature_003  Feature_004  Feature_005  Feature_006  Feature_007  Feature_008  \\\n",
       "0         -0.015171     0.019367     0.028378    -0.016473     0.000907     0.000136     0.004825    -0.037934    -0.062155   \n",
       "1         -0.010611     0.055484     0.074405     0.012844    -0.054465    -0.073002     0.032855    -0.061387    -0.149656   \n",
       "2         -0.034933     0.035995     0.057973    -0.034025    -0.006909     0.003759     0.004729    -0.072771    -0.125197   \n",
       "3         -0.060865     0.105364     0.081075    -0.089675     0.001371    -0.018347     0.100143     0.004229    -0.168487   \n",
       "4         -0.017895     0.029566     0.021643    -0.026001     0.001391    -0.007012     0.028064     0.005878    -0.042325   \n",
       "...             ...          ...          ...          ...          ...          ...          ...          ...          ...   \n",
       "277195    -0.000663     0.000106    -0.001281    -0.000529     0.001847     0.001724    -0.000201    -0.003414     0.001782   \n",
       "277196    -0.000814     0.000313    -0.001819    -0.000853     0.002900     0.002588    -0.000765    -0.005196     0.002887   \n",
       "277197     0.039051     0.002255    -0.013961    -0.017522    -0.006783    -0.036817    -0.041606    -0.026354     0.060860   \n",
       "277198     0.033865     0.079092    -0.107640     0.085196     0.036734    -0.138652    -0.016204    -0.106429     0.062254   \n",
       "277199     0.075383    -0.031224    -0.005213    -0.050243    -0.004561    -0.015376    -0.090746    -0.026873     0.115318   \n",
       "\n",
       "        Feature_009  ...  Feature_240  Feature_241  Feature_242  Feature_243  Feature_244  Feature_245  Feature_246  Feature_247  \\\n",
       "0         -0.006528  ...     0.009390    -0.008253    -0.037940    -0.016286     0.022038     0.005269    -0.018263     0.012688   \n",
       "1         -0.119751  ...     0.095957     0.040152    -0.005584     0.046152    -0.024817     0.049557    -0.078429     0.029078   \n",
       "2         -0.009123  ...     0.017318    -0.012258    -0.079632    -0.032763     0.054452     0.009448    -0.038036     0.030926   \n",
       "3         -0.065840  ...    -0.114507     0.006824    -0.183686     0.006500    -0.066820     0.013238    -0.087850    -0.010228   \n",
       "4         -0.021293  ...    -0.035176     0.004032    -0.049694     0.004337    -0.024952     0.003663    -0.024778    -0.007309   \n",
       "...             ...  ...          ...          ...          ...          ...          ...          ...          ...          ...   \n",
       "277195     0.000404  ...     0.001871     0.000387    -0.000532    -0.000985     0.002243    -0.001190     0.002249     0.001333   \n",
       "277196     0.000554  ...     0.002895     0.000394    -0.001226    -0.001490     0.003483    -0.002166     0.003738     0.002156   \n",
       "277197     0.058716  ...     0.078374     0.063444     0.129917     0.051093     0.011726    -0.021745    -0.050653    -0.016714   \n",
       "277198     0.010809  ...     0.271270     0.117052     0.444226     0.021117    -0.012003    -0.033863    -0.132913    -0.304590   \n",
       "277199     0.120478  ...     0.131365     0.045351     0.195222     0.096053     0.026607    -0.065916    -0.088988     0.005895   \n",
       "\n",
       "        Feature_248  Feature_249  \n",
       "0         -0.054655     0.004202  \n",
       "1         -0.124861     0.021048  \n",
       "2         -0.111577     0.015640  \n",
       "3         -0.111716    -0.066975  \n",
       "4         -0.026831    -0.021770  \n",
       "...             ...          ...  \n",
       "277195    -0.001061    -0.000294  \n",
       "277196    -0.001370    -0.000499  \n",
       "277197     0.055179     0.020004  \n",
       "277198    -0.049435    -0.070351  \n",
       "277199     0.127548     0.035524  \n",
       "\n",
       "[277200 rows x 250 columns]"
      ]
     },
     "execution_count": 35,
     "metadata": {},
     "output_type": "execute_result"
    }
   ],
   "source": [
    "X_DATA = df_train_x.iloc[:, 11:]    ## bal_train_X\n",
    "X_DATA"
   ]
  },
  {
   "cell_type": "code",
   "execution_count": 61,
   "id": "9292ab45-db5c-46ca-b9dc-a0739903f038",
   "metadata": {
    "execution": {
     "iopub.execute_input": "2024-12-09T09:33:03.237561Z",
     "iopub.status.busy": "2024-12-09T09:33:03.237088Z",
     "iopub.status.idle": "2024-12-09T09:33:03.280110Z",
     "shell.execute_reply": "2024-12-09T09:33:03.279375Z",
     "shell.execute_reply.started": "2024-12-09T09:33:03.237524Z"
    }
   },
   "outputs": [],
   "source": [
    "Best_Estimators = []\n",
    "df_metrics = pd.DataFrame()"
   ]
  },
  {
   "cell_type": "code",
   "execution_count": 37,
   "id": "377a17e4-4492-42e6-bb79-cf344def52ac",
   "metadata": {
    "execution": {
     "iopub.execute_input": "2024-12-07T11:58:28.936002Z",
     "iopub.status.busy": "2024-12-07T11:58:28.935622Z",
     "iopub.status.idle": "2024-12-07T11:58:28.972948Z",
     "shell.execute_reply": "2024-12-07T11:58:28.972294Z",
     "shell.execute_reply.started": "2024-12-07T11:58:28.935970Z"
    }
   },
   "outputs": [],
   "source": [
    "RANDOM_STATE = 6666\n",
    "NUM_JOBS = 1\n"
   ]
  },
  {
   "cell_type": "code",
   "execution_count": 38,
   "id": "6104c96e-75b9-48cc-8f36-1699a2e95039",
   "metadata": {
    "execution": {
     "iopub.execute_input": "2024-12-07T11:58:32.202750Z",
     "iopub.status.busy": "2024-12-07T11:58:32.202277Z",
     "iopub.status.idle": "2024-12-07T11:58:32.238992Z",
     "shell.execute_reply": "2024-12-07T11:58:32.238341Z",
     "shell.execute_reply.started": "2024-12-07T11:58:32.202712Z"
    }
   },
   "outputs": [],
   "source": [
    "# Y_INDEX = 17\n",
    "Y_DATA = df_train_y ## .iloc[:, Y_INDEX + Y_OFFSET] ## bal_train_y"
   ]
  },
  {
   "cell_type": "code",
   "execution_count": 39,
   "id": "62849b26-a645-449d-8053-a919d7d626a3",
   "metadata": {
    "ExecuteTime": {
     "end_time": "2023-04-28T12:47:10.584139Z",
     "start_time": "2023-04-28T12:47:10.568010Z"
    },
    "editable": true,
    "execution": {
     "iopub.execute_input": "2024-12-07T11:58:39.225658Z",
     "iopub.status.busy": "2024-12-07T11:58:39.225174Z",
     "iopub.status.idle": "2024-12-07T11:58:39.263544Z",
     "shell.execute_reply": "2024-12-07T11:58:39.262964Z",
     "shell.execute_reply.started": "2024-12-07T11:58:39.225617Z"
    },
    "hidden": true,
    "slideshow": {
     "slide_type": ""
    },
    "tags": []
   },
   "outputs": [],
   "source": [
    "# knn_grid_parameters = {'n_neighbors': [3,4,5],\n",
    "#                        'weights': ['distance'],\n",
    "#                        'p': [1,2]}\n",
    "\n",
    "# knn_grid_parameters = {'n_neighbors': [5, 9, 15, 19, 23, 25, 35, 45, 55, 71],\n",
    "#                        'weights': ['distance'],\n",
    "#                        'metric' : ['jaccard', 'dice', 'rogerstanimoto']}\n",
    "\n",
    "# knn_grid_parameters = {'n_neighbors': [5, 9, 15, 19, 25, 35, 45, 55, 71],\n",
    "#                        'weights': ['distance'],\n",
    "#                        'metric' : ['hamming', 'canberra', 'braycurtis']}\n",
    "\n",
    "# knn_grid_parameters = {'n_neighbors': [57],\n",
    "#                        'weights': ['distance'],\n",
    "#                        'metric' : ['jaccard', 'dice', 'rogerstanimoto', \n",
    "#                                    'hamming', 'canberra', 'braycurtis']}\n",
    "\n",
    "# knn_grid_parameters_des = {'n_neighbors': [3, 6, 9, 12, 15],\n",
    "#                            'weights': ['distance'],\n",
    "#                            'p': [1]}\n",
    "\n",
    "# knn_grid_parameters = {'n_neighbors': [105, 120,  135, 150 ],\n",
    "#                        'weights': ['distance'],\n",
    "#                        'metric' : ['minkowski'],'p': [2]}\n",
    "\n",
    "knn_grid_parameters = {'n_neighbors': [10, 25, 50],\n",
    "                       'weights': ['distance'],\n",
    "                       'p': [2]}\n",
    "\n"
   ]
  },
  {
   "cell_type": "code",
   "execution_count": 40,
   "id": "890ea1a5-298f-40be-b759-d7f4f5f1f884",
   "metadata": {
    "execution": {
     "iopub.execute_input": "2024-12-07T11:58:46.416187Z",
     "iopub.status.busy": "2024-12-07T11:58:46.415706Z",
     "iopub.status.idle": "2024-12-07T11:58:46.456473Z",
     "shell.execute_reply": "2024-12-07T11:58:46.455792Z",
     "shell.execute_reply.started": "2024-12-07T11:58:46.416146Z"
    }
   },
   "outputs": [
    {
     "data": {
      "text/plain": [
       "{'n_neighbors': [3, 4, 5], 'weights': ['distance'], 'p': [1, 2]}"
      ]
     },
     "execution_count": 40,
     "metadata": {},
     "output_type": "execute_result"
    },
    {
     "data": {
      "text/plain": [
       "6666"
      ]
     },
     "execution_count": 40,
     "metadata": {},
     "output_type": "execute_result"
    }
   ],
   "source": [
    "PARM_SET = knn_grid_parameters\n",
    "PARM_SET\n",
    "RANDOM_STATE\n",
    "NUM_JOBS = 1"
   ]
  },
  {
   "cell_type": "markdown",
   "id": "9a763530-f0c5-4cca-a3e6-8dd2ee3506b4",
   "metadata": {},
   "source": [
    "## Training"
   ]
  },
  {
   "cell_type": "code",
   "execution_count": 41,
   "id": "4c7a942a-6086-438a-b8fe-90300b30c1c2",
   "metadata": {
    "editable": true,
    "execution": {
     "iopub.execute_input": "2024-12-07T11:58:50.467140Z",
     "iopub.status.busy": "2024-12-07T11:58:50.466646Z",
     "iopub.status.idle": "2024-12-07T11:58:50.504040Z",
     "shell.execute_reply": "2024-12-07T11:58:50.503456Z",
     "shell.execute_reply.started": "2024-12-07T11:58:50.467099Z"
    },
    "slideshow": {
     "slide_type": ""
    },
    "tags": []
   },
   "outputs": [],
   "source": [
    "knn_clf = KNeighborsClassifier()"
   ]
  },
  {
   "cell_type": "code",
   "execution_count": 43,
   "id": "a2b9f459-19c7-4ed9-8b51-173c5f622772",
   "metadata": {
    "ExecuteTime": {
     "end_time": "2023-04-28T12:53:46.034659Z",
     "start_time": "2023-04-28T12:48:26.670871Z"
    },
    "editable": true,
    "execution": {
     "iopub.execute_input": "2024-12-07T11:59:09.618898Z",
     "iopub.status.busy": "2024-12-07T11:59:09.618259Z",
     "iopub.status.idle": "2024-12-07T14:26:00.038829Z",
     "shell.execute_reply": "2024-12-07T14:26:00.037870Z",
     "shell.execute_reply.started": "2024-12-07T11:59:09.618845Z"
    },
    "hidden": true,
    "scrolled": true,
    "slideshow": {
     "slide_type": ""
    },
    "tags": []
   },
   "outputs": [
    {
     "name": "stdout",
     "output_type": "stream",
     "text": [
      " verbose is 4\n",
      " params_grid: {'n_neighbors': [3, 4, 5], 'weights': ['distance'], 'p': [1, 2]}\n",
      " scoring    : roc_auc     cv:  5   n_jobs: 1   gridsearch: True    n_iter: 20   refit: True   \n",
      "Fitting 5 folds for each of 6 candidates, totalling 30 fits\n",
      "[CV 1/5] END n_neighbors=3, p=1, weights=distance;, score=0.542 total time= 9.0min\n",
      "[CV 2/5] END n_neighbors=3, p=1, weights=distance;, score=0.541 total time= 9.3min\n",
      "[CV 3/5] END n_neighbors=3, p=1, weights=distance;, score=0.543 total time=10.3min\n",
      "[CV 4/5] END n_neighbors=3, p=1, weights=distance;, score=0.540 total time= 9.7min\n",
      "[CV 5/5] END n_neighbors=3, p=1, weights=distance;, score=0.546 total time= 8.9min\n",
      "[CV 1/5] END n_neighbors=3, p=2, weights=distance;, score=0.541 total time=  36.1s\n",
      "[CV 2/5] END n_neighbors=3, p=2, weights=distance;, score=0.541 total time=  36.7s\n",
      "[CV 3/5] END n_neighbors=3, p=2, weights=distance;, score=0.545 total time=  37.6s\n",
      "[CV 4/5] END n_neighbors=3, p=2, weights=distance;, score=0.544 total time=  37.6s\n",
      "[CV 5/5] END n_neighbors=3, p=2, weights=distance;, score=0.547 total time=  37.4s\n",
      "[CV 1/5] END n_neighbors=4, p=1, weights=distance;, score=0.549 total time= 9.1min\n",
      "[CV 2/5] END n_neighbors=4, p=1, weights=distance;, score=0.546 total time= 9.1min\n",
      "[CV 3/5] END n_neighbors=4, p=1, weights=distance;, score=0.552 total time= 9.1min\n",
      "[CV 4/5] END n_neighbors=4, p=1, weights=distance;, score=0.549 total time= 9.0min\n",
      "[CV 5/5] END n_neighbors=4, p=1, weights=distance;, score=0.552 total time= 9.0min\n",
      "[CV 1/5] END n_neighbors=4, p=2, weights=distance;, score=0.548 total time=  35.9s\n",
      "[CV 2/5] END n_neighbors=4, p=2, weights=distance;, score=0.547 total time=  37.2s\n",
      "[CV 3/5] END n_neighbors=4, p=2, weights=distance;, score=0.552 total time=  37.4s\n",
      "[CV 4/5] END n_neighbors=4, p=2, weights=distance;, score=0.550 total time=  36.9s\n",
      "[CV 5/5] END n_neighbors=4, p=2, weights=distance;, score=0.553 total time=  37.5s\n",
      "[CV 1/5] END n_neighbors=5, p=1, weights=distance;, score=0.553 total time= 9.0min\n",
      "[CV 2/5] END n_neighbors=5, p=1, weights=distance;, score=0.553 total time= 9.1min\n",
      "[CV 3/5] END n_neighbors=5, p=1, weights=distance;, score=0.558 total time= 9.0min\n",
      "[CV 4/5] END n_neighbors=5, p=1, weights=distance;, score=0.556 total time= 9.0min\n",
      "[CV 5/5] END n_neighbors=5, p=1, weights=distance;, score=0.561 total time= 9.0min\n",
      "[CV 1/5] END n_neighbors=5, p=2, weights=distance;, score=0.553 total time=  37.0s\n",
      "[CV 2/5] END n_neighbors=5, p=2, weights=distance;, score=0.552 total time=  37.6s\n",
      "[CV 3/5] END n_neighbors=5, p=2, weights=distance;, score=0.559 total time=  37.3s\n",
      "[CV 4/5] END n_neighbors=5, p=2, weights=distance;, score=0.557 total time=  37.5s\n",
      "[CV 5/5] END n_neighbors=5, p=2, weights=distance;, score=0.559 total time=  37.6s\n",
      "Best parameters set found on development set: {'n_neighbors': 5, 'p': 1, 'weights': 'distance'}\n",
      "Best score: 0.5560632177145781\n",
      "Grid scores on development set:\n",
      "\n",
      "0.54270 (+/-0.004) for {'n_neighbors': 3, 'p': 1, 'weights': 'distance'}\n",
      "0.54346 (+/-0.005) for {'n_neighbors': 3, 'p': 2, 'weights': 'distance'}\n",
      "0.54967 (+/-0.005) for {'n_neighbors': 4, 'p': 1, 'weights': 'distance'}\n",
      "0.54992 (+/-0.005) for {'n_neighbors': 4, 'p': 2, 'weights': 'distance'}\n",
      "0.55606 (+/-0.006) for {'n_neighbors': 5, 'p': 1, 'weights': 'distance'}\n",
      "0.55599 (+/-0.005) for {'n_neighbors': 5, 'p': 2, 'weights': 'distance'}\n"
     ]
    }
   ],
   "source": [
    "vt_knn  = model_selection(knn_clf, PARM_SET, X_DATA, Y_DATA, scoring='roc_auc',\n",
    "                                   cv=5, GridSearch=True, n_jobs=NUM_JOBS, verbose=4)"
   ]
  },
  {
   "cell_type": "code",
   "execution_count": 60,
   "id": "b83932ba-9baf-474e-a3e6-a0dcfed5919e",
   "metadata": {
    "execution": {
     "iopub.execute_input": "2024-12-09T09:32:48.615006Z",
     "iopub.status.busy": "2024-12-09T09:32:48.614488Z",
     "iopub.status.idle": "2024-12-09T09:32:48.675178Z",
     "shell.execute_reply": "2024-12-09T09:32:48.674416Z",
     "shell.execute_reply.started": "2024-12-09T09:32:48.614955Z"
    },
    "scrolled": true
   },
   "outputs": [
    {
     "data": {
      "text/html": [
       "<div>\n",
       "<style scoped>\n",
       "    .dataframe tbody tr th:only-of-type {\n",
       "        vertical-align: middle;\n",
       "    }\n",
       "\n",
       "    .dataframe tbody tr th {\n",
       "        vertical-align: top;\n",
       "    }\n",
       "\n",
       "    .dataframe thead th {\n",
       "        text-align: right;\n",
       "    }\n",
       "</style>\n",
       "<table border=\"1\" class=\"dataframe\">\n",
       "  <thead>\n",
       "    <tr style=\"text-align: right;\">\n",
       "      <th></th>\n",
       "      <th>rank_test_score</th>\n",
       "      <th>mean_test_score</th>\n",
       "      <th>std_test_score</th>\n",
       "      <th>param_n_neighbors</th>\n",
       "      <th>param_p</th>\n",
       "      <th>param_weights</th>\n",
       "      <th>split0_test_score</th>\n",
       "      <th>split1_test_score</th>\n",
       "      <th>split2_test_score</th>\n",
       "      <th>split3_test_score</th>\n",
       "      <th>split4_test_score</th>\n",
       "      <th>mean_fit_time</th>\n",
       "      <th>std_fit_time</th>\n",
       "      <th>mean_score_time</th>\n",
       "      <th>std_score_time</th>\n",
       "      <th>params</th>\n",
       "      <th>random_seed</th>\n",
       "    </tr>\n",
       "  </thead>\n",
       "  <tbody>\n",
       "    <tr>\n",
       "      <th>0</th>\n",
       "      <td>6</td>\n",
       "      <td>0.542704</td>\n",
       "      <td>0.002186</td>\n",
       "      <td>3</td>\n",
       "      <td>1</td>\n",
       "      <td>distance</td>\n",
       "      <td>0.542421</td>\n",
       "      <td>0.540705</td>\n",
       "      <td>0.543413</td>\n",
       "      <td>0.540483</td>\n",
       "      <td>0.546496</td>\n",
       "      <td>0.564230</td>\n",
       "      <td>0.024844</td>\n",
       "      <td>566.634794</td>\n",
       "      <td>30.863054</td>\n",
       "      <td>{'n_neighbors': 3, 'p': 1, 'weights': 'distance'}</td>\n",
       "      <td>6666</td>\n",
       "    </tr>\n",
       "    <tr>\n",
       "      <th>1</th>\n",
       "      <td>5</td>\n",
       "      <td>0.543458</td>\n",
       "      <td>0.002265</td>\n",
       "      <td>3</td>\n",
       "      <td>2</td>\n",
       "      <td>distance</td>\n",
       "      <td>0.541189</td>\n",
       "      <td>0.540709</td>\n",
       "      <td>0.544972</td>\n",
       "      <td>0.543704</td>\n",
       "      <td>0.546714</td>\n",
       "      <td>0.590494</td>\n",
       "      <td>0.077733</td>\n",
       "      <td>36.495130</td>\n",
       "      <td>0.671241</td>\n",
       "      <td>{'n_neighbors': 3, 'p': 2, 'weights': 'distance'}</td>\n",
       "      <td>6666</td>\n",
       "    </tr>\n",
       "    <tr>\n",
       "      <th>2</th>\n",
       "      <td>4</td>\n",
       "      <td>0.549672</td>\n",
       "      <td>0.002532</td>\n",
       "      <td>4</td>\n",
       "      <td>1</td>\n",
       "      <td>distance</td>\n",
       "      <td>0.548796</td>\n",
       "      <td>0.545637</td>\n",
       "      <td>0.552368</td>\n",
       "      <td>0.549153</td>\n",
       "      <td>0.552404</td>\n",
       "      <td>0.537243</td>\n",
       "      <td>0.001897</td>\n",
       "      <td>542.617362</td>\n",
       "      <td>3.731270</td>\n",
       "      <td>{'n_neighbors': 4, 'p': 1, 'weights': 'distance'}</td>\n",
       "      <td>6666</td>\n",
       "    </tr>\n",
       "    <tr>\n",
       "      <th>3</th>\n",
       "      <td>3</td>\n",
       "      <td>0.549915</td>\n",
       "      <td>0.002301</td>\n",
       "      <td>4</td>\n",
       "      <td>2</td>\n",
       "      <td>distance</td>\n",
       "      <td>0.547837</td>\n",
       "      <td>0.546711</td>\n",
       "      <td>0.552055</td>\n",
       "      <td>0.550395</td>\n",
       "      <td>0.552577</td>\n",
       "      <td>0.534752</td>\n",
       "      <td>0.003616</td>\n",
       "      <td>36.451653</td>\n",
       "      <td>0.570380</td>\n",
       "      <td>{'n_neighbors': 4, 'p': 2, 'weights': 'distance'}</td>\n",
       "      <td>6666</td>\n",
       "    </tr>\n",
       "    <tr>\n",
       "      <th>4</th>\n",
       "      <td>1</td>\n",
       "      <td>0.556063</td>\n",
       "      <td>0.003046</td>\n",
       "      <td>5</td>\n",
       "      <td>1</td>\n",
       "      <td>distance</td>\n",
       "      <td>0.553227</td>\n",
       "      <td>0.552577</td>\n",
       "      <td>0.558308</td>\n",
       "      <td>0.555569</td>\n",
       "      <td>0.560636</td>\n",
       "      <td>0.547580</td>\n",
       "      <td>0.009965</td>\n",
       "      <td>539.565253</td>\n",
       "      <td>2.399804</td>\n",
       "      <td>{'n_neighbors': 5, 'p': 1, 'weights': 'distance'}</td>\n",
       "      <td>6666</td>\n",
       "    </tr>\n",
       "    <tr>\n",
       "      <th>5</th>\n",
       "      <td>2</td>\n",
       "      <td>0.555989</td>\n",
       "      <td>0.002660</td>\n",
       "      <td>5</td>\n",
       "      <td>2</td>\n",
       "      <td>distance</td>\n",
       "      <td>0.553391</td>\n",
       "      <td>0.552426</td>\n",
       "      <td>0.558500</td>\n",
       "      <td>0.556597</td>\n",
       "      <td>0.559031</td>\n",
       "      <td>0.538175</td>\n",
       "      <td>0.003690</td>\n",
       "      <td>36.895619</td>\n",
       "      <td>0.223163</td>\n",
       "      <td>{'n_neighbors': 5, 'p': 2, 'weights': 'distance'}</td>\n",
       "      <td>6666</td>\n",
       "    </tr>\n",
       "  </tbody>\n",
       "</table>\n",
       "</div>"
      ],
      "text/plain": [
       "   rank_test_score  mean_test_score  std_test_score param_n_neighbors param_p param_weights  split0_test_score  split1_test_score  \\\n",
       "0                6         0.542704        0.002186                 3       1      distance           0.542421           0.540705   \n",
       "1                5         0.543458        0.002265                 3       2      distance           0.541189           0.540709   \n",
       "2                4         0.549672        0.002532                 4       1      distance           0.548796           0.545637   \n",
       "3                3         0.549915        0.002301                 4       2      distance           0.547837           0.546711   \n",
       "4                1         0.556063        0.003046                 5       1      distance           0.553227           0.552577   \n",
       "5                2         0.555989        0.002660                 5       2      distance           0.553391           0.552426   \n",
       "\n",
       "   split2_test_score  split3_test_score  split4_test_score  mean_fit_time  std_fit_time  mean_score_time  std_score_time  \\\n",
       "0           0.543413           0.540483           0.546496       0.564230      0.024844       566.634794       30.863054   \n",
       "1           0.544972           0.543704           0.546714       0.590494      0.077733        36.495130        0.671241   \n",
       "2           0.552368           0.549153           0.552404       0.537243      0.001897       542.617362        3.731270   \n",
       "3           0.552055           0.550395           0.552577       0.534752      0.003616        36.451653        0.570380   \n",
       "4           0.558308           0.555569           0.560636       0.547580      0.009965       539.565253        2.399804   \n",
       "5           0.558500           0.556597           0.559031       0.538175      0.003690        36.895619        0.223163   \n",
       "\n",
       "                                              params  random_seed  \n",
       "0  {'n_neighbors': 3, 'p': 1, 'weights': 'distance'}         6666  \n",
       "1  {'n_neighbors': 3, 'p': 2, 'weights': 'distance'}         6666  \n",
       "2  {'n_neighbors': 4, 'p': 1, 'weights': 'distance'}         6666  \n",
       "3  {'n_neighbors': 4, 'p': 2, 'weights': 'distance'}         6666  \n",
       "4  {'n_neighbors': 5, 'p': 1, 'weights': 'distance'}         6666  \n",
       "5  {'n_neighbors': 5, 'p': 2, 'weights': 'distance'}         6666  "
      ]
     },
     "execution_count": 60,
     "metadata": {},
     "output_type": "execute_result"
    }
   ],
   "source": [
    "## Save best estimator and metrics\n",
    "## -------------------------------------------------------\n",
    "\n",
    "_tmp_df = pd.DataFrame(vt_knn.cv_results_)\n",
    "# _tmp_df['Y_bit'] = selected_label_indices[Y_INDEX]\n",
    "_tmp_df['random_seed'] = RANDOM_STATE\n",
    "reordered_col_names = ['rank_test_score', 'mean_test_score', 'std_test_score', 'param_n_neighbors', 'param_p', 'param_weights', \n",
    "                       'split0_test_score', 'split1_test_score', 'split2_test_score', 'split3_test_score', 'split4_test_score',\n",
    "                       'mean_fit_time', 'std_fit_time', 'mean_score_time', 'std_score_time', 'params', 'random_seed']\n",
    "_tmp_df = _tmp_df[reordered_col_names]\n",
    "_tmp_df"
   ]
  },
  {
   "cell_type": "markdown",
   "id": "810bf4e6-4ff0-49cd-8fe7-f7cc11acf0ed",
   "metadata": {
    "jp-MarkdownHeadingCollapsed": true
   },
   "source": [
    "#### Metric results"
   ]
  },
  {
   "cell_type": "code",
   "execution_count": 51,
   "id": "08505a74-aa44-4596-a18f-bd32fe849021",
   "metadata": {
    "editable": true,
    "execution": {
     "iopub.execute_input": "2024-12-09T09:28:44.188289Z",
     "iopub.status.busy": "2024-12-09T09:28:44.187775Z",
     "iopub.status.idle": "2024-12-09T09:28:44.261577Z",
     "shell.execute_reply": "2024-12-09T09:28:44.260851Z",
     "shell.execute_reply.started": "2024-12-09T09:28:44.188248Z"
    },
    "scrolled": true,
    "slideshow": {
     "slide_type": ""
    },
    "tags": []
   },
   "outputs": [
    {
     "data": {
      "text/html": [
       "<style>#sk-container-id-12 {color: black;}#sk-container-id-12 pre{padding: 0;}#sk-container-id-12 div.sk-toggleable {background-color: white;}#sk-container-id-12 label.sk-toggleable__label {cursor: pointer;display: block;width: 100%;margin-bottom: 0;padding: 0.3em;box-sizing: border-box;text-align: center;}#sk-container-id-12 label.sk-toggleable__label-arrow:before {content: \"▸\";float: left;margin-right: 0.25em;color: #696969;}#sk-container-id-12 label.sk-toggleable__label-arrow:hover:before {color: black;}#sk-container-id-12 div.sk-estimator:hover label.sk-toggleable__label-arrow:before {color: black;}#sk-container-id-12 div.sk-toggleable__content {max-height: 0;max-width: 0;overflow: hidden;text-align: left;background-color: #f0f8ff;}#sk-container-id-12 div.sk-toggleable__content pre {margin: 0.2em;color: black;border-radius: 0.25em;background-color: #f0f8ff;}#sk-container-id-12 input.sk-toggleable__control:checked~div.sk-toggleable__content {max-height: 200px;max-width: 100%;overflow: auto;}#sk-container-id-12 input.sk-toggleable__control:checked~label.sk-toggleable__label-arrow:before {content: \"▾\";}#sk-container-id-12 div.sk-estimator input.sk-toggleable__control:checked~label.sk-toggleable__label {background-color: #d4ebff;}#sk-container-id-12 div.sk-label input.sk-toggleable__control:checked~label.sk-toggleable__label {background-color: #d4ebff;}#sk-container-id-12 input.sk-hidden--visually {border: 0;clip: rect(1px 1px 1px 1px);clip: rect(1px, 1px, 1px, 1px);height: 1px;margin: -1px;overflow: hidden;padding: 0;position: absolute;width: 1px;}#sk-container-id-12 div.sk-estimator {font-family: monospace;background-color: #f0f8ff;border: 1px dotted black;border-radius: 0.25em;box-sizing: border-box;margin-bottom: 0.5em;}#sk-container-id-12 div.sk-estimator:hover {background-color: #d4ebff;}#sk-container-id-12 div.sk-parallel-item::after {content: \"\";width: 100%;border-bottom: 1px solid gray;flex-grow: 1;}#sk-container-id-12 div.sk-label:hover label.sk-toggleable__label {background-color: #d4ebff;}#sk-container-id-12 div.sk-serial::before {content: \"\";position: absolute;border-left: 1px solid gray;box-sizing: border-box;top: 0;bottom: 0;left: 50%;z-index: 0;}#sk-container-id-12 div.sk-serial {display: flex;flex-direction: column;align-items: center;background-color: white;padding-right: 0.2em;padding-left: 0.2em;position: relative;}#sk-container-id-12 div.sk-item {position: relative;z-index: 1;}#sk-container-id-12 div.sk-parallel {display: flex;align-items: stretch;justify-content: center;background-color: white;position: relative;}#sk-container-id-12 div.sk-item::before, #sk-container-id-12 div.sk-parallel-item::before {content: \"\";position: absolute;border-left: 1px solid gray;box-sizing: border-box;top: 0;bottom: 0;left: 50%;z-index: -1;}#sk-container-id-12 div.sk-parallel-item {display: flex;flex-direction: column;z-index: 1;position: relative;background-color: white;}#sk-container-id-12 div.sk-parallel-item:first-child::after {align-self: flex-end;width: 50%;}#sk-container-id-12 div.sk-parallel-item:last-child::after {align-self: flex-start;width: 50%;}#sk-container-id-12 div.sk-parallel-item:only-child::after {width: 0;}#sk-container-id-12 div.sk-dashed-wrapped {border: 1px dashed gray;margin: 0 0.4em 0.5em 0.4em;box-sizing: border-box;padding-bottom: 0.4em;background-color: white;}#sk-container-id-12 div.sk-label label {font-family: monospace;font-weight: bold;display: inline-block;line-height: 1.2em;}#sk-container-id-12 div.sk-label-container {text-align: center;}#sk-container-id-12 div.sk-container {/* jupyter's `normalize.less` sets `[hidden] { display: none; }` but bootstrap.min.css set `[hidden] { display: none !important; }` so we also need the `!important` here to be able to override the default hidden behavior on the sphinx rendered scikit-learn.org. See: https://github.com/scikit-learn/scikit-learn/issues/21755 */display: inline-block !important;position: relative;}#sk-container-id-12 div.sk-text-repr-fallback {display: none;}</style><div id=\"sk-container-id-12\" class=\"sk-top-container\"><div class=\"sk-text-repr-fallback\"><pre>GridSearchCV(cv=5, estimator=KNeighborsClassifier(), n_jobs=1,\n",
       "             param_grid={&#x27;n_neighbors&#x27;: [3, 4, 5], &#x27;p&#x27;: [1, 2],\n",
       "                         &#x27;weights&#x27;: [&#x27;distance&#x27;]},\n",
       "             pre_dispatch=1, scoring=&#x27;roc_auc&#x27;, verbose=4)</pre><b>In a Jupyter environment, please rerun this cell to show the HTML representation or trust the notebook. <br />On GitHub, the HTML representation is unable to render, please try loading this page with nbviewer.org.</b></div><div class=\"sk-container\" hidden><div class=\"sk-item sk-dashed-wrapped\"><div class=\"sk-label-container\"><div class=\"sk-label sk-toggleable\"><input class=\"sk-toggleable__control sk-hidden--visually\" id=\"sk-estimator-id-20\" type=\"checkbox\" ><label for=\"sk-estimator-id-20\" class=\"sk-toggleable__label sk-toggleable__label-arrow\">GridSearchCV</label><div class=\"sk-toggleable__content\"><pre>GridSearchCV(cv=5, estimator=KNeighborsClassifier(), n_jobs=1,\n",
       "             param_grid={&#x27;n_neighbors&#x27;: [3, 4, 5], &#x27;p&#x27;: [1, 2],\n",
       "                         &#x27;weights&#x27;: [&#x27;distance&#x27;]},\n",
       "             pre_dispatch=1, scoring=&#x27;roc_auc&#x27;, verbose=4)</pre></div></div></div><div class=\"sk-parallel\"><div class=\"sk-parallel-item\"><div class=\"sk-item\"><div class=\"sk-label-container\"><div class=\"sk-label sk-toggleable\"><input class=\"sk-toggleable__control sk-hidden--visually\" id=\"sk-estimator-id-21\" type=\"checkbox\" ><label for=\"sk-estimator-id-21\" class=\"sk-toggleable__label sk-toggleable__label-arrow\">estimator: KNeighborsClassifier</label><div class=\"sk-toggleable__content\"><pre>KNeighborsClassifier()</pre></div></div></div><div class=\"sk-serial\"><div class=\"sk-item\"><div class=\"sk-estimator sk-toggleable\"><input class=\"sk-toggleable__control sk-hidden--visually\" id=\"sk-estimator-id-22\" type=\"checkbox\" ><label for=\"sk-estimator-id-22\" class=\"sk-toggleable__label sk-toggleable__label-arrow\">KNeighborsClassifier</label><div class=\"sk-toggleable__content\"><pre>KNeighborsClassifier()</pre></div></div></div></div></div></div></div></div></div></div>"
      ],
      "text/plain": [
       "GridSearchCV(cv=5, estimator=KNeighborsClassifier(), n_jobs=1,\n",
       "             param_grid={'n_neighbors': [3, 4, 5], 'p': [1, 2],\n",
       "                         'weights': ['distance']},\n",
       "             pre_dispatch=1, scoring='roc_auc', verbose=4)"
      ]
     },
     "execution_count": 51,
     "metadata": {},
     "output_type": "execute_result"
    },
    {
     "data": {
      "text/html": [
       "<style>#sk-container-id-13 {color: black;}#sk-container-id-13 pre{padding: 0;}#sk-container-id-13 div.sk-toggleable {background-color: white;}#sk-container-id-13 label.sk-toggleable__label {cursor: pointer;display: block;width: 100%;margin-bottom: 0;padding: 0.3em;box-sizing: border-box;text-align: center;}#sk-container-id-13 label.sk-toggleable__label-arrow:before {content: \"▸\";float: left;margin-right: 0.25em;color: #696969;}#sk-container-id-13 label.sk-toggleable__label-arrow:hover:before {color: black;}#sk-container-id-13 div.sk-estimator:hover label.sk-toggleable__label-arrow:before {color: black;}#sk-container-id-13 div.sk-toggleable__content {max-height: 0;max-width: 0;overflow: hidden;text-align: left;background-color: #f0f8ff;}#sk-container-id-13 div.sk-toggleable__content pre {margin: 0.2em;color: black;border-radius: 0.25em;background-color: #f0f8ff;}#sk-container-id-13 input.sk-toggleable__control:checked~div.sk-toggleable__content {max-height: 200px;max-width: 100%;overflow: auto;}#sk-container-id-13 input.sk-toggleable__control:checked~label.sk-toggleable__label-arrow:before {content: \"▾\";}#sk-container-id-13 div.sk-estimator input.sk-toggleable__control:checked~label.sk-toggleable__label {background-color: #d4ebff;}#sk-container-id-13 div.sk-label input.sk-toggleable__control:checked~label.sk-toggleable__label {background-color: #d4ebff;}#sk-container-id-13 input.sk-hidden--visually {border: 0;clip: rect(1px 1px 1px 1px);clip: rect(1px, 1px, 1px, 1px);height: 1px;margin: -1px;overflow: hidden;padding: 0;position: absolute;width: 1px;}#sk-container-id-13 div.sk-estimator {font-family: monospace;background-color: #f0f8ff;border: 1px dotted black;border-radius: 0.25em;box-sizing: border-box;margin-bottom: 0.5em;}#sk-container-id-13 div.sk-estimator:hover {background-color: #d4ebff;}#sk-container-id-13 div.sk-parallel-item::after {content: \"\";width: 100%;border-bottom: 1px solid gray;flex-grow: 1;}#sk-container-id-13 div.sk-label:hover label.sk-toggleable__label {background-color: #d4ebff;}#sk-container-id-13 div.sk-serial::before {content: \"\";position: absolute;border-left: 1px solid gray;box-sizing: border-box;top: 0;bottom: 0;left: 50%;z-index: 0;}#sk-container-id-13 div.sk-serial {display: flex;flex-direction: column;align-items: center;background-color: white;padding-right: 0.2em;padding-left: 0.2em;position: relative;}#sk-container-id-13 div.sk-item {position: relative;z-index: 1;}#sk-container-id-13 div.sk-parallel {display: flex;align-items: stretch;justify-content: center;background-color: white;position: relative;}#sk-container-id-13 div.sk-item::before, #sk-container-id-13 div.sk-parallel-item::before {content: \"\";position: absolute;border-left: 1px solid gray;box-sizing: border-box;top: 0;bottom: 0;left: 50%;z-index: -1;}#sk-container-id-13 div.sk-parallel-item {display: flex;flex-direction: column;z-index: 1;position: relative;background-color: white;}#sk-container-id-13 div.sk-parallel-item:first-child::after {align-self: flex-end;width: 50%;}#sk-container-id-13 div.sk-parallel-item:last-child::after {align-self: flex-start;width: 50%;}#sk-container-id-13 div.sk-parallel-item:only-child::after {width: 0;}#sk-container-id-13 div.sk-dashed-wrapped {border: 1px dashed gray;margin: 0 0.4em 0.5em 0.4em;box-sizing: border-box;padding-bottom: 0.4em;background-color: white;}#sk-container-id-13 div.sk-label label {font-family: monospace;font-weight: bold;display: inline-block;line-height: 1.2em;}#sk-container-id-13 div.sk-label-container {text-align: center;}#sk-container-id-13 div.sk-container {/* jupyter's `normalize.less` sets `[hidden] { display: none; }` but bootstrap.min.css set `[hidden] { display: none !important; }` so we also need the `!important` here to be able to override the default hidden behavior on the sphinx rendered scikit-learn.org. See: https://github.com/scikit-learn/scikit-learn/issues/21755 */display: inline-block !important;position: relative;}#sk-container-id-13 div.sk-text-repr-fallback {display: none;}</style><div id=\"sk-container-id-13\" class=\"sk-top-container\"><div class=\"sk-text-repr-fallback\"><pre>KNeighborsClassifier(p=1, weights=&#x27;distance&#x27;)</pre><b>In a Jupyter environment, please rerun this cell to show the HTML representation or trust the notebook. <br />On GitHub, the HTML representation is unable to render, please try loading this page with nbviewer.org.</b></div><div class=\"sk-container\" hidden><div class=\"sk-item\"><div class=\"sk-estimator sk-toggleable\"><input class=\"sk-toggleable__control sk-hidden--visually\" id=\"sk-estimator-id-23\" type=\"checkbox\" checked><label for=\"sk-estimator-id-23\" class=\"sk-toggleable__label sk-toggleable__label-arrow\">KNeighborsClassifier</label><div class=\"sk-toggleable__content\"><pre>KNeighborsClassifier(p=1, weights=&#x27;distance&#x27;)</pre></div></div></div></div></div>"
      ],
      "text/plain": [
       "KNeighborsClassifier(p=1, weights='distance')"
      ]
     },
     "execution_count": 51,
     "metadata": {},
     "output_type": "execute_result"
    },
    {
     "data": {
      "text/plain": [
       "4"
      ]
     },
     "execution_count": 51,
     "metadata": {},
     "output_type": "execute_result"
    },
    {
     "data": {
      "text/plain": [
       "{'n_neighbors': 5, 'p': 1, 'weights': 'distance'}"
      ]
     },
     "execution_count": 51,
     "metadata": {},
     "output_type": "execute_result"
    },
    {
     "data": {
      "text/plain": [
       "0.5560632177145781"
      ]
     },
     "execution_count": 51,
     "metadata": {},
     "output_type": "execute_result"
    },
    {
     "data": {
      "text/plain": [
       "array([0, 1])"
      ]
     },
     "execution_count": 51,
     "metadata": {},
     "output_type": "execute_result"
    },
    {
     "data": {
      "text/plain": [
       "5"
      ]
     },
     "execution_count": 51,
     "metadata": {},
     "output_type": "execute_result"
    },
    {
     "data": {
      "text/plain": [
       "{'mean_fit_time': array([0.5642302 , 0.59049363, 0.53724256, 0.53475204, 0.54758015, 0.5381753 ]),\n",
       " 'std_fit_time': array([0.02484399, 0.0777333 , 0.00189714, 0.00361578, 0.00996465, 0.00369039]),\n",
       " 'mean_score_time': array([566.63479443,  36.49512992, 542.61736245,  36.45165281, 539.56525307,  36.89561944]),\n",
       " 'std_score_time': array([30.8630541 ,  0.67124093,  3.73126974,  0.57038006,  2.39980369,  0.223163  ]),\n",
       " 'param_n_neighbors': masked_array(data=[3, 3, 4, 4, 5, 5],\n",
       "              mask=[False, False, False, False, False, False],\n",
       "        fill_value='?',\n",
       "             dtype=object),\n",
       " 'param_p': masked_array(data=[1, 2, 1, 2, 1, 2],\n",
       "              mask=[False, False, False, False, False, False],\n",
       "        fill_value='?',\n",
       "             dtype=object),\n",
       " 'param_weights': masked_array(data=['distance', 'distance', 'distance', 'distance', 'distance', 'distance'],\n",
       "              mask=[False, False, False, False, False, False],\n",
       "        fill_value='?',\n",
       "             dtype=object),\n",
       " 'params': [{'n_neighbors': 3, 'p': 1, 'weights': 'distance'},\n",
       "  {'n_neighbors': 3, 'p': 2, 'weights': 'distance'},\n",
       "  {'n_neighbors': 4, 'p': 1, 'weights': 'distance'},\n",
       "  {'n_neighbors': 4, 'p': 2, 'weights': 'distance'},\n",
       "  {'n_neighbors': 5, 'p': 1, 'weights': 'distance'},\n",
       "  {'n_neighbors': 5, 'p': 2, 'weights': 'distance'}],\n",
       " 'split0_test_score': array([0.54242145, 0.54118876, 0.54879585, 0.54783703, 0.5532272 , 0.55339135]),\n",
       " 'split1_test_score': array([0.54070544, 0.54070901, 0.5456375 , 0.5467115 , 0.55257679, 0.5524256 ]),\n",
       " 'split2_test_score': array([0.54341309, 0.54497222, 0.55236773, 0.5520555 , 0.55830804, 0.5585005 ]),\n",
       " 'split3_test_score': array([0.54048339, 0.54370436, 0.54915293, 0.55039536, 0.55556854, 0.55659673]),\n",
       " 'split4_test_score': array([0.54649635, 0.54671395, 0.55240386, 0.55257725, 0.56063552, 0.55903073]),\n",
       " 'mean_test_score': array([0.54270394, 0.54345766, 0.54967157, 0.54991533, 0.55606322, 0.55598898]),\n",
       " 'std_test_score': array([0.00218586, 0.00226544, 0.00253157, 0.00230132, 0.00304592, 0.00265987]),\n",
       " 'rank_test_score': array([6, 5, 4, 3, 1, 2], dtype=int32)}"
      ]
     },
     "execution_count": 51,
     "metadata": {},
     "output_type": "execute_result"
    },
    {
     "data": {
      "text/plain": [
       "nan"
      ]
     },
     "execution_count": 51,
     "metadata": {},
     "output_type": "execute_result"
    },
    {
     "data": {
      "text/html": [
       "<style>#sk-container-id-14 {color: black;}#sk-container-id-14 pre{padding: 0;}#sk-container-id-14 div.sk-toggleable {background-color: white;}#sk-container-id-14 label.sk-toggleable__label {cursor: pointer;display: block;width: 100%;margin-bottom: 0;padding: 0.3em;box-sizing: border-box;text-align: center;}#sk-container-id-14 label.sk-toggleable__label-arrow:before {content: \"▸\";float: left;margin-right: 0.25em;color: #696969;}#sk-container-id-14 label.sk-toggleable__label-arrow:hover:before {color: black;}#sk-container-id-14 div.sk-estimator:hover label.sk-toggleable__label-arrow:before {color: black;}#sk-container-id-14 div.sk-toggleable__content {max-height: 0;max-width: 0;overflow: hidden;text-align: left;background-color: #f0f8ff;}#sk-container-id-14 div.sk-toggleable__content pre {margin: 0.2em;color: black;border-radius: 0.25em;background-color: #f0f8ff;}#sk-container-id-14 input.sk-toggleable__control:checked~div.sk-toggleable__content {max-height: 200px;max-width: 100%;overflow: auto;}#sk-container-id-14 input.sk-toggleable__control:checked~label.sk-toggleable__label-arrow:before {content: \"▾\";}#sk-container-id-14 div.sk-estimator input.sk-toggleable__control:checked~label.sk-toggleable__label {background-color: #d4ebff;}#sk-container-id-14 div.sk-label input.sk-toggleable__control:checked~label.sk-toggleable__label {background-color: #d4ebff;}#sk-container-id-14 input.sk-hidden--visually {border: 0;clip: rect(1px 1px 1px 1px);clip: rect(1px, 1px, 1px, 1px);height: 1px;margin: -1px;overflow: hidden;padding: 0;position: absolute;width: 1px;}#sk-container-id-14 div.sk-estimator {font-family: monospace;background-color: #f0f8ff;border: 1px dotted black;border-radius: 0.25em;box-sizing: border-box;margin-bottom: 0.5em;}#sk-container-id-14 div.sk-estimator:hover {background-color: #d4ebff;}#sk-container-id-14 div.sk-parallel-item::after {content: \"\";width: 100%;border-bottom: 1px solid gray;flex-grow: 1;}#sk-container-id-14 div.sk-label:hover label.sk-toggleable__label {background-color: #d4ebff;}#sk-container-id-14 div.sk-serial::before {content: \"\";position: absolute;border-left: 1px solid gray;box-sizing: border-box;top: 0;bottom: 0;left: 50%;z-index: 0;}#sk-container-id-14 div.sk-serial {display: flex;flex-direction: column;align-items: center;background-color: white;padding-right: 0.2em;padding-left: 0.2em;position: relative;}#sk-container-id-14 div.sk-item {position: relative;z-index: 1;}#sk-container-id-14 div.sk-parallel {display: flex;align-items: stretch;justify-content: center;background-color: white;position: relative;}#sk-container-id-14 div.sk-item::before, #sk-container-id-14 div.sk-parallel-item::before {content: \"\";position: absolute;border-left: 1px solid gray;box-sizing: border-box;top: 0;bottom: 0;left: 50%;z-index: -1;}#sk-container-id-14 div.sk-parallel-item {display: flex;flex-direction: column;z-index: 1;position: relative;background-color: white;}#sk-container-id-14 div.sk-parallel-item:first-child::after {align-self: flex-end;width: 50%;}#sk-container-id-14 div.sk-parallel-item:last-child::after {align-self: flex-start;width: 50%;}#sk-container-id-14 div.sk-parallel-item:only-child::after {width: 0;}#sk-container-id-14 div.sk-dashed-wrapped {border: 1px dashed gray;margin: 0 0.4em 0.5em 0.4em;box-sizing: border-box;padding-bottom: 0.4em;background-color: white;}#sk-container-id-14 div.sk-label label {font-family: monospace;font-weight: bold;display: inline-block;line-height: 1.2em;}#sk-container-id-14 div.sk-label-container {text-align: center;}#sk-container-id-14 div.sk-container {/* jupyter's `normalize.less` sets `[hidden] { display: none; }` but bootstrap.min.css set `[hidden] { display: none !important; }` so we also need the `!important` here to be able to override the default hidden behavior on the sphinx rendered scikit-learn.org. See: https://github.com/scikit-learn/scikit-learn/issues/21755 */display: inline-block !important;position: relative;}#sk-container-id-14 div.sk-text-repr-fallback {display: none;}</style><div id=\"sk-container-id-14\" class=\"sk-top-container\"><div class=\"sk-text-repr-fallback\"><pre>KNeighborsClassifier()</pre><b>In a Jupyter environment, please rerun this cell to show the HTML representation or trust the notebook. <br />On GitHub, the HTML representation is unable to render, please try loading this page with nbviewer.org.</b></div><div class=\"sk-container\" hidden><div class=\"sk-item\"><div class=\"sk-estimator sk-toggleable\"><input class=\"sk-toggleable__control sk-hidden--visually\" id=\"sk-estimator-id-24\" type=\"checkbox\" checked><label for=\"sk-estimator-id-24\" class=\"sk-toggleable__label sk-toggleable__label-arrow\">KNeighborsClassifier</label><div class=\"sk-toggleable__content\"><pre>KNeighborsClassifier()</pre></div></div></div></div></div>"
      ],
      "text/plain": [
       "KNeighborsClassifier()"
      ]
     },
     "execution_count": 51,
     "metadata": {},
     "output_type": "execute_result"
    },
    {
     "data": {
      "text/plain": [
       "<bound method BaseSearchCV.fit of GridSearchCV(cv=5, estimator=KNeighborsClassifier(), n_jobs=1,\n",
       "             param_grid={'n_neighbors': [3, 4, 5], 'p': [1, 2],\n",
       "                         'weights': ['distance']},\n",
       "             pre_dispatch=1, scoring='roc_auc', verbose=4)>"
      ]
     },
     "execution_count": 51,
     "metadata": {},
     "output_type": "execute_result"
    },
    {
     "data": {
      "text/plain": [
       "{'fit': {'groups': None}}"
      ]
     },
     "execution_count": 51,
     "metadata": {},
     "output_type": "execute_result"
    },
    {
     "name": "stdout",
     "output_type": "stream",
     "text": [
      "----------------------------------------\n",
      "vt_knn parameters: \n",
      "----------------------------------------\n"
     ]
    },
    {
     "data": {
      "text/plain": [
       "{'cv': 5,\n",
       " 'error_score': nan,\n",
       " 'estimator__algorithm': 'auto',\n",
       " 'estimator__leaf_size': 30,\n",
       " 'estimator__metric': 'minkowski',\n",
       " 'estimator__metric_params': None,\n",
       " 'estimator__n_jobs': None,\n",
       " 'estimator__n_neighbors': 5,\n",
       " 'estimator__p': 2,\n",
       " 'estimator__weights': 'uniform',\n",
       " 'estimator': KNeighborsClassifier(),\n",
       " 'n_jobs': 1,\n",
       " 'param_grid': {'n_neighbors': [3, 4, 5],\n",
       "  'weights': ['distance'],\n",
       "  'p': [1, 2]},\n",
       " 'pre_dispatch': 1,\n",
       " 'refit': True,\n",
       " 'return_train_score': False,\n",
       " 'scoring': 'roc_auc',\n",
       " 'verbose': 4}"
      ]
     },
     "execution_count": 51,
     "metadata": {},
     "output_type": "execute_result"
    },
    {
     "name": "stdout",
     "output_type": "stream",
     "text": [
      "----------------------------------------\n",
      "vt_knn cv_results: \n",
      "----------------------------------------\n"
     ]
    },
    {
     "data": {
      "text/plain": [
       "dict_keys(['mean_fit_time', 'std_fit_time', 'mean_score_time', 'std_score_time', 'param_n_neighbors', 'param_p', 'param_weights', 'params', 'split0_test_score', 'split1_test_score', 'split2_test_score', 'split3_test_score', 'split4_test_score', 'mean_test_score', 'std_test_score', 'rank_test_score'])"
      ]
     },
     "execution_count": 51,
     "metadata": {},
     "output_type": "execute_result"
    }
   ],
   "source": [
    "vt_knn\n",
    "vt_knn.best_estimator_\n",
    "vt_knn.best_index_\n",
    "vt_knn.best_params_\n",
    "vt_knn.best_score_\n",
    "vt_knn.classes_\n",
    "vt_knn.cv\n",
    "vt_knn.cv_results_\n",
    "vt_knn.error_score\n",
    "vt_knn.estimator\n",
    "vt_knn.fit\n",
    "vt_knn.get_metadata_routing()\n",
    "print('-'*40)\n",
    "print(f\"vt_knn parameters: \")\n",
    "print('-'*40)\n",
    "vt_knn.get_params()\n",
    "print('-'*40)\n",
    "print(f\"vt_knn cv_results: \")\n",
    "print('-'*40)\n",
    "vt_knn.cv_results_.keys()"
   ]
  },
  {
   "cell_type": "markdown",
   "id": "094aeb16-e594-4d6b-af22-d8ad13bba6d6",
   "metadata": {},
   "source": [
    "## Append and Save best estimator and metrics"
   ]
  },
  {
   "cell_type": "code",
   "execution_count": 63,
   "id": "ae7d4cbf-941b-4b44-96c0-0b6cfa9dbf60",
   "metadata": {
    "execution": {
     "iopub.execute_input": "2024-12-09T09:33:32.837960Z",
     "iopub.status.busy": "2024-12-09T09:33:32.837486Z",
     "iopub.status.idle": "2024-12-09T09:33:32.883268Z",
     "shell.execute_reply": "2024-12-09T09:33:32.882525Z",
     "shell.execute_reply.started": "2024-12-09T09:33:32.837922Z"
    },
    "scrolled": true
   },
   "outputs": [
    {
     "data": {
      "text/plain": [
       "[]"
      ]
     },
     "execution_count": 63,
     "metadata": {},
     "output_type": "execute_result"
    },
    {
     "data": {
      "text/plain": [
       "(0, 0)"
      ]
     },
     "execution_count": 63,
     "metadata": {},
     "output_type": "execute_result"
    }
   ],
   "source": [
    "Best_Estimators\n",
    "df_metrics.shape\n",
    "# df_metrics.sort_values('mean_test_score')"
   ]
  },
  {
   "cell_type": "code",
   "execution_count": 64,
   "id": "28d79eb7-af02-4ead-94bd-8a0552e21621",
   "metadata": {
    "execution": {
     "iopub.execute_input": "2024-12-09T09:33:34.307224Z",
     "iopub.status.busy": "2024-12-09T09:33:34.306718Z",
     "iopub.status.idle": "2024-12-09T09:33:34.349937Z",
     "shell.execute_reply": "2024-12-09T09:33:34.349365Z",
     "shell.execute_reply.started": "2024-12-09T09:33:34.307184Z"
    }
   },
   "outputs": [
    {
     "data": {
      "text/plain": [
       "(KNeighborsClassifier(p=1, weights='distance'),\n",
       " {'n_neighbors': 5, 'p': 1, 'weights': 'distance'})"
      ]
     },
     "execution_count": 64,
     "metadata": {},
     "output_type": "execute_result"
    }
   ],
   "source": [
    "vt_knn.best_estimator_, vt_knn.best_params_"
   ]
  },
  {
   "cell_type": "code",
   "execution_count": 65,
   "id": "24751e56-2977-4ed1-959d-6d0fccb20a95",
   "metadata": {
    "execution": {
     "iopub.execute_input": "2024-12-09T09:33:39.954188Z",
     "iopub.status.busy": "2024-12-09T09:33:39.953646Z",
     "iopub.status.idle": "2024-12-09T09:33:39.996783Z",
     "shell.execute_reply": "2024-12-09T09:33:39.996023Z",
     "shell.execute_reply.started": "2024-12-09T09:33:39.954151Z"
    }
   },
   "outputs": [],
   "source": [
    "df_metrics = pd.concat((df_metrics, _tmp_df))\n",
    "Best_Estimators.append((vt_knn.best_estimator_, vt_knn.best_params_))"
   ]
  },
  {
   "cell_type": "code",
   "execution_count": 66,
   "id": "39aa06a3-2f8f-4cf7-9b0c-64ea080d7d3b",
   "metadata": {
    "execution": {
     "iopub.execute_input": "2024-12-09T09:33:40.731875Z",
     "iopub.status.busy": "2024-12-09T09:33:40.731429Z",
     "iopub.status.idle": "2024-12-09T09:33:40.789764Z",
     "shell.execute_reply": "2024-12-09T09:33:40.788999Z",
     "shell.execute_reply.started": "2024-12-09T09:33:40.731840Z"
    },
    "scrolled": true
   },
   "outputs": [
    {
     "data": {
      "text/plain": [
       "[(KNeighborsClassifier(p=1, weights='distance'),\n",
       "  {'n_neighbors': 5, 'p': 1, 'weights': 'distance'})]"
      ]
     },
     "execution_count": 66,
     "metadata": {},
     "output_type": "execute_result"
    },
    {
     "data": {
      "text/plain": [
       "(6, 17)"
      ]
     },
     "execution_count": 66,
     "metadata": {},
     "output_type": "execute_result"
    },
    {
     "data": {
      "text/html": [
       "<div>\n",
       "<style scoped>\n",
       "    .dataframe tbody tr th:only-of-type {\n",
       "        vertical-align: middle;\n",
       "    }\n",
       "\n",
       "    .dataframe tbody tr th {\n",
       "        vertical-align: top;\n",
       "    }\n",
       "\n",
       "    .dataframe thead th {\n",
       "        text-align: right;\n",
       "    }\n",
       "</style>\n",
       "<table border=\"1\" class=\"dataframe\">\n",
       "  <thead>\n",
       "    <tr style=\"text-align: right;\">\n",
       "      <th></th>\n",
       "      <th>rank_test_score</th>\n",
       "      <th>mean_test_score</th>\n",
       "      <th>std_test_score</th>\n",
       "      <th>param_n_neighbors</th>\n",
       "      <th>param_p</th>\n",
       "      <th>param_weights</th>\n",
       "      <th>split0_test_score</th>\n",
       "      <th>split1_test_score</th>\n",
       "      <th>split2_test_score</th>\n",
       "      <th>split3_test_score</th>\n",
       "      <th>split4_test_score</th>\n",
       "      <th>mean_fit_time</th>\n",
       "      <th>std_fit_time</th>\n",
       "      <th>mean_score_time</th>\n",
       "      <th>std_score_time</th>\n",
       "      <th>params</th>\n",
       "      <th>random_seed</th>\n",
       "    </tr>\n",
       "  </thead>\n",
       "  <tbody>\n",
       "    <tr>\n",
       "      <th>0</th>\n",
       "      <td>6</td>\n",
       "      <td>0.542704</td>\n",
       "      <td>0.002186</td>\n",
       "      <td>3</td>\n",
       "      <td>1</td>\n",
       "      <td>distance</td>\n",
       "      <td>0.542421</td>\n",
       "      <td>0.540705</td>\n",
       "      <td>0.543413</td>\n",
       "      <td>0.540483</td>\n",
       "      <td>0.546496</td>\n",
       "      <td>0.564230</td>\n",
       "      <td>0.024844</td>\n",
       "      <td>566.634794</td>\n",
       "      <td>30.863054</td>\n",
       "      <td>{'n_neighbors': 3, 'p': 1, 'weights': 'distance'}</td>\n",
       "      <td>6666</td>\n",
       "    </tr>\n",
       "    <tr>\n",
       "      <th>1</th>\n",
       "      <td>5</td>\n",
       "      <td>0.543458</td>\n",
       "      <td>0.002265</td>\n",
       "      <td>3</td>\n",
       "      <td>2</td>\n",
       "      <td>distance</td>\n",
       "      <td>0.541189</td>\n",
       "      <td>0.540709</td>\n",
       "      <td>0.544972</td>\n",
       "      <td>0.543704</td>\n",
       "      <td>0.546714</td>\n",
       "      <td>0.590494</td>\n",
       "      <td>0.077733</td>\n",
       "      <td>36.495130</td>\n",
       "      <td>0.671241</td>\n",
       "      <td>{'n_neighbors': 3, 'p': 2, 'weights': 'distance'}</td>\n",
       "      <td>6666</td>\n",
       "    </tr>\n",
       "    <tr>\n",
       "      <th>2</th>\n",
       "      <td>4</td>\n",
       "      <td>0.549672</td>\n",
       "      <td>0.002532</td>\n",
       "      <td>4</td>\n",
       "      <td>1</td>\n",
       "      <td>distance</td>\n",
       "      <td>0.548796</td>\n",
       "      <td>0.545637</td>\n",
       "      <td>0.552368</td>\n",
       "      <td>0.549153</td>\n",
       "      <td>0.552404</td>\n",
       "      <td>0.537243</td>\n",
       "      <td>0.001897</td>\n",
       "      <td>542.617362</td>\n",
       "      <td>3.731270</td>\n",
       "      <td>{'n_neighbors': 4, 'p': 1, 'weights': 'distance'}</td>\n",
       "      <td>6666</td>\n",
       "    </tr>\n",
       "    <tr>\n",
       "      <th>3</th>\n",
       "      <td>3</td>\n",
       "      <td>0.549915</td>\n",
       "      <td>0.002301</td>\n",
       "      <td>4</td>\n",
       "      <td>2</td>\n",
       "      <td>distance</td>\n",
       "      <td>0.547837</td>\n",
       "      <td>0.546711</td>\n",
       "      <td>0.552055</td>\n",
       "      <td>0.550395</td>\n",
       "      <td>0.552577</td>\n",
       "      <td>0.534752</td>\n",
       "      <td>0.003616</td>\n",
       "      <td>36.451653</td>\n",
       "      <td>0.570380</td>\n",
       "      <td>{'n_neighbors': 4, 'p': 2, 'weights': 'distance'}</td>\n",
       "      <td>6666</td>\n",
       "    </tr>\n",
       "    <tr>\n",
       "      <th>5</th>\n",
       "      <td>2</td>\n",
       "      <td>0.555989</td>\n",
       "      <td>0.002660</td>\n",
       "      <td>5</td>\n",
       "      <td>2</td>\n",
       "      <td>distance</td>\n",
       "      <td>0.553391</td>\n",
       "      <td>0.552426</td>\n",
       "      <td>0.558500</td>\n",
       "      <td>0.556597</td>\n",
       "      <td>0.559031</td>\n",
       "      <td>0.538175</td>\n",
       "      <td>0.003690</td>\n",
       "      <td>36.895619</td>\n",
       "      <td>0.223163</td>\n",
       "      <td>{'n_neighbors': 5, 'p': 2, 'weights': 'distance'}</td>\n",
       "      <td>6666</td>\n",
       "    </tr>\n",
       "    <tr>\n",
       "      <th>4</th>\n",
       "      <td>1</td>\n",
       "      <td>0.556063</td>\n",
       "      <td>0.003046</td>\n",
       "      <td>5</td>\n",
       "      <td>1</td>\n",
       "      <td>distance</td>\n",
       "      <td>0.553227</td>\n",
       "      <td>0.552577</td>\n",
       "      <td>0.558308</td>\n",
       "      <td>0.555569</td>\n",
       "      <td>0.560636</td>\n",
       "      <td>0.547580</td>\n",
       "      <td>0.009965</td>\n",
       "      <td>539.565253</td>\n",
       "      <td>2.399804</td>\n",
       "      <td>{'n_neighbors': 5, 'p': 1, 'weights': 'distance'}</td>\n",
       "      <td>6666</td>\n",
       "    </tr>\n",
       "  </tbody>\n",
       "</table>\n",
       "</div>"
      ],
      "text/plain": [
       "   rank_test_score  mean_test_score  std_test_score param_n_neighbors param_p param_weights  split0_test_score  split1_test_score  \\\n",
       "0                6         0.542704        0.002186                 3       1      distance           0.542421           0.540705   \n",
       "1                5         0.543458        0.002265                 3       2      distance           0.541189           0.540709   \n",
       "2                4         0.549672        0.002532                 4       1      distance           0.548796           0.545637   \n",
       "3                3         0.549915        0.002301                 4       2      distance           0.547837           0.546711   \n",
       "5                2         0.555989        0.002660                 5       2      distance           0.553391           0.552426   \n",
       "4                1         0.556063        0.003046                 5       1      distance           0.553227           0.552577   \n",
       "\n",
       "   split2_test_score  split3_test_score  split4_test_score  mean_fit_time  std_fit_time  mean_score_time  std_score_time  \\\n",
       "0           0.543413           0.540483           0.546496       0.564230      0.024844       566.634794       30.863054   \n",
       "1           0.544972           0.543704           0.546714       0.590494      0.077733        36.495130        0.671241   \n",
       "2           0.552368           0.549153           0.552404       0.537243      0.001897       542.617362        3.731270   \n",
       "3           0.552055           0.550395           0.552577       0.534752      0.003616        36.451653        0.570380   \n",
       "5           0.558500           0.556597           0.559031       0.538175      0.003690        36.895619        0.223163   \n",
       "4           0.558308           0.555569           0.560636       0.547580      0.009965       539.565253        2.399804   \n",
       "\n",
       "                                              params  random_seed  \n",
       "0  {'n_neighbors': 3, 'p': 1, 'weights': 'distance'}         6666  \n",
       "1  {'n_neighbors': 3, 'p': 2, 'weights': 'distance'}         6666  \n",
       "2  {'n_neighbors': 4, 'p': 1, 'weights': 'distance'}         6666  \n",
       "3  {'n_neighbors': 4, 'p': 2, 'weights': 'distance'}         6666  \n",
       "5  {'n_neighbors': 5, 'p': 2, 'weights': 'distance'}         6666  \n",
       "4  {'n_neighbors': 5, 'p': 1, 'weights': 'distance'}         6666  "
      ]
     },
     "execution_count": 66,
     "metadata": {},
     "output_type": "execute_result"
    }
   ],
   "source": [
    "Best_Estimators\n",
    "df_metrics.shape\n",
    "df_metrics.sort_values('mean_test_score')"
   ]
  },
  {
   "cell_type": "markdown",
   "id": "c4b31bfa-fbbc-4e94-ae80-95d294033c22",
   "metadata": {
    "jp-MarkdownHeadingCollapsed": true
   },
   "source": [
    "# Persist Model"
   ]
  },
  {
   "cell_type": "code",
   "execution_count": 68,
   "id": "4daf1c90-2273-465d-b476-8d6a31e02199",
   "metadata": {
    "execution": {
     "iopub.execute_input": "2024-12-09T09:36:24.187854Z",
     "iopub.status.busy": "2024-12-09T09:36:24.187283Z",
     "iopub.status.idle": "2024-12-09T09:36:24.234448Z",
     "shell.execute_reply": "2024-12-09T09:36:24.233673Z",
     "shell.execute_reply.started": "2024-12-09T09:36:24.187812Z"
    }
   },
   "outputs": [
    {
     "data": {
      "text/plain": [
       "'/home/kevin/WSL-shared/cellpainting/cj-datasets/saved_tpsa_models/embedding_models'"
      ]
     },
     "execution_count": 68,
     "metadata": {},
     "output_type": "execute_result"
    },
    {
     "data": {
      "text/plain": [
       "'TPSA_KNN_embeddings_20241207_1500.pkl'"
      ]
     },
     "execution_count": 68,
     "metadata": {},
     "output_type": "execute_result"
    },
    {
     "data": {
      "text/plain": [
       "'TPSA_KNN_embeddings_20241207_1500_metrics.csv'"
      ]
     },
     "execution_count": 68,
     "metadata": {},
     "output_type": "execute_result"
    }
   ],
   "source": [
    "MODEL_SAVE_PATH \n",
    "ESTIMATORS_FILENAME = f'TPSA_KNN_embeddings_20241207_1500.pkl'\n",
    "ESTIMATORS_FILENAME\n",
    "METRICS_FILENAME = f'TPSA_KNN_embeddings_20241207_1500_metrics.csv'\n",
    "METRICS_FILENAME"
   ]
  },
  {
   "cell_type": "code",
   "execution_count": 70,
   "id": "1093a7f7-51bf-4b3b-80e0-9e97b3d8b656",
   "metadata": {
    "execution": {
     "iopub.execute_input": "2024-12-09T09:37:29.942550Z",
     "iopub.status.busy": "2024-12-09T09:37:29.942027Z",
     "iopub.status.idle": "2024-12-09T09:37:30.415585Z",
     "shell.execute_reply": "2024-12-09T09:37:30.414824Z",
     "shell.execute_reply.started": "2024-12-09T09:37:29.942491Z"
    }
   },
   "outputs": [
    {
     "name": "stdout",
     "output_type": "stream",
     "text": [
      " save_to_pickle(): save data to /home/kevin/WSL-shared/cellpainting/cj-datasets/saved_tpsa_models/embedding_models/TPSA_KNN_embeddings_20241207_1500.pkl\n"
     ]
    }
   ],
   "source": [
    "save_to_pickle(Best_Estimators, MODEL_SAVE_PATH, ESTIMATORS_FILENAME, verbose = True)"
   ]
  },
  {
   "cell_type": "code",
   "execution_count": 71,
   "id": "a2d28893-d291-4f8d-99d4-e048b6ea5f90",
   "metadata": {
    "execution": {
     "iopub.execute_input": "2024-12-09T09:37:33.867204Z",
     "iopub.status.busy": "2024-12-09T09:37:33.866548Z",
     "iopub.status.idle": "2024-12-09T09:37:33.939187Z",
     "shell.execute_reply": "2024-12-09T09:37:33.938170Z",
     "shell.execute_reply.started": "2024-12-09T09:37:33.867152Z"
    }
   },
   "outputs": [],
   "source": [
    "df_metrics.to_csv(os.path.join(MODEL_SAVE_PATH,METRICS_FILENAME))"
   ]
  },
  {
   "cell_type": "markdown",
   "id": "227c0ea1-c2e3-4d6b-a582-ad7e591392c9",
   "metadata": {
    "jp-MarkdownHeadingCollapsed": true
   },
   "source": [
    "### Load Model"
   ]
  },
  {
   "cell_type": "code",
   "execution_count": 72,
   "id": "c35ed283-c0e1-4c49-bee7-6ffb321beb20",
   "metadata": {
    "execution": {
     "iopub.execute_input": "2024-12-09T09:38:04.755493Z",
     "iopub.status.busy": "2024-12-09T09:38:04.754985Z",
     "iopub.status.idle": "2024-12-09T09:38:04.797840Z",
     "shell.execute_reply": "2024-12-09T09:38:04.797212Z",
     "shell.execute_reply.started": "2024-12-09T09:38:04.755454Z"
    }
   },
   "outputs": [
    {
     "data": {
      "text/plain": [
       "'/home/kevin/WSL-shared/cellpainting/cj-datasets/saved_tpsa_models/embedding_models'"
      ]
     },
     "execution_count": 72,
     "metadata": {},
     "output_type": "execute_result"
    },
    {
     "data": {
      "text/plain": [
       "'TPSA_KNN_embeddings_20241207_1500.pkl'"
      ]
     },
     "execution_count": 72,
     "metadata": {},
     "output_type": "execute_result"
    },
    {
     "data": {
      "text/plain": [
       "'TPSA_KNN_embeddings_20241207_1500_metrics.csv'"
      ]
     },
     "execution_count": 72,
     "metadata": {},
     "output_type": "execute_result"
    }
   ],
   "source": [
    "MODEL_SAVE_PATH \n",
    "ESTIMATORS_FILENAME = f'TPSA_KNN_embeddings_20241207_1500.pkl'\n",
    "ESTIMATORS_FILENAME\n",
    "METRICS_FILENAME = f'TPSA_KNN_embeddings_20241207_1500_metrics.csv'\n",
    "METRICS_FILENAME"
   ]
  },
  {
   "cell_type": "code",
   "execution_count": 73,
   "id": "87e458bd-a71a-49bb-a012-18379feb6ee9",
   "metadata": {
    "execution": {
     "iopub.execute_input": "2024-12-09T09:38:10.495657Z",
     "iopub.status.busy": "2024-12-09T09:38:10.495136Z",
     "iopub.status.idle": "2024-12-09T09:38:10.910973Z",
     "shell.execute_reply": "2024-12-09T09:38:10.909800Z",
     "shell.execute_reply.started": "2024-12-09T09:38:10.495603Z"
    }
   },
   "outputs": [
    {
     "data": {
      "text/plain": [
       "1"
      ]
     },
     "execution_count": 73,
     "metadata": {},
     "output_type": "execute_result"
    }
   ],
   "source": [
    "Best_Estimators = load_from_pickle(MODEL_SAVE_PATH, ESTIMATORS_FILENAME)\n",
    "len(Best_Estimators)"
   ]
  },
  {
   "cell_type": "code",
   "execution_count": 75,
   "id": "8c41725e-4254-4d92-92ab-6edf1fe87276",
   "metadata": {
    "execution": {
     "iopub.execute_input": "2024-12-09T09:38:46.550304Z",
     "iopub.status.busy": "2024-12-09T09:38:46.549764Z",
     "iopub.status.idle": "2024-12-09T09:38:46.598277Z",
     "shell.execute_reply": "2024-12-09T09:38:46.597231Z",
     "shell.execute_reply.started": "2024-12-09T09:38:46.550261Z"
    }
   },
   "outputs": [
    {
     "data": {
      "text/plain": [
       "[(KNeighborsClassifier(p=1, weights='distance'),\n",
       "  {'n_neighbors': 5, 'p': 1, 'weights': 'distance'})]"
      ]
     },
     "execution_count": 75,
     "metadata": {},
     "output_type": "execute_result"
    },
    {
     "name": "stdout",
     "output_type": "stream",
     "text": [
      "parameters   :\n",
      "\n",
      "estimator  :   KNeighborsClassifier(p=1, weights='distance')\n"
     ]
    }
   ],
   "source": [
    "Best_Estimators\n",
    "\n",
    "print(f\"parameters   :\")\n",
    "# pp.pprint(svm_estimators.get_params())\n",
    "print()\n",
    "print(f\"estimator  :   {Best_Estimators[0][0]}\")\n",
    "# print(f\"best_index_  :       {svm_estimators.best_index_}\")\n",
    "# print(f\"best_params_ :       {svm_estimators.best_params_}\")\n",
    "# print(f\"best_score_  :       {svm_estimators.best_score_}\")\n",
    "# print(f\"classes_     :       {svm_estimators.classes_}\")\n",
    "# print(f\"cv           :       {svm_estimators.cv}\")\n",
    "# print()\n",
    "# print(f\"cv_results_  :       {svm_estimators.cv_results_}\")\n",
    "# print()\n",
    "# print(f\"error_score  :       {svm_estimators.error_score}\")\n",
    "# print(f\"estimator    :       {svm_estimators.estimator}\")"
   ]
  },
  {
   "cell_type": "markdown",
   "id": "a84934d8-9e89-4b01-902f-a95d89cdfada",
   "metadata": {},
   "source": [
    "# Metrics"
   ]
  },
  {
   "cell_type": "code",
   "execution_count": 76,
   "id": "9b715804-8e89-421b-8172-de3c4267da88",
   "metadata": {
    "execution": {
     "iopub.execute_input": "2024-12-09T09:39:02.598391Z",
     "iopub.status.busy": "2024-12-09T09:39:02.597694Z",
     "iopub.status.idle": "2024-12-09T09:39:02.641872Z",
     "shell.execute_reply": "2024-12-09T09:39:02.640911Z",
     "shell.execute_reply.started": "2024-12-09T09:39:02.598334Z"
    }
   },
   "outputs": [
    {
     "data": {
      "text/plain": [
       "'/home/kevin/WSL-shared/cellpainting/cj-datasets/saved_tpsa_models/embedding_models'"
      ]
     },
     "execution_count": 76,
     "metadata": {},
     "output_type": "execute_result"
    },
    {
     "data": {
      "text/plain": [
       "'TPSA_KNN_embeddings_20241207_1500.pkl'"
      ]
     },
     "execution_count": 76,
     "metadata": {},
     "output_type": "execute_result"
    },
    {
     "data": {
      "text/plain": [
       "'TPSA_KNN_embeddings_20241207_1500_metrics.csv'"
      ]
     },
     "execution_count": 76,
     "metadata": {},
     "output_type": "execute_result"
    }
   ],
   "source": [
    "MODEL_SAVE_PATH \n",
    "ESTIMATORS_FILENAME = f'TPSA_KNN_embeddings_20241207_1500.pkl'\n",
    "ESTIMATORS_FILENAME\n",
    "METRICS_FILENAME = f'TPSA_KNN_embeddings_20241207_1500_metrics.csv'\n",
    "METRICS_FILENAME"
   ]
  },
  {
   "cell_type": "code",
   "execution_count": 77,
   "id": "a15a052f-9fd5-4480-9c80-be934dabbb3d",
   "metadata": {
    "execution": {
     "iopub.execute_input": "2024-12-09T09:39:09.419745Z",
     "iopub.status.busy": "2024-12-09T09:39:09.418633Z",
     "iopub.status.idle": "2024-12-09T09:39:09.842128Z",
     "shell.execute_reply": "2024-12-09T09:39:09.841316Z",
     "shell.execute_reply.started": "2024-12-09T09:39:09.419700Z"
    },
    "scrolled": true
   },
   "outputs": [
    {
     "data": {
      "text/plain": [
       "1"
      ]
     },
     "execution_count": 77,
     "metadata": {},
     "output_type": "execute_result"
    }
   ],
   "source": [
    "Best_Estimators = load_from_pickle(MODEL_SAVE_PATH, ESTIMATORS_FILENAME)\n",
    "len(Best_Estimators)"
   ]
  },
  {
   "cell_type": "code",
   "execution_count": 645,
   "id": "6718171c-f529-40de-912a-8159e5b392f4",
   "metadata": {
    "execution": {
     "iopub.execute_input": "2024-08-05T20:58:26.796947Z",
     "iopub.status.busy": "2024-08-05T20:58:26.796558Z",
     "iopub.status.idle": "2024-08-05T20:58:26.831069Z",
     "shell.execute_reply": "2024-08-05T20:58:26.830462Z",
     "shell.execute_reply.started": "2024-08-05T20:58:26.796917Z"
    }
   },
   "outputs": [
    {
     "name": "stdout",
     "output_type": "stream",
     "text": [
      "best_estimator_  :   SVC(C=100, cache_size=400, class_weight='balanced', max_iter=10000,\n",
      "    random_state=42, tol=1e-05)\n",
      "\n"
     ]
    }
   ],
   "source": [
    "# print(f\"parameters   :\")\n",
    "# pp.pprint(svm_estimators.get_params())\n",
    "# print(f\"best_estimator_  :   {svm_estimators.best_estimator_}\")\n",
    "# print()\n",
    " "
   ]
  },
  {
   "cell_type": "code",
   "execution_count": 78,
   "id": "30199824-e0b3-42ca-8bd9-0f6be55cdef3",
   "metadata": {
    "execution": {
     "iopub.execute_input": "2024-12-09T09:39:28.311588Z",
     "iopub.status.busy": "2024-12-09T09:39:28.311048Z",
     "iopub.status.idle": "2024-12-09T09:39:28.382090Z",
     "shell.execute_reply": "2024-12-09T09:39:28.381067Z",
     "shell.execute_reply.started": "2024-12-09T09:39:28.311545Z"
    }
   },
   "outputs": [
    {
     "data": {
      "text/html": [
       "<div>\n",
       "<style scoped>\n",
       "    .dataframe tbody tr th:only-of-type {\n",
       "        vertical-align: middle;\n",
       "    }\n",
       "\n",
       "    .dataframe tbody tr th {\n",
       "        vertical-align: top;\n",
       "    }\n",
       "\n",
       "    .dataframe thead th {\n",
       "        text-align: right;\n",
       "    }\n",
       "</style>\n",
       "<table border=\"1\" class=\"dataframe\">\n",
       "  <thead>\n",
       "    <tr style=\"text-align: right;\">\n",
       "      <th></th>\n",
       "      <th>Feature_000</th>\n",
       "      <th>Feature_001</th>\n",
       "      <th>Feature_002</th>\n",
       "      <th>Feature_003</th>\n",
       "      <th>Feature_004</th>\n",
       "      <th>Feature_005</th>\n",
       "      <th>Feature_006</th>\n",
       "      <th>Feature_007</th>\n",
       "      <th>Feature_008</th>\n",
       "      <th>Feature_009</th>\n",
       "      <th>...</th>\n",
       "      <th>Feature_240</th>\n",
       "      <th>Feature_241</th>\n",
       "      <th>Feature_242</th>\n",
       "      <th>Feature_243</th>\n",
       "      <th>Feature_244</th>\n",
       "      <th>Feature_245</th>\n",
       "      <th>Feature_246</th>\n",
       "      <th>Feature_247</th>\n",
       "      <th>Feature_248</th>\n",
       "      <th>Feature_249</th>\n",
       "    </tr>\n",
       "  </thead>\n",
       "  <tbody>\n",
       "    <tr>\n",
       "      <th>0</th>\n",
       "      <td>0.916451</td>\n",
       "      <td>0.872596</td>\n",
       "      <td>1.605941</td>\n",
       "      <td>-0.048202</td>\n",
       "      <td>0.390532</td>\n",
       "      <td>0.409812</td>\n",
       "      <td>-0.655648</td>\n",
       "      <td>-1.462573</td>\n",
       "      <td>0.143709</td>\n",
       "      <td>-0.054209</td>\n",
       "      <td>...</td>\n",
       "      <td>-0.518385</td>\n",
       "      <td>0.716023</td>\n",
       "      <td>-0.590375</td>\n",
       "      <td>2.141531</td>\n",
       "      <td>-1.800316</td>\n",
       "      <td>-0.172188</td>\n",
       "      <td>-0.072441</td>\n",
       "      <td>1.743561</td>\n",
       "      <td>1.466185</td>\n",
       "      <td>1.244473</td>\n",
       "    </tr>\n",
       "    <tr>\n",
       "      <th>1</th>\n",
       "      <td>0.719237</td>\n",
       "      <td>0.682143</td>\n",
       "      <td>1.551272</td>\n",
       "      <td>0.287570</td>\n",
       "      <td>0.318039</td>\n",
       "      <td>0.582101</td>\n",
       "      <td>-0.372718</td>\n",
       "      <td>-1.462299</td>\n",
       "      <td>0.030956</td>\n",
       "      <td>0.022026</td>\n",
       "      <td>...</td>\n",
       "      <td>-0.591034</td>\n",
       "      <td>0.550698</td>\n",
       "      <td>-0.636886</td>\n",
       "      <td>1.880710</td>\n",
       "      <td>-1.816228</td>\n",
       "      <td>-0.037780</td>\n",
       "      <td>-0.130082</td>\n",
       "      <td>1.685629</td>\n",
       "      <td>1.263643</td>\n",
       "      <td>0.943990</td>\n",
       "    </tr>\n",
       "    <tr>\n",
       "      <th>2</th>\n",
       "      <td>0.798004</td>\n",
       "      <td>0.805205</td>\n",
       "      <td>1.545128</td>\n",
       "      <td>0.241463</td>\n",
       "      <td>0.315389</td>\n",
       "      <td>0.497950</td>\n",
       "      <td>-0.449862</td>\n",
       "      <td>-1.470268</td>\n",
       "      <td>0.122954</td>\n",
       "      <td>-0.037246</td>\n",
       "      <td>...</td>\n",
       "      <td>-0.355327</td>\n",
       "      <td>0.605948</td>\n",
       "      <td>-0.733919</td>\n",
       "      <td>2.052279</td>\n",
       "      <td>-1.843459</td>\n",
       "      <td>-0.157140</td>\n",
       "      <td>-0.118316</td>\n",
       "      <td>1.835303</td>\n",
       "      <td>1.341295</td>\n",
       "      <td>0.968254</td>\n",
       "    </tr>\n",
       "    <tr>\n",
       "      <th>3</th>\n",
       "      <td>-0.134616</td>\n",
       "      <td>-0.200266</td>\n",
       "      <td>-0.109721</td>\n",
       "      <td>0.058983</td>\n",
       "      <td>-0.134415</td>\n",
       "      <td>-0.044743</td>\n",
       "      <td>-0.221009</td>\n",
       "      <td>0.147919</td>\n",
       "      <td>0.262348</td>\n",
       "      <td>-0.208570</td>\n",
       "      <td>...</td>\n",
       "      <td>0.132724</td>\n",
       "      <td>-0.171853</td>\n",
       "      <td>0.401244</td>\n",
       "      <td>-0.037833</td>\n",
       "      <td>0.000879</td>\n",
       "      <td>-0.071789</td>\n",
       "      <td>0.051848</td>\n",
       "      <td>-0.053514</td>\n",
       "      <td>0.171957</td>\n",
       "      <td>0.121377</td>\n",
       "    </tr>\n",
       "    <tr>\n",
       "      <th>4</th>\n",
       "      <td>-0.031706</td>\n",
       "      <td>-0.148909</td>\n",
       "      <td>-0.102415</td>\n",
       "      <td>0.078211</td>\n",
       "      <td>-0.046021</td>\n",
       "      <td>0.023729</td>\n",
       "      <td>-0.130609</td>\n",
       "      <td>0.044276</td>\n",
       "      <td>0.173374</td>\n",
       "      <td>-0.036158</td>\n",
       "      <td>...</td>\n",
       "      <td>0.087170</td>\n",
       "      <td>-0.024574</td>\n",
       "      <td>0.260385</td>\n",
       "      <td>-0.012428</td>\n",
       "      <td>0.086317</td>\n",
       "      <td>-0.071831</td>\n",
       "      <td>0.047108</td>\n",
       "      <td>0.024453</td>\n",
       "      <td>0.105712</td>\n",
       "      <td>0.071885</td>\n",
       "    </tr>\n",
       "    <tr>\n",
       "      <th>...</th>\n",
       "      <td>...</td>\n",
       "      <td>...</td>\n",
       "      <td>...</td>\n",
       "      <td>...</td>\n",
       "      <td>...</td>\n",
       "      <td>...</td>\n",
       "      <td>...</td>\n",
       "      <td>...</td>\n",
       "      <td>...</td>\n",
       "      <td>...</td>\n",
       "      <td>...</td>\n",
       "      <td>...</td>\n",
       "      <td>...</td>\n",
       "      <td>...</td>\n",
       "      <td>...</td>\n",
       "      <td>...</td>\n",
       "      <td>...</td>\n",
       "      <td>...</td>\n",
       "      <td>...</td>\n",
       "      <td>...</td>\n",
       "      <td>...</td>\n",
       "    </tr>\n",
       "    <tr>\n",
       "      <th>12595</th>\n",
       "      <td>0.165864</td>\n",
       "      <td>-0.253816</td>\n",
       "      <td>-0.244503</td>\n",
       "      <td>0.277046</td>\n",
       "      <td>0.047860</td>\n",
       "      <td>0.147268</td>\n",
       "      <td>-0.127380</td>\n",
       "      <td>-0.035903</td>\n",
       "      <td>0.443936</td>\n",
       "      <td>0.321162</td>\n",
       "      <td>...</td>\n",
       "      <td>0.137795</td>\n",
       "      <td>0.131801</td>\n",
       "      <td>0.281455</td>\n",
       "      <td>-0.004880</td>\n",
       "      <td>0.298354</td>\n",
       "      <td>-0.011975</td>\n",
       "      <td>0.249098</td>\n",
       "      <td>0.122328</td>\n",
       "      <td>0.279326</td>\n",
       "      <td>0.173874</td>\n",
       "    </tr>\n",
       "    <tr>\n",
       "      <th>12596</th>\n",
       "      <td>0.051572</td>\n",
       "      <td>-0.152540</td>\n",
       "      <td>-0.031808</td>\n",
       "      <td>0.170956</td>\n",
       "      <td>0.025151</td>\n",
       "      <td>0.050282</td>\n",
       "      <td>-0.035007</td>\n",
       "      <td>-0.025391</td>\n",
       "      <td>0.185056</td>\n",
       "      <td>0.219689</td>\n",
       "      <td>...</td>\n",
       "      <td>0.016096</td>\n",
       "      <td>0.096827</td>\n",
       "      <td>0.021602</td>\n",
       "      <td>-0.066104</td>\n",
       "      <td>0.215846</td>\n",
       "      <td>0.068682</td>\n",
       "      <td>0.075461</td>\n",
       "      <td>0.025770</td>\n",
       "      <td>0.146833</td>\n",
       "      <td>0.132271</td>\n",
       "    </tr>\n",
       "    <tr>\n",
       "      <th>12597</th>\n",
       "      <td>-0.013109</td>\n",
       "      <td>-0.010380</td>\n",
       "      <td>0.031994</td>\n",
       "      <td>-0.008713</td>\n",
       "      <td>-0.025707</td>\n",
       "      <td>-0.032357</td>\n",
       "      <td>-0.064948</td>\n",
       "      <td>-0.040382</td>\n",
       "      <td>-0.037646</td>\n",
       "      <td>-0.037369</td>\n",
       "      <td>...</td>\n",
       "      <td>0.089090</td>\n",
       "      <td>-0.034141</td>\n",
       "      <td>0.049892</td>\n",
       "      <td>-0.022626</td>\n",
       "      <td>0.008242</td>\n",
       "      <td>0.008548</td>\n",
       "      <td>-0.012342</td>\n",
       "      <td>-0.017410</td>\n",
       "      <td>-0.045713</td>\n",
       "      <td>0.028342</td>\n",
       "    </tr>\n",
       "    <tr>\n",
       "      <th>12598</th>\n",
       "      <td>0.007677</td>\n",
       "      <td>-0.029839</td>\n",
       "      <td>0.009657</td>\n",
       "      <td>0.025732</td>\n",
       "      <td>-0.036984</td>\n",
       "      <td>-0.016097</td>\n",
       "      <td>-0.066608</td>\n",
       "      <td>-0.027636</td>\n",
       "      <td>0.016297</td>\n",
       "      <td>-0.034339</td>\n",
       "      <td>...</td>\n",
       "      <td>0.115197</td>\n",
       "      <td>-0.066165</td>\n",
       "      <td>0.072447</td>\n",
       "      <td>-0.020661</td>\n",
       "      <td>0.028276</td>\n",
       "      <td>0.005337</td>\n",
       "      <td>0.022535</td>\n",
       "      <td>-0.031815</td>\n",
       "      <td>-0.022689</td>\n",
       "      <td>0.010540</td>\n",
       "    </tr>\n",
       "    <tr>\n",
       "      <th>12599</th>\n",
       "      <td>-0.001285</td>\n",
       "      <td>-0.009526</td>\n",
       "      <td>0.008893</td>\n",
       "      <td>-0.003330</td>\n",
       "      <td>-0.015659</td>\n",
       "      <td>-0.036123</td>\n",
       "      <td>-0.037049</td>\n",
       "      <td>-0.022767</td>\n",
       "      <td>-0.008878</td>\n",
       "      <td>-0.036014</td>\n",
       "      <td>...</td>\n",
       "      <td>0.080799</td>\n",
       "      <td>-0.023805</td>\n",
       "      <td>0.089674</td>\n",
       "      <td>-0.009829</td>\n",
       "      <td>-0.026093</td>\n",
       "      <td>0.009895</td>\n",
       "      <td>-0.009979</td>\n",
       "      <td>-0.032678</td>\n",
       "      <td>-0.018962</td>\n",
       "      <td>0.006637</td>\n",
       "    </tr>\n",
       "  </tbody>\n",
       "</table>\n",
       "<p>12600 rows × 250 columns</p>\n",
       "</div>"
      ],
      "text/plain": [
       "       Feature_000  Feature_001  Feature_002  Feature_003  Feature_004  Feature_005  Feature_006  Feature_007  Feature_008  \\\n",
       "0         0.916451     0.872596     1.605941    -0.048202     0.390532     0.409812    -0.655648    -1.462573     0.143709   \n",
       "1         0.719237     0.682143     1.551272     0.287570     0.318039     0.582101    -0.372718    -1.462299     0.030956   \n",
       "2         0.798004     0.805205     1.545128     0.241463     0.315389     0.497950    -0.449862    -1.470268     0.122954   \n",
       "3        -0.134616    -0.200266    -0.109721     0.058983    -0.134415    -0.044743    -0.221009     0.147919     0.262348   \n",
       "4        -0.031706    -0.148909    -0.102415     0.078211    -0.046021     0.023729    -0.130609     0.044276     0.173374   \n",
       "...            ...          ...          ...          ...          ...          ...          ...          ...          ...   \n",
       "12595     0.165864    -0.253816    -0.244503     0.277046     0.047860     0.147268    -0.127380    -0.035903     0.443936   \n",
       "12596     0.051572    -0.152540    -0.031808     0.170956     0.025151     0.050282    -0.035007    -0.025391     0.185056   \n",
       "12597    -0.013109    -0.010380     0.031994    -0.008713    -0.025707    -0.032357    -0.064948    -0.040382    -0.037646   \n",
       "12598     0.007677    -0.029839     0.009657     0.025732    -0.036984    -0.016097    -0.066608    -0.027636     0.016297   \n",
       "12599    -0.001285    -0.009526     0.008893    -0.003330    -0.015659    -0.036123    -0.037049    -0.022767    -0.008878   \n",
       "\n",
       "       Feature_009  ...  Feature_240  Feature_241  Feature_242  Feature_243  Feature_244  Feature_245  Feature_246  Feature_247  \\\n",
       "0        -0.054209  ...    -0.518385     0.716023    -0.590375     2.141531    -1.800316    -0.172188    -0.072441     1.743561   \n",
       "1         0.022026  ...    -0.591034     0.550698    -0.636886     1.880710    -1.816228    -0.037780    -0.130082     1.685629   \n",
       "2        -0.037246  ...    -0.355327     0.605948    -0.733919     2.052279    -1.843459    -0.157140    -0.118316     1.835303   \n",
       "3        -0.208570  ...     0.132724    -0.171853     0.401244    -0.037833     0.000879    -0.071789     0.051848    -0.053514   \n",
       "4        -0.036158  ...     0.087170    -0.024574     0.260385    -0.012428     0.086317    -0.071831     0.047108     0.024453   \n",
       "...            ...  ...          ...          ...          ...          ...          ...          ...          ...          ...   \n",
       "12595     0.321162  ...     0.137795     0.131801     0.281455    -0.004880     0.298354    -0.011975     0.249098     0.122328   \n",
       "12596     0.219689  ...     0.016096     0.096827     0.021602    -0.066104     0.215846     0.068682     0.075461     0.025770   \n",
       "12597    -0.037369  ...     0.089090    -0.034141     0.049892    -0.022626     0.008242     0.008548    -0.012342    -0.017410   \n",
       "12598    -0.034339  ...     0.115197    -0.066165     0.072447    -0.020661     0.028276     0.005337     0.022535    -0.031815   \n",
       "12599    -0.036014  ...     0.080799    -0.023805     0.089674    -0.009829    -0.026093     0.009895    -0.009979    -0.032678   \n",
       "\n",
       "       Feature_248  Feature_249  \n",
       "0         1.466185     1.244473  \n",
       "1         1.263643     0.943990  \n",
       "2         1.341295     0.968254  \n",
       "3         0.171957     0.121377  \n",
       "4         0.105712     0.071885  \n",
       "...            ...          ...  \n",
       "12595     0.279326     0.173874  \n",
       "12596     0.146833     0.132271  \n",
       "12597    -0.045713     0.028342  \n",
       "12598    -0.022689     0.010540  \n",
       "12599    -0.018962     0.006637  \n",
       "\n",
       "[12600 rows x 250 columns]"
      ]
     },
     "execution_count": 78,
     "metadata": {},
     "output_type": "execute_result"
    },
    {
     "data": {
      "text/plain": [
       "0        0\n",
       "1        0\n",
       "2        0\n",
       "3        0\n",
       "4        0\n",
       "        ..\n",
       "12595    0\n",
       "12596    0\n",
       "12597    1\n",
       "12598    1\n",
       "12599    1\n",
       "Name: Metadata_Permiation, Length: 12600, dtype: int64"
      ]
     },
     "execution_count": 78,
     "metadata": {},
     "output_type": "execute_result"
    }
   ],
   "source": [
    "# TEST_X, TEST_Y = bal_test_X, bal_test_y\n",
    "TEST_X = df_test_x.iloc[:, 11:]    ## bal_train_X\n",
    "TEST_X\n",
    "TEST_Y = df_test_y\n",
    "TEST_Y"
   ]
  },
  {
   "cell_type": "code",
   "execution_count": 79,
   "id": "3636494d-e04d-4c4a-a36a-59e8301c1a8b",
   "metadata": {
    "execution": {
     "iopub.execute_input": "2024-12-09T09:39:39.852072Z",
     "iopub.status.busy": "2024-12-09T09:39:39.851543Z",
     "iopub.status.idle": "2024-12-09T09:42:33.507024Z",
     "shell.execute_reply": "2024-12-09T09:42:33.505932Z",
     "shell.execute_reply.started": "2024-12-09T09:39:39.852030Z"
    }
   },
   "outputs": [
    {
     "data": {
      "text/plain": [
       "(12600,)"
      ]
     },
     "execution_count": 79,
     "metadata": {},
     "output_type": "execute_result"
    }
   ],
   "source": [
    "y_pred = Best_Estimators[0][0].predict(TEST_X)\n",
    "y_pred.shape"
   ]
  },
  {
   "cell_type": "code",
   "execution_count": null,
   "id": "b158926f-4c6e-4e04-97af-11c201110542",
   "metadata": {
    "execution": {
     "iopub.execute_input": "2024-12-09T11:51:11.323116Z",
     "iopub.status.busy": "2024-12-09T11:51:11.322750Z",
     "iopub.status.idle": "2024-12-09T11:54:03.974388Z",
     "shell.execute_reply": "2024-12-09T11:54:03.973300Z",
     "shell.execute_reply.started": "2024-12-09T11:51:11.323094Z"
    }
   },
   "outputs": [],
   "source": [
    "y_prob = Best_Estimators[0][0].predict_proba(TEST_X)\n",
    "y_prob.shape\n",
    "y_prob"
   ]
  },
  {
   "cell_type": "code",
   "execution_count": 80,
   "id": "5d4680e1-8e98-4e9e-b60a-5702bfbc6b7b",
   "metadata": {
    "execution": {
     "iopub.execute_input": "2024-12-09T09:53:54.161116Z",
     "iopub.status.busy": "2024-12-09T09:53:54.160569Z",
     "iopub.status.idle": "2024-12-09T09:53:54.211009Z",
     "shell.execute_reply": "2024-12-09T09:53:54.209946Z",
     "shell.execute_reply.started": "2024-12-09T09:53:54.161072Z"
    }
   },
   "outputs": [],
   "source": [
    "# bal_y_pred = svm_estimators.best_estimator_.predict(bal_test_X)\n",
    "# bal_y_pred.shape"
   ]
  },
  {
   "cell_type": "code",
   "execution_count": 82,
   "id": "05e78aed-8b28-44dc-b555-3c51d1c40cea",
   "metadata": {
    "execution": {
     "iopub.execute_input": "2024-12-09T09:54:06.272618Z",
     "iopub.status.busy": "2024-12-09T09:54:06.272096Z",
     "iopub.status.idle": "2024-12-09T09:54:06.319345Z",
     "shell.execute_reply": "2024-12-09T09:54:06.318587Z",
     "shell.execute_reply.started": "2024-12-09T09:54:06.272575Z"
    }
   },
   "outputs": [
    {
     "name": "stdout",
     "output_type": "stream",
     "text": [
      " Ground Truth\n",
      " -------------\n",
      " Total samples: 12600  - compounds: 4200\n",
      " Label 0:  11,169      % 88.64 \n",
      " Label 1:   1,431      % 11.36 \n",
      "\n",
      " Predictions\n",
      " ------------\n",
      " Total samples: 12600  - compounds: 4200\n",
      " Label 0:  12,236      % 97.11 \n",
      " Label 1:     364      % 2.89 \n",
      "\n"
     ]
    }
   ],
   "source": [
    "label_counts( [(\"Ground Truth\", TEST_Y), (\"Predictions\", y_pred)])\n",
    "# label_counts( [(\"Balanced Ground Truth\", bal_test_y), (\"Balanced Predictions\", bal_test_y)])\n"
   ]
  },
  {
   "cell_type": "code",
   "execution_count": 103,
   "id": "e60cb6e4-02bb-4e23-ae53-06316789ca10",
   "metadata": {
    "execution": {
     "iopub.execute_input": "2024-12-09T11:58:36.774963Z",
     "iopub.status.busy": "2024-12-09T11:58:36.774329Z",
     "iopub.status.idle": "2024-12-09T11:58:36.834744Z",
     "shell.execute_reply": "2024-12-09T11:58:36.833731Z",
     "shell.execute_reply.started": "2024-12-09T11:58:36.774927Z"
    }
   },
   "outputs": [
    {
     "name": "stdout",
     "output_type": "stream",
     "text": [
      "Original test file\n",
      "-------------------\n",
      " Accuracy: 0.87119     Precision: 0.23626     Recall: 0.06010     F1: 0.09582 \n",
      " ROC AUC:  0.56645\n",
      "\n",
      "\n",
      " True + labels:          1431     ratio to total:  0.11357\n",
      " Predicted + labels:      364     ratio to total:  0.02889\n",
      " True/Predicted Match:  10977     ratio to total:  0.87119\n"
     ]
    }
   ],
   "source": [
    "compute_metrics(TEST_Y, y_pred, \"Original test file\", y_prob = y_prob[:,1])\n",
    "\n",
    "# Original test file\n",
    "# -------------------\n",
    "#  Accuracy: 0.87119     Precision: 0.23626     Recall: 0.06010     F1: 0.09582 \n",
    "\n",
    "#  True + labels:          1431     ratio to total:  0.11357\n",
    "#  Predicted + labels:      364     ratio to total:  0.02889\n",
    "#  True/Predicted Match:  10977     ratio to total:  0.87119"
   ]
  },
  {
   "cell_type": "code",
   "execution_count": 661,
   "id": "c62f3e1b-a441-433f-b6f6-0a204594c70b",
   "metadata": {
    "execution": {
     "iopub.execute_input": "2024-08-05T21:18:44.616932Z",
     "iopub.status.busy": "2024-08-05T21:18:44.616435Z",
     "iopub.status.idle": "2024-08-05T21:18:44.666027Z",
     "shell.execute_reply": "2024-08-05T21:18:44.664500Z",
     "shell.execute_reply.started": "2024-08-05T21:18:44.616896Z"
    }
   },
   "outputs": [
    {
     "name": "stdout",
     "output_type": "stream",
     "text": [
      "  1:1 Balanced test file \n",
      " ----------------------- \n",
      " Accuracy: 0.51393     Precision: 0.52176     Recall: 0.33405     F1: 0.40732 \n",
      "\n",
      " True + labels:          4164     ratio to total:  0.50000\n",
      " Predicted + labels:     2666     ratio to total:  0.32012\n",
      " True/Predicted Match:   4280     ratio to total:  0.51393\n"
     ]
    }
   ],
   "source": [
    "# compute_metrics(bal_test_y, bal_y_pred, \" 1:1 Balanced test file\")\n",
    "\n",
    " #  1:1 Balanced test file \n",
    " # ----------------------- \n",
    " # Accuracy: 0.51393     Precision: 0.52176     Recall: 0.33405     F1: 0.40732 \n",
    "\n",
    " # True + labels:          4164     ratio to total:  0.50000\n",
    " # Predicted + labels:     2666     ratio to total:  0.32012\n",
    " # True/Predicted Match:   4280     ratio to total:  0.51393\n"
   ]
  },
  {
   "cell_type": "code",
   "execution_count": 143,
   "id": "d789e4ce-c0e2-401c-946a-1b33ba06a544",
   "metadata": {
    "execution": {
     "iopub.execute_input": "2024-12-09T15:14:57.591394Z",
     "iopub.status.busy": "2024-12-09T15:14:57.590879Z",
     "iopub.status.idle": "2024-12-09T15:23:40.415804Z",
     "shell.execute_reply": "2024-12-09T15:23:40.414775Z",
     "shell.execute_reply.started": "2024-12-09T15:14:57.591353Z"
    }
   },
   "outputs": [
    {
     "data": {
      "image/png": "[encoded data removed]",
      "text/plain": [
       "<Figure size 1500x500 with 4 Axes>"
      ]
     },
     "metadata": {},
     "output_type": "display_data"
    }
   ],
   "source": [
    "plots_from_estimator(Best_Estimators[0][0], TEST_X, TEST_Y)\n",
    "# plots_from_estimator(svm_estimators.best_estimator_, bal_test_X, bal_y_pred)"
   ]
  },
  {
   "cell_type": "code",
   "execution_count": 139,
   "id": "762984ba-5bae-4ecc-a014-d8c71c529bd4",
   "metadata": {
    "execution": {
     "iopub.execute_input": "2024-12-09T13:48:58.434623Z",
     "iopub.status.busy": "2024-12-09T13:48:58.434006Z",
     "iopub.status.idle": "2024-12-09T13:48:59.006355Z",
     "shell.execute_reply": "2024-12-09T13:48:59.005663Z",
     "shell.execute_reply.started": "2024-12-09T13:48:58.434581Z"
    }
   },
   "outputs": [
    {
     "data": {
      "image/png": "[encoded data removed]",
      "text/plain": [
       "<Figure size 1800x500 with 4 Axes>"
      ]
     },
     "metadata": {},
     "output_type": "display_data"
    }
   ],
   "source": [
    "plots_from_predictions(TEST_Y, y_pred)"
   ]
  },
  {
   "cell_type": "code",
   "execution_count": 140,
   "id": "d4b976e0-3c90-4f4d-bdb8-2487a20cb5a7",
   "metadata": {
    "execution": {
     "iopub.execute_input": "2024-12-09T13:49:02.149964Z",
     "iopub.status.busy": "2024-12-09T13:49:02.149368Z",
     "iopub.status.idle": "2024-12-09T13:49:02.729328Z",
     "shell.execute_reply": "2024-12-09T13:49:02.728637Z",
     "shell.execute_reply.started": "2024-12-09T13:49:02.149922Z"
    }
   },
   "outputs": [
    {
     "data": {
      "image/png": "[encoded data removed]",
      "text/plain": [
       "<Figure size 1800x500 with 4 Axes>"
      ]
     },
     "metadata": {},
     "output_type": "display_data"
    }
   ],
   "source": [
    "plot_cls_metrics(TEST_Y, y_prob[:,1], y_pred, epochs = None )"
   ]
  },
  {
   "cell_type": "code",
   "execution_count": 126,
   "id": "413ee453-cda2-4dc8-a428-c26d5d869052",
   "metadata": {
    "execution": {
     "iopub.execute_input": "2024-12-09T13:35:58.300803Z",
     "iopub.status.busy": "2024-12-09T13:35:58.300208Z",
     "iopub.status.idle": "2024-12-09T13:35:58.345935Z",
     "shell.execute_reply": "2024-12-09T13:35:58.345306Z",
     "shell.execute_reply.started": "2024-12-09T13:35:58.300762Z"
    }
   },
   "outputs": [],
   "source": [
    "# plots_from_predictions(test_y, y_pred)\n",
    "# plots_from_predictions(bal_test_y, bal_y_pred)"
   ]
  },
  {
   "cell_type": "code",
   "execution_count": null,
   "id": "a11376fe-7559-4840-bf66-96ee5ed97a75",
   "metadata": {},
   "outputs": [],
   "source": []
  }
 ],
 "metadata": {
  "kernelspec": {
   "display_name": "Python [conda env:cp311]",
   "language": "python",
   "name": "conda-env-cp311-py"
  },
  "language_info": {
   "codemirror_mode": {
    "name": "ipython",
    "version": 3
   },
   "file_extension": ".py",
   "mimetype": "text/x-python",
   "name": "python",
   "nbconvert_exporter": "python",
   "pygments_lexer": "ipython3",
   "version": "3.11.4"
  }
 },
 "nbformat": 4,
 "nbformat_minor": 5
}
