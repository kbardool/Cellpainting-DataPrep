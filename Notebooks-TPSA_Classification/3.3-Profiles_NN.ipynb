{
 "cells": [
  {
   "cell_type": "markdown",
   "id": "418c282c-2b25-4f32-96cf-883b40b84c36",
   "metadata": {
    "editable": true,
    "slideshow": {
     "slide_type": ""
    },
    "tags": []
   },
   "source": [
    "  # Train simple Fully Connected NN on (1472) profiles to classify TPSA  :"
   ]
  },
  {
   "cell_type": "markdown",
   "id": "14da93a6-653f-4a55-9b3a-e72ab79a1121",
   "metadata": {},
   "source": [
    "# Setup"
   ]
  },
  {
   "cell_type": "code",
   "execution_count": 2,
   "id": "a104a277-3ad3-438a-b706-d4499f709f89",
   "metadata": {
    "ExecuteTime": {
     "end_time": "2023-04-12T10:29:16.111588Z",
     "start_time": "2023-04-12T10:29:15.764305Z"
    },
    "editable": true,
    "execution": {
     "iopub.execute_input": "2024-10-16T15:37:45.904380Z",
     "iopub.status.busy": "2024-10-16T15:37:45.903963Z",
     "iopub.status.idle": "2024-10-16T15:37:45.926581Z",
     "shell.execute_reply": "2024-10-16T15:37:45.925939Z",
     "shell.execute_reply.started": "2024-10-16T15:37:45.904339Z"
    },
    "slideshow": {
     "slide_type": ""
    },
    "tags": []
   },
   "outputs": [
    {
     "data": {
      "text/html": [
       "<style>.container { width:98% !important; }</style>"
      ],
      "text/plain": [
       "<IPython.core.display.HTML object>"
      ]
     },
     "metadata": {},
     "output_type": "display_data"
    }
   ],
   "source": [
    "%load_ext autoreload  \n",
    "%autoreload 2\n",
    "from IPython.display import display, HTML, Image\n",
    "from IPython.core.interactiveshell import InteractiveShell\n",
    "display(HTML(\"<style>.container { width:98% !important; }</style>\"))\n",
    "InteractiveShell.ast_node_interactivity = \"all\""
   ]
  },
  {
   "cell_type": "code",
   "execution_count": 3,
   "id": "7478f60a-2ea2-4407-bd91-f068349f222b",
   "metadata": {
    "ExecuteTime": {
     "end_time": "2023-04-12T10:29:16.111588Z",
     "start_time": "2023-04-12T10:29:15.764305Z"
    },
    "editable": true,
    "execution": {
     "iopub.execute_input": "2024-10-16T15:37:45.928058Z",
     "iopub.status.busy": "2024-10-16T15:37:45.927856Z",
     "iopub.status.idle": "2024-10-16T15:37:48.432472Z",
     "shell.execute_reply": "2024-10-16T15:37:48.431867Z",
     "shell.execute_reply.started": "2024-10-16T15:37:45.928037Z"
    },
    "slideshow": {
     "slide_type": ""
    },
    "tags": []
   },
   "outputs": [
    {
     "name": "stdout",
     "output_type": "stream",
     "text": [
      "insert ./src\n",
      "insert ../..\n",
      "['../..', './src', '/home/kevin/WSL-shared/cellpainting/cj-datasets', '/home/kevin/miniforge3/envs/cp311/lib/python311.zip', '/home/kevin/miniforge3/envs/cp311/lib/python3.11', '/home/kevin/miniforge3/envs/cp311/lib/python3.11/lib-dynload', '', '/home/kevin/miniforge3/envs/cp311/lib/python3.11/site-packages', '/home/kevin/miniforge3/envs/cp311/lib/python3.11/site-packages/huggingface_hub-0.20.3-py3.8.egg']\n"
     ]
    },
    {
     "data": {
      "text/plain": [
       "<torch._C.Generator at 0x7fda5e2fadd0>"
      ]
     },
     "execution_count": 3,
     "metadata": {},
     "output_type": "execute_result"
    },
    {
     "data": {
      "text/plain": [
       "4"
      ]
     },
     "execution_count": 3,
     "metadata": {},
     "output_type": "execute_result"
    }
   ],
   "source": [
    "import os\n",
    "import sys\n",
    "import random\n",
    "from functools import partial\n",
    "from typing import List, Tuple\n",
    "from types import SimpleNamespace\n",
    "import yaml\n",
    "import pprint\n",
    "import logging\n",
    "from datetime import datetime\n",
    "for p in ['./src','../..']:\n",
    "    if p not in sys.path:\n",
    "        print(f\"insert {p}\")\n",
    "        sys.path.insert(0, p)\n",
    "print(sys.path)\n",
    "\n",
    "import tqdm\n",
    "import numpy as np\n",
    "import matplotlib.pyplot as plt\n",
    "import seaborn as sb\n",
    "import scipy\n",
    "import pandas as pd\n",
    "\n",
    "import torch\n",
    "import torch.nn as nn\n",
    "import torch.nn.functional as F\n",
    "import matplotlib.pyplot as plt \n",
    "from torchinfo import summary\n",
    "\n",
    "torch.set_printoptions(precision=None, threshold=None, edgeitems=None, linewidth=180, profile=None, sci_mode=None)\n",
    "torch.manual_seed(42);  # seed rng for reproducibility\n",
    "pp = pprint.PrettyPrinter(indent=4)\n",
    "pd.options.display.width = 132\n",
    "np.set_printoptions(edgeitems=3, infstr='inf', linewidth=150, nanstr='nan')\n",
    "\n",
    "# os.environ[\"WANDB_NOTEBOOK_NAME\"] = \"6.3_Profiles_NN.ipynb\"\n",
    "# os.environ[\"CUDA_LAUNCH_BLOCKING\"] = \"1\"\n",
    "os.environ[\"CUDA_VISIBLE_DEVICES\"] = \"0,1,2\"\n",
    "\n",
    "torch.set_num_threads(4)  # <--- limit to ~ 2 CPUs\n",
    "torch.get_num_threads()"
   ]
  },
  {
   "cell_type": "code",
   "execution_count": 4,
   "id": "b939a031-286c-430c-890d-946ea497d8e3",
   "metadata": {
    "editable": true,
    "execution": {
     "iopub.execute_input": "2024-10-16T15:37:48.433964Z",
     "iopub.status.busy": "2024-10-16T15:37:48.433520Z",
     "iopub.status.idle": "2024-10-16T15:37:50.366284Z",
     "shell.execute_reply": "2024-10-16T15:37:50.365589Z",
     "shell.execute_reply.started": "2024-10-16T15:37:48.433942Z"
    },
    "slideshow": {
     "slide_type": ""
    },
    "tags": []
   },
   "outputs": [
    {
     "name": "stderr",
     "output_type": "stream",
     "text": [
      "/home/kevin/miniforge3/envs/cp311/lib/python3.11/site-packages/dask/dataframe/_pyarrow_compat.py:17: FutureWarning: Minimal version of pyarrow will soon be increased to 14.0.1. You are using 11.0.0. Please consider upgrading.\n",
      "  warnings.warn(\n"
     ]
    }
   ],
   "source": [
    "import KevinsRoutines.utils as myutils\n",
    "from KevinsRoutines.utils.utils_general import list_namespace, save_to_pickle, load_from_pickle\n",
    "# import snnl.utils as utils\n",
    "# from pt-snnl.snnl.utils.utils_ptsnnl import display_cellpainting_batch\n",
    "from utils.utils_cellpainting import label_counts, balance_datasets,save_checkpoint, load_checkpoint\n",
    "from utils.dataloader import CellpaintingDataset, InfiniteDataLoader, custom_collate_fn, dynamic_collate_fn\n",
    "from utils.utils_notebooks import plot_cls_metrics, compute_classification_metrics, run_model_on_test_data,\\\n",
    "                                train, validation, accuracy_fn, fit, build_model"
   ]
  },
  {
   "cell_type": "code",
   "execution_count": 5,
   "id": "c12352c5-443c-414b-bb2b-6ea5ba801515",
   "metadata": {
    "editable": true,
    "execution": {
     "iopub.execute_input": "2024-10-16T15:37:50.368345Z",
     "iopub.status.busy": "2024-10-16T15:37:50.368136Z",
     "iopub.status.idle": "2024-10-16T15:37:50.399939Z",
     "shell.execute_reply": "2024-10-16T15:37:50.399267Z",
     "shell.execute_reply.started": "2024-10-16T15:37:50.368324Z"
    },
    "scrolled": true,
    "slideshow": {
     "slide_type": ""
    },
    "tags": []
   },
   "outputs": [
    {
     "name": "stderr",
     "output_type": "stream",
     "text": [
      "2024-10-16 17:37:50,395 - __main__ - INFO: -  Pytorch version  : 2.2.0\n",
      "2024-10-16 17:37:50,395 - __main__ - INFO: -  Scipy version    : 1.11.4  \t\t Numpy version : 1.26.2\n",
      "2024-10-16 17:37:50,396 - __main__ - INFO: -  Pandas version   : 2.2.0  \n"
     ]
    }
   ],
   "source": [
    "timestamp = datetime.now().strftime('%Y_%m_%d_%H:%M:%S')\n",
    "logger = logging.getLogger(__name__)\n",
    "logLevel = os.environ.get('LOG_LEVEL', 'INFO').upper()\n",
    "FORMAT = '%(asctime)s - %(name)s - %(levelname)s: - %(message)s'\n",
    "logging.basicConfig(level=\"INFO\", format= FORMAT)\n",
    "logger.info(f\" Pytorch version  : {torch.__version__}\")\n",
    "logger.info(f\" Scipy version    : {scipy.__version__}  \\t\\t Numpy version : {np.__version__}\")\n",
    "logger.info(f\" Pandas version   : {pd.__version__}  \")"
   ]
  },
  {
   "cell_type": "code",
   "execution_count": 6,
   "id": "bb2dabde-9e65-44c9-a77d-604625233764",
   "metadata": {
    "execution": {
     "iopub.execute_input": "2024-10-16T15:37:50.401393Z",
     "iopub.status.busy": "2024-10-16T15:37:50.401093Z",
     "iopub.status.idle": "2024-10-16T15:37:51.203709Z",
     "shell.execute_reply": "2024-10-16T15:37:51.202941Z",
     "shell.execute_reply.started": "2024-10-16T15:37:50.401372Z"
    }
   },
   "outputs": [
    {
     "name": "stdout",
     "output_type": "stream",
     "text": [
      " Switched to: \"cuda:2\"   Device Name: NVIDIA TITAN Xp               \n"
     ]
    },
    {
     "data": {
      "text/plain": [
       "'cuda:2'"
      ]
     },
     "execution_count": 6,
     "metadata": {},
     "output_type": "execute_result"
    },
    {
     "name": "stdout",
     "output_type": "stream",
     "text": [
      "Dev Id   Device Name                    Total Memory                     InUse                            Free Memory \n",
      "   0     Quadro GV100                   34,069,872,640 B/ (31.73 GB)  \t 1,287,651,328 B / (1.20 GB)  \t 32,782,221,312 B / (30.53 GB)  \n",
      "   1     Quadro GV100                   34,069,872,640 B/ (31.73 GB)  \t 1,287,651,328 B / (1.20 GB)  \t 32,782,221,312 B / (30.53 GB)  \n",
      "   2     NVIDIA TITAN Xp                12,774,539,264 B/ (11.90 GB)  \t 826,408,960 B / (0.77 GB)  \t 11,948,130,304 B / (11.13 GB)   *** CURRENT DEVICE *** \n",
      "\n",
      " Current CUDA Device is:  \"cuda:2\"  Device Name: NVIDIA TITAN Xp\n",
      " Seed value set to 1111 in random, np.random, and torch\n",
      "cuda:2\n"
     ]
    }
   ],
   "source": [
    "# Set visible GPU device \n",
    "# ----------------------------------------------\n",
    "# os.environ[\"CUDA_VISIBLE_DEVICES\"] = '0'\n",
    "myutils.set_device(2);\n",
    "device = myutils.get_device(verbose = True);\n",
    "myutils.set_global_seed(1111)\n",
    "print(device)"
   ]
  },
  {
   "cell_type": "code",
   "execution_count": 7,
   "id": "432584e6-c86f-4abd-b292-0c0730f15f40",
   "metadata": {
    "ExecuteTime": {
     "end_time": "2023-07-31T18:45:10.550334Z",
     "start_time": "2023-07-31T18:45:07.868769Z"
    },
    "execution": {
     "iopub.execute_input": "2024-10-16T15:37:51.205164Z",
     "iopub.status.busy": "2024-10-16T15:37:51.204929Z",
     "iopub.status.idle": "2024-10-16T15:37:51.236300Z",
     "shell.execute_reply": "2024-10-16T15:37:51.235741Z",
     "shell.execute_reply.started": "2024-10-16T15:37:51.205143Z"
    }
   },
   "outputs": [],
   "source": [
    "try:\n",
    "    del model\n",
    "except Exception as e:\n",
    "    pass"
   ]
  },
  {
   "cell_type": "markdown",
   "id": "cdac793b-be20-4c56-8bab-989c05caad80",
   "metadata": {},
   "source": [
    "# main(args)"
   ]
  },
  {
   "cell_type": "code",
   "execution_count": 8,
   "id": "c25082b2-753b-4069-b183-00a90f611b68",
   "metadata": {
    "editable": true,
    "execution": {
     "iopub.execute_input": "2024-10-16T15:37:51.237668Z",
     "iopub.status.busy": "2024-10-16T15:37:51.237396Z",
     "iopub.status.idle": "2024-10-16T15:37:51.265751Z",
     "shell.execute_reply": "2024-10-16T15:37:51.265166Z",
     "shell.execute_reply.started": "2024-10-16T15:37:51.237649Z"
    },
    "slideshow": {
     "slide_type": ""
    },
    "tags": []
   },
   "outputs": [
    {
     "name": "stdout",
     "output_type": "stream",
     "text": [
      "11\n",
      "1482\n"
     ]
    }
   ],
   "source": [
    "LATENT_DIM    = 1471\n",
    "HIDDEN_1      = 512\n",
    "COMPOUNDS_PER_BATCH = 600\n",
    "\n",
    "# MODEL_TYPE = 'batch_norm'\n",
    "MODEL_TYPE = 'single_layer'\n",
    "# MODEL_TYPE = 'relu'\n",
    "n_input    = LATENT_DIM  # the embedding dimensionality \n",
    "\n",
    "n_hidden_1 = 256  # the number of neurons in the hidden layer of the MLP\n",
    "n_hidden_2 = 256  # the number of neurons in the hidden layer of the MLP\n",
    "n_hidden_3 = 128\n",
    "\n",
    "# metadata_cols = ['Metadata_Source', 'Metadata_Batch', 'Metadata_Plate', 'Metadata_Well', 'Metadata_JCP2022', 'Metadata_Hash', 'Metadata_Bin', 'Metadata_TPSA', 'Metadata_lnTPSA', 'Metadata_log10TPSA', 'Metadata_Permiation']\n",
    "# FEATURE_COLS  = 1482 - len(metadata_cols)\n",
    "# METADATA_COLS += [f'Feature_{x:03d}' for x in range(LATENT_DIM)]\n",
    "\n",
    "METADATA_COLS = ['Metadata_Source', 'Metadata_Batch', 'Metadata_Plate', 'Metadata_Well', 'Metadata_JCP2022', 'Metadata_Hash', 'Metadata_Bin', 'Metadata_TPSA', 'Metadata_lnTPSA', 'Metadata_log10TPSA', 'Metadata_Permiation']\n",
    "input_cols = LATENT_DIM + len(METADATA_COLS)\n",
    "print(len(METADATA_COLS))\n",
    "print(input_cols)\n",
    "\n",
    "INPUT_PATH = f\"/home/kevin/WSL-shared/cellpainting/cj-datasets/output_11102023/3_sample_profiles/\"\n",
    "CKPT_PATH = \"./saved_models/profile_models\""
   ]
  },
  {
   "cell_type": "code",
   "execution_count": 9,
   "id": "44d360ff-9ad6-47df-859e-20caecaeff7f",
   "metadata": {
    "execution": {
     "iopub.execute_input": "2024-10-16T15:37:51.267050Z",
     "iopub.status.busy": "2024-10-16T15:37:51.266751Z",
     "iopub.status.idle": "2024-10-16T15:37:51.299149Z",
     "shell.execute_reply": "2024-10-16T15:37:51.298543Z",
     "shell.execute_reply.started": "2024-10-16T15:37:51.267031Z"
    }
   },
   "outputs": [
    {
     "name": "stdout",
     "output_type": "stream",
     "text": [
      "20240916_1803\n"
     ]
    }
   ],
   "source": [
    "# RUN_DATETIME = datetime.now().strftime('%Y%m%d_%H%M')\n",
    "\n",
    "# RUN_DATETIME = '20240916_1800'   ## CellProfiles CPB 600 - Single layer 256\n",
    "# RUN_DATETIME = '20240916_1801'   ## CellProfiles CPB 600 - Single layer 256\n",
    "# RUN_DATETIME = '20240916_1802'   ## CellProfiles CPB 600 - Single layer 256\n",
    "RUN_DATETIME = '20240916_1803'   ## CellProfiles CPB 600 - Single layer 256\n",
    "# RUN_DATETIME = '20240916_1802'   ## CellProfiles CPB 600 - Single layer 256\n",
    "# RUN_DATETIME = '20240921_0600'   ## CellProfiles CPB 600 - Single layer 512\n",
    "# RUN_DATETIME = '20240912_0400'   ## CellProfiles CPB 600 - ReLU 256/256/128\n",
    "# RUN_DATETIME = '20240912_0401'   ## CellProfiles CPB 600 - ReLU 256/256/128\n",
    "# RUN_DATETIME = '20240913_0700'   ## CellProfiles CPB 600 - Batch Norm 256/256/128\n",
    "# RUN_DATETIME = '20241004_1600'   ## CellProfiles CPB 600 - Batch Norm 512/512/128\n",
    "print(RUN_DATETIME)"
   ]
  },
  {
   "cell_type": "code",
   "execution_count": 10,
   "id": "60285362-f1d0-48f0-91d3-1787dce08036",
   "metadata": {
    "editable": true,
    "execution": {
     "iopub.execute_input": "2024-10-16T15:37:51.300569Z",
     "iopub.status.busy": "2024-10-16T15:37:51.300274Z",
     "iopub.status.idle": "2024-10-16T15:37:51.381099Z",
     "shell.execute_reply": "2024-10-16T15:37:51.380567Z",
     "shell.execute_reply.started": "2024-10-16T15:37:51.300550Z"
    },
    "slideshow": {
     "slide_type": ""
    },
    "tags": []
   },
   "outputs": [],
   "source": [
    "# SNNL AUTOENCODERS \n",
    "# AE_RUNMODE = \"snnl\"\n",
    "# AE_DATETIME = \"20240718_1956\"\n",
    "# AE_DATETIME = \"20240906_2201\"     # Autoencoder training - SNNL, CPB = 600, Latent 150, WD = 0.001, SNN Factor 3\n",
    "# AE_DATETIME = \"20240917_2004\"     # Autoencoder training - SNNL, CPB = 600, Latent 250, WD = 0.001, SNN Factor 3\n",
    "\n",
    "## BASELINE AUTOENCODERS \n",
    "# AE_RUNMODE = 'base'\n",
    "# AE_DATETIME = \"20240923_1943\"     # Autoencoder training - Baseline, CPB = 600, Latent 150, WD = 0.001 (SNN Factor 0)\n",
    "# AE_DATETIME = \"20240917_2017\"     # Autoencoder training - Baseline, CPB = 600, Latent 250, WD = 0.001 (SNN Factor 0)\n",
    "\n",
    "# AE_CKPTTYPE = \"BEST\"\n",
    "# AE_CKPTTYPE = \"LAST\""
   ]
  },
  {
   "cell_type": "code",
   "execution_count": 11,
   "id": "fb0fd36d-c2a6-4afd-a61e-62ff4d63f35f",
   "metadata": {
    "ExecuteTime": {
     "end_time": "2023-07-31T18:48:09.459977Z",
     "start_time": "2023-07-31T18:48:09.429767Z"
    },
    "execution": {
     "iopub.execute_input": "2024-10-16T15:37:51.383722Z",
     "iopub.status.busy": "2024-10-16T15:37:51.383505Z",
     "iopub.status.idle": "2024-10-16T15:37:51.463368Z",
     "shell.execute_reply": "2024-10-16T15:37:51.462699Z",
     "shell.execute_reply.started": "2024-10-16T15:37:51.383704Z"
    }
   },
   "outputs": [
    {
     "name": "stdout",
     "output_type": "stream",
     "text": [
      "NN_1482profiles_cpb600_20240916_1803_ep_{ep}\n"
     ]
    }
   ],
   "source": [
    "CKPT_FILE = f\"NN_1482profiles_cpb{COMPOUNDS_PER_BATCH}_{RUN_DATETIME}_ep_{{ep}}\"\n",
    "print(CKPT_FILE)"
   ]
  },
  {
   "cell_type": "markdown",
   "id": "a7ea094b-23a5-4d5c-925a-119a8515a0b5",
   "metadata": {},
   "source": [
    "# Input Dataloader"
   ]
  },
  {
   "cell_type": "code",
   "execution_count": 12,
   "id": "1aef181a-ae90-4be5-93f2-46b77a7ee869",
   "metadata": {
    "editable": true,
    "execution": {
     "iopub.execute_input": "2024-10-16T15:37:51.464423Z",
     "iopub.status.busy": "2024-10-16T15:37:51.464189Z",
     "iopub.status.idle": "2024-10-16T15:37:51.508432Z",
     "shell.execute_reply": "2024-10-16T15:37:51.507598Z",
     "shell.execute_reply.started": "2024-10-16T15:37:51.464404Z"
    },
    "slideshow": {
     "slide_type": ""
    },
    "tags": []
   },
   "outputs": [
    {
     "name": "stdout",
     "output_type": "stream",
     "text": [
      " 3sample_profiles_1482_HashOrder_training.csv\n",
      " 3sample_profiles_1482_HashOrder_training_sub_val.csv\n",
      " 3sample_profiles_1482_HashOrder_training_sub_test.csv\n",
      " TRAIN_INPUT:  /home/kevin/WSL-shared/cellpainting/cj-datasets/output_11102023/3_sample_profiles/3sample_profiles_1482_HashOrder_training.csv\n",
      " VAL_INPUT  :  /home/kevin/WSL-shared/cellpainting/cj-datasets/output_11102023/3_sample_profiles/3sample_profiles_1482_HashOrder_training_sub_val.csv\n",
      " TEST_INPUT :  /home/kevin/WSL-shared/cellpainting/cj-datasets/output_11102023/3_sample_profiles/3sample_profiles_1482_HashOrder_training_sub_test.csv\n"
     ]
    }
   ],
   "source": [
    "TRAIN_INPUT_FILE = f\"3sample_profiles_1482_HashOrder_training.csv\"\n",
    "VAL_INPUT_FILE   = f\"3sample_profiles_1482_HashOrder_training_sub_val.csv\"\n",
    "TEST_INPUT_FILE  = f\"3sample_profiles_1482_HashOrder_training_sub_test.csv\"\n",
    "# TEST_INPUT_FILE  = f\"3sample_profiles_1482_HashOrder_test.csv\"\n",
    "# ALL_INPUT_FILE   = f\"3sample_profiles_1482_HashOrder_all.csv\"\n",
    "\n",
    "TRAIN_INPUT = os.path.join(INPUT_PATH, TRAIN_INPUT_FILE)\n",
    "VAL_INPUT   = os.path.join(INPUT_PATH, VAL_INPUT_FILE)\n",
    "TEST_INPUT  = os.path.join(INPUT_PATH, TEST_INPUT_FILE)\n",
    "\n",
    "print(f\" {TRAIN_INPUT_FILE}\")\n",
    "print(f\" {VAL_INPUT_FILE}\")\n",
    "print(f\" {TEST_INPUT_FILE}\")\n",
    "\n",
    "print(f\" TRAIN_INPUT:  {TRAIN_INPUT}\")\n",
    "print(f\" VAL_INPUT  :  {VAL_INPUT }\")\n",
    "print(f\" TEST_INPUT :  {TEST_INPUT }\")"
   ]
  },
  {
   "cell_type": "code",
   "execution_count": 13,
   "id": "03c5310e-80ec-433e-af07-37129443de2d",
   "metadata": {
    "execution": {
     "iopub.execute_input": "2024-10-16T15:37:51.510007Z",
     "iopub.status.busy": "2024-10-16T15:37:51.509655Z",
     "iopub.status.idle": "2024-10-16T15:37:51.566698Z",
     "shell.execute_reply": "2024-10-16T15:37:51.565857Z",
     "shell.execute_reply.started": "2024-10-16T15:37:51.509981Z"
    }
   },
   "outputs": [],
   "source": [
    "## total rows = 346,542\n",
    "## Rows on 3sample_profiles_1482_HashOrder_training.csv: 312,000\n",
    "## Split to:\n",
    "##     Train      : 277,200     (312,000 - (21,600+12,600+600))\n",
    "##     Validation :  21,600\n",
    "##     Test       :  12,600\n",
    "##     left over  :     600\n",
    "cellpainting_args = {'compounds_per_batch': COMPOUNDS_PER_BATCH,\n",
    "                     'training_path'  : TRAIN_INPUT,\n",
    "                     'validation_path': VAL_INPUT,\n",
    "                     'test_path'      : TEST_INPUT,\n",
    "                     'train_start'    : 0,\n",
    "                     'train_end'      : 277_200,  # was 276,000\n",
    "                     'val_start'      : 0,\n",
    "                     'val_end'        : 21_600,  # was 300,000 \n",
    "                     'test_start'     : 0,\n",
    "                     'test_end'       : 12_600,  # 34_542\n",
    "                     'tpsa_threshold' : 100\n",
    "                    }"
   ]
  },
  {
   "cell_type": "code",
   "execution_count": 14,
   "id": "ac80b685-550e-43a7-b48d-af4518aa718a",
   "metadata": {
    "execution": {
     "iopub.execute_input": "2024-10-16T15:37:51.568149Z",
     "iopub.status.busy": "2024-10-16T15:37:51.567943Z",
     "iopub.status.idle": "2024-10-16T15:37:51.598198Z",
     "shell.execute_reply": "2024-10-16T15:37:51.597609Z",
     "shell.execute_reply.started": "2024-10-16T15:37:51.568130Z"
    }
   },
   "outputs": [
    {
     "data": {
      "text/plain": [
       "{'compounds_per_batch': 600,\n",
       " 'training_path': '/home/kevin/WSL-shared/cellpainting/cj-datasets/output_11102023/3_sample_profiles/3sample_profiles_1482_HashOrder_training.csv',\n",
       " 'validation_path': '/home/kevin/WSL-shared/cellpainting/cj-datasets/output_11102023/3_sample_profiles/3sample_profiles_1482_HashOrder_training_sub_val.csv',\n",
       " 'test_path': '/home/kevin/WSL-shared/cellpainting/cj-datasets/output_11102023/3_sample_profiles/3sample_profiles_1482_HashOrder_training_sub_test.csv',\n",
       " 'train_start': 0,\n",
       " 'train_end': 277200,\n",
       " 'val_start': 0,\n",
       " 'val_end': 21600,\n",
       " 'test_start': 0,\n",
       " 'test_end': 12600,\n",
       " 'tpsa_threshold': 100}"
      ]
     },
     "execution_count": 14,
     "metadata": {},
     "output_type": "execute_result"
    }
   ],
   "source": [
    "cellpainting_args"
   ]
  },
  {
   "cell_type": "code",
   "execution_count": 15,
   "id": "3dda57be-1cd6-4598-b05e-a1c8b68176df",
   "metadata": {
    "execution": {
     "iopub.execute_input": "2024-10-16T15:37:51.599682Z",
     "iopub.status.busy": "2024-10-16T15:37:51.599404Z",
     "iopub.status.idle": "2024-10-16T15:37:51.672817Z",
     "shell.execute_reply": "2024-10-16T15:37:51.672167Z",
     "shell.execute_reply.started": "2024-10-16T15:37:51.599663Z"
    },
    "scrolled": true
   },
   "outputs": [
    {
     "name": "stderr",
     "output_type": "stream",
     "text": [
      "2024-10-16 17:37:51,639 - utils.dataloader - INFO: -  Building CellPantingDataset for train\n",
      "2024-10-16 17:37:51,640 - utils.dataloader - INFO: -  filename:  /home/kevin/WSL-shared/cellpainting/cj-datasets/output_11102023/3_sample_profiles/3sample_profiles_1482_HashOrder_training.csv\n",
      "2024-10-16 17:37:51,641 - utils.dataloader - INFO: -  type    :  train\n",
      "2024-10-16 17:37:51,642 - utils.dataloader - INFO: -  start   :  0\n",
      "2024-10-16 17:37:51,642 - utils.dataloader - INFO: -  end     :  277200\n",
      "2024-10-16 17:37:51,643 - utils.dataloader - INFO: -  numrows :  277200\n",
      "2024-10-16 17:37:51,644 - utils.dataloader - INFO: -  names   :  None     usecols :  None\n",
      "2024-10-16 17:37:51,644 - utils.dataloader - INFO: -  batch_size  :  1\n",
      "2024-10-16 17:37:51,645 - utils.dataloader - INFO: -  sample_size :  3\n",
      "2024-10-16 17:37:51,645 - utils.dataloader - INFO: -  compounds_per_batch :  600\n",
      "2024-10-16 17:37:51,646 - utils.dataloader - INFO: -  rows per batch (chunksize) :  1800\n",
      "2024-10-16 17:37:51,647 - utils.dataloader - INFO: -  TPSA threshold :  100\n",
      "2024-10-16 17:37:51,647 - utils.dataloader - INFO: -  Each mini-batch contains 600.0 compounds with 3 samples per compound : total 1800 rows\n",
      "2024-10-16 17:37:51,648 - utils.dataloader - INFO: -  Number of 1800 row full size batches per epoch: 154\n",
      "2024-10-16 17:37:51,649 - utils.dataloader - INFO: -  Rows covered by 154 full size batches (1800 rows) per epoch:  277200\n",
      "2024-10-16 17:37:51,649 - utils.dataloader - INFO: -  Last partial batch contains : 0 rows\n",
      "2024-10-16 17:37:51,650 - utils.dataloader - INFO: -  \n",
      "2024-10-16 17:37:51,651 - utils.dataloader - INFO: -  Building CellPantingDataset for val\n",
      "2024-10-16 17:37:51,651 - utils.dataloader - INFO: -  filename:  /home/kevin/WSL-shared/cellpainting/cj-datasets/output_11102023/3_sample_profiles/3sample_profiles_1482_HashOrder_training_sub_val.csv\n",
      "2024-10-16 17:37:51,652 - utils.dataloader - INFO: -  type    :  val\n",
      "2024-10-16 17:37:51,652 - utils.dataloader - INFO: -  start   :  0\n",
      "2024-10-16 17:37:51,652 - utils.dataloader - INFO: -  end     :  21600\n",
      "2024-10-16 17:37:51,653 - utils.dataloader - INFO: -  numrows :  21600\n",
      "2024-10-16 17:37:51,653 - utils.dataloader - INFO: -  names   :  None     usecols :  None\n",
      "2024-10-16 17:37:51,654 - utils.dataloader - INFO: -  batch_size  :  1\n",
      "2024-10-16 17:37:51,654 - utils.dataloader - INFO: -  sample_size :  3\n",
      "2024-10-16 17:37:51,655 - utils.dataloader - INFO: -  compounds_per_batch :  600\n",
      "2024-10-16 17:37:51,655 - utils.dataloader - INFO: -  rows per batch (chunksize) :  1800\n",
      "2024-10-16 17:37:51,655 - utils.dataloader - INFO: -  TPSA threshold :  100\n",
      "2024-10-16 17:37:51,656 - utils.dataloader - INFO: -  Each mini-batch contains 600.0 compounds with 3 samples per compound : total 1800 rows\n",
      "2024-10-16 17:37:51,656 - utils.dataloader - INFO: -  Number of 1800 row full size batches per epoch: 12\n",
      "2024-10-16 17:37:51,657 - utils.dataloader - INFO: -  Rows covered by 12 full size batches (1800 rows) per epoch:  21600\n",
      "2024-10-16 17:37:51,657 - utils.dataloader - INFO: -  Last partial batch contains : 0 rows\n",
      "2024-10-16 17:37:51,657 - utils.dataloader - INFO: -  \n",
      "2024-10-16 17:37:51,658 - utils.dataloader - INFO: -  Building CellPantingDataset for test\n",
      "2024-10-16 17:37:51,658 - utils.dataloader - INFO: -  filename:  /home/kevin/WSL-shared/cellpainting/cj-datasets/output_11102023/3_sample_profiles/3sample_profiles_1482_HashOrder_training_sub_test.csv\n",
      "2024-10-16 17:37:51,659 - utils.dataloader - INFO: -  type    :  test\n",
      "2024-10-16 17:37:51,659 - utils.dataloader - INFO: -  start   :  0\n",
      "2024-10-16 17:37:51,660 - utils.dataloader - INFO: -  end     :  12600\n",
      "2024-10-16 17:37:51,660 - utils.dataloader - INFO: -  numrows :  12600\n",
      "2024-10-16 17:37:51,660 - utils.dataloader - INFO: -  names   :  None     usecols :  None\n"
     ]
    },
    {
     "name": "stdout",
     "output_type": "stream",
     "text": [
      " load {}\n",
      " Dataset size: 277200   rows per batch: 1800  tpsa_threshold: 100\n",
      " Dataset size: 21600   rows per batch: 1800  tpsa_threshold: 100\n"
     ]
    },
    {
     "name": "stderr",
     "output_type": "stream",
     "text": [
      "2024-10-16 17:37:51,661 - utils.dataloader - INFO: -  batch_size  :  1\n",
      "2024-10-16 17:37:51,661 - utils.dataloader - INFO: -  sample_size :  3\n",
      "2024-10-16 17:37:51,662 - utils.dataloader - INFO: -  compounds_per_batch :  600\n",
      "2024-10-16 17:37:51,662 - utils.dataloader - INFO: -  rows per batch (chunksize) :  1800\n",
      "2024-10-16 17:37:51,663 - utils.dataloader - INFO: -  TPSA threshold :  100\n",
      "2024-10-16 17:37:51,663 - utils.dataloader - INFO: -  Each mini-batch contains 600.0 compounds with 3 samples per compound : total 1800 rows\n",
      "2024-10-16 17:37:51,663 - utils.dataloader - INFO: -  Number of 1800 row full size batches per epoch: 7\n",
      "2024-10-16 17:37:51,664 - utils.dataloader - INFO: -  Rows covered by 7 full size batches (1800 rows) per epoch:  12600\n",
      "2024-10-16 17:37:51,664 - utils.dataloader - INFO: -  Last partial batch contains : 0 rows\n",
      "2024-10-16 17:37:51,665 - utils.dataloader - INFO: -  \n"
     ]
    },
    {
     "name": "stdout",
     "output_type": "stream",
     "text": [
      " Dataset size: 12600   rows per batch: 1800  tpsa_threshold: 100\n"
     ]
    }
   ],
   "source": [
    "#### Load CellPainting Dataset\n",
    "# data : keys to the dataset settings (and resulting keys in output dictionary)\n",
    "dataset = dict()\n",
    "data_loader = dict()\n",
    "\n",
    "print(f\" load {dataset}\")\n",
    "for datatype in ['train', 'val', 'test']:\n",
    "    dataset[datatype] = CellpaintingDataset(type = datatype, **cellpainting_args)\n",
    "    data_loader[datatype] = InfiniteDataLoader(dataset = dataset[datatype], batch_size=1, shuffle = False, num_workers = 0,\n",
    "                                               collate_fn = partial(dynamic_collate_fn, tpsa_threshold = dataset[datatype].tpsa_threshold) )"
   ]
  },
  {
   "cell_type": "markdown",
   "id": "25c0988e-89c1-47f8-8096-84b816564a18",
   "metadata": {},
   "source": [
    "### Misc code\n"
   ]
  },
  {
   "cell_type": "code",
   "execution_count": 16,
   "id": "d439c334-18e3-4813-8723-4124d1093aac",
   "metadata": {
    "execution": {
     "iopub.execute_input": "2024-10-16T15:37:51.674072Z",
     "iopub.status.busy": "2024-10-16T15:37:51.673748Z",
     "iopub.status.idle": "2024-10-16T15:37:51.704729Z",
     "shell.execute_reply": "2024-10-16T15:37:51.704222Z",
     "shell.execute_reply.started": "2024-10-16T15:37:51.674042Z"
    }
   },
   "outputs": [],
   "source": [
    "## total rows = 346,542\n",
    "## Rows on 3sample_profiles_1482_HashOrder_training.csv: 312,000\n",
    "## Split to:\n",
    "##     Train      : 277,200     (312,000 - (21,600+12,600+600))\n",
    "##     Validation :  21,600\n",
    "##     Test       :  12,600\n",
    "##     left over  :     600\n",
    "# cellpainting_args = {'sample_size'    : 3,\n",
    "#                      'batch_size'     : 1,\n",
    "#                      'compounds_per_batch': 600,\n",
    "#                      'training_path'  : TRAIN_INPUT,\n",
    "#                      'validation_path': TRAIN_INPUT,\n",
    "#                      'test_path'      : TRAIN_INPUT,\n",
    "#                      'train_start'    : 0,\n",
    "#                      'train_end'      : 277_200,  # was 276,000\n",
    "#                      'val_start'      : 277_200,\n",
    "#                      'val_end'        : 298_800,  # was 300,000 \n",
    "#                      'test_start'     : 298_800,\n",
    "#                      'test_end'       : 311_400,  # 34_542\n",
    "#                     }\n",
    "\n",
    "# cellpainting_args = {'sample_size': 3,\n",
    "#                      'batch_size': 1,\n",
    "#                      'compounds_per_batch': 200,\n",
    "#                      'training_path'  : TRAIN_INPUT,\n",
    "#                      'validation_path': TEST_INPUT,\n",
    "#                      'test_path'      : TEST_INPUT,\n",
    "#                      'train_start'    : 0,\n",
    "#                      'train_end'      : 312_000,\n",
    "#                      'val_start'      : 0,\n",
    "#                      'val_end'        : 24_000,\n",
    "#                      'test_start'     : 24_000,\n",
    "#                      'test_end'       : 34_200,   ## 34_542 }"
   ]
  },
  {
   "cell_type": "code",
   "execution_count": 17,
   "id": "5465d0ad-2f89-45a5-9e48-a55da7c4fa47",
   "metadata": {
    "execution": {
     "iopub.execute_input": "2024-10-16T15:37:51.705633Z",
     "iopub.status.busy": "2024-10-16T15:37:51.705404Z",
     "iopub.status.idle": "2024-10-16T15:37:51.791136Z",
     "shell.execute_reply": "2024-10-16T15:37:51.790605Z",
     "shell.execute_reply.started": "2024-10-16T15:37:51.705615Z"
    },
    "scrolled": true
   },
   "outputs": [],
   "source": [
    "# %%timeit\n",
    "# for dataset in ['train', 'val', 'test']:\n",
    "#     for idx, batch in enumerate(data_loader[dataset]):\n",
    "#         print(batch[0].shape[0], batch[1].sum())\n",
    "#         # display_cellpainting_batch(idx, batch)\n",
    "#         if idx == 1:\n",
    "#             break"
   ]
  },
  {
   "cell_type": "code",
   "execution_count": 18,
   "id": "bd0480c3-f0f5-430f-90b1-f65d1fa3ca93",
   "metadata": {
    "execution": {
     "iopub.execute_input": "2024-10-16T15:37:51.792039Z",
     "iopub.status.busy": "2024-10-16T15:37:51.791840Z",
     "iopub.status.idle": "2024-10-16T15:37:51.850940Z",
     "shell.execute_reply": "2024-10-16T15:37:51.850274Z",
     "shell.execute_reply.started": "2024-10-16T15:37:51.792021Z"
    }
   },
   "outputs": [],
   "source": [
    "# # -----------------------------------------\n",
    "# #  Count pos/neg labels in each dataset\n",
    "# # -----------------------------------------\n",
    "# for datatype in ['train', 'val', 'test']:\n",
    "#     MINIBATCH_SIZE = data_loader[datatype].dataset.sample_size * data_loader[datatype].dataset.compounds_per_batch\n",
    "#     print(f\" {datatype.capitalize()} Minibatch size : {MINIBATCH_SIZE}\") \n",
    "# print()\n",
    "\n",
    "# for datatype in ['train', 'val', 'test']:\n",
    "#     # for datatype in ['val', 'test']:\n",
    "#     minibatches = len(data_loader[datatype]) // MINIBATCH_SIZE\n",
    "#     ttl_rows = 0\n",
    "#     ttl_pos_labels = 0 \n",
    "#     with tqdm.tqdm(enumerate(data_loader[datatype]), initial=0, total = minibatches, position=0, file=sys.stdout,\n",
    "#                    leave= False, desc=f\" Count labels \") as t_warmup:\n",
    "#         for batch_count, (batch_features, batch_labels, _, _, _, _, _) in t_warmup:\n",
    "#             ttl_rows += batch_labels.shape[0]\n",
    "#             ttl_pos_labels += batch_labels.sum()\n",
    "#     ttl_neg_labels = ttl_rows - ttl_pos_labels\n",
    "#     ttl = f\"\\n Dataset: {datatype} -  len of {datatype} data loader: {len(data_loader[datatype])}   number of batches: {minibatches}\"\n",
    "#     print(ttl)\n",
    "#     print('-'*len(ttl))\n",
    "#     print(f\" total rows     : {ttl_rows:7d}\")\n",
    "#     print(f\" total pos rows : {ttl_pos_labels:7.0f} - {ttl_pos_labels*100.0/ttl_rows:5.2f}%\")\n",
    "#     print(f\" total neg rows : {ttl_neg_labels:7.0f} - {ttl_neg_labels*100.0/ttl_rows:5.2f}%\")\n",
    "#     print()"
   ]
  },
  {
   "cell_type": "markdown",
   "id": "7cf97025-8cf7-474b-af8a-42ec83ad67bf",
   "metadata": {
    "execution": {
     "iopub.execute_input": "2024-09-20T19:58:39.837244Z",
     "iopub.status.busy": "2024-09-20T19:58:39.836865Z",
     "iopub.status.idle": "2024-09-20T19:58:39.881107Z",
     "shell.execute_reply": "2024-09-20T19:58:39.880423Z",
     "shell.execute_reply.started": "2024-09-20T19:58:39.837214Z"
    }
   },
   "source": [
    "     Minibatch size : 1800 \n",
    "\n",
    "     Dataset: train -  len of train data loader: 277200   number of batches: 154\n",
    "    ------------------------------\n",
    "     total rows     :  277200\n",
    "     total pos rows :   33129 - 11.95%\n",
    "     total neg rows :  244071 - 88.05%\n",
    "      \n",
    "     Dataset: val - len of val data loader: 21600   number of batches: 12\n",
    "    ------------------------------\n",
    "     total rows     :   21600\n",
    "     total pos rows :    2532 - 11.72%\n",
    "     total neg rows :   19068 - 88.28%\n",
    "\n",
    "     Dataset: test - len of test data loader: 12600   number of batches: 7\n",
    "    ------------------------------\n",
    "     total rows     :   12600\n",
    "     total pos rows :    1431 - 11.36%\n",
    "     total neg rows :   11169 - 88.64%\n"
   ]
  },
  {
   "cell_type": "markdown",
   "id": "c795d1f1-80c4-4efa-86a9-dcabe361a4cc",
   "metadata": {},
   "source": [
    "# Define Neural Net Model "
   ]
  },
  {
   "cell_type": "markdown",
   "id": "424e3ea4-8a96-47b6-9b55-38f9e5aafc0b",
   "metadata": {
    "execution": {
     "iopub.execute_input": "2024-09-10T15:32:07.609903Z",
     "iopub.status.busy": "2024-09-10T15:32:07.609424Z",
     "iopub.status.idle": "2024-09-10T15:32:07.653699Z",
     "shell.execute_reply": "2024-09-10T15:32:07.652905Z",
     "shell.execute_reply.started": "2024-09-10T15:32:07.609862Z"
    }
   },
   "source": [
    "\n",
    " - 1 layer model :\n",
    " \n",
    "     - **20240916_1800** : Run on 1 FC layer model - Input --> 256 --> Tanh --> 1\n",
    "     \n",
    "     - **20240921_0600** : Run on 1 FC layer model - Input --> 512 --> Tanh --> 1     \n",
    "\n",
    "\n",
    "  - 4 layer model :\n",
    "\n",
    "    Input --> Hidden1 --> (BN/NL) ---> Hidden2 ---> (BN/NL) ---> Hidden3 --->  (BN/NL) ---> 1\n",
    "\n",
    "     - **20240912_0400** : Run on 4 FC layer model - Relu non linearities (NO Batch Norm)\n",
    "     - **20240912_0401** : Run on 4 FC layer model - Relu non linearities (NO Batch Norm)\n",
    "     \n",
    "     - **20240913_0700** : Run on 4 FC layer model - 256/256/128 with BATCH NORM and tanh non linearities\n",
    "     \n",
    "     - **20241004_1600** : Run on 4 FC layer model - 512/512/128 with BATCH NORM and tanh non linearities\n"
   ]
  },
  {
   "cell_type": "code",
   "execution_count": 19,
   "id": "f32c6590-d212-4f37-8ce1-4ee46fd4246a",
   "metadata": {
    "ExecuteTime": {
     "end_time": "2023-07-31T18:45:44.380055Z",
     "start_time": "2023-07-31T18:45:41.073911Z"
    },
    "execution": {
     "iopub.execute_input": "2024-10-16T15:37:51.851873Z",
     "iopub.status.busy": "2024-10-16T15:37:51.851623Z",
     "iopub.status.idle": "2024-10-16T15:37:52.038771Z",
     "shell.execute_reply": "2024-10-16T15:37:52.038119Z",
     "shell.execute_reply.started": "2024-10-16T15:37:51.851854Z"
    }
   },
   "outputs": [
    {
     "name": "stdout",
     "output_type": "stream",
     "text": [
      "==============================================================================================================================================================================================\n",
      "Layer (type:depth-idx)                   Input Shape               Output Shape              Param #                   Param %                   Mult-Adds                 Trainable\n",
      "==============================================================================================================================================================================================\n",
      "Sequential                               [30, 1471]                [30, 1]                   --                             --                   --                        True\n",
      "├─Linear: 1-1                            [30, 1471]                [30, 256]                 376,832                    99.93%                   11,304,960                True\n",
      "│    └─weight                                                                                ├─376,576\n",
      "│    └─bias                                                                                  └─256\n",
      "├─Tanh: 1-2                              [30, 256]                 [30, 256]                 --                             --                   --                        --\n",
      "├─Linear: 1-3                            [30, 256]                 [30, 1]                   257                         0.07%                   7,710                     True\n",
      "│    └─weight                                                                                ├─256\n",
      "│    └─bias                                                                                  └─1\n",
      "==============================================================================================================================================================================================\n",
      "Total params: 377,089\n",
      "Trainable params: 377,089\n",
      "Non-trainable params: 0\n",
      "Total mult-adds (Units.MEGABYTES): 11.31\n",
      "==============================================================================================================================================================================================\n",
      "Input size (MB): 0.18\n",
      "Forward/backward pass size (MB): 0.06\n",
      "Params size (MB): 1.51\n",
      "Estimated Total Size (MB): 1.75\n",
      "==============================================================================================================================================================================================\n"
     ]
    }
   ],
   "source": [
    "\n",
    "model = build_model(MODEL_TYPE, input = n_input, hidden_1 = n_hidden_1, hidden_2 = n_hidden_2, hidden_3=n_hidden_3, device = device)\n",
    " "
   ]
  },
  {
   "cell_type": "code",
   "execution_count": 20,
   "id": "9226d19a-0f9f-4677-9f4d-09465d34c6ff",
   "metadata": {
    "ExecuteTime": {
     "end_time": "2023-07-31T18:48:09.459977Z",
     "start_time": "2023-07-31T18:48:09.429767Z"
    },
    "execution": {
     "iopub.execute_input": "2024-10-16T15:40:52.697860Z",
     "iopub.status.busy": "2024-10-16T15:40:52.697388Z",
     "iopub.status.idle": "2024-10-16T15:40:52.736783Z",
     "shell.execute_reply": "2024-10-16T15:40:52.736173Z",
     "shell.execute_reply.started": "2024-10-16T15:40:52.697820Z"
    }
   },
   "outputs": [],
   "source": [
    "metrics = { 'loss_trn' : [], 'acc_trn' : [], 'loss_val' : [], 'acc_val' : []}\n",
    "\n",
    "start_epoch, end_epoch = 0, 0\n",
    "init_LR = 1.0e-3\n",
    "# curr_LR = init_LR\n",
    "\n",
    "# create a PyTorch optimizer\n",
    "# scheduler = torch.optim.lr_scheduler.StepLR(optimizer, step_size = step_size, gamma=0.1, last_epoch =-1)\n",
    "# scheduler = torch.optim.lr_scheduler.ReduceLROnPlateau(optimizer, mode = 'min', factor = 0.3 , patience=20, cooldown=10,)\n",
    "optimizer = torch.optim.AdamW(model.parameters(), lr=init_LR)\n",
    "scheduler = torch.optim.lr_scheduler.ReduceLROnPlateau(optimizer, mode = 'min', factor = 0.5, threshold=1.0e-06, patience=50, cooldown=10,)"
   ]
  },
  {
   "cell_type": "markdown",
   "id": "e45bf676-462d-4225-b5a4-72e873bcb869",
   "metadata": {},
   "source": [
    "### Read checkpoint"
   ]
  },
  {
   "cell_type": "code",
   "execution_count": 21,
   "id": "404d0d6e-6e32-4079-aaad-72a2a2d7a1f8",
   "metadata": {
    "execution": {
     "iopub.execute_input": "2024-10-16T15:40:53.262445Z",
     "iopub.status.busy": "2024-10-16T15:40:53.262001Z",
     "iopub.status.idle": "2024-10-16T15:40:53.297559Z",
     "shell.execute_reply": "2024-10-16T15:40:53.296899Z",
     "shell.execute_reply.started": "2024-10-16T15:40:53.262405Z"
    }
   },
   "outputs": [],
   "source": [
    "# # loaded_epoch\n",
    "# optimizer.state_dict()\n",
    "# scheduler.state_dict()"
   ]
  },
  {
   "cell_type": "code",
   "execution_count": 22,
   "id": "457ddf2d-dd4c-4581-bd84-8bbcb7bebad3",
   "metadata": {
    "execution": {
     "iopub.execute_input": "2024-10-16T15:40:53.443504Z",
     "iopub.status.busy": "2024-10-16T15:40:53.443318Z",
     "iopub.status.idle": "2024-10-16T15:40:53.469978Z",
     "shell.execute_reply": "2024-10-16T15:40:53.469416Z",
     "shell.execute_reply.started": "2024-10-16T15:40:53.443486Z"
    }
   },
   "outputs": [],
   "source": [
    "# from utils.utils_cellpainting import load_checkpoint\n",
    "# model, optimizer, scheudler, end_epoch = load_checkpoint(model, optimizer, scheduler, f\"NN_1482profiles_20240916_1800_ep_200.pt\", ckpt_path = CKPT_PATH)\n",
    "# model = model.to(device)"
   ]
  },
  {
   "cell_type": "code",
   "execution_count": 23,
   "id": "01781b56-f2cf-41ed-b8ca-99f5af4001e0",
   "metadata": {
    "execution": {
     "iopub.execute_input": "2024-10-16T15:40:53.615265Z",
     "iopub.status.busy": "2024-10-16T15:40:53.615084Z",
     "iopub.status.idle": "2024-10-16T15:40:53.640753Z",
     "shell.execute_reply": "2024-10-16T15:40:53.640058Z",
     "shell.execute_reply.started": "2024-10-16T15:40:53.615248Z"
    }
   },
   "outputs": [],
   "source": [
    "# end_epoch\n",
    "# optimizer.state_dict()\n",
    "# scheduler.state_dict()"
   ]
  },
  {
   "cell_type": "markdown",
   "id": "dfc31101-d15c-47b1-99fd-04d59978f8f5",
   "metadata": {},
   "source": [
    "# Run Training "
   ]
  },
  {
   "cell_type": "code",
   "execution_count": 24,
   "id": "a1133c6e-7e9d-4c86-b802-8bfc4611656a",
   "metadata": {
    "ExecuteTime": {
     "end_time": "2023-07-31T18:48:09.459977Z",
     "start_time": "2023-07-31T18:48:09.429767Z"
    },
    "execution": {
     "iopub.execute_input": "2024-10-16T15:40:54.468885Z",
     "iopub.status.busy": "2024-10-16T15:40:54.468477Z",
     "iopub.status.idle": "2024-10-16T15:40:54.501618Z",
     "shell.execute_reply": "2024-10-16T15:40:54.501054Z",
     "shell.execute_reply.started": "2024-10-16T15:40:54.468845Z"
    }
   },
   "outputs": [
    {
     "name": "stdout",
     "output_type": "stream",
     "text": [
      "0 400\n"
     ]
    }
   ],
   "source": [
    "# start_epoch = 0\n",
    "start_epoch = end_epoch\n",
    "end_epoch += 400\n",
    "# start_epoch, end_epoch = 0,100\n",
    "print(start_epoch, end_epoch)\n",
    "_ = model.train()"
   ]
  },
  {
   "cell_type": "code",
   "execution_count": 25,
   "id": "317a3fa7-5bc7-4527-a6ce-fe866388c319",
   "metadata": {
    "ExecuteTime": {
     "end_time": "2023-07-31T19:00:14.450630Z",
     "start_time": "2023-07-31T18:49:12.235999Z"
    },
    "execution": {
     "iopub.execute_input": "2024-10-16T15:40:55.638040Z",
     "iopub.status.busy": "2024-10-16T15:40:55.637571Z",
     "iopub.status.idle": "2024-10-17T04:46:32.271256Z",
     "shell.execute_reply": "2024-10-17T04:46:32.270542Z",
     "shell.execute_reply.started": "2024-10-16T15:40:55.638000Z"
    },
    "scrolled": true
   },
   "outputs": [
    {
     "name": "stdout",
     "output_type": "stream",
     "text": [
      " 17:43:04 | Ep:   1/ 400 | Trn loss:  0.478415 - Acc: 80.6732 | Val loss:  0.392574 - Acc: 87.5231 | last_lr: 1.00000e-03  bad_ep: 0  cdwn: 0                              \n",
      " 17:45:06 | Ep:   2/ 400 | Trn loss:  0.375259 - Acc: 87.8056 | Val loss:  0.370061 - Acc: 88.1944 | last_lr: 1.00000e-03  bad_ep: 0  cdwn: 0                              \n",
      " 17:47:06 | Ep:   3/ 400 | Trn loss:  0.362996 - Acc: 88.0018 | Val loss:  0.364823 - Acc: 88.1944 | last_lr: 1.00000e-03  bad_ep: 0  cdwn: 0                              \n",
      " 17:49:08 | Ep:   4/ 400 | Trn loss:  0.356570 - Acc: 88.0480 | Val loss:  0.364262 - Acc: 88.1343 | last_lr: 1.00000e-03  bad_ep: 0  cdwn: 0                              \n",
      " 17:51:09 | Ep:   5/ 400 | Trn loss:  0.351066 - Acc: 88.0819 | Val loss:  0.364078 - Acc: 88.1296 | last_lr: 1.00000e-03  bad_ep: 0  cdwn: 0                              \n",
      " 17:53:11 | Ep:   6/ 400 | Trn loss:  0.345767 - Acc: 88.1100 | Val loss:  0.364731 - Acc: 88.1528 | last_lr: 1.00000e-03  bad_ep: 1  cdwn: 0                              \n",
      " 17:55:12 | Ep:   7/ 400 | Trn loss:  0.340192 - Acc: 88.1562 | Val loss:  0.366030 - Acc: 88.1343 | last_lr: 1.00000e-03  bad_ep: 2  cdwn: 0                              \n",
      " 17:57:14 | Ep:   8/ 400 | Trn loss:  0.334345 - Acc: 88.1926 | Val loss:  0.367776 - Acc: 88.0741 | last_lr: 1.00000e-03  bad_ep: 3  cdwn: 0                              \n",
      " 17:59:15 | Ep:   9/ 400 | Trn loss:  0.327921 - Acc: 88.2652 | Val loss:  0.370310 - Acc: 88.0370 | last_lr: 1.00000e-03  bad_ep: 4  cdwn: 0                              \n",
      " 18:01:16 | Ep:  10/ 400 | Trn loss:  0.320763 - Acc: 88.3405 | Val loss:  0.373476 - Acc: 87.9537 | last_lr: 1.00000e-03  bad_ep: 5  cdwn: 0                              \n",
      " 18:03:17 | Ep:  11/ 400 | Trn loss:  0.313012 - Acc: 88.4661 | Val loss:  0.377902 - Acc: 87.8472 | last_lr: 1.00000e-03  bad_ep: 6  cdwn: 0                              \n",
      " 18:05:16 | Ep:  12/ 400 | Trn loss:  0.305070 - Acc: 88.6079 | Val loss:  0.382660 - Acc: 87.6944 | last_lr: 1.00000e-03  bad_ep: 7  cdwn: 0                              \n",
      " 18:07:15 | Ep:  13/ 400 | Trn loss:  0.296337 - Acc: 88.8066 | Val loss:  0.387862 - Acc: 87.5602 | last_lr: 1.00000e-03  bad_ep: 8  cdwn: 0                              \n",
      " 18:09:13 | Ep:  14/ 400 | Trn loss:  0.287523 - Acc: 89.0317 | Val loss:  0.393902 - Acc: 87.3380 | last_lr: 1.00000e-03  bad_ep: 9  cdwn: 0                              \n",
      " 18:11:12 | Ep:  15/ 400 | Trn loss:  0.278555 - Acc: 89.3171 | Val loss:  0.399885 - Acc: 87.0602 | last_lr: 1.00000e-03  bad_ep: 10  cdwn: 0                             \n",
      " 18:13:12 | Ep:  16/ 400 | Trn loss:  0.269507 - Acc: 89.6299 | Val loss:  0.407106 - Acc: 86.7778 | last_lr: 1.00000e-03  bad_ep: 11  cdwn: 0                             \n",
      " 18:15:15 | Ep:  17/ 400 | Trn loss:  0.260571 - Acc: 89.9203 | Val loss:  0.414632 - Acc: 86.4769 | last_lr: 1.00000e-03  bad_ep: 12  cdwn: 0                             \n",
      " 18:17:20 | Ep:  18/ 400 | Trn loss:  0.251627 - Acc: 90.2623 | Val loss:  0.423710 - Acc: 86.1343 | last_lr: 1.00000e-03  bad_ep: 13  cdwn: 0                             \n",
      " 18:19:21 | Ep:  19/ 400 | Trn loss:  0.243073 - Acc: 90.6284 | Val loss:  0.432728 - Acc: 85.9676 | last_lr: 1.00000e-03  bad_ep: 14  cdwn: 0                             \n",
      " 18:21:20 | Ep:  20/ 400 | Trn loss:  0.234626 - Acc: 90.9387 | Val loss:  0.441178 - Acc: 85.7500 | last_lr: 1.00000e-03  bad_ep: 15  cdwn: 0                             \n",
      " 18:23:20 | Ep:  21/ 400 | Trn loss:  0.226296 - Acc: 91.2918 | Val loss:  0.451550 - Acc: 85.3935 | last_lr: 1.00000e-03  bad_ep: 16  cdwn: 0                             \n",
      " 18:25:20 | Ep:  22/ 400 | Trn loss:  0.218504 - Acc: 91.6385 | Val loss:  0.462538 - Acc: 85.2407 | last_lr: 1.00000e-03  bad_ep: 17  cdwn: 0                             \n",
      " 18:27:20 | Ep:  23/ 400 | Trn loss:  0.211129 - Acc: 91.9062 | Val loss:  0.473875 - Acc: 84.8194 | last_lr: 1.00000e-03  bad_ep: 18  cdwn: 0                             \n",
      " 18:29:19 | Ep:  24/ 400 | Trn loss:  0.204606 - Acc: 92.2020 | Val loss:  0.485316 - Acc: 84.5926 | last_lr: 1.00000e-03  bad_ep: 19  cdwn: 0                             \n",
      " 18:31:19 | Ep:  25/ 400 | Trn loss:  0.197676 - Acc: 92.5040 | Val loss:  0.494539 - Acc: 84.4074 | last_lr: 1.00000e-03  bad_ep: 20  cdwn: 0                             \n",
      " 18:33:18 | Ep:  26/ 400 | Trn loss:  0.191793 - Acc: 92.7767 | Val loss:  0.505838 - Acc: 84.0787 | last_lr: 1.00000e-03  bad_ep: 21  cdwn: 0                             \n",
      " 18:35:18 | Ep:  27/ 400 | Trn loss:  0.186636 - Acc: 92.9722 | Val loss:  0.516285 - Acc: 84.1389 | last_lr: 1.00000e-03  bad_ep: 22  cdwn: 0                             \n",
      " 18:37:18 | Ep:  28/ 400 | Trn loss:  0.183178 - Acc: 93.1371 | Val loss:  0.526655 - Acc: 84.0185 | last_lr: 1.00000e-03  bad_ep: 23  cdwn: 0                             \n",
      " 18:39:17 | Ep:  29/ 400 | Trn loss:  0.186252 - Acc: 92.8903 | Val loss:  0.539636 - Acc: 83.6898 | last_lr: 1.00000e-03  bad_ep: 24  cdwn: 0                             \n",
      " 18:41:17 | Ep:  30/ 400 | Trn loss:  0.190408 - Acc: 92.6017 | Val loss:  0.562954 - Acc: 82.5694 | last_lr: 1.00000e-03  bad_ep: 25  cdwn: 0                             \n",
      " 18:43:18 | Ep:  31/ 400 | Trn loss:  0.189977 - Acc: 92.6374 | Val loss:  0.560683 - Acc: 83.2454 | last_lr: 1.00000e-03  bad_ep: 26  cdwn: 0                             \n",
      " 18:45:18 | Ep:  32/ 400 | Trn loss:  0.187874 - Acc: 92.7615 | Val loss:  0.581640 - Acc: 82.7500 | last_lr: 1.00000e-03  bad_ep: 27  cdwn: 0                             \n",
      " 18:47:18 | Ep:  33/ 400 | Trn loss:  0.187206 - Acc: 92.7605 | Val loss:  0.614873 - Acc: 81.0046 | last_lr: 1.00000e-03  bad_ep: 28  cdwn: 0                             \n",
      " 18:49:18 | Ep:  34/ 400 | Trn loss:  0.186189 - Acc: 92.8009 | Val loss:  0.625704 - Acc: 80.1204 | last_lr: 1.00000e-03  bad_ep: 29  cdwn: 0                             \n",
      " 18:51:17 | Ep:  35/ 400 | Trn loss:  0.184914 - Acc: 92.8283 | Val loss:  0.591383 - Acc: 81.6389 | last_lr: 1.00000e-03  bad_ep: 30  cdwn: 0                             \n",
      " 18:53:17 | Ep:  36/ 400 | Trn loss:  0.179290 - Acc: 93.1411 | Val loss:  0.568834 - Acc: 83.3380 | last_lr: 1.00000e-03  bad_ep: 31  cdwn: 0                             \n",
      " 18:55:17 | Ep:  37/ 400 | Trn loss:  0.172192 - Acc: 93.5368 | Val loss:  0.573516 - Acc: 83.9907 | last_lr: 1.00000e-03  bad_ep: 32  cdwn: 0                             \n",
      " 18:57:17 | Ep:  38/ 400 | Trn loss:  0.166786 - Acc: 93.7554 | Val loss:  0.584690 - Acc: 83.9954 | last_lr: 1.00000e-03  bad_ep: 33  cdwn: 0                             \n",
      " 18:59:16 | Ep:  39/ 400 | Trn loss:  0.162188 - Acc: 93.9679 | Val loss:  0.598597 - Acc: 83.9074 | last_lr: 1.00000e-03  bad_ep: 34  cdwn: 0                             \n",
      " 19:01:15 | Ep:  40/ 400 | Trn loss:  0.157574 - Acc: 94.1880 | Val loss:  0.613510 - Acc: 83.6296 | last_lr: 1.00000e-03  bad_ep: 35  cdwn: 0                             \n",
      " 19:03:15 | Ep:  41/ 400 | Trn loss:  0.153100 - Acc: 94.4033 | Val loss:  0.627754 - Acc: 83.3935 | last_lr: 1.00000e-03  bad_ep: 36  cdwn: 0                             \n",
      " 19:05:13 | Ep:  42/ 400 | Trn loss:  0.149037 - Acc: 94.6169 | Val loss:  0.638519 - Acc: 83.1991 | last_lr: 1.00000e-03  bad_ep: 37  cdwn: 0                             \n",
      " 19:07:12 | Ep:  43/ 400 | Trn loss:  0.145246 - Acc: 94.8149 | Val loss:  0.648119 - Acc: 82.9213 | last_lr: 1.00000e-03  bad_ep: 38  cdwn: 0                             \n",
      " 19:09:11 | Ep:  44/ 400 | Trn loss:  0.142042 - Acc: 94.9549 | Val loss:  0.654850 - Acc: 82.8565 | last_lr: 1.00000e-03  bad_ep: 39  cdwn: 0                             \n",
      " 19:11:10 | Ep:  45/ 400 | Trn loss:  0.139296 - Acc: 95.0794 | Val loss:  0.661886 - Acc: 82.7546 | last_lr: 1.00000e-03  bad_ep: 40  cdwn: 0                             \n",
      " 19:13:09 | Ep:  46/ 400 | Trn loss:  0.137833 - Acc: 95.1313 | Val loss:  0.667053 - Acc: 82.6481 | last_lr: 1.00000e-03  bad_ep: 41  cdwn: 0                             \n",
      " 19:15:07 | Ep:  47/ 400 | Trn loss:  0.137858 - Acc: 95.0819 | Val loss:  0.667673 - Acc: 82.6019 | last_lr: 1.00000e-03  bad_ep: 42  cdwn: 0                             \n",
      " 19:17:06 | Ep:  48/ 400 | Trn loss:  0.140785 - Acc: 94.8460 | Val loss:  0.655233 - Acc: 82.8981 | last_lr: 1.00000e-03  bad_ep: 43  cdwn: 0                             \n",
      " 19:19:05 | Ep:  49/ 400 | Trn loss:  0.146397 - Acc: 94.5058 | Val loss:  0.627046 - Acc: 83.1944 | last_lr: 1.00000e-03  bad_ep: 44  cdwn: 0                             \n",
      " 19:21:03 | Ep:  50/ 400 | Trn loss:  0.150986 - Acc: 94.2965 | Val loss:  0.633838 - Acc: 82.5417 | last_lr: 1.00000e-03  bad_ep: 45  cdwn: 0                             \n",
      " 19:23:02 | Ep:  51/ 400 | Trn loss:  0.144088 - Acc: 94.6497 | Val loss:  0.638380 - Acc: 82.4537 | last_lr: 1.00000e-03  bad_ep: 46  cdwn: 0                             \n",
      " 19:25:02 | Ep:  52/ 400 | Trn loss:  0.134167 - Acc: 95.1133 | Val loss:  0.642569 - Acc: 82.4861 | last_lr: 1.00000e-03  bad_ep: 47  cdwn: 0                             \n",
      " 19:27:00 | Ep:  53/ 400 | Trn loss:  0.125866 - Acc: 95.5397 | Val loss:  0.648984 - Acc: 82.4491 | last_lr: 1.00000e-03  bad_ep: 48  cdwn: 0                             \n",
      " 19:28:59 | Ep:  54/ 400 | Trn loss:  0.119290 - Acc: 95.9170 | Val loss:  0.656752 - Acc: 82.3380 | last_lr: 1.00000e-03  bad_ep: 49  cdwn: 0                             \n",
      " 19:30:57 | Ep:  55/ 400 | Trn loss:  0.113474 - Acc: 96.2240 | Val loss:  0.664440 - Acc: 82.3009 | last_lr: 1.00000e-03  bad_ep: 50  cdwn: 0                             \n",
      " 19:32:56 | Ep:  56/ 400 | Trn loss:  0.108276 - Acc: 96.4910 | Val loss:  0.672226 - Acc: 82.2870 | last_lr: 5.00000e-04  bad_ep: 0  cdwn: 10                             \n",
      " 19:34:55 | Ep:  57/ 400 | Trn loss:  0.119193 - Acc: 95.6681 | Val loss:  0.665992 - Acc: 82.6157 | last_lr: 5.00000e-04  bad_ep: 0  cdwn: 9                              \n",
      " 19:36:54 | Ep:  58/ 400 | Trn loss:  0.112226 - Acc: 96.0649 | Val loss:  0.667827 - Acc: 82.5324 | last_lr: 5.00000e-04  bad_ep: 0  cdwn: 8                              \n",
      " 19:38:52 | Ep:  59/ 400 | Trn loss:  0.105983 - Acc: 96.4560 | Val loss:  0.671009 - Acc: 82.5880 | last_lr: 5.00000e-04  bad_ep: 0  cdwn: 7                              \n",
      " 19:40:51 | Ep:  60/ 400 | Trn loss:  0.101234 - Acc: 96.7359 | Val loss:  0.674419 - Acc: 82.6528 | last_lr: 5.00000e-04  bad_ep: 0  cdwn: 6                              \n",
      " 19:42:51 | Ep:  61/ 400 | Trn loss:  0.097173 - Acc: 96.9632 | Val loss:  0.677958 - Acc: 82.5648 | last_lr: 5.00000e-04  bad_ep: 0  cdwn: 5                              \n",
      " 19:44:50 | Ep:  62/ 400 | Trn loss:  0.093426 - Acc: 97.1703 | Val loss:  0.681975 - Acc: 82.5509 | last_lr: 5.00000e-04  bad_ep: 0  cdwn: 4                              \n",
      " 19:46:49 | Ep:  63/ 400 | Trn loss:  0.090014 - Acc: 97.3752 | Val loss:  0.686424 - Acc: 82.5556 | last_lr: 5.00000e-04  bad_ep: 0  cdwn: 3                              \n",
      " 19:48:48 | Ep:  64/ 400 | Trn loss:  0.086837 - Acc: 97.5494 | Val loss:  0.691153 - Acc: 82.5787 | last_lr: 5.00000e-04  bad_ep: 0  cdwn: 2                              \n",
      " 19:50:46 | Ep:  65/ 400 | Trn loss:  0.083799 - Acc: 97.7114 | Val loss:  0.696283 - Acc: 82.5556 | last_lr: 5.00000e-04  bad_ep: 0  cdwn: 1                              \n",
      " 19:52:44 | Ep:  66/ 400 | Trn loss:  0.080869 - Acc: 97.8770 | Val loss:  0.701812 - Acc: 82.5648 | last_lr: 5.00000e-04  bad_ep: 0  cdwn: 0                              \n",
      " 19:54:41 | Ep:  67/ 400 | Trn loss:  0.078094 - Acc: 98.0231 | Val loss:  0.707720 - Acc: 82.5370 | last_lr: 5.00000e-04  bad_ep: 1  cdwn: 0                              \n",
      " 19:56:41 | Ep:  68/ 400 | Trn loss:  0.075416 - Acc: 98.1465 | Val loss:  0.713971 - Acc: 82.5278 | last_lr: 5.00000e-04  bad_ep: 2  cdwn: 0                              \n",
      " 19:58:41 | Ep:  69/ 400 | Trn loss:  0.072850 - Acc: 98.2832 | Val loss:  0.720612 - Acc: 82.5278 | last_lr: 5.00000e-04  bad_ep: 3  cdwn: 0                              \n",
      " 20:00:42 | Ep:  70/ 400 | Trn loss:  0.070359 - Acc: 98.3939 | Val loss:  0.727470 - Acc: 82.5000 | last_lr: 5.00000e-04  bad_ep: 4  cdwn: 0                              \n",
      " 20:02:43 | Ep:  71/ 400 | Trn loss:  0.067958 - Acc: 98.5032 | Val loss:  0.734735 - Acc: 82.4861 | last_lr: 5.00000e-04  bad_ep: 5  cdwn: 0                              \n",
      " 20:04:43 | Ep:  72/ 400 | Trn loss:  0.065586 - Acc: 98.6097 | Val loss:  0.742118 - Acc: 82.5000 | last_lr: 5.00000e-04  bad_ep: 6  cdwn: 0                              \n",
      " 20:06:44 | Ep:  73/ 400 | Trn loss:  0.063322 - Acc: 98.6977 | Val loss:  0.749845 - Acc: 82.4444 | last_lr: 5.00000e-04  bad_ep: 7  cdwn: 0                              \n",
      " 20:08:44 | Ep:  74/ 400 | Trn loss:  0.061111 - Acc: 98.7803 | Val loss:  0.757601 - Acc: 82.4306 | last_lr: 5.00000e-04  bad_ep: 8  cdwn: 0                              \n",
      " 20:10:42 | Ep:  75/ 400 | Trn loss:  0.058959 - Acc: 98.8626 | Val loss:  0.765740 - Acc: 82.4028 | last_lr: 5.00000e-04  bad_ep: 9  cdwn: 0                              \n",
      " 20:12:40 | Ep:  76/ 400 | Trn loss:  0.056866 - Acc: 98.9470 | Val loss:  0.774030 - Acc: 82.3704 | last_lr: 5.00000e-04  bad_ep: 10  cdwn: 0                             \n",
      " 20:14:38 | Ep:  77/ 400 | Trn loss:  0.054823 - Acc: 99.0227 | Val loss:  0.782488 - Acc: 82.3194 | last_lr: 5.00000e-04  bad_ep: 11  cdwn: 0                             \n",
      " 20:16:35 | Ep:  78/ 400 | Trn loss:  0.052830 - Acc: 99.0988 | Val loss:  0.791131 - Acc: 82.2870 | last_lr: 5.00000e-04  bad_ep: 12  cdwn: 0                             \n",
      " 20:18:36 | Ep:  79/ 400 | Trn loss:  0.050912 - Acc: 99.1685 | Val loss:  0.799900 - Acc: 82.2731 | last_lr: 5.00000e-04  bad_ep: 13  cdwn: 0                             \n",
      " 20:20:36 | Ep:  80/ 400 | Trn loss:  0.049025 - Acc: 99.2309 | Val loss:  0.808781 - Acc: 82.2407 | last_lr: 5.00000e-04  bad_ep: 14  cdwn: 0                             \n",
      " 20:22:35 | Ep:  81/ 400 | Trn loss:  0.047222 - Acc: 99.2900 | Val loss:  0.817937 - Acc: 82.2037 | last_lr: 5.00000e-04  bad_ep: 15  cdwn: 0                             \n",
      " 20:24:35 | Ep:  82/ 400 | Trn loss:  0.045438 - Acc: 99.3550 | Val loss:  0.827122 - Acc: 82.1713 | last_lr: 5.00000e-04  bad_ep: 16  cdwn: 0                             \n",
      " 20:26:36 | Ep:  83/ 400 | Trn loss:  0.043715 - Acc: 99.4030 | Val loss:  0.836417 - Acc: 82.1528 | last_lr: 5.00000e-04  bad_ep: 17  cdwn: 0                             \n",
      " 20:28:36 | Ep:  84/ 400 | Trn loss:  0.042038 - Acc: 99.4614 | Val loss:  0.845865 - Acc: 82.1204 | last_lr: 5.00000e-04  bad_ep: 18  cdwn: 0                             \n",
      " 20:30:35 | Ep:  85/ 400 | Trn loss:  0.040404 - Acc: 99.5076 | Val loss:  0.855477 - Acc: 82.1111 | last_lr: 5.00000e-04  bad_ep: 19  cdwn: 0                             \n",
      " 20:32:33 | Ep:  86/ 400 | Trn loss:  0.038876 - Acc: 99.5473 | Val loss:  0.865076 - Acc: 82.0509 | last_lr: 5.00000e-04  bad_ep: 20  cdwn: 0                             \n",
      " 20:34:31 | Ep:  87/ 400 | Trn loss:  0.037359 - Acc: 99.5797 | Val loss:  0.874972 - Acc: 82.0278 | last_lr: 5.00000e-04  bad_ep: 21  cdwn: 0                             \n",
      " 20:36:29 | Ep:  88/ 400 | Trn loss:  0.035948 - Acc: 99.6108 | Val loss:  0.884867 - Acc: 81.9954 | last_lr: 5.00000e-04  bad_ep: 22  cdwn: 0                             \n",
      " 20:38:28 | Ep:  89/ 400 | Trn loss:  0.034520 - Acc: 99.6450 | Val loss:  0.894714 - Acc: 81.9537 | last_lr: 5.00000e-04  bad_ep: 23  cdwn: 0                             \n",
      " 20:40:28 | Ep:  90/ 400 | Trn loss:  0.033176 - Acc: 99.6750 | Val loss:  0.905005 - Acc: 81.9491 | last_lr: 5.00000e-04  bad_ep: 24  cdwn: 0                             \n",
      " 20:42:28 | Ep:  91/ 400 | Trn loss:  0.031836 - Acc: 99.7024 | Val loss:  0.915125 - Acc: 81.9769 | last_lr: 5.00000e-04  bad_ep: 25  cdwn: 0                             \n",
      " 20:44:27 | Ep:  92/ 400 | Trn loss:  0.030571 - Acc: 99.7233 | Val loss:  0.925980 - Acc: 81.9120 | last_lr: 5.00000e-04  bad_ep: 26  cdwn: 0                             \n",
      " 20:46:26 | Ep:  93/ 400 | Trn loss:  0.029418 - Acc: 99.7489 | Val loss:  0.936558 - Acc: 81.8565 | last_lr: 5.00000e-04  bad_ep: 27  cdwn: 0                             \n",
      " 20:48:25 | Ep:  94/ 400 | Trn loss:  0.028325 - Acc: 99.7673 | Val loss:  0.946333 - Acc: 81.8657 | last_lr: 5.00000e-04  bad_ep: 28  cdwn: 0                             \n",
      " 20:50:25 | Ep:  95/ 400 | Trn loss:  0.027370 - Acc: 99.7864 | Val loss:  0.955920 - Acc: 81.8056 | last_lr: 5.00000e-04  bad_ep: 29  cdwn: 0                             \n",
      " 20:52:23 | Ep:  96/ 400 | Trn loss:  0.026568 - Acc: 99.7965 | Val loss:  0.966006 - Acc: 81.8472 | last_lr: 5.00000e-04  bad_ep: 30  cdwn: 0                             \n",
      " 20:54:20 | Ep:  97/ 400 | Trn loss:  0.026225 - Acc: 99.7944 | Val loss:  0.978476 - Acc: 81.8657 | last_lr: 5.00000e-04  bad_ep: 31  cdwn: 0                             \n",
      " 20:56:16 | Ep:  98/ 400 | Trn loss:  0.027000 - Acc: 99.7489 | Val loss:  0.997811 - Acc: 81.9722 | last_lr: 5.00000e-04  bad_ep: 32  cdwn: 0                             \n",
      " 20:58:14 | Ep:  99/ 400 | Trn loss:  0.030486 - Acc: 99.5588 | Val loss:  1.045532 - Acc: 81.4722 | last_lr: 5.00000e-04  bad_ep: 33  cdwn: 0                             \n",
      "                                                                                                                                                                           "
     ]
    },
    {
     "name": "stderr",
     "output_type": "stream",
     "text": [
      "2024-10-16 21:00:13,491 - utils.utils_cellpainting - INFO: -  Model exported to NN_1482profiles_cpb600_20240916_1803_ep_100.pt - epoch: 100\n"
     ]
    },
    {
     "name": "stdout",
     "output_type": "stream",
     "text": [
      " 21:00:13 | Ep: 100/ 400 | Trn loss:  0.034851 - Acc: 99.2897 | Val loss:  1.008564 - Acc: 82.0370 | last_lr: 5.00000e-04  bad_ep: 34  cdwn: 0 \n",
      " 21:02:11 | Ep: 101/ 400 | Trn loss:  0.040158 - Acc: 98.9939 | Val loss:  1.022726 - Acc: 81.7963 | last_lr: 5.00000e-04  bad_ep: 35  cdwn: 0                             \n",
      " 21:04:10 | Ep: 102/ 400 | Trn loss:  0.037964 - Acc: 99.0981 | Val loss:  1.062303 - Acc: 81.3889 | last_lr: 5.00000e-04  bad_ep: 36  cdwn: 0                             \n",
      " 21:06:08 | Ep: 103/ 400 | Trn loss:  0.036127 - Acc: 99.1944 | Val loss:  1.035695 - Acc: 81.0278 | last_lr: 5.00000e-04  bad_ep: 37  cdwn: 0                             \n",
      " 21:08:06 | Ep: 104/ 400 | Trn loss:  0.037322 - Acc: 99.1392 | Val loss:  1.029338 - Acc: 81.0185 | last_lr: 5.00000e-04  bad_ep: 38  cdwn: 0                             \n",
      " 21:10:02 | Ep: 105/ 400 | Trn loss:  0.035709 - Acc: 99.2038 | Val loss:  1.043734 - Acc: 80.7500 | last_lr: 5.00000e-04  bad_ep: 39  cdwn: 0                             \n",
      " 21:11:58 | Ep: 106/ 400 | Trn loss:  0.036371 - Acc: 99.1930 | Val loss:  1.057112 - Acc: 80.5509 | last_lr: 5.00000e-04  bad_ep: 40  cdwn: 0                             \n",
      " 21:13:56 | Ep: 107/ 400 | Trn loss:  0.039483 - Acc: 99.0577 | Val loss:  1.063712 - Acc: 80.5417 | last_lr: 5.00000e-04  bad_ep: 41  cdwn: 0                             \n",
      " 21:15:54 | Ep: 108/ 400 | Trn loss:  0.044846 - Acc: 98.7305 | Val loss:  1.087119 - Acc: 80.0231 | last_lr: 5.00000e-04  bad_ep: 42  cdwn: 0                             \n",
      " 21:17:52 | Ep: 109/ 400 | Trn loss:  0.051025 - Acc: 98.3579 | Val loss:  1.081508 - Acc: 80.4907 | last_lr: 5.00000e-04  bad_ep: 43  cdwn: 0                             \n",
      " 21:19:50 | Ep: 110/ 400 | Trn loss:  0.056744 - Acc: 98.0877 | Val loss:  1.064125 - Acc: 81.7361 | last_lr: 5.00000e-04  bad_ep: 44  cdwn: 0                             \n",
      " 21:21:48 | Ep: 111/ 400 | Trn loss:  0.059018 - Acc: 97.9863 | Val loss:  1.038486 - Acc: 81.3704 | last_lr: 5.00000e-04  bad_ep: 45  cdwn: 0                             \n",
      " 21:23:45 | Ep: 112/ 400 | Trn loss:  0.056387 - Acc: 98.1104 | Val loss:  1.038238 - Acc: 81.3750 | last_lr: 5.00000e-04  bad_ep: 46  cdwn: 0                             \n",
      " 21:25:43 | Ep: 113/ 400 | Trn loss:  0.055085 - Acc: 98.1338 | Val loss:  1.038077 - Acc: 81.9907 | last_lr: 5.00000e-04  bad_ep: 47  cdwn: 0                             \n",
      " 21:27:38 | Ep: 114/ 400 | Trn loss:  0.054868 - Acc: 98.1544 | Val loss:  1.053329 - Acc: 82.0000 | last_lr: 5.00000e-04  bad_ep: 48  cdwn: 0                             \n",
      " 21:29:34 | Ep: 115/ 400 | Trn loss:  0.054242 - Acc: 98.1934 | Val loss:  1.065159 - Acc: 81.6759 | last_lr: 5.00000e-04  bad_ep: 49  cdwn: 0                             \n",
      " 21:31:32 | Ep: 116/ 400 | Trn loss:  0.051157 - Acc: 98.3553 | Val loss:  1.072766 - Acc: 81.2593 | last_lr: 5.00000e-04  bad_ep: 50  cdwn: 0                             \n",
      " 21:33:30 | Ep: 117/ 400 | Trn loss:  0.046596 - Acc: 98.5869 | Val loss:  1.075393 - Acc: 80.9491 | last_lr: 2.50000e-04  bad_ep: 0  cdwn: 10                             \n",
      " 21:35:28 | Ep: 118/ 400 | Trn loss:  0.040331 - Acc: 98.8139 | Val loss:  1.052717 - Acc: 81.6852 | last_lr: 2.50000e-04  bad_ep: 0  cdwn: 9                              \n",
      " 21:37:26 | Ep: 119/ 400 | Trn loss:  0.031673 - Acc: 99.2803 | Val loss:  1.049303 - Acc: 81.6250 | last_lr: 2.50000e-04  bad_ep: 0  cdwn: 8                              \n",
      " 21:39:24 | Ep: 120/ 400 | Trn loss:  0.028291 - Acc: 99.4942 | Val loss:  1.049219 - Acc: 81.6157 | last_lr: 2.50000e-04  bad_ep: 0  cdwn: 7                              \n",
      " 21:41:20 | Ep: 121/ 400 | Trn loss:  0.026220 - Acc: 99.6158 | Val loss:  1.049739 - Acc: 81.5602 | last_lr: 2.50000e-04  bad_ep: 0  cdwn: 6                              \n",
      " 21:43:16 | Ep: 122/ 400 | Trn loss:  0.024689 - Acc: 99.6905 | Val loss:  1.050837 - Acc: 81.5463 | last_lr: 2.50000e-04  bad_ep: 0  cdwn: 5                              \n",
      " 21:45:12 | Ep: 123/ 400 | Trn loss:  0.023445 - Acc: 99.7439 | Val loss:  1.052080 - Acc: 81.5556 | last_lr: 2.50000e-04  bad_ep: 0  cdwn: 4                              \n",
      " 21:47:08 | Ep: 124/ 400 | Trn loss:  0.022420 - Acc: 99.7839 | Val loss:  1.053258 - Acc: 81.5880 | last_lr: 2.50000e-04  bad_ep: 0  cdwn: 3                              \n",
      " 21:49:06 | Ep: 125/ 400 | Trn loss:  0.021517 - Acc: 99.8229 | Val loss:  1.054551 - Acc: 81.6435 | last_lr: 2.50000e-04  bad_ep: 0  cdwn: 2                              \n",
      " 21:51:04 | Ep: 126/ 400 | Trn loss:  0.020733 - Acc: 99.8463 | Val loss:  1.055949 - Acc: 81.6389 | last_lr: 2.50000e-04  bad_ep: 0  cdwn: 1                              \n",
      " 21:53:02 | Ep: 127/ 400 | Trn loss:  0.020034 - Acc: 99.8582 | Val loss:  1.057496 - Acc: 81.6528 | last_lr: 2.50000e-04  bad_ep: 0  cdwn: 0                              \n",
      " 21:55:00 | Ep: 128/ 400 | Trn loss:  0.019406 - Acc: 99.8709 | Val loss:  1.059076 - Acc: 81.6574 | last_lr: 2.50000e-04  bad_ep: 1  cdwn: 0                              \n",
      " 21:56:57 | Ep: 129/ 400 | Trn loss:  0.018829 - Acc: 99.8828 | Val loss:  1.060821 - Acc: 81.6852 | last_lr: 2.50000e-04  bad_ep: 2  cdwn: 0                              \n",
      " 21:58:54 | Ep: 130/ 400 | Trn loss:  0.018286 - Acc: 99.8936 | Val loss:  1.062643 - Acc: 81.7176 | last_lr: 2.50000e-04  bad_ep: 3  cdwn: 0                              \n",
      " 22:00:50 | Ep: 131/ 400 | Trn loss:  0.017781 - Acc: 99.9022 | Val loss:  1.064597 - Acc: 81.7130 | last_lr: 2.50000e-04  bad_ep: 4  cdwn: 0                              \n",
      " 22:02:46 | Ep: 132/ 400 | Trn loss:  0.017299 - Acc: 99.9116 | Val loss:  1.066662 - Acc: 81.6713 | last_lr: 2.50000e-04  bad_ep: 5  cdwn: 0                              \n",
      " 22:04:44 | Ep: 133/ 400 | Trn loss:  0.016839 - Acc: 99.9152 | Val loss:  1.068862 - Acc: 81.6667 | last_lr: 2.50000e-04  bad_ep: 6  cdwn: 0                              \n",
      " 22:06:42 | Ep: 134/ 400 | Trn loss:  0.016397 - Acc: 99.9196 | Val loss:  1.071196 - Acc: 81.6574 | last_lr: 2.50000e-04  bad_ep: 7  cdwn: 0                              \n",
      " 22:08:40 | Ep: 135/ 400 | Trn loss:  0.015974 - Acc: 99.9264 | Val loss:  1.073587 - Acc: 81.6620 | last_lr: 2.50000e-04  bad_ep: 8  cdwn: 0                              \n",
      " 22:10:38 | Ep: 136/ 400 | Trn loss:  0.015557 - Acc: 99.9329 | Val loss:  1.076097 - Acc: 81.6620 | last_lr: 2.50000e-04  bad_ep: 9  cdwn: 0                              \n",
      " 22:12:36 | Ep: 137/ 400 | Trn loss:  0.015144 - Acc: 99.9383 | Val loss:  1.078765 - Acc: 81.6250 | last_lr: 2.50000e-04  bad_ep: 10  cdwn: 0                             \n",
      " 22:14:32 | Ep: 138/ 400 | Trn loss:  0.014750 - Acc: 99.9430 | Val loss:  1.081744 - Acc: 81.6111 | last_lr: 2.50000e-04  bad_ep: 11  cdwn: 0                             \n",
      " 22:16:29 | Ep: 139/ 400 | Trn loss:  0.014354 - Acc: 99.9477 | Val loss:  1.084659 - Acc: 81.5694 | last_lr: 2.50000e-04  bad_ep: 12  cdwn: 0                             \n",
      " 22:18:25 | Ep: 140/ 400 | Trn loss:  0.013983 - Acc: 99.9506 | Val loss:  1.087724 - Acc: 81.5602 | last_lr: 2.50000e-04  bad_ep: 13  cdwn: 0                             \n",
      " 22:20:21 | Ep: 141/ 400 | Trn loss:  0.013618 - Acc: 99.9538 | Val loss:  1.090920 - Acc: 81.5880 | last_lr: 2.50000e-04  bad_ep: 14  cdwn: 0                             \n",
      " 22:22:18 | Ep: 142/ 400 | Trn loss:  0.013255 - Acc: 99.9563 | Val loss:  1.094346 - Acc: 81.6065 | last_lr: 2.50000e-04  bad_ep: 15  cdwn: 0                             \n",
      " 22:24:16 | Ep: 143/ 400 | Trn loss:  0.012917 - Acc: 99.9600 | Val loss:  1.097962 - Acc: 81.6343 | last_lr: 2.50000e-04  bad_ep: 16  cdwn: 0                             \n",
      " 22:26:14 | Ep: 144/ 400 | Trn loss:  0.012561 - Acc: 99.9618 | Val loss:  1.101695 - Acc: 81.6389 | last_lr: 2.50000e-04  bad_ep: 17  cdwn: 0                             \n",
      " 22:28:12 | Ep: 145/ 400 | Trn loss:  0.012224 - Acc: 99.9643 | Val loss:  1.105493 - Acc: 81.6296 | last_lr: 2.50000e-04  bad_ep: 18  cdwn: 0                             \n",
      " 22:30:09 | Ep: 146/ 400 | Trn loss:  0.011901 - Acc: 99.9665 | Val loss:  1.109471 - Acc: 81.6204 | last_lr: 2.50000e-04  bad_ep: 19  cdwn: 0                             \n",
      " 22:32:06 | Ep: 147/ 400 | Trn loss:  0.011569 - Acc: 99.9683 | Val loss:  1.113593 - Acc: 81.6065 | last_lr: 2.50000e-04  bad_ep: 20  cdwn: 0                             \n",
      " 22:34:02 | Ep: 148/ 400 | Trn loss:  0.011254 - Acc: 99.9701 | Val loss:  1.117792 - Acc: 81.6111 | last_lr: 2.50000e-04  bad_ep: 21  cdwn: 0                             \n",
      " 22:35:58 | Ep: 149/ 400 | Trn loss:  0.010947 - Acc: 99.9719 | Val loss:  1.122148 - Acc: 81.6157 | last_lr: 2.50000e-04  bad_ep: 22  cdwn: 0                             \n",
      " 22:37:53 | Ep: 150/ 400 | Trn loss:  0.010647 - Acc: 99.9744 | Val loss:  1.126751 - Acc: 81.5880 | last_lr: 2.50000e-04  bad_ep: 23  cdwn: 0                             \n",
      " 22:39:51 | Ep: 151/ 400 | Trn loss:  0.010349 - Acc: 99.9762 | Val loss:  1.131154 - Acc: 81.5880 | last_lr: 2.50000e-04  bad_ep: 24  cdwn: 0                             \n",
      " 22:41:48 | Ep: 152/ 400 | Trn loss:  0.010059 - Acc: 99.9780 | Val loss:  1.135994 - Acc: 81.5926 | last_lr: 2.50000e-04  bad_ep: 25  cdwn: 0                             \n",
      " 22:43:46 | Ep: 153/ 400 | Trn loss:  0.009780 - Acc: 99.9794 | Val loss:  1.140841 - Acc: 81.5833 | last_lr: 2.50000e-04  bad_ep: 26  cdwn: 0                             \n",
      " 22:45:44 | Ep: 154/ 400 | Trn loss:  0.009500 - Acc: 99.9805 | Val loss:  1.145756 - Acc: 81.5787 | last_lr: 2.50000e-04  bad_ep: 27  cdwn: 0                             \n",
      " 22:47:40 | Ep: 155/ 400 | Trn loss:  0.009231 - Acc: 99.9830 | Val loss:  1.150853 - Acc: 81.5787 | last_lr: 2.50000e-04  bad_ep: 28  cdwn: 0                             \n",
      " 22:49:37 | Ep: 156/ 400 | Trn loss:  0.008980 - Acc: 99.9834 | Val loss:  1.156028 - Acc: 81.6111 | last_lr: 2.50000e-04  bad_ep: 29  cdwn: 0                             \n",
      " 22:51:33 | Ep: 157/ 400 | Trn loss:  0.008709 - Acc: 99.9867 | Val loss:  1.161227 - Acc: 81.5926 | last_lr: 2.50000e-04  bad_ep: 30  cdwn: 0                             \n",
      " 22:53:28 | Ep: 158/ 400 | Trn loss:  0.008455 - Acc: 99.9867 | Val loss:  1.166644 - Acc: 81.5880 | last_lr: 2.50000e-04  bad_ep: 31  cdwn: 0                             \n",
      " 22:55:26 | Ep: 159/ 400 | Trn loss:  0.008210 - Acc: 99.9874 | Val loss:  1.172082 - Acc: 81.5787 | last_lr: 2.50000e-04  bad_ep: 32  cdwn: 0                             \n",
      " 22:57:24 | Ep: 160/ 400 | Trn loss:  0.007970 - Acc: 99.9885 | Val loss:  1.177602 - Acc: 81.5741 | last_lr: 2.50000e-04  bad_ep: 33  cdwn: 0                             \n",
      " 22:59:22 | Ep: 161/ 400 | Trn loss:  0.007736 - Acc: 99.9888 | Val loss:  1.183232 - Acc: 81.5833 | last_lr: 2.50000e-04  bad_ep: 34  cdwn: 0                             \n",
      " 23:01:20 | Ep: 162/ 400 | Trn loss:  0.007507 - Acc: 99.9892 | Val loss:  1.188989 - Acc: 81.6065 | last_lr: 2.50000e-04  bad_ep: 35  cdwn: 0                             \n",
      " 23:03:18 | Ep: 163/ 400 | Trn loss:  0.007285 - Acc: 99.9895 | Val loss:  1.194831 - Acc: 81.6019 | last_lr: 2.50000e-04  bad_ep: 36  cdwn: 0                             \n",
      " 23:05:14 | Ep: 164/ 400 | Trn loss:  0.007066 - Acc: 99.9895 | Val loss:  1.200784 - Acc: 81.6157 | last_lr: 2.50000e-04  bad_ep: 37  cdwn: 0                             \n",
      " 23:07:10 | Ep: 165/ 400 | Trn loss:  0.006855 - Acc: 99.9910 | Val loss:  1.206782 - Acc: 81.6065 | last_lr: 2.50000e-04  bad_ep: 38  cdwn: 0                             \n",
      " 23:09:06 | Ep: 166/ 400 | Trn loss:  0.006648 - Acc: 99.9921 | Val loss:  1.212675 - Acc: 81.6204 | last_lr: 2.50000e-04  bad_ep: 39  cdwn: 0                             \n",
      " 23:11:01 | Ep: 167/ 400 | Trn loss:  0.006448 - Acc: 99.9931 | Val loss:  1.218775 - Acc: 81.6204 | last_lr: 2.50000e-04  bad_ep: 40  cdwn: 0                             \n",
      " 23:13:00 | Ep: 168/ 400 | Trn loss:  0.006254 - Acc: 99.9935 | Val loss:  1.224851 - Acc: 81.6157 | last_lr: 2.50000e-04  bad_ep: 41  cdwn: 0                             \n",
      " 23:14:57 | Ep: 169/ 400 | Trn loss:  0.006065 - Acc: 99.9942 | Val loss:  1.230976 - Acc: 81.6111 | last_lr: 2.50000e-04  bad_ep: 42  cdwn: 0                             \n",
      " 23:16:55 | Ep: 170/ 400 | Trn loss:  0.005883 - Acc: 99.9949 | Val loss:  1.237139 - Acc: 81.6250 | last_lr: 2.50000e-04  bad_ep: 43  cdwn: 0                             \n",
      " 23:18:53 | Ep: 171/ 400 | Trn loss:  0.005706 - Acc: 99.9957 | Val loss:  1.243337 - Acc: 81.6343 | last_lr: 2.50000e-04  bad_ep: 44  cdwn: 0                             \n",
      " 23:20:51 | Ep: 172/ 400 | Trn loss:  0.005534 - Acc: 99.9957 | Val loss:  1.249570 - Acc: 81.6667 | last_lr: 2.50000e-04  bad_ep: 45  cdwn: 0                             \n",
      " 23:22:47 | Ep: 173/ 400 | Trn loss:  0.005369 - Acc: 99.9960 | Val loss:  1.255834 - Acc: 81.6759 | last_lr: 2.50000e-04  bad_ep: 46  cdwn: 0                             \n",
      " 23:24:43 | Ep: 174/ 400 | Trn loss:  0.005207 - Acc: 99.9960 | Val loss:  1.262133 - Acc: 81.6574 | last_lr: 2.50000e-04  bad_ep: 47  cdwn: 0                             \n",
      " 23:26:38 | Ep: 175/ 400 | Trn loss:  0.005051 - Acc: 99.9964 | Val loss:  1.268471 - Acc: 81.6481 | last_lr: 2.50000e-04  bad_ep: 48  cdwn: 0                             \n",
      " 23:28:34 | Ep: 176/ 400 | Trn loss:  0.004901 - Acc: 99.9964 | Val loss:  1.274881 - Acc: 81.6250 | last_lr: 2.50000e-04  bad_ep: 49  cdwn: 0                             \n",
      " 23:30:32 | Ep: 177/ 400 | Trn loss:  0.004756 - Acc: 99.9968 | Val loss:  1.281408 - Acc: 81.6343 | last_lr: 2.50000e-04  bad_ep: 50  cdwn: 0                             \n",
      " 23:32:29 | Ep: 178/ 400 | Trn loss:  0.004617 - Acc: 99.9971 | Val loss:  1.288081 - Acc: 81.5880 | last_lr: 1.25000e-04  bad_ep: 0  cdwn: 10                             \n",
      " 23:34:27 | Ep: 179/ 400 | Trn loss:  0.005818 - Acc: 99.9885 | Val loss:  1.308343 - Acc: 81.2546 | last_lr: 1.25000e-04  bad_ep: 0  cdwn: 9                              \n",
      " 23:36:24 | Ep: 180/ 400 | Trn loss:  0.007360 - Acc: 99.9679 | Val loss:  1.301783 - Acc: 81.6157 | last_lr: 1.25000e-04  bad_ep: 0  cdwn: 8                              \n",
      " 23:38:20 | Ep: 181/ 400 | Trn loss:  0.009930 - Acc: 99.9055 | Val loss:  1.302985 - Acc: 81.8750 | last_lr: 1.25000e-04  bad_ep: 0  cdwn: 7                              \n",
      " 23:40:17 | Ep: 182/ 400 | Trn loss:  0.010846 - Acc: 99.8550 | Val loss:  1.319817 - Acc: 81.3009 | last_lr: 1.25000e-04  bad_ep: 0  cdwn: 6                              \n",
      " 23:42:13 | Ep: 183/ 400 | Trn loss:  0.010142 - Acc: 99.8813 | Val loss:  1.307867 - Acc: 81.3472 | last_lr: 1.25000e-04  bad_ep: 0  cdwn: 5                              \n",
      " 23:44:08 | Ep: 184/ 400 | Trn loss:  0.007962 - Acc: 99.9567 | Val loss:  1.310329 - Acc: 81.1620 | last_lr: 1.25000e-04  bad_ep: 0  cdwn: 4                              \n",
      " 23:46:06 | Ep: 185/ 400 | Trn loss:  0.006841 - Acc: 99.9784 | Val loss:  1.313516 - Acc: 81.1574 | last_lr: 1.25000e-04  bad_ep: 0  cdwn: 3                              \n",
      " 23:48:04 | Ep: 186/ 400 | Trn loss:  0.006190 - Acc: 99.9870 | Val loss:  1.315775 - Acc: 81.1343 | last_lr: 1.25000e-04  bad_ep: 0  cdwn: 2                              \n",
      " 23:50:02 | Ep: 187/ 400 | Trn loss:  0.005768 - Acc: 99.9921 | Val loss:  1.315414 - Acc: 81.2176 | last_lr: 1.25000e-04  bad_ep: 0  cdwn: 1                              \n",
      " 23:51:59 | Ep: 188/ 400 | Trn loss:  0.005466 - Acc: 99.9942 | Val loss:  1.315042 - Acc: 81.2639 | last_lr: 1.25000e-04  bad_ep: 0  cdwn: 0                              \n",
      " 23:53:57 | Ep: 189/ 400 | Trn loss:  0.005231 - Acc: 99.9949 | Val loss:  1.315101 - Acc: 81.3426 | last_lr: 1.25000e-04  bad_ep: 1  cdwn: 0                              \n",
      " 23:55:54 | Ep: 190/ 400 | Trn loss:  0.005042 - Acc: 99.9957 | Val loss:  1.315637 - Acc: 81.3565 | last_lr: 1.25000e-04  bad_ep: 2  cdwn: 0                              \n",
      " 23:57:51 | Ep: 191/ 400 | Trn loss:  0.004886 - Acc: 99.9968 | Val loss:  1.316415 - Acc: 81.3657 | last_lr: 1.25000e-04  bad_ep: 3  cdwn: 0                              \n",
      " 23:59:46 | Ep: 192/ 400 | Trn loss:  0.004753 - Acc: 99.9968 | Val loss:  1.317363 - Acc: 81.3565 | last_lr: 1.25000e-04  bad_ep: 4  cdwn: 0                              \n",
      " 00:01:43 | Ep: 193/ 400 | Trn loss:  0.004637 - Acc: 99.9971 | Val loss:  1.318452 - Acc: 81.3704 | last_lr: 1.25000e-04  bad_ep: 5  cdwn: 0                              \n",
      " 00:03:40 | Ep: 194/ 400 | Trn loss:  0.004532 - Acc: 99.9971 | Val loss:  1.319656 - Acc: 81.3796 | last_lr: 1.25000e-04  bad_ep: 6  cdwn: 0                              \n",
      " 00:05:38 | Ep: 195/ 400 | Trn loss:  0.004437 - Acc: 99.9975 | Val loss:  1.320962 - Acc: 81.3889 | last_lr: 1.25000e-04  bad_ep: 7  cdwn: 0                              \n",
      " 00:07:36 | Ep: 196/ 400 | Trn loss:  0.004349 - Acc: 99.9975 | Val loss:  1.322354 - Acc: 81.3981 | last_lr: 1.25000e-04  bad_ep: 8  cdwn: 0                              \n",
      " 00:09:34 | Ep: 197/ 400 | Trn loss:  0.004265 - Acc: 99.9975 | Val loss:  1.323835 - Acc: 81.3981 | last_lr: 1.25000e-04  bad_ep: 9  cdwn: 0                              \n",
      " 00:11:32 | Ep: 198/ 400 | Trn loss:  0.004186 - Acc: 99.9975 | Val loss:  1.325408 - Acc: 81.4306 | last_lr: 1.25000e-04  bad_ep: 10  cdwn: 0                             \n",
      " 00:13:28 | Ep: 199/ 400 | Trn loss:  0.004111 - Acc: 99.9978 | Val loss:  1.327069 - Acc: 81.4537 | last_lr: 1.25000e-04  bad_ep: 11  cdwn: 0                             \n",
      "                                                                                                                                                                           "
     ]
    },
    {
     "name": "stderr",
     "output_type": "stream",
     "text": [
      "2024-10-17 00:15:23,605 - utils.utils_cellpainting - INFO: -  Model exported to NN_1482profiles_cpb600_20240916_1803_ep_200.pt - epoch: 200\n"
     ]
    },
    {
     "name": "stdout",
     "output_type": "stream",
     "text": [
      " 00:15:23 | Ep: 200/ 400 | Trn loss:  0.004038 - Acc: 99.9978 | Val loss:  1.328818 - Acc: 81.4769 | last_lr: 1.25000e-04  bad_ep: 12  cdwn: 0 \n",
      " 00:17:19 | Ep: 201/ 400 | Trn loss:  0.003966 - Acc: 99.9978 | Val loss:  1.330642 - Acc: 81.4907 | last_lr: 1.25000e-04  bad_ep: 13  cdwn: 0                             \n",
      " 00:19:16 | Ep: 202/ 400 | Trn loss:  0.003896 - Acc: 99.9978 | Val loss:  1.332528 - Acc: 81.4861 | last_lr: 1.25000e-04  bad_ep: 14  cdwn: 0                             \n",
      " 00:21:14 | Ep: 203/ 400 | Trn loss:  0.003827 - Acc: 99.9978 | Val loss:  1.334495 - Acc: 81.4815 | last_lr: 1.25000e-04  bad_ep: 15  cdwn: 0                             \n",
      " 00:23:12 | Ep: 204/ 400 | Trn loss:  0.003760 - Acc: 99.9978 | Val loss:  1.336535 - Acc: 81.4491 | last_lr: 1.25000e-04  bad_ep: 16  cdwn: 0                             \n",
      " 00:25:09 | Ep: 205/ 400 | Trn loss:  0.003695 - Acc: 99.9978 | Val loss:  1.338647 - Acc: 81.4491 | last_lr: 1.25000e-04  bad_ep: 17  cdwn: 0                             \n",
      " 00:27:07 | Ep: 206/ 400 | Trn loss:  0.003630 - Acc: 99.9982 | Val loss:  1.340827 - Acc: 81.4444 | last_lr: 1.25000e-04  bad_ep: 18  cdwn: 0                             \n",
      " 00:29:04 | Ep: 207/ 400 | Trn loss:  0.003566 - Acc: 99.9982 | Val loss:  1.343075 - Acc: 81.4630 | last_lr: 1.25000e-04  bad_ep: 19  cdwn: 0                             \n",
      " 00:31:01 | Ep: 208/ 400 | Trn loss:  0.003504 - Acc: 99.9982 | Val loss:  1.345392 - Acc: 81.4630 | last_lr: 1.25000e-04  bad_ep: 20  cdwn: 0                             \n",
      " 00:32:56 | Ep: 209/ 400 | Trn loss:  0.003442 - Acc: 99.9982 | Val loss:  1.347776 - Acc: 81.4630 | last_lr: 1.25000e-04  bad_ep: 21  cdwn: 0                             \n",
      " 00:34:52 | Ep: 210/ 400 | Trn loss:  0.003381 - Acc: 99.9982 | Val loss:  1.350228 - Acc: 81.4769 | last_lr: 1.25000e-04  bad_ep: 22  cdwn: 0                             \n",
      " 00:36:50 | Ep: 211/ 400 | Trn loss:  0.003321 - Acc: 99.9982 | Val loss:  1.352743 - Acc: 81.5139 | last_lr: 1.25000e-04  bad_ep: 23  cdwn: 0                             \n",
      " 00:38:48 | Ep: 212/ 400 | Trn loss:  0.003262 - Acc: 99.9982 | Val loss:  1.355317 - Acc: 81.4815 | last_lr: 1.25000e-04  bad_ep: 24  cdwn: 0                             \n",
      " 00:40:47 | Ep: 213/ 400 | Trn loss:  0.003203 - Acc: 99.9982 | Val loss:  1.357955 - Acc: 81.4630 | last_lr: 1.25000e-04  bad_ep: 25  cdwn: 0                             \n",
      " 00:42:45 | Ep: 214/ 400 | Trn loss:  0.003146 - Acc: 99.9982 | Val loss:  1.360660 - Acc: 81.4537 | last_lr: 1.25000e-04  bad_ep: 26  cdwn: 0                             \n",
      " 00:44:43 | Ep: 215/ 400 | Trn loss:  0.003096 - Acc: 99.9982 | Val loss:  1.363740 - Acc: 81.4352 | last_lr: 1.25000e-04  bad_ep: 27  cdwn: 0                             \n",
      " 00:46:39 | Ep: 216/ 400 | Trn loss:  0.003032 - Acc: 99.9986 | Val loss:  1.366260 - Acc: 81.4398 | last_lr: 1.25000e-04  bad_ep: 28  cdwn: 0                             \n",
      " 00:48:35 | Ep: 217/ 400 | Trn loss:  0.002975 - Acc: 99.9986 | Val loss:  1.369081 - Acc: 81.4306 | last_lr: 1.25000e-04  bad_ep: 29  cdwn: 0                             \n",
      " 00:50:31 | Ep: 218/ 400 | Trn loss:  0.002919 - Acc: 99.9986 | Val loss:  1.371978 - Acc: 81.4213 | last_lr: 1.25000e-04  bad_ep: 30  cdwn: 0                             \n",
      " 00:52:26 | Ep: 219/ 400 | Trn loss:  0.002865 - Acc: 99.9986 | Val loss:  1.374947 - Acc: 81.4352 | last_lr: 1.25000e-04  bad_ep: 31  cdwn: 0                             \n",
      " 00:54:24 | Ep: 220/ 400 | Trn loss:  0.002811 - Acc: 99.9986 | Val loss:  1.377978 - Acc: 81.4444 | last_lr: 1.25000e-04  bad_ep: 32  cdwn: 0                             \n",
      " 00:56:22 | Ep: 221/ 400 | Trn loss:  0.002758 - Acc: 99.9986 | Val loss:  1.381061 - Acc: 81.4630 | last_lr: 1.25000e-04  bad_ep: 33  cdwn: 0                             \n",
      " 00:58:20 | Ep: 222/ 400 | Trn loss:  0.002707 - Acc: 99.9986 | Val loss:  1.384218 - Acc: 81.4676 | last_lr: 1.25000e-04  bad_ep: 34  cdwn: 0                             \n",
      " 01:00:18 | Ep: 223/ 400 | Trn loss:  0.002655 - Acc: 99.9986 | Val loss:  1.387416 - Acc: 81.4769 | last_lr: 1.25000e-04  bad_ep: 35  cdwn: 0                             \n",
      " 01:02:15 | Ep: 224/ 400 | Trn loss:  0.002605 - Acc: 99.9986 | Val loss:  1.390664 - Acc: 81.4815 | last_lr: 1.25000e-04  bad_ep: 36  cdwn: 0                             \n",
      " 01:04:14 | Ep: 225/ 400 | Trn loss:  0.002555 - Acc: 99.9986 | Val loss:  1.393960 - Acc: 81.4630 | last_lr: 1.25000e-04  bad_ep: 37  cdwn: 0                             \n",
      " 01:06:10 | Ep: 226/ 400 | Trn loss:  0.002507 - Acc: 99.9986 | Val loss:  1.397302 - Acc: 81.4583 | last_lr: 1.25000e-04  bad_ep: 38  cdwn: 0                             \n",
      " 01:08:06 | Ep: 227/ 400 | Trn loss:  0.002458 - Acc: 99.9986 | Val loss:  1.400687 - Acc: 81.4444 | last_lr: 1.25000e-04  bad_ep: 39  cdwn: 0                             \n",
      " 01:10:05 | Ep: 228/ 400 | Trn loss:  0.002411 - Acc: 99.9986 | Val loss:  1.404113 - Acc: 81.4583 | last_lr: 1.25000e-04  bad_ep: 40  cdwn: 0                             \n",
      " 01:12:04 | Ep: 229/ 400 | Trn loss:  0.002364 - Acc: 99.9986 | Val loss:  1.407576 - Acc: 81.4769 | last_lr: 1.25000e-04  bad_ep: 41  cdwn: 0                             \n",
      " 01:14:03 | Ep: 230/ 400 | Trn loss:  0.002318 - Acc: 99.9986 | Val loss:  1.411074 - Acc: 81.4444 | last_lr: 1.25000e-04  bad_ep: 42  cdwn: 0                             \n",
      " 01:16:02 | Ep: 231/ 400 | Trn loss:  0.002273 - Acc: 99.9986 | Val loss:  1.414605 - Acc: 81.4583 | last_lr: 1.25000e-04  bad_ep: 43  cdwn: 0                             \n",
      " 01:18:00 | Ep: 232/ 400 | Trn loss:  0.002229 - Acc: 99.9986 | Val loss:  1.418168 - Acc: 81.4583 | last_lr: 1.25000e-04  bad_ep: 44  cdwn: 0                             \n",
      " 01:19:58 | Ep: 233/ 400 | Trn loss:  0.002185 - Acc: 99.9986 | Val loss:  1.421757 - Acc: 81.4583 | last_lr: 1.25000e-04  bad_ep: 45  cdwn: 0                             \n",
      " 01:21:58 | Ep: 234/ 400 | Trn loss:  0.002142 - Acc: 99.9986 | Val loss:  1.425373 - Acc: 81.4537 | last_lr: 1.25000e-04  bad_ep: 46  cdwn: 0                             \n",
      " 01:23:54 | Ep: 235/ 400 | Trn loss:  0.002099 - Acc: 99.9986 | Val loss:  1.429030 - Acc: 81.4583 | last_lr: 1.25000e-04  bad_ep: 47  cdwn: 0                             \n",
      " 01:25:51 | Ep: 236/ 400 | Trn loss:  0.002058 - Acc: 99.9986 | Val loss:  1.432727 - Acc: 81.4537 | last_lr: 1.25000e-04  bad_ep: 48  cdwn: 0                             \n",
      " 01:27:50 | Ep: 237/ 400 | Trn loss:  0.002017 - Acc: 99.9986 | Val loss:  1.436444 - Acc: 81.4444 | last_lr: 1.25000e-04  bad_ep: 49  cdwn: 0                             \n",
      " 01:29:49 | Ep: 238/ 400 | Trn loss:  0.001977 - Acc: 99.9986 | Val loss:  1.440176 - Acc: 81.4444 | last_lr: 1.25000e-04  bad_ep: 50  cdwn: 0                             \n",
      " 01:31:48 | Ep: 239/ 400 | Trn loss:  0.001938 - Acc: 99.9986 | Val loss:  1.443922 - Acc: 81.4537 | last_lr: 6.25000e-05  bad_ep: 0  cdwn: 10                             \n",
      " 01:33:47 | Ep: 240/ 400 | Trn loss:  0.002193 - Acc: 99.9982 | Val loss:  1.448721 - Acc: 81.3426 | last_lr: 6.25000e-05  bad_ep: 0  cdwn: 9                              \n",
      " 01:35:45 | Ep: 241/ 400 | Trn loss:  0.002341 - Acc: 99.9978 | Val loss:  1.448812 - Acc: 81.3241 | last_lr: 6.25000e-05  bad_ep: 0  cdwn: 8                              \n",
      " 01:37:42 | Ep: 242/ 400 | Trn loss:  0.002364 - Acc: 99.9986 | Val loss:  1.453407 - Acc: 81.2222 | last_lr: 6.25000e-05  bad_ep: 0  cdwn: 7                              \n",
      " 01:39:39 | Ep: 243/ 400 | Trn loss:  0.002368 - Acc: 99.9986 | Val loss:  1.454223 - Acc: 81.3009 | last_lr: 6.25000e-05  bad_ep: 0  cdwn: 6                              \n",
      " 01:41:36 | Ep: 244/ 400 | Trn loss:  0.002347 - Acc: 99.9986 | Val loss:  1.454827 - Acc: 81.3935 | last_lr: 6.25000e-05  bad_ep: 0  cdwn: 5                              \n",
      " 01:43:32 | Ep: 245/ 400 | Trn loss:  0.002309 - Acc: 99.9986 | Val loss:  1.457831 - Acc: 81.4167 | last_lr: 6.25000e-05  bad_ep: 0  cdwn: 4                              \n",
      " 01:45:31 | Ep: 246/ 400 | Trn loss:  0.002257 - Acc: 99.9986 | Val loss:  1.462735 - Acc: 81.2870 | last_lr: 6.25000e-05  bad_ep: 0  cdwn: 3                              \n",
      " 01:47:29 | Ep: 247/ 400 | Trn loss:  0.002187 - Acc: 99.9986 | Val loss:  1.465753 - Acc: 81.2222 | last_lr: 6.25000e-05  bad_ep: 0  cdwn: 2                              \n",
      " 01:49:28 | Ep: 248/ 400 | Trn loss:  0.002125 - Acc: 99.9986 | Val loss:  1.465451 - Acc: 81.3148 | last_lr: 6.25000e-05  bad_ep: 0  cdwn: 1                              \n",
      " 01:51:27 | Ep: 249/ 400 | Trn loss:  0.002074 - Acc: 99.9986 | Val loss:  1.464004 - Acc: 81.4167 | last_lr: 6.25000e-05  bad_ep: 0  cdwn: 0                              \n",
      " 01:53:24 | Ep: 250/ 400 | Trn loss:  0.002033 - Acc: 99.9986 | Val loss:  1.463081 - Acc: 81.4630 | last_lr: 6.25000e-05  bad_ep: 1  cdwn: 0                              \n",
      " 01:55:22 | Ep: 251/ 400 | Trn loss:  0.001997 - Acc: 99.9986 | Val loss:  1.462915 - Acc: 81.4861 | last_lr: 6.25000e-05  bad_ep: 2  cdwn: 0                              \n",
      " 01:57:18 | Ep: 252/ 400 | Trn loss:  0.001963 - Acc: 99.9986 | Val loss:  1.463153 - Acc: 81.5000 | last_lr: 6.25000e-05  bad_ep: 3  cdwn: 0                              \n",
      " 01:59:14 | Ep: 253/ 400 | Trn loss:  0.001930 - Acc: 99.9986 | Val loss:  1.463679 - Acc: 81.5509 | last_lr: 6.25000e-05  bad_ep: 4  cdwn: 0                              \n",
      " 02:01:13 | Ep: 254/ 400 | Trn loss:  0.001899 - Acc: 99.9986 | Val loss:  1.464393 - Acc: 81.5833 | last_lr: 6.25000e-05  bad_ep: 5  cdwn: 0                              \n",
      " 02:03:12 | Ep: 255/ 400 | Trn loss:  0.001868 - Acc: 99.9986 | Val loss:  1.465230 - Acc: 81.5972 | last_lr: 6.25000e-05  bad_ep: 6  cdwn: 0                              \n",
      " 02:05:10 | Ep: 256/ 400 | Trn loss:  0.001840 - Acc: 99.9986 | Val loss:  1.466153 - Acc: 81.5972 | last_lr: 6.25000e-05  bad_ep: 7  cdwn: 0                              \n",
      " 02:07:09 | Ep: 257/ 400 | Trn loss:  0.001812 - Acc: 99.9986 | Val loss:  1.467146 - Acc: 81.6019 | last_lr: 6.25000e-05  bad_ep: 8  cdwn: 0                              \n",
      " 02:09:08 | Ep: 258/ 400 | Trn loss:  0.001786 - Acc: 99.9986 | Val loss:  1.468199 - Acc: 81.6111 | last_lr: 6.25000e-05  bad_ep: 9  cdwn: 0                              \n",
      " 02:11:06 | Ep: 259/ 400 | Trn loss:  0.001761 - Acc: 99.9986 | Val loss:  1.469306 - Acc: 81.6065 | last_lr: 6.25000e-05  bad_ep: 10  cdwn: 0                             \n",
      " 02:13:04 | Ep: 260/ 400 | Trn loss:  0.001737 - Acc: 99.9986 | Val loss:  1.470447 - Acc: 81.6204 | last_lr: 6.25000e-05  bad_ep: 11  cdwn: 0                             \n",
      " 02:15:01 | Ep: 261/ 400 | Trn loss:  0.001714 - Acc: 99.9986 | Val loss:  1.471552 - Acc: 81.6343 | last_lr: 6.25000e-05  bad_ep: 12  cdwn: 0                             \n",
      " 02:16:58 | Ep: 262/ 400 | Trn loss:  0.001692 - Acc: 99.9986 | Val loss:  1.472765 - Acc: 81.6389 | last_lr: 6.25000e-05  bad_ep: 13  cdwn: 0                             \n",
      " 02:18:57 | Ep: 263/ 400 | Trn loss:  0.001670 - Acc: 99.9986 | Val loss:  1.474005 - Acc: 81.6296 | last_lr: 6.25000e-05  bad_ep: 14  cdwn: 0                             \n",
      " 02:20:55 | Ep: 264/ 400 | Trn loss:  0.001649 - Acc: 99.9986 | Val loss:  1.475276 - Acc: 81.6250 | last_lr: 6.25000e-05  bad_ep: 15  cdwn: 0                             \n",
      " 02:22:54 | Ep: 265/ 400 | Trn loss:  0.001629 - Acc: 99.9986 | Val loss:  1.476581 - Acc: 81.6435 | last_lr: 6.25000e-05  bad_ep: 16  cdwn: 0                             \n",
      " 02:24:52 | Ep: 266/ 400 | Trn loss:  0.001609 - Acc: 99.9986 | Val loss:  1.477920 - Acc: 81.6481 | last_lr: 6.25000e-05  bad_ep: 17  cdwn: 0                             \n",
      " 02:26:50 | Ep: 267/ 400 | Trn loss:  0.001590 - Acc: 99.9986 | Val loss:  1.479290 - Acc: 81.6111 | last_lr: 6.25000e-05  bad_ep: 18  cdwn: 0                             \n",
      " 02:28:47 | Ep: 268/ 400 | Trn loss:  0.001572 - Acc: 99.9986 | Val loss:  1.480691 - Acc: 81.6204 | last_lr: 6.25000e-05  bad_ep: 19  cdwn: 0                             \n",
      " 02:30:43 | Ep: 269/ 400 | Trn loss:  0.001553 - Acc: 99.9986 | Val loss:  1.482122 - Acc: 81.6296 | last_lr: 6.25000e-05  bad_ep: 20  cdwn: 0                             \n",
      " 02:32:40 | Ep: 270/ 400 | Trn loss:  0.001535 - Acc: 99.9986 | Val loss:  1.483583 - Acc: 81.6296 | last_lr: 6.25000e-05  bad_ep: 21  cdwn: 0                             \n",
      " 02:34:36 | Ep: 271/ 400 | Trn loss:  0.001518 - Acc: 99.9986 | Val loss:  1.485072 - Acc: 81.6296 | last_lr: 6.25000e-05  bad_ep: 22  cdwn: 0                             \n",
      " 02:36:35 | Ep: 272/ 400 | Trn loss:  0.001501 - Acc: 99.9986 | Val loss:  1.486589 - Acc: 81.6296 | last_lr: 6.25000e-05  bad_ep: 23  cdwn: 0                             \n",
      " 02:38:33 | Ep: 273/ 400 | Trn loss:  0.001484 - Acc: 99.9986 | Val loss:  1.488134 - Acc: 81.6204 | last_lr: 6.25000e-05  bad_ep: 24  cdwn: 0                             \n",
      " 02:40:32 | Ep: 274/ 400 | Trn loss:  0.001467 - Acc: 99.9989 | Val loss:  1.489705 - Acc: 81.6019 | last_lr: 6.25000e-05  bad_ep: 25  cdwn: 0                             \n",
      " 02:42:31 | Ep: 275/ 400 | Trn loss:  0.001451 - Acc: 99.9989 | Val loss:  1.491302 - Acc: 81.6019 | last_lr: 6.25000e-05  bad_ep: 26  cdwn: 0                             \n",
      " 02:44:28 | Ep: 276/ 400 | Trn loss:  0.001435 - Acc: 99.9989 | Val loss:  1.492924 - Acc: 81.6065 | last_lr: 6.25000e-05  bad_ep: 27  cdwn: 0                             \n",
      " 02:46:27 | Ep: 277/ 400 | Trn loss:  0.001419 - Acc: 99.9989 | Val loss:  1.494571 - Acc: 81.6065 | last_lr: 6.25000e-05  bad_ep: 28  cdwn: 0                             \n",
      " 02:48:23 | Ep: 278/ 400 | Trn loss:  0.001403 - Acc: 99.9989 | Val loss:  1.496241 - Acc: 81.6111 | last_lr: 6.25000e-05  bad_ep: 29  cdwn: 0                             \n",
      " 02:50:19 | Ep: 279/ 400 | Trn loss:  0.001387 - Acc: 99.9989 | Val loss:  1.497933 - Acc: 81.6019 | last_lr: 6.25000e-05  bad_ep: 30  cdwn: 0                             \n",
      " 02:52:17 | Ep: 280/ 400 | Trn loss:  0.001372 - Acc: 99.9989 | Val loss:  1.499647 - Acc: 81.6019 | last_lr: 6.25000e-05  bad_ep: 31  cdwn: 0                             \n",
      " 02:54:16 | Ep: 281/ 400 | Trn loss:  0.001357 - Acc: 99.9989 | Val loss:  1.501374 - Acc: 81.6019 | last_lr: 6.25000e-05  bad_ep: 32  cdwn: 0                             \n",
      " 02:56:15 | Ep: 282/ 400 | Trn loss:  0.001342 - Acc: 99.9989 | Val loss:  1.503126 - Acc: 81.5972 | last_lr: 6.25000e-05  bad_ep: 33  cdwn: 0                             \n",
      " 02:58:14 | Ep: 283/ 400 | Trn loss:  0.001327 - Acc: 99.9989 | Val loss:  1.504897 - Acc: 81.6065 | last_lr: 6.25000e-05  bad_ep: 34  cdwn: 0                             \n",
      " 03:00:12 | Ep: 284/ 400 | Trn loss:  0.001312 - Acc: 99.9989 | Val loss:  1.506687 - Acc: 81.6157 | last_lr: 6.25000e-05  bad_ep: 35  cdwn: 0                             \n",
      " 03:02:09 | Ep: 285/ 400 | Trn loss:  0.001298 - Acc: 99.9989 | Val loss:  1.508494 - Acc: 81.6065 | last_lr: 6.25000e-05  bad_ep: 36  cdwn: 0                             \n",
      " 03:04:07 | Ep: 286/ 400 | Trn loss:  0.001283 - Acc: 99.9989 | Val loss:  1.510318 - Acc: 81.6157 | last_lr: 6.25000e-05  bad_ep: 37  cdwn: 0                             \n",
      " 03:06:03 | Ep: 287/ 400 | Trn loss:  0.001269 - Acc: 99.9989 | Val loss:  1.512157 - Acc: 81.6157 | last_lr: 6.25000e-05  bad_ep: 38  cdwn: 0                             \n",
      " 03:08:00 | Ep: 288/ 400 | Trn loss:  0.001255 - Acc: 99.9989 | Val loss:  1.514011 - Acc: 81.6157 | last_lr: 6.25000e-05  bad_ep: 39  cdwn: 0                             \n",
      " 03:09:59 | Ep: 289/ 400 | Trn loss:  0.001241 - Acc: 99.9989 | Val loss:  1.515879 - Acc: 81.6157 | last_lr: 6.25000e-05  bad_ep: 40  cdwn: 0                             \n",
      " 03:11:57 | Ep: 290/ 400 | Trn loss:  0.001227 - Acc: 99.9989 | Val loss:  1.517761 - Acc: 81.6065 | last_lr: 6.25000e-05  bad_ep: 41  cdwn: 0                             \n",
      " 03:13:56 | Ep: 291/ 400 | Trn loss:  0.001214 - Acc: 99.9989 | Val loss:  1.519654 - Acc: 81.6157 | last_lr: 6.25000e-05  bad_ep: 42  cdwn: 0                             \n",
      " 03:15:54 | Ep: 292/ 400 | Trn loss:  0.001200 - Acc: 99.9989 | Val loss:  1.521559 - Acc: 81.6111 | last_lr: 6.25000e-05  bad_ep: 43  cdwn: 0                             \n",
      " 03:17:53 | Ep: 293/ 400 | Trn loss:  0.001187 - Acc: 99.9989 | Val loss:  1.523474 - Acc: 81.6019 | last_lr: 6.25000e-05  bad_ep: 44  cdwn: 0                             \n",
      " 03:19:50 | Ep: 294/ 400 | Trn loss:  0.001174 - Acc: 99.9989 | Val loss:  1.525399 - Acc: 81.6019 | last_lr: 6.25000e-05  bad_ep: 45  cdwn: 0                             \n",
      " 03:21:46 | Ep: 295/ 400 | Trn loss:  0.001161 - Acc: 99.9989 | Val loss:  1.527334 - Acc: 81.6111 | last_lr: 6.25000e-05  bad_ep: 46  cdwn: 0                             \n",
      " 03:23:43 | Ep: 296/ 400 | Trn loss:  0.001148 - Acc: 99.9989 | Val loss:  1.529278 - Acc: 81.6065 | last_lr: 6.25000e-05  bad_ep: 47  cdwn: 0                             \n",
      " 03:25:39 | Ep: 297/ 400 | Trn loss:  0.001135 - Acc: 99.9989 | Val loss:  1.531229 - Acc: 81.6065 | last_lr: 6.25000e-05  bad_ep: 48  cdwn: 0                             \n",
      " 03:27:38 | Ep: 298/ 400 | Trn loss:  0.001122 - Acc: 99.9989 | Val loss:  1.533188 - Acc: 81.6111 | last_lr: 6.25000e-05  bad_ep: 49  cdwn: 0                             \n",
      " 03:29:37 | Ep: 299/ 400 | Trn loss:  0.001110 - Acc: 99.9989 | Val loss:  1.535152 - Acc: 81.6111 | last_lr: 6.25000e-05  bad_ep: 50  cdwn: 0                             \n",
      "                                                                                                                                                                           "
     ]
    },
    {
     "name": "stderr",
     "output_type": "stream",
     "text": [
      "2024-10-17 03:31:35,673 - utils.utils_cellpainting - INFO: -  Model exported to NN_1482profiles_cpb600_20240916_1803_ep_300.pt - epoch: 300\n"
     ]
    },
    {
     "name": "stdout",
     "output_type": "stream",
     "text": [
      " 03:31:35 | Ep: 300/ 400 | Trn loss:  0.001097 - Acc: 99.9989 | Val loss:  1.537122 - Acc: 81.6065 | last_lr: 3.12500e-05  bad_ep: 0  cdwn: 10 \n",
      " 03:33:33 | Ep: 301/ 400 | Trn loss:  0.001171 - Acc: 99.9989 | Val loss:  1.538434 - Acc: 81.5972 | last_lr: 3.12500e-05  bad_ep: 0  cdwn: 9                              \n",
      " 03:35:31 | Ep: 302/ 400 | Trn loss:  0.001186 - Acc: 99.9989 | Val loss:  1.538758 - Acc: 81.5926 | last_lr: 3.12500e-05  bad_ep: 0  cdwn: 8                              \n",
      " 03:37:29 | Ep: 303/ 400 | Trn loss:  0.001199 - Acc: 99.9989 | Val loss:  1.539960 - Acc: 81.6481 | last_lr: 3.12500e-05  bad_ep: 0  cdwn: 7                              \n",
      " 03:39:24 | Ep: 304/ 400 | Trn loss:  0.001212 - Acc: 99.9989 | Val loss:  1.541808 - Acc: 81.6528 | last_lr: 3.12500e-05  bad_ep: 0  cdwn: 6                              \n",
      " 03:41:20 | Ep: 305/ 400 | Trn loss:  0.001224 - Acc: 99.9989 | Val loss:  1.543846 - Acc: 81.6713 | last_lr: 3.12500e-05  bad_ep: 0  cdwn: 5                              \n",
      " 03:43:17 | Ep: 306/ 400 | Trn loss:  0.001232 - Acc: 99.9989 | Val loss:  1.545722 - Acc: 81.7037 | last_lr: 3.12500e-05  bad_ep: 0  cdwn: 4                              \n",
      " 03:45:15 | Ep: 307/ 400 | Trn loss:  0.001235 - Acc: 99.9989 | Val loss:  1.547312 - Acc: 81.7269 | last_lr: 3.12500e-05  bad_ep: 0  cdwn: 3                              \n",
      " 03:47:13 | Ep: 308/ 400 | Trn loss:  0.001232 - Acc: 99.9989 | Val loss:  1.548619 - Acc: 81.7500 | last_lr: 3.12500e-05  bad_ep: 0  cdwn: 2                              \n",
      " 03:49:11 | Ep: 309/ 400 | Trn loss:  0.001224 - Acc: 99.9989 | Val loss:  1.549682 - Acc: 81.7824 | last_lr: 3.12500e-05  bad_ep: 0  cdwn: 1                              \n",
      " 03:51:08 | Ep: 310/ 400 | Trn loss:  0.001213 - Acc: 99.9989 | Val loss:  1.550546 - Acc: 81.7917 | last_lr: 3.12500e-05  bad_ep: 0  cdwn: 0                              \n",
      " 03:53:04 | Ep: 311/ 400 | Trn loss:  0.001199 - Acc: 99.9989 | Val loss:  1.551253 - Acc: 81.7917 | last_lr: 3.12500e-05  bad_ep: 1  cdwn: 0                              \n",
      " 03:55:01 | Ep: 312/ 400 | Trn loss:  0.001185 - Acc: 99.9989 | Val loss:  1.551845 - Acc: 81.7824 | last_lr: 3.12500e-05  bad_ep: 2  cdwn: 0                              \n",
      " 03:56:56 | Ep: 313/ 400 | Trn loss:  0.001169 - Acc: 99.9989 | Val loss:  1.552366 - Acc: 81.7731 | last_lr: 3.12500e-05  bad_ep: 3  cdwn: 0                              \n",
      " 03:58:52 | Ep: 314/ 400 | Trn loss:  0.001154 - Acc: 99.9989 | Val loss:  1.552852 - Acc: 81.7500 | last_lr: 3.12500e-05  bad_ep: 4  cdwn: 0                              \n",
      " 04:00:49 | Ep: 315/ 400 | Trn loss:  0.001140 - Acc: 99.9989 | Val loss:  1.553324 - Acc: 81.7454 | last_lr: 3.12500e-05  bad_ep: 5  cdwn: 0                              \n",
      " 04:02:47 | Ep: 316/ 400 | Trn loss:  0.001126 - Acc: 99.9989 | Val loss:  1.553798 - Acc: 81.7407 | last_lr: 3.12500e-05  bad_ep: 6  cdwn: 0                              \n",
      " 04:04:45 | Ep: 317/ 400 | Trn loss:  0.001113 - Acc: 99.9989 | Val loss:  1.554278 - Acc: 81.7500 | last_lr: 3.12500e-05  bad_ep: 7  cdwn: 0                              \n",
      " 04:06:42 | Ep: 318/ 400 | Trn loss:  0.001101 - Acc: 99.9989 | Val loss:  1.554767 - Acc: 81.7546 | last_lr: 3.12500e-05  bad_ep: 8  cdwn: 0                              \n",
      " 04:08:40 | Ep: 319/ 400 | Trn loss:  0.001090 - Acc: 99.9989 | Val loss:  1.555266 - Acc: 81.7546 | last_lr: 3.12500e-05  bad_ep: 9  cdwn: 0                              \n",
      " 04:10:37 | Ep: 320/ 400 | Trn loss:  0.001080 - Acc: 99.9989 | Val loss:  1.555774 - Acc: 81.7407 | last_lr: 3.12500e-05  bad_ep: 10  cdwn: 0                             \n",
      " 04:12:33 | Ep: 321/ 400 | Trn loss:  0.001070 - Acc: 99.9989 | Val loss:  1.556290 - Acc: 81.7315 | last_lr: 3.12500e-05  bad_ep: 11  cdwn: 0                             \n",
      " 04:14:28 | Ep: 322/ 400 | Trn loss:  0.001060 - Acc: 99.9989 | Val loss:  1.556815 - Acc: 81.7454 | last_lr: 3.12500e-05  bad_ep: 12  cdwn: 0                             \n",
      " 04:16:24 | Ep: 323/ 400 | Trn loss:  0.001051 - Acc: 99.9989 | Val loss:  1.557346 - Acc: 81.7454 | last_lr: 3.12500e-05  bad_ep: 13  cdwn: 0                             \n",
      " 04:18:23 | Ep: 324/ 400 | Trn loss:  0.001043 - Acc: 99.9989 | Val loss:  1.557886 - Acc: 81.7500 | last_lr: 3.12500e-05  bad_ep: 14  cdwn: 0                             \n",
      " 04:20:20 | Ep: 325/ 400 | Trn loss:  0.001035 - Acc: 99.9993 | Val loss:  1.558433 - Acc: 81.7407 | last_lr: 3.12500e-05  bad_ep: 15  cdwn: 0                             \n",
      " 04:22:19 | Ep: 326/ 400 | Trn loss:  0.001027 - Acc: 99.9993 | Val loss:  1.558989 - Acc: 81.7500 | last_lr: 3.12500e-05  bad_ep: 16  cdwn: 0                             \n",
      " 04:24:16 | Ep: 327/ 400 | Trn loss:  0.001019 - Acc: 99.9993 | Val loss:  1.559553 - Acc: 81.7593 | last_lr: 3.12500e-05  bad_ep: 17  cdwn: 0                             \n",
      " 04:26:13 | Ep: 328/ 400 | Trn loss:  0.001011 - Acc: 99.9993 | Val loss:  1.560126 - Acc: 81.7731 | last_lr: 3.12500e-05  bad_ep: 18  cdwn: 0                             \n",
      " 04:28:10 | Ep: 329/ 400 | Trn loss:  0.001004 - Acc: 99.9993 | Val loss:  1.560709 - Acc: 81.7685 | last_lr: 3.12500e-05  bad_ep: 19  cdwn: 0                             \n",
      " 04:30:07 | Ep: 330/ 400 | Trn loss:  0.000997 - Acc: 99.9993 | Val loss:  1.561303 - Acc: 81.7639 | last_lr: 3.12500e-05  bad_ep: 20  cdwn: 0                             \n",
      " 04:32:02 | Ep: 331/ 400 | Trn loss:  0.000990 - Acc: 99.9993 | Val loss:  1.561906 - Acc: 81.7639 | last_lr: 3.12500e-05  bad_ep: 21  cdwn: 0                             \n",
      " 04:34:00 | Ep: 332/ 400 | Trn loss:  0.000983 - Acc: 99.9993 | Val loss:  1.562521 - Acc: 81.7731 | last_lr: 3.12500e-05  bad_ep: 22  cdwn: 0                             \n",
      " 04:35:57 | Ep: 333/ 400 | Trn loss:  0.000977 - Acc: 99.9993 | Val loss:  1.563147 - Acc: 81.7731 | last_lr: 3.12500e-05  bad_ep: 23  cdwn: 0                             \n",
      " 04:37:55 | Ep: 334/ 400 | Trn loss:  0.000970 - Acc: 99.9993 | Val loss:  1.563785 - Acc: 81.7731 | last_lr: 3.12500e-05  bad_ep: 24  cdwn: 0                             \n",
      " 04:39:52 | Ep: 335/ 400 | Trn loss:  0.000964 - Acc: 99.9993 | Val loss:  1.564435 - Acc: 81.7731 | last_lr: 3.12500e-05  bad_ep: 25  cdwn: 0                             \n",
      " 04:41:50 | Ep: 336/ 400 | Trn loss:  0.000958 - Acc: 99.9993 | Val loss:  1.565096 - Acc: 81.7778 | last_lr: 3.12500e-05  bad_ep: 26  cdwn: 0                             \n",
      " 04:43:46 | Ep: 337/ 400 | Trn loss:  0.000952 - Acc: 99.9993 | Val loss:  1.565769 - Acc: 81.7639 | last_lr: 3.12500e-05  bad_ep: 27  cdwn: 0                             \n",
      " 04:45:43 | Ep: 338/ 400 | Trn loss:  0.000945 - Acc: 99.9993 | Val loss:  1.566452 - Acc: 81.7454 | last_lr: 3.12500e-05  bad_ep: 28  cdwn: 0                             \n",
      " 04:47:39 | Ep: 339/ 400 | Trn loss:  0.000940 - Acc: 99.9993 | Val loss:  1.567146 - Acc: 81.7407 | last_lr: 3.12500e-05  bad_ep: 29  cdwn: 0                             \n",
      " 04:49:35 | Ep: 340/ 400 | Trn loss:  0.000934 - Acc: 99.9993 | Val loss:  1.567847 - Acc: 81.7407 | last_lr: 3.12500e-05  bad_ep: 30  cdwn: 0                             \n",
      " 04:51:33 | Ep: 341/ 400 | Trn loss:  0.000928 - Acc: 99.9993 | Val loss:  1.568553 - Acc: 81.7407 | last_lr: 3.12500e-05  bad_ep: 31  cdwn: 0                             \n",
      " 04:53:30 | Ep: 342/ 400 | Trn loss:  0.000922 - Acc: 99.9993 | Val loss:  1.569252 - Acc: 81.7593 | last_lr: 3.12500e-05  bad_ep: 32  cdwn: 0                             \n",
      " 04:55:28 | Ep: 343/ 400 | Trn loss:  0.000917 - Acc: 99.9993 | Val loss:  1.569922 - Acc: 81.7407 | last_lr: 3.12500e-05  bad_ep: 33  cdwn: 0                             \n",
      " 04:57:26 | Ep: 344/ 400 | Trn loss:  0.000910 - Acc: 99.9993 | Val loss:  1.570724 - Acc: 81.7315 | last_lr: 3.12500e-05  bad_ep: 34  cdwn: 0                             \n",
      " 04:59:24 | Ep: 345/ 400 | Trn loss:  0.000904 - Acc: 99.9993 | Val loss:  1.571488 - Acc: 81.7315 | last_lr: 3.12500e-05  bad_ep: 35  cdwn: 0                             \n",
      " 05:01:20 | Ep: 346/ 400 | Trn loss:  0.000899 - Acc: 99.9993 | Val loss:  1.572263 - Acc: 81.7269 | last_lr: 3.12500e-05  bad_ep: 36  cdwn: 0                             \n",
      " 05:03:16 | Ep: 347/ 400 | Trn loss:  0.000893 - Acc: 99.9993 | Val loss:  1.573049 - Acc: 81.7222 | last_lr: 3.12500e-05  bad_ep: 37  cdwn: 0                             \n",
      " 05:05:11 | Ep: 348/ 400 | Trn loss:  0.000888 - Acc: 99.9993 | Val loss:  1.573845 - Acc: 81.7130 | last_lr: 3.12500e-05  bad_ep: 38  cdwn: 0                             \n",
      " 05:07:07 | Ep: 349/ 400 | Trn loss:  0.000883 - Acc: 99.9993 | Val loss:  1.574650 - Acc: 81.7083 | last_lr: 3.12500e-05  bad_ep: 39  cdwn: 0                             \n",
      " 05:09:05 | Ep: 350/ 400 | Trn loss:  0.000878 - Acc: 99.9993 | Val loss:  1.575466 - Acc: 81.7176 | last_lr: 3.12500e-05  bad_ep: 40  cdwn: 0                             \n",
      " 05:11:03 | Ep: 351/ 400 | Trn loss:  0.000873 - Acc: 99.9993 | Val loss:  1.576291 - Acc: 81.7269 | last_lr: 3.12500e-05  bad_ep: 41  cdwn: 0                             \n",
      " 05:13:00 | Ep: 352/ 400 | Trn loss:  0.000867 - Acc: 99.9993 | Val loss:  1.577126 - Acc: 81.7315 | last_lr: 3.12500e-05  bad_ep: 42  cdwn: 0                             \n",
      " 05:14:57 | Ep: 353/ 400 | Trn loss:  0.000862 - Acc: 99.9993 | Val loss:  1.577968 - Acc: 81.7407 | last_lr: 3.12500e-05  bad_ep: 43  cdwn: 0                             \n",
      " 05:16:53 | Ep: 354/ 400 | Trn loss:  0.000857 - Acc: 99.9993 | Val loss:  1.578818 - Acc: 81.7454 | last_lr: 3.12500e-05  bad_ep: 44  cdwn: 0                             \n",
      " 05:18:50 | Ep: 355/ 400 | Trn loss:  0.000852 - Acc: 99.9993 | Val loss:  1.579675 - Acc: 81.7546 | last_lr: 3.12500e-05  bad_ep: 45  cdwn: 0                             \n",
      " 05:20:45 | Ep: 356/ 400 | Trn loss:  0.000847 - Acc: 99.9993 | Val loss:  1.580539 - Acc: 81.7500 | last_lr: 3.12500e-05  bad_ep: 46  cdwn: 0                             \n",
      " 05:22:41 | Ep: 357/ 400 | Trn loss:  0.000843 - Acc: 99.9993 | Val loss:  1.581408 - Acc: 81.7546 | last_lr: 3.12500e-05  bad_ep: 47  cdwn: 0                             \n",
      " 05:24:38 | Ep: 358/ 400 | Trn loss:  0.000838 - Acc: 99.9993 | Val loss:  1.582283 - Acc: 81.7500 | last_lr: 3.12500e-05  bad_ep: 48  cdwn: 0                             \n",
      " 05:26:36 | Ep: 359/ 400 | Trn loss:  0.000833 - Acc: 99.9993 | Val loss:  1.583164 - Acc: 81.7546 | last_lr: 3.12500e-05  bad_ep: 49  cdwn: 0                             \n",
      " 05:28:34 | Ep: 360/ 400 | Trn loss:  0.000828 - Acc: 99.9993 | Val loss:  1.584049 - Acc: 81.7500 | last_lr: 3.12500e-05  bad_ep: 50  cdwn: 0                             \n",
      " 05:30:32 | Ep: 361/ 400 | Trn loss:  0.000823 - Acc: 99.9993 | Val loss:  1.584939 - Acc: 81.7500 | last_lr: 1.56250e-05  bad_ep: 0  cdwn: 10                             \n",
      " 05:32:30 | Ep: 362/ 400 | Trn loss:  0.000862 - Acc: 99.9993 | Val loss:  1.587696 - Acc: 81.8287 | last_lr: 1.56250e-05  bad_ep: 0  cdwn: 9                              \n",
      " 05:34:26 | Ep: 363/ 400 | Trn loss:  0.000862 - Acc: 99.9993 | Val loss:  1.587823 - Acc: 81.8472 | last_lr: 1.56250e-05  bad_ep: 0  cdwn: 8                              \n",
      " 05:36:24 | Ep: 364/ 400 | Trn loss:  0.000855 - Acc: 99.9993 | Val loss:  1.588133 - Acc: 81.8380 | last_lr: 1.56250e-05  bad_ep: 0  cdwn: 7                              \n",
      " 05:38:20 | Ep: 365/ 400 | Trn loss:  0.000849 - Acc: 99.9993 | Val loss:  1.588518 - Acc: 81.8472 | last_lr: 1.56250e-05  bad_ep: 0  cdwn: 6                              \n",
      " 05:40:15 | Ep: 366/ 400 | Trn loss:  0.000844 - Acc: 99.9993 | Val loss:  1.588931 - Acc: 81.8565 | last_lr: 1.56250e-05  bad_ep: 0  cdwn: 5                              \n",
      " 05:42:14 | Ep: 367/ 400 | Trn loss:  0.000840 - Acc: 99.9993 | Val loss:  1.589349 - Acc: 81.8472 | last_lr: 1.56250e-05  bad_ep: 0  cdwn: 4                              \n",
      " 05:44:12 | Ep: 368/ 400 | Trn loss:  0.000836 - Acc: 99.9993 | Val loss:  1.589765 - Acc: 81.8426 | last_lr: 1.56250e-05  bad_ep: 0  cdwn: 3                              \n",
      " 05:46:09 | Ep: 369/ 400 | Trn loss:  0.000832 - Acc: 99.9993 | Val loss:  1.590175 - Acc: 81.8426 | last_lr: 1.56250e-05  bad_ep: 0  cdwn: 2                              \n",
      " 05:48:07 | Ep: 370/ 400 | Trn loss:  0.000828 - Acc: 99.9993 | Val loss:  1.590578 - Acc: 81.8472 | last_lr: 1.56250e-05  bad_ep: 0  cdwn: 1                              \n",
      " 05:50:05 | Ep: 371/ 400 | Trn loss:  0.000824 - Acc: 99.9993 | Val loss:  1.590975 - Acc: 81.8472 | last_lr: 1.56250e-05  bad_ep: 0  cdwn: 0                              \n",
      " 05:52:01 | Ep: 372/ 400 | Trn loss:  0.000821 - Acc: 99.9993 | Val loss:  1.591366 - Acc: 81.8426 | last_lr: 1.56250e-05  bad_ep: 1  cdwn: 0                              \n",
      " 05:53:57 | Ep: 373/ 400 | Trn loss:  0.000817 - Acc: 99.9993 | Val loss:  1.591752 - Acc: 81.8472 | last_lr: 1.56250e-05  bad_ep: 2  cdwn: 0                              \n",
      " 05:55:52 | Ep: 374/ 400 | Trn loss:  0.000814 - Acc: 99.9993 | Val loss:  1.592134 - Acc: 81.8472 | last_lr: 1.56250e-05  bad_ep: 3  cdwn: 0                              \n",
      " 05:57:48 | Ep: 375/ 400 | Trn loss:  0.000811 - Acc: 99.9993 | Val loss:  1.592513 - Acc: 81.8519 | last_lr: 1.56250e-05  bad_ep: 4  cdwn: 0                              \n",
      " 05:59:45 | Ep: 376/ 400 | Trn loss:  0.000808 - Acc: 99.9993 | Val loss:  1.592889 - Acc: 81.8519 | last_lr: 1.56250e-05  bad_ep: 5  cdwn: 0                              \n",
      " 06:01:43 | Ep: 377/ 400 | Trn loss:  0.000805 - Acc: 99.9993 | Val loss:  1.593264 - Acc: 81.8472 | last_lr: 1.56250e-05  bad_ep: 6  cdwn: 0                              \n",
      " 06:03:40 | Ep: 378/ 400 | Trn loss:  0.000802 - Acc: 99.9993 | Val loss:  1.593637 - Acc: 81.8472 | last_lr: 1.56250e-05  bad_ep: 7  cdwn: 0                              \n",
      " 06:05:38 | Ep: 379/ 400 | Trn loss:  0.000799 - Acc: 99.9993 | Val loss:  1.594009 - Acc: 81.8472 | last_lr: 1.56250e-05  bad_ep: 8  cdwn: 0                              \n",
      " 06:07:34 | Ep: 380/ 400 | Trn loss:  0.000796 - Acc: 99.9993 | Val loss:  1.594381 - Acc: 81.8472 | last_lr: 1.56250e-05  bad_ep: 9  cdwn: 0                              \n",
      " 06:09:32 | Ep: 381/ 400 | Trn loss:  0.000793 - Acc: 99.9993 | Val loss:  1.594753 - Acc: 81.8472 | last_lr: 1.56250e-05  bad_ep: 10  cdwn: 0                             \n",
      " 06:11:28 | Ep: 382/ 400 | Trn loss:  0.000790 - Acc: 99.9993 | Val loss:  1.595126 - Acc: 81.8519 | last_lr: 1.56250e-05  bad_ep: 11  cdwn: 0                             \n",
      " 06:13:24 | Ep: 383/ 400 | Trn loss:  0.000787 - Acc: 99.9993 | Val loss:  1.595500 - Acc: 81.8472 | last_lr: 1.56250e-05  bad_ep: 12  cdwn: 0                             \n",
      " 06:15:21 | Ep: 384/ 400 | Trn loss:  0.000785 - Acc: 99.9993 | Val loss:  1.595875 - Acc: 81.8426 | last_lr: 1.56250e-05  bad_ep: 13  cdwn: 0                             \n",
      " 06:17:19 | Ep: 385/ 400 | Trn loss:  0.000782 - Acc: 99.9993 | Val loss:  1.596253 - Acc: 81.8426 | last_lr: 1.56250e-05  bad_ep: 14  cdwn: 0                             \n",
      " 06:19:17 | Ep: 386/ 400 | Trn loss:  0.000779 - Acc: 99.9993 | Val loss:  1.596634 - Acc: 81.8380 | last_lr: 1.56250e-05  bad_ep: 15  cdwn: 0                             \n",
      " 06:21:15 | Ep: 387/ 400 | Trn loss:  0.000777 - Acc: 99.9993 | Val loss:  1.597020 - Acc: 81.8380 | last_lr: 1.56250e-05  bad_ep: 16  cdwn: 0                             \n",
      " 06:23:13 | Ep: 388/ 400 | Trn loss:  0.000774 - Acc: 99.9993 | Val loss:  1.597417 - Acc: 81.8380 | last_lr: 1.56250e-05  bad_ep: 17  cdwn: 0                             \n",
      " 06:25:09 | Ep: 389/ 400 | Trn loss:  0.000771 - Acc: 99.9993 | Val loss:  1.597830 - Acc: 81.8426 | last_lr: 1.56250e-05  bad_ep: 18  cdwn: 0                             \n",
      " 06:27:05 | Ep: 390/ 400 | Trn loss:  0.000769 - Acc: 99.9993 | Val loss:  1.598246 - Acc: 81.8380 | last_lr: 1.56250e-05  bad_ep: 19  cdwn: 0                             \n",
      " 06:29:00 | Ep: 391/ 400 | Trn loss:  0.000766 - Acc: 99.9993 | Val loss:  1.598608 - Acc: 81.8426 | last_lr: 1.56250e-05  bad_ep: 20  cdwn: 0                             \n",
      " 06:30:56 | Ep: 392/ 400 | Trn loss:  0.000764 - Acc: 99.9993 | Val loss:  1.598982 - Acc: 81.8380 | last_lr: 1.56250e-05  bad_ep: 21  cdwn: 0                             \n",
      " 06:32:54 | Ep: 393/ 400 | Trn loss:  0.000761 - Acc: 99.9993 | Val loss:  1.599357 - Acc: 81.8380 | last_lr: 1.56250e-05  bad_ep: 22  cdwn: 0                             \n",
      " 06:34:51 | Ep: 394/ 400 | Trn loss:  0.000759 - Acc: 99.9993 | Val loss:  1.599736 - Acc: 81.8426 | last_lr: 1.56250e-05  bad_ep: 23  cdwn: 0                             \n",
      " 06:36:49 | Ep: 395/ 400 | Trn loss:  0.000756 - Acc: 99.9993 | Val loss:  1.600118 - Acc: 81.8380 | last_lr: 1.56250e-05  bad_ep: 24  cdwn: 0                             \n",
      " 06:38:47 | Ep: 396/ 400 | Trn loss:  0.000754 - Acc: 99.9993 | Val loss:  1.600501 - Acc: 81.8426 | last_lr: 1.56250e-05  bad_ep: 25  cdwn: 0                             \n",
      " 06:40:45 | Ep: 397/ 400 | Trn loss:  0.000752 - Acc: 99.9996 | Val loss:  1.600887 - Acc: 81.8380 | last_lr: 1.56250e-05  bad_ep: 26  cdwn: 0                             \n",
      " 06:42:41 | Ep: 398/ 400 | Trn loss:  0.000749 - Acc: 99.9996 | Val loss:  1.601275 - Acc: 81.8380 | last_lr: 1.56250e-05  bad_ep: 27  cdwn: 0                             \n",
      " 06:44:36 | Ep: 399/ 400 | Trn loss:  0.000747 - Acc: 99.9996 | Val loss:  1.601665 - Acc: 81.8426 | last_lr: 1.56250e-05  bad_ep: 28  cdwn: 0                             \n",
      "                                                                                                                                                                           "
     ]
    },
    {
     "name": "stderr",
     "output_type": "stream",
     "text": [
      "2024-10-17 06:46:32,263 - utils.utils_cellpainting - INFO: -  Model exported to NN_1482profiles_cpb600_20240916_1803_ep_400.pt - epoch: 400\n"
     ]
    },
    {
     "name": "stdout",
     "output_type": "stream",
     "text": [
      " 06:46:32 | Ep: 400/ 400 | Trn loss:  0.000745 - Acc: 99.9996 | Val loss:  1.602056 - Acc: 81.8426 | last_lr: 1.56250e-05  bad_ep: 29  cdwn: 0 \n"
     ]
    }
   ],
   "source": [
    "\n",
    "metrics = fit(model, optimizer, scheduler, data_loader, metrics, start_epoch, end_epoch, device, CKPT_FILE, CKPT_PATH )\n"
   ]
  },
  {
   "cell_type": "code",
   "execution_count": null,
   "id": "dc5d30cf-4f35-4e3b-8690-f41ff6b5b17f",
   "metadata": {},
   "outputs": [],
   "source": [
    "# if (epoch+1) % 100 == 0:\n",
    "# epoch = 299\n",
    "# filename = f\"NN_1482profiles_{ae_datetime}_{ae_ckpttype}_{RUN_DATETIME}_ep_{epoch+1}\"\n",
    "# print(filename)\n",
    "# save_checkpoint(epoch+1, model, optimizer, scheduler, filename = filename, ckpt_path = CKPT_PATH, verbose = False)"
   ]
  },
  {
   "cell_type": "markdown",
   "id": "e23b65a8-6765-4dd9-b9ec-ceb70ab41bcd",
   "metadata": {},
   "source": [
    "    * 20240916_1800 - CellProfiles (1482) ---> Single Layer 256\n",
    "    \n",
    "        21:44:39 | Ep: 100/ 100 | Trn loss:  0.047957 - Acc: 99.1926 | Val loss:  0.813064 - Acc: 81.9306 | last_lr: 1.25000e-04  bad_ep: 2  cdwn: 0 \n",
    "        04:27:48 | Ep: 200/ 200 | Trn loss:  0.022507 - Acc: 99.8802 | Val loss:  0.929760 - Acc: 81.6898 | last_lr: 1.56250e-05  bad_ep: 9  cdwn: 0 \n",
    "    \n",
    "    * 20240921_0600 - CellProfiles (1482) ---> Single Layer 512\n",
    "    \n",
    "        21:44:39 | Ep: 100/ 100 | Trn loss:  0.047957 - Acc: 99.1926 | Val loss:  0.813064 - Acc: 81.9306 | last_lr: 1.25000e-04  bad_ep: 2  cdwn: 0 \n",
    "        04:27:48 | Ep: 200/ 200 | Trn loss:  0.022507 - Acc: 99.8802 | Val loss:  0.929760 - Acc: 81.6898 | last_lr: 1.56250e-05  bad_ep: 9  cdwn: 0 \n",
    "    \n",
    "\n",
    "    \n",
    "    * 20240912_0400 - CellProfiles (1482) --->  4 layer FCN with ReLU 256/256/128\n",
    "\n",
    "         08:01:23 | Ep:  99/ 100 | Trn loss:  0.264891 -  0.316413  Acc: 89.7615 | Val loss:  0.487438  -  0.401803  Acc: 87.9365 | last_lr: 5.00000e-03  bad_ep: 34  cdwn: 0 \n",
    "         08:29:23 | Ep: 100/ 200 | Trn loss:  0.267485 -  0.267485  Acc: 89.6919 | Val loss:  0.487438  -  0.487438  Acc: 87.9365 | last_lr: 5.00000e-03  bad_ep: 35  cdwn: 0\n",
    "         12:22:02 | Ep: 199/ 200 | Trn loss:  0.267485 -  0.267485  Acc: 89.6919 | Val loss:  0.487438  -  0.487438  Acc: 87.9365 | last_lr: 1.25000e-03  bad_ep: 12  cdwn: 0 \n",
    "    \n",
    "    \n",
    "    * 20240912_0700 - CellProfiles (1482) --->  4 layer FCN Batch Norm/Tanh 256/256/128\n",
    "    \n",
    "        18:10:13 | Ep: 100/ 200 | Trn loss:  0.013115 -  0.164907  Acc: 99.7359 | Val loss:  1.854780  -  0.885383  Acc: 81.6296 | last_lr: 1.25000e-03  bad_ep: 2  cdwn: 0  \n",
    "        22:01:08 | Ep: 199/ 200 | Trn loss:  0.000011 -  0.084685  Acc: 100.0000 | Val loss:  3.905227  -  1.915857  Acc: 81.0093 | last_lr: 1.56250e-04  bad_ep: 8  cdwn: 0\n",
    "        02:09:45 | Ep: 299/ 300 | Trn loss:  0.000000 -  0.056457  Acc: 100.0000 | Val loss:  5.124249  -  2.825850  Acc: 80.8565 | last_lr: 1.95313e-05  bad_ep: 15  cdwn: 0  \n",
    "\n",
    "\n",
    "    * 20241004_1600 - CellProfiles (1482) --->  4 layer FCN Batch Norm/Tanh 512/512/128\n",
    "    \n",
    "\n",
    "\n"
   ]
  },
  {
   "cell_type": "code",
   "execution_count": null,
   "id": "55c8b57c-e4c0-4738-ace6-000e87dbc8a4",
   "metadata": {},
   "outputs": [],
   "source": [
    "# end_epoch = 200\n",
    "# filename = f\"NN_snnl_embd600_150Ltnt_512_{ae_datetime}_{ae_ckpttype}_{RUN_DATETIME}_ep_{end_epoch}\"\n",
    "# print(filename)\n",
    "start_epoch, end_epoch\n",
    "start_epoch = end_epoch\n",
    "end_epoch += 100\n",
    "start_epoch, end_epoch\n",
    "\n",
    "# save_checkpoint(end_epoch, model, optimizer, scheduler, filename = filename, ckpt_path = \"model_ckpts\", verbose = False)"
   ]
  },
  {
   "cell_type": "code",
   "execution_count": null,
   "id": "646fdd3d-c116-4b57-a541-1da1919660cb",
   "metadata": {
    "scrolled": true
   },
   "outputs": [],
   "source": [
    "#         metrics['loss_trn'].append(trn_loss.item())\n",
    "#         metrics['acc_trn'].append(trn_acc)\n",
    "#         metrics['loss_val'].append(val_loss.item())\n",
    "#         metrics['acc_val'].append(val_acc)\n",
    "for idx, (trn_loss, trn_acc, val_loss, val_acc) in enumerate(zip(metrics['loss_trn'],metrics['acc_trn'],metrics['loss_val'],metrics['acc_val'])):\n",
    "    print(f\" {datetime.now().strftime('%X')} | Ep: {idx:3d}/{end_epoch:4d} | Trn loss: {trn_loss:9.6f} - Acc: {trn_acc:.4f} |\"\n",
    "      f\" Val loss: {val_loss:9.6f} - Acc: {val_acc:.4f} | \")"
   ]
  },
  {
   "cell_type": "code",
   "execution_count": null,
   "id": "1d30bd77-d0c6-4e00-b11e-6e8a4571957d",
   "metadata": {},
   "outputs": [],
   "source": []
  }
 ],
 "metadata": {
  "kernelspec": {
   "display_name": "Python [conda env:cp311]",
   "language": "python",
   "name": "conda-env-cp311-py"
  },
  "language_info": {
   "codemirror_mode": {
    "name": "ipython",
    "version": 3
   },
   "file_extension": ".py",
   "mimetype": "text/x-python",
   "name": "python",
   "nbconvert_exporter": "python",
   "pygments_lexer": "ipython3",
   "version": "3.11.4"
  }
 },
 "nbformat": 4,
 "nbformat_minor": 5
}
