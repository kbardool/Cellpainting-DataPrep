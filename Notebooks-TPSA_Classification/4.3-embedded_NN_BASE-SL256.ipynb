{
 "cells": [
  {
   "cell_type": "markdown",
   "id": "418c282c-2b25-4f32-96cf-883b40b84c36",
   "metadata": {
    "editable": true,
    "slideshow": {
     "slide_type": ""
    },
    "tags": []
   },
   "source": [
    "  # TPSA Classification Training on baseline embedding "
   ]
  },
  {
   "cell_type": "markdown",
   "id": "14da93a6-653f-4a55-9b3a-e72ab79a1121",
   "metadata": {},
   "source": [
    "# Setup"
   ]
  },
  {
   "cell_type": "code",
   "execution_count": 1,
   "id": "a104a277-3ad3-438a-b706-d4499f709f89",
   "metadata": {
    "ExecuteTime": {
     "end_time": "2023-04-12T10:29:16.111588Z",
     "start_time": "2023-04-12T10:29:15.764305Z"
    },
    "editable": true,
    "execution": {
     "iopub.execute_input": "2024-10-17T11:46:39.424260Z",
     "iopub.status.busy": "2024-10-17T11:46:39.423920Z",
     "iopub.status.idle": "2024-10-17T11:46:39.444897Z",
     "shell.execute_reply": "2024-10-17T11:46:39.444168Z",
     "shell.execute_reply.started": "2024-10-17T11:46:39.424231Z"
    },
    "slideshow": {
     "slide_type": ""
    },
    "tags": []
   },
   "outputs": [
    {
     "data": {
      "text/html": [
       "<style>.container { width:98% !important; }</style>"
      ],
      "text/plain": [
       "<IPython.core.display.HTML object>"
      ]
     },
     "metadata": {},
     "output_type": "display_data"
    }
   ],
   "source": [
    "%load_ext autoreload  \n",
    "%autoreload 2\n",
    "from IPython.display import display, HTML, Image\n",
    "from IPython.core.interactiveshell import InteractiveShell\n",
    "display(HTML(\"<style>.container { width:98% !important; }</style>\"))\n",
    "InteractiveShell.ast_node_interactivity = \"all\""
   ]
  },
  {
   "cell_type": "code",
   "execution_count": 2,
   "id": "7478f60a-2ea2-4407-bd91-f068349f222b",
   "metadata": {
    "ExecuteTime": {
     "end_time": "2023-04-12T10:29:16.111588Z",
     "start_time": "2023-04-12T10:29:15.764305Z"
    },
    "editable": true,
    "execution": {
     "iopub.execute_input": "2024-10-17T11:46:39.445989Z",
     "iopub.status.busy": "2024-10-17T11:46:39.445764Z",
     "iopub.status.idle": "2024-10-17T11:46:42.010917Z",
     "shell.execute_reply": "2024-10-17T11:46:42.010221Z",
     "shell.execute_reply.started": "2024-10-17T11:46:39.445955Z"
    },
    "slideshow": {
     "slide_type": ""
    },
    "tags": []
   },
   "outputs": [
    {
     "name": "stdout",
     "output_type": "stream",
     "text": [
      "insert ./src\n",
      "insert ../pt-snnl\n",
      "insert ../..\n",
      "['../..', '../pt-snnl', './src', '/home/kevin/WSL-shared/cellpainting/cj-datasets', '/home/kevin/miniforge3/envs/cp311/lib/python311.zip', '/home/kevin/miniforge3/envs/cp311/lib/python3.11', '/home/kevin/miniforge3/envs/cp311/lib/python3.11/lib-dynload', '', '/home/kevin/miniforge3/envs/cp311/lib/python3.11/site-packages', '/home/kevin/miniforge3/envs/cp311/lib/python3.11/site-packages/huggingface_hub-0.20.3-py3.8.egg']\n"
     ]
    },
    {
     "data": {
      "text/plain": [
       "<torch._C.Generator at 0x7f6ba8ccff10>"
      ]
     },
     "execution_count": 2,
     "metadata": {},
     "output_type": "execute_result"
    },
    {
     "data": {
      "text/plain": [
       "4"
      ]
     },
     "execution_count": 2,
     "metadata": {},
     "output_type": "execute_result"
    }
   ],
   "source": [
    "import os\n",
    "import sys\n",
    "import random\n",
    "from typing import List, Tuple\n",
    "from types import SimpleNamespace\n",
    "import pprint\n",
    "import logging\n",
    "from datetime import datetime\n",
    "for p in ['./src','../pt-snnl','../..']:\n",
    "    if p not in sys.path:\n",
    "        print(f\"insert {p}\")\n",
    "        sys.path.insert(0, p)\n",
    "print(sys.path)\n",
    "\n",
    "import tqdm\n",
    "import numpy as np\n",
    "import matplotlib.pyplot as plt\n",
    "import seaborn as sb\n",
    "import pandas as pd\n",
    "\n",
    "import scipy\n",
    "import scipy.stats as sps\n",
    "import sklearn.metrics as skm\n",
    "from scipy.spatial.distance import pdist, squareform, euclidean\n",
    "\n",
    "import torch\n",
    "import torch.nn as nn\n",
    "import torch.nn.functional as F\n",
    "import matplotlib.pyplot as plt  # for making figures\n",
    "from torchinfo import summary\n",
    "\n",
    "torch.set_printoptions(precision=None, threshold=None, edgeitems=None, linewidth=180, profile=None, sci_mode=None)\n",
    "torch.manual_seed(42);   # seed rng for reproducibility\n",
    "pp = pprint.PrettyPrinter(indent=4)\n",
    "pd.options.display.width = 132\n",
    "np.set_printoptions(edgeitems=3, infstr='inf', linewidth=150, nanstr='nan')\n",
    "\n",
    "os.environ[\"WANDB_NOTEBOOK_NAME\"] = \"AE-MAIN-SNNL.ipynb\"\n",
    "# os.environ[\"CUDA_LAUNCH_BLOCKING\"] = \"1\"\n",
    "os.environ[\"CUDA_VISIBLE_DEVICES\"] = \"0,1,2\"\n",
    "\n",
    "torch.set_num_threads(4)  ## <--- limit to ~ 2 CPUs\n",
    "torch.get_num_threads()"
   ]
  },
  {
   "cell_type": "code",
   "execution_count": 3,
   "id": "b939a031-286c-430c-890d-946ea497d8e3",
   "metadata": {
    "editable": true,
    "execution": {
     "iopub.execute_input": "2024-10-17T11:46:42.012169Z",
     "iopub.status.busy": "2024-10-17T11:46:42.011779Z",
     "iopub.status.idle": "2024-10-17T11:46:43.879317Z",
     "shell.execute_reply": "2024-10-17T11:46:43.878615Z",
     "shell.execute_reply.started": "2024-10-17T11:46:42.012133Z"
    },
    "slideshow": {
     "slide_type": ""
    },
    "tags": []
   },
   "outputs": [
    {
     "name": "stderr",
     "output_type": "stream",
     "text": [
      "/home/kevin/miniforge3/envs/cp311/lib/python3.11/site-packages/dask/dataframe/_pyarrow_compat.py:17: FutureWarning: Minimal version of pyarrow will soon be increased to 14.0.1. You are using 11.0.0. Please consider upgrading.\n",
      "  warnings.warn(\n"
     ]
    }
   ],
   "source": [
    "# from KevinsRoutines.utils.utils_general import list_namespace, save_to_pickle, load_from_pickle, get_device\n",
    "import KevinsRoutines.utils as myutils\n",
    "# import snnl.utils as utils\n",
    "# from utils.utils_ptsnnl import display_cellpainting_batch, get_device\n",
    "from utils.utils_cellpainting import label_counts, balance_datasets,save_checkpoint, load_checkpoint \n",
    "from utils.dataloader import custom_collate_fn,CellpaintingDataset, InfiniteDataLoader\n",
    "from utils.utils_notebooks import plot_cls_metrics, compute_classification_metrics, run_model_on_test_data,\\\n",
    "                                train, validation, accuracy_fn, fit, build_model, define_datasets"
   ]
  },
  {
   "cell_type": "code",
   "execution_count": 4,
   "id": "c48065ef-8765-4b2f-a448-3d0d0dbf3609",
   "metadata": {
    "execution": {
     "iopub.execute_input": "2024-10-17T11:46:43.883774Z",
     "iopub.status.busy": "2024-10-17T11:46:43.883592Z",
     "iopub.status.idle": "2024-10-17T11:46:44.650283Z",
     "shell.execute_reply": "2024-10-17T11:46:44.649415Z",
     "shell.execute_reply.started": "2024-10-17T11:46:43.883753Z"
    }
   },
   "outputs": [
    {
     "name": "stdout",
     "output_type": "stream",
     "text": [
      " Switched to: \"cuda:2\"   Device Name: NVIDIA TITAN Xp               \n"
     ]
    },
    {
     "data": {
      "text/plain": [
       "'cuda:2'"
      ]
     },
     "execution_count": 4,
     "metadata": {},
     "output_type": "execute_result"
    },
    {
     "name": "stdout",
     "output_type": "stream",
     "text": [
      "Dev Id   Device Name                    Total Memory                     InUse                            Free Memory \n",
      "   0     Quadro GV100                   34,069,872,640 B/ (31.73 GB)  \t 645,922,816 B / (0.60 GB)  \t 33,423,949,824 B / (31.13 GB)  \n",
      "   1     Quadro GV100                   34,069,872,640 B/ (31.73 GB)  \t 645,922,816 B / (0.60 GB)  \t 33,423,949,824 B / (31.13 GB)  \n",
      "   2     NVIDIA TITAN Xp                12,774,539,264 B/ (11.90 GB)  \t 392,298,496 B / (0.37 GB)  \t 12,382,240,768 B / (11.53 GB)   *** CURRENT DEVICE *** \n",
      "\n",
      " Current CUDA Device is:  \"cuda:2\"  Device Name: NVIDIA TITAN Xp\n",
      "cuda:2\n"
     ]
    }
   ],
   "source": [
    "# Set visible GPU device \n",
    "# ----------------------------------------------\n",
    "# os.environ[\"CUDA_VISIBLE_DEVICES\"] = '0'\n",
    "myutils.set_device(2);\n",
    "device = myutils.get_device(verbose = True);\n",
    "print(device)"
   ]
  },
  {
   "cell_type": "code",
   "execution_count": 5,
   "id": "c12352c5-443c-414b-bb2b-6ea5ba801515",
   "metadata": {
    "editable": true,
    "execution": {
     "iopub.execute_input": "2024-10-17T11:46:44.651985Z",
     "iopub.status.busy": "2024-10-17T11:46:44.651638Z",
     "iopub.status.idle": "2024-10-17T11:46:44.694310Z",
     "shell.execute_reply": "2024-10-17T11:46:44.693785Z",
     "shell.execute_reply.started": "2024-10-17T11:46:44.651962Z"
    },
    "scrolled": true,
    "slideshow": {
     "slide_type": ""
    },
    "tags": []
   },
   "outputs": [
    {
     "name": "stderr",
     "output_type": "stream",
     "text": [
      "2024-10-17 13:46:44,688 - __main__ - INFO: -  Excution started : 2024_10_17_13:46:44 \n",
      "2024-10-17 13:46:44,689 - __main__ - INFO: -  Pytorch version  : 2.2.0\n",
      "2024-10-17 13:46:44,690 - __main__ - INFO: -  Scipy version    : 1.11.4  \t\t Numpy version : 1.26.2\n",
      "2024-10-17 13:46:44,691 - __main__ - INFO: -  Pandas version   : 2.2.0  \n"
     ]
    }
   ],
   "source": [
    "timestamp = datetime.now().strftime('%Y_%m_%d_%H:%M:%S')\n",
    "logger = logging.getLogger(__name__)\n",
    "logLevel = os.environ.get('LOG_LEVEL', 'INFO').upper()\n",
    "FORMAT = '%(asctime)s - %(name)s - %(levelname)s: - %(message)s'\n",
    "logging.basicConfig(level=\"INFO\", format= FORMAT)\n",
    "logger.info(f\" Excution started : {timestamp} \")\n",
    "logger.info(f\" Pytorch version  : {torch.__version__}\")\n",
    "logger.info(f\" Scipy version    : {scipy.__version__}  \\t\\t Numpy version : {np.__version__}\")\n",
    "logger.info(f\" Pandas version   : {pd.__version__}  \")"
   ]
  },
  {
   "cell_type": "code",
   "execution_count": null,
   "id": "8e2e4e5e-7240-4dce-a643-821e51acf36a",
   "metadata": {},
   "outputs": [],
   "source": []
  },
  {
   "cell_type": "markdown",
   "id": "2953c069-cf3f-46b9-94e5-741525cf4232",
   "metadata": {},
   "source": [
    "# Args "
   ]
  },
  {
   "cell_type": "code",
   "execution_count": 6,
   "id": "6cd46cd3-05e4-4374-9a66-e5b8e9ef08fc",
   "metadata": {
    "editable": true,
    "execution": {
     "iopub.execute_input": "2024-10-17T11:46:50.261470Z",
     "iopub.status.busy": "2024-10-17T11:46:50.260995Z",
     "iopub.status.idle": "2024-10-17T11:46:50.301567Z",
     "shell.execute_reply": "2024-10-17T11:46:50.300900Z",
     "shell.execute_reply.started": "2024-10-17T11:46:50.261427Z"
    },
    "slideshow": {
     "slide_type": ""
    },
    "tags": []
   },
   "outputs": [
    {
     "name": "stdout",
     "output_type": "stream",
     "text": [
      " Seed value set to 9999 in random, np.random, and torch\n",
      "11\n",
      "261\n"
     ]
    }
   ],
   "source": [
    "SEED                = 9999\n",
    "LATENT_DIM          = 250\n",
    "COMPOUNDS_PER_BATCH = 600\n",
    "TPSA_THRESHOLD      = 100\n",
    "myutils.set_global_seed(SEED)\n",
    "\n",
    "# MODEL_TYPE = 'batch_norm'\n",
    "MODEL_TYPE = 'single_layer'\n",
    "# MODEL_TYPE = 'relu'\n",
    "\n",
    "n_input    = LATENT_DIM  # the embedding dimensionality \n",
    "n_hidden_1 = 256  # the number of neurons in the hidden layer of the MLP\n",
    "n_hidden_2 = 256  # the number of neurons in the hidden layer of the MLP\n",
    "n_hidden_3 = 128\n",
    "\n",
    "METADATA_COLS = ['Metadata_Source', 'Metadata_Batch', 'Metadata_Plate', 'Metadata_Well', 'Metadata_JCP2022', 'Metadata_Hash', 'Metadata_Bin', 'Metadata_TPSA', 'Metadata_lnTPSA', 'Metadata_log10TPSA', 'Metadata_Permiation']\n",
    "# METADATA_COLS += [f'Feature_{x:03d}' for x in range(LATENT_DIM)]\n",
    "input_cols = LATENT_DIM + len(METADATA_COLS)\n",
    "print(len(METADATA_COLS))\n",
    "print(input_cols)\n",
    "\n",
    "# OUTPUT_PATH = f\"/home/kevin/WSL-shared/cellpainting/cj-datasets/output_11102023/3_sample_embeddings/\"\n",
    "INPUT_PATH = f\"/home/kevin/WSL-shared/cellpainting/cj-datasets/output_11102023/3_sample_embeddings/\"\n",
    "CKPT_PATH = \"./saved_models/embedding_models\"\n",
    "\n",
    "# SNNL AUTOENCODERS \n",
    "# AE_RUNMODE = \"snnl\"\n",
    "# AE_DATETIME = \"20240718_1956\"\n",
    "# AE_DATETIME = \"20240906_2201\"     # Autoencoder training - SNNL, CPB = 600, Latent 150, WD = 0.001, SNN Factor 3\n",
    "# AE_DATETIME = \"20240917_2004\"     # Autoencoder training - SNNL, CPB = 600, Latent 250, WD = 0.001, SNN Factor 3\n",
    "\n",
    "## BASELINE AUTOENCODERS \n",
    "AE_RUNMODE = 'base'\n",
    "# AE_DATETIME = \"20240923_1943\"     # Autoencoder training - Baseline, CPB = 600, Latent 150, WD = 0.001 (SNN Factor 0)\n",
    "AE_DATETIME = \"20240917_2017\"     # Autoencoder training - Baseline, CPB = 600, Latent 250, WD = 0.001 (SNN Factor 0)\n",
    "\n",
    "# AE_CKPTTYPE = \"BEST\"\n",
    "AE_CKPTTYPE = \"LAST\""
   ]
  },
  {
   "cell_type": "code",
   "execution_count": 7,
   "id": "eda1f6ea-e344-4b74-966e-19afbe6f15e2",
   "metadata": {
    "execution": {
     "iopub.execute_input": "2024-10-17T11:47:04.116101Z",
     "iopub.status.busy": "2024-10-17T11:47:04.115603Z",
     "iopub.status.idle": "2024-10-17T11:47:04.152701Z",
     "shell.execute_reply": "2024-10-17T11:47:04.152026Z",
     "shell.execute_reply.started": "2024-10-17T11:47:04.116057Z"
    }
   },
   "outputs": [
    {
     "name": "stdout",
     "output_type": "stream",
     "text": [
      "20240926_1903\n"
     ]
    }
   ],
   "source": [
    "# RUN_DATETIME = datetime.now().strftime('%Y%m%d_%H%M')\n",
    "\n",
    "# RUN_DATETIME = '20241002_1915'   ## Baseline CPB 600, Latent 150  - Single layer 256\n",
    "# RUN_DATETIME = '20241002_1916'   ## Baseline CPB 600, Latent 150  - Single layer 256\n",
    "# RUN_DATETIME = '20241002_1917'   ## Baseline CPB 600, Latent 150  - Single layer 256\n",
    "# RUN_DATETIME = '20241002_1918'   ## Baseline CPB 600, Latent 150  - Single layer 256\n",
    " \n",
    "# RUN_DATETIME = '20240926_1900'   ## Baseline CPB 600, Latent 250  - Single layer 256\n",
    "# RUN_DATETIME = '20240926_1901'   ## Baseline CPB 600, Latent 250  - Single layer 256\n",
    "# RUN_DATETIME = '20240926_1902'   ## Baseline CPB 600, Latent 250  - Single layer 256\n",
    "RUN_DATETIME = '20240926_1903'   ## Baseline CPB 600, Latent 250  - Single layer 256\n",
    "\n",
    "# RUN_DATETIME = '20240927_2300'   ## Baseline CPB 600, Latent 250  - Single layer 512\n",
    "# RUN_DATETIME =                   ## Baseline CPB 600, Latent 250  - Balanced TPSA Labels - ReLU 256/256/128\n",
    "# RUN_DATETIME = '20240929_2000'   ## Baseline CPB 600, Latent 250  - Batch Norm 256/256/128\n",
    "# RUN_DATETIME = '20240929_1900'   ## Baseline CPB 600, Latent 250  - Batch Norm 512/512/128\n",
    "\n",
    "# RUN_DATETIME = '20240910_2315'   ## Baseline CPB 600, Latent 250  - Balanced TPSA Labels - Single layer 256\n",
    "# RUN_DATETIME = '20241003_2330'   ## Baseline CPB 600, Latent 250  - Balanced TPSA Labels - Single layer 512\n",
    "# RUN_DATETIME =                   ## Baseline CPB 600, Latent 250  - Balanced TPSA Labels - ReLU 256/256/128\n",
    "# RUN_DATETIME = '20240930_2100'   ## Baseline CPB 600, Latent 250  - Balanced TPSA labels - Batch Norm 256/256/128\n",
    "# RUN_DATETIME = '20241001_2100'   ## Baseline CPB 600, Latent 250  - Balanced TPSA labels - Batch Norm 512/512/256\n",
    "print(RUN_DATETIME)"
   ]
  },
  {
   "cell_type": "code",
   "execution_count": 8,
   "id": "d6a64a90-897f-4148-9618-d6f02fc40aaa",
   "metadata": {
    "execution": {
     "iopub.execute_input": "2024-10-17T11:47:06.135348Z",
     "iopub.status.busy": "2024-10-17T11:47:06.134490Z",
     "iopub.status.idle": "2024-10-17T11:47:06.170448Z",
     "shell.execute_reply": "2024-10-17T11:47:06.169836Z",
     "shell.execute_reply.started": "2024-10-17T11:47:06.135296Z"
    }
   },
   "outputs": [
    {
     "name": "stdout",
     "output_type": "stream",
     "text": [
      "NN_base_embd600_250Ltnt_512_20240917_2017_LAST_20240926_1903_ep_{ep}\n"
     ]
    }
   ],
   "source": [
    "CKPT_FILE = f\"NN_{AE_RUNMODE.lower()}_embd600_{LATENT_DIM}Ltnt_512_{AE_DATETIME}_{AE_CKPTTYPE}_{RUN_DATETIME}_ep_{{ep}}\"\n",
    "print(CKPT_FILE)"
   ]
  },
  {
   "cell_type": "code",
   "execution_count": 9,
   "id": "10caf953-60e3-4c04-b096-4ae6240b6a27",
   "metadata": {
    "execution": {
     "iopub.execute_input": "2024-10-17T11:47:06.726156Z",
     "iopub.status.busy": "2024-10-17T11:47:06.725944Z",
     "iopub.status.idle": "2024-10-17T11:47:06.755340Z",
     "shell.execute_reply": "2024-10-17T11:47:06.754458Z",
     "shell.execute_reply.started": "2024-10-17T11:47:06.726136Z"
    }
   },
   "outputs": [],
   "source": [
    "## total rows = 346,542\n",
    "## Trn file sz: 312,000 \n",
    "## Train      : 277,200    (312_000 - (21,600 + 12,600 + 600) = 277,200\n",
    "## Validation :  21,600\n",
    "## Test       :  12,600\n",
    "## Leftover   :     600\n",
    "cellpainting_args = {'compounds_per_batch': COMPOUNDS_PER_BATCH,\n",
    "                     'train_start'        : 0,\n",
    "                     'train_end'          : 277_200,\n",
    "                     'val_start'          : 0,\n",
    "                     'val_end'            : 21_600,\n",
    "                     'test_start'         : 0,\n",
    "                     'test_end'           : 12_600, \n",
    "                    }"
   ]
  },
  {
   "cell_type": "code",
   "execution_count": 10,
   "id": "7ef5adfe-2daa-4f35-a263-66bf0c97efa6",
   "metadata": {
    "execution": {
     "iopub.execute_input": "2024-10-17T11:47:08.799379Z",
     "iopub.status.busy": "2024-10-17T11:47:08.799145Z",
     "iopub.status.idle": "2024-10-17T11:47:08.863203Z",
     "shell.execute_reply": "2024-10-17T11:47:08.862481Z",
     "shell.execute_reply.started": "2024-10-17T11:47:08.799358Z"
    }
   },
   "outputs": [
    {
     "name": "stderr",
     "output_type": "stream",
     "text": [
      "2024-10-17 13:47:08,829 - utils.dataloader - INFO: -  Building CellPantingDataset for train\n",
      "2024-10-17 13:47:08,830 - utils.dataloader - INFO: -  filename:  /home/kevin/WSL-shared/cellpainting/cj-datasets/output_11102023/3_sample_embeddings/3smpl_prfl_embedding_261_HashOrder_base_20240917_2017_LAST_train.csv\n",
      "2024-10-17 13:47:08,831 - utils.dataloader - INFO: -  type    :  train\n",
      "2024-10-17 13:47:08,831 - utils.dataloader - INFO: -  start   :  0\n",
      "2024-10-17 13:47:08,832 - utils.dataloader - INFO: -  end     :  277200\n",
      "2024-10-17 13:47:08,833 - utils.dataloader - INFO: -  numrows :  277200\n",
      "2024-10-17 13:47:08,833 - utils.dataloader - INFO: -  names   :  None     usecols :  None\n",
      "2024-10-17 13:47:08,834 - utils.dataloader - INFO: -  batch_size  :  1\n",
      "2024-10-17 13:47:08,835 - utils.dataloader - INFO: -  sample_size :  3\n",
      "2024-10-17 13:47:08,835 - utils.dataloader - INFO: -  compounds_per_batch :  600\n",
      "2024-10-17 13:47:08,836 - utils.dataloader - INFO: -  rows per batch (chunksize) :  1800\n",
      "2024-10-17 13:47:08,836 - utils.dataloader - INFO: -  TPSA threshold :  100\n",
      "2024-10-17 13:47:08,837 - utils.dataloader - INFO: -  Each mini-batch contains 600.0 compounds with 3 samples per compound : total 1800 rows\n",
      "2024-10-17 13:47:08,838 - utils.dataloader - INFO: -  Number of 1800 row full size batches per epoch: 154\n",
      "2024-10-17 13:47:08,838 - utils.dataloader - INFO: -  Rows covered by 154 full size batches (1800 rows) per epoch:  277200\n",
      "2024-10-17 13:47:08,839 - utils.dataloader - INFO: -  Last partial batch contains : 0 rows\n",
      "2024-10-17 13:47:08,839 - utils.dataloader - INFO: -  \n",
      "2024-10-17 13:47:08,840 - utils.dataloader - INFO: -  Building CellPantingDataset for val\n",
      "2024-10-17 13:47:08,840 - utils.dataloader - INFO: -  filename:  /home/kevin/WSL-shared/cellpainting/cj-datasets/output_11102023/3_sample_embeddings/3smpl_prfl_embedding_261_HashOrder_base_20240917_2017_LAST_train_sub_val.csv\n",
      "2024-10-17 13:47:08,842 - utils.dataloader - INFO: -  type    :  val\n",
      "2024-10-17 13:47:08,842 - utils.dataloader - INFO: -  start   :  0\n",
      "2024-10-17 13:47:08,843 - utils.dataloader - INFO: -  end     :  21600\n",
      "2024-10-17 13:47:08,843 - utils.dataloader - INFO: -  numrows :  21600\n",
      "2024-10-17 13:47:08,843 - utils.dataloader - INFO: -  names   :  None     usecols :  None\n",
      "2024-10-17 13:47:08,844 - utils.dataloader - INFO: -  batch_size  :  1\n",
      "2024-10-17 13:47:08,844 - utils.dataloader - INFO: -  sample_size :  3\n",
      "2024-10-17 13:47:08,845 - utils.dataloader - INFO: -  compounds_per_batch :  600\n",
      "2024-10-17 13:47:08,845 - utils.dataloader - INFO: -  rows per batch (chunksize) :  1800\n",
      "2024-10-17 13:47:08,845 - utils.dataloader - INFO: -  TPSA threshold :  100\n",
      "2024-10-17 13:47:08,846 - utils.dataloader - INFO: -  Each mini-batch contains 600.0 compounds with 3 samples per compound : total 1800 rows\n",
      "2024-10-17 13:47:08,846 - utils.dataloader - INFO: -  Number of 1800 row full size batches per epoch: 12\n",
      "2024-10-17 13:47:08,847 - utils.dataloader - INFO: -  Rows covered by 12 full size batches (1800 rows) per epoch:  21600\n",
      "2024-10-17 13:47:08,847 - utils.dataloader - INFO: -  Last partial batch contains : 0 rows\n",
      "2024-10-17 13:47:08,848 - utils.dataloader - INFO: -  \n",
      "2024-10-17 13:47:08,851 - utils.dataloader - INFO: -  Building CellPantingDataset for test\n",
      "2024-10-17 13:47:08,851 - utils.dataloader - INFO: -  filename:  /home/kevin/WSL-shared/cellpainting/cj-datasets/output_11102023/3_sample_embeddings/3smpl_prfl_embedding_261_HashOrder_base_20240917_2017_LAST_train_sub_test.csv\n",
      "2024-10-17 13:47:08,852 - utils.dataloader - INFO: -  type    :  test\n",
      "2024-10-17 13:47:08,852 - utils.dataloader - INFO: -  start   :  0\n",
      "2024-10-17 13:47:08,853 - utils.dataloader - INFO: -  end     :  12600\n",
      "2024-10-17 13:47:08,854 - utils.dataloader - INFO: -  numrows :  12600\n",
      "2024-10-17 13:47:08,854 - utils.dataloader - INFO: -  names   :  None     usecols :  None\n",
      "2024-10-17 13:47:08,854 - utils.dataloader - INFO: -  batch_size  :  1\n",
      "2024-10-17 13:47:08,855 - utils.dataloader - INFO: -  sample_size :  3\n",
      "2024-10-17 13:47:08,855 - utils.dataloader - INFO: -  compounds_per_batch :  600\n",
      "2024-10-17 13:47:08,856 - utils.dataloader - INFO: -  rows per batch (chunksize) :  1800\n",
      "2024-10-17 13:47:08,856 - utils.dataloader - INFO: -  TPSA threshold :  100\n",
      "2024-10-17 13:47:08,857 - utils.dataloader - INFO: -  Each mini-batch contains 600.0 compounds with 3 samples per compound : total 1800 rows\n",
      "2024-10-17 13:47:08,857 - utils.dataloader - INFO: -  Number of 1800 row full size batches per epoch: 7\n",
      "2024-10-17 13:47:08,857 - utils.dataloader - INFO: -  Rows covered by 7 full size batches (1800 rows) per epoch:  12600\n",
      "2024-10-17 13:47:08,858 - utils.dataloader - INFO: -  Last partial batch contains : 0 rows\n",
      "2024-10-17 13:47:08,858 - utils.dataloader - INFO: -  \n"
     ]
    },
    {
     "name": "stdout",
     "output_type": "stream",
     "text": [
      " TRAIN_INPUT:  /home/kevin/WSL-shared/cellpainting/cj-datasets/output_11102023/3_sample_embeddings/3smpl_prfl_embedding_261_HashOrder_base_20240917_2017_LAST_train.csv\n",
      " TEST_INPUT :  /home/kevin/WSL-shared/cellpainting/cj-datasets/output_11102023/3_sample_embeddings/3smpl_prfl_embedding_261_HashOrder_base_20240917_2017_LAST_train_sub_test.csv\n",
      " ALL_INPUT  :  /home/kevin/WSL-shared/cellpainting/cj-datasets/output_11102023/3_sample_embeddings/3smpl_prfl_embedding_261_HashOrder_base_20240917_2017_LAST_train_sub_val.csv\n",
      " load {}\n",
      " Dataset size: 277200   rows per batch: 1800  tpsa_threshold: 100\n",
      " Dataset size: 21600   rows per batch: 1800  tpsa_threshold: 100\n",
      " Dataset size: 12600   rows per batch: 1800  tpsa_threshold: 100\n"
     ]
    }
   ],
   "source": [
    "data_loader = define_datasets(cellpainting_args, AE_RUNMODE, AE_DATETIME, input_cols, AE_CKPTTYPE, INPUT_PATH, tpsa_threshold=TPSA_THRESHOLD)"
   ]
  },
  {
   "attachments": {},
   "cell_type": "markdown",
   "id": "9af485a0-e4bd-4e05-8764-39a5d9f908c8",
   "metadata": {
    "jp-MarkdownHeadingCollapsed": true
   },
   "source": [
    "### Input Dataloader"
   ]
  },
  {
   "cell_type": "code",
   "execution_count": 48,
   "id": "417e03f3-163a-42d4-8055-7e39f9c3f8af",
   "metadata": {
    "editable": true,
    "execution": {
     "iopub.execute_input": "2024-10-16T22:59:08.698223Z",
     "iopub.status.busy": "2024-10-16T22:59:08.697743Z",
     "iopub.status.idle": "2024-10-16T22:59:08.734715Z",
     "shell.execute_reply": "2024-10-16T22:59:08.734010Z",
     "shell.execute_reply.started": "2024-10-16T22:59:08.698183Z"
    },
    "slideshow": {
     "slide_type": ""
    },
    "tags": []
   },
   "outputs": [],
   "source": [
    "# TRAIN_INPUT_FILE = f\"3smpl_prfl_embedding_{num_cols}_HashOrder_{ae_runmode}_{ae_datetime}_{ae_ckpttype}_train.csv\"\n",
    "# TEST_INPUT_FILE  = f\"3smpl_prfl_embedding_{num_cols}_HashOrder_{ae_runmode}_{ae_datetime}_{ae_ckpttype}_train_sub_test.csv\"\n",
    "# VAL_INPUT_FILE   = f\"3smpl_prfl_embedding_{num_cols}_HashOrder_{ae_runmode}_{ae_datetime}_{ae_ckpttype}_train_sub_val.csv\"\n",
    "# # ALL_INPUT_FILE   = f\"3smpl_prfl_embedding_{num_cols}_HashOrder_{ae_runmode}_{ae_datetime}_{ae_ckpttype}_sub_val.csv\"\n",
    "\n",
    "# print(TRAIN_INPUT_FILE)\n",
    "# print(TEST_INPUT_FILE)\n",
    "# print(VAL_INPUT_FILE)\n",
    "\n",
    "# TRAIN_INPUT = os.path.join(INPUT_PATH, TRAIN_INPUT_FILE)\n",
    "# TEST_INPUT  = os.path.join(INPUT_PATH, TEST_INPUT_FILE)\n",
    "# VAL_INPUT   = os.path.join(INPUT_PATH, VAL_INPUT_FILE)\n",
    "\n",
    "# print(f\" TRAIN_INPUT:  {TRAIN_INPUT}\")\n",
    "# print(f\" TEST_INPUT :  {TEST_INPUT }\")\n",
    "# print(f\" ALL_INPUT  :  {VAL_INPUT }\")"
   ]
  },
  {
   "cell_type": "code",
   "execution_count": 49,
   "id": "2752eccf-171a-4851-ae70-22771fffa4d3",
   "metadata": {
    "execution": {
     "iopub.execute_input": "2024-10-16T22:59:09.536429Z",
     "iopub.status.busy": "2024-10-16T22:59:09.536079Z",
     "iopub.status.idle": "2024-10-16T22:59:09.571422Z",
     "shell.execute_reply": "2024-10-16T22:59:09.570697Z",
     "shell.execute_reply.started": "2024-10-16T22:59:09.536401Z"
    }
   },
   "outputs": [],
   "source": [
    "## total rows = 346,542\n",
    "## Trn file sz: 312,000 \n",
    "## Train      : 277,200    (312_000 - (21,600 + 12,600 + 600) = 277,200\n",
    "## Validation :  21,600\n",
    "## Test       :  12,600\n",
    "## Leftover   :     600\n",
    "# cellpainting_args = {'sample_size': 3,\n",
    "#                      'batch_size': 1,\n",
    "#                      'compounds_per_batch': 600,\n",
    "#                      'training_path'  : TRAIN_INPUT,\n",
    "#                      'validation_path': TRAIN_INPUT,\n",
    "#                      'test_path'      : TRAIN_INPUT,\n",
    "#                      'train_start'    : 0,\n",
    "#                      'train_end'      : 277_200,  # 277,200 samples\n",
    "#                      'val_start'      : 277_200,  # \n",
    "#                      'val_end'        : 298_800,  # 21_600 samples\n",
    "#                      'test_start'     : 298_800,  # \n",
    "#                      'test_end'       : 311_400,  # 12_600 samples\n",
    "#                     }\n",
    "\n",
    "# cellpainting_args = {'compounds_per_batch': COMPOUNDS_PER_BATCH,\n",
    "#                      'training_path'      : TRAIN_INPUT,\n",
    "#                      'validation_path'    :  VAL_INPUT,\n",
    "#                      'test_path'          : TEST_INPUT,\n",
    "#                      'train_start'        : 0,\n",
    "#                      'train_end'          : 277_200,\n",
    "#                      'val_start'          : 0,\n",
    "#                      'val_end'            : 21_600,\n",
    "#                      'test_start'         : 0,\n",
    "#                      'test_end'           : 12_600,\n",
    "#                      'tpsa_threshold'     : 100\n",
    "#                     }"
   ]
  },
  {
   "cell_type": "code",
   "execution_count": 50,
   "id": "ac80b685-550e-43a7-b48d-af4518aa718a",
   "metadata": {
    "execution": {
     "iopub.execute_input": "2024-10-16T22:59:09.803779Z",
     "iopub.status.busy": "2024-10-16T22:59:09.803556Z",
     "iopub.status.idle": "2024-10-16T22:59:09.833762Z",
     "shell.execute_reply": "2024-10-16T22:59:09.833010Z",
     "shell.execute_reply.started": "2024-10-16T22:59:09.803758Z"
    }
   },
   "outputs": [],
   "source": [
    "# cellpainting_args"
   ]
  },
  {
   "cell_type": "code",
   "execution_count": 51,
   "id": "3dda57be-1cd6-4598-b05e-a1c8b68176df",
   "metadata": {
    "execution": {
     "iopub.execute_input": "2024-10-16T22:59:10.051419Z",
     "iopub.status.busy": "2024-10-16T22:59:10.051217Z",
     "iopub.status.idle": "2024-10-16T22:59:10.076609Z",
     "shell.execute_reply": "2024-10-16T22:59:10.075981Z",
     "shell.execute_reply.started": "2024-10-16T22:59:10.051400Z"
    },
    "scrolled": true
   },
   "outputs": [],
   "source": [
    "#### Load CellPainting Dataset\n",
    "# data : keys to the dataset settings (and resulting keys in output dictionary)\n",
    "# dataset = dict()\n",
    "# data_loader = dict()\n",
    "\n",
    "# print(f\" load {dataset}\")\n",
    "# for datatype in ['train', 'val', 'test']:\n",
    "#     dataset[datatype] = CellpaintingDataset(type = datatype, **cellpainting_args)\n",
    "#     data_loader[datatype] = InfiniteDataLoader(dataset = dataset[datatype], batch_size=1, shuffle = False, num_workers = 0, collate_fn = custom_collate_fn)"
   ]
  },
  {
   "cell_type": "code",
   "execution_count": 52,
   "id": "5465d0ad-2f89-45a5-9e48-a55da7c4fa47",
   "metadata": {
    "execution": {
     "iopub.execute_input": "2024-10-16T22:59:10.339647Z",
     "iopub.status.busy": "2024-10-16T22:59:10.339367Z",
     "iopub.status.idle": "2024-10-16T22:59:10.364570Z",
     "shell.execute_reply": "2024-10-16T22:59:10.363884Z",
     "shell.execute_reply.started": "2024-10-16T22:59:10.339628Z"
    },
    "scrolled": true
   },
   "outputs": [],
   "source": [
    "# %%timeit\n",
    "# for dataset in ['train', 'val', 'test']:\n",
    "#     for idx, batch in enumerate(data_loader[dataset]):\n",
    "#         print(batch[0].shape[0], batch[1].sum())\n",
    "#         # display_cellpainting_batch(idx, batch)\n",
    "#         if idx == 1:\n",
    "#             break"
   ]
  },
  {
   "cell_type": "code",
   "execution_count": 53,
   "id": "1247a1cd-eda6-4231-9603-feab85fea20d",
   "metadata": {
    "execution": {
     "iopub.execute_input": "2024-10-16T22:59:10.641572Z",
     "iopub.status.busy": "2024-10-16T22:59:10.641369Z",
     "iopub.status.idle": "2024-10-16T22:59:10.671286Z",
     "shell.execute_reply": "2024-10-16T22:59:10.670540Z",
     "shell.execute_reply.started": "2024-10-16T22:59:10.641554Z"
    }
   },
   "outputs": [],
   "source": [
    "# # -----------------------------------------\n",
    "# #  Count pos/neg labels in each dataset\n",
    "# # -----------------------------------------\n",
    "# for datatype in ['train', 'val', 'test']:\n",
    "#     MINIBATCH_SIZE = data_loader[datatype].dataset.sample_size * data_loader[datatype].dataset.compounds_per_batch\n",
    "#     print(f\" {datatype.capitalize()} Minibatch size : {MINIBATCH_SIZE} \\n\") \n",
    "#     minibatches = len(data_loader[datatype]) // MINIBATCH_SIZE\n",
    "#     ttl_rows = 0\n",
    "#     ttl_pos_labels = 0\n",
    "#     with tqdm.tqdm(enumerate(data_loader[datatype]), initial=0, total = minibatches, position=0, file=sys.stdout,\n",
    "#                    leave= False, desc=f\" Count labels \") as t_warmup:\n",
    "#         for batch_count, (batch_features, batch_labels, _, _, _, _, _) in t_warmup:\n",
    "#             ttl_rows += batch_labels.shape[0]\n",
    "#             ttl_pos_labels += batch_labels.sum()\n",
    "#     ttl_neg_labels = ttl_rows - ttl_pos_labels\n",
    "#     ttl = f\"\\n Dataset: {datatype} -  len of {datatype} data loader: {len(data_loader[datatype])}   number of batches: {minibatches}\"\n",
    "#     print(ttl)\n",
    "#     print('-'*len(ttl))\n",
    "#     print(f\" total rows     : {ttl_rows:7d}\")\n",
    "#     print(f\" total pos rows : {ttl_pos_labels:7.0f} - {ttl_pos_labels*100.0/ttl_rows:5.2f}%\")\n",
    "#     print(f\" total neg rows : {ttl_neg_labels:7.0f} - {ttl_neg_labels*100.0/ttl_rows:5.2f}%\")\n",
    "#     print()"
   ]
  },
  {
   "cell_type": "markdown",
   "id": "0424ff70-bcba-4702-bbb1-9d1871a5489d",
   "metadata": {},
   "source": [
    "     Minibatch size : 1800 \n",
    "                                                                                                 \n",
    "     Dataset: train - len of train data loader: 277200   number of batches: 154  \n",
    "    ------------------------------\n",
    "     total rows     :  277200\n",
    "     total pos rows :   33129 - 11.95%\n",
    "     total neg rows :  244071 - 88.05%\n",
    "\n",
    "     Dataset: val - len of val data loader: 21600   number of batches: 12\n",
    "    ------------------------------\n",
    "     total rows     :   21600\n",
    "     total pos rows :    2532 - 11.72%\n",
    "     total neg rows :   19068 - 88.28%\n",
    "    \n",
    "     Dataset: test - len of test data loader: 12600   number of batches: 7\n",
    "    ------------------------------\n",
    "     total rows     :   12600\n",
    "     total pos rows :    1431 - 11.36%\n",
    "     total neg rows :   11169 - 88.64%"
   ]
  },
  {
   "attachments": {},
   "cell_type": "markdown",
   "id": "84c48960-0808-47d4-bf2e-b0e5c00cace3",
   "metadata": {},
   "source": [
    "# Define Neural Net Model \n",
    "\n",
    " - **Single Hidden Layer - 256**\n",
    "    -  **202419002_1915** : Read from 20240923_1943 (Baseline - CPB 600, LAT 150)\n",
    "    -  **202419002_1916** :  \"      \"\n",
    "    -  **202419002_1917** :  \"      \"\n",
    "    -  **202419002_1918** :  \"      \"\n",
    "\n",
    "\n",
    " - **Single Hidden Layer - 256 - Balanced dataset**\n",
    "\n",
    "    - **20240926_1900** : Read from 20240917_2017 (BASELINE - CPB 600, LAT 250, SNN Factor 0) - balanced dataset\n",
    "\n",
    " - **Single Hidden Layer - 512**\n",
    "\n",
    "    -  **20240921_0700** : Run on 1 FC layers model (includes final layer), Input --> 512 --> Tanh --> 1 ,  Read from 20240906_2201 (SNNL - CPB 600, LAT 150, SNN Factor 3)    \n"
   ]
  },
  {
   "cell_type": "code",
   "execution_count": 11,
   "id": "f32c6590-d212-4f37-8ce1-4ee46fd4246a",
   "metadata": {
    "ExecuteTime": {
     "end_time": "2023-07-31T18:45:44.380055Z",
     "start_time": "2023-07-31T18:45:41.073911Z"
    },
    "execution": {
     "iopub.execute_input": "2024-10-17T11:47:13.398142Z",
     "iopub.status.busy": "2024-10-17T11:47:13.397719Z",
     "iopub.status.idle": "2024-10-17T11:47:13.512356Z",
     "shell.execute_reply": "2024-10-17T11:47:13.511678Z",
     "shell.execute_reply.started": "2024-10-17T11:47:13.398104Z"
    }
   },
   "outputs": [
    {
     "name": "stdout",
     "output_type": "stream",
     "text": [
      "==============================================================================================================================================================================================\n",
      "Layer (type:depth-idx)                   Input Shape               Output Shape              Param #                   Param %                   Mult-Adds                 Trainable\n",
      "==============================================================================================================================================================================================\n",
      "Sequential                               [30, 250]                 [30, 1]                   --                             --                   --                        True\n",
      "├─Linear: 1-1                            [30, 250]                 [30, 256]                 64,256                     99.60%                   1,927,680                 True\n",
      "│    └─weight                                                                                ├─64,000\n",
      "│    └─bias                                                                                  └─256\n",
      "├─Tanh: 1-2                              [30, 256]                 [30, 256]                 --                             --                   --                        --\n",
      "├─Linear: 1-3                            [30, 256]                 [30, 1]                   257                         0.40%                   7,710                     True\n",
      "│    └─weight                                                                                ├─256\n",
      "│    └─bias                                                                                  └─1\n",
      "==============================================================================================================================================================================================\n",
      "Total params: 64,513\n",
      "Trainable params: 64,513\n",
      "Non-trainable params: 0\n",
      "Total mult-adds (Units.MEGABYTES): 1.94\n",
      "==============================================================================================================================================================================================\n",
      "Input size (MB): 0.03\n",
      "Forward/backward pass size (MB): 0.06\n",
      "Params size (MB): 0.26\n",
      "Estimated Total Size (MB): 0.35\n",
      "==============================================================================================================================================================================================\n"
     ]
    }
   ],
   "source": [
    "\n",
    "model = build_model(MODEL_TYPE, input = n_input, hidden_1 = n_hidden_1, hidden_2 = n_hidden_2, hidden_3=n_hidden_3, device = device)\n"
   ]
  },
  {
   "cell_type": "code",
   "execution_count": 12,
   "id": "f70bcc18-ef70-46e1-a1a9-c61700f17acc",
   "metadata": {
    "ExecuteTime": {
     "end_time": "2023-07-31T18:48:09.459977Z",
     "start_time": "2023-07-31T18:48:09.429767Z"
    },
    "execution": {
     "iopub.execute_input": "2024-10-17T11:47:14.599372Z",
     "iopub.status.busy": "2024-10-17T11:47:14.598892Z",
     "iopub.status.idle": "2024-10-17T11:47:14.637081Z",
     "shell.execute_reply": "2024-10-17T11:47:14.636420Z",
     "shell.execute_reply.started": "2024-10-17T11:47:14.599337Z"
    }
   },
   "outputs": [],
   "source": [
    "metrics = { 'loss_trn' : [], 'acc_trn' : [], 'loss_val' : [], 'acc_val' : []}\n",
    "\n",
    "start_epoch, end_epoch = 0,0\n",
    "init_LR = 1.0e-3\n",
    "# curr_LR = init_LR\n",
    "\n",
    "# create a PyTorch optimizer\n",
    "optimizer = torch.optim.AdamW(model.parameters(), lr=init_LR)\n",
    "\n",
    "# scheduler = torch.optim.lr_scheduler.ReduceLROnPlateau(optimizer, mode = 'min', factor = 0.3 , patience=20, cooldown=10,)\n",
    "# scheduler = torch.optim.lr_scheduler.StepLR(optimizer, step_size = step_size, gamma=0.1, last_epoch =-1)\n",
    "scheduler = torch.optim.lr_scheduler.ReduceLROnPlateau(optimizer, mode = 'min', factor = 0.5, threshold=1.0e-06, patience=50, cooldown=10,)"
   ]
  },
  {
   "cell_type": "markdown",
   "id": "4cbb012c-1066-4a40-ba6d-8bd792e06ffb",
   "metadata": {},
   "source": [
    "### Read checkpoint"
   ]
  },
  {
   "cell_type": "code",
   "execution_count": 13,
   "id": "9d8cc5c1-a8b4-4488-ba18-c7b6180722ca",
   "metadata": {
    "execution": {
     "iopub.execute_input": "2024-10-17T11:47:14.833774Z",
     "iopub.status.busy": "2024-10-17T11:47:14.833563Z",
     "iopub.status.idle": "2024-10-17T11:47:14.859203Z",
     "shell.execute_reply": "2024-10-17T11:47:14.858552Z",
     "shell.execute_reply.started": "2024-10-17T11:47:14.833756Z"
    }
   },
   "outputs": [],
   "source": [
    "# loaded_epoch\n",
    "# optimizer.state_dict()\n",
    "# scheduler.state_dict()"
   ]
  },
  {
   "cell_type": "code",
   "execution_count": 14,
   "id": "9d093781-edac-4acb-a6ed-8c9f322228e4",
   "metadata": {
    "execution": {
     "iopub.execute_input": "2024-10-17T11:47:15.009932Z",
     "iopub.status.busy": "2024-10-17T11:47:15.009727Z",
     "iopub.status.idle": "2024-10-17T11:47:15.035315Z",
     "shell.execute_reply": "2024-10-17T11:47:15.034778Z",
     "shell.execute_reply.started": "2024-10-17T11:47:15.009913Z"
    }
   },
   "outputs": [],
   "source": [
    "# model, optimizer, scheudler, end_epoch = load_checkpoint(model, optimizer, scheduler, checkpoint_file.format(ep=100), ckpt_path = CKPT_PATH)\n",
    "# model = model.to(device)"
   ]
  },
  {
   "cell_type": "code",
   "execution_count": 15,
   "id": "9599cdd1-7434-4360-aa21-d8130696ffc3",
   "metadata": {
    "execution": {
     "iopub.execute_input": "2024-10-17T11:47:15.587857Z",
     "iopub.status.busy": "2024-10-17T11:47:15.587562Z",
     "iopub.status.idle": "2024-10-17T11:47:15.615630Z",
     "shell.execute_reply": "2024-10-17T11:47:15.614976Z",
     "shell.execute_reply.started": "2024-10-17T11:47:15.587836Z"
    }
   },
   "outputs": [],
   "source": [
    "# end_epoch\n",
    "# optimizer.state_dict()\n",
    "# scheduler.state_dict()"
   ]
  },
  {
   "cell_type": "markdown",
   "id": "5a53a7c8-de53-45ec-ac18-2519c89e3ce5",
   "metadata": {},
   "source": [
    "# Run Training"
   ]
  },
  {
   "cell_type": "code",
   "execution_count": 16,
   "id": "31ec54be-10d4-4b6e-85c9-8175fab24f02",
   "metadata": {
    "ExecuteTime": {
     "end_time": "2023-07-31T18:48:09.459977Z",
     "start_time": "2023-07-31T18:48:09.429767Z"
    },
    "execution": {
     "iopub.execute_input": "2024-10-17T11:47:15.965542Z",
     "iopub.status.busy": "2024-10-17T11:47:15.965336Z",
     "iopub.status.idle": "2024-10-17T11:47:15.994581Z",
     "shell.execute_reply": "2024-10-17T11:47:15.993917Z",
     "shell.execute_reply.started": "2024-10-17T11:47:15.965523Z"
    }
   },
   "outputs": [
    {
     "name": "stdout",
     "output_type": "stream",
     "text": [
      "0 400\n"
     ]
    }
   ],
   "source": [
    "start_epoch, end_epoch = 0,400\n",
    "# start_epoch = 0\n",
    "# start_epoch = loaded_epoch\n",
    "# start_epoch = end_epoch\n",
    "# end_epoch += 600\n",
    "print(start_epoch, end_epoch)\n",
    "_ = model.train()"
   ]
  },
  {
   "cell_type": "code",
   "execution_count": null,
   "id": "b26ae239-ec9d-4afc-aef9-387fa19d0ca0",
   "metadata": {
    "ExecuteTime": {
     "end_time": "2023-07-31T19:00:14.450630Z",
     "start_time": "2023-07-31T18:49:12.235999Z"
    },
    "execution": {
     "iopub.execute_input": "2024-10-17T11:47:17.720507Z",
     "iopub.status.busy": "2024-10-17T11:47:17.720082Z"
    },
    "scrolled": true
   },
   "outputs": [
    {
     "name": "stdout",
     "output_type": "stream",
     "text": [
      " 13:47:41 | Ep:   1/ 400 | Trn loss:  0.370747 - Acc: 87.7042 | Val loss:  0.356370 - Acc: 88.2778 | last_lr: 1.00000e-03  bad_ep: 0  cdwn: 0                              \n",
      " 13:48:03 | Ep:   2/ 400 | Trn loss:  0.360655 - Acc: 88.0599 | Val loss:  0.355653 - Acc: 88.2778 | last_lr: 1.00000e-03  bad_ep: 0  cdwn: 0                              \n",
      " 13:48:26 | Ep:   3/ 400 | Trn loss:  0.359535 - Acc: 88.0635 | Val loss:  0.355655 - Acc: 88.2778 | last_lr: 1.00000e-03  bad_ep: 1  cdwn: 0                              \n",
      " 13:48:49 | Ep:   4/ 400 | Trn loss:  0.358796 - Acc: 88.0657 | Val loss:  0.355857 - Acc: 88.2778 | last_lr: 1.00000e-03  bad_ep: 2  cdwn: 0                              \n",
      " 13:49:12 | Ep:   5/ 400 | Trn loss:  0.358233 - Acc: 88.0660 | Val loss:  0.356265 - Acc: 88.2778 | last_lr: 1.00000e-03  bad_ep: 3  cdwn: 0                              \n",
      " 13:49:34 | Ep:   6/ 400 | Trn loss:  0.357764 - Acc: 88.0664 | Val loss:  0.356739 - Acc: 88.2778 | last_lr: 1.00000e-03  bad_ep: 4  cdwn: 0                              \n",
      " 13:49:57 | Ep:   7/ 400 | Trn loss:  0.357337 - Acc: 88.0725 | Val loss:  0.357203 - Acc: 88.2685 | last_lr: 1.00000e-03  bad_ep: 5  cdwn: 0                              \n",
      " 13:50:20 | Ep:   8/ 400 | Trn loss:  0.356937 - Acc: 88.0740 | Val loss:  0.357675 - Acc: 88.2685 | last_lr: 1.00000e-03  bad_ep: 6  cdwn: 0                              \n",
      " 13:50:42 | Ep:   9/ 400 | Trn loss:  0.356540 - Acc: 88.0747 | Val loss:  0.358199 - Acc: 88.2731 | last_lr: 1.00000e-03  bad_ep: 7  cdwn: 0                              \n",
      " 13:51:07 | Ep:  10/ 400 | Trn loss:  0.356159 - Acc: 88.0776 | Val loss:  0.358634 - Acc: 88.2685 | last_lr: 1.00000e-03  bad_ep: 8  cdwn: 0                              \n",
      " 13:51:32 | Ep:  11/ 400 | Trn loss:  0.355787 - Acc: 88.0772 | Val loss:  0.359076 - Acc: 88.2731 | last_lr: 1.00000e-03  bad_ep: 9  cdwn: 0                              \n",
      " 13:51:57 | Ep:  12/ 400 | Trn loss:  0.355427 - Acc: 88.0790 | Val loss:  0.359485 - Acc: 88.2731 | last_lr: 1.00000e-03  bad_ep: 10  cdwn: 0                             \n",
      " 13:52:22 | Ep:  13/ 400 | Trn loss:  0.355080 - Acc: 88.0812 | Val loss:  0.359905 - Acc: 88.2731 | last_lr: 1.00000e-03  bad_ep: 11  cdwn: 0                             \n",
      " 13:52:47 | Ep:  14/ 400 | Trn loss:  0.354710 - Acc: 88.0841 | Val loss:  0.360300 - Acc: 88.2685 | last_lr: 1.00000e-03  bad_ep: 12  cdwn: 0                             \n",
      " 13:53:13 | Ep:  15/ 400 | Trn loss:  0.354351 - Acc: 88.0830 | Val loss:  0.360608 - Acc: 88.2639 | last_lr: 1.00000e-03  bad_ep: 13  cdwn: 0                             \n",
      " 13:53:36 | Ep:  16/ 400 | Trn loss:  0.353980 - Acc: 88.0851 | Val loss:  0.360815 - Acc: 88.2685 | last_lr: 1.00000e-03  bad_ep: 14  cdwn: 0                             \n",
      " 13:53:59 | Ep:  17/ 400 | Trn loss:  0.353616 - Acc: 88.0877 | Val loss:  0.361032 - Acc: 88.2731 | last_lr: 1.00000e-03  bad_ep: 15  cdwn: 0                             \n",
      " 13:54:24 | Ep:  18/ 400 | Trn loss:  0.353232 - Acc: 88.0898 | Val loss:  0.361250 - Acc: 88.2778 | last_lr: 1.00000e-03  bad_ep: 16  cdwn: 0                             \n",
      " 13:54:49 | Ep:  19/ 400 | Trn loss:  0.352856 - Acc: 88.0924 | Val loss:  0.361404 - Acc: 88.2778 | last_lr: 1.00000e-03  bad_ep: 17  cdwn: 0                             \n",
      " 13:55:14 | Ep:  20/ 400 | Trn loss:  0.352453 - Acc: 88.0960 | Val loss:  0.361488 - Acc: 88.2778 | last_lr: 1.00000e-03  bad_ep: 18  cdwn: 0                             \n",
      " 13:55:39 | Ep:  21/ 400 | Trn loss:  0.352057 - Acc: 88.0981 | Val loss:  0.361558 - Acc: 88.2870 | last_lr: 1.00000e-03  bad_ep: 19  cdwn: 0                             \n",
      " 13:56:05 | Ep:  22/ 400 | Trn loss:  0.351686 - Acc: 88.0996 | Val loss:  0.361686 - Acc: 88.2870 | last_lr: 1.00000e-03  bad_ep: 20  cdwn: 0                             \n",
      " 13:56:32 | Ep:  23/ 400 | Trn loss:  0.351304 - Acc: 88.1025 | Val loss:  0.361755 - Acc: 88.2824 | last_lr: 1.00000e-03  bad_ep: 21  cdwn: 0                             \n",
      " 13:56:57 | Ep:  24/ 400 | Trn loss:  0.350919 - Acc: 88.1061 | Val loss:  0.361809 - Acc: 88.2824 | last_lr: 1.00000e-03  bad_ep: 22  cdwn: 0                             \n",
      " 13:57:22 | Ep:  25/ 400 | Trn loss:  0.350540 - Acc: 88.1064 | Val loss:  0.361907 - Acc: 88.2824 | last_lr: 1.00000e-03  bad_ep: 23  cdwn: 0                             \n",
      " 13:57:47 | Ep:  26/ 400 | Trn loss:  0.350153 - Acc: 88.1104 | Val loss:  0.362007 - Acc: 88.2824 | last_lr: 1.00000e-03  bad_ep: 24  cdwn: 0                             \n",
      " 13:58:11 | Ep:  27/ 400 | Trn loss:  0.349785 - Acc: 88.1136 | Val loss:  0.362006 - Acc: 88.2870 | last_lr: 1.00000e-03  bad_ep: 25  cdwn: 0                             \n",
      " 13:58:33 | Ep:  28/ 400 | Trn loss:  0.349423 - Acc: 88.1187 | Val loss:  0.362117 - Acc: 88.2870 | last_lr: 1.00000e-03  bad_ep: 26  cdwn: 0                             \n",
      " 13:58:56 | Ep:  29/ 400 | Trn loss:  0.349035 - Acc: 88.1227 | Val loss:  0.362154 - Acc: 88.2870 | last_lr: 1.00000e-03  bad_ep: 27  cdwn: 0                             \n",
      " 13:59:18 | Ep:  30/ 400 | Trn loss:  0.348667 - Acc: 88.1245 | Val loss:  0.362262 - Acc: 88.2963 | last_lr: 1.00000e-03  bad_ep: 28  cdwn: 0                             \n",
      " 13:59:40 | Ep:  31/ 400 | Trn loss:  0.348314 - Acc: 88.1245 | Val loss:  0.362343 - Acc: 88.2963 | last_lr: 1.00000e-03  bad_ep: 29  cdwn: 0                             \n",
      " 14:00:03 | Ep:  32/ 400 | Trn loss:  0.347964 - Acc: 88.1299 | Val loss:  0.362535 - Acc: 88.2870 | last_lr: 1.00000e-03  bad_ep: 30  cdwn: 0                             \n",
      " 14:00:25 | Ep:  33/ 400 | Trn loss:  0.347611 - Acc: 88.1328 | Val loss:  0.362712 - Acc: 88.2917 | last_lr: 1.00000e-03  bad_ep: 31  cdwn: 0                             \n",
      " 14:00:48 | Ep:  34/ 400 | Trn loss:  0.347265 - Acc: 88.1389 | Val loss:  0.362868 - Acc: 88.2963 | last_lr: 1.00000e-03  bad_ep: 32  cdwn: 0                             \n",
      " 14:01:10 | Ep:  35/ 400 | Trn loss:  0.346944 - Acc: 88.1407 | Val loss:  0.363021 - Acc: 88.2917 | last_lr: 1.00000e-03  bad_ep: 33  cdwn: 0                             \n",
      " 14:01:32 | Ep:  36/ 400 | Trn loss:  0.346581 - Acc: 88.1378 | Val loss:  0.363185 - Acc: 88.3009 | last_lr: 1.00000e-03  bad_ep: 34  cdwn: 0                             \n",
      " 14:01:55 | Ep:  37/ 400 | Trn loss:  0.346257 - Acc: 88.1407 | Val loss:  0.363242 - Acc: 88.2917 | last_lr: 1.00000e-03  bad_ep: 35  cdwn: 0                             \n",
      " 14:02:17 | Ep:  38/ 400 | Trn loss:  0.345885 - Acc: 88.1432 | Val loss:  0.363429 - Acc: 88.2917 | last_lr: 1.00000e-03  bad_ep: 36  cdwn: 0                             \n",
      " 14:02:40 | Ep:  39/ 400 | Trn loss:  0.345576 - Acc: 88.1443 | Val loss:  0.363651 - Acc: 88.2824 | last_lr: 1.00000e-03  bad_ep: 37  cdwn: 0                             \n",
      " 14:03:02 | Ep:  40/ 400 | Trn loss:  0.345237 - Acc: 88.1483 | Val loss:  0.363772 - Acc: 88.2917 | last_lr: 1.00000e-03  bad_ep: 38  cdwn: 0                             \n",
      " 14:03:24 | Ep:  41/ 400 | Trn loss:  0.344941 - Acc: 88.1465 | Val loss:  0.363899 - Acc: 88.2917 | last_lr: 1.00000e-03  bad_ep: 39  cdwn: 0                             \n",
      " 14:03:46 | Ep:  42/ 400 | Trn loss:  0.344632 - Acc: 88.1515 | Val loss:  0.364051 - Acc: 88.2917 | last_lr: 1.00000e-03  bad_ep: 40  cdwn: 0                             \n",
      " 14:04:09 | Ep:  43/ 400 | Trn loss:  0.344343 - Acc: 88.1512 | Val loss:  0.364282 - Acc: 88.2824 | last_lr: 1.00000e-03  bad_ep: 41  cdwn: 0                             \n",
      " 14:04:31 | Ep:  44/ 400 | Trn loss:  0.344075 - Acc: 88.1580 | Val loss:  0.364454 - Acc: 88.2963 | last_lr: 1.00000e-03  bad_ep: 42  cdwn: 0                             \n",
      " 14:04:53 | Ep:  45/ 400 | Trn loss:  0.343799 - Acc: 88.1638 | Val loss:  0.364649 - Acc: 88.2778 | last_lr: 1.00000e-03  bad_ep: 43  cdwn: 0                             \n",
      " 14:05:16 | Ep:  46/ 400 | Trn loss:  0.343532 - Acc: 88.1667 | Val loss:  0.364929 - Acc: 88.2778 | last_lr: 1.00000e-03  bad_ep: 44  cdwn: 0                             \n",
      " 14:05:39 | Ep:  47/ 400 | Trn loss:  0.343266 - Acc: 88.1696 | Val loss:  0.365030 - Acc: 88.2824 | last_lr: 1.00000e-03  bad_ep: 45  cdwn: 0                             \n",
      " 14:06:01 | Ep:  48/ 400 | Trn loss:  0.343029 - Acc: 88.1703 | Val loss:  0.365222 - Acc: 88.2824 | last_lr: 1.00000e-03  bad_ep: 46  cdwn: 0                             \n",
      " 14:06:24 | Ep:  49/ 400 | Trn loss:  0.342765 - Acc: 88.1717 | Val loss:  0.365408 - Acc: 88.2731 | last_lr: 1.00000e-03  bad_ep: 47  cdwn: 0                             \n",
      " 14:06:46 | Ep:  50/ 400 | Trn loss:  0.342518 - Acc: 88.1782 | Val loss:  0.365524 - Acc: 88.2639 | last_lr: 1.00000e-03  bad_ep: 48  cdwn: 0                             \n",
      " 14:07:09 | Ep:  51/ 400 | Trn loss:  0.342288 - Acc: 88.1797 | Val loss:  0.365622 - Acc: 88.2778 | last_lr: 1.00000e-03  bad_ep: 49  cdwn: 0                             \n",
      " 14:07:32 | Ep:  52/ 400 | Trn loss:  0.342049 - Acc: 88.1811 | Val loss:  0.365762 - Acc: 88.2731 | last_lr: 1.00000e-03  bad_ep: 50  cdwn: 0                             \n",
      " 14:07:55 | Ep:  53/ 400 | Trn loss:  0.341825 - Acc: 88.1829 | Val loss:  0.365906 - Acc: 88.2778 | last_lr: 5.00000e-04  bad_ep: 0  cdwn: 10                             \n",
      " 14:08:18 | Ep:  54/ 400 | Trn loss:  0.340136 - Acc: 88.1923 | Val loss:  0.359983 - Acc: 88.2731 | last_lr: 5.00000e-04  bad_ep: 0  cdwn: 9                              \n",
      " 14:08:40 | Ep:  55/ 400 | Trn loss:  0.339718 - Acc: 88.1901 | Val loss:  0.360253 - Acc: 88.2870 | last_lr: 5.00000e-04  bad_ep: 0  cdwn: 8                              \n",
      " 14:09:03 | Ep:  56/ 400 | Trn loss:  0.339486 - Acc: 88.1941 | Val loss:  0.360506 - Acc: 88.2778 | last_lr: 5.00000e-04  bad_ep: 0  cdwn: 7                              \n",
      " 14:09:25 | Ep:  57/ 400 | Trn loss:  0.339300 - Acc: 88.1941 | Val loss:  0.360748 - Acc: 88.2685 | last_lr: 5.00000e-04  bad_ep: 0  cdwn: 6                              \n",
      " 14:09:48 | Ep:  58/ 400 | Trn loss:  0.339133 - Acc: 88.1970 | Val loss:  0.360982 - Acc: 88.2731 | last_lr: 5.00000e-04  bad_ep: 0  cdwn: 5                              \n",
      " 14:10:11 | Ep:  59/ 400 | Trn loss:  0.338978 - Acc: 88.1991 | Val loss:  0.361205 - Acc: 88.2731 | last_lr: 5.00000e-04  bad_ep: 0  cdwn: 4                              \n",
      " 14:10:35 | Ep:  60/ 400 | Trn loss:  0.338835 - Acc: 88.2013 | Val loss:  0.361418 - Acc: 88.2731 | last_lr: 5.00000e-04  bad_ep: 0  cdwn: 3                              \n",
      " 14:10:58 | Ep:  61/ 400 | Trn loss:  0.338697 - Acc: 88.2013 | Val loss:  0.361611 - Acc: 88.2731 | last_lr: 5.00000e-04  bad_ep: 0  cdwn: 2                              \n",
      " 14:11:20 | Ep:  62/ 400 | Trn loss:  0.338570 - Acc: 88.2017 | Val loss:  0.361783 - Acc: 88.2778 | last_lr: 5.00000e-04  bad_ep: 0  cdwn: 1                              \n",
      " 14:11:43 | Ep:  63/ 400 | Trn loss:  0.338435 - Acc: 88.2031 | Val loss:  0.361923 - Acc: 88.2731 | last_lr: 5.00000e-04  bad_ep: 0  cdwn: 0                              \n",
      " 14:12:06 | Ep:  64/ 400 | Trn loss:  0.338317 - Acc: 88.2049 | Val loss:  0.362056 - Acc: 88.2778 | last_lr: 5.00000e-04  bad_ep: 1  cdwn: 0                              \n",
      " 14:12:29 | Ep:  65/ 400 | Trn loss:  0.338199 - Acc: 88.2067 | Val loss:  0.362199 - Acc: 88.2778 | last_lr: 5.00000e-04  bad_ep: 2  cdwn: 0                              \n",
      " 14:12:53 | Ep:  66/ 400 | Trn loss:  0.338088 - Acc: 88.2074 | Val loss:  0.362329 - Acc: 88.2824 | last_lr: 5.00000e-04  bad_ep: 3  cdwn: 0                              \n",
      " 14:13:16 | Ep:  67/ 400 | Trn loss:  0.337978 - Acc: 88.2078 | Val loss:  0.362456 - Acc: 88.2731 | last_lr: 5.00000e-04  bad_ep: 4  cdwn: 0                              \n",
      " 14:13:39 | Ep:  68/ 400 | Trn loss:  0.337873 - Acc: 88.2078 | Val loss:  0.362576 - Acc: 88.2639 | last_lr: 5.00000e-04  bad_ep: 5  cdwn: 0                              \n",
      " 14:14:01 | Ep:  69/ 400 | Trn loss:  0.337768 - Acc: 88.2114 | Val loss:  0.362703 - Acc: 88.2685 | last_lr: 5.00000e-04  bad_ep: 6  cdwn: 0                              \n",
      " 14:14:25 | Ep:  70/ 400 | Trn loss:  0.337667 - Acc: 88.2136 | Val loss:  0.362809 - Acc: 88.2685 | last_lr: 5.00000e-04  bad_ep: 7  cdwn: 0                              \n",
      " 14:14:48 | Ep:  71/ 400 | Trn loss:  0.337574 - Acc: 88.2146 | Val loss:  0.362922 - Acc: 88.2546 | last_lr: 5.00000e-04  bad_ep: 8  cdwn: 0                              \n",
      " 14:15:10 | Ep:  72/ 400 | Trn loss:  0.337470 - Acc: 88.2161 | Val loss:  0.363040 - Acc: 88.2546 | last_lr: 5.00000e-04  bad_ep: 9  cdwn: 0                              \n",
      " 14:15:32 | Ep:  73/ 400 | Trn loss:  0.337374 - Acc: 88.2193 | Val loss:  0.363142 - Acc: 88.2454 | last_lr: 5.00000e-04  bad_ep: 10  cdwn: 0                             \n",
      " 14:15:55 | Ep:  74/ 400 | Trn loss:  0.337280 - Acc: 88.2208 | Val loss:  0.363242 - Acc: 88.2454 | last_lr: 5.00000e-04  bad_ep: 11  cdwn: 0                             \n",
      " 14:16:17 | Ep:  75/ 400 | Trn loss:  0.337184 - Acc: 88.2179 | Val loss:  0.363360 - Acc: 88.2454 | last_lr: 5.00000e-04  bad_ep: 12  cdwn: 0                             \n",
      " 14:16:40 | Ep:  76/ 400 | Trn loss:  0.337094 - Acc: 88.2215 | Val loss:  0.363454 - Acc: 88.2546 | last_lr: 5.00000e-04  bad_ep: 13  cdwn: 0                             \n",
      " 14:17:03 | Ep:  77/ 400 | Trn loss:  0.337006 - Acc: 88.2219 | Val loss:  0.363547 - Acc: 88.2500 | last_lr: 5.00000e-04  bad_ep: 14  cdwn: 0                             \n",
      " 14:17:27 | Ep:  78/ 400 | Trn loss:  0.336922 - Acc: 88.2222 | Val loss:  0.363636 - Acc: 88.2546 | last_lr: 5.00000e-04  bad_ep: 15  cdwn: 0                             \n",
      " 14:17:49 | Ep:  79/ 400 | Trn loss:  0.336832 - Acc: 88.2255 | Val loss:  0.363724 - Acc: 88.2546 | last_lr: 5.00000e-04  bad_ep: 16  cdwn: 0                             \n",
      " 14:18:11 | Ep:  80/ 400 | Trn loss:  0.336746 - Acc: 88.2284 | Val loss:  0.363815 - Acc: 88.2454 | last_lr: 5.00000e-04  bad_ep: 17  cdwn: 0                             \n",
      " 14:18:34 | Ep:  81/ 400 | Trn loss:  0.336661 - Acc: 88.2309 | Val loss:  0.363924 - Acc: 88.2454 | last_lr: 5.00000e-04  bad_ep: 18  cdwn: 0                             \n",
      " 14:18:56 | Ep:  82/ 400 | Trn loss:  0.336578 - Acc: 88.2305 | Val loss:  0.364030 - Acc: 88.2407 | last_lr: 5.00000e-04  bad_ep: 19  cdwn: 0                             \n",
      " 14:19:19 | Ep:  83/ 400 | Trn loss:  0.336497 - Acc: 88.2312 | Val loss:  0.364128 - Acc: 88.2315 | last_lr: 5.00000e-04  bad_ep: 20  cdwn: 0                             \n",
      " 14:19:41 | Ep:  84/ 400 | Trn loss:  0.336416 - Acc: 88.2291 | Val loss:  0.364222 - Acc: 88.2315 | last_lr: 5.00000e-04  bad_ep: 21  cdwn: 0                             \n",
      " 14:20:03 | Ep:  85/ 400 | Trn loss:  0.336332 - Acc: 88.2309 | Val loss:  0.364300 - Acc: 88.2407 | last_lr: 5.00000e-04  bad_ep: 22  cdwn: 0                             \n",
      " 14:20:26 | Ep:  86/ 400 | Trn loss:  0.336249 - Acc: 88.2305 | Val loss:  0.364387 - Acc: 88.2454 | last_lr: 5.00000e-04  bad_ep: 23  cdwn: 0                             \n",
      " 14:20:48 | Ep:  87/ 400 | Trn loss:  0.336169 - Acc: 88.2316 | Val loss:  0.364457 - Acc: 88.2500 | last_lr: 5.00000e-04  bad_ep: 24  cdwn: 0                             \n",
      " 14:21:11 | Ep:  88/ 400 | Trn loss:  0.336091 - Acc: 88.2352 | Val loss:  0.364552 - Acc: 88.2500 | last_lr: 5.00000e-04  bad_ep: 25  cdwn: 0                             \n",
      " 14:21:33 | Ep:  89/ 400 | Trn loss:  0.336018 - Acc: 88.2359 | Val loss:  0.364640 - Acc: 88.2454 | last_lr: 5.00000e-04  bad_ep: 26  cdwn: 0                             \n",
      " 14:21:55 | Ep:  90/ 400 | Trn loss:  0.335943 - Acc: 88.2367 | Val loss:  0.364746 - Acc: 88.2454 | last_lr: 5.00000e-04  bad_ep: 27  cdwn: 0                             \n",
      " 14:22:17 | Ep:  91/ 400 | Trn loss:  0.335872 - Acc: 88.2367 | Val loss:  0.364834 - Acc: 88.2361 | last_lr: 5.00000e-04  bad_ep: 28  cdwn: 0                             \n",
      " 14:22:40 | Ep:  92/ 400 | Trn loss:  0.335800 - Acc: 88.2352 | Val loss:  0.364939 - Acc: 88.2361 | last_lr: 5.00000e-04  bad_ep: 29  cdwn: 0                             \n",
      " 14:23:02 | Ep:  93/ 400 | Trn loss:  0.335732 - Acc: 88.2363 | Val loss:  0.365017 - Acc: 88.2269 | last_lr: 5.00000e-04  bad_ep: 30  cdwn: 0                             \n",
      " 14:23:25 | Ep:  94/ 400 | Trn loss:  0.335661 - Acc: 88.2374 | Val loss:  0.365115 - Acc: 88.2269 | last_lr: 5.00000e-04  bad_ep: 31  cdwn: 0                             \n",
      " 14:23:47 | Ep:  95/ 400 | Trn loss:  0.335593 - Acc: 88.2388 | Val loss:  0.365209 - Acc: 88.2315 | last_lr: 5.00000e-04  bad_ep: 32  cdwn: 0                             \n",
      " 14:24:10 | Ep:  96/ 400 | Trn loss:  0.335529 - Acc: 88.2367 | Val loss:  0.365290 - Acc: 88.2315 | last_lr: 5.00000e-04  bad_ep: 33  cdwn: 0                             \n",
      " 14:24:33 | Ep:  97/ 400 | Trn loss:  0.335464 - Acc: 88.2367 | Val loss:  0.365386 - Acc: 88.2361 | last_lr: 5.00000e-04  bad_ep: 34  cdwn: 0                             \n",
      " 14:24:55 | Ep:  98/ 400 | Trn loss:  0.335403 - Acc: 88.2356 | Val loss:  0.365493 - Acc: 88.2361 | last_lr: 5.00000e-04  bad_ep: 35  cdwn: 0                             \n",
      " 14:25:18 | Ep:  99/ 400 | Trn loss:  0.335339 - Acc: 88.2377 | Val loss:  0.365573 - Acc: 88.2361 | last_lr: 5.00000e-04  bad_ep: 36  cdwn: 0                             \n",
      "                                                                                                                                                                           "
     ]
    },
    {
     "name": "stderr",
     "output_type": "stream",
     "text": [
      "2024-10-17 14:25:41,083 - utils.utils_cellpainting - INFO: -  Model exported to NN_base_embd600_250Ltnt_512_20240917_2017_LAST_20240926_1903_ep_100.pt - epoch: 100\n"
     ]
    },
    {
     "name": "stdout",
     "output_type": "stream",
     "text": [
      " 14:25:41 | Ep: 100/ 400 | Trn loss:  0.335278 - Acc: 88.2388 | Val loss:  0.365668 - Acc: 88.2315 | last_lr: 5.00000e-04  bad_ep: 37  cdwn: 0 \n",
      " 14:26:03 | Ep: 101/ 400 | Trn loss:  0.335213 - Acc: 88.2367 | Val loss:  0.365766 - Acc: 88.2269 | last_lr: 5.00000e-04  bad_ep: 38  cdwn: 0                             \n",
      " 14:26:25 | Ep: 102/ 400 | Trn loss:  0.335151 - Acc: 88.2399 | Val loss:  0.365856 - Acc: 88.2269 | last_lr: 5.00000e-04  bad_ep: 39  cdwn: 0                             \n",
      " 14:26:48 | Ep: 103/ 400 | Trn loss:  0.335089 - Acc: 88.2403 | Val loss:  0.365939 - Acc: 88.2269 | last_lr: 5.00000e-04  bad_ep: 40  cdwn: 0                             \n",
      " 14:27:10 | Ep: 104/ 400 | Trn loss:  0.335027 - Acc: 88.2435 | Val loss:  0.366005 - Acc: 88.2176 | last_lr: 5.00000e-04  bad_ep: 41  cdwn: 0                             \n",
      " 14:27:32 | Ep: 105/ 400 | Trn loss:  0.334968 - Acc: 88.2453 | Val loss:  0.366068 - Acc: 88.2222 | last_lr: 5.00000e-04  bad_ep: 42  cdwn: 0                             \n",
      " 14:27:55 | Ep: 106/ 400 | Trn loss:  0.334904 - Acc: 88.2449 | Val loss:  0.366133 - Acc: 88.2176 | last_lr: 5.00000e-04  bad_ep: 43  cdwn: 0                             \n",
      " 14:28:17 | Ep: 107/ 400 | Trn loss:  0.334844 - Acc: 88.2482 | Val loss:  0.366201 - Acc: 88.2176 | last_lr: 5.00000e-04  bad_ep: 44  cdwn: 0                             \n",
      " 14:28:40 | Ep: 108/ 400 | Trn loss:  0.334782 - Acc: 88.2471 | Val loss:  0.366271 - Acc: 88.2176 | last_lr: 5.00000e-04  bad_ep: 45  cdwn: 0                             \n",
      " 14:29:03 | Ep: 109/ 400 | Trn loss:  0.334724 - Acc: 88.2464 | Val loss:  0.366356 - Acc: 88.2176 | last_lr: 5.00000e-04  bad_ep: 46  cdwn: 0                             \n",
      " 14:29:25 | Ep: 110/ 400 | Trn loss:  0.334665 - Acc: 88.2486 | Val loss:  0.366427 - Acc: 88.2176 | last_lr: 5.00000e-04  bad_ep: 47  cdwn: 0                             \n",
      " 14:29:48 | Ep: 111/ 400 | Trn loss:  0.334608 - Acc: 88.2482 | Val loss:  0.366497 - Acc: 88.2176 | last_lr: 5.00000e-04  bad_ep: 48  cdwn: 0                             \n",
      " 14:30:10 | Ep: 112/ 400 | Trn loss:  0.334551 - Acc: 88.2486 | Val loss:  0.366571 - Acc: 88.2176 | last_lr: 5.00000e-04  bad_ep: 49  cdwn: 0                             \n",
      " 14:30:33 | Ep: 113/ 400 | Trn loss:  0.334494 - Acc: 88.2507 | Val loss:  0.366634 - Acc: 88.2222 | last_lr: 5.00000e-04  bad_ep: 50  cdwn: 0                             \n",
      " 14:30:55 | Ep: 114/ 400 | Trn loss:  0.334443 - Acc: 88.2504 | Val loss:  0.366680 - Acc: 88.2176 | last_lr: 2.50000e-04  bad_ep: 0  cdwn: 10                             \n",
      " 14:31:17 | Ep: 115/ 400 | Trn loss:  0.333282 - Acc: 88.2623 | Val loss:  0.366417 - Acc: 88.1435 | last_lr: 2.50000e-04  bad_ep: 0  cdwn: 9                              \n",
      " 14:31:40 | Ep: 116/ 400 | Trn loss:  0.333015 - Acc: 88.2630 | Val loss:  0.366495 - Acc: 88.1343 | last_lr: 2.50000e-04  bad_ep: 0  cdwn: 8                              \n",
      " 14:32:02 | Ep: 117/ 400 | Trn loss:  0.332957 - Acc: 88.2652 | Val loss:  0.366578 - Acc: 88.1389 | last_lr: 2.50000e-04  bad_ep: 0  cdwn: 7                              \n",
      " 14:32:25 | Ep: 118/ 400 | Trn loss:  0.332915 - Acc: 88.2648 | Val loss:  0.366656 - Acc: 88.1389 | last_lr: 2.50000e-04  bad_ep: 0  cdwn: 6                              \n",
      " 14:32:47 | Ep: 119/ 400 | Trn loss:  0.332876 - Acc: 88.2659 | Val loss:  0.366732 - Acc: 88.1389 | last_lr: 2.50000e-04  bad_ep: 0  cdwn: 5                              \n",
      " 14:33:10 | Ep: 120/ 400 | Trn loss:  0.332840 - Acc: 88.2659 | Val loss:  0.366806 - Acc: 88.1389 | last_lr: 2.50000e-04  bad_ep: 0  cdwn: 4                              \n",
      " 14:33:32 | Ep: 121/ 400 | Trn loss:  0.332806 - Acc: 88.2677 | Val loss:  0.366877 - Acc: 88.1389 | last_lr: 2.50000e-04  bad_ep: 0  cdwn: 3                              \n",
      " 14:33:55 | Ep: 122/ 400 | Trn loss:  0.332773 - Acc: 88.2677 | Val loss:  0.366945 - Acc: 88.1435 | last_lr: 2.50000e-04  bad_ep: 0  cdwn: 2                              \n",
      " 14:34:18 | Ep: 123/ 400 | Trn loss:  0.332741 - Acc: 88.2677 | Val loss:  0.367009 - Acc: 88.1389 | last_lr: 2.50000e-04  bad_ep: 0  cdwn: 1                              \n",
      " 14:34:41 | Ep: 124/ 400 | Trn loss:  0.332710 - Acc: 88.2666 | Val loss:  0.367070 - Acc: 88.1389 | last_lr: 2.50000e-04  bad_ep: 0  cdwn: 0                              \n",
      " 14:35:03 | Ep: 125/ 400 | Trn loss:  0.332679 - Acc: 88.2666 | Val loss:  0.367129 - Acc: 88.1435 | last_lr: 2.50000e-04  bad_ep: 1  cdwn: 0                              \n",
      " 14:35:26 | Ep: 126/ 400 | Trn loss:  0.332649 - Acc: 88.2662 | Val loss:  0.367187 - Acc: 88.1435 | last_lr: 2.50000e-04  bad_ep: 2  cdwn: 0                              \n",
      " 14:35:48 | Ep: 127/ 400 | Trn loss:  0.332618 - Acc: 88.2666 | Val loss:  0.367242 - Acc: 88.1389 | last_lr: 2.50000e-04  bad_ep: 3  cdwn: 0                              \n",
      " 14:36:11 | Ep: 128/ 400 | Trn loss:  0.332588 - Acc: 88.2673 | Val loss:  0.367296 - Acc: 88.1389 | last_lr: 2.50000e-04  bad_ep: 4  cdwn: 0                              \n",
      " 14:36:34 | Ep: 129/ 400 | Trn loss:  0.332559 - Acc: 88.2688 | Val loss:  0.367349 - Acc: 88.1389 | last_lr: 2.50000e-04  bad_ep: 5  cdwn: 0                              \n",
      " 14:36:57 | Ep: 130/ 400 | Trn loss:  0.332529 - Acc: 88.2677 | Val loss:  0.367401 - Acc: 88.1296 | last_lr: 2.50000e-04  bad_ep: 6  cdwn: 0                              \n",
      " 14:37:19 | Ep: 131/ 400 | Trn loss:  0.332499 - Acc: 88.2688 | Val loss:  0.367452 - Acc: 88.1296 | last_lr: 2.50000e-04  bad_ep: 7  cdwn: 0                              \n",
      " 14:37:42 | Ep: 132/ 400 | Trn loss:  0.332470 - Acc: 88.2680 | Val loss:  0.367502 - Acc: 88.1296 | last_lr: 2.50000e-04  bad_ep: 8  cdwn: 0                              \n",
      " 14:38:05 | Ep: 133/ 400 | Trn loss:  0.332441 - Acc: 88.2691 | Val loss:  0.367552 - Acc: 88.1343 | last_lr: 2.50000e-04  bad_ep: 9  cdwn: 0                              \n",
      " 14:38:28 | Ep: 134/ 400 | Trn loss:  0.332413 - Acc: 88.2713 | Val loss:  0.367601 - Acc: 88.1296 | last_lr: 2.50000e-04  bad_ep: 10  cdwn: 0                             \n",
      " 14:38:50 | Ep: 135/ 400 | Trn loss:  0.332384 - Acc: 88.2727 | Val loss:  0.367651 - Acc: 88.1296 | last_lr: 2.50000e-04  bad_ep: 11  cdwn: 0                             \n",
      " 14:39:13 | Ep: 136/ 400 | Trn loss:  0.332356 - Acc: 88.2720 | Val loss:  0.367700 - Acc: 88.1250 | last_lr: 2.50000e-04  bad_ep: 12  cdwn: 0                             \n",
      " 14:39:36 | Ep: 137/ 400 | Trn loss:  0.332328 - Acc: 88.2724 | Val loss:  0.367750 - Acc: 88.1204 | last_lr: 2.50000e-04  bad_ep: 13  cdwn: 0                             \n",
      " 14:39:58 | Ep: 138/ 400 | Trn loss:  0.332300 - Acc: 88.2716 | Val loss:  0.367799 - Acc: 88.1204 | last_lr: 2.50000e-04  bad_ep: 14  cdwn: 0                             \n",
      " 14:40:21 | Ep: 139/ 400 | Trn loss:  0.332272 - Acc: 88.2716 | Val loss:  0.367849 - Acc: 88.1204 | last_lr: 2.50000e-04  bad_ep: 15  cdwn: 0                             \n",
      " 14:40:43 | Ep: 140/ 400 | Trn loss:  0.332244 - Acc: 88.2731 | Val loss:  0.367899 - Acc: 88.1204 | last_lr: 2.50000e-04  bad_ep: 16  cdwn: 0                             \n",
      " 14:41:06 | Ep: 141/ 400 | Trn loss:  0.332216 - Acc: 88.2742 | Val loss:  0.367948 - Acc: 88.1204 | last_lr: 2.50000e-04  bad_ep: 17  cdwn: 0                             \n",
      " 14:41:28 | Ep: 142/ 400 | Trn loss:  0.332188 - Acc: 88.2760 | Val loss:  0.367994 - Acc: 88.1250 | last_lr: 2.50000e-04  bad_ep: 18  cdwn: 0                             \n",
      " 14:41:51 | Ep: 143/ 400 | Trn loss:  0.332161 - Acc: 88.2771 | Val loss:  0.368039 - Acc: 88.1250 | last_lr: 2.50000e-04  bad_ep: 19  cdwn: 0                             \n",
      " 14:42:13 | Ep: 144/ 400 | Trn loss:  0.332135 - Acc: 88.2785 | Val loss:  0.368083 - Acc: 88.1296 | last_lr: 2.50000e-04  bad_ep: 20  cdwn: 0                             \n",
      " 14:42:35 | Ep: 145/ 400 | Trn loss:  0.332108 - Acc: 88.2774 | Val loss:  0.368127 - Acc: 88.1296 | last_lr: 2.50000e-04  bad_ep: 21  cdwn: 0                             \n",
      " 14:42:58 | Ep: 146/ 400 | Trn loss:  0.332082 - Acc: 88.2774 | Val loss:  0.368169 - Acc: 88.1296 | last_lr: 2.50000e-04  bad_ep: 22  cdwn: 0                             \n",
      " 14:43:21 | Ep: 147/ 400 | Trn loss:  0.332054 - Acc: 88.2781 | Val loss:  0.368210 - Acc: 88.1296 | last_lr: 2.50000e-04  bad_ep: 23  cdwn: 0                             \n",
      " 14:43:44 | Ep: 148/ 400 | Trn loss:  0.332027 - Acc: 88.2792 | Val loss:  0.368252 - Acc: 88.1296 | last_lr: 2.50000e-04  bad_ep: 24  cdwn: 0                             \n",
      " 14:44:06 | Ep: 149/ 400 | Trn loss:  0.332000 - Acc: 88.2810 | Val loss:  0.368294 - Acc: 88.1250 | last_lr: 2.50000e-04  bad_ep: 25  cdwn: 0                             \n",
      " 14:44:29 | Ep: 150/ 400 | Trn loss:  0.331973 - Acc: 88.2821 | Val loss:  0.368336 - Acc: 88.1296 | last_lr: 2.50000e-04  bad_ep: 26  cdwn: 0                             \n",
      " 14:44:52 | Ep: 151/ 400 | Trn loss:  0.331947 - Acc: 88.2825 | Val loss:  0.368380 - Acc: 88.1250 | last_lr: 2.50000e-04  bad_ep: 27  cdwn: 0                             \n",
      " 14:45:14 | Ep: 152/ 400 | Trn loss:  0.331920 - Acc: 88.2821 | Val loss:  0.368425 - Acc: 88.1343 | last_lr: 2.50000e-04  bad_ep: 28  cdwn: 0                             \n",
      " 14:45:37 | Ep: 153/ 400 | Trn loss:  0.331894 - Acc: 88.2839 | Val loss:  0.368474 - Acc: 88.1296 | last_lr: 2.50000e-04  bad_ep: 29  cdwn: 0                             \n",
      " 14:46:00 | Ep: 154/ 400 | Trn loss:  0.331868 - Acc: 88.2832 | Val loss:  0.368524 - Acc: 88.1204 | last_lr: 2.50000e-04  bad_ep: 30  cdwn: 0                             \n",
      " 14:46:22 | Ep: 155/ 400 | Trn loss:  0.331843 - Acc: 88.2821 | Val loss:  0.368572 - Acc: 88.1250 | last_lr: 2.50000e-04  bad_ep: 31  cdwn: 0                             \n",
      " 14:46:45 | Ep: 156/ 400 | Trn loss:  0.331818 - Acc: 88.2825 | Val loss:  0.368619 - Acc: 88.1157 | last_lr: 2.50000e-04  bad_ep: 32  cdwn: 0                             \n",
      " 14:47:07 | Ep: 157/ 400 | Trn loss:  0.331793 - Acc: 88.2825 | Val loss:  0.368668 - Acc: 88.1111 | last_lr: 2.50000e-04  bad_ep: 33  cdwn: 0                             \n",
      " 14:47:30 | Ep: 158/ 400 | Trn loss:  0.331768 - Acc: 88.2832 | Val loss:  0.368718 - Acc: 88.1111 | last_lr: 2.50000e-04  bad_ep: 34  cdwn: 0                             \n",
      " 14:47:52 | Ep: 159/ 400 | Trn loss:  0.331742 - Acc: 88.2810 | Val loss:  0.368768 - Acc: 88.1065 | last_lr: 2.50000e-04  bad_ep: 35  cdwn: 0                             \n",
      " 14:48:15 | Ep: 160/ 400 | Trn loss:  0.331717 - Acc: 88.2825 | Val loss:  0.368819 - Acc: 88.1065 | last_lr: 2.50000e-04  bad_ep: 36  cdwn: 0                             \n",
      " 14:48:37 | Ep: 161/ 400 | Trn loss:  0.331692 - Acc: 88.2828 | Val loss:  0.368871 - Acc: 88.1019 | last_lr: 2.50000e-04  bad_ep: 37  cdwn: 0                             \n",
      " 14:48:59 | Ep: 162/ 400 | Trn loss:  0.331667 - Acc: 88.2832 | Val loss:  0.368922 - Acc: 88.1019 | last_lr: 2.50000e-04  bad_ep: 38  cdwn: 0                             \n",
      " 14:49:22 | Ep: 163/ 400 | Trn loss:  0.331643 - Acc: 88.2839 | Val loss:  0.368970 - Acc: 88.1019 | last_lr: 2.50000e-04  bad_ep: 39  cdwn: 0                             \n",
      " 14:49:44 | Ep: 164/ 400 | Trn loss:  0.331618 - Acc: 88.2839 | Val loss:  0.369018 - Acc: 88.1019 | last_lr: 2.50000e-04  bad_ep: 40  cdwn: 0                             \n",
      " 14:50:07 | Ep: 165/ 400 | Trn loss:  0.331594 - Acc: 88.2821 | Val loss:  0.369065 - Acc: 88.1019 | last_lr: 2.50000e-04  bad_ep: 41  cdwn: 0                             \n",
      " 14:50:29 | Ep: 166/ 400 | Trn loss:  0.331569 - Acc: 88.2835 | Val loss:  0.369112 - Acc: 88.1019 | last_lr: 2.50000e-04  bad_ep: 42  cdwn: 0                             \n",
      " Trn 166/400:  61%|██████████████████████████████████████████████████▋                                | 94/154 [00:12<00:08,  7.38it/s, Loss=0.3118, Acc=89.39, lbls=195.0]"
     ]
    }
   ],
   "source": [
    "\n",
    "metrics = fit(model, optimizer, scheduler, data_loader, metrics, start_epoch, end_epoch, device, CKPT_FILE, CKPT_PATH )\n"
   ]
  },
  {
   "cell_type": "markdown",
   "id": "573ac673-4b85-4d5a-ba01-40945db8419f",
   "metadata": {},
   "source": [
    "\n",
    " "
   ]
  },
  {
   "cell_type": "code",
   "execution_count": 40,
   "id": "5f0e45bc-9851-4a18-8ee9-3327186a7c27",
   "metadata": {
    "execution": {
     "iopub.execute_input": "2024-10-01T02:05:40.061347Z",
     "iopub.status.busy": "2024-10-01T02:05:40.060865Z",
     "iopub.status.idle": "2024-10-01T02:05:40.342100Z",
     "shell.execute_reply": "2024-10-01T02:05:40.341359Z",
     "shell.execute_reply.started": "2024-10-01T02:05:40.061303Z"
    }
   },
   "outputs": [],
   "source": [
    "# print(filename)\n",
    " \n",
    "# save_checkpoint(end_epoch, model, optimizer, scheduler, metrics = metrics,\n",
    "#                 filename = CKPT_FILE.format(ep=end_epoch),\n",
    "#                 ckpt_path = CKPT_PATH, verbose = True)"
   ]
  },
  {
   "cell_type": "code",
   "execution_count": 18,
   "id": "5e978589-d202-445e-a7a8-2c8068acbe85",
   "metadata": {
    "ExecuteTime": {
     "end_time": "2023-06-04T11:35:15.434870Z",
     "start_time": "2023-06-04T11:35:15.344699Z"
    },
    "execution": {
     "iopub.execute_input": "2024-10-17T18:07:47.719457Z",
     "iopub.status.busy": "2024-10-17T18:07:47.719003Z",
     "iopub.status.idle": "2024-10-17T18:07:47.767597Z",
     "shell.execute_reply": "2024-10-17T18:07:47.766747Z",
     "shell.execute_reply.started": "2024-10-17T18:07:47.719414Z"
    }
   },
   "outputs": [
    {
     "data": {
      "text/plain": [
       "(0, 400)"
      ]
     },
     "execution_count": 18,
     "metadata": {},
     "output_type": "execute_result"
    }
   ],
   "source": [
    "# start_epoch, end_epoch\n",
    "# start_epoch = end_epoch\n",
    "# end_epoch += 100\n",
    "start_epoch, end_epoch\n",
    "# for mtrc in ['loss_trn', 'loss_val']:\n",
    "#     for i in range(len(metrics[mtrc])):\n",
    "#         # print(i)\n",
    "#         metrics[mtrc][i] = metrics[mtrc][i].item()"
   ]
  },
  {
   "cell_type": "markdown",
   "id": "d75622ea-9d55-42a5-afbd-b7453166bce0",
   "metadata": {
    "jp-MarkdownHeadingCollapsed": true
   },
   "source": [
    "# Modify TPSA Threshold"
   ]
  },
  {
   "cell_type": "code",
   "execution_count": 269,
   "id": "9ca4e52f-46c9-4506-8b0d-239f045f04ac",
   "metadata": {
    "execution": {
     "iopub.execute_input": "2024-08-02T19:43:18.952547Z",
     "iopub.status.busy": "2024-08-02T19:43:18.952152Z",
     "iopub.status.idle": "2024-08-02T19:43:18.990375Z",
     "shell.execute_reply": "2024-08-02T19:43:18.989668Z",
     "shell.execute_reply.started": "2024-08-02T19:43:18.952516Z"
    }
   },
   "outputs": [
    {
     "data": {
      "text/plain": [
       "104000.0"
      ]
     },
     "execution_count": 269,
     "metadata": {},
     "output_type": "execute_result"
    }
   ],
   "source": [
    "\n",
    "train_y_72 = np.zeros_like(train_y)\n",
    "train_y_72.shape[0]/3"
   ]
  },
  {
   "cell_type": "code",
   "execution_count": 42,
   "id": "e11392e3-cbea-49a8-9a0b-2030c1a0aee1",
   "metadata": {
    "editable": true,
    "execution": {
     "iopub.execute_input": "2024-01-24T12:31:19.584307Z",
     "iopub.status.busy": "2024-01-24T12:31:19.583896Z",
     "iopub.status.idle": "2024-01-24T12:31:19.647754Z",
     "shell.execute_reply": "2024-01-24T12:31:19.646662Z",
     "shell.execute_reply.started": "2024-01-24T12:31:19.584277Z"
    },
    "slideshow": {
     "slide_type": ""
    },
    "tags": []
   },
   "outputs": [
    {
     "name": "stdout",
     "output_type": "stream",
     "text": [
      "                  min           max           std          mean           median\n",
      "TPSA             3.2400000  2834.6700000    32.8859880    73.6213196    71.3600000\n",
      "lnTPSA           1.1755733     7.9496808     0.3917724     4.2261118     4.2677375\n",
      "log10TPSA        0.5105450     3.4525025     0.1701446     1.8353770     1.8534548\n"
     ]
    },
    {
     "data": {
      "text/plain": [
       "116691"
      ]
     },
     "execution_count": 42,
     "metadata": {},
     "output_type": "execute_result"
    },
    {
     "data": {
      "text/plain": [
       "0.12232305833354758"
      ]
     },
     "execution_count": 42,
     "metadata": {},
     "output_type": "execute_result"
    },
    {
     "data": {
      "text/plain": [
       "0.8776769416664524"
      ]
     },
     "execution_count": 42,
     "metadata": {},
     "output_type": "execute_result"
    }
   ],
   "source": [
    "print(f\"                  min           max           std          mean           median\")\n",
    "for x in ['TPSA', 'lnTPSA', 'log10TPSA']:\n",
    "    print(f\"{x:12s} {df_train[x].min():13.7f} {df_train[x].max():13.7f} {df_train[x].std():13.7f} {df_train[x].mean():13.7f} {df_train[x].median():13.7f}\") \n",
    "\n",
    "df_train.TPSA.count()\n",
    "df_train[df_train.TPSA >= THRESHOLD].TPSA.count()/df_train.TPSA.count()\n",
    "df_train[df_train.TPSA < THRESHOLD].TPSA.count()/df_train.TPSA.count()\n"
   ]
  },
  {
   "cell_type": "code",
   "execution_count": 203,
   "id": "d5f5bab9-6b23-4078-a398-dccbea38ae78",
   "metadata": {
    "execution": {
     "iopub.execute_input": "2024-08-02T18:25:44.400889Z",
     "iopub.status.busy": "2024-08-02T18:25:44.400409Z",
     "iopub.status.idle": "2024-08-02T18:25:44.451332Z",
     "shell.execute_reply": "2024-08-02T18:25:44.450555Z",
     "shell.execute_reply.started": "2024-08-02T18:25:44.400850Z"
    }
   },
   "outputs": [
    {
     "data": {
      "text/plain": [
       "(274836, 37164)"
      ]
     },
     "execution_count": 203,
     "metadata": {},
     "output_type": "execute_result"
    }
   ],
   "source": [
    "_tmp = df_train.Metadata_Permiation.value_counts()\n",
    "_tmp[0], _tmp[1]"
   ]
  },
  {
   "cell_type": "code",
   "execution_count": 264,
   "id": "d59dcba1-6add-4446-aa27-a30564f42e54",
   "metadata": {
    "editable": true,
    "execution": {
     "iopub.execute_input": "2024-08-02T19:17:47.830206Z",
     "iopub.status.busy": "2024-08-02T19:17:47.829809Z",
     "iopub.status.idle": "2024-08-02T19:17:47.877739Z",
     "shell.execute_reply": "2024-08-02T19:17:47.877049Z",
     "shell.execute_reply.started": "2024-08-02T19:17:47.830173Z"
    },
    "slideshow": {
     "slide_type": ""
    },
    "tags": []
   },
   "outputs": [
    {
     "name": "stdout",
     "output_type": "stream",
     "text": [
      "\n",
      " TPSA threshold 68 \n",
      " Total samples: 312000\n",
      " Label 0:  138900      % 44.52 \n",
      " Label 1:  173100      % 55.48 \n",
      "\n",
      " TPSA threshold 69 \n",
      " Total samples: 312000\n",
      " Label 0:  144249      % 46.23 \n",
      " Label 1:  167751      % 53.77 \n",
      "\n",
      " TPSA threshold 70 \n",
      " Total samples: 312000\n",
      " Label 0:  149058      % 47.77 \n",
      " Label 1:  162942      % 52.23 \n",
      "\n",
      " TPSA threshold 71 \n",
      " Total samples: 312000\n",
      " Label 0:  154125      % 49.40 \n",
      " Label 1:  157875      % 50.60 \n",
      "\n",
      " TPSA threshold 72 \n",
      " Total samples: 312000\n",
      " Label 0:  160203      % 51.35 \n",
      " Label 1:  151797      % 48.65 \n",
      "\n",
      " TPSA threshold 100 \n",
      " Total samples: 312000\n",
      " Label 0:  274836      % 88.09 \n",
      " Label 1:   37164      % 11.91 \n"
     ]
    }
   ],
   "source": [
    "for threshold in [68, 69, 70, 71, 72, 100]:\n",
    "    _tmp = (df_train['Metadata_TPSA'] >= threshold).value_counts()\n",
    "    print(f\"\\n TPSA threshold {threshold} \\n Total samples: {_tmp.sum()}\")\n",
    "    print(f\" Label 0: {_tmp[False]:>7d}      % {_tmp[False]*100/_tmp.sum():2.2f} \")\n",
    "    print(f\" Label 1: {_tmp[True]:>7d}      % {_tmp[True]*100/_tmp.sum():2.2f} \")"
   ]
  },
  {
   "cell_type": "code",
   "execution_count": 265,
   "id": "65d1d01b-3946-4668-9c10-5fb3f2b3bd64",
   "metadata": {
    "execution": {
     "iopub.execute_input": "2024-08-02T19:18:15.207992Z",
     "iopub.status.busy": "2024-08-02T19:18:15.207573Z",
     "iopub.status.idle": "2024-08-02T19:18:15.241831Z",
     "shell.execute_reply": "2024-08-02T19:18:15.241195Z",
     "shell.execute_reply.started": "2024-08-02T19:18:15.207957Z"
    }
   },
   "outputs": [],
   "source": [
    "# fig, ax = plt.subplots(figsize=(4,4))\n",
    "# fig.canvas.draw()  # Need to draw the figure to define renderer\n",
    "# ax.set_title(\"AngleLabel example\")\n",
    "# # Plot two crossing lines and label each angle between them with the above\n",
    "# center = (4.5, 650)\n",
    "# p1 = [(2.5, 710), (6.0, 605)]\n",
    "# p2 = [(3.0, 275), (5.5, 900)]\n",
    "# line1, = ax.plot(*zip(*p1))\n",
    "# line2, = ax.plot(*zip(*p2))\n",
    "# point, = ax.plot(*center, marker=\"o\")\n"
   ]
  },
  {
   "cell_type": "code",
   "execution_count": 259,
   "id": "9f19bd08-45c1-4d41-9d02-a5b59d30c53c",
   "metadata": {
    "ExecuteTime": {
     "end_time": "2023-06-28T19:37:34.108730Z",
     "start_time": "2023-06-28T19:37:34.072553Z"
    },
    "editable": true,
    "execution": {
     "iopub.execute_input": "2024-08-02T19:10:23.741139Z",
     "iopub.status.busy": "2024-08-02T19:10:23.740867Z",
     "iopub.status.idle": "2024-08-02T19:10:24.222816Z",
     "shell.execute_reply": "2024-08-02T19:10:24.222024Z",
     "shell.execute_reply.started": "2024-08-02T19:10:23.741118Z"
    },
    "slideshow": {
     "slide_type": ""
    },
    "tags": []
   },
   "outputs": [
    {
     "data": {
      "text/plain": [
       "<matplotlib.legend.Legend at 0x7fb5da6ead90>"
      ]
     },
     "execution_count": 259,
     "metadata": {},
     "output_type": "execute_result"
    },
    {
     "data": {
      "image/png": "[encoded data removed]",
      "text/plain": [
       "<Figure size 1000x500 with 1 Axes>"
      ]
     },
     "metadata": {},
     "output_type": "display_data"
    }
   ],
   "source": [
    "from matplotlib import colors\n",
    "from matplotlib.ticker import PercentFormatter\n",
    "num_bins = 200\n",
    "# fig, ax = plt.subplots()\n",
    "fig = plt.figure(figsize=(10,5))\n",
    "sigma = df_train.Metadata_TPSA.std()\n",
    "mu = df_train.Metadata_TPSA.mean()\n",
    "med = df_train.Metadata_TPSA.median()\n",
    "# the histogram of the data\n",
    "# We can set the number of bins with the *bins* keyword argument.\n",
    "n, bins, patches = plt.hist(df_train.Metadata_TPSA, num_bins, density=False, range=[0, 500],)\n",
    "# p1 = [(med, 710), (6.0, 605)]\n",
    "# _ = plt.vlines(x=med, ymin=10, ymax=17000, colors='red', linestyles='-', lw=1.75, label='Single Short Line')\n",
    "_ = plt.axvline(x=med, ymin=0, ymax=.97, color='red', linestyle='-', lw=1.75, label='Single Short Line')\n",
    "_ = plt.xlabel('TPSA Value');\n",
    "_ = plt.ylabel('# Compounds');\n",
    "_ = plt.title(fr'TPSA distribution -  $\\mu={mu:.3f}$    $\\sigma={sigma:.3f}$')\n",
    "plt.legend(bbox_to_anchor=(1.04,0.5), loc=\"center left\", borderaxespad=0)\n",
    "# axs[1].hist(dist2, bins=n_bins)\n",
    "plt.show()"
   ]
  },
  {
   "cell_type": "markdown",
   "id": "e58c33d9-a56a-4175-9936-b16efed13334",
   "metadata": {
    "editable": true,
    "jp-MarkdownHeadingCollapsed": true,
    "slideshow": {
     "slide_type": ""
    },
    "tags": []
   },
   "source": [
    "# Stratified CV data splits"
   ]
  },
  {
   "cell_type": "code",
   "execution_count": 260,
   "id": "36185b9f-f76e-4556-a736-7a97ac07659f",
   "metadata": {
    "execution": {
     "iopub.execute_input": "2024-08-02T19:12:20.623736Z",
     "iopub.status.busy": "2024-08-02T19:12:20.623234Z",
     "iopub.status.idle": "2024-08-02T19:12:20.661974Z",
     "shell.execute_reply": "2024-08-02T19:12:20.661237Z",
     "shell.execute_reply.started": "2024-08-02T19:12:20.623693Z"
    }
   },
   "outputs": [],
   "source": [
    "def visualize_groups(classes, groups, name):\n",
    "    # Visualize dataset groups\n",
    "    fig, ax = plt.subplots(figsize=(10,5))\n",
    "    ax.scatter(\n",
    "        range(len(groups)),\n",
    "        [0.5] * len(groups),\n",
    "        c=groups,\n",
    "        marker=\"_\",\n",
    "        lw=50,\n",
    "        cmap=cmap_data,\n",
    "    )\n",
    "    ax.scatter(\n",
    "        range(len(groups)),\n",
    "        [3.5] * len(groups),\n",
    "        c=classes,\n",
    "        marker=\"_\",\n",
    "        lw=50,\n",
    "        cmap=cmap_data,\n",
    "    )\n",
    "    ax.set(\n",
    "        ylim=[-1, 5],\n",
    "        yticks=[0.5, 3.5],\n",
    "        yticklabels=[\"Data\\ngroup\", \"Data\\nclass\"],\n",
    "        xlabel=\"Sample index\",\n",
    "    )"
   ]
  },
  {
   "cell_type": "code",
   "execution_count": 261,
   "id": "f532d16b-50f2-486d-a2b8-22e960f6007a",
   "metadata": {
    "execution": {
     "iopub.execute_input": "2024-08-02T19:12:20.975622Z",
     "iopub.status.busy": "2024-08-02T19:12:20.975197Z",
     "iopub.status.idle": "2024-08-02T19:12:21.013984Z",
     "shell.execute_reply": "2024-08-02T19:12:21.013243Z",
     "shell.execute_reply.started": "2024-08-02T19:12:20.975584Z"
    }
   },
   "outputs": [],
   "source": [
    "def plot_cv_indices(cv, X, y, group, ax, n_splits, lw=10):\n",
    "    \"\"\"Create a sample plot for indices of a cross-validation object.\"\"\"\n",
    "    use_groups = \"Group\" in type(cv).__name__\n",
    "    groups = group if use_groups else None\n",
    "    # Generate the training/testing visualizations for each CV split\n",
    "    for ii, (tr, tt) in enumerate(cv.split(X=X, y=y, groups=groups)):\n",
    "        # Fill in indices with the training/test groups\n",
    "        indices = np.array([np.nan] * len(X))\n",
    "        indices[tt] = 1\n",
    "        indices[tr] = 0\n",
    "\n",
    "        # Visualize the results\n",
    "        ax.scatter(\n",
    "            range(len(indices)),\n",
    "            [ii + 0.5] * len(indices),\n",
    "            c=indices,\n",
    "            marker=\"_\",\n",
    "            lw=lw,\n",
    "            cmap=cmap_cv,\n",
    "            vmin=-0.2,\n",
    "            vmax=1.2,\n",
    "        )\n",
    "\n",
    "    # Plot the data classes and groups at the end\n",
    "    ax.scatter(\n",
    "        range(len(X)), [ii + 1.5] * len(X), c=y, marker=\"_\", lw=lw, cmap=cmap_data\n",
    "    )\n",
    "\n",
    "    ax.scatter(\n",
    "        range(len(X)), [ii + 2.5] * len(X), c=group, marker=\"_\", lw=lw, cmap=cmap_data\n",
    "    )\n",
    "\n",
    "    # Formatting\n",
    "    yticklabels = list(range(n_splits)) + [\"class\", \"group\"]\n",
    "    ax.set(\n",
    "        yticks=np.arange(n_splits + 2) + 0.5,\n",
    "        yticklabels=yticklabels,\n",
    "        xlabel=\"Sample index\",\n",
    "        ylabel=\"CV iteration\",\n",
    "        ylim=[n_splits + 2.2, -0.2],\n",
    "        xlim=[0, 100],\n",
    "    )\n",
    "    ax.set_title(\"{}\".format(type(cv).__name__), fontsize=15)\n",
    "    return ax"
   ]
  },
  {
   "cell_type": "code",
   "execution_count": null,
   "id": "d6f3f078-8b33-4acc-b639-6daac6d9d519",
   "metadata": {
    "execution": {
     "iopub.execute_input": "2024-08-01T20:37:00.702630Z",
     "iopub.status.busy": "2024-08-01T20:37:00.702069Z",
     "iopub.status.idle": "2024-08-01T20:37:00.746490Z",
     "shell.execute_reply": "2024-08-01T20:37:00.745822Z",
     "shell.execute_reply.started": "2024-08-01T20:37:00.702589Z"
    }
   },
   "outputs": [],
   "source": [
    "import matplotlib.pyplot as plt\n",
    "import numpy as np\n",
    "from matplotlib.patches import Patch\n"
   ]
  },
  {
   "cell_type": "code",
   "execution_count": null,
   "id": "f1165a3b-5756-443f-ad46-bf316c34929e",
   "metadata": {
    "execution": {
     "iopub.execute_input": "2024-08-01T20:37:00.702630Z",
     "iopub.status.busy": "2024-08-01T20:37:00.702069Z",
     "iopub.status.idle": "2024-08-01T20:37:00.746490Z",
     "shell.execute_reply": "2024-08-01T20:37:00.745822Z",
     "shell.execute_reply.started": "2024-08-01T20:37:00.702589Z"
    }
   },
   "outputs": [],
   "source": [
    "rng = np.random.RandomState(1338)\n",
    "cmap_data = plt.cm.Paired\n",
    "cmap_cv = plt.cm.coolwarm\n",
    "n_splits = 4\n",
    "\n",
    "# Generate the class/group data\n",
    "# n_points = 100\n",
    "# X = rng.randn(100, 10)\n",
    "\n",
    "# percentiles_classes = [0.1, 0.3, 0.6]\n",
    "# y = np.hstack([[ii] * int(100 * perc) for ii, perc in enumerate(percentiles_classes)])"
   ]
  },
  {
   "cell_type": "code",
   "execution_count": null,
   "id": "94dd8391-cbf3-4468-9aa2-d311c7f83bd2",
   "metadata": {
    "execution": {
     "iopub.execute_input": "2024-08-01T20:37:00.702630Z",
     "iopub.status.busy": "2024-08-01T20:37:00.702069Z",
     "iopub.status.idle": "2024-08-01T20:37:00.746490Z",
     "shell.execute_reply": "2024-08-01T20:37:00.745822Z",
     "shell.execute_reply.started": "2024-08-01T20:37:00.702589Z"
    }
   },
   "outputs": [],
   "source": [
    "# Generate uneven groups\n",
    "\n",
    "# group_prior = rng.dirichlet([2] * 10)\n",
    "# group_prior.sum()\n",
    "# group_prior\n",
    "\n",
    "# groups = np.repeat(np.arange(10), rng.multinomial(100, group_prior))\n",
    "# groups.shape\n",
    "# groups"
   ]
  },
  {
   "cell_type": "code",
   "execution_count": null,
   "id": "0be667cf-b73b-49d9-8f93-028feb33dc07",
   "metadata": {
    "execution": {
     "iopub.execute_input": "2024-08-01T20:37:00.702630Z",
     "iopub.status.busy": "2024-08-01T20:37:00.702069Z",
     "iopub.status.idle": "2024-08-01T20:37:00.746490Z",
     "shell.execute_reply": "2024-08-01T20:37:00.745822Z",
     "shell.execute_reply.started": "2024-08-01T20:37:00.702589Z"
    }
   },
   "outputs": [],
   "source": [
    "groups = np.repeat(0, train_X.shape[0])\n",
    "groups.shape"
   ]
  },
  {
   "cell_type": "code",
   "execution_count": 84,
   "id": "a3cc3e15-7328-43d7-87b0-e662e89f8995",
   "metadata": {
    "execution": {
     "iopub.execute_input": "2024-08-01T20:39:00.214016Z",
     "iopub.status.busy": "2024-08-01T20:39:00.213534Z",
     "iopub.status.idle": "2024-08-01T20:39:17.703513Z",
     "shell.execute_reply": "2024-08-01T20:39:17.702174Z",
     "shell.execute_reply.started": "2024-08-01T20:39:00.213981Z"
    }
   },
   "outputs": [
    {
     "data": {
      "image/png": "[encoded data removed]",
      "text/plain": [
       "<Figure size 1000x500 with 1 Axes>"
      ]
     },
     "metadata": {},
     "output_type": "display_data"
    }
   ],
   "source": [
    "visualize_groups(train_y, groups, \"no groups\")"
   ]
  },
  {
   "cell_type": "code",
   "execution_count": 88,
   "id": "f27b44ef-5b62-4008-8e90-fcd97dca2186",
   "metadata": {
    "execution": {
     "iopub.execute_input": "2024-08-01T20:42:20.513960Z",
     "iopub.status.busy": "2024-08-01T20:42:20.513311Z",
     "iopub.status.idle": "2024-08-01T20:42:20.563347Z",
     "shell.execute_reply": "2024-08-01T20:42:20.562557Z",
     "shell.execute_reply.started": "2024-08-01T20:42:20.513913Z"
    }
   },
   "outputs": [],
   "source": [
    "n_splits = 5\n",
    "groups = None"
   ]
  },
  {
   "cell_type": "code",
   "execution_count": 89,
   "id": "0cc5f1e4-9fbf-4c51-a82a-ee2c870850aa",
   "metadata": {
    "execution": {
     "iopub.execute_input": "2024-08-01T20:42:22.118077Z",
     "iopub.status.busy": "2024-08-01T20:42:22.117570Z",
     "iopub.status.idle": "2024-08-01T20:42:40.626608Z",
     "shell.execute_reply": "2024-08-01T20:42:40.625579Z",
     "shell.execute_reply.started": "2024-08-01T20:42:22.118037Z"
    }
   },
   "outputs": [
    {
     "name": "stderr",
     "output_type": "stream",
     "text": [
      "/tmp/ipykernel_4107164/1298143750.py:29: UserWarning: No data for colormapping provided via 'c'. Parameters 'cmap' will be ignored\n",
      "  ax.scatter(\n"
     ]
    },
    {
     "data": {
      "text/plain": [
       "<Axes: title={'center': 'KFold'}, xlabel='Sample index', ylabel='CV iteration'>"
      ]
     },
     "execution_count": 89,
     "metadata": {},
     "output_type": "execute_result"
    },
    {
     "data": {
      "image/png": "[encoded data removed]",
      "text/plain": [
       "<Figure size 640x480 with 1 Axes>"
      ]
     },
     "metadata": {},
     "output_type": "display_data"
    }
   ],
   "source": [
    "fig, ax = plt.subplots()\n",
    "cv = KFold(n_splits)\n",
    "plot_cv_indices(cv, train_X, train_y, groups, ax, n_splits)"
   ]
  },
  {
   "cell_type": "markdown",
   "id": "d2e1cd39-be31-4f80-b0b3-a064ddf5b59d",
   "metadata": {
    "jp-MarkdownHeadingCollapsed": true
   },
   "source": [
    "# Input "
   ]
  },
  {
   "cell_type": "markdown",
   "id": "987503fe-4de3-4967-a228-9e5b7a6d30b8",
   "metadata": {},
   "source": [
    "## Read Embedded Features CSV file"
   ]
  },
  {
   "cell_type": "code",
   "execution_count": 11,
   "id": "ab7b33d4-10b8-44a2-a97b-3fb5e124812e",
   "metadata": {
    "editable": true,
    "execution": {
     "iopub.execute_input": "2024-08-13T19:23:56.610748Z",
     "iopub.status.busy": "2024-08-13T19:23:56.610221Z",
     "iopub.status.idle": "2024-08-13T19:23:56.657393Z",
     "shell.execute_reply": "2024-08-13T19:23:56.656724Z",
     "shell.execute_reply.started": "2024-08-13T19:23:56.610706Z"
    },
    "slideshow": {
     "slide_type": ""
    },
    "tags": []
   },
   "outputs": [
    {
     "data": {
      "text/plain": [
       "'/home/kevin/WSL-shared/cellpainting/cj-datasets/output_11102023/3_sample_embeddings/3sample_profiles_embedding_161_HashOrder_BASELINE_20240718_1956_BEST_train.csv'"
      ]
     },
     "execution_count": 11,
     "metadata": {},
     "output_type": "execute_result"
    },
    {
     "data": {
      "text/plain": [
       "'/home/kevin/WSL-shared/cellpainting/cj-datasets/output_11102023/3_sample_embeddings/3sample_profiles_embedding_161_HashOrder_BASELINE_20240718_1956_BEST_test.csv'"
      ]
     },
     "execution_count": 11,
     "metadata": {},
     "output_type": "execute_result"
    },
    {
     "data": {
      "text/plain": [
       "'/home/kevin/WSL-shared/cellpainting/cj-datasets/output_11102023/3_sample_embeddings/3sample_profiles_embedding_161_HashOrder_SNNL_20240718_1956_BEST_train.csv'"
      ]
     },
     "execution_count": 11,
     "metadata": {},
     "output_type": "execute_result"
    },
    {
     "data": {
      "text/plain": [
       "'/home/kevin/WSL-shared/cellpainting/cj-datasets/output_11102023/3_sample_embeddings/3sample_profiles_embedding_161_HashOrder_SNNL_20240718_1956_BEST_test.csv'"
      ]
     },
     "execution_count": 11,
     "metadata": {},
     "output_type": "execute_result"
    }
   ],
   "source": [
    "BASE_TRAIN_INPUT = os.path.join(OUTPUT_PATH, INPUT_FILE.format(runmode = BASE_runmode ,datatype='train'))\n",
    "BASE_TEST_INPUT  = os.path.join(OUTPUT_PATH, INPUT_FILE.format(runmode = BASE_runmode ,datatype='test'))\n",
    "SNNL_TRAIN_INPUT = os.path.join(OUTPUT_PATH, INPUT_FILE.format(runmode = SNNL_runmode ,datatype='train'))\n",
    "SNNL_TEST_INPUT  = os.path.join(OUTPUT_PATH, INPUT_FILE.format(runmode = SNNL_runmode ,datatype='test'))\n",
    "BASE_TRAIN_INPUT\n",
    "BASE_TEST_INPUT \n",
    "SNNL_TRAIN_INPUT\n",
    "SNNL_TEST_INPUT "
   ]
  },
  {
   "cell_type": "code",
   "execution_count": 12,
   "id": "8dff17ab-dd6a-49fe-8733-8f3448537618",
   "metadata": {
    "execution": {
     "iopub.execute_input": "2024-08-13T19:24:01.706752Z",
     "iopub.status.busy": "2024-08-13T19:24:01.706221Z",
     "iopub.status.idle": "2024-08-13T19:24:12.945184Z",
     "shell.execute_reply": "2024-08-13T19:24:12.944270Z",
     "shell.execute_reply.started": "2024-08-13T19:24:01.706709Z"
    }
   },
   "outputs": [],
   "source": [
    "df_test = pd.read_csv(SNNL_TEST_INPUT )\n",
    "df_train = pd.read_csv(SNNL_TRAIN_INPUT)\n",
    "\n",
    "# df_train = pd.read_csv(BASE_TRAIN_INPUT)\n",
    "# df_test = pd.read_csv(BASE_TEST_INPUT )\n",
    "# df_train = pd.read_csv(TRAIN_INPUT, nrows = 100 )\n",
    "# df_train = pd.read_csv(TRAIN_INPUT, usecols = ['Metadata_Batch'])"
   ]
  },
  {
   "cell_type": "code",
   "execution_count": 13,
   "id": "9e7a273e-36aa-4b1b-8a49-3c911fe62659",
   "metadata": {
    "execution": {
     "iopub.execute_input": "2024-08-13T19:24:12.947133Z",
     "iopub.status.busy": "2024-08-13T19:24:12.946871Z",
     "iopub.status.idle": "2024-08-13T19:24:13.021391Z",
     "shell.execute_reply": "2024-08-13T19:24:13.020841Z",
     "shell.execute_reply.started": "2024-08-13T19:24:12.947111Z"
    }
   },
   "outputs": [
    {
     "name": "stdout",
     "output_type": "stream",
     "text": [
      "<class 'pandas.core.frame.DataFrame'>\n",
      "RangeIndex: 34542 entries, 0 to 34541\n",
      "Columns: 161 entries, Metadata_Source to Feature_149\n",
      "dtypes: float64(154), int64(2), object(5)\n",
      "memory usage: 42.4+ MB\n"
     ]
    },
    {
     "data": {
      "text/plain": [
       "(34542, 161)"
      ]
     },
     "execution_count": 13,
     "metadata": {},
     "output_type": "execute_result"
    },
    {
     "data": {
      "text/plain": [
       "Index(['Metadata_Source', 'Metadata_Batch', 'Metadata_Plate', 'Metadata_Well', 'Metadata_JCP2022', 'Metadata_Hash', 'Metadata_Bin',\n",
       "       'Metadata_TPSA', 'Metadata_lnTPSA', 'Metadata_log10TPSA',\n",
       "       ...\n",
       "       'Feature_140', 'Feature_141', 'Feature_142', 'Feature_143', 'Feature_144', 'Feature_145', 'Feature_146', 'Feature_147',\n",
       "       'Feature_148', 'Feature_149'],\n",
       "      dtype='object', length=161)"
      ]
     },
     "execution_count": 13,
     "metadata": {},
     "output_type": "execute_result"
    },
    {
     "data": {
      "text/html": [
       "<div>\n",
       "<style scoped>\n",
       "    .dataframe tbody tr th:only-of-type {\n",
       "        vertical-align: middle;\n",
       "    }\n",
       "\n",
       "    .dataframe tbody tr th {\n",
       "        vertical-align: top;\n",
       "    }\n",
       "\n",
       "    .dataframe thead th {\n",
       "        text-align: right;\n",
       "    }\n",
       "</style>\n",
       "<table border=\"1\" class=\"dataframe\">\n",
       "  <thead>\n",
       "    <tr style=\"text-align: right;\">\n",
       "      <th></th>\n",
       "      <th>Metadata_Source</th>\n",
       "      <th>Metadata_Batch</th>\n",
       "      <th>Metadata_Plate</th>\n",
       "      <th>Metadata_Well</th>\n",
       "      <th>Metadata_JCP2022</th>\n",
       "      <th>Metadata_Hash</th>\n",
       "      <th>Metadata_Bin</th>\n",
       "      <th>Metadata_TPSA</th>\n",
       "      <th>Metadata_lnTPSA</th>\n",
       "      <th>Metadata_log10TPSA</th>\n",
       "      <th>Metadata_Permiation</th>\n",
       "      <th>Feature_000</th>\n",
       "      <th>Feature_001</th>\n",
       "    </tr>\n",
       "  </thead>\n",
       "  <tbody>\n",
       "    <tr>\n",
       "      <th>0</th>\n",
       "      <td>source_11</td>\n",
       "      <td>Batch2</td>\n",
       "      <td>EC000046</td>\n",
       "      <td>K04</td>\n",
       "      <td>JCP2022_009278</td>\n",
       "      <td>7406361908543180200</td>\n",
       "      <td>8</td>\n",
       "      <td>62.78</td>\n",
       "      <td>4.139637</td>\n",
       "      <td>1.797821</td>\n",
       "      <td>0.0</td>\n",
       "      <td>0.613709</td>\n",
       "      <td>0.704578</td>\n",
       "    </tr>\n",
       "    <tr>\n",
       "      <th>1</th>\n",
       "      <td>source_11</td>\n",
       "      <td>Batch2</td>\n",
       "      <td>EC000063</td>\n",
       "      <td>K04</td>\n",
       "      <td>JCP2022_009278</td>\n",
       "      <td>7406361908543180200</td>\n",
       "      <td>8</td>\n",
       "      <td>62.78</td>\n",
       "      <td>4.139637</td>\n",
       "      <td>1.797821</td>\n",
       "      <td>0.0</td>\n",
       "      <td>0.396030</td>\n",
       "      <td>1.886775</td>\n",
       "    </tr>\n",
       "    <tr>\n",
       "      <th>2</th>\n",
       "      <td>source_9</td>\n",
       "      <td>20211013-Run14</td>\n",
       "      <td>GR00003281</td>\n",
       "      <td>J15</td>\n",
       "      <td>JCP2022_009278</td>\n",
       "      <td>7406361908543180200</td>\n",
       "      <td>8</td>\n",
       "      <td>62.78</td>\n",
       "      <td>4.139637</td>\n",
       "      <td>1.797821</td>\n",
       "      <td>0.0</td>\n",
       "      <td>0.967456</td>\n",
       "      <td>-0.243835</td>\n",
       "    </tr>\n",
       "    <tr>\n",
       "      <th>3</th>\n",
       "      <td>source_5</td>\n",
       "      <td>JUMPCPE-20210908-Run28_20210909_072022</td>\n",
       "      <td>AETJUM107</td>\n",
       "      <td>J10</td>\n",
       "      <td>JCP2022_045457</td>\n",
       "      <td>7406621140030190348</td>\n",
       "      <td>12</td>\n",
       "      <td>33.20</td>\n",
       "      <td>3.502550</td>\n",
       "      <td>1.521138</td>\n",
       "      <td>0.0</td>\n",
       "      <td>-0.355203</td>\n",
       "      <td>0.057036</td>\n",
       "    </tr>\n",
       "    <tr>\n",
       "      <th>4</th>\n",
       "      <td>source_11</td>\n",
       "      <td>Batch3</td>\n",
       "      <td>EC000139</td>\n",
       "      <td>G04</td>\n",
       "      <td>JCP2022_045457</td>\n",
       "      <td>7406621140030190348</td>\n",
       "      <td>12</td>\n",
       "      <td>33.20</td>\n",
       "      <td>3.502550</td>\n",
       "      <td>1.521138</td>\n",
       "      <td>0.0</td>\n",
       "      <td>1.246175</td>\n",
       "      <td>0.795314</td>\n",
       "    </tr>\n",
       "  </tbody>\n",
       "</table>\n",
       "</div>"
      ],
      "text/plain": [
       "  Metadata_Source                          Metadata_Batch Metadata_Plate Metadata_Well Metadata_JCP2022        Metadata_Hash  \\\n",
       "0       source_11                                  Batch2       EC000046           K04   JCP2022_009278  7406361908543180200   \n",
       "1       source_11                                  Batch2       EC000063           K04   JCP2022_009278  7406361908543180200   \n",
       "2        source_9                          20211013-Run14     GR00003281           J15   JCP2022_009278  7406361908543180200   \n",
       "3        source_5  JUMPCPE-20210908-Run28_20210909_072022      AETJUM107           J10   JCP2022_045457  7406621140030190348   \n",
       "4       source_11                                  Batch3       EC000139           G04   JCP2022_045457  7406621140030190348   \n",
       "\n",
       "   Metadata_Bin  Metadata_TPSA  Metadata_lnTPSA  Metadata_log10TPSA  Metadata_Permiation  Feature_000  Feature_001  \n",
       "0             8          62.78         4.139637            1.797821                  0.0     0.613709     0.704578  \n",
       "1             8          62.78         4.139637            1.797821                  0.0     0.396030     1.886775  \n",
       "2             8          62.78         4.139637            1.797821                  0.0     0.967456    -0.243835  \n",
       "3            12          33.20         3.502550            1.521138                  0.0    -0.355203     0.057036  \n",
       "4            12          33.20         3.502550            1.521138                  0.0     1.246175     0.795314  "
      ]
     },
     "execution_count": 13,
     "metadata": {},
     "output_type": "execute_result"
    }
   ],
   "source": [
    "df_test.info()\n",
    "df_test.shape\n",
    "df_test.columns\n",
    "df_test.iloc[:5,:13]"
   ]
  },
  {
   "cell_type": "code",
   "execution_count": 14,
   "id": "e21aa50d-b501-4532-9c1f-62a2c960f48d",
   "metadata": {
    "execution": {
     "iopub.execute_input": "2024-08-13T19:24:13.022484Z",
     "iopub.status.busy": "2024-08-13T19:24:13.022264Z",
     "iopub.status.idle": "2024-08-13T19:24:13.061987Z",
     "shell.execute_reply": "2024-08-13T19:24:13.061229Z",
     "shell.execute_reply.started": "2024-08-13T19:24:13.022463Z"
    }
   },
   "outputs": [],
   "source": [
    "# df_train = pd.read_csv(TRAIN_INPUT, nrows = 100 )\n",
    "# df_train = pd.read_csv(TRAIN_INPUT, usecols = ['Metadata_Batch'])"
   ]
  },
  {
   "cell_type": "code",
   "execution_count": 15,
   "id": "8e266886-b249-4370-84ef-242c34c98e72",
   "metadata": {
    "execution": {
     "iopub.execute_input": "2024-08-13T19:24:13.063932Z",
     "iopub.status.busy": "2024-08-13T19:24:13.063702Z",
     "iopub.status.idle": "2024-08-13T19:24:13.117561Z",
     "shell.execute_reply": "2024-08-13T19:24:13.116875Z",
     "shell.execute_reply.started": "2024-08-13T19:24:13.063911Z"
    }
   },
   "outputs": [
    {
     "data": {
      "text/plain": [
       "4164"
      ]
     },
     "execution_count": 15,
     "metadata": {},
     "output_type": "execute_result"
    },
    {
     "data": {
      "text/plain": [
       "((34542,), numpy.ndarray, dtype('uint8'))"
      ]
     },
     "execution_count": 15,
     "metadata": {},
     "output_type": "execute_result"
    },
    {
     "data": {
      "text/plain": [
       "((34542, 150), numpy.ndarray, dtype('float64'))"
      ]
     },
     "execution_count": 15,
     "metadata": {},
     "output_type": "execute_result"
    }
   ],
   "source": [
    "test_y = df_test.iloc[:,10:11].to_numpy().ravel().astype(np.uint8)\n",
    "test_y.sum()\n",
    "test_y.shape, type(test_y), test_y.dtype\n",
    "test_X = df_test.iloc[:,11:].to_numpy()\n",
    "test_X.shape,type(test_X), test_X.dtype"
   ]
  },
  {
   "cell_type": "code",
   "execution_count": 19,
   "id": "b5ccbf57-4fa7-4842-919b-103d14e44c79",
   "metadata": {
    "execution": {
     "iopub.execute_input": "2024-08-13T19:24:28.621893Z",
     "iopub.status.busy": "2024-08-13T19:24:28.621391Z",
     "iopub.status.idle": "2024-08-13T19:24:28.699266Z",
     "shell.execute_reply": "2024-08-13T19:24:28.698612Z",
     "shell.execute_reply.started": "2024-08-13T19:24:28.621851Z"
    }
   },
   "outputs": [
    {
     "data": {
      "text/plain": [
       "(312000, 161)"
      ]
     },
     "execution_count": 19,
     "metadata": {},
     "output_type": "execute_result"
    },
    {
     "name": "stdout",
     "output_type": "stream",
     "text": [
      "<class 'pandas.core.frame.DataFrame'>\n",
      "RangeIndex: 312000 entries, 0 to 311999\n",
      "Columns: 161 entries, Metadata_Source to Feature_149\n",
      "dtypes: float64(154), int64(2), object(5)\n",
      "memory usage: 383.2+ MB\n"
     ]
    },
    {
     "data": {
      "text/html": [
       "<div>\n",
       "<style scoped>\n",
       "    .dataframe tbody tr th:only-of-type {\n",
       "        vertical-align: middle;\n",
       "    }\n",
       "\n",
       "    .dataframe tbody tr th {\n",
       "        vertical-align: top;\n",
       "    }\n",
       "\n",
       "    .dataframe thead th {\n",
       "        text-align: right;\n",
       "    }\n",
       "</style>\n",
       "<table border=\"1\" class=\"dataframe\">\n",
       "  <thead>\n",
       "    <tr style=\"text-align: right;\">\n",
       "      <th></th>\n",
       "      <th>Metadata_Source</th>\n",
       "      <th>Metadata_Batch</th>\n",
       "      <th>Metadata_Plate</th>\n",
       "      <th>Metadata_Well</th>\n",
       "      <th>Metadata_JCP2022</th>\n",
       "      <th>Metadata_Hash</th>\n",
       "      <th>Metadata_Bin</th>\n",
       "      <th>Metadata_TPSA</th>\n",
       "      <th>Metadata_lnTPSA</th>\n",
       "      <th>Metadata_log10TPSA</th>\n",
       "      <th>Metadata_Permiation</th>\n",
       "      <th>Feature_000</th>\n",
       "      <th>Feature_001</th>\n",
       "      <th>Feature_002</th>\n",
       "      <th>Feature_003</th>\n",
       "      <th>Feature_004</th>\n",
       "    </tr>\n",
       "  </thead>\n",
       "  <tbody>\n",
       "    <tr>\n",
       "      <th>0</th>\n",
       "      <td>source_1</td>\n",
       "      <td>Batch5_20221030</td>\n",
       "      <td>UL001793</td>\n",
       "      <td>M26</td>\n",
       "      <td>JCP2022_006020</td>\n",
       "      <td>-9223347314827979542</td>\n",
       "      <td>10</td>\n",
       "      <td>71.18</td>\n",
       "      <td>4.265212</td>\n",
       "      <td>1.852358</td>\n",
       "      <td>0.0</td>\n",
       "      <td>-0.584816</td>\n",
       "      <td>1.739848</td>\n",
       "      <td>-0.512839</td>\n",
       "      <td>0.171693</td>\n",
       "      <td>-0.277947</td>\n",
       "    </tr>\n",
       "    <tr>\n",
       "      <th>1</th>\n",
       "      <td>source_10</td>\n",
       "      <td>2021_06_22_U2OS_48_hr_run8</td>\n",
       "      <td>Dest210622-143628</td>\n",
       "      <td>M04</td>\n",
       "      <td>JCP2022_006020</td>\n",
       "      <td>-9223347314827979542</td>\n",
       "      <td>10</td>\n",
       "      <td>71.18</td>\n",
       "      <td>4.265212</td>\n",
       "      <td>1.852358</td>\n",
       "      <td>0.0</td>\n",
       "      <td>0.072229</td>\n",
       "      <td>4.545980</td>\n",
       "      <td>-0.728832</td>\n",
       "      <td>-6.005501</td>\n",
       "      <td>0.926439</td>\n",
       "    </tr>\n",
       "    <tr>\n",
       "      <th>2</th>\n",
       "      <td>source_3</td>\n",
       "      <td>CP_31_all_Phenix1</td>\n",
       "      <td>B040603b</td>\n",
       "      <td>G13</td>\n",
       "      <td>JCP2022_006020</td>\n",
       "      <td>-9223347314827979542</td>\n",
       "      <td>10</td>\n",
       "      <td>71.18</td>\n",
       "      <td>4.265212</td>\n",
       "      <td>1.852358</td>\n",
       "      <td>0.0</td>\n",
       "      <td>1.418385</td>\n",
       "      <td>4.461677</td>\n",
       "      <td>2.481470</td>\n",
       "      <td>-0.635005</td>\n",
       "      <td>-2.307799</td>\n",
       "    </tr>\n",
       "    <tr>\n",
       "      <th>3</th>\n",
       "      <td>source_6</td>\n",
       "      <td>p211004CPU2OS48hw384exp031JUMP</td>\n",
       "      <td>110000295562</td>\n",
       "      <td>M08</td>\n",
       "      <td>JCP2022_058905</td>\n",
       "      <td>-9223229703754907651</td>\n",
       "      <td>13</td>\n",
       "      <td>58.65</td>\n",
       "      <td>4.071588</td>\n",
       "      <td>1.768268</td>\n",
       "      <td>0.0</td>\n",
       "      <td>-2.747379</td>\n",
       "      <td>0.744657</td>\n",
       "      <td>2.082911</td>\n",
       "      <td>1.504725</td>\n",
       "      <td>1.156345</td>\n",
       "    </tr>\n",
       "    <tr>\n",
       "      <th>4</th>\n",
       "      <td>source_3</td>\n",
       "      <td>CP_32_all_Phenix1</td>\n",
       "      <td>B40003aW</td>\n",
       "      <td>M08</td>\n",
       "      <td>JCP2022_058905</td>\n",
       "      <td>-9223229703754907651</td>\n",
       "      <td>13</td>\n",
       "      <td>58.65</td>\n",
       "      <td>4.071588</td>\n",
       "      <td>1.768268</td>\n",
       "      <td>0.0</td>\n",
       "      <td>0.559964</td>\n",
       "      <td>1.732896</td>\n",
       "      <td>0.296971</td>\n",
       "      <td>-1.477167</td>\n",
       "      <td>1.171373</td>\n",
       "    </tr>\n",
       "  </tbody>\n",
       "</table>\n",
       "</div>"
      ],
      "text/plain": [
       "  Metadata_Source                  Metadata_Batch     Metadata_Plate Metadata_Well Metadata_JCP2022        Metadata_Hash  \\\n",
       "0        source_1                 Batch5_20221030           UL001793           M26   JCP2022_006020 -9223347314827979542   \n",
       "1       source_10      2021_06_22_U2OS_48_hr_run8  Dest210622-143628           M04   JCP2022_006020 -9223347314827979542   \n",
       "2        source_3               CP_31_all_Phenix1           B040603b           G13   JCP2022_006020 -9223347314827979542   \n",
       "3        source_6  p211004CPU2OS48hw384exp031JUMP       110000295562           M08   JCP2022_058905 -9223229703754907651   \n",
       "4        source_3               CP_32_all_Phenix1           B40003aW           M08   JCP2022_058905 -9223229703754907651   \n",
       "\n",
       "   Metadata_Bin  Metadata_TPSA  Metadata_lnTPSA  Metadata_log10TPSA  Metadata_Permiation  Feature_000  Feature_001  Feature_002  \\\n",
       "0            10          71.18         4.265212            1.852358                  0.0    -0.584816     1.739848    -0.512839   \n",
       "1            10          71.18         4.265212            1.852358                  0.0     0.072229     4.545980    -0.728832   \n",
       "2            10          71.18         4.265212            1.852358                  0.0     1.418385     4.461677     2.481470   \n",
       "3            13          58.65         4.071588            1.768268                  0.0    -2.747379     0.744657     2.082911   \n",
       "4            13          58.65         4.071588            1.768268                  0.0     0.559964     1.732896     0.296971   \n",
       "\n",
       "   Feature_003  Feature_004  \n",
       "0     0.171693    -0.277947  \n",
       "1    -6.005501     0.926439  \n",
       "2    -0.635005    -2.307799  \n",
       "3     1.504725     1.156345  \n",
       "4    -1.477167     1.171373  "
      ]
     },
     "execution_count": 19,
     "metadata": {},
     "output_type": "execute_result"
    }
   ],
   "source": [
    "df_train.shape\n",
    "df_train.info()\n",
    "df_train.iloc[:5,:16]"
   ]
  },
  {
   "cell_type": "code",
   "execution_count": 20,
   "id": "8b7d392e-68eb-4474-ad37-12244f4d23b0",
   "metadata": {
    "execution": {
     "iopub.execute_input": "2024-08-13T19:24:30.381848Z",
     "iopub.status.busy": "2024-08-13T19:24:30.381352Z",
     "iopub.status.idle": "2024-08-13T19:24:30.423928Z",
     "shell.execute_reply": "2024-08-13T19:24:30.423098Z",
     "shell.execute_reply.started": "2024-08-13T19:24:30.381806Z"
    }
   },
   "outputs": [
    {
     "data": {
      "text/plain": [
       "346542"
      ]
     },
     "execution_count": 20,
     "metadata": {},
     "output_type": "execute_result"
    }
   ],
   "source": [
    "312000+34542"
   ]
  },
  {
   "cell_type": "code",
   "execution_count": 21,
   "id": "8710ee4c-badf-4f28-a214-f8354f6c1e5f",
   "metadata": {
    "execution": {
     "iopub.execute_input": "2024-08-13T19:24:31.216625Z",
     "iopub.status.busy": "2024-08-13T19:24:31.216131Z",
     "iopub.status.idle": "2024-08-13T19:24:31.420957Z",
     "shell.execute_reply": "2024-08-13T19:24:31.420138Z",
     "shell.execute_reply.started": "2024-08-13T19:24:31.216584Z"
    }
   },
   "outputs": [
    {
     "data": {
      "text/plain": [
       "37164"
      ]
     },
     "execution_count": 21,
     "metadata": {},
     "output_type": "execute_result"
    },
    {
     "data": {
      "text/plain": [
       "((312000,), numpy.ndarray, dtype('uint8'))"
      ]
     },
     "execution_count": 21,
     "metadata": {},
     "output_type": "execute_result"
    },
    {
     "data": {
      "text/plain": [
       "((312000, 150), numpy.ndarray, dtype('float64'))"
      ]
     },
     "execution_count": 21,
     "metadata": {},
     "output_type": "execute_result"
    }
   ],
   "source": [
    "train_y = df_train.iloc[:,10:11].to_numpy().ravel().astype(np.uint8)\n",
    "train_y.sum()\n",
    "train_y.shape, type(train_y), train_y.dtype\n",
    "\n",
    "train_X = df_train.iloc[:,11:].to_numpy()\n",
    "train_X.shape,type(train_X) ,train_X.dtype"
   ]
  },
  {
   "cell_type": "markdown",
   "id": "00c738a2-74d5-4702-a93f-36428714aedf",
   "metadata": {},
   "source": [
    "## Standardize inputs"
   ]
  },
  {
   "cell_type": "code",
   "execution_count": 22,
   "id": "6ba790ed-fea3-4803-bf33-91b2a0d74fd7",
   "metadata": {
    "execution": {
     "iopub.execute_input": "2024-08-13T19:24:32.337765Z",
     "iopub.status.busy": "2024-08-13T19:24:32.337272Z",
     "iopub.status.idle": "2024-08-13T19:24:32.800020Z",
     "shell.execute_reply": "2024-08-13T19:24:32.798966Z",
     "shell.execute_reply.started": "2024-08-13T19:24:32.337723Z"
    }
   },
   "outputs": [
    {
     "name": "stdout",
     "output_type": "stream",
     "text": [
      "Train_X :  Min: -72.2029    Max: 103.8641   Mean: 0.0527  Std: 2.5164\n",
      "Test_X  :  Min: -53.3835    Max: 71.4748    Mean: 0.0529  Std: 2.4997\n"
     ]
    }
   ],
   "source": [
    "print(f\"Train_X :  Min: {train_X.min():.4f}    Max: {train_X.max():.4f}   Mean: {train_X.mean():.4f}  Std: {train_X.std():.4f}\")\n",
    "print(f\"Test_X  :  Min: {test_X.min():.4f}    Max: {test_X.max():.4f}    Mean: {test_X.mean():.4f}  Std: {test_X.std():.4f}\")"
   ]
  },
  {
   "cell_type": "code",
   "execution_count": 23,
   "id": "8ab780bd-8b49-46ce-b18b-abc1e0ff181d",
   "metadata": {
    "execution": {
     "iopub.execute_input": "2024-08-13T19:24:33.528131Z",
     "iopub.status.busy": "2024-08-13T19:24:33.527642Z",
     "iopub.status.idle": "2024-08-13T19:24:33.570174Z",
     "shell.execute_reply": "2024-08-13T19:24:33.569459Z",
     "shell.execute_reply.started": "2024-08-13T19:24:33.528091Z"
    }
   },
   "outputs": [],
   "source": [
    "# print(f\"Train_X :  Min: {train_X.min():.4f}    Max: {train_X.max():.4f}   Mean: {train_X.mean():.4f}  Std: {train_X.std():.4f}\")\n",
    "# print(f\"Test_X  :  Min: {test_X.min():.4f}    Max: {test_X.max():.4f}    Mean: {test_X.mean():.4f}  Std: {test_X.std():.4f}\")"
   ]
  },
  {
   "cell_type": "code",
   "execution_count": 24,
   "id": "614ed6ad-1c8c-4c10-9bc5-82e6fcc9fa56",
   "metadata": {
    "execution": {
     "iopub.execute_input": "2024-08-13T19:24:33.890559Z",
     "iopub.status.busy": "2024-08-13T19:24:33.889942Z",
     "iopub.status.idle": "2024-08-13T19:24:34.689413Z",
     "shell.execute_reply": "2024-08-13T19:24:34.688691Z",
     "shell.execute_reply.started": "2024-08-13T19:24:33.890476Z"
    }
   },
   "outputs": [],
   "source": [
    "scaler = StandardScaler(copy = True)\n",
    "train_X = scaler.fit_transform(train_X)\n",
    "test_X = scaler.transform(test_X)"
   ]
  },
  {
   "cell_type": "code",
   "execution_count": 25,
   "id": "34a118cd-aed2-4e64-a4da-8de20a99be3a",
   "metadata": {
    "execution": {
     "iopub.execute_input": "2024-08-13T19:24:34.691554Z",
     "iopub.status.busy": "2024-08-13T19:24:34.691225Z",
     "iopub.status.idle": "2024-08-13T19:24:35.144298Z",
     "shell.execute_reply": "2024-08-13T19:24:35.143272Z",
     "shell.execute_reply.started": "2024-08-13T19:24:34.691521Z"
    }
   },
   "outputs": [
    {
     "name": "stdout",
     "output_type": "stream",
     "text": [
      "After Standard Scaler Transformation\n",
      "Train_X :  Min: -33.4514    Max: 27.3319   Mean: -0.0000  Std: 1.0000\n",
      "Test_X  :  Min: -24.2626    Max: 28.1195    Mean: 0.0003  Std: 0.9889\n"
     ]
    }
   ],
   "source": [
    "print(\"After Standard Scaler Transformation\")\n",
    "print(f\"Train_X :  Min: {train_X.min():.4f}    Max: {train_X.max():.4f}   Mean: {train_X.mean():.4f}  Std: {train_X.std():.4f}\")\n",
    "print(f\"Test_X  :  Min: {test_X.min():.4f}    Max: {test_X.max():.4f}    Mean: {test_X.mean():.4f}  Std: {test_X.std():.4f}\")\n"
   ]
  },
  {
   "cell_type": "code",
   "execution_count": 26,
   "id": "c685b4df-8975-4935-8bd2-edba44873a90",
   "metadata": {
    "execution": {
     "iopub.execute_input": "2024-08-13T19:24:36.082161Z",
     "iopub.status.busy": "2024-08-13T19:24:36.081671Z",
     "iopub.status.idle": "2024-08-13T19:24:36.125587Z",
     "shell.execute_reply": "2024-08-13T19:24:36.124622Z",
     "shell.execute_reply.started": "2024-08-13T19:24:36.082121Z"
    }
   },
   "outputs": [
    {
     "name": "stdout",
     "output_type": "stream",
     "text": [
      " Training\n",
      " ---------\n",
      " Total samples: 312000  - compounds: 104000\n",
      " Label 0: 274,836      % 88.09 \n",
      " Label 1:  37,164      % 11.91 \n",
      "\n",
      " Test\n",
      " -----\n",
      " Total samples: 34542  - compounds: 11514\n",
      " Label 0:  30,378      % 87.95 \n",
      " Label 1:   4,164      % 12.05 \n",
      "\n"
     ]
    }
   ],
   "source": [
    "label_counts([(\"Training\", train_y), (\"Test\", test_y)])"
   ]
  },
  {
   "cell_type": "code",
   "execution_count": null,
   "id": "a0b7ad73-1936-428c-bd8e-341f594d816b",
   "metadata": {},
   "outputs": [],
   "source": []
  },
  {
   "cell_type": "markdown",
   "id": "aa293a17-1064-44e2-8d7c-42a5aef53159",
   "metadata": {
    "jp-MarkdownHeadingCollapsed": true
   },
   "source": [
    "# TQDM Examples"
   ]
  },
  {
   "cell_type": "code",
   "execution_count": 322,
   "id": "7d4955de-e618-45a3-83be-028e913b55d1",
   "metadata": {
    "execution": {
     "iopub.execute_input": "2024-08-14T19:32:03.322606Z",
     "iopub.status.busy": "2024-08-14T19:32:03.322242Z",
     "iopub.status.idle": "2024-08-14T19:32:03.375094Z",
     "shell.execute_reply": "2024-08-14T19:32:03.374284Z",
     "shell.execute_reply.started": "2024-08-14T19:32:03.322576Z"
    }
   },
   "outputs": [],
   "source": [
    "#-----------------------------------------\n",
    "# TRANGE example\n",
    "#-----------------------------------------   \n",
    "# with trange(+1, ns.trn_iters_warmup+1 , initial = 0 , total = ns.trn_iters_warmup, position=0, file=sys.stdout,\n",
    "#             leave= False, disable = disable_tqdm, desc=f\" Warmup Epoch {ns.current_epoch}/{ns.stop_epoch_warmup}\") as t_warmup :\n",
    "#     for _ in t_warmup:\n",
    "#         ns.current_iter += 1            \n",
    "\n",
    "#         batch = next(dldrs.warmup_trn_loader)            \n",
    "#         environ.set_inputs(batch, input_size)\n",
    "\n",
    "#         environ.optimize(is_policy=False, \n",
    "#                          num_train_layers=ns.num_train_layers,\n",
    "#                          flag='update_weights', \n",
    "#                          verbose = verbose)\n",
    "    \n",
    "#         t_warmup.set_postfix({'curr_iter':ns.current_iter, \n",
    "#                             'Loss': f\"{environ.losses['total']['total'].item():.4f}\"})\n",
    "\n",
    "#-----------------------------------------\n",
    "# TQDM example\n",
    "#-----------------------------------------   \n",
    "# current_epoch = 1\n",
    "# total_epochs = 20\n",
    "# current_iter = 0 \n",
    "# train_minibatches = len(data_loader['train']) // minibatch_size\n",
    "# val_minibatches = len(data_loader['val']) // minibatch_size\n",
    "\n",
    "# # with batch_count, (batch_features, batch_labels, _, _, _, _) in tqdm(enumerate(data_loader['train']), initial=0, total = 400, position=0, file=sys.stdout,\n",
    "#             # leave= False, desc=f\" Epoch {current_epoch}/{total_epochs}\") as t_warmup :\n",
    "# t_warmup =  tqdm(enumerate(data_loader['train']), initial=0, total = train_minibatches, position=0, file=sys.stdout,\n",
    "#             leave= False, desc=f\" Epoch {current_epoch}/{total_epochs}\") \n",
    "# for batch_count, (batch_features, batch_labels, _, _, _, _) in t_warmup:\n",
    "#     # batch_count, (batch_features, batch_labels, _, _, _, _) = pp\n",
    "#     loss = random.random()\n",
    "#     t_warmup.set_postfix({'curr_iter':batch_count, 'Loss': f\"{loss:.4f}\"})"
   ]
  }
 ],
 "metadata": {
  "kernelspec": {
   "display_name": "Python [conda env:cp311]",
   "language": "python",
   "name": "conda-env-cp311-py"
  },
  "language_info": {
   "codemirror_mode": {
    "name": "ipython",
    "version": 3
   },
   "file_extension": ".py",
   "mimetype": "text/x-python",
   "name": "python",
   "nbconvert_exporter": "python",
   "pygments_lexer": "ipython3",
   "version": "3.11.4"
  }
 },
 "nbformat": 4,
 "nbformat_minor": 5
}
