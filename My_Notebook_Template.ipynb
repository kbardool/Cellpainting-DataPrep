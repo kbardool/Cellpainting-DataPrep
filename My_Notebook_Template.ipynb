{
 "cells": [
  {
   "cell_type": "markdown",
   "id": "e64eb7e2-46d0-4743-bfa2-9aa387aa9d85",
   "metadata": {},
   "source": [
    "  # Notebook Template"
   ]
  },
  {
   "cell_type": "markdown",
   "id": "5a1611ec-7497-43cc-9ed3-a51fa8b5f398",
   "metadata": {},
   "source": [
    "# Initializations"
   ]
  },
  {
   "cell_type": "code",
   "execution_count": 1,
   "id": "11ad0ae2",
   "metadata": {
    "ExecuteTime": {
     "end_time": "2023-04-12T10:29:15.566596Z",
     "start_time": "2023-04-12T10:29:15.550232Z"
    },
    "execution": {
     "iopub.execute_input": "2024-02-01T10:42:17.861989Z",
     "iopub.status.busy": "2024-02-01T10:42:17.861513Z",
     "iopub.status.idle": "2024-02-01T10:42:17.957752Z",
     "shell.execute_reply": "2024-02-01T10:42:17.957063Z",
     "shell.execute_reply.started": "2024-02-01T10:42:17.861943Z"
    }
   },
   "outputs": [
    {
     "data": {
      "text/html": [
       "<style>.container { width:98% !important; }</style>"
      ],
      "text/plain": [
       "<IPython.core.display.HTML object>"
      ]
     },
     "metadata": {},
     "output_type": "display_data"
    }
   ],
   "source": [
    "from IPython.display import display, HTML\n",
    "display(HTML(\"<style>.container { width:98% !important; }</style>\"))\n",
    "%load_ext autoreload  \n",
    "%autoreload 2\n",
    "from IPython.core.interactiveshell import InteractiveShell\n",
    "InteractiveShell.ast_node_interactivity = \"all\""
   ]
  },
  {
   "cell_type": "code",
   "execution_count": 2,
   "id": "9ba59711",
   "metadata": {
    "ExecuteTime": {
     "end_time": "2023-04-12T10:29:16.111588Z",
     "start_time": "2023-04-12T10:29:15.764305Z"
    },
    "execution": {
     "iopub.execute_input": "2024-02-01T10:42:17.959746Z",
     "iopub.status.busy": "2024-02-01T10:42:17.959368Z",
     "iopub.status.idle": "2024-02-01T10:42:26.014516Z",
     "shell.execute_reply": "2024-02-01T10:42:26.013807Z",
     "shell.execute_reply.started": "2024-02-01T10:42:17.959720Z"
    }
   },
   "outputs": [
    {
     "name": "stdout",
     "output_type": "stream",
     "text": [
      "insert ./src\n",
      "['./src', '/home/kevin/WSL-shared/Cellpainting/cj-datasets', '/home/kevin/miniforge3/envs/cp312/lib/python312.zip', '/home/kevin/miniforge3/envs/cp312/lib/python3.12', '/home/kevin/miniforge3/envs/cp312/lib/python3.12/lib-dynload', '', '/home/kevin/miniforge3/envs/cp312/lib/python3.12/site-packages']\n"
     ]
    }
   ],
   "source": [
    "import os\n",
    "import sys\n",
    "import argparse\n",
    "import csv\n",
    "import json\n",
    "import time\n",
    "import types, copy\n",
    "from datetime import datetime\n",
    "if './src' not in sys.path:\n",
    "    print(f\"insert ./src\")\n",
    "    sys.path.insert(0, './src')\n",
    "print(sys.path)\n",
    "\n",
    "\n",
    "import numpy as np\n",
    "np.set_printoptions(edgeitems=3, infstr='inf', linewidth=150, nanstr='nan')\n",
    "\n",
    "import pandas as pd\n",
    "pd.options.display.width = 132\n",
    "\n",
    "from scipy.sparse import csr_matrix\n",
    "from collections.abc import Iterator\n",
    "\n",
    "import pprint\n",
    "pp = pprint.PrettyPrinter(indent=4)\n",
    "\n",
    "os.environ[\"WANDB_NOTEBOOK_NAME\"] = \"Adashare_Train.ipynb\"\n",
    "os.environ[\"CUDA_LAUNCH_BLOCKING\"] = \"1\""
   ]
  },
  {
   "cell_type": "code",
   "execution_count": 3,
   "id": "a72c857f-7f12-45f7-a827-34da77ba7234",
   "metadata": {
    "execution": {
     "iopub.execute_input": "2024-02-01T10:42:26.020929Z",
     "iopub.status.busy": "2024-02-01T10:42:26.020668Z",
     "iopub.status.idle": "2024-02-01T10:42:45.645641Z",
     "shell.execute_reply": "2024-02-01T10:42:45.644485Z",
     "shell.execute_reply.started": "2024-02-01T10:42:26.020905Z"
    }
   },
   "outputs": [],
   "source": [
    "from utils import display_gpu_info, display_gpu_device_info\n",
    "from utils_ml import model_selection \n",
    "# (initialize, init_dataloaders, init_environment, init_wandb, training_initializations, model_initializations, \n",
    "#  check_for_resume_training, disp_dataloader_info, disp_training_parms, warmup_phase, weight_policy_training, \n",
    "#  display_gpu_info, display_gpu_device_info, init_dataloaders_by_fold_id, print_separator, print_heading, \n",
    "#  timestring, print_loss, get_command_line_args, load_from_pickle ) "
   ]
  },
  {
   "cell_type": "code",
   "execution_count": null,
   "id": "2ac3d828-2423-495a-a055-c6023cac1c02",
   "metadata": {
    "execution": {
     "iopub.execute_input": "2024-02-01T10:55:07.933031Z",
     "iopub.status.busy": "2024-02-01T10:55:07.932502Z"
    }
   },
   "outputs": [],
   "source": [
    "study_name = 'abc'\n",
    "input(f\" Delete study {study_name} ?\")\n",
    "if input.lower() in ['yes' ,'y']:\n",
    "    print(' You responsed yes')"
   ]
  },
  {
   "cell_type": "code",
   "execution_count": null,
   "id": "3f3a07cd",
   "metadata": {},
   "outputs": [],
   "source": [
    "import psycopg2\n",
    "from sqlalchemy import create_engine"
   ]
  },
  {
   "cell_type": "code",
   "execution_count": 3,
   "id": "2c2c6895",
   "metadata": {
    "ExecuteTime": {
     "end_time": "2023-04-12T10:29:16.956833Z",
     "start_time": "2023-04-12T10:29:16.113287Z"
    }
   },
   "outputs": [],
   "source": [
    "from chembl_webresource_client.new_client import new_client\n",
    "from chembl_webresource_client.utils import utils"
   ]
  },
  {
   "cell_type": "code",
   "execution_count": null,
   "id": "490ee5aa",
   "metadata": {},
   "outputs": [],
   "source": [
    "import pubchempy as pcp"
   ]
  },
  {
   "cell_type": "code",
   "execution_count": 4,
   "id": "268d3171",
   "metadata": {
    "ExecuteTime": {
     "end_time": "2023-04-12T10:29:17.039982Z",
     "start_time": "2023-04-12T10:29:16.958700Z"
    }
   },
   "outputs": [],
   "source": [
    "import rdkit\n",
    "from rdkit.Chem import inchi\n",
    "from rdkit.Chem import INCHI_AVAILABLE\n",
    "from rdkit import Chem\n",
    "from rdkit.Chem.Draw import IPythonConsole\n",
    "from rdkit.Chem import Draw\n",
    "IPythonConsole.ipython_useSVG=True  #< set this to False if you want PNGs instead of SVGs\n",
    "import rdkit.Avalon.pyAvalonTools as pat\n",
    "import rdkit.Chem.MolStandardize as rdms\n",
    "from rdkit.Chem import ChemicalFeatures\n",
    "from rdkit import RDConfig\n",
    "from rdkit.Chem import AllChem\n",
    "from rdkit.Chem.Pharm2D import Generate\n",
    "from rdkit.Chem.Pharm2D import Gobbi_Pharm2D\n",
    "\n",
    "if INCHI_AVAILABLE:\n",
    "  from rdkit.Chem import InchiReadWriteError\n",
    "  from rdkit.Chem import MolToInchi, MolBlockToInchi, MolFromInchi, InchiToInchiKey, MolToInchiKey, MolFromMolFile, MolToMolFile\n",
    "else:\n",
    "    print('INCHI not available')"
   ]
  },
  {
   "cell_type": "code",
   "execution_count": null,
   "id": "28b0ff70-8483-49b5-a308-26720cf31118",
   "metadata": {},
   "outputs": [],
   "source": [
    "print(\"1- '%x_%X'               : \",time.strftime('%x_%X'))\n",
    "print(\"2- '%X.%f'               : \",datetime.now().strftime('%X.%f'))\n",
    "print(\"3- '%X %x %Z'            : \",time.strftime('%X %x %Z'))\n",
    "print(\"4- '%D-%X.%f'            : \",datetime.now().strftime('%D-%X.%f'))\n",
    "print(\"5- '%Y-%m-%d %H:%M:%S.%f': \",datetime.now().strftime('%Y-%m-%d %H:%M:%S.%f'))\n",
    "print(\"6- '%Y%m%d_%H%M%S'       : \",datetime.now().strftime('%Y%m%d_%H%M%S'))\n",
    "print(\"7- '%Y_%m_%d_%H:%M:%S'   : \",datetime.now().strftime('%Y_%m_%d_%H:%M:%S'))\n",
    "\n",
    "timestamp = datetime.now().strftime('%Y_%m_%d_%H:%M:%S')\n",
    "print('\\n SQL Output filename:  ','./tmp/sql_cohort'+'_'+timestamp+'.txt')"
   ]
  },
  {
   "cell_type": "markdown",
   "id": "0671c494-1450-40ec-9171-df3ff359172b",
   "metadata": {},
   "source": [
    "## xgboost and dask imports "
   ]
  },
  {
   "cell_type": "code",
   "execution_count": 92,
   "id": "07f3fe7e-8c0d-4251-8e4c-b15470100235",
   "metadata": {
    "ExecuteTime": {
     "end_time": "2023-12-21T20:50:31.139023Z",
     "start_time": "2023-12-21T20:50:30.891155Z"
    },
    "execution": {
     "iopub.execute_input": "2024-01-31T11:51:00.179860Z",
     "iopub.status.busy": "2024-01-31T11:51:00.179353Z",
     "iopub.status.idle": "2024-01-31T11:51:00.234066Z",
     "shell.execute_reply": "2024-01-31T11:51:00.233301Z",
     "shell.execute_reply.started": "2024-01-31T11:51:00.179819Z"
    }
   },
   "outputs": [],
   "source": [
    "import joblib\n",
    "# from dask_cuda import LocalCUDACluster\n",
    "# from sklearn.model_selection import GridSearchCV\n",
    "import optuna\n",
    "\n",
    "import xgboost as xgb\n",
    "from xgboost import XGBClassifier, XGBRegressor\n",
    "\n",
    "import dask\n",
    "import dask.array as da\n",
    "import dask.dataframe as dd\n",
    "from dask import delayed\n",
    "from dask.distributed import Client\n",
    "from dask.distributed import LocalCluster\n",
    "from dask_cuda import LocalCUDACluster\n",
    "import dask_ml.model_selection as dcv\n",
    "# from dask_ml.model_selection import train_test_split\n",
    "# from dask_ml.model_selection import GridSearchCV, IncrementalSearchCV, HyperbandSearchCV\n",
    "# from dask_ml.metrics import mean_squared_error, r2_score, mean_squared_log_error\n",
    "import sklearn.metrics as skm"
   ]
  },
  {
   "cell_type": "code",
   "execution_count": 93,
   "id": "ae7524c3-bdee-4ece-9814-2aec82fba587",
   "metadata": {
    "ExecuteTime": {
     "end_time": "2023-12-21T20:50:28.476862Z",
     "start_time": "2023-12-21T20:50:28.461907Z"
    },
    "execution": {
     "iopub.execute_input": "2024-01-31T11:51:01.348938Z",
     "iopub.status.busy": "2024-01-31T11:51:01.348462Z",
     "iopub.status.idle": "2024-01-31T11:51:01.391801Z",
     "shell.execute_reply": "2024-01-31T11:51:01.390991Z",
     "shell.execute_reply.started": "2024-01-31T11:51:01.348896Z"
    }
   },
   "outputs": [],
   "source": [
    "# os.environ[\"WANDB_NOTEBOOK_NAME\"] = \"Adashare_Train.ipynb\"\n",
    "os.environ[\"CUDA_LAUNCH_BLOCKING\"] = \"1\"\n",
    "os.environ[\"CUDA_VISIBLE_DEVICES\"] = \"0\""
   ]
  },
  {
   "cell_type": "code",
   "execution_count": 94,
   "id": "f8c26915-57f2-46e9-acda-5223c86ff7c5",
   "metadata": {
    "execution": {
     "iopub.execute_input": "2024-01-31T11:51:02.996512Z",
     "iopub.status.busy": "2024-01-31T11:51:02.996018Z",
     "iopub.status.idle": "2024-01-31T11:51:03.043618Z",
     "shell.execute_reply": "2024-01-31T11:51:03.038749Z",
     "shell.execute_reply.started": "2024-01-31T11:51:02.996475Z"
    }
   },
   "outputs": [],
   "source": [
    "import warnings\n",
    "warnings.filterwarnings('ignore')"
   ]
  },
  {
   "cell_type": "markdown",
   "id": "0b452148-aa34-4ebd-998c-fa92cc1b2d23",
   "metadata": {},
   "source": [
    "## GPU Status"
   ]
  },
  {
   "cell_type": "code",
   "execution_count": 91,
   "id": "98c7c273-ff43-44ba-8f8c-6bae64d698e0",
   "metadata": {
    "execution": {
     "iopub.execute_input": "2024-01-31T11:50:55.404297Z",
     "iopub.status.busy": "2024-01-31T11:50:55.403818Z",
     "iopub.status.idle": "2024-01-31T11:50:55.477733Z",
     "shell.execute_reply": "2024-01-31T11:50:55.476654Z",
     "shell.execute_reply.started": "2024-01-31T11:50:55.404256Z"
    }
   },
   "outputs": [
    {
     "name": "stdout",
     "output_type": "stream",
     "text": [
      "\n",
      "CUDA Device(s) available\n",
      "--------------------------\n",
      " CUDA device count   :  3\n",
      " CUDA current device :  0   name:  Quadro GV100\n",
      "\n",
      "\n",
      "GPU Device Info \n",
      "------------------\n",
      " Device : cuda:0\n",
      "   name:        Quadro GV100\n",
      "   capability:  (7, 0)\n",
      "   properties:  _CudaDeviceProperties(name='Quadro GV100', major=7, minor=0, total_memory=32508MB, multi_processor_count=80)\n",
      "   Allocated :  0\n",
      "   Reserved  :  0\n",
      "\n",
      " Device : cuda:1\n",
      "   name:        Quadro GV100\n",
      "   capability:  (7, 0)\n",
      "   properties:  _CudaDeviceProperties(name='Quadro GV100', major=7, minor=0, total_memory=32508MB, multi_processor_count=80)\n",
      "   Allocated :  0\n",
      "   Reserved  :  0\n",
      "\n",
      " Device : cuda:2\n",
      "   name:        NVIDIA TITAN Xp\n",
      "   capability:  (6, 1)\n",
      "   properties:  _CudaDeviceProperties(name='NVIDIA TITAN Xp', major=6, minor=1, total_memory=12196MB, multi_processor_count=30)\n",
      "   Allocated :  0\n",
      "   Reserved  :  0\n",
      "\n",
      "\n",
      "GPU Usage Stats \n",
      "------------------\n",
      "| ID | GPU | MEM |\n",
      "------------------\n",
      "|  0 | 52% | 15% |\n",
      "|  1 |  0% |  1% |\n",
      "|  2 |  0% |  0% |\n",
      "\n",
      " torch.cuda.current-device():  0\n",
      " ids :  [0]\n",
      "\n",
      "\n",
      "nvml_gpu_id: 0\n",
      "----------------\n",
      " nvml handle: <pynvml.nvml.LP_struct_c_nvmlDevice_t object at 0x7f21d1f06de0>\n",
      "\n",
      "nvml Device Memory Info\n",
      "-------------------------\n",
      "c_nvmlMemory_t(total: 12788498432 B, free: 10831724544 B, used: 1956773888 B)\n"
     ]
    }
   ],
   "source": [
    "display_gpu_info()"
   ]
  },
  {
   "cell_type": "markdown",
   "id": "310c2632-25ea-4d62-bc63-f23335699419",
   "metadata": {},
   "source": [
    "## Logging"
   ]
  },
  {
   "cell_type": "code",
   "execution_count": 96,
   "id": "e4ce051a-3c0c-44c5-bbff-b0be6aa5a074",
   "metadata": {
    "execution": {
     "iopub.execute_input": "2024-01-31T11:51:09.153763Z",
     "iopub.status.busy": "2024-01-31T11:51:09.153128Z",
     "iopub.status.idle": "2024-01-31T11:51:09.212046Z",
     "shell.execute_reply": "2024-01-31T11:51:09.211247Z",
     "shell.execute_reply.started": "2024-01-31T11:51:09.153710Z"
    }
   },
   "outputs": [
    {
     "name": "stderr",
     "output_type": "stream",
     "text": [
      "2024-01-31 12:51:09,205 - INFO: -  1/7- engine connected\n",
      "2024-01-31 12:51:09,206 - WARNING: -  1/7- engine connected\n",
      "2024-01-31 12:51:09,207 - ERROR: -  1/7- engine connected\n",
      "2024-01-31 12:51:09,208 - CRITICAL: -  1/7- engine connected\n"
     ]
    }
   ],
   "source": [
    "logLevel = os.environ.get('LOG_LEVEL', 'INFO').upper()\n",
    "FORMAT = '%(asctime)s - %(levelname)s: - %(message)s'\n",
    "logging.basicConfig(level=\"INFO\", format= FORMAT)\n",
    "logging.getLogger(\"imported_module\").setLevel(logging.CRITICAL)\n",
    "logging.info(f\" 1/7- engine connected\")\n",
    "logging.warning(f\" 1/7- engine connected\")\n",
    "logging.error(f\" 1/7- engine connected\")\n",
    "logging.critical(f\" 1/7- engine connected\")\n",
    "\n",
    "# print(logging.NOTSET, logging.DEBUG,  logging.INFO, logging.WARN, logging.WARNING, logging.ERROR, logging.CRITICAL,  logging.FATAL)\n",
    "# xgb.__version__"
   ]
  },
  {
   "cell_type": "markdown",
   "id": "96c9604e-4efe-46fc-90e4-f9784111be60",
   "metadata": {},
   "source": [
    "## DB Connection"
   ]
  },
  {
   "cell_type": "code",
   "execution_count": 5,
   "id": "f35157c2",
   "metadata": {
    "ExecuteTime": {
     "end_time": "2023-04-12T10:29:17.530286Z",
     "start_time": "2023-04-12T10:29:17.404320Z"
    }
   },
   "outputs": [
    {
     "name": "stdout",
     "output_type": "stream",
     "text": [
      "# This file was automatically generated by WSL. To stop automatic generation of this file, add the following entry to /etc/wsl.conf:\r\n",
      "# [network]\r\n",
      "# generateResolvConf = false\r\n",
      "nameserver 172.30.144.1\r\n"
     ]
    }
   ],
   "source": [
    "## Get ip address of Windows host from resolv.conf\n",
    "# !cat /etc/hosts \n",
    "!cat /etc/resolv.conf"
   ]
  },
  {
   "cell_type": "code",
   "execution_count": 6,
   "id": "01b542bd",
   "metadata": {
    "ExecuteTime": {
     "end_time": "2023-04-12T10:29:18.138236Z",
     "start_time": "2023-04-12T10:29:18.125604Z"
    }
   },
   "outputs": [],
   "source": [
    "LOCALDBHOST=\"MSI-GS76\"\n",
    "## Point to Host OS (Windows 10)\n",
    "DBHOST = \"172.30.144.1\"    \n",
    "# DBHOST = \"172.31.208.1\"\n",
    "# DBHOST = \"172.20.240.1\"\n",
    "# DBHOST = \"172.27.0.1\""
   ]
  },
  {
   "cell_type": "code",
   "execution_count": 7,
   "id": "b3cdef68",
   "metadata": {
    "ExecuteTime": {
     "end_time": "2023-04-12T10:29:19.732979Z",
     "start_time": "2023-04-12T10:29:19.678794Z"
    }
   },
   "outputs": [
    {
     "name": "stdout",
     "output_type": "stream",
     "text": [
      "2.9.3 (dt dec pq3 ext lo64)\n"
     ]
    }
   ],
   "source": [
    "print(psycopg2.__version__)\n",
    "engine = create_engine(f\"postgresql://kevin:Ahwaz22@{DBHOST}:5432?dbname=chembl_32\") \n",
    "conn = engine.connect()"
   ]
  },
  {
   "cell_type": "markdown",
   "id": "f2e91cb1-7bc8-42e5-8d9e-1cdf2460def1",
   "metadata": {},
   "source": [
    "# Start"
   ]
  },
  {
   "cell_type": "code",
   "execution_count": 69,
   "id": "5c7b3ae6",
   "metadata": {
    "ExecuteTime": {
     "end_time": "2023-04-12T11:11:31.149794Z",
     "start_time": "2023-04-12T11:11:31.134337Z"
    }
   },
   "outputs": [
    {
     "data": {
      "text/html": [
       "<div>\n",
       "<style scoped>\n",
       "    .dataframe tbody tr th:only-of-type {\n",
       "        vertical-align: middle;\n",
       "    }\n",
       "\n",
       "    .dataframe tbody tr th {\n",
       "        vertical-align: top;\n",
       "    }\n",
       "\n",
       "    .dataframe thead th {\n",
       "        text-align: right;\n",
       "    }\n",
       "</style>\n",
       "<table border=\"1\" class=\"dataframe\">\n",
       "  <thead>\n",
       "    <tr style=\"text-align: right;\">\n",
       "      <th></th>\n",
       "      <th>molregno</th>\n",
       "      <th>molfile</th>\n",
       "      <th>standard_inchi</th>\n",
       "      <th>standard_inchi_key</th>\n",
       "      <th>canonical_smiles</th>\n",
       "    </tr>\n",
       "  </thead>\n",
       "  <tbody>\n",
       "  </tbody>\n",
       "</table>\n",
       "</div>"
      ],
      "text/plain": [
       "Empty DataFrame\n",
       "Columns: [molregno, molfile, standard_inchi, standard_inchi_key, canonical_smiles]\n",
       "Index: []"
      ]
     },
     "execution_count": 69,
     "metadata": {},
     "output_type": "execute_result"
    }
   ],
   "source": [
    "identifier = 'QDBVSOZTVKXUES-UHFFFAOYSA-N'\n",
    "# identifier = 'KRGQEOSDQHTZMX-IGCYCDGOSA-N'\n",
    "smiles = 'N(C)CCCNC(=O)C1=CC=C(C=C1)C2=CC(=C3C(=C2)C=CC=N3)O'\n",
    "# inchi      = 'InChI=1S/C6H8O6/c7-1-2(8)5-3(9)4(10)6(11)12-5/h2-3,5,7-9H,1H2/t2-,3?,5+/m0/s1'\n",
    "# df_sql = pd.read_sql(f\"SELECT molregno, molfile, standard_inchi,  canonical_smiles from chembl_32.compound_structures where standard_inchi_key = '{identifier}'\", con = conn)\n",
    "# df_sql = pd.read_sql(f\"SELECT * from chembl_32.compound_structures where standard_inchi_key = '{identifier}'\", con = conn)\n",
    "# df_sql = pd.read_sql(f\"SELECT * from chembl_32.compound_structures where standard_inchi = '{inchi}'\", con = conn)\n",
    "df_sql = pd.read_sql(f\"SELECT * from chembl_32.compound_structures where canonical_smiles = '{smiles}'\", con = conn)\n",
    "df_sql"
   ]
  },
  {
   "cell_type": "code",
   "execution_count": 9,
   "id": "3de33990",
   "metadata": {
    "ExecuteTime": {
     "end_time": "2023-04-12T10:29:21.632181Z",
     "start_time": "2023-04-12T10:29:21.614709Z"
    }
   },
   "outputs": [],
   "source": [
    "def printMol(mol, width = 450, height = 150):\n",
    "    bits = AllChem.GetMorganFingerprint(mol, 3) \n",
    "    print ('Chembl-id:    %s' % list(mol.GetPropNames()))\n",
    "#     print ('Chembl-id:    %s' % mol.GetProp('chembl_id'))\n",
    "    print ('Num of Atoms: %d' % mol.GetNumAtoms())\n",
    "    print (\"#bits:        %d\" % len(bits.GetNonzeroElements()))\n",
    "    print ('Smiles:       %s' % Chem.MolToSmiles(mol, isomericSmiles=True))\n",
    "    print (\"\")\n",
    "    drawMol(mol, width, height)\n",
    "\n",
    "    \n",
    "def drawMol(mol, width = 450, height = 150):\n",
    "    from IPython.display import SVG\n",
    "    from rdkit.Chem.Draw import rdMolDraw2D\n",
    "#     molSize = (width, height)\n",
    "    mc = Chem.Mol(mol.ToBinary())\n",
    "    if not mc.GetNumConformers():\n",
    "        rdDepictor.Compute2DCoords(mc)\n",
    "\n",
    "    drawer = rdMolDraw2D.MolDraw2DSVG(width, height)\n",
    "    drawer.DrawMolecule(mc)\n",
    "    drawer.FinishDrawing()\n",
    "    svg = drawer.GetDrawingText()\n",
    "    display(SVG(svg.replace('svg:','')))  \n",
    "    \n",
    "    \n",
    "def saveFingerprints(results, filename):\n",
    "  \"\"\" results is a dictionary: chembl_id -> [fingerprints] \"\"\"\n",
    "  with open(filename, 'w') as csvfile:\n",
    "    fpwriter = csv.writer(csvfile, delimiter=\",\", quoting=csv.QUOTE_NONE)\n",
    "    fpwriter.writerow([\"compound\",\"feature\"])\n",
    "    for compound in results:\n",
    "        for feature in results[compound]:\n",
    "            fpwriter.writerow( [compound, feature] )\n",
    "    print(f\" => fingerprints written to {filename} \")   \n",
    "    \n",
    "    \n",
    "    \n",
    "    \n",
    "def saveFingerprintsNpy(results, filename, cmpdlist, ecfp_fold=32000):\n",
    "    \"\"\" write fingerprints to npy, compunds to CSV file \"\"\"\n",
    "    ## fp2 : list of tuples : each tuple: (compound id, (array of features, array of counts))\n",
    "    fp2 =[(x,(np.array(list(results[x].keys())), np.array(list(results[x].values())))) for x in results] #TODO: Modify to save compound list\n",
    "    \n",
    "    ## cmpd: tuple of strings, each representing a chembl compound\n",
    "    ## ecfp: tuple of tuples each tuple being an array of (features, counts)\n",
    "    cmpd, ecfp   = zip(*fp2) \n",
    "    \n",
    "    ## feat  : tuple of ndarrays, each member being a ndarray of features \n",
    "    ## counts: tuple of ndarrays, each member being a ndarray of counts \n",
    "    feat, counts = zip(*ecfp)\n",
    "    \n",
    "    ## Create indicies for csr matrix\n",
    "    ## the column indices for row i are stored in indices[indptr[i]:indptr[i+1]] \n",
    "    ## their corresponding values are stored in data[indptr[i]:indptr[i+1]]\n",
    "    lens    = np.array([len(f) for f in feat])\n",
    "    indptr  = np.concatenate([[0], np.cumsum(lens)])\n",
    "    indices = np.concatenate(feat) % ecfp_fold\n",
    "    data    = np.ones(indices.shape[0])\n",
    "    \n",
    "    ## Create CSR matrix\n",
    "    csr     = csr_matrix((data, indices, indptr), shape=(len(feat), ecfp_fold))\n",
    "    csr.sum_duplicates()\n",
    "    csr.data[:] = 1.0\n",
    "    \n",
    "    # write fingerprint data to numpy CSR sparse matrix \n",
    "    np.save(filename, csr)\n",
    "    print(f\" => fingerprints written to {filename} \")    \n",
    "    \n",
    "#     # write compounds to csv file \n",
    "#     pd.DataFrame(cmpd).to_csv(cmpdlist, header=False)\n",
    "#     print(f\" => compounds written to {cmpdlist} \")       \n",
    "    "
   ]
  },
  {
   "cell_type": "code",
   "execution_count": 10,
   "id": "36558e5a",
   "metadata": {
    "ExecuteTime": {
     "end_time": "2023-04-12T10:29:22.713576Z",
     "start_time": "2023-04-12T10:29:22.700834Z"
    }
   },
   "outputs": [],
   "source": [
    "def saveFingerprints(results, filename):\n",
    "  \"\"\" results is a dictionary: chembl_id -> [fingerprints] \"\"\"\n",
    "  with open(filename, 'w') as csvfile:\n",
    "    fpwriter = csv.writer(csvfile, delimiter=\",\", quoting=csv.QUOTE_NONE)\n",
    "    fpwriter.writerow([\"compound\",\"feature\"])\n",
    "    for compound in results:\n",
    "        for feature in results[compound]:\n",
    "            fpwriter.writerow( [compound, feature] )\n",
    "    print(f\" => fingerprints written to {filename} \")    "
   ]
  },
  {
   "cell_type": "markdown",
   "id": "b1537af7",
   "metadata": {},
   "source": [
    "### Read compound metadata file"
   ]
  },
  {
   "cell_type": "code",
   "execution_count": null,
   "id": "d3bbd941",
   "metadata": {
    "ExecuteTime": {
     "end_time": "2023-04-12T10:29:40.989133Z",
     "start_time": "2023-04-12T10:29:40.958768Z"
    }
   },
   "outputs": [],
   "source": [
    "# df = pd.read_csv('JUMP-MOA_compound_metadata.tsv', delimiter='\\t')\n",
    "# df = pd.read_csv('JUMP-Target-1_compound_metadata.tsv', delimiter='\\t')\n",
    "df = pd.read_csv('JUMP-Target-2_compound_metadata.tsv', delimiter='\\t')"
   ]
  },
  {
   "cell_type": "code",
   "execution_count": 45,
   "id": "4b294ea9",
   "metadata": {
    "ExecuteTime": {
     "end_time": "2023-04-12T10:54:19.422180Z",
     "start_time": "2023-04-12T10:54:19.400445Z"
    }
   },
   "outputs": [
    {
     "name": "stdout",
     "output_type": "stream",
     "text": [
      "<class 'pandas.core.frame.DataFrame'>\n",
      "RangeIndex: 307 entries, 0 to 306\n",
      "Data columns (total 10 columns):\n",
      " #   Column          Non-Null Count  Dtype  \n",
      "---  ------          --------------  -----  \n",
      " 0   broad_sample    306 non-null    object \n",
      " 1   InChIKey        307 non-null    object \n",
      " 2   pert_iname      307 non-null    object \n",
      " 3   pubchem_cid     297 non-null    float64\n",
      " 4   target          306 non-null    object \n",
      " 5   pert_type       307 non-null    object \n",
      " 6   control_type    47 non-null     object \n",
      " 7   smiles          307 non-null    object \n",
      " 8   chembl_id       299 non-null    object \n",
      " 9   standard_inchi  299 non-null    object \n",
      "dtypes: float64(1), object(9)\n",
      "memory usage: 24.1+ KB\n",
      "None\n"
     ]
    },
    {
     "data": {
      "text/html": [
       "<div>\n",
       "<style scoped>\n",
       "    .dataframe tbody tr th:only-of-type {\n",
       "        vertical-align: middle;\n",
       "    }\n",
       "\n",
       "    .dataframe tbody tr th {\n",
       "        vertical-align: top;\n",
       "    }\n",
       "\n",
       "    .dataframe thead th {\n",
       "        text-align: right;\n",
       "    }\n",
       "</style>\n",
       "<table border=\"1\" class=\"dataframe\">\n",
       "  <thead>\n",
       "    <tr style=\"text-align: right;\">\n",
       "      <th></th>\n",
       "      <th>broad_sample</th>\n",
       "      <th>InChIKey</th>\n",
       "      <th>pert_iname</th>\n",
       "      <th>pubchem_cid</th>\n",
       "      <th>target</th>\n",
       "      <th>pert_type</th>\n",
       "      <th>control_type</th>\n",
       "      <th>smiles</th>\n",
       "      <th>chembl_id</th>\n",
       "      <th>standard_inchi</th>\n",
       "    </tr>\n",
       "  </thead>\n",
       "  <tbody>\n",
       "    <tr>\n",
       "      <th>0</th>\n",
       "      <td>BRD-K09338665-001-07-1</td>\n",
       "      <td>KBPLFHHGFOOTCA-UHFFFAOYSA-N</td>\n",
       "      <td>1-octanol</td>\n",
       "      <td>957.0</td>\n",
       "      <td>GJB4</td>\n",
       "      <td>trt</td>\n",
       "      <td>NaN</td>\n",
       "      <td>CCCCCCCCO</td>\n",
       "      <td>CHEMBL26215</td>\n",
       "      <td>InChI=1S/C8H18O/c1-2-3-4-5-6-7-8-9/h9H,2-8H2,1H3</td>\n",
       "    </tr>\n",
       "    <tr>\n",
       "      <th>1</th>\n",
       "      <td>BRD-K48278478-001-01-2</td>\n",
       "      <td>LOUPRKONTZGTKE-AFHBHXEDSA-N</td>\n",
       "      <td>quinine</td>\n",
       "      <td>94175.0</td>\n",
       "      <td>KCNN4</td>\n",
       "      <td>trt</td>\n",
       "      <td>NaN</td>\n",
       "      <td>COc1ccc2nccc([C@@H](O)[C@H]3C[C@@H]4CC[N@]3C[C...</td>\n",
       "      <td>CHEMBL576997</td>\n",
       "      <td>InChI=1S/C20H24N2O2/c1-3-13-12-22-9-7-14(13)10...</td>\n",
       "    </tr>\n",
       "    <tr>\n",
       "      <th>2</th>\n",
       "      <td>BRD-A85242401-001-12-3</td>\n",
       "      <td>KRGQEOSDQHTZMX-IGCYCDGOSA-N</td>\n",
       "      <td>ascorbic-acid</td>\n",
       "      <td>9888239.0</td>\n",
       "      <td>P3H1</td>\n",
       "      <td>trt</td>\n",
       "      <td>NaN</td>\n",
       "      <td>OC[C@H](O)[C@H]1OC(=O)C(=O)C1O</td>\n",
       "      <td>None</td>\n",
       "      <td>None</td>\n",
       "    </tr>\n",
       "    <tr>\n",
       "      <th>3</th>\n",
       "      <td>BRD-K93632104-001-17-2</td>\n",
       "      <td>YGSDEFSMJLZEOE-UHFFFAOYSA-N</td>\n",
       "      <td>salicylic-acid</td>\n",
       "      <td>118212070.0</td>\n",
       "      <td>AKR1C1</td>\n",
       "      <td>trt</td>\n",
       "      <td>NaN</td>\n",
       "      <td>OC(=O)c1ccccc1O</td>\n",
       "      <td>CHEMBL424</td>\n",
       "      <td>InChI=1S/C7H6O3/c8-6-4-2-1-3-5(6)7(9)10/h1-4,8...</td>\n",
       "    </tr>\n",
       "    <tr>\n",
       "      <th>4</th>\n",
       "      <td>BRD-K57313110-001-06-8</td>\n",
       "      <td>ODHCTXKNWHHXJC-VKHMYHEASA-N</td>\n",
       "      <td>pidolic-acid</td>\n",
       "      <td>7405.0</td>\n",
       "      <td>VEGFA</td>\n",
       "      <td>trt</td>\n",
       "      <td>NaN</td>\n",
       "      <td>OC(=O)[C@@H]1CCC(=O)N1</td>\n",
       "      <td>CHEMBL397976</td>\n",
       "      <td>InChI=1S/C5H7NO3/c7-4-2-1-3(6-4)5(8)9/h3H,1-2H...</td>\n",
       "    </tr>\n",
       "    <tr>\n",
       "      <th>5</th>\n",
       "      <td>BRD-K25244359-066-04-9</td>\n",
       "      <td>WPEWQEMJFLWMLV-UHFFFAOYSA-N</td>\n",
       "      <td>apatinib</td>\n",
       "      <td>11315474.0</td>\n",
       "      <td>CSK</td>\n",
       "      <td>trt</td>\n",
       "      <td>NaN</td>\n",
       "      <td>O=C(Nc1ccc(cc1)C1(CCCC1)C#N)c1cccnc1NCc1ccncc1</td>\n",
       "      <td>CHEMBL3186534</td>\n",
       "      <td>InChI=1S/C24H23N5O/c25-17-24(11-1-2-12-24)19-5...</td>\n",
       "    </tr>\n",
       "    <tr>\n",
       "      <th>6</th>\n",
       "      <td>BRD-K44067360-001-30-3</td>\n",
       "      <td>LPEPZBJOKDYZAD-UHFFFAOYSA-N</td>\n",
       "      <td>flufenamic-acid</td>\n",
       "      <td>3371.0</td>\n",
       "      <td>GJB4</td>\n",
       "      <td>trt</td>\n",
       "      <td>NaN</td>\n",
       "      <td>OC(=O)c1ccccc1Nc1cccc(c1)C(F)(F)F</td>\n",
       "      <td>CHEMBL23588</td>\n",
       "      <td>InChI=1S/C14H10F3NO2/c15-14(16,17)9-4-3-5-10(8...</td>\n",
       "    </tr>\n",
       "    <tr>\n",
       "      <th>7</th>\n",
       "      <td>BRD-K73276278-305-02-9</td>\n",
       "      <td>CYYNMPPFEJPBJD-OAQYLSRUSA-N</td>\n",
       "      <td>MCOPPB</td>\n",
       "      <td>24800108.0</td>\n",
       "      <td>OPRL1</td>\n",
       "      <td>trt</td>\n",
       "      <td>NaN</td>\n",
       "      <td>CC1(CCCCCCC1)N1CCC(CC1)n1c(nc2ccccc12)[C@@H]1C...</td>\n",
       "      <td>CHEMBL481512</td>\n",
       "      <td>InChI=1S/C26H40N4/c1-26(15-7-3-2-4-8-16-26)29-...</td>\n",
       "    </tr>\n",
       "    <tr>\n",
       "      <th>8</th>\n",
       "      <td>BRD-K59058747-001-22-9</td>\n",
       "      <td>PWKSKIMOESPYIA-BYPYZUCNSA-N</td>\n",
       "      <td>acetylcysteine</td>\n",
       "      <td>12035.0</td>\n",
       "      <td>SLC7A11</td>\n",
       "      <td>trt</td>\n",
       "      <td>NaN</td>\n",
       "      <td>CC(=O)N[C@@H](CS)C(O)=O</td>\n",
       "      <td>CHEMBL600</td>\n",
       "      <td>InChI=1S/C5H9NO3S/c1-3(7)6-4(2-10)5(8)9/h4,10H...</td>\n",
       "    </tr>\n",
       "    <tr>\n",
       "      <th>9</th>\n",
       "      <td>BRD-K68982262-001-02-9</td>\n",
       "      <td>DJKJVWJQAVGLHJ-YPMHNXCESA-N</td>\n",
       "      <td>A-987306</td>\n",
       "      <td>25109291.0</td>\n",
       "      <td>CCR1</td>\n",
       "      <td>trt</td>\n",
       "      <td>NaN</td>\n",
       "      <td>Nc1nc(N2CCNCC2)c2CCC3=C([C@@H]4CCCC[C@@H]4O3)c2n1</td>\n",
       "      <td>CHEMBL519240</td>\n",
       "      <td>InChI=1S/C18H25N5O/c19-18-21-16-12(17(22-18)23...</td>\n",
       "    </tr>\n",
       "    <tr>\n",
       "      <th>10</th>\n",
       "      <td>BRD-A20697603-001-07-2</td>\n",
       "      <td>NSFFHOGKXHRQEW-DVRIZHICSA-N</td>\n",
       "      <td>thiostrepton</td>\n",
       "      <td>101290202.0</td>\n",
       "      <td>FOXM1</td>\n",
       "      <td>trt</td>\n",
       "      <td>NaN</td>\n",
       "      <td>CCC(C)C1NC2C=Cc3c(cc(nc3C2O)C(=O)OC(C)C2NC(=O)...</td>\n",
       "      <td>CHEMBL410968</td>\n",
       "      <td>InChI=1S/C72H85N19O18S5/c1-14-26(3)47-63(105)7...</td>\n",
       "    </tr>\n",
       "    <tr>\n",
       "      <th>11</th>\n",
       "      <td>BRD-A54139254-001-10-9</td>\n",
       "      <td>AZYDQCGCBQYFSE-UHFFFAOYSA-N</td>\n",
       "      <td>4-CMTB</td>\n",
       "      <td>4307629.0</td>\n",
       "      <td>FFAR2</td>\n",
       "      <td>trt</td>\n",
       "      <td>NaN</td>\n",
       "      <td>CC(C)C(C(=O)Nc1nccs1)c1ccc(Cl)cc1</td>\n",
       "      <td>CHEMBL610463</td>\n",
       "      <td>InChI=1S/C14H15ClN2OS/c1-9(2)12(10-3-5-11(15)6...</td>\n",
       "    </tr>\n",
       "    <tr>\n",
       "      <th>12</th>\n",
       "      <td>BRD-K26521938-001-07-2</td>\n",
       "      <td>XEYBRNLFEZDVAW-ARSRFYASSA-N</td>\n",
       "      <td>dinoprostone</td>\n",
       "      <td>5280360.0</td>\n",
       "      <td>CATSPER4</td>\n",
       "      <td>trt</td>\n",
       "      <td>NaN</td>\n",
       "      <td>CCCCC[C@H](O)\\C=C\\[C@H]1[C@H](O)CC(=O)[C@@H]1C...</td>\n",
       "      <td>CHEMBL548</td>\n",
       "      <td>InChI=1S/C20H32O5/c1-2-3-6-9-15(21)12-13-17-16...</td>\n",
       "    </tr>\n",
       "    <tr>\n",
       "      <th>13</th>\n",
       "      <td>BRD-K43330982-001-04-9</td>\n",
       "      <td>RNSLRQNDXRSASX-UHFFFAOYSA-N</td>\n",
       "      <td>JTE-013</td>\n",
       "      <td>10223146.0</td>\n",
       "      <td>S1PR2</td>\n",
       "      <td>trt</td>\n",
       "      <td>NaN</td>\n",
       "      <td>CC(C)c1cc(NNC(=O)Nc2cc(Cl)nc(Cl)c2)nc2n(C)nc(C...</td>\n",
       "      <td>CHEMBL1368758</td>\n",
       "      <td>InChI=1S/C17H19Cl2N7O/c1-8(2)11-7-14(22-16-15(...</td>\n",
       "    </tr>\n",
       "    <tr>\n",
       "      <th>14</th>\n",
       "      <td>BRD-K05878375-236-05-7</td>\n",
       "      <td>FERIUCNNQQJTOY-UHFFFAOYSA-N</td>\n",
       "      <td>sodium-butyrate</td>\n",
       "      <td>264.0</td>\n",
       "      <td>FFAR2</td>\n",
       "      <td>trt</td>\n",
       "      <td>NaN</td>\n",
       "      <td>CCCC(O)=O</td>\n",
       "      <td>CHEMBL14227</td>\n",
       "      <td>InChI=1S/C4H8O2/c1-2-3-4(5)6/h2-3H2,1H3,(H,5,6)</td>\n",
       "    </tr>\n",
       "    <tr>\n",
       "      <th>15</th>\n",
       "      <td>BRD-K51485109-001-02-9</td>\n",
       "      <td>WLBUICQBNZXIDJ-UHFFFAOYSA-N</td>\n",
       "      <td>LDN-27219</td>\n",
       "      <td>1150683.0</td>\n",
       "      <td>TGM2</td>\n",
       "      <td>trt</td>\n",
       "      <td>NaN</td>\n",
       "      <td>NNC(=O)CSc1nc2scc(-c3ccccc3)c2c(=O)n1-c1ccccc1</td>\n",
       "      <td>CHEMBL179945</td>\n",
       "      <td>InChI=1S/C20H16N4O2S2/c21-23-16(25)12-28-20-22...</td>\n",
       "    </tr>\n",
       "    <tr>\n",
       "      <th>16</th>\n",
       "      <td>BRD-A15397381-001-02-5</td>\n",
       "      <td>LEVWYRKDKASIDU-UHFFFAOYSA-N</td>\n",
       "      <td>L-Cystine</td>\n",
       "      <td>24798687.0</td>\n",
       "      <td>SLC7A11</td>\n",
       "      <td>trt</td>\n",
       "      <td>NaN</td>\n",
       "      <td>NC(CSSCC(N)C(O)=O)C(O)=O</td>\n",
       "      <td>CHEMBL366563</td>\n",
       "      <td>InChI=1S/C6H12N2O4S2/c7-3(5(9)10)1-13-14-2-4(8...</td>\n",
       "    </tr>\n",
       "    <tr>\n",
       "      <th>17</th>\n",
       "      <td>BRD-K15502390-001-19-1</td>\n",
       "      <td>NQDJXKOVJZTUJA-UHFFFAOYSA-N</td>\n",
       "      <td>nevirapine</td>\n",
       "      <td>4463.0</td>\n",
       "      <td>CYP2A6</td>\n",
       "      <td>trt</td>\n",
       "      <td>NaN</td>\n",
       "      <td>Cc1ccnc2c1NC(=O)c1cccnc1N2C1CC1</td>\n",
       "      <td>CHEMBL57</td>\n",
       "      <td>InChI=1S/C15H14N4O/c1-9-6-8-17-14-12(9)18-15(2...</td>\n",
       "    </tr>\n",
       "    <tr>\n",
       "      <th>18</th>\n",
       "      <td>BRD-A43005764-003-02-9</td>\n",
       "      <td>NUIKTBLZSPQGCP-UHFFFAOYSA-N</td>\n",
       "      <td>CYM-5442</td>\n",
       "      <td>25110406.0</td>\n",
       "      <td>S1PR1</td>\n",
       "      <td>trt</td>\n",
       "      <td>NaN</td>\n",
       "      <td>CCOc1ccc(cc1OCC)-c1nc(no1)-c1cccc2C(CCc12)NCCO</td>\n",
       "      <td>CHEMBL3922179</td>\n",
       "      <td>InChI=1S/C23H27N3O4/c1-3-28-20-11-8-15(14-21(2...</td>\n",
       "    </tr>\n",
       "    <tr>\n",
       "      <th>19</th>\n",
       "      <td>BRD-K38512030-001-01-7</td>\n",
       "      <td>HJYYPODYNSCCOU-ODRIEIDWSA-N</td>\n",
       "      <td>rifamycin</td>\n",
       "      <td>6324616.0</td>\n",
       "      <td>SLCO2B1</td>\n",
       "      <td>trt</td>\n",
       "      <td>NaN</td>\n",
       "      <td>CO[C@H]1\\C=C\\O[C@@]2(C)Oc3c(C2=O)c2c(O)cc(NC(=...</td>\n",
       "      <td>CHEMBL437765</td>\n",
       "      <td>InChI=1S/C37H47NO12/c1-16-11-10-12-17(2)36(46)...</td>\n",
       "    </tr>\n",
       "    <tr>\n",
       "      <th>20</th>\n",
       "      <td>BRD-K50720187-050-09-0</td>\n",
       "      <td>JUUFBMODXQKSTD-UHFFFAOYSA-N</td>\n",
       "      <td>flupirtine</td>\n",
       "      <td>53276.0</td>\n",
       "      <td>KCNQ2</td>\n",
       "      <td>trt</td>\n",
       "      <td>NaN</td>\n",
       "      <td>CCOC(=O)Nc1ccc(NCc2ccc(F)cc2)nc1N</td>\n",
       "      <td>CHEMBL255044</td>\n",
       "      <td>InChI=1S/C15H17FN4O2/c1-2-22-15(21)19-12-7-8-1...</td>\n",
       "    </tr>\n",
       "    <tr>\n",
       "      <th>21</th>\n",
       "      <td>BRD-K02554563-001-01-6</td>\n",
       "      <td>ZIUDADZJCKGWKR-AREMUKBSSA-N</td>\n",
       "      <td>PF-05190457</td>\n",
       "      <td>58438464.0</td>\n",
       "      <td>GHSR</td>\n",
       "      <td>trt</td>\n",
       "      <td>NaN</td>\n",
       "      <td>Cc1cn2cc(CC(=O)N3CCC4(CN(C4)[C@@H]4CCc5cc(ccc4...</td>\n",
       "      <td>CHEMBL3287218</td>\n",
       "      <td>InChI=1S/C29H32N6OS/c1-19-11-25(31-18-30-19)22...</td>\n",
       "    </tr>\n",
       "    <tr>\n",
       "      <th>22</th>\n",
       "      <td>BRD-K68567222-001-02-0</td>\n",
       "      <td>LLPBUXODFQZPFH-UHFFFAOYSA-N</td>\n",
       "      <td>BVT-948</td>\n",
       "      <td>6604934.0</td>\n",
       "      <td>PTPN2</td>\n",
       "      <td>trt</td>\n",
       "      <td>NaN</td>\n",
       "      <td>CC1(C)C(=O)NC2=C1C(=O)C(=O)c1ccccc21</td>\n",
       "      <td>None</td>\n",
       "      <td>None</td>\n",
       "    </tr>\n",
       "    <tr>\n",
       "      <th>23</th>\n",
       "      <td>BRD-K81801188-001-02-8</td>\n",
       "      <td>NVRXTLZYXZNATH-UHFFFAOYSA-N</td>\n",
       "      <td>PP-121</td>\n",
       "      <td>24905142.0</td>\n",
       "      <td>HCK</td>\n",
       "      <td>trt</td>\n",
       "      <td>NaN</td>\n",
       "      <td>C1CCC(C1)n1nc(-c2cnc3[nH]ccc3c2)c2c(N)ncnc12</td>\n",
       "      <td>CHEMBL1081312</td>\n",
       "      <td>InChI=1S/C17H17N7/c18-15-13-14(11-7-10-5-6-19-...</td>\n",
       "    </tr>\n",
       "    <tr>\n",
       "      <th>24</th>\n",
       "      <td>BRD-K08953028-001-09-6</td>\n",
       "      <td>VDQLKIBLTMPAHI-UHFFFAOYSA-N</td>\n",
       "      <td>U-0521</td>\n",
       "      <td>21632.0</td>\n",
       "      <td>COMT</td>\n",
       "      <td>trt</td>\n",
       "      <td>NaN</td>\n",
       "      <td>CC(C)C(=O)c1ccc(O)c(O)c1</td>\n",
       "      <td>CHEMBL353187</td>\n",
       "      <td>InChI=1S/C10H12O3/c1-6(2)10(13)7-3-4-8(11)9(12...</td>\n",
       "    </tr>\n",
       "  </tbody>\n",
       "</table>\n",
       "</div>"
      ],
      "text/plain": [
       "              broad_sample                     InChIKey       pert_iname  pubchem_cid    target pert_type control_type   \n",
       "0   BRD-K09338665-001-07-1  KBPLFHHGFOOTCA-UHFFFAOYSA-N        1-octanol        957.0      GJB4       trt          NaN  \\\n",
       "1   BRD-K48278478-001-01-2  LOUPRKONTZGTKE-AFHBHXEDSA-N          quinine      94175.0     KCNN4       trt          NaN   \n",
       "2   BRD-A85242401-001-12-3  KRGQEOSDQHTZMX-IGCYCDGOSA-N    ascorbic-acid    9888239.0      P3H1       trt          NaN   \n",
       "3   BRD-K93632104-001-17-2  YGSDEFSMJLZEOE-UHFFFAOYSA-N   salicylic-acid  118212070.0    AKR1C1       trt          NaN   \n",
       "4   BRD-K57313110-001-06-8  ODHCTXKNWHHXJC-VKHMYHEASA-N     pidolic-acid       7405.0     VEGFA       trt          NaN   \n",
       "5   BRD-K25244359-066-04-9  WPEWQEMJFLWMLV-UHFFFAOYSA-N         apatinib   11315474.0       CSK       trt          NaN   \n",
       "6   BRD-K44067360-001-30-3  LPEPZBJOKDYZAD-UHFFFAOYSA-N  flufenamic-acid       3371.0      GJB4       trt          NaN   \n",
       "7   BRD-K73276278-305-02-9  CYYNMPPFEJPBJD-OAQYLSRUSA-N           MCOPPB   24800108.0     OPRL1       trt          NaN   \n",
       "8   BRD-K59058747-001-22-9  PWKSKIMOESPYIA-BYPYZUCNSA-N   acetylcysteine      12035.0   SLC7A11       trt          NaN   \n",
       "9   BRD-K68982262-001-02-9  DJKJVWJQAVGLHJ-YPMHNXCESA-N         A-987306   25109291.0      CCR1       trt          NaN   \n",
       "10  BRD-A20697603-001-07-2  NSFFHOGKXHRQEW-DVRIZHICSA-N     thiostrepton  101290202.0     FOXM1       trt          NaN   \n",
       "11  BRD-A54139254-001-10-9  AZYDQCGCBQYFSE-UHFFFAOYSA-N           4-CMTB    4307629.0     FFAR2       trt          NaN   \n",
       "12  BRD-K26521938-001-07-2  XEYBRNLFEZDVAW-ARSRFYASSA-N     dinoprostone    5280360.0  CATSPER4       trt          NaN   \n",
       "13  BRD-K43330982-001-04-9  RNSLRQNDXRSASX-UHFFFAOYSA-N          JTE-013   10223146.0     S1PR2       trt          NaN   \n",
       "14  BRD-K05878375-236-05-7  FERIUCNNQQJTOY-UHFFFAOYSA-N  sodium-butyrate        264.0     FFAR2       trt          NaN   \n",
       "15  BRD-K51485109-001-02-9  WLBUICQBNZXIDJ-UHFFFAOYSA-N        LDN-27219    1150683.0      TGM2       trt          NaN   \n",
       "16  BRD-A15397381-001-02-5  LEVWYRKDKASIDU-UHFFFAOYSA-N        L-Cystine   24798687.0   SLC7A11       trt          NaN   \n",
       "17  BRD-K15502390-001-19-1  NQDJXKOVJZTUJA-UHFFFAOYSA-N       nevirapine       4463.0    CYP2A6       trt          NaN   \n",
       "18  BRD-A43005764-003-02-9  NUIKTBLZSPQGCP-UHFFFAOYSA-N         CYM-5442   25110406.0     S1PR1       trt          NaN   \n",
       "19  BRD-K38512030-001-01-7  HJYYPODYNSCCOU-ODRIEIDWSA-N        rifamycin    6324616.0   SLCO2B1       trt          NaN   \n",
       "20  BRD-K50720187-050-09-0  JUUFBMODXQKSTD-UHFFFAOYSA-N       flupirtine      53276.0     KCNQ2       trt          NaN   \n",
       "21  BRD-K02554563-001-01-6  ZIUDADZJCKGWKR-AREMUKBSSA-N      PF-05190457   58438464.0      GHSR       trt          NaN   \n",
       "22  BRD-K68567222-001-02-0  LLPBUXODFQZPFH-UHFFFAOYSA-N          BVT-948    6604934.0     PTPN2       trt          NaN   \n",
       "23  BRD-K81801188-001-02-8  NVRXTLZYXZNATH-UHFFFAOYSA-N           PP-121   24905142.0       HCK       trt          NaN   \n",
       "24  BRD-K08953028-001-09-6  VDQLKIBLTMPAHI-UHFFFAOYSA-N           U-0521      21632.0      COMT       trt          NaN   \n",
       "\n",
       "                                               smiles      chembl_id                                     standard_inchi  \n",
       "0                                           CCCCCCCCO    CHEMBL26215   InChI=1S/C8H18O/c1-2-3-4-5-6-7-8-9/h9H,2-8H2,1H3  \n",
       "1   COc1ccc2nccc([C@@H](O)[C@H]3C[C@@H]4CC[N@]3C[C...   CHEMBL576997  InChI=1S/C20H24N2O2/c1-3-13-12-22-9-7-14(13)10...  \n",
       "2                      OC[C@H](O)[C@H]1OC(=O)C(=O)C1O           None                                               None  \n",
       "3                                     OC(=O)c1ccccc1O      CHEMBL424  InChI=1S/C7H6O3/c8-6-4-2-1-3-5(6)7(9)10/h1-4,8...  \n",
       "4                              OC(=O)[C@@H]1CCC(=O)N1   CHEMBL397976  InChI=1S/C5H7NO3/c7-4-2-1-3(6-4)5(8)9/h3H,1-2H...  \n",
       "5      O=C(Nc1ccc(cc1)C1(CCCC1)C#N)c1cccnc1NCc1ccncc1  CHEMBL3186534  InChI=1S/C24H23N5O/c25-17-24(11-1-2-12-24)19-5...  \n",
       "6                   OC(=O)c1ccccc1Nc1cccc(c1)C(F)(F)F    CHEMBL23588  InChI=1S/C14H10F3NO2/c15-14(16,17)9-4-3-5-10(8...  \n",
       "7   CC1(CCCCCCC1)N1CCC(CC1)n1c(nc2ccccc12)[C@@H]1C...   CHEMBL481512  InChI=1S/C26H40N4/c1-26(15-7-3-2-4-8-16-26)29-...  \n",
       "8                             CC(=O)N[C@@H](CS)C(O)=O      CHEMBL600  InChI=1S/C5H9NO3S/c1-3(7)6-4(2-10)5(8)9/h4,10H...  \n",
       "9   Nc1nc(N2CCNCC2)c2CCC3=C([C@@H]4CCCC[C@@H]4O3)c2n1   CHEMBL519240  InChI=1S/C18H25N5O/c19-18-21-16-12(17(22-18)23...  \n",
       "10  CCC(C)C1NC2C=Cc3c(cc(nc3C2O)C(=O)OC(C)C2NC(=O)...   CHEMBL410968  InChI=1S/C72H85N19O18S5/c1-14-26(3)47-63(105)7...  \n",
       "11                  CC(C)C(C(=O)Nc1nccs1)c1ccc(Cl)cc1   CHEMBL610463  InChI=1S/C14H15ClN2OS/c1-9(2)12(10-3-5-11(15)6...  \n",
       "12  CCCCC[C@H](O)\\C=C\\[C@H]1[C@H](O)CC(=O)[C@@H]1C...      CHEMBL548  InChI=1S/C20H32O5/c1-2-3-6-9-15(21)12-13-17-16...  \n",
       "13  CC(C)c1cc(NNC(=O)Nc2cc(Cl)nc(Cl)c2)nc2n(C)nc(C...  CHEMBL1368758  InChI=1S/C17H19Cl2N7O/c1-8(2)11-7-14(22-16-15(...  \n",
       "14                                          CCCC(O)=O    CHEMBL14227    InChI=1S/C4H8O2/c1-2-3-4(5)6/h2-3H2,1H3,(H,5,6)  \n",
       "15     NNC(=O)CSc1nc2scc(-c3ccccc3)c2c(=O)n1-c1ccccc1   CHEMBL179945  InChI=1S/C20H16N4O2S2/c21-23-16(25)12-28-20-22...  \n",
       "16                           NC(CSSCC(N)C(O)=O)C(O)=O   CHEMBL366563  InChI=1S/C6H12N2O4S2/c7-3(5(9)10)1-13-14-2-4(8...  \n",
       "17                    Cc1ccnc2c1NC(=O)c1cccnc1N2C1CC1       CHEMBL57  InChI=1S/C15H14N4O/c1-9-6-8-17-14-12(9)18-15(2...  \n",
       "18     CCOc1ccc(cc1OCC)-c1nc(no1)-c1cccc2C(CCc12)NCCO  CHEMBL3922179  InChI=1S/C23H27N3O4/c1-3-28-20-11-8-15(14-21(2...  \n",
       "19  CO[C@H]1\\C=C\\O[C@@]2(C)Oc3c(C2=O)c2c(O)cc(NC(=...   CHEMBL437765  InChI=1S/C37H47NO12/c1-16-11-10-12-17(2)36(46)...  \n",
       "20                  CCOC(=O)Nc1ccc(NCc2ccc(F)cc2)nc1N   CHEMBL255044  InChI=1S/C15H17FN4O2/c1-2-22-15(21)19-12-7-8-1...  \n",
       "21  Cc1cn2cc(CC(=O)N3CCC4(CN(C4)[C@@H]4CCc5cc(ccc4...  CHEMBL3287218  InChI=1S/C29H32N6OS/c1-19-11-25(31-18-30-19)22...  \n",
       "22               CC1(C)C(=O)NC2=C1C(=O)C(=O)c1ccccc21           None                                               None  \n",
       "23       C1CCC(C1)n1nc(-c2cnc3[nH]ccc3c2)c2c(N)ncnc12  CHEMBL1081312  InChI=1S/C17H17N7/c18-15-13-14(11-7-10-5-6-19-...  \n",
       "24                           CC(C)C(=O)c1ccc(O)c(O)c1   CHEMBL353187  InChI=1S/C10H12O3/c1-6(2)10(13)7-3-4-8(11)9(12...  "
      ]
     },
     "execution_count": 45,
     "metadata": {},
     "output_type": "execute_result"
    }
   ],
   "source": [
    "print(df.info())\n",
    "df.head(25)"
   ]
  },
  {
   "cell_type": "code",
   "execution_count": 12,
   "id": "9dbe1e9d",
   "metadata": {
    "ExecuteTime": {
     "end_time": "2023-04-12T10:29:44.391266Z",
     "start_time": "2023-04-12T10:29:44.373922Z"
    }
   },
   "outputs": [
    {
     "name": "stdout",
     "output_type": "stream",
     "text": [
      "KRGQEOSDQHTZMX-IGCYCDGOSA-N\n"
     ]
    }
   ],
   "source": [
    "print(df.iloc[2]['InChIKey'])"
   ]
  },
  {
   "cell_type": "markdown",
   "id": "dffbd848",
   "metadata": {},
   "source": [
    "### Using pubchempy"
   ]
  },
  {
   "cell_type": "code",
   "execution_count": 55,
   "id": "ca34c8fb",
   "metadata": {
    "ExecuteTime": {
     "end_time": "2023-04-12T11:00:02.795088Z",
     "start_time": "2023-04-12T11:00:02.775067Z"
    }
   },
   "outputs": [],
   "source": [
    "\n",
    "# cid = 5282350\n",
    "# c = pcp.Compound.from_cid(cid)\n",
    "# inchi_str = c.inchi"
   ]
  },
  {
   "cell_type": "code",
   "execution_count": 52,
   "id": "168c36ee",
   "metadata": {
    "ExecuteTime": {
     "end_time": "2023-04-12T10:59:25.810449Z",
     "start_time": "2023-04-12T10:59:25.797194Z"
    }
   },
   "outputs": [
    {
     "data": {
      "text/plain": [
       "2      KRGQEOSDQHTZMX-IGCYCDGOSA-N\n",
       "22     LLPBUXODFQZPFH-UHFFFAOYSA-N\n",
       "34     FMYGNANMYYHBSU-UHFFFAOYSA-N\n",
       "124    RXWNCPJZOCPEPQ-DYKMBDCPSA-N\n",
       "146    QIHBWVVVRYYYRO-UHFFFAOYSA-N\n",
       "182    NGTDJJKTGRNNAU-UHFFFAOYSA-N\n",
       "215    ZZZRUAITSXLWBH-CSYJEMQYSA-N\n",
       "263    WJBLNOPPDWQMCH-UHFFFAOYSA-N\n",
       "Name: InChIKey, dtype: object"
      ]
     },
     "execution_count": 52,
     "metadata": {},
     "output_type": "execute_result"
    }
   ],
   "source": [
    "df[df['chembl_id'].isnull()].InChIKey"
   ]
  },
  {
   "cell_type": "code",
   "execution_count": 76,
   "id": "ca6b6c54",
   "metadata": {
    "ExecuteTime": {
     "end_time": "2023-04-12T11:16:07.913446Z",
     "start_time": "2023-04-12T11:16:07.901331Z"
    }
   },
   "outputs": [
    {
     "name": "stdout",
     "output_type": "stream",
     "text": [
      " Get Compound from inchikey : KRGQEOSDQHTZMX-IGCYCDGOSA-N\n"
     ]
    }
   ],
   "source": [
    "identifier = df.iloc[2]['InChIKey']\n",
    "print(f' Get Compound from inchikey : {identifier}')"
   ]
  },
  {
   "cell_type": "code",
   "execution_count": null,
   "id": "e25ecb52",
   "metadata": {},
   "outputs": [],
   "source": [
    "c1[0]."
   ]
  },
  {
   "cell_type": "code",
   "execution_count": 77,
   "id": "eb3775a8",
   "metadata": {
    "ExecuteTime": {
     "end_time": "2023-04-12T11:16:11.465874Z",
     "start_time": "2023-04-12T11:16:10.899729Z"
    }
   },
   "outputs": [
    {
     "name": "stdout",
     "output_type": "stream",
     "text": [
      "<class 'list'>\n"
     ]
    }
   ],
   "source": [
    "c1 = pcp.get_compounds(identifier, namespace=u'inchikey', searchtype=None, as_dataframe=False )\n",
    "print(type(c1))\n"
   ]
  },
  {
   "cell_type": "code",
   "execution_count": 99,
   "id": "8bc341d7",
   "metadata": {
    "ExecuteTime": {
     "end_time": "2023-04-12T11:33:56.939986Z",
     "start_time": "2023-04-12T11:33:56.926975Z"
    }
   },
   "outputs": [
    {
     "name": "stdout",
     "output_type": "stream",
     "text": [
      "cid                 : 9888239\n",
      "Molecular formula   : C6H8O6\n",
      " Molecular weight   : 176.12\n",
      "canonical_smiles    : C(C(C1C(C(=O)C(=O)O1)O)O)O\n",
      "isomeric_smiles     : C([C@@H]([C@@H]1C(C(=O)C(=O)O1)O)O)O\n",
      "fingerprint         : 00000371C0603800000000000000000000000000000120000000000000000000000000000000001A00000800000814A08002000800000600080080900802000000000000000001400000011016000004024000052000030001CA6C044000000000000000000000000000000000000000000000   <class 'str'> 230\n",
      "fingerprint         : b'000000371C0603800000000000000000000000000000120000000000000000000000000000000001A00000800000814A08002000800000600080080900802000000000000000001400000011016000004024000052000030001CA6C0440000000000000000000000000000000000000000000000'   <class 'bytes'> 232\n",
      "b'\\xd3M4\\xd3M\\xfb\\xd4-:\\xd3\\x7f4\\xd3M4\\xd3M4\\xd3M4\\xd3M4\\xd3M4\\xd3M4\\xd3M4\\xd7m4\\xd3M4\\xd3M4\\xd3M4\\xd3M4\\xd3M4\\xd3M4\\xd3M4\\xd3M5\\x03M4\\xd3O4\\xd3M4\\xf3^\\x00\\xd3\\xcd4\\xdbM4\\xf3M4\\xd3N\\xb4\\xd3O4\\xd3\\xcd=\\xd3O4\\xdbM4\\xd3M4\\xd3M4\\xd3M4\\xd3Mx\\xd3M4\\xd3Mu\\xd3^\\xb4\\xd3M4\\xe3M\\xb8\\xd3M4\\xe7m4\\xd3M\\xf4\\xd3MB\\x03\\xa0\\xb4\\xe3\\x8d4\\xd3M4\\xd3M4\\xd3M4\\xd3M4\\xd3M4\\xd3M4\\xd3M4\\xd3M4\\xd3M4\\xd3M4\\xd3M4'\n",
      "1392\n",
      "110100110100110100110100110100110100110111111011110101000010110100111010110100110111111100110100110100110100110100110100110100110100110100110100110100110100110100110100110100110100110100110100110100110100110100110100110100110100110100110100110100110100110100110100110101110110110100110100110100110100110100110100110100110100110100110100110100110100110100110100110100110100110100110100110100110100110100110100110100110100110100110100110100110100110100110100110100110100110100110101000000110100110100110100110100110100111100110100110100110100110100110100111100110101111000000000110100111100110100110100110110110100110100110100111100110100110100110100110100110100111010110100110100110100111100110100110100111100110100111101110100110100111100110100110110110100110100110100110100110100110100110100110100110100110100110100110100110100110100110100110100110100110101111000110100110100110100110100110100110100110101110101110100110101111010110100110100110100110100110100111000110100110110111000110100110100110100110100111001110110110100110100110100110100110111110100110100110100110101000010000000111010000010110100111000111000110100110100110100110100110100110100110100110100110100110100110100110100110100110100110100110100110100110100110100110100110100110100110100110100110100110100110100110100110100110100110100110100110100110100110100110100110100110100110100110100110100110100110100110100110100110100\n",
      "inchikey            : KRGQEOSDQHTZMX-IGCYCDGOSA-N\n",
      "inchi               : InChI=1S/C6H8O6/c7-1-2(8)5-3(9)4(10)6(11)12-5/h2-3,5,7-9H,1H2/t2-,3?,5+/m0/s1\n",
      "iupac_name          : (5R)-5-[(1S)-1,2-dihydroxyethyl]-4-hydroxyoxolane-2,3-dione\n",
      "None None 104 1 0\n",
      "None -1.5 0\n"
     ]
    }
   ],
   "source": [
    "import base64\n",
    "for c2 in c1: \n",
    "    print(f\"cid                 : {c2.cid}\")\n",
    "    print(f'Molecular formula   : {c2.molecular_formula}')\n",
    "    print(f' Molecular weight   : {c2.molecular_weight}')\n",
    "    print(f\"canonical_smiles    : {c2.canonical_smiles}\")\n",
    "    print(f\"isomeric_smiles     : {c2.isomeric_smiles}\")\n",
    "    print(f\"fingerprint         : {c2.fingerprint}   {type(c2.fingerprint)} {len(c2.fingerprint)}\")\n",
    "    bytes_fingerprint =  c2.fingerprint.join(\"00\").encode('ascii')\n",
    "    print(f\"fingerprint         : {bytes_fingerprint}   {type(bytes_fingerprint)} {len(bytes_fingerprint)}\")\n",
    "    \n",
    "    decoded = base64.decodebytes(bytes_fingerprint)\n",
    "    print(decoded)\n",
    "    print(len(decoded)*8)    \n",
    "    print(\"\".join([\"{:08b}\".format(x) for x in decoded]))\n",
    "    \n",
    "    print(f\"inchikey            : {c2.inchikey}\")\n",
    "    print(f\"inchi               : {c2.inchi}\")\n",
    "    print(f\"iupac_name          : {c2.iupac_name}\")\n",
    "\n",
    "#     print(c2.aids)\n",
    "    print(c2.shape_fingerprint_3d, c2.shape_selfoverlap_3d, c2.tpsa, c2.undefined_atom_stereo_count, c2.undefined_bond_stereo_count)\n",
    "\n",
    "    print(c2.volume_3d, c2.xlogp, c2.charge)    "
   ]
  },
  {
   "cell_type": "code",
   "execution_count": 74,
   "id": "70012873",
   "metadata": {
    "ExecuteTime": {
     "end_time": "2023-04-12T11:15:57.891391Z",
     "start_time": "2023-04-12T11:15:57.879551Z"
    }
   },
   "outputs": [
    {
     "name": "stdout",
     "output_type": "stream",
     "text": [
      "CN(C)CCCNC(=O)C1=CC=C(C=C1)C2=CC(=C3C(=C2)C=CC=N3)O\n",
      "InChI=1S/C21H23N3O2/c1-24(2)12-4-11-23-21(26)16-8-6-15(7-9-16)18-13-17-5-3-10-22-20(17)19(25)14-18/h3,5-10,13-14,25H,4,11-12H2,1-2H3,(H,23,26)\n"
     ]
    }
   ],
   "source": [
    " \n",
    "isomeric_smiles = c1[0].isomeric_smiles\n",
    "inchi_str = c1[0].inchi\n",
    "print(isomeric_smiles)\n",
    "print(inchi_str)"
   ]
  },
  {
   "cell_type": "markdown",
   "id": "7433c321",
   "metadata": {
    "heading_collapsed": true
   },
   "source": [
    "###  Using rdkit and inchi string "
   ]
  },
  {
   "cell_type": "code",
   "execution_count": 46,
   "id": "e987d495",
   "metadata": {
    "ExecuteTime": {
     "end_time": "2023-04-07T10:36:00.796636Z",
     "start_time": "2023-04-07T10:36:00.667520Z"
    },
    "hidden": true
   },
   "outputs": [
    {
     "name": "stdout",
     "output_type": "stream",
     "text": [
      "<class 'str'>\n",
      " Get Mol from inchi : InChI=1S/C21H23N3O2/c1-24(2)12-4-11-23-21(26)16-8-6-15(7-9-16)18-13-17-5-3-10-22-20(17)19(25)14-18/h3,5-10,13-14,25H,4,11-12H2,1-2H3,(H,23,26)\n",
      " Canonical smiles   : CN(C)CCCNC(=O)c1ccc(cc1)c3cc(O)c2ncccc2c3 \n"
     ]
    }
   ],
   "source": [
    "print(type(inchi_str))\n",
    "m = inchi.MolFromInchi(inchi_str, sanitize = True, removeHs = True)\n",
    "canon_smiles = pat.GetCanonSmiles(m)\n",
    "\n",
    "print(f' Get Mol from inchi : {inchi_str}')\n",
    "print(f\" Canonical smiles   : {canon_smiles} \")\n"
   ]
  },
  {
   "cell_type": "code",
   "execution_count": 50,
   "id": "9c3c72b6",
   "metadata": {
    "ExecuteTime": {
     "end_time": "2023-04-07T10:38:43.339264Z",
     "start_time": "2023-04-07T10:38:43.255897Z"
    },
    "hidden": true
   },
   "outputs": [
    {
     "name": "stdout",
     "output_type": "stream",
     "text": [
      " MolToSmiles           :  CN(C)CCCNC(=O)c1ccc(-c2cc(O)c3ncccc3c2)cc1\n",
      " standardized          :  CN(C)CCCNC(=O)c1ccc(-c2cc(O)c3ncccc3c2)cc1\n",
      "\n",
      " cononical smiles      :  CN(C)CCCNC(=O)c1ccc(cc1)c3cc(O)c2ncccc2c3\n",
      " standardized          :  CN(C)CCCNC(=O)c1ccc(-c2cc(O)c3ncccc3c2)cc1\n",
      "\n",
      " isomeric smiles       :  CN(C)CCCNC(=O)C1=CC=C(C=C1)C2=CC(=C3C(=C2)C=CC=N3)O\n",
      " standardized          :  CN(C)CCCNC(=O)c1ccc(-c2cc(O)c3ncccc3c2)cc1\n"
     ]
    },
    {
     "name": "stderr",
     "output_type": "stream",
     "text": [
      "[12:38:43] Initializing MetalDisconnector\n",
      "[12:38:43] Running MetalDisconnector\n",
      "[12:38:43] Initializing Normalizer\n",
      "[12:38:43] Running Normalizer\n",
      "[12:38:43] Initializing MetalDisconnector\n",
      "[12:38:43] Running MetalDisconnector\n",
      "[12:38:43] Initializing Normalizer\n",
      "[12:38:43] Running Normalizer\n",
      "[12:38:43] Initializing MetalDisconnector\n",
      "[12:38:43] Running MetalDisconnector\n",
      "[12:38:43] Initializing Normalizer\n",
      "[12:38:43] Running Normalizer\n"
     ]
    }
   ],
   "source": [
    "s = Chem.MolToSmiles(m)\n",
    "print(' MolToSmiles           : ',s)\n",
    "print(' standardized          : ', rdms.rdMolStandardize.StandardizeSmiles(s))\n",
    "print()\n",
    "print(' cononical smiles      : ', canon_smiles)\n",
    "print(' standardized          : ', rdms.rdMolStandardize.StandardizeSmiles(canon_smiles))\n",
    "print()\n",
    "print(' isomeric smiles       : ', isomeric_smiles)\n",
    "print(' standardized          : ', rdms.rdMolStandardize.StandardizeSmiles(isomeric_smiles))\n"
   ]
  },
  {
   "cell_type": "markdown",
   "id": "ad5eb73f",
   "metadata": {
    "hidden": true
   },
   "source": [
    "api_call = \"https://pubchem.ncbi.nlm.nih.gov/rest/pug/<input specification>/<operation specification>/[<output specification>][?<operation_options>]\""
   ]
  },
  {
   "cell_type": "markdown",
   "id": "4e61ff6f",
   "metadata": {
    "heading_collapsed": true
   },
   "source": [
    "### Chemical Features"
   ]
  },
  {
   "cell_type": "code",
   "execution_count": 51,
   "id": "1c78a9a5",
   "metadata": {
    "ExecuteTime": {
     "end_time": "2023-04-07T10:39:08.115508Z",
     "start_time": "2023-04-07T10:39:08.048344Z"
    },
    "hidden": true
   },
   "outputs": [
    {
     "name": "stdout",
     "output_type": "stream",
     "text": [
      "/home/kbardool/miniconda3/envs/cellpainting/lib/python3.10/site-packages/rdkit/Data\n"
     ]
    }
   ],
   "source": [
    "print(RDConfig.RDDataDir)"
   ]
  },
  {
   "cell_type": "code",
   "execution_count": 52,
   "id": "7971799c",
   "metadata": {
    "ExecuteTime": {
     "end_time": "2023-04-07T10:39:08.995290Z",
     "start_time": "2023-04-07T10:39:08.866647Z"
    },
    "hidden": true
   },
   "outputs": [],
   "source": [
    "fdefName = os.path.join(RDConfig.RDDataDir,'BaseFeatures.fdef')\n",
    "factory = ChemicalFeatures.BuildFeatureFactory(fdefName)\n",
    "feats = factory.GetFeaturesForMol(m)"
   ]
  },
  {
   "cell_type": "code",
   "execution_count": 58,
   "id": "b52b2a5d",
   "metadata": {
    "ExecuteTime": {
     "end_time": "2023-04-07T10:40:41.155566Z",
     "start_time": "2023-04-07T10:40:41.045717Z"
    },
    "hidden": true
   },
   "outputs": [
    {
     "name": "stdout",
     "output_type": "stream",
     "text": [
      "<class 'tuple'>\n",
      "17\n",
      "Donor\n",
      "(22,)\n",
      "0\n",
      "[-4.083830216572838, -0.34753058537167947, 0.0]\n"
     ]
    }
   ],
   "source": [
    "print(type(feats))\n",
    "print(len(feats))\n",
    " \n",
    "print(feats[0].GetFamily())\n",
    "print(feats[0].GetAtomIds())\n",
    "print(AllChem.Compute2DCoords(m))\n",
    "print(list(feats[0].GetPos()))"
   ]
  },
  {
   "cell_type": "markdown",
   "id": "faebb574",
   "metadata": {
    "heading_collapsed": true
   },
   "source": [
    "### Pharmacophores"
   ]
  },
  {
   "cell_type": "code",
   "execution_count": 64,
   "id": "91de7422",
   "metadata": {
    "ExecuteTime": {
     "end_time": "2023-04-07T10:45:57.165286Z",
     "start_time": "2023-04-07T10:45:56.447245Z"
    },
    "hidden": true
   },
   "outputs": [
    {
     "name": "stdout",
     "output_type": "stream",
     "text": [
      " Get Compound from inchikey : QDBVSOZTVKXUES-UHFFFAOYSA-N\n",
      "<class 'list'> 1\n"
     ]
    }
   ],
   "source": [
    "inchikey = df.iloc[2]['InChIKey']\n",
    "print(f' Get Compound from inchikey : {identifier}')\n",
    "cmp = pcp.get_compounds(identifier, namespace=u'inchikey', searchtype=None, as_dataframe=False )\n",
    "print(type(cmp), len(cmp))\n",
    "inchi_str = cmp[0].inchi"
   ]
  },
  {
   "cell_type": "code",
   "execution_count": 65,
   "id": "6e4bc51c",
   "metadata": {
    "ExecuteTime": {
     "end_time": "2023-04-07T10:46:12.596373Z",
     "start_time": "2023-04-07T10:46:12.506175Z"
    },
    "hidden": true
   },
   "outputs": [
    {
     "name": "stdout",
     "output_type": "stream",
     "text": [
      " inchi Key          : QDBVSOZTVKXUES-UHFFFAOYSA-N\n",
      " inchi_str          : InChI=1S/C21H23N3O2/c1-24(2)12-4-11-23-21(26)16-8-6-15(7-9-16)18-13-17-5-3-10-22-20(17)19(25)14-18/h3,5-10,13-14,25H,4,11-12H2,1-2H3,(H,23,26)\n",
      " Canonical smiles   : CN(C)CCCNC(=O)c1ccc(cc1)c3cc(O)c2ncccc2c3 \n",
      " Standarized smiles : CN(C)CCCNC(=O)c1ccc(-c2cc(O)c3ncccc3c2)cc1\n"
     ]
    }
   ],
   "source": [
    "m = inchi.MolFromInchi(inchi_str, sanitize = True, removeHs = True)\n",
    "canon_smiles = pat.GetCanonSmiles(m)\n",
    "standard_smiles = Chem.MolToSmiles(m)\n",
    "print(f' inchi Key          : {inchikey}')\n",
    "print(f' inchi_str          : {inchi_str}')\n",
    "print(f\" Canonical smiles   : {canon_smiles} \")\n",
    "print(f\" Standarized smiles : {standard_smiles}\")"
   ]
  },
  {
   "cell_type": "code",
   "execution_count": 66,
   "id": "0413717d",
   "metadata": {
    "ExecuteTime": {
     "end_time": "2023-04-07T10:46:19.735299Z",
     "start_time": "2023-04-07T10:46:19.626247Z"
    },
    "hidden": true
   },
   "outputs": [],
   "source": [
    "fdefName = os.path.join(RDConfig.RDDataDir,'BaseFeatures.fdef')\n",
    "# fdefName = 'data/MinimalFeatures.fdef'\n",
    "featFactory = ChemicalFeatures.BuildFeatureFactory(fdefName)\n",
    "from rdkit.Chem.Pharm2D.SigFactory import SigFactory"
   ]
  },
  {
   "cell_type": "code",
   "execution_count": 67,
   "id": "b91cc40f",
   "metadata": {
    "ExecuteTime": {
     "end_time": "2023-04-07T10:46:22.536228Z",
     "start_time": "2023-04-07T10:46:22.496171Z"
    },
    "hidden": true
   },
   "outputs": [
    {
     "data": {
      "text/plain": [
       "1032"
      ]
     },
     "execution_count": 67,
     "metadata": {},
     "output_type": "execute_result"
    }
   ],
   "source": [
    "sigFactory = SigFactory(featFactory,minPointCount=2,maxPointCount=3)\n",
    "# sigFactory.SetBins([(0,2),(2,5),(5,8)])\n",
    "# sigFactory.SetBins( [(2,3),(3,4),(4,5),(5,6),(6,7),(7,8),(8,100)])\n",
    "sigFactory.SetBins( [(0,3),(3,8)])\n",
    "sigFactory.Init()\n",
    "sigFactory.GetSigSize()"
   ]
  },
  {
   "cell_type": "code",
   "execution_count": 68,
   "id": "3c1f5d10",
   "metadata": {
    "ExecuteTime": {
     "end_time": "2023-04-07T10:46:25.765291Z",
     "start_time": "2023-04-07T10:46:25.655807Z"
    },
    "hidden": true
   },
   "outputs": [
    {
     "name": "stdout",
     "output_type": "stream",
     "text": [
      "1032 124 908\n"
     ]
    }
   ],
   "source": [
    "fp = Generate.Gen2DFingerprint(m,sigFactory)\n",
    "print(fp.GetNumBits(), fp.GetNumOnBits(), fp.GetNumOffBits())"
   ]
  },
  {
   "cell_type": "code",
   "execution_count": 78,
   "id": "fde4a6af",
   "metadata": {
    "ExecuteTime": {
     "end_time": "2023-04-07T10:52:48.735323Z",
     "start_time": "2023-04-07T10:52:48.664869Z"
    },
    "hidden": true,
    "scrolled": true
   },
   "outputs": [
    {
     "name": "stdout",
     "output_type": "stream",
     "text": [
      "[1, 2, 3, 4, 5, 6, 7, 8, 9, 13, 16, 17, 18, 19, 20, 21, 22, 23, 27, 31, 32, 33, 34, 35, 39, 42, 43, 44, 45, 48]\n",
      " Bit:     1   Description: Acceptor Acceptor |0 1|1 0|\n",
      " Bit:     2   Description: Acceptor Aromatic |0 0|0 0|\n",
      " Bit:     3   Description: Acceptor Aromatic |0 1|1 0|\n",
      " Bit:     4   Description: Acceptor Donor |0 0|0 0|\n",
      " Bit:     5   Description: Acceptor Donor |0 1|1 0|\n",
      " Bit:     6   Description: Acceptor Hydrophobe |0 0|0 0|\n",
      " Bit:     7   Description: Acceptor Hydrophobe |0 1|1 0|\n",
      " Bit:     8   Description: Acceptor LumpedHydrophobe |0 0|0 0|\n",
      " Bit:     9   Description: Acceptor LumpedHydrophobe |0 1|1 0|\n",
      " Bit:    13   Description: Acceptor PosIonizable |0 1|1 0|\n",
      " Bit:    16   Description: Aromatic Aromatic |0 0|0 0|\n",
      " Bit:    17   Description: Aromatic Aromatic |0 1|1 0|\n",
      " Bit:    18   Description: Aromatic Donor |0 0|0 0|\n",
      " Bit:    19   Description: Aromatic Donor |0 1|1 0|\n",
      " Bit:    20   Description: Aromatic Hydrophobe |0 0|0 0|\n",
      " Bit:    21   Description: Aromatic Hydrophobe |0 1|1 0|\n",
      " Bit:    22   Description: Aromatic LumpedHydrophobe |0 0|0 0|\n",
      " Bit:    23   Description: Aromatic LumpedHydrophobe |0 1|1 0|\n",
      " Bit:    27   Description: Aromatic PosIonizable |0 1|1 0|\n",
      " Bit:    31   Description: Donor Donor |0 1|1 0|\n",
      " Bit:    32   Description: Donor Hydrophobe |0 0|0 0|\n",
      " Bit:    33   Description: Donor Hydrophobe |0 1|1 0|\n",
      " Bit:    34   Description: Donor LumpedHydrophobe |0 0|0 0|\n",
      " Bit:    35   Description: Donor LumpedHydrophobe |0 1|1 0|\n",
      " Bit:    39   Description: Donor PosIonizable |0 1|1 0|\n",
      " Bit:    42   Description: Hydrophobe Hydrophobe |0 0|0 0|\n",
      " Bit:    43   Description: Hydrophobe Hydrophobe |0 1|1 0|\n",
      " Bit:    44   Description: Hydrophobe LumpedHydrophobe |0 0|0 0|\n",
      " Bit:    45   Description: Hydrophobe LumpedHydrophobe |0 1|1 0|\n",
      " Bit:    48   Description: Hydrophobe PosIonizable |0 0|0 0|\n",
      " Bit:    49   Description: Hydrophobe PosIonizable |0 1|1 0|\n",
      " Bit:    52   Description: LumpedHydrophobe LumpedHydrophobe |0 0|0 0|\n",
      " Bit:    57   Description: LumpedHydrophobe PosIonizable |0 1|1 0|\n",
      " Bit:    84   Description: Acceptor Acceptor Aromatic |0 1 0|1 0 0|0 0 0|\n",
      " Bit:    87   Description: Acceptor Acceptor Aromatic |0 1 1|1 0 1|1 1 0|\n",
      " Bit:   102   Description: Acceptor Acceptor Hydrophobe |0 1 1|1 0 0|1 0 0|\n",
      " Bit:   103   Description: Acceptor Acceptor Hydrophobe |0 1 1|1 0 1|1 1 0|\n",
      " Bit:   108   Description: Acceptor Acceptor LumpedHydrophobe |0 1 0|1 0 0|0 0 0|\n",
      " Bit:   111   Description: Acceptor Acceptor LumpedHydrophobe |0 1 1|1 0 1|1 1 0|\n",
      " Bit:   140   Description: Acceptor Aromatic Aromatic |0 1 0|1 0 0|0 0 0|\n",
      " Bit:   141   Description: Acceptor Aromatic Aromatic |0 1 0|1 0 1|0 1 0|\n",
      " Bit:   144   Description: Acceptor Aromatic Donor |0 0 0|0 0 0|0 0 0|\n",
      " Bit:   146   Description: Acceptor Aromatic Donor |0 0 1|0 0 0|1 0 0|\n",
      " Bit:   147   Description: Acceptor Aromatic Donor |0 0 1|0 0 1|1 1 0|\n",
      " Bit:   149   Description: Acceptor Aromatic Donor |0 1 0|1 0 1|0 1 0|\n",
      " Bit:   151   Description: Acceptor Aromatic Donor |0 1 1|1 0 1|1 1 0|\n",
      " Bit:   154   Description: Acceptor Aromatic Hydrophobe |0 0 1|0 0 0|1 0 0|\n",
      " Bit:   155   Description: Acceptor Aromatic Hydrophobe |0 0 1|0 0 1|1 1 0|\n",
      " Bit:   157   Description: Acceptor Aromatic Hydrophobe |0 1 0|1 0 1|0 1 0|\n",
      " Bit:   158   Description: Acceptor Aromatic Hydrophobe |0 1 1|1 0 0|1 0 0|\n",
      " Bit:   159   Description: Acceptor Aromatic Hydrophobe |0 1 1|1 0 1|1 1 0|\n",
      " Bit:   162   Description: Acceptor Aromatic LumpedHydrophobe |0 0 1|0 0 0|1 0 0|\n",
      " Bit:   163   Description: Acceptor Aromatic LumpedHydrophobe |0 0 1|0 0 1|1 1 0|\n",
      " Bit:   164   Description: Acceptor Aromatic LumpedHydrophobe |0 1 0|1 0 0|0 0 0|\n",
      " Bit:   179   Description: Acceptor Aromatic PosIonizable |0 0 1|0 0 1|1 1 0|\n",
      " Bit:   197   Description: Acceptor Donor Donor |0 1 0|1 0 1|0 1 0|\n",
      " Bit:   200   Description: Acceptor Donor Hydrophobe |0 0 0|0 0 0|0 0 0|\n",
      " Bit:   202   Description: Acceptor Donor Hydrophobe |0 0 1|0 0 0|1 0 0|\n",
      " Bit:   203   Description: Acceptor Donor Hydrophobe |0 0 1|0 0 1|1 1 0|\n",
      " Bit:   205   Description: Acceptor Donor Hydrophobe |0 1 0|1 0 1|0 1 0|\n",
      " Bit:   206   Description: Acceptor Donor Hydrophobe |0 1 1|1 0 0|1 0 0|\n",
      " Bit:   207   Description: Acceptor Donor Hydrophobe |0 1 1|1 0 1|1 1 0|\n",
      " Bit:   208   Description: Acceptor Donor LumpedHydrophobe |0 0 0|0 0 0|0 0 0|\n",
      " Bit:   211   Description: Acceptor Donor LumpedHydrophobe |0 0 1|0 0 1|1 1 0|\n",
      " Bit:   212   Description: Acceptor Donor LumpedHydrophobe |0 1 0|1 0 0|0 0 0|\n",
      " Bit:   213   Description: Acceptor Donor LumpedHydrophobe |0 1 0|1 0 1|0 1 0|\n",
      " Bit:   215   Description: Acceptor Donor LumpedHydrophobe |0 1 1|1 0 1|1 1 0|\n",
      " Bit:   227   Description: Acceptor Donor PosIonizable |0 0 1|0 0 1|1 1 0|\n",
      " Bit:   244   Description: Acceptor Hydrophobe Hydrophobe |0 1 0|1 0 0|0 0 0|\n",
      " Bit:   245   Description: Acceptor Hydrophobe Hydrophobe |0 1 0|1 0 1|0 1 0|\n",
      " Bit:   246   Description: Acceptor Hydrophobe Hydrophobe |0 1 1|1 0 0|1 0 0|\n",
      " Bit:   247   Description: Acceptor Hydrophobe Hydrophobe |0 1 1|1 0 1|1 1 0|\n",
      " Bit:   251   Description: Acceptor Hydrophobe LumpedHydrophobe |0 0 1|0 0 1|1 1 0|\n",
      " Bit:   252   Description: Acceptor Hydrophobe LumpedHydrophobe |0 1 0|1 0 0|0 0 0|\n",
      " Bit:   253   Description: Acceptor Hydrophobe LumpedHydrophobe |0 1 0|1 0 1|0 1 0|\n",
      " Bit:   254   Description: Acceptor Hydrophobe LumpedHydrophobe |0 1 1|1 0 0|1 0 0|\n",
      " Bit:   255   Description: Acceptor Hydrophobe LumpedHydrophobe |0 1 1|1 0 1|1 1 0|\n",
      " Bit:   267   Description: Acceptor Hydrophobe PosIonizable |0 0 1|0 0 1|1 1 0|\n",
      " Bit:   270   Description: Acceptor Hydrophobe PosIonizable |0 1 1|1 0 0|1 0 0|\n",
      " Bit:   284   Description: Acceptor LumpedHydrophobe LumpedHydrophobe |0 1 0|1 0 0|0 0 0|\n",
      " Bit:   299   Description: Acceptor LumpedHydrophobe PosIonizable |0 0 1|0 0 1|1 1 0|\n",
      " Bit:   370   Description: Aromatic Aromatic Donor |0 0 1|0 0 0|1 0 0|\n",
      " Bit:   374   Description: Aromatic Aromatic Donor |0 1 1|1 0 0|1 0 0|\n",
      " Bit:   380   Description: Aromatic Aromatic Hydrophobe |0 1 0|1 0 0|0 0 0|\n",
      " Bit:   421   Description: Aromatic Donor Donor |0 1 0|1 0 1|0 1 0|\n",
      " Bit:   425   Description: Aromatic Donor Hydrophobe |0 0 0|0 0 1|0 1 0|\n",
      " Bit:   426   Description: Aromatic Donor Hydrophobe |0 0 1|0 0 0|1 0 0|\n",
      " Bit:   427   Description: Aromatic Donor Hydrophobe |0 0 1|0 0 1|1 1 0|\n",
      " Bit:   429   Description: Aromatic Donor Hydrophobe |0 1 0|1 0 1|0 1 0|\n",
      " Bit:   430   Description: Aromatic Donor Hydrophobe |0 1 1|1 0 0|1 0 0|\n",
      " Bit:   431   Description: Aromatic Donor Hydrophobe |0 1 1|1 0 1|1 1 0|\n",
      " Bit:   433   Description: Aromatic Donor LumpedHydrophobe |0 0 0|0 0 1|0 1 0|\n",
      " Bit:   435   Description: Aromatic Donor LumpedHydrophobe |0 0 1|0 0 1|1 1 0|\n",
      " Bit:   436   Description: Aromatic Donor LumpedHydrophobe |0 1 0|1 0 0|0 0 0|\n",
      " Bit:   451   Description: Aromatic Donor PosIonizable |0 0 1|0 0 1|1 1 0|\n",
      " Bit:   468   Description: Aromatic Hydrophobe Hydrophobe |0 1 0|1 0 0|0 0 0|\n",
      " Bit:   469   Description: Aromatic Hydrophobe Hydrophobe |0 1 0|1 0 1|0 1 0|\n",
      " Bit:   471   Description: Aromatic Hydrophobe Hydrophobe |0 1 1|1 0 1|1 1 0|\n",
      " Bit:   474   Description: Aromatic Hydrophobe LumpedHydrophobe |0 0 1|0 0 0|1 0 0|\n",
      " Bit:   494   Description: Aromatic Hydrophobe PosIonizable |0 1 1|1 0 0|1 0 0|\n",
      " Bit:   596   Description: Donor Donor Hydrophobe |0 1 0|1 0 0|0 0 0|\n",
      " Bit:   598   Description: Donor Donor Hydrophobe |0 1 1|1 0 0|1 0 0|\n",
      " Bit:   606   Description: Donor Donor LumpedHydrophobe |0 1 1|1 0 0|1 0 0|\n",
      " Bit:   633   Description: Donor Hydrophobe Hydrophobe |0 0 0|0 0 1|0 1 0|\n",
      " Bit:   637   Description: Donor Hydrophobe Hydrophobe |0 1 0|1 0 1|0 1 0|\n",
      " Bit:   638   Description: Donor Hydrophobe Hydrophobe |0 1 1|1 0 0|1 0 0|\n",
      " Bit:   639   Description: Donor Hydrophobe Hydrophobe |0 1 1|1 0 1|1 1 0|\n",
      " Bit:   641   Description: Donor Hydrophobe LumpedHydrophobe |0 0 0|0 0 1|0 1 0|\n",
      " Bit:   643   Description: Donor Hydrophobe LumpedHydrophobe |0 0 1|0 0 1|1 1 0|\n",
      " Bit:   644   Description: Donor Hydrophobe LumpedHydrophobe |0 1 0|1 0 0|0 0 0|\n",
      " Bit:   645   Description: Donor Hydrophobe LumpedHydrophobe |0 1 0|1 0 1|0 1 0|\n",
      " Bit:   646   Description: Donor Hydrophobe LumpedHydrophobe |0 1 1|1 0 0|1 0 0|\n",
      " Bit:   647   Description: Donor Hydrophobe LumpedHydrophobe |0 1 1|1 0 1|1 1 0|\n",
      " Bit:   658   Description: Donor Hydrophobe PosIonizable |0 0 1|0 0 0|1 0 0|\n",
      " Bit:   659   Description: Donor Hydrophobe PosIonizable |0 0 1|0 0 1|1 1 0|\n",
      " Bit:   676   Description: Donor LumpedHydrophobe LumpedHydrophobe |0 1 0|1 0 0|0 0 0|\n",
      " Bit:   691   Description: Donor LumpedHydrophobe PosIonizable |0 0 1|0 0 1|1 1 0|\n",
      " Bit:   756   Description: Hydrophobe Hydrophobe Hydrophobe |0 1 0|1 0 0|0 0 0|\n",
      " Bit:   758   Description: Hydrophobe Hydrophobe Hydrophobe |0 1 1|1 0 0|1 0 0|\n",
      " Bit:   759   Description: Hydrophobe Hydrophobe Hydrophobe |0 1 1|1 0 1|1 1 0|\n",
      " Bit:   762   Description: Hydrophobe Hydrophobe LumpedHydrophobe |0 0 1|0 0 0|1 0 0|\n",
      " Bit:   766   Description: Hydrophobe Hydrophobe LumpedHydrophobe |0 1 1|1 0 0|1 0 0|\n",
      " Bit:   782   Description: Hydrophobe Hydrophobe PosIonizable |0 1 1|1 0 0|1 0 0|\n",
      " Bit:   813   Description: Hydrophobe LumpedHydrophobe PosIonizable |0 1 0|1 0 1|0 1 0|\n"
     ]
    }
   ],
   "source": [
    "print(list(fp.GetOnBits())[:30])\n",
    "for i in list(fp.GetOnBits()):\n",
    "    print(f\" Bit: {i:5d}   Description: {sigFactory.GetBitDescription(i)}\")\n",
    "#     print(f\"                            {sigFactory.factory.GetBitDescription(i)}\"   )"
   ]
  },
  {
   "cell_type": "code",
   "execution_count": 83,
   "id": "63a6226e",
   "metadata": {
    "ExecuteTime": {
     "end_time": "2023-04-07T10:57:09.454770Z",
     "start_time": "2023-04-07T10:57:09.154850Z"
    },
    "hidden": true
   },
   "outputs": [
    {
     "name": "stdout",
     "output_type": "stream",
     "text": [
      " Bit:     0   #points: 2  pattern indices: (0, 0)  distance indices: (0,)\n",
      " Bit:     1   #points: 2  pattern indices: (0, 0)  distance indices: (1,)\n",
      " Bit:     2   #points: 2  pattern indices: (0, 1)  distance indices: (0,)\n",
      " Bit:     3   #points: 2  pattern indices: (0, 1)  distance indices: (1,)\n",
      " Bit:     4   #points: 2  pattern indices: (0, 2)  distance indices: (0,)\n",
      " Bit:     5   #points: 2  pattern indices: (0, 2)  distance indices: (1,)\n",
      " Bit:     6   #points: 2  pattern indices: (0, 3)  distance indices: (0,)\n",
      " Bit:     7   #points: 2  pattern indices: (0, 3)  distance indices: (1,)\n",
      " Bit:     8   #points: 2  pattern indices: (0, 4)  distance indices: (0,)\n",
      " Bit:     9   #points: 2  pattern indices: (0, 4)  distance indices: (1,)\n",
      " Bit:    10   #points: 2  pattern indices: (0, 5)  distance indices: (0,)\n",
      " Bit:    11   #points: 2  pattern indices: (0, 5)  distance indices: (1,)\n",
      " Bit:    12   #points: 2  pattern indices: (0, 6)  distance indices: (0,)\n",
      " Bit:    13   #points: 2  pattern indices: (0, 6)  distance indices: (1,)\n",
      " Bit:    14   #points: 2  pattern indices: (0, 7)  distance indices: (0,)\n"
     ]
    }
   ],
   "source": [
    "for i in range(15):\n",
    "    print(f\" Bit: {i:5d}   #points: {sigFactory.GetBitInfo(i)[0]}  pattern indices: {sigFactory.GetBitInfo(i)[1]}  distance indices: {sigFactory.GetBitInfo(i)[2]}\")"
   ]
  },
  {
   "cell_type": "code",
   "execution_count": 41,
   "id": "578235ac",
   "metadata": {
    "ExecuteTime": {
     "end_time": "2023-04-06T14:51:43.212232Z",
     "start_time": "2023-04-06T14:51:43.200045Z"
    },
    "hidden": true,
    "scrolled": true
   },
   "outputs": [
    {
     "name": "stdout",
     "output_type": "stream",
     "text": [
      "Chembl-id:    []\n",
      "Num of Atoms: 29\n",
      "#bits:        66\n",
      "Smiles:       CC(C)=CCC/C(C)=C/CC/C(C)=C/CC[C@]1(C)CCc2cc(O)cc(C)c2O1\n",
      "\n"
     ]
    },
    {
     "data": {
      "image/svg+xml": [
       "<svg xmlns=\"http://www.w3.org/2000/svg\" xmlns:rdkit=\"http://www.rdkit.org/xml\" xmlns:xlink=\"http://www.w3.org/1999/xlink\" version=\"1.1\" baseProfile=\"full\" xml:space=\"preserve\" width=\"450px\" height=\"150px\" viewBox=\"0 0 450 150\">\n",
       "<!-- END OF HEADER -->\n",
       "<rect style=\"opacity:1.0;fill:#FFFFFF;stroke:none\" width=\"450.0\" height=\"150.0\" x=\"0.0\" y=\"0.0\"> </rect>\n",
       "<path class=\"bond-0 atom-0 atom-19\" d=\"M 60.9,77.0 L 84.5,68.8\" style=\"fill:none;fill-rule:evenodd;stroke:#000000;stroke-width:2.0px;stroke-linecap:butt;stroke-linejoin:miter;stroke-opacity:1\"/>\n",
       "<path class=\"bond-1 atom-1 atom-19\" d=\"M 89.3,44.2 L 84.5,68.8\" style=\"fill:none;fill-rule:evenodd;stroke:#000000;stroke-width:2.0px;stroke-linecap:butt;stroke-linejoin:miter;stroke-opacity:1\"/>\n",
       "<path class=\"bond-2 atom-2 atom-20\" d=\"M 174.4,60.7 L 169.7,85.3\" style=\"fill:none;fill-rule:evenodd;stroke:#000000;stroke-width:2.0px;stroke-linecap:butt;stroke-linejoin:miter;stroke-opacity:1\"/>\n",
       "<path class=\"bond-3 atom-3 atom-21\" d=\"M 259.5,77.1 L 254.8,101.7\" style=\"fill:none;fill-rule:evenodd;stroke:#000000;stroke-width:2.0px;stroke-linecap:butt;stroke-linejoin:miter;stroke-opacity:1\"/>\n",
       "<path class=\"bond-4 atom-4 atom-22\" d=\"M 303.4,52.5 L 328.5,52.9\" style=\"fill:none;fill-rule:evenodd;stroke:#000000;stroke-width:2.0px;stroke-linecap:butt;stroke-linejoin:miter;stroke-opacity:1\"/>\n",
       "<path class=\"bond-5 atom-26 atom-5\" d=\"M 340.8,121.7 L 340.2,121.7\" style=\"fill:none;fill-rule:evenodd;stroke:#000000;stroke-width:1.0px;stroke-linecap:butt;stroke-linejoin:miter;stroke-opacity:1\"/>\n",
       "<path class=\"bond-5 atom-26 atom-5\" d=\"M 341.6,125.1 L 340.5,125.3\" style=\"fill:none;fill-rule:evenodd;stroke:#000000;stroke-width:1.0px;stroke-linecap:butt;stroke-linejoin:miter;stroke-opacity:1\"/>\n",
       "<path class=\"bond-5 atom-26 atom-5\" d=\"M 342.4,128.6 L 340.8,128.9\" style=\"fill:none;fill-rule:evenodd;stroke:#000000;stroke-width:1.0px;stroke-linecap:butt;stroke-linejoin:miter;stroke-opacity:1\"/>\n",
       "<path class=\"bond-5 atom-26 atom-5\" d=\"M 343.2,132.1 L 341.1,132.5\" style=\"fill:none;fill-rule:evenodd;stroke:#000000;stroke-width:1.0px;stroke-linecap:butt;stroke-linejoin:miter;stroke-opacity:1\"/>\n",
       "<path class=\"bond-5 atom-26 atom-5\" d=\"M 344.1,135.6 L 341.4,136.0\" style=\"fill:none;fill-rule:evenodd;stroke:#000000;stroke-width:1.0px;stroke-linecap:butt;stroke-linejoin:miter;stroke-opacity:1\"/>\n",
       "<path class=\"bond-5 atom-26 atom-5\" d=\"M 344.9,139.1 L 341.7,139.6\" style=\"fill:none;fill-rule:evenodd;stroke:#000000;stroke-width:1.0px;stroke-linecap:butt;stroke-linejoin:miter;stroke-opacity:1\"/>\n",
       "<path class=\"bond-5 atom-26 atom-5\" d=\"M 345.7,142.6 L 342.0,143.2\" style=\"fill:none;fill-rule:evenodd;stroke:#000000;stroke-width:1.0px;stroke-linecap:butt;stroke-linejoin:miter;stroke-opacity:1\"/>\n",
       "<path class=\"bond-6 atom-6 atom-9\" d=\"M 127.1,77.0 L 103.4,85.2\" style=\"fill:none;fill-rule:evenodd;stroke:#000000;stroke-width:2.0px;stroke-linecap:butt;stroke-linejoin:miter;stroke-opacity:1\"/>\n",
       "<path class=\"bond-7 atom-6 atom-10\" d=\"M 127.1,77.0 L 146.0,93.4\" style=\"fill:none;fill-rule:evenodd;stroke:#000000;stroke-width:2.0px;stroke-linecap:butt;stroke-linejoin:miter;stroke-opacity:1\"/>\n",
       "<path class=\"bond-8 atom-7 atom-11\" d=\"M 212.2,93.5 L 188.6,101.7\" style=\"fill:none;fill-rule:evenodd;stroke:#000000;stroke-width:2.0px;stroke-linecap:butt;stroke-linejoin:miter;stroke-opacity:1\"/>\n",
       "<path class=\"bond-9 atom-7 atom-12\" d=\"M 212.2,93.5 L 231.1,109.9\" style=\"fill:none;fill-rule:evenodd;stroke:#000000;stroke-width:2.0px;stroke-linecap:butt;stroke-linejoin:miter;stroke-opacity:1\"/>\n",
       "<path class=\"bond-10 atom-8 atom-13\" d=\"M 297.4,109.9 L 273.7,118.1\" style=\"fill:none;fill-rule:evenodd;stroke:#000000;stroke-width:2.0px;stroke-linecap:butt;stroke-linejoin:miter;stroke-opacity:1\"/>\n",
       "<path class=\"bond-11 atom-8 atom-15\" d=\"M 297.4,109.9 L 316.3,126.3\" style=\"fill:none;fill-rule:evenodd;stroke:#000000;stroke-width:2.0px;stroke-linecap:butt;stroke-linejoin:miter;stroke-opacity:1\"/>\n",
       "<path class=\"bond-12 atom-9 atom-19\" d=\"M 103.4,85.2 L 84.5,68.8\" style=\"fill:none;fill-rule:evenodd;stroke:#000000;stroke-width:2.0px;stroke-linecap:butt;stroke-linejoin:miter;stroke-opacity:1\"/>\n",
       "<path class=\"bond-12 atom-9 atom-19\" d=\"M 104.2,81.0 L 88.6,67.4\" style=\"fill:none;fill-rule:evenodd;stroke:#000000;stroke-width:2.0px;stroke-linecap:butt;stroke-linejoin:miter;stroke-opacity:1\"/>\n",
       "<path class=\"bond-13 atom-10 atom-20\" d=\"M 146.0,93.4 L 169.7,85.3\" style=\"fill:none;fill-rule:evenodd;stroke:#000000;stroke-width:2.0px;stroke-linecap:butt;stroke-linejoin:miter;stroke-opacity:1\"/>\n",
       "<path class=\"bond-14 atom-11 atom-20\" d=\"M 188.6,101.7 L 169.7,85.3\" style=\"fill:none;fill-rule:evenodd;stroke:#000000;stroke-width:2.0px;stroke-linecap:butt;stroke-linejoin:miter;stroke-opacity:1\"/>\n",
       "<path class=\"bond-14 atom-11 atom-20\" d=\"M 189.4,97.4 L 173.7,83.9\" style=\"fill:none;fill-rule:evenodd;stroke:#000000;stroke-width:2.0px;stroke-linecap:butt;stroke-linejoin:miter;stroke-opacity:1\"/>\n",
       "<path class=\"bond-15 atom-12 atom-21\" d=\"M 231.1,109.9 L 254.8,101.7\" style=\"fill:none;fill-rule:evenodd;stroke:#000000;stroke-width:2.0px;stroke-linecap:butt;stroke-linejoin:miter;stroke-opacity:1\"/>\n",
       "<path class=\"bond-16 atom-13 atom-21\" d=\"M 273.7,118.1 L 254.8,101.7\" style=\"fill:none;fill-rule:evenodd;stroke:#000000;stroke-width:2.0px;stroke-linecap:butt;stroke-linejoin:miter;stroke-opacity:1\"/>\n",
       "<path class=\"bond-16 atom-13 atom-21\" d=\"M 274.5,113.9 L 258.9,100.3\" style=\"fill:none;fill-rule:evenodd;stroke:#000000;stroke-width:2.0px;stroke-linecap:butt;stroke-linejoin:miter;stroke-opacity:1\"/>\n",
       "<path class=\"bond-17 atom-14 atom-16\" d=\"M 377.8,97.1 L 365.0,118.6\" style=\"fill:none;fill-rule:evenodd;stroke:#000000;stroke-width:2.0px;stroke-linecap:butt;stroke-linejoin:miter;stroke-opacity:1\"/>\n",
       "<path class=\"bond-18 atom-14 atom-23\" d=\"M 377.8,97.1 L 365.7,75.2\" style=\"fill:none;fill-rule:evenodd;stroke:#000000;stroke-width:2.0px;stroke-linecap:butt;stroke-linejoin:miter;stroke-opacity:1\"/>\n",
       "<path class=\"bond-19 atom-15 atom-26\" d=\"M 316.3,126.3 L 339.9,118.2\" style=\"fill:none;fill-rule:evenodd;stroke:#000000;stroke-width:2.0px;stroke-linecap:butt;stroke-linejoin:miter;stroke-opacity:1\"/>\n",
       "<path class=\"bond-20 atom-16 atom-26\" d=\"M 365.0,118.6 L 339.9,118.2\" style=\"fill:none;fill-rule:evenodd;stroke:#000000;stroke-width:2.0px;stroke-linecap:butt;stroke-linejoin:miter;stroke-opacity:1\"/>\n",
       "<path class=\"bond-21 atom-17 atom-22\" d=\"M 341.3,31.5 L 328.5,52.9\" style=\"fill:none;fill-rule:evenodd;stroke:#000000;stroke-width:2.0px;stroke-linecap:butt;stroke-linejoin:miter;stroke-opacity:1\"/>\n",
       "<path class=\"bond-22 atom-17 atom-24\" d=\"M 341.3,31.5 L 366.4,31.9\" style=\"fill:none;fill-rule:evenodd;stroke:#000000;stroke-width:2.0px;stroke-linecap:butt;stroke-linejoin:miter;stroke-opacity:1\"/>\n",
       "<path class=\"bond-22 atom-17 atom-24\" d=\"M 343.5,35.3 L 364.1,35.6\" style=\"fill:none;fill-rule:evenodd;stroke:#000000;stroke-width:2.0px;stroke-linecap:butt;stroke-linejoin:miter;stroke-opacity:1\"/>\n",
       "<path class=\"bond-23 atom-18 atom-23\" d=\"M 378.5,53.8 L 365.7,75.2\" style=\"fill:none;fill-rule:evenodd;stroke:#000000;stroke-width:2.0px;stroke-linecap:butt;stroke-linejoin:miter;stroke-opacity:1\"/>\n",
       "<path class=\"bond-23 atom-18 atom-23\" d=\"M 374.2,53.7 L 363.6,71.4\" style=\"fill:none;fill-rule:evenodd;stroke:#000000;stroke-width:2.0px;stroke-linecap:butt;stroke-linejoin:miter;stroke-opacity:1\"/>\n",
       "<path class=\"bond-24 atom-18 atom-24\" d=\"M 378.5,53.8 L 366.4,31.9\" style=\"fill:none;fill-rule:evenodd;stroke:#000000;stroke-width:2.0px;stroke-linecap:butt;stroke-linejoin:miter;stroke-opacity:1\"/>\n",
       "<path class=\"bond-25 atom-22 atom-25\" d=\"M 328.5,52.9 L 340.6,74.8\" style=\"fill:none;fill-rule:evenodd;stroke:#000000;stroke-width:2.0px;stroke-linecap:butt;stroke-linejoin:miter;stroke-opacity:1\"/>\n",
       "<path class=\"bond-25 atom-22 atom-25\" d=\"M 332.8,53.0 L 342.9,71.1\" style=\"fill:none;fill-rule:evenodd;stroke:#000000;stroke-width:2.0px;stroke-linecap:butt;stroke-linejoin:miter;stroke-opacity:1\"/>\n",
       "<path class=\"bond-26 atom-23 atom-25\" d=\"M 365.7,75.2 L 340.6,74.8\" style=\"fill:none;fill-rule:evenodd;stroke:#000000;stroke-width:2.0px;stroke-linecap:butt;stroke-linejoin:miter;stroke-opacity:1\"/>\n",
       "<path class=\"bond-27 atom-24 atom-27\" d=\"M 366.4,31.9 L 371.5,23.4\" style=\"fill:none;fill-rule:evenodd;stroke:#000000;stroke-width:2.0px;stroke-linecap:butt;stroke-linejoin:miter;stroke-opacity:1\"/>\n",
       "<path class=\"bond-27 atom-24 atom-27\" d=\"M 371.5,23.4 L 376.5,14.9\" style=\"fill:none;fill-rule:evenodd;stroke:#FF0000;stroke-width:2.0px;stroke-linecap:butt;stroke-linejoin:miter;stroke-opacity:1\"/>\n",
       "<path class=\"bond-28 atom-25 atom-28\" d=\"M 340.6,74.8 L 335.5,83.3\" style=\"fill:none;fill-rule:evenodd;stroke:#000000;stroke-width:2.0px;stroke-linecap:butt;stroke-linejoin:miter;stroke-opacity:1\"/>\n",
       "<path class=\"bond-28 atom-25 atom-28\" d=\"M 335.5,83.3 L 330.4,91.9\" style=\"fill:none;fill-rule:evenodd;stroke:#FF0000;stroke-width:2.0px;stroke-linecap:butt;stroke-linejoin:miter;stroke-opacity:1\"/>\n",
       "<path class=\"bond-29 atom-26 atom-28\" d=\"M 339.9,118.2 L 335.1,109.5\" style=\"fill:none;fill-rule:evenodd;stroke:#000000;stroke-width:2.0px;stroke-linecap:butt;stroke-linejoin:miter;stroke-opacity:1\"/>\n",
       "<path class=\"bond-29 atom-26 atom-28\" d=\"M 335.1,109.5 L 330.3,100.8\" style=\"fill:none;fill-rule:evenodd;stroke:#FF0000;stroke-width:2.0px;stroke-linecap:butt;stroke-linejoin:miter;stroke-opacity:1\"/>\n",
       "<path d=\"M 125.9,77.5 L 127.1,77.0 L 128.0,77.9\" style=\"fill:none;stroke:#000000;stroke-width:2.0px;stroke-linecap:butt;stroke-linejoin:miter;stroke-opacity:1;\"/>\n",
       "<path d=\"M 211.0,93.9 L 212.2,93.5 L 213.2,94.3\" style=\"fill:none;stroke:#000000;stroke-width:2.0px;stroke-linecap:butt;stroke-linejoin:miter;stroke-opacity:1;\"/>\n",
       "<path d=\"M 296.2,110.4 L 297.4,109.9 L 298.3,110.8\" style=\"fill:none;stroke:#000000;stroke-width:2.0px;stroke-linecap:butt;stroke-linejoin:miter;stroke-opacity:1;\"/>\n",
       "<path d=\"M 104.6,84.8 L 103.4,85.2 L 102.5,84.4\" style=\"fill:none;stroke:#000000;stroke-width:2.0px;stroke-linecap:butt;stroke-linejoin:miter;stroke-opacity:1;\"/>\n",
       "<path d=\"M 145.0,92.6 L 146.0,93.4 L 147.2,93.0\" style=\"fill:none;stroke:#000000;stroke-width:2.0px;stroke-linecap:butt;stroke-linejoin:miter;stroke-opacity:1;\"/>\n",
       "<path d=\"M 189.7,101.3 L 188.6,101.7 L 187.6,100.8\" style=\"fill:none;stroke:#000000;stroke-width:2.0px;stroke-linecap:butt;stroke-linejoin:miter;stroke-opacity:1;\"/>\n",
       "<path d=\"M 230.2,109.1 L 231.1,109.9 L 232.3,109.5\" style=\"fill:none;stroke:#000000;stroke-width:2.0px;stroke-linecap:butt;stroke-linejoin:miter;stroke-opacity:1;\"/>\n",
       "<path d=\"M 274.9,117.7 L 273.7,118.1 L 272.8,117.3\" style=\"fill:none;stroke:#000000;stroke-width:2.0px;stroke-linecap:butt;stroke-linejoin:miter;stroke-opacity:1;\"/>\n",
       "<path d=\"M 377.2,98.2 L 377.8,97.1 L 377.2,96.0\" style=\"fill:none;stroke:#000000;stroke-width:2.0px;stroke-linecap:butt;stroke-linejoin:miter;stroke-opacity:1;\"/>\n",
       "<path d=\"M 315.3,125.5 L 316.3,126.3 L 317.5,125.9\" style=\"fill:none;stroke:#000000;stroke-width:2.0px;stroke-linecap:butt;stroke-linejoin:miter;stroke-opacity:1;\"/>\n",
       "<path d=\"M 365.6,117.5 L 365.0,118.6 L 363.7,118.6\" style=\"fill:none;stroke:#000000;stroke-width:2.0px;stroke-linecap:butt;stroke-linejoin:miter;stroke-opacity:1;\"/>\n",
       "<path d=\"M 340.7,32.5 L 341.3,31.5 L 342.6,31.5\" style=\"fill:none;stroke:#000000;stroke-width:2.0px;stroke-linecap:butt;stroke-linejoin:miter;stroke-opacity:1;\"/>\n",
       "<path d=\"M 377.9,54.8 L 378.5,53.8 L 377.9,52.7\" style=\"fill:none;stroke:#000000;stroke-width:2.0px;stroke-linecap:butt;stroke-linejoin:miter;stroke-opacity:1;\"/>\n",
       "<path class=\"atom-27\" d=\"M 376.0 10.4 Q 376.0 8.7, 376.8 7.8 Q 377.7 6.8, 379.2 6.8 Q 380.8 6.8, 381.7 7.8 Q 382.5 8.7, 382.5 10.4 Q 382.5 12.1, 381.6 13.1 Q 380.8 14.1, 379.2 14.1 Q 377.7 14.1, 376.8 13.1 Q 376.0 12.2, 376.0 10.4 M 379.2 13.3 Q 380.3 13.3, 380.9 12.6 Q 381.5 11.8, 381.5 10.4 Q 381.5 9.0, 380.9 8.3 Q 380.3 7.6, 379.2 7.6 Q 378.2 7.6, 377.6 8.3 Q 377.0 9.0, 377.0 10.4 Q 377.0 11.9, 377.6 12.6 Q 378.2 13.3, 379.2 13.3 \" fill=\"#FF0000\"/>\n",
       "<path class=\"atom-27\" d=\"M 383.6 6.9 L 384.6 6.9 L 384.6 9.9 L 388.2 9.9 L 388.2 6.9 L 389.1 6.9 L 389.1 14.0 L 388.2 14.0 L 388.2 10.7 L 384.6 10.7 L 384.6 14.0 L 383.6 14.0 L 383.6 6.9 \" fill=\"#FF0000\"/>\n",
       "<path class=\"atom-28\" d=\"M 324.5 96.3 Q 324.5 94.6, 325.4 93.7 Q 326.2 92.7, 327.8 92.7 Q 329.3 92.7, 330.2 93.7 Q 331.0 94.6, 331.0 96.3 Q 331.0 98.0, 330.2 99.0 Q 329.3 100.0, 327.8 100.0 Q 326.2 100.0, 325.4 99.0 Q 324.5 98.0, 324.5 96.3 M 327.8 99.2 Q 328.8 99.2, 329.4 98.5 Q 330.0 97.7, 330.0 96.3 Q 330.0 94.9, 329.4 94.2 Q 328.8 93.5, 327.8 93.5 Q 326.7 93.5, 326.1 94.2 Q 325.5 94.9, 325.5 96.3 Q 325.5 97.7, 326.1 98.5 Q 326.7 99.2, 327.8 99.2 \" fill=\"#FF0000\"/>\n",
       "</svg>"
      ],
      "text/plain": [
       "<IPython.core.display.SVG object>"
      ]
     },
     "metadata": {},
     "output_type": "display_data"
    }
   ],
   "source": [
    "printMol(m)"
   ]
  },
  {
   "cell_type": "code",
   "execution_count": 19,
   "id": "ccba0fa5",
   "metadata": {
    "ExecuteTime": {
     "end_time": "2023-04-06T14:33:09.887528Z",
     "start_time": "2023-04-06T14:33:09.879693Z"
    },
    "hidden": true
   },
   "outputs": [],
   "source": [
    "\n",
    "\n",
    "# fp = Generate.Gen2DFingerprint(m,sigFactory)\n",
    "fp = Generate.Gen2DFingerprint(m,Gobbi_Pharm2D.factory)"
   ]
  },
  {
   "cell_type": "code",
   "execution_count": 20,
   "id": "b0224fe4",
   "metadata": {
    "ExecuteTime": {
     "end_time": "2023-04-06T14:33:17.579802Z",
     "start_time": "2023-04-06T14:33:17.576224Z"
    },
    "hidden": true
   },
   "outputs": [
    {
     "data": {
      "text/plain": [
       "<rdkit.DataStructs.cDataStructs.SparseBitVect at 0x7f26198e2b10>"
      ]
     },
     "execution_count": 20,
     "metadata": {},
     "output_type": "execute_result"
    }
   ],
   "source": [
    "fp"
   ]
  },
  {
   "cell_type": "code",
   "execution_count": 22,
   "id": "5ce2b4b3",
   "metadata": {
    "ExecuteTime": {
     "end_time": "2023-04-06T14:34:33.639412Z",
     "start_time": "2023-04-06T14:34:33.635907Z"
    },
    "hidden": true
   },
   "outputs": [
    {
     "name": "stdout",
     "output_type": "stream",
     "text": [
      "39972 28 39944 <rdkit.rdBase._vecti object at 0x7f2619834e40>\n"
     ]
    }
   ],
   "source": [
    "print(fp.GetNumBits(), fp.GetNumOnBits(), fp.GetNumOffBits())"
   ]
  },
  {
   "cell_type": "code",
   "execution_count": 9,
   "id": "fcbb4d90",
   "metadata": {
    "ExecuteTime": {
     "end_time": "2023-04-07T10:23:53.226684Z",
     "start_time": "2023-04-07T10:23:53.221617Z"
    },
    "hidden": true
   },
   "outputs": [],
   "source": [
    "# list(fp.GetOnBits())"
   ]
  },
  {
   "cell_type": "code",
   "execution_count": 10,
   "id": "c82f7ef3",
   "metadata": {
    "ExecuteTime": {
     "end_time": "2023-04-07T10:23:54.506695Z",
     "start_time": "2023-04-07T10:23:54.486443Z"
    },
    "hidden": true
   },
   "outputs": [
    {
     "ename": "NameError",
     "evalue": "name 'fp' is not defined",
     "output_type": "error",
     "traceback": [
      "\u001b[0;31m---------------------------------------------------------------------------\u001b[0m",
      "\u001b[0;31mNameError\u001b[0m                                 Traceback (most recent call last)",
      "Cell \u001b[0;32mIn[10], line 1\u001b[0m\n\u001b[0;32m----> 1\u001b[0m \u001b[38;5;28;01mfor\u001b[39;00m i \u001b[38;5;129;01min\u001b[39;00m \u001b[38;5;28mlist\u001b[39m(\u001b[43mfp\u001b[49m\u001b[38;5;241m.\u001b[39mGetOnBits()):\n\u001b[1;32m      2\u001b[0m     \u001b[38;5;28mprint\u001b[39m(\u001b[38;5;124mf\u001b[39m\u001b[38;5;124m\"\u001b[39m\u001b[38;5;124m Bit: \u001b[39m\u001b[38;5;132;01m{\u001b[39;00mi\u001b[38;5;132;01m:\u001b[39;00m\u001b[38;5;124m5d\u001b[39m\u001b[38;5;132;01m}\u001b[39;00m\u001b[38;5;124m   Description: \u001b[39m\u001b[38;5;132;01m{\u001b[39;00mGobbi_Pharm2D\u001b[38;5;241m.\u001b[39mfactory\u001b[38;5;241m.\u001b[39mGetBitDescription(i)\u001b[38;5;132;01m}\u001b[39;00m\u001b[38;5;124m\"\u001b[39m)\n",
      "\u001b[0;31mNameError\u001b[0m: name 'fp' is not defined"
     ]
    }
   ],
   "source": [
    "for i in list(fp.GetOnBits()):\n",
    "    print(f\" Bit: {i:5d}   Description: {Gobbi_Pharm2D.factory.GetBitDescription(i)}\")"
   ]
  },
  {
   "cell_type": "code",
   "execution_count": 41,
   "id": "c371bfc5",
   "metadata": {
    "ExecuteTime": {
     "end_time": "2023-04-06T14:51:43.212232Z",
     "start_time": "2023-04-06T14:51:43.200045Z"
    },
    "hidden": true,
    "scrolled": true
   },
   "outputs": [
    {
     "name": "stdout",
     "output_type": "stream",
     "text": [
      "Chembl-id:    []\n",
      "Num of Atoms: 29\n",
      "#bits:        66\n",
      "Smiles:       CC(C)=CCC/C(C)=C/CC/C(C)=C/CC[C@]1(C)CCc2cc(O)cc(C)c2O1\n",
      "\n"
     ]
    },
    {
     "data": {
      "image/svg+xml": [
       "<svg xmlns=\"http://www.w3.org/2000/svg\" xmlns:rdkit=\"http://www.rdkit.org/xml\" xmlns:xlink=\"http://www.w3.org/1999/xlink\" version=\"1.1\" baseProfile=\"full\" xml:space=\"preserve\" width=\"450px\" height=\"150px\" viewBox=\"0 0 450 150\">\n",
       "<!-- END OF HEADER -->\n",
       "<rect style=\"opacity:1.0;fill:#FFFFFF;stroke:none\" width=\"450.0\" height=\"150.0\" x=\"0.0\" y=\"0.0\"> </rect>\n",
       "<path class=\"bond-0 atom-0 atom-19\" d=\"M 60.9,77.0 L 84.5,68.8\" style=\"fill:none;fill-rule:evenodd;stroke:#000000;stroke-width:2.0px;stroke-linecap:butt;stroke-linejoin:miter;stroke-opacity:1\"/>\n",
       "<path class=\"bond-1 atom-1 atom-19\" d=\"M 89.3,44.2 L 84.5,68.8\" style=\"fill:none;fill-rule:evenodd;stroke:#000000;stroke-width:2.0px;stroke-linecap:butt;stroke-linejoin:miter;stroke-opacity:1\"/>\n",
       "<path class=\"bond-2 atom-2 atom-20\" d=\"M 174.4,60.7 L 169.7,85.3\" style=\"fill:none;fill-rule:evenodd;stroke:#000000;stroke-width:2.0px;stroke-linecap:butt;stroke-linejoin:miter;stroke-opacity:1\"/>\n",
       "<path class=\"bond-3 atom-3 atom-21\" d=\"M 259.5,77.1 L 254.8,101.7\" style=\"fill:none;fill-rule:evenodd;stroke:#000000;stroke-width:2.0px;stroke-linecap:butt;stroke-linejoin:miter;stroke-opacity:1\"/>\n",
       "<path class=\"bond-4 atom-4 atom-22\" d=\"M 303.4,52.5 L 328.5,52.9\" style=\"fill:none;fill-rule:evenodd;stroke:#000000;stroke-width:2.0px;stroke-linecap:butt;stroke-linejoin:miter;stroke-opacity:1\"/>\n",
       "<path class=\"bond-5 atom-26 atom-5\" d=\"M 340.8,121.7 L 340.2,121.7\" style=\"fill:none;fill-rule:evenodd;stroke:#000000;stroke-width:1.0px;stroke-linecap:butt;stroke-linejoin:miter;stroke-opacity:1\"/>\n",
       "<path class=\"bond-5 atom-26 atom-5\" d=\"M 341.6,125.1 L 340.5,125.3\" style=\"fill:none;fill-rule:evenodd;stroke:#000000;stroke-width:1.0px;stroke-linecap:butt;stroke-linejoin:miter;stroke-opacity:1\"/>\n",
       "<path class=\"bond-5 atom-26 atom-5\" d=\"M 342.4,128.6 L 340.8,128.9\" style=\"fill:none;fill-rule:evenodd;stroke:#000000;stroke-width:1.0px;stroke-linecap:butt;stroke-linejoin:miter;stroke-opacity:1\"/>\n",
       "<path class=\"bond-5 atom-26 atom-5\" d=\"M 343.2,132.1 L 341.1,132.5\" style=\"fill:none;fill-rule:evenodd;stroke:#000000;stroke-width:1.0px;stroke-linecap:butt;stroke-linejoin:miter;stroke-opacity:1\"/>\n",
       "<path class=\"bond-5 atom-26 atom-5\" d=\"M 344.1,135.6 L 341.4,136.0\" style=\"fill:none;fill-rule:evenodd;stroke:#000000;stroke-width:1.0px;stroke-linecap:butt;stroke-linejoin:miter;stroke-opacity:1\"/>\n",
       "<path class=\"bond-5 atom-26 atom-5\" d=\"M 344.9,139.1 L 341.7,139.6\" style=\"fill:none;fill-rule:evenodd;stroke:#000000;stroke-width:1.0px;stroke-linecap:butt;stroke-linejoin:miter;stroke-opacity:1\"/>\n",
       "<path class=\"bond-5 atom-26 atom-5\" d=\"M 345.7,142.6 L 342.0,143.2\" style=\"fill:none;fill-rule:evenodd;stroke:#000000;stroke-width:1.0px;stroke-linecap:butt;stroke-linejoin:miter;stroke-opacity:1\"/>\n",
       "<path class=\"bond-6 atom-6 atom-9\" d=\"M 127.1,77.0 L 103.4,85.2\" style=\"fill:none;fill-rule:evenodd;stroke:#000000;stroke-width:2.0px;stroke-linecap:butt;stroke-linejoin:miter;stroke-opacity:1\"/>\n",
       "<path class=\"bond-7 atom-6 atom-10\" d=\"M 127.1,77.0 L 146.0,93.4\" style=\"fill:none;fill-rule:evenodd;stroke:#000000;stroke-width:2.0px;stroke-linecap:butt;stroke-linejoin:miter;stroke-opacity:1\"/>\n",
       "<path class=\"bond-8 atom-7 atom-11\" d=\"M 212.2,93.5 L 188.6,101.7\" style=\"fill:none;fill-rule:evenodd;stroke:#000000;stroke-width:2.0px;stroke-linecap:butt;stroke-linejoin:miter;stroke-opacity:1\"/>\n",
       "<path class=\"bond-9 atom-7 atom-12\" d=\"M 212.2,93.5 L 231.1,109.9\" style=\"fill:none;fill-rule:evenodd;stroke:#000000;stroke-width:2.0px;stroke-linecap:butt;stroke-linejoin:miter;stroke-opacity:1\"/>\n",
       "<path class=\"bond-10 atom-8 atom-13\" d=\"M 297.4,109.9 L 273.7,118.1\" style=\"fill:none;fill-rule:evenodd;stroke:#000000;stroke-width:2.0px;stroke-linecap:butt;stroke-linejoin:miter;stroke-opacity:1\"/>\n",
       "<path class=\"bond-11 atom-8 atom-15\" d=\"M 297.4,109.9 L 316.3,126.3\" style=\"fill:none;fill-rule:evenodd;stroke:#000000;stroke-width:2.0px;stroke-linecap:butt;stroke-linejoin:miter;stroke-opacity:1\"/>\n",
       "<path class=\"bond-12 atom-9 atom-19\" d=\"M 103.4,85.2 L 84.5,68.8\" style=\"fill:none;fill-rule:evenodd;stroke:#000000;stroke-width:2.0px;stroke-linecap:butt;stroke-linejoin:miter;stroke-opacity:1\"/>\n",
       "<path class=\"bond-12 atom-9 atom-19\" d=\"M 104.2,81.0 L 88.6,67.4\" style=\"fill:none;fill-rule:evenodd;stroke:#000000;stroke-width:2.0px;stroke-linecap:butt;stroke-linejoin:miter;stroke-opacity:1\"/>\n",
       "<path class=\"bond-13 atom-10 atom-20\" d=\"M 146.0,93.4 L 169.7,85.3\" style=\"fill:none;fill-rule:evenodd;stroke:#000000;stroke-width:2.0px;stroke-linecap:butt;stroke-linejoin:miter;stroke-opacity:1\"/>\n",
       "<path class=\"bond-14 atom-11 atom-20\" d=\"M 188.6,101.7 L 169.7,85.3\" style=\"fill:none;fill-rule:evenodd;stroke:#000000;stroke-width:2.0px;stroke-linecap:butt;stroke-linejoin:miter;stroke-opacity:1\"/>\n",
       "<path class=\"bond-14 atom-11 atom-20\" d=\"M 189.4,97.4 L 173.7,83.9\" style=\"fill:none;fill-rule:evenodd;stroke:#000000;stroke-width:2.0px;stroke-linecap:butt;stroke-linejoin:miter;stroke-opacity:1\"/>\n",
       "<path class=\"bond-15 atom-12 atom-21\" d=\"M 231.1,109.9 L 254.8,101.7\" style=\"fill:none;fill-rule:evenodd;stroke:#000000;stroke-width:2.0px;stroke-linecap:butt;stroke-linejoin:miter;stroke-opacity:1\"/>\n",
       "<path class=\"bond-16 atom-13 atom-21\" d=\"M 273.7,118.1 L 254.8,101.7\" style=\"fill:none;fill-rule:evenodd;stroke:#000000;stroke-width:2.0px;stroke-linecap:butt;stroke-linejoin:miter;stroke-opacity:1\"/>\n",
       "<path class=\"bond-16 atom-13 atom-21\" d=\"M 274.5,113.9 L 258.9,100.3\" style=\"fill:none;fill-rule:evenodd;stroke:#000000;stroke-width:2.0px;stroke-linecap:butt;stroke-linejoin:miter;stroke-opacity:1\"/>\n",
       "<path class=\"bond-17 atom-14 atom-16\" d=\"M 377.8,97.1 L 365.0,118.6\" style=\"fill:none;fill-rule:evenodd;stroke:#000000;stroke-width:2.0px;stroke-linecap:butt;stroke-linejoin:miter;stroke-opacity:1\"/>\n",
       "<path class=\"bond-18 atom-14 atom-23\" d=\"M 377.8,97.1 L 365.7,75.2\" style=\"fill:none;fill-rule:evenodd;stroke:#000000;stroke-width:2.0px;stroke-linecap:butt;stroke-linejoin:miter;stroke-opacity:1\"/>\n",
       "<path class=\"bond-19 atom-15 atom-26\" d=\"M 316.3,126.3 L 339.9,118.2\" style=\"fill:none;fill-rule:evenodd;stroke:#000000;stroke-width:2.0px;stroke-linecap:butt;stroke-linejoin:miter;stroke-opacity:1\"/>\n",
       "<path class=\"bond-20 atom-16 atom-26\" d=\"M 365.0,118.6 L 339.9,118.2\" style=\"fill:none;fill-rule:evenodd;stroke:#000000;stroke-width:2.0px;stroke-linecap:butt;stroke-linejoin:miter;stroke-opacity:1\"/>\n",
       "<path class=\"bond-21 atom-17 atom-22\" d=\"M 341.3,31.5 L 328.5,52.9\" style=\"fill:none;fill-rule:evenodd;stroke:#000000;stroke-width:2.0px;stroke-linecap:butt;stroke-linejoin:miter;stroke-opacity:1\"/>\n",
       "<path class=\"bond-22 atom-17 atom-24\" d=\"M 341.3,31.5 L 366.4,31.9\" style=\"fill:none;fill-rule:evenodd;stroke:#000000;stroke-width:2.0px;stroke-linecap:butt;stroke-linejoin:miter;stroke-opacity:1\"/>\n",
       "<path class=\"bond-22 atom-17 atom-24\" d=\"M 343.5,35.3 L 364.1,35.6\" style=\"fill:none;fill-rule:evenodd;stroke:#000000;stroke-width:2.0px;stroke-linecap:butt;stroke-linejoin:miter;stroke-opacity:1\"/>\n",
       "<path class=\"bond-23 atom-18 atom-23\" d=\"M 378.5,53.8 L 365.7,75.2\" style=\"fill:none;fill-rule:evenodd;stroke:#000000;stroke-width:2.0px;stroke-linecap:butt;stroke-linejoin:miter;stroke-opacity:1\"/>\n",
       "<path class=\"bond-23 atom-18 atom-23\" d=\"M 374.2,53.7 L 363.6,71.4\" style=\"fill:none;fill-rule:evenodd;stroke:#000000;stroke-width:2.0px;stroke-linecap:butt;stroke-linejoin:miter;stroke-opacity:1\"/>\n",
       "<path class=\"bond-24 atom-18 atom-24\" d=\"M 378.5,53.8 L 366.4,31.9\" style=\"fill:none;fill-rule:evenodd;stroke:#000000;stroke-width:2.0px;stroke-linecap:butt;stroke-linejoin:miter;stroke-opacity:1\"/>\n",
       "<path class=\"bond-25 atom-22 atom-25\" d=\"M 328.5,52.9 L 340.6,74.8\" style=\"fill:none;fill-rule:evenodd;stroke:#000000;stroke-width:2.0px;stroke-linecap:butt;stroke-linejoin:miter;stroke-opacity:1\"/>\n",
       "<path class=\"bond-25 atom-22 atom-25\" d=\"M 332.8,53.0 L 342.9,71.1\" style=\"fill:none;fill-rule:evenodd;stroke:#000000;stroke-width:2.0px;stroke-linecap:butt;stroke-linejoin:miter;stroke-opacity:1\"/>\n",
       "<path class=\"bond-26 atom-23 atom-25\" d=\"M 365.7,75.2 L 340.6,74.8\" style=\"fill:none;fill-rule:evenodd;stroke:#000000;stroke-width:2.0px;stroke-linecap:butt;stroke-linejoin:miter;stroke-opacity:1\"/>\n",
       "<path class=\"bond-27 atom-24 atom-27\" d=\"M 366.4,31.9 L 371.5,23.4\" style=\"fill:none;fill-rule:evenodd;stroke:#000000;stroke-width:2.0px;stroke-linecap:butt;stroke-linejoin:miter;stroke-opacity:1\"/>\n",
       "<path class=\"bond-27 atom-24 atom-27\" d=\"M 371.5,23.4 L 376.5,14.9\" style=\"fill:none;fill-rule:evenodd;stroke:#FF0000;stroke-width:2.0px;stroke-linecap:butt;stroke-linejoin:miter;stroke-opacity:1\"/>\n",
       "<path class=\"bond-28 atom-25 atom-28\" d=\"M 340.6,74.8 L 335.5,83.3\" style=\"fill:none;fill-rule:evenodd;stroke:#000000;stroke-width:2.0px;stroke-linecap:butt;stroke-linejoin:miter;stroke-opacity:1\"/>\n",
       "<path class=\"bond-28 atom-25 atom-28\" d=\"M 335.5,83.3 L 330.4,91.9\" style=\"fill:none;fill-rule:evenodd;stroke:#FF0000;stroke-width:2.0px;stroke-linecap:butt;stroke-linejoin:miter;stroke-opacity:1\"/>\n",
       "<path class=\"bond-29 atom-26 atom-28\" d=\"M 339.9,118.2 L 335.1,109.5\" style=\"fill:none;fill-rule:evenodd;stroke:#000000;stroke-width:2.0px;stroke-linecap:butt;stroke-linejoin:miter;stroke-opacity:1\"/>\n",
       "<path class=\"bond-29 atom-26 atom-28\" d=\"M 335.1,109.5 L 330.3,100.8\" style=\"fill:none;fill-rule:evenodd;stroke:#FF0000;stroke-width:2.0px;stroke-linecap:butt;stroke-linejoin:miter;stroke-opacity:1\"/>\n",
       "<path d=\"M 125.9,77.5 L 127.1,77.0 L 128.0,77.9\" style=\"fill:none;stroke:#000000;stroke-width:2.0px;stroke-linecap:butt;stroke-linejoin:miter;stroke-opacity:1;\"/>\n",
       "<path d=\"M 211.0,93.9 L 212.2,93.5 L 213.2,94.3\" style=\"fill:none;stroke:#000000;stroke-width:2.0px;stroke-linecap:butt;stroke-linejoin:miter;stroke-opacity:1;\"/>\n",
       "<path d=\"M 296.2,110.4 L 297.4,109.9 L 298.3,110.8\" style=\"fill:none;stroke:#000000;stroke-width:2.0px;stroke-linecap:butt;stroke-linejoin:miter;stroke-opacity:1;\"/>\n",
       "<path d=\"M 104.6,84.8 L 103.4,85.2 L 102.5,84.4\" style=\"fill:none;stroke:#000000;stroke-width:2.0px;stroke-linecap:butt;stroke-linejoin:miter;stroke-opacity:1;\"/>\n",
       "<path d=\"M 145.0,92.6 L 146.0,93.4 L 147.2,93.0\" style=\"fill:none;stroke:#000000;stroke-width:2.0px;stroke-linecap:butt;stroke-linejoin:miter;stroke-opacity:1;\"/>\n",
       "<path d=\"M 189.7,101.3 L 188.6,101.7 L 187.6,100.8\" style=\"fill:none;stroke:#000000;stroke-width:2.0px;stroke-linecap:butt;stroke-linejoin:miter;stroke-opacity:1;\"/>\n",
       "<path d=\"M 230.2,109.1 L 231.1,109.9 L 232.3,109.5\" style=\"fill:none;stroke:#000000;stroke-width:2.0px;stroke-linecap:butt;stroke-linejoin:miter;stroke-opacity:1;\"/>\n",
       "<path d=\"M 274.9,117.7 L 273.7,118.1 L 272.8,117.3\" style=\"fill:none;stroke:#000000;stroke-width:2.0px;stroke-linecap:butt;stroke-linejoin:miter;stroke-opacity:1;\"/>\n",
       "<path d=\"M 377.2,98.2 L 377.8,97.1 L 377.2,96.0\" style=\"fill:none;stroke:#000000;stroke-width:2.0px;stroke-linecap:butt;stroke-linejoin:miter;stroke-opacity:1;\"/>\n",
       "<path d=\"M 315.3,125.5 L 316.3,126.3 L 317.5,125.9\" style=\"fill:none;stroke:#000000;stroke-width:2.0px;stroke-linecap:butt;stroke-linejoin:miter;stroke-opacity:1;\"/>\n",
       "<path d=\"M 365.6,117.5 L 365.0,118.6 L 363.7,118.6\" style=\"fill:none;stroke:#000000;stroke-width:2.0px;stroke-linecap:butt;stroke-linejoin:miter;stroke-opacity:1;\"/>\n",
       "<path d=\"M 340.7,32.5 L 341.3,31.5 L 342.6,31.5\" style=\"fill:none;stroke:#000000;stroke-width:2.0px;stroke-linecap:butt;stroke-linejoin:miter;stroke-opacity:1;\"/>\n",
       "<path d=\"M 377.9,54.8 L 378.5,53.8 L 377.9,52.7\" style=\"fill:none;stroke:#000000;stroke-width:2.0px;stroke-linecap:butt;stroke-linejoin:miter;stroke-opacity:1;\"/>\n",
       "<path class=\"atom-27\" d=\"M 376.0 10.4 Q 376.0 8.7, 376.8 7.8 Q 377.7 6.8, 379.2 6.8 Q 380.8 6.8, 381.7 7.8 Q 382.5 8.7, 382.5 10.4 Q 382.5 12.1, 381.6 13.1 Q 380.8 14.1, 379.2 14.1 Q 377.7 14.1, 376.8 13.1 Q 376.0 12.2, 376.0 10.4 M 379.2 13.3 Q 380.3 13.3, 380.9 12.6 Q 381.5 11.8, 381.5 10.4 Q 381.5 9.0, 380.9 8.3 Q 380.3 7.6, 379.2 7.6 Q 378.2 7.6, 377.6 8.3 Q 377.0 9.0, 377.0 10.4 Q 377.0 11.9, 377.6 12.6 Q 378.2 13.3, 379.2 13.3 \" fill=\"#FF0000\"/>\n",
       "<path class=\"atom-27\" d=\"M 383.6 6.9 L 384.6 6.9 L 384.6 9.9 L 388.2 9.9 L 388.2 6.9 L 389.1 6.9 L 389.1 14.0 L 388.2 14.0 L 388.2 10.7 L 384.6 10.7 L 384.6 14.0 L 383.6 14.0 L 383.6 6.9 \" fill=\"#FF0000\"/>\n",
       "<path class=\"atom-28\" d=\"M 324.5 96.3 Q 324.5 94.6, 325.4 93.7 Q 326.2 92.7, 327.8 92.7 Q 329.3 92.7, 330.2 93.7 Q 331.0 94.6, 331.0 96.3 Q 331.0 98.0, 330.2 99.0 Q 329.3 100.0, 327.8 100.0 Q 326.2 100.0, 325.4 99.0 Q 324.5 98.0, 324.5 96.3 M 327.8 99.2 Q 328.8 99.2, 329.4 98.5 Q 330.0 97.7, 330.0 96.3 Q 330.0 94.9, 329.4 94.2 Q 328.8 93.5, 327.8 93.5 Q 326.7 93.5, 326.1 94.2 Q 325.5 94.9, 325.5 96.3 Q 325.5 97.7, 326.1 98.5 Q 326.7 99.2, 327.8 99.2 \" fill=\"#FF0000\"/>\n",
       "</svg>"
      ],
      "text/plain": [
       "<IPython.core.display.SVG object>"
      ]
     },
     "metadata": {},
     "output_type": "display_data"
    }
   ],
   "source": [
    "printMol(m)"
   ]
  },
  {
   "cell_type": "code",
   "execution_count": 31,
   "id": "f1ec1863",
   "metadata": {
    "ExecuteTime": {
     "end_time": "2023-04-06T14:46:10.762112Z",
     "start_time": "2023-04-06T14:46:10.755382Z"
    },
    "hidden": true
   },
   "outputs": [
    {
     "data": {
      "text/plain": [
       "{}"
      ]
     },
     "execution_count": 31,
     "metadata": {},
     "output_type": "execute_result"
    }
   ],
   "source": [
    "m."
   ]
  },
  {
   "cell_type": "markdown",
   "id": "9e33a7dc",
   "metadata": {
    "heading_collapsed": true
   },
   "source": [
    "### `chembl_webresource_client` - Get molecule from ChemBl using inchikey"
   ]
  },
  {
   "cell_type": "code",
   "execution_count": 72,
   "id": "a7b3eca5",
   "metadata": {
    "ExecuteTime": {
     "end_time": "2023-04-11T11:30:54.474528Z",
     "start_time": "2023-04-11T11:30:54.468579Z"
    },
    "hidden": true
   },
   "outputs": [
    {
     "name": "stdout",
     "output_type": "stream",
     "text": [
      " Get Compound from inchikey : ZYVXTMKTGDARKR-UHFFFAOYSA-N\n"
     ]
    }
   ],
   "source": [
    "identifier = df.iloc[0]['InChIKey']\n",
    "print(f' Get Compound from inchikey : {identifier}')"
   ]
  },
  {
   "cell_type": "code",
   "execution_count": 71,
   "id": "ae9dc426",
   "metadata": {
    "ExecuteTime": {
     "end_time": "2023-04-11T11:30:54.180056Z",
     "start_time": "2023-04-11T11:30:54.174079Z"
    },
    "hidden": true
   },
   "outputs": [],
   "source": [
    "from chembl_webresource_client.new_client import new_client\n",
    "from chembl_webresource_client.utils import utils\n",
    "import json"
   ]
  },
  {
   "cell_type": "code",
   "execution_count": null,
   "id": "02088bea",
   "metadata": {
    "ExecuteTime": {
     "end_time": "2023-04-11T11:32:02.017411Z",
     "start_time": "2023-04-11T11:32:02.011202Z"
    },
    "hidden": true
   },
   "outputs": [],
   "source": [
    "molecule = new_client.molecule\n",
    "mol = molecule.filter(molecule_structures__standard_inchi_key=identifier) # .only(['molecule_chembl_id', 'pref_name', 'molecule_structures'])"
   ]
  },
  {
   "cell_type": "code",
   "execution_count": 78,
   "id": "e01d6b1b",
   "metadata": {
    "ExecuteTime": {
     "end_time": "2023-04-11T11:32:26.611559Z",
     "start_time": "2023-04-11T11:32:26.606910Z"
    },
    "hidden": true
   },
   "outputs": [
    {
     "name": "stdout",
     "output_type": "stream",
     "text": [
      "<class 'chembl_webresource_client.query_set.QuerySet'>\n",
      "<class 'str'>\n"
     ]
    }
   ],
   "source": [
    "print(type(mol))\n",
    "print(type(mol[0]['molecule_structures']['molfile']))"
   ]
  },
  {
   "cell_type": "code",
   "execution_count": 74,
   "id": "688799ab",
   "metadata": {
    "ExecuteTime": {
     "end_time": "2023-04-11T11:30:56.478316Z",
     "start_time": "2023-04-11T11:30:56.469321Z"
    },
    "hidden": true
   },
   "outputs": [
    {
     "name": "stdout",
     "output_type": "stream",
     "text": [
      " atc_classifications            : []\n",
      " availability_type              : -1\n",
      " biotherapeutic                 : None\n",
      " black_box_warning              : 0\n",
      " chebi_par_id                   : None\n",
      " chirality                      : -1\n",
      " cross_references               : []\n",
      " dosed_ingredient               : False\n",
      " first_approval                 : None\n",
      " first_in_class                 : -1\n",
      " helm_notation                  : None\n",
      " indication_class               : None\n",
      " inorganic_flag                 : -1\n",
      " max_phase                      : None\n",
      " molecule_chembl_id             : CHEMBL3421968\n",
      " molecule_hierarchy             ===>\n",
      "\t* active_chembl_id               : CHEMBL3421968\n",
      "\t* molecule_chembl_id             : CHEMBL3421968\n",
      "\t* parent_chembl_id               : CHEMBL3421968\n",
      " molecule_properties            ===>\n",
      "\t* alogp                          : 3.53\n",
      "\t* aromatic_rings                 : 4\n",
      "\t* cx_logd                        : 2.52\n",
      "\t* cx_logp                        : 3.10\n",
      "\t* cx_most_apka                   : None\n",
      "\t* cx_most_bpka                   : 7.85\n",
      "\t* full_molformula                : C24H27N7O\n",
      "\t* full_mwt                       : 429.53\n",
      "\t* hba                            : 8\n",
      "\t* hba_lipinski                   : 8\n",
      "\t* hbd                            : 1\n",
      "\t* hbd_lipinski                   : 1\n",
      "\t* heavy_atoms                    : 32\n",
      "\t* molecular_species              : NEUTRAL\n",
      "\t* mw_freebase                    : 429.53\n",
      "\t* mw_monoisotopic                : 429.2277\n",
      "\t* np_likeness_score              : -1.35\n",
      "\t* num_lipinski_ro5_violations    : 0\n",
      "\t* num_ro5_violations             : 0\n",
      "\t* psa                            : 71.34\n",
      "\t* qed_weighted                   : 0.52\n",
      "\t* ro3_pass                       : N\n",
      "\t* rtb                            : 5\n",
      " molecule_structures            ===>\n",
      "\t* canonical_smiles               : COc1cc(N2CCN(C)CC2)ccc1Nc1nccc(-c2cn(C)c3cnccc23)n1\n",
      "\t* molfile                        : \n",
      "     RDKit          2D\n",
      "\n",
      " 32 36  0  0  0  0  0  0  0  0999 V2000\n",
      "    3.6753   -2.8147    0.0000 C   0  0  0  0  0  0  0  0  0  0  0  0\n",
      "    4.2537   -4.1987    0.0000 C   0  0  0  0  0  0  0  0  0  0  0  0\n",
      "    3.3443   -5.3916    0.0000 N   0  0  0  0  0  0  0  0  0  0  0  0\n",
      "    1.8565   -5.2005    0.0000 C   0  0  0  0  0  0  0  0  0  0  0  0\n",
      "    1.2781   -3.8165    0.0000 N   0  0  0  0  0  0  0  0  0  0  0  0\n",
      "    2.1852   -2.6281    0.0000 C   0  0  0  0  0  0  0  0  0  0  0  0\n",
      "    0.9441   -6.3922    0.0000 N   0  0  0  0  0  0  0  0  0  0  0  0\n",
      "   -0.5442   -6.1988    0.0000 C   0  0  0  0  0  0  0  0  0  0  0  0\n",
      "   -1.4578   -7.3885    0.0000 C   0  0  0  0  0  0  0  0  0  0  0  0\n",
      "   -2.9449   -7.1923    0.0000 C   0  0  0  0  0  0  0  0  0  0  0  0\n",
      "   -3.5185   -5.8063    0.0000 C   0  0  0  0  0  0  0  0  0  0  0  0\n",
      "   -2.6050   -4.6166    0.0000 C   0  0  0  0  0  0  0  0  0  0  0  0\n",
      "   -1.1179   -4.8128    0.0000 C   0  0  0  0  0  0  0  0  0  0  0  0\n",
      "   -5.0063   -5.6100    0.0000 N   0  0  0  0  0  0  0  0  0  0  0  0\n",
      "   -5.9218   -6.7982    0.0000 C   0  0  0  0  0  0  0  0  0  0  0  0\n",
      "   -7.4086   -6.5996    0.0000 C   0  0  0  0  0  0  0  0  0  0  0  0\n",
      "   -7.9800   -5.2127    0.0000 N   0  0  0  0  0  0  0  0  0  0  0  0\n",
      "   -7.0646   -4.0244    0.0000 C   0  0  0  0  0  0  0  0  0  0  0  0\n",
      "   -5.5778   -4.2230    0.0000 C   0  0  0  0  0  0  0  0  0  0  0  0\n",
      "   -9.1695   -5.0538    0.0000 C   0  0  0  0  0  0  0  0  0  0  0  0\n",
      "    1.7138   -1.2033    0.0000 C   0  0  0  0  0  0  0  0  0  0  0  0\n",
      "    2.5889    0.0182    0.0000 C   0  0  0  0  0  0  0  0  0  0  0  0\n",
      "    1.7138    1.2033    0.0000 N   0  0  0  0  0  0  0  0  0  0  0  0\n",
      "    0.2917   -0.7475    0.0000 C   0  0  0  0  0  0  0  0  0  0  0  0\n",
      "    0.2917    0.7475    0.0000 C   0  0  0  0  0  0  0  0  0  0  0  0\n",
      "   -1.0028    1.5132    0.0000 C   0  0  0  0  0  0  0  0  0  0  0  0\n",
      "   -2.3155    0.7475    0.0000 N   0  0  0  0  0  0  0  0  0  0  0  0\n",
      "   -2.3155   -0.7475    0.0000 C   0  0  0  0  0  0  0  0  0  0  0  0\n",
      "   -1.0028   -1.5132    0.0000 C   0  0  0  0  0  0  0  0  0  0  0  0\n",
      "   -0.8868   -8.7765    0.0000 O   0  0  0  0  0  0  0  0  0  0  0  0\n",
      "   -1.6190   -9.7272    0.0000 C   0  0  0  0  0  0  0  0  0  0  0  0\n",
      "    2.0825    2.3453    0.0000 C   0  0  0  0  0  0  0  0  0  0  0  0\n",
      "  1  2  2  0\n",
      "  2  3  1  0\n",
      "  3  4  2  0\n",
      "  4  5  1  0\n",
      "  5  6  2  0\n",
      "  6  1  1  0\n",
      "  4  7  1  0\n",
      "  7  8  1  0\n",
      "  8  9  2  0\n",
      "  9 10  1  0\n",
      " 10 11  2  0\n",
      " 11 12  1  0\n",
      " 12 13  2  0\n",
      " 13  8  1  0\n",
      " 14 15  1  0\n",
      " 14 19  1  0\n",
      " 15 16  1  0\n",
      " 16 17  1  0\n",
      " 17 18  1  0\n",
      " 18 19  1  0\n",
      " 11 14  1  0\n",
      " 17 20  1  0\n",
      " 21 22  2  0\n",
      " 22 23  1  0\n",
      " 23 25  1  0\n",
      " 24 21  1  0\n",
      "  6 21  1  0\n",
      " 24 25  2  0\n",
      " 25 26  1  0\n",
      " 26 27  2  0\n",
      " 27 28  1  0\n",
      " 28 29  2  0\n",
      " 29 24  1  0\n",
      "  9 30  1  0\n",
      " 30 31  1  0\n",
      " 23 32  1  0\n",
      "M  END\n",
      "\n",
      "> <chembl_id>\n",
      "CHEMBL3421968\n",
      "\n",
      "> <chembl_pref_name>\n",
      "None\n",
      "\n",
      "\n",
      "\t* standard_inchi                 : InChI=1S/C24H27N7O/c1-29-10-12-31(13-11-29)17-4-5-21(23(14-17)32-3)28-24-26-9-7-20(27-24)19-16-30(2)22-15-25-8-6-18(19)22/h4-9,14-16H,10-13H2,1-3H3,(H,26,27,28)\n",
      "\t* standard_inchi_key             : ZYVXTMKTGDARKR-UHFFFAOYSA-N\n",
      " molecule_synonyms              : []\n",
      " molecule_type                  : Small molecule\n",
      " natural_product                : -1\n",
      " oral                           : False\n",
      " parenteral                     : False\n",
      " polymer_flag                   : 0\n",
      " pref_name                      : None\n",
      " prodrug                        : -1\n",
      " structure_type                 : MOL\n",
      " therapeutic_flag               : False\n",
      " topical                        : False\n",
      " usan_stem                      : None\n",
      " usan_stem_definition           : None\n",
      " usan_substem                   : None\n",
      " usan_year                      : None\n",
      " withdrawn_flag                 : False\n"
     ]
    }
   ],
   "source": [
    "for i,v in mol[0].items():\n",
    "    if isinstance(v, dict):\n",
    "        print(f\" {i:30s} ===>\")\n",
    "        for ii,vv in v.items():\n",
    "            print(f\"\\t* {ii:30s} : {vv}\")\n",
    "    else:\n",
    "        print(f\" {i:30s} : {v}\")"
   ]
  },
  {
   "cell_type": "code",
   "execution_count": 75,
   "id": "7e6d705d",
   "metadata": {
    "ExecuteTime": {
     "end_time": "2023-04-11T11:30:57.455608Z",
     "start_time": "2023-04-11T11:30:57.446650Z"
    },
    "hidden": true
   },
   "outputs": [
    {
     "data": {
      "text/plain": [
       "{'qed': 0.5203017496178387,\n",
       " 'MolWt': 429.52800000000013,\n",
       " 'TPSA': 71.34,\n",
       " 'HeavyAtomCount': 32,\n",
       " 'NumAromaticRings': 4,\n",
       " 'NumHAcceptors': 8,\n",
       " 'NumHDonors': 1,\n",
       " 'NumRotatableBonds': 5,\n",
       " 'MolLogP': 3.5343000000000018,\n",
       " 'MolecularFormula': 'C24H27N7O',\n",
       " 'Ro3Pass': 0,\n",
       " 'NumRo5': 0,\n",
       " 'MonoisotopicMolWt': 429.227708484}"
      ]
     },
     "execution_count": 75,
     "metadata": {},
     "output_type": "execute_result"
    }
   ],
   "source": [
    "descs = json.loads(utils.chemblDescriptors(mol[0]['molecule_structures']['molfile'] ))[0]\n",
    "descs"
   ]
  },
  {
   "cell_type": "markdown",
   "id": "b97c0608",
   "metadata": {
    "heading_collapsed": true
   },
   "source": [
    "### `rdkit` - GetMorganFingerprint"
   ]
  },
  {
   "cell_type": "code",
   "execution_count": null,
   "id": "5a407ab6",
   "metadata": {
    "ExecuteTime": {
     "end_time": "2023-04-11T11:33:22.833133Z",
     "start_time": "2023-04-11T11:33:22.829002Z"
    },
    "hidden": true
   },
   "outputs": [],
   "source": [
    "nMorgan = 3\n",
    "\n",
    "mol1 = AllChem.MolFromMolFile(mol[0]['molecule_structures']['molfile'])\n",
    "fp1 = AllChem.GetMorganFingerprint(mol1, nMorgan).GetNonzeroElements()"
   ]
  },
  {
   "cell_type": "code",
   "execution_count": 207,
   "id": "b73c8135",
   "metadata": {
    "ExecuteTime": {
     "end_time": "2023-04-11T12:42:46.085889Z",
     "start_time": "2023-04-11T12:42:46.069568Z"
    },
    "hidden": true
   },
   "outputs": [
    {
     "data": {
      "image/png": "[encoded data removed]",
      "image/svg+xml": [
       "<?xml version='1.0' encoding='iso-8859-1'?>\n",
       "<svg version='1.1' baseProfile='full'\n",
       "              xmlns='http://www.w3.org/2000/svg'\n",
       "                      xmlns:rdkit='http://www.rdkit.org/xml'\n",
       "                      xmlns:xlink='http://www.w3.org/1999/xlink'\n",
       "                  xml:space='preserve'\n",
       "width='450px' height='150px' viewBox='0 0 450 150'>\n",
       "<!-- END OF HEADER -->\n",
       "<rect style='opacity:1.0;fill:#FFFFFF;stroke:none' width='450.0' height='150.0' x='0.0' y='0.0'> </rect>\n",
       "<path class='bond-0 atom-0 atom-28' d='M 124.5,19.5 L 131.3,25.4' style='fill:none;fill-rule:evenodd;stroke:#000000;stroke-width:2.0px;stroke-linecap:butt;stroke-linejoin:miter;stroke-opacity:1' />\n",
       "<path class='bond-0 atom-0 atom-28' d='M 131.3,25.4 L 138.0,31.4' style='fill:none;fill-rule:evenodd;stroke:#0000FF;stroke-width:2.0px;stroke-linecap:butt;stroke-linejoin:miter;stroke-opacity:1' />\n",
       "<path class='bond-1 atom-1 atom-29' d='M 325.5,18.1 L 318.9,24.2' style='fill:none;fill-rule:evenodd;stroke:#000000;stroke-width:2.0px;stroke-linecap:butt;stroke-linejoin:miter;stroke-opacity:1' />\n",
       "<path class='bond-1 atom-1 atom-29' d='M 318.9,24.2 L 312.3,30.3' style='fill:none;fill-rule:evenodd;stroke:#0000FF;stroke-width:2.0px;stroke-linecap:butt;stroke-linejoin:miter;stroke-opacity:1' />\n",
       "<path class='bond-2 atom-2 atom-31' d='M 177.9,143.2 L 186.6,140.3' style='fill:none;fill-rule:evenodd;stroke:#000000;stroke-width:2.0px;stroke-linecap:butt;stroke-linejoin:miter;stroke-opacity:1' />\n",
       "<path class='bond-2 atom-2 atom-31' d='M 186.6,140.3 L 195.3,137.3' style='fill:none;fill-rule:evenodd;stroke:#FF0000;stroke-width:2.0px;stroke-linecap:butt;stroke-linejoin:miter;stroke-opacity:1' />\n",
       "<path class='bond-3 atom-3 atom-4' d='M 212.0,71.0 L 228.6,85.6' style='fill:none;fill-rule:evenodd;stroke:#000000;stroke-width:2.0px;stroke-linecap:butt;stroke-linejoin:miter;stroke-opacity:1' />\n",
       "<path class='bond-3 atom-3 atom-4' d='M 211.3,74.7 L 225.0,86.8' style='fill:none;fill-rule:evenodd;stroke:#000000;stroke-width:2.0px;stroke-linecap:butt;stroke-linejoin:miter;stroke-opacity:1' />\n",
       "<path class='bond-4 atom-3 atom-16' d='M 212.0,71.0 L 191.0,78.0' style='fill:none;fill-rule:evenodd;stroke:#000000;stroke-width:2.0px;stroke-linecap:butt;stroke-linejoin:miter;stroke-opacity:1' />\n",
       "<path class='bond-5 atom-4 atom-20' d='M 228.6,85.6 L 224.3,107.3' style='fill:none;fill-rule:evenodd;stroke:#000000;stroke-width:2.0px;stroke-linecap:butt;stroke-linejoin:miter;stroke-opacity:1' />\n",
       "<path class='bond-6 atom-5 atom-7' d='M 254.4,48.3 L 243.2,29.3' style='fill:none;fill-rule:evenodd;stroke:#000000;stroke-width:2.0px;stroke-linecap:butt;stroke-linejoin:miter;stroke-opacity:1' />\n",
       "<path class='bond-6 atom-5 atom-7' d='M 256.3,45.0 L 247.0,29.2' style='fill:none;fill-rule:evenodd;stroke:#000000;stroke-width:2.0px;stroke-linecap:butt;stroke-linejoin:miter;stroke-opacity:1' />\n",
       "<path class='bond-7 atom-5 atom-17' d='M 254.4,48.3 L 276.6,48.1' style='fill:none;fill-rule:evenodd;stroke:#000000;stroke-width:2.0px;stroke-linecap:butt;stroke-linejoin:miter;stroke-opacity:1' />\n",
       "<path class='bond-8 atom-6 atom-8' d='M 303.9,100.7 L 299.5,122.4' style='fill:none;fill-rule:evenodd;stroke:#000000;stroke-width:2.0px;stroke-linecap:butt;stroke-linejoin:miter;stroke-opacity:1' />\n",
       "<path class='bond-8 atom-6 atom-8' d='M 300.2,102.0 L 296.6,119.9' style='fill:none;fill-rule:evenodd;stroke:#000000;stroke-width:2.0px;stroke-linecap:butt;stroke-linejoin:miter;stroke-opacity:1' />\n",
       "<path class='bond-9 atom-6 atom-19' d='M 303.9,100.7 L 287.2,86.1' style='fill:none;fill-rule:evenodd;stroke:#000000;stroke-width:2.0px;stroke-linecap:butt;stroke-linejoin:miter;stroke-opacity:1' />\n",
       "<path class='bond-10 atom-7 atom-24' d='M 243.2,29.3 L 247.5,21.5' style='fill:none;fill-rule:evenodd;stroke:#000000;stroke-width:2.0px;stroke-linecap:butt;stroke-linejoin:miter;stroke-opacity:1' />\n",
       "<path class='bond-10 atom-7 atom-24' d='M 247.5,21.5 L 251.9,13.8' style='fill:none;fill-rule:evenodd;stroke:#0000FF;stroke-width:2.0px;stroke-linecap:butt;stroke-linejoin:miter;stroke-opacity:1' />\n",
       "<path class='bond-11 atom-8 atom-25' d='M 299.5,122.4 L 290.5,125.5' style='fill:none;fill-rule:evenodd;stroke:#000000;stroke-width:2.0px;stroke-linecap:butt;stroke-linejoin:miter;stroke-opacity:1' />\n",
       "<path class='bond-11 atom-8 atom-25' d='M 290.5,125.5 L 281.6,128.5' style='fill:none;fill-rule:evenodd;stroke:#0000FF;stroke-width:2.0px;stroke-linecap:butt;stroke-linejoin:miter;stroke-opacity:1' />\n",
       "<path class='bond-12 atom-9 atom-11' d='M 162.1,27.0 L 178.8,41.7' style='fill:none;fill-rule:evenodd;stroke:#000000;stroke-width:2.0px;stroke-linecap:butt;stroke-linejoin:miter;stroke-opacity:1' />\n",
       "<path class='bond-13 atom-9 atom-28' d='M 162.1,27.0 L 153.2,30.1' style='fill:none;fill-rule:evenodd;stroke:#000000;stroke-width:2.0px;stroke-linecap:butt;stroke-linejoin:miter;stroke-opacity:1' />\n",
       "<path class='bond-13 atom-9 atom-28' d='M 153.2,30.1 L 144.3,33.1' style='fill:none;fill-rule:evenodd;stroke:#0000FF;stroke-width:2.0px;stroke-linecap:butt;stroke-linejoin:miter;stroke-opacity:1' />\n",
       "<path class='bond-14 atom-10 atom-12' d='M 136.8,55.8 L 153.4,70.5' style='fill:none;fill-rule:evenodd;stroke:#000000;stroke-width:2.0px;stroke-linecap:butt;stroke-linejoin:miter;stroke-opacity:1' />\n",
       "<path class='bond-15 atom-10 atom-28' d='M 136.8,55.8 L 138.6,46.9' style='fill:none;fill-rule:evenodd;stroke:#000000;stroke-width:2.0px;stroke-linecap:butt;stroke-linejoin:miter;stroke-opacity:1' />\n",
       "<path class='bond-15 atom-10 atom-28' d='M 138.6,46.9 L 140.4,38.0' style='fill:none;fill-rule:evenodd;stroke:#0000FF;stroke-width:2.0px;stroke-linecap:butt;stroke-linejoin:miter;stroke-opacity:1' />\n",
       "<path class='bond-16 atom-11 atom-30' d='M 178.8,41.7 L 177.0,50.6' style='fill:none;fill-rule:evenodd;stroke:#000000;stroke-width:2.0px;stroke-linecap:butt;stroke-linejoin:miter;stroke-opacity:1' />\n",
       "<path class='bond-16 atom-11 atom-30' d='M 177.0,50.6 L 175.2,59.5' style='fill:none;fill-rule:evenodd;stroke:#0000FF;stroke-width:2.0px;stroke-linecap:butt;stroke-linejoin:miter;stroke-opacity:1' />\n",
       "<path class='bond-17 atom-12 atom-30' d='M 153.4,70.5 L 162.3,67.5' style='fill:none;fill-rule:evenodd;stroke:#000000;stroke-width:2.0px;stroke-linecap:butt;stroke-linejoin:miter;stroke-opacity:1' />\n",
       "<path class='bond-17 atom-12 atom-30' d='M 162.3,67.5 L 171.3,64.4' style='fill:none;fill-rule:evenodd;stroke:#0000FF;stroke-width:2.0px;stroke-linecap:butt;stroke-linejoin:miter;stroke-opacity:1' />\n",
       "<path class='bond-18 atom-13 atom-16' d='M 186.7,99.8 L 191.0,78.0' style='fill:none;fill-rule:evenodd;stroke:#000000;stroke-width:2.0px;stroke-linecap:butt;stroke-linejoin:miter;stroke-opacity:1' />\n",
       "<path class='bond-18 atom-13 atom-16' d='M 190.3,98.5 L 193.9,80.6' style='fill:none;fill-rule:evenodd;stroke:#000000;stroke-width:2.0px;stroke-linecap:butt;stroke-linejoin:miter;stroke-opacity:1' />\n",
       "<path class='bond-19 atom-13 atom-22' d='M 186.7,99.8 L 203.3,114.4' style='fill:none;fill-rule:evenodd;stroke:#000000;stroke-width:2.0px;stroke-linecap:butt;stroke-linejoin:miter;stroke-opacity:1' />\n",
       "<path class='bond-20 atom-14 atom-21' d='M 276.2,9.7 L 287.5,28.8' style='fill:none;fill-rule:evenodd;stroke:#000000;stroke-width:2.0px;stroke-linecap:butt;stroke-linejoin:miter;stroke-opacity:1' />\n",
       "<path class='bond-21 atom-14 atom-24' d='M 276.2,9.7 L 266.7,9.8' style='fill:none;fill-rule:evenodd;stroke:#000000;stroke-width:2.0px;stroke-linecap:butt;stroke-linejoin:miter;stroke-opacity:1' />\n",
       "<path class='bond-21 atom-14 atom-24' d='M 266.7,9.8 L 257.1,9.9' style='fill:none;fill-rule:evenodd;stroke:#0000FF;stroke-width:2.0px;stroke-linecap:butt;stroke-linejoin:miter;stroke-opacity:1' />\n",
       "<path class='bond-21 atom-14 atom-24' d='M 274.3,13.1 L 265.7,13.1' style='fill:none;fill-rule:evenodd;stroke:#000000;stroke-width:2.0px;stroke-linecap:butt;stroke-linejoin:miter;stroke-opacity:1' />\n",
       "<path class='bond-21 atom-14 atom-24' d='M 265.7,13.1 L 257.2,13.2' style='fill:none;fill-rule:evenodd;stroke:#0000FF;stroke-width:2.0px;stroke-linecap:butt;stroke-linejoin:miter;stroke-opacity:1' />\n",
       "<path class='bond-22 atom-15 atom-18' d='M 311.7,55.1 L 291.6,64.4' style='fill:none;fill-rule:evenodd;stroke:#000000;stroke-width:2.0px;stroke-linecap:butt;stroke-linejoin:miter;stroke-opacity:1' />\n",
       "<path class='bond-22 atom-15 atom-18' d='M 308.2,53.1 L 292.4,60.3' style='fill:none;fill-rule:evenodd;stroke:#000000;stroke-width:2.0px;stroke-linecap:butt;stroke-linejoin:miter;stroke-opacity:1' />\n",
       "<path class='bond-23 atom-15 atom-29' d='M 311.7,55.1 L 310.7,46.1' style='fill:none;fill-rule:evenodd;stroke:#000000;stroke-width:2.0px;stroke-linecap:butt;stroke-linejoin:miter;stroke-opacity:1' />\n",
       "<path class='bond-23 atom-15 atom-29' d='M 310.7,46.1 L 309.6,37.0' style='fill:none;fill-rule:evenodd;stroke:#0000FF;stroke-width:2.0px;stroke-linecap:butt;stroke-linejoin:miter;stroke-opacity:1' />\n",
       "<path class='bond-24 atom-16 atom-30' d='M 191.0,78.0 L 184.3,72.1' style='fill:none;fill-rule:evenodd;stroke:#000000;stroke-width:2.0px;stroke-linecap:butt;stroke-linejoin:miter;stroke-opacity:1' />\n",
       "<path class='bond-24 atom-16 atom-30' d='M 184.3,72.1 L 177.5,66.1' style='fill:none;fill-rule:evenodd;stroke:#0000FF;stroke-width:2.0px;stroke-linecap:butt;stroke-linejoin:miter;stroke-opacity:1' />\n",
       "<path class='bond-25 atom-17 atom-18' d='M 276.6,48.1 L 291.6,64.4' style='fill:none;fill-rule:evenodd;stroke:#000000;stroke-width:2.0px;stroke-linecap:butt;stroke-linejoin:miter;stroke-opacity:1' />\n",
       "<path class='bond-26 atom-17 atom-21' d='M 276.6,48.1 L 287.5,28.8' style='fill:none;fill-rule:evenodd;stroke:#000000;stroke-width:2.0px;stroke-linecap:butt;stroke-linejoin:miter;stroke-opacity:1' />\n",
       "<path class='bond-26 atom-17 atom-21' d='M 274.6,44.8 L 283.6,28.8' style='fill:none;fill-rule:evenodd;stroke:#000000;stroke-width:2.0px;stroke-linecap:butt;stroke-linejoin:miter;stroke-opacity:1' />\n",
       "<path class='bond-27 atom-18 atom-19' d='M 291.6,64.4 L 287.2,86.1' style='fill:none;fill-rule:evenodd;stroke:#000000;stroke-width:2.0px;stroke-linecap:butt;stroke-linejoin:miter;stroke-opacity:1' />\n",
       "<path class='bond-28 atom-19 atom-26' d='M 287.2,86.1 L 278.3,89.1' style='fill:none;fill-rule:evenodd;stroke:#000000;stroke-width:2.0px;stroke-linecap:butt;stroke-linejoin:miter;stroke-opacity:1' />\n",
       "<path class='bond-28 atom-19 atom-26' d='M 278.3,89.1 L 269.4,92.1' style='fill:none;fill-rule:evenodd;stroke:#0000FF;stroke-width:2.0px;stroke-linecap:butt;stroke-linejoin:miter;stroke-opacity:1' />\n",
       "<path class='bond-28 atom-19 atom-26' d='M 286.5,89.8 L 278.4,92.6' style='fill:none;fill-rule:evenodd;stroke:#000000;stroke-width:2.0px;stroke-linecap:butt;stroke-linejoin:miter;stroke-opacity:1' />\n",
       "<path class='bond-28 atom-19 atom-26' d='M 278.4,92.6 L 270.4,95.3' style='fill:none;fill-rule:evenodd;stroke:#0000FF;stroke-width:2.0px;stroke-linecap:butt;stroke-linejoin:miter;stroke-opacity:1' />\n",
       "<path class='bond-29 atom-20 atom-22' d='M 224.3,107.3 L 203.3,114.4' style='fill:none;fill-rule:evenodd;stroke:#000000;stroke-width:2.0px;stroke-linecap:butt;stroke-linejoin:miter;stroke-opacity:1' />\n",
       "<path class='bond-29 atom-20 atom-22' d='M 221.4,104.8 L 204.0,110.6' style='fill:none;fill-rule:evenodd;stroke:#000000;stroke-width:2.0px;stroke-linecap:butt;stroke-linejoin:miter;stroke-opacity:1' />\n",
       "<path class='bond-30 atom-20 atom-27' d='M 224.3,107.3 L 231.0,113.3' style='fill:none;fill-rule:evenodd;stroke:#000000;stroke-width:2.0px;stroke-linecap:butt;stroke-linejoin:miter;stroke-opacity:1' />\n",
       "<path class='bond-30 atom-20 atom-27' d='M 231.0,113.3 L 237.8,119.2' style='fill:none;fill-rule:evenodd;stroke:#0000FF;stroke-width:2.0px;stroke-linecap:butt;stroke-linejoin:miter;stroke-opacity:1' />\n",
       "<path class='bond-31 atom-21 atom-29' d='M 287.5,28.8 L 296.8,30.6' style='fill:none;fill-rule:evenodd;stroke:#000000;stroke-width:2.0px;stroke-linecap:butt;stroke-linejoin:miter;stroke-opacity:1' />\n",
       "<path class='bond-31 atom-21 atom-29' d='M 296.8,30.6 L 306.1,32.5' style='fill:none;fill-rule:evenodd;stroke:#0000FF;stroke-width:2.0px;stroke-linecap:butt;stroke-linejoin:miter;stroke-opacity:1' />\n",
       "<path class='bond-32 atom-22 atom-31' d='M 203.3,114.4 L 201.5,123.3' style='fill:none;fill-rule:evenodd;stroke:#000000;stroke-width:2.0px;stroke-linecap:butt;stroke-linejoin:miter;stroke-opacity:1' />\n",
       "<path class='bond-32 atom-22 atom-31' d='M 201.5,123.3 L 199.7,132.2' style='fill:none;fill-rule:evenodd;stroke:#FF0000;stroke-width:2.0px;stroke-linecap:butt;stroke-linejoin:miter;stroke-opacity:1' />\n",
       "<path class='bond-33 atom-23 atom-25' d='M 261.9,114.9 L 268.6,120.8' style='fill:none;fill-rule:evenodd;stroke:#000000;stroke-width:2.0px;stroke-linecap:butt;stroke-linejoin:miter;stroke-opacity:1' />\n",
       "<path class='bond-33 atom-23 atom-25' d='M 268.6,120.8 L 275.4,126.8' style='fill:none;fill-rule:evenodd;stroke:#0000FF;stroke-width:2.0px;stroke-linecap:butt;stroke-linejoin:miter;stroke-opacity:1' />\n",
       "<path class='bond-33 atom-23 atom-25' d='M 265.5,113.7 L 271.5,119.0' style='fill:none;fill-rule:evenodd;stroke:#000000;stroke-width:2.0px;stroke-linecap:butt;stroke-linejoin:miter;stroke-opacity:1' />\n",
       "<path class='bond-33 atom-23 atom-25' d='M 271.5,119.0 L 277.6,124.3' style='fill:none;fill-rule:evenodd;stroke:#0000FF;stroke-width:2.0px;stroke-linecap:butt;stroke-linejoin:miter;stroke-opacity:1' />\n",
       "<path class='bond-34 atom-23 atom-26' d='M 261.9,114.9 L 263.7,106.0' style='fill:none;fill-rule:evenodd;stroke:#000000;stroke-width:2.0px;stroke-linecap:butt;stroke-linejoin:miter;stroke-opacity:1' />\n",
       "<path class='bond-34 atom-23 atom-26' d='M 263.7,106.0 L 265.5,97.0' style='fill:none;fill-rule:evenodd;stroke:#0000FF;stroke-width:2.0px;stroke-linecap:butt;stroke-linejoin:miter;stroke-opacity:1' />\n",
       "<path class='bond-35 atom-23 atom-27' d='M 261.9,114.9 L 252.9,117.9' style='fill:none;fill-rule:evenodd;stroke:#000000;stroke-width:2.0px;stroke-linecap:butt;stroke-linejoin:miter;stroke-opacity:1' />\n",
       "<path class='bond-35 atom-23 atom-27' d='M 252.9,117.9 L 244.0,120.9' style='fill:none;fill-rule:evenodd;stroke:#0000FF;stroke-width:2.0px;stroke-linecap:butt;stroke-linejoin:miter;stroke-opacity:1' />\n",
       "<path d='M 212.8,71.7 L 212.0,71.0 L 211.0,71.3' style='fill:none;stroke:#000000;stroke-width:2.0px;stroke-linecap:butt;stroke-linejoin:miter;stroke-opacity:1;' />\n",
       "<path d='M 227.8,84.9 L 228.6,85.6 L 228.4,86.7' style='fill:none;stroke:#000000;stroke-width:2.0px;stroke-linecap:butt;stroke-linejoin:miter;stroke-opacity:1;' />\n",
       "<path d='M 253.9,47.4 L 254.4,48.3 L 255.6,48.3' style='fill:none;stroke:#000000;stroke-width:2.0px;stroke-linecap:butt;stroke-linejoin:miter;stroke-opacity:1;' />\n",
       "<path d='M 303.6,101.8 L 303.9,100.7 L 303.0,100.0' style='fill:none;stroke:#000000;stroke-width:2.0px;stroke-linecap:butt;stroke-linejoin:miter;stroke-opacity:1;' />\n",
       "<path d='M 243.7,30.2 L 243.2,29.3 L 243.4,28.9' style='fill:none;stroke:#000000;stroke-width:2.0px;stroke-linecap:butt;stroke-linejoin:miter;stroke-opacity:1;' />\n",
       "<path d='M 299.7,121.4 L 299.5,122.4 L 299.0,122.6' style='fill:none;stroke:#000000;stroke-width:2.0px;stroke-linecap:butt;stroke-linejoin:miter;stroke-opacity:1;' />\n",
       "<path d='M 163.0,27.8 L 162.1,27.0 L 161.7,27.2' style='fill:none;stroke:#000000;stroke-width:2.0px;stroke-linecap:butt;stroke-linejoin:miter;stroke-opacity:1;' />\n",
       "<path d='M 137.6,56.6 L 136.8,55.8 L 136.9,55.4' style='fill:none;stroke:#000000;stroke-width:2.0px;stroke-linecap:butt;stroke-linejoin:miter;stroke-opacity:1;' />\n",
       "<path d='M 177.9,40.9 L 178.8,41.7 L 178.7,42.1' style='fill:none;stroke:#000000;stroke-width:2.0px;stroke-linecap:butt;stroke-linejoin:miter;stroke-opacity:1;' />\n",
       "<path d='M 152.6,69.7 L 153.4,70.5 L 153.9,70.3' style='fill:none;stroke:#000000;stroke-width:2.0px;stroke-linecap:butt;stroke-linejoin:miter;stroke-opacity:1;' />\n",
       "<path d='M 186.9,98.7 L 186.7,99.8 L 187.5,100.5' style='fill:none;stroke:#000000;stroke-width:2.0px;stroke-linecap:butt;stroke-linejoin:miter;stroke-opacity:1;' />\n",
       "<path d='M 276.7,10.7 L 276.2,9.7 L 275.7,9.7' style='fill:none;stroke:#000000;stroke-width:2.0px;stroke-linecap:butt;stroke-linejoin:miter;stroke-opacity:1;' />\n",
       "<path d='M 310.7,55.6 L 311.7,55.1 L 311.7,54.7' style='fill:none;stroke:#000000;stroke-width:2.0px;stroke-linecap:butt;stroke-linejoin:miter;stroke-opacity:1;' />\n",
       "<path class='atom-24' d='M 252.6 6.8\n",
       "L 254.7 10.1\n",
       "Q 254.9 10.5, 255.2 11.1\n",
       "Q 255.6 11.7, 255.6 11.7\n",
       "L 255.6 6.8\n",
       "L 256.4 6.8\n",
       "L 256.4 13.1\n",
       "L 255.5 13.1\n",
       "L 253.3 9.5\n",
       "Q 253.1 9.0, 252.8 8.5\n",
       "Q 252.5 8.1, 252.5 7.9\n",
       "L 252.5 13.1\n",
       "L 251.6 13.1\n",
       "L 251.6 6.8\n",
       "L 252.6 6.8\n",
       "' fill='#0000FF'/>\n",
       "<path class='atom-25' d='M 277.1 126.4\n",
       "L 279.2 129.7\n",
       "Q 279.4 130.0, 279.7 130.6\n",
       "Q 280.0 131.2, 280.0 131.3\n",
       "L 280.0 126.4\n",
       "L 280.9 126.4\n",
       "L 280.9 132.7\n",
       "L 280.0 132.7\n",
       "L 277.8 129.0\n",
       "Q 277.6 128.6, 277.3 128.1\n",
       "Q 277.0 127.6, 276.9 127.5\n",
       "L 276.9 132.7\n",
       "L 276.1 132.7\n",
       "L 276.1 126.4\n",
       "L 277.1 126.4\n",
       "' fill='#0000FF'/>\n",
       "<path class='atom-26' d='M 264.9 90.0\n",
       "L 266.9 93.3\n",
       "Q 267.1 93.7, 267.4 94.3\n",
       "Q 267.8 94.9, 267.8 94.9\n",
       "L 267.8 90.0\n",
       "L 268.6 90.0\n",
       "L 268.6 96.3\n",
       "L 267.8 96.3\n",
       "L 265.6 92.7\n",
       "Q 265.3 92.2, 265.0 91.8\n",
       "Q 264.8 91.3, 264.7 91.1\n",
       "L 264.7 96.3\n",
       "L 263.9 96.3\n",
       "L 263.9 90.0\n",
       "L 264.9 90.0\n",
       "' fill='#0000FF'/>\n",
       "<path class='atom-27' d='M 239.5 118.8\n",
       "L 241.6 122.1\n",
       "Q 241.8 122.5, 242.1 123.1\n",
       "Q 242.4 123.7, 242.4 123.7\n",
       "L 242.4 118.8\n",
       "L 243.3 118.8\n",
       "L 243.3 125.1\n",
       "L 242.4 125.1\n",
       "L 240.2 121.5\n",
       "Q 239.9 121.0, 239.7 120.5\n",
       "Q 239.4 120.1, 239.3 119.9\n",
       "L 239.3 125.1\n",
       "L 238.5 125.1\n",
       "L 238.5 118.8\n",
       "L 239.5 118.8\n",
       "' fill='#0000FF'/>\n",
       "<path class='atom-27' d='M 238.4 125.7\n",
       "L 239.3 125.7\n",
       "L 239.3 128.4\n",
       "L 242.5 128.4\n",
       "L 242.5 125.7\n",
       "L 243.3 125.7\n",
       "L 243.3 132.0\n",
       "L 242.5 132.0\n",
       "L 242.5 129.1\n",
       "L 239.3 129.1\n",
       "L 239.3 132.0\n",
       "L 238.4 132.0\n",
       "L 238.4 125.7\n",
       "' fill='#0000FF'/>\n",
       "<path class='atom-28' d='M 139.8 31.0\n",
       "L 141.8 34.3\n",
       "Q 142.0 34.6, 142.4 35.2\n",
       "Q 142.7 35.8, 142.7 35.9\n",
       "L 142.7 31.0\n",
       "L 143.5 31.0\n",
       "L 143.5 37.3\n",
       "L 142.7 37.3\n",
       "L 140.5 33.6\n",
       "Q 140.2 33.2, 139.9 32.7\n",
       "Q 139.7 32.2, 139.6 32.1\n",
       "L 139.6 37.3\n",
       "L 138.8 37.3\n",
       "L 138.8 31.0\n",
       "L 139.8 31.0\n",
       "' fill='#0000FF'/>\n",
       "<path class='atom-29' d='M 307.8 30.0\n",
       "L 309.8 33.3\n",
       "Q 310.0 33.7, 310.4 34.2\n",
       "Q 310.7 34.8, 310.7 34.9\n",
       "L 310.7 30.0\n",
       "L 311.6 30.0\n",
       "L 311.6 36.3\n",
       "L 310.7 36.3\n",
       "L 308.5 32.6\n",
       "Q 308.2 32.2, 308.0 31.7\n",
       "Q 307.7 31.2, 307.6 31.1\n",
       "L 307.6 36.3\n",
       "L 306.8 36.3\n",
       "L 306.8 30.0\n",
       "L 307.8 30.0\n",
       "' fill='#0000FF'/>\n",
       "<path class='atom-30' d='M 173.0 60.3\n",
       "L 175.1 63.6\n",
       "Q 175.3 63.9, 175.6 64.5\n",
       "Q 175.9 65.1, 175.9 65.1\n",
       "L 175.9 60.3\n",
       "L 176.8 60.3\n",
       "L 176.8 66.5\n",
       "L 175.9 66.5\n",
       "L 173.7 62.9\n",
       "Q 173.5 62.5, 173.2 62.0\n",
       "Q 172.9 61.5, 172.8 61.3\n",
       "L 172.8 66.5\n",
       "L 172.0 66.5\n",
       "L 172.0 60.3\n",
       "L 173.0 60.3\n",
       "' fill='#0000FF'/>\n",
       "<path class='atom-31' d='M 196.0 136.1\n",
       "Q 196.0 134.6, 196.8 133.8\n",
       "Q 197.5 132.9, 198.9 132.9\n",
       "Q 200.3 132.9, 201.0 133.8\n",
       "Q 201.8 134.6, 201.8 136.1\n",
       "Q 201.8 137.6, 201.0 138.5\n",
       "Q 200.3 139.4, 198.9 139.4\n",
       "Q 197.5 139.4, 196.8 138.5\n",
       "Q 196.0 137.7, 196.0 136.1\n",
       "M 198.9 138.7\n",
       "Q 199.9 138.7, 200.4 138.0\n",
       "Q 200.9 137.4, 200.9 136.1\n",
       "Q 200.9 134.9, 200.4 134.3\n",
       "Q 199.9 133.6, 198.9 133.6\n",
       "Q 198.0 133.6, 197.4 134.3\n",
       "Q 196.9 134.9, 196.9 136.1\n",
       "Q 196.9 137.4, 197.4 138.0\n",
       "Q 198.0 138.7, 198.9 138.7\n",
       "' fill='#FF0000'/>\n",
       "</svg>\n"
      ],
      "text/html": [
       "<?xml version='1.0' encoding='iso-8859-1'?>\n",
       "<svg version='1.1' baseProfile='full'\n",
       "              xmlns='http://www.w3.org/2000/svg'\n",
       "                      xmlns:rdkit='http://www.rdkit.org/xml'\n",
       "                      xmlns:xlink='http://www.w3.org/1999/xlink'\n",
       "                  xml:space='preserve'\n",
       "width='450px' height='150px' viewBox='0 0 450 150'>\n",
       "<!-- END OF HEADER -->\n",
       "<rect style='opacity:1.0;fill:#FFFFFF;stroke:none' width='450.0' height='150.0' x='0.0' y='0.0'> </rect>\n",
       "<path class='bond-0 atom-0 atom-28' d='M 124.5,19.5 L 131.3,25.4' style='fill:none;fill-rule:evenodd;stroke:#000000;stroke-width:2.0px;stroke-linecap:butt;stroke-linejoin:miter;stroke-opacity:1' />\n",
       "<path class='bond-0 atom-0 atom-28' d='M 131.3,25.4 L 138.0,31.4' style='fill:none;fill-rule:evenodd;stroke:#0000FF;stroke-width:2.0px;stroke-linecap:butt;stroke-linejoin:miter;stroke-opacity:1' />\n",
       "<path class='bond-1 atom-1 atom-29' d='M 325.5,18.1 L 318.9,24.2' style='fill:none;fill-rule:evenodd;stroke:#000000;stroke-width:2.0px;stroke-linecap:butt;stroke-linejoin:miter;stroke-opacity:1' />\n",
       "<path class='bond-1 atom-1 atom-29' d='M 318.9,24.2 L 312.3,30.3' style='fill:none;fill-rule:evenodd;stroke:#0000FF;stroke-width:2.0px;stroke-linecap:butt;stroke-linejoin:miter;stroke-opacity:1' />\n",
       "<path class='bond-2 atom-2 atom-31' d='M 177.9,143.2 L 186.6,140.3' style='fill:none;fill-rule:evenodd;stroke:#000000;stroke-width:2.0px;stroke-linecap:butt;stroke-linejoin:miter;stroke-opacity:1' />\n",
       "<path class='bond-2 atom-2 atom-31' d='M 186.6,140.3 L 195.3,137.3' style='fill:none;fill-rule:evenodd;stroke:#FF0000;stroke-width:2.0px;stroke-linecap:butt;stroke-linejoin:miter;stroke-opacity:1' />\n",
       "<path class='bond-3 atom-3 atom-4' d='M 212.0,71.0 L 228.6,85.6' style='fill:none;fill-rule:evenodd;stroke:#000000;stroke-width:2.0px;stroke-linecap:butt;stroke-linejoin:miter;stroke-opacity:1' />\n",
       "<path class='bond-3 atom-3 atom-4' d='M 211.3,74.7 L 225.0,86.8' style='fill:none;fill-rule:evenodd;stroke:#000000;stroke-width:2.0px;stroke-linecap:butt;stroke-linejoin:miter;stroke-opacity:1' />\n",
       "<path class='bond-4 atom-3 atom-16' d='M 212.0,71.0 L 191.0,78.0' style='fill:none;fill-rule:evenodd;stroke:#000000;stroke-width:2.0px;stroke-linecap:butt;stroke-linejoin:miter;stroke-opacity:1' />\n",
       "<path class='bond-5 atom-4 atom-20' d='M 228.6,85.6 L 224.3,107.3' style='fill:none;fill-rule:evenodd;stroke:#000000;stroke-width:2.0px;stroke-linecap:butt;stroke-linejoin:miter;stroke-opacity:1' />\n",
       "<path class='bond-6 atom-5 atom-7' d='M 254.4,48.3 L 243.2,29.3' style='fill:none;fill-rule:evenodd;stroke:#000000;stroke-width:2.0px;stroke-linecap:butt;stroke-linejoin:miter;stroke-opacity:1' />\n",
       "<path class='bond-6 atom-5 atom-7' d='M 256.3,45.0 L 247.0,29.2' style='fill:none;fill-rule:evenodd;stroke:#000000;stroke-width:2.0px;stroke-linecap:butt;stroke-linejoin:miter;stroke-opacity:1' />\n",
       "<path class='bond-7 atom-5 atom-17' d='M 254.4,48.3 L 276.6,48.1' style='fill:none;fill-rule:evenodd;stroke:#000000;stroke-width:2.0px;stroke-linecap:butt;stroke-linejoin:miter;stroke-opacity:1' />\n",
       "<path class='bond-8 atom-6 atom-8' d='M 303.9,100.7 L 299.5,122.4' style='fill:none;fill-rule:evenodd;stroke:#000000;stroke-width:2.0px;stroke-linecap:butt;stroke-linejoin:miter;stroke-opacity:1' />\n",
       "<path class='bond-8 atom-6 atom-8' d='M 300.2,102.0 L 296.6,119.9' style='fill:none;fill-rule:evenodd;stroke:#000000;stroke-width:2.0px;stroke-linecap:butt;stroke-linejoin:miter;stroke-opacity:1' />\n",
       "<path class='bond-9 atom-6 atom-19' d='M 303.9,100.7 L 287.2,86.1' style='fill:none;fill-rule:evenodd;stroke:#000000;stroke-width:2.0px;stroke-linecap:butt;stroke-linejoin:miter;stroke-opacity:1' />\n",
       "<path class='bond-10 atom-7 atom-24' d='M 243.2,29.3 L 247.5,21.5' style='fill:none;fill-rule:evenodd;stroke:#000000;stroke-width:2.0px;stroke-linecap:butt;stroke-linejoin:miter;stroke-opacity:1' />\n",
       "<path class='bond-10 atom-7 atom-24' d='M 247.5,21.5 L 251.9,13.8' style='fill:none;fill-rule:evenodd;stroke:#0000FF;stroke-width:2.0px;stroke-linecap:butt;stroke-linejoin:miter;stroke-opacity:1' />\n",
       "<path class='bond-11 atom-8 atom-25' d='M 299.5,122.4 L 290.5,125.5' style='fill:none;fill-rule:evenodd;stroke:#000000;stroke-width:2.0px;stroke-linecap:butt;stroke-linejoin:miter;stroke-opacity:1' />\n",
       "<path class='bond-11 atom-8 atom-25' d='M 290.5,125.5 L 281.6,128.5' style='fill:none;fill-rule:evenodd;stroke:#0000FF;stroke-width:2.0px;stroke-linecap:butt;stroke-linejoin:miter;stroke-opacity:1' />\n",
       "<path class='bond-12 atom-9 atom-11' d='M 162.1,27.0 L 178.8,41.7' style='fill:none;fill-rule:evenodd;stroke:#000000;stroke-width:2.0px;stroke-linecap:butt;stroke-linejoin:miter;stroke-opacity:1' />\n",
       "<path class='bond-13 atom-9 atom-28' d='M 162.1,27.0 L 153.2,30.1' style='fill:none;fill-rule:evenodd;stroke:#000000;stroke-width:2.0px;stroke-linecap:butt;stroke-linejoin:miter;stroke-opacity:1' />\n",
       "<path class='bond-13 atom-9 atom-28' d='M 153.2,30.1 L 144.3,33.1' style='fill:none;fill-rule:evenodd;stroke:#0000FF;stroke-width:2.0px;stroke-linecap:butt;stroke-linejoin:miter;stroke-opacity:1' />\n",
       "<path class='bond-14 atom-10 atom-12' d='M 136.8,55.8 L 153.4,70.5' style='fill:none;fill-rule:evenodd;stroke:#000000;stroke-width:2.0px;stroke-linecap:butt;stroke-linejoin:miter;stroke-opacity:1' />\n",
       "<path class='bond-15 atom-10 atom-28' d='M 136.8,55.8 L 138.6,46.9' style='fill:none;fill-rule:evenodd;stroke:#000000;stroke-width:2.0px;stroke-linecap:butt;stroke-linejoin:miter;stroke-opacity:1' />\n",
       "<path class='bond-15 atom-10 atom-28' d='M 138.6,46.9 L 140.4,38.0' style='fill:none;fill-rule:evenodd;stroke:#0000FF;stroke-width:2.0px;stroke-linecap:butt;stroke-linejoin:miter;stroke-opacity:1' />\n",
       "<path class='bond-16 atom-11 atom-30' d='M 178.8,41.7 L 177.0,50.6' style='fill:none;fill-rule:evenodd;stroke:#000000;stroke-width:2.0px;stroke-linecap:butt;stroke-linejoin:miter;stroke-opacity:1' />\n",
       "<path class='bond-16 atom-11 atom-30' d='M 177.0,50.6 L 175.2,59.5' style='fill:none;fill-rule:evenodd;stroke:#0000FF;stroke-width:2.0px;stroke-linecap:butt;stroke-linejoin:miter;stroke-opacity:1' />\n",
       "<path class='bond-17 atom-12 atom-30' d='M 153.4,70.5 L 162.3,67.5' style='fill:none;fill-rule:evenodd;stroke:#000000;stroke-width:2.0px;stroke-linecap:butt;stroke-linejoin:miter;stroke-opacity:1' />\n",
       "<path class='bond-17 atom-12 atom-30' d='M 162.3,67.5 L 171.3,64.4' style='fill:none;fill-rule:evenodd;stroke:#0000FF;stroke-width:2.0px;stroke-linecap:butt;stroke-linejoin:miter;stroke-opacity:1' />\n",
       "<path class='bond-18 atom-13 atom-16' d='M 186.7,99.8 L 191.0,78.0' style='fill:none;fill-rule:evenodd;stroke:#000000;stroke-width:2.0px;stroke-linecap:butt;stroke-linejoin:miter;stroke-opacity:1' />\n",
       "<path class='bond-18 atom-13 atom-16' d='M 190.3,98.5 L 193.9,80.6' style='fill:none;fill-rule:evenodd;stroke:#000000;stroke-width:2.0px;stroke-linecap:butt;stroke-linejoin:miter;stroke-opacity:1' />\n",
       "<path class='bond-19 atom-13 atom-22' d='M 186.7,99.8 L 203.3,114.4' style='fill:none;fill-rule:evenodd;stroke:#000000;stroke-width:2.0px;stroke-linecap:butt;stroke-linejoin:miter;stroke-opacity:1' />\n",
       "<path class='bond-20 atom-14 atom-21' d='M 276.2,9.7 L 287.5,28.8' style='fill:none;fill-rule:evenodd;stroke:#000000;stroke-width:2.0px;stroke-linecap:butt;stroke-linejoin:miter;stroke-opacity:1' />\n",
       "<path class='bond-21 atom-14 atom-24' d='M 276.2,9.7 L 266.7,9.8' style='fill:none;fill-rule:evenodd;stroke:#000000;stroke-width:2.0px;stroke-linecap:butt;stroke-linejoin:miter;stroke-opacity:1' />\n",
       "<path class='bond-21 atom-14 atom-24' d='M 266.7,9.8 L 257.1,9.9' style='fill:none;fill-rule:evenodd;stroke:#0000FF;stroke-width:2.0px;stroke-linecap:butt;stroke-linejoin:miter;stroke-opacity:1' />\n",
       "<path class='bond-21 atom-14 atom-24' d='M 274.3,13.1 L 265.7,13.1' style='fill:none;fill-rule:evenodd;stroke:#000000;stroke-width:2.0px;stroke-linecap:butt;stroke-linejoin:miter;stroke-opacity:1' />\n",
       "<path class='bond-21 atom-14 atom-24' d='M 265.7,13.1 L 257.2,13.2' style='fill:none;fill-rule:evenodd;stroke:#0000FF;stroke-width:2.0px;stroke-linecap:butt;stroke-linejoin:miter;stroke-opacity:1' />\n",
       "<path class='bond-22 atom-15 atom-18' d='M 311.7,55.1 L 291.6,64.4' style='fill:none;fill-rule:evenodd;stroke:#000000;stroke-width:2.0px;stroke-linecap:butt;stroke-linejoin:miter;stroke-opacity:1' />\n",
       "<path class='bond-22 atom-15 atom-18' d='M 308.2,53.1 L 292.4,60.3' style='fill:none;fill-rule:evenodd;stroke:#000000;stroke-width:2.0px;stroke-linecap:butt;stroke-linejoin:miter;stroke-opacity:1' />\n",
       "<path class='bond-23 atom-15 atom-29' d='M 311.7,55.1 L 310.7,46.1' style='fill:none;fill-rule:evenodd;stroke:#000000;stroke-width:2.0px;stroke-linecap:butt;stroke-linejoin:miter;stroke-opacity:1' />\n",
       "<path class='bond-23 atom-15 atom-29' d='M 310.7,46.1 L 309.6,37.0' style='fill:none;fill-rule:evenodd;stroke:#0000FF;stroke-width:2.0px;stroke-linecap:butt;stroke-linejoin:miter;stroke-opacity:1' />\n",
       "<path class='bond-24 atom-16 atom-30' d='M 191.0,78.0 L 184.3,72.1' style='fill:none;fill-rule:evenodd;stroke:#000000;stroke-width:2.0px;stroke-linecap:butt;stroke-linejoin:miter;stroke-opacity:1' />\n",
       "<path class='bond-24 atom-16 atom-30' d='M 184.3,72.1 L 177.5,66.1' style='fill:none;fill-rule:evenodd;stroke:#0000FF;stroke-width:2.0px;stroke-linecap:butt;stroke-linejoin:miter;stroke-opacity:1' />\n",
       "<path class='bond-25 atom-17 atom-18' d='M 276.6,48.1 L 291.6,64.4' style='fill:none;fill-rule:evenodd;stroke:#000000;stroke-width:2.0px;stroke-linecap:butt;stroke-linejoin:miter;stroke-opacity:1' />\n",
       "<path class='bond-26 atom-17 atom-21' d='M 276.6,48.1 L 287.5,28.8' style='fill:none;fill-rule:evenodd;stroke:#000000;stroke-width:2.0px;stroke-linecap:butt;stroke-linejoin:miter;stroke-opacity:1' />\n",
       "<path class='bond-26 atom-17 atom-21' d='M 274.6,44.8 L 283.6,28.8' style='fill:none;fill-rule:evenodd;stroke:#000000;stroke-width:2.0px;stroke-linecap:butt;stroke-linejoin:miter;stroke-opacity:1' />\n",
       "<path class='bond-27 atom-18 atom-19' d='M 291.6,64.4 L 287.2,86.1' style='fill:none;fill-rule:evenodd;stroke:#000000;stroke-width:2.0px;stroke-linecap:butt;stroke-linejoin:miter;stroke-opacity:1' />\n",
       "<path class='bond-28 atom-19 atom-26' d='M 287.2,86.1 L 278.3,89.1' style='fill:none;fill-rule:evenodd;stroke:#000000;stroke-width:2.0px;stroke-linecap:butt;stroke-linejoin:miter;stroke-opacity:1' />\n",
       "<path class='bond-28 atom-19 atom-26' d='M 278.3,89.1 L 269.4,92.1' style='fill:none;fill-rule:evenodd;stroke:#0000FF;stroke-width:2.0px;stroke-linecap:butt;stroke-linejoin:miter;stroke-opacity:1' />\n",
       "<path class='bond-28 atom-19 atom-26' d='M 286.5,89.8 L 278.4,92.6' style='fill:none;fill-rule:evenodd;stroke:#000000;stroke-width:2.0px;stroke-linecap:butt;stroke-linejoin:miter;stroke-opacity:1' />\n",
       "<path class='bond-28 atom-19 atom-26' d='M 278.4,92.6 L 270.4,95.3' style='fill:none;fill-rule:evenodd;stroke:#0000FF;stroke-width:2.0px;stroke-linecap:butt;stroke-linejoin:miter;stroke-opacity:1' />\n",
       "<path class='bond-29 atom-20 atom-22' d='M 224.3,107.3 L 203.3,114.4' style='fill:none;fill-rule:evenodd;stroke:#000000;stroke-width:2.0px;stroke-linecap:butt;stroke-linejoin:miter;stroke-opacity:1' />\n",
       "<path class='bond-29 atom-20 atom-22' d='M 221.4,104.8 L 204.0,110.6' style='fill:none;fill-rule:evenodd;stroke:#000000;stroke-width:2.0px;stroke-linecap:butt;stroke-linejoin:miter;stroke-opacity:1' />\n",
       "<path class='bond-30 atom-20 atom-27' d='M 224.3,107.3 L 231.0,113.3' style='fill:none;fill-rule:evenodd;stroke:#000000;stroke-width:2.0px;stroke-linecap:butt;stroke-linejoin:miter;stroke-opacity:1' />\n",
       "<path class='bond-30 atom-20 atom-27' d='M 231.0,113.3 L 237.8,119.2' style='fill:none;fill-rule:evenodd;stroke:#0000FF;stroke-width:2.0px;stroke-linecap:butt;stroke-linejoin:miter;stroke-opacity:1' />\n",
       "<path class='bond-31 atom-21 atom-29' d='M 287.5,28.8 L 296.8,30.6' style='fill:none;fill-rule:evenodd;stroke:#000000;stroke-width:2.0px;stroke-linecap:butt;stroke-linejoin:miter;stroke-opacity:1' />\n",
       "<path class='bond-31 atom-21 atom-29' d='M 296.8,30.6 L 306.1,32.5' style='fill:none;fill-rule:evenodd;stroke:#0000FF;stroke-width:2.0px;stroke-linecap:butt;stroke-linejoin:miter;stroke-opacity:1' />\n",
       "<path class='bond-32 atom-22 atom-31' d='M 203.3,114.4 L 201.5,123.3' style='fill:none;fill-rule:evenodd;stroke:#000000;stroke-width:2.0px;stroke-linecap:butt;stroke-linejoin:miter;stroke-opacity:1' />\n",
       "<path class='bond-32 atom-22 atom-31' d='M 201.5,123.3 L 199.7,132.2' style='fill:none;fill-rule:evenodd;stroke:#FF0000;stroke-width:2.0px;stroke-linecap:butt;stroke-linejoin:miter;stroke-opacity:1' />\n",
       "<path class='bond-33 atom-23 atom-25' d='M 261.9,114.9 L 268.6,120.8' style='fill:none;fill-rule:evenodd;stroke:#000000;stroke-width:2.0px;stroke-linecap:butt;stroke-linejoin:miter;stroke-opacity:1' />\n",
       "<path class='bond-33 atom-23 atom-25' d='M 268.6,120.8 L 275.4,126.8' style='fill:none;fill-rule:evenodd;stroke:#0000FF;stroke-width:2.0px;stroke-linecap:butt;stroke-linejoin:miter;stroke-opacity:1' />\n",
       "<path class='bond-33 atom-23 atom-25' d='M 265.5,113.7 L 271.5,119.0' style='fill:none;fill-rule:evenodd;stroke:#000000;stroke-width:2.0px;stroke-linecap:butt;stroke-linejoin:miter;stroke-opacity:1' />\n",
       "<path class='bond-33 atom-23 atom-25' d='M 271.5,119.0 L 277.6,124.3' style='fill:none;fill-rule:evenodd;stroke:#0000FF;stroke-width:2.0px;stroke-linecap:butt;stroke-linejoin:miter;stroke-opacity:1' />\n",
       "<path class='bond-34 atom-23 atom-26' d='M 261.9,114.9 L 263.7,106.0' style='fill:none;fill-rule:evenodd;stroke:#000000;stroke-width:2.0px;stroke-linecap:butt;stroke-linejoin:miter;stroke-opacity:1' />\n",
       "<path class='bond-34 atom-23 atom-26' d='M 263.7,106.0 L 265.5,97.0' style='fill:none;fill-rule:evenodd;stroke:#0000FF;stroke-width:2.0px;stroke-linecap:butt;stroke-linejoin:miter;stroke-opacity:1' />\n",
       "<path class='bond-35 atom-23 atom-27' d='M 261.9,114.9 L 252.9,117.9' style='fill:none;fill-rule:evenodd;stroke:#000000;stroke-width:2.0px;stroke-linecap:butt;stroke-linejoin:miter;stroke-opacity:1' />\n",
       "<path class='bond-35 atom-23 atom-27' d='M 252.9,117.9 L 244.0,120.9' style='fill:none;fill-rule:evenodd;stroke:#0000FF;stroke-width:2.0px;stroke-linecap:butt;stroke-linejoin:miter;stroke-opacity:1' />\n",
       "<path d='M 212.8,71.7 L 212.0,71.0 L 211.0,71.3' style='fill:none;stroke:#000000;stroke-width:2.0px;stroke-linecap:butt;stroke-linejoin:miter;stroke-opacity:1;' />\n",
       "<path d='M 227.8,84.9 L 228.6,85.6 L 228.4,86.7' style='fill:none;stroke:#000000;stroke-width:2.0px;stroke-linecap:butt;stroke-linejoin:miter;stroke-opacity:1;' />\n",
       "<path d='M 253.9,47.4 L 254.4,48.3 L 255.6,48.3' style='fill:none;stroke:#000000;stroke-width:2.0px;stroke-linecap:butt;stroke-linejoin:miter;stroke-opacity:1;' />\n",
       "<path d='M 303.6,101.8 L 303.9,100.7 L 303.0,100.0' style='fill:none;stroke:#000000;stroke-width:2.0px;stroke-linecap:butt;stroke-linejoin:miter;stroke-opacity:1;' />\n",
       "<path d='M 243.7,30.2 L 243.2,29.3 L 243.4,28.9' style='fill:none;stroke:#000000;stroke-width:2.0px;stroke-linecap:butt;stroke-linejoin:miter;stroke-opacity:1;' />\n",
       "<path d='M 299.7,121.4 L 299.5,122.4 L 299.0,122.6' style='fill:none;stroke:#000000;stroke-width:2.0px;stroke-linecap:butt;stroke-linejoin:miter;stroke-opacity:1;' />\n",
       "<path d='M 163.0,27.8 L 162.1,27.0 L 161.7,27.2' style='fill:none;stroke:#000000;stroke-width:2.0px;stroke-linecap:butt;stroke-linejoin:miter;stroke-opacity:1;' />\n",
       "<path d='M 137.6,56.6 L 136.8,55.8 L 136.9,55.4' style='fill:none;stroke:#000000;stroke-width:2.0px;stroke-linecap:butt;stroke-linejoin:miter;stroke-opacity:1;' />\n",
       "<path d='M 177.9,40.9 L 178.8,41.7 L 178.7,42.1' style='fill:none;stroke:#000000;stroke-width:2.0px;stroke-linecap:butt;stroke-linejoin:miter;stroke-opacity:1;' />\n",
       "<path d='M 152.6,69.7 L 153.4,70.5 L 153.9,70.3' style='fill:none;stroke:#000000;stroke-width:2.0px;stroke-linecap:butt;stroke-linejoin:miter;stroke-opacity:1;' />\n",
       "<path d='M 186.9,98.7 L 186.7,99.8 L 187.5,100.5' style='fill:none;stroke:#000000;stroke-width:2.0px;stroke-linecap:butt;stroke-linejoin:miter;stroke-opacity:1;' />\n",
       "<path d='M 276.7,10.7 L 276.2,9.7 L 275.7,9.7' style='fill:none;stroke:#000000;stroke-width:2.0px;stroke-linecap:butt;stroke-linejoin:miter;stroke-opacity:1;' />\n",
       "<path d='M 310.7,55.6 L 311.7,55.1 L 311.7,54.7' style='fill:none;stroke:#000000;stroke-width:2.0px;stroke-linecap:butt;stroke-linejoin:miter;stroke-opacity:1;' />\n",
       "<path class='atom-24' d='M 252.6 6.8\n",
       "L 254.7 10.1\n",
       "Q 254.9 10.5, 255.2 11.1\n",
       "Q 255.6 11.7, 255.6 11.7\n",
       "L 255.6 6.8\n",
       "L 256.4 6.8\n",
       "L 256.4 13.1\n",
       "L 255.5 13.1\n",
       "L 253.3 9.5\n",
       "Q 253.1 9.0, 252.8 8.5\n",
       "Q 252.5 8.1, 252.5 7.9\n",
       "L 252.5 13.1\n",
       "L 251.6 13.1\n",
       "L 251.6 6.8\n",
       "L 252.6 6.8\n",
       "' fill='#0000FF'/>\n",
       "<path class='atom-25' d='M 277.1 126.4\n",
       "L 279.2 129.7\n",
       "Q 279.4 130.0, 279.7 130.6\n",
       "Q 280.0 131.2, 280.0 131.3\n",
       "L 280.0 126.4\n",
       "L 280.9 126.4\n",
       "L 280.9 132.7\n",
       "L 280.0 132.7\n",
       "L 277.8 129.0\n",
       "Q 277.6 128.6, 277.3 128.1\n",
       "Q 277.0 127.6, 276.9 127.5\n",
       "L 276.9 132.7\n",
       "L 276.1 132.7\n",
       "L 276.1 126.4\n",
       "L 277.1 126.4\n",
       "' fill='#0000FF'/>\n",
       "<path class='atom-26' d='M 264.9 90.0\n",
       "L 266.9 93.3\n",
       "Q 267.1 93.7, 267.4 94.3\n",
       "Q 267.8 94.9, 267.8 94.9\n",
       "L 267.8 90.0\n",
       "L 268.6 90.0\n",
       "L 268.6 96.3\n",
       "L 267.8 96.3\n",
       "L 265.6 92.7\n",
       "Q 265.3 92.2, 265.0 91.8\n",
       "Q 264.8 91.3, 264.7 91.1\n",
       "L 264.7 96.3\n",
       "L 263.9 96.3\n",
       "L 263.9 90.0\n",
       "L 264.9 90.0\n",
       "' fill='#0000FF'/>\n",
       "<path class='atom-27' d='M 239.5 118.8\n",
       "L 241.6 122.1\n",
       "Q 241.8 122.5, 242.1 123.1\n",
       "Q 242.4 123.7, 242.4 123.7\n",
       "L 242.4 118.8\n",
       "L 243.3 118.8\n",
       "L 243.3 125.1\n",
       "L 242.4 125.1\n",
       "L 240.2 121.5\n",
       "Q 239.9 121.0, 239.7 120.5\n",
       "Q 239.4 120.1, 239.3 119.9\n",
       "L 239.3 125.1\n",
       "L 238.5 125.1\n",
       "L 238.5 118.8\n",
       "L 239.5 118.8\n",
       "' fill='#0000FF'/>\n",
       "<path class='atom-27' d='M 238.4 125.7\n",
       "L 239.3 125.7\n",
       "L 239.3 128.4\n",
       "L 242.5 128.4\n",
       "L 242.5 125.7\n",
       "L 243.3 125.7\n",
       "L 243.3 132.0\n",
       "L 242.5 132.0\n",
       "L 242.5 129.1\n",
       "L 239.3 129.1\n",
       "L 239.3 132.0\n",
       "L 238.4 132.0\n",
       "L 238.4 125.7\n",
       "' fill='#0000FF'/>\n",
       "<path class='atom-28' d='M 139.8 31.0\n",
       "L 141.8 34.3\n",
       "Q 142.0 34.6, 142.4 35.2\n",
       "Q 142.7 35.8, 142.7 35.9\n",
       "L 142.7 31.0\n",
       "L 143.5 31.0\n",
       "L 143.5 37.3\n",
       "L 142.7 37.3\n",
       "L 140.5 33.6\n",
       "Q 140.2 33.2, 139.9 32.7\n",
       "Q 139.7 32.2, 139.6 32.1\n",
       "L 139.6 37.3\n",
       "L 138.8 37.3\n",
       "L 138.8 31.0\n",
       "L 139.8 31.0\n",
       "' fill='#0000FF'/>\n",
       "<path class='atom-29' d='M 307.8 30.0\n",
       "L 309.8 33.3\n",
       "Q 310.0 33.7, 310.4 34.2\n",
       "Q 310.7 34.8, 310.7 34.9\n",
       "L 310.7 30.0\n",
       "L 311.6 30.0\n",
       "L 311.6 36.3\n",
       "L 310.7 36.3\n",
       "L 308.5 32.6\n",
       "Q 308.2 32.2, 308.0 31.7\n",
       "Q 307.7 31.2, 307.6 31.1\n",
       "L 307.6 36.3\n",
       "L 306.8 36.3\n",
       "L 306.8 30.0\n",
       "L 307.8 30.0\n",
       "' fill='#0000FF'/>\n",
       "<path class='atom-30' d='M 173.0 60.3\n",
       "L 175.1 63.6\n",
       "Q 175.3 63.9, 175.6 64.5\n",
       "Q 175.9 65.1, 175.9 65.1\n",
       "L 175.9 60.3\n",
       "L 176.8 60.3\n",
       "L 176.8 66.5\n",
       "L 175.9 66.5\n",
       "L 173.7 62.9\n",
       "Q 173.5 62.5, 173.2 62.0\n",
       "Q 172.9 61.5, 172.8 61.3\n",
       "L 172.8 66.5\n",
       "L 172.0 66.5\n",
       "L 172.0 60.3\n",
       "L 173.0 60.3\n",
       "' fill='#0000FF'/>\n",
       "<path class='atom-31' d='M 196.0 136.1\n",
       "Q 196.0 134.6, 196.8 133.8\n",
       "Q 197.5 132.9, 198.9 132.9\n",
       "Q 200.3 132.9, 201.0 133.8\n",
       "Q 201.8 134.6, 201.8 136.1\n",
       "Q 201.8 137.6, 201.0 138.5\n",
       "Q 200.3 139.4, 198.9 139.4\n",
       "Q 197.5 139.4, 196.8 138.5\n",
       "Q 196.0 137.7, 196.0 136.1\n",
       "M 198.9 138.7\n",
       "Q 199.9 138.7, 200.4 138.0\n",
       "Q 200.9 137.4, 200.9 136.1\n",
       "Q 200.9 134.9, 200.4 134.3\n",
       "Q 199.9 133.6, 198.9 133.6\n",
       "Q 198.0 133.6, 197.4 134.3\n",
       "Q 196.9 134.9, 196.9 136.1\n",
       "Q 196.9 137.4, 197.4 138.0\n",
       "Q 198.0 138.7, 198.9 138.7\n",
       "' fill='#FF0000'/>\n",
       "</svg>\n"
      ],
      "text/plain": [
       "<rdkit.Chem.rdchem.Mol at 0x7fc9dd29ac70>"
      ]
     },
     "execution_count": 207,
     "metadata": {},
     "output_type": "execute_result"
    }
   ],
   "source": [
    "bi = {}\n",
    "info = {}\n",
    "mol2 = inchi.MolFromInchi(df_sql['standard_inchi'].item())\n",
    "fp2 = AllChem.GetMorganFingerprint(mol2, nMorgan, bitInfo= info) \n",
    "fp2_bit = AllChem.GetMorganFingerprintAsBitVect(mol2, nMorgan, bitInfo = bi)   #.GetNonzeroElements()\n",
    "mol2"
   ]
  },
  {
   "cell_type": "code",
   "execution_count": 217,
   "id": "44b8eadc",
   "metadata": {
    "ExecuteTime": {
     "end_time": "2023-04-11T12:48:15.844295Z",
     "start_time": "2023-04-11T12:48:15.837757Z"
    },
    "hidden": true
   },
   "outputs": [
    {
     "name": "stdout",
     "output_type": "stream",
     "text": [
      "4294967295\n",
      "112\n",
      "85\n",
      "{64070612: 1, 135289256: 1, 300366959: 1, 519369723: 1, 568239325: 1, 572760528: 1, 575877237: 1, 600629739: 1, 723537477: 1, 776134841: 1, 833901780: 1, 847961216: 1, 864674487: 1, 906905665: 1, 932712697: 1, 951226070: 4, 963029399: 1, 966311396: 2, 989770574: 1, 994485099: 1, 1023209243: 1, 1100037548: 1, 1101907775: 1, 1103832125: 1, 1122196822: 1, 1135286194: 1, 1256751600: 1, 1348783936: 1, 1349404210: 1, 1444600902: 1, 1460642244: 1, 1504231094: 1, 1649803239: 1, 1717044408: 1, 1878828116: 1, 1976473596: 1, 2003124847: 1, 2021812431: 1, 2028653172: 1, 2041434490: 3, 2043400544: 1, 2053457817: 1, 2067391019: 1, 2067855442: 1, 2076190208: 1, 2092489639: 3, 2169162777: 1, 2246728737: 3, 2256456343: 1, 2286964769: 1, 2424570928: 1, 2473389857: 1, 2486266314: 1, 2522383065: 1, 2556855854: 1, 2598322190: 2, 2803848648: 4, 2902394255: 1, 2968968094: 4, 2971716993: 1, 2981546848: 1, 3002759401: 1, 3016218268: 1, 3118255683: 1, 3149312511: 1, 3202155986: 1, 3217380708: 8, 3218693969: 9, 3416219489: 1, 3579692515: 1, 3657471097: 2, 3669535357: 1, 3776905034: 2, 3777168895: 1, 3791039901: 1, 3820826669: 1, 3948571072: 1, 3975275337: 1, 3976954327: 1, 3982076256: 1, 3983062349: 1, 4011293459: 1, 4041573576: 1, 4043227479: 1, 4265716399: 1}\n",
      "119\n",
      "\n",
      "<class 'rdkit.DataStructs.cDataStructs.UIntSparseIntVect'> <class 'rdkit.DataStructs.cDataStructs.ExplicitBitVect'>\n",
      "84\n",
      "1964\n",
      "[0, 0, 0, 0, 0, 0, 0, 0, 0, 0, 0, 0, 0, 0, 1, 0, 0, 0, 0, 0, 0, 0, 0, 0, 0, 0, 0, 0, 0, 0, 0, 0, 0, 1, 0, 0, 0, 0, 0, 0, 0, 0, 0, 0, 0, 1, 0, 0, 0, 0, 0, 0, 0, 0, 0, 0, 0, 0, 0, 0, 0, 0, 0, 0, 0, 1, 0, 0, 0, 0, 0, 0, 0, 0, 0, 0, 0, 0, 0, 0, 0, 0, 1, 0, 0, 0, 0, 0, 0, 0, 0, 0, 0, 0, 0, 0, 0, 0, 0, 0, 0, 0, 0, 0, 0, 0, 0, 0, 0, 0, 0, 0, 0, 0, 0, 0, 0, 1, 0, 0, 0, 0, 0, 0, 0, 0, 0, 0, 0, 0, 0, 0, 0, 0, 0, 0, 0, 0, 0, 0, 0, 0, 0, 0, 0, 0, 0, 0, 0, 0, 0, 0, 0, 0, 0, 0, 0, 0, 0, 0, 0, 0, 0, 0, 0, 0, 0, 0, 0, 0, 0, 0, 0, 0, 0, 0, 0, 0, 0, 0, 0, 0, 0, 0, 0, 1, 0, 0, 0, 0, 0, 0, 0, 0, 0, 0, 0, 0, 0, 0, 0, 0, 0, 0, 0, 0, 0, 1, 0, 0, 0, 0, 0, 0, 0, 0, 0, 0, 0, 0, 0, 0, 0, 0, 0, 0, 0, 0, 0, 0, 0, 0, 0, 1, 0, 0, 0, 0, 0, 0, 0, 0, 0, 0, 0, 0, 0, 0, 0, 1, 0, 0, 0, 0, 0, 0, 0, 0, 0, 0, 0, 0, 0, 0, 0, 0, 0, 0, 0, 0, 0, 0, 0, 0, 0, 0, 0, 0, 0, 0, 0, 0, 0, 0, 0, 0, 0, 0, 0, 0, 0, 0, 0, 0, 0, 0, 0, 0, 0, 0, 0, 0, 0, 0, 0, 0, 0, 0, 0, 0, 0, 0, 0, 0, 0, 0, 0, 0, 0, 0, 0, 0, 0, 0, 0, 0, 0, 0, 0, 0, 0, 0, 0, 0, 0, 0, 0, 0, 0, 0, 0, 0, 0, 1, 0, 0, 0, 0, 0, 0, 0, 0, 1, 0, 0, 0, 0, 0, 0, 0, 0, 0, 0, 0, 0, 0, 0, 0, 0, 0, 0, 0, 0, 0, 0, 0, 0, 0, 1, 0, 0, 0, 0, 0, 0, 0, 0, 0, 0, 0, 0, 0, 0, 0, 0, 0, 0, 0, 0, 0, 0, 0, 0, 0, 0, 0, 0, 1, 0, 0, 0, 0, 0, 0, 0, 0, 0, 0, 0, 0, 0, 0, 0, 0, 1, 0, 0, 0, 0, 0, 0, 0, 0, 0, 0, 0, 0, 0, 0, 0, 0, 0, 0, 0, 0, 0, 0, 0, 1, 0, 0, 0, 1, 0, 0, 0, 0, 0, 1, 0, 0, 0, 0, 0, 1, 0, 0, 0, 0, 0, 0, 1, 0, 0, 0, 0, 0, 0, 0, 0, 0, 0, 0, 0, 0, 0, 0, 0, 0, 0, 0, 1, 0, 0, 0, 0, 1, 0, 0, 0, 0, 0, 0, 0, 0, 0, 0, 0, 0, 0, 0, 1, 0, 0, 0, 0, 0, 0, 0, 0, 0, 0, 0, 0, 0, 0, 0, 0, 0, 0, 0, 0, 0, 0, 0, 0, 0, 0, 0, 0, 0, 0, 0, 0, 0, 0, 0, 0, 0, 0, 0, 0, 0, 0, 0, 1, 0, 0, 0, 0, 0, 0, 0, 0, 0, 0, 0, 0, 0, 0, 0, 0, 0, 0, 0, 0, 0, 0, 0, 0, 0, 0, 0, 0, 0, 0, 0, 0, 0, 0, 0, 0, 0, 0, 0, 0, 0, 0, 0, 0, 0, 0, 0, 0, 0, 0, 0, 0, 0, 0, 0, 0, 0, 0, 0, 0, 0, 0, 0, 0, 0, 0, 0, 1, 0, 0, 0, 0, 1, 0, 0, 0, 0, 0, 0, 0, 0, 1, 0, 0, 0, 0, 0, 0, 0, 0, 0, 0, 0, 0, 0, 0, 0, 0, 0, 0, 0, 0, 0, 0, 0, 0, 0, 1, 0, 0, 0, 0, 0, 0, 0, 0, 0, 0, 0, 0, 0, 0, 0, 0, 0, 0, 0, 0, 0, 0, 0, 1, 0, 0, 0, 0, 0, 0, 0, 1, 0, 0, 0, 0, 0, 0, 0, 0, 0, 0, 0, 0, 0, 0, 0, 0, 0, 0, 0, 0, 0, 0, 0, 0, 0, 0, 0, 0, 0, 0, 0, 0, 0, 1, 0, 0, 0, 0, 0, 0, 0, 0, 0, 0, 0, 0, 0, 0, 0, 0, 0, 0, 0, 0, 0, 0, 0, 0, 0, 0, 0, 0, 0, 0, 0, 0, 0, 0, 0, 0, 0, 0, 0, 0, 0, 0, 0, 0, 0, 0, 0, 0, 0, 0, 0, 0, 0, 0, 0, 0, 0, 1, 0, 0, 0, 0, 0, 0, 0, 0, 0, 0, 0, 0, 0, 0, 0, 0, 0, 0, 0, 0, 0, 0, 0, 0, 0, 0, 0, 0, 0, 0, 0, 0, 0, 0, 0, 0, 0, 0, 0, 0, 0, 0, 0, 0, 0, 0, 0, 0, 0, 0, 0, 0, 0, 1, 0, 0, 0, 0, 1, 0, 0, 0, 0, 0, 0, 0, 0, 0, 0, 0, 0, 0, 0, 0, 0, 0, 1, 0, 0, 0, 0, 0, 0, 0, 0, 0, 0, 1, 0, 0, 0, 0, 0, 0, 0, 0, 0, 0, 0, 0, 0, 0, 0, 0, 0, 0, 0, 0, 0, 0, 0, 0, 0, 0, 0, 0, 0, 0, 0, 0, 0, 0, 0, 0, 0, 0, 0, 0, 0, 0, 0, 0, 0, 0, 0, 0, 0, 0, 1, 0, 0, 0, 0, 0, 0, 0, 0, 1, 0, 0, 0, 0, 0, 0, 0, 0, 0, 0, 0, 0, 0, 0, 0, 0, 0, 0, 0, 0, 0, 0, 0, 0, 0, 0, 0, 0, 0, 0, 0, 0, 0, 0, 0, 0, 0, 0, 0, 0, 0, 0, 0, 0, 1, 0, 0, 0, 0, 0, 0, 0, 0, 0, 0, 0, 0, 0, 0, 0, 0, 0, 0, 0, 0, 0, 0, 0, 0, 0, 0, 0, 0, 0, 0, 0, 0, 0, 0, 0, 0, 0, 0, 1, 0, 0, 0, 0, 0, 0, 0, 0, 0, 0, 0, 0, 0, 0, 0, 0, 0, 0, 0, 0, 0, 0, 0, 0, 0, 0, 0, 0, 0, 1, 0, 0, 0, 0, 0, 0, 0, 1, 0, 0, 0, 0, 0, 0, 0, 0, 0, 0, 0, 0, 0, 0, 1, 0, 0, 0, 0, 0, 0, 0, 0, 0, 0, 0, 0, 1, 0, 0, 0, 0, 0, 0, 0, 0, 1, 0, 0, 0, 0, 0, 0, 0, 0, 0, 0, 0, 0, 0, 1, 0, 0, 0, 0, 0, 0, 0, 0, 0, 0, 0, 0, 0, 0, 0, 0, 0, 0, 0, 0, 0, 0, 0, 0, 0, 0, 1, 0, 0, 0, 0, 0, 0, 0, 0, 0, 1, 0, 0, 0, 0, 0, 0, 1, 0, 0, 0, 0, 0, 0, 0, 0, 0, 0, 0, 0, 0, 0, 0, 0, 0, 0, 0, 0, 0, 0, 0, 0, 0, 0, 0, 0, 0, 0, 0, 0, 0, 0, 0, 0, 0, 0, 0, 0, 0, 0, 0, 0, 0, 0, 0, 0, 0, 0, 0, 0, 0, 0, 0, 1, 0, 0, 0, 0, 0, 0, 0, 0, 0, 0, 0, 0, 0, 0, 0, 1, 0, 0, 0, 0, 0, 0, 0, 0, 0, 0, 0, 1, 0, 0, 0, 0, 0, 0, 0, 0, 1, 0, 0, 0, 0, 0, 0, 0, 0, 0, 0, 0, 0, 0, 0, 0, 0, 0, 0, 0, 0, 0, 0, 0, 0, 0, 0, 0, 0, 0, 0, 0, 0, 0, 0, 0, 0, 0, 0, 0, 0, 0, 0, 0, 0, 0, 0, 0, 0, 0, 0, 0, 0, 0, 0, 0, 0, 0, 0, 0, 0, 0, 0, 0, 0, 0, 0, 0, 0, 0, 0, 0, 0, 0, 0, 0, 0, 0, 0, 0, 0, 0, 0, 0, 0, 0, 0, 0, 0, 0, 0, 0, 0, 0, 0, 0, 0, 0, 0, 0, 0, 0, 0, 0, 0, 0, 0, 0, 0, 0, 0, 0, 1, 0, 0, 0, 0, 0, 0, 0, 0, 1, 0, 0, 0, 0, 0, 0, 0, 0, 0, 0, 0, 0, 0, 1, 0, 0, 0, 0, 0, 0, 0, 0, 0, 0, 0, 0, 0, 0, 0, 0, 0, 0, 0, 0, 0, 0, 0, 0, 0, 0, 0, 0, 1, 0, 0, 0, 0, 0, 0, 0, 0, 0, 0, 0, 0, 0, 1, 0, 0, 0, 0, 0, 0, 0, 0, 0, 0, 0, 0, 0, 1, 0, 0, 0, 0, 0, 0, 0, 0, 0, 0, 0, 0, 0, 0, 1, 0, 0, 0, 0, 0, 0, 0, 0, 0, 0, 0, 0, 0, 0, 0, 0, 0, 0, 0, 0, 0, 0, 0, 0, 0, 0, 0, 1, 0, 0, 0, 0, 0, 0, 0, 0, 0, 1, 0, 0, 0, 0, 0, 0, 0, 0, 0, 0, 0, 0, 0, 0, 0, 0, 1, 1, 0, 0, 0, 0, 0, 0, 0, 0, 0, 0, 0, 0, 0, 0, 0, 0, 0, 0, 0, 0, 0, 0, 0, 0, 0, 0, 1, 1, 0, 0, 0, 0, 0, 0, 0, 0, 0, 0, 0, 0, 0, 0, 0, 0, 0, 0, 0, 0, 0, 0, 0, 0, 0, 0, 0, 0, 0, 0, 0, 0, 0, 0, 0, 0, 0, 0, 0, 0, 0, 0, 0, 0, 0, 1, 0, 0, 0, 1, 0, 0, 0, 0, 0, 0, 0, 0, 0, 0, 0, 0, 0, 0, 0, 0, 1, 0, 1, 0, 0, 0, 0, 0, 0, 0, 0, 0, 0, 0, 0, 0, 0, 0, 0, 0, 0, 0, 0, 0, 0, 0, 0, 0, 0, 0, 0, 0, 0, 0, 0, 0, 0, 0, 0, 0, 0, 0, 0, 0, 0, 0, 0, 0, 0, 0, 0, 0, 0, 0, 0, 0, 0, 0, 0, 0, 0, 0, 0, 0, 0, 0, 0, 0, 0, 0, 0, 0, 0, 0, 0, 0, 0, 0, 0, 0, 0, 0, 0, 0, 0, 0, 0, 0, 0, 1, 0, 0, 0, 0, 0, 0, 0, 0, 0, 0, 0, 0, 0, 0, 0, 0, 0, 0, 0, 0, 0, 0, 0, 0, 0, 1, 0, 0, 0, 0, 0, 0, 0, 0, 0, 0, 0, 0, 0, 0, 0, 0, 0, 0, 0, 0, 0, 0, 0, 0, 0, 0, 0, 0, 0, 0, 0, 1, 0, 0, 0, 0, 0, 0, 0, 0, 0, 0, 0, 0, 0, 0, 0, 0, 0, 0, 0, 0, 0, 0, 0, 0, 0, 0, 0, 0, 0, 0, 0, 0, 0, 0, 0, 0, 0, 0, 0, 0, 0, 0, 0, 0, 0, 0, 0, 0, 0, 0, 0, 0, 0, 0, 0, 0, 0, 0, 0, 0, 0, 0, 0, 0, 0, 0, 0, 0, 1, 0, 0, 0, 0, 0, 1, 0, 0, 0, 0, 0, 0, 0, 0, 0, 0, 0, 0, 0, 0, 0, 0, 0, 0, 0, 0, 0, 0, 0, 0, 0, 0, 0, 0, 0, 1, 1, 0, 0, 0, 0, 0, 0, 0, 0, 0, 1, 0, 0, 0, 0, 0, 0, 1, 0, 0, 0, 0, 0, 0, 0, 0, 0, 0, 0, 0, 0, 0, 0, 1, 0, 0, 0, 0, 0, 0, 0, 0, 0, 0, 0, 0, 0, 0, 0, 0, 0, 0, 0, 0, 0, 0, 0, 0, 0, 0, 0, 0, 0, 0, 0, 0, 0, 0, 0, 0, 0, 0, 0, 0, 0, 0, 0, 0, 0, 0, 0, 0, 0, 0, 0, 0, 0, 0, 0, 1, 0, 0, 0, 0, 0, 0, 0, 0, 0, 0, 0, 0, 0, 0, 0, 0, 0, 0, 0, 0, 0, 0, 0, 0, 1, 0, 0, 0, 0, 0, 0, 0, 0, 0, 0, 0, 0, 0, 0, 0, 0, 0, 0, 0, 0, 0, 0, 0, 0, 0, 0, 0, 0, 0, 0, 0, 0, 0, 0, 0, 0, 0, 0, 0, 0, 0, 0, 0, 0, 0, 0, 0, 0, 0, 0, 0, 0, 1, 0, 0, 0, 0, 0, 0, 0, 0, 0, 0, 0, 0, 0, 0, 0, 0, 0, 0, 0, 0, 1, 0, 0, 0]\n"
     ]
    }
   ],
   "source": [
    "print(fp2.GetLength())\n",
    "print(sys.getsizeof(fp2))\n",
    "# print(fp2.GetTotalVal())\n",
    "# print(fp2.GetTotalVal())\n",
    "print(len(fp2.GetNonzeroElements()))\n",
    "print(fp2.GetNonzeroElements())\n",
    "print(fp2.GetTotalVal())\n",
    "print()\n",
    "print(type(fp2), type(fp2_bit))\n",
    "print(fp2_bit.GetNumOnBits())\n",
    "print(fp2_bit.GetNumOffBits())\n",
    "print(fp2_bit.ToList())"
   ]
  },
  {
   "cell_type": "code",
   "execution_count": 208,
   "id": "27f5635e",
   "metadata": {
    "ExecuteTime": {
     "end_time": "2023-04-11T12:42:56.119812Z",
     "start_time": "2023-04-11T12:42:56.108318Z"
    },
    "hidden": true
   },
   "outputs": [
    {
     "data": {
      "text/plain": [
       "{64070612: ((19, 1),),\n",
       " 135289256: ((3, 3),),\n",
       " 300366959: ((29, 3),),\n",
       " 519369723: ((22, 2),),\n",
       " 568239325: ((19, 3),),\n",
       " 572760528: ((15, 1),),\n",
       " 575877237: ((18, 2),),\n",
       " 600629739: ((27, 1),),\n",
       " 723537477: ((24, 3),),\n",
       " 776134841: ((8, 3),),\n",
       " 833901780: ((28, 2),),\n",
       " 847961216: ((27, 0),),\n",
       " 864674487: ((31, 0),),\n",
       " 906905665: ((20, 2),),\n",
       " 932712697: ((31, 2),),\n",
       " 951226070: ((3, 1), (4, 1), (5, 1), (6, 1)),\n",
       " 963029399: ((30, 1),),\n",
       " 966311396: ((11, 2), (12, 2)),\n",
       " 989770574: ((16, 3),),\n",
       " 994485099: ((13, 1),),\n",
       " 1023209243: ((25, 2),),\n",
       " 1100037548: ((25, 1),),\n",
       " 1101907775: ((26, 1),),\n",
       " 1103832125: ((6, 2),),\n",
       " 1122196822: ((20, 3),),\n",
       " 1135286194: ((22, 1),),\n",
       " 1256751600: ((16, 2),),\n",
       " 1348783936: ((4, 2),),\n",
       " 1349404210: ((24, 2),),\n",
       " 1444600902: ((7, 3),),\n",
       " 1460642244: ((17, 2),),\n",
       " 1504231094: ((27, 3),),\n",
       " 1649803239: ((21, 3),),\n",
       " 1717044408: ((7, 2),),\n",
       " 1878828116: ((13, 2),),\n",
       " 1976473596: ((5, 2),),\n",
       " 2003124847: ((19, 2),),\n",
       " 2021812431: ((28, 1),),\n",
       " 2028653172: ((6, 3),),\n",
       " 2041434490: ((24, 0), (25, 0), (26, 0)),\n",
       " 2043400544: ((4, 3),),\n",
       " 2053457817: ((18, 3),),\n",
       " 2067391019: ((27, 2),),\n",
       " 2067855442: ((14, 2),),\n",
       " 2076190208: ((31, 1),),\n",
       " 2092489639: ((28, 0), (29, 0), (30, 0)),\n",
       " 2169162777: ((17, 3),),\n",
       " 2246728737: ((0, 0), (1, 0), (2, 0)),\n",
       " 2256456343: ((5, 3),),\n",
       " 2286964769: ((30, 3),),\n",
       " 2424570928: ((15, 3),),\n",
       " 2473389857: ((16, 1),),\n",
       " 2486266314: ((23, 2),),\n",
       " 2522383065: ((11, 3),),\n",
       " 2556855854: ((23, 1),),\n",
       " 2598322190: ((9, 2), (10, 2)),\n",
       " 2803848648: ((9, 1), (10, 1), (11, 1), (12, 1)),\n",
       " 2902394255: ((26, 2),),\n",
       " 2968968094: ((9, 0), (10, 0), (11, 0), (12, 0)),\n",
       " 2971716993: ((29, 1),),\n",
       " 2981546848: ((23, 3),),\n",
       " 3002759401: ((3, 2),),\n",
       " 3016218268: ((22, 3),),\n",
       " 3118255683: ((24, 1),),\n",
       " 3149312511: ((29, 2),),\n",
       " 3202155986: ((25, 3),),\n",
       " 3217380708: ((16, 0),\n",
       "  (17, 0),\n",
       "  (18, 0),\n",
       "  (19, 0),\n",
       "  (20, 0),\n",
       "  (21, 0),\n",
       "  (22, 0),\n",
       "  (23, 0)),\n",
       " 3218693969: ((3, 0),\n",
       "  (4, 0),\n",
       "  (5, 0),\n",
       "  (6, 0),\n",
       "  (7, 0),\n",
       "  (8, 0),\n",
       "  (13, 0),\n",
       "  (14, 0),\n",
       "  (15, 0)),\n",
       " 3416219489: ((14, 3),),\n",
       " 3579692515: ((9, 3),),\n",
       " 3657471097: ((0, 1), (1, 1)),\n",
       " 3669535357: ((28, 3),),\n",
       " 3776905034: ((7, 1), (8, 1)),\n",
       " 3777168895: ((14, 1),),\n",
       " 3791039901: ((15, 2),),\n",
       " 3820826669: ((21, 1),),\n",
       " 3948571072: ((26, 3),),\n",
       " 3975275337: ((2, 1),),\n",
       " 3976954327: ((13, 3),),\n",
       " 3982076256: ((18, 1),),\n",
       " 3983062349: ((17, 1),),\n",
       " 4011293459: ((8, 2),),\n",
       " 4041573576: ((20, 1),),\n",
       " 4043227479: ((21, 2),),\n",
       " 4265716399: ((30, 2),)}"
      ]
     },
     "execution_count": 208,
     "metadata": {},
     "output_type": "execute_result"
    }
   ],
   "source": [
    "info"
   ]
  },
  {
   "cell_type": "code",
   "execution_count": 201,
   "id": "145d092f",
   "metadata": {
    "ExecuteTime": {
     "end_time": "2023-04-11T12:38:54.092153Z",
     "start_time": "2023-04-11T12:38:54.079719Z"
    },
    "hidden": true
   },
   "outputs": [
    {
     "data": {
      "text/plain": [
       "{14: ((9, 2), (10, 2)),\n",
       " 33: ((30, 3),),\n",
       " 45: ((21, 1),),\n",
       " 65: ((20, 2),),\n",
       " 82: ((14, 2),),\n",
       " 117: ((18, 2),),\n",
       " 185: ((8, 3),),\n",
       " 207: ((28, 1),),\n",
       " 233: ((3, 2),),\n",
       " 249: ((31, 2),),\n",
       " 343: ((21, 2),),\n",
       " 352: ((18, 1), (4, 3)),\n",
       " 378: ((24, 0), (25, 0), (26, 0)),\n",
       " 407: ((30, 1),),\n",
       " 424: ((3, 3),),\n",
       " 448: ((26, 3),),\n",
       " 452: ((17, 2),),\n",
       " 458: ((23, 2),),\n",
       " 464: ((15, 1),),\n",
       " 471: ((13, 3),),\n",
       " 491: ((27, 1),),\n",
       " 496: ((16, 2),),\n",
       " 511: ((29, 2),),\n",
       " 555: ((27, 2),),\n",
       " 623: ((19, 2),),\n",
       " 628: ((6, 3),),\n",
       " 637: ((28, 3),),\n",
       " 663: ((5, 3),),\n",
       " 687: ((30, 2),),\n",
       " 695: ((31, 0),),\n",
       " 729: ((11, 3),),\n",
       " 787: ((8, 2),),\n",
       " 841: ((2, 1),),\n",
       " 846: ((16, 3),),\n",
       " 864: ((23, 3),),\n",
       " 875: ((13, 1),),\n",
       " 926: ((9, 0), (10, 0), (11, 0), (12, 0)),\n",
       " 935: ((28, 0), (29, 0), (30, 0)),\n",
       " 980: ((19, 1),),\n",
       " 1019: ((22, 2),),\n",
       " 1049: ((17, 3),),\n",
       " 1057: ((0, 0), (1, 0), (2, 0)),\n",
       " 1072: ((15, 3),),\n",
       " 1085: ((6, 2),),\n",
       " 1094: ((7, 3),),\n",
       " 1108: ((13, 2),),\n",
       " 1135: ((29, 3),),\n",
       " 1145: ((0, 1), (1, 1)),\n",
       " 1152: ((27, 0),),\n",
       " 1208: ((7, 2),),\n",
       " 1224: ((20, 1),),\n",
       " 1236: ((28, 2),),\n",
       " 1245: ((19, 3),),\n",
       " 1357: ((17, 1),),\n",
       " 1366: ((20, 3),),\n",
       " 1380: ((16, 0),\n",
       "  (17, 0),\n",
       "  (18, 0),\n",
       "  (19, 0),\n",
       "  (20, 0),\n",
       "  (21, 0),\n",
       "  (22, 0),\n",
       "  (23, 0)),\n",
       " 1409: ((29, 1),),\n",
       " 1423: ((26, 2),),\n",
       " 1437: ((15, 2),),\n",
       " 1452: ((25, 1),),\n",
       " 1480: ((9, 1), (10, 1), (11, 1), (12, 1)),\n",
       " 1490: ((25, 3),),\n",
       " 1507: ((9, 3),),\n",
       " 1508: ((11, 2), (12, 2)),\n",
       " 1535: ((14, 1),),\n",
       " 1536: ((31, 1),),\n",
       " 1582: ((23, 1),),\n",
       " 1586: ((24, 2),),\n",
       " 1603: ((24, 1),),\n",
       " 1605: ((24, 3),),\n",
       " 1692: ((22, 3),),\n",
       " 1718: ((27, 3),),\n",
       " 1750: ((3, 1), (4, 1), (5, 1), (6, 1)),\n",
       " 1819: ((25, 2),),\n",
       " 1825: ((16, 1),),\n",
       " 1855: ((26, 1),),\n",
       " 1856: ((4, 2),),\n",
       " 1866: ((7, 1), (8, 1)),\n",
       " 1873: ((3, 0),\n",
       "  (4, 0),\n",
       "  (5, 0),\n",
       "  (6, 0),\n",
       "  (7, 0),\n",
       "  (8, 0),\n",
       "  (13, 0),\n",
       "  (14, 0),\n",
       "  (15, 0)),\n",
       " 1889: ((14, 3),),\n",
       " 1945: ((18, 3),),\n",
       " 1970: ((22, 1),),\n",
       " 2023: ((21, 3),),\n",
       " 2044: ((5, 2),)}"
      ]
     },
     "execution_count": 201,
     "metadata": {},
     "output_type": "execute_result"
    }
   ],
   "source": [
    "bi"
   ]
  },
  {
   "cell_type": "code",
   "execution_count": 218,
   "id": "2077ed66",
   "metadata": {
    "ExecuteTime": {
     "end_time": "2023-04-11T12:48:39.107218Z",
     "start_time": "2023-04-11T12:48:39.098980Z"
    },
    "hidden": true
   },
   "outputs": [
    {
     "data": {
      "image/svg+xml": [
       "<svg xmlns=\"http://www.w3.org/2000/svg\" xmlns:rdkit=\"http://www.rdkit.org/xml\" xmlns:xlink=\"http://www.w3.org/1999/xlink\" version=\"1.1\" baseProfile=\"full\" xml:space=\"preserve\" width=\"150px\" height=\"150px\" viewBox=\"0 0 150 150\">\n",
       "<!-- END OF HEADER -->\n",
       "<rect style=\"opacity:1.0;fill:#FFFFFF;stroke:none\" width=\"150.0\" height=\"150.0\" x=\"0.0\" y=\"0.0\"> </rect>\n",
       "<ellipse cx=\"95.5\" cy=\"46.7\" rx=\"10.0\" ry=\"10.0\" class=\"atom-0\" style=\"fill:#9999E5;fill-rule:evenodd;stroke:#9999E5;stroke-width:1.0px;stroke-linecap:butt;stroke-linejoin:miter;stroke-opacity:1\"/>\n",
       "<ellipse cx=\"133.1\" cy=\"79.9\" rx=\"10.0\" ry=\"10.0\" class=\"atom-1\" style=\"fill:#E5E533;fill-rule:evenodd;stroke:#E5E533;stroke-width:1.0px;stroke-linecap:butt;stroke-linejoin:miter;stroke-opacity:1\"/>\n",
       "<ellipse cx=\"47.9\" cy=\"62.8\" rx=\"10.0\" ry=\"10.0\" class=\"atom-2\" style=\"fill:#E5E533;fill-rule:evenodd;stroke:#E5E533;stroke-width:1.0px;stroke-linecap:butt;stroke-linejoin:miter;stroke-opacity:1\"/>\n",
       "<path class=\"bond-0 atom-0 atom-1\" d=\"M 95.5,46.7 L 133.1,79.9\" style=\"fill:none;fill-rule:evenodd;stroke:#000000;stroke-width:2.0px;stroke-linecap:butt;stroke-linejoin:miter;stroke-opacity:1\"/>\n",
       "<path class=\"bond-0 atom-0 atom-1\" d=\"M 93.7,55.2 L 124.9,82.7\" style=\"fill:none;fill-rule:evenodd;stroke:#000000;stroke-width:2.0px;stroke-linecap:butt;stroke-linejoin:miter;stroke-opacity:1;stroke-dasharray:6,0,6\"/>\n",
       "<path class=\"bond-1 atom-0 atom-2\" d=\"M 95.5,46.7 L 47.9,62.8\" style=\"fill:none;fill-rule:evenodd;stroke:#000000;stroke-width:2.0px;stroke-linecap:butt;stroke-linejoin:miter;stroke-opacity:1\"/>\n",
       "<path class=\"bond-1 atom-0 atom-2\" d=\"M 93.7,55.2 L 54.4,68.5\" style=\"fill:none;fill-rule:evenodd;stroke:#000000;stroke-width:2.0px;stroke-linecap:butt;stroke-linejoin:miter;stroke-opacity:1;stroke-dasharray:6,0,6\"/>\n",
       "<path class=\"bond-2 atom-1 atom-3\" d=\"M 133.1,79.9 L 125.0,120.2\" style=\"fill:none;fill-rule:evenodd;stroke:#E5E5E5;stroke-width:2.7px;stroke-linecap:butt;stroke-linejoin:miter;stroke-opacity:1\"/>\n",
       "<path class=\"bond-2 atom-1 atom-3\" d=\"M 124.9,82.7 L 117.6,118.8\" style=\"fill:none;fill-rule:evenodd;stroke:#E5E5E5;stroke-width:2.7px;stroke-linecap:butt;stroke-linejoin:miter;stroke-opacity:1;stroke-dasharray:6,0,6\"/>\n",
       "<path class=\"bond-3 atom-4 atom-2\" d=\"M 36.1,102.4 L 44.6,59.9\" style=\"fill:none;fill-rule:evenodd;stroke:#E5E5E5;stroke-width:2.7px;stroke-linecap:butt;stroke-linejoin:miter;stroke-opacity:1\"/>\n",
       "<path class=\"bond-3 atom-4 atom-2\" d=\"M 43.4,103.8 L 52.0,61.4\" style=\"fill:none;fill-rule:evenodd;stroke:#E5E5E5;stroke-width:2.7px;stroke-linecap:butt;stroke-linejoin:miter;stroke-opacity:1;stroke-dasharray:6,0,6\"/>\n",
       "<path class=\"bond-4 atom-2 atom-5\" d=\"M 47.9,62.8 L 11.2,30.5\" style=\"fill:none;fill-rule:evenodd;stroke:#E5E5E5;stroke-width:2.7px;stroke-linecap:butt;stroke-linejoin:miter;stroke-opacity:1\"/>\n",
       "<path d=\"M 97.3,48.4 L 95.5,46.7 L 93.1,47.5\" style=\"fill:none;stroke:#000000;stroke-width:2.0px;stroke-linecap:butt;stroke-linejoin:miter;stroke-opacity:1;\"/>\n",
       "<path d=\"M 132.2,79.1 L 133.1,79.9 L 132.9,80.9\" style=\"fill:none;stroke:#000000;stroke-width:2.0px;stroke-linecap:butt;stroke-linejoin:miter;stroke-opacity:1;\"/>\n",
       "<path class=\"atom-3\" d=\"M 116.9 126.8 L 119.0 124.7 L 116.2 124.1 L 116.6 122.7 L 119.2 124.0 L 118.8 121.2 L 120.3 121.2 L 119.9 124.0 L 122.5 122.7 L 122.9 124.1 L 120.1 124.6 L 122.1 126.8 L 120.9 127.7 L 119.5 125.0 L 118.1 127.7 L 116.9 126.8 \" fill=\"#191919\"/>\n",
       "<path class=\"atom-4\" d=\"M 35.3 110.4 L 37.4 108.3 L 34.6 107.7 L 35.0 106.3 L 37.6 107.6 L 37.2 104.8 L 38.7 104.8 L 38.3 107.5 L 40.9 106.3 L 41.3 107.7 L 38.5 108.2 L 40.5 110.4 L 39.3 111.3 L 37.9 108.6 L 36.5 111.3 L 35.3 110.4 \" fill=\"#191919\"/>\n",
       "<path class=\"atom-4\" d=\"M 42.8 105.0 L 44.8 105.0 L 44.8 111.0 L 52.0 111.0 L 52.0 105.0 L 54.0 105.0 L 54.0 119.2 L 52.0 119.2 L 52.0 112.6 L 44.8 112.6 L 44.8 119.2 L 42.8 119.2 L 42.8 105.0 \" fill=\"#191919\"/>\n",
       "<path class=\"atom-5\" d=\"M 7.5 28.0 L 9.6 25.8 L 6.8 25.3 L 7.2 23.9 L 9.8 25.1 L 9.4 22.4 L 10.9 22.3 L 10.5 25.1 L 13.1 23.9 L 13.5 25.3 L 10.7 25.8 L 12.7 28.0 L 11.5 28.8 L 10.1 26.2 L 8.7 28.8 L 7.5 28.0 \" fill=\"#191919\"/>\n",
       "</svg>"
      ],
      "text/plain": [
       "<IPython.core.display.SVG object>"
      ]
     },
     "execution_count": 218,
     "metadata": {},
     "output_type": "execute_result"
    }
   ],
   "source": [
    "from rdkit.Chem import Draw\n",
    "mfp2_svg = Draw.DrawMorganBit(mol2, 1750, bi, useSVG=True)\n",
    "mfp2_svg"
   ]
  },
  {
   "cell_type": "code",
   "execution_count": null,
   "id": "797194e3",
   "metadata": {
    "ExecuteTime": {
     "end_time": "2023-04-11T12:16:04.432591Z",
     "start_time": "2023-04-11T12:16:04.379670Z"
    },
    "hidden": true
   },
   "outputs": [],
   "source": []
  },
  {
   "cell_type": "code",
   "execution_count": 170,
   "id": "1e817164",
   "metadata": {
    "ExecuteTime": {
     "end_time": "2023-04-11T12:12:07.280379Z",
     "start_time": "2023-04-11T12:12:07.276177Z"
    },
    "hidden": true
   },
   "outputs": [],
   "source": [
    "# print(mol[0]['molecule_structures']['molfile'])"
   ]
  },
  {
   "cell_type": "code",
   "execution_count": null,
   "id": "8f19d17f",
   "metadata": {
    "hidden": true
   },
   "outputs": [],
   "source": []
  },
  {
   "cell_type": "markdown",
   "id": "36a53551",
   "metadata": {},
   "source": [
    "### Iterate over dataframe and get chemblid for each inchikey"
   ]
  },
  {
   "cell_type": "code",
   "execution_count": 13,
   "id": "37fa10f0",
   "metadata": {
    "ExecuteTime": {
     "end_time": "2023-04-12T10:29:52.248903Z",
     "start_time": "2023-04-12T10:29:52.234529Z"
    }
   },
   "outputs": [],
   "source": [
    "def appendInchi(df: pd.DataFrame, limit:int = 5, nMorgan:int = 3):\n",
    "    \"\"\" function for looping over all molecules \"\"\"\n",
    "    NoInchiKey_ctr = 0\n",
    "    NoInchi_ctr = 0 \n",
    "    Found_ctr = 0\n",
    "    ctr = 0 \n",
    "    molecule = new_client.molecule\n",
    "    \n",
    "    if 'chembl_id' not in df.columns:\n",
    "        df['chembl_id'] = None\n",
    "        print(' Add chembl_id column')\n",
    "    else:\n",
    "        print(' chembl_id column exists ')\n",
    "\n",
    "    if 'standard_inchi' not in df.columns:\n",
    "        df['standard_inchi'] = None\n",
    "        print(' Add standard_inchi column')\n",
    "    else:\n",
    "        print(' standard_inchi column exists ')\n",
    "    \n",
    "    for comp in df.itertuples():\n",
    "        ctr +=1\n",
    "        if ctr > limit: \n",
    "            break\n",
    "        if comp is None: \n",
    "            print(f\" ctr: {ctr}   row is None  - continue\")\n",
    "            continue\n",
    "\n",
    "        if pd.isna(comp.InChIKey): \n",
    "            print(f\" ctr: {ctr}   idx: {comp.Index}   inchikey: {comp.InChIKey } \\t Nan row encounntered - continue\")\n",
    "            NoInchiKey_ctr += 1\n",
    "            continue\n",
    "\n",
    "        mol = molecule.filter(molecule_structures__standard_inchi_key=comp.InChIKey).only(['molecule_chembl_id', 'molecule_structures']) \n",
    "        if len(mol) == 0:\n",
    "            print(f\" ctr: {ctr}   idx: {comp.Index}   inchikey: {comp.InChIKey } \\t No row found for inchikey on Compound Structures - continue\")\n",
    "            NoInchi_ctr +=1\n",
    "            continue\n",
    "        \n",
    "        df.at[comp.Index,'chembl_id'] = mol[0]['molecule_chembl_id']\n",
    "        df.at[comp.Index,'standard_inchi'] =  mol[0]['molecule_structures']['standard_inchi']\n",
    "        Found_ctr +=1\n",
    "            \n",
    "#         df_sql = pd.read_sql(f\"SELECT  standard_inchi, chembl_id  FROM  chembl_32.compound_structures as a, \" \\\n",
    "#                                 \"      chembl_32.molecule_dictionary as b  \" \\\n",
    "#                                f\"where standard_inchi_key = '{comp.InChIKey}' and a.molregno = b.molregno\", con = conn)\n",
    "\n",
    "#       print(df_sql.shape, ' -' , comp['InChIKey'])\n",
    "#         mol1 =inchi.MolFromInchi(mol[0]['molecule_structures']['standard_inchi'])\n",
    "#         fp1 = AllChem.GetMorganFingerprint(mol1, nMorgan).GetNonzeroElements()        \n",
    "        print(f\" index: {comp.Index}  inchikey: {comp.InChIKey} - chemblId: {mol[0]['molecule_chembl_id']} Inchi: {(mol[0]['molecule_structures']['standard_inchi'][:50])}....  \")\n",
    "#         print(df.loc[comp.Index])\n",
    "        \n",
    "    print('\\n')    \n",
    "    print(f\" rows with missing InChiKey in input                 : {NoInchiKey_ctr}\")\n",
    "    print(f\" rows with missing InChi on Compound Structure table : {NoInchi_ctr}\")\n",
    "    print(f\" rows with with valid Chembl_id and InChi            : {Found_ctr} \\n\")\n",
    "    print(f\"                                               Total : {NoInchiKey_ctr + NoInchi_ctr + Found_ctr} \\n\\n\") "
   ]
  },
  {
   "cell_type": "code",
   "execution_count": 14,
   "id": "1a30097c",
   "metadata": {
    "ExecuteTime": {
     "end_time": "2023-04-12T10:30:04.854105Z",
     "start_time": "2023-04-12T10:30:04.830789Z"
    }
   },
   "outputs": [
    {
     "name": "stdout",
     "output_type": "stream",
     "text": [
      "<class 'pandas.core.frame.DataFrame'>\n",
      "RangeIndex: 307 entries, 0 to 306\n",
      "Data columns (total 8 columns):\n",
      " #   Column        Non-Null Count  Dtype  \n",
      "---  ------        --------------  -----  \n",
      " 0   broad_sample  306 non-null    object \n",
      " 1   InChIKey      307 non-null    object \n",
      " 2   pert_iname    307 non-null    object \n",
      " 3   pubchem_cid   297 non-null    float64\n",
      " 4   target        306 non-null    object \n",
      " 5   pert_type     307 non-null    object \n",
      " 6   control_type  47 non-null     object \n",
      " 7   smiles        307 non-null    object \n",
      "dtypes: float64(1), object(7)\n",
      "memory usage: 19.3+ KB\n",
      "None\n"
     ]
    },
    {
     "data": {
      "text/html": [
       "<div>\n",
       "<style scoped>\n",
       "    .dataframe tbody tr th:only-of-type {\n",
       "        vertical-align: middle;\n",
       "    }\n",
       "\n",
       "    .dataframe tbody tr th {\n",
       "        vertical-align: top;\n",
       "    }\n",
       "\n",
       "    .dataframe thead th {\n",
       "        text-align: right;\n",
       "    }\n",
       "</style>\n",
       "<table border=\"1\" class=\"dataframe\">\n",
       "  <thead>\n",
       "    <tr style=\"text-align: right;\">\n",
       "      <th></th>\n",
       "      <th>broad_sample</th>\n",
       "      <th>InChIKey</th>\n",
       "      <th>pert_iname</th>\n",
       "      <th>pubchem_cid</th>\n",
       "      <th>target</th>\n",
       "      <th>pert_type</th>\n",
       "      <th>control_type</th>\n",
       "      <th>smiles</th>\n",
       "    </tr>\n",
       "  </thead>\n",
       "  <tbody>\n",
       "    <tr>\n",
       "      <th>0</th>\n",
       "      <td>BRD-K09338665-001-07-1</td>\n",
       "      <td>KBPLFHHGFOOTCA-UHFFFAOYSA-N</td>\n",
       "      <td>1-octanol</td>\n",
       "      <td>957.0</td>\n",
       "      <td>GJB4</td>\n",
       "      <td>trt</td>\n",
       "      <td>NaN</td>\n",
       "      <td>CCCCCCCCO</td>\n",
       "    </tr>\n",
       "    <tr>\n",
       "      <th>1</th>\n",
       "      <td>BRD-K48278478-001-01-2</td>\n",
       "      <td>LOUPRKONTZGTKE-AFHBHXEDSA-N</td>\n",
       "      <td>quinine</td>\n",
       "      <td>94175.0</td>\n",
       "      <td>KCNN4</td>\n",
       "      <td>trt</td>\n",
       "      <td>NaN</td>\n",
       "      <td>COc1ccc2nccc([C@@H](O)[C@H]3C[C@@H]4CC[N@]3C[C...</td>\n",
       "    </tr>\n",
       "    <tr>\n",
       "      <th>2</th>\n",
       "      <td>BRD-A85242401-001-12-3</td>\n",
       "      <td>KRGQEOSDQHTZMX-IGCYCDGOSA-N</td>\n",
       "      <td>ascorbic-acid</td>\n",
       "      <td>9888239.0</td>\n",
       "      <td>P3H1</td>\n",
       "      <td>trt</td>\n",
       "      <td>NaN</td>\n",
       "      <td>OC[C@H](O)[C@H]1OC(=O)C(=O)C1O</td>\n",
       "    </tr>\n",
       "    <tr>\n",
       "      <th>3</th>\n",
       "      <td>BRD-K93632104-001-17-2</td>\n",
       "      <td>YGSDEFSMJLZEOE-UHFFFAOYSA-N</td>\n",
       "      <td>salicylic-acid</td>\n",
       "      <td>118212070.0</td>\n",
       "      <td>AKR1C1</td>\n",
       "      <td>trt</td>\n",
       "      <td>NaN</td>\n",
       "      <td>OC(=O)c1ccccc1O</td>\n",
       "    </tr>\n",
       "    <tr>\n",
       "      <th>4</th>\n",
       "      <td>BRD-K57313110-001-06-8</td>\n",
       "      <td>ODHCTXKNWHHXJC-VKHMYHEASA-N</td>\n",
       "      <td>pidolic-acid</td>\n",
       "      <td>7405.0</td>\n",
       "      <td>VEGFA</td>\n",
       "      <td>trt</td>\n",
       "      <td>NaN</td>\n",
       "      <td>OC(=O)[C@@H]1CCC(=O)N1</td>\n",
       "    </tr>\n",
       "  </tbody>\n",
       "</table>\n",
       "</div>"
      ],
      "text/plain": [
       "             broad_sample                     InChIKey      pert_iname  pubchem_cid  target pert_type control_type   \n",
       "0  BRD-K09338665-001-07-1  KBPLFHHGFOOTCA-UHFFFAOYSA-N       1-octanol        957.0    GJB4       trt          NaN  \\\n",
       "1  BRD-K48278478-001-01-2  LOUPRKONTZGTKE-AFHBHXEDSA-N         quinine      94175.0   KCNN4       trt          NaN   \n",
       "2  BRD-A85242401-001-12-3  KRGQEOSDQHTZMX-IGCYCDGOSA-N   ascorbic-acid    9888239.0    P3H1       trt          NaN   \n",
       "3  BRD-K93632104-001-17-2  YGSDEFSMJLZEOE-UHFFFAOYSA-N  salicylic-acid  118212070.0  AKR1C1       trt          NaN   \n",
       "4  BRD-K57313110-001-06-8  ODHCTXKNWHHXJC-VKHMYHEASA-N    pidolic-acid       7405.0   VEGFA       trt          NaN   \n",
       "\n",
       "                                              smiles  \n",
       "0                                          CCCCCCCCO  \n",
       "1  COc1ccc2nccc([C@@H](O)[C@H]3C[C@@H]4CC[N@]3C[C...  \n",
       "2                     OC[C@H](O)[C@H]1OC(=O)C(=O)C1O  \n",
       "3                                    OC(=O)c1ccccc1O  \n",
       "4                             OC(=O)[C@@H]1CCC(=O)N1  "
      ]
     },
     "execution_count": 14,
     "metadata": {},
     "output_type": "execute_result"
    }
   ],
   "source": [
    "# df = pd.read_csv('JUMP-MOA_compound_metadata.tsv', delimiter='\\t')\n",
    "# df = pd.read_csv('JUMP-Target-1_compound_metadata.tsv', delimiter='\\t')\n",
    "df = pd.read_csv('JUMP-Target-2_compound_metadata.tsv', delimiter='\\t')\n",
    "print(df.info())\n",
    "df.head(5)"
   ]
  },
  {
   "cell_type": "code",
   "execution_count": 15,
   "id": "a7ae4698",
   "metadata": {
    "ExecuteTime": {
     "end_time": "2023-04-12T10:30:07.529948Z",
     "start_time": "2023-04-12T10:30:07.514176Z"
    }
   },
   "outputs": [],
   "source": [
    "# df['chembl_id'] = None\n",
    "# df['standard_inchi'] = None\n",
    "# df.head(10)"
   ]
  },
  {
   "cell_type": "code",
   "execution_count": 16,
   "id": "814c053b",
   "metadata": {
    "ExecuteTime": {
     "end_time": "2023-04-12T10:30:08.961789Z",
     "start_time": "2023-04-12T10:30:08.949191Z"
    }
   },
   "outputs": [
    {
     "data": {
      "text/plain": [
       "307"
      ]
     },
     "execution_count": 16,
     "metadata": {},
     "output_type": "execute_result"
    }
   ],
   "source": [
    "len(df.index)"
   ]
  },
  {
   "cell_type": "code",
   "execution_count": 17,
   "id": "f1ef75d5",
   "metadata": {
    "ExecuteTime": {
     "end_time": "2023-04-12T10:30:13.680204Z",
     "start_time": "2023-04-12T10:30:13.102256Z"
    },
    "scrolled": true
   },
   "outputs": [
    {
     "name": "stdout",
     "output_type": "stream",
     "text": [
      " Add chembl_id column\n",
      " Add standard_inchi column\n",
      " index: 0  inchikey: KBPLFHHGFOOTCA-UHFFFAOYSA-N - chemblId: CHEMBL26215 Inchi: InChI=1S/C8H18O/c1-2-3-4-5-6-7-8-9/h9H,2-8H2,1H3....  \n",
      " index: 1  inchikey: LOUPRKONTZGTKE-AFHBHXEDSA-N - chemblId: CHEMBL576997 Inchi: InChI=1S/C20H24N2O2/c1-3-13-12-22-9-7-14(13)10-19(....  \n",
      " ctr: 3   idx: 2   inchikey: KRGQEOSDQHTZMX-IGCYCDGOSA-N \t No row found for inchikey on Compound Structures - continue\n",
      " index: 3  inchikey: YGSDEFSMJLZEOE-UHFFFAOYSA-N - chemblId: CHEMBL424 Inchi: InChI=1S/C7H6O3/c8-6-4-2-1-3-5(6)7(9)10/h1-4,8H,(H....  \n",
      " index: 4  inchikey: ODHCTXKNWHHXJC-VKHMYHEASA-N - chemblId: CHEMBL397976 Inchi: InChI=1S/C5H7NO3/c7-4-2-1-3(6-4)5(8)9/h3H,1-2H2,(H....  \n",
      " index: 5  inchikey: WPEWQEMJFLWMLV-UHFFFAOYSA-N - chemblId: CHEMBL3186534 Inchi: InChI=1S/C24H23N5O/c25-17-24(11-1-2-12-24)19-5-7-2....  \n",
      " index: 6  inchikey: LPEPZBJOKDYZAD-UHFFFAOYSA-N - chemblId: CHEMBL23588 Inchi: InChI=1S/C14H10F3NO2/c15-14(16,17)9-4-3-5-10(8-9)1....  \n",
      " index: 7  inchikey: CYYNMPPFEJPBJD-OAQYLSRUSA-N - chemblId: CHEMBL481512 Inchi: InChI=1S/C26H40N4/c1-26(15-7-3-2-4-8-16-26)29-18-1....  \n",
      " index: 8  inchikey: PWKSKIMOESPYIA-BYPYZUCNSA-N - chemblId: CHEMBL600 Inchi: InChI=1S/C5H9NO3S/c1-3(7)6-4(2-10)5(8)9/h4,10H,2H2....  \n",
      " index: 9  inchikey: DJKJVWJQAVGLHJ-YPMHNXCESA-N - chemblId: CHEMBL519240 Inchi: InChI=1S/C18H25N5O/c19-18-21-16-12(17(22-18)23-9-7....  \n",
      " index: 10  inchikey: NSFFHOGKXHRQEW-DVRIZHICSA-N - chemblId: CHEMBL410968 Inchi: InChI=1S/C72H85N19O18S5/c1-14-26(3)47-63(105)78-30....  \n",
      " index: 11  inchikey: AZYDQCGCBQYFSE-UHFFFAOYSA-N - chemblId: CHEMBL610463 Inchi: InChI=1S/C14H15ClN2OS/c1-9(2)12(10-3-5-11(15)6-4-1....  \n",
      " index: 12  inchikey: XEYBRNLFEZDVAW-ARSRFYASSA-N - chemblId: CHEMBL548 Inchi: InChI=1S/C20H32O5/c1-2-3-6-9-15(21)12-13-17-16(18(....  \n",
      " index: 13  inchikey: RNSLRQNDXRSASX-UHFFFAOYSA-N - chemblId: CHEMBL1368758 Inchi: InChI=1S/C17H19Cl2N7O/c1-8(2)11-7-14(22-16-15(11)9....  \n",
      " index: 14  inchikey: FERIUCNNQQJTOY-UHFFFAOYSA-N - chemblId: CHEMBL14227 Inchi: InChI=1S/C4H8O2/c1-2-3-4(5)6/h2-3H2,1H3,(H,5,6)....  \n",
      " index: 15  inchikey: WLBUICQBNZXIDJ-UHFFFAOYSA-N - chemblId: CHEMBL179945 Inchi: InChI=1S/C20H16N4O2S2/c21-23-16(25)12-28-20-22-18-....  \n",
      " index: 16  inchikey: LEVWYRKDKASIDU-UHFFFAOYSA-N - chemblId: CHEMBL366563 Inchi: InChI=1S/C6H12N2O4S2/c7-3(5(9)10)1-13-14-2-4(8)6(1....  \n",
      " index: 17  inchikey: NQDJXKOVJZTUJA-UHFFFAOYSA-N - chemblId: CHEMBL57 Inchi: InChI=1S/C15H14N4O/c1-9-6-8-17-14-12(9)18-15(20)11....  \n",
      " index: 18  inchikey: NUIKTBLZSPQGCP-UHFFFAOYSA-N - chemblId: CHEMBL3922179 Inchi: InChI=1S/C23H27N3O4/c1-3-28-20-11-8-15(14-21(20)29....  \n",
      " index: 19  inchikey: HJYYPODYNSCCOU-ODRIEIDWSA-N - chemblId: CHEMBL437765 Inchi: InChI=1S/C37H47NO12/c1-16-11-10-12-17(2)36(46)38-2....  \n",
      " index: 20  inchikey: JUUFBMODXQKSTD-UHFFFAOYSA-N - chemblId: CHEMBL255044 Inchi: InChI=1S/C15H17FN4O2/c1-2-22-15(21)19-12-7-8-13(20....  \n",
      " index: 21  inchikey: ZIUDADZJCKGWKR-AREMUKBSSA-N - chemblId: CHEMBL3287218 Inchi: InChI=1S/C29H32N6OS/c1-19-11-25(31-18-30-19)22-3-5....  \n",
      " ctr: 23   idx: 22   inchikey: LLPBUXODFQZPFH-UHFFFAOYSA-N \t No row found for inchikey on Compound Structures - continue\n",
      " index: 23  inchikey: NVRXTLZYXZNATH-UHFFFAOYSA-N - chemblId: CHEMBL1081312 Inchi: InChI=1S/C17H17N7/c18-15-13-14(11-7-10-5-6-19-16(1....  \n",
      " index: 24  inchikey: VDQLKIBLTMPAHI-UHFFFAOYSA-N - chemblId: CHEMBL353187 Inchi: InChI=1S/C10H12O3/c1-6(2)10(13)7-3-4-8(11)9(12)5-7....  \n",
      " index: 25  inchikey: ZVPDNRVYHLRXLX-UHFFFAOYSA-N - chemblId: CHEMBL306380 Inchi: InChI=1S/C16H19N5/c1-10-5-7-11(8-6-10)13-12-14(17)....  \n",
      " index: 26  inchikey: CVOUSAVHMDXCKG-UHFFFAOYSA-N - chemblId: CHEMBL499968 Inchi: InChI=1S/C8H4Cl2N2O2/c9-4-2-1-3-6(5(4)10)11-8(13)7....  \n",
      " index: 27  inchikey: YYOOFJZTRCPVFD-UHFFFAOYSA-N - chemblId: CHEMBL4303226 Inchi: InChI=1S/C24H19NO7S/c1-33(29,30)25-18-7-5-16(6-8-1....  \n",
      " index: 28  inchikey: PDMUULPVBYQBBK-UHFFFAOYSA-N - chemblId: CHEMBL18701 Inchi: InChI=1S/C15H22N2O3/c1-3-4-7-20-14-9-11(5-6-13(14)....  \n",
      " index: 29  inchikey: RQVGFDBMONQTBC-UHFFFAOYSA-N - chemblId: CHEMBL2180603 Inchi: InChI=1S/C13H12N4O2S2/c1-7-16-17-13(20-7)21-12-8-4....  \n",
      " index: 30  inchikey: WGZOTBUYUFBEPZ-UHFFFAOYSA-N - chemblId: CHEMBL226838 Inchi: InChI=1S/C20H21N3O2/c1-12-6-5-7-14(21-12)18-17(22-....  \n",
      " index: 31  inchikey: CMSMOCZEIVJLDB-UHFFFAOYSA-N - chemblId: CHEMBL88 Inchi: InChI=1S/C7H15Cl2N2O2P/c8-2-5-11(6-3-9)14(12)10-4-....  \n",
      " index: 32  inchikey: HFYPTENHTPNXGP-UHFFFAOYSA-N - chemblId: CHEMBL604677 Inchi: InChI=1S/C21H12N2O7/c24-19-17-9-4-12(21(26)27)10-1....  \n",
      " index: 33  inchikey: CXUCKELNYMZTRT-UHFFFAOYSA-N - chemblId: CHEMBL452887 Inchi: InChI=1S/C9H10N2O/c1-2-11-8-6-4-3-5-7(8)10-9(11)12....  \n",
      " ctr: 35   idx: 34   inchikey: FMYGNANMYYHBSU-UHFFFAOYSA-N \t No row found for inchikey on Compound Structures - continue\n",
      " index: 35  inchikey: NZHGWWWHIYHZNX-CSKARUKUSA-N - chemblId: CHEMBL415324 Inchi: InChI=1S/C18H17NO5/c1-23-15-9-7-12(11-16(15)24-2)8....  \n",
      " index: 36  inchikey: CDJNNOJINJAXPV-UHFFFAOYSA-N - chemblId: CHEMBL4303384 Inchi: InChI=1S/C26H26F3N7O2/c1-17-14-22(25-31-24(33-38-2....  \n",
      " index: 37  inchikey: NUKYPUAOHBNCPY-UHFFFAOYSA-N - chemblId: CHEMBL284348 Inchi: InChI=1S/C5H6N2/c6-5-1-3-7-4-2-5/h1-4H,(H2,6,7)....  \n",
      " index: 38  inchikey: HCRKCZRJWPKOAR-JTQLQIEISA-N - chemblId: CHEMBL220491 Inchi: InChI=1S/C12H21N3O5S3/c1-3-14-10-8-15(5-4-6-20-2)2....  \n",
      " index: 39  inchikey: ZWVZORIKUNOTCS-OAQYLSRUSA-N - chemblId: CHEMBL401930 Inchi: InChI=1S/C25H26ClN5O3/c1-15-11-18(31-7-9-34-10-8-3....  \n",
      " index: 40  inchikey: KXDROGADUISDGY-UHFFFAOYSA-N - chemblId: CHEMBL212579 Inchi: InChI=1S/C13H14ClN7O/c14-9-11(16)20-10(15)8(19-9)1....  \n",
      " index: 41  inchikey: MNYJJHBAEYKXEG-UHFFFAOYSA-N - chemblId: CHEMBL1822336 Inchi: InChI=1S/C21H20N4O/c1-2-7-17(8-3-1)10-11-19-21(26-....  \n",
      " index: 42  inchikey: PHSPJQZRQAJPPF-UHFFFAOYSA-N - chemblId: CHEMBL268490 Inchi: InChI=1S/C6H11N3/c1-7-3-2-6-4-8-5-9-6/h4-5,7H,2-3H....  \n",
      " index: 43  inchikey: QTQAWLPCGQOSGP-PHLMVCJGSA-N - chemblId: CHEMBL4303630 Inchi: InChI=1S/C29H40N2O9/c1-15-11-19-25(34)20(14-21(32)....  \n",
      " index: 44  inchikey: XQYASZNUFDVMFH-CQSZACIVSA-N - chemblId: CHEMBL232656 Inchi: InChI=1S/C21H24ClFN4O3/c1-14-11-26(12-15-2-5-17(23....  \n",
      " index: 45  inchikey: XRVDGNKRPOAQTN-FQEVSTJZSA-N - chemblId: CHEMBL3707247 Inchi: InChI=1S/C23H24N4O3/c1-14(2)29-21-9-6-15(12-16(21)....  \n",
      " index: 46  inchikey: PBBRWFOVCUAONR-UHFFFAOYSA-N - chemblId: CHEMBL406845 Inchi: InChI=1S/C15H16ClN5/c1-15(2,3)21-14-11(13(17)18-8-....  \n",
      " index: 47  inchikey: NCEXYHBECQHGNR-QZQOTICOSA-N - chemblId: CHEMBL421 Inchi: InChI=1S/C18H14N4O5S/c23-16-9-6-13(11-15(16)18(24)....  \n",
      " index: 48  inchikey: PIMZUZSSNYHVCU-KBLUICEQSA-N - chemblId: CHEMBL2135566 Inchi: InChI=1S/C15H16O6/c1-5(2)7-8-11(16)19-9(7)10-13(3)....  \n",
      " index: 49  inchikey: TXZPMHLMPKIUGK-UHFFFAOYSA-N - chemblId: CHEMBL2179387 Inchi: InChI=1S/C16H17N3O4S/c1-19-10-11-9-12(7-8-13(11)17....  \n",
      " index: 50  inchikey: GCUCIFQCGJIRNT-UHFFFAOYSA-N - chemblId: CHEMBL63055 Inchi: InChI=1S/C14H9NO4/c16-11(17)7-15-13(18)9-5-1-3-8-4....  \n",
      " index: 51  inchikey: VXBAJLGYBMTJCY-NSCUHMNNSA-N - chemblId: CHEMBL1944698 Inchi: InChI=1S/C23H24N4O/c1-27-13-3-2-4-14-28-21-10-6-8-....  \n",
      " index: 52  inchikey: JVCWPUFNLFSKFS-UHFFFAOYSA-N - chemblId: CHEMBL2206278 Inchi: InChI=1S/C31H42N6O4/c1-9-37-30(5,6)17-23(18-31(37,....  \n",
      " index: 53  inchikey: MJSHVHLADKXCML-RQNOJGIXSA-N - chemblId: CHEMBL3326006 Inchi: InChI=1S/C28H40N6O/c1-3-4-13-29-28-30-18-25-26(20-....  \n",
      " index: 54  inchikey: QUIIIYITNGOFEI-UHFFFAOYSA-N - chemblId: CHEMBL1917204 Inchi: InChI=1S/C16H13FN2O2S/c1-11-2-8-14(9-3-11)19-15(20....  \n",
      " index: 55  inchikey: CXJCGSPAPOTTSF-VURMDHGXSA-N - chemblId: CHEMBL1236620 Inchi: InChI=1S/C15H13Cl2N3O2/c1-3-22-15(21)14-11(8(6-18)....  \n",
      " index: 56  inchikey: ZQPXNYLXYNRFNP-UHFFFAOYSA-N - chemblId: CHEMBL2146753 Inchi: InChI=1S/C16H12N6O5/c23-21(24)9-1-3-11-13(5-9)19-1....  \n",
      " index: 57  inchikey: TXUZVZSFRXZGTL-QPLCGJKRSA-N - chemblId: CHEMBL489 Inchi: InChI=1S/C26H29NO2/c1-4-25(20-8-6-5-7-9-20)26(21-1....  \n",
      " index: 58  inchikey: ZJMDTBBCNMGFMS-SAPNQHFASA-N - chemblId: CHEMBL2030550 Inchi: InChI=1S/C20H20BrN3/c1-23-10-12-24(13-11-23)18-8-6....  \n",
      " index: 59  inchikey: MAASHDQFQDDECQ-UHFFFAOYSA-N - chemblId: CHEMBL429095 Inchi: InChI=1S/C14H14O4S2/c15-5-7-19-13-11(17)9-3-1-2-4-....  \n",
      " index: 60  inchikey: JFUIMTGOQCQTPF-UHFFFAOYSA-N - chemblId: CHEMBL598608 Inchi: InChI=1S/C15H12ClF3N2O3S/c16-12-4-1-10(2-5-12)14(2....  \n",
      " index: 61  inchikey: VFSVKVQMZDJFQX-NBVRZTHBSA-N - chemblId: CHEMBL1476646 Inchi: InChI=1S/C26H18N4O2S/c1-16-7-5-9-19(13-16)32-24-20....  \n",
      " index: 62  inchikey: RAMROQQYRRQPDL-HNNXBMFYSA-N - chemblId: CHEMBL286721 Inchi: InChI=1S/C19H26ClN7O/c1-10(2)15(8-28)24-19-25-17(2....  \n",
      " index: 63  inchikey: KFAKESMKRPNZTM-UHFFFAOYSA-N - chemblId: CHEMBL1331734 Inchi: InChI=1S/C15H13NO2S/c1-17-11-7-8-12(18-2)14-13(11)....  \n",
      " index: 64  inchikey: HTIQEAQVCYTUBX-UHFFFAOYSA-N - chemblId: CHEMBL1491 Inchi: InChI=1S/C20H25ClN2O5/c1-4-28-20(25)18-15(11-27-10....  \n",
      " index: 65  inchikey: ZJVFLBOZORBYFE-UHFFFAOYSA-N - chemblId: CHEMBL19449 Inchi: InChI=1S/C14H18N2O/c1-9(2)13-12(14(17)10(3)4)11-7-....  \n",
      " index: 66  inchikey: LXENKEWVEVKKGV-BQYQJAHWSA-N - chemblId: CHEMBL1206245 Inchi: InChI=1S/C19H23O10PS/c1-25-14-10-17(27-3)15(18(11-....  \n",
      " index: 67  inchikey: BOFQWVMAQOTZIW-UHFFFAOYSA-N - chemblId: CHEMBL550348 Inchi: InChI=1S/C21H15N3O4/c25-17-7-3-1-5-15(17)19-22-20(....  \n",
      " index: 68  inchikey: HUXYBQXJVXOMKX-UHFFFAOYSA-N - chemblId: CHEMBL1230607 Inchi: InChI=1S/C19H31N5O2/c1-12(2)10-15(25)20-17-14-11-2....  \n",
      " index: 69  inchikey: XQVVPGYIWAGRNI-JOCHJYFZSA-N - chemblId: CHEMBL513909 Inchi: InChI=1S/C28H39N7O3/c1-5-22-27(37)34(3)23-17-29-28....  \n",
      " index: 70  inchikey: BMKPVDQDJQWBPD-UHFFFAOYSA-N - chemblId: CHEMBL337173 Inchi: InChI=1S/C15H16ClN3O3/c16-11-13(18-4-5-19-6-8-22-9....  \n",
      " index: 71  inchikey: QXRSDHAAWVKZLJ-AXCXJGFASA-N - chemblId: CHEMBL4303268 Inchi: InChI=1S/C27H41NO6S/c1-15-9-8-10-27(7)22(34-27)12-....  \n",
      " index: 72  inchikey: IAYGCINLNONXHY-LBPRGKRZSA-N - chemblId: CHEMBL2041933 Inchi: InChI=1S/C17H19FN4O2S/c18-11-4-1-3-10(7-11)14-8-13....  \n",
      " index: 73  inchikey: BCZUAADEACICHN-UHFFFAOYSA-N - chemblId: CHEMBL1236107 Inchi: InChI=1S/C18H13N7S/c1-24-11-13(10-20-24)16-6-7-17-....  \n",
      " index: 74  inchikey: RVAQIUULWULRNW-UHFFFAOYSA-N - chemblId: CHEMBL2103879 Inchi: InChI=1S/C20H20N4O3/c1-11(2)14-9-15(18(26)10-17(14....  \n",
      " index: 75  inchikey: CWHUFRVAEUJCEF-UHFFFAOYSA-N - chemblId: CHEMBL2017974 Inchi: InChI=1S/C18H21F3N6O2/c19-18(20,21)13-9-15(22)23-1....  \n",
      " index: 76  inchikey: VUIRVWPJNKZOSS-UHFFFAOYSA-N - chemblId: CHEMBL3182437 Inchi: InChI=1S/C23H24N6/c1-16(2)20-6-4-5-7-21(20)23-24-1....  \n",
      " index: 77  inchikey: KPBNHDGDUADAGP-VAWYXSNFSA-N - chemblId: CHEMBL566757 Inchi: InChI=1S/C24H29N3O2/c28-23(12-11-21-8-6-15-25-19-2....  \n",
      " index: 78  inchikey: WYWHKKSPHMUBEB-UHFFFAOYSA-N - chemblId: CHEMBL727 Inchi: InChI=1S/C5H5N5S/c6-5-9-3-2(4(11)10-5)7-1-8-3/h1H,....  \n",
      " index: 79  inchikey: XNOPRXBHLZRZKH-DSZYJQQASA-N - chemblId: CHEMBL395429 Inchi: InChI=1S/C43H66N12O12S2/c1-5-22(4)35-42(66)49-26(1....  \n",
      " index: 80  inchikey: UGYXPZQILZRKJJ-UHFFFAOYSA-N - chemblId: CHEMBL275443 Inchi: InChI=1S/C6H11N3/c1-5-6(2-3-7)9-4-8-5/h4H,2-3,7H2,....  \n",
      " index: 81  inchikey: UMUPQWIGCOZEOY-JOCHJYFZSA-N - chemblId: CHEMBL13817 Inchi: InChI=1S/C27H36N4O5S/c1-26(2,28)25(33)29-22(18-36-....  \n",
      " index: 82  inchikey: DMWVGXGXHPOEPT-UHFFFAOYSA-N - chemblId: CHEMBL97771 Inchi: InChI=1S/C22H19N3O3/c1-26-20-12-18-19(13-21(20)27-....  \n",
      " index: 83  inchikey: QFWCYNPOPKQOKV-UHFFFAOYSA-N - chemblId: CHEMBL35482 Inchi: InChI=1S/C16H13NO3/c1-19-14-8-4-6-11(16(14)17)15-9....  \n",
      " index: 84  inchikey: RZTAMFZIAATZDJ-UHFFFAOYSA-N - chemblId: CHEMBL1480 Inchi: InChI=1S/C18H19Cl2NO4/c1-5-25-18(23)14-10(3)21-9(2....  \n"
     ]
    },
    {
     "name": "stdout",
     "output_type": "stream",
     "text": [
      " index: 85  inchikey: QIHBWVVVRYYYRO-ZDUSSCGKSA-N - chemblId: CHEMBL3092537 Inchi: InChI=1S/C19H19N3O2/c1-13(14-7-3-2-4-8-14)20-18(23....  \n",
      " index: 86  inchikey: HGVDHZBSSITLCT-KMFMINBZSA-N - chemblId: CHEMBL4303203 Inchi: InChI=1S/C24H30ClN7O4S/c1-31(2)24(36)13-4-6-15(27-....  \n",
      " index: 87  inchikey: OJLOPKGSLYJEMD-URPKTTJQSA-N - chemblId: CHEMBL606 Inchi: InChI=1S/C22H38O5/c1-4-5-14-22(2,26)15-10-12-18-17....  \n",
      " index: 88  inchikey: HYFHYPWGAURHIV-JFIAXGOJSA-N - chemblId: CHEMBL46286 Inchi: InChI=1S/C29H39NO9/c1-27(2,33)8-5-10-29(34,16-23(3....  \n",
      " index: 89  inchikey: XXRCUYVCPSWGCC-UHFFFAOYSA-N - chemblId: CHEMBL173373 Inchi: InChI=1S/C5H8O3/c1-3-8-5(7)4(2)6/h3H2,1-2H3....  \n",
      " index: 90  inchikey: LLVZBTWPGQVVLW-SNAWJCMRSA-N - chemblId: CHEMBL483321 Inchi: InChI=1S/C27H27N5O3/c1-18-13-21(8-11-25(18)35-22-9....  \n",
      " index: 91  inchikey: FHPOTBQOUBMMCI-UHFFFAOYSA-N - chemblId: CHEMBL1720563 Inchi: InChI=1S/C14H11Cl3FNO2/c15-9-1-3-12(11(16)7-9)20-5....  \n",
      " index: 92  inchikey: SQMWSBKSHWARHU-SDBHATRESA-N - chemblId: CHEMBL68738 Inchi: InChI=1S/C15H21N5O4/c21-5-9-11(22)12(23)15(24-9)20....  \n",
      " index: 93  inchikey: GYYRMJMXXLJZAB-UHFFFAOYSA-N - chemblId: CHEMBL9540 Inchi: InChI=1S/C19H23N3O/c1-14(2)23-18-9-5-16(6-10-18)13....  \n",
      " index: 94  inchikey: QNQZWEGMKJBHEM-UHFFFAOYSA-N - chemblId: CHEMBL3617964 Inchi: InChI=1S/C25H22F3N5O4S/c1-15-20(22-9-10-31-32(22)2....  \n",
      " index: 95  inchikey: GDVRVPIXWXOKQO-UHFFFAOYSA-N - chemblId: CHEMBL3218011 Inchi: InChI=1S/C16H14N4O2S/c21-13-3-1-2-11(8-13)9-18-15(....  \n",
      " index: 96  inchikey: KJNNWYBAOPXVJY-UHFFFAOYSA-N - chemblId: CHEMBL3989929 Inchi: InChI=1S/C32H38ClN3O2/c1-4-7-9-32-34-31(25-10-16-2....  \n",
      " index: 97  inchikey: UZDORQWMYRRLQV-JHOUSYSJSA-N - chemblId: CHEMBL72410 Inchi: InChI=1S/C36H35N3O4/c1-23-17-24(2)19-28(18-23)35(4....  \n",
      " index: 98  inchikey: RRGUKTPIGVIEKM-UHFFFAOYSA-N - chemblId: CHEMBL799 Inchi: InChI=1S/C20H27N5O2/c26-20-12-9-15-14-17(10-11-18(....  \n",
      " index: 99  inchikey: FNYLWPVRPXGIIP-UHFFFAOYSA-N - chemblId: CHEMBL585 Inchi: InChI=1S/C12H11N7/c13-9-7(6-4-2-1-3-5-6)16-8-10(14....  \n",
      " index: 100  inchikey: LENZDBCJOHFCAS-UHFFFAOYSA-N - chemblId: CHEMBL1200391 Inchi: InChI=1S/C4H11NO3/c5-4(1-6,2-7)3-8/h6-8H,1-3,5H2....  \n",
      " index: 101  inchikey: BNFRJXLZYUTIII-UHFFFAOYSA-N - chemblId: CHEMBL18901 Inchi: InChI=1S/C20H23NO4/c1-13-9-14(2)11-16(10-13)21-18(....  \n",
      " index: 102  inchikey: PMXMIIMHBWHSKN-UHFFFAOYSA-N - chemblId: CHEMBL1621 Inchi: InChI=1S/C23H27FN4O3/c1-14-17(23(30)28-9-2-3-19(29....  \n",
      " index: 103  inchikey: SRVFFFJZQVENJC-IHRRRGAJSA-N - chemblId: CHEMBL63440 Inchi: InChI=1S/C17H30N2O5/c1-6-23-17(22)14-13(24-14)16(2....  \n",
      " index: 104  inchikey: PFHDWRIVDDIFRP-UHFFFAOYSA-N - chemblId: CHEMBL3414574 Inchi: InChI=1S/C23H26N4O2/c1-5-17(6-2)27-8-7-18-19(10-16....  \n",
      " index: 105  inchikey: XDFKWGIBQMHSOH-UHFFFAOYSA-N - chemblId: CHEMBL4075936 Inchi: InChI=1S/C20H22ClNO/c21-18-13-11-17(12-14-18)20(23....  \n",
      " index: 106  inchikey: LPAHKJMGDSJDRG-DJYQTOCQSA-N - chemblId: CHEMBL1741040 Inchi: InChI=1S/C34H51N5O7/c1-8-9-16-25(31(42)43)35-29(40....  \n",
      " index: 107  inchikey: MTJHLONVHHPNSI-IBGZPJMESA-N - chemblId: CHEMBL552212 Inchi: InChI=1S/C24H30N6O2/c1-5-8-19(18-9-7-12-25-15-18)2....  \n",
      " index: 108  inchikey: RAOCRURYZCVHMG-UHFFFAOYSA-N - chemblId: CHEMBL1087630 Inchi: InChI=1S/C12H15N3O3/c1-3-6-18-8-4-5-9-10(7-8)14-11....  \n",
      " index: 109  inchikey: BGVLELSCIHASRV-QPEQYQDCSA-N - chemblId: CHEMBL408982 Inchi: InChI=1S/C13H15NO2S/c1-4-14-11-8-10(16-3)5-6-12(11....  \n",
      " index: 110  inchikey: WXXSNCNJFUAIDG-UHFFFAOYSA-N - chemblId: CHEMBL2107834 Inchi: InChI=1S/C20H19FN8O2/c1-28(20(30)31-2)15-16(22)25-....  \n",
      " index: 111  inchikey: NQQBNZBOOHHVQP-UHFFFAOYSA-N - chemblId: CHEMBL510038 Inchi: InChI=1S/C5H3N5O2S3/c6-3-8-9-5(14-3)15-4-7-1-2(13-....  \n",
      " index: 112  inchikey: IBAQFPQHRJAVAV-WMEPKMGJSA-N - chemblId: CHEMBL3039370 Inchi: InChI=1S/C8H17NO5/c10-2-1-9-3-6(12)8(14)7(13)5(9)4....  \n",
      " index: 113  inchikey: KOCVKGYKBLJEPK-LYBHJNIJSA-N - chemblId: CHEMBL3417395 Inchi: InChI=1S/C21H19N5O2S/c1-3-28-18-12-8-7-11-16(18)23....  \n",
      " index: 114  inchikey: IAKHMKGGTNLKSZ-INIZCTEOSA-N - chemblId: CHEMBL107 Inchi: InChI=1S/C22H25NO6/c1-12(24)23-16-8-6-13-10-19(27-....  \n",
      " index: 115  inchikey: ODUOJXZPIYUATO-UHFFFAOYSA-N - chemblId: CHEMBL2103772 Inchi: InChI=1S/C21H23NO4S/c1-16(23)27-15-19(12-17-8-4-2-....  \n",
      " index: 116  inchikey: KVWDHTXUZHCGIO-UHFFFAOYSA-N - chemblId: CHEMBL715 Inchi: InChI=1S/C17H20N4S/c1-12-11-13-16(21-9-7-20(2)8-10....  \n",
      " index: 117  inchikey: MDKAFDIKYQMOMF-UHFFFAOYSA-N - chemblId: CHEMBL4303589 Inchi: InChI=1S/C16H9BrF6N6S/c17-9-1-2-12(11(6-9)13-26-28....  \n",
      " index: 118  inchikey: MAKMQGKJURAJEN-RUZDIDTESA-N - chemblId: CHEMBL201945 Inchi: InChI=1S/C27H35N3O2/c31-26(25-12-6-17-30(25)20-22-....  \n",
      " index: 119  inchikey: WBGKWQHBNHJJPZ-LECWWXJVSA-N - chemblId: CHEMBL1201109 Inchi: InChI=1S/C24H32O6/c1-21(2)29-19-10-16-15-6-5-13-9-....  \n",
      " index: 120  inchikey: POJZIZBONPAWIV-UHFFFAOYSA-N - chemblId: CHEMBL472212 Inchi: InChI=1S/C22H21F3N6O3S/c1-31(35(2,33)34)18-6-4-3-5....  \n",
      " index: 121  inchikey: UIEATEWHFDRYRU-UHFFFAOYSA-N - chemblId: CHEMBL1008 Inchi: InChI=1S/C24H34N2O/c1-21(2)19-27-20-24(25-15-9-10-....  \n",
      " index: 122  inchikey: JPGQOUSTVILISH-UHFFFAOYSA-N - chemblId: CHEMBL1257 Inchi: InChI=1S/C3H2ClF5O/c4-1(5)3(8,9)10-2(6)7/h1-2H....  \n",
      " index: 123  inchikey: GVJHHUAWPYXKBD-IEOSBIPESA-N - chemblId: CHEMBL47 Inchi: InChI=1S/C29H50O2/c1-20(2)12-9-13-21(3)14-10-15-22....  \n",
      " ctr: 125   idx: 124   inchikey: RXWNCPJZOCPEPQ-DYKMBDCPSA-N \t No row found for inchikey on Compound Structures - continue\n",
      " index: 125  inchikey: MVCQKIKWYUURMU-UHFFFAOYSA-N - chemblId: CHEMBL2103825 Inchi: InChI=1S/C25H39NO3/c1-3-4-5-6-7-8-9-10-11-12-13-14....  \n",
      " index: 126  inchikey: PBCZSGKMGDDXIJ-KRUBCLEUSA-N - chemblId: CHEMBL574737 Inchi: InChI=1S/C28H26N4O4/c1-28-25(35-3)15(29-2)12-18(36....  \n",
      " index: 127  inchikey: KPYSYYIEGFHWSV-UHFFFAOYSA-N - chemblId: CHEMBL701 Inchi: InChI=1S/C10H12ClNO2/c11-9-3-1-7(2-4-9)8(6-12)5-10....  \n",
      " index: 128  inchikey: VYMDGNCVAMGZFE-UHFFFAOYSA-N - chemblId: CHEMBL101 Inchi: InChI=1S/C19H20N2O2/c1-2-3-14-17-18(22)20(15-10-6-....  \n",
      " index: 129  inchikey: IFIUFCJFLGCQPH-UHFFFAOYSA-N - chemblId: CHEMBL484928 Inchi: InChI=1S/C9H12N2O4S/c1-7-4-5-8(11(12)13)6-9(7)16(1....  \n",
      " index: 130  inchikey: PKCYYPHSCUSQDK-AYKLPDECSA-N - chemblId: CHEMBL227547 Inchi: InChI=1S/C21H21NO/c1-15-3-7-17(8-4-15)11-19-13-22-....  \n",
      " index: 131  inchikey: XFILPEOLDIKJHX-QYZOEREBSA-N - chemblId: CHEMBL279786 Inchi: InChI=1S/C23H31N3O4S2/c1-15(2)12-17(18(22(28)26-30....  \n",
      " index: 132  inchikey: AECDBHGVIIRMOI-GRGXKFILSA-N - chemblId: CHEMBL1614712 Inchi: InChI=1S/C27H29N5O/c28-26-25-24(21-8-4-9-23(14-21)....  \n",
      " index: 133  inchikey: ZDXPYRJPNDTMRX-VKHMYHEASA-N - chemblId: CHEMBL930 Inchi: InChI=1S/C5H10N2O3/c6-3(5(9)10)1-2-4(7)8/h3H,1-2,6....  \n",
      " index: 134  inchikey: MFDFERRIHVXMIY-UHFFFAOYSA-N - chemblId: CHEMBL569 Inchi: InChI=1S/C13H20N2O2/c1-3-15(4-2)9-10-17-13(16)11-5....  \n",
      " index: 135  inchikey: VHHVPDKNKPNKHY-JDXGNMNLSA-N - chemblId: CHEMBL1551597 Inchi: InChI=1S/C30H38FN3O2/c1-20(2)28-24-13-12-23(31)19-....  \n",
      " index: 136  inchikey: JOLJIIDDOBNFHW-UHFFFAOYSA-N - chemblId: CHEMBL21536 Inchi: InChI=1S/C14H23N3OS/c1-3-4-5-6-10-18-14-13(15-19-1....  \n",
      " index: 137  inchikey: DSLRVRBSNLHVBH-UHFFFAOYSA-N - chemblId: CHEMBL4303433 Inchi: InChI=1S/C6H8O3/c7-3-5-1-2-6(4-8)9-5/h1-2,7-8H,3-4....  \n",
      " index: 138  inchikey: MJVAVZPDRWSRRC-UHFFFAOYSA-N - chemblId: CHEMBL590 Inchi: InChI=1S/C11H8O2/c1-7-6-10(12)8-4-2-3-5-9(8)11(7)1....  \n",
      " index: 139  inchikey: QXKHYNVANLEOEG-UHFFFAOYSA-N - chemblId: CHEMBL416 Inchi: InChI=1S/C12H8O4/c1-14-12-10-8(4-5-15-10)6-7-2-3-9....  \n",
      " index: 140  inchikey: AYCPARAPKDAOEN-LJQANCHMSA-N - chemblId: CHEMBL3128043 Inchi: InChI=1S/C25H30N8OS/c1-15-26-18-11-12-35-20(18)23(....  \n",
      " index: 141  inchikey: JHSXDAWGLCZYSM-UHFFFAOYSA-N - chemblId: CHEMBL1526649 Inchi: InChI=1S/C11H14ClNO3/c1-8-7-9(12)4-5-10(8)16-6-2-3....  \n",
      " index: 142  inchikey: XLSYZSRXVVCHLS-UHFFFAOYSA-N - chemblId: CHEMBL3545083 Inchi: InChI=1S/C29H35N7O4/c1-39-16-13-34-9-11-35(12-10-3....  \n",
      " index: 143  inchikey: LOUPRKONTZGTKE-LHHVKLHASA-N - chemblId: CHEMBL1294 Inchi: InChI=1S/C20H24N2O2/c1-3-13-12-22-9-7-14(13)10-19(....  \n",
      " index: 144  inchikey: XDJCLCLBSGGNKS-UHFFFAOYSA-N - chemblId: CHEMBL1614713 Inchi: InChI=1S/C22H24N6O/c1-2-9-28(10-3-1)11-12-29-18-6-....  \n",
      " index: 145  inchikey: LSFLAQVDISHMNB-AFARHQOCSA-N - chemblId: CHEMBL399021 Inchi: InChI=1S/C28H31N5O/c29-27-26-25(22-9-6-10-24(15-22....  \n",
      " ctr: 147   idx: 146   inchikey: QIHBWVVVRYYYRO-UHFFFAOYSA-N \t No row found for inchikey on Compound Structures - continue\n",
      " index: 147  inchikey: RONQPWQYDRPRGG-UHFFFAOYSA-N - chemblId: CHEMBL7939 Inchi: InChI=1S/C20H13F2N3O2/c21-11-1-5-13(6-2-11)23-17-9....  \n",
      " index: 148  inchikey: NMUSYJAQQFHJEW-KVTDHHQDSA-N - chemblId: CHEMBL1489 Inchi: InChI=1S/C8H12N4O5/c9-7-10-2-12(8(16)11-7)6-5(15)4....  \n",
      " index: 149  inchikey: ULYONBAOIMCNEH-HNNXBMFYSA-N - chemblId: CHEMBL266510 Inchi: InChI=1S/C16H10ClF4NO2/c1-24-13-5-3-9(17)7-11(13)1....  \n",
      " index: 150  inchikey: UREBDLICKHMUKA-QCYOSJOCSA-N - chemblId: CHEMBL378081 Inchi: InChI=1S/C22H29FO5/c1-12-8-16-15-5-4-13-9-14(25)6-....  \n",
      " index: 151  inchikey: BBDGBGOVJPEFBT-UHFFFAOYSA-N - chemblId: CHEMBL2385591 Inchi: InChI=1S/C25H22N6/c1-3-21(22-4-2-10-27-24(22)5-1)2....  \n",
      " index: 152  inchikey: JYLNVJYYQQXNEK-UHFFFAOYSA-N - chemblId: CHEMBL312403 Inchi: InChI=1S/C9H12ClNO3S/c10-9-3-1-7(2-4-9)8(5-11)6-15....  \n",
      " index: 153  inchikey: FQUAFMNPXPXOJE-UHFFFAOYSA-N - chemblId: CHEMBL3311308 Inchi: InChI=1S/C16H19NO3S/c1-11-9-12(2)16(13(3)10-11)17-....  \n",
      " index: 154  inchikey: ZRALSGWEFCBTJO-UHFFFAOYSA-N - chemblId: CHEMBL821 Inchi: InChI=1S/CH5N3/c2-1(3)4/h(H5,2,3,4)....  \n",
      " index: 155  inchikey: KGPGQDLTDHGEGT-SZUNQUCBSA-N - chemblId: CHEMBL3301669 Inchi: InChI=1S/C88H100Cl2N10O28/c1-38(2)13-10-8-6-7-9-11....  \n",
      " index: 156  inchikey: SGRYPYWGNKJSDL-UHFFFAOYSA-N - chemblId: CHEMBL1096 Inchi: InChI=1S/C16H14N2O4/c1-7(2)8-3-4-12-9(5-8)13(19)10....  \n",
      " index: 157  inchikey: LMEKQMALGUDUQG-UHFFFAOYSA-N - chemblId: CHEMBL1542 Inchi: InChI=1S/C9H7N7O2S/c1-15-4-14-7(16(17)18)9(15)19-8....  \n",
      " index: 158  inchikey: NBHPRWLFLUBAIE-UHFFFAOYSA-N - chemblId: CHEMBL245621 Inchi: InChI=1S/C21H22ClFN4O2/c22-15-3-6-19-18(13-15)25-2....  \n",
      " index: 159  inchikey: LGEQQWMQCRIYKG-DOFZRALJSA-N - chemblId: CHEMBL15848 Inchi: InChI=1S/C22H37NO2/c1-2-3-4-5-6-7-8-9-10-11-12-13-....  \n",
      " index: 160  inchikey: CKTSBUTUHBMZGZ-SHYZEUOFSA-N - chemblId: CHEMBL66115 Inchi: InChI=1S/C9H13N3O4/c10-7-1-2-12(9(15)11-7)8-3-5(14....  \n",
      " index: 161  inchikey: YULUCECVQOCQFQ-UHFFFAOYSA-N - chemblId: CHEMBL1650595 Inchi: InChI=1S/C26H19F3N4O/c27-26(28,29)24-14-23(33(32-2....  \n",
      " index: 162  inchikey: CMYHZFCJPORPHY-UHFFFAOYSA-N - chemblId: CHEMBL3932957 Inchi: InChI=1S/C20H16F3N7OS/c1-32-19-26-15(24)10-16(27-1....  \n",
      " index: 163  inchikey: CUIHSIWYWATEQL-UHFFFAOYSA-N - chemblId: CHEMBL477772 Inchi: InChI=1S/C21H23N7O2S/c1-13-5-6-15(11-19(13)31(22,2....  \n",
      " index: 164  inchikey: VDJHFHXMUKFKET-WDUFCVPESA-N - chemblId: CHEMBL1863513 Inchi: InChI=1S/C25H34O6/c1-7-12(2)22(29)31-21-13(3)10-24....  \n",
      " index: 165  inchikey: UFJGFNHRMPMALC-UHFFFAOYSA-N - chemblId: CHEMBL1345690 Inchi: InChI=1S/C19H13NO4/c1-2-24-19(23)16-15-10-6-3-4-7-....  \n",
      " index: 166  inchikey: MXJWRABVEGLYDG-UHFFFAOYSA-N - chemblId: CHEMBL94394 Inchi: InChI=1S/C12H17NO3/c1-2-3-8-16-11-6-4-10(5-7-11)9-....  \n",
      " index: 167  inchikey: JBIMVDZLSHOPLA-LSCVHKIXSA-N - chemblId: CHEMBL1189432 Inchi: InChI=1S/C21H23NO3/c1-22(2)11-5-8-18-17-7-4-3-6-16....  \n",
      " index: 168  inchikey: HBUBKKRHXORPQB-FJFJXFQQSA-N - chemblId: CHEMBL1568 Inchi: InChI=1S/C10H12FN5O4/c11-10-14-7(12)4-8(15-10)16(2....  \n",
      " index: 169  inchikey: OUZWUKMCLIBBOG-UHFFFAOYSA-N - chemblId: CHEMBL18 Inchi: InChI=1S/C9H10N2O3S2/c1-2-14-6-3-4-7-8(5-6)15-9(11....  \n",
      " index: 170  inchikey: IIQUYGWWHIHOCF-UHFFFAOYSA-N - chemblId: CHEMBL1257423 Inchi: InChI=1S/C20H17F3N4O3/c21-20(22,23)30-16-6-4-15(5-....  \n",
      " index: 171  inchikey: NSFFHOGKXHRQEW-AIHSUZKVSA-N - chemblId: CHEMBL1236460 Inchi: InChI=1S/C72H85N19O18S5/c1-14-26(3)47-63(105)78-30....  \n",
      " index: 172  inchikey: DHMTURDWPRKSOA-RUZDIDTESA-N - chemblId: CHEMBL298734 Inchi: InChI=1S/C27H31Br2ClN4O2/c28-20-12-19-2-1-18-13-21....  \n",
      " index: 173  inchikey: QQGWEXFLMJGCAL-UHFFFAOYSA-N - chemblId: CHEMBL267678 Inchi: InChI=1S/C15H12N2OS2/c1-9-2-4-10(5-3-9)19-13-7-17-....  \n",
      " index: 174  inchikey: XXYGTCZJJLTAGH-UHFFFAOYSA-N - chemblId: CHEMBL3188386 Inchi: InChI=1S/C23H20N6O/c1-15-9-17(12-28-23(15)18-5-6-2....  \n",
      " index: 175  inchikey: XKFTZKGMDDZMJI-HSZRJFAPSA-N - chemblId: CHEMBL402548 Inchi: InChI=1S/C26H30N6O3/c1-30-12-14-31(15-13-30)20-10-....  \n",
      " index: 176  inchikey: PHXJVRSECIGDHY-UHFFFAOYSA-N - chemblId: CHEMBL1171837 Inchi: InChI=1S/C29H27F3N6O/c1-20-5-6-22(16-21(20)8-10-25....  \n",
      " index: 177  inchikey: ZYVXTMKTGDARKR-UHFFFAOYSA-N - chemblId: CHEMBL3421968 Inchi: InChI=1S/C24H27N7O/c1-29-10-12-31(13-11-29)17-4-5-....  \n",
      " index: 178  inchikey: PZBPKYOVPCNPJY-UHFFFAOYSA-N - chemblId: CHEMBL356918 Inchi: InChI=1S/C14H14Cl2N2O/c1-2-7-19-14(9-18-6-5-17-10-....  \n",
      " index: 179  inchikey: PYEFPDQFAZNXLI-UHFFFAOYSA-N - chemblId: CHEMBL186526 Inchi: InChI=1S/C23H23N3O3/c1-15-7-10-18(24-23(29)17-5-4-....  \n",
      " index: 180  inchikey: OINGHOPGNMYCAB-INIZCTEOSA-N - chemblId: CHEMBL3609372 Inchi: InChI=1S/C23H25ClF3N5O/c1-13(2)28-23(33)31-8-7-16(....  \n",
      " index: 181  inchikey: HSTZMXCBWJGKHG-CUYWLFDKSA-N - chemblId: CHEMBL142652 Inchi: InChI=1S/C20H22O8/c21-10-16-17(24)18(25)19(26)20(2....  \n",
      " ctr: 183   idx: 182   inchikey: NGTDJJKTGRNNAU-UHFFFAOYSA-N \t No row found for inchikey on Compound Structures - continue\n",
      " index: 183  inchikey: SCELLOWTHJGVIC-BGYRXZFFSA-N - chemblId: CHEMBL2140173 Inchi: InChI=1S/C30H33N3O5S/c1-19-16-32(17-20(2)37-19)18-....  \n",
      " index: 184  inchikey: ZYGHJZDHTFUPRJ-UHFFFAOYSA-N - chemblId: CHEMBL6466 Inchi: InChI=1S/C9H6O2/c10-9-6-5-7-3-1-2-4-8(7)11-9/h1-6H....  \n",
      " index: 185  inchikey: VERWOWGGCGHDQE-UHFFFAOYSA-N - chemblId: CHEMBL2403108 Inchi: InChI=1S/C28H36ClN5O3S/c1-17(2)37-25-15-21(20-10-1....  \n",
      " index: 186  inchikey: LPGBXHWIQNZEJB-UHFFFAOYSA-N - chemblId: CHEMBL2058533 Inchi: InChI=1S/C23H21FO3/c1-16-2-7-18(8-3-16)22-12-9-20(....  \n",
      " index: 187  inchikey: HFNKQEVNSGCOJV-OAHLLOKOSA-N - chemblId: CHEMBL1789941 Inchi: InChI=1S/C17H18N6/c18-7-5-15(12-3-1-2-4-12)23-10-1....  \n",
      " index: 188  inchikey: FYIBXBFDXNPBSF-UHFFFAOYSA-N - chemblId: CHEMBL2333945 Inchi: InChI=1S/C21H17ClFN3O4S/c22-18-12-17(10-11-19(18)2....  \n",
      " index: 189  inchikey: BDNFQGRSKSQXRI-XMMPIXPASA-N - chemblId: CHEMBL27507 Inchi: InChI=1S/C27H29NO3/c1-3-8-22(9-4-1)27(23-10-5-2-6-....  \n",
      " index: 190  inchikey: NBTNHSGBRGTFJS-UHFFFAOYSA-N - chemblId: CHEMBL213100 Inchi: InChI=1S/C32H36N6O4/c1-22-7-6-8-23(2)30(22)42-32(3....  \n",
      " index: 191  inchikey: UREBDLICKHMUKA-CXSFZGCWSA-N - chemblId: CHEMBL384467 Inchi: InChI=1S/C22H29FO5/c1-12-8-16-15-5-4-13-9-14(25)6-....  \n",
      " index: 192  inchikey: UCAGLBKTLXCODC-UHFFFAOYSA-N - chemblId: CHEMBL414 Inchi: InChI=1S/C7H7NO4S/c8-13(11,12)6-3-1-5(2-4-6)7(9)10....  \n",
      " index: 193  inchikey: KUUJEXLRLIPQQJ-UHFFFAOYSA-N - chemblId: CHEMBL343732 Inchi: InChI=1S/C19H21Br2N3O/c20-13-1-3-18-16(9-13)17-10-....  \n",
      " index: 194  inchikey: GIUYCYHIANZCFB-FJFJXFQQSA-N - chemblId: CHEMBL1096882 Inchi: InChI=1S/C10H13FN5O7P/c11-10-14-7(12)4-8(15-10)16(....  \n",
      " index: 195  inchikey: YPHMISFOHDHNIV-FSZOTQKASA-N - chemblId: CHEMBL123292 Inchi: InChI=1S/C15H23NO4/c1-8-3-9(2)15(20)11(4-8)12(17)5....  \n",
      " index: 196  inchikey: NDNKNUMSTIMSHQ-URZKGLGPSA-N - chemblId: CHEMBL2367812 Inchi: InChI=1S/C19H31N3O4S/c1-14(2)17-18-15(22(19(17)24)....  \n",
      " index: 197  inchikey: QTBWCSQGBMPECM-UHFFFAOYSA-N - chemblId: CHEMBL1090479 Inchi: InChI=1S/C30H33N7O/c1-6-37-19-26(28(34-37)21-10-12....  \n",
      " index: 198  inchikey: XSDQTOBWRPYKKA-UHFFFAOYSA-N - chemblId: CHEMBL945 Inchi: InChI=1S/C6H8ClN7O/c7-2-4(9)13-3(8)1(12-2)5(15)14-....  \n",
      " index: 199  inchikey: CQKBSRPVZZLCJE-UHFFFAOYSA-N - chemblId: CHEMBL3094448 Inchi: InChI=1S/C23H17Cl2N5O4/c1-34-23-27-11-14-8-16(22(3....  \n",
      " index: 200  inchikey: SJFBTAPEPRWNKH-CCKFTAQKSA-N - chemblId: CHEMBL270515 Inchi: InChI=1S/C21H28BN3O5/c1-13(2)12-18(22(29)30)24-21(....  \n",
      " index: 201  inchikey: XRKYMMUGXMWDAO-UHFFFAOYSA-N - chemblId: CHEMBL222102 Inchi: InChI=1S/C21H17NO3S2/c23-14-12-16(25-20(13-14)22-8....  \n",
      " index: 202  inchikey: PIWKPBJCKXDKJR-UHFFFAOYSA-N - chemblId: CHEMBL1256 Inchi: InChI=1S/C3H2ClF5O/c4-1(3(7,8)9)10-2(5)6/h1-2H....  \n",
      " index: 203  inchikey: CDMGBJANTYXAIV-UHFFFAOYSA-N - chemblId: CHEMBL10 Inchi: InChI=1S/C21H16FN3OS/c1-27(26)18-8-4-16(5-9-18)21-....  \n",
      " index: 204  inchikey: HQGWKNGAKBPTBX-UHFFFAOYSA-N - chemblId: CHEMBL10332 Inchi: InChI=1S/C12H14N2O3/c1-15-12(11-13-6-7-14-11)8-16-....  \n",
      " index: 205  inchikey: LRRMQNGSYOUANY-OMCISZLKSA-N - chemblId: CHEMBL509051 Inchi: InChI=1S/C13H9ClFNO3/c14-12-9(3-1-8(6-16-19)13(12)....  \n",
      " index: 206  inchikey: ALOBUEHUHMBRLE-UHFFFAOYSA-N - chemblId: CHEMBL533 Inchi: InChI=1S/C20H36N2O3S/c1-4-6-7-8-9-16-22(5-2)17-10-....  \n",
      " index: 207  inchikey: QESQGTFWEQMCMH-UHFFFAOYSA-N - chemblId: CHEMBL2323231 Inchi: InChI=1S/C25H20N4O2S2/c30-22(28-21-12-11-18(15-26-....  \n",
      " index: 208  inchikey: FABUFPQFXZVHFB-PVYNADRNSA-N - chemblId: CHEMBL1201752 Inchi: InChI=1S/C27H42N2O5S/c1-15-9-8-10-27(7)22(34-27)12....  \n",
      " index: 209  inchikey: IYAYHZZWYNXHEQ-UHFFFAOYSA-N - chemblId: CHEMBL3222141 Inchi: InChI=1S/C19H21BrN2O3S/c20-16-8-6-9-17(14-16)21-19....  \n"
     ]
    },
    {
     "name": "stdout",
     "output_type": "stream",
     "text": [
      " index: 210  inchikey: NMKJFZCBCIUYHI-UHFFFAOYSA-N - chemblId: CHEMBL465952 Inchi: InChI=1S/C15H11Cl2NO3/c16-10-2-1-3-11(17)14(10)15(....  \n",
      " index: 211  inchikey: SBDNJUWAMKYJOX-UHFFFAOYSA-N - chemblId: CHEMBL509 Inchi: InChI=1S/C14H11Cl2NO2/c1-8-6-7-10(15)13(12(8)16)17....  \n",
      " index: 212  inchikey: PMATZTZNYRCHOR-CGLBZJNRSA-N - chemblId: CHEMBL160 Inchi: InChI=1S/C62H111N11O12/c1-25-27-28-40(15)52(75)51-....  \n",
      " index: 213  inchikey: IPSSXIMJJXSJQB-FQEVSTJZSA-N - chemblId: CHEMBL4303719 Inchi: InChI=1S/C25H31Cl2N3O5/c1-3-34-25(33)20(15-17-7-5-....  \n",
      " index: 214  inchikey: OHRURASPPZQGQM-GCCNXGTGSA-N - chemblId: CHEMBL343448 Inchi: InChI=1S/C24H36N4O6S2/c1-6-16-21(30)28-20(14(4)5)2....  \n",
      " ctr: 216   idx: 215   inchikey: ZZZRUAITSXLWBH-CSYJEMQYSA-N \t No row found for inchikey on Compound Structures - continue\n",
      " index: 216  inchikey: PDMUGYOXRHVNMO-UHFFFAOYSA-N - chemblId: CHEMBL2001019 Inchi: InChI=1S/C19H16N8O/c28-7-6-26-12-15(9-22-26)17-10-....  \n",
      " index: 217  inchikey: YKJYKKNCCRKFSL-RDBSUJKOSA-N - chemblId: CHEMBL423192 Inchi: InChI=1S/C14H19NO4/c1-9(16)19-14-12(15-8-13(14)17)....  \n",
      " index: 218  inchikey: NHFDRBXTEDBWCZ-ZROIWOOFSA-N - chemblId: CHEMBL274654 Inchi: InChI=1S/C18H18N2O3/c1-10-12(7-8-17(21)22)11(2)19-....  \n",
      " index: 219  inchikey: KRKNYBCHXYNGOX-UHFFFAOYSA-N - chemblId: CHEMBL1261 Inchi: InChI=1S/C6H8O7/c7-3(8)1-6(13,5(11)12)2-4(9)10/h13....  \n",
      " index: 220  inchikey: QVZCXCJXTMIDME-UHFFFAOYSA-N - chemblId: CHEMBL126075 Inchi: InChI=1S/C31H44N2O10/c1-36-24-18-22(19-25(37-2)28(....  \n",
      " index: 221  inchikey: IVUGFMLRJOCGAS-UHFFFAOYSA-N - chemblId: CHEMBL2140408 Inchi: InChI=1S/C28H21N7OS/c1-17-15-24(37-16-17)25-20-5-2....  \n",
      " index: 222  inchikey: PHLBKPHSAVXXEF-UHFFFAOYSA-N - chemblId: CHEMBL621 Inchi: InChI=1S/C19H22ClN5O/c20-16-5-3-6-17(15-16)23-13-1....  \n",
      " index: 223  inchikey: JVGBTTIJPBFLTE-UHFFFAOYSA-N - chemblId: CHEMBL300555 Inchi: InChI=1S/C22H25N3O3/c26-21-22(25(16-23-21)17-6-2-1....  \n",
      " index: 224  inchikey: PYNXFZCZUAOOQC-UTKZUKDTSA-N - chemblId: CHEMBL3137301 Inchi: InChI=1S/C24H29NO5/c1-3-30-24(29)17(2)15-21(25-22(....  \n",
      " index: 225  inchikey: AFJRDFWMXUECEW-LBPRGKRZSA-N - chemblId: CHEMBL2219422 Inchi: InChI=1S/C18H17Cl2FN4OS/c1-25-16(14(19)9-23-25)13-....  \n",
      " index: 226  inchikey: KAQKFAOMNZTLHT-OZUDYXHBSA-N - chemblId: CHEMBL1139 Inchi: InChI=1S/C20H32O5/c1-2-3-4-7-14(21)10-11-16-17-12-....  \n",
      " index: 227  inchikey: RDOIQAHITMMDAJ-UHFFFAOYSA-N - chemblId: CHEMBL841 Inchi: InChI=1S/C29H33ClN2O2/c1-31(2)27(33)29(24-9-5-3-6-....  \n",
      " index: 228  inchikey: FNHKPVJBJVTLMP-UHFFFAOYSA-N - chemblId: CHEMBL1946170 Inchi: InChI=1S/C21H15ClF4N4O3/c1-27-19(31)18-10-13(6-7-2....  \n",
      " index: 229  inchikey: ONIBWKKTOPOVIA-BYPYZUCNSA-N - chemblId: CHEMBL54922 Inchi: InChI=1S/C5H9NO2/c7-5(8)4-2-1-3-6-4/h4,6H,1-3H2,(H....  \n",
      " index: 230  inchikey: PMXCMJLOPOFPBT-HNNXBMFYSA-N - chemblId: CHEMBL23327 Inchi: InChI=1S/C19H25ClN6O/c1-11(2)15(9-27)23-19-24-17(2....  \n",
      " index: 231  inchikey: DPJNKUOXBZSZAI-UHFFFAOYSA-N - chemblId: CHEMBL3414619 Inchi: InChI=1S/C33H43N7O2/c1-7-8-24-15-23(6)37-33(42)28(....  \n",
      " index: 232  inchikey: WATNXVHKRRTUFK-UHFFFAOYSA-N - chemblId: CHEMBL561533 Inchi: InChI=1S/C23H29N3O2/c1-4-8-18(9-5-2)23(27)24-15-17....  \n",
      " index: 233  inchikey: YCYMCMYLORLIJX-SNVBAGLBSA-N - chemblId: CHEMBL3187683 Inchi: InChI=1S/C11H22O2/c1-3-5-6-7-9-10(8-4-2)11(12)13/h....  \n",
      " index: 234  inchikey: VGZSUPCWNCWDAN-UHFFFAOYSA-N - chemblId: CHEMBL1589 Inchi: InChI=1S/C15H20N2O4S/c1-11(18)12-7-9-14(10-8-12)22....  \n",
      " index: 235  inchikey: RYEFFICCPKWYML-UHFFFAOYSA-N - chemblId: CHEMBL1881068 Inchi: InChI=1S/C15H18O7/c1-12(2,18)6-7-10(16)20-8(6)9-13....  \n",
      " index: 236  inchikey: QHKYPYXTTXKZST-UHFFFAOYSA-N - chemblId: CHEMBL278041 Inchi: InChI=1S/C20H14FN3O/c21-16-5-1-13(2-6-16)18-19(14-....  \n",
      " index: 237  inchikey: OQQVFCKUDYMWGV-UHFFFAOYSA-N - chemblId: CHEMBL333985 Inchi: InChI=1S/C19H16N2O2/c22-13-15-10-11-18(23-15)19-16....  \n",
      " index: 238  inchikey: QWJOPXDAQCDRRM-UHFFFAOYSA-N - chemblId: CHEMBL1779732 Inchi: InChI=1S/C20H18Cl2N2O2/c1-11-7-13(10-23)8-12(2)19(....  \n",
      " index: 239  inchikey: NITYDPDXAAFEIT-DYVFJYSZSA-N - chemblId: CHEMBL19611 Inchi: InChI=1S/C20H28N4O4/c1-12(2)8-13(10-18(25)24-28)19....  \n",
      " index: 240  inchikey: ALBKMJDFBZVHAK-UHFFFAOYSA-N - chemblId: CHEMBL1518572 Inchi: InChI=1S/C23H22N2O4/c1-3-28-23(26)22-18(14-27-2)21....  \n",
      " index: 241  inchikey: XXJWYDDUDKYVKI-UHFFFAOYSA-N - chemblId: CHEMBL491473 Inchi: InChI=1S/C25H27FN4O3/c1-16-12-17-19(29-16)6-7-21(2....  \n",
      " index: 242  inchikey: JOOXLOJCABQBSG-UHFFFAOYSA-N - chemblId: CHEMBL1287853 Inchi: InChI=1S/C27H36N6O3S/c1-20-19-28-26(30-21-10-12-23....  \n",
      " index: 243  inchikey: KAJXOWFGKYKMMZ-UHFFFAOYSA-N - chemblId: CHEMBL268368 Inchi: InChI=1S/C20H11N3O2/c24-19-15-13-9-5-1-3-7-11(9)21....  \n",
      " index: 244  inchikey: NEMHKCNXXRQYRF-UHFFFAOYSA-N - chemblId: CHEMBL2419490 Inchi: InChI=1S/C23H26N4O5S/c1-3-32-23(29)20-13-19(14-24)....  \n",
      " index: 245  inchikey: RYMZZMVNJRMUDD-HGQWONQESA-N - chemblId: CHEMBL1064 Inchi: InChI=1S/C25H38O5/c1-6-25(4,5)24(28)30-21-12-15(2)....  \n",
      " index: 246  inchikey: OAVGBZOFDPFGPJ-UHFFFAOYSA-N - chemblId: CHEMBL565612 Inchi: InChI=1S/C25H22N6O2/c1-30-10-12-31(13-11-30)25-27-....  \n",
      " index: 247  inchikey: BLVQHYHDYFTPDV-VCABWLAWSA-N - chemblId: CHEMBL4078477 Inchi: InChI=1S/C21H19FN4O/c22-18-9-10-20(19(23)13-18)25-....  \n",
      " index: 248  inchikey: MQQNFDZXWVTQEH-UHFFFAOYSA-N - chemblId: CHEMBL273264 Inchi: InChI=1S/C19H17N5O2/c20-17(21)14-2-1-13-10-16(8-5-....  \n",
      " index: 249  inchikey: MBGGBVCUIVRRBF-UHFFFAOYSA-N - chemblId: CHEMBL832 Inchi: InChI=1S/C23H20N2O3S/c26-22-21(16-17-29(28)20-14-8....  \n",
      " index: 250  inchikey: VHOGYURTWQBHIL-UHFFFAOYSA-N - chemblId: CHEMBL960 Inchi: InChI=1S/C12H9F3N2O2/c1-7-10(6-16-19-7)11(18)17-9-....  \n",
      " index: 251  inchikey: TYNLGDBUJLVSMA-UHFFFAOYSA-N - chemblId: CHEMBL41286 Inchi: InChI=1S/C19H12O8/c1-8(20)26-13-5-3-4-11-15(13)18(....  \n",
      " index: 252  inchikey: RIJLVEAXPNLDTC-UHFFFAOYSA-N - chemblId: CHEMBL3301607 Inchi: InChI=1S/C21H23N5O3S/c27-20(17-8-9-17)23-21-22-19-....  \n",
      " index: 253  inchikey: KSCFJBIXMNOVSH-UHFFFAOYSA-N - chemblId: CHEMBL1752 Inchi: InChI=1S/C10H14N4O4/c1-12-8-7(9(17)13(2)10(12)18)1....  \n",
      " index: 254  inchikey: HTSLEZOTMYUPLU-UHFFFAOYSA-N - chemblId: CHEMBL1310336 Inchi: InChI=1S/C28H25N5O4S/c1-16-13-17(2)26-22(14-16)23(....  \n",
      " index: 255  inchikey: IIXWYSCJSQVBQM-UHFFFAOYSA-N - chemblId: CHEMBL4303155 Inchi: InChI=1S/C21H19FN6O2/c1-11-15-7-13(22)4-5-14(15)21....  \n",
      " index: 256  inchikey: IKENVDNFQMCRTR-UHFFFAOYSA-N - chemblId: CHEMBL1755 Inchi: InChI=1S/C32H26N4O2/c1-21-33-28-19-20-36(29-14-8-7....  \n",
      " index: 257  inchikey: LXANPKRCLVQAOG-UHFFFAOYSA-N - chemblId: CHEMBL268961 Inchi: InChI=1S/C11H9FN2O3/c12-6-1-2-8-7(5-6)11(3-4-17-8)....  \n",
      " index: 258  inchikey: JDVVGAQPNNXQDW-TVNFTVLESA-N - chemblId: CHEMBL311226 Inchi: InChI=1S/C8H15NO4/c10-4-1-2-9-3-5(11)7(12)8(13)6(4....  \n",
      " index: 259  inchikey: SZBGQDXLNMELTB-UHFFFAOYSA-N - chemblId: CHEMBL2142592 Inchi: InChI=1S/C26H24F4N6O/c1-34(25(37)20-8-7-16(27)15-2....  \n",
      " index: 260  inchikey: UQNAFPHGVPVTAL-UHFFFAOYSA-N - chemblId: CHEMBL222519 Inchi: InChI=1S/C12H8N4O6S/c13-23(21,22)8-3-1-2-5-9(8)7(1....  \n",
      " index: 261  inchikey: VCKUSRYTPJJLNI-UHFFFAOYSA-N - chemblId: CHEMBL611 Inchi: InChI=1S/C19H25N5O4/c1-26-15-10-12-13(11-16(15)27-....  \n",
      " index: 262  inchikey: MENNDDDTIIZDDN-UHFFFAOYSA-N - chemblId: CHEMBL3770903 Inchi: InChI=1S/C22H20N4OS2/c1-14-10-15(2)25-22(24-14)28-....  \n",
      " ctr: 264   idx: 263   inchikey: WJBLNOPPDWQMCH-UHFFFAOYSA-N \t No row found for inchikey on Compound Structures - continue\n",
      " index: 264  inchikey: BYBLEWFAAKGYCD-UHFFFAOYSA-N - chemblId: CHEMBL91 Inchi: InChI=1S/C18H14Cl4N2O/c19-13-2-1-12(16(21)7-13)10-....  \n",
      " index: 265  inchikey: FPVKHBSQESCIEP-JQCXWYLXSA-N - chemblId: CHEMBL1580 Inchi: InChI=1S/C11H16N4O4/c16-3-8-6(17)1-9(19-8)15-5-14-....  \n",
      " index: 266  inchikey: AJVXVYTVAAWZAP-UHFFFAOYSA-N - chemblId: CHEMBL3893028 Inchi: InChI=1S/C14H11NO3/c1-14(2)9-10(15-13(14)18)7-5-3-....  \n",
      " index: 267  inchikey: RIKMMFOAQPJVMX-UHFFFAOYSA-N - chemblId: CHEMBL1308 Inchi: InChI=1S/C4H6N2/c1-4-2-5-6-3-4/h2-3H,1H3,(H,5,6)....  \n",
      " index: 268  inchikey: DTGLZDAWLRGWQN-UHFFFAOYSA-N - chemblId: CHEMBL1201772 Inchi: InChI=1S/C20H20FNO3S/c1-12(23)25-18-10-14-11-22(9-....  \n",
      " index: 269  inchikey: RAHBGWKEPAQNFF-UHFFFAOYSA-N - chemblId: CHEMBL572881 Inchi: InChI=1S/C22H23N5O/c1-22(2)14-26-19-12-16(5-6-18(1....  \n",
      " index: 270  inchikey: IHLVSLOZUHKNMQ-UHFFFAOYSA-N - chemblId: CHEMBL260015 Inchi: InChI=1S/C26H27N5O2/c1-2-9-27-22(4-1)26-25(24-5-3-....  \n",
      " index: 271  inchikey: DEQANNDTNATYII-UHFFFAOYSA-N - chemblId: CHEMBL262746 Inchi: InChI=1S/C49H66N10O10S2/c1-28(61)39(25-60)56-48(68....  \n",
      " index: 272  inchikey: QNRODODTMXCRKU-UHFFFAOYSA-N - chemblId: CHEMBL2144958 Inchi: InChI=1S/C27H21N5/c1-3-9-21(10-4-1)22-16-14-20(15-....  \n",
      " index: 273  inchikey: FAIIFDPAEUKBEP-UHFFFAOYSA-N - chemblId: CHEMBL517427 Inchi: InChI=1S/C19H19N3O6/c1-10(2)28-19(24)15-11(3)21-14....  \n",
      " index: 274  inchikey: ZNNLBTZKUZBEKO-UHFFFAOYSA-N - chemblId: CHEMBL472 Inchi: InChI=1S/C23H28ClN3O5S/c1-32-21-12-9-17(24)15-20(2....  \n",
      " index: 275  inchikey: KJFMBFZCATUALV-UHFFFAOYSA-N - chemblId: CHEMBL63857 Inchi: InChI=1S/C20H14O4/c21-15-9-5-13(6-10-15)20(14-7-11....  \n",
      " index: 276  inchikey: REZGGXNDEMKIQB-UHFFFAOYSA-N - chemblId: CHEMBL28079 Inchi: InChI=1S/C13H13N5O2/c1-2-7-20-9-6-4-3-5-8(9)11-14-....  \n",
      " index: 277  inchikey: TZDUHAJSIBHXDL-UHFFFAOYSA-N - chemblId: CHEMBL1628502 Inchi: InChI=1S/C16H27NO6/c1-11(2)14(20)22-12(3)23-15(21)....  \n",
      " index: 278  inchikey: NLSSUSRERAMBTA-UHFFFAOYSA-N - chemblId: CHEMBL4238186 Inchi: InChI=1S/C27H29N5O4/c33-25(21-18-28-27(29-19-21)36....  \n",
      " index: 279  inchikey: HWHLPVGTWGOCJO-UHFFFAOYSA-N - chemblId: CHEMBL1490 Inchi: InChI=1S/C20H31NO/c22-20(18-10-4-1-5-11-18,19-12-6....  \n",
      " index: 280  inchikey: NYNZQNWKBKUAII-KBXCAEBGSA-N - chemblId: CHEMBL3889654 Inchi: InChI=1S/C21H22F2N6O2/c22-13-3-4-16(23)15(10-13)18....  \n",
      " index: 281  inchikey: PBBGSZCBWVPOOL-UHFFFAOYSA-N - chemblId: CHEMBL6615 Inchi: InChI=1S/C18H22O2/c1-3-17(13-5-9-15(19)10-6-13)18(....  \n",
      " index: 282  inchikey: WSMQUUGTQYPVPD-OAHLLOKOSA-N - chemblId: CHEMBL3360305 Inchi: InChI=1S/C20H18FN5O2/c1-10-18-16(26-20(22)23-10)9-....  \n",
      " index: 283  inchikey: NHXLMOGPVYXJNR-ATOGVRKGSA-N - chemblId: CHEMBL1823872 Inchi: InChI=1S/C76H104N18O19S2/c1-41(79)64(100)82-37-61(....  \n",
      " index: 284  inchikey: AOZPVMOOEJAZGK-UHFFFAOYSA-N - chemblId: CHEMBL3421914 Inchi: InChI=1S/C30H31F3N4O3/c1-3-36-10-12-37(13-11-36)18....  \n",
      " index: 285  inchikey: SNICXCGAKADSCV-UHFFFAOYSA-N - chemblId: CHEMBL440464 Inchi: InChI=1S/C10H14N2/c1-12-7-3-5-10(12)9-4-2-6-11-8-9....  \n",
      " index: 286  inchikey: HFPLHASLIOXVGS-UHFFFAOYSA-N - chemblId: CHEMBL290904 Inchi: InChI=1S/C15H12N2O2S/c1-8-3-5-10(6-4-8)17-11-7-12(....  \n",
      " index: 287  inchikey: ICDMLAQPOAVWNH-HAAQQRBASA-N - chemblId: CHEMBL1316265 Inchi: InChI=1S/C27H45NO3/c1-2-3-4-5-6-7-8-9-10-11-12-13-....  \n",
      " index: 288  inchikey: SHZKQBHERIJWAO-AATRIKPKSA-N - chemblId: CHEMBL11662 Inchi: InChI=1S/C13H12N2O2/c16-13(17)6-5-11-1-3-12(4-2-11....  \n",
      " index: 289  inchikey: RATZLMXRALDSJW-UHFFFAOYSA-N - chemblId: CHEMBL57895 Inchi: InChI=1S/C13H16N2O/c1-2-13(12-14-7-8-15-12)9-10-5-....  \n",
      " index: 290  inchikey: WDENQIQQYWYTPO-IBGZPJMESA-N - chemblId: CHEMBL3707348 Inchi: InChI=1S/C26H23N7O2/c1-2-6-21(34)32-15-5-7-19(32)2....  \n",
      " index: 291  inchikey: NXNKJLOEGWSJGI-BKMJKUGQSA-N - chemblId: CHEMBL214529 Inchi: InChI=1S/C26H20Cl2N4O4S/c1-30-25(36)32(20-8-18(27)....  \n",
      " index: 292  inchikey: LLIFMNUXGDHTRO-UHFFFAOYSA-N - chemblId: CHEMBL361501 Inchi: InChI=1S/C23H23ClN2O5S/c1-14-21(25-23(29)30-15(2)1....  \n",
      " index: 293  inchikey: NOIIUHRQUVNIDD-UHFFFAOYSA-N - chemblId: CHEMBL1256841 Inchi: InChI=1S/C16H18N4O2/c21-15(18-12-13-4-2-1-3-5-13)8....  \n",
      " index: 294  inchikey: UIAGMCDKSXEBJQ-UHFFFAOYSA-N - chemblId: CHEMBL1428 Inchi: InChI=1S/C21H26N2O7/c1-12(2)30-21(25)18-14(4)22-13....  \n",
      " index: 295  inchikey: CEUORZQYGODEFX-UHFFFAOYSA-N - chemblId: CHEMBL1112 Inchi: InChI=1S/C23H27Cl2N3O2/c24-19-4-3-5-21(23(19)25)28....  \n",
      " index: 296  inchikey: UPWGQKDVAURUGE-KTKRTIGZSA-N - chemblId: CHEMBL3182200 Inchi: InChI=1S/C21H40O4/c1-2-3-4-5-6-7-8-9-10-11-12-13-1....  \n",
      " index: 297  inchikey: ZESFDAKNYJQYKO-UHFFFAOYSA-N - chemblId: CHEMBL495841 Inchi: InChI=1S/C18H14N4O2S/c19-12-13-4-6-14(7-5-13)15-8-....  \n",
      " index: 298  inchikey: HKQYGTCOTHHOMP-UHFFFAOYSA-N - chemblId: CHEMBL242341 Inchi: InChI=1S/C16H12O4/c1-19-12-5-2-10(3-6-12)14-9-20-1....  \n",
      " index: 299  inchikey: QUGDTMONBLMLLD-UHFFFAOYSA-N - chemblId: CHEMBL4303273 Inchi: InChI=1S/C9H13N5O/c1-3-14-8-6(7(10)11-5-12-8)13-9(....  \n",
      " index: 300  inchikey: ZDXUKAKRHYTAKV-UHFFFAOYSA-N - chemblId: CHEMBL250270 Inchi: InChI=1S/C36H41N3O6/c1-24-31(34(40)44-6)33(28-18-1....  \n",
      " index: 301  inchikey: VSWDORGPIHIGNW-UHFFFAOYSA-N - chemblId: CHEMBL399491 Inchi: InChI=1S/C5H9NS2/c7-5(8)6-3-1-2-4-6/h1-4H2,(H,7,8)....  \n",
      " index: 302  inchikey: HSUGRBWQSSZJOP-UHFFFAOYSA-N - chemblId: CHEMBL603584 Inchi: InChI=1S/C22H26N2O4S/c1-15(25)28-20-21(16-9-11-17(....  \n",
      " index: 303  inchikey: KXBDTLQSDKGAEB-UHFFFAOYSA-N - chemblId: CHEMBL3301625 Inchi: InChI=1S/C22H22FN5O3/c1-3-20(29)25-16-5-4-6-17(13-....  \n",
      " index: 304  inchikey: JZFPYUNJRRFVQU-UHFFFAOYSA-N - chemblId: CHEMBL63323 Inchi: InChI=1S/C13H9F3N2O2/c14-13(15,16)8-3-1-4-9(7-8)18....  \n",
      " index: 305  inchikey: YYDUWLSETXNJJT-MTJSOVHGSA-N - chemblId: CHEMBL2037226 Inchi: InChI=1S/C28H21F4N5O2/c1-15-4-6-19(35-27(39)37-25-....  \n",
      " index: 306  inchikey: IAZDPXIOMUYVGZ-UHFFFAOYSA-N - chemblId: CHEMBL504 Inchi: InChI=1S/C2H6OS/c1-4(2)3/h1-2H3....  \n",
      "\n",
      "\n",
      " rows with missing InChiKey in input                 : 0\n",
      " rows with missing InChi on Compound Structure table : 8\n",
      " rows with with valid Chembl_id and InChi            : 299 \n",
      "\n",
      "                                               Total : 307 \n",
      "\n",
      "\n"
     ]
    }
   ],
   "source": [
    " appendInchi(df, limit = len(df.index))"
   ]
  },
  {
   "cell_type": "code",
   "execution_count": 18,
   "id": "e66d7074",
   "metadata": {
    "ExecuteTime": {
     "end_time": "2023-04-12T10:30:37.948112Z",
     "start_time": "2023-04-12T10:30:37.931840Z"
    }
   },
   "outputs": [
    {
     "data": {
      "text/html": [
       "<div>\n",
       "<style scoped>\n",
       "    .dataframe tbody tr th:only-of-type {\n",
       "        vertical-align: middle;\n",
       "    }\n",
       "\n",
       "    .dataframe tbody tr th {\n",
       "        vertical-align: top;\n",
       "    }\n",
       "\n",
       "    .dataframe thead th {\n",
       "        text-align: right;\n",
       "    }\n",
       "</style>\n",
       "<table border=\"1\" class=\"dataframe\">\n",
       "  <thead>\n",
       "    <tr style=\"text-align: right;\">\n",
       "      <th></th>\n",
       "      <th>broad_sample</th>\n",
       "      <th>InChIKey</th>\n",
       "      <th>pert_iname</th>\n",
       "      <th>pubchem_cid</th>\n",
       "      <th>target</th>\n",
       "      <th>pert_type</th>\n",
       "      <th>control_type</th>\n",
       "      <th>smiles</th>\n",
       "      <th>chembl_id</th>\n",
       "      <th>standard_inchi</th>\n",
       "    </tr>\n",
       "  </thead>\n",
       "  <tbody>\n",
       "    <tr>\n",
       "      <th>0</th>\n",
       "      <td>BRD-K09338665-001-07-1</td>\n",
       "      <td>KBPLFHHGFOOTCA-UHFFFAOYSA-N</td>\n",
       "      <td>1-octanol</td>\n",
       "      <td>957.0</td>\n",
       "      <td>GJB4</td>\n",
       "      <td>trt</td>\n",
       "      <td>NaN</td>\n",
       "      <td>CCCCCCCCO</td>\n",
       "      <td>CHEMBL26215</td>\n",
       "      <td>InChI=1S/C8H18O/c1-2-3-4-5-6-7-8-9/h9H,2-8H2,1H3</td>\n",
       "    </tr>\n",
       "    <tr>\n",
       "      <th>1</th>\n",
       "      <td>BRD-K48278478-001-01-2</td>\n",
       "      <td>LOUPRKONTZGTKE-AFHBHXEDSA-N</td>\n",
       "      <td>quinine</td>\n",
       "      <td>94175.0</td>\n",
       "      <td>KCNN4</td>\n",
       "      <td>trt</td>\n",
       "      <td>NaN</td>\n",
       "      <td>COc1ccc2nccc([C@@H](O)[C@H]3C[C@@H]4CC[N@]3C[C...</td>\n",
       "      <td>CHEMBL576997</td>\n",
       "      <td>InChI=1S/C20H24N2O2/c1-3-13-12-22-9-7-14(13)10...</td>\n",
       "    </tr>\n",
       "    <tr>\n",
       "      <th>2</th>\n",
       "      <td>BRD-A85242401-001-12-3</td>\n",
       "      <td>KRGQEOSDQHTZMX-IGCYCDGOSA-N</td>\n",
       "      <td>ascorbic-acid</td>\n",
       "      <td>9888239.0</td>\n",
       "      <td>P3H1</td>\n",
       "      <td>trt</td>\n",
       "      <td>NaN</td>\n",
       "      <td>OC[C@H](O)[C@H]1OC(=O)C(=O)C1O</td>\n",
       "      <td>None</td>\n",
       "      <td>None</td>\n",
       "    </tr>\n",
       "    <tr>\n",
       "      <th>3</th>\n",
       "      <td>BRD-K93632104-001-17-2</td>\n",
       "      <td>YGSDEFSMJLZEOE-UHFFFAOYSA-N</td>\n",
       "      <td>salicylic-acid</td>\n",
       "      <td>118212070.0</td>\n",
       "      <td>AKR1C1</td>\n",
       "      <td>trt</td>\n",
       "      <td>NaN</td>\n",
       "      <td>OC(=O)c1ccccc1O</td>\n",
       "      <td>CHEMBL424</td>\n",
       "      <td>InChI=1S/C7H6O3/c8-6-4-2-1-3-5(6)7(9)10/h1-4,8...</td>\n",
       "    </tr>\n",
       "    <tr>\n",
       "      <th>4</th>\n",
       "      <td>BRD-K57313110-001-06-8</td>\n",
       "      <td>ODHCTXKNWHHXJC-VKHMYHEASA-N</td>\n",
       "      <td>pidolic-acid</td>\n",
       "      <td>7405.0</td>\n",
       "      <td>VEGFA</td>\n",
       "      <td>trt</td>\n",
       "      <td>NaN</td>\n",
       "      <td>OC(=O)[C@@H]1CCC(=O)N1</td>\n",
       "      <td>CHEMBL397976</td>\n",
       "      <td>InChI=1S/C5H7NO3/c7-4-2-1-3(6-4)5(8)9/h3H,1-2H...</td>\n",
       "    </tr>\n",
       "    <tr>\n",
       "      <th>5</th>\n",
       "      <td>BRD-K25244359-066-04-9</td>\n",
       "      <td>WPEWQEMJFLWMLV-UHFFFAOYSA-N</td>\n",
       "      <td>apatinib</td>\n",
       "      <td>11315474.0</td>\n",
       "      <td>CSK</td>\n",
       "      <td>trt</td>\n",
       "      <td>NaN</td>\n",
       "      <td>O=C(Nc1ccc(cc1)C1(CCCC1)C#N)c1cccnc1NCc1ccncc1</td>\n",
       "      <td>CHEMBL3186534</td>\n",
       "      <td>InChI=1S/C24H23N5O/c25-17-24(11-1-2-12-24)19-5...</td>\n",
       "    </tr>\n",
       "    <tr>\n",
       "      <th>6</th>\n",
       "      <td>BRD-K44067360-001-30-3</td>\n",
       "      <td>LPEPZBJOKDYZAD-UHFFFAOYSA-N</td>\n",
       "      <td>flufenamic-acid</td>\n",
       "      <td>3371.0</td>\n",
       "      <td>GJB4</td>\n",
       "      <td>trt</td>\n",
       "      <td>NaN</td>\n",
       "      <td>OC(=O)c1ccccc1Nc1cccc(c1)C(F)(F)F</td>\n",
       "      <td>CHEMBL23588</td>\n",
       "      <td>InChI=1S/C14H10F3NO2/c15-14(16,17)9-4-3-5-10(8...</td>\n",
       "    </tr>\n",
       "    <tr>\n",
       "      <th>7</th>\n",
       "      <td>BRD-K73276278-305-02-9</td>\n",
       "      <td>CYYNMPPFEJPBJD-OAQYLSRUSA-N</td>\n",
       "      <td>MCOPPB</td>\n",
       "      <td>24800108.0</td>\n",
       "      <td>OPRL1</td>\n",
       "      <td>trt</td>\n",
       "      <td>NaN</td>\n",
       "      <td>CC1(CCCCCCC1)N1CCC(CC1)n1c(nc2ccccc12)[C@@H]1C...</td>\n",
       "      <td>CHEMBL481512</td>\n",
       "      <td>InChI=1S/C26H40N4/c1-26(15-7-3-2-4-8-16-26)29-...</td>\n",
       "    </tr>\n",
       "    <tr>\n",
       "      <th>8</th>\n",
       "      <td>BRD-K59058747-001-22-9</td>\n",
       "      <td>PWKSKIMOESPYIA-BYPYZUCNSA-N</td>\n",
       "      <td>acetylcysteine</td>\n",
       "      <td>12035.0</td>\n",
       "      <td>SLC7A11</td>\n",
       "      <td>trt</td>\n",
       "      <td>NaN</td>\n",
       "      <td>CC(=O)N[C@@H](CS)C(O)=O</td>\n",
       "      <td>CHEMBL600</td>\n",
       "      <td>InChI=1S/C5H9NO3S/c1-3(7)6-4(2-10)5(8)9/h4,10H...</td>\n",
       "    </tr>\n",
       "    <tr>\n",
       "      <th>9</th>\n",
       "      <td>BRD-K68982262-001-02-9</td>\n",
       "      <td>DJKJVWJQAVGLHJ-YPMHNXCESA-N</td>\n",
       "      <td>A-987306</td>\n",
       "      <td>25109291.0</td>\n",
       "      <td>CCR1</td>\n",
       "      <td>trt</td>\n",
       "      <td>NaN</td>\n",
       "      <td>Nc1nc(N2CCNCC2)c2CCC3=C([C@@H]4CCCC[C@@H]4O3)c2n1</td>\n",
       "      <td>CHEMBL519240</td>\n",
       "      <td>InChI=1S/C18H25N5O/c19-18-21-16-12(17(22-18)23...</td>\n",
       "    </tr>\n",
       "  </tbody>\n",
       "</table>\n",
       "</div>"
      ],
      "text/plain": [
       "             broad_sample                     InChIKey       pert_iname  pubchem_cid   target pert_type control_type   \n",
       "0  BRD-K09338665-001-07-1  KBPLFHHGFOOTCA-UHFFFAOYSA-N        1-octanol        957.0     GJB4       trt          NaN  \\\n",
       "1  BRD-K48278478-001-01-2  LOUPRKONTZGTKE-AFHBHXEDSA-N          quinine      94175.0    KCNN4       trt          NaN   \n",
       "2  BRD-A85242401-001-12-3  KRGQEOSDQHTZMX-IGCYCDGOSA-N    ascorbic-acid    9888239.0     P3H1       trt          NaN   \n",
       "3  BRD-K93632104-001-17-2  YGSDEFSMJLZEOE-UHFFFAOYSA-N   salicylic-acid  118212070.0   AKR1C1       trt          NaN   \n",
       "4  BRD-K57313110-001-06-8  ODHCTXKNWHHXJC-VKHMYHEASA-N     pidolic-acid       7405.0    VEGFA       trt          NaN   \n",
       "5  BRD-K25244359-066-04-9  WPEWQEMJFLWMLV-UHFFFAOYSA-N         apatinib   11315474.0      CSK       trt          NaN   \n",
       "6  BRD-K44067360-001-30-3  LPEPZBJOKDYZAD-UHFFFAOYSA-N  flufenamic-acid       3371.0     GJB4       trt          NaN   \n",
       "7  BRD-K73276278-305-02-9  CYYNMPPFEJPBJD-OAQYLSRUSA-N           MCOPPB   24800108.0    OPRL1       trt          NaN   \n",
       "8  BRD-K59058747-001-22-9  PWKSKIMOESPYIA-BYPYZUCNSA-N   acetylcysteine      12035.0  SLC7A11       trt          NaN   \n",
       "9  BRD-K68982262-001-02-9  DJKJVWJQAVGLHJ-YPMHNXCESA-N         A-987306   25109291.0     CCR1       trt          NaN   \n",
       "\n",
       "                                              smiles      chembl_id                                     standard_inchi  \n",
       "0                                          CCCCCCCCO    CHEMBL26215   InChI=1S/C8H18O/c1-2-3-4-5-6-7-8-9/h9H,2-8H2,1H3  \n",
       "1  COc1ccc2nccc([C@@H](O)[C@H]3C[C@@H]4CC[N@]3C[C...   CHEMBL576997  InChI=1S/C20H24N2O2/c1-3-13-12-22-9-7-14(13)10...  \n",
       "2                     OC[C@H](O)[C@H]1OC(=O)C(=O)C1O           None                                               None  \n",
       "3                                    OC(=O)c1ccccc1O      CHEMBL424  InChI=1S/C7H6O3/c8-6-4-2-1-3-5(6)7(9)10/h1-4,8...  \n",
       "4                             OC(=O)[C@@H]1CCC(=O)N1   CHEMBL397976  InChI=1S/C5H7NO3/c7-4-2-1-3(6-4)5(8)9/h3H,1-2H...  \n",
       "5     O=C(Nc1ccc(cc1)C1(CCCC1)C#N)c1cccnc1NCc1ccncc1  CHEMBL3186534  InChI=1S/C24H23N5O/c25-17-24(11-1-2-12-24)19-5...  \n",
       "6                  OC(=O)c1ccccc1Nc1cccc(c1)C(F)(F)F    CHEMBL23588  InChI=1S/C14H10F3NO2/c15-14(16,17)9-4-3-5-10(8...  \n",
       "7  CC1(CCCCCCC1)N1CCC(CC1)n1c(nc2ccccc12)[C@@H]1C...   CHEMBL481512  InChI=1S/C26H40N4/c1-26(15-7-3-2-4-8-16-26)29-...  \n",
       "8                            CC(=O)N[C@@H](CS)C(O)=O      CHEMBL600  InChI=1S/C5H9NO3S/c1-3(7)6-4(2-10)5(8)9/h4,10H...  \n",
       "9  Nc1nc(N2CCNCC2)c2CCC3=C([C@@H]4CCCC[C@@H]4O3)c2n1   CHEMBL519240  InChI=1S/C18H25N5O/c19-18-21-16-12(17(22-18)23...  "
      ]
     },
     "execution_count": 18,
     "metadata": {},
     "output_type": "execute_result"
    }
   ],
   "source": [
    "df.head(10)"
   ]
  },
  {
   "cell_type": "code",
   "execution_count": 16,
   "id": "23b6c318",
   "metadata": {
    "ExecuteTime": {
     "end_time": "2023-04-12T07:43:34.174117Z",
     "start_time": "2023-04-12T07:43:34.170511Z"
    }
   },
   "outputs": [],
   "source": [
    "def getChemblId(df: pd.DataFrame, limit:int = 5, nMorgan = 3):\n",
    "    \"\"\" function for looping over all molecules \"\"\"\n",
    "    \n",
    "    ctr =  0\n",
    "    for  comp in df.itertuples():\n",
    "        ctr += 1\n",
    "        if ctr > limit: \n",
    "            break\n",
    "        if  comp.standard_inchi is None: \n",
    "            print(' Nan row encounntered - continue')\n",
    "            continue\n",
    "        else:\n",
    "            mol1 =inchi.MolFromInchi(comp.standard_inchi)\n",
    "            fp1 = AllChem.GetMorganFingerprint(mol1, nMorgan).GetNonzeroElements()\n",
    "            print(f\" ctr: {ctr}  idx: {comp.Index}   inchikey: {comp.InChIKey}  chemblId is : {comp.chembl_id}\" )\n",
    "            yield (comp.chembl_id, fp1)\n",
    "        \n"
   ]
  },
  {
   "cell_type": "code",
   "execution_count": 17,
   "id": "a296294b",
   "metadata": {
    "ExecuteTime": {
     "end_time": "2023-04-12T07:43:37.212836Z",
     "start_time": "2023-04-12T07:43:37.208667Z"
    }
   },
   "outputs": [
    {
     "data": {
      "text/plain": [
       "307"
      ]
     },
     "execution_count": 17,
     "metadata": {},
     "output_type": "execute_result"
    }
   ],
   "source": [
    "len(df.index)"
   ]
  },
  {
   "cell_type": "code",
   "execution_count": 18,
   "id": "d8bb5c5d",
   "metadata": {
    "ExecuteTime": {
     "end_time": "2023-04-12T07:43:44.081147Z",
     "start_time": "2023-04-12T07:43:43.918470Z"
    }
   },
   "outputs": [
    {
     "name": "stdout",
     "output_type": "stream",
     "text": [
      " ctr: 1  idx: 0   inchikey: TZDUHAJSIBHXDL-UHFFFAOYSA-N  chemblId is : CHEMBL1628502\n",
      " ctr: 2  idx: 1   inchikey: HTIQEAQVCYTUBX-UHFFFAOYSA-N  chemblId is : CHEMBL1491\n",
      " ctr: 3  idx: 2   inchikey: PBBGSZCBWVPOOL-UHFFFAOYSA-N  chemblId is : CHEMBL6615\n",
      " ctr: 4  idx: 3   inchikey: LOUPRKONTZGTKE-AFHBHXEDSA-N  chemblId is : CHEMBL576997\n",
      " ctr: 5  idx: 4   inchikey: NYNZQNWKBKUAII-KBXCAEBGSA-N  chemblId is : CHEMBL3889654\n",
      " ctr: 6  idx: 5   inchikey: HCRKCZRJWPKOAR-JTQLQIEISA-N  chemblId is : CHEMBL220491\n",
      " ctr: 7  idx: 6   inchikey: MDKAFDIKYQMOMF-UHFFFAOYSA-N  chemblId is : CHEMBL4303589\n",
      " ctr: 8  idx: 7   inchikey: YYDUWLSETXNJJT-MTJSOVHGSA-N  chemblId is : CHEMBL2037226\n",
      " ctr: 9  idx: 8   inchikey: WPEWQEMJFLWMLV-UHFFFAOYSA-N  chemblId is : CHEMBL3186534\n",
      " ctr: 10  idx: 9   inchikey: OUZWUKMCLIBBOG-UHFFFAOYSA-N  chemblId is : CHEMBL18\n",
      " Nan row encounntered - continue\n",
      " ctr: 12  idx: 11   inchikey: HFPLHASLIOXVGS-UHFFFAOYSA-N  chemblId is : CHEMBL290904\n",
      " ctr: 13  idx: 12   inchikey: MAKMQGKJURAJEN-RUZDIDTESA-N  chemblId is : CHEMBL201945\n",
      " ctr: 14  idx: 13   inchikey: VHHVPDKNKPNKHY-JDXGNMNLSA-N  chemblId is : CHEMBL1551597\n",
      " ctr: 15  idx: 14   inchikey: NBTNHSGBRGTFJS-UHFFFAOYSA-N  chemblId is : CHEMBL213100\n",
      " ctr: 16  idx: 15   inchikey: JUUFBMODXQKSTD-UHFFFAOYSA-N  chemblId is : CHEMBL255044\n",
      " ctr: 17  idx: 16   inchikey: XQYASZNUFDVMFH-CQSZACIVSA-N  chemblId is : CHEMBL232656\n",
      " ctr: 18  idx: 17   inchikey: UREBDLICKHMUKA-CXSFZGCWSA-N  chemblId is : CHEMBL384467\n",
      " ctr: 19  idx: 18   inchikey: ZVPDNRVYHLRXLX-UHFFFAOYSA-N  chemblId is : CHEMBL306380\n",
      " ctr: 20  idx: 19   inchikey: AOZPVMOOEJAZGK-UHFFFAOYSA-N  chemblId is : CHEMBL3421914\n",
      " ctr: 21  idx: 20   inchikey: KXBDTLQSDKGAEB-UHFFFAOYSA-N  chemblId is : CHEMBL3301625\n",
      " ctr: 22  idx: 21   inchikey: HFYPTENHTPNXGP-UHFFFAOYSA-N  chemblId is : CHEMBL604677\n",
      " ctr: 23  idx: 22   inchikey: NSFFHOGKXHRQEW-AIHSUZKVSA-N  chemblId is : CHEMBL1236460\n",
      " ctr: 24  idx: 23   inchikey: KAJXOWFGKYKMMZ-UHFFFAOYSA-N  chemblId is : CHEMBL268368\n",
      " Nan row encounntered - continue\n",
      " ctr: 26  idx: 25   inchikey: HBUBKKRHXORPQB-FJFJXFQQSA-N  chemblId is : CHEMBL1568\n",
      " ctr: 27  idx: 26   inchikey: NMKJFZCBCIUYHI-UHFFFAOYSA-N  chemblId is : CHEMBL465952\n",
      " ctr: 28  idx: 27   inchikey: SBDNJUWAMKYJOX-UHFFFAOYSA-N  chemblId is : CHEMBL509\n",
      " ctr: 29  idx: 28   inchikey: IIQUYGWWHIHOCF-UHFFFAOYSA-N  chemblId is : CHEMBL1257423\n",
      " ctr: 30  idx: 29   inchikey: CVOUSAVHMDXCKG-UHFFFAOYSA-N  chemblId is : CHEMBL499968\n",
      " ctr: 31  idx: 30   inchikey: IYAYHZZWYNXHEQ-UHFFFAOYSA-N  chemblId is : CHEMBL3222141\n",
      " ctr: 32  idx: 31   inchikey: AJVXVYTVAAWZAP-UHFFFAOYSA-N  chemblId is : CHEMBL3893028\n",
      " ctr: 33  idx: 32   inchikey: MENNDDDTIIZDDN-UHFFFAOYSA-N  chemblId is : CHEMBL3770903\n",
      " ctr: 34  idx: 33   inchikey: ZWVZORIKUNOTCS-OAQYLSRUSA-N  chemblId is : CHEMBL401930\n",
      " ctr: 35  idx: 34   inchikey: NVRXTLZYXZNATH-UHFFFAOYSA-N  chemblId is : CHEMBL1081312\n",
      " ctr: 36  idx: 35   inchikey: CYYNMPPFEJPBJD-OAQYLSRUSA-N  chemblId is : CHEMBL481512\n",
      " ctr: 37  idx: 36   inchikey: SHZKQBHERIJWAO-AATRIKPKSA-N  chemblId is : CHEMBL11662\n",
      " ctr: 38  idx: 37   inchikey: NUIKTBLZSPQGCP-UHFFFAOYSA-N  chemblId is : CHEMBL3922179\n",
      " ctr: 39  idx: 38   inchikey: YYOOFJZTRCPVFD-UHFFFAOYSA-N  chemblId is : CHEMBL4303226\n",
      " ctr: 40  idx: 39   inchikey: FYIBXBFDXNPBSF-UHFFFAOYSA-N  chemblId is : CHEMBL2333945\n",
      " ctr: 41  idx: 40   inchikey: RIKMMFOAQPJVMX-UHFFFAOYSA-N  chemblId is : CHEMBL1308\n",
      " ctr: 42  idx: 41   inchikey: KXDROGADUISDGY-UHFFFAOYSA-N  chemblId is : CHEMBL212579\n",
      " ctr: 43  idx: 42   inchikey: ZDXUKAKRHYTAKV-UHFFFAOYSA-N  chemblId is : CHEMBL250270\n",
      " ctr: 44  idx: 43   inchikey: AZYDQCGCBQYFSE-UHFFFAOYSA-N  chemblId is : CHEMBL610463\n",
      " ctr: 45  idx: 44   inchikey: QNRODODTMXCRKU-UHFFFAOYSA-N  chemblId is : CHEMBL2144958\n",
      " ctr: 46  idx: 45   inchikey: QTBWCSQGBMPECM-UHFFFAOYSA-N  chemblId is : CHEMBL1090479\n",
      " ctr: 47  idx: 46   inchikey: HTSLEZOTMYUPLU-UHFFFAOYSA-N  chemblId is : CHEMBL1310336\n",
      " ctr: 48  idx: 47   inchikey: WATNXVHKRRTUFK-UHFFFAOYSA-N  chemblId is : CHEMBL561533\n",
      " ctr: 49  idx: 48   inchikey: KJNNWYBAOPXVJY-UHFFFAOYSA-N  chemblId is : CHEMBL3989929\n",
      " ctr: 50  idx: 49   inchikey: MTJHLONVHHPNSI-IBGZPJMESA-N  chemblId is : CHEMBL552212\n",
      " ctr: 51  idx: 50   inchikey: YULUCECVQOCQFQ-UHFFFAOYSA-N  chemblId is : CHEMBL1650595\n",
      " ctr: 52  idx: 51   inchikey: FHPOTBQOUBMMCI-UHFFFAOYSA-N  chemblId is : CHEMBL1720563\n",
      " ctr: 53  idx: 52   inchikey: CMYHZFCJPORPHY-UHFFFAOYSA-N  chemblId is : CHEMBL3932957\n",
      " ctr: 54  idx: 53   inchikey: IPSSXIMJJXSJQB-FQEVSTJZSA-N  chemblId is : CHEMBL4303719\n",
      " ctr: 55  idx: 54   inchikey: NITYDPDXAAFEIT-DYVFJYSZSA-N  chemblId is : CHEMBL19611\n",
      " ctr: 56  idx: 55   inchikey: HQGWKNGAKBPTBX-UHFFFAOYSA-N  chemblId is : CHEMBL10332\n",
      " ctr: 57  idx: 56   inchikey: LPGBXHWIQNZEJB-UHFFFAOYSA-N  chemblId is : CHEMBL2058533\n",
      " ctr: 58  idx: 57   inchikey: PHXJVRSECIGDHY-UHFFFAOYSA-N  chemblId is : CHEMBL1171837\n",
      " Nan row encounntered - continue\n",
      " ctr: 60  idx: 59   inchikey: DMWVGXGXHPOEPT-UHFFFAOYSA-N  chemblId is : CHEMBL97771\n",
      " ctr: 61  idx: 60   inchikey: PWKSKIMOESPYIA-BYPYZUCNSA-N  chemblId is : CHEMBL600\n",
      " ctr: 62  idx: 61   inchikey: KFAKESMKRPNZTM-UHFFFAOYSA-N  chemblId is : CHEMBL1331734\n",
      " ctr: 63  idx: 62   inchikey: NUKYPUAOHBNCPY-UHFFFAOYSA-N  chemblId is : CHEMBL284348\n",
      " ctr: 64  idx: 63   inchikey: MAASHDQFQDDECQ-UHFFFAOYSA-N  chemblId is : CHEMBL429095\n",
      " ctr: 65  idx: 64   inchikey: GCUCIFQCGJIRNT-UHFFFAOYSA-N  chemblId is : CHEMBL63055\n",
      " ctr: 66  idx: 65   inchikey: AYCPARAPKDAOEN-LJQANCHMSA-N  chemblId is : CHEMBL3128043\n",
      " ctr: 67  idx: 66   inchikey: UZDORQWMYRRLQV-JHOUSYSJSA-N  chemblId is : CHEMBL72410\n",
      " ctr: 68  idx: 67   inchikey: PDMUGYOXRHVNMO-UHFFFAOYSA-N  chemblId is : CHEMBL2001019\n",
      " ctr: 69  idx: 68   inchikey: KPBNHDGDUADAGP-VAWYXSNFSA-N  chemblId is : CHEMBL566757\n",
      " ctr: 70  idx: 69   inchikey: SGRYPYWGNKJSDL-UHFFFAOYSA-N  chemblId is : CHEMBL1096\n",
      " ctr: 71  idx: 70   inchikey: NDNKNUMSTIMSHQ-URZKGLGPSA-N  chemblId is : CHEMBL2367812\n",
      " ctr: 72  idx: 71   inchikey: CWHUFRVAEUJCEF-UHFFFAOYSA-N  chemblId is : CHEMBL2017974\n",
      " ctr: 73  idx: 72   inchikey: XSDQTOBWRPYKKA-UHFFFAOYSA-N  chemblId is : CHEMBL945\n",
      " ctr: 74  idx: 73   inchikey: ZJMDTBBCNMGFMS-SAPNQHFASA-N  chemblId is : CHEMBL2030550\n",
      " ctr: 75  idx: 74   inchikey: LSFLAQVDISHMNB-AFARHQOCSA-N  chemblId is : CHEMBL399021\n",
      " ctr: 76  idx: 75   inchikey: OJLOPKGSLYJEMD-URPKTTJQSA-N  chemblId is : CHEMBL606\n",
      " ctr: 77  idx: 76   inchikey: IKENVDNFQMCRTR-UHFFFAOYSA-N  chemblId is : CHEMBL1755\n",
      " ctr: 78  idx: 77   inchikey: JVGBTTIJPBFLTE-UHFFFAOYSA-N  chemblId is : CHEMBL300555\n",
      " ctr: 79  idx: 78   inchikey: TYNLGDBUJLVSMA-UHFFFAOYSA-N  chemblId is : CHEMBL41286\n",
      " ctr: 80  idx: 79   inchikey: ZNNLBTZKUZBEKO-UHFFFAOYSA-N  chemblId is : CHEMBL472\n",
      " ctr: 81  idx: 80   inchikey: QUGDTMONBLMLLD-UHFFFAOYSA-N  chemblId is : CHEMBL4303273\n",
      " ctr: 82  idx: 81   inchikey: NLSSUSRERAMBTA-UHFFFAOYSA-N  chemblId is : CHEMBL4238186\n",
      " ctr: 83  idx: 82   inchikey: HWHLPVGTWGOCJO-UHFFFAOYSA-N  chemblId is : CHEMBL1490\n",
      " ctr: 84  idx: 83   inchikey: KAQKFAOMNZTLHT-OZUDYXHBSA-N  chemblId is : CHEMBL1139\n",
      " ctr: 85  idx: 84   inchikey: PYNXFZCZUAOOQC-UTKZUKDTSA-N  chemblId is : CHEMBL3137301\n",
      " ctr: 86  idx: 85   inchikey: XKFTZKGMDDZMJI-HSZRJFAPSA-N  chemblId is : CHEMBL402548\n",
      " ctr: 87  idx: 86   inchikey: LPAHKJMGDSJDRG-DJYQTOCQSA-N  chemblId is : CHEMBL1741040\n",
      " ctr: 88  idx: 87   inchikey: QHKYPYXTTXKZST-UHFFFAOYSA-N  chemblId is : CHEMBL278041\n",
      " ctr: 89  idx: 88   inchikey: AFJRDFWMXUECEW-LBPRGKRZSA-N  chemblId is : CHEMBL2219422\n",
      " ctr: 90  idx: 89   inchikey: JFUIMTGOQCQTPF-UHFFFAOYSA-N  chemblId is : CHEMBL598608\n",
      " ctr: 91  idx: 90   inchikey: KOCVKGYKBLJEPK-LYBHJNIJSA-N  chemblId is : CHEMBL3417395\n",
      " ctr: 92  idx: 91   inchikey: HUXYBQXJVXOMKX-UHFFFAOYSA-N  chemblId is : CHEMBL1230607\n",
      " ctr: 93  idx: 92   inchikey: FQUAFMNPXPXOJE-UHFFFAOYSA-N  chemblId is : CHEMBL3311308\n",
      " ctr: 94  idx: 93   inchikey: WBGKWQHBNHJJPZ-LECWWXJVSA-N  chemblId is : CHEMBL1201109\n",
      " ctr: 95  idx: 94   inchikey: SRVFFFJZQVENJC-IHRRRGAJSA-N  chemblId is : CHEMBL63440\n",
      " ctr: 96  idx: 95   inchikey: LMEKQMALGUDUQG-UHFFFAOYSA-N  chemblId is : CHEMBL1542\n",
      " ctr: 97  idx: 96   inchikey: ALBKMJDFBZVHAK-UHFFFAOYSA-N  chemblId is : CHEMBL1518572\n",
      " ctr: 98  idx: 97   inchikey: XQVVPGYIWAGRNI-JOCHJYFZSA-N  chemblId is : CHEMBL513909\n",
      " ctr: 99  idx: 98   inchikey: PFHDWRIVDDIFRP-UHFFFAOYSA-N  chemblId is : CHEMBL3414574\n",
      " ctr: 100  idx: 99   inchikey: WSMQUUGTQYPVPD-OAHLLOKOSA-N  chemblId is : CHEMBL3360305\n",
      " ctr: 101  idx: 100   inchikey: NOIIUHRQUVNIDD-UHFFFAOYSA-N  chemblId is : CHEMBL1256841\n",
      " ctr: 102  idx: 101   inchikey: YCYMCMYLORLIJX-SNVBAGLBSA-N  chemblId is : CHEMBL3187683\n",
      " ctr: 103  idx: 102   inchikey: CKTSBUTUHBMZGZ-SHYZEUOFSA-N  chemblId is : CHEMBL66115\n",
      " ctr: 104  idx: 103   inchikey: QXRSDHAAWVKZLJ-AXCXJGFASA-N  chemblId is : CHEMBL4303268\n",
      " ctr: 105  idx: 104   inchikey: KSCFJBIXMNOVSH-UHFFFAOYSA-N  chemblId is : CHEMBL1752\n",
      " ctr: 106  idx: 105   inchikey: LOUPRKONTZGTKE-LHHVKLHASA-N  chemblId is : CHEMBL1294\n",
      " ctr: 107  idx: 106   inchikey: NBHPRWLFLUBAIE-UHFFFAOYSA-N  chemblId is : CHEMBL245621\n",
      " ctr: 108  idx: 107   inchikey: MBGGBVCUIVRRBF-UHFFFAOYSA-N  chemblId is : CHEMBL832\n",
      " ctr: 109  idx: 108   inchikey: VUIRVWPJNKZOSS-UHFFFAOYSA-N  chemblId is : CHEMBL3182437\n",
      " ctr: 110  idx: 109   inchikey: ODUOJXZPIYUATO-UHFFFAOYSA-N  chemblId is : CHEMBL2103772\n",
      " ctr: 111  idx: 110   inchikey: IFIUFCJFLGCQPH-UHFFFAOYSA-N  chemblId is : CHEMBL484928\n",
      " ctr: 112  idx: 111   inchikey: MXJWRABVEGLYDG-UHFFFAOYSA-N  chemblId is : CHEMBL94394\n",
      " ctr: 113  idx: 112   inchikey: LGEQQWMQCRIYKG-DOFZRALJSA-N  chemblId is : CHEMBL15848\n",
      " ctr: 114  idx: 113   inchikey: WYWHKKSPHMUBEB-UHFFFAOYSA-N  chemblId is : CHEMBL727\n",
      " ctr: 115  idx: 114   inchikey: QESQGTFWEQMCMH-UHFFFAOYSA-N  chemblId is : CHEMBL2323231\n",
      " ctr: 116  idx: 115   inchikey: HGVDHZBSSITLCT-KMFMINBZSA-N  chemblId is : CHEMBL4303203\n",
      " ctr: 117  idx: 116   inchikey: DHMTURDWPRKSOA-RUZDIDTESA-N  chemblId is : CHEMBL298734\n",
      " ctr: 118  idx: 117   inchikey: UMUPQWIGCOZEOY-JOCHJYFZSA-N  chemblId is : CHEMBL13817\n",
      " ctr: 119  idx: 118   inchikey: NHXLMOGPVYXJNR-ATOGVRKGSA-N  chemblId is : CHEMBL1823872\n",
      " ctr: 120  idx: 119   inchikey: ONIBWKKTOPOVIA-BYPYZUCNSA-N  chemblId is : CHEMBL54922\n",
      " ctr: 121  idx: 120   inchikey: BDNFQGRSKSQXRI-XMMPIXPASA-N  chemblId is : CHEMBL27507\n",
      " ctr: 122  idx: 121   inchikey: OQQVFCKUDYMWGV-UHFFFAOYSA-N  chemblId is : CHEMBL333985\n",
      " ctr: 123  idx: 122   inchikey: QIHBWVVVRYYYRO-ZDUSSCGKSA-N  chemblId is : CHEMBL3092537\n",
      " ctr: 124  idx: 123   inchikey: BMKPVDQDJQWBPD-UHFFFAOYSA-N  chemblId is : CHEMBL337173\n",
      " ctr: 125  idx: 124   inchikey: QWJOPXDAQCDRRM-UHFFFAOYSA-N  chemblId is : CHEMBL1779732\n",
      " ctr: 126  idx: 125   inchikey: PHLBKPHSAVXXEF-UHFFFAOYSA-N  chemblId is : CHEMBL621\n",
      " ctr: 127  idx: 126   inchikey: NCEXYHBECQHGNR-QZQOTICOSA-N  chemblId is : CHEMBL421\n",
      " ctr: 128  idx: 127   inchikey: DSLRVRBSNLHVBH-UHFFFAOYSA-N  chemblId is : CHEMBL4303433\n",
      " ctr: 129  idx: 128   inchikey: QVZCXCJXTMIDME-UHFFFAOYSA-N  chemblId is : CHEMBL126075\n",
      " ctr: 130  idx: 129   inchikey: RZTAMFZIAATZDJ-UHFFFAOYSA-N  chemblId is : CHEMBL1480\n",
      " ctr: 131  idx: 130   inchikey: PMXMIIMHBWHSKN-UHFFFAOYSA-N  chemblId is : CHEMBL1621\n",
      " ctr: 132  idx: 131   inchikey: PMXCMJLOPOFPBT-HNNXBMFYSA-N  chemblId is : CHEMBL23327\n",
      " ctr: 133  idx: 132   inchikey: GYYRMJMXXLJZAB-UHFFFAOYSA-N  chemblId is : CHEMBL9540\n",
      " ctr: 134  idx: 133   inchikey: LXANPKRCLVQAOG-UHFFFAOYSA-N  chemblId is : CHEMBL268961\n",
      " ctr: 135  idx: 134   inchikey: CQKBSRPVZZLCJE-UHFFFAOYSA-N  chemblId is : CHEMBL3094448\n",
      " ctr: 136  idx: 135   inchikey: JYLNVJYYQQXNEK-UHFFFAOYSA-N  chemblId is : CHEMBL312403\n",
      " ctr: 137  idx: 136   inchikey: CDJNNOJINJAXPV-UHFFFAOYSA-N  chemblId is : CHEMBL4303384\n",
      " ctr: 138  idx: 137   inchikey: ZJVFLBOZORBYFE-UHFFFAOYSA-N  chemblId is : CHEMBL19449\n",
      " ctr: 139  idx: 138   inchikey: LXENKEWVEVKKGV-BQYQJAHWSA-N  chemblId is : CHEMBL1206245\n",
      " ctr: 140  idx: 139   inchikey: UPWGQKDVAURUGE-KTKRTIGZSA-N  chemblId is : CHEMBL3182200\n",
      " ctr: 141  idx: 140   inchikey: BLVQHYHDYFTPDV-VCABWLAWSA-N  chemblId is : CHEMBL4078477\n",
      " ctr: 142  idx: 141   inchikey: NMUSYJAQQFHJEW-KVTDHHQDSA-N  chemblId is : CHEMBL1489\n",
      " ctr: 143  idx: 142   inchikey: SQMWSBKSHWARHU-SDBHATRESA-N  chemblId is : CHEMBL68738\n",
      " ctr: 144  idx: 143   inchikey: RIJLVEAXPNLDTC-UHFFFAOYSA-N  chemblId is : CHEMBL3301607\n",
      " ctr: 145  idx: 144   inchikey: ZRALSGWEFCBTJO-UHFFFAOYSA-N  chemblId is : CHEMBL821\n",
      " ctr: 146  idx: 145   inchikey: ZYGHJZDHTFUPRJ-UHFFFAOYSA-N  chemblId is : CHEMBL6466\n",
      " ctr: 147  idx: 146   inchikey: PYEFPDQFAZNXLI-UHFFFAOYSA-N  chemblId is : CHEMBL186526\n",
      " ctr: 148  idx: 147   inchikey: KRKNYBCHXYNGOX-UHFFFAOYSA-N  chemblId is : CHEMBL1261\n",
      " ctr: 149  idx: 148   inchikey: VFSVKVQMZDJFQX-NBVRZTHBSA-N  chemblId is : CHEMBL1476646\n",
      " ctr: 150  idx: 149   inchikey: ALOBUEHUHMBRLE-UHFFFAOYSA-N  chemblId is : CHEMBL533\n",
      " ctr: 151  idx: 150   inchikey: XFILPEOLDIKJHX-QYZOEREBSA-N  chemblId is : CHEMBL279786\n",
      " ctr: 152  idx: 151   inchikey: DPJNKUOXBZSZAI-UHFFFAOYSA-N  chemblId is : CHEMBL3414619\n",
      " ctr: 153  idx: 152   inchikey: ZDXPYRJPNDTMRX-VKHMYHEASA-N  chemblId is : CHEMBL930\n",
      " ctr: 154  idx: 153   inchikey: QFWCYNPOPKQOKV-UHFFFAOYSA-N  chemblId is : CHEMBL35482\n",
      " ctr: 155  idx: 154   inchikey: PZBPKYOVPCNPJY-UHFFFAOYSA-N  chemblId is : CHEMBL356918\n",
      " ctr: 156  idx: 155   inchikey: PHSPJQZRQAJPPF-UHFFFAOYSA-N  chemblId is : CHEMBL268490\n",
      " ctr: 157  idx: 156   inchikey: MNYJJHBAEYKXEG-UHFFFAOYSA-N  chemblId is : CHEMBL1822336\n",
      " ctr: 158  idx: 157   inchikey: FAIIFDPAEUKBEP-UHFFFAOYSA-N  chemblId is : CHEMBL517427\n",
      " ctr: 159  idx: 158   inchikey: JVCWPUFNLFSKFS-UHFFFAOYSA-N  chemblId is : CHEMBL2206278\n",
      " Nan row encounntered - continue\n",
      " ctr: 161  idx: 160   inchikey: IAYGCINLNONXHY-LBPRGKRZSA-N  chemblId is : CHEMBL2041933\n",
      " ctr: 162  idx: 161   inchikey: SCELLOWTHJGVIC-BGYRXZFFSA-N  chemblId is : CHEMBL2140173\n",
      " ctr: 163  idx: 162   inchikey: MQQNFDZXWVTQEH-UHFFFAOYSA-N  chemblId is : CHEMBL273264\n",
      " ctr: 164  idx: 163   inchikey: SZBGQDXLNMELTB-UHFFFAOYSA-N  chemblId is : CHEMBL2142592\n",
      " ctr: 165  idx: 164   inchikey: VGZSUPCWNCWDAN-UHFFFAOYSA-N  chemblId is : CHEMBL1589\n",
      " Nan row encounntered - continue\n",
      " ctr: 167  idx: 166   inchikey: WXXSNCNJFUAIDG-UHFFFAOYSA-N  chemblId is : CHEMBL2107834\n",
      " ctr: 168  idx: 167   inchikey: LLVZBTWPGQVVLW-SNAWJCMRSA-N  chemblId is : CHEMBL483321\n",
      " ctr: 169  idx: 168   inchikey: RVAQIUULWULRNW-UHFFFAOYSA-N  chemblId is : CHEMBL2103879\n",
      " ctr: 170  idx: 169   inchikey: ZYVXTMKTGDARKR-UHFFFAOYSA-N  chemblId is : CHEMBL3421968\n",
      " ctr: 171  idx: 170   inchikey: KUUJEXLRLIPQQJ-UHFFFAOYSA-N  chemblId is : CHEMBL343732\n",
      " ctr: 172  idx: 171   inchikey: NQQBNZBOOHHVQP-UHFFFAOYSA-N  chemblId is : CHEMBL510038\n",
      " ctr: 173  idx: 172   inchikey: DEQANNDTNATYII-UHFFFAOYSA-N  chemblId is : CHEMBL262746\n",
      " ctr: 174  idx: 173   inchikey: KBPLFHHGFOOTCA-UHFFFAOYSA-N  chemblId is : CHEMBL26215\n",
      " ctr: 175  idx: 174   inchikey: WDENQIQQYWYTPO-IBGZPJMESA-N  chemblId is : CHEMBL3707348\n",
      " ctr: 176  idx: 175   inchikey: HJYYPODYNSCCOU-ODRIEIDWSA-N  chemblId is : CHEMBL437765\n",
      " ctr: 177  idx: 176   inchikey: CUIHSIWYWATEQL-UHFFFAOYSA-N  chemblId is : CHEMBL477772\n",
      " ctr: 178  idx: 177   inchikey: GDVRVPIXWXOKQO-UHFFFAOYSA-N  chemblId is : CHEMBL3218011\n",
      " ctr: 179  idx: 178   inchikey: GVJHHUAWPYXKBD-IEOSBIPESA-N  chemblId is : CHEMBL47\n",
      " ctr: 180  idx: 179   inchikey: XXRCUYVCPSWGCC-UHFFFAOYSA-N  chemblId is : CHEMBL173373\n",
      " ctr: 181  idx: 180   inchikey: RYEFFICCPKWYML-UHFFFAOYSA-N  chemblId is : CHEMBL1881068\n",
      " ctr: 182  idx: 181   inchikey: BCZUAADEACICHN-UHFFFAOYSA-N  chemblId is : CHEMBL1236107\n",
      " ctr: 183  idx: 182   inchikey: PBBRWFOVCUAONR-UHFFFAOYSA-N  chemblId is : CHEMBL406845\n",
      " Nan row encounntered - continue\n",
      " ctr: 185  idx: 184   inchikey: QNQZWEGMKJBHEM-UHFFFAOYSA-N  chemblId is : CHEMBL3617964\n",
      " ctr: 186  idx: 185   inchikey: UFJGFNHRMPMALC-UHFFFAOYSA-N  chemblId is : CHEMBL1345690\n",
      " ctr: 187  idx: 186   inchikey: UCAGLBKTLXCODC-UHFFFAOYSA-N  chemblId is : CHEMBL414\n",
      " ctr: 188  idx: 187   inchikey: XRKYMMUGXMWDAO-UHFFFAOYSA-N  chemblId is : CHEMBL222102\n",
      " ctr: 189  idx: 188   inchikey: AECDBHGVIIRMOI-GRGXKFILSA-N  chemblId is : CHEMBL1614712\n",
      " ctr: 190  idx: 189   inchikey: VHOGYURTWQBHIL-UHFFFAOYSA-N  chemblId is : CHEMBL960\n",
      " ctr: 191  idx: 190   inchikey: FABUFPQFXZVHFB-PVYNADRNSA-N  chemblId is : CHEMBL1201752\n",
      " ctr: 192  idx: 191   inchikey: CXJCGSPAPOTTSF-VURMDHGXSA-N  chemblId is : CHEMBL1236620\n",
      " ctr: 193  idx: 192   inchikey: ZIUDADZJCKGWKR-AREMUKBSSA-N  chemblId is : CHEMBL3287218\n",
      " ctr: 194  idx: 193   inchikey: BBDGBGOVJPEFBT-UHFFFAOYSA-N  chemblId is : CHEMBL2385591\n",
      " ctr: 195  idx: 194   inchikey: HKQYGTCOTHHOMP-UHFFFAOYSA-N  chemblId is : CHEMBL242341\n",
      " ctr: 196  idx: 195   inchikey: RAMROQQYRRQPDL-HNNXBMFYSA-N  chemblId is : CHEMBL286721\n",
      " ctr: 197  idx: 196   inchikey: HFNKQEVNSGCOJV-OAHLLOKOSA-N  chemblId is : CHEMBL1789941\n",
      " ctr: 198  idx: 197   inchikey: XXYGTCZJJLTAGH-UHFFFAOYSA-N  chemblId is : CHEMBL3188386\n",
      " ctr: 199  idx: 198   inchikey: HSTZMXCBWJGKHG-CUYWLFDKSA-N  chemblId is : CHEMBL142652\n",
      " ctr: 200  idx: 199   inchikey: JPGQOUSTVILISH-UHFFFAOYSA-N  chemblId is : CHEMBL1257\n",
      " ctr: 201  idx: 200   inchikey: TXZPMHLMPKIUGK-UHFFFAOYSA-N  chemblId is : CHEMBL2179387\n",
      " ctr: 202  idx: 201   inchikey: OAVGBZOFDPFGPJ-UHFFFAOYSA-N  chemblId is : CHEMBL565612\n",
      " ctr: 203  idx: 202   inchikey: YPHMISFOHDHNIV-FSZOTQKASA-N  chemblId is : CHEMBL123292\n",
      " ctr: 204  idx: 203   inchikey: XNOPRXBHLZRZKH-DSZYJQQASA-N  chemblId is : CHEMBL395429\n",
      " ctr: 205  idx: 204   inchikey: IAKHMKGGTNLKSZ-INIZCTEOSA-N  chemblId is : CHEMBL107\n",
      " ctr: 206  idx: 205   inchikey: TXUZVZSFRXZGTL-QPLCGJKRSA-N  chemblId is : CHEMBL489\n",
      " ctr: 207  idx: 206   inchikey: XLSYZSRXVVCHLS-UHFFFAOYSA-N  chemblId is : CHEMBL3545083\n",
      " ctr: 208  idx: 207   inchikey: XDFKWGIBQMHSOH-UHFFFAOYSA-N  chemblId is : CHEMBL4075936\n",
      " ctr: 209  idx: 208   inchikey: ULYONBAOIMCNEH-HNNXBMFYSA-N  chemblId is : CHEMBL266510\n",
      " ctr: 210  idx: 209   inchikey: RAHBGWKEPAQNFF-UHFFFAOYSA-N  chemblId is : CHEMBL572881\n",
      " ctr: 211  idx: 210   inchikey: QTQAWLPCGQOSGP-PHLMVCJGSA-N  chemblId is : CHEMBL4303630\n",
      " ctr: 212  idx: 211   inchikey: RONQPWQYDRPRGG-UHFFFAOYSA-N  chemblId is : CHEMBL7939\n",
      " ctr: 213  idx: 212   inchikey: PBCZSGKMGDDXIJ-KRUBCLEUSA-N  chemblId is : CHEMBL574737\n",
      " ctr: 214  idx: 213   inchikey: BNFRJXLZYUTIII-UHFFFAOYSA-N  chemblId is : CHEMBL18901\n",
      " ctr: 215  idx: 214   inchikey: CDMGBJANTYXAIV-UHFFFAOYSA-N  chemblId is : CHEMBL10\n",
      " ctr: 216  idx: 215   inchikey: UIEATEWHFDRYRU-UHFFFAOYSA-N  chemblId is : CHEMBL1008\n",
      " ctr: 217  idx: 216   inchikey: SJFBTAPEPRWNKH-CCKFTAQKSA-N  chemblId is : CHEMBL270515\n",
      " ctr: 218  idx: 217   inchikey: VYMDGNCVAMGZFE-UHFFFAOYSA-N  chemblId is : CHEMBL101\n",
      " ctr: 219  idx: 218   inchikey: BOFQWVMAQOTZIW-UHFFFAOYSA-N  chemblId is : CHEMBL550348\n",
      " ctr: 220  idx: 219   inchikey: XXJWYDDUDKYVKI-UHFFFAOYSA-N  chemblId is : CHEMBL491473\n",
      " ctr: 221  idx: 220   inchikey: PIWKPBJCKXDKJR-UHFFFAOYSA-N  chemblId is : CHEMBL1256\n",
      " ctr: 222  idx: 221   inchikey: QUIIIYITNGOFEI-UHFFFAOYSA-N  chemblId is : CHEMBL1917204\n",
      " ctr: 223  idx: 222   inchikey: POJZIZBONPAWIV-UHFFFAOYSA-N  chemblId is : CHEMBL472212\n",
      " ctr: 224  idx: 223   inchikey: VXBAJLGYBMTJCY-NSCUHMNNSA-N  chemblId is : CHEMBL1944698\n",
      " ctr: 225  idx: 224   inchikey: KPYSYYIEGFHWSV-UHFFFAOYSA-N  chemblId is : CHEMBL701\n",
      " ctr: 226  idx: 225   inchikey: NSFFHOGKXHRQEW-DVRIZHICSA-N  chemblId is : CHEMBL410968\n",
      " ctr: 227  idx: 226   inchikey: LPEPZBJOKDYZAD-UHFFFAOYSA-N  chemblId is : CHEMBL23588\n",
      " ctr: 228  idx: 227   inchikey: IHLVSLOZUHKNMQ-UHFFFAOYSA-N  chemblId is : CHEMBL260015\n",
      " ctr: 229  idx: 228   inchikey: JBIMVDZLSHOPLA-LSCVHKIXSA-N  chemblId is : CHEMBL1189432\n",
      " ctr: 230  idx: 229   inchikey: JDVVGAQPNNXQDW-TVNFTVLESA-N  chemblId is : CHEMBL311226\n",
      " ctr: 231  idx: 230   inchikey: QQGWEXFLMJGCAL-UHFFFAOYSA-N  chemblId is : CHEMBL267678\n",
      " ctr: 232  idx: 231   inchikey: ZQPXNYLXYNRFNP-UHFFFAOYSA-N  chemblId is : CHEMBL2146753\n",
      " ctr: 233  idx: 232   inchikey: KGPGQDLTDHGEGT-SZUNQUCBSA-N  chemblId is : CHEMBL3301669\n",
      " ctr: 234  idx: 233   inchikey: XDJCLCLBSGGNKS-UHFFFAOYSA-N  chemblId is : CHEMBL1614713\n",
      " ctr: 235  idx: 234   inchikey: VDJHFHXMUKFKET-WDUFCVPESA-N  chemblId is : CHEMBL1863513\n",
      " ctr: 236  idx: 235   inchikey: MJVAVZPDRWSRRC-UHFFFAOYSA-N  chemblId is : CHEMBL590\n",
      " ctr: 237  idx: 236   inchikey: MVCQKIKWYUURMU-UHFFFAOYSA-N  chemblId is : CHEMBL2103825\n",
      " ctr: 238  idx: 237   inchikey: QXKHYNVANLEOEG-UHFFFAOYSA-N  chemblId is : CHEMBL416\n",
      " ctr: 239  idx: 238   inchikey: PMATZTZNYRCHOR-CGLBZJNRSA-N  chemblId is : CHEMBL160\n",
      " ctr: 240  idx: 239   inchikey: PKCYYPHSCUSQDK-AYKLPDECSA-N  chemblId is : CHEMBL227547\n",
      " ctr: 241  idx: 240   inchikey: BGVLELSCIHASRV-QPEQYQDCSA-N  chemblId is : CHEMBL408982\n",
      " ctr: 242  idx: 241   inchikey: RAOCRURYZCVHMG-UHFFFAOYSA-N  chemblId is : CHEMBL1087630\n",
      " ctr: 243  idx: 242   inchikey: JOOXLOJCABQBSG-UHFFFAOYSA-N  chemblId is : CHEMBL1287853\n",
      " ctr: 244  idx: 243   inchikey: IBAQFPQHRJAVAV-WMEPKMGJSA-N  chemblId is : CHEMBL3039370\n",
      " ctr: 245  idx: 244   inchikey: NZHGWWWHIYHZNX-CSKARUKUSA-N  chemblId is : CHEMBL415324\n",
      " ctr: 246  idx: 245   inchikey: UGYXPZQILZRKJJ-UHFFFAOYSA-N  chemblId is : CHEMBL275443\n",
      " ctr: 247  idx: 246   inchikey: WLBUICQBNZXIDJ-UHFFFAOYSA-N  chemblId is : CHEMBL179945\n",
      " ctr: 248  idx: 247   inchikey: YKJYKKNCCRKFSL-RDBSUJKOSA-N  chemblId is : CHEMBL423192\n",
      " ctr: 249  idx: 248   inchikey: JHSXDAWGLCZYSM-UHFFFAOYSA-N  chemblId is : CHEMBL1526649\n",
      " ctr: 250  idx: 249   inchikey: MJSHVHLADKXCML-RQNOJGIXSA-N  chemblId is : CHEMBL3326006\n",
      " ctr: 251  idx: 250   inchikey: IVUGFMLRJOCGAS-UHFFFAOYSA-N  chemblId is : CHEMBL2140408\n",
      " ctr: 252  idx: 251   inchikey: IIXWYSCJSQVBQM-UHFFFAOYSA-N  chemblId is : CHEMBL4303155\n",
      " ctr: 253  idx: 252   inchikey: NHFDRBXTEDBWCZ-ZROIWOOFSA-N  chemblId is : CHEMBL274654\n",
      " ctr: 254  idx: 253   inchikey: GIUYCYHIANZCFB-FJFJXFQQSA-N  chemblId is : CHEMBL1096882\n",
      " ctr: 255  idx: 254   inchikey: VERWOWGGCGHDQE-UHFFFAOYSA-N  chemblId is : CHEMBL2403108\n",
      " ctr: 256  idx: 255   inchikey: OINGHOPGNMYCAB-INIZCTEOSA-N  chemblId is : CHEMBL3609372\n",
      " ctr: 257  idx: 256   inchikey: HYFHYPWGAURHIV-JFIAXGOJSA-N  chemblId is : CHEMBL46286\n",
      " ctr: 258  idx: 257   inchikey: PIMZUZSSNYHVCU-KBLUICEQSA-N  chemblId is : CHEMBL2135566\n",
      " ctr: 259  idx: 258   inchikey: OHRURASPPZQGQM-GCCNXGTGSA-N  chemblId is : CHEMBL343448\n",
      " ctr: 260  idx: 259   inchikey: LRRMQNGSYOUANY-OMCISZLKSA-N  chemblId is : CHEMBL509051\n",
      " ctr: 261  idx: 260   inchikey: LENZDBCJOHFCAS-UHFFFAOYSA-N  chemblId is : CHEMBL1200391\n",
      " ctr: 262  idx: 261   inchikey: RYMZZMVNJRMUDD-HGQWONQESA-N  chemblId is : CHEMBL1064\n",
      " ctr: 263  idx: 262   inchikey: REZGGXNDEMKIQB-UHFFFAOYSA-N  chemblId is : CHEMBL28079\n",
      " ctr: 264  idx: 263   inchikey: UREBDLICKHMUKA-QCYOSJOCSA-N  chemblId is : CHEMBL378081\n",
      " ctr: 265  idx: 264   inchikey: YGSDEFSMJLZEOE-UHFFFAOYSA-N  chemblId is : CHEMBL424\n",
      " ctr: 266  idx: 265   inchikey: HSUGRBWQSSZJOP-UHFFFAOYSA-N  chemblId is : CHEMBL603584\n",
      " ctr: 267  idx: 266   inchikey: KJFMBFZCATUALV-UHFFFAOYSA-N  chemblId is : CHEMBL63857\n",
      " ctr: 268  idx: 267   inchikey: JZFPYUNJRRFVQU-UHFFFAOYSA-N  chemblId is : CHEMBL63323\n",
      " ctr: 269  idx: 268   inchikey: LEVWYRKDKASIDU-UHFFFAOYSA-N  chemblId is : CHEMBL366563\n",
      " ctr: 270  idx: 269   inchikey: XRVDGNKRPOAQTN-FQEVSTJZSA-N  chemblId is : CHEMBL3707247\n",
      " ctr: 271  idx: 270   inchikey: RATZLMXRALDSJW-UHFFFAOYSA-N  chemblId is : CHEMBL57895\n",
      " ctr: 272  idx: 271   inchikey: UQNAFPHGVPVTAL-UHFFFAOYSA-N  chemblId is : CHEMBL222519\n",
      " ctr: 273  idx: 272   inchikey: XEYBRNLFEZDVAW-ARSRFYASSA-N  chemblId is : CHEMBL548\n",
      " ctr: 274  idx: 273   inchikey: PDMUULPVBYQBBK-UHFFFAOYSA-N  chemblId is : CHEMBL18701\n",
      " ctr: 275  idx: 274   inchikey: JOLJIIDDOBNFHW-UHFFFAOYSA-N  chemblId is : CHEMBL21536\n",
      " ctr: 276  idx: 275   inchikey: VCKUSRYTPJJLNI-UHFFFAOYSA-N  chemblId is : CHEMBL611\n",
      " Nan row encounntered - continue\n",
      " ctr: 278  idx: 277   inchikey: SNICXCGAKADSCV-UHFFFAOYSA-N  chemblId is : CHEMBL440464\n",
      " ctr: 279  idx: 278   inchikey: VDQLKIBLTMPAHI-UHFFFAOYSA-N  chemblId is : CHEMBL353187\n",
      " ctr: 280  idx: 279   inchikey: NXNKJLOEGWSJGI-BKMJKUGQSA-N  chemblId is : CHEMBL214529\n",
      " ctr: 281  idx: 280   inchikey: UIAGMCDKSXEBJQ-UHFFFAOYSA-N  chemblId is : CHEMBL1428\n",
      " ctr: 282  idx: 281   inchikey: VSWDORGPIHIGNW-UHFFFAOYSA-N  chemblId is : CHEMBL399491\n",
      " ctr: 283  idx: 282   inchikey: ZESFDAKNYJQYKO-UHFFFAOYSA-N  chemblId is : CHEMBL495841\n",
      " ctr: 284  idx: 283   inchikey: RNSLRQNDXRSASX-UHFFFAOYSA-N  chemblId is : CHEMBL1368758\n",
      " ctr: 285  idx: 284   inchikey: FERIUCNNQQJTOY-UHFFFAOYSA-N  chemblId is : CHEMBL14227\n",
      " ctr: 286  idx: 285   inchikey: FPVKHBSQESCIEP-JQCXWYLXSA-N  chemblId is : CHEMBL1580\n",
      " ctr: 287  idx: 286   inchikey: ICDMLAQPOAVWNH-HAAQQRBASA-N  chemblId is : CHEMBL1316265\n",
      " Nan row encounntered - continue\n",
      " ctr: 289  idx: 288   inchikey: CXUCKELNYMZTRT-UHFFFAOYSA-N  chemblId is : CHEMBL452887\n",
      " ctr: 290  idx: 289   inchikey: WGZOTBUYUFBEPZ-UHFFFAOYSA-N  chemblId is : CHEMBL226838\n",
      " ctr: 291  idx: 290   inchikey: DTGLZDAWLRGWQN-UHFFFAOYSA-N  chemblId is : CHEMBL1201772\n",
      " ctr: 292  idx: 291   inchikey: ODHCTXKNWHHXJC-VKHMYHEASA-N  chemblId is : CHEMBL397976\n",
      " ctr: 293  idx: 292   inchikey: NQDJXKOVJZTUJA-UHFFFAOYSA-N  chemblId is : CHEMBL57\n",
      " ctr: 294  idx: 293   inchikey: FNYLWPVRPXGIIP-UHFFFAOYSA-N  chemblId is : CHEMBL585\n",
      " ctr: 295  idx: 294   inchikey: FNHKPVJBJVTLMP-UHFFFAOYSA-N  chemblId is : CHEMBL1946170\n",
      " ctr: 296  idx: 295   inchikey: CMSMOCZEIVJLDB-UHFFFAOYSA-N  chemblId is : CHEMBL88\n",
      " ctr: 297  idx: 296   inchikey: KVWDHTXUZHCGIO-UHFFFAOYSA-N  chemblId is : CHEMBL715\n",
      " ctr: 298  idx: 297   inchikey: LLIFMNUXGDHTRO-UHFFFAOYSA-N  chemblId is : CHEMBL361501\n",
      " ctr: 299  idx: 298   inchikey: RQVGFDBMONQTBC-UHFFFAOYSA-N  chemblId is : CHEMBL2180603\n",
      " ctr: 300  idx: 299   inchikey: RRGUKTPIGVIEKM-UHFFFAOYSA-N  chemblId is : CHEMBL799\n",
      " ctr: 301  idx: 300   inchikey: NEMHKCNXXRQYRF-UHFFFAOYSA-N  chemblId is : CHEMBL2419490\n",
      " ctr: 302  idx: 301   inchikey: DJKJVWJQAVGLHJ-YPMHNXCESA-N  chemblId is : CHEMBL519240\n",
      " ctr: 303  idx: 302   inchikey: MFDFERRIHVXMIY-UHFFFAOYSA-N  chemblId is : CHEMBL569\n",
      " ctr: 304  idx: 303   inchikey: BYBLEWFAAKGYCD-UHFFFAOYSA-N  chemblId is : CHEMBL91\n",
      " ctr: 305  idx: 304   inchikey: RDOIQAHITMMDAJ-UHFFFAOYSA-N  chemblId is : CHEMBL841\n",
      " ctr: 306  idx: 305   inchikey: CEUORZQYGODEFX-UHFFFAOYSA-N  chemblId is : CHEMBL1112\n",
      " ctr: 307  idx: 306   inchikey: IAZDPXIOMUYVGZ-UHFFFAOYSA-N  chemblId is : CHEMBL504\n"
     ]
    }
   ],
   "source": [
    "fingerprints = dict()\n",
    "\n",
    "for idx,  (i, j) in enumerate( getChemblId(df, limit = len(df.index)) ) :\n",
    "#     print(f\" idx  is {idx} ,  fingerprints[{i}]  - items in fingerprint  {len(j)}\" )\n",
    "    fingerprints[i] = j"
   ]
  },
  {
   "cell_type": "code",
   "execution_count": 19,
   "id": "fe8e1ffb",
   "metadata": {
    "ExecuteTime": {
     "end_time": "2023-04-12T07:43:52.630392Z",
     "start_time": "2023-04-12T07:43:52.626659Z"
    }
   },
   "outputs": [
    {
     "data": {
      "text/plain": [
       "299"
      ]
     },
     "execution_count": 19,
     "metadata": {},
     "output_type": "execute_result"
    }
   ],
   "source": [
    " len(fingerprints)\n",
    "# df1.info()"
   ]
  },
  {
   "cell_type": "code",
   "execution_count": 30,
   "id": "38095c5b",
   "metadata": {
    "ExecuteTime": {
     "end_time": "2023-04-12T07:53:23.300845Z",
     "start_time": "2023-04-12T07:53:23.297826Z"
    }
   },
   "outputs": [
    {
     "name": "stdout",
     "output_type": "stream",
     "text": [
      " fingerprint CSC file   :   fingerprints.csv\n",
      " fingerprint numpy file :   fingerprints_32000.npy\n",
      " compounds file         :   JUMP-Target-1_compound_metadata_X.csv\n"
     ]
    }
   ],
   "source": [
    "fingerprintCsvFile = 'fingerprints.csv'\n",
    "fingerprintNpyFile = 'fingerprints_32000.npy'\n",
    "compoundFeatureFile = 'JUMP-Target-1_compound_metadata_X.csv'\n",
    "print(f\" fingerprint CSC file   :   {fingerprintFile}\")\n",
    "print(f\" fingerprint numpy file :   {fingerprintNpyFile}\")\n",
    "print(f\" compounds file         :   {compoundFeatureFile}\")"
   ]
  },
  {
   "cell_type": "code",
   "execution_count": 31,
   "id": "62c060c9",
   "metadata": {
    "ExecuteTime": {
     "end_time": "2023-04-12T07:53:28.005518Z",
     "start_time": "2023-04-12T07:53:28.002524Z"
    }
   },
   "outputs": [
    {
     "name": "stdout",
     "output_type": "stream",
     "text": [
      "<class 'dict'>\n",
      "299\n",
      "CHEMBL1628502\n",
      "{130838830: 1, 164220124: 1, 171200514: 1, 231201637: 1, 400448488: 1, 481947414: 1, 581301497: 1, 769380566: 1, 785693365: 1, 847336149: 1, 864662311: 2, 864674487: 2, 864942730: 2, 959391939: 2, 989142202: 1, 1064883769: 1, 1219006618: 1, 1384287572: 1, 1428247845: 1, 1510328189: 2, 1533864325: 2, 1758212621: 1, 1962383056: 1, 2035223670: 1, 2059730245: 1, 2068601177: 1, 2073911110: 1, 2119439498: 2, 2142032900: 3, 2245273601: 2, 2245384272: 2, 2246699815: 3, 2246728737: 3, 2318542907: 1, 2479916646: 2, 2807496773: 2, 2968968094: 5, 2976816164: 1, 3139466427: 1, 3168006864: 1, 3537119515: 3, 3599133573: 1, 3752318298: 1, 3937799038: 1, 3958686461: 1, 3973210402: 1, 4036774035: 1, 4064422336: 1, 4176247988: 1, 4264319555: 1, 4278941385: 1}\n"
     ]
    }
   ],
   "source": [
    "print(type(fingerprints))\n",
    "fp_key_list = list(fingerprints.keys())\n",
    "print(len(fp_key_list))\n",
    "print(fp_key_list[0])\n",
    "print(fingerprints[fp_key_list[0]])"
   ]
  },
  {
   "cell_type": "code",
   "execution_count": 32,
   "id": "e000f9c6",
   "metadata": {
    "ExecuteTime": {
     "end_time": "2023-04-12T07:53:35.757288Z",
     "start_time": "2023-04-12T07:53:35.745560Z"
    }
   },
   "outputs": [
    {
     "name": "stdout",
     "output_type": "stream",
     "text": [
      " => fingerprints written to fingerprints.csv \n"
     ]
    }
   ],
   "source": [
    "## Write CSV dataset of compound, feature\n",
    "saveFingerprints(fingerprints, fingerprintCsvFile)"
   ]
  },
  {
   "cell_type": "code",
   "execution_count": 54,
   "id": "4bbbc779",
   "metadata": {
    "ExecuteTime": {
     "end_time": "2023-04-12T08:12:26.426986Z",
     "start_time": "2023-04-12T08:12:26.420439Z"
    }
   },
   "outputs": [],
   "source": [
    "def saveFingerprintsNpy_Dev(results:dict, fingerprintFile:str, featuresFile:str, ecfp_fold:int =32000, verbose:bool = False):\n",
    "    \"\"\" write fingerprints to npy, compunds to CSV file \"\"\"\n",
    "    ## fp2 : list of tuples : each tuple: (compound id, (array of features, array of counts))\n",
    "    fp2 =[(x,(np.array(list(results[x].keys())), np.array(list(results[x].values())))) for x in results] #TODO: Modify to save compound list\n",
    "\n",
    "    \n",
    "    ## cmpd: tuple of strings, each representing a chembl compound\n",
    "    ## ecfp: tuple of tuples each tuple being an array of (features, counts)\n",
    "    cmpd, ecfp   = zip(*fp2) \n",
    "    if verbose:\n",
    "        print(' fp2  :  list of ', type(fp2[0]), fp2[0])        \n",
    "        print(' cmpd :  list of ', type(cmpd[0]), cmpd[:10], '\\n')\n",
    "        print(' ecfp :  list of ', type(ecfp[0]), ecfp[0], '\\n')\n",
    "    \n",
    "    ## feat  : tuple of ndarrays, each member being a ndarray of features \n",
    "    ## counts: tuple of ndarrays, each member being a ndarray of counts \n",
    "    feat, counts = zip(*ecfp)\n",
    "    \n",
    "    if verbose:\n",
    "        print(' feat[0] :  ', type(feat[0]), feat[0], '\\n')\n",
    "        print(' counts[0] :  ' ,type(counts[0]), counts[0], '\\n')\n",
    "    \n",
    "    ## Create indicies for csr matrix\n",
    "    ## the column indices for row i are stored in indices[indptr[i]:indptr[i+1]] \n",
    "    ## their corresponding values are stored in data[indptr[i]:indptr[i+1]]\n",
    "    lens    = np.array([len(f) for f in feat])\n",
    "    indptr  = np.concatenate([[0], np.cumsum(lens)])\n",
    "    indices = np.concatenate(feat) % ecfp_fold\n",
    "    data    = np.ones(indices.shape[0])\n",
    "    \n",
    "    if verbose:    \n",
    "        print(f\" cmpd :   type {type(cmpd)}  len: {len(cmpd)} \\n\\t {cmpd[0]}\")\n",
    "        print(f\" ecfp :   type {type(ecfp)}  len: {len(ecfp)} \\n\\t {ecfp[0]}\")\n",
    "        print(f\" feat :   type {type(feat)}  len: {len(feat)} \\n\\t {feat[0]}\")\n",
    "\n",
    "        print(f\" counts :   type {type(counts)}  len: {len(counts)}\")\n",
    "        print(f\"     {counts[:10]}\")\n",
    "\n",
    "        print(f\" lens :   type {type(lens)}  len: {len(lens)}\")\n",
    "        print(f\"     {lens[:10]}\")\n",
    "\n",
    "        print(f\" indptr :   type {type(indptr)}  len: {len(indptr)}\")\n",
    "        print(f\"     {indptr[:10]}\")\n",
    "\n",
    "        print(f\" feat prefold:   type {type(np.concatenate(feat))}  len: {len(np.concatenate(feat))}\")    \n",
    "        print(f\"     {np.concatenate(feat)[:10]}\")\n",
    "\n",
    "        print(f\" indices :   type {type(indices)}  len: {len(indices)}\")\n",
    "        print(f\"     {indices[:10]}\")\n",
    "\n",
    "        print(f\" data :   type {type(data)}  len: {len(data)}\")\n",
    "        print(f\"     {data[:10]}\")\n",
    "\n",
    "    \n",
    "    ## Create CSR matrix\n",
    "    csr     = csr_matrix((data, indices, indptr), shape=(len(feat), ecfp_fold))\n",
    "    csr.sum_duplicates()\n",
    "    csr.data[:] = 1.0\n",
    "    \n",
    "    # write fingerprint data to numpy CSR sparse matrix \n",
    "    np.save(fingerprintFile, csr)\n",
    "    print(f\" => fingerprints written to {fingerprintFile} \")    \n",
    "    \n",
    "    # write compounds to csv file \n",
    "    pd.DataFrame(cmpd).to_csv(featuresFile, header=False)\n",
    "    print(f\" => compounds written to {featuresFile} \")     "
   ]
  },
  {
   "cell_type": "code",
   "execution_count": 55,
   "id": "0158cab6",
   "metadata": {
    "ExecuteTime": {
     "end_time": "2023-04-12T08:12:26.603840Z",
     "start_time": "2023-04-12T08:12:26.595205Z"
    }
   },
   "outputs": [
    {
     "name": "stdout",
     "output_type": "stream",
     "text": [
      " => fingerprints written to fingerprints_32000.npy \n",
      " => compounds written to JUMP-Target-1_compound_metadata_X.csv \n"
     ]
    }
   ],
   "source": [
    "saveFingerprintsNpy_Dev(fingerprints, fingerprintNpyFile, compoundFeatureFile, ecfp_fold=32000)"
   ]
  },
  {
   "cell_type": "code",
   "execution_count": null,
   "id": "087991bf",
   "metadata": {},
   "outputs": [],
   "source": []
  }
 ],
 "metadata": {
  "kernelspec": {
   "display_name": "Python [conda env:cp312]",
   "language": "python",
   "name": "conda-env-cp312-py"
  },
  "language_info": {
   "codemirror_mode": {
    "name": "ipython",
    "version": 3
   },
   "file_extension": ".py",
   "mimetype": "text/x-python",
   "name": "python",
   "nbconvert_exporter": "python",
   "pygments_lexer": "ipython3",
   "version": "3.12.1"
  },
  "toc": {
   "base_numbering": 1,
   "nav_menu": {},
   "number_sections": true,
   "sideBar": true,
   "skip_h1_title": false,
   "title_cell": "Table of Contents",
   "title_sidebar": "Contents",
   "toc_cell": false,
   "toc_position": {},
   "toc_section_display": true,
   "toc_window_display": false
  }
 },
 "nbformat": 4,
 "nbformat_minor": 5
}
