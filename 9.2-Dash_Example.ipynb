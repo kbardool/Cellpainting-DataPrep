{
 "cells": [
  {
   "cell_type": "code",
   "execution_count": 1,
   "id": "48d05678-8129-401c-8dc9-a13a08dec9ff",
   "metadata": {
    "ExecuteTime": {
     "end_time": "2023-07-31T18:37:09.830560Z",
     "start_time": "2023-07-31T18:37:09.189750Z"
    },
    "execution": {
     "iopub.execute_input": "2024-03-02T17:20:55.604446Z",
     "iopub.status.busy": "2024-03-02T17:20:55.603954Z",
     "iopub.status.idle": "2024-03-02T17:20:56.023300Z",
     "shell.execute_reply": "2024-03-02T17:20:56.022739Z",
     "shell.execute_reply.started": "2024-03-02T17:20:55.604401Z"
    }
   },
   "outputs": [
    {
     "data": {
      "text/html": [
       "<style>.container { width:98% !important; }</style>"
      ],
      "text/plain": [
       "<IPython.core.display.HTML object>"
      ]
     },
     "metadata": {},
     "output_type": "display_data"
    }
   ],
   "source": [
    "from IPython.display import display, HTML\n",
    "display(HTML(\"<style>.container { width:98% !important; }</style>\"))\n",
    "%load_ext autoreload  \n",
    "%autoreload 2\n",
    "from IPython.core.interactiveshell import InteractiveShell\n",
    "InteractiveShell.ast_node_interactivity = \"all\"\n",
    "%matplotlib inline"
   ]
  },
  {
   "cell_type": "code",
   "execution_count": 2,
   "id": "4f886543-ed11-4a95-9d36-93f3e2b471ba",
   "metadata": {
    "execution": {
     "iopub.execute_input": "2024-03-02T17:20:56.603520Z",
     "iopub.status.busy": "2024-03-02T17:20:56.602824Z",
     "iopub.status.idle": "2024-03-02T17:20:57.197271Z",
     "shell.execute_reply": "2024-03-02T17:20:57.196576Z",
     "shell.execute_reply.started": "2024-03-02T17:20:56.603475Z"
    }
   },
   "outputs": [],
   "source": [
    "from dash import Dash, dcc, html, Input, Output\n",
    "import plotly.express as px\n",
    "from dash import jupyter_dash"
   ]
  },
  {
   "cell_type": "code",
   "execution_count": 3,
   "id": "7cb8dbcf-f1f1-4756-938a-7adb859c2975",
   "metadata": {
    "execution": {
     "iopub.execute_input": "2024-03-02T17:20:58.449070Z",
     "iopub.status.busy": "2024-03-02T17:20:58.448625Z",
     "iopub.status.idle": "2024-03-02T17:20:58.480376Z",
     "shell.execute_reply": "2024-03-02T17:20:58.479698Z",
     "shell.execute_reply.started": "2024-03-02T17:20:58.449045Z"
    }
   },
   "outputs": [],
   "source": [
    "app = Dash(__name__)\n",
    "\n",
    "app.layout = html.Div([\n",
    "    html.H4('Analysis of Iris data using scatter matrix'),\n",
    "    dcc.Dropdown(\n",
    "        id=\"dropdown\",\n",
    "        options=['sepal_length', 'sepal_width', 'petal_length', 'petal_width'],\n",
    "        value=['sepal_length', 'sepal_width'],\n",
    "        multi=True\n",
    "    ),\n",
    "    dcc.Graph(id=\"graph\"),\n",
    "])\n",
    "\n",
    "\n",
    "@app.callback(\n",
    "    Output(\"graph\", \"figure\"), \n",
    "    Input(\"dropdown\", \"value\"))\n",
    "def update_bar_chart(dims):\n",
    "    df = px.data.iris() # replace with your own data source\n",
    "    fig = px.scatter_matrix(\n",
    "        df, dimensions=dims, color=\"species\")\n",
    "    return fig"
   ]
  },
  {
   "cell_type": "code",
   "execution_count": 4,
   "id": "2c3f7569-5099-478e-bc12-dafe0f51b9a3",
   "metadata": {
    "execution": {
     "iopub.execute_input": "2024-03-02T17:21:00.152586Z",
     "iopub.status.busy": "2024-03-02T17:21:00.152032Z",
     "iopub.status.idle": "2024-03-02T17:21:00.184638Z",
     "shell.execute_reply": "2024-03-02T17:21:00.183704Z",
     "shell.execute_reply.started": "2024-03-02T17:21:00.152541Z"
    }
   },
   "outputs": [
    {
     "name": "stderr",
     "output_type": "stream",
     "text": [
      "/home/kevin/miniforge3/envs/cp311/lib/python3.11/site-packages/plotly/express/_core.py:1983: FutureWarning:\n",
      "\n",
      "When grouping with a length-1 list-like, you will need to pass a length-1 tuple to get_group in a future version of pandas. Pass `(name,)` instead of `name` to silence this warning.\n",
      "\n",
      "/home/kevin/miniforge3/envs/cp311/lib/python3.11/site-packages/plotly/express/_core.py:1983: FutureWarning:\n",
      "\n",
      "When grouping with a length-1 list-like, you will need to pass a length-1 tuple to get_group in a future version of pandas. Pass `(name,)` instead of `name` to silence this warning.\n",
      "\n",
      "/home/kevin/miniforge3/envs/cp311/lib/python3.11/site-packages/plotly/express/_core.py:1983: FutureWarning:\n",
      "\n",
      "When grouping with a length-1 list-like, you will need to pass a length-1 tuple to get_group in a future version of pandas. Pass `(name,)` instead of `name` to silence this warning.\n",
      "\n",
      "/home/kevin/miniforge3/envs/cp311/lib/python3.11/site-packages/plotly/express/_core.py:1983: FutureWarning:\n",
      "\n",
      "When grouping with a length-1 list-like, you will need to pass a length-1 tuple to get_group in a future version of pandas. Pass `(name,)` instead of `name` to silence this warning.\n",
      "\n",
      "/home/kevin/miniforge3/envs/cp311/lib/python3.11/site-packages/plotly/express/_core.py:1983: FutureWarning:\n",
      "\n",
      "When grouping with a length-1 list-like, you will need to pass a length-1 tuple to get_group in a future version of pandas. Pass `(name,)` instead of `name` to silence this warning.\n",
      "\n"
     ]
    }
   ],
   "source": [
    "# app.run_server(debug=True)\n",
    "app.run_server(debug=True, jupyter_mode=\"jupyterlab\")"
   ]
  },
  {
   "cell_type": "code",
   "execution_count": 6,
   "id": "66b84552-cca9-4291-b35f-635c44112135",
   "metadata": {
    "execution": {
     "iopub.execute_input": "2024-03-02T17:21:40.731030Z",
     "iopub.status.busy": "2024-03-02T17:21:40.730573Z",
     "iopub.status.idle": "2024-03-02T17:21:43.052296Z",
     "shell.execute_reply": "2024-03-02T17:21:43.051359Z",
     "shell.execute_reply.started": "2024-03-02T17:21:40.730993Z"
    }
   },
   "outputs": [
    {
     "ename": "OSError",
     "evalue": "Unable to communicate with the jupyter_dash notebook or JupyterLab \nextension required to infer Jupyter configuration.",
     "output_type": "error",
     "traceback": [
      "\u001b[0;31m---------------------------------------------------------------------------\u001b[0m",
      "\u001b[0;31mOSError\u001b[0m                                   Traceback (most recent call last)",
      "Cell \u001b[0;32mIn[5], line 1\u001b[0m\n\u001b[0;32m----> 1\u001b[0m \u001b[43mjupyter_dash\u001b[49m\u001b[38;5;241;43m.\u001b[39;49m\u001b[43minfer_jupyter_proxy_config\u001b[49m\u001b[43m(\u001b[49m\u001b[43m)\u001b[49m\n",
      "File \u001b[0;32m~/miniforge3/envs/cp311/lib/python3.11/site-packages/dash/_jupyter.py:202\u001b[0m, in \u001b[0;36mJupyterDash.infer_jupyter_proxy_config\u001b[0;34m(self)\u001b[0m\n\u001b[1;32m    200\u001b[0m     \u001b[38;5;28;01mreturn\u001b[39;00m\n\u001b[1;32m    201\u001b[0m \u001b[38;5;66;03m# Assume classic notebook or JupyterLab\u001b[39;00m\n\u001b[0;32m--> 202\u001b[0m \u001b[43m_request_jupyter_config\u001b[49m\u001b[43m(\u001b[49m\u001b[43m)\u001b[49m\n",
      "File \u001b[0;32m~/miniforge3/envs/cp311/lib/python3.11/site-packages/dash/_jupyter.py:134\u001b[0m, in \u001b[0;36m_request_jupyter_config\u001b[0;34m(timeout)\u001b[0m\n\u001b[1;32m    131\u001b[0m \u001b[38;5;28;01mwhile\u001b[39;00m \u001b[38;5;28;01mTrue\u001b[39;00m:\n\u001b[1;32m    132\u001b[0m     \u001b[38;5;28;01mif\u001b[39;00m (time\u001b[38;5;241m.\u001b[39mtime() \u001b[38;5;241m-\u001b[39m t0) \u001b[38;5;241m>\u001b[39m timeout:\n\u001b[1;32m    133\u001b[0m         \u001b[38;5;66;03m# give up\u001b[39;00m\n\u001b[0;32m--> 134\u001b[0m         \u001b[38;5;28;01mraise\u001b[39;00m \u001b[38;5;167;01mEnvironmentError\u001b[39;00m(\n\u001b[1;32m    135\u001b[0m             \u001b[38;5;124m\"\u001b[39m\u001b[38;5;124mUnable to communicate with the jupyter_dash notebook or JupyterLab \u001b[39m\u001b[38;5;130;01m\\n\u001b[39;00m\u001b[38;5;124m\"\u001b[39m\n\u001b[1;32m    136\u001b[0m             \u001b[38;5;124m\"\u001b[39m\u001b[38;5;124mextension required to infer Jupyter configuration.\u001b[39m\u001b[38;5;124m\"\u001b[39m\n\u001b[1;32m    137\u001b[0m         )\n\u001b[1;32m    138\u001b[0m     \u001b[38;5;28;01mif\u001b[39;00m _jupyter_comm_response_received():\n\u001b[1;32m    139\u001b[0m         \u001b[38;5;28;01mbreak\u001b[39;00m\n",
      "\u001b[0;31mOSError\u001b[0m: Unable to communicate with the jupyter_dash notebook or JupyterLab \nextension required to infer Jupyter configuration."
     ]
    }
   ],
   "source": [
    "jupyter_dash.infer_jupyter_proxy_config()"
   ]
  },
  {
   "cell_type": "code",
   "execution_count": null,
   "id": "2870b95c-23a3-4ae9-a6a3-51e86eff7952",
   "metadata": {
    "execution": {
     "execution_failed": "2024-03-02T17:22:27.119Z",
     "iopub.status.busy": "2024-03-02T17:21:49.210154Z",
     "iopub.status.idle": "2024-03-02T17:21:49.212089Z"
    }
   },
   "outputs": [
    {
     "name": "stderr",
     "output_type": "stream",
     "text": [
      "/home/kevin/miniforge3/envs/cp311/lib/python3.11/site-packages/plotly/express/_core.py:1983: FutureWarning:\n",
      "\n",
      "When grouping with a length-1 list-like, you will need to pass a length-1 tuple to get_group in a future version of pandas. Pass `(name,)` instead of `name` to silence this warning.\n",
      "\n"
     ]
    }
   ],
   "source": [
    "app.run_server(mode=\"jupyterlab\")"
   ]
  },
  {
   "cell_type": "code",
   "execution_count": null,
   "id": "53f4e43f-cbd8-4aa1-8012-8ead0f458096",
   "metadata": {},
   "outputs": [],
   "source": []
  }
 ],
 "metadata": {
  "kernelspec": {
   "display_name": "Python [conda env:cp311]",
   "language": "python",
   "name": "conda-env-cp311-py"
  },
  "language_info": {
   "codemirror_mode": {
    "name": "ipython",
    "version": 3
   },
   "file_extension": ".py",
   "mimetype": "text/x-python",
   "name": "python",
   "nbconvert_exporter": "python",
   "pygments_lexer": "ipython3",
   "version": "3.11.4"
  }
 },
 "nbformat": 4,
 "nbformat_minor": 5
}
