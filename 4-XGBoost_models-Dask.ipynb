{
 "cells": [
  {
   "cell_type": "markdown",
   "metadata": {
    "slideshow": {
     "slide_type": ""
    },
    "tags": []
   },
   "source": [
    "# XGBoost - WithDask\n",
    "\n",
    "**Using Optuna for hyper-parameter search  to predict TPSA from Pharmacophores**"
   ]
  },
  {
   "cell_type": "code",
   "execution_count": 1,
   "metadata": {
    "ExecuteTime": {
     "end_time": "2023-12-21T20:50:25.298115Z",
     "start_time": "2023-12-21T20:50:24.855884Z"
    },
    "execution": {
     "iopub.execute_input": "2024-01-10T10:51:37.032730Z",
     "iopub.status.busy": "2024-01-10T10:51:37.032271Z",
     "iopub.status.idle": "2024-01-10T10:51:37.465137Z",
     "shell.execute_reply": "2024-01-10T10:51:37.464419Z",
     "shell.execute_reply.started": "2024-01-10T10:51:37.032684Z"
    }
   },
   "outputs": [
    {
     "data": {
      "text/html": [
       "<style>.container { width:98% !important; }</style>"
      ],
      "text/plain": [
       "<IPython.core.display.HTML object>"
      ]
     },
     "metadata": {},
     "output_type": "display_data"
    }
   ],
   "source": [
    "from IPython.display import display, HTML\n",
    "display(HTML(\"<style>.container { width:98% !important; }</style>\"))\n",
    "%load_ext autoreload  \n",
    "%autoreload 2\n",
    "from IPython.core.interactiveshell import InteractiveShell\n",
    "InteractiveShell.ast_node_interactivity = \"all\"\n",
    "%matplotlib inline"
   ]
  },
  {
   "cell_type": "code",
   "execution_count": 2,
   "metadata": {
    "ExecuteTime": {
     "end_time": "2023-12-21T20:50:28.460258Z",
     "start_time": "2023-12-21T20:50:25.868966Z"
    },
    "execution": {
     "iopub.execute_input": "2024-01-10T10:51:37.466967Z",
     "iopub.status.busy": "2024-01-10T10:51:37.466566Z",
     "iopub.status.idle": "2024-01-10T10:51:39.144373Z",
     "shell.execute_reply": "2024-01-10T10:51:39.143670Z",
     "shell.execute_reply.started": "2024-01-10T10:51:37.466943Z"
    }
   },
   "outputs": [],
   "source": [
    "# Models\n",
    "import os\n",
    "import numpy as np\n",
    "import pandas as pd\n",
    "import numpy as np\n",
    "import matplotlib.pyplot as plt\n",
    "import math\n",
    "import pickle\n",
    "import itertools\n",
    "from collections.abc import Iterator\n",
    "from   datetime import datetime\n",
    "from pprint import PrettyPrinter\n",
    "import joblib\n",
    "\n",
    "from utils import *\n",
    "from utils_ml import model_selection\n",
    "# from multiprocessing import Pool, process\n",
    "\n",
    "pp = PrettyPrinter(indent=4)\n",
    "np.set_printoptions(edgeitems=3, infstr='inf', linewidth=150, nanstr='nan')\n",
    "pd.options.display.width = 170"
   ]
  },
  {
   "cell_type": "markdown",
   "metadata": {},
   "source": [
    "#### xgboost and dask imports "
   ]
  },
  {
   "cell_type": "code",
   "execution_count": 3,
   "metadata": {
    "ExecuteTime": {
     "end_time": "2023-12-21T20:50:31.139023Z",
     "start_time": "2023-12-21T20:50:30.891155Z"
    },
    "execution": {
     "iopub.execute_input": "2024-01-10T10:51:39.145853Z",
     "iopub.status.busy": "2024-01-10T10:51:39.145447Z",
     "iopub.status.idle": "2024-01-10T10:51:40.220731Z",
     "shell.execute_reply": "2024-01-10T10:51:40.220048Z",
     "shell.execute_reply.started": "2024-01-10T10:51:39.145830Z"
    }
   },
   "outputs": [
    {
     "name": "stderr",
     "output_type": "stream",
     "text": [
      "/home/kevin/miniforge3/envs/cp/lib/python3.11/site-packages/dask/dataframe/_pyarrow_compat.py:17: FutureWarning: Minimal version of pyarrow will soon be increased to 14.0.1. You are using 10.0.1. Please consider upgrading.\n",
      "  warnings.warn(\n"
     ]
    }
   ],
   "source": [
    "import joblib\n",
    "# from dask_cuda import LocalCUDACluster\n",
    "# from sklearn.model_selection import GridSearchCV\n",
    "import optuna\n",
    "\n",
    "import xgboost as xgb\n",
    "from xgboost import XGBClassifier, XGBRegressor\n",
    "\n",
    "import dask\n",
    "import dask.array as da\n",
    "import dask.dataframe as dd\n",
    "from dask import delayed\n",
    "from dask.distributed import Client\n",
    "from dask.distributed import LocalCluster\n",
    "import dask_ml.model_selection as dcv\n",
    "from dask_ml.model_selection import train_test_split\n",
    "from dask_ml.model_selection import GridSearchCV, IncrementalSearchCV, HyperbandSearchCV\n",
    "from dask_ml.metrics import mean_squared_error, r2_score, mean_squared_log_error\n",
    "import sklearn.metrics as skm"
   ]
  },
  {
   "cell_type": "code",
   "execution_count": 4,
   "metadata": {
    "ExecuteTime": {
     "end_time": "2023-12-21T20:50:28.476862Z",
     "start_time": "2023-12-21T20:50:28.461907Z"
    },
    "execution": {
     "iopub.execute_input": "2024-01-10T10:51:40.222810Z",
     "iopub.status.busy": "2024-01-10T10:51:40.222588Z",
     "iopub.status.idle": "2024-01-10T10:51:40.251345Z",
     "shell.execute_reply": "2024-01-10T10:51:40.250473Z",
     "shell.execute_reply.started": "2024-01-10T10:51:40.222787Z"
    }
   },
   "outputs": [],
   "source": [
    "os.environ[\"WANDB_NOTEBOOK_NAME\"] = \"Adashare_Train.ipynb\"\n",
    "os.environ[\"CUDA_LAUNCH_BLOCKING\"] = \"1\"\n",
    "os.environ[\"CUDA_VISIBLE_DEVICES\"] = \"0\""
   ]
  },
  {
   "cell_type": "code",
   "execution_count": 5,
   "metadata": {
    "execution": {
     "iopub.execute_input": "2024-01-10T10:51:40.252541Z",
     "iopub.status.busy": "2024-01-10T10:51:40.252273Z",
     "iopub.status.idle": "2024-01-10T10:51:40.286135Z",
     "shell.execute_reply": "2024-01-10T10:51:40.285480Z",
     "shell.execute_reply.started": "2024-01-10T10:51:40.252520Z"
    }
   },
   "outputs": [],
   "source": [
    "import warnings\n",
    "warnings.filterwarnings('ignore')"
   ]
  },
  {
   "cell_type": "code",
   "execution_count": 6,
   "metadata": {
    "execution": {
     "iopub.execute_input": "2024-01-10T10:51:40.287241Z",
     "iopub.status.busy": "2024-01-10T10:51:40.286999Z",
     "iopub.status.idle": "2024-01-10T10:51:40.336882Z",
     "shell.execute_reply": "2024-01-10T10:51:40.336250Z",
     "shell.execute_reply.started": "2024-01-10T10:51:40.287219Z"
    }
   },
   "outputs": [
    {
     "name": "stdout",
     "output_type": "stream",
     "text": [
      "01/10/24-11:51:40.334060\n",
      "2024-51-10 11:01:40.334201\n"
     ]
    }
   ],
   "source": [
    "# time.strftime(' %x%X')\n",
    "# datetime.now().strftime('%X.%f')\n",
    "# time.strftime('%X %x %Z')\n",
    "print(datetime.now().strftime('%D-%X.%f'))\n",
    "time_fmt = '%Y-%M-%d %H:%m:%S.%f'\n",
    "print(datetime.now().strftime(time_fmt))"
   ]
  },
  {
   "cell_type": "code",
   "execution_count": 7,
   "metadata": {
    "execution": {
     "iopub.execute_input": "2024-01-10T10:51:40.338346Z",
     "iopub.status.busy": "2024-01-10T10:51:40.338001Z",
     "iopub.status.idle": "2024-01-10T10:51:40.389633Z",
     "shell.execute_reply": "2024-01-10T10:51:40.389141Z",
     "shell.execute_reply.started": "2024-01-10T10:51:40.338318Z"
    }
   },
   "outputs": [
    {
     "name": "stderr",
     "output_type": "stream",
     "text": [
      "2024-01-10 11:51:40,384 - INFO: -  1/7- engine connected\n",
      "2024-01-10 11:51:40,385 - WARNING: -  1/7- engine connected\n",
      "2024-01-10 11:51:40,386 - ERROR: -  1/7- engine connected\n",
      "2024-01-10 11:51:40,387 - CRITICAL: -  1/7- engine connected\n"
     ]
    }
   ],
   "source": [
    "import logging\n",
    "logLevel = os.environ.get('LOG_LEVEL', 'INFO').upper()\n",
    "FORMAT = '%(asctime)s - %(levelname)s: - %(message)s'\n",
    "logging.basicConfig(level=\"INFO\", format= FORMAT)\n",
    "logging.getLogger(\"imported_module\").setLevel(logging.CRITICAL)\n",
    "logging.info(f\" 1/7- engine connected\")\n",
    "logging.warning(f\" 1/7- engine connected\")\n",
    "logging.error(f\" 1/7- engine connected\")\n",
    "logging.critical(f\" 1/7- engine connected\")"
   ]
  },
  {
   "cell_type": "code",
   "execution_count": 8,
   "metadata": {
    "execution": {
     "iopub.execute_input": "2024-01-10T10:51:40.390827Z",
     "iopub.status.busy": "2024-01-10T10:51:40.390615Z",
     "iopub.status.idle": "2024-01-10T10:51:40.561379Z",
     "shell.execute_reply": "2024-01-10T10:51:40.560697Z",
     "shell.execute_reply.started": "2024-01-10T10:51:40.390805Z"
    }
   },
   "outputs": [
    {
     "name": "stdout",
     "output_type": "stream",
     "text": [
      "0 10 20 30 30 40 50 50\n"
     ]
    }
   ],
   "source": [
    "print(logging.NOTSET, logging.DEBUG,  logging.INFO, logging.WARN, logging.WARNING, logging.ERROR, logging.CRITICAL,  logging.FATAL)"
   ]
  },
  {
   "cell_type": "code",
   "execution_count": 9,
   "metadata": {
    "ExecuteTime": {
     "end_time": "2023-12-21T20:50:32.339732Z",
     "start_time": "2023-12-21T20:50:32.323764Z"
    },
    "execution": {
     "iopub.execute_input": "2024-01-10T10:51:40.562724Z",
     "iopub.status.busy": "2024-01-10T10:51:40.562495Z",
     "iopub.status.idle": "2024-01-10T10:51:40.588112Z",
     "shell.execute_reply": "2024-01-10T10:51:40.587597Z",
     "shell.execute_reply.started": "2024-01-10T10:51:40.562702Z"
    }
   },
   "outputs": [],
   "source": [
    "def result_model_selection(results, name):\n",
    "    df_results = pd.DataFrame({'model'     : [name] * len(results.cv_results_['params']),\n",
    "                               'params'    : results.cv_results_['params'],\n",
    "                               'mean score': results.cv_results_['mean_test_score'],\n",
    "                               'std score' : results.cv_results_['std_test_score'],\n",
    "                               'rank'      : results.cv_results_['rank_test_score']\n",
    "                              })\n",
    "    return df_results"
   ]
  },
  {
   "cell_type": "markdown",
   "metadata": {},
   "source": [
    "#### Datasets"
   ]
  },
  {
   "cell_type": "code",
   "execution_count": 10,
   "metadata": {
    "ExecuteTime": {
     "end_time": "2023-12-21T20:50:35.620802Z",
     "start_time": "2023-12-21T20:50:35.605234Z"
    },
    "execution": {
     "iopub.execute_input": "2024-01-10T10:51:40.590754Z",
     "iopub.status.busy": "2024-01-10T10:51:40.590505Z",
     "iopub.status.idle": "2024-01-10T10:51:40.638685Z",
     "shell.execute_reply": "2024-01-10T10:51:40.637951Z",
     "shell.execute_reply.started": "2024-01-10T10:51:40.590734Z"
    }
   },
   "outputs": [
    {
     "name": "stdout",
     "output_type": "stream",
     "text": [
      "\n",
      " Compound Extended Metadata 2 SampleFile  : ./output_11102023/compound_extended_metadata_2samples.csv\n",
      " Compound Profiles 2 Samples File CSV     : ./output_11102023/compound_profiles_2samples.csv\n",
      " \n",
      " featureSelectionFile                     : ./metadata/feature_selection_columns.pkl\n",
      " training metrics                         : ./output_11102023/training_metrics.pkl\n"
     ]
    }
   ],
   "source": [
    "prefix = '' ### Target-2' , 'MOA'\n",
    "input_path =\"./input/\"\n",
    "output_path =\"./output_11102023/\"\n",
    "prefix_lc = prefix.lower().replace('-', '_')\n",
    "\n",
    "CompoundExtendedMetadata2SampleFile = f\"{output_path}{prefix_lc}compound_extended_metadata_2samples.csv\"\n",
    "CompoundProfiles2SampleFileCSV      = f\"{output_path}{prefix_lc}compound_profiles_2samples.csv\"\n",
    "CompoundExtendedMetadataSampleFile  = f\"{output_path}{prefix_lc}compound_extended_metadata_samples.csv\"\n",
    "featureSelectionFile                = f\"./metadata/feature_selection_columns.pkl\"\n",
    "trainingMetrics                     = f\"{output_path}{prefix_lc}training_metrics.pkl\"\n",
    "print()\n",
    "print(f\" Compound Extended Metadata 2 SampleFile  : {CompoundExtendedMetadata2SampleFile }\")\n",
    "print(f\" Compound Profiles 2 Samples File CSV     : {CompoundProfiles2SampleFileCSV}\")\n",
    "print(f\" \")\n",
    "print(f\" featureSelectionFile                     : {featureSelectionFile}\")\n",
    "print(f\" training metrics                         : {trainingMetrics}\")"
   ]
  },
  {
   "cell_type": "markdown",
   "metadata": {},
   "source": [
    "#### Create dask cluster and client "
   ]
  },
  {
   "cell_type": "code",
   "execution_count": 11,
   "metadata": {
    "execution": {
     "iopub.execute_input": "2024-01-10T10:51:40.640173Z",
     "iopub.status.busy": "2024-01-10T10:51:40.639830Z",
     "iopub.status.idle": "2024-01-10T10:51:40.711630Z",
     "shell.execute_reply": "2024-01-10T10:51:40.710940Z",
     "shell.execute_reply.started": "2024-01-10T10:51:40.640154Z"
    }
   },
   "outputs": [
    {
     "name": "stdout",
     "output_type": "stream",
     "text": [
      "Client close failed\n"
     ]
    }
   ],
   "source": [
    "try:\n",
    "    client.close()\n",
    "    del client\n",
    "except Exception as e:\n",
    "    print(\"Client close failed\")"
   ]
  },
  {
   "cell_type": "code",
   "execution_count": 12,
   "metadata": {
    "execution": {
     "iopub.execute_input": "2024-01-10T10:51:40.712677Z",
     "iopub.status.busy": "2024-01-10T10:51:40.712471Z",
     "iopub.status.idle": "2024-01-10T10:51:40.822486Z",
     "shell.execute_reply": "2024-01-10T10:51:40.821483Z",
     "shell.execute_reply.started": "2024-01-10T10:51:40.712657Z"
    }
   },
   "outputs": [
    {
     "name": "stdout",
     "output_type": "stream",
     "text": [
      "Cluster close failed\n"
     ]
    }
   ],
   "source": [
    "try:\n",
    "    cluster.close()\n",
    "    del cluster\n",
    "except Exception as e:\n",
    "    print(\"Cluster close failed\")\n"
   ]
  },
  {
   "cell_type": "code",
   "execution_count": 13,
   "metadata": {
    "ExecuteTime": {
     "end_time": "2023-12-21T20:50:41.337029Z",
     "start_time": "2023-12-21T20:50:40.947431Z"
    },
    "execution": {
     "iopub.execute_input": "2024-01-10T10:51:40.824020Z",
     "iopub.status.busy": "2024-01-10T10:51:40.823613Z",
     "iopub.status.idle": "2024-01-10T10:51:42.493630Z",
     "shell.execute_reply": "2024-01-10T10:51:42.492944Z",
     "shell.execute_reply.started": "2024-01-10T10:51:40.823986Z"
    }
   },
   "outputs": [],
   "source": [
    "n_workers = 6\n",
    "n_threads = 2\n",
    "cluster = LocalCluster(\"Kevins_Cluster\", n_workers=n_workers, threads_per_worker= n_threads, silence_logs = logging.WARNING)\n",
    "# cluster = LocalCluster(\"Kevins_Cluster\", n_workers=2, threads_per_worker=2)\n",
    "# cluster = LocalCluster()"
   ]
  },
  {
   "cell_type": "code",
   "execution_count": 14,
   "metadata": {
    "execution": {
     "iopub.execute_input": "2024-01-10T10:51:42.495138Z",
     "iopub.status.busy": "2024-01-10T10:51:42.494881Z",
     "iopub.status.idle": "2024-01-10T10:51:42.547138Z",
     "shell.execute_reply": "2024-01-10T10:51:42.546576Z",
     "shell.execute_reply.started": "2024-01-10T10:51:42.495114Z"
    }
   },
   "outputs": [
    {
     "name": "stdout",
     "output_type": "stream",
     "text": [
      "Kevins_Cluster(Kevins_Cluster, 'tcp://127.0.0.1:37969', workers=6, threads=12, memory=64.00 GiB)\n"
     ]
    },
    {
     "data": {
      "text/plain": [
       "'http://127.0.0.1:8787/status'"
      ]
     },
     "execution_count": 14,
     "metadata": {},
     "output_type": "execute_result"
    },
    {
     "data": {
      "text/plain": [
       "{0: {'cls': distributed.nanny.Nanny,\n",
       "  'options': {'memory_limit': 11453246122,\n",
       "   'host': '127.0.0.1',\n",
       "   'nthreads': 2,\n",
       "   'services': {},\n",
       "   'dashboard_address': None,\n",
       "   'dashboard': False,\n",
       "   'interface': None,\n",
       "   'protocol': 'tcp://',\n",
       "   'security': Security(require_encryption=False, tls_min_version=771),\n",
       "   'silence_logs': 30}},\n",
       " 1: {'cls': distributed.nanny.Nanny,\n",
       "  'options': {'memory_limit': 11453246122,\n",
       "   'host': '127.0.0.1',\n",
       "   'nthreads': 2,\n",
       "   'services': {},\n",
       "   'dashboard_address': None,\n",
       "   'dashboard': False,\n",
       "   'interface': None,\n",
       "   'protocol': 'tcp://',\n",
       "   'security': Security(require_encryption=False, tls_min_version=771),\n",
       "   'silence_logs': 30}},\n",
       " 2: {'cls': distributed.nanny.Nanny,\n",
       "  'options': {'memory_limit': 11453246122,\n",
       "   'host': '127.0.0.1',\n",
       "   'nthreads': 2,\n",
       "   'services': {},\n",
       "   'dashboard_address': None,\n",
       "   'dashboard': False,\n",
       "   'interface': None,\n",
       "   'protocol': 'tcp://',\n",
       "   'security': Security(require_encryption=False, tls_min_version=771),\n",
       "   'silence_logs': 30}},\n",
       " 3: {'cls': distributed.nanny.Nanny,\n",
       "  'options': {'memory_limit': 11453246122,\n",
       "   'host': '127.0.0.1',\n",
       "   'nthreads': 2,\n",
       "   'services': {},\n",
       "   'dashboard_address': None,\n",
       "   'dashboard': False,\n",
       "   'interface': None,\n",
       "   'protocol': 'tcp://',\n",
       "   'security': Security(require_encryption=False, tls_min_version=771),\n",
       "   'silence_logs': 30}},\n",
       " 4: {'cls': distributed.nanny.Nanny,\n",
       "  'options': {'memory_limit': 11453246122,\n",
       "   'host': '127.0.0.1',\n",
       "   'nthreads': 2,\n",
       "   'services': {},\n",
       "   'dashboard_address': None,\n",
       "   'dashboard': False,\n",
       "   'interface': None,\n",
       "   'protocol': 'tcp://',\n",
       "   'security': Security(require_encryption=False, tls_min_version=771),\n",
       "   'silence_logs': 30}},\n",
       " 5: {'cls': distributed.nanny.Nanny,\n",
       "  'options': {'memory_limit': 11453246122,\n",
       "   'host': '127.0.0.1',\n",
       "   'nthreads': 2,\n",
       "   'services': {},\n",
       "   'dashboard_address': None,\n",
       "   'dashboard': False,\n",
       "   'interface': None,\n",
       "   'protocol': 'tcp://',\n",
       "   'security': Security(require_encryption=False, tls_min_version=771),\n",
       "   'silence_logs': 30}}}"
      ]
     },
     "execution_count": 14,
     "metadata": {},
     "output_type": "execute_result"
    }
   ],
   "source": [
    "print(cluster)\n",
    "# cluster\n",
    "cluster.dashboard_link\n",
    "cluster.worker_spec\n",
    "# cluster.\n",
    "# cluster.workers[0].status\n",
    "# cluster.scale(5)\n",
    "# cluster.close()\n",
    "# del cluster"
   ]
  },
  {
   "cell_type": "code",
   "execution_count": 15,
   "metadata": {
    "ExecuteTime": {
     "end_time": "2023-12-21T20:50:41.337029Z",
     "start_time": "2023-12-21T20:50:40.947431Z"
    },
    "execution": {
     "iopub.execute_input": "2024-01-10T10:51:42.548692Z",
     "iopub.status.busy": "2024-01-10T10:51:42.548435Z",
     "iopub.status.idle": "2024-01-10T10:51:42.607868Z",
     "shell.execute_reply": "2024-01-10T10:51:42.607330Z",
     "shell.execute_reply.started": "2024-01-10T10:51:42.548673Z"
    }
   },
   "outputs": [],
   "source": [
    "client = Client(cluster)\n",
    "\n",
    "# client = Client(cluster.scheduler_address)\n",
    "# client = Client(\"tcp://127.0.0.1:37937\")\n",
    "# client = Client(processes = False)\n",
    "# client = Client(\"tcp://127.0.0.1:37937\")\n",
    "# client = Client(processes = False)\n",
    "# client = Client(cluster.scheduler_address)"
   ]
  },
  {
   "cell_type": "code",
   "execution_count": 16,
   "metadata": {
    "ExecuteTime": {
     "end_time": "2023-12-21T20:50:41.337029Z",
     "start_time": "2023-12-21T20:50:40.947431Z"
    },
    "execution": {
     "iopub.execute_input": "2024-01-10T10:51:42.609281Z",
     "iopub.status.busy": "2024-01-10T10:51:42.609038Z",
     "iopub.status.idle": "2024-01-10T10:51:42.649576Z",
     "shell.execute_reply": "2024-01-10T10:51:42.649041Z",
     "shell.execute_reply.started": "2024-01-10T10:51:42.609262Z"
    }
   },
   "outputs": [
    {
     "data": {
      "text/plain": [
       "'running'"
      ]
     },
     "execution_count": 16,
     "metadata": {},
     "output_type": "execute_result"
    }
   ],
   "source": [
    "client.status\n",
    "# client.start\n",
    "\n",
    "# client.status\n",
    "# client.close()\n",
    "# client.status\n",
    "# del client"
   ]
  },
  {
   "cell_type": "markdown",
   "metadata": {},
   "source": [
    "# Data Load and Prep"
   ]
  },
  {
   "cell_type": "code",
   "execution_count": 17,
   "metadata": {
    "execution": {
     "iopub.execute_input": "2024-01-10T10:51:42.650770Z",
     "iopub.status.busy": "2024-01-10T10:51:42.650522Z",
     "iopub.status.idle": "2024-01-10T10:51:42.698420Z",
     "shell.execute_reply": "2024-01-10T10:51:42.697794Z",
     "shell.execute_reply.started": "2024-01-10T10:51:42.650750Z"
    }
   },
   "outputs": [],
   "source": [
    "# with open(\"./metadata/parquet_columns.pkl\",'rb') as f:\n",
    "#     ParquetColumns = pickle.load(f)\n",
    "\n",
    "# for k,v in ParquetColumns.items():\n",
    "#     print(f\" {k:20s}   items: {len(v)}\")\n",
    "\n",
    "# type(ParquetColumns['Cells']['Cells_AreaShape_Area'])\n",
    "# ParquetColumns['Cells']\n",
    "# del ParquetColumns"
   ]
  },
  {
   "cell_type": "code",
   "execution_count": 18,
   "metadata": {
    "ExecuteTime": {
     "end_time": "2023-07-31T18:38:33.906700Z",
     "start_time": "2023-07-31T18:38:33.684133Z"
    },
    "execution": {
     "iopub.execute_input": "2024-01-10T10:51:42.699796Z",
     "iopub.status.busy": "2024-01-10T10:51:42.699521Z",
     "iopub.status.idle": "2024-01-10T10:51:42.778331Z",
     "shell.execute_reply": "2024-01-10T10:51:42.777684Z",
     "shell.execute_reply.started": "2024-01-10T10:51:42.699775Z"
    }
   },
   "outputs": [],
   "source": [
    "# df_X = dd.read_csv(profilesFile, blocksize=\"100MB\", usecols=X_columns, dtype= x_columns_dtype)  ##, index_col = 'CASRN')\n",
    "# df_y = dd.read_csv(profilesFile, blocksize=\"100MB\", usecols=y_columns, dtype=y_columns_dtype)  ##, index_col = 'CASRN')\n",
    "\n",
    "# df_X_array = df_X_array.rechunk(chunks=(10000,-1))\n",
    "# df_y_array = df_y.to_dask_array(lengths = True)\n",
    "# df_X_array.to_zarr('df_X_array.zarr' ) \n",
    "# df_y_array.to_zarr('df_y_array.zarr' ) \n",
    "\n",
    "# df_X_array.to_hdf5('df_X_array.hdf5' , '/x')  \n",
    "# df_y_array.to_hdf5('df_y_array.hdf5' , '/x')  \n",
    "\n",
    "# df_y = df_profiles[y_columns].compute()\n",
    "# df_X = df_profiles[list(x['selected'])] ## .drop(labels=x_columns_drop, axis =1)\n",
    "\n",
    "# df_X_array = dask.array.from_zarr('df_X_array.zarr' )\n",
    "# df_y_array = dask.array.from_zarr('df_y_array.zarr' )"
   ]
  },
  {
   "cell_type": "code",
   "execution_count": 19,
   "metadata": {
    "execution": {
     "iopub.execute_input": "2024-01-10T10:51:42.779781Z",
     "iopub.status.busy": "2024-01-10T10:51:42.779468Z",
     "iopub.status.idle": "2024-01-10T10:51:42.848846Z",
     "shell.execute_reply": "2024-01-10T10:51:42.847998Z",
     "shell.execute_reply.started": "2024-01-10T10:51:42.779759Z"
    }
   },
   "outputs": [],
   "source": [
    "# def read_profiles(n_rows = 50000):\n",
    "#     return    pd.read_csv(CompoundProfiles2SampleFileCSV, usecols=all_columns, dtype= all_columns_dtype, nrows = 50000)     \n",
    "\n",
    "# read_profiles = delayed(read_profiles)\n",
    "# read_profiles"
   ]
  },
  {
   "cell_type": "markdown",
   "metadata": {},
   "source": [
    "### Features metadata file"
   ]
  },
  {
   "cell_type": "code",
   "execution_count": 20,
   "metadata": {
    "ExecuteTime": {
     "end_time": "2023-12-21T20:50:55.041400Z",
     "start_time": "2023-12-21T20:50:55.011436Z"
    },
    "execution": {
     "iopub.execute_input": "2024-01-10T10:51:42.850004Z",
     "iopub.status.busy": "2024-01-10T10:51:42.849757Z",
     "iopub.status.idle": "2024-01-10T10:51:42.888181Z",
     "shell.execute_reply": "2024-01-10T10:51:42.887178Z",
     "shell.execute_reply.started": "2024-01-10T10:51:42.849983Z"
    },
    "slideshow": {
     "slide_type": ""
    },
    "tags": []
   },
   "outputs": [
    {
     "name": "stdout",
     "output_type": "stream",
     "text": [
      " Features select file:  ./metadata/feature_selection_columns.pkl\n",
      " selected                1477 \n",
      " dropped_correlation     2193 \n",
      " dropped_variance        0 \n",
      " len(x_columms)    : 1477\n",
      " len(y_columms)    : 1\n",
      " len(all_columms)  : 1478\n"
     ]
    }
   ],
   "source": [
    "print(f\" Features select file:  {featureSelectionFile}\")\n",
    "\n",
    "with open(featureSelectionFile, 'rb') as f: \n",
    "    x = pickle.load(f)\n",
    "for i in x:\n",
    "    print(f\" {i:20s}    {len(x[i])} \")\n",
    "\n",
    "X_columns = x['selected']\n",
    "y_columns = [\"Metadata_log10TPSA\"]\n",
    "\n",
    "all_columns = [\"Metadata_log10TPSA\"]\n",
    "all_columns.extend(x['selected'])\n",
    "\n",
    "x_columns_drop = [\"Metadata_Source\", \"Metadata_Batch\", \"Metadata_Plate\", \"Metadata_Well\", \"Metadata_TPSA\", \"Metadata_lnTPSA\", \"Metadata_log10TPSA\"]\n",
    "# x_columns_drop.extend([\"Metadata_JCP2022\"])\n",
    "\n",
    "x_columns_dtype = {x: np.dtype('float32') for x in X_columns}\n",
    "y_columns_dtype = {x: np.dtype('float32') for x in y_columns} ## \"Metadata_log10TPSA\":np.dtype('float64')}\n",
    "all_columns_dtype = {x: np.dtype('float32') for x in all_columns}\n",
    "\n",
    "print(f\" len(x_columms)    : {len(X_columns)}\")\n",
    "print(f\" len(y_columms)    : {len(y_columns)}\")\n",
    "print(f\" len(all_columms)  : {len(all_columns)}\")"
   ]
  },
  {
   "cell_type": "markdown",
   "metadata": {},
   "source": [
    "### Read compound profiles"
   ]
  },
  {
   "cell_type": "code",
   "execution_count": 21,
   "metadata": {
    "execution": {
     "iopub.execute_input": "2024-01-10T10:51:42.889882Z",
     "iopub.status.busy": "2024-01-10T10:51:42.889494Z",
     "iopub.status.idle": "2024-01-10T10:52:33.064599Z",
     "shell.execute_reply": "2024-01-10T10:52:33.063273Z",
     "shell.execute_reply.started": "2024-01-10T10:51:42.889859Z"
    }
   },
   "outputs": [
    {
     "name": "stdout",
     "output_type": "stream",
     "text": [
      " Profiles file       :  ./output_11102023/compound_profiles_2samples.csv\n",
      "\n"
     ]
    },
    {
     "data": {
      "text/plain": [
       "(Delayed('int-4a0a3090-00f0-40f8-b14f-94f4549b31b3'), 1478)"
      ]
     },
     "execution_count": 21,
     "metadata": {},
     "output_type": "execute_result"
    },
    {
     "data": {
      "text/plain": [
       "261"
      ]
     },
     "execution_count": 21,
     "metadata": {},
     "output_type": "execute_result"
    },
    {
     "data": {
      "text/plain": [
       "(Delayed('int-f2cf00d6-4559-478d-ba05-da1b66160a6e'), 1478)"
      ]
     },
     "execution_count": 21,
     "metadata": {},
     "output_type": "execute_result"
    },
    {
     "name": "stderr",
     "output_type": "stream",
     "text": [
      "/home/kevin/miniforge3/envs/cp/lib/python3.11/site-packages/dask/dataframe/_pyarrow_compat.py:17: FutureWarning: Minimal version of pyarrow will soon be increased to 14.0.1. You are using 10.0.1. Please consider upgrading.\n",
      "  warnings.warn(\n",
      "/home/kevin/miniforge3/envs/cp/lib/python3.11/site-packages/dask/dataframe/_pyarrow_compat.py:17: FutureWarning: Minimal version of pyarrow will soon be increased to 14.0.1. You are using 10.0.1. Please consider upgrading.\n",
      "  warnings.warn(\n",
      "/home/kevin/miniforge3/envs/cp/lib/python3.11/site-packages/dask/dataframe/_pyarrow_compat.py:17: FutureWarning: Minimal version of pyarrow will soon be increased to 14.0.1. You are using 10.0.1. Please consider upgrading.\n",
      "  warnings.warn(\n",
      "/home/kevin/miniforge3/envs/cp/lib/python3.11/site-packages/dask/dataframe/_pyarrow_compat.py:17: FutureWarning: Minimal version of pyarrow will soon be increased to 14.0.1. You are using 10.0.1. Please consider upgrading.\n",
      "  warnings.warn(\n",
      "/home/kevin/miniforge3/envs/cp/lib/python3.11/site-packages/dask/dataframe/_pyarrow_compat.py:17: FutureWarning: Minimal version of pyarrow will soon be increased to 14.0.1. You are using 10.0.1. Please consider upgrading.\n",
      "  warnings.warn(\n",
      "/home/kevin/miniforge3/envs/cp/lib/python3.11/site-packages/dask/dataframe/_pyarrow_compat.py:17: FutureWarning: Minimal version of pyarrow will soon be increased to 14.0.1. You are using 10.0.1. Please consider upgrading.\n",
      "  warnings.warn(\n"
     ]
    },
    {
     "data": {
      "text/plain": [
       "dask.dataframe.core.DataFrame"
      ]
     },
     "execution_count": 21,
     "metadata": {},
     "output_type": "execute_result"
    },
    {
     "data": {
      "text/plain": [
       "(Delayed('int-4af9f9d0-5f4f-4a28-9f7c-e93bea7601fe'), 1478)"
      ]
     },
     "execution_count": 21,
     "metadata": {},
     "output_type": "execute_result"
    }
   ],
   "source": [
    "print(f\" Profiles file       :  {CompoundProfiles2SampleFileCSV}\")\n",
    "print()\n",
    "\n",
    "df_profiles = dd.read_csv(CompoundProfiles2SampleFileCSV, usecols=all_columns, dtype= all_columns_dtype)   \n",
    "# df_profiles.head(3)\n",
    "df_profiles.shape\n",
    "df_profiles.npartitions\n",
    "df_profiles.get_partition(1).shape\n",
    "\n",
    "df_profiles = df_profiles.head(npartitions = df_profiles.npartitions, n=50000)\n",
    "# type(df_profiles)\n",
    "# df_profiles.shape\n",
    "# df_profiles.head()\n",
    "\n",
    "df_profiles = dd.from_pandas(df_profiles, npartitions = 100)\n",
    "type(df_profiles)\n",
    "df_profiles.shape\n",
    "# df_profiles.head()"
   ]
  },
  {
   "cell_type": "markdown",
   "metadata": {
    "jp-MarkdownHeadingCollapsed": true
   },
   "source": [
    "# XGBoost with Dask - Development "
   ]
  },
  {
   "cell_type": "markdown",
   "metadata": {
    "ExecuteTime": {
     "end_time": "2023-07-31T18:45:01.023214Z",
     "start_time": "2023-07-31T18:45:00.890667Z"
    }
   },
   "source": [
    "- Need to convert Dask data frames to dask arrays in order to use data in parm grid search"
   ]
  },
  {
   "cell_type": "code",
   "execution_count": null,
   "metadata": {
    "ExecuteTime": {
     "end_time": "2023-12-21T20:51:05.700887Z",
     "start_time": "2023-12-21T20:51:05.682926Z"
    },
    "execution": {
     "iopub.execute_input": "2024-01-09T15:40:44.472715Z",
     "iopub.status.busy": "2024-01-09T15:40:44.472125Z",
     "iopub.status.idle": "2024-01-09T15:40:44.510735Z",
     "shell.execute_reply": "2024-01-09T15:40:44.510109Z",
     "shell.execute_reply.started": "2024-01-09T15:40:44.472670Z"
    },
    "jupyter": {
     "source_hidden": true
    }
   },
   "outputs": [],
   "source": [
    "# df_X_array = df_X_array.rechunk(chunks=(10000,-1))\n",
    "# df_y_array = df_y_array.rechunk(chunks=(10000,-1))\n",
    "# df_X_array.chunks\n",
    "# df_y_array.chunks\n",
    "# df_y_array.shape\n",
    "\n",
    "# train_X, test_X,  train_y, test_y = train_test_split(df_X_array, df_y_array, \n",
    "#                                                      train_size= 0.8, \n",
    "#                                                      test_size=0.2, \n",
    "#                                                      random_state= 1234, \n",
    "#                                                      shuffle=True)\n",
    "#\n",
    "# print(f\" Training data         : {train_X.shape} \\t training labels: {train_y.shape}\")\n",
    "# print(f\" Test & Validation data: {test_X.shape}  \\t test labels    : {test_y.shape}\")\n",
    "\n",
    "# val_X ,  test_X,  val_y  , test_y = train_test_split(test_X, test_y, \n",
    "#                                                      train_size= 0.5, \n",
    "#                                                      test_size=0.5, \n",
    "#                                                      random_state= 1234, \n",
    "#                                                      shuffle=True)\n",
    "# print()\n",
    "# print(f\" Training data   : {train_X.shape} \\t Training labels: {train_y.shape}\")\n",
    "# print(f\" Validation data : {test_X.shape} \\t Val labels     : {test_y.shape}\")\n",
    "# print(f\" Test set data   : {test_X.shape} \\t Test labels    : {test_y.shape}\")"
   ]
  },
  {
   "cell_type": "code",
   "execution_count": 22,
   "metadata": {
    "execution": {
     "iopub.execute_input": "2024-01-10T10:32:44.432862Z",
     "iopub.status.busy": "2024-01-10T10:32:44.432376Z",
     "iopub.status.idle": "2024-01-10T10:32:44.498159Z",
     "shell.execute_reply": "2024-01-10T10:32:44.497228Z",
     "shell.execute_reply.started": "2024-01-10T10:32:44.432819Z"
    }
   },
   "outputs": [],
   "source": [
    "def make_cv_splits(n_folds: int = 5,) -> Iterator[tuple[dd.DataFrame, dd.DataFrame]]:\n",
    "    frac = [1 / n_folds] * n_folds\n",
    "    print(frac, n_folds)\n",
    "    splits = df_profiles.random_split(frac, shuffle=True)\n",
    "    # print(type(splits[i]))\n",
    "    # print(f\"splits: {type(splits)} \")\n",
    "    for i in range(n_folds):\n",
    "        print(f\"Training/Test split #{i}\")\n",
    "        train = [splits[j] for j in range(n_folds) if j != i]\n",
    "        train = dd.concat(train)\n",
    "        test = splits[i] \n",
    "        y_train = train[y_columns]\n",
    "        X_train = train.drop(columns=y_columns)\n",
    "        y_test = test[y_columns]\n",
    "        X_test = test.drop(columns=y_columns)        \n",
    "        yield (X_train, y_train), (X_test, y_test)\n",
    "        # yield train, test"
   ]
  },
  {
   "cell_type": "code",
   "execution_count": 23,
   "metadata": {
    "execution": {
     "iopub.execute_input": "2024-01-10T10:32:44.919735Z",
     "iopub.status.busy": "2024-01-10T10:32:44.918682Z",
     "iopub.status.idle": "2024-01-10T10:32:44.974455Z",
     "shell.execute_reply": "2024-01-10T10:32:44.973852Z",
     "shell.execute_reply.started": "2024-01-10T10:32:44.919685Z"
    }
   },
   "outputs": [
    {
     "name": "stdout",
     "output_type": "stream",
     "text": [
      "{'learning_rate': 0.255, 'max_depth': 4, 'max_leaves': 10}\n"
     ]
    }
   ],
   "source": [
    "study_params = {  'learning_rate': 0.255, 'max_depth': 4, 'max_leaves': 10} \n",
    "mse_scores = []\n",
    "R2_scores = []\n",
    "print(study_params)\n",
    "iter_files = make_cv_splits()"
   ]
  },
  {
   "cell_type": "markdown",
   "metadata": {
    "jp-MarkdownHeadingCollapsed": true
   },
   "source": [
    "### Beginning of loop"
   ]
  },
  {
   "cell_type": "code",
   "execution_count": 25,
   "metadata": {
    "execution": {
     "iopub.execute_input": "2024-01-10T10:32:53.878495Z",
     "iopub.status.busy": "2024-01-10T10:32:53.878013Z",
     "iopub.status.idle": "2024-01-10T10:32:56.638048Z",
     "shell.execute_reply": "2024-01-10T10:32:56.636977Z",
     "shell.execute_reply.started": "2024-01-10T10:32:53.878453Z"
    }
   },
   "outputs": [
    {
     "name": "stdout",
     "output_type": "stream",
     "text": [
      "[0.2, 0.2, 0.2, 0.2, 0.2] 5\n",
      "Training/Test split #0\n"
     ]
    }
   ],
   "source": [
    "(X_train,y_train), (X_test, y_test) = next(iter_files)"
   ]
  },
  {
   "cell_type": "code",
   "execution_count": 26,
   "metadata": {
    "execution": {
     "iopub.execute_input": "2024-01-10T10:32:56.639956Z",
     "iopub.status.busy": "2024-01-10T10:32:56.639725Z",
     "iopub.status.idle": "2024-01-10T10:33:41.849994Z",
     "shell.execute_reply": "2024-01-10T10:33:41.848966Z",
     "shell.execute_reply.started": "2024-01-10T10:32:56.639936Z"
    },
    "scrolled": true
   },
   "outputs": [
    {
     "name": "stderr",
     "output_type": "stream",
     "text": [
      "2024-01-10 11:32:56,688 - INFO: - Building TRAINING DMatrix...\n",
      "2024-01-10 11:33:41,838 - INFO: - Building TRAINING DMatrix...Completed\n"
     ]
    }
   ],
   "source": [
    "logging.info(f\"Building TRAINING DMatrix...\")\n",
    "d_train = xgb.dask.DaskDMatrix(client, X_train, y_train )\n",
    "logging.info(f\"Building TRAINING DMatrix...Completed\")"
   ]
  },
  {
   "cell_type": "code",
   "execution_count": 27,
   "metadata": {
    "execution": {
     "iopub.execute_input": "2024-01-10T10:33:41.873193Z",
     "iopub.status.busy": "2024-01-10T10:33:41.867102Z",
     "iopub.status.idle": "2024-01-10T10:34:00.299650Z",
     "shell.execute_reply": "2024-01-10T10:34:00.298601Z",
     "shell.execute_reply.started": "2024-01-10T10:33:41.873158Z"
    },
    "scrolled": true
   },
   "outputs": [
    {
     "name": "stderr",
     "output_type": "stream",
     "text": [
      "2024-01-10 11:33:41,937 - INFO: - Building TEST DMatrix...\n",
      "2024-01-10 11:34:00,287 - INFO: - Building TEST DMatrix...Completed\n"
     ]
    }
   ],
   "source": [
    "logging.info(f\"Building TEST DMatrix...\")\n",
    "d_test = xgb.dask.DaskDMatrix(client, X_test, y_test )\n",
    "logging.info(f\"Building TEST DMatrix...Completed\")"
   ]
  },
  {
   "cell_type": "code",
   "execution_count": 28,
   "metadata": {
    "execution": {
     "iopub.execute_input": "2024-01-10T10:34:00.309675Z",
     "iopub.status.busy": "2024-01-10T10:34:00.309422Z",
     "iopub.status.idle": "2024-01-10T10:34:00.372247Z",
     "shell.execute_reply": "2024-01-10T10:34:00.371258Z",
     "shell.execute_reply.started": "2024-01-10T10:34:00.309652Z"
    }
   },
   "outputs": [
    {
     "data": {
      "text/plain": [
       "(Delayed('int-4c45f529-9352-476c-b37a-e3ce71157deb'), 1477)"
      ]
     },
     "execution_count": 28,
     "metadata": {},
     "output_type": "execute_result"
    },
    {
     "data": {
      "text/plain": [
       "(Delayed('int-25c32419-db62-49d6-b783-1acbda4abdce'), 1)"
      ]
     },
     "execution_count": 28,
     "metadata": {},
     "output_type": "execute_result"
    },
    {
     "data": {
      "text/plain": [
       "(Delayed('int-b873c60e-649a-492d-a428-970ff4bf55eb'), 1477)"
      ]
     },
     "execution_count": 28,
     "metadata": {},
     "output_type": "execute_result"
    },
    {
     "data": {
      "text/plain": [
       "(Delayed('int-9300455a-14f8-4c23-9069-cf3bb3bd737a'), 1)"
      ]
     },
     "execution_count": 28,
     "metadata": {},
     "output_type": "execute_result"
    }
   ],
   "source": [
    "X_train.shape\n",
    "y_train.shape\n",
    "\n",
    "X_test.shape\n",
    "y_test.shape"
   ]
  },
  {
   "cell_type": "code",
   "execution_count": 29,
   "metadata": {
    "execution": {
     "iopub.execute_input": "2024-01-10T10:34:00.373719Z",
     "iopub.status.busy": "2024-01-10T10:34:00.373214Z",
     "iopub.status.idle": "2024-01-10T10:34:46.572868Z",
     "shell.execute_reply": "2024-01-10T10:34:46.571239Z",
     "shell.execute_reply.started": "2024-01-10T10:34:00.373698Z"
    }
   },
   "outputs": [
    {
     "name": "stderr",
     "output_type": "stream",
     "text": [
      "2024-01-10 11:34:00,401 - INFO: - Training model...\n",
      "2024-01-10 11:34:00,476 - INFO: - start listen on 10.91.28.16:38809\n",
      "[11:34:00] task [xgboost.dask-0]:tcp://127.0.0.1:33361 got new rank 0\n",
      "[11:34:01] task [xgboost.dask-1]:tcp://127.0.0.1:41587 got new rank 1\n",
      "[11:34:01] task [xgboost.dask-2]:tcp://127.0.0.1:42645 got new rank 2\n",
      "[11:34:01] task [xgboost.dask-3]:tcp://127.0.0.1:42945 got new rank 3\n",
      "[11:34:01] task [xgboost.dask-4]:tcp://127.0.0.1:45569 got new rank 4\n",
      "[11:34:01] task [xgboost.dask-5]:tcp://127.0.0.1:46015 got new rank 5\n",
      "2024-01-10 11:34:01,006 - INFO: - @tracker All of 6 nodes getting started\n",
      "2024-01-10 11:34:46,403 - INFO: - @tracker All nodes finishes job\n",
      "2024-01-10 11:34:46,561 - INFO: - Training model...Completed\n"
     ]
    }
   ],
   "source": [
    "logging.info(f\"Training model...\")\n",
    "model = xgb.dask.train(\n",
    "    None,\n",
    "    {\"verbosity\": 0, \"tree_method\": \"hist\", **study_params},\n",
    "    d_train,\n",
    "    num_boost_round=100,\n",
    "    evals=[(d_train, \"train\"), (d_test, \"test\")],\n",
    "    verbose_eval=False\n",
    ")\n",
    "logging.info(f\"Training model...Completed\")"
   ]
  },
  {
   "cell_type": "code",
   "execution_count": 62,
   "metadata": {
    "execution": {
     "iopub.execute_input": "2024-01-10T10:43:10.502483Z",
     "iopub.status.busy": "2024-01-10T10:43:10.502020Z",
     "iopub.status.idle": "2024-01-10T10:43:13.204118Z",
     "shell.execute_reply": "2024-01-10T10:43:13.202533Z",
     "shell.execute_reply.started": "2024-01-10T10:43:10.502454Z"
    }
   },
   "outputs": [
    {
     "name": "stderr",
     "output_type": "stream",
     "text": [
      "2024-01-10 11:43:10,572 - INFO: - Running model on test data...\n",
      "2024-01-10 11:43:13,191 - INFO: - Running model on test data...Completed\n"
     ]
    }
   ],
   "source": [
    "logging.info(f\"Running model on test data...\")\n",
    "predictions = xgb.dask.predict(client, model,d_test).compute()\n",
    "logging.info(f\"Running model on test data...Completed\")"
   ]
  },
  {
   "cell_type": "code",
   "execution_count": 60,
   "metadata": {
    "execution": {
     "iopub.execute_input": "2024-01-10T10:42:53.807539Z",
     "iopub.status.busy": "2024-01-10T10:42:53.798671Z",
     "iopub.status.idle": "2024-01-10T10:43:10.433242Z",
     "shell.execute_reply": "2024-01-10T10:43:10.431865Z",
     "shell.execute_reply.started": "2024-01-10T10:42:53.807497Z"
    }
   },
   "outputs": [
    {
     "name": "stderr",
     "output_type": "stream",
     "text": [
      "2024-01-10 11:42:53,954 - INFO: - Reshape y_test data...\n",
      "2024-01-10 11:43:10,418 - INFO: - Reshape y_test data...Complete\n"
     ]
    }
   ],
   "source": [
    "logging.info(f\"Reshape y_test data...\")\n",
    "# y_test_c = y_test.to_dask_array(lengths=True)\n",
    "y_test_c = y_test.compute().to_numpy().squeeze()\n",
    "logging.info(f\"Reshape y_test data...Complete\")"
   ]
  },
  {
   "cell_type": "code",
   "execution_count": 64,
   "metadata": {
    "execution": {
     "iopub.execute_input": "2024-01-10T10:43:25.394376Z",
     "iopub.status.busy": "2024-01-10T10:43:25.393909Z",
     "iopub.status.idle": "2024-01-10T10:43:25.437161Z",
     "shell.execute_reply": "2024-01-10T10:43:25.435900Z",
     "shell.execute_reply.started": "2024-01-10T10:43:25.394334Z"
    }
   },
   "outputs": [
    {
     "name": "stdout",
     "output_type": "stream",
     "text": [
      " y_test     : <class 'dask.dataframe.core.DataFrame'> \t shape: (Delayed('int-f3e0b477-4527-4589-ab98-e8211d5268b9'), 1)\n",
      " y_test_c   : <class 'numpy.ndarray'> \t\t\t shape: (10108,)\n",
      " Predictions: <class 'numpy.ndarray'> \t\t\t shape: (10108,)\n"
     ]
    }
   ],
   "source": [
    "print(f\" y_test     : {type(y_test)} \\t shape: {y_test.shape}\") \n",
    "print(f\" y_test_c   : {type(y_test_c)} \\t\\t\\t shape: {y_test_c.shape}\")\n",
    "print(f\" Predictions: {type(predictions)} \\t\\t\\t shape: {predictions.shape}\")"
   ]
  },
  {
   "cell_type": "code",
   "execution_count": null,
   "metadata": {
    "execution": {
     "iopub.execute_input": "2024-01-10T10:48:11.893179Z",
     "iopub.status.busy": "2024-01-10T10:48:11.892445Z",
     "iopub.status.idle": "2024-01-10T10:48:11.958752Z",
     "shell.execute_reply": "2024-01-10T10:48:11.957979Z",
     "shell.execute_reply.started": "2024-01-10T10:48:11.893118Z"
    }
   },
   "outputs": [],
   "source": [
    "logging.info(f\"Calculating R2 and MSE metrics...\")\n",
    "R2_score = skm.r2_score(\n",
    "    y_true = y_test_c,\n",
    "    y_pred = predictions,\n",
    ")\n",
    "\n",
    "mse_score = skm.mean_squared_error(\n",
    "    y_true = y_test_c,\n",
    "    y_pred = predictions,\n",
    "    squared=True,\n",
    ")\n",
    "logging.info(f\"Calculating R2 and MSE metrics...Completed\")"
   ]
  },
  {
   "cell_type": "code",
   "execution_count": null,
   "metadata": {
    "execution": {
     "iopub.execute_input": "2024-01-10T10:43:38.523809Z",
     "iopub.status.busy": "2024-01-10T10:43:38.522722Z",
     "iopub.status.idle": "2024-01-10T10:43:38.605582Z",
     "shell.execute_reply": "2024-01-10T10:43:38.604310Z",
     "shell.execute_reply.started": "2024-01-10T10:43:38.523749Z"
    }
   },
   "outputs": [],
   "source": [
    "logging.info(f\"Measuring accuracy of model vs. ground truth...\")\n",
    "mse_score = mean_squared_error(\n",
    "    y_true = y_test_c,\n",
    "    y_pred = predictions,\n",
    "    squared=True,\n",
    "    # compute=True,\n",
    ")\n",
    " \n",
    "R2_score = r2_score(\n",
    "    # y_true = d_test.get_label(),\n",
    "    # y_true = y_test.to_dask_array(),\n",
    "    y_true = y_test_c,\n",
    "    y_pred = predictions,\n",
    "    compute=True,\n",
    ")\n",
    "logging.info(f\"Measuring accuracy of model vs. ground truth...Completed\")"
   ]
  },
  {
   "cell_type": "code",
   "execution_count": 72,
   "metadata": {
    "execution": {
     "iopub.execute_input": "2024-01-10T10:48:49.779217Z",
     "iopub.status.busy": "2024-01-10T10:48:49.778634Z",
     "iopub.status.idle": "2024-01-10T10:48:49.822759Z",
     "shell.execute_reply": "2024-01-10T10:48:49.821896Z",
     "shell.execute_reply.started": "2024-01-10T10:48:49.779174Z"
    }
   },
   "outputs": [
    {
     "name": "stdout",
     "output_type": "stream",
     "text": [
      "[1.5931753 1.5901729 1.7077404 ... 1.9105177 1.93465   1.9674076]\n",
      "[1.8370492 1.8152739 1.8682554 ... 1.8270347 1.7794722 1.8226285]\n",
      "mse_score:  0.02311318\n",
      "R2_score :  0.03680282529484136\n"
     ]
    },
    {
     "data": {
      "text/plain": [
       "[0.02311318, 0.02311318]"
      ]
     },
     "execution_count": 72,
     "metadata": {},
     "output_type": "execute_result"
    },
    {
     "data": {
      "text/plain": [
       "[0.03680282529484136, 0.03680282529484136]"
      ]
     },
     "execution_count": 72,
     "metadata": {},
     "output_type": "execute_result"
    }
   ],
   "source": [
    "# print(score.shape, type(score))\n",
    "print(y_test_c)\n",
    "print(predictions)\n",
    "print(\"mse_score: \" , mse_score)\n",
    "print(\"R2_score : \" , R2_score)\n",
    "\n",
    "\n",
    "mse_scores\n",
    "R2_scores"
   ]
  },
  {
   "cell_type": "code",
   "execution_count": 44,
   "metadata": {
    "execution": {
     "iopub.execute_input": "2024-01-09T16:37:12.539117Z",
     "iopub.status.busy": "2024-01-09T16:37:12.538315Z",
     "iopub.status.idle": "2024-01-09T16:37:12.600629Z",
     "shell.execute_reply": "2024-01-09T16:37:12.599712Z",
     "shell.execute_reply.started": "2024-01-09T16:37:12.539062Z"
    }
   },
   "outputs": [],
   "source": [
    "del d_train, d_test\n",
    "del X_train, y_train, X_test, y_test, y_test_c,\n",
    "del model, predictions, mse_score, R2_score"
   ]
  },
  {
   "cell_type": "markdown",
   "metadata": {
    "jp-MarkdownHeadingCollapsed": true
   },
   "source": [
    "### End of loop"
   ]
  },
  {
   "cell_type": "code",
   "execution_count": 40,
   "metadata": {
    "execution": {
     "iopub.execute_input": "2024-01-09T16:04:34.902945Z",
     "iopub.status.busy": "2024-01-09T16:04:34.902449Z",
     "iopub.status.idle": "2024-01-09T16:04:34.943835Z",
     "shell.execute_reply": "2024-01-09T16:04:34.943093Z",
     "shell.execute_reply.started": "2024-01-09T16:04:34.902903Z"
    },
    "scrolled": true
   },
   "outputs": [
    {
     "data": {
      "text/plain": [
       "array([0.023117])"
      ]
     },
     "execution_count": 40,
     "metadata": {},
     "output_type": "execute_result"
    },
    {
     "data": {
      "text/plain": [
       "array([0.03237749])"
      ]
     },
     "execution_count": 40,
     "metadata": {},
     "output_type": "execute_result"
    }
   ],
   "source": [
    "# for x in mse_scores:\n",
    "#     print(x.compute())\n",
    "mse_scores_np = np.array(mse_scores, dtype =np.float64)\n",
    "mse_scores_np\n",
    "R2_scores_np = np.array(R2_scores, dtype =np.float64)\n",
    "R2_scores_np"
   ]
  },
  {
   "cell_type": "code",
   "execution_count": null,
   "metadata": {},
   "outputs": [],
   "source": [
    "print(f\"RSME : {mse_scores_np.mean():.5f} +/- {mse_scores_np.std():.5f}\")\n",
    "# return mse_scores.mean()\n",
    "print(\"-\" * 80)\n",
    "print(f\"R^2  : {R2_scores_np.mean():.5f} +/- {R2_scores_np.std():.5f}\")\n",
    "# return mse_scores.mean()\n"
   ]
  },
  {
   "cell_type": "code",
   "execution_count": null,
   "metadata": {},
   "outputs": [],
   "source": [
    "# type(model)\n",
    "data = { 'mse_scores' : mse_scores_np,\n",
    "         'R2_scores' : R2_scores_np}\n",
    "    \n",
    "with open(trainingMetrics, 'wb') as f: \n",
    "    # Pickle the 'data' dictionary using the highest protocol available.\n",
    "    pickle.dump(data, f, pickle.HIGHEST_PROTOCOL)"
   ]
  },
  {
   "cell_type": "code",
   "execution_count": null,
   "metadata": {},
   "outputs": [],
   "source": [
    "with open(trainingMetrics, 'rb') as f:\n",
    "    # The protocol version used is detected automatically, so we do not\n",
    "    # have to specify it.\n",
    "    data = pickle.load(f)\n",
    "data"
   ]
  },
  {
   "cell_type": "markdown",
   "metadata": {},
   "source": [
    "# XGBoost - Using Optuna for hyper-parameter search"
   ]
  },
  {
   "cell_type": "code",
   "execution_count": 22,
   "metadata": {
    "execution": {
     "iopub.execute_input": "2024-01-10T10:52:33.068007Z",
     "iopub.status.busy": "2024-01-10T10:52:33.067655Z",
     "iopub.status.idle": "2024-01-10T10:52:33.126593Z",
     "shell.execute_reply": "2024-01-10T10:52:33.126081Z",
     "shell.execute_reply.started": "2024-01-10T10:52:33.067970Z"
    }
   },
   "outputs": [],
   "source": [
    "def make_cv_splits(n_folds: int = 5,) -> Iterator[tuple[dd.DataFrame, dd.DataFrame]]:\n",
    "    frac = [1 / n_folds] * n_folds\n",
    "    print(frac, n_folds)\n",
    "    splits = df_profiles.random_split(frac, shuffle=True)\n",
    "    # print(type(splits[i]))\n",
    "    # print(f\"splits: {type(splits)} \")\n",
    "    for i in range(n_folds):\n",
    "        print(f\"Training/Test split #{i}\")\n",
    "        train = [splits[j] for j in range(n_folds) if j != i]\n",
    "        train = dd.concat(train)\n",
    "        test = splits[i] \n",
    "        y_train = train[y_columns]\n",
    "        X_train = train.drop(columns=y_columns)\n",
    "        y_test = test[y_columns]\n",
    "        X_test = test.drop(columns=y_columns)        \n",
    "        yield (X_train, y_train), (X_test, y_test)\n",
    "        # yield train, test"
   ]
  },
  {
   "cell_type": "code",
   "execution_count": 23,
   "metadata": {
    "execution": {
     "iopub.execute_input": "2024-01-10T10:52:33.128133Z",
     "iopub.status.busy": "2024-01-10T10:52:33.127880Z",
     "iopub.status.idle": "2024-01-10T10:52:33.167483Z",
     "shell.execute_reply": "2024-01-10T10:52:33.166751Z",
     "shell.execute_reply.started": "2024-01-10T10:52:33.128113Z"
    }
   },
   "outputs": [],
   "source": [
    "def train_model(iter_files, **study_params):\n",
    "    mse_scores = []\n",
    "    R2_scores = []\n",
    " \n",
    "    \n",
    "    # for i, (train, test) in enumerate(make_cv_splits()):\n",
    "    for i, ((X_train,y_train), (X_test, y_test)) in enumerate(iter_files):\n",
    " \n",
    "\n",
    "        logging.info(f\"Building training DMatrix...\")\n",
    "        d_train = xgb.dask.DaskDMatrix( client, X_train, y_train)\n",
    "        logging.info(f\"Building training DMatrix...Completed\")\n",
    "\n",
    "        logging.info(f\"Building test DMatrix...\")\n",
    "        d_test = xgb.dask.DaskDMatrix(client, X_test, y_test)\n",
    "        logging.info(f\"Building DMatrix...Completed\")\n",
    "\n",
    "        logging.info(f\"Training model...\")\n",
    "        model = xgb.dask.train(\n",
    "            None, \n",
    "            {\"verbosity\":0, \"tree_method\": \"hist\", **study_params},\n",
    "            d_train,\n",
    "            num_boost_round=50,\n",
    "            evals=[(d_train, \"train\"), (d_test, \"test\")],\n",
    "            verbose_eval=False\n",
    "        )\n",
    "        logging.info(f\"Training model...Completed\")\n",
    "        \n",
    "        logging.info(f\"Running model on test data...\")\n",
    "        predictions = xgb.dask.predict(client, model, d_test).compute()\n",
    "        logging.info(f\"Running model on test data...Completed\")\n",
    "\n",
    "        logging.info(f\"Reshape y_test data...\")\n",
    "        # y_test_c = y_test.to_dask_array(lengths=True).compute().squeeze()\n",
    "        y_test_c = y_test.compute().to_numpy().squeeze()\n",
    "        logging.info(f\"Reshape y_test data...Complete\")\n",
    "\n",
    "        print(f\" y_test_c: {type(y_test_c)}   Shape:  {y_test_c.shape}       Predictions: {type(predictions)}  shape: {predictions.shape}\")\n",
    "        \n",
    "        logging.info(f\"Compute R2 & MSE scores...\")\n",
    "        R2_score = skm.r2_score(\n",
    "            y_true = y_test_c,\n",
    "            y_pred = predictions,\n",
    "            # compute=True,\n",
    "        )\n",
    "        \n",
    "        mse_score = skm.mean_squared_error(\n",
    "            y_true = y_test_c,\n",
    "            y_pred = predictions,\n",
    "            squared=True,\n",
    "            # compute=True,\n",
    "        )\n",
    "        logging.info(f\"Compute R2 & MSE scores...Completed\")\n",
    "\n",
    "        # print(y_test_c)\n",
    "        # print(predictions)\n",
    "        print(f\"MSE Score : {mse_score:.6f}\")\n",
    "        print(f\" R2 Score : {R2_score:.6f}\")\n",
    "        \n",
    "        mse_scores.append(mse_score)\n",
    "        R2_scores.append(R2_score)        \n",
    "        \n",
    "        # Compute predictions and mean squared error for this iteration\n",
    "        # while we start the next one\n",
    "        # scores.append(score.reshape(1).persist())\n",
    "        del d_train, d_test\n",
    "        del X_train, y_train, X_test, y_test, y_test_c,\n",
    "        del model, predictions, mse_score, R2_score        \n",
    "        print(\"-\" * 80)\n",
    "\n",
    "    # scores = da.concatenate(scores).compute()\n",
    "    # print(f\"RSME={scores.mean()} +/- {scores.std()}\")\n",
    "    mse_scores_np = np.array(mse_scores, dtype =np.float64)\n",
    "    R2_scores_np = np.array(R2_scores, dtype =np.float64)\n",
    "    mse_scores_np\n",
    "    R2_scores_np    \n",
    "\n",
    "    print(f\"RSME : {mse_scores_np.mean():.5f} +/- {mse_scores_np.std():.5f}\")\n",
    "    # return mse_scores.mean()\n",
    "    print(\"-\" * 80)\n",
    "    print(f\"R^2  : {R2_scores_np.mean():.5f} +/- {R2_scores_np.std():.5f}\")\n",
    "    print(\"-\" * 80)\n",
    "    return mse_scores_np.mean()    \n"
   ]
  },
  {
   "cell_type": "code",
   "execution_count": 24,
   "metadata": {
    "execution": {
     "iopub.execute_input": "2024-01-10T10:52:33.168808Z",
     "iopub.status.busy": "2024-01-10T10:52:33.168590Z",
     "iopub.status.idle": "2024-01-10T10:52:33.200922Z",
     "shell.execute_reply": "2024-01-10T10:52:33.200059Z",
     "shell.execute_reply.started": "2024-01-10T10:52:33.168788Z"
    }
   },
   "outputs": [],
   "source": [
    "def objective(trial):\n",
    "    iter_files = make_cv_splits()\n",
    "    params = {\n",
    "        # \"n_estimators\"     : trial.suggest_int(\"n_estimators\", 75, 125),\n",
    "        \"learning_rate\"    : trial.suggest_float(\"learning_rate\", 0.2, 0.7),\n",
    "        # \"colsample_bytree\" : trial.suggest_float(\"colsample_bytree\", 0.5, 1),\n",
    "        # \"colsample_bynode\" : trial.suggest_float(\"colsample_bynode\", 0.5, 1),\n",
    "        # \"colsample_bylevel\": trial.suggest_float(\"colsample_bylevel\", 0.5, 1),\n",
    "        # \"reg_lambda\"       : trial.suggest_float(\"reg_lambda\", 0, 1),\n",
    "        \"max_depth\"        : trial.suggest_int(\"max_depth\", 1, 6),\n",
    "        \"max_leaves\"       : trial.suggest_int(\"max_leaves\", 0, 2),\n",
    "        # \"max_cat_to_onehot\": trial.suggest_int(\"max_cat_to_onehot\", 1, 10),\n",
    "    }\n",
    "    \n",
    "    print(f\"Training model (trial #{trial.number}) - Parameters:\")\n",
    "    for k, v in params.items():\n",
    "        print(f\"  {k}={v}\")\n",
    "    return train_model(iter_files, **params)\n",
    "    # return params"
   ]
  },
  {
   "cell_type": "code",
   "execution_count": 32,
   "metadata": {
    "execution": {
     "iopub.execute_input": "2024-01-09T17:28:04.403874Z",
     "iopub.status.busy": "2024-01-09T17:28:04.403370Z",
     "iopub.status.idle": "2024-01-09T17:28:04.540107Z",
     "shell.execute_reply": "2024-01-09T17:28:04.539429Z",
     "shell.execute_reply.started": "2024-01-09T17:28:04.403832Z"
    }
   },
   "outputs": [],
   "source": [
    "# try:\n",
    "#     optuna.delete_study(storage=\"sqlite:///example.db\", study_name=\"kevin-study-1\")\n",
    "# except Exception as e:\n",
    "#     print(\"delete failed\")"
   ]
  },
  {
   "cell_type": "code",
   "execution_count": 25,
   "metadata": {
    "execution": {
     "iopub.execute_input": "2024-01-10T10:52:33.202719Z",
     "iopub.status.busy": "2024-01-10T10:52:33.202481Z",
     "iopub.status.idle": "2024-01-10T10:52:33.428274Z",
     "shell.execute_reply": "2024-01-10T10:52:33.427559Z",
     "shell.execute_reply.started": "2024-01-10T10:52:33.202698Z"
    }
   },
   "outputs": [
    {
     "name": "stderr",
     "output_type": "stream",
     "text": [
      "[I 2024-01-10 11:52:33,415] Using an existing study with name 'kevin-study-1' instead of creating a new one.\n"
     ]
    },
    {
     "name": "stdout",
     "output_type": "stream",
     "text": [
      "Total time:  0:00:00.193502\n"
     ]
    }
   ],
   "source": [
    "start = datetime.now()\n",
    "study = optuna.create_study(storage=\"sqlite:///example.db\",\n",
    "                            study_name=\"kevin-study-1\",\n",
    "                            direction=\"minimize\", load_if_exists=True)\n",
    "\n",
    "print(f\"Total time:  {datetime.now() - start}\")"
   ]
  },
  {
   "cell_type": "code",
   "execution_count": 26,
   "metadata": {
    "execution": {
     "iopub.execute_input": "2024-01-10T10:55:21.784723Z",
     "iopub.status.busy": "2024-01-10T10:55:21.783707Z",
     "iopub.status.idle": "2024-01-10T12:42:12.188102Z",
     "shell.execute_reply": "2024-01-10T12:42:12.186986Z",
     "shell.execute_reply.started": "2024-01-10T10:55:21.784670Z"
    }
   },
   "outputs": [
    {
     "name": "stdout",
     "output_type": "stream",
     "text": [
      "Training model (trial #6) - Parameters:\n",
      "  learning_rate=0.5546995150921215\n",
      "  max_depth=1\n",
      "  max_leaves=0\n",
      "[0.2, 0.2, 0.2, 0.2, 0.2] 5\n",
      "Training/Test split #0\n"
     ]
    },
    {
     "name": "stderr",
     "output_type": "stream",
     "text": [
      "2024-01-10 11:55:24,974 - INFO: - Building training DMatrix...\n",
      "2024-01-10 11:56:13,889 - INFO: - Building training DMatrix...Completed\n",
      "2024-01-10 11:56:13,890 - INFO: - Building test DMatrix...\n",
      "2024-01-10 11:56:33,992 - INFO: - Building DMatrix...Completed\n",
      "2024-01-10 11:56:33,998 - INFO: - Training model...\n",
      "2024-01-10 11:56:34,073 - INFO: - start listen on 10.91.28.16:55629\n",
      "[11:56:34] task [xgboost.dask-0]:tcp://127.0.0.1:32979 got new rank 0\n",
      "[11:56:34] task [xgboost.dask-1]:tcp://127.0.0.1:45541 got new rank 1\n",
      "[11:56:34] task [xgboost.dask-2]:tcp://127.0.0.1:36753 got new rank 2\n",
      "[11:56:34] task [xgboost.dask-3]:tcp://127.0.0.1:34831 got new rank 3\n",
      "[11:56:34] task [xgboost.dask-4]:tcp://127.0.0.1:42505 got new rank 4\n",
      "[11:56:34] task [xgboost.dask-5]:tcp://127.0.0.1:38213 got new rank 5\n",
      "2024-01-10 11:56:34,624 - INFO: - @tracker All of 6 nodes getting started\n",
      "2024-01-10 11:56:46,445 - INFO: - @tracker All nodes finishes job\n",
      "2024-01-10 11:56:46,558 - INFO: - Training model...Completed\n",
      "2024-01-10 11:56:46,559 - INFO: - Running model on test data...\n",
      "2024-01-10 11:56:49,204 - INFO: - Running model on test data...Completed\n",
      "2024-01-10 11:56:49,206 - INFO: - Reshape y_test data...\n",
      "2024-01-10 11:57:04,232 - INFO: - Reshape y_test data...Complete\n",
      "2024-01-10 11:57:04,233 - INFO: - Compute R2 & MSE scores...\n",
      "2024-01-10 11:57:04,237 - INFO: - Compute R2 & MSE scores...Completed\n"
     ]
    },
    {
     "name": "stdout",
     "output_type": "stream",
     "text": [
      " y_test_c: <class 'numpy.ndarray'>   Shape:  (10119,)       Predictions: <class 'numpy.ndarray'>  shape: (10119,)\n",
      "MSE Score : 0.022843\n",
      " R2 Score : 0.018665\n",
      "--------------------------------------------------------------------------------\n",
      "Training/Test split #1\n"
     ]
    },
    {
     "name": "stderr",
     "output_type": "stream",
     "text": [
      "2024-01-10 11:57:06,548 - INFO: - Building training DMatrix...\n",
      "2024-01-10 11:57:59,236 - INFO: - Building training DMatrix...Completed\n",
      "2024-01-10 11:57:59,237 - INFO: - Building test DMatrix...\n",
      "2024-01-10 11:58:19,696 - INFO: - Building DMatrix...Completed\n",
      "2024-01-10 11:58:19,702 - INFO: - Training model...\n",
      "2024-01-10 11:58:19,711 - INFO: - start listen on 10.91.28.16:51805\n",
      "[11:58:19] task [xgboost.dask-0]:tcp://127.0.0.1:32979 got new rank 0\n",
      "[11:58:19] task [xgboost.dask-1]:tcp://127.0.0.1:45541 got new rank 1\n",
      "[11:58:19] task [xgboost.dask-2]:tcp://127.0.0.1:36753 got new rank 2\n",
      "[11:58:19] task [xgboost.dask-3]:tcp://127.0.0.1:34831 got new rank 3\n",
      "[11:58:19] task [xgboost.dask-4]:tcp://127.0.0.1:42505 got new rank 4\n",
      "[11:58:19] task [xgboost.dask-5]:tcp://127.0.0.1:38213 got new rank 5\n",
      "2024-01-10 11:58:19,780 - INFO: - @tracker All of 6 nodes getting started\n",
      "2024-01-10 11:58:31,893 - INFO: - @tracker All nodes finishes job\n",
      "2024-01-10 11:58:32,041 - INFO: - Training model...Completed\n",
      "2024-01-10 11:58:32,043 - INFO: - Running model on test data...\n",
      "2024-01-10 11:58:34,579 - INFO: - Running model on test data...Completed\n",
      "2024-01-10 11:58:34,580 - INFO: - Reshape y_test data...\n",
      "2024-01-10 11:58:49,731 - INFO: - Reshape y_test data...Complete\n",
      "2024-01-10 11:58:49,733 - INFO: - Compute R2 & MSE scores...\n",
      "2024-01-10 11:58:49,737 - INFO: - Compute R2 & MSE scores...Completed\n"
     ]
    },
    {
     "name": "stdout",
     "output_type": "stream",
     "text": [
      " y_test_c: <class 'numpy.ndarray'>   Shape:  (9931,)       Predictions: <class 'numpy.ndarray'>  shape: (9931,)\n",
      "MSE Score : 0.023839\n",
      " R2 Score : 0.012547\n",
      "--------------------------------------------------------------------------------\n",
      "Training/Test split #2\n"
     ]
    },
    {
     "name": "stderr",
     "output_type": "stream",
     "text": [
      "2024-01-10 11:58:52,340 - INFO: - Building training DMatrix...\n",
      "2024-01-10 11:59:48,622 - INFO: - Building training DMatrix...Completed\n",
      "2024-01-10 11:59:48,624 - INFO: - Building test DMatrix...\n",
      "2024-01-10 12:00:10,256 - INFO: - Building DMatrix...Completed\n",
      "2024-01-10 12:00:10,262 - INFO: - Training model...\n",
      "2024-01-10 12:00:10,269 - INFO: - start listen on 10.91.28.16:39923\n",
      "[12:00:10] task [xgboost.dask-0]:tcp://127.0.0.1:32979 got new rank 0\n",
      "[12:00:10] task [xgboost.dask-1]:tcp://127.0.0.1:45541 got new rank 1\n",
      "[12:00:10] task [xgboost.dask-2]:tcp://127.0.0.1:36753 got new rank 2\n",
      "[12:00:10] task [xgboost.dask-3]:tcp://127.0.0.1:34831 got new rank 3\n",
      "[12:00:10] task [xgboost.dask-4]:tcp://127.0.0.1:42505 got new rank 4\n",
      "[12:00:10] task [xgboost.dask-5]:tcp://127.0.0.1:38213 got new rank 5\n",
      "2024-01-10 12:00:10,343 - INFO: - @tracker All of 6 nodes getting started\n",
      "2024-01-10 12:00:21,752 - INFO: - @tracker All nodes finishes job\n",
      "2024-01-10 12:00:21,874 - INFO: - Training model...Completed\n",
      "2024-01-10 12:00:21,879 - INFO: - Running model on test data...\n",
      "2024-01-10 12:00:24,463 - INFO: - Running model on test data...Completed\n",
      "2024-01-10 12:00:24,474 - INFO: - Reshape y_test data...\n",
      "2024-01-10 12:00:39,817 - INFO: - Reshape y_test data...Complete\n",
      "2024-01-10 12:00:39,819 - INFO: - Compute R2 & MSE scores...\n",
      "2024-01-10 12:00:39,824 - INFO: - Compute R2 & MSE scores...Completed\n"
     ]
    },
    {
     "name": "stdout",
     "output_type": "stream",
     "text": [
      " y_test_c: <class 'numpy.ndarray'>   Shape:  (10043,)       Predictions: <class 'numpy.ndarray'>  shape: (10043,)\n",
      "MSE Score : 0.024377\n",
      " R2 Score : 0.016114\n",
      "--------------------------------------------------------------------------------\n",
      "Training/Test split #3\n"
     ]
    },
    {
     "name": "stderr",
     "output_type": "stream",
     "text": [
      "2024-01-10 12:00:42,125 - INFO: - Building training DMatrix...\n",
      "2024-01-10 12:01:36,114 - INFO: - Building training DMatrix...Completed\n",
      "2024-01-10 12:01:36,134 - INFO: - Building test DMatrix...\n",
      "2024-01-10 12:01:57,572 - INFO: - Building DMatrix...Completed\n",
      "2024-01-10 12:01:57,579 - INFO: - Training model...\n",
      "2024-01-10 12:01:57,585 - INFO: - start listen on 10.91.28.16:41293\n",
      "[12:01:57] task [xgboost.dask-0]:tcp://127.0.0.1:32979 got new rank 0\n",
      "[12:01:57] task [xgboost.dask-1]:tcp://127.0.0.1:45541 got new rank 1\n",
      "[12:01:57] task [xgboost.dask-2]:tcp://127.0.0.1:36753 got new rank 2\n",
      "[12:01:57] task [xgboost.dask-3]:tcp://127.0.0.1:34831 got new rank 3\n",
      "[12:01:57] task [xgboost.dask-4]:tcp://127.0.0.1:42505 got new rank 4\n",
      "[12:01:57] task [xgboost.dask-5]:tcp://127.0.0.1:38213 got new rank 5\n",
      "2024-01-10 12:01:57,664 - INFO: - @tracker All of 6 nodes getting started\n",
      "2024-01-10 12:02:08,779 - INFO: - @tracker All nodes finishes job\n",
      "2024-01-10 12:02:08,871 - INFO: - Training model...Completed\n",
      "2024-01-10 12:02:08,872 - INFO: - Running model on test data...\n",
      "2024-01-10 12:02:11,526 - INFO: - Running model on test data...Completed\n",
      "2024-01-10 12:02:11,528 - INFO: - Reshape y_test data...\n",
      "2024-01-10 12:02:27,989 - INFO: - Reshape y_test data...Complete\n",
      "2024-01-10 12:02:27,991 - INFO: - Compute R2 & MSE scores...\n",
      "2024-01-10 12:02:27,995 - INFO: - Compute R2 & MSE scores...Completed\n"
     ]
    },
    {
     "name": "stdout",
     "output_type": "stream",
     "text": [
      " y_test_c: <class 'numpy.ndarray'>   Shape:  (9984,)       Predictions: <class 'numpy.ndarray'>  shape: (9984,)\n",
      "MSE Score : 0.023065\n",
      " R2 Score : 0.017077\n",
      "--------------------------------------------------------------------------------\n",
      "Training/Test split #4\n"
     ]
    },
    {
     "name": "stderr",
     "output_type": "stream",
     "text": [
      "2024-01-10 12:02:30,657 - INFO: - Building training DMatrix...\n",
      "2024-01-10 12:03:31,419 - INFO: - Building training DMatrix...Completed\n",
      "2024-01-10 12:03:31,420 - INFO: - Building test DMatrix...\n",
      "2024-01-10 12:03:53,225 - INFO: - Building DMatrix...Completed\n",
      "2024-01-10 12:03:53,232 - INFO: - Training model...\n",
      "2024-01-10 12:03:53,237 - INFO: - start listen on 10.91.28.16:60103\n",
      "[12:03:53] task [xgboost.dask-0]:tcp://127.0.0.1:32979 got new rank 0\n",
      "[12:03:53] task [xgboost.dask-1]:tcp://127.0.0.1:45541 got new rank 1\n",
      "[12:03:53] task [xgboost.dask-2]:tcp://127.0.0.1:36753 got new rank 2\n",
      "[12:03:53] task [xgboost.dask-3]:tcp://127.0.0.1:34831 got new rank 3\n",
      "[12:03:53] task [xgboost.dask-4]:tcp://127.0.0.1:42505 got new rank 4\n",
      "[12:03:53] task [xgboost.dask-5]:tcp://127.0.0.1:38213 got new rank 5\n",
      "2024-01-10 12:03:53,313 - INFO: - @tracker All of 6 nodes getting started\n",
      "2024-01-10 12:04:06,200 - INFO: - @tracker All nodes finishes job\n",
      "2024-01-10 12:04:06,322 - INFO: - Training model...Completed\n",
      "2024-01-10 12:04:06,325 - INFO: - Running model on test data...\n",
      "2024-01-10 12:04:08,980 - INFO: - Running model on test data...Completed\n",
      "2024-01-10 12:04:08,981 - INFO: - Reshape y_test data...\n",
      "2024-01-10 12:04:25,355 - INFO: - Reshape y_test data...Complete\n",
      "2024-01-10 12:04:25,357 - INFO: - Compute R2 & MSE scores...\n",
      "2024-01-10 12:04:25,362 - INFO: - Compute R2 & MSE scores...Completed\n",
      "[I 2024-01-10 12:04:25,439] Trial 6 finished with value: 0.02340226247906685 and parameters: {'learning_rate': 0.5546995150921215, 'max_depth': 1, 'max_leaves': 0}. Best is trial 3 with value: 0.023365306481719018.\n"
     ]
    },
    {
     "name": "stdout",
     "output_type": "stream",
     "text": [
      " y_test_c: <class 'numpy.ndarray'>   Shape:  (9923,)       Predictions: <class 'numpy.ndarray'>  shape: (9923,)\n",
      "MSE Score : 0.022888\n",
      " R2 Score : 0.013232\n",
      "--------------------------------------------------------------------------------\n",
      "RSME : 0.02340 +/- 0.00061\n",
      "--------------------------------------------------------------------------------\n",
      "R^2  : 0.01553 +/- 0.00231\n",
      "--------------------------------------------------------------------------------\n",
      "Training model (trial #7) - Parameters:\n",
      "  learning_rate=0.46971462253500823\n",
      "  max_depth=5\n",
      "  max_leaves=1\n",
      "[0.2, 0.2, 0.2, 0.2, 0.2] 5\n",
      "Training/Test split #0\n"
     ]
    },
    {
     "name": "stderr",
     "output_type": "stream",
     "text": [
      "2024-01-10 12:04:28,455 - INFO: - Building training DMatrix...\n",
      "2024-01-10 12:05:28,711 - INFO: - Building training DMatrix...Completed\n",
      "2024-01-10 12:05:28,712 - INFO: - Building test DMatrix...\n",
      "2024-01-10 12:05:51,292 - INFO: - Building DMatrix...Completed\n",
      "2024-01-10 12:05:51,299 - INFO: - Training model...\n",
      "2024-01-10 12:05:51,305 - INFO: - start listen on 10.91.28.16:59061\n",
      "[12:05:51] task [xgboost.dask-0]:tcp://127.0.0.1:32979 got new rank 0\n",
      "[12:05:51] task [xgboost.dask-1]:tcp://127.0.0.1:45541 got new rank 1\n",
      "[12:05:51] task [xgboost.dask-2]:tcp://127.0.0.1:36753 got new rank 2\n",
      "[12:05:51] task [xgboost.dask-3]:tcp://127.0.0.1:34831 got new rank 3\n",
      "[12:05:51] task [xgboost.dask-4]:tcp://127.0.0.1:42505 got new rank 4\n",
      "[12:05:51] task [xgboost.dask-5]:tcp://127.0.0.1:38213 got new rank 5\n",
      "2024-01-10 12:05:51,376 - INFO: - @tracker All of 6 nodes getting started\n",
      "2024-01-10 12:06:02,817 - INFO: - @tracker All nodes finishes job\n",
      "2024-01-10 12:06:02,902 - INFO: - Training model...Completed\n",
      "2024-01-10 12:06:02,904 - INFO: - Running model on test data...\n",
      "2024-01-10 12:06:05,522 - INFO: - Running model on test data...Completed\n",
      "2024-01-10 12:06:05,524 - INFO: - Reshape y_test data...\n",
      "2024-01-10 12:06:22,982 - INFO: - Reshape y_test data...Complete\n",
      "2024-01-10 12:06:22,984 - INFO: - Compute R2 & MSE scores...\n",
      "2024-01-10 12:06:22,988 - INFO: - Compute R2 & MSE scores...Completed\n"
     ]
    },
    {
     "name": "stdout",
     "output_type": "stream",
     "text": [
      " y_test_c: <class 'numpy.ndarray'>   Shape:  (9993,)       Predictions: <class 'numpy.ndarray'>  shape: (9993,)\n",
      "MSE Score : 0.023751\n",
      " R2 Score : -0.000329\n",
      "--------------------------------------------------------------------------------\n",
      "Training/Test split #1\n"
     ]
    },
    {
     "name": "stderr",
     "output_type": "stream",
     "text": [
      "2024-01-10 12:06:25,283 - INFO: - Building training DMatrix...\n",
      "2024-01-10 12:07:20,815 - INFO: - Building training DMatrix...Completed\n",
      "2024-01-10 12:07:20,817 - INFO: - Building test DMatrix...\n",
      "2024-01-10 12:07:42,869 - INFO: - Building DMatrix...Completed\n",
      "2024-01-10 12:07:42,872 - INFO: - Training model...\n",
      "2024-01-10 12:07:42,883 - INFO: - start listen on 10.91.28.16:52399\n",
      "[12:07:42] task [xgboost.dask-0]:tcp://127.0.0.1:32979 got new rank 0\n",
      "[12:07:42] task [xgboost.dask-1]:tcp://127.0.0.1:45541 got new rank 1\n",
      "[12:07:42] task [xgboost.dask-2]:tcp://127.0.0.1:36753 got new rank 2\n",
      "[12:07:42] task [xgboost.dask-3]:tcp://127.0.0.1:34831 got new rank 3\n",
      "[12:07:42] task [xgboost.dask-4]:tcp://127.0.0.1:42505 got new rank 4\n",
      "[12:07:42] task [xgboost.dask-5]:tcp://127.0.0.1:38213 got new rank 5\n",
      "2024-01-10 12:07:42,972 - INFO: - @tracker All of 6 nodes getting started\n",
      "2024-01-10 12:07:54,549 - INFO: - @tracker All nodes finishes job\n",
      "2024-01-10 12:07:54,654 - INFO: - Training model...Completed\n",
      "2024-01-10 12:07:54,656 - INFO: - Running model on test data...\n",
      "2024-01-10 12:07:57,426 - INFO: - Running model on test data...Completed\n",
      "2024-01-10 12:07:57,427 - INFO: - Reshape y_test data...\n",
      "2024-01-10 12:08:13,667 - INFO: - Reshape y_test data...Complete\n",
      "2024-01-10 12:08:13,669 - INFO: - Compute R2 & MSE scores...\n",
      "2024-01-10 12:08:13,674 - INFO: - Compute R2 & MSE scores...Completed\n"
     ]
    },
    {
     "name": "stdout",
     "output_type": "stream",
     "text": [
      " y_test_c: <class 'numpy.ndarray'>   Shape:  (10029,)       Predictions: <class 'numpy.ndarray'>  shape: (10029,)\n",
      "MSE Score : 0.022806\n",
      " R2 Score : -0.000005\n",
      "--------------------------------------------------------------------------------\n",
      "Training/Test split #2\n"
     ]
    },
    {
     "name": "stderr",
     "output_type": "stream",
     "text": [
      "2024-01-10 12:08:16,352 - INFO: - Building training DMatrix...\n",
      "2024-01-10 12:09:18,280 - INFO: - Building training DMatrix...Completed\n",
      "2024-01-10 12:09:18,282 - INFO: - Building test DMatrix...\n",
      "2024-01-10 12:09:41,760 - INFO: - Building DMatrix...Completed\n",
      "2024-01-10 12:09:41,762 - INFO: - Training model...\n",
      "2024-01-10 12:09:41,773 - INFO: - start listen on 10.91.28.16:34457\n",
      "[12:09:41] task [xgboost.dask-0]:tcp://127.0.0.1:32979 got new rank 0\n",
      "[12:09:41] task [xgboost.dask-1]:tcp://127.0.0.1:45541 got new rank 1\n",
      "[12:09:41] task [xgboost.dask-2]:tcp://127.0.0.1:36753 got new rank 2\n",
      "[12:09:41] task [xgboost.dask-3]:tcp://127.0.0.1:34831 got new rank 3\n",
      "[12:09:41] task [xgboost.dask-4]:tcp://127.0.0.1:42505 got new rank 4\n",
      "[12:09:41] task [xgboost.dask-5]:tcp://127.0.0.1:38213 got new rank 5\n",
      "2024-01-10 12:09:41,846 - INFO: - @tracker All of 6 nodes getting started\n",
      "2024-01-10 12:09:52,839 - INFO: - @tracker All nodes finishes job\n",
      "2024-01-10 12:09:53,011 - INFO: - Training model...Completed\n",
      "2024-01-10 12:09:53,012 - INFO: - Running model on test data...\n",
      "2024-01-10 12:09:55,624 - INFO: - Running model on test data...Completed\n",
      "2024-01-10 12:09:55,626 - INFO: - Reshape y_test data...\n",
      "2024-01-10 12:10:13,077 - INFO: - Reshape y_test data...Complete\n",
      "2024-01-10 12:10:13,079 - INFO: - Compute R2 & MSE scores...\n",
      "2024-01-10 12:10:13,083 - INFO: - Compute R2 & MSE scores...Completed\n"
     ]
    },
    {
     "name": "stdout",
     "output_type": "stream",
     "text": [
      " y_test_c: <class 'numpy.ndarray'>   Shape:  (9986,)       Predictions: <class 'numpy.ndarray'>  shape: (9986,)\n",
      "MSE Score : 0.024371\n",
      " R2 Score : -0.000015\n",
      "--------------------------------------------------------------------------------\n",
      "Training/Test split #3\n"
     ]
    },
    {
     "name": "stderr",
     "output_type": "stream",
     "text": [
      "2024-01-10 12:10:15,512 - INFO: - Building training DMatrix...\n",
      "2024-01-10 12:11:13,057 - INFO: - Building training DMatrix...Completed\n",
      "2024-01-10 12:11:13,076 - INFO: - Building test DMatrix...\n",
      "2024-01-10 12:11:35,850 - INFO: - Building DMatrix...Completed\n",
      "2024-01-10 12:11:35,858 - INFO: - Training model...\n",
      "2024-01-10 12:11:35,864 - INFO: - start listen on 10.91.28.16:37515\n",
      "[12:11:35] task [xgboost.dask-0]:tcp://127.0.0.1:32979 got new rank 0\n",
      "[12:11:35] task [xgboost.dask-1]:tcp://127.0.0.1:45541 got new rank 1\n",
      "[12:11:35] task [xgboost.dask-2]:tcp://127.0.0.1:36753 got new rank 2\n",
      "[12:11:35] task [xgboost.dask-3]:tcp://127.0.0.1:34831 got new rank 3\n",
      "[12:11:35] task [xgboost.dask-4]:tcp://127.0.0.1:42505 got new rank 4\n",
      "[12:11:35] task [xgboost.dask-5]:tcp://127.0.0.1:38213 got new rank 5\n",
      "2024-01-10 12:11:35,945 - INFO: - @tracker All of 6 nodes getting started\n",
      "2024-01-10 12:11:47,407 - INFO: - @tracker All nodes finishes job\n",
      "2024-01-10 12:11:47,512 - INFO: - Training model...Completed\n",
      "2024-01-10 12:11:47,516 - INFO: - Running model on test data...\n",
      "2024-01-10 12:11:50,575 - INFO: - Running model on test data...Completed\n",
      "2024-01-10 12:11:50,576 - INFO: - Reshape y_test data...\n",
      "2024-01-10 12:12:07,065 - INFO: - Reshape y_test data...Complete\n",
      "2024-01-10 12:12:07,067 - INFO: - Compute R2 & MSE scores...\n",
      "2024-01-10 12:12:07,078 - INFO: - Compute R2 & MSE scores...Completed\n"
     ]
    },
    {
     "name": "stdout",
     "output_type": "stream",
     "text": [
      " y_test_c: <class 'numpy.ndarray'>   Shape:  (9905,)       Predictions: <class 'numpy.ndarray'>  shape: (9905,)\n",
      "MSE Score : 0.024052\n",
      " R2 Score : -0.000277\n",
      "--------------------------------------------------------------------------------\n",
      "Training/Test split #4\n"
     ]
    },
    {
     "name": "stderr",
     "output_type": "stream",
     "text": [
      "2024-01-10 12:12:09,432 - INFO: - Building training DMatrix...\n",
      "2024-01-10 12:13:08,620 - INFO: - Building training DMatrix...Completed\n",
      "2024-01-10 12:13:08,623 - INFO: - Building test DMatrix...\n",
      "2024-01-10 12:13:32,218 - INFO: - Building DMatrix...Completed\n",
      "2024-01-10 12:13:32,219 - INFO: - Training model...\n",
      "2024-01-10 12:13:32,228 - INFO: - start listen on 10.91.28.16:53979\n",
      "[12:13:32] task [xgboost.dask-0]:tcp://127.0.0.1:32979 got new rank 0\n",
      "[12:13:32] task [xgboost.dask-1]:tcp://127.0.0.1:45541 got new rank 1\n",
      "[12:13:32] task [xgboost.dask-2]:tcp://127.0.0.1:36753 got new rank 2\n",
      "[12:13:32] task [xgboost.dask-3]:tcp://127.0.0.1:34831 got new rank 3\n",
      "[12:13:32] task [xgboost.dask-4]:tcp://127.0.0.1:42505 got new rank 4\n",
      "[12:13:32] task [xgboost.dask-5]:tcp://127.0.0.1:38213 got new rank 5\n",
      "2024-01-10 12:13:32,305 - INFO: - @tracker All of 6 nodes getting started\n",
      "2024-01-10 12:13:43,584 - INFO: - @tracker All nodes finishes job\n",
      "2024-01-10 12:13:43,752 - INFO: - Training model...Completed\n",
      "2024-01-10 12:13:43,757 - INFO: - Running model on test data...\n",
      "2024-01-10 12:13:46,396 - INFO: - Running model on test data...Completed\n",
      "2024-01-10 12:13:46,399 - INFO: - Reshape y_test data...\n",
      "2024-01-10 12:14:04,102 - INFO: - Reshape y_test data...Complete\n",
      "2024-01-10 12:14:04,104 - INFO: - Compute R2 & MSE scores...\n",
      "2024-01-10 12:14:04,109 - INFO: - Compute R2 & MSE scores...Completed\n",
      "[I 2024-01-10 12:14:04,187] Trial 7 finished with value: 0.023774432390928267 and parameters: {'learning_rate': 0.46971462253500823, 'max_depth': 5, 'max_leaves': 1}. Best is trial 3 with value: 0.023365306481719018.\n"
     ]
    },
    {
     "name": "stdout",
     "output_type": "stream",
     "text": [
      " y_test_c: <class 'numpy.ndarray'>   Shape:  (10087,)       Predictions: <class 'numpy.ndarray'>  shape: (10087,)\n",
      "MSE Score : 0.023893\n",
      " R2 Score : -0.000010\n",
      "--------------------------------------------------------------------------------\n",
      "RSME : 0.02377 +/- 0.00053\n",
      "--------------------------------------------------------------------------------\n",
      "R^2  : -0.00013 +/- 0.00014\n",
      "--------------------------------------------------------------------------------\n",
      "Training model (trial #8) - Parameters:\n",
      "  learning_rate=0.4347161529731449\n",
      "  max_depth=4\n",
      "  max_leaves=2\n",
      "[0.2, 0.2, 0.2, 0.2, 0.2] 5\n",
      "Training/Test split #0\n"
     ]
    },
    {
     "name": "stderr",
     "output_type": "stream",
     "text": [
      "2024-01-10 12:14:07,243 - INFO: - Building training DMatrix...\n",
      "2024-01-10 12:15:10,493 - INFO: - Building training DMatrix...Completed\n",
      "2024-01-10 12:15:10,496 - INFO: - Building test DMatrix...\n",
      "2024-01-10 12:15:34,012 - INFO: - Building DMatrix...Completed\n",
      "2024-01-10 12:15:34,014 - INFO: - Training model...\n",
      "2024-01-10 12:15:34,024 - INFO: - start listen on 10.91.28.16:41155\n",
      "[12:15:34] task [xgboost.dask-0]:tcp://127.0.0.1:32979 got new rank 0\n",
      "[12:15:34] task [xgboost.dask-1]:tcp://127.0.0.1:45541 got new rank 1\n",
      "[12:15:34] task [xgboost.dask-2]:tcp://127.0.0.1:36753 got new rank 2\n",
      "[12:15:34] task [xgboost.dask-3]:tcp://127.0.0.1:34831 got new rank 3\n",
      "[12:15:34] task [xgboost.dask-4]:tcp://127.0.0.1:42505 got new rank 4\n",
      "[12:15:34] task [xgboost.dask-5]:tcp://127.0.0.1:38213 got new rank 5\n",
      "2024-01-10 12:15:34,101 - INFO: - @tracker All of 6 nodes getting started\n",
      "2024-01-10 12:15:45,143 - INFO: - @tracker All nodes finishes job\n",
      "2024-01-10 12:15:45,243 - INFO: - Training model...Completed\n",
      "2024-01-10 12:15:45,248 - INFO: - Running model on test data...\n",
      "2024-01-10 12:15:48,116 - INFO: - Running model on test data...Completed\n",
      "2024-01-10 12:15:48,118 - INFO: - Reshape y_test data...\n",
      "2024-01-10 12:16:05,663 - INFO: - Reshape y_test data...Complete\n",
      "2024-01-10 12:16:05,665 - INFO: - Compute R2 & MSE scores...\n",
      "2024-01-10 12:16:05,670 - INFO: - Compute R2 & MSE scores...Completed\n"
     ]
    },
    {
     "name": "stdout",
     "output_type": "stream",
     "text": [
      " y_test_c: <class 'numpy.ndarray'>   Shape:  (9883,)       Predictions: <class 'numpy.ndarray'>  shape: (9883,)\n",
      "MSE Score : 0.023382\n",
      " R2 Score : 0.013657\n",
      "--------------------------------------------------------------------------------\n",
      "Training/Test split #1\n"
     ]
    },
    {
     "name": "stderr",
     "output_type": "stream",
     "text": [
      "2024-01-10 12:16:08,449 - INFO: - Building training DMatrix...\n",
      "2024-01-10 12:17:11,293 - INFO: - Building training DMatrix...Completed\n",
      "2024-01-10 12:17:11,294 - INFO: - Building test DMatrix...\n",
      "2024-01-10 12:17:35,360 - INFO: - Building DMatrix...Completed\n",
      "2024-01-10 12:17:35,368 - INFO: - Training model...\n",
      "2024-01-10 12:17:35,376 - INFO: - start listen on 10.91.28.16:59367\n",
      "[12:17:35] task [xgboost.dask-0]:tcp://127.0.0.1:32979 got new rank 0\n",
      "[12:17:35] task [xgboost.dask-1]:tcp://127.0.0.1:45541 got new rank 1\n",
      "[12:17:35] task [xgboost.dask-2]:tcp://127.0.0.1:36753 got new rank 2\n",
      "[12:17:35] task [xgboost.dask-3]:tcp://127.0.0.1:34831 got new rank 3\n",
      "[12:17:35] task [xgboost.dask-4]:tcp://127.0.0.1:42505 got new rank 4\n",
      "[12:17:35] task [xgboost.dask-5]:tcp://127.0.0.1:38213 got new rank 5\n",
      "2024-01-10 12:17:35,452 - INFO: - @tracker All of 6 nodes getting started\n",
      "2024-01-10 12:17:46,641 - INFO: - @tracker All nodes finishes job\n",
      "2024-01-10 12:17:46,731 - INFO: - Training model...Completed\n",
      "2024-01-10 12:17:46,734 - INFO: - Running model on test data...\n",
      "2024-01-10 12:17:49,474 - INFO: - Running model on test data...Completed\n",
      "2024-01-10 12:17:49,476 - INFO: - Reshape y_test data...\n",
      "2024-01-10 12:18:07,424 - INFO: - Reshape y_test data...Complete\n",
      "2024-01-10 12:18:07,426 - INFO: - Compute R2 & MSE scores...\n",
      "2024-01-10 12:18:07,432 - INFO: - Compute R2 & MSE scores...Completed\n"
     ]
    },
    {
     "name": "stdout",
     "output_type": "stream",
     "text": [
      " y_test_c: <class 'numpy.ndarray'>   Shape:  (9943,)       Predictions: <class 'numpy.ndarray'>  shape: (9943,)\n",
      "MSE Score : 0.023046\n",
      " R2 Score : 0.014626\n",
      "--------------------------------------------------------------------------------\n",
      "Training/Test split #2\n"
     ]
    },
    {
     "name": "stderr",
     "output_type": "stream",
     "text": [
      "2024-01-10 12:18:09,942 - INFO: - Building training DMatrix...\n",
      "2024-01-10 12:19:12,824 - INFO: - Building training DMatrix...Completed\n",
      "2024-01-10 12:19:12,826 - INFO: - Building test DMatrix...\n",
      "2024-01-10 12:19:36,134 - INFO: - Building DMatrix...Completed\n",
      "2024-01-10 12:19:36,136 - INFO: - Training model...\n",
      "2024-01-10 12:19:36,153 - INFO: - start listen on 10.91.28.16:56945\n",
      "[12:19:36] task [xgboost.dask-0]:tcp://127.0.0.1:32979 got new rank 0\n",
      "[12:19:36] task [xgboost.dask-1]:tcp://127.0.0.1:45541 got new rank 1\n",
      "[12:19:36] task [xgboost.dask-2]:tcp://127.0.0.1:36753 got new rank 2\n",
      "[12:19:36] task [xgboost.dask-3]:tcp://127.0.0.1:34831 got new rank 3\n",
      "[12:19:36] task [xgboost.dask-4]:tcp://127.0.0.1:42505 got new rank 4\n",
      "[12:19:36] task [xgboost.dask-5]:tcp://127.0.0.1:38213 got new rank 5\n",
      "2024-01-10 12:19:36,231 - INFO: - @tracker All of 6 nodes getting started\n",
      "2024-01-10 12:19:47,320 - INFO: - @tracker All nodes finishes job\n",
      "2024-01-10 12:19:47,411 - INFO: - Training model...Completed\n",
      "2024-01-10 12:19:47,413 - INFO: - Running model on test data...\n",
      "2024-01-10 12:19:50,129 - INFO: - Running model on test data...Completed\n",
      "2024-01-10 12:19:50,131 - INFO: - Reshape y_test data...\n",
      "2024-01-10 12:20:07,601 - INFO: - Reshape y_test data...Complete\n",
      "2024-01-10 12:20:07,603 - INFO: - Compute R2 & MSE scores...\n",
      "2024-01-10 12:20:07,609 - INFO: - Compute R2 & MSE scores...Completed\n"
     ]
    },
    {
     "name": "stdout",
     "output_type": "stream",
     "text": [
      " y_test_c: <class 'numpy.ndarray'>   Shape:  (10084,)       Predictions: <class 'numpy.ndarray'>  shape: (10084,)\n",
      "MSE Score : 0.022993\n",
      " R2 Score : 0.016230\n",
      "--------------------------------------------------------------------------------\n",
      "Training/Test split #3\n"
     ]
    },
    {
     "name": "stderr",
     "output_type": "stream",
     "text": [
      "2024-01-10 12:20:10,463 - INFO: - Building training DMatrix...\n",
      "2024-01-10 12:21:17,426 - INFO: - Building training DMatrix...Completed\n",
      "2024-01-10 12:21:17,428 - INFO: - Building test DMatrix...\n",
      "2024-01-10 12:21:41,458 - INFO: - Building DMatrix...Completed\n",
      "2024-01-10 12:21:41,461 - INFO: - Training model...\n",
      "2024-01-10 12:21:41,471 - INFO: - start listen on 10.91.28.16:39045\n",
      "[12:21:41] task [xgboost.dask-0]:tcp://127.0.0.1:32979 got new rank 0\n",
      "[12:21:41] task [xgboost.dask-1]:tcp://127.0.0.1:45541 got new rank 1\n",
      "[12:21:41] task [xgboost.dask-2]:tcp://127.0.0.1:36753 got new rank 2\n",
      "[12:21:41] task [xgboost.dask-3]:tcp://127.0.0.1:34831 got new rank 3\n",
      "[12:21:41] task [xgboost.dask-4]:tcp://127.0.0.1:42505 got new rank 4\n",
      "[12:21:41] task [xgboost.dask-5]:tcp://127.0.0.1:38213 got new rank 5\n",
      "2024-01-10 12:21:41,555 - INFO: - @tracker All of 6 nodes getting started\n",
      "2024-01-10 12:21:52,520 - INFO: - @tracker All nodes finishes job\n",
      "2024-01-10 12:21:52,647 - INFO: - Training model...Completed\n",
      "2024-01-10 12:21:52,649 - INFO: - Running model on test data...\n",
      "2024-01-10 12:21:55,213 - INFO: - Running model on test data...Completed\n",
      "2024-01-10 12:21:55,215 - INFO: - Reshape y_test data...\n",
      "2024-01-10 12:22:13,108 - INFO: - Reshape y_test data...Complete\n",
      "2024-01-10 12:22:13,111 - INFO: - Compute R2 & MSE scores...\n",
      "2024-01-10 12:22:13,114 - INFO: - Compute R2 & MSE scores...Completed\n"
     ]
    },
    {
     "name": "stdout",
     "output_type": "stream",
     "text": [
      " y_test_c: <class 'numpy.ndarray'>   Shape:  (9915,)       Predictions: <class 'numpy.ndarray'>  shape: (9915,)\n",
      "MSE Score : 0.022683\n",
      " R2 Score : 0.015659\n",
      "--------------------------------------------------------------------------------\n",
      "Training/Test split #4\n"
     ]
    },
    {
     "name": "stderr",
     "output_type": "stream",
     "text": [
      "2024-01-10 12:22:15,564 - INFO: - Building training DMatrix...\n",
      "2024-01-10 12:23:18,215 - INFO: - Building training DMatrix...Completed\n",
      "2024-01-10 12:23:18,217 - INFO: - Building test DMatrix...\n",
      "2024-01-10 12:23:43,589 - INFO: - Building DMatrix...Completed\n",
      "2024-01-10 12:23:43,590 - INFO: - Training model...\n",
      "2024-01-10 12:23:43,601 - INFO: - start listen on 10.91.28.16:44461\n",
      "[12:23:43] task [xgboost.dask-0]:tcp://127.0.0.1:32979 got new rank 0\n",
      "[12:23:43] task [xgboost.dask-1]:tcp://127.0.0.1:45541 got new rank 1\n",
      "[12:23:43] task [xgboost.dask-2]:tcp://127.0.0.1:36753 got new rank 2\n",
      "[12:23:43] task [xgboost.dask-3]:tcp://127.0.0.1:34831 got new rank 3\n",
      "[12:23:43] task [xgboost.dask-4]:tcp://127.0.0.1:42505 got new rank 4\n",
      "[12:23:43] task [xgboost.dask-5]:tcp://127.0.0.1:38213 got new rank 5\n",
      "2024-01-10 12:23:43,678 - INFO: - @tracker All of 6 nodes getting started\n",
      "2024-01-10 12:23:54,824 - INFO: - @tracker All nodes finishes job\n",
      "2024-01-10 12:23:54,955 - INFO: - Training model...Completed\n",
      "2024-01-10 12:23:54,960 - INFO: - Running model on test data...\n",
      "2024-01-10 12:23:57,583 - INFO: - Running model on test data...Completed\n",
      "2024-01-10 12:23:57,584 - INFO: - Reshape y_test data...\n",
      "2024-01-10 12:24:15,269 - INFO: - Reshape y_test data...Complete\n",
      "2024-01-10 12:24:15,270 - INFO: - Compute R2 & MSE scores...\n",
      "2024-01-10 12:24:15,275 - INFO: - Compute R2 & MSE scores...Completed\n",
      "[I 2024-01-10 12:24:15,388] Trial 8 finished with value: 0.02342248670756817 and parameters: {'learning_rate': 0.4347161529731449, 'max_depth': 4, 'max_leaves': 2}. Best is trial 3 with value: 0.023365306481719018.\n"
     ]
    },
    {
     "name": "stdout",
     "output_type": "stream",
     "text": [
      " y_test_c: <class 'numpy.ndarray'>   Shape:  (10175,)       Predictions: <class 'numpy.ndarray'>  shape: (10175,)\n",
      "MSE Score : 0.025008\n",
      " R2 Score : 0.011602\n",
      "--------------------------------------------------------------------------------\n",
      "RSME : 0.02342 +/- 0.00082\n",
      "--------------------------------------------------------------------------------\n",
      "R^2  : 0.01435 +/- 0.00163\n",
      "--------------------------------------------------------------------------------\n",
      "Training model (trial #9) - Parameters:\n",
      "  learning_rate=0.3847533718023459\n",
      "  max_depth=4\n",
      "  max_leaves=0\n",
      "[0.2, 0.2, 0.2, 0.2, 0.2] 5\n",
      "Training/Test split #0\n"
     ]
    },
    {
     "name": "stderr",
     "output_type": "stream",
     "text": [
      "2024-01-10 12:24:18,465 - INFO: - Building training DMatrix...\n",
      "2024-01-10 12:25:23,483 - INFO: - Building training DMatrix...Completed\n",
      "2024-01-10 12:25:23,484 - INFO: - Building test DMatrix...\n",
      "2024-01-10 12:25:47,443 - INFO: - Building DMatrix...Completed\n",
      "2024-01-10 12:25:47,447 - INFO: - Training model...\n",
      "2024-01-10 12:25:47,457 - INFO: - start listen on 10.91.28.16:57481\n",
      "[12:25:47] task [xgboost.dask-0]:tcp://127.0.0.1:32979 got new rank 0\n",
      "[12:25:47] task [xgboost.dask-1]:tcp://127.0.0.1:45541 got new rank 1\n",
      "[12:25:47] task [xgboost.dask-2]:tcp://127.0.0.1:36753 got new rank 2\n",
      "[12:25:47] task [xgboost.dask-3]:tcp://127.0.0.1:34831 got new rank 3\n",
      "[12:25:47] task [xgboost.dask-4]:tcp://127.0.0.1:42505 got new rank 4\n",
      "[12:25:47] task [xgboost.dask-5]:tcp://127.0.0.1:38213 got new rank 5\n",
      "2024-01-10 12:25:47,538 - INFO: - @tracker All of 6 nodes getting started\n",
      "2024-01-10 12:26:12,018 - INFO: - @tracker All nodes finishes job\n",
      "2024-01-10 12:26:12,114 - INFO: - Training model...Completed\n",
      "2024-01-10 12:26:12,115 - INFO: - Running model on test data...\n",
      "2024-01-10 12:26:14,878 - INFO: - Running model on test data...Completed\n",
      "2024-01-10 12:26:14,880 - INFO: - Reshape y_test data...\n",
      "2024-01-10 12:26:32,434 - INFO: - Reshape y_test data...Complete\n",
      "2024-01-10 12:26:32,435 - INFO: - Compute R2 & MSE scores...\n",
      "2024-01-10 12:26:32,439 - INFO: - Compute R2 & MSE scores...Completed\n"
     ]
    },
    {
     "name": "stdout",
     "output_type": "stream",
     "text": [
      " y_test_c: <class 'numpy.ndarray'>   Shape:  (9889,)       Predictions: <class 'numpy.ndarray'>  shape: (9889,)\n",
      "MSE Score : 0.023646\n",
      " R2 Score : 0.022409\n",
      "--------------------------------------------------------------------------------\n",
      "Training/Test split #1\n"
     ]
    },
    {
     "name": "stderr",
     "output_type": "stream",
     "text": [
      "2024-01-10 12:26:34,818 - INFO: - Building training DMatrix...\n",
      "2024-01-10 12:27:38,479 - INFO: - Building training DMatrix...Completed\n",
      "2024-01-10 12:27:38,483 - INFO: - Building test DMatrix...\n",
      "2024-01-10 12:28:02,262 - INFO: - Building DMatrix...Completed\n",
      "2024-01-10 12:28:02,271 - INFO: - Training model...\n",
      "2024-01-10 12:28:02,279 - INFO: - start listen on 10.91.28.16:60435\n",
      "[12:28:02] task [xgboost.dask-0]:tcp://127.0.0.1:32979 got new rank 0\n",
      "[12:28:02] task [xgboost.dask-1]:tcp://127.0.0.1:45541 got new rank 1\n",
      "[12:28:02] task [xgboost.dask-2]:tcp://127.0.0.1:36753 got new rank 2\n",
      "[12:28:02] task [xgboost.dask-3]:tcp://127.0.0.1:34831 got new rank 3\n",
      "[12:28:02] task [xgboost.dask-4]:tcp://127.0.0.1:42505 got new rank 4\n",
      "[12:28:02] task [xgboost.dask-5]:tcp://127.0.0.1:38213 got new rank 5\n",
      "2024-01-10 12:28:02,354 - INFO: - @tracker All of 6 nodes getting started\n",
      "2024-01-10 12:28:27,202 - INFO: - @tracker All nodes finishes job\n",
      "2024-01-10 12:28:27,350 - INFO: - Training model...Completed\n",
      "2024-01-10 12:28:27,351 - INFO: - Running model on test data...\n",
      "2024-01-10 12:28:30,045 - INFO: - Running model on test data...Completed\n",
      "2024-01-10 12:28:30,047 - INFO: - Reshape y_test data...\n",
      "2024-01-10 12:28:48,169 - INFO: - Reshape y_test data...Complete\n",
      "2024-01-10 12:28:48,171 - INFO: - Compute R2 & MSE scores...\n",
      "2024-01-10 12:28:48,179 - INFO: - Compute R2 & MSE scores...Completed\n"
     ]
    },
    {
     "name": "stdout",
     "output_type": "stream",
     "text": [
      " y_test_c: <class 'numpy.ndarray'>   Shape:  (9918,)       Predictions: <class 'numpy.ndarray'>  shape: (9918,)\n",
      "MSE Score : 0.023422\n",
      " R2 Score : 0.026079\n",
      "--------------------------------------------------------------------------------\n",
      "Training/Test split #2\n"
     ]
    },
    {
     "name": "stderr",
     "output_type": "stream",
     "text": [
      "2024-01-10 12:28:50,480 - INFO: - Building training DMatrix...\n",
      "2024-01-10 12:29:52,472 - INFO: - Building training DMatrix...Completed\n",
      "2024-01-10 12:29:52,497 - INFO: - Building test DMatrix...\n",
      "2024-01-10 12:30:16,447 - INFO: - Building DMatrix...Completed\n",
      "2024-01-10 12:30:16,450 - INFO: - Training model...\n",
      "2024-01-10 12:30:16,461 - INFO: - start listen on 10.91.28.16:53537\n",
      "[12:30:16] task [xgboost.dask-0]:tcp://127.0.0.1:32979 got new rank 0\n",
      "[12:30:16] task [xgboost.dask-1]:tcp://127.0.0.1:45541 got new rank 1\n",
      "[12:30:16] task [xgboost.dask-2]:tcp://127.0.0.1:36753 got new rank 2\n",
      "[12:30:16] task [xgboost.dask-3]:tcp://127.0.0.1:34831 got new rank 3\n",
      "[12:30:16] task [xgboost.dask-4]:tcp://127.0.0.1:42505 got new rank 4\n",
      "[12:30:16] task [xgboost.dask-5]:tcp://127.0.0.1:38213 got new rank 5\n",
      "2024-01-10 12:30:16,541 - INFO: - @tracker All of 6 nodes getting started\n",
      "2024-01-10 12:30:43,555 - INFO: - @tracker All nodes finishes job\n",
      "2024-01-10 12:30:43,686 - INFO: - Training model...Completed\n",
      "2024-01-10 12:30:43,696 - INFO: - Running model on test data...\n",
      "2024-01-10 12:30:46,403 - INFO: - Running model on test data...Completed\n",
      "2024-01-10 12:30:46,404 - INFO: - Reshape y_test data...\n",
      "2024-01-10 12:31:04,307 - INFO: - Reshape y_test data...Complete\n",
      "2024-01-10 12:31:04,309 - INFO: - Compute R2 & MSE scores...\n",
      "2024-01-10 12:31:04,313 - INFO: - Compute R2 & MSE scores...Completed\n"
     ]
    },
    {
     "name": "stdout",
     "output_type": "stream",
     "text": [
      " y_test_c: <class 'numpy.ndarray'>   Shape:  (9955,)       Predictions: <class 'numpy.ndarray'>  shape: (9955,)\n",
      "MSE Score : 0.022085\n",
      " R2 Score : 0.023280\n",
      "--------------------------------------------------------------------------------\n",
      "Training/Test split #3\n"
     ]
    },
    {
     "name": "stderr",
     "output_type": "stream",
     "text": [
      "2024-01-10 12:31:07,033 - INFO: - Building training DMatrix...\n",
      "2024-01-10 12:32:14,175 - INFO: - Building training DMatrix...Completed\n",
      "2024-01-10 12:32:14,177 - INFO: - Building test DMatrix...\n",
      "2024-01-10 12:32:39,449 - INFO: - Building DMatrix...Completed\n",
      "2024-01-10 12:32:39,456 - INFO: - Training model...\n",
      "2024-01-10 12:32:39,461 - INFO: - start listen on 10.91.28.16:35079\n",
      "[12:32:39] task [xgboost.dask-0]:tcp://127.0.0.1:32979 got new rank 0\n",
      "[12:32:39] task [xgboost.dask-1]:tcp://127.0.0.1:45541 got new rank 1\n",
      "[12:32:39] task [xgboost.dask-2]:tcp://127.0.0.1:36753 got new rank 2\n",
      "[12:32:39] task [xgboost.dask-3]:tcp://127.0.0.1:34831 got new rank 3\n",
      "[12:32:39] task [xgboost.dask-4]:tcp://127.0.0.1:42505 got new rank 4\n",
      "[12:32:39] task [xgboost.dask-5]:tcp://127.0.0.1:38213 got new rank 5\n",
      "2024-01-10 12:32:39,541 - INFO: - @tracker All of 6 nodes getting started\n",
      "2024-01-10 12:33:06,582 - INFO: - @tracker All nodes finishes job\n",
      "2024-01-10 12:33:06,702 - INFO: - Training model...Completed\n",
      "2024-01-10 12:33:06,712 - INFO: - Running model on test data...\n",
      "2024-01-10 12:33:09,355 - INFO: - Running model on test data...Completed\n",
      "2024-01-10 12:33:09,356 - INFO: - Reshape y_test data...\n",
      "2024-01-10 12:33:27,122 - INFO: - Reshape y_test data...Complete\n",
      "2024-01-10 12:33:27,122 - INFO: - Compute R2 & MSE scores...\n",
      "2024-01-10 12:33:27,129 - INFO: - Compute R2 & MSE scores...Completed\n"
     ]
    },
    {
     "name": "stdout",
     "output_type": "stream",
     "text": [
      " y_test_c: <class 'numpy.ndarray'>   Shape:  (10120,)       Predictions: <class 'numpy.ndarray'>  shape: (10120,)\n",
      "MSE Score : 0.023833\n",
      " R2 Score : 0.019968\n",
      "--------------------------------------------------------------------------------\n",
      "Training/Test split #4\n"
     ]
    },
    {
     "name": "stderr",
     "output_type": "stream",
     "text": [
      "2024-01-10 12:33:29,490 - INFO: - Building training DMatrix...\n",
      "2024-01-10 12:34:34,937 - INFO: - Building training DMatrix...Completed\n",
      "2024-01-10 12:34:34,941 - INFO: - Building test DMatrix...\n",
      "2024-01-10 12:34:58,844 - INFO: - Building DMatrix...Completed\n",
      "2024-01-10 12:34:58,845 - INFO: - Training model...\n",
      "2024-01-10 12:34:58,859 - INFO: - start listen on 10.91.28.16:35597\n",
      "[12:34:58] task [xgboost.dask-0]:tcp://127.0.0.1:32979 got new rank 0\n",
      "[12:34:58] task [xgboost.dask-1]:tcp://127.0.0.1:45541 got new rank 1\n",
      "[12:34:58] task [xgboost.dask-2]:tcp://127.0.0.1:36753 got new rank 2\n",
      "[12:34:58] task [xgboost.dask-3]:tcp://127.0.0.1:34831 got new rank 3\n",
      "[12:34:58] task [xgboost.dask-4]:tcp://127.0.0.1:42505 got new rank 4\n",
      "[12:34:58] task [xgboost.dask-5]:tcp://127.0.0.1:38213 got new rank 5\n",
      "2024-01-10 12:34:58,931 - INFO: - @tracker All of 6 nodes getting started\n",
      "2024-01-10 12:35:28,580 - INFO: - @tracker All nodes finishes job\n",
      "2024-01-10 12:35:28,675 - INFO: - Training model...Completed\n",
      "2024-01-10 12:35:28,676 - INFO: - Running model on test data...\n",
      "2024-01-10 12:35:31,330 - INFO: - Running model on test data...Completed\n",
      "2024-01-10 12:35:31,332 - INFO: - Reshape y_test data...\n",
      "2024-01-10 12:35:49,027 - INFO: - Reshape y_test data...Complete\n",
      "2024-01-10 12:35:49,028 - INFO: - Compute R2 & MSE scores...\n",
      "2024-01-10 12:35:49,031 - INFO: - Compute R2 & MSE scores...Completed\n",
      "[I 2024-01-10 12:35:49,104] Trial 9 finished with value: 0.02321113310754299 and parameters: {'learning_rate': 0.3847533718023459, 'max_depth': 4, 'max_leaves': 0}. Best is trial 9 with value: 0.02321113310754299.\n"
     ]
    },
    {
     "name": "stdout",
     "output_type": "stream",
     "text": [
      " y_test_c: <class 'numpy.ndarray'>   Shape:  (10118,)       Predictions: <class 'numpy.ndarray'>  shape: (10118,)\n",
      "MSE Score : 0.023070\n",
      " R2 Score : 0.025948\n",
      "--------------------------------------------------------------------------------\n",
      "RSME : 0.02321 +/- 0.00062\n",
      "--------------------------------------------------------------------------------\n",
      "R^2  : 0.02354 +/- 0.00230\n",
      "--------------------------------------------------------------------------------\n",
      "Training model (trial #10) - Parameters:\n",
      "  learning_rate=0.25635898003977226\n",
      "  max_depth=1\n",
      "  max_leaves=1\n",
      "[0.2, 0.2, 0.2, 0.2, 0.2] 5\n",
      "Training/Test split #0\n"
     ]
    },
    {
     "name": "stderr",
     "output_type": "stream",
     "text": [
      "2024-01-10 12:35:52,079 - INFO: - Building training DMatrix...\n",
      "2024-01-10 12:36:59,254 - INFO: - Building training DMatrix...Completed\n",
      "2024-01-10 12:36:59,256 - INFO: - Building test DMatrix...\n",
      "2024-01-10 12:37:23,923 - INFO: - Building DMatrix...Completed\n",
      "2024-01-10 12:37:23,924 - INFO: - Training model...\n",
      "2024-01-10 12:37:23,940 - INFO: - start listen on 10.91.28.16:46737\n",
      "[12:37:24] task [xgboost.dask-0]:tcp://127.0.0.1:32979 got new rank 0\n",
      "[12:37:24] task [xgboost.dask-1]:tcp://127.0.0.1:45541 got new rank 1\n",
      "[12:37:24] task [xgboost.dask-2]:tcp://127.0.0.1:36753 got new rank 2\n",
      "[12:37:24] task [xgboost.dask-3]:tcp://127.0.0.1:34831 got new rank 3\n",
      "[12:37:24] task [xgboost.dask-4]:tcp://127.0.0.1:42505 got new rank 4\n",
      "[12:37:24] task [xgboost.dask-5]:tcp://127.0.0.1:38213 got new rank 5\n",
      "2024-01-10 12:37:24,024 - INFO: - @tracker All of 6 nodes getting started\n",
      "2024-01-10 12:37:35,305 - INFO: - @tracker All nodes finishes job\n",
      "2024-01-10 12:37:35,402 - INFO: - Training model...Completed\n",
      "2024-01-10 12:37:35,404 - INFO: - Running model on test data...\n",
      "2024-01-10 12:37:38,078 - INFO: - Running model on test data...Completed\n",
      "2024-01-10 12:37:38,081 - INFO: - Reshape y_test data...\n",
      "2024-01-10 12:37:57,012 - INFO: - Reshape y_test data...Complete\n",
      "2024-01-10 12:37:57,013 - INFO: - Compute R2 & MSE scores...\n",
      "2024-01-10 12:37:57,017 - INFO: - Compute R2 & MSE scores...Completed\n"
     ]
    },
    {
     "name": "stdout",
     "output_type": "stream",
     "text": [
      " y_test_c: <class 'numpy.ndarray'>   Shape:  (10194,)       Predictions: <class 'numpy.ndarray'>  shape: (10194,)\n",
      "MSE Score : 0.023781\n",
      " R2 Score : -0.000048\n",
      "--------------------------------------------------------------------------------\n",
      "Training/Test split #1\n"
     ]
    },
    {
     "name": "stderr",
     "output_type": "stream",
     "text": [
      "2024-01-10 12:37:59,400 - INFO: - Building training DMatrix...\n",
      "2024-01-10 12:39:06,353 - INFO: - Building training DMatrix...Completed\n",
      "2024-01-10 12:39:06,356 - INFO: - Building test DMatrix...\n",
      "2024-01-10 12:39:31,250 - INFO: - Building DMatrix...Completed\n",
      "2024-01-10 12:39:31,253 - INFO: - Training model...\n",
      "2024-01-10 12:39:31,266 - INFO: - start listen on 10.91.28.16:37069\n",
      "[12:39:31] task [xgboost.dask-0]:tcp://127.0.0.1:32979 got new rank 0\n",
      "[12:39:31] task [xgboost.dask-1]:tcp://127.0.0.1:45541 got new rank 1\n",
      "[12:39:31] task [xgboost.dask-2]:tcp://127.0.0.1:36753 got new rank 2\n",
      "[12:39:31] task [xgboost.dask-3]:tcp://127.0.0.1:34831 got new rank 3\n",
      "[12:39:31] task [xgboost.dask-4]:tcp://127.0.0.1:42505 got new rank 4\n",
      "[12:39:31] task [xgboost.dask-5]:tcp://127.0.0.1:38213 got new rank 5\n",
      "2024-01-10 12:39:31,343 - INFO: - @tracker All of 6 nodes getting started\n",
      "2024-01-10 12:39:42,964 - INFO: - @tracker All nodes finishes job\n",
      "2024-01-10 12:39:43,093 - INFO: - Training model...Completed\n",
      "2024-01-10 12:39:43,093 - INFO: - Running model on test data...\n",
      "2024-01-10 12:39:45,849 - INFO: - Running model on test data...Completed\n",
      "2024-01-10 12:39:45,850 - INFO: - Reshape y_test data...\n",
      "2024-01-10 12:40:05,035 - INFO: - Reshape y_test data...Complete\n",
      "2024-01-10 12:40:05,036 - INFO: - Compute R2 & MSE scores...\n",
      "2024-01-10 12:40:05,040 - INFO: - Compute R2 & MSE scores...Completed\n"
     ]
    },
    {
     "name": "stdout",
     "output_type": "stream",
     "text": [
      " y_test_c: <class 'numpy.ndarray'>   Shape:  (9756,)       Predictions: <class 'numpy.ndarray'>  shape: (9756,)\n",
      "MSE Score : 0.024387\n",
      " R2 Score : -0.000046\n",
      "--------------------------------------------------------------------------------\n",
      "Training/Test split #2\n"
     ]
    },
    {
     "name": "stderr",
     "output_type": "stream",
     "text": [
      "2024-01-10 12:40:07,483 - INFO: - Building training DMatrix...\n",
      "2024-01-10 12:41:15,007 - INFO: - Building training DMatrix...Completed\n",
      "2024-01-10 12:41:15,009 - INFO: - Building test DMatrix...\n",
      "2024-01-10 12:41:40,953 - INFO: - Building DMatrix...Completed\n",
      "2024-01-10 12:41:40,959 - INFO: - Training model...\n",
      "2024-01-10 12:41:40,964 - INFO: - start listen on 10.91.28.16:43901\n",
      "[12:41:41] task [xgboost.dask-0]:tcp://127.0.0.1:32979 got new rank 0\n",
      "[12:41:41] task [xgboost.dask-1]:tcp://127.0.0.1:45541 got new rank 1\n",
      "[12:41:41] task [xgboost.dask-2]:tcp://127.0.0.1:36753 got new rank 2\n",
      "[12:41:41] task [xgboost.dask-3]:tcp://127.0.0.1:34831 got new rank 3\n",
      "[12:41:41] task [xgboost.dask-4]:tcp://127.0.0.1:42505 got new rank 4\n",
      "[12:41:41] task [xgboost.dask-5]:tcp://127.0.0.1:38213 got new rank 5\n",
      "2024-01-10 12:41:41,045 - INFO: - @tracker All of 6 nodes getting started\n",
      "2024-01-10 12:41:52,299 - INFO: - @tracker All nodes finishes job\n",
      "2024-01-10 12:41:52,430 - INFO: - Training model...Completed\n",
      "2024-01-10 12:41:52,431 - INFO: - Running model on test data...\n",
      "2024-01-10 12:41:55,200 - INFO: - Running model on test data...Completed\n",
      "2024-01-10 12:41:55,206 - INFO: - Reshape y_test data...\n",
      "2024-01-10 12:42:13,402 - INFO: - Reshape y_test data...Complete\n",
      "2024-01-10 12:42:13,404 - INFO: - Compute R2 & MSE scores...\n",
      "2024-01-10 12:42:13,409 - INFO: - Compute R2 & MSE scores...Completed\n"
     ]
    },
    {
     "name": "stdout",
     "output_type": "stream",
     "text": [
      " y_test_c: <class 'numpy.ndarray'>   Shape:  (10010,)       Predictions: <class 'numpy.ndarray'>  shape: (10010,)\n",
      "MSE Score : 0.022729\n",
      " R2 Score : -0.000003\n",
      "--------------------------------------------------------------------------------\n",
      "Training/Test split #3\n"
     ]
    },
    {
     "name": "stderr",
     "output_type": "stream",
     "text": [
      "2024-01-10 12:42:15,802 - INFO: - Building training DMatrix...\n",
      "2024-01-10 12:43:00,074 - distributed.utils_perf - WARNING - full garbage collections took 55% CPU time recently (threshold: 55%)\n",
      "2024-01-10 12:43:00,474 - distributed.utils_perf - WARNING - full garbage collections took 57% CPU time recently (threshold: 55%)\n",
      "2024-01-10 12:43:00,868 - distributed.utils_perf - WARNING - full garbage collections took 57% CPU time recently (threshold: 55%)\n",
      "2024-01-10 12:43:01,225 - distributed.utils_perf - WARNING - full garbage collections took 56% CPU time recently (threshold: 55%)\n",
      "2024-01-10 12:43:01,570 - distributed.utils_perf - WARNING - full garbage collections took 56% CPU time recently (threshold: 55%)\n",
      "2024-01-10 12:43:01,928 - distributed.utils_perf - WARNING - full garbage collections took 55% CPU time recently (threshold: 55%)\n",
      "2024-01-10 12:43:02,346 - distributed.utils_perf - WARNING - full garbage collections took 55% CPU time recently (threshold: 55%)\n",
      "2024-01-10 12:43:02,725 - distributed.utils_perf - WARNING - full garbage collections took 55% CPU time recently (threshold: 55%)\n",
      "2024-01-10 12:43:21,331 - INFO: - Building training DMatrix...Completed\n",
      "2024-01-10 12:43:21,333 - INFO: - Building test DMatrix...\n",
      "2024-01-10 12:43:45,906 - INFO: - Building DMatrix...Completed\n",
      "2024-01-10 12:43:45,908 - INFO: - Training model...\n",
      "2024-01-10 12:43:45,919 - INFO: - start listen on 10.91.28.16:49359\n",
      "[12:43:45] task [xgboost.dask-0]:tcp://127.0.0.1:32979 got new rank 0\n",
      "[12:43:45] task [xgboost.dask-1]:tcp://127.0.0.1:45541 got new rank 1\n",
      "[12:43:45] task [xgboost.dask-2]:tcp://127.0.0.1:36753 got new rank 2\n",
      "[12:43:45] task [xgboost.dask-3]:tcp://127.0.0.1:34831 got new rank 3\n",
      "[12:43:45] task [xgboost.dask-4]:tcp://127.0.0.1:42505 got new rank 4\n",
      "[12:43:46] task [xgboost.dask-5]:tcp://127.0.0.1:38213 got new rank 5\n",
      "2024-01-10 12:43:46,007 - INFO: - @tracker All of 6 nodes getting started\n",
      "2024-01-10 12:43:57,082 - INFO: - @tracker All nodes finishes job\n",
      "2024-01-10 12:43:57,229 - INFO: - Training model...Completed\n",
      "2024-01-10 12:43:57,230 - INFO: - Running model on test data...\n",
      "2024-01-10 12:43:59,987 - INFO: - Running model on test data...Completed\n",
      "2024-01-10 12:43:59,988 - INFO: - Reshape y_test data...\n",
      "2024-01-10 12:44:18,202 - INFO: - Reshape y_test data...Complete\n",
      "2024-01-10 12:44:18,206 - INFO: - Compute R2 & MSE scores...\n",
      "2024-01-10 12:44:18,211 - INFO: - Compute R2 & MSE scores...Completed\n"
     ]
    },
    {
     "name": "stdout",
     "output_type": "stream",
     "text": [
      " y_test_c: <class 'numpy.ndarray'>   Shape:  (9962,)       Predictions: <class 'numpy.ndarray'>  shape: (9962,)\n",
      "MSE Score : 0.023322\n",
      " R2 Score : -0.000015\n",
      "--------------------------------------------------------------------------------\n",
      "Training/Test split #4\n"
     ]
    },
    {
     "name": "stderr",
     "output_type": "stream",
     "text": [
      "2024-01-10 12:44:21,121 - INFO: - Building training DMatrix...\n",
      "2024-01-10 12:45:28,990 - INFO: - Building training DMatrix...Completed\n",
      "2024-01-10 12:45:28,991 - INFO: - Building test DMatrix...\n",
      "2024-01-10 12:45:53,772 - INFO: - Building DMatrix...Completed\n",
      "2024-01-10 12:45:53,775 - INFO: - Training model...\n",
      "2024-01-10 12:45:53,785 - INFO: - start listen on 10.91.28.16:42941\n",
      "[12:45:53] task [xgboost.dask-0]:tcp://127.0.0.1:32979 got new rank 0\n",
      "[12:45:53] task [xgboost.dask-1]:tcp://127.0.0.1:45541 got new rank 1\n",
      "[12:45:53] task [xgboost.dask-2]:tcp://127.0.0.1:36753 got new rank 2\n",
      "[12:45:53] task [xgboost.dask-3]:tcp://127.0.0.1:34831 got new rank 3\n",
      "[12:45:53] task [xgboost.dask-4]:tcp://127.0.0.1:42505 got new rank 4\n",
      "[12:45:53] task [xgboost.dask-5]:tcp://127.0.0.1:38213 got new rank 5\n",
      "2024-01-10 12:45:53,866 - INFO: - @tracker All of 6 nodes getting started\n",
      "2024-01-10 12:46:05,357 - INFO: - @tracker All nodes finishes job\n",
      "2024-01-10 12:46:05,545 - INFO: - Training model...Completed\n",
      "2024-01-10 12:46:05,548 - INFO: - Running model on test data...\n",
      "2024-01-10 12:46:08,151 - INFO: - Running model on test data...Completed\n",
      "2024-01-10 12:46:08,162 - INFO: - Reshape y_test data...\n",
      "2024-01-10 12:46:26,372 - INFO: - Reshape y_test data...Complete\n",
      "2024-01-10 12:46:26,380 - INFO: - Compute R2 & MSE scores...\n",
      "2024-01-10 12:46:26,385 - INFO: - Compute R2 & MSE scores...Completed\n"
     ]
    },
    {
     "name": "stdout",
     "output_type": "stream",
     "text": [
      " y_test_c: <class 'numpy.ndarray'>   Shape:  (10078,)       Predictions: <class 'numpy.ndarray'>  shape: (10078,)\n",
      "MSE Score : 0.024654\n",
      " R2 Score : -0.000348\n",
      "--------------------------------------------------------------------------------\n",
      "RSME : 0.02377 +/- 0.00070\n",
      "--------------------------------------------------------------------------------\n",
      "R^2  : -0.00009 +/- 0.00013\n",
      "--------------------------------------------------------------------------------\n"
     ]
    },
    {
     "name": "stderr",
     "output_type": "stream",
     "text": [
      "[I 2024-01-10 12:46:26,794] Trial 10 finished with value: 0.02377457357943058 and parameters: {'learning_rate': 0.25635898003977226, 'max_depth': 1, 'max_leaves': 1}. Best is trial 9 with value: 0.02321113310754299.\n"
     ]
    },
    {
     "name": "stdout",
     "output_type": "stream",
     "text": [
      "Training model (trial #11) - Parameters:\n",
      "  learning_rate=0.6904343985485115\n",
      "  max_depth=1\n",
      "  max_leaves=0\n",
      "[0.2, 0.2, 0.2, 0.2, 0.2] 5\n",
      "Training/Test split #0\n"
     ]
    },
    {
     "name": "stderr",
     "output_type": "stream",
     "text": [
      "2024-01-10 12:46:29,466 - INFO: - Building training DMatrix...\n",
      "2024-01-10 12:47:34,105 - INFO: - Building training DMatrix...Completed\n",
      "2024-01-10 12:47:34,107 - INFO: - Building test DMatrix...\n",
      "2024-01-10 12:47:58,656 - INFO: - Building DMatrix...Completed\n",
      "2024-01-10 12:47:58,665 - INFO: - Training model...\n",
      "2024-01-10 12:47:58,671 - INFO: - start listen on 10.91.28.16:40327\n",
      "[12:47:58] task [xgboost.dask-0]:tcp://127.0.0.1:32979 got new rank 0\n",
      "[12:47:58] task [xgboost.dask-1]:tcp://127.0.0.1:45541 got new rank 1\n",
      "[12:47:58] task [xgboost.dask-2]:tcp://127.0.0.1:36753 got new rank 2\n",
      "[12:47:58] task [xgboost.dask-3]:tcp://127.0.0.1:34831 got new rank 3\n",
      "[12:47:58] task [xgboost.dask-4]:tcp://127.0.0.1:42505 got new rank 4\n",
      "[12:47:58] task [xgboost.dask-5]:tcp://127.0.0.1:38213 got new rank 5\n",
      "2024-01-10 12:47:58,750 - INFO: - @tracker All of 6 nodes getting started\n",
      "2024-01-10 12:48:10,167 - INFO: - @tracker All nodes finishes job\n",
      "2024-01-10 12:48:10,268 - INFO: - Training model...Completed\n",
      "2024-01-10 12:48:10,273 - INFO: - Running model on test data...\n",
      "2024-01-10 12:48:12,932 - INFO: - Running model on test data...Completed\n",
      "2024-01-10 12:48:12,933 - INFO: - Reshape y_test data...\n",
      "2024-01-10 12:48:31,035 - INFO: - Reshape y_test data...Complete\n",
      "2024-01-10 12:48:31,040 - INFO: - Compute R2 & MSE scores...\n",
      "2024-01-10 12:48:31,045 - INFO: - Compute R2 & MSE scores...Completed\n"
     ]
    },
    {
     "name": "stdout",
     "output_type": "stream",
     "text": [
      " y_test_c: <class 'numpy.ndarray'>   Shape:  (10194,)       Predictions: <class 'numpy.ndarray'>  shape: (10194,)\n",
      "MSE Score : 0.023409\n",
      " R2 Score : 0.015612\n",
      "--------------------------------------------------------------------------------\n",
      "Training/Test split #1\n"
     ]
    },
    {
     "name": "stderr",
     "output_type": "stream",
     "text": [
      "2024-01-10 12:48:33,934 - INFO: - Building training DMatrix...\n",
      "2024-01-10 12:49:46,711 - INFO: - Building training DMatrix...Completed\n",
      "2024-01-10 12:49:46,713 - INFO: - Building test DMatrix...\n",
      "2024-01-10 12:50:13,700 - INFO: - Building DMatrix...Completed\n",
      "2024-01-10 12:50:13,707 - INFO: - Training model...\n",
      "2024-01-10 12:50:13,715 - INFO: - start listen on 10.91.28.16:47857\n",
      "[12:50:13] task [xgboost.dask-0]:tcp://127.0.0.1:32979 got new rank 0\n",
      "[12:50:13] task [xgboost.dask-1]:tcp://127.0.0.1:45541 got new rank 1\n",
      "[12:50:13] task [xgboost.dask-2]:tcp://127.0.0.1:36753 got new rank 2\n",
      "[12:50:13] task [xgboost.dask-3]:tcp://127.0.0.1:34831 got new rank 3\n",
      "[12:50:13] task [xgboost.dask-4]:tcp://127.0.0.1:42505 got new rank 4\n",
      "[12:50:13] task [xgboost.dask-5]:tcp://127.0.0.1:38213 got new rank 5\n",
      "2024-01-10 12:50:13,803 - INFO: - @tracker All of 6 nodes getting started\n",
      "2024-01-10 12:50:25,264 - INFO: - @tracker All nodes finishes job\n",
      "2024-01-10 12:50:25,337 - INFO: - Training model...Completed\n",
      "2024-01-10 12:50:25,338 - INFO: - Running model on test data...\n",
      "2024-01-10 12:50:28,130 - INFO: - Running model on test data...Completed\n",
      "2024-01-10 12:50:28,134 - INFO: - Reshape y_test data...\n",
      "2024-01-10 12:50:47,707 - INFO: - Reshape y_test data...Complete\n",
      "2024-01-10 12:50:47,708 - INFO: - Compute R2 & MSE scores...\n",
      "2024-01-10 12:50:47,713 - INFO: - Compute R2 & MSE scores...Completed\n"
     ]
    },
    {
     "name": "stdout",
     "output_type": "stream",
     "text": [
      " y_test_c: <class 'numpy.ndarray'>   Shape:  (9943,)       Predictions: <class 'numpy.ndarray'>  shape: (9943,)\n",
      "MSE Score : 0.023556\n",
      " R2 Score : 0.015730\n",
      "--------------------------------------------------------------------------------\n",
      "Training/Test split #2\n"
     ]
    },
    {
     "name": "stderr",
     "output_type": "stream",
     "text": [
      "2024-01-10 12:50:50,193 - INFO: - Building training DMatrix...\n",
      "2024-01-10 12:51:58,245 - INFO: - Building training DMatrix...Completed\n",
      "2024-01-10 12:51:58,246 - INFO: - Building test DMatrix...\n",
      "2024-01-10 12:52:23,564 - INFO: - Building DMatrix...Completed\n",
      "2024-01-10 12:52:23,572 - INFO: - Training model...\n",
      "2024-01-10 12:52:23,577 - INFO: - start listen on 10.91.28.16:54395\n",
      "[12:52:23] task [xgboost.dask-0]:tcp://127.0.0.1:32979 got new rank 0\n",
      "[12:52:23] task [xgboost.dask-1]:tcp://127.0.0.1:45541 got new rank 1\n",
      "[12:52:23] task [xgboost.dask-2]:tcp://127.0.0.1:36753 got new rank 2\n",
      "[12:52:23] task [xgboost.dask-3]:tcp://127.0.0.1:34831 got new rank 3\n",
      "[12:52:23] task [xgboost.dask-4]:tcp://127.0.0.1:42505 got new rank 4\n",
      "[12:52:23] task [xgboost.dask-5]:tcp://127.0.0.1:38213 got new rank 5\n",
      "2024-01-10 12:52:23,655 - INFO: - @tracker All of 6 nodes getting started\n",
      "2024-01-10 12:52:34,412 - INFO: - @tracker All nodes finishes job\n",
      "2024-01-10 12:52:34,524 - INFO: - Training model...Completed\n",
      "2024-01-10 12:52:34,526 - INFO: - Running model on test data...\n",
      "2024-01-10 12:52:37,161 - INFO: - Running model on test data...Completed\n",
      "2024-01-10 12:52:37,162 - INFO: - Reshape y_test data...\n",
      "2024-01-10 12:52:55,234 - INFO: - Reshape y_test data...Complete\n",
      "2024-01-10 12:52:55,236 - INFO: - Compute R2 & MSE scores...\n",
      "2024-01-10 12:52:55,244 - INFO: - Compute R2 & MSE scores...Completed\n"
     ]
    },
    {
     "name": "stdout",
     "output_type": "stream",
     "text": [
      " y_test_c: <class 'numpy.ndarray'>   Shape:  (9903,)       Predictions: <class 'numpy.ndarray'>  shape: (9903,)\n",
      "MSE Score : 0.023668\n",
      " R2 Score : 0.017148\n",
      "--------------------------------------------------------------------------------\n",
      "Training/Test split #3\n"
     ]
    },
    {
     "name": "stderr",
     "output_type": "stream",
     "text": [
      "2024-01-10 12:52:57,677 - INFO: - Building training DMatrix...\n",
      "2024-01-10 12:54:03,204 - INFO: - Building training DMatrix...Completed\n",
      "2024-01-10 12:54:03,206 - INFO: - Building test DMatrix...\n",
      "2024-01-10 12:54:27,640 - INFO: - Building DMatrix...Completed\n",
      "2024-01-10 12:54:27,642 - INFO: - Training model...\n",
      "2024-01-10 12:54:27,653 - INFO: - start listen on 10.91.28.16:46853\n",
      "[12:54:27] task [xgboost.dask-0]:tcp://127.0.0.1:32979 got new rank 0\n",
      "[12:54:27] task [xgboost.dask-1]:tcp://127.0.0.1:45541 got new rank 1\n",
      "[12:54:27] task [xgboost.dask-2]:tcp://127.0.0.1:36753 got new rank 2\n",
      "[12:54:27] task [xgboost.dask-3]:tcp://127.0.0.1:34831 got new rank 3\n",
      "[12:54:27] task [xgboost.dask-4]:tcp://127.0.0.1:42505 got new rank 4\n",
      "[12:54:27] task [xgboost.dask-5]:tcp://127.0.0.1:38213 got new rank 5\n",
      "2024-01-10 12:54:27,732 - INFO: - @tracker All of 6 nodes getting started\n",
      "2024-01-10 12:54:38,965 - INFO: - @tracker All nodes finishes job\n",
      "2024-01-10 12:54:39,065 - INFO: - Training model...Completed\n",
      "2024-01-10 12:54:39,069 - INFO: - Running model on test data...\n",
      "2024-01-10 12:54:41,718 - INFO: - Running model on test data...Completed\n",
      "2024-01-10 12:54:41,719 - INFO: - Reshape y_test data...\n",
      "2024-01-10 12:54:59,853 - INFO: - Reshape y_test data...Complete\n",
      "2024-01-10 12:54:59,856 - INFO: - Compute R2 & MSE scores...\n",
      "2024-01-10 12:54:59,861 - INFO: - Compute R2 & MSE scores...Completed\n"
     ]
    },
    {
     "name": "stdout",
     "output_type": "stream",
     "text": [
      " y_test_c: <class 'numpy.ndarray'>   Shape:  (10022,)       Predictions: <class 'numpy.ndarray'>  shape: (10022,)\n",
      "MSE Score : 0.023723\n",
      " R2 Score : 0.014293\n",
      "--------------------------------------------------------------------------------\n",
      "Training/Test split #4\n"
     ]
    },
    {
     "name": "stderr",
     "output_type": "stream",
     "text": [
      "2024-01-10 12:55:02,825 - INFO: - Building training DMatrix...\n",
      "2024-01-10 12:56:09,935 - INFO: - Building training DMatrix...Completed\n",
      "2024-01-10 12:56:09,939 - INFO: - Building test DMatrix...\n",
      "2024-01-10 12:56:33,920 - INFO: - Building DMatrix...Completed\n",
      "2024-01-10 12:56:33,925 - INFO: - Training model...\n",
      "2024-01-10 12:56:33,931 - INFO: - start listen on 10.91.28.16:36151\n",
      "[12:56:34] task [xgboost.dask-0]:tcp://127.0.0.1:32979 got new rank 0\n",
      "[12:56:34] task [xgboost.dask-1]:tcp://127.0.0.1:45541 got new rank 1\n",
      "[12:56:34] task [xgboost.dask-2]:tcp://127.0.0.1:36753 got new rank 2\n",
      "[12:56:34] task [xgboost.dask-3]:tcp://127.0.0.1:34831 got new rank 3\n",
      "[12:56:34] task [xgboost.dask-4]:tcp://127.0.0.1:42505 got new rank 4\n",
      "[12:56:34] task [xgboost.dask-5]:tcp://127.0.0.1:38213 got new rank 5\n",
      "2024-01-10 12:56:34,017 - INFO: - @tracker All of 6 nodes getting started\n",
      "2024-01-10 12:56:45,627 - INFO: - @tracker All nodes finishes job\n",
      "2024-01-10 12:56:45,726 - INFO: - Training model...Completed\n",
      "2024-01-10 12:56:45,729 - INFO: - Running model on test data...\n",
      "2024-01-10 12:56:48,431 - INFO: - Running model on test data...Completed\n",
      "2024-01-10 12:56:48,432 - INFO: - Reshape y_test data...\n",
      "2024-01-10 12:57:06,658 - INFO: - Reshape y_test data...Complete\n",
      "2024-01-10 12:57:06,660 - INFO: - Compute R2 & MSE scores...\n",
      "2024-01-10 12:57:06,667 - INFO: - Compute R2 & MSE scores...Completed\n",
      "[I 2024-01-10 12:57:06,742] Trial 11 finished with value: 0.023413892090320586 and parameters: {'learning_rate': 0.6904343985485115, 'max_depth': 1, 'max_leaves': 0}. Best is trial 9 with value: 0.02321113310754299.\n"
     ]
    },
    {
     "name": "stdout",
     "output_type": "stream",
     "text": [
      " y_test_c: <class 'numpy.ndarray'>   Shape:  (10159,)       Predictions: <class 'numpy.ndarray'>  shape: (10159,)\n",
      "MSE Score : 0.022713\n",
      " R2 Score : 0.018851\n",
      "--------------------------------------------------------------------------------\n",
      "RSME : 0.02341 +/- 0.00037\n",
      "--------------------------------------------------------------------------------\n",
      "R^2  : 0.01633 +/- 0.00155\n",
      "--------------------------------------------------------------------------------\n",
      "Training model (trial #12) - Parameters:\n",
      "  learning_rate=0.3436517064417405\n",
      "  max_depth=3\n",
      "  max_leaves=0\n",
      "[0.2, 0.2, 0.2, 0.2, 0.2] 5\n",
      "Training/Test split #0\n"
     ]
    },
    {
     "name": "stderr",
     "output_type": "stream",
     "text": [
      "2024-01-10 12:57:09,915 - INFO: - Building training DMatrix...\n",
      "2024-01-10 12:58:18,356 - INFO: - Building training DMatrix...Completed\n",
      "2024-01-10 12:58:18,363 - INFO: - Building test DMatrix...\n",
      "2024-01-10 12:58:43,368 - INFO: - Building DMatrix...Completed\n",
      "2024-01-10 12:58:43,369 - INFO: - Training model...\n",
      "2024-01-10 12:58:43,380 - INFO: - start listen on 10.91.28.16:59217\n",
      "[12:58:43] task [xgboost.dask-0]:tcp://127.0.0.1:32979 got new rank 0\n",
      "[12:58:43] task [xgboost.dask-1]:tcp://127.0.0.1:45541 got new rank 1\n",
      "[12:58:43] task [xgboost.dask-2]:tcp://127.0.0.1:36753 got new rank 2\n",
      "[12:58:43] task [xgboost.dask-3]:tcp://127.0.0.1:34831 got new rank 3\n",
      "[12:58:43] task [xgboost.dask-4]:tcp://127.0.0.1:42505 got new rank 4\n",
      "[12:58:43] task [xgboost.dask-5]:tcp://127.0.0.1:38213 got new rank 5\n",
      "2024-01-10 12:58:43,456 - INFO: - @tracker All of 6 nodes getting started\n",
      "2024-01-10 12:59:02,107 - INFO: - @tracker All nodes finishes job\n",
      "2024-01-10 12:59:02,248 - INFO: - Training model...Completed\n",
      "2024-01-10 12:59:02,257 - INFO: - Running model on test data...\n",
      "2024-01-10 12:59:04,985 - INFO: - Running model on test data...Completed\n",
      "2024-01-10 12:59:04,988 - INFO: - Reshape y_test data...\n",
      "2024-01-10 12:59:23,265 - INFO: - Reshape y_test data...Complete\n",
      "2024-01-10 12:59:23,268 - INFO: - Compute R2 & MSE scores...\n",
      "2024-01-10 12:59:23,273 - INFO: - Compute R2 & MSE scores...Completed\n"
     ]
    },
    {
     "name": "stdout",
     "output_type": "stream",
     "text": [
      " y_test_c: <class 'numpy.ndarray'>   Shape:  (10137,)       Predictions: <class 'numpy.ndarray'>  shape: (10137,)\n",
      "MSE Score : 0.023724\n",
      " R2 Score : 0.024002\n",
      "--------------------------------------------------------------------------------\n",
      "Training/Test split #1\n"
     ]
    },
    {
     "name": "stderr",
     "output_type": "stream",
     "text": [
      "2024-01-10 12:59:25,789 - INFO: - Building training DMatrix...\n",
      "2024-01-10 13:00:31,112 - INFO: - Building training DMatrix...Completed\n",
      "2024-01-10 13:00:31,114 - INFO: - Building test DMatrix...\n",
      "2024-01-10 13:00:55,674 - INFO: - Building DMatrix...Completed\n",
      "2024-01-10 13:00:55,680 - INFO: - Training model...\n",
      "2024-01-10 13:00:55,685 - INFO: - start listen on 10.91.28.16:52603\n",
      "[13:00:55] task [xgboost.dask-0]:tcp://127.0.0.1:32979 got new rank 0\n",
      "[13:00:55] task [xgboost.dask-1]:tcp://127.0.0.1:45541 got new rank 1\n",
      "[13:00:55] task [xgboost.dask-2]:tcp://127.0.0.1:36753 got new rank 2\n",
      "[13:00:55] task [xgboost.dask-3]:tcp://127.0.0.1:34831 got new rank 3\n",
      "[13:00:55] task [xgboost.dask-4]:tcp://127.0.0.1:42505 got new rank 4\n",
      "[13:00:55] task [xgboost.dask-5]:tcp://127.0.0.1:38213 got new rank 5\n",
      "2024-01-10 13:00:55,762 - INFO: - @tracker All of 6 nodes getting started\n",
      "2024-01-10 13:01:13,720 - INFO: - @tracker All nodes finishes job\n",
      "2024-01-10 13:01:13,838 - INFO: - Training model...Completed\n",
      "2024-01-10 13:01:13,840 - INFO: - Running model on test data...\n",
      "2024-01-10 13:01:16,493 - INFO: - Running model on test data...Completed\n",
      "2024-01-10 13:01:16,493 - INFO: - Reshape y_test data...\n",
      "2024-01-10 13:01:34,990 - INFO: - Reshape y_test data...Complete\n",
      "2024-01-10 13:01:34,991 - INFO: - Compute R2 & MSE scores...\n",
      "2024-01-10 13:01:34,994 - INFO: - Compute R2 & MSE scores...Completed\n"
     ]
    },
    {
     "name": "stdout",
     "output_type": "stream",
     "text": [
      " y_test_c: <class 'numpy.ndarray'>   Shape:  (9768,)       Predictions: <class 'numpy.ndarray'>  shape: (9768,)\n",
      "MSE Score : 0.022491\n",
      " R2 Score : 0.026290\n",
      "--------------------------------------------------------------------------------\n",
      "Training/Test split #2\n"
     ]
    },
    {
     "name": "stderr",
     "output_type": "stream",
     "text": [
      "2024-01-10 13:01:37,325 - INFO: - Building training DMatrix...\n",
      "2024-01-10 13:02:19,236 - distributed.utils_perf - WARNING - full garbage collections took 55% CPU time recently (threshold: 55%)\n",
      "2024-01-10 13:02:19,603 - distributed.utils_perf - WARNING - full garbage collections took 55% CPU time recently (threshold: 55%)\n",
      "2024-01-10 13:02:19,970 - distributed.utils_perf - WARNING - full garbage collections took 57% CPU time recently (threshold: 55%)\n",
      "2024-01-10 13:02:20,341 - distributed.utils_perf - WARNING - full garbage collections took 57% CPU time recently (threshold: 55%)\n",
      "2024-01-10 13:02:20,694 - distributed.utils_perf - WARNING - full garbage collections took 57% CPU time recently (threshold: 55%)\n",
      "2024-01-10 13:02:21,094 - distributed.utils_perf - WARNING - full garbage collections took 57% CPU time recently (threshold: 55%)\n",
      "2024-01-10 13:02:21,482 - distributed.utils_perf - WARNING - full garbage collections took 56% CPU time recently (threshold: 55%)\n",
      "2024-01-10 13:02:21,888 - distributed.utils_perf - WARNING - full garbage collections took 56% CPU time recently (threshold: 55%)\n",
      "2024-01-10 13:02:22,297 - distributed.utils_perf - WARNING - full garbage collections took 58% CPU time recently (threshold: 55%)\n",
      "2024-01-10 13:02:22,659 - distributed.utils_perf - WARNING - full garbage collections took 59% CPU time recently (threshold: 55%)\n",
      "2024-01-10 13:02:22,999 - distributed.utils_perf - WARNING - full garbage collections took 58% CPU time recently (threshold: 55%)\n",
      "2024-01-10 13:02:23,329 - distributed.utils_perf - WARNING - full garbage collections took 58% CPU time recently (threshold: 55%)\n",
      "2024-01-10 13:02:23,682 - distributed.utils_perf - WARNING - full garbage collections took 58% CPU time recently (threshold: 55%)\n",
      "2024-01-10 13:02:24,073 - distributed.utils_perf - WARNING - full garbage collections took 58% CPU time recently (threshold: 55%)\n",
      "2024-01-10 13:02:24,437 - distributed.utils_perf - WARNING - full garbage collections took 58% CPU time recently (threshold: 55%)\n",
      "2024-01-10 13:02:24,772 - distributed.utils_perf - WARNING - full garbage collections took 56% CPU time recently (threshold: 55%)\n",
      "2024-01-10 13:02:25,156 - distributed.utils_perf - WARNING - full garbage collections took 56% CPU time recently (threshold: 55%)\n",
      "2024-01-10 13:02:25,543 - distributed.utils_perf - WARNING - full garbage collections took 56% CPU time recently (threshold: 55%)\n",
      "2024-01-10 13:02:25,999 - distributed.utils_perf - WARNING - full garbage collections took 56% CPU time recently (threshold: 55%)\n",
      "2024-01-10 13:02:26,363 - distributed.utils_perf - WARNING - full garbage collections took 56% CPU time recently (threshold: 55%)\n",
      "2024-01-10 13:02:43,910 - INFO: - Building training DMatrix...Completed\n",
      "2024-01-10 13:02:43,914 - INFO: - Building test DMatrix...\n",
      "2024-01-10 13:03:07,796 - INFO: - Building DMatrix...Completed\n",
      "2024-01-10 13:03:07,798 - INFO: - Training model...\n",
      "2024-01-10 13:03:07,812 - INFO: - start listen on 10.91.28.16:37225\n",
      "[13:03:07] task [xgboost.dask-0]:tcp://127.0.0.1:32979 got new rank 0\n",
      "[13:03:07] task [xgboost.dask-1]:tcp://127.0.0.1:45541 got new rank 1\n",
      "[13:03:07] task [xgboost.dask-2]:tcp://127.0.0.1:36753 got new rank 2\n",
      "[13:03:07] task [xgboost.dask-3]:tcp://127.0.0.1:34831 got new rank 3\n",
      "[13:03:07] task [xgboost.dask-4]:tcp://127.0.0.1:42505 got new rank 4\n",
      "[13:03:07] task [xgboost.dask-5]:tcp://127.0.0.1:38213 got new rank 5\n",
      "2024-01-10 13:03:07,889 - INFO: - @tracker All of 6 nodes getting started\n",
      "2024-01-10 13:03:26,072 - INFO: - @tracker All nodes finishes job\n",
      "2024-01-10 13:03:26,175 - INFO: - Training model...Completed\n",
      "2024-01-10 13:03:26,176 - INFO: - Running model on test data...\n",
      "2024-01-10 13:03:28,820 - INFO: - Running model on test data...Completed\n",
      "2024-01-10 13:03:28,823 - INFO: - Reshape y_test data...\n",
      "2024-01-10 13:03:47,208 - INFO: - Reshape y_test data...Complete\n",
      "2024-01-10 13:03:47,210 - INFO: - Compute R2 & MSE scores...\n",
      "2024-01-10 13:03:47,216 - INFO: - Compute R2 & MSE scores...Completed\n"
     ]
    },
    {
     "name": "stdout",
     "output_type": "stream",
     "text": [
      " y_test_c: <class 'numpy.ndarray'>   Shape:  (10065,)       Predictions: <class 'numpy.ndarray'>  shape: (10065,)\n",
      "MSE Score : 0.023163\n",
      " R2 Score : 0.028942\n",
      "--------------------------------------------------------------------------------\n",
      "Training/Test split #3\n"
     ]
    },
    {
     "name": "stderr",
     "output_type": "stream",
     "text": [
      "2024-01-10 13:03:49,934 - INFO: - Building training DMatrix...\n",
      "2024-01-10 13:04:59,061 - INFO: - Building training DMatrix...Completed\n",
      "2024-01-10 13:04:59,069 - INFO: - Building test DMatrix...\n",
      "2024-01-10 13:05:23,422 - INFO: - Building DMatrix...Completed\n",
      "2024-01-10 13:05:23,423 - INFO: - Training model...\n",
      "2024-01-10 13:05:23,445 - INFO: - start listen on 10.91.28.16:55427\n",
      "[13:05:23] task [xgboost.dask-0]:tcp://127.0.0.1:32979 got new rank 0\n",
      "[13:05:23] task [xgboost.dask-1]:tcp://127.0.0.1:45541 got new rank 1\n",
      "[13:05:23] task [xgboost.dask-2]:tcp://127.0.0.1:36753 got new rank 2\n",
      "[13:05:23] task [xgboost.dask-3]:tcp://127.0.0.1:34831 got new rank 3\n",
      "[13:05:23] task [xgboost.dask-4]:tcp://127.0.0.1:42505 got new rank 4\n",
      "[13:05:23] task [xgboost.dask-5]:tcp://127.0.0.1:38213 got new rank 5\n",
      "2024-01-10 13:05:23,526 - INFO: - @tracker All of 6 nodes getting started\n",
      "2024-01-10 13:05:43,174 - INFO: - @tracker All nodes finishes job\n",
      "2024-01-10 13:05:43,306 - INFO: - Training model...Completed\n",
      "2024-01-10 13:05:43,310 - INFO: - Running model on test data...\n",
      "2024-01-10 13:05:46,179 - INFO: - Running model on test data...Completed\n",
      "2024-01-10 13:05:46,181 - INFO: - Reshape y_test data...\n",
      "2024-01-10 13:06:05,399 - INFO: - Reshape y_test data...Complete\n",
      "2024-01-10 13:06:05,402 - INFO: - Compute R2 & MSE scores...\n",
      "2024-01-10 13:06:05,410 - INFO: - Compute R2 & MSE scores...Completed\n"
     ]
    },
    {
     "name": "stdout",
     "output_type": "stream",
     "text": [
      " y_test_c: <class 'numpy.ndarray'>   Shape:  (10019,)       Predictions: <class 'numpy.ndarray'>  shape: (10019,)\n",
      "MSE Score : 0.022503\n",
      " R2 Score : 0.021940\n",
      "--------------------------------------------------------------------------------\n",
      "Training/Test split #4\n"
     ]
    },
    {
     "name": "stderr",
     "output_type": "stream",
     "text": [
      "2024-01-10 13:06:07,776 - INFO: - Building training DMatrix...\n",
      "2024-01-10 13:06:53,685 - distributed.utils_perf - WARNING - full garbage collections took 55% CPU time recently (threshold: 55%)\n",
      "2024-01-10 13:06:54,093 - distributed.utils_perf - WARNING - full garbage collections took 55% CPU time recently (threshold: 55%)\n",
      "2024-01-10 13:07:12,902 - INFO: - Building training DMatrix...Completed\n",
      "2024-01-10 13:07:12,903 - INFO: - Building test DMatrix...\n",
      "2024-01-10 13:07:37,591 - INFO: - Building DMatrix...Completed\n",
      "2024-01-10 13:07:37,593 - INFO: - Training model...\n",
      "2024-01-10 13:07:37,603 - INFO: - start listen on 10.91.28.16:48079\n",
      "[13:07:37] task [xgboost.dask-0]:tcp://127.0.0.1:32979 got new rank 0\n",
      "[13:07:37] task [xgboost.dask-1]:tcp://127.0.0.1:45541 got new rank 1\n",
      "[13:07:37] task [xgboost.dask-2]:tcp://127.0.0.1:36753 got new rank 2\n",
      "[13:07:37] task [xgboost.dask-3]:tcp://127.0.0.1:34831 got new rank 3\n",
      "[13:07:37] task [xgboost.dask-4]:tcp://127.0.0.1:42505 got new rank 4\n",
      "[13:07:37] task [xgboost.dask-5]:tcp://127.0.0.1:38213 got new rank 5\n",
      "2024-01-10 13:07:37,680 - INFO: - @tracker All of 6 nodes getting started\n",
      "2024-01-10 13:07:57,806 - INFO: - @tracker All nodes finishes job\n",
      "2024-01-10 13:07:57,903 - INFO: - Training model...Completed\n",
      "2024-01-10 13:07:57,904 - INFO: - Running model on test data...\n",
      "2024-01-10 13:08:00,672 - INFO: - Running model on test data...Completed\n",
      "2024-01-10 13:08:00,674 - INFO: - Reshape y_test data...\n",
      "2024-01-10 13:08:19,165 - INFO: - Reshape y_test data...Complete\n",
      "2024-01-10 13:08:19,169 - INFO: - Compute R2 & MSE scores...\n",
      "2024-01-10 13:08:19,174 - INFO: - Compute R2 & MSE scores...Completed\n",
      "[I 2024-01-10 13:08:19,248] Trial 12 finished with value: 0.023135476186871527 and parameters: {'learning_rate': 0.3436517064417405, 'max_depth': 3, 'max_leaves': 0}. Best is trial 12 with value: 0.023135476186871527.\n"
     ]
    },
    {
     "name": "stdout",
     "output_type": "stream",
     "text": [
      " y_test_c: <class 'numpy.ndarray'>   Shape:  (10011,)       Predictions: <class 'numpy.ndarray'>  shape: (10011,)\n",
      "MSE Score : 0.023797\n",
      " R2 Score : 0.030771\n",
      "--------------------------------------------------------------------------------\n",
      "RSME : 0.02314 +/- 0.00057\n",
      "--------------------------------------------------------------------------------\n",
      "R^2  : 0.02639 +/- 0.00320\n",
      "--------------------------------------------------------------------------------\n",
      "Training model (trial #13) - Parameters:\n",
      "  learning_rate=0.3606332473342941\n",
      "  max_depth=3\n",
      "  max_leaves=0\n",
      "[0.2, 0.2, 0.2, 0.2, 0.2] 5\n",
      "Training/Test split #0\n"
     ]
    },
    {
     "name": "stderr",
     "output_type": "stream",
     "text": [
      "2024-01-10 13:08:22,307 - INFO: - Building training DMatrix...\n",
      "2024-01-10 13:09:00,017 - distributed.utils_perf - WARNING - full garbage collections took 55% CPU time recently (threshold: 55%)\n",
      "2024-01-10 13:09:00,391 - distributed.utils_perf - WARNING - full garbage collections took 55% CPU time recently (threshold: 55%)\n",
      "2024-01-10 13:09:01,174 - distributed.utils_perf - WARNING - full garbage collections took 55% CPU time recently (threshold: 55%)\n",
      "2024-01-10 13:09:01,612 - distributed.utils_perf - WARNING - full garbage collections took 55% CPU time recently (threshold: 55%)\n",
      "2024-01-10 13:09:02,078 - distributed.utils_perf - WARNING - full garbage collections took 55% CPU time recently (threshold: 55%)\n",
      "2024-01-10 13:09:32,271 - INFO: - Building training DMatrix...Completed\n",
      "2024-01-10 13:09:32,272 - INFO: - Building test DMatrix...\n",
      "2024-01-10 13:09:56,456 - INFO: - Building DMatrix...Completed\n",
      "2024-01-10 13:09:56,463 - INFO: - Training model...\n",
      "2024-01-10 13:09:56,472 - INFO: - start listen on 10.91.28.16:36653\n",
      "[13:09:56] task [xgboost.dask-0]:tcp://127.0.0.1:32979 got new rank 0\n",
      "[13:09:56] task [xgboost.dask-1]:tcp://127.0.0.1:45541 got new rank 1\n",
      "[13:09:56] task [xgboost.dask-2]:tcp://127.0.0.1:36753 got new rank 2\n",
      "[13:09:56] task [xgboost.dask-3]:tcp://127.0.0.1:34831 got new rank 3\n",
      "[13:09:56] task [xgboost.dask-4]:tcp://127.0.0.1:42505 got new rank 4\n",
      "[13:09:56] task [xgboost.dask-5]:tcp://127.0.0.1:38213 got new rank 5\n",
      "2024-01-10 13:09:56,558 - INFO: - @tracker All of 6 nodes getting started\n",
      "2024-01-10 13:10:15,391 - INFO: - @tracker All nodes finishes job\n",
      "2024-01-10 13:10:15,482 - INFO: - Training model...Completed\n",
      "2024-01-10 13:10:15,483 - INFO: - Running model on test data...\n",
      "2024-01-10 13:10:18,121 - INFO: - Running model on test data...Completed\n",
      "2024-01-10 13:10:18,122 - INFO: - Reshape y_test data...\n",
      "2024-01-10 13:10:36,213 - INFO: - Reshape y_test data...Complete\n",
      "2024-01-10 13:10:36,216 - INFO: - Compute R2 & MSE scores...\n",
      "2024-01-10 13:10:36,221 - INFO: - Compute R2 & MSE scores...Completed\n"
     ]
    },
    {
     "name": "stdout",
     "output_type": "stream",
     "text": [
      " y_test_c: <class 'numpy.ndarray'>   Shape:  (9961,)       Predictions: <class 'numpy.ndarray'>  shape: (9961,)\n",
      "MSE Score : 0.022585\n",
      " R2 Score : 0.033100\n",
      "--------------------------------------------------------------------------------\n",
      "Training/Test split #1\n"
     ]
    },
    {
     "name": "stderr",
     "output_type": "stream",
     "text": [
      "2024-01-10 13:10:38,717 - INFO: - Building training DMatrix...\n",
      "2024-01-10 13:11:45,562 - INFO: - Building training DMatrix...Completed\n",
      "2024-01-10 13:11:45,583 - INFO: - Building test DMatrix...\n",
      "2024-01-10 13:12:09,636 - INFO: - Building DMatrix...Completed\n",
      "2024-01-10 13:12:09,640 - INFO: - Training model...\n",
      "2024-01-10 13:12:09,650 - INFO: - start listen on 10.91.28.16:59299\n",
      "[13:12:09] task [xgboost.dask-0]:tcp://127.0.0.1:32979 got new rank 0\n",
      "[13:12:09] task [xgboost.dask-1]:tcp://127.0.0.1:45541 got new rank 1\n",
      "[13:12:09] task [xgboost.dask-2]:tcp://127.0.0.1:36753 got new rank 2\n",
      "[13:12:09] task [xgboost.dask-3]:tcp://127.0.0.1:34831 got new rank 3\n",
      "[13:12:09] task [xgboost.dask-4]:tcp://127.0.0.1:42505 got new rank 4\n",
      "[13:12:09] task [xgboost.dask-5]:tcp://127.0.0.1:38213 got new rank 5\n",
      "2024-01-10 13:12:09,731 - INFO: - @tracker All of 6 nodes getting started\n",
      "2024-01-10 13:12:29,743 - INFO: - @tracker All nodes finishes job\n",
      "2024-01-10 13:12:29,829 - INFO: - Training model...Completed\n",
      "2024-01-10 13:12:29,830 - INFO: - Running model on test data...\n",
      "2024-01-10 13:12:32,734 - INFO: - Running model on test data...Completed\n",
      "2024-01-10 13:12:32,735 - INFO: - Reshape y_test data...\n",
      "2024-01-10 13:12:50,382 - INFO: - Reshape y_test data...Complete\n",
      "2024-01-10 13:12:50,384 - INFO: - Compute R2 & MSE scores...\n",
      "2024-01-10 13:12:50,391 - INFO: - Compute R2 & MSE scores...Completed\n"
     ]
    },
    {
     "name": "stdout",
     "output_type": "stream",
     "text": [
      " y_test_c: <class 'numpy.ndarray'>   Shape:  (9960,)       Predictions: <class 'numpy.ndarray'>  shape: (9960,)\n",
      "MSE Score : 0.022749\n",
      " R2 Score : 0.031333\n",
      "--------------------------------------------------------------------------------\n",
      "Training/Test split #2\n"
     ]
    },
    {
     "name": "stderr",
     "output_type": "stream",
     "text": [
      "2024-01-10 13:12:53,151 - INFO: - Building training DMatrix...\n",
      "2024-01-10 13:13:13,852 - distributed.utils_perf - WARNING - full garbage collections took 55% CPU time recently (threshold: 55%)\n",
      "2024-01-10 13:13:14,240 - distributed.utils_perf - WARNING - full garbage collections took 55% CPU time recently (threshold: 55%)\n",
      "2024-01-10 13:13:14,586 - distributed.utils_perf - WARNING - full garbage collections took 55% CPU time recently (threshold: 55%)\n",
      "2024-01-10 13:13:14,972 - distributed.utils_perf - WARNING - full garbage collections took 55% CPU time recently (threshold: 55%)\n",
      "2024-01-10 13:13:15,341 - distributed.utils_perf - WARNING - full garbage collections took 55% CPU time recently (threshold: 55%)\n",
      "2024-01-10 13:13:15,736 - distributed.utils_perf - WARNING - full garbage collections took 55% CPU time recently (threshold: 55%)\n",
      "2024-01-10 13:13:16,189 - distributed.utils_perf - WARNING - full garbage collections took 56% CPU time recently (threshold: 55%)\n",
      "2024-01-10 13:13:16,608 - distributed.utils_perf - WARNING - full garbage collections took 56% CPU time recently (threshold: 55%)\n",
      "2024-01-10 13:13:17,004 - distributed.utils_perf - WARNING - full garbage collections took 56% CPU time recently (threshold: 55%)\n",
      "2024-01-10 13:13:17,371 - distributed.utils_perf - WARNING - full garbage collections took 56% CPU time recently (threshold: 55%)\n",
      "2024-01-10 13:13:17,737 - distributed.utils_perf - WARNING - full garbage collections took 55% CPU time recently (threshold: 55%)\n",
      "2024-01-10 13:13:18,116 - distributed.utils_perf - WARNING - full garbage collections took 55% CPU time recently (threshold: 55%)\n",
      "2024-01-10 13:13:18,497 - distributed.utils_perf - WARNING - full garbage collections took 55% CPU time recently (threshold: 55%)\n",
      "2024-01-10 13:13:18,848 - distributed.utils_perf - WARNING - full garbage collections took 55% CPU time recently (threshold: 55%)\n",
      "2024-01-10 13:13:19,219 - distributed.utils_perf - WARNING - full garbage collections took 56% CPU time recently (threshold: 55%)\n",
      "2024-01-10 13:13:19,558 - distributed.utils_perf - WARNING - full garbage collections took 56% CPU time recently (threshold: 55%)\n",
      "2024-01-10 13:13:19,912 - distributed.utils_perf - WARNING - full garbage collections took 56% CPU time recently (threshold: 55%)\n",
      "2024-01-10 13:13:20,261 - distributed.utils_perf - WARNING - full garbage collections took 55% CPU time recently (threshold: 55%)\n",
      "2024-01-10 13:13:20,755 - distributed.utils_perf - WARNING - full garbage collections took 55% CPU time recently (threshold: 55%)\n",
      "2024-01-10 13:13:21,215 - distributed.utils_perf - WARNING - full garbage collections took 55% CPU time recently (threshold: 55%)\n",
      "2024-01-10 13:14:02,129 - INFO: - Building training DMatrix...Completed\n",
      "2024-01-10 13:14:02,132 - INFO: - Building test DMatrix...\n",
      "2024-01-10 13:14:13,958 - distributed.utils_perf - WARNING - full garbage collections took 55% CPU time recently (threshold: 55%)\n",
      "2024-01-10 13:14:14,373 - distributed.utils_perf - WARNING - full garbage collections took 55% CPU time recently (threshold: 55%)\n",
      "2024-01-10 13:14:14,808 - distributed.utils_perf - WARNING - full garbage collections took 55% CPU time recently (threshold: 55%)\n",
      "2024-01-10 13:14:15,249 - distributed.utils_perf - WARNING - full garbage collections took 55% CPU time recently (threshold: 55%)\n",
      "2024-01-10 13:14:15,672 - distributed.utils_perf - WARNING - full garbage collections took 55% CPU time recently (threshold: 55%)\n",
      "2024-01-10 13:14:24,102 - distributed.utils_perf - WARNING - full garbage collections took 55% CPU time recently (threshold: 55%)\n",
      "2024-01-10 13:14:24,454 - distributed.utils_perf - WARNING - full garbage collections took 55% CPU time recently (threshold: 55%)\n",
      "2024-01-10 13:14:24,808 - distributed.utils_perf - WARNING - full garbage collections took 55% CPU time recently (threshold: 55%)\n",
      "2024-01-10 13:14:25,181 - distributed.utils_perf - WARNING - full garbage collections took 56% CPU time recently (threshold: 55%)\n",
      "2024-01-10 13:14:25,677 - distributed.utils_perf - WARNING - full garbage collections took 56% CPU time recently (threshold: 55%)\n",
      "2024-01-10 13:14:26,095 - distributed.utils_perf - WARNING - full garbage collections took 56% CPU time recently (threshold: 55%)\n",
      "2024-01-10 13:14:26,476 - distributed.utils_perf - WARNING - full garbage collections took 56% CPU time recently (threshold: 55%)\n",
      "2024-01-10 13:14:26,821 - distributed.utils_perf - WARNING - full garbage collections took 56% CPU time recently (threshold: 55%)\n",
      "2024-01-10 13:14:27,135 - distributed.utils_perf - WARNING - full garbage collections took 55% CPU time recently (threshold: 55%)\n",
      "2024-01-10 13:14:27,451 - distributed.utils_perf - WARNING - full garbage collections took 55% CPU time recently (threshold: 55%)\n",
      "2024-01-10 13:14:28,234 - INFO: - Building DMatrix...Completed\n",
      "2024-01-10 13:14:28,235 - INFO: - Training model...\n",
      "2024-01-10 13:14:28,246 - INFO: - start listen on 10.91.28.16:44341\n",
      "[13:14:28] task [xgboost.dask-0]:tcp://127.0.0.1:32979 got new rank 0\n",
      "[13:14:28] task [xgboost.dask-1]:tcp://127.0.0.1:45541 got new rank 1\n",
      "[13:14:28] task [xgboost.dask-2]:tcp://127.0.0.1:36753 got new rank 2\n",
      "[13:14:28] task [xgboost.dask-3]:tcp://127.0.0.1:34831 got new rank 3\n",
      "[13:14:28] task [xgboost.dask-4]:tcp://127.0.0.1:42505 got new rank 4\n",
      "[13:14:28] task [xgboost.dask-5]:tcp://127.0.0.1:38213 got new rank 5\n",
      "2024-01-10 13:14:28,323 - INFO: - @tracker All of 6 nodes getting started\n",
      "2024-01-10 13:14:48,238 - INFO: - @tracker All nodes finishes job\n",
      "2024-01-10 13:14:48,318 - INFO: - Training model...Completed\n",
      "2024-01-10 13:14:48,319 - INFO: - Running model on test data...\n",
      "2024-01-10 13:14:50,985 - INFO: - Running model on test data...Completed\n",
      "2024-01-10 13:14:50,987 - INFO: - Reshape y_test data...\n",
      "2024-01-10 13:14:53,473 - distributed.utils_perf - WARNING - full garbage collections took 55% CPU time recently (threshold: 55%)\n",
      "2024-01-10 13:14:53,953 - distributed.utils_perf - WARNING - full garbage collections took 55% CPU time recently (threshold: 55%)\n",
      "2024-01-10 13:15:08,864 - INFO: - Reshape y_test data...Complete\n",
      "2024-01-10 13:15:08,867 - INFO: - Compute R2 & MSE scores...\n",
      "2024-01-10 13:15:08,874 - INFO: - Compute R2 & MSE scores...Completed\n"
     ]
    },
    {
     "name": "stdout",
     "output_type": "stream",
     "text": [
      " y_test_c: <class 'numpy.ndarray'>   Shape:  (10121,)       Predictions: <class 'numpy.ndarray'>  shape: (10121,)\n",
      "MSE Score : 0.022791\n",
      " R2 Score : 0.029305\n",
      "--------------------------------------------------------------------------------\n",
      "Training/Test split #3\n"
     ]
    },
    {
     "name": "stderr",
     "output_type": "stream",
     "text": [
      "2024-01-10 13:15:11,223 - INFO: - Building training DMatrix...\n",
      "2024-01-10 13:15:57,957 - distributed.utils_perf - WARNING - full garbage collections took 55% CPU time recently (threshold: 55%)\n",
      "2024-01-10 13:15:58,476 - distributed.utils_perf - WARNING - full garbage collections took 55% CPU time recently (threshold: 55%)\n",
      "2024-01-10 13:15:58,840 - distributed.utils_perf - WARNING - full garbage collections took 55% CPU time recently (threshold: 55%)\n",
      "2024-01-10 13:16:07,379 - distributed.utils_perf - WARNING - full garbage collections took 55% CPU time recently (threshold: 55%)\n",
      "2024-01-10 13:16:07,798 - distributed.utils_perf - WARNING - full garbage collections took 55% CPU time recently (threshold: 55%)\n",
      "2024-01-10 13:16:08,210 - distributed.utils_perf - WARNING - full garbage collections took 55% CPU time recently (threshold: 55%)\n",
      "2024-01-10 13:16:11,497 - distributed.utils_perf - WARNING - full garbage collections took 55% CPU time recently (threshold: 55%)\n",
      "2024-01-10 13:16:11,857 - distributed.utils_perf - WARNING - full garbage collections took 55% CPU time recently (threshold: 55%)\n",
      "2024-01-10 13:16:12,233 - distributed.utils_perf - WARNING - full garbage collections took 55% CPU time recently (threshold: 55%)\n",
      "2024-01-10 13:16:12,597 - distributed.utils_perf - WARNING - full garbage collections took 55% CPU time recently (threshold: 55%)\n",
      "2024-01-10 13:16:18,384 - INFO: - Building training DMatrix...Completed\n",
      "2024-01-10 13:16:18,386 - INFO: - Building test DMatrix...\n",
      "2024-01-10 13:16:43,749 - INFO: - Building DMatrix...Completed\n",
      "2024-01-10 13:16:43,756 - INFO: - Training model...\n",
      "2024-01-10 13:16:43,765 - INFO: - start listen on 10.91.28.16:42691\n",
      "[13:16:43] task [xgboost.dask-0]:tcp://127.0.0.1:32979 got new rank 0\n",
      "[13:16:43] task [xgboost.dask-1]:tcp://127.0.0.1:45541 got new rank 1\n",
      "[13:16:43] task [xgboost.dask-2]:tcp://127.0.0.1:36753 got new rank 2\n",
      "[13:16:43] task [xgboost.dask-3]:tcp://127.0.0.1:34831 got new rank 3\n",
      "[13:16:43] task [xgboost.dask-4]:tcp://127.0.0.1:42505 got new rank 4\n",
      "[13:16:43] task [xgboost.dask-5]:tcp://127.0.0.1:38213 got new rank 5\n",
      "2024-01-10 13:16:43,838 - INFO: - @tracker All of 6 nodes getting started\n",
      "2024-01-10 13:17:01,570 - INFO: - @tracker All nodes finishes job\n",
      "2024-01-10 13:17:01,688 - INFO: - Training model...Completed\n",
      "2024-01-10 13:17:01,689 - INFO: - Running model on test data...\n",
      "2024-01-10 13:17:04,330 - INFO: - Running model on test data...Completed\n",
      "2024-01-10 13:17:04,333 - INFO: - Reshape y_test data...\n",
      "2024-01-10 13:17:22,502 - INFO: - Reshape y_test data...Complete\n",
      "2024-01-10 13:17:22,503 - INFO: - Compute R2 & MSE scores...\n",
      "2024-01-10 13:17:22,507 - INFO: - Compute R2 & MSE scores...Completed\n"
     ]
    },
    {
     "name": "stdout",
     "output_type": "stream",
     "text": [
      " y_test_c: <class 'numpy.ndarray'>   Shape:  (10044,)       Predictions: <class 'numpy.ndarray'>  shape: (10044,)\n",
      "MSE Score : 0.023484\n",
      " R2 Score : 0.024623\n",
      "--------------------------------------------------------------------------------\n",
      "Training/Test split #4\n"
     ]
    },
    {
     "name": "stderr",
     "output_type": "stream",
     "text": [
      "2024-01-10 13:17:24,840 - INFO: - Building training DMatrix...\n",
      "2024-01-10 13:18:14,149 - distributed.utils_perf - WARNING - full garbage collections took 55% CPU time recently (threshold: 55%)\n",
      "2024-01-10 13:18:14,536 - distributed.utils_perf - WARNING - full garbage collections took 55% CPU time recently (threshold: 55%)\n",
      "2024-01-10 13:18:14,899 - distributed.utils_perf - WARNING - full garbage collections took 55% CPU time recently (threshold: 55%)\n",
      "2024-01-10 13:18:15,649 - distributed.utils_perf - WARNING - full garbage collections took 55% CPU time recently (threshold: 55%)\n",
      "2024-01-10 13:18:16,012 - distributed.utils_perf - WARNING - full garbage collections took 55% CPU time recently (threshold: 55%)\n",
      "2024-01-10 13:18:16,385 - distributed.utils_perf - WARNING - full garbage collections took 55% CPU time recently (threshold: 55%)\n",
      "2024-01-10 13:18:16,763 - distributed.utils_perf - WARNING - full garbage collections took 55% CPU time recently (threshold: 55%)\n",
      "2024-01-10 13:18:31,454 - INFO: - Building training DMatrix...Completed\n",
      "2024-01-10 13:18:31,456 - INFO: - Building test DMatrix...\n",
      "2024-01-10 13:18:56,516 - INFO: - Building DMatrix...Completed\n",
      "2024-01-10 13:18:56,522 - INFO: - Training model...\n",
      "2024-01-10 13:18:56,530 - INFO: - start listen on 10.91.28.16:38275\n",
      "[13:18:56] task [xgboost.dask-0]:tcp://127.0.0.1:32979 got new rank 0\n",
      "[13:18:56] task [xgboost.dask-1]:tcp://127.0.0.1:45541 got new rank 1\n",
      "[13:18:56] task [xgboost.dask-2]:tcp://127.0.0.1:36753 got new rank 2\n",
      "[13:18:56] task [xgboost.dask-3]:tcp://127.0.0.1:34831 got new rank 3\n",
      "[13:18:56] task [xgboost.dask-4]:tcp://127.0.0.1:42505 got new rank 4\n",
      "[13:18:56] task [xgboost.dask-5]:tcp://127.0.0.1:38213 got new rank 5\n",
      "2024-01-10 13:18:56,610 - INFO: - @tracker All of 6 nodes getting started\n",
      "2024-01-10 13:19:15,321 - INFO: - @tracker All nodes finishes job\n",
      "2024-01-10 13:19:15,415 - INFO: - Training model...Completed\n",
      "2024-01-10 13:19:15,416 - INFO: - Running model on test data...\n",
      "2024-01-10 13:19:18,070 - INFO: - Running model on test data...Completed\n",
      "2024-01-10 13:19:18,072 - INFO: - Reshape y_test data...\n",
      "2024-01-10 13:19:36,701 - INFO: - Reshape y_test data...Complete\n",
      "2024-01-10 13:19:36,702 - INFO: - Compute R2 & MSE scores...\n",
      "2024-01-10 13:19:36,709 - INFO: - Compute R2 & MSE scores...Completed\n",
      "[I 2024-01-10 13:19:36,776] Trial 13 finished with value: 0.023089442029595376 and parameters: {'learning_rate': 0.3606332473342941, 'max_depth': 3, 'max_leaves': 0}. Best is trial 13 with value: 0.023089442029595376.\n"
     ]
    },
    {
     "name": "stdout",
     "output_type": "stream",
     "text": [
      " y_test_c: <class 'numpy.ndarray'>   Shape:  (9914,)       Predictions: <class 'numpy.ndarray'>  shape: (9914,)\n",
      "MSE Score : 0.023839\n",
      " R2 Score : 0.025556\n",
      "--------------------------------------------------------------------------------\n",
      "RSME : 0.02309 +/- 0.00049\n",
      "--------------------------------------------------------------------------------\n",
      "R^2  : 0.02878 +/- 0.00326\n",
      "--------------------------------------------------------------------------------\n",
      "Training model (trial #14) - Parameters:\n",
      "  learning_rate=0.31351624754624685\n",
      "  max_depth=3\n",
      "  max_leaves=0\n",
      "[0.2, 0.2, 0.2, 0.2, 0.2] 5\n",
      "Training/Test split #0\n"
     ]
    },
    {
     "name": "stderr",
     "output_type": "stream",
     "text": [
      "2024-01-10 13:19:39,757 - INFO: - Building training DMatrix...\n",
      "2024-01-10 13:20:49,731 - INFO: - Building training DMatrix...Completed\n",
      "2024-01-10 13:20:49,734 - INFO: - Building test DMatrix...\n",
      "2024-01-10 13:21:14,117 - INFO: - Building DMatrix...Completed\n",
      "2024-01-10 13:21:14,126 - INFO: - Training model...\n",
      "2024-01-10 13:21:14,134 - INFO: - start listen on 10.91.28.16:48421\n",
      "[13:21:14] task [xgboost.dask-0]:tcp://127.0.0.1:32979 got new rank 0\n",
      "[13:21:14] task [xgboost.dask-1]:tcp://127.0.0.1:45541 got new rank 1\n",
      "[13:21:14] task [xgboost.dask-2]:tcp://127.0.0.1:36753 got new rank 2\n",
      "[13:21:14] task [xgboost.dask-3]:tcp://127.0.0.1:34831 got new rank 3\n",
      "[13:21:14] task [xgboost.dask-4]:tcp://127.0.0.1:42505 got new rank 4\n",
      "[13:21:14] task [xgboost.dask-5]:tcp://127.0.0.1:38213 got new rank 5\n",
      "2024-01-10 13:21:14,206 - INFO: - @tracker All of 6 nodes getting started\n",
      "2024-01-10 13:21:32,679 - INFO: - @tracker All nodes finishes job\n",
      "2024-01-10 13:21:32,770 - INFO: - Training model...Completed\n",
      "2024-01-10 13:21:32,771 - INFO: - Running model on test data...\n",
      "2024-01-10 13:21:35,541 - INFO: - Running model on test data...Completed\n",
      "2024-01-10 13:21:35,544 - INFO: - Reshape y_test data...\n",
      "2024-01-10 13:21:53,924 - INFO: - Reshape y_test data...Complete\n",
      "2024-01-10 13:21:53,925 - INFO: - Compute R2 & MSE scores...\n",
      "2024-01-10 13:21:53,930 - INFO: - Compute R2 & MSE scores...Completed\n"
     ]
    },
    {
     "name": "stdout",
     "output_type": "stream",
     "text": [
      " y_test_c: <class 'numpy.ndarray'>   Shape:  (9922,)       Predictions: <class 'numpy.ndarray'>  shape: (9922,)\n",
      "MSE Score : 0.022764\n",
      " R2 Score : 0.025618\n",
      "--------------------------------------------------------------------------------\n",
      "Training/Test split #1\n"
     ]
    },
    {
     "name": "stderr",
     "output_type": "stream",
     "text": [
      "2024-01-10 13:21:56,704 - INFO: - Building training DMatrix...\n",
      "2024-01-10 13:22:17,212 - distributed.utils_perf - WARNING - full garbage collections took 55% CPU time recently (threshold: 55%)\n",
      "2024-01-10 13:22:17,550 - distributed.utils_perf - WARNING - full garbage collections took 55% CPU time recently (threshold: 55%)\n",
      "2024-01-10 13:22:17,984 - distributed.utils_perf - WARNING - full garbage collections took 55% CPU time recently (threshold: 55%)\n",
      "2024-01-10 13:22:19,066 - distributed.utils_perf - WARNING - full garbage collections took 56% CPU time recently (threshold: 55%)\n",
      "2024-01-10 13:22:19,428 - distributed.utils_perf - WARNING - full garbage collections took 56% CPU time recently (threshold: 55%)\n",
      "2024-01-10 13:22:19,803 - distributed.utils_perf - WARNING - full garbage collections took 55% CPU time recently (threshold: 55%)\n",
      "2024-01-10 13:22:20,230 - distributed.utils_perf - WARNING - full garbage collections took 55% CPU time recently (threshold: 55%)\n",
      "2024-01-10 13:22:20,635 - distributed.utils_perf - WARNING - full garbage collections took 55% CPU time recently (threshold: 55%)\n",
      "2024-01-10 13:23:06,525 - INFO: - Building training DMatrix...Completed\n",
      "2024-01-10 13:23:06,546 - INFO: - Building test DMatrix...\n",
      "2024-01-10 13:23:32,681 - INFO: - Building DMatrix...Completed\n",
      "2024-01-10 13:23:32,688 - INFO: - Training model...\n",
      "2024-01-10 13:23:32,698 - INFO: - start listen on 10.91.28.16:57473\n",
      "[13:23:32] task [xgboost.dask-0]:tcp://127.0.0.1:32979 got new rank 0\n",
      "[13:23:32] task [xgboost.dask-1]:tcp://127.0.0.1:45541 got new rank 1\n",
      "[13:23:32] task [xgboost.dask-2]:tcp://127.0.0.1:36753 got new rank 2\n",
      "[13:23:32] task [xgboost.dask-3]:tcp://127.0.0.1:34831 got new rank 3\n",
      "[13:23:32] task [xgboost.dask-4]:tcp://127.0.0.1:42505 got new rank 4\n",
      "[13:23:32] task [xgboost.dask-5]:tcp://127.0.0.1:38213 got new rank 5\n",
      "2024-01-10 13:23:32,771 - INFO: - @tracker All of 6 nodes getting started\n",
      "2024-01-10 13:23:50,783 - INFO: - @tracker All nodes finishes job\n",
      "2024-01-10 13:23:50,873 - INFO: - Training model...Completed\n",
      "2024-01-10 13:23:50,874 - INFO: - Running model on test data...\n",
      "2024-01-10 13:23:53,584 - INFO: - Running model on test data...Completed\n",
      "2024-01-10 13:23:53,586 - INFO: - Reshape y_test data...\n",
      "2024-01-10 13:24:12,144 - INFO: - Reshape y_test data...Complete\n",
      "2024-01-10 13:24:12,145 - INFO: - Compute R2 & MSE scores...\n",
      "2024-01-10 13:24:12,150 - INFO: - Compute R2 & MSE scores...Completed\n"
     ]
    },
    {
     "name": "stdout",
     "output_type": "stream",
     "text": [
      " y_test_c: <class 'numpy.ndarray'>   Shape:  (9991,)       Predictions: <class 'numpy.ndarray'>  shape: (9991,)\n",
      "MSE Score : 0.022760\n",
      " R2 Score : 0.033806\n",
      "--------------------------------------------------------------------------------\n",
      "Training/Test split #2\n"
     ]
    },
    {
     "name": "stderr",
     "output_type": "stream",
     "text": [
      "2024-01-10 13:24:14,510 - INFO: - Building training DMatrix...\n",
      "2024-01-10 13:24:33,038 - distributed.utils_perf - WARNING - full garbage collections took 55% CPU time recently (threshold: 55%)\n",
      "2024-01-10 13:24:33,451 - distributed.utils_perf - WARNING - full garbage collections took 55% CPU time recently (threshold: 55%)\n",
      "2024-01-10 13:25:21,135 - INFO: - Building training DMatrix...Completed\n",
      "2024-01-10 13:25:21,136 - INFO: - Building test DMatrix...\n",
      "2024-01-10 13:25:45,901 - INFO: - Building DMatrix...Completed\n",
      "2024-01-10 13:25:45,902 - INFO: - Training model...\n",
      "2024-01-10 13:25:45,914 - INFO: - start listen on 10.91.28.16:54499\n",
      "[13:25:45] task [xgboost.dask-0]:tcp://127.0.0.1:32979 got new rank 0\n",
      "[13:25:45] task [xgboost.dask-1]:tcp://127.0.0.1:45541 got new rank 1\n",
      "[13:25:45] task [xgboost.dask-2]:tcp://127.0.0.1:36753 got new rank 2\n",
      "[13:25:45] task [xgboost.dask-3]:tcp://127.0.0.1:34831 got new rank 3\n",
      "[13:25:45] task [xgboost.dask-4]:tcp://127.0.0.1:42505 got new rank 4\n",
      "[13:25:45] task [xgboost.dask-5]:tcp://127.0.0.1:38213 got new rank 5\n",
      "2024-01-10 13:25:46,000 - INFO: - @tracker All of 6 nodes getting started\n",
      "2024-01-10 13:26:03,992 - INFO: - @tracker All nodes finishes job\n",
      "2024-01-10 13:26:04,096 - INFO: - Training model...Completed\n",
      "2024-01-10 13:26:04,097 - INFO: - Running model on test data...\n",
      "2024-01-10 13:26:06,774 - INFO: - Running model on test data...Completed\n",
      "2024-01-10 13:26:06,781 - INFO: - Reshape y_test data...\n",
      "2024-01-10 13:26:25,831 - INFO: - Reshape y_test data...Complete\n",
      "2024-01-10 13:26:25,833 - INFO: - Compute R2 & MSE scores...\n",
      "2024-01-10 13:26:25,838 - INFO: - Compute R2 & MSE scores...Completed\n"
     ]
    },
    {
     "name": "stdout",
     "output_type": "stream",
     "text": [
      " y_test_c: <class 'numpy.ndarray'>   Shape:  (9979,)       Predictions: <class 'numpy.ndarray'>  shape: (9979,)\n",
      "MSE Score : 0.023043\n",
      " R2 Score : 0.032916\n",
      "--------------------------------------------------------------------------------\n",
      "Training/Test split #3\n"
     ]
    },
    {
     "name": "stderr",
     "output_type": "stream",
     "text": [
      "2024-01-10 13:26:28,222 - INFO: - Building training DMatrix...\n",
      "2024-01-10 13:27:34,026 - INFO: - Building training DMatrix...Completed\n",
      "2024-01-10 13:27:34,028 - INFO: - Building test DMatrix...\n",
      "2024-01-10 13:27:58,455 - INFO: - Building DMatrix...Completed\n",
      "2024-01-10 13:27:58,461 - INFO: - Training model...\n",
      "2024-01-10 13:27:58,469 - INFO: - start listen on 10.91.28.16:37947\n",
      "[13:27:58] task [xgboost.dask-0]:tcp://127.0.0.1:32979 got new rank 0\n",
      "[13:27:58] task [xgboost.dask-1]:tcp://127.0.0.1:45541 got new rank 1\n",
      "[13:27:58] task [xgboost.dask-2]:tcp://127.0.0.1:36753 got new rank 2\n",
      "[13:27:58] task [xgboost.dask-3]:tcp://127.0.0.1:34831 got new rank 3\n",
      "[13:27:58] task [xgboost.dask-4]:tcp://127.0.0.1:42505 got new rank 4\n",
      "[13:27:58] task [xgboost.dask-5]:tcp://127.0.0.1:38213 got new rank 5\n",
      "2024-01-10 13:27:58,552 - INFO: - @tracker All of 6 nodes getting started\n",
      "2024-01-10 13:28:19,383 - INFO: - @tracker All nodes finishes job\n",
      "2024-01-10 13:28:19,494 - INFO: - Training model...Completed\n",
      "2024-01-10 13:28:19,495 - INFO: - Running model on test data...\n",
      "2024-01-10 13:28:22,228 - INFO: - Running model on test data...Completed\n",
      "2024-01-10 13:28:22,229 - INFO: - Reshape y_test data...\n",
      "2024-01-10 13:28:41,070 - INFO: - Reshape y_test data...Complete\n",
      "2024-01-10 13:28:41,071 - INFO: - Compute R2 & MSE scores...\n",
      "2024-01-10 13:28:41,076 - INFO: - Compute R2 & MSE scores...Completed\n"
     ]
    },
    {
     "name": "stdout",
     "output_type": "stream",
     "text": [
      " y_test_c: <class 'numpy.ndarray'>   Shape:  (9898,)       Predictions: <class 'numpy.ndarray'>  shape: (9898,)\n",
      "MSE Score : 0.022971\n",
      " R2 Score : 0.025895\n",
      "--------------------------------------------------------------------------------\n",
      "Training/Test split #4\n"
     ]
    },
    {
     "name": "stderr",
     "output_type": "stream",
     "text": [
      "2024-01-10 13:28:43,385 - INFO: - Building training DMatrix...\n",
      "2024-01-10 13:28:49,925 - distributed.utils_perf - WARNING - full garbage collections took 55% CPU time recently (threshold: 55%)\n",
      "2024-01-10 13:28:50,324 - distributed.utils_perf - WARNING - full garbage collections took 55% CPU time recently (threshold: 55%)\n",
      "2024-01-10 13:28:50,715 - distributed.utils_perf - WARNING - full garbage collections took 55% CPU time recently (threshold: 55%)\n",
      "2024-01-10 13:28:51,104 - distributed.utils_perf - WARNING - full garbage collections took 55% CPU time recently (threshold: 55%)\n",
      "2024-01-10 13:28:51,450 - distributed.utils_perf - WARNING - full garbage collections took 55% CPU time recently (threshold: 55%)\n",
      "2024-01-10 13:29:49,617 - INFO: - Building training DMatrix...Completed\n",
      "2024-01-10 13:29:49,622 - INFO: - Building test DMatrix...\n",
      "2024-01-10 13:30:14,948 - INFO: - Building DMatrix...Completed\n",
      "2024-01-10 13:30:14,949 - INFO: - Training model...\n",
      "2024-01-10 13:30:14,961 - INFO: - start listen on 10.91.28.16:43457\n",
      "[13:30:15] task [xgboost.dask-0]:tcp://127.0.0.1:32979 got new rank 0\n",
      "[13:30:15] task [xgboost.dask-1]:tcp://127.0.0.1:45541 got new rank 1\n",
      "[13:30:15] task [xgboost.dask-2]:tcp://127.0.0.1:36753 got new rank 2\n",
      "[13:30:15] task [xgboost.dask-3]:tcp://127.0.0.1:34831 got new rank 3\n",
      "[13:30:15] task [xgboost.dask-4]:tcp://127.0.0.1:42505 got new rank 4\n",
      "[13:30:15] task [xgboost.dask-5]:tcp://127.0.0.1:38213 got new rank 5\n",
      "2024-01-10 13:30:15,045 - INFO: - @tracker All of 6 nodes getting started\n",
      "2024-01-10 13:30:34,498 - INFO: - @tracker All nodes finishes job\n",
      "2024-01-10 13:30:34,662 - INFO: - Training model...Completed\n",
      "2024-01-10 13:30:34,663 - INFO: - Running model on test data...\n",
      "2024-01-10 13:30:37,414 - INFO: - Running model on test data...Completed\n",
      "2024-01-10 13:30:37,416 - INFO: - Reshape y_test data...\n",
      "2024-01-10 13:30:55,920 - INFO: - Reshape y_test data...Complete\n",
      "2024-01-10 13:30:55,925 - INFO: - Compute R2 & MSE scores...\n",
      "2024-01-10 13:30:55,929 - INFO: - Compute R2 & MSE scores...Completed\n",
      "[I 2024-01-10 13:30:56,008] Trial 14 finished with value: 0.023096119984984398 and parameters: {'learning_rate': 0.31351624754624685, 'max_depth': 3, 'max_leaves': 0}. Best is trial 13 with value: 0.023089442029595376.\n"
     ]
    },
    {
     "name": "stdout",
     "output_type": "stream",
     "text": [
      " y_test_c: <class 'numpy.ndarray'>   Shape:  (10210,)       Predictions: <class 'numpy.ndarray'>  shape: (10210,)\n",
      "MSE Score : 0.023944\n",
      " R2 Score : 0.022386\n",
      "--------------------------------------------------------------------------------\n",
      "RSME : 0.02310 +/- 0.00044\n",
      "--------------------------------------------------------------------------------\n",
      "R^2  : 0.02812 +/- 0.00446\n",
      "--------------------------------------------------------------------------------\n",
      "Training model (trial #15) - Parameters:\n",
      "  learning_rate=0.3222032820191526\n",
      "  max_depth=3\n",
      "  max_leaves=0\n",
      "[0.2, 0.2, 0.2, 0.2, 0.2] 5\n",
      "Training/Test split #0\n"
     ]
    },
    {
     "name": "stderr",
     "output_type": "stream",
     "text": [
      "2024-01-10 13:30:59,245 - INFO: - Building training DMatrix...\n",
      "2024-01-10 13:32:09,340 - INFO: - Building training DMatrix...Completed\n",
      "2024-01-10 13:32:09,341 - INFO: - Building test DMatrix...\n",
      "2024-01-10 13:32:34,502 - INFO: - Building DMatrix...Completed\n",
      "2024-01-10 13:32:34,508 - INFO: - Training model...\n",
      "2024-01-10 13:32:34,514 - INFO: - start listen on 10.91.28.16:44653\n",
      "[13:32:34] task [xgboost.dask-0]:tcp://127.0.0.1:32979 got new rank 0\n",
      "[13:32:34] task [xgboost.dask-1]:tcp://127.0.0.1:45541 got new rank 1\n",
      "[13:32:34] task [xgboost.dask-2]:tcp://127.0.0.1:36753 got new rank 2\n",
      "[13:32:34] task [xgboost.dask-3]:tcp://127.0.0.1:34831 got new rank 3\n",
      "[13:32:34] task [xgboost.dask-4]:tcp://127.0.0.1:42505 got new rank 4\n",
      "[13:32:34] task [xgboost.dask-5]:tcp://127.0.0.1:38213 got new rank 5\n",
      "2024-01-10 13:32:34,588 - INFO: - @tracker All of 6 nodes getting started\n",
      "2024-01-10 13:32:52,247 - INFO: - @tracker All nodes finishes job\n",
      "2024-01-10 13:32:52,429 - INFO: - Training model...Completed\n",
      "2024-01-10 13:32:52,432 - INFO: - Running model on test data...\n",
      "2024-01-10 13:32:55,057 - INFO: - Running model on test data...Completed\n",
      "2024-01-10 13:32:55,065 - INFO: - Reshape y_test data...\n",
      "2024-01-10 13:33:13,204 - INFO: - Reshape y_test data...Complete\n",
      "2024-01-10 13:33:13,206 - INFO: - Compute R2 & MSE scores...\n",
      "2024-01-10 13:33:13,212 - INFO: - Compute R2 & MSE scores...Completed\n"
     ]
    },
    {
     "name": "stdout",
     "output_type": "stream",
     "text": [
      " y_test_c: <class 'numpy.ndarray'>   Shape:  (10038,)       Predictions: <class 'numpy.ndarray'>  shape: (10038,)\n",
      "MSE Score : 0.022638\n",
      " R2 Score : 0.033260\n",
      "--------------------------------------------------------------------------------\n",
      "Training/Test split #1\n"
     ]
    },
    {
     "name": "stderr",
     "output_type": "stream",
     "text": [
      "2024-01-10 13:33:15,582 - INFO: - Building training DMatrix...\n",
      "2024-01-10 13:34:22,267 - INFO: - Building training DMatrix...Completed\n",
      "2024-01-10 13:34:22,269 - INFO: - Building test DMatrix...\n",
      "2024-01-10 13:34:37,851 - distributed.utils_perf - WARNING - full garbage collections took 55% CPU time recently (threshold: 55%)\n",
      "2024-01-10 13:34:38,220 - distributed.utils_perf - WARNING - full garbage collections took 55% CPU time recently (threshold: 55%)\n",
      "2024-01-10 13:34:47,062 - INFO: - Building DMatrix...Completed\n",
      "2024-01-10 13:34:47,063 - INFO: - Training model...\n",
      "2024-01-10 13:34:47,073 - INFO: - start listen on 10.91.28.16:47723\n",
      "[13:34:47] task [xgboost.dask-0]:tcp://127.0.0.1:32979 got new rank 0\n",
      "[13:34:47] task [xgboost.dask-1]:tcp://127.0.0.1:45541 got new rank 1\n",
      "[13:34:47] task [xgboost.dask-2]:tcp://127.0.0.1:36753 got new rank 2\n",
      "[13:34:47] task [xgboost.dask-3]:tcp://127.0.0.1:34831 got new rank 3\n",
      "[13:34:47] task [xgboost.dask-4]:tcp://127.0.0.1:42505 got new rank 4\n",
      "[13:34:47] task [xgboost.dask-5]:tcp://127.0.0.1:38213 got new rank 5\n",
      "2024-01-10 13:34:47,150 - INFO: - @tracker All of 6 nodes getting started\n",
      "2024-01-10 13:35:06,190 - INFO: - @tracker All nodes finishes job\n",
      "2024-01-10 13:35:06,330 - INFO: - Training model...Completed\n",
      "2024-01-10 13:35:06,340 - INFO: - Running model on test data...\n",
      "2024-01-10 13:35:08,867 - INFO: - Running model on test data...Completed\n",
      "2024-01-10 13:35:08,868 - INFO: - Reshape y_test data...\n",
      "2024-01-10 13:35:26,989 - INFO: - Reshape y_test data...Complete\n",
      "2024-01-10 13:35:26,991 - INFO: - Compute R2 & MSE scores...\n",
      "2024-01-10 13:35:26,995 - INFO: - Compute R2 & MSE scores...Completed\n"
     ]
    },
    {
     "name": "stdout",
     "output_type": "stream",
     "text": [
      " y_test_c: <class 'numpy.ndarray'>   Shape:  (9924,)       Predictions: <class 'numpy.ndarray'>  shape: (9924,)\n",
      "MSE Score : 0.023859\n",
      " R2 Score : 0.025985\n",
      "--------------------------------------------------------------------------------\n",
      "Training/Test split #2\n"
     ]
    },
    {
     "name": "stderr",
     "output_type": "stream",
     "text": [
      "2024-01-10 13:35:29,372 - INFO: - Building training DMatrix...\n",
      "2024-01-10 13:36:36,181 - INFO: - Building training DMatrix...Completed\n",
      "2024-01-10 13:36:36,183 - INFO: - Building test DMatrix...\n",
      "2024-01-10 13:37:01,150 - INFO: - Building DMatrix...Completed\n",
      "2024-01-10 13:37:01,156 - INFO: - Training model...\n",
      "2024-01-10 13:37:01,162 - INFO: - start listen on 10.91.28.16:46999\n",
      "[13:37:01] task [xgboost.dask-0]:tcp://127.0.0.1:32979 got new rank 0\n",
      "[13:37:01] task [xgboost.dask-1]:tcp://127.0.0.1:45541 got new rank 1\n",
      "[13:37:01] task [xgboost.dask-2]:tcp://127.0.0.1:36753 got new rank 2\n",
      "[13:37:01] task [xgboost.dask-3]:tcp://127.0.0.1:34831 got new rank 3\n",
      "[13:37:01] task [xgboost.dask-4]:tcp://127.0.0.1:42505 got new rank 4\n",
      "[13:37:01] task [xgboost.dask-5]:tcp://127.0.0.1:38213 got new rank 5\n",
      "2024-01-10 13:37:01,243 - INFO: - @tracker All of 6 nodes getting started\n",
      "2024-01-10 13:37:20,584 - INFO: - @tracker All nodes finishes job\n",
      "2024-01-10 13:37:20,686 - INFO: - Training model...Completed\n",
      "2024-01-10 13:37:20,687 - INFO: - Running model on test data...\n",
      "2024-01-10 13:37:23,530 - INFO: - Running model on test data...Completed\n",
      "2024-01-10 13:37:23,535 - INFO: - Reshape y_test data...\n",
      "2024-01-10 13:37:41,760 - INFO: - Reshape y_test data...Complete\n",
      "2024-01-10 13:37:41,762 - INFO: - Compute R2 & MSE scores...\n",
      "2024-01-10 13:37:41,766 - INFO: - Compute R2 & MSE scores...Completed\n"
     ]
    },
    {
     "name": "stdout",
     "output_type": "stream",
     "text": [
      " y_test_c: <class 'numpy.ndarray'>   Shape:  (9879,)       Predictions: <class 'numpy.ndarray'>  shape: (9879,)\n",
      "MSE Score : 0.023345\n",
      " R2 Score : 0.024229\n",
      "--------------------------------------------------------------------------------\n",
      "Training/Test split #3\n"
     ]
    },
    {
     "name": "stderr",
     "output_type": "stream",
     "text": [
      "2024-01-10 13:37:44,602 - INFO: - Building training DMatrix...\n",
      "2024-01-10 13:38:52,825 - INFO: - Building training DMatrix...Completed\n",
      "2024-01-10 13:38:52,828 - INFO: - Building test DMatrix...\n",
      "2024-01-10 13:39:17,741 - INFO: - Building DMatrix...Completed\n",
      "2024-01-10 13:39:17,747 - INFO: - Training model...\n",
      "2024-01-10 13:39:17,755 - INFO: - start listen on 10.91.28.16:53801\n",
      "[13:39:17] task [xgboost.dask-0]:tcp://127.0.0.1:32979 got new rank 0\n",
      "[13:39:17] task [xgboost.dask-1]:tcp://127.0.0.1:45541 got new rank 1\n",
      "[13:39:17] task [xgboost.dask-2]:tcp://127.0.0.1:36753 got new rank 2\n",
      "[13:39:17] task [xgboost.dask-3]:tcp://127.0.0.1:34831 got new rank 3\n",
      "[13:39:17] task [xgboost.dask-4]:tcp://127.0.0.1:42505 got new rank 4\n",
      "[13:39:17] task [xgboost.dask-5]:tcp://127.0.0.1:38213 got new rank 5\n",
      "2024-01-10 13:39:17,822 - INFO: - @tracker All of 6 nodes getting started\n",
      "2024-01-10 13:39:37,272 - INFO: - @tracker All nodes finishes job\n",
      "2024-01-10 13:39:37,362 - INFO: - Training model...Completed\n",
      "2024-01-10 13:39:37,365 - INFO: - Running model on test data...\n",
      "2024-01-10 13:39:39,987 - INFO: - Running model on test data...Completed\n",
      "2024-01-10 13:39:39,987 - INFO: - Reshape y_test data...\n",
      "2024-01-10 13:39:58,474 - INFO: - Reshape y_test data...Complete\n",
      "2024-01-10 13:39:58,477 - INFO: - Compute R2 & MSE scores...\n",
      "2024-01-10 13:39:58,482 - INFO: - Compute R2 & MSE scores...Completed\n"
     ]
    },
    {
     "name": "stdout",
     "output_type": "stream",
     "text": [
      " y_test_c: <class 'numpy.ndarray'>   Shape:  (10144,)       Predictions: <class 'numpy.ndarray'>  shape: (10144,)\n",
      "MSE Score : 0.022778\n",
      " R2 Score : 0.028149\n",
      "--------------------------------------------------------------------------------\n",
      "Training/Test split #4\n"
     ]
    },
    {
     "name": "stderr",
     "output_type": "stream",
     "text": [
      "2024-01-10 13:40:00,934 - INFO: - Building training DMatrix...\n",
      "2024-01-10 13:40:53,149 - distributed.utils_perf - WARNING - full garbage collections took 55% CPU time recently (threshold: 55%)\n",
      "2024-01-10 13:40:53,521 - distributed.utils_perf - WARNING - full garbage collections took 55% CPU time recently (threshold: 55%)\n",
      "2024-01-10 13:40:53,879 - distributed.utils_perf - WARNING - full garbage collections took 56% CPU time recently (threshold: 55%)\n",
      "2024-01-10 13:40:54,261 - distributed.utils_perf - WARNING - full garbage collections took 56% CPU time recently (threshold: 55%)\n",
      "2024-01-10 13:40:54,611 - distributed.utils_perf - WARNING - full garbage collections took 56% CPU time recently (threshold: 55%)\n",
      "2024-01-10 13:40:55,041 - distributed.utils_perf - WARNING - full garbage collections took 56% CPU time recently (threshold: 55%)\n",
      "2024-01-10 13:40:55,408 - distributed.utils_perf - WARNING - full garbage collections took 55% CPU time recently (threshold: 55%)\n",
      "2024-01-10 13:40:55,823 - distributed.utils_perf - WARNING - full garbage collections took 55% CPU time recently (threshold: 55%)\n",
      "2024-01-10 13:40:56,197 - distributed.utils_perf - WARNING - full garbage collections took 55% CPU time recently (threshold: 55%)\n",
      "2024-01-10 13:40:57,291 - distributed.utils_perf - WARNING - full garbage collections took 55% CPU time recently (threshold: 55%)\n",
      "2024-01-10 13:40:57,633 - distributed.utils_perf - WARNING - full garbage collections took 56% CPU time recently (threshold: 55%)\n",
      "2024-01-10 13:40:57,980 - distributed.utils_perf - WARNING - full garbage collections took 56% CPU time recently (threshold: 55%)\n",
      "2024-01-10 13:40:58,363 - distributed.utils_perf - WARNING - full garbage collections took 56% CPU time recently (threshold: 55%)\n",
      "2024-01-10 13:40:58,782 - distributed.utils_perf - WARNING - full garbage collections took 56% CPU time recently (threshold: 55%)\n",
      "2024-01-10 13:40:59,159 - distributed.utils_perf - WARNING - full garbage collections took 56% CPU time recently (threshold: 55%)\n",
      "2024-01-10 13:40:59,539 - distributed.utils_perf - WARNING - full garbage collections took 56% CPU time recently (threshold: 55%)\n",
      "2024-01-10 13:41:00,206 - distributed.utils_perf - WARNING - full garbage collections took 56% CPU time recently (threshold: 55%)\n",
      "2024-01-10 13:41:00,583 - distributed.utils_perf - WARNING - full garbage collections took 56% CPU time recently (threshold: 55%)\n",
      "2024-01-10 13:41:00,948 - distributed.utils_perf - WARNING - full garbage collections took 56% CPU time recently (threshold: 55%)\n",
      "2024-01-10 13:41:01,854 - distributed.utils_perf - WARNING - full garbage collections took 56% CPU time recently (threshold: 55%)\n",
      "2024-01-10 13:41:05,812 - INFO: - Building training DMatrix...Completed\n",
      "2024-01-10 13:41:05,833 - INFO: - Building test DMatrix...\n",
      "2024-01-10 13:41:09,992 - distributed.utils_perf - WARNING - full garbage collections took 56% CPU time recently (threshold: 55%)\n",
      "2024-01-10 13:41:10,372 - distributed.utils_perf - WARNING - full garbage collections took 56% CPU time recently (threshold: 55%)\n",
      "2024-01-10 13:41:31,000 - INFO: - Building DMatrix...Completed\n",
      "2024-01-10 13:41:31,002 - INFO: - Training model...\n",
      "2024-01-10 13:41:31,020 - INFO: - start listen on 10.91.28.16:43659\n",
      "[13:41:31] task [xgboost.dask-0]:tcp://127.0.0.1:32979 got new rank 0\n",
      "[13:41:31] task [xgboost.dask-1]:tcp://127.0.0.1:45541 got new rank 1\n",
      "[13:41:31] task [xgboost.dask-2]:tcp://127.0.0.1:36753 got new rank 2\n",
      "[13:41:31] task [xgboost.dask-3]:tcp://127.0.0.1:34831 got new rank 3\n",
      "[13:41:31] task [xgboost.dask-4]:tcp://127.0.0.1:42505 got new rank 4\n",
      "[13:41:31] task [xgboost.dask-5]:tcp://127.0.0.1:38213 got new rank 5\n",
      "2024-01-10 13:41:31,093 - INFO: - @tracker All of 6 nodes getting started\n",
      "2024-01-10 13:41:50,564 - INFO: - @tracker All nodes finishes job\n",
      "2024-01-10 13:41:50,719 - INFO: - Training model...Completed\n",
      "2024-01-10 13:41:50,720 - INFO: - Running model on test data...\n",
      "2024-01-10 13:41:53,340 - INFO: - Running model on test data...Completed\n",
      "2024-01-10 13:41:53,341 - INFO: - Reshape y_test data...\n",
      "2024-01-10 13:42:12,059 - INFO: - Reshape y_test data...Complete\n",
      "2024-01-10 13:42:12,062 - INFO: - Compute R2 & MSE scores...\n",
      "2024-01-10 13:42:12,066 - INFO: - Compute R2 & MSE scores...Completed\n",
      "[I 2024-01-10 13:42:12,180] Trial 15 finished with value: 0.02311292476952076 and parameters: {'learning_rate': 0.3222032820191526, 'max_depth': 3, 'max_leaves': 0}. Best is trial 13 with value: 0.023089442029595376.\n"
     ]
    },
    {
     "name": "stdout",
     "output_type": "stream",
     "text": [
      " y_test_c: <class 'numpy.ndarray'>   Shape:  (10015,)       Predictions: <class 'numpy.ndarray'>  shape: (10015,)\n",
      "MSE Score : 0.022944\n",
      " R2 Score : 0.027651\n",
      "--------------------------------------------------------------------------------\n",
      "RSME : 0.02311 +/- 0.00044\n",
      "--------------------------------------------------------------------------------\n",
      "R^2  : 0.02785 +/- 0.00303\n",
      "--------------------------------------------------------------------------------\n",
      "Total time:  1:46:50.343012\n"
     ]
    }
   ],
   "source": [
    "start = datetime.now()\n",
    "study.optimize(objective, n_trials=10, timeout=60000)\n",
    "print(f\"Total time:  {datetime.now() - start}\")"
   ]
  },
  {
   "cell_type": "code",
   "execution_count": 27,
   "metadata": {
    "execution": {
     "iopub.execute_input": "2024-01-10T13:03:06.686390Z",
     "iopub.status.busy": "2024-01-10T13:03:06.685557Z",
     "iopub.status.idle": "2024-01-10T13:03:06.778932Z",
     "shell.execute_reply": "2024-01-10T13:03:06.777749Z",
     "shell.execute_reply.started": "2024-01-10T13:03:06.686337Z"
    }
   },
   "outputs": [
    {
     "name": "stdout",
     "output_type": "stream",
     "text": [
      "Number of finished trials:  16\n",
      "Best trial:\n",
      "  Value: 0.023089442029595376\n",
      "  Params: \n",
      "    learning_rate: 0.3606332473342941\n",
      "    max_depth: 3\n",
      "    max_leaves: 0\n"
     ]
    }
   ],
   "source": [
    "print(\"Number of finished trials: \", len(study.trials))\n",
    "print(\"Best trial:\")\n",
    "\n",
    "trial = study.best_trial\n",
    "\n",
    "print(\"  Value: {}\".format(trial.value))\n",
    "print(\"  Params: \")\n",
    "for key, value in trial.params.items():\n",
    "    print(\"    {}: {}\".format(key, value))\n",
    "\n",
    "# print(\"  Number of estimators: {}\".format(trial.user_attrs[\"n_estimators\"]))"
   ]
  },
  {
   "cell_type": "code",
   "execution_count": null,
   "metadata": {
    "ExecuteTime": {
     "end_time": "2023-12-21T20:51:34.419906Z",
     "start_time": "2023-12-21T20:51:34.402698Z"
    }
   },
   "outputs": [],
   "source": [
    "# xgb_grid_parameters = {\n",
    "#     'learning_rate': [0.1, 0.01],\n",
    "#     'max_depth': [12, 10 ,8], \n",
    "#     'max_depth': [15,10,5],\n",
    "#     'min_child_weight':[5,3,2,1], \n",
    "#     'min_child_weight':[2,3], \n",
    "#     'gamma':[1,5, 10],  \n",
    "#     'gamma':[2.5, 3, 3.5, 4],  \n",
    "#     'subsample':[i/10.0 for i in range(6,11)],\n",
    "#     'subsample':[0.5],\n",
    "#     'colsample_bytree':[i/10.0 for i in range(5,11)], \n",
    "#     'colsample_bytree':[0.5], \n",
    "#     'n_estimators': [1250, 1000, 750, 500, 200]}\n",
    "# xgb_reg.set_params(**xgb_grid_parameters)"
   ]
  },
  {
   "cell_type": "code",
   "execution_count": null,
   "metadata": {
    "scrolled": true
   },
   "outputs": [],
   "source": [
    "# client.get_versions(check=True)"
   ]
  },
  {
   "cell_type": "markdown",
   "metadata": {
    "jp-MarkdownHeadingCollapsed": true
   },
   "source": [
    "# XGBoost - TPSA (Regression)"
   ]
  },
  {
   "cell_type": "code",
   "execution_count": null,
   "metadata": {
    "ExecuteTime": {
     "end_time": "2023-07-31T18:38:33.906700Z",
     "start_time": "2023-07-31T18:38:33.684133Z"
    }
   },
   "outputs": [],
   "source": [
    "import os\n",
    "import shutil\n",
    "import optuna\n",
    "import sklearn.datasets\n",
    "import sklearn.metrics\n",
    "import xgboost as xgb\n",
    "\n",
    "SEED = 108\n",
    "N_FOLDS = 3\n",
    "CV_RESULT_DIR = \"./xgboost_cv_results\""
   ]
  },
  {
   "cell_type": "code",
   "execution_count": null,
   "metadata": {},
   "outputs": [],
   "source": [
    "\"\"\"\n",
    "Optuna example that optimizes a classifier configuration for cancer dataset using XGBoost.\n",
    "\n",
    "In this example, we optimize the accuracy of cancer detection using the XGBoost. The accuracy is\n",
    "estimated by cross-validation. We optimize both the choice of booster model and its\n",
    "hyperparameters.\n",
    "\"\"\"\n",
    "\n",
    "def objective(trial):\n",
    "    # (data, target) = sklearn.datasets.load_breast_cancer(return_X_y=True)\n",
    "    df_X = dd.read_csv(profilesFile, usecols=X_columns, dtype=x_columns_dtype)\n",
    "    df_y = dd.read_csv(profilesFile, usecols=y_columns, dtype=y_columns_dtype)\n",
    "    \n",
    "    dtrain = xgb.DMatrix(df_X, label=df_y)\n",
    "\n",
    "    param = {\n",
    "        \"verbosity\": 0,\n",
    "        \"objective\"  :  \"reg:squarederror\",\n",
    "        \"eval_metric\":  \"rmse\",\n",
    "        \"booster\"    :  \"gbtree\",   ## trial.suggest_categorical(\"booster\", [\"gbtree\", \"gblinear\", \"dart\"]),\n",
    "        \"lambda\": trial.suggest_float(\"lambda\", 1e-8, 1.0, log=True),\n",
    "        \"alpha\": trial.suggest_float(\"alpha\", 1e-8, 1.0, log=True),\n",
    "        # sampling ratio for training data.\n",
    "        \"subsample\": trial.suggest_float(\"subsample\", 0.2, 1.0),\n",
    "        # sampling according to each tree.\n",
    "        \"colsample_bytree\": trial.suggest_float(\"colsample_bytree\", 0.2, 1.0),\n",
    "    }\n",
    "\n",
    "    if param[\"booster\"] == \"gbtree\" or param[\"booster\"] == \"dart\":\n",
    "        param[\"max_depth\"] = trial.suggest_int(\"max_depth\", 1, 9)\n",
    "        # minimum child weight, larger the term more conservative the tree.\n",
    "        param[\"min_child_weight\"] = trial.suggest_int(\"min_child_weight\", 2, 10)\n",
    "        param[\"eta\"] = trial.suggest_float(\"eta\", 1e-8, 1.0, log=True)\n",
    "        param[\"gamma\"] = trial.suggest_float(\"gamma\", 1e-8, 1.0, log=True)\n",
    "        param[\"grow_policy\"] = trial.suggest_categorical(\"grow_policy\", [\"depthwise\", \"lossguide\"])\n",
    "\n",
    "    if param[\"booster\"] == \"dart\":\n",
    "        param[\"sample_type\"] = trial.suggest_categorical(\"sample_type\", [\"uniform\", \"weighted\"])\n",
    "        param[\"normalize_type\"] = trial.suggest_categorical(\"normalize_type\", [\"tree\", \"forest\"])\n",
    "        param[\"rate_drop\"] = trial.suggest_float(\"rate_drop\", 1e-8, 1.0, log=True)\n",
    "        param[\"skip_drop\"] = trial.suggest_float(\"skip_drop\", 1e-8, 1.0, log=True)\n",
    "\n",
    "    xgb_cv_results = xgb.cv(\n",
    "        params=param,\n",
    "        dtrain=dtrain,\n",
    "        num_boost_round=10000,\n",
    "        nfold=N_FOLDS,\n",
    "        stratified=True,\n",
    "        early_stopping_rounds=100,\n",
    "        seed=SEED,\n",
    "        verbose_eval=False,\n",
    "    )\n",
    "\n",
    "    # Set n_estimators as a trial attribute; Accessible via study.trials_dataframe().\n",
    "    trial.set_user_attr(\"n_estimators\", len(xgb_cv_results))\n",
    "\n",
    "    # Save cross-validation results.\n",
    "    filepath = os.path.join(CV_RESULT_DIR, \"{}.csv\".format(trial.number))\n",
    "    xgb_cv_results.to_csv(filepath, index=False)\n",
    "\n",
    "    # Extract the best score.\n",
    "    best_score = xgb_cv_results[\"test-auc-mean\"].values[-1]\n",
    "    return best_score"
   ]
  },
  {
   "cell_type": "code",
   "execution_count": null,
   "metadata": {},
   "outputs": [],
   "source": [
    "if __name__ == \"__main__\":\n",
    "    if not os.path.exists(CV_RESULT_DIR):\n",
    "        os.mkdir(CV_RESULT_DIR)\n",
    "\n",
    "    study = optuna.create_study(direction=\"maximize\")\n",
    "    \n",
    "    study.optimize(objective, n_trials=20, timeout=600)\n",
    "\n",
    "    print(\"Number of finished trials: \", len(study.trials))\n",
    "    print(\"Best trial:\")\n",
    "    trial = study.best_trial\n",
    "\n",
    "    print(\"  Value: {}\".format(trial.value))\n",
    "    print(\"  Params: \")\n",
    "    for key, value in trial.params.items():\n",
    "        print(\"    {}: {}\".format(key, value))\n",
    "\n",
    "    print(\"  Number of estimators: {}\".format(trial.user_attrs[\"n_estimators\"]))\n",
    "\n",
    "    shutil.rmtree(CV_RESULT_DIR)"
   ]
  },
  {
   "cell_type": "code",
   "execution_count": null,
   "metadata": {},
   "outputs": [],
   "source": []
  },
  {
   "cell_type": "code",
   "execution_count": null,
   "metadata": {},
   "outputs": [],
   "source": [
    "start = datetime.now()\n",
    "study = optuna.delete_study(storage=\"sqlite:///example.db\",\n",
    "                            study_name=\"kevin-study-1\")"
   ]
  },
  {
   "cell_type": "code",
   "execution_count": null,
   "metadata": {},
   "outputs": [],
   "source": []
  },
  {
   "cell_type": "markdown",
   "metadata": {
    "heading_collapsed": true,
    "jp-MarkdownHeadingCollapsed": true
   },
   "source": [
    "# XGBoost - Training using XGBoost native interface"
   ]
  },
  {
   "cell_type": "markdown",
   "metadata": {
    "hidden": true
   },
   "source": [
    "**`xgboost.train`** `(params, dtrain, num_boost_round=10, *, `\\\n",
    "`evals=None, obj=None, feval=None, maximize=None, early_stopping_rounds=None, `\\\n",
    "`evals_result=None, verbose_eval=True, xgb_model=None, callbacks=None, custom_metric=None)`\n",
    "\n",
    "**Parameters** \n",
    "\n",
    "**param** `(Dic[str, Any])`  Booster params\n",
    "\n",
    "**tree_method** string [default= auto] - The tree construction algorithm used in XGBoost. See description in the reference paper and Tree Methods. \\\n",
    "Choices: `auto, exact, approx, hist` - this is a combination of commonly used updaters. For other updaters like refresh, set the parameter updater directly.\\\n",
    "    `auto:` Same as the hist tree method.\\\n",
    "    `exact:` Exact greedy algorithm. Enumerates all split candidates.\\\n",
    "    `approx:` Approximate greedy algorithm using quantile sketch and gradient histogram.\\\n",
    "    `hist:` Faster histogram optimized approximate greedy algorithm.y algorithm.\n",
    "\n",
    "**Returns:** Booster: a trained booster model"
   ]
  },
  {
   "cell_type": "code",
   "execution_count": null,
   "metadata": {
    "hidden": true
   },
   "outputs": [],
   "source": [
    "# del output, dtrain"
   ]
  },
  {
   "cell_type": "code",
   "execution_count": null,
   "metadata": {
    "hidden": true,
    "scrolled": true
   },
   "outputs": [],
   "source": [
    " \n",
    "dtrain = xgb.dask.DaskDMatrix(client, train_X, train_y)\n",
    "\n",
    "dval = xgb.dask.DaskDMatrix(client, val_X, val_y)"
   ]
  },
  {
   "cell_type": "code",
   "execution_count": null,
   "metadata": {
    "hidden": true,
    "scrolled": true
   },
   "outputs": [],
   "source": [
    "if __name__ == \"__main__\":\n",
    " \n",
    "    # X and y must be Dask dataframes or arrays\n",
    "    # num_obs = 1e5\n",
    "    # num_features = 20\n",
    "    # X = da.random.random(size=(num_obs, num_features), chunks=(1000, num_features))\n",
    "    # y = da.random.random(size=(num_obs, 1), chunks=(1000, 1))\n",
    "    # dtrain = xgb.dask.DaskDMatrix(client, X, y)\n",
    "    # or\n",
    "    # dtrain = xgb.dask.DaskQuantileDMatrix(client, X, y)\n",
    "    \n",
    "    early_stopping_rounds=20\n",
    "    es = xgb.callback.EarlyStopping(rounds=early_stopping_rounds, save_best=True)\n",
    "    \n",
    "    output = xgb.dask.train(\n",
    "        client,\n",
    "        {\"verbosity\": 2, \"tree_method\": \"hist\", \"objective\": \"reg:squarederror\"},\n",
    "        dtrain,\n",
    "        num_boost_round=200,\n",
    "        evals=[(dtrain, \"train\"), (dval, \"val\")],\n",
    "        # xgb_model= output['booster'],\n",
    "        callbacks = [es],\n",
    "    )"
   ]
  },
  {
   "cell_type": "code",
   "execution_count": null,
   "metadata": {
    "hidden": true
   },
   "outputs": [],
   "source": [
    "\n",
    "type(output['booster'])\n",
    "# output\n",
    "output['booster'][133]\n",
    "output['booster'].best_ntree_limit\n",
    "# output['history']['train']['rmse']\n",
    "# output['history']['val']['rmse']\n",
    "# prev_history = output['history']\n",
    "\n"
   ]
  },
  {
   "cell_type": "code",
   "execution_count": null,
   "metadata": {
    "hidden": true
   },
   "outputs": [],
   "source": [
    "plt.plot(output['history']['train']['rmse']);\n",
    "plt.plot(output['history']['val']['rmse']);"
   ]
  },
  {
   "cell_type": "code",
   "execution_count": null,
   "metadata": {
    "hidden": true
   },
   "outputs": [],
   "source": [
    "import matplotlib.pylab as pylab\n",
    "params = {'legend.fontsize': 'x-large',\n",
    "          'figure.figsize': (15, 5),\n",
    "         'axes.labelsize': 'x-large',\n",
    "         'axes.titlesize':'x-large',\n",
    "         'xtick.labelsize':'x-large',\n",
    "         'ytick.labelsize':'x-large'}\n",
    "pylab.rcParams.update(params)"
   ]
  },
  {
   "cell_type": "code",
   "execution_count": null,
   "metadata": {
    "hidden": true
   },
   "outputs": [],
   "source": [
    "fig = plt.figure(figsize=(20, 20))\n",
    "plt.yticks(fontsize = 12)\n",
    "ax = fig.add_subplot()\n",
    "ax.set_xlim(10,50)\n",
    "ax = xgb.plot_importance(output['booster'], max_num_features= 30, ax = ax)\n",
    "# for label in ( ax.get_xticklabels() + ax.get_yticklabels()):\n",
    "#     label.set_fontsize(22)\n",
    "ax.get_yticklabels()\n",
    "# ax.autoscale(enable=None, axis=\"y\", tight=True)\n"
   ]
  },
  {
   "cell_type": "code",
   "execution_count": null,
   "metadata": {
    "hidden": true
   },
   "outputs": [],
   "source": [
    "output['booster'][133].save_model('./save_20231218_233500_model.json')"
   ]
  },
  {
   "cell_type": "code",
   "execution_count": null,
   "metadata": {
    "hidden": true
   },
   "outputs": [],
   "source": [
    "config = output['booster'][133].save_config()\n",
    "type(config)\n",
    "print(config)"
   ]
  },
  {
   "cell_type": "code",
   "execution_count": null,
   "metadata": {
    "hidden": true
   },
   "outputs": [],
   "source": [
    "output['booster'][133].save_model('./save_20231218_233500_model.json')"
   ]
  },
  {
   "cell_type": "markdown",
   "metadata": {
    "jp-MarkdownHeadingCollapsed": true
   },
   "source": [
    "# Training using XGBoost Scikit-Learn Interface"
   ]
  },
  {
   "cell_type": "markdown",
   "metadata": {
    "execution": {
     "iopub.execute_input": "2023-12-18T16:21:44.632586Z",
     "iopub.status.busy": "2023-12-18T16:21:44.632369Z",
     "iopub.status.idle": "2023-12-18T16:21:44.662923Z",
     "shell.execute_reply": "2023-12-18T16:21:44.661900Z",
     "shell.execute_reply.started": "2023-12-18T16:21:44.632572Z"
    }
   },
   "source": [
    "**XGBRegressor**\n",
    "\n",
    "Implementation of the scikit-learn API for XGBoost regression. See Using the Scikit-Learn Estimator Interface for more information.\n",
    "\n",
    "- **Gamma:** Minimum loss reduction required to make a further partition on a leaf node of the tree. The larger gamma is, the more conservative the algorithm will be.\n",
    "\n",
    "- **max_depth:** Maximum depth of a tree. Increasing this value will make the model more complex and more likely to overfit. 0 indicates no limit on depth. \\\n",
    "  Beware that XGBoost aggressively consumes memory when training a deep tree. exact tree method requires non-zero value.\n",
    "\n",
    "- **min_child_weight:** Minimum sum of instance weight (hessian) needed in a child. If the tree partition step results in a leaf node with the sum of \\\n",
    "  instance weight less than min_child_weight, then the building process will give up further partitioning.\n",
    "\n",
    "- **subsample:** Subsample ratio of the training instances. Setting it to 0.5 means that XGBoost would randomly sample half of the training data prior to growing trees. and this will prevent overfitting.\\\n",
    "   Subsampling will occur once in every boosting iteration.\n",
    "  \n",
    "\n",
    "- **colsample_bytree:** is the subsample ratio of columns when constructing each tree. Subsampling occurs once for every tree constructed.\n",
    "\n",
    "\n",
    "- **lambda:** L2 regularization term on weights. Increasing this value will make model more conservative."
   ]
  },
  {
   "cell_type": "code",
   "execution_count": null,
   "metadata": {
    "ExecuteTime": {
     "end_time": "2023-05-29T13:08:43.483858Z",
     "start_time": "2023-05-29T13:08:43.470308Z"
    }
   },
   "outputs": [],
   "source": [
    "from sklearn.metrics import get_scorer_names\n",
    "# pp.pprint(get_scorer_names())\n",
    "# for i in get_scorer_names() :\n",
    "#     if \"error\" in i:\n",
    "#         print(i)"
   ]
  },
  {
   "cell_type": "code",
   "execution_count": null,
   "metadata": {},
   "outputs": [],
   "source": [
    "early_stop = xgb.callback.EarlyStopping(rounds=10, \n",
    "                                        metric_name='rmse', \n",
    "                                        # data_name='Validation_0', \n",
    "                                        save_best=True, \n",
    "                                        maximize = False,\n",
    ")"
   ]
  },
  {
   "cell_type": "code",
   "execution_count": null,
   "metadata": {},
   "outputs": [],
   "source": [
    "early_stop.best_scores\n",
    "early_stop.metric_name\n",
    "early_stop.current_rounds\n",
    "# early_stop.stopping_history\n",
    "# len(early_stop.best_scores['validation_']['rmse'])"
   ]
  },
  {
   "cell_type": "code",
   "execution_count": null,
   "metadata": {
    "ExecuteTime": {
     "end_time": "2023-12-21T20:51:27.276277Z",
     "start_time": "2023-12-21T20:51:27.258417Z"
    }
   },
   "outputs": [],
   "source": [
    "xgb_reg = xgb.XGBRegressor(random_state =123, \n",
    "                           n_jobs=None,\n",
    "                           objective ='reg:squarederror', \n",
    "                           eval_metric = \"rmse\",\n",
    "                           tree_method='hist', \n",
    "                           # early_stopping_rounds= 4,\n",
    "                           booster = 'gbtree', \n",
    "                           # device = \"cuda\",\n",
    "                           # gpu_id = 0,\n",
    "                           # client = client, \n",
    "                           verbosity=2,\n",
    "                           # subsample = 1,\n",
    "                           # sampling_method=\"uniform\",\n",
    "                           # callbacks = [early_stop],\n",
    "                          )\n",
    "# xgb.XGBRFRegressor \n",
    "# xgb.XGBModel"
   ]
  },
  {
   "cell_type": "code",
   "execution_count": null,
   "metadata": {},
   "outputs": [],
   "source": [
    "\n",
    "# xgb_reg.set_params(tree_method=\"hist\", device = \"cuda\")\n",
    "# xgb_reg.set_params(early_stopping_rounds= 3)\n",
    "# xgb_reg.set_params(gpu_id = 0)\n",
    "# xgb.client = client"
   ]
  },
  {
   "cell_type": "code",
   "execution_count": null,
   "metadata": {
    "ExecuteTime": {
     "end_time": "2023-05-29T13:08:43.435878Z",
     "start_time": "2023-05-29T13:08:43.422634Z"
    }
   },
   "outputs": [],
   "source": [
    "print('Default Parameters :\\n')\n",
    "pp.pprint(xgb_reg.get_params())"
   ]
  },
  {
   "cell_type": "code",
   "execution_count": null,
   "metadata": {},
   "outputs": [],
   "source": [
    "# xgb_pcfp = model_selection(xgb_reg, \n",
    "                           # xgb_grid_parameters, train_X, train_y, \n",
    "                           # scoring =  'neg_mean_squared_error', cv=5, \n",
    "                           # GridSearch = True, \n",
    "                           # n_iter=30, \n",
    "                           # n_jobs=6, \n",
    "                           # verbose= 3)"
   ]
  },
  {
   "cell_type": "code",
   "execution_count": null,
   "metadata": {},
   "outputs": [],
   "source": [
    "# xgb_reg.fit(train_X, train_y, verbose = 3, eval_set=[(train_X, train_y), (val_X, val_y)])\n"
   ]
  },
  {
   "cell_type": "code",
   "execution_count": null,
   "metadata": {
    "ExecuteTime": {
     "end_time": "2023-12-21T20:51:47.413295Z",
     "start_time": "2023-12-21T20:51:47.395575Z"
    }
   },
   "outputs": [],
   "source": [
    "# model_train = GridSearchCV(xgb_reg, xgb_grid_parameters, \n",
    "#                                # cv=3, \n",
    "#                                n_jobs = 1,\n",
    "#                                scoring = None,\n",
    "#                                # refit = True,\n",
    "#                           )\n",
    "model_train = IncrementalSearchCV(xgb_reg, \n",
    "                                  xgb_grid_parameters, \n",
    "                                  n_initial_parameters=1,\n",
    "                                  # cv=3, \n",
    "                                  # n_jobs = 1,\n",
    "                                    patience = 5,\n",
    "                                    random_state = 1234, \n",
    "                               scoring = None,\n",
    "                               # refit = True,\n",
    "                          )"
   ]
  },
  {
   "cell_type": "code",
   "execution_count": null,
   "metadata": {
    "ExecuteTime": {
     "start_time": "2023-12-21T20:51:49.289Z"
    },
    "scrolled": true
   },
   "outputs": [],
   "source": [
    "with joblib.parallel_backend('dask'):\n",
    "    # model_train.fit(train_X, train_y, eval_set=[(train_X, train_y),(val_X, val_y)],  verbose = 3 )\n",
    "    model_train.fit(train_X, train_y, eval_set=[(train_X, train_y),(val_X, val_y)], verbose = 3 )"
   ]
  },
  {
   "cell_type": "code",
   "execution_count": null,
   "metadata": {},
   "outputs": [],
   "source": [
    "bst = xgb_reg.get_booster()\n",
    "history = xgb_reg.evals_result()"
   ]
  },
  {
   "cell_type": "code",
   "execution_count": null,
   "metadata": {},
   "outputs": [],
   "source": [
    "# history\n",
    "xgb_reg.best_iteration\n",
    "xgb_reg.base_score\n",
    "xgb_reg.best_ntree_limit\n",
    "# xgb_reg.best_score\n",
    "xgb_reg.callbacks\n",
    "xgb_reg.eval_metric\n",
    "type(bst)"
   ]
  },
  {
   "cell_type": "code",
   "execution_count": null,
   "metadata": {},
   "outputs": [],
   "source": [
    "# len(xgb_reg.feature_importances_[xgb_reg.feature_importances_ < 1e-06])\n",
    "xgb_reg.feature_importances_ \n",
    "xgb_reg.feature_names_in_\n",
    "xgb_reg.n_features_in_\n",
    " "
   ]
  },
  {
   "cell_type": "code",
   "execution_count": null,
   "metadata": {
    "scrolled": true
   },
   "outputs": [],
   "source": [
    "train_score = xgb_reg.score(train_X, train_y)\n",
    "\n",
    "val_score = xgb_reg.score(val_X, val_y)\n",
    "\n",
    "test_score = xgb_reg.score(test_X, test_y)"
   ]
  },
  {
   "cell_type": "code",
   "execution_count": null,
   "metadata": {},
   "outputs": [],
   "source": [
    "print(f\" R2 score - Training   : {train_score:0.6f}\")\n",
    "print(f\" R2 score - Validation : {val_score:0.6f}\")\n",
    "print(f\" R2 score - Test data  : {test_score:0.6f}\")"
   ]
  },
  {
   "cell_type": "code",
   "execution_count": null,
   "metadata": {},
   "outputs": [],
   "source": [
    "fig = plt.figure(figsize=(20, 20))\n",
    "plt.yticks(fontsize = 12)\n",
    "ax = fig.add_subplot()\n",
    "ax.set_xlim(10,50)\n",
    "ax = xgb.plot_importance(xgb_reg, max_num_features= 30, ax = ax)\n",
    "# for label in ( ax.get_xticklabels() + ax.get_yticklabels()):\n",
    "#     label.set_fontsize(22)\n",
    "ax.get_yticklabels()\n",
    "# ax.autoscale(enable=None, axis=\"y\", tight=True)"
   ]
  },
  {
   "cell_type": "markdown",
   "metadata": {},
   "source": [
    "## Comments"
   ]
  },
  {
   "cell_type": "code",
   "execution_count": null,
   "metadata": {
    "ExecuteTime": {
     "end_time": "2023-05-29T13:06:58.842127Z",
     "start_time": "2023-05-29T13:06:58.768177Z"
    }
   },
   "outputs": [],
   "source": [
    "# idx = my_enumerator()\n",
    "# fn = model_selectiona\n",
    "# args = (1,xgb_reg, xgb_grid_parameters, train_X, train_y)\n",
    "\n",
    "# kwargs = dict({'scoring':'neg_mean_squared_error', 'cv':5, 'GridSearch':True, 'n_iter':30, 'n_jobs':6, 'verbose': 4}) \n",
    " \n",
    "# start_time = time.perf_counter()\n",
    "# print(f\" {datetime.now().strftime('%X.%f')} | Started \")   \n",
    "# pool = Pool(processes=2)\n",
    "\n",
    "# # result = pool.starmap_async(get_pharmacophores, enumerate(df_iterator)) \n",
    "# # results = starmap_with_kwargs_async(pool, fn, args, kwargs, processes = 1)\n",
    "# results = pool.apply_async(fn,args, kwargs)\n",
    "\n",
    "# print(f\" {datetime.now().strftime('%X.%f')} | starmap_with_kwargs_async() | close pool. . .  \") \n",
    "# pool.close()\n",
    "\n",
    "# print(f\" {datetime.now().strftime('%X.%f')} | starmap_with_kwargs_async() | Waiting for results. . .  \")    "
   ]
  },
  {
   "cell_type": "code",
   "execution_count": null,
   "metadata": {
    "ExecuteTime": {
     "end_time": "2023-05-29T06:46:05.202291Z",
     "start_time": "2023-05-29T06:42:57.543329Z"
    },
    "scrolled": true
   },
   "outputs": [],
   "source": [
    "# %%time\n",
    "\n",
    "## returns: a: labeled_feature, b: unlabeled_feature, c: labeled_Y, d: df_labeled.index, e: df_unlabled.index\n",
    "# a,b,c,d,e = prepare_input(train_labels, train_ecfp6_bits, target = 'logLD50_mmolkg', encoder = None)\n",
    "\n",
    "## Calls \n",
    "# xgb_pcfp = model_selection(xgb_reg, \n",
    "                           # xgb_grid_parameters, train_X, train_y, \n",
    "                           # scoring =  'neg_mean_squared_error', cv=5, \n",
    "                           # GridSearch = True, \n",
    "                           # n_iter=30, \n",
    "                           # n_jobs=6, \n",
    "                           # verbose= 3)"
   ]
  },
  {
   "cell_type": "code",
   "execution_count": null,
   "metadata": {
    "ExecuteTime": {
     "end_time": "2023-05-29T13:14:06.717763Z",
     "start_time": "2023-05-29T13:14:06.714456Z"
    }
   },
   "outputs": [],
   "source": [
    "#  verbose is 3\n",
    "# Fitting 5 folds for each of 8 candidates, totalling 40 fits\n",
    "# Best parameters set found on development set: {'colsample_bytree': 0.5, 'gamma': 2.5, 'learning_rate': 0.1, 'max_depth': 15, 'min_child_weight': 3, 'n_estimators': 1500, 'subsample': 0.5}\n",
    "# Best score: -0.06345690434364994\n",
    "# Grid scores on development set:\n",
    "\n",
    "# -0.06349 (+/-0.002) for {'colsample_bytree': 0.5, 'gamma': 2.5, 'learning_rate': 0.1, 'max_depth': 15, 'min_child_weight': 2, 'n_estimators': 1500, 'subsample': 0.5}\n",
    "# -0.06346 (+/-0.002) for {'colsample_bytree': 0.5, 'gamma': 2.5, 'learning_rate': 0.1, 'max_depth': 15, 'min_child_weight': 3, 'n_estimators': 1500, 'subsample': 0.5}\n",
    "# -0.06505 (+/-0.002) for {'colsample_bytree': 0.5, 'gamma': 3, 'learning_rate': 0.1, 'max_depth': 15, 'min_child_weight': 2, 'n_estimators': 1500, 'subsample': 0.5}\n",
    "# -0.06508 (+/-0.002) for {'colsample_bytree': 0.5, 'gamma': 3, 'learning_rate': 0.1, 'max_depth': 15, 'min_child_weight': 3, 'n_estimators': 1500, 'subsample': 0.5}\n",
    "# -0.06638 (+/-0.002) for {'colsample_bytree': 0.5, 'gamma': 3.5, 'learning_rate': 0.1, 'max_depth': 15, 'min_child_weight': 2, 'n_estimators': 1500, 'subsample': 0.5}\n",
    "# -0.06638 (+/-0.002) for {'colsample_bytree': 0.5, 'gamma': 3.5, 'learning_rate': 0.1, 'max_depth': 15, 'min_child_weight': 3, 'n_estimators': 1500, 'subsample': 0.5}\n",
    "# -0.06788 (+/-0.002) for {'colsample_bytree': 0.5, 'gamma': 4, 'learning_rate': 0.1, 'max_depth': 15, 'min_child_weight': 2, 'n_estimators': 1500, 'subsample': 0.5}\n",
    "# -0.06788 (+/-0.002) for {'colsample_bytree': 0.5, 'gamma': 4, 'learning_rate': 0.1, 'max_depth': 15, 'min_child_weight': 3, 'n_estimators': 1500, 'subsample': 0.5}\n",
    "# CPU times: user 6.46 s, sys: 286 ms, total: 6.74 s\n",
    "# Wall time: 3min 7s\n",
    "    \n",
    "#     \tmodel\tparams\tmean score\tstd score\trank\n",
    "# 0\txgb_pcfp\t{'colsample_bytree': 0.5, 'gamma': 2.5, 'learn...\t-0.063492\t0.001178\t2\n",
    "# 1\txgb_pcfp\t{'colsample_bytree': 0.5, 'gamma': 2.5, 'learn...\t-0.063457\t0.001010\t1\n",
    "# 2\txgb_pcfp\t{'colsample_bytree': 0.5, 'gamma': 3, 'learnin...\t-0.065046\t0.000987\t3\n",
    "# 3\txgb_pcfp\t{'colsample_bytree': 0.5, 'gamma': 3, 'learnin...\t-0.065080\t0.000957\t4\n",
    "# 4\txgb_pcfp\t{'colsample_bytree': 0.5, 'gamma': 3.5, 'learn...\t-0.066377\t0.001204\t5\n",
    "# 5\txgb_pcfp\t{'colsample_bytree': 0.5, 'gamma': 3.5, 'learn...\t-0.066377\t0.001204\t5\n",
    "# 6\txgb_pcfp\t{'colsample_bytree': 0.5, 'gamma': 4, 'learnin...\t-0.067878\t0.001242\t7\n",
    "# 7\txgb_pcfp\t{'colsample_bytree': 0.5, 'gamma': 4, 'learnin...\t-0.067878\t0.001242\t7"
   ]
  },
  {
   "cell_type": "code",
   "execution_count": null,
   "metadata": {
    "ExecuteTime": {
     "end_time": "2023-05-29T06:46:59.045989Z",
     "start_time": "2023-05-29T06:46:58.921341Z"
    }
   },
   "outputs": [],
   "source": [
    "# df_results = result_model_selection(results = xgb_pcfp, name='xgb_pcfp');\n",
    "# df_results"
   ]
  },
  {
   "cell_type": "code",
   "execution_count": null,
   "metadata": {
    "ExecuteTime": {
     "end_time": "2023-05-29T13:14:32.636531Z",
     "start_time": "2023-05-29T13:14:32.633881Z"
    }
   },
   "outputs": [],
   "source": [
    "# df_results.sort_values('rank')"
   ]
  },
  {
   "cell_type": "code",
   "execution_count": null,
   "metadata": {},
   "outputs": [],
   "source": []
  },
  {
   "cell_type": "code",
   "execution_count": null,
   "metadata": {
    "ExecuteTime": {
     "end_time": "2023-05-29T13:13:55.010803Z",
     "start_time": "2023-05-29T13:13:55.007705Z"
    }
   },
   "outputs": [],
   "source": [
    "# df_results.loc[1].params - \n",
    "# {'colsample_bytree': 0.5,\n",
    "#  'gamma': 2.5,\n",
    "#  'learning_rate': 0.1,\n",
    "#  'max_depth': 15,\n",
    "#  'min_child_weight': 3,\n",
    "#  'n_estimators': 1500,\n",
    "#  'subsample': 0.5} \n",
    "\n",
    "\n",
    "# df_results.loc[2].params = \n",
    "# {'colsample_bytree': 0.5,\n",
    "#  'gamma': 2.5,\n",
    "#  'learning_rate': 0.1,\n",
    "#  'max_depth': 15,\n",
    "#  'min_child_weight': 3,\n",
    "#  'n_estimators': 1500,\n",
    "#  'subsample': 0.5}\n",
    "\n",
    "# df_results.loc[12].params"
   ]
  },
  {
   "cell_type": "code",
   "execution_count": null,
   "metadata": {
    "ExecuteTime": {
     "end_time": "2023-05-28T14:01:07.309204Z",
     "start_time": "2023-05-28T14:01:07.217230Z"
    }
   },
   "outputs": [],
   "source": [
    "ALL_RESULTS = []\n",
    "ALL_RESULTS.append(df_results)"
   ]
  }
 ],
 "metadata": {
  "kernelspec": {
   "display_name": "Python [conda env:cellpainting]",
   "language": "python",
   "name": "conda-env-cellpainting-py"
  },
  "language_info": {
   "codemirror_mode": {
    "name": "ipython",
    "version": 3
   },
   "file_extension": ".py",
   "mimetype": "text/x-python",
   "name": "python",
   "nbconvert_exporter": "python",
   "pygments_lexer": "ipython3",
   "version": "3.11.4"
  },
  "toc": {
   "base_numbering": 1,
   "nav_menu": {},
   "number_sections": true,
   "sideBar": true,
   "skip_h1_title": false,
   "title_cell": "Table of Contents",
   "title_sidebar": "Contents",
   "toc_cell": false,
   "toc_position": {
    "height": "calc(100% - 180px)",
    "left": "10px",
    "top": "150px",
    "width": "380.631px"
   },
   "toc_section_display": true,
   "toc_window_display": false
  }
 },
 "nbformat": 4,
 "nbformat_minor": 4
}
