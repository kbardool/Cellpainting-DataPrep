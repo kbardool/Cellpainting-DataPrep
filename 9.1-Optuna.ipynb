{
 "cells": [
  {
   "cell_type": "markdown",
   "metadata": {
    "editable": true,
    "slideshow": {
     "slide_type": ""
    },
    "tags": []
   },
   "source": [
    "# Optuna"
   ]
  },
  {
   "cell_type": "markdown",
   "metadata": {
    "slideshow": {
     "slide_type": ""
    },
    "tags": []
   },
   "source": [
    "**Using Optuna for hyper-parameter search  to predict TPSA from morphology profiles**"
   ]
  },
  {
   "cell_type": "markdown",
   "metadata": {},
   "source": [
    "# Initialization"
   ]
  },
  {
   "cell_type": "code",
   "execution_count": 1,
   "metadata": {
    "ExecuteTime": {
     "end_time": "2023-12-21T20:50:25.298115Z",
     "start_time": "2023-12-21T20:50:24.855884Z"
    },
    "execution": {
     "iopub.execute_input": "2024-08-06T19:03:11.965754Z",
     "iopub.status.busy": "2024-08-06T19:03:11.965060Z",
     "iopub.status.idle": "2024-08-06T19:03:13.132068Z",
     "shell.execute_reply": "2024-08-06T19:03:13.129361Z",
     "shell.execute_reply.started": "2024-08-06T19:03:11.965699Z"
    }
   },
   "outputs": [
    {
     "data": {
      "text/html": [
       "<style>.container { width:98% !important; }</style>"
      ],
      "text/plain": [
       "<IPython.core.display.HTML object>"
      ]
     },
     "metadata": {},
     "output_type": "display_data"
    }
   ],
   "source": [
    "from IPython.display import display, HTML\n",
    "display(HTML(\"<style>.container { width:98% !important; }</style>\"))\n",
    "%load_ext autoreload  \n",
    "%autoreload 2\n",
    "from IPython.core.interactiveshell import InteractiveShell\n",
    "InteractiveShell.ast_node_interactivity = \"all\"\n",
    "%matplotlib inline"
   ]
  },
  {
   "cell_type": "code",
   "execution_count": null,
   "metadata": {},
   "outputs": [],
   "source": []
  },
  {
   "cell_type": "markdown",
   "metadata": {},
   "source": [
    "## imports "
   ]
  },
  {
   "cell_type": "code",
   "execution_count": 2,
   "metadata": {
    "ExecuteTime": {
     "end_time": "2023-12-21T20:50:28.460258Z",
     "start_time": "2023-12-21T20:50:25.868966Z"
    },
    "editable": true,
    "execution": {
     "iopub.execute_input": "2024-08-06T19:03:13.138615Z",
     "iopub.status.busy": "2024-08-06T19:03:13.137503Z",
     "iopub.status.idle": "2024-08-06T19:03:22.472216Z",
     "shell.execute_reply": "2024-08-06T19:03:22.470367Z",
     "shell.execute_reply.started": "2024-08-06T19:03:13.138566Z"
    },
    "slideshow": {
     "slide_type": ""
    },
    "tags": []
   },
   "outputs": [
    {
     "name": "stdout",
     "output_type": "stream",
     "text": [
      "insert ./src\n",
      "insert ../..\n",
      "['../..', './src', '/home/kevin/WSL-shared/cellpainting/cj-datasets', '/home/kevin/miniforge3/envs/cp311/lib/python311.zip', '/home/kevin/miniforge3/envs/cp311/lib/python3.11', '/home/kevin/miniforge3/envs/cp311/lib/python3.11/lib-dynload', '', '/home/kevin/miniforge3/envs/cp311/lib/python3.11/site-packages', '/home/kevin/miniforge3/envs/cp311/lib/python3.11/site-packages/huggingface_hub-0.20.3-py3.8.egg']\n"
     ]
    },
    {
     "name": "stderr",
     "output_type": "stream",
     "text": [
      "/home/kevin/miniforge3/envs/cp311/lib/python3.11/site-packages/dask/dataframe/_pyarrow_compat.py:17: FutureWarning: Minimal version of pyarrow will soon be increased to 14.0.1. You are using 11.0.0. Please consider upgrading.\n",
      "  warnings.warn(\n"
     ]
    }
   ],
   "source": [
    "# Models\n",
    "import os, sys\n",
    "import math\n",
    "import pickle\n",
    "import itertools\n",
    "import copy \n",
    "import joblib\n",
    "import logging \n",
    "import types\n",
    "import joblib\n",
    "\n",
    "from datetime import datetime, time\n",
    "from collections.abc import Iterator\n",
    "for p in ['./src','../..']:\n",
    "    if p not in sys.path:\n",
    "        print(f\"insert {p}\")\n",
    "        sys.path.insert(0, p)\n",
    "print(sys.path)\n",
    "\n",
    "import numpy as np\n",
    "np.set_printoptions(edgeitems=3, infstr='inf', linewidth=150, nanstr='nan')\n",
    "\n",
    "import pandas as pd\n",
    "pd.options.display.width = 170\n",
    "\n",
    "import scipy.stats as sps \n",
    "\n",
    "import matplotlib.pyplot as plt\n",
    "\n",
    "from pprint import PrettyPrinter\n",
    "pp = PrettyPrinter(indent=4)\n",
    "from collections import defaultdict\n",
    "from utils.utils_cellpainting import *\n",
    "from KevinsRoutines.utils.utils_gpu import display_gpu_info, display_gpu_device_info\n",
    "# (initialize, init_dataloaders, init_environment, init_wandb, training_initializations, model_initializations, \n",
    "\n",
    "\n",
    "import warnings\n",
    "warnings.filterwarnings('ignore')"
   ]
  },
  {
   "cell_type": "code",
   "execution_count": 3,
   "metadata": {
    "editable": true,
    "execution": {
     "iopub.execute_input": "2024-08-06T19:03:22.476368Z",
     "iopub.status.busy": "2024-08-06T19:03:22.474917Z",
     "iopub.status.idle": "2024-08-06T19:03:22.559909Z",
     "shell.execute_reply": "2024-08-06T19:03:22.558587Z",
     "shell.execute_reply.started": "2024-08-06T19:03:22.476318Z"
    },
    "slideshow": {
     "slide_type": ""
    },
    "tags": []
   },
   "outputs": [],
   "source": [
    "# display_gpu_info()"
   ]
  },
  {
   "cell_type": "code",
   "execution_count": 4,
   "metadata": {
    "execution": {
     "iopub.execute_input": "2024-08-06T19:03:22.563923Z",
     "iopub.status.busy": "2024-08-06T19:03:22.563026Z",
     "iopub.status.idle": "2024-08-06T19:03:22.648572Z",
     "shell.execute_reply": "2024-08-06T19:03:22.647534Z",
     "shell.execute_reply.started": "2024-08-06T19:03:22.563869Z"
    }
   },
   "outputs": [
    {
     "name": "stdout",
     "output_type": "stream",
     "text": [
      "\n",
      " datetime.now().strftime('%x%X')                     : 08/06/2421:03:22\n",
      " datetime.now().strftime('%X %x %Z')                 : 21:03:22 08/06/24 \n",
      " datetime.now().strftime('%X.%f')                    : 21:03:22.643271\n",
      " datetime.now().strftime('%D-%X.%f')                 : 08/06/24-21:03:22.643310\n",
      " datetime.now().strftime('%Y-%m-%d %H:%M:%S.%f')     : 2024-08-06 21:03:22.643341\n"
     ]
    }
   ],
   "source": [
    "logLevel = os.environ.get('LOG_LEVEL', 'INFO').upper()\n",
    "FORMAT = '%(asctime)s - %(levelname)s: - %(message)s'\n",
    "logging.basicConfig(level=\"INFO\", format= FORMAT)\n",
    "logging.getLogger(\"imported_module\").setLevel(logging.CRITICAL)\n",
    "# logging.info(f\" 1/7- engine connected\")\n",
    "# logging.warning(f\" 1/7- engine connected\")\n",
    "# logging.error(f\" 1/7- engine connected\")\n",
    "# logging.critical(f\" 1/7- engine connected\")\n",
    "print()\n",
    "for time_fmt in ['%x%X', '%X %x %Z', '%X.%f', '%D-%X.%f', '%Y-%m-%d %H:%M:%S.%f']:\n",
    "    cmd_string = f\"datetime.now().strftime('{time_fmt}')\"\n",
    "    print(f\" {cmd_string:50s}  : {datetime.now().strftime(time_fmt)}\")"
   ]
  },
  {
   "cell_type": "code",
   "execution_count": null,
   "metadata": {},
   "outputs": [],
   "source": []
  },
  {
   "cell_type": "code",
   "execution_count": null,
   "metadata": {},
   "outputs": [],
   "source": []
  },
  {
   "cell_type": "code",
   "execution_count": 5,
   "metadata": {
    "execution": {
     "iopub.execute_input": "2024-08-06T19:03:22.650436Z",
     "iopub.status.busy": "2024-08-06T19:03:22.649961Z",
     "iopub.status.idle": "2024-08-06T19:03:22.727773Z",
     "shell.execute_reply": "2024-08-06T19:03:22.726765Z",
     "shell.execute_reply.started": "2024-08-06T19:03:22.650392Z"
    }
   },
   "outputs": [],
   "source": [
    "def disp_study_history(study):\n",
    " \n",
    "    print(f\"\\n\\n Study  : {study.study_name}\")\n",
    "    print(f\" Metrics: {study.metric_names}\")\n",
    "    metric_0_ttl = study.metric_names[0] if study.metric_names is not None else 'n/a'\n",
    "    metric_1_ttl = study.metric_names[1] if study.metric_names is not None else 'n/a'\n",
    "    print()\n",
    "    print(f\"                start     -   completion      status        validation metrics\")\n",
    "    print(f\" trial#         time      -      time          code      {metric_0_ttl}        {metric_1_ttl}\")\n",
    "    print(\"-\"*80)\n",
    "    for st in study.trials:\n",
    "        dt_start = st.datetime_start.strftime('%Y-%m-%d   %H:%M:%S') if st.datetime_start is not None else '-- n/a --' \n",
    "        dt_end   = st.datetime_complete.strftime('%H:%M:%S') if st.datetime_complete is not None else ' -n/a- ' \n",
    "        print(f\"Trial #: {st.number:<4d} {dt_start:^21s} - {dt_end:^8s}  {st.state:3d}  \", end=\"\")\n",
    "        if st.state == TrialState.COMPLETE:\n",
    "            print(f\" {st.values[0]:10.5f}   {st.values[1]:12.5f}    {st.user_attrs.get('memo', '')}\")\n",
    "        elif st.state == TrialState.RUNNING:\n",
    "            print(f\"        *** RUNNING ***       {st.user_attrs.get('memo', '')}\")            \n",
    "        elif st.state == TrialState.PRUNED:\n",
    "            print(f\"        *** PRUNED ***        {st.user_attrs.get('memo', '')}\")\n",
    "        elif st.state == TrialState.FAIL:\n",
    "            print(f\"        *** FAILED ***        {st.user_attrs.get('memo', '')}\")\n",
    "        elif st.state == TrialState.WAITING:\n",
    "            print(f\"        *** WAITING ***       {st.user_attrs.get('memo', '')}\")            \n",
    "        else:\n",
    "            print(\"\\n\")\n",
    "    print(\" *** end of trials *** \")\n",
    "    print(\" Best trials: \", [x.number for x in study.best_trials])    \n",
    "    "
   ]
  },
  {
   "cell_type": "markdown",
   "metadata": {},
   "source": [
    "# Open Optuna databases "
   ]
  },
  {
   "cell_type": "markdown",
   "metadata": {
    "execution": {
     "iopub.execute_input": "2024-02-11T12:53:22.650056Z",
     "iopub.status.busy": "2024-02-11T12:53:22.649626Z",
     "iopub.status.idle": "2024-02-11T12:53:22.690698Z",
     "shell.execute_reply": "2024-02-11T12:53:22.689762Z",
     "shell.execute_reply.started": "2024-02-11T12:53:22.650019Z"
    }
   },
   "source": [
    "  #### Address for optuna dashboard repository:  `sqlite:////home/kevin/WSL-shared/Cellpainting/cj-datasets/optuna_database.db`\n"
   ]
  },
  {
   "cell_type": "code",
   "execution_count": 6,
   "metadata": {
    "execution": {
     "iopub.execute_input": "2024-08-06T19:03:32.462720Z",
     "iopub.status.busy": "2024-08-06T19:03:32.462119Z",
     "iopub.status.idle": "2024-08-06T19:03:32.528258Z",
     "shell.execute_reply": "2024-08-06T19:03:32.527190Z",
     "shell.execute_reply.started": "2024-08-06T19:03:32.462675Z"
    }
   },
   "outputs": [],
   "source": [
    "import optuna\n",
    "import sqlite3\n",
    "import pandas as pd"
   ]
  },
  {
   "cell_type": "code",
   "execution_count": 7,
   "metadata": {
    "execution": {
     "iopub.execute_input": "2024-08-06T19:03:32.837223Z",
     "iopub.status.busy": "2024-08-06T19:03:32.836600Z",
     "iopub.status.idle": "2024-08-06T19:03:32.911219Z",
     "shell.execute_reply": "2024-08-06T19:03:32.910078Z",
     "shell.execute_reply.started": "2024-08-06T19:03:32.837171Z"
    }
   },
   "outputs": [],
   "source": [
    "# del storage, storage_example, storage_instance"
   ]
  },
  {
   "cell_type": "code",
   "execution_count": 10,
   "metadata": {
    "execution": {
     "iopub.execute_input": "2024-08-06T19:04:15.474698Z",
     "iopub.status.busy": "2024-08-06T19:04:15.474113Z",
     "iopub.status.idle": "2024-08-06T19:04:15.547650Z",
     "shell.execute_reply": "2024-08-06T19:04:15.546399Z",
     "shell.execute_reply.started": "2024-08-06T19:04:15.474654Z"
    }
   },
   "outputs": [],
   "source": [
    "# db_1 = \"example.db\"\n",
    "# db_2 = \"example_copy.db\"\n",
    "# db_3 = \"optuna_data.db\"\n",
    "# sqlite_1 = \"sqlite:///example.db\"\n",
    "# sqlite_2 = \"sqlite:///example_copy.db\"\n",
    "# sqlite_3 = \"sqlite:///optuna_data.db\"\n",
    "# storage_1 = optuna.storages.RDBStorage(\n",
    "#     url=sqlite_1,\n",
    "#     heartbeat_interval=60,\n",
    "#     grace_period=120,\n",
    "#     failed_trial_callback=RetryFailedTrialCallback(max_retry=3),\n",
    "# )\n",
    "\n",
    "# storage_2 = optuna.storages.RDBStorage(\n",
    "#     url=sqlite_2,\n",
    "#     heartbeat_interval=60,\n",
    "#     grace_period=120,\n",
    "#     failed_trial_callback=RetryFailedTrialCallback(max_retry=3),\n",
    "# )\n",
    "\n",
    "# storage_3= optuna.storages.RDBStorage(\n",
    "#     url=sqlite_3,\n",
    "#     heartbeat_interval=60,\n",
    "#     grace_period=120,\n",
    "#     failed_trial_callback=RetryFailedTrialCallback(max_retry=3),\n",
    "# )"
   ]
  },
  {
   "cell_type": "code",
   "execution_count": 11,
   "metadata": {
    "execution": {
     "iopub.execute_input": "2024-08-06T19:04:17.045913Z",
     "iopub.status.busy": "2024-08-06T19:04:17.045212Z",
     "iopub.status.idle": "2024-08-06T19:04:17.193841Z",
     "shell.execute_reply": "2024-08-06T19:04:17.192345Z",
     "shell.execute_reply.started": "2024-08-06T19:04:17.045866Z"
    }
   },
   "outputs": [],
   "source": [
    "db_4 = \"optuna_database.db\"\n",
    "sqlite_4 = \"sqlite:///optuna_database.db\""
   ]
  },
  {
   "cell_type": "code",
   "execution_count": 12,
   "metadata": {
    "execution": {
     "iopub.execute_input": "2024-08-06T19:04:21.255949Z",
     "iopub.status.busy": "2024-08-06T19:04:21.255222Z",
     "iopub.status.idle": "2024-08-06T19:04:21.780197Z",
     "shell.execute_reply": "2024-08-06T19:04:21.778555Z",
     "shell.execute_reply.started": "2024-08-06T19:04:21.255898Z"
    }
   },
   "outputs": [],
   "source": [
    "## https://optuna.readthedocs.io/en/stable/reference/generated/optuna.storages.RetryFailedTrialCallback.html\n",
    "\n",
    "from optuna.storages import RetryFailedTrialCallback\n",
    "\n",
    "\n",
    "storage_4 = optuna.storages.RDBStorage(\n",
    "    url=sqlite_4,\n",
    "    heartbeat_interval=60,\n",
    "    grace_period=120,\n",
    "    failed_trial_callback=RetryFailedTrialCallback(max_retry=3),\n",
    ")"
   ]
  },
  {
   "cell_type": "code",
   "execution_count": 10,
   "metadata": {
    "execution": {
     "iopub.execute_input": "2024-07-31T21:42:44.649546Z",
     "iopub.status.busy": "2024-07-31T21:42:44.649119Z",
     "iopub.status.idle": "2024-07-31T21:42:44.689610Z",
     "shell.execute_reply": "2024-07-31T21:42:44.688894Z",
     "shell.execute_reply.started": "2024-07-31T21:42:44.649512Z"
    }
   },
   "outputs": [],
   "source": [
    "# study_name=\"classification-study-1\"\n",
    "# study_name_clone=\"classification-study-1-clone\""
   ]
  },
  {
   "cell_type": "code",
   "execution_count": 13,
   "metadata": {
    "editable": true,
    "execution": {
     "iopub.execute_input": "2024-08-06T19:04:39.123644Z",
     "iopub.status.busy": "2024-08-06T19:04:39.123114Z",
     "iopub.status.idle": "2024-08-06T19:04:39.209349Z",
     "shell.execute_reply": "2024-08-06T19:04:39.208090Z",
     "shell.execute_reply.started": "2024-08-06T19:04:39.123600Z"
    },
    "slideshow": {
     "slide_type": ""
    },
    "tags": []
   },
   "outputs": [],
   "source": [
    "with sqlite3.connect(db_4) as conn:\n",
    "    # conn.row_factory = sqlite3.Row\n",
    "    tables = conn.execute(\"SELECT tbl_name FROM sqlite_master WHERE type='table';\").fetchall()\n",
    "    tables = [t[0] for t in tables]"
   ]
  },
  {
   "cell_type": "code",
   "execution_count": 14,
   "metadata": {
    "execution": {
     "iopub.execute_input": "2024-08-06T19:04:40.241486Z",
     "iopub.status.busy": "2024-08-06T19:04:40.241001Z",
     "iopub.status.idle": "2024-08-06T19:04:40.318812Z",
     "shell.execute_reply": "2024-08-06T19:04:40.317729Z",
     "shell.execute_reply.started": "2024-08-06T19:04:40.241445Z"
    }
   },
   "outputs": [
    {
     "data": {
      "text/plain": [
       "['studies',\n",
       " 'version_info',\n",
       " 'study_directions',\n",
       " 'study_user_attributes',\n",
       " 'study_system_attributes',\n",
       " 'trials',\n",
       " 'trial_user_attributes',\n",
       " 'trial_system_attributes',\n",
       " 'trial_params',\n",
       " 'trial_values',\n",
       " 'trial_intermediate_values',\n",
       " 'trial_heartbeats',\n",
       " 'alembic_version']"
      ]
     },
     "execution_count": 14,
     "metadata": {},
     "output_type": "execute_result"
    }
   ],
   "source": [
    "tables"
   ]
  },
  {
   "cell_type": "code",
   "execution_count": 15,
   "metadata": {
    "execution": {
     "iopub.execute_input": "2024-08-06T19:04:41.660500Z",
     "iopub.status.busy": "2024-08-06T19:04:41.659964Z",
     "iopub.status.idle": "2024-08-06T19:04:41.757142Z",
     "shell.execute_reply": "2024-08-06T19:04:41.755918Z",
     "shell.execute_reply.started": "2024-08-06T19:04:41.660464Z"
    },
    "lines_to_next_cell": 2
   },
   "outputs": [],
   "source": [
    "# resp = input(f\" Delete study {study_name} ?\")\n",
    "# if resp.lower() in ['yes' ,'y']:\n",
    "#     print(' You responsed yes')\n",
    "#     try:\n",
    "#         optuna.delete_study(storage=storage_instance, study_name=study_name)\n",
    "#         print(\"delete successful\")\n",
    "#     except Exception as e:\n",
    "#         print(\"delete failed\")\n",
    "# else:\n",
    "#     print(f\" {study_name} will be kept\")\n",
    "\n",
    "# study = optuna.create_study(storage=storage_instance_copy,\n",
    "#                             study_name=study_name_copy,\n",
    "#                             directions=[\"maximize\",\"minimize\"], \n",
    "#                             load_if_exists=True)\n",
    "# study.set_metric_names([\"roc_auc\", \"logloss\"])"
   ]
  },
  {
   "cell_type": "code",
   "execution_count": 16,
   "metadata": {
    "editable": true,
    "execution": {
     "iopub.execute_input": "2024-08-06T19:04:42.032412Z",
     "iopub.status.busy": "2024-08-06T19:04:42.031748Z",
     "iopub.status.idle": "2024-08-06T19:04:42.125991Z",
     "shell.execute_reply": "2024-08-06T19:04:42.124798Z",
     "shell.execute_reply.started": "2024-08-06T19:04:42.032361Z"
    },
    "slideshow": {
     "slide_type": ""
    },
    "tags": []
   },
   "outputs": [],
   "source": [
    "# start = datetime.now()\n",
    "# study_example = optuna.load_study(study_name= study_name, storage=storage_example)\n",
    "# study_example_copy = optuna.load_study(study_name= study_name, storage=storage_example_copy)\n",
    "# study_optuna_data = optuna.load_study(study_name= study_name, storage=storage_optuna_data)\n",
    "# study_optuna_database = optuna.load_study(study_name= study_name, storage=storage_optuna_database)\n",
    "# study_clone  = optuna.load_study(study_name= study_name_clone, storage=storage_instance)\n",
    "# print(f\"Total time:  {datetime.now() - start}\")"
   ]
  },
  {
   "cell_type": "markdown",
   "metadata": {},
   "source": [
    "## storage_4 = `optuna_database`"
   ]
  },
  {
   "cell_type": "code",
   "execution_count": 19,
   "metadata": {
    "execution": {
     "iopub.execute_input": "2024-08-06T19:05:31.029194Z",
     "iopub.status.busy": "2024-08-06T19:05:31.028720Z",
     "iopub.status.idle": "2024-08-06T19:05:31.309757Z",
     "shell.execute_reply": "2024-08-06T19:05:31.308409Z",
     "shell.execute_reply.started": "2024-08-06T19:05:31.029156Z"
    },
    "scrolled": true
   },
   "outputs": [
    {
     "name": "stdout",
     "output_type": "stream",
     "text": [
      "optuna_database.db <optuna.storages._rdb.storage.RDBStorage object at 0x7f7ef4f1a710>\n"
     ]
    },
    {
     "data": {
      "text/plain": [
       "[{'study_id': 2, 'study_name': 'multiobjective-study-1'},\n",
       " {'study_id': 3, 'study_name': 'multiobjective-study-2'},\n",
       " {'study_id': 4, 'study_name': 'multiobjective-study-3'},\n",
       " {'study_id': 6, 'study_name': 'classification-study-Apr24'},\n",
       " {'study_id': 7, 'study_name': 'classification-3SampleStudy-Apr24'},\n",
       " {'study_id': 8, 'study_name': 'classification-study-1'}]"
      ]
     },
     "execution_count": 19,
     "metadata": {},
     "output_type": "execute_result"
    },
    {
     "name": "stdout",
     "output_type": "stream",
     "text": [
      "\n",
      "\n",
      " Study  : multiobjective-study-1\n",
      " Metrics: ['mse_score', 'R2_score']\n",
      "\n",
      "                start     -   completion      status        validation metrics\n",
      " trial#         time      -      time          code      mse_score        R2_score\n",
      "--------------------------------------------------------------------------------\n",
      "Trial #: 0    2024-01-10   15:34:20 - 15:34:20    3          *** FAILED ***        \n",
      "Trial #: 1    2024-01-10   15:51:14 - 16:00:22    1      0.02377       -0.00016    \n",
      "Trial #: 2    2024-01-10   16:00:23 - 16:10:23    1      0.02362        0.00629    \n",
      "Trial #: 3    2024-01-10   16:10:23 - 16:20:46    1      0.02377       -0.00001    \n",
      "Trial #: 4    2024-01-10   16:20:46 - 16:31:21    1      0.02377       -0.00016    \n",
      "Trial #: 5    2024-01-10   16:31:22 - 16:41:59    1   20903136613044846592.00000   -869609181496980406272.00000    \n",
      "Trial #: 6    2024-01-10   16:41:59 - 16:52:38    1      0.02378       -0.00009    \n",
      "Trial #: 7    2024-01-10   16:52:39 - 17:03:34    1          inf           -inf    \n",
      "Trial #: 8    2024-01-10   17:03:34 - 17:14:38    1      0.02366        0.00465    \n",
      "Trial #: 9    2024-01-10   17:14:39 - 17:25:29    1      0.02377       -0.00011    \n",
      "Trial #: 10   2024-01-10   17:25:30 - 17:36:23    1      0.02354        0.00969    \n",
      "Trial #: 11   2024-01-10   17:36:23 - 17:47:22    1      0.02377       -0.00025    \n",
      "Trial #: 12   2024-01-10   17:47:23 - 17:58:30    1      0.02377       -0.00012    \n",
      "Trial #: 13   2024-01-10   17:58:31 - 18:09:24    1      0.02377       -0.00001    \n",
      "Trial #: 14   2024-01-10   18:09:24 - 18:20:26    1          inf           -inf    \n",
      "Trial #: 15   2024-01-10   18:20:26 - 18:31:16    1      0.02377       -0.00009    \n",
      "Trial #: 16   2024-01-10   18:31:17 - 18:42:08    1      0.02377       -0.00005    \n",
      "Trial #: 17   2024-01-10   18:42:09 - 18:53:01    1      0.02378       -0.00016    \n",
      " *** end of trials *** \n",
      " Best trials:  [10]\n",
      "\n",
      "\n",
      " Study  : multiobjective-study-2\n",
      " Metrics: None\n",
      "\n",
      "                start     -   completion      status        validation metrics\n",
      " trial#         time      -      time          code      n/a        n/a\n",
      "--------------------------------------------------------------------------------\n",
      "Trial #: 0    2024-01-12   19:07:30 - 19:17:52    1      0.02605       -0.00009    \n",
      "Trial #: 1    2024-01-12   19:17:52 - 19:28:57    1      0.02605       -0.00003    \n",
      "Trial #: 2    2024-01-12   19:28:58 - 19:40:16    1      0.02605       -0.00006    \n",
      "Trial #: 3    2024-01-12   19:40:17 - 19:51:59    1      0.02598        0.00269    \n",
      "Trial #: 4    2024-01-12   19:51:59 - 20:03:39    1    118.83242    -4563.24624    \n",
      "Trial #: 5    2024-01-14   14:31:46 - 14:42:20    1      0.02605       -0.00008    \n",
      "Trial #: 6    2024-01-14   14:42:21 - 14:56:29    1    829.66417   -31710.84138    \n",
      "Trial #: 7    2024-01-14   14:56:29 - 15:08:09    1      0.02605       -0.00007    \n",
      "Trial #: 8    2024-01-14   15:08:09 - 15:20:04    1      0.02600        0.00177    \n",
      "Trial #: 9    2024-01-14   15:20:04 - 15:31:59    1      0.02588        0.00648    \n",
      "Trial #: 10   2024-01-14   15:31:59 - 15:43:56    1      0.02605       -0.00008    \n",
      "Trial #: 11   2024-01-14   15:43:57 - 15:55:55    1      0.02605       -0.00014    \n",
      "Trial #: 12   2024-01-14   15:55:55 - 16:07:57    1      0.02605       -0.00013    \n",
      "Trial #: 13   2024-01-14   16:07:57 - 16:20:24    1      0.02598        0.00285    \n",
      "Trial #: 14   2024-01-14   16:20:24 - 16:33:00    1   7644.21836   -295178.74263    \n",
      "Trial #: 15   2024-01-14   16:33:01 - 16:45:58    1   3614.13403   -138584.61730    \n",
      "Trial #: 16   2024-01-14   16:45:58 - 16:58:12    1      0.02595        0.00368    \n",
      "Trial #: 17   2024-01-14   16:58:13 - 17:10:20    1      0.02605       -0.00005    \n",
      "Trial #: 18   2024-01-14   17:10:20 - 17:22:27    1     19.80687     -763.69870    \n",
      "Trial #: 19   2024-01-14   17:22:28 - 17:34:37    1      0.02604        0.00033    \n",
      "Trial #: 20   2024-01-14   17:34:38 - 17:47:04    1      0.02600        0.00174    \n",
      "Trial #: 21   2024-01-14   17:47:04 - 17:59:23    1    253.46071    -9792.72917    \n",
      "Trial #: 22   2024-01-14   17:59:24 - 18:11:35    1     34.29765    -1322.38224    \n",
      "Trial #: 23   2024-01-14   18:11:36 - 18:27:08    1      0.04639       -0.78124    \n",
      "Trial #: 24   2024-01-14   18:27:08 - 18:39:26    1      0.02601        0.00146    \n",
      "Trial #: 25   2024-01-14   18:39:26 - 18:51:35    1      0.02605       -0.00010    \n",
      "Trial #: 26   2024-01-14   18:51:36 - 19:04:16    1      0.02595        0.00393    \n",
      "Trial #: 27   2024-01-14   19:04:17 - 19:16:29    1      0.02605       -0.00015    \n",
      "Trial #: 28   2024-01-14   19:16:30 - 19:28:47    1      0.02605       -0.00018    \n",
      "Trial #: 29   2024-01-14   19:28:47 - 19:41:04    1      0.02605       -0.00006    \n",
      " *** end of trials *** \n",
      " Best trials:  [9]\n",
      "\n",
      "\n",
      " Study  : multiobjective-study-3\n",
      " Metrics: ['mse_score', 'pearson_corr']\n",
      "\n",
      "                start     -   completion      status        validation metrics\n",
      " trial#         time      -      time          code      mse_score        pearson_corr\n",
      "--------------------------------------------------------------------------------\n",
      "Trial #: 0    2024-01-24   19:13:20 - 19:27:22    1      0.17054        0.00354    \n",
      "Trial #: 1    2024-01-25   00:06:51 - 00:21:10    1      0.16833        0.02912    \n",
      "Trial #: 2    2024-01-25   00:45:38 - 01:04:58    1      4.70470     -778.38355    \n",
      "Trial #: 3    2024-01-25   01:04:58 - 01:21:09    1      0.17064        0.00240    \n",
      "Trial #: 4    2024-01-25   01:21:09 - 01:37:46    1      0.17041        0.00515    \n",
      "Trial #: 5    2024-01-25   01:37:46 - 01:54:29    1     38.76890   -51495.15402    \n",
      "Trial #: 6    2024-01-25   01:54:30 - 02:11:18    1      0.17075        0.00113    \n",
      "Trial #: 7    2024-01-25   02:11:18 - 02:28:10    1      0.17073        0.00129    \n",
      "Trial #: 8    2024-01-25   02:28:11 - 08:24:30    3          *** FAILED ***        \n",
      "Trial #: 9    2024-01-25   08:32:30 - 08:48:51    1      0.17074        0.00124    \n",
      "Trial #: 10   2024-01-25   08:48:51 - 09:16:17    1     15.77350    -8695.22164    \n",
      "Trial #: 11   2024-01-25   09:16:18 - 09:32:35    1      9.32062    -2975.71750    \n",
      "Trial #: 12   2024-01-25   09:32:36 - 09:49:08    1      0.17026        0.00688    \n",
      "Trial #: 13   2024-01-25   09:49:09 - 10:05:43    1     22.27700   -17001.89049    \n",
      "Trial #: 14   2024-01-25   10:05:44 - 10:31:48    1     25.41578   -22877.22808    \n",
      "Trial #: 15   2024-01-25   10:31:49 - 10:48:25    1      0.17085       -0.00005    \n",
      "Trial #: 16   2024-01-25   10:48:26 - 11:05:26    1      0.17069        0.00185    \n",
      "Trial #: 17   2024-01-25   11:05:27 - 11:09:12    3          *** FAILED ***        \n",
      "Trial #: 18   2024-01-25   12:08:47 - 12:26:45    1      0.17080        0.00044    \n",
      "Trial #: 19   2024-01-25   12:26:45 - 12:44:55    1      0.17085       -0.00010    \n",
      "Trial #: 20   2024-01-25   12:44:55 - 12:52:27    3          *** FAILED ***        \n",
      "Trial #: 21   2024-01-25   14:27:44 - 14:33:26    3          *** FAILED ***        \n",
      "Trial #: 22   2024-01-25   14:57:29 - 15:14:52    1      0.17053        0.00365    \n",
      "Trial #: 23   2024-01-25   15:14:52 - 15:32:50    1      0.17085       -0.00004    \n",
      "Trial #: 24   2024-01-25   15:32:50 - 15:50:55    1      0.17084        0.00013    \n",
      "Trial #: 25   2024-01-25   15:50:56 - 16:09:16    1      0.17082        0.00036    \n",
      " *** end of trials *** \n",
      " Best trials:  [1]\n",
      "\n",
      "\n",
      " Study  : classification-study-Apr24\n",
      " Metrics: ['roc_auc', 'logloss']\n",
      "\n",
      "                start     -   completion      status        validation metrics\n",
      " trial#         time      -      time          code      roc_auc        logloss\n",
      "--------------------------------------------------------------------------------\n",
      "Trial #: 0    2024-04-22   20:20:06 - 20:24:06    3          *** FAILED ***        \n",
      "Trial #: 1    2024-04-22   20:31:37 - 20:34:09    3          *** FAILED ***        \n",
      "Trial #: 2    2024-04-22   20:38:23 - 20:54:04    3          *** FAILED ***        \n",
      "Trial #: 3    2024-04-22   21:08:09 - 21:20:12    1      0.53267        0.49278    \n",
      "Trial #: 4    2024-04-22   21:25:13 - 21:40:33    1      0.53381        3.78331    \n",
      "Trial #: 5    2024-04-22   21:40:34 - 21:53:39    1      0.53279        5.08449    \n",
      "Trial #: 6    2024-04-22   21:53:40 - 22:09:39    1      0.58643        0.37186    \n",
      "Trial #: 7    2024-04-22   22:09:40 - 22:26:56    1      0.62119        0.35337    \n",
      "Trial #: 8    2024-04-22   22:26:57 - 22:44:35    1      0.62182        0.35324    \n",
      "Trial #: 9    2024-04-22   22:44:36 - 22:56:00    3          *** FAILED ***        \n",
      "Trial #: 10   2024-04-23   11:35:41 - 12:07:48    3          *** FAILED ***        rerun of trial 9\n",
      "Trial #: 11   2024-04-23   12:36:41 - 12:52:27    1      0.60045        0.36118    rerun of trial 9\n",
      "Trial #: 12   2024-04-23   12:52:28 - 13:04:50    1      0.57149        0.39997    \n",
      "Trial #: 13   2024-04-23   13:04:51 - 13:18:38    1      0.61681        0.35456    \n",
      "Trial #: 14   2024-04-23   13:18:39 - 13:29:53    1      0.59330        0.36208    \n",
      "Trial #: 15   2024-04-23   13:46:19 - 14:15:46    1      0.62612        0.35255    \n",
      "Trial #: 16   2024-04-23   14:15:47 - 14:48:30    1      0.62626        0.35253    \n",
      "Trial #: 17   2024-04-23   14:48:30 - 15:23:22    1      0.62527        0.35264    \n",
      "Trial #: 18   2024-04-23   15:23:23 - 15:26:07    3          *** FAILED ***        \n",
      "Trial #: 19   2024-04-23   16:52:17 - 17:29:05    1      0.62481        0.35267    rerun of trial 18\n",
      "Trial #: 20   2024-04-23   17:29:06 - 17:43:30    1      0.56144        0.47660    \n",
      "Trial #: 21   2024-04-23   18:05:01 - 18:20:08    1      0.61435        0.35475    \n",
      "Trial #: 22   2024-04-23   18:20:09 - 18:31:02    1      0.47567        2.35271    \n",
      "Trial #: 23   2024-04-23   18:31:03 - 18:46:25    1      0.61791        0.35415    \n",
      " *** end of trials *** \n",
      " Best trials:  [16]\n",
      "\n",
      "\n",
      " Study  : classification-3SampleStudy-Apr24\n",
      " Metrics: ['roc_auc', 'logloss']\n",
      "\n",
      "                start     -   completion      status        validation metrics\n",
      " trial#         time      -      time          code      roc_auc        logloss\n",
      "--------------------------------------------------------------------------------\n",
      "Trial #: 0    2024-04-23   23:38:03 - 23:50:34    1      0.56071        0.55998    \n",
      "Trial #: 1    2024-04-23   23:50:34 - 00:04:55    1      0.62853        0.35265    \n",
      "Trial #: 2    2024-04-24   00:04:56 - 00:19:41    1      0.53452        5.76593    \n",
      "Trial #: 3    2024-04-24   00:40:48 - 00:40:48    3          *** FAILED ***        \n",
      "Trial #: 4    2024-04-24   00:41:55 - 00:50:55    1      0.59665        0.36301    \n",
      "Trial #: 5    2024-04-24   00:50:55 - 01:00:21    1      0.54799        1.08768    \n",
      "Trial #: 6    2024-04-24   01:00:22 - 01:08:36    1      0.51181        1.24476    \n",
      "Trial #: 7    2024-04-24   01:08:37 - 01:17:35    1      0.62289        0.35346    \n",
      "Trial #: 8    2024-04-24   10:57:05 - 11:07:23    1      0.59553        0.37089    \n",
      "Trial #: 9    2024-04-24   11:07:23 - 11:30:58    1      0.62841        0.35243    \n",
      "Trial #: 10   2024-04-24   11:30:59 - 11:39:53    1      0.49385        1.55933    \n",
      "Trial #: 11   2024-04-24   11:39:53 - 11:48:47    1      0.48177       31.46757    \n",
      " *** end of trials *** \n",
      " Best trials:  [1, 9]\n",
      "\n",
      "\n",
      " Study  : classification-study-1\n",
      " Metrics: ['roc_auc', 'logloss']\n",
      "\n",
      "                start     -   completion      status        validation metrics\n",
      " trial#         time      -      time          code      roc_auc        logloss\n",
      "--------------------------------------------------------------------------------\n",
      "Trial #: 0    2024-02-04   00:48:09 - 00:54:05    3          *** FAILED ***        \n",
      "Trial #: 1    2024-02-04   01:15:51 - 01:40:09    1      0.92354        0.20999    \n",
      "Trial #: 2    2024-02-04   10:36:45 - 12:28:29    1      0.82900        0.34993    \n",
      "Trial #: 3    2024-02-04   14:50:22 - 15:11:49    1      0.77843        0.32556    \n",
      "Trial #: 4    2024-02-04   15:11:50 - 16:04:43    1      0.71748        0.36995    \n",
      "Trial #: 5    2024-02-04   16:04:44 - 16:25:30    1      0.84788        0.29725    \n",
      "Trial #: 6    2024-02-04   16:25:30 - 16:55:59    1      0.62604        0.36119    \n",
      "Trial #: 7    2024-02-04   18:06:45 - 18:29:19    3          *** FAILED ***        \n",
      "Trial #: 8    2024-02-04   23:09:09 - 23:29:46    1      0.87990        0.22771    \n",
      "Trial #: 9    2024-02-04   23:29:47 - 23:50:19    1      0.81107        0.29039    \n",
      "Trial #: 10   2024-02-04   23:50:20 - 00:25:00    1      0.74011        0.33991    \n",
      "Trial #: 11   2024-02-05   00:25:00 - 00:49:35    1      0.62052        0.35998    \n",
      "Trial #: 12   2024-02-05   00:49:36 - 01:11:06    1      0.89875        0.18483    \n",
      "Trial #: 13   2024-02-05   01:11:06 - 01:34:06    1      0.91712        0.22948    \n",
      "Trial #: 14   2024-02-11   13:58:16 - 13:58:19    3          *** FAILED ***        \n",
      "Trial #: 15   2024-02-11   14:02:58 - 14:03:01    3          *** FAILED ***        \n",
      "Trial #: 16   2024-02-11   14:05:19 - 14:58:10    3          *** FAILED ***        \n",
      "Trial #: 17   2024-02-11   15:31:07 - 16:38:29    1      0.62593        0.35270    \n",
      "Trial #: 18   2024-02-11   21:49:10 - 21:50:24    3          *** FAILED ***        \n",
      "Trial #: 19   2024-02-11   21:50:47 - 22:14:47    1      0.60966        0.35607    \n",
      "Trial #: 20   2024-02-11   23:21:11 - 00:01:20    1      0.61561        0.36063    \n",
      "Trial #: 21   2024-02-12   00:01:21 - 00:39:17    1      0.60933        0.35866    \n",
      "Trial #: 22   2024-02-12   00:39:18 - 00:56:58    1      0.59683        0.36285    \n",
      "Trial #: 23   2024-02-12   00:56:59 - 01:10:47    3          *** FAILED ***        \n",
      "Trial #: 24   2024-02-12   01:48:06 - 01:48:12    3          *** FAILED ***        \n",
      "Trial #: 25   2024-02-12   01:55:54 - 02:12:44    1      0.55990        0.56057    \n",
      "Trial #: 26   2024-02-12   02:12:45 - 02:29:49    1      0.59509        0.36394    \n",
      "Trial #: 27   2024-02-12   02:29:50 - 03:59:12    1      0.61147        0.37472    \n",
      "Trial #: 28   2024-02-12   03:59:13 - 04:49:11    1      0.61664        0.35477    \n",
      "Trial #: 29   2024-02-12   04:49:12 - 05:08:23    1      0.52726        0.37212    \n",
      "Trial #: 30   2024-02-12   14:00:38 - 14:26:29    1      0.62208        0.35362    rerun of trial 0\n",
      "Trial #: 31   2024-02-12   14:31:23 - 14:44:16    3          *** FAILED ***        rerun of trial 1\n",
      "Trial #: 32   2024-02-12   15:13:15 - 16:55:58    1      0.61050        0.37124    rerun of trial 2\n",
      "Trial #: 33   2024-02-12   16:55:59 - 17:23:19    1      0.61534        0.35553    rerun of trial 2\n",
      "Trial #: 34   2024-02-12   19:46:39 - 20:04:52    1      0.62132        0.35329    rerun of trial 3\n",
      "Trial #: 35   2024-02-12   20:04:53 - 20:51:04    1      0.60952        0.37508    rerun of trial 4\n",
      "Trial #: 36   2024-02-12   20:51:05 - 21:03:13    1      0.60955        0.35581    rerun of trial 5\n",
      "Trial #: 37   2024-02-12   21:03:14 - 21:21:57    1      0.54904        0.36606    rerun of trial 6\n",
      "Trial #: 38   2024-02-12   21:33:09 - 22:13:52    1      0.62365        0.35322    rerun of trial 7\n",
      "Trial #: 39   2024-02-12   22:13:52 - 22:25:39    1      0.58913        0.36734    rerun of trial 8\n",
      "Trial #: 40   2024-02-12   22:25:40 - 22:36:49    1      0.59105        0.36808    rerun of trial 9\n",
      "Trial #: 41   2024-02-12   22:36:50 - 23:05:05    1      0.60879        0.35860    rerun of trial 10\n",
      "Trial #: 42   2024-02-12   23:43:56 - 00:04:08    3          *** FAILED ***        rerun of trial 11\n",
      "Trial #: 43   2024-02-13   04:22:59 - 04:34:36    1      0.55585        0.57369    rerun of trial 12\n",
      "Trial #: 44   2024-02-13   04:34:37 - 04:49:42    1      0.61422        0.35551    rerun of trial 13\n",
      "Trial #: 45   2024-02-13   04:49:43 - 05:00:23    1      0.58133        0.38038    rerun of trial 14\n",
      "Trial #: 46   2024-02-13   05:00:23 - 05:15:50    1      0.59614        0.35925    rerun of trial 11\n",
      "Trial #: 47   2024-02-13   05:23:23 - 05:35:08    1      0.56613        0.41619    \n",
      "Trial #: 48   2024-02-13   05:35:09 - 05:49:09    1      0.56828        0.43065    \n",
      "Trial #: 49   2024-02-13   05:49:10 - 06:00:11    1      0.60657        0.35728    \n",
      "Trial #: 50   2024-02-13   06:00:11 - 06:13:01    1      0.58216        0.39139    \n",
      "Trial #: 51   2024-02-13   06:13:02 - 06:26:33    1      0.61431        0.35519    \n",
      "Trial #: 52   2024-02-13   06:32:02 - 07:26:32    1      0.62248        0.35331    \n",
      "Trial #: 53   2024-02-13   07:26:33 - 07:46:11    1      0.62233        0.35339    \n",
      "Trial #: 54   2024-02-13   07:46:12 - 07:59:04    1      0.55335        0.58426    \n",
      "Trial #: 55   2024-02-13   07:59:05 - 08:10:18    1      0.57281        0.40450    \n",
      "Trial #: 56   2024-02-13   08:10:20 - 08:21:40    1      0.56731        0.40014    \n",
      "Trial #: 57   2024-02-13   11:49:46 - 12:08:05    1      0.60925        0.35635    \n",
      "Trial #: 58   2024-02-13   12:08:06 - 12:20:26    1      0.58370        0.37018    \n",
      "Trial #: 59   2024-02-13   12:20:27 - 12:32:04    1      0.55849        0.46500    \n",
      "Trial #: 60   2024-02-13   12:32:04 - 13:14:32    1      0.61240        0.36259    \n",
      "Trial #: 61   2024-02-13   13:14:32 - 13:27:24    1      0.55885        0.44736    \n",
      " *** end of trials *** \n",
      " Best trials:  [1, 12]\n"
     ]
    }
   ],
   "source": [
    "STORAGE = storage_4\n",
    "DB = db_4\n",
    "print(DB, STORAGE)\n",
    "with sqlite3.connect(DB) as conn:\n",
    "    conn.row_factory = sqlite3.Row\n",
    "    results = conn.execute(\"SELECT * FROM studies ;\").fetchall()\n",
    "    db_4_studies = [dict(r) for r in results]\n",
    "    db_4_studies\n",
    "\n",
    "for study in db_4_studies:\n",
    "    loaded_study = optuna.load_study(study_name= study['study_name'], storage=STORAGE)\n",
    "    disp_study_history(loaded_study)"
   ]
  },
  {
   "cell_type": "markdown",
   "metadata": {},
   "source": [
    "## Display study as Pandas dataframe "
   ]
  },
  {
   "cell_type": "code",
   "execution_count": 21,
   "metadata": {
    "execution": {
     "iopub.execute_input": "2024-08-06T19:07:06.500219Z",
     "iopub.status.busy": "2024-08-06T19:07:06.499803Z",
     "iopub.status.idle": "2024-08-06T19:07:06.597478Z",
     "shell.execute_reply": "2024-08-06T19:07:06.596843Z",
     "shell.execute_reply.started": "2024-08-06T19:07:06.500183Z"
    }
   },
   "outputs": [
    {
     "name": "stdout",
     "output_type": "stream",
     "text": [
      "\n",
      "\n",
      " Study  : classification-study-1\n",
      " Metrics: ['roc_auc', 'logloss']\n",
      "\n",
      "                start     -   completion      status        validation metrics\n",
      " trial#         time      -      time          code      roc_auc        logloss\n",
      "--------------------------------------------------------------------------------\n",
      "Trial #: 0    2024-02-04   00:48:09 - 00:54:05    3          *** FAILED ***        \n",
      "Trial #: 1    2024-02-04   01:15:51 - 01:40:09    1      0.92354        0.20999    \n",
      "Trial #: 2    2024-02-04   10:36:45 - 12:28:29    1      0.82900        0.34993    \n",
      "Trial #: 3    2024-02-04   14:50:22 - 15:11:49    1      0.77843        0.32556    \n",
      "Trial #: 4    2024-02-04   15:11:50 - 16:04:43    1      0.71748        0.36995    \n",
      "Trial #: 5    2024-02-04   16:04:44 - 16:25:30    1      0.84788        0.29725    \n",
      "Trial #: 6    2024-02-04   16:25:30 - 16:55:59    1      0.62604        0.36119    \n",
      "Trial #: 7    2024-02-04   18:06:45 - 18:29:19    3          *** FAILED ***        \n",
      "Trial #: 8    2024-02-04   23:09:09 - 23:29:46    1      0.87990        0.22771    \n",
      "Trial #: 9    2024-02-04   23:29:47 - 23:50:19    1      0.81107        0.29039    \n",
      "Trial #: 10   2024-02-04   23:50:20 - 00:25:00    1      0.74011        0.33991    \n",
      "Trial #: 11   2024-02-05   00:25:00 - 00:49:35    1      0.62052        0.35998    \n",
      "Trial #: 12   2024-02-05   00:49:36 - 01:11:06    1      0.89875        0.18483    \n",
      "Trial #: 13   2024-02-05   01:11:06 - 01:34:06    1      0.91712        0.22948    \n",
      "Trial #: 14   2024-02-11   13:58:16 - 13:58:19    3          *** FAILED ***        \n",
      "Trial #: 15   2024-02-11   14:02:58 - 14:03:01    3          *** FAILED ***        \n",
      "Trial #: 16   2024-02-11   14:05:19 - 14:58:10    3          *** FAILED ***        \n",
      "Trial #: 17   2024-02-11   15:31:07 - 16:38:29    1      0.62593        0.35270    \n",
      "Trial #: 18   2024-02-11   21:49:10 - 21:50:24    3          *** FAILED ***        \n",
      "Trial #: 19   2024-02-11   21:50:47 - 22:14:47    1      0.60966        0.35607    \n",
      "Trial #: 20   2024-02-11   23:21:11 - 00:01:20    1      0.61561        0.36063    \n",
      "Trial #: 21   2024-02-12   00:01:21 - 00:39:17    1      0.60933        0.35866    \n",
      "Trial #: 22   2024-02-12   00:39:18 - 00:56:58    1      0.59683        0.36285    \n",
      "Trial #: 23   2024-02-12   00:56:59 - 01:10:47    3          *** FAILED ***        \n",
      "Trial #: 24   2024-02-12   01:48:06 - 01:48:12    3          *** FAILED ***        \n",
      "Trial #: 25   2024-02-12   01:55:54 - 02:12:44    1      0.55990        0.56057    \n",
      "Trial #: 26   2024-02-12   02:12:45 - 02:29:49    1      0.59509        0.36394    \n",
      "Trial #: 27   2024-02-12   02:29:50 - 03:59:12    1      0.61147        0.37472    \n",
      "Trial #: 28   2024-02-12   03:59:13 - 04:49:11    1      0.61664        0.35477    \n",
      "Trial #: 29   2024-02-12   04:49:12 - 05:08:23    1      0.52726        0.37212    \n",
      "Trial #: 30   2024-02-12   14:00:38 - 14:26:29    1      0.62208        0.35362    rerun of trial 0\n",
      "Trial #: 31   2024-02-12   14:31:23 - 14:44:16    3          *** FAILED ***        rerun of trial 1\n",
      "Trial #: 32   2024-02-12   15:13:15 - 16:55:58    1      0.61050        0.37124    rerun of trial 2\n",
      "Trial #: 33   2024-02-12   16:55:59 - 17:23:19    1      0.61534        0.35553    rerun of trial 2\n",
      "Trial #: 34   2024-02-12   19:46:39 - 20:04:52    1      0.62132        0.35329    rerun of trial 3\n",
      "Trial #: 35   2024-02-12   20:04:53 - 20:51:04    1      0.60952        0.37508    rerun of trial 4\n",
      "Trial #: 36   2024-02-12   20:51:05 - 21:03:13    1      0.60955        0.35581    rerun of trial 5\n",
      "Trial #: 37   2024-02-12   21:03:14 - 21:21:57    1      0.54904        0.36606    rerun of trial 6\n",
      "Trial #: 38   2024-02-12   21:33:09 - 22:13:52    1      0.62365        0.35322    rerun of trial 7\n",
      "Trial #: 39   2024-02-12   22:13:52 - 22:25:39    1      0.58913        0.36734    rerun of trial 8\n",
      "Trial #: 40   2024-02-12   22:25:40 - 22:36:49    1      0.59105        0.36808    rerun of trial 9\n",
      "Trial #: 41   2024-02-12   22:36:50 - 23:05:05    1      0.60879        0.35860    rerun of trial 10\n",
      "Trial #: 42   2024-02-12   23:43:56 - 00:04:08    3          *** FAILED ***        rerun of trial 11\n",
      "Trial #: 43   2024-02-13   04:22:59 - 04:34:36    1      0.55585        0.57369    rerun of trial 12\n",
      "Trial #: 44   2024-02-13   04:34:37 - 04:49:42    1      0.61422        0.35551    rerun of trial 13\n",
      "Trial #: 45   2024-02-13   04:49:43 - 05:00:23    1      0.58133        0.38038    rerun of trial 14\n",
      "Trial #: 46   2024-02-13   05:00:23 - 05:15:50    1      0.59614        0.35925    rerun of trial 11\n",
      "Trial #: 47   2024-02-13   05:23:23 - 05:35:08    1      0.56613        0.41619    \n",
      "Trial #: 48   2024-02-13   05:35:09 - 05:49:09    1      0.56828        0.43065    \n",
      "Trial #: 49   2024-02-13   05:49:10 - 06:00:11    1      0.60657        0.35728    \n",
      "Trial #: 50   2024-02-13   06:00:11 - 06:13:01    1      0.58216        0.39139    \n",
      "Trial #: 51   2024-02-13   06:13:02 - 06:26:33    1      0.61431        0.35519    \n",
      "Trial #: 52   2024-02-13   06:32:02 - 07:26:32    1      0.62248        0.35331    \n",
      "Trial #: 53   2024-02-13   07:26:33 - 07:46:11    1      0.62233        0.35339    \n",
      "Trial #: 54   2024-02-13   07:46:12 - 07:59:04    1      0.55335        0.58426    \n",
      "Trial #: 55   2024-02-13   07:59:05 - 08:10:18    1      0.57281        0.40450    \n",
      "Trial #: 56   2024-02-13   08:10:20 - 08:21:40    1      0.56731        0.40014    \n",
      "Trial #: 57   2024-02-13   11:49:46 - 12:08:05    1      0.60925        0.35635    \n",
      "Trial #: 58   2024-02-13   12:08:06 - 12:20:26    1      0.58370        0.37018    \n",
      "Trial #: 59   2024-02-13   12:20:27 - 12:32:04    1      0.55849        0.46500    \n",
      "Trial #: 60   2024-02-13   12:32:04 - 13:14:32    1      0.61240        0.36259    \n",
      "Trial #: 61   2024-02-13   13:14:32 - 13:27:24    1      0.55885        0.44736    \n",
      " *** end of trials *** \n",
      " Best trials:  [1, 12]\n"
     ]
    }
   ],
   "source": [
    "loaded_study = optuna.load_study(study_name= 'classification-study-1', storage=storage_4)\n",
    "disp_study_history(loaded_study)"
   ]
  },
  {
   "cell_type": "code",
   "execution_count": 49,
   "metadata": {
    "execution": {
     "iopub.execute_input": "2024-08-06T19:26:47.910923Z",
     "iopub.status.busy": "2024-08-06T19:26:47.910279Z",
     "iopub.status.idle": "2024-08-06T19:26:47.969858Z",
     "shell.execute_reply": "2024-08-06T19:26:47.969140Z",
     "shell.execute_reply.started": "2024-08-06T19:26:47.910880Z"
    },
    "scrolled": true
   },
   "outputs": [],
   "source": [
    "df_trials = loaded_study.trials_dataframe()\n",
    "df_trials.sort_values('values_roc_auc', ascending=False, inplace = True)"
   ]
  },
  {
   "cell_type": "code",
   "execution_count": null,
   "metadata": {
    "execution": {
     "iopub.execute_input": "2024-08-06T19:09:24.268430Z",
     "iopub.status.busy": "2024-08-06T19:09:24.267995Z",
     "iopub.status.idle": "2024-08-06T19:09:24.699496Z",
     "shell.execute_reply": "2024-08-06T19:09:24.698614Z",
     "shell.execute_reply.started": "2024-08-06T19:09:24.268398Z"
    },
    "scrolled": true
   },
   "outputs": [
    {
     "data": {
      "text/html": [
       "<div>\n",
       "<style scoped>\n",
       "    .dataframe tbody tr th:only-of-type {\n",
       "        vertical-align: middle;\n",
       "    }\n",
       "\n",
       "    .dataframe tbody tr th {\n",
       "        vertical-align: top;\n",
       "    }\n",
       "\n",
       "    .dataframe thead th {\n",
       "        text-align: right;\n",
       "    }\n",
       "</style>\n",
       "<table border=\"1\" class=\"dataframe\">\n",
       "  <thead>\n",
       "    <tr style=\"text-align: right;\">\n",
       "      <th></th>\n",
       "      <th>number</th>\n",
       "      <th>values_logloss</th>\n",
       "      <th>values_roc_auc</th>\n",
       "      <th>datetime_start</th>\n",
       "      <th>datetime_complete</th>\n",
       "      <th>duration</th>\n",
       "      <th>params_colsample_bylevel</th>\n",
       "      <th>params_colsample_bynode</th>\n",
       "      <th>params_learning_rate</th>\n",
       "      <th>params_max_delta_step</th>\n",
       "      <th>params_max_depth</th>\n",
       "      <th>params_min_child_weight</th>\n",
       "      <th>params_min_split_loss</th>\n",
       "      <th>params_subsample</th>\n",
       "      <th>user_attrs_memo</th>\n",
       "      <th>system_attrs_fixed_params</th>\n",
       "      <th>system_attrs_nsga2:generation</th>\n",
       "      <th>state</th>\n",
       "    </tr>\n",
       "  </thead>\n",
       "  <tbody>\n",
       "    <tr>\n",
       "      <th>1</th>\n",
       "      <td>1</td>\n",
       "      <td>0.209986</td>\n",
       "      <td>0.923542</td>\n",
       "      <td>2024-02-04 01:15:51.892559</td>\n",
       "      <td>2024-02-04 01:40:09.121813</td>\n",
       "      <td>0 days 00:24:17.229254</td>\n",
       "      <td>0.947399</td>\n",
       "      <td>0.659437</td>\n",
       "      <td>0.034551</td>\n",
       "      <td>1.081959</td>\n",
       "      <td>13</td>\n",
       "      <td>4.008506</td>\n",
       "      <td>4.749165</td>\n",
       "      <td>0.719159</td>\n",
       "      <td>NaN</td>\n",
       "      <td>NaN</td>\n",
       "      <td>0.0</td>\n",
       "      <td>COMPLETE</td>\n",
       "    </tr>\n",
       "  </tbody>\n",
       "</table>\n",
       "</div>"
      ],
      "text/plain": [
       "   number  values_logloss  values_roc_auc             datetime_start          datetime_complete               duration  params_colsample_bylevel  \\\n",
       "1       1        0.209986        0.923542 2024-02-04 01:15:51.892559 2024-02-04 01:40:09.121813 0 days 00:24:17.229254                  0.947399   \n",
       "\n",
       "   params_colsample_bynode  params_learning_rate  params_max_delta_step  params_max_depth  params_min_child_weight  params_min_split_loss  params_subsample  \\\n",
       "1                 0.659437              0.034551               1.081959                13                 4.008506               4.749165          0.719159   \n",
       "\n",
       "  user_attrs_memo system_attrs_fixed_params  system_attrs_nsga2:generation     state  \n",
       "1             NaN                       NaN                            0.0  COMPLETE  "
      ]
     },
     "execution_count": 30,
     "metadata": {},
     "output_type": "execute_result"
    },
    {
     "data": {
      "text/html": [
       "<div>\n",
       "<style scoped>\n",
       "    .dataframe tbody tr th:only-of-type {\n",
       "        vertical-align: middle;\n",
       "    }\n",
       "\n",
       "    .dataframe tbody tr th {\n",
       "        vertical-align: top;\n",
       "    }\n",
       "\n",
       "    .dataframe thead th {\n",
       "        text-align: right;\n",
       "    }\n",
       "</style>\n",
       "<table border=\"1\" class=\"dataframe\">\n",
       "  <thead>\n",
       "    <tr style=\"text-align: right;\">\n",
       "      <th></th>\n",
       "      <th>number</th>\n",
       "      <th>values_logloss</th>\n",
       "      <th>values_roc_auc</th>\n",
       "      <th>datetime_start</th>\n",
       "      <th>datetime_complete</th>\n",
       "      <th>duration</th>\n",
       "      <th>params_colsample_bylevel</th>\n",
       "      <th>params_colsample_bynode</th>\n",
       "      <th>params_learning_rate</th>\n",
       "      <th>params_max_delta_step</th>\n",
       "      <th>params_max_depth</th>\n",
       "      <th>params_min_child_weight</th>\n",
       "      <th>params_min_split_loss</th>\n",
       "      <th>params_subsample</th>\n",
       "      <th>user_attrs_memo</th>\n",
       "      <th>system_attrs_fixed_params</th>\n",
       "      <th>system_attrs_nsga2:generation</th>\n",
       "      <th>state</th>\n",
       "    </tr>\n",
       "  </thead>\n",
       "  <tbody>\n",
       "    <tr>\n",
       "      <th>13</th>\n",
       "      <td>13</td>\n",
       "      <td>0.229483</td>\n",
       "      <td>0.917122</td>\n",
       "      <td>2024-02-05 01:11:06.944139</td>\n",
       "      <td>2024-02-05 01:34:06.921264</td>\n",
       "      <td>0 days 00:22:59.977125</td>\n",
       "      <td>0.980188</td>\n",
       "      <td>0.656057</td>\n",
       "      <td>0.06227</td>\n",
       "      <td>0.650368</td>\n",
       "      <td>10</td>\n",
       "      <td>4.423521</td>\n",
       "      <td>4.444297</td>\n",
       "      <td>0.834164</td>\n",
       "      <td>NaN</td>\n",
       "      <td>NaN</td>\n",
       "      <td>0.0</td>\n",
       "      <td>COMPLETE</td>\n",
       "    </tr>\n",
       "  </tbody>\n",
       "</table>\n",
       "</div>"
      ],
      "text/plain": [
       "    number  values_logloss  values_roc_auc             datetime_start          datetime_complete               duration  params_colsample_bylevel  \\\n",
       "13      13        0.229483        0.917122 2024-02-05 01:11:06.944139 2024-02-05 01:34:06.921264 0 days 00:22:59.977125                  0.980188   \n",
       "\n",
       "    params_colsample_bynode  params_learning_rate  params_max_delta_step  params_max_depth  params_min_child_weight  params_min_split_loss  params_subsample  \\\n",
       "13                 0.656057               0.06227               0.650368                10                 4.423521               4.444297          0.834164   \n",
       "\n",
       "   user_attrs_memo system_attrs_fixed_params  system_attrs_nsga2:generation     state  \n",
       "13             NaN                       NaN                            0.0  COMPLETE  "
      ]
     },
     "execution_count": 30,
     "metadata": {},
     "output_type": "execute_result"
    }
   ],
   "source": [
    "loaded_study.trials_dataframe().iloc[1:2]\n",
    "loaded_study.trials_dataframe().iloc[13:14]"
   ]
  },
  {
   "cell_type": "code",
   "execution_count": 42,
   "metadata": {
    "execution": {
     "iopub.execute_input": "2024-08-06T19:21:50.012413Z",
     "iopub.status.busy": "2024-08-06T19:21:50.011803Z",
     "iopub.status.idle": "2024-08-06T19:21:50.099628Z",
     "shell.execute_reply": "2024-08-06T19:21:50.098684Z",
     "shell.execute_reply.started": "2024-08-06T19:21:50.012360Z"
    }
   },
   "outputs": [
    {
     "name": "stdout",
     "output_type": "stream",
     "text": [
      " Trial 1  \n",
      " learning_rate               0.03455\n",
      " min_split_loss              4.74917\n",
      " max_depth                   13.00000\n",
      " min_child_weight            4.00851\n",
      " max_delta_step              1.08196\n",
      " subsample                   0.71916\n",
      " colsample_bylevel           0.94740\n",
      " colsample_bynode            0.65944\n",
      "\n",
      "\n",
      "\n",
      "\n",
      " Trial 12  \n",
      " learning_rate               0.85865\n",
      " min_split_loss              3.60513\n",
      " max_depth                   10.00000\n",
      " min_child_weight            9.58354\n",
      " max_delta_step              2.11724\n",
      " subsample                   0.88346\n",
      " colsample_bylevel           0.61197\n",
      " colsample_bynode            0.85980\n",
      "\n",
      "\n",
      "\n",
      "\n"
     ]
    }
   ],
   "source": [
    "for i in loaded_study.best_trials:\n",
    "    print(f\" Trial {i.number}  \")\n",
    "    for k,v in i.params.items():\n",
    "        print(f\" {k:25s}   {v:.5f}\")\n",
    "    print('\\n\\n\\n')"
   ]
  },
  {
   "cell_type": "code",
   "execution_count": null,
   "metadata": {},
   "outputs": [],
   "source": [
    "{\"learning_rate\"     : [0.03455,  0.85865],\n",
    " \"min_split_loss\"    : [4.74917,  3.60513],\n",
    " \"max_depth\"         : [13.0000,  10.00000],\n",
    " \"min_child_weight\"  : [4.00851,  9.58354],\n",
    " \"max_delta_step\"    : [1.08196,  2.11724],\n",
    " \"subsample\"         : [0.71916,  0.88346],\n",
    " \"colsample_bylevel\" : [0.94740,  0.61197],\n",
    " \"colsample_bynode\"  : [0.65944,  0.85980],\n",
    "}\n"
   ]
  },
  {
   "cell_type": "markdown",
   "metadata": {},
   "source": [
    "# Clone study"
   ]
  },
  {
   "cell_type": "code",
   "execution_count": 42,
   "metadata": {
    "execution": {
     "iopub.execute_input": "2024-08-01T14:57:38.753425Z",
     "iopub.status.busy": "2024-08-01T14:57:38.753118Z",
     "iopub.status.idle": "2024-08-01T14:57:38.791811Z",
     "shell.execute_reply": "2024-08-01T14:57:38.791081Z",
     "shell.execute_reply.started": "2024-08-01T14:57:38.753402Z"
    }
   },
   "outputs": [
    {
     "name": "stdout",
     "output_type": "stream",
     "text": [
      "<optuna.storages._rdb.storage.RDBStorage object at 0x7ffa50791b10> <optuna.storages._rdb.storage.RDBStorage object at 0x7ffa4fb26510>\n"
     ]
    }
   ],
   "source": [
    "from optuna.study import create_study, load_study\n",
    "print(storage_1, storage_4)"
   ]
  },
  {
   "cell_type": "code",
   "execution_count": 10,
   "metadata": {
    "execution": {
     "iopub.execute_input": "2024-02-13T05:22:24.122275Z",
     "iopub.status.busy": "2024-02-13T05:22:24.121771Z",
     "iopub.status.idle": "2024-02-13T05:22:24.167135Z",
     "shell.execute_reply": "2024-02-13T05:22:24.166448Z",
     "shell.execute_reply.started": "2024-02-13T05:22:24.122236Z"
    }
   },
   "outputs": [],
   "source": [
    "# storage = \"sqlite:///example.db\"\n",
    "# storage_copy = \"sqlite:///example_copy.db\""
   ]
  },
  {
   "cell_type": "code",
   "execution_count": null,
   "metadata": {},
   "outputs": [],
   "source": [
    "# study_name=\"classification-study-1\"\n",
    "# study_name_copy=\"classification-study-1-clone\""
   ]
  },
  {
   "cell_type": "code",
   "execution_count": 41,
   "metadata": {
    "execution": {
     "iopub.execute_input": "2024-08-01T14:57:16.935738Z",
     "iopub.status.busy": "2024-08-01T14:57:16.935203Z",
     "iopub.status.idle": "2024-08-01T14:57:17.003020Z",
     "shell.execute_reply": "2024-08-01T14:57:17.001954Z",
     "shell.execute_reply.started": "2024-08-01T14:57:16.935698Z"
    }
   },
   "outputs": [],
   "source": [
    "## https://optuna.readthedocs.io/en/stable/reference/generated/optuna.storages.RetryFailedTrialCallback.html\n",
    "\n",
    "# from optuna.storages import RetryFailedTrialCallback\n",
    "\n",
    "# storage_instance = optuna.storages.RDBStorage(\n",
    "#     url=storage_copy,\n",
    "#     heartbeat_interval=60,\n",
    "#     grace_period=120,\n",
    "#     failed_trial_callback=RetryFailedTrialCallback(max_retry=3),\n",
    "# )\n",
    "# storage_instance"
   ]
  },
  {
   "cell_type": "code",
   "execution_count": 43,
   "metadata": {
    "execution": {
     "iopub.execute_input": "2024-08-01T15:01:04.259591Z",
     "iopub.status.busy": "2024-08-01T15:01:04.259149Z",
     "iopub.status.idle": "2024-08-01T15:01:04.326023Z",
     "shell.execute_reply": "2024-08-01T15:01:04.325070Z",
     "shell.execute_reply.started": "2024-08-01T15:01:04.259559Z"
    }
   },
   "outputs": [],
   "source": [
    "to_storage    =\"sqlite:///optuna_database.db\"\n",
    "from_storage  = \"sqlite:///example_copy.db\"\n",
    "from_study_name = \"classification-study-1\"\n",
    "to_study_name   = \"classification-study-1\""
   ]
  },
  {
   "cell_type": "code",
   "execution_count": 44,
   "metadata": {
    "execution": {
     "iopub.execute_input": "2024-08-01T15:01:17.455226Z",
     "iopub.status.busy": "2024-08-01T15:01:17.454739Z",
     "iopub.status.idle": "2024-08-01T15:01:17.542086Z",
     "shell.execute_reply": "2024-08-01T15:01:17.541414Z",
     "shell.execute_reply.started": "2024-08-01T15:01:17.455189Z"
    }
   },
   "outputs": [],
   "source": [
    "from_study = load_study(study_name=from_study_name, storage=from_storage)"
   ]
  },
  {
   "cell_type": "code",
   "execution_count": 45,
   "metadata": {
    "execution": {
     "iopub.execute_input": "2024-08-01T15:01:20.527811Z",
     "iopub.status.busy": "2024-08-01T15:01:20.527264Z",
     "iopub.status.idle": "2024-08-01T15:01:20.696571Z",
     "shell.execute_reply": "2024-08-01T15:01:20.695448Z",
     "shell.execute_reply.started": "2024-08-01T15:01:20.527769Z"
    }
   },
   "outputs": [
    {
     "name": "stdout",
     "output_type": "stream",
     "text": [
      "\n",
      "\n",
      " Study  : classification-study-1\n",
      " Metrics: ['roc_auc', 'logloss']\n",
      "\n",
      "                start     -   completion      status        validation metrics\n",
      " trial#         time      -      time          code      roc_auc        logloss\n",
      "--------------------------------------------------------------------------------\n",
      "Trial #: 0    2024-02-04   00:48:09 - 00:54:05    3          *** FAILED ***        \n",
      "Trial #: 1    2024-02-04   01:15:51 - 01:40:09    1      0.92354        0.20999    \n",
      "Trial #: 2    2024-02-04   10:36:45 - 12:28:29    1      0.82900        0.34993    \n",
      "Trial #: 3    2024-02-04   14:50:22 - 15:11:49    1      0.77843        0.32556    \n",
      "Trial #: 4    2024-02-04   15:11:50 - 16:04:43    1      0.71748        0.36995    \n",
      "Trial #: 5    2024-02-04   16:04:44 - 16:25:30    1      0.84788        0.29725    \n",
      "Trial #: 6    2024-02-04   16:25:30 - 16:55:59    1      0.62604        0.36119    \n",
      "Trial #: 7    2024-02-04   18:06:45 - 18:29:19    3          *** FAILED ***        \n",
      "Trial #: 8    2024-02-04   23:09:09 - 23:29:46    1      0.87990        0.22771    \n",
      "Trial #: 9    2024-02-04   23:29:47 - 23:50:19    1      0.81107        0.29039    \n",
      "Trial #: 10   2024-02-04   23:50:20 - 00:25:00    1      0.74011        0.33991    \n",
      "Trial #: 11   2024-02-05   00:25:00 - 00:49:35    1      0.62052        0.35998    \n",
      "Trial #: 12   2024-02-05   00:49:36 - 01:11:06    1      0.89875        0.18483    \n",
      "Trial #: 13   2024-02-05   01:11:06 - 01:34:06    1      0.91712        0.22948    \n",
      "Trial #: 14   2024-02-11   13:58:16 - 13:58:19    3          *** FAILED ***        \n",
      "Trial #: 15   2024-02-11   14:02:58 - 14:03:01    3          *** FAILED ***        \n",
      "Trial #: 16   2024-02-11   14:05:19 - 14:58:10    3          *** FAILED ***        \n",
      "Trial #: 17   2024-02-11   15:31:07 - 16:38:29    1      0.62593        0.35270    \n",
      "Trial #: 18   2024-02-11   21:49:10 - 21:50:24    3          *** FAILED ***        \n",
      "Trial #: 19   2024-02-11   21:50:47 - 22:14:47    1      0.60966        0.35607    \n",
      "Trial #: 20   2024-02-11   23:21:11 - 00:01:20    1      0.61561        0.36063    \n",
      "Trial #: 21   2024-02-12   00:01:21 - 00:39:17    1      0.60933        0.35866    \n",
      "Trial #: 22   2024-02-12   00:39:18 - 00:56:58    1      0.59683        0.36285    \n",
      "Trial #: 23   2024-02-12   00:56:59 - 01:10:47    3          *** FAILED ***        \n",
      "Trial #: 24   2024-02-12   01:48:06 - 01:48:12    3          *** FAILED ***        \n",
      "Trial #: 25   2024-02-12   01:55:54 - 02:12:44    1      0.55990        0.56057    \n",
      "Trial #: 26   2024-02-12   02:12:45 - 02:29:49    1      0.59509        0.36394    \n",
      "Trial #: 27   2024-02-12   02:29:50 - 03:59:12    1      0.61147        0.37472    \n",
      "Trial #: 28   2024-02-12   03:59:13 - 04:49:11    1      0.61664        0.35477    \n",
      "Trial #: 29   2024-02-12   04:49:12 - 05:08:23    1      0.52726        0.37212    \n",
      "Trial #: 30   2024-02-12   14:00:38 - 14:26:29    1      0.62208        0.35362    rerun of trial 0\n",
      "Trial #: 31   2024-02-12   14:31:23 - 14:44:16    3          *** FAILED ***        rerun of trial 1\n",
      "Trial #: 32   2024-02-12   15:13:15 - 16:55:58    1      0.61050        0.37124    rerun of trial 2\n",
      "Trial #: 33   2024-02-12   16:55:59 - 17:23:19    1      0.61534        0.35553    rerun of trial 2\n",
      "Trial #: 34   2024-02-12   19:46:39 - 20:04:52    1      0.62132        0.35329    rerun of trial 3\n",
      "Trial #: 35   2024-02-12   20:04:53 - 20:51:04    1      0.60952        0.37508    rerun of trial 4\n",
      "Trial #: 36   2024-02-12   20:51:05 - 21:03:13    1      0.60955        0.35581    rerun of trial 5\n",
      "Trial #: 37   2024-02-12   21:03:14 - 21:21:57    1      0.54904        0.36606    rerun of trial 6\n",
      "Trial #: 38   2024-02-12   21:33:09 - 22:13:52    1      0.62365        0.35322    rerun of trial 7\n",
      "Trial #: 39   2024-02-12   22:13:52 - 22:25:39    1      0.58913        0.36734    rerun of trial 8\n",
      "Trial #: 40   2024-02-12   22:25:40 - 22:36:49    1      0.59105        0.36808    rerun of trial 9\n",
      "Trial #: 41   2024-02-12   22:36:50 - 23:05:05    1      0.60879        0.35860    rerun of trial 10\n",
      "Trial #: 42   2024-02-12   23:43:56 - 00:04:08    3          *** FAILED ***        rerun of trial 11\n",
      "Trial #: 43   2024-02-13   04:22:59 - 04:34:36    1      0.55585        0.57369    rerun of trial 12\n",
      "Trial #: 44   2024-02-13   04:34:37 - 04:49:42    1      0.61422        0.35551    rerun of trial 13\n",
      "Trial #: 45   2024-02-13   04:49:43 - 05:00:23    1      0.58133        0.38038    rerun of trial 14\n",
      "Trial #: 46   2024-02-13   05:00:23 - 05:15:50    1      0.59614        0.35925    rerun of trial 11\n",
      "Trial #: 47   2024-02-13   05:23:23 - 05:35:08    1      0.56613        0.41619    \n",
      "Trial #: 48   2024-02-13   05:35:09 - 05:49:09    1      0.56828        0.43065    \n",
      "Trial #: 49   2024-02-13   05:49:10 - 06:00:11    1      0.60657        0.35728    \n",
      "Trial #: 50   2024-02-13   06:00:11 - 06:13:01    1      0.58216        0.39139    \n",
      "Trial #: 51   2024-02-13   06:13:02 - 06:26:33    1      0.61431        0.35519    \n",
      "Trial #: 52   2024-02-13   06:32:02 - 07:26:32    1      0.62248        0.35331    \n",
      "Trial #: 53   2024-02-13   07:26:33 - 07:46:11    1      0.62233        0.35339    \n",
      "Trial #: 54   2024-02-13   07:46:12 - 07:59:04    1      0.55335        0.58426    \n",
      "Trial #: 55   2024-02-13   07:59:05 - 08:10:18    1      0.57281        0.40450    \n",
      "Trial #: 56   2024-02-13   08:10:20 - 08:21:40    1      0.56731        0.40014    \n",
      "Trial #: 57   2024-02-13   11:49:46 - 12:08:05    1      0.60925        0.35635    \n",
      "Trial #: 58   2024-02-13   12:08:06 - 12:20:26    1      0.58370        0.37018    \n",
      "Trial #: 59   2024-02-13   12:20:27 - 12:32:04    1      0.55849        0.46500    \n",
      "Trial #: 60   2024-02-13   12:32:04 - 13:14:32    1      0.61240        0.36259    \n",
      "Trial #: 61   2024-02-13   13:14:32 - 13:27:24    1      0.55885        0.44736    \n",
      " *** end of trials *** \n",
      " Best trials:  [1, 12]\n"
     ]
    }
   ],
   "source": [
    "disp_study_history(from_study)"
   ]
  },
  {
   "cell_type": "code",
   "execution_count": 69,
   "metadata": {
    "execution": {
     "iopub.execute_input": "2024-08-01T15:24:14.892243Z",
     "iopub.status.busy": "2024-08-01T15:24:14.891857Z",
     "iopub.status.idle": "2024-08-01T15:24:14.975507Z",
     "shell.execute_reply": "2024-08-01T15:24:14.974726Z",
     "shell.execute_reply.started": "2024-08-01T15:24:14.892216Z"
    }
   },
   "outputs": [],
   "source": [
    "to_study = load_study(study_name=to_study_name, storage=to_storage)"
   ]
  },
  {
   "cell_type": "code",
   "execution_count": 70,
   "metadata": {
    "execution": {
     "iopub.execute_input": "2024-08-01T15:24:15.752065Z",
     "iopub.status.busy": "2024-08-01T15:24:15.751564Z",
     "iopub.status.idle": "2024-08-01T15:24:15.897200Z",
     "shell.execute_reply": "2024-08-01T15:24:15.896416Z",
     "shell.execute_reply.started": "2024-08-01T15:24:15.752026Z"
    }
   },
   "outputs": [
    {
     "name": "stdout",
     "output_type": "stream",
     "text": [
      "\n",
      "\n",
      " Study  : classification-study-1\n",
      " Metrics: ['roc_auc', 'logloss']\n",
      "\n",
      "                start     -   completion      status        validation metrics\n",
      " trial#         time      -      time          code      roc_auc        logloss\n",
      "--------------------------------------------------------------------------------\n",
      "Trial #: 0    2024-02-04   00:48:09 - 00:54:05    3          *** FAILED ***        \n",
      "Trial #: 1    2024-02-04   01:15:51 - 01:40:09    1      0.92354        0.20999    \n",
      "Trial #: 2    2024-02-04   10:36:45 - 12:28:29    1      0.82900        0.34993    \n",
      "Trial #: 3    2024-02-04   14:50:22 - 15:11:49    1      0.77843        0.32556    \n",
      "Trial #: 4    2024-02-04   15:11:50 - 16:04:43    1      0.71748        0.36995    \n",
      "Trial #: 5    2024-02-04   16:04:44 - 16:25:30    1      0.84788        0.29725    \n",
      "Trial #: 6    2024-02-04   16:25:30 - 16:55:59    1      0.62604        0.36119    \n",
      "Trial #: 7    2024-02-04   18:06:45 - 18:29:19    3          *** FAILED ***        \n",
      "Trial #: 8    2024-02-04   23:09:09 - 23:29:46    1      0.87990        0.22771    \n",
      "Trial #: 9    2024-02-04   23:29:47 - 23:50:19    1      0.81107        0.29039    \n",
      "Trial #: 10   2024-02-04   23:50:20 - 00:25:00    1      0.74011        0.33991    \n",
      "Trial #: 11   2024-02-05   00:25:00 - 00:49:35    1      0.62052        0.35998    \n",
      "Trial #: 12   2024-02-05   00:49:36 - 01:11:06    1      0.89875        0.18483    \n",
      "Trial #: 13   2024-02-05   01:11:06 - 01:34:06    1      0.91712        0.22948    \n",
      "Trial #: 14   2024-02-11   13:58:16 - 13:58:19    3          *** FAILED ***        \n",
      "Trial #: 15   2024-02-11   14:02:58 - 14:03:01    3          *** FAILED ***        \n",
      "Trial #: 16   2024-02-11   14:05:19 - 14:58:10    3          *** FAILED ***        \n",
      "Trial #: 17   2024-02-11   15:31:07 - 16:38:29    1      0.62593        0.35270    \n",
      "Trial #: 18   2024-02-11   21:49:10 - 21:50:24    3          *** FAILED ***        \n",
      "Trial #: 19   2024-02-11   21:50:47 - 22:14:47    1      0.60966        0.35607    \n",
      "Trial #: 20   2024-02-11   23:21:11 - 00:01:20    1      0.61561        0.36063    \n",
      "Trial #: 21   2024-02-12   00:01:21 - 00:39:17    1      0.60933        0.35866    \n",
      "Trial #: 22   2024-02-12   00:39:18 - 00:56:58    1      0.59683        0.36285    \n",
      "Trial #: 23   2024-02-12   00:56:59 - 01:10:47    3          *** FAILED ***        \n",
      "Trial #: 24   2024-02-12   01:48:06 - 01:48:12    3          *** FAILED ***        \n",
      "Trial #: 25   2024-02-12   01:55:54 - 02:12:44    1      0.55990        0.56057    \n",
      "Trial #: 26   2024-02-12   02:12:45 - 02:29:49    1      0.59509        0.36394    \n",
      "Trial #: 27   2024-02-12   02:29:50 - 03:59:12    1      0.61147        0.37472    \n",
      "Trial #: 28   2024-02-12   03:59:13 - 04:49:11    1      0.61664        0.35477    \n",
      "Trial #: 29   2024-02-12   04:49:12 - 05:08:23    1      0.52726        0.37212    \n",
      "Trial #: 30   2024-02-12   14:00:38 - 14:26:29    1      0.62208        0.35362    rerun of trial 0\n",
      "Trial #: 31   2024-02-12   14:31:23 - 14:44:16    3          *** FAILED ***        rerun of trial 1\n",
      "Trial #: 32   2024-02-12   15:13:15 - 16:55:58    1      0.61050        0.37124    rerun of trial 2\n",
      "Trial #: 33   2024-02-12   16:55:59 - 17:23:19    1      0.61534        0.35553    rerun of trial 2\n",
      "Trial #: 34   2024-02-12   19:46:39 - 20:04:52    1      0.62132        0.35329    rerun of trial 3\n",
      "Trial #: 35   2024-02-12   20:04:53 - 20:51:04    1      0.60952        0.37508    rerun of trial 4\n",
      "Trial #: 36   2024-02-12   20:51:05 - 21:03:13    1      0.60955        0.35581    rerun of trial 5\n",
      "Trial #: 37   2024-02-12   21:03:14 - 21:21:57    1      0.54904        0.36606    rerun of trial 6\n",
      "Trial #: 38   2024-02-12   21:33:09 - 22:13:52    1      0.62365        0.35322    rerun of trial 7\n",
      "Trial #: 39   2024-02-12   22:13:52 - 22:25:39    1      0.58913        0.36734    rerun of trial 8\n",
      "Trial #: 40   2024-02-12   22:25:40 - 22:36:49    1      0.59105        0.36808    rerun of trial 9\n",
      "Trial #: 41   2024-02-12   22:36:50 - 23:05:05    1      0.60879        0.35860    rerun of trial 10\n",
      "Trial #: 42   2024-02-12   23:43:56 - 00:04:08    3          *** FAILED ***        rerun of trial 11\n",
      "Trial #: 43   2024-02-13   04:22:59 - 04:34:36    1      0.55585        0.57369    rerun of trial 12\n",
      "Trial #: 44   2024-02-13   04:34:37 - 04:49:42    1      0.61422        0.35551    rerun of trial 13\n",
      "Trial #: 45   2024-02-13   04:49:43 - 05:00:23    1      0.58133        0.38038    rerun of trial 14\n",
      "Trial #: 46   2024-02-13   05:00:23 - 05:15:50    1      0.59614        0.35925    rerun of trial 11\n",
      "Trial #: 47   2024-02-13   05:23:23 - 05:35:08    1      0.56613        0.41619    \n",
      "Trial #: 48   2024-02-13   05:35:09 - 05:49:09    1      0.56828        0.43065    \n",
      "Trial #: 49   2024-02-13   05:49:10 - 06:00:11    1      0.60657        0.35728    \n",
      "Trial #: 50   2024-02-13   06:00:11 - 06:13:01    1      0.58216        0.39139    \n",
      "Trial #: 51   2024-02-13   06:13:02 - 06:26:33    1      0.61431        0.35519    \n",
      "Trial #: 52   2024-02-13   06:32:02 - 07:26:32    1      0.62248        0.35331    \n",
      "Trial #: 53   2024-02-13   07:26:33 - 07:46:11    1      0.62233        0.35339    \n",
      "Trial #: 54   2024-02-13   07:46:12 - 07:59:04    1      0.55335        0.58426    \n",
      "Trial #: 55   2024-02-13   07:59:05 - 08:10:18    1      0.57281        0.40450    \n",
      "Trial #: 56   2024-02-13   08:10:20 - 08:21:40    1      0.56731        0.40014    \n",
      "Trial #: 57   2024-02-13   11:49:46 - 12:08:05    1      0.60925        0.35635    \n",
      "Trial #: 58   2024-02-13   12:08:06 - 12:20:26    1      0.58370        0.37018    \n",
      "Trial #: 59   2024-02-13   12:20:27 - 12:32:04    1      0.55849        0.46500    \n",
      "Trial #: 60   2024-02-13   12:32:04 - 13:14:32    1      0.61240        0.36259    \n",
      "Trial #: 61   2024-02-13   13:14:32 - 13:27:24    1      0.55885        0.44736    \n",
      " *** end of trials *** \n",
      " Best trials:  [1, 12]\n"
     ]
    }
   ],
   "source": [
    "disp_study_history(to_study)"
   ]
  },
  {
   "cell_type": "markdown",
   "metadata": {},
   "source": [
    "## Start Copy Process"
   ]
  },
  {
   "cell_type": "code",
   "execution_count": 52,
   "metadata": {
    "execution": {
     "iopub.execute_input": "2024-08-01T15:14:15.403324Z",
     "iopub.status.busy": "2024-08-01T15:14:15.402833Z",
     "iopub.status.idle": "2024-08-01T15:14:15.478748Z",
     "shell.execute_reply": "2024-08-01T15:14:15.477898Z",
     "shell.execute_reply.started": "2024-08-01T15:14:15.403288Z"
    }
   },
   "outputs": [
    {
     "name": "stdout",
     "output_type": "stream",
     "text": [
      "\n",
      "\n",
      " Study  : classification-study-1\n",
      " Metrics: ['roc_auc', 'logloss']\n",
      "\n",
      "                start     -   completion      status        validation metrics\n",
      " trial#         time      -      time          code      roc_auc        logloss\n",
      "--------------------------------------------------------------------------------\n",
      "Trial #: 0    2024-02-04   00:48:09 - 00:54:05    3          *** FAILED ***        \n",
      "Trial #: 1    2024-02-04   01:15:51 - 01:40:09    1      0.92354        0.20999    \n",
      "Trial #: 2    2024-02-04   10:36:45 - 12:28:29    1      0.82900        0.34993    \n",
      "Trial #: 3    2024-02-04   14:50:22 - 15:11:49    1      0.77843        0.32556    \n",
      "Trial #: 4    2024-02-04   15:11:50 - 16:04:43    1      0.71748        0.36995    \n",
      "Trial #: 5    2024-02-04   16:04:44 - 16:25:30    1      0.84788        0.29725    \n",
      "Trial #: 6    2024-02-04   16:25:30 - 16:55:59    1      0.62604        0.36119    \n",
      "Trial #: 7    2024-02-04   18:06:45 - 18:29:19    3          *** FAILED ***        \n",
      "Trial #: 8    2024-02-04   23:09:09 - 23:29:46    1      0.87990        0.22771    \n",
      "Trial #: 9    2024-02-04   23:29:47 - 23:50:19    1      0.81107        0.29039    \n",
      "Trial #: 10   2024-02-04   23:50:20 - 00:25:00    1      0.74011        0.33991    \n",
      "Trial #: 11   2024-02-05   00:25:00 - 00:49:35    1      0.62052        0.35998    \n",
      "Trial #: 12   2024-02-05   00:49:36 - 01:11:06    1      0.89875        0.18483    \n",
      "Trial #: 13   2024-02-05   01:11:06 - 01:34:06    1      0.91712        0.22948    \n",
      "Trial #: 14   2024-02-11   13:58:16 - 13:58:19    3          *** FAILED ***        \n",
      "Trial #: 15   2024-02-11   14:02:58 - 14:03:01    3          *** FAILED ***        \n",
      "Trial #: 16   2024-02-11   14:05:19 - 14:58:10    3          *** FAILED ***        \n",
      "Trial #: 17   2024-02-11   15:31:07 - 16:38:29    1      0.62593        0.35270    \n",
      "Trial #: 18   2024-02-11   21:49:10 - 21:50:24    3          *** FAILED ***        \n",
      "Trial #: 19   2024-02-11   21:50:47 - 22:14:47    1      0.60966        0.35607    \n",
      "Trial #: 20   2024-02-11   23:21:11 - 00:01:20    1      0.61561        0.36063    \n",
      "Trial #: 21   2024-02-12   00:01:21 - 00:39:17    1      0.60933        0.35866    \n",
      "Trial #: 22   2024-02-12   00:39:18 - 00:56:58    1      0.59683        0.36285    \n",
      "Trial #: 23   2024-02-12   00:56:59 - 01:10:47    3          *** FAILED ***        \n",
      "Trial #: 24   2024-02-12   01:48:06 - 01:48:12    3          *** FAILED ***        \n",
      "Trial #: 25   2024-02-12   01:55:54 - 02:12:44    1      0.55990        0.56057    \n",
      "Trial #: 26   2024-02-12   02:12:45 - 02:29:49    1      0.59509        0.36394    \n",
      "Trial #: 27   2024-02-12   02:29:50 - 03:59:12    1      0.61147        0.37472    \n",
      "Trial #: 28   2024-02-12   03:59:13 - 04:49:11    1      0.61664        0.35477    \n",
      "Trial #: 29   2024-02-12   04:49:12 - 05:08:23    1      0.52726        0.37212    \n",
      "Trial #: 30   2024-02-12   14:00:38 - 14:26:29    1      0.62208        0.35362    rerun of trial 0\n",
      "Trial #: 31   2024-02-12   14:31:23 - 14:44:16    3          *** FAILED ***        rerun of trial 1\n",
      "Trial #: 32   2024-02-12   15:13:15 - 16:55:58    1      0.61050        0.37124    rerun of trial 2\n",
      "Trial #: 33   2024-02-12   16:55:59 - 17:23:19    1      0.61534        0.35553    rerun of trial 2\n",
      "Trial #: 34   2024-02-12   19:46:39 - 20:04:52    1      0.62132        0.35329    rerun of trial 3\n",
      "Trial #: 35   2024-02-12   20:04:53 - 20:51:04    1      0.60952        0.37508    rerun of trial 4\n",
      "Trial #: 36   2024-02-12   20:51:05 - 21:03:13    1      0.60955        0.35581    rerun of trial 5\n",
      "Trial #: 37   2024-02-12   21:03:14 - 21:21:57    1      0.54904        0.36606    rerun of trial 6\n",
      "Trial #: 38   2024-02-12   21:33:09 - 22:13:52    1      0.62365        0.35322    rerun of trial 7\n",
      "Trial #: 39   2024-02-12   22:13:52 - 22:25:39    1      0.58913        0.36734    rerun of trial 8\n",
      "Trial #: 40   2024-02-12   22:25:40 - 22:36:49    1      0.59105        0.36808    rerun of trial 9\n",
      "Trial #: 41   2024-02-12   22:36:50 - 23:05:05    1      0.60879        0.35860    rerun of trial 10\n",
      "Trial #: 42   2024-02-12   23:43:56 - 00:04:08    3          *** FAILED ***        rerun of trial 11\n",
      "Trial #: 43   2024-02-13   04:22:59 - 04:34:36    1      0.55585        0.57369    rerun of trial 12\n",
      "Trial #: 44   2024-02-13   04:34:37 - 04:49:42    1      0.61422        0.35551    rerun of trial 13\n",
      "Trial #: 45   2024-02-13   04:49:43 - 05:00:23    1      0.58133        0.38038    rerun of trial 14\n",
      "Trial #: 46   2024-02-13   05:00:23 - 05:15:50    1      0.59614        0.35925    rerun of trial 11\n",
      "Trial #: 47   2024-02-13   05:23:23 - 05:35:08    1      0.56613        0.41619    \n",
      "Trial #: 48   2024-02-13   05:35:09 - 05:49:09    1      0.56828        0.43065    \n",
      "Trial #: 49   2024-02-13   05:49:10 - 06:00:11    1      0.60657        0.35728    \n",
      "Trial #: 50   2024-02-13   06:00:11 - 06:13:01    1      0.58216        0.39139    \n",
      "Trial #: 51   2024-02-13   06:13:02 - 06:26:33    1      0.61431        0.35519    \n",
      "Trial #: 52   2024-02-13   06:32:02 - 07:26:32    1      0.62248        0.35331    \n",
      "Trial #: 53   2024-02-13   07:26:33 - 07:46:11    1      0.62233        0.35339    \n",
      "Trial #: 54   2024-02-13   07:46:12 - 07:59:04    1      0.55335        0.58426    \n",
      "Trial #: 55   2024-02-13   07:59:05 - 08:10:18    1      0.57281        0.40450    \n",
      "Trial #: 56   2024-02-13   08:10:20 - 08:21:40    1      0.56731        0.40014    \n",
      "Trial #: 57   2024-02-13   11:49:46 - 12:08:05    1      0.60925        0.35635    \n",
      "Trial #: 58   2024-02-13   12:08:06 - 12:20:26    1      0.58370        0.37018    \n",
      "Trial #: 59   2024-02-13   12:20:27 - 12:32:04    1      0.55849        0.46500    \n",
      "Trial #: 60   2024-02-13   12:32:04 - 13:14:32    1      0.61240        0.36259    \n",
      "Trial #: 61   2024-02-13   13:14:32 - 13:27:24    1      0.55885        0.44736    \n",
      " *** end of trials *** \n",
      " Best trials:  [1, 12]\n"
     ]
    }
   ],
   "source": [
    "disp_study_history(from_study)"
   ]
  },
  {
   "cell_type": "markdown",
   "metadata": {},
   "source": [
    "### Create a new study (to copy over to)"
   ]
  },
  {
   "cell_type": "code",
   "execution_count": 48,
   "metadata": {
    "execution": {
     "iopub.execute_input": "2024-08-01T15:02:36.587488Z",
     "iopub.status.busy": "2024-08-01T15:02:36.586938Z",
     "iopub.status.idle": "2024-08-01T15:02:36.741387Z",
     "shell.execute_reply": "2024-08-01T15:02:36.740379Z",
     "shell.execute_reply.started": "2024-08-01T15:02:36.587447Z"
    }
   },
   "outputs": [
    {
     "name": "stderr",
     "output_type": "stream",
     "text": [
      "[I 2024-08-01 17:02:36,732] A new study created in RDB with name: classification-study-1\n"
     ]
    }
   ],
   "source": [
    "to_study = create_study(\n",
    "    study_name=to_study_name ,\n",
    "    storage=to_storage,\n",
    "    directions=from_study.directions,\n",
    "    load_if_exists=False,\n",
    ")"
   ]
  },
  {
   "cell_type": "code",
   "execution_count": 57,
   "metadata": {
    "execution": {
     "iopub.execute_input": "2024-08-01T15:19:54.040301Z",
     "iopub.status.busy": "2024-08-01T15:19:54.039798Z",
     "iopub.status.idle": "2024-08-01T15:19:54.107565Z",
     "shell.execute_reply": "2024-08-01T15:19:54.106691Z",
     "shell.execute_reply.started": "2024-08-01T15:19:54.040261Z"
    }
   },
   "outputs": [
    {
     "data": {
      "text/plain": [
       "{}"
      ]
     },
     "execution_count": 57,
     "metadata": {},
     "output_type": "execute_result"
    }
   ],
   "source": [
    "# disp_study_history(to_study)\n",
    "# to_study.study_name\n",
    "# to_study."
   ]
  },
  {
   "cell_type": "markdown",
   "metadata": {},
   "source": [
    "### Copy system attributes"
   ]
  },
  {
   "cell_type": "code",
   "execution_count": 61,
   "metadata": {
    "execution": {
     "iopub.execute_input": "2024-08-01T15:22:08.485756Z",
     "iopub.status.busy": "2024-08-01T15:22:08.485264Z",
     "iopub.status.idle": "2024-08-01T15:22:08.611936Z",
     "shell.execute_reply": "2024-08-01T15:22:08.610925Z",
     "shell.execute_reply.started": "2024-08-01T15:22:08.485719Z"
    }
   },
   "outputs": [
    {
     "name": "stdout",
     "output_type": "stream",
     "text": [
      " Copy from classification-study-1 trial: study:metric_names : ['roc_auc', 'logloss']  TO: classification-study-1\n"
     ]
    }
   ],
   "source": [
    "for key, value in from_study._storage.get_study_system_attrs(from_study._study_id).items():\n",
    "    print(f\" Copy System Attributes FROM: {from_study.study_name} trial: {key} : {value}  TO: {to_study.study_name}\")\n",
    "    to_study._storage.set_study_system_attr(to_study._study_id, key, value)"
   ]
  },
  {
   "cell_type": "markdown",
   "metadata": {},
   "source": [
    "### Copy user attributes"
   ]
  },
  {
   "cell_type": "code",
   "execution_count": 63,
   "metadata": {
    "execution": {
     "iopub.execute_input": "2024-08-01T15:22:54.633205Z",
     "iopub.status.busy": "2024-08-01T15:22:54.632757Z",
     "iopub.status.idle": "2024-08-01T15:22:54.698094Z",
     "shell.execute_reply": "2024-08-01T15:22:54.696975Z",
     "shell.execute_reply.started": "2024-08-01T15:22:54.633169Z"
    }
   },
   "outputs": [],
   "source": [
    "for key, value in from_study.user_attrs.items():\n",
    "    print(f\" Copy User Attributes FROM: {from_study.study_name} trial: {key} : {value}  TO: {to_study.study_name}\")\n",
    "    to_study.set_user_attr(key, value)"
   ]
  },
  {
   "cell_type": "code",
   "execution_count": 23,
   "metadata": {
    "execution": {
     "iopub.execute_input": "2024-02-13T05:27:04.492843Z",
     "iopub.status.busy": "2024-02-13T05:27:04.492369Z",
     "iopub.status.idle": "2024-02-13T05:27:04.527216Z",
     "shell.execute_reply": "2024-02-13T05:27:04.526567Z",
     "shell.execute_reply.started": "2024-02-13T05:27:04.492803Z"
    }
   },
   "outputs": [],
   "source": [
    "# disp_study_history(from_study)"
   ]
  },
  {
   "cell_type": "markdown",
   "metadata": {},
   "source": [
    "### Get trials from source study (to copy over)"
   ]
  },
  {
   "cell_type": "code",
   "execution_count": 64,
   "metadata": {
    "execution": {
     "iopub.execute_input": "2024-08-01T15:23:05.972011Z",
     "iopub.status.busy": "2024-08-01T15:23:05.971511Z",
     "iopub.status.idle": "2024-08-01T15:23:06.035978Z",
     "shell.execute_reply": "2024-08-01T15:23:06.034915Z",
     "shell.execute_reply.started": "2024-08-01T15:23:05.971974Z"
    }
   },
   "outputs": [],
   "source": [
    "# Trials are deep copied on `add_trials`.\n",
    "from_trials = from_study.get_trials(deepcopy=False)"
   ]
  },
  {
   "cell_type": "code",
   "execution_count": 65,
   "metadata": {
    "execution": {
     "iopub.execute_input": "2024-08-01T15:23:14.093921Z",
     "iopub.status.busy": "2024-08-01T15:23:14.093433Z",
     "iopub.status.idle": "2024-08-01T15:23:14.159745Z",
     "shell.execute_reply": "2024-08-01T15:23:14.158744Z",
     "shell.execute_reply.started": "2024-08-01T15:23:14.093885Z"
    }
   },
   "outputs": [
    {
     "data": {
      "text/plain": [
       "62"
      ]
     },
     "execution_count": 65,
     "metadata": {},
     "output_type": "execute_result"
    },
    {
     "data": {
      "text/plain": [
       "list"
      ]
     },
     "execution_count": 65,
     "metadata": {},
     "output_type": "execute_result"
    },
    {
     "data": {
      "text/plain": [
       "FrozenTrial(number=0, state=3, values=None, datetime_start=datetime.datetime(2024, 2, 4, 0, 48, 9, 793433), datetime_complete=datetime.datetime(2024, 2, 4, 0, 54, 5, 488762), params={'learning_rate': 0.14327608105242665, 'min_split_loss': 0.013665061540799606, 'max_depth': 11, 'min_child_weight': 9.683348905910576, 'max_delta_step': 0.0746562549161478, 'subsample': 0.9869150345493672, 'colsample_bylevel': 0.5856183883769744, 'colsample_bynode': 0.5820866507844484}, user_attrs={}, system_attrs={'nsga2:generation': 0}, intermediate_values={}, distributions={'learning_rate': FloatDistribution(high=1.0, log=True, low=0.0001, step=None), 'min_split_loss': FloatDistribution(high=10.0, log=False, low=0.0, step=None), 'max_depth': IntDistribution(high=15, log=False, low=1, step=1), 'min_child_weight': FloatDistribution(high=10.0, log=False, low=0.0, step=None), 'max_delta_step': FloatDistribution(high=10.0, log=False, low=0.0, step=None), 'subsample': FloatDistribution(high=1.0, log=False, low=0.4, step=None), 'colsample_bylevel': FloatDistribution(high=1.0, log=False, low=0.5, step=None), 'colsample_bynode': FloatDistribution(high=1.0, log=False, low=0.5, step=None)}, trial_id=1, value=None)"
      ]
     },
     "execution_count": 65,
     "metadata": {},
     "output_type": "execute_result"
    }
   ],
   "source": [
    "len(from_trials)\n",
    "type(from_trials)\n",
    "from_trials[0]"
   ]
  },
  {
   "cell_type": "code",
   "execution_count": 27,
   "metadata": {
    "execution": {
     "iopub.execute_input": "2024-02-13T12:41:05.322783Z",
     "iopub.status.busy": "2024-02-13T12:41:05.322285Z",
     "iopub.status.idle": "2024-02-13T12:41:05.368289Z",
     "shell.execute_reply": "2024-02-13T12:41:05.367235Z",
     "shell.execute_reply.started": "2024-02-13T12:41:05.322739Z"
    }
   },
   "outputs": [
    {
     "data": {
      "text/plain": [
       "10"
      ]
     },
     "execution_count": 27,
     "metadata": {},
     "output_type": "execute_result"
    }
   ],
   "source": [
    "# copy_trials = from_trials[52:62]\n",
    "# len(copy_trials)"
   ]
  },
  {
   "cell_type": "code",
   "execution_count": 67,
   "metadata": {
    "execution": {
     "iopub.execute_input": "2024-08-01T15:23:36.653957Z",
     "iopub.status.busy": "2024-08-01T15:23:36.653413Z",
     "iopub.status.idle": "2024-08-01T15:23:41.974678Z",
     "shell.execute_reply": "2024-08-01T15:23:41.973074Z",
     "shell.execute_reply.started": "2024-08-01T15:23:36.653916Z"
    }
   },
   "outputs": [],
   "source": [
    "# Trials are deep copied on `add_trials`.\n",
    "to_study.add_trials(from_trials)\n",
    "\n",
    "# Trials are deep copied on `add_trials`.\n",
    "# to_study.add_trials(from_study.get_trials(deepcopy=False))"
   ]
  },
  {
   "cell_type": "code",
   "execution_count": 68,
   "metadata": {
    "execution": {
     "iopub.execute_input": "2024-08-01T15:23:46.331431Z",
     "iopub.status.busy": "2024-08-01T15:23:46.330931Z",
     "iopub.status.idle": "2024-08-01T15:23:46.465100Z",
     "shell.execute_reply": "2024-08-01T15:23:46.464100Z",
     "shell.execute_reply.started": "2024-08-01T15:23:46.331392Z"
    }
   },
   "outputs": [
    {
     "name": "stdout",
     "output_type": "stream",
     "text": [
      "\n",
      "\n",
      " Study  : classification-study-1\n",
      " Metrics: ['roc_auc', 'logloss']\n",
      "\n",
      "                start     -   completion      status        validation metrics\n",
      " trial#         time      -      time          code      roc_auc        logloss\n",
      "--------------------------------------------------------------------------------\n",
      "Trial #: 0    2024-02-04   00:48:09 - 00:54:05    3          *** FAILED ***        \n",
      "Trial #: 1    2024-02-04   01:15:51 - 01:40:09    1      0.92354        0.20999    \n",
      "Trial #: 2    2024-02-04   10:36:45 - 12:28:29    1      0.82900        0.34993    \n",
      "Trial #: 3    2024-02-04   14:50:22 - 15:11:49    1      0.77843        0.32556    \n",
      "Trial #: 4    2024-02-04   15:11:50 - 16:04:43    1      0.71748        0.36995    \n",
      "Trial #: 5    2024-02-04   16:04:44 - 16:25:30    1      0.84788        0.29725    \n",
      "Trial #: 6    2024-02-04   16:25:30 - 16:55:59    1      0.62604        0.36119    \n",
      "Trial #: 7    2024-02-04   18:06:45 - 18:29:19    3          *** FAILED ***        \n",
      "Trial #: 8    2024-02-04   23:09:09 - 23:29:46    1      0.87990        0.22771    \n",
      "Trial #: 9    2024-02-04   23:29:47 - 23:50:19    1      0.81107        0.29039    \n",
      "Trial #: 10   2024-02-04   23:50:20 - 00:25:00    1      0.74011        0.33991    \n",
      "Trial #: 11   2024-02-05   00:25:00 - 00:49:35    1      0.62052        0.35998    \n",
      "Trial #: 12   2024-02-05   00:49:36 - 01:11:06    1      0.89875        0.18483    \n",
      "Trial #: 13   2024-02-05   01:11:06 - 01:34:06    1      0.91712        0.22948    \n",
      "Trial #: 14   2024-02-11   13:58:16 - 13:58:19    3          *** FAILED ***        \n",
      "Trial #: 15   2024-02-11   14:02:58 - 14:03:01    3          *** FAILED ***        \n",
      "Trial #: 16   2024-02-11   14:05:19 - 14:58:10    3          *** FAILED ***        \n",
      "Trial #: 17   2024-02-11   15:31:07 - 16:38:29    1      0.62593        0.35270    \n",
      "Trial #: 18   2024-02-11   21:49:10 - 21:50:24    3          *** FAILED ***        \n",
      "Trial #: 19   2024-02-11   21:50:47 - 22:14:47    1      0.60966        0.35607    \n",
      "Trial #: 20   2024-02-11   23:21:11 - 00:01:20    1      0.61561        0.36063    \n",
      "Trial #: 21   2024-02-12   00:01:21 - 00:39:17    1      0.60933        0.35866    \n",
      "Trial #: 22   2024-02-12   00:39:18 - 00:56:58    1      0.59683        0.36285    \n",
      "Trial #: 23   2024-02-12   00:56:59 - 01:10:47    3          *** FAILED ***        \n",
      "Trial #: 24   2024-02-12   01:48:06 - 01:48:12    3          *** FAILED ***        \n",
      "Trial #: 25   2024-02-12   01:55:54 - 02:12:44    1      0.55990        0.56057    \n",
      "Trial #: 26   2024-02-12   02:12:45 - 02:29:49    1      0.59509        0.36394    \n",
      "Trial #: 27   2024-02-12   02:29:50 - 03:59:12    1      0.61147        0.37472    \n",
      "Trial #: 28   2024-02-12   03:59:13 - 04:49:11    1      0.61664        0.35477    \n",
      "Trial #: 29   2024-02-12   04:49:12 - 05:08:23    1      0.52726        0.37212    \n",
      "Trial #: 30   2024-02-12   14:00:38 - 14:26:29    1      0.62208        0.35362    rerun of trial 0\n",
      "Trial #: 31   2024-02-12   14:31:23 - 14:44:16    3          *** FAILED ***        rerun of trial 1\n",
      "Trial #: 32   2024-02-12   15:13:15 - 16:55:58    1      0.61050        0.37124    rerun of trial 2\n",
      "Trial #: 33   2024-02-12   16:55:59 - 17:23:19    1      0.61534        0.35553    rerun of trial 2\n",
      "Trial #: 34   2024-02-12   19:46:39 - 20:04:52    1      0.62132        0.35329    rerun of trial 3\n",
      "Trial #: 35   2024-02-12   20:04:53 - 20:51:04    1      0.60952        0.37508    rerun of trial 4\n",
      "Trial #: 36   2024-02-12   20:51:05 - 21:03:13    1      0.60955        0.35581    rerun of trial 5\n",
      "Trial #: 37   2024-02-12   21:03:14 - 21:21:57    1      0.54904        0.36606    rerun of trial 6\n",
      "Trial #: 38   2024-02-12   21:33:09 - 22:13:52    1      0.62365        0.35322    rerun of trial 7\n",
      "Trial #: 39   2024-02-12   22:13:52 - 22:25:39    1      0.58913        0.36734    rerun of trial 8\n",
      "Trial #: 40   2024-02-12   22:25:40 - 22:36:49    1      0.59105        0.36808    rerun of trial 9\n",
      "Trial #: 41   2024-02-12   22:36:50 - 23:05:05    1      0.60879        0.35860    rerun of trial 10\n",
      "Trial #: 42   2024-02-12   23:43:56 - 00:04:08    3          *** FAILED ***        rerun of trial 11\n",
      "Trial #: 43   2024-02-13   04:22:59 - 04:34:36    1      0.55585        0.57369    rerun of trial 12\n",
      "Trial #: 44   2024-02-13   04:34:37 - 04:49:42    1      0.61422        0.35551    rerun of trial 13\n",
      "Trial #: 45   2024-02-13   04:49:43 - 05:00:23    1      0.58133        0.38038    rerun of trial 14\n",
      "Trial #: 46   2024-02-13   05:00:23 - 05:15:50    1      0.59614        0.35925    rerun of trial 11\n",
      "Trial #: 47   2024-02-13   05:23:23 - 05:35:08    1      0.56613        0.41619    \n",
      "Trial #: 48   2024-02-13   05:35:09 - 05:49:09    1      0.56828        0.43065    \n",
      "Trial #: 49   2024-02-13   05:49:10 - 06:00:11    1      0.60657        0.35728    \n",
      "Trial #: 50   2024-02-13   06:00:11 - 06:13:01    1      0.58216        0.39139    \n",
      "Trial #: 51   2024-02-13   06:13:02 - 06:26:33    1      0.61431        0.35519    \n",
      "Trial #: 52   2024-02-13   06:32:02 - 07:26:32    1      0.62248        0.35331    \n",
      "Trial #: 53   2024-02-13   07:26:33 - 07:46:11    1      0.62233        0.35339    \n",
      "Trial #: 54   2024-02-13   07:46:12 - 07:59:04    1      0.55335        0.58426    \n",
      "Trial #: 55   2024-02-13   07:59:05 - 08:10:18    1      0.57281        0.40450    \n",
      "Trial #: 56   2024-02-13   08:10:20 - 08:21:40    1      0.56731        0.40014    \n",
      "Trial #: 57   2024-02-13   11:49:46 - 12:08:05    1      0.60925        0.35635    \n",
      "Trial #: 58   2024-02-13   12:08:06 - 12:20:26    1      0.58370        0.37018    \n",
      "Trial #: 59   2024-02-13   12:20:27 - 12:32:04    1      0.55849        0.46500    \n",
      "Trial #: 60   2024-02-13   12:32:04 - 13:14:32    1      0.61240        0.36259    \n",
      "Trial #: 61   2024-02-13   13:14:32 - 13:27:24    1      0.55885        0.44736    \n",
      " *** end of trials *** \n",
      " Best trials:  [1, 12]\n"
     ]
    }
   ],
   "source": [
    "disp_study_history(to_study)"
   ]
  },
  {
   "cell_type": "markdown",
   "metadata": {},
   "source": [
    "# Optuna Delete Study"
   ]
  },
  {
   "cell_type": "code",
   "execution_count": 38,
   "metadata": {
    "execution": {
     "iopub.execute_input": "2024-08-01T14:55:40.671188Z",
     "iopub.status.busy": "2024-08-01T14:55:40.670692Z",
     "iopub.status.idle": "2024-08-01T14:55:40.811177Z",
     "shell.execute_reply": "2024-08-01T14:55:40.810338Z",
     "shell.execute_reply.started": "2024-08-01T14:55:40.671150Z"
    }
   },
   "outputs": [],
   "source": [
    "optuna.delete_study(study_name=\"classification-study-1\",storage=storage_4)"
   ]
  },
  {
   "cell_type": "markdown",
   "metadata": {
    "jp-MarkdownHeadingCollapsed": true
   },
   "source": [
    "# Optuna trying to copy /delete trials from study"
   ]
  },
  {
   "cell_type": "code",
   "execution_count": null,
   "metadata": {
    "execution": {
     "iopub.execute_input": "2024-02-13T03:39:20.157716Z",
     "iopub.status.busy": "2024-02-13T03:39:20.157194Z",
     "iopub.status.idle": "2024-02-13T03:39:21.545609Z",
     "shell.execute_reply": "2024-02-13T03:39:21.544727Z",
     "shell.execute_reply.started": "2024-02-13T03:39:20.157672Z"
    }
   },
   "outputs": [],
   "source": [
    "study_name=\"classification-study-1\"\n",
    "storage = \"sqlite:///example.db\"\n",
    "study_name_copy=\"classification-study-1-copy\"\n",
    "storage_copy = \"sqlite:///example_copy.db\""
   ]
  },
  {
   "cell_type": "code",
   "execution_count": null,
   "metadata": {
    "execution": {
     "iopub.execute_input": "2024-02-13T03:39:20.157716Z",
     "iopub.status.busy": "2024-02-13T03:39:20.157194Z",
     "iopub.status.idle": "2024-02-13T03:39:21.545609Z",
     "shell.execute_reply": "2024-02-13T03:39:21.544727Z",
     "shell.execute_reply.started": "2024-02-13T03:39:20.157672Z"
    }
   },
   "outputs": [],
   "source": [
    "## https://optuna.readthedocs.io/en/stable/reference/generated/optuna.storages.RetryFailedTrialCallback.html\n",
    "\n",
    "from optuna.storages import RetryFailedTrialCallback\n",
    "\n",
    "# storage_instance = optuna.storages.RDBStorage(\n",
    "#     url=storage_copy,\n",
    "#     heartbeat_interval=60,\n",
    "#     grace_period=120,\n",
    "#     failed_trial_callback=RetryFailedTrialCallback(max_retry=3),\n",
    "# )\n",
    "# storage_instance"
   ]
  },
  {
   "cell_type": "code",
   "execution_count": 91,
   "metadata": {
    "editable": true,
    "execution": {
     "iopub.execute_input": "2024-02-12T12:14:23.025525Z",
     "iopub.status.busy": "2024-02-12T12:14:23.024475Z",
     "iopub.status.idle": "2024-02-12T12:14:23.136837Z",
     "shell.execute_reply": "2024-02-12T12:14:23.135979Z",
     "shell.execute_reply.started": "2024-02-12T12:14:23.025473Z"
    },
    "slideshow": {
     "slide_type": ""
    },
    "tags": []
   },
   "outputs": [],
   "source": [
    "# optuna.copy_study(\n",
    "#     from_study_name=study_name,\n",
    "#     from_storage=\"sqlite:///example.db\",\n",
    "#     to_storage=\"sqlite:///example_copy.db\",\n",
    "# )\n",
    "# study = optuna.load_study(storage=\"sqlite:///example_copy.db\",\n",
    "                            # study_name=\"classification-study-1-copy\",)\n",
    "\n",
    "study = optuna.load_study(study_name = study_name_copy, storage = storage_instance)\n"
   ]
  },
  {
   "cell_type": "code",
   "execution_count": 92,
   "metadata": {
    "execution": {
     "iopub.execute_input": "2024-02-12T12:14:24.118428Z",
     "iopub.status.busy": "2024-02-12T12:14:24.117998Z",
     "iopub.status.idle": "2024-02-12T12:14:24.269821Z",
     "shell.execute_reply": "2024-02-12T12:14:24.268754Z",
     "shell.execute_reply.started": "2024-02-12T12:14:24.118393Z"
    },
    "lines_to_next_cell": 2
   },
   "outputs": [
    {
     "name": "stdout",
     "output_type": "stream",
     "text": [
      " classification-study-1-copy  study history\n",
      "\n",
      "            status        validation metrics\n"
     ]
    },
    {
     "ename": "TypeError",
     "evalue": "'NoneType' object is not subscriptable",
     "output_type": "error",
     "traceback": [
      "\u001b[0;31m---------------------------------------------------------------------------\u001b[0m",
      "\u001b[0;31mTypeError\u001b[0m                                 Traceback (most recent call last)",
      "Cell \u001b[0;32mIn[92], line 1\u001b[0m\n\u001b[0;32m----> 1\u001b[0m \u001b[43mdisp_study_history\u001b[49m\u001b[43m(\u001b[49m\u001b[43mstudy\u001b[49m\u001b[43m)\u001b[49m\n",
      "File \u001b[0;32m~/WSL-shared/Cellpainting/cj-datasets/utils_cellpainting.py:345\u001b[0m, in \u001b[0;36mdisp_study_history\u001b[0;34m(study)\u001b[0m\n\u001b[1;32m    342\u001b[0m \u001b[38;5;28mprint\u001b[39m(\u001b[38;5;124mf\u001b[39m\u001b[38;5;124m\"\u001b[39m\u001b[38;5;124m \u001b[39m\u001b[38;5;132;01m{\u001b[39;00mstudy\u001b[38;5;241m.\u001b[39mstudy_name\u001b[38;5;132;01m}\u001b[39;00m\u001b[38;5;124m  study history\u001b[39m\u001b[38;5;130;01m\\n\u001b[39;00m\u001b[38;5;124m\"\u001b[39m)\n\u001b[1;32m    344\u001b[0m \u001b[38;5;28mprint\u001b[39m(\u001b[38;5;124mf\u001b[39m\u001b[38;5;124m\"\u001b[39m\u001b[38;5;124m            status        validation metrics\u001b[39m\u001b[38;5;124m\"\u001b[39m)\n\u001b[0;32m--> 345\u001b[0m \u001b[38;5;28mprint\u001b[39m(\u001b[38;5;124mf\u001b[39m\u001b[38;5;124m\"\u001b[39m\u001b[38;5;124m trial#      code       \u001b[39m\u001b[38;5;132;01m{\u001b[39;00m\u001b[43mstudy\u001b[49m\u001b[38;5;241;43m.\u001b[39;49m\u001b[43mmetric_names\u001b[49m\u001b[43m[\u001b[49m\u001b[38;5;241;43m0\u001b[39;49m\u001b[43m]\u001b[49m\u001b[38;5;132;01m}\u001b[39;00m\u001b[38;5;124m        \u001b[39m\u001b[38;5;132;01m{\u001b[39;00mstudy\u001b[38;5;241m.\u001b[39mmetric_names[\u001b[38;5;241m1\u001b[39m]\u001b[38;5;132;01m}\u001b[39;00m\u001b[38;5;124m\"\u001b[39m)\n\u001b[1;32m    346\u001b[0m \u001b[38;5;28mprint\u001b[39m(\u001b[38;5;124m\"\u001b[39m\u001b[38;5;124m-\u001b[39m\u001b[38;5;124m\"\u001b[39m\u001b[38;5;241m*\u001b[39m\u001b[38;5;241m50\u001b[39m)\n\u001b[1;32m    347\u001b[0m \u001b[38;5;28;01mfor\u001b[39;00m st \u001b[38;5;129;01min\u001b[39;00m study\u001b[38;5;241m.\u001b[39mtrials:\n",
      "\u001b[0;31mTypeError\u001b[0m: 'NoneType' object is not subscriptable"
     ]
    }
   ],
   "source": [
    "disp_study_history(study)"
   ]
  },
  {
   "cell_type": "code",
   "execution_count": 87,
   "metadata": {
    "execution": {
     "iopub.execute_input": "2024-02-12T12:12:37.475140Z",
     "iopub.status.busy": "2024-02-12T12:12:37.473587Z",
     "iopub.status.idle": "2024-02-12T12:12:37.545964Z",
     "shell.execute_reply": "2024-02-12T12:12:37.545291Z",
     "shell.execute_reply.started": "2024-02-12T12:12:37.475089Z"
    }
   },
   "outputs": [
    {
     "data": {
      "text/plain": [
       "29"
      ]
     },
     "execution_count": 87,
     "metadata": {},
     "output_type": "execute_result"
    }
   ],
   "source": [
    "ho_study_name = \"classification-study-1-copy\"\n",
    "ho_storage_name = storage_copy\n",
    "ho_trials_to_delete = [0,7,14]\n",
    "\n",
    "num_trials = study.trials[-1].number\n",
    "num_trials_to_keep = 50\n",
    "\n",
    "num_trials"
   ]
  },
  {
   "cell_type": "code",
   "execution_count": 67,
   "metadata": {
    "execution": {
     "iopub.execute_input": "2024-02-12T11:55:04.100640Z",
     "iopub.status.busy": "2024-02-12T11:55:04.100134Z",
     "iopub.status.idle": "2024-02-12T11:55:04.152720Z",
     "shell.execute_reply": "2024-02-12T11:55:04.151802Z",
     "shell.execute_reply.started": "2024-02-12T11:55:04.100597Z"
    }
   },
   "outputs": [
    {
     "data": {
      "text/plain": [
       "FrozenTrial(number=0, state=3, values=None, datetime_start=datetime.datetime(2024, 2, 4, 0, 48, 9, 793433), datetime_complete=datetime.datetime(2024, 2, 4, 0, 54, 5, 488762), params={'learning_rate': 0.14327608105242665, 'min_split_loss': 0.013665061540799606, 'max_depth': 11, 'min_child_weight': 9.683348905910576, 'max_delta_step': 0.0746562549161478, 'subsample': 0.9869150345493672, 'colsample_bylevel': 0.5856183883769744, 'colsample_bynode': 0.5820866507844484}, user_attrs={}, system_attrs={'nsga2:generation': 0}, intermediate_values={}, distributions={'learning_rate': FloatDistribution(high=1.0, log=True, low=0.0001, step=None), 'min_split_loss': FloatDistribution(high=10.0, log=False, low=0.0, step=None), 'max_depth': IntDistribution(high=15, log=False, low=1, step=1), 'min_child_weight': FloatDistribution(high=10.0, log=False, low=0.0, step=None), 'max_delta_step': FloatDistribution(high=10.0, log=False, low=0.0, step=None), 'subsample': FloatDistribution(high=1.0, log=False, low=0.4, step=None), 'colsample_bylevel': FloatDistribution(high=1.0, log=False, low=0.5, step=None), 'colsample_bynode': FloatDistribution(high=1.0, log=False, low=0.5, step=None)}, trial_id=1, value=None)"
      ]
     },
     "execution_count": 67,
     "metadata": {},
     "output_type": "execute_result"
    }
   ],
   "source": [
    "t = study.trials[0] \n",
    "t "
   ]
  },
  {
   "cell_type": "code",
   "execution_count": 69,
   "metadata": {
    "execution": {
     "iopub.execute_input": "2024-02-12T11:56:45.878137Z",
     "iopub.status.busy": "2024-02-12T11:56:45.877616Z",
     "iopub.status.idle": "2024-02-12T11:56:45.929408Z",
     "shell.execute_reply": "2024-02-12T11:56:45.928502Z",
     "shell.execute_reply.started": "2024-02-12T11:56:45.878095Z"
    }
   },
   "outputs": [
    {
     "ename": "SyntaxError",
     "evalue": "invalid syntax. Perhaps you forgot a comma? (757330297.py, line 2)",
     "output_type": "error",
     "traceback": [
      "\u001b[0;36m  Cell \u001b[0;32mIn[69], line 2\u001b[0;36m\u001b[0m\n\u001b[0;31m    optuna.trial.create_trial(\u001b[0m\n\u001b[0m    ^\u001b[0m\n\u001b[0;31mSyntaxError\u001b[0m\u001b[0;31m:\u001b[0m invalid syntax. Perhaps you forgot a comma?\n"
     ]
    }
   ],
   "source": [
    "trials_to_keep = [\n",
    "    optuna.trial.create_trial(\n",
    "        state=optuna.trial.TrialState.COMPLETE,\n",
    "        params=t.params,\n",
    "        user_attrs=t.user_attrs,\n",
    "        system_attrs=t.system_attrs,\n",
    "        intermediate_values=t.intermediate_values,\n",
    "        distributions=t.distributions,\n",
    "        values=t.values,\n",
    "        value =t.value\n",
    "    )   t in study.trials if t.state = optuna.trial.TrialState.COMPLETE ] ##t.number not in ho_trials_to_delete]"
   ]
  },
  {
   "cell_type": "code",
   "execution_count": 85,
   "metadata": {
    "execution": {
     "iopub.execute_input": "2024-02-12T12:01:51.335753Z",
     "iopub.status.busy": "2024-02-12T12:01:51.334765Z",
     "iopub.status.idle": "2024-02-12T12:01:51.393987Z",
     "shell.execute_reply": "2024-02-12T12:01:51.393074Z",
     "shell.execute_reply.started": "2024-02-12T12:01:51.335725Z"
    }
   },
   "outputs": [
    {
     "ename": "SyntaxError",
     "evalue": "invalid syntax. Perhaps you forgot a comma? (582776261.py, line 6)",
     "output_type": "error",
     "traceback": [
      "\u001b[0;36m  Cell \u001b[0;32mIn[85], line 6\u001b[0;36m\u001b[0m\n\u001b[0;31m    trial_id = t.trial_id\u001b[0m\n\u001b[0m               ^\u001b[0m\n\u001b[0;31mSyntaxError\u001b[0m\u001b[0;31m:\u001b[0m invalid syntax. Perhaps you forgot a comma?\n"
     ]
    }
   ],
   "source": [
    "trials_to_keep = [] \n",
    "for t in study.trials:\n",
    "     if t.state == optuna.trial.TrialState.COMPLETE : \n",
    "        copy_t =  optuna.trial.create_trial(\n",
    "            \n",
    "                            trial_id = t.trial_id\n",
    "                            state=optuna.trial.TrialState.COMPLETE,\n",
    "                            params=t.params,\n",
    "                            user_attrs=t.user_attrs,\n",
    "                            system_attrs=t.system_attrs,\n",
    "                            intermediate_values=t.intermediate_values,\n",
    "                            distributions=t.distributions,\n",
    "                            values=t.values,\n",
    "                            # value =t.value\n",
    "                        ) \n",
    "        trials_to_keep.append(copy_t)"
   ]
  },
  {
   "cell_type": "code",
   "execution_count": null,
   "metadata": {},
   "outputs": [],
   "source": []
  },
  {
   "cell_type": "code",
   "execution_count": 10,
   "metadata": {
    "execution": {
     "iopub.execute_input": "2024-02-13T03:43:57.055182Z",
     "iopub.status.busy": "2024-02-13T03:43:57.054630Z",
     "iopub.status.idle": "2024-02-13T03:43:57.097108Z",
     "shell.execute_reply": "2024-02-13T03:43:57.096497Z",
     "shell.execute_reply.started": "2024-02-13T03:43:57.055140Z"
    }
   },
   "outputs": [],
   "source": [
    "# trials_to_keep"
   ]
  },
  {
   "cell_type": "code",
   "execution_count": 88,
   "metadata": {
    "execution": {
     "iopub.execute_input": "2024-02-12T12:13:23.470846Z",
     "iopub.status.busy": "2024-02-12T12:13:23.470353Z",
     "iopub.status.idle": "2024-02-12T12:13:23.516120Z",
     "shell.execute_reply": "2024-02-12T12:13:23.515582Z",
     "shell.execute_reply.started": "2024-02-12T12:13:23.470804Z"
    }
   },
   "outputs": [
    {
     "data": {
      "text/plain": [
       "'sqlite:///example_copy.db'"
      ]
     },
     "execution_count": 88,
     "metadata": {},
     "output_type": "execute_result"
    }
   ],
   "source": [
    "ho_storage_name"
   ]
  },
  {
   "cell_type": "code",
   "execution_count": 90,
   "metadata": {
    "execution": {
     "iopub.execute_input": "2024-02-12T12:13:32.164678Z",
     "iopub.status.busy": "2024-02-12T12:13:32.164384Z",
     "iopub.status.idle": "2024-02-12T12:13:33.636606Z",
     "shell.execute_reply": "2024-02-12T12:13:33.636005Z",
     "shell.execute_reply.started": "2024-02-12T12:13:32.164655Z"
    }
   },
   "outputs": [
    {
     "name": "stderr",
     "output_type": "stream",
     "text": [
      "[I 2024-02-12 13:13:32,369] A new study created in RDB with name: classification-study-1-copy\n"
     ]
    }
   ],
   "source": [
    "# Delete study before recreating\n",
    "# optuna.delete_study(study_name=ho_study_name, storage=ho_storage_name)\n",
    "\n",
    "# Recreate study and add trials to keep\n",
    "new_study = optuna.create_study(\n",
    "    pruner=optuna.pruners.MedianPruner(n_warmup_steps=5),\n",
    "    directions=[\"maximize\",\"minimize\"],     \n",
    "    study_name=ho_study_name,\n",
    "    storage=ho_storage_name,\n",
    "    load_if_exists=True)\n",
    "new_study.add_trials(trials_to_keep)"
   ]
  },
  {
   "cell_type": "code",
   "execution_count": 58,
   "metadata": {
    "execution": {
     "iopub.execute_input": "2024-02-12T11:52:04.052062Z",
     "iopub.status.busy": "2024-02-12T11:52:04.051579Z",
     "iopub.status.idle": "2024-02-12T11:52:04.132068Z",
     "shell.execute_reply": "2024-02-12T11:52:04.131253Z",
     "shell.execute_reply.started": "2024-02-12T11:52:04.052022Z"
    },
    "lines_to_next_cell": 2
   },
   "outputs": [
    {
     "data": {
      "text/plain": [
       "FrozenTrial(number=0, state=3, values=None, datetime_start=datetime.datetime(2024, 2, 4, 0, 48, 9, 793433), datetime_complete=datetime.datetime(2024, 2, 4, 0, 54, 5, 488762), params={'learning_rate': 0.14327608105242665, 'min_split_loss': 0.013665061540799606, 'max_depth': 11, 'min_child_weight': 9.683348905910576, 'max_delta_step': 0.0746562549161478, 'subsample': 0.9869150345493672, 'colsample_bylevel': 0.5856183883769744, 'colsample_bynode': 0.5820866507844484}, user_attrs={}, system_attrs={'nsga2:generation': 0}, intermediate_values={}, distributions={'learning_rate': FloatDistribution(high=1.0, log=True, low=0.0001, step=None), 'min_split_loss': FloatDistribution(high=10.0, log=False, low=0.0, step=None), 'max_depth': IntDistribution(high=15, log=False, low=1, step=1), 'min_child_weight': FloatDistribution(high=10.0, log=False, low=0.0, step=None), 'max_delta_step': FloatDistribution(high=10.0, log=False, low=0.0, step=None), 'subsample': FloatDistribution(high=1.0, log=False, low=0.4, step=None), 'colsample_bylevel': FloatDistribution(high=1.0, log=False, low=0.5, step=None), 'colsample_bynode': FloatDistribution(high=1.0, log=False, low=0.5, step=None)}, trial_id=1, value=None)"
      ]
     },
     "execution_count": 58,
     "metadata": {},
     "output_type": "execute_result"
    },
    {
     "ename": "RuntimeError",
     "evalue": "This attribute is not available during multi-objective optimization.",
     "output_type": "error",
     "traceback": [
      "\u001b[0;31m---------------------------------------------------------------------------\u001b[0m",
      "\u001b[0;31mRuntimeError\u001b[0m                              Traceback (most recent call last)",
      "Cell \u001b[0;32mIn[58], line 3\u001b[0m\n\u001b[1;32m      1\u001b[0m study\u001b[38;5;241m.\u001b[39mtrials[\u001b[38;5;241m0\u001b[39m]\n\u001b[1;32m      2\u001b[0m \u001b[38;5;66;03m# study.trials.pop(0)\u001b[39;00m\n\u001b[0;32m----> 3\u001b[0m \u001b[43mstudy\u001b[49m\u001b[38;5;241;43m.\u001b[39;49m\u001b[43mtrials\u001b[49m\u001b[43m[\u001b[49m\u001b[38;5;241;43m1\u001b[39;49m\u001b[43m]\u001b[49m\u001b[38;5;241;43m.\u001b[39;49m\u001b[43mvalue\u001b[49m\n",
      "File \u001b[0;32m~/miniforge3/envs/cp311/lib/python3.11/site-packages/optuna/trial/_frozen.py:378\u001b[0m, in \u001b[0;36mFrozenTrial.value\u001b[0;34m(self)\u001b[0m\n\u001b[1;32m    376\u001b[0m \u001b[38;5;28;01mif\u001b[39;00m \u001b[38;5;28mself\u001b[39m\u001b[38;5;241m.\u001b[39m_values \u001b[38;5;129;01mis\u001b[39;00m \u001b[38;5;129;01mnot\u001b[39;00m \u001b[38;5;28;01mNone\u001b[39;00m:\n\u001b[1;32m    377\u001b[0m     \u001b[38;5;28;01mif\u001b[39;00m \u001b[38;5;28mlen\u001b[39m(\u001b[38;5;28mself\u001b[39m\u001b[38;5;241m.\u001b[39m_values) \u001b[38;5;241m>\u001b[39m \u001b[38;5;241m1\u001b[39m:\n\u001b[0;32m--> 378\u001b[0m         \u001b[38;5;28;01mraise\u001b[39;00m \u001b[38;5;167;01mRuntimeError\u001b[39;00m(\n\u001b[1;32m    379\u001b[0m             \u001b[38;5;124m\"\u001b[39m\u001b[38;5;124mThis attribute is not available during multi-objective optimization.\u001b[39m\u001b[38;5;124m\"\u001b[39m\n\u001b[1;32m    380\u001b[0m         )\n\u001b[1;32m    381\u001b[0m     \u001b[38;5;28;01mreturn\u001b[39;00m \u001b[38;5;28mself\u001b[39m\u001b[38;5;241m.\u001b[39m_values[\u001b[38;5;241m0\u001b[39m]\n\u001b[1;32m    382\u001b[0m \u001b[38;5;28;01mreturn\u001b[39;00m \u001b[38;5;28;01mNone\u001b[39;00m\n",
      "\u001b[0;31mRuntimeError\u001b[0m: This attribute is not available during multi-objective optimization."
     ]
    }
   ],
   "source": [
    "\n",
    "study.trials[0]\n",
    "# study.trials.pop(0)\n",
    "study.trials[1].value"
   ]
  },
  {
   "cell_type": "code",
   "execution_count": null,
   "metadata": {},
   "outputs": [],
   "source": []
  },
  {
   "attachments": {},
   "cell_type": "markdown",
   "metadata": {
    "jp-MarkdownHeadingCollapsed": true,
    "slideshow": {
     "slide_type": ""
    },
    "tags": []
   },
   "source": [
    "# Optuna Merge\n",
    "\n",
    "**Merge two dbs within Optuna**"
   ]
  },
  {
   "cell_type": "markdown",
   "metadata": {},
   "source": [
    "## Datasets"
   ]
  },
  {
   "cell_type": "code",
   "execution_count": 10,
   "metadata": {
    "ExecuteTime": {
     "end_time": "2023-12-21T20:50:35.620802Z",
     "start_time": "2023-12-21T20:50:35.605234Z"
    },
    "execution": {
     "iopub.execute_input": "2024-07-31T20:52:52.427083Z",
     "iopub.status.busy": "2024-07-31T20:52:52.426441Z",
     "iopub.status.idle": "2024-07-31T20:52:52.468634Z",
     "shell.execute_reply": "2024-07-31T20:52:52.467836Z",
     "shell.execute_reply.started": "2024-07-31T20:52:52.427040Z"
    },
    "lines_to_next_cell": 0
   },
   "outputs": [],
   "source": [
    "prefix = '' ### Target-2' , 'MOA'\n",
    "db1  = f\"./example.db\"\n",
    "db2  = f\"./example_copy.db\""
   ]
  },
  {
   "cell_type": "code",
   "execution_count": 12,
   "metadata": {
    "editable": true,
    "execution": {
     "iopub.execute_input": "2024-07-31T20:52:59.345022Z",
     "iopub.status.busy": "2024-07-31T20:52:59.344736Z",
     "iopub.status.idle": "2024-07-31T20:52:59.385176Z",
     "shell.execute_reply": "2024-07-31T20:52:59.384499Z",
     "shell.execute_reply.started": "2024-07-31T20:52:59.345001Z"
    },
    "slideshow": {
     "slide_type": ""
    },
    "tags": []
   },
   "outputs": [],
   "source": [
    "def combine_optuna_dbs(db1_path, db2_path):\n",
    "    \"\"\"\"\n",
    "    This function combines two optuna databases into the db1.\n",
    "    Both dbs should be from the same study.\n",
    "    The ids of the db2 are updated to be unique.\n",
    "    \"\"\"\n",
    "    \n",
    "    # get all the tables names\n",
    "    with sqlite3.connect(db1_path) as con:\n",
    "        tables = con.execute(\"SELECT name FROM sqlite_master WHERE type='table';\").fetchall()\n",
    "        tables = [table[0] for table in tables]\n",
    "    not_tables = ['studies', 'version_info', 'study_directions', 'alembic_version']\n",
    "    tables = [table for table in tables if table not in not_tables]\n",
    "    print(f\"tbles are: {tables}\")\n",
    "    \n",
    "    dfs1 = {}\n",
    "    with sqlite3.connect(db1_path) as con:\n",
    "        for table in tables:\n",
    "            dfs1[table] = pd.read_sql_query(f\"SELECT * FROM {table}\", con)\n",
    "    return dfs1\n",
    "    table_ids = {'study_user_attributes'     : ['study_user_attribute_id'],\n",
    "                 'study_system_attributes'   : ['study_system_attribute_id'],\n",
    "                 'trials'                    : ['trial_id', 'number'],\n",
    "                 'trial_user_attributes'     : ['trial_user_attribute_id'],\n",
    "                 'trial_system_attributes'   : ['trial_system_attribute_id'],\n",
    "                 'trial_params'              : ['param_id'],\n",
    "                 'trial_values'              : ['trial_value_id'],\n",
    "                 'trial_intermediate_values' : ['trial_intermediate_value_id'],\n",
    "                 'trial_heartbeats'          : ['trial_heartbeat_id'],\n",
    "    }\n",
    "    \n",
    "    max_ids = {}\n",
    "    \n",
    "    # # add max id if the table is not empty\n",
    "    # for table in tables:\n",
    "    #     if len(dfs1[table]) > 0:\n",
    "    #         for id in table_ids[table]:\n",
    "    #             max_ids[id] = dfs1[table].iloc[-1][id]\n",
    "    #     else:\n",
    "    #         for id in table_ids[table]:\n",
    "    #             max_ids[id] = 0\n",
    "    \n",
    "    dfs2 = {}\n",
    "    with sqlite3.connect(db2_path) as con:\n",
    "        for table in tables:\n",
    "            dfs2[table] = pd.read_sql_query(f\"SELECT * FROM {table}\", con)\n",
    "    \n",
    "    update_ids = {'study_user_attributes'     : ['study_user_attribute_id'],\n",
    "                  'study_system_attributes'   : ['study_system_attribute_id'],\n",
    "                  'trials'                    : ['trial_id', 'number'],\n",
    "                  'trial_user_attributes'     : ['trial_user_attribute_id'  , 'trial_id'],\n",
    "                  'trial_system_attributes'   : ['trial_system_attribute_id', 'trial_id'],\n",
    "                  'trial_params'              : ['param_id', 'trial_id'],\n",
    "                  'trial_values'              : ['trial_value_id', 'trial_id'],\n",
    "                  'trial_intermediate_values' : ['trial_intermediate_value_id', 'trial_id'],\n",
    "                  'trial_heartbeats'          : ['trial_heartbeat_id', 'trial_id'],\n",
    "    }\n",
    "    \n",
    "    # # update the ids of the second db\n",
    "    # for table in tables:\n",
    "    #     if len(dfs2[table]) > 0:\n",
    "    #         for id in update_ids[table]:\n",
    "    #             dfs2[table][id] = dfs2[table][id] + max_ids[id]\n",
    "    \n",
    "    # # add the second db to the first db\n",
    "    # with sqlite3.connect(db1_path) as con1:\n",
    "    #     for table in tables:\n",
    "    #         dfs2[table].to_sql(table, con1, if_exists='append', index=False)"
   ]
  },
  {
   "cell_type": "code",
   "execution_count": 13,
   "metadata": {
    "execution": {
     "iopub.execute_input": "2024-04-22T18:00:06.402286Z",
     "iopub.status.busy": "2024-04-22T18:00:06.401859Z",
     "iopub.status.idle": "2024-04-22T18:00:06.491090Z",
     "shell.execute_reply": "2024-04-22T18:00:06.490208Z",
     "shell.execute_reply.started": "2024-04-22T18:00:06.402250Z"
    }
   },
   "outputs": [
    {
     "name": "stdout",
     "output_type": "stream",
     "text": [
      "tbles are: ['study_user_attributes', 'study_system_attributes', 'trials', 'trial_user_attributes', 'trial_system_attributes', 'trial_params', 'trial_values', 'trial_intermediate_values', 'trial_heartbeats']\n"
     ]
    }
   ],
   "source": [
    "tbls =  combine_optuna_dbs(db1, db2)"
   ]
  },
  {
   "cell_type": "code",
   "execution_count": 14,
   "metadata": {
    "editable": true,
    "execution": {
     "iopub.execute_input": "2024-04-22T18:00:18.904083Z",
     "iopub.status.busy": "2024-04-22T18:00:18.903628Z",
     "iopub.status.idle": "2024-04-22T18:00:18.941725Z",
     "shell.execute_reply": "2024-04-22T18:00:18.941062Z",
     "shell.execute_reply.started": "2024-04-22T18:00:18.904045Z"
    },
    "slideshow": {
     "slide_type": ""
    },
    "tags": []
   },
   "outputs": [
    {
     "data": {
      "text/plain": [
       "dict_keys(['study_user_attributes', 'study_system_attributes', 'trials', 'trial_user_attributes', 'trial_system_attributes', 'trial_params', 'trial_values', 'trial_intermediate_values', 'trial_heartbeats'])"
      ]
     },
     "execution_count": 14,
     "metadata": {},
     "output_type": "execute_result"
    }
   ],
   "source": [
    "tbls.keys()"
   ]
  },
  {
   "cell_type": "code",
   "execution_count": 24,
   "metadata": {
    "execution": {
     "iopub.execute_input": "2024-04-22T18:03:55.302746Z",
     "iopub.status.busy": "2024-04-22T18:03:55.302232Z",
     "iopub.status.idle": "2024-04-22T18:03:55.376157Z",
     "shell.execute_reply": "2024-04-22T18:03:55.375549Z",
     "shell.execute_reply.started": "2024-04-22T18:03:55.302709Z"
    }
   },
   "outputs": [
    {
     "data": {
      "text/html": [
       "<div>\n",
       "<style scoped>\n",
       "    .dataframe tbody tr th:only-of-type {\n",
       "        vertical-align: middle;\n",
       "    }\n",
       "\n",
       "    .dataframe tbody tr th {\n",
       "        vertical-align: top;\n",
       "    }\n",
       "\n",
       "    .dataframe thead th {\n",
       "        text-align: right;\n",
       "    }\n",
       "</style>\n",
       "<table border=\"1\" class=\"dataframe\">\n",
       "  <thead>\n",
       "    <tr style=\"text-align: right;\">\n",
       "      <th></th>\n",
       "      <th>study_user_attribute_id</th>\n",
       "      <th>study_id</th>\n",
       "      <th>key</th>\n",
       "      <th>value_json</th>\n",
       "    </tr>\n",
       "  </thead>\n",
       "  <tbody>\n",
       "  </tbody>\n",
       "</table>\n",
       "</div>"
      ],
      "text/plain": [
       "Empty DataFrame\n",
       "Columns: [study_user_attribute_id, study_id, key, value_json]\n",
       "Index: []"
      ]
     },
     "execution_count": 24,
     "metadata": {},
     "output_type": "execute_result"
    },
    {
     "data": {
      "text/html": [
       "<div>\n",
       "<style scoped>\n",
       "    .dataframe tbody tr th:only-of-type {\n",
       "        vertical-align: middle;\n",
       "    }\n",
       "\n",
       "    .dataframe tbody tr th {\n",
       "        vertical-align: top;\n",
       "    }\n",
       "\n",
       "    .dataframe thead th {\n",
       "        text-align: right;\n",
       "    }\n",
       "</style>\n",
       "<table border=\"1\" class=\"dataframe\">\n",
       "  <thead>\n",
       "    <tr style=\"text-align: right;\">\n",
       "      <th></th>\n",
       "      <th>trial_user_attribute_id</th>\n",
       "      <th>trial_id</th>\n",
       "      <th>key</th>\n",
       "      <th>value_json</th>\n",
       "    </tr>\n",
       "  </thead>\n",
       "  <tbody>\n",
       "  </tbody>\n",
       "</table>\n",
       "</div>"
      ],
      "text/plain": [
       "Empty DataFrame\n",
       "Columns: [trial_user_attribute_id, trial_id, key, value_json]\n",
       "Index: []"
      ]
     },
     "execution_count": 24,
     "metadata": {},
     "output_type": "execute_result"
    },
    {
     "data": {
      "text/html": [
       "<div>\n",
       "<style scoped>\n",
       "    .dataframe tbody tr th:only-of-type {\n",
       "        vertical-align: middle;\n",
       "    }\n",
       "\n",
       "    .dataframe tbody tr th {\n",
       "        vertical-align: top;\n",
       "    }\n",
       "\n",
       "    .dataframe thead th {\n",
       "        text-align: right;\n",
       "    }\n",
       "</style>\n",
       "<table border=\"1\" class=\"dataframe\">\n",
       "  <thead>\n",
       "    <tr style=\"text-align: right;\">\n",
       "      <th></th>\n",
       "      <th>trial_intermediate_value_id</th>\n",
       "      <th>trial_id</th>\n",
       "      <th>step</th>\n",
       "      <th>intermediate_value</th>\n",
       "      <th>intermediate_value_type</th>\n",
       "    </tr>\n",
       "  </thead>\n",
       "  <tbody>\n",
       "  </tbody>\n",
       "</table>\n",
       "</div>"
      ],
      "text/plain": [
       "Empty DataFrame\n",
       "Columns: [trial_intermediate_value_id, trial_id, step, intermediate_value, intermediate_value_type]\n",
       "Index: []"
      ]
     },
     "execution_count": 24,
     "metadata": {},
     "output_type": "execute_result"
    },
    {
     "data": {
      "text/html": [
       "<div>\n",
       "<style scoped>\n",
       "    .dataframe tbody tr th:only-of-type {\n",
       "        vertical-align: middle;\n",
       "    }\n",
       "\n",
       "    .dataframe tbody tr th {\n",
       "        vertical-align: top;\n",
       "    }\n",
       "\n",
       "    .dataframe thead th {\n",
       "        text-align: right;\n",
       "    }\n",
       "</style>\n",
       "<table border=\"1\" class=\"dataframe\">\n",
       "  <thead>\n",
       "    <tr style=\"text-align: right;\">\n",
       "      <th></th>\n",
       "      <th>trial_heartbeat_id</th>\n",
       "      <th>trial_id</th>\n",
       "      <th>heartbeat</th>\n",
       "    </tr>\n",
       "  </thead>\n",
       "  <tbody>\n",
       "  </tbody>\n",
       "</table>\n",
       "</div>"
      ],
      "text/plain": [
       "Empty DataFrame\n",
       "Columns: [trial_heartbeat_id, trial_id, heartbeat]\n",
       "Index: []"
      ]
     },
     "execution_count": 24,
     "metadata": {},
     "output_type": "execute_result"
    },
    {
     "data": {
      "text/html": [
       "<div>\n",
       "<style scoped>\n",
       "    .dataframe tbody tr th:only-of-type {\n",
       "        vertical-align: middle;\n",
       "    }\n",
       "\n",
       "    .dataframe tbody tr th {\n",
       "        vertical-align: top;\n",
       "    }\n",
       "\n",
       "    .dataframe thead th {\n",
       "        text-align: right;\n",
       "    }\n",
       "</style>\n",
       "<table border=\"1\" class=\"dataframe\">\n",
       "  <thead>\n",
       "    <tr style=\"text-align: right;\">\n",
       "      <th></th>\n",
       "      <th>study_system_attribute_id</th>\n",
       "      <th>study_id</th>\n",
       "      <th>key</th>\n",
       "      <th>value_json</th>\n",
       "    </tr>\n",
       "  </thead>\n",
       "  <tbody>\n",
       "    <tr>\n",
       "      <th>0</th>\n",
       "      <td>1</td>\n",
       "      <td>2</td>\n",
       "      <td>study:metric_names</td>\n",
       "      <td>[\"mse_score\", \"R2_score\"]</td>\n",
       "    </tr>\n",
       "    <tr>\n",
       "      <th>1</th>\n",
       "      <td>2</td>\n",
       "      <td>4</td>\n",
       "      <td>study:metric_names</td>\n",
       "      <td>[\"mse_score\", \"pearson_corr\"]</td>\n",
       "    </tr>\n",
       "    <tr>\n",
       "      <th>2</th>\n",
       "      <td>3</td>\n",
       "      <td>5</td>\n",
       "      <td>study:metric_names</td>\n",
       "      <td>[\"roc_auc\", \"logloss\"]</td>\n",
       "    </tr>\n",
       "  </tbody>\n",
       "</table>\n",
       "</div>"
      ],
      "text/plain": [
       "   study_system_attribute_id  study_id                 key                     value_json\n",
       "0                          1         2  study:metric_names      [\"mse_score\", \"R2_score\"]\n",
       "1                          2         4  study:metric_names  [\"mse_score\", \"pearson_corr\"]\n",
       "2                          3         5  study:metric_names         [\"roc_auc\", \"logloss\"]"
      ]
     },
     "execution_count": 24,
     "metadata": {},
     "output_type": "execute_result"
    },
    {
     "data": {
      "text/html": [
       "<div>\n",
       "<style scoped>\n",
       "    .dataframe tbody tr th:only-of-type {\n",
       "        vertical-align: middle;\n",
       "    }\n",
       "\n",
       "    .dataframe tbody tr th {\n",
       "        vertical-align: top;\n",
       "    }\n",
       "\n",
       "    .dataframe thead th {\n",
       "        text-align: right;\n",
       "    }\n",
       "</style>\n",
       "<table border=\"1\" class=\"dataframe\">\n",
       "  <thead>\n",
       "    <tr style=\"text-align: right;\">\n",
       "      <th></th>\n",
       "      <th>trial_system_attribute_id</th>\n",
       "      <th>trial_id</th>\n",
       "      <th>key</th>\n",
       "      <th>value_json</th>\n",
       "    </tr>\n",
       "  </thead>\n",
       "  <tbody>\n",
       "    <tr>\n",
       "      <th>0</th>\n",
       "      <td>1</td>\n",
       "      <td>17</td>\n",
       "      <td>nsga2:generation</td>\n",
       "      <td>0</td>\n",
       "    </tr>\n",
       "    <tr>\n",
       "      <th>1</th>\n",
       "      <td>2</td>\n",
       "      <td>18</td>\n",
       "      <td>nsga2:generation</td>\n",
       "      <td>0</td>\n",
       "    </tr>\n",
       "    <tr>\n",
       "      <th>2</th>\n",
       "      <td>3</td>\n",
       "      <td>19</td>\n",
       "      <td>nsga2:generation</td>\n",
       "      <td>0</td>\n",
       "    </tr>\n",
       "    <tr>\n",
       "      <th>3</th>\n",
       "      <td>4</td>\n",
       "      <td>20</td>\n",
       "      <td>nsga2:generation</td>\n",
       "      <td>0</td>\n",
       "    </tr>\n",
       "    <tr>\n",
       "      <th>4</th>\n",
       "      <td>5</td>\n",
       "      <td>21</td>\n",
       "      <td>nsga2:generation</td>\n",
       "      <td>0</td>\n",
       "    </tr>\n",
       "    <tr>\n",
       "      <th>...</th>\n",
       "      <td>...</td>\n",
       "      <td>...</td>\n",
       "      <td>...</td>\n",
       "      <td>...</td>\n",
       "    </tr>\n",
       "    <tr>\n",
       "      <th>99</th>\n",
       "      <td>100</td>\n",
       "      <td>116</td>\n",
       "      <td>nsga2:generation</td>\n",
       "      <td>0</td>\n",
       "    </tr>\n",
       "    <tr>\n",
       "      <th>100</th>\n",
       "      <td>101</td>\n",
       "      <td>117</td>\n",
       "      <td>nsga2:generation</td>\n",
       "      <td>0</td>\n",
       "    </tr>\n",
       "    <tr>\n",
       "      <th>101</th>\n",
       "      <td>102</td>\n",
       "      <td>118</td>\n",
       "      <td>nsga2:generation</td>\n",
       "      <td>0</td>\n",
       "    </tr>\n",
       "    <tr>\n",
       "      <th>102</th>\n",
       "      <td>103</td>\n",
       "      <td>119</td>\n",
       "      <td>nsga2:generation</td>\n",
       "      <td>0</td>\n",
       "    </tr>\n",
       "    <tr>\n",
       "      <th>103</th>\n",
       "      <td>104</td>\n",
       "      <td>120</td>\n",
       "      <td>nsga2:generation</td>\n",
       "      <td>0</td>\n",
       "    </tr>\n",
       "  </tbody>\n",
       "</table>\n",
       "<p>104 rows × 4 columns</p>\n",
       "</div>"
      ],
      "text/plain": [
       "     trial_system_attribute_id  trial_id               key value_json\n",
       "0                            1        17  nsga2:generation          0\n",
       "1                            2        18  nsga2:generation          0\n",
       "2                            3        19  nsga2:generation          0\n",
       "3                            4        20  nsga2:generation          0\n",
       "4                            5        21  nsga2:generation          0\n",
       "..                         ...       ...               ...        ...\n",
       "99                         100       116  nsga2:generation          0\n",
       "100                        101       117  nsga2:generation          0\n",
       "101                        102       118  nsga2:generation          0\n",
       "102                        103       119  nsga2:generation          0\n",
       "103                        104       120  nsga2:generation          0\n",
       "\n",
       "[104 rows x 4 columns]"
      ]
     },
     "execution_count": 24,
     "metadata": {},
     "output_type": "execute_result"
    },
    {
     "data": {
      "text/html": [
       "<div>\n",
       "<style scoped>\n",
       "    .dataframe tbody tr th:only-of-type {\n",
       "        vertical-align: middle;\n",
       "    }\n",
       "\n",
       "    .dataframe tbody tr th {\n",
       "        vertical-align: top;\n",
       "    }\n",
       "\n",
       "    .dataframe thead th {\n",
       "        text-align: right;\n",
       "    }\n",
       "</style>\n",
       "<table border=\"1\" class=\"dataframe\">\n",
       "  <thead>\n",
       "    <tr style=\"text-align: right;\">\n",
       "      <th></th>\n",
       "      <th>trial_id</th>\n",
       "      <th>number</th>\n",
       "      <th>study_id</th>\n",
       "      <th>state</th>\n",
       "      <th>datetime_start</th>\n",
       "      <th>datetime_complete</th>\n",
       "    </tr>\n",
       "  </thead>\n",
       "  <tbody>\n",
       "    <tr>\n",
       "      <th>0</th>\n",
       "      <td>17</td>\n",
       "      <td>0</td>\n",
       "      <td>2</td>\n",
       "      <td>FAIL</td>\n",
       "      <td>2024-01-10 15:34:20.240464</td>\n",
       "      <td>2024-01-10 15:34:20.458984</td>\n",
       "    </tr>\n",
       "    <tr>\n",
       "      <th>1</th>\n",
       "      <td>18</td>\n",
       "      <td>1</td>\n",
       "      <td>2</td>\n",
       "      <td>COMPLETE</td>\n",
       "      <td>2024-01-10 15:51:14.898264</td>\n",
       "      <td>2024-01-10 16:00:22.971070</td>\n",
       "    </tr>\n",
       "    <tr>\n",
       "      <th>2</th>\n",
       "      <td>19</td>\n",
       "      <td>2</td>\n",
       "      <td>2</td>\n",
       "      <td>COMPLETE</td>\n",
       "      <td>2024-01-10 16:00:23.425742</td>\n",
       "      <td>2024-01-10 16:10:23.476871</td>\n",
       "    </tr>\n",
       "    <tr>\n",
       "      <th>3</th>\n",
       "      <td>20</td>\n",
       "      <td>3</td>\n",
       "      <td>2</td>\n",
       "      <td>COMPLETE</td>\n",
       "      <td>2024-01-10 16:10:23.958746</td>\n",
       "      <td>2024-01-10 16:20:46.199603</td>\n",
       "    </tr>\n",
       "    <tr>\n",
       "      <th>4</th>\n",
       "      <td>21</td>\n",
       "      <td>4</td>\n",
       "      <td>2</td>\n",
       "      <td>COMPLETE</td>\n",
       "      <td>2024-01-10 16:20:46.713100</td>\n",
       "      <td>2024-01-10 16:31:21.687379</td>\n",
       "    </tr>\n",
       "    <tr>\n",
       "      <th>...</th>\n",
       "      <td>...</td>\n",
       "      <td>...</td>\n",
       "      <td>...</td>\n",
       "      <td>...</td>\n",
       "      <td>...</td>\n",
       "      <td>...</td>\n",
       "    </tr>\n",
       "    <tr>\n",
       "      <th>99</th>\n",
       "      <td>116</td>\n",
       "      <td>25</td>\n",
       "      <td>5</td>\n",
       "      <td>COMPLETE</td>\n",
       "      <td>2024-02-12 01:55:54.321211</td>\n",
       "      <td>2024-02-12 02:12:44.511828</td>\n",
       "    </tr>\n",
       "    <tr>\n",
       "      <th>100</th>\n",
       "      <td>117</td>\n",
       "      <td>26</td>\n",
       "      <td>5</td>\n",
       "      <td>COMPLETE</td>\n",
       "      <td>2024-02-12 02:12:45.046738</td>\n",
       "      <td>2024-02-12 02:29:49.915460</td>\n",
       "    </tr>\n",
       "    <tr>\n",
       "      <th>101</th>\n",
       "      <td>118</td>\n",
       "      <td>27</td>\n",
       "      <td>5</td>\n",
       "      <td>COMPLETE</td>\n",
       "      <td>2024-02-12 02:29:50.425523</td>\n",
       "      <td>2024-02-12 03:59:12.655144</td>\n",
       "    </tr>\n",
       "    <tr>\n",
       "      <th>102</th>\n",
       "      <td>119</td>\n",
       "      <td>28</td>\n",
       "      <td>5</td>\n",
       "      <td>COMPLETE</td>\n",
       "      <td>2024-02-12 03:59:13.129237</td>\n",
       "      <td>2024-02-12 04:49:11.655533</td>\n",
       "    </tr>\n",
       "    <tr>\n",
       "      <th>103</th>\n",
       "      <td>120</td>\n",
       "      <td>29</td>\n",
       "      <td>5</td>\n",
       "      <td>COMPLETE</td>\n",
       "      <td>2024-02-12 04:49:12.123042</td>\n",
       "      <td>2024-02-12 05:08:23.327686</td>\n",
       "    </tr>\n",
       "  </tbody>\n",
       "</table>\n",
       "<p>104 rows × 6 columns</p>\n",
       "</div>"
      ],
      "text/plain": [
       "     trial_id  number  study_id     state              datetime_start           datetime_complete\n",
       "0          17       0         2      FAIL  2024-01-10 15:34:20.240464  2024-01-10 15:34:20.458984\n",
       "1          18       1         2  COMPLETE  2024-01-10 15:51:14.898264  2024-01-10 16:00:22.971070\n",
       "2          19       2         2  COMPLETE  2024-01-10 16:00:23.425742  2024-01-10 16:10:23.476871\n",
       "3          20       3         2  COMPLETE  2024-01-10 16:10:23.958746  2024-01-10 16:20:46.199603\n",
       "4          21       4         2  COMPLETE  2024-01-10 16:20:46.713100  2024-01-10 16:31:21.687379\n",
       "..        ...     ...       ...       ...                         ...                         ...\n",
       "99        116      25         5  COMPLETE  2024-02-12 01:55:54.321211  2024-02-12 02:12:44.511828\n",
       "100       117      26         5  COMPLETE  2024-02-12 02:12:45.046738  2024-02-12 02:29:49.915460\n",
       "101       118      27         5  COMPLETE  2024-02-12 02:29:50.425523  2024-02-12 03:59:12.655144\n",
       "102       119      28         5  COMPLETE  2024-02-12 03:59:13.129237  2024-02-12 04:49:11.655533\n",
       "103       120      29         5  COMPLETE  2024-02-12 04:49:12.123042  2024-02-12 05:08:23.327686\n",
       "\n",
       "[104 rows x 6 columns]"
      ]
     },
     "execution_count": 24,
     "metadata": {},
     "output_type": "execute_result"
    },
    {
     "data": {
      "text/html": [
       "<div>\n",
       "<style scoped>\n",
       "    .dataframe tbody tr th:only-of-type {\n",
       "        vertical-align: middle;\n",
       "    }\n",
       "\n",
       "    .dataframe tbody tr th {\n",
       "        vertical-align: top;\n",
       "    }\n",
       "\n",
       "    .dataframe thead th {\n",
       "        text-align: right;\n",
       "    }\n",
       "</style>\n",
       "<table border=\"1\" class=\"dataframe\">\n",
       "  <thead>\n",
       "    <tr style=\"text-align: right;\">\n",
       "      <th></th>\n",
       "      <th>param_id</th>\n",
       "      <th>trial_id</th>\n",
       "      <th>param_name</th>\n",
       "      <th>param_value</th>\n",
       "      <th>distribution_json</th>\n",
       "    </tr>\n",
       "  </thead>\n",
       "  <tbody>\n",
       "    <tr>\n",
       "      <th>0</th>\n",
       "      <td>49</td>\n",
       "      <td>17</td>\n",
       "      <td>learning_rate</td>\n",
       "      <td>0.021931</td>\n",
       "      <td>{\"name\": \"FloatDistribution\", \"attributes\": {\"...</td>\n",
       "    </tr>\n",
       "    <tr>\n",
       "      <th>1</th>\n",
       "      <td>50</td>\n",
       "      <td>17</td>\n",
       "      <td>colsample_bytree</td>\n",
       "      <td>0.614273</td>\n",
       "      <td>{\"name\": \"FloatDistribution\", \"attributes\": {\"...</td>\n",
       "    </tr>\n",
       "    <tr>\n",
       "      <th>2</th>\n",
       "      <td>51</td>\n",
       "      <td>17</td>\n",
       "      <td>colsample_bylevel</td>\n",
       "      <td>0.891675</td>\n",
       "      <td>{\"name\": \"FloatDistribution\", \"attributes\": {\"...</td>\n",
       "    </tr>\n",
       "    <tr>\n",
       "      <th>3</th>\n",
       "      <td>52</td>\n",
       "      <td>17</td>\n",
       "      <td>colsample_bynode</td>\n",
       "      <td>0.598044</td>\n",
       "      <td>{\"name\": \"FloatDistribution\", \"attributes\": {\"...</td>\n",
       "    </tr>\n",
       "    <tr>\n",
       "      <th>4</th>\n",
       "      <td>53</td>\n",
       "      <td>17</td>\n",
       "      <td>reg_lambda</td>\n",
       "      <td>0.677960</td>\n",
       "      <td>{\"name\": \"FloatDistribution\", \"attributes\": {\"...</td>\n",
       "    </tr>\n",
       "    <tr>\n",
       "      <th>...</th>\n",
       "      <td>...</td>\n",
       "      <td>...</td>\n",
       "      <td>...</td>\n",
       "      <td>...</td>\n",
       "      <td>...</td>\n",
       "    </tr>\n",
       "    <tr>\n",
       "      <th>827</th>\n",
       "      <td>876</td>\n",
       "      <td>120</td>\n",
       "      <td>min_child_weight</td>\n",
       "      <td>8.575491</td>\n",
       "      <td>{\"name\": \"FloatDistribution\", \"attributes\": {\"...</td>\n",
       "    </tr>\n",
       "    <tr>\n",
       "      <th>828</th>\n",
       "      <td>877</td>\n",
       "      <td>120</td>\n",
       "      <td>max_delta_step</td>\n",
       "      <td>7.047180</td>\n",
       "      <td>{\"name\": \"FloatDistribution\", \"attributes\": {\"...</td>\n",
       "    </tr>\n",
       "    <tr>\n",
       "      <th>829</th>\n",
       "      <td>878</td>\n",
       "      <td>120</td>\n",
       "      <td>subsample</td>\n",
       "      <td>0.897760</td>\n",
       "      <td>{\"name\": \"FloatDistribution\", \"attributes\": {\"...</td>\n",
       "    </tr>\n",
       "    <tr>\n",
       "      <th>830</th>\n",
       "      <td>879</td>\n",
       "      <td>120</td>\n",
       "      <td>colsample_bylevel</td>\n",
       "      <td>0.860123</td>\n",
       "      <td>{\"name\": \"FloatDistribution\", \"attributes\": {\"...</td>\n",
       "    </tr>\n",
       "    <tr>\n",
       "      <th>831</th>\n",
       "      <td>880</td>\n",
       "      <td>120</td>\n",
       "      <td>colsample_bynode</td>\n",
       "      <td>0.874122</td>\n",
       "      <td>{\"name\": \"FloatDistribution\", \"attributes\": {\"...</td>\n",
       "    </tr>\n",
       "  </tbody>\n",
       "</table>\n",
       "<p>832 rows × 5 columns</p>\n",
       "</div>"
      ],
      "text/plain": [
       "     param_id  trial_id         param_name  param_value                                  distribution_json\n",
       "0          49        17      learning_rate     0.021931  {\"name\": \"FloatDistribution\", \"attributes\": {\"...\n",
       "1          50        17   colsample_bytree     0.614273  {\"name\": \"FloatDistribution\", \"attributes\": {\"...\n",
       "2          51        17  colsample_bylevel     0.891675  {\"name\": \"FloatDistribution\", \"attributes\": {\"...\n",
       "3          52        17   colsample_bynode     0.598044  {\"name\": \"FloatDistribution\", \"attributes\": {\"...\n",
       "4          53        17         reg_lambda     0.677960  {\"name\": \"FloatDistribution\", \"attributes\": {\"...\n",
       "..        ...       ...                ...          ...                                                ...\n",
       "827       876       120   min_child_weight     8.575491  {\"name\": \"FloatDistribution\", \"attributes\": {\"...\n",
       "828       877       120     max_delta_step     7.047180  {\"name\": \"FloatDistribution\", \"attributes\": {\"...\n",
       "829       878       120          subsample     0.897760  {\"name\": \"FloatDistribution\", \"attributes\": {\"...\n",
       "830       879       120  colsample_bylevel     0.860123  {\"name\": \"FloatDistribution\", \"attributes\": {\"...\n",
       "831       880       120   colsample_bynode     0.874122  {\"name\": \"FloatDistribution\", \"attributes\": {\"...\n",
       "\n",
       "[832 rows x 5 columns]"
      ]
     },
     "execution_count": 24,
     "metadata": {},
     "output_type": "execute_result"
    },
    {
     "data": {
      "text/html": [
       "<div>\n",
       "<style scoped>\n",
       "    .dataframe tbody tr th:only-of-type {\n",
       "        vertical-align: middle;\n",
       "    }\n",
       "\n",
       "    .dataframe tbody tr th {\n",
       "        vertical-align: top;\n",
       "    }\n",
       "\n",
       "    .dataframe thead th {\n",
       "        text-align: right;\n",
       "    }\n",
       "</style>\n",
       "<table border=\"1\" class=\"dataframe\">\n",
       "  <thead>\n",
       "    <tr style=\"text-align: right;\">\n",
       "      <th></th>\n",
       "      <th>trial_value_id</th>\n",
       "      <th>trial_id</th>\n",
       "      <th>objective</th>\n",
       "      <th>value</th>\n",
       "      <th>value_type</th>\n",
       "    </tr>\n",
       "  </thead>\n",
       "  <tbody>\n",
       "    <tr>\n",
       "      <th>0</th>\n",
       "      <td>15</td>\n",
       "      <td>18</td>\n",
       "      <td>0</td>\n",
       "      <td>0.023774</td>\n",
       "      <td>FINITE</td>\n",
       "    </tr>\n",
       "    <tr>\n",
       "      <th>1</th>\n",
       "      <td>16</td>\n",
       "      <td>18</td>\n",
       "      <td>1</td>\n",
       "      <td>-0.000156</td>\n",
       "      <td>FINITE</td>\n",
       "    </tr>\n",
       "    <tr>\n",
       "      <th>2</th>\n",
       "      <td>17</td>\n",
       "      <td>19</td>\n",
       "      <td>0</td>\n",
       "      <td>0.023621</td>\n",
       "      <td>FINITE</td>\n",
       "    </tr>\n",
       "    <tr>\n",
       "      <th>3</th>\n",
       "      <td>18</td>\n",
       "      <td>19</td>\n",
       "      <td>1</td>\n",
       "      <td>0.006289</td>\n",
       "      <td>FINITE</td>\n",
       "    </tr>\n",
       "    <tr>\n",
       "      <th>4</th>\n",
       "      <td>19</td>\n",
       "      <td>20</td>\n",
       "      <td>0</td>\n",
       "      <td>0.023774</td>\n",
       "      <td>FINITE</td>\n",
       "    </tr>\n",
       "    <tr>\n",
       "      <th>...</th>\n",
       "      <td>...</td>\n",
       "      <td>...</td>\n",
       "      <td>...</td>\n",
       "      <td>...</td>\n",
       "      <td>...</td>\n",
       "    </tr>\n",
       "    <tr>\n",
       "      <th>177</th>\n",
       "      <td>192</td>\n",
       "      <td>118</td>\n",
       "      <td>1</td>\n",
       "      <td>0.374718</td>\n",
       "      <td>FINITE</td>\n",
       "    </tr>\n",
       "    <tr>\n",
       "      <th>178</th>\n",
       "      <td>193</td>\n",
       "      <td>119</td>\n",
       "      <td>0</td>\n",
       "      <td>0.616641</td>\n",
       "      <td>FINITE</td>\n",
       "    </tr>\n",
       "    <tr>\n",
       "      <th>179</th>\n",
       "      <td>194</td>\n",
       "      <td>119</td>\n",
       "      <td>1</td>\n",
       "      <td>0.354772</td>\n",
       "      <td>FINITE</td>\n",
       "    </tr>\n",
       "    <tr>\n",
       "      <th>180</th>\n",
       "      <td>195</td>\n",
       "      <td>120</td>\n",
       "      <td>0</td>\n",
       "      <td>0.527256</td>\n",
       "      <td>FINITE</td>\n",
       "    </tr>\n",
       "    <tr>\n",
       "      <th>181</th>\n",
       "      <td>196</td>\n",
       "      <td>120</td>\n",
       "      <td>1</td>\n",
       "      <td>0.372122</td>\n",
       "      <td>FINITE</td>\n",
       "    </tr>\n",
       "  </tbody>\n",
       "</table>\n",
       "<p>182 rows × 5 columns</p>\n",
       "</div>"
      ],
      "text/plain": [
       "     trial_value_id  trial_id  objective     value value_type\n",
       "0                15        18          0  0.023774     FINITE\n",
       "1                16        18          1 -0.000156     FINITE\n",
       "2                17        19          0  0.023621     FINITE\n",
       "3                18        19          1  0.006289     FINITE\n",
       "4                19        20          0  0.023774     FINITE\n",
       "..              ...       ...        ...       ...        ...\n",
       "177             192       118          1  0.374718     FINITE\n",
       "178             193       119          0  0.616641     FINITE\n",
       "179             194       119          1  0.354772     FINITE\n",
       "180             195       120          0  0.527256     FINITE\n",
       "181             196       120          1  0.372122     FINITE\n",
       "\n",
       "[182 rows x 5 columns]"
      ]
     },
     "execution_count": 24,
     "metadata": {},
     "output_type": "execute_result"
    }
   ],
   "source": [
    "tbls['study_user_attributes']\n",
    "tbls['trial_user_attributes']\n",
    "tbls['trial_intermediate_values']\n",
    "tbls['trial_heartbeats']\n",
    "\n",
    "tbls['study_system_attributes']\n",
    "tbls['trial_system_attributes']\n",
    "tbls['trials']\n",
    "tbls['trial_params']\n",
    "tbls['trial_values']"
   ]
  }
 ],
 "metadata": {
  "kernelspec": {
   "display_name": "Python [conda env:cp311]",
   "language": "python",
   "name": "conda-env-cp311-py"
  },
  "language_info": {
   "codemirror_mode": {
    "name": "ipython",
    "version": 3
   },
   "file_extension": ".py",
   "mimetype": "text/x-python",
   "name": "python",
   "nbconvert_exporter": "python",
   "pygments_lexer": "ipython3",
   "version": "3.11.4"
  },
  "toc": {
   "base_numbering": 1,
   "nav_menu": {},
   "number_sections": true,
   "sideBar": true,
   "skip_h1_title": false,
   "title_cell": "Table of Contents",
   "title_sidebar": "Contents",
   "toc_cell": false,
   "toc_position": {
    "height": "calc(100% - 180px)",
    "left": "10px",
    "top": "150px",
    "width": "380.631px"
   },
   "toc_section_display": true,
   "toc_window_display": false
  }
 },
 "nbformat": 4,
 "nbformat_minor": 4
}
