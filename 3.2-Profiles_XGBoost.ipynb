{
 "cells": [
  {
   "cell_type": "markdown",
   "metadata": {
    "slideshow": {
     "slide_type": ""
    },
    "tags": []
   },
   "source": [
    " # XGBoost - Classification"
   ]
  },
  {
   "cell_type": "markdown",
   "metadata": {
    "slideshow": {
     "slide_type": ""
    },
    "tags": []
   },
   "source": [
    "**Using Optuna for hyper-parameter search  to predict TPSA from morphology profiles**"
   ]
  },
  {
   "cell_type": "markdown",
   "metadata": {
    "jp-MarkdownHeadingCollapsed": true
   },
   "source": [
    "# Initialization"
   ]
  },
  {
   "cell_type": "code",
   "execution_count": 1,
   "metadata": {
    "ExecuteTime": {
     "end_time": "2023-12-21T20:50:25.298115Z",
     "start_time": "2023-12-21T20:50:24.855884Z"
    },
    "execution": {
     "iopub.execute_input": "2024-11-12T15:06:02.572543Z",
     "iopub.status.busy": "2024-11-12T15:06:02.572134Z",
     "iopub.status.idle": "2024-11-12T15:06:06.296290Z",
     "shell.execute_reply": "2024-11-12T15:06:06.295453Z",
     "shell.execute_reply.started": "2024-11-12T15:06:02.572508Z"
    }
   },
   "outputs": [
    {
     "data": {
      "text/html": [
       "<style>.container { width:98% !important; }</style>"
      ],
      "text/plain": [
       "<IPython.core.display.HTML object>"
      ]
     },
     "metadata": {},
     "output_type": "display_data"
    }
   ],
   "source": [
    "from IPython.display import display, HTML\n",
    "display(HTML(\"<style>.container { width:98% !important; }</style>\"))\n",
    "%load_ext autoreload  \n",
    "%autoreload 2\n",
    "from IPython.core.interactiveshell import InteractiveShell\n",
    "InteractiveShell.ast_node_interactivity = \"all\"\n",
    "%matplotlib inline"
   ]
  },
  {
   "cell_type": "code",
   "execution_count": null,
   "metadata": {
    "ExecuteTime": {
     "end_time": "2023-12-21T20:50:28.460258Z",
     "start_time": "2023-12-21T20:50:25.868966Z"
    },
    "execution": {
     "iopub.execute_input": "2024-11-12T15:06:07.951994Z",
     "iopub.status.busy": "2024-11-12T15:06:07.951263Z",
     "iopub.status.idle": "2024-11-12T15:06:42.989735Z",
     "shell.execute_reply": "2024-11-12T15:06:42.988809Z",
     "shell.execute_reply.started": "2024-11-12T15:06:07.951948Z"
    }
   },
   "outputs": [],
   "source": [
    "# Models\n",
    "import os, sys\n",
    "import math\n",
    "import pickle\n",
    "import itertools\n",
    "import copy \n",
    "import joblib\n",
    "import logging \n",
    "# from multiprocessing import Pool, process\n",
    "from datetime import datetime, time\n",
    "from collections import defaultdict\n",
    "from collections.abc import Iterator\n",
    "\n",
    "for p in ['./src','../..']:\n",
    "    if p not in sys.path:\n",
    "        print(f\"insert {p}\")\n",
    "        sys.path.insert(0, p)\n",
    "print(sys.path)\n",
    "import pprint \n",
    "import warnings\n",
    "\n",
    "import numpy as np\n",
    "import pandas as pd\n",
    "import scipy.stats as sps \n",
    "import sklearn.metrics as skm\n",
    "import matplotlib.pyplot as plt\n",
    "\n",
    "\n",
    "\n",
    "pp = pprint.PrettyPrinter(indent=4)\n",
    "pd.options.display.width = 132\n",
    "np.set_printoptions(edgeitems=3, infstr='inf', linewidth=150, nanstr='nan')\n",
    "warnings.filterwarnings('ignore')\n",
    "\n",
    "# os.environ[\"WANDB_NOTEBOOK_NAME\"] = \"Adashare_Train.ipynb\"\n",
    "# os.environ[\"CUDA_LAUNCH_BLOCKING\"] = \"1\"\n",
    "os.environ[\"CUDA_VISIBLE_DEVICES\"] = \"2\""
   ]
  },
  {
   "cell_type": "code",
   "execution_count": 37,
   "metadata": {
    "ExecuteTime": {
     "end_time": "2023-12-21T20:50:28.460258Z",
     "start_time": "2023-12-21T20:50:25.868966Z"
    },
    "execution": {
     "iopub.execute_input": "2024-11-12T15:42:00.333064Z",
     "iopub.status.busy": "2024-11-12T15:42:00.332526Z",
     "iopub.status.idle": "2024-11-12T15:42:00.377737Z",
     "shell.execute_reply": "2024-11-12T15:42:00.376966Z",
     "shell.execute_reply.started": "2024-11-12T15:42:00.333026Z"
    }
   },
   "outputs": [],
   "source": [
    "del disp_study_history, disp_trial_info\n",
    "from KevinsRoutines.utils.utils_gpu import display_gpu_info, display_gpu_device_info\n",
    "from KevinsRoutines.utils.utils_optuna import disp_trial_info, disp_study_history\n",
    "# from utils.utils_cellpainting import *\n",
    "# from utils_ml import model_selection \n"
   ]
  },
  {
   "cell_type": "code",
   "execution_count": null,
   "metadata": {
    "ExecuteTime": {
     "end_time": "2023-12-21T20:50:28.460258Z",
     "start_time": "2023-12-21T20:50:25.868966Z"
    },
    "execution": {
     "iopub.execute_input": "2024-11-12T15:06:07.951994Z",
     "iopub.status.busy": "2024-11-12T15:06:07.951263Z",
     "iopub.status.idle": "2024-11-12T15:06:42.989735Z",
     "shell.execute_reply": "2024-11-12T15:06:42.988809Z",
     "shell.execute_reply.started": "2024-11-12T15:06:07.951948Z"
    }
   },
   "outputs": [
    {
     "name": "stdout",
     "output_type": "stream",
     "text": [
      "insert ./src\n",
      "insert ../..\n",
      "['../..', './src', '/home/kevin/WSL-shared/cellpainting/cj-datasets', '/home/kevin/miniforge3/envs/cp311/lib/python311.zip', '/home/kevin/miniforge3/envs/cp311/lib/python3.11', '/home/kevin/miniforge3/envs/cp311/lib/python3.11/lib-dynload', '', '/home/kevin/miniforge3/envs/cp311/lib/python3.11/site-packages', '/home/kevin/miniforge3/envs/cp311/lib/python3.11/site-packages/huggingface_hub-0.20.3-py3.8.egg']\n"
     ]
    },
    {
     "name": "stderr",
     "output_type": "stream",
     "text": [
      "2024-11-12 16:06:42,944 - __main__ - INFO: -  Excution started : 2024_11_12_16:06:42 \n",
      "2024-11-12 16:06:42,945 - __main__ - INFO: -  Numpy version    : 1.26.2\n",
      "2024-11-12 16:06:42,946 - __main__ - INFO: -  Pandas version   : 2.2.0  \n"
     ]
    }
   ],
   "source": [
    "timestamp = datetime.now().strftime('%Y_%m_%d_%H:%M:%S')\n",
    "logger = logging.getLogger(__name__)\n",
    "logLevel = os.environ.get('LOG_LEVEL', 'INFO').upper()\n",
    "FORMAT = '%(asctime)s - %(name)s - %(levelname)s: - %(message)s'\n",
    "logging.basicConfig(level=\"INFO\", format= FORMAT)\n",
    "\n",
    "logger.info(f\" Excution started : {timestamp} \")\n",
    "# logger.info(f\" Pytorch version  : {torch.__version__}\")\n",
    "# logger.info(f\" Scipy version    : {scipy.__version__}\") \n",
    "logger.info(f\" Numpy version    : {np.__version__}\")\n",
    "logger.info(f\" Pandas version   : {pd.__version__}  \")"
   ]
  },
  {
   "cell_type": "code",
   "execution_count": 4,
   "metadata": {
    "ExecuteTime": {
     "end_time": "2023-12-21T20:50:31.139023Z",
     "start_time": "2023-12-21T20:50:30.891155Z"
    },
    "execution": {
     "iopub.execute_input": "2024-11-12T15:06:47.155887Z",
     "iopub.status.busy": "2024-11-12T15:06:47.155534Z",
     "iopub.status.idle": "2024-11-12T15:06:47.206184Z",
     "shell.execute_reply": "2024-11-12T15:06:47.205011Z",
     "shell.execute_reply.started": "2024-11-12T15:06:47.155855Z"
    }
   },
   "outputs": [],
   "source": [
    "import optuna\n",
    "import dask\n",
    "import sqlite3\n",
    "import dask.array as da\n",
    "import dask.dataframe as dd\n",
    "from dask import delayed\n",
    "from dask.distributed import Client\n",
    "from dask.distributed import LocalCluster\n",
    "from dask_cuda import LocalCUDACluster\n",
    "import dask_ml.model_selection as dcv\n",
    "\n",
    "import xgboost as xgb\n",
    "from xgboost import XGBClassifier, XGBRegressor\n",
    "import sklearn.metrics as skm\n",
    "\n",
    "# from dask_ml.model_selection import train_test_split\n",
    "# from dask_ml.model_selection import GridSearchCV, IncrementalSearchCV, HyperbandSearchCV\n",
    "# from dask_ml.metrics import mean_squared_error, r2_score, mean_squared_log_error"
   ]
  },
  {
   "cell_type": "markdown",
   "metadata": {
    "jp-MarkdownHeadingCollapsed": true
   },
   "source": [
    "## Datasets"
   ]
  },
  {
   "cell_type": "code",
   "execution_count": 7,
   "metadata": {
    "execution": {
     "iopub.execute_input": "2024-11-12T15:12:55.054129Z",
     "iopub.status.busy": "2024-11-12T15:12:55.053735Z",
     "iopub.status.idle": "2024-11-12T15:12:55.099362Z",
     "shell.execute_reply": "2024-11-12T15:12:55.098664Z",
     "shell.execute_reply.started": "2024-11-12T15:12:55.054101Z"
    }
   },
   "outputs": [
    {
     "name": "stdout",
     "output_type": "stream",
     "text": [
      " Path and Prefixes : \n",
      " ------------------- \n",
      " prefix                                      : \n",
      " prefix_lc                                   : \n",
      " metadata path                               : ./metadata/\n",
      " input path                                  : ./input/\n",
      " output path                                 : ./output_11102023/\n",
      "\n",
      " Input & Metadata Datasets : \n",
      " --------------------------- \n",
      " Compound Metadata Input File                : ./metadata/compound.csv\n",
      " Plate Metadata Input File                   : ./metadata/plate_new.csv\n",
      " Well Metadata Input File                    : ./metadata/well.csv\n",
      "\n",
      " Profiles Metadata File                      : ./metadata/profile_metadata.pkl\n",
      " Parquet  Metadata File                      : ./metadata/parquet_columns.pkl\n",
      "\n",
      " Compound Metadata : \n",
      " ------------------- \n",
      " Metadata + Smiles                           : ./output_11102023/compound_metadata_smiles.csv\n",
      "          + TPSA                             : ./output_11102023/compound_metadata_tpsa.csv\n",
      "          + TPSA Cleaned (TPSA <> 0)         : ./output_11102023/compound_metadata_tpsa_clean.csv\n",
      "          + Base64 Pharmacophores            : ./output_11102023/compound_metadads.ta_pcfp.csv\n",
      "\n",
      " Compound/TPSA File:\n",
      " -------------------\n",
      " compound TPSA File                          : ./output_11102023/compound_TPSA.csv\n",
      " compound TPSA Clean File                    : ./output_11102023/compound_TPSA_clean.csv\n",
      "\n",
      "\n",
      " Compound/Pharmacophore Files :\n",
      " ------------------------------\n",
      " compound Pharmacophore Sparse File          : ./output_11102023/compound_pharmacophores_sparse.pkl\n",
      " compound Pharmacophore CSV File             : ./output_11102023/compound_pharmacophores.csv\n",
      " compound Pharmacophore Numpy File           : ./output_11102023/compound_pharmacophores.npy\n",
      " compound Pharmacophore Numpy Zipped File    : ./output_11102023/compound_pharmacophores_zip.npz\n",
      "\n",
      " compound Pharmacophore 3Sample File         : ./output_11102023/compound_pharmacophores_3samples.csv\n",
      "\n",
      " Compound Extended Metadata files:\n",
      " ---------------------------------\n",
      " Compound Extended MetadataFile              : ./output_11102023/compound_extended_metadata.csv\n",
      "\n",
      " Compound Extended Metadata 5 SampleFile     : ./output_11102023/compound_extended_metadata_5samples.csv\n",
      " Compound Extended Metadata 3 SampleFile     : ./output_11102023/compound_extended_metadata_3samples.csv\n",
      " Compound Extended Metadata 2 SampleFile     : ./output_11102023/compound_extended_metadata_2samples.csv\n",
      "\n",
      " Compound Profiles files:\n",
      " ------------------------\n",
      " Compound Profiles 5 Samples File            : ./output_11102023//5_sample_profiles/5sample_profiles_{0:03d}{1:s}.csv\n",
      " Compound Profiles 3 Samples File            : ./output_11102023//3_sample_profiles/3sample_profiles_{0:03d}{1:s}.csv\n",
      " Compound Profiles 2 Samples File            : ./output_11102023//2_sample_profiles/2sample_profiles_{0:03d}{1:s}.csv\n",
      "\n"
     ]
    }
   ],
   "source": [
    "from utils.jcp_datasets import project_datasets, display_project_datasets\n",
    "ds = project_datasets(output_path = './output_11102023/')\n",
    "# ds = project_datasets(output_path = './output_10162023/')\n",
    "display_project_datasets(ds)"
   ]
  },
  {
   "cell_type": "code",
   "execution_count": 30,
   "metadata": {
    "ExecuteTime": {
     "end_time": "2023-12-21T20:50:35.620802Z",
     "start_time": "2023-12-21T20:50:35.605234Z"
    },
    "execution": {
     "iopub.execute_input": "2024-11-12T15:26:26.542202Z",
     "iopub.status.busy": "2024-11-12T15:26:26.541780Z",
     "iopub.status.idle": "2024-11-12T15:26:26.604753Z",
     "shell.execute_reply": "2024-11-12T15:26:26.603806Z",
     "shell.execute_reply.started": "2024-11-12T15:26:26.542169Z"
    },
    "lines_to_next_cell": 0
   },
   "outputs": [],
   "source": [
    "# prefix = '' ### Target-2' , 'MOA'\n",
    "# input_path =\"./metadata/\"\n",
    "# output_path =\"./output_11102023\"\n",
    "# prefix_lc = prefix.lower().replace('-', '_')\n",
    "# CSV = '.csv'\n",
    "# x = 999\n",
    "\n",
    "# CompoundExtendedMetadataSampleFile  = f\"{output_path}{prefix_lc}/compound_extended_metadata_samples.csv\"\n",
    "# profileInputFiles                   = \"./output_11102023/profiles/compound_profiles_2samples_{0:03d}.csv\"\n",
    "# binned_2SampleProfileFiles          = \"./output_11102023/2_sample_profiles/binned_2sample_profiles_{0:03d}.csv\"\n",
    "# binned_3SampleProfileFiles          = \"./output_11102023/3_sample_profiles/3sample_profiles_1482_bin_{0:03d}.csv\"\n",
    "\n",
    "# CompoundExtendedMetadata2SampleFile = f\"{output_path}{prefix_lc}/compound_extended_metadata_2samples.csv\"\n",
    "# print(f\" Compound Extended Metadata 2 SampleFile  : {CompoundExtendedMetadata2SampleFile }\")\n",
    "# print()\n",
    "# print(f\" Compound Profiles 2 Samples File : {CompoundProfiles2SampleFile}\")\n",
    "# CompoundProfiles2SampleFile         = f\"{output_path}{prefix_lc}/profiles/compound_profiles_2samples\"\n",
    "# profileMetadataFile                 = f\"{input_path}profile_metadata.pkl\"\n",
    "# print(f\" profiles Metadata File           : {profileMetadataFile}\")\n",
    "# print(f\" profileInputFiles                : {profileInputFiles}\")\n",
    "# print(f\" binned_2ProfileFiles             : {binned_2SampleProfileFiles}\")\n",
    "# print(f\" binned_3ProfileFiles             : {binned_3SampleProfileFiles}\")\n",
    "# trainingMetrics                     = f\"{output_path}{prefix_lc}/training_metrics.pkl\"\n",
    "# print(f\" training metrics                 : {trainingMetrics}\")\n",
    "\n",
    "\n",
    " # Compound Extended Metadata 2 SampleFile  : ./output_11102023/compound_extended_metadata_2samples.csv\n",
    " # Compound Profiles 2 Samples File CSV     : ./output_11102023/profiles/compound_profiles_2samples\n",
    " \n",
    " # profiles Metadata File                   : ./metadata/profile_metadata.pkl\n",
    " \n",
    " # profileInputFiles                        : ./output_11102023/profiles/compound_profiles_2samples_{0:03d}.csv\n",
    " # binned_2ProfileFiles                     : ./output_11102023/2_sample_profiles/binned_2sample_profiles_{0:03d}.csv\n",
    " # binned_3ProfileFiles                     : ./output_11102023/3_sample_profiles/3sample_profiles_1482_bin_{0:03d}.csv\n",
    " # training metrics                         : ./output_11102023/training_metrics.pkl"
   ]
  },
  {
   "cell_type": "markdown",
   "metadata": {
    "jp-MarkdownHeadingCollapsed": true
   },
   "source": [
    "## Read Features metadata file"
   ]
  },
  {
   "cell_type": "code",
   "execution_count": 8,
   "metadata": {
    "execution": {
     "iopub.execute_input": "2024-11-12T15:13:03.048296Z",
     "iopub.status.busy": "2024-11-12T15:13:03.047852Z",
     "iopub.status.idle": "2024-11-12T15:13:03.093171Z",
     "shell.execute_reply": "2024-11-12T15:13:03.092417Z",
     "shell.execute_reply.started": "2024-11-12T15:13:03.048267Z"
    }
   },
   "outputs": [
    {
     "name": "stdout",
     "output_type": "stream",
     "text": [
      " Features select file:  ./metadata/profile_metadata.pkl\n"
     ]
    }
   ],
   "source": [
    "print(f\" Features select file:  {ds.profileMetadataFile}\")"
   ]
  },
  {
   "cell_type": "code",
   "execution_count": 9,
   "metadata": {
    "execution": {
     "iopub.execute_input": "2024-11-12T15:13:09.104338Z",
     "iopub.status.busy": "2024-11-12T15:13:09.103879Z",
     "iopub.status.idle": "2024-11-12T15:13:09.251859Z",
     "shell.execute_reply": "2024-11-12T15:13:09.250913Z",
     "shell.execute_reply.started": "2024-11-12T15:13:09.104309Z"
    }
   },
   "outputs": [
    {
     "data": {
      "text/plain": [
       "dict_keys(['all_profile_columns', 'metadata_columns', 'selected_columns', 'parquet_columns'])"
      ]
     },
     "execution_count": 9,
     "metadata": {},
     "output_type": "execute_result"
    }
   ],
   "source": [
    "with open(ds.profileMetadataFile, 'rb') as f: \n",
    "    pickle_data = pickle.load(f)\n",
    "\n",
    "pickle_data.keys()\n",
    "\n",
    "# COMPOUND_PROFILE_COLUMNS = pickle_data['all_profile_columns']  ## 3672 \n",
    "COMPOUND_PROFILE_COLUMNS = pickle_data['metadata_columns']['MetadataNames'] + sorted(list(pickle_data['selected_columns']['selected']))  ## 1482\n",
    "\n",
    "metadata_categorical_columns = set(pickle_data['metadata_columns']['MetadataCategoricalColumns'])\n",
    "metadata_categorical_columns_dtype = pickle_data['metadata_columns']['MetadataCategoricalColumns']\n",
    "\n",
    "metadata_float_columns =  set(pickle_data['metadata_columns']['MetadataFloatColumns'])\n",
    "metadata_float_columns_dtype =  pickle_data['metadata_columns']['MetadataFloatColumns']\n",
    "\n",
    "metadata_integer_columns =  set(pickle_data['metadata_columns']['MetadataIntegerColumns'])\n",
    "metadata_integer_columns_dtype =  pickle_data['metadata_columns']['MetadataIntegerColumns']\n",
    "\n",
    "metadata_numeric_columns =  set(pickle_data['metadata_columns']['MetadataNumericColumns'])\n",
    "metadata_numeric_columns_dtype =  pickle_data['metadata_columns']['MetadataNumericColumns']\n",
    "\n",
    "\n",
    "X_columns = pickle_data['selected_columns']['selected']\n",
    "X_columns_dtype = {x: np.float32 for x in X_columns}\n",
    "\n",
    "y_columns = set([\"Metadata_Permiation\"])\n",
    "y_columns_dtype = {x: np.int64 for x in y_columns} ## \"Metadata_log10TPSA\":np.dtype('float64')}\n",
    "\n",
    "Xy_columns = list(y_columns | X_columns)\n",
    "Xy_columns_dtype = y_columns_dtype | X_columns_dtype\n",
    " "
   ]
  },
  {
   "cell_type": "markdown",
   "metadata": {
    "jp-MarkdownHeadingCollapsed": true
   },
   "source": [
    "## Display metadata info and constants used "
   ]
  },
  {
   "cell_type": "code",
   "execution_count": 13,
   "metadata": {
    "execution": {
     "iopub.execute_input": "2024-11-12T15:15:26.748908Z",
     "iopub.status.busy": "2024-11-12T15:15:26.748396Z",
     "iopub.status.idle": "2024-11-12T15:15:26.835133Z",
     "shell.execute_reply": "2024-11-12T15:15:26.834371Z",
     "shell.execute_reply.started": "2024-11-12T15:15:26.748867Z"
    },
    "scrolled": true
   },
   "outputs": [
    {
     "name": "stdout",
     "output_type": "stream",
     "text": [
      "--------------------------------------------------------------------------------\n",
      " all_profile_columns & COMPOUND_PROFILE_COLUMNS\n",
      "--------------------------------------------------------------------------------\n",
      "  Len all_profile_columns        : 3672\n",
      "  Len COMPOUND_PROFILE_COLUMNS   : 1482\n",
      "\n",
      "  all_profile_columns[:10]       : ['Metadata_Source', 'Metadata_Batch', 'Metadata_Plate', 'Metadata_Well', 'Metadata_JCP2022', 'Metadata_Hash', 'Metadata_Bin', 'Metadata_TPSA', 'Metadata_lnTPSA', 'Metadata_log10TPSA']\n",
      "  COMPOUND_PROFILE_COLUMNS[:10]  : ['Metadata_Source', 'Metadata_Batch', 'Metadata_Plate', 'Metadata_Well', 'Metadata_JCP2022', 'Metadata_Hash', 'Metadata_Bin', 'Metadata_TPSA', 'Metadata_lnTPSA', 'Metadata_log10TPSA']\n",
      "\n",
      "  all_profile_columns[10:15]     : ['Metadata_Permiation', 'Cells_AreaShape_Area', 'Cells_AreaShape_BoundingBoxArea', 'Cells_AreaShape_BoundingBoxMaximum_X', 'Cells_AreaShape_BoundingBoxMaximum_Y']\n",
      "  COMPOUND_PROFILE_COLUMNS[10:15]: ['Metadata_Permiation', 'Cells_AreaShape_BoundingBoxMaximum_X', 'Cells_AreaShape_Center_X', 'Cells_AreaShape_Center_Y', 'Cells_AreaShape_Compactness']\n",
      "\n",
      "  all_profile_columns[15:20]     : ['Cells_AreaShape_BoundingBoxMinimum_X', 'Cells_AreaShape_BoundingBoxMinimum_Y', 'Cells_AreaShape_Center_X', 'Cells_AreaShape_Center_Y', 'Cells_AreaShape_Compactness']\n",
      "  COMPOUND_PROFILE_COLUMNS[15:20]: ['Cells_AreaShape_Eccentricity', 'Cells_AreaShape_EulerNumber', 'Cells_AreaShape_Extent', 'Cells_AreaShape_MajorAxisLength', 'Cells_AreaShape_MedianRadius']\n",
      "\n",
      "  all_profile_columns[-4:]       : ['Nuclei_Texture_Variance_RNA_5_00_256', 'Nuclei_Texture_Variance_RNA_5_01_256', 'Nuclei_Texture_Variance_RNA_5_02_256', 'Nuclei_Texture_Variance_RNA_5_03_256']\n",
      "  COMPOUND_PROFILE_COLUMNS[-4:]  : ['Nuclei_Texture_SumVariance_DNA_10_03_256', 'Nuclei_Texture_SumVariance_ER_10_01_256', 'Nuclei_Texture_SumVariance_Mito_10_03_256', 'Nuclei_Texture_SumVariance_RNA_10_01_256']\n",
      "--------------------------------------------------------------------------------\n",
      " MetadataNames  - length(11 )\n",
      "--------------------------------------------------------------------------------\n",
      " \t : list item : Metadata_Source\n",
      " \t : list item : Metadata_Batch\n",
      " \t : list item : Metadata_Plate\n",
      " \t : list item : Metadata_Well\n",
      " \t : list item : Metadata_JCP2022\n",
      " \t : list item : Metadata_Hash\n",
      " \t : list item : Metadata_Bin\n",
      " \t : list item : Metadata_TPSA\n",
      " \t : list item : Metadata_lnTPSA\n",
      " \t : list item : Metadata_log10TPSA\n",
      " \t : list item : Metadata_Permiation\n",
      "\n",
      "--------------------------------------------------------------------------------\n",
      " MetadataCategoricalColumns  - length(4 )\n",
      "--------------------------------------------------------------------------------\n",
      " \t : key :  Metadata_Source               item: category\n",
      " \t : key :  Metadata_Batch                item: category\n",
      " \t : key :  Metadata_Plate                item: category\n",
      " \t : key :  Metadata_Well                 item: category\n",
      "\n",
      "--------------------------------------------------------------------------------\n",
      " MetadataNumericColumns  - length(6 )\n",
      "--------------------------------------------------------------------------------\n",
      " \t : key :  Metadata_TPSA                 item: <class 'numpy.float32'>\n",
      " \t : key :  Metadata_lnTPSA               item: <class 'numpy.float32'>\n",
      " \t : key :  Metadata_log10TPSA            item: <class 'numpy.float32'>\n",
      " \t : key :  Metadata_Hash                 item: <class 'numpy.int64'>\n",
      " \t : key :  Metadata_Bin                  item: <class 'numpy.int8'>\n",
      " \t : key :  Metadata_Permiation           item: <class 'numpy.int8'>\n",
      "\n",
      "--------------------------------------------------------------------------------\n",
      " MetadataFloatColumns  - length(3 )\n",
      "--------------------------------------------------------------------------------\n",
      " \t : key :  Metadata_TPSA                 item: <class 'numpy.float32'>\n",
      " \t : key :  Metadata_lnTPSA               item: <class 'numpy.float32'>\n",
      " \t : key :  Metadata_log10TPSA            item: <class 'numpy.float32'>\n",
      "\n",
      "--------------------------------------------------------------------------------\n",
      " MetadataIntegerColumns  - length(3 )\n",
      "--------------------------------------------------------------------------------\n",
      " \t : key :  Metadata_Hash                 item: <class 'numpy.int64'>\n",
      " \t : key :  Metadata_Bin                  item: <class 'numpy.int8'>\n",
      " \t : key :  Metadata_Permiation           item: <class 'numpy.int8'>\n",
      "\n",
      "--------------------------------------------------------------------------------\n",
      " MetadataColumns  - length(11 )\n",
      "--------------------------------------------------------------------------------\n",
      " \t : list item : Metadata_Source\n",
      " \t : list item : Metadata_Batch\n",
      " \t : list item : Metadata_Plate\n",
      " \t : list item : Metadata_Well\n",
      " \t : list item : Metadata_JCP2022\n",
      " \t : list item : Metadata_Hash\n",
      " \t : list item : Metadata_Bin\n",
      " \t : list item : Metadata_TPSA\n",
      " \t : list item : Metadata_lnTPSA\n",
      " \t : list item : Metadata_log10TPSA\n",
      " \t : list item : Metadata_Permiation\n",
      "\n",
      "\n",
      "--------------------------------------------------------------------------------\n",
      " all_profile_columns   <class 'list'>  3672 entries\n",
      "--------------------------------------------------------------------------------\n",
      " all_profile_columns    <class 'list'>  3672 entries\n",
      "\n",
      "--------------------------------------------------------------------------------\n",
      " metadata_columns   <class 'dict'>     6 entries\n",
      "--------------------------------------------------------------------------------\n",
      " [MetadataNames]                    11       <class 'list'>\n",
      " [MetadataCategoricalColumns]        4       <class 'dict'>\n",
      " [MetadataNumericColumns]            6       <class 'dict'>\n",
      " [MetadataFloatColumns]              3       <class 'dict'>\n",
      " [MetadataIntegerColumns]            3       <class 'dict'>\n",
      " [MetadataColumns]                  11       <class 'list'>\n",
      " \t\t\t  total:    38\n",
      "\n",
      "--------------------------------------------------------------------------------\n",
      " selected_columns   <class 'dict'>     6 entries\n",
      "--------------------------------------------------------------------------------\n",
      " [selected]                       1471       <class 'set'>\n",
      " [dropped_correlation]            2190       <class 'set'>\n",
      " [dropped_variance]                  0       <class 'set'>\n",
      " [dropped_nans]                     12       <class 'set'>\n",
      " [dropped_image_features]         1089       <class 'set'>\n",
      " [dropped_metadata]                  3       <class 'set'>\n",
      " \t\t\t  total:  4765\n",
      "\n",
      "--------------------------------------------------------------------------------\n",
      " parquet_columns   <class 'dict'>     5 entries\n",
      "--------------------------------------------------------------------------------\n",
      " [Metadata]                          3       <class 'dict'>\n",
      " [Cells]                          1256       <class 'dict'>\n",
      " [Cytoplasm]                      1241       <class 'dict'>\n",
      " [Nuclei]                         1176       <class 'dict'>\n",
      " [Image]                          1089       <class 'dict'>\n",
      " \t\t\t  total:  4765\n",
      " len(X_columms)                (1471)\n",
      " len(y_columms)                (   1) {'Metadata_Permiation'}\n",
      " len(Xy_columms)               (1472) ['Cytoplasm_Texture_InverseDifferenceMoment_AGP_3_00_256', 'Cells_RadialDistribution_MeanFrac_RNA_1of4', 'Cells_Correlation_RWC_ER_AGP']\n",
      " len(Xy_columms_dtype)         (1472) ['Metadata_Permiation', 'Cytoplasm_Texture_InverseDifferenceMoment_AGP_3_00_256', 'Cytoplasm_Granularity_10_ER']\n"
     ]
    }
   ],
   "source": [
    "disp_metadata_file(pickle_data, COMPOUND_PROFILE_COLUMNS)\n",
    "\n",
    "print(f\" len(X_columms)                ({len(X_columns):4d})\")\n",
    "print(f\" len(y_columms)                ({len(y_columns):4d}) {y_columns}\")\n",
    "print(f\" len(Xy_columms)               ({len(Xy_columns)}) {list(Xy_columns)[:3]}\")\n",
    "print(f\" len(Xy_columms_dtype)         ({len(Xy_columns)}) {list(Xy_columns_dtype)[:3]}\")\n"
   ]
  },
  {
   "cell_type": "code",
   "execution_count": 14,
   "metadata": {
    "ExecuteTime": {
     "end_time": "2023-12-21T20:50:55.041400Z",
     "start_time": "2023-12-21T20:50:55.011436Z"
    },
    "execution": {
     "iopub.execute_input": "2024-11-12T15:15:34.524264Z",
     "iopub.status.busy": "2024-11-12T15:15:34.523848Z",
     "iopub.status.idle": "2024-11-12T15:15:34.568479Z",
     "shell.execute_reply": "2024-11-12T15:15:34.567712Z",
     "shell.execute_reply.started": "2024-11-12T15:15:34.524231Z"
    },
    "slideshow": {
     "slide_type": ""
    },
    "tags": []
   },
   "outputs": [],
   "source": [
    "# profile_file= \"./output_11102023/profiles/compound_profiles_2samples_002.csv\"\n",
    "# df_profiles = pd.read_csv(profile_file_001, header=0, names = all_columns, usecols=Xy_columns, dtype= Xy_columns_dtype, nrows =5)   \n",
    "# df_profiles = pd.read_csv(profile_file, header=0, names = profileColumnNames, usecols=Xy_columns, dtype= Xy_columns_dtype, nrows =5)   "
   ]
  },
  {
   "cell_type": "markdown",
   "metadata": {
    "jp-MarkdownHeadingCollapsed": true
   },
   "source": [
    "# Helper Functions"
   ]
  },
  {
   "cell_type": "code",
   "execution_count": 15,
   "metadata": {
    "execution": {
     "iopub.execute_input": "2024-11-12T15:16:49.944945Z",
     "iopub.status.busy": "2024-11-12T15:16:49.944465Z",
     "iopub.status.idle": "2024-11-12T15:16:50.023193Z",
     "shell.execute_reply": "2024-11-12T15:16:50.022150Z",
     "shell.execute_reply.started": "2024-11-12T15:16:49.944907Z"
    }
   },
   "outputs": [],
   "source": [
    "def train_model(iter_files, metric_keys = None, study_name = \"\", trial_num = 0, save = False, \n",
    "                **model_params):\n",
    "    metrics_hist = defaultdict(list)\n",
    "    my_model = None\n",
    "\n",
    "    for i, ((X_train,y_train), (X_val, y_val)) in enumerate(iter_files):\n",
    "        logging.info(f\"CrossValidation split #{i}\")\n",
    "        logging.info(f\"Building training & validation DMatrix...\")\n",
    "\n",
    "        d_train = xgb.dask.DaskDMatrix(client, X_train, y_train)\n",
    "        d_val = xgb.dask.DaskDMatrix(client, X_val, y_val)\n",
    "\n",
    "        logging.info(f\"Training model...\")\n",
    "        # booster_model = my_model['booster'] if my_model is not None else None\n",
    "        my_model = xgb.dask.train(\n",
    "            None,\n",
    "            model_params,\n",
    "            d_train,\n",
    "            # xgb_model = booster_model,\n",
    "            num_boost_round=1000,\n",
    "            evals=[(d_train, \"train\"), (d_val, \"test\")],\n",
    "            verbose_eval=False,\n",
    "            early_stopping_rounds = 50\n",
    "        )\n",
    "        # logging.info(f\"Training model...Completed\")\n",
    "\n",
    "        logging.info(f\"Running model on test data...\")\n",
    "        y_pred = xgb.dask.predict(client, my_model, d_val).compute()\n",
    "        y_true = y_val.compute().to_numpy().squeeze()\n",
    "\n",
    "        # Compute predictions and mean squared error for this iteration\n",
    "        logging.info(f\"Calculating metrics...\")\n",
    "        iter_metrics = compute_classification_metrics(my_model, y_true, y_pred)\n",
    "        logging.info(f\"Calculating metrics...Completed\")\n",
    "\n",
    "        print(\"-\" * 80)\n",
    "        for key in metric_keys:\n",
    "            metrics_hist[key].append(iter_metrics[key])\n",
    "            print(f\" {key:20s}: {iter_metrics[key]:9.5f}\")\n",
    "        print(\"-\" * 80)\n",
    "\n",
    "        del d_train, d_val, X_train, y_train, X_val, y_val, y_true, y_pred\n",
    "\n",
    "    ## End of loop\n",
    "    return my_model, metrics_hist\n",
    "\n",
    "\n",
    "def objective(trial, disp_params = True, save = True):\n",
    "    metric_keys = [\"train_auc\",\"train_logloss\", \"val_auc\", \"val_logloss\", \"roc_auc\", \"logloss\",\n",
    "                   \"accuracy\",\"bal_acc\",\"top_k_acc\",\"F1_score\",\"map\",\"pearson_corr\"]\n",
    "    CV_FOLDS = 5\n",
    "    obj = \"binary:logistic\"\n",
    "    eval_metric =[\"auc\",\"logloss\"]\n",
    "\n",
    "    study_params = propose_parameters(trial, obj, eval_metric)\n",
    "    study_params = {\"booster\"      : \"gbtree\",\n",
    "                    \"device\"       : \"gpu\",\n",
    "                    # \"objective\"    :  \"binary:logistic\",\n",
    "                    # \"eval_metric\"  :  [\"auc\", \"logloss\"],\n",
    "                    \"verbosity\"    : 0,\n",
    "                    \"disable_default_eval_metric\" : False,\n",
    "                    ** study_params}\n",
    "    print('-'*80)\n",
    "    print(f\" Training model (trial #{trial.number}) \")\n",
    "    print('-'*80)\n",
    "\n",
    "    if disp_params:\n",
    "        print(f\" Parameters:\")\n",
    "        for k, v in study_params.items():\n",
    "            print(f\"  {k:30s} {v}\")\n",
    "\n",
    "    iter_files = make_cv_splits_2(input_file_list, n_folds=CV_FOLDS, y_columns=y_columns)\n",
    "    model, metrics = train_model(iter_files, metric_keys = metric_keys,\n",
    "                                 study_name = study.study_name,\n",
    "                                 trial_num = trial.number,\n",
    "                                 save = True,\n",
    "                                 ** study_params)\n",
    "\n",
    "    print_metric_hist(metrics)\n",
    "    print(f\" model best score    :  {model['booster'].best_score}\")\n",
    "    print(f\" model best iteration:  {model['booster'].best_iteration}\")\n",
    "\n",
    "    if save:\n",
    "        save_as_filename = \"./saved_models/{0}_trial_{1:03d}.json\".format(study.study_name,trial.number)\n",
    "        print(f\" Save model to : {save_as_filename}\")\n",
    "        model['booster'].save_model(save_as_filename)\n",
    "\n",
    "    r1 = np.array(metrics['val_auc']).mean()\n",
    "    r2 = np.array(metrics['val_logloss']).mean()\n",
    "    del model, metrics\n",
    "    return r1,r2"
   ]
  },
  {
   "cell_type": "markdown",
   "metadata": {
    "jp-MarkdownHeadingCollapsed": true
   },
   "source": [
    "# Dask - create cluster and client "
   ]
  },
  {
   "cell_type": "code",
   "execution_count": 47,
   "metadata": {
    "execution": {
     "iopub.execute_input": "2024-08-09T20:01:52.572443Z",
     "iopub.status.busy": "2024-08-09T20:01:52.571729Z",
     "iopub.status.idle": "2024-08-09T20:01:52.636621Z",
     "shell.execute_reply": "2024-08-09T20:01:52.635813Z",
     "shell.execute_reply.started": "2024-08-09T20:01:52.572377Z"
    }
   },
   "outputs": [],
   "source": [
    "# !nvidia-smi"
   ]
  },
  {
   "cell_type": "code",
   "execution_count": 16,
   "metadata": {
    "execution": {
     "iopub.execute_input": "2024-08-12T14:46:32.573154Z",
     "iopub.status.busy": "2024-08-12T14:46:32.572718Z",
     "iopub.status.idle": "2024-08-12T14:46:32.607533Z",
     "shell.execute_reply": "2024-08-12T14:46:32.606568Z",
     "shell.execute_reply.started": "2024-08-12T14:46:32.573114Z"
    },
    "lines_to_next_cell": 2
   },
   "outputs": [
    {
     "name": "stdout",
     "output_type": "stream",
     "text": [
      "Cluster doesn't exist\n"
     ]
    }
   ],
   "source": [
    "try:\n",
    "    cluster.close()\n",
    "    del cluster\n",
    "except Exception as e:\n",
    "    print(\"Cluster doesn't exist\")\n",
    "else:\n",
    "    print(\"Cluster close succeeded\")"
   ]
  },
  {
   "cell_type": "code",
   "execution_count": 17,
   "metadata": {
    "ExecuteTime": {
     "end_time": "2023-12-21T20:50:41.337029Z",
     "start_time": "2023-12-21T20:50:40.947431Z"
    },
    "execution": {
     "iopub.execute_input": "2024-08-12T14:46:33.448801Z",
     "iopub.status.busy": "2024-08-12T14:46:33.448383Z",
     "iopub.status.idle": "2024-08-12T14:46:35.685239Z",
     "shell.execute_reply": "2024-08-12T14:46:35.684297Z",
     "shell.execute_reply.started": "2024-08-12T14:46:33.448760Z"
    }
   },
   "outputs": [
    {
     "name": "stderr",
     "output_type": "stream",
     "text": [
      "/home/kevin/miniforge3/envs/cp311/lib/python3.11/site-packages/dask/dataframe/_pyarrow_compat.py:17: FutureWarning: Minimal version of pyarrow will soon be increased to 14.0.1. You are using 11.0.0. Please consider upgrading.\n",
      "  warnings.warn(\n",
      "/home/kevin/miniforge3/envs/cp311/lib/python3.11/site-packages/dask/dataframe/_pyarrow_compat.py:17: FutureWarning: Minimal version of pyarrow will soon be increased to 14.0.1. You are using 11.0.0. Please consider upgrading.\n",
      "  warnings.warn(\n",
      "/home/kevin/miniforge3/envs/cp311/lib/python3.11/site-packages/dask/dataframe/_pyarrow_compat.py:17: FutureWarning: Minimal version of pyarrow will soon be increased to 14.0.1. You are using 11.0.0. Please consider upgrading.\n",
      "  warnings.warn(\n"
     ]
    },
    {
     "name": "stdout",
     "output_type": "stream",
     "text": [
      " Cluster dashboard link : http://127.0.0.1:8787/status\n"
     ]
    }
   ],
   "source": [
    "n_workers = 3\n",
    "n_threads = 2\n",
    "cuda_visible_devices = [0,1,2]\n",
    "cluster = LocalCUDACluster(CUDA_VISIBLE_DEVICES=[0,1,2],\n",
    "                           n_workers=n_workers, \n",
    "                           threads_per_worker= n_threads,\n",
    "                           memory_limit='6GB',\n",
    "                           silence_logs = logging.WARNING)\n",
    "# cluster = LocalCluster(\"Kevins_Cluster\", n_workers=n_workers, threads_per_worker= n_threads, silence_logs = logging.WARNING)\n",
    "print(f\" Cluster dashboard link : {cluster.dashboard_link}\")"
   ]
  },
  {
   "cell_type": "code",
   "execution_count": 18,
   "metadata": {
    "execution": {
     "iopub.execute_input": "2024-08-12T14:46:35.687067Z",
     "iopub.status.busy": "2024-08-12T14:46:35.686621Z",
     "iopub.status.idle": "2024-08-12T14:46:35.727781Z",
     "shell.execute_reply": "2024-08-12T14:46:35.726552Z",
     "shell.execute_reply.started": "2024-08-12T14:46:35.687039Z"
    }
   },
   "outputs": [],
   "source": [
    "# print(cluster)\n",
    "# print(f\" Cluster dashboard link : {cluster.dashboard_link}\")\n",
    "# cluster.workers[2].restart\n",
    "# cluster.start_worker\n",
    "# cluster.worker_spec\n",
    "# cluster.scale(3)"
   ]
  },
  {
   "cell_type": "code",
   "execution_count": 19,
   "metadata": {
    "execution": {
     "iopub.execute_input": "2024-08-12T14:46:35.728637Z",
     "iopub.status.busy": "2024-08-12T14:46:35.728436Z",
     "iopub.status.idle": "2024-08-12T14:46:35.821447Z",
     "shell.execute_reply": "2024-08-12T14:46:35.820490Z",
     "shell.execute_reply.started": "2024-08-12T14:46:35.728620Z"
    }
   },
   "outputs": [
    {
     "name": "stdout",
     "output_type": "stream",
     "text": [
      " *** Client close failed *** \n",
      "\n",
      " *** Client created - running \n"
     ]
    },
    {
     "data": {
      "text/html": [
       "<div>\n",
       "    <div style=\"width: 24px; height: 24px; background-color: #e1e1e1; border: 3px solid #9D9D9D; border-radius: 5px; position: absolute;\"> </div>\n",
       "    <div style=\"margin-left: 48px;\">\n",
       "        <h3 style=\"margin-bottom: 0px;\">Client</h3>\n",
       "        <p style=\"color: #9D9D9D; margin-bottom: 0px;\">Client-ac7c7e1b-58b9-11ef-932f-d094663cecfa</p>\n",
       "        <table style=\"width: 100%; text-align: left;\">\n",
       "\n",
       "        <tr>\n",
       "        \n",
       "            <td style=\"text-align: left;\"><strong>Connection method:</strong> Cluster object</td>\n",
       "            <td style=\"text-align: left;\"><strong>Cluster type:</strong> dask_cuda.LocalCUDACluster</td>\n",
       "        \n",
       "        </tr>\n",
       "\n",
       "        \n",
       "            <tr>\n",
       "                <td style=\"text-align: left;\">\n",
       "                    <strong>Dashboard: </strong> <a href=\"http://127.0.0.1:8787/status\" target=\"_blank\">http://127.0.0.1:8787/status</a>\n",
       "                </td>\n",
       "                <td style=\"text-align: left;\"></td>\n",
       "            </tr>\n",
       "        \n",
       "\n",
       "        </table>\n",
       "\n",
       "        \n",
       "\n",
       "        \n",
       "            <details>\n",
       "            <summary style=\"margin-bottom: 20px;\"><h3 style=\"display: inline;\">Cluster Info</h3></summary>\n",
       "            <div class=\"jp-RenderedHTMLCommon jp-RenderedHTML jp-mod-trusted jp-OutputArea-output\">\n",
       "    <div style=\"width: 24px; height: 24px; background-color: #e1e1e1; border: 3px solid #9D9D9D; border-radius: 5px; position: absolute;\">\n",
       "    </div>\n",
       "    <div style=\"margin-left: 48px;\">\n",
       "        <h3 style=\"margin-bottom: 0px; margin-top: 0px;\">LocalCUDACluster</h3>\n",
       "        <p style=\"color: #9D9D9D; margin-bottom: 0px;\">0ffae685</p>\n",
       "        <table style=\"width: 100%; text-align: left;\">\n",
       "            <tr>\n",
       "                <td style=\"text-align: left;\">\n",
       "                    <strong>Dashboard:</strong> <a href=\"http://127.0.0.1:8787/status\" target=\"_blank\">http://127.0.0.1:8787/status</a>\n",
       "                </td>\n",
       "                <td style=\"text-align: left;\">\n",
       "                    <strong>Workers:</strong> 3\n",
       "                </td>\n",
       "            </tr>\n",
       "            <tr>\n",
       "                <td style=\"text-align: left;\">\n",
       "                    <strong>Total threads:</strong> 6\n",
       "                </td>\n",
       "                <td style=\"text-align: left;\">\n",
       "                    <strong>Total memory:</strong> 16.76 GiB\n",
       "                </td>\n",
       "            </tr>\n",
       "            \n",
       "            <tr>\n",
       "    <td style=\"text-align: left;\"><strong>Status:</strong> running</td>\n",
       "    <td style=\"text-align: left;\"><strong>Using processes:</strong> True</td>\n",
       "</tr>\n",
       "\n",
       "            \n",
       "        </table>\n",
       "\n",
       "        <details>\n",
       "            <summary style=\"margin-bottom: 20px;\">\n",
       "                <h3 style=\"display: inline;\">Scheduler Info</h3>\n",
       "            </summary>\n",
       "\n",
       "            <div style=\"\">\n",
       "    <div>\n",
       "        <div style=\"width: 24px; height: 24px; background-color: #FFF7E5; border: 3px solid #FF6132; border-radius: 5px; position: absolute;\"> </div>\n",
       "        <div style=\"margin-left: 48px;\">\n",
       "            <h3 style=\"margin-bottom: 0px;\">Scheduler</h3>\n",
       "            <p style=\"color: #9D9D9D; margin-bottom: 0px;\">Scheduler-f4018423-2415-484d-b46b-4d5ba4c79605</p>\n",
       "            <table style=\"width: 100%; text-align: left;\">\n",
       "                <tr>\n",
       "                    <td style=\"text-align: left;\">\n",
       "                        <strong>Comm:</strong> tcp://127.0.0.1:42237\n",
       "                    </td>\n",
       "                    <td style=\"text-align: left;\">\n",
       "                        <strong>Workers:</strong> 3\n",
       "                    </td>\n",
       "                </tr>\n",
       "                <tr>\n",
       "                    <td style=\"text-align: left;\">\n",
       "                        <strong>Dashboard:</strong> <a href=\"http://127.0.0.1:8787/status\" target=\"_blank\">http://127.0.0.1:8787/status</a>\n",
       "                    </td>\n",
       "                    <td style=\"text-align: left;\">\n",
       "                        <strong>Total threads:</strong> 6\n",
       "                    </td>\n",
       "                </tr>\n",
       "                <tr>\n",
       "                    <td style=\"text-align: left;\">\n",
       "                        <strong>Started:</strong> Just now\n",
       "                    </td>\n",
       "                    <td style=\"text-align: left;\">\n",
       "                        <strong>Total memory:</strong> 16.76 GiB\n",
       "                    </td>\n",
       "                </tr>\n",
       "            </table>\n",
       "        </div>\n",
       "    </div>\n",
       "\n",
       "    <details style=\"margin-left: 48px;\">\n",
       "        <summary style=\"margin-bottom: 20px;\">\n",
       "            <h3 style=\"display: inline;\">Workers</h3>\n",
       "        </summary>\n",
       "\n",
       "        \n",
       "        <div style=\"margin-bottom: 20px;\">\n",
       "            <div style=\"width: 24px; height: 24px; background-color: #DBF5FF; border: 3px solid #4CC9FF; border-radius: 5px; position: absolute;\"> </div>\n",
       "            <div style=\"margin-left: 48px;\">\n",
       "            <details>\n",
       "                <summary>\n",
       "                    <h4 style=\"margin-bottom: 0px; display: inline;\">Worker: 0</h4>\n",
       "                </summary>\n",
       "                <table style=\"width: 100%; text-align: left;\">\n",
       "                    <tr>\n",
       "                        <td style=\"text-align: left;\">\n",
       "                            <strong>Comm: </strong> tcp://127.0.0.1:46847\n",
       "                        </td>\n",
       "                        <td style=\"text-align: left;\">\n",
       "                            <strong>Total threads: </strong> 2\n",
       "                        </td>\n",
       "                    </tr>\n",
       "                    <tr>\n",
       "                        <td style=\"text-align: left;\">\n",
       "                            <strong>Dashboard: </strong> <a href=\"http://127.0.0.1:34109/status\" target=\"_blank\">http://127.0.0.1:34109/status</a>\n",
       "                        </td>\n",
       "                        <td style=\"text-align: left;\">\n",
       "                            <strong>Memory: </strong> 5.59 GiB\n",
       "                        </td>\n",
       "                    </tr>\n",
       "                    <tr>\n",
       "                        <td style=\"text-align: left;\">\n",
       "                            <strong>Nanny: </strong> tcp://127.0.0.1:33313\n",
       "                        </td>\n",
       "                        <td style=\"text-align: left;\"></td>\n",
       "                    </tr>\n",
       "                    <tr>\n",
       "                        <td colspan=\"2\" style=\"text-align: left;\">\n",
       "                            <strong>Local directory: </strong> /tmp/dask-scratch-space/worker-9ox4uls9\n",
       "                        </td>\n",
       "                    </tr>\n",
       "\n",
       "                    \n",
       "                    <tr>\n",
       "                        <td style=\"text-align: left;\">\n",
       "                            <strong>GPU: </strong>NVIDIA TITAN Xp\n",
       "                        </td>\n",
       "                        <td style=\"text-align: left;\">\n",
       "                            <strong>GPU memory: </strong> 12.00 GiB\n",
       "                        </td>\n",
       "                    </tr>\n",
       "                    \n",
       "\n",
       "                    \n",
       "\n",
       "                </table>\n",
       "            </details>\n",
       "            </div>\n",
       "        </div>\n",
       "        \n",
       "        <div style=\"margin-bottom: 20px;\">\n",
       "            <div style=\"width: 24px; height: 24px; background-color: #DBF5FF; border: 3px solid #4CC9FF; border-radius: 5px; position: absolute;\"> </div>\n",
       "            <div style=\"margin-left: 48px;\">\n",
       "            <details>\n",
       "                <summary>\n",
       "                    <h4 style=\"margin-bottom: 0px; display: inline;\">Worker: 1</h4>\n",
       "                </summary>\n",
       "                <table style=\"width: 100%; text-align: left;\">\n",
       "                    <tr>\n",
       "                        <td style=\"text-align: left;\">\n",
       "                            <strong>Comm: </strong> tcp://127.0.0.1:44227\n",
       "                        </td>\n",
       "                        <td style=\"text-align: left;\">\n",
       "                            <strong>Total threads: </strong> 2\n",
       "                        </td>\n",
       "                    </tr>\n",
       "                    <tr>\n",
       "                        <td style=\"text-align: left;\">\n",
       "                            <strong>Dashboard: </strong> <a href=\"http://127.0.0.1:45719/status\" target=\"_blank\">http://127.0.0.1:45719/status</a>\n",
       "                        </td>\n",
       "                        <td style=\"text-align: left;\">\n",
       "                            <strong>Memory: </strong> 5.59 GiB\n",
       "                        </td>\n",
       "                    </tr>\n",
       "                    <tr>\n",
       "                        <td style=\"text-align: left;\">\n",
       "                            <strong>Nanny: </strong> tcp://127.0.0.1:33761\n",
       "                        </td>\n",
       "                        <td style=\"text-align: left;\"></td>\n",
       "                    </tr>\n",
       "                    <tr>\n",
       "                        <td colspan=\"2\" style=\"text-align: left;\">\n",
       "                            <strong>Local directory: </strong> /tmp/dask-scratch-space/worker-sebot6g1\n",
       "                        </td>\n",
       "                    </tr>\n",
       "\n",
       "                    \n",
       "                    <tr>\n",
       "                        <td style=\"text-align: left;\">\n",
       "                            <strong>GPU: </strong>Quadro GV100\n",
       "                        </td>\n",
       "                        <td style=\"text-align: left;\">\n",
       "                            <strong>GPU memory: </strong> 32.00 GiB\n",
       "                        </td>\n",
       "                    </tr>\n",
       "                    \n",
       "\n",
       "                    \n",
       "\n",
       "                </table>\n",
       "            </details>\n",
       "            </div>\n",
       "        </div>\n",
       "        \n",
       "        <div style=\"margin-bottom: 20px;\">\n",
       "            <div style=\"width: 24px; height: 24px; background-color: #DBF5FF; border: 3px solid #4CC9FF; border-radius: 5px; position: absolute;\"> </div>\n",
       "            <div style=\"margin-left: 48px;\">\n",
       "            <details>\n",
       "                <summary>\n",
       "                    <h4 style=\"margin-bottom: 0px; display: inline;\">Worker: 2</h4>\n",
       "                </summary>\n",
       "                <table style=\"width: 100%; text-align: left;\">\n",
       "                    <tr>\n",
       "                        <td style=\"text-align: left;\">\n",
       "                            <strong>Comm: </strong> tcp://127.0.0.1:39251\n",
       "                        </td>\n",
       "                        <td style=\"text-align: left;\">\n",
       "                            <strong>Total threads: </strong> 2\n",
       "                        </td>\n",
       "                    </tr>\n",
       "                    <tr>\n",
       "                        <td style=\"text-align: left;\">\n",
       "                            <strong>Dashboard: </strong> <a href=\"http://127.0.0.1:35405/status\" target=\"_blank\">http://127.0.0.1:35405/status</a>\n",
       "                        </td>\n",
       "                        <td style=\"text-align: left;\">\n",
       "                            <strong>Memory: </strong> 5.59 GiB\n",
       "                        </td>\n",
       "                    </tr>\n",
       "                    <tr>\n",
       "                        <td style=\"text-align: left;\">\n",
       "                            <strong>Nanny: </strong> tcp://127.0.0.1:33375\n",
       "                        </td>\n",
       "                        <td style=\"text-align: left;\"></td>\n",
       "                    </tr>\n",
       "                    <tr>\n",
       "                        <td colspan=\"2\" style=\"text-align: left;\">\n",
       "                            <strong>Local directory: </strong> /tmp/dask-scratch-space/worker-fl8cmufh\n",
       "                        </td>\n",
       "                    </tr>\n",
       "\n",
       "                    \n",
       "                    <tr>\n",
       "                        <td style=\"text-align: left;\">\n",
       "                            <strong>GPU: </strong>Quadro GV100\n",
       "                        </td>\n",
       "                        <td style=\"text-align: left;\">\n",
       "                            <strong>GPU memory: </strong> 32.00 GiB\n",
       "                        </td>\n",
       "                    </tr>\n",
       "                    \n",
       "\n",
       "                    \n",
       "\n",
       "                </table>\n",
       "            </details>\n",
       "            </div>\n",
       "        </div>\n",
       "        \n",
       "\n",
       "    </details>\n",
       "</div>\n",
       "\n",
       "        </details>\n",
       "    </div>\n",
       "</div>\n",
       "            </details>\n",
       "        \n",
       "\n",
       "    </div>\n",
       "</div>"
      ],
      "text/plain": [
       "<Client: 'tcp://127.0.0.1:42237' processes=3 threads=6, memory=16.76 GiB>"
      ]
     },
     "execution_count": 19,
     "metadata": {},
     "output_type": "execute_result"
    }
   ],
   "source": [
    "try:\n",
    "    client.close()\n",
    "    del client\n",
    "except Exception as e:\n",
    "    print(\" *** Client close failed *** \")\n",
    "else:\n",
    "    print(\" *** Client close succeeded *** \")\n",
    "finally:\n",
    "    client = Client(cluster)    \n",
    "    print(f\"\\n *** Client created - {client.status} \")\n",
    "    client"
   ]
  },
  {
   "cell_type": "markdown",
   "metadata": {},
   "source": [
    "# Load Training and Test datasets"
   ]
  },
  {
   "cell_type": "markdown",
   "metadata": {},
   "source": [
    "  ### Load header information for compound_profile datasets"
   ]
  },
  {
   "cell_type": "code",
   "execution_count": 21,
   "metadata": {
    "execution": {
     "iopub.execute_input": "2024-08-12T14:46:40.534676Z",
     "iopub.status.busy": "2024-08-12T14:46:40.534039Z",
     "iopub.status.idle": "2024-08-12T14:46:40.577203Z",
     "shell.execute_reply": "2024-08-12T14:46:40.576098Z",
     "shell.execute_reply.started": "2024-08-12T14:46:40.534627Z"
    }
   },
   "outputs": [],
   "source": [
    "# df_header = pd.read_csv(\"./output_11102023/2_sample_profiles/binned_2sample_profiles_3681_header_info.csv\")\n",
    "# df_header\n",
    "# COMPOUND_PROFILE_COLUMNS_3681 = df_header.columns.to_list()\n",
    "# len(COMPOUND_PROFILE_COLUMNS_3681)"
   ]
  },
  {
   "cell_type": "code",
   "execution_count": 22,
   "metadata": {
    "execution": {
     "iopub.execute_input": "2024-08-12T14:46:42.079662Z",
     "iopub.status.busy": "2024-08-12T14:46:42.079248Z",
     "iopub.status.idle": "2024-08-12T14:46:42.119909Z",
     "shell.execute_reply": "2024-08-12T14:46:42.118979Z",
     "shell.execute_reply.started": "2024-08-12T14:46:42.079621Z"
    },
    "scrolled": true
   },
   "outputs": [
    {
     "name": "stdout",
     "output_type": "stream",
     "text": [
      "./output_11102023/3_sample_profiles/3sample_profiles_1482_bin_{0:03d}.csv\n"
     ]
    }
   ],
   "source": [
    "# df_profiles = read_cell_profiles(input_files[i], names = COMPOUND_PROFILE_COLUMNS, usecols = Xy_columns, dtype = Xy_columns_dtype)\n",
    "# df_profiles = read_cell_profiles(training_files, names = COMPOUND_PROFILE_COLUMNS, usecols = Xy_columns, dtype = Xy_columns_dtype)\n",
    "# file_idxs = {0, 1, 2, 3, 4, 5, 6, 7, 8, 9, 10, 11}\n",
    "\n",
    "# TRAINING_FILES = {0, 1, 2, 4, 5, 6, 7, 8, 9, 11}\n",
    "# TEST_FILES = {3, 10}\n",
    "TRAINING_FILES = {0, 1, 2, 3, 4, 5, 6, 7, 8, 9, 10, 11, 12, 13, 14}\n",
    "TEST_FILES = {15}\n",
    "binnedProfileFiles = binned_3SampleProfileFiles\n",
    "print(binnedProfileFiles)"
   ]
  },
  {
   "cell_type": "code",
   "execution_count": 23,
   "metadata": {
    "execution": {
     "iopub.execute_input": "2024-08-12T14:46:43.641312Z",
     "iopub.status.busy": "2024-08-12T14:46:43.640898Z",
     "iopub.status.idle": "2024-08-12T14:46:46.592312Z",
     "shell.execute_reply": "2024-08-12T14:46:46.591455Z",
     "shell.execute_reply.started": "2024-08-12T14:46:43.641272Z"
    },
    "scrolled": true
   },
   "outputs": [
    {
     "name": "stderr",
     "output_type": "stream",
     "text": [
      "2024-08-12 16:46:43,682 - root - INFO: -  Read profiles file ...\n"
     ]
    },
    {
     "name": "stdout",
     "output_type": "stream",
     "text": [
      " Reading cell profiles file :  ./output_11102023/3_sample_profiles/3sample_profiles_1482_bin_000.csv    {'index_cols': False}\n",
      " Reading ALL  rows - Number of partitions:  9   \n",
      "\n",
      " Reading cell profiles file :  ./output_11102023/3_sample_profiles/3sample_profiles_1482_bin_001.csv    {'index_cols': False}\n",
      " Reading ALL  rows - Number of partitions:  9   \n",
      "\n",
      " Reading cell profiles file :  ./output_11102023/3_sample_profiles/3sample_profiles_1482_bin_002.csv    {'index_cols': False}\n",
      " Reading ALL  rows - Number of partitions:  9   \n",
      "\n",
      " Reading cell profiles file :  ./output_11102023/3_sample_profiles/3sample_profiles_1482_bin_003.csv    {'index_cols': False}\n",
      " Reading ALL  rows - Number of partitions:  9   \n",
      "\n",
      " Reading cell profiles file :  ./output_11102023/3_sample_profiles/3sample_profiles_1482_bin_004.csv    {'index_cols': False}\n",
      " Reading ALL  rows - Number of partitions:  9   \n",
      "\n",
      " Reading cell profiles file :  ./output_11102023/3_sample_profiles/3sample_profiles_1482_bin_005.csv    {'index_cols': False}\n",
      " Reading ALL  rows - Number of partitions:  9   \n",
      "\n",
      " Reading cell profiles file :  ./output_11102023/3_sample_profiles/3sample_profiles_1482_bin_006.csv    {'index_cols': False}\n",
      " Reading ALL  rows - Number of partitions:  9   \n",
      "\n",
      " Reading cell profiles file :  ./output_11102023/3_sample_profiles/3sample_profiles_1482_bin_007.csv    {'index_cols': False}\n",
      " Reading ALL  rows - Number of partitions:  9   \n",
      "\n",
      " Reading cell profiles file :  ./output_11102023/3_sample_profiles/3sample_profiles_1482_bin_008.csv    {'index_cols': False}\n",
      " Reading ALL  rows - Number of partitions:  9   \n",
      "\n",
      " Reading cell profiles file :  ./output_11102023/3_sample_profiles/3sample_profiles_1482_bin_009.csv    {'index_cols': False}\n",
      " Reading ALL  rows - Number of partitions:  9   \n",
      "\n",
      " Reading cell profiles file :  ./output_11102023/3_sample_profiles/3sample_profiles_1482_bin_010.csv    {'index_cols': False}\n",
      " Reading ALL  rows - Number of partitions:  9   \n",
      "\n",
      " Reading cell profiles file :  ./output_11102023/3_sample_profiles/3sample_profiles_1482_bin_011.csv    {'index_cols': False}\n",
      " Reading ALL  rows - Number of partitions:  9   \n",
      "\n",
      " Reading cell profiles file :  ./output_11102023/3_sample_profiles/3sample_profiles_1482_bin_012.csv    {'index_cols': False}\n",
      " Reading ALL  rows - Number of partitions:  9   \n",
      "\n",
      " Reading cell profiles file :  ./output_11102023/3_sample_profiles/3sample_profiles_1482_bin_013.csv    {'index_cols': False}\n",
      " Reading ALL  rows - Number of partitions:  9   \n",
      "\n",
      " Reading cell profiles file :  ./output_11102023/3_sample_profiles/3sample_profiles_1482_bin_014.csv    {'index_cols': False}\n"
     ]
    },
    {
     "name": "stderr",
     "output_type": "stream",
     "text": [
      "2024-08-12 16:46:46,587 - root - INFO: -  Read profiles file ... complete\n"
     ]
    },
    {
     "name": "stdout",
     "output_type": "stream",
     "text": [
      " Reading ALL  rows - Number of partitions:  9   \n",
      "\n"
     ]
    }
   ],
   "source": [
    "## retutn a list of dask dataframes\n",
    "\n",
    "input_file_list = read_binned_profile_files(filename = binnedProfileFiles,\n",
    "                                            file_idxs = TRAINING_FILES,\n",
    "                                            names = COMPOUND_PROFILE_COLUMNS,\n",
    "                                            # names = COMPOUND_PROFILE_COLUMNS_3681,\n",
    "                                            usecols = Xy_columns,\n",
    "                                            dtype = Xy_columns_dtype,\n",
    "                                            index_cols = False,)"
   ]
  },
  {
   "cell_type": "code",
   "execution_count": 37,
   "metadata": {
    "execution": {
     "iopub.execute_input": "2024-08-09T17:33:21.925969Z",
     "iopub.status.busy": "2024-08-09T17:33:21.925470Z",
     "iopub.status.idle": "2024-08-09T17:34:12.262690Z",
     "shell.execute_reply": "2024-08-09T17:34:12.261515Z",
     "shell.execute_reply.started": "2024-08-09T17:33:21.925927Z"
    }
   },
   "outputs": [
    {
     "name": "stdout",
     "output_type": "stream",
     "text": [
      " partition 0   rows 21779    ttl rows: 21779\n",
      " partition 1   rows 21434    ttl rows: 43213\n",
      " partition 2   rows 21803    ttl rows: 65016\n",
      " partition 3   rows 21713    ttl rows: 86729\n",
      " partition 4   rows 21755    ttl rows: 108484\n",
      " partition 5   rows 21314    ttl rows: 129798\n",
      " partition 6   rows 21350    ttl rows: 151148\n",
      " partition 7   rows 21833    ttl rows: 172981\n",
      " partition 8   rows 21290    ttl rows: 194271\n",
      " partition 9   rows 21605    ttl rows: 215876\n",
      " partition 10   rows 21782    ttl rows: 237658\n",
      " partition 11   rows 21644    ttl rows: 259302\n",
      " partition 12   rows 22013    ttl rows: 281315\n",
      " partition 13   rows 21653    ttl rows: 302968\n",
      " partition 14   rows 21632    ttl rows: 324600\n"
     ]
    }
   ],
   "source": [
    "ttl = 0 \n",
    "for p in range(len(input_file_list)):\n",
    "    ss = input_file_list[p].map_partitions(len).compute()\n",
    "    ttl += ss.sum()\n",
    "    print(f\" partition {p}   rows {ss.sum()}    ttl rows: {ttl}\")"
   ]
  },
  {
   "cell_type": "code",
   "execution_count": 24,
   "metadata": {
    "execution": {
     "iopub.execute_input": "2024-08-12T14:46:51.843669Z",
     "iopub.status.busy": "2024-08-12T14:46:51.843191Z",
     "iopub.status.idle": "2024-08-12T14:46:51.887471Z",
     "shell.execute_reply": "2024-08-12T14:46:51.886418Z",
     "shell.execute_reply.started": "2024-08-12T14:46:51.843626Z"
    }
   },
   "outputs": [],
   "source": [
    "iter_files = make_cv_splits_2(input_file_list, n_folds=5, y_columns=y_columns)"
   ]
  },
  {
   "cell_type": "code",
   "execution_count": 25,
   "metadata": {
    "execution": {
     "iopub.execute_input": "2024-08-12T14:46:55.323027Z",
     "iopub.status.busy": "2024-08-12T14:46:55.322571Z",
     "iopub.status.idle": "2024-08-12T14:47:37.252850Z",
     "shell.execute_reply": "2024-08-12T14:47:37.251550Z",
     "shell.execute_reply.started": "2024-08-12T14:46:55.322984Z"
    }
   },
   "outputs": [
    {
     "name": "stdout",
     "output_type": "stream",
     "text": [
      " # bin files: 15   # of folds 5 -  (groups of 3 file tuples)\n",
      "CV Split 0 -  Training files: [3, 4, 5, 6, 7, 8, 9, 10, 11, 12, 13, 14]   Validation files: [0, 1, 2]  \n"
     ]
    },
    {
     "data": {
      "text/plain": [
       "tuple"
      ]
     },
     "execution_count": 25,
     "metadata": {},
     "output_type": "execute_result"
    },
    {
     "name": "stdout",
     "output_type": "stream",
     "text": [
      "CV Split 1 -  Training files: [0, 1, 2, 6, 7, 8, 9, 10, 11, 12, 13, 14]   Validation files: [3, 4, 5]  \n"
     ]
    },
    {
     "data": {
      "text/plain": [
       "tuple"
      ]
     },
     "execution_count": 25,
     "metadata": {},
     "output_type": "execute_result"
    },
    {
     "name": "stdout",
     "output_type": "stream",
     "text": [
      "CV Split 2 -  Training files: [0, 1, 2, 3, 4, 5, 9, 10, 11, 12, 13, 14]   Validation files: [6, 7, 8]  \n"
     ]
    },
    {
     "data": {
      "text/plain": [
       "tuple"
      ]
     },
     "execution_count": 25,
     "metadata": {},
     "output_type": "execute_result"
    },
    {
     "name": "stdout",
     "output_type": "stream",
     "text": [
      "CV Split 3 -  Training files: [0, 1, 2, 3, 4, 5, 6, 7, 8, 12, 13, 14]   Validation files: [9, 10, 11]  \n"
     ]
    },
    {
     "data": {
      "text/plain": [
       "tuple"
      ]
     },
     "execution_count": 25,
     "metadata": {},
     "output_type": "execute_result"
    },
    {
     "name": "stdout",
     "output_type": "stream",
     "text": [
      "CV Split 4 -  Training files: [0, 1, 2, 3, 4, 5, 6, 7, 8, 9, 10, 11]   Validation files: [12, 13, 14]  \n"
     ]
    },
    {
     "data": {
      "text/plain": [
       "tuple"
      ]
     },
     "execution_count": 25,
     "metadata": {},
     "output_type": "execute_result"
    }
   ],
   "source": [
    "for i in iter_files:\n",
    "    type(i)"
   ]
  },
  {
   "cell_type": "markdown",
   "metadata": {},
   "source": [
    "# Setup XGBoost ML environment"
   ]
  },
  {
   "cell_type": "code",
   "execution_count": 20,
   "metadata": {
    "execution": {
     "iopub.execute_input": "2024-08-12T14:46:37.937017Z",
     "iopub.status.busy": "2024-08-12T14:46:37.936025Z",
     "iopub.status.idle": "2024-08-12T14:46:37.989524Z",
     "shell.execute_reply": "2024-08-12T14:46:37.988716Z",
     "shell.execute_reply.started": "2024-08-12T14:46:37.936974Z"
    },
    "scrolled": true
   },
   "outputs": [
    {
     "data": {
      "text/plain": [
       "'2.0.3'"
      ]
     },
     "execution_count": 20,
     "metadata": {},
     "output_type": "execute_result"
    },
    {
     "data": {
      "text/plain": [
       "<contextlib._GeneratorContextManager at 0x7fbebc267c90>"
      ]
     },
     "execution_count": 20,
     "metadata": {},
     "output_type": "execute_result"
    }
   ],
   "source": [
    "xgb.__version__\n",
    "xgb.config_context(device = \"gpu\", booster = \"gbtree\", verbosity = 0, validate_parameters = True ) "
   ]
  },
  {
   "cell_type": "markdown",
   "metadata": {},
   "source": [
    "# Load Optuna Database for hyper-parameter search"
   ]
  },
  {
   "cell_type": "markdown",
   "metadata": {},
   "source": [
    "## Load study"
   ]
  },
  {
   "cell_type": "markdown",
   "metadata": {
    "execution": {
     "iopub.execute_input": "2024-02-11T12:53:22.650056Z",
     "iopub.status.busy": "2024-02-11T12:53:22.649626Z",
     "iopub.status.idle": "2024-02-11T12:53:22.690698Z",
     "shell.execute_reply": "2024-02-11T12:53:22.689762Z",
     "shell.execute_reply.started": "2024-02-11T12:53:22.650019Z"
    }
   },
   "source": [
    "  #### Address for optuna dashboard repository:  `sqlite:////home/kevin/WSL-shared/Cellpainting/cj-datasets/optuna_database.db`"
   ]
  },
  {
   "cell_type": "code",
   "execution_count": 16,
   "metadata": {
    "execution": {
     "iopub.execute_input": "2024-11-12T15:17:40.524761Z",
     "iopub.status.busy": "2024-11-12T15:17:40.524208Z",
     "iopub.status.idle": "2024-11-12T15:17:40.564720Z",
     "shell.execute_reply": "2024-11-12T15:17:40.564075Z",
     "shell.execute_reply.started": "2024-11-12T15:17:40.524722Z"
    }
   },
   "outputs": [],
   "source": [
    "db_path = \"../cj-datasets/optuna_database.db\"\n",
    "storage_url = \"sqlite:///../cj-datasets/optuna_database.db\""
   ]
  },
  {
   "cell_type": "code",
   "execution_count": 17,
   "metadata": {
    "execution": {
     "iopub.execute_input": "2024-11-12T15:17:45.158470Z",
     "iopub.status.busy": "2024-11-12T15:17:45.157959Z",
     "iopub.status.idle": "2024-11-12T15:17:46.602328Z",
     "shell.execute_reply": "2024-11-12T15:17:46.601608Z",
     "shell.execute_reply.started": "2024-11-12T15:17:45.158420Z"
    }
   },
   "outputs": [],
   "source": [
    "# storage = \"sqlite:///example.db\"\n",
    "# storage_copy = \"sqlite:///example_copy.db\"\n",
    "# study_name =\"classification-2SampleStudy-Apr24\"\n",
    "# study_name =\"cls-3_SampleStudy-Aug09\"\n",
    "# study_name=\"classification-study-1\"\n",
    "## https://optuna.readthedocs.io/en/stable/reference/generated/optuna.storages.RetryFailedTrialCallback.html\n",
    "#\n",
    "from optuna.storages import RetryFailedTrialCallback\n",
    "#\n",
    "storage_instance = optuna.storages.RDBStorage(\n",
    "    url=storage_url,\n",
    "    heartbeat_interval=60,\n",
    "    grace_period=120,\n",
    "    failed_trial_callback=RetryFailedTrialCallback(max_retry=3),\n",
    ")\n",
    "# storage_instance"
   ]
  },
  {
   "cell_type": "code",
   "execution_count": 27,
   "metadata": {
    "execution": {
     "iopub.execute_input": "2024-11-12T15:24:09.529814Z",
     "iopub.status.busy": "2024-11-12T15:24:09.529283Z",
     "iopub.status.idle": "2024-11-12T15:24:09.575979Z",
     "shell.execute_reply": "2024-11-12T15:24:09.575196Z",
     "shell.execute_reply.started": "2024-11-12T15:24:09.529764Z"
    }
   },
   "outputs": [
    {
     "name": "stdout",
     "output_type": "stream",
     "text": [
      " 0 - {'study_id': 6, 'study_name': 'classification-study-Apr24'}\n",
      " 1 - {'study_id': 7, 'study_name': 'classification-3SampleStudy-Apr24'}\n",
      " 2 - {'study_id': 10, 'study_name': 'cls-3_SampleStudy-Aug09'}\n",
      " 3 - {'study_id': 12, 'study_name': 'test_study_01'}\n",
      " 4 - {'study_id': 13, 'study_name': 'embd_cls_XGB_base_unbal'}\n",
      " 5 - {'study_id': 14, 'study_name': 'embd_cls_XGB_snnl_unbal'}\n",
      " 6 - {'study_id': 15, 'study_name': 'classification-study-Feb24'}\n",
      " 7 - {'study_id': 16, 'study_name': 'embd_cls_XGB_base_bal_1:1'}\n",
      " 8 - {'study_id': 17, 'study_name': 'embd_cls_XGB_snnl_bal_1:1'}\n",
      " 9 - {'study_id': 18, 'study_name': 'embd_cls_XGB_snnl_unbal_Aug13'}\n"
     ]
    }
   ],
   "source": [
    "with sqlite3.connect(db_path) as conn:\n",
    "    conn.row_factory = sqlite3.Row\n",
    "    results = conn.execute(\"SELECT * FROM studies ;\").fetchall()\n",
    "    db_studies = [dict(r) for r in results]\n",
    "for i,ent in enumerate(db_studies):\n",
    "    print(f\" {i} - {ent}\")"
   ]
  },
  {
   "cell_type": "code",
   "execution_count": 45,
   "metadata": {
    "execution": {
     "iopub.execute_input": "2024-11-12T15:49:53.160124Z",
     "iopub.status.busy": "2024-11-12T15:49:53.159657Z",
     "iopub.status.idle": "2024-11-12T15:49:53.934737Z",
     "shell.execute_reply": "2024-11-12T15:49:53.933827Z",
     "shell.execute_reply.started": "2024-11-12T15:49:53.160088Z"
    }
   },
   "outputs": [
    {
     "name": "stdout",
     "output_type": "stream",
     "text": [
      " embd_cls_XGB_base_unbal  study history\n",
      "\n",
      " Total trials in study: 90\n",
      " Best trials: [21, 41, 44, 63, 71]\n",
      "                start     -   completion      status        validation metrics\n",
      " trial#         time      -      time          code      roc_auc        logloss\n",
      "--------------------------------------------------------------------------------\n",
      "Trial #: 21   2024-08-09   18:01:05 - 18:02:10    1      0.60700        0.35187    \n",
      "Trial #: 41   2024-08-09   19:46:13 - 19:47:43    1      0.60590        0.35024    \n",
      "Trial #: 44   2024-08-09   19:50:16 - 19:51:08    1      0.58397        0.34572    \n",
      "Trial #: 63   2024-08-09   20:59:32 - 21:00:24    1      0.59100        0.34950    \n",
      "Trial #: 71   2024-08-09   21:08:42 - 21:09:34    1      0.56287        0.33219    \n",
      " *** end of trials *** \n",
      " embd_cls_XGB_snnl_unbal  study history\n",
      "\n",
      " Total trials in study: 98\n",
      " Best trials: [42, 66, 71, 73, 82, 85]\n",
      "                start     -   completion      status        validation metrics\n",
      " trial#         time      -      time          code      roc_auc        logloss\n",
      "--------------------------------------------------------------------------------\n",
      "Trial #: 42   2024-08-09   22:40:01 - 22:40:56    1      0.59293        0.34882    \n",
      "Trial #: 66   2024-08-09   23:05:08 - 23:06:17    1      0.60470        0.35399    \n",
      "Trial #: 71   2024-08-09   23:11:28 - 23:12:59    1      0.60693        0.35503    \n",
      "Trial #: 73   2024-08-09   23:14:26 - 23:15:51    1      0.60576        0.35457    \n",
      "Trial #: 82   2024-08-09   23:24:35 - 23:25:46    1      0.60157        0.35384    \n",
      "Trial #: 85   2024-08-09   23:27:56 - 23:28:54    1      0.58032        0.30545    \n",
      " *** end of trials *** \n",
      " embd_cls_XGB_snnl_unbal_Aug13  study history\n",
      "\n",
      " Total trials in study: 65\n",
      " Best trials: [47, 49]\n",
      "                start     -   completion      status        validation metrics\n",
      " trial#         time      -      time          code      roc_auc        logloss\n",
      "--------------------------------------------------------------------------------\n",
      "Trial #: 47   2024-08-13   19:38:34 - 19:43:40    1      0.60113        0.35162    \n",
      "Trial #: 49   2024-08-13   19:49:29 - 19:54:40    1      0.60197        0.35173    \n",
      " *** end of trials *** \n"
     ]
    }
   ],
   "source": [
    "# study_name ='classification-3SampleStudy-Apr24'\n",
    "# study_name ='classification-study-Apr24'\n",
    "# study_name ='classification-study-1'\n",
    "# study_name ='cls-3_SampleStudy-Aug09'\n",
    "for i in [4,5,9]:\n",
    "    study_name = db_studies[i]['study_name']\n",
    "    study  = optuna.load_study(study_name= study_name, storage=storage_instance)\n",
    "    disp_study_history(study, best_only = True)"
   ]
  },
  {
   "cell_type": "code",
   "execution_count": 47,
   "metadata": {
    "execution": {
     "iopub.execute_input": "2024-11-12T15:51:18.655857Z",
     "iopub.status.busy": "2024-11-12T15:51:18.655522Z",
     "iopub.status.idle": "2024-11-12T15:51:18.699135Z",
     "shell.execute_reply": "2024-11-12T15:51:18.698269Z",
     "shell.execute_reply.started": "2024-11-12T15:51:18.655829Z"
    }
   },
   "outputs": [],
   "source": [
    "# for i in [7,8]:\n",
    "#     study_name = db_studies[i]['study_name']\n",
    "#     study  = optuna.load_study(study_name= study_name, storage=storage_instance)\n",
    "#     disp_study_history(study, best_only = True)"
   ]
  },
  {
   "cell_type": "code",
   "execution_count": 44,
   "metadata": {
    "execution": {
     "iopub.execute_input": "2024-11-12T15:47:28.080372Z",
     "iopub.status.busy": "2024-11-12T15:47:28.079872Z",
     "iopub.status.idle": "2024-11-12T15:47:28.391099Z",
     "shell.execute_reply": "2024-11-12T15:47:28.389824Z",
     "shell.execute_reply.started": "2024-11-12T15:47:28.080335Z"
    }
   },
   "outputs": [
    {
     "name": "stdout",
     "output_type": "stream",
     "text": [
      " embd_cls_XGB_snnl_unbal  study history\n",
      "\n",
      " Total trials in study: 98\n",
      " Best trials: [42, 66, 71, 73, 82, 85]\n",
      "                start     -   completion      status        validation metrics\n",
      " trial#         time      -      time          code      roc_auc        logloss\n",
      "--------------------------------------------------------------------------------\n",
      "Trial #: 42   2024-08-09   22:40:01 - 22:40:56    1      0.59293        0.34882    \n",
      "Trial #: 66   2024-08-09   23:05:08 - 23:06:17    1      0.60470        0.35399    \n",
      "Trial #: 71   2024-08-09   23:11:28 - 23:12:59    1      0.60693        0.35503    \n",
      "Trial #: 73   2024-08-09   23:14:26 - 23:15:51    1      0.60576        0.35457    \n",
      "Trial #: 82   2024-08-09   23:24:35 - 23:25:46    1      0.60157        0.35384    \n",
      "Trial #: 85   2024-08-09   23:27:56 - 23:28:54    1      0.58032        0.30545    \n",
      " *** end of trials *** \n",
      " embd_cls_XGB_snnl_unbal_Aug13  study history\n",
      "\n",
      " Total trials in study: 65\n",
      " Best trials: [47, 49]\n",
      "                start     -   completion      status        validation metrics\n",
      " trial#         time      -      time          code      roc_auc        logloss\n",
      "--------------------------------------------------------------------------------\n",
      "Trial #: 47   2024-08-13   19:38:34 - 19:43:40    1      0.60113        0.35162    \n",
      "Trial #: 49   2024-08-13   19:49:29 - 19:54:40    1      0.60197        0.35173    \n",
      " *** end of trials *** \n"
     ]
    }
   ],
   "source": [
    "for i in [5,9]:\n",
    "    study_name = db_studies[i]['study_name']\n",
    "    study  = optuna.load_study(study_name= study_name, storage=storage_instance)\n",
    "    disp_study_history(study, best_only = True)"
   ]
  },
  {
   "cell_type": "code",
   "execution_count": 40,
   "metadata": {
    "execution": {
     "iopub.execute_input": "2024-08-12T14:53:43.223574Z",
     "iopub.status.busy": "2024-08-12T14:53:43.223134Z",
     "iopub.status.idle": "2024-08-12T14:53:43.264370Z",
     "shell.execute_reply": "2024-08-12T14:53:43.263468Z",
     "shell.execute_reply.started": "2024-08-12T14:53:43.223531Z"
    },
    "lines_to_next_cell": 2
   },
   "outputs": [],
   "source": [
    "# resp = input(f\" Delete study {study_name} ?\")\n",
    "# if resp.lower() in ['yes' ,'y']:\n",
    "#     print(' You responsed yes')\n",
    "#     try:\n",
    "#         optuna.delete_study(storage=storage_instance, study_name=study_name)\n",
    "#         print(\"delete successful\")\n",
    "#     except Exception as e:\n",
    "#         print(\"delete failed\")\n",
    "# else:\n",
    "#     print(f\" {study_name} will be kept\")\n",
    "\n",
    "# study = optuna.create_study(storage=storage_instance,\n",
    "#                             study_name=study_name,\n",
    "#                             directions=[\"maximize\",\"minimize\"], \n",
    "#                             load_if_exists=True)\n",
    "# study.set_metric_names([\"roc_auc\", \"logloss\"])"
   ]
  },
  {
   "cell_type": "code",
   "execution_count": null,
   "metadata": {
    "execution": {
     "iopub.execute_input": "2024-08-12T14:53:55.245733Z",
     "iopub.status.busy": "2024-08-12T14:53:55.245147Z",
     "iopub.status.idle": "2024-08-12T14:53:55.292477Z",
     "shell.execute_reply": "2024-08-12T14:53:55.291584Z",
     "shell.execute_reply.started": "2024-08-12T14:53:55.245668Z"
    }
   },
   "outputs": [],
   "source": [
    "study_name =\"cls-3_SampleStudy-Aug09\"\n",
    "study  = optuna.load_study(study_name= study_name, storage=storage_instance)\n",
    "disp_study_history(study)"
   ]
  },
  {
   "cell_type": "markdown",
   "metadata": {},
   "source": [
    "# Run studies"
   ]
  },
  {
   "cell_type": "code",
   "execution_count": 43,
   "metadata": {
    "execution": {
     "iopub.execute_input": "2024-08-12T14:54:02.065691Z",
     "iopub.status.busy": "2024-08-12T14:54:02.065061Z",
     "iopub.status.idle": "2024-08-12T16:43:54.763791Z",
     "shell.execute_reply": "2024-08-12T16:43:54.763090Z",
     "shell.execute_reply.started": "2024-08-12T14:54:02.065647Z"
    },
    "scrolled": true
   },
   "outputs": [
    {
     "name": "stdout",
     "output_type": "stream",
     "text": [
      "--------------------------------------------------------------------------------\n",
      " Training model (trial #14) \n",
      "--------------------------------------------------------------------------------\n",
      " Parameters:\n",
      "  booster                        gbtree\n",
      "  device                         gpu\n",
      "  verbosity                      0\n",
      "  disable_default_eval_metric    False\n",
      "  objective                      binary:logistic\n",
      "  eval_metric                    ['auc', 'logloss']\n",
      "  tree_method                    auto\n",
      "  learning_rate                  0.02324537679664609\n",
      "  gamma                          7.255739028373606\n",
      "  max_depth                      15\n",
      "  min_child_weight               9.936303907650505\n",
      "  max_delta_step                 9.46443705238088\n",
      "  subsample                      0.9822678581831684\n",
      "  sampling_method                uniform\n",
      "  colsample_bytree               1.0\n",
      "  colsample_bylevel              0.6751740319507228\n",
      "  colsample_bynode               0.999022634834442\n",
      "  lambda                         1\n",
      "  scale_pos_weight               1\n",
      "  max_leaves                     0\n",
      "  reg_lambda                     3.2267\n",
      " # bin files: 15   # of folds 5 -  (groups of 3 file tuples)\n",
      "CV Split 0 -  Training files: [3, 4, 5, 6, 7, 8, 9, 10, 11, 12, 13, 14]   Validation files: [0, 1, 2]  \n"
     ]
    },
    {
     "name": "stderr",
     "output_type": "stream",
     "text": [
      "2024-08-12 16:54:10,472 - root - INFO: - CrossValidation split #0\n",
      "2024-08-12 16:54:10,473 - root - INFO: - Building training & validation DMatrix...\n",
      "2024-08-12 16:54:53,245 - distributed.utils_perf - WARNING - full garbage collections took 20% CPU time recently (threshold: 10%)\n",
      "2024-08-12 16:54:53,927 - distributed.utils_perf - WARNING - full garbage collections took 22% CPU time recently (threshold: 10%)\n",
      "2024-08-12 16:54:54,389 - distributed.utils_perf - WARNING - full garbage collections took 22% CPU time recently (threshold: 10%)\n",
      "2024-08-12 16:54:54,706 - distributed.utils_perf - WARNING - full garbage collections took 19% CPU time recently (threshold: 10%)\n",
      "2024-08-12 16:54:55,003 - distributed.utils_perf - WARNING - full garbage collections took 22% CPU time recently (threshold: 10%)\n",
      "2024-08-12 16:54:55,275 - distributed.utils_perf - WARNING - full garbage collections took 22% CPU time recently (threshold: 10%)\n",
      "2024-08-12 16:54:56,050 - distributed.utils_perf - WARNING - full garbage collections took 18% CPU time recently (threshold: 10%)\n",
      "2024-08-12 16:54:56,204 - distributed.utils_perf - WARNING - full garbage collections took 17% CPU time recently (threshold: 10%)\n",
      "2024-08-12 16:54:56,352 - distributed.utils_perf - WARNING - full garbage collections took 18% CPU time recently (threshold: 10%)\n",
      "2024-08-12 16:54:56,437 - distributed.utils_perf - WARNING - full garbage collections took 17% CPU time recently (threshold: 10%)\n",
      "2024-08-12 16:54:56,640 - distributed.utils_perf - WARNING - full garbage collections took 18% CPU time recently (threshold: 10%)\n",
      "2024-08-12 16:54:56,667 - distributed.utils_perf - WARNING - full garbage collections took 17% CPU time recently (threshold: 10%)\n",
      "2024-08-12 16:54:56,684 - distributed.utils_perf - WARNING - full garbage collections took 20% CPU time recently (threshold: 10%)\n",
      "2024-08-12 16:54:56,889 - distributed.utils_perf - WARNING - full garbage collections took 17% CPU time recently (threshold: 10%)\n",
      "2024-08-12 16:54:56,959 - distributed.utils_perf - WARNING - full garbage collections took 20% CPU time recently (threshold: 10%)\n",
      "2024-08-12 16:54:57,135 - distributed.utils_perf - WARNING - full garbage collections took 17% CPU time recently (threshold: 10%)\n",
      "2024-08-12 16:54:57,385 - distributed.utils_perf - WARNING - full garbage collections took 17% CPU time recently (threshold: 10%)\n",
      "2024-08-12 16:54:57,397 - distributed.utils_perf - WARNING - full garbage collections took 18% CPU time recently (threshold: 10%)\n",
      "2024-08-12 16:54:57,598 - distributed.utils_perf - WARNING - full garbage collections took 20% CPU time recently (threshold: 10%)\n",
      "2024-08-12 16:54:57,683 - distributed.utils_perf - WARNING - full garbage collections took 18% CPU time recently (threshold: 10%)\n",
      "2024-08-12 16:54:57,990 - distributed.utils_perf - WARNING - full garbage collections took 20% CPU time recently (threshold: 10%)\n",
      "2024-08-12 16:54:58,078 - distributed.utils_perf - WARNING - full garbage collections took 17% CPU time recently (threshold: 10%)\n",
      "2024-08-12 16:54:58,266 - distributed.utils_perf - WARNING - full garbage collections took 21% CPU time recently (threshold: 10%)\n",
      "2024-08-12 16:54:58,318 - distributed.utils_perf - WARNING - full garbage collections took 17% CPU time recently (threshold: 10%)\n",
      "2024-08-12 16:54:58,615 - distributed.utils_perf - WARNING - full garbage collections took 17% CPU time recently (threshold: 10%)\n",
      "2024-08-12 16:54:58,922 - distributed.utils_perf - WARNING - full garbage collections took 18% CPU time recently (threshold: 10%)\n",
      "2024-08-12 16:54:59,189 - distributed.utils_perf - WARNING - full garbage collections took 18% CPU time recently (threshold: 10%)\n",
      "2024-08-12 16:54:59,472 - distributed.utils_perf - WARNING - full garbage collections took 19% CPU time recently (threshold: 10%)\n",
      "2024-08-12 16:54:59,718 - distributed.utils_perf - WARNING - full garbage collections took 20% CPU time recently (threshold: 10%)\n",
      "2024-08-12 16:55:01,260 - distributed.utils_perf - WARNING - full garbage collections took 16% CPU time recently (threshold: 10%)\n",
      "2024-08-12 16:55:01,268 - distributed.utils_perf - WARNING - full garbage collections took 18% CPU time recently (threshold: 10%)\n",
      "2024-08-12 16:55:01,433 - distributed.utils_perf - WARNING - full garbage collections took 18% CPU time recently (threshold: 10%)\n",
      "2024-08-12 16:55:02,063 - distributed.utils_perf - WARNING - full garbage collections took 16% CPU time recently (threshold: 10%)\n",
      "2024-08-12 16:55:02,251 - distributed.utils_perf - WARNING - full garbage collections took 18% CPU time recently (threshold: 10%)\n",
      "2024-08-12 16:55:02,306 - distributed.utils_perf - WARNING - full garbage collections took 16% CPU time recently (threshold: 10%)\n",
      "2024-08-12 16:55:02,337 - distributed.utils_perf - WARNING - full garbage collections took 15% CPU time recently (threshold: 10%)\n",
      "2024-08-12 16:55:02,540 - distributed.utils_perf - WARNING - full garbage collections took 18% CPU time recently (threshold: 10%)\n",
      "2024-08-12 16:55:02,541 - distributed.utils_perf - WARNING - full garbage collections took 16% CPU time recently (threshold: 10%)\n",
      "2024-08-12 16:55:02,612 - distributed.utils_perf - WARNING - full garbage collections took 16% CPU time recently (threshold: 10%)\n",
      "2024-08-12 16:55:02,843 - distributed.utils_perf - WARNING - full garbage collections took 18% CPU time recently (threshold: 10%)\n",
      "2024-08-12 16:55:02,901 - distributed.utils_perf - WARNING - full garbage collections took 16% CPU time recently (threshold: 10%)\n",
      "2024-08-12 16:55:04,036 - distributed.utils_perf - WARNING - full garbage collections took 18% CPU time recently (threshold: 10%)\n",
      "2024-08-12 16:55:04,059 - distributed.utils_perf - WARNING - full garbage collections took 15% CPU time recently (threshold: 10%)\n",
      "2024-08-12 16:55:04,433 - distributed.utils_perf - WARNING - full garbage collections took 15% CPU time recently (threshold: 10%)\n",
      "2024-08-12 16:55:04,440 - distributed.utils_perf - WARNING - full garbage collections took 16% CPU time recently (threshold: 10%)\n",
      "2024-08-12 16:55:04,980 - distributed.utils_perf - WARNING - full garbage collections took 15% CPU time recently (threshold: 10%)\n",
      "2024-08-12 16:55:05,145 - distributed.utils_perf - WARNING - full garbage collections took 17% CPU time recently (threshold: 10%)\n",
      "2024-08-12 16:55:05,165 - distributed.utils_perf - WARNING - full garbage collections took 16% CPU time recently (threshold: 10%)\n",
      "2024-08-12 16:55:05,432 - distributed.utils_perf - WARNING - full garbage collections took 17% CPU time recently (threshold: 10%)\n",
      "2024-08-12 16:55:05,474 - distributed.utils_perf - WARNING - full garbage collections took 14% CPU time recently (threshold: 10%)\n",
      "2024-08-12 16:55:05,724 - distributed.utils_perf - WARNING - full garbage collections took 17% CPU time recently (threshold: 10%)\n",
      "2024-08-12 16:55:05,742 - distributed.utils_perf - WARNING - full garbage collections took 15% CPU time recently (threshold: 10%)\n",
      "2024-08-12 16:55:06,365 - distributed.utils_perf - WARNING - full garbage collections took 15% CPU time recently (threshold: 10%)\n",
      "2024-08-12 16:55:06,605 - distributed.utils_perf - WARNING - full garbage collections took 15% CPU time recently (threshold: 10%)\n",
      "2024-08-12 16:55:06,992 - distributed.utils_perf - WARNING - full garbage collections took 15% CPU time recently (threshold: 10%)\n",
      "2024-08-12 16:55:07,236 - distributed.utils_perf - WARNING - full garbage collections took 17% CPU time recently (threshold: 10%)\n",
      "2024-08-12 16:55:07,238 - distributed.utils_perf - WARNING - full garbage collections took 15% CPU time recently (threshold: 10%)\n",
      "2024-08-12 16:55:07,591 - distributed.utils_perf - WARNING - full garbage collections took 15% CPU time recently (threshold: 10%)\n",
      "2024-08-12 16:55:08,050 - distributed.utils_perf - WARNING - full garbage collections took 15% CPU time recently (threshold: 10%)\n",
      "2024-08-12 16:55:08,075 - distributed.utils_perf - WARNING - full garbage collections took 15% CPU time recently (threshold: 10%)\n",
      "2024-08-12 16:55:08,338 - distributed.utils_perf - WARNING - full garbage collections took 16% CPU time recently (threshold: 10%)\n",
      "2024-08-12 16:55:08,356 - distributed.utils_perf - WARNING - full garbage collections took 15% CPU time recently (threshold: 10%)\n",
      "2024-08-12 16:55:08,651 - distributed.utils_perf - WARNING - full garbage collections took 16% CPU time recently (threshold: 10%)\n",
      "2024-08-12 16:55:09,019 - distributed.utils_perf - WARNING - full garbage collections took 13% CPU time recently (threshold: 10%)\n",
      "2024-08-12 16:55:09,298 - distributed.utils_perf - WARNING - full garbage collections took 13% CPU time recently (threshold: 10%)\n",
      "2024-08-12 16:55:09,468 - distributed.utils_perf - WARNING - full garbage collections took 15% CPU time recently (threshold: 10%)\n",
      "2024-08-12 16:55:10,048 - distributed.utils_perf - WARNING - full garbage collections took 13% CPU time recently (threshold: 10%)\n",
      "2024-08-12 16:55:10,101 - distributed.utils_perf - WARNING - full garbage collections took 16% CPU time recently (threshold: 10%)\n",
      "2024-08-12 16:55:10,121 - distributed.utils_perf - WARNING - full garbage collections took 15% CPU time recently (threshold: 10%)\n",
      "2024-08-12 16:55:10,347 - distributed.utils_perf - WARNING - full garbage collections took 13% CPU time recently (threshold: 10%)\n",
      "2024-08-12 16:55:10,616 - distributed.utils_perf - WARNING - full garbage collections took 13% CPU time recently (threshold: 10%)\n",
      "2024-08-12 16:55:10,923 - distributed.utils_perf - WARNING - full garbage collections took 15% CPU time recently (threshold: 10%)\n",
      "2024-08-12 16:55:10,927 - distributed.utils_perf - WARNING - full garbage collections took 13% CPU time recently (threshold: 10%)\n",
      "2024-08-12 16:55:11,209 - distributed.utils_perf - WARNING - full garbage collections took 13% CPU time recently (threshold: 10%)\n",
      "2024-08-12 16:55:11,232 - distributed.utils_perf - WARNING - full garbage collections took 15% CPU time recently (threshold: 10%)\n",
      "2024-08-12 16:55:11,255 - distributed.utils_perf - WARNING - full garbage collections took 13% CPU time recently (threshold: 10%)\n",
      "2024-08-12 16:55:11,525 - distributed.utils_perf - WARNING - full garbage collections took 13% CPU time recently (threshold: 10%)\n",
      "2024-08-12 16:55:11,553 - distributed.utils_perf - WARNING - full garbage collections took 15% CPU time recently (threshold: 10%)\n",
      "2024-08-12 16:55:11,580 - distributed.utils_perf - WARNING - full garbage collections took 14% CPU time recently (threshold: 10%)\n",
      "2024-08-12 16:55:11,822 - distributed.utils_perf - WARNING - full garbage collections took 13% CPU time recently (threshold: 10%)\n",
      "2024-08-12 16:55:12,635 - distributed.utils_perf - WARNING - full garbage collections took 14% CPU time recently (threshold: 10%)\n",
      "2024-08-12 16:55:12,724 - distributed.utils_perf - WARNING - full garbage collections took 15% CPU time recently (threshold: 10%)\n",
      "2024-08-12 16:55:12,784 - distributed.utils_perf - WARNING - full garbage collections took 14% CPU time recently (threshold: 10%)\n",
      "2024-08-12 16:55:12,896 - distributed.utils_perf - WARNING - full garbage collections took 14% CPU time recently (threshold: 10%)\n",
      "2024-08-12 16:55:12,997 - distributed.utils_perf - WARNING - full garbage collections took 15% CPU time recently (threshold: 10%)\n",
      "2024-08-12 16:55:13,067 - distributed.utils_perf - WARNING - full garbage collections took 14% CPU time recently (threshold: 10%)\n",
      "2024-08-12 16:55:13,116 - root - INFO: - Training model...\n",
      "2024-08-12 16:55:13,208 - root - INFO: - start listen on 10.91.28.16:50823\n",
      "[16:55:13] task [xgboost.dask-0]:tcp://127.0.0.1:46847 got new rank 0\n",
      "[16:55:13] task [xgboost.dask-1]:tcp://127.0.0.1:44227 got new rank 1\n",
      "[16:55:13] task [xgboost.dask-2]:tcp://127.0.0.1:39251 got new rank 2\n",
      "2024-08-12 16:55:13,598 - root - INFO: - @tracker All of 3 nodes getting started\n",
      "2024-08-12 16:56:49,799 - distributed.utils_perf - WARNING - full garbage collections took 15% CPU time recently (threshold: 10%)\n",
      "2024-08-12 16:59:19,903 - root - INFO: - @tracker All nodes finishes job\n",
      "2024-08-12 16:59:20,248 - root - INFO: - Running model on test data...\n",
      "2024-08-12 16:59:24,903 - distributed.utils_perf - WARNING - full garbage collections took 14% CPU time recently (threshold: 10%)\n",
      "2024-08-12 16:59:25,376 - distributed.utils_perf - WARNING - full garbage collections took 13% CPU time recently (threshold: 10%)\n",
      "2024-08-12 16:59:25,862 - distributed.utils_perf - WARNING - full garbage collections took 11% CPU time recently (threshold: 10%)\n",
      "2024-08-12 16:59:25,960 - distributed.utils_perf - WARNING - full garbage collections took 13% CPU time recently (threshold: 10%)\n",
      "2024-08-12 16:59:27,601 - distributed.utils_perf - WARNING - full garbage collections took 14% CPU time recently (threshold: 10%)\n",
      "2024-08-12 16:59:28,340 - distributed.utils_perf - WARNING - full garbage collections took 14% CPU time recently (threshold: 10%)\n",
      "2024-08-12 16:59:34,461 - root - INFO: - Calculating metrics...\n",
      "2024-08-12 16:59:34,543 - root - INFO: - Calculating metrics...Completed\n"
     ]
    },
    {
     "name": "stdout",
     "output_type": "stream",
     "text": [
      "--------------------------------------------------------------------------------\n",
      " train_auc           :   0.99433\n",
      " train_logloss       :   0.22372\n",
      " val_auc             :   0.62408\n",
      " val_logloss         :   0.34980\n",
      " roc_auc             :   0.62508\n",
      " logloss             :   0.34980\n",
      " accuracy            :   0.88260\n",
      " bal_acc             :   0.00454\n",
      " top_k_acc           :   1.00000\n",
      " F1_score            :   0.00960\n",
      " map                 :   0.20367\n",
      " pearson_corr        :   0.17653\n",
      "--------------------------------------------------------------------------------\n",
      "CV Split 1 -  Training files: [0, 1, 2, 6, 7, 8, 9, 10, 11, 12, 13, 14]   Validation files: [3, 4, 5]  \n"
     ]
    },
    {
     "name": "stderr",
     "output_type": "stream",
     "text": [
      "2024-08-12 16:59:42,968 - root - INFO: - CrossValidation split #1\n",
      "2024-08-12 16:59:42,969 - root - INFO: - Building training & validation DMatrix...\n",
      "2024-08-12 17:00:48,077 - root - INFO: - Training model...\n",
      "2024-08-12 17:00:48,086 - root - INFO: - start listen on 10.91.28.16:50549\n",
      "[17:00:48] task [xgboost.dask-0]:tcp://127.0.0.1:46847 got new rank 0\n",
      "[17:00:48] task [xgboost.dask-1]:tcp://127.0.0.1:44227 got new rank 1\n",
      "[17:00:48] task [xgboost.dask-2]:tcp://127.0.0.1:39251 got new rank 2\n",
      "2024-08-12 17:00:48,123 - root - INFO: - @tracker All of 3 nodes getting started\n",
      "2024-08-12 17:04:45,806 - root - INFO: - @tracker All nodes finishes job\n",
      "2024-08-12 17:04:46,140 - root - INFO: - Running model on test data...\n",
      "2024-08-12 17:05:00,525 - root - INFO: - Calculating metrics...\n",
      "2024-08-12 17:05:00,604 - root - INFO: - Calculating metrics...Completed\n"
     ]
    },
    {
     "name": "stdout",
     "output_type": "stream",
     "text": [
      "--------------------------------------------------------------------------------\n",
      " train_auc           :   0.99342\n",
      " train_logloss       :   0.22766\n",
      " val_auc             :   0.62944\n",
      " val_logloss         :   0.34806\n",
      " roc_auc             :   0.62934\n",
      " logloss             :   0.34806\n",
      " accuracy            :   0.88287\n",
      " bal_acc             :   0.00710\n",
      " top_k_acc           :   1.00000\n",
      " F1_score            :   0.01582\n",
      " map                 :   0.20681\n",
      " pearson_corr        :   0.18141\n",
      "--------------------------------------------------------------------------------\n",
      "CV Split 2 -  Training files: [0, 1, 2, 3, 4, 5, 9, 10, 11, 12, 13, 14]   Validation files: [6, 7, 8]  \n"
     ]
    },
    {
     "name": "stderr",
     "output_type": "stream",
     "text": [
      "2024-08-12 17:05:08,328 - root - INFO: - CrossValidation split #2\n",
      "2024-08-12 17:05:08,329 - root - INFO: - Building training & validation DMatrix...\n",
      "2024-08-12 17:06:16,561 - root - INFO: - Training model...\n",
      "2024-08-12 17:06:16,567 - root - INFO: - start listen on 10.91.28.16:49159\n",
      "[17:06:16] task [xgboost.dask-0]:tcp://127.0.0.1:46847 got new rank 0\n",
      "[17:06:16] task [xgboost.dask-1]:tcp://127.0.0.1:44227 got new rank 1\n",
      "[17:06:16] task [xgboost.dask-2]:tcp://127.0.0.1:39251 got new rank 2\n",
      "2024-08-12 17:06:16,601 - root - INFO: - @tracker All of 3 nodes getting started\n",
      "2024-08-12 17:10:14,168 - root - INFO: - @tracker All nodes finishes job\n",
      "2024-08-12 17:10:14,496 - root - INFO: - Running model on test data...\n",
      "2024-08-12 17:10:29,100 - root - INFO: - Calculating metrics...\n",
      "2024-08-12 17:10:29,178 - root - INFO: - Calculating metrics...Completed\n"
     ]
    },
    {
     "name": "stdout",
     "output_type": "stream",
     "text": [
      "--------------------------------------------------------------------------------\n",
      " train_auc           :   0.99415\n",
      " train_logloss       :   0.22500\n",
      " val_auc             :   0.63134\n",
      " val_logloss         :   0.35519\n",
      " roc_auc             :   0.63205\n",
      " logloss             :   0.35519\n",
      " accuracy            :   0.87894\n",
      " bal_acc             :   0.00519\n",
      " top_k_acc           :   1.00000\n",
      " F1_score            :   0.01140\n",
      " map                 :   0.21770\n",
      " pearson_corr        :   0.19061\n",
      "--------------------------------------------------------------------------------\n",
      "CV Split 3 -  Training files: [0, 1, 2, 3, 4, 5, 6, 7, 8, 12, 13, 14]   Validation files: [9, 10, 11]  \n"
     ]
    },
    {
     "name": "stderr",
     "output_type": "stream",
     "text": [
      "2024-08-12 17:10:36,708 - root - INFO: - CrossValidation split #3\n",
      "2024-08-12 17:10:36,709 - root - INFO: - Building training & validation DMatrix...\n",
      "2024-08-12 17:11:46,564 - root - INFO: - Training model...\n",
      "2024-08-12 17:11:46,570 - root - INFO: - start listen on 10.91.28.16:48367\n",
      "[17:11:46] task [xgboost.dask-0]:tcp://127.0.0.1:46847 got new rank 0\n",
      "[17:11:46] task [xgboost.dask-1]:tcp://127.0.0.1:44227 got new rank 1\n",
      "[17:11:46] task [xgboost.dask-2]:tcp://127.0.0.1:39251 got new rank 2\n",
      "2024-08-12 17:11:46,607 - root - INFO: - @tracker All of 3 nodes getting started\n",
      "2024-08-12 17:15:51,343 - root - INFO: - @tracker All nodes finishes job\n",
      "2024-08-12 17:15:51,671 - root - INFO: - Running model on test data...\n",
      "2024-08-12 17:16:06,351 - root - INFO: - Calculating metrics...\n",
      "2024-08-12 17:16:06,427 - root - INFO: - Calculating metrics...Completed\n"
     ]
    },
    {
     "name": "stdout",
     "output_type": "stream",
     "text": [
      "--------------------------------------------------------------------------------\n",
      " train_auc           :   0.99392\n",
      " train_logloss       :   0.22442\n",
      " val_auc             :   0.62884\n",
      " val_logloss         :   0.35260\n",
      " roc_auc             :   0.62888\n",
      " logloss             :   0.35260\n",
      " accuracy            :   0.88096\n",
      " bal_acc             :   0.00592\n",
      " top_k_acc           :   1.00000\n",
      " F1_score            :   0.01275\n",
      " map                 :   0.20730\n",
      " pearson_corr        :   0.17888\n",
      "--------------------------------------------------------------------------------\n",
      "CV Split 4 -  Training files: [0, 1, 2, 3, 4, 5, 6, 7, 8, 9, 10, 11]   Validation files: [12, 13, 14]  \n"
     ]
    },
    {
     "name": "stderr",
     "output_type": "stream",
     "text": [
      "2024-08-12 17:16:14,173 - root - INFO: - CrossValidation split #4\n",
      "2024-08-12 17:16:14,174 - root - INFO: - Building training & validation DMatrix...\n",
      "2024-08-12 17:17:21,696 - root - INFO: - Training model...\n",
      "2024-08-12 17:17:21,706 - root - INFO: - start listen on 10.91.28.16:50213\n",
      "[17:17:21] task [xgboost.dask-0]:tcp://127.0.0.1:46847 got new rank 0\n",
      "[17:17:21] task [xgboost.dask-1]:tcp://127.0.0.1:44227 got new rank 1\n",
      "[17:17:21] task [xgboost.dask-2]:tcp://127.0.0.1:39251 got new rank 2\n",
      "2024-08-12 17:17:21,742 - root - INFO: - @tracker All of 3 nodes getting started\n",
      "2024-08-12 17:21:07,186 - root - INFO: - @tracker All nodes finishes job\n",
      "2024-08-12 17:21:07,493 - root - INFO: - Running model on test data...\n",
      "2024-08-12 17:21:22,166 - root - INFO: - Calculating metrics...\n",
      "2024-08-12 17:21:22,248 - root - INFO: - Calculating metrics...Completed\n"
     ]
    },
    {
     "name": "stdout",
     "output_type": "stream",
     "text": [
      "--------------------------------------------------------------------------------\n",
      " train_auc           :   0.99245\n",
      " train_logloss       :   0.23133\n",
      " val_auc             :   0.62581\n",
      " val_logloss         :   0.35597\n",
      " roc_auc             :   0.62670\n",
      " logloss             :   0.35597\n",
      " accuracy            :   0.87912\n",
      " bal_acc             :   0.00295\n",
      " top_k_acc           :   1.00000\n",
      " F1_score            :   0.00680\n",
      " map                 :   0.20722\n",
      " pearson_corr        :   0.17714\n",
      "--------------------------------------------------------------------------------\n",
      "--------------------------------------------------------------------------------\n",
      " train_auc                 0.99365 +/- 0.00067\n",
      " train_logloss             0.22643 +/- 0.00279\n",
      " val_auc                   0.62790 +/- 0.00261\n",
      " val_logloss               0.35232 +/- 0.00304\n",
      " roc_auc                   0.62841 +/- 0.00238\n",
      " logloss                   0.35232 +/- 0.00304\n",
      " accuracy                  0.88090 +/- 0.00166\n",
      " bal_acc                   0.00514 +/- 0.00139\n",
      " top_k_acc                 1.00000 +/- 0.00000\n",
      " F1_score                  0.01127 +/- 0.00303\n",
      " map                       0.20854 +/- 0.00477\n",
      " pearson_corr              0.18091 +/- 0.00514\n",
      "--------------------------------------------------------------------------------\n",
      " model best score    :  0.35590137417431533\n",
      " model best iteration:  147\n",
      " Save model to : ./saved_models/cls-3_SampleStudy-Aug09_trial_014.json\n"
     ]
    },
    {
     "name": "stderr",
     "output_type": "stream",
     "text": [
      "[I 2024-08-12 17:21:22,571] Trial 14 finished with values: {'roc_auc': 0.6279006187010412, 'logloss': 0.35232368585810186} and parameters: {'learning_rate': 0.02324537679664609, 'min_split_loss': 7.255739028373606, 'max_depth': 15, 'min_child_weight': 9.936303907650505, 'max_delta_step': 9.46443705238088, 'subsample': 0.9822678581831684, 'colsample_bylevel': 0.6751740319507228, 'colsample_bynode': 0.999022634834442}. \n"
     ]
    },
    {
     "name": "stdout",
     "output_type": "stream",
     "text": [
      "--------------------------------------------------------------------------------\n",
      " Training model (trial #15) \n",
      "--------------------------------------------------------------------------------\n",
      " Parameters:\n",
      "  booster                        gbtree\n",
      "  device                         gpu\n",
      "  verbosity                      0\n",
      "  disable_default_eval_metric    False\n",
      "  objective                      binary:logistic\n",
      "  eval_metric                    ['auc', 'logloss']\n",
      "  tree_method                    auto\n",
      "  learning_rate                  0.012494010875263244\n",
      "  gamma                          9.934236466598573\n",
      "  max_depth                      15\n",
      "  min_child_weight               7.068393590274086\n",
      "  max_delta_step                 6.900411023557217\n",
      "  subsample                      0.6346849670915804\n",
      "  sampling_method                uniform\n",
      "  colsample_bytree               1.0\n",
      "  colsample_bylevel              0.7952800155402561\n",
      "  colsample_bynode               0.9940187209287357\n",
      "  lambda                         1\n",
      "  scale_pos_weight               1\n",
      "  max_leaves                     0\n",
      "  reg_lambda                     3.2267\n",
      " # bin files: 15   # of folds 5 -  (groups of 3 file tuples)\n",
      "CV Split 0 -  Training files: [3, 4, 5, 6, 7, 8, 9, 10, 11, 12, 13, 14]   Validation files: [0, 1, 2]  \n"
     ]
    },
    {
     "name": "stderr",
     "output_type": "stream",
     "text": [
      "2024-08-12 17:21:31,108 - root - INFO: - CrossValidation split #0\n",
      "2024-08-12 17:21:31,109 - root - INFO: - Building training & validation DMatrix...\n",
      "2024-08-12 17:22:37,821 - root - INFO: - Training model...\n",
      "2024-08-12 17:22:37,830 - root - INFO: - start listen on 10.91.28.16:60953\n",
      "[17:22:37] task [xgboost.dask-0]:tcp://127.0.0.1:46847 got new rank 0\n",
      "[17:22:37] task [xgboost.dask-1]:tcp://127.0.0.1:44227 got new rank 1\n",
      "[17:22:37] task [xgboost.dask-2]:tcp://127.0.0.1:39251 got new rank 2\n",
      "2024-08-12 17:22:37,869 - root - INFO: - @tracker All of 3 nodes getting started\n",
      "2024-08-12 17:27:40,735 - root - INFO: - @tracker All nodes finishes job\n",
      "2024-08-12 17:27:41,096 - root - INFO: - Running model on test data...\n",
      "2024-08-12 17:27:55,945 - root - INFO: - Calculating metrics...\n",
      "2024-08-12 17:27:56,023 - root - INFO: - Calculating metrics...Completed\n"
     ]
    },
    {
     "name": "stdout",
     "output_type": "stream",
     "text": [
      "--------------------------------------------------------------------------------\n",
      " train_auc           :   0.98319\n",
      " train_logloss       :   0.24902\n",
      " val_auc             :   0.62457\n",
      " val_logloss         :   0.34962\n",
      " roc_auc             :   0.62459\n",
      " logloss             :   0.34962\n",
      " accuracy            :   0.88254\n",
      " bal_acc             :   0.00470\n",
      " top_k_acc           :   1.00000\n",
      " F1_score            :   0.01011\n",
      " map                 :   0.20442\n",
      " pearson_corr        :   0.17729\n",
      "--------------------------------------------------------------------------------\n",
      "CV Split 1 -  Training files: [0, 1, 2, 6, 7, 8, 9, 10, 11, 12, 13, 14]   Validation files: [3, 4, 5]  \n"
     ]
    },
    {
     "name": "stderr",
     "output_type": "stream",
     "text": [
      "2024-08-12 17:28:03,914 - root - INFO: - CrossValidation split #1\n",
      "2024-08-12 17:28:03,915 - root - INFO: - Building training & validation DMatrix...\n",
      "2024-08-12 17:29:11,735 - root - INFO: - Training model...\n",
      "2024-08-12 17:29:11,745 - root - INFO: - start listen on 10.91.28.16:45141\n",
      "[17:29:11] task [xgboost.dask-0]:tcp://127.0.0.1:46847 got new rank 0\n",
      "[17:29:11] task [xgboost.dask-1]:tcp://127.0.0.1:44227 got new rank 1\n",
      "[17:29:11] task [xgboost.dask-2]:tcp://127.0.0.1:39251 got new rank 2\n",
      "2024-08-12 17:29:11,783 - root - INFO: - @tracker All of 3 nodes getting started\n",
      "2024-08-12 17:34:26,312 - root - INFO: - @tracker All nodes finishes job\n",
      "2024-08-12 17:34:26,735 - root - INFO: - Running model on test data...\n",
      "2024-08-12 17:34:41,686 - root - INFO: - Calculating metrics...\n",
      "2024-08-12 17:34:41,764 - root - INFO: - Calculating metrics...Completed\n"
     ]
    },
    {
     "name": "stdout",
     "output_type": "stream",
     "text": [
      "--------------------------------------------------------------------------------\n",
      " train_auc           :   0.98423\n",
      " train_logloss       :   0.24831\n",
      " val_auc             :   0.63557\n",
      " val_logloss         :   0.34717\n",
      " roc_auc             :   0.63543\n",
      " logloss             :   0.34717\n",
      " accuracy            :   0.88284\n",
      " bal_acc             :   0.00661\n",
      " top_k_acc           :   1.00000\n",
      " F1_score            :   0.01480\n",
      " map                 :   0.20860\n",
      " pearson_corr        :   0.18512\n",
      "--------------------------------------------------------------------------------\n",
      "CV Split 2 -  Training files: [0, 1, 2, 3, 4, 5, 9, 10, 11, 12, 13, 14]   Validation files: [6, 7, 8]  \n"
     ]
    },
    {
     "name": "stderr",
     "output_type": "stream",
     "text": [
      "2024-08-12 17:34:49,815 - root - INFO: - CrossValidation split #2\n",
      "2024-08-12 17:34:49,816 - root - INFO: - Building training & validation DMatrix...\n",
      "2024-08-12 17:35:58,764 - root - INFO: - Training model...\n",
      "2024-08-12 17:35:58,771 - root - INFO: - start listen on 10.91.28.16:34809\n",
      "[17:35:58] task [xgboost.dask-0]:tcp://127.0.0.1:46847 got new rank 0\n",
      "[17:35:58] task [xgboost.dask-1]:tcp://127.0.0.1:44227 got new rank 1\n",
      "[17:35:58] task [xgboost.dask-2]:tcp://127.0.0.1:39251 got new rank 2\n",
      "2024-08-12 17:35:58,807 - root - INFO: - @tracker All of 3 nodes getting started\n",
      "2024-08-12 17:41:01,755 - root - INFO: - @tracker All nodes finishes job\n",
      "2024-08-12 17:41:02,128 - root - INFO: - Running model on test data...\n",
      "2024-08-12 17:41:17,111 - root - INFO: - Calculating metrics...\n",
      "2024-08-12 17:41:17,193 - root - INFO: - Calculating metrics...Completed\n"
     ]
    },
    {
     "name": "stdout",
     "output_type": "stream",
     "text": [
      "--------------------------------------------------------------------------------\n",
      " train_auc           :   0.98412\n",
      " train_logloss       :   0.24794\n",
      " val_auc             :   0.63546\n",
      " val_logloss         :   0.35442\n",
      " roc_auc             :   0.63535\n",
      " logloss             :   0.35442\n",
      " accuracy            :   0.87886\n",
      " bal_acc             :   0.00532\n",
      " top_k_acc           :   1.00000\n",
      " F1_score            :   0.01189\n",
      " map                 :   0.21892\n",
      " pearson_corr        :   0.19351\n",
      "--------------------------------------------------------------------------------\n",
      "CV Split 3 -  Training files: [0, 1, 2, 3, 4, 5, 6, 7, 8, 12, 13, 14]   Validation files: [9, 10, 11]  \n"
     ]
    },
    {
     "name": "stderr",
     "output_type": "stream",
     "text": [
      "2024-08-12 17:41:24,847 - root - INFO: - CrossValidation split #3\n",
      "2024-08-12 17:41:24,848 - root - INFO: - Building training & validation DMatrix...\n",
      "2024-08-12 17:42:34,900 - root - INFO: - Training model...\n",
      "2024-08-12 17:42:34,906 - root - INFO: - start listen on 10.91.28.16:47379\n",
      "[17:42:34] task [xgboost.dask-0]:tcp://127.0.0.1:46847 got new rank 0\n",
      "[17:42:34] task [xgboost.dask-1]:tcp://127.0.0.1:44227 got new rank 1\n",
      "[17:42:34] task [xgboost.dask-2]:tcp://127.0.0.1:39251 got new rank 2\n",
      "2024-08-12 17:42:34,943 - root - INFO: - @tracker All of 3 nodes getting started\n",
      "2024-08-12 17:42:38,297 - distributed.worker.memory - WARNING - Unmanaged memory use is high. This may indicate a memory leak or the memory may not be released to the OS; see https://distributed.dask.org/en/latest/worker-memory.html#memory-not-released-back-to-the-os for more information. -- Unmanaged memory: 3.45 GiB -- Worker memory limit: 5.59 GiB\n",
      "2024-08-12 17:47:38,791 - root - INFO: - @tracker All nodes finishes job\n",
      "2024-08-12 17:47:39,157 - root - INFO: - Running model on test data...\n",
      "2024-08-12 17:48:01,197 - root - INFO: - Calculating metrics...\n",
      "2024-08-12 17:48:01,273 - root - INFO: - Calculating metrics...Completed\n"
     ]
    },
    {
     "name": "stdout",
     "output_type": "stream",
     "text": [
      "--------------------------------------------------------------------------------\n",
      " train_auc           :   0.98321\n",
      " train_logloss       :   0.24858\n",
      " val_auc             :   0.63155\n",
      " val_logloss         :   0.35212\n",
      " roc_auc             :   0.63161\n",
      " logloss             :   0.35212\n",
      " accuracy            :   0.88081\n",
      " bal_acc             :   0.00530\n",
      " top_k_acc           :   1.00000\n",
      " F1_score            :   0.01173\n",
      " map                 :   0.20652\n",
      " pearson_corr        :   0.17900\n",
      "--------------------------------------------------------------------------------\n",
      "CV Split 4 -  Training files: [0, 1, 2, 3, 4, 5, 6, 7, 8, 9, 10, 11]   Validation files: [12, 13, 14]  \n"
     ]
    },
    {
     "name": "stderr",
     "output_type": "stream",
     "text": [
      "2024-08-12 17:48:09,395 - root - INFO: - CrossValidation split #4\n",
      "2024-08-12 17:48:09,396 - root - INFO: - Building training & validation DMatrix...\n",
      "2024-08-12 17:49:19,936 - root - INFO: - Training model...\n",
      "2024-08-12 17:49:19,947 - root - INFO: - start listen on 10.91.28.16:40403\n",
      "[17:49:19] task [xgboost.dask-0]:tcp://127.0.0.1:46847 got new rank 0\n",
      "[17:49:19] task [xgboost.dask-1]:tcp://127.0.0.1:44227 got new rank 1\n",
      "[17:49:19] task [xgboost.dask-2]:tcp://127.0.0.1:39251 got new rank 2\n",
      "2024-08-12 17:49:19,984 - root - INFO: - @tracker All of 3 nodes getting started\n",
      "2024-08-12 17:54:01,659 - root - INFO: - @tracker All nodes finishes job\n",
      "2024-08-12 17:54:02,002 - root - INFO: - Running model on test data...\n",
      "2024-08-12 17:54:16,802 - root - INFO: - Calculating metrics...\n",
      "2024-08-12 17:54:16,877 - root - INFO: - Calculating metrics...Completed\n"
     ]
    },
    {
     "name": "stdout",
     "output_type": "stream",
     "text": [
      "--------------------------------------------------------------------------------\n",
      " train_auc           :   0.98104\n",
      " train_logloss       :   0.25311\n",
      " val_auc             :   0.63228\n",
      " val_logloss         :   0.35516\n",
      " roc_auc             :   0.63226\n",
      " logloss             :   0.35516\n",
      " accuracy            :   0.87909\n",
      " bal_acc             :   0.00335\n",
      " top_k_acc           :   1.00000\n",
      " F1_score            :   0.00779\n",
      " map                 :   0.20895\n",
      " pearson_corr        :   0.18021\n",
      "--------------------------------------------------------------------------------\n",
      "--------------------------------------------------------------------------------\n",
      " train_auc                 0.98316 +/- 0.00115\n",
      " train_logloss             0.24939 +/- 0.00189\n",
      " val_auc                   0.63189 +/- 0.00401\n",
      " val_logloss               0.35170 +/- 0.00298\n",
      " roc_auc                   0.63185 +/- 0.00395\n",
      " logloss                   0.35170 +/- 0.00298\n",
      " accuracy                  0.88083 +/- 0.00166\n",
      " bal_acc                   0.00506 +/- 0.00106\n",
      " top_k_acc                 1.00000 +/- 0.00000\n",
      " F1_score                  0.01126 +/- 0.00230\n",
      " map                       0.20948 +/- 0.00499\n",
      " pearson_corr              0.18302 +/- 0.00585\n",
      "--------------------------------------------------------------------------------\n",
      " model best score    :  0.3551515359932124\n",
      " model best iteration:  531\n",
      " Save model to : ./saved_models/cls-3_SampleStudy-Aug09_trial_015.json\n"
     ]
    },
    {
     "name": "stderr",
     "output_type": "stream",
     "text": [
      "[I 2024-08-12 17:54:17,254] Trial 15 finished with values: {'roc_auc': 0.6318871761105973, 'logloss': 0.3516981194799512} and parameters: {'learning_rate': 0.012494010875263244, 'min_split_loss': 9.934236466598573, 'max_depth': 15, 'min_child_weight': 7.068393590274086, 'max_delta_step': 6.900411023557217, 'subsample': 0.6346849670915804, 'colsample_bylevel': 0.7952800155402561, 'colsample_bynode': 0.9940187209287357}. \n"
     ]
    },
    {
     "name": "stdout",
     "output_type": "stream",
     "text": [
      "--------------------------------------------------------------------------------\n",
      " Training model (trial #16) \n",
      "--------------------------------------------------------------------------------\n",
      " Parameters:\n",
      "  booster                        gbtree\n",
      "  device                         gpu\n",
      "  verbosity                      0\n",
      "  disable_default_eval_metric    False\n",
      "  objective                      binary:logistic\n",
      "  eval_metric                    ['auc', 'logloss']\n",
      "  tree_method                    auto\n",
      "  learning_rate                  0.01024424362835272\n",
      "  gamma                          9.731097976088979\n",
      "  max_depth                      15\n",
      "  min_child_weight               6.144147240954864\n",
      "  max_delta_step                 7.081545439246192\n",
      "  subsample                      0.6275489586385868\n",
      "  sampling_method                uniform\n",
      "  colsample_bytree               1.0\n",
      "  colsample_bylevel              0.8031928587834122\n",
      "  colsample_bynode               0.9968695203217655\n",
      "  lambda                         1\n",
      "  scale_pos_weight               1\n",
      "  max_leaves                     0\n",
      "  reg_lambda                     3.2267\n",
      " # bin files: 15   # of folds 5 -  (groups of 3 file tuples)\n",
      "CV Split 0 -  Training files: [3, 4, 5, 6, 7, 8, 9, 10, 11, 12, 13, 14]   Validation files: [0, 1, 2]  \n"
     ]
    },
    {
     "name": "stderr",
     "output_type": "stream",
     "text": [
      "2024-08-12 17:54:25,461 - root - INFO: - CrossValidation split #0\n",
      "2024-08-12 17:54:25,462 - root - INFO: - Building training & validation DMatrix...\n",
      "2024-08-12 17:55:33,785 - root - INFO: - Training model...\n",
      "2024-08-12 17:55:33,793 - root - INFO: - start listen on 10.91.28.16:55789\n",
      "[17:55:33] task [xgboost.dask-0]:tcp://127.0.0.1:46847 got new rank 0\n",
      "[17:55:33] task [xgboost.dask-1]:tcp://127.0.0.1:44227 got new rank 1\n",
      "[17:55:33] task [xgboost.dask-2]:tcp://127.0.0.1:39251 got new rank 2\n",
      "2024-08-12 17:55:33,824 - root - INFO: - @tracker All of 3 nodes getting started\n",
      "2024-08-12 18:01:59,024 - root - INFO: - @tracker All nodes finishes job\n",
      "2024-08-12 18:01:59,447 - root - INFO: - Running model on test data...\n",
      "2024-08-12 18:02:14,058 - root - INFO: - Calculating metrics...\n",
      "2024-08-12 18:02:14,131 - root - INFO: - Calculating metrics...Completed\n"
     ]
    },
    {
     "name": "stdout",
     "output_type": "stream",
     "text": [
      "--------------------------------------------------------------------------------\n",
      " train_auc           :   0.98536\n",
      " train_logloss       :   0.24621\n",
      " val_auc             :   0.62586\n",
      " val_logloss         :   0.34948\n",
      " roc_auc             :   0.62586\n",
      " logloss             :   0.34948\n",
      " accuracy            :   0.88241\n",
      " bal_acc             :   0.00376\n",
      " top_k_acc           :   1.00000\n",
      " F1_score            :   0.00830\n",
      " map                 :   0.20542\n",
      " pearson_corr        :   0.17850\n",
      "--------------------------------------------------------------------------------\n",
      "CV Split 1 -  Training files: [0, 1, 2, 6, 7, 8, 9, 10, 11, 12, 13, 14]   Validation files: [3, 4, 5]  \n"
     ]
    },
    {
     "name": "stderr",
     "output_type": "stream",
     "text": [
      "2024-08-12 18:02:23,216 - root - INFO: - CrossValidation split #1\n",
      "2024-08-12 18:02:23,217 - root - INFO: - Building training & validation DMatrix...\n",
      "2024-08-12 18:03:19,079 - distributed.utils_perf - WARNING - full garbage collections took 10% CPU time recently (threshold: 10%)\n",
      "2024-08-12 18:03:19,651 - distributed.utils_perf - WARNING - full garbage collections took 10% CPU time recently (threshold: 10%)\n",
      "2024-08-12 18:03:20,063 - distributed.utils_perf - WARNING - full garbage collections took 10% CPU time recently (threshold: 10%)\n",
      "2024-08-12 18:03:21,672 - distributed.utils_perf - WARNING - full garbage collections took 10% CPU time recently (threshold: 10%)\n",
      "2024-08-12 18:03:22,453 - distributed.utils_perf - WARNING - full garbage collections took 10% CPU time recently (threshold: 10%)\n",
      "2024-08-12 18:03:22,816 - distributed.utils_perf - WARNING - full garbage collections took 10% CPU time recently (threshold: 10%)\n",
      "2024-08-12 18:03:24,379 - distributed.utils_perf - WARNING - full garbage collections took 11% CPU time recently (threshold: 10%)\n",
      "2024-08-12 18:03:25,229 - distributed.utils_perf - WARNING - full garbage collections took 11% CPU time recently (threshold: 10%)\n",
      "2024-08-12 18:03:25,620 - distributed.utils_perf - WARNING - full garbage collections took 11% CPU time recently (threshold: 10%)\n",
      "2024-08-12 18:03:27,164 - distributed.utils_perf - WARNING - full garbage collections took 11% CPU time recently (threshold: 10%)\n",
      "2024-08-12 18:03:27,728 - distributed.utils_perf - WARNING - full garbage collections took 11% CPU time recently (threshold: 10%)\n",
      "2024-08-12 18:03:28,438 - distributed.utils_perf - WARNING - full garbage collections took 11% CPU time recently (threshold: 10%)\n",
      "2024-08-12 18:03:28,797 - distributed.utils_perf - WARNING - full garbage collections took 11% CPU time recently (threshold: 10%)\n",
      "2024-08-12 18:03:30,104 - distributed.utils_perf - WARNING - full garbage collections took 11% CPU time recently (threshold: 10%)\n",
      "2024-08-12 18:03:30,454 - distributed.utils_perf - WARNING - full garbage collections took 11% CPU time recently (threshold: 10%)\n",
      "2024-08-12 18:03:31,165 - root - INFO: - Training model...\n",
      "2024-08-12 18:03:31,176 - root - INFO: - start listen on 10.91.28.16:53281\n",
      "[18:03:31] task [xgboost.dask-0]:tcp://127.0.0.1:46847 got new rank 0\n",
      "[18:03:31] task [xgboost.dask-1]:tcp://127.0.0.1:44227 got new rank 1\n",
      "[18:03:31] task [xgboost.dask-2]:tcp://127.0.0.1:39251 got new rank 2\n",
      "2024-08-12 18:03:31,214 - root - INFO: - @tracker All of 3 nodes getting started\n",
      "2024-08-12 18:10:08,513 - root - INFO: - @tracker All nodes finishes job\n",
      "2024-08-12 18:10:08,944 - root - INFO: - Running model on test data...\n",
      "2024-08-12 18:10:24,019 - root - INFO: - Calculating metrics...\n",
      "2024-08-12 18:10:24,096 - root - INFO: - Calculating metrics...Completed\n"
     ]
    },
    {
     "name": "stdout",
     "output_type": "stream",
     "text": [
      "--------------------------------------------------------------------------------\n",
      " train_auc           :   0.98651\n",
      " train_logloss       :   0.24437\n",
      " val_auc             :   0.63640\n",
      " val_logloss         :   0.34707\n",
      " roc_auc             :   0.63633\n",
      " logloss             :   0.34707\n",
      " accuracy            :   0.88287\n",
      " bal_acc             :   0.00767\n",
      " top_k_acc           :   1.00000\n",
      " F1_score            :   0.01710\n",
      " map                 :   0.20877\n",
      " pearson_corr        :   0.18528\n",
      "--------------------------------------------------------------------------------\n",
      "CV Split 2 -  Training files: [0, 1, 2, 3, 4, 5, 9, 10, 11, 12, 13, 14]   Validation files: [6, 7, 8]  \n"
     ]
    },
    {
     "name": "stderr",
     "output_type": "stream",
     "text": [
      "2024-08-12 18:10:31,487 - root - INFO: - CrossValidation split #2\n",
      "2024-08-12 18:10:31,488 - root - INFO: - Building training & validation DMatrix...\n",
      "2024-08-12 18:11:30,715 - distributed.utils_perf - WARNING - full garbage collections took 10% CPU time recently (threshold: 10%)\n",
      "2024-08-12 18:11:31,397 - distributed.utils_perf - WARNING - full garbage collections took 11% CPU time recently (threshold: 10%)\n",
      "2024-08-12 18:11:32,166 - distributed.utils_perf - WARNING - full garbage collections took 11% CPU time recently (threshold: 10%)\n",
      "2024-08-12 18:11:32,501 - distributed.utils_perf - WARNING - full garbage collections took 11% CPU time recently (threshold: 10%)\n",
      "2024-08-12 18:11:33,966 - distributed.utils_perf - WARNING - full garbage collections took 11% CPU time recently (threshold: 10%)\n",
      "2024-08-12 18:11:34,781 - distributed.utils_perf - WARNING - full garbage collections took 11% CPU time recently (threshold: 10%)\n",
      "2024-08-12 18:11:35,132 - distributed.utils_perf - WARNING - full garbage collections took 11% CPU time recently (threshold: 10%)\n",
      "2024-08-12 18:11:36,536 - distributed.utils_perf - WARNING - full garbage collections took 12% CPU time recently (threshold: 10%)\n",
      "2024-08-12 18:11:36,888 - distributed.utils_perf - WARNING - full garbage collections took 12% CPU time recently (threshold: 10%)\n",
      "2024-08-12 18:11:37,768 - distributed.utils_perf - WARNING - full garbage collections took 12% CPU time recently (threshold: 10%)\n",
      "2024-08-12 18:11:38,128 - distributed.utils_perf - WARNING - full garbage collections took 12% CPU time recently (threshold: 10%)\n",
      "2024-08-12 18:11:38,951 - distributed.utils_perf - WARNING - full garbage collections took 12% CPU time recently (threshold: 10%)\n",
      "2024-08-12 18:11:39,310 - distributed.utils_perf - WARNING - full garbage collections took 12% CPU time recently (threshold: 10%)\n",
      "2024-08-12 18:11:40,040 - distributed.utils_perf - WARNING - full garbage collections took 12% CPU time recently (threshold: 10%)\n",
      "2024-08-12 18:11:40,408 - distributed.utils_perf - WARNING - full garbage collections took 12% CPU time recently (threshold: 10%)\n",
      "2024-08-12 18:11:40,954 - root - INFO: - Training model...\n",
      "2024-08-12 18:11:40,961 - root - INFO: - start listen on 10.91.28.16:38715\n",
      "[18:11:40] task [xgboost.dask-0]:tcp://127.0.0.1:46847 got new rank 0\n",
      "[18:11:40] task [xgboost.dask-1]:tcp://127.0.0.1:44227 got new rank 1\n",
      "[18:11:40] task [xgboost.dask-2]:tcp://127.0.0.1:39251 got new rank 2\n",
      "2024-08-12 18:11:40,996 - root - INFO: - @tracker All of 3 nodes getting started\n",
      "2024-08-12 18:18:13,866 - root - INFO: - @tracker All nodes finishes job\n",
      "2024-08-12 18:18:14,286 - root - INFO: - Running model on test data...\n",
      "2024-08-12 18:18:28,718 - root - INFO: - Calculating metrics...\n",
      "2024-08-12 18:18:28,795 - root - INFO: - Calculating metrics...Completed\n"
     ]
    },
    {
     "name": "stdout",
     "output_type": "stream",
     "text": [
      "--------------------------------------------------------------------------------\n",
      " train_auc           :   0.98711\n",
      " train_logloss       :   0.24283\n",
      " val_auc             :   0.63787\n",
      " val_logloss         :   0.35408\n",
      " roc_auc             :   0.63890\n",
      " logloss             :   0.35408\n",
      " accuracy            :   0.87888\n",
      " bal_acc             :   0.00512\n",
      " top_k_acc           :   1.00000\n",
      " F1_score            :   0.01139\n",
      " map                 :   0.22037\n",
      " pearson_corr        :   0.19548\n",
      "--------------------------------------------------------------------------------\n",
      "CV Split 3 -  Training files: [0, 1, 2, 3, 4, 5, 6, 7, 8, 12, 13, 14]   Validation files: [9, 10, 11]  \n"
     ]
    },
    {
     "name": "stderr",
     "output_type": "stream",
     "text": [
      "2024-08-12 18:18:36,188 - root - INFO: - CrossValidation split #3\n",
      "2024-08-12 18:18:36,188 - root - INFO: - Building training & validation DMatrix...\n",
      "2024-08-12 18:19:46,908 - root - INFO: - Training model...\n",
      "2024-08-12 18:19:46,917 - root - INFO: - start listen on 10.91.28.16:46097\n",
      "[18:19:46] task [xgboost.dask-0]:tcp://127.0.0.1:46847 got new rank 0\n",
      "[18:19:46] task [xgboost.dask-1]:tcp://127.0.0.1:44227 got new rank 1\n",
      "[18:19:46] task [xgboost.dask-2]:tcp://127.0.0.1:39251 got new rank 2\n",
      "2024-08-12 18:19:46,953 - root - INFO: - @tracker All of 3 nodes getting started\n",
      "2024-08-12 18:26:14,109 - root - INFO: - @tracker All nodes finishes job\n",
      "2024-08-12 18:26:14,533 - root - INFO: - Running model on test data...\n",
      "2024-08-12 18:26:30,132 - root - INFO: - Calculating metrics...\n",
      "2024-08-12 18:26:30,210 - root - INFO: - Calculating metrics...Completed\n"
     ]
    },
    {
     "name": "stdout",
     "output_type": "stream",
     "text": [
      "--------------------------------------------------------------------------------\n",
      " train_auc           :   0.98613\n",
      " train_logloss       :   0.24423\n",
      " val_auc             :   0.63175\n",
      " val_logloss         :   0.35209\n",
      " roc_auc             :   0.63178\n",
      " logloss             :   0.35209\n",
      " accuracy            :   0.88078\n",
      " bal_acc             :   0.00460\n",
      " top_k_acc           :   1.00000\n",
      " F1_score            :   0.01021\n",
      " map                 :   0.20786\n",
      " pearson_corr        :   0.18030\n",
      "--------------------------------------------------------------------------------\n",
      "CV Split 4 -  Training files: [0, 1, 2, 3, 4, 5, 6, 7, 8, 9, 10, 11]   Validation files: [12, 13, 14]  \n"
     ]
    },
    {
     "name": "stderr",
     "output_type": "stream",
     "text": [
      "2024-08-12 18:26:38,264 - root - INFO: - CrossValidation split #4\n",
      "2024-08-12 18:26:38,266 - root - INFO: - Building training & validation DMatrix...\n",
      "2024-08-12 18:27:43,457 - distributed.utils_perf - WARNING - full garbage collections took 10% CPU time recently (threshold: 10%)\n",
      "2024-08-12 18:27:43,874 - distributed.utils_perf - WARNING - full garbage collections took 11% CPU time recently (threshold: 10%)\n",
      "2024-08-12 18:27:45,337 - distributed.utils_perf - WARNING - full garbage collections took 11% CPU time recently (threshold: 10%)\n",
      "2024-08-12 18:27:46,360 - distributed.utils_perf - WARNING - full garbage collections took 11% CPU time recently (threshold: 10%)\n",
      "2024-08-12 18:27:46,763 - distributed.utils_perf - WARNING - full garbage collections took 11% CPU time recently (threshold: 10%)\n",
      "2024-08-12 18:27:47,691 - distributed.utils_perf - WARNING - full garbage collections took 11% CPU time recently (threshold: 10%)\n",
      "2024-08-12 18:27:48,376 - distributed.utils_perf - WARNING - full garbage collections took 11% CPU time recently (threshold: 10%)\n",
      "2024-08-12 18:27:48,593 - root - INFO: - Training model...\n",
      "2024-08-12 18:27:48,599 - root - INFO: - start listen on 10.91.28.16:57015\n",
      "[18:27:48] task [xgboost.dask-0]:tcp://127.0.0.1:46847 got new rank 0\n",
      "[18:27:48] task [xgboost.dask-1]:tcp://127.0.0.1:44227 got new rank 1\n",
      "[18:27:48] task [xgboost.dask-2]:tcp://127.0.0.1:39251 got new rank 2\n",
      "2024-08-12 18:27:48,640 - root - INFO: - @tracker All of 3 nodes getting started\n",
      "2024-08-12 18:34:04,231 - root - INFO: - @tracker All nodes finishes job\n",
      "2024-08-12 18:34:04,631 - root - INFO: - Running model on test data...\n",
      "2024-08-12 18:34:05,523 - distributed.utils_perf - WARNING - full garbage collections took 11% CPU time recently (threshold: 10%)\n",
      "2024-08-12 18:34:10,148 - distributed.utils_perf - WARNING - full garbage collections took 11% CPU time recently (threshold: 10%)\n",
      "2024-08-12 18:34:10,551 - distributed.utils_perf - WARNING - full garbage collections took 11% CPU time recently (threshold: 10%)\n",
      "2024-08-12 18:34:12,669 - distributed.utils_perf - WARNING - full garbage collections took 11% CPU time recently (threshold: 10%)\n",
      "2024-08-12 18:34:13,964 - distributed.utils_perf - WARNING - full garbage collections took 11% CPU time recently (threshold: 10%)\n",
      "2024-08-12 18:34:15,184 - distributed.utils_perf - WARNING - full garbage collections took 11% CPU time recently (threshold: 10%)\n",
      "2024-08-12 18:34:16,423 - distributed.utils_perf - WARNING - full garbage collections took 11% CPU time recently (threshold: 10%)\n",
      "2024-08-12 18:34:17,393 - distributed.utils_perf - WARNING - full garbage collections took 11% CPU time recently (threshold: 10%)\n",
      "2024-08-12 18:34:18,768 - distributed.utils_perf - WARNING - full garbage collections took 11% CPU time recently (threshold: 10%)\n",
      "2024-08-12 18:34:19,444 - root - INFO: - Calculating metrics...\n",
      "2024-08-12 18:34:19,520 - root - INFO: - Calculating metrics...Completed\n"
     ]
    },
    {
     "name": "stdout",
     "output_type": "stream",
     "text": [
      "--------------------------------------------------------------------------------\n",
      " train_auc           :   0.98515\n",
      " train_logloss       :   0.24664\n",
      " val_auc             :   0.63227\n",
      " val_logloss         :   0.35476\n",
      " roc_auc             :   0.63424\n",
      " logloss             :   0.35476\n",
      " accuracy            :   0.87908\n",
      " bal_acc             :   0.00344\n",
      " top_k_acc           :   1.00000\n",
      " F1_score            :   0.00804\n",
      " map                 :   0.21126\n",
      " pearson_corr        :   0.18362\n",
      "--------------------------------------------------------------------------------\n",
      "--------------------------------------------------------------------------------\n",
      " train_auc                 0.98605 +/- 0.00072\n",
      " train_logloss             0.24486 +/- 0.00140\n",
      " val_auc                   0.63283 +/- 0.00420\n",
      " val_logloss               0.35150 +/- 0.00287\n",
      " roc_auc                   0.63342 +/- 0.00445\n",
      " logloss                   0.35150 +/- 0.00287\n",
      " accuracy                  0.88080 +/- 0.00165\n",
      " bal_acc                   0.00492 +/- 0.00150\n",
      " top_k_acc                 1.00000 +/- 0.00000\n",
      " F1_score                  0.01101 +/- 0.00329\n",
      " map                       0.21074 +/- 0.00517\n",
      " pearson_corr              0.18463 +/- 0.00592\n",
      "--------------------------------------------------------------------------------\n",
      " model best score    :  0.35474913206391084\n",
      " model best iteration:  738\n",
      " Save model to : ./saved_models/cls-3_SampleStudy-Aug09_trial_016.json\n"
     ]
    },
    {
     "name": "stderr",
     "output_type": "stream",
     "text": [
      "[I 2024-08-12 18:34:19,965] Trial 16 finished with values: {'roc_auc': 0.6328282597569627, 'logloss': 0.3514963634537645} and parameters: {'learning_rate': 0.01024424362835272, 'min_split_loss': 9.731097976088979, 'max_depth': 15, 'min_child_weight': 6.144147240954864, 'max_delta_step': 7.081545439246192, 'subsample': 0.6275489586385868, 'colsample_bylevel': 0.8031928587834122, 'colsample_bynode': 0.9968695203217655}. \n"
     ]
    },
    {
     "name": "stdout",
     "output_type": "stream",
     "text": [
      "--------------------------------------------------------------------------------\n",
      " Training model (trial #17) \n",
      "--------------------------------------------------------------------------------\n",
      " Parameters:\n",
      "  booster                        gbtree\n",
      "  device                         gpu\n",
      "  verbosity                      0\n",
      "  disable_default_eval_metric    False\n",
      "  objective                      binary:logistic\n",
      "  eval_metric                    ['auc', 'logloss']\n",
      "  tree_method                    auto\n",
      "  learning_rate                  0.26125033750160553\n",
      "  gamma                          8.081884171957691\n",
      "  max_depth                      12\n",
      "  min_child_weight               5.799032474254245\n",
      "  max_delta_step                 7.872092164787525\n",
      "  subsample                      0.886282254965395\n",
      "  sampling_method                uniform\n",
      "  colsample_bytree               1.0\n",
      "  colsample_bylevel              0.6514112786785075\n",
      "  colsample_bynode               0.8928332520837277\n",
      "  lambda                         1\n",
      "  scale_pos_weight               1\n",
      "  max_leaves                     0\n",
      "  reg_lambda                     3.2267\n",
      " # bin files: 15   # of folds 5 -  (groups of 3 file tuples)\n",
      "CV Split 0 -  Training files: [3, 4, 5, 6, 7, 8, 9, 10, 11, 12, 13, 14]   Validation files: [0, 1, 2]  \n"
     ]
    },
    {
     "name": "stderr",
     "output_type": "stream",
     "text": [
      "2024-08-12 18:34:28,847 - root - INFO: - CrossValidation split #0\n",
      "2024-08-12 18:34:28,848 - root - INFO: - Building training & validation DMatrix...\n",
      "2024-08-12 18:34:30,391 - distributed.utils_perf - WARNING - full garbage collections took 11% CPU time recently (threshold: 10%)\n",
      "2024-08-12 18:34:31,524 - distributed.utils_perf - WARNING - full garbage collections took 11% CPU time recently (threshold: 10%)\n",
      "2024-08-12 18:34:31,856 - distributed.utils_perf - WARNING - full garbage collections took 11% CPU time recently (threshold: 10%)\n",
      "2024-08-12 18:34:32,210 - distributed.utils_perf - WARNING - full garbage collections took 11% CPU time recently (threshold: 10%)\n",
      "2024-08-12 18:34:33,437 - distributed.utils_perf - WARNING - full garbage collections took 11% CPU time recently (threshold: 10%)\n",
      "2024-08-12 18:34:34,669 - distributed.utils_perf - WARNING - full garbage collections took 11% CPU time recently (threshold: 10%)\n",
      "2024-08-12 18:34:35,002 - distributed.utils_perf - WARNING - full garbage collections took 11% CPU time recently (threshold: 10%)\n",
      "2024-08-12 18:34:35,356 - distributed.utils_perf - WARNING - full garbage collections took 11% CPU time recently (threshold: 10%)\n",
      "2024-08-12 18:34:36,904 - distributed.utils_perf - WARNING - full garbage collections took 11% CPU time recently (threshold: 10%)\n",
      "2024-08-12 18:34:37,765 - distributed.utils_perf - WARNING - full garbage collections took 11% CPU time recently (threshold: 10%)\n",
      "2024-08-12 18:34:38,101 - distributed.utils_perf - WARNING - full garbage collections took 11% CPU time recently (threshold: 10%)\n",
      "2024-08-12 18:34:39,661 - distributed.utils_perf - WARNING - full garbage collections took 11% CPU time recently (threshold: 10%)\n",
      "2024-08-12 18:34:40,523 - distributed.utils_perf - WARNING - full garbage collections took 11% CPU time recently (threshold: 10%)\n",
      "2024-08-12 18:34:40,857 - distributed.utils_perf - WARNING - full garbage collections took 11% CPU time recently (threshold: 10%)\n",
      "2024-08-12 18:34:42,436 - distributed.utils_perf - WARNING - full garbage collections took 11% CPU time recently (threshold: 10%)\n",
      "2024-08-12 18:34:43,244 - distributed.utils_perf - WARNING - full garbage collections took 11% CPU time recently (threshold: 10%)\n",
      "2024-08-12 18:34:43,568 - distributed.utils_perf - WARNING - full garbage collections took 11% CPU time recently (threshold: 10%)\n",
      "2024-08-12 18:34:44,703 - distributed.utils_perf - WARNING - full garbage collections took 11% CPU time recently (threshold: 10%)\n",
      "2024-08-12 18:34:45,918 - distributed.utils_perf - WARNING - full garbage collections took 11% CPU time recently (threshold: 10%)\n",
      "2024-08-12 18:34:46,264 - distributed.utils_perf - WARNING - full garbage collections took 11% CPU time recently (threshold: 10%)\n",
      "2024-08-12 18:34:46,637 - distributed.utils_perf - WARNING - full garbage collections took 11% CPU time recently (threshold: 10%)\n",
      "2024-08-12 18:34:48,085 - distributed.utils_perf - WARNING - full garbage collections took 11% CPU time recently (threshold: 10%)\n",
      "2024-08-12 18:34:49,009 - distributed.utils_perf - WARNING - full garbage collections took 11% CPU time recently (threshold: 10%)\n",
      "2024-08-12 18:34:49,358 - distributed.utils_perf - WARNING - full garbage collections took 11% CPU time recently (threshold: 10%)\n",
      "2024-08-12 18:34:49,683 - distributed.utils_perf - WARNING - full garbage collections took 11% CPU time recently (threshold: 10%)\n",
      "2024-08-12 18:34:51,055 - distributed.utils_perf - WARNING - full garbage collections took 11% CPU time recently (threshold: 10%)\n",
      "2024-08-12 18:34:52,027 - distributed.utils_perf - WARNING - full garbage collections took 11% CPU time recently (threshold: 10%)\n",
      "2024-08-12 18:34:52,397 - distributed.utils_perf - WARNING - full garbage collections took 11% CPU time recently (threshold: 10%)\n",
      "2024-08-12 18:34:53,775 - distributed.utils_perf - WARNING - full garbage collections took 11% CPU time recently (threshold: 10%)\n",
      "2024-08-12 18:34:54,139 - distributed.utils_perf - WARNING - full garbage collections took 11% CPU time recently (threshold: 10%)\n",
      "2024-08-12 18:34:54,502 - distributed.utils_perf - WARNING - full garbage collections took 11% CPU time recently (threshold: 10%)\n",
      "2024-08-12 18:34:55,464 - distributed.utils_perf - WARNING - full garbage collections took 11% CPU time recently (threshold: 10%)\n",
      "2024-08-12 18:34:56,851 - distributed.utils_perf - WARNING - full garbage collections took 11% CPU time recently (threshold: 10%)\n",
      "2024-08-12 18:34:57,191 - distributed.utils_perf - WARNING - full garbage collections took 11% CPU time recently (threshold: 10%)\n",
      "2024-08-12 18:34:57,564 - distributed.utils_perf - WARNING - full garbage collections took 11% CPU time recently (threshold: 10%)\n",
      "2024-08-12 18:34:58,509 - distributed.utils_perf - WARNING - full garbage collections took 11% CPU time recently (threshold: 10%)\n",
      "2024-08-12 18:34:59,921 - distributed.utils_perf - WARNING - full garbage collections took 11% CPU time recently (threshold: 10%)\n",
      "2024-08-12 18:35:00,280 - distributed.utils_perf - WARNING - full garbage collections took 11% CPU time recently (threshold: 10%)\n",
      "2024-08-12 18:35:01,239 - distributed.utils_perf - WARNING - full garbage collections took 11% CPU time recently (threshold: 10%)\n",
      "2024-08-12 18:35:01,593 - distributed.utils_perf - WARNING - full garbage collections took 11% CPU time recently (threshold: 10%)\n",
      "2024-08-12 18:35:02,976 - distributed.utils_perf - WARNING - full garbage collections took 11% CPU time recently (threshold: 10%)\n",
      "2024-08-12 18:35:03,337 - distributed.utils_perf - WARNING - full garbage collections took 11% CPU time recently (threshold: 10%)\n",
      "2024-08-12 18:35:04,344 - distributed.utils_perf - WARNING - full garbage collections took 11% CPU time recently (threshold: 10%)\n",
      "2024-08-12 18:35:04,714 - distributed.utils_perf - WARNING - full garbage collections took 11% CPU time recently (threshold: 10%)\n",
      "2024-08-12 18:35:06,119 - distributed.utils_perf - WARNING - full garbage collections took 11% CPU time recently (threshold: 10%)\n",
      "2024-08-12 18:35:07,076 - distributed.utils_perf - WARNING - full garbage collections took 11% CPU time recently (threshold: 10%)\n",
      "2024-08-12 18:35:07,452 - distributed.utils_perf - WARNING - full garbage collections took 11% CPU time recently (threshold: 10%)\n",
      "2024-08-12 18:35:08,694 - distributed.utils_perf - WARNING - full garbage collections took 11% CPU time recently (threshold: 10%)\n",
      "2024-08-12 18:35:09,204 - distributed.utils_perf - WARNING - full garbage collections took 11% CPU time recently (threshold: 10%)\n",
      "2024-08-12 18:35:09,575 - distributed.utils_perf - WARNING - full garbage collections took 11% CPU time recently (threshold: 10%)\n",
      "2024-08-12 18:35:10,608 - distributed.utils_perf - WARNING - full garbage collections took 11% CPU time recently (threshold: 10%)\n",
      "2024-08-12 18:35:10,992 - distributed.utils_perf - WARNING - full garbage collections took 11% CPU time recently (threshold: 10%)\n",
      "2024-08-12 18:35:12,338 - distributed.utils_perf - WARNING - full garbage collections took 11% CPU time recently (threshold: 10%)\n",
      "2024-08-12 18:35:12,709 - distributed.utils_perf - WARNING - full garbage collections took 11% CPU time recently (threshold: 10%)\n",
      "2024-08-12 18:35:13,692 - distributed.utils_perf - WARNING - full garbage collections took 11% CPU time recently (threshold: 10%)\n",
      "2024-08-12 18:35:15,113 - distributed.utils_perf - WARNING - full garbage collections took 11% CPU time recently (threshold: 10%)\n",
      "2024-08-12 18:35:15,488 - distributed.utils_perf - WARNING - full garbage collections took 11% CPU time recently (threshold: 10%)\n",
      "2024-08-12 18:35:16,153 - distributed.utils_perf - WARNING - full garbage collections took 11% CPU time recently (threshold: 10%)\n",
      "2024-08-12 18:35:16,886 - distributed.utils_perf - WARNING - full garbage collections took 11% CPU time recently (threshold: 10%)\n",
      "2024-08-12 18:35:18,322 - distributed.utils_perf - WARNING - full garbage collections took 11% CPU time recently (threshold: 10%)\n",
      "2024-08-12 18:35:18,738 - distributed.utils_perf - WARNING - full garbage collections took 11% CPU time recently (threshold: 10%)\n",
      "2024-08-12 18:35:19,099 - distributed.utils_perf - WARNING - full garbage collections took 11% CPU time recently (threshold: 10%)\n",
      "2024-08-12 18:35:20,083 - distributed.utils_perf - WARNING - full garbage collections took 11% CPU time recently (threshold: 10%)\n",
      "2024-08-12 18:35:20,487 - distributed.utils_perf - WARNING - full garbage collections took 11% CPU time recently (threshold: 10%)\n",
      "2024-08-12 18:35:21,730 - distributed.utils_perf - WARNING - full garbage collections took 11% CPU time recently (threshold: 10%)\n",
      "2024-08-12 18:35:22,121 - distributed.utils_perf - WARNING - full garbage collections took 11% CPU time recently (threshold: 10%)\n",
      "2024-08-12 18:35:24,311 - distributed.utils_perf - WARNING - full garbage collections took 11% CPU time recently (threshold: 10%)\n",
      "2024-08-12 18:35:24,927 - distributed.utils_perf - WARNING - full garbage collections took 11% CPU time recently (threshold: 10%)\n",
      "2024-08-12 18:35:25,322 - distributed.utils_perf - WARNING - full garbage collections took 11% CPU time recently (threshold: 10%)\n",
      "2024-08-12 18:35:26,933 - distributed.utils_perf - WARNING - full garbage collections took 11% CPU time recently (threshold: 10%)\n",
      "2024-08-12 18:35:27,769 - distributed.utils_perf - WARNING - full garbage collections took 11% CPU time recently (threshold: 10%)\n",
      "2024-08-12 18:35:28,225 - distributed.utils_perf - WARNING - full garbage collections took 11% CPU time recently (threshold: 10%)\n",
      "2024-08-12 18:35:29,779 - distributed.utils_perf - WARNING - full garbage collections took 11% CPU time recently (threshold: 10%)\n",
      "2024-08-12 18:35:30,677 - distributed.utils_perf - WARNING - full garbage collections took 11% CPU time recently (threshold: 10%)\n",
      "2024-08-12 18:35:31,103 - distributed.utils_perf - WARNING - full garbage collections took 11% CPU time recently (threshold: 10%)\n",
      "2024-08-12 18:35:32,657 - distributed.utils_perf - WARNING - full garbage collections took 11% CPU time recently (threshold: 10%)\n",
      "2024-08-12 18:35:33,218 - distributed.utils_perf - WARNING - full garbage collections took 11% CPU time recently (threshold: 10%)\n",
      "2024-08-12 18:35:33,956 - distributed.utils_perf - WARNING - full garbage collections took 11% CPU time recently (threshold: 10%)\n",
      "2024-08-12 18:35:34,368 - distributed.utils_perf - WARNING - full garbage collections took 11% CPU time recently (threshold: 10%)\n",
      "2024-08-12 18:35:35,627 - distributed.utils_perf - WARNING - full garbage collections took 11% CPU time recently (threshold: 10%)\n",
      "2024-08-12 18:35:36,052 - distributed.utils_perf - WARNING - full garbage collections took 11% CPU time recently (threshold: 10%)\n",
      "2024-08-12 18:35:36,111 - root - INFO: - Training model...\n",
      "2024-08-12 18:35:36,120 - root - INFO: - start listen on 10.91.28.16:47363\n",
      "[18:35:36] task [xgboost.dask-0]:tcp://127.0.0.1:46847 got new rank 0\n",
      "[18:35:36] task [xgboost.dask-1]:tcp://127.0.0.1:44227 got new rank 1\n",
      "[18:35:36] task [xgboost.dask-2]:tcp://127.0.0.1:39251 got new rank 2\n",
      "2024-08-12 18:35:36,162 - root - INFO: - @tracker All of 3 nodes getting started\n",
      "2024-08-12 18:35:58,506 - root - INFO: - @tracker All nodes finishes job\n",
      "2024-08-12 18:35:58,724 - root - INFO: - Running model on test data...\n",
      "2024-08-12 18:36:03,518 - distributed.utils_perf - WARNING - full garbage collections took 11% CPU time recently (threshold: 10%)\n",
      "2024-08-12 18:36:04,138 - distributed.utils_perf - WARNING - full garbage collections took 11% CPU time recently (threshold: 10%)\n",
      "2024-08-12 18:36:06,287 - distributed.utils_perf - WARNING - full garbage collections took 11% CPU time recently (threshold: 10%)\n",
      "2024-08-12 18:36:06,681 - distributed.utils_perf - WARNING - full garbage collections took 11% CPU time recently (threshold: 10%)\n",
      "2024-08-12 18:36:08,781 - distributed.utils_perf - WARNING - full garbage collections took 11% CPU time recently (threshold: 10%)\n",
      "2024-08-12 18:36:10,007 - distributed.utils_perf - WARNING - full garbage collections took 11% CPU time recently (threshold: 10%)\n",
      "2024-08-12 18:36:11,341 - distributed.utils_perf - WARNING - full garbage collections took 11% CPU time recently (threshold: 10%)\n",
      "2024-08-12 18:36:12,670 - distributed.utils_perf - WARNING - full garbage collections took 11% CPU time recently (threshold: 10%)\n",
      "2024-08-12 18:36:12,956 - root - INFO: - Calculating metrics...\n",
      "2024-08-12 18:36:13,033 - root - INFO: - Calculating metrics...Completed\n"
     ]
    },
    {
     "name": "stdout",
     "output_type": "stream",
     "text": [
      "--------------------------------------------------------------------------------\n",
      " train_auc           :   0.96102\n",
      " train_logloss       :   0.22685\n",
      " val_auc             :   0.59359\n",
      " val_logloss         :   0.36514\n",
      " roc_auc             :   0.59359\n",
      " logloss             :   0.36514\n",
      " accuracy            :   0.88066\n",
      " bal_acc             :   0.01344\n",
      " top_k_acc           :   1.00000\n",
      " F1_score            :   0.03363\n",
      " map                 :   0.17551\n",
      " pearson_corr        :   0.12851\n",
      "--------------------------------------------------------------------------------\n",
      "CV Split 1 -  Training files: [0, 1, 2, 6, 7, 8, 9, 10, 11, 12, 13, 14]   Validation files: [3, 4, 5]  \n"
     ]
    },
    {
     "name": "stderr",
     "output_type": "stream",
     "text": [
      "2024-08-12 18:36:21,924 - root - INFO: - CrossValidation split #1\n",
      "2024-08-12 18:36:21,925 - root - INFO: - Building training & validation DMatrix...\n",
      "2024-08-12 18:36:23,638 - distributed.utils_perf - WARNING - full garbage collections took 11% CPU time recently (threshold: 10%)\n",
      "2024-08-12 18:36:24,657 - distributed.utils_perf - WARNING - full garbage collections took 11% CPU time recently (threshold: 10%)\n",
      "2024-08-12 18:36:25,004 - distributed.utils_perf - WARNING - full garbage collections took 11% CPU time recently (threshold: 10%)\n",
      "2024-08-12 18:36:26,517 - distributed.utils_perf - WARNING - full garbage collections took 11% CPU time recently (threshold: 10%)\n",
      "2024-08-12 18:36:27,498 - distributed.utils_perf - WARNING - full garbage collections took 11% CPU time recently (threshold: 10%)\n",
      "2024-08-12 18:36:27,833 - distributed.utils_perf - WARNING - full garbage collections took 11% CPU time recently (threshold: 10%)\n",
      "2024-08-12 18:36:29,016 - distributed.utils_perf - WARNING - full garbage collections took 11% CPU time recently (threshold: 10%)\n",
      "2024-08-12 18:36:29,703 - distributed.utils_perf - WARNING - full garbage collections took 11% CPU time recently (threshold: 10%)\n",
      "2024-08-12 18:36:30,576 - distributed.utils_perf - WARNING - full garbage collections took 11% CPU time recently (threshold: 10%)\n",
      "2024-08-12 18:36:30,908 - distributed.utils_perf - WARNING - full garbage collections took 11% CPU time recently (threshold: 10%)\n",
      "2024-08-12 18:36:32,087 - distributed.utils_perf - WARNING - full garbage collections took 11% CPU time recently (threshold: 10%)\n",
      "2024-08-12 18:36:32,787 - distributed.utils_perf - WARNING - full garbage collections took 11% CPU time recently (threshold: 10%)\n",
      "2024-08-12 18:36:33,668 - distributed.utils_perf - WARNING - full garbage collections took 11% CPU time recently (threshold: 10%)\n",
      "2024-08-12 18:36:34,010 - distributed.utils_perf - WARNING - full garbage collections took 11% CPU time recently (threshold: 10%)\n",
      "2024-08-12 18:36:35,595 - distributed.utils_perf - WARNING - full garbage collections took 11% CPU time recently (threshold: 10%)\n",
      "2024-08-12 18:36:36,507 - distributed.utils_perf - WARNING - full garbage collections took 11% CPU time recently (threshold: 10%)\n",
      "2024-08-12 18:36:36,857 - distributed.utils_perf - WARNING - full garbage collections took 11% CPU time recently (threshold: 10%)\n",
      "2024-08-12 18:36:38,420 - distributed.utils_perf - WARNING - full garbage collections took 11% CPU time recently (threshold: 10%)\n",
      "2024-08-12 18:36:39,326 - distributed.utils_perf - WARNING - full garbage collections took 11% CPU time recently (threshold: 10%)\n",
      "2024-08-12 18:36:39,702 - distributed.utils_perf - WARNING - full garbage collections took 11% CPU time recently (threshold: 10%)\n",
      "2024-08-12 18:36:40,961 - distributed.utils_perf - WARNING - full garbage collections took 11% CPU time recently (threshold: 10%)\n",
      "2024-08-12 18:36:41,630 - distributed.utils_perf - WARNING - full garbage collections took 11% CPU time recently (threshold: 10%)\n",
      "2024-08-12 18:36:42,568 - distributed.utils_perf - WARNING - full garbage collections took 11% CPU time recently (threshold: 10%)\n",
      "2024-08-12 18:36:42,920 - distributed.utils_perf - WARNING - full garbage collections took 11% CPU time recently (threshold: 10%)\n",
      "2024-08-12 18:36:43,287 - distributed.utils_perf - WARNING - full garbage collections took 11% CPU time recently (threshold: 10%)\n",
      "2024-08-12 18:36:44,786 - distributed.utils_perf - WARNING - full garbage collections took 11% CPU time recently (threshold: 10%)\n",
      "2024-08-12 18:36:45,339 - distributed.utils_perf - WARNING - full garbage collections took 11% CPU time recently (threshold: 10%)\n",
      "2024-08-12 18:36:46,089 - distributed.utils_perf - WARNING - full garbage collections took 11% CPU time recently (threshold: 10%)\n",
      "2024-08-12 18:36:46,445 - distributed.utils_perf - WARNING - full garbage collections took 11% CPU time recently (threshold: 10%)\n",
      "2024-08-12 18:36:47,925 - distributed.utils_perf - WARNING - full garbage collections took 11% CPU time recently (threshold: 10%)\n",
      "2024-08-12 18:36:48,284 - distributed.utils_perf - WARNING - full garbage collections took 11% CPU time recently (threshold: 10%)\n",
      "2024-08-12 18:36:49,318 - distributed.utils_perf - WARNING - full garbage collections took 11% CPU time recently (threshold: 10%)\n",
      "2024-08-12 18:36:50,753 - distributed.utils_perf - WARNING - full garbage collections took 11% CPU time recently (threshold: 10%)\n",
      "2024-08-12 18:36:51,384 - distributed.utils_perf - WARNING - full garbage collections took 11% CPU time recently (threshold: 10%)\n",
      "2024-08-12 18:36:52,130 - distributed.utils_perf - WARNING - full garbage collections took 11% CPU time recently (threshold: 10%)\n",
      "2024-08-12 18:36:52,482 - distributed.utils_perf - WARNING - full garbage collections took 11% CPU time recently (threshold: 10%)\n",
      "2024-08-12 18:36:53,951 - distributed.utils_perf - WARNING - full garbage collections took 11% CPU time recently (threshold: 10%)\n",
      "2024-08-12 18:36:55,000 - distributed.utils_perf - WARNING - full garbage collections took 11% CPU time recently (threshold: 10%)\n",
      "2024-08-12 18:36:55,373 - distributed.utils_perf - WARNING - full garbage collections took 11% CPU time recently (threshold: 10%)\n",
      "2024-08-12 18:36:56,853 - distributed.utils_perf - WARNING - full garbage collections took 11% CPU time recently (threshold: 10%)\n",
      "2024-08-12 18:36:57,462 - distributed.utils_perf - WARNING - full garbage collections took 11% CPU time recently (threshold: 10%)\n",
      "2024-08-12 18:36:58,214 - distributed.utils_perf - WARNING - full garbage collections took 11% CPU time recently (threshold: 10%)\n",
      "2024-08-12 18:36:58,619 - distributed.utils_perf - WARNING - full garbage collections took 11% CPU time recently (threshold: 10%)\n",
      "2024-08-12 18:37:00,071 - distributed.utils_perf - WARNING - full garbage collections took 11% CPU time recently (threshold: 10%)\n",
      "2024-08-12 18:37:01,115 - distributed.utils_perf - WARNING - full garbage collections took 11% CPU time recently (threshold: 10%)\n",
      "2024-08-12 18:37:01,500 - distributed.utils_perf - WARNING - full garbage collections took 11% CPU time recently (threshold: 10%)\n",
      "2024-08-12 18:37:01,902 - distributed.utils_perf - WARNING - full garbage collections took 11% CPU time recently (threshold: 10%)\n",
      "2024-08-12 18:37:02,956 - distributed.utils_perf - WARNING - full garbage collections took 11% CPU time recently (threshold: 10%)\n",
      "2024-08-12 18:37:04,346 - distributed.utils_perf - WARNING - full garbage collections took 11% CPU time recently (threshold: 10%)\n",
      "2024-08-12 18:37:04,716 - distributed.utils_perf - WARNING - full garbage collections took 11% CPU time recently (threshold: 10%)\n",
      "2024-08-12 18:37:05,120 - distributed.utils_perf - WARNING - full garbage collections took 11% CPU time recently (threshold: 10%)\n",
      "2024-08-12 18:37:06,510 - distributed.utils_perf - WARNING - full garbage collections took 11% CPU time recently (threshold: 10%)\n",
      "2024-08-12 18:37:07,221 - distributed.utils_perf - WARNING - full garbage collections took 11% CPU time recently (threshold: 10%)\n",
      "2024-08-12 18:37:07,963 - distributed.utils_perf - WARNING - full garbage collections took 11% CPU time recently (threshold: 10%)\n",
      "2024-08-12 18:37:08,387 - distributed.utils_perf - WARNING - full garbage collections took 11% CPU time recently (threshold: 10%)\n",
      "2024-08-12 18:37:09,786 - distributed.utils_perf - WARNING - full garbage collections took 11% CPU time recently (threshold: 10%)\n",
      "2024-08-12 18:37:10,827 - distributed.utils_perf - WARNING - full garbage collections took 11% CPU time recently (threshold: 10%)\n",
      "2024-08-12 18:37:11,172 - distributed.utils_perf - WARNING - full garbage collections took 11% CPU time recently (threshold: 10%)\n",
      "2024-08-12 18:37:11,538 - distributed.utils_perf - WARNING - full garbage collections took 11% CPU time recently (threshold: 10%)\n",
      "2024-08-12 18:37:12,536 - distributed.utils_perf - WARNING - full garbage collections took 11% CPU time recently (threshold: 10%)\n",
      "2024-08-12 18:37:13,224 - distributed.utils_perf - WARNING - full garbage collections took 11% CPU time recently (threshold: 10%)\n",
      "2024-08-12 18:37:14,264 - distributed.utils_perf - WARNING - full garbage collections took 11% CPU time recently (threshold: 10%)\n",
      "2024-08-12 18:37:14,649 - distributed.utils_perf - WARNING - full garbage collections took 11% CPU time recently (threshold: 10%)\n",
      "2024-08-12 18:37:15,814 - distributed.utils_perf - WARNING - full garbage collections took 11% CPU time recently (threshold: 10%)\n",
      "2024-08-12 18:37:16,177 - distributed.utils_perf - WARNING - full garbage collections took 11% CPU time recently (threshold: 10%)\n",
      "2024-08-12 18:37:18,329 - distributed.utils_perf - WARNING - full garbage collections took 11% CPU time recently (threshold: 10%)\n",
      "2024-08-12 18:37:19,021 - distributed.utils_perf - WARNING - full garbage collections took 11% CPU time recently (threshold: 10%)\n",
      "2024-08-12 18:37:19,430 - distributed.utils_perf - WARNING - full garbage collections took 11% CPU time recently (threshold: 10%)\n",
      "2024-08-12 18:37:21,134 - distributed.utils_perf - WARNING - full garbage collections took 11% CPU time recently (threshold: 10%)\n",
      "2024-08-12 18:37:21,953 - distributed.utils_perf - WARNING - full garbage collections took 11% CPU time recently (threshold: 10%)\n",
      "2024-08-12 18:37:22,369 - distributed.utils_perf - WARNING - full garbage collections took 11% CPU time recently (threshold: 10%)\n",
      "2024-08-12 18:37:23,929 - distributed.utils_perf - WARNING - full garbage collections took 11% CPU time recently (threshold: 10%)\n",
      "2024-08-12 18:37:24,835 - distributed.utils_perf - WARNING - full garbage collections took 11% CPU time recently (threshold: 10%)\n",
      "2024-08-12 18:37:25,232 - distributed.utils_perf - WARNING - full garbage collections took 11% CPU time recently (threshold: 10%)\n",
      "2024-08-12 18:37:26,536 - distributed.utils_perf - WARNING - full garbage collections took 11% CPU time recently (threshold: 10%)\n",
      "2024-08-12 18:37:27,201 - distributed.utils_perf - WARNING - full garbage collections took 11% CPU time recently (threshold: 10%)\n",
      "2024-08-12 18:37:28,163 - distributed.utils_perf - WARNING - full garbage collections took 11% CPU time recently (threshold: 10%)\n",
      "2024-08-12 18:37:28,578 - distributed.utils_perf - WARNING - full garbage collections took 11% CPU time recently (threshold: 10%)\n",
      "2024-08-12 18:37:29,542 - distributed.utils_perf - WARNING - full garbage collections took 11% CPU time recently (threshold: 10%)\n",
      "2024-08-12 18:37:30,232 - distributed.utils_perf - WARNING - full garbage collections took 11% CPU time recently (threshold: 10%)\n",
      "2024-08-12 18:37:30,324 - root - INFO: - Training model...\n",
      "2024-08-12 18:37:30,336 - root - INFO: - start listen on 10.91.28.16:49763\n",
      "[18:37:30] task [xgboost.dask-0]:tcp://127.0.0.1:46847 got new rank 0\n",
      "[18:37:30] task [xgboost.dask-1]:tcp://127.0.0.1:44227 got new rank 1\n",
      "[18:37:30] task [xgboost.dask-2]:tcp://127.0.0.1:39251 got new rank 2\n",
      "2024-08-12 18:37:30,374 - root - INFO: - @tracker All of 3 nodes getting started\n",
      "2024-08-12 18:37:51,590 - root - INFO: - @tracker All nodes finishes job\n",
      "2024-08-12 18:37:51,927 - root - INFO: - Running model on test data...\n",
      "2024-08-12 18:37:56,695 - distributed.utils_perf - WARNING - full garbage collections took 11% CPU time recently (threshold: 10%)\n",
      "2024-08-12 18:37:57,441 - distributed.utils_perf - WARNING - full garbage collections took 11% CPU time recently (threshold: 10%)\n",
      "2024-08-12 18:37:59,202 - distributed.utils_perf - WARNING - full garbage collections took 11% CPU time recently (threshold: 10%)\n",
      "2024-08-12 18:37:59,960 - distributed.utils_perf - WARNING - full garbage collections took 11% CPU time recently (threshold: 10%)\n",
      "2024-08-12 18:38:01,549 - distributed.utils_perf - WARNING - full garbage collections took 11% CPU time recently (threshold: 10%)\n",
      "2024-08-12 18:38:02,508 - distributed.utils_perf - WARNING - full garbage collections took 11% CPU time recently (threshold: 10%)\n",
      "2024-08-12 18:38:04,255 - distributed.utils_perf - WARNING - full garbage collections took 11% CPU time recently (threshold: 10%)\n",
      "2024-08-12 18:38:06,288 - root - INFO: - Calculating metrics...\n",
      "2024-08-12 18:38:06,364 - root - INFO: - Calculating metrics...Completed\n"
     ]
    },
    {
     "name": "stdout",
     "output_type": "stream",
     "text": [
      "--------------------------------------------------------------------------------\n",
      " train_auc           :   0.95471\n",
      " train_logloss       :   0.23352\n",
      " val_auc             :   0.60026\n",
      " val_logloss         :   0.36160\n",
      " roc_auc             :   0.60030\n",
      " logloss             :   0.36160\n",
      " accuracy            :   0.88116\n",
      " bal_acc             :   0.01509\n",
      " top_k_acc           :   1.00000\n",
      " F1_score            :   0.03702\n",
      " map                 :   0.17763\n",
      " pearson_corr        :   0.13442\n",
      "--------------------------------------------------------------------------------\n",
      "CV Split 2 -  Training files: [0, 1, 2, 3, 4, 5, 9, 10, 11, 12, 13, 14]   Validation files: [6, 7, 8]  \n"
     ]
    },
    {
     "name": "stderr",
     "output_type": "stream",
     "text": [
      "2024-08-12 18:38:14,440 - root - INFO: - CrossValidation split #2\n",
      "2024-08-12 18:38:14,443 - root - INFO: - Building training & validation DMatrix...\n",
      "2024-08-12 18:38:16,534 - distributed.utils_perf - WARNING - full garbage collections took 11% CPU time recently (threshold: 10%)\n",
      "2024-08-12 18:38:17,705 - distributed.utils_perf - WARNING - full garbage collections took 11% CPU time recently (threshold: 10%)\n",
      "2024-08-12 18:38:19,508 - distributed.utils_perf - WARNING - full garbage collections took 11% CPU time recently (threshold: 10%)\n",
      "2024-08-12 18:38:21,368 - distributed.utils_perf - WARNING - full garbage collections took 11% CPU time recently (threshold: 10%)\n",
      "2024-08-12 18:38:22,333 - distributed.utils_perf - WARNING - full garbage collections took 11% CPU time recently (threshold: 10%)\n",
      "2024-08-12 18:38:24,081 - distributed.utils_perf - WARNING - full garbage collections took 11% CPU time recently (threshold: 10%)\n",
      "2024-08-12 18:38:26,075 - distributed.utils_perf - WARNING - full garbage collections took 11% CPU time recently (threshold: 10%)\n",
      "2024-08-12 18:38:28,208 - distributed.utils_perf - WARNING - full garbage collections took 11% CPU time recently (threshold: 10%)\n",
      "2024-08-12 18:38:29,064 - distributed.utils_perf - WARNING - full garbage collections took 11% CPU time recently (threshold: 10%)\n",
      "2024-08-12 18:38:31,122 - distributed.utils_perf - WARNING - full garbage collections took 11% CPU time recently (threshold: 10%)\n",
      "2024-08-12 18:38:32,628 - distributed.utils_perf - WARNING - full garbage collections took 11% CPU time recently (threshold: 10%)\n",
      "2024-08-12 18:38:34,650 - distributed.utils_perf - WARNING - full garbage collections took 11% CPU time recently (threshold: 10%)\n",
      "2024-08-12 18:38:36,298 - distributed.utils_perf - WARNING - full garbage collections took 11% CPU time recently (threshold: 10%)\n",
      "2024-08-12 18:38:37,533 - distributed.utils_perf - WARNING - full garbage collections took 11% CPU time recently (threshold: 10%)\n",
      "2024-08-12 18:38:39,204 - distributed.utils_perf - WARNING - full garbage collections took 11% CPU time recently (threshold: 10%)\n",
      "2024-08-12 18:38:41,045 - distributed.utils_perf - WARNING - full garbage collections took 11% CPU time recently (threshold: 10%)\n",
      "2024-08-12 18:38:43,111 - distributed.utils_perf - WARNING - full garbage collections took 11% CPU time recently (threshold: 10%)\n",
      "2024-08-12 18:38:44,069 - distributed.utils_perf - WARNING - full garbage collections took 11% CPU time recently (threshold: 10%)\n",
      "2024-08-12 18:38:46,165 - distributed.utils_perf - WARNING - full garbage collections took 11% CPU time recently (threshold: 10%)\n",
      "2024-08-12 18:38:48,307 - distributed.utils_perf - WARNING - full garbage collections took 11% CPU time recently (threshold: 10%)\n",
      "2024-08-12 18:38:50,056 - distributed.utils_perf - WARNING - full garbage collections took 11% CPU time recently (threshold: 10%)\n",
      "2024-08-12 18:38:51,886 - distributed.utils_perf - WARNING - full garbage collections took 11% CPU time recently (threshold: 10%)\n",
      "2024-08-12 18:38:52,905 - distributed.utils_perf - WARNING - full garbage collections took 11% CPU time recently (threshold: 10%)\n",
      "2024-08-12 18:38:53,311 - distributed.utils_perf - WARNING - full garbage collections took 11% CPU time recently (threshold: 10%)\n",
      "2024-08-12 18:38:53,707 - distributed.utils_perf - WARNING - full garbage collections took 11% CPU time recently (threshold: 10%)\n",
      "2024-08-12 18:38:54,095 - distributed.utils_perf - WARNING - full garbage collections took 11% CPU time recently (threshold: 10%)\n",
      "2024-08-12 18:38:54,532 - distributed.utils_perf - WARNING - full garbage collections took 11% CPU time recently (threshold: 10%)\n",
      "2024-08-12 18:38:54,932 - distributed.utils_perf - WARNING - full garbage collections took 11% CPU time recently (threshold: 10%)\n",
      "2024-08-12 18:38:55,329 - distributed.utils_perf - WARNING - full garbage collections took 11% CPU time recently (threshold: 10%)\n",
      "2024-08-12 18:38:55,737 - distributed.utils_perf - WARNING - full garbage collections took 11% CPU time recently (threshold: 10%)\n",
      "2024-08-12 18:38:56,130 - distributed.utils_perf - WARNING - full garbage collections took 11% CPU time recently (threshold: 10%)\n",
      "2024-08-12 18:38:56,551 - distributed.utils_perf - WARNING - full garbage collections took 11% CPU time recently (threshold: 10%)\n",
      "2024-08-12 18:38:56,964 - distributed.utils_perf - WARNING - full garbage collections took 11% CPU time recently (threshold: 10%)\n",
      "2024-08-12 18:38:57,366 - distributed.utils_perf - WARNING - full garbage collections took 11% CPU time recently (threshold: 10%)\n",
      "2024-08-12 18:38:57,754 - distributed.utils_perf - WARNING - full garbage collections took 11% CPU time recently (threshold: 10%)\n",
      "2024-08-12 18:38:58,165 - distributed.utils_perf - WARNING - full garbage collections took 11% CPU time recently (threshold: 10%)\n",
      "2024-08-12 18:38:58,562 - distributed.utils_perf - WARNING - full garbage collections took 11% CPU time recently (threshold: 10%)\n",
      "2024-08-12 18:38:58,999 - distributed.utils_perf - WARNING - full garbage collections took 11% CPU time recently (threshold: 10%)\n",
      "2024-08-12 18:38:59,418 - distributed.utils_perf - WARNING - full garbage collections took 11% CPU time recently (threshold: 10%)\n",
      "2024-08-12 18:38:59,844 - distributed.utils_perf - WARNING - full garbage collections took 11% CPU time recently (threshold: 10%)\n",
      "2024-08-12 18:39:00,263 - distributed.utils_perf - WARNING - full garbage collections took 11% CPU time recently (threshold: 10%)\n",
      "2024-08-12 18:39:00,689 - distributed.utils_perf - WARNING - full garbage collections took 11% CPU time recently (threshold: 10%)\n",
      "2024-08-12 18:39:01,099 - distributed.utils_perf - WARNING - full garbage collections took 11% CPU time recently (threshold: 10%)\n",
      "2024-08-12 18:39:01,519 - distributed.utils_perf - WARNING - full garbage collections took 11% CPU time recently (threshold: 10%)\n",
      "2024-08-12 18:39:01,918 - distributed.utils_perf - WARNING - full garbage collections took 11% CPU time recently (threshold: 10%)\n",
      "2024-08-12 18:39:02,326 - distributed.utils_perf - WARNING - full garbage collections took 11% CPU time recently (threshold: 10%)\n",
      "2024-08-12 18:39:02,725 - distributed.utils_perf - WARNING - full garbage collections took 11% CPU time recently (threshold: 10%)\n",
      "2024-08-12 18:39:03,179 - distributed.utils_perf - WARNING - full garbage collections took 11% CPU time recently (threshold: 10%)\n",
      "2024-08-12 18:39:03,567 - distributed.utils_perf - WARNING - full garbage collections took 11% CPU time recently (threshold: 10%)\n",
      "2024-08-12 18:39:03,982 - distributed.utils_perf - WARNING - full garbage collections took 11% CPU time recently (threshold: 10%)\n",
      "2024-08-12 18:39:04,379 - distributed.utils_perf - WARNING - full garbage collections took 11% CPU time recently (threshold: 10%)\n",
      "2024-08-12 18:39:04,821 - distributed.utils_perf - WARNING - full garbage collections took 11% CPU time recently (threshold: 10%)\n",
      "2024-08-12 18:39:05,215 - distributed.utils_perf - WARNING - full garbage collections took 11% CPU time recently (threshold: 10%)\n",
      "2024-08-12 18:39:05,633 - distributed.utils_perf - WARNING - full garbage collections took 11% CPU time recently (threshold: 10%)\n",
      "2024-08-12 18:39:06,030 - distributed.utils_perf - WARNING - full garbage collections took 11% CPU time recently (threshold: 10%)\n",
      "2024-08-12 18:39:06,438 - distributed.utils_perf - WARNING - full garbage collections took 11% CPU time recently (threshold: 10%)\n",
      "2024-08-12 18:39:06,874 - distributed.utils_perf - WARNING - full garbage collections took 11% CPU time recently (threshold: 10%)\n",
      "2024-08-12 18:39:07,283 - distributed.utils_perf - WARNING - full garbage collections took 11% CPU time recently (threshold: 10%)\n",
      "2024-08-12 18:39:07,688 - distributed.utils_perf - WARNING - full garbage collections took 11% CPU time recently (threshold: 10%)\n",
      "2024-08-12 18:39:08,544 - distributed.utils_perf - WARNING - full garbage collections took 11% CPU time recently (threshold: 10%)\n",
      "2024-08-12 18:39:10,227 - distributed.utils_perf - WARNING - full garbage collections took 11% CPU time recently (threshold: 10%)\n",
      "2024-08-12 18:39:11,412 - distributed.utils_perf - WARNING - full garbage collections took 11% CPU time recently (threshold: 10%)\n",
      "2024-08-12 18:39:11,816 - distributed.utils_perf - WARNING - full garbage collections took 11% CPU time recently (threshold: 10%)\n",
      "2024-08-12 18:39:13,472 - distributed.utils_perf - WARNING - full garbage collections took 11% CPU time recently (threshold: 10%)\n",
      "2024-08-12 18:39:14,327 - distributed.utils_perf - WARNING - full garbage collections took 11% CPU time recently (threshold: 10%)\n",
      "2024-08-12 18:39:14,731 - distributed.utils_perf - WARNING - full garbage collections took 11% CPU time recently (threshold: 10%)\n",
      "2024-08-12 18:39:16,322 - distributed.utils_perf - WARNING - full garbage collections took 11% CPU time recently (threshold: 10%)\n",
      "2024-08-12 18:39:17,199 - distributed.utils_perf - WARNING - full garbage collections took 11% CPU time recently (threshold: 10%)\n",
      "2024-08-12 18:39:17,647 - distributed.utils_perf - WARNING - full garbage collections took 11% CPU time recently (threshold: 10%)\n",
      "2024-08-12 18:39:19,189 - distributed.utils_perf - WARNING - full garbage collections took 11% CPU time recently (threshold: 10%)\n",
      "2024-08-12 18:39:19,598 - distributed.utils_perf - WARNING - full garbage collections took 11% CPU time recently (threshold: 10%)\n",
      "2024-08-12 18:39:20,546 - distributed.utils_perf - WARNING - full garbage collections took 11% CPU time recently (threshold: 10%)\n",
      "2024-08-12 18:39:20,987 - distributed.utils_perf - WARNING - full garbage collections took 11% CPU time recently (threshold: 10%)\n",
      "2024-08-12 18:39:22,369 - distributed.utils_perf - WARNING - full garbage collections took 11% CPU time recently (threshold: 10%)\n",
      "2024-08-12 18:39:22,691 - root - INFO: - Training model...\n",
      "2024-08-12 18:39:22,699 - root - INFO: - start listen on 10.91.28.16:38701\n",
      "[18:39:22] task [xgboost.dask-0]:tcp://127.0.0.1:46847 got new rank 0\n",
      "[18:39:22] task [xgboost.dask-1]:tcp://127.0.0.1:44227 got new rank 1\n",
      "[18:39:22] task [xgboost.dask-2]:tcp://127.0.0.1:39251 got new rank 2\n",
      "2024-08-12 18:39:22,738 - root - INFO: - @tracker All of 3 nodes getting started\n",
      "2024-08-12 18:39:45,086 - root - INFO: - @tracker All nodes finishes job\n",
      "2024-08-12 18:39:45,316 - root - INFO: - Running model on test data...\n",
      "2024-08-12 18:39:49,402 - distributed.utils_perf - WARNING - full garbage collections took 11% CPU time recently (threshold: 10%)\n",
      "2024-08-12 18:39:50,527 - distributed.utils_perf - WARNING - full garbage collections took 11% CPU time recently (threshold: 10%)\n",
      "2024-08-12 18:39:52,231 - distributed.utils_perf - WARNING - full garbage collections took 11% CPU time recently (threshold: 10%)\n",
      "2024-08-12 18:39:53,083 - distributed.utils_perf - WARNING - full garbage collections took 11% CPU time recently (threshold: 10%)\n",
      "2024-08-12 18:39:54,887 - distributed.utils_perf - WARNING - full garbage collections took 11% CPU time recently (threshold: 10%)\n",
      "2024-08-12 18:39:55,672 - distributed.utils_perf - WARNING - full garbage collections took 11% CPU time recently (threshold: 10%)\n",
      "2024-08-12 18:39:57,457 - distributed.utils_perf - WARNING - full garbage collections took 11% CPU time recently (threshold: 10%)\n",
      "2024-08-12 18:39:58,236 - distributed.utils_perf - WARNING - full garbage collections took 11% CPU time recently (threshold: 10%)\n",
      "2024-08-12 18:39:59,416 - root - INFO: - Calculating metrics...\n",
      "2024-08-12 18:39:59,494 - root - INFO: - Calculating metrics...Completed\n"
     ]
    },
    {
     "name": "stdout",
     "output_type": "stream",
     "text": [
      "--------------------------------------------------------------------------------\n",
      " train_auc           :   0.95966\n",
      " train_logloss       :   0.22805\n",
      " val_auc             :   0.59626\n",
      " val_logloss         :   0.37087\n",
      " roc_auc             :   0.59697\n",
      " logloss             :   0.37087\n",
      " accuracy            :   0.87738\n",
      " bal_acc             :   0.01421\n",
      " top_k_acc           :   1.00000\n",
      " F1_score            :   0.03491\n",
      " map                 :   0.18363\n",
      " pearson_corr        :   0.13595\n",
      "--------------------------------------------------------------------------------\n",
      "CV Split 3 -  Training files: [0, 1, 2, 3, 4, 5, 6, 7, 8, 12, 13, 14]   Validation files: [9, 10, 11]  \n"
     ]
    },
    {
     "name": "stderr",
     "output_type": "stream",
     "text": [
      "2024-08-12 18:40:07,208 - root - INFO: - CrossValidation split #3\n",
      "2024-08-12 18:40:07,210 - root - INFO: - Building training & validation DMatrix...\n",
      "2024-08-12 18:40:08,821 - distributed.utils_perf - WARNING - full garbage collections took 11% CPU time recently (threshold: 10%)\n",
      "2024-08-12 18:40:10,055 - distributed.utils_perf - WARNING - full garbage collections took 11% CPU time recently (threshold: 10%)\n",
      "2024-08-12 18:40:12,311 - distributed.utils_perf - WARNING - full garbage collections took 11% CPU time recently (threshold: 10%)\n",
      "2024-08-12 18:40:14,454 - distributed.utils_perf - WARNING - full garbage collections took 11% CPU time recently (threshold: 10%)\n",
      "2024-08-12 18:40:16,599 - distributed.utils_perf - WARNING - full garbage collections took 11% CPU time recently (threshold: 10%)\n",
      "2024-08-12 18:40:18,720 - distributed.utils_perf - WARNING - full garbage collections took 11% CPU time recently (threshold: 10%)\n",
      "2024-08-12 18:40:20,942 - distributed.utils_perf - WARNING - full garbage collections took 11% CPU time recently (threshold: 10%)\n",
      "2024-08-12 18:40:23,216 - distributed.utils_perf - WARNING - full garbage collections took 11% CPU time recently (threshold: 10%)\n",
      "2024-08-12 18:40:25,355 - distributed.utils_perf - WARNING - full garbage collections took 11% CPU time recently (threshold: 10%)\n",
      "2024-08-12 18:40:27,849 - distributed.utils_perf - WARNING - full garbage collections took 11% CPU time recently (threshold: 10%)\n",
      "2024-08-12 18:40:29,975 - distributed.utils_perf - WARNING - full garbage collections took 11% CPU time recently (threshold: 10%)\n",
      "2024-08-12 18:40:32,115 - distributed.utils_perf - WARNING - full garbage collections took 11% CPU time recently (threshold: 10%)\n",
      "2024-08-12 18:40:34,276 - distributed.utils_perf - WARNING - full garbage collections took 11% CPU time recently (threshold: 10%)\n",
      "2024-08-12 18:40:36,447 - distributed.utils_perf - WARNING - full garbage collections took 11% CPU time recently (threshold: 10%)\n",
      "2024-08-12 18:40:38,652 - distributed.utils_perf - WARNING - full garbage collections took 11% CPU time recently (threshold: 10%)\n",
      "2024-08-12 18:40:41,604 - distributed.utils_perf - WARNING - full garbage collections took 11% CPU time recently (threshold: 10%)\n",
      "2024-08-12 18:40:43,853 - distributed.utils_perf - WARNING - full garbage collections took 11% CPU time recently (threshold: 10%)\n",
      "2024-08-12 18:40:45,530 - distributed.utils_perf - WARNING - full garbage collections took 11% CPU time recently (threshold: 10%)\n",
      "2024-08-12 18:40:46,054 - distributed.utils_perf - WARNING - full garbage collections took 11% CPU time recently (threshold: 10%)\n",
      "2024-08-12 18:40:46,561 - distributed.utils_perf - WARNING - full garbage collections took 11% CPU time recently (threshold: 10%)\n",
      "2024-08-12 18:40:47,061 - distributed.utils_perf - WARNING - full garbage collections took 11% CPU time recently (threshold: 10%)\n",
      "2024-08-12 18:40:47,564 - distributed.utils_perf - WARNING - full garbage collections took 11% CPU time recently (threshold: 10%)\n",
      "2024-08-12 18:40:48,090 - distributed.utils_perf - WARNING - full garbage collections took 11% CPU time recently (threshold: 10%)\n",
      "2024-08-12 18:40:48,591 - distributed.utils_perf - WARNING - full garbage collections took 11% CPU time recently (threshold: 10%)\n",
      "2024-08-12 18:40:49,079 - distributed.utils_perf - WARNING - full garbage collections took 11% CPU time recently (threshold: 10%)\n",
      "2024-08-12 18:40:49,606 - distributed.utils_perf - WARNING - full garbage collections took 11% CPU time recently (threshold: 10%)\n",
      "2024-08-12 18:40:50,105 - distributed.utils_perf - WARNING - full garbage collections took 11% CPU time recently (threshold: 10%)\n",
      "2024-08-12 18:40:50,799 - distributed.utils_perf - WARNING - full garbage collections took 11% CPU time recently (threshold: 10%)\n",
      "2024-08-12 18:40:51,286 - distributed.utils_perf - WARNING - full garbage collections took 11% CPU time recently (threshold: 10%)\n",
      "2024-08-12 18:40:51,788 - distributed.utils_perf - WARNING - full garbage collections took 11% CPU time recently (threshold: 10%)\n",
      "2024-08-12 18:40:52,280 - distributed.utils_perf - WARNING - full garbage collections took 11% CPU time recently (threshold: 10%)\n",
      "2024-08-12 18:40:52,860 - distributed.utils_perf - WARNING - full garbage collections took 11% CPU time recently (threshold: 10%)\n",
      "2024-08-12 18:40:53,354 - distributed.utils_perf - WARNING - full garbage collections took 11% CPU time recently (threshold: 10%)\n",
      "2024-08-12 18:40:53,855 - distributed.utils_perf - WARNING - full garbage collections took 11% CPU time recently (threshold: 10%)\n",
      "2024-08-12 18:40:54,341 - distributed.utils_perf - WARNING - full garbage collections took 11% CPU time recently (threshold: 10%)\n",
      "2024-08-12 18:40:54,867 - distributed.utils_perf - WARNING - full garbage collections took 11% CPU time recently (threshold: 10%)\n",
      "2024-08-12 18:40:55,543 - distributed.utils_perf - WARNING - full garbage collections took 11% CPU time recently (threshold: 10%)\n",
      "2024-08-12 18:40:56,142 - distributed.utils_perf - WARNING - full garbage collections took 11% CPU time recently (threshold: 10%)\n",
      "2024-08-12 18:40:56,801 - distributed.utils_perf - WARNING - full garbage collections took 11% CPU time recently (threshold: 10%)\n",
      "2024-08-12 18:40:57,283 - distributed.utils_perf - WARNING - full garbage collections took 11% CPU time recently (threshold: 10%)\n",
      "2024-08-12 18:40:57,808 - distributed.utils_perf - WARNING - full garbage collections took 11% CPU time recently (threshold: 10%)\n",
      "2024-08-12 18:40:58,339 - distributed.utils_perf - WARNING - full garbage collections took 11% CPU time recently (threshold: 10%)\n",
      "2024-08-12 18:40:58,955 - distributed.utils_perf - WARNING - full garbage collections took 11% CPU time recently (threshold: 10%)\n",
      "2024-08-12 18:40:59,429 - distributed.utils_perf - WARNING - full garbage collections took 11% CPU time recently (threshold: 10%)\n",
      "2024-08-12 18:40:59,900 - distributed.utils_perf - WARNING - full garbage collections took 11% CPU time recently (threshold: 10%)\n",
      "2024-08-12 18:41:00,350 - distributed.utils_perf - WARNING - full garbage collections took 11% CPU time recently (threshold: 10%)\n",
      "2024-08-12 18:41:01,000 - distributed.utils_perf - WARNING - full garbage collections took 11% CPU time recently (threshold: 10%)\n",
      "2024-08-12 18:41:01,506 - distributed.utils_perf - WARNING - full garbage collections took 11% CPU time recently (threshold: 10%)\n",
      "2024-08-12 18:41:01,917 - distributed.utils_perf - WARNING - full garbage collections took 11% CPU time recently (threshold: 10%)\n",
      "2024-08-12 18:41:02,330 - distributed.utils_perf - WARNING - full garbage collections took 11% CPU time recently (threshold: 10%)\n",
      "2024-08-12 18:41:04,785 - distributed.utils_perf - WARNING - full garbage collections took 11% CPU time recently (threshold: 10%)\n",
      "2024-08-12 18:41:07,377 - distributed.utils_perf - WARNING - full garbage collections took 11% CPU time recently (threshold: 10%)\n",
      "2024-08-12 18:41:09,679 - distributed.utils_perf - WARNING - full garbage collections took 11% CPU time recently (threshold: 10%)\n",
      "2024-08-12 18:41:11,946 - distributed.utils_perf - WARNING - full garbage collections took 11% CPU time recently (threshold: 10%)\n",
      "2024-08-12 18:41:12,446 - distributed.utils_perf - WARNING - full garbage collections took 11% CPU time recently (threshold: 10%)\n",
      "2024-08-12 18:41:12,927 - distributed.utils_perf - WARNING - full garbage collections took 11% CPU time recently (threshold: 10%)\n",
      "2024-08-12 18:41:13,468 - distributed.utils_perf - WARNING - full garbage collections took 11% CPU time recently (threshold: 10%)\n",
      "2024-08-12 18:41:14,081 - distributed.utils_perf - WARNING - full garbage collections took 11% CPU time recently (threshold: 10%)\n",
      "2024-08-12 18:41:14,593 - distributed.utils_perf - WARNING - full garbage collections took 11% CPU time recently (threshold: 10%)\n",
      "2024-08-12 18:41:15,132 - distributed.utils_perf - WARNING - full garbage collections took 11% CPU time recently (threshold: 10%)\n",
      "2024-08-12 18:41:16,311 - distributed.utils_perf - WARNING - full garbage collections took 11% CPU time recently (threshold: 10%)\n",
      "2024-08-12 18:41:16,754 - distributed.utils_perf - WARNING - full garbage collections took 11% CPU time recently (threshold: 10%)\n",
      "2024-08-12 18:41:16,776 - root - INFO: - Training model...\n",
      "2024-08-12 18:41:16,784 - root - INFO: - start listen on 10.91.28.16:42461\n",
      "[18:41:16] task [xgboost.dask-0]:tcp://127.0.0.1:46847 got new rank 0\n",
      "[18:41:16] task [xgboost.dask-1]:tcp://127.0.0.1:44227 got new rank 1\n",
      "[18:41:16] task [xgboost.dask-2]:tcp://127.0.0.1:39251 got new rank 2\n",
      "2024-08-12 18:41:16,831 - root - INFO: - @tracker All of 3 nodes getting started\n",
      "2024-08-12 18:41:20,410 - distributed.worker.memory - WARNING - Unmanaged memory use is high. This may indicate a memory leak or the memory may not be released to the OS; see https://distributed.dask.org/en/latest/worker-memory.html#memory-not-released-back-to-the-os for more information. -- Unmanaged memory: 3.70 GiB -- Worker memory limit: 5.59 GiB\n",
      "2024-08-12 18:41:38,702 - root - INFO: - @tracker All nodes finishes job\n",
      "2024-08-12 18:41:38,927 - root - INFO: - Running model on test data...\n",
      "2024-08-12 18:41:44,915 - distributed.utils_perf - WARNING - full garbage collections took 11% CPU time recently (threshold: 10%)\n",
      "2024-08-12 18:41:48,080 - distributed.utils_perf - WARNING - full garbage collections took 11% CPU time recently (threshold: 10%)\n",
      "2024-08-12 18:41:50,401 - distributed.utils_perf - WARNING - full garbage collections took 11% CPU time recently (threshold: 10%)\n",
      "2024-08-12 18:41:51,858 - distributed.utils_perf - WARNING - full garbage collections took 11% CPU time recently (threshold: 10%)\n",
      "2024-08-12 18:41:52,383 - distributed.utils_perf - WARNING - full garbage collections took 11% CPU time recently (threshold: 10%)\n",
      "2024-08-12 18:41:53,571 - distributed.utils_perf - WARNING - full garbage collections took 11% CPU time recently (threshold: 10%)\n",
      "2024-08-12 18:41:54,503 - root - INFO: - Calculating metrics...\n",
      "2024-08-12 18:41:54,579 - root - INFO: - Calculating metrics...Completed\n"
     ]
    },
    {
     "name": "stdout",
     "output_type": "stream",
     "text": [
      "--------------------------------------------------------------------------------\n",
      " train_auc           :   0.95374\n",
      " train_logloss       :   0.23328\n",
      " val_auc             :   0.59037\n",
      " val_logloss         :   0.36825\n",
      " roc_auc             :   0.59028\n",
      " logloss             :   0.36825\n",
      " accuracy            :   0.87903\n",
      " bal_acc             :   0.01397\n",
      " top_k_acc           :   1.00000\n",
      " F1_score            :   0.03484\n",
      " map                 :   0.17470\n",
      " pearson_corr        :   0.12422\n",
      "--------------------------------------------------------------------------------\n",
      "CV Split 4 -  Training files: [0, 1, 2, 3, 4, 5, 6, 7, 8, 9, 10, 11]   Validation files: [12, 13, 14]  \n"
     ]
    },
    {
     "name": "stderr",
     "output_type": "stream",
     "text": [
      "2024-08-12 18:42:03,109 - root - INFO: - CrossValidation split #4\n",
      "2024-08-12 18:42:03,110 - root - INFO: - Building training & validation DMatrix...\n",
      "2024-08-12 18:42:05,055 - distributed.utils_perf - WARNING - full garbage collections took 11% CPU time recently (threshold: 10%)\n",
      "2024-08-12 18:42:05,950 - distributed.utils_perf - WARNING - full garbage collections took 11% CPU time recently (threshold: 10%)\n",
      "2024-08-12 18:42:06,333 - distributed.utils_perf - WARNING - full garbage collections took 11% CPU time recently (threshold: 10%)\n",
      "2024-08-12 18:42:08,109 - distributed.utils_perf - WARNING - full garbage collections took 11% CPU time recently (threshold: 10%)\n",
      "2024-08-12 18:42:08,915 - distributed.utils_perf - WARNING - full garbage collections took 11% CPU time recently (threshold: 10%)\n",
      "2024-08-12 18:42:09,285 - distributed.utils_perf - WARNING - full garbage collections took 11% CPU time recently (threshold: 10%)\n",
      "2024-08-12 18:42:10,952 - distributed.utils_perf - WARNING - full garbage collections took 11% CPU time recently (threshold: 10%)\n",
      "2024-08-12 18:42:11,838 - distributed.utils_perf - WARNING - full garbage collections took 11% CPU time recently (threshold: 10%)\n",
      "2024-08-12 18:42:12,203 - distributed.utils_perf - WARNING - full garbage collections took 11% CPU time recently (threshold: 10%)\n",
      "2024-08-12 18:42:13,524 - distributed.utils_perf - WARNING - full garbage collections took 11% CPU time recently (threshold: 10%)\n",
      "2024-08-12 18:42:14,161 - distributed.utils_perf - WARNING - full garbage collections took 11% CPU time recently (threshold: 10%)\n",
      "2024-08-12 18:42:15,075 - distributed.utils_perf - WARNING - full garbage collections took 11% CPU time recently (threshold: 10%)\n",
      "2024-08-12 18:42:15,466 - distributed.utils_perf - WARNING - full garbage collections took 11% CPU time recently (threshold: 10%)\n",
      "2024-08-12 18:42:17,086 - distributed.utils_perf - WARNING - full garbage collections took 11% CPU time recently (threshold: 10%)\n",
      "2024-08-12 18:42:17,966 - distributed.utils_perf - WARNING - full garbage collections took 11% CPU time recently (threshold: 10%)\n",
      "2024-08-12 18:42:18,354 - distributed.utils_perf - WARNING - full garbage collections took 11% CPU time recently (threshold: 10%)\n",
      "2024-08-12 18:42:19,919 - distributed.utils_perf - WARNING - full garbage collections took 11% CPU time recently (threshold: 10%)\n",
      "2024-08-12 18:42:20,485 - distributed.utils_perf - WARNING - full garbage collections took 11% CPU time recently (threshold: 10%)\n",
      "2024-08-12 18:42:21,275 - distributed.utils_perf - WARNING - full garbage collections took 11% CPU time recently (threshold: 10%)\n",
      "2024-08-12 18:42:22,917 - distributed.utils_perf - WARNING - full garbage collections took 11% CPU time recently (threshold: 10%)\n",
      "2024-08-12 18:42:23,865 - distributed.utils_perf - WARNING - full garbage collections took 11% CPU time recently (threshold: 10%)\n",
      "2024-08-12 18:42:24,280 - distributed.utils_perf - WARNING - full garbage collections took 11% CPU time recently (threshold: 10%)\n",
      "2024-08-12 18:42:25,905 - distributed.utils_perf - WARNING - full garbage collections took 11% CPU time recently (threshold: 10%)\n",
      "2024-08-12 18:42:26,308 - distributed.utils_perf - WARNING - full garbage collections took 11% CPU time recently (threshold: 10%)\n",
      "2024-08-12 18:42:27,314 - distributed.utils_perf - WARNING - full garbage collections took 11% CPU time recently (threshold: 10%)\n",
      "2024-08-12 18:42:27,747 - distributed.utils_perf - WARNING - full garbage collections took 11% CPU time recently (threshold: 10%)\n",
      "2024-08-12 18:42:29,405 - distributed.utils_perf - WARNING - full garbage collections took 11% CPU time recently (threshold: 10%)\n",
      "2024-08-12 18:42:30,431 - distributed.utils_perf - WARNING - full garbage collections took 11% CPU time recently (threshold: 10%)\n",
      "2024-08-12 18:42:30,831 - distributed.utils_perf - WARNING - full garbage collections took 11% CPU time recently (threshold: 10%)\n",
      "2024-08-12 18:42:32,391 - distributed.utils_perf - WARNING - full garbage collections took 11% CPU time recently (threshold: 10%)\n",
      "2024-08-12 18:42:33,477 - distributed.utils_perf - WARNING - full garbage collections took 11% CPU time recently (threshold: 10%)\n",
      "2024-08-12 18:42:33,918 - distributed.utils_perf - WARNING - full garbage collections took 11% CPU time recently (threshold: 10%)\n",
      "2024-08-12 18:42:35,426 - distributed.utils_perf - WARNING - full garbage collections took 11% CPU time recently (threshold: 10%)\n",
      "2024-08-12 18:42:35,830 - distributed.utils_perf - WARNING - full garbage collections took 11% CPU time recently (threshold: 10%)\n",
      "2024-08-12 18:42:36,913 - distributed.utils_perf - WARNING - full garbage collections took 11% CPU time recently (threshold: 10%)\n",
      "2024-08-12 18:42:37,320 - distributed.utils_perf - WARNING - full garbage collections took 11% CPU time recently (threshold: 10%)\n",
      "2024-08-12 18:42:38,841 - distributed.utils_perf - WARNING - full garbage collections took 11% CPU time recently (threshold: 10%)\n",
      "2024-08-12 18:42:39,253 - distributed.utils_perf - WARNING - full garbage collections took 11% CPU time recently (threshold: 10%)\n",
      "2024-08-12 18:42:40,323 - distributed.utils_perf - WARNING - full garbage collections took 11% CPU time recently (threshold: 10%)\n",
      "2024-08-12 18:42:41,499 - distributed.utils_perf - WARNING - full garbage collections took 11% CPU time recently (threshold: 10%)\n",
      "2024-08-12 18:42:42,340 - distributed.utils_perf - WARNING - full garbage collections took 11% CPU time recently (threshold: 10%)\n",
      "2024-08-12 18:42:43,445 - distributed.utils_perf - WARNING - full garbage collections took 11% CPU time recently (threshold: 10%)\n",
      "2024-08-12 18:42:43,894 - distributed.utils_perf - WARNING - full garbage collections took 11% CPU time recently (threshold: 10%)\n",
      "2024-08-12 18:42:45,434 - distributed.utils_perf - WARNING - full garbage collections took 11% CPU time recently (threshold: 10%)\n",
      "2024-08-12 18:42:46,511 - distributed.utils_perf - WARNING - full garbage collections took 11% CPU time recently (threshold: 10%)\n",
      "2024-08-12 18:42:47,899 - distributed.utils_perf - WARNING - full garbage collections took 11% CPU time recently (threshold: 10%)\n",
      "2024-08-12 18:42:48,503 - distributed.utils_perf - WARNING - full garbage collections took 11% CPU time recently (threshold: 10%)\n",
      "2024-08-12 18:42:48,958 - distributed.utils_perf - WARNING - full garbage collections took 11% CPU time recently (threshold: 10%)\n",
      "2024-08-12 18:42:50,796 - distributed.utils_perf - WARNING - full garbage collections took 11% CPU time recently (threshold: 10%)\n",
      "2024-08-12 18:42:51,599 - distributed.utils_perf - WARNING - full garbage collections took 11% CPU time recently (threshold: 10%)\n",
      "2024-08-12 18:42:52,051 - distributed.utils_perf - WARNING - full garbage collections took 11% CPU time recently (threshold: 10%)\n",
      "2024-08-12 18:42:53,135 - distributed.utils_perf - WARNING - full garbage collections took 11% CPU time recently (threshold: 10%)\n",
      "2024-08-12 18:42:54,609 - distributed.utils_perf - WARNING - full garbage collections took 11% CPU time recently (threshold: 10%)\n",
      "2024-08-12 18:42:55,075 - distributed.utils_perf - WARNING - full garbage collections took 11% CPU time recently (threshold: 10%)\n",
      "2024-08-12 18:42:56,027 - distributed.utils_perf - WARNING - full garbage collections took 11% CPU time recently (threshold: 10%)\n",
      "2024-08-12 18:42:57,288 - distributed.utils_perf - WARNING - full garbage collections took 11% CPU time recently (threshold: 10%)\n",
      "2024-08-12 18:42:58,069 - distributed.utils_perf - WARNING - full garbage collections took 11% CPU time recently (threshold: 10%)\n",
      "2024-08-12 18:42:58,814 - distributed.utils_perf - WARNING - full garbage collections took 11% CPU time recently (threshold: 10%)\n",
      "2024-08-12 18:42:59,611 - distributed.utils_perf - WARNING - full garbage collections took 11% CPU time recently (threshold: 10%)\n",
      "2024-08-12 18:43:00,600 - distributed.utils_perf - WARNING - full garbage collections took 11% CPU time recently (threshold: 10%)\n",
      "2024-08-12 18:43:01,355 - distributed.utils_perf - WARNING - full garbage collections took 11% CPU time recently (threshold: 10%)\n",
      "2024-08-12 18:43:03,623 - distributed.utils_perf - WARNING - full garbage collections took 11% CPU time recently (threshold: 10%)\n",
      "2024-08-12 18:43:04,283 - distributed.utils_perf - WARNING - full garbage collections took 11% CPU time recently (threshold: 10%)\n",
      "2024-08-12 18:43:04,752 - distributed.utils_perf - WARNING - full garbage collections took 11% CPU time recently (threshold: 10%)\n",
      "2024-08-12 18:43:06,506 - distributed.utils_perf - WARNING - full garbage collections took 11% CPU time recently (threshold: 10%)\n",
      "2024-08-12 18:43:07,443 - distributed.utils_perf - WARNING - full garbage collections took 11% CPU time recently (threshold: 10%)\n",
      "2024-08-12 18:43:08,691 - distributed.utils_perf - WARNING - full garbage collections took 11% CPU time recently (threshold: 10%)\n",
      "2024-08-12 18:43:09,507 - distributed.utils_perf - WARNING - full garbage collections took 11% CPU time recently (threshold: 10%)\n",
      "2024-08-12 18:43:10,464 - distributed.utils_perf - WARNING - full garbage collections took 11% CPU time recently (threshold: 10%)\n",
      "2024-08-12 18:43:11,759 - distributed.utils_perf - WARNING - full garbage collections took 11% CPU time recently (threshold: 10%)\n",
      "2024-08-12 18:43:12,738 - distributed.utils_perf - WARNING - full garbage collections took 11% CPU time recently (threshold: 10%)\n",
      "2024-08-12 18:43:13,934 - distributed.utils_perf - WARNING - full garbage collections took 11% CPU time recently (threshold: 10%)\n",
      "2024-08-12 18:43:14,370 - distributed.utils_perf - WARNING - full garbage collections took 11% CPU time recently (threshold: 10%)\n",
      "2024-08-12 18:43:15,509 - distributed.utils_perf - WARNING - full garbage collections took 11% CPU time recently (threshold: 10%)\n",
      "2024-08-12 18:43:15,720 - root - INFO: - Training model...\n",
      "2024-08-12 18:43:15,725 - root - INFO: - start listen on 10.91.28.16:50707\n",
      "[18:43:15] task [xgboost.dask-0]:tcp://127.0.0.1:46847 got new rank 0\n",
      "[18:43:15] task [xgboost.dask-1]:tcp://127.0.0.1:44227 got new rank 1\n",
      "[18:43:15] task [xgboost.dask-2]:tcp://127.0.0.1:39251 got new rank 2\n",
      "2024-08-12 18:43:15,769 - root - INFO: - @tracker All of 3 nodes getting started\n",
      "2024-08-12 18:43:39,372 - root - INFO: - @tracker All nodes finishes job\n",
      "2024-08-12 18:43:39,617 - root - INFO: - Running model on test data...\n",
      "2024-08-12 18:43:43,793 - distributed.utils_perf - WARNING - full garbage collections took 11% CPU time recently (threshold: 10%)\n",
      "2024-08-12 18:43:45,085 - distributed.utils_perf - WARNING - full garbage collections took 11% CPU time recently (threshold: 10%)\n",
      "2024-08-12 18:43:46,950 - distributed.utils_perf - WARNING - full garbage collections took 11% CPU time recently (threshold: 10%)\n",
      "2024-08-12 18:43:47,723 - distributed.utils_perf - WARNING - full garbage collections took 11% CPU time recently (threshold: 10%)\n",
      "2024-08-12 18:43:49,849 - distributed.utils_perf - WARNING - full garbage collections took 11% CPU time recently (threshold: 10%)\n",
      "2024-08-12 18:43:51,279 - distributed.utils_perf - WARNING - full garbage collections took 11% CPU time recently (threshold: 10%)\n",
      "2024-08-12 18:43:52,403 - distributed.utils_perf - WARNING - full garbage collections took 11% CPU time recently (threshold: 10%)\n",
      "2024-08-12 18:43:53,783 - distributed.utils_perf - WARNING - full garbage collections took 11% CPU time recently (threshold: 10%)\n",
      "2024-08-12 18:43:54,018 - root - INFO: - Calculating metrics...\n",
      "2024-08-12 18:43:54,094 - root - INFO: - Calculating metrics...Completed\n",
      "[I 2024-08-12 18:43:54,267] Trial 17 finished with values: {'roc_auc': 0.5936284713255802, 'logloss': 0.36788652161774127} and parameters: {'learning_rate': 0.26125033750160553, 'min_split_loss': 8.081884171957691, 'max_depth': 12, 'min_child_weight': 5.799032474254245, 'max_delta_step': 7.872092164787525, 'subsample': 0.886282254965395, 'colsample_bylevel': 0.6514112786785075, 'colsample_bynode': 0.8928332520837277}. \n"
     ]
    },
    {
     "name": "stdout",
     "output_type": "stream",
     "text": [
      "--------------------------------------------------------------------------------\n",
      " train_auc           :   0.96423\n",
      " train_logloss       :   0.22224\n",
      " val_auc             :   0.58766\n",
      " val_logloss         :   0.37357\n",
      " roc_auc             :   0.58819\n",
      " logloss             :   0.37357\n",
      " accuracy            :   0.87794\n",
      " bal_acc             :   0.01614\n",
      " top_k_acc           :   1.00000\n",
      " F1_score            :   0.03860\n",
      " map                 :   0.17741\n",
      " pearson_corr        :   0.12521\n",
      "--------------------------------------------------------------------------------\n",
      "--------------------------------------------------------------------------------\n",
      " train_auc                 0.95867 +/- 0.00393\n",
      " train_logloss             0.22879 +/- 0.00424\n",
      " val_auc                   0.59363 +/- 0.00441\n",
      " val_logloss               0.36789 +/- 0.00420\n",
      " roc_auc                   0.59387 +/- 0.00439\n",
      " logloss                   0.36789 +/- 0.00420\n",
      " accuracy                  0.87923 +/- 0.00148\n",
      " bal_acc                   0.01457 +/- 0.00095\n",
      " top_k_acc                 1.00000 +/- 0.00000\n",
      " F1_score                  0.03580 +/- 0.00178\n",
      " map                       0.17777 +/- 0.00313\n",
      " pearson_corr              0.12966 +/- 0.00475\n",
      "--------------------------------------------------------------------------------\n",
      " model best score    :  0.3614985113062941\n",
      " model best iteration:  6\n",
      " Save model to : ./saved_models/cls-3_SampleStudy-Aug09_trial_017.json\n",
      "Total time:  1:49:52.651369\n"
     ]
    }
   ],
   "source": [
    "start = datetime.now()\n",
    "\n",
    "study.optimize(objective, n_trials=4, timeout=3600*7, gc_after_trial=True, show_progress_bar=False)\n",
    "\n",
    "print(f\"Total time:  {datetime.now() - start}\")"
   ]
  },
  {
   "cell_type": "markdown",
   "metadata": {},
   "source": [
    "## Enqueue a previous trial and rerun "
   ]
  },
  {
   "cell_type": "code",
   "execution_count": 42,
   "metadata": {
    "execution": {
     "iopub.execute_input": "2024-08-09T17:42:49.766501Z",
     "iopub.status.busy": "2024-08-09T17:42:49.765998Z",
     "iopub.status.idle": "2024-08-09T17:42:49.848823Z",
     "shell.execute_reply": "2024-08-09T17:42:49.848207Z",
     "shell.execute_reply.started": "2024-08-09T17:42:49.766480Z"
    }
   },
   "outputs": [
    {
     "name": "stdout",
     "output_type": "stream",
     "text": [
      " cls-3_SampleStudy-Aug09  study history\n",
      "\n",
      "                start     -   completion      status        validation metrics\n",
      " trial#         time      -      time          code      roc_auc        logloss\n",
      "--------------------------------------------------------------------------------\n",
      "Trial #: 0    2024-08-09   19:34:33 - 19:42:49    1      0.59089        0.37574    \n",
      " *** end of trials *** \n",
      " Best trials:  [0]\n"
     ]
    }
   ],
   "source": [
    "disp_study_history(study)"
   ]
  },
  {
   "cell_type": "code",
   "execution_count": 39,
   "metadata": {
    "execution": {
     "iopub.execute_input": "2024-04-23T11:46:13.273655Z",
     "iopub.status.busy": "2024-04-23T11:46:13.272901Z",
     "iopub.status.idle": "2024-04-23T11:46:13.324800Z",
     "shell.execute_reply": "2024-04-23T11:46:13.324019Z",
     "shell.execute_reply.started": "2024-04-23T11:46:13.273604Z"
    }
   },
   "outputs": [],
   "source": [
    "# study.trials_dataframe()"
   ]
  },
  {
   "cell_type": "code",
   "execution_count": 231,
   "metadata": {
    "execution": {
     "iopub.execute_input": "2024-02-13T03:09:10.092205Z",
     "iopub.status.busy": "2024-02-13T03:09:10.090904Z",
     "iopub.status.idle": "2024-02-13T03:09:10.150363Z",
     "shell.execute_reply": "2024-02-13T03:09:10.149389Z",
     "shell.execute_reply.started": "2024-02-13T03:09:10.092148Z"
    }
   },
   "outputs": [],
   "source": [
    "# study.trials[1].params\n",
    "# study.trials[2].params"
   ]
  },
  {
   "cell_type": "code",
   "execution_count": 25,
   "metadata": {
    "execution": {
     "iopub.execute_input": "2024-04-23T14:52:01.412653Z",
     "iopub.status.busy": "2024-04-23T14:52:01.411345Z",
     "iopub.status.idle": "2024-04-23T14:52:01.517893Z",
     "shell.execute_reply": "2024-04-23T14:52:01.516880Z",
     "shell.execute_reply.started": "2024-04-23T14:52:01.412594Z"
    }
   },
   "outputs": [],
   "source": [
    "# # for i in [3,4,5,6]:\n",
    "# for i in [18]:\n",
    "#     study.enqueue_trial(study.trials[i].params, user_attrs={\"memo\": f\"rerun of trial {i}\"})\n",
    " "
   ]
  },
  {
   "cell_type": "code",
   "execution_count": 26,
   "metadata": {
    "execution": {
     "iopub.execute_input": "2024-04-23T14:52:17.423604Z",
     "iopub.status.busy": "2024-04-23T14:52:17.422920Z",
     "iopub.status.idle": "2024-04-23T15:43:30.623447Z",
     "shell.execute_reply": "2024-04-23T15:43:30.622493Z",
     "shell.execute_reply.started": "2024-04-23T14:52:17.423562Z"
    },
    "scrolled": true
   },
   "outputs": [
    {
     "name": "stdout",
     "output_type": "stream",
     "text": [
      "--------------------------------------------------------------------------------\n",
      " Training model (trial #19) \n",
      "--------------------------------------------------------------------------------\n",
      " Parameters:\n",
      "  booster                        gbtree\n",
      "  device                         gpu\n",
      "  verbosity                      0\n",
      "  disable_default_eval_metric    False\n",
      "  objective                      binary:logistic\n",
      "  eval_metric                    ['auc', 'logloss']\n",
      "  tree_method                    auto\n",
      "  learning_rate                  0.01010335601502925\n",
      "  gamma                          0.2472646534150965\n",
      "  max_depth                      8\n",
      "  min_child_weight               6.489942713197961\n",
      "  max_delta_step                 9.899914342970385\n",
      "  subsample                      0.9078959875289839\n",
      "  sampling_method                uniform\n",
      "  colsample_bytree               1.0\n",
      "  colsample_bylevel              0.6706021187887963\n",
      "  colsample_bynode               0.9887993750054633\n",
      "  lambda                         1\n",
      "  scale_pos_weight               1\n",
      "  max_leaves                     0\n",
      "  reg_lambda                     3.2267\n",
      " # bin files: 10   # of folds 5 -  (groups of 2 file tuples)\n",
      " CV Split 0 -  Training files: [2, 3, 4, 5, 6, 7, 8, 9]   Validation files: [0, 1]  \n"
     ]
    },
    {
     "name": "stderr",
     "output_type": "stream",
     "text": [
      "2024-04-23 16:52:24,130 - INFO: - CrossValidation split #0\n",
      "2024-04-23 16:52:24,131 - INFO: - Building training & validation DMatrix...\n",
      "2024-04-23 16:53:08,526 - distributed.utils_perf - WARNING - full garbage collections took 10% CPU time recently (threshold: 10%)\n",
      "2024-04-23 16:53:08,806 - distributed.utils_perf - WARNING - full garbage collections took 10% CPU time recently (threshold: 10%)\n",
      "2024-04-23 16:53:08,966 - distributed.utils_perf - WARNING - full garbage collections took 10% CPU time recently (threshold: 10%)\n",
      "2024-04-23 16:53:09,066 - distributed.utils_perf - WARNING - full garbage collections took 10% CPU time recently (threshold: 10%)\n",
      "2024-04-23 16:53:09,264 - distributed.utils_perf - WARNING - full garbage collections took 10% CPU time recently (threshold: 10%)\n",
      "2024-04-23 16:53:09,865 - distributed.utils_perf - WARNING - full garbage collections took 10% CPU time recently (threshold: 10%)\n",
      "2024-04-23 16:53:10,234 - distributed.utils_perf - WARNING - full garbage collections took 10% CPU time recently (threshold: 10%)\n",
      "2024-04-23 16:53:10,935 - distributed.utils_perf - WARNING - full garbage collections took 10% CPU time recently (threshold: 10%)\n",
      "2024-04-23 16:53:11,155 - distributed.utils_perf - WARNING - full garbage collections took 10% CPU time recently (threshold: 10%)\n",
      "2024-04-23 16:53:11,229 - distributed.utils_perf - WARNING - full garbage collections took 10% CPU time recently (threshold: 10%)\n",
      "2024-04-23 16:53:11,429 - distributed.utils_perf - WARNING - full garbage collections took 10% CPU time recently (threshold: 10%)\n",
      "2024-04-23 16:53:11,520 - distributed.utils_perf - WARNING - full garbage collections took 10% CPU time recently (threshold: 10%)\n",
      "2024-04-23 16:53:11,697 - distributed.utils_perf - WARNING - full garbage collections took 11% CPU time recently (threshold: 10%)\n",
      "2024-04-23 16:53:11,729 - distributed.utils_perf - WARNING - full garbage collections took 10% CPU time recently (threshold: 10%)\n",
      "2024-04-23 16:53:12,286 - distributed.utils_perf - WARNING - full garbage collections took 10% CPU time recently (threshold: 10%)\n",
      "2024-04-23 16:53:12,661 - distributed.utils_perf - WARNING - full garbage collections took 11% CPU time recently (threshold: 10%)\n",
      "2024-04-23 16:53:12,691 - distributed.utils_perf - WARNING - full garbage collections took 10% CPU time recently (threshold: 10%)\n",
      "2024-04-23 16:53:12,955 - distributed.utils_perf - WARNING - full garbage collections took 11% CPU time recently (threshold: 10%)\n",
      "2024-04-23 16:53:13,249 - distributed.utils_perf - WARNING - full garbage collections took 11% CPU time recently (threshold: 10%)\n",
      "2024-04-23 16:53:13,267 - distributed.utils_perf - WARNING - full garbage collections took 10% CPU time recently (threshold: 10%)\n",
      "2024-04-23 16:53:13,389 - distributed.utils_perf - WARNING - full garbage collections took 10% CPU time recently (threshold: 10%)\n",
      "2024-04-23 16:53:13,693 - distributed.utils_perf - WARNING - full garbage collections took 10% CPU time recently (threshold: 10%)\n",
      "2024-04-23 16:53:13,906 - distributed.utils_perf - WARNING - full garbage collections took 10% CPU time recently (threshold: 10%)\n",
      "2024-04-23 16:53:13,980 - distributed.utils_perf - WARNING - full garbage collections took 10% CPU time recently (threshold: 10%)\n",
      "2024-04-23 16:53:14,138 - distributed.utils_perf - WARNING - full garbage collections took 11% CPU time recently (threshold: 10%)\n",
      "2024-04-23 16:53:14,188 - distributed.utils_perf - WARNING - full garbage collections took 10% CPU time recently (threshold: 10%)\n",
      "2024-04-23 16:53:14,761 - distributed.utils_perf - WARNING - full garbage collections took 10% CPU time recently (threshold: 10%)\n",
      "2024-04-23 16:53:14,926 - distributed.utils_perf - WARNING - full garbage collections took 11% CPU time recently (threshold: 10%)\n",
      "2024-04-23 16:53:15,161 - distributed.utils_perf - WARNING - full garbage collections took 10% CPU time recently (threshold: 10%)\n",
      "2024-04-23 16:53:15,362 - distributed.utils_perf - WARNING - full garbage collections took 11% CPU time recently (threshold: 10%)\n",
      "2024-04-23 16:53:15,606 - distributed.utils_perf - WARNING - full garbage collections took 10% CPU time recently (threshold: 10%)\n",
      "2024-04-23 16:53:15,669 - distributed.utils_perf - WARNING - full garbage collections took 11% CPU time recently (threshold: 10%)\n",
      "2024-04-23 16:53:15,839 - distributed.utils_perf - WARNING - full garbage collections took 10% CPU time recently (threshold: 10%)\n",
      "2024-04-23 16:53:16,084 - distributed.utils_perf - WARNING - full garbage collections took 10% CPU time recently (threshold: 10%)\n",
      "2024-04-23 16:53:16,373 - distributed.utils_perf - WARNING - full garbage collections took 10% CPU time recently (threshold: 10%)\n",
      "2024-04-23 16:53:16,382 - distributed.utils_perf - WARNING - full garbage collections took 10% CPU time recently (threshold: 10%)\n",
      "2024-04-23 16:53:16,568 - distributed.utils_perf - WARNING - full garbage collections took 11% CPU time recently (threshold: 10%)\n",
      "2024-04-23 16:53:16,660 - distributed.utils_perf - WARNING - full garbage collections took 10% CPU time recently (threshold: 10%)\n",
      "2024-04-23 16:53:17,155 - distributed.utils_perf - WARNING - full garbage collections took 10% CPU time recently (threshold: 10%)\n",
      "2024-04-23 16:53:17,233 - distributed.utils_perf - WARNING - full garbage collections took 11% CPU time recently (threshold: 10%)\n",
      "2024-04-23 16:53:17,612 - distributed.utils_perf - WARNING - full garbage collections took 10% CPU time recently (threshold: 10%)\n",
      "2024-04-23 16:53:17,766 - distributed.utils_perf - WARNING - full garbage collections took 11% CPU time recently (threshold: 10%)\n",
      "2024-04-23 16:53:17,989 - distributed.utils_perf - WARNING - full garbage collections took 10% CPU time recently (threshold: 10%)\n",
      "2024-04-23 16:53:18,071 - distributed.utils_perf - WARNING - full garbage collections took 11% CPU time recently (threshold: 10%)\n",
      "2024-04-23 16:53:18,278 - distributed.utils_perf - WARNING - full garbage collections took 10% CPU time recently (threshold: 10%)\n",
      "2024-04-23 16:53:18,509 - distributed.utils_perf - WARNING - full garbage collections took 10% CPU time recently (threshold: 10%)\n",
      "2024-04-23 16:53:18,810 - distributed.utils_perf - WARNING - full garbage collections took 10% CPU time recently (threshold: 10%)\n",
      "2024-04-23 16:53:18,823 - distributed.utils_perf - WARNING - full garbage collections took 10% CPU time recently (threshold: 10%)\n",
      "2024-04-23 16:53:18,958 - distributed.utils_perf - WARNING - full garbage collections took 11% CPU time recently (threshold: 10%)\n",
      "2024-04-23 16:53:19,107 - distributed.utils_perf - WARNING - full garbage collections took 10% CPU time recently (threshold: 10%)\n",
      "2024-04-23 16:53:19,523 - distributed.utils_perf - WARNING - full garbage collections took 10% CPU time recently (threshold: 10%)\n",
      "2024-04-23 16:53:19,618 - distributed.utils_perf - WARNING - full garbage collections took 11% CPU time recently (threshold: 10%)\n",
      "2024-04-23 16:53:20,065 - distributed.utils_perf - WARNING - full garbage collections took 10% CPU time recently (threshold: 10%)\n",
      "2024-04-23 16:53:20,163 - distributed.utils_perf - WARNING - full garbage collections took 11% CPU time recently (threshold: 10%)\n",
      "2024-04-23 16:53:20,352 - distributed.utils_perf - WARNING - full garbage collections took 10% CPU time recently (threshold: 10%)\n",
      "2024-04-23 16:53:20,367 - distributed.utils_perf - WARNING - full garbage collections took 10% CPU time recently (threshold: 10%)\n",
      "2024-04-23 16:53:20,478 - distributed.utils_perf - WARNING - full garbage collections took 11% CPU time recently (threshold: 10%)\n",
      "2024-04-23 16:53:20,913 - distributed.utils_perf - WARNING - full garbage collections took 10% CPU time recently (threshold: 10%)\n",
      "2024-04-23 16:53:21,216 - distributed.utils_perf - WARNING - full garbage collections took 10% CPU time recently (threshold: 10%)\n",
      "2024-04-23 16:53:21,269 - distributed.utils_perf - WARNING - full garbage collections took 10% CPU time recently (threshold: 10%)\n",
      "2024-04-23 16:53:21,311 - distributed.utils_perf - WARNING - full garbage collections took 11% CPU time recently (threshold: 10%)\n",
      "2024-04-23 16:53:21,549 - distributed.utils_perf - WARNING - full garbage collections took 10% CPU time recently (threshold: 10%)\n",
      "2024-04-23 16:53:21,975 - distributed.utils_perf - WARNING - full garbage collections took 10% CPU time recently (threshold: 10%)\n",
      "2024-04-23 16:53:22,024 - distributed.utils_perf - WARNING - full garbage collections took 11% CPU time recently (threshold: 10%)\n",
      "2024-04-23 16:53:22,275 - distributed.utils_perf - WARNING - full garbage collections took 10% CPU time recently (threshold: 10%)\n",
      "2024-04-23 16:53:22,536 - distributed.utils_perf - WARNING - full garbage collections took 10% CPU time recently (threshold: 10%)\n",
      "2024-04-23 16:53:22,565 - distributed.utils_perf - WARNING - full garbage collections took 11% CPU time recently (threshold: 10%)\n",
      "2024-04-23 16:53:22,819 - distributed.utils_perf - WARNING - full garbage collections took 10% CPU time recently (threshold: 10%)\n",
      "2024-04-23 16:53:22,853 - distributed.utils_perf - WARNING - full garbage collections took 11% CPU time recently (threshold: 10%)\n",
      "2024-04-23 16:53:23,362 - distributed.utils_perf - WARNING - full garbage collections took 10% CPU time recently (threshold: 10%)\n",
      "2024-04-23 16:53:23,653 - distributed.utils_perf - WARNING - full garbage collections took 10% CPU time recently (threshold: 10%)\n",
      "2024-04-23 16:53:23,758 - distributed.utils_perf - WARNING - full garbage collections took 11% CPU time recently (threshold: 10%)\n",
      "2024-04-23 16:53:24,037 - distributed.utils_perf - WARNING - full garbage collections took 11% CPU time recently (threshold: 10%)\n",
      "2024-04-23 16:53:24,428 - distributed.utils_perf - WARNING - full garbage collections took 10% CPU time recently (threshold: 10%)\n",
      "2024-04-23 16:53:24,724 - distributed.utils_perf - WARNING - full garbage collections took 10% CPU time recently (threshold: 10%)\n",
      "2024-04-23 16:53:24,962 - distributed.utils_perf - WARNING - full garbage collections took 11% CPU time recently (threshold: 10%)\n",
      "2024-04-23 16:53:25,251 - distributed.utils_perf - WARNING - full garbage collections took 11% CPU time recently (threshold: 10%)\n",
      "2024-04-23 16:53:26,164 - distributed.utils_perf - WARNING - full garbage collections took 10% CPU time recently (threshold: 10%)\n",
      "2024-04-23 16:53:26,454 - distributed.utils_perf - WARNING - full garbage collections took 10% CPU time recently (threshold: 10%)\n",
      "2024-04-23 16:53:27,429 - distributed.utils_perf - WARNING - full garbage collections took 10% CPU time recently (threshold: 10%)\n",
      "2024-04-23 16:53:27,738 - distributed.utils_perf - WARNING - full garbage collections took 10% CPU time recently (threshold: 10%)\n",
      "2024-04-23 16:53:28,679 - distributed.utils_perf - WARNING - full garbage collections took 10% CPU time recently (threshold: 10%)\n",
      "2024-04-23 16:53:28,976 - distributed.utils_perf - WARNING - full garbage collections took 10% CPU time recently (threshold: 10%)\n",
      "2024-04-23 16:53:29,909 - distributed.utils_perf - WARNING - full garbage collections took 10% CPU time recently (threshold: 10%)\n",
      "2024-04-23 16:53:30,209 - distributed.utils_perf - WARNING - full garbage collections took 10% CPU time recently (threshold: 10%)\n",
      "2024-04-23 16:53:30,513 - distributed.utils_perf - WARNING - full garbage collections took 10% CPU time recently (threshold: 10%)\n",
      "2024-04-23 16:53:31,283 - distributed.utils_perf - WARNING - full garbage collections took 10% CPU time recently (threshold: 10%)\n",
      "2024-04-23 16:53:31,577 - distributed.utils_perf - WARNING - full garbage collections took 10% CPU time recently (threshold: 10%)\n",
      "2024-04-23 16:53:33,299 - distributed.utils_perf - WARNING - full garbage collections took 10% CPU time recently (threshold: 10%)\n",
      "2024-04-23 16:53:33,840 - distributed.utils_perf - WARNING - full garbage collections took 10% CPU time recently (threshold: 10%)\n",
      "2024-04-23 16:53:34,160 - distributed.utils_perf - WARNING - full garbage collections took 11% CPU time recently (threshold: 10%)\n",
      "2024-04-23 16:53:34,467 - distributed.utils_perf - WARNING - full garbage collections took 11% CPU time recently (threshold: 10%)\n",
      "2024-04-23 16:53:35,835 - distributed.utils_perf - WARNING - full garbage collections took 10% CPU time recently (threshold: 10%)\n",
      "2024-04-23 16:53:36,387 - distributed.utils_perf - WARNING - full garbage collections took 11% CPU time recently (threshold: 10%)\n",
      "2024-04-23 16:53:36,682 - distributed.utils_perf - WARNING - full garbage collections took 11% CPU time recently (threshold: 10%)\n",
      "2024-04-23 16:53:36,986 - distributed.utils_perf - WARNING - full garbage collections took 11% CPU time recently (threshold: 10%)\n",
      "2024-04-23 16:53:38,374 - distributed.utils_perf - WARNING - full garbage collections took 11% CPU time recently (threshold: 10%)\n",
      "2024-04-23 16:53:38,988 - distributed.utils_perf - WARNING - full garbage collections took 11% CPU time recently (threshold: 10%)\n",
      "2024-04-23 16:53:39,333 - distributed.utils_perf - WARNING - full garbage collections took 13% CPU time recently (threshold: 10%)\n",
      "2024-04-23 16:53:39,696 - distributed.utils_perf - WARNING - full garbage collections took 13% CPU time recently (threshold: 10%)\n",
      "2024-04-23 16:53:41,136 - distributed.utils_perf - WARNING - full garbage collections took 10% CPU time recently (threshold: 10%)\n",
      "2024-04-23 16:53:41,442 - distributed.utils_perf - WARNING - full garbage collections took 13% CPU time recently (threshold: 10%)\n",
      "2024-04-23 16:53:41,580 - distributed.utils_perf - WARNING - full garbage collections took 10% CPU time recently (threshold: 10%)\n",
      "2024-04-23 16:53:41,760 - distributed.utils_perf - WARNING - full garbage collections took 14% CPU time recently (threshold: 10%)\n",
      "2024-04-23 16:53:41,908 - distributed.utils_perf - WARNING - full garbage collections took 10% CPU time recently (threshold: 10%)\n",
      "2024-04-23 16:53:42,097 - distributed.utils_perf - WARNING - full garbage collections took 14% CPU time recently (threshold: 10%)\n",
      "2024-04-23 16:53:43,014 - distributed.utils_perf - WARNING - full garbage collections took 10% CPU time recently (threshold: 10%)\n",
      "2024-04-23 16:53:43,063 - distributed.utils_perf - WARNING - full garbage collections took 14% CPU time recently (threshold: 10%)\n",
      "2024-04-23 16:53:43,579 - distributed.utils_perf - WARNING - full garbage collections took 10% CPU time recently (threshold: 10%)\n",
      "2024-04-23 16:53:44,099 - distributed.utils_perf - WARNING - full garbage collections took 14% CPU time recently (threshold: 10%)\n",
      "2024-04-23 16:53:44,162 - distributed.utils_perf - WARNING - full garbage collections took 11% CPU time recently (threshold: 10%)\n",
      "2024-04-23 16:53:44,432 - distributed.utils_perf - WARNING - full garbage collections took 14% CPU time recently (threshold: 10%)\n",
      "2024-04-23 16:53:44,470 - distributed.utils_perf - WARNING - full garbage collections took 11% CPU time recently (threshold: 10%)\n",
      "2024-04-23 16:53:44,471 - distributed.utils_perf - WARNING - full garbage collections took 10% CPU time recently (threshold: 10%)\n",
      "2024-04-23 16:53:44,795 - distributed.utils_perf - WARNING - full garbage collections took 14% CPU time recently (threshold: 10%)\n",
      "2024-04-23 16:53:45,614 - distributed.utils_perf - WARNING - full garbage collections took 10% CPU time recently (threshold: 10%)\n",
      "2024-04-23 16:53:45,656 - distributed.utils_perf - WARNING - full garbage collections took 11% CPU time recently (threshold: 10%)\n",
      "2024-04-23 16:53:45,969 - distributed.utils_perf - WARNING - full garbage collections took 10% CPU time recently (threshold: 10%)\n",
      "2024-04-23 16:53:46,010 - distributed.utils_perf - WARNING - full garbage collections took 14% CPU time recently (threshold: 10%)\n",
      "2024-04-23 16:53:46,301 - distributed.utils_perf - WARNING - full garbage collections took 11% CPU time recently (threshold: 10%)\n",
      "2024-04-23 16:53:46,778 - distributed.utils_perf - WARNING - full garbage collections took 11% CPU time recently (threshold: 10%)\n",
      "2024-04-23 16:53:46,838 - distributed.utils_perf - WARNING - full garbage collections took 10% CPU time recently (threshold: 10%)\n",
      "2024-04-23 16:53:46,871 - distributed.utils_perf - WARNING - full garbage collections took 14% CPU time recently (threshold: 10%)\n",
      "2024-04-23 16:53:47,113 - distributed.utils_perf - WARNING - full garbage collections took 11% CPU time recently (threshold: 10%)\n",
      "2024-04-23 16:53:47,155 - distributed.utils_perf - WARNING - full garbage collections took 10% CPU time recently (threshold: 10%)\n",
      "2024-04-23 16:53:47,248 - distributed.utils_perf - WARNING - full garbage collections took 14% CPU time recently (threshold: 10%)\n",
      "2024-04-23 16:53:47,633 - distributed.utils_perf - WARNING - full garbage collections took 14% CPU time recently (threshold: 10%)\n",
      "2024-04-23 16:53:48,275 - distributed.utils_perf - WARNING - full garbage collections took 10% CPU time recently (threshold: 10%)\n",
      "2024-04-23 16:53:48,363 - distributed.utils_perf - WARNING - full garbage collections took 11% CPU time recently (threshold: 10%)\n",
      "2024-04-23 16:53:48,559 - distributed.utils_perf - WARNING - full garbage collections took 15% CPU time recently (threshold: 10%)\n",
      "2024-04-23 16:53:48,619 - distributed.utils_perf - WARNING - full garbage collections took 10% CPU time recently (threshold: 10%)\n",
      "2024-04-23 16:53:48,676 - distributed.utils_perf - WARNING - full garbage collections took 11% CPU time recently (threshold: 10%)\n",
      "2024-04-23 16:53:48,914 - distributed.utils_perf - WARNING - full garbage collections took 15% CPU time recently (threshold: 10%)\n",
      "2024-04-23 16:53:49,128 - distributed.utils_perf - WARNING - full garbage collections took 10% CPU time recently (threshold: 10%)\n",
      "2024-04-23 16:53:49,311 - distributed.utils_perf - WARNING - full garbage collections took 11% CPU time recently (threshold: 10%)\n",
      "2024-04-23 16:53:49,636 - distributed.utils_perf - WARNING - full garbage collections took 11% CPU time recently (threshold: 10%)\n",
      "2024-04-23 16:53:49,794 - INFO: - Training model...\n",
      "2024-04-23 16:53:49,889 - INFO: - start listen on 10.91.28.16:47103\n",
      "2024-04-23 16:53:50,160 - distributed.utils_perf - WARNING - full garbage collections took 15% CPU time recently (threshold: 10%)\n",
      "[16:53:50] task [xgboost.dask-0]:tcp://127.0.0.1:37645 got new rank 0\n",
      "[16:53:50] task [xgboost.dask-1]:tcp://127.0.0.1:38003 got new rank 1\n",
      "[16:53:50] task [xgboost.dask-2]:tcp://127.0.0.1:33739 got new rank 2\n",
      "2024-04-23 16:53:50,456 - INFO: - @tracker All of 3 nodes getting started\n",
      "2024-04-23 16:53:50,814 - distributed.utils_perf - WARNING - full garbage collections took 10% CPU time recently (threshold: 10%)\n",
      "2024-04-23 16:59:04,582 - INFO: - @tracker All nodes finishes job\n",
      "2024-04-23 16:59:04,954 - INFO: - Running model on test data...\n",
      "2024-04-23 16:59:10,889 - distributed.utils_perf - WARNING - full garbage collections took 15% CPU time recently (threshold: 10%)\n",
      "2024-04-23 16:59:11,005 - distributed.utils_perf - WARNING - full garbage collections took 10% CPU time recently (threshold: 10%)\n",
      "2024-04-23 16:59:11,633 - distributed.utils_perf - WARNING - full garbage collections took 10% CPU time recently (threshold: 10%)\n",
      "2024-04-23 16:59:11,707 - distributed.utils_perf - WARNING - full garbage collections took 15% CPU time recently (threshold: 10%)\n",
      "2024-04-23 16:59:12,933 - distributed.utils_perf - WARNING - full garbage collections took 15% CPU time recently (threshold: 10%)\n",
      "2024-04-23 16:59:13,342 - distributed.utils_perf - WARNING - full garbage collections took 10% CPU time recently (threshold: 10%)\n",
      "2024-04-23 16:59:13,725 - distributed.utils_perf - WARNING - full garbage collections took 10% CPU time recently (threshold: 10%)\n",
      "2024-04-23 16:59:15,441 - distributed.utils_perf - WARNING - full garbage collections took 10% CPU time recently (threshold: 10%)\n",
      "2024-04-23 16:59:23,789 - INFO: - Calculating metrics...\n",
      "2024-04-23 16:59:23,867 - INFO: - Calculating metrics...Completed\n"
     ]
    },
    {
     "name": "stdout",
     "output_type": "stream",
     "text": [
      "--------------------------------------------------------------------------------\n",
      " train_auc           :   0.95936\n",
      " train_logloss       :   0.27141\n",
      " val_auc             :   0.62451\n",
      " val_logloss         :   0.35518\n",
      " roc_auc             :   0.62517\n",
      " logloss             :   0.35518\n",
      " accuracy            :   0.87945\n",
      " bal_acc             :   0.00179\n",
      " top_k_acc           :   1.00000\n",
      " F1_score            :   0.00434\n",
      " map                 :   0.20623\n",
      " pearson_corr        :   0.17596\n",
      "--------------------------------------------------------------------------------\n",
      " CV Split 1 -  Training files: [0, 1, 4, 5, 6, 7, 8, 9]   Validation files: [2, 3]  \n"
     ]
    },
    {
     "name": "stderr",
     "output_type": "stream",
     "text": [
      "2024-04-23 16:59:30,219 - INFO: - CrossValidation split #1\n",
      "2024-04-23 16:59:30,219 - INFO: - Building training & validation DMatrix...\n",
      "2024-04-23 17:00:30,072 - distributed.utils_perf - WARNING - full garbage collections took 10% CPU time recently (threshold: 10%)\n",
      "2024-04-23 17:00:30,413 - distributed.utils_perf - WARNING - full garbage collections took 10% CPU time recently (threshold: 10%)\n",
      "2024-04-23 17:00:31,590 - distributed.utils_perf - WARNING - full garbage collections took 10% CPU time recently (threshold: 10%)\n",
      "2024-04-23 17:00:32,362 - distributed.utils_perf - WARNING - full garbage collections took 10% CPU time recently (threshold: 10%)\n",
      "2024-04-23 17:00:32,715 - distributed.utils_perf - WARNING - full garbage collections took 10% CPU time recently (threshold: 10%)\n",
      "2024-04-23 17:00:33,950 - distributed.utils_perf - WARNING - full garbage collections took 10% CPU time recently (threshold: 10%)\n",
      "2024-04-23 17:00:34,511 - distributed.utils_perf - WARNING - full garbage collections took 10% CPU time recently (threshold: 10%)\n",
      "2024-04-23 17:00:35,101 - distributed.utils_perf - WARNING - full garbage collections took 11% CPU time recently (threshold: 10%)\n",
      "2024-04-23 17:00:36,054 - distributed.utils_perf - WARNING - full garbage collections took 11% CPU time recently (threshold: 10%)\n",
      "2024-04-23 17:00:36,666 - distributed.utils_perf - WARNING - full garbage collections took 11% CPU time recently (threshold: 10%)\n",
      "2024-04-23 17:00:37,484 - distributed.utils_perf - WARNING - full garbage collections took 11% CPU time recently (threshold: 10%)\n",
      "2024-04-23 17:00:37,883 - distributed.utils_perf - WARNING - full garbage collections took 11% CPU time recently (threshold: 10%)\n",
      "2024-04-23 17:00:39,097 - distributed.utils_perf - WARNING - full garbage collections took 11% CPU time recently (threshold: 10%)\n",
      "2024-04-23 17:00:39,502 - distributed.utils_perf - WARNING - full garbage collections took 11% CPU time recently (threshold: 10%)\n",
      "2024-04-23 17:00:40,182 - distributed.utils_perf - WARNING - full garbage collections took 11% CPU time recently (threshold: 10%)\n",
      "2024-04-23 17:00:40,575 - distributed.utils_perf - WARNING - full garbage collections took 11% CPU time recently (threshold: 10%)\n",
      "2024-04-23 17:00:40,915 - distributed.utils_perf - WARNING - full garbage collections took 11% CPU time recently (threshold: 10%)\n",
      "2024-04-23 17:00:43,178 - distributed.utils_perf - WARNING - full garbage collections took 11% CPU time recently (threshold: 10%)\n",
      "2024-04-23 17:00:43,560 - distributed.utils_perf - WARNING - full garbage collections took 11% CPU time recently (threshold: 10%)\n",
      "2024-04-23 17:00:43,937 - distributed.utils_perf - WARNING - full garbage collections took 11% CPU time recently (threshold: 10%)\n",
      "2024-04-23 17:00:45,394 - distributed.utils_perf - WARNING - full garbage collections took 11% CPU time recently (threshold: 10%)\n",
      "2024-04-23 17:00:46,105 - distributed.utils_perf - WARNING - full garbage collections took 11% CPU time recently (threshold: 10%)\n",
      "2024-04-23 17:00:46,538 - distributed.utils_perf - WARNING - full garbage collections took 11% CPU time recently (threshold: 10%)\n",
      "2024-04-23 17:00:47,622 - distributed.utils_perf - WARNING - full garbage collections took 11% CPU time recently (threshold: 10%)\n",
      "2024-04-23 17:00:48,641 - distributed.utils_perf - WARNING - full garbage collections took 11% CPU time recently (threshold: 10%)\n",
      "2024-04-23 17:00:49,010 - distributed.utils_perf - WARNING - full garbage collections took 11% CPU time recently (threshold: 10%)\n",
      "2024-04-23 17:00:49,808 - distributed.utils_perf - WARNING - full garbage collections took 10% CPU time recently (threshold: 10%)\n",
      "2024-04-23 17:00:51,130 - distributed.utils_perf - WARNING - full garbage collections took 10% CPU time recently (threshold: 10%)\n",
      "2024-04-23 17:00:51,545 - distributed.utils_perf - WARNING - full garbage collections took 10% CPU time recently (threshold: 10%)\n",
      "2024-04-23 17:00:52,257 - distributed.utils_perf - WARNING - full garbage collections took 10% CPU time recently (threshold: 10%)\n",
      "2024-04-23 17:00:53,593 - distributed.utils_perf - WARNING - full garbage collections took 10% CPU time recently (threshold: 10%)\n",
      "2024-04-23 17:00:54,006 - distributed.utils_perf - WARNING - full garbage collections took 10% CPU time recently (threshold: 10%)\n",
      "2024-04-23 17:00:54,449 - distributed.utils_perf - WARNING - full garbage collections took 10% CPU time recently (threshold: 10%)\n",
      "2024-04-23 17:00:56,033 - distributed.utils_perf - WARNING - full garbage collections took 10% CPU time recently (threshold: 10%)\n",
      "2024-04-23 17:00:56,586 - distributed.utils_perf - WARNING - full garbage collections took 10% CPU time recently (threshold: 10%)\n",
      "2024-04-23 17:00:57,003 - distributed.utils_perf - WARNING - full garbage collections took 10% CPU time recently (threshold: 10%)\n",
      "2024-04-23 17:00:57,852 - distributed.utils_perf - WARNING - full garbage collections took 10% CPU time recently (threshold: 10%)\n",
      "2024-04-23 17:00:59,083 - distributed.utils_perf - WARNING - full garbage collections took 10% CPU time recently (threshold: 10%)\n",
      "2024-04-23 17:00:59,491 - distributed.utils_perf - WARNING - full garbage collections took 10% CPU time recently (threshold: 10%)\n",
      "2024-04-23 17:01:00,269 - INFO: - Training model...\n",
      "2024-04-23 17:01:00,278 - INFO: - start listen on 10.91.28.16:40653\n",
      "[17:01:00] task [xgboost.dask-0]:tcp://127.0.0.1:37645 got new rank 0\n",
      "[17:01:00] task [xgboost.dask-1]:tcp://127.0.0.1:38003 got new rank 1\n",
      "[17:01:00] task [xgboost.dask-2]:tcp://127.0.0.1:33739 got new rank 2\n",
      "2024-04-23 17:01:00,323 - INFO: - @tracker All of 3 nodes getting started\n",
      "2024-04-23 17:06:03,160 - INFO: - @tracker All nodes finishes job\n",
      "2024-04-23 17:06:03,484 - INFO: - Running model on test data...\n",
      "2024-04-23 17:06:22,656 - INFO: - Calculating metrics...\n",
      "2024-04-23 17:06:22,717 - INFO: - Calculating metrics...Completed\n"
     ]
    },
    {
     "name": "stdout",
     "output_type": "stream",
     "text": [
      "--------------------------------------------------------------------------------\n",
      " train_auc           :   0.95616\n",
      " train_logloss       :   0.27413\n",
      " val_auc             :   0.63047\n",
      " val_logloss         :   0.35732\n",
      " roc_auc             :   0.63110\n",
      " logloss             :   0.35732\n",
      " accuracy            :   0.87786\n",
      " bal_acc             :   0.00178\n",
      " top_k_acc           :   1.00000\n",
      " F1_score            :   0.00424\n",
      " map                 :   0.21082\n",
      " pearson_corr        :   0.18227\n",
      "--------------------------------------------------------------------------------\n",
      " CV Split 2 -  Training files: [0, 1, 2, 3, 6, 7, 8, 9]   Validation files: [4, 5]  \n"
     ]
    },
    {
     "name": "stderr",
     "output_type": "stream",
     "text": [
      "2024-04-23 17:06:29,105 - INFO: - CrossValidation split #2\n",
      "2024-04-23 17:06:29,106 - INFO: - Building training & validation DMatrix...\n",
      "2024-04-23 17:08:03,191 - INFO: - Training model...\n",
      "2024-04-23 17:08:03,204 - INFO: - start listen on 10.91.28.16:52087\n",
      "[17:08:03] task [xgboost.dask-0]:tcp://127.0.0.1:37645 got new rank 0\n",
      "[17:08:03] task [xgboost.dask-1]:tcp://127.0.0.1:38003 got new rank 1\n",
      "[17:08:03] task [xgboost.dask-2]:tcp://127.0.0.1:33739 got new rank 2\n",
      "2024-04-23 17:08:03,263 - INFO: - @tracker All of 3 nodes getting started\n",
      "2024-04-23 17:13:55,353 - INFO: - @tracker All nodes finishes job\n",
      "2024-04-23 17:13:55,692 - INFO: - Running model on test data...\n",
      "2024-04-23 17:14:15,667 - INFO: - Calculating metrics...\n",
      "2024-04-23 17:14:15,735 - INFO: - Calculating metrics...Completed\n"
     ]
    },
    {
     "name": "stdout",
     "output_type": "stream",
     "text": [
      "--------------------------------------------------------------------------------\n",
      " train_auc           :   0.96828\n",
      " train_logloss       :   0.26431\n",
      " val_auc             :   0.62768\n",
      " val_logloss         :   0.34630\n",
      " roc_auc             :   0.62924\n",
      " logloss             :   0.34630\n",
      " accuracy            :   0.88364\n",
      " bal_acc             :   0.00358\n",
      " top_k_acc           :   1.00000\n",
      " F1_score            :   0.00747\n",
      " map                 :   0.20960\n",
      " pearson_corr        :   0.18676\n",
      "--------------------------------------------------------------------------------\n",
      " CV Split 3 -  Training files: [0, 1, 2, 3, 4, 5, 8, 9]   Validation files: [6, 7]  \n"
     ]
    },
    {
     "name": "stderr",
     "output_type": "stream",
     "text": [
      "2024-04-23 17:14:22,538 - INFO: - CrossValidation split #3\n",
      "2024-04-23 17:14:22,539 - INFO: - Building training & validation DMatrix...\n",
      "2024-04-23 17:14:35,714 - distributed.utils_perf - WARNING - full garbage collections took 10% CPU time recently (threshold: 10%)\n",
      "2024-04-23 17:14:36,105 - distributed.utils_perf - WARNING - full garbage collections took 10% CPU time recently (threshold: 10%)\n",
      "2024-04-23 17:14:36,499 - distributed.utils_perf - WARNING - full garbage collections took 10% CPU time recently (threshold: 10%)\n",
      "2024-04-23 17:14:37,722 - distributed.utils_perf - WARNING - full garbage collections took 10% CPU time recently (threshold: 10%)\n",
      "2024-04-23 17:14:38,583 - distributed.utils_perf - WARNING - full garbage collections took 10% CPU time recently (threshold: 10%)\n",
      "2024-04-23 17:14:39,029 - distributed.utils_perf - WARNING - full garbage collections took 11% CPU time recently (threshold: 10%)\n",
      "2024-04-23 17:14:39,438 - distributed.utils_perf - WARNING - full garbage collections took 11% CPU time recently (threshold: 10%)\n",
      "2024-04-23 17:14:41,151 - distributed.utils_perf - WARNING - full garbage collections took 11% CPU time recently (threshold: 10%)\n",
      "2024-04-23 17:14:41,568 - distributed.utils_perf - WARNING - full garbage collections took 11% CPU time recently (threshold: 10%)\n",
      "2024-04-23 17:14:41,990 - distributed.utils_perf - WARNING - full garbage collections took 11% CPU time recently (threshold: 10%)\n",
      "2024-04-23 17:14:43,257 - distributed.utils_perf - WARNING - full garbage collections took 11% CPU time recently (threshold: 10%)\n",
      "2024-04-23 17:14:44,152 - distributed.utils_perf - WARNING - full garbage collections took 11% CPU time recently (threshold: 10%)\n",
      "2024-04-23 17:14:44,570 - distributed.utils_perf - WARNING - full garbage collections took 11% CPU time recently (threshold: 10%)\n",
      "2024-04-23 17:14:44,986 - distributed.utils_perf - WARNING - full garbage collections took 11% CPU time recently (threshold: 10%)\n",
      "2024-04-23 17:14:46,234 - distributed.utils_perf - WARNING - full garbage collections took 11% CPU time recently (threshold: 10%)\n",
      "2024-04-23 17:14:47,205 - distributed.utils_perf - WARNING - full garbage collections took 11% CPU time recently (threshold: 10%)\n",
      "2024-04-23 17:14:47,623 - distributed.utils_perf - WARNING - full garbage collections took 11% CPU time recently (threshold: 10%)\n",
      "2024-04-23 17:14:48,043 - distributed.utils_perf - WARNING - full garbage collections took 11% CPU time recently (threshold: 10%)\n",
      "2024-04-23 17:14:49,619 - distributed.utils_perf - WARNING - full garbage collections took 11% CPU time recently (threshold: 10%)\n",
      "2024-04-23 17:14:50,291 - distributed.utils_perf - WARNING - full garbage collections took 11% CPU time recently (threshold: 10%)\n",
      "2024-04-23 17:14:50,748 - distributed.utils_perf - WARNING - full garbage collections took 11% CPU time recently (threshold: 10%)\n",
      "2024-04-23 17:14:52,008 - distributed.utils_perf - WARNING - full garbage collections took 11% CPU time recently (threshold: 10%)\n",
      "2024-04-23 17:14:52,950 - distributed.utils_perf - WARNING - full garbage collections took 11% CPU time recently (threshold: 10%)\n",
      "2024-04-23 17:14:53,379 - distributed.utils_perf - WARNING - full garbage collections took 11% CPU time recently (threshold: 10%)\n",
      "2024-04-23 17:14:54,647 - distributed.utils_perf - WARNING - full garbage collections took 11% CPU time recently (threshold: 10%)\n",
      "2024-04-23 17:14:55,068 - distributed.utils_perf - WARNING - full garbage collections took 11% CPU time recently (threshold: 10%)\n",
      "2024-04-23 17:14:55,971 - distributed.utils_perf - WARNING - full garbage collections took 11% CPU time recently (threshold: 10%)\n",
      "2024-04-23 17:14:56,398 - distributed.utils_perf - WARNING - full garbage collections took 11% CPU time recently (threshold: 10%)\n",
      "2024-04-23 17:14:57,759 - distributed.utils_perf - WARNING - full garbage collections took 11% CPU time recently (threshold: 10%)\n",
      "2024-04-23 17:14:58,702 - distributed.utils_perf - WARNING - full garbage collections took 11% CPU time recently (threshold: 10%)\n",
      "2024-04-23 17:14:59,133 - distributed.utils_perf - WARNING - full garbage collections took 11% CPU time recently (threshold: 10%)\n",
      "2024-04-23 17:15:00,441 - distributed.utils_perf - WARNING - full garbage collections took 11% CPU time recently (threshold: 10%)\n",
      "2024-04-23 17:15:01,173 - distributed.utils_perf - WARNING - full garbage collections took 11% CPU time recently (threshold: 10%)\n",
      "2024-04-23 17:15:01,865 - distributed.utils_perf - WARNING - full garbage collections took 11% CPU time recently (threshold: 10%)\n",
      "2024-04-23 17:15:02,867 - distributed.utils_perf - WARNING - full garbage collections took 11% CPU time recently (threshold: 10%)\n",
      "2024-04-23 17:15:03,547 - distributed.utils_perf - WARNING - full garbage collections took 11% CPU time recently (threshold: 10%)\n",
      "2024-04-23 17:15:04,433 - distributed.utils_perf - WARNING - full garbage collections took 11% CPU time recently (threshold: 10%)\n",
      "2024-04-23 17:15:04,871 - distributed.utils_perf - WARNING - full garbage collections took 11% CPU time recently (threshold: 10%)\n",
      "2024-04-23 17:15:07,862 - distributed.utils_perf - WARNING - full garbage collections took 11% CPU time recently (threshold: 10%)\n",
      "2024-04-23 17:15:08,844 - distributed.utils_perf - WARNING - full garbage collections took 11% CPU time recently (threshold: 10%)\n",
      "2024-04-23 17:15:09,301 - distributed.utils_perf - WARNING - full garbage collections took 11% CPU time recently (threshold: 10%)\n",
      "2024-04-23 17:15:10,560 - distributed.utils_perf - WARNING - full garbage collections took 11% CPU time recently (threshold: 10%)\n",
      "2024-04-23 17:15:11,520 - distributed.utils_perf - WARNING - full garbage collections took 11% CPU time recently (threshold: 10%)\n",
      "2024-04-23 17:15:11,957 - distributed.utils_perf - WARNING - full garbage collections took 11% CPU time recently (threshold: 10%)\n",
      "2024-04-23 17:15:12,973 - distributed.utils_perf - WARNING - full garbage collections took 11% CPU time recently (threshold: 10%)\n",
      "2024-04-23 17:15:13,665 - distributed.utils_perf - WARNING - full garbage collections took 11% CPU time recently (threshold: 10%)\n",
      "2024-04-23 17:15:14,584 - distributed.utils_perf - WARNING - full garbage collections took 11% CPU time recently (threshold: 10%)\n",
      "2024-04-23 17:15:15,014 - distributed.utils_perf - WARNING - full garbage collections took 11% CPU time recently (threshold: 10%)\n",
      "2024-04-23 17:15:16,292 - distributed.utils_perf - WARNING - full garbage collections took 11% CPU time recently (threshold: 10%)\n",
      "2024-04-23 17:15:17,301 - distributed.utils_perf - WARNING - full garbage collections took 11% CPU time recently (threshold: 10%)\n",
      "2024-04-23 17:15:17,782 - distributed.utils_perf - WARNING - full garbage collections took 11% CPU time recently (threshold: 10%)\n",
      "2024-04-23 17:15:19,028 - distributed.utils_perf - WARNING - full garbage collections took 11% CPU time recently (threshold: 10%)\n",
      "2024-04-23 17:15:19,961 - distributed.utils_perf - WARNING - full garbage collections took 13% CPU time recently (threshold: 10%)\n",
      "2024-04-23 17:15:20,421 - distributed.utils_perf - WARNING - full garbage collections took 13% CPU time recently (threshold: 10%)\n",
      "2024-04-23 17:15:21,679 - distributed.utils_perf - WARNING - full garbage collections took 13% CPU time recently (threshold: 10%)\n",
      "2024-04-23 17:15:22,397 - distributed.utils_perf - WARNING - full garbage collections took 13% CPU time recently (threshold: 10%)\n",
      "2024-04-23 17:15:23,101 - distributed.utils_perf - WARNING - full garbage collections took 13% CPU time recently (threshold: 10%)\n",
      "2024-04-23 17:15:24,229 - distributed.utils_perf - WARNING - full garbage collections took 13% CPU time recently (threshold: 10%)\n",
      "2024-04-23 17:15:24,865 - distributed.utils_perf - WARNING - full garbage collections took 13% CPU time recently (threshold: 10%)\n",
      "2024-04-23 17:15:25,880 - distributed.utils_perf - WARNING - full garbage collections took 13% CPU time recently (threshold: 10%)\n",
      "2024-04-23 17:15:26,948 - distributed.utils_perf - WARNING - full garbage collections took 13% CPU time recently (threshold: 10%)\n",
      "2024-04-23 17:15:27,663 - distributed.utils_perf - WARNING - full garbage collections took 13% CPU time recently (threshold: 10%)\n",
      "2024-04-23 17:15:28,674 - distributed.utils_perf - WARNING - full garbage collections took 13% CPU time recently (threshold: 10%)\n",
      "2024-04-23 17:15:29,747 - distributed.utils_perf - WARNING - full garbage collections took 13% CPU time recently (threshold: 10%)\n",
      "2024-04-23 17:15:30,457 - distributed.utils_perf - WARNING - full garbage collections took 13% CPU time recently (threshold: 10%)\n",
      "2024-04-23 17:15:31,471 - distributed.utils_perf - WARNING - full garbage collections took 13% CPU time recently (threshold: 10%)\n",
      "2024-04-23 17:15:32,626 - distributed.utils_perf - WARNING - full garbage collections took 13% CPU time recently (threshold: 10%)\n",
      "2024-04-23 17:15:33,530 - distributed.utils_perf - WARNING - full garbage collections took 13% CPU time recently (threshold: 10%)\n",
      "2024-04-23 17:15:34,253 - distributed.utils_perf - WARNING - full garbage collections took 13% CPU time recently (threshold: 10%)\n",
      "2024-04-23 17:15:35,623 - distributed.utils_perf - WARNING - full garbage collections took 13% CPU time recently (threshold: 10%)\n",
      "2024-04-23 17:15:36,286 - distributed.utils_perf - WARNING - full garbage collections took 13% CPU time recently (threshold: 10%)\n",
      "2024-04-23 17:15:37,231 - distributed.utils_perf - WARNING - full garbage collections took 13% CPU time recently (threshold: 10%)\n",
      "2024-04-23 17:15:38,397 - distributed.utils_perf - WARNING - full garbage collections took 13% CPU time recently (threshold: 10%)\n",
      "2024-04-23 17:15:39,062 - distributed.utils_perf - WARNING - full garbage collections took 13% CPU time recently (threshold: 10%)\n",
      "2024-04-23 17:15:39,958 - distributed.utils_perf - WARNING - full garbage collections took 13% CPU time recently (threshold: 10%)\n",
      "2024-04-23 17:15:40,469 - distributed.utils_perf - WARNING - full garbage collections took 13% CPU time recently (threshold: 10%)\n",
      "2024-04-23 17:15:42,630 - distributed.utils_perf - WARNING - full garbage collections took 13% CPU time recently (threshold: 10%)\n",
      "2024-04-23 17:15:43,144 - distributed.utils_perf - WARNING - full garbage collections took 13% CPU time recently (threshold: 10%)\n",
      "2024-04-23 17:15:44,493 - distributed.utils_perf - WARNING - full garbage collections took 12% CPU time recently (threshold: 10%)\n",
      "2024-04-23 17:15:45,321 - distributed.utils_perf - WARNING - full garbage collections took 12% CPU time recently (threshold: 10%)\n",
      "2024-04-23 17:15:45,973 - distributed.utils_perf - WARNING - full garbage collections took 12% CPU time recently (threshold: 10%)\n",
      "2024-04-23 17:15:47,268 - distributed.utils_perf - WARNING - full garbage collections took 12% CPU time recently (threshold: 10%)\n",
      "2024-04-23 17:15:48,239 - distributed.utils_perf - WARNING - full garbage collections took 12% CPU time recently (threshold: 10%)\n",
      "2024-04-23 17:15:48,733 - distributed.utils_perf - WARNING - full garbage collections took 12% CPU time recently (threshold: 10%)\n",
      "2024-04-23 17:15:50,096 - distributed.utils_perf - WARNING - full garbage collections took 12% CPU time recently (threshold: 10%)\n",
      "2024-04-23 17:15:51,100 - distributed.utils_perf - WARNING - full garbage collections took 12% CPU time recently (threshold: 10%)\n",
      "2024-04-23 17:15:51,617 - distributed.utils_perf - WARNING - full garbage collections took 12% CPU time recently (threshold: 10%)\n",
      "2024-04-23 17:15:52,994 - distributed.utils_perf - WARNING - full garbage collections took 12% CPU time recently (threshold: 10%)\n",
      "2024-04-23 17:15:53,978 - distributed.utils_perf - WARNING - full garbage collections took 12% CPU time recently (threshold: 10%)\n",
      "2024-04-23 17:15:54,486 - distributed.utils_perf - WARNING - full garbage collections took 12% CPU time recently (threshold: 10%)\n",
      "2024-04-23 17:15:54,868 - distributed.utils_perf - WARNING - full garbage collections took 10% CPU time recently (threshold: 10%)\n",
      "2024-04-23 17:15:55,852 - distributed.utils_perf - WARNING - full garbage collections took 10% CPU time recently (threshold: 10%)\n",
      "2024-04-23 17:15:55,868 - distributed.utils_perf - WARNING - full garbage collections took 12% CPU time recently (threshold: 10%)\n",
      "2024-04-23 17:15:56,345 - distributed.utils_perf - WARNING - full garbage collections took 10% CPU time recently (threshold: 10%)\n",
      "2024-04-23 17:15:56,834 - distributed.utils_perf - WARNING - full garbage collections took 12% CPU time recently (threshold: 10%)\n",
      "2024-04-23 17:15:57,599 - distributed.utils_perf - WARNING - full garbage collections took 10% CPU time recently (threshold: 10%)\n",
      "2024-04-23 17:15:57,980 - distributed.utils_perf - WARNING - full garbage collections took 11% CPU time recently (threshold: 10%)\n",
      "2024-04-23 17:15:58,248 - distributed.utils_perf - WARNING - full garbage collections took 10% CPU time recently (threshold: 10%)\n",
      "2024-04-23 17:15:58,669 - distributed.utils_perf - WARNING - full garbage collections took 12% CPU time recently (threshold: 10%)\n",
      "2024-04-23 17:15:58,921 - distributed.utils_perf - WARNING - full garbage collections took 10% CPU time recently (threshold: 10%)\n",
      "2024-04-23 17:15:59,556 - distributed.utils_perf - WARNING - full garbage collections took 12% CPU time recently (threshold: 10%)\n",
      "2024-04-23 17:15:59,860 - INFO: - Training model...\n",
      "2024-04-23 17:15:59,868 - INFO: - start listen on 10.91.28.16:60809\n",
      "[17:15:59] task [xgboost.dask-0]:tcp://127.0.0.1:37645 got new rank 0\n",
      "[17:15:59] task [xgboost.dask-1]:tcp://127.0.0.1:38003 got new rank 1\n",
      "[17:15:59] task [xgboost.dask-2]:tcp://127.0.0.1:33739 got new rank 2\n",
      "2024-04-23 17:15:59,925 - INFO: - @tracker All of 3 nodes getting started\n",
      "2024-04-23 17:19:14,473 - distributed.utils_perf - WARNING - full garbage collections took 12% CPU time recently (threshold: 10%)\n",
      "2024-04-23 17:21:18,481 - INFO: - @tracker All nodes finishes job\n",
      "2024-04-23 17:21:18,911 - INFO: - Running model on test data...\n",
      "2024-04-23 17:21:26,130 - distributed.utils_perf - WARNING - full garbage collections took 12% CPU time recently (threshold: 10%)\n",
      "2024-04-23 17:21:27,801 - distributed.utils_perf - WARNING - full garbage collections took 12% CPU time recently (threshold: 10%)\n",
      "2024-04-23 17:21:28,819 - distributed.utils_perf - WARNING - full garbage collections took 12% CPU time recently (threshold: 10%)\n",
      "2024-04-23 17:21:30,646 - distributed.utils_perf - WARNING - full garbage collections took 12% CPU time recently (threshold: 10%)\n",
      "2024-04-23 17:21:31,424 - distributed.utils_perf - WARNING - full garbage collections took 12% CPU time recently (threshold: 10%)\n",
      "2024-04-23 17:21:33,016 - distributed.utils_perf - WARNING - full garbage collections took 12% CPU time recently (threshold: 10%)\n",
      "2024-04-23 17:21:34,516 - distributed.utils_perf - WARNING - full garbage collections took 12% CPU time recently (threshold: 10%)\n",
      "2024-04-23 17:21:35,510 - distributed.utils_perf - WARNING - full garbage collections took 12% CPU time recently (threshold: 10%)\n",
      "2024-04-23 17:21:36,797 - distributed.utils_perf - WARNING - full garbage collections took 12% CPU time recently (threshold: 10%)\n",
      "2024-04-23 17:21:37,804 - distributed.utils_perf - WARNING - full garbage collections took 12% CPU time recently (threshold: 10%)\n",
      "2024-04-23 17:21:39,626 - distributed.utils_perf - WARNING - full garbage collections took 12% CPU time recently (threshold: 10%)\n",
      "2024-04-23 17:21:39,974 - INFO: - Calculating metrics...\n",
      "2024-04-23 17:21:40,031 - INFO: - Calculating metrics...Completed\n"
     ]
    },
    {
     "name": "stdout",
     "output_type": "stream",
     "text": [
      "--------------------------------------------------------------------------------\n",
      " train_auc           :   0.95796\n",
      " train_logloss       :   0.27216\n",
      " val_auc             :   0.61741\n",
      " val_logloss         :   0.35235\n",
      " roc_auc             :   0.61800\n",
      " logloss             :   0.35235\n",
      " accuracy            :   0.88179\n",
      " bal_acc             :   0.00432\n",
      " top_k_acc           :   1.00000\n",
      " F1_score            :   0.00957\n",
      " map                 :   0.19759\n",
      " pearson_corr        :   0.16482\n",
      "--------------------------------------------------------------------------------\n",
      " CV Split 4 -  Training files: [0, 1, 2, 3, 4, 5, 6, 7]   Validation files: [8, 9]  \n"
     ]
    },
    {
     "name": "stderr",
     "output_type": "stream",
     "text": [
      "2024-04-23 17:21:46,526 - INFO: - CrossValidation split #4\n",
      "2024-04-23 17:21:46,527 - INFO: - Building training & validation DMatrix...\n",
      "2024-04-23 17:21:48,040 - distributed.utils_perf - WARNING - full garbage collections took 12% CPU time recently (threshold: 10%)\n",
      "2024-04-23 17:21:48,724 - distributed.utils_perf - WARNING - full garbage collections took 12% CPU time recently (threshold: 10%)\n",
      "2024-04-23 17:21:49,057 - distributed.utils_perf - WARNING - full garbage collections took 12% CPU time recently (threshold: 10%)\n",
      "2024-04-23 17:21:49,407 - distributed.utils_perf - WARNING - full garbage collections took 12% CPU time recently (threshold: 10%)\n",
      "2024-04-23 17:21:50,585 - distributed.utils_perf - WARNING - full garbage collections took 12% CPU time recently (threshold: 10%)\n",
      "2024-04-23 17:21:51,288 - distributed.utils_perf - WARNING - full garbage collections took 12% CPU time recently (threshold: 10%)\n",
      "2024-04-23 17:21:51,631 - distributed.utils_perf - WARNING - full garbage collections took 12% CPU time recently (threshold: 10%)\n",
      "2024-04-23 17:21:51,959 - distributed.utils_perf - WARNING - full garbage collections took 12% CPU time recently (threshold: 10%)\n",
      "2024-04-23 17:21:53,296 - distributed.utils_perf - WARNING - full garbage collections took 12% CPU time recently (threshold: 10%)\n",
      "2024-04-23 17:21:53,878 - distributed.utils_perf - WARNING - full garbage collections took 12% CPU time recently (threshold: 10%)\n",
      "2024-04-23 17:21:54,224 - distributed.utils_perf - WARNING - full garbage collections took 12% CPU time recently (threshold: 10%)\n",
      "2024-04-23 17:21:54,542 - distributed.utils_perf - WARNING - full garbage collections took 12% CPU time recently (threshold: 10%)\n",
      "2024-04-23 17:21:56,124 - distributed.utils_perf - WARNING - full garbage collections took 12% CPU time recently (threshold: 10%)\n",
      "2024-04-23 17:21:56,445 - distributed.utils_perf - WARNING - full garbage collections took 12% CPU time recently (threshold: 10%)\n",
      "2024-04-23 17:21:56,791 - distributed.utils_perf - WARNING - full garbage collections took 12% CPU time recently (threshold: 10%)\n",
      "2024-04-23 17:21:57,701 - distributed.utils_perf - WARNING - full garbage collections took 12% CPU time recently (threshold: 10%)\n",
      "2024-04-23 17:21:58,754 - distributed.utils_perf - WARNING - full garbage collections took 12% CPU time recently (threshold: 10%)\n",
      "2024-04-23 17:21:59,099 - distributed.utils_perf - WARNING - full garbage collections took 12% CPU time recently (threshold: 10%)\n",
      "2024-04-23 17:21:59,443 - distributed.utils_perf - WARNING - full garbage collections took 12% CPU time recently (threshold: 10%)\n",
      "2024-04-23 17:22:00,558 - distributed.utils_perf - WARNING - full garbage collections took 12% CPU time recently (threshold: 10%)\n",
      "2024-04-23 17:22:01,430 - distributed.utils_perf - WARNING - full garbage collections took 12% CPU time recently (threshold: 10%)\n",
      "2024-04-23 17:22:01,783 - distributed.utils_perf - WARNING - full garbage collections took 12% CPU time recently (threshold: 10%)\n",
      "2024-04-23 17:22:02,900 - distributed.utils_perf - WARNING - full garbage collections took 12% CPU time recently (threshold: 10%)\n",
      "2024-04-23 17:22:03,253 - distributed.utils_perf - WARNING - full garbage collections took 12% CPU time recently (threshold: 10%)\n",
      "2024-04-23 17:22:04,125 - distributed.utils_perf - WARNING - full garbage collections took 12% CPU time recently (threshold: 10%)\n",
      "2024-04-23 17:22:05,231 - distributed.utils_perf - WARNING - full garbage collections took 12% CPU time recently (threshold: 10%)\n",
      "2024-04-23 17:22:05,592 - distributed.utils_perf - WARNING - full garbage collections took 12% CPU time recently (threshold: 10%)\n",
      "2024-04-23 17:22:06,175 - distributed.utils_perf - WARNING - full garbage collections took 12% CPU time recently (threshold: 10%)\n",
      "2024-04-23 17:22:06,775 - distributed.utils_perf - WARNING - full garbage collections took 12% CPU time recently (threshold: 10%)\n",
      "2024-04-23 17:22:07,942 - distributed.utils_perf - WARNING - full garbage collections took 12% CPU time recently (threshold: 10%)\n",
      "2024-04-23 17:22:08,337 - distributed.utils_perf - WARNING - full garbage collections took 12% CPU time recently (threshold: 10%)\n",
      "2024-04-23 17:22:09,216 - distributed.utils_perf - WARNING - full garbage collections took 12% CPU time recently (threshold: 10%)\n",
      "2024-04-23 17:22:09,606 - distributed.utils_perf - WARNING - full garbage collections took 12% CPU time recently (threshold: 10%)\n",
      "2024-04-23 17:22:10,851 - distributed.utils_perf - WARNING - full garbage collections took 12% CPU time recently (threshold: 10%)\n",
      "2024-04-23 17:22:11,269 - distributed.utils_perf - WARNING - full garbage collections took 12% CPU time recently (threshold: 10%)\n",
      "2024-04-23 17:22:12,150 - distributed.utils_perf - WARNING - full garbage collections took 12% CPU time recently (threshold: 10%)\n",
      "2024-04-23 17:22:13,396 - distributed.utils_perf - WARNING - full garbage collections took 12% CPU time recently (threshold: 10%)\n",
      "2024-04-23 17:22:13,809 - distributed.utils_perf - WARNING - full garbage collections took 12% CPU time recently (threshold: 10%)\n",
      "2024-04-23 17:22:14,717 - distributed.utils_perf - WARNING - full garbage collections took 12% CPU time recently (threshold: 10%)\n",
      "2024-04-23 17:22:15,706 - distributed.utils_perf - WARNING - full garbage collections took 12% CPU time recently (threshold: 10%)\n",
      "2024-04-23 17:22:16,368 - distributed.utils_perf - WARNING - full garbage collections took 12% CPU time recently (threshold: 10%)\n",
      "2024-04-23 17:22:16,773 - distributed.utils_perf - WARNING - full garbage collections took 12% CPU time recently (threshold: 10%)\n",
      "2024-04-23 17:22:17,655 - distributed.utils_perf - WARNING - full garbage collections took 12% CPU time recently (threshold: 10%)\n",
      "2024-04-23 17:22:18,887 - distributed.utils_perf - WARNING - full garbage collections took 12% CPU time recently (threshold: 10%)\n",
      "2024-04-23 17:22:19,293 - distributed.utils_perf - WARNING - full garbage collections took 12% CPU time recently (threshold: 10%)\n",
      "2024-04-23 17:22:20,177 - distributed.utils_perf - WARNING - full garbage collections took 12% CPU time recently (threshold: 10%)\n",
      "2024-04-23 17:22:21,276 - distributed.utils_perf - WARNING - full garbage collections took 12% CPU time recently (threshold: 10%)\n",
      "2024-04-23 17:22:21,925 - distributed.utils_perf - WARNING - full garbage collections took 12% CPU time recently (threshold: 10%)\n",
      "2024-04-23 17:22:22,581 - distributed.utils_perf - WARNING - full garbage collections took 12% CPU time recently (threshold: 10%)\n",
      "2024-04-23 17:22:23,289 - distributed.utils_perf - WARNING - full garbage collections took 12% CPU time recently (threshold: 10%)\n",
      "2024-04-23 17:22:24,576 - distributed.utils_perf - WARNING - full garbage collections took 12% CPU time recently (threshold: 10%)\n",
      "2024-04-23 17:22:25,009 - distributed.utils_perf - WARNING - full garbage collections took 12% CPU time recently (threshold: 10%)\n",
      "2024-04-23 17:22:25,921 - distributed.utils_perf - WARNING - full garbage collections took 12% CPU time recently (threshold: 10%)\n",
      "2024-04-23 17:22:27,205 - distributed.utils_perf - WARNING - full garbage collections took 12% CPU time recently (threshold: 10%)\n",
      "2024-04-23 17:22:27,642 - distributed.utils_perf - WARNING - full garbage collections took 12% CPU time recently (threshold: 10%)\n",
      "2024-04-23 17:22:28,544 - distributed.utils_perf - WARNING - full garbage collections took 12% CPU time recently (threshold: 10%)\n",
      "2024-04-23 17:22:29,820 - distributed.utils_perf - WARNING - full garbage collections took 12% CPU time recently (threshold: 10%)\n",
      "2024-04-23 17:22:30,249 - distributed.utils_perf - WARNING - full garbage collections took 12% CPU time recently (threshold: 10%)\n",
      "2024-04-23 17:22:31,183 - distributed.utils_perf - WARNING - full garbage collections took 12% CPU time recently (threshold: 10%)\n",
      "2024-04-23 17:22:31,609 - distributed.utils_perf - WARNING - full garbage collections took 12% CPU time recently (threshold: 10%)\n",
      "2024-04-23 17:22:32,912 - distributed.utils_perf - WARNING - full garbage collections took 12% CPU time recently (threshold: 10%)\n",
      "2024-04-23 17:22:33,589 - distributed.utils_perf - WARNING - full garbage collections took 12% CPU time recently (threshold: 10%)\n",
      "2024-04-23 17:22:34,272 - distributed.utils_perf - WARNING - full garbage collections took 12% CPU time recently (threshold: 10%)\n",
      "2024-04-23 17:22:35,589 - distributed.utils_perf - WARNING - full garbage collections took 12% CPU time recently (threshold: 10%)\n",
      "2024-04-23 17:22:36,374 - distributed.utils_perf - WARNING - full garbage collections took 12% CPU time recently (threshold: 10%)\n",
      "2024-04-23 17:22:37,084 - distributed.utils_perf - WARNING - full garbage collections took 12% CPU time recently (threshold: 10%)\n",
      "2024-04-23 17:22:38,341 - distributed.utils_perf - WARNING - full garbage collections took 12% CPU time recently (threshold: 10%)\n",
      "2024-04-23 17:22:38,779 - distributed.utils_perf - WARNING - full garbage collections took 12% CPU time recently (threshold: 10%)\n",
      "2024-04-23 17:22:39,711 - distributed.utils_perf - WARNING - full garbage collections took 12% CPU time recently (threshold: 10%)\n",
      "2024-04-23 17:22:40,978 - distributed.utils_perf - WARNING - full garbage collections took 12% CPU time recently (threshold: 10%)\n",
      "2024-04-23 17:22:41,442 - distributed.utils_perf - WARNING - full garbage collections took 12% CPU time recently (threshold: 10%)\n",
      "2024-04-23 17:22:42,447 - distributed.utils_perf - WARNING - full garbage collections took 12% CPU time recently (threshold: 10%)\n",
      "2024-04-23 17:22:43,695 - distributed.utils_perf - WARNING - full garbage collections took 12% CPU time recently (threshold: 10%)\n",
      "2024-04-23 17:22:44,160 - distributed.utils_perf - WARNING - full garbage collections took 12% CPU time recently (threshold: 10%)\n",
      "2024-04-23 17:22:45,223 - distributed.utils_perf - WARNING - full garbage collections took 12% CPU time recently (threshold: 10%)\n",
      "2024-04-23 17:22:46,277 - distributed.utils_perf - WARNING - full garbage collections took 12% CPU time recently (threshold: 10%)\n",
      "2024-04-23 17:22:46,965 - distributed.utils_perf - WARNING - full garbage collections took 12% CPU time recently (threshold: 10%)\n",
      "2024-04-23 17:22:48,071 - distributed.utils_perf - WARNING - full garbage collections took 12% CPU time recently (threshold: 10%)\n",
      "2024-04-23 17:22:49,001 - distributed.utils_perf - WARNING - full garbage collections took 12% CPU time recently (threshold: 10%)\n",
      "2024-04-23 17:22:49,724 - distributed.utils_perf - WARNING - full garbage collections took 12% CPU time recently (threshold: 10%)\n",
      "2024-04-23 17:22:51,027 - distributed.utils_perf - WARNING - full garbage collections took 12% CPU time recently (threshold: 10%)\n",
      "2024-04-23 17:22:51,949 - distributed.utils_perf - WARNING - full garbage collections took 12% CPU time recently (threshold: 10%)\n",
      "2024-04-23 17:22:52,564 - distributed.utils_perf - WARNING - full garbage collections took 12% CPU time recently (threshold: 10%)\n",
      "2024-04-23 17:22:53,886 - distributed.utils_perf - WARNING - full garbage collections took 12% CPU time recently (threshold: 10%)\n",
      "2024-04-23 17:22:54,880 - distributed.utils_perf - WARNING - full garbage collections took 12% CPU time recently (threshold: 10%)\n",
      "2024-04-23 17:22:55,337 - distributed.utils_perf - WARNING - full garbage collections took 12% CPU time recently (threshold: 10%)\n",
      "2024-04-23 17:22:56,654 - distributed.utils_perf - WARNING - full garbage collections took 12% CPU time recently (threshold: 10%)\n",
      "2024-04-23 17:22:57,441 - distributed.utils_perf - WARNING - full garbage collections took 12% CPU time recently (threshold: 10%)\n",
      "2024-04-23 17:22:58,118 - distributed.utils_perf - WARNING - full garbage collections took 12% CPU time recently (threshold: 10%)\n",
      "2024-04-23 17:22:59,421 - distributed.utils_perf - WARNING - full garbage collections took 12% CPU time recently (threshold: 10%)\n",
      "2024-04-23 17:22:59,898 - distributed.utils_perf - WARNING - full garbage collections took 12% CPU time recently (threshold: 10%)\n",
      "2024-04-23 17:23:00,782 - distributed.utils_perf - WARNING - full garbage collections took 12% CPU time recently (threshold: 10%)\n",
      "2024-04-23 17:23:02,876 - distributed.utils_perf - WARNING - full garbage collections took 12% CPU time recently (threshold: 10%)\n",
      "2024-04-23 17:23:03,890 - distributed.utils_perf - WARNING - full garbage collections took 12% CPU time recently (threshold: 10%)\n",
      "2024-04-23 17:23:04,419 - distributed.utils_perf - WARNING - full garbage collections took 12% CPU time recently (threshold: 10%)\n",
      "2024-04-23 17:23:05,761 - distributed.utils_perf - WARNING - full garbage collections took 12% CPU time recently (threshold: 10%)\n",
      "2024-04-23 17:23:06,726 - distributed.utils_perf - WARNING - full garbage collections took 12% CPU time recently (threshold: 10%)\n",
      "2024-04-23 17:23:07,276 - distributed.utils_perf - WARNING - full garbage collections took 12% CPU time recently (threshold: 10%)\n",
      "2024-04-23 17:23:08,624 - distributed.utils_perf - WARNING - full garbage collections took 12% CPU time recently (threshold: 10%)\n",
      "2024-04-23 17:23:09,634 - distributed.utils_perf - WARNING - full garbage collections took 12% CPU time recently (threshold: 10%)\n",
      "2024-04-23 17:23:10,150 - distributed.utils_perf - WARNING - full garbage collections took 12% CPU time recently (threshold: 10%)\n",
      "2024-04-23 17:23:11,445 - distributed.utils_perf - WARNING - full garbage collections took 12% CPU time recently (threshold: 10%)\n",
      "2024-04-23 17:23:12,462 - distributed.utils_perf - WARNING - full garbage collections took 12% CPU time recently (threshold: 10%)\n",
      "2024-04-23 17:23:12,978 - distributed.utils_perf - WARNING - full garbage collections took 12% CPU time recently (threshold: 10%)\n",
      "2024-04-23 17:23:14,815 - distributed.utils_perf - WARNING - full garbage collections took 12% CPU time recently (threshold: 10%)\n",
      "2024-04-23 17:23:15,319 - distributed.utils_perf - WARNING - full garbage collections took 12% CPU time recently (threshold: 10%)\n",
      "2024-04-23 17:23:16,664 - distributed.utils_perf - WARNING - full garbage collections took 12% CPU time recently (threshold: 10%)\n",
      "2024-04-23 17:23:17,700 - distributed.utils_perf - WARNING - full garbage collections took 12% CPU time recently (threshold: 10%)\n",
      "2024-04-23 17:23:18,220 - distributed.utils_perf - WARNING - full garbage collections took 12% CPU time recently (threshold: 10%)\n",
      "2024-04-23 17:23:19,528 - distributed.utils_perf - WARNING - full garbage collections took 12% CPU time recently (threshold: 10%)\n",
      "2024-04-23 17:23:20,031 - distributed.utils_perf - WARNING - full garbage collections took 12% CPU time recently (threshold: 10%)\n",
      "2024-04-23 17:23:20,933 - distributed.utils_perf - WARNING - full garbage collections took 12% CPU time recently (threshold: 10%)\n",
      "2024-04-23 17:23:21,150 - INFO: - Training model...\n",
      "2024-04-23 17:23:21,159 - INFO: - start listen on 10.91.28.16:38129\n",
      "[17:23:21] task [xgboost.dask-0]:tcp://127.0.0.1:37645 got new rank 0\n",
      "[17:23:21] task [xgboost.dask-1]:tcp://127.0.0.1:38003 got new rank 1\n",
      "[17:23:21] task [xgboost.dask-2]:tcp://127.0.0.1:33739 got new rank 2\n",
      "2024-04-23 17:23:21,202 - INFO: - @tracker All of 3 nodes getting started\n",
      "2024-04-23 17:28:45,680 - INFO: - @tracker All nodes finishes job\n",
      "2024-04-23 17:28:46,019 - INFO: - Running model on test data...\n",
      "2024-04-23 17:29:05,560 - INFO: - Calculating metrics...\n",
      "2024-04-23 17:29:05,647 - INFO: - Calculating metrics...Completed\n"
     ]
    },
    {
     "name": "stdout",
     "output_type": "stream",
     "text": [
      "--------------------------------------------------------------------------------\n",
      " train_auc           :   0.96123\n",
      " train_logloss       :   0.27097\n",
      " val_auc             :   0.62398\n",
      " val_logloss         :   0.35222\n",
      " roc_auc             :   0.62536\n",
      " logloss             :   0.35222\n",
      " accuracy            :   0.88100\n",
      " bal_acc             :   0.00406\n",
      " top_k_acc           :   1.00000\n",
      " F1_score            :   0.00864\n",
      " map                 :   0.20921\n",
      " pearson_corr        :   0.18106\n",
      "--------------------------------------------------------------------------------\n",
      "--------------------------------------------------------------------------------\n",
      " train_auc                 0.96060 +/- 0.00419\n",
      " train_logloss             0.27060 +/- 0.00332\n",
      " val_auc                   0.62481 +/- 0.00438\n",
      " val_logloss               0.35267 +/- 0.00371\n",
      " roc_auc                   0.62577 +/- 0.00450\n",
      " logloss                   0.35267 +/- 0.00371\n",
      " accuracy                  0.88075 +/- 0.00198\n",
      " bal_acc                   0.00311 +/- 0.00111\n",
      " top_k_acc                 1.00000 +/- 0.00000\n",
      " F1_score                  0.00685 +/- 0.00219\n",
      " map                       0.20669 +/- 0.00479\n",
      " pearson_corr              0.17818 +/- 0.00751\n",
      "--------------------------------------------------------------------------------\n",
      " model best score    :  0.35218564744500896\n",
      " model best iteration:  817\n",
      " Save model to : ./saved_models/classification-study-Apr24_trial_019.json\n"
     ]
    },
    {
     "name": "stderr",
     "output_type": "stream",
     "text": [
      "[I 2024-04-23 17:29:06,027] Trial 19 finished with values: {'roc_auc': 0.62480926056213, 'logloss': 0.3526741762931799} and parameters: {'learning_rate': 0.01010335601502925, 'min_split_loss': 0.2472646534150965, 'max_depth': 8, 'min_child_weight': 6.489942713197961, 'max_delta_step': 9.899914342970385, 'subsample': 0.9078959875289839, 'colsample_bylevel': 0.6706021187887963, 'colsample_bynode': 0.9887993750054633}. \n"
     ]
    },
    {
     "name": "stdout",
     "output_type": "stream",
     "text": [
      "--------------------------------------------------------------------------------\n",
      " Training model (trial #20) \n",
      "--------------------------------------------------------------------------------\n",
      " Parameters:\n",
      "  booster                        gbtree\n",
      "  device                         gpu\n",
      "  verbosity                      0\n",
      "  disable_default_eval_metric    False\n",
      "  objective                      binary:logistic\n",
      "  eval_metric                    ['auc', 'logloss']\n",
      "  tree_method                    auto\n",
      "  learning_rate                  0.48441440537090674\n",
      "  gamma                          2.5776662722533814\n",
      "  max_depth                      12\n",
      "  min_child_weight               6.214096849937864\n",
      "  max_delta_step                 9.06868977247252\n",
      "  subsample                      0.7499440788806184\n",
      "  sampling_method                uniform\n",
      "  colsample_bytree               1.0\n",
      "  colsample_bylevel              0.5922511168822466\n",
      "  colsample_bynode               0.8506200524517991\n",
      "  lambda                         1\n",
      "  scale_pos_weight               1\n",
      "  max_leaves                     0\n",
      "  reg_lambda                     3.2267\n",
      " # bin files: 10   # of folds 5 -  (groups of 2 file tuples)\n",
      " CV Split 0 -  Training files: [2, 3, 4, 5, 6, 7, 8, 9]   Validation files: [0, 1]  \n"
     ]
    },
    {
     "name": "stderr",
     "output_type": "stream",
     "text": [
      "2024-04-23 17:29:12,690 - INFO: - CrossValidation split #0\n",
      "2024-04-23 17:29:12,691 - INFO: - Building training & validation DMatrix...\n",
      "2024-04-23 17:30:47,100 - INFO: - Training model...\n",
      "2024-04-23 17:30:47,110 - INFO: - start listen on 10.91.28.16:38501\n",
      "[17:30:47] task [xgboost.dask-0]:tcp://127.0.0.1:37645 got new rank 0\n",
      "[17:30:47] task [xgboost.dask-1]:tcp://127.0.0.1:38003 got new rank 1\n",
      "[17:30:47] task [xgboost.dask-2]:tcp://127.0.0.1:33739 got new rank 2\n",
      "2024-04-23 17:30:47,161 - INFO: - @tracker All of 3 nodes getting started\n",
      "2024-04-23 17:31:39,813 - INFO: - @tracker All nodes finishes job\n",
      "2024-04-23 17:31:40,029 - INFO: - Running model on test data...\n",
      "2024-04-23 17:31:58,786 - INFO: - Calculating metrics...\n",
      "2024-04-23 17:31:58,842 - INFO: - Calculating metrics...Completed\n"
     ]
    },
    {
     "name": "stdout",
     "output_type": "stream",
     "text": [
      "--------------------------------------------------------------------------------\n",
      " train_auc           :   0.99989\n",
      " train_logloss       :   0.06741\n",
      " val_auc             :   0.55793\n",
      " val_logloss         :   0.48318\n",
      " roc_auc             :   0.55903\n",
      " logloss             :   0.48318\n",
      " accuracy            :   0.86399\n",
      " bal_acc             :   0.02502\n",
      " top_k_acc           :   1.00000\n",
      " F1_score            :   0.08057\n",
      " map                 :   0.15072\n",
      " pearson_corr        :   0.07415\n",
      "--------------------------------------------------------------------------------\n",
      " CV Split 1 -  Training files: [0, 1, 4, 5, 6, 7, 8, 9]   Validation files: [2, 3]  \n"
     ]
    },
    {
     "name": "stderr",
     "output_type": "stream",
     "text": [
      "2024-04-23 17:32:04,536 - INFO: - CrossValidation split #1\n",
      "2024-04-23 17:32:04,537 - INFO: - Building training & validation DMatrix...\n",
      "2024-04-23 17:33:38,366 - INFO: - Training model...\n",
      "2024-04-23 17:33:38,376 - INFO: - start listen on 10.91.28.16:47351\n",
      "[17:33:38] task [xgboost.dask-0]:tcp://127.0.0.1:37645 got new rank 0\n",
      "[17:33:38] task [xgboost.dask-1]:tcp://127.0.0.1:38003 got new rank 1\n",
      "[17:33:38] task [xgboost.dask-2]:tcp://127.0.0.1:33739 got new rank 2\n",
      "2024-04-23 17:33:38,428 - INFO: - @tracker All of 3 nodes getting started\n",
      "2024-04-23 17:34:31,354 - INFO: - @tracker All nodes finishes job\n",
      "2024-04-23 17:34:31,560 - INFO: - Running model on test data...\n",
      "2024-04-23 17:34:51,057 - INFO: - Calculating metrics...\n",
      "2024-04-23 17:34:51,117 - INFO: - Calculating metrics...Completed\n"
     ]
    },
    {
     "name": "stdout",
     "output_type": "stream",
     "text": [
      "--------------------------------------------------------------------------------\n",
      " train_auc           :   0.99990\n",
      " train_logloss       :   0.06565\n",
      " val_auc             :   0.56482\n",
      " val_logloss         :   0.48640\n",
      " roc_auc             :   0.56519\n",
      " logloss             :   0.48640\n",
      " accuracy            :   0.86169\n",
      " bal_acc             :   0.02099\n",
      " top_k_acc           :   1.00000\n",
      " F1_score            :   0.07487\n",
      " map                 :   0.15281\n",
      " pearson_corr        :   0.07293\n",
      "--------------------------------------------------------------------------------\n",
      " CV Split 2 -  Training files: [0, 1, 2, 3, 6, 7, 8, 9]   Validation files: [4, 5]  \n"
     ]
    },
    {
     "name": "stderr",
     "output_type": "stream",
     "text": [
      "2024-04-23 17:34:57,575 - INFO: - CrossValidation split #2\n",
      "2024-04-23 17:34:57,578 - INFO: - Building training & validation DMatrix...\n",
      "2024-04-23 17:36:31,595 - INFO: - Training model...\n",
      "2024-04-23 17:36:31,610 - INFO: - start listen on 10.91.28.16:55551\n",
      "[17:36:31] task [xgboost.dask-0]:tcp://127.0.0.1:37645 got new rank 0\n",
      "[17:36:31] task [xgboost.dask-1]:tcp://127.0.0.1:38003 got new rank 1\n",
      "[17:36:31] task [xgboost.dask-2]:tcp://127.0.0.1:33739 got new rank 2\n",
      "2024-04-23 17:36:31,661 - INFO: - @tracker All of 3 nodes getting started\n",
      "2024-04-23 17:37:24,316 - INFO: - @tracker All nodes finishes job\n",
      "2024-04-23 17:37:24,546 - INFO: - Running model on test data...\n",
      "2024-04-23 17:37:44,082 - INFO: - Calculating metrics...\n",
      "2024-04-23 17:37:44,149 - INFO: - Calculating metrics...Completed\n"
     ]
    },
    {
     "name": "stdout",
     "output_type": "stream",
     "text": [
      "--------------------------------------------------------------------------------\n",
      " train_auc           :   0.99989\n",
      " train_logloss       :   0.06730\n",
      " val_auc             :   0.56576\n",
      " val_logloss         :   0.46546\n",
      " roc_auc             :   0.56622\n",
      " logloss             :   0.46546\n",
      " accuracy            :   0.86738\n",
      " bal_acc             :   0.02544\n",
      " top_k_acc           :   1.00000\n",
      " F1_score            :   0.08106\n",
      " map                 :   0.14898\n",
      " pearson_corr        :   0.07997\n",
      "--------------------------------------------------------------------------------\n",
      " CV Split 3 -  Training files: [0, 1, 2, 3, 4, 5, 8, 9]   Validation files: [6, 7]  \n"
     ]
    },
    {
     "name": "stderr",
     "output_type": "stream",
     "text": [
      "2024-04-23 17:37:50,396 - INFO: - CrossValidation split #3\n",
      "2024-04-23 17:37:50,398 - INFO: - Building training & validation DMatrix...\n",
      "2024-04-23 17:39:25,521 - INFO: - Training model...\n",
      "2024-04-23 17:39:25,532 - INFO: - start listen on 10.91.28.16:57675\n",
      "[17:39:25] task [xgboost.dask-0]:tcp://127.0.0.1:37645 got new rank 0\n",
      "[17:39:25] task [xgboost.dask-1]:tcp://127.0.0.1:38003 got new rank 1\n",
      "[17:39:25] task [xgboost.dask-2]:tcp://127.0.0.1:33739 got new rank 2\n",
      "2024-04-23 17:39:25,579 - INFO: - @tracker All of 3 nodes getting started\n",
      "2024-04-23 17:40:17,154 - INFO: - @tracker All nodes finishes job\n",
      "2024-04-23 17:40:17,359 - INFO: - Running model on test data...\n",
      "2024-04-23 17:40:36,974 - INFO: - Calculating metrics...\n",
      "2024-04-23 17:40:37,036 - INFO: - Calculating metrics...Completed\n"
     ]
    },
    {
     "name": "stdout",
     "output_type": "stream",
     "text": [
      "--------------------------------------------------------------------------------\n",
      " train_auc           :   0.99979\n",
      " train_logloss       :   0.06773\n",
      " val_auc             :   0.56175\n",
      " val_logloss         :   0.47191\n",
      " roc_auc             :   0.56181\n",
      " logloss             :   0.47191\n",
      " accuracy            :   0.86641\n",
      " bal_acc             :   0.02636\n",
      " top_k_acc           :   1.00000\n",
      " F1_score            :   0.08201\n",
      " map                 :   0.15086\n",
      " pearson_corr        :   0.07906\n",
      "--------------------------------------------------------------------------------\n",
      " CV Split 4 -  Training files: [0, 1, 2, 3, 4, 5, 6, 7]   Validation files: [8, 9]  \n"
     ]
    },
    {
     "name": "stderr",
     "output_type": "stream",
     "text": [
      "2024-04-23 17:40:43,422 - INFO: - CrossValidation split #4\n",
      "2024-04-23 17:40:43,423 - INFO: - Building training & validation DMatrix...\n",
      "2024-04-23 17:42:18,164 - INFO: - Training model...\n",
      "2024-04-23 17:42:18,174 - INFO: - start listen on 10.91.28.16:56375\n",
      "[17:42:18] task [xgboost.dask-0]:tcp://127.0.0.1:37645 got new rank 0\n",
      "[17:42:18] task [xgboost.dask-1]:tcp://127.0.0.1:38003 got new rank 1\n",
      "[17:42:18] task [xgboost.dask-2]:tcp://127.0.0.1:33739 got new rank 2\n",
      "2024-04-23 17:42:18,219 - INFO: - @tracker All of 3 nodes getting started\n",
      "2024-04-23 17:43:09,821 - INFO: - @tracker All nodes finishes job\n",
      "2024-04-23 17:43:10,034 - INFO: - Running model on test data...\n",
      "2024-04-23 17:43:29,991 - INFO: - Calculating metrics...\n",
      "2024-04-23 17:43:30,043 - INFO: - Calculating metrics...Completed\n",
      "[I 2024-04-23 17:43:30,148] Trial 20 finished with values: {'roc_auc': 0.561437989408035, 'logloss': 0.4766005530832523} and parameters: {'learning_rate': 0.48441440537090674, 'min_split_loss': 2.5776662722533814, 'max_depth': 12, 'min_child_weight': 6.214096849937864, 'max_delta_step': 9.06868977247252, 'subsample': 0.7499440788806184, 'colsample_bylevel': 0.5922511168822466, 'colsample_bynode': 0.8506200524517991}. \n"
     ]
    },
    {
     "name": "stdout",
     "output_type": "stream",
     "text": [
      "--------------------------------------------------------------------------------\n",
      " train_auc           :   0.99986\n",
      " train_logloss       :   0.06830\n",
      " val_auc             :   0.55692\n",
      " val_logloss         :   0.47605\n",
      " roc_auc             :   0.55691\n",
      " logloss             :   0.47605\n",
      " accuracy            :   0.86463\n",
      " bal_acc             :   0.02478\n",
      " top_k_acc           :   1.00000\n",
      " F1_score            :   0.08069\n",
      " map                 :   0.14923\n",
      " pearson_corr        :   0.07233\n",
      "--------------------------------------------------------------------------------\n",
      "--------------------------------------------------------------------------------\n",
      " train_auc                 0.99986 +/- 0.00004\n",
      " train_logloss             0.06728 +/- 0.00088\n",
      " val_auc                   0.56144 +/- 0.00355\n",
      " val_logloss               0.47660 +/- 0.00756\n",
      " roc_auc                   0.56183 +/- 0.00354\n",
      " logloss                   0.47660 +/- 0.00756\n",
      " accuracy                  0.86482 +/- 0.00198\n",
      " bal_acc                   0.02452 +/- 0.00184\n",
      " top_k_acc                 1.00000 +/- 0.00000\n",
      " F1_score                  0.07984 +/- 0.00253\n",
      " map                       0.15052 +/- 0.00137\n",
      " pearson_corr              0.07569 +/- 0.00319\n",
      "--------------------------------------------------------------------------------\n",
      " model best score    :  0.3648669626682181\n",
      " model best iteration:  1\n",
      " Save model to : ./saved_models/classification-study-Apr24_trial_020.json\n",
      "Total time:  0:51:13.148937\n"
     ]
    }
   ],
   "source": [
    "# start = datetime.now()\n",
    "# study.optimize(objective, n_trials=2, timeout=3600*4, gc_after_trial=True, show_progress_bar=False)\n",
    "# print(f\"Total time:  {datetime.now() - start}\")"
   ]
  },
  {
   "cell_type": "markdown",
   "metadata": {},
   "source": [
    "## Identify / Rerun  / Save best study"
   ]
  },
  {
   "cell_type": "code",
   "execution_count": 42,
   "metadata": {
    "execution": {
     "iopub.execute_input": "2024-04-23T14:42:31.038322Z",
     "iopub.status.busy": "2024-04-23T14:42:31.037845Z",
     "iopub.status.idle": "2024-04-23T14:42:31.090196Z",
     "shell.execute_reply": "2024-04-23T14:42:31.089606Z",
     "shell.execute_reply.started": "2024-04-23T14:42:31.038279Z"
    }
   },
   "outputs": [
    {
     "name": "stdout",
     "output_type": "stream",
     "text": [
      " Best trials:  [16]\n"
     ]
    }
   ],
   "source": [
    "print(\" Best trials: \", [x.number for x in study.best_trials])\n",
    "# study.best_params"
   ]
  },
  {
   "cell_type": "code",
   "execution_count": 43,
   "metadata": {
    "execution": {
     "iopub.execute_input": "2024-04-23T14:42:38.377280Z",
     "iopub.status.busy": "2024-04-23T14:42:38.376868Z",
     "iopub.status.idle": "2024-04-23T14:42:38.428583Z",
     "shell.execute_reply": "2024-04-23T14:42:38.427882Z",
     "shell.execute_reply.started": "2024-04-23T14:42:38.377246Z"
    }
   },
   "outputs": [],
   "source": [
    "best_trial_copy = copy.deepcopy(study.best_trials[0])"
   ]
  },
  {
   "cell_type": "code",
   "execution_count": 104,
   "metadata": {
    "execution": {
     "iopub.execute_input": "2024-08-13T00:17:32.695511Z",
     "iopub.status.busy": "2024-08-13T00:17:32.695062Z",
     "iopub.status.idle": "2024-08-13T00:17:32.741639Z",
     "shell.execute_reply": "2024-08-13T00:17:32.740700Z",
     "shell.execute_reply.started": "2024-08-13T00:17:32.695468Z"
    },
    "scrolled": true
   },
   "outputs": [],
   "source": [
    "# best_model = objective(best_trial_copy, disp_params = True, save = True)"
   ]
  },
  {
   "cell_type": "code",
   "execution_count": null,
   "metadata": {},
   "outputs": [],
   "source": [
    "trial.number\n",
    "best_model.keys()"
   ]
  },
  {
   "cell_type": "code",
   "execution_count": null,
   "metadata": {},
   "outputs": [],
   "source": [
    "save_as_filename = f\"{study.study_name}_trial_{trial.number:03d}.json\"\n",
    "print(f\" Save model to : {save_as_filename}\")"
   ]
  },
  {
   "cell_type": "code",
   "execution_count": null,
   "metadata": {
    "ExecuteTime": {
     "end_time": "2023-12-21T20:51:34.419906Z",
     "start_time": "2023-12-21T20:51:34.402698Z"
    }
   },
   "outputs": [],
   "source": [
    "best_model['booster'].save_model(save_as_filename)"
   ]
  },
  {
   "cell_type": "markdown",
   "metadata": {},
   "source": [
    "# Inference - Load a specific model and run a test dataset against it"
   ]
  },
  {
   "cell_type": "markdown",
   "metadata": {},
   "source": [
    "### Open study - find model to run"
   ]
  },
  {
   "cell_type": "code",
   "execution_count": 44,
   "metadata": {
    "execution": {
     "iopub.execute_input": "2024-08-12T23:39:44.247536Z",
     "iopub.status.busy": "2024-08-12T23:39:44.246693Z",
     "iopub.status.idle": "2024-08-12T23:39:44.318591Z",
     "shell.execute_reply": "2024-08-12T23:39:44.317835Z",
     "shell.execute_reply.started": "2024-08-12T23:39:44.247473Z"
    }
   },
   "outputs": [],
   "source": [
    "storage_instance = \"sqlite:///optuna_database.db\"\n",
    "study_name =\"classification-3SampleStudy-Apr24\"\n",
    "# study_name =\"classification-study-Apr24\"\n",
    "# study_name=\"multiobjective-study-3\""
   ]
  },
  {
   "cell_type": "code",
   "execution_count": 45,
   "metadata": {
    "execution": {
     "iopub.execute_input": "2024-08-12T23:39:45.613792Z",
     "iopub.status.busy": "2024-08-12T23:39:45.613525Z",
     "iopub.status.idle": "2024-08-12T23:39:45.706899Z",
     "shell.execute_reply": "2024-08-12T23:39:45.705742Z",
     "shell.execute_reply.started": "2024-08-12T23:39:45.613769Z"
    }
   },
   "outputs": [
    {
     "name": "stdout",
     "output_type": "stream",
     "text": [
      "Total time:  0:00:00.047804\n"
     ]
    }
   ],
   "source": [
    "start = datetime.now()\n",
    "study  = optuna.load_study(study_name= study_name , storage=storage_instance)\n",
    "print(f\"Total time:  {datetime.now() - start}\")"
   ]
  },
  {
   "cell_type": "code",
   "execution_count": 46,
   "metadata": {
    "execution": {
     "iopub.execute_input": "2024-08-12T23:39:47.154459Z",
     "iopub.status.busy": "2024-08-12T23:39:47.153959Z",
     "iopub.status.idle": "2024-08-12T23:39:47.244881Z",
     "shell.execute_reply": "2024-08-12T23:39:47.244168Z",
     "shell.execute_reply.started": "2024-08-12T23:39:47.154417Z"
    }
   },
   "outputs": [
    {
     "name": "stdout",
     "output_type": "stream",
     "text": [
      " classification-3SampleStudy-Apr24  study history\n",
      "\n",
      " Best trials: [1, 9]\n",
      "                start     -   completion      status        validation metrics\n",
      " trial#         time      -      time          code      roc_auc        logloss\n",
      "--------------------------------------------------------------------------------\n",
      "Trial #: 0    2024-04-23   23:38:03 - 23:50:34    1      0.56071        0.55998    \n",
      "Trial #: 1    2024-04-23   23:50:34 - 00:04:55    1      0.62853        0.35265    \n",
      "Trial #: 2    2024-04-24   00:04:56 - 00:19:41    1      0.53452        5.76593    \n",
      "Trial #: 3    2024-04-24   00:40:48 - 00:40:48    3          *** FAILED ***        \n",
      "Trial #: 4    2024-04-24   00:41:55 - 00:50:55    1      0.59665        0.36301    \n",
      "Trial #: 5    2024-04-24   00:50:55 - 01:00:21    1      0.54799        1.08768    \n",
      "Trial #: 6    2024-04-24   01:00:22 - 01:08:36    1      0.51181        1.24476    \n",
      "Trial #: 7    2024-04-24   01:08:37 - 01:17:35    1      0.62289        0.35346    \n",
      "Trial #: 8    2024-04-24   10:57:05 - 11:07:23    1      0.59553        0.37089    \n",
      "Trial #: 9    2024-04-24   11:07:23 - 11:30:58    1      0.62841        0.35243    \n",
      "Trial #: 10   2024-04-24   11:30:59 - 11:39:53    1      0.49385        1.55933    \n",
      "Trial #: 11   2024-04-24   11:39:53 - 11:48:47    1      0.48177       31.46757    \n",
      " *** end of trials *** \n"
     ]
    }
   ],
   "source": [
    "disp_study_history(study)"
   ]
  },
  {
   "cell_type": "markdown",
   "metadata": {},
   "source": [
    "### Get model to run"
   ]
  },
  {
   "cell_type": "code",
   "execution_count": 47,
   "metadata": {
    "execution": {
     "iopub.execute_input": "2024-08-12T23:39:59.951849Z",
     "iopub.status.busy": "2024-08-12T23:39:59.951381Z",
     "iopub.status.idle": "2024-08-12T23:39:59.999798Z",
     "shell.execute_reply": "2024-08-12T23:39:59.999252Z",
     "shell.execute_reply.started": "2024-08-12T23:39:59.951807Z"
    }
   },
   "outputs": [
    {
     "data": {
      "text/plain": [
       "FrozenTrial(number=1, state=1, values=[0.6285302984845391, 0.3526473663186769], datetime_start=datetime.datetime(2024, 4, 23, 23, 50, 34, 687828), datetime_complete=datetime.datetime(2024, 4, 24, 0, 4, 55, 429145), params={'learning_rate': 0.07347625555395124, 'min_split_loss': 8.470147676196637, 'max_depth': 4, 'min_child_weight': 5.769979718266502, 'max_delta_step': 4.984670660436042, 'subsample': 0.9590969313267979, 'colsample_bylevel': 0.5316430096697309, 'colsample_bynode': 0.8858631171587146}, user_attrs={}, system_attrs={'nsga2:generation': 0}, intermediate_values={}, distributions={'learning_rate': FloatDistribution(high=10.0, log=True, low=0.01, step=None), 'min_split_loss': FloatDistribution(high=10.0, log=False, low=0.0, step=None), 'max_depth': IntDistribution(high=15, log=False, low=1, step=1), 'min_child_weight': FloatDistribution(high=10.0, log=False, low=0.0, step=None), 'max_delta_step': FloatDistribution(high=10.0, log=False, low=0.0, step=None), 'subsample': FloatDistribution(high=1.0, log=False, low=0.4, step=None), 'colsample_bylevel': FloatDistribution(high=1.0, log=False, low=0.5, step=None), 'colsample_bynode': FloatDistribution(high=1.0, log=False, low=0.5, step=None)}, trial_id=130, value=None)"
      ]
     },
     "execution_count": 47,
     "metadata": {},
     "output_type": "execute_result"
    }
   ],
   "source": [
    "best_trial = study.best_trials[0]\n",
    "best_trial"
   ]
  },
  {
   "cell_type": "code",
   "execution_count": 48,
   "metadata": {
    "execution": {
     "iopub.execute_input": "2024-08-12T23:40:30.585167Z",
     "iopub.status.busy": "2024-08-12T23:40:30.584510Z",
     "iopub.status.idle": "2024-08-12T23:40:30.639001Z",
     "shell.execute_reply": "2024-08-12T23:40:30.638235Z",
     "shell.execute_reply.started": "2024-08-12T23:40:30.585123Z"
    }
   },
   "outputs": [
    {
     "name": "stdout",
     "output_type": "stream",
     "text": [
      " Load model from : ./saved_models/classification-3SampleStudy-Apr24_trial_001.json\n"
     ]
    }
   ],
   "source": [
    "# best_filename = f\"{study.study_name}_trial_{best_trial.number:03d}.model\"\n",
    "best_filename = f\"./saved_models/{study.study_name}_trial_{best_trial.number:03d}.json\"\n",
    "print(f\" Load model from : {best_filename}\")"
   ]
  },
  {
   "cell_type": "code",
   "execution_count": 49,
   "metadata": {
    "execution": {
     "iopub.execute_input": "2024-08-12T23:40:34.217462Z",
     "iopub.status.busy": "2024-08-12T23:40:34.216969Z",
     "iopub.status.idle": "2024-08-12T23:40:34.370397Z",
     "shell.execute_reply": "2024-08-12T23:40:34.369787Z",
     "shell.execute_reply.started": "2024-08-12T23:40:34.217418Z"
    }
   },
   "outputs": [
    {
     "data": {
      "text/plain": [
       "<xgboost.core.Booster at 0x7fbe8b126890>"
      ]
     },
     "execution_count": 49,
     "metadata": {},
     "output_type": "execute_result"
    }
   ],
   "source": [
    "model_copy = xgb.Booster()\n",
    "model_copy.load_model(best_filename)\n",
    "model_copy"
   ]
  },
  {
   "cell_type": "markdown",
   "metadata": {},
   "source": [
    "### Read test data"
   ]
  },
  {
   "cell_type": "code",
   "execution_count": 50,
   "metadata": {
    "execution": {
     "iopub.execute_input": "2024-08-12T23:40:40.286962Z",
     "iopub.status.busy": "2024-08-12T23:40:40.286421Z",
     "iopub.status.idle": "2024-08-12T23:40:40.333085Z",
     "shell.execute_reply": "2024-08-12T23:40:40.332419Z",
     "shell.execute_reply.started": "2024-08-12T23:40:40.286920Z"
    },
    "scrolled": true
   },
   "outputs": [
    {
     "name": "stdout",
     "output_type": "stream",
     "text": [
      "./output_11102023/3_sample_profiles/3sample_profiles_1482_bin_{0:03d}.csv\n"
     ]
    }
   ],
   "source": [
    "# df_profiles = read_cell_profiles(input_files[i], names = COMPOUND_PROFILE_COLUMNS, usecols = Xy_columns, dtype = Xy_columns_dtype)\n",
    "# df_profiles = read_cell_profiles(training_files, names = COMPOUND_PROFILE_COLUMNS, usecols = Xy_columns, dtype = Xy_columns_dtype)\n",
    "# file_idxs = {0, 1, 2, 3, 4, 5, 6, 7, 8, 9, 10, 11}\n",
    "\n",
    "# TRAINING_FILES = {0, 1, 2, 4, 5, 6, 7, 8, 9, 11}\n",
    "# TEST_FILES = {3, 10}\n",
    "TRAINING_FILES = {0, 1, 2, 3, 4, 5, 6, 7, 8, 9, 10, 11, 12, 13, 14}\n",
    "TEST_FILES = {15}\n",
    "binnedProfileFiles = binned_3SampleProfileFiles\n",
    "print(binnedProfileFiles)"
   ]
  },
  {
   "cell_type": "code",
   "execution_count": 52,
   "metadata": {
    "execution": {
     "iopub.execute_input": "2024-08-12T23:41:23.072403Z",
     "iopub.status.busy": "2024-08-12T23:41:23.071938Z",
     "iopub.status.idle": "2024-08-12T23:41:23.116705Z",
     "shell.execute_reply": "2024-08-12T23:41:23.115786Z",
     "shell.execute_reply.started": "2024-08-12T23:41:23.072361Z"
    }
   },
   "outputs": [],
   "source": [
    "from utils.utils_cellpainting import make_cv_splits_2"
   ]
  },
  {
   "cell_type": "code",
   "execution_count": 55,
   "metadata": {
    "execution": {
     "iopub.execute_input": "2024-08-12T23:50:45.774706Z",
     "iopub.status.busy": "2024-08-12T23:50:45.774200Z",
     "iopub.status.idle": "2024-08-12T23:50:46.119567Z",
     "shell.execute_reply": "2024-08-12T23:50:46.119007Z",
     "shell.execute_reply.started": "2024-08-12T23:50:45.774662Z"
    }
   },
   "outputs": [
    {
     "name": "stderr",
     "output_type": "stream",
     "text": [
      "2024-08-13 01:50:45,818 - root - INFO: -  Read profiles file ...\n",
      "2024-08-13 01:50:45,972 - root - INFO: -  Read profiles file ... complete\n"
     ]
    },
    {
     "name": "stdout",
     "output_type": "stream",
     "text": [
      " Reading cell profiles file :  ./output_11102023/3_sample_profiles/3sample_profiles_1482_bin_015.csv    {'index_cols': False}\n",
      " Reading ALL  rows - Number of partitions:  9   \n",
      "\n"
     ]
    },
    {
     "name": "stderr",
     "output_type": "stream",
     "text": [
      "2024-08-13 01:50:46,113 - root - INFO: -  Inference on file {15} ...\n"
     ]
    },
    {
     "name": "stdout",
     "output_type": "stream",
     "text": [
      "<class 'dask.dataframe.core.DataFrame'> (Delayed('int-922dbabb-ef19-40c3-842a-b98b519470fe'), 1471) <class 'dask.dataframe.core.DataFrame'> (Delayed('int-fd259569-47c1-442e-b1bf-0c94c838a984'), 1)\n"
     ]
    }
   ],
   "source": [
    "input_file_list = read_binned_profile_files(file_idxs = TEST_FILES,\n",
    "                                            filename = binnedProfileFiles,\n",
    "                                            names = COMPOUND_PROFILE_COLUMNS, \n",
    "                                            # names = COMPOUND_PROFILE_COLUMNS_3681, \n",
    "                                            usecols = Xy_columns,\n",
    "                                            dtype = Xy_columns_dtype,\n",
    "                                            index_cols = False,)\n",
    "# test_iter_files = make_cv_splits_2(input_file_list, n_folds=1, y_columns=y_columns)\n",
    "\n",
    "# for i, ((X_test,y_test), (X_val, y_val)) in enumerate(test_iter_files):\n",
    "X_test, y_test = split_Xy(input_file_list[0], y_columns)\n",
    "logging.info(f\" Inference on file {TEST_FILES} ...\")\n",
    "print(type(X_test), X_test.shape, type(y_test), y_test.shape)\n",
    "#     # d_test = xgb.dask.DaskDMatrix(client, X_test, y_test)"
   ]
  },
  {
   "cell_type": "code",
   "execution_count": 89,
   "metadata": {
    "execution": {
     "iopub.execute_input": "2024-04-25T09:09:47.979330Z",
     "iopub.status.busy": "2024-04-25T09:09:47.979023Z",
     "iopub.status.idle": "2024-04-25T09:09:48.021616Z",
     "shell.execute_reply": "2024-04-25T09:09:48.020864Z",
     "shell.execute_reply.started": "2024-04-25T09:09:47.979308Z"
    }
   },
   "outputs": [],
   "source": [
    "# df_ps = dd.read_csv(profileInputFiles, names = all_columns, usecols=Xy_columns, dtype= Xy_columns_dtype)   \n",
    "# df_ps = read_cell_profiles(profileInputFiles, names = all_columns, usecols = Xy_columns, dtype = Xy_columns_dtype)\n",
    "# print(f\" Number of partitions:  {df_profiles.npartitions}   partition(1) shape: {df_ps.get_partition(0).shape}\")\n",
    "\n",
    "# st1, en1 = get_dd_subset(df_ps, skiprows = 0, nrows = 200000, ss=None, verbose = False)\n",
    "# st2, en2 = get_dd_subset(df_ps, skiprows = 200000, nrows = 90000, ss=None, verbose = False)\n",
    "\n",
    "# st1,en1\n",
    "# st2,en2\n",
    "\n",
    "# df_train =df_ps.partitions[st1:en1]\n",
    "# df_test = split_Xy(df_ps.partitions[st2:en2], y_columns = list(y_columns) )\n",
    "# all_columns"
   ]
  },
  {
   "cell_type": "code",
   "execution_count": null,
   "metadata": {
    "execution": {
     "iopub.execute_input": "2024-04-25T09:45:01.937449Z",
     "iopub.status.busy": "2024-04-25T09:45:01.936983Z",
     "iopub.status.idle": "2024-04-25T09:45:02.863450Z",
     "shell.execute_reply": "2024-04-25T09:45:02.862425Z",
     "shell.execute_reply.started": "2024-04-25T09:45:01.937407Z"
    }
   },
   "outputs": [],
   "source": [
    "# print(f\" Reading cell profiles file :  {profileInputFiles}\")\n",
    "\n",
    "# df_ps = dd.read_csv(binnedProfileFiles.format(000), names=COMPOUND_PROFILE_COLUMNS) ## , usecols=Xy_columns, dtype= Xy_columns_dtype)   \n",
    "# df_ps = pd.read_csv(binnedProfileFiles.format(000), index_col = False, names=COMPOUND_PROFILE_COLUMNS,nrows=20) ## , usecols=Xy_columns, dtype= Xy_columns_dtype) \n",
    "\n",
    "\n",
    "# df_ps = read_cell_profiles(profileInputFiles.format(000),nrows=20, names=COMPOUND_PROFILE_COLUMNS) ##  usecols = Xy_columns, dtype = Xy_columns_dtype)\n",
    "# df_ps = read_cell_profiles(binnedProfileFiles.format(000),nrows=2000, names=COMPOUND_PROFILE_COLUMNS) ##  usecols = Xy_columns, dtype = Xy_columns_dtype)\n",
    "# print(f\" Number of partitions:  {df_ps.npartitions}   partition(1) shape: {df_ps.get_partition(0).shape}\")\n",
    "# print(f\" {df_test.shape},  dataframe_columns count: {len(df_test.columns)}   compound_profile_columns count: {len(COMPOUND_PROFILE_COLUMNS)}\")"
   ]
  },
  {
   "cell_type": "code",
   "execution_count": 57,
   "metadata": {
    "execution": {
     "iopub.execute_input": "2024-08-12T23:51:39.252370Z",
     "iopub.status.busy": "2024-08-12T23:51:39.251901Z",
     "iopub.status.idle": "2024-08-12T23:51:39.467060Z",
     "shell.execute_reply": "2024-08-12T23:51:39.466117Z",
     "shell.execute_reply.started": "2024-08-12T23:51:39.252327Z"
    }
   },
   "outputs": [
    {
     "name": "stdout",
     "output_type": "stream",
     "text": [
      " Reading cell profiles file :  ./output_11102023/3_sample_profiles/3sample_profiles_1482_bin_015.csv\n"
     ]
    },
    {
     "data": {
      "text/plain": [
       "1472"
      ]
     },
     "execution_count": 57,
     "metadata": {},
     "output_type": "execute_result"
    }
   ],
   "source": [
    "print(f\" Reading cell profiles file :  {binnedProfileFiles.format(15)}\")\n",
    "len(Xy_columns)\n",
    "df_test = dd.read_csv(binnedProfileFiles.format(15), \n",
    "                       names = COMPOUND_PROFILE_COLUMNS,\n",
    "                       usecols = Xy_columns,\n",
    "                       dtype = Xy_columns_dtype) ## , usecols = usecols, dtype = dtype)  "
   ]
  },
  {
   "cell_type": "code",
   "execution_count": 58,
   "metadata": {
    "execution": {
     "iopub.execute_input": "2024-08-12T23:51:42.454255Z",
     "iopub.status.busy": "2024-08-12T23:51:42.453749Z",
     "iopub.status.idle": "2024-08-12T23:51:44.661200Z",
     "shell.execute_reply": "2024-08-12T23:51:44.660496Z",
     "shell.execute_reply.started": "2024-08-12T23:51:42.454212Z"
    }
   },
   "outputs": [
    {
     "name": "stdout",
     "output_type": "stream",
     "text": [
      "set()\n",
      "<class 'dask.dataframe.core.DataFrame'>\n",
      "Columns: 1472 entries, Metadata_Permiation to Nuclei_Texture_SumVariance_RNA_10_01_256\n",
      "dtypes: float32(1471), int64(1)"
     ]
    },
    {
     "data": {
      "text/html": [
       "<div>\n",
       "<style scoped>\n",
       "    .dataframe tbody tr th:only-of-type {\n",
       "        vertical-align: middle;\n",
       "    }\n",
       "\n",
       "    .dataframe tbody tr th {\n",
       "        vertical-align: top;\n",
       "    }\n",
       "\n",
       "    .dataframe thead th {\n",
       "        text-align: right;\n",
       "    }\n",
       "</style>\n",
       "<table border=\"1\" class=\"dataframe\">\n",
       "  <thead>\n",
       "    <tr style=\"text-align: right;\">\n",
       "      <th></th>\n",
       "      <th>Metadata_Permiation</th>\n",
       "      <th>Cells_AreaShape_BoundingBoxMaximum_X</th>\n",
       "      <th>Cells_AreaShape_Center_X</th>\n",
       "      <th>Cells_AreaShape_Center_Y</th>\n",
       "      <th>Cells_AreaShape_Compactness</th>\n",
       "      <th>Cells_AreaShape_Eccentricity</th>\n",
       "      <th>Cells_AreaShape_EulerNumber</th>\n",
       "      <th>Cells_AreaShape_Extent</th>\n",
       "      <th>Cells_AreaShape_MajorAxisLength</th>\n",
       "      <th>Cells_AreaShape_MedianRadius</th>\n",
       "      <th>...</th>\n",
       "      <th>Nuclei_Texture_SumAverage_DNA_10_01_256</th>\n",
       "      <th>Nuclei_Texture_SumAverage_ER_10_01_256</th>\n",
       "      <th>Nuclei_Texture_SumAverage_Mito_10_01_256</th>\n",
       "      <th>Nuclei_Texture_SumAverage_RNA_10_01_256</th>\n",
       "      <th>Nuclei_Texture_SumEntropy_DNA_10_03_256</th>\n",
       "      <th>Nuclei_Texture_SumVariance_AGP_10_03_256</th>\n",
       "      <th>Nuclei_Texture_SumVariance_DNA_10_03_256</th>\n",
       "      <th>Nuclei_Texture_SumVariance_ER_10_01_256</th>\n",
       "      <th>Nuclei_Texture_SumVariance_Mito_10_03_256</th>\n",
       "      <th>Nuclei_Texture_SumVariance_RNA_10_01_256</th>\n",
       "    </tr>\n",
       "  </thead>\n",
       "  <tbody>\n",
       "    <tr>\n",
       "      <th>0</th>\n",
       "      <td>0</td>\n",
       "      <td>-0.057741</td>\n",
       "      <td>0.037530</td>\n",
       "      <td>-0.012524</td>\n",
       "      <td>0.228515</td>\n",
       "      <td>-0.296551</td>\n",
       "      <td>0.064403</td>\n",
       "      <td>-1.068554</td>\n",
       "      <td>-0.163755</td>\n",
       "      <td>-0.369498</td>\n",
       "      <td>...</td>\n",
       "      <td>-1.989154</td>\n",
       "      <td>-0.321631</td>\n",
       "      <td>0.281320</td>\n",
       "      <td>0.530658</td>\n",
       "      <td>-1.857460</td>\n",
       "      <td>-0.143630</td>\n",
       "      <td>-0.608387</td>\n",
       "      <td>-0.200021</td>\n",
       "      <td>-0.500728</td>\n",
       "      <td>0.238971</td>\n",
       "    </tr>\n",
       "    <tr>\n",
       "      <th>1</th>\n",
       "      <td>0</td>\n",
       "      <td>1.201667</td>\n",
       "      <td>1.643608</td>\n",
       "      <td>0.342734</td>\n",
       "      <td>0.029035</td>\n",
       "      <td>-0.043964</td>\n",
       "      <td>0.016867</td>\n",
       "      <td>0.497814</td>\n",
       "      <td>-0.066940</td>\n",
       "      <td>-0.096580</td>\n",
       "      <td>...</td>\n",
       "      <td>-0.067368</td>\n",
       "      <td>-0.815865</td>\n",
       "      <td>-0.380994</td>\n",
       "      <td>-0.740020</td>\n",
       "      <td>-0.051555</td>\n",
       "      <td>-0.253015</td>\n",
       "      <td>-0.072170</td>\n",
       "      <td>0.063024</td>\n",
       "      <td>-0.415817</td>\n",
       "      <td>-0.321112</td>\n",
       "    </tr>\n",
       "    <tr>\n",
       "      <th>2</th>\n",
       "      <td>0</td>\n",
       "      <td>0.337284</td>\n",
       "      <td>0.488319</td>\n",
       "      <td>0.575717</td>\n",
       "      <td>-0.748522</td>\n",
       "      <td>-0.551591</td>\n",
       "      <td>0.083245</td>\n",
       "      <td>0.456834</td>\n",
       "      <td>-0.166438</td>\n",
       "      <td>-0.050640</td>\n",
       "      <td>...</td>\n",
       "      <td>-0.076755</td>\n",
       "      <td>0.372981</td>\n",
       "      <td>-0.559164</td>\n",
       "      <td>0.495843</td>\n",
       "      <td>0.060877</td>\n",
       "      <td>0.087625</td>\n",
       "      <td>-0.074250</td>\n",
       "      <td>-0.285866</td>\n",
       "      <td>-0.153977</td>\n",
       "      <td>-0.164077</td>\n",
       "    </tr>\n",
       "    <tr>\n",
       "      <th>3</th>\n",
       "      <td>0</td>\n",
       "      <td>-0.733470</td>\n",
       "      <td>-0.787813</td>\n",
       "      <td>1.130547</td>\n",
       "      <td>0.035943</td>\n",
       "      <td>-0.167816</td>\n",
       "      <td>0.190890</td>\n",
       "      <td>-0.057359</td>\n",
       "      <td>0.030301</td>\n",
       "      <td>0.113159</td>\n",
       "      <td>...</td>\n",
       "      <td>0.973951</td>\n",
       "      <td>0.674738</td>\n",
       "      <td>0.259747</td>\n",
       "      <td>0.891715</td>\n",
       "      <td>1.685901</td>\n",
       "      <td>0.174777</td>\n",
       "      <td>1.633640</td>\n",
       "      <td>0.490775</td>\n",
       "      <td>-0.126125</td>\n",
       "      <td>0.747519</td>\n",
       "    </tr>\n",
       "    <tr>\n",
       "      <th>4</th>\n",
       "      <td>0</td>\n",
       "      <td>0.126039</td>\n",
       "      <td>0.151099</td>\n",
       "      <td>0.475647</td>\n",
       "      <td>0.021985</td>\n",
       "      <td>-0.086844</td>\n",
       "      <td>-2.156649</td>\n",
       "      <td>0.181228</td>\n",
       "      <td>0.024673</td>\n",
       "      <td>0.200907</td>\n",
       "      <td>...</td>\n",
       "      <td>-0.299761</td>\n",
       "      <td>-0.186999</td>\n",
       "      <td>-0.197012</td>\n",
       "      <td>-0.225902</td>\n",
       "      <td>-0.369036</td>\n",
       "      <td>-0.115130</td>\n",
       "      <td>-0.089922</td>\n",
       "      <td>-0.100882</td>\n",
       "      <td>0.051790</td>\n",
       "      <td>-0.019253</td>\n",
       "    </tr>\n",
       "  </tbody>\n",
       "</table>\n",
       "<p>5 rows × 1472 columns</p>\n",
       "</div>"
      ],
      "text/plain": [
       "   Metadata_Permiation  Cells_AreaShape_BoundingBoxMaximum_X  Cells_AreaShape_Center_X  Cells_AreaShape_Center_Y  \\\n",
       "0                    0                             -0.057741                  0.037530                 -0.012524   \n",
       "1                    0                              1.201667                  1.643608                  0.342734   \n",
       "2                    0                              0.337284                  0.488319                  0.575717   \n",
       "3                    0                             -0.733470                 -0.787813                  1.130547   \n",
       "4                    0                              0.126039                  0.151099                  0.475647   \n",
       "\n",
       "   Cells_AreaShape_Compactness  Cells_AreaShape_Eccentricity  Cells_AreaShape_EulerNumber  Cells_AreaShape_Extent  \\\n",
       "0                     0.228515                     -0.296551                     0.064403               -1.068554   \n",
       "1                     0.029035                     -0.043964                     0.016867                0.497814   \n",
       "2                    -0.748522                     -0.551591                     0.083245                0.456834   \n",
       "3                     0.035943                     -0.167816                     0.190890               -0.057359   \n",
       "4                     0.021985                     -0.086844                    -2.156649                0.181228   \n",
       "\n",
       "   Cells_AreaShape_MajorAxisLength  Cells_AreaShape_MedianRadius  ...  Nuclei_Texture_SumAverage_DNA_10_01_256  \\\n",
       "0                        -0.163755                     -0.369498  ...                                -1.989154   \n",
       "1                        -0.066940                     -0.096580  ...                                -0.067368   \n",
       "2                        -0.166438                     -0.050640  ...                                -0.076755   \n",
       "3                         0.030301                      0.113159  ...                                 0.973951   \n",
       "4                         0.024673                      0.200907  ...                                -0.299761   \n",
       "\n",
       "   Nuclei_Texture_SumAverage_ER_10_01_256  Nuclei_Texture_SumAverage_Mito_10_01_256  Nuclei_Texture_SumAverage_RNA_10_01_256  \\\n",
       "0                               -0.321631                                  0.281320                                 0.530658   \n",
       "1                               -0.815865                                 -0.380994                                -0.740020   \n",
       "2                                0.372981                                 -0.559164                                 0.495843   \n",
       "3                                0.674738                                  0.259747                                 0.891715   \n",
       "4                               -0.186999                                 -0.197012                                -0.225902   \n",
       "\n",
       "   Nuclei_Texture_SumEntropy_DNA_10_03_256  Nuclei_Texture_SumVariance_AGP_10_03_256  Nuclei_Texture_SumVariance_DNA_10_03_256  \\\n",
       "0                                -1.857460                                 -0.143630                                 -0.608387   \n",
       "1                                -0.051555                                 -0.253015                                 -0.072170   \n",
       "2                                 0.060877                                  0.087625                                 -0.074250   \n",
       "3                                 1.685901                                  0.174777                                  1.633640   \n",
       "4                                -0.369036                                 -0.115130                                 -0.089922   \n",
       "\n",
       "   Nuclei_Texture_SumVariance_ER_10_01_256  Nuclei_Texture_SumVariance_Mito_10_03_256  Nuclei_Texture_SumVariance_RNA_10_01_256  \n",
       "0                                -0.200021                                  -0.500728                                  0.238971  \n",
       "1                                 0.063024                                  -0.415817                                 -0.321112  \n",
       "2                                -0.285866                                  -0.153977                                 -0.164077  \n",
       "3                                 0.490775                                  -0.126125                                  0.747519  \n",
       "4                                -0.100882                                   0.051790                                 -0.019253  \n",
       "\n",
       "[5 rows x 1472 columns]"
      ]
     },
     "execution_count": 58,
     "metadata": {},
     "output_type": "execute_result"
    },
    {
     "data": {
      "text/plain": [
       "{'Metadata_Permiation'}"
      ]
     },
     "execution_count": 58,
     "metadata": {},
     "output_type": "execute_result"
    },
    {
     "data": {
      "text/plain": [
       "((Delayed('int-ec757e99-f2d0-4d8d-ad22-1b1e2eaf06a8'), 1),\n",
       " Index(['Metadata_Permiation'], dtype='object'))"
      ]
     },
     "execution_count": 58,
     "metadata": {},
     "output_type": "execute_result"
    },
    {
     "data": {
      "text/plain": [
       "(dask.dataframe.core.DataFrame,\n",
       " (Delayed('int-219afa91-ed0a-4e07-a2f2-753240b5dee3'), 1471),\n",
       " Index(['Cells_AreaShape_BoundingBoxMaximum_X', 'Cells_AreaShape_Center_X', 'Cells_AreaShape_Center_Y',\n",
       "        'Cells_AreaShape_Compactness', 'Cells_AreaShape_Eccentricity', 'Cells_AreaShape_EulerNumber', 'Cells_AreaShape_Extent',\n",
       "        'Cells_AreaShape_MajorAxisLength', 'Cells_AreaShape_MedianRadius', 'Cells_AreaShape_MinorAxisLength',\n",
       "        ...\n",
       "        'Nuclei_Texture_SumAverage_DNA_10_01_256', 'Nuclei_Texture_SumAverage_ER_10_01_256',\n",
       "        'Nuclei_Texture_SumAverage_Mito_10_01_256', 'Nuclei_Texture_SumAverage_RNA_10_01_256',\n",
       "        'Nuclei_Texture_SumEntropy_DNA_10_03_256', 'Nuclei_Texture_SumVariance_AGP_10_03_256',\n",
       "        'Nuclei_Texture_SumVariance_DNA_10_03_256', 'Nuclei_Texture_SumVariance_ER_10_01_256',\n",
       "        'Nuclei_Texture_SumVariance_Mito_10_03_256', 'Nuclei_Texture_SumVariance_RNA_10_01_256'],\n",
       "       dtype='object', length=1471))"
      ]
     },
     "execution_count": 58,
     "metadata": {},
     "output_type": "execute_result"
    }
   ],
   "source": [
    "print(set(df_test.columns) - set(COMPOUND_PROFILE_COLUMNS))\n",
    "df_test.info()\n",
    "df_test.head()\n",
    "\n",
    "y_columns\n",
    "\n",
    "X_test, y_test = split_Xy(df_test, y_columns)\n",
    "\n",
    "y_test.shape,y_test.columns\n",
    "\n",
    "type(X_test),X_test.shape, X_test.columns"
   ]
  },
  {
   "cell_type": "code",
   "execution_count": 115,
   "metadata": {
    "execution": {
     "iopub.execute_input": "2024-04-25T09:21:02.763329Z",
     "iopub.status.busy": "2024-04-25T09:21:02.762821Z",
     "iopub.status.idle": "2024-04-25T09:21:02.808460Z",
     "shell.execute_reply": "2024-04-25T09:21:02.807832Z",
     "shell.execute_reply.started": "2024-04-25T09:21:02.763287Z"
    }
   },
   "outputs": [],
   "source": [
    "# df_pr = read_cell_profiles_2(CompoundProfiles2SampleFileCSV, rows = 40, skiprows = None)\n",
    "# df_pr.npartitions\n",
    "# df_pr.get_partition(0).head(2)\n",
    "# y_test.compute().shape"
   ]
  },
  {
   "cell_type": "markdown",
   "metadata": {},
   "source": [
    "### Run prediction against test data"
   ]
  },
  {
   "cell_type": "code",
   "execution_count": 59,
   "metadata": {
    "execution": {
     "iopub.execute_input": "2024-08-12T23:52:07.213821Z",
     "iopub.status.busy": "2024-08-12T23:52:07.213050Z",
     "iopub.status.idle": "2024-08-12T23:52:15.910583Z",
     "shell.execute_reply": "2024-08-12T23:52:15.909328Z",
     "shell.execute_reply.started": "2024-08-12T23:52:07.213763Z"
    }
   },
   "outputs": [],
   "source": [
    "y_pred = xgb.dask.predict(client, model_copy, X_test).compute()"
   ]
  },
  {
   "cell_type": "code",
   "execution_count": 68,
   "metadata": {
    "execution": {
     "iopub.execute_input": "2024-08-12T23:55:06.549912Z",
     "iopub.status.busy": "2024-08-12T23:55:06.549428Z",
     "iopub.status.idle": "2024-08-12T23:55:06.594091Z",
     "shell.execute_reply": "2024-08-12T23:55:06.593310Z",
     "shell.execute_reply.started": "2024-08-12T23:55:06.549868Z"
    }
   },
   "outputs": [],
   "source": [
    "y_pred_np = y_pred.to_numpy()"
   ]
  },
  {
   "cell_type": "code",
   "execution_count": 63,
   "metadata": {
    "execution": {
     "iopub.execute_input": "2024-08-12T23:53:16.718915Z",
     "iopub.status.busy": "2024-08-12T23:53:16.718265Z",
     "iopub.status.idle": "2024-08-12T23:53:19.974135Z",
     "shell.execute_reply": "2024-08-12T23:53:19.972778Z",
     "shell.execute_reply.started": "2024-08-12T23:53:16.718859Z"
    },
    "lines_to_next_cell": 2
   },
   "outputs": [
    {
     "data": {
      "text/plain": [
       "(dask.dataframe.core.DataFrame, numpy.ndarray, pandas.core.series.Series)"
      ]
     },
     "execution_count": 63,
     "metadata": {},
     "output_type": "execute_result"
    }
   ],
   "source": [
    "y_test_np = y_test.compute().to_numpy(copy=True).squeeze()\n",
    "type(y_test),type(y_test_np), type(y_pred)"
   ]
  },
  {
   "cell_type": "code",
   "execution_count": null,
   "metadata": {
    "execution": {
     "iopub.execute_input": "2024-08-12T23:56:00.407377Z",
     "iopub.status.busy": "2024-08-12T23:56:00.406274Z",
     "iopub.status.idle": "2024-08-12T23:56:00.460432Z",
     "shell.execute_reply": "2024-08-12T23:56:00.459728Z",
     "shell.execute_reply.started": "2024-08-12T23:56:00.407325Z"
    }
   },
   "outputs": [],
   "source": [
    "type(y_test_np), y_test_np.shape\n",
    "type(y_pred_np), y_pred.shape\n",
    "print(f\" y_test : {y_test_np[:10]}\")\n",
    "print(f\" y_pred : {y_pred_np[:10]}\")"
   ]
  },
  {
   "cell_type": "code",
   "execution_count": 88,
   "metadata": {
    "execution": {
     "iopub.execute_input": "2024-08-13T00:06:29.701808Z",
     "iopub.status.busy": "2024-08-13T00:06:29.700920Z",
     "iopub.status.idle": "2024-08-13T00:06:29.755509Z",
     "shell.execute_reply": "2024-08-13T00:06:29.754894Z",
     "shell.execute_reply.started": "2024-08-13T00:06:29.701747Z"
    }
   },
   "outputs": [
    {
     "data": {
      "text/plain": [
       "((25,), (2607,))"
      ]
     },
     "execution_count": 88,
     "metadata": {},
     "output_type": "execute_result"
    }
   ],
   "source": [
    "y_pos_pred = y_pred_np[y_pred_np >= 0.5]\n",
    "y_pos_test = y_test_np[y_test_np >= 1]\n",
    "y_pos_pred.shape, y_pos_test.shape"
   ]
  },
  {
   "cell_type": "markdown",
   "metadata": {},
   "source": [
    "### Compute metrics "
   ]
  },
  {
   "cell_type": "code",
   "execution_count": 74,
   "metadata": {
    "execution": {
     "iopub.execute_input": "2024-08-12T23:56:57.894417Z",
     "iopub.status.busy": "2024-08-12T23:56:57.893906Z",
     "iopub.status.idle": "2024-08-12T23:56:57.943079Z",
     "shell.execute_reply": "2024-08-12T23:56:57.942262Z",
     "shell.execute_reply.started": "2024-08-12T23:56:57.894372Z"
    },
    "lines_to_end_of_cell_marker": 2
   },
   "outputs": [
    {
     "name": "stderr",
     "output_type": "stream",
     "text": [
      "2024-08-13 01:56:57,936 - root - INFO: - Compute R2 & MSE scores...\n"
     ]
    },
    {
     "name": "stdout",
     "output_type": "stream",
     "text": [
      " R2 Score : 0.030060\n"
     ]
    }
   ],
   "source": [
    "logging.info(f\"Compute R2 & MSE scores...\")\n",
    "R2_score = skm.r2_score(\n",
    "    y_true = y_test_np,\n",
    "    y_pred = y_pred_np,\n",
    ")\n",
    "print(f\" R2 Score : {R2_score:.6f}\")"
   ]
  },
  {
   "cell_type": "code",
   "execution_count": 75,
   "metadata": {
    "execution": {
     "iopub.execute_input": "2024-08-12T23:57:06.774575Z",
     "iopub.status.busy": "2024-08-12T23:57:06.774055Z",
     "iopub.status.idle": "2024-08-12T23:57:06.828661Z",
     "shell.execute_reply": "2024-08-12T23:57:06.828120Z",
     "shell.execute_reply.started": "2024-08-12T23:57:06.774502Z"
    },
    "lines_to_end_of_cell_marker": 2
   },
   "outputs": [
    {
     "name": "stdout",
     "output_type": "stream",
     "text": [
      "MSE Score : 0.318762\n"
     ]
    }
   ],
   "source": [
    "mse_score = skm.mean_squared_error(\n",
    "    y_true = y_test_np,\n",
    "    y_pred = y_pred_np,\n",
    "    squared=False,\n",
    "    # compute=True,\n",
    ")\n",
    "# logging.info(f\"Compute R2 & MSE scores...Completed\")\n",
    "\n",
    "print(f\"MSE Score : {mse_score:.6f}\")"
   ]
  },
  {
   "cell_type": "code",
   "execution_count": 76,
   "metadata": {
    "execution": {
     "iopub.execute_input": "2024-08-12T23:57:16.876882Z",
     "iopub.status.busy": "2024-08-12T23:57:16.876369Z",
     "iopub.status.idle": "2024-08-12T23:57:16.925540Z",
     "shell.execute_reply": "2024-08-12T23:57:16.924829Z",
     "shell.execute_reply.started": "2024-08-12T23:57:16.876838Z"
    }
   },
   "outputs": [
    {
     "name": "stdout",
     "output_type": "stream",
     "text": [
      "0.17351379588682794 8.938049736924569e-148\n",
      "  Pearson : 0.173514      P: 8.938e-148\n"
     ]
    }
   ],
   "source": [
    "pearson_corr, pearson_p = sps.pearsonr(y_test_np, y_pred_np)\n",
    "\n",
    "print(pearson_corr, pearson_p)\n",
    "print(f\"  Pearson : {pearson_corr:.6f}      P: {pearson_p:.3e}\")"
   ]
  },
  {
   "cell_type": "code",
   "execution_count": 77,
   "metadata": {
    "execution": {
     "iopub.execute_input": "2024-08-12T23:57:33.048124Z",
     "iopub.status.busy": "2024-08-12T23:57:33.047659Z",
     "iopub.status.idle": "2024-08-12T23:57:33.334936Z",
     "shell.execute_reply": "2024-08-12T23:57:33.333197Z",
     "shell.execute_reply.started": "2024-08-12T23:57:33.048081Z"
    }
   },
   "outputs": [
    {
     "name": "stdout",
     "output_type": "stream",
     "text": [
      "0.14744452173648828 8.274093469629718e-107\n",
      "  Spearman : 0.147445      P: 8.274093e-107\n"
     ]
    }
   ],
   "source": [
    "spearman_corr, spearman_p = sps.spearmanr(y_test_np, y_pred_np)\n",
    "\n",
    "print(spearman_corr, spearman_p)\n",
    "print(f\"  Spearman : {spearman_corr:.6f}      P: {spearman_p:.6e}\")"
   ]
  },
  {
   "cell_type": "code",
   "execution_count": 78,
   "metadata": {
    "execution": {
     "iopub.execute_input": "2024-08-12T23:57:52.206185Z",
     "iopub.status.busy": "2024-08-12T23:57:52.205692Z",
     "iopub.status.idle": "2024-08-12T23:57:52.254919Z",
     "shell.execute_reply": "2024-08-12T23:57:52.253803Z",
     "shell.execute_reply.started": "2024-08-12T23:57:52.206143Z"
    }
   },
   "outputs": [
    {
     "name": "stdout",
     "output_type": "stream",
     "text": [
      "0 1 0.1188945136133534\n",
      "0.021202521 0.7625217 0.11815226\n"
     ]
    }
   ],
   "source": [
    "print(y_test_np.min(), y_test_np.max(), y_test_np.mean())\n",
    "print(y_pred_np.min(), y_pred_np.max(), y_pred_np.mean())"
   ]
  },
  {
   "cell_type": "code",
   "execution_count": 79,
   "metadata": {
    "execution": {
     "iopub.execute_input": "2024-08-12T23:58:09.544347Z",
     "iopub.status.busy": "2024-08-12T23:58:09.543937Z",
     "iopub.status.idle": "2024-08-12T23:58:09.603650Z",
     "shell.execute_reply": "2024-08-12T23:58:09.602984Z",
     "shell.execute_reply.started": "2024-08-12T23:58:09.544310Z"
    }
   },
   "outputs": [
    {
     "name": "stdout",
     "output_type": "stream",
     "text": [
      "ROC_AUC : 0.631505\n",
      "Log Loss: 0.351656\n"
     ]
    }
   ],
   "source": [
    "roc_auc = skm.roc_auc_score(y_test_np, y_score = y_pred_np)\n",
    "logloss = skm.log_loss(y_test_np, y_pred= y_pred_np)\n",
    "print(f\"ROC_AUC : {roc_auc:.6f}\")\n",
    "print(f\"Log Loss: {logloss:.6f}\")\n",
    "                                                "
   ]
  },
  {
   "cell_type": "code",
   "execution_count": 93,
   "metadata": {
    "execution": {
     "iopub.execute_input": "2024-08-13T00:10:46.290215Z",
     "iopub.status.busy": "2024-08-13T00:10:46.289776Z",
     "iopub.status.idle": "2024-08-13T00:10:46.337550Z",
     "shell.execute_reply": "2024-08-13T00:10:46.336902Z",
     "shell.execute_reply.started": "2024-08-13T00:10:46.290173Z"
    }
   },
   "outputs": [],
   "source": [
    "def compute_classification_metrics(model, y_true, y_pred, top_k =3, mode = 'train'):\n",
    "    metrics = {}\n",
    "    if mode == 'train':\n",
    "        metrics['train_auc'] = model['history']['train']['auc'][-1]\n",
    "        metrics['train_logloss'] = model['history']['train']['logloss'][-1]\n",
    "        metrics['val_auc']     = model['history']['test']['auc'][-1]\n",
    "        metrics['val_logloss'] = model['history']['test']['logloss'][-1]\n",
    "    else:\n",
    "        if hasattr(model, \"evals_result\"):\n",
    "            ev_result = model.evals_result()\n",
    "            metrics['train_auc'] = ev_result['validation_0']['auc'][-1]\n",
    "            metrics['train_logloss'] = ev_result['validation_0']['logloss'][-1]\n",
    "            metrics['val_auc']  = ev_result['validation_1']['auc'][-1]\n",
    "            metrics['val_logloss'] = ev_result['validation_0']['logloss'][-1]\n",
    "        else:\n",
    "            metrics['train_auc'] = 0.0\n",
    "            metrics['train_logloss'] = 0.0\n",
    "            metrics['val_auc']  = 0.0\n",
    "            metrics['val_logloss'] = 0.0\n",
    "            \n",
    "    metrics['roc_auc']   = skm.roc_auc_score(y_true, y_score = y_pred)\n",
    "    metrics['logloss']   = skm.log_loss(y_true, y_pred= y_pred)\n",
    "    \n",
    "    metrics['accuracy']  = skm.accuracy_score(y_true, y_pred= (y_pred >= 0.5))\n",
    "    metrics['bal_acc']   = skm.balanced_accuracy_score(y_true, y_pred= (y_pred >= 0.5), adjusted = True)\n",
    "    \n",
    "    metrics['top_k_acc'] = skm.top_k_accuracy_score(y_true, y_score = y_pred, k=top_k)\n",
    "    metrics['F1_score']  = skm.f1_score(y_true, y_pred = (y_pred >= 0.5))\n",
    "    metrics['precision']  = skm.precision_score(y_true, y_pred = (y_pred >= 0.5))\n",
    "    metrics['recall']  = skm.recall_score(y_true, y_pred = (y_pred >= 0.5))\n",
    " \n",
    "    \n",
    "    metrics['map']       = skm.average_precision_score(y_true, y_pred)\n",
    "    metrics['pearson_corr'], pearson_p = sps.pearsonr(y_true, y_pred)\n",
    "    \n",
    "    return metrics    \n",
    "    "
   ]
  },
  {
   "cell_type": "code",
   "execution_count": 94,
   "metadata": {
    "execution": {
     "iopub.execute_input": "2024-08-13T00:10:47.091280Z",
     "iopub.status.busy": "2024-08-13T00:10:47.091069Z",
     "iopub.status.idle": "2024-08-13T00:10:47.178080Z",
     "shell.execute_reply": "2024-08-13T00:10:47.177137Z",
     "shell.execute_reply.started": "2024-08-13T00:10:47.091259Z"
    },
    "scrolled": true
   },
   "outputs": [
    {
     "name": "stderr",
     "output_type": "stream",
     "text": [
      "2024-08-13 02:10:47,125 - root - INFO: - Calculating metrics...\n",
      "2024-08-13 02:10:47,174 - root - INFO: - Calculating metrics...Completed\n"
     ]
    }
   ],
   "source": [
    "logging.info(f\"Calculating metrics...\")\n",
    "# R2_score = skm.r2_score(y_true = y_test_c, y_pred = predictions)\n",
    "# mse_score = skm.mean_squared_error(y_true = y_test_c, y_pred = predictions, squared=False,)\n",
    "# metrics_keys = [\"train_auc\",\"train_logloss\", \"val_auc\", \"val_logloss\", \"roc_auc\", \"logloss\",\n",
    "#                \"accuracy\",\"bal_acc\",\"top_k_acc\",\"F1_score\",\"map\",\"pearson_corr\"]\n",
    "metrics = compute_classification_metrics(model_copy, y_test_np, y_pred, mode ='test')\n",
    "logging.info(f\"Calculating metrics...Completed\")"
   ]
  },
  {
   "cell_type": "code",
   "execution_count": 96,
   "metadata": {
    "execution": {
     "iopub.execute_input": "2024-08-13T00:11:42.946118Z",
     "iopub.status.busy": "2024-08-13T00:11:42.945688Z",
     "iopub.status.idle": "2024-08-13T00:11:42.989239Z",
     "shell.execute_reply": "2024-08-13T00:11:42.988708Z",
     "shell.execute_reply.started": "2024-08-13T00:11:42.946076Z"
    }
   },
   "outputs": [
    {
     "data": {
      "text/plain": [
       "{'train_auc': 0.0,\n",
       " 'train_logloss': 0.0,\n",
       " 'val_auc': 0.0,\n",
       " 'val_logloss': 0.0,\n",
       " 'roc_auc': 0.6315052700922266,\n",
       " 'logloss': 0.35165570597452683,\n",
       " 'accuracy': 0.8809686687645368,\n",
       " 'bal_acc': 0.0034947716015409913,\n",
       " 'top_k_acc': 1.0,\n",
       " 'F1_score': 0.008358662613981762,\n",
       " 'precision': 0.44,\n",
       " 'recall': 0.004219409282700422,\n",
       " 'map': 0.20149298438377167,\n",
       " 'pearson_corr': 0.17351379588682794}"
      ]
     },
     "execution_count": 96,
     "metadata": {},
     "output_type": "execute_result"
    }
   ],
   "source": [
    "metrics"
   ]
  },
  {
   "cell_type": "code",
   "execution_count": 97,
   "metadata": {
    "execution": {
     "iopub.execute_input": "2024-08-13T00:11:58.178144Z",
     "iopub.status.busy": "2024-08-13T00:11:58.177723Z",
     "iopub.status.idle": "2024-08-13T00:11:58.227341Z",
     "shell.execute_reply": "2024-08-13T00:11:58.226663Z",
     "shell.execute_reply.started": "2024-08-13T00:11:58.178101Z"
    },
    "lines_to_next_cell": 2
   },
   "outputs": [
    {
     "name": "stdout",
     "output_type": "stream",
     "text": [
      "\n",
      "        roc_auc :   0.631505\n",
      "       log_loss :   0.351656\n",
      "            map :   0.201493\n",
      "       Accuracy :   0.880969\n",
      "    Bal. Accrcy :   0.003495\n",
      "    Top 3 Score :   1.000000\n",
      "       F1 Score :   0.008359\n",
      "        Pearson :   0.173514          P : 8.9380e-148\n",
      "\n",
      "       train_auc :   0.000000\n",
      "   train_logloss :   0.000000\n",
      "         val_auc :   0.000000\n",
      "     val_logloss :   0.000000\n",
      "         roc_auc :   0.631505\n",
      "         logloss :   0.351656\n",
      "        accuracy :   0.880969\n",
      "         bal_acc :   0.003495\n",
      "       top_k_acc :   1.000000\n",
      "        F1_score :   0.008359\n",
      "       precision :   0.440000\n",
      "          recall :   0.004219\n",
      "             map :   0.201493\n",
      "    pearson_corr :   0.173514\n"
     ]
    }
   ],
   "source": [
    "# print(y_test_c)\n",
    "# print(predictions)\n",
    "print()\n",
    "print(f\"        roc_auc :  {metrics['roc_auc']:9.6f}\")\n",
    "print(f\"       log_loss :  {metrics['logloss']:9.6f}\")\n",
    "print(f\"            map :  {metrics['map']:9.6f}\")\n",
    "print(f\"       Accuracy :  {metrics['accuracy']:9.6f}\")\n",
    "print(f\"    Bal. Accrcy :  {metrics['bal_acc']:9.6f}\")\n",
    "print(f\"    Top 3 Score :  {metrics['top_k_acc']:9.6f}\")\n",
    "print(f\"       F1 Score :  {metrics['F1_score']:9.6f}\")\n",
    "print(f\"        Pearson :  {metrics['pearson_corr']:9.6f}          P : {pearson_p:9.4e}\")\n",
    "print()\n",
    "\n",
    "for k,v in metrics.items():\n",
    "    print(f\" {k:>15s} :  {v:9.6f}\")    \n",
    "# print(f\"   Training AUC :  {metrics['train_auc']:.6f}      Logloss : {metrics['train_logloss']:.6f}\")\n",
    "# print(f\" Validation AUC :  {metrics['val_auc']:.6f}      Logloss : {metrics['val_logloss']:.6f}\")\n",
    "# print(f\"       Test AUC :  {metrics['roc_auc']:.6f}      Logloss : {metrics['logloss']:.6f}\")"
   ]
  },
  {
   "cell_type": "code",
   "execution_count": 98,
   "metadata": {
    "execution": {
     "iopub.execute_input": "2024-08-13T00:14:02.827108Z",
     "iopub.status.busy": "2024-08-13T00:14:02.826629Z",
     "iopub.status.idle": "2024-08-13T00:14:02.882467Z",
     "shell.execute_reply": "2024-08-13T00:14:02.881941Z",
     "shell.execute_reply.started": "2024-08-13T00:14:02.827064Z"
    }
   },
   "outputs": [
    {
     "data": {
      "text/plain": [
       "0     0.147434\n",
       "1     0.120286\n",
       "2     0.106660\n",
       "3     0.132383\n",
       "4     0.165776\n",
       "5     0.098371\n",
       "6     0.215268\n",
       "7     0.347389\n",
       "8     0.291135\n",
       "9     0.094181\n",
       "10    0.097274\n",
       "11    0.086140\n",
       "12    0.105133\n",
       "13    0.087948\n",
       "14    0.101332\n",
       "15    0.148897\n",
       "16    0.087818\n",
       "17    0.215485\n",
       "18    0.124400\n",
       "19    0.084660\n",
       "Name: 0, dtype: float32"
      ]
     },
     "execution_count": 98,
     "metadata": {},
     "output_type": "execute_result"
    },
    {
     "data": {
      "text/plain": [
       "25"
      ]
     },
     "execution_count": 98,
     "metadata": {},
     "output_type": "execute_result"
    },
    {
     "data": {
      "text/plain": [
       "array([0, 0, 0, 0, 0, 0, 1, 1, 1, 1, 1, 1, 0, 0, 0, 1, 1, 1, 0, 0])"
      ]
     },
     "execution_count": 98,
     "metadata": {},
     "output_type": "execute_result"
    }
   ],
   "source": [
    "y_pred[:20]\n",
    "tt = y_pred > 0.5\n",
    "tt.sum()\n",
    "y_test_np[:20]"
   ]
  },
  {
   "cell_type": "code",
   "execution_count": 103,
   "metadata": {
    "execution": {
     "iopub.execute_input": "2024-08-13T00:17:08.756661Z",
     "iopub.status.busy": "2024-08-13T00:17:08.755879Z",
     "iopub.status.idle": "2024-08-13T00:17:09.042397Z",
     "shell.execute_reply": "2024-08-13T00:17:09.041880Z",
     "shell.execute_reply.started": "2024-08-13T00:17:08.756617Z"
    }
   },
   "outputs": [
    {
     "data": {
      "image/png": "[encoded data removed]",
      "text/plain": [
       "<Figure size 640x480 with 1 Axes>"
      ]
     },
     "metadata": {},
     "output_type": "display_data"
    }
   ],
   "source": [
    "# fig = plt.figure(figsize=(6,6))\n",
    "plt.plot(y_pred,y_test_np,  '.')\n",
    "plt.title(f\" Predicted vs. True TPSA - Pearson: {pearson_corr:.5f} / p:{pearson_p:.3e}\")\n",
    "plt.xlabel(\"Y Pred\");\n",
    "plt.ylabel(\"Y True\");\n",
    "# plt.xlim(1.775, 1.875)\n",
    "# plt.xlim(1.775, 1.875)"
   ]
  },
  {
   "cell_type": "code",
   "execution_count": 100,
   "metadata": {
    "execution": {
     "iopub.execute_input": "2024-08-13T00:14:22.645889Z",
     "iopub.status.busy": "2024-08-13T00:14:22.645172Z",
     "iopub.status.idle": "2024-08-13T00:14:23.037511Z",
     "shell.execute_reply": "2024-08-13T00:14:23.037003Z",
     "shell.execute_reply.started": "2024-08-13T00:14:22.645831Z"
    }
   },
   "outputs": [
    {
     "data": {
      "text/plain": [
       "Text(0.5, 0, 'TPSA Value')"
      ]
     },
     "execution_count": 100,
     "metadata": {},
     "output_type": "execute_result"
    },
    {
     "data": {
      "text/plain": [
       "Text(0, 0.5, 'Compounds')"
      ]
     },
     "execution_count": 100,
     "metadata": {},
     "output_type": "execute_result"
    },
    {
     "data": {
      "text/plain": [
       "<matplotlib.legend.Legend at 0x7fbe542da210>"
      ]
     },
     "execution_count": 100,
     "metadata": {},
     "output_type": "execute_result"
    },
    {
     "data": {
      "image/png": "[encoded data removed]",
      "text/plain": [
       "<Figure size 1000x500 with 1 Axes>"
      ]
     },
     "metadata": {},
     "output_type": "display_data"
    }
   ],
   "source": [
    "import matplotlib.pyplot as plt\n",
    "import numpy as np\n",
    "from matplotlib import colors\n",
    "from matplotlib.ticker import PercentFormatter\n",
    "num_bins = 40\n",
    "# fig, ax = plt.subplots()\n",
    " \n",
    "# the histogram of the data\n",
    "\n",
    "fig = plt.figure(figsize=(10,5))\n",
    "n, bins, patches = plt.hist(y_test_np, num_bins, density=False, label = 'True', range=[1.5,2.25] )\n",
    "# We can set the number of bins with the *bins* keyword argument.\n",
    "n, bins, patches = plt.hist(y_pred, num_bins, density=False, label='Predicitons' )\n",
    "plt.xlabel('TPSA Value')\n",
    "plt.ylabel('Compounds')\n",
    "plt.legend()\n",
    "# ax.set_title('Histogram of normal distribution sample: '\n",
    "#              fr'$\\mu={mu:.0f}$, $\\sigma={sigma:.0f}$')\n",
    "# axs[1].hist(dist2, bins=n_bins)"
   ]
  },
  {
   "cell_type": "markdown",
   "metadata": {},
   "source": [
    "### plot ROC and Precision-Recall Curves"
   ]
  },
  {
   "cell_type": "code",
   "execution_count": 101,
   "metadata": {
    "execution": {
     "iopub.execute_input": "2024-08-13T00:14:28.505557Z",
     "iopub.status.busy": "2024-08-13T00:14:28.505299Z",
     "iopub.status.idle": "2024-08-13T00:14:29.068636Z",
     "shell.execute_reply": "2024-08-13T00:14:29.068064Z",
     "shell.execute_reply.started": "2024-08-13T00:14:28.505536Z"
    },
    "scrolled": true
   },
   "outputs": [
    {
     "data": {
      "image/png": "[encoded data removed]",
      "text/plain": [
       "<Figure size 1200x500 with 2 Axes>"
      ]
     },
     "metadata": {},
     "output_type": "display_data"
    }
   ],
   "source": [
    "### from sklearn.metrics import RocCurveDisplay\n",
    "# fig, axes = plt.subplots(1, 3, figsize=(16, 5))\n",
    "fig, axes = plt.subplots(1, 2, figsize=(12, 5))\n",
    "\n",
    "\n",
    "roc_display = skm.RocCurveDisplay.from_predictions(\n",
    "    y_test_np,\n",
    "    y_pred, \n",
    "    name=f\"Roc Curve\",\n",
    "    color=\"darkorange\",\n",
    "    plot_chance_level=True,\n",
    "    ax = axes[0])\n",
    "\n",
    "_ = roc_display.ax_.set(\n",
    "    xlabel=\"False Positive Rate\",\n",
    "    ylabel=\"True Positive Rate\",\n",
    "    title=f\"ROC curve - TPSA Classification (XGBoost)\\n LogLoss: {metrics['logloss'] :0.3f} AUC: {metrics['roc_auc']:0.3f} \",\n",
    ")\n",
    "_ = roc_display.ax_.legend(fontsize=8);\n",
    "\n",
    "# prec, recall, _ = skm.precision_recall_curve(y_test, predictions, pos_label=1)\n",
    "# pr_display = skm.PrecisionRecallDisplay(precision=prec, recall=recall)\n",
    "pr_display = skm.PrecisionRecallDisplay.from_predictions(\n",
    "    y_test_np, \n",
    "    y_pred, \n",
    "    name=\"Precision/Recall - XGBoost\", \n",
    "    plot_chance_level=True,\n",
    "    ax = axes[1])\n",
    "\n",
    "_ = pr_display.ax_.set_title(\" Precision-Recall curve\");\n",
    "_ = pr_display.ax_.legend(fontsize=8);\n",
    "# plt.show()"
   ]
  },
  {
   "cell_type": "code",
   "execution_count": 102,
   "metadata": {
    "execution": {
     "iopub.execute_input": "2024-08-13T00:14:40.868494Z",
     "iopub.status.busy": "2024-08-13T00:14:40.868053Z",
     "iopub.status.idle": "2024-08-13T00:14:41.073910Z",
     "shell.execute_reply": "2024-08-13T00:14:41.073264Z",
     "shell.execute_reply.started": "2024-08-13T00:14:40.868452Z"
    },
    "scrolled": true
   },
   "outputs": [
    {
     "data": {
      "image/png": "[encoded data removed]",
      "text/plain": [
       "<Figure size 500x500 with 2 Axes>"
      ]
     },
     "metadata": {},
     "output_type": "display_data"
    }
   ],
   "source": [
    "fig, axes = plt.subplots(1, 1, figsize=(5, 5))\n",
    "cm_display = skm.ConfusionMatrixDisplay.from_predictions(y_test_np, (y_pred >= 0.5), values_format=\"5d\", ax = axes)\n",
    "\n",
    " # fig, (ax1, ax2) = plt.subplots(1, 2, figsize=(15, 8))\n",
    "# roc_display.plot(ax=ax1)\n",
    "# pr_display.plot(ax=ax2)\n",
    "plt.show()"
   ]
  },
  {
   "cell_type": "markdown",
   "metadata": {},
   "source": [
    "### Plot Feature Importance "
   ]
  },
  {
   "cell_type": "code",
   "execution_count": null,
   "metadata": {
    "scrolled": true
   },
   "outputs": [],
   "source": [
    "# train_score = xgb_reg.score(train_X, train_y)\n",
    "# val_score = xgb_reg.score(val_X, val_y)\n",
    "# test_score = xgb_reg.score(test_X, test_y)"
   ]
  },
  {
   "cell_type": "code",
   "execution_count": null,
   "metadata": {},
   "outputs": [],
   "source": [
    "print(f\" R2 score - Training   : {train_score:0.6f}\")\n",
    "print(f\" R2 score - Validation : {val_score:0.6f}\")\n",
    "print(f\" R2 score - Test data  : {test_score:0.6f}\")"
   ]
  },
  {
   "cell_type": "code",
   "execution_count": null,
   "metadata": {},
   "outputs": [],
   "source": [
    "# fig = plt.figure(figsize=(20, 20))\n",
    "# plt.yticks(fontsize = 12)\n",
    "# ax = fig.add_subplot()\n",
    "# ax.set_xlim(10,50)\n",
    "ax = xgb.plot_importance(model_copy, max_num_features= None,  grid = False,  show_values = True, )\n",
    "for label in ( ax.get_xticklabels() + ax.get_yticklabels()):\n",
    "    label.set_fontsize(9)\n",
    "ax.get_yticklabels()\n",
    "# ax.autoscale(enable=None, axis=\"y\", tight=True)"
   ]
  },
  {
   "cell_type": "code",
   "execution_count": null,
   "metadata": {},
   "outputs": [],
   "source": [
    "from graphviz import Source \n",
    "xgb.plot_tree(model_copy,num_tress=5)"
   ]
  },
  {
   "cell_type": "code",
   "execution_count": null,
   "metadata": {},
   "outputs": [],
   "source": [
    "# model_copy.attributes()\n",
    "model_copy.feature_names\n",
    "model_copy."
   ]
  },
  {
   "cell_type": "code",
   "execution_count": null,
   "metadata": {},
   "outputs": [],
   "source": [
    "xgb.get_config()"
   ]
  },
  {
   "cell_type": "markdown",
   "metadata": {},
   "source": []
  },
  {
   "cell_type": "markdown",
   "metadata": {
    "jp-MarkdownHeadingCollapsed": true
   },
   "source": [
    "# Save column header names to CSV file"
   ]
  },
  {
   "cell_type": "markdown",
   "metadata": {
    "jp-MarkdownHeadingCollapsed": true
   },
   "source": [
    "`binned_2sample_profiles_1482_header_info.csv` csv file as this is an old file "
   ]
  },
  {
   "cell_type": "code",
   "execution_count": 21,
   "metadata": {
    "execution": {
     "iopub.execute_input": "2024-08-06T19:54:34.987335Z",
     "iopub.status.busy": "2024-08-06T19:54:34.986822Z",
     "iopub.status.idle": "2024-08-06T19:54:35.053226Z",
     "shell.execute_reply": "2024-08-06T19:54:35.052114Z",
     "shell.execute_reply.started": "2024-08-06T19:54:34.987301Z"
    }
   },
   "outputs": [],
   "source": [
    "# INPUT_FILE = \"./output_11102023/2_sample_profiles/binned_2sample_profiles_w_header_000.csv\"\n",
    "# print(f\"Reading {INPUT_FILE}\")\n",
    "# df = pd.read_csv(INPUT_FILE)\n",
    "# df.info()\n",
    "# df.iloc[:5,:15]\n",
    "# df.loc[0]\n",
    "# header_3681 = df.columns.to_list()\n",
    "# df_header = pd.DataFrame(data=None, columns = df.columns)\n",
    "# df_header\n",
    "# df_header.to_csv(\"./output_11102023/2_sample_profiles/binned_2sample_profiles_3681_header_info.csv\", index = False )\n",
    "\n",
    "# INPUT_FILE = './output_11102023/2_sample_profiles/2sample_profiles_1482_HashOrder.csv.gz'\n",
    "# print(f\"Reading {INPUT_FILE}\")\n",
    "# df = pd.read_csv(INPUT_FILE, nrows = 5)\n",
    "\n",
    "# df.info()\n",
    "# df.iloc[:5,:15]\n",
    "# df.loc[0]\n",
    "# header_1482 = df.columns.to_list()\n",
    "# df_header = pd.DataFrame(data=None, columns = df.columns)\n",
    "# df_header\n",
    "# df_header.to_csv(\"./output_11102023/2_sample_profiles/binned_2sample_profiles_1482_header_info.csv\", index = False )"
   ]
  },
  {
   "cell_type": "markdown",
   "metadata": {
    "jp-MarkdownHeadingCollapsed": true
   },
   "source": [
    "# XGBoost Classification- Development "
   ]
  },
  {
   "cell_type": "markdown",
   "metadata": {
    "ExecuteTime": {
     "end_time": "2023-07-31T18:45:01.023214Z",
     "start_time": "2023-07-31T18:45:00.890667Z"
    }
   },
   "source": [
    "- Need to convert Dask data frames to dask arrays in order to use data in parm grid search"
   ]
  },
  {
   "cell_type": "code",
   "execution_count": null,
   "metadata": {},
   "outputs": [],
   "source": [
    "files = os.walk('./output_11102023')\n",
    "\n",
    "for i in files :\n",
    "    print(i)"
   ]
  },
  {
   "cell_type": "markdown",
   "metadata": {},
   "source": [
    "### Read compound profiles"
   ]
  },
  {
   "cell_type": "code",
   "execution_count": null,
   "metadata": {},
   "outputs": [],
   "source": [
    "profileInputFiles = './output_11102023/profiles/compound_profiles_2samples_*.csv'"
   ]
  },
  {
   "cell_type": "code",
   "execution_count": null,
   "metadata": {},
   "outputs": [],
   "source": [
    "# del df_profiles\n",
    "df_profiles = read_cell_profiles(profileInputFiles, rows = 200000)"
   ]
  },
  {
   "cell_type": "code",
   "execution_count": null,
   "metadata": {},
   "outputs": [],
   "source": [
    "type(df_profiles)\n",
    "df_profiles.head(3)\n",
    "df_profiles.shape"
   ]
  },
  {
   "cell_type": "markdown",
   "metadata": {},
   "source": [
    "### Training initialization"
   ]
  },
  {
   "cell_type": "code",
   "execution_count": null,
   "metadata": {},
   "outputs": [],
   "source": [
    " \n",
    "metrics_hist = defaultdict(list)\n",
    "metrics_keys = [\"train_auc\",\"train_logloss\", \"val_auc\", \"val_logloss\", \"roc_auc\", \"logloss\",\n",
    "                \"accuracy\",\"bal_acc\",\"top_k_acc\",\"F1_score\",\"map\",\"pearson_corr\"]\n",
    "\n",
    "# print(study_params)"
   ]
  },
  {
   "cell_type": "code",
   "execution_count": null,
   "metadata": {},
   "outputs": [],
   "source": [
    "study_params = {  \"booster\"            : \"gbtree\",\n",
    "                  \"device\"             : \"gpu\",\n",
    "                  \"objective\"          :  \"binary:logistic\",\n",
    "                  \"eval_metric\"        :  [\"auc\", \"logloss\"]\n",
    "                  \"learning_rate\"      : 0.001,    ## eta\n",
    "                  \"max_depth\"          : 10,\n",
    "                  \"max_leaves\"         : 10,\n",
    "                  \"verbosity\"          : 0,\n",
    "                  \"min_child_weight\"   : 1, \n",
    "                  \"scale_pos_weight\"   : 7.89,\n",
    "                  \"gamma\"              : 0.0001,  ## min split loss \n",
    "               }"
   ]
  },
  {
   "cell_type": "code",
   "execution_count": null,
   "metadata": {},
   "outputs": [],
   "source": [
    "iter_files = make_cv_splits(df_profiles, n_folds=5, y_columns=y_columns)"
   ]
  },
  {
   "cell_type": "code",
   "execution_count": null,
   "metadata": {},
   "outputs": [],
   "source": [
    "xgb.__version__\n",
    "xgb.config_context(device = \"gpu\", booster = \"gbtree\", verbosity = 0, validate_parameters = True ) \n",
    "# xgb.set_config(use_rmm = True, verbosity = 1)\n",
    "# xgb.set_config()\n",
    "# xgb.get_config()"
   ]
  },
  {
   "cell_type": "markdown",
   "metadata": {
    "jp-MarkdownHeadingCollapsed": true
   },
   "source": [
    "### Beginning of loop"
   ]
  },
  {
   "cell_type": "code",
   "execution_count": null,
   "metadata": {},
   "outputs": [],
   "source": [
    "(X_train,y_train), (X_test, y_test) = next(iter_files)"
   ]
  },
  {
   "cell_type": "code",
   "execution_count": null,
   "metadata": {
    "scrolled": true
   },
   "outputs": [],
   "source": [
    "logging.info(f\"Building TRAINING/TEST DMatricies...\")\n",
    "\n",
    "d_train = xgb.dask.DaskDMatrix(client, X_train, y_train )\n",
    "# logging.info(f\"Building TRAINING DMatrix...Completed\")\n",
    "\n",
    "# logging.info(f\"Building TEST DMatrix...\")\n",
    "d_test = xgb.dask.DaskDMatrix(client, X_test, y_test )\n",
    "logging.info(f\"Building TRAINING/TEST DMatricies...Completed\")"
   ]
  },
  {
   "cell_type": "code",
   "execution_count": null,
   "metadata": {},
   "outputs": [],
   "source": [
    "# X_train.shape , X_test.shape, # y_train.shape , y_test.shape\n",
    "booster_model = model['booster'] if model is not None else None"
   ]
  },
  {
   "cell_type": "code",
   "execution_count": null,
   "metadata": {
    "scrolled": true
   },
   "outputs": [],
   "source": [
    "logging.info(f\"Training model...\")\n",
    "model = xgb.dask.train(\n",
    "    None,\n",
    "    {\"verbosity\": 0, \"tree_method\": \"hist\", **study_params},\n",
    "    d_train,\n",
    "    num_boost_round=10000,\n",
    "    evals=[(d_train, \"train\"), (d_test, \"test\")],\n",
    "    xgb_model = booster_model,\n",
    "    verbose_eval=True,\n",
    "    early_stopping_rounds = 50,\n",
    ")\n",
    "logging.info(f\"Training model...Completed\")"
   ]
  },
  {
   "cell_type": "markdown",
   "metadata": {
    "jp-MarkdownHeadingCollapsed": true
   },
   "source": [
    "### Run on test data and plot results "
   ]
  },
  {
   "cell_type": "code",
   "execution_count": null,
   "metadata": {},
   "outputs": [],
   "source": [
    "model['booster'].best_iteration, model['booster'].best_score"
   ]
  },
  {
   "cell_type": "code",
   "execution_count": null,
   "metadata": {},
   "outputs": [],
   "source": [
    "predictions = xgb.dask.predict(client, model,d_test).compute()\n",
    "\n",
    "y_test_c = y_test.compute().to_numpy().squeeze()\n"
   ]
  },
  {
   "cell_type": "code",
   "execution_count": null,
   "metadata": {},
   "outputs": [],
   "source": [
    "print(f\" y_test_c   : {type(y_test_c)} \\t\\t\\t shape: {y_test_c.shape}\")\n",
    "print(f\" Predictions: {type(predictions)} \\t\\t\\t shape: {predictions.shape}\")\n",
    "np.bincount(y_test_c)"
   ]
  },
  {
   "cell_type": "code",
   "execution_count": null,
   "metadata": {},
   "outputs": [],
   "source": [
    "logging.info(f\"Calculating metrics...\")\n",
    "# R2_score = skm.r2_score(y_true = y_test_c, y_pred = predictions)\n",
    "# mse_score = skm.mean_squared_error(y_true = y_test_c, y_pred = predictions, squared=False,)\n",
    "# metrics_keys = [\"train_auc\",\"train_logloss\", \"val_auc\", \"val_logloss\", \"roc_auc\", \"logloss\",\n",
    "#                \"accuracy\",\"bal_acc\",\"top_k_acc\",\"F1_score\",\"map\",\"pearson_corr\"]\n",
    "metrics = compute_classification_metrics(model, y_test_c, predictions)\n",
    "logging.info(f\"Calculating metrics...Completed\")"
   ]
  },
  {
   "cell_type": "code",
   "execution_count": null,
   "metadata": {
    "lines_to_next_cell": 2
   },
   "outputs": [],
   "source": [
    "# print(y_test_c)\n",
    "# print(predictions)\n",
    "print()\n",
    "print(f\"    log_loss :  {metrics['logloss']:9.6f}\")\n",
    "print(f\"    Accuracy :  {metrics['accuracy']:9.6f}\")\n",
    "print(f\" Bal. Accrcy :  {metrics['bal_acc']:9.6f}\")\n",
    "print(f\" Top 3 Score :  {metrics['top_k_acc']:9.6f}\")\n",
    "print(f\"    F1 Score :  {metrics['F1_score']:9.6f}\")\n",
    "print(f\"     Pearson :  {metrics['pearson_corr']:9.6f}          P : {pearson_p:9.4e}\")\n",
    "print()\n",
    "print(f\"   Training AUC :  {metrics['train_auc']:.6f}      Logloss : {metrics['train_logloss']:.6f}\")\n",
    "print(f\" Validation AUC :  {metrics['val_auc']:.6f}      Logloss : {metrics['val_logloss']:.6f}\")\n",
    "print(f\"       Test AUC :  {metrics['roc_auc']:.6f}      Logloss : {metrics['logloss']:.6f}\")"
   ]
  },
  {
   "cell_type": "code",
   "execution_count": null,
   "metadata": {},
   "outputs": [],
   "source": [
    "for key in metrics_keys:\n",
    "    print(f\" {key:20s}:    {metrics_hist[key]}\")"
   ]
  },
  {
   "cell_type": "code",
   "execution_count": null,
   "metadata": {},
   "outputs": [],
   "source": [
    "model['booster'].best_score\n",
    "model['booster'].best_iteration"
   ]
  },
  {
   "cell_type": "markdown",
   "metadata": {
    "jp-MarkdownHeadingCollapsed": true
   },
   "source": [
    "### plot results"
   ]
  },
  {
   "cell_type": "code",
   "execution_count": null,
   "metadata": {
    "scrolled": true
   },
   "outputs": [],
   "source": [
    "### from sklearn.metrics import RocCurveDisplay\n",
    "fig, axes = plt.subplots(1, 3, figsize=(16, 5))\n",
    "\n",
    "\n",
    "roc_display = skm.RocCurveDisplay.from_predictions(\n",
    "    y_test_c,\n",
    "    predictions, \n",
    "    name=f\"Roc Curve\",\n",
    "    color=\"darkorange\",\n",
    "    plot_chance_level=True,\n",
    "    ax = axes[0]\n",
    ")\n",
    "_ = roc_display.ax_.set(\n",
    "    xlabel=\"False Positive Rate\",\n",
    "    ylabel=\"True Positive Rate\",\n",
    "    title=f\"ROC curve - TPSA Classification (XGBoost)\\n LogLoss: {metrics_hist['logloss'][-1]:0.3f}      AUC: {metrics_hist['roc_auc'][-1]:0.3f} \",\n",
    ")\n",
    "_ = roc_display.ax_.legend(fontsize=8);\n",
    "\n",
    "# prec, recall, _ = skm.precision_recall_curve(y_test, predictions, pos_label=1)\n",
    "# pr_display = skm.PrecisionRecallDisplay(precision=prec, recall=recall)\n",
    "pr_display = skm.PrecisionRecallDisplay.from_predictions(\n",
    "    y_test_c, \n",
    "    predictions, \n",
    "    name=\"Precision/Recall - XGBoost\", \n",
    "    plot_chance_level=True,\n",
    "    ax = axes[1]\n",
    ")\n",
    "_ = pr_display.ax_.set_title(\" Precision-Recall curve\");\n",
    "_ = pr_display.ax_.legend(fontsize=8);\n",
    "cm_display = skm.ConfusionMatrixDisplay.from_predictions(y_test_c, (predictions >= 0.5), values_format=\"5d\", ax = axes[2])\n",
    "\n",
    "# fig, (ax1, ax2) = plt.subplots(1, 2, figsize=(15, 8))\n",
    "# roc_display.plot(ax=ax1)\n",
    "# pr_display.plot(ax=ax2)\n",
    "# plt.show()"
   ]
  },
  {
   "cell_type": "code",
   "execution_count": null,
   "metadata": {
    "lines_to_next_cell": 2
   },
   "outputs": [],
   "source": [
    "# del d_train, d_test\n",
    "del model, predictions, pearson_p\n",
    "del d_train, d_test, X_train, y_train, X_test, y_test, y_test_c"
   ]
  },
  {
   "cell_type": "markdown",
   "metadata": {
    "jp-MarkdownHeadingCollapsed": true
   },
   "source": [
    "### End of loop"
   ]
  },
  {
   "cell_type": "code",
   "execution_count": null,
   "metadata": {},
   "outputs": [],
   "source": [
    "print_metric_hist(metrics_hist)"
   ]
  },
  {
   "cell_type": "code",
   "execution_count": null,
   "metadata": {},
   "outputs": [],
   "source": [
    "# type(model)\n",
    "data = { 'mse_scores' : mse_scores_np,\n",
    "         'R2_scores' : R2_scores_np}\n",
    "    \n",
    "with open(trainingMetrics, 'wb') as f: \n",
    "    # Pickle the 'data' dictionary using the highest protocol available.\n",
    "    pickle.dump(data, f, pickle.HIGHEST_PROTOCOL)"
   ]
  },
  {
   "cell_type": "code",
   "execution_count": null,
   "metadata": {},
   "outputs": [],
   "source": [
    "with open(trainingMetrics, 'rb') as f:\n",
    "    # The protocol version used is detected automatically, so we do not\n",
    "    # have to specify it.\n",
    "    data = pickle.load(f)\n",
    "data"
   ]
  }
 ],
 "metadata": {
  "kernelspec": {
   "display_name": "Python [conda env:cp311]",
   "language": "python",
   "name": "conda-env-cp311-py"
  },
  "language_info": {
   "codemirror_mode": {
    "name": "ipython",
    "version": 3
   },
   "file_extension": ".py",
   "mimetype": "text/x-python",
   "name": "python",
   "nbconvert_exporter": "python",
   "pygments_lexer": "ipython3",
   "version": "3.11.4"
  },
  "toc": {
   "base_numbering": 1,
   "nav_menu": {},
   "number_sections": true,
   "sideBar": true,
   "skip_h1_title": false,
   "title_cell": "Table of Contents",
   "title_sidebar": "Contents",
   "toc_cell": false,
   "toc_position": {
    "height": "calc(100% - 180px)",
    "left": "10px",
    "top": "150px",
    "width": "380.631px"
   },
   "toc_section_display": true,
   "toc_window_display": false
  }
 },
 "nbformat": 4,
 "nbformat_minor": 4
}
