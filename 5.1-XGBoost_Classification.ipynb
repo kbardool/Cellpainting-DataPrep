{
 "cells": [
  {
   "cell_type": "markdown",
   "metadata": {
    "slideshow": {
     "slide_type": ""
    },
    "tags": []
   },
   "source": [
    " # XGBoost - Classification"
   ]
  },
  {
   "cell_type": "markdown",
   "metadata": {
    "slideshow": {
     "slide_type": ""
    },
    "tags": []
   },
   "source": [
    "**Using Optuna for hyper-parameter search  to predict TPSA from morphology profiles**"
   ]
  },
  {
   "cell_type": "markdown",
   "metadata": {},
   "source": [
    " ## Initialization"
   ]
  },
  {
   "cell_type": "code",
   "execution_count": 1,
   "metadata": {
    "ExecuteTime": {
     "end_time": "2023-12-21T20:50:25.298115Z",
     "start_time": "2023-12-21T20:50:24.855884Z"
    },
    "execution": {
     "iopub.execute_input": "2024-04-24T08:42:57.098431Z",
     "iopub.status.busy": "2024-04-24T08:42:57.097853Z",
     "iopub.status.idle": "2024-04-24T08:42:58.573076Z",
     "shell.execute_reply": "2024-04-24T08:42:58.572313Z",
     "shell.execute_reply.started": "2024-04-24T08:42:57.098387Z"
    }
   },
   "outputs": [
    {
     "data": {
      "text/html": [
       "<style>.container { width:98% !important; }</style>"
      ],
      "text/plain": [
       "<IPython.core.display.HTML object>"
      ]
     },
     "metadata": {},
     "output_type": "display_data"
    }
   ],
   "source": [
    "from IPython.display import display, HTML\n",
    "display(HTML(\"<style>.container { width:98% !important; }</style>\"))\n",
    "%load_ext autoreload  \n",
    "%autoreload 2\n",
    "from IPython.core.interactiveshell import InteractiveShell\n",
    "InteractiveShell.ast_node_interactivity = \"all\"\n",
    "%matplotlib inline"
   ]
  },
  {
   "cell_type": "markdown",
   "metadata": {},
   "source": [
    "## imports "
   ]
  },
  {
   "cell_type": "code",
   "execution_count": 126,
   "metadata": {
    "ExecuteTime": {
     "end_time": "2023-12-21T20:50:28.460258Z",
     "start_time": "2023-12-21T20:50:25.868966Z"
    },
    "execution": {
     "iopub.execute_input": "2024-04-25T09:24:50.870303Z",
     "iopub.status.busy": "2024-04-25T09:24:50.869448Z",
     "iopub.status.idle": "2024-04-25T09:24:50.954755Z",
     "shell.execute_reply": "2024-04-25T09:24:50.952910Z",
     "shell.execute_reply.started": "2024-04-25T09:24:50.870240Z"
    }
   },
   "outputs": [
    {
     "name": "stderr",
     "output_type": "stream",
     "text": [
      "2024-04-25 11:24:50,947 - INFO: -  1/7- engine connected\n"
     ]
    },
    {
     "name": "stdout",
     "output_type": "stream",
     "text": [
      "['/tmp/dask-scratch-space', '/tmp/dask-scratch-space/scheduler-x8ijkd22', './src', '/home/kevin/WSL-shared/Cellpainting/cj-datasets', '/home/kevin/miniforge3/envs/cp311/lib/python311.zip', '/home/kevin/miniforge3/envs/cp311/lib/python3.11', '/home/kevin/miniforge3/envs/cp311/lib/python3.11/lib-dynload', '', '/home/kevin/miniforge3/envs/cp311/lib/python3.11/site-packages', '/home/kevin/miniforge3/envs/cp311/lib/python3.11/site-packages/huggingface_hub-0.20.3-py3.8.egg']\n",
      "\n",
      " datetime.now().strftime('%x %X')                    : 04/25/24 11:24:50\n",
      " datetime.now().strftime('%X %x %Z')                 : 11:24:50 04/25/24 \n",
      " datetime.now().strftime('%X.%f')                    : 11:24:50.948616\n",
      " datetime.now().strftime('%D-%X.%f')                 : 04/25/24-11:24:50.948629\n",
      " datetime.now().strftime('%Y-%m-%d %H:%M:%S.%f')     : 2024-04-25 11:24:50.948639\n"
     ]
    }
   ],
   "source": [
    "# Models\n",
    "import os, sys\n",
    "import math\n",
    "import pickle\n",
    "import itertools\n",
    "import copy \n",
    "import joblib\n",
    "import logging \n",
    "# from multiprocessing import Pool, process\n",
    "from datetime import datetime, time\n",
    "from collections import defaultdict\n",
    "from collections.abc import Iterator\n",
    "\n",
    "if './src' not in sys.path:\n",
    "    print(f\"insert ./src\")\n",
    "    sys.path.insert(0, './src')\n",
    "print(sys.path)\n",
    "\n",
    "import numpy as np\n",
    "np.set_printoptions(edgeitems=3, infstr='inf', linewidth=150, nanstr='nan')\n",
    "\n",
    "import pandas as pd\n",
    "pd.options.display.width = 170\n",
    "\n",
    "import scipy.stats as sps \n",
    "import sklearn.metrics as skm\n",
    "import matplotlib.pyplot as plt\n",
    "\n",
    "from pprint import PrettyPrinter\n",
    "pp = PrettyPrinter(indent=4)\n",
    "\n",
    "import warnings\n",
    "warnings.filterwarnings('ignore')\n",
    "\n",
    "from utils import display_gpu_info, display_gpu_device_info\n",
    "from utils_cellpainting import *\n",
    "from utils_ml import model_selection \n",
    "\n",
    "# os.environ[\"WANDB_NOTEBOOK_NAME\"] = \"Adashare_Train.ipynb\"\n",
    "# os.environ[\"CUDA_LAUNCH_BLOCKING\"] = \"1\"\n",
    "os.environ[\"CUDA_VISIBLE_DEVICES\"] = \"2\"\n",
    "\n",
    "setup_logging()\n",
    "logging.info(f\" 1/7- engine connected\")\n",
    "# logging.warning(f\" 1/7- engine connected\")\n",
    "# logging.error(f\" 1/7- engine connected\")\n",
    "# logging.critical(f\" 1/7- engine connected\")\n",
    "# print(logging.NOTSET, logging.DEBUG,  logging.INFO, logging.WARN, logging.WARNING, logging.ERROR, logging.CRITICAL,  logging.FATAL)\n",
    "\n",
    "print()\n",
    "for time_fmt in ['%x %X', '%X %x %Z', '%X.%f', '%D-%X.%f', '%Y-%m-%d %H:%M:%S.%f']:\n",
    "    cmd_string = f\"datetime.now().strftime('{time_fmt}')\"\n",
    "    print(f\" {cmd_string:50s}  : {datetime.now().strftime(time_fmt)}\")\n",
    "\n",
    "# display_gpu_info()"
   ]
  },
  {
   "cell_type": "code",
   "execution_count": 3,
   "metadata": {
    "ExecuteTime": {
     "end_time": "2023-12-21T20:50:31.139023Z",
     "start_time": "2023-12-21T20:50:30.891155Z"
    },
    "execution": {
     "iopub.execute_input": "2024-04-24T08:43:13.039949Z",
     "iopub.status.busy": "2024-04-24T08:43:13.039690Z",
     "iopub.status.idle": "2024-04-24T08:43:13.134623Z",
     "shell.execute_reply": "2024-04-24T08:43:13.133864Z",
     "shell.execute_reply.started": "2024-04-24T08:43:13.039927Z"
    }
   },
   "outputs": [],
   "source": [
    "import optuna\n",
    "import dask\n",
    "import dask.array as da\n",
    "import dask.dataframe as dd\n",
    "from dask import delayed\n",
    "from dask.distributed import Client\n",
    "from dask.distributed import LocalCluster\n",
    "from dask_cuda import LocalCUDACluster\n",
    "import dask_ml.model_selection as dcv\n",
    "\n",
    "import xgboost as xgb\n",
    "from xgboost import XGBClassifier, XGBRegressor\n",
    "import sklearn.metrics as skm\n",
    "\n",
    "# from dask_ml.model_selection import train_test_split\n",
    "# from dask_ml.model_selection import GridSearchCV, IncrementalSearchCV, HyperbandSearchCV\n",
    "# from dask_ml.metrics import mean_squared_error, r2_score, mean_squared_log_error"
   ]
  },
  {
   "cell_type": "markdown",
   "metadata": {},
   "source": [
    "## Helper Functions"
   ]
  },
  {
   "cell_type": "code",
   "execution_count": 4,
   "metadata": {
    "execution": {
     "iopub.execute_input": "2024-04-24T08:43:13.136879Z",
     "iopub.status.busy": "2024-04-24T08:43:13.136622Z",
     "iopub.status.idle": "2024-04-24T08:43:13.176093Z",
     "shell.execute_reply": "2024-04-24T08:43:13.175419Z",
     "shell.execute_reply.started": "2024-04-24T08:43:13.136857Z"
    }
   },
   "outputs": [],
   "source": [
    "def train_model(iter_files, metric_keys = None, study_name = \"\", trial_num = 0, save = False, \n",
    "                **model_params):\n",
    "    metrics_hist = defaultdict(list)\n",
    "    my_model = None\n",
    "    \n",
    "    for i, ((X_train,y_train), (X_val, y_val)) in enumerate(iter_files):\n",
    "        logging.info(f\"CrossValidation split #{i}\")\n",
    "        logging.info(f\"Building training & validation DMatrix...\")\n",
    "        \n",
    "        d_train = xgb.dask.DaskDMatrix( client, X_train, y_train)      \n",
    "        d_val = xgb.dask.DaskDMatrix(client, X_val, y_val)\n",
    "        \n",
    "        logging.info(f\"Training model...\")\n",
    "        # booster_model = my_model['booster'] if my_model is not None else None\n",
    "        my_model = xgb.dask.train(\n",
    "            None,  \n",
    "            model_params, \n",
    "            d_train,\n",
    "            # xgb_model = booster_model,\n",
    "            num_boost_round=1000,\n",
    "            evals=[(d_train, \"train\"), (d_val, \"test\")],\n",
    "            verbose_eval=False,\n",
    "            early_stopping_rounds = 50\n",
    "        )\n",
    "        # logging.info(f\"Training model...Completed\")\n",
    "        \n",
    "        logging.info(f\"Running model on test data...\")\n",
    "        y_pred = xgb.dask.predict(client, my_model, d_val).compute()      \n",
    "        y_true = y_val.compute().to_numpy().squeeze()\n",
    "\n",
    "        # Compute predictions and mean squared error for this iteration\n",
    "        logging.info(f\"Calculating metrics...\")\n",
    "        iter_metrics = compute_classification_metrics(my_model, y_true, y_pred)\n",
    "        logging.info(f\"Calculating metrics...Completed\")\n",
    "        \n",
    "        print(\"-\" * 80)            \n",
    "        for key in metric_keys:\n",
    "            metrics_hist[key].append(iter_metrics[key])\n",
    "            print(f\" {key:20s}: {iter_metrics[key]:9.5f}\")\n",
    "        print(\"-\" * 80)            \n",
    "        \n",
    "        del d_train, d_val, X_train, y_train, X_val, y_val, y_true, y_pred\n",
    "\n",
    "    ## End of loop  \n",
    "    return my_model, metrics_hist\n",
    "\n",
    "\n",
    "def objective(trial, disp_params = True, save = True):\n",
    "    metric_keys = [\"train_auc\",\"train_logloss\", \"val_auc\", \"val_logloss\", \"roc_auc\", \"logloss\",\n",
    "                    \"accuracy\",\"bal_acc\",\"top_k_acc\",\"F1_score\",\"map\",\"pearson_corr\"]    \n",
    "    CV_FOLDS = 5\n",
    "    obj = \"binary:logistic\"\n",
    "    eval_metric =[\"auc\", \"logloss\"]\n",
    "    \n",
    "    study_params = propose_parameters(trial, obj, eval_metric)   \n",
    "    study_params = {\"booster\"      : \"gbtree\",\n",
    "                    \"device\"       : \"gpu\",\n",
    "                    # \"objective\"    :  \"binary:logistic\",\n",
    "                    # \"eval_metric\"  :  [\"auc\", \"logloss\"],\n",
    "                    \"verbosity\"    : 0, \n",
    "                    \"disable_default_eval_metric\" : False,\n",
    "                    ** study_params}\n",
    "    print('-'*80)\n",
    "    print(f\" Training model (trial #{trial.number}) \")\n",
    "    print('-'*80)\n",
    "\n",
    "    if disp_params:\n",
    "        print(f\" Parameters:\")\n",
    "        for k, v in study_params.items():\n",
    "            print(f\"  {k:30s} {v}\")\n",
    "            \n",
    "    iter_files = make_cv_splits_2(input_file_list, n_folds=CV_FOLDS, y_columns=y_columns)\n",
    "    model, metrics =  train_model(iter_files, metric_keys = metric_keys, \n",
    "                                  study_name = study.study_name,\n",
    "                                  trial_num = trial.number,\n",
    "                                  save = True,\n",
    "                                  ** study_params)\n",
    "\n",
    "    print_metric_hist(metrics)\n",
    "    print(f\" model best score    :  {model['booster'].best_score}\")\n",
    "    print(f\" model best iteration:  {model['booster'].best_iteration}\")\n",
    "    \n",
    "    if save:\n",
    "        save_as_filename = \"./saved_models/{0}_trial_{1:03d}.json\".format(study.study_name,trial.number)\n",
    "        print(f\" Save model to : {save_as_filename}\")\n",
    "        model['booster'].save_model(save_as_filename)    \n",
    "\n",
    "    r1 = np.array(metrics['val_auc']).mean()\n",
    "    r2 = np.array(metrics['val_logloss']).mean()\n",
    "    del model, metrics \n",
    "    return r1,r2 "
   ]
  },
  {
   "cell_type": "markdown",
   "metadata": {},
   "source": [
    "## Datasets"
   ]
  },
  {
   "cell_type": "code",
   "execution_count": 5,
   "metadata": {
    "ExecuteTime": {
     "end_time": "2023-12-21T20:50:35.620802Z",
     "start_time": "2023-12-21T20:50:35.605234Z"
    },
    "execution": {
     "iopub.execute_input": "2024-04-24T08:43:13.177143Z",
     "iopub.status.busy": "2024-04-24T08:43:13.176909Z",
     "iopub.status.idle": "2024-04-24T08:43:13.214923Z",
     "shell.execute_reply": "2024-04-24T08:43:13.214223Z",
     "shell.execute_reply.started": "2024-04-24T08:43:13.177122Z"
    },
    "lines_to_next_cell": 0
   },
   "outputs": [
    {
     "name": "stdout",
     "output_type": "stream",
     "text": [
      "\n",
      " Compound Extended Metadata 2 SampleFile  : ./output_11102023/compound_extended_metadata_2samples.csv\n",
      " Compound Profiles 2 Samples File CSV     : ./output_11102023/profiles/compound_profiles_2samples\n",
      " \n",
      " profiles Metadata File                   : ./metadata/profile_metadata.pkl\n",
      " \n",
      " profileInputFiles                        : ./output_11102023/profiles/compound_profiles_2samples_{0:03d}.csv\n",
      " binned_2ProfileFiles                     : ./output_11102023/2_sample_profiles/binned_2sample_profiles_{0:03d}.csv\n",
      " binned_3ProfileFiles                     : ./output_11102023/3_sample_profiles/3sample_profiles_1482_bin_{0:03d}.csv\n",
      " training metrics                         : ./output_11102023/training_metrics.pkl\n"
     ]
    }
   ],
   "source": [
    "prefix = '' ### Target-2' , 'MOA'\n",
    "input_path =\"./metadata/\"\n",
    "output_path =\"./output_11102023\"\n",
    "prefix_lc = prefix.lower().replace('-', '_')\n",
    "CSV = '.csv'\n",
    "x = 999\n",
    "\n",
    "CompoundExtendedMetadata2SampleFile = f\"{output_path}{prefix_lc}/compound_extended_metadata_2samples.csv\"\n",
    "CompoundProfiles2SampleFile         = f\"{output_path}{prefix_lc}/profiles/compound_profiles_2samples\"\n",
    "CompoundExtendedMetadataSampleFile  = f\"{output_path}{prefix_lc}/compound_extended_metadata_samples.csv\"\n",
    "profileInputFiles                   = \"./output_11102023/profiles/compound_profiles_2samples_{0:03d}.csv\"\n",
    "binned_2SampleProfileFiles          = \"./output_11102023/2_sample_profiles/binned_2sample_profiles_{0:03d}.csv\"\n",
    "binned_3SampleProfileFiles          = \"./output_11102023/3_sample_profiles/3sample_profiles_1482_bin_{0:03d}.csv\"\n",
    "trainingMetrics                     = f\"{output_path}{prefix_lc}/training_metrics.pkl\"\n",
    "profileMetadataFile                 = f\"{input_path}profile_metadata.pkl\"\n",
    "\n",
    "print()\n",
    "print(f\" Compound Extended Metadata 2 SampleFile  : {CompoundExtendedMetadata2SampleFile }\")\n",
    "print(f\" Compound Profiles 2 Samples File CSV     : {CompoundProfiles2SampleFile}\")\n",
    "print(f\" \")\n",
    "print(f\" profiles Metadata File                   : {profileMetadataFile}\")\n",
    "print(f\" \")\n",
    "print(f\" profileInputFiles                        : {profileInputFiles}\")\n",
    "print(f\" binned_2ProfileFiles                     : {binned_2SampleProfileFiles}\")\n",
    "print(f\" binned_3ProfileFiles                     : {binned_3SampleProfileFiles}\")\n",
    "print(f\" training metrics                         : {trainingMetrics}\")"
   ]
  },
  {
   "cell_type": "markdown",
   "metadata": {},
   "source": [
    "## Read Features metadata file"
   ]
  },
  {
   "cell_type": "code",
   "execution_count": 6,
   "metadata": {
    "execution": {
     "iopub.execute_input": "2024-04-24T08:43:13.216156Z",
     "iopub.status.busy": "2024-04-24T08:43:13.215878Z",
     "iopub.status.idle": "2024-04-24T08:43:13.254477Z",
     "shell.execute_reply": "2024-04-24T08:43:13.253682Z",
     "shell.execute_reply.started": "2024-04-24T08:43:13.216117Z"
    }
   },
   "outputs": [
    {
     "name": "stdout",
     "output_type": "stream",
     "text": [
      " Features select file:  ./metadata/profile_metadata.pkl\n"
     ]
    }
   ],
   "source": [
    "print(f\" Features select file:  {profileMetadataFile}\")"
   ]
  },
  {
   "cell_type": "code",
   "execution_count": 7,
   "metadata": {
    "execution": {
     "iopub.execute_input": "2024-04-24T08:43:13.256037Z",
     "iopub.status.busy": "2024-04-24T08:43:13.255704Z",
     "iopub.status.idle": "2024-04-24T08:43:13.298027Z",
     "shell.execute_reply": "2024-04-24T08:43:13.297297Z",
     "shell.execute_reply.started": "2024-04-24T08:43:13.256013Z"
    }
   },
   "outputs": [
    {
     "data": {
      "text/plain": [
       "dict_keys(['all_profile_columns', 'metadata_columns', 'selected_columns', 'parquet_columns'])"
      ]
     },
     "execution_count": 7,
     "metadata": {},
     "output_type": "execute_result"
    }
   ],
   "source": [
    "with open(profileMetadataFile, 'rb') as f: \n",
    "    pickle_data = pickle.load(f)\n",
    "    \n",
    "pickle_data.keys()\n",
    "\n",
    "# COMPOUND_PROFILE_COLUMNS = pickle_data['all_profile_columns']  ## 3672 \n",
    "COMPOUND_PROFILE_COLUMNS = pickle_data['metadata_columns']['MetadataNames'] + sorted(list(pickle_data['selected_columns']['selected']))  ## 1482\n",
    "\n",
    "metadata_categorical_columns = set(pickle_data['metadata_columns']['MetadataCategoricalColumns'])\n",
    "metadata_categorical_columns_dtype = pickle_data['metadata_columns']['MetadataCategoricalColumns']\n",
    "\n",
    "metadata_float_columns =  set(pickle_data['metadata_columns']['MetadataFloatColumns'])\n",
    "metadata_float_columns_dtype =  pickle_data['metadata_columns']['MetadataFloatColumns']\n",
    "\n",
    "metadata_integer_columns =  set(pickle_data['metadata_columns']['MetadataIntegerColumns'])\n",
    "metadata_integer_columns_dtype =  pickle_data['metadata_columns']['MetadataIntegerColumns']\n",
    "\n",
    "metadata_numeric_columns =  set(pickle_data['metadata_columns']['MetadataNumericColumns'])\n",
    "metadata_numeric_columns_dtype =  pickle_data['metadata_columns']['MetadataNumericColumns']\n",
    "\n",
    "\n",
    "X_columns = pickle_data['selected_columns']['selected']\n",
    "X_columns_dtype = {x: np.float32 for x in X_columns}\n",
    "\n",
    "y_columns = set([\"Metadata_Permiation\"])\n",
    "y_columns_dtype = {x: np.int64 for x in y_columns} ## \"Metadata_log10TPSA\":np.dtype('float64')}\n",
    "\n",
    "Xy_columns = list(y_columns | X_columns)\n",
    "Xy_columns_dtype = y_columns_dtype | X_columns_dtype\n",
    " "
   ]
  },
  {
   "cell_type": "markdown",
   "metadata": {},
   "source": [
    "### Display metadata info and constants used "
   ]
  },
  {
   "cell_type": "code",
   "execution_count": 8,
   "metadata": {
    "execution": {
     "iopub.execute_input": "2024-04-24T08:43:13.299306Z",
     "iopub.status.busy": "2024-04-24T08:43:13.299090Z",
     "iopub.status.idle": "2024-04-24T08:43:13.382946Z",
     "shell.execute_reply": "2024-04-24T08:43:13.382027Z",
     "shell.execute_reply.started": "2024-04-24T08:43:13.299284Z"
    }
   },
   "outputs": [
    {
     "name": "stdout",
     "output_type": "stream",
     "text": [
      "--------------------------------------------------------------------------------\n",
      " all_profile_columns & COMPOUND_PROFILE_COLUMNS\n",
      "--------------------------------------------------------------------------------\n",
      "  Len all_profile_columns        : 3672\n",
      "  Len COMPOUND_PROFILE_COLUMNS   : 1482\n",
      "\n",
      "  all_profile_columns[:10]       : ['Metadata_Source', 'Metadata_Batch', 'Metadata_Plate', 'Metadata_Well', 'Metadata_JCP2022', 'Metadata_Hash', 'Metadata_Bin', 'Metadata_TPSA', 'Metadata_lnTPSA', 'Metadata_log10TPSA']\n",
      "  COMPOUND_PROFILE_COLUMNS[:10]  : ['Metadata_Source', 'Metadata_Batch', 'Metadata_Plate', 'Metadata_Well', 'Metadata_JCP2022', 'Metadata_Hash', 'Metadata_Bin', 'Metadata_TPSA', 'Metadata_lnTPSA', 'Metadata_log10TPSA']\n",
      "\n",
      "  all_profile_columns[10:15]     : ['Metadata_Permiation', 'Cells_AreaShape_Area', 'Cells_AreaShape_BoundingBoxArea', 'Cells_AreaShape_BoundingBoxMaximum_X', 'Cells_AreaShape_BoundingBoxMaximum_Y']\n",
      "  COMPOUND_PROFILE_COLUMNS[10:15]: ['Metadata_Permiation', 'Cells_AreaShape_BoundingBoxMaximum_X', 'Cells_AreaShape_Center_X', 'Cells_AreaShape_Center_Y', 'Cells_AreaShape_Compactness']\n",
      "\n",
      "  all_profile_columns[15:20]     : ['Cells_AreaShape_BoundingBoxMinimum_X', 'Cells_AreaShape_BoundingBoxMinimum_Y', 'Cells_AreaShape_Center_X', 'Cells_AreaShape_Center_Y', 'Cells_AreaShape_Compactness']\n",
      "  COMPOUND_PROFILE_COLUMNS[15:20]: ['Cells_AreaShape_Eccentricity', 'Cells_AreaShape_EulerNumber', 'Cells_AreaShape_Extent', 'Cells_AreaShape_MajorAxisLength', 'Cells_AreaShape_MedianRadius']\n",
      "\n",
      "  all_profile_columns[-4:]       : ['Nuclei_Texture_Variance_RNA_5_00_256', 'Nuclei_Texture_Variance_RNA_5_01_256', 'Nuclei_Texture_Variance_RNA_5_02_256', 'Nuclei_Texture_Variance_RNA_5_03_256']\n",
      "  COMPOUND_PROFILE_COLUMNS[-4:]  : ['Nuclei_Texture_SumVariance_DNA_10_03_256', 'Nuclei_Texture_SumVariance_ER_10_01_256', 'Nuclei_Texture_SumVariance_Mito_10_03_256', 'Nuclei_Texture_SumVariance_RNA_10_01_256']\n",
      "--------------------------------------------------------------------------------\n",
      " MetadataNames  - length(11 )\n",
      "--------------------------------------------------------------------------------\n",
      " \t : list item : Metadata_Source\n",
      " \t : list item : Metadata_Batch\n",
      " \t : list item : Metadata_Plate\n",
      " \t : list item : Metadata_Well\n",
      " \t : list item : Metadata_JCP2022\n",
      " \t : list item : Metadata_Hash\n",
      " \t : list item : Metadata_Bin\n",
      " \t : list item : Metadata_TPSA\n",
      " \t : list item : Metadata_lnTPSA\n",
      " \t : list item : Metadata_log10TPSA\n",
      " \t : list item : Metadata_Permiation\n",
      "\n",
      "--------------------------------------------------------------------------------\n",
      " MetadataCategoricalColumns  - length(4 )\n",
      "--------------------------------------------------------------------------------\n",
      " \t : key :  Metadata_Source               item: category\n",
      " \t : key :  Metadata_Batch                item: category\n",
      " \t : key :  Metadata_Plate                item: category\n",
      " \t : key :  Metadata_Well                 item: category\n",
      "\n",
      "--------------------------------------------------------------------------------\n",
      " MetadataNumericColumns  - length(6 )\n",
      "--------------------------------------------------------------------------------\n",
      " \t : key :  Metadata_TPSA                 item: <class 'numpy.float32'>\n",
      " \t : key :  Metadata_lnTPSA               item: <class 'numpy.float32'>\n",
      " \t : key :  Metadata_log10TPSA            item: <class 'numpy.float32'>\n",
      " \t : key :  Metadata_Hash                 item: <class 'numpy.int64'>\n",
      " \t : key :  Metadata_Bin                  item: <class 'numpy.int8'>\n",
      " \t : key :  Metadata_Permiation           item: <class 'numpy.int8'>\n",
      "\n",
      "--------------------------------------------------------------------------------\n",
      " MetadataFloatColumns  - length(3 )\n",
      "--------------------------------------------------------------------------------\n",
      " \t : key :  Metadata_TPSA                 item: <class 'numpy.float32'>\n",
      " \t : key :  Metadata_lnTPSA               item: <class 'numpy.float32'>\n",
      " \t : key :  Metadata_log10TPSA            item: <class 'numpy.float32'>\n",
      "\n",
      "--------------------------------------------------------------------------------\n",
      " MetadataIntegerColumns  - length(3 )\n",
      "--------------------------------------------------------------------------------\n",
      " \t : key :  Metadata_Hash                 item: <class 'numpy.int64'>\n",
      " \t : key :  Metadata_Bin                  item: <class 'numpy.int8'>\n",
      " \t : key :  Metadata_Permiation           item: <class 'numpy.int8'>\n",
      "\n",
      "--------------------------------------------------------------------------------\n",
      " MetadataColumns  - length(11 )\n",
      "--------------------------------------------------------------------------------\n",
      " \t : list item : Metadata_Source\n",
      " \t : list item : Metadata_Batch\n",
      " \t : list item : Metadata_Plate\n",
      " \t : list item : Metadata_Well\n",
      " \t : list item : Metadata_JCP2022\n",
      " \t : list item : Metadata_Hash\n",
      " \t : list item : Metadata_Bin\n",
      " \t : list item : Metadata_TPSA\n",
      " \t : list item : Metadata_lnTPSA\n",
      " \t : list item : Metadata_log10TPSA\n",
      " \t : list item : Metadata_Permiation\n",
      "\n",
      "\n",
      "--------------------------------------------------------------------------------\n",
      " all_profile_columns   <class 'list'>  3672 entries\n",
      "--------------------------------------------------------------------------------\n",
      "\n",
      "--------------------------------------------------------------------------------\n",
      " metadata_columns   <class 'dict'>     6 entries\n",
      "--------------------------------------------------------------------------------\n",
      " [MetadataNames]                    11       <class 'list'>\n",
      " [MetadataCategoricalColumns]        4       <class 'dict'>\n",
      " [MetadataNumericColumns]            6       <class 'dict'>\n",
      " [MetadataFloatColumns]              3       <class 'dict'>\n",
      " [MetadataIntegerColumns]            3       <class 'dict'>\n",
      " [MetadataColumns]                  11       <class 'list'>\n",
      " \t\t\t  total:    38\n",
      "\n",
      "--------------------------------------------------------------------------------\n",
      " selected_columns   <class 'dict'>     6 entries\n",
      "--------------------------------------------------------------------------------\n",
      " [selected]                       1471       <class 'set'>\n",
      " [dropped_correlation]            2190       <class 'set'>\n",
      " [dropped_variance]                  0       <class 'set'>\n",
      " [dropped_nans]                     12       <class 'set'>\n",
      " [dropped_image_features]         1089       <class 'set'>\n",
      " [dropped_metadata]                  3       <class 'set'>\n",
      " \t\t\t  total:  4765\n",
      "\n",
      "--------------------------------------------------------------------------------\n",
      " parquet_columns   <class 'dict'>     5 entries\n",
      "--------------------------------------------------------------------------------\n",
      " [Metadata]                          3       <class 'dict'>\n",
      " [Cells]                          1256       <class 'dict'>\n",
      " [Cytoplasm]                      1241       <class 'dict'>\n",
      " [Nuclei]                         1176       <class 'dict'>\n",
      " [Image]                          1089       <class 'dict'>\n",
      " \t\t\t  total:  4765\n",
      " len(X_columms)                (1471)\n",
      " len(y_columms)                (   1) {'Metadata_Permiation'}\n",
      " len(Xy_columms)               (1472) ['Cytoplasm_Texture_InfoMeas1_DNA_3_01_256', 'Nuclei_Texture_Correlation_Mito_3_03_256', 'Cytoplasm_Texture_InfoMeas1_AGP_3_03_256']\n",
      " len(Xy_columms_dtype)         (1472) ['Metadata_Permiation', 'Cytoplasm_Texture_InfoMeas1_DNA_3_01_256', 'Nuclei_Texture_Correlation_Mito_3_03_256']\n"
     ]
    }
   ],
   "source": [
    "disp_metadata_file(pickle_data, COMPOUND_PROFILE_COLUMNS)\n",
    "\n",
    "print(f\" len(X_columms)                ({len(X_columns):4d})\")\n",
    "print(f\" len(y_columms)                ({len(y_columns):4d}) {y_columns}\")\n",
    "print(f\" len(Xy_columms)               ({len(Xy_columns)}) {list(Xy_columns)[:3]}\")\n",
    "print(f\" len(Xy_columms_dtype)         ({len(Xy_columns)}) {list(Xy_columns_dtype)[:3]}\")\n"
   ]
  },
  {
   "cell_type": "code",
   "execution_count": 9,
   "metadata": {
    "ExecuteTime": {
     "end_time": "2023-12-21T20:50:55.041400Z",
     "start_time": "2023-12-21T20:50:55.011436Z"
    },
    "execution": {
     "iopub.execute_input": "2024-04-24T08:43:13.384658Z",
     "iopub.status.busy": "2024-04-24T08:43:13.384289Z",
     "iopub.status.idle": "2024-04-24T08:43:13.421641Z",
     "shell.execute_reply": "2024-04-24T08:43:13.421003Z",
     "shell.execute_reply.started": "2024-04-24T08:43:13.384622Z"
    },
    "slideshow": {
     "slide_type": ""
    },
    "tags": []
   },
   "outputs": [],
   "source": [
    "# print(f\" len(label_columms_dtype)     : {len(label_columns_dtype)} \")\n",
    "# print(f\" len(X_columms_dtype)         : {len(X_columns_dtype)}\")\n",
    "# print(f\" len(X_columms_dtype)           : {len(X_columns_dtype)}   {X_columns_dtype}\")\n",
    "# print(f\" len(y_columms_dtype)         : {len(y_columns_dtype)}\")\n",
    "# print(f\" len(Xy_columms_dtype)        : {len(Xy_columns_dtype)}\")\n",
    "# print(f\" len(all_columms_dtype)       : {len(all_columns_dtype)} \")\n",
    "# del all_columns_dtype\n",
    "# for k  in sorted(all_columns_dtype.keys()):\n",
    "#     print(f\" {k:60s}  {all_columns_dtype[k]}\")\n",
    "# Xy_columns_dtype"
   ]
  },
  {
   "cell_type": "code",
   "execution_count": 10,
   "metadata": {
    "execution": {
     "iopub.execute_input": "2024-04-24T08:43:13.424656Z",
     "iopub.status.busy": "2024-04-24T08:43:13.424301Z",
     "iopub.status.idle": "2024-04-24T08:43:13.539458Z",
     "shell.execute_reply": "2024-04-24T08:43:13.538394Z",
     "shell.execute_reply.started": "2024-04-24T08:43:13.424630Z"
    }
   },
   "outputs": [],
   "source": [
    "# profile_file= \"./output_11102023/profiles/compound_profiles_2samples_002.csv\"\n",
    "# df_profiles = pd.read_csv(profile_file_001, header=0, names = all_columns, usecols=Xy_columns, dtype= Xy_columns_dtype, nrows =5)   \n",
    "# df_profiles = pd.read_csv(profile_file, header=0, names = profileColumnNames, usecols=Xy_columns, dtype= Xy_columns_dtype, nrows =5)   "
   ]
  },
  {
   "cell_type": "markdown",
   "metadata": {},
   "source": [
    "## Create dask cluster and client "
   ]
  },
  {
   "cell_type": "code",
   "execution_count": 11,
   "metadata": {
    "execution": {
     "iopub.execute_input": "2024-04-24T08:43:13.541016Z",
     "iopub.status.busy": "2024-04-24T08:43:13.540617Z",
     "iopub.status.idle": "2024-04-24T08:43:13.960871Z",
     "shell.execute_reply": "2024-04-24T08:43:13.960053Z",
     "shell.execute_reply.started": "2024-04-24T08:43:13.540983Z"
    }
   },
   "outputs": [
    {
     "name": "stdout",
     "output_type": "stream",
     "text": [
      "Wed Apr 24 10:43:13 2024       \n",
      "+-----------------------------------------------------------------------------------------+\n",
      "| NVIDIA-SMI 550.54.15              Driver Version: 550.54.15      CUDA Version: 12.4     |\n",
      "|-----------------------------------------+------------------------+----------------------+\n",
      "| GPU  Name                 Persistence-M | Bus-Id          Disp.A | Volatile Uncorr. ECC |\n",
      "| Fan  Temp   Perf          Pwr:Usage/Cap |           Memory-Usage | GPU-Util  Compute M. |\n",
      "|                                         |                        |               MIG M. |\n",
      "|=========================================+========================+======================|\n",
      "|   0  NVIDIA TITAN Xp                Off |   00000000:09:00.0 Off |                  N/A |\n",
      "| 23%   31C    P8              9W /  250W |       4MiB /  12288MiB |      0%      Default |\n",
      "|                                         |                        |                  N/A |\n",
      "+-----------------------------------------+------------------------+----------------------+\n",
      "|   1  Quadro GV100                   Off |   00000000:83:00.0 Off |                  Off |\n",
      "| 46%   61C    P2             43W /  250W |    1380MiB /  32768MiB |      0%      Default |\n",
      "|                                         |                        |                  N/A |\n",
      "+-----------------------------------------+------------------------+----------------------+\n",
      "|   2  Quadro GV100                   Off |   00000000:84:00.0 Off |                  Off |\n",
      "| 58%   75C    P2            131W /  250W |    6960MiB /  32768MiB |     52%      Default |\n",
      "|                                         |                        |                  N/A |\n",
      "+-----------------------------------------+------------------------+----------------------+\n",
      "                                                                                         \n",
      "+-----------------------------------------------------------------------------------------+\n",
      "| Processes:                                                                              |\n",
      "|  GPU   GI   CI        PID   Type   Process name                              GPU Memory |\n",
      "|        ID   ID                                                               Usage      |\n",
      "|=========================================================================================|\n",
      "|    1   N/A  N/A   1795597      C   /home/aarany/miniconda3/bin/python           1374MiB |\n",
      "|    2   N/A  N/A   1795597      C   /home/aarany/miniconda3/bin/python           1658MiB |\n",
      "|    2   N/A  N/A   2066596      C   python                                       4270MiB |\n",
      "|    2   N/A  N/A   2072475      C   python                                       1028MiB |\n",
      "+-----------------------------------------------------------------------------------------+\n"
     ]
    }
   ],
   "source": [
    "!nvidia-smi"
   ]
  },
  {
   "cell_type": "code",
   "execution_count": 107,
   "metadata": {
    "execution": {
     "iopub.execute_input": "2024-04-25T09:20:27.796665Z",
     "iopub.status.busy": "2024-04-25T09:20:27.796367Z",
     "iopub.status.idle": "2024-04-25T09:20:27.858395Z",
     "shell.execute_reply": "2024-04-25T09:20:27.857659Z",
     "shell.execute_reply.started": "2024-04-25T09:20:27.796643Z"
    },
    "lines_to_next_cell": 2
   },
   "outputs": [
    {
     "name": "stdout",
     "output_type": "stream",
     "text": [
      "Cluster close succeeded\n"
     ]
    }
   ],
   "source": [
    "try:\n",
    "    cluster.close()\n",
    "    del cluster\n",
    "except Exception as e:\n",
    "    print(\"Cluster doesn't exist\")\n",
    "else:\n",
    "    print(\"Cluster close succeeded\")"
   ]
  },
  {
   "cell_type": "code",
   "execution_count": 108,
   "metadata": {
    "ExecuteTime": {
     "end_time": "2023-12-21T20:50:41.337029Z",
     "start_time": "2023-12-21T20:50:40.947431Z"
    },
    "execution": {
     "iopub.execute_input": "2024-04-25T09:20:28.001551Z",
     "iopub.status.busy": "2024-04-25T09:20:28.001243Z",
     "iopub.status.idle": "2024-04-25T09:20:37.504279Z",
     "shell.execute_reply": "2024-04-25T09:20:37.503578Z",
     "shell.execute_reply.started": "2024-04-25T09:20:28.001529Z"
    }
   },
   "outputs": [
    {
     "name": "stderr",
     "output_type": "stream",
     "text": [
      "/home/kevin/miniforge3/envs/cp311/lib/python3.11/site-packages/dask/dataframe/_pyarrow_compat.py:17: FutureWarning: Minimal version of pyarrow will soon be increased to 14.0.1. You are using 11.0.0. Please consider upgrading.\n",
      "  warnings.warn(\n",
      "/home/kevin/miniforge3/envs/cp311/lib/python3.11/site-packages/dask/dataframe/_pyarrow_compat.py:17: FutureWarning: Minimal version of pyarrow will soon be increased to 14.0.1. You are using 11.0.0. Please consider upgrading.\n",
      "  warnings.warn(\n",
      "/home/kevin/miniforge3/envs/cp311/lib/python3.11/site-packages/dask/dataframe/_pyarrow_compat.py:17: FutureWarning: Minimal version of pyarrow will soon be increased to 14.0.1. You are using 11.0.0. Please consider upgrading.\n",
      "  warnings.warn(\n"
     ]
    },
    {
     "name": "stdout",
     "output_type": "stream",
     "text": [
      " Cluster dashboard link : http://127.0.0.1:8787/status\n"
     ]
    }
   ],
   "source": [
    "n_workers = 3\n",
    "n_threads = 2\n",
    "cuda_visible_devices = [0,1,2]\n",
    "cluster = LocalCUDACluster( CUDA_VISIBLE_DEVICES=[0,1,2], n_workers=n_workers, threads_per_worker= n_threads, memory_limit='6GB', silence_logs = logging.WARNING)\n",
    "# cluster = LocalCluster(\"Kevins_Cluster\", n_workers=n_workers, threads_per_worker= n_threads, silence_logs = logging.WARNING)\n",
    "print(f\" Cluster dashboard link : {cluster.dashboard_link}\")"
   ]
  },
  {
   "cell_type": "code",
   "execution_count": 109,
   "metadata": {
    "execution": {
     "iopub.execute_input": "2024-04-25T09:20:37.505963Z",
     "iopub.status.busy": "2024-04-25T09:20:37.505685Z",
     "iopub.status.idle": "2024-04-25T09:20:37.553716Z",
     "shell.execute_reply": "2024-04-25T09:20:37.552784Z",
     "shell.execute_reply.started": "2024-04-25T09:20:37.505943Z"
    }
   },
   "outputs": [],
   "source": [
    "# print(cluster)\n",
    "# print(f\" Cluster dashboard link : {cluster.dashboard_link}\")\n",
    "# cluster.workers[2].restart\n",
    "# cluster.start_worker\n",
    "# cluster.worker_spec\n",
    "# cluster.scale(3)"
   ]
  },
  {
   "cell_type": "code",
   "execution_count": 110,
   "metadata": {
    "execution": {
     "iopub.execute_input": "2024-04-25T09:20:37.555361Z",
     "iopub.status.busy": "2024-04-25T09:20:37.555055Z",
     "iopub.status.idle": "2024-04-25T09:20:37.743459Z",
     "shell.execute_reply": "2024-04-25T09:20:37.742740Z",
     "shell.execute_reply.started": "2024-04-25T09:20:37.555340Z"
    }
   },
   "outputs": [
    {
     "name": "stdout",
     "output_type": "stream",
     "text": [
      " *** Client close succeeded *** \n",
      "\n",
      " *** Client created - running \n"
     ]
    },
    {
     "data": {
      "text/html": [
       "<div>\n",
       "    <div style=\"width: 24px; height: 24px; background-color: #e1e1e1; border: 3px solid #9D9D9D; border-radius: 5px; position: absolute;\"> </div>\n",
       "    <div style=\"margin-left: 48px;\">\n",
       "        <h3 style=\"margin-bottom: 0px;\">Client</h3>\n",
       "        <p style=\"color: #9D9D9D; margin-bottom: 0px;\">Client-13e21c7c-02e5-11ef-a921-d094663cecfa</p>\n",
       "        <table style=\"width: 100%; text-align: left;\">\n",
       "\n",
       "        <tr>\n",
       "        \n",
       "            <td style=\"text-align: left;\"><strong>Connection method:</strong> Cluster object</td>\n",
       "            <td style=\"text-align: left;\"><strong>Cluster type:</strong> dask_cuda.LocalCUDACluster</td>\n",
       "        \n",
       "        </tr>\n",
       "\n",
       "        \n",
       "            <tr>\n",
       "                <td style=\"text-align: left;\">\n",
       "                    <strong>Dashboard: </strong> <a href=\"http://127.0.0.1:8787/status\" target=\"_blank\">http://127.0.0.1:8787/status</a>\n",
       "                </td>\n",
       "                <td style=\"text-align: left;\"></td>\n",
       "            </tr>\n",
       "        \n",
       "\n",
       "        </table>\n",
       "\n",
       "        \n",
       "\n",
       "        \n",
       "            <details>\n",
       "            <summary style=\"margin-bottom: 20px;\"><h3 style=\"display: inline;\">Cluster Info</h3></summary>\n",
       "            <div class=\"jp-RenderedHTMLCommon jp-RenderedHTML jp-mod-trusted jp-OutputArea-output\">\n",
       "    <div style=\"width: 24px; height: 24px; background-color: #e1e1e1; border: 3px solid #9D9D9D; border-radius: 5px; position: absolute;\">\n",
       "    </div>\n",
       "    <div style=\"margin-left: 48px;\">\n",
       "        <h3 style=\"margin-bottom: 0px; margin-top: 0px;\">LocalCUDACluster</h3>\n",
       "        <p style=\"color: #9D9D9D; margin-bottom: 0px;\">c92274ed</p>\n",
       "        <table style=\"width: 100%; text-align: left;\">\n",
       "            <tr>\n",
       "                <td style=\"text-align: left;\">\n",
       "                    <strong>Dashboard:</strong> <a href=\"http://127.0.0.1:8787/status\" target=\"_blank\">http://127.0.0.1:8787/status</a>\n",
       "                </td>\n",
       "                <td style=\"text-align: left;\">\n",
       "                    <strong>Workers:</strong> 3\n",
       "                </td>\n",
       "            </tr>\n",
       "            <tr>\n",
       "                <td style=\"text-align: left;\">\n",
       "                    <strong>Total threads:</strong> 6\n",
       "                </td>\n",
       "                <td style=\"text-align: left;\">\n",
       "                    <strong>Total memory:</strong> 16.76 GiB\n",
       "                </td>\n",
       "            </tr>\n",
       "            \n",
       "            <tr>\n",
       "    <td style=\"text-align: left;\"><strong>Status:</strong> running</td>\n",
       "    <td style=\"text-align: left;\"><strong>Using processes:</strong> True</td>\n",
       "</tr>\n",
       "\n",
       "            \n",
       "        </table>\n",
       "\n",
       "        <details>\n",
       "            <summary style=\"margin-bottom: 20px;\">\n",
       "                <h3 style=\"display: inline;\">Scheduler Info</h3>\n",
       "            </summary>\n",
       "\n",
       "            <div style=\"\">\n",
       "    <div>\n",
       "        <div style=\"width: 24px; height: 24px; background-color: #FFF7E5; border: 3px solid #FF6132; border-radius: 5px; position: absolute;\"> </div>\n",
       "        <div style=\"margin-left: 48px;\">\n",
       "            <h3 style=\"margin-bottom: 0px;\">Scheduler</h3>\n",
       "            <p style=\"color: #9D9D9D; margin-bottom: 0px;\">Scheduler-af827f37-6400-49b3-953f-cad433f44216</p>\n",
       "            <table style=\"width: 100%; text-align: left;\">\n",
       "                <tr>\n",
       "                    <td style=\"text-align: left;\">\n",
       "                        <strong>Comm:</strong> tcp://127.0.0.1:37217\n",
       "                    </td>\n",
       "                    <td style=\"text-align: left;\">\n",
       "                        <strong>Workers:</strong> 3\n",
       "                    </td>\n",
       "                </tr>\n",
       "                <tr>\n",
       "                    <td style=\"text-align: left;\">\n",
       "                        <strong>Dashboard:</strong> <a href=\"http://127.0.0.1:8787/status\" target=\"_blank\">http://127.0.0.1:8787/status</a>\n",
       "                    </td>\n",
       "                    <td style=\"text-align: left;\">\n",
       "                        <strong>Total threads:</strong> 6\n",
       "                    </td>\n",
       "                </tr>\n",
       "                <tr>\n",
       "                    <td style=\"text-align: left;\">\n",
       "                        <strong>Started:</strong> Just now\n",
       "                    </td>\n",
       "                    <td style=\"text-align: left;\">\n",
       "                        <strong>Total memory:</strong> 16.76 GiB\n",
       "                    </td>\n",
       "                </tr>\n",
       "            </table>\n",
       "        </div>\n",
       "    </div>\n",
       "\n",
       "    <details style=\"margin-left: 48px;\">\n",
       "        <summary style=\"margin-bottom: 20px;\">\n",
       "            <h3 style=\"display: inline;\">Workers</h3>\n",
       "        </summary>\n",
       "\n",
       "        \n",
       "        <div style=\"margin-bottom: 20px;\">\n",
       "            <div style=\"width: 24px; height: 24px; background-color: #DBF5FF; border: 3px solid #4CC9FF; border-radius: 5px; position: absolute;\"> </div>\n",
       "            <div style=\"margin-left: 48px;\">\n",
       "            <details>\n",
       "                <summary>\n",
       "                    <h4 style=\"margin-bottom: 0px; display: inline;\">Worker: 0</h4>\n",
       "                </summary>\n",
       "                <table style=\"width: 100%; text-align: left;\">\n",
       "                    <tr>\n",
       "                        <td style=\"text-align: left;\">\n",
       "                            <strong>Comm: </strong> tcp://127.0.0.1:38909\n",
       "                        </td>\n",
       "                        <td style=\"text-align: left;\">\n",
       "                            <strong>Total threads: </strong> 2\n",
       "                        </td>\n",
       "                    </tr>\n",
       "                    <tr>\n",
       "                        <td style=\"text-align: left;\">\n",
       "                            <strong>Dashboard: </strong> <a href=\"http://127.0.0.1:35377/status\" target=\"_blank\">http://127.0.0.1:35377/status</a>\n",
       "                        </td>\n",
       "                        <td style=\"text-align: left;\">\n",
       "                            <strong>Memory: </strong> 5.59 GiB\n",
       "                        </td>\n",
       "                    </tr>\n",
       "                    <tr>\n",
       "                        <td style=\"text-align: left;\">\n",
       "                            <strong>Nanny: </strong> tcp://127.0.0.1:45569\n",
       "                        </td>\n",
       "                        <td style=\"text-align: left;\"></td>\n",
       "                    </tr>\n",
       "                    <tr>\n",
       "                        <td colspan=\"2\" style=\"text-align: left;\">\n",
       "                            <strong>Local directory: </strong> /tmp/dask-scratch-space/worker-fd3ipi86\n",
       "                        </td>\n",
       "                    </tr>\n",
       "\n",
       "                    \n",
       "                    <tr>\n",
       "                        <td style=\"text-align: left;\">\n",
       "                            <strong>GPU: </strong>NVIDIA TITAN Xp\n",
       "                        </td>\n",
       "                        <td style=\"text-align: left;\">\n",
       "                            <strong>GPU memory: </strong> 12.00 GiB\n",
       "                        </td>\n",
       "                    </tr>\n",
       "                    \n",
       "\n",
       "                    \n",
       "\n",
       "                </table>\n",
       "            </details>\n",
       "            </div>\n",
       "        </div>\n",
       "        \n",
       "        <div style=\"margin-bottom: 20px;\">\n",
       "            <div style=\"width: 24px; height: 24px; background-color: #DBF5FF; border: 3px solid #4CC9FF; border-radius: 5px; position: absolute;\"> </div>\n",
       "            <div style=\"margin-left: 48px;\">\n",
       "            <details>\n",
       "                <summary>\n",
       "                    <h4 style=\"margin-bottom: 0px; display: inline;\">Worker: 1</h4>\n",
       "                </summary>\n",
       "                <table style=\"width: 100%; text-align: left;\">\n",
       "                    <tr>\n",
       "                        <td style=\"text-align: left;\">\n",
       "                            <strong>Comm: </strong> tcp://127.0.0.1:41373\n",
       "                        </td>\n",
       "                        <td style=\"text-align: left;\">\n",
       "                            <strong>Total threads: </strong> 2\n",
       "                        </td>\n",
       "                    </tr>\n",
       "                    <tr>\n",
       "                        <td style=\"text-align: left;\">\n",
       "                            <strong>Dashboard: </strong> <a href=\"http://127.0.0.1:33963/status\" target=\"_blank\">http://127.0.0.1:33963/status</a>\n",
       "                        </td>\n",
       "                        <td style=\"text-align: left;\">\n",
       "                            <strong>Memory: </strong> 5.59 GiB\n",
       "                        </td>\n",
       "                    </tr>\n",
       "                    <tr>\n",
       "                        <td style=\"text-align: left;\">\n",
       "                            <strong>Nanny: </strong> tcp://127.0.0.1:44785\n",
       "                        </td>\n",
       "                        <td style=\"text-align: left;\"></td>\n",
       "                    </tr>\n",
       "                    <tr>\n",
       "                        <td colspan=\"2\" style=\"text-align: left;\">\n",
       "                            <strong>Local directory: </strong> /tmp/dask-scratch-space/worker-ihvodo_6\n",
       "                        </td>\n",
       "                    </tr>\n",
       "\n",
       "                    \n",
       "                    <tr>\n",
       "                        <td style=\"text-align: left;\">\n",
       "                            <strong>GPU: </strong>Quadro GV100\n",
       "                        </td>\n",
       "                        <td style=\"text-align: left;\">\n",
       "                            <strong>GPU memory: </strong> 32.00 GiB\n",
       "                        </td>\n",
       "                    </tr>\n",
       "                    \n",
       "\n",
       "                    \n",
       "\n",
       "                </table>\n",
       "            </details>\n",
       "            </div>\n",
       "        </div>\n",
       "        \n",
       "        <div style=\"margin-bottom: 20px;\">\n",
       "            <div style=\"width: 24px; height: 24px; background-color: #DBF5FF; border: 3px solid #4CC9FF; border-radius: 5px; position: absolute;\"> </div>\n",
       "            <div style=\"margin-left: 48px;\">\n",
       "            <details>\n",
       "                <summary>\n",
       "                    <h4 style=\"margin-bottom: 0px; display: inline;\">Worker: 2</h4>\n",
       "                </summary>\n",
       "                <table style=\"width: 100%; text-align: left;\">\n",
       "                    <tr>\n",
       "                        <td style=\"text-align: left;\">\n",
       "                            <strong>Comm: </strong> tcp://127.0.0.1:39395\n",
       "                        </td>\n",
       "                        <td style=\"text-align: left;\">\n",
       "                            <strong>Total threads: </strong> 2\n",
       "                        </td>\n",
       "                    </tr>\n",
       "                    <tr>\n",
       "                        <td style=\"text-align: left;\">\n",
       "                            <strong>Dashboard: </strong> <a href=\"http://127.0.0.1:41963/status\" target=\"_blank\">http://127.0.0.1:41963/status</a>\n",
       "                        </td>\n",
       "                        <td style=\"text-align: left;\">\n",
       "                            <strong>Memory: </strong> 5.59 GiB\n",
       "                        </td>\n",
       "                    </tr>\n",
       "                    <tr>\n",
       "                        <td style=\"text-align: left;\">\n",
       "                            <strong>Nanny: </strong> tcp://127.0.0.1:38613\n",
       "                        </td>\n",
       "                        <td style=\"text-align: left;\"></td>\n",
       "                    </tr>\n",
       "                    <tr>\n",
       "                        <td colspan=\"2\" style=\"text-align: left;\">\n",
       "                            <strong>Local directory: </strong> /tmp/dask-scratch-space/worker-73qn36zb\n",
       "                        </td>\n",
       "                    </tr>\n",
       "\n",
       "                    \n",
       "                    <tr>\n",
       "                        <td style=\"text-align: left;\">\n",
       "                            <strong>GPU: </strong>Quadro GV100\n",
       "                        </td>\n",
       "                        <td style=\"text-align: left;\">\n",
       "                            <strong>GPU memory: </strong> 32.00 GiB\n",
       "                        </td>\n",
       "                    </tr>\n",
       "                    \n",
       "\n",
       "                    \n",
       "\n",
       "                </table>\n",
       "            </details>\n",
       "            </div>\n",
       "        </div>\n",
       "        \n",
       "\n",
       "    </details>\n",
       "</div>\n",
       "\n",
       "        </details>\n",
       "    </div>\n",
       "</div>\n",
       "            </details>\n",
       "        \n",
       "\n",
       "    </div>\n",
       "</div>"
      ],
      "text/plain": [
       "<Client: 'tcp://127.0.0.1:37217' processes=3 threads=6, memory=16.76 GiB>"
      ]
     },
     "execution_count": 110,
     "metadata": {},
     "output_type": "execute_result"
    }
   ],
   "source": [
    "try:\n",
    "    client.close()\n",
    "    del client\n",
    "except Exception as e:\n",
    "    print(\" *** Client close failed *** \")\n",
    "else:\n",
    "    print(\" *** Client close succeeded *** \")\n",
    "finally:\n",
    "    client = Client(cluster)    \n",
    "    print(f\"\\n *** Client created - {client.status} \")\n",
    "    client"
   ]
  },
  {
   "cell_type": "markdown",
   "metadata": {},
   "source": [
    "# Use Optuna for hyper-parameter search"
   ]
  },
  {
   "cell_type": "markdown",
   "metadata": {},
   "source": [
    "#### Save column hader names for csv file as this is an old file "
   ]
  },
  {
   "cell_type": "code",
   "execution_count": 16,
   "metadata": {
    "execution": {
     "iopub.execute_input": "2024-04-24T08:43:19.855208Z",
     "iopub.status.busy": "2024-04-24T08:43:19.854902Z",
     "iopub.status.idle": "2024-04-24T08:43:19.890471Z",
     "shell.execute_reply": "2024-04-24T08:43:19.889617Z",
     "shell.execute_reply.started": "2024-04-24T08:43:19.855187Z"
    }
   },
   "outputs": [],
   "source": [
    "# INPUT_FILE = \"./output_11102023/2_sample_profiles/binned_2sample_profiles_w_header_000.csv\"\n",
    "# print(f\"Reading {INPUT_FILE}\")\n",
    "# df = pd.read_csv(INPUT_FILE)\n",
    "# df.info()\n",
    "# df.iloc[:5,:15]\n",
    "# df.loc[0]\n",
    "# header_3681 = df.columns.to_list()\n",
    "# df_header = pd.DataFrame(data=None, columns = df.columns)\n",
    "# df_header\n",
    "# df_header.to_csv(\"./output_11102023/2_sample_profiles/binned_2sample_profiles_3681_header_info.csv\", index = False )\n",
    "\n",
    "# INPUT_FILE = './output_11102023/2_sample_profiles/2sample_profiles_1482_HashOrder.csv.gz'\n",
    "# print(f\"Reading {INPUT_FILE}\")\n",
    "# df = pd.read_csv(INPUT_FILE, nrows = 5)\n",
    "\n",
    "# df.info()\n",
    "# df.iloc[:5,:15]\n",
    "# df.loc[0]\n",
    "# header_1482 = df.columns.to_list()\n",
    "# df_header = pd.DataFrame(data=None, columns = df.columns)\n",
    "# df_header\n",
    "# df_header.to_csv(\"./output_11102023/2_sample_profiles/binned_2sample_profiles_1482_header_info.csv\", index = False )"
   ]
  },
  {
   "cell_type": "markdown",
   "metadata": {},
   "source": [
    "### Setup ML env"
   ]
  },
  {
   "cell_type": "code",
   "execution_count": 17,
   "metadata": {
    "execution": {
     "iopub.execute_input": "2024-04-24T08:43:19.891869Z",
     "iopub.status.busy": "2024-04-24T08:43:19.891651Z",
     "iopub.status.idle": "2024-04-24T08:43:19.988564Z",
     "shell.execute_reply": "2024-04-24T08:43:19.987771Z",
     "shell.execute_reply.started": "2024-04-24T08:43:19.891850Z"
    },
    "scrolled": true
   },
   "outputs": [
    {
     "data": {
      "text/plain": [
       "'2.0.3'"
      ]
     },
     "execution_count": 17,
     "metadata": {},
     "output_type": "execute_result"
    },
    {
     "data": {
      "text/plain": [
       "<contextlib._GeneratorContextManager at 0x7f844e68e9d0>"
      ]
     },
     "execution_count": 17,
     "metadata": {},
     "output_type": "execute_result"
    }
   ],
   "source": [
    "xgb.__version__\n",
    "xgb.config_context(device = \"gpu\", booster = \"gbtree\", verbosity = 0, validate_parameters = True ) "
   ]
  },
  {
   "cell_type": "markdown",
   "metadata": {},
   "source": [
    "## Load Datafiles "
   ]
  },
  {
   "cell_type": "markdown",
   "metadata": {},
   "source": [
    "  ### Load header information for compound_profile datasets"
   ]
  },
  {
   "cell_type": "code",
   "execution_count": 18,
   "metadata": {
    "execution": {
     "iopub.execute_input": "2024-04-24T08:43:19.990092Z",
     "iopub.status.busy": "2024-04-24T08:43:19.989801Z",
     "iopub.status.idle": "2024-04-24T08:43:20.027871Z",
     "shell.execute_reply": "2024-04-24T08:43:20.027297Z",
     "shell.execute_reply.started": "2024-04-24T08:43:19.990064Z"
    }
   },
   "outputs": [],
   "source": [
    "\n",
    "# df_header = pd.read_csv(\"./output_11102023/2_sample_profiles/binned_2sample_profiles_3681_header_info.csv\")\n",
    "# df_header\n",
    "# COMPOUND_PROFILE_COLUMNS_3681 = df_header.columns.to_list()\n",
    "# len(COMPOUND_PROFILE_COLUMNS_3681)"
   ]
  },
  {
   "cell_type": "code",
   "execution_count": 19,
   "metadata": {
    "execution": {
     "iopub.execute_input": "2024-04-24T08:43:20.029167Z",
     "iopub.status.busy": "2024-04-24T08:43:20.028940Z",
     "iopub.status.idle": "2024-04-24T08:43:20.069487Z",
     "shell.execute_reply": "2024-04-24T08:43:20.068836Z",
     "shell.execute_reply.started": "2024-04-24T08:43:20.029147Z"
    },
    "scrolled": true
   },
   "outputs": [
    {
     "name": "stdout",
     "output_type": "stream",
     "text": [
      "./output_11102023/3_sample_profiles/3sample_profiles_1482_bin_{0:03d}.csv\n"
     ]
    }
   ],
   "source": [
    "# df_profiles = read_cell_profiles(input_files[i], names = COMPOUND_PROFILE_COLUMNS, usecols = Xy_columns, dtype = Xy_columns_dtype)\n",
    "# df_profiles = read_cell_profiles(training_files, names = COMPOUND_PROFILE_COLUMNS, usecols = Xy_columns, dtype = Xy_columns_dtype)\n",
    "# file_idxs = {0, 1, 2, 3, 4, 5, 6, 7, 8, 9, 10, 11}\n",
    "\n",
    "# TRAINING_FILES = {0, 1, 2, 4, 5, 6, 7, 8, 9, 11}\n",
    "# TEST_FILES = {3, 10}\n",
    "TRAINING_FILES = {0, 1, 2, 3, 4, 5, 6, 7, 8, 9, 10, 11, 12, 13, 14}\n",
    "TEST_FILES = {15}\n",
    "binnedProfileFiles = binned_3SampleProfileFiles\n",
    "print(binnedProfileFiles)"
   ]
  },
  {
   "cell_type": "code",
   "execution_count": 20,
   "metadata": {
    "execution": {
     "iopub.execute_input": "2024-04-24T08:43:20.070805Z",
     "iopub.status.busy": "2024-04-24T08:43:20.070494Z",
     "iopub.status.idle": "2024-04-24T08:43:23.272835Z",
     "shell.execute_reply": "2024-04-24T08:43:23.271825Z",
     "shell.execute_reply.started": "2024-04-24T08:43:20.070784Z"
    },
    "scrolled": true
   },
   "outputs": [
    {
     "name": "stderr",
     "output_type": "stream",
     "text": [
      "2024-04-24 10:43:20,099 - INFO: -  Read profiles file ...\n"
     ]
    },
    {
     "name": "stdout",
     "output_type": "stream",
     "text": [
      " Reading cell profiles file :  ./output_11102023/3_sample_profiles/3sample_profiles_1482_bin_000.csv    {'index_cols': False}\n",
      " Reading ALL  rows - Number of partitions:  9   \n",
      "\n",
      " Reading cell profiles file :  ./output_11102023/3_sample_profiles/3sample_profiles_1482_bin_001.csv    {'index_cols': False}\n",
      " Reading ALL  rows - Number of partitions:  9   \n",
      "\n",
      " Reading cell profiles file :  ./output_11102023/3_sample_profiles/3sample_profiles_1482_bin_002.csv    {'index_cols': False}\n",
      " Reading ALL  rows - Number of partitions:  9   \n",
      "\n",
      " Reading cell profiles file :  ./output_11102023/3_sample_profiles/3sample_profiles_1482_bin_003.csv    {'index_cols': False}\n",
      " Reading ALL  rows - Number of partitions:  9   \n",
      "\n",
      " Reading cell profiles file :  ./output_11102023/3_sample_profiles/3sample_profiles_1482_bin_004.csv    {'index_cols': False}\n",
      " Reading ALL  rows - Number of partitions:  9   \n",
      "\n",
      " Reading cell profiles file :  ./output_11102023/3_sample_profiles/3sample_profiles_1482_bin_005.csv    {'index_cols': False}\n",
      " Reading ALL  rows - Number of partitions:  9   \n",
      "\n",
      " Reading cell profiles file :  ./output_11102023/3_sample_profiles/3sample_profiles_1482_bin_006.csv    {'index_cols': False}\n",
      " Reading ALL  rows - Number of partitions:  9   \n",
      "\n",
      " Reading cell profiles file :  ./output_11102023/3_sample_profiles/3sample_profiles_1482_bin_007.csv    {'index_cols': False}\n",
      " Reading ALL  rows - Number of partitions:  9   \n",
      "\n",
      " Reading cell profiles file :  ./output_11102023/3_sample_profiles/3sample_profiles_1482_bin_008.csv    {'index_cols': False}\n",
      " Reading ALL  rows - Number of partitions:  9   \n",
      "\n",
      " Reading cell profiles file :  ./output_11102023/3_sample_profiles/3sample_profiles_1482_bin_009.csv    {'index_cols': False}\n",
      " Reading ALL  rows - Number of partitions:  9   \n",
      "\n",
      " Reading cell profiles file :  ./output_11102023/3_sample_profiles/3sample_profiles_1482_bin_010.csv    {'index_cols': False}\n",
      " Reading ALL  rows - Number of partitions:  9   \n",
      "\n",
      " Reading cell profiles file :  ./output_11102023/3_sample_profiles/3sample_profiles_1482_bin_011.csv    {'index_cols': False}\n",
      " Reading ALL  rows - Number of partitions:  9   \n",
      "\n",
      " Reading cell profiles file :  ./output_11102023/3_sample_profiles/3sample_profiles_1482_bin_012.csv    {'index_cols': False}\n",
      " Reading ALL  rows - Number of partitions:  9   \n",
      "\n",
      " Reading cell profiles file :  ./output_11102023/3_sample_profiles/3sample_profiles_1482_bin_013.csv    {'index_cols': False}\n",
      " Reading ALL  rows - Number of partitions:  9   \n",
      "\n",
      " Reading cell profiles file :  ./output_11102023/3_sample_profiles/3sample_profiles_1482_bin_014.csv    {'index_cols': False}\n"
     ]
    },
    {
     "name": "stderr",
     "output_type": "stream",
     "text": [
      "2024-04-24 10:43:23,266 - INFO: -  Read profiles file ... complete\n"
     ]
    },
    {
     "name": "stdout",
     "output_type": "stream",
     "text": [
      " Reading ALL  rows - Number of partitions:  9   \n",
      "\n"
     ]
    }
   ],
   "source": [
    "input_file_list = read_binned_profile_files(file_idxs = TRAINING_FILES, \n",
    "                                            filename = binnedProfileFiles,\n",
    "                                            names = COMPOUND_PROFILE_COLUMNS, \n",
    "                                            # names = COMPOUND_PROFILE_COLUMNS_3681, \n",
    "                                            usecols = Xy_columns,\n",
    "                                            dtype = Xy_columns_dtype,\n",
    "                                            index_cols = False,)"
   ]
  },
  {
   "cell_type": "markdown",
   "metadata": {},
   "source": [
    "## Load study"
   ]
  },
  {
   "cell_type": "markdown",
   "metadata": {
    "execution": {
     "iopub.execute_input": "2024-02-11T12:53:22.650056Z",
     "iopub.status.busy": "2024-02-11T12:53:22.649626Z",
     "iopub.status.idle": "2024-02-11T12:53:22.690698Z",
     "shell.execute_reply": "2024-02-11T12:53:22.689762Z",
     "shell.execute_reply.started": "2024-02-11T12:53:22.650019Z"
    }
   },
   "source": [
    "  #### Address for optuna dashboard repository:  `sqlite:////home/kevin/WSL-shared/Cellpainting/cj-datasets/optuna_data.db`\n",
    "  #### Address for optuna dashboard repository:  `sqlite:////home/kevin/WSL-shared/Cellpainting/cj-datasets/example.db`\n",
    "  #### Address for optuna dashboard repository:  `sqlite:////home/kevin/WSL-shared/Cellpainting/cj-datasets/example_copy.db`"
   ]
  },
  {
   "cell_type": "code",
   "execution_count": 21,
   "metadata": {
    "execution": {
     "iopub.execute_input": "2024-04-24T08:56:54.086716Z",
     "iopub.status.busy": "2024-04-24T08:56:54.085767Z",
     "iopub.status.idle": "2024-04-24T08:56:54.149892Z",
     "shell.execute_reply": "2024-04-24T08:56:54.149029Z",
     "shell.execute_reply.started": "2024-04-24T08:56:54.086659Z"
    }
   },
   "outputs": [],
   "source": [
    "# storage = \"sqlite:///example.db\"\n",
    "# storage_copy = \"sqlite:///example_copy.db\"\n",
    "storage_instance = \"sqlite:///optuna_database.db\"\n",
    "# study_name =\"classification-2SampleStudy-Apr24\"\n",
    "study_name =\"classification-3SampleStudy-Apr24\"\n",
    "# study_name=\"classification-study-1\"\n",
    "\n",
    "## https://optuna.readthedocs.io/en/stable/reference/generated/optuna.storages.RetryFailedTrialCallback.html\n",
    "#\n",
    "# from optuna.storages import RetryFailedTrialCallback\n",
    "#\n",
    "# storage_instance = optuna.storages.RDBStorage(\n",
    "#     url=storage_copy,\n",
    "#     heartbeat_interval=60,\n",
    "#     grace_period=120,\n",
    "#     failed_trial_callback=RetryFailedTrialCallback(max_retry=3),\n",
    "# )\n",
    "# storage_instance"
   ]
  },
  {
   "cell_type": "code",
   "execution_count": 22,
   "metadata": {
    "execution": {
     "iopub.execute_input": "2024-04-24T08:56:54.679323Z",
     "iopub.status.busy": "2024-04-24T08:56:54.678857Z",
     "iopub.status.idle": "2024-04-24T08:56:56.110649Z",
     "shell.execute_reply": "2024-04-24T08:56:56.109930Z",
     "shell.execute_reply.started": "2024-04-24T08:56:54.679282Z"
    },
    "lines_to_next_cell": 2
   },
   "outputs": [
    {
     "name": "stderr",
     "output_type": "stream",
     "text": [
      "[I 2024-04-24 10:56:56,096] Using an existing study with name 'classification-3SampleStudy-Apr24' instead of creating a new one.\n"
     ]
    }
   ],
   "source": [
    "# resp = input(f\" Delete study {study_name} ?\")\n",
    "# if resp.lower() in ['yes' ,'y']:\n",
    "#     print(' You responsed yes')\n",
    "#     try:\n",
    "#         optuna.delete_study(storage=storage_instance, study_name=study_name)\n",
    "#         print(\"delete successful\")\n",
    "#     except Exception as e:\n",
    "#         print(\"delete failed\")\n",
    "# else:\n",
    "#     print(f\" {study_name} will be kept\")\n",
    "\n",
    "study = optuna.create_study(storage=storage_instance,\n",
    "                            study_name=study_name,\n",
    "                            directions=[\"maximize\",\"minimize\"], \n",
    "                            load_if_exists=True)\n",
    "study.set_metric_names([\"roc_auc\", \"logloss\"])"
   ]
  },
  {
   "cell_type": "code",
   "execution_count": 23,
   "metadata": {
    "execution": {
     "iopub.execute_input": "2024-04-24T08:56:57.131351Z",
     "iopub.status.busy": "2024-04-24T08:56:57.130403Z",
     "iopub.status.idle": "2024-04-24T08:56:57.176481Z",
     "shell.execute_reply": "2024-04-24T08:56:57.174942Z",
     "shell.execute_reply.started": "2024-04-24T08:56:57.131284Z"
    }
   },
   "outputs": [],
   "source": [
    "# start = datetime.now()\n",
    "# study  = optuna.load_study(study_name= study_name , storage=storage_instance)\n",
    "# print(f\"Total time:  {datetime.now() - start}\")"
   ]
  },
  {
   "cell_type": "code",
   "execution_count": 26,
   "metadata": {
    "execution": {
     "iopub.execute_input": "2024-04-24T13:05:09.437158Z",
     "iopub.status.busy": "2024-04-24T13:05:09.436466Z",
     "iopub.status.idle": "2024-04-24T13:05:09.516688Z",
     "shell.execute_reply": "2024-04-24T13:05:09.516123Z",
     "shell.execute_reply.started": "2024-04-24T13:05:09.437104Z"
    }
   },
   "outputs": [
    {
     "name": "stdout",
     "output_type": "stream",
     "text": [
      " classification-3SampleStudy-Apr24  study history\n",
      "\n",
      "                start     -   completion      status        validation metrics\n",
      " trial#         time      -      time          code      roc_auc        logloss\n",
      "--------------------------------------------------------------------------------\n",
      "Trial #: 0    2024-04-23   23:38:03 - 23:50:34    1      0.56071        0.55998    \n",
      "Trial #: 1    2024-04-23   23:50:34 - 00:04:55    1      0.62853        0.35265    \n",
      "Trial #: 2    2024-04-24   00:04:56 - 00:19:41    1      0.53452        5.76593    \n",
      "Trial #: 3    2024-04-24   00:40:48 - 00:40:48    3          *** FAILED ***        \n",
      "Trial #: 4    2024-04-24   00:41:55 - 00:50:55    1      0.59665        0.36301    \n",
      "Trial #: 5    2024-04-24   00:50:55 - 01:00:21    1      0.54799        1.08768    \n",
      "Trial #: 6    2024-04-24   01:00:22 - 01:08:36    1      0.51181        1.24476    \n",
      "Trial #: 7    2024-04-24   01:08:37 - 01:17:35    1      0.62289        0.35346    \n",
      "Trial #: 8    2024-04-24   10:57:05 - 11:07:23    1      0.59553        0.37089    \n",
      "Trial #: 9    2024-04-24   11:07:23 - 11:30:58    1      0.62841        0.35243    \n",
      "Trial #: 10   2024-04-24   11:30:59 - 11:39:53    1      0.49385        1.55933    \n",
      "Trial #: 11   2024-04-24   11:39:53 - 11:48:47    1      0.48177       31.46757    \n",
      " *** end of trials *** \n",
      " Best trials:  [1, 9]\n"
     ]
    }
   ],
   "source": [
    "disp_study_history(study)"
   ]
  },
  {
   "cell_type": "code",
   "execution_count": 58,
   "metadata": {
    "execution": {
     "iopub.execute_input": "2024-02-14T22:19:31.327297Z",
     "iopub.status.busy": "2024-02-14T22:19:31.326093Z",
     "iopub.status.idle": "2024-02-14T22:19:31.426685Z",
     "shell.execute_reply": "2024-02-14T22:19:31.425964Z",
     "shell.execute_reply.started": "2024-02-14T22:19:31.327244Z"
    }
   },
   "outputs": [
    {
     "name": "stdout",
     "output_type": "stream",
     "text": [
      " classification-study-1-clone  study history\n",
      "\n",
      "                start     -   completion      status        validation metrics\n",
      " trial#         time      -      time          code      roc_auc        logloss\n",
      "--------------------------------------------------------------------------------\n",
      "Trial #: 0    2024-02-11   15:31:07 - 16:38:29    1      0.62593        0.35270    \n",
      "Trial #: 1    2024-02-11   21:50:47 - 22:14:47    1      0.60966        0.35607    \n",
      "Trial #: 2    2024-02-11   23:21:11 - 00:01:20    1      0.61561        0.36063    \n",
      "Trial #: 3    2024-02-12   00:01:21 - 00:39:17    1      0.60933        0.35866    \n",
      "Trial #: 4    2024-02-12   00:39:18 - 00:56:58    1      0.59683        0.36285    \n",
      "Trial #: 5    2024-02-12   01:55:54 - 02:12:44    1      0.55990        0.56057    \n",
      "Trial #: 6    2024-02-12   02:12:45 - 02:29:49    1      0.59509        0.36394    \n",
      "Trial #: 7    2024-02-12   02:29:50 - 03:59:12    1      0.61147        0.37472    \n",
      "Trial #: 8    2024-02-12   03:59:13 - 04:49:11    1      0.61664        0.35477    \n",
      "Trial #: 9    2024-02-12   04:49:12 - 05:08:23    1      0.52726        0.37212    \n",
      "Trial #: 10   2024-02-12   14:00:38 - 14:26:29    1      0.62208        0.35362    rerun of trial 0\n",
      "Trial #: 11   2024-02-12   15:13:15 - 16:55:58    1      0.61050        0.37124    rerun of trial 2\n",
      "Trial #: 12   2024-02-12   16:55:59 - 17:23:19    1      0.61534        0.35553    rerun of trial 2\n",
      "Trial #: 13   2024-02-12   19:46:39 - 20:04:52    1      0.62132        0.35329    rerun of trial 3\n",
      "Trial #: 14   2024-02-12   20:04:53 - 20:51:04    1      0.60952        0.37508    rerun of trial 4\n",
      "Trial #: 15   2024-02-12   20:51:05 - 21:03:13    1      0.60955        0.35581    rerun of trial 5\n",
      "Trial #: 16   2024-02-12   21:03:14 - 21:21:57    1      0.54904        0.36606    rerun of trial 6\n",
      "Trial #: 17   2024-02-12   21:33:09 - 22:13:52    1      0.62365        0.35322    rerun of trial 7\n",
      "Trial #: 18   2024-02-12   22:13:52 - 22:25:39    1      0.58913        0.36734    rerun of trial 8\n",
      "Trial #: 19   2024-02-12   22:25:40 - 22:36:49    1      0.59105        0.36808    rerun of trial 9\n",
      "Trial #: 20   2024-02-12   22:36:50 - 23:05:05    1      0.60879        0.35860    rerun of trial 10\n",
      "Trial #: 21   2024-02-13   04:22:59 - 04:34:36    1      0.55585        0.57369    rerun of trial 12\n",
      "Trial #: 22   2024-02-13   04:34:37 - 04:49:42    1      0.61422        0.35551    rerun of trial 13\n",
      "Trial #: 23   2024-02-13   04:49:43 - 05:00:23    1      0.58133        0.38038    rerun of trial 14\n",
      "Trial #: 24   2024-02-13   05:00:23 - 05:15:50    1      0.59614        0.35925    rerun of trial 11\n",
      "Trial #: 25   2024-02-13   05:23:23 - 05:35:08    1      0.56613        0.41619    \n",
      "Trial #: 26   2024-02-13   05:35:09 - 05:49:09    1      0.56828        0.43065    \n",
      "Trial #: 27   2024-02-13   05:49:10 - 06:00:11    1      0.60657        0.35728    \n",
      "Trial #: 28   2024-02-13   06:00:11 - 06:13:01    1      0.58216        0.39139    \n",
      "Trial #: 29   2024-02-13   06:13:02 - 06:26:33    1      0.61431        0.35519    \n",
      "Trial #: 30   2024-02-13   06:32:02 - 07:26:32    1      0.62248        0.35331    \n",
      "Trial #: 31   2024-02-13   07:26:33 - 07:46:11    1      0.62233        0.35339    \n",
      "Trial #: 32   2024-02-13   07:46:12 - 07:59:04    1      0.55335        0.58426    \n",
      "Trial #: 33   2024-02-13   07:59:05 - 08:10:18    1      0.57281        0.40450    \n",
      "Trial #: 34   2024-02-13   08:10:20 - 08:21:40    1      0.56731        0.40014    \n",
      "Trial #: 35   2024-02-13   11:49:46 - 12:08:05    1      0.60925        0.35635    \n",
      "Trial #: 36   2024-02-13   12:08:06 - 12:20:26    1      0.58370        0.37018    \n",
      "Trial #: 37   2024-02-13   12:20:27 - 12:32:04    1      0.55849        0.46500    \n",
      "Trial #: 38   2024-02-13   12:32:04 - 13:14:32    1      0.61240        0.36259    \n",
      "Trial #: 39   2024-02-13   13:14:32 - 13:27:24    1      0.55885        0.44736    \n",
      "Trial #: 40   2024-02-13   13:59:35 - 14:24:06    1      0.59709        0.37849    \n",
      "Trial #: 41   2024-02-13   14:24:07 - 14:27:07    3          *** FAILED ***        \n",
      "Trial #: 42   2024-02-14   12:39:48 - 13:18:00    1      0.60608        0.37906    \n",
      "Trial #: 43   2024-02-14   13:18:00 - 13:45:31    1      0.59964        0.37906    \n",
      "Trial #: 44   2024-02-14   13:45:32 - 14:05:23    1      0.62048        0.35366    \n",
      "Trial #: 45   2024-02-14   14:05:24 - 14:30:08    1      0.61736        0.35471    \n",
      "Trial #: 46   2024-02-14   14:30:09 - 15:53:19    3          *** FAILED ***        \n",
      "Trial #: 47   2024-02-14   18:28:43 - 18:50:41    1      0.59136        0.37904    \n",
      "Trial #: 48   2024-02-14   19:10:38 - 19:26:13    3          *** FAILED ***        \n",
      " *** end of trials *** \n",
      " Best trials:  [0]\n"
     ]
    }
   ],
   "source": [
    "disp_study_history(study)"
   ]
  },
  {
   "cell_type": "markdown",
   "metadata": {},
   "source": [
    "## Run studies"
   ]
  },
  {
   "cell_type": "code",
   "execution_count": 25,
   "metadata": {
    "execution": {
     "iopub.execute_input": "2024-04-24T08:57:05.706212Z",
     "iopub.status.busy": "2024-04-24T08:57:05.705446Z",
     "iopub.status.idle": "2024-04-24T09:48:47.908779Z",
     "shell.execute_reply": "2024-04-24T09:48:47.907910Z",
     "shell.execute_reply.started": "2024-04-24T08:57:05.706156Z"
    },
    "scrolled": true
   },
   "outputs": [
    {
     "name": "stdout",
     "output_type": "stream",
     "text": [
      "--------------------------------------------------------------------------------\n",
      " Training model (trial #8) \n",
      "--------------------------------------------------------------------------------\n",
      " Parameters:\n",
      "  booster                        gbtree\n",
      "  device                         gpu\n",
      "  verbosity                      0\n",
      "  disable_default_eval_metric    False\n",
      "  objective                      binary:logistic\n",
      "  eval_metric                    ['auc', 'logloss']\n",
      "  tree_method                    auto\n",
      "  learning_rate                  0.2971545294100626\n",
      "  gamma                          6.919884299978366\n",
      "  max_depth                      9\n",
      "  min_child_weight               6.150376989728685\n",
      "  max_delta_step                 9.906095553994511\n",
      "  subsample                      0.8671871151894116\n",
      "  sampling_method                uniform\n",
      "  colsample_bytree               1.0\n",
      "  colsample_bylevel              0.8596681051267068\n",
      "  colsample_bynode               0.7908527359471309\n",
      "  lambda                         1\n",
      "  scale_pos_weight               1\n",
      "  max_leaves                     0\n",
      "  reg_lambda                     3.2267\n",
      " # bin files: 15   # of folds 5 -  (groups of 3 file tuples)\n",
      " CV Split 0 -  Training files: [3, 4, 5, 6, 7, 8, 9, 10, 11, 12, 13, 14]   Validation files: [0, 1, 2]  \n"
     ]
    },
    {
     "name": "stderr",
     "output_type": "stream",
     "text": [
      "2024-04-24 10:57:14,445 - INFO: - CrossValidation split #0\n",
      "2024-04-24 10:57:14,446 - INFO: - Building training & validation DMatrix...\n",
      "2024-04-24 10:58:04,605 - distributed.utils_perf - WARNING - full garbage collections took 24% CPU time recently (threshold: 10%)\n",
      "2024-04-24 10:58:05,034 - distributed.utils_perf - WARNING - full garbage collections took 24% CPU time recently (threshold: 10%)\n",
      "2024-04-24 10:58:05,580 - distributed.utils_perf - WARNING - full garbage collections took 24% CPU time recently (threshold: 10%)\n",
      "2024-04-24 10:58:05,887 - distributed.utils_perf - WARNING - full garbage collections took 27% CPU time recently (threshold: 10%)\n",
      "2024-04-24 10:58:05,964 - distributed.utils_perf - WARNING - full garbage collections took 24% CPU time recently (threshold: 10%)\n",
      "2024-04-24 10:58:06,302 - distributed.utils_perf - WARNING - full garbage collections took 24% CPU time recently (threshold: 10%)\n",
      "2024-04-24 10:58:06,327 - distributed.utils_perf - WARNING - full garbage collections took 27% CPU time recently (threshold: 10%)\n",
      "2024-04-24 10:58:06,606 - distributed.utils_perf - WARNING - full garbage collections took 24% CPU time recently (threshold: 10%)\n",
      "2024-04-24 10:58:06,996 - distributed.utils_perf - WARNING - full garbage collections took 27% CPU time recently (threshold: 10%)\n",
      "2024-04-24 10:58:08,738 - distributed.utils_perf - WARNING - full garbage collections took 27% CPU time recently (threshold: 10%)\n",
      "2024-04-24 10:58:09,094 - distributed.utils_perf - WARNING - full garbage collections took 24% CPU time recently (threshold: 10%)\n",
      "2024-04-24 10:58:09,615 - distributed.utils_perf - WARNING - full garbage collections took 27% CPU time recently (threshold: 10%)\n",
      "2024-04-24 10:58:09,808 - distributed.utils_perf - WARNING - full garbage collections took 24% CPU time recently (threshold: 10%)\n",
      "2024-04-24 10:58:10,129 - distributed.utils_perf - WARNING - full garbage collections took 25% CPU time recently (threshold: 10%)\n",
      "2024-04-24 10:58:10,159 - distributed.utils_perf - WARNING - full garbage collections took 27% CPU time recently (threshold: 10%)\n",
      "2024-04-24 10:58:10,478 - distributed.utils_perf - WARNING - full garbage collections took 27% CPU time recently (threshold: 10%)\n",
      "2024-04-24 10:58:11,318 - distributed.utils_perf - WARNING - full garbage collections took 25% CPU time recently (threshold: 10%)\n",
      "2024-04-24 10:58:11,956 - distributed.utils_perf - WARNING - full garbage collections took 25% CPU time recently (threshold: 10%)\n",
      "2024-04-24 10:58:12,252 - distributed.utils_perf - WARNING - full garbage collections took 27% CPU time recently (threshold: 10%)\n",
      "2024-04-24 10:58:12,563 - distributed.utils_perf - WARNING - full garbage collections took 27% CPU time recently (threshold: 10%)\n",
      "2024-04-24 10:58:12,760 - distributed.utils_perf - WARNING - full garbage collections took 25% CPU time recently (threshold: 10%)\n",
      "2024-04-24 10:58:13,103 - distributed.utils_perf - WARNING - full garbage collections took 25% CPU time recently (threshold: 10%)\n",
      "2024-04-24 10:58:13,313 - distributed.utils_perf - WARNING - full garbage collections took 27% CPU time recently (threshold: 10%)\n",
      "2024-04-24 10:58:13,432 - distributed.utils_perf - WARNING - full garbage collections took 26% CPU time recently (threshold: 10%)\n",
      "2024-04-24 10:58:13,626 - distributed.utils_perf - WARNING - full garbage collections took 27% CPU time recently (threshold: 10%)\n",
      "2024-04-24 10:58:14,895 - distributed.utils_perf - WARNING - full garbage collections took 22% CPU time recently (threshold: 10%)\n",
      "2024-04-24 10:58:15,083 - distributed.utils_perf - WARNING - full garbage collections took 27% CPU time recently (threshold: 10%)\n",
      "2024-04-24 10:58:15,327 - distributed.utils_perf - WARNING - full garbage collections took 26% CPU time recently (threshold: 10%)\n",
      "2024-04-24 10:58:15,804 - distributed.utils_perf - WARNING - full garbage collections took 26% CPU time recently (threshold: 10%)\n",
      "2024-04-24 10:58:15,931 - distributed.utils_perf - WARNING - full garbage collections took 23% CPU time recently (threshold: 10%)\n",
      "2024-04-24 10:58:16,055 - distributed.utils_perf - WARNING - full garbage collections took 26% CPU time recently (threshold: 10%)\n",
      "2024-04-24 10:58:16,137 - distributed.utils_perf - WARNING - full garbage collections took 26% CPU time recently (threshold: 10%)\n",
      "2024-04-24 10:58:16,214 - distributed.utils_perf - WARNING - full garbage collections took 23% CPU time recently (threshold: 10%)\n",
      "2024-04-24 10:58:16,325 - distributed.utils_perf - WARNING - full garbage collections took 27% CPU time recently (threshold: 10%)\n",
      "2024-04-24 10:58:16,512 - distributed.utils_perf - WARNING - full garbage collections took 23% CPU time recently (threshold: 10%)\n",
      "2024-04-24 10:58:16,655 - distributed.utils_perf - WARNING - full garbage collections took 27% CPU time recently (threshold: 10%)\n",
      "2024-04-24 10:58:17,446 - distributed.utils_perf - WARNING - full garbage collections took 26% CPU time recently (threshold: 10%)\n",
      "2024-04-24 10:58:17,740 - distributed.utils_perf - WARNING - full garbage collections took 26% CPU time recently (threshold: 10%)\n",
      "2024-04-24 10:58:18,045 - distributed.utils_perf - WARNING - full garbage collections took 23% CPU time recently (threshold: 10%)\n",
      "2024-04-24 10:58:18,143 - distributed.utils_perf - WARNING - full garbage collections took 26% CPU time recently (threshold: 10%)\n",
      "2024-04-24 10:58:18,314 - distributed.utils_perf - WARNING - full garbage collections took 25% CPU time recently (threshold: 10%)\n",
      "2024-04-24 10:58:18,605 - distributed.utils_perf - WARNING - full garbage collections took 26% CPU time recently (threshold: 10%)\n",
      "2024-04-24 10:58:18,763 - distributed.utils_perf - WARNING - full garbage collections took 26% CPU time recently (threshold: 10%)\n",
      "2024-04-24 10:58:19,079 - distributed.utils_perf - WARNING - full garbage collections took 26% CPU time recently (threshold: 10%)\n",
      "2024-04-24 10:58:19,159 - distributed.utils_perf - WARNING - full garbage collections took 25% CPU time recently (threshold: 10%)\n",
      "2024-04-24 10:58:19,218 - distributed.utils_perf - WARNING - full garbage collections took 26% CPU time recently (threshold: 10%)\n",
      "2024-04-24 10:58:19,408 - distributed.utils_perf - WARNING - full garbage collections took 24% CPU time recently (threshold: 10%)\n",
      "2024-04-24 10:58:19,467 - distributed.utils_perf - WARNING - full garbage collections took 25% CPU time recently (threshold: 10%)\n",
      "2024-04-24 10:58:19,515 - distributed.utils_perf - WARNING - full garbage collections took 26% CPU time recently (threshold: 10%)\n",
      "2024-04-24 10:58:19,776 - distributed.utils_perf - WARNING - full garbage collections took 25% CPU time recently (threshold: 10%)\n",
      "2024-04-24 10:58:19,800 - distributed.utils_perf - WARNING - full garbage collections took 26% CPU time recently (threshold: 10%)\n",
      "2024-04-24 10:58:20,532 - distributed.utils_perf - WARNING - full garbage collections took 24% CPU time recently (threshold: 10%)\n",
      "2024-04-24 10:58:20,891 - distributed.utils_perf - WARNING - full garbage collections took 24% CPU time recently (threshold: 10%)\n",
      "2024-04-24 10:58:21,004 - distributed.utils_perf - WARNING - full garbage collections took 26% CPU time recently (threshold: 10%)\n",
      "2024-04-24 10:58:21,008 - distributed.utils_perf - WARNING - full garbage collections took 26% CPU time recently (threshold: 10%)\n",
      "2024-04-24 10:58:21,313 - distributed.utils_perf - WARNING - full garbage collections took 26% CPU time recently (threshold: 10%)\n",
      "2024-04-24 10:58:21,316 - distributed.utils_perf - WARNING - full garbage collections took 26% CPU time recently (threshold: 10%)\n",
      "2024-04-24 10:58:21,389 - INFO: - Training model...\n",
      "2024-04-24 10:58:21,478 - INFO: - start listen on 10.91.28.16:59819\n",
      "2024-04-24 10:58:21,949 - distributed.utils_perf - WARNING - full garbage collections took 24% CPU time recently (threshold: 10%)\n",
      "[10:58:22] task [xgboost.dask-0]:tcp://127.0.0.1:37143 got new rank 0\n",
      "[10:58:22] task [xgboost.dask-1]:tcp://127.0.0.1:44601 got new rank 1\n",
      "[10:58:22] task [xgboost.dask-2]:tcp://127.0.0.1:42719 got new rank 2\n",
      "2024-04-24 10:58:22,036 - INFO: - @tracker All of 3 nodes getting started\n",
      "2024-04-24 10:58:49,973 - INFO: - @tracker All nodes finishes job\n",
      "2024-04-24 10:58:50,186 - INFO: - Running model on test data...\n",
      "2024-04-24 10:58:55,545 - distributed.utils_perf - WARNING - full garbage collections took 22% CPU time recently (threshold: 10%)\n",
      "2024-04-24 10:58:56,254 - distributed.utils_perf - WARNING - full garbage collections took 22% CPU time recently (threshold: 10%)\n",
      "2024-04-24 10:58:57,923 - distributed.utils_perf - WARNING - full garbage collections took 22% CPU time recently (threshold: 10%)\n",
      "2024-04-24 10:58:58,729 - distributed.utils_perf - WARNING - full garbage collections took 22% CPU time recently (threshold: 10%)\n",
      "2024-04-24 10:59:05,345 - INFO: - Calculating metrics...\n",
      "2024-04-24 10:59:05,465 - INFO: - Calculating metrics...Completed\n"
     ]
    },
    {
     "name": "stdout",
     "output_type": "stream",
     "text": [
      "--------------------------------------------------------------------------------\n",
      " train_auc           :   0.94223\n",
      " train_logloss       :   0.23593\n",
      " val_auc             :   0.58827\n",
      " val_logloss         :   0.36938\n",
      " roc_auc             :   0.58827\n",
      " logloss             :   0.36938\n",
      " accuracy            :   0.88024\n",
      " bal_acc             :   0.01444\n",
      " top_k_acc           :   1.00000\n",
      " F1_score            :   0.03662\n",
      " map                 :   0.17143\n",
      " pearson_corr        :   0.12205\n",
      "--------------------------------------------------------------------------------\n",
      " CV Split 1 -  Training files: [0, 1, 2, 6, 7, 8, 9, 10, 11, 12, 13, 14]   Validation files: [3, 4, 5]  \n"
     ]
    },
    {
     "name": "stderr",
     "output_type": "stream",
     "text": [
      "2024-04-24 10:59:14,968 - INFO: - CrossValidation split #1\n",
      "2024-04-24 10:59:14,971 - INFO: - Building training & validation DMatrix...\n",
      "2024-04-24 11:00:25,976 - INFO: - Training model...\n",
      "2024-04-24 11:00:25,984 - INFO: - start listen on 10.91.28.16:39241\n",
      "[11:00:26] task [xgboost.dask-0]:tcp://127.0.0.1:37143 got new rank 0\n",
      "[11:00:26] task [xgboost.dask-1]:tcp://127.0.0.1:44601 got new rank 1\n",
      "[11:00:26] task [xgboost.dask-2]:tcp://127.0.0.1:42719 got new rank 2\n",
      "2024-04-24 11:00:26,032 - INFO: - @tracker All of 3 nodes getting started\n",
      "2024-04-24 11:00:52,768 - INFO: - @tracker All nodes finishes job\n",
      "2024-04-24 11:00:53,003 - INFO: - Running model on test data...\n",
      "2024-04-24 11:01:08,157 - INFO: - Calculating metrics...\n",
      "2024-04-24 11:01:08,251 - INFO: - Calculating metrics...Completed\n"
     ]
    },
    {
     "name": "stdout",
     "output_type": "stream",
     "text": [
      "--------------------------------------------------------------------------------\n",
      " train_auc           :   0.94339\n",
      " train_logloss       :   0.23541\n",
      " val_auc             :   0.60044\n",
      " val_logloss         :   0.36546\n",
      " roc_auc             :   0.60046\n",
      " logloss             :   0.36546\n",
      " accuracy            :   0.88032\n",
      " bal_acc             :   0.01563\n",
      " top_k_acc           :   1.00000\n",
      " F1_score            :   0.03988\n",
      " map                 :   0.17498\n",
      " pearson_corr        :   0.13023\n",
      "--------------------------------------------------------------------------------\n",
      " CV Split 2 -  Training files: [0, 1, 2, 3, 4, 5, 9, 10, 11, 12, 13, 14]   Validation files: [6, 7, 8]  \n"
     ]
    },
    {
     "name": "stderr",
     "output_type": "stream",
     "text": [
      "2024-04-24 11:01:17,252 - INFO: - CrossValidation split #2\n",
      "2024-04-24 11:01:17,254 - INFO: - Building training & validation DMatrix...\n",
      "2024-04-24 11:02:29,763 - INFO: - Training model...\n",
      "2024-04-24 11:02:29,771 - INFO: - start listen on 10.91.28.16:35647\n",
      "[11:02:29] task [xgboost.dask-0]:tcp://127.0.0.1:37143 got new rank 0\n",
      "[11:02:29] task [xgboost.dask-1]:tcp://127.0.0.1:44601 got new rank 1\n",
      "[11:02:29] task [xgboost.dask-2]:tcp://127.0.0.1:42719 got new rank 2\n",
      "2024-04-24 11:02:29,812 - INFO: - @tracker All of 3 nodes getting started\n",
      "2024-04-24 11:02:57,329 - INFO: - @tracker All nodes finishes job\n",
      "2024-04-24 11:02:57,548 - INFO: - Running model on test data...\n",
      "2024-04-24 11:03:12,833 - INFO: - Calculating metrics...\n",
      "2024-04-24 11:03:12,924 - INFO: - Calculating metrics...Completed\n"
     ]
    },
    {
     "name": "stdout",
     "output_type": "stream",
     "text": [
      "--------------------------------------------------------------------------------\n",
      " train_auc           :   0.94773\n",
      " train_logloss       :   0.22937\n",
      " val_auc             :   0.60352\n",
      " val_logloss         :   0.37302\n",
      " roc_auc             :   0.60342\n",
      " logloss             :   0.37302\n",
      " accuracy            :   0.87731\n",
      " bal_acc             :   0.01833\n",
      " top_k_acc           :   1.00000\n",
      " F1_score            :   0.04376\n",
      " map                 :   0.18782\n",
      " pearson_corr        :   0.14281\n",
      "--------------------------------------------------------------------------------\n",
      " CV Split 3 -  Training files: [0, 1, 2, 3, 4, 5, 6, 7, 8, 12, 13, 14]   Validation files: [9, 10, 11]  \n"
     ]
    },
    {
     "name": "stderr",
     "output_type": "stream",
     "text": [
      "2024-04-24 11:03:21,826 - INFO: - CrossValidation split #3\n",
      "2024-04-24 11:03:21,827 - INFO: - Building training & validation DMatrix...\n",
      "2024-04-24 11:04:34,690 - INFO: - Training model...\n",
      "2024-04-24 11:04:34,700 - INFO: - start listen on 10.91.28.16:46021\n",
      "[11:04:34] task [xgboost.dask-0]:tcp://127.0.0.1:37143 got new rank 0\n",
      "[11:04:34] task [xgboost.dask-1]:tcp://127.0.0.1:44601 got new rank 1\n",
      "[11:04:34] task [xgboost.dask-2]:tcp://127.0.0.1:42719 got new rank 2\n",
      "2024-04-24 11:04:34,750 - INFO: - @tracker All of 3 nodes getting started\n",
      "2024-04-24 11:05:01,012 - INFO: - @tracker All nodes finishes job\n",
      "2024-04-24 11:05:01,225 - INFO: - Running model on test data...\n",
      "2024-04-24 11:05:16,466 - INFO: - Calculating metrics...\n",
      "2024-04-24 11:05:16,578 - INFO: - Calculating metrics...Completed\n"
     ]
    },
    {
     "name": "stdout",
     "output_type": "stream",
     "text": [
      "--------------------------------------------------------------------------------\n",
      " train_auc           :   0.94248\n",
      " train_logloss       :   0.23552\n",
      " val_auc             :   0.59077\n",
      " val_logloss         :   0.37194\n",
      " roc_auc             :   0.59072\n",
      " logloss             :   0.37194\n",
      " accuracy            :   0.87890\n",
      " bal_acc             :   0.01605\n",
      " top_k_acc           :   1.00000\n",
      " F1_score            :   0.03952\n",
      " map                 :   0.17511\n",
      " pearson_corr        :   0.12461\n",
      "--------------------------------------------------------------------------------\n",
      " CV Split 4 -  Training files: [0, 1, 2, 3, 4, 5, 6, 7, 8, 9, 10, 11]   Validation files: [12, 13, 14]  \n"
     ]
    },
    {
     "name": "stderr",
     "output_type": "stream",
     "text": [
      "2024-04-24 11:05:26,109 - INFO: - CrossValidation split #4\n",
      "2024-04-24 11:05:26,110 - INFO: - Building training & validation DMatrix...\n",
      "2024-04-24 11:06:19,677 - distributed.utils_perf - WARNING - full garbage collections took 10% CPU time recently (threshold: 10%)\n",
      "2024-04-24 11:06:20,134 - distributed.utils_perf - WARNING - full garbage collections took 10% CPU time recently (threshold: 10%)\n",
      "2024-04-24 11:06:20,615 - distributed.utils_perf - WARNING - full garbage collections took 10% CPU time recently (threshold: 10%)\n",
      "2024-04-24 11:06:21,074 - distributed.utils_perf - WARNING - full garbage collections took 10% CPU time recently (threshold: 10%)\n",
      "2024-04-24 11:06:21,594 - distributed.utils_perf - WARNING - full garbage collections took 10% CPU time recently (threshold: 10%)\n",
      "2024-04-24 11:06:22,046 - distributed.utils_perf - WARNING - full garbage collections took 10% CPU time recently (threshold: 10%)\n",
      "2024-04-24 11:06:22,481 - distributed.utils_perf - WARNING - full garbage collections took 10% CPU time recently (threshold: 10%)\n",
      "2024-04-24 11:06:22,991 - distributed.utils_perf - WARNING - full garbage collections took 10% CPU time recently (threshold: 10%)\n",
      "2024-04-24 11:06:23,467 - distributed.utils_perf - WARNING - full garbage collections took 10% CPU time recently (threshold: 10%)\n",
      "2024-04-24 11:06:23,866 - distributed.utils_perf - WARNING - full garbage collections took 10% CPU time recently (threshold: 10%)\n",
      "2024-04-24 11:06:24,299 - distributed.utils_perf - WARNING - full garbage collections took 10% CPU time recently (threshold: 10%)\n",
      "2024-04-24 11:06:24,734 - distributed.utils_perf - WARNING - full garbage collections took 10% CPU time recently (threshold: 10%)\n",
      "2024-04-24 11:06:25,146 - distributed.utils_perf - WARNING - full garbage collections took 10% CPU time recently (threshold: 10%)\n",
      "2024-04-24 11:06:25,582 - distributed.utils_perf - WARNING - full garbage collections took 11% CPU time recently (threshold: 10%)\n",
      "2024-04-24 11:06:26,025 - distributed.utils_perf - WARNING - full garbage collections took 11% CPU time recently (threshold: 10%)\n",
      "2024-04-24 11:06:26,460 - distributed.utils_perf - WARNING - full garbage collections took 11% CPU time recently (threshold: 10%)\n",
      "2024-04-24 11:06:26,939 - distributed.utils_perf - WARNING - full garbage collections took 11% CPU time recently (threshold: 10%)\n",
      "2024-04-24 11:06:27,422 - distributed.utils_perf - WARNING - full garbage collections took 11% CPU time recently (threshold: 10%)\n",
      "2024-04-24 11:06:29,544 - distributed.utils_perf - WARNING - full garbage collections took 12% CPU time recently (threshold: 10%)\n",
      "2024-04-24 11:06:30,509 - distributed.utils_perf - WARNING - full garbage collections took 12% CPU time recently (threshold: 10%)\n",
      "2024-04-24 11:06:30,987 - distributed.utils_perf - WARNING - full garbage collections took 12% CPU time recently (threshold: 10%)\n",
      "2024-04-24 11:06:32,745 - distributed.utils_perf - WARNING - full garbage collections took 12% CPU time recently (threshold: 10%)\n",
      "2024-04-24 11:06:33,693 - distributed.utils_perf - WARNING - full garbage collections took 12% CPU time recently (threshold: 10%)\n",
      "2024-04-24 11:06:34,146 - distributed.utils_perf - WARNING - full garbage collections took 12% CPU time recently (threshold: 10%)\n",
      "2024-04-24 11:06:36,003 - distributed.utils_perf - WARNING - full garbage collections took 12% CPU time recently (threshold: 10%)\n",
      "2024-04-24 11:06:36,873 - distributed.utils_perf - WARNING - full garbage collections took 12% CPU time recently (threshold: 10%)\n",
      "2024-04-24 11:06:37,384 - distributed.utils_perf - WARNING - full garbage collections took 12% CPU time recently (threshold: 10%)\n",
      "2024-04-24 11:06:39,004 - distributed.utils_perf - WARNING - full garbage collections took 12% CPU time recently (threshold: 10%)\n",
      "2024-04-24 11:06:40,062 - distributed.utils_perf - WARNING - full garbage collections took 12% CPU time recently (threshold: 10%)\n",
      "2024-04-24 11:06:40,532 - distributed.utils_perf - WARNING - full garbage collections took 12% CPU time recently (threshold: 10%)\n",
      "2024-04-24 11:06:41,586 - distributed.utils_perf - WARNING - full garbage collections took 11% CPU time recently (threshold: 10%)\n",
      "2024-04-24 11:06:42,355 - distributed.utils_perf - WARNING - full garbage collections took 11% CPU time recently (threshold: 10%)\n",
      "2024-04-24 11:06:42,781 - INFO: - Training model...\n",
      "2024-04-24 11:06:42,791 - INFO: - start listen on 10.91.28.16:46667\n",
      "[11:06:42] task [xgboost.dask-0]:tcp://127.0.0.1:37143 got new rank 0\n",
      "[11:06:42] task [xgboost.dask-1]:tcp://127.0.0.1:44601 got new rank 1\n",
      "[11:06:42] task [xgboost.dask-2]:tcp://127.0.0.1:42719 got new rank 2\n",
      "2024-04-24 11:06:42,834 - INFO: - @tracker All of 3 nodes getting started\n",
      "2024-04-24 11:07:07,575 - INFO: - @tracker All nodes finishes job\n",
      "2024-04-24 11:07:07,784 - INFO: - Running model on test data...\n",
      "2024-04-24 11:07:12,721 - distributed.utils_perf - WARNING - full garbage collections took 11% CPU time recently (threshold: 10%)\n",
      "2024-04-24 11:07:13,680 - distributed.utils_perf - WARNING - full garbage collections took 11% CPU time recently (threshold: 10%)\n",
      "2024-04-24 11:07:15,973 - distributed.utils_perf - WARNING - full garbage collections took 11% CPU time recently (threshold: 10%)\n",
      "2024-04-24 11:07:17,657 - distributed.utils_perf - WARNING - full garbage collections took 11% CPU time recently (threshold: 10%)\n",
      "2024-04-24 11:07:18,685 - distributed.utils_perf - WARNING - full garbage collections took 11% CPU time recently (threshold: 10%)\n",
      "2024-04-24 11:07:20,405 - distributed.utils_perf - WARNING - full garbage collections took 11% CPU time recently (threshold: 10%)\n",
      "2024-04-24 11:07:21,480 - distributed.utils_perf - WARNING - full garbage collections took 11% CPU time recently (threshold: 10%)\n",
      "2024-04-24 11:07:22,993 - INFO: - Calculating metrics...\n",
      "2024-04-24 11:07:23,087 - INFO: - Calculating metrics...Completed\n",
      "[I 2024-04-24 11:07:23,187] Trial 8 finished with values: {'roc_auc': 0.5955320836657509, 'logloss': 0.37089398396928214} and parameters: {'learning_rate': 0.2971545294100626, 'min_split_loss': 6.919884299978366, 'max_depth': 9, 'min_child_weight': 6.150376989728685, 'max_delta_step': 9.906095553994511, 'subsample': 0.8671871151894116, 'colsample_bylevel': 0.8596681051267068, 'colsample_bynode': 0.7908527359471309}. \n"
     ]
    },
    {
     "name": "stdout",
     "output_type": "stream",
     "text": [
      "--------------------------------------------------------------------------------\n",
      " train_auc           :   0.94289\n",
      " train_logloss       :   0.23393\n",
      " val_auc             :   0.59466\n",
      " val_logloss         :   0.37468\n",
      " roc_auc             :   0.59464\n",
      " logloss             :   0.37468\n",
      " accuracy            :   0.87755\n",
      " bal_acc             :   0.01809\n",
      " top_k_acc           :   1.00000\n",
      " F1_score            :   0.04354\n",
      " map                 :   0.17785\n",
      " pearson_corr        :   0.12768\n",
      "--------------------------------------------------------------------------------\n",
      "--------------------------------------------------------------------------------\n",
      " train_auc                 0.94374 +/- 0.00203\n",
      " train_logloss             0.23403 +/- 0.00243\n",
      " val_auc                   0.59553 +/- 0.00573\n",
      " val_logloss               0.37089 +/- 0.00322\n",
      " roc_auc                   0.59550 +/- 0.00571\n",
      " logloss                   0.37089 +/- 0.00322\n",
      " accuracy                  0.87887 +/- 0.00128\n",
      " bal_acc                   0.01651 +/- 0.00149\n",
      " top_k_acc                 1.00000 +/- 0.00000\n",
      " F1_score                  0.04066 +/- 0.00269\n",
      " map                       0.17744 +/- 0.00558\n",
      " pearson_corr              0.12948 +/- 0.00722\n",
      "--------------------------------------------------------------------------------\n",
      " model best score    :  0.3600760419451139\n",
      " model best iteration:  6\n",
      " Save model to : ./saved_models/classification-3SampleStudy-Apr24_trial_008.json\n",
      "--------------------------------------------------------------------------------\n",
      " Training model (trial #9) \n",
      "--------------------------------------------------------------------------------\n",
      " Parameters:\n",
      "  booster                        gbtree\n",
      "  device                         gpu\n",
      "  verbosity                      0\n",
      "  disable_default_eval_metric    False\n",
      "  objective                      binary:logistic\n",
      "  eval_metric                    ['auc', 'logloss']\n",
      "  tree_method                    auto\n",
      "  learning_rate                  0.028438450576128264\n",
      "  gamma                          0.8571213408681211\n",
      "  max_depth                      10\n",
      "  min_child_weight               8.66783339115337\n",
      "  max_delta_step                 8.251511503793736\n",
      "  subsample                      0.7671210262230865\n",
      "  sampling_method                uniform\n",
      "  colsample_bytree               1.0\n",
      "  colsample_bylevel              0.5644981249764368\n",
      "  colsample_bynode               0.700592712163171\n",
      "  lambda                         1\n",
      "  scale_pos_weight               1\n",
      "  max_leaves                     0\n",
      "  reg_lambda                     3.2267\n",
      " # bin files: 15   # of folds 5 -  (groups of 3 file tuples)\n",
      " CV Split 0 -  Training files: [3, 4, 5, 6, 7, 8, 9, 10, 11, 12, 13, 14]   Validation files: [0, 1, 2]  \n"
     ]
    },
    {
     "name": "stderr",
     "output_type": "stream",
     "text": [
      "2024-04-24 11:07:33,151 - INFO: - CrossValidation split #0\n",
      "2024-04-24 11:07:33,153 - INFO: - Building training & validation DMatrix...\n",
      "2024-04-24 11:07:34,744 - distributed.utils_perf - WARNING - full garbage collections took 11% CPU time recently (threshold: 10%)\n",
      "2024-04-24 11:07:35,891 - distributed.utils_perf - WARNING - full garbage collections took 11% CPU time recently (threshold: 10%)\n",
      "2024-04-24 11:07:36,238 - distributed.utils_perf - WARNING - full garbage collections took 11% CPU time recently (threshold: 10%)\n",
      "2024-04-24 11:07:36,612 - distributed.utils_perf - WARNING - full garbage collections took 11% CPU time recently (threshold: 10%)\n",
      "2024-04-24 11:07:38,342 - distributed.utils_perf - WARNING - full garbage collections took 11% CPU time recently (threshold: 10%)\n",
      "2024-04-24 11:07:39,280 - distributed.utils_perf - WARNING - full garbage collections took 11% CPU time recently (threshold: 10%)\n",
      "2024-04-24 11:07:39,682 - distributed.utils_perf - WARNING - full garbage collections took 11% CPU time recently (threshold: 10%)\n",
      "2024-04-24 11:07:40,096 - distributed.utils_perf - WARNING - full garbage collections took 11% CPU time recently (threshold: 10%)\n",
      "2024-04-24 11:07:42,297 - distributed.utils_perf - WARNING - full garbage collections took 11% CPU time recently (threshold: 10%)\n",
      "2024-04-24 11:07:42,672 - distributed.utils_perf - WARNING - full garbage collections took 11% CPU time recently (threshold: 10%)\n",
      "2024-04-24 11:07:43,916 - distributed.utils_perf - WARNING - full garbage collections took 11% CPU time recently (threshold: 10%)\n",
      "2024-04-24 11:07:45,279 - distributed.utils_perf - WARNING - full garbage collections took 11% CPU time recently (threshold: 10%)\n",
      "2024-04-24 11:07:45,728 - distributed.utils_perf - WARNING - full garbage collections took 11% CPU time recently (threshold: 10%)\n",
      "2024-04-24 11:07:46,901 - distributed.utils_perf - WARNING - full garbage collections took 11% CPU time recently (threshold: 10%)\n",
      "2024-04-24 11:07:48,282 - distributed.utils_perf - WARNING - full garbage collections took 11% CPU time recently (threshold: 10%)\n",
      "2024-04-24 11:07:48,676 - distributed.utils_perf - WARNING - full garbage collections took 11% CPU time recently (threshold: 10%)\n",
      "2024-04-24 11:07:50,198 - distributed.utils_perf - WARNING - full garbage collections took 11% CPU time recently (threshold: 10%)\n",
      "2024-04-24 11:07:51,250 - distributed.utils_perf - WARNING - full garbage collections took 11% CPU time recently (threshold: 10%)\n",
      "2024-04-24 11:07:51,666 - distributed.utils_perf - WARNING - full garbage collections took 11% CPU time recently (threshold: 10%)\n",
      "2024-04-24 11:07:53,092 - distributed.utils_perf - WARNING - full garbage collections took 11% CPU time recently (threshold: 10%)\n",
      "2024-04-24 11:07:53,491 - distributed.utils_perf - WARNING - full garbage collections took 11% CPU time recently (threshold: 10%)\n",
      "2024-04-24 11:07:54,648 - distributed.utils_perf - WARNING - full garbage collections took 11% CPU time recently (threshold: 10%)\n",
      "2024-04-24 11:07:55,085 - distributed.utils_perf - WARNING - full garbage collections took 11% CPU time recently (threshold: 10%)\n",
      "2024-04-24 11:07:56,613 - distributed.utils_perf - WARNING - full garbage collections took 11% CPU time recently (threshold: 10%)\n",
      "2024-04-24 11:07:57,718 - distributed.utils_perf - WARNING - full garbage collections took 11% CPU time recently (threshold: 10%)\n",
      "2024-04-24 11:07:58,144 - distributed.utils_perf - WARNING - full garbage collections took 11% CPU time recently (threshold: 10%)\n",
      "2024-04-24 11:07:59,709 - distributed.utils_perf - WARNING - full garbage collections took 11% CPU time recently (threshold: 10%)\n",
      "2024-04-24 11:08:00,129 - distributed.utils_perf - WARNING - full garbage collections took 11% CPU time recently (threshold: 10%)\n",
      "2024-04-24 11:08:00,855 - distributed.utils_perf - WARNING - full garbage collections took 11% CPU time recently (threshold: 10%)\n",
      "2024-04-24 11:08:01,650 - distributed.utils_perf - WARNING - full garbage collections took 11% CPU time recently (threshold: 10%)\n",
      "2024-04-24 11:08:03,071 - distributed.utils_perf - WARNING - full garbage collections took 11% CPU time recently (threshold: 10%)\n",
      "2024-04-24 11:08:03,443 - distributed.utils_perf - WARNING - full garbage collections took 11% CPU time recently (threshold: 10%)\n",
      "2024-04-24 11:08:04,468 - distributed.utils_perf - WARNING - full garbage collections took 11% CPU time recently (threshold: 10%)\n",
      "2024-04-24 11:08:05,927 - distributed.utils_perf - WARNING - full garbage collections took 11% CPU time recently (threshold: 10%)\n",
      "2024-04-24 11:08:06,326 - distributed.utils_perf - WARNING - full garbage collections took 11% CPU time recently (threshold: 10%)\n",
      "2024-04-24 11:08:07,310 - distributed.utils_perf - WARNING - full garbage collections took 11% CPU time recently (threshold: 10%)\n",
      "2024-04-24 11:08:08,592 - distributed.utils_perf - WARNING - full garbage collections took 11% CPU time recently (threshold: 10%)\n",
      "2024-04-24 11:08:09,139 - distributed.utils_perf - WARNING - full garbage collections took 11% CPU time recently (threshold: 10%)\n",
      "2024-04-24 11:08:10,122 - distributed.utils_perf - WARNING - full garbage collections took 11% CPU time recently (threshold: 10%)\n",
      "2024-04-24 11:08:10,484 - distributed.utils_perf - WARNING - full garbage collections took 11% CPU time recently (threshold: 10%)\n",
      "2024-04-24 11:08:11,884 - distributed.utils_perf - WARNING - full garbage collections took 11% CPU time recently (threshold: 10%)\n",
      "2024-04-24 11:08:12,273 - distributed.utils_perf - WARNING - full garbage collections took 11% CPU time recently (threshold: 10%)\n",
      "2024-04-24 11:08:13,235 - distributed.utils_perf - WARNING - full garbage collections took 11% CPU time recently (threshold: 10%)\n",
      "2024-04-24 11:08:14,615 - distributed.utils_perf - WARNING - full garbage collections took 11% CPU time recently (threshold: 10%)\n",
      "2024-04-24 11:08:15,008 - distributed.utils_perf - WARNING - full garbage collections took 11% CPU time recently (threshold: 10%)\n",
      "2024-04-24 11:08:15,403 - distributed.utils_perf - WARNING - full garbage collections took 11% CPU time recently (threshold: 10%)\n",
      "2024-04-24 11:08:16,357 - distributed.utils_perf - WARNING - full garbage collections took 11% CPU time recently (threshold: 10%)\n",
      "2024-04-24 11:08:17,837 - distributed.utils_perf - WARNING - full garbage collections took 11% CPU time recently (threshold: 10%)\n",
      "2024-04-24 11:08:18,210 - distributed.utils_perf - WARNING - full garbage collections took 11% CPU time recently (threshold: 10%)\n",
      "2024-04-24 11:08:18,610 - distributed.utils_perf - WARNING - full garbage collections took 11% CPU time recently (threshold: 10%)\n",
      "2024-04-24 11:08:20,701 - distributed.utils_perf - WARNING - full garbage collections took 11% CPU time recently (threshold: 10%)\n",
      "2024-04-24 11:08:21,128 - distributed.utils_perf - WARNING - full garbage collections took 11% CPU time recently (threshold: 10%)\n",
      "2024-04-24 11:08:21,791 - distributed.utils_perf - WARNING - full garbage collections took 11% CPU time recently (threshold: 10%)\n",
      "2024-04-24 11:08:22,573 - distributed.utils_perf - WARNING - full garbage collections took 11% CPU time recently (threshold: 10%)\n",
      "2024-04-24 11:08:24,020 - distributed.utils_perf - WARNING - full garbage collections took 11% CPU time recently (threshold: 10%)\n",
      "2024-04-24 11:08:24,458 - distributed.utils_perf - WARNING - full garbage collections took 11% CPU time recently (threshold: 10%)\n",
      "2024-04-24 11:08:25,483 - distributed.utils_perf - WARNING - full garbage collections took 11% CPU time recently (threshold: 10%)\n",
      "2024-04-24 11:08:26,637 - distributed.utils_perf - WARNING - full garbage collections took 11% CPU time recently (threshold: 10%)\n",
      "2024-04-24 11:08:27,428 - distributed.utils_perf - WARNING - full garbage collections took 11% CPU time recently (threshold: 10%)\n",
      "2024-04-24 11:08:27,856 - distributed.utils_perf - WARNING - full garbage collections took 11% CPU time recently (threshold: 10%)\n",
      "2024-04-24 11:08:28,745 - distributed.utils_perf - WARNING - full garbage collections took 11% CPU time recently (threshold: 10%)\n",
      "2024-04-24 11:08:30,475 - distributed.utils_perf - WARNING - full garbage collections took 11% CPU time recently (threshold: 10%)\n",
      "2024-04-24 11:08:31,675 - distributed.utils_perf - WARNING - full garbage collections took 11% CPU time recently (threshold: 10%)\n",
      "2024-04-24 11:08:32,137 - distributed.utils_perf - WARNING - full garbage collections took 11% CPU time recently (threshold: 10%)\n",
      "2024-04-24 11:08:33,836 - distributed.utils_perf - WARNING - full garbage collections took 11% CPU time recently (threshold: 10%)\n",
      "2024-04-24 11:08:34,497 - distributed.utils_perf - WARNING - full garbage collections took 11% CPU time recently (threshold: 10%)\n",
      "2024-04-24 11:08:35,373 - distributed.utils_perf - WARNING - full garbage collections took 11% CPU time recently (threshold: 10%)\n",
      "2024-04-24 11:08:37,120 - distributed.utils_perf - WARNING - full garbage collections took 11% CPU time recently (threshold: 10%)\n",
      "2024-04-24 11:08:38,111 - distributed.utils_perf - WARNING - full garbage collections took 11% CPU time recently (threshold: 10%)\n",
      "2024-04-24 11:08:38,549 - distributed.utils_perf - WARNING - full garbage collections took 11% CPU time recently (threshold: 10%)\n",
      "2024-04-24 11:08:40,065 - distributed.utils_perf - WARNING - full garbage collections took 11% CPU time recently (threshold: 10%)\n",
      "2024-04-24 11:08:40,961 - distributed.utils_perf - WARNING - full garbage collections took 11% CPU time recently (threshold: 10%)\n",
      "2024-04-24 11:08:40,978 - distributed.utils_perf - WARNING - full garbage collections took 11% CPU time recently (threshold: 10%)\n",
      "2024-04-24 11:08:41,387 - distributed.utils_perf - WARNING - full garbage collections took 11% CPU time recently (threshold: 10%)\n",
      "2024-04-24 11:08:41,395 - distributed.utils_perf - WARNING - full garbage collections took 11% CPU time recently (threshold: 10%)\n",
      "2024-04-24 11:08:42,304 - distributed.utils_perf - WARNING - full garbage collections took 11% CPU time recently (threshold: 10%)\n",
      "2024-04-24 11:08:42,429 - distributed.utils_perf - WARNING - full garbage collections took 11% CPU time recently (threshold: 10%)\n",
      "2024-04-24 11:08:42,979 - distributed.utils_perf - WARNING - full garbage collections took 11% CPU time recently (threshold: 10%)\n",
      "2024-04-24 11:08:43,166 - distributed.utils_perf - WARNING - full garbage collections took 11% CPU time recently (threshold: 10%)\n",
      "2024-04-24 11:08:43,249 - INFO: - Training model...\n",
      "2024-04-24 11:08:43,258 - INFO: - start listen on 10.91.28.16:51311\n",
      "[11:08:43] task [xgboost.dask-0]:tcp://127.0.0.1:37143 got new rank 0\n",
      "[11:08:43] task [xgboost.dask-1]:tcp://127.0.0.1:44601 got new rank 1\n",
      "[11:08:43] task [xgboost.dask-2]:tcp://127.0.0.1:42719 got new rank 2\n",
      "2024-04-24 11:08:43,300 - INFO: - @tracker All of 3 nodes getting started\n",
      "2024-04-24 11:11:12,364 - INFO: - @tracker All nodes finishes job\n",
      "2024-04-24 11:11:12,709 - INFO: - Running model on test data...\n",
      "2024-04-24 11:11:17,960 - distributed.utils_perf - WARNING - full garbage collections took 11% CPU time recently (threshold: 10%)\n",
      "2024-04-24 11:11:17,990 - distributed.utils_perf - WARNING - full garbage collections took 11% CPU time recently (threshold: 10%)\n",
      "2024-04-24 11:11:18,833 - distributed.utils_perf - WARNING - full garbage collections took 11% CPU time recently (threshold: 10%)\n",
      "2024-04-24 11:11:28,249 - INFO: - Calculating metrics...\n",
      "2024-04-24 11:11:28,331 - INFO: - Calculating metrics...Completed\n"
     ]
    },
    {
     "name": "stdout",
     "output_type": "stream",
     "text": [
      "--------------------------------------------------------------------------------\n",
      " train_auc           :   0.97843\n",
      " train_logloss       :   0.24707\n",
      " val_auc             :   0.62254\n",
      " val_logloss         :   0.35020\n",
      " roc_auc             :   0.62257\n",
      " logloss             :   0.35020\n",
      " accuracy            :   0.88264\n",
      " bal_acc             :   0.00538\n",
      " top_k_acc           :   1.00000\n",
      " F1_score            :   0.01140\n",
      " map                 :   0.20353\n",
      " pearson_corr        :   0.17518\n",
      "--------------------------------------------------------------------------------\n",
      " CV Split 1 -  Training files: [0, 1, 2, 6, 7, 8, 9, 10, 11, 12, 13, 14]   Validation files: [3, 4, 5]  \n"
     ]
    },
    {
     "name": "stderr",
     "output_type": "stream",
     "text": [
      "2024-04-24 11:11:37,193 - INFO: - CrossValidation split #1\n",
      "2024-04-24 11:11:37,194 - INFO: - Building training & validation DMatrix...\n",
      "2024-04-24 11:12:51,621 - INFO: - Training model...\n",
      "2024-04-24 11:12:51,630 - INFO: - start listen on 10.91.28.16:50585\n",
      "[11:12:51] task [xgboost.dask-0]:tcp://127.0.0.1:37143 got new rank 0\n",
      "[11:12:51] task [xgboost.dask-1]:tcp://127.0.0.1:44601 got new rank 1\n",
      "[11:12:51] task [xgboost.dask-2]:tcp://127.0.0.1:42719 got new rank 2\n",
      "2024-04-24 11:12:51,674 - INFO: - @tracker All of 3 nodes getting started\n",
      "2024-04-24 11:16:09,104 - INFO: - @tracker All nodes finishes job\n",
      "2024-04-24 11:16:09,429 - INFO: - Running model on test data...\n",
      "2024-04-24 11:16:24,840 - INFO: - Calculating metrics...\n",
      "2024-04-24 11:16:24,930 - INFO: - Calculating metrics...Completed\n"
     ]
    },
    {
     "name": "stdout",
     "output_type": "stream",
     "text": [
      "--------------------------------------------------------------------------------\n",
      " train_auc           :   0.97754\n",
      " train_logloss       :   0.24842\n",
      " val_auc             :   0.62722\n",
      " val_logloss         :   0.34879\n",
      " roc_auc             :   0.62707\n",
      " logloss             :   0.34879\n",
      " accuracy            :   0.88287\n",
      " bal_acc             :   0.00779\n",
      " top_k_acc           :   1.00000\n",
      " F1_score            :   0.01735\n",
      " map                 :   0.20257\n",
      " pearson_corr        :   0.17573\n",
      "--------------------------------------------------------------------------------\n",
      " CV Split 2 -  Training files: [0, 1, 2, 3, 4, 5, 9, 10, 11, 12, 13, 14]   Validation files: [6, 7, 8]  \n"
     ]
    },
    {
     "name": "stderr",
     "output_type": "stream",
     "text": [
      "2024-04-24 11:16:34,233 - INFO: - CrossValidation split #2\n",
      "2024-04-24 11:16:34,234 - INFO: - Building training & validation DMatrix...\n",
      "2024-04-24 11:17:48,478 - INFO: - Training model...\n",
      "2024-04-24 11:17:48,487 - INFO: - start listen on 10.91.28.16:44427\n",
      "[11:17:48] task [xgboost.dask-0]:tcp://127.0.0.1:37143 got new rank 0\n",
      "[11:17:48] task [xgboost.dask-1]:tcp://127.0.0.1:44601 got new rank 1\n",
      "[11:17:48] task [xgboost.dask-2]:tcp://127.0.0.1:42719 got new rank 2\n",
      "2024-04-24 11:17:48,527 - INFO: - @tracker All of 3 nodes getting started\n",
      "2024-04-24 11:20:52,822 - INFO: - @tracker All nodes finishes job\n",
      "2024-04-24 11:20:53,121 - INFO: - Running model on test data...\n",
      "2024-04-24 11:21:08,985 - INFO: - Calculating metrics...\n",
      "2024-04-24 11:21:09,083 - INFO: - Calculating metrics...Completed\n"
     ]
    },
    {
     "name": "stdout",
     "output_type": "stream",
     "text": [
      "--------------------------------------------------------------------------------\n",
      " train_auc           :   0.97537\n",
      " train_logloss       :   0.25160\n",
      " val_auc             :   0.63544\n",
      " val_logloss         :   0.35453\n",
      " roc_auc             :   0.63527\n",
      " logloss             :   0.35453\n",
      " accuracy            :   0.87911\n",
      " bal_acc             :   0.00627\n",
      " top_k_acc           :   1.00000\n",
      " F1_score            :   0.01342\n",
      " map                 :   0.21982\n",
      " pearson_corr        :   0.19337\n",
      "--------------------------------------------------------------------------------\n",
      " CV Split 3 -  Training files: [0, 1, 2, 3, 4, 5, 6, 7, 8, 12, 13, 14]   Validation files: [9, 10, 11]  \n"
     ]
    },
    {
     "name": "stderr",
     "output_type": "stream",
     "text": [
      "2024-04-24 11:21:17,655 - INFO: - CrossValidation split #3\n",
      "2024-04-24 11:21:17,657 - INFO: - Building training & validation DMatrix...\n",
      "2024-04-24 11:22:33,640 - INFO: - Training model...\n",
      "2024-04-24 11:22:33,648 - INFO: - start listen on 10.91.28.16:58565\n",
      "[11:22:33] task [xgboost.dask-0]:tcp://127.0.0.1:37143 got new rank 0\n",
      "[11:22:33] task [xgboost.dask-1]:tcp://127.0.0.1:44601 got new rank 1\n",
      "[11:22:33] task [xgboost.dask-2]:tcp://127.0.0.1:42719 got new rank 2\n",
      "2024-04-24 11:22:33,687 - INFO: - @tracker All of 3 nodes getting started\n",
      "2024-04-24 11:25:47,990 - INFO: - @tracker All nodes finishes job\n",
      "2024-04-24 11:25:48,309 - INFO: - Running model on test data...\n",
      "2024-04-24 11:26:03,873 - INFO: - Calculating metrics...\n",
      "2024-04-24 11:26:03,965 - INFO: - Calculating metrics...Completed\n"
     ]
    },
    {
     "name": "stdout",
     "output_type": "stream",
     "text": [
      "--------------------------------------------------------------------------------\n",
      " train_auc           :   0.97748\n",
      " train_logloss       :   0.24800\n",
      " val_auc             :   0.62843\n",
      " val_logloss         :   0.35279\n",
      " roc_auc             :   0.62850\n",
      " logloss             :   0.35279\n",
      " accuracy            :   0.88089\n",
      " bal_acc             :   0.00594\n",
      " top_k_acc           :   1.00000\n",
      " F1_score            :   0.01300\n",
      " map                 :   0.20471\n",
      " pearson_corr        :   0.17590\n",
      "--------------------------------------------------------------------------------\n",
      " CV Split 4 -  Training files: [0, 1, 2, 3, 4, 5, 6, 7, 8, 9, 10, 11]   Validation files: [12, 13, 14]  \n"
     ]
    },
    {
     "name": "stderr",
     "output_type": "stream",
     "text": [
      "2024-04-24 11:26:12,887 - INFO: - CrossValidation split #4\n",
      "2024-04-24 11:26:12,889 - INFO: - Building training & validation DMatrix...\n",
      "2024-04-24 11:26:15,658 - distributed.utils_perf - WARNING - full garbage collections took 10% CPU time recently (threshold: 10%)\n",
      "2024-04-24 11:26:17,976 - distributed.utils_perf - WARNING - full garbage collections took 10% CPU time recently (threshold: 10%)\n",
      "2024-04-24 11:26:19,869 - distributed.utils_perf - WARNING - full garbage collections took 11% CPU time recently (threshold: 10%)\n",
      "2024-04-24 11:26:22,140 - distributed.utils_perf - WARNING - full garbage collections took 11% CPU time recently (threshold: 10%)\n",
      "2024-04-24 11:26:24,287 - distributed.utils_perf - WARNING - full garbage collections took 11% CPU time recently (threshold: 10%)\n",
      "2024-04-24 11:26:26,602 - distributed.utils_perf - WARNING - full garbage collections took 11% CPU time recently (threshold: 10%)\n",
      "2024-04-24 11:26:28,943 - distributed.utils_perf - WARNING - full garbage collections took 11% CPU time recently (threshold: 10%)\n",
      "2024-04-24 11:26:31,278 - distributed.utils_perf - WARNING - full garbage collections took 11% CPU time recently (threshold: 10%)\n",
      "2024-04-24 11:26:33,624 - distributed.utils_perf - WARNING - full garbage collections took 11% CPU time recently (threshold: 10%)\n",
      "2024-04-24 11:26:35,908 - distributed.utils_perf - WARNING - full garbage collections took 11% CPU time recently (threshold: 10%)\n",
      "2024-04-24 11:26:38,242 - distributed.utils_perf - WARNING - full garbage collections took 11% CPU time recently (threshold: 10%)\n",
      "2024-04-24 11:26:40,615 - distributed.utils_perf - WARNING - full garbage collections took 11% CPU time recently (threshold: 10%)\n",
      "2024-04-24 11:26:42,788 - distributed.utils_perf - WARNING - full garbage collections took 11% CPU time recently (threshold: 10%)\n",
      "2024-04-24 11:26:45,111 - distributed.utils_perf - WARNING - full garbage collections took 11% CPU time recently (threshold: 10%)\n",
      "2024-04-24 11:26:47,602 - distributed.utils_perf - WARNING - full garbage collections took 11% CPU time recently (threshold: 10%)\n",
      "2024-04-24 11:26:49,948 - distributed.utils_perf - WARNING - full garbage collections took 11% CPU time recently (threshold: 10%)\n",
      "2024-04-24 11:26:52,207 - distributed.utils_perf - WARNING - full garbage collections took 11% CPU time recently (threshold: 10%)\n",
      "2024-04-24 11:26:58,480 - distributed.utils_perf - WARNING - full garbage collections took 10% CPU time recently (threshold: 10%)\n",
      "2024-04-24 11:26:58,973 - distributed.utils_perf - WARNING - full garbage collections took 10% CPU time recently (threshold: 10%)\n",
      "2024-04-24 11:26:59,535 - distributed.utils_perf - WARNING - full garbage collections took 10% CPU time recently (threshold: 10%)\n",
      "2024-04-24 11:27:00,064 - distributed.utils_perf - WARNING - full garbage collections took 10% CPU time recently (threshold: 10%)\n",
      "2024-04-24 11:27:00,580 - distributed.utils_perf - WARNING - full garbage collections took 10% CPU time recently (threshold: 10%)\n",
      "2024-04-24 11:27:01,118 - distributed.utils_perf - WARNING - full garbage collections took 10% CPU time recently (threshold: 10%)\n",
      "2024-04-24 11:27:01,636 - distributed.utils_perf - WARNING - full garbage collections took 10% CPU time recently (threshold: 10%)\n",
      "2024-04-24 11:27:02,151 - distributed.utils_perf - WARNING - full garbage collections took 11% CPU time recently (threshold: 10%)\n",
      "2024-04-24 11:27:02,650 - distributed.utils_perf - WARNING - full garbage collections took 11% CPU time recently (threshold: 10%)\n",
      "2024-04-24 11:27:03,139 - distributed.utils_perf - WARNING - full garbage collections took 11% CPU time recently (threshold: 10%)\n",
      "2024-04-24 11:27:03,659 - distributed.utils_perf - WARNING - full garbage collections took 11% CPU time recently (threshold: 10%)\n",
      "2024-04-24 11:27:04,165 - distributed.utils_perf - WARNING - full garbage collections took 12% CPU time recently (threshold: 10%)\n",
      "2024-04-24 11:27:04,694 - distributed.utils_perf - WARNING - full garbage collections took 12% CPU time recently (threshold: 10%)\n",
      "2024-04-24 11:27:05,197 - distributed.utils_perf - WARNING - full garbage collections took 12% CPU time recently (threshold: 10%)\n",
      "2024-04-24 11:27:05,690 - distributed.utils_perf - WARNING - full garbage collections took 12% CPU time recently (threshold: 10%)\n",
      "2024-04-24 11:27:06,200 - distributed.utils_perf - WARNING - full garbage collections took 12% CPU time recently (threshold: 10%)\n",
      "2024-04-24 11:27:06,728 - distributed.utils_perf - WARNING - full garbage collections took 12% CPU time recently (threshold: 10%)\n",
      "2024-04-24 11:27:07,831 - distributed.utils_perf - WARNING - full garbage collections took 12% CPU time recently (threshold: 10%)\n",
      "2024-04-24 11:27:08,351 - distributed.utils_perf - WARNING - full garbage collections took 12% CPU time recently (threshold: 10%)\n",
      "2024-04-24 11:27:08,881 - distributed.utils_perf - WARNING - full garbage collections took 12% CPU time recently (threshold: 10%)\n",
      "2024-04-24 11:27:09,423 - distributed.utils_perf - WARNING - full garbage collections took 12% CPU time recently (threshold: 10%)\n",
      "2024-04-24 11:27:09,880 - distributed.utils_perf - WARNING - full garbage collections took 12% CPU time recently (threshold: 10%)\n",
      "2024-04-24 11:27:11,804 - distributed.utils_perf - WARNING - full garbage collections took 12% CPU time recently (threshold: 10%)\n",
      "2024-04-24 11:27:17,573 - distributed.utils_perf - WARNING - full garbage collections took 12% CPU time recently (threshold: 10%)\n",
      "2024-04-24 11:27:19,995 - distributed.utils_perf - WARNING - full garbage collections took 12% CPU time recently (threshold: 10%)\n",
      "2024-04-24 11:27:23,160 - distributed.utils_perf - WARNING - full garbage collections took 11% CPU time recently (threshold: 10%)\n",
      "2024-04-24 11:27:24,670 - distributed.utils_perf - WARNING - full garbage collections took 11% CPU time recently (threshold: 10%)\n",
      "2024-04-24 11:27:25,192 - distributed.utils_perf - WARNING - full garbage collections took 11% CPU time recently (threshold: 10%)\n",
      "2024-04-24 11:27:25,726 - distributed.utils_perf - WARNING - full garbage collections took 11% CPU time recently (threshold: 10%)\n",
      "2024-04-24 11:27:26,253 - distributed.utils_perf - WARNING - full garbage collections took 11% CPU time recently (threshold: 10%)\n",
      "2024-04-24 11:27:26,764 - distributed.utils_perf - WARNING - full garbage collections took 11% CPU time recently (threshold: 10%)\n",
      "2024-04-24 11:27:27,323 - distributed.utils_perf - WARNING - full garbage collections took 11% CPU time recently (threshold: 10%)\n",
      "2024-04-24 11:27:27,877 - distributed.utils_perf - WARNING - full garbage collections took 11% CPU time recently (threshold: 10%)\n",
      "2024-04-24 11:27:28,983 - distributed.utils_perf - WARNING - full garbage collections took 12% CPU time recently (threshold: 10%)\n",
      "2024-04-24 11:27:29,823 - distributed.utils_perf - WARNING - full garbage collections took 12% CPU time recently (threshold: 10%)\n",
      "2024-04-24 11:27:30,042 - INFO: - Training model...\n",
      "2024-04-24 11:27:30,056 - INFO: - start listen on 10.91.28.16:41135\n",
      "[11:27:30] task [xgboost.dask-0]:tcp://127.0.0.1:37143 got new rank 0\n",
      "[11:27:30] task [xgboost.dask-1]:tcp://127.0.0.1:44601 got new rank 1\n",
      "[11:27:30] task [xgboost.dask-2]:tcp://127.0.0.1:42719 got new rank 2\n",
      "2024-04-24 11:27:30,105 - INFO: - @tracker All of 3 nodes getting started\n",
      "2024-04-24 11:30:42,345 - INFO: - @tracker All nodes finishes job\n",
      "2024-04-24 11:30:42,682 - INFO: - Running model on test data...\n",
      "2024-04-24 11:30:48,490 - distributed.utils_perf - WARNING - full garbage collections took 12% CPU time recently (threshold: 10%)\n",
      "2024-04-24 11:30:50,812 - distributed.utils_perf - WARNING - full garbage collections took 12% CPU time recently (threshold: 10%)\n",
      "2024-04-24 11:30:53,173 - distributed.utils_perf - WARNING - full garbage collections took 12% CPU time recently (threshold: 10%)\n",
      "2024-04-24 11:30:55,491 - distributed.utils_perf - WARNING - full garbage collections took 12% CPU time recently (threshold: 10%)\n",
      "2024-04-24 11:30:55,967 - distributed.utils_perf - WARNING - full garbage collections took 12% CPU time recently (threshold: 10%)\n",
      "2024-04-24 11:30:56,529 - distributed.utils_perf - WARNING - full garbage collections took 12% CPU time recently (threshold: 10%)\n",
      "2024-04-24 11:30:58,013 - distributed.utils_perf - WARNING - full garbage collections took 12% CPU time recently (threshold: 10%)\n",
      "2024-04-24 11:30:58,392 - INFO: - Calculating metrics...\n",
      "2024-04-24 11:30:58,479 - INFO: - Calculating metrics...Completed\n"
     ]
    },
    {
     "name": "stdout",
     "output_type": "stream",
     "text": [
      "--------------------------------------------------------------------------------\n",
      " train_auc           :   0.97733\n",
      " train_logloss       :   0.24882\n",
      " val_auc             :   0.62842\n",
      " val_logloss         :   0.35583\n",
      " roc_auc             :   0.62837\n",
      " logloss             :   0.35583\n",
      " accuracy            :   0.87908\n",
      " bal_acc             :   0.00366\n",
      " top_k_acc           :   1.00000\n",
      " F1_score            :   0.00854\n",
      " map                 :   0.20808\n",
      " pearson_corr        :   0.17817\n",
      "--------------------------------------------------------------------------------\n",
      "--------------------------------------------------------------------------------\n",
      " train_auc                 0.97723 +/- 0.00101\n",
      " train_logloss             0.24878 +/- 0.00152\n",
      " val_auc                   0.62841 +/- 0.00413\n",
      " val_logloss               0.35243 +/- 0.00262\n",
      " roc_auc                   0.62836 +/- 0.00408\n",
      " logloss                   0.35243 +/- 0.00262\n",
      " accuracy                  0.88092 +/- 0.00164\n",
      " bal_acc                   0.00581 +/- 0.00134\n",
      " top_k_acc                 1.00000 +/- 0.00000\n",
      " F1_score                  0.01274 +/- 0.00287\n",
      " map                       0.20774 +/- 0.00632\n",
      " pearson_corr              0.17967 +/- 0.00693\n",
      "--------------------------------------------------------------------------------\n",
      " model best score    :  0.3555537672763774\n",
      " model best iteration:  262\n",
      " Save model to : ./saved_models/classification-3SampleStudy-Apr24_trial_009.json\n"
     ]
    },
    {
     "name": "stderr",
     "output_type": "stream",
     "text": [
      "[I 2024-04-24 11:30:58,779] Trial 9 finished with values: {'roc_auc': 0.6284121684126462, 'logloss': 0.35242719786596105} and parameters: {'learning_rate': 0.028438450576128264, 'min_split_loss': 0.8571213408681211, 'max_depth': 10, 'min_child_weight': 8.66783339115337, 'max_delta_step': 8.251511503793736, 'subsample': 0.7671210262230865, 'colsample_bylevel': 0.5644981249764368, 'colsample_bynode': 0.700592712163171}. \n"
     ]
    },
    {
     "name": "stdout",
     "output_type": "stream",
     "text": [
      "--------------------------------------------------------------------------------\n",
      " Training model (trial #10) \n",
      "--------------------------------------------------------------------------------\n",
      " Parameters:\n",
      "  booster                        gbtree\n",
      "  device                         gpu\n",
      "  verbosity                      0\n",
      "  disable_default_eval_metric    False\n",
      "  objective                      binary:logistic\n",
      "  eval_metric                    ['auc', 'logloss']\n",
      "  tree_method                    auto\n",
      "  learning_rate                  3.214811695174208\n",
      "  gamma                          8.456958109704582\n",
      "  max_depth                      2\n",
      "  min_child_weight               6.732749888857212\n",
      "  max_delta_step                 4.961893878697422\n",
      "  subsample                      0.41950139285270105\n",
      "  sampling_method                uniform\n",
      "  colsample_bytree               1.0\n",
      "  colsample_bylevel              0.6611178001280926\n",
      "  colsample_bynode               0.9584371861579395\n",
      "  lambda                         1\n",
      "  scale_pos_weight               1\n",
      "  max_leaves                     0\n",
      "  reg_lambda                     3.2267\n",
      " # bin files: 15   # of folds 5 -  (groups of 3 file tuples)\n",
      " CV Split 0 -  Training files: [3, 4, 5, 6, 7, 8, 9, 10, 11, 12, 13, 14]   Validation files: [0, 1, 2]  \n"
     ]
    },
    {
     "name": "stderr",
     "output_type": "stream",
     "text": [
      "2024-04-24 11:31:08,105 - INFO: - CrossValidation split #0\n",
      "2024-04-24 11:31:08,107 - INFO: - Building training & validation DMatrix...\n",
      "2024-04-24 11:31:10,753 - distributed.utils_perf - WARNING - full garbage collections took 12% CPU time recently (threshold: 10%)\n",
      "2024-04-24 11:31:11,084 - distributed.utils_perf - WARNING - full garbage collections took 12% CPU time recently (threshold: 10%)\n",
      "2024-04-24 11:31:11,425 - distributed.utils_perf - WARNING - full garbage collections took 12% CPU time recently (threshold: 10%)\n",
      "2024-04-24 11:32:22,011 - INFO: - Training model...\n",
      "2024-04-24 11:32:22,019 - INFO: - start listen on 10.91.28.16:52599\n",
      "[11:32:22] task [xgboost.dask-0]:tcp://127.0.0.1:37143 got new rank 0\n",
      "[11:32:22] task [xgboost.dask-1]:tcp://127.0.0.1:44601 got new rank 1\n",
      "[11:32:22] task [xgboost.dask-2]:tcp://127.0.0.1:42719 got new rank 2\n",
      "2024-04-24 11:32:22,057 - INFO: - @tracker All of 3 nodes getting started\n",
      "2024-04-24 11:32:29,415 - INFO: - @tracker All nodes finishes job\n",
      "2024-04-24 11:32:29,592 - INFO: - Running model on test data...\n",
      "2024-04-24 11:32:44,506 - INFO: - Calculating metrics...\n",
      "2024-04-24 11:32:44,580 - INFO: - Calculating metrics...Completed\n"
     ]
    },
    {
     "name": "stdout",
     "output_type": "stream",
     "text": [
      "--------------------------------------------------------------------------------\n",
      " train_auc           :   0.48957\n",
      " train_logloss       :   1.72353\n",
      " val_auc             :   0.48660\n",
      " val_logloss         :   1.71108\n",
      " roc_auc             :   0.48666\n",
      " logloss             :   1.54900\n",
      " accuracy            :   0.86245\n",
      " bal_acc             :   0.03277\n",
      " top_k_acc           :   1.00000\n",
      " F1_score            :   0.09840\n",
      " map                 :   0.12116\n",
      " pearson_corr        :   0.05948\n",
      "--------------------------------------------------------------------------------\n",
      " CV Split 1 -  Training files: [0, 1, 2, 6, 7, 8, 9, 10, 11, 12, 13, 14]   Validation files: [3, 4, 5]  \n"
     ]
    },
    {
     "name": "stderr",
     "output_type": "stream",
     "text": [
      "2024-04-24 11:32:53,241 - INFO: - CrossValidation split #1\n",
      "2024-04-24 11:32:53,242 - INFO: - Building training & validation DMatrix...\n",
      "2024-04-24 11:34:07,889 - INFO: - Training model...\n",
      "2024-04-24 11:34:07,900 - INFO: - start listen on 10.91.28.16:51959\n",
      "[11:34:07] task [xgboost.dask-0]:tcp://127.0.0.1:37143 got new rank 0\n",
      "[11:34:07] task [xgboost.dask-1]:tcp://127.0.0.1:44601 got new rank 1\n",
      "[11:34:07] task [xgboost.dask-2]:tcp://127.0.0.1:42719 got new rank 2\n",
      "2024-04-24 11:34:07,940 - INFO: - @tracker All of 3 nodes getting started\n",
      "2024-04-24 11:34:15,224 - INFO: - @tracker All nodes finishes job\n",
      "2024-04-24 11:34:15,420 - INFO: - Running model on test data...\n",
      "2024-04-24 11:34:30,922 - INFO: - Calculating metrics...\n",
      "2024-04-24 11:34:30,992 - INFO: - Calculating metrics...Completed\n"
     ]
    },
    {
     "name": "stdout",
     "output_type": "stream",
     "text": [
      "--------------------------------------------------------------------------------\n",
      " train_auc           :   0.49344\n",
      " train_logloss       :   1.54813\n",
      " val_auc             :   0.49895\n",
      " val_logloss         :   1.52545\n",
      " roc_auc             :   0.49969\n",
      " logloss             :   1.33249\n",
      " accuracy            :   0.86223\n",
      " bal_acc             :   0.04195\n",
      " top_k_acc           :   1.00000\n",
      " F1_score            :   0.11344\n",
      " map                 :   0.12495\n",
      " pearson_corr        :   0.07104\n",
      "--------------------------------------------------------------------------------\n",
      " CV Split 2 -  Training files: [0, 1, 2, 3, 4, 5, 9, 10, 11, 12, 13, 14]   Validation files: [6, 7, 8]  \n"
     ]
    },
    {
     "name": "stderr",
     "output_type": "stream",
     "text": [
      "2024-04-24 11:34:39,768 - INFO: - CrossValidation split #2\n",
      "2024-04-24 11:34:39,769 - INFO: - Building training & validation DMatrix...\n",
      "2024-04-24 11:35:54,965 - INFO: - Training model...\n",
      "2024-04-24 11:35:54,974 - INFO: - start listen on 10.91.28.16:37087\n",
      "[11:35:55] task [xgboost.dask-0]:tcp://127.0.0.1:37143 got new rank 0\n",
      "[11:35:55] task [xgboost.dask-1]:tcp://127.0.0.1:44601 got new rank 1\n",
      "[11:35:55] task [xgboost.dask-2]:tcp://127.0.0.1:42719 got new rank 2\n",
      "2024-04-24 11:35:55,016 - INFO: - @tracker All of 3 nodes getting started\n",
      "2024-04-24 11:36:02,495 - INFO: - @tracker All nodes finishes job\n",
      "2024-04-24 11:36:02,668 - INFO: - Running model on test data...\n",
      "2024-04-24 11:36:18,012 - INFO: - Calculating metrics...\n",
      "2024-04-24 11:36:18,080 - INFO: - Calculating metrics...Completed\n"
     ]
    },
    {
     "name": "stdout",
     "output_type": "stream",
     "text": [
      "--------------------------------------------------------------------------------\n",
      " train_auc           :   0.49478\n",
      " train_logloss       :   1.56913\n",
      " val_auc             :   0.49690\n",
      " val_logloss         :   1.59600\n",
      " roc_auc             :   0.49691\n",
      " logloss             :   1.38756\n",
      " accuracy            :   0.84854\n",
      " bal_acc             :   0.04282\n",
      " top_k_acc           :   1.00000\n",
      " F1_score            :   0.12539\n",
      " map                 :   0.12829\n",
      " pearson_corr        :   0.06486\n",
      "--------------------------------------------------------------------------------\n",
      " CV Split 3 -  Training files: [0, 1, 2, 3, 4, 5, 6, 7, 8, 12, 13, 14]   Validation files: [9, 10, 11]  \n"
     ]
    },
    {
     "name": "stderr",
     "output_type": "stream",
     "text": [
      "2024-04-24 11:36:25,905 - INFO: - CrossValidation split #3\n",
      "2024-04-24 11:36:25,907 - INFO: - Building training & validation DMatrix...\n",
      "2024-04-24 11:37:20,597 - distributed.utils_perf - WARNING - full garbage collections took 10% CPU time recently (threshold: 10%)\n",
      "2024-04-24 11:37:21,219 - distributed.utils_perf - WARNING - full garbage collections took 10% CPU time recently (threshold: 10%)\n",
      "2024-04-24 11:37:22,033 - distributed.utils_perf - WARNING - full garbage collections took 10% CPU time recently (threshold: 10%)\n",
      "2024-04-24 11:37:22,599 - distributed.utils_perf - WARNING - full garbage collections took 10% CPU time recently (threshold: 10%)\n",
      "2024-04-24 11:37:23,166 - distributed.utils_perf - WARNING - full garbage collections took 10% CPU time recently (threshold: 10%)\n",
      "2024-04-24 11:37:24,114 - distributed.utils_perf - WARNING - full garbage collections took 10% CPU time recently (threshold: 10%)\n",
      "2024-04-24 11:37:24,667 - distributed.utils_perf - WARNING - full garbage collections took 10% CPU time recently (threshold: 10%)\n",
      "2024-04-24 11:37:25,347 - distributed.utils_perf - WARNING - full garbage collections took 10% CPU time recently (threshold: 10%)\n",
      "2024-04-24 11:37:26,034 - distributed.utils_perf - WARNING - full garbage collections took 10% CPU time recently (threshold: 10%)\n",
      "2024-04-24 11:37:29,440 - distributed.utils_perf - WARNING - full garbage collections took 10% CPU time recently (threshold: 10%)\n",
      "2024-04-24 11:37:31,845 - distributed.utils_perf - WARNING - full garbage collections took 10% CPU time recently (threshold: 10%)\n",
      "2024-04-24 11:37:34,206 - distributed.utils_perf - WARNING - full garbage collections took 10% CPU time recently (threshold: 10%)\n",
      "2024-04-24 11:37:35,652 - distributed.utils_perf - WARNING - full garbage collections took 10% CPU time recently (threshold: 10%)\n",
      "2024-04-24 11:37:38,091 - distributed.utils_perf - WARNING - full garbage collections took 10% CPU time recently (threshold: 10%)\n",
      "2024-04-24 11:37:38,607 - distributed.utils_perf - WARNING - full garbage collections took 10% CPU time recently (threshold: 10%)\n",
      "2024-04-24 11:37:39,130 - distributed.utils_perf - WARNING - full garbage collections took 10% CPU time recently (threshold: 10%)\n",
      "2024-04-24 11:37:43,646 - INFO: - Training model...\n",
      "2024-04-24 11:37:43,653 - INFO: - start listen on 10.91.28.16:51781\n",
      "[11:37:43] task [xgboost.dask-0]:tcp://127.0.0.1:37143 got new rank 0\n",
      "[11:37:43] task [xgboost.dask-1]:tcp://127.0.0.1:44601 got new rank 1\n",
      "[11:37:43] task [xgboost.dask-2]:tcp://127.0.0.1:42719 got new rank 2\n",
      "2024-04-24 11:37:43,696 - INFO: - @tracker All of 3 nodes getting started\n",
      "2024-04-24 11:37:50,950 - INFO: - @tracker All nodes finishes job\n",
      "2024-04-24 11:37:51,125 - INFO: - Running model on test data...\n",
      "2024-04-24 11:38:06,359 - INFO: - Calculating metrics...\n",
      "2024-04-24 11:38:06,429 - INFO: - Calculating metrics...Completed\n"
     ]
    },
    {
     "name": "stdout",
     "output_type": "stream",
     "text": [
      "--------------------------------------------------------------------------------\n",
      " train_auc           :   0.49579\n",
      " train_logloss       :   1.50224\n",
      " val_auc             :   0.50294\n",
      " val_logloss         :   1.48173\n",
      " roc_auc             :   0.50314\n",
      " logloss             :   1.36926\n",
      " accuracy            :   0.85931\n",
      " bal_acc             :   0.04805\n",
      " top_k_acc           :   1.00000\n",
      " F1_score            :   0.12425\n",
      " map                 :   0.12785\n",
      " pearson_corr        :   0.07808\n",
      "--------------------------------------------------------------------------------\n",
      " CV Split 4 -  Training files: [0, 1, 2, 3, 4, 5, 6, 7, 8, 9, 10, 11]   Validation files: [12, 13, 14]  \n"
     ]
    },
    {
     "name": "stderr",
     "output_type": "stream",
     "text": [
      "2024-04-24 11:38:14,364 - INFO: - CrossValidation split #4\n",
      "2024-04-24 11:38:14,365 - INFO: - Building training & validation DMatrix...\n",
      "2024-04-24 11:39:30,211 - INFO: - Training model...\n",
      "2024-04-24 11:39:30,228 - INFO: - start listen on 10.91.28.16:43631\n",
      "[11:39:30] task [xgboost.dask-0]:tcp://127.0.0.1:37143 got new rank 0\n",
      "[11:39:30] task [xgboost.dask-1]:tcp://127.0.0.1:44601 got new rank 1\n",
      "[11:39:30] task [xgboost.dask-2]:tcp://127.0.0.1:42719 got new rank 2\n",
      "2024-04-24 11:39:30,265 - INFO: - @tracker All of 3 nodes getting started\n",
      "2024-04-24 11:39:37,583 - INFO: - @tracker All nodes finishes job\n",
      "2024-04-24 11:39:37,766 - INFO: - Running model on test data...\n",
      "2024-04-24 11:39:53,139 - INFO: - Calculating metrics...\n",
      "2024-04-24 11:39:53,214 - INFO: - Calculating metrics...Completed\n",
      "[I 2024-04-24 11:39:53,282] Trial 10 finished with values: {'roc_auc': 0.49384734774162753, 'logloss': 1.5593299686218403} and parameters: {'learning_rate': 3.214811695174208, 'min_split_loss': 8.456958109704582, 'max_depth': 2, 'min_child_weight': 6.732749888857212, 'max_delta_step': 4.961893878697422, 'subsample': 0.41950139285270105, 'colsample_bylevel': 0.6611178001280926, 'colsample_bynode': 0.9584371861579395}. \n"
     ]
    },
    {
     "name": "stdout",
     "output_type": "stream",
     "text": [
      "--------------------------------------------------------------------------------\n",
      " train_auc           :   0.49214\n",
      " train_logloss       :   1.45581\n",
      " val_auc             :   0.48384\n",
      " val_logloss         :   1.48240\n",
      " roc_auc             :   0.48363\n",
      " logloss             :   1.32032\n",
      " accuracy            :   0.86447\n",
      " bal_acc             :   0.03436\n",
      " top_k_acc           :   1.00000\n",
      " F1_score            :   0.09546\n",
      " map                 :   0.12478\n",
      " pearson_corr        :   0.06684\n",
      "--------------------------------------------------------------------------------\n",
      "--------------------------------------------------------------------------------\n",
      " train_auc                 0.49314 +/- 0.00217\n",
      " train_logloss             1.55977 +/- 0.09073\n",
      " val_auc                   0.49385 +/- 0.00736\n",
      " val_logloss               1.55933 +/- 0.08656\n",
      " roc_auc                   0.49401 +/- 0.00756\n",
      " logloss                   1.39173 +/- 0.08230\n",
      " accuracy                  0.85940 +/- 0.00567\n",
      " bal_acc                   0.03999 +/- 0.00567\n",
      " top_k_acc                 1.00000 +/- 0.00000\n",
      " F1_score                  0.11139 +/- 0.01255\n",
      " map                       0.12541 +/- 0.00257\n",
      " pearson_corr              0.06806 +/- 0.00624\n",
      "--------------------------------------------------------------------------------\n",
      " model best score    :  0.404045606265308\n",
      " model best iteration:  0\n",
      " Save model to : ./saved_models/classification-3SampleStudy-Apr24_trial_010.json\n",
      "--------------------------------------------------------------------------------\n",
      " Training model (trial #11) \n",
      "--------------------------------------------------------------------------------\n",
      " Parameters:\n",
      "  booster                        gbtree\n",
      "  device                         gpu\n",
      "  verbosity                      0\n",
      "  disable_default_eval_metric    False\n",
      "  objective                      binary:logistic\n",
      "  eval_metric                    ['auc', 'logloss']\n",
      "  tree_method                    auto\n",
      "  learning_rate                  6.941348807217057\n",
      "  gamma                          0.5986521298965708\n",
      "  max_depth                      1\n",
      "  min_child_weight               4.2968727326413845\n",
      "  max_delta_step                 9.963724099319727\n",
      "  subsample                      0.5792972211573786\n",
      "  sampling_method                uniform\n",
      "  colsample_bytree               1.0\n",
      "  colsample_bylevel              0.5134150431133861\n",
      "  colsample_bynode               0.8042510844135372\n",
      "  lambda                         1\n",
      "  scale_pos_weight               1\n",
      "  max_leaves                     0\n",
      "  reg_lambda                     3.2267\n",
      " # bin files: 15   # of folds 5 -  (groups of 3 file tuples)\n",
      " CV Split 0 -  Training files: [3, 4, 5, 6, 7, 8, 9, 10, 11, 12, 13, 14]   Validation files: [0, 1, 2]  \n"
     ]
    },
    {
     "name": "stderr",
     "output_type": "stream",
     "text": [
      "2024-04-24 11:40:02,091 - INFO: - CrossValidation split #0\n",
      "2024-04-24 11:40:02,093 - INFO: - Building training & validation DMatrix...\n",
      "2024-04-24 11:41:18,084 - INFO: - Training model...\n",
      "2024-04-24 11:41:18,091 - INFO: - start listen on 10.91.28.16:40207\n",
      "[11:41:18] task [xgboost.dask-0]:tcp://127.0.0.1:37143 got new rank 0\n",
      "[11:41:18] task [xgboost.dask-1]:tcp://127.0.0.1:44601 got new rank 1\n",
      "[11:41:18] task [xgboost.dask-2]:tcp://127.0.0.1:42719 got new rank 2\n",
      "2024-04-24 11:41:18,130 - INFO: - @tracker All of 3 nodes getting started\n",
      "2024-04-24 11:41:24,930 - INFO: - @tracker All nodes finishes job\n",
      "2024-04-24 11:41:25,109 - INFO: - Running model on test data...\n",
      "2024-04-24 11:41:40,375 - INFO: - Calculating metrics...\n",
      "2024-04-24 11:41:40,441 - INFO: - Calculating metrics...Completed\n"
     ]
    },
    {
     "name": "stdout",
     "output_type": "stream",
     "text": [
      "--------------------------------------------------------------------------------\n",
      " train_auc           :   0.48181\n",
      " train_logloss       :  31.49654\n",
      " val_auc             :   0.48182\n",
      " val_logloss         :  31.55053\n",
      " roc_auc             :   0.48195\n",
      " logloss             :  13.66147\n",
      " accuracy            :   0.14307\n",
      " bal_acc             :  -0.03659\n",
      " top_k_acc           :   1.00000\n",
      " F1_score            :   0.20256\n",
      " map                 :   0.11403\n",
      " pearson_corr        :  -0.05805\n",
      "--------------------------------------------------------------------------------\n",
      " CV Split 1 -  Training files: [0, 1, 2, 6, 7, 8, 9, 10, 11, 12, 13, 14]   Validation files: [3, 4, 5]  \n"
     ]
    },
    {
     "name": "stderr",
     "output_type": "stream",
     "text": [
      "2024-04-24 11:41:49,155 - INFO: - CrossValidation split #1\n",
      "2024-04-24 11:41:49,156 - INFO: - Building training & validation DMatrix...\n",
      "2024-04-24 11:43:04,795 - INFO: - Training model...\n",
      "2024-04-24 11:43:04,801 - INFO: - start listen on 10.91.28.16:33577\n",
      "[11:43:04] task [xgboost.dask-0]:tcp://127.0.0.1:37143 got new rank 0\n",
      "[11:43:04] task [xgboost.dask-1]:tcp://127.0.0.1:44601 got new rank 1\n",
      "[11:43:04] task [xgboost.dask-2]:tcp://127.0.0.1:42719 got new rank 2\n",
      "2024-04-24 11:43:04,837 - INFO: - @tracker All of 3 nodes getting started\n",
      "2024-04-24 11:43:11,900 - INFO: - @tracker All nodes finishes job\n",
      "2024-04-24 11:43:12,072 - INFO: - Running model on test data...\n",
      "2024-04-24 11:43:27,061 - INFO: - Calculating metrics...\n",
      "2024-04-24 11:43:27,130 - INFO: - Calculating metrics...Completed\n"
     ]
    },
    {
     "name": "stdout",
     "output_type": "stream",
     "text": [
      "--------------------------------------------------------------------------------\n",
      " train_auc           :   0.48199\n",
      " train_logloss       :  31.46715\n",
      " val_auc             :   0.48108\n",
      " val_logloss         :  31.51916\n",
      " roc_auc             :   0.48105\n",
      " logloss             :  13.65914\n",
      " accuracy            :   0.14322\n",
      " bal_acc             :  -0.03863\n",
      " top_k_acc           :   1.00000\n",
      " F1_score            :   0.20143\n",
      " map                 :   0.11343\n",
      " pearson_corr        :  -0.06036\n",
      "--------------------------------------------------------------------------------\n",
      " CV Split 2 -  Training files: [0, 1, 2, 3, 4, 5, 9, 10, 11, 12, 13, 14]   Validation files: [6, 7, 8]  \n"
     ]
    },
    {
     "name": "stderr",
     "output_type": "stream",
     "text": [
      "2024-04-24 11:43:35,946 - INFO: - CrossValidation split #2\n",
      "2024-04-24 11:43:35,947 - INFO: - Building training & validation DMatrix...\n",
      "2024-04-24 11:44:51,432 - INFO: - Training model...\n",
      "2024-04-24 11:44:51,441 - INFO: - start listen on 10.91.28.16:53999\n",
      "[11:44:51] task [xgboost.dask-0]:tcp://127.0.0.1:37143 got new rank 0\n",
      "[11:44:51] task [xgboost.dask-1]:tcp://127.0.0.1:44601 got new rank 1\n",
      "[11:44:51] task [xgboost.dask-2]:tcp://127.0.0.1:42719 got new rank 2\n",
      "2024-04-24 11:44:51,479 - INFO: - @tracker All of 3 nodes getting started\n",
      "2024-04-24 11:44:58,424 - INFO: - @tracker All nodes finishes job\n",
      "2024-04-24 11:44:58,598 - INFO: - Running model on test data...\n",
      "2024-04-24 11:45:13,708 - INFO: - Calculating metrics...\n",
      "2024-04-24 11:45:13,779 - INFO: - Calculating metrics...Completed\n"
     ]
    },
    {
     "name": "stdout",
     "output_type": "stream",
     "text": [
      "--------------------------------------------------------------------------------\n",
      " train_auc           :   0.48236\n",
      " train_logloss       :  31.42841\n",
      " val_auc             :   0.47975\n",
      " val_logloss         :  31.38932\n",
      " roc_auc             :   0.47973\n",
      " logloss             :  13.63286\n",
      " accuracy            :   0.14487\n",
      " bal_acc             :  -0.04117\n",
      " top_k_acc           :   1.00000\n",
      " F1_score            :   0.20712\n",
      " map                 :   0.11705\n",
      " pearson_corr        :  -0.06643\n",
      "--------------------------------------------------------------------------------\n",
      " CV Split 3 -  Training files: [0, 1, 2, 3, 4, 5, 6, 7, 8, 12, 13, 14]   Validation files: [9, 10, 11]  \n"
     ]
    },
    {
     "name": "stderr",
     "output_type": "stream",
     "text": [
      "2024-04-24 11:45:21,629 - INFO: - CrossValidation split #3\n",
      "2024-04-24 11:45:21,632 - INFO: - Building training & validation DMatrix...\n",
      "2024-04-24 11:46:37,550 - INFO: - Training model...\n",
      "2024-04-24 11:46:37,558 - INFO: - start listen on 10.91.28.16:43669\n",
      "[11:46:37] task [xgboost.dask-0]:tcp://127.0.0.1:37143 got new rank 0\n",
      "[11:46:37] task [xgboost.dask-1]:tcp://127.0.0.1:44601 got new rank 1\n",
      "[11:46:37] task [xgboost.dask-2]:tcp://127.0.0.1:42719 got new rank 2\n",
      "2024-04-24 11:46:37,594 - INFO: - @tracker All of 3 nodes getting started\n",
      "2024-04-24 11:46:44,576 - INFO: - @tracker All nodes finishes job\n",
      "2024-04-24 11:46:44,710 - INFO: - Running model on test data...\n",
      "2024-04-24 11:47:00,136 - INFO: - Calculating metrics...\n",
      "2024-04-24 11:47:00,211 - INFO: - Calculating metrics...Completed\n"
     ]
    },
    {
     "name": "stdout",
     "output_type": "stream",
     "text": [
      "--------------------------------------------------------------------------------\n",
      " train_auc           :   0.48211\n",
      " train_logloss       :  31.40366\n",
      " val_auc             :   0.48023\n",
      " val_logloss         :  31.47017\n",
      " roc_auc             :   0.48023\n",
      " logloss             :  13.66910\n",
      " accuracy            :   0.14259\n",
      " bal_acc             :  -0.04010\n",
      " top_k_acc           :   1.00000\n",
      " F1_score            :   0.20443\n",
      " map                 :   0.11528\n",
      " pearson_corr        :  -0.06509\n",
      "--------------------------------------------------------------------------------\n",
      " CV Split 4 -  Training files: [0, 1, 2, 3, 4, 5, 6, 7, 8, 9, 10, 11]   Validation files: [12, 13, 14]  \n"
     ]
    },
    {
     "name": "stderr",
     "output_type": "stream",
     "text": [
      "2024-04-24 11:47:08,178 - INFO: - CrossValidation split #4\n",
      "2024-04-24 11:47:08,180 - INFO: - Building training & validation DMatrix...\n",
      "2024-04-24 11:48:24,441 - INFO: - Training model...\n",
      "2024-04-24 11:48:24,451 - INFO: - start listen on 10.91.28.16:60995\n",
      "[11:48:24] task [xgboost.dask-0]:tcp://127.0.0.1:37143 got new rank 0\n",
      "[11:48:24] task [xgboost.dask-1]:tcp://127.0.0.1:44601 got new rank 1\n",
      "[11:48:24] task [xgboost.dask-2]:tcp://127.0.0.1:42719 got new rank 2\n",
      "2024-04-24 11:48:24,490 - INFO: - @tracker All of 3 nodes getting started\n",
      "2024-04-24 11:48:31,385 - INFO: - @tracker All nodes finishes job\n",
      "2024-04-24 11:48:31,572 - INFO: - Running model on test data...\n",
      "2024-04-24 11:48:47,244 - INFO: - Calculating metrics...\n",
      "2024-04-24 11:48:47,313 - INFO: - Calculating metrics...Completed\n",
      "[I 2024-04-24 11:48:47,399] Trial 11 finished with values: {'roc_auc': 0.4817748388569691, 'logloss': 31.46756617056883} and parameters: {'learning_rate': 6.941348807217057, 'min_split_loss': 0.5986521298965708, 'max_depth': 1, 'min_child_weight': 4.2968727326413845, 'max_delta_step': 9.963724099319727, 'subsample': 0.5792972211573786, 'colsample_bylevel': 0.5134150431133861, 'colsample_bynode': 0.8042510844135372}. \n"
     ]
    },
    {
     "name": "stdout",
     "output_type": "stream",
     "text": [
      "--------------------------------------------------------------------------------\n",
      " train_auc           :   0.48074\n",
      " train_logloss       :  31.55830\n",
      " val_auc             :   0.48599\n",
      " val_logloss         :  31.40865\n",
      " roc_auc             :   0.48600\n",
      " logloss             :  13.59148\n",
      " accuracy            :   0.14746\n",
      " bal_acc             :  -0.02844\n",
      " top_k_acc           :   1.00000\n",
      " F1_score            :   0.20903\n",
      " map                 :   0.11794\n",
      " pearson_corr        :  -0.04568\n",
      "--------------------------------------------------------------------------------\n",
      "--------------------------------------------------------------------------------\n",
      " train_auc                 0.48180 +/- 0.00056\n",
      " train_logloss            31.47081 +/- 0.05410\n",
      " val_auc                   0.48177 +/- 0.00223\n",
      " val_logloss              31.46757 +/- 0.06188\n",
      " roc_auc                   0.48179 +/- 0.00224\n",
      " logloss                  13.64281 +/- 0.02842\n",
      " accuracy                  0.14424 +/- 0.00178\n",
      " bal_acc                  -0.03698 +/- 0.00454\n",
      " top_k_acc                 1.00000 +/- 0.00000\n",
      " F1_score                  0.20491 +/- 0.00282\n",
      " map                       0.11555 +/- 0.00172\n",
      " pearson_corr             -0.05912 +/- 0.00738\n",
      "--------------------------------------------------------------------------------\n",
      " model best score    :  0.5933144808005189\n",
      " model best iteration:  0\n",
      " Save model to : ./saved_models/classification-3SampleStudy-Apr24_trial_011.json\n",
      "Total time:  0:51:42.150146\n"
     ]
    }
   ],
   "source": [
    "start = datetime.now()\n",
    "\n",
    "study.optimize(objective, n_trials=4, timeout=3600*7, gc_after_trial=True, show_progress_bar=False)\n",
    "\n",
    "print(f\"Total time:  {datetime.now() - start}\")"
   ]
  },
  {
   "cell_type": "markdown",
   "metadata": {
    "jp-MarkdownHeadingCollapsed": true
   },
   "source": [
    "## Enqueue a previous trial and rerun "
   ]
  },
  {
   "cell_type": "code",
   "execution_count": 27,
   "metadata": {
    "execution": {
     "iopub.execute_input": "2024-04-23T16:04:04.627279Z",
     "iopub.status.busy": "2024-04-23T16:04:04.625097Z",
     "iopub.status.idle": "2024-04-23T16:04:04.723214Z",
     "shell.execute_reply": "2024-04-23T16:04:04.722430Z",
     "shell.execute_reply.started": "2024-04-23T16:04:04.627196Z"
    }
   },
   "outputs": [
    {
     "name": "stdout",
     "output_type": "stream",
     "text": [
      " classification-study-Apr24  study history\n",
      "\n",
      "                start     -   completion      status        validation metrics\n",
      " trial#         time      -      time          code      roc_auc        logloss\n",
      "--------------------------------------------------------------------------------\n",
      "Trial #: 0    2024-04-22   20:20:06 - 20:24:06    3          *** FAILED ***        \n",
      "Trial #: 1    2024-04-22   20:31:37 - 20:34:09    3          *** FAILED ***        \n",
      "Trial #: 2    2024-04-22   20:38:23 - 20:54:04    3          *** FAILED ***        \n",
      "Trial #: 3    2024-04-22   21:08:09 - 21:20:12    1      0.53267        0.49278    \n",
      "Trial #: 4    2024-04-22   21:25:13 - 21:40:33    1      0.53381        3.78331    \n",
      "Trial #: 5    2024-04-22   21:40:34 - 21:53:39    1      0.53279        5.08449    \n",
      "Trial #: 6    2024-04-22   21:53:40 - 22:09:39    1      0.58643        0.37186    \n",
      "Trial #: 7    2024-04-22   22:09:40 - 22:26:56    1      0.62119        0.35337    \n",
      "Trial #: 8    2024-04-22   22:26:57 - 22:44:35    1      0.62182        0.35324    \n",
      "Trial #: 9    2024-04-22   22:44:36 - 22:56:00    3          *** FAILED ***        \n",
      "Trial #: 10   2024-04-23   11:35:41 - 12:07:48    3          *** FAILED ***        rerun of trial 9\n",
      "Trial #: 11   2024-04-23   12:36:41 - 12:52:27    1      0.60045        0.36118    rerun of trial 9\n",
      "Trial #: 12   2024-04-23   12:52:28 - 13:04:50    1      0.57149        0.39997    \n",
      "Trial #: 13   2024-04-23   13:04:51 - 13:18:38    1      0.61681        0.35456    \n",
      "Trial #: 14   2024-04-23   13:18:39 - 13:29:53    1      0.59330        0.36208    \n",
      "Trial #: 15   2024-04-23   13:46:19 - 14:15:46    1      0.62612        0.35255    \n",
      "Trial #: 16   2024-04-23   14:15:47 - 14:48:30    1      0.62626        0.35253    \n",
      "Trial #: 17   2024-04-23   14:48:30 - 15:23:22    1      0.62527        0.35264    \n",
      "Trial #: 18   2024-04-23   15:23:23 - 15:26:07    3          *** FAILED ***        \n",
      "Trial #: 19   2024-04-23   16:52:17 - 17:29:05    1      0.62481        0.35267    rerun of trial 18\n",
      "Trial #: 20   2024-04-23   17:29:06 - 17:43:30    1      0.56144        0.47660    \n",
      " *** end of trials *** \n",
      " Best trials:  [16]\n"
     ]
    }
   ],
   "source": [
    "disp_study_history(study)"
   ]
  },
  {
   "cell_type": "code",
   "execution_count": 39,
   "metadata": {
    "execution": {
     "iopub.execute_input": "2024-04-23T11:46:13.273655Z",
     "iopub.status.busy": "2024-04-23T11:46:13.272901Z",
     "iopub.status.idle": "2024-04-23T11:46:13.324800Z",
     "shell.execute_reply": "2024-04-23T11:46:13.324019Z",
     "shell.execute_reply.started": "2024-04-23T11:46:13.273604Z"
    }
   },
   "outputs": [],
   "source": [
    "# study.trials_dataframe()"
   ]
  },
  {
   "cell_type": "code",
   "execution_count": 231,
   "metadata": {
    "execution": {
     "iopub.execute_input": "2024-02-13T03:09:10.092205Z",
     "iopub.status.busy": "2024-02-13T03:09:10.090904Z",
     "iopub.status.idle": "2024-02-13T03:09:10.150363Z",
     "shell.execute_reply": "2024-02-13T03:09:10.149389Z",
     "shell.execute_reply.started": "2024-02-13T03:09:10.092148Z"
    }
   },
   "outputs": [],
   "source": [
    "# study.trials[1].params\n",
    "# study.trials[2].params"
   ]
  },
  {
   "cell_type": "code",
   "execution_count": 25,
   "metadata": {
    "execution": {
     "iopub.execute_input": "2024-04-23T14:52:01.412653Z",
     "iopub.status.busy": "2024-04-23T14:52:01.411345Z",
     "iopub.status.idle": "2024-04-23T14:52:01.517893Z",
     "shell.execute_reply": "2024-04-23T14:52:01.516880Z",
     "shell.execute_reply.started": "2024-04-23T14:52:01.412594Z"
    }
   },
   "outputs": [],
   "source": [
    "# # for i in [3,4,5,6]:\n",
    "for i in [18]:\n",
    "    study.enqueue_trial(study.trials[i].params, user_attrs={\"memo\": f\"rerun of trial {i}\"})\n",
    " "
   ]
  },
  {
   "cell_type": "code",
   "execution_count": 26,
   "metadata": {
    "execution": {
     "iopub.execute_input": "2024-04-23T14:52:17.423604Z",
     "iopub.status.busy": "2024-04-23T14:52:17.422920Z",
     "iopub.status.idle": "2024-04-23T15:43:30.623447Z",
     "shell.execute_reply": "2024-04-23T15:43:30.622493Z",
     "shell.execute_reply.started": "2024-04-23T14:52:17.423562Z"
    },
    "scrolled": true
   },
   "outputs": [
    {
     "name": "stdout",
     "output_type": "stream",
     "text": [
      "--------------------------------------------------------------------------------\n",
      " Training model (trial #19) \n",
      "--------------------------------------------------------------------------------\n",
      " Parameters:\n",
      "  booster                        gbtree\n",
      "  device                         gpu\n",
      "  verbosity                      0\n",
      "  disable_default_eval_metric    False\n",
      "  objective                      binary:logistic\n",
      "  eval_metric                    ['auc', 'logloss']\n",
      "  tree_method                    auto\n",
      "  learning_rate                  0.01010335601502925\n",
      "  gamma                          0.2472646534150965\n",
      "  max_depth                      8\n",
      "  min_child_weight               6.489942713197961\n",
      "  max_delta_step                 9.899914342970385\n",
      "  subsample                      0.9078959875289839\n",
      "  sampling_method                uniform\n",
      "  colsample_bytree               1.0\n",
      "  colsample_bylevel              0.6706021187887963\n",
      "  colsample_bynode               0.9887993750054633\n",
      "  lambda                         1\n",
      "  scale_pos_weight               1\n",
      "  max_leaves                     0\n",
      "  reg_lambda                     3.2267\n",
      " # bin files: 10   # of folds 5 -  (groups of 2 file tuples)\n",
      " CV Split 0 -  Training files: [2, 3, 4, 5, 6, 7, 8, 9]   Validation files: [0, 1]  \n"
     ]
    },
    {
     "name": "stderr",
     "output_type": "stream",
     "text": [
      "2024-04-23 16:52:24,130 - INFO: - CrossValidation split #0\n",
      "2024-04-23 16:52:24,131 - INFO: - Building training & validation DMatrix...\n",
      "2024-04-23 16:53:08,526 - distributed.utils_perf - WARNING - full garbage collections took 10% CPU time recently (threshold: 10%)\n",
      "2024-04-23 16:53:08,806 - distributed.utils_perf - WARNING - full garbage collections took 10% CPU time recently (threshold: 10%)\n",
      "2024-04-23 16:53:08,966 - distributed.utils_perf - WARNING - full garbage collections took 10% CPU time recently (threshold: 10%)\n",
      "2024-04-23 16:53:09,066 - distributed.utils_perf - WARNING - full garbage collections took 10% CPU time recently (threshold: 10%)\n",
      "2024-04-23 16:53:09,264 - distributed.utils_perf - WARNING - full garbage collections took 10% CPU time recently (threshold: 10%)\n",
      "2024-04-23 16:53:09,865 - distributed.utils_perf - WARNING - full garbage collections took 10% CPU time recently (threshold: 10%)\n",
      "2024-04-23 16:53:10,234 - distributed.utils_perf - WARNING - full garbage collections took 10% CPU time recently (threshold: 10%)\n",
      "2024-04-23 16:53:10,935 - distributed.utils_perf - WARNING - full garbage collections took 10% CPU time recently (threshold: 10%)\n",
      "2024-04-23 16:53:11,155 - distributed.utils_perf - WARNING - full garbage collections took 10% CPU time recently (threshold: 10%)\n",
      "2024-04-23 16:53:11,229 - distributed.utils_perf - WARNING - full garbage collections took 10% CPU time recently (threshold: 10%)\n",
      "2024-04-23 16:53:11,429 - distributed.utils_perf - WARNING - full garbage collections took 10% CPU time recently (threshold: 10%)\n",
      "2024-04-23 16:53:11,520 - distributed.utils_perf - WARNING - full garbage collections took 10% CPU time recently (threshold: 10%)\n",
      "2024-04-23 16:53:11,697 - distributed.utils_perf - WARNING - full garbage collections took 11% CPU time recently (threshold: 10%)\n",
      "2024-04-23 16:53:11,729 - distributed.utils_perf - WARNING - full garbage collections took 10% CPU time recently (threshold: 10%)\n",
      "2024-04-23 16:53:12,286 - distributed.utils_perf - WARNING - full garbage collections took 10% CPU time recently (threshold: 10%)\n",
      "2024-04-23 16:53:12,661 - distributed.utils_perf - WARNING - full garbage collections took 11% CPU time recently (threshold: 10%)\n",
      "2024-04-23 16:53:12,691 - distributed.utils_perf - WARNING - full garbage collections took 10% CPU time recently (threshold: 10%)\n",
      "2024-04-23 16:53:12,955 - distributed.utils_perf - WARNING - full garbage collections took 11% CPU time recently (threshold: 10%)\n",
      "2024-04-23 16:53:13,249 - distributed.utils_perf - WARNING - full garbage collections took 11% CPU time recently (threshold: 10%)\n",
      "2024-04-23 16:53:13,267 - distributed.utils_perf - WARNING - full garbage collections took 10% CPU time recently (threshold: 10%)\n",
      "2024-04-23 16:53:13,389 - distributed.utils_perf - WARNING - full garbage collections took 10% CPU time recently (threshold: 10%)\n",
      "2024-04-23 16:53:13,693 - distributed.utils_perf - WARNING - full garbage collections took 10% CPU time recently (threshold: 10%)\n",
      "2024-04-23 16:53:13,906 - distributed.utils_perf - WARNING - full garbage collections took 10% CPU time recently (threshold: 10%)\n",
      "2024-04-23 16:53:13,980 - distributed.utils_perf - WARNING - full garbage collections took 10% CPU time recently (threshold: 10%)\n",
      "2024-04-23 16:53:14,138 - distributed.utils_perf - WARNING - full garbage collections took 11% CPU time recently (threshold: 10%)\n",
      "2024-04-23 16:53:14,188 - distributed.utils_perf - WARNING - full garbage collections took 10% CPU time recently (threshold: 10%)\n",
      "2024-04-23 16:53:14,761 - distributed.utils_perf - WARNING - full garbage collections took 10% CPU time recently (threshold: 10%)\n",
      "2024-04-23 16:53:14,926 - distributed.utils_perf - WARNING - full garbage collections took 11% CPU time recently (threshold: 10%)\n",
      "2024-04-23 16:53:15,161 - distributed.utils_perf - WARNING - full garbage collections took 10% CPU time recently (threshold: 10%)\n",
      "2024-04-23 16:53:15,362 - distributed.utils_perf - WARNING - full garbage collections took 11% CPU time recently (threshold: 10%)\n",
      "2024-04-23 16:53:15,606 - distributed.utils_perf - WARNING - full garbage collections took 10% CPU time recently (threshold: 10%)\n",
      "2024-04-23 16:53:15,669 - distributed.utils_perf - WARNING - full garbage collections took 11% CPU time recently (threshold: 10%)\n",
      "2024-04-23 16:53:15,839 - distributed.utils_perf - WARNING - full garbage collections took 10% CPU time recently (threshold: 10%)\n",
      "2024-04-23 16:53:16,084 - distributed.utils_perf - WARNING - full garbage collections took 10% CPU time recently (threshold: 10%)\n",
      "2024-04-23 16:53:16,373 - distributed.utils_perf - WARNING - full garbage collections took 10% CPU time recently (threshold: 10%)\n",
      "2024-04-23 16:53:16,382 - distributed.utils_perf - WARNING - full garbage collections took 10% CPU time recently (threshold: 10%)\n",
      "2024-04-23 16:53:16,568 - distributed.utils_perf - WARNING - full garbage collections took 11% CPU time recently (threshold: 10%)\n",
      "2024-04-23 16:53:16,660 - distributed.utils_perf - WARNING - full garbage collections took 10% CPU time recently (threshold: 10%)\n",
      "2024-04-23 16:53:17,155 - distributed.utils_perf - WARNING - full garbage collections took 10% CPU time recently (threshold: 10%)\n",
      "2024-04-23 16:53:17,233 - distributed.utils_perf - WARNING - full garbage collections took 11% CPU time recently (threshold: 10%)\n",
      "2024-04-23 16:53:17,612 - distributed.utils_perf - WARNING - full garbage collections took 10% CPU time recently (threshold: 10%)\n",
      "2024-04-23 16:53:17,766 - distributed.utils_perf - WARNING - full garbage collections took 11% CPU time recently (threshold: 10%)\n",
      "2024-04-23 16:53:17,989 - distributed.utils_perf - WARNING - full garbage collections took 10% CPU time recently (threshold: 10%)\n",
      "2024-04-23 16:53:18,071 - distributed.utils_perf - WARNING - full garbage collections took 11% CPU time recently (threshold: 10%)\n",
      "2024-04-23 16:53:18,278 - distributed.utils_perf - WARNING - full garbage collections took 10% CPU time recently (threshold: 10%)\n",
      "2024-04-23 16:53:18,509 - distributed.utils_perf - WARNING - full garbage collections took 10% CPU time recently (threshold: 10%)\n",
      "2024-04-23 16:53:18,810 - distributed.utils_perf - WARNING - full garbage collections took 10% CPU time recently (threshold: 10%)\n",
      "2024-04-23 16:53:18,823 - distributed.utils_perf - WARNING - full garbage collections took 10% CPU time recently (threshold: 10%)\n",
      "2024-04-23 16:53:18,958 - distributed.utils_perf - WARNING - full garbage collections took 11% CPU time recently (threshold: 10%)\n",
      "2024-04-23 16:53:19,107 - distributed.utils_perf - WARNING - full garbage collections took 10% CPU time recently (threshold: 10%)\n",
      "2024-04-23 16:53:19,523 - distributed.utils_perf - WARNING - full garbage collections took 10% CPU time recently (threshold: 10%)\n",
      "2024-04-23 16:53:19,618 - distributed.utils_perf - WARNING - full garbage collections took 11% CPU time recently (threshold: 10%)\n",
      "2024-04-23 16:53:20,065 - distributed.utils_perf - WARNING - full garbage collections took 10% CPU time recently (threshold: 10%)\n",
      "2024-04-23 16:53:20,163 - distributed.utils_perf - WARNING - full garbage collections took 11% CPU time recently (threshold: 10%)\n",
      "2024-04-23 16:53:20,352 - distributed.utils_perf - WARNING - full garbage collections took 10% CPU time recently (threshold: 10%)\n",
      "2024-04-23 16:53:20,367 - distributed.utils_perf - WARNING - full garbage collections took 10% CPU time recently (threshold: 10%)\n",
      "2024-04-23 16:53:20,478 - distributed.utils_perf - WARNING - full garbage collections took 11% CPU time recently (threshold: 10%)\n",
      "2024-04-23 16:53:20,913 - distributed.utils_perf - WARNING - full garbage collections took 10% CPU time recently (threshold: 10%)\n",
      "2024-04-23 16:53:21,216 - distributed.utils_perf - WARNING - full garbage collections took 10% CPU time recently (threshold: 10%)\n",
      "2024-04-23 16:53:21,269 - distributed.utils_perf - WARNING - full garbage collections took 10% CPU time recently (threshold: 10%)\n",
      "2024-04-23 16:53:21,311 - distributed.utils_perf - WARNING - full garbage collections took 11% CPU time recently (threshold: 10%)\n",
      "2024-04-23 16:53:21,549 - distributed.utils_perf - WARNING - full garbage collections took 10% CPU time recently (threshold: 10%)\n",
      "2024-04-23 16:53:21,975 - distributed.utils_perf - WARNING - full garbage collections took 10% CPU time recently (threshold: 10%)\n",
      "2024-04-23 16:53:22,024 - distributed.utils_perf - WARNING - full garbage collections took 11% CPU time recently (threshold: 10%)\n",
      "2024-04-23 16:53:22,275 - distributed.utils_perf - WARNING - full garbage collections took 10% CPU time recently (threshold: 10%)\n",
      "2024-04-23 16:53:22,536 - distributed.utils_perf - WARNING - full garbage collections took 10% CPU time recently (threshold: 10%)\n",
      "2024-04-23 16:53:22,565 - distributed.utils_perf - WARNING - full garbage collections took 11% CPU time recently (threshold: 10%)\n",
      "2024-04-23 16:53:22,819 - distributed.utils_perf - WARNING - full garbage collections took 10% CPU time recently (threshold: 10%)\n",
      "2024-04-23 16:53:22,853 - distributed.utils_perf - WARNING - full garbage collections took 11% CPU time recently (threshold: 10%)\n",
      "2024-04-23 16:53:23,362 - distributed.utils_perf - WARNING - full garbage collections took 10% CPU time recently (threshold: 10%)\n",
      "2024-04-23 16:53:23,653 - distributed.utils_perf - WARNING - full garbage collections took 10% CPU time recently (threshold: 10%)\n",
      "2024-04-23 16:53:23,758 - distributed.utils_perf - WARNING - full garbage collections took 11% CPU time recently (threshold: 10%)\n",
      "2024-04-23 16:53:24,037 - distributed.utils_perf - WARNING - full garbage collections took 11% CPU time recently (threshold: 10%)\n",
      "2024-04-23 16:53:24,428 - distributed.utils_perf - WARNING - full garbage collections took 10% CPU time recently (threshold: 10%)\n",
      "2024-04-23 16:53:24,724 - distributed.utils_perf - WARNING - full garbage collections took 10% CPU time recently (threshold: 10%)\n",
      "2024-04-23 16:53:24,962 - distributed.utils_perf - WARNING - full garbage collections took 11% CPU time recently (threshold: 10%)\n",
      "2024-04-23 16:53:25,251 - distributed.utils_perf - WARNING - full garbage collections took 11% CPU time recently (threshold: 10%)\n",
      "2024-04-23 16:53:26,164 - distributed.utils_perf - WARNING - full garbage collections took 10% CPU time recently (threshold: 10%)\n",
      "2024-04-23 16:53:26,454 - distributed.utils_perf - WARNING - full garbage collections took 10% CPU time recently (threshold: 10%)\n",
      "2024-04-23 16:53:27,429 - distributed.utils_perf - WARNING - full garbage collections took 10% CPU time recently (threshold: 10%)\n",
      "2024-04-23 16:53:27,738 - distributed.utils_perf - WARNING - full garbage collections took 10% CPU time recently (threshold: 10%)\n",
      "2024-04-23 16:53:28,679 - distributed.utils_perf - WARNING - full garbage collections took 10% CPU time recently (threshold: 10%)\n",
      "2024-04-23 16:53:28,976 - distributed.utils_perf - WARNING - full garbage collections took 10% CPU time recently (threshold: 10%)\n",
      "2024-04-23 16:53:29,909 - distributed.utils_perf - WARNING - full garbage collections took 10% CPU time recently (threshold: 10%)\n",
      "2024-04-23 16:53:30,209 - distributed.utils_perf - WARNING - full garbage collections took 10% CPU time recently (threshold: 10%)\n",
      "2024-04-23 16:53:30,513 - distributed.utils_perf - WARNING - full garbage collections took 10% CPU time recently (threshold: 10%)\n",
      "2024-04-23 16:53:31,283 - distributed.utils_perf - WARNING - full garbage collections took 10% CPU time recently (threshold: 10%)\n",
      "2024-04-23 16:53:31,577 - distributed.utils_perf - WARNING - full garbage collections took 10% CPU time recently (threshold: 10%)\n",
      "2024-04-23 16:53:33,299 - distributed.utils_perf - WARNING - full garbage collections took 10% CPU time recently (threshold: 10%)\n",
      "2024-04-23 16:53:33,840 - distributed.utils_perf - WARNING - full garbage collections took 10% CPU time recently (threshold: 10%)\n",
      "2024-04-23 16:53:34,160 - distributed.utils_perf - WARNING - full garbage collections took 11% CPU time recently (threshold: 10%)\n",
      "2024-04-23 16:53:34,467 - distributed.utils_perf - WARNING - full garbage collections took 11% CPU time recently (threshold: 10%)\n",
      "2024-04-23 16:53:35,835 - distributed.utils_perf - WARNING - full garbage collections took 10% CPU time recently (threshold: 10%)\n",
      "2024-04-23 16:53:36,387 - distributed.utils_perf - WARNING - full garbage collections took 11% CPU time recently (threshold: 10%)\n",
      "2024-04-23 16:53:36,682 - distributed.utils_perf - WARNING - full garbage collections took 11% CPU time recently (threshold: 10%)\n",
      "2024-04-23 16:53:36,986 - distributed.utils_perf - WARNING - full garbage collections took 11% CPU time recently (threshold: 10%)\n",
      "2024-04-23 16:53:38,374 - distributed.utils_perf - WARNING - full garbage collections took 11% CPU time recently (threshold: 10%)\n",
      "2024-04-23 16:53:38,988 - distributed.utils_perf - WARNING - full garbage collections took 11% CPU time recently (threshold: 10%)\n",
      "2024-04-23 16:53:39,333 - distributed.utils_perf - WARNING - full garbage collections took 13% CPU time recently (threshold: 10%)\n",
      "2024-04-23 16:53:39,696 - distributed.utils_perf - WARNING - full garbage collections took 13% CPU time recently (threshold: 10%)\n",
      "2024-04-23 16:53:41,136 - distributed.utils_perf - WARNING - full garbage collections took 10% CPU time recently (threshold: 10%)\n",
      "2024-04-23 16:53:41,442 - distributed.utils_perf - WARNING - full garbage collections took 13% CPU time recently (threshold: 10%)\n",
      "2024-04-23 16:53:41,580 - distributed.utils_perf - WARNING - full garbage collections took 10% CPU time recently (threshold: 10%)\n",
      "2024-04-23 16:53:41,760 - distributed.utils_perf - WARNING - full garbage collections took 14% CPU time recently (threshold: 10%)\n",
      "2024-04-23 16:53:41,908 - distributed.utils_perf - WARNING - full garbage collections took 10% CPU time recently (threshold: 10%)\n",
      "2024-04-23 16:53:42,097 - distributed.utils_perf - WARNING - full garbage collections took 14% CPU time recently (threshold: 10%)\n",
      "2024-04-23 16:53:43,014 - distributed.utils_perf - WARNING - full garbage collections took 10% CPU time recently (threshold: 10%)\n",
      "2024-04-23 16:53:43,063 - distributed.utils_perf - WARNING - full garbage collections took 14% CPU time recently (threshold: 10%)\n",
      "2024-04-23 16:53:43,579 - distributed.utils_perf - WARNING - full garbage collections took 10% CPU time recently (threshold: 10%)\n",
      "2024-04-23 16:53:44,099 - distributed.utils_perf - WARNING - full garbage collections took 14% CPU time recently (threshold: 10%)\n",
      "2024-04-23 16:53:44,162 - distributed.utils_perf - WARNING - full garbage collections took 11% CPU time recently (threshold: 10%)\n",
      "2024-04-23 16:53:44,432 - distributed.utils_perf - WARNING - full garbage collections took 14% CPU time recently (threshold: 10%)\n",
      "2024-04-23 16:53:44,470 - distributed.utils_perf - WARNING - full garbage collections took 11% CPU time recently (threshold: 10%)\n",
      "2024-04-23 16:53:44,471 - distributed.utils_perf - WARNING - full garbage collections took 10% CPU time recently (threshold: 10%)\n",
      "2024-04-23 16:53:44,795 - distributed.utils_perf - WARNING - full garbage collections took 14% CPU time recently (threshold: 10%)\n",
      "2024-04-23 16:53:45,614 - distributed.utils_perf - WARNING - full garbage collections took 10% CPU time recently (threshold: 10%)\n",
      "2024-04-23 16:53:45,656 - distributed.utils_perf - WARNING - full garbage collections took 11% CPU time recently (threshold: 10%)\n",
      "2024-04-23 16:53:45,969 - distributed.utils_perf - WARNING - full garbage collections took 10% CPU time recently (threshold: 10%)\n",
      "2024-04-23 16:53:46,010 - distributed.utils_perf - WARNING - full garbage collections took 14% CPU time recently (threshold: 10%)\n",
      "2024-04-23 16:53:46,301 - distributed.utils_perf - WARNING - full garbage collections took 11% CPU time recently (threshold: 10%)\n",
      "2024-04-23 16:53:46,778 - distributed.utils_perf - WARNING - full garbage collections took 11% CPU time recently (threshold: 10%)\n",
      "2024-04-23 16:53:46,838 - distributed.utils_perf - WARNING - full garbage collections took 10% CPU time recently (threshold: 10%)\n",
      "2024-04-23 16:53:46,871 - distributed.utils_perf - WARNING - full garbage collections took 14% CPU time recently (threshold: 10%)\n",
      "2024-04-23 16:53:47,113 - distributed.utils_perf - WARNING - full garbage collections took 11% CPU time recently (threshold: 10%)\n",
      "2024-04-23 16:53:47,155 - distributed.utils_perf - WARNING - full garbage collections took 10% CPU time recently (threshold: 10%)\n",
      "2024-04-23 16:53:47,248 - distributed.utils_perf - WARNING - full garbage collections took 14% CPU time recently (threshold: 10%)\n",
      "2024-04-23 16:53:47,633 - distributed.utils_perf - WARNING - full garbage collections took 14% CPU time recently (threshold: 10%)\n",
      "2024-04-23 16:53:48,275 - distributed.utils_perf - WARNING - full garbage collections took 10% CPU time recently (threshold: 10%)\n",
      "2024-04-23 16:53:48,363 - distributed.utils_perf - WARNING - full garbage collections took 11% CPU time recently (threshold: 10%)\n",
      "2024-04-23 16:53:48,559 - distributed.utils_perf - WARNING - full garbage collections took 15% CPU time recently (threshold: 10%)\n",
      "2024-04-23 16:53:48,619 - distributed.utils_perf - WARNING - full garbage collections took 10% CPU time recently (threshold: 10%)\n",
      "2024-04-23 16:53:48,676 - distributed.utils_perf - WARNING - full garbage collections took 11% CPU time recently (threshold: 10%)\n",
      "2024-04-23 16:53:48,914 - distributed.utils_perf - WARNING - full garbage collections took 15% CPU time recently (threshold: 10%)\n",
      "2024-04-23 16:53:49,128 - distributed.utils_perf - WARNING - full garbage collections took 10% CPU time recently (threshold: 10%)\n",
      "2024-04-23 16:53:49,311 - distributed.utils_perf - WARNING - full garbage collections took 11% CPU time recently (threshold: 10%)\n",
      "2024-04-23 16:53:49,636 - distributed.utils_perf - WARNING - full garbage collections took 11% CPU time recently (threshold: 10%)\n",
      "2024-04-23 16:53:49,794 - INFO: - Training model...\n",
      "2024-04-23 16:53:49,889 - INFO: - start listen on 10.91.28.16:47103\n",
      "2024-04-23 16:53:50,160 - distributed.utils_perf - WARNING - full garbage collections took 15% CPU time recently (threshold: 10%)\n",
      "[16:53:50] task [xgboost.dask-0]:tcp://127.0.0.1:37645 got new rank 0\n",
      "[16:53:50] task [xgboost.dask-1]:tcp://127.0.0.1:38003 got new rank 1\n",
      "[16:53:50] task [xgboost.dask-2]:tcp://127.0.0.1:33739 got new rank 2\n",
      "2024-04-23 16:53:50,456 - INFO: - @tracker All of 3 nodes getting started\n",
      "2024-04-23 16:53:50,814 - distributed.utils_perf - WARNING - full garbage collections took 10% CPU time recently (threshold: 10%)\n",
      "2024-04-23 16:59:04,582 - INFO: - @tracker All nodes finishes job\n",
      "2024-04-23 16:59:04,954 - INFO: - Running model on test data...\n",
      "2024-04-23 16:59:10,889 - distributed.utils_perf - WARNING - full garbage collections took 15% CPU time recently (threshold: 10%)\n",
      "2024-04-23 16:59:11,005 - distributed.utils_perf - WARNING - full garbage collections took 10% CPU time recently (threshold: 10%)\n",
      "2024-04-23 16:59:11,633 - distributed.utils_perf - WARNING - full garbage collections took 10% CPU time recently (threshold: 10%)\n",
      "2024-04-23 16:59:11,707 - distributed.utils_perf - WARNING - full garbage collections took 15% CPU time recently (threshold: 10%)\n",
      "2024-04-23 16:59:12,933 - distributed.utils_perf - WARNING - full garbage collections took 15% CPU time recently (threshold: 10%)\n",
      "2024-04-23 16:59:13,342 - distributed.utils_perf - WARNING - full garbage collections took 10% CPU time recently (threshold: 10%)\n",
      "2024-04-23 16:59:13,725 - distributed.utils_perf - WARNING - full garbage collections took 10% CPU time recently (threshold: 10%)\n",
      "2024-04-23 16:59:15,441 - distributed.utils_perf - WARNING - full garbage collections took 10% CPU time recently (threshold: 10%)\n",
      "2024-04-23 16:59:23,789 - INFO: - Calculating metrics...\n",
      "2024-04-23 16:59:23,867 - INFO: - Calculating metrics...Completed\n"
     ]
    },
    {
     "name": "stdout",
     "output_type": "stream",
     "text": [
      "--------------------------------------------------------------------------------\n",
      " train_auc           :   0.95936\n",
      " train_logloss       :   0.27141\n",
      " val_auc             :   0.62451\n",
      " val_logloss         :   0.35518\n",
      " roc_auc             :   0.62517\n",
      " logloss             :   0.35518\n",
      " accuracy            :   0.87945\n",
      " bal_acc             :   0.00179\n",
      " top_k_acc           :   1.00000\n",
      " F1_score            :   0.00434\n",
      " map                 :   0.20623\n",
      " pearson_corr        :   0.17596\n",
      "--------------------------------------------------------------------------------\n",
      " CV Split 1 -  Training files: [0, 1, 4, 5, 6, 7, 8, 9]   Validation files: [2, 3]  \n"
     ]
    },
    {
     "name": "stderr",
     "output_type": "stream",
     "text": [
      "2024-04-23 16:59:30,219 - INFO: - CrossValidation split #1\n",
      "2024-04-23 16:59:30,219 - INFO: - Building training & validation DMatrix...\n",
      "2024-04-23 17:00:30,072 - distributed.utils_perf - WARNING - full garbage collections took 10% CPU time recently (threshold: 10%)\n",
      "2024-04-23 17:00:30,413 - distributed.utils_perf - WARNING - full garbage collections took 10% CPU time recently (threshold: 10%)\n",
      "2024-04-23 17:00:31,590 - distributed.utils_perf - WARNING - full garbage collections took 10% CPU time recently (threshold: 10%)\n",
      "2024-04-23 17:00:32,362 - distributed.utils_perf - WARNING - full garbage collections took 10% CPU time recently (threshold: 10%)\n",
      "2024-04-23 17:00:32,715 - distributed.utils_perf - WARNING - full garbage collections took 10% CPU time recently (threshold: 10%)\n",
      "2024-04-23 17:00:33,950 - distributed.utils_perf - WARNING - full garbage collections took 10% CPU time recently (threshold: 10%)\n",
      "2024-04-23 17:00:34,511 - distributed.utils_perf - WARNING - full garbage collections took 10% CPU time recently (threshold: 10%)\n",
      "2024-04-23 17:00:35,101 - distributed.utils_perf - WARNING - full garbage collections took 11% CPU time recently (threshold: 10%)\n",
      "2024-04-23 17:00:36,054 - distributed.utils_perf - WARNING - full garbage collections took 11% CPU time recently (threshold: 10%)\n",
      "2024-04-23 17:00:36,666 - distributed.utils_perf - WARNING - full garbage collections took 11% CPU time recently (threshold: 10%)\n",
      "2024-04-23 17:00:37,484 - distributed.utils_perf - WARNING - full garbage collections took 11% CPU time recently (threshold: 10%)\n",
      "2024-04-23 17:00:37,883 - distributed.utils_perf - WARNING - full garbage collections took 11% CPU time recently (threshold: 10%)\n",
      "2024-04-23 17:00:39,097 - distributed.utils_perf - WARNING - full garbage collections took 11% CPU time recently (threshold: 10%)\n",
      "2024-04-23 17:00:39,502 - distributed.utils_perf - WARNING - full garbage collections took 11% CPU time recently (threshold: 10%)\n",
      "2024-04-23 17:00:40,182 - distributed.utils_perf - WARNING - full garbage collections took 11% CPU time recently (threshold: 10%)\n",
      "2024-04-23 17:00:40,575 - distributed.utils_perf - WARNING - full garbage collections took 11% CPU time recently (threshold: 10%)\n",
      "2024-04-23 17:00:40,915 - distributed.utils_perf - WARNING - full garbage collections took 11% CPU time recently (threshold: 10%)\n",
      "2024-04-23 17:00:43,178 - distributed.utils_perf - WARNING - full garbage collections took 11% CPU time recently (threshold: 10%)\n",
      "2024-04-23 17:00:43,560 - distributed.utils_perf - WARNING - full garbage collections took 11% CPU time recently (threshold: 10%)\n",
      "2024-04-23 17:00:43,937 - distributed.utils_perf - WARNING - full garbage collections took 11% CPU time recently (threshold: 10%)\n",
      "2024-04-23 17:00:45,394 - distributed.utils_perf - WARNING - full garbage collections took 11% CPU time recently (threshold: 10%)\n",
      "2024-04-23 17:00:46,105 - distributed.utils_perf - WARNING - full garbage collections took 11% CPU time recently (threshold: 10%)\n",
      "2024-04-23 17:00:46,538 - distributed.utils_perf - WARNING - full garbage collections took 11% CPU time recently (threshold: 10%)\n",
      "2024-04-23 17:00:47,622 - distributed.utils_perf - WARNING - full garbage collections took 11% CPU time recently (threshold: 10%)\n",
      "2024-04-23 17:00:48,641 - distributed.utils_perf - WARNING - full garbage collections took 11% CPU time recently (threshold: 10%)\n",
      "2024-04-23 17:00:49,010 - distributed.utils_perf - WARNING - full garbage collections took 11% CPU time recently (threshold: 10%)\n",
      "2024-04-23 17:00:49,808 - distributed.utils_perf - WARNING - full garbage collections took 10% CPU time recently (threshold: 10%)\n",
      "2024-04-23 17:00:51,130 - distributed.utils_perf - WARNING - full garbage collections took 10% CPU time recently (threshold: 10%)\n",
      "2024-04-23 17:00:51,545 - distributed.utils_perf - WARNING - full garbage collections took 10% CPU time recently (threshold: 10%)\n",
      "2024-04-23 17:00:52,257 - distributed.utils_perf - WARNING - full garbage collections took 10% CPU time recently (threshold: 10%)\n",
      "2024-04-23 17:00:53,593 - distributed.utils_perf - WARNING - full garbage collections took 10% CPU time recently (threshold: 10%)\n",
      "2024-04-23 17:00:54,006 - distributed.utils_perf - WARNING - full garbage collections took 10% CPU time recently (threshold: 10%)\n",
      "2024-04-23 17:00:54,449 - distributed.utils_perf - WARNING - full garbage collections took 10% CPU time recently (threshold: 10%)\n",
      "2024-04-23 17:00:56,033 - distributed.utils_perf - WARNING - full garbage collections took 10% CPU time recently (threshold: 10%)\n",
      "2024-04-23 17:00:56,586 - distributed.utils_perf - WARNING - full garbage collections took 10% CPU time recently (threshold: 10%)\n",
      "2024-04-23 17:00:57,003 - distributed.utils_perf - WARNING - full garbage collections took 10% CPU time recently (threshold: 10%)\n",
      "2024-04-23 17:00:57,852 - distributed.utils_perf - WARNING - full garbage collections took 10% CPU time recently (threshold: 10%)\n",
      "2024-04-23 17:00:59,083 - distributed.utils_perf - WARNING - full garbage collections took 10% CPU time recently (threshold: 10%)\n",
      "2024-04-23 17:00:59,491 - distributed.utils_perf - WARNING - full garbage collections took 10% CPU time recently (threshold: 10%)\n",
      "2024-04-23 17:01:00,269 - INFO: - Training model...\n",
      "2024-04-23 17:01:00,278 - INFO: - start listen on 10.91.28.16:40653\n",
      "[17:01:00] task [xgboost.dask-0]:tcp://127.0.0.1:37645 got new rank 0\n",
      "[17:01:00] task [xgboost.dask-1]:tcp://127.0.0.1:38003 got new rank 1\n",
      "[17:01:00] task [xgboost.dask-2]:tcp://127.0.0.1:33739 got new rank 2\n",
      "2024-04-23 17:01:00,323 - INFO: - @tracker All of 3 nodes getting started\n",
      "2024-04-23 17:06:03,160 - INFO: - @tracker All nodes finishes job\n",
      "2024-04-23 17:06:03,484 - INFO: - Running model on test data...\n",
      "2024-04-23 17:06:22,656 - INFO: - Calculating metrics...\n",
      "2024-04-23 17:06:22,717 - INFO: - Calculating metrics...Completed\n"
     ]
    },
    {
     "name": "stdout",
     "output_type": "stream",
     "text": [
      "--------------------------------------------------------------------------------\n",
      " train_auc           :   0.95616\n",
      " train_logloss       :   0.27413\n",
      " val_auc             :   0.63047\n",
      " val_logloss         :   0.35732\n",
      " roc_auc             :   0.63110\n",
      " logloss             :   0.35732\n",
      " accuracy            :   0.87786\n",
      " bal_acc             :   0.00178\n",
      " top_k_acc           :   1.00000\n",
      " F1_score            :   0.00424\n",
      " map                 :   0.21082\n",
      " pearson_corr        :   0.18227\n",
      "--------------------------------------------------------------------------------\n",
      " CV Split 2 -  Training files: [0, 1, 2, 3, 6, 7, 8, 9]   Validation files: [4, 5]  \n"
     ]
    },
    {
     "name": "stderr",
     "output_type": "stream",
     "text": [
      "2024-04-23 17:06:29,105 - INFO: - CrossValidation split #2\n",
      "2024-04-23 17:06:29,106 - INFO: - Building training & validation DMatrix...\n",
      "2024-04-23 17:08:03,191 - INFO: - Training model...\n",
      "2024-04-23 17:08:03,204 - INFO: - start listen on 10.91.28.16:52087\n",
      "[17:08:03] task [xgboost.dask-0]:tcp://127.0.0.1:37645 got new rank 0\n",
      "[17:08:03] task [xgboost.dask-1]:tcp://127.0.0.1:38003 got new rank 1\n",
      "[17:08:03] task [xgboost.dask-2]:tcp://127.0.0.1:33739 got new rank 2\n",
      "2024-04-23 17:08:03,263 - INFO: - @tracker All of 3 nodes getting started\n",
      "2024-04-23 17:13:55,353 - INFO: - @tracker All nodes finishes job\n",
      "2024-04-23 17:13:55,692 - INFO: - Running model on test data...\n",
      "2024-04-23 17:14:15,667 - INFO: - Calculating metrics...\n",
      "2024-04-23 17:14:15,735 - INFO: - Calculating metrics...Completed\n"
     ]
    },
    {
     "name": "stdout",
     "output_type": "stream",
     "text": [
      "--------------------------------------------------------------------------------\n",
      " train_auc           :   0.96828\n",
      " train_logloss       :   0.26431\n",
      " val_auc             :   0.62768\n",
      " val_logloss         :   0.34630\n",
      " roc_auc             :   0.62924\n",
      " logloss             :   0.34630\n",
      " accuracy            :   0.88364\n",
      " bal_acc             :   0.00358\n",
      " top_k_acc           :   1.00000\n",
      " F1_score            :   0.00747\n",
      " map                 :   0.20960\n",
      " pearson_corr        :   0.18676\n",
      "--------------------------------------------------------------------------------\n",
      " CV Split 3 -  Training files: [0, 1, 2, 3, 4, 5, 8, 9]   Validation files: [6, 7]  \n"
     ]
    },
    {
     "name": "stderr",
     "output_type": "stream",
     "text": [
      "2024-04-23 17:14:22,538 - INFO: - CrossValidation split #3\n",
      "2024-04-23 17:14:22,539 - INFO: - Building training & validation DMatrix...\n",
      "2024-04-23 17:14:35,714 - distributed.utils_perf - WARNING - full garbage collections took 10% CPU time recently (threshold: 10%)\n",
      "2024-04-23 17:14:36,105 - distributed.utils_perf - WARNING - full garbage collections took 10% CPU time recently (threshold: 10%)\n",
      "2024-04-23 17:14:36,499 - distributed.utils_perf - WARNING - full garbage collections took 10% CPU time recently (threshold: 10%)\n",
      "2024-04-23 17:14:37,722 - distributed.utils_perf - WARNING - full garbage collections took 10% CPU time recently (threshold: 10%)\n",
      "2024-04-23 17:14:38,583 - distributed.utils_perf - WARNING - full garbage collections took 10% CPU time recently (threshold: 10%)\n",
      "2024-04-23 17:14:39,029 - distributed.utils_perf - WARNING - full garbage collections took 11% CPU time recently (threshold: 10%)\n",
      "2024-04-23 17:14:39,438 - distributed.utils_perf - WARNING - full garbage collections took 11% CPU time recently (threshold: 10%)\n",
      "2024-04-23 17:14:41,151 - distributed.utils_perf - WARNING - full garbage collections took 11% CPU time recently (threshold: 10%)\n",
      "2024-04-23 17:14:41,568 - distributed.utils_perf - WARNING - full garbage collections took 11% CPU time recently (threshold: 10%)\n",
      "2024-04-23 17:14:41,990 - distributed.utils_perf - WARNING - full garbage collections took 11% CPU time recently (threshold: 10%)\n",
      "2024-04-23 17:14:43,257 - distributed.utils_perf - WARNING - full garbage collections took 11% CPU time recently (threshold: 10%)\n",
      "2024-04-23 17:14:44,152 - distributed.utils_perf - WARNING - full garbage collections took 11% CPU time recently (threshold: 10%)\n",
      "2024-04-23 17:14:44,570 - distributed.utils_perf - WARNING - full garbage collections took 11% CPU time recently (threshold: 10%)\n",
      "2024-04-23 17:14:44,986 - distributed.utils_perf - WARNING - full garbage collections took 11% CPU time recently (threshold: 10%)\n",
      "2024-04-23 17:14:46,234 - distributed.utils_perf - WARNING - full garbage collections took 11% CPU time recently (threshold: 10%)\n",
      "2024-04-23 17:14:47,205 - distributed.utils_perf - WARNING - full garbage collections took 11% CPU time recently (threshold: 10%)\n",
      "2024-04-23 17:14:47,623 - distributed.utils_perf - WARNING - full garbage collections took 11% CPU time recently (threshold: 10%)\n",
      "2024-04-23 17:14:48,043 - distributed.utils_perf - WARNING - full garbage collections took 11% CPU time recently (threshold: 10%)\n",
      "2024-04-23 17:14:49,619 - distributed.utils_perf - WARNING - full garbage collections took 11% CPU time recently (threshold: 10%)\n",
      "2024-04-23 17:14:50,291 - distributed.utils_perf - WARNING - full garbage collections took 11% CPU time recently (threshold: 10%)\n",
      "2024-04-23 17:14:50,748 - distributed.utils_perf - WARNING - full garbage collections took 11% CPU time recently (threshold: 10%)\n",
      "2024-04-23 17:14:52,008 - distributed.utils_perf - WARNING - full garbage collections took 11% CPU time recently (threshold: 10%)\n",
      "2024-04-23 17:14:52,950 - distributed.utils_perf - WARNING - full garbage collections took 11% CPU time recently (threshold: 10%)\n",
      "2024-04-23 17:14:53,379 - distributed.utils_perf - WARNING - full garbage collections took 11% CPU time recently (threshold: 10%)\n",
      "2024-04-23 17:14:54,647 - distributed.utils_perf - WARNING - full garbage collections took 11% CPU time recently (threshold: 10%)\n",
      "2024-04-23 17:14:55,068 - distributed.utils_perf - WARNING - full garbage collections took 11% CPU time recently (threshold: 10%)\n",
      "2024-04-23 17:14:55,971 - distributed.utils_perf - WARNING - full garbage collections took 11% CPU time recently (threshold: 10%)\n",
      "2024-04-23 17:14:56,398 - distributed.utils_perf - WARNING - full garbage collections took 11% CPU time recently (threshold: 10%)\n",
      "2024-04-23 17:14:57,759 - distributed.utils_perf - WARNING - full garbage collections took 11% CPU time recently (threshold: 10%)\n",
      "2024-04-23 17:14:58,702 - distributed.utils_perf - WARNING - full garbage collections took 11% CPU time recently (threshold: 10%)\n",
      "2024-04-23 17:14:59,133 - distributed.utils_perf - WARNING - full garbage collections took 11% CPU time recently (threshold: 10%)\n",
      "2024-04-23 17:15:00,441 - distributed.utils_perf - WARNING - full garbage collections took 11% CPU time recently (threshold: 10%)\n",
      "2024-04-23 17:15:01,173 - distributed.utils_perf - WARNING - full garbage collections took 11% CPU time recently (threshold: 10%)\n",
      "2024-04-23 17:15:01,865 - distributed.utils_perf - WARNING - full garbage collections took 11% CPU time recently (threshold: 10%)\n",
      "2024-04-23 17:15:02,867 - distributed.utils_perf - WARNING - full garbage collections took 11% CPU time recently (threshold: 10%)\n",
      "2024-04-23 17:15:03,547 - distributed.utils_perf - WARNING - full garbage collections took 11% CPU time recently (threshold: 10%)\n",
      "2024-04-23 17:15:04,433 - distributed.utils_perf - WARNING - full garbage collections took 11% CPU time recently (threshold: 10%)\n",
      "2024-04-23 17:15:04,871 - distributed.utils_perf - WARNING - full garbage collections took 11% CPU time recently (threshold: 10%)\n",
      "2024-04-23 17:15:07,862 - distributed.utils_perf - WARNING - full garbage collections took 11% CPU time recently (threshold: 10%)\n",
      "2024-04-23 17:15:08,844 - distributed.utils_perf - WARNING - full garbage collections took 11% CPU time recently (threshold: 10%)\n",
      "2024-04-23 17:15:09,301 - distributed.utils_perf - WARNING - full garbage collections took 11% CPU time recently (threshold: 10%)\n",
      "2024-04-23 17:15:10,560 - distributed.utils_perf - WARNING - full garbage collections took 11% CPU time recently (threshold: 10%)\n",
      "2024-04-23 17:15:11,520 - distributed.utils_perf - WARNING - full garbage collections took 11% CPU time recently (threshold: 10%)\n",
      "2024-04-23 17:15:11,957 - distributed.utils_perf - WARNING - full garbage collections took 11% CPU time recently (threshold: 10%)\n",
      "2024-04-23 17:15:12,973 - distributed.utils_perf - WARNING - full garbage collections took 11% CPU time recently (threshold: 10%)\n",
      "2024-04-23 17:15:13,665 - distributed.utils_perf - WARNING - full garbage collections took 11% CPU time recently (threshold: 10%)\n",
      "2024-04-23 17:15:14,584 - distributed.utils_perf - WARNING - full garbage collections took 11% CPU time recently (threshold: 10%)\n",
      "2024-04-23 17:15:15,014 - distributed.utils_perf - WARNING - full garbage collections took 11% CPU time recently (threshold: 10%)\n",
      "2024-04-23 17:15:16,292 - distributed.utils_perf - WARNING - full garbage collections took 11% CPU time recently (threshold: 10%)\n",
      "2024-04-23 17:15:17,301 - distributed.utils_perf - WARNING - full garbage collections took 11% CPU time recently (threshold: 10%)\n",
      "2024-04-23 17:15:17,782 - distributed.utils_perf - WARNING - full garbage collections took 11% CPU time recently (threshold: 10%)\n",
      "2024-04-23 17:15:19,028 - distributed.utils_perf - WARNING - full garbage collections took 11% CPU time recently (threshold: 10%)\n",
      "2024-04-23 17:15:19,961 - distributed.utils_perf - WARNING - full garbage collections took 13% CPU time recently (threshold: 10%)\n",
      "2024-04-23 17:15:20,421 - distributed.utils_perf - WARNING - full garbage collections took 13% CPU time recently (threshold: 10%)\n",
      "2024-04-23 17:15:21,679 - distributed.utils_perf - WARNING - full garbage collections took 13% CPU time recently (threshold: 10%)\n",
      "2024-04-23 17:15:22,397 - distributed.utils_perf - WARNING - full garbage collections took 13% CPU time recently (threshold: 10%)\n",
      "2024-04-23 17:15:23,101 - distributed.utils_perf - WARNING - full garbage collections took 13% CPU time recently (threshold: 10%)\n",
      "2024-04-23 17:15:24,229 - distributed.utils_perf - WARNING - full garbage collections took 13% CPU time recently (threshold: 10%)\n",
      "2024-04-23 17:15:24,865 - distributed.utils_perf - WARNING - full garbage collections took 13% CPU time recently (threshold: 10%)\n",
      "2024-04-23 17:15:25,880 - distributed.utils_perf - WARNING - full garbage collections took 13% CPU time recently (threshold: 10%)\n",
      "2024-04-23 17:15:26,948 - distributed.utils_perf - WARNING - full garbage collections took 13% CPU time recently (threshold: 10%)\n",
      "2024-04-23 17:15:27,663 - distributed.utils_perf - WARNING - full garbage collections took 13% CPU time recently (threshold: 10%)\n",
      "2024-04-23 17:15:28,674 - distributed.utils_perf - WARNING - full garbage collections took 13% CPU time recently (threshold: 10%)\n",
      "2024-04-23 17:15:29,747 - distributed.utils_perf - WARNING - full garbage collections took 13% CPU time recently (threshold: 10%)\n",
      "2024-04-23 17:15:30,457 - distributed.utils_perf - WARNING - full garbage collections took 13% CPU time recently (threshold: 10%)\n",
      "2024-04-23 17:15:31,471 - distributed.utils_perf - WARNING - full garbage collections took 13% CPU time recently (threshold: 10%)\n",
      "2024-04-23 17:15:32,626 - distributed.utils_perf - WARNING - full garbage collections took 13% CPU time recently (threshold: 10%)\n",
      "2024-04-23 17:15:33,530 - distributed.utils_perf - WARNING - full garbage collections took 13% CPU time recently (threshold: 10%)\n",
      "2024-04-23 17:15:34,253 - distributed.utils_perf - WARNING - full garbage collections took 13% CPU time recently (threshold: 10%)\n",
      "2024-04-23 17:15:35,623 - distributed.utils_perf - WARNING - full garbage collections took 13% CPU time recently (threshold: 10%)\n",
      "2024-04-23 17:15:36,286 - distributed.utils_perf - WARNING - full garbage collections took 13% CPU time recently (threshold: 10%)\n",
      "2024-04-23 17:15:37,231 - distributed.utils_perf - WARNING - full garbage collections took 13% CPU time recently (threshold: 10%)\n",
      "2024-04-23 17:15:38,397 - distributed.utils_perf - WARNING - full garbage collections took 13% CPU time recently (threshold: 10%)\n",
      "2024-04-23 17:15:39,062 - distributed.utils_perf - WARNING - full garbage collections took 13% CPU time recently (threshold: 10%)\n",
      "2024-04-23 17:15:39,958 - distributed.utils_perf - WARNING - full garbage collections took 13% CPU time recently (threshold: 10%)\n",
      "2024-04-23 17:15:40,469 - distributed.utils_perf - WARNING - full garbage collections took 13% CPU time recently (threshold: 10%)\n",
      "2024-04-23 17:15:42,630 - distributed.utils_perf - WARNING - full garbage collections took 13% CPU time recently (threshold: 10%)\n",
      "2024-04-23 17:15:43,144 - distributed.utils_perf - WARNING - full garbage collections took 13% CPU time recently (threshold: 10%)\n",
      "2024-04-23 17:15:44,493 - distributed.utils_perf - WARNING - full garbage collections took 12% CPU time recently (threshold: 10%)\n",
      "2024-04-23 17:15:45,321 - distributed.utils_perf - WARNING - full garbage collections took 12% CPU time recently (threshold: 10%)\n",
      "2024-04-23 17:15:45,973 - distributed.utils_perf - WARNING - full garbage collections took 12% CPU time recently (threshold: 10%)\n",
      "2024-04-23 17:15:47,268 - distributed.utils_perf - WARNING - full garbage collections took 12% CPU time recently (threshold: 10%)\n",
      "2024-04-23 17:15:48,239 - distributed.utils_perf - WARNING - full garbage collections took 12% CPU time recently (threshold: 10%)\n",
      "2024-04-23 17:15:48,733 - distributed.utils_perf - WARNING - full garbage collections took 12% CPU time recently (threshold: 10%)\n",
      "2024-04-23 17:15:50,096 - distributed.utils_perf - WARNING - full garbage collections took 12% CPU time recently (threshold: 10%)\n",
      "2024-04-23 17:15:51,100 - distributed.utils_perf - WARNING - full garbage collections took 12% CPU time recently (threshold: 10%)\n",
      "2024-04-23 17:15:51,617 - distributed.utils_perf - WARNING - full garbage collections took 12% CPU time recently (threshold: 10%)\n",
      "2024-04-23 17:15:52,994 - distributed.utils_perf - WARNING - full garbage collections took 12% CPU time recently (threshold: 10%)\n",
      "2024-04-23 17:15:53,978 - distributed.utils_perf - WARNING - full garbage collections took 12% CPU time recently (threshold: 10%)\n",
      "2024-04-23 17:15:54,486 - distributed.utils_perf - WARNING - full garbage collections took 12% CPU time recently (threshold: 10%)\n",
      "2024-04-23 17:15:54,868 - distributed.utils_perf - WARNING - full garbage collections took 10% CPU time recently (threshold: 10%)\n",
      "2024-04-23 17:15:55,852 - distributed.utils_perf - WARNING - full garbage collections took 10% CPU time recently (threshold: 10%)\n",
      "2024-04-23 17:15:55,868 - distributed.utils_perf - WARNING - full garbage collections took 12% CPU time recently (threshold: 10%)\n",
      "2024-04-23 17:15:56,345 - distributed.utils_perf - WARNING - full garbage collections took 10% CPU time recently (threshold: 10%)\n",
      "2024-04-23 17:15:56,834 - distributed.utils_perf - WARNING - full garbage collections took 12% CPU time recently (threshold: 10%)\n",
      "2024-04-23 17:15:57,599 - distributed.utils_perf - WARNING - full garbage collections took 10% CPU time recently (threshold: 10%)\n",
      "2024-04-23 17:15:57,980 - distributed.utils_perf - WARNING - full garbage collections took 11% CPU time recently (threshold: 10%)\n",
      "2024-04-23 17:15:58,248 - distributed.utils_perf - WARNING - full garbage collections took 10% CPU time recently (threshold: 10%)\n",
      "2024-04-23 17:15:58,669 - distributed.utils_perf - WARNING - full garbage collections took 12% CPU time recently (threshold: 10%)\n",
      "2024-04-23 17:15:58,921 - distributed.utils_perf - WARNING - full garbage collections took 10% CPU time recently (threshold: 10%)\n",
      "2024-04-23 17:15:59,556 - distributed.utils_perf - WARNING - full garbage collections took 12% CPU time recently (threshold: 10%)\n",
      "2024-04-23 17:15:59,860 - INFO: - Training model...\n",
      "2024-04-23 17:15:59,868 - INFO: - start listen on 10.91.28.16:60809\n",
      "[17:15:59] task [xgboost.dask-0]:tcp://127.0.0.1:37645 got new rank 0\n",
      "[17:15:59] task [xgboost.dask-1]:tcp://127.0.0.1:38003 got new rank 1\n",
      "[17:15:59] task [xgboost.dask-2]:tcp://127.0.0.1:33739 got new rank 2\n",
      "2024-04-23 17:15:59,925 - INFO: - @tracker All of 3 nodes getting started\n",
      "2024-04-23 17:19:14,473 - distributed.utils_perf - WARNING - full garbage collections took 12% CPU time recently (threshold: 10%)\n",
      "2024-04-23 17:21:18,481 - INFO: - @tracker All nodes finishes job\n",
      "2024-04-23 17:21:18,911 - INFO: - Running model on test data...\n",
      "2024-04-23 17:21:26,130 - distributed.utils_perf - WARNING - full garbage collections took 12% CPU time recently (threshold: 10%)\n",
      "2024-04-23 17:21:27,801 - distributed.utils_perf - WARNING - full garbage collections took 12% CPU time recently (threshold: 10%)\n",
      "2024-04-23 17:21:28,819 - distributed.utils_perf - WARNING - full garbage collections took 12% CPU time recently (threshold: 10%)\n",
      "2024-04-23 17:21:30,646 - distributed.utils_perf - WARNING - full garbage collections took 12% CPU time recently (threshold: 10%)\n",
      "2024-04-23 17:21:31,424 - distributed.utils_perf - WARNING - full garbage collections took 12% CPU time recently (threshold: 10%)\n",
      "2024-04-23 17:21:33,016 - distributed.utils_perf - WARNING - full garbage collections took 12% CPU time recently (threshold: 10%)\n",
      "2024-04-23 17:21:34,516 - distributed.utils_perf - WARNING - full garbage collections took 12% CPU time recently (threshold: 10%)\n",
      "2024-04-23 17:21:35,510 - distributed.utils_perf - WARNING - full garbage collections took 12% CPU time recently (threshold: 10%)\n",
      "2024-04-23 17:21:36,797 - distributed.utils_perf - WARNING - full garbage collections took 12% CPU time recently (threshold: 10%)\n",
      "2024-04-23 17:21:37,804 - distributed.utils_perf - WARNING - full garbage collections took 12% CPU time recently (threshold: 10%)\n",
      "2024-04-23 17:21:39,626 - distributed.utils_perf - WARNING - full garbage collections took 12% CPU time recently (threshold: 10%)\n",
      "2024-04-23 17:21:39,974 - INFO: - Calculating metrics...\n",
      "2024-04-23 17:21:40,031 - INFO: - Calculating metrics...Completed\n"
     ]
    },
    {
     "name": "stdout",
     "output_type": "stream",
     "text": [
      "--------------------------------------------------------------------------------\n",
      " train_auc           :   0.95796\n",
      " train_logloss       :   0.27216\n",
      " val_auc             :   0.61741\n",
      " val_logloss         :   0.35235\n",
      " roc_auc             :   0.61800\n",
      " logloss             :   0.35235\n",
      " accuracy            :   0.88179\n",
      " bal_acc             :   0.00432\n",
      " top_k_acc           :   1.00000\n",
      " F1_score            :   0.00957\n",
      " map                 :   0.19759\n",
      " pearson_corr        :   0.16482\n",
      "--------------------------------------------------------------------------------\n",
      " CV Split 4 -  Training files: [0, 1, 2, 3, 4, 5, 6, 7]   Validation files: [8, 9]  \n"
     ]
    },
    {
     "name": "stderr",
     "output_type": "stream",
     "text": [
      "2024-04-23 17:21:46,526 - INFO: - CrossValidation split #4\n",
      "2024-04-23 17:21:46,527 - INFO: - Building training & validation DMatrix...\n",
      "2024-04-23 17:21:48,040 - distributed.utils_perf - WARNING - full garbage collections took 12% CPU time recently (threshold: 10%)\n",
      "2024-04-23 17:21:48,724 - distributed.utils_perf - WARNING - full garbage collections took 12% CPU time recently (threshold: 10%)\n",
      "2024-04-23 17:21:49,057 - distributed.utils_perf - WARNING - full garbage collections took 12% CPU time recently (threshold: 10%)\n",
      "2024-04-23 17:21:49,407 - distributed.utils_perf - WARNING - full garbage collections took 12% CPU time recently (threshold: 10%)\n",
      "2024-04-23 17:21:50,585 - distributed.utils_perf - WARNING - full garbage collections took 12% CPU time recently (threshold: 10%)\n",
      "2024-04-23 17:21:51,288 - distributed.utils_perf - WARNING - full garbage collections took 12% CPU time recently (threshold: 10%)\n",
      "2024-04-23 17:21:51,631 - distributed.utils_perf - WARNING - full garbage collections took 12% CPU time recently (threshold: 10%)\n",
      "2024-04-23 17:21:51,959 - distributed.utils_perf - WARNING - full garbage collections took 12% CPU time recently (threshold: 10%)\n",
      "2024-04-23 17:21:53,296 - distributed.utils_perf - WARNING - full garbage collections took 12% CPU time recently (threshold: 10%)\n",
      "2024-04-23 17:21:53,878 - distributed.utils_perf - WARNING - full garbage collections took 12% CPU time recently (threshold: 10%)\n",
      "2024-04-23 17:21:54,224 - distributed.utils_perf - WARNING - full garbage collections took 12% CPU time recently (threshold: 10%)\n",
      "2024-04-23 17:21:54,542 - distributed.utils_perf - WARNING - full garbage collections took 12% CPU time recently (threshold: 10%)\n",
      "2024-04-23 17:21:56,124 - distributed.utils_perf - WARNING - full garbage collections took 12% CPU time recently (threshold: 10%)\n",
      "2024-04-23 17:21:56,445 - distributed.utils_perf - WARNING - full garbage collections took 12% CPU time recently (threshold: 10%)\n",
      "2024-04-23 17:21:56,791 - distributed.utils_perf - WARNING - full garbage collections took 12% CPU time recently (threshold: 10%)\n",
      "2024-04-23 17:21:57,701 - distributed.utils_perf - WARNING - full garbage collections took 12% CPU time recently (threshold: 10%)\n",
      "2024-04-23 17:21:58,754 - distributed.utils_perf - WARNING - full garbage collections took 12% CPU time recently (threshold: 10%)\n",
      "2024-04-23 17:21:59,099 - distributed.utils_perf - WARNING - full garbage collections took 12% CPU time recently (threshold: 10%)\n",
      "2024-04-23 17:21:59,443 - distributed.utils_perf - WARNING - full garbage collections took 12% CPU time recently (threshold: 10%)\n",
      "2024-04-23 17:22:00,558 - distributed.utils_perf - WARNING - full garbage collections took 12% CPU time recently (threshold: 10%)\n",
      "2024-04-23 17:22:01,430 - distributed.utils_perf - WARNING - full garbage collections took 12% CPU time recently (threshold: 10%)\n",
      "2024-04-23 17:22:01,783 - distributed.utils_perf - WARNING - full garbage collections took 12% CPU time recently (threshold: 10%)\n",
      "2024-04-23 17:22:02,900 - distributed.utils_perf - WARNING - full garbage collections took 12% CPU time recently (threshold: 10%)\n",
      "2024-04-23 17:22:03,253 - distributed.utils_perf - WARNING - full garbage collections took 12% CPU time recently (threshold: 10%)\n",
      "2024-04-23 17:22:04,125 - distributed.utils_perf - WARNING - full garbage collections took 12% CPU time recently (threshold: 10%)\n",
      "2024-04-23 17:22:05,231 - distributed.utils_perf - WARNING - full garbage collections took 12% CPU time recently (threshold: 10%)\n",
      "2024-04-23 17:22:05,592 - distributed.utils_perf - WARNING - full garbage collections took 12% CPU time recently (threshold: 10%)\n",
      "2024-04-23 17:22:06,175 - distributed.utils_perf - WARNING - full garbage collections took 12% CPU time recently (threshold: 10%)\n",
      "2024-04-23 17:22:06,775 - distributed.utils_perf - WARNING - full garbage collections took 12% CPU time recently (threshold: 10%)\n",
      "2024-04-23 17:22:07,942 - distributed.utils_perf - WARNING - full garbage collections took 12% CPU time recently (threshold: 10%)\n",
      "2024-04-23 17:22:08,337 - distributed.utils_perf - WARNING - full garbage collections took 12% CPU time recently (threshold: 10%)\n",
      "2024-04-23 17:22:09,216 - distributed.utils_perf - WARNING - full garbage collections took 12% CPU time recently (threshold: 10%)\n",
      "2024-04-23 17:22:09,606 - distributed.utils_perf - WARNING - full garbage collections took 12% CPU time recently (threshold: 10%)\n",
      "2024-04-23 17:22:10,851 - distributed.utils_perf - WARNING - full garbage collections took 12% CPU time recently (threshold: 10%)\n",
      "2024-04-23 17:22:11,269 - distributed.utils_perf - WARNING - full garbage collections took 12% CPU time recently (threshold: 10%)\n",
      "2024-04-23 17:22:12,150 - distributed.utils_perf - WARNING - full garbage collections took 12% CPU time recently (threshold: 10%)\n",
      "2024-04-23 17:22:13,396 - distributed.utils_perf - WARNING - full garbage collections took 12% CPU time recently (threshold: 10%)\n",
      "2024-04-23 17:22:13,809 - distributed.utils_perf - WARNING - full garbage collections took 12% CPU time recently (threshold: 10%)\n",
      "2024-04-23 17:22:14,717 - distributed.utils_perf - WARNING - full garbage collections took 12% CPU time recently (threshold: 10%)\n",
      "2024-04-23 17:22:15,706 - distributed.utils_perf - WARNING - full garbage collections took 12% CPU time recently (threshold: 10%)\n",
      "2024-04-23 17:22:16,368 - distributed.utils_perf - WARNING - full garbage collections took 12% CPU time recently (threshold: 10%)\n",
      "2024-04-23 17:22:16,773 - distributed.utils_perf - WARNING - full garbage collections took 12% CPU time recently (threshold: 10%)\n",
      "2024-04-23 17:22:17,655 - distributed.utils_perf - WARNING - full garbage collections took 12% CPU time recently (threshold: 10%)\n",
      "2024-04-23 17:22:18,887 - distributed.utils_perf - WARNING - full garbage collections took 12% CPU time recently (threshold: 10%)\n",
      "2024-04-23 17:22:19,293 - distributed.utils_perf - WARNING - full garbage collections took 12% CPU time recently (threshold: 10%)\n",
      "2024-04-23 17:22:20,177 - distributed.utils_perf - WARNING - full garbage collections took 12% CPU time recently (threshold: 10%)\n",
      "2024-04-23 17:22:21,276 - distributed.utils_perf - WARNING - full garbage collections took 12% CPU time recently (threshold: 10%)\n",
      "2024-04-23 17:22:21,925 - distributed.utils_perf - WARNING - full garbage collections took 12% CPU time recently (threshold: 10%)\n",
      "2024-04-23 17:22:22,581 - distributed.utils_perf - WARNING - full garbage collections took 12% CPU time recently (threshold: 10%)\n",
      "2024-04-23 17:22:23,289 - distributed.utils_perf - WARNING - full garbage collections took 12% CPU time recently (threshold: 10%)\n",
      "2024-04-23 17:22:24,576 - distributed.utils_perf - WARNING - full garbage collections took 12% CPU time recently (threshold: 10%)\n",
      "2024-04-23 17:22:25,009 - distributed.utils_perf - WARNING - full garbage collections took 12% CPU time recently (threshold: 10%)\n",
      "2024-04-23 17:22:25,921 - distributed.utils_perf - WARNING - full garbage collections took 12% CPU time recently (threshold: 10%)\n",
      "2024-04-23 17:22:27,205 - distributed.utils_perf - WARNING - full garbage collections took 12% CPU time recently (threshold: 10%)\n",
      "2024-04-23 17:22:27,642 - distributed.utils_perf - WARNING - full garbage collections took 12% CPU time recently (threshold: 10%)\n",
      "2024-04-23 17:22:28,544 - distributed.utils_perf - WARNING - full garbage collections took 12% CPU time recently (threshold: 10%)\n",
      "2024-04-23 17:22:29,820 - distributed.utils_perf - WARNING - full garbage collections took 12% CPU time recently (threshold: 10%)\n",
      "2024-04-23 17:22:30,249 - distributed.utils_perf - WARNING - full garbage collections took 12% CPU time recently (threshold: 10%)\n",
      "2024-04-23 17:22:31,183 - distributed.utils_perf - WARNING - full garbage collections took 12% CPU time recently (threshold: 10%)\n",
      "2024-04-23 17:22:31,609 - distributed.utils_perf - WARNING - full garbage collections took 12% CPU time recently (threshold: 10%)\n",
      "2024-04-23 17:22:32,912 - distributed.utils_perf - WARNING - full garbage collections took 12% CPU time recently (threshold: 10%)\n",
      "2024-04-23 17:22:33,589 - distributed.utils_perf - WARNING - full garbage collections took 12% CPU time recently (threshold: 10%)\n",
      "2024-04-23 17:22:34,272 - distributed.utils_perf - WARNING - full garbage collections took 12% CPU time recently (threshold: 10%)\n",
      "2024-04-23 17:22:35,589 - distributed.utils_perf - WARNING - full garbage collections took 12% CPU time recently (threshold: 10%)\n",
      "2024-04-23 17:22:36,374 - distributed.utils_perf - WARNING - full garbage collections took 12% CPU time recently (threshold: 10%)\n",
      "2024-04-23 17:22:37,084 - distributed.utils_perf - WARNING - full garbage collections took 12% CPU time recently (threshold: 10%)\n",
      "2024-04-23 17:22:38,341 - distributed.utils_perf - WARNING - full garbage collections took 12% CPU time recently (threshold: 10%)\n",
      "2024-04-23 17:22:38,779 - distributed.utils_perf - WARNING - full garbage collections took 12% CPU time recently (threshold: 10%)\n",
      "2024-04-23 17:22:39,711 - distributed.utils_perf - WARNING - full garbage collections took 12% CPU time recently (threshold: 10%)\n",
      "2024-04-23 17:22:40,978 - distributed.utils_perf - WARNING - full garbage collections took 12% CPU time recently (threshold: 10%)\n",
      "2024-04-23 17:22:41,442 - distributed.utils_perf - WARNING - full garbage collections took 12% CPU time recently (threshold: 10%)\n",
      "2024-04-23 17:22:42,447 - distributed.utils_perf - WARNING - full garbage collections took 12% CPU time recently (threshold: 10%)\n",
      "2024-04-23 17:22:43,695 - distributed.utils_perf - WARNING - full garbage collections took 12% CPU time recently (threshold: 10%)\n",
      "2024-04-23 17:22:44,160 - distributed.utils_perf - WARNING - full garbage collections took 12% CPU time recently (threshold: 10%)\n",
      "2024-04-23 17:22:45,223 - distributed.utils_perf - WARNING - full garbage collections took 12% CPU time recently (threshold: 10%)\n",
      "2024-04-23 17:22:46,277 - distributed.utils_perf - WARNING - full garbage collections took 12% CPU time recently (threshold: 10%)\n",
      "2024-04-23 17:22:46,965 - distributed.utils_perf - WARNING - full garbage collections took 12% CPU time recently (threshold: 10%)\n",
      "2024-04-23 17:22:48,071 - distributed.utils_perf - WARNING - full garbage collections took 12% CPU time recently (threshold: 10%)\n",
      "2024-04-23 17:22:49,001 - distributed.utils_perf - WARNING - full garbage collections took 12% CPU time recently (threshold: 10%)\n",
      "2024-04-23 17:22:49,724 - distributed.utils_perf - WARNING - full garbage collections took 12% CPU time recently (threshold: 10%)\n",
      "2024-04-23 17:22:51,027 - distributed.utils_perf - WARNING - full garbage collections took 12% CPU time recently (threshold: 10%)\n",
      "2024-04-23 17:22:51,949 - distributed.utils_perf - WARNING - full garbage collections took 12% CPU time recently (threshold: 10%)\n",
      "2024-04-23 17:22:52,564 - distributed.utils_perf - WARNING - full garbage collections took 12% CPU time recently (threshold: 10%)\n",
      "2024-04-23 17:22:53,886 - distributed.utils_perf - WARNING - full garbage collections took 12% CPU time recently (threshold: 10%)\n",
      "2024-04-23 17:22:54,880 - distributed.utils_perf - WARNING - full garbage collections took 12% CPU time recently (threshold: 10%)\n",
      "2024-04-23 17:22:55,337 - distributed.utils_perf - WARNING - full garbage collections took 12% CPU time recently (threshold: 10%)\n",
      "2024-04-23 17:22:56,654 - distributed.utils_perf - WARNING - full garbage collections took 12% CPU time recently (threshold: 10%)\n",
      "2024-04-23 17:22:57,441 - distributed.utils_perf - WARNING - full garbage collections took 12% CPU time recently (threshold: 10%)\n",
      "2024-04-23 17:22:58,118 - distributed.utils_perf - WARNING - full garbage collections took 12% CPU time recently (threshold: 10%)\n",
      "2024-04-23 17:22:59,421 - distributed.utils_perf - WARNING - full garbage collections took 12% CPU time recently (threshold: 10%)\n",
      "2024-04-23 17:22:59,898 - distributed.utils_perf - WARNING - full garbage collections took 12% CPU time recently (threshold: 10%)\n",
      "2024-04-23 17:23:00,782 - distributed.utils_perf - WARNING - full garbage collections took 12% CPU time recently (threshold: 10%)\n",
      "2024-04-23 17:23:02,876 - distributed.utils_perf - WARNING - full garbage collections took 12% CPU time recently (threshold: 10%)\n",
      "2024-04-23 17:23:03,890 - distributed.utils_perf - WARNING - full garbage collections took 12% CPU time recently (threshold: 10%)\n",
      "2024-04-23 17:23:04,419 - distributed.utils_perf - WARNING - full garbage collections took 12% CPU time recently (threshold: 10%)\n",
      "2024-04-23 17:23:05,761 - distributed.utils_perf - WARNING - full garbage collections took 12% CPU time recently (threshold: 10%)\n",
      "2024-04-23 17:23:06,726 - distributed.utils_perf - WARNING - full garbage collections took 12% CPU time recently (threshold: 10%)\n",
      "2024-04-23 17:23:07,276 - distributed.utils_perf - WARNING - full garbage collections took 12% CPU time recently (threshold: 10%)\n",
      "2024-04-23 17:23:08,624 - distributed.utils_perf - WARNING - full garbage collections took 12% CPU time recently (threshold: 10%)\n",
      "2024-04-23 17:23:09,634 - distributed.utils_perf - WARNING - full garbage collections took 12% CPU time recently (threshold: 10%)\n",
      "2024-04-23 17:23:10,150 - distributed.utils_perf - WARNING - full garbage collections took 12% CPU time recently (threshold: 10%)\n",
      "2024-04-23 17:23:11,445 - distributed.utils_perf - WARNING - full garbage collections took 12% CPU time recently (threshold: 10%)\n",
      "2024-04-23 17:23:12,462 - distributed.utils_perf - WARNING - full garbage collections took 12% CPU time recently (threshold: 10%)\n",
      "2024-04-23 17:23:12,978 - distributed.utils_perf - WARNING - full garbage collections took 12% CPU time recently (threshold: 10%)\n",
      "2024-04-23 17:23:14,815 - distributed.utils_perf - WARNING - full garbage collections took 12% CPU time recently (threshold: 10%)\n",
      "2024-04-23 17:23:15,319 - distributed.utils_perf - WARNING - full garbage collections took 12% CPU time recently (threshold: 10%)\n",
      "2024-04-23 17:23:16,664 - distributed.utils_perf - WARNING - full garbage collections took 12% CPU time recently (threshold: 10%)\n",
      "2024-04-23 17:23:17,700 - distributed.utils_perf - WARNING - full garbage collections took 12% CPU time recently (threshold: 10%)\n",
      "2024-04-23 17:23:18,220 - distributed.utils_perf - WARNING - full garbage collections took 12% CPU time recently (threshold: 10%)\n",
      "2024-04-23 17:23:19,528 - distributed.utils_perf - WARNING - full garbage collections took 12% CPU time recently (threshold: 10%)\n",
      "2024-04-23 17:23:20,031 - distributed.utils_perf - WARNING - full garbage collections took 12% CPU time recently (threshold: 10%)\n",
      "2024-04-23 17:23:20,933 - distributed.utils_perf - WARNING - full garbage collections took 12% CPU time recently (threshold: 10%)\n",
      "2024-04-23 17:23:21,150 - INFO: - Training model...\n",
      "2024-04-23 17:23:21,159 - INFO: - start listen on 10.91.28.16:38129\n",
      "[17:23:21] task [xgboost.dask-0]:tcp://127.0.0.1:37645 got new rank 0\n",
      "[17:23:21] task [xgboost.dask-1]:tcp://127.0.0.1:38003 got new rank 1\n",
      "[17:23:21] task [xgboost.dask-2]:tcp://127.0.0.1:33739 got new rank 2\n",
      "2024-04-23 17:23:21,202 - INFO: - @tracker All of 3 nodes getting started\n",
      "2024-04-23 17:28:45,680 - INFO: - @tracker All nodes finishes job\n",
      "2024-04-23 17:28:46,019 - INFO: - Running model on test data...\n",
      "2024-04-23 17:29:05,560 - INFO: - Calculating metrics...\n",
      "2024-04-23 17:29:05,647 - INFO: - Calculating metrics...Completed\n"
     ]
    },
    {
     "name": "stdout",
     "output_type": "stream",
     "text": [
      "--------------------------------------------------------------------------------\n",
      " train_auc           :   0.96123\n",
      " train_logloss       :   0.27097\n",
      " val_auc             :   0.62398\n",
      " val_logloss         :   0.35222\n",
      " roc_auc             :   0.62536\n",
      " logloss             :   0.35222\n",
      " accuracy            :   0.88100\n",
      " bal_acc             :   0.00406\n",
      " top_k_acc           :   1.00000\n",
      " F1_score            :   0.00864\n",
      " map                 :   0.20921\n",
      " pearson_corr        :   0.18106\n",
      "--------------------------------------------------------------------------------\n",
      "--------------------------------------------------------------------------------\n",
      " train_auc                 0.96060 +/- 0.00419\n",
      " train_logloss             0.27060 +/- 0.00332\n",
      " val_auc                   0.62481 +/- 0.00438\n",
      " val_logloss               0.35267 +/- 0.00371\n",
      " roc_auc                   0.62577 +/- 0.00450\n",
      " logloss                   0.35267 +/- 0.00371\n",
      " accuracy                  0.88075 +/- 0.00198\n",
      " bal_acc                   0.00311 +/- 0.00111\n",
      " top_k_acc                 1.00000 +/- 0.00000\n",
      " F1_score                  0.00685 +/- 0.00219\n",
      " map                       0.20669 +/- 0.00479\n",
      " pearson_corr              0.17818 +/- 0.00751\n",
      "--------------------------------------------------------------------------------\n",
      " model best score    :  0.35218564744500896\n",
      " model best iteration:  817\n",
      " Save model to : ./saved_models/classification-study-Apr24_trial_019.json\n"
     ]
    },
    {
     "name": "stderr",
     "output_type": "stream",
     "text": [
      "[I 2024-04-23 17:29:06,027] Trial 19 finished with values: {'roc_auc': 0.62480926056213, 'logloss': 0.3526741762931799} and parameters: {'learning_rate': 0.01010335601502925, 'min_split_loss': 0.2472646534150965, 'max_depth': 8, 'min_child_weight': 6.489942713197961, 'max_delta_step': 9.899914342970385, 'subsample': 0.9078959875289839, 'colsample_bylevel': 0.6706021187887963, 'colsample_bynode': 0.9887993750054633}. \n"
     ]
    },
    {
     "name": "stdout",
     "output_type": "stream",
     "text": [
      "--------------------------------------------------------------------------------\n",
      " Training model (trial #20) \n",
      "--------------------------------------------------------------------------------\n",
      " Parameters:\n",
      "  booster                        gbtree\n",
      "  device                         gpu\n",
      "  verbosity                      0\n",
      "  disable_default_eval_metric    False\n",
      "  objective                      binary:logistic\n",
      "  eval_metric                    ['auc', 'logloss']\n",
      "  tree_method                    auto\n",
      "  learning_rate                  0.48441440537090674\n",
      "  gamma                          2.5776662722533814\n",
      "  max_depth                      12\n",
      "  min_child_weight               6.214096849937864\n",
      "  max_delta_step                 9.06868977247252\n",
      "  subsample                      0.7499440788806184\n",
      "  sampling_method                uniform\n",
      "  colsample_bytree               1.0\n",
      "  colsample_bylevel              0.5922511168822466\n",
      "  colsample_bynode               0.8506200524517991\n",
      "  lambda                         1\n",
      "  scale_pos_weight               1\n",
      "  max_leaves                     0\n",
      "  reg_lambda                     3.2267\n",
      " # bin files: 10   # of folds 5 -  (groups of 2 file tuples)\n",
      " CV Split 0 -  Training files: [2, 3, 4, 5, 6, 7, 8, 9]   Validation files: [0, 1]  \n"
     ]
    },
    {
     "name": "stderr",
     "output_type": "stream",
     "text": [
      "2024-04-23 17:29:12,690 - INFO: - CrossValidation split #0\n",
      "2024-04-23 17:29:12,691 - INFO: - Building training & validation DMatrix...\n",
      "2024-04-23 17:30:47,100 - INFO: - Training model...\n",
      "2024-04-23 17:30:47,110 - INFO: - start listen on 10.91.28.16:38501\n",
      "[17:30:47] task [xgboost.dask-0]:tcp://127.0.0.1:37645 got new rank 0\n",
      "[17:30:47] task [xgboost.dask-1]:tcp://127.0.0.1:38003 got new rank 1\n",
      "[17:30:47] task [xgboost.dask-2]:tcp://127.0.0.1:33739 got new rank 2\n",
      "2024-04-23 17:30:47,161 - INFO: - @tracker All of 3 nodes getting started\n",
      "2024-04-23 17:31:39,813 - INFO: - @tracker All nodes finishes job\n",
      "2024-04-23 17:31:40,029 - INFO: - Running model on test data...\n",
      "2024-04-23 17:31:58,786 - INFO: - Calculating metrics...\n",
      "2024-04-23 17:31:58,842 - INFO: - Calculating metrics...Completed\n"
     ]
    },
    {
     "name": "stdout",
     "output_type": "stream",
     "text": [
      "--------------------------------------------------------------------------------\n",
      " train_auc           :   0.99989\n",
      " train_logloss       :   0.06741\n",
      " val_auc             :   0.55793\n",
      " val_logloss         :   0.48318\n",
      " roc_auc             :   0.55903\n",
      " logloss             :   0.48318\n",
      " accuracy            :   0.86399\n",
      " bal_acc             :   0.02502\n",
      " top_k_acc           :   1.00000\n",
      " F1_score            :   0.08057\n",
      " map                 :   0.15072\n",
      " pearson_corr        :   0.07415\n",
      "--------------------------------------------------------------------------------\n",
      " CV Split 1 -  Training files: [0, 1, 4, 5, 6, 7, 8, 9]   Validation files: [2, 3]  \n"
     ]
    },
    {
     "name": "stderr",
     "output_type": "stream",
     "text": [
      "2024-04-23 17:32:04,536 - INFO: - CrossValidation split #1\n",
      "2024-04-23 17:32:04,537 - INFO: - Building training & validation DMatrix...\n",
      "2024-04-23 17:33:38,366 - INFO: - Training model...\n",
      "2024-04-23 17:33:38,376 - INFO: - start listen on 10.91.28.16:47351\n",
      "[17:33:38] task [xgboost.dask-0]:tcp://127.0.0.1:37645 got new rank 0\n",
      "[17:33:38] task [xgboost.dask-1]:tcp://127.0.0.1:38003 got new rank 1\n",
      "[17:33:38] task [xgboost.dask-2]:tcp://127.0.0.1:33739 got new rank 2\n",
      "2024-04-23 17:33:38,428 - INFO: - @tracker All of 3 nodes getting started\n",
      "2024-04-23 17:34:31,354 - INFO: - @tracker All nodes finishes job\n",
      "2024-04-23 17:34:31,560 - INFO: - Running model on test data...\n",
      "2024-04-23 17:34:51,057 - INFO: - Calculating metrics...\n",
      "2024-04-23 17:34:51,117 - INFO: - Calculating metrics...Completed\n"
     ]
    },
    {
     "name": "stdout",
     "output_type": "stream",
     "text": [
      "--------------------------------------------------------------------------------\n",
      " train_auc           :   0.99990\n",
      " train_logloss       :   0.06565\n",
      " val_auc             :   0.56482\n",
      " val_logloss         :   0.48640\n",
      " roc_auc             :   0.56519\n",
      " logloss             :   0.48640\n",
      " accuracy            :   0.86169\n",
      " bal_acc             :   0.02099\n",
      " top_k_acc           :   1.00000\n",
      " F1_score            :   0.07487\n",
      " map                 :   0.15281\n",
      " pearson_corr        :   0.07293\n",
      "--------------------------------------------------------------------------------\n",
      " CV Split 2 -  Training files: [0, 1, 2, 3, 6, 7, 8, 9]   Validation files: [4, 5]  \n"
     ]
    },
    {
     "name": "stderr",
     "output_type": "stream",
     "text": [
      "2024-04-23 17:34:57,575 - INFO: - CrossValidation split #2\n",
      "2024-04-23 17:34:57,578 - INFO: - Building training & validation DMatrix...\n",
      "2024-04-23 17:36:31,595 - INFO: - Training model...\n",
      "2024-04-23 17:36:31,610 - INFO: - start listen on 10.91.28.16:55551\n",
      "[17:36:31] task [xgboost.dask-0]:tcp://127.0.0.1:37645 got new rank 0\n",
      "[17:36:31] task [xgboost.dask-1]:tcp://127.0.0.1:38003 got new rank 1\n",
      "[17:36:31] task [xgboost.dask-2]:tcp://127.0.0.1:33739 got new rank 2\n",
      "2024-04-23 17:36:31,661 - INFO: - @tracker All of 3 nodes getting started\n",
      "2024-04-23 17:37:24,316 - INFO: - @tracker All nodes finishes job\n",
      "2024-04-23 17:37:24,546 - INFO: - Running model on test data...\n",
      "2024-04-23 17:37:44,082 - INFO: - Calculating metrics...\n",
      "2024-04-23 17:37:44,149 - INFO: - Calculating metrics...Completed\n"
     ]
    },
    {
     "name": "stdout",
     "output_type": "stream",
     "text": [
      "--------------------------------------------------------------------------------\n",
      " train_auc           :   0.99989\n",
      " train_logloss       :   0.06730\n",
      " val_auc             :   0.56576\n",
      " val_logloss         :   0.46546\n",
      " roc_auc             :   0.56622\n",
      " logloss             :   0.46546\n",
      " accuracy            :   0.86738\n",
      " bal_acc             :   0.02544\n",
      " top_k_acc           :   1.00000\n",
      " F1_score            :   0.08106\n",
      " map                 :   0.14898\n",
      " pearson_corr        :   0.07997\n",
      "--------------------------------------------------------------------------------\n",
      " CV Split 3 -  Training files: [0, 1, 2, 3, 4, 5, 8, 9]   Validation files: [6, 7]  \n"
     ]
    },
    {
     "name": "stderr",
     "output_type": "stream",
     "text": [
      "2024-04-23 17:37:50,396 - INFO: - CrossValidation split #3\n",
      "2024-04-23 17:37:50,398 - INFO: - Building training & validation DMatrix...\n",
      "2024-04-23 17:39:25,521 - INFO: - Training model...\n",
      "2024-04-23 17:39:25,532 - INFO: - start listen on 10.91.28.16:57675\n",
      "[17:39:25] task [xgboost.dask-0]:tcp://127.0.0.1:37645 got new rank 0\n",
      "[17:39:25] task [xgboost.dask-1]:tcp://127.0.0.1:38003 got new rank 1\n",
      "[17:39:25] task [xgboost.dask-2]:tcp://127.0.0.1:33739 got new rank 2\n",
      "2024-04-23 17:39:25,579 - INFO: - @tracker All of 3 nodes getting started\n",
      "2024-04-23 17:40:17,154 - INFO: - @tracker All nodes finishes job\n",
      "2024-04-23 17:40:17,359 - INFO: - Running model on test data...\n",
      "2024-04-23 17:40:36,974 - INFO: - Calculating metrics...\n",
      "2024-04-23 17:40:37,036 - INFO: - Calculating metrics...Completed\n"
     ]
    },
    {
     "name": "stdout",
     "output_type": "stream",
     "text": [
      "--------------------------------------------------------------------------------\n",
      " train_auc           :   0.99979\n",
      " train_logloss       :   0.06773\n",
      " val_auc             :   0.56175\n",
      " val_logloss         :   0.47191\n",
      " roc_auc             :   0.56181\n",
      " logloss             :   0.47191\n",
      " accuracy            :   0.86641\n",
      " bal_acc             :   0.02636\n",
      " top_k_acc           :   1.00000\n",
      " F1_score            :   0.08201\n",
      " map                 :   0.15086\n",
      " pearson_corr        :   0.07906\n",
      "--------------------------------------------------------------------------------\n",
      " CV Split 4 -  Training files: [0, 1, 2, 3, 4, 5, 6, 7]   Validation files: [8, 9]  \n"
     ]
    },
    {
     "name": "stderr",
     "output_type": "stream",
     "text": [
      "2024-04-23 17:40:43,422 - INFO: - CrossValidation split #4\n",
      "2024-04-23 17:40:43,423 - INFO: - Building training & validation DMatrix...\n",
      "2024-04-23 17:42:18,164 - INFO: - Training model...\n",
      "2024-04-23 17:42:18,174 - INFO: - start listen on 10.91.28.16:56375\n",
      "[17:42:18] task [xgboost.dask-0]:tcp://127.0.0.1:37645 got new rank 0\n",
      "[17:42:18] task [xgboost.dask-1]:tcp://127.0.0.1:38003 got new rank 1\n",
      "[17:42:18] task [xgboost.dask-2]:tcp://127.0.0.1:33739 got new rank 2\n",
      "2024-04-23 17:42:18,219 - INFO: - @tracker All of 3 nodes getting started\n",
      "2024-04-23 17:43:09,821 - INFO: - @tracker All nodes finishes job\n",
      "2024-04-23 17:43:10,034 - INFO: - Running model on test data...\n",
      "2024-04-23 17:43:29,991 - INFO: - Calculating metrics...\n",
      "2024-04-23 17:43:30,043 - INFO: - Calculating metrics...Completed\n",
      "[I 2024-04-23 17:43:30,148] Trial 20 finished with values: {'roc_auc': 0.561437989408035, 'logloss': 0.4766005530832523} and parameters: {'learning_rate': 0.48441440537090674, 'min_split_loss': 2.5776662722533814, 'max_depth': 12, 'min_child_weight': 6.214096849937864, 'max_delta_step': 9.06868977247252, 'subsample': 0.7499440788806184, 'colsample_bylevel': 0.5922511168822466, 'colsample_bynode': 0.8506200524517991}. \n"
     ]
    },
    {
     "name": "stdout",
     "output_type": "stream",
     "text": [
      "--------------------------------------------------------------------------------\n",
      " train_auc           :   0.99986\n",
      " train_logloss       :   0.06830\n",
      " val_auc             :   0.55692\n",
      " val_logloss         :   0.47605\n",
      " roc_auc             :   0.55691\n",
      " logloss             :   0.47605\n",
      " accuracy            :   0.86463\n",
      " bal_acc             :   0.02478\n",
      " top_k_acc           :   1.00000\n",
      " F1_score            :   0.08069\n",
      " map                 :   0.14923\n",
      " pearson_corr        :   0.07233\n",
      "--------------------------------------------------------------------------------\n",
      "--------------------------------------------------------------------------------\n",
      " train_auc                 0.99986 +/- 0.00004\n",
      " train_logloss             0.06728 +/- 0.00088\n",
      " val_auc                   0.56144 +/- 0.00355\n",
      " val_logloss               0.47660 +/- 0.00756\n",
      " roc_auc                   0.56183 +/- 0.00354\n",
      " logloss                   0.47660 +/- 0.00756\n",
      " accuracy                  0.86482 +/- 0.00198\n",
      " bal_acc                   0.02452 +/- 0.00184\n",
      " top_k_acc                 1.00000 +/- 0.00000\n",
      " F1_score                  0.07984 +/- 0.00253\n",
      " map                       0.15052 +/- 0.00137\n",
      " pearson_corr              0.07569 +/- 0.00319\n",
      "--------------------------------------------------------------------------------\n",
      " model best score    :  0.3648669626682181\n",
      " model best iteration:  1\n",
      " Save model to : ./saved_models/classification-study-Apr24_trial_020.json\n",
      "Total time:  0:51:13.148937\n"
     ]
    }
   ],
   "source": [
    "# start = datetime.now()\n",
    "# study.optimize(objective, n_trials=2, timeout=3600*4, gc_after_trial=True, show_progress_bar=False)\n",
    "# print(f\"Total time:  {datetime.now() - start}\")"
   ]
  },
  {
   "cell_type": "markdown",
   "metadata": {
    "jp-MarkdownHeadingCollapsed": true
   },
   "source": [
    "## Identify / Rerun  / Save best study"
   ]
  },
  {
   "cell_type": "code",
   "execution_count": 42,
   "metadata": {
    "execution": {
     "iopub.execute_input": "2024-04-23T14:42:31.038322Z",
     "iopub.status.busy": "2024-04-23T14:42:31.037845Z",
     "iopub.status.idle": "2024-04-23T14:42:31.090196Z",
     "shell.execute_reply": "2024-04-23T14:42:31.089606Z",
     "shell.execute_reply.started": "2024-04-23T14:42:31.038279Z"
    }
   },
   "outputs": [
    {
     "name": "stdout",
     "output_type": "stream",
     "text": [
      " Best trials:  [16]\n"
     ]
    }
   ],
   "source": [
    "print(\" Best trials: \", [x.number for x in study.best_trials])\n",
    "# study.best_params"
   ]
  },
  {
   "cell_type": "code",
   "execution_count": 43,
   "metadata": {
    "execution": {
     "iopub.execute_input": "2024-04-23T14:42:38.377280Z",
     "iopub.status.busy": "2024-04-23T14:42:38.376868Z",
     "iopub.status.idle": "2024-04-23T14:42:38.428583Z",
     "shell.execute_reply": "2024-04-23T14:42:38.427882Z",
     "shell.execute_reply.started": "2024-04-23T14:42:38.377246Z"
    }
   },
   "outputs": [],
   "source": [
    "best_trial_copy = copy.deepcopy(study.best_trials[0])"
   ]
  },
  {
   "cell_type": "code",
   "execution_count": 44,
   "metadata": {
    "execution": {
     "iopub.execute_input": "2024-04-23T14:42:40.964835Z",
     "iopub.status.busy": "2024-04-23T14:42:40.964483Z",
     "iopub.status.idle": "2024-04-23T14:45:17.439679Z",
     "shell.execute_reply": "2024-04-23T14:45:17.435159Z",
     "shell.execute_reply.started": "2024-04-23T14:42:40.964806Z"
    },
    "scrolled": true
   },
   "outputs": [
    {
     "name": "stdout",
     "output_type": "stream",
     "text": [
      "--------------------------------------------------------------------------------\n",
      " Training model (trial #16) \n",
      "--------------------------------------------------------------------------------\n",
      " Parameters:\n",
      "  booster                        gbtree\n",
      "  device                         gpu\n",
      "  verbosity                      0\n",
      "  disable_default_eval_metric    False\n",
      "  objective                      binary:logistic\n",
      "  eval_metric                    ['auc', 'logloss']\n",
      "  tree_method                    auto\n",
      "  learning_rate                  0.010234404538749175\n",
      "  gamma                          0.18563610560325383\n",
      "  max_depth                      7\n",
      "  min_child_weight               7.027369048455732\n",
      "  max_delta_step                 9.585349981381594\n",
      "  subsample                      0.9738843183714915\n",
      "  sampling_method                uniform\n",
      "  colsample_bytree               1.0\n",
      "  colsample_bylevel              0.6737673388064724\n",
      "  colsample_bynode               0.9912562275686254\n",
      "  lambda                         1\n",
      "  scale_pos_weight               1\n",
      "  max_leaves                     0\n",
      "  reg_lambda                     3.2267\n",
      " # bin files: 10   # of folds 5 -  (groups of 2 file tuples)\n",
      " CV Split 0 -  Training files: [2, 3, 4, 5, 6, 7, 8, 9]   Validation files: [0, 1]  \n"
     ]
    },
    {
     "name": "stderr",
     "output_type": "stream",
     "text": [
      "2024-04-23 16:42:47,552 - INFO: - CrossValidation split #0\n",
      "2024-04-23 16:42:47,553 - INFO: - Building training & validation DMatrix...\n",
      "2024-04-23 16:42:48,689 - distributed.utils_perf - WARNING - full garbage collections took 12% CPU time recently (threshold: 10%)\n",
      "2024-04-23 16:42:48,888 - distributed.utils_perf - WARNING - full garbage collections took 37% CPU time recently (threshold: 10%)\n",
      "2024-04-23 16:42:50,247 - distributed.utils_perf - WARNING - full garbage collections took 12% CPU time recently (threshold: 10%)\n",
      "2024-04-23 16:42:51,528 - distributed.utils_perf - WARNING - full garbage collections took 12% CPU time recently (threshold: 10%)\n",
      "2024-04-23 16:42:51,949 - distributed.utils_perf - WARNING - full garbage collections took 12% CPU time recently (threshold: 10%)\n",
      "2024-04-23 16:42:52,343 - distributed.utils_perf - WARNING - full garbage collections took 12% CPU time recently (threshold: 10%)\n",
      "2024-04-23 16:42:52,737 - distributed.utils_perf - WARNING - full garbage collections took 12% CPU time recently (threshold: 10%)\n",
      "2024-04-23 16:42:54,051 - distributed.utils_perf - WARNING - full garbage collections took 12% CPU time recently (threshold: 10%)\n",
      "2024-04-23 16:42:55,979 - distributed.utils_perf - WARNING - full garbage collections took 12% CPU time recently (threshold: 10%)\n",
      "2024-04-23 16:42:56,595 - distributed.utils_perf - WARNING - full garbage collections took 12% CPU time recently (threshold: 10%)\n",
      "2024-04-23 16:42:57,012 - distributed.utils_perf - WARNING - full garbage collections took 12% CPU time recently (threshold: 10%)\n",
      "2024-04-23 16:42:58,300 - distributed.utils_perf - WARNING - full garbage collections took 12% CPU time recently (threshold: 10%)\n",
      "2024-04-23 16:42:58,704 - distributed.utils_perf - WARNING - full garbage collections took 12% CPU time recently (threshold: 10%)\n",
      "2024-04-23 16:43:00,100 - distributed.utils_perf - WARNING - full garbage collections took 12% CPU time recently (threshold: 10%)\n",
      "2024-04-23 16:43:01,357 - distributed.utils_perf - WARNING - full garbage collections took 12% CPU time recently (threshold: 10%)\n",
      "2024-04-23 16:43:02,426 - distributed.utils_perf - WARNING - full garbage collections took 12% CPU time recently (threshold: 10%)\n",
      "2024-04-23 16:43:03,062 - distributed.utils_perf - WARNING - full garbage collections took 12% CPU time recently (threshold: 10%)\n",
      "2024-04-23 16:43:04,349 - distributed.utils_perf - WARNING - full garbage collections took 12% CPU time recently (threshold: 10%)\n",
      "2024-04-23 16:43:05,643 - distributed.utils_perf - WARNING - full garbage collections took 12% CPU time recently (threshold: 10%)\n",
      "2024-04-23 16:43:06,933 - distributed.utils_perf - WARNING - full garbage collections took 12% CPU time recently (threshold: 10%)\n",
      "2024-04-23 16:43:08,025 - distributed.utils_perf - WARNING - full garbage collections took 12% CPU time recently (threshold: 10%)\n",
      "2024-04-23 16:43:08,738 - distributed.utils_perf - WARNING - full garbage collections took 12% CPU time recently (threshold: 10%)\n",
      "2024-04-23 16:43:09,131 - distributed.utils_perf - WARNING - full garbage collections took 12% CPU time recently (threshold: 10%)\n",
      "2024-04-23 16:43:10,431 - distributed.utils_perf - WARNING - full garbage collections took 12% CPU time recently (threshold: 10%)\n",
      "2024-04-23 16:43:10,839 - distributed.utils_perf - WARNING - full garbage collections took 12% CPU time recently (threshold: 10%)\n",
      "2024-04-23 16:43:12,170 - distributed.utils_perf - WARNING - full garbage collections took 12% CPU time recently (threshold: 10%)\n",
      "2024-04-23 16:43:13,449 - distributed.utils_perf - WARNING - full garbage collections took 12% CPU time recently (threshold: 10%)\n",
      "2024-04-23 16:43:14,562 - distributed.utils_perf - WARNING - full garbage collections took 12% CPU time recently (threshold: 10%)\n",
      "2024-04-23 16:43:15,194 - distributed.utils_perf - WARNING - full garbage collections took 12% CPU time recently (threshold: 10%)\n",
      "2024-04-23 16:43:16,578 - distributed.utils_perf - WARNING - full garbage collections took 12% CPU time recently (threshold: 10%)\n",
      "2024-04-23 16:43:16,979 - distributed.utils_perf - WARNING - full garbage collections took 12% CPU time recently (threshold: 10%)\n",
      "2024-04-23 16:43:18,345 - distributed.utils_perf - WARNING - full garbage collections took 12% CPU time recently (threshold: 10%)\n",
      "2024-04-23 16:43:19,657 - distributed.utils_perf - WARNING - full garbage collections took 12% CPU time recently (threshold: 10%)\n",
      "2024-04-23 16:43:20,076 - distributed.utils_perf - WARNING - full garbage collections took 12% CPU time recently (threshold: 10%)\n",
      "2024-04-23 16:43:21,393 - distributed.utils_perf - WARNING - full garbage collections took 12% CPU time recently (threshold: 10%)\n",
      "2024-04-23 16:43:22,593 - distributed.utils_perf - WARNING - full garbage collections took 12% CPU time recently (threshold: 10%)\n",
      "2024-04-23 16:43:24,183 - distributed.utils_perf - WARNING - full garbage collections took 12% CPU time recently (threshold: 10%)\n",
      "2024-04-23 16:43:25,535 - distributed.utils_perf - WARNING - full garbage collections took 12% CPU time recently (threshold: 10%)\n",
      "2024-04-23 16:43:25,957 - distributed.utils_perf - WARNING - full garbage collections took 12% CPU time recently (threshold: 10%)\n",
      "2024-04-23 16:43:26,396 - distributed.utils_perf - WARNING - full garbage collections took 12% CPU time recently (threshold: 10%)\n",
      "2024-04-23 16:43:26,826 - distributed.utils_perf - WARNING - full garbage collections took 12% CPU time recently (threshold: 10%)\n",
      "2024-04-23 16:43:28,206 - distributed.utils_perf - WARNING - full garbage collections took 12% CPU time recently (threshold: 10%)\n",
      "2024-04-23 16:43:29,559 - distributed.utils_perf - WARNING - full garbage collections took 12% CPU time recently (threshold: 10%)\n",
      "2024-04-23 16:43:30,864 - distributed.utils_perf - WARNING - full garbage collections took 12% CPU time recently (threshold: 10%)\n",
      "2024-04-23 16:43:32,215 - distributed.utils_perf - WARNING - full garbage collections took 12% CPU time recently (threshold: 10%)\n",
      "2024-04-23 16:43:32,644 - distributed.utils_perf - WARNING - full garbage collections took 12% CPU time recently (threshold: 10%)\n",
      "2024-04-23 16:43:33,095 - distributed.utils_perf - WARNING - full garbage collections took 12% CPU time recently (threshold: 10%)\n",
      "2024-04-23 16:43:35,078 - distributed.utils_perf - WARNING - full garbage collections took 12% CPU time recently (threshold: 10%)\n",
      "2024-04-23 16:43:36,669 - distributed.utils_perf - WARNING - full garbage collections took 12% CPU time recently (threshold: 10%)\n",
      "2024-04-23 16:43:37,129 - distributed.utils_perf - WARNING - full garbage collections took 12% CPU time recently (threshold: 10%)\n",
      "2024-04-23 16:43:37,604 - distributed.utils_perf - WARNING - full garbage collections took 12% CPU time recently (threshold: 10%)\n",
      "2024-04-23 16:43:38,952 - distributed.utils_perf - WARNING - full garbage collections took 12% CPU time recently (threshold: 10%)\n",
      "2024-04-23 16:43:39,419 - distributed.utils_perf - WARNING - full garbage collections took 12% CPU time recently (threshold: 10%)\n",
      "2024-04-23 16:43:39,887 - distributed.utils_perf - WARNING - full garbage collections took 12% CPU time recently (threshold: 10%)\n",
      "2024-04-23 16:43:41,956 - distributed.utils_perf - WARNING - full garbage collections took 12% CPU time recently (threshold: 10%)\n",
      "2024-04-23 16:43:42,627 - distributed.utils_perf - WARNING - full garbage collections took 12% CPU time recently (threshold: 10%)\n",
      "2024-04-23 16:43:42,832 - distributed.utils_perf - WARNING - full garbage collections took 34% CPU time recently (threshold: 10%)\n",
      "2024-04-23 16:43:44,038 - distributed.utils_perf - WARNING - full garbage collections took 12% CPU time recently (threshold: 10%)\n",
      "2024-04-23 16:43:44,341 - distributed.utils_perf - WARNING - full garbage collections took 34% CPU time recently (threshold: 10%)\n",
      "2024-04-23 16:43:44,527 - distributed.utils_perf - WARNING - full garbage collections took 12% CPU time recently (threshold: 10%)\n",
      "2024-04-23 16:43:45,067 - distributed.utils_perf - WARNING - full garbage collections took 34% CPU time recently (threshold: 10%)\n",
      "2024-04-23 16:43:45,511 - distributed.utils_perf - WARNING - full garbage collections took 35% CPU time recently (threshold: 10%)\n",
      "2024-04-23 16:43:45,776 - distributed.utils_perf - WARNING - full garbage collections took 12% CPU time recently (threshold: 10%)\n",
      "2024-04-23 16:43:47,089 - distributed.utils_perf - WARNING - full garbage collections took 35% CPU time recently (threshold: 10%)\n",
      "2024-04-23 16:43:47,261 - distributed.utils_perf - WARNING - full garbage collections took 12% CPU time recently (threshold: 10%)\n",
      "2024-04-23 16:43:47,762 - distributed.utils_perf - WARNING - full garbage collections took 35% CPU time recently (threshold: 10%)\n",
      "2024-04-23 16:43:48,219 - distributed.utils_perf - WARNING - full garbage collections took 35% CPU time recently (threshold: 10%)\n",
      "2024-04-23 16:43:48,481 - distributed.utils_perf - WARNING - full garbage collections took 12% CPU time recently (threshold: 10%)\n",
      "2024-04-23 16:43:49,113 - distributed.utils_perf - WARNING - full garbage collections took 12% CPU time recently (threshold: 10%)\n",
      "2024-04-23 16:43:49,550 - distributed.utils_perf - WARNING - full garbage collections took 34% CPU time recently (threshold: 10%)\n",
      "2024-04-23 16:43:50,478 - distributed.utils_perf - WARNING - full garbage collections took 34% CPU time recently (threshold: 10%)\n",
      "2024-04-23 16:43:50,487 - distributed.utils_perf - WARNING - full garbage collections took 12% CPU time recently (threshold: 10%)\n",
      "2024-04-23 16:43:50,909 - distributed.utils_perf - WARNING - full garbage collections took 12% CPU time recently (threshold: 10%)\n",
      "2024-04-23 16:43:51,537 - distributed.utils_perf - WARNING - full garbage collections took 34% CPU time recently (threshold: 10%)\n",
      "2024-04-23 16:43:52,277 - distributed.utils_perf - WARNING - full garbage collections took 12% CPU time recently (threshold: 10%)\n",
      "2024-04-23 16:43:52,714 - distributed.utils_perf - WARNING - full garbage collections took 36% CPU time recently (threshold: 10%)\n",
      "2024-04-23 16:43:53,158 - distributed.utils_perf - WARNING - full garbage collections took 36% CPU time recently (threshold: 10%)\n",
      "2024-04-23 16:43:53,391 - distributed.utils_perf - WARNING - full garbage collections took 12% CPU time recently (threshold: 10%)\n",
      "2024-04-23 16:43:54,082 - distributed.utils_perf - WARNING - full garbage collections took 12% CPU time recently (threshold: 10%)\n",
      "2024-04-23 16:43:54,211 - distributed.utils_perf - WARNING - full garbage collections took 36% CPU time recently (threshold: 10%)\n",
      "2024-04-23 16:43:55,371 - distributed.utils_perf - WARNING - full garbage collections took 36% CPU time recently (threshold: 10%)\n",
      "2024-04-23 16:43:55,437 - distributed.utils_perf - WARNING - full garbage collections took 12% CPU time recently (threshold: 10%)\n",
      "2024-04-23 16:43:55,827 - distributed.utils_perf - WARNING - full garbage collections took 36% CPU time recently (threshold: 10%)\n",
      "2024-04-23 16:43:56,687 - distributed.utils_perf - WARNING - full garbage collections took 12% CPU time recently (threshold: 10%)\n",
      "2024-04-23 16:43:57,617 - distributed.utils_perf - WARNING - full garbage collections took 36% CPU time recently (threshold: 10%)\n",
      "2024-04-23 16:43:58,079 - distributed.utils_perf - WARNING - full garbage collections took 36% CPU time recently (threshold: 10%)\n",
      "2024-04-23 16:43:58,216 - distributed.utils_perf - WARNING - full garbage collections took 12% CPU time recently (threshold: 10%)\n",
      "2024-04-23 16:43:58,553 - distributed.utils_perf - WARNING - full garbage collections took 36% CPU time recently (threshold: 10%)\n",
      "2024-04-23 16:43:59,640 - distributed.utils_perf - WARNING - full garbage collections took 12% CPU time recently (threshold: 10%)\n",
      "2024-04-23 16:44:00,174 - distributed.utils_perf - WARNING - full garbage collections took 36% CPU time recently (threshold: 10%)\n",
      "2024-04-23 16:44:00,806 - distributed.utils_perf - WARNING - full garbage collections took 36% CPU time recently (threshold: 10%)\n",
      "2024-04-23 16:44:00,978 - distributed.utils_perf - WARNING - full garbage collections took 12% CPU time recently (threshold: 10%)\n",
      "2024-04-23 16:44:01,283 - distributed.utils_perf - WARNING - full garbage collections took 36% CPU time recently (threshold: 10%)\n",
      "2024-04-23 16:44:01,479 - distributed.utils_perf - WARNING - full garbage collections took 12% CPU time recently (threshold: 10%)\n",
      "2024-04-23 16:44:02,832 - distributed.utils_perf - WARNING - full garbage collections took 12% CPU time recently (threshold: 10%)\n",
      "2024-04-23 16:44:03,014 - distributed.utils_perf - WARNING - full garbage collections took 36% CPU time recently (threshold: 10%)\n",
      "2024-04-23 16:44:03,311 - distributed.utils_perf - WARNING - full garbage collections took 12% CPU time recently (threshold: 10%)\n",
      "2024-04-23 16:44:03,505 - distributed.utils_perf - WARNING - full garbage collections took 35% CPU time recently (threshold: 10%)\n",
      "2024-04-23 16:44:03,786 - distributed.utils_perf - WARNING - full garbage collections took 12% CPU time recently (threshold: 10%)\n",
      "2024-04-23 16:44:04,366 - distributed.utils_perf - WARNING - full garbage collections took 12% CPU time recently (threshold: 10%)\n",
      "2024-04-23 16:44:04,770 - distributed.utils_perf - WARNING - full garbage collections took 35% CPU time recently (threshold: 10%)\n",
      "2024-04-23 16:44:05,671 - distributed.utils_perf - WARNING - full garbage collections took 12% CPU time recently (threshold: 10%)\n",
      "2024-04-23 16:44:05,715 - distributed.utils_perf - WARNING - full garbage collections took 35% CPU time recently (threshold: 10%)\n",
      "2024-04-23 16:44:06,157 - distributed.utils_perf - WARNING - full garbage collections took 12% CPU time recently (threshold: 10%)\n",
      "2024-04-23 16:44:06,998 - distributed.utils_perf - WARNING - full garbage collections took 35% CPU time recently (threshold: 10%)\n",
      "2024-04-23 16:44:07,477 - distributed.utils_perf - WARNING - full garbage collections took 34% CPU time recently (threshold: 10%)\n",
      "2024-04-23 16:44:08,213 - distributed.utils_perf - WARNING - full garbage collections took 12% CPU time recently (threshold: 10%)\n",
      "2024-04-23 16:44:08,405 - distributed.utils_perf - WARNING - full garbage collections took 34% CPU time recently (threshold: 10%)\n",
      "2024-04-23 16:44:09,706 - distributed.utils_perf - WARNING - full garbage collections took 35% CPU time recently (threshold: 10%)\n",
      "2024-04-23 16:44:10,186 - distributed.utils_perf - WARNING - full garbage collections took 35% CPU time recently (threshold: 10%)\n",
      "2024-04-23 16:44:10,480 - distributed.utils_perf - WARNING - full garbage collections took 12% CPU time recently (threshold: 10%)\n",
      "2024-04-23 16:44:11,152 - distributed.utils_perf - WARNING - full garbage collections took 35% CPU time recently (threshold: 10%)\n",
      "2024-04-23 16:44:11,230 - distributed.utils_perf - WARNING - full garbage collections took 12% CPU time recently (threshold: 10%)\n",
      "2024-04-23 16:44:11,759 - distributed.utils_perf - WARNING - full garbage collections took 12% CPU time recently (threshold: 10%)\n",
      "2024-04-23 16:44:12,309 - distributed.utils_perf - WARNING - full garbage collections took 35% CPU time recently (threshold: 10%)\n",
      "2024-04-23 16:44:13,896 - distributed.utils_perf - WARNING - full garbage collections took 12% CPU time recently (threshold: 10%)\n",
      "2024-04-23 16:44:13,908 - distributed.utils_perf - WARNING - full garbage collections took 35% CPU time recently (threshold: 10%)\n",
      "2024-04-23 16:44:14,860 - distributed.utils_perf - WARNING - full garbage collections took 35% CPU time recently (threshold: 10%)\n",
      "2024-04-23 16:44:15,388 - distributed.utils_perf - WARNING - full garbage collections took 35% CPU time recently (threshold: 10%)\n",
      "2024-04-23 16:44:16,219 - distributed.utils_perf - WARNING - full garbage collections took 12% CPU time recently (threshold: 10%)\n",
      "2024-04-23 16:44:16,727 - distributed.utils_perf - WARNING - full garbage collections took 36% CPU time recently (threshold: 10%)\n",
      "2024-04-23 16:44:16,740 - distributed.utils_perf - WARNING - full garbage collections took 12% CPU time recently (threshold: 10%)\n",
      "2024-04-23 16:44:17,226 - distributed.utils_perf - WARNING - full garbage collections took 12% CPU time recently (threshold: 10%)\n",
      "2024-04-23 16:44:18,275 - distributed.utils_perf - WARNING - full garbage collections took 36% CPU time recently (threshold: 10%)\n",
      "2024-04-23 16:44:18,638 - distributed.utils_perf - WARNING - full garbage collections took 12% CPU time recently (threshold: 10%)\n",
      "2024-04-23 16:44:19,007 - distributed.utils_perf - WARNING - full garbage collections took 35% CPU time recently (threshold: 10%)\n",
      "2024-04-23 16:44:19,112 - distributed.utils_perf - WARNING - full garbage collections took 12% CPU time recently (threshold: 10%)\n",
      "2024-04-23 16:44:19,603 - distributed.utils_perf - WARNING - full garbage collections took 12% CPU time recently (threshold: 10%)\n",
      "2024-04-23 16:44:20,090 - distributed.utils_perf - WARNING - full garbage collections took 35% CPU time recently (threshold: 10%)\n",
      "2024-04-23 16:44:21,040 - distributed.utils_perf - WARNING - full garbage collections took 12% CPU time recently (threshold: 10%)\n",
      "2024-04-23 16:44:21,240 - distributed.utils_perf - WARNING - full garbage collections took 35% CPU time recently (threshold: 10%)\n",
      "2024-04-23 16:44:21,544 - distributed.utils_perf - WARNING - full garbage collections took 12% CPU time recently (threshold: 10%)\n",
      "2024-04-23 16:44:22,008 - distributed.utils_perf - WARNING - full garbage collections took 12% CPU time recently (threshold: 10%)\n",
      "2024-04-23 16:44:22,303 - distributed.utils_perf - WARNING - full garbage collections took 36% CPU time recently (threshold: 10%)\n",
      "2024-04-23 16:44:23,463 - distributed.utils_perf - WARNING - full garbage collections took 12% CPU time recently (threshold: 10%)\n",
      "2024-04-23 16:44:23,736 - distributed.utils_perf - WARNING - full garbage collections took 35% CPU time recently (threshold: 10%)\n",
      "2024-04-23 16:44:23,976 - distributed.utils_perf - WARNING - full garbage collections took 12% CPU time recently (threshold: 10%)\n",
      "2024-04-23 16:44:24,261 - distributed.utils_perf - WARNING - full garbage collections took 35% CPU time recently (threshold: 10%)\n",
      "2024-04-23 16:44:25,264 - distributed.utils_perf - WARNING - full garbage collections took 35% CPU time recently (threshold: 10%)\n",
      "2024-04-23 16:44:25,540 - distributed.utils_perf - WARNING - full garbage collections took 12% CPU time recently (threshold: 10%)\n",
      "2024-04-23 16:44:26,598 - distributed.utils_perf - WARNING - full garbage collections took 35% CPU time recently (threshold: 10%)\n",
      "2024-04-23 16:44:27,371 - distributed.utils_perf - WARNING - full garbage collections took 35% CPU time recently (threshold: 10%)\n",
      "2024-04-23 16:44:27,780 - distributed.utils_perf - WARNING - full garbage collections took 12% CPU time recently (threshold: 10%)\n",
      "2024-04-23 16:44:28,339 - distributed.utils_perf - WARNING - full garbage collections took 12% CPU time recently (threshold: 10%)\n",
      "2024-04-23 16:44:28,501 - distributed.utils_perf - WARNING - full garbage collections took 35% CPU time recently (threshold: 10%)\n",
      "2024-04-23 16:44:29,790 - distributed.utils_perf - WARNING - full garbage collections took 12% CPU time recently (threshold: 10%)\n",
      "2024-04-23 16:44:29,992 - distributed.utils_perf - WARNING - full garbage collections took 35% CPU time recently (threshold: 10%)\n",
      "2024-04-23 16:44:30,518 - distributed.utils_perf - WARNING - full garbage collections took 35% CPU time recently (threshold: 10%)\n",
      "2024-04-23 16:44:31,167 - distributed.utils_perf - WARNING - full garbage collections took 12% CPU time recently (threshold: 10%)\n",
      "2024-04-23 16:44:31,860 - distributed.utils_perf - WARNING - full garbage collections took 35% CPU time recently (threshold: 10%)\n",
      "2024-04-23 16:44:32,529 - distributed.utils_perf - WARNING - full garbage collections took 35% CPU time recently (threshold: 10%)\n",
      "2024-04-23 16:44:32,599 - distributed.utils_perf - WARNING - full garbage collections took 12% CPU time recently (threshold: 10%)\n",
      "2024-04-23 16:44:33,145 - distributed.utils_perf - WARNING - full garbage collections took 12% CPU time recently (threshold: 10%)\n",
      "2024-04-23 16:44:33,269 - distributed.utils_perf - WARNING - full garbage collections took 35% CPU time recently (threshold: 10%)\n",
      "2024-04-23 16:44:33,570 - INFO: - Training model...\n",
      "2024-04-23 16:44:33,578 - INFO: - start listen on 10.91.28.16:46563\n",
      "[16:44:33] task [xgboost.dask-0]:tcp://127.0.0.1:33275 got new rank 0\n",
      "[16:44:33] task [xgboost.dask-1]:tcp://127.0.0.1:43951 got new rank 1\n",
      "[16:44:33] task [xgboost.dask-2]:tcp://127.0.0.1:46385 got new rank 2\n",
      "2024-04-23 16:44:33,623 - INFO: - @tracker All of 3 nodes getting started\n",
      "/home/kevin/miniforge3/envs/cp311/lib/python3.11/site-packages/distributed/worker.py:1559: DeprecationWarning: the rpc synchronous context manager is deprecated\n",
      "  with self.rpc(self.nanny) as r:\n",
      "/home/kevin/miniforge3/envs/cp311/lib/python3.11/site-packages/distributed/worker.py:1559: DeprecationWarning: the rpc synchronous context manager is deprecated\n",
      "  with self.rpc(self.nanny) as r:\n",
      "/home/kevin/miniforge3/envs/cp311/lib/python3.11/site-packages/distributed/worker.py:1559: DeprecationWarning: the rpc synchronous context manager is deprecated\n",
      "  with self.rpc(self.nanny) as r:\n"
     ]
    },
    {
     "ename": "KeyboardInterrupt",
     "evalue": "",
     "output_type": "error",
     "traceback": [
      "\u001b[0;31m---------------------------------------------------------------------------\u001b[0m",
      "\u001b[0;31mKeyboardInterrupt\u001b[0m                         Traceback (most recent call last)",
      "Cell \u001b[0;32mIn[44], line 1\u001b[0m\n\u001b[0;32m----> 1\u001b[0m best_model \u001b[38;5;241m=\u001b[39m \u001b[43mobjective\u001b[49m\u001b[43m(\u001b[49m\u001b[43mbest_trial_copy\u001b[49m\u001b[43m,\u001b[49m\u001b[43m \u001b[49m\u001b[43mdisp_params\u001b[49m\u001b[43m \u001b[49m\u001b[38;5;241;43m=\u001b[39;49m\u001b[43m \u001b[49m\u001b[38;5;28;43;01mTrue\u001b[39;49;00m\u001b[43m,\u001b[49m\u001b[43m \u001b[49m\u001b[43msave\u001b[49m\u001b[43m \u001b[49m\u001b[38;5;241;43m=\u001b[39;49m\u001b[43m \u001b[49m\u001b[38;5;28;43;01mTrue\u001b[39;49;00m\u001b[43m)\u001b[49m\n",
      "Cell \u001b[0;32mIn[7], line 73\u001b[0m, in \u001b[0;36mobjective\u001b[0;34m(trial, disp_params, save)\u001b[0m\n\u001b[1;32m     70\u001b[0m         \u001b[38;5;28mprint\u001b[39m(\u001b[38;5;124mf\u001b[39m\u001b[38;5;124m\"\u001b[39m\u001b[38;5;124m  \u001b[39m\u001b[38;5;132;01m{\u001b[39;00mk\u001b[38;5;132;01m:\u001b[39;00m\u001b[38;5;124m30s\u001b[39m\u001b[38;5;132;01m}\u001b[39;00m\u001b[38;5;124m \u001b[39m\u001b[38;5;132;01m{\u001b[39;00mv\u001b[38;5;132;01m}\u001b[39;00m\u001b[38;5;124m\"\u001b[39m)\n\u001b[1;32m     72\u001b[0m iter_files \u001b[38;5;241m=\u001b[39m make_cv_splits_2(input_file_list, n_folds\u001b[38;5;241m=\u001b[39m\u001b[38;5;241m5\u001b[39m, y_columns\u001b[38;5;241m=\u001b[39my_columns)\n\u001b[0;32m---> 73\u001b[0m model, metrics \u001b[38;5;241m=\u001b[39m  \u001b[43mtrain_model\u001b[49m\u001b[43m(\u001b[49m\u001b[43miter_files\u001b[49m\u001b[43m,\u001b[49m\u001b[43m \u001b[49m\u001b[43mmetric_keys\u001b[49m\u001b[43m \u001b[49m\u001b[38;5;241;43m=\u001b[39;49m\u001b[43m \u001b[49m\u001b[43mmetric_keys\u001b[49m\u001b[43m,\u001b[49m\u001b[43m \u001b[49m\n\u001b[1;32m     74\u001b[0m \u001b[43m                              \u001b[49m\u001b[43mstudy_name\u001b[49m\u001b[43m \u001b[49m\u001b[38;5;241;43m=\u001b[39;49m\u001b[43m \u001b[49m\u001b[43mstudy\u001b[49m\u001b[38;5;241;43m.\u001b[39;49m\u001b[43mstudy_name\u001b[49m\u001b[43m,\u001b[49m\n\u001b[1;32m     75\u001b[0m \u001b[43m                              \u001b[49m\u001b[43mtrial_num\u001b[49m\u001b[43m \u001b[49m\u001b[38;5;241;43m=\u001b[39;49m\u001b[43m \u001b[49m\u001b[43mtrial\u001b[49m\u001b[38;5;241;43m.\u001b[39;49m\u001b[43mnumber\u001b[49m\u001b[43m,\u001b[49m\n\u001b[1;32m     76\u001b[0m \u001b[43m                              \u001b[49m\u001b[43msave\u001b[49m\u001b[43m \u001b[49m\u001b[38;5;241;43m=\u001b[39;49m\u001b[43m \u001b[49m\u001b[38;5;28;43;01mTrue\u001b[39;49;00m\u001b[43m,\u001b[49m\n\u001b[1;32m     77\u001b[0m \u001b[43m                              \u001b[49m\u001b[38;5;241;43m*\u001b[39;49m\u001b[38;5;241;43m*\u001b[39;49m\u001b[43m \u001b[49m\u001b[43mstudy_params\u001b[49m\u001b[43m)\u001b[49m\n\u001b[1;32m     79\u001b[0m print_metric_hist(metrics)\n\u001b[1;32m     80\u001b[0m \u001b[38;5;28mprint\u001b[39m(\u001b[38;5;124mf\u001b[39m\u001b[38;5;124m\"\u001b[39m\u001b[38;5;124m model best score    :  \u001b[39m\u001b[38;5;132;01m{\u001b[39;00mmodel[\u001b[38;5;124m'\u001b[39m\u001b[38;5;124mbooster\u001b[39m\u001b[38;5;124m'\u001b[39m]\u001b[38;5;241m.\u001b[39mbest_score\u001b[38;5;132;01m}\u001b[39;00m\u001b[38;5;124m\"\u001b[39m)\n",
      "Cell \u001b[0;32mIn[7], line 15\u001b[0m, in \u001b[0;36mtrain_model\u001b[0;34m(iter_files, metric_keys, study_name, trial_num, save, **model_params)\u001b[0m\n\u001b[1;32m     13\u001b[0m logging\u001b[38;5;241m.\u001b[39minfo(\u001b[38;5;124mf\u001b[39m\u001b[38;5;124m\"\u001b[39m\u001b[38;5;124mTraining model...\u001b[39m\u001b[38;5;124m\"\u001b[39m)\n\u001b[1;32m     14\u001b[0m \u001b[38;5;66;03m# booster_model = my_model['booster'] if my_model is not None else None\u001b[39;00m\n\u001b[0;32m---> 15\u001b[0m my_model \u001b[38;5;241m=\u001b[39m \u001b[43mxgb\u001b[49m\u001b[38;5;241;43m.\u001b[39;49m\u001b[43mdask\u001b[49m\u001b[38;5;241;43m.\u001b[39;49m\u001b[43mtrain\u001b[49m\u001b[43m(\u001b[49m\n\u001b[1;32m     16\u001b[0m \u001b[43m    \u001b[49m\u001b[38;5;28;43;01mNone\u001b[39;49;00m\u001b[43m,\u001b[49m\u001b[43m  \u001b[49m\n\u001b[1;32m     17\u001b[0m \u001b[43m    \u001b[49m\u001b[43mmodel_params\u001b[49m\u001b[43m,\u001b[49m\u001b[43m \u001b[49m\n\u001b[1;32m     18\u001b[0m \u001b[43m    \u001b[49m\u001b[43md_train\u001b[49m\u001b[43m,\u001b[49m\n\u001b[1;32m     19\u001b[0m \u001b[43m    \u001b[49m\u001b[38;5;66;43;03m# xgb_model = booster_model,\u001b[39;49;00m\n\u001b[1;32m     20\u001b[0m \u001b[43m    \u001b[49m\u001b[43mnum_boost_round\u001b[49m\u001b[38;5;241;43m=\u001b[39;49m\u001b[38;5;241;43m1000\u001b[39;49m\u001b[43m,\u001b[49m\n\u001b[1;32m     21\u001b[0m \u001b[43m    \u001b[49m\u001b[43mevals\u001b[49m\u001b[38;5;241;43m=\u001b[39;49m\u001b[43m[\u001b[49m\u001b[43m(\u001b[49m\u001b[43md_train\u001b[49m\u001b[43m,\u001b[49m\u001b[43m \u001b[49m\u001b[38;5;124;43m\"\u001b[39;49m\u001b[38;5;124;43mtrain\u001b[39;49m\u001b[38;5;124;43m\"\u001b[39;49m\u001b[43m)\u001b[49m\u001b[43m,\u001b[49m\u001b[43m \u001b[49m\u001b[43m(\u001b[49m\u001b[43md_val\u001b[49m\u001b[43m,\u001b[49m\u001b[43m \u001b[49m\u001b[38;5;124;43m\"\u001b[39;49m\u001b[38;5;124;43mtest\u001b[39;49m\u001b[38;5;124;43m\"\u001b[39;49m\u001b[43m)\u001b[49m\u001b[43m]\u001b[49m\u001b[43m,\u001b[49m\n\u001b[1;32m     22\u001b[0m \u001b[43m    \u001b[49m\u001b[43mverbose_eval\u001b[49m\u001b[38;5;241;43m=\u001b[39;49m\u001b[38;5;28;43;01mFalse\u001b[39;49;00m\u001b[43m,\u001b[49m\n\u001b[1;32m     23\u001b[0m \u001b[43m    \u001b[49m\u001b[43mearly_stopping_rounds\u001b[49m\u001b[43m \u001b[49m\u001b[38;5;241;43m=\u001b[39;49m\u001b[43m \u001b[49m\u001b[38;5;241;43m50\u001b[39;49m\n\u001b[1;32m     24\u001b[0m \u001b[43m\u001b[49m\u001b[43m)\u001b[49m\n\u001b[1;32m     25\u001b[0m \u001b[38;5;66;03m# logging.info(f\"Training model...Completed\")\u001b[39;00m\n\u001b[1;32m     27\u001b[0m logging\u001b[38;5;241m.\u001b[39minfo(\u001b[38;5;124mf\u001b[39m\u001b[38;5;124m\"\u001b[39m\u001b[38;5;124mRunning model on test data...\u001b[39m\u001b[38;5;124m\"\u001b[39m)\n",
      "File \u001b[0;32m~/miniforge3/envs/cp311/lib/python3.11/site-packages/xgboost/core.py:730\u001b[0m, in \u001b[0;36mrequire_keyword_args.<locals>.throw_if.<locals>.inner_f\u001b[0;34m(*args, **kwargs)\u001b[0m\n\u001b[1;32m    728\u001b[0m \u001b[38;5;28;01mfor\u001b[39;00m k, arg \u001b[38;5;129;01min\u001b[39;00m \u001b[38;5;28mzip\u001b[39m(sig\u001b[38;5;241m.\u001b[39mparameters, args):\n\u001b[1;32m    729\u001b[0m     kwargs[k] \u001b[38;5;241m=\u001b[39m arg\n\u001b[0;32m--> 730\u001b[0m \u001b[38;5;28;01mreturn\u001b[39;00m \u001b[43mfunc\u001b[49m\u001b[43m(\u001b[49m\u001b[38;5;241;43m*\u001b[39;49m\u001b[38;5;241;43m*\u001b[39;49m\u001b[43mkwargs\u001b[49m\u001b[43m)\u001b[49m\n",
      "File \u001b[0;32m~/miniforge3/envs/cp311/lib/python3.11/site-packages/xgboost/dask.py:1078\u001b[0m, in \u001b[0;36mtrain\u001b[0;34m(client, params, dtrain, num_boost_round, evals, obj, feval, early_stopping_rounds, xgb_model, verbose_eval, callbacks, custom_metric)\u001b[0m\n\u001b[1;32m   1076\u001b[0m client \u001b[38;5;241m=\u001b[39m _xgb_get_client(client)\n\u001b[1;32m   1077\u001b[0m args \u001b[38;5;241m=\u001b[39m \u001b[38;5;28mlocals\u001b[39m()\n\u001b[0;32m-> 1078\u001b[0m \u001b[38;5;28;01mreturn\u001b[39;00m \u001b[43mclient\u001b[49m\u001b[38;5;241;43m.\u001b[39;49m\u001b[43msync\u001b[49m\u001b[43m(\u001b[49m\n\u001b[1;32m   1079\u001b[0m \u001b[43m    \u001b[49m\u001b[43m_train_async\u001b[49m\u001b[43m,\u001b[49m\n\u001b[1;32m   1080\u001b[0m \u001b[43m    \u001b[49m\u001b[43mglobal_config\u001b[49m\u001b[38;5;241;43m=\u001b[39;49m\u001b[43mconfig\u001b[49m\u001b[38;5;241;43m.\u001b[39;49m\u001b[43mget_config\u001b[49m\u001b[43m(\u001b[49m\u001b[43m)\u001b[49m\u001b[43m,\u001b[49m\n\u001b[1;32m   1081\u001b[0m \u001b[43m    \u001b[49m\u001b[43mdconfig\u001b[49m\u001b[38;5;241;43m=\u001b[39;49m\u001b[43m_get_dask_config\u001b[49m\u001b[43m(\u001b[49m\u001b[43m)\u001b[49m\u001b[43m,\u001b[49m\n\u001b[1;32m   1082\u001b[0m \u001b[43m    \u001b[49m\u001b[38;5;241;43m*\u001b[39;49m\u001b[38;5;241;43m*\u001b[39;49m\u001b[43margs\u001b[49m\u001b[43m,\u001b[49m\n\u001b[1;32m   1083\u001b[0m \u001b[43m\u001b[49m\u001b[43m)\u001b[49m\n",
      "File \u001b[0;32m~/miniforge3/envs/cp311/lib/python3.11/site-packages/distributed/utils.py:358\u001b[0m, in \u001b[0;36mSyncMethodMixin.sync\u001b[0;34m(self, func, asynchronous, callback_timeout, *args, **kwargs)\u001b[0m\n\u001b[1;32m    356\u001b[0m     \u001b[38;5;28;01mreturn\u001b[39;00m future\n\u001b[1;32m    357\u001b[0m \u001b[38;5;28;01melse\u001b[39;00m:\n\u001b[0;32m--> 358\u001b[0m     \u001b[38;5;28;01mreturn\u001b[39;00m \u001b[43msync\u001b[49m\u001b[43m(\u001b[49m\n\u001b[1;32m    359\u001b[0m \u001b[43m        \u001b[49m\u001b[38;5;28;43mself\u001b[39;49m\u001b[38;5;241;43m.\u001b[39;49m\u001b[43mloop\u001b[49m\u001b[43m,\u001b[49m\u001b[43m \u001b[49m\u001b[43mfunc\u001b[49m\u001b[43m,\u001b[49m\u001b[43m \u001b[49m\u001b[38;5;241;43m*\u001b[39;49m\u001b[43margs\u001b[49m\u001b[43m,\u001b[49m\u001b[43m \u001b[49m\u001b[43mcallback_timeout\u001b[49m\u001b[38;5;241;43m=\u001b[39;49m\u001b[43mcallback_timeout\u001b[49m\u001b[43m,\u001b[49m\u001b[43m \u001b[49m\u001b[38;5;241;43m*\u001b[39;49m\u001b[38;5;241;43m*\u001b[39;49m\u001b[43mkwargs\u001b[49m\n\u001b[1;32m    360\u001b[0m \u001b[43m    \u001b[49m\u001b[43m)\u001b[49m\n",
      "File \u001b[0;32m~/miniforge3/envs/cp311/lib/python3.11/site-packages/distributed/utils.py:431\u001b[0m, in \u001b[0;36msync\u001b[0;34m(loop, func, callback_timeout, *args, **kwargs)\u001b[0m\n\u001b[1;32m    429\u001b[0m \u001b[38;5;28;01melse\u001b[39;00m:\n\u001b[1;32m    430\u001b[0m     \u001b[38;5;28;01mwhile\u001b[39;00m \u001b[38;5;129;01mnot\u001b[39;00m e\u001b[38;5;241m.\u001b[39mis_set():\n\u001b[0;32m--> 431\u001b[0m         \u001b[43mwait\u001b[49m\u001b[43m(\u001b[49m\u001b[38;5;241;43m10\u001b[39;49m\u001b[43m)\u001b[49m\n\u001b[1;32m    433\u001b[0m \u001b[38;5;28;01mif\u001b[39;00m error \u001b[38;5;129;01mis\u001b[39;00m \u001b[38;5;129;01mnot\u001b[39;00m \u001b[38;5;28;01mNone\u001b[39;00m:\n\u001b[1;32m    434\u001b[0m     \u001b[38;5;28;01mraise\u001b[39;00m error\n",
      "File \u001b[0;32m~/miniforge3/envs/cp311/lib/python3.11/site-packages/distributed/utils.py:420\u001b[0m, in \u001b[0;36msync.<locals>.wait\u001b[0;34m(timeout)\u001b[0m\n\u001b[1;32m    418\u001b[0m \u001b[38;5;28;01mdef\u001b[39;00m \u001b[38;5;21mwait\u001b[39m(timeout: \u001b[38;5;28mfloat\u001b[39m \u001b[38;5;241m|\u001b[39m \u001b[38;5;28;01mNone\u001b[39;00m) \u001b[38;5;241m-\u001b[39m\u001b[38;5;241m>\u001b[39m \u001b[38;5;28mbool\u001b[39m:\n\u001b[1;32m    419\u001b[0m     \u001b[38;5;28;01mtry\u001b[39;00m:\n\u001b[0;32m--> 420\u001b[0m         \u001b[38;5;28;01mreturn\u001b[39;00m \u001b[43me\u001b[49m\u001b[38;5;241;43m.\u001b[39;49m\u001b[43mwait\u001b[49m\u001b[43m(\u001b[49m\u001b[43mtimeout\u001b[49m\u001b[43m)\u001b[49m\n\u001b[1;32m    421\u001b[0m     \u001b[38;5;28;01mexcept\u001b[39;00m \u001b[38;5;167;01mKeyboardInterrupt\u001b[39;00m:\n\u001b[1;32m    422\u001b[0m         loop\u001b[38;5;241m.\u001b[39madd_callback(cancel)\n",
      "File \u001b[0;32m~/miniforge3/envs/cp311/lib/python3.11/threading.py:622\u001b[0m, in \u001b[0;36mEvent.wait\u001b[0;34m(self, timeout)\u001b[0m\n\u001b[1;32m    620\u001b[0m signaled \u001b[38;5;241m=\u001b[39m \u001b[38;5;28mself\u001b[39m\u001b[38;5;241m.\u001b[39m_flag\n\u001b[1;32m    621\u001b[0m \u001b[38;5;28;01mif\u001b[39;00m \u001b[38;5;129;01mnot\u001b[39;00m signaled:\n\u001b[0;32m--> 622\u001b[0m     signaled \u001b[38;5;241m=\u001b[39m \u001b[38;5;28;43mself\u001b[39;49m\u001b[38;5;241;43m.\u001b[39;49m\u001b[43m_cond\u001b[49m\u001b[38;5;241;43m.\u001b[39;49m\u001b[43mwait\u001b[49m\u001b[43m(\u001b[49m\u001b[43mtimeout\u001b[49m\u001b[43m)\u001b[49m\n\u001b[1;32m    623\u001b[0m \u001b[38;5;28;01mreturn\u001b[39;00m signaled\n",
      "File \u001b[0;32m~/miniforge3/envs/cp311/lib/python3.11/threading.py:324\u001b[0m, in \u001b[0;36mCondition.wait\u001b[0;34m(self, timeout)\u001b[0m\n\u001b[1;32m    322\u001b[0m \u001b[38;5;28;01melse\u001b[39;00m:\n\u001b[1;32m    323\u001b[0m     \u001b[38;5;28;01mif\u001b[39;00m timeout \u001b[38;5;241m>\u001b[39m \u001b[38;5;241m0\u001b[39m:\n\u001b[0;32m--> 324\u001b[0m         gotit \u001b[38;5;241m=\u001b[39m \u001b[43mwaiter\u001b[49m\u001b[38;5;241;43m.\u001b[39;49m\u001b[43macquire\u001b[49m\u001b[43m(\u001b[49m\u001b[38;5;28;43;01mTrue\u001b[39;49;00m\u001b[43m,\u001b[49m\u001b[43m \u001b[49m\u001b[43mtimeout\u001b[49m\u001b[43m)\u001b[49m\n\u001b[1;32m    325\u001b[0m     \u001b[38;5;28;01melse\u001b[39;00m:\n\u001b[1;32m    326\u001b[0m         gotit \u001b[38;5;241m=\u001b[39m waiter\u001b[38;5;241m.\u001b[39macquire(\u001b[38;5;28;01mFalse\u001b[39;00m)\n",
      "\u001b[0;31mKeyboardInterrupt\u001b[0m: "
     ]
    },
    {
     "name": "stderr",
     "output_type": "stream",
     "text": [
      "2024-04-23 16:45:17,429 - distributed.worker.state_machine - WARNING - Async instruction for <Task cancelled name=\"execute('dispatched_train-33594120-9165-40a9-854f-b257c935b0be')\" coro=<Worker.execute() done, defined at /home/kevin/miniforge3/envs/cp311/lib/python3.11/site-packages/distributed/worker_state_machine.py:3610>> ended with CancelledError\n",
      "2024-04-23 16:45:17,431 - distributed.worker.state_machine - WARNING - Async instruction for <Task cancelled name=\"execute('dispatched_train-7f861205-5184-4aea-8a33-997434c1c008')\" coro=<Worker.execute() done, defined at /home/kevin/miniforge3/envs/cp311/lib/python3.11/site-packages/distributed/worker_state_machine.py:3610>> ended with CancelledError\n",
      "2024-04-23 16:45:17,431 - distributed.worker.state_machine - WARNING - Async instruction for <Task cancelled name=\"execute('dispatched_train-4fbe4c26-eb17-4b69-84ae-bbfdd022d672')\" coro=<Worker.execute() done, defined at /home/kevin/miniforge3/envs/cp311/lib/python3.11/site-packages/distributed/worker_state_machine.py:3610>> ended with CancelledError\n",
      "2024-04-23 16:45:17,432 - distributed.worker.state_machine - WARNING - Async instruction for <Task cancelled name=\"execute('dispatched_train-80aa2776-b195-413a-87cd-da24176cac48')\" coro=<Worker.execute() done, defined at /home/kevin/miniforge3/envs/cp311/lib/python3.11/site-packages/distributed/worker_state_machine.py:3610>> ended with CancelledError\n",
      "2024-04-23 16:45:17,432 - distributed.worker.state_machine - WARNING - Async instruction for <Task cancelled name=\"execute('dispatched_train-d8f4a550-5269-49ad-a28e-9b9ad2e9d78a')\" coro=<Worker.execute() done, defined at /home/kevin/miniforge3/envs/cp311/lib/python3.11/site-packages/distributed/worker_state_machine.py:3610>> ended with CancelledError\n",
      "2024-04-23 16:45:17,441 - ERROR: - Task exception was never retrieved\n",
      "future: <Task finished name='Task-3951687' coro=<Client._gather.<locals>.wait() done, defined at /home/kevin/miniforge3/envs/cp311/lib/python3.11/site-packages/distributed/client.py:2209> exception=AllExit()>\n",
      "Traceback (most recent call last):\n",
      "  File \"/home/kevin/miniforge3/envs/cp311/lib/python3.11/site-packages/distributed/client.py\", line 2218, in wait\n",
      "    raise AllExit()\n",
      "distributed.client.AllExit\n",
      "2024-04-23 16:45:17,442 - ERROR: - Task exception was never retrieved\n",
      "future: <Task finished name='Task-3951686' coro=<Client._gather.<locals>.wait() done, defined at /home/kevin/miniforge3/envs/cp311/lib/python3.11/site-packages/distributed/client.py:2209> exception=AllExit()>\n",
      "Traceback (most recent call last):\n",
      "  File \"/home/kevin/miniforge3/envs/cp311/lib/python3.11/site-packages/distributed/client.py\", line 2218, in wait\n",
      "    raise AllExit()\n",
      "distributed.client.AllExit\n",
      "2024-04-23 16:45:17,443 - ERROR: - Task exception was never retrieved\n",
      "future: <Task finished name='Task-3951685' coro=<Client._gather.<locals>.wait() done, defined at /home/kevin/miniforge3/envs/cp311/lib/python3.11/site-packages/distributed/client.py:2209> exception=AllExit()>\n",
      "Traceback (most recent call last):\n",
      "  File \"/home/kevin/miniforge3/envs/cp311/lib/python3.11/site-packages/distributed/client.py\", line 2218, in wait\n",
      "    raise AllExit()\n",
      "distributed.client.AllExit\n"
     ]
    }
   ],
   "source": [
    "# best_model = objective(best_trial_copy, disp_params = True, save = True)"
   ]
  },
  {
   "cell_type": "code",
   "execution_count": null,
   "metadata": {},
   "outputs": [],
   "source": [
    "trial.number\n",
    "best_model.keys()"
   ]
  },
  {
   "cell_type": "code",
   "execution_count": null,
   "metadata": {},
   "outputs": [],
   "source": [
    "save_as_filename = f\"{study.study_name}_trial_{trial.number:03d}.json\"\n",
    "print(f\" Save model to : {save_as_filename}\")"
   ]
  },
  {
   "cell_type": "code",
   "execution_count": null,
   "metadata": {
    "ExecuteTime": {
     "end_time": "2023-12-21T20:51:34.419906Z",
     "start_time": "2023-12-21T20:51:34.402698Z"
    }
   },
   "outputs": [],
   "source": [
    "best_model['booster'].save_model(save_as_filename)"
   ]
  },
  {
   "cell_type": "markdown",
   "metadata": {},
   "source": [
    "# Inference - Load a specific model and run a test dataset against it"
   ]
  },
  {
   "cell_type": "markdown",
   "metadata": {},
   "source": [
    "### Open study - find model to run"
   ]
  },
  {
   "cell_type": "code",
   "execution_count": 154,
   "metadata": {
    "execution": {
     "iopub.execute_input": "2024-04-25T09:44:03.071922Z",
     "iopub.status.busy": "2024-04-25T09:44:03.069838Z",
     "iopub.status.idle": "2024-04-25T09:44:03.144753Z",
     "shell.execute_reply": "2024-04-25T09:44:03.143829Z",
     "shell.execute_reply.started": "2024-04-25T09:44:03.071839Z"
    }
   },
   "outputs": [],
   "source": [
    "storage_instance = \"sqlite:///optuna_database.db\"\n",
    "study_name =\"classification-3SampleStudy-Apr24\"\n",
    "# study_name =\"classification-study-Apr24\"\n",
    "# study_name=\"multiobjective-study-3\""
   ]
  },
  {
   "cell_type": "code",
   "execution_count": 155,
   "metadata": {
    "execution": {
     "iopub.execute_input": "2024-04-25T09:44:03.903839Z",
     "iopub.status.busy": "2024-04-25T09:44:03.903422Z",
     "iopub.status.idle": "2024-04-25T09:44:05.457982Z",
     "shell.execute_reply": "2024-04-25T09:44:05.457315Z",
     "shell.execute_reply.started": "2024-04-25T09:44:03.903797Z"
    }
   },
   "outputs": [
    {
     "name": "stdout",
     "output_type": "stream",
     "text": [
      "Total time:  0:00:00.058779\n"
     ]
    }
   ],
   "source": [
    "start = datetime.now()\n",
    "study  = optuna.load_study(study_name= study_name , storage=storage_instance)\n",
    "print(f\"Total time:  {datetime.now() - start}\")"
   ]
  },
  {
   "cell_type": "code",
   "execution_count": 156,
   "metadata": {
    "execution": {
     "iopub.execute_input": "2024-04-25T09:44:05.459650Z",
     "iopub.status.busy": "2024-04-25T09:44:05.459424Z",
     "iopub.status.idle": "2024-04-25T09:44:05.557663Z",
     "shell.execute_reply": "2024-04-25T09:44:05.556978Z",
     "shell.execute_reply.started": "2024-04-25T09:44:05.459629Z"
    }
   },
   "outputs": [
    {
     "name": "stdout",
     "output_type": "stream",
     "text": [
      " classification-3SampleStudy-Apr24  study history\n",
      "\n",
      "                start     -   completion      status        validation metrics\n",
      " trial#         time      -      time          code      roc_auc        logloss\n",
      "--------------------------------------------------------------------------------\n",
      "Trial #: 0    2024-04-23   23:38:03 - 23:50:34    1      0.56071        0.55998    \n",
      "Trial #: 1    2024-04-23   23:50:34 - 00:04:55    1      0.62853        0.35265    \n",
      "Trial #: 2    2024-04-24   00:04:56 - 00:19:41    1      0.53452        5.76593    \n",
      "Trial #: 3    2024-04-24   00:40:48 - 00:40:48    3          *** FAILED ***        \n",
      "Trial #: 4    2024-04-24   00:41:55 - 00:50:55    1      0.59665        0.36301    \n",
      "Trial #: 5    2024-04-24   00:50:55 - 01:00:21    1      0.54799        1.08768    \n",
      "Trial #: 6    2024-04-24   01:00:22 - 01:08:36    1      0.51181        1.24476    \n",
      "Trial #: 7    2024-04-24   01:08:37 - 01:17:35    1      0.62289        0.35346    \n",
      "Trial #: 8    2024-04-24   10:57:05 - 11:07:23    1      0.59553        0.37089    \n",
      "Trial #: 9    2024-04-24   11:07:23 - 11:30:58    1      0.62841        0.35243    \n",
      "Trial #: 10   2024-04-24   11:30:59 - 11:39:53    1      0.49385        1.55933    \n",
      "Trial #: 11   2024-04-24   11:39:53 - 11:48:47    1      0.48177       31.46757    \n",
      " *** end of trials *** \n",
      " Best trials:  [1, 9]\n"
     ]
    }
   ],
   "source": [
    "disp_study_history(study)"
   ]
  },
  {
   "cell_type": "markdown",
   "metadata": {},
   "source": [
    "### Get model to run"
   ]
  },
  {
   "cell_type": "code",
   "execution_count": 157,
   "metadata": {
    "execution": {
     "iopub.execute_input": "2024-04-25T09:44:12.840339Z",
     "iopub.status.busy": "2024-04-25T09:44:12.839771Z",
     "iopub.status.idle": "2024-04-25T09:44:12.889622Z",
     "shell.execute_reply": "2024-04-25T09:44:12.888947Z",
     "shell.execute_reply.started": "2024-04-25T09:44:12.840299Z"
    }
   },
   "outputs": [
    {
     "data": {
      "text/plain": [
       "FrozenTrial(number=1, state=1, values=[0.6285302984845391, 0.3526473663186769], datetime_start=datetime.datetime(2024, 4, 23, 23, 50, 34, 687828), datetime_complete=datetime.datetime(2024, 4, 24, 0, 4, 55, 429145), params={'learning_rate': 0.07347625555395124, 'min_split_loss': 8.470147676196637, 'max_depth': 4, 'min_child_weight': 5.769979718266502, 'max_delta_step': 4.984670660436042, 'subsample': 0.9590969313267979, 'colsample_bylevel': 0.5316430096697309, 'colsample_bynode': 0.8858631171587146}, user_attrs={}, system_attrs={'nsga2:generation': 0}, intermediate_values={}, distributions={'learning_rate': FloatDistribution(high=10.0, log=True, low=0.01, step=None), 'min_split_loss': FloatDistribution(high=10.0, log=False, low=0.0, step=None), 'max_depth': IntDistribution(high=15, log=False, low=1, step=1), 'min_child_weight': FloatDistribution(high=10.0, log=False, low=0.0, step=None), 'max_delta_step': FloatDistribution(high=10.0, log=False, low=0.0, step=None), 'subsample': FloatDistribution(high=1.0, log=False, low=0.4, step=None), 'colsample_bylevel': FloatDistribution(high=1.0, log=False, low=0.5, step=None), 'colsample_bynode': FloatDistribution(high=1.0, log=False, low=0.5, step=None)}, trial_id=130, value=None)"
      ]
     },
     "execution_count": 157,
     "metadata": {},
     "output_type": "execute_result"
    }
   ],
   "source": [
    "best_trial = study.best_trials[0]\n",
    "best_trial"
   ]
  },
  {
   "cell_type": "code",
   "execution_count": 158,
   "metadata": {
    "execution": {
     "iopub.execute_input": "2024-04-25T09:44:15.749491Z",
     "iopub.status.busy": "2024-04-25T09:44:15.749035Z",
     "iopub.status.idle": "2024-04-25T09:44:15.805210Z",
     "shell.execute_reply": "2024-04-25T09:44:15.804438Z",
     "shell.execute_reply.started": "2024-04-25T09:44:15.749449Z"
    }
   },
   "outputs": [
    {
     "name": "stdout",
     "output_type": "stream",
     "text": [
      " Load model from : ./saved_models/classification-3SampleStudy-Apr24_trial_001.json\n"
     ]
    }
   ],
   "source": [
    "# best_filename = f\"{study.study_name}_trial_{best_trial.number:03d}.model\"\n",
    "best_filename = f\"./saved_models/{study.study_name}_trial_{best_trial.number:03d}.json\"\n",
    "print(f\" Load model from : {best_filename}\")"
   ]
  },
  {
   "cell_type": "code",
   "execution_count": 159,
   "metadata": {
    "execution": {
     "iopub.execute_input": "2024-04-25T09:44:18.383531Z",
     "iopub.status.busy": "2024-04-25T09:44:18.383072Z",
     "iopub.status.idle": "2024-04-25T09:44:18.516070Z",
     "shell.execute_reply": "2024-04-25T09:44:18.515184Z",
     "shell.execute_reply.started": "2024-04-25T09:44:18.383488Z"
    }
   },
   "outputs": [
    {
     "data": {
      "text/plain": [
       "<xgboost.core.Booster at 0x7f8343846690>"
      ]
     },
     "execution_count": 159,
     "metadata": {},
     "output_type": "execute_result"
    }
   ],
   "source": [
    "model_copy = xgb.Booster()\n",
    "model_copy.load_model(best_filename)\n",
    "model_copy"
   ]
  },
  {
   "cell_type": "markdown",
   "metadata": {},
   "source": [
    "### Read test data"
   ]
  },
  {
   "cell_type": "code",
   "execution_count": 160,
   "metadata": {
    "execution": {
     "iopub.execute_input": "2024-04-25T09:44:34.655139Z",
     "iopub.status.busy": "2024-04-25T09:44:34.654589Z",
     "iopub.status.idle": "2024-04-25T09:44:34.700985Z",
     "shell.execute_reply": "2024-04-25T09:44:34.700410Z",
     "shell.execute_reply.started": "2024-04-25T09:44:34.655095Z"
    },
    "scrolled": true
   },
   "outputs": [
    {
     "name": "stdout",
     "output_type": "stream",
     "text": [
      "./output_11102023/3_sample_profiles/3sample_profiles_1482_bin_{0:03d}.csv\n"
     ]
    }
   ],
   "source": [
    "# df_profiles = read_cell_profiles(input_files[i], names = COMPOUND_PROFILE_COLUMNS, usecols = Xy_columns, dtype = Xy_columns_dtype)\n",
    "# df_profiles = read_cell_profiles(training_files, names = COMPOUND_PROFILE_COLUMNS, usecols = Xy_columns, dtype = Xy_columns_dtype)\n",
    "# file_idxs = {0, 1, 2, 3, 4, 5, 6, 7, 8, 9, 10, 11}\n",
    "\n",
    "# TRAINING_FILES = {0, 1, 2, 4, 5, 6, 7, 8, 9, 11}\n",
    "# TEST_FILES = {3, 10}\n",
    "TRAINING_FILES = {0, 1, 2, 3, 4, 5, 6, 7, 8, 9, 10, 11, 12, 13, 14}\n",
    "TEST_FILES = {15}\n",
    "binnedProfileFiles = binned_3SampleProfileFiles\n",
    "print(binnedProfileFiles)"
   ]
  },
  {
   "cell_type": "code",
   "execution_count": 161,
   "metadata": {
    "execution": {
     "iopub.execute_input": "2024-04-25T09:44:39.399776Z",
     "iopub.status.busy": "2024-04-25T09:44:39.399107Z",
     "iopub.status.idle": "2024-04-25T09:44:39.449084Z",
     "shell.execute_reply": "2024-04-25T09:44:39.448455Z",
     "shell.execute_reply.started": "2024-04-25T09:44:39.399728Z"
    }
   },
   "outputs": [],
   "source": [
    "from utils_cellpainting import make_cv_splits_2"
   ]
  },
  {
   "cell_type": "code",
   "execution_count": 164,
   "metadata": {
    "execution": {
     "iopub.execute_input": "2024-04-25T09:44:58.423598Z",
     "iopub.status.busy": "2024-04-25T09:44:58.422916Z",
     "iopub.status.idle": "2024-04-25T09:44:58.474125Z",
     "shell.execute_reply": "2024-04-25T09:44:58.473434Z",
     "shell.execute_reply.started": "2024-04-25T09:44:58.423556Z"
    }
   },
   "outputs": [],
   "source": [
    "# input_file_list = read_binned_profile_files(file_idxs = TEST_FILES,\n",
    "#                                             filename = binnedProfileFiles,\n",
    "#                                             names = COMPOUND_PROFILE_COLUMNS, \n",
    "#                                             # names = COMPOUND_PROFILE_COLUMNS_3681, \n",
    "#                                             usecols = Xy_columns,\n",
    "#                                             dtype = Xy_columns_dtype,\n",
    "#                                             index_cols = False,)\n",
    "# test_iter_files = make_cv_splits_2(input_file_list, n_folds=1, y_columns=y_columns)\n",
    "\n",
    "# for i, ((X_test,y_test), (X_val, y_val)) in enumerate(test_iter_files):\n",
    "#     logging.info(f\" Inference on file {i} ...\")\n",
    "#     print(type(X_test), X_test.shape, type(y_test),y_val.shape)\n",
    "#     # d_test = xgb.dask.DaskDMatrix(client, X_test, y_test)"
   ]
  },
  {
   "cell_type": "code",
   "execution_count": 89,
   "metadata": {
    "execution": {
     "iopub.execute_input": "2024-04-25T09:09:47.979330Z",
     "iopub.status.busy": "2024-04-25T09:09:47.979023Z",
     "iopub.status.idle": "2024-04-25T09:09:48.021616Z",
     "shell.execute_reply": "2024-04-25T09:09:48.020864Z",
     "shell.execute_reply.started": "2024-04-25T09:09:47.979308Z"
    }
   },
   "outputs": [],
   "source": [
    "# df_ps = dd.read_csv(profileInputFiles, names = all_columns, usecols=Xy_columns, dtype= Xy_columns_dtype)   \n",
    "# df_ps = read_cell_profiles(profileInputFiles, names = all_columns, usecols = Xy_columns, dtype = Xy_columns_dtype)\n",
    "# print(f\" Number of partitions:  {df_profiles.npartitions}   partition(1) shape: {df_ps.get_partition(0).shape}\")\n",
    "\n",
    "# st1, en1 = get_dd_subset(df_ps, skiprows = 0, nrows = 200000, ss=None, verbose = False)\n",
    "# st2, en2 = get_dd_subset(df_ps, skiprows = 200000, nrows = 90000, ss=None, verbose = False)\n",
    "\n",
    "# st1,en1\n",
    "# st2,en2\n",
    "\n",
    "# df_train =df_ps.partitions[st1:en1]\n",
    "# df_test = split_Xy(df_ps.partitions[st2:en2], y_columns = list(y_columns) )\n",
    "# all_columns"
   ]
  },
  {
   "cell_type": "code",
   "execution_count": 165,
   "metadata": {
    "execution": {
     "iopub.execute_input": "2024-04-25T09:45:01.937449Z",
     "iopub.status.busy": "2024-04-25T09:45:01.936983Z",
     "iopub.status.idle": "2024-04-25T09:45:02.863450Z",
     "shell.execute_reply": "2024-04-25T09:45:02.862425Z",
     "shell.execute_reply.started": "2024-04-25T09:45:01.937407Z"
    }
   },
   "outputs": [
    {
     "name": "stdout",
     "output_type": "stream",
     "text": [
      " Reading cell profiles file :  ./output_11102023/3_sample_profiles/3sample_profiles_1482_bin_015.csv\n"
     ]
    },
    {
     "data": {
      "text/plain": [
       "1472"
      ]
     },
     "execution_count": 165,
     "metadata": {},
     "output_type": "execute_result"
    }
   ],
   "source": [
    "# print(f\" Reading cell profiles file :  {profileInputFiles}\")\n",
    "\n",
    "# df_ps = dd.read_csv(binnedProfileFiles.format(000), names=COMPOUND_PROFILE_COLUMNS) ## , usecols=Xy_columns, dtype= Xy_columns_dtype)   \n",
    "# df_ps = pd.read_csv(binnedProfileFiles.format(000), index_col = False, names=COMPOUND_PROFILE_COLUMNS,nrows=20) ## , usecols=Xy_columns, dtype= Xy_columns_dtype) \n",
    "\n",
    "\n",
    "# df_ps = read_cell_profiles(profileInputFiles.format(000),nrows=20, names=COMPOUND_PROFILE_COLUMNS) ##  usecols = Xy_columns, dtype = Xy_columns_dtype)\n",
    "# df_ps = read_cell_profiles(binnedProfileFiles.format(000),nrows=2000, names=COMPOUND_PROFILE_COLUMNS) ##  usecols = Xy_columns, dtype = Xy_columns_dtype)\n",
    "# print(f\" Number of partitions:  {df_ps.npartitions}   partition(1) shape: {df_ps.get_partition(0).shape}\")\n",
    "# print(f\" {df_test.shape},  dataframe_columns count: {len(df_test.columns)}   compound_profile_columns count: {len(COMPOUND_PROFILE_COLUMNS)}\")\n",
    "\n",
    "\n",
    "\n",
    "print(f\" Reading cell profiles file :  {binnedProfileFiles.format(15)}\")\n",
    "len(Xy_columns)\n",
    "df_test = dd.read_csv(binnedProfileFiles.format(15), \n",
    "                       names = COMPOUND_PROFILE_COLUMNS,\n",
    "                       usecols = Xy_columns,\n",
    "                       dtype = Xy_columns_dtype) ## , usecols = usecols, dtype = dtype)  "
   ]
  },
  {
   "cell_type": "code",
   "execution_count": 166,
   "metadata": {
    "execution": {
     "iopub.execute_input": "2024-04-25T09:45:06.629237Z",
     "iopub.status.busy": "2024-04-25T09:45:06.628785Z",
     "iopub.status.idle": "2024-04-25T09:45:08.496472Z",
     "shell.execute_reply": "2024-04-25T09:45:08.495630Z",
     "shell.execute_reply.started": "2024-04-25T09:45:06.629195Z"
    }
   },
   "outputs": [
    {
     "name": "stdout",
     "output_type": "stream",
     "text": [
      "set()\n",
      "<class 'dask.dataframe.core.DataFrame'>\n",
      "Columns: 1472 entries, Metadata_Permiation to Nuclei_Texture_SumVariance_RNA_10_01_256\n",
      "dtypes: float32(1471), int64(1)"
     ]
    },
    {
     "data": {
      "text/html": [
       "<div>\n",
       "<style scoped>\n",
       "    .dataframe tbody tr th:only-of-type {\n",
       "        vertical-align: middle;\n",
       "    }\n",
       "\n",
       "    .dataframe tbody tr th {\n",
       "        vertical-align: top;\n",
       "    }\n",
       "\n",
       "    .dataframe thead th {\n",
       "        text-align: right;\n",
       "    }\n",
       "</style>\n",
       "<table border=\"1\" class=\"dataframe\">\n",
       "  <thead>\n",
       "    <tr style=\"text-align: right;\">\n",
       "      <th></th>\n",
       "      <th>Metadata_Permiation</th>\n",
       "      <th>Cells_AreaShape_BoundingBoxMaximum_X</th>\n",
       "      <th>Cells_AreaShape_Center_X</th>\n",
       "      <th>Cells_AreaShape_Center_Y</th>\n",
       "      <th>Cells_AreaShape_Compactness</th>\n",
       "      <th>Cells_AreaShape_Eccentricity</th>\n",
       "      <th>Cells_AreaShape_EulerNumber</th>\n",
       "      <th>Cells_AreaShape_Extent</th>\n",
       "      <th>Cells_AreaShape_MajorAxisLength</th>\n",
       "      <th>Cells_AreaShape_MedianRadius</th>\n",
       "      <th>...</th>\n",
       "      <th>Nuclei_Texture_SumAverage_DNA_10_01_256</th>\n",
       "      <th>Nuclei_Texture_SumAverage_ER_10_01_256</th>\n",
       "      <th>Nuclei_Texture_SumAverage_Mito_10_01_256</th>\n",
       "      <th>Nuclei_Texture_SumAverage_RNA_10_01_256</th>\n",
       "      <th>Nuclei_Texture_SumEntropy_DNA_10_03_256</th>\n",
       "      <th>Nuclei_Texture_SumVariance_AGP_10_03_256</th>\n",
       "      <th>Nuclei_Texture_SumVariance_DNA_10_03_256</th>\n",
       "      <th>Nuclei_Texture_SumVariance_ER_10_01_256</th>\n",
       "      <th>Nuclei_Texture_SumVariance_Mito_10_03_256</th>\n",
       "      <th>Nuclei_Texture_SumVariance_RNA_10_01_256</th>\n",
       "    </tr>\n",
       "  </thead>\n",
       "  <tbody>\n",
       "    <tr>\n",
       "      <th>0</th>\n",
       "      <td>0</td>\n",
       "      <td>-0.057741</td>\n",
       "      <td>0.037530</td>\n",
       "      <td>-0.012524</td>\n",
       "      <td>0.228515</td>\n",
       "      <td>-0.296551</td>\n",
       "      <td>0.064403</td>\n",
       "      <td>-1.068554</td>\n",
       "      <td>-0.163755</td>\n",
       "      <td>-0.369498</td>\n",
       "      <td>...</td>\n",
       "      <td>-1.989154</td>\n",
       "      <td>-0.321631</td>\n",
       "      <td>0.281320</td>\n",
       "      <td>0.530658</td>\n",
       "      <td>-1.857460</td>\n",
       "      <td>-0.143630</td>\n",
       "      <td>-0.608387</td>\n",
       "      <td>-0.200021</td>\n",
       "      <td>-0.500728</td>\n",
       "      <td>0.238971</td>\n",
       "    </tr>\n",
       "    <tr>\n",
       "      <th>1</th>\n",
       "      <td>0</td>\n",
       "      <td>1.201667</td>\n",
       "      <td>1.643608</td>\n",
       "      <td>0.342734</td>\n",
       "      <td>0.029035</td>\n",
       "      <td>-0.043964</td>\n",
       "      <td>0.016867</td>\n",
       "      <td>0.497814</td>\n",
       "      <td>-0.066940</td>\n",
       "      <td>-0.096580</td>\n",
       "      <td>...</td>\n",
       "      <td>-0.067368</td>\n",
       "      <td>-0.815865</td>\n",
       "      <td>-0.380994</td>\n",
       "      <td>-0.740020</td>\n",
       "      <td>-0.051555</td>\n",
       "      <td>-0.253015</td>\n",
       "      <td>-0.072170</td>\n",
       "      <td>0.063024</td>\n",
       "      <td>-0.415817</td>\n",
       "      <td>-0.321112</td>\n",
       "    </tr>\n",
       "    <tr>\n",
       "      <th>2</th>\n",
       "      <td>0</td>\n",
       "      <td>0.337284</td>\n",
       "      <td>0.488319</td>\n",
       "      <td>0.575717</td>\n",
       "      <td>-0.748522</td>\n",
       "      <td>-0.551591</td>\n",
       "      <td>0.083245</td>\n",
       "      <td>0.456834</td>\n",
       "      <td>-0.166438</td>\n",
       "      <td>-0.050640</td>\n",
       "      <td>...</td>\n",
       "      <td>-0.076755</td>\n",
       "      <td>0.372981</td>\n",
       "      <td>-0.559164</td>\n",
       "      <td>0.495843</td>\n",
       "      <td>0.060877</td>\n",
       "      <td>0.087625</td>\n",
       "      <td>-0.074250</td>\n",
       "      <td>-0.285866</td>\n",
       "      <td>-0.153977</td>\n",
       "      <td>-0.164077</td>\n",
       "    </tr>\n",
       "    <tr>\n",
       "      <th>3</th>\n",
       "      <td>0</td>\n",
       "      <td>-0.733470</td>\n",
       "      <td>-0.787813</td>\n",
       "      <td>1.130547</td>\n",
       "      <td>0.035943</td>\n",
       "      <td>-0.167816</td>\n",
       "      <td>0.190890</td>\n",
       "      <td>-0.057359</td>\n",
       "      <td>0.030301</td>\n",
       "      <td>0.113159</td>\n",
       "      <td>...</td>\n",
       "      <td>0.973951</td>\n",
       "      <td>0.674738</td>\n",
       "      <td>0.259747</td>\n",
       "      <td>0.891715</td>\n",
       "      <td>1.685901</td>\n",
       "      <td>0.174777</td>\n",
       "      <td>1.633640</td>\n",
       "      <td>0.490775</td>\n",
       "      <td>-0.126125</td>\n",
       "      <td>0.747519</td>\n",
       "    </tr>\n",
       "    <tr>\n",
       "      <th>4</th>\n",
       "      <td>0</td>\n",
       "      <td>0.126039</td>\n",
       "      <td>0.151099</td>\n",
       "      <td>0.475647</td>\n",
       "      <td>0.021985</td>\n",
       "      <td>-0.086844</td>\n",
       "      <td>-2.156649</td>\n",
       "      <td>0.181228</td>\n",
       "      <td>0.024673</td>\n",
       "      <td>0.200907</td>\n",
       "      <td>...</td>\n",
       "      <td>-0.299761</td>\n",
       "      <td>-0.186999</td>\n",
       "      <td>-0.197012</td>\n",
       "      <td>-0.225902</td>\n",
       "      <td>-0.369036</td>\n",
       "      <td>-0.115130</td>\n",
       "      <td>-0.089922</td>\n",
       "      <td>-0.100882</td>\n",
       "      <td>0.051790</td>\n",
       "      <td>-0.019253</td>\n",
       "    </tr>\n",
       "  </tbody>\n",
       "</table>\n",
       "<p>5 rows × 1472 columns</p>\n",
       "</div>"
      ],
      "text/plain": [
       "   Metadata_Permiation  Cells_AreaShape_BoundingBoxMaximum_X  Cells_AreaShape_Center_X  Cells_AreaShape_Center_Y  Cells_AreaShape_Compactness  \\\n",
       "0                    0                             -0.057741                  0.037530                 -0.012524                     0.228515   \n",
       "1                    0                              1.201667                  1.643608                  0.342734                     0.029035   \n",
       "2                    0                              0.337284                  0.488319                  0.575717                    -0.748522   \n",
       "3                    0                             -0.733470                 -0.787813                  1.130547                     0.035943   \n",
       "4                    0                              0.126039                  0.151099                  0.475647                     0.021985   \n",
       "\n",
       "   Cells_AreaShape_Eccentricity  Cells_AreaShape_EulerNumber  Cells_AreaShape_Extent  Cells_AreaShape_MajorAxisLength  Cells_AreaShape_MedianRadius  ...  \\\n",
       "0                     -0.296551                     0.064403               -1.068554                        -0.163755                     -0.369498  ...   \n",
       "1                     -0.043964                     0.016867                0.497814                        -0.066940                     -0.096580  ...   \n",
       "2                     -0.551591                     0.083245                0.456834                        -0.166438                     -0.050640  ...   \n",
       "3                     -0.167816                     0.190890               -0.057359                         0.030301                      0.113159  ...   \n",
       "4                     -0.086844                    -2.156649                0.181228                         0.024673                      0.200907  ...   \n",
       "\n",
       "   Nuclei_Texture_SumAverage_DNA_10_01_256  Nuclei_Texture_SumAverage_ER_10_01_256  Nuclei_Texture_SumAverage_Mito_10_01_256  Nuclei_Texture_SumAverage_RNA_10_01_256  \\\n",
       "0                                -1.989154                               -0.321631                                  0.281320                                 0.530658   \n",
       "1                                -0.067368                               -0.815865                                 -0.380994                                -0.740020   \n",
       "2                                -0.076755                                0.372981                                 -0.559164                                 0.495843   \n",
       "3                                 0.973951                                0.674738                                  0.259747                                 0.891715   \n",
       "4                                -0.299761                               -0.186999                                 -0.197012                                -0.225902   \n",
       "\n",
       "   Nuclei_Texture_SumEntropy_DNA_10_03_256  Nuclei_Texture_SumVariance_AGP_10_03_256  Nuclei_Texture_SumVariance_DNA_10_03_256  Nuclei_Texture_SumVariance_ER_10_01_256  \\\n",
       "0                                -1.857460                                 -0.143630                                 -0.608387                                -0.200021   \n",
       "1                                -0.051555                                 -0.253015                                 -0.072170                                 0.063024   \n",
       "2                                 0.060877                                  0.087625                                 -0.074250                                -0.285866   \n",
       "3                                 1.685901                                  0.174777                                  1.633640                                 0.490775   \n",
       "4                                -0.369036                                 -0.115130                                 -0.089922                                -0.100882   \n",
       "\n",
       "   Nuclei_Texture_SumVariance_Mito_10_03_256  Nuclei_Texture_SumVariance_RNA_10_01_256  \n",
       "0                                  -0.500728                                  0.238971  \n",
       "1                                  -0.415817                                 -0.321112  \n",
       "2                                  -0.153977                                 -0.164077  \n",
       "3                                  -0.126125                                  0.747519  \n",
       "4                                   0.051790                                 -0.019253  \n",
       "\n",
       "[5 rows x 1472 columns]"
      ]
     },
     "execution_count": 166,
     "metadata": {},
     "output_type": "execute_result"
    },
    {
     "data": {
      "text/plain": [
       "{'Metadata_Permiation'}"
      ]
     },
     "execution_count": 166,
     "metadata": {},
     "output_type": "execute_result"
    },
    {
     "data": {
      "text/plain": [
       "((Delayed('int-56189d59-1a29-4bd0-8e36-f7e4375f9fac'), 1),\n",
       " Index(['Metadata_Permiation'], dtype='object'))"
      ]
     },
     "execution_count": 166,
     "metadata": {},
     "output_type": "execute_result"
    },
    {
     "data": {
      "text/plain": [
       "(dask.dataframe.core.DataFrame,\n",
       " (Delayed('int-495b3ecf-3795-4028-b001-4e3657b7087e'), 1471),\n",
       " Index(['Cells_AreaShape_BoundingBoxMaximum_X', 'Cells_AreaShape_Center_X', 'Cells_AreaShape_Center_Y', 'Cells_AreaShape_Compactness', 'Cells_AreaShape_Eccentricity',\n",
       "        'Cells_AreaShape_EulerNumber', 'Cells_AreaShape_Extent', 'Cells_AreaShape_MajorAxisLength', 'Cells_AreaShape_MedianRadius', 'Cells_AreaShape_MinorAxisLength',\n",
       "        ...\n",
       "        'Nuclei_Texture_SumAverage_DNA_10_01_256', 'Nuclei_Texture_SumAverage_ER_10_01_256', 'Nuclei_Texture_SumAverage_Mito_10_01_256',\n",
       "        'Nuclei_Texture_SumAverage_RNA_10_01_256', 'Nuclei_Texture_SumEntropy_DNA_10_03_256', 'Nuclei_Texture_SumVariance_AGP_10_03_256',\n",
       "        'Nuclei_Texture_SumVariance_DNA_10_03_256', 'Nuclei_Texture_SumVariance_ER_10_01_256', 'Nuclei_Texture_SumVariance_Mito_10_03_256',\n",
       "        'Nuclei_Texture_SumVariance_RNA_10_01_256'],\n",
       "       dtype='object', length=1471))"
      ]
     },
     "execution_count": 166,
     "metadata": {},
     "output_type": "execute_result"
    }
   ],
   "source": [
    "print(set(df_test.columns) - set(COMPOUND_PROFILE_COLUMNS))\n",
    "df_test.info()\n",
    "df_test.head()\n",
    "\n",
    "y_columns\n",
    "\n",
    "X_test, y_test = split_Xy(df_test, y_columns)\n",
    "\n",
    "y_test.shape,y_test.columns\n",
    "\n",
    "type(X_test),X_test.shape, X_test.columns"
   ]
  },
  {
   "cell_type": "code",
   "execution_count": 115,
   "metadata": {
    "execution": {
     "iopub.execute_input": "2024-04-25T09:21:02.763329Z",
     "iopub.status.busy": "2024-04-25T09:21:02.762821Z",
     "iopub.status.idle": "2024-04-25T09:21:02.808460Z",
     "shell.execute_reply": "2024-04-25T09:21:02.807832Z",
     "shell.execute_reply.started": "2024-04-25T09:21:02.763287Z"
    }
   },
   "outputs": [],
   "source": [
    "# df_pr = read_cell_profiles_2(CompoundProfiles2SampleFileCSV, rows = 40, skiprows = None)\n",
    "# df_pr.npartitions\n",
    "# df_pr.get_partition(0).head(2)\n",
    "# y_test.compute().shape"
   ]
  },
  {
   "cell_type": "markdown",
   "metadata": {},
   "source": [
    "### Run prediction against test data"
   ]
  },
  {
   "cell_type": "code",
   "execution_count": 167,
   "metadata": {
    "execution": {
     "iopub.execute_input": "2024-04-25T09:45:12.206725Z",
     "iopub.status.busy": "2024-04-25T09:45:12.206177Z",
     "iopub.status.idle": "2024-04-25T09:45:17.388701Z",
     "shell.execute_reply": "2024-04-25T09:45:17.387155Z",
     "shell.execute_reply.started": "2024-04-25T09:45:12.206682Z"
    }
   },
   "outputs": [],
   "source": [
    "y_pred = xgb.dask.predict(client, model_copy, X_test).compute()"
   ]
  },
  {
   "cell_type": "code",
   "execution_count": 168,
   "metadata": {
    "execution": {
     "iopub.execute_input": "2024-04-25T09:45:17.391415Z",
     "iopub.status.busy": "2024-04-25T09:45:17.390968Z",
     "iopub.status.idle": "2024-04-25T09:45:20.505732Z",
     "shell.execute_reply": "2024-04-25T09:45:20.505061Z",
     "shell.execute_reply.started": "2024-04-25T09:45:17.391374Z"
    },
    "lines_to_next_cell": 2
   },
   "outputs": [
    {
     "data": {
      "text/plain": [
       "(dask.dataframe.core.DataFrame, numpy.ndarray, pandas.core.series.Series)"
      ]
     },
     "execution_count": 168,
     "metadata": {},
     "output_type": "execute_result"
    }
   ],
   "source": [
    "y_test_np = y_test.compute().to_numpy(copy=True).squeeze()\n",
    "type(y_test),type(y_test_np), type(y_pred)"
   ]
  },
  {
   "cell_type": "code",
   "execution_count": 169,
   "metadata": {
    "execution": {
     "iopub.execute_input": "2024-04-25T09:45:20.507164Z",
     "iopub.status.busy": "2024-04-25T09:45:20.506945Z",
     "iopub.status.idle": "2024-04-25T09:45:20.561636Z",
     "shell.execute_reply": "2024-04-25T09:45:20.561093Z",
     "shell.execute_reply.started": "2024-04-25T09:45:20.507143Z"
    }
   },
   "outputs": [
    {
     "data": {
      "text/plain": [
       "(21927,)"
      ]
     },
     "execution_count": 169,
     "metadata": {},
     "output_type": "execute_result"
    },
    {
     "data": {
      "text/plain": [
       "(21927,)"
      ]
     },
     "execution_count": 169,
     "metadata": {},
     "output_type": "execute_result"
    }
   ],
   "source": [
    "y_test_np.shape\n",
    "y_pred.shape"
   ]
  },
  {
   "cell_type": "markdown",
   "metadata": {},
   "source": [
    "### Compute metrics "
   ]
  },
  {
   "cell_type": "code",
   "execution_count": 170,
   "metadata": {
    "execution": {
     "iopub.execute_input": "2024-04-25T09:45:33.680221Z",
     "iopub.status.busy": "2024-04-25T09:45:33.679743Z",
     "iopub.status.idle": "2024-04-25T09:45:33.741015Z",
     "shell.execute_reply": "2024-04-25T09:45:33.740368Z",
     "shell.execute_reply.started": "2024-04-25T09:45:33.680179Z"
    },
    "lines_to_end_of_cell_marker": 2
   },
   "outputs": [
    {
     "name": "stderr",
     "output_type": "stream",
     "text": [
      "2024-04-25 11:45:33,733 - INFO: - Compute R2 & MSE scores...\n"
     ]
    },
    {
     "name": "stdout",
     "output_type": "stream",
     "text": [
      " R2 Score : 0.030060\n"
     ]
    }
   ],
   "source": [
    "logging.info(f\"Compute R2 & MSE scores...\")\n",
    "R2_score = skm.r2_score(\n",
    "    y_true = y_test_np,\n",
    "    y_pred = y_pred,\n",
    ")\n",
    "print(f\" R2 Score : {R2_score:.6f}\")"
   ]
  },
  {
   "cell_type": "code",
   "execution_count": 171,
   "metadata": {
    "execution": {
     "iopub.execute_input": "2024-04-25T09:45:36.065177Z",
     "iopub.status.busy": "2024-04-25T09:45:36.064688Z",
     "iopub.status.idle": "2024-04-25T09:45:36.115214Z",
     "shell.execute_reply": "2024-04-25T09:45:36.114397Z",
     "shell.execute_reply.started": "2024-04-25T09:45:36.065136Z"
    },
    "lines_to_end_of_cell_marker": 2
   },
   "outputs": [
    {
     "name": "stdout",
     "output_type": "stream",
     "text": [
      "MSE Score : 0.318762\n"
     ]
    }
   ],
   "source": [
    "mse_score = skm.mean_squared_error(\n",
    "    y_true = y_test_np,\n",
    "    y_pred = y_pred,\n",
    "    squared=False,\n",
    "    # compute=True,\n",
    ")\n",
    "# logging.info(f\"Compute R2 & MSE scores...Completed\")\n",
    "\n",
    "print(f\"MSE Score : {mse_score:.6f}\")"
   ]
  },
  {
   "cell_type": "code",
   "execution_count": 172,
   "metadata": {
    "execution": {
     "iopub.execute_input": "2024-04-25T09:45:38.426324Z",
     "iopub.status.busy": "2024-04-25T09:45:38.425829Z",
     "iopub.status.idle": "2024-04-25T09:45:38.483246Z",
     "shell.execute_reply": "2024-04-25T09:45:38.482041Z",
     "shell.execute_reply.started": "2024-04-25T09:45:38.426281Z"
    }
   },
   "outputs": [
    {
     "name": "stdout",
     "output_type": "stream",
     "text": [
      "0.17351379588682794 8.938049736924569e-148\n",
      "  Pearson : 0.173514      P: 8.938e-148\n"
     ]
    }
   ],
   "source": [
    "pearson_corr, pearson_p = sps.pearsonr(y_test_np, y_pred)\n",
    "\n",
    "print(pearson_corr, pearson_p)\n",
    "print(f\"  Pearson : {pearson_corr:.6f}      P: {pearson_p:.3e}\")"
   ]
  },
  {
   "cell_type": "code",
   "execution_count": 173,
   "metadata": {
    "execution": {
     "iopub.execute_input": "2024-04-25T09:45:40.256875Z",
     "iopub.status.busy": "2024-04-25T09:45:40.256566Z",
     "iopub.status.idle": "2024-04-25T09:45:43.457381Z",
     "shell.execute_reply": "2024-04-25T09:45:43.455355Z",
     "shell.execute_reply.started": "2024-04-25T09:45:40.256847Z"
    }
   },
   "outputs": [
    {
     "name": "stdout",
     "output_type": "stream",
     "text": [
      "0.14744452173648828 8.274093469629718e-107\n",
      "  Spearman : 0.147445      P: 8.274093e-107\n"
     ]
    }
   ],
   "source": [
    "spearman_corr, spearman_p = sps.spearmanr(y_test.squeeze(), y_pred)\n",
    "\n",
    "print(spearman_corr, spearman_p)\n",
    "print(f\"  Spearman : {spearman_corr:.6f}      P: {spearman_p:.6e}\")"
   ]
  },
  {
   "cell_type": "code",
   "execution_count": 174,
   "metadata": {
    "execution": {
     "iopub.execute_input": "2024-04-25T09:45:44.279935Z",
     "iopub.status.busy": "2024-04-25T09:45:44.279480Z",
     "iopub.status.idle": "2024-04-25T09:45:44.328412Z",
     "shell.execute_reply": "2024-04-25T09:45:44.327333Z",
     "shell.execute_reply.started": "2024-04-25T09:45:44.279894Z"
    }
   },
   "outputs": [
    {
     "name": "stdout",
     "output_type": "stream",
     "text": [
      "0 1 0.1188945136133534\n",
      "0.021202521 0.7625217 0.11815226\n"
     ]
    }
   ],
   "source": [
    "print(y_test_np.min(), y_test_np.max(), y_test_np.mean())\n",
    "print(y_pred.min(), y_pred.max(), y_pred.mean())"
   ]
  },
  {
   "cell_type": "code",
   "execution_count": 179,
   "metadata": {
    "execution": {
     "iopub.execute_input": "2024-04-25T09:47:46.201917Z",
     "iopub.status.busy": "2024-04-25T09:47:46.201311Z",
     "iopub.status.idle": "2024-04-25T09:47:46.264529Z",
     "shell.execute_reply": "2024-04-25T09:47:46.263766Z",
     "shell.execute_reply.started": "2024-04-25T09:47:46.201873Z"
    }
   },
   "outputs": [
    {
     "name": "stdout",
     "output_type": "stream",
     "text": [
      "ROC_AUC : 0.631505\n",
      "Log Loss: 0.351656\n"
     ]
    }
   ],
   "source": [
    "roc_auc = skm.roc_auc_score(y_test_np, y_score = y_pred)\n",
    "logloss = skm.log_loss(y_test_np, y_pred= y_pred)\n",
    "print(f\"ROC_AUC : {roc_auc:.6f}\")\n",
    "print(f\"Log Loss: {logloss:.6f}\")\n",
    "                                                "
   ]
  },
  {
   "cell_type": "code",
   "execution_count": 180,
   "metadata": {
    "execution": {
     "iopub.execute_input": "2024-04-25T09:47:48.668665Z",
     "iopub.status.busy": "2024-04-25T09:47:48.667387Z",
     "iopub.status.idle": "2024-04-25T09:47:48.756276Z",
     "shell.execute_reply": "2024-04-25T09:47:48.755609Z",
     "shell.execute_reply.started": "2024-04-25T09:47:48.668617Z"
    }
   },
   "outputs": [
    {
     "name": "stderr",
     "output_type": "stream",
     "text": [
      "2024-04-25 11:47:48,714 - INFO: - Calculating metrics...\n",
      "2024-04-25 11:47:48,751 - INFO: - Calculating metrics...Completed\n"
     ]
    }
   ],
   "source": [
    "logging.info(f\"Calculating metrics...\")\n",
    "# R2_score = skm.r2_score(y_true = y_test_c, y_pred = predictions)\n",
    "# mse_score = skm.mean_squared_error(y_true = y_test_c, y_pred = predictions, squared=False,)\n",
    "# metrics_keys = [\"train_auc\",\"train_logloss\", \"val_auc\", \"val_logloss\", \"roc_auc\", \"logloss\",\n",
    "#                \"accuracy\",\"bal_acc\",\"top_k_acc\",\"F1_score\",\"map\",\"pearson_corr\"]\n",
    "metrics = compute_classification_metrics(model_copy, y_test_np, y_pred, mode ='test')\n",
    "logging.info(f\"Calculating metrics...Completed\")"
   ]
  },
  {
   "cell_type": "code",
   "execution_count": 181,
   "metadata": {
    "execution": {
     "iopub.execute_input": "2024-04-25T09:47:49.912788Z",
     "iopub.status.busy": "2024-04-25T09:47:49.912331Z",
     "iopub.status.idle": "2024-04-25T09:47:49.974393Z",
     "shell.execute_reply": "2024-04-25T09:47:49.973757Z",
     "shell.execute_reply.started": "2024-04-25T09:47:49.912747Z"
    },
    "lines_to_next_cell": 2
   },
   "outputs": [
    {
     "name": "stdout",
     "output_type": "stream",
     "text": [
      "\n",
      "       log_loss :   0.631505\n",
      "       log_loss :   0.351656\n",
      "       Accuracy :   0.880969\n",
      "    Bal. Accrcy :   0.003495\n",
      "    Top 3 Score :   1.000000\n",
      "       F1 Score :   0.008359\n",
      "        Pearson :   0.173514          P : 8.9380e-148\n",
      "\n"
     ]
    }
   ],
   "source": [
    "# print(y_test_c)\n",
    "# print(predictions)\n",
    "print()\n",
    "print(f\"       log_loss :  {metrics['roc_auc']:9.6f}\")\n",
    "print(f\"       log_loss :  {metrics['logloss']:9.6f}\")\n",
    "print(f\"       Accuracy :  {metrics['accuracy']:9.6f}\")\n",
    "print(f\"    Bal. Accrcy :  {metrics['bal_acc']:9.6f}\")\n",
    "print(f\"    Top 3 Score :  {metrics['top_k_acc']:9.6f}\")\n",
    "print(f\"       F1 Score :  {metrics['F1_score']:9.6f}\")\n",
    "print(f\"        Pearson :  {metrics['pearson_corr']:9.6f}          P : {pearson_p:9.4e}\")\n",
    "print()\n",
    "# print(f\"   Training AUC :  {metrics['train_auc']:.6f}      Logloss : {metrics['train_logloss']:.6f}\")\n",
    "# print(f\" Validation AUC :  {metrics['val_auc']:.6f}      Logloss : {metrics['val_logloss']:.6f}\")\n",
    "# print(f\"       Test AUC :  {metrics['roc_auc']:.6f}      Logloss : {metrics['logloss']:.6f}\")"
   ]
  },
  {
   "cell_type": "code",
   "execution_count": 185,
   "metadata": {
    "execution": {
     "iopub.execute_input": "2024-04-25T09:48:21.186466Z",
     "iopub.status.busy": "2024-04-25T09:48:21.185953Z",
     "iopub.status.idle": "2024-04-25T09:48:21.241076Z",
     "shell.execute_reply": "2024-04-25T09:48:21.240438Z",
     "shell.execute_reply.started": "2024-04-25T09:48:21.186425Z"
    }
   },
   "outputs": [
    {
     "data": {
      "text/plain": [
       "0     0.147434\n",
       "1     0.120286\n",
       "2     0.106660\n",
       "3     0.132383\n",
       "4     0.165776\n",
       "5     0.098371\n",
       "6     0.215268\n",
       "7     0.347389\n",
       "8     0.291135\n",
       "9     0.094181\n",
       "10    0.097274\n",
       "11    0.086140\n",
       "12    0.105133\n",
       "13    0.087948\n",
       "14    0.101332\n",
       "15    0.148897\n",
       "16    0.087818\n",
       "17    0.215485\n",
       "18    0.124400\n",
       "19    0.084660\n",
       "Name: 0, dtype: float32"
      ]
     },
     "execution_count": 185,
     "metadata": {},
     "output_type": "execute_result"
    },
    {
     "data": {
      "text/plain": [
       "25"
      ]
     },
     "execution_count": 185,
     "metadata": {},
     "output_type": "execute_result"
    },
    {
     "data": {
      "text/plain": [
       "array([0, 0, 0, 0, 0, 0, 1, 1, 1, 1, 1, 1, 0, 0, 0, 1, 1, 1, 0, 0])"
      ]
     },
     "execution_count": 185,
     "metadata": {},
     "output_type": "execute_result"
    }
   ],
   "source": [
    "y_pred[:20]\n",
    "tt = y_pred > 0.5\n",
    "tt.sum()\n",
    "y_test_np[:20]"
   ]
  },
  {
   "cell_type": "code",
   "execution_count": 186,
   "metadata": {
    "execution": {
     "iopub.execute_input": "2024-04-25T09:48:24.132384Z",
     "iopub.status.busy": "2024-04-25T09:48:24.131647Z",
     "iopub.status.idle": "2024-04-25T09:48:24.485596Z",
     "shell.execute_reply": "2024-04-25T09:48:24.484992Z",
     "shell.execute_reply.started": "2024-04-25T09:48:24.132311Z"
    }
   },
   "outputs": [
    {
     "data": {
      "image/png": "[encoded data removed]",
      "text/plain": [
       "<Figure size 640x480 with 1 Axes>"
      ]
     },
     "metadata": {},
     "output_type": "display_data"
    }
   ],
   "source": [
    "# fig = plt.figure(figsize=(6,6))\n",
    "plt.plot(y_pred,y_test_np,  '.')\n",
    "plt.title(f\" Predicted vs. True TPSA - Pearson: {pearson_corr:.5f} / p:{pearson_p:.3e}\")\n",
    "plt.xlabel(\"Y True\");\n",
    "plt.ylabel(\"Y Pred\");\n",
    "# plt.xlim(1.775, 1.875)\n",
    "# plt.xlim(1.775, 1.875)"
   ]
  },
  {
   "cell_type": "code",
   "execution_count": 187,
   "metadata": {
    "execution": {
     "iopub.execute_input": "2024-04-25T09:48:28.377092Z",
     "iopub.status.busy": "2024-04-25T09:48:28.376592Z",
     "iopub.status.idle": "2024-04-25T09:48:28.815826Z",
     "shell.execute_reply": "2024-04-25T09:48:28.815236Z",
     "shell.execute_reply.started": "2024-04-25T09:48:28.377050Z"
    }
   },
   "outputs": [
    {
     "data": {
      "text/plain": [
       "Text(0.5, 0, 'TPSA Value')"
      ]
     },
     "execution_count": 187,
     "metadata": {},
     "output_type": "execute_result"
    },
    {
     "data": {
      "text/plain": [
       "Text(0, 0.5, 'Compounds')"
      ]
     },
     "execution_count": 187,
     "metadata": {},
     "output_type": "execute_result"
    },
    {
     "data": {
      "text/plain": [
       "<matplotlib.legend.Legend at 0x7f835c098910>"
      ]
     },
     "execution_count": 187,
     "metadata": {},
     "output_type": "execute_result"
    },
    {
     "data": {
      "image/png": "[encoded data removed]",
      "text/plain": [
       "<Figure size 1000x500 with 1 Axes>"
      ]
     },
     "metadata": {},
     "output_type": "display_data"
    }
   ],
   "source": [
    "import matplotlib.pyplot as plt\n",
    "import numpy as np\n",
    "from matplotlib import colors\n",
    "from matplotlib.ticker import PercentFormatter\n",
    "num_bins = 40\n",
    "# fig, ax = plt.subplots()\n",
    " \n",
    "# the histogram of the data\n",
    "\n",
    "fig = plt.figure(figsize=(10,5))\n",
    "n, bins, patches = plt.hist(y_test_np, num_bins, density=False, label = 'True', range=[1.5,2.25] )\n",
    "# We can set the number of bins with the *bins* keyword argument.\n",
    "n, bins, patches = plt.hist(y_pred, num_bins, density=False, label='Predicitons' )\n",
    "plt.xlabel('TPSA Value')\n",
    "plt.ylabel('Compounds')\n",
    "plt.legend()\n",
    "# ax.set_title('Histogram of normal distribution sample: '\n",
    "#              fr'$\\mu={mu:.0f}$, $\\sigma={sigma:.0f}$')\n",
    "# axs[1].hist(dist2, bins=n_bins)"
   ]
  },
  {
   "cell_type": "markdown",
   "metadata": {},
   "source": [
    "### plot ROC and Precision-Recall Curves"
   ]
  },
  {
   "cell_type": "code",
   "execution_count": 191,
   "metadata": {
    "execution": {
     "iopub.execute_input": "2024-04-25T09:49:36.609016Z",
     "iopub.status.busy": "2024-04-25T09:49:36.608555Z",
     "iopub.status.idle": "2024-04-25T09:49:37.187832Z",
     "shell.execute_reply": "2024-04-25T09:49:37.186964Z",
     "shell.execute_reply.started": "2024-04-25T09:49:36.608975Z"
    },
    "scrolled": true
   },
   "outputs": [
    {
     "data": {
      "image/png": "[encoded data removed]",
      "text/plain": [
       "<Figure size 1200x500 with 2 Axes>"
      ]
     },
     "metadata": {},
     "output_type": "display_data"
    }
   ],
   "source": [
    "### from sklearn.metrics import RocCurveDisplay\n",
    "# fig, axes = plt.subplots(1, 3, figsize=(16, 5))\n",
    "fig, axes = plt.subplots(1, 2, figsize=(12, 5))\n",
    "\n",
    "\n",
    "roc_display = skm.RocCurveDisplay.from_predictions(\n",
    "    y_test_np,\n",
    "    y_pred, \n",
    "    name=f\"Roc Curve\",\n",
    "    color=\"darkorange\",\n",
    "    plot_chance_level=True,\n",
    "    ax = axes[0])\n",
    "\n",
    "_ = roc_display.ax_.set(\n",
    "    xlabel=\"False Positive Rate\",\n",
    "    ylabel=\"True Positive Rate\",\n",
    "    title=f\"ROC curve - TPSA Classification (XGBoost)\\n LogLoss: {metrics['logloss'] :0.3f} AUC: {metrics['roc_auc']:0.3f} \",\n",
    ")\n",
    "_ = roc_display.ax_.legend(fontsize=8);\n",
    "\n",
    "# prec, recall, _ = skm.precision_recall_curve(y_test, predictions, pos_label=1)\n",
    "# pr_display = skm.PrecisionRecallDisplay(precision=prec, recall=recall)\n",
    "pr_display = skm.PrecisionRecallDisplay.from_predictions(\n",
    "    y_test_np, \n",
    "    y_pred, \n",
    "    name=\"Precision/Recall - XGBoost\", \n",
    "    plot_chance_level=True,\n",
    "    ax = axes[1])\n",
    "\n",
    "_ = pr_display.ax_.set_title(\" Precision-Recall curve\");\n",
    "_ = pr_display.ax_.legend(fontsize=8);\n",
    "# plt.show()"
   ]
  },
  {
   "cell_type": "code",
   "execution_count": 190,
   "metadata": {
    "execution": {
     "iopub.execute_input": "2024-04-25T09:49:30.123788Z",
     "iopub.status.busy": "2024-04-25T09:49:30.123304Z",
     "iopub.status.idle": "2024-04-25T09:49:30.351085Z",
     "shell.execute_reply": "2024-04-25T09:49:30.350069Z",
     "shell.execute_reply.started": "2024-04-25T09:49:30.123747Z"
    },
    "scrolled": true
   },
   "outputs": [
    {
     "data": {
      "image/png": "[encoded data removed]",
      "text/plain": [
       "<Figure size 500x500 with 2 Axes>"
      ]
     },
     "metadata": {},
     "output_type": "display_data"
    }
   ],
   "source": [
    "fig, axes = plt.subplots(1, 1, figsize=(5, 5))\n",
    "cm_display = skm.ConfusionMatrixDisplay.from_predictions(y_test_np, (y_pred >= 0.5), values_format=\"5d\", ax = axes)\n",
    "\n",
    " # fig, (ax1, ax2) = plt.subplots(1, 2, figsize=(15, 8))\n",
    "# roc_display.plot(ax=ax1)\n",
    "# pr_display.plot(ax=ax2)\n",
    "plt.show()"
   ]
  },
  {
   "cell_type": "markdown",
   "metadata": {},
   "source": [
    "### Plot Feature Importance "
   ]
  },
  {
   "cell_type": "code",
   "execution_count": null,
   "metadata": {
    "scrolled": true
   },
   "outputs": [],
   "source": [
    "# train_score = xgb_reg.score(train_X, train_y)\n",
    "# val_score = xgb_reg.score(val_X, val_y)\n",
    "# test_score = xgb_reg.score(test_X, test_y)"
   ]
  },
  {
   "cell_type": "code",
   "execution_count": null,
   "metadata": {},
   "outputs": [],
   "source": [
    "print(f\" R2 score - Training   : {train_score:0.6f}\")\n",
    "print(f\" R2 score - Validation : {val_score:0.6f}\")\n",
    "print(f\" R2 score - Test data  : {test_score:0.6f}\")"
   ]
  },
  {
   "cell_type": "code",
   "execution_count": null,
   "metadata": {},
   "outputs": [],
   "source": [
    "# fig = plt.figure(figsize=(20, 20))\n",
    "# plt.yticks(fontsize = 12)\n",
    "# ax = fig.add_subplot()\n",
    "# ax.set_xlim(10,50)\n",
    "ax = xgb.plot_importance(model_copy, max_num_features= None,  grid = False,  show_values = True, )\n",
    "for label in ( ax.get_xticklabels() + ax.get_yticklabels()):\n",
    "    label.set_fontsize(9)\n",
    "ax.get_yticklabels()\n",
    "# ax.autoscale(enable=None, axis=\"y\", tight=True)"
   ]
  },
  {
   "cell_type": "code",
   "execution_count": null,
   "metadata": {},
   "outputs": [],
   "source": [
    "from graphviz import Source \n",
    "xgb.plot_tree(model_copy,num_tress=5)"
   ]
  },
  {
   "cell_type": "code",
   "execution_count": null,
   "metadata": {},
   "outputs": [],
   "source": [
    "# model_copy.attributes()\n",
    "model_copy.feature_names\n",
    "model_copy."
   ]
  },
  {
   "cell_type": "code",
   "execution_count": null,
   "metadata": {},
   "outputs": [],
   "source": [
    "xgb.get_config()"
   ]
  },
  {
   "cell_type": "markdown",
   "metadata": {},
   "source": []
  },
  {
   "cell_type": "markdown",
   "metadata": {
    "jp-MarkdownHeadingCollapsed": true
   },
   "source": [
    "# XGBoost Classification- Development "
   ]
  },
  {
   "cell_type": "markdown",
   "metadata": {
    "ExecuteTime": {
     "end_time": "2023-07-31T18:45:01.023214Z",
     "start_time": "2023-07-31T18:45:00.890667Z"
    }
   },
   "source": [
    "- Need to convert Dask data frames to dask arrays in order to use data in parm grid search"
   ]
  },
  {
   "cell_type": "code",
   "execution_count": null,
   "metadata": {},
   "outputs": [],
   "source": [
    "files = os.walk('./output_11102023')\n",
    "\n",
    "for i in files :\n",
    "    print(i)"
   ]
  },
  {
   "cell_type": "markdown",
   "metadata": {},
   "source": [
    "### Read compound profiles"
   ]
  },
  {
   "cell_type": "code",
   "execution_count": null,
   "metadata": {},
   "outputs": [],
   "source": [
    "profileInputFiles = './output_11102023/profiles/compound_profiles_2samples_*.csv'"
   ]
  },
  {
   "cell_type": "code",
   "execution_count": null,
   "metadata": {},
   "outputs": [],
   "source": [
    "# del df_profiles\n",
    "df_profiles = read_cell_profiles(profileInputFiles, rows = 200000)"
   ]
  },
  {
   "cell_type": "code",
   "execution_count": null,
   "metadata": {},
   "outputs": [],
   "source": [
    "type(df_profiles)\n",
    "df_profiles.head(3)\n",
    "df_profiles.shape"
   ]
  },
  {
   "cell_type": "markdown",
   "metadata": {},
   "source": [
    "### Training initialization"
   ]
  },
  {
   "cell_type": "code",
   "execution_count": null,
   "metadata": {},
   "outputs": [],
   "source": [
    " \n",
    "metrics_hist = defaultdict(list)\n",
    "metrics_keys = [\"train_auc\",\"train_logloss\", \"val_auc\", \"val_logloss\", \"roc_auc\", \"logloss\",\n",
    "                \"accuracy\",\"bal_acc\",\"top_k_acc\",\"F1_score\",\"map\",\"pearson_corr\"]\n",
    "\n",
    "# print(study_params)"
   ]
  },
  {
   "cell_type": "code",
   "execution_count": null,
   "metadata": {},
   "outputs": [],
   "source": [
    "study_params = {  \"booster\"            : \"gbtree\",\n",
    "                  \"device\"             : \"gpu\",\n",
    "                  \"objective\"          :  \"binary:logistic\",\n",
    "                  \"eval_metric\"        :  [\"auc\", \"logloss\"]\n",
    "                  \"learning_rate\"      : 0.001,    ## eta\n",
    "                  \"max_depth\"          : 10,\n",
    "                  \"max_leaves\"         : 10,\n",
    "                  \"verbosity\"          : 0,\n",
    "                  \"min_child_weight\"   : 1, \n",
    "                  \"scale_pos_weight\"   : 7.89,\n",
    "                  \"gamma\"              : 0.0001,  ## min split loss \n",
    "               }"
   ]
  },
  {
   "cell_type": "code",
   "execution_count": null,
   "metadata": {},
   "outputs": [],
   "source": [
    "iter_files = make_cv_splits(df_profiles, n_folds=5, y_columns=y_columns)"
   ]
  },
  {
   "cell_type": "code",
   "execution_count": null,
   "metadata": {},
   "outputs": [],
   "source": [
    "xgb.__version__\n",
    "xgb.config_context(device = \"gpu\", booster = \"gbtree\", verbosity = 0, validate_parameters = True ) \n",
    "# xgb.set_config(use_rmm = True, verbosity = 1)\n",
    "# xgb.set_config()\n",
    "# xgb.get_config()"
   ]
  },
  {
   "cell_type": "markdown",
   "metadata": {},
   "source": [
    "### Beginning of loop"
   ]
  },
  {
   "cell_type": "code",
   "execution_count": null,
   "metadata": {},
   "outputs": [],
   "source": [
    "(X_train,y_train), (X_test, y_test) = next(iter_files)"
   ]
  },
  {
   "cell_type": "code",
   "execution_count": null,
   "metadata": {
    "scrolled": true
   },
   "outputs": [],
   "source": [
    "logging.info(f\"Building TRAINING/TEST DMatricies...\")\n",
    "\n",
    "d_train = xgb.dask.DaskDMatrix(client, X_train, y_train )\n",
    "# logging.info(f\"Building TRAINING DMatrix...Completed\")\n",
    "\n",
    "# logging.info(f\"Building TEST DMatrix...\")\n",
    "d_test = xgb.dask.DaskDMatrix(client, X_test, y_test )\n",
    "logging.info(f\"Building TRAINING/TEST DMatricies...Completed\")"
   ]
  },
  {
   "cell_type": "code",
   "execution_count": null,
   "metadata": {},
   "outputs": [],
   "source": [
    "# X_train.shape , X_test.shape, # y_train.shape , y_test.shape\n",
    "booster_model = model['booster'] if model is not None else None"
   ]
  },
  {
   "cell_type": "code",
   "execution_count": null,
   "metadata": {
    "scrolled": true
   },
   "outputs": [],
   "source": [
    "logging.info(f\"Training model...\")\n",
    "model = xgb.dask.train(\n",
    "    None,\n",
    "    {\"verbosity\": 0, \"tree_method\": \"hist\", **study_params},\n",
    "    d_train,\n",
    "    num_boost_round=10000,\n",
    "    evals=[(d_train, \"train\"), (d_test, \"test\")],\n",
    "    xgb_model = booster_model,\n",
    "    verbose_eval=True,\n",
    "    early_stopping_rounds = 50,\n",
    ")\n",
    "logging.info(f\"Training model...Completed\")"
   ]
  },
  {
   "cell_type": "markdown",
   "metadata": {},
   "source": [
    "### Run on test data and plot results "
   ]
  },
  {
   "cell_type": "code",
   "execution_count": null,
   "metadata": {},
   "outputs": [],
   "source": [
    "model['booster'].best_iteration, model['booster'].best_score"
   ]
  },
  {
   "cell_type": "code",
   "execution_count": null,
   "metadata": {},
   "outputs": [],
   "source": [
    "predictions = xgb.dask.predict(client, model,d_test).compute()\n",
    "\n",
    "y_test_c = y_test.compute().to_numpy().squeeze()\n"
   ]
  },
  {
   "cell_type": "code",
   "execution_count": null,
   "metadata": {},
   "outputs": [],
   "source": [
    "print(f\" y_test_c   : {type(y_test_c)} \\t\\t\\t shape: {y_test_c.shape}\")\n",
    "print(f\" Predictions: {type(predictions)} \\t\\t\\t shape: {predictions.shape}\")\n",
    "np.bincount(y_test_c)"
   ]
  },
  {
   "cell_type": "code",
   "execution_count": null,
   "metadata": {},
   "outputs": [],
   "source": [
    "logging.info(f\"Calculating metrics...\")\n",
    "# R2_score = skm.r2_score(y_true = y_test_c, y_pred = predictions)\n",
    "# mse_score = skm.mean_squared_error(y_true = y_test_c, y_pred = predictions, squared=False,)\n",
    "# metrics_keys = [\"train_auc\",\"train_logloss\", \"val_auc\", \"val_logloss\", \"roc_auc\", \"logloss\",\n",
    "#                \"accuracy\",\"bal_acc\",\"top_k_acc\",\"F1_score\",\"map\",\"pearson_corr\"]\n",
    "metrics = compute_classification_metrics(model, y_test_c, predictions)\n",
    "logging.info(f\"Calculating metrics...Completed\")"
   ]
  },
  {
   "cell_type": "code",
   "execution_count": null,
   "metadata": {
    "lines_to_next_cell": 2
   },
   "outputs": [],
   "source": [
    "# print(y_test_c)\n",
    "# print(predictions)\n",
    "print()\n",
    "print(f\"    log_loss :  {metrics['logloss']:9.6f}\")\n",
    "print(f\"    Accuracy :  {metrics['accuracy']:9.6f}\")\n",
    "print(f\" Bal. Accrcy :  {metrics['bal_acc']:9.6f}\")\n",
    "print(f\" Top 3 Score :  {metrics['top_k_acc']:9.6f}\")\n",
    "print(f\"    F1 Score :  {metrics['F1_score']:9.6f}\")\n",
    "print(f\"     Pearson :  {metrics['pearson_corr']:9.6f}          P : {pearson_p:9.4e}\")\n",
    "print()\n",
    "print(f\"   Training AUC :  {metrics['train_auc']:.6f}      Logloss : {metrics['train_logloss']:.6f}\")\n",
    "print(f\" Validation AUC :  {metrics['val_auc']:.6f}      Logloss : {metrics['val_logloss']:.6f}\")\n",
    "print(f\"       Test AUC :  {metrics['roc_auc']:.6f}      Logloss : {metrics['logloss']:.6f}\")"
   ]
  },
  {
   "cell_type": "code",
   "execution_count": null,
   "metadata": {},
   "outputs": [],
   "source": [
    "for key in metrics_keys:\n",
    "    print(f\" {key:20s}:    {metrics_hist[key]}\")"
   ]
  },
  {
   "cell_type": "code",
   "execution_count": null,
   "metadata": {},
   "outputs": [],
   "source": [
    "model['booster'].best_score\n",
    "model['booster'].best_iteration"
   ]
  },
  {
   "cell_type": "markdown",
   "metadata": {},
   "source": [
    "### plot results"
   ]
  },
  {
   "cell_type": "code",
   "execution_count": null,
   "metadata": {
    "scrolled": true
   },
   "outputs": [],
   "source": [
    "### from sklearn.metrics import RocCurveDisplay\n",
    "fig, axes = plt.subplots(1, 3, figsize=(16, 5))\n",
    "\n",
    "\n",
    "roc_display = skm.RocCurveDisplay.from_predictions(\n",
    "    y_test_c,\n",
    "    predictions, \n",
    "    name=f\"Roc Curve\",\n",
    "    color=\"darkorange\",\n",
    "    plot_chance_level=True,\n",
    "    ax = axes[0]\n",
    ")\n",
    "_ = roc_display.ax_.set(\n",
    "    xlabel=\"False Positive Rate\",\n",
    "    ylabel=\"True Positive Rate\",\n",
    "    title=f\"ROC curve - TPSA Classification (XGBoost)\\n LogLoss: {metrics_hist['logloss'][-1]:0.3f}      AUC: {metrics_hist['roc_auc'][-1]:0.3f} \",\n",
    ")\n",
    "_ = roc_display.ax_.legend(fontsize=8);\n",
    "\n",
    "# prec, recall, _ = skm.precision_recall_curve(y_test, predictions, pos_label=1)\n",
    "# pr_display = skm.PrecisionRecallDisplay(precision=prec, recall=recall)\n",
    "pr_display = skm.PrecisionRecallDisplay.from_predictions(\n",
    "    y_test_c, \n",
    "    predictions, \n",
    "    name=\"Precision/Recall - XGBoost\", \n",
    "    plot_chance_level=True,\n",
    "    ax = axes[1]\n",
    ")\n",
    "_ = pr_display.ax_.set_title(\" Precision-Recall curve\");\n",
    "_ = pr_display.ax_.legend(fontsize=8);\n",
    "cm_display = skm.ConfusionMatrixDisplay.from_predictions(y_test_c, (predictions >= 0.5), values_format=\"5d\", ax = axes[2])\n",
    "\n",
    "# fig, (ax1, ax2) = plt.subplots(1, 2, figsize=(15, 8))\n",
    "# roc_display.plot(ax=ax1)\n",
    "# pr_display.plot(ax=ax2)\n",
    "# plt.show()"
   ]
  },
  {
   "cell_type": "code",
   "execution_count": null,
   "metadata": {
    "lines_to_next_cell": 2
   },
   "outputs": [],
   "source": [
    "# del d_train, d_test\n",
    "del model, predictions, pearson_p\n",
    "del d_train, d_test, X_train, y_train, X_test, y_test, y_test_c"
   ]
  },
  {
   "cell_type": "markdown",
   "metadata": {},
   "source": [
    "### End of loop"
   ]
  },
  {
   "cell_type": "code",
   "execution_count": null,
   "metadata": {},
   "outputs": [],
   "source": [
    "print_metric_hist(metrics_hist)"
   ]
  },
  {
   "cell_type": "code",
   "execution_count": null,
   "metadata": {},
   "outputs": [],
   "source": [
    "# type(model)\n",
    "data = { 'mse_scores' : mse_scores_np,\n",
    "         'R2_scores' : R2_scores_np}\n",
    "    \n",
    "with open(trainingMetrics, 'wb') as f: \n",
    "    # Pickle the 'data' dictionary using the highest protocol available.\n",
    "    pickle.dump(data, f, pickle.HIGHEST_PROTOCOL)"
   ]
  },
  {
   "cell_type": "code",
   "execution_count": null,
   "metadata": {},
   "outputs": [],
   "source": [
    "with open(trainingMetrics, 'rb') as f:\n",
    "    # The protocol version used is detected automatically, so we do not\n",
    "    # have to specify it.\n",
    "    data = pickle.load(f)\n",
    "data"
   ]
  }
 ],
 "metadata": {
  "kernelspec": {
   "display_name": "Python [conda env:cp311]",
   "language": "python",
   "name": "conda-env-cp311-py"
  },
  "language_info": {
   "codemirror_mode": {
    "name": "ipython",
    "version": 3
   },
   "file_extension": ".py",
   "mimetype": "text/x-python",
   "name": "python",
   "nbconvert_exporter": "python",
   "pygments_lexer": "ipython3",
   "version": "3.11.4"
  },
  "toc": {
   "base_numbering": 1,
   "nav_menu": {},
   "number_sections": true,
   "sideBar": true,
   "skip_h1_title": false,
   "title_cell": "Table of Contents",
   "title_sidebar": "Contents",
   "toc_cell": false,
   "toc_position": {
    "height": "calc(100% - 180px)",
    "left": "10px",
    "top": "150px",
    "width": "380.631px"
   },
   "toc_section_display": true,
   "toc_window_display": false
  }
 },
 "nbformat": 4,
 "nbformat_minor": 4
}
