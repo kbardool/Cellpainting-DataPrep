{
 "cells": [
  {
   "cell_type": "markdown",
   "id": "385c1de6-9d2d-4318-a858-52200d2c3668",
   "metadata": {},
   "source": [
    "   # Prepare Labels and Features Datasets\n",
    "\n",
    "  - Get SMILES for all compounds \n",
    "  - Remove rows with NaN / None SMILE values \n",
    "  - get TPSA for remaining compounds\n",
    "  - add Ln(TPSA) and Log(TPSA)\n",
    "  - \n",
    "**Input Files**\n",
    "  -   `/input/compound.csv  OR ./output/cp_compound_metadata.csv`\n",
    "\n",
    "**Intermediate Files**\n",
    "  -   \n",
    "\n",
    "**Output Files**\n",
    "  - `compound_pharmacophores_sparse_clean.pkl`  File of compound pharmacophores in sparse format\n"
   ]
  },
  {
   "cell_type": "markdown",
   "id": "1f92d1d4-1b21-4b2b-acfe-b8f9467b3afe",
   "metadata": {
    "execution": {
     "iopub.execute_input": "2024-01-24T11:14:10.655503Z",
     "iopub.status.busy": "2024-01-24T11:14:10.655065Z",
     "iopub.status.idle": "2024-01-24T11:14:10.659953Z",
     "shell.execute_reply": "2024-01-24T11:14:10.659257Z",
     "shell.execute_reply.started": "2024-01-24T11:14:10.655470Z"
    }
   },
   "source": [
    "# Setup"
   ]
  },
  {
   "cell_type": "code",
   "execution_count": 1,
   "id": "11ad0ae2",
   "metadata": {
    "ExecuteTime": {
     "end_time": "2023-06-28T19:15:10.345654Z",
     "start_time": "2023-06-28T19:15:10.318684Z"
    },
    "execution": {
     "iopub.execute_input": "2024-10-23T15:34:34.171170Z",
     "iopub.status.busy": "2024-10-23T15:34:34.170851Z",
     "iopub.status.idle": "2024-10-23T15:34:34.585671Z",
     "shell.execute_reply": "2024-10-23T15:34:34.584840Z",
     "shell.execute_reply.started": "2024-10-23T15:34:34.171139Z"
    },
    "scrolled": true
   },
   "outputs": [
    {
     "data": {
      "text/html": [
       "<style>.container { width:98% !important; }</style>"
      ],
      "text/plain": [
       "<IPython.core.display.HTML object>"
      ]
     },
     "metadata": {},
     "output_type": "display_data"
    }
   ],
   "source": [
    "from IPython.display import display, HTML\n",
    "display(HTML(\"<style>.container { width:98% !important; }</style>\"))\n",
    "%load_ext autoreload  \n",
    "%autoreload 2\n",
    "from IPython.core.interactiveshell import InteractiveShell\n",
    "InteractiveShell.ast_node_interactivity = \"all\"\n",
    "%matplotlib inline"
   ]
  },
  {
   "cell_type": "code",
   "execution_count": 246,
   "id": "b2fd9fed-2671-4123-8926-41dca99fd81c",
   "metadata": {
    "execution": {
     "iopub.execute_input": "2024-10-23T21:09:42.887922Z",
     "iopub.status.busy": "2024-10-23T21:09:42.887454Z",
     "iopub.status.idle": "2024-10-23T21:09:42.930465Z",
     "shell.execute_reply": "2024-10-23T21:09:42.929870Z",
     "shell.execute_reply.started": "2024-10-23T21:09:42.887881Z"
    }
   },
   "outputs": [
    {
     "name": "stdout",
     "output_type": "stream",
     "text": [
      "['../..', './src', '/home/kevin/WSL-shared/cellpainting/cj-datasets', '/home/kevin/miniforge3/envs/cp311/lib/python311.zip', '/home/kevin/miniforge3/envs/cp311/lib/python3.11', '/home/kevin/miniforge3/envs/cp311/lib/python3.11/lib-dynload', '', '/home/kevin/miniforge3/envs/cp311/lib/python3.11/site-packages', '/home/kevin/miniforge3/envs/cp311/lib/python3.11/site-packages/huggingface_hub-0.20.3-py3.8.egg']\n"
     ]
    }
   ],
   "source": [
    "import os\n",
    "import sys\n",
    "import argparse\n",
    "import csv\n",
    "import json\n",
    "import time\n",
    "import types, copy, pprint\n",
    "from datetime import datetime\n",
    "for p in ['./src','../..']:\n",
    "    if p not in sys.path:\n",
    "        print(f\"insert {p}\")\n",
    "        sys.path.insert(0, p)\n",
    "print(sys.path)\n",
    "from operator import mod\n",
    "import numpy as np\n",
    "import pandas as pd\n",
    "import matplotlib.pyplot as plt\n",
    "from scipy.sparse import csr_matrix\n",
    "\n",
    "# from KevinsRoutines.utils.utils_general  import  list_namespace \n",
    "\n",
    "from itertools import repeat\n",
    "import more_itertools\n",
    "from multiprocessing import Pool, process\n",
    "from os import getpid\n",
    "from rdkit.Chem import PandasTools\n",
    "\n",
    "pp = pprint.PrettyPrinter(indent=4)\n",
    "np.set_printoptions(edgeitems=10, infstr='inf', linewidth=150, nanstr='nan')\n",
    "pd.options.display.width = 180"
   ]
  },
  {
   "cell_type": "code",
   "execution_count": 71,
   "id": "a12ae0af-c8f0-4306-bb8e-98746e21095e",
   "metadata": {
    "execution": {
     "iopub.execute_input": "2024-10-23T19:56:35.919007Z",
     "iopub.status.busy": "2024-10-23T19:56:35.918437Z",
     "iopub.status.idle": "2024-10-23T19:56:35.959693Z",
     "shell.execute_reply": "2024-10-23T19:56:35.958829Z",
     "shell.execute_reply.started": "2024-10-23T19:56:35.918964Z"
    }
   },
   "outputs": [],
   "source": [
    "\n",
    "from KevinsRoutines.utils.utils_chem import (getSmilesFromRDKit, getTPSAFromRDKit)"
   ]
  },
  {
   "cell_type": "code",
   "execution_count": 43,
   "id": "8c20da4c-f8b5-4ea2-9f38-2b7e12827ad0",
   "metadata": {
    "execution": {
     "iopub.execute_input": "2024-10-23T18:47:56.844340Z",
     "iopub.status.busy": "2024-10-23T18:47:56.843873Z",
     "iopub.status.idle": "2024-10-23T18:47:56.886138Z",
     "shell.execute_reply": "2024-10-23T18:47:56.885420Z",
     "shell.execute_reply.started": "2024-10-23T18:47:56.844299Z"
    }
   },
   "outputs": [
    {
     "name": "stdout",
     "output_type": "stream",
     "text": [
      " prefix                                      : \n",
      " prefix_lc                                   : \n",
      " metadata path                               : ./metadata/\n",
      " input path                                  : ./input/\n",
      " output path                                 : ./output_10162024/\n",
      "\n",
      " Input Datasets : \n",
      " ---------------- \n",
      " Compound Metadata Input File                : ./metadata/compound.csv\n",
      " Plate Metadata Input File                   : ./metadata/plate_new.csv\n",
      " Well Metadata Input File                    : ./metadata/well.csv\n",
      "\n",
      " Compound Metadata : \n",
      " ------------------- \n",
      " Metadata + Smiles                           : ./output_10162024/compound_metadata_smiles.csv\n",
      "          + TPSA                             : ./output_10162024/compound_metadata_tpsa.csv\n",
      "          + TPSA Cleaned (TPSA <> 0)         : ./output_10162024/compound_metadata_tpsa_clean.csv\n",
      "          + Base64 Pharmacophores            : ./output_10162024/compound_metadads.ta_pcfp.csv\n",
      "\n",
      " Compound/TPSA File:\n",
      " -------------------\n",
      " compound TPSA File                          : ./output_10162024/compound_TPSA.csv\n",
      " compound TPSA Clean File                    : ./output_10162024/compound_TPSA_clean.csv\n",
      "\n",
      "\n",
      " Compound/Pharmacophore Files :\n",
      " ------------------------------\n",
      " compound Pharmacophore Sparse File          : ./output_10162024/compound_pharmacophores_sparse.pkl\n",
      " compound Pharmacophore CSV File             : ./output_10162024/compound_pharmacophores.csv\n",
      " compound Pharmacophore Numpy File           : ./output_10162024/compound_pharmacophores.npy\n",
      " compound Pharmacophore Numpy Zipped File    : ./output_10162024/compound_pharmacophores_zip.npz\n",
      "\n",
      " compound Pharmacophore 3Sample File         : ./output_10162024/compound_pharmacophores_sparse_3samples.csv\n",
      "\n",
      " Compound Extended Metadata files:\n",
      " ---------------------------------\n",
      " Compound Extended MetadataFile              : ./output_10162024/compound_extended_metadata.csv\n",
      "\n",
      " Compound Extended Metadata 5 SampleFile     : ./output_10162024/compound_extended_metadata_5samples.csv\n",
      " Compound Extended Metadata 3 SampleFile     : ./output_10162024/compound_extended_metadata_3samples.csv\n",
      " Compound Extended Metadata 2 SampleFile     : ./output_10162024/compound_extended_metadata_2samples.csv\n",
      "\n",
      " Compound Profiles files:\n",
      " ------------------------\n",
      " Compound Profiles 5 Samples File            : ./output_10162024//5_sample_profiles/5sample_profiles_{0:03d}{1:s}.csv\n",
      " Compound Profiles 3 Samples File            : ./output_10162024//3_sample_profiles/3sample_profiles_{0:03d}{1:s}.csv\n",
      " Compound Profiles 2 Samples File            : ./output_10162024//2_sample_profiles/2sample_profiles_{0:03d}{1:s}.csv\n",
      "\n",
      " profiles Metadata File                      : ./metadata/profile_metadata.pkl\n",
      " parquet  Metadata File                      : ./metadata/parquet_columns.pkl\n"
     ]
    }
   ],
   "source": [
    "from utils.jcp_datasets import project_datasets, display_project_datasets\n",
    "ds = project_datasets(output_path = './output_10162024/')\n",
    "display_project_datasets(ds)"
   ]
  },
  {
   "cell_type": "markdown",
   "id": "d4d8d080-9d5f-4ac8-a0fb-87a5a0547a72",
   "metadata": {},
   "source": [
    "# Read compound metadata file : `./metadata/compound.csv`"
   ]
  },
  {
   "cell_type": "code",
   "execution_count": 28,
   "id": "806bf473-29f6-45a0-ab6f-2a069eceb59b",
   "metadata": {
    "execution": {
     "iopub.execute_input": "2024-10-23T18:36:37.241496Z",
     "iopub.status.busy": "2024-10-23T18:36:37.241020Z",
     "iopub.status.idle": "2024-10-23T18:36:37.275354Z",
     "shell.execute_reply": "2024-10-23T18:36:37.274777Z",
     "shell.execute_reply.started": "2024-10-23T18:36:37.241454Z"
    }
   },
   "outputs": [
    {
     "name": "stdout",
     "output_type": "stream",
     "text": [
      "./metadata/compound.csv\n"
     ]
    }
   ],
   "source": [
    "print(ds.compoundMetadata)"
   ]
  },
  {
   "cell_type": "code",
   "execution_count": 54,
   "id": "a36699a2",
   "metadata": {
    "ExecuteTime": {
     "end_time": "2023-06-28T19:15:52.915736Z",
     "start_time": "2023-06-28T19:15:52.662840Z"
    },
    "execution": {
     "iopub.execute_input": "2024-10-23T19:43:30.002288Z",
     "iopub.status.busy": "2024-10-23T19:43:30.001821Z",
     "iopub.status.idle": "2024-10-23T19:43:30.332100Z",
     "shell.execute_reply": "2024-10-23T19:43:30.331394Z",
     "shell.execute_reply.started": "2024-10-23T19:43:30.002248Z"
    }
   },
   "outputs": [],
   "source": [
    "# df = pd.read_csv('JUMP-MOA_compound_metadata.tsv', delimiter='\\t')\n",
    "# df = pd.read_csv('JUMP-Target-1_compound_metadata.tsv', delimiter='\\t')\n",
    "df_compounds = pd.read_csv(ds.compoundMetadata)"
   ]
  },
  {
   "cell_type": "code",
   "execution_count": 55,
   "id": "d3bbd941",
   "metadata": {
    "ExecuteTime": {
     "end_time": "2023-06-28T19:15:57.755835Z",
     "start_time": "2023-06-28T19:15:57.653213Z"
    },
    "execution": {
     "iopub.execute_input": "2024-10-23T19:43:30.851557Z",
     "iopub.status.busy": "2024-10-23T19:43:30.851254Z",
     "iopub.status.idle": "2024-10-23T19:43:30.933037Z",
     "shell.execute_reply": "2024-10-23T19:43:30.932333Z",
     "shell.execute_reply.started": "2024-10-23T19:43:30.851528Z"
    },
    "scrolled": true
   },
   "outputs": [
    {
     "name": "stdout",
     "output_type": "stream",
     "text": [
      "<class 'pandas.core.frame.DataFrame'>\n",
      "RangeIndex: 116753 entries, 0 to 116752\n",
      "Data columns (total 3 columns):\n",
      " #   Column             Non-Null Count   Dtype \n",
      "---  ------             --------------   ----- \n",
      " 0   Metadata_JCP2022   116753 non-null  object\n",
      " 1   Metadata_InChIKey  116752 non-null  object\n",
      " 2   Metadata_InChI     116752 non-null  object\n",
      "dtypes: object(3)\n",
      "memory usage: 2.7+ MB\n"
     ]
    },
    {
     "data": {
      "text/html": [
       "<div>\n",
       "<style scoped>\n",
       "    .dataframe tbody tr th:only-of-type {\n",
       "        vertical-align: middle;\n",
       "    }\n",
       "\n",
       "    .dataframe tbody tr th {\n",
       "        vertical-align: top;\n",
       "    }\n",
       "\n",
       "    .dataframe thead th {\n",
       "        text-align: right;\n",
       "    }\n",
       "</style>\n",
       "<table border=\"1\" class=\"dataframe\">\n",
       "  <thead>\n",
       "    <tr style=\"text-align: right;\">\n",
       "      <th></th>\n",
       "      <th>Metadata_JCP2022</th>\n",
       "      <th>Metadata_InChIKey</th>\n",
       "      <th>Metadata_InChI</th>\n",
       "    </tr>\n",
       "  </thead>\n",
       "  <tbody>\n",
       "    <tr>\n",
       "      <th>0</th>\n",
       "      <td>JCP2022_000001</td>\n",
       "      <td>AAAHWCWPZPSPIW-UHFFFAOYSA-N</td>\n",
       "      <td>InChI=1S/C25H31N5O2/c1-4-23-26-14-16-30(23)24-...</td>\n",
       "    </tr>\n",
       "    <tr>\n",
       "      <th>1</th>\n",
       "      <td>JCP2022_000002</td>\n",
       "      <td>AAAJHRMBUHXWLD-UHFFFAOYSA-N</td>\n",
       "      <td>InChI=1S/C11H13ClN2O/c12-10-4-2-9(3-5-10)8-14-...</td>\n",
       "    </tr>\n",
       "    <tr>\n",
       "      <th>2</th>\n",
       "      <td>JCP2022_000003</td>\n",
       "      <td>AAALVYBICLMAMA-UHFFFAOYSA-N</td>\n",
       "      <td>InChI=1S/C20H15N3O2/c24-19-15-11-17(21-13-7-3-...</td>\n",
       "    </tr>\n",
       "    <tr>\n",
       "      <th>3</th>\n",
       "      <td>JCP2022_000004</td>\n",
       "      <td>AAANUZMCJQUYNX-UHFFFAOYSA-N</td>\n",
       "      <td>InChI=1S/C13H22N4O2S/c1-2-7-16-13(5-6-15-16)20...</td>\n",
       "    </tr>\n",
       "    <tr>\n",
       "      <th>4</th>\n",
       "      <td>JCP2022_000005</td>\n",
       "      <td>AAAQFGUYHFJNHI-UHFFFAOYSA-N</td>\n",
       "      <td>InChI=1S/C22H22ClN5O2/c1-4-24-20(29)12-18-22-2...</td>\n",
       "    </tr>\n",
       "  </tbody>\n",
       "</table>\n",
       "</div>"
      ],
      "text/plain": [
       "  Metadata_JCP2022            Metadata_InChIKey                                     Metadata_InChI\n",
       "0   JCP2022_000001  AAAHWCWPZPSPIW-UHFFFAOYSA-N  InChI=1S/C25H31N5O2/c1-4-23-26-14-16-30(23)24-...\n",
       "1   JCP2022_000002  AAAJHRMBUHXWLD-UHFFFAOYSA-N  InChI=1S/C11H13ClN2O/c12-10-4-2-9(3-5-10)8-14-...\n",
       "2   JCP2022_000003  AAALVYBICLMAMA-UHFFFAOYSA-N  InChI=1S/C20H15N3O2/c24-19-15-11-17(21-13-7-3-...\n",
       "3   JCP2022_000004  AAANUZMCJQUYNX-UHFFFAOYSA-N  InChI=1S/C13H22N4O2S/c1-2-7-16-13(5-6-15-16)20...\n",
       "4   JCP2022_000005  AAAQFGUYHFJNHI-UHFFFAOYSA-N  InChI=1S/C22H22ClN5O2/c1-4-24-20(29)12-18-22-2..."
      ]
     },
     "execution_count": 55,
     "metadata": {},
     "output_type": "execute_result"
    },
    {
     "data": {
      "text/html": [
       "<div>\n",
       "<style scoped>\n",
       "    .dataframe tbody tr th:only-of-type {\n",
       "        vertical-align: middle;\n",
       "    }\n",
       "\n",
       "    .dataframe tbody tr th {\n",
       "        vertical-align: top;\n",
       "    }\n",
       "\n",
       "    .dataframe thead th {\n",
       "        text-align: right;\n",
       "    }\n",
       "</style>\n",
       "<table border=\"1\" class=\"dataframe\">\n",
       "  <thead>\n",
       "    <tr style=\"text-align: right;\">\n",
       "      <th></th>\n",
       "      <th>Metadata_JCP2022</th>\n",
       "      <th>Metadata_InChIKey</th>\n",
       "      <th>Metadata_InChI</th>\n",
       "    </tr>\n",
       "  </thead>\n",
       "  <tbody>\n",
       "    <tr>\n",
       "      <th>116748</th>\n",
       "      <td>JCP2022_116750</td>\n",
       "      <td>ZZZTXDPKNAOZPM-UHFFFAOYSA-N</td>\n",
       "      <td>InChI=1S/C22H27N3O2/c1-14-18(22(27)24-15(2)23-...</td>\n",
       "    </tr>\n",
       "    <tr>\n",
       "      <th>116749</th>\n",
       "      <td>JCP2022_116751</td>\n",
       "      <td>ZZZUOLMMTJKOGE-UHFFFAOYSA-N</td>\n",
       "      <td>InChI=1S/C19H17N5O2/c1-23-9-6-13-7-10-24(19(26...</td>\n",
       "    </tr>\n",
       "    <tr>\n",
       "      <th>116750</th>\n",
       "      <td>JCP2022_116752</td>\n",
       "      <td>ZZZZIBSVRUABIA-UHFFFAOYSA-N</td>\n",
       "      <td>InChI=1S/C19H13F6N3O2S/c1-11-26-6-5-17(27-11)1...</td>\n",
       "    </tr>\n",
       "    <tr>\n",
       "      <th>116751</th>\n",
       "      <td>JCP2022_116753</td>\n",
       "      <td>ZZZZVNLQWWXZTQ-UHFFFAOYSA-N</td>\n",
       "      <td>InChI=1S/C14H20N2O3/c1-18-13-5-3-2-4-12(13)14(...</td>\n",
       "    </tr>\n",
       "    <tr>\n",
       "      <th>116752</th>\n",
       "      <td>JCP2022_999999</td>\n",
       "      <td>NaN</td>\n",
       "      <td>NaN</td>\n",
       "    </tr>\n",
       "  </tbody>\n",
       "</table>\n",
       "</div>"
      ],
      "text/plain": [
       "       Metadata_JCP2022            Metadata_InChIKey                                     Metadata_InChI\n",
       "116748   JCP2022_116750  ZZZTXDPKNAOZPM-UHFFFAOYSA-N  InChI=1S/C22H27N3O2/c1-14-18(22(27)24-15(2)23-...\n",
       "116749   JCP2022_116751  ZZZUOLMMTJKOGE-UHFFFAOYSA-N  InChI=1S/C19H17N5O2/c1-23-9-6-13-7-10-24(19(26...\n",
       "116750   JCP2022_116752  ZZZZIBSVRUABIA-UHFFFAOYSA-N  InChI=1S/C19H13F6N3O2S/c1-11-26-6-5-17(27-11)1...\n",
       "116751   JCP2022_116753  ZZZZVNLQWWXZTQ-UHFFFAOYSA-N  InChI=1S/C14H20N2O3/c1-18-13-5-3-2-4-12(13)14(...\n",
       "116752   JCP2022_999999                          NaN                                                NaN"
      ]
     },
     "execution_count": 55,
     "metadata": {},
     "output_type": "execute_result"
    },
    {
     "data": {
      "text/plain": [
       "116753"
      ]
     },
     "execution_count": 55,
     "metadata": {},
     "output_type": "execute_result"
    }
   ],
   "source": [
    "df_compounds.info()\n",
    "df_compounds.head()\n",
    "df_compounds.tail()\n",
    "len(df_compounds['Metadata_JCP2022'].unique())"
   ]
  },
  {
   "cell_type": "code",
   "execution_count": 56,
   "id": "b4b36a13",
   "metadata": {
    "ExecuteTime": {
     "end_time": "2023-06-28T19:16:04.057481Z",
     "start_time": "2023-06-28T19:16:04.000119Z"
    },
    "execution": {
     "iopub.execute_input": "2024-10-23T19:43:35.481098Z",
     "iopub.status.busy": "2024-10-23T19:43:35.480621Z",
     "iopub.status.idle": "2024-10-23T19:43:35.552148Z",
     "shell.execute_reply": "2024-10-23T19:43:35.551606Z",
     "shell.execute_reply.started": "2024-10-23T19:43:35.481056Z"
    }
   },
   "outputs": [
    {
     "data": {
      "text/html": [
       "<div>\n",
       "<style scoped>\n",
       "    .dataframe tbody tr th:only-of-type {\n",
       "        vertical-align: middle;\n",
       "    }\n",
       "\n",
       "    .dataframe tbody tr th {\n",
       "        vertical-align: top;\n",
       "    }\n",
       "\n",
       "    .dataframe thead th {\n",
       "        text-align: right;\n",
       "    }\n",
       "</style>\n",
       "<table border=\"1\" class=\"dataframe\">\n",
       "  <thead>\n",
       "    <tr style=\"text-align: right;\">\n",
       "      <th></th>\n",
       "      <th>Metadata_JCP2022</th>\n",
       "      <th>Metadata_InChIKey</th>\n",
       "      <th>Metadata_InChI</th>\n",
       "    </tr>\n",
       "  </thead>\n",
       "  <tbody>\n",
       "  </tbody>\n",
       "</table>\n",
       "</div>"
      ],
      "text/plain": [
       "Empty DataFrame\n",
       "Columns: [Metadata_JCP2022, Metadata_InChIKey, Metadata_InChI]\n",
       "Index: []"
      ]
     },
     "execution_count": 56,
     "metadata": {},
     "output_type": "execute_result"
    },
    {
     "data": {
      "text/html": [
       "<div>\n",
       "<style scoped>\n",
       "    .dataframe tbody tr th:only-of-type {\n",
       "        vertical-align: middle;\n",
       "    }\n",
       "\n",
       "    .dataframe tbody tr th {\n",
       "        vertical-align: top;\n",
       "    }\n",
       "\n",
       "    .dataframe thead th {\n",
       "        text-align: right;\n",
       "    }\n",
       "</style>\n",
       "<table border=\"1\" class=\"dataframe\">\n",
       "  <thead>\n",
       "    <tr style=\"text-align: right;\">\n",
       "      <th></th>\n",
       "      <th>Metadata_JCP2022</th>\n",
       "      <th>Metadata_InChIKey</th>\n",
       "      <th>Metadata_InChI</th>\n",
       "    </tr>\n",
       "  </thead>\n",
       "  <tbody>\n",
       "    <tr>\n",
       "      <th>116752</th>\n",
       "      <td>JCP2022_999999</td>\n",
       "      <td>NaN</td>\n",
       "      <td>NaN</td>\n",
       "    </tr>\n",
       "  </tbody>\n",
       "</table>\n",
       "</div>"
      ],
      "text/plain": [
       "       Metadata_JCP2022 Metadata_InChIKey Metadata_InChI\n",
       "116752   JCP2022_999999               NaN            NaN"
      ]
     },
     "execution_count": 56,
     "metadata": {},
     "output_type": "execute_result"
    },
    {
     "data": {
      "text/html": [
       "<div>\n",
       "<style scoped>\n",
       "    .dataframe tbody tr th:only-of-type {\n",
       "        vertical-align: middle;\n",
       "    }\n",
       "\n",
       "    .dataframe tbody tr th {\n",
       "        vertical-align: top;\n",
       "    }\n",
       "\n",
       "    .dataframe thead th {\n",
       "        text-align: right;\n",
       "    }\n",
       "</style>\n",
       "<table border=\"1\" class=\"dataframe\">\n",
       "  <thead>\n",
       "    <tr style=\"text-align: right;\">\n",
       "      <th></th>\n",
       "      <th>Metadata_JCP2022</th>\n",
       "      <th>Metadata_InChIKey</th>\n",
       "      <th>Metadata_InChI</th>\n",
       "    </tr>\n",
       "  </thead>\n",
       "  <tbody>\n",
       "    <tr>\n",
       "      <th>116752</th>\n",
       "      <td>JCP2022_999999</td>\n",
       "      <td>NaN</td>\n",
       "      <td>NaN</td>\n",
       "    </tr>\n",
       "  </tbody>\n",
       "</table>\n",
       "</div>"
      ],
      "text/plain": [
       "       Metadata_JCP2022 Metadata_InChIKey Metadata_InChI\n",
       "116752   JCP2022_999999               NaN            NaN"
      ]
     },
     "execution_count": 56,
     "metadata": {},
     "output_type": "execute_result"
    }
   ],
   "source": [
    "df_nans = df_compounds[df_compounds['Metadata_JCP2022'].isna()]\n",
    "df_nans\n",
    "\n",
    "df_nans = df_compounds[df_compounds['Metadata_InChIKey'].isna()]\n",
    "df_nans\n",
    " \n",
    "df_nans = df_compounds[df_compounds['Metadata_InChI'].isna()]\n",
    "df_nans"
   ]
  },
  {
   "cell_type": "markdown",
   "id": "8a4e333b-43f2-4902-96ff-7bd496a7a971",
   "metadata": {},
   "source": [
    "# Get SMILES fingerprints for compounds"
   ]
  },
  {
   "cell_type": "markdown",
   "id": "17820271-3a05-4ce8-ae0e-4328f60488e2",
   "metadata": {
    "heading_collapsed": true,
    "jp-MarkdownHeadingCollapsed": true
   },
   "source": [
    "## Append Smiles to metadata file - `getSmilesFromRDKit`"
   ]
  },
  {
   "cell_type": "code",
   "execution_count": 57,
   "id": "e23ee0b2",
   "metadata": {
    "ExecuteTime": {
     "end_time": "2023-06-28T19:17:39.718214Z",
     "start_time": "2023-06-28T19:16:16.839263Z"
    },
    "execution": {
     "iopub.execute_input": "2024-10-23T19:45:37.274828Z",
     "iopub.status.busy": "2024-10-23T19:45:37.274247Z",
     "iopub.status.idle": "2024-10-23T19:47:35.966780Z",
     "shell.execute_reply": "2024-10-23T19:47:35.965722Z",
     "shell.execute_reply.started": "2024-10-23T19:45:37.274785Z"
    },
    "scrolled": true
   },
   "outputs": [
    {
     "name": "stdout",
     "output_type": "stream",
     "text": [
      " Add Metadata_Smiles column\n",
      " 21:45:37.466701 | 0 rows processed \n"
     ]
    },
    {
     "name": "stderr",
     "output_type": "stream",
     "text": [
      "/home/kevin/WSL-shared/cellpainting/cj-datasets/../../KevinsRoutines/utils/utils_chem.py:734: FutureWarning: Setting an item of incompatible dtype is deprecated and will raise an error in a future version of pandas. Value 'CCC1=NC=CN1c2cccc(n2)C3CCCN3C(=O)c4ccc(cc4)OCCN(C)C' has dtype incompatible with float64, please explicitly cast to a compatible dtype first.\n",
      "  if append_col:\n"
     ]
    },
    {
     "name": "stdout",
     "output_type": "stream",
     "text": [
      " 21:45:37.732802 | 250 rows processed \n",
      " 21:45:37.981450 | 500 rows processed \n",
      " 21:45:38.244570 | 750 rows processed \n",
      " 21:45:38.498698 | 1000 rows processed \n"
     ]
    },
    {
     "name": "stderr",
     "output_type": "stream",
     "text": [
      "[21:45:38] WARNING:  Problems/mismatches: Mobile-H( Hydrogens: Locations or number, Number; Mobile-H groups: One instead of multiple, Attachment points, Number; Charge(s): Do not match)\n",
      "\n"
     ]
    },
    {
     "name": "stdout",
     "output_type": "stream",
     "text": [
      " 21:45:38.746329 | 1250 rows processed \n",
      " 21:45:39.001098 | 1500 rows processed \n",
      " 21:45:39.258456 | 1750 rows processed \n",
      " 21:45:39.514892 | 2000 rows processed \n",
      " 21:45:39.764405 | 2250 rows processed \n",
      " 21:45:40.024879 | 2500 rows processed \n",
      " 21:45:40.283484 | 2750 rows processed \n"
     ]
    },
    {
     "name": "stderr",
     "output_type": "stream",
     "text": [
      "[21:45:40] WARNING:  Problems/mismatches: Mobile-H( Hydrogens: Locations or number, Number; Charge(s): Do not match)\n",
      "\n"
     ]
    },
    {
     "name": "stdout",
     "output_type": "stream",
     "text": [
      " 21:45:40.539520 | 3000 rows processed \n"
     ]
    },
    {
     "name": "stderr",
     "output_type": "stream",
     "text": [
      "[21:45:40] WARNING:  Problems/mismatches: Mobile-H( Mobile-H groups: Attachment points, Number)\n",
      "\n"
     ]
    },
    {
     "name": "stdout",
     "output_type": "stream",
     "text": [
      " 21:45:40.792100 | 3250 rows processed \n",
      " 21:45:41.044090 | 3500 rows processed \n",
      " 21:45:41.296372 | 3750 rows processed \n",
      " 21:45:41.548776 | 4000 rows processed \n",
      " 21:45:41.801282 | 4250 rows processed \n",
      " 21:45:42.061159 | 4500 rows processed \n",
      " 21:45:42.310442 | 4750 rows processed \n",
      " 21:45:42.571186 | 5000 rows processed \n",
      " 21:45:42.855033 | 5250 rows processed \n",
      " 21:45:43.105063 | 5500 rows processed \n",
      " 21:45:43.354252 | 5750 rows processed \n"
     ]
    },
    {
     "name": "stderr",
     "output_type": "stream",
     "text": [
      "[21:45:43] WARNING:  Problems/mismatches: Mobile-H( Hydrogens: Number; Mobile-H groups: One instead of multiple, Attachment points, Number; Charge(s): Do not match)\n",
      "\n"
     ]
    },
    {
     "name": "stdout",
     "output_type": "stream",
     "text": [
      " 21:45:43.613961 | 6000 rows processed \n",
      " 21:45:43.868565 | 6250 rows processed \n",
      " 21:45:44.126632 | 6500 rows processed \n",
      " 21:45:44.381339 | 6750 rows processed \n",
      " 21:45:44.634113 | 7000 rows processed \n",
      " 21:45:44.897513 | 7250 rows processed \n",
      " 21:45:45.148870 | 7500 rows processed \n",
      " 21:45:45.396235 | 7750 rows processed \n",
      " 21:45:45.648586 | 8000 rows processed \n",
      " 21:45:45.899862 | 8250 rows processed \n",
      " 21:45:46.147927 | 8500 rows processed \n",
      " 21:45:46.400830 | 8750 rows processed \n",
      " 21:45:46.654719 | 9000 rows processed \n",
      " 21:45:46.908305 | 9250 rows processed \n",
      " 21:45:47.160950 | 9500 rows processed \n",
      " 21:45:47.414830 | 9750 rows processed \n",
      " 21:45:47.670278 | 10000 rows processed \n",
      " 21:45:47.919441 | 10250 rows processed \n",
      " 21:45:48.168953 | 10500 rows processed \n",
      " 21:45:48.424787 | 10750 rows processed \n",
      " 21:45:48.674119 | 11000 rows processed \n",
      " 21:45:48.921988 | 11250 rows processed \n"
     ]
    },
    {
     "name": "stderr",
     "output_type": "stream",
     "text": [
      "[21:45:49] WARNING:  Problems/mismatches: Mobile-H( Hydrogens: Locations or number, Number; Mobile-H groups: One instead of multiple, Attachment points, Number; Charge(s): Do not match; Proton balance: Does not match)\n",
      "\n"
     ]
    },
    {
     "name": "stdout",
     "output_type": "stream",
     "text": [
      " 21:45:49.178875 | 11500 rows processed \n",
      " 21:45:49.435798 | 11750 rows processed \n",
      " 21:45:49.702956 | 12000 rows processed \n",
      " 21:45:49.961179 | 12250 rows processed \n",
      " 21:45:50.219991 | 12500 rows processed \n"
     ]
    },
    {
     "name": "stderr",
     "output_type": "stream",
     "text": [
      "[21:45:50] WARNING:  Problems/mismatches: Mobile-H( Hydrogens: Number; Mobile-H groups: One instead of multiple, Attachment points, Number; Charge(s): Do not match)\n",
      "\n"
     ]
    },
    {
     "name": "stdout",
     "output_type": "stream",
     "text": [
      " 21:45:50.475360 | 12750 rows processed \n",
      " 21:45:50.730718 | 13000 rows processed \n",
      " 21:45:50.976104 | 13250 rows processed \n",
      " 21:45:51.232527 | 13500 rows processed \n",
      " 21:45:51.486054 | 13750 rows processed \n",
      " 21:45:51.735314 | 14000 rows processed \n",
      " 21:45:51.991378 | 14250 rows processed \n",
      " 21:45:52.247215 | 14500 rows processed \n",
      " 21:45:52.500316 | 14750 rows processed \n",
      " 21:45:52.752402 | 15000 rows processed \n",
      " 21:45:53.004775 | 15250 rows processed \n",
      " 21:45:53.252948 | 15500 rows processed \n",
      " 21:45:53.510063 | 15750 rows processed \n",
      " 21:45:53.760904 | 16000 rows processed \n",
      " 21:45:54.013286 | 16250 rows processed \n",
      " 21:45:54.262615 | 16500 rows processed \n",
      " 21:45:54.514013 | 16750 rows processed \n",
      " 21:45:54.761290 | 17000 rows processed \n",
      " 21:45:55.015300 | 17250 rows processed \n",
      " 21:45:55.269415 | 17500 rows processed \n",
      " 21:45:55.523016 | 17750 rows processed \n",
      " 21:45:55.773530 | 18000 rows processed \n",
      " 21:45:56.025922 | 18250 rows processed \n",
      " 21:45:56.284612 | 18500 rows processed \n",
      " 21:45:56.537738 | 18750 rows processed \n",
      " 21:45:56.787105 | 19000 rows processed \n",
      " 21:45:57.034519 | 19250 rows processed \n",
      " 21:45:57.291547 | 19500 rows processed \n",
      " 21:45:57.539094 | 19750 rows processed \n",
      " 21:45:57.793706 | 20000 rows processed \n",
      " 21:45:58.044143 | 20250 rows processed \n"
     ]
    },
    {
     "name": "stderr",
     "output_type": "stream",
     "text": [
      "[21:45:58] WARNING:  Problems/mismatches: Mobile-H( Hydrogens: Locations or number; Mobile-H groups: Attachment points, Number)\n",
      "\n"
     ]
    },
    {
     "name": "stdout",
     "output_type": "stream",
     "text": [
      " 21:45:58.297056 | 20500 rows processed \n",
      " 21:45:58.553717 | 20750 rows processed \n",
      " 21:45:58.811590 | 21000 rows processed \n",
      " 21:45:59.066090 | 21250 rows processed \n",
      " 21:45:59.320948 | 21500 rows processed \n",
      " 21:45:59.576512 | 21750 rows processed \n",
      " 21:45:59.832773 | 22000 rows processed \n",
      " 21:46:00.089349 | 22250 rows processed \n",
      " 21:46:00.342046 | 22500 rows processed \n",
      " 21:46:00.594656 | 22750 rows processed \n",
      " 21:46:00.843004 | 23000 rows processed \n",
      " 21:46:01.097707 | 23250 rows processed \n",
      " 21:46:01.355960 | 23500 rows processed \n",
      " 21:46:01.612266 | 23750 rows processed \n",
      " 21:46:01.873551 | 24000 rows processed \n",
      " 21:46:02.130493 | 24250 rows processed \n"
     ]
    },
    {
     "name": "stderr",
     "output_type": "stream",
     "text": [
      "[21:46:02] WARNING:  Problems/mismatches: Mobile-H( Hydrogens: Locations or number, Number; Mobile-H groups: One instead of multiple, Attachment points, Number; Charge(s): Do not match)\n",
      "\n"
     ]
    },
    {
     "name": "stdout",
     "output_type": "stream",
     "text": [
      " 21:46:02.391515 | 24500 rows processed \n",
      " 21:46:02.640949 | 24750 rows processed \n",
      " 21:46:02.897032 | 25000 rows processed \n",
      " 21:46:03.152324 | 25250 rows processed \n",
      " 21:46:03.397885 | 25500 rows processed \n",
      " 21:46:03.646265 | 25750 rows processed \n",
      " 21:46:03.902622 | 26000 rows processed \n",
      " 21:46:04.157839 | 26250 rows processed \n",
      " 21:46:04.414281 | 26500 rows processed \n",
      " 21:46:04.667111 | 26750 rows processed \n",
      " 21:46:04.918671 | 27000 rows processed \n",
      " 21:46:05.178168 | 27250 rows processed \n",
      " 21:46:05.437140 | 27500 rows processed \n",
      " 21:46:05.690775 | 27750 rows processed \n",
      " 21:46:05.937805 | 28000 rows processed \n",
      " 21:46:06.186006 | 28250 rows processed \n",
      " 21:46:06.444011 | 28500 rows processed \n",
      " 21:46:06.696479 | 28750 rows processed \n"
     ]
    },
    {
     "name": "stderr",
     "output_type": "stream",
     "text": [
      "[21:46:06] WARNING:  Problems/mismatches: Mobile-H( Mobile-H groups: Attachment points, Number)\n",
      "\n"
     ]
    },
    {
     "name": "stdout",
     "output_type": "stream",
     "text": [
      " 21:46:06.950805 | 29000 rows processed \n",
      " 21:46:07.203381 | 29250 rows processed \n",
      " 21:46:07.456956 | 29500 rows processed \n",
      " 21:46:07.710320 | 29750 rows processed \n",
      " 21:46:07.967582 | 30000 rows processed \n",
      " 21:46:08.215275 | 30250 rows processed \n"
     ]
    },
    {
     "name": "stderr",
     "output_type": "stream",
     "text": [
      "[21:46:08] WARNING:  Problems/mismatches: Mobile-H( Hydrogens: Locations or number, Number; Mobile-H groups: One instead of multiple, Attachment points, Number; Charge(s): Do not match; Proton balance: Does not match)\n",
      "\n"
     ]
    },
    {
     "name": "stdout",
     "output_type": "stream",
     "text": [
      " 21:46:08.472020 | 30500 rows processed \n",
      " 21:46:08.731660 | 30750 rows processed \n"
     ]
    },
    {
     "name": "stderr",
     "output_type": "stream",
     "text": [
      "[21:46:08] WARNING:  Problems/mismatches: Mobile-H( Hydrogens: Locations or number; Mobile-H groups: Attachment points, Number)\n",
      "\n"
     ]
    },
    {
     "name": "stdout",
     "output_type": "stream",
     "text": [
      " 21:46:08.980401 | 31000 rows processed \n",
      " 21:46:09.234014 | 31250 rows processed \n",
      " 21:46:09.495290 | 31500 rows processed \n",
      " 21:46:09.746796 | 31750 rows processed \n",
      " 21:46:09.998414 | 32000 rows processed \n",
      " 21:46:10.247940 | 32250 rows processed \n",
      " 21:46:10.497661 | 32500 rows processed \n",
      " 21:46:10.752307 | 32750 rows processed \n",
      " 21:46:11.004428 | 33000 rows processed \n",
      " 21:46:11.258760 | 33250 rows processed \n",
      " 21:46:11.514248 | 33500 rows processed \n",
      " 21:46:11.764386 | 33750 rows processed \n",
      " 21:46:12.011182 | 34000 rows processed \n",
      " 21:46:12.260043 | 34250 rows processed \n",
      " 21:46:12.511896 | 34500 rows processed \n",
      " 21:46:12.756025 | 34750 rows processed \n",
      " 21:46:13.008573 | 35000 rows processed \n"
     ]
    },
    {
     "name": "stderr",
     "output_type": "stream",
     "text": [
      "[21:46:13] WARNING:  Problems/mismatches: Mobile-H( Mobile-H groups: Attachment points, Number)\n",
      "\n"
     ]
    },
    {
     "name": "stdout",
     "output_type": "stream",
     "text": [
      " 21:46:13.257614 | 35250 rows processed \n",
      " 21:46:13.516199 | 35500 rows processed \n",
      " 21:46:13.764537 | 35750 rows processed \n",
      " 21:46:14.017895 | 36000 rows processed \n",
      " 21:46:14.267465 | 36250 rows processed \n",
      " 21:46:14.517254 | 36500 rows processed \n",
      " 21:46:14.773271 | 36750 rows processed \n",
      " 21:46:15.027505 | 37000 rows processed \n",
      " 21:46:15.281342 | 37250 rows processed \n",
      " 21:46:15.531109 | 37500 rows processed \n",
      " 21:46:15.781210 | 37750 rows processed \n",
      " 21:46:16.036276 | 38000 rows processed \n",
      " 21:46:16.291725 | 38250 rows processed \n",
      " 21:46:16.542043 | 38500 rows processed \n",
      " 21:46:16.793854 | 38750 rows processed \n",
      " 21:46:17.042984 | 39000 rows processed \n",
      " 21:46:17.298156 | 39250 rows processed \n",
      " 21:46:17.559129 | 39500 rows processed \n",
      " 21:46:17.817922 | 39750 rows processed \n",
      " 21:46:18.070523 | 40000 rows processed \n"
     ]
    },
    {
     "name": "stderr",
     "output_type": "stream",
     "text": [
      "[21:46:18] WARNING:  Problems/mismatches: Mobile-H( Mobile-H groups: One instead of multiple, Attachment points, Number)\n",
      "\n"
     ]
    },
    {
     "name": "stdout",
     "output_type": "stream",
     "text": [
      " 21:46:18.321747 | 40250 rows processed \n",
      " 21:46:18.580882 | 40500 rows processed \n",
      " 21:46:18.831025 | 40750 rows processed \n"
     ]
    },
    {
     "name": "stderr",
     "output_type": "stream",
     "text": [
      "[21:46:18] WARNING:  Problems/mismatches: Mobile-H( Mobile-H groups: Attachment points, Number)\n",
      "\n",
      "[21:46:18] WARNING:  Problems/mismatches: Mobile-H( Hydrogens: Number; Mobile-H groups: One instead of multiple, Attachment points, Number; Charge(s): Do not match)\n",
      "\n"
     ]
    },
    {
     "name": "stdout",
     "output_type": "stream",
     "text": [
      " 21:46:19.083239 | 41000 rows processed \n",
      " 21:46:19.336118 | 41250 rows processed \n"
     ]
    },
    {
     "name": "stderr",
     "output_type": "stream",
     "text": [
      "[21:46:19] Unusual charge on atom 3 number of radical electrons set to zero\n"
     ]
    },
    {
     "name": "stdout",
     "output_type": "stream",
     "text": [
      " 21:46:19.591463 | 41500 rows processed \n",
      " 21:46:19.848265 | 41750 rows processed \n"
     ]
    },
    {
     "name": "stderr",
     "output_type": "stream",
     "text": [
      "[21:46:19] WARNING:  Problems/mismatches: Mobile-H( Hydrogens: Locations or number, Number; Mobile-H groups: One instead of multiple, Attachment points, Number; Charge(s): Do not match)\n",
      "\n"
     ]
    },
    {
     "name": "stdout",
     "output_type": "stream",
     "text": [
      " 21:46:20.100471 | 42000 rows processed \n",
      " 21:46:20.351217 | 42250 rows processed \n",
      " 21:46:20.603921 | 42500 rows processed \n",
      " 21:46:20.853531 | 42750 rows processed \n",
      " 21:46:21.106951 | 43000 rows processed \n",
      " 21:46:21.356395 | 43250 rows processed \n",
      " 21:46:21.612319 | 43500 rows processed \n",
      " 21:46:21.868979 | 43750 rows processed \n",
      " 21:46:22.121221 | 44000 rows processed \n",
      " 21:46:22.371984 | 44250 rows processed \n",
      " 21:46:22.624490 | 44500 rows processed \n",
      " 21:46:22.881082 | 44750 rows processed \n",
      " 21:46:23.133016 | 45000 rows processed \n",
      " 21:46:23.385306 | 45250 rows processed \n",
      " 21:46:23.635410 | 45500 rows processed \n",
      " 21:46:23.889577 | 45750 rows processed \n",
      " 21:46:24.142768 | 46000 rows processed \n",
      " 21:46:24.396487 | 46250 rows processed \n",
      " 21:46:24.644075 | 46500 rows processed \n",
      " 21:46:24.894855 | 46750 rows processed \n"
     ]
    },
    {
     "name": "stderr",
     "output_type": "stream",
     "text": [
      "[21:46:25] WARNING:  Problems/mismatches: Mobile-H( Hydrogens: Locations or number, Number; Mobile-H groups: Attachment points, Number; Charge(s): Do not match)\n",
      "\n"
     ]
    },
    {
     "name": "stdout",
     "output_type": "stream",
     "text": [
      " 21:46:25.148790 | 47000 rows processed \n",
      " 21:46:25.397195 | 47250 rows processed \n",
      " 21:46:25.644943 | 47500 rows processed \n",
      " 21:46:25.902395 | 47750 rows processed \n",
      " 21:46:26.157999 | 48000 rows processed \n",
      " 21:46:26.408367 | 48250 rows processed \n",
      " 21:46:26.663827 | 48500 rows processed \n",
      " 21:46:26.915991 | 48750 rows processed \n",
      " 21:46:27.162121 | 49000 rows processed \n",
      " 21:46:27.414671 | 49250 rows processed \n",
      " 21:46:27.668238 | 49500 rows processed \n",
      " 21:46:27.916428 | 49750 rows processed \n",
      " 21:46:28.165466 | 50000 rows processed \n",
      " 21:46:28.418766 | 50250 rows processed \n",
      " 21:46:28.671390 | 50500 rows processed \n",
      " 21:46:28.924115 | 50750 rows processed \n",
      " 21:46:29.174833 | 51000 rows processed \n",
      " 21:46:29.441378 | 51250 rows processed \n",
      " 21:46:29.691524 | 51500 rows processed \n",
      " 21:46:29.943725 | 51750 rows processed \n",
      " 21:46:30.197030 | 52000 rows processed \n",
      " 21:46:30.451277 | 52250 rows processed \n",
      " 21:46:30.702838 | 52500 rows processed \n",
      " 21:46:30.952719 | 52750 rows processed \n",
      " 21:46:31.207402 | 53000 rows processed \n",
      " 21:46:31.459417 | 53250 rows processed \n",
      " 21:46:31.713777 | 53500 rows processed \n",
      " 21:46:31.965782 | 53750 rows processed \n",
      " 21:46:32.217444 | 54000 rows processed \n",
      " 21:46:32.468533 | 54250 rows processed \n",
      " 21:46:32.727351 | 54500 rows processed \n",
      " 21:46:32.975869 | 54750 rows processed \n",
      " 21:46:33.227678 | 55000 rows processed \n",
      " 21:46:33.482707 | 55250 rows processed \n",
      " 21:46:33.729129 | 55500 rows processed \n",
      " 21:46:33.983355 | 55750 rows processed \n",
      " 21:46:34.230900 | 56000 rows processed \n",
      " 21:46:34.482244 | 56250 rows processed \n",
      " 21:46:34.733291 | 56500 rows processed \n",
      " 21:46:34.986603 | 56750 rows processed \n"
     ]
    },
    {
     "name": "stderr",
     "output_type": "stream",
     "text": [
      "[21:46:35] WARNING:  Problems/mismatches: Mobile-H( Hydrogens: Locations or number, Number; Mobile-H groups: One instead of multiple, Attachment points, Number; Charge(s): Do not match)\n",
      "\n"
     ]
    },
    {
     "name": "stdout",
     "output_type": "stream",
     "text": [
      " 21:46:35.244678 | 57000 rows processed \n",
      " 21:46:35.497479 | 57250 rows processed \n",
      " 21:46:35.749984 | 57500 rows processed \n",
      " 21:46:36.005942 | 57750 rows processed \n",
      " 21:46:36.260485 | 58000 rows processed \n",
      " 21:46:36.512544 | 58250 rows processed \n",
      " 21:46:36.760959 | 58500 rows processed \n",
      " 21:46:37.018971 | 58750 rows processed \n",
      " 21:46:37.275597 | 59000 rows processed \n",
      " 21:46:37.531996 | 59250 rows processed \n",
      " 21:46:37.782231 | 59500 rows processed \n",
      " 21:46:38.030645 | 59750 rows processed \n",
      " 21:46:38.281334 | 60000 rows processed \n",
      " 21:46:38.532409 | 60250 rows processed \n",
      " 21:46:38.783150 | 60500 rows processed \n",
      " 21:46:39.038526 | 60750 rows processed \n",
      " 21:46:39.300836 | 61000 rows processed \n",
      " 21:46:39.569741 | 61250 rows processed \n",
      " 21:46:39.820068 | 61500 rows processed \n",
      " 21:46:40.068979 | 61750 rows processed \n",
      " 21:46:40.321587 | 62000 rows processed \n",
      " 21:46:40.575196 | 62250 rows processed \n",
      " 21:46:40.822917 | 62500 rows processed \n",
      " 21:46:41.076770 | 62750 rows processed \n",
      " 21:46:41.334366 | 63000 rows processed \n",
      " 21:46:41.590792 | 63250 rows processed \n",
      " 21:46:41.844935 | 63500 rows processed \n",
      " 21:46:42.104558 | 63750 rows processed \n",
      " 21:46:42.356077 | 64000 rows processed \n",
      " 21:46:42.615234 | 64250 rows processed \n",
      " 21:46:42.864033 | 64500 rows processed \n",
      " 21:46:43.116292 | 64750 rows processed \n",
      " 21:46:43.369021 | 65000 rows processed \n",
      " 21:46:43.629065 | 65250 rows processed \n",
      " 21:46:43.878335 | 65500 rows processed \n"
     ]
    },
    {
     "name": "stderr",
     "output_type": "stream",
     "text": [
      "[21:46:44] Explicit valence for atom # 10 N, 4, is greater than permitted\n",
      "[21:46:44] ERROR: Explicit valence for atom # 10 N, 4, is greater than permitted\n",
      "\n"
     ]
    },
    {
     "name": "stdout",
     "output_type": "stream",
     "text": [
      " ctr: 65739 index: JCP2022_065740   InChIKey: ORYDPOVDJJZGHQ-UHFFFAOYSA-N \t No MOL returned for inchi from RDKit - continue\n",
      " 21:46:44.132385 | 65750 rows processed \n",
      " 21:46:44.384445 | 66000 rows processed \n",
      " 21:46:44.636415 | 66250 rows processed \n",
      " 21:46:44.885074 | 66500 rows processed \n",
      " 21:46:45.136556 | 66750 rows processed \n",
      " 21:46:45.392788 | 67000 rows processed \n",
      " 21:46:45.655650 | 67250 rows processed \n",
      " 21:46:45.912275 | 67500 rows processed \n",
      " 21:46:46.164902 | 67750 rows processed \n",
      " 21:46:46.415985 | 68000 rows processed \n",
      " 21:46:46.663064 | 68250 rows processed \n",
      " 21:46:46.915617 | 68500 rows processed \n",
      " 21:46:47.169123 | 68750 rows processed \n",
      " 21:46:47.427381 | 69000 rows processed \n",
      " 21:46:47.678336 | 69250 rows processed \n",
      " 21:46:47.935850 | 69500 rows processed \n",
      " 21:46:48.183841 | 69750 rows processed \n",
      " 21:46:48.437672 | 70000 rows processed \n",
      " 21:46:48.690230 | 70250 rows processed \n",
      " 21:46:48.940615 | 70500 rows processed \n",
      " 21:46:49.193811 | 70750 rows processed \n",
      " 21:46:49.444680 | 71000 rows processed \n",
      " 21:46:49.696052 | 71250 rows processed \n",
      " 21:46:49.950731 | 71500 rows processed \n",
      " 21:46:50.206035 | 71750 rows processed \n",
      " 21:46:50.458107 | 72000 rows processed \n",
      " 21:46:50.707810 | 72250 rows processed \n",
      " 21:46:50.959698 | 72500 rows processed \n",
      " 21:46:51.211769 | 72750 rows processed \n",
      " 21:46:51.466371 | 73000 rows processed \n",
      " 21:46:51.728965 | 73250 rows processed \n",
      " 21:46:51.986144 | 73500 rows processed \n",
      " 21:46:52.237608 | 73750 rows processed \n",
      " 21:46:52.500152 | 74000 rows processed \n",
      " 21:46:52.750199 | 74250 rows processed \n",
      " 21:46:53.002570 | 74500 rows processed \n",
      " 21:46:53.249735 | 74750 rows processed \n",
      " 21:46:53.499084 | 75000 rows processed \n",
      " 21:46:53.755804 | 75250 rows processed \n"
     ]
    },
    {
     "name": "stderr",
     "output_type": "stream",
     "text": [
      "[21:46:53] WARNING:  Problems/mismatches: Mobile-H( Hydrogens: Locations or number, Number; Mobile-H groups: One instead of multiple, Attachment points, Number; Charge(s): Do not match)\n",
      "\n"
     ]
    },
    {
     "name": "stdout",
     "output_type": "stream",
     "text": [
      " 21:46:54.009589 | 75500 rows processed \n",
      " 21:46:54.266848 | 75750 rows processed \n",
      " 21:46:54.524016 | 76000 rows processed \n",
      " 21:46:54.775840 | 76250 rows processed \n",
      " 21:46:55.024643 | 76500 rows processed \n"
     ]
    },
    {
     "name": "stderr",
     "output_type": "stream",
     "text": [
      "[21:46:54] WARNING:  Problems/mismatches: Mobile-H( Hydrogens: Locations or number, Number; Mobile-H groups: One instead of multiple, Attachment points, Number; Charge(s): Do not match; Proton balance: Does not match)\n",
      "\n",
      "[21:46:55] WARNING:  Problems/mismatches: Mobile-H( Hydrogens: Number; Mobile-H groups: One instead of multiple, Attachment points, Number; Charge(s): Do not match)\n",
      "\n"
     ]
    },
    {
     "name": "stdout",
     "output_type": "stream",
     "text": [
      " 21:46:55.276391 | 76750 rows processed \n",
      " 21:46:55.529097 | 77000 rows processed \n",
      " 21:46:55.789244 | 77250 rows processed \n",
      " 21:46:56.032303 | 77500 rows processed \n",
      " 21:46:56.289247 | 77750 rows processed \n",
      " 21:46:56.540645 | 78000 rows processed \n",
      " 21:46:56.794304 | 78250 rows processed \n",
      " 21:46:57.044245 | 78500 rows processed \n",
      " 21:46:57.292012 | 78750 rows processed \n",
      " 21:46:57.547983 | 79000 rows processed \n",
      " 21:46:57.798210 | 79250 rows processed \n",
      " 21:46:58.050476 | 79500 rows processed \n",
      " 21:46:58.300936 | 79750 rows processed \n",
      " 21:46:58.556464 | 80000 rows processed \n"
     ]
    },
    {
     "name": "stderr",
     "output_type": "stream",
     "text": [
      "[21:46:58] WARNING:  Problems/mismatches: Mobile-H( Hydrogens: Number; Mobile-H groups: Number; Charge(s): Do not match)\n",
      "\n"
     ]
    },
    {
     "name": "stdout",
     "output_type": "stream",
     "text": [
      " 21:46:58.809318 | 80250 rows processed \n",
      " 21:46:59.064253 | 80500 rows processed \n"
     ]
    },
    {
     "name": "stderr",
     "output_type": "stream",
     "text": [
      "[21:46:59] WARNING:  Problems/mismatches: Mobile-H( Hydrogens: Locations or number; Mobile-H groups: Missing, Attachment points)\n",
      "\n"
     ]
    },
    {
     "name": "stdout",
     "output_type": "stream",
     "text": [
      " 21:46:59.313331 | 80750 rows processed \n",
      " 21:46:59.564846 | 81000 rows processed \n",
      " 21:46:59.818279 | 81250 rows processed \n",
      " 21:47:00.077030 | 81500 rows processed \n",
      " 21:47:00.330313 | 81750 rows processed \n",
      " 21:47:00.582209 | 82000 rows processed \n",
      " 21:47:00.840439 | 82250 rows processed \n"
     ]
    },
    {
     "name": "stderr",
     "output_type": "stream",
     "text": [
      "[21:47:00] WARNING:  Problems/mismatches: Mobile-H( Hydrogens: Locations or number; Mobile-H groups: One instead of multiple, Attachment points, Number)\n",
      "\n"
     ]
    },
    {
     "name": "stdout",
     "output_type": "stream",
     "text": [
      " 21:47:01.099817 | 82500 rows processed \n",
      " 21:47:01.350803 | 82750 rows processed \n",
      " 21:47:01.607127 | 83000 rows processed \n",
      " 21:47:01.854645 | 83250 rows processed \n",
      " 21:47:02.106422 | 83500 rows processed \n",
      " 21:47:02.358043 | 83750 rows processed \n",
      " 21:47:02.606435 | 84000 rows processed \n",
      " 21:47:02.857741 | 84250 rows processed \n",
      " 21:47:03.109628 | 84500 rows processed \n",
      " 21:47:03.366142 | 84750 rows processed \n",
      " 21:47:03.619361 | 85000 rows processed \n",
      " 21:47:03.867003 | 85250 rows processed \n",
      " 21:47:04.117144 | 85500 rows processed \n",
      " 21:47:04.371256 | 85750 rows processed \n",
      " 21:47:04.622428 | 86000 rows processed \n",
      " 21:47:04.868964 | 86250 rows processed \n",
      " 21:47:05.120200 | 86500 rows processed \n",
      " 21:47:05.374157 | 86750 rows processed \n",
      " 21:47:05.625363 | 87000 rows processed \n",
      " 21:47:05.877979 | 87250 rows processed \n",
      " 21:47:06.133281 | 87500 rows processed \n",
      " 21:47:06.380788 | 87750 rows processed \n",
      " 21:47:06.626506 | 88000 rows processed \n",
      " 21:47:06.880128 | 88250 rows processed \n",
      " 21:47:07.133734 | 88500 rows processed \n",
      " 21:47:07.387784 | 88750 rows processed \n",
      " 21:47:07.645741 | 89000 rows processed \n",
      " 21:47:07.898885 | 89250 rows processed \n",
      " 21:47:08.152218 | 89500 rows processed \n",
      " 21:47:08.402251 | 89750 rows processed \n",
      " 21:47:08.652398 | 90000 rows processed \n",
      " 21:47:08.904679 | 90250 rows processed \n",
      " 21:47:09.155391 | 90500 rows processed \n",
      " 21:47:09.404511 | 90750 rows processed \n",
      " 21:47:09.660980 | 91000 rows processed \n",
      " 21:47:09.915877 | 91250 rows processed \n",
      " 21:47:10.174435 | 91500 rows processed \n",
      " 21:47:10.424859 | 91750 rows processed \n",
      " 21:47:10.678022 | 92000 rows processed \n",
      " 21:47:10.932936 | 92250 rows processed \n",
      " 21:47:11.187495 | 92500 rows processed \n",
      " 21:47:11.439774 | 92750 rows processed \n",
      " 21:47:11.691249 | 93000 rows processed \n",
      " 21:47:11.949642 | 93250 rows processed \n",
      " 21:47:12.204073 | 93500 rows processed \n",
      " 21:47:12.458915 | 93750 rows processed \n",
      " 21:47:12.712212 | 94000 rows processed \n",
      " 21:47:12.965328 | 94250 rows processed \n",
      " 21:47:13.220999 | 94500 rows processed \n",
      " 21:47:13.470076 | 94750 rows processed \n",
      " 21:47:13.726031 | 95000 rows processed \n",
      " 21:47:13.980532 | 95250 rows processed \n",
      " 21:47:14.235675 | 95500 rows processed \n",
      " 21:47:14.492110 | 95750 rows processed \n",
      " 21:47:14.740929 | 96000 rows processed \n",
      " 21:47:14.989603 | 96250 rows processed \n",
      " 21:47:15.243379 | 96500 rows processed \n"
     ]
    },
    {
     "name": "stderr",
     "output_type": "stream",
     "text": [
      "[21:47:15] WARNING:  Problems/mismatches: Mobile-H( Mobile-H groups: Multiple instead of one, Number)\n",
      "\n"
     ]
    },
    {
     "name": "stdout",
     "output_type": "stream",
     "text": [
      " 21:47:15.495766 | 96750 rows processed \n",
      " 21:47:15.755495 | 97000 rows processed \n"
     ]
    },
    {
     "name": "stderr",
     "output_type": "stream",
     "text": [
      "[21:47:15] WARNING:  Problems/mismatches: Mobile-H( Mobile-H groups: Attachment points, Number)\n",
      "\n"
     ]
    },
    {
     "name": "stdout",
     "output_type": "stream",
     "text": [
      " 21:47:16.009378 | 97250 rows processed \n",
      " 21:47:16.268125 | 97500 rows processed \n",
      " 21:47:16.524604 | 97750 rows processed \n",
      " 21:47:16.781211 | 98000 rows processed \n",
      " 21:47:17.028654 | 98250 rows processed \n",
      " 21:47:17.278974 | 98500 rows processed \n",
      " 21:47:17.530486 | 98750 rows processed \n",
      " 21:47:17.788870 | 99000 rows processed \n",
      " 21:47:18.042000 | 99250 rows processed \n"
     ]
    },
    {
     "name": "stderr",
     "output_type": "stream",
     "text": [
      "[21:47:18] WARNING:  Problems/mismatches: Mobile-H( Hydrogens: Number; Mobile-H groups: Missing, Attachment points; Charge(s): Do not match; Proton balance: Does not match)\n",
      "\n"
     ]
    },
    {
     "name": "stdout",
     "output_type": "stream",
     "text": [
      " 21:47:18.289575 | 99500 rows processed \n",
      " 21:47:18.551452 | 99750 rows processed \n",
      " 21:47:18.808345 | 100000 rows processed \n",
      " 21:47:19.061309 | 100250 rows processed \n",
      " 21:47:19.315436 | 100500 rows processed \n",
      " 21:47:19.568697 | 100750 rows processed \n",
      " 21:47:19.817471 | 101000 rows processed \n",
      " 21:47:20.067631 | 101250 rows processed \n",
      " 21:47:20.319196 | 101500 rows processed \n",
      " 21:47:20.573859 | 101750 rows processed \n",
      " 21:47:20.824015 | 102000 rows processed \n",
      " 21:47:21.073638 | 102250 rows processed \n",
      " 21:47:21.322608 | 102500 rows processed \n",
      " 21:47:21.573468 | 102750 rows processed \n",
      " 21:47:21.822285 | 103000 rows processed \n",
      " 21:47:22.069812 | 103250 rows processed \n",
      " 21:47:22.325433 | 103500 rows processed \n",
      " 21:47:22.572895 | 103750 rows processed \n",
      " 21:47:22.833699 | 104000 rows processed \n",
      " 21:47:23.081067 | 104250 rows processed \n",
      " 21:47:23.335941 | 104500 rows processed \n",
      " 21:47:23.589141 | 104750 rows processed \n",
      " 21:47:23.840657 | 105000 rows processed \n",
      " 21:47:24.093835 | 105250 rows processed \n",
      " 21:47:24.366667 | 105500 rows processed \n"
     ]
    },
    {
     "name": "stderr",
     "output_type": "stream",
     "text": [
      "[21:47:24] WARNING:  Problems/mismatches: Mobile-H( Mobile-H groups: Attachment points, Number)\n",
      "\n"
     ]
    },
    {
     "name": "stdout",
     "output_type": "stream",
     "text": [
      " 21:47:24.614650 | 105750 rows processed \n",
      " 21:47:24.868079 | 106000 rows processed \n",
      " 21:47:25.122566 | 106250 rows processed \n"
     ]
    },
    {
     "name": "stderr",
     "output_type": "stream",
     "text": [
      "[21:47:25] WARNING:  Problems/mismatches: Mobile-H( Hydrogens: Number; Mobile-H groups: One instead of multiple, Number; Charge(s): Do not match; Proton balance: Does not match)\n",
      "\n"
     ]
    },
    {
     "name": "stdout",
     "output_type": "stream",
     "text": [
      " 21:47:25.374878 | 106500 rows processed \n",
      " 21:47:25.625385 | 106750 rows processed \n",
      " 21:47:25.872554 | 107000 rows processed \n",
      " 21:47:26.127464 | 107250 rows processed \n",
      " 21:47:26.377697 | 107500 rows processed \n",
      " 21:47:26.629214 | 107750 rows processed \n",
      " 21:47:26.875693 | 108000 rows processed \n",
      " 21:47:27.130602 | 108250 rows processed \n",
      " 21:47:27.382895 | 108500 rows processed \n",
      " 21:47:27.636045 | 108750 rows processed \n",
      " 21:47:27.889666 | 109000 rows processed \n",
      " 21:47:28.145251 | 109250 rows processed \n"
     ]
    },
    {
     "name": "stderr",
     "output_type": "stream",
     "text": [
      "[21:47:27] WARNING:  Problems/mismatches: Mobile-H( Mobile-H groups: Attachment points, Number)\n",
      "\n"
     ]
    },
    {
     "name": "stdout",
     "output_type": "stream",
     "text": [
      " 21:47:28.415296 | 109500 rows processed \n",
      " 21:47:28.666354 | 109750 rows processed \n"
     ]
    },
    {
     "name": "stderr",
     "output_type": "stream",
     "text": [
      "[21:47:28] WARNING:  Problems/mismatches: Mobile-H( Mobile-H groups: Attachment points, Number)\n",
      "\n"
     ]
    },
    {
     "name": "stdout",
     "output_type": "stream",
     "text": [
      " 21:47:28.922812 | 110000 rows processed \n",
      " 21:47:29.176301 | 110250 rows processed \n"
     ]
    },
    {
     "name": "stderr",
     "output_type": "stream",
     "text": [
      "[21:47:29] WARNING:  Problems/mismatches: Mobile-H( Hydrogens: Number; Mobile-H groups: One instead of multiple, Attachment points, Number; Charge(s): Do not match)\n",
      "\n"
     ]
    },
    {
     "name": "stdout",
     "output_type": "stream",
     "text": [
      " 21:47:29.438109 | 110500 rows processed \n",
      " 21:47:29.690438 | 110750 rows processed \n",
      " 21:47:29.942133 | 111000 rows processed \n",
      " 21:47:30.192686 | 111250 rows processed \n",
      " 21:47:30.443246 | 111500 rows processed \n",
      " 21:47:30.695301 | 111750 rows processed \n",
      " 21:47:30.943344 | 112000 rows processed \n",
      " 21:47:31.194957 | 112250 rows processed \n",
      " 21:47:31.485696 | 112500 rows processed \n",
      " 21:47:31.742237 | 112750 rows processed \n",
      " 21:47:31.993627 | 113000 rows processed \n",
      " 21:47:32.245615 | 113250 rows processed \n",
      " 21:47:32.495766 | 113500 rows processed \n",
      " 21:47:32.750768 | 113750 rows processed \n",
      " 21:47:33.004377 | 114000 rows processed \n",
      " 21:47:33.266056 | 114250 rows processed \n",
      " 21:47:33.519088 | 114500 rows processed \n",
      " 21:47:33.780207 | 114750 rows processed \n",
      " 21:47:34.152481 | 115000 rows processed \n",
      " 21:47:34.402093 | 115250 rows processed \n",
      " 21:47:34.652051 | 115500 rows processed \n",
      " 21:47:34.911601 | 115750 rows processed \n",
      " 21:47:35.169530 | 116000 rows processed \n",
      " 21:47:35.421870 | 116250 rows processed \n",
      " 21:47:35.674197 | 116500 rows processed \n",
      " 21:47:35.930137 | 116750 rows processed \n",
      " ctr: 116753 index: JCP2022_999999   inchikey: nan \t Nan row encounntered - continue\n",
      "\n",
      " -------------------------------------------------------------------------  \n",
      " Results of processing   \n",
      " -------------------------------------------------------------------------  \n",
      "                                          Total Input: 116753\n",
      " rows with missing InChiKey in input                 :      1  \n",
      " rows with no MOL object returned from RDKit         :      1       \n",
      " rows with valid MOL                                 : 116751   \n",
      " rows with no Smiles object returned from RDKit      :      0    \n",
      " rows with with valid Chembl_id and InChi            : 116751\n",
      " -------------------------------------------------------------------------  \n",
      "\n",
      "\n"
     ]
    }
   ],
   "source": [
    "## Get mol and SMILES for each InChI in the input file \n",
    "df_compounds, df_smiles = getSmilesFromRDKit(df_compounds, limit=-1, append_col=True,  verbose = False)\n",
    "# getTPSAFromRDKit(df, limit = -1,verbose = False)\n"
   ]
  },
  {
   "cell_type": "code",
   "execution_count": 61,
   "id": "78cf17e0",
   "metadata": {
    "ExecuteTime": {
     "end_time": "2023-06-28T19:18:11.025979Z",
     "start_time": "2023-06-28T19:18:10.915424Z"
    },
    "execution": {
     "iopub.execute_input": "2024-10-23T19:52:48.810266Z",
     "iopub.status.busy": "2024-10-23T19:52:48.809791Z",
     "iopub.status.idle": "2024-10-23T19:52:48.880042Z",
     "shell.execute_reply": "2024-10-23T19:52:48.879438Z",
     "shell.execute_reply.started": "2024-10-23T19:52:48.810224Z"
    }
   },
   "outputs": [
    {
     "name": "stdout",
     "output_type": "stream",
     "text": [
      "<class 'pandas.core.frame.DataFrame'>\n",
      "RangeIndex: 116751 entries, 0 to 116750\n",
      "Data columns (total 2 columns):\n",
      " #   Column           Non-Null Count   Dtype \n",
      "---  ------           --------------   ----- \n",
      " 0   JCP2022          116751 non-null  object\n",
      " 1   Metadata_Smiles  116751 non-null  object\n",
      "dtypes: object(2)\n",
      "memory usage: 1.8+ MB\n"
     ]
    },
    {
     "data": {
      "text/html": [
       "<div>\n",
       "<style scoped>\n",
       "    .dataframe tbody tr th:only-of-type {\n",
       "        vertical-align: middle;\n",
       "    }\n",
       "\n",
       "    .dataframe tbody tr th {\n",
       "        vertical-align: top;\n",
       "    }\n",
       "\n",
       "    .dataframe thead th {\n",
       "        text-align: right;\n",
       "    }\n",
       "</style>\n",
       "<table border=\"1\" class=\"dataframe\">\n",
       "  <thead>\n",
       "    <tr style=\"text-align: right;\">\n",
       "      <th></th>\n",
       "      <th>JCP2022</th>\n",
       "      <th>Metadata_Smiles</th>\n",
       "    </tr>\n",
       "  </thead>\n",
       "  <tbody>\n",
       "    <tr>\n",
       "      <th>0</th>\n",
       "      <td>JCP2022_000001</td>\n",
       "      <td>CCC1=NC=CN1c2cccc(n2)C3CCCN3C(=O)c4ccc(cc4)OCC...</td>\n",
       "    </tr>\n",
       "    <tr>\n",
       "      <th>1</th>\n",
       "      <td>JCP2022_000002</td>\n",
       "      <td>OC1=NCCCN1Cc2ccc(Cl)cc2</td>\n",
       "    </tr>\n",
       "  </tbody>\n",
       "</table>\n",
       "</div>"
      ],
      "text/plain": [
       "          JCP2022                                    Metadata_Smiles\n",
       "0  JCP2022_000001  CCC1=NC=CN1c2cccc(n2)C3CCCN3C(=O)c4ccc(cc4)OCC...\n",
       "1  JCP2022_000002                            OC1=NCCCN1Cc2ccc(Cl)cc2"
      ]
     },
     "execution_count": 61,
     "metadata": {},
     "output_type": "execute_result"
    },
    {
     "name": "stdout",
     "output_type": "stream",
     "text": [
      "Compounds with NaN smiles: \n"
     ]
    },
    {
     "data": {
      "text/html": [
       "<div>\n",
       "<style scoped>\n",
       "    .dataframe tbody tr th:only-of-type {\n",
       "        vertical-align: middle;\n",
       "    }\n",
       "\n",
       "    .dataframe tbody tr th {\n",
       "        vertical-align: top;\n",
       "    }\n",
       "\n",
       "    .dataframe thead th {\n",
       "        text-align: right;\n",
       "    }\n",
       "</style>\n",
       "<table border=\"1\" class=\"dataframe\">\n",
       "  <thead>\n",
       "    <tr style=\"text-align: right;\">\n",
       "      <th></th>\n",
       "      <th>JCP2022</th>\n",
       "      <th>Metadata_Smiles</th>\n",
       "    </tr>\n",
       "  </thead>\n",
       "  <tbody>\n",
       "  </tbody>\n",
       "</table>\n",
       "</div>"
      ],
      "text/plain": [
       "Empty DataFrame\n",
       "Columns: [JCP2022, Metadata_Smiles]\n",
       "Index: []"
      ]
     },
     "execution_count": 61,
     "metadata": {},
     "output_type": "execute_result"
    },
    {
     "data": {
      "text/html": [
       "<div>\n",
       "<style scoped>\n",
       "    .dataframe tbody tr th:only-of-type {\n",
       "        vertical-align: middle;\n",
       "    }\n",
       "\n",
       "    .dataframe tbody tr th {\n",
       "        vertical-align: top;\n",
       "    }\n",
       "\n",
       "    .dataframe thead th {\n",
       "        text-align: right;\n",
       "    }\n",
       "</style>\n",
       "<table border=\"1\" class=\"dataframe\">\n",
       "  <thead>\n",
       "    <tr style=\"text-align: right;\">\n",
       "      <th></th>\n",
       "      <th>JCP2022</th>\n",
       "      <th>Metadata_Smiles</th>\n",
       "    </tr>\n",
       "  </thead>\n",
       "  <tbody>\n",
       "    <tr>\n",
       "      <th>65736</th>\n",
       "      <td>JCP2022_065738</td>\n",
       "      <td>CN(C)C2=CC(Nc1ccc(I)cc1)=C(C3=NON=C23)[N+]([O-...</td>\n",
       "    </tr>\n",
       "    <tr>\n",
       "      <th>65737</th>\n",
       "      <td>JCP2022_065739</td>\n",
       "      <td>CC1(O)CCN(CC1Oc2cccc(F)c2)C(=O)c3ccc(cc3)OCCN4...</td>\n",
       "    </tr>\n",
       "    <tr>\n",
       "      <th>65738</th>\n",
       "      <td>JCP2022_065741</td>\n",
       "      <td>Cc1ccc(cc1S(=O)(=O)N2CCOCC2)C4C=CC(=Nc3ccccc3)...</td>\n",
       "    </tr>\n",
       "    <tr>\n",
       "      <th>65739</th>\n",
       "      <td>JCP2022_065742</td>\n",
       "      <td>CC2=CC(C(=O)CN1CCC(O)CC1)=C(C)N2c3ccc(Cl)cc3</td>\n",
       "    </tr>\n",
       "    <tr>\n",
       "      <th>65740</th>\n",
       "      <td>JCP2022_065743</td>\n",
       "      <td>Cc1cccc(c1)C3=NOC(CN=C(O)COc2ccc(C)c(C)c2)=N3</td>\n",
       "    </tr>\n",
       "  </tbody>\n",
       "</table>\n",
       "</div>"
      ],
      "text/plain": [
       "              JCP2022                                    Metadata_Smiles\n",
       "65736  JCP2022_065738  CN(C)C2=CC(Nc1ccc(I)cc1)=C(C3=NON=C23)[N+]([O-...\n",
       "65737  JCP2022_065739  CC1(O)CCN(CC1Oc2cccc(F)c2)C(=O)c3ccc(cc3)OCCN4...\n",
       "65738  JCP2022_065741  Cc1ccc(cc1S(=O)(=O)N2CCOCC2)C4C=CC(=Nc3ccccc3)...\n",
       "65739  JCP2022_065742       CC2=CC(C(=O)CN1CCC(O)CC1)=C(C)N2c3ccc(Cl)cc3\n",
       "65740  JCP2022_065743      Cc1cccc(c1)C3=NOC(CN=C(O)COc2ccc(C)c(C)c2)=N3"
      ]
     },
     "execution_count": 61,
     "metadata": {},
     "output_type": "execute_result"
    }
   ],
   "source": [
    "df_smiles.info()\n",
    "df_smiles.head(2)\n",
    "print(f\"Compounds with NaN smiles: \")\n",
    "df_smiles[df_smiles['Metadata_Smiles'].isna()]\n",
    "df_smiles.loc[65736:65740]"
   ]
  },
  {
   "cell_type": "code",
   "execution_count": 62,
   "id": "adc35aa2-2fd2-4487-af24-da98283272c9",
   "metadata": {
    "ExecuteTime": {
     "end_time": "2023-06-28T19:18:11.025979Z",
     "start_time": "2023-06-28T19:18:10.915424Z"
    },
    "execution": {
     "iopub.execute_input": "2024-10-23T19:52:56.640571Z",
     "iopub.status.busy": "2024-10-23T19:52:56.640099Z",
     "iopub.status.idle": "2024-10-23T19:52:56.720563Z",
     "shell.execute_reply": "2024-10-23T19:52:56.719841Z",
     "shell.execute_reply.started": "2024-10-23T19:52:56.640529Z"
    }
   },
   "outputs": [
    {
     "name": "stdout",
     "output_type": "stream",
     "text": [
      "<class 'pandas.core.frame.DataFrame'>\n",
      "RangeIndex: 116753 entries, 0 to 116752\n",
      "Data columns (total 4 columns):\n",
      " #   Column             Non-Null Count   Dtype \n",
      "---  ------             --------------   ----- \n",
      " 0   Metadata_JCP2022   116753 non-null  object\n",
      " 1   Metadata_InChIKey  116752 non-null  object\n",
      " 2   Metadata_InChI     116752 non-null  object\n",
      " 3   Metadata_Smiles    116751 non-null  object\n",
      "dtypes: object(4)\n",
      "memory usage: 3.6+ MB\n"
     ]
    },
    {
     "data": {
      "text/html": [
       "<div>\n",
       "<style scoped>\n",
       "    .dataframe tbody tr th:only-of-type {\n",
       "        vertical-align: middle;\n",
       "    }\n",
       "\n",
       "    .dataframe tbody tr th {\n",
       "        vertical-align: top;\n",
       "    }\n",
       "\n",
       "    .dataframe thead th {\n",
       "        text-align: right;\n",
       "    }\n",
       "</style>\n",
       "<table border=\"1\" class=\"dataframe\">\n",
       "  <thead>\n",
       "    <tr style=\"text-align: right;\">\n",
       "      <th></th>\n",
       "      <th>Metadata_JCP2022</th>\n",
       "      <th>Metadata_InChIKey</th>\n",
       "      <th>Metadata_InChI</th>\n",
       "      <th>Metadata_Smiles</th>\n",
       "    </tr>\n",
       "  </thead>\n",
       "  <tbody>\n",
       "    <tr>\n",
       "      <th>0</th>\n",
       "      <td>JCP2022_000001</td>\n",
       "      <td>AAAHWCWPZPSPIW-UHFFFAOYSA-N</td>\n",
       "      <td>InChI=1S/C25H31N5O2/c1-4-23-26-14-16-30(23)24-...</td>\n",
       "      <td>CCC1=NC=CN1c2cccc(n2)C3CCCN3C(=O)c4ccc(cc4)OCC...</td>\n",
       "    </tr>\n",
       "    <tr>\n",
       "      <th>1</th>\n",
       "      <td>JCP2022_000002</td>\n",
       "      <td>AAAJHRMBUHXWLD-UHFFFAOYSA-N</td>\n",
       "      <td>InChI=1S/C11H13ClN2O/c12-10-4-2-9(3-5-10)8-14-...</td>\n",
       "      <td>OC1=NCCCN1Cc2ccc(Cl)cc2</td>\n",
       "    </tr>\n",
       "  </tbody>\n",
       "</table>\n",
       "</div>"
      ],
      "text/plain": [
       "  Metadata_JCP2022            Metadata_InChIKey                                     Metadata_InChI                                    Metadata_Smiles\n",
       "0   JCP2022_000001  AAAHWCWPZPSPIW-UHFFFAOYSA-N  InChI=1S/C25H31N5O2/c1-4-23-26-14-16-30(23)24-...  CCC1=NC=CN1c2cccc(n2)C3CCCN3C(=O)c4ccc(cc4)OCC...\n",
       "1   JCP2022_000002  AAAJHRMBUHXWLD-UHFFFAOYSA-N  InChI=1S/C11H13ClN2O/c12-10-4-2-9(3-5-10)8-14-...                            OC1=NCCCN1Cc2ccc(Cl)cc2"
      ]
     },
     "execution_count": 62,
     "metadata": {},
     "output_type": "execute_result"
    },
    {
     "name": "stdout",
     "output_type": "stream",
     "text": [
      "Compounds with NaN smiles: \n"
     ]
    },
    {
     "data": {
      "text/html": [
       "<div>\n",
       "<style scoped>\n",
       "    .dataframe tbody tr th:only-of-type {\n",
       "        vertical-align: middle;\n",
       "    }\n",
       "\n",
       "    .dataframe tbody tr th {\n",
       "        vertical-align: top;\n",
       "    }\n",
       "\n",
       "    .dataframe thead th {\n",
       "        text-align: right;\n",
       "    }\n",
       "</style>\n",
       "<table border=\"1\" class=\"dataframe\">\n",
       "  <thead>\n",
       "    <tr style=\"text-align: right;\">\n",
       "      <th></th>\n",
       "      <th>Metadata_JCP2022</th>\n",
       "      <th>Metadata_InChIKey</th>\n",
       "      <th>Metadata_InChI</th>\n",
       "      <th>Metadata_Smiles</th>\n",
       "    </tr>\n",
       "  </thead>\n",
       "  <tbody>\n",
       "    <tr>\n",
       "      <th>65738</th>\n",
       "      <td>JCP2022_065740</td>\n",
       "      <td>ORYDPOVDJJZGHQ-UHFFFAOYSA-N</td>\n",
       "      <td>InChI=1S/C7H6N4O2/c8-7-9-11(13)6-4-2-1-3-5(6)1...</td>\n",
       "      <td>NaN</td>\n",
       "    </tr>\n",
       "    <tr>\n",
       "      <th>116752</th>\n",
       "      <td>JCP2022_999999</td>\n",
       "      <td>NaN</td>\n",
       "      <td>NaN</td>\n",
       "      <td>NaN</td>\n",
       "    </tr>\n",
       "  </tbody>\n",
       "</table>\n",
       "</div>"
      ],
      "text/plain": [
       "       Metadata_JCP2022            Metadata_InChIKey                                     Metadata_InChI Metadata_Smiles\n",
       "65738    JCP2022_065740  ORYDPOVDJJZGHQ-UHFFFAOYSA-N  InChI=1S/C7H6N4O2/c8-7-9-11(13)6-4-2-1-3-5(6)1...             NaN\n",
       "116752   JCP2022_999999                          NaN                                                NaN             NaN"
      ]
     },
     "execution_count": 62,
     "metadata": {},
     "output_type": "execute_result"
    },
    {
     "data": {
      "text/html": [
       "<div>\n",
       "<style scoped>\n",
       "    .dataframe tbody tr th:only-of-type {\n",
       "        vertical-align: middle;\n",
       "    }\n",
       "\n",
       "    .dataframe tbody tr th {\n",
       "        vertical-align: top;\n",
       "    }\n",
       "\n",
       "    .dataframe thead th {\n",
       "        text-align: right;\n",
       "    }\n",
       "</style>\n",
       "<table border=\"1\" class=\"dataframe\">\n",
       "  <thead>\n",
       "    <tr style=\"text-align: right;\">\n",
       "      <th></th>\n",
       "      <th>Metadata_JCP2022</th>\n",
       "      <th>Metadata_InChIKey</th>\n",
       "      <th>Metadata_InChI</th>\n",
       "      <th>Metadata_Smiles</th>\n",
       "    </tr>\n",
       "  </thead>\n",
       "  <tbody>\n",
       "    <tr>\n",
       "      <th>65736</th>\n",
       "      <td>JCP2022_065738</td>\n",
       "      <td>ORYBDSTVITXLOM-UHFFFAOYSA-N</td>\n",
       "      <td>InChI=1S/C14H12IN5O3/c1-19(2)11-7-10(16-9-5-3-...</td>\n",
       "      <td>CN(C)C2=CC(Nc1ccc(I)cc1)=C(C3=NON=C23)[N+]([O-...</td>\n",
       "    </tr>\n",
       "    <tr>\n",
       "      <th>65737</th>\n",
       "      <td>JCP2022_065739</td>\n",
       "      <td>ORYBLTNNDMTRNX-UHFFFAOYSA-N</td>\n",
       "      <td>InChI=1S/C25H31FN2O4/c1-25(30)11-14-28(18-23(2...</td>\n",
       "      <td>CC1(O)CCN(CC1Oc2cccc(F)c2)C(=O)c3ccc(cc3)OCCN4...</td>\n",
       "    </tr>\n",
       "    <tr>\n",
       "      <th>65738</th>\n",
       "      <td>JCP2022_065740</td>\n",
       "      <td>ORYDPOVDJJZGHQ-UHFFFAOYSA-N</td>\n",
       "      <td>InChI=1S/C7H6N4O2/c8-7-9-11(13)6-4-2-1-3-5(6)1...</td>\n",
       "      <td>NaN</td>\n",
       "    </tr>\n",
       "    <tr>\n",
       "      <th>65739</th>\n",
       "      <td>JCP2022_065741</td>\n",
       "      <td>ORYHMBVHFGOAIX-UHFFFAOYSA-N</td>\n",
       "      <td>InChI=1S/C21H22N4O3S/c1-16-7-8-17(15-20(16)29(...</td>\n",
       "      <td>Cc1ccc(cc1S(=O)(=O)N2CCOCC2)C4C=CC(=Nc3ccccc3)...</td>\n",
       "    </tr>\n",
       "    <tr>\n",
       "      <th>65740</th>\n",
       "      <td>JCP2022_065742</td>\n",
       "      <td>ORYIJHQLVLSPRM-UHFFFAOYSA-N</td>\n",
       "      <td>InChI=1S/C19H23ClN2O2/c1-13-11-18(19(24)12-21-...</td>\n",
       "      <td>CC2=CC(C(=O)CN1CCC(O)CC1)=C(C)N2c3ccc(Cl)cc3</td>\n",
       "    </tr>\n",
       "  </tbody>\n",
       "</table>\n",
       "</div>"
      ],
      "text/plain": [
       "      Metadata_JCP2022            Metadata_InChIKey                                     Metadata_InChI                                    Metadata_Smiles\n",
       "65736   JCP2022_065738  ORYBDSTVITXLOM-UHFFFAOYSA-N  InChI=1S/C14H12IN5O3/c1-19(2)11-7-10(16-9-5-3-...  CN(C)C2=CC(Nc1ccc(I)cc1)=C(C3=NON=C23)[N+]([O-...\n",
       "65737   JCP2022_065739  ORYBLTNNDMTRNX-UHFFFAOYSA-N  InChI=1S/C25H31FN2O4/c1-25(30)11-14-28(18-23(2...  CC1(O)CCN(CC1Oc2cccc(F)c2)C(=O)c3ccc(cc3)OCCN4...\n",
       "65738   JCP2022_065740  ORYDPOVDJJZGHQ-UHFFFAOYSA-N  InChI=1S/C7H6N4O2/c8-7-9-11(13)6-4-2-1-3-5(6)1...                                                NaN\n",
       "65739   JCP2022_065741  ORYHMBVHFGOAIX-UHFFFAOYSA-N  InChI=1S/C21H22N4O3S/c1-16-7-8-17(15-20(16)29(...  Cc1ccc(cc1S(=O)(=O)N2CCOCC2)C4C=CC(=Nc3ccccc3)...\n",
       "65740   JCP2022_065742  ORYIJHQLVLSPRM-UHFFFAOYSA-N  InChI=1S/C19H23ClN2O2/c1-13-11-18(19(24)12-21-...       CC2=CC(C(=O)CN1CCC(O)CC1)=C(C)N2c3ccc(Cl)cc3"
      ]
     },
     "execution_count": 62,
     "metadata": {},
     "output_type": "execute_result"
    }
   ],
   "source": [
    "df_compounds.info()\n",
    "df_compounds.head(2)\n",
    "print(f\"Compounds with NaN smiles: \")\n",
    "df_compounds[df_compounds['Metadata_Smiles'].isna()]\n",
    "df_compounds.loc[65736:65740]"
   ]
  },
  {
   "cell_type": "code",
   "execution_count": 60,
   "id": "1205b0ea",
   "metadata": {
    "ExecuteTime": {
     "end_time": "2023-06-28T19:18:15.415769Z",
     "start_time": "2023-06-28T19:18:15.352445Z"
    },
    "execution": {
     "iopub.execute_input": "2024-10-23T19:47:36.125201Z",
     "iopub.status.busy": "2024-10-23T19:47:36.124988Z",
     "iopub.status.idle": "2024-10-23T19:47:36.157479Z",
     "shell.execute_reply": "2024-10-23T19:47:36.156942Z",
     "shell.execute_reply.started": "2024-10-23T19:47:36.125180Z"
    },
    "scrolled": true
   },
   "outputs": [],
   "source": [
    "# df_smiles.info()\n",
    "# df_smiles.head(3)\n",
    "# df_smiles.tail(3)\n",
    "# df_smiles[df_smiles['smiles'].isna()]"
   ]
  },
  {
   "cell_type": "markdown",
   "id": "973e3467-9d42-43f3-9e5d-b0bd4d875dc8",
   "metadata": {
    "heading_collapsed": true,
    "hidden": true,
    "jp-MarkdownHeadingCollapsed": true
   },
   "source": [
    "## Drop rows with invalid smiles fingerprint \n",
    "\n",
    "drop rows with NaN / None in any column"
   ]
  },
  {
   "cell_type": "code",
   "execution_count": 51,
   "id": "b0612afd-87ff-4957-b2fb-9aca5559edd9",
   "metadata": {
    "execution": {
     "iopub.execute_input": "2024-10-23T19:39:10.084577Z",
     "iopub.status.busy": "2024-10-23T19:39:10.084115Z",
     "iopub.status.idle": "2024-10-23T19:39:10.137756Z",
     "shell.execute_reply": "2024-10-23T19:39:10.137053Z",
     "shell.execute_reply.started": "2024-10-23T19:39:10.084535Z"
    }
   },
   "outputs": [
    {
     "data": {
      "text/plain": [
       "116751"
      ]
     },
     "execution_count": 51,
     "metadata": {},
     "output_type": "execute_result"
    },
    {
     "data": {
      "text/plain": [
       "116751"
      ]
     },
     "execution_count": 51,
     "metadata": {},
     "output_type": "execute_result"
    }
   ],
   "source": [
    "len(df_smiles)\n",
    "df_smiles.dropna(axis=0, subset='Metadata_Smiles', inplace=True)\n",
    "len(df_smiles)"
   ]
  },
  {
   "cell_type": "code",
   "execution_count": 63,
   "id": "dd7766ce-8ba9-4d6e-8da8-394fd0e5466d",
   "metadata": {
    "execution": {
     "iopub.execute_input": "2024-10-23T19:53:33.995565Z",
     "iopub.status.busy": "2024-10-23T19:53:33.995102Z",
     "iopub.status.idle": "2024-10-23T19:53:34.055227Z",
     "shell.execute_reply": "2024-10-23T19:53:34.054435Z",
     "shell.execute_reply.started": "2024-10-23T19:53:33.995524Z"
    }
   },
   "outputs": [
    {
     "data": {
      "text/plain": [
       "116753"
      ]
     },
     "execution_count": 63,
     "metadata": {},
     "output_type": "execute_result"
    },
    {
     "data": {
      "text/plain": [
       "116751"
      ]
     },
     "execution_count": 63,
     "metadata": {},
     "output_type": "execute_result"
    }
   ],
   "source": [
    "len(df_compounds)\n",
    "df_compounds.dropna(axis=0, subset='Metadata_Smiles', inplace=True)\n",
    "len(df_compounds)"
   ]
  },
  {
   "cell_type": "markdown",
   "id": "4a53ec88-b899-4643-80d0-7ec0bf736a73",
   "metadata": {
    "hidden": true
   },
   "source": [
    "## Write compound metadata with valid SMILES fps to CSV file `./input/cp_compound_smiles_clean.csv`"
   ]
  },
  {
   "cell_type": "code",
   "execution_count": 66,
   "id": "951f08dd-dfa0-4e46-b685-43c979e95105",
   "metadata": {
    "ExecuteTime": {
     "end_time": "2023-05-24T15:17:24.377846Z",
     "start_time": "2023-05-24T15:17:24.365603Z"
    },
    "execution": {
     "iopub.execute_input": "2024-10-23T19:53:56.878371Z",
     "iopub.status.busy": "2024-10-23T19:53:56.877907Z",
     "iopub.status.idle": "2024-10-23T19:53:56.918707Z",
     "shell.execute_reply": "2024-10-23T19:53:56.917832Z",
     "shell.execute_reply.started": "2024-10-23T19:53:56.878329Z"
    },
    "hidden": true
   },
   "outputs": [
    {
     "name": "stdout",
     "output_type": "stream",
     "text": [
      " compound Metadata + Smiles Cleaned: ./output_10162024/compound_metadata_smiles.csv\n"
     ]
    }
   ],
   "source": [
    "print(f\" compound Metadata + Smiles Cleaned: {ds.compoundMetadataSmilesFile}\")\n",
    "# print(f\" compound Metadata + Smiles Cleaned: {ds.compoundMetadataSmilesCleanFile}\")"
   ]
  },
  {
   "cell_type": "code",
   "execution_count": 68,
   "id": "727d0375-79bf-42fa-9826-4b7232a36224",
   "metadata": {
    "ExecuteTime": {
     "end_time": "2023-05-24T15:17:27.650881Z",
     "start_time": "2023-05-24T15:17:27.321706Z"
    },
    "execution": {
     "iopub.execute_input": "2024-10-23T19:55:42.180700Z",
     "iopub.status.busy": "2024-10-23T19:55:42.180210Z",
     "iopub.status.idle": "2024-10-23T19:55:43.206804Z",
     "shell.execute_reply": "2024-10-23T19:55:43.205647Z",
     "shell.execute_reply.started": "2024-10-23T19:55:42.180658Z"
    },
    "hidden": true
   },
   "outputs": [],
   "source": [
    "df_compounds.to_csv(ds.compoundMetadataSmilesFile, index = False)"
   ]
  },
  {
   "cell_type": "markdown",
   "id": "9eaff95c",
   "metadata": {
    "heading_collapsed": true
   },
   "source": [
    "# Add TPSA - `Metadata_TPSA` column"
   ]
  },
  {
   "cell_type": "markdown",
   "id": "9a8f78e3-0310-4e6a-a22d-728518a94bc3",
   "metadata": {
    "ExecuteTime": {
     "end_time": "2023-05-24T15:12:06.272966Z",
     "start_time": "2023-05-24T15:12:06.261113Z"
    },
    "hidden": true
   },
   "source": [
    "## Get TPSA for compound, append to metadata dataframe and to df_TPSA "
   ]
  },
  {
   "cell_type": "code",
   "execution_count": 76,
   "id": "a64721b8-0064-48a2-8c4f-2dde2842a3d3",
   "metadata": {
    "execution": {
     "iopub.execute_input": "2024-10-23T19:59:51.230772Z",
     "iopub.status.busy": "2024-10-23T19:59:51.230269Z",
     "iopub.status.idle": "2024-10-23T19:59:51.828986Z",
     "shell.execute_reply": "2024-10-23T19:59:51.828233Z",
     "shell.execute_reply.started": "2024-10-23T19:59:51.230729Z"
    }
   },
   "outputs": [
    {
     "name": "stdout",
     "output_type": "stream",
     "text": [
      "<class 'pandas.core.frame.DataFrame'>\n",
      "Index: 116751 entries, 0 to 116751\n",
      "Data columns (total 5 columns):\n",
      " #   Column             Non-Null Count   Dtype \n",
      "---  ------             --------------   ----- \n",
      " 0   Metadata_JCP2022   116751 non-null  object\n",
      " 1   Metadata_InChIKey  116751 non-null  object\n",
      " 2   Metadata_InChI     116751 non-null  object\n",
      " 3   Metadata_Smiles    116751 non-null  object\n",
      " 4   Metadata_TPSA      116751 non-null  object\n",
      "dtypes: object(5)\n",
      "memory usage: 9.4+ MB\n"
     ]
    }
   ],
   "source": [
    "df_compounds.info()"
   ]
  },
  {
   "cell_type": "code",
   "execution_count": 77,
   "id": "0dcff221",
   "metadata": {
    "ExecuteTime": {
     "end_time": "2023-06-28T19:19:26.052216Z",
     "start_time": "2023-06-28T19:18:28.126867Z"
    },
    "execution": {
     "iopub.execute_input": "2024-10-23T19:59:55.180711Z",
     "iopub.status.busy": "2024-10-23T19:59:55.180243Z",
     "iopub.status.idle": "2024-10-23T20:01:19.846275Z",
     "shell.execute_reply": "2024-10-23T20:01:19.845031Z",
     "shell.execute_reply.started": "2024-10-23T19:59:55.180670Z"
    },
    "hidden": true,
    "scrolled": true
   },
   "outputs": [
    {
     "name": "stdout",
     "output_type": "stream",
     "text": [
      "getTPSAFromRDKit() input parmL limit: -1 \t append_column :  True \t verbose: False\n",
      " Metadata_TPSA column exists\n",
      " 21:59:55.219449 | 0 rows processed \n",
      " 21:59:55.405320 | 250 rows processed \n",
      " 21:59:55.585781 | 500 rows processed \n",
      " 21:59:55.767704 | 750 rows processed \n",
      " 21:59:55.947401 | 1000 rows processed \n",
      " 21:59:56.132524 | 1250 rows processed \n"
     ]
    },
    {
     "name": "stderr",
     "output_type": "stream",
     "text": [
      "[21:59:56] WARNING:  Problems/mismatches: Mobile-H( Hydrogens: Locations or number, Number; Mobile-H groups: One instead of multiple, Attachment points, Number; Charge(s): Do not match)\n",
      "\n"
     ]
    },
    {
     "name": "stdout",
     "output_type": "stream",
     "text": [
      " 21:59:56.320422 | 1500 rows processed \n",
      " 21:59:56.502921 | 1750 rows processed \n",
      " 21:59:56.685398 | 2000 rows processed \n",
      " 21:59:56.863196 | 2250 rows processed \n",
      " 21:59:57.045584 | 2500 rows processed \n",
      " 21:59:57.227370 | 2750 rows processed \n"
     ]
    },
    {
     "name": "stderr",
     "output_type": "stream",
     "text": [
      "[21:59:57] WARNING:  Problems/mismatches: Mobile-H( Hydrogens: Locations or number, Number; Charge(s): Do not match)\n",
      "\n"
     ]
    },
    {
     "name": "stdout",
     "output_type": "stream",
     "text": [
      " 21:59:57.409281 | 3000 rows processed \n",
      " 21:59:57.590417 | 3250 rows processed \n"
     ]
    },
    {
     "name": "stderr",
     "output_type": "stream",
     "text": [
      "[21:59:57] WARNING:  Problems/mismatches: Mobile-H( Mobile-H groups: Attachment points, Number)\n",
      "\n"
     ]
    },
    {
     "name": "stdout",
     "output_type": "stream",
     "text": [
      " 21:59:57.771414 | 3500 rows processed \n",
      " 21:59:57.953125 | 3750 rows processed \n",
      " 21:59:58.134520 | 4000 rows processed \n",
      " 21:59:58.315790 | 4250 rows processed \n",
      " 21:59:58.502612 | 4500 rows processed \n",
      " 21:59:58.680204 | 4750 rows processed \n",
      " 21:59:58.862596 | 5000 rows processed \n",
      " 21:59:59.047894 | 5250 rows processed \n",
      " 21:59:59.227008 | 5500 rows processed \n",
      " 21:59:59.405583 | 5750 rows processed \n"
     ]
    },
    {
     "name": "stderr",
     "output_type": "stream",
     "text": [
      "[21:59:59] WARNING:  Problems/mismatches: Mobile-H( Hydrogens: Number; Mobile-H groups: One instead of multiple, Attachment points, Number; Charge(s): Do not match)\n",
      "\n"
     ]
    },
    {
     "name": "stdout",
     "output_type": "stream",
     "text": [
      " 21:59:59.588924 | 6000 rows processed \n",
      " 21:59:59.770161 | 6250 rows processed \n",
      " 21:59:59.950173 | 6500 rows processed \n",
      " 22:00:00.130873 | 6750 rows processed \n",
      " 22:00:00.309319 | 7000 rows processed \n",
      " 22:00:00.490646 | 7250 rows processed \n",
      " 22:00:00.674711 | 7500 rows processed \n",
      " 22:00:00.851316 | 7750 rows processed \n",
      " 22:00:01.031252 | 8000 rows processed \n",
      " 22:00:01.210844 | 8250 rows processed \n",
      " 22:00:01.388879 | 8500 rows processed \n",
      " 22:00:01.568360 | 8750 rows processed \n",
      " 22:00:01.750871 | 9000 rows processed \n",
      " 22:00:01.929633 | 9250 rows processed \n",
      " 22:00:02.108447 | 9500 rows processed \n",
      " 22:00:02.289617 | 9750 rows processed \n",
      " 22:00:02.472703 | 10000 rows processed \n",
      " 22:00:02.652723 | 10250 rows processed \n",
      " 22:00:02.837351 | 10500 rows processed \n",
      " 22:00:03.018862 | 10750 rows processed \n",
      " 22:00:03.197889 | 11000 rows processed \n",
      " 22:00:03.375618 | 11250 rows processed \n"
     ]
    },
    {
     "name": "stderr",
     "output_type": "stream",
     "text": [
      "[22:00:03] WARNING:  Problems/mismatches: Mobile-H( Hydrogens: Locations or number, Number; Mobile-H groups: One instead of multiple, Attachment points, Number; Charge(s): Do not match; Proton balance: Does not match)\n",
      "\n"
     ]
    },
    {
     "name": "stdout",
     "output_type": "stream",
     "text": [
      " 22:00:03.556039 | 11500 rows processed \n",
      " 22:00:03.735178 | 11750 rows processed \n",
      " 22:00:03.917486 | 12000 rows processed \n",
      " 22:00:04.096264 | 12250 rows processed \n",
      " 22:00:04.278039 | 12500 rows processed \n",
      " 22:00:04.460032 | 12750 rows processed \n"
     ]
    },
    {
     "name": "stderr",
     "output_type": "stream",
     "text": [
      "[22:00:04] WARNING:  Problems/mismatches: Mobile-H( Hydrogens: Number; Mobile-H groups: One instead of multiple, Attachment points, Number; Charge(s): Do not match)\n",
      "\n"
     ]
    },
    {
     "name": "stdout",
     "output_type": "stream",
     "text": [
      " 22:00:04.642682 | 13000 rows processed \n",
      " 22:00:04.820420 | 13250 rows processed \n",
      " 22:00:05.006969 | 13500 rows processed \n",
      " 22:00:05.186603 | 13750 rows processed \n",
      " 22:00:05.365396 | 14000 rows processed \n",
      " 22:00:05.547575 | 14250 rows processed \n",
      " 22:00:05.730161 | 14500 rows processed \n",
      " 22:00:05.910435 | 14750 rows processed \n",
      " 22:00:06.091783 | 15000 rows processed \n",
      " 22:00:06.270930 | 15250 rows processed \n",
      " 22:00:06.450209 | 15500 rows processed \n",
      " 22:00:06.628218 | 15750 rows processed \n",
      " 22:00:06.808684 | 16000 rows processed \n",
      " 22:00:06.987708 | 16250 rows processed \n",
      " 22:00:07.171486 | 16500 rows processed \n",
      " 22:00:07.353230 | 16750 rows processed \n",
      " 22:00:07.531911 | 17000 rows processed \n",
      " 22:00:07.712906 | 17250 rows processed \n",
      " 22:00:07.895057 | 17500 rows processed \n",
      " 22:00:08.073767 | 17750 rows processed \n",
      " 22:00:08.251726 | 18000 rows processed \n",
      " 22:00:08.432157 | 18250 rows processed \n",
      " 22:00:08.615786 | 18500 rows processed \n",
      " 22:00:08.797370 | 18750 rows processed \n",
      " 22:00:08.976226 | 19000 rows processed \n",
      " 22:00:09.154035 | 19250 rows processed \n",
      " 22:00:09.340733 | 19500 rows processed \n",
      " 22:00:09.518827 | 19750 rows processed \n",
      " 22:00:09.698120 | 20000 rows processed \n",
      " 22:00:09.875034 | 20250 rows processed \n"
     ]
    },
    {
     "name": "stderr",
     "output_type": "stream",
     "text": [
      "[22:00:10] WARNING:  Problems/mismatches: Mobile-H( Hydrogens: Locations or number; Mobile-H groups: Attachment points, Number)\n",
      "\n"
     ]
    },
    {
     "name": "stdout",
     "output_type": "stream",
     "text": [
      " 22:00:10.055389 | 20500 rows processed \n",
      " 22:00:10.236001 | 20750 rows processed \n",
      " 22:00:10.421861 | 21000 rows processed \n",
      " 22:00:10.602639 | 21250 rows processed \n",
      " 22:00:10.785034 | 21500 rows processed \n",
      " 22:00:10.965750 | 21750 rows processed \n",
      " 22:00:11.147624 | 22000 rows processed \n",
      " 22:00:11.327841 | 22250 rows processed \n",
      " 22:00:11.512501 | 22500 rows processed \n",
      " 22:00:11.692965 | 22750 rows processed \n",
      " 22:00:11.872530 | 23000 rows processed \n",
      " 22:00:12.054423 | 23250 rows processed \n",
      " 22:00:12.241754 | 23500 rows processed \n",
      " 22:00:12.422661 | 23750 rows processed \n",
      " 22:00:12.609570 | 24000 rows processed \n",
      " 22:00:12.789618 | 24250 rows processed \n"
     ]
    },
    {
     "name": "stderr",
     "output_type": "stream",
     "text": [
      "[22:00:12] WARNING:  Problems/mismatches: Mobile-H( Hydrogens: Locations or number, Number; Mobile-H groups: One instead of multiple, Attachment points, Number; Charge(s): Do not match)\n",
      "\n"
     ]
    },
    {
     "name": "stdout",
     "output_type": "stream",
     "text": [
      " 22:00:12.973680 | 24500 rows processed \n",
      " 22:00:13.154985 | 24750 rows processed \n",
      " 22:00:13.339901 | 25000 rows processed \n",
      " 22:00:13.519715 | 25250 rows processed \n",
      " 22:00:13.699732 | 25500 rows processed \n",
      " 22:00:13.878200 | 25750 rows processed \n",
      " 22:00:14.063336 | 26000 rows processed \n",
      " 22:00:14.248218 | 26250 rows processed \n",
      " 22:00:14.429855 | 26500 rows processed \n",
      " 22:00:14.610620 | 26750 rows processed \n",
      " 22:00:14.791576 | 27000 rows processed \n",
      " 22:00:14.974979 | 27250 rows processed \n",
      " 22:00:15.158723 | 27500 rows processed \n",
      " 22:00:15.340174 | 27750 rows processed \n",
      " 22:00:15.531593 | 28000 rows processed \n",
      " 22:00:15.708606 | 28250 rows processed \n",
      " 22:00:15.895558 | 28500 rows processed \n",
      " 22:00:16.077026 | 28750 rows processed \n"
     ]
    },
    {
     "name": "stderr",
     "output_type": "stream",
     "text": [
      "[22:00:16] WARNING:  Problems/mismatches: Mobile-H( Mobile-H groups: Attachment points, Number)\n",
      "\n"
     ]
    },
    {
     "name": "stdout",
     "output_type": "stream",
     "text": [
      " 22:00:16.260847 | 29000 rows processed \n",
      " 22:00:16.440133 | 29250 rows processed \n",
      " 22:00:16.621551 | 29500 rows processed \n",
      " 22:00:16.802324 | 29750 rows processed \n",
      " 22:00:16.985876 | 30000 rows processed \n",
      " 22:00:17.162276 | 30250 rows processed \n"
     ]
    },
    {
     "name": "stderr",
     "output_type": "stream",
     "text": [
      "[22:00:17] WARNING:  Problems/mismatches: Mobile-H( Hydrogens: Locations or number, Number; Mobile-H groups: One instead of multiple, Attachment points, Number; Charge(s): Do not match; Proton balance: Does not match)\n",
      "\n"
     ]
    },
    {
     "name": "stdout",
     "output_type": "stream",
     "text": [
      " 22:00:17.346363 | 30500 rows processed \n",
      " 22:00:17.527305 | 30750 rows processed \n"
     ]
    },
    {
     "name": "stderr",
     "output_type": "stream",
     "text": [
      "[22:00:17] WARNING:  Problems/mismatches: Mobile-H( Hydrogens: Locations or number; Mobile-H groups: Attachment points, Number)\n",
      "\n"
     ]
    },
    {
     "name": "stdout",
     "output_type": "stream",
     "text": [
      " 22:00:17.704163 | 31000 rows processed \n",
      " 22:00:17.885776 | 31250 rows processed \n",
      " 22:00:18.071384 | 31500 rows processed \n",
      " 22:00:18.252114 | 31750 rows processed \n",
      " 22:00:18.431963 | 32000 rows processed \n",
      " 22:00:18.609239 | 32250 rows processed \n",
      " 22:00:18.787277 | 32500 rows processed \n",
      " 22:00:18.966709 | 32750 rows processed \n",
      " 22:00:19.144748 | 33000 rows processed \n",
      " 22:00:19.325791 | 33250 rows processed \n",
      " 22:00:19.507554 | 33500 rows processed \n",
      " 22:00:19.685915 | 33750 rows processed \n",
      " 22:00:19.863549 | 34000 rows processed \n",
      " 22:00:20.040812 | 34250 rows processed \n",
      " 22:00:20.224339 | 34500 rows processed \n",
      " 22:00:20.400925 | 34750 rows processed \n",
      " 22:00:20.580664 | 35000 rows processed \n",
      " 22:00:20.758015 | 35250 rows processed \n"
     ]
    },
    {
     "name": "stderr",
     "output_type": "stream",
     "text": [
      "[22:00:20] WARNING:  Problems/mismatches: Mobile-H( Mobile-H groups: Attachment points, Number)\n",
      "\n"
     ]
    },
    {
     "name": "stdout",
     "output_type": "stream",
     "text": [
      " 22:00:20.942678 | 35500 rows processed \n",
      " 22:00:21.121608 | 35750 rows processed \n",
      " 22:00:21.302644 | 36000 rows processed \n",
      " 22:00:21.481069 | 36250 rows processed \n",
      " 22:00:21.659490 | 36500 rows processed \n",
      " 22:00:21.842097 | 36750 rows processed \n",
      " 22:00:22.024799 | 37000 rows processed \n",
      " 22:00:22.201719 | 37250 rows processed \n",
      " 22:00:22.383529 | 37500 rows processed \n",
      " 22:00:22.564131 | 37750 rows processed \n",
      " 22:00:22.744078 | 38000 rows processed \n",
      " 22:00:22.926272 | 38250 rows processed \n",
      " 22:00:23.105206 | 38500 rows processed \n",
      " 22:00:23.284703 | 38750 rows processed \n",
      " 22:00:23.464456 | 39000 rows processed \n",
      " 22:00:23.643019 | 39250 rows processed \n",
      " 22:00:23.827332 | 39500 rows processed \n",
      " 22:00:24.010250 | 39750 rows processed \n",
      " 22:00:24.191652 | 40000 rows processed \n",
      " 22:00:24.371255 | 40250 rows processed \n"
     ]
    },
    {
     "name": "stderr",
     "output_type": "stream",
     "text": [
      "[22:00:24] WARNING:  Problems/mismatches: Mobile-H( Mobile-H groups: One instead of multiple, Attachment points, Number)\n",
      "\n"
     ]
    },
    {
     "name": "stdout",
     "output_type": "stream",
     "text": [
      " 22:00:24.557767 | 40500 rows processed \n",
      " 22:00:24.738929 | 40750 rows processed \n"
     ]
    },
    {
     "name": "stderr",
     "output_type": "stream",
     "text": [
      "[22:00:24] WARNING:  Problems/mismatches: Mobile-H( Mobile-H groups: Attachment points, Number)\n",
      "\n",
      "[22:00:24] WARNING:  Problems/mismatches: Mobile-H( Hydrogens: Number; Mobile-H groups: One instead of multiple, Attachment points, Number; Charge(s): Do not match)\n",
      "\n"
     ]
    },
    {
     "name": "stdout",
     "output_type": "stream",
     "text": [
      " 22:00:24.921088 | 41000 rows processed \n",
      " 22:00:25.101203 | 41250 rows processed \n"
     ]
    },
    {
     "name": "stderr",
     "output_type": "stream",
     "text": [
      "[22:00:25] Unusual charge on atom 3 number of radical electrons set to zero\n"
     ]
    },
    {
     "name": "stdout",
     "output_type": "stream",
     "text": [
      " 22:00:25.279757 | 41500 rows processed \n",
      " 22:00:25.462915 | 41750 rows processed \n"
     ]
    },
    {
     "name": "stderr",
     "output_type": "stream",
     "text": [
      "[22:00:25] WARNING:  Problems/mismatches: Mobile-H( Hydrogens: Locations or number, Number; Mobile-H groups: One instead of multiple, Attachment points, Number; Charge(s): Do not match)\n",
      "\n"
     ]
    },
    {
     "name": "stdout",
     "output_type": "stream",
     "text": [
      " 22:00:25.643721 | 42000 rows processed \n",
      " 22:00:25.824100 | 42250 rows processed \n",
      " 22:00:26.005145 | 42500 rows processed \n",
      " 22:00:26.183124 | 42750 rows processed \n",
      " 22:00:26.364068 | 43000 rows processed \n",
      " 22:00:26.543639 | 43250 rows processed \n",
      " 22:00:26.728707 | 43500 rows processed \n",
      " 22:00:26.909644 | 43750 rows processed \n",
      " 22:00:27.091042 | 44000 rows processed \n",
      " 22:00:27.270839 | 44250 rows processed \n",
      " 22:00:27.451383 | 44500 rows processed \n",
      " 22:00:27.632740 | 44750 rows processed \n",
      " 22:00:27.812301 | 45000 rows processed \n",
      " 22:00:27.992178 | 45250 rows processed \n",
      " 22:00:28.170451 | 45500 rows processed \n",
      " 22:00:28.352286 | 45750 rows processed \n",
      " 22:00:28.546350 | 46000 rows processed \n",
      " 22:00:28.727746 | 46250 rows processed \n",
      " 22:00:28.909044 | 46500 rows processed \n",
      " 22:00:29.089401 | 46750 rows processed \n"
     ]
    },
    {
     "name": "stderr",
     "output_type": "stream",
     "text": [
      "[22:00:29] WARNING:  Problems/mismatches: Mobile-H( Hydrogens: Locations or number, Number; Mobile-H groups: Attachment points, Number; Charge(s): Do not match)\n",
      "\n"
     ]
    },
    {
     "name": "stdout",
     "output_type": "stream",
     "text": [
      " 22:00:29.272203 | 47000 rows processed \n",
      " 22:00:29.450204 | 47250 rows processed \n",
      " 22:00:29.627213 | 47500 rows processed \n",
      " 22:00:29.809977 | 47750 rows processed \n",
      " 22:00:29.990106 | 48000 rows processed \n",
      " 22:00:30.168180 | 48250 rows processed \n",
      " 22:00:30.354525 | 48500 rows processed \n",
      " 22:00:30.538327 | 48750 rows processed \n",
      " 22:00:30.717891 | 49000 rows processed \n",
      " 22:00:30.897989 | 49250 rows processed \n",
      " 22:00:31.083056 | 49500 rows processed \n",
      " 22:00:31.265609 | 49750 rows processed \n",
      " 22:00:31.445320 | 50000 rows processed \n",
      " 22:00:31.622217 | 50250 rows processed \n",
      " 22:00:31.802742 | 50500 rows processed \n",
      " 22:00:31.984280 | 50750 rows processed \n",
      " 22:00:32.163650 | 51000 rows processed \n",
      " 22:00:32.347754 | 51250 rows processed \n",
      " 22:00:32.528807 | 51500 rows processed \n",
      " 22:00:32.708446 | 51750 rows processed \n",
      " 22:00:32.890674 | 52000 rows processed \n",
      " 22:00:33.068403 | 52250 rows processed \n",
      " 22:00:33.251290 | 52500 rows processed \n",
      " 22:00:33.431550 | 52750 rows processed \n",
      " 22:00:33.612800 | 53000 rows processed \n",
      " 22:00:33.791359 | 53250 rows processed \n",
      " 22:00:33.973104 | 53500 rows processed \n",
      " 22:00:34.153013 | 53750 rows processed \n",
      " 22:00:34.332417 | 54000 rows processed \n",
      " 22:00:34.511386 | 54250 rows processed \n",
      " 22:00:34.693761 | 54500 rows processed \n",
      " 22:00:34.870298 | 54750 rows processed \n",
      " 22:00:35.050372 | 55000 rows processed \n",
      " 22:00:35.231680 | 55250 rows processed \n",
      " 22:00:35.412649 | 55500 rows processed \n",
      " 22:00:35.595597 | 55750 rows processed \n",
      " 22:00:35.772987 | 56000 rows processed \n",
      " 22:00:35.952391 | 56250 rows processed \n",
      " 22:00:36.131680 | 56500 rows processed \n",
      " 22:00:36.309922 | 56750 rows processed \n"
     ]
    },
    {
     "name": "stderr",
     "output_type": "stream",
     "text": [
      "[22:00:36] WARNING:  Problems/mismatches: Mobile-H( Hydrogens: Locations or number, Number; Mobile-H groups: One instead of multiple, Attachment points, Number; Charge(s): Do not match)\n",
      "\n"
     ]
    },
    {
     "name": "stdout",
     "output_type": "stream",
     "text": [
      " 22:00:36.496383 | 57000 rows processed \n",
      " 22:00:36.675838 | 57250 rows processed \n",
      " 22:00:36.857874 | 57500 rows processed \n",
      " 22:00:37.038372 | 57750 rows processed \n",
      " 22:00:37.220971 | 58000 rows processed \n",
      " 22:00:37.402250 | 58250 rows processed \n",
      " 22:00:37.583132 | 58500 rows processed \n",
      " 22:00:37.768156 | 58750 rows processed \n",
      " 22:00:37.950824 | 59000 rows processed \n",
      " 22:00:38.132961 | 59250 rows processed \n",
      " 22:00:38.312044 | 59500 rows processed \n",
      " 22:00:38.489894 | 59750 rows processed \n",
      " 22:00:38.668718 | 60000 rows processed \n",
      " 22:00:38.848466 | 60250 rows processed \n",
      " 22:00:39.028337 | 60500 rows processed \n",
      " 22:00:39.208383 | 60750 rows processed \n",
      " 22:00:39.389126 | 61000 rows processed \n",
      " 22:00:39.571551 | 61250 rows processed \n",
      " 22:00:39.752171 | 61500 rows processed \n",
      " 22:00:39.932445 | 61750 rows processed \n",
      " 22:00:40.112729 | 62000 rows processed \n",
      " 22:00:40.293310 | 62250 rows processed \n",
      " 22:00:40.473204 | 62500 rows processed \n",
      " 22:00:40.653807 | 62750 rows processed \n",
      " 22:00:40.834758 | 63000 rows processed \n",
      " 22:00:41.014157 | 63250 rows processed \n",
      " 22:00:41.195243 | 63500 rows processed \n",
      " 22:00:41.377566 | 63750 rows processed \n",
      " 22:00:41.564016 | 64000 rows processed \n",
      " 22:00:41.743419 | 64250 rows processed \n",
      " 22:00:41.923925 | 64500 rows processed \n",
      " 22:00:42.106087 | 64750 rows processed \n",
      " 22:00:42.287333 | 65000 rows processed \n",
      " 22:00:42.468331 | 65250 rows processed \n",
      " 22:00:42.646746 | 65500 rows processed \n",
      " 22:00:42.825746 | 65750 rows processed \n",
      " 22:00:43.006919 | 66000 rows processed \n",
      " 22:00:43.186276 | 66250 rows processed \n",
      " 22:00:43.365367 | 66500 rows processed \n",
      " 22:00:43.543387 | 66750 rows processed \n",
      " 22:00:43.725044 | 67000 rows processed \n",
      " 22:00:43.911210 | 67250 rows processed \n",
      " 22:00:44.094586 | 67500 rows processed \n",
      " 22:00:44.276556 | 67750 rows processed \n",
      " 22:00:44.456228 | 68000 rows processed \n",
      " 22:00:44.633203 | 68250 rows processed \n",
      " 22:00:44.815050 | 68500 rows processed \n",
      " 22:00:44.993806 | 68750 rows processed \n",
      " 22:00:45.176110 | 69000 rows processed \n",
      " 22:00:45.354938 | 69250 rows processed \n",
      " 22:00:45.535368 | 69500 rows processed \n",
      " 22:00:45.711644 | 69750 rows processed \n",
      " 22:00:45.892754 | 70000 rows processed \n",
      " 22:00:46.072878 | 70250 rows processed \n",
      " 22:00:46.251698 | 70500 rows processed \n",
      " 22:00:46.432746 | 70750 rows processed \n",
      " 22:00:46.612991 | 71000 rows processed \n",
      " 22:00:46.799513 | 71250 rows processed \n",
      " 22:00:46.986973 | 71500 rows processed \n",
      " 22:00:47.166187 | 71750 rows processed \n",
      " 22:00:47.348519 | 72000 rows processed \n",
      " 22:00:47.527241 | 72250 rows processed \n",
      " 22:00:47.709894 | 72500 rows processed \n",
      " 22:00:47.889383 | 72750 rows processed \n",
      " 22:00:48.070018 | 73000 rows processed \n",
      " 22:00:48.250212 | 73250 rows processed \n",
      " 22:00:48.429145 | 73500 rows processed \n",
      " 22:00:48.609472 | 73750 rows processed \n",
      " 22:00:48.793653 | 74000 rows processed \n",
      " 22:00:48.971756 | 74250 rows processed \n",
      " 22:00:49.151998 | 74500 rows processed \n",
      " 22:00:49.331763 | 74750 rows processed \n",
      " 22:00:49.510027 | 75000 rows processed \n",
      " 22:00:49.692818 | 75250 rows processed \n"
     ]
    },
    {
     "name": "stderr",
     "output_type": "stream",
     "text": [
      "[22:00:49] WARNING:  Problems/mismatches: Mobile-H( Hydrogens: Locations or number, Number; Mobile-H groups: One instead of multiple, Attachment points, Number; Charge(s): Do not match)\n",
      "\n"
     ]
    },
    {
     "name": "stdout",
     "output_type": "stream",
     "text": [
      " 22:00:49.874619 | 75500 rows processed \n",
      " 22:00:50.057364 | 75750 rows processed \n",
      " 22:00:50.241223 | 76000 rows processed \n",
      " 22:00:50.420821 | 76250 rows processed \n"
     ]
    },
    {
     "name": "stderr",
     "output_type": "stream",
     "text": [
      "[22:00:50] WARNING:  Problems/mismatches: Mobile-H( Hydrogens: Locations or number, Number; Mobile-H groups: One instead of multiple, Attachment points, Number; Charge(s): Do not match; Proton balance: Does not match)\n",
      "\n",
      "[22:00:50] WARNING:  Problems/mismatches: Mobile-H( Hydrogens: Number; Mobile-H groups: One instead of multiple, Attachment points, Number; Charge(s): Do not match)\n",
      "\n"
     ]
    },
    {
     "name": "stdout",
     "output_type": "stream",
     "text": [
      " 22:00:50.601037 | 76500 rows processed \n",
      " 22:00:50.787477 | 76750 rows processed \n",
      " 22:00:50.970937 | 77000 rows processed \n",
      " 22:00:51.153878 | 77250 rows processed \n",
      " 22:00:51.330306 | 77500 rows processed \n",
      " 22:00:51.513356 | 77750 rows processed \n",
      " 22:00:51.692172 | 78000 rows processed \n",
      " 22:00:51.871529 | 78250 rows processed \n",
      " 22:00:52.053646 | 78500 rows processed \n",
      " 22:00:52.231464 | 78750 rows processed \n",
      " 22:00:52.412423 | 79000 rows processed \n",
      " 22:00:52.594240 | 79250 rows processed \n",
      " 22:00:52.774752 | 79500 rows processed \n",
      " 22:00:52.957761 | 79750 rows processed \n",
      " 22:00:53.139063 | 80000 rows processed \n",
      " 22:00:53.317358 | 80250 rows processed \n"
     ]
    },
    {
     "name": "stderr",
     "output_type": "stream",
     "text": [
      "[22:00:53] WARNING:  Problems/mismatches: Mobile-H( Hydrogens: Number; Mobile-H groups: Number; Charge(s): Do not match)\n",
      "\n"
     ]
    },
    {
     "name": "stdout",
     "output_type": "stream",
     "text": [
      " 22:00:53.499820 | 80500 rows processed \n",
      " 22:00:53.678827 | 80750 rows processed \n"
     ]
    },
    {
     "name": "stderr",
     "output_type": "stream",
     "text": [
      "[22:00:53] WARNING:  Problems/mismatches: Mobile-H( Hydrogens: Locations or number; Mobile-H groups: Missing, Attachment points)\n",
      "\n"
     ]
    },
    {
     "name": "stdout",
     "output_type": "stream",
     "text": [
      " 22:00:53.860134 | 81000 rows processed \n",
      " 22:00:54.039569 | 81250 rows processed \n",
      " 22:00:54.222887 | 81500 rows processed \n",
      " 22:00:54.402899 | 81750 rows processed \n",
      " 22:00:54.583399 | 82000 rows processed \n",
      " 22:00:54.765442 | 82250 rows processed \n"
     ]
    },
    {
     "name": "stderr",
     "output_type": "stream",
     "text": [
      "[22:00:54] WARNING:  Problems/mismatches: Mobile-H( Hydrogens: Locations or number; Mobile-H groups: One instead of multiple, Attachment points, Number)\n",
      "\n"
     ]
    },
    {
     "name": "stdout",
     "output_type": "stream",
     "text": [
      " 22:00:54.953071 | 82500 rows processed \n",
      " 22:00:55.141159 | 82750 rows processed \n",
      " 22:00:55.325766 | 83000 rows processed \n",
      " 22:00:55.502661 | 83250 rows processed \n",
      " 22:00:55.683395 | 83500 rows processed \n",
      " 22:00:55.862109 | 83750 rows processed \n",
      " 22:00:56.041653 | 84000 rows processed \n",
      " 22:00:56.220962 | 84250 rows processed \n",
      " 22:00:56.400892 | 84500 rows processed \n",
      " 22:00:56.581121 | 84750 rows processed \n",
      " 22:00:56.762157 | 85000 rows processed \n",
      " 22:00:56.940172 | 85250 rows processed \n",
      " 22:00:57.121218 | 85500 rows processed \n",
      " 22:00:57.308013 | 85750 rows processed \n",
      " 22:00:57.488563 | 86000 rows processed \n",
      " 22:00:57.664605 | 86250 rows processed \n",
      " 22:00:57.846115 | 86500 rows processed \n",
      " 22:00:58.025542 | 86750 rows processed \n",
      " 22:00:58.204924 | 87000 rows processed \n",
      " 22:00:58.385436 | 87250 rows processed \n",
      " 22:00:58.567570 | 87500 rows processed \n",
      " 22:00:58.745440 | 87750 rows processed \n",
      " 22:00:58.922579 | 88000 rows processed \n",
      " 22:00:59.104008 | 88250 rows processed \n",
      " 22:00:59.284042 | 88500 rows processed \n",
      " 22:00:59.468028 | 88750 rows processed \n",
      " 22:00:59.649090 | 89000 rows processed \n",
      " 22:00:59.830207 | 89250 rows processed \n",
      " 22:01:00.010589 | 89500 rows processed \n",
      " 22:01:00.189062 | 89750 rows processed \n",
      " 22:01:00.368566 | 90000 rows processed \n",
      " 22:01:00.548813 | 90250 rows processed \n",
      " 22:01:00.727980 | 90500 rows processed \n",
      " 22:01:00.906108 | 90750 rows processed \n",
      " 22:01:01.088483 | 91000 rows processed \n",
      " 22:01:01.270009 | 91250 rows processed \n",
      " 22:01:01.452164 | 91500 rows processed \n",
      " 22:01:01.635577 | 91750 rows processed \n",
      " 22:01:01.820082 | 92000 rows processed \n",
      " 22:01:02.001033 | 92250 rows processed \n",
      " 22:01:02.182269 | 92500 rows processed \n",
      " 22:01:02.362135 | 92750 rows processed \n",
      " 22:01:02.541658 | 93000 rows processed \n",
      " 22:01:02.721755 | 93250 rows processed \n",
      " 22:01:02.902418 | 93500 rows processed \n",
      " 22:01:03.083014 | 93750 rows processed \n",
      " 22:01:03.264434 | 94000 rows processed \n",
      " 22:01:03.448561 | 94250 rows processed \n",
      " 22:01:03.640595 | 94500 rows processed \n",
      " 22:01:03.826875 | 94750 rows processed \n",
      " 22:01:04.007893 | 95000 rows processed \n",
      " 22:01:04.188547 | 95250 rows processed \n",
      " 22:01:04.369136 | 95500 rows processed \n",
      " 22:01:04.554778 | 95750 rows processed \n",
      " 22:01:04.733815 | 96000 rows processed \n",
      " 22:01:04.911315 | 96250 rows processed \n",
      " 22:01:05.094495 | 96500 rows processed \n",
      " 22:01:05.273503 | 96750 rows processed \n"
     ]
    },
    {
     "name": "stderr",
     "output_type": "stream",
     "text": [
      "[22:01:05] WARNING:  Problems/mismatches: Mobile-H( Mobile-H groups: Multiple instead of one, Number)\n",
      "\n"
     ]
    },
    {
     "name": "stdout",
     "output_type": "stream",
     "text": [
      " 22:01:05.458930 | 97000 rows processed \n",
      " 22:01:05.639521 | 97250 rows processed \n"
     ]
    },
    {
     "name": "stderr",
     "output_type": "stream",
     "text": [
      "[22:01:05] WARNING:  Problems/mismatches: Mobile-H( Mobile-H groups: Attachment points, Number)\n",
      "\n"
     ]
    },
    {
     "name": "stdout",
     "output_type": "stream",
     "text": [
      " 22:01:05.823021 | 97500 rows processed \n",
      " 22:01:06.008843 | 97750 rows processed \n",
      " 22:01:06.193567 | 98000 rows processed \n",
      " 22:01:06.369086 | 98250 rows processed \n",
      " 22:01:06.547928 | 98500 rows processed \n",
      " 22:01:06.726979 | 98750 rows processed \n",
      " 22:01:06.907896 | 99000 rows processed \n",
      " 22:01:07.087483 | 99250 rows processed \n"
     ]
    },
    {
     "name": "stderr",
     "output_type": "stream",
     "text": [
      "[22:01:07] WARNING:  Problems/mismatches: Mobile-H( Hydrogens: Number; Mobile-H groups: Missing, Attachment points; Charge(s): Do not match; Proton balance: Does not match)\n",
      "\n"
     ]
    },
    {
     "name": "stdout",
     "output_type": "stream",
     "text": [
      " 22:01:07.264517 | 99500 rows processed \n",
      " 22:01:07.448347 | 99750 rows processed \n",
      " 22:01:07.633208 | 100000 rows processed \n",
      " 22:01:07.812631 | 100250 rows processed \n",
      " 22:01:07.995210 | 100500 rows processed \n",
      " 22:01:08.179313 | 100750 rows processed \n",
      " 22:01:08.359685 | 101000 rows processed \n",
      " 22:01:08.537748 | 101250 rows processed \n",
      " 22:01:08.718181 | 101500 rows processed \n",
      " 22:01:08.897310 | 101750 rows processed \n",
      " 22:01:09.075771 | 102000 rows processed \n",
      " 22:01:09.253313 | 102250 rows processed \n",
      " 22:01:09.431247 | 102500 rows processed \n",
      " 22:01:09.609951 | 102750 rows processed \n",
      " 22:01:09.788318 | 103000 rows processed \n",
      " 22:01:09.963725 | 103250 rows processed \n",
      " 22:01:10.147111 | 103500 rows processed \n",
      " 22:01:10.328282 | 103750 rows processed \n",
      " 22:01:10.512205 | 104000 rows processed \n",
      " 22:01:10.687249 | 104250 rows processed \n",
      " 22:01:10.868062 | 104500 rows processed \n",
      " 22:01:11.047933 | 104750 rows processed \n",
      " 22:01:11.227902 | 105000 rows processed \n",
      " 22:01:11.409414 | 105250 rows processed \n",
      " 22:01:11.593409 | 105500 rows processed \n",
      " 22:01:11.770939 | 105750 rows processed \n"
     ]
    },
    {
     "name": "stderr",
     "output_type": "stream",
     "text": [
      "[22:01:11] WARNING:  Problems/mismatches: Mobile-H( Mobile-H groups: Attachment points, Number)\n",
      "\n"
     ]
    },
    {
     "name": "stdout",
     "output_type": "stream",
     "text": [
      " 22:01:11.953540 | 106000 rows processed \n",
      " 22:01:12.132735 | 106250 rows processed \n"
     ]
    },
    {
     "name": "stderr",
     "output_type": "stream",
     "text": [
      "[22:01:12] WARNING:  Problems/mismatches: Mobile-H( Hydrogens: Number; Mobile-H groups: One instead of multiple, Number; Charge(s): Do not match; Proton balance: Does not match)\n",
      "\n"
     ]
    },
    {
     "name": "stdout",
     "output_type": "stream",
     "text": [
      " 22:01:12.314300 | 106500 rows processed \n",
      " 22:01:12.495704 | 106750 rows processed \n",
      " 22:01:12.676255 | 107000 rows processed \n",
      " 22:01:12.857609 | 107250 rows processed \n",
      " 22:01:13.042408 | 107500 rows processed \n",
      " 22:01:13.220352 | 107750 rows processed \n",
      " 22:01:13.397579 | 108000 rows processed \n",
      " 22:01:13.577765 | 108250 rows processed \n",
      " 22:01:13.757095 | 108500 rows processed \n",
      " 22:01:13.936325 | 108750 rows processed \n",
      " 22:01:14.118300 | 109000 rows processed \n",
      " 22:01:14.302478 | 109250 rows processed \n"
     ]
    },
    {
     "name": "stderr",
     "output_type": "stream",
     "text": [
      "[22:01:14] WARNING:  Problems/mismatches: Mobile-H( Mobile-H groups: Attachment points, Number)\n",
      "\n"
     ]
    },
    {
     "name": "stdout",
     "output_type": "stream",
     "text": [
      " 22:01:14.488605 | 109500 rows processed \n",
      " 22:01:14.669398 | 109750 rows processed \n"
     ]
    },
    {
     "name": "stderr",
     "output_type": "stream",
     "text": [
      "[22:01:14] WARNING:  Problems/mismatches: Mobile-H( Mobile-H groups: Attachment points, Number)\n",
      "\n"
     ]
    },
    {
     "name": "stdout",
     "output_type": "stream",
     "text": [
      " 22:01:14.853441 | 110000 rows processed \n",
      " 22:01:15.036789 | 110250 rows processed \n"
     ]
    },
    {
     "name": "stderr",
     "output_type": "stream",
     "text": [
      "[22:01:15] WARNING:  Problems/mismatches: Mobile-H( Hydrogens: Number; Mobile-H groups: One instead of multiple, Attachment points, Number; Charge(s): Do not match)\n",
      "\n"
     ]
    },
    {
     "name": "stdout",
     "output_type": "stream",
     "text": [
      " 22:01:15.219141 | 110500 rows processed \n",
      " 22:01:15.398266 | 110750 rows processed \n",
      " 22:01:15.579453 | 111000 rows processed \n",
      " 22:01:15.759454 | 111250 rows processed \n",
      " 22:01:15.939065 | 111500 rows processed \n",
      " 22:01:16.117894 | 111750 rows processed \n",
      " 22:01:16.295622 | 112000 rows processed \n",
      " 22:01:16.474786 | 112250 rows processed \n",
      " 22:01:16.660197 | 112500 rows processed \n",
      " 22:01:16.844798 | 112750 rows processed \n",
      " 22:01:17.028656 | 113000 rows processed \n",
      " 22:01:17.208161 | 113250 rows processed \n",
      " 22:01:17.400687 | 113500 rows processed \n",
      " 22:01:17.584409 | 113750 rows processed \n",
      " 22:01:17.769176 | 114000 rows processed \n",
      " 22:01:17.956469 | 114250 rows processed \n",
      " 22:01:18.140069 | 114500 rows processed \n",
      " 22:01:18.323013 | 114750 rows processed \n",
      " 22:01:18.518199 | 115000 rows processed \n",
      " 22:01:18.698337 | 115250 rows processed \n",
      " 22:01:18.879622 | 115500 rows processed \n",
      " 22:01:19.065902 | 115750 rows processed \n",
      " 22:01:19.252418 | 116000 rows processed \n",
      " 22:01:19.434660 | 116250 rows processed \n",
      " 22:01:19.620032 | 116500 rows processed \n",
      " 22:01:19.801514 | 116750 rows processed \n",
      "\n",
      " ------------------------------------------------------------------------- \n",
      " Results of processing   \n",
      " ------------------------------------------------------------------------- \n",
      "                                          Total Input: 116751\n",
      " rows with missing InChiKey in input                 :      0  \n",
      " rows with no MOL object returned from RDKit         :      0       \n",
      " rows with valid MOL                                 : 116751   \n",
      " rows with TPSA not calculated                       :      0    \n",
      " rows with with valid TPSA                           : 116751\n",
      " ------------------------------------------------------------------------- \n",
      "\n",
      "\n"
     ]
    }
   ],
   "source": [
    "## Get mol and SMILES for each InChI in the input file \n",
    "df_compounds_tpsa, df_tpsa = getTPSAFromRDKit(df_compounds, limit = -1, append_col=True, verbose = False)"
   ]
  },
  {
   "cell_type": "markdown",
   "id": "b578f3ff",
   "metadata": {
    "ExecuteTime": {
     "end_time": "2023-05-24T15:12:06.272966Z",
     "start_time": "2023-05-24T15:12:06.261113Z"
    },
    "hidden": true
   },
   "source": [
    "## Check metadata dataframe "
   ]
  },
  {
   "cell_type": "code",
   "execution_count": 80,
   "id": "b7cf1ff7",
   "metadata": {
    "ExecuteTime": {
     "end_time": "2023-06-28T19:19:42.445738Z",
     "start_time": "2023-06-28T19:19:42.309038Z"
    },
    "execution": {
     "iopub.execute_input": "2024-10-23T20:02:59.021753Z",
     "iopub.status.busy": "2024-10-23T20:02:59.021340Z",
     "iopub.status.idle": "2024-10-23T20:02:59.156771Z",
     "shell.execute_reply": "2024-10-23T20:02:59.156210Z",
     "shell.execute_reply.started": "2024-10-23T20:02:59.021712Z"
    },
    "hidden": true,
    "scrolled": true
   },
   "outputs": [
    {
     "name": "stdout",
     "output_type": "stream",
     "text": [
      "<class 'pandas.core.frame.DataFrame'>\n",
      "Index: 116751 entries, 0 to 116751\n",
      "Data columns (total 5 columns):\n",
      " #   Column             Non-Null Count   Dtype \n",
      "---  ------             --------------   ----- \n",
      " 0   Metadata_JCP2022   116751 non-null  object\n",
      " 1   Metadata_InChIKey  116751 non-null  object\n",
      " 2   Metadata_InChI     116751 non-null  object\n",
      " 3   Metadata_Smiles    116751 non-null  object\n",
      " 4   Metadata_TPSA      116751 non-null  object\n",
      "dtypes: object(5)\n",
      "memory usage: 9.4+ MB\n"
     ]
    },
    {
     "data": {
      "text/html": [
       "<div>\n",
       "<style scoped>\n",
       "    .dataframe tbody tr th:only-of-type {\n",
       "        vertical-align: middle;\n",
       "    }\n",
       "\n",
       "    .dataframe tbody tr th {\n",
       "        vertical-align: top;\n",
       "    }\n",
       "\n",
       "    .dataframe thead th {\n",
       "        text-align: right;\n",
       "    }\n",
       "</style>\n",
       "<table border=\"1\" class=\"dataframe\">\n",
       "  <thead>\n",
       "    <tr style=\"text-align: right;\">\n",
       "      <th></th>\n",
       "      <th>Metadata_JCP2022</th>\n",
       "      <th>Metadata_InChIKey</th>\n",
       "      <th>Metadata_InChI</th>\n",
       "      <th>Metadata_Smiles</th>\n",
       "      <th>Metadata_TPSA</th>\n",
       "    </tr>\n",
       "  </thead>\n",
       "  <tbody>\n",
       "    <tr>\n",
       "      <th>0</th>\n",
       "      <td>JCP2022_000001</td>\n",
       "      <td>AAAHWCWPZPSPIW-UHFFFAOYSA-N</td>\n",
       "      <td>InChI=1S/C25H31N5O2/c1-4-23-26-14-16-30(23)24-...</td>\n",
       "      <td>CCC1=NC=CN1c2cccc(n2)C3CCCN3C(=O)c4ccc(cc4)OCC...</td>\n",
       "      <td>63.49</td>\n",
       "    </tr>\n",
       "    <tr>\n",
       "      <th>1</th>\n",
       "      <td>JCP2022_000002</td>\n",
       "      <td>AAAJHRMBUHXWLD-UHFFFAOYSA-N</td>\n",
       "      <td>InChI=1S/C11H13ClN2O/c12-10-4-2-9(3-5-10)8-14-...</td>\n",
       "      <td>OC1=NCCCN1Cc2ccc(Cl)cc2</td>\n",
       "      <td>35.83</td>\n",
       "    </tr>\n",
       "    <tr>\n",
       "      <th>2</th>\n",
       "      <td>JCP2022_000003</td>\n",
       "      <td>AAALVYBICLMAMA-UHFFFAOYSA-N</td>\n",
       "      <td>InChI=1S/C20H15N3O2/c24-19-15-11-17(21-13-7-3-...</td>\n",
       "      <td>OC2=NC(=O)c3cc(Nc1ccccc1)c(cc23)Nc4ccccc4</td>\n",
       "      <td>73.72</td>\n",
       "    </tr>\n",
       "  </tbody>\n",
       "</table>\n",
       "</div>"
      ],
      "text/plain": [
       "  Metadata_JCP2022            Metadata_InChIKey                                     Metadata_InChI                                    Metadata_Smiles Metadata_TPSA\n",
       "0   JCP2022_000001  AAAHWCWPZPSPIW-UHFFFAOYSA-N  InChI=1S/C25H31N5O2/c1-4-23-26-14-16-30(23)24-...  CCC1=NC=CN1c2cccc(n2)C3CCCN3C(=O)c4ccc(cc4)OCC...         63.49\n",
       "1   JCP2022_000002  AAAJHRMBUHXWLD-UHFFFAOYSA-N  InChI=1S/C11H13ClN2O/c12-10-4-2-9(3-5-10)8-14-...                            OC1=NCCCN1Cc2ccc(Cl)cc2         35.83\n",
       "2   JCP2022_000003  AAALVYBICLMAMA-UHFFFAOYSA-N  InChI=1S/C20H15N3O2/c24-19-15-11-17(21-13-7-3-...          OC2=NC(=O)c3cc(Nc1ccccc1)c(cc23)Nc4ccccc4         73.72"
      ]
     },
     "execution_count": 80,
     "metadata": {},
     "output_type": "execute_result"
    },
    {
     "data": {
      "text/html": [
       "<div>\n",
       "<style scoped>\n",
       "    .dataframe tbody tr th:only-of-type {\n",
       "        vertical-align: middle;\n",
       "    }\n",
       "\n",
       "    .dataframe tbody tr th {\n",
       "        vertical-align: top;\n",
       "    }\n",
       "\n",
       "    .dataframe thead th {\n",
       "        text-align: right;\n",
       "    }\n",
       "</style>\n",
       "<table border=\"1\" class=\"dataframe\">\n",
       "  <thead>\n",
       "    <tr style=\"text-align: right;\">\n",
       "      <th></th>\n",
       "      <th>Metadata_JCP2022</th>\n",
       "      <th>Metadata_InChIKey</th>\n",
       "      <th>Metadata_InChI</th>\n",
       "      <th>Metadata_Smiles</th>\n",
       "      <th>Metadata_TPSA</th>\n",
       "    </tr>\n",
       "  </thead>\n",
       "  <tbody>\n",
       "    <tr>\n",
       "      <th>116749</th>\n",
       "      <td>JCP2022_116751</td>\n",
       "      <td>ZZZUOLMMTJKOGE-UHFFFAOYSA-N</td>\n",
       "      <td>InChI=1S/C19H17N5O2/c1-23-9-6-13-7-10-24(19(26...</td>\n",
       "      <td>CN4C=CC3C=CN(CCN=C(O)c2cnc1ccccc1n2)C(=O)C=34</td>\n",
       "      <td>85.3</td>\n",
       "    </tr>\n",
       "    <tr>\n",
       "      <th>116750</th>\n",
       "      <td>JCP2022_116752</td>\n",
       "      <td>ZZZZIBSVRUABIA-UHFFFAOYSA-N</td>\n",
       "      <td>InChI=1S/C19H13F6N3O2S/c1-11-26-6-5-17(27-11)1...</td>\n",
       "      <td>Cc1nccc(n1)c2cccc(c2)NS(=O)(=O)c3cc(cc(c3)C(F)...</td>\n",
       "      <td>71.95</td>\n",
       "    </tr>\n",
       "    <tr>\n",
       "      <th>116751</th>\n",
       "      <td>JCP2022_116753</td>\n",
       "      <td>ZZZZVNLQWWXZTQ-UHFFFAOYSA-N</td>\n",
       "      <td>InChI=1S/C14H20N2O3/c1-18-13-5-3-2-4-12(13)14(...</td>\n",
       "      <td>COc1ccccc1C(O)=NCCN2CCOCC2</td>\n",
       "      <td>54.29</td>\n",
       "    </tr>\n",
       "  </tbody>\n",
       "</table>\n",
       "</div>"
      ],
      "text/plain": [
       "       Metadata_JCP2022            Metadata_InChIKey                                     Metadata_InChI                                    Metadata_Smiles Metadata_TPSA\n",
       "116749   JCP2022_116751  ZZZUOLMMTJKOGE-UHFFFAOYSA-N  InChI=1S/C19H17N5O2/c1-23-9-6-13-7-10-24(19(26...      CN4C=CC3C=CN(CCN=C(O)c2cnc1ccccc1n2)C(=O)C=34          85.3\n",
       "116750   JCP2022_116752  ZZZZIBSVRUABIA-UHFFFAOYSA-N  InChI=1S/C19H13F6N3O2S/c1-11-26-6-5-17(27-11)1...  Cc1nccc(n1)c2cccc(c2)NS(=O)(=O)c3cc(cc(c3)C(F)...         71.95\n",
       "116751   JCP2022_116753  ZZZZVNLQWWXZTQ-UHFFFAOYSA-N  InChI=1S/C14H20N2O3/c1-18-13-5-3-2-4-12(13)14(...                         COc1ccccc1C(O)=NCCN2CCOCC2         54.29"
      ]
     },
     "execution_count": 80,
     "metadata": {},
     "output_type": "execute_result"
    },
    {
     "name": "stdout",
     "output_type": "stream",
     "text": [
      "Compounds with NaN TPSA: \n"
     ]
    },
    {
     "data": {
      "text/html": [
       "<div>\n",
       "<style scoped>\n",
       "    .dataframe tbody tr th:only-of-type {\n",
       "        vertical-align: middle;\n",
       "    }\n",
       "\n",
       "    .dataframe tbody tr th {\n",
       "        vertical-align: top;\n",
       "    }\n",
       "\n",
       "    .dataframe thead th {\n",
       "        text-align: right;\n",
       "    }\n",
       "</style>\n",
       "<table border=\"1\" class=\"dataframe\">\n",
       "  <thead>\n",
       "    <tr style=\"text-align: right;\">\n",
       "      <th></th>\n",
       "      <th>Metadata_JCP2022</th>\n",
       "      <th>Metadata_InChIKey</th>\n",
       "      <th>Metadata_InChI</th>\n",
       "      <th>Metadata_Smiles</th>\n",
       "      <th>Metadata_TPSA</th>\n",
       "    </tr>\n",
       "  </thead>\n",
       "  <tbody>\n",
       "  </tbody>\n",
       "</table>\n",
       "</div>"
      ],
      "text/plain": [
       "Empty DataFrame\n",
       "Columns: [Metadata_JCP2022, Metadata_InChIKey, Metadata_InChI, Metadata_Smiles, Metadata_TPSA]\n",
       "Index: []"
      ]
     },
     "execution_count": 80,
     "metadata": {},
     "output_type": "execute_result"
    },
    {
     "name": "stdout",
     "output_type": "stream",
     "text": [
      "Compounds with Zero TPSA: 60\n"
     ]
    },
    {
     "data": {
      "text/html": [
       "<div>\n",
       "<style scoped>\n",
       "    .dataframe tbody tr th:only-of-type {\n",
       "        vertical-align: middle;\n",
       "    }\n",
       "\n",
       "    .dataframe tbody tr th {\n",
       "        vertical-align: top;\n",
       "    }\n",
       "\n",
       "    .dataframe thead th {\n",
       "        text-align: right;\n",
       "    }\n",
       "</style>\n",
       "<table border=\"1\" class=\"dataframe\">\n",
       "  <thead>\n",
       "    <tr style=\"text-align: right;\">\n",
       "      <th></th>\n",
       "      <th>Metadata_JCP2022</th>\n",
       "      <th>Metadata_InChIKey</th>\n",
       "      <th>Metadata_InChI</th>\n",
       "      <th>Metadata_Smiles</th>\n",
       "      <th>Metadata_TPSA</th>\n",
       "    </tr>\n",
       "  </thead>\n",
       "  <tbody>\n",
       "    <tr>\n",
       "      <th>134</th>\n",
       "      <td>JCP2022_000135</td>\n",
       "      <td>AAQOQKQBGPPFNS-UHFFFAOYSA-N</td>\n",
       "      <td>InChI=1S/C11H17BrN/c1-4-13(2,3)9-10-7-5-6-8-11...</td>\n",
       "      <td>CC[N+](C)(C)Cc1ccccc1Br</td>\n",
       "      <td>0.0</td>\n",
       "    </tr>\n",
       "    <tr>\n",
       "      <th>5457</th>\n",
       "      <td>JCP2022_005458</td>\n",
       "      <td>BCQZXOMGPXTTIC-UHFFFAOYSA-N</td>\n",
       "      <td>InChI=1S/C2HBrClF3/c3-1(4)2(5,6)7/h1H</td>\n",
       "      <td>FC(F)(F)C(Cl)Br</td>\n",
       "      <td>0.0</td>\n",
       "    </tr>\n",
       "    <tr>\n",
       "      <th>8035</th>\n",
       "      <td>JCP2022_008036</td>\n",
       "      <td>BQOFWKZOCNGFEC-UHFFFAOYSA-N</td>\n",
       "      <td>InChI=1S/C10H16/c1-7-4-5-8-9(6-7)10(8,2)3/h4,8...</td>\n",
       "      <td>CC1CC2C(CC=1)C2(C)C</td>\n",
       "      <td>0.0</td>\n",
       "    </tr>\n",
       "    <tr>\n",
       "      <th>8377</th>\n",
       "      <td>JCP2022_008378</td>\n",
       "      <td>BSMYVBKDBCUVBF-UHFFFAOYSA-N</td>\n",
       "      <td>InChI=1S/C22H32N/c1-6-20(16-18(2)21-10-8-7-9-1...</td>\n",
       "      <td>CCC(CC(C)c1ccccc1)c2ccc(C[N+](C)(C)C)cc2</td>\n",
       "      <td>0.0</td>\n",
       "    </tr>\n",
       "    <tr>\n",
       "      <th>10111</th>\n",
       "      <td>JCP2022_010112</td>\n",
       "      <td>CBXCPBUEXACCNR-UHFFFAOYSA-N</td>\n",
       "      <td>InChI=1S/C8H20N/c1-5-9(6-2,7-3)8-4/h5-8H2,1-4H...</td>\n",
       "      <td>CC[N+](CC)(CC)CC</td>\n",
       "      <td>0.0</td>\n",
       "    </tr>\n",
       "    <tr>\n",
       "      <th>13018</th>\n",
       "      <td>JCP2022_013019</td>\n",
       "      <td>CRPUJAZIXJMDBK-UHFFFAOYSA-N</td>\n",
       "      <td>InChI=1S/C10H16/c1-7-8-4-5-9(6-8)10(7,2)3/h8-9...</td>\n",
       "      <td>CC1(C)C(=C)C2CC1CC2</td>\n",
       "      <td>0.0</td>\n",
       "    </tr>\n",
       "    <tr>\n",
       "      <th>14190</th>\n",
       "      <td>JCP2022_014191</td>\n",
       "      <td>CYDRXTMLKJDRQH-UHFFFAOYSA-N</td>\n",
       "      <td>InChI=1S/C21H38N/c1-4-5-6-7-8-9-10-11-12-16-19...</td>\n",
       "      <td>CCCCCCCCCCCC[N+](C)(C)Cc1ccccc1</td>\n",
       "      <td>0.0</td>\n",
       "    </tr>\n",
       "    <tr>\n",
       "      <th>14400</th>\n",
       "      <td>JCP2022_014401</td>\n",
       "      <td>CZDYPVPMEAXLPK-UHFFFAOYSA-N</td>\n",
       "      <td>InChI=1S/C4H12Si/c1-5(2,3)4/h1-4H3</td>\n",
       "      <td>C[Si](C)(C)C</td>\n",
       "      <td>0.0</td>\n",
       "    </tr>\n",
       "    <tr>\n",
       "      <th>16125</th>\n",
       "      <td>JCP2022_016126</td>\n",
       "      <td>DIMMBYOINZRKMD-UHFFFAOYSA-N</td>\n",
       "      <td>InChI=1S/V/q+5</td>\n",
       "      <td>[V+5]</td>\n",
       "      <td>0.0</td>\n",
       "    </tr>\n",
       "    <tr>\n",
       "      <th>21236</th>\n",
       "      <td>JCP2022_021237</td>\n",
       "      <td>FKNQFGJONOIPTF-UHFFFAOYSA-N</td>\n",
       "      <td>InChI=1S/Na/q+1</td>\n",
       "      <td>[Na+]</td>\n",
       "      <td>0.0</td>\n",
       "    </tr>\n",
       "    <tr>\n",
       "      <th>21600</th>\n",
       "      <td>JCP2022_021601</td>\n",
       "      <td>FMMWHPNWAFZXNH-UHFFFAOYSA-N</td>\n",
       "      <td>InChI=1S/C20H12/c1-2-7-17-15(4-1)12-16-9-8-13-...</td>\n",
       "      <td>c1ccc2c(c1)cc3ccc4cccc5ccc2c3c45</td>\n",
       "      <td>0.0</td>\n",
       "    </tr>\n",
       "    <tr>\n",
       "      <th>21659</th>\n",
       "      <td>JCP2022_021660</td>\n",
       "      <td>FMVKCNOAGUSJQW-UHFFFAOYSA-N</td>\n",
       "      <td>InChI=1S/C18H16S/c1-14-12-13-17(19-14)18(15-8-...</td>\n",
       "      <td>CC1=CC=C(S1)C(c2ccccc2)c3ccccc3</td>\n",
       "      <td>0.0</td>\n",
       "    </tr>\n",
       "    <tr>\n",
       "      <th>23414</th>\n",
       "      <td>JCP2022_023415</td>\n",
       "      <td>FWKQNCXZGNBPFD-UHFFFAOYSA-N</td>\n",
       "      <td>InChI=1S/C15H18/c1-10(2)13-7-5-11(3)14-8-6-12(...</td>\n",
       "      <td>CC(C)c2ccc(C)c1ccc(C)c1c2</td>\n",
       "      <td>0.0</td>\n",
       "    </tr>\n",
       "    <tr>\n",
       "      <th>23421</th>\n",
       "      <td>JCP2022_023422</td>\n",
       "      <td>FWLORMQUOWCQPO-UHFFFAOYSA-N</td>\n",
       "      <td>InChI=1S/C27H50N/c1-4-5-6-7-8-9-10-11-12-13-14...</td>\n",
       "      <td>CCCCCCCCCCCCCCCCCC[N+](C)(C)Cc1ccccc1</td>\n",
       "      <td>0.0</td>\n",
       "    </tr>\n",
       "    <tr>\n",
       "      <th>27359</th>\n",
       "      <td>JCP2022_027360</td>\n",
       "      <td>GRWFGVWFFZKLTI-UHFFFAOYSA-N</td>\n",
       "      <td>InChI=1S/C10H16/c1-7-4-5-8-6-9(7)10(8,2)3/h4,8...</td>\n",
       "      <td>CC1=CCC2CC1C2(C)C</td>\n",
       "      <td>0.0</td>\n",
       "    </tr>\n",
       "    <tr>\n",
       "      <th>29339</th>\n",
       "      <td>JCP2022_029341</td>\n",
       "      <td>HCNGUXXTNNIKCQ-UHFFFAOYSA-N</td>\n",
       "      <td>InChI=1S/Mo/q+6</td>\n",
       "      <td>[Mo+6]</td>\n",
       "      <td>0.0</td>\n",
       "    </tr>\n",
       "    <tr>\n",
       "      <th>29890</th>\n",
       "      <td>JCP2022_029892</td>\n",
       "      <td>HFPZCAJZSCWRBC-UHFFFAOYSA-N</td>\n",
       "      <td>InChI=1S/C10H14/c1-8(2)10-6-4-9(3)5-7-10/h4-8H...</td>\n",
       "      <td>CC(C)c1ccc(C)cc1</td>\n",
       "      <td>0.0</td>\n",
       "    </tr>\n",
       "    <tr>\n",
       "      <th>32192</th>\n",
       "      <td>JCP2022_032194</td>\n",
       "      <td>HRZQNDWDAPBHSB-UHFFFAOYSA-N</td>\n",
       "      <td>InChI=1S/C15H36N2/c1-7-8-9-10-11-14-17(5,6)15-...</td>\n",
       "      <td>CCCCCCC[N+](C)(C)CCC[N+](C)(C)C</td>\n",
       "      <td>0.0</td>\n",
       "    </tr>\n",
       "    <tr>\n",
       "      <th>37158</th>\n",
       "      <td>JCP2022_037160</td>\n",
       "      <td>ISPYNXGXZRLLHM-UHFFFAOYSA-N</td>\n",
       "      <td>InChI=1S/C15H9Cl2F3/c16-13-7-11(8-14(17)9-13)2...</td>\n",
       "      <td>FC(F)(F)c2ccc(C=Cc1cc(Cl)cc(Cl)c1)cc2</td>\n",
       "      <td>0.0</td>\n",
       "    </tr>\n",
       "    <tr>\n",
       "      <th>38237</th>\n",
       "      <td>JCP2022_038239</td>\n",
       "      <td>IYYZUPMFVPLQIF-UHFFFAOYSA-N</td>\n",
       "      <td>InChI=1S/C12H8S/c1-3-7-11-9(5-1)10-6-2-4-8-12(...</td>\n",
       "      <td>c1ccc3c(c1)Sc2ccccc23</td>\n",
       "      <td>0.0</td>\n",
       "    </tr>\n",
       "    <tr>\n",
       "      <th>40830</th>\n",
       "      <td>JCP2022_040832</td>\n",
       "      <td>JMYNPQVCVQVODQ-UHFFFAOYSA-N</td>\n",
       "      <td>InChI=1S/C14H9Cl3/c15-12-5-3-10(4-6-12)1-2-11-...</td>\n",
       "      <td>Clc2ccc(C=Cc1cc(Cl)cc(Cl)c1)cc2</td>\n",
       "      <td>0.0</td>\n",
       "    </tr>\n",
       "    <tr>\n",
       "      <th>41302</th>\n",
       "      <td>JCP2022_041304</td>\n",
       "      <td>JPOJMYYCSNHYRY-UHFFFAOYSA-N</td>\n",
       "      <td>InChI=1S/3Na.V/q;;;+8</td>\n",
       "      <td>[Na].[Na].[Na].[V+8]</td>\n",
       "      <td>0.0</td>\n",
       "    </tr>\n",
       "    <tr>\n",
       "      <th>42497</th>\n",
       "      <td>JCP2022_042499</td>\n",
       "      <td>JWBOIMRXGHLCPP-UHFFFAOYSA-N</td>\n",
       "      <td>InChI=1S/C14H10Cl4/c15-10-7-5-9(6-8-10)13(14(1...</td>\n",
       "      <td>ClC(Cl)C(c1ccc(Cl)cc1)c2ccccc2Cl</td>\n",
       "      <td>0.0</td>\n",
       "    </tr>\n",
       "    <tr>\n",
       "      <th>42864</th>\n",
       "      <td>JCP2022_042866</td>\n",
       "      <td>JXZGMDYNCUEGNH-UHFFFAOYSA-N</td>\n",
       "      <td>InChI=1S/C34H46N/c1-33(2,3)31-18-14-27(15-19-3...</td>\n",
       "      <td>CC(C)(C)c4ccc(CC3CCC[N+](Cc1ccccc1)(Cc2ccc(cc2...</td>\n",
       "      <td>0.0</td>\n",
       "    </tr>\n",
       "    <tr>\n",
       "      <th>47662</th>\n",
       "      <td>JCP2022_047664</td>\n",
       "      <td>KXSFECAJUBPPFE-UHFFFAOYSA-N</td>\n",
       "      <td>InChI=1S/C12H8S3/c1-3-9(13-7-1)11-5-6-12(15-11...</td>\n",
       "      <td>C1=CSC(=C1)C2=CC=C(S2)C3=CC=CS3</td>\n",
       "      <td>0.0</td>\n",
       "    </tr>\n",
       "    <tr>\n",
       "      <th>48541</th>\n",
       "      <td>JCP2022_048543</td>\n",
       "      <td>LCKIEQZJEYYRIY-UHFFFAOYSA-N</td>\n",
       "      <td>InChI=1S/Ti/q+4</td>\n",
       "      <td>[Ti+4]</td>\n",
       "      <td>0.0</td>\n",
       "    </tr>\n",
       "    <tr>\n",
       "      <th>48610</th>\n",
       "      <td>JCP2022_048612</td>\n",
       "      <td>LCTZPQRFOZKZNK-UHFFFAOYSA-N</td>\n",
       "      <td>InChI=1S/C20H24N/c1-21(2)15-13-19(14-16-21)20(...</td>\n",
       "      <td>C[N+]1(C)CCC(CC1)=C(c2ccccc2)c3ccccc3</td>\n",
       "      <td>0.0</td>\n",
       "    </tr>\n",
       "    <tr>\n",
       "      <th>53339</th>\n",
       "      <td>JCP2022_053341</td>\n",
       "      <td>MCZUXEWWARACSP-UHFFFAOYSA-N</td>\n",
       "      <td>InChI=1S/C12H8/c1-2-10-7-5-8-11-6-3-4-9-12(10)...</td>\n",
       "      <td>C#Cc1cccc2ccccc12</td>\n",
       "      <td>0.0</td>\n",
       "    </tr>\n",
       "    <tr>\n",
       "      <th>56345</th>\n",
       "      <td>JCP2022_056347</td>\n",
       "      <td>MTCUAOILFDZKCO-UHFFFAOYSA-N</td>\n",
       "      <td>InChI=1S/C16H38N2/c1-17(2,3)15-13-11-9-7-8-10-...</td>\n",
       "      <td>C[N+](C)(C)CCCCCCCCCC[N+](C)(C)C</td>\n",
       "      <td>0.0</td>\n",
       "    </tr>\n",
       "    <tr>\n",
       "      <th>58101</th>\n",
       "      <td>JCP2022_058103</td>\n",
       "      <td>NCMHKCKGHRPLCM-UHFFFAOYSA-N</td>\n",
       "      <td>InChI=1S/Cs/q+1</td>\n",
       "      <td>[Cs+]</td>\n",
       "      <td>0.0</td>\n",
       "    </tr>\n",
       "    <tr>\n",
       "      <th>60532</th>\n",
       "      <td>JCP2022_060534</td>\n",
       "      <td>NPNUFJAVOOONJE-UHFFFAOYSA-N</td>\n",
       "      <td>InChI=1S/C15H24/c1-11-6-5-7-12(2)13-10-15(3,4)...</td>\n",
       "      <td>CC2CCC1C(CC1(C)C)C(=C)CCC=2</td>\n",
       "      <td>0.0</td>\n",
       "    </tr>\n",
       "    <tr>\n",
       "      <th>61615</th>\n",
       "      <td>JCP2022_061617</td>\n",
       "      <td>NVLPQIPTCCLBEU-UHFFFAOYSA-N</td>\n",
       "      <td>InChI=1S/C4H8S/c1-3-4-5-2/h3H,1,4H2,2H3</td>\n",
       "      <td>C=CCSC</td>\n",
       "      <td>0.0</td>\n",
       "    </tr>\n",
       "    <tr>\n",
       "      <th>62894</th>\n",
       "      <td>JCP2022_062896</td>\n",
       "      <td>OCJBOOLMMGQPQU-UHFFFAOYSA-N</td>\n",
       "      <td>InChI=1S/C6H4Cl2/c7-5-1-2-6(8)4-3-5/h1-4H</td>\n",
       "      <td>Clc1ccc(Cl)cc1</td>\n",
       "      <td>0.0</td>\n",
       "    </tr>\n",
       "    <tr>\n",
       "      <th>63294</th>\n",
       "      <td>JCP2022_063296</td>\n",
       "      <td>OENHQHLEOONYIE-UHFFFAOYSA-N</td>\n",
       "      <td>InChI=1S/C40H56/c1-31(19-13-21-33(3)25-27-37-3...</td>\n",
       "      <td>CC(C=CC=C(C)C=CC1=C(C)CCCC1(C)C)=CC=CC=C(C)C=C...</td>\n",
       "      <td>0.0</td>\n",
       "    </tr>\n",
       "    <tr>\n",
       "      <th>65257</th>\n",
       "      <td>JCP2022_065259</td>\n",
       "      <td>OPFTUNCRGUEPRZ-UHFFFAOYSA-N</td>\n",
       "      <td>InChI=1S/C15H24/c1-7-15(6)9-8-13(11(2)3)10-14(...</td>\n",
       "      <td>CC(=C)C1CCC(C)(C=C)C(C1)C(C)=C</td>\n",
       "      <td>0.0</td>\n",
       "    </tr>\n",
       "    <tr>\n",
       "      <th>67917</th>\n",
       "      <td>JCP2022_067919</td>\n",
       "      <td>PDSNLYSELAIEBU-UHFFFAOYSA-N</td>\n",
       "      <td>InChI=1S/C15H24/c1-10-11-6-7-12-13(11)14(2,3)8...</td>\n",
       "      <td>CC3(C)CCCC1(C)C(=C)C2CCC1C23</td>\n",
       "      <td>0.0</td>\n",
       "    </tr>\n",
       "    <tr>\n",
       "      <th>67918</th>\n",
       "      <td>JCP2022_067920</td>\n",
       "      <td>PDSVZUAJOIQXRK-UHFFFAOYSA-N</td>\n",
       "      <td>InChI=1S/C21H46N/c1-5-6-7-8-9-10-11-12-13-14-1...</td>\n",
       "      <td>CCCCCCCCCCCCCCCCCC[N+](C)(C)C</td>\n",
       "      <td>0.0</td>\n",
       "    </tr>\n",
       "    <tr>\n",
       "      <th>70414</th>\n",
       "      <td>JCP2022_070416</td>\n",
       "      <td>PRAKJMSDJKAYCZ-UHFFFAOYSA-N</td>\n",
       "      <td>InChI=1S/C30H62/c1-25(2)15-11-19-29(7)23-13-21...</td>\n",
       "      <td>CC(C)CCCC(C)CCCC(C)CCCCC(C)CCCC(C)CCCC(C)C</td>\n",
       "      <td>0.0</td>\n",
       "    </tr>\n",
       "    <tr>\n",
       "      <th>71671</th>\n",
       "      <td>JCP2022_071673</td>\n",
       "      <td>PXVOATXCSSPUEM-UHFFFAOYSA-N</td>\n",
       "      <td>InChI=1S/C10H15I/c11-10-4-7-1-8(5-10)3-9(2-7)6...</td>\n",
       "      <td>IC23CC1CC(CC(C1)C2)C3</td>\n",
       "      <td>0.0</td>\n",
       "    </tr>\n",
       "    <tr>\n",
       "      <th>72799</th>\n",
       "      <td>JCP2022_072801</td>\n",
       "      <td>QDYLMAYUEZBUFO-UHFFFAOYSA-N</td>\n",
       "      <td>InChI=1S/C25H46N/c1-4-5-6-7-8-9-10-11-12-13-14...</td>\n",
       "      <td>CCCCCCCCCCCCCCCC[N+](C)(C)Cc1ccccc1</td>\n",
       "      <td>0.0</td>\n",
       "    </tr>\n",
       "    <tr>\n",
       "      <th>73110</th>\n",
       "      <td>JCP2022_073112</td>\n",
       "      <td>QFQZKISCBJKVHI-UHFFFAOYSA-N</td>\n",
       "      <td>InChI=1S/C6H6Br6/c7-1-2(8)4(10)6(12)5(11)3(1)9...</td>\n",
       "      <td>BrC1C(Br)C(Br)C(Br)C(Br)C1Br</td>\n",
       "      <td>0.0</td>\n",
       "    </tr>\n",
       "    <tr>\n",
       "      <th>73159</th>\n",
       "      <td>JCP2022_073161</td>\n",
       "      <td>QFXKXRXFBRLLPQ-UHFFFAOYSA-N</td>\n",
       "      <td>InChI=1S/C12H8I/c1-3-7-11-9(5-1)10-6-2-4-8-12(...</td>\n",
       "      <td>c1ccc3c(c1)[I+]c2ccccc23</td>\n",
       "      <td>0.0</td>\n",
       "    </tr>\n",
       "    <tr>\n",
       "      <th>75097</th>\n",
       "      <td>JCP2022_075099</td>\n",
       "      <td>QPUYECUOLPXSFR-UHFFFAOYSA-N</td>\n",
       "      <td>InChI=1S/C11H10/c1-9-5-4-7-10-6-2-3-8-11(9)10/...</td>\n",
       "      <td>Cc1cccc2ccccc12</td>\n",
       "      <td>0.0</td>\n",
       "    </tr>\n",
       "    <tr>\n",
       "      <th>79095</th>\n",
       "      <td>JCP2022_079097</td>\n",
       "      <td>RLGQACBPNDBWTB-UHFFFAOYSA-N</td>\n",
       "      <td>InChI=1S/C19H42N/c1-5-6-7-8-9-10-11-12-13-14-1...</td>\n",
       "      <td>CCCCCCCCCCCCCCCC[N+](C)(C)C</td>\n",
       "      <td>0.0</td>\n",
       "    </tr>\n",
       "    <tr>\n",
       "      <th>80229</th>\n",
       "      <td>JCP2022_080231</td>\n",
       "      <td>RRHGJUQNOFWUDK-UHFFFAOYSA-N</td>\n",
       "      <td>InChI=1S/C5H8/c1-4-5(2)3/h4H,1-2H2,3H3</td>\n",
       "      <td>CC(=C)C=C</td>\n",
       "      <td>0.0</td>\n",
       "    </tr>\n",
       "    <tr>\n",
       "      <th>87986</th>\n",
       "      <td>JCP2022_087988</td>\n",
       "      <td>UARILQSOMYIQCM-UHFFFAOYSA-N</td>\n",
       "      <td>InChI=1S/C19H34N/c1-4-5-6-7-8-9-10-14-17-20(2,...</td>\n",
       "      <td>CCCCCCCCCC[N+](C)(C)Cc1ccccc1</td>\n",
       "      <td>0.0</td>\n",
       "    </tr>\n",
       "    <tr>\n",
       "      <th>88105</th>\n",
       "      <td>JCP2022_088107</td>\n",
       "      <td>UBJVUCKUDDKUJF-UHFFFAOYSA-N</td>\n",
       "      <td>InChI=1S/C6H10S/c1-3-5-7-6-4-2/h3-4H,1-2,5-6H2</td>\n",
       "      <td>C=CCSCC=C</td>\n",
       "      <td>0.0</td>\n",
       "    </tr>\n",
       "    <tr>\n",
       "      <th>88314</th>\n",
       "      <td>JCP2022_088316</td>\n",
       "      <td>UCNVFOCBFJOQAL-UHFFFAOYSA-N</td>\n",
       "      <td>InChI=1S/C14H8Cl4/c15-11-5-1-9(2-6-11)13(14(17...</td>\n",
       "      <td>ClC(Cl)=C(c1ccc(Cl)cc1)c2ccc(Cl)cc2</td>\n",
       "      <td>0.0</td>\n",
       "    </tr>\n",
       "    <tr>\n",
       "      <th>97305</th>\n",
       "      <td>JCP2022_097307</td>\n",
       "      <td>VZJFGSRCJCXDSG-UHFFFAOYSA-N</td>\n",
       "      <td>InChI=1S/C12H30N2/c1-13(2,3)11-9-7-8-10-12-14(...</td>\n",
       "      <td>C[N+](C)(C)CCCCCC[N+](C)(C)C</td>\n",
       "      <td>0.0</td>\n",
       "    </tr>\n",
       "    <tr>\n",
       "      <th>97446</th>\n",
       "      <td>JCP2022_097448</td>\n",
       "      <td>WACRAFUNNYGNEQ-UHFFFAOYSA-N</td>\n",
       "      <td>InChI=1S/C8H18N/c1-3-9(2)7-5-4-6-8-9/h3-8H2,1-...</td>\n",
       "      <td>CC[N+]1(C)CCCCC1</td>\n",
       "      <td>0.0</td>\n",
       "    </tr>\n",
       "    <tr>\n",
       "      <th>97991</th>\n",
       "      <td>JCP2022_097993</td>\n",
       "      <td>WDECIBYCCFPHNR-UHFFFAOYSA-N</td>\n",
       "      <td>InChI=1S/C18H12/c1-3-7-15-13(5-1)9-11-18-16-8-...</td>\n",
       "      <td>c1ccc3c(c1)ccc4c2ccccc2ccc34</td>\n",
       "      <td>0.0</td>\n",
       "    </tr>\n",
       "    <tr>\n",
       "      <th>100362</th>\n",
       "      <td>JCP2022_100364</td>\n",
       "      <td>WPSYTTKBGAZSCX-UHFFFAOYSA-N</td>\n",
       "      <td>InChI=1S/C21H37ClN/c1-4-7-8-9-11-18-23(5-2,6-3...</td>\n",
       "      <td>CCCCCCC[N+](CC)(CC)CCCCc1ccc(Cl)cc1</td>\n",
       "      <td>0.0</td>\n",
       "    </tr>\n",
       "    <tr>\n",
       "      <th>100979</th>\n",
       "      <td>JCP2022_100981</td>\n",
       "      <td>WTARULDDTDQWMU-UHFFFAOYSA-N</td>\n",
       "      <td>InChI=1S/C10H16/c1-7-4-5-8-6-9(7)10(8,2)3/h8-9...</td>\n",
       "      <td>CC1(C)C2CCC(=C)C1C2</td>\n",
       "      <td>0.0</td>\n",
       "    </tr>\n",
       "    <tr>\n",
       "      <th>101162</th>\n",
       "      <td>JCP2022_101164</td>\n",
       "      <td>WTWWXOGTJWMJHI-UHFFFAOYSA-N</td>\n",
       "      <td>InChI=1S/C8BrF17/c9-7(22,23)5(18,19)3(14,15)1(...</td>\n",
       "      <td>FC(F)(F)C(F)(F)C(F)(F)C(F)(F)C(F)(F)C(F)(F)C(F...</td>\n",
       "      <td>0.0</td>\n",
       "    </tr>\n",
       "    <tr>\n",
       "      <th>104495</th>\n",
       "      <td>JCP2022_104497</td>\n",
       "      <td>XMBWDFGMSWQBCA-UHFFFAOYSA-N</td>\n",
       "      <td>InChI=1S/HI/h1H</td>\n",
       "      <td>I</td>\n",
       "      <td>0.0</td>\n",
       "    </tr>\n",
       "    <tr>\n",
       "      <th>104532</th>\n",
       "      <td>JCP2022_104534</td>\n",
       "      <td>XMGQYMWWDOXHJM-UHFFFAOYSA-N</td>\n",
       "      <td>InChI=1S/C10H16/c1-8(2)10-6-4-9(3)5-7-10/h4,10...</td>\n",
       "      <td>CC(=C)C1CCC(C)=CC1</td>\n",
       "      <td>0.0</td>\n",
       "    </tr>\n",
       "    <tr>\n",
       "      <th>110584</th>\n",
       "      <td>JCP2022_110586</td>\n",
       "      <td>YSQBVIAGPLXQJH-UHFFFAOYSA-N</td>\n",
       "      <td>InChI=1S/C7H6Cl2S/c1-10-6-4-2-3-5(8)7(6)9/h2-4...</td>\n",
       "      <td>CSc1cccc(Cl)c1Cl</td>\n",
       "      <td>0.0</td>\n",
       "    </tr>\n",
       "    <tr>\n",
       "      <th>111271</th>\n",
       "      <td>JCP2022_111273</td>\n",
       "      <td>YWHLKYXPLRWGSE-UHFFFAOYSA-N</td>\n",
       "      <td>InChI=1S/C2H6S3/c1-3-5-4-2/h1-2H3</td>\n",
       "      <td>CSSSC</td>\n",
       "      <td>0.0</td>\n",
       "    </tr>\n",
       "    <tr>\n",
       "      <th>111667</th>\n",
       "      <td>JCP2022_111669</td>\n",
       "      <td>YYGNTYWPHWGJRM-UHFFFAOYSA-N</td>\n",
       "      <td>InChI=1S/C30H50/c1-25(2)15-11-19-29(7)23-13-21...</td>\n",
       "      <td>CC(C)=CCCC(C)=CCCC(C)=CCCC=C(C)CCC=C(C)CCC=C(C)C</td>\n",
       "      <td>0.0</td>\n",
       "    </tr>\n",
       "    <tr>\n",
       "      <th>114868</th>\n",
       "      <td>JCP2022_114870</td>\n",
       "      <td>ZPQOPVIELGIULI-UHFFFAOYSA-N</td>\n",
       "      <td>InChI=1S/C6H4Cl2/c7-5-2-1-3-6(8)4-5/h1-4H</td>\n",
       "      <td>Clc1cccc(Cl)c1</td>\n",
       "      <td>0.0</td>\n",
       "    </tr>\n",
       "  </tbody>\n",
       "</table>\n",
       "</div>"
      ],
      "text/plain": [
       "       Metadata_JCP2022            Metadata_InChIKey                                     Metadata_InChI                                    Metadata_Smiles Metadata_TPSA\n",
       "134      JCP2022_000135  AAQOQKQBGPPFNS-UHFFFAOYSA-N  InChI=1S/C11H17BrN/c1-4-13(2,3)9-10-7-5-6-8-11...                            CC[N+](C)(C)Cc1ccccc1Br           0.0\n",
       "5457     JCP2022_005458  BCQZXOMGPXTTIC-UHFFFAOYSA-N              InChI=1S/C2HBrClF3/c3-1(4)2(5,6)7/h1H                                    FC(F)(F)C(Cl)Br           0.0\n",
       "8035     JCP2022_008036  BQOFWKZOCNGFEC-UHFFFAOYSA-N  InChI=1S/C10H16/c1-7-4-5-8-9(6-7)10(8,2)3/h4,8...                                CC1CC2C(CC=1)C2(C)C           0.0\n",
       "8377     JCP2022_008378  BSMYVBKDBCUVBF-UHFFFAOYSA-N  InChI=1S/C22H32N/c1-6-20(16-18(2)21-10-8-7-9-1...           CCC(CC(C)c1ccccc1)c2ccc(C[N+](C)(C)C)cc2           0.0\n",
       "10111    JCP2022_010112  CBXCPBUEXACCNR-UHFFFAOYSA-N  InChI=1S/C8H20N/c1-5-9(6-2,7-3)8-4/h5-8H2,1-4H...                                   CC[N+](CC)(CC)CC           0.0\n",
       "13018    JCP2022_013019  CRPUJAZIXJMDBK-UHFFFAOYSA-N  InChI=1S/C10H16/c1-7-8-4-5-9(6-8)10(7,2)3/h8-9...                                CC1(C)C(=C)C2CC1CC2           0.0\n",
       "14190    JCP2022_014191  CYDRXTMLKJDRQH-UHFFFAOYSA-N  InChI=1S/C21H38N/c1-4-5-6-7-8-9-10-11-12-16-19...                    CCCCCCCCCCCC[N+](C)(C)Cc1ccccc1           0.0\n",
       "14400    JCP2022_014401  CZDYPVPMEAXLPK-UHFFFAOYSA-N                 InChI=1S/C4H12Si/c1-5(2,3)4/h1-4H3                                       C[Si](C)(C)C           0.0\n",
       "16125    JCP2022_016126  DIMMBYOINZRKMD-UHFFFAOYSA-N                                     InChI=1S/V/q+5                                              [V+5]           0.0\n",
       "21236    JCP2022_021237  FKNQFGJONOIPTF-UHFFFAOYSA-N                                    InChI=1S/Na/q+1                                              [Na+]           0.0\n",
       "21600    JCP2022_021601  FMMWHPNWAFZXNH-UHFFFAOYSA-N  InChI=1S/C20H12/c1-2-7-17-15(4-1)12-16-9-8-13-...                   c1ccc2c(c1)cc3ccc4cccc5ccc2c3c45           0.0\n",
       "21659    JCP2022_021660  FMVKCNOAGUSJQW-UHFFFAOYSA-N  InChI=1S/C18H16S/c1-14-12-13-17(19-14)18(15-8-...                    CC1=CC=C(S1)C(c2ccccc2)c3ccccc3           0.0\n",
       "23414    JCP2022_023415  FWKQNCXZGNBPFD-UHFFFAOYSA-N  InChI=1S/C15H18/c1-10(2)13-7-5-11(3)14-8-6-12(...                          CC(C)c2ccc(C)c1ccc(C)c1c2           0.0\n",
       "23421    JCP2022_023422  FWLORMQUOWCQPO-UHFFFAOYSA-N  InChI=1S/C27H50N/c1-4-5-6-7-8-9-10-11-12-13-14...              CCCCCCCCCCCCCCCCCC[N+](C)(C)Cc1ccccc1           0.0\n",
       "27359    JCP2022_027360  GRWFGVWFFZKLTI-UHFFFAOYSA-N  InChI=1S/C10H16/c1-7-4-5-8-6-9(7)10(8,2)3/h4,8...                                  CC1=CCC2CC1C2(C)C           0.0\n",
       "29339    JCP2022_029341  HCNGUXXTNNIKCQ-UHFFFAOYSA-N                                    InChI=1S/Mo/q+6                                             [Mo+6]           0.0\n",
       "29890    JCP2022_029892  HFPZCAJZSCWRBC-UHFFFAOYSA-N  InChI=1S/C10H14/c1-8(2)10-6-4-9(3)5-7-10/h4-8H...                                   CC(C)c1ccc(C)cc1           0.0\n",
       "32192    JCP2022_032194  HRZQNDWDAPBHSB-UHFFFAOYSA-N  InChI=1S/C15H36N2/c1-7-8-9-10-11-14-17(5,6)15-...                    CCCCCCC[N+](C)(C)CCC[N+](C)(C)C           0.0\n",
       "37158    JCP2022_037160  ISPYNXGXZRLLHM-UHFFFAOYSA-N  InChI=1S/C15H9Cl2F3/c16-13-7-11(8-14(17)9-13)2...              FC(F)(F)c2ccc(C=Cc1cc(Cl)cc(Cl)c1)cc2           0.0\n",
       "38237    JCP2022_038239  IYYZUPMFVPLQIF-UHFFFAOYSA-N  InChI=1S/C12H8S/c1-3-7-11-9(5-1)10-6-2-4-8-12(...                              c1ccc3c(c1)Sc2ccccc23           0.0\n",
       "40830    JCP2022_040832  JMYNPQVCVQVODQ-UHFFFAOYSA-N  InChI=1S/C14H9Cl3/c15-12-5-3-10(4-6-12)1-2-11-...                    Clc2ccc(C=Cc1cc(Cl)cc(Cl)c1)cc2           0.0\n",
       "41302    JCP2022_041304  JPOJMYYCSNHYRY-UHFFFAOYSA-N                              InChI=1S/3Na.V/q;;;+8                               [Na].[Na].[Na].[V+8]           0.0\n",
       "42497    JCP2022_042499  JWBOIMRXGHLCPP-UHFFFAOYSA-N  InChI=1S/C14H10Cl4/c15-10-7-5-9(6-8-10)13(14(1...                   ClC(Cl)C(c1ccc(Cl)cc1)c2ccccc2Cl           0.0\n",
       "42864    JCP2022_042866  JXZGMDYNCUEGNH-UHFFFAOYSA-N  InChI=1S/C34H46N/c1-33(2,3)31-18-14-27(15-19-3...  CC(C)(C)c4ccc(CC3CCC[N+](Cc1ccccc1)(Cc2ccc(cc2...           0.0\n",
       "47662    JCP2022_047664  KXSFECAJUBPPFE-UHFFFAOYSA-N  InChI=1S/C12H8S3/c1-3-9(13-7-1)11-5-6-12(15-11...                    C1=CSC(=C1)C2=CC=C(S2)C3=CC=CS3           0.0\n",
       "48541    JCP2022_048543  LCKIEQZJEYYRIY-UHFFFAOYSA-N                                    InChI=1S/Ti/q+4                                             [Ti+4]           0.0\n",
       "48610    JCP2022_048612  LCTZPQRFOZKZNK-UHFFFAOYSA-N  InChI=1S/C20H24N/c1-21(2)15-13-19(14-16-21)20(...              C[N+]1(C)CCC(CC1)=C(c2ccccc2)c3ccccc3           0.0\n",
       "53339    JCP2022_053341  MCZUXEWWARACSP-UHFFFAOYSA-N  InChI=1S/C12H8/c1-2-10-7-5-8-11-6-3-4-9-12(10)...                                  C#Cc1cccc2ccccc12           0.0\n",
       "56345    JCP2022_056347  MTCUAOILFDZKCO-UHFFFAOYSA-N  InChI=1S/C16H38N2/c1-17(2,3)15-13-11-9-7-8-10-...                   C[N+](C)(C)CCCCCCCCCC[N+](C)(C)C           0.0\n",
       "58101    JCP2022_058103  NCMHKCKGHRPLCM-UHFFFAOYSA-N                                    InChI=1S/Cs/q+1                                              [Cs+]           0.0\n",
       "60532    JCP2022_060534  NPNUFJAVOOONJE-UHFFFAOYSA-N  InChI=1S/C15H24/c1-11-6-5-7-12(2)13-10-15(3,4)...                        CC2CCC1C(CC1(C)C)C(=C)CCC=2           0.0\n",
       "61615    JCP2022_061617  NVLPQIPTCCLBEU-UHFFFAOYSA-N            InChI=1S/C4H8S/c1-3-4-5-2/h3H,1,4H2,2H3                                             C=CCSC           0.0\n",
       "62894    JCP2022_062896  OCJBOOLMMGQPQU-UHFFFAOYSA-N          InChI=1S/C6H4Cl2/c7-5-1-2-6(8)4-3-5/h1-4H                                     Clc1ccc(Cl)cc1           0.0\n",
       "63294    JCP2022_063296  OENHQHLEOONYIE-UHFFFAOYSA-N  InChI=1S/C40H56/c1-31(19-13-21-33(3)25-27-37-3...  CC(C=CC=C(C)C=CC1=C(C)CCCC1(C)C)=CC=CC=C(C)C=C...           0.0\n",
       "65257    JCP2022_065259  OPFTUNCRGUEPRZ-UHFFFAOYSA-N  InChI=1S/C15H24/c1-7-15(6)9-8-13(11(2)3)10-14(...                     CC(=C)C1CCC(C)(C=C)C(C1)C(C)=C           0.0\n",
       "67917    JCP2022_067919  PDSNLYSELAIEBU-UHFFFAOYSA-N  InChI=1S/C15H24/c1-10-11-6-7-12-13(11)14(2,3)8...                       CC3(C)CCCC1(C)C(=C)C2CCC1C23           0.0\n",
       "67918    JCP2022_067920  PDSVZUAJOIQXRK-UHFFFAOYSA-N  InChI=1S/C21H46N/c1-5-6-7-8-9-10-11-12-13-14-1...                      CCCCCCCCCCCCCCCCCC[N+](C)(C)C           0.0\n",
       "70414    JCP2022_070416  PRAKJMSDJKAYCZ-UHFFFAOYSA-N  InChI=1S/C30H62/c1-25(2)15-11-19-29(7)23-13-21...         CC(C)CCCC(C)CCCC(C)CCCCC(C)CCCC(C)CCCC(C)C           0.0\n",
       "71671    JCP2022_071673  PXVOATXCSSPUEM-UHFFFAOYSA-N  InChI=1S/C10H15I/c11-10-4-7-1-8(5-10)3-9(2-7)6...                              IC23CC1CC(CC(C1)C2)C3           0.0\n",
       "72799    JCP2022_072801  QDYLMAYUEZBUFO-UHFFFAOYSA-N  InChI=1S/C25H46N/c1-4-5-6-7-8-9-10-11-12-13-14...                CCCCCCCCCCCCCCCC[N+](C)(C)Cc1ccccc1           0.0\n",
       "73110    JCP2022_073112  QFQZKISCBJKVHI-UHFFFAOYSA-N  InChI=1S/C6H6Br6/c7-1-2(8)4(10)6(12)5(11)3(1)9...                       BrC1C(Br)C(Br)C(Br)C(Br)C1Br           0.0\n",
       "73159    JCP2022_073161  QFXKXRXFBRLLPQ-UHFFFAOYSA-N  InChI=1S/C12H8I/c1-3-7-11-9(5-1)10-6-2-4-8-12(...                           c1ccc3c(c1)[I+]c2ccccc23           0.0\n",
       "75097    JCP2022_075099  QPUYECUOLPXSFR-UHFFFAOYSA-N  InChI=1S/C11H10/c1-9-5-4-7-10-6-2-3-8-11(9)10/...                                    Cc1cccc2ccccc12           0.0\n",
       "79095    JCP2022_079097  RLGQACBPNDBWTB-UHFFFAOYSA-N  InChI=1S/C19H42N/c1-5-6-7-8-9-10-11-12-13-14-1...                        CCCCCCCCCCCCCCCC[N+](C)(C)C           0.0\n",
       "80229    JCP2022_080231  RRHGJUQNOFWUDK-UHFFFAOYSA-N             InChI=1S/C5H8/c1-4-5(2)3/h4H,1-2H2,3H3                                          CC(=C)C=C           0.0\n",
       "87986    JCP2022_087988  UARILQSOMYIQCM-UHFFFAOYSA-N  InChI=1S/C19H34N/c1-4-5-6-7-8-9-10-14-17-20(2,...                      CCCCCCCCCC[N+](C)(C)Cc1ccccc1           0.0\n",
       "88105    JCP2022_088107  UBJVUCKUDDKUJF-UHFFFAOYSA-N     InChI=1S/C6H10S/c1-3-5-7-6-4-2/h3-4H,1-2,5-6H2                                          C=CCSCC=C           0.0\n",
       "88314    JCP2022_088316  UCNVFOCBFJOQAL-UHFFFAOYSA-N  InChI=1S/C14H8Cl4/c15-11-5-1-9(2-6-11)13(14(17...                ClC(Cl)=C(c1ccc(Cl)cc1)c2ccc(Cl)cc2           0.0\n",
       "97305    JCP2022_097307  VZJFGSRCJCXDSG-UHFFFAOYSA-N  InChI=1S/C12H30N2/c1-13(2,3)11-9-7-8-10-12-14(...                       C[N+](C)(C)CCCCCC[N+](C)(C)C           0.0\n",
       "97446    JCP2022_097448  WACRAFUNNYGNEQ-UHFFFAOYSA-N  InChI=1S/C8H18N/c1-3-9(2)7-5-4-6-8-9/h3-8H2,1-...                                   CC[N+]1(C)CCCCC1           0.0\n",
       "97991    JCP2022_097993  WDECIBYCCFPHNR-UHFFFAOYSA-N  InChI=1S/C18H12/c1-3-7-15-13(5-1)9-11-18-16-8-...                       c1ccc3c(c1)ccc4c2ccccc2ccc34           0.0\n",
       "100362   JCP2022_100364  WPSYTTKBGAZSCX-UHFFFAOYSA-N  InChI=1S/C21H37ClN/c1-4-7-8-9-11-18-23(5-2,6-3...                CCCCCCC[N+](CC)(CC)CCCCc1ccc(Cl)cc1           0.0\n",
       "100979   JCP2022_100981  WTARULDDTDQWMU-UHFFFAOYSA-N  InChI=1S/C10H16/c1-7-4-5-8-6-9(7)10(8,2)3/h8-9...                                CC1(C)C2CCC(=C)C1C2           0.0\n",
       "101162   JCP2022_101164  WTWWXOGTJWMJHI-UHFFFAOYSA-N  InChI=1S/C8BrF17/c9-7(22,23)5(18,19)3(14,15)1(...  FC(F)(F)C(F)(F)C(F)(F)C(F)(F)C(F)(F)C(F)(F)C(F...           0.0\n",
       "104495   JCP2022_104497  XMBWDFGMSWQBCA-UHFFFAOYSA-N                                    InChI=1S/HI/h1H                                                  I           0.0\n",
       "104532   JCP2022_104534  XMGQYMWWDOXHJM-UHFFFAOYSA-N  InChI=1S/C10H16/c1-8(2)10-6-4-9(3)5-7-10/h4,10...                                 CC(=C)C1CCC(C)=CC1           0.0\n",
       "110584   JCP2022_110586  YSQBVIAGPLXQJH-UHFFFAOYSA-N  InChI=1S/C7H6Cl2S/c1-10-6-4-2-3-5(8)7(6)9/h2-4...                                   CSc1cccc(Cl)c1Cl           0.0\n",
       "111271   JCP2022_111273  YWHLKYXPLRWGSE-UHFFFAOYSA-N                  InChI=1S/C2H6S3/c1-3-5-4-2/h1-2H3                                              CSSSC           0.0\n",
       "111667   JCP2022_111669  YYGNTYWPHWGJRM-UHFFFAOYSA-N  InChI=1S/C30H50/c1-25(2)15-11-19-29(7)23-13-21...   CC(C)=CCCC(C)=CCCC(C)=CCCC=C(C)CCC=C(C)CCC=C(C)C           0.0\n",
       "114868   JCP2022_114870  ZPQOPVIELGIULI-UHFFFAOYSA-N          InChI=1S/C6H4Cl2/c7-5-2-1-3-6(8)4-5/h1-4H                                     Clc1cccc(Cl)c1           0.0"
      ]
     },
     "execution_count": 80,
     "metadata": {},
     "output_type": "execute_result"
    }
   ],
   "source": [
    "df_compounds_tpsa.info()\n",
    "df_compounds_tpsa.head(3)\n",
    "df_compounds_tpsa.tail(3)\n",
    "print(f\"Compounds with NaN TPSA: \")\n",
    "df_compounds_tpsa[df_compounds_tpsa['Metadata_TPSA'].isna()]\n",
    "df_zero_TPSA = df_compounds_tpsa[df_compounds_tpsa['Metadata_TPSA'] == 0]\n",
    "print(f\"Compounds with Zero TPSA: {len(df_zero_TPSA)}\")\n",
    "df_zero_TPSA"
   ]
  },
  {
   "cell_type": "code",
   "execution_count": 94,
   "id": "7e8c2be7",
   "metadata": {
    "ExecuteTime": {
     "end_time": "2023-06-28T19:19:52.515740Z",
     "start_time": "2023-06-28T19:19:52.435565Z"
    },
    "execution": {
     "iopub.execute_input": "2024-10-23T20:07:08.423939Z",
     "iopub.status.busy": "2024-10-23T20:07:08.423463Z",
     "iopub.status.idle": "2024-10-23T20:07:08.460682Z",
     "shell.execute_reply": "2024-10-23T20:07:08.459822Z",
     "shell.execute_reply.started": "2024-10-23T20:07:08.423896Z"
    },
    "hidden": true
   },
   "outputs": [],
   "source": [
    "# df_tpsa.info()\n",
    "# df_tpsa.head(3)\n",
    "# df_tpsa.tail(3)\n",
    "# print(f\"Compounds with NaN TPSA: \")\n",
    "# df_tpsa[df_tpsa['Metadata_TPSA'].isna()]\n",
    "# df_zero_TPSA = df_tpsa[df_tpsa['Metadata_TPSA'] == 0]\n",
    "# print(f\"Compounds with Zero TPSA: {len(df_zero_TPSA)}\")\n",
    "# df_zero_TPSA"
   ]
  },
  {
   "cell_type": "markdown",
   "id": "2778e182-bd4e-4c4f-bc12-858d7b475561",
   "metadata": {
    "ExecuteTime": {
     "end_time": "2023-05-24T15:12:06.272966Z",
     "start_time": "2023-05-24T15:12:06.261113Z"
    },
    "heading_collapsed": true,
    "hidden": true
   },
   "source": [
    "### Write `df_metadata` dataframe (w/ SMILES and TPSA) to `./output/compound_metadata_tpsa.csv`"
   ]
  },
  {
   "cell_type": "code",
   "execution_count": 84,
   "id": "cc133cf3",
   "metadata": {
    "ExecuteTime": {
     "end_time": "2023-06-28T19:20:03.242434Z",
     "start_time": "2023-06-28T19:20:03.206601Z"
    },
    "execution": {
     "iopub.execute_input": "2024-10-23T20:04:41.053397Z",
     "iopub.status.busy": "2024-10-23T20:04:41.052920Z",
     "iopub.status.idle": "2024-10-23T20:04:41.095201Z",
     "shell.execute_reply": "2024-10-23T20:04:41.094299Z",
     "shell.execute_reply.started": "2024-10-23T20:04:41.053356Z"
    },
    "hidden": true
   },
   "outputs": [
    {
     "name": "stdout",
     "output_type": "stream",
     "text": [
      " compound Metadata Output File  : ./output_10162024/compound_metadata_tpsa.csv\n",
      "\n"
     ]
    }
   ],
   "source": [
    "print(f\" compound Metadata Output File  : {ds.compoundMetadataTPSAFile}\\n\")"
   ]
  },
  {
   "cell_type": "code",
   "execution_count": 86,
   "id": "6a2ee155",
   "metadata": {
    "ExecuteTime": {
     "end_time": "2023-06-28T19:20:04.575948Z",
     "start_time": "2023-06-28T19:20:04.066965Z"
    },
    "execution": {
     "iopub.execute_input": "2024-10-23T20:04:59.339093Z",
     "iopub.status.busy": "2024-10-23T20:04:59.338615Z",
     "iopub.status.idle": "2024-10-23T20:05:00.042677Z",
     "shell.execute_reply": "2024-10-23T20:05:00.041542Z",
     "shell.execute_reply.started": "2024-10-23T20:04:59.339050Z"
    },
    "hidden": true
   },
   "outputs": [],
   "source": [
    "df_compounds_tpsa.to_csv(ds.compoundMetadataTPSAFile, index = False)"
   ]
  },
  {
   "cell_type": "markdown",
   "id": "48345746-1619-41e2-bd51-f018e20d366d",
   "metadata": {
    "ExecuteTime": {
     "end_time": "2023-05-24T15:12:06.272966Z",
     "start_time": "2023-05-24T15:12:06.261113Z"
    },
    "heading_collapsed": true,
    "hidden": true
   },
   "source": [
    "### Write `df_tpsa` to CSV file `./output/compound_tpsa.csv`"
   ]
  },
  {
   "cell_type": "code",
   "execution_count": 91,
   "id": "a9f8d01c",
   "metadata": {
    "ExecuteTime": {
     "end_time": "2023-06-28T19:20:08.175756Z",
     "start_time": "2023-06-28T19:20:08.154382Z"
    },
    "execution": {
     "iopub.execute_input": "2024-10-23T20:06:27.116637Z",
     "iopub.status.busy": "2024-10-23T20:06:27.116342Z",
     "iopub.status.idle": "2024-10-23T20:06:27.152591Z",
     "shell.execute_reply": "2024-10-23T20:06:27.151842Z",
     "shell.execute_reply.started": "2024-10-23T20:06:27.116615Z"
    },
    "hidden": true
   },
   "outputs": [
    {
     "name": "stdout",
     "output_type": "stream",
     "text": [
      " compound TPSA File  : ./output_10162024/compound_TPSA.csv\n",
      "\n"
     ]
    }
   ],
   "source": [
    "print(f\" compound TPSA File  : {ds.compoundTPSAFile}\\n\")"
   ]
  },
  {
   "cell_type": "code",
   "execution_count": 93,
   "id": "8345f042",
   "metadata": {
    "ExecuteTime": {
     "end_time": "2023-06-28T19:20:08.995679Z",
     "start_time": "2023-06-28T19:20:08.785829Z"
    },
    "execution": {
     "iopub.execute_input": "2024-10-23T20:06:38.685552Z",
     "iopub.status.busy": "2024-10-23T20:06:38.685076Z",
     "iopub.status.idle": "2024-10-23T20:06:38.874466Z",
     "shell.execute_reply": "2024-10-23T20:06:38.873766Z",
     "shell.execute_reply.started": "2024-10-23T20:06:38.685510Z"
    },
    "hidden": true
   },
   "outputs": [],
   "source": [
    "df_tpsa.to_csv(ds.compoundTPSAFile, index = False)"
   ]
  },
  {
   "cell_type": "markdown",
   "id": "36f80a82-ef1f-43c5-8db1-62043eb6e6d9",
   "metadata": {
    "jp-MarkdownHeadingCollapsed": true
   },
   "source": [
    "### Verify written files"
   ]
  },
  {
   "cell_type": "markdown",
   "id": "51bb3824-59e9-41f7-8bd7-aee19b0b7735",
   "metadata": {
    "heading_collapsed": true,
    "hidden": true,
    "jp-MarkdownHeadingCollapsed": true
   },
   "source": [
    "#### Re-read and check Metadata file `./output/compound_metadata_tpsa.csv` \n",
    "\n",
    "(containing pharamcophore_base64 and TPSA) and check it"
   ]
  },
  {
   "cell_type": "code",
   "execution_count": 88,
   "id": "78491c90",
   "metadata": {
    "ExecuteTime": {
     "end_time": "2023-06-28T19:20:14.919429Z",
     "start_time": "2023-06-28T19:20:14.885995Z"
    },
    "execution": {
     "iopub.execute_input": "2024-10-23T20:06:10.228980Z",
     "iopub.status.busy": "2024-10-23T20:06:10.228513Z",
     "iopub.status.idle": "2024-10-23T20:06:10.265914Z",
     "shell.execute_reply": "2024-10-23T20:06:10.265312Z",
     "shell.execute_reply.started": "2024-10-23T20:06:10.228940Z"
    },
    "hidden": true
   },
   "outputs": [
    {
     "name": "stdout",
     "output_type": "stream",
     "text": [
      " compound Metadata Output File  : ./output_10162024/compound_metadata_tpsa.csv\n",
      "\n"
     ]
    }
   ],
   "source": [
    "# print(f\" compound TPSA File             : {compoundTPSAFile}\")\n",
    "# print(f\" compound Metadata Input File   : {compoundMetadataInputFile} \\n\")\n",
    "print(f\" compound Metadata Output File  : {ds.compoundMetadataTPSAFile}\\n\")"
   ]
  },
  {
   "cell_type": "code",
   "execution_count": 89,
   "id": "ac18ee7f",
   "metadata": {
    "ExecuteTime": {
     "end_time": "2023-06-28T19:20:19.405780Z",
     "start_time": "2023-06-28T19:20:19.027235Z"
    },
    "execution": {
     "iopub.execute_input": "2024-10-23T20:06:11.562753Z",
     "iopub.status.busy": "2024-10-23T20:06:11.562263Z",
     "iopub.status.idle": "2024-10-23T20:06:11.673505Z",
     "shell.execute_reply": "2024-10-23T20:06:11.672970Z",
     "shell.execute_reply.started": "2024-10-23T20:06:11.562711Z"
    },
    "hidden": true
   },
   "outputs": [
    {
     "name": "stdout",
     "output_type": "stream",
     "text": [
      "<class 'pandas.core.frame.DataFrame'>\n",
      "Index: 116751 entries, 0 to 116751\n",
      "Data columns (total 5 columns):\n",
      " #   Column             Non-Null Count   Dtype \n",
      "---  ------             --------------   ----- \n",
      " 0   Metadata_JCP2022   116751 non-null  object\n",
      " 1   Metadata_InChIKey  116751 non-null  object\n",
      " 2   Metadata_InChI     116751 non-null  object\n",
      " 3   Metadata_Smiles    116751 non-null  object\n",
      " 4   Metadata_TPSA      116751 non-null  object\n",
      "dtypes: object(5)\n",
      "memory usage: 9.4+ MB\n"
     ]
    },
    {
     "data": {
      "text/html": [
       "<div>\n",
       "<style scoped>\n",
       "    .dataframe tbody tr th:only-of-type {\n",
       "        vertical-align: middle;\n",
       "    }\n",
       "\n",
       "    .dataframe tbody tr th {\n",
       "        vertical-align: top;\n",
       "    }\n",
       "\n",
       "    .dataframe thead th {\n",
       "        text-align: right;\n",
       "    }\n",
       "</style>\n",
       "<table border=\"1\" class=\"dataframe\">\n",
       "  <thead>\n",
       "    <tr style=\"text-align: right;\">\n",
       "      <th></th>\n",
       "      <th>Metadata_JCP2022</th>\n",
       "      <th>Metadata_InChIKey</th>\n",
       "      <th>Metadata_InChI</th>\n",
       "      <th>Metadata_Smiles</th>\n",
       "      <th>Metadata_TPSA</th>\n",
       "    </tr>\n",
       "  </thead>\n",
       "  <tbody>\n",
       "    <tr>\n",
       "      <th>0</th>\n",
       "      <td>JCP2022_000001</td>\n",
       "      <td>AAAHWCWPZPSPIW-UHFFFAOYSA-N</td>\n",
       "      <td>InChI=1S/C25H31N5O2/c1-4-23-26-14-16-30(23)24-...</td>\n",
       "      <td>CCC1=NC=CN1c2cccc(n2)C3CCCN3C(=O)c4ccc(cc4)OCC...</td>\n",
       "      <td>63.49</td>\n",
       "    </tr>\n",
       "    <tr>\n",
       "      <th>1</th>\n",
       "      <td>JCP2022_000002</td>\n",
       "      <td>AAAJHRMBUHXWLD-UHFFFAOYSA-N</td>\n",
       "      <td>InChI=1S/C11H13ClN2O/c12-10-4-2-9(3-5-10)8-14-...</td>\n",
       "      <td>OC1=NCCCN1Cc2ccc(Cl)cc2</td>\n",
       "      <td>35.83</td>\n",
       "    </tr>\n",
       "    <tr>\n",
       "      <th>2</th>\n",
       "      <td>JCP2022_000003</td>\n",
       "      <td>AAALVYBICLMAMA-UHFFFAOYSA-N</td>\n",
       "      <td>InChI=1S/C20H15N3O2/c24-19-15-11-17(21-13-7-3-...</td>\n",
       "      <td>OC2=NC(=O)c3cc(Nc1ccccc1)c(cc23)Nc4ccccc4</td>\n",
       "      <td>73.72</td>\n",
       "    </tr>\n",
       "  </tbody>\n",
       "</table>\n",
       "</div>"
      ],
      "text/plain": [
       "  Metadata_JCP2022            Metadata_InChIKey                                     Metadata_InChI                                    Metadata_Smiles Metadata_TPSA\n",
       "0   JCP2022_000001  AAAHWCWPZPSPIW-UHFFFAOYSA-N  InChI=1S/C25H31N5O2/c1-4-23-26-14-16-30(23)24-...  CCC1=NC=CN1c2cccc(n2)C3CCCN3C(=O)c4ccc(cc4)OCC...         63.49\n",
       "1   JCP2022_000002  AAAJHRMBUHXWLD-UHFFFAOYSA-N  InChI=1S/C11H13ClN2O/c12-10-4-2-9(3-5-10)8-14-...                            OC1=NCCCN1Cc2ccc(Cl)cc2         35.83\n",
       "2   JCP2022_000003  AAALVYBICLMAMA-UHFFFAOYSA-N  InChI=1S/C20H15N3O2/c24-19-15-11-17(21-13-7-3-...          OC2=NC(=O)c3cc(Nc1ccccc1)c(cc23)Nc4ccccc4         73.72"
      ]
     },
     "execution_count": 89,
     "metadata": {},
     "output_type": "execute_result"
    },
    {
     "data": {
      "text/html": [
       "<div>\n",
       "<style scoped>\n",
       "    .dataframe tbody tr th:only-of-type {\n",
       "        vertical-align: middle;\n",
       "    }\n",
       "\n",
       "    .dataframe tbody tr th {\n",
       "        vertical-align: top;\n",
       "    }\n",
       "\n",
       "    .dataframe thead th {\n",
       "        text-align: right;\n",
       "    }\n",
       "</style>\n",
       "<table border=\"1\" class=\"dataframe\">\n",
       "  <thead>\n",
       "    <tr style=\"text-align: right;\">\n",
       "      <th></th>\n",
       "      <th>Metadata_JCP2022</th>\n",
       "      <th>Metadata_InChIKey</th>\n",
       "      <th>Metadata_InChI</th>\n",
       "      <th>Metadata_Smiles</th>\n",
       "      <th>Metadata_TPSA</th>\n",
       "    </tr>\n",
       "  </thead>\n",
       "  <tbody>\n",
       "    <tr>\n",
       "      <th>116749</th>\n",
       "      <td>JCP2022_116751</td>\n",
       "      <td>ZZZUOLMMTJKOGE-UHFFFAOYSA-N</td>\n",
       "      <td>InChI=1S/C19H17N5O2/c1-23-9-6-13-7-10-24(19(26...</td>\n",
       "      <td>CN4C=CC3C=CN(CCN=C(O)c2cnc1ccccc1n2)C(=O)C=34</td>\n",
       "      <td>85.3</td>\n",
       "    </tr>\n",
       "    <tr>\n",
       "      <th>116750</th>\n",
       "      <td>JCP2022_116752</td>\n",
       "      <td>ZZZZIBSVRUABIA-UHFFFAOYSA-N</td>\n",
       "      <td>InChI=1S/C19H13F6N3O2S/c1-11-26-6-5-17(27-11)1...</td>\n",
       "      <td>Cc1nccc(n1)c2cccc(c2)NS(=O)(=O)c3cc(cc(c3)C(F)...</td>\n",
       "      <td>71.95</td>\n",
       "    </tr>\n",
       "    <tr>\n",
       "      <th>116751</th>\n",
       "      <td>JCP2022_116753</td>\n",
       "      <td>ZZZZVNLQWWXZTQ-UHFFFAOYSA-N</td>\n",
       "      <td>InChI=1S/C14H20N2O3/c1-18-13-5-3-2-4-12(13)14(...</td>\n",
       "      <td>COc1ccccc1C(O)=NCCN2CCOCC2</td>\n",
       "      <td>54.29</td>\n",
       "    </tr>\n",
       "  </tbody>\n",
       "</table>\n",
       "</div>"
      ],
      "text/plain": [
       "       Metadata_JCP2022            Metadata_InChIKey                                     Metadata_InChI                                    Metadata_Smiles Metadata_TPSA\n",
       "116749   JCP2022_116751  ZZZUOLMMTJKOGE-UHFFFAOYSA-N  InChI=1S/C19H17N5O2/c1-23-9-6-13-7-10-24(19(26...      CN4C=CC3C=CN(CCN=C(O)c2cnc1ccccc1n2)C(=O)C=34          85.3\n",
       "116750   JCP2022_116752  ZZZZIBSVRUABIA-UHFFFAOYSA-N  InChI=1S/C19H13F6N3O2S/c1-11-26-6-5-17(27-11)1...  Cc1nccc(n1)c2cccc(c2)NS(=O)(=O)c3cc(cc(c3)C(F)...         71.95\n",
       "116751   JCP2022_116753  ZZZZVNLQWWXZTQ-UHFFFAOYSA-N  InChI=1S/C14H20N2O3/c1-18-13-5-3-2-4-12(13)14(...                         COc1ccccc1C(O)=NCCN2CCOCC2         54.29"
      ]
     },
     "execution_count": 89,
     "metadata": {},
     "output_type": "execute_result"
    },
    {
     "name": "stdout",
     "output_type": "stream",
     "text": [
      "Compounds with NaN TPSA: \n"
     ]
    },
    {
     "data": {
      "text/html": [
       "<div>\n",
       "<style scoped>\n",
       "    .dataframe tbody tr th:only-of-type {\n",
       "        vertical-align: middle;\n",
       "    }\n",
       "\n",
       "    .dataframe tbody tr th {\n",
       "        vertical-align: top;\n",
       "    }\n",
       "\n",
       "    .dataframe thead th {\n",
       "        text-align: right;\n",
       "    }\n",
       "</style>\n",
       "<table border=\"1\" class=\"dataframe\">\n",
       "  <thead>\n",
       "    <tr style=\"text-align: right;\">\n",
       "      <th></th>\n",
       "      <th>Metadata_JCP2022</th>\n",
       "      <th>Metadata_InChIKey</th>\n",
       "      <th>Metadata_InChI</th>\n",
       "      <th>Metadata_Smiles</th>\n",
       "      <th>Metadata_TPSA</th>\n",
       "    </tr>\n",
       "  </thead>\n",
       "  <tbody>\n",
       "  </tbody>\n",
       "</table>\n",
       "</div>"
      ],
      "text/plain": [
       "Empty DataFrame\n",
       "Columns: [Metadata_JCP2022, Metadata_InChIKey, Metadata_InChI, Metadata_Smiles, Metadata_TPSA]\n",
       "Index: []"
      ]
     },
     "execution_count": 89,
     "metadata": {},
     "output_type": "execute_result"
    },
    {
     "name": "stdout",
     "output_type": "stream",
     "text": [
      "Compounds with Zero TPSA: 60\n"
     ]
    },
    {
     "data": {
      "text/html": [
       "<div>\n",
       "<style scoped>\n",
       "    .dataframe tbody tr th:only-of-type {\n",
       "        vertical-align: middle;\n",
       "    }\n",
       "\n",
       "    .dataframe tbody tr th {\n",
       "        vertical-align: top;\n",
       "    }\n",
       "\n",
       "    .dataframe thead th {\n",
       "        text-align: right;\n",
       "    }\n",
       "</style>\n",
       "<table border=\"1\" class=\"dataframe\">\n",
       "  <thead>\n",
       "    <tr style=\"text-align: right;\">\n",
       "      <th></th>\n",
       "      <th>Metadata_JCP2022</th>\n",
       "      <th>Metadata_InChIKey</th>\n",
       "      <th>Metadata_InChI</th>\n",
       "      <th>Metadata_Smiles</th>\n",
       "      <th>Metadata_TPSA</th>\n",
       "    </tr>\n",
       "  </thead>\n",
       "  <tbody>\n",
       "    <tr>\n",
       "      <th>134</th>\n",
       "      <td>JCP2022_000135</td>\n",
       "      <td>AAQOQKQBGPPFNS-UHFFFAOYSA-N</td>\n",
       "      <td>InChI=1S/C11H17BrN/c1-4-13(2,3)9-10-7-5-6-8-11...</td>\n",
       "      <td>CC[N+](C)(C)Cc1ccccc1Br</td>\n",
       "      <td>0.0</td>\n",
       "    </tr>\n",
       "    <tr>\n",
       "      <th>5457</th>\n",
       "      <td>JCP2022_005458</td>\n",
       "      <td>BCQZXOMGPXTTIC-UHFFFAOYSA-N</td>\n",
       "      <td>InChI=1S/C2HBrClF3/c3-1(4)2(5,6)7/h1H</td>\n",
       "      <td>FC(F)(F)C(Cl)Br</td>\n",
       "      <td>0.0</td>\n",
       "    </tr>\n",
       "    <tr>\n",
       "      <th>8035</th>\n",
       "      <td>JCP2022_008036</td>\n",
       "      <td>BQOFWKZOCNGFEC-UHFFFAOYSA-N</td>\n",
       "      <td>InChI=1S/C10H16/c1-7-4-5-8-9(6-7)10(8,2)3/h4,8...</td>\n",
       "      <td>CC1CC2C(CC=1)C2(C)C</td>\n",
       "      <td>0.0</td>\n",
       "    </tr>\n",
       "    <tr>\n",
       "      <th>8377</th>\n",
       "      <td>JCP2022_008378</td>\n",
       "      <td>BSMYVBKDBCUVBF-UHFFFAOYSA-N</td>\n",
       "      <td>InChI=1S/C22H32N/c1-6-20(16-18(2)21-10-8-7-9-1...</td>\n",
       "      <td>CCC(CC(C)c1ccccc1)c2ccc(C[N+](C)(C)C)cc2</td>\n",
       "      <td>0.0</td>\n",
       "    </tr>\n",
       "    <tr>\n",
       "      <th>10111</th>\n",
       "      <td>JCP2022_010112</td>\n",
       "      <td>CBXCPBUEXACCNR-UHFFFAOYSA-N</td>\n",
       "      <td>InChI=1S/C8H20N/c1-5-9(6-2,7-3)8-4/h5-8H2,1-4H...</td>\n",
       "      <td>CC[N+](CC)(CC)CC</td>\n",
       "      <td>0.0</td>\n",
       "    </tr>\n",
       "    <tr>\n",
       "      <th>13018</th>\n",
       "      <td>JCP2022_013019</td>\n",
       "      <td>CRPUJAZIXJMDBK-UHFFFAOYSA-N</td>\n",
       "      <td>InChI=1S/C10H16/c1-7-8-4-5-9(6-8)10(7,2)3/h8-9...</td>\n",
       "      <td>CC1(C)C(=C)C2CC1CC2</td>\n",
       "      <td>0.0</td>\n",
       "    </tr>\n",
       "    <tr>\n",
       "      <th>14190</th>\n",
       "      <td>JCP2022_014191</td>\n",
       "      <td>CYDRXTMLKJDRQH-UHFFFAOYSA-N</td>\n",
       "      <td>InChI=1S/C21H38N/c1-4-5-6-7-8-9-10-11-12-16-19...</td>\n",
       "      <td>CCCCCCCCCCCC[N+](C)(C)Cc1ccccc1</td>\n",
       "      <td>0.0</td>\n",
       "    </tr>\n",
       "    <tr>\n",
       "      <th>14400</th>\n",
       "      <td>JCP2022_014401</td>\n",
       "      <td>CZDYPVPMEAXLPK-UHFFFAOYSA-N</td>\n",
       "      <td>InChI=1S/C4H12Si/c1-5(2,3)4/h1-4H3</td>\n",
       "      <td>C[Si](C)(C)C</td>\n",
       "      <td>0.0</td>\n",
       "    </tr>\n",
       "    <tr>\n",
       "      <th>16125</th>\n",
       "      <td>JCP2022_016126</td>\n",
       "      <td>DIMMBYOINZRKMD-UHFFFAOYSA-N</td>\n",
       "      <td>InChI=1S/V/q+5</td>\n",
       "      <td>[V+5]</td>\n",
       "      <td>0.0</td>\n",
       "    </tr>\n",
       "    <tr>\n",
       "      <th>21236</th>\n",
       "      <td>JCP2022_021237</td>\n",
       "      <td>FKNQFGJONOIPTF-UHFFFAOYSA-N</td>\n",
       "      <td>InChI=1S/Na/q+1</td>\n",
       "      <td>[Na+]</td>\n",
       "      <td>0.0</td>\n",
       "    </tr>\n",
       "    <tr>\n",
       "      <th>21600</th>\n",
       "      <td>JCP2022_021601</td>\n",
       "      <td>FMMWHPNWAFZXNH-UHFFFAOYSA-N</td>\n",
       "      <td>InChI=1S/C20H12/c1-2-7-17-15(4-1)12-16-9-8-13-...</td>\n",
       "      <td>c1ccc2c(c1)cc3ccc4cccc5ccc2c3c45</td>\n",
       "      <td>0.0</td>\n",
       "    </tr>\n",
       "    <tr>\n",
       "      <th>21659</th>\n",
       "      <td>JCP2022_021660</td>\n",
       "      <td>FMVKCNOAGUSJQW-UHFFFAOYSA-N</td>\n",
       "      <td>InChI=1S/C18H16S/c1-14-12-13-17(19-14)18(15-8-...</td>\n",
       "      <td>CC1=CC=C(S1)C(c2ccccc2)c3ccccc3</td>\n",
       "      <td>0.0</td>\n",
       "    </tr>\n",
       "    <tr>\n",
       "      <th>23414</th>\n",
       "      <td>JCP2022_023415</td>\n",
       "      <td>FWKQNCXZGNBPFD-UHFFFAOYSA-N</td>\n",
       "      <td>InChI=1S/C15H18/c1-10(2)13-7-5-11(3)14-8-6-12(...</td>\n",
       "      <td>CC(C)c2ccc(C)c1ccc(C)c1c2</td>\n",
       "      <td>0.0</td>\n",
       "    </tr>\n",
       "    <tr>\n",
       "      <th>23421</th>\n",
       "      <td>JCP2022_023422</td>\n",
       "      <td>FWLORMQUOWCQPO-UHFFFAOYSA-N</td>\n",
       "      <td>InChI=1S/C27H50N/c1-4-5-6-7-8-9-10-11-12-13-14...</td>\n",
       "      <td>CCCCCCCCCCCCCCCCCC[N+](C)(C)Cc1ccccc1</td>\n",
       "      <td>0.0</td>\n",
       "    </tr>\n",
       "    <tr>\n",
       "      <th>27359</th>\n",
       "      <td>JCP2022_027360</td>\n",
       "      <td>GRWFGVWFFZKLTI-UHFFFAOYSA-N</td>\n",
       "      <td>InChI=1S/C10H16/c1-7-4-5-8-6-9(7)10(8,2)3/h4,8...</td>\n",
       "      <td>CC1=CCC2CC1C2(C)C</td>\n",
       "      <td>0.0</td>\n",
       "    </tr>\n",
       "    <tr>\n",
       "      <th>29339</th>\n",
       "      <td>JCP2022_029341</td>\n",
       "      <td>HCNGUXXTNNIKCQ-UHFFFAOYSA-N</td>\n",
       "      <td>InChI=1S/Mo/q+6</td>\n",
       "      <td>[Mo+6]</td>\n",
       "      <td>0.0</td>\n",
       "    </tr>\n",
       "    <tr>\n",
       "      <th>29890</th>\n",
       "      <td>JCP2022_029892</td>\n",
       "      <td>HFPZCAJZSCWRBC-UHFFFAOYSA-N</td>\n",
       "      <td>InChI=1S/C10H14/c1-8(2)10-6-4-9(3)5-7-10/h4-8H...</td>\n",
       "      <td>CC(C)c1ccc(C)cc1</td>\n",
       "      <td>0.0</td>\n",
       "    </tr>\n",
       "    <tr>\n",
       "      <th>32192</th>\n",
       "      <td>JCP2022_032194</td>\n",
       "      <td>HRZQNDWDAPBHSB-UHFFFAOYSA-N</td>\n",
       "      <td>InChI=1S/C15H36N2/c1-7-8-9-10-11-14-17(5,6)15-...</td>\n",
       "      <td>CCCCCCC[N+](C)(C)CCC[N+](C)(C)C</td>\n",
       "      <td>0.0</td>\n",
       "    </tr>\n",
       "    <tr>\n",
       "      <th>37158</th>\n",
       "      <td>JCP2022_037160</td>\n",
       "      <td>ISPYNXGXZRLLHM-UHFFFAOYSA-N</td>\n",
       "      <td>InChI=1S/C15H9Cl2F3/c16-13-7-11(8-14(17)9-13)2...</td>\n",
       "      <td>FC(F)(F)c2ccc(C=Cc1cc(Cl)cc(Cl)c1)cc2</td>\n",
       "      <td>0.0</td>\n",
       "    </tr>\n",
       "    <tr>\n",
       "      <th>38237</th>\n",
       "      <td>JCP2022_038239</td>\n",
       "      <td>IYYZUPMFVPLQIF-UHFFFAOYSA-N</td>\n",
       "      <td>InChI=1S/C12H8S/c1-3-7-11-9(5-1)10-6-2-4-8-12(...</td>\n",
       "      <td>c1ccc3c(c1)Sc2ccccc23</td>\n",
       "      <td>0.0</td>\n",
       "    </tr>\n",
       "    <tr>\n",
       "      <th>40830</th>\n",
       "      <td>JCP2022_040832</td>\n",
       "      <td>JMYNPQVCVQVODQ-UHFFFAOYSA-N</td>\n",
       "      <td>InChI=1S/C14H9Cl3/c15-12-5-3-10(4-6-12)1-2-11-...</td>\n",
       "      <td>Clc2ccc(C=Cc1cc(Cl)cc(Cl)c1)cc2</td>\n",
       "      <td>0.0</td>\n",
       "    </tr>\n",
       "    <tr>\n",
       "      <th>41302</th>\n",
       "      <td>JCP2022_041304</td>\n",
       "      <td>JPOJMYYCSNHYRY-UHFFFAOYSA-N</td>\n",
       "      <td>InChI=1S/3Na.V/q;;;+8</td>\n",
       "      <td>[Na].[Na].[Na].[V+8]</td>\n",
       "      <td>0.0</td>\n",
       "    </tr>\n",
       "    <tr>\n",
       "      <th>42497</th>\n",
       "      <td>JCP2022_042499</td>\n",
       "      <td>JWBOIMRXGHLCPP-UHFFFAOYSA-N</td>\n",
       "      <td>InChI=1S/C14H10Cl4/c15-10-7-5-9(6-8-10)13(14(1...</td>\n",
       "      <td>ClC(Cl)C(c1ccc(Cl)cc1)c2ccccc2Cl</td>\n",
       "      <td>0.0</td>\n",
       "    </tr>\n",
       "    <tr>\n",
       "      <th>42864</th>\n",
       "      <td>JCP2022_042866</td>\n",
       "      <td>JXZGMDYNCUEGNH-UHFFFAOYSA-N</td>\n",
       "      <td>InChI=1S/C34H46N/c1-33(2,3)31-18-14-27(15-19-3...</td>\n",
       "      <td>CC(C)(C)c4ccc(CC3CCC[N+](Cc1ccccc1)(Cc2ccc(cc2...</td>\n",
       "      <td>0.0</td>\n",
       "    </tr>\n",
       "    <tr>\n",
       "      <th>47662</th>\n",
       "      <td>JCP2022_047664</td>\n",
       "      <td>KXSFECAJUBPPFE-UHFFFAOYSA-N</td>\n",
       "      <td>InChI=1S/C12H8S3/c1-3-9(13-7-1)11-5-6-12(15-11...</td>\n",
       "      <td>C1=CSC(=C1)C2=CC=C(S2)C3=CC=CS3</td>\n",
       "      <td>0.0</td>\n",
       "    </tr>\n",
       "    <tr>\n",
       "      <th>48541</th>\n",
       "      <td>JCP2022_048543</td>\n",
       "      <td>LCKIEQZJEYYRIY-UHFFFAOYSA-N</td>\n",
       "      <td>InChI=1S/Ti/q+4</td>\n",
       "      <td>[Ti+4]</td>\n",
       "      <td>0.0</td>\n",
       "    </tr>\n",
       "    <tr>\n",
       "      <th>48610</th>\n",
       "      <td>JCP2022_048612</td>\n",
       "      <td>LCTZPQRFOZKZNK-UHFFFAOYSA-N</td>\n",
       "      <td>InChI=1S/C20H24N/c1-21(2)15-13-19(14-16-21)20(...</td>\n",
       "      <td>C[N+]1(C)CCC(CC1)=C(c2ccccc2)c3ccccc3</td>\n",
       "      <td>0.0</td>\n",
       "    </tr>\n",
       "    <tr>\n",
       "      <th>53339</th>\n",
       "      <td>JCP2022_053341</td>\n",
       "      <td>MCZUXEWWARACSP-UHFFFAOYSA-N</td>\n",
       "      <td>InChI=1S/C12H8/c1-2-10-7-5-8-11-6-3-4-9-12(10)...</td>\n",
       "      <td>C#Cc1cccc2ccccc12</td>\n",
       "      <td>0.0</td>\n",
       "    </tr>\n",
       "    <tr>\n",
       "      <th>56345</th>\n",
       "      <td>JCP2022_056347</td>\n",
       "      <td>MTCUAOILFDZKCO-UHFFFAOYSA-N</td>\n",
       "      <td>InChI=1S/C16H38N2/c1-17(2,3)15-13-11-9-7-8-10-...</td>\n",
       "      <td>C[N+](C)(C)CCCCCCCCCC[N+](C)(C)C</td>\n",
       "      <td>0.0</td>\n",
       "    </tr>\n",
       "    <tr>\n",
       "      <th>58101</th>\n",
       "      <td>JCP2022_058103</td>\n",
       "      <td>NCMHKCKGHRPLCM-UHFFFAOYSA-N</td>\n",
       "      <td>InChI=1S/Cs/q+1</td>\n",
       "      <td>[Cs+]</td>\n",
       "      <td>0.0</td>\n",
       "    </tr>\n",
       "    <tr>\n",
       "      <th>60532</th>\n",
       "      <td>JCP2022_060534</td>\n",
       "      <td>NPNUFJAVOOONJE-UHFFFAOYSA-N</td>\n",
       "      <td>InChI=1S/C15H24/c1-11-6-5-7-12(2)13-10-15(3,4)...</td>\n",
       "      <td>CC2CCC1C(CC1(C)C)C(=C)CCC=2</td>\n",
       "      <td>0.0</td>\n",
       "    </tr>\n",
       "    <tr>\n",
       "      <th>61615</th>\n",
       "      <td>JCP2022_061617</td>\n",
       "      <td>NVLPQIPTCCLBEU-UHFFFAOYSA-N</td>\n",
       "      <td>InChI=1S/C4H8S/c1-3-4-5-2/h3H,1,4H2,2H3</td>\n",
       "      <td>C=CCSC</td>\n",
       "      <td>0.0</td>\n",
       "    </tr>\n",
       "    <tr>\n",
       "      <th>62894</th>\n",
       "      <td>JCP2022_062896</td>\n",
       "      <td>OCJBOOLMMGQPQU-UHFFFAOYSA-N</td>\n",
       "      <td>InChI=1S/C6H4Cl2/c7-5-1-2-6(8)4-3-5/h1-4H</td>\n",
       "      <td>Clc1ccc(Cl)cc1</td>\n",
       "      <td>0.0</td>\n",
       "    </tr>\n",
       "    <tr>\n",
       "      <th>63294</th>\n",
       "      <td>JCP2022_063296</td>\n",
       "      <td>OENHQHLEOONYIE-UHFFFAOYSA-N</td>\n",
       "      <td>InChI=1S/C40H56/c1-31(19-13-21-33(3)25-27-37-3...</td>\n",
       "      <td>CC(C=CC=C(C)C=CC1=C(C)CCCC1(C)C)=CC=CC=C(C)C=C...</td>\n",
       "      <td>0.0</td>\n",
       "    </tr>\n",
       "    <tr>\n",
       "      <th>65257</th>\n",
       "      <td>JCP2022_065259</td>\n",
       "      <td>OPFTUNCRGUEPRZ-UHFFFAOYSA-N</td>\n",
       "      <td>InChI=1S/C15H24/c1-7-15(6)9-8-13(11(2)3)10-14(...</td>\n",
       "      <td>CC(=C)C1CCC(C)(C=C)C(C1)C(C)=C</td>\n",
       "      <td>0.0</td>\n",
       "    </tr>\n",
       "    <tr>\n",
       "      <th>67917</th>\n",
       "      <td>JCP2022_067919</td>\n",
       "      <td>PDSNLYSELAIEBU-UHFFFAOYSA-N</td>\n",
       "      <td>InChI=1S/C15H24/c1-10-11-6-7-12-13(11)14(2,3)8...</td>\n",
       "      <td>CC3(C)CCCC1(C)C(=C)C2CCC1C23</td>\n",
       "      <td>0.0</td>\n",
       "    </tr>\n",
       "    <tr>\n",
       "      <th>67918</th>\n",
       "      <td>JCP2022_067920</td>\n",
       "      <td>PDSVZUAJOIQXRK-UHFFFAOYSA-N</td>\n",
       "      <td>InChI=1S/C21H46N/c1-5-6-7-8-9-10-11-12-13-14-1...</td>\n",
       "      <td>CCCCCCCCCCCCCCCCCC[N+](C)(C)C</td>\n",
       "      <td>0.0</td>\n",
       "    </tr>\n",
       "    <tr>\n",
       "      <th>70414</th>\n",
       "      <td>JCP2022_070416</td>\n",
       "      <td>PRAKJMSDJKAYCZ-UHFFFAOYSA-N</td>\n",
       "      <td>InChI=1S/C30H62/c1-25(2)15-11-19-29(7)23-13-21...</td>\n",
       "      <td>CC(C)CCCC(C)CCCC(C)CCCCC(C)CCCC(C)CCCC(C)C</td>\n",
       "      <td>0.0</td>\n",
       "    </tr>\n",
       "    <tr>\n",
       "      <th>71671</th>\n",
       "      <td>JCP2022_071673</td>\n",
       "      <td>PXVOATXCSSPUEM-UHFFFAOYSA-N</td>\n",
       "      <td>InChI=1S/C10H15I/c11-10-4-7-1-8(5-10)3-9(2-7)6...</td>\n",
       "      <td>IC23CC1CC(CC(C1)C2)C3</td>\n",
       "      <td>0.0</td>\n",
       "    </tr>\n",
       "    <tr>\n",
       "      <th>72799</th>\n",
       "      <td>JCP2022_072801</td>\n",
       "      <td>QDYLMAYUEZBUFO-UHFFFAOYSA-N</td>\n",
       "      <td>InChI=1S/C25H46N/c1-4-5-6-7-8-9-10-11-12-13-14...</td>\n",
       "      <td>CCCCCCCCCCCCCCCC[N+](C)(C)Cc1ccccc1</td>\n",
       "      <td>0.0</td>\n",
       "    </tr>\n",
       "    <tr>\n",
       "      <th>73110</th>\n",
       "      <td>JCP2022_073112</td>\n",
       "      <td>QFQZKISCBJKVHI-UHFFFAOYSA-N</td>\n",
       "      <td>InChI=1S/C6H6Br6/c7-1-2(8)4(10)6(12)5(11)3(1)9...</td>\n",
       "      <td>BrC1C(Br)C(Br)C(Br)C(Br)C1Br</td>\n",
       "      <td>0.0</td>\n",
       "    </tr>\n",
       "    <tr>\n",
       "      <th>73159</th>\n",
       "      <td>JCP2022_073161</td>\n",
       "      <td>QFXKXRXFBRLLPQ-UHFFFAOYSA-N</td>\n",
       "      <td>InChI=1S/C12H8I/c1-3-7-11-9(5-1)10-6-2-4-8-12(...</td>\n",
       "      <td>c1ccc3c(c1)[I+]c2ccccc23</td>\n",
       "      <td>0.0</td>\n",
       "    </tr>\n",
       "    <tr>\n",
       "      <th>75097</th>\n",
       "      <td>JCP2022_075099</td>\n",
       "      <td>QPUYECUOLPXSFR-UHFFFAOYSA-N</td>\n",
       "      <td>InChI=1S/C11H10/c1-9-5-4-7-10-6-2-3-8-11(9)10/...</td>\n",
       "      <td>Cc1cccc2ccccc12</td>\n",
       "      <td>0.0</td>\n",
       "    </tr>\n",
       "    <tr>\n",
       "      <th>79095</th>\n",
       "      <td>JCP2022_079097</td>\n",
       "      <td>RLGQACBPNDBWTB-UHFFFAOYSA-N</td>\n",
       "      <td>InChI=1S/C19H42N/c1-5-6-7-8-9-10-11-12-13-14-1...</td>\n",
       "      <td>CCCCCCCCCCCCCCCC[N+](C)(C)C</td>\n",
       "      <td>0.0</td>\n",
       "    </tr>\n",
       "    <tr>\n",
       "      <th>80229</th>\n",
       "      <td>JCP2022_080231</td>\n",
       "      <td>RRHGJUQNOFWUDK-UHFFFAOYSA-N</td>\n",
       "      <td>InChI=1S/C5H8/c1-4-5(2)3/h4H,1-2H2,3H3</td>\n",
       "      <td>CC(=C)C=C</td>\n",
       "      <td>0.0</td>\n",
       "    </tr>\n",
       "    <tr>\n",
       "      <th>87986</th>\n",
       "      <td>JCP2022_087988</td>\n",
       "      <td>UARILQSOMYIQCM-UHFFFAOYSA-N</td>\n",
       "      <td>InChI=1S/C19H34N/c1-4-5-6-7-8-9-10-14-17-20(2,...</td>\n",
       "      <td>CCCCCCCCCC[N+](C)(C)Cc1ccccc1</td>\n",
       "      <td>0.0</td>\n",
       "    </tr>\n",
       "    <tr>\n",
       "      <th>88105</th>\n",
       "      <td>JCP2022_088107</td>\n",
       "      <td>UBJVUCKUDDKUJF-UHFFFAOYSA-N</td>\n",
       "      <td>InChI=1S/C6H10S/c1-3-5-7-6-4-2/h3-4H,1-2,5-6H2</td>\n",
       "      <td>C=CCSCC=C</td>\n",
       "      <td>0.0</td>\n",
       "    </tr>\n",
       "    <tr>\n",
       "      <th>88314</th>\n",
       "      <td>JCP2022_088316</td>\n",
       "      <td>UCNVFOCBFJOQAL-UHFFFAOYSA-N</td>\n",
       "      <td>InChI=1S/C14H8Cl4/c15-11-5-1-9(2-6-11)13(14(17...</td>\n",
       "      <td>ClC(Cl)=C(c1ccc(Cl)cc1)c2ccc(Cl)cc2</td>\n",
       "      <td>0.0</td>\n",
       "    </tr>\n",
       "    <tr>\n",
       "      <th>97305</th>\n",
       "      <td>JCP2022_097307</td>\n",
       "      <td>VZJFGSRCJCXDSG-UHFFFAOYSA-N</td>\n",
       "      <td>InChI=1S/C12H30N2/c1-13(2,3)11-9-7-8-10-12-14(...</td>\n",
       "      <td>C[N+](C)(C)CCCCCC[N+](C)(C)C</td>\n",
       "      <td>0.0</td>\n",
       "    </tr>\n",
       "    <tr>\n",
       "      <th>97446</th>\n",
       "      <td>JCP2022_097448</td>\n",
       "      <td>WACRAFUNNYGNEQ-UHFFFAOYSA-N</td>\n",
       "      <td>InChI=1S/C8H18N/c1-3-9(2)7-5-4-6-8-9/h3-8H2,1-...</td>\n",
       "      <td>CC[N+]1(C)CCCCC1</td>\n",
       "      <td>0.0</td>\n",
       "    </tr>\n",
       "    <tr>\n",
       "      <th>97991</th>\n",
       "      <td>JCP2022_097993</td>\n",
       "      <td>WDECIBYCCFPHNR-UHFFFAOYSA-N</td>\n",
       "      <td>InChI=1S/C18H12/c1-3-7-15-13(5-1)9-11-18-16-8-...</td>\n",
       "      <td>c1ccc3c(c1)ccc4c2ccccc2ccc34</td>\n",
       "      <td>0.0</td>\n",
       "    </tr>\n",
       "    <tr>\n",
       "      <th>100362</th>\n",
       "      <td>JCP2022_100364</td>\n",
       "      <td>WPSYTTKBGAZSCX-UHFFFAOYSA-N</td>\n",
       "      <td>InChI=1S/C21H37ClN/c1-4-7-8-9-11-18-23(5-2,6-3...</td>\n",
       "      <td>CCCCCCC[N+](CC)(CC)CCCCc1ccc(Cl)cc1</td>\n",
       "      <td>0.0</td>\n",
       "    </tr>\n",
       "    <tr>\n",
       "      <th>100979</th>\n",
       "      <td>JCP2022_100981</td>\n",
       "      <td>WTARULDDTDQWMU-UHFFFAOYSA-N</td>\n",
       "      <td>InChI=1S/C10H16/c1-7-4-5-8-6-9(7)10(8,2)3/h8-9...</td>\n",
       "      <td>CC1(C)C2CCC(=C)C1C2</td>\n",
       "      <td>0.0</td>\n",
       "    </tr>\n",
       "    <tr>\n",
       "      <th>101162</th>\n",
       "      <td>JCP2022_101164</td>\n",
       "      <td>WTWWXOGTJWMJHI-UHFFFAOYSA-N</td>\n",
       "      <td>InChI=1S/C8BrF17/c9-7(22,23)5(18,19)3(14,15)1(...</td>\n",
       "      <td>FC(F)(F)C(F)(F)C(F)(F)C(F)(F)C(F)(F)C(F)(F)C(F...</td>\n",
       "      <td>0.0</td>\n",
       "    </tr>\n",
       "    <tr>\n",
       "      <th>104495</th>\n",
       "      <td>JCP2022_104497</td>\n",
       "      <td>XMBWDFGMSWQBCA-UHFFFAOYSA-N</td>\n",
       "      <td>InChI=1S/HI/h1H</td>\n",
       "      <td>I</td>\n",
       "      <td>0.0</td>\n",
       "    </tr>\n",
       "    <tr>\n",
       "      <th>104532</th>\n",
       "      <td>JCP2022_104534</td>\n",
       "      <td>XMGQYMWWDOXHJM-UHFFFAOYSA-N</td>\n",
       "      <td>InChI=1S/C10H16/c1-8(2)10-6-4-9(3)5-7-10/h4,10...</td>\n",
       "      <td>CC(=C)C1CCC(C)=CC1</td>\n",
       "      <td>0.0</td>\n",
       "    </tr>\n",
       "    <tr>\n",
       "      <th>110584</th>\n",
       "      <td>JCP2022_110586</td>\n",
       "      <td>YSQBVIAGPLXQJH-UHFFFAOYSA-N</td>\n",
       "      <td>InChI=1S/C7H6Cl2S/c1-10-6-4-2-3-5(8)7(6)9/h2-4...</td>\n",
       "      <td>CSc1cccc(Cl)c1Cl</td>\n",
       "      <td>0.0</td>\n",
       "    </tr>\n",
       "    <tr>\n",
       "      <th>111271</th>\n",
       "      <td>JCP2022_111273</td>\n",
       "      <td>YWHLKYXPLRWGSE-UHFFFAOYSA-N</td>\n",
       "      <td>InChI=1S/C2H6S3/c1-3-5-4-2/h1-2H3</td>\n",
       "      <td>CSSSC</td>\n",
       "      <td>0.0</td>\n",
       "    </tr>\n",
       "    <tr>\n",
       "      <th>111667</th>\n",
       "      <td>JCP2022_111669</td>\n",
       "      <td>YYGNTYWPHWGJRM-UHFFFAOYSA-N</td>\n",
       "      <td>InChI=1S/C30H50/c1-25(2)15-11-19-29(7)23-13-21...</td>\n",
       "      <td>CC(C)=CCCC(C)=CCCC(C)=CCCC=C(C)CCC=C(C)CCC=C(C)C</td>\n",
       "      <td>0.0</td>\n",
       "    </tr>\n",
       "    <tr>\n",
       "      <th>114868</th>\n",
       "      <td>JCP2022_114870</td>\n",
       "      <td>ZPQOPVIELGIULI-UHFFFAOYSA-N</td>\n",
       "      <td>InChI=1S/C6H4Cl2/c7-5-2-1-3-6(8)4-5/h1-4H</td>\n",
       "      <td>Clc1cccc(Cl)c1</td>\n",
       "      <td>0.0</td>\n",
       "    </tr>\n",
       "  </tbody>\n",
       "</table>\n",
       "</div>"
      ],
      "text/plain": [
       "       Metadata_JCP2022            Metadata_InChIKey                                     Metadata_InChI                                    Metadata_Smiles Metadata_TPSA\n",
       "134      JCP2022_000135  AAQOQKQBGPPFNS-UHFFFAOYSA-N  InChI=1S/C11H17BrN/c1-4-13(2,3)9-10-7-5-6-8-11...                            CC[N+](C)(C)Cc1ccccc1Br           0.0\n",
       "5457     JCP2022_005458  BCQZXOMGPXTTIC-UHFFFAOYSA-N              InChI=1S/C2HBrClF3/c3-1(4)2(5,6)7/h1H                                    FC(F)(F)C(Cl)Br           0.0\n",
       "8035     JCP2022_008036  BQOFWKZOCNGFEC-UHFFFAOYSA-N  InChI=1S/C10H16/c1-7-4-5-8-9(6-7)10(8,2)3/h4,8...                                CC1CC2C(CC=1)C2(C)C           0.0\n",
       "8377     JCP2022_008378  BSMYVBKDBCUVBF-UHFFFAOYSA-N  InChI=1S/C22H32N/c1-6-20(16-18(2)21-10-8-7-9-1...           CCC(CC(C)c1ccccc1)c2ccc(C[N+](C)(C)C)cc2           0.0\n",
       "10111    JCP2022_010112  CBXCPBUEXACCNR-UHFFFAOYSA-N  InChI=1S/C8H20N/c1-5-9(6-2,7-3)8-4/h5-8H2,1-4H...                                   CC[N+](CC)(CC)CC           0.0\n",
       "13018    JCP2022_013019  CRPUJAZIXJMDBK-UHFFFAOYSA-N  InChI=1S/C10H16/c1-7-8-4-5-9(6-8)10(7,2)3/h8-9...                                CC1(C)C(=C)C2CC1CC2           0.0\n",
       "14190    JCP2022_014191  CYDRXTMLKJDRQH-UHFFFAOYSA-N  InChI=1S/C21H38N/c1-4-5-6-7-8-9-10-11-12-16-19...                    CCCCCCCCCCCC[N+](C)(C)Cc1ccccc1           0.0\n",
       "14400    JCP2022_014401  CZDYPVPMEAXLPK-UHFFFAOYSA-N                 InChI=1S/C4H12Si/c1-5(2,3)4/h1-4H3                                       C[Si](C)(C)C           0.0\n",
       "16125    JCP2022_016126  DIMMBYOINZRKMD-UHFFFAOYSA-N                                     InChI=1S/V/q+5                                              [V+5]           0.0\n",
       "21236    JCP2022_021237  FKNQFGJONOIPTF-UHFFFAOYSA-N                                    InChI=1S/Na/q+1                                              [Na+]           0.0\n",
       "21600    JCP2022_021601  FMMWHPNWAFZXNH-UHFFFAOYSA-N  InChI=1S/C20H12/c1-2-7-17-15(4-1)12-16-9-8-13-...                   c1ccc2c(c1)cc3ccc4cccc5ccc2c3c45           0.0\n",
       "21659    JCP2022_021660  FMVKCNOAGUSJQW-UHFFFAOYSA-N  InChI=1S/C18H16S/c1-14-12-13-17(19-14)18(15-8-...                    CC1=CC=C(S1)C(c2ccccc2)c3ccccc3           0.0\n",
       "23414    JCP2022_023415  FWKQNCXZGNBPFD-UHFFFAOYSA-N  InChI=1S/C15H18/c1-10(2)13-7-5-11(3)14-8-6-12(...                          CC(C)c2ccc(C)c1ccc(C)c1c2           0.0\n",
       "23421    JCP2022_023422  FWLORMQUOWCQPO-UHFFFAOYSA-N  InChI=1S/C27H50N/c1-4-5-6-7-8-9-10-11-12-13-14...              CCCCCCCCCCCCCCCCCC[N+](C)(C)Cc1ccccc1           0.0\n",
       "27359    JCP2022_027360  GRWFGVWFFZKLTI-UHFFFAOYSA-N  InChI=1S/C10H16/c1-7-4-5-8-6-9(7)10(8,2)3/h4,8...                                  CC1=CCC2CC1C2(C)C           0.0\n",
       "29339    JCP2022_029341  HCNGUXXTNNIKCQ-UHFFFAOYSA-N                                    InChI=1S/Mo/q+6                                             [Mo+6]           0.0\n",
       "29890    JCP2022_029892  HFPZCAJZSCWRBC-UHFFFAOYSA-N  InChI=1S/C10H14/c1-8(2)10-6-4-9(3)5-7-10/h4-8H...                                   CC(C)c1ccc(C)cc1           0.0\n",
       "32192    JCP2022_032194  HRZQNDWDAPBHSB-UHFFFAOYSA-N  InChI=1S/C15H36N2/c1-7-8-9-10-11-14-17(5,6)15-...                    CCCCCCC[N+](C)(C)CCC[N+](C)(C)C           0.0\n",
       "37158    JCP2022_037160  ISPYNXGXZRLLHM-UHFFFAOYSA-N  InChI=1S/C15H9Cl2F3/c16-13-7-11(8-14(17)9-13)2...              FC(F)(F)c2ccc(C=Cc1cc(Cl)cc(Cl)c1)cc2           0.0\n",
       "38237    JCP2022_038239  IYYZUPMFVPLQIF-UHFFFAOYSA-N  InChI=1S/C12H8S/c1-3-7-11-9(5-1)10-6-2-4-8-12(...                              c1ccc3c(c1)Sc2ccccc23           0.0\n",
       "40830    JCP2022_040832  JMYNPQVCVQVODQ-UHFFFAOYSA-N  InChI=1S/C14H9Cl3/c15-12-5-3-10(4-6-12)1-2-11-...                    Clc2ccc(C=Cc1cc(Cl)cc(Cl)c1)cc2           0.0\n",
       "41302    JCP2022_041304  JPOJMYYCSNHYRY-UHFFFAOYSA-N                              InChI=1S/3Na.V/q;;;+8                               [Na].[Na].[Na].[V+8]           0.0\n",
       "42497    JCP2022_042499  JWBOIMRXGHLCPP-UHFFFAOYSA-N  InChI=1S/C14H10Cl4/c15-10-7-5-9(6-8-10)13(14(1...                   ClC(Cl)C(c1ccc(Cl)cc1)c2ccccc2Cl           0.0\n",
       "42864    JCP2022_042866  JXZGMDYNCUEGNH-UHFFFAOYSA-N  InChI=1S/C34H46N/c1-33(2,3)31-18-14-27(15-19-3...  CC(C)(C)c4ccc(CC3CCC[N+](Cc1ccccc1)(Cc2ccc(cc2...           0.0\n",
       "47662    JCP2022_047664  KXSFECAJUBPPFE-UHFFFAOYSA-N  InChI=1S/C12H8S3/c1-3-9(13-7-1)11-5-6-12(15-11...                    C1=CSC(=C1)C2=CC=C(S2)C3=CC=CS3           0.0\n",
       "48541    JCP2022_048543  LCKIEQZJEYYRIY-UHFFFAOYSA-N                                    InChI=1S/Ti/q+4                                             [Ti+4]           0.0\n",
       "48610    JCP2022_048612  LCTZPQRFOZKZNK-UHFFFAOYSA-N  InChI=1S/C20H24N/c1-21(2)15-13-19(14-16-21)20(...              C[N+]1(C)CCC(CC1)=C(c2ccccc2)c3ccccc3           0.0\n",
       "53339    JCP2022_053341  MCZUXEWWARACSP-UHFFFAOYSA-N  InChI=1S/C12H8/c1-2-10-7-5-8-11-6-3-4-9-12(10)...                                  C#Cc1cccc2ccccc12           0.0\n",
       "56345    JCP2022_056347  MTCUAOILFDZKCO-UHFFFAOYSA-N  InChI=1S/C16H38N2/c1-17(2,3)15-13-11-9-7-8-10-...                   C[N+](C)(C)CCCCCCCCCC[N+](C)(C)C           0.0\n",
       "58101    JCP2022_058103  NCMHKCKGHRPLCM-UHFFFAOYSA-N                                    InChI=1S/Cs/q+1                                              [Cs+]           0.0\n",
       "60532    JCP2022_060534  NPNUFJAVOOONJE-UHFFFAOYSA-N  InChI=1S/C15H24/c1-11-6-5-7-12(2)13-10-15(3,4)...                        CC2CCC1C(CC1(C)C)C(=C)CCC=2           0.0\n",
       "61615    JCP2022_061617  NVLPQIPTCCLBEU-UHFFFAOYSA-N            InChI=1S/C4H8S/c1-3-4-5-2/h3H,1,4H2,2H3                                             C=CCSC           0.0\n",
       "62894    JCP2022_062896  OCJBOOLMMGQPQU-UHFFFAOYSA-N          InChI=1S/C6H4Cl2/c7-5-1-2-6(8)4-3-5/h1-4H                                     Clc1ccc(Cl)cc1           0.0\n",
       "63294    JCP2022_063296  OENHQHLEOONYIE-UHFFFAOYSA-N  InChI=1S/C40H56/c1-31(19-13-21-33(3)25-27-37-3...  CC(C=CC=C(C)C=CC1=C(C)CCCC1(C)C)=CC=CC=C(C)C=C...           0.0\n",
       "65257    JCP2022_065259  OPFTUNCRGUEPRZ-UHFFFAOYSA-N  InChI=1S/C15H24/c1-7-15(6)9-8-13(11(2)3)10-14(...                     CC(=C)C1CCC(C)(C=C)C(C1)C(C)=C           0.0\n",
       "67917    JCP2022_067919  PDSNLYSELAIEBU-UHFFFAOYSA-N  InChI=1S/C15H24/c1-10-11-6-7-12-13(11)14(2,3)8...                       CC3(C)CCCC1(C)C(=C)C2CCC1C23           0.0\n",
       "67918    JCP2022_067920  PDSVZUAJOIQXRK-UHFFFAOYSA-N  InChI=1S/C21H46N/c1-5-6-7-8-9-10-11-12-13-14-1...                      CCCCCCCCCCCCCCCCCC[N+](C)(C)C           0.0\n",
       "70414    JCP2022_070416  PRAKJMSDJKAYCZ-UHFFFAOYSA-N  InChI=1S/C30H62/c1-25(2)15-11-19-29(7)23-13-21...         CC(C)CCCC(C)CCCC(C)CCCCC(C)CCCC(C)CCCC(C)C           0.0\n",
       "71671    JCP2022_071673  PXVOATXCSSPUEM-UHFFFAOYSA-N  InChI=1S/C10H15I/c11-10-4-7-1-8(5-10)3-9(2-7)6...                              IC23CC1CC(CC(C1)C2)C3           0.0\n",
       "72799    JCP2022_072801  QDYLMAYUEZBUFO-UHFFFAOYSA-N  InChI=1S/C25H46N/c1-4-5-6-7-8-9-10-11-12-13-14...                CCCCCCCCCCCCCCCC[N+](C)(C)Cc1ccccc1           0.0\n",
       "73110    JCP2022_073112  QFQZKISCBJKVHI-UHFFFAOYSA-N  InChI=1S/C6H6Br6/c7-1-2(8)4(10)6(12)5(11)3(1)9...                       BrC1C(Br)C(Br)C(Br)C(Br)C1Br           0.0\n",
       "73159    JCP2022_073161  QFXKXRXFBRLLPQ-UHFFFAOYSA-N  InChI=1S/C12H8I/c1-3-7-11-9(5-1)10-6-2-4-8-12(...                           c1ccc3c(c1)[I+]c2ccccc23           0.0\n",
       "75097    JCP2022_075099  QPUYECUOLPXSFR-UHFFFAOYSA-N  InChI=1S/C11H10/c1-9-5-4-7-10-6-2-3-8-11(9)10/...                                    Cc1cccc2ccccc12           0.0\n",
       "79095    JCP2022_079097  RLGQACBPNDBWTB-UHFFFAOYSA-N  InChI=1S/C19H42N/c1-5-6-7-8-9-10-11-12-13-14-1...                        CCCCCCCCCCCCCCCC[N+](C)(C)C           0.0\n",
       "80229    JCP2022_080231  RRHGJUQNOFWUDK-UHFFFAOYSA-N             InChI=1S/C5H8/c1-4-5(2)3/h4H,1-2H2,3H3                                          CC(=C)C=C           0.0\n",
       "87986    JCP2022_087988  UARILQSOMYIQCM-UHFFFAOYSA-N  InChI=1S/C19H34N/c1-4-5-6-7-8-9-10-14-17-20(2,...                      CCCCCCCCCC[N+](C)(C)Cc1ccccc1           0.0\n",
       "88105    JCP2022_088107  UBJVUCKUDDKUJF-UHFFFAOYSA-N     InChI=1S/C6H10S/c1-3-5-7-6-4-2/h3-4H,1-2,5-6H2                                          C=CCSCC=C           0.0\n",
       "88314    JCP2022_088316  UCNVFOCBFJOQAL-UHFFFAOYSA-N  InChI=1S/C14H8Cl4/c15-11-5-1-9(2-6-11)13(14(17...                ClC(Cl)=C(c1ccc(Cl)cc1)c2ccc(Cl)cc2           0.0\n",
       "97305    JCP2022_097307  VZJFGSRCJCXDSG-UHFFFAOYSA-N  InChI=1S/C12H30N2/c1-13(2,3)11-9-7-8-10-12-14(...                       C[N+](C)(C)CCCCCC[N+](C)(C)C           0.0\n",
       "97446    JCP2022_097448  WACRAFUNNYGNEQ-UHFFFAOYSA-N  InChI=1S/C8H18N/c1-3-9(2)7-5-4-6-8-9/h3-8H2,1-...                                   CC[N+]1(C)CCCCC1           0.0\n",
       "97991    JCP2022_097993  WDECIBYCCFPHNR-UHFFFAOYSA-N  InChI=1S/C18H12/c1-3-7-15-13(5-1)9-11-18-16-8-...                       c1ccc3c(c1)ccc4c2ccccc2ccc34           0.0\n",
       "100362   JCP2022_100364  WPSYTTKBGAZSCX-UHFFFAOYSA-N  InChI=1S/C21H37ClN/c1-4-7-8-9-11-18-23(5-2,6-3...                CCCCCCC[N+](CC)(CC)CCCCc1ccc(Cl)cc1           0.0\n",
       "100979   JCP2022_100981  WTARULDDTDQWMU-UHFFFAOYSA-N  InChI=1S/C10H16/c1-7-4-5-8-6-9(7)10(8,2)3/h8-9...                                CC1(C)C2CCC(=C)C1C2           0.0\n",
       "101162   JCP2022_101164  WTWWXOGTJWMJHI-UHFFFAOYSA-N  InChI=1S/C8BrF17/c9-7(22,23)5(18,19)3(14,15)1(...  FC(F)(F)C(F)(F)C(F)(F)C(F)(F)C(F)(F)C(F)(F)C(F...           0.0\n",
       "104495   JCP2022_104497  XMBWDFGMSWQBCA-UHFFFAOYSA-N                                    InChI=1S/HI/h1H                                                  I           0.0\n",
       "104532   JCP2022_104534  XMGQYMWWDOXHJM-UHFFFAOYSA-N  InChI=1S/C10H16/c1-8(2)10-6-4-9(3)5-7-10/h4,10...                                 CC(=C)C1CCC(C)=CC1           0.0\n",
       "110584   JCP2022_110586  YSQBVIAGPLXQJH-UHFFFAOYSA-N  InChI=1S/C7H6Cl2S/c1-10-6-4-2-3-5(8)7(6)9/h2-4...                                   CSc1cccc(Cl)c1Cl           0.0\n",
       "111271   JCP2022_111273  YWHLKYXPLRWGSE-UHFFFAOYSA-N                  InChI=1S/C2H6S3/c1-3-5-4-2/h1-2H3                                              CSSSC           0.0\n",
       "111667   JCP2022_111669  YYGNTYWPHWGJRM-UHFFFAOYSA-N  InChI=1S/C30H50/c1-25(2)15-11-19-29(7)23-13-21...   CC(C)=CCCC(C)=CCCC(C)=CCCC=C(C)CCC=C(C)CCC=C(C)C           0.0\n",
       "114868   JCP2022_114870  ZPQOPVIELGIULI-UHFFFAOYSA-N          InChI=1S/C6H4Cl2/c7-5-2-1-3-6(8)4-5/h1-4H                                     Clc1cccc(Cl)c1           0.0"
      ]
     },
     "execution_count": 89,
     "metadata": {},
     "output_type": "execute_result"
    }
   ],
   "source": [
    "df_compounds_tpsa.info()\n",
    "df_compounds_tpsa.head(3)\n",
    "df_compounds_tpsa.tail(3)\n",
    "print(f\"Compounds with NaN TPSA: \")\n",
    "df_compounds_tpsa[df_compounds_tpsa['Metadata_TPSA'].isna()]\n",
    "df_zero_TPSA = df_compounds_tpsa[df_compounds_tpsa['Metadata_TPSA'] == 0]\n",
    "print(f\"Compounds with Zero TPSA: {len(df_zero_TPSA)}\")\n",
    "df_zero_TPSA"
   ]
  },
  {
   "cell_type": "markdown",
   "id": "6c760d01",
   "metadata": {
    "heading_collapsed": true,
    "hidden": true,
    "jp-MarkdownHeadingCollapsed": true
   },
   "source": [
    "#### Re-read TPSA csv file `./output/compound_TPSA.csv` and check it"
   ]
  },
  {
   "cell_type": "code",
   "execution_count": 31,
   "id": "dc3d2035",
   "metadata": {
    "ExecuteTime": {
     "end_time": "2023-06-28T19:20:40.207473Z",
     "start_time": "2023-06-28T19:20:40.172344Z"
    },
    "execution": {
     "iopub.execute_input": "2023-11-10T21:10:07.739763Z",
     "iopub.status.busy": "2023-11-10T21:10:07.739301Z",
     "iopub.status.idle": "2023-11-10T21:10:07.752115Z",
     "shell.execute_reply": "2023-11-10T21:10:07.751465Z",
     "shell.execute_reply.started": "2023-11-10T21:10:07.739742Z"
    },
    "hidden": true
   },
   "outputs": [
    {
     "name": "stdout",
     "output_type": "stream",
     "text": [
      " compound TPSA File             : ./output_11102023/_compound_TPSA.csv\n"
     ]
    }
   ],
   "source": [
    "print(f\" compound TPSA File             : {compoundTPSAFile}\")"
   ]
  },
  {
   "cell_type": "code",
   "execution_count": 97,
   "id": "f8a7c324-0df9-47d7-86c8-756f54a841ca",
   "metadata": {
    "ExecuteTime": {
     "end_time": "2023-06-28T19:20:41.455770Z",
     "start_time": "2023-06-28T19:20:41.329295Z"
    },
    "execution": {
     "iopub.execute_input": "2024-10-23T20:07:37.545628Z",
     "iopub.status.busy": "2024-10-23T20:07:37.545155Z",
     "iopub.status.idle": "2024-10-23T20:07:37.645416Z",
     "shell.execute_reply": "2024-10-23T20:07:37.644689Z",
     "shell.execute_reply.started": "2024-10-23T20:07:37.545587Z"
    },
    "hidden": true
   },
   "outputs": [],
   "source": [
    "# del df_tpsa\n",
    "df_tpsa = pd.read_csv(ds.compoundTPSAFile)"
   ]
  },
  {
   "cell_type": "code",
   "execution_count": 98,
   "id": "68365682-4296-4868-942d-ab3ad1451c1e",
   "metadata": {
    "ExecuteTime": {
     "end_time": "2023-06-28T19:20:41.455770Z",
     "start_time": "2023-06-28T19:20:41.329295Z"
    },
    "execution": {
     "iopub.execute_input": "2024-10-23T20:07:38.709196Z",
     "iopub.status.busy": "2024-10-23T20:07:38.708731Z",
     "iopub.status.idle": "2024-10-23T20:07:38.777213Z",
     "shell.execute_reply": "2024-10-23T20:07:38.776611Z",
     "shell.execute_reply.started": "2024-10-23T20:07:38.709155Z"
    },
    "hidden": true
   },
   "outputs": [
    {
     "name": "stdout",
     "output_type": "stream",
     "text": [
      "<class 'pandas.core.frame.DataFrame'>\n",
      "RangeIndex: 116751 entries, 0 to 116750\n",
      "Data columns (total 2 columns):\n",
      " #   Column         Non-Null Count   Dtype  \n",
      "---  ------         --------------   -----  \n",
      " 0   JCP2022        116751 non-null  object \n",
      " 1   Metadata_TPSA  116751 non-null  float64\n",
      "dtypes: float64(1), object(1)\n",
      "memory usage: 1.8+ MB\n"
     ]
    },
    {
     "data": {
      "text/html": [
       "<div>\n",
       "<style scoped>\n",
       "    .dataframe tbody tr th:only-of-type {\n",
       "        vertical-align: middle;\n",
       "    }\n",
       "\n",
       "    .dataframe tbody tr th {\n",
       "        vertical-align: top;\n",
       "    }\n",
       "\n",
       "    .dataframe thead th {\n",
       "        text-align: right;\n",
       "    }\n",
       "</style>\n",
       "<table border=\"1\" class=\"dataframe\">\n",
       "  <thead>\n",
       "    <tr style=\"text-align: right;\">\n",
       "      <th></th>\n",
       "      <th>JCP2022</th>\n",
       "      <th>Metadata_TPSA</th>\n",
       "    </tr>\n",
       "  </thead>\n",
       "  <tbody>\n",
       "    <tr>\n",
       "      <th>0</th>\n",
       "      <td>JCP2022_000001</td>\n",
       "      <td>63.49</td>\n",
       "    </tr>\n",
       "    <tr>\n",
       "      <th>1</th>\n",
       "      <td>JCP2022_000002</td>\n",
       "      <td>35.83</td>\n",
       "    </tr>\n",
       "    <tr>\n",
       "      <th>2</th>\n",
       "      <td>JCP2022_000003</td>\n",
       "      <td>73.72</td>\n",
       "    </tr>\n",
       "  </tbody>\n",
       "</table>\n",
       "</div>"
      ],
      "text/plain": [
       "          JCP2022  Metadata_TPSA\n",
       "0  JCP2022_000001          63.49\n",
       "1  JCP2022_000002          35.83\n",
       "2  JCP2022_000003          73.72"
      ]
     },
     "execution_count": 98,
     "metadata": {},
     "output_type": "execute_result"
    },
    {
     "data": {
      "text/html": [
       "<div>\n",
       "<style scoped>\n",
       "    .dataframe tbody tr th:only-of-type {\n",
       "        vertical-align: middle;\n",
       "    }\n",
       "\n",
       "    .dataframe tbody tr th {\n",
       "        vertical-align: top;\n",
       "    }\n",
       "\n",
       "    .dataframe thead th {\n",
       "        text-align: right;\n",
       "    }\n",
       "</style>\n",
       "<table border=\"1\" class=\"dataframe\">\n",
       "  <thead>\n",
       "    <tr style=\"text-align: right;\">\n",
       "      <th></th>\n",
       "      <th>JCP2022</th>\n",
       "      <th>Metadata_TPSA</th>\n",
       "    </tr>\n",
       "  </thead>\n",
       "  <tbody>\n",
       "    <tr>\n",
       "      <th>116748</th>\n",
       "      <td>JCP2022_116751</td>\n",
       "      <td>85.30</td>\n",
       "    </tr>\n",
       "    <tr>\n",
       "      <th>116749</th>\n",
       "      <td>JCP2022_116752</td>\n",
       "      <td>71.95</td>\n",
       "    </tr>\n",
       "    <tr>\n",
       "      <th>116750</th>\n",
       "      <td>JCP2022_116753</td>\n",
       "      <td>54.29</td>\n",
       "    </tr>\n",
       "  </tbody>\n",
       "</table>\n",
       "</div>"
      ],
      "text/plain": [
       "               JCP2022  Metadata_TPSA\n",
       "116748  JCP2022_116751          85.30\n",
       "116749  JCP2022_116752          71.95\n",
       "116750  JCP2022_116753          54.29"
      ]
     },
     "execution_count": 98,
     "metadata": {},
     "output_type": "execute_result"
    },
    {
     "name": "stdout",
     "output_type": "stream",
     "text": [
      "Compounds with NaN TPSA: \n"
     ]
    },
    {
     "data": {
      "text/html": [
       "<div>\n",
       "<style scoped>\n",
       "    .dataframe tbody tr th:only-of-type {\n",
       "        vertical-align: middle;\n",
       "    }\n",
       "\n",
       "    .dataframe tbody tr th {\n",
       "        vertical-align: top;\n",
       "    }\n",
       "\n",
       "    .dataframe thead th {\n",
       "        text-align: right;\n",
       "    }\n",
       "</style>\n",
       "<table border=\"1\" class=\"dataframe\">\n",
       "  <thead>\n",
       "    <tr style=\"text-align: right;\">\n",
       "      <th></th>\n",
       "      <th>JCP2022</th>\n",
       "      <th>Metadata_TPSA</th>\n",
       "    </tr>\n",
       "  </thead>\n",
       "  <tbody>\n",
       "  </tbody>\n",
       "</table>\n",
       "</div>"
      ],
      "text/plain": [
       "Empty DataFrame\n",
       "Columns: [JCP2022, Metadata_TPSA]\n",
       "Index: []"
      ]
     },
     "execution_count": 98,
     "metadata": {},
     "output_type": "execute_result"
    },
    {
     "name": "stdout",
     "output_type": "stream",
     "text": [
      "Compounds with Zero TPSA: 60\n"
     ]
    },
    {
     "data": {
      "text/html": [
       "<div>\n",
       "<style scoped>\n",
       "    .dataframe tbody tr th:only-of-type {\n",
       "        vertical-align: middle;\n",
       "    }\n",
       "\n",
       "    .dataframe tbody tr th {\n",
       "        vertical-align: top;\n",
       "    }\n",
       "\n",
       "    .dataframe thead th {\n",
       "        text-align: right;\n",
       "    }\n",
       "</style>\n",
       "<table border=\"1\" class=\"dataframe\">\n",
       "  <thead>\n",
       "    <tr style=\"text-align: right;\">\n",
       "      <th></th>\n",
       "      <th>JCP2022</th>\n",
       "      <th>Metadata_TPSA</th>\n",
       "    </tr>\n",
       "  </thead>\n",
       "  <tbody>\n",
       "    <tr>\n",
       "      <th>134</th>\n",
       "      <td>JCP2022_000135</td>\n",
       "      <td>0.0</td>\n",
       "    </tr>\n",
       "    <tr>\n",
       "      <th>5457</th>\n",
       "      <td>JCP2022_005458</td>\n",
       "      <td>0.0</td>\n",
       "    </tr>\n",
       "    <tr>\n",
       "      <th>8035</th>\n",
       "      <td>JCP2022_008036</td>\n",
       "      <td>0.0</td>\n",
       "    </tr>\n",
       "    <tr>\n",
       "      <th>8377</th>\n",
       "      <td>JCP2022_008378</td>\n",
       "      <td>0.0</td>\n",
       "    </tr>\n",
       "    <tr>\n",
       "      <th>10111</th>\n",
       "      <td>JCP2022_010112</td>\n",
       "      <td>0.0</td>\n",
       "    </tr>\n",
       "    <tr>\n",
       "      <th>13018</th>\n",
       "      <td>JCP2022_013019</td>\n",
       "      <td>0.0</td>\n",
       "    </tr>\n",
       "    <tr>\n",
       "      <th>14190</th>\n",
       "      <td>JCP2022_014191</td>\n",
       "      <td>0.0</td>\n",
       "    </tr>\n",
       "    <tr>\n",
       "      <th>14400</th>\n",
       "      <td>JCP2022_014401</td>\n",
       "      <td>0.0</td>\n",
       "    </tr>\n",
       "    <tr>\n",
       "      <th>16125</th>\n",
       "      <td>JCP2022_016126</td>\n",
       "      <td>0.0</td>\n",
       "    </tr>\n",
       "    <tr>\n",
       "      <th>21236</th>\n",
       "      <td>JCP2022_021237</td>\n",
       "      <td>0.0</td>\n",
       "    </tr>\n",
       "    <tr>\n",
       "      <th>21600</th>\n",
       "      <td>JCP2022_021601</td>\n",
       "      <td>0.0</td>\n",
       "    </tr>\n",
       "    <tr>\n",
       "      <th>21659</th>\n",
       "      <td>JCP2022_021660</td>\n",
       "      <td>0.0</td>\n",
       "    </tr>\n",
       "    <tr>\n",
       "      <th>23414</th>\n",
       "      <td>JCP2022_023415</td>\n",
       "      <td>0.0</td>\n",
       "    </tr>\n",
       "    <tr>\n",
       "      <th>23421</th>\n",
       "      <td>JCP2022_023422</td>\n",
       "      <td>0.0</td>\n",
       "    </tr>\n",
       "    <tr>\n",
       "      <th>27359</th>\n",
       "      <td>JCP2022_027360</td>\n",
       "      <td>0.0</td>\n",
       "    </tr>\n",
       "    <tr>\n",
       "      <th>29339</th>\n",
       "      <td>JCP2022_029341</td>\n",
       "      <td>0.0</td>\n",
       "    </tr>\n",
       "    <tr>\n",
       "      <th>29890</th>\n",
       "      <td>JCP2022_029892</td>\n",
       "      <td>0.0</td>\n",
       "    </tr>\n",
       "    <tr>\n",
       "      <th>32192</th>\n",
       "      <td>JCP2022_032194</td>\n",
       "      <td>0.0</td>\n",
       "    </tr>\n",
       "    <tr>\n",
       "      <th>37158</th>\n",
       "      <td>JCP2022_037160</td>\n",
       "      <td>0.0</td>\n",
       "    </tr>\n",
       "    <tr>\n",
       "      <th>38237</th>\n",
       "      <td>JCP2022_038239</td>\n",
       "      <td>0.0</td>\n",
       "    </tr>\n",
       "    <tr>\n",
       "      <th>40830</th>\n",
       "      <td>JCP2022_040832</td>\n",
       "      <td>0.0</td>\n",
       "    </tr>\n",
       "    <tr>\n",
       "      <th>41302</th>\n",
       "      <td>JCP2022_041304</td>\n",
       "      <td>0.0</td>\n",
       "    </tr>\n",
       "    <tr>\n",
       "      <th>42497</th>\n",
       "      <td>JCP2022_042499</td>\n",
       "      <td>0.0</td>\n",
       "    </tr>\n",
       "    <tr>\n",
       "      <th>42864</th>\n",
       "      <td>JCP2022_042866</td>\n",
       "      <td>0.0</td>\n",
       "    </tr>\n",
       "    <tr>\n",
       "      <th>47662</th>\n",
       "      <td>JCP2022_047664</td>\n",
       "      <td>0.0</td>\n",
       "    </tr>\n",
       "    <tr>\n",
       "      <th>48541</th>\n",
       "      <td>JCP2022_048543</td>\n",
       "      <td>0.0</td>\n",
       "    </tr>\n",
       "    <tr>\n",
       "      <th>48610</th>\n",
       "      <td>JCP2022_048612</td>\n",
       "      <td>0.0</td>\n",
       "    </tr>\n",
       "    <tr>\n",
       "      <th>53339</th>\n",
       "      <td>JCP2022_053341</td>\n",
       "      <td>0.0</td>\n",
       "    </tr>\n",
       "    <tr>\n",
       "      <th>56345</th>\n",
       "      <td>JCP2022_056347</td>\n",
       "      <td>0.0</td>\n",
       "    </tr>\n",
       "    <tr>\n",
       "      <th>58101</th>\n",
       "      <td>JCP2022_058103</td>\n",
       "      <td>0.0</td>\n",
       "    </tr>\n",
       "    <tr>\n",
       "      <th>60532</th>\n",
       "      <td>JCP2022_060534</td>\n",
       "      <td>0.0</td>\n",
       "    </tr>\n",
       "    <tr>\n",
       "      <th>61615</th>\n",
       "      <td>JCP2022_061617</td>\n",
       "      <td>0.0</td>\n",
       "    </tr>\n",
       "    <tr>\n",
       "      <th>62894</th>\n",
       "      <td>JCP2022_062896</td>\n",
       "      <td>0.0</td>\n",
       "    </tr>\n",
       "    <tr>\n",
       "      <th>63294</th>\n",
       "      <td>JCP2022_063296</td>\n",
       "      <td>0.0</td>\n",
       "    </tr>\n",
       "    <tr>\n",
       "      <th>65257</th>\n",
       "      <td>JCP2022_065259</td>\n",
       "      <td>0.0</td>\n",
       "    </tr>\n",
       "    <tr>\n",
       "      <th>67916</th>\n",
       "      <td>JCP2022_067919</td>\n",
       "      <td>0.0</td>\n",
       "    </tr>\n",
       "    <tr>\n",
       "      <th>67917</th>\n",
       "      <td>JCP2022_067920</td>\n",
       "      <td>0.0</td>\n",
       "    </tr>\n",
       "    <tr>\n",
       "      <th>70413</th>\n",
       "      <td>JCP2022_070416</td>\n",
       "      <td>0.0</td>\n",
       "    </tr>\n",
       "    <tr>\n",
       "      <th>71670</th>\n",
       "      <td>JCP2022_071673</td>\n",
       "      <td>0.0</td>\n",
       "    </tr>\n",
       "    <tr>\n",
       "      <th>72798</th>\n",
       "      <td>JCP2022_072801</td>\n",
       "      <td>0.0</td>\n",
       "    </tr>\n",
       "    <tr>\n",
       "      <th>73109</th>\n",
       "      <td>JCP2022_073112</td>\n",
       "      <td>0.0</td>\n",
       "    </tr>\n",
       "    <tr>\n",
       "      <th>73158</th>\n",
       "      <td>JCP2022_073161</td>\n",
       "      <td>0.0</td>\n",
       "    </tr>\n",
       "    <tr>\n",
       "      <th>75096</th>\n",
       "      <td>JCP2022_075099</td>\n",
       "      <td>0.0</td>\n",
       "    </tr>\n",
       "    <tr>\n",
       "      <th>79094</th>\n",
       "      <td>JCP2022_079097</td>\n",
       "      <td>0.0</td>\n",
       "    </tr>\n",
       "    <tr>\n",
       "      <th>80228</th>\n",
       "      <td>JCP2022_080231</td>\n",
       "      <td>0.0</td>\n",
       "    </tr>\n",
       "    <tr>\n",
       "      <th>87985</th>\n",
       "      <td>JCP2022_087988</td>\n",
       "      <td>0.0</td>\n",
       "    </tr>\n",
       "    <tr>\n",
       "      <th>88104</th>\n",
       "      <td>JCP2022_088107</td>\n",
       "      <td>0.0</td>\n",
       "    </tr>\n",
       "    <tr>\n",
       "      <th>88313</th>\n",
       "      <td>JCP2022_088316</td>\n",
       "      <td>0.0</td>\n",
       "    </tr>\n",
       "    <tr>\n",
       "      <th>97304</th>\n",
       "      <td>JCP2022_097307</td>\n",
       "      <td>0.0</td>\n",
       "    </tr>\n",
       "    <tr>\n",
       "      <th>97445</th>\n",
       "      <td>JCP2022_097448</td>\n",
       "      <td>0.0</td>\n",
       "    </tr>\n",
       "    <tr>\n",
       "      <th>97990</th>\n",
       "      <td>JCP2022_097993</td>\n",
       "      <td>0.0</td>\n",
       "    </tr>\n",
       "    <tr>\n",
       "      <th>100361</th>\n",
       "      <td>JCP2022_100364</td>\n",
       "      <td>0.0</td>\n",
       "    </tr>\n",
       "    <tr>\n",
       "      <th>100978</th>\n",
       "      <td>JCP2022_100981</td>\n",
       "      <td>0.0</td>\n",
       "    </tr>\n",
       "    <tr>\n",
       "      <th>101161</th>\n",
       "      <td>JCP2022_101164</td>\n",
       "      <td>0.0</td>\n",
       "    </tr>\n",
       "    <tr>\n",
       "      <th>104494</th>\n",
       "      <td>JCP2022_104497</td>\n",
       "      <td>0.0</td>\n",
       "    </tr>\n",
       "    <tr>\n",
       "      <th>104531</th>\n",
       "      <td>JCP2022_104534</td>\n",
       "      <td>0.0</td>\n",
       "    </tr>\n",
       "    <tr>\n",
       "      <th>110583</th>\n",
       "      <td>JCP2022_110586</td>\n",
       "      <td>0.0</td>\n",
       "    </tr>\n",
       "    <tr>\n",
       "      <th>111270</th>\n",
       "      <td>JCP2022_111273</td>\n",
       "      <td>0.0</td>\n",
       "    </tr>\n",
       "    <tr>\n",
       "      <th>111666</th>\n",
       "      <td>JCP2022_111669</td>\n",
       "      <td>0.0</td>\n",
       "    </tr>\n",
       "    <tr>\n",
       "      <th>114867</th>\n",
       "      <td>JCP2022_114870</td>\n",
       "      <td>0.0</td>\n",
       "    </tr>\n",
       "  </tbody>\n",
       "</table>\n",
       "</div>"
      ],
      "text/plain": [
       "               JCP2022  Metadata_TPSA\n",
       "134     JCP2022_000135            0.0\n",
       "5457    JCP2022_005458            0.0\n",
       "8035    JCP2022_008036            0.0\n",
       "8377    JCP2022_008378            0.0\n",
       "10111   JCP2022_010112            0.0\n",
       "13018   JCP2022_013019            0.0\n",
       "14190   JCP2022_014191            0.0\n",
       "14400   JCP2022_014401            0.0\n",
       "16125   JCP2022_016126            0.0\n",
       "21236   JCP2022_021237            0.0\n",
       "21600   JCP2022_021601            0.0\n",
       "21659   JCP2022_021660            0.0\n",
       "23414   JCP2022_023415            0.0\n",
       "23421   JCP2022_023422            0.0\n",
       "27359   JCP2022_027360            0.0\n",
       "29339   JCP2022_029341            0.0\n",
       "29890   JCP2022_029892            0.0\n",
       "32192   JCP2022_032194            0.0\n",
       "37158   JCP2022_037160            0.0\n",
       "38237   JCP2022_038239            0.0\n",
       "40830   JCP2022_040832            0.0\n",
       "41302   JCP2022_041304            0.0\n",
       "42497   JCP2022_042499            0.0\n",
       "42864   JCP2022_042866            0.0\n",
       "47662   JCP2022_047664            0.0\n",
       "48541   JCP2022_048543            0.0\n",
       "48610   JCP2022_048612            0.0\n",
       "53339   JCP2022_053341            0.0\n",
       "56345   JCP2022_056347            0.0\n",
       "58101   JCP2022_058103            0.0\n",
       "60532   JCP2022_060534            0.0\n",
       "61615   JCP2022_061617            0.0\n",
       "62894   JCP2022_062896            0.0\n",
       "63294   JCP2022_063296            0.0\n",
       "65257   JCP2022_065259            0.0\n",
       "67916   JCP2022_067919            0.0\n",
       "67917   JCP2022_067920            0.0\n",
       "70413   JCP2022_070416            0.0\n",
       "71670   JCP2022_071673            0.0\n",
       "72798   JCP2022_072801            0.0\n",
       "73109   JCP2022_073112            0.0\n",
       "73158   JCP2022_073161            0.0\n",
       "75096   JCP2022_075099            0.0\n",
       "79094   JCP2022_079097            0.0\n",
       "80228   JCP2022_080231            0.0\n",
       "87985   JCP2022_087988            0.0\n",
       "88104   JCP2022_088107            0.0\n",
       "88313   JCP2022_088316            0.0\n",
       "97304   JCP2022_097307            0.0\n",
       "97445   JCP2022_097448            0.0\n",
       "97990   JCP2022_097993            0.0\n",
       "100361  JCP2022_100364            0.0\n",
       "100978  JCP2022_100981            0.0\n",
       "101161  JCP2022_101164            0.0\n",
       "104494  JCP2022_104497            0.0\n",
       "104531  JCP2022_104534            0.0\n",
       "110583  JCP2022_110586            0.0\n",
       "111270  JCP2022_111273            0.0\n",
       "111666  JCP2022_111669            0.0\n",
       "114867  JCP2022_114870            0.0"
      ]
     },
     "execution_count": 98,
     "metadata": {},
     "output_type": "execute_result"
    }
   ],
   "source": [
    "df_tpsa.info()\n",
    "df_tpsa.head(3)\n",
    "df_tpsa.tail(3)\n",
    "print(f\"Compounds with NaN TPSA: \")\n",
    "df_tpsa[df_tpsa['Metadata_TPSA'].isna()]\n",
    "df_zero_TPSA = df_tpsa[df_tpsa['Metadata_TPSA'] == 0]\n",
    "print(f\"Compounds with Zero TPSA: {len(df_zero_TPSA)}\")\n",
    "df_zero_TPSA"
   ]
  },
  {
   "cell_type": "markdown",
   "id": "234f75ee",
   "metadata": {},
   "source": [
    "# Drop compounds with invalid TPSA (= 0)"
   ]
  },
  {
   "cell_type": "markdown",
   "id": "0ce38049-d01c-49aa-ad4e-8bd272f16b5f",
   "metadata": {},
   "source": [
    "## Drop TPSA == 0 rows from df_metadata and df_tpsa"
   ]
  },
  {
   "cell_type": "markdown",
   "id": "990e5ebb-04e8-483a-bba8-e37d75e19da2",
   "metadata": {},
   "source": [
    "### Read `df_metadata` and `df_tpsa`"
   ]
  },
  {
   "cell_type": "code",
   "execution_count": 210,
   "id": "444ccc10-35b2-4cc6-8872-bb1394019989",
   "metadata": {
    "ExecuteTime": {
     "end_time": "2023-06-28T19:21:02.538370Z",
     "start_time": "2023-06-28T19:21:02.501609Z"
    },
    "execution": {
     "iopub.execute_input": "2024-10-23T20:55:07.311078Z",
     "iopub.status.busy": "2024-10-23T20:55:07.310485Z",
     "iopub.status.idle": "2024-10-23T20:55:07.350557Z",
     "shell.execute_reply": "2024-10-23T20:55:07.349839Z",
     "shell.execute_reply.started": "2024-10-23T20:55:07.311035Z"
    }
   },
   "outputs": [
    {
     "name": "stdout",
     "output_type": "stream",
     "text": [
      "Input: compound Metadata/TPSA File    : ./output_10162024/compound_metadata_tpsa.csv\n",
      "Input: compound TPSA File             : ./output_10162024/compound_TPSA.csv\n"
     ]
    }
   ],
   "source": [
    "print(f\"Input: compound Metadata/TPSA File    : {ds.compoundMetadataTPSAFile}\")\n",
    "print(f\"Input: compound TPSA File             : {ds.compoundTPSAFile}\")"
   ]
  },
  {
   "cell_type": "code",
   "execution_count": 211,
   "id": "1ce051bf-6ba4-4901-9372-e8a0f87efbbb",
   "metadata": {
    "ExecuteTime": {
     "end_time": "2023-06-28T19:37:50.587623Z",
     "start_time": "2023-06-28T19:37:50.503671Z"
    },
    "execution": {
     "iopub.execute_input": "2024-10-23T20:55:08.338379Z",
     "iopub.status.busy": "2024-10-23T20:55:08.337914Z",
     "iopub.status.idle": "2024-10-23T20:55:08.872096Z",
     "shell.execute_reply": "2024-10-23T20:55:08.871417Z",
     "shell.execute_reply.started": "2024-10-23T20:55:08.338339Z"
    }
   },
   "outputs": [
    {
     "name": "stdout",
     "output_type": "stream",
     "text": [
      "<class 'pandas.core.frame.DataFrame'>\n",
      "RangeIndex: 116751 entries, 0 to 116750\n",
      "Data columns (total 5 columns):\n",
      " #   Column             Non-Null Count   Dtype  \n",
      "---  ------             --------------   -----  \n",
      " 0   Metadata_JCP2022   116751 non-null  object \n",
      " 1   Metadata_InChIKey  116751 non-null  object \n",
      " 2   Metadata_InChI     116751 non-null  object \n",
      " 3   Metadata_Smiles    116751 non-null  object \n",
      " 4   Metadata_TPSA      116751 non-null  float64\n",
      "dtypes: float64(1), object(4)\n",
      "memory usage: 4.5+ MB\n",
      "<class 'pandas.core.frame.DataFrame'>\n",
      "RangeIndex: 116751 entries, 0 to 116750\n",
      "Data columns (total 2 columns):\n",
      " #   Column         Non-Null Count   Dtype  \n",
      "---  ------         --------------   -----  \n",
      " 0   JCP2022        116751 non-null  object \n",
      " 1   Metadata_TPSA  116751 non-null  float64\n",
      "dtypes: float64(1), object(1)\n",
      "memory usage: 1.8+ MB\n"
     ]
    }
   ],
   "source": [
    "df_metadata = pd.read_csv(ds.compoundMetadataTPSAFile)\n",
    "df_metadata.info()\n",
    "# df_metadata.head(3)\n",
    "# df_metadata.tail(3)\n",
    "\n",
    "df_tpsa = pd.read_csv(ds.compoundTPSAFile)\n",
    "df_tpsa.info()\n",
    "# df_tpsa.head()"
   ]
  },
  {
   "cell_type": "code",
   "execution_count": 213,
   "id": "a5bc91d4-3c95-414b-8958-8fb15c6252c2",
   "metadata": {
    "execution": {
     "iopub.execute_input": "2024-10-23T20:58:34.598331Z",
     "iopub.status.busy": "2024-10-23T20:58:34.597862Z",
     "iopub.status.idle": "2024-10-23T20:58:34.641757Z",
     "shell.execute_reply": "2024-10-23T20:58:34.641052Z",
     "shell.execute_reply.started": "2024-10-23T20:58:34.598290Z"
    }
   },
   "outputs": [
    {
     "data": {
      "text/plain": [
       "14274"
      ]
     },
     "execution_count": 213,
     "metadata": {},
     "output_type": "execute_result"
    }
   ],
   "source": [
    "tmp = df_metadata[df_metadata.Metadata_TPSA >= 100.0]\n",
    "len(tmp.index.values)"
   ]
  },
  {
   "cell_type": "markdown",
   "id": "67461975-e220-428f-bbe7-e9f5a6e5cb4a",
   "metadata": {},
   "source": [
    "### Identify rows with TPSA = 0.0"
   ]
  },
  {
   "cell_type": "markdown",
   "id": "6ca6c2cd",
   "metadata": {
    "heading_collapsed": true
   },
   "source": [
    "  #### Metadata file"
   ]
  },
  {
   "cell_type": "code",
   "execution_count": 161,
   "id": "8a047875",
   "metadata": {
    "ExecuteTime": {
     "end_time": "2023-06-28T19:21:09.483789Z",
     "start_time": "2023-06-28T19:21:09.420190Z"
    },
    "execution": {
     "iopub.execute_input": "2024-10-23T20:31:15.977927Z",
     "iopub.status.busy": "2024-10-23T20:31:15.977461Z",
     "iopub.status.idle": "2024-10-23T20:31:16.030611Z",
     "shell.execute_reply": "2024-10-23T20:31:16.029915Z",
     "shell.execute_reply.started": "2024-10-23T20:31:15.977886Z"
    },
    "hidden": true,
    "scrolled": true
   },
   "outputs": [
    {
     "name": "stdout",
     "output_type": "stream",
     "text": [
      " Metadata entries with TPSA == 0.0: 60\n",
      " Metadata entries with TPSA == Nan: 0\n",
      " Metadata entries with TPSA == Nan or 0.0: 60\n"
     ]
    },
    {
     "data": {
      "text/html": [
       "<div>\n",
       "<style scoped>\n",
       "    .dataframe tbody tr th:only-of-type {\n",
       "        vertical-align: middle;\n",
       "    }\n",
       "\n",
       "    .dataframe tbody tr th {\n",
       "        vertical-align: top;\n",
       "    }\n",
       "\n",
       "    .dataframe thead th {\n",
       "        text-align: right;\n",
       "    }\n",
       "</style>\n",
       "<table border=\"1\" class=\"dataframe\">\n",
       "  <thead>\n",
       "    <tr style=\"text-align: right;\">\n",
       "      <th></th>\n",
       "      <th>Metadata_JCP2022</th>\n",
       "      <th>Metadata_InChIKey</th>\n",
       "      <th>Metadata_InChI</th>\n",
       "      <th>Metadata_Smiles</th>\n",
       "      <th>Metadata_TPSA</th>\n",
       "    </tr>\n",
       "  </thead>\n",
       "  <tbody>\n",
       "    <tr>\n",
       "      <th>134</th>\n",
       "      <td>JCP2022_000135</td>\n",
       "      <td>AAQOQKQBGPPFNS-UHFFFAOYSA-N</td>\n",
       "      <td>InChI=1S/C11H17BrN/c1-4-13(2,3)9-10-7-5-6-8-11...</td>\n",
       "      <td>CC[N+](C)(C)Cc1ccccc1Br</td>\n",
       "      <td>0.0</td>\n",
       "    </tr>\n",
       "    <tr>\n",
       "      <th>5457</th>\n",
       "      <td>JCP2022_005458</td>\n",
       "      <td>BCQZXOMGPXTTIC-UHFFFAOYSA-N</td>\n",
       "      <td>InChI=1S/C2HBrClF3/c3-1(4)2(5,6)7/h1H</td>\n",
       "      <td>FC(F)(F)C(Cl)Br</td>\n",
       "      <td>0.0</td>\n",
       "    </tr>\n",
       "    <tr>\n",
       "      <th>8035</th>\n",
       "      <td>JCP2022_008036</td>\n",
       "      <td>BQOFWKZOCNGFEC-UHFFFAOYSA-N</td>\n",
       "      <td>InChI=1S/C10H16/c1-7-4-5-8-9(6-7)10(8,2)3/h4,8...</td>\n",
       "      <td>CC1CC2C(CC=1)C2(C)C</td>\n",
       "      <td>0.0</td>\n",
       "    </tr>\n",
       "    <tr>\n",
       "      <th>8377</th>\n",
       "      <td>JCP2022_008378</td>\n",
       "      <td>BSMYVBKDBCUVBF-UHFFFAOYSA-N</td>\n",
       "      <td>InChI=1S/C22H32N/c1-6-20(16-18(2)21-10-8-7-9-1...</td>\n",
       "      <td>CCC(CC(C)c1ccccc1)c2ccc(C[N+](C)(C)C)cc2</td>\n",
       "      <td>0.0</td>\n",
       "    </tr>\n",
       "    <tr>\n",
       "      <th>10111</th>\n",
       "      <td>JCP2022_010112</td>\n",
       "      <td>CBXCPBUEXACCNR-UHFFFAOYSA-N</td>\n",
       "      <td>InChI=1S/C8H20N/c1-5-9(6-2,7-3)8-4/h5-8H2,1-4H...</td>\n",
       "      <td>CC[N+](CC)(CC)CC</td>\n",
       "      <td>0.0</td>\n",
       "    </tr>\n",
       "    <tr>\n",
       "      <th>13018</th>\n",
       "      <td>JCP2022_013019</td>\n",
       "      <td>CRPUJAZIXJMDBK-UHFFFAOYSA-N</td>\n",
       "      <td>InChI=1S/C10H16/c1-7-8-4-5-9(6-8)10(7,2)3/h8-9...</td>\n",
       "      <td>CC1(C)C(=C)C2CC1CC2</td>\n",
       "      <td>0.0</td>\n",
       "    </tr>\n",
       "    <tr>\n",
       "      <th>14190</th>\n",
       "      <td>JCP2022_014191</td>\n",
       "      <td>CYDRXTMLKJDRQH-UHFFFAOYSA-N</td>\n",
       "      <td>InChI=1S/C21H38N/c1-4-5-6-7-8-9-10-11-12-16-19...</td>\n",
       "      <td>CCCCCCCCCCCC[N+](C)(C)Cc1ccccc1</td>\n",
       "      <td>0.0</td>\n",
       "    </tr>\n",
       "    <tr>\n",
       "      <th>14400</th>\n",
       "      <td>JCP2022_014401</td>\n",
       "      <td>CZDYPVPMEAXLPK-UHFFFAOYSA-N</td>\n",
       "      <td>InChI=1S/C4H12Si/c1-5(2,3)4/h1-4H3</td>\n",
       "      <td>C[Si](C)(C)C</td>\n",
       "      <td>0.0</td>\n",
       "    </tr>\n",
       "    <tr>\n",
       "      <th>16125</th>\n",
       "      <td>JCP2022_016126</td>\n",
       "      <td>DIMMBYOINZRKMD-UHFFFAOYSA-N</td>\n",
       "      <td>InChI=1S/V/q+5</td>\n",
       "      <td>[V+5]</td>\n",
       "      <td>0.0</td>\n",
       "    </tr>\n",
       "    <tr>\n",
       "      <th>21236</th>\n",
       "      <td>JCP2022_021237</td>\n",
       "      <td>FKNQFGJONOIPTF-UHFFFAOYSA-N</td>\n",
       "      <td>InChI=1S/Na/q+1</td>\n",
       "      <td>[Na+]</td>\n",
       "      <td>0.0</td>\n",
       "    </tr>\n",
       "    <tr>\n",
       "      <th>21600</th>\n",
       "      <td>JCP2022_021601</td>\n",
       "      <td>FMMWHPNWAFZXNH-UHFFFAOYSA-N</td>\n",
       "      <td>InChI=1S/C20H12/c1-2-7-17-15(4-1)12-16-9-8-13-...</td>\n",
       "      <td>c1ccc2c(c1)cc3ccc4cccc5ccc2c3c45</td>\n",
       "      <td>0.0</td>\n",
       "    </tr>\n",
       "    <tr>\n",
       "      <th>21659</th>\n",
       "      <td>JCP2022_021660</td>\n",
       "      <td>FMVKCNOAGUSJQW-UHFFFAOYSA-N</td>\n",
       "      <td>InChI=1S/C18H16S/c1-14-12-13-17(19-14)18(15-8-...</td>\n",
       "      <td>CC1=CC=C(S1)C(c2ccccc2)c3ccccc3</td>\n",
       "      <td>0.0</td>\n",
       "    </tr>\n",
       "    <tr>\n",
       "      <th>23414</th>\n",
       "      <td>JCP2022_023415</td>\n",
       "      <td>FWKQNCXZGNBPFD-UHFFFAOYSA-N</td>\n",
       "      <td>InChI=1S/C15H18/c1-10(2)13-7-5-11(3)14-8-6-12(...</td>\n",
       "      <td>CC(C)c2ccc(C)c1ccc(C)c1c2</td>\n",
       "      <td>0.0</td>\n",
       "    </tr>\n",
       "    <tr>\n",
       "      <th>23421</th>\n",
       "      <td>JCP2022_023422</td>\n",
       "      <td>FWLORMQUOWCQPO-UHFFFAOYSA-N</td>\n",
       "      <td>InChI=1S/C27H50N/c1-4-5-6-7-8-9-10-11-12-13-14...</td>\n",
       "      <td>CCCCCCCCCCCCCCCCCC[N+](C)(C)Cc1ccccc1</td>\n",
       "      <td>0.0</td>\n",
       "    </tr>\n",
       "    <tr>\n",
       "      <th>27359</th>\n",
       "      <td>JCP2022_027360</td>\n",
       "      <td>GRWFGVWFFZKLTI-UHFFFAOYSA-N</td>\n",
       "      <td>InChI=1S/C10H16/c1-7-4-5-8-6-9(7)10(8,2)3/h4,8...</td>\n",
       "      <td>CC1=CCC2CC1C2(C)C</td>\n",
       "      <td>0.0</td>\n",
       "    </tr>\n",
       "    <tr>\n",
       "      <th>29339</th>\n",
       "      <td>JCP2022_029341</td>\n",
       "      <td>HCNGUXXTNNIKCQ-UHFFFAOYSA-N</td>\n",
       "      <td>InChI=1S/Mo/q+6</td>\n",
       "      <td>[Mo+6]</td>\n",
       "      <td>0.0</td>\n",
       "    </tr>\n",
       "    <tr>\n",
       "      <th>29890</th>\n",
       "      <td>JCP2022_029892</td>\n",
       "      <td>HFPZCAJZSCWRBC-UHFFFAOYSA-N</td>\n",
       "      <td>InChI=1S/C10H14/c1-8(2)10-6-4-9(3)5-7-10/h4-8H...</td>\n",
       "      <td>CC(C)c1ccc(C)cc1</td>\n",
       "      <td>0.0</td>\n",
       "    </tr>\n",
       "    <tr>\n",
       "      <th>32192</th>\n",
       "      <td>JCP2022_032194</td>\n",
       "      <td>HRZQNDWDAPBHSB-UHFFFAOYSA-N</td>\n",
       "      <td>InChI=1S/C15H36N2/c1-7-8-9-10-11-14-17(5,6)15-...</td>\n",
       "      <td>CCCCCCC[N+](C)(C)CCC[N+](C)(C)C</td>\n",
       "      <td>0.0</td>\n",
       "    </tr>\n",
       "    <tr>\n",
       "      <th>37158</th>\n",
       "      <td>JCP2022_037160</td>\n",
       "      <td>ISPYNXGXZRLLHM-UHFFFAOYSA-N</td>\n",
       "      <td>InChI=1S/C15H9Cl2F3/c16-13-7-11(8-14(17)9-13)2...</td>\n",
       "      <td>FC(F)(F)c2ccc(C=Cc1cc(Cl)cc(Cl)c1)cc2</td>\n",
       "      <td>0.0</td>\n",
       "    </tr>\n",
       "    <tr>\n",
       "      <th>38237</th>\n",
       "      <td>JCP2022_038239</td>\n",
       "      <td>IYYZUPMFVPLQIF-UHFFFAOYSA-N</td>\n",
       "      <td>InChI=1S/C12H8S/c1-3-7-11-9(5-1)10-6-2-4-8-12(...</td>\n",
       "      <td>c1ccc3c(c1)Sc2ccccc23</td>\n",
       "      <td>0.0</td>\n",
       "    </tr>\n",
       "    <tr>\n",
       "      <th>40830</th>\n",
       "      <td>JCP2022_040832</td>\n",
       "      <td>JMYNPQVCVQVODQ-UHFFFAOYSA-N</td>\n",
       "      <td>InChI=1S/C14H9Cl3/c15-12-5-3-10(4-6-12)1-2-11-...</td>\n",
       "      <td>Clc2ccc(C=Cc1cc(Cl)cc(Cl)c1)cc2</td>\n",
       "      <td>0.0</td>\n",
       "    </tr>\n",
       "    <tr>\n",
       "      <th>41302</th>\n",
       "      <td>JCP2022_041304</td>\n",
       "      <td>JPOJMYYCSNHYRY-UHFFFAOYSA-N</td>\n",
       "      <td>InChI=1S/3Na.V/q;;;+8</td>\n",
       "      <td>[Na].[Na].[Na].[V+8]</td>\n",
       "      <td>0.0</td>\n",
       "    </tr>\n",
       "    <tr>\n",
       "      <th>42497</th>\n",
       "      <td>JCP2022_042499</td>\n",
       "      <td>JWBOIMRXGHLCPP-UHFFFAOYSA-N</td>\n",
       "      <td>InChI=1S/C14H10Cl4/c15-10-7-5-9(6-8-10)13(14(1...</td>\n",
       "      <td>ClC(Cl)C(c1ccc(Cl)cc1)c2ccccc2Cl</td>\n",
       "      <td>0.0</td>\n",
       "    </tr>\n",
       "    <tr>\n",
       "      <th>42864</th>\n",
       "      <td>JCP2022_042866</td>\n",
       "      <td>JXZGMDYNCUEGNH-UHFFFAOYSA-N</td>\n",
       "      <td>InChI=1S/C34H46N/c1-33(2,3)31-18-14-27(15-19-3...</td>\n",
       "      <td>CC(C)(C)c4ccc(CC3CCC[N+](Cc1ccccc1)(Cc2ccc(cc2...</td>\n",
       "      <td>0.0</td>\n",
       "    </tr>\n",
       "    <tr>\n",
       "      <th>47662</th>\n",
       "      <td>JCP2022_047664</td>\n",
       "      <td>KXSFECAJUBPPFE-UHFFFAOYSA-N</td>\n",
       "      <td>InChI=1S/C12H8S3/c1-3-9(13-7-1)11-5-6-12(15-11...</td>\n",
       "      <td>C1=CSC(=C1)C2=CC=C(S2)C3=CC=CS3</td>\n",
       "      <td>0.0</td>\n",
       "    </tr>\n",
       "    <tr>\n",
       "      <th>48541</th>\n",
       "      <td>JCP2022_048543</td>\n",
       "      <td>LCKIEQZJEYYRIY-UHFFFAOYSA-N</td>\n",
       "      <td>InChI=1S/Ti/q+4</td>\n",
       "      <td>[Ti+4]</td>\n",
       "      <td>0.0</td>\n",
       "    </tr>\n",
       "    <tr>\n",
       "      <th>48610</th>\n",
       "      <td>JCP2022_048612</td>\n",
       "      <td>LCTZPQRFOZKZNK-UHFFFAOYSA-N</td>\n",
       "      <td>InChI=1S/C20H24N/c1-21(2)15-13-19(14-16-21)20(...</td>\n",
       "      <td>C[N+]1(C)CCC(CC1)=C(c2ccccc2)c3ccccc3</td>\n",
       "      <td>0.0</td>\n",
       "    </tr>\n",
       "    <tr>\n",
       "      <th>53339</th>\n",
       "      <td>JCP2022_053341</td>\n",
       "      <td>MCZUXEWWARACSP-UHFFFAOYSA-N</td>\n",
       "      <td>InChI=1S/C12H8/c1-2-10-7-5-8-11-6-3-4-9-12(10)...</td>\n",
       "      <td>C#Cc1cccc2ccccc12</td>\n",
       "      <td>0.0</td>\n",
       "    </tr>\n",
       "    <tr>\n",
       "      <th>56345</th>\n",
       "      <td>JCP2022_056347</td>\n",
       "      <td>MTCUAOILFDZKCO-UHFFFAOYSA-N</td>\n",
       "      <td>InChI=1S/C16H38N2/c1-17(2,3)15-13-11-9-7-8-10-...</td>\n",
       "      <td>C[N+](C)(C)CCCCCCCCCC[N+](C)(C)C</td>\n",
       "      <td>0.0</td>\n",
       "    </tr>\n",
       "    <tr>\n",
       "      <th>58101</th>\n",
       "      <td>JCP2022_058103</td>\n",
       "      <td>NCMHKCKGHRPLCM-UHFFFAOYSA-N</td>\n",
       "      <td>InChI=1S/Cs/q+1</td>\n",
       "      <td>[Cs+]</td>\n",
       "      <td>0.0</td>\n",
       "    </tr>\n",
       "    <tr>\n",
       "      <th>60532</th>\n",
       "      <td>JCP2022_060534</td>\n",
       "      <td>NPNUFJAVOOONJE-UHFFFAOYSA-N</td>\n",
       "      <td>InChI=1S/C15H24/c1-11-6-5-7-12(2)13-10-15(3,4)...</td>\n",
       "      <td>CC2CCC1C(CC1(C)C)C(=C)CCC=2</td>\n",
       "      <td>0.0</td>\n",
       "    </tr>\n",
       "    <tr>\n",
       "      <th>61615</th>\n",
       "      <td>JCP2022_061617</td>\n",
       "      <td>NVLPQIPTCCLBEU-UHFFFAOYSA-N</td>\n",
       "      <td>InChI=1S/C4H8S/c1-3-4-5-2/h3H,1,4H2,2H3</td>\n",
       "      <td>C=CCSC</td>\n",
       "      <td>0.0</td>\n",
       "    </tr>\n",
       "    <tr>\n",
       "      <th>62894</th>\n",
       "      <td>JCP2022_062896</td>\n",
       "      <td>OCJBOOLMMGQPQU-UHFFFAOYSA-N</td>\n",
       "      <td>InChI=1S/C6H4Cl2/c7-5-1-2-6(8)4-3-5/h1-4H</td>\n",
       "      <td>Clc1ccc(Cl)cc1</td>\n",
       "      <td>0.0</td>\n",
       "    </tr>\n",
       "    <tr>\n",
       "      <th>63294</th>\n",
       "      <td>JCP2022_063296</td>\n",
       "      <td>OENHQHLEOONYIE-UHFFFAOYSA-N</td>\n",
       "      <td>InChI=1S/C40H56/c1-31(19-13-21-33(3)25-27-37-3...</td>\n",
       "      <td>CC(C=CC=C(C)C=CC1=C(C)CCCC1(C)C)=CC=CC=C(C)C=C...</td>\n",
       "      <td>0.0</td>\n",
       "    </tr>\n",
       "    <tr>\n",
       "      <th>65257</th>\n",
       "      <td>JCP2022_065259</td>\n",
       "      <td>OPFTUNCRGUEPRZ-UHFFFAOYSA-N</td>\n",
       "      <td>InChI=1S/C15H24/c1-7-15(6)9-8-13(11(2)3)10-14(...</td>\n",
       "      <td>CC(=C)C1CCC(C)(C=C)C(C1)C(C)=C</td>\n",
       "      <td>0.0</td>\n",
       "    </tr>\n",
       "    <tr>\n",
       "      <th>67916</th>\n",
       "      <td>JCP2022_067919</td>\n",
       "      <td>PDSNLYSELAIEBU-UHFFFAOYSA-N</td>\n",
       "      <td>InChI=1S/C15H24/c1-10-11-6-7-12-13(11)14(2,3)8...</td>\n",
       "      <td>CC3(C)CCCC1(C)C(=C)C2CCC1C23</td>\n",
       "      <td>0.0</td>\n",
       "    </tr>\n",
       "    <tr>\n",
       "      <th>67917</th>\n",
       "      <td>JCP2022_067920</td>\n",
       "      <td>PDSVZUAJOIQXRK-UHFFFAOYSA-N</td>\n",
       "      <td>InChI=1S/C21H46N/c1-5-6-7-8-9-10-11-12-13-14-1...</td>\n",
       "      <td>CCCCCCCCCCCCCCCCCC[N+](C)(C)C</td>\n",
       "      <td>0.0</td>\n",
       "    </tr>\n",
       "    <tr>\n",
       "      <th>70413</th>\n",
       "      <td>JCP2022_070416</td>\n",
       "      <td>PRAKJMSDJKAYCZ-UHFFFAOYSA-N</td>\n",
       "      <td>InChI=1S/C30H62/c1-25(2)15-11-19-29(7)23-13-21...</td>\n",
       "      <td>CC(C)CCCC(C)CCCC(C)CCCCC(C)CCCC(C)CCCC(C)C</td>\n",
       "      <td>0.0</td>\n",
       "    </tr>\n",
       "    <tr>\n",
       "      <th>71670</th>\n",
       "      <td>JCP2022_071673</td>\n",
       "      <td>PXVOATXCSSPUEM-UHFFFAOYSA-N</td>\n",
       "      <td>InChI=1S/C10H15I/c11-10-4-7-1-8(5-10)3-9(2-7)6...</td>\n",
       "      <td>IC23CC1CC(CC(C1)C2)C3</td>\n",
       "      <td>0.0</td>\n",
       "    </tr>\n",
       "    <tr>\n",
       "      <th>72798</th>\n",
       "      <td>JCP2022_072801</td>\n",
       "      <td>QDYLMAYUEZBUFO-UHFFFAOYSA-N</td>\n",
       "      <td>InChI=1S/C25H46N/c1-4-5-6-7-8-9-10-11-12-13-14...</td>\n",
       "      <td>CCCCCCCCCCCCCCCC[N+](C)(C)Cc1ccccc1</td>\n",
       "      <td>0.0</td>\n",
       "    </tr>\n",
       "    <tr>\n",
       "      <th>73109</th>\n",
       "      <td>JCP2022_073112</td>\n",
       "      <td>QFQZKISCBJKVHI-UHFFFAOYSA-N</td>\n",
       "      <td>InChI=1S/C6H6Br6/c7-1-2(8)4(10)6(12)5(11)3(1)9...</td>\n",
       "      <td>BrC1C(Br)C(Br)C(Br)C(Br)C1Br</td>\n",
       "      <td>0.0</td>\n",
       "    </tr>\n",
       "    <tr>\n",
       "      <th>73158</th>\n",
       "      <td>JCP2022_073161</td>\n",
       "      <td>QFXKXRXFBRLLPQ-UHFFFAOYSA-N</td>\n",
       "      <td>InChI=1S/C12H8I/c1-3-7-11-9(5-1)10-6-2-4-8-12(...</td>\n",
       "      <td>c1ccc3c(c1)[I+]c2ccccc23</td>\n",
       "      <td>0.0</td>\n",
       "    </tr>\n",
       "    <tr>\n",
       "      <th>75096</th>\n",
       "      <td>JCP2022_075099</td>\n",
       "      <td>QPUYECUOLPXSFR-UHFFFAOYSA-N</td>\n",
       "      <td>InChI=1S/C11H10/c1-9-5-4-7-10-6-2-3-8-11(9)10/...</td>\n",
       "      <td>Cc1cccc2ccccc12</td>\n",
       "      <td>0.0</td>\n",
       "    </tr>\n",
       "    <tr>\n",
       "      <th>79094</th>\n",
       "      <td>JCP2022_079097</td>\n",
       "      <td>RLGQACBPNDBWTB-UHFFFAOYSA-N</td>\n",
       "      <td>InChI=1S/C19H42N/c1-5-6-7-8-9-10-11-12-13-14-1...</td>\n",
       "      <td>CCCCCCCCCCCCCCCC[N+](C)(C)C</td>\n",
       "      <td>0.0</td>\n",
       "    </tr>\n",
       "    <tr>\n",
       "      <th>80228</th>\n",
       "      <td>JCP2022_080231</td>\n",
       "      <td>RRHGJUQNOFWUDK-UHFFFAOYSA-N</td>\n",
       "      <td>InChI=1S/C5H8/c1-4-5(2)3/h4H,1-2H2,3H3</td>\n",
       "      <td>CC(=C)C=C</td>\n",
       "      <td>0.0</td>\n",
       "    </tr>\n",
       "    <tr>\n",
       "      <th>87985</th>\n",
       "      <td>JCP2022_087988</td>\n",
       "      <td>UARILQSOMYIQCM-UHFFFAOYSA-N</td>\n",
       "      <td>InChI=1S/C19H34N/c1-4-5-6-7-8-9-10-14-17-20(2,...</td>\n",
       "      <td>CCCCCCCCCC[N+](C)(C)Cc1ccccc1</td>\n",
       "      <td>0.0</td>\n",
       "    </tr>\n",
       "    <tr>\n",
       "      <th>88104</th>\n",
       "      <td>JCP2022_088107</td>\n",
       "      <td>UBJVUCKUDDKUJF-UHFFFAOYSA-N</td>\n",
       "      <td>InChI=1S/C6H10S/c1-3-5-7-6-4-2/h3-4H,1-2,5-6H2</td>\n",
       "      <td>C=CCSCC=C</td>\n",
       "      <td>0.0</td>\n",
       "    </tr>\n",
       "    <tr>\n",
       "      <th>88313</th>\n",
       "      <td>JCP2022_088316</td>\n",
       "      <td>UCNVFOCBFJOQAL-UHFFFAOYSA-N</td>\n",
       "      <td>InChI=1S/C14H8Cl4/c15-11-5-1-9(2-6-11)13(14(17...</td>\n",
       "      <td>ClC(Cl)=C(c1ccc(Cl)cc1)c2ccc(Cl)cc2</td>\n",
       "      <td>0.0</td>\n",
       "    </tr>\n",
       "    <tr>\n",
       "      <th>97304</th>\n",
       "      <td>JCP2022_097307</td>\n",
       "      <td>VZJFGSRCJCXDSG-UHFFFAOYSA-N</td>\n",
       "      <td>InChI=1S/C12H30N2/c1-13(2,3)11-9-7-8-10-12-14(...</td>\n",
       "      <td>C[N+](C)(C)CCCCCC[N+](C)(C)C</td>\n",
       "      <td>0.0</td>\n",
       "    </tr>\n",
       "    <tr>\n",
       "      <th>97445</th>\n",
       "      <td>JCP2022_097448</td>\n",
       "      <td>WACRAFUNNYGNEQ-UHFFFAOYSA-N</td>\n",
       "      <td>InChI=1S/C8H18N/c1-3-9(2)7-5-4-6-8-9/h3-8H2,1-...</td>\n",
       "      <td>CC[N+]1(C)CCCCC1</td>\n",
       "      <td>0.0</td>\n",
       "    </tr>\n",
       "    <tr>\n",
       "      <th>97990</th>\n",
       "      <td>JCP2022_097993</td>\n",
       "      <td>WDECIBYCCFPHNR-UHFFFAOYSA-N</td>\n",
       "      <td>InChI=1S/C18H12/c1-3-7-15-13(5-1)9-11-18-16-8-...</td>\n",
       "      <td>c1ccc3c(c1)ccc4c2ccccc2ccc34</td>\n",
       "      <td>0.0</td>\n",
       "    </tr>\n",
       "    <tr>\n",
       "      <th>100361</th>\n",
       "      <td>JCP2022_100364</td>\n",
       "      <td>WPSYTTKBGAZSCX-UHFFFAOYSA-N</td>\n",
       "      <td>InChI=1S/C21H37ClN/c1-4-7-8-9-11-18-23(5-2,6-3...</td>\n",
       "      <td>CCCCCCC[N+](CC)(CC)CCCCc1ccc(Cl)cc1</td>\n",
       "      <td>0.0</td>\n",
       "    </tr>\n",
       "    <tr>\n",
       "      <th>100978</th>\n",
       "      <td>JCP2022_100981</td>\n",
       "      <td>WTARULDDTDQWMU-UHFFFAOYSA-N</td>\n",
       "      <td>InChI=1S/C10H16/c1-7-4-5-8-6-9(7)10(8,2)3/h8-9...</td>\n",
       "      <td>CC1(C)C2CCC(=C)C1C2</td>\n",
       "      <td>0.0</td>\n",
       "    </tr>\n",
       "    <tr>\n",
       "      <th>101161</th>\n",
       "      <td>JCP2022_101164</td>\n",
       "      <td>WTWWXOGTJWMJHI-UHFFFAOYSA-N</td>\n",
       "      <td>InChI=1S/C8BrF17/c9-7(22,23)5(18,19)3(14,15)1(...</td>\n",
       "      <td>FC(F)(F)C(F)(F)C(F)(F)C(F)(F)C(F)(F)C(F)(F)C(F...</td>\n",
       "      <td>0.0</td>\n",
       "    </tr>\n",
       "    <tr>\n",
       "      <th>104494</th>\n",
       "      <td>JCP2022_104497</td>\n",
       "      <td>XMBWDFGMSWQBCA-UHFFFAOYSA-N</td>\n",
       "      <td>InChI=1S/HI/h1H</td>\n",
       "      <td>I</td>\n",
       "      <td>0.0</td>\n",
       "    </tr>\n",
       "    <tr>\n",
       "      <th>104531</th>\n",
       "      <td>JCP2022_104534</td>\n",
       "      <td>XMGQYMWWDOXHJM-UHFFFAOYSA-N</td>\n",
       "      <td>InChI=1S/C10H16/c1-8(2)10-6-4-9(3)5-7-10/h4,10...</td>\n",
       "      <td>CC(=C)C1CCC(C)=CC1</td>\n",
       "      <td>0.0</td>\n",
       "    </tr>\n",
       "    <tr>\n",
       "      <th>110583</th>\n",
       "      <td>JCP2022_110586</td>\n",
       "      <td>YSQBVIAGPLXQJH-UHFFFAOYSA-N</td>\n",
       "      <td>InChI=1S/C7H6Cl2S/c1-10-6-4-2-3-5(8)7(6)9/h2-4...</td>\n",
       "      <td>CSc1cccc(Cl)c1Cl</td>\n",
       "      <td>0.0</td>\n",
       "    </tr>\n",
       "    <tr>\n",
       "      <th>111270</th>\n",
       "      <td>JCP2022_111273</td>\n",
       "      <td>YWHLKYXPLRWGSE-UHFFFAOYSA-N</td>\n",
       "      <td>InChI=1S/C2H6S3/c1-3-5-4-2/h1-2H3</td>\n",
       "      <td>CSSSC</td>\n",
       "      <td>0.0</td>\n",
       "    </tr>\n",
       "    <tr>\n",
       "      <th>111666</th>\n",
       "      <td>JCP2022_111669</td>\n",
       "      <td>YYGNTYWPHWGJRM-UHFFFAOYSA-N</td>\n",
       "      <td>InChI=1S/C30H50/c1-25(2)15-11-19-29(7)23-13-21...</td>\n",
       "      <td>CC(C)=CCCC(C)=CCCC(C)=CCCC=C(C)CCC=C(C)CCC=C(C)C</td>\n",
       "      <td>0.0</td>\n",
       "    </tr>\n",
       "    <tr>\n",
       "      <th>114867</th>\n",
       "      <td>JCP2022_114870</td>\n",
       "      <td>ZPQOPVIELGIULI-UHFFFAOYSA-N</td>\n",
       "      <td>InChI=1S/C6H4Cl2/c7-5-2-1-3-6(8)4-5/h1-4H</td>\n",
       "      <td>Clc1cccc(Cl)c1</td>\n",
       "      <td>0.0</td>\n",
       "    </tr>\n",
       "  </tbody>\n",
       "</table>\n",
       "</div>"
      ],
      "text/plain": [
       "       Metadata_JCP2022            Metadata_InChIKey                                     Metadata_InChI                                    Metadata_Smiles  Metadata_TPSA\n",
       "134      JCP2022_000135  AAQOQKQBGPPFNS-UHFFFAOYSA-N  InChI=1S/C11H17BrN/c1-4-13(2,3)9-10-7-5-6-8-11...                            CC[N+](C)(C)Cc1ccccc1Br            0.0\n",
       "5457     JCP2022_005458  BCQZXOMGPXTTIC-UHFFFAOYSA-N              InChI=1S/C2HBrClF3/c3-1(4)2(5,6)7/h1H                                    FC(F)(F)C(Cl)Br            0.0\n",
       "8035     JCP2022_008036  BQOFWKZOCNGFEC-UHFFFAOYSA-N  InChI=1S/C10H16/c1-7-4-5-8-9(6-7)10(8,2)3/h4,8...                                CC1CC2C(CC=1)C2(C)C            0.0\n",
       "8377     JCP2022_008378  BSMYVBKDBCUVBF-UHFFFAOYSA-N  InChI=1S/C22H32N/c1-6-20(16-18(2)21-10-8-7-9-1...           CCC(CC(C)c1ccccc1)c2ccc(C[N+](C)(C)C)cc2            0.0\n",
       "10111    JCP2022_010112  CBXCPBUEXACCNR-UHFFFAOYSA-N  InChI=1S/C8H20N/c1-5-9(6-2,7-3)8-4/h5-8H2,1-4H...                                   CC[N+](CC)(CC)CC            0.0\n",
       "13018    JCP2022_013019  CRPUJAZIXJMDBK-UHFFFAOYSA-N  InChI=1S/C10H16/c1-7-8-4-5-9(6-8)10(7,2)3/h8-9...                                CC1(C)C(=C)C2CC1CC2            0.0\n",
       "14190    JCP2022_014191  CYDRXTMLKJDRQH-UHFFFAOYSA-N  InChI=1S/C21H38N/c1-4-5-6-7-8-9-10-11-12-16-19...                    CCCCCCCCCCCC[N+](C)(C)Cc1ccccc1            0.0\n",
       "14400    JCP2022_014401  CZDYPVPMEAXLPK-UHFFFAOYSA-N                 InChI=1S/C4H12Si/c1-5(2,3)4/h1-4H3                                       C[Si](C)(C)C            0.0\n",
       "16125    JCP2022_016126  DIMMBYOINZRKMD-UHFFFAOYSA-N                                     InChI=1S/V/q+5                                              [V+5]            0.0\n",
       "21236    JCP2022_021237  FKNQFGJONOIPTF-UHFFFAOYSA-N                                    InChI=1S/Na/q+1                                              [Na+]            0.0\n",
       "21600    JCP2022_021601  FMMWHPNWAFZXNH-UHFFFAOYSA-N  InChI=1S/C20H12/c1-2-7-17-15(4-1)12-16-9-8-13-...                   c1ccc2c(c1)cc3ccc4cccc5ccc2c3c45            0.0\n",
       "21659    JCP2022_021660  FMVKCNOAGUSJQW-UHFFFAOYSA-N  InChI=1S/C18H16S/c1-14-12-13-17(19-14)18(15-8-...                    CC1=CC=C(S1)C(c2ccccc2)c3ccccc3            0.0\n",
       "23414    JCP2022_023415  FWKQNCXZGNBPFD-UHFFFAOYSA-N  InChI=1S/C15H18/c1-10(2)13-7-5-11(3)14-8-6-12(...                          CC(C)c2ccc(C)c1ccc(C)c1c2            0.0\n",
       "23421    JCP2022_023422  FWLORMQUOWCQPO-UHFFFAOYSA-N  InChI=1S/C27H50N/c1-4-5-6-7-8-9-10-11-12-13-14...              CCCCCCCCCCCCCCCCCC[N+](C)(C)Cc1ccccc1            0.0\n",
       "27359    JCP2022_027360  GRWFGVWFFZKLTI-UHFFFAOYSA-N  InChI=1S/C10H16/c1-7-4-5-8-6-9(7)10(8,2)3/h4,8...                                  CC1=CCC2CC1C2(C)C            0.0\n",
       "29339    JCP2022_029341  HCNGUXXTNNIKCQ-UHFFFAOYSA-N                                    InChI=1S/Mo/q+6                                             [Mo+6]            0.0\n",
       "29890    JCP2022_029892  HFPZCAJZSCWRBC-UHFFFAOYSA-N  InChI=1S/C10H14/c1-8(2)10-6-4-9(3)5-7-10/h4-8H...                                   CC(C)c1ccc(C)cc1            0.0\n",
       "32192    JCP2022_032194  HRZQNDWDAPBHSB-UHFFFAOYSA-N  InChI=1S/C15H36N2/c1-7-8-9-10-11-14-17(5,6)15-...                    CCCCCCC[N+](C)(C)CCC[N+](C)(C)C            0.0\n",
       "37158    JCP2022_037160  ISPYNXGXZRLLHM-UHFFFAOYSA-N  InChI=1S/C15H9Cl2F3/c16-13-7-11(8-14(17)9-13)2...              FC(F)(F)c2ccc(C=Cc1cc(Cl)cc(Cl)c1)cc2            0.0\n",
       "38237    JCP2022_038239  IYYZUPMFVPLQIF-UHFFFAOYSA-N  InChI=1S/C12H8S/c1-3-7-11-9(5-1)10-6-2-4-8-12(...                              c1ccc3c(c1)Sc2ccccc23            0.0\n",
       "40830    JCP2022_040832  JMYNPQVCVQVODQ-UHFFFAOYSA-N  InChI=1S/C14H9Cl3/c15-12-5-3-10(4-6-12)1-2-11-...                    Clc2ccc(C=Cc1cc(Cl)cc(Cl)c1)cc2            0.0\n",
       "41302    JCP2022_041304  JPOJMYYCSNHYRY-UHFFFAOYSA-N                              InChI=1S/3Na.V/q;;;+8                               [Na].[Na].[Na].[V+8]            0.0\n",
       "42497    JCP2022_042499  JWBOIMRXGHLCPP-UHFFFAOYSA-N  InChI=1S/C14H10Cl4/c15-10-7-5-9(6-8-10)13(14(1...                   ClC(Cl)C(c1ccc(Cl)cc1)c2ccccc2Cl            0.0\n",
       "42864    JCP2022_042866  JXZGMDYNCUEGNH-UHFFFAOYSA-N  InChI=1S/C34H46N/c1-33(2,3)31-18-14-27(15-19-3...  CC(C)(C)c4ccc(CC3CCC[N+](Cc1ccccc1)(Cc2ccc(cc2...            0.0\n",
       "47662    JCP2022_047664  KXSFECAJUBPPFE-UHFFFAOYSA-N  InChI=1S/C12H8S3/c1-3-9(13-7-1)11-5-6-12(15-11...                    C1=CSC(=C1)C2=CC=C(S2)C3=CC=CS3            0.0\n",
       "48541    JCP2022_048543  LCKIEQZJEYYRIY-UHFFFAOYSA-N                                    InChI=1S/Ti/q+4                                             [Ti+4]            0.0\n",
       "48610    JCP2022_048612  LCTZPQRFOZKZNK-UHFFFAOYSA-N  InChI=1S/C20H24N/c1-21(2)15-13-19(14-16-21)20(...              C[N+]1(C)CCC(CC1)=C(c2ccccc2)c3ccccc3            0.0\n",
       "53339    JCP2022_053341  MCZUXEWWARACSP-UHFFFAOYSA-N  InChI=1S/C12H8/c1-2-10-7-5-8-11-6-3-4-9-12(10)...                                  C#Cc1cccc2ccccc12            0.0\n",
       "56345    JCP2022_056347  MTCUAOILFDZKCO-UHFFFAOYSA-N  InChI=1S/C16H38N2/c1-17(2,3)15-13-11-9-7-8-10-...                   C[N+](C)(C)CCCCCCCCCC[N+](C)(C)C            0.0\n",
       "58101    JCP2022_058103  NCMHKCKGHRPLCM-UHFFFAOYSA-N                                    InChI=1S/Cs/q+1                                              [Cs+]            0.0\n",
       "60532    JCP2022_060534  NPNUFJAVOOONJE-UHFFFAOYSA-N  InChI=1S/C15H24/c1-11-6-5-7-12(2)13-10-15(3,4)...                        CC2CCC1C(CC1(C)C)C(=C)CCC=2            0.0\n",
       "61615    JCP2022_061617  NVLPQIPTCCLBEU-UHFFFAOYSA-N            InChI=1S/C4H8S/c1-3-4-5-2/h3H,1,4H2,2H3                                             C=CCSC            0.0\n",
       "62894    JCP2022_062896  OCJBOOLMMGQPQU-UHFFFAOYSA-N          InChI=1S/C6H4Cl2/c7-5-1-2-6(8)4-3-5/h1-4H                                     Clc1ccc(Cl)cc1            0.0\n",
       "63294    JCP2022_063296  OENHQHLEOONYIE-UHFFFAOYSA-N  InChI=1S/C40H56/c1-31(19-13-21-33(3)25-27-37-3...  CC(C=CC=C(C)C=CC1=C(C)CCCC1(C)C)=CC=CC=C(C)C=C...            0.0\n",
       "65257    JCP2022_065259  OPFTUNCRGUEPRZ-UHFFFAOYSA-N  InChI=1S/C15H24/c1-7-15(6)9-8-13(11(2)3)10-14(...                     CC(=C)C1CCC(C)(C=C)C(C1)C(C)=C            0.0\n",
       "67916    JCP2022_067919  PDSNLYSELAIEBU-UHFFFAOYSA-N  InChI=1S/C15H24/c1-10-11-6-7-12-13(11)14(2,3)8...                       CC3(C)CCCC1(C)C(=C)C2CCC1C23            0.0\n",
       "67917    JCP2022_067920  PDSVZUAJOIQXRK-UHFFFAOYSA-N  InChI=1S/C21H46N/c1-5-6-7-8-9-10-11-12-13-14-1...                      CCCCCCCCCCCCCCCCCC[N+](C)(C)C            0.0\n",
       "70413    JCP2022_070416  PRAKJMSDJKAYCZ-UHFFFAOYSA-N  InChI=1S/C30H62/c1-25(2)15-11-19-29(7)23-13-21...         CC(C)CCCC(C)CCCC(C)CCCCC(C)CCCC(C)CCCC(C)C            0.0\n",
       "71670    JCP2022_071673  PXVOATXCSSPUEM-UHFFFAOYSA-N  InChI=1S/C10H15I/c11-10-4-7-1-8(5-10)3-9(2-7)6...                              IC23CC1CC(CC(C1)C2)C3            0.0\n",
       "72798    JCP2022_072801  QDYLMAYUEZBUFO-UHFFFAOYSA-N  InChI=1S/C25H46N/c1-4-5-6-7-8-9-10-11-12-13-14...                CCCCCCCCCCCCCCCC[N+](C)(C)Cc1ccccc1            0.0\n",
       "73109    JCP2022_073112  QFQZKISCBJKVHI-UHFFFAOYSA-N  InChI=1S/C6H6Br6/c7-1-2(8)4(10)6(12)5(11)3(1)9...                       BrC1C(Br)C(Br)C(Br)C(Br)C1Br            0.0\n",
       "73158    JCP2022_073161  QFXKXRXFBRLLPQ-UHFFFAOYSA-N  InChI=1S/C12H8I/c1-3-7-11-9(5-1)10-6-2-4-8-12(...                           c1ccc3c(c1)[I+]c2ccccc23            0.0\n",
       "75096    JCP2022_075099  QPUYECUOLPXSFR-UHFFFAOYSA-N  InChI=1S/C11H10/c1-9-5-4-7-10-6-2-3-8-11(9)10/...                                    Cc1cccc2ccccc12            0.0\n",
       "79094    JCP2022_079097  RLGQACBPNDBWTB-UHFFFAOYSA-N  InChI=1S/C19H42N/c1-5-6-7-8-9-10-11-12-13-14-1...                        CCCCCCCCCCCCCCCC[N+](C)(C)C            0.0\n",
       "80228    JCP2022_080231  RRHGJUQNOFWUDK-UHFFFAOYSA-N             InChI=1S/C5H8/c1-4-5(2)3/h4H,1-2H2,3H3                                          CC(=C)C=C            0.0\n",
       "87985    JCP2022_087988  UARILQSOMYIQCM-UHFFFAOYSA-N  InChI=1S/C19H34N/c1-4-5-6-7-8-9-10-14-17-20(2,...                      CCCCCCCCCC[N+](C)(C)Cc1ccccc1            0.0\n",
       "88104    JCP2022_088107  UBJVUCKUDDKUJF-UHFFFAOYSA-N     InChI=1S/C6H10S/c1-3-5-7-6-4-2/h3-4H,1-2,5-6H2                                          C=CCSCC=C            0.0\n",
       "88313    JCP2022_088316  UCNVFOCBFJOQAL-UHFFFAOYSA-N  InChI=1S/C14H8Cl4/c15-11-5-1-9(2-6-11)13(14(17...                ClC(Cl)=C(c1ccc(Cl)cc1)c2ccc(Cl)cc2            0.0\n",
       "97304    JCP2022_097307  VZJFGSRCJCXDSG-UHFFFAOYSA-N  InChI=1S/C12H30N2/c1-13(2,3)11-9-7-8-10-12-14(...                       C[N+](C)(C)CCCCCC[N+](C)(C)C            0.0\n",
       "97445    JCP2022_097448  WACRAFUNNYGNEQ-UHFFFAOYSA-N  InChI=1S/C8H18N/c1-3-9(2)7-5-4-6-8-9/h3-8H2,1-...                                   CC[N+]1(C)CCCCC1            0.0\n",
       "97990    JCP2022_097993  WDECIBYCCFPHNR-UHFFFAOYSA-N  InChI=1S/C18H12/c1-3-7-15-13(5-1)9-11-18-16-8-...                       c1ccc3c(c1)ccc4c2ccccc2ccc34            0.0\n",
       "100361   JCP2022_100364  WPSYTTKBGAZSCX-UHFFFAOYSA-N  InChI=1S/C21H37ClN/c1-4-7-8-9-11-18-23(5-2,6-3...                CCCCCCC[N+](CC)(CC)CCCCc1ccc(Cl)cc1            0.0\n",
       "100978   JCP2022_100981  WTARULDDTDQWMU-UHFFFAOYSA-N  InChI=1S/C10H16/c1-7-4-5-8-6-9(7)10(8,2)3/h8-9...                                CC1(C)C2CCC(=C)C1C2            0.0\n",
       "101161   JCP2022_101164  WTWWXOGTJWMJHI-UHFFFAOYSA-N  InChI=1S/C8BrF17/c9-7(22,23)5(18,19)3(14,15)1(...  FC(F)(F)C(F)(F)C(F)(F)C(F)(F)C(F)(F)C(F)(F)C(F...            0.0\n",
       "104494   JCP2022_104497  XMBWDFGMSWQBCA-UHFFFAOYSA-N                                    InChI=1S/HI/h1H                                                  I            0.0\n",
       "104531   JCP2022_104534  XMGQYMWWDOXHJM-UHFFFAOYSA-N  InChI=1S/C10H16/c1-8(2)10-6-4-9(3)5-7-10/h4,10...                                 CC(=C)C1CCC(C)=CC1            0.0\n",
       "110583   JCP2022_110586  YSQBVIAGPLXQJH-UHFFFAOYSA-N  InChI=1S/C7H6Cl2S/c1-10-6-4-2-3-5(8)7(6)9/h2-4...                                   CSc1cccc(Cl)c1Cl            0.0\n",
       "111270   JCP2022_111273  YWHLKYXPLRWGSE-UHFFFAOYSA-N                  InChI=1S/C2H6S3/c1-3-5-4-2/h1-2H3                                              CSSSC            0.0\n",
       "111666   JCP2022_111669  YYGNTYWPHWGJRM-UHFFFAOYSA-N  InChI=1S/C30H50/c1-25(2)15-11-19-29(7)23-13-21...   CC(C)=CCCC(C)=CCCC(C)=CCCC=C(C)CCC=C(C)CCC=C(C)C            0.0\n",
       "114867   JCP2022_114870  ZPQOPVIELGIULI-UHFFFAOYSA-N          InChI=1S/C6H4Cl2/c7-5-2-1-3-6(8)4-5/h1-4H                                     Clc1cccc(Cl)c1            0.0"
      ]
     },
     "execution_count": 161,
     "metadata": {},
     "output_type": "execute_result"
    }
   ],
   "source": [
    "df_md_zero = df_metadata[df_metadata.Metadata_TPSA == 0.0]\n",
    "print(f\" Metadata entries with TPSA == 0.0: {len(df_md_zero)}\")\n",
    "df_md_nan = df_metadata[df_metadata.Metadata_TPSA.isna()]\n",
    "print(f\" Metadata entries with TPSA == Nan: {len(df_md_nan)}\")\n",
    "df_md_inv = pd.concat((df_md_zero, df_md_nan))\n",
    "print(f\" Metadata entries with TPSA == Nan or 0.0: {len(df_md_inv)}\")\n",
    "df_md_inv"
   ]
  },
  {
   "cell_type": "markdown",
   "id": "09aa116f",
   "metadata": {
    "heading_collapsed": true
   },
   "source": [
    "  #### TPSA file"
   ]
  },
  {
   "cell_type": "code",
   "execution_count": 162,
   "id": "5ce945bb",
   "metadata": {
    "ExecuteTime": {
     "end_time": "2023-06-28T19:22:28.963612Z",
     "start_time": "2023-06-28T19:22:28.903983Z"
    },
    "execution": {
     "iopub.execute_input": "2024-10-23T20:31:22.786527Z",
     "iopub.status.busy": "2024-10-23T20:31:22.786049Z",
     "iopub.status.idle": "2024-10-23T20:31:22.837364Z",
     "shell.execute_reply": "2024-10-23T20:31:22.836848Z",
     "shell.execute_reply.started": "2024-10-23T20:31:22.786464Z"
    },
    "hidden": true,
    "scrolled": true
   },
   "outputs": [
    {
     "data": {
      "text/plain": [
       "116751"
      ]
     },
     "execution_count": 162,
     "metadata": {},
     "output_type": "execute_result"
    },
    {
     "name": "stdout",
     "output_type": "stream",
     "text": [
      " TPSA entries == 0.0: 60\n",
      " TPSA entries Nan : 0\n",
      " TPSA entries == 0.0 OR NaN: 60\n"
     ]
    },
    {
     "data": {
      "text/html": [
       "<div>\n",
       "<style scoped>\n",
       "    .dataframe tbody tr th:only-of-type {\n",
       "        vertical-align: middle;\n",
       "    }\n",
       "\n",
       "    .dataframe tbody tr th {\n",
       "        vertical-align: top;\n",
       "    }\n",
       "\n",
       "    .dataframe thead th {\n",
       "        text-align: right;\n",
       "    }\n",
       "</style>\n",
       "<table border=\"1\" class=\"dataframe\">\n",
       "  <thead>\n",
       "    <tr style=\"text-align: right;\">\n",
       "      <th></th>\n",
       "      <th>JCP2022</th>\n",
       "      <th>Metadata_TPSA</th>\n",
       "    </tr>\n",
       "  </thead>\n",
       "  <tbody>\n",
       "    <tr>\n",
       "      <th>134</th>\n",
       "      <td>JCP2022_000135</td>\n",
       "      <td>0.0</td>\n",
       "    </tr>\n",
       "    <tr>\n",
       "      <th>5457</th>\n",
       "      <td>JCP2022_005458</td>\n",
       "      <td>0.0</td>\n",
       "    </tr>\n",
       "    <tr>\n",
       "      <th>8035</th>\n",
       "      <td>JCP2022_008036</td>\n",
       "      <td>0.0</td>\n",
       "    </tr>\n",
       "    <tr>\n",
       "      <th>8377</th>\n",
       "      <td>JCP2022_008378</td>\n",
       "      <td>0.0</td>\n",
       "    </tr>\n",
       "    <tr>\n",
       "      <th>10111</th>\n",
       "      <td>JCP2022_010112</td>\n",
       "      <td>0.0</td>\n",
       "    </tr>\n",
       "    <tr>\n",
       "      <th>13018</th>\n",
       "      <td>JCP2022_013019</td>\n",
       "      <td>0.0</td>\n",
       "    </tr>\n",
       "    <tr>\n",
       "      <th>14190</th>\n",
       "      <td>JCP2022_014191</td>\n",
       "      <td>0.0</td>\n",
       "    </tr>\n",
       "    <tr>\n",
       "      <th>14400</th>\n",
       "      <td>JCP2022_014401</td>\n",
       "      <td>0.0</td>\n",
       "    </tr>\n",
       "    <tr>\n",
       "      <th>16125</th>\n",
       "      <td>JCP2022_016126</td>\n",
       "      <td>0.0</td>\n",
       "    </tr>\n",
       "    <tr>\n",
       "      <th>21236</th>\n",
       "      <td>JCP2022_021237</td>\n",
       "      <td>0.0</td>\n",
       "    </tr>\n",
       "    <tr>\n",
       "      <th>21600</th>\n",
       "      <td>JCP2022_021601</td>\n",
       "      <td>0.0</td>\n",
       "    </tr>\n",
       "    <tr>\n",
       "      <th>21659</th>\n",
       "      <td>JCP2022_021660</td>\n",
       "      <td>0.0</td>\n",
       "    </tr>\n",
       "    <tr>\n",
       "      <th>23414</th>\n",
       "      <td>JCP2022_023415</td>\n",
       "      <td>0.0</td>\n",
       "    </tr>\n",
       "    <tr>\n",
       "      <th>23421</th>\n",
       "      <td>JCP2022_023422</td>\n",
       "      <td>0.0</td>\n",
       "    </tr>\n",
       "    <tr>\n",
       "      <th>27359</th>\n",
       "      <td>JCP2022_027360</td>\n",
       "      <td>0.0</td>\n",
       "    </tr>\n",
       "    <tr>\n",
       "      <th>29339</th>\n",
       "      <td>JCP2022_029341</td>\n",
       "      <td>0.0</td>\n",
       "    </tr>\n",
       "    <tr>\n",
       "      <th>29890</th>\n",
       "      <td>JCP2022_029892</td>\n",
       "      <td>0.0</td>\n",
       "    </tr>\n",
       "    <tr>\n",
       "      <th>32192</th>\n",
       "      <td>JCP2022_032194</td>\n",
       "      <td>0.0</td>\n",
       "    </tr>\n",
       "    <tr>\n",
       "      <th>37158</th>\n",
       "      <td>JCP2022_037160</td>\n",
       "      <td>0.0</td>\n",
       "    </tr>\n",
       "    <tr>\n",
       "      <th>38237</th>\n",
       "      <td>JCP2022_038239</td>\n",
       "      <td>0.0</td>\n",
       "    </tr>\n",
       "    <tr>\n",
       "      <th>40830</th>\n",
       "      <td>JCP2022_040832</td>\n",
       "      <td>0.0</td>\n",
       "    </tr>\n",
       "    <tr>\n",
       "      <th>41302</th>\n",
       "      <td>JCP2022_041304</td>\n",
       "      <td>0.0</td>\n",
       "    </tr>\n",
       "    <tr>\n",
       "      <th>42497</th>\n",
       "      <td>JCP2022_042499</td>\n",
       "      <td>0.0</td>\n",
       "    </tr>\n",
       "    <tr>\n",
       "      <th>42864</th>\n",
       "      <td>JCP2022_042866</td>\n",
       "      <td>0.0</td>\n",
       "    </tr>\n",
       "    <tr>\n",
       "      <th>47662</th>\n",
       "      <td>JCP2022_047664</td>\n",
       "      <td>0.0</td>\n",
       "    </tr>\n",
       "    <tr>\n",
       "      <th>48541</th>\n",
       "      <td>JCP2022_048543</td>\n",
       "      <td>0.0</td>\n",
       "    </tr>\n",
       "    <tr>\n",
       "      <th>48610</th>\n",
       "      <td>JCP2022_048612</td>\n",
       "      <td>0.0</td>\n",
       "    </tr>\n",
       "    <tr>\n",
       "      <th>53339</th>\n",
       "      <td>JCP2022_053341</td>\n",
       "      <td>0.0</td>\n",
       "    </tr>\n",
       "    <tr>\n",
       "      <th>56345</th>\n",
       "      <td>JCP2022_056347</td>\n",
       "      <td>0.0</td>\n",
       "    </tr>\n",
       "    <tr>\n",
       "      <th>58101</th>\n",
       "      <td>JCP2022_058103</td>\n",
       "      <td>0.0</td>\n",
       "    </tr>\n",
       "    <tr>\n",
       "      <th>60532</th>\n",
       "      <td>JCP2022_060534</td>\n",
       "      <td>0.0</td>\n",
       "    </tr>\n",
       "    <tr>\n",
       "      <th>61615</th>\n",
       "      <td>JCP2022_061617</td>\n",
       "      <td>0.0</td>\n",
       "    </tr>\n",
       "    <tr>\n",
       "      <th>62894</th>\n",
       "      <td>JCP2022_062896</td>\n",
       "      <td>0.0</td>\n",
       "    </tr>\n",
       "    <tr>\n",
       "      <th>63294</th>\n",
       "      <td>JCP2022_063296</td>\n",
       "      <td>0.0</td>\n",
       "    </tr>\n",
       "    <tr>\n",
       "      <th>65257</th>\n",
       "      <td>JCP2022_065259</td>\n",
       "      <td>0.0</td>\n",
       "    </tr>\n",
       "    <tr>\n",
       "      <th>67916</th>\n",
       "      <td>JCP2022_067919</td>\n",
       "      <td>0.0</td>\n",
       "    </tr>\n",
       "    <tr>\n",
       "      <th>67917</th>\n",
       "      <td>JCP2022_067920</td>\n",
       "      <td>0.0</td>\n",
       "    </tr>\n",
       "    <tr>\n",
       "      <th>70413</th>\n",
       "      <td>JCP2022_070416</td>\n",
       "      <td>0.0</td>\n",
       "    </tr>\n",
       "    <tr>\n",
       "      <th>71670</th>\n",
       "      <td>JCP2022_071673</td>\n",
       "      <td>0.0</td>\n",
       "    </tr>\n",
       "    <tr>\n",
       "      <th>72798</th>\n",
       "      <td>JCP2022_072801</td>\n",
       "      <td>0.0</td>\n",
       "    </tr>\n",
       "    <tr>\n",
       "      <th>73109</th>\n",
       "      <td>JCP2022_073112</td>\n",
       "      <td>0.0</td>\n",
       "    </tr>\n",
       "    <tr>\n",
       "      <th>73158</th>\n",
       "      <td>JCP2022_073161</td>\n",
       "      <td>0.0</td>\n",
       "    </tr>\n",
       "    <tr>\n",
       "      <th>75096</th>\n",
       "      <td>JCP2022_075099</td>\n",
       "      <td>0.0</td>\n",
       "    </tr>\n",
       "    <tr>\n",
       "      <th>79094</th>\n",
       "      <td>JCP2022_079097</td>\n",
       "      <td>0.0</td>\n",
       "    </tr>\n",
       "    <tr>\n",
       "      <th>80228</th>\n",
       "      <td>JCP2022_080231</td>\n",
       "      <td>0.0</td>\n",
       "    </tr>\n",
       "    <tr>\n",
       "      <th>87985</th>\n",
       "      <td>JCP2022_087988</td>\n",
       "      <td>0.0</td>\n",
       "    </tr>\n",
       "    <tr>\n",
       "      <th>88104</th>\n",
       "      <td>JCP2022_088107</td>\n",
       "      <td>0.0</td>\n",
       "    </tr>\n",
       "    <tr>\n",
       "      <th>88313</th>\n",
       "      <td>JCP2022_088316</td>\n",
       "      <td>0.0</td>\n",
       "    </tr>\n",
       "    <tr>\n",
       "      <th>97304</th>\n",
       "      <td>JCP2022_097307</td>\n",
       "      <td>0.0</td>\n",
       "    </tr>\n",
       "    <tr>\n",
       "      <th>97445</th>\n",
       "      <td>JCP2022_097448</td>\n",
       "      <td>0.0</td>\n",
       "    </tr>\n",
       "    <tr>\n",
       "      <th>97990</th>\n",
       "      <td>JCP2022_097993</td>\n",
       "      <td>0.0</td>\n",
       "    </tr>\n",
       "    <tr>\n",
       "      <th>100361</th>\n",
       "      <td>JCP2022_100364</td>\n",
       "      <td>0.0</td>\n",
       "    </tr>\n",
       "    <tr>\n",
       "      <th>100978</th>\n",
       "      <td>JCP2022_100981</td>\n",
       "      <td>0.0</td>\n",
       "    </tr>\n",
       "    <tr>\n",
       "      <th>101161</th>\n",
       "      <td>JCP2022_101164</td>\n",
       "      <td>0.0</td>\n",
       "    </tr>\n",
       "    <tr>\n",
       "      <th>104494</th>\n",
       "      <td>JCP2022_104497</td>\n",
       "      <td>0.0</td>\n",
       "    </tr>\n",
       "    <tr>\n",
       "      <th>104531</th>\n",
       "      <td>JCP2022_104534</td>\n",
       "      <td>0.0</td>\n",
       "    </tr>\n",
       "    <tr>\n",
       "      <th>110583</th>\n",
       "      <td>JCP2022_110586</td>\n",
       "      <td>0.0</td>\n",
       "    </tr>\n",
       "    <tr>\n",
       "      <th>111270</th>\n",
       "      <td>JCP2022_111273</td>\n",
       "      <td>0.0</td>\n",
       "    </tr>\n",
       "    <tr>\n",
       "      <th>111666</th>\n",
       "      <td>JCP2022_111669</td>\n",
       "      <td>0.0</td>\n",
       "    </tr>\n",
       "    <tr>\n",
       "      <th>114867</th>\n",
       "      <td>JCP2022_114870</td>\n",
       "      <td>0.0</td>\n",
       "    </tr>\n",
       "  </tbody>\n",
       "</table>\n",
       "</div>"
      ],
      "text/plain": [
       "               JCP2022  Metadata_TPSA\n",
       "134     JCP2022_000135            0.0\n",
       "5457    JCP2022_005458            0.0\n",
       "8035    JCP2022_008036            0.0\n",
       "8377    JCP2022_008378            0.0\n",
       "10111   JCP2022_010112            0.0\n",
       "13018   JCP2022_013019            0.0\n",
       "14190   JCP2022_014191            0.0\n",
       "14400   JCP2022_014401            0.0\n",
       "16125   JCP2022_016126            0.0\n",
       "21236   JCP2022_021237            0.0\n",
       "21600   JCP2022_021601            0.0\n",
       "21659   JCP2022_021660            0.0\n",
       "23414   JCP2022_023415            0.0\n",
       "23421   JCP2022_023422            0.0\n",
       "27359   JCP2022_027360            0.0\n",
       "29339   JCP2022_029341            0.0\n",
       "29890   JCP2022_029892            0.0\n",
       "32192   JCP2022_032194            0.0\n",
       "37158   JCP2022_037160            0.0\n",
       "38237   JCP2022_038239            0.0\n",
       "40830   JCP2022_040832            0.0\n",
       "41302   JCP2022_041304            0.0\n",
       "42497   JCP2022_042499            0.0\n",
       "42864   JCP2022_042866            0.0\n",
       "47662   JCP2022_047664            0.0\n",
       "48541   JCP2022_048543            0.0\n",
       "48610   JCP2022_048612            0.0\n",
       "53339   JCP2022_053341            0.0\n",
       "56345   JCP2022_056347            0.0\n",
       "58101   JCP2022_058103            0.0\n",
       "60532   JCP2022_060534            0.0\n",
       "61615   JCP2022_061617            0.0\n",
       "62894   JCP2022_062896            0.0\n",
       "63294   JCP2022_063296            0.0\n",
       "65257   JCP2022_065259            0.0\n",
       "67916   JCP2022_067919            0.0\n",
       "67917   JCP2022_067920            0.0\n",
       "70413   JCP2022_070416            0.0\n",
       "71670   JCP2022_071673            0.0\n",
       "72798   JCP2022_072801            0.0\n",
       "73109   JCP2022_073112            0.0\n",
       "73158   JCP2022_073161            0.0\n",
       "75096   JCP2022_075099            0.0\n",
       "79094   JCP2022_079097            0.0\n",
       "80228   JCP2022_080231            0.0\n",
       "87985   JCP2022_087988            0.0\n",
       "88104   JCP2022_088107            0.0\n",
       "88313   JCP2022_088316            0.0\n",
       "97304   JCP2022_097307            0.0\n",
       "97445   JCP2022_097448            0.0\n",
       "97990   JCP2022_097993            0.0\n",
       "100361  JCP2022_100364            0.0\n",
       "100978  JCP2022_100981            0.0\n",
       "101161  JCP2022_101164            0.0\n",
       "104494  JCP2022_104497            0.0\n",
       "104531  JCP2022_104534            0.0\n",
       "110583  JCP2022_110586            0.0\n",
       "111270  JCP2022_111273            0.0\n",
       "111666  JCP2022_111669            0.0\n",
       "114867  JCP2022_114870            0.0"
      ]
     },
     "execution_count": 162,
     "metadata": {},
     "output_type": "execute_result"
    }
   ],
   "source": [
    "len(df_tpsa)\n",
    "df_tpsa_zero = df_tpsa[df_tpsa.Metadata_TPSA == 0.0]\n",
    "print(f\" TPSA entries == 0.0: {len(df_tpsa_zero)}\")\n",
    "# df_tpsa_zero\n",
    "df_tpsa_nan = df_tpsa[df_tpsa.Metadata_TPSA.isna()]\n",
    "print(f\" TPSA entries Nan : {len(df_tpsa_nan)}\")\n",
    "# df_tpsa_nan\n",
    "df_tpsa_inv = pd.concat((df_tpsa_zero, df_tpsa_nan))\n",
    "print(f\" TPSA entries == 0.0 OR NaN: {len(df_tpsa_inv)}\")\n",
    "df_tpsa_inv"
   ]
  },
  {
   "cell_type": "markdown",
   "id": "b9552c82",
   "metadata": {
    "heading_collapsed": true
   },
   "source": [
    " #### Get indicies of rows to drop (from TPSA and Metadata files)"
   ]
  },
  {
   "cell_type": "code",
   "execution_count": 163,
   "id": "c4639714",
   "metadata": {
    "ExecuteTime": {
     "end_time": "2023-06-28T19:23:00.429035Z",
     "start_time": "2023-06-28T19:23:00.389278Z"
    },
    "execution": {
     "iopub.execute_input": "2024-10-23T20:31:24.629535Z",
     "iopub.status.busy": "2024-10-23T20:31:24.629105Z",
     "iopub.status.idle": "2024-10-23T20:31:24.671248Z",
     "shell.execute_reply": "2024-10-23T20:31:24.670551Z",
     "shell.execute_reply.started": "2024-10-23T20:31:24.629497Z"
    },
    "hidden": true
   },
   "outputs": [
    {
     "data": {
      "text/plain": [
       "60"
      ]
     },
     "execution_count": 163,
     "metadata": {},
     "output_type": "execute_result"
    },
    {
     "data": {
      "text/plain": [
       "array([   134,   5457,   8035,   8377,  10111,  13018,  14190,  14400,  16125,  21236,  21600,  21659,  23414,  23421,  27359,  29339,  29890,\n",
       "        32192,  37158,  38237,  40830,  41302,  42497,  42864,  47662,  48541,  48610,  53339,  56345,  58101,  60532,  61615,  62894,  63294,\n",
       "        65257,  67916,  67917,  70413,  71670,  72798,  73109,  73158,  75096,  79094,  80228,  87985,  88104,  88313,  97304,  97445,  97990,\n",
       "       100361, 100978, 101161, 104494, 104531, 110583, 111270, 111666, 114867])"
      ]
     },
     "execution_count": 163,
     "metadata": {},
     "output_type": "execute_result"
    }
   ],
   "source": [
    "metadata_drop_indices = df_md_inv.index.values\n",
    "len(metadata_drop_indices)\n",
    "metadata_drop_indices"
   ]
  },
  {
   "cell_type": "code",
   "execution_count": 164,
   "id": "2f93f3de",
   "metadata": {
    "ExecuteTime": {
     "end_time": "2023-06-28T19:22:56.308516Z",
     "start_time": "2023-06-28T19:22:56.268379Z"
    },
    "execution": {
     "iopub.execute_input": "2024-10-23T20:31:24.888619Z",
     "iopub.status.busy": "2024-10-23T20:31:24.888414Z",
     "iopub.status.idle": "2024-10-23T20:31:24.919325Z",
     "shell.execute_reply": "2024-10-23T20:31:24.918812Z",
     "shell.execute_reply.started": "2024-10-23T20:31:24.888600Z"
    },
    "hidden": true
   },
   "outputs": [
    {
     "data": {
      "text/plain": [
       "60"
      ]
     },
     "execution_count": 164,
     "metadata": {},
     "output_type": "execute_result"
    },
    {
     "data": {
      "text/plain": [
       "array([   134,   5457,   8035,   8377,  10111,  13018,  14190,  14400,  16125,  21236,  21600,  21659,  23414,  23421,  27359,  29339,  29890,\n",
       "        32192,  37158,  38237,  40830,  41302,  42497,  42864,  47662,  48541,  48610,  53339,  56345,  58101,  60532,  61615,  62894,  63294,\n",
       "        65257,  67916,  67917,  70413,  71670,  72798,  73109,  73158,  75096,  79094,  80228,  87985,  88104,  88313,  97304,  97445,  97990,\n",
       "       100361, 100978, 101161, 104494, 104531, 110583, 111270, 111666, 114867])"
      ]
     },
     "execution_count": 164,
     "metadata": {},
     "output_type": "execute_result"
    }
   ],
   "source": [
    "tpsa_drop_indices = df_tpsa_inv.index.values\n",
    "len(tpsa_drop_indices)\n",
    "tpsa_drop_indices"
   ]
  },
  {
   "cell_type": "code",
   "execution_count": 165,
   "id": "67914b76",
   "metadata": {
    "ExecuteTime": {
     "end_time": "2023-06-28T19:23:02.179263Z",
     "start_time": "2023-06-28T19:23:02.138882Z"
    },
    "execution": {
     "iopub.execute_input": "2024-10-23T20:31:25.173287Z",
     "iopub.status.busy": "2024-10-23T20:31:25.173105Z",
     "iopub.status.idle": "2024-10-23T20:31:25.203432Z",
     "shell.execute_reply": "2024-10-23T20:31:25.202936Z",
     "shell.execute_reply.started": "2024-10-23T20:31:25.173270Z"
    },
    "hidden": true
   },
   "outputs": [
    {
     "data": {
      "text/plain": [
       "((60,), (60,))"
      ]
     },
     "execution_count": 165,
     "metadata": {},
     "output_type": "execute_result"
    },
    {
     "data": {
      "text/plain": [
       "True"
      ]
     },
     "execution_count": 165,
     "metadata": {},
     "output_type": "execute_result"
    }
   ],
   "source": [
    "metadata_drop_indices.shape, tpsa_drop_indices.shape\n",
    "(metadata_drop_indices == tpsa_drop_indices).all()"
   ]
  },
  {
   "cell_type": "markdown",
   "id": "aac49c4f",
   "metadata": {
    "heading_collapsed": true,
    "jp-MarkdownHeadingCollapsed": true
   },
   "source": [
    "### Drop rows from `df_tpsa` and `df_metadata`"
   ]
  },
  {
   "cell_type": "markdown",
   "id": "ea8b5dc1",
   "metadata": {
    "heading_collapsed": true,
    "hidden": true
   },
   "source": [
    "  #### df_metadata "
   ]
  },
  {
   "cell_type": "code",
   "execution_count": 166,
   "id": "da8492d1-6f90-49b4-a270-8b8773f890c9",
   "metadata": {
    "ExecuteTime": {
     "end_time": "2023-06-28T19:23:21.436690Z",
     "start_time": "2023-06-28T19:23:21.382041Z"
    },
    "execution": {
     "iopub.execute_input": "2024-10-23T20:31:27.739385Z",
     "iopub.status.busy": "2024-10-23T20:31:27.739038Z",
     "iopub.status.idle": "2024-10-23T20:31:27.790257Z",
     "shell.execute_reply": "2024-10-23T20:31:27.789554Z",
     "shell.execute_reply.started": "2024-10-23T20:31:27.739354Z"
    },
    "hidden": true
   },
   "outputs": [
    {
     "data": {
      "text/plain": [
       "116691"
      ]
     },
     "execution_count": 166,
     "metadata": {},
     "output_type": "execute_result"
    }
   ],
   "source": [
    "df_metadata_clean = df_metadata.drop(index=metadata_drop_indices)\n",
    "len(df_metadata_clean)"
   ]
  },
  {
   "cell_type": "code",
   "execution_count": 167,
   "id": "51f4f79f-3b88-4550-ad2a-2cbee5a3f62e",
   "metadata": {
    "ExecuteTime": {
     "end_time": "2023-06-28T19:23:57.336261Z",
     "start_time": "2023-06-28T19:23:57.291640Z"
    },
    "execution": {
     "iopub.execute_input": "2024-10-23T20:31:28.721194Z",
     "iopub.status.busy": "2024-10-23T20:31:28.720951Z",
     "iopub.status.idle": "2024-10-23T20:31:28.779924Z",
     "shell.execute_reply": "2024-10-23T20:31:28.779194Z",
     "shell.execute_reply.started": "2024-10-23T20:31:28.721173Z"
    },
    "hidden": true
   },
   "outputs": [
    {
     "data": {
      "text/plain": [
       "0"
      ]
     },
     "execution_count": 167,
     "metadata": {},
     "output_type": "execute_result"
    },
    {
     "data": {
      "text/html": [
       "<div>\n",
       "<style scoped>\n",
       "    .dataframe tbody tr th:only-of-type {\n",
       "        vertical-align: middle;\n",
       "    }\n",
       "\n",
       "    .dataframe tbody tr th {\n",
       "        vertical-align: top;\n",
       "    }\n",
       "\n",
       "    .dataframe thead th {\n",
       "        text-align: right;\n",
       "    }\n",
       "</style>\n",
       "<table border=\"1\" class=\"dataframe\">\n",
       "  <thead>\n",
       "    <tr style=\"text-align: right;\">\n",
       "      <th></th>\n",
       "      <th>Metadata_JCP2022</th>\n",
       "      <th>Metadata_InChIKey</th>\n",
       "      <th>Metadata_InChI</th>\n",
       "      <th>Metadata_Smiles</th>\n",
       "      <th>Metadata_TPSA</th>\n",
       "    </tr>\n",
       "  </thead>\n",
       "  <tbody>\n",
       "  </tbody>\n",
       "</table>\n",
       "</div>"
      ],
      "text/plain": [
       "Empty DataFrame\n",
       "Columns: [Metadata_JCP2022, Metadata_InChIKey, Metadata_InChI, Metadata_Smiles, Metadata_TPSA]\n",
       "Index: []"
      ]
     },
     "execution_count": 167,
     "metadata": {},
     "output_type": "execute_result"
    }
   ],
   "source": [
    "df_temp = df_metadata_clean[df_metadata_clean.Metadata_TPSA == 0.0]\n",
    "len(df_temp)\n",
    "df_temp\n",
    "\n",
    "# df = df_metadata[df_metadata.Metadata_InChIKey.isna()]\n",
    "# len(df)\n",
    "# df"
   ]
  },
  {
   "cell_type": "markdown",
   "id": "66ddb589",
   "metadata": {
    "heading_collapsed": true,
    "hidden": true
   },
   "source": [
    "  #### df_TPSA"
   ]
  },
  {
   "cell_type": "code",
   "execution_count": null,
   "id": "0bdaf3f3-a9c6-42ad-9cde-908c79f82f59",
   "metadata": {
    "ExecuteTime": {
     "end_time": "2023-06-28T19:24:50.595576Z",
     "start_time": "2023-06-28T19:24:50.542379Z"
    },
    "execution": {
     "iopub.execute_input": "2024-10-23T20:31:30.921965Z",
     "iopub.status.busy": "2024-10-23T20:31:30.921387Z",
     "iopub.status.idle": "2024-10-23T20:31:30.977336Z",
     "shell.execute_reply": "2024-10-23T20:31:30.976822Z",
     "shell.execute_reply.started": "2024-10-23T20:31:30.921922Z"
    },
    "hidden": true,
    "scrolled": true
   },
   "outputs": [],
   "source": [
    "df_tpsa_clean = df_tpsa.drop(index=tpsa_drop_indices)\n",
    "len(df_tpsa_clean)"
   ]
  },
  {
   "cell_type": "code",
   "execution_count": 169,
   "id": "4685fa38-61c2-4d48-82e9-3d8d4effecb7",
   "metadata": {
    "ExecuteTime": {
     "end_time": "2023-06-28T19:24:50.595576Z",
     "start_time": "2023-06-28T19:24:50.542379Z"
    },
    "execution": {
     "iopub.execute_input": "2024-10-23T20:31:48.042091Z",
     "iopub.status.busy": "2024-10-23T20:31:48.041540Z",
     "iopub.status.idle": "2024-10-23T20:31:48.091729Z",
     "shell.execute_reply": "2024-10-23T20:31:48.091244Z",
     "shell.execute_reply.started": "2024-10-23T20:31:48.042049Z"
    },
    "hidden": true,
    "scrolled": true
   },
   "outputs": [
    {
     "data": {
      "text/plain": [
       "0"
      ]
     },
     "execution_count": 169,
     "metadata": {},
     "output_type": "execute_result"
    },
    {
     "data": {
      "text/html": [
       "<div>\n",
       "<style scoped>\n",
       "    .dataframe tbody tr th:only-of-type {\n",
       "        vertical-align: middle;\n",
       "    }\n",
       "\n",
       "    .dataframe tbody tr th {\n",
       "        vertical-align: top;\n",
       "    }\n",
       "\n",
       "    .dataframe thead th {\n",
       "        text-align: right;\n",
       "    }\n",
       "</style>\n",
       "<table border=\"1\" class=\"dataframe\">\n",
       "  <thead>\n",
       "    <tr style=\"text-align: right;\">\n",
       "      <th></th>\n",
       "      <th>JCP2022</th>\n",
       "      <th>Metadata_TPSA</th>\n",
       "    </tr>\n",
       "  </thead>\n",
       "  <tbody>\n",
       "  </tbody>\n",
       "</table>\n",
       "</div>"
      ],
      "text/plain": [
       "Empty DataFrame\n",
       "Columns: [JCP2022, Metadata_TPSA]\n",
       "Index: []"
      ]
     },
     "execution_count": 169,
     "metadata": {},
     "output_type": "execute_result"
    },
    {
     "data": {
      "text/plain": [
       "0"
      ]
     },
     "execution_count": 169,
     "metadata": {},
     "output_type": "execute_result"
    },
    {
     "data": {
      "text/html": [
       "<div>\n",
       "<style scoped>\n",
       "    .dataframe tbody tr th:only-of-type {\n",
       "        vertical-align: middle;\n",
       "    }\n",
       "\n",
       "    .dataframe tbody tr th {\n",
       "        vertical-align: top;\n",
       "    }\n",
       "\n",
       "    .dataframe thead th {\n",
       "        text-align: right;\n",
       "    }\n",
       "</style>\n",
       "<table border=\"1\" class=\"dataframe\">\n",
       "  <thead>\n",
       "    <tr style=\"text-align: right;\">\n",
       "      <th></th>\n",
       "      <th>JCP2022</th>\n",
       "      <th>Metadata_TPSA</th>\n",
       "    </tr>\n",
       "  </thead>\n",
       "  <tbody>\n",
       "  </tbody>\n",
       "</table>\n",
       "</div>"
      ],
      "text/plain": [
       "Empty DataFrame\n",
       "Columns: [JCP2022, Metadata_TPSA]\n",
       "Index: []"
      ]
     },
     "execution_count": 169,
     "metadata": {},
     "output_type": "execute_result"
    }
   ],
   "source": [
    "df_temp = df_tpsa_clean[df_tpsa_clean.Metadata_TPSA == 0.0]\n",
    "len(df_temp)\n",
    "df_temp\n",
    "\n",
    "df_temp = df_tpsa_clean[df_tpsa_clean.Metadata_TPSA.isna()]\n",
    "len(df_temp)\n",
    "df_temp"
   ]
  },
  {
   "cell_type": "markdown",
   "id": "e1d41bc7-4df8-4f7f-9a2c-99e0173f80d9",
   "metadata": {
    "jp-MarkdownHeadingCollapsed": true
   },
   "source": [
    "### Write to `Metadata_TPSA_Clean` and `Compound_TPSA_clean`"
   ]
  },
  {
   "cell_type": "code",
   "execution_count": 170,
   "id": "9b66aeb5-2e7d-47ed-9656-3c10eb7df4c8",
   "metadata": {
    "ExecuteTime": {
     "end_time": "2023-06-28T19:27:11.685287Z",
     "start_time": "2023-06-28T19:27:11.645088Z"
    },
    "execution": {
     "iopub.execute_input": "2024-10-23T20:31:51.533649Z",
     "iopub.status.busy": "2024-10-23T20:31:51.533112Z",
     "iopub.status.idle": "2024-10-23T20:31:51.573963Z",
     "shell.execute_reply": "2024-10-23T20:31:51.573257Z",
     "shell.execute_reply.started": "2024-10-23T20:31:51.533606Z"
    },
    "hidden": true
   },
   "outputs": [
    {
     "name": "stdout",
     "output_type": "stream",
     "text": [
      " IN  - compound Metadata + TPSA File         : ./output_10162024/compound_metadata_tpsa.csv\n",
      " OUT - compound Metadata + TPSA Cleaned File : ./output_10162024/compound_metadata_tpsa_clean.csv\n",
      "\n",
      " IN  - compound TPSA File                    : ./output_10162024/compound_TPSA.csv\n",
      " OUT - compound TPSA Clean File              : ./output_10162024/compound_TPSA_clean.csv\n",
      "\n",
      "\n"
     ]
    }
   ],
   "source": [
    "print(f\" IN  - compound Metadata + TPSA File         : {ds.compoundMetadataTPSAFile}\")\n",
    "print(f\" OUT - compound Metadata + TPSA Cleaned File : {ds.compoundMetadataTPSACleanFile}\")\n",
    "print()\n",
    "\n",
    "print(f\" IN  - compound TPSA File                    : {ds.compoundTPSAFile}\")\n",
    "print(f\" OUT - compound TPSA Clean File              : {ds.compoundTPSACleanFile}\\n\")\n",
    "print()"
   ]
  },
  {
   "cell_type": "markdown",
   "id": "7f64289e-7476-408b-b681-9f6db89588d1",
   "metadata": {
    "heading_collapsed": true
   },
   "source": [
    "#### Write `df_metadata` to output file"
   ]
  },
  {
   "cell_type": "code",
   "execution_count": 171,
   "id": "a91d3ddf-5686-4d66-8e5b-de38d4783d84",
   "metadata": {
    "ExecuteTime": {
     "end_time": "2023-06-28T19:27:25.213141Z",
     "start_time": "2023-06-28T19:27:25.177451Z"
    },
    "execution": {
     "iopub.execute_input": "2024-10-23T20:31:52.767922Z",
     "iopub.status.busy": "2024-10-23T20:31:52.767465Z",
     "iopub.status.idle": "2024-10-23T20:31:53.567742Z",
     "shell.execute_reply": "2024-10-23T20:31:53.566556Z",
     "shell.execute_reply.started": "2024-10-23T20:31:52.767887Z"
    },
    "hidden": true
   },
   "outputs": [],
   "source": [
    "df_metadata_clean.to_csv(ds.compoundMetadataTPSACleanFile, index = False)"
   ]
  },
  {
   "cell_type": "markdown",
   "id": "84ccb353-4fe7-4d5b-a587-a47ba719322f",
   "metadata": {
    "heading_collapsed": true
   },
   "source": [
    "#### Write `df_tpsa` to output file"
   ]
  },
  {
   "cell_type": "code",
   "execution_count": 172,
   "id": "9aa39acd-cd9d-4c7d-b573-fedc6150b2b1",
   "metadata": {
    "ExecuteTime": {
     "end_time": "2023-06-28T19:29:00.895937Z",
     "start_time": "2023-06-28T19:29:00.711886Z"
    },
    "execution": {
     "iopub.execute_input": "2024-10-23T20:31:54.359397Z",
     "iopub.status.busy": "2024-10-23T20:31:54.358896Z",
     "iopub.status.idle": "2024-10-23T20:31:54.550489Z",
     "shell.execute_reply": "2024-10-23T20:31:54.549575Z",
     "shell.execute_reply.started": "2024-10-23T20:31:54.359355Z"
    },
    "hidden": true
   },
   "outputs": [],
   "source": [
    "df_tpsa_clean.to_csv(ds.compoundTPSACleanFile, index = False)"
   ]
  },
  {
   "cell_type": "code",
   "execution_count": 174,
   "id": "2bfa0081-3d0a-43b9-a855-0593b5b3ed4e",
   "metadata": {
    "execution": {
     "iopub.execute_input": "2024-10-23T20:32:08.663812Z",
     "iopub.status.busy": "2024-10-23T20:32:08.663265Z",
     "iopub.status.idle": "2024-10-23T20:32:08.701423Z",
     "shell.execute_reply": "2024-10-23T20:32:08.700785Z",
     "shell.execute_reply.started": "2024-10-23T20:32:08.663769Z"
    }
   },
   "outputs": [],
   "source": [
    "# df_metadata.info()"
   ]
  },
  {
   "cell_type": "markdown",
   "id": "17cd2d8f-d829-448b-a354-4bc63d2b8dea",
   "metadata": {
    "jp-MarkdownHeadingCollapsed": true
   },
   "source": [
    "# Add `Metadata_lnTPSA`, `Metadata_log10TPSA` columns"
   ]
  },
  {
   "cell_type": "code",
   "execution_count": 175,
   "id": "47e66db7-6e4f-4075-b3ed-be63202035fc",
   "metadata": {
    "ExecuteTime": {
     "end_time": "2023-06-28T19:37:50.587623Z",
     "start_time": "2023-06-28T19:37:50.503671Z"
    },
    "execution": {
     "iopub.execute_input": "2024-10-23T20:32:11.032106Z",
     "iopub.status.busy": "2024-10-23T20:32:11.031560Z",
     "iopub.status.idle": "2024-10-23T20:32:11.101094Z",
     "shell.execute_reply": "2024-10-23T20:32:11.100234Z",
     "shell.execute_reply.started": "2024-10-23T20:32:11.032064Z"
    }
   },
   "outputs": [
    {
     "name": "stdout",
     "output_type": "stream",
     "text": [
      "<class 'pandas.core.frame.DataFrame'>\n",
      "Index: 116691 entries, 0 to 116750\n",
      "Data columns (total 5 columns):\n",
      " #   Column             Non-Null Count   Dtype  \n",
      "---  ------             --------------   -----  \n",
      " 0   Metadata_JCP2022   116691 non-null  object \n",
      " 1   Metadata_InChIKey  116691 non-null  object \n",
      " 2   Metadata_InChI     116691 non-null  object \n",
      " 3   Metadata_Smiles    116691 non-null  object \n",
      " 4   Metadata_TPSA      116691 non-null  float64\n",
      "dtypes: float64(1), object(4)\n",
      "memory usage: 5.3+ MB\n",
      "<class 'pandas.core.frame.DataFrame'>\n",
      "Index: 116691 entries, 0 to 116750\n",
      "Data columns (total 2 columns):\n",
      " #   Column         Non-Null Count   Dtype  \n",
      "---  ------         --------------   -----  \n",
      " 0   JCP2022        116691 non-null  object \n",
      " 1   Metadata_TPSA  116691 non-null  float64\n",
      "dtypes: float64(1), object(1)\n",
      "memory usage: 2.7+ MB\n"
     ]
    }
   ],
   "source": [
    "# print(f\"--> compound Metadata + TPSA Cleaned File    : {compoundMetadataTPSACleanFile}\\n\")\n",
    "# df_metadata = pd.read_csv(compoundMetadataTPSACleanFile)\n",
    "# df_metadata.info()\n",
    "# df_metadata.head(3)\n",
    "# df_metadata.tail(3)\n",
    "\n",
    "# df_metadata.iloc[:5].TPSA\n",
    "# df_metadata.iloc[-5:].TPSA\n",
    "# np.log(df_metadata.iloc[:5].TPSA)\n",
    "# np.log10(df_metadata.iloc[:5].TPSA)\n",
    "# np.log(df_metadata.iloc[-5:].TPSA)\n",
    "# np.log10(df_metadata.iloc[-5:].TPSA)\n",
    "# # all_y = df_labels['TPSA'].to_numpy()\n",
    "# # print(type(all_y), all_y.shape, all_y.dtype)\n",
    "# # print(all_y[:10])\n",
    "# # all_log_y = np.log(all_y)\n",
    "# # print(all_y[:20])\n",
    "# # print(all_log_y[:20])\n",
    "df_metadata_clean.info()\n",
    "df_tpsa_clean.info()"
   ]
  },
  {
   "cell_type": "code",
   "execution_count": 176,
   "id": "e2b2a3e4-386e-485a-8d04-77ee389c0f8e",
   "metadata": {
    "ExecuteTime": {
     "end_time": "2023-06-28T19:37:34.838947Z",
     "start_time": "2023-06-28T19:37:34.741063Z"
    },
    "execution": {
     "iopub.execute_input": "2024-10-23T20:32:18.015830Z",
     "iopub.status.busy": "2024-10-23T20:32:18.015315Z",
     "iopub.status.idle": "2024-10-23T20:32:18.092073Z",
     "shell.execute_reply": "2024-10-23T20:32:18.091501Z",
     "shell.execute_reply.started": "2024-10-23T20:32:18.015790Z"
    }
   },
   "outputs": [
    {
     "name": "stdout",
     "output_type": "stream",
     "text": [
      "<class 'pandas.core.frame.DataFrame'>\n",
      "Index: 116691 entries, 0 to 116750\n",
      "Data columns (total 7 columns):\n",
      " #   Column              Non-Null Count   Dtype  \n",
      "---  ------              --------------   -----  \n",
      " 0   Metadata_JCP2022    116691 non-null  object \n",
      " 1   Metadata_InChIKey   116691 non-null  object \n",
      " 2   Metadata_InChI      116691 non-null  object \n",
      " 3   Metadata_Smiles     116691 non-null  object \n",
      " 4   Metadata_TPSA       116691 non-null  float64\n",
      " 5   Metadata_lnTPSA     116691 non-null  float64\n",
      " 6   Metadata_log10TPSA  116691 non-null  float64\n",
      "dtypes: float64(3), object(4)\n",
      "memory usage: 7.1+ MB\n"
     ]
    },
    {
     "data": {
      "text/html": [
       "<div>\n",
       "<style scoped>\n",
       "    .dataframe tbody tr th:only-of-type {\n",
       "        vertical-align: middle;\n",
       "    }\n",
       "\n",
       "    .dataframe tbody tr th {\n",
       "        vertical-align: top;\n",
       "    }\n",
       "\n",
       "    .dataframe thead th {\n",
       "        text-align: right;\n",
       "    }\n",
       "</style>\n",
       "<table border=\"1\" class=\"dataframe\">\n",
       "  <thead>\n",
       "    <tr style=\"text-align: right;\">\n",
       "      <th></th>\n",
       "      <th>Metadata_JCP2022</th>\n",
       "      <th>Metadata_InChIKey</th>\n",
       "      <th>Metadata_InChI</th>\n",
       "      <th>Metadata_Smiles</th>\n",
       "      <th>Metadata_TPSA</th>\n",
       "      <th>Metadata_lnTPSA</th>\n",
       "      <th>Metadata_log10TPSA</th>\n",
       "    </tr>\n",
       "  </thead>\n",
       "  <tbody>\n",
       "    <tr>\n",
       "      <th>0</th>\n",
       "      <td>JCP2022_000001</td>\n",
       "      <td>AAAHWCWPZPSPIW-UHFFFAOYSA-N</td>\n",
       "      <td>InChI=1S/C25H31N5O2/c1-4-23-26-14-16-30(23)24-...</td>\n",
       "      <td>CCC1=NC=CN1c2cccc(n2)C3CCCN3C(=O)c4ccc(cc4)OCC...</td>\n",
       "      <td>63.49</td>\n",
       "      <td>4.150882</td>\n",
       "      <td>1.802705</td>\n",
       "    </tr>\n",
       "    <tr>\n",
       "      <th>1</th>\n",
       "      <td>JCP2022_000002</td>\n",
       "      <td>AAAJHRMBUHXWLD-UHFFFAOYSA-N</td>\n",
       "      <td>InChI=1S/C11H13ClN2O/c12-10-4-2-9(3-5-10)8-14-...</td>\n",
       "      <td>OC1=NCCCN1Cc2ccc(Cl)cc2</td>\n",
       "      <td>35.83</td>\n",
       "      <td>3.578786</td>\n",
       "      <td>1.554247</td>\n",
       "    </tr>\n",
       "  </tbody>\n",
       "</table>\n",
       "</div>"
      ],
      "text/plain": [
       "  Metadata_JCP2022            Metadata_InChIKey                                     Metadata_InChI                                    Metadata_Smiles  Metadata_TPSA  \\\n",
       "0   JCP2022_000001  AAAHWCWPZPSPIW-UHFFFAOYSA-N  InChI=1S/C25H31N5O2/c1-4-23-26-14-16-30(23)24-...  CCC1=NC=CN1c2cccc(n2)C3CCCN3C(=O)c4ccc(cc4)OCC...          63.49   \n",
       "1   JCP2022_000002  AAAJHRMBUHXWLD-UHFFFAOYSA-N  InChI=1S/C11H13ClN2O/c12-10-4-2-9(3-5-10)8-14-...                            OC1=NCCCN1Cc2ccc(Cl)cc2          35.83   \n",
       "\n",
       "   Metadata_lnTPSA  Metadata_log10TPSA  \n",
       "0         4.150882            1.802705  \n",
       "1         3.578786            1.554247  "
      ]
     },
     "execution_count": 176,
     "metadata": {},
     "output_type": "execute_result"
    },
    {
     "data": {
      "text/html": [
       "<div>\n",
       "<style scoped>\n",
       "    .dataframe tbody tr th:only-of-type {\n",
       "        vertical-align: middle;\n",
       "    }\n",
       "\n",
       "    .dataframe tbody tr th {\n",
       "        vertical-align: top;\n",
       "    }\n",
       "\n",
       "    .dataframe thead th {\n",
       "        text-align: right;\n",
       "    }\n",
       "</style>\n",
       "<table border=\"1\" class=\"dataframe\">\n",
       "  <thead>\n",
       "    <tr style=\"text-align: right;\">\n",
       "      <th></th>\n",
       "      <th>Metadata_JCP2022</th>\n",
       "      <th>Metadata_InChIKey</th>\n",
       "      <th>Metadata_InChI</th>\n",
       "      <th>Metadata_Smiles</th>\n",
       "      <th>Metadata_TPSA</th>\n",
       "      <th>Metadata_lnTPSA</th>\n",
       "      <th>Metadata_log10TPSA</th>\n",
       "    </tr>\n",
       "  </thead>\n",
       "  <tbody>\n",
       "    <tr>\n",
       "      <th>116749</th>\n",
       "      <td>JCP2022_116752</td>\n",
       "      <td>ZZZZIBSVRUABIA-UHFFFAOYSA-N</td>\n",
       "      <td>InChI=1S/C19H13F6N3O2S/c1-11-26-6-5-17(27-11)1...</td>\n",
       "      <td>Cc1nccc(n1)c2cccc(c2)NS(=O)(=O)c3cc(cc(c3)C(F)...</td>\n",
       "      <td>71.95</td>\n",
       "      <td>4.275971</td>\n",
       "      <td>1.857031</td>\n",
       "    </tr>\n",
       "    <tr>\n",
       "      <th>116750</th>\n",
       "      <td>JCP2022_116753</td>\n",
       "      <td>ZZZZVNLQWWXZTQ-UHFFFAOYSA-N</td>\n",
       "      <td>InChI=1S/C14H20N2O3/c1-18-13-5-3-2-4-12(13)14(...</td>\n",
       "      <td>COc1ccccc1C(O)=NCCN2CCOCC2</td>\n",
       "      <td>54.29</td>\n",
       "      <td>3.994340</td>\n",
       "      <td>1.734720</td>\n",
       "    </tr>\n",
       "  </tbody>\n",
       "</table>\n",
       "</div>"
      ],
      "text/plain": [
       "       Metadata_JCP2022            Metadata_InChIKey                                     Metadata_InChI                                    Metadata_Smiles  Metadata_TPSA  \\\n",
       "116749   JCP2022_116752  ZZZZIBSVRUABIA-UHFFFAOYSA-N  InChI=1S/C19H13F6N3O2S/c1-11-26-6-5-17(27-11)1...  Cc1nccc(n1)c2cccc(c2)NS(=O)(=O)c3cc(cc(c3)C(F)...          71.95   \n",
       "116750   JCP2022_116753  ZZZZVNLQWWXZTQ-UHFFFAOYSA-N  InChI=1S/C14H20N2O3/c1-18-13-5-3-2-4-12(13)14(...                         COc1ccccc1C(O)=NCCN2CCOCC2          54.29   \n",
       "\n",
       "        Metadata_lnTPSA  Metadata_log10TPSA  \n",
       "116749         4.275971            1.857031  \n",
       "116750         3.994340            1.734720  "
      ]
     },
     "execution_count": 176,
     "metadata": {},
     "output_type": "execute_result"
    }
   ],
   "source": [
    "df_metadata_clean['Metadata_lnTPSA']    =   np.log(df_metadata_clean['Metadata_TPSA'])\n",
    "df_metadata_clean['Metadata_log10TPSA'] = np.log10(df_metadata_clean['Metadata_TPSA'])\n",
    "\n",
    "df_metadata_clean.info()\n",
    "df_metadata_clean.head(2)\n",
    "df_metadata_clean.tail(2)"
   ]
  },
  {
   "cell_type": "code",
   "execution_count": 178,
   "id": "bf55541d-08e5-481c-b9cd-de4e4c21fe50",
   "metadata": {
    "ExecuteTime": {
     "end_time": "2023-06-28T19:37:43.512826Z",
     "start_time": "2023-06-28T19:37:43.423428Z"
    },
    "execution": {
     "iopub.execute_input": "2024-10-23T20:32:53.080234Z",
     "iopub.status.busy": "2024-10-23T20:32:53.079685Z",
     "iopub.status.idle": "2024-10-23T20:32:53.125592Z",
     "shell.execute_reply": "2024-10-23T20:32:53.124882Z",
     "shell.execute_reply.started": "2024-10-23T20:32:53.080191Z"
    }
   },
   "outputs": [
    {
     "data": {
      "text/plain": [
       "(32.88598800301951, 73.6213195533503)"
      ]
     },
     "execution_count": 178,
     "metadata": {},
     "output_type": "execute_result"
    },
    {
     "data": {
      "text/plain": [
       "(0.3917724349244317, 4.2261117808840245)"
      ]
     },
     "execution_count": 178,
     "metadata": {},
     "output_type": "execute_result"
    },
    {
     "data": {
      "text/plain": [
       "(0.17014460664948153, 1.835377026344256)"
      ]
     },
     "execution_count": 178,
     "metadata": {},
     "output_type": "execute_result"
    }
   ],
   "source": [
    "df_metadata_clean.Metadata_TPSA.std()        ,df_metadata_clean.Metadata_TPSA.mean()\n",
    "df_metadata_clean['Metadata_lnTPSA'].std()   ,df_metadata_clean['Metadata_lnTPSA'].mean()\n",
    "df_metadata_clean['Metadata_log10TPSA'].std(),df_metadata_clean['Metadata_log10TPSA'].mean()"
   ]
  },
  {
   "cell_type": "markdown",
   "id": "55079cd5-61c2-4c38-baee-4d9d6faf5634",
   "metadata": {},
   "source": [
    "## Add ln, logbase10 to `df_tpsa.csv`"
   ]
  },
  {
   "cell_type": "code",
   "execution_count": 181,
   "id": "5cdaf292-b8bd-4721-9229-0b8bb79ea2ec",
   "metadata": {
    "ExecuteTime": {
     "end_time": "2023-06-28T19:37:50.015129Z",
     "start_time": "2023-06-28T19:37:49.870907Z"
    },
    "execution": {
     "iopub.execute_input": "2024-10-23T20:34:09.285626Z",
     "iopub.status.busy": "2024-10-23T20:34:09.285070Z",
     "iopub.status.idle": "2024-10-23T20:34:09.339418Z",
     "shell.execute_reply": "2024-10-23T20:34:09.338711Z",
     "shell.execute_reply.started": "2024-10-23T20:34:09.285583Z"
    }
   },
   "outputs": [
    {
     "name": "stdout",
     "output_type": "stream",
     "text": [
      "<class 'pandas.core.frame.DataFrame'>\n",
      "RangeIndex: 116751 entries, 0 to 116750\n",
      "Data columns (total 2 columns):\n",
      " #   Column         Non-Null Count   Dtype  \n",
      "---  ------         --------------   -----  \n",
      " 0   JCP2022        116751 non-null  object \n",
      " 1   Metadata_TPSA  116751 non-null  float64\n",
      "dtypes: float64(1), object(1)\n",
      "memory usage: 1.8+ MB\n",
      "<class 'pandas.core.frame.DataFrame'>\n",
      "Index: 116691 entries, 0 to 116750\n",
      "Data columns (total 2 columns):\n",
      " #   Column         Non-Null Count   Dtype  \n",
      "---  ------         --------------   -----  \n",
      " 0   JCP2022        116691 non-null  object \n",
      " 1   Metadata_TPSA  116691 non-null  float64\n",
      "dtypes: float64(1), object(1)\n",
      "memory usage: 2.7+ MB\n"
     ]
    }
   ],
   "source": [
    "# print(f\"--> compound TPSA Clean File                 : {compoundTPSACleanFile}\\n\")\n",
    "# df_tpsa = pd.read_csv(compoundTPSACleanFile)\n",
    "df_tpsa.info()\n",
    "df_tpsa_clean.info()\n",
    "# df_tpsa.head(2)\n",
    "# df_tpsa.tail(2)"
   ]
  },
  {
   "cell_type": "code",
   "execution_count": 182,
   "id": "48861540",
   "metadata": {
    "ExecuteTime": {
     "end_time": "2023-06-28T19:37:34.108730Z",
     "start_time": "2023-06-28T19:37:34.072553Z"
    },
    "execution": {
     "iopub.execute_input": "2024-10-23T20:34:20.287757Z",
     "iopub.status.busy": "2024-10-23T20:34:20.287362Z",
     "iopub.status.idle": "2024-10-23T20:34:20.333272Z",
     "shell.execute_reply": "2024-10-23T20:34:20.332613Z",
     "shell.execute_reply.started": "2024-10-23T20:34:20.287724Z"
    }
   },
   "outputs": [],
   "source": [
    "df_tpsa_clean['Metadata_lnTPSA'] = np.log(df_tpsa_clean['Metadata_TPSA'])\n",
    "df_tpsa_clean['Metadata_log10TPSA'] = np.log10(df_tpsa_clean['Metadata_TPSA'])"
   ]
  },
  {
   "cell_type": "code",
   "execution_count": 183,
   "id": "fad38512",
   "metadata": {
    "ExecuteTime": {
     "end_time": "2023-06-28T19:37:34.838947Z",
     "start_time": "2023-06-28T19:37:34.741063Z"
    },
    "execution": {
     "iopub.execute_input": "2024-10-23T20:34:22.425937Z",
     "iopub.status.busy": "2024-10-23T20:34:22.425554Z",
     "iopub.status.idle": "2024-10-23T20:34:22.511547Z",
     "shell.execute_reply": "2024-10-23T20:34:22.510478Z",
     "shell.execute_reply.started": "2024-10-23T20:34:22.425904Z"
    }
   },
   "outputs": [
    {
     "name": "stdout",
     "output_type": "stream",
     "text": [
      "<class 'pandas.core.frame.DataFrame'>\n",
      "RangeIndex: 116751 entries, 0 to 116750\n",
      "Data columns (total 2 columns):\n",
      " #   Column         Non-Null Count   Dtype  \n",
      "---  ------         --------------   -----  \n",
      " 0   JCP2022        116751 non-null  object \n",
      " 1   Metadata_TPSA  116751 non-null  float64\n",
      "dtypes: float64(1), object(1)\n",
      "memory usage: 1.8+ MB\n"
     ]
    },
    {
     "data": {
      "text/html": [
       "<div>\n",
       "<style scoped>\n",
       "    .dataframe tbody tr th:only-of-type {\n",
       "        vertical-align: middle;\n",
       "    }\n",
       "\n",
       "    .dataframe tbody tr th {\n",
       "        vertical-align: top;\n",
       "    }\n",
       "\n",
       "    .dataframe thead th {\n",
       "        text-align: right;\n",
       "    }\n",
       "</style>\n",
       "<table border=\"1\" class=\"dataframe\">\n",
       "  <thead>\n",
       "    <tr style=\"text-align: right;\">\n",
       "      <th></th>\n",
       "      <th>JCP2022</th>\n",
       "      <th>Metadata_TPSA</th>\n",
       "    </tr>\n",
       "  </thead>\n",
       "  <tbody>\n",
       "    <tr>\n",
       "      <th>0</th>\n",
       "      <td>JCP2022_000001</td>\n",
       "      <td>63.49</td>\n",
       "    </tr>\n",
       "    <tr>\n",
       "      <th>1</th>\n",
       "      <td>JCP2022_000002</td>\n",
       "      <td>35.83</td>\n",
       "    </tr>\n",
       "  </tbody>\n",
       "</table>\n",
       "</div>"
      ],
      "text/plain": [
       "          JCP2022  Metadata_TPSA\n",
       "0  JCP2022_000001          63.49\n",
       "1  JCP2022_000002          35.83"
      ]
     },
     "execution_count": 183,
     "metadata": {},
     "output_type": "execute_result"
    },
    {
     "data": {
      "text/html": [
       "<div>\n",
       "<style scoped>\n",
       "    .dataframe tbody tr th:only-of-type {\n",
       "        vertical-align: middle;\n",
       "    }\n",
       "\n",
       "    .dataframe tbody tr th {\n",
       "        vertical-align: top;\n",
       "    }\n",
       "\n",
       "    .dataframe thead th {\n",
       "        text-align: right;\n",
       "    }\n",
       "</style>\n",
       "<table border=\"1\" class=\"dataframe\">\n",
       "  <thead>\n",
       "    <tr style=\"text-align: right;\">\n",
       "      <th></th>\n",
       "      <th>JCP2022</th>\n",
       "      <th>Metadata_TPSA</th>\n",
       "    </tr>\n",
       "  </thead>\n",
       "  <tbody>\n",
       "    <tr>\n",
       "      <th>116749</th>\n",
       "      <td>JCP2022_116752</td>\n",
       "      <td>71.95</td>\n",
       "    </tr>\n",
       "    <tr>\n",
       "      <th>116750</th>\n",
       "      <td>JCP2022_116753</td>\n",
       "      <td>54.29</td>\n",
       "    </tr>\n",
       "  </tbody>\n",
       "</table>\n",
       "</div>"
      ],
      "text/plain": [
       "               JCP2022  Metadata_TPSA\n",
       "116749  JCP2022_116752          71.95\n",
       "116750  JCP2022_116753          54.29"
      ]
     },
     "execution_count": 183,
     "metadata": {},
     "output_type": "execute_result"
    }
   ],
   "source": [
    "df_tpsa.info()\n",
    "df_tpsa.head(2)\n",
    "df_tpsa.tail(2)"
   ]
  },
  {
   "cell_type": "code",
   "execution_count": 185,
   "id": "0dca5d43",
   "metadata": {
    "ExecuteTime": {
     "end_time": "2023-06-28T19:37:43.512826Z",
     "start_time": "2023-06-28T19:37:43.423428Z"
    },
    "execution": {
     "iopub.execute_input": "2024-10-23T20:35:12.971822Z",
     "iopub.status.busy": "2024-10-23T20:35:12.971353Z",
     "iopub.status.idle": "2024-10-23T20:35:13.018086Z",
     "shell.execute_reply": "2024-10-23T20:35:13.017367Z",
     "shell.execute_reply.started": "2024-10-23T20:35:12.971781Z"
    }
   },
   "outputs": [
    {
     "data": {
      "text/plain": [
       "(32.88598800301951, 73.6213195533503)"
      ]
     },
     "execution_count": 185,
     "metadata": {},
     "output_type": "execute_result"
    },
    {
     "data": {
      "text/plain": [
       "(0.3917724349244317, 4.2261117808840245)"
      ]
     },
     "execution_count": 185,
     "metadata": {},
     "output_type": "execute_result"
    },
    {
     "data": {
      "text/plain": [
       "(0.17014460664948153, 1.835377026344256)"
      ]
     },
     "execution_count": 185,
     "metadata": {},
     "output_type": "execute_result"
    }
   ],
   "source": [
    "df_tpsa_clean['Metadata_TPSA'].std()     ,df_tpsa_clean['Metadata_TPSA'].mean()\n",
    "df_tpsa_clean['Metadata_lnTPSA'].std()   ,df_tpsa_clean['Metadata_lnTPSA'].mean()\n",
    "df_tpsa_clean['Metadata_log10TPSA'].std(),df_tpsa_clean['Metadata_log10TPSA'].mean()"
   ]
  },
  {
   "cell_type": "markdown",
   "id": "1d7f4c52-90d2-4256-b325-f4e261077fe8",
   "metadata": {
    "heading_collapsed": true
   },
   "source": [
    "### Write `df_metadata_CLEAN` and `df_TPSA_clean` to output file"
   ]
  },
  {
   "cell_type": "code",
   "execution_count": null,
   "id": "540f48a2-ad36-497d-958a-ae9658f1b973",
   "metadata": {
    "ExecuteTime": {
     "end_time": "2023-06-28T19:27:11.685287Z",
     "start_time": "2023-06-28T19:27:11.645088Z"
    },
    "execution": {
     "iopub.execute_input": "2024-04-26T17:26:15.112474Z",
     "iopub.status.busy": "2024-04-26T17:26:15.111978Z",
     "iopub.status.idle": "2024-04-26T17:26:15.368850Z",
     "shell.execute_reply": "2024-04-26T17:26:15.367858Z",
     "shell.execute_reply.started": "2024-04-26T17:26:15.112430Z"
    },
    "hidden": true
   },
   "outputs": [],
   "source": [
    "# print(f\" IN  - compound Metadata + TPSA File         : {compoundMetadataTPSAFile}\")\n",
    "# print(f\" OUT - compound Metadata + TPSA Cleaned File : {compoundMetadataTPSACleanFile}\")\n",
    "# print()"
   ]
  },
  {
   "cell_type": "code",
   "execution_count": 69,
   "id": "56e2ff27-1d10-4c53-913b-5c95722be4a2",
   "metadata": {
    "ExecuteTime": {
     "end_time": "2023-06-28T19:27:25.213141Z",
     "start_time": "2023-06-28T19:27:25.177451Z"
    },
    "execution": {
     "iopub.execute_input": "2023-11-10T21:25:52.311696Z",
     "iopub.status.busy": "2023-11-10T21:25:52.311422Z",
     "iopub.status.idle": "2023-11-10T21:25:52.885880Z",
     "shell.execute_reply": "2023-11-10T21:25:52.885193Z",
     "shell.execute_reply.started": "2023-11-10T21:25:52.311679Z"
    },
    "hidden": true
   },
   "outputs": [],
   "source": [
    "# df_metadata_clean.to_csv(compoundMetadataTPSACleanFile, index = False)"
   ]
  },
  {
   "cell_type": "markdown",
   "id": "79e22f69-2802-4da5-9cf3-018b5433494b",
   "metadata": {
    "heading_collapsed": true
   },
   "source": [
    " ##### Write `df_tpsa` to output file"
   ]
  },
  {
   "cell_type": "code",
   "execution_count": 3,
   "id": "8ff055b2-3e84-4d5c-ac1e-c6563e1fbe43",
   "metadata": {
    "execution": {
     "iopub.execute_input": "2024-04-26T17:27:16.956362Z",
     "iopub.status.busy": "2024-04-26T17:27:16.955955Z",
     "iopub.status.idle": "2024-04-26T17:27:16.961167Z",
     "shell.execute_reply": "2024-04-26T17:27:16.959915Z",
     "shell.execute_reply.started": "2024-04-26T17:27:16.956325Z"
    }
   },
   "outputs": [],
   "source": [
    "# print(f\" IN  - compound TPSA File                    : {compoundTPSAFile}\")\n",
    "# print(f\" OUT - compound TPSA Clean File              : {compoundTPSACleanFile}\\n\")\n",
    "# print()"
   ]
  },
  {
   "cell_type": "code",
   "execution_count": 71,
   "id": "67c772d7-1f7c-4d9d-8760-a67c08599e80",
   "metadata": {
    "ExecuteTime": {
     "end_time": "2023-06-28T19:29:00.895937Z",
     "start_time": "2023-06-28T19:29:00.711886Z"
    },
    "execution": {
     "iopub.execute_input": "2023-11-10T21:25:58.721313Z",
     "iopub.status.busy": "2023-11-10T21:25:58.720763Z",
     "iopub.status.idle": "2023-11-10T21:25:58.844978Z",
     "shell.execute_reply": "2023-11-10T21:25:58.844193Z",
     "shell.execute_reply.started": "2023-11-10T21:25:58.721295Z"
    },
    "hidden": true
   },
   "outputs": [],
   "source": [
    "# df_tpsa.to_csv(compoundTPSACleanFile, index = False, columns=['JCP2022', 'TPSA'])"
   ]
  },
  {
   "cell_type": "markdown",
   "id": "5444a1e1-6b2c-439f-a337-bc127732cb22",
   "metadata": {},
   "source": [
    "# Add `Metadata_Permiation` column "
   ]
  },
  {
   "cell_type": "code",
   "execution_count": 187,
   "id": "41adb9db-8985-4d96-8616-5b7eea922991",
   "metadata": {
    "execution": {
     "iopub.execute_input": "2024-10-23T20:37:12.829584Z",
     "iopub.status.busy": "2024-10-23T20:37:12.829104Z",
     "iopub.status.idle": "2024-10-23T20:37:12.869346Z",
     "shell.execute_reply": "2024-10-23T20:37:12.868684Z",
     "shell.execute_reply.started": "2024-10-23T20:37:12.829542Z"
    }
   },
   "outputs": [],
   "source": [
    "TPSA_THRESHOLD = 100"
   ]
  },
  {
   "cell_type": "code",
   "execution_count": 188,
   "id": "3eab0590-6a6b-4977-984c-fa865b19d9c8",
   "metadata": {
    "ExecuteTime": {
     "end_time": "2023-06-28T19:27:11.685287Z",
     "start_time": "2023-06-28T19:27:11.645088Z"
    },
    "execution": {
     "iopub.execute_input": "2024-10-23T20:37:30.128745Z",
     "iopub.status.busy": "2024-10-23T20:37:30.128274Z",
     "iopub.status.idle": "2024-10-23T20:37:30.169676Z",
     "shell.execute_reply": "2024-10-23T20:37:30.169095Z",
     "shell.execute_reply.started": "2024-10-23T20:37:30.128703Z"
    },
    "hidden": true
   },
   "outputs": [
    {
     "name": "stdout",
     "output_type": "stream",
     "text": [
      " IN  - compound Metadata + TPSA File         : ./output_10162024/compound_metadata_tpsa.csv\n",
      " OUT - compound Metadata + TPSA Cleaned File : ./output_10162024/compound_metadata_tpsa_clean.csv\n"
     ]
    }
   ],
   "source": [
    "print(f\" IN  - compound Metadata + TPSA File         : {ds.compoundMetadataTPSAFile}\")\n",
    "print(f\" OUT - compound Metadata + TPSA Cleaned File : {ds.compoundMetadataTPSACleanFile}\")"
   ]
  },
  {
   "cell_type": "code",
   "execution_count": 228,
   "id": "471e5e76-33f3-432e-9a8f-2bb2efc98d99",
   "metadata": {
    "execution": {
     "iopub.execute_input": "2024-10-23T21:04:10.080492Z",
     "iopub.status.busy": "2024-10-23T21:04:10.079914Z",
     "iopub.status.idle": "2024-10-23T21:04:10.137885Z",
     "shell.execute_reply": "2024-10-23T21:04:10.137288Z",
     "shell.execute_reply.started": "2024-10-23T21:04:10.080449Z"
    }
   },
   "outputs": [
    {
     "data": {
      "text/plain": [
       "Metadata_Permiation\n",
       "0    116691\n",
       "Name: count, dtype: int64"
      ]
     },
     "execution_count": 228,
     "metadata": {},
     "output_type": "execute_result"
    },
    {
     "name": "stderr",
     "output_type": "stream",
     "text": [
      "/tmp/ipykernel_1817172/3843917023.py:4: UserWarning: Boolean Series key will be reindexed to match DataFrame index.\n",
      "  df_tpsa_set = df_metadata_clean[df_metadata.Metadata_TPSA >= 100.0]\n"
     ]
    },
    {
     "data": {
      "text/plain": [
       "14274"
      ]
     },
     "execution_count": 228,
     "metadata": {},
     "output_type": "execute_result"
    },
    {
     "data": {
      "text/plain": [
       "14274"
      ]
     },
     "execution_count": 228,
     "metadata": {},
     "output_type": "execute_result"
    },
    {
     "data": {
      "text/plain": [
       "Metadata_Permiation\n",
       "0    102417\n",
       "1     14274\n",
       "Name: count, dtype: int64"
      ]
     },
     "execution_count": 228,
     "metadata": {},
     "output_type": "execute_result"
    }
   ],
   "source": [
    "df_metadata_clean['Metadata_Permiation'] = 0\n",
    "df_metadata_clean['Metadata_Permiation'].value_counts()\n",
    "\n",
    "df_tpsa_set = df_metadata_clean[df_metadata.Metadata_TPSA >= 100.0]\n",
    "len(df_tpsa_set)\n",
    "\n",
    "tpsa_set_indices = df_tpsa_set.index.values\n",
    "len(tpsa_set_indices)\n",
    "\n",
    "df_metadata_clean.loc[tpsa_set_indices, 'Metadata_Permiation'] = 1\n",
    "\n",
    "df_metadata_clean['Metadata_Permiation'].value_counts()"
   ]
  },
  {
   "cell_type": "code",
   "execution_count": 229,
   "id": "d2b53e98-8520-42f9-b33f-bfc835154a47",
   "metadata": {
    "ExecuteTime": {
     "end_time": "2023-06-28T19:37:50.587623Z",
     "start_time": "2023-06-28T19:37:50.503671Z"
    },
    "execution": {
     "iopub.execute_input": "2024-10-23T21:04:17.156160Z",
     "iopub.status.busy": "2024-10-23T21:04:17.155686Z",
     "iopub.status.idle": "2024-10-23T21:04:17.237278Z",
     "shell.execute_reply": "2024-10-23T21:04:17.236719Z",
     "shell.execute_reply.started": "2024-10-23T21:04:17.156115Z"
    }
   },
   "outputs": [
    {
     "name": "stdout",
     "output_type": "stream",
     "text": [
      "<class 'pandas.core.frame.DataFrame'>\n",
      "Index: 116691 entries, 0 to 116750\n",
      "Data columns (total 8 columns):\n",
      " #   Column               Non-Null Count   Dtype  \n",
      "---  ------               --------------   -----  \n",
      " 0   Metadata_JCP2022     116691 non-null  object \n",
      " 1   Metadata_InChIKey    116691 non-null  object \n",
      " 2   Metadata_InChI       116691 non-null  object \n",
      " 3   Metadata_Smiles      116691 non-null  object \n",
      " 4   Metadata_TPSA        116691 non-null  float64\n",
      " 5   Metadata_lnTPSA      116691 non-null  float64\n",
      " 6   Metadata_log10TPSA   116691 non-null  float64\n",
      " 7   Metadata_Permiation  116691 non-null  int64  \n",
      "dtypes: float64(3), int64(1), object(4)\n",
      "memory usage: 12.0+ MB\n"
     ]
    },
    {
     "data": {
      "text/html": [
       "<div>\n",
       "<style scoped>\n",
       "    .dataframe tbody tr th:only-of-type {\n",
       "        vertical-align: middle;\n",
       "    }\n",
       "\n",
       "    .dataframe tbody tr th {\n",
       "        vertical-align: top;\n",
       "    }\n",
       "\n",
       "    .dataframe thead th {\n",
       "        text-align: right;\n",
       "    }\n",
       "</style>\n",
       "<table border=\"1\" class=\"dataframe\">\n",
       "  <thead>\n",
       "    <tr style=\"text-align: right;\">\n",
       "      <th></th>\n",
       "      <th>Metadata_JCP2022</th>\n",
       "      <th>Metadata_InChIKey</th>\n",
       "      <th>Metadata_InChI</th>\n",
       "      <th>Metadata_Smiles</th>\n",
       "      <th>Metadata_TPSA</th>\n",
       "      <th>Metadata_lnTPSA</th>\n",
       "      <th>Metadata_log10TPSA</th>\n",
       "      <th>Metadata_Permiation</th>\n",
       "    </tr>\n",
       "  </thead>\n",
       "  <tbody>\n",
       "    <tr>\n",
       "      <th>0</th>\n",
       "      <td>JCP2022_000001</td>\n",
       "      <td>AAAHWCWPZPSPIW-UHFFFAOYSA-N</td>\n",
       "      <td>InChI=1S/C25H31N5O2/c1-4-23-26-14-16-30(23)24-...</td>\n",
       "      <td>CCC1=NC=CN1c2cccc(n2)C3CCCN3C(=O)c4ccc(cc4)OCC...</td>\n",
       "      <td>63.49</td>\n",
       "      <td>4.150882</td>\n",
       "      <td>1.802705</td>\n",
       "      <td>0</td>\n",
       "    </tr>\n",
       "    <tr>\n",
       "      <th>1</th>\n",
       "      <td>JCP2022_000002</td>\n",
       "      <td>AAAJHRMBUHXWLD-UHFFFAOYSA-N</td>\n",
       "      <td>InChI=1S/C11H13ClN2O/c12-10-4-2-9(3-5-10)8-14-...</td>\n",
       "      <td>OC1=NCCCN1Cc2ccc(Cl)cc2</td>\n",
       "      <td>35.83</td>\n",
       "      <td>3.578786</td>\n",
       "      <td>1.554247</td>\n",
       "      <td>0</td>\n",
       "    </tr>\n",
       "    <tr>\n",
       "      <th>2</th>\n",
       "      <td>JCP2022_000003</td>\n",
       "      <td>AAALVYBICLMAMA-UHFFFAOYSA-N</td>\n",
       "      <td>InChI=1S/C20H15N3O2/c24-19-15-11-17(21-13-7-3-...</td>\n",
       "      <td>OC2=NC(=O)c3cc(Nc1ccccc1)c(cc23)Nc4ccccc4</td>\n",
       "      <td>73.72</td>\n",
       "      <td>4.300274</td>\n",
       "      <td>1.867585</td>\n",
       "      <td>0</td>\n",
       "    </tr>\n",
       "    <tr>\n",
       "      <th>3</th>\n",
       "      <td>JCP2022_000004</td>\n",
       "      <td>AAANUZMCJQUYNX-UHFFFAOYSA-N</td>\n",
       "      <td>InChI=1S/C13H22N4O2S/c1-2-7-16-13(5-6-15-16)20...</td>\n",
       "      <td>CCCN1N=CC=C1S(=O)(=O)N2CC3CNCC2CC3</td>\n",
       "      <td>67.23</td>\n",
       "      <td>4.208120</td>\n",
       "      <td>1.827563</td>\n",
       "      <td>0</td>\n",
       "    </tr>\n",
       "    <tr>\n",
       "      <th>4</th>\n",
       "      <td>JCP2022_000005</td>\n",
       "      <td>AAAQFGUYHFJNHI-UHFFFAOYSA-N</td>\n",
       "      <td>InChI=1S/C22H22ClN5O2/c1-4-24-20(29)12-18-22-2...</td>\n",
       "      <td>CCN=C(O)CC3N=C(c1ccc(Cl)cc1)c2cc(ccc2N4C(C)=NN...</td>\n",
       "      <td>84.89</td>\n",
       "      <td>4.441356</td>\n",
       "      <td>1.928857</td>\n",
       "      <td>0</td>\n",
       "    </tr>\n",
       "    <tr>\n",
       "      <th>5</th>\n",
       "      <td>JCP2022_000006</td>\n",
       "      <td>AAAROXVLYNJINN-UHFFFAOYSA-N</td>\n",
       "      <td>InChI=1S/C16H20N6O/c1-16(2,3)22-13(10-5-6-10)7...</td>\n",
       "      <td>CN1C=C(C=N1)C2=NOC(=N2)C4C=C(C3CC3)N(N=4)C(C)(C)C</td>\n",
       "      <td>74.56</td>\n",
       "      <td>4.311604</td>\n",
       "      <td>1.872506</td>\n",
       "      <td>0</td>\n",
       "    </tr>\n",
       "    <tr>\n",
       "      <th>6</th>\n",
       "      <td>JCP2022_000007</td>\n",
       "      <td>AAATVJFGQAZXQO-UHFFFAOYSA-N</td>\n",
       "      <td>InChI=1S/C24H22N2O4S/c1-14-20(15(2)30-26-14)13...</td>\n",
       "      <td>CC(OC(=O)c1ccccc1SCC2C(C)=NOC=2C)C(=O)C3=CNc4c...</td>\n",
       "      <td>85.19</td>\n",
       "      <td>4.444884</td>\n",
       "      <td>1.930389</td>\n",
       "      <td>0</td>\n",
       "    </tr>\n",
       "    <tr>\n",
       "      <th>7</th>\n",
       "      <td>JCP2022_000008</td>\n",
       "      <td>AAAUIKUIDRZZQT-UHFFFAOYSA-N</td>\n",
       "      <td>InChI=1S/C26H24ClN3O2/c1-3-22(25(31)29-20-13-9...</td>\n",
       "      <td>CCC(C(O)=Nc1cccc(Cl)c1)N4C(=O)C(C)N=C(c2ccccc2...</td>\n",
       "      <td>65.26</td>\n",
       "      <td>4.178379</td>\n",
       "      <td>1.814647</td>\n",
       "      <td>0</td>\n",
       "    </tr>\n",
       "    <tr>\n",
       "      <th>8</th>\n",
       "      <td>JCP2022_000009</td>\n",
       "      <td>AAAZRMGPBSWFDK-UHFFFAOYSA-N</td>\n",
       "      <td>InChI=1S/C18H19F3N4O4S2/c19-18(20,21)13-3-1-2-...</td>\n",
       "      <td>NC(=O)C1C=CSC=1N=C(O)CN2CCN(CC2)S(=O)(=O)c3ccc...</td>\n",
       "      <td>116.30</td>\n",
       "      <td>4.756173</td>\n",
       "      <td>2.065580</td>\n",
       "      <td>1</td>\n",
       "    </tr>\n",
       "    <tr>\n",
       "      <th>9</th>\n",
       "      <td>JCP2022_000010</td>\n",
       "      <td>AABLKAPUNFMSIA-UHFFFAOYSA-N</td>\n",
       "      <td>InChI=1S/C15H24N4O4S/c1-3-18-14(4-7-16-18)15(2...</td>\n",
       "      <td>CCN1N=CC=C1C(=O)N2CC(C2)N(C3CCOCC3)S(C)(=O)=O</td>\n",
       "      <td>84.74</td>\n",
       "      <td>4.439588</td>\n",
       "      <td>1.928088</td>\n",
       "      <td>0</td>\n",
       "    </tr>\n",
       "    <tr>\n",
       "      <th>10</th>\n",
       "      <td>JCP2022_000011</td>\n",
       "      <td>AABMLEIWYPXTMZ-UHFFFAOYSA-N</td>\n",
       "      <td>InChI=1S/C21H27N7O2/c1-3-30-17-7-5-4-6-16(17)2...</td>\n",
       "      <td>CCOc1ccccc1N=C(O)CCC2=NN=C3C=CC(=NN23)N4CCN(C)CC4</td>\n",
       "      <td>91.38</td>\n",
       "      <td>4.515027</td>\n",
       "      <td>1.960851</td>\n",
       "      <td>0</td>\n",
       "    </tr>\n",
       "    <tr>\n",
       "      <th>11</th>\n",
       "      <td>JCP2022_000012</td>\n",
       "      <td>AABPCJFVLDUVQS-UHFFFAOYSA-N</td>\n",
       "      <td>InChI=1S/C15H9Cl2NO5/c16-10-3-6-12(13(17)7-10)...</td>\n",
       "      <td>[O-][N+](=O)c1ccc(cc1)C(=O)COC(=O)c2ccc(Cl)cc2Cl</td>\n",
       "      <td>86.51</td>\n",
       "      <td>4.460260</td>\n",
       "      <td>1.937066</td>\n",
       "      <td>0</td>\n",
       "    </tr>\n",
       "    <tr>\n",
       "      <th>12</th>\n",
       "      <td>JCP2022_000013</td>\n",
       "      <td>AABSTWCOLWSFRA-UHFFFAOYSA-N</td>\n",
       "      <td>InChI=1S/C17H19N5O2S/c1-11-20-14(16-22(11)7-8-...</td>\n",
       "      <td>COc1ncc(cn1)C(=O)N2CCC(CC2)C3N=C(C)N4C=CSC=34</td>\n",
       "      <td>72.62</td>\n",
       "      <td>4.285240</td>\n",
       "      <td>1.861056</td>\n",
       "      <td>0</td>\n",
       "    </tr>\n",
       "    <tr>\n",
       "      <th>13</th>\n",
       "      <td>JCP2022_000014</td>\n",
       "      <td>AABVQGHWEQDLQT-UHFFFAOYSA-N</td>\n",
       "      <td>InChI=1S/C19H22N4O4/c1-11-8-17(21-19-18(11)12(...</td>\n",
       "      <td>COc1ccc(OC)c(c1)N=C(O)COc3cc(C)c2C(C)=NN(C)c2n3</td>\n",
       "      <td>90.99</td>\n",
       "      <td>4.510750</td>\n",
       "      <td>1.958994</td>\n",
       "      <td>0</td>\n",
       "    </tr>\n",
       "    <tr>\n",
       "      <th>14</th>\n",
       "      <td>JCP2022_000015</td>\n",
       "      <td>AABVYSUFDCJURE-UHFFFAOYSA-N</td>\n",
       "      <td>InChI=1S/C13H8Cl2N4O2/c14-8-1-2-9(15)12-11(8)1...</td>\n",
       "      <td>Oc3cc(CN2C=Nc1c(Cl)ccc(Cl)c1C2=O)ncn3</td>\n",
       "      <td>80.90</td>\n",
       "      <td>4.393214</td>\n",
       "      <td>1.907949</td>\n",
       "      <td>0</td>\n",
       "    </tr>\n",
       "    <tr>\n",
       "      <th>15</th>\n",
       "      <td>JCP2022_000016</td>\n",
       "      <td>AABWCBMRRGFNHG-UHFFFAOYSA-N</td>\n",
       "      <td>InChI=1S/C14H17N3O3S2/c1-8-12(22-9(2)15-8)13(1...</td>\n",
       "      <td>CC1=NC(C)=C(S1)C(=O)N2CCC(CC2)N3C(O)=CSC3=O</td>\n",
       "      <td>75.43</td>\n",
       "      <td>4.323205</td>\n",
       "      <td>1.877544</td>\n",
       "      <td>0</td>\n",
       "    </tr>\n",
       "    <tr>\n",
       "      <th>16</th>\n",
       "      <td>JCP2022_000017</td>\n",
       "      <td>AABWDJVAAPACIC-UHFFFAOYSA-N</td>\n",
       "      <td>InChI=1S/C19H19N5O3S2/c1-11-2-4-13-14(8-11)29-...</td>\n",
       "      <td>CC4CCC3N=C(N=C(O)C2C=CC(=O)N(CC(O)=NC1=NC=CS1)...</td>\n",
       "      <td>112.96</td>\n",
       "      <td>4.727034</td>\n",
       "      <td>2.052925</td>\n",
       "      <td>1</td>\n",
       "    </tr>\n",
       "    <tr>\n",
       "      <th>17</th>\n",
       "      <td>JCP2022_000018</td>\n",
       "      <td>AABYJNPRDNFCBT-UHFFFAOYSA-N</td>\n",
       "      <td>InChI=1S/C22H24N6O/c1-23-22(29)18-12-26-28-20(...</td>\n",
       "      <td>CN=C(O)C1C=NN2C(=CC=NC=12)C5CCCN(CC3=CNc4ccccc...</td>\n",
       "      <td>81.81</td>\n",
       "      <td>4.404399</td>\n",
       "      <td>1.912806</td>\n",
       "      <td>0</td>\n",
       "    </tr>\n",
       "    <tr>\n",
       "      <th>18</th>\n",
       "      <td>JCP2022_000019</td>\n",
       "      <td>AABYXSCBKRYKHE-UHFFFAOYSA-N</td>\n",
       "      <td>InChI=1S/C17H12N6/c1-2-4-14-11(3-1)9-12-5-6-13...</td>\n",
       "      <td>C2c1ccccc1c3cc(ccc23)N=C5C=CC4=NN=NN4N5</td>\n",
       "      <td>71.23</td>\n",
       "      <td>4.265914</td>\n",
       "      <td>1.852663</td>\n",
       "      <td>0</td>\n",
       "    </tr>\n",
       "    <tr>\n",
       "      <th>19</th>\n",
       "      <td>JCP2022_000020</td>\n",
       "      <td>AACALNSOMDQMRY-UHFFFAOYSA-N</td>\n",
       "      <td>InChI=1S/C16H18FN3O2S/c1-13-12-14(5-6-15(13)17...</td>\n",
       "      <td>Cc1cc(ccc1F)S(=O)(=O)N2CCN(CC2)c3ccccn3</td>\n",
       "      <td>53.51</td>\n",
       "      <td>3.979869</td>\n",
       "      <td>1.728435</td>\n",
       "      <td>0</td>\n",
       "    </tr>\n",
       "  </tbody>\n",
       "</table>\n",
       "</div>"
      ],
      "text/plain": [
       "   Metadata_JCP2022            Metadata_InChIKey                                     Metadata_InChI                                    Metadata_Smiles  Metadata_TPSA  \\\n",
       "0    JCP2022_000001  AAAHWCWPZPSPIW-UHFFFAOYSA-N  InChI=1S/C25H31N5O2/c1-4-23-26-14-16-30(23)24-...  CCC1=NC=CN1c2cccc(n2)C3CCCN3C(=O)c4ccc(cc4)OCC...          63.49   \n",
       "1    JCP2022_000002  AAAJHRMBUHXWLD-UHFFFAOYSA-N  InChI=1S/C11H13ClN2O/c12-10-4-2-9(3-5-10)8-14-...                            OC1=NCCCN1Cc2ccc(Cl)cc2          35.83   \n",
       "2    JCP2022_000003  AAALVYBICLMAMA-UHFFFAOYSA-N  InChI=1S/C20H15N3O2/c24-19-15-11-17(21-13-7-3-...          OC2=NC(=O)c3cc(Nc1ccccc1)c(cc23)Nc4ccccc4          73.72   \n",
       "3    JCP2022_000004  AAANUZMCJQUYNX-UHFFFAOYSA-N  InChI=1S/C13H22N4O2S/c1-2-7-16-13(5-6-15-16)20...                 CCCN1N=CC=C1S(=O)(=O)N2CC3CNCC2CC3          67.23   \n",
       "4    JCP2022_000005  AAAQFGUYHFJNHI-UHFFFAOYSA-N  InChI=1S/C22H22ClN5O2/c1-4-24-20(29)12-18-22-2...  CCN=C(O)CC3N=C(c1ccc(Cl)cc1)c2cc(ccc2N4C(C)=NN...          84.89   \n",
       "5    JCP2022_000006  AAAROXVLYNJINN-UHFFFAOYSA-N  InChI=1S/C16H20N6O/c1-16(2,3)22-13(10-5-6-10)7...  CN1C=C(C=N1)C2=NOC(=N2)C4C=C(C3CC3)N(N=4)C(C)(C)C          74.56   \n",
       "6    JCP2022_000007  AAATVJFGQAZXQO-UHFFFAOYSA-N  InChI=1S/C24H22N2O4S/c1-14-20(15(2)30-26-14)13...  CC(OC(=O)c1ccccc1SCC2C(C)=NOC=2C)C(=O)C3=CNc4c...          85.19   \n",
       "7    JCP2022_000008  AAAUIKUIDRZZQT-UHFFFAOYSA-N  InChI=1S/C26H24ClN3O2/c1-3-22(25(31)29-20-13-9...  CCC(C(O)=Nc1cccc(Cl)c1)N4C(=O)C(C)N=C(c2ccccc2...          65.26   \n",
       "8    JCP2022_000009  AAAZRMGPBSWFDK-UHFFFAOYSA-N  InChI=1S/C18H19F3N4O4S2/c19-18(20,21)13-3-1-2-...  NC(=O)C1C=CSC=1N=C(O)CN2CCN(CC2)S(=O)(=O)c3ccc...         116.30   \n",
       "9    JCP2022_000010  AABLKAPUNFMSIA-UHFFFAOYSA-N  InChI=1S/C15H24N4O4S/c1-3-18-14(4-7-16-18)15(2...      CCN1N=CC=C1C(=O)N2CC(C2)N(C3CCOCC3)S(C)(=O)=O          84.74   \n",
       "10   JCP2022_000011  AABMLEIWYPXTMZ-UHFFFAOYSA-N  InChI=1S/C21H27N7O2/c1-3-30-17-7-5-4-6-16(17)2...  CCOc1ccccc1N=C(O)CCC2=NN=C3C=CC(=NN23)N4CCN(C)CC4          91.38   \n",
       "11   JCP2022_000012  AABPCJFVLDUVQS-UHFFFAOYSA-N  InChI=1S/C15H9Cl2NO5/c16-10-3-6-12(13(17)7-10)...   [O-][N+](=O)c1ccc(cc1)C(=O)COC(=O)c2ccc(Cl)cc2Cl          86.51   \n",
       "12   JCP2022_000013  AABSTWCOLWSFRA-UHFFFAOYSA-N  InChI=1S/C17H19N5O2S/c1-11-20-14(16-22(11)7-8-...      COc1ncc(cn1)C(=O)N2CCC(CC2)C3N=C(C)N4C=CSC=34          72.62   \n",
       "13   JCP2022_000014  AABVQGHWEQDLQT-UHFFFAOYSA-N  InChI=1S/C19H22N4O4/c1-11-8-17(21-19-18(11)12(...    COc1ccc(OC)c(c1)N=C(O)COc3cc(C)c2C(C)=NN(C)c2n3          90.99   \n",
       "14   JCP2022_000015  AABVYSUFDCJURE-UHFFFAOYSA-N  InChI=1S/C13H8Cl2N4O2/c14-8-1-2-9(15)12-11(8)1...              Oc3cc(CN2C=Nc1c(Cl)ccc(Cl)c1C2=O)ncn3          80.90   \n",
       "15   JCP2022_000016  AABWCBMRRGFNHG-UHFFFAOYSA-N  InChI=1S/C14H17N3O3S2/c1-8-12(22-9(2)15-8)13(1...        CC1=NC(C)=C(S1)C(=O)N2CCC(CC2)N3C(O)=CSC3=O          75.43   \n",
       "16   JCP2022_000017  AABWDJVAAPACIC-UHFFFAOYSA-N  InChI=1S/C19H19N5O3S2/c1-11-2-4-13-14(8-11)29-...  CC4CCC3N=C(N=C(O)C2C=CC(=O)N(CC(O)=NC1=NC=CS1)...         112.96   \n",
       "17   JCP2022_000018  AABYJNPRDNFCBT-UHFFFAOYSA-N  InChI=1S/C22H24N6O/c1-23-22(29)18-12-26-28-20(...  CN=C(O)C1C=NN2C(=CC=NC=12)C5CCCN(CC3=CNc4ccccc...          81.81   \n",
       "18   JCP2022_000019  AABYXSCBKRYKHE-UHFFFAOYSA-N  InChI=1S/C17H12N6/c1-2-4-14-11(3-1)9-12-5-6-13...            C2c1ccccc1c3cc(ccc23)N=C5C=CC4=NN=NN4N5          71.23   \n",
       "19   JCP2022_000020  AACALNSOMDQMRY-UHFFFAOYSA-N  InChI=1S/C16H18FN3O2S/c1-13-12-14(5-6-15(13)17...            Cc1cc(ccc1F)S(=O)(=O)N2CCN(CC2)c3ccccn3          53.51   \n",
       "\n",
       "    Metadata_lnTPSA  Metadata_log10TPSA  Metadata_Permiation  \n",
       "0          4.150882            1.802705                    0  \n",
       "1          3.578786            1.554247                    0  \n",
       "2          4.300274            1.867585                    0  \n",
       "3          4.208120            1.827563                    0  \n",
       "4          4.441356            1.928857                    0  \n",
       "5          4.311604            1.872506                    0  \n",
       "6          4.444884            1.930389                    0  \n",
       "7          4.178379            1.814647                    0  \n",
       "8          4.756173            2.065580                    1  \n",
       "9          4.439588            1.928088                    0  \n",
       "10         4.515027            1.960851                    0  \n",
       "11         4.460260            1.937066                    0  \n",
       "12         4.285240            1.861056                    0  \n",
       "13         4.510750            1.958994                    0  \n",
       "14         4.393214            1.907949                    0  \n",
       "15         4.323205            1.877544                    0  \n",
       "16         4.727034            2.052925                    1  \n",
       "17         4.404399            1.912806                    0  \n",
       "18         4.265914            1.852663                    0  \n",
       "19         3.979869            1.728435                    0  "
      ]
     },
     "execution_count": 229,
     "metadata": {},
     "output_type": "execute_result"
    },
    {
     "data": {
      "text/html": [
       "<div>\n",
       "<style scoped>\n",
       "    .dataframe tbody tr th:only-of-type {\n",
       "        vertical-align: middle;\n",
       "    }\n",
       "\n",
       "    .dataframe tbody tr th {\n",
       "        vertical-align: top;\n",
       "    }\n",
       "\n",
       "    .dataframe thead th {\n",
       "        text-align: right;\n",
       "    }\n",
       "</style>\n",
       "<table border=\"1\" class=\"dataframe\">\n",
       "  <thead>\n",
       "    <tr style=\"text-align: right;\">\n",
       "      <th></th>\n",
       "      <th>Metadata_JCP2022</th>\n",
       "      <th>Metadata_InChIKey</th>\n",
       "      <th>Metadata_InChI</th>\n",
       "      <th>Metadata_Smiles</th>\n",
       "      <th>Metadata_TPSA</th>\n",
       "      <th>Metadata_lnTPSA</th>\n",
       "      <th>Metadata_log10TPSA</th>\n",
       "      <th>Metadata_Permiation</th>\n",
       "    </tr>\n",
       "  </thead>\n",
       "  <tbody>\n",
       "    <tr>\n",
       "      <th>116748</th>\n",
       "      <td>JCP2022_116751</td>\n",
       "      <td>ZZZUOLMMTJKOGE-UHFFFAOYSA-N</td>\n",
       "      <td>InChI=1S/C19H17N5O2/c1-23-9-6-13-7-10-24(19(26...</td>\n",
       "      <td>CN4C=CC3C=CN(CCN=C(O)c2cnc1ccccc1n2)C(=O)C=34</td>\n",
       "      <td>85.30</td>\n",
       "      <td>4.446174</td>\n",
       "      <td>1.930949</td>\n",
       "      <td>0</td>\n",
       "    </tr>\n",
       "    <tr>\n",
       "      <th>116749</th>\n",
       "      <td>JCP2022_116752</td>\n",
       "      <td>ZZZZIBSVRUABIA-UHFFFAOYSA-N</td>\n",
       "      <td>InChI=1S/C19H13F6N3O2S/c1-11-26-6-5-17(27-11)1...</td>\n",
       "      <td>Cc1nccc(n1)c2cccc(c2)NS(=O)(=O)c3cc(cc(c3)C(F)...</td>\n",
       "      <td>71.95</td>\n",
       "      <td>4.275971</td>\n",
       "      <td>1.857031</td>\n",
       "      <td>0</td>\n",
       "    </tr>\n",
       "    <tr>\n",
       "      <th>116750</th>\n",
       "      <td>JCP2022_116753</td>\n",
       "      <td>ZZZZVNLQWWXZTQ-UHFFFAOYSA-N</td>\n",
       "      <td>InChI=1S/C14H20N2O3/c1-18-13-5-3-2-4-12(13)14(...</td>\n",
       "      <td>COc1ccccc1C(O)=NCCN2CCOCC2</td>\n",
       "      <td>54.29</td>\n",
       "      <td>3.994340</td>\n",
       "      <td>1.734720</td>\n",
       "      <td>0</td>\n",
       "    </tr>\n",
       "  </tbody>\n",
       "</table>\n",
       "</div>"
      ],
      "text/plain": [
       "       Metadata_JCP2022            Metadata_InChIKey                                     Metadata_InChI                                    Metadata_Smiles  Metadata_TPSA  \\\n",
       "116748   JCP2022_116751  ZZZUOLMMTJKOGE-UHFFFAOYSA-N  InChI=1S/C19H17N5O2/c1-23-9-6-13-7-10-24(19(26...      CN4C=CC3C=CN(CCN=C(O)c2cnc1ccccc1n2)C(=O)C=34          85.30   \n",
       "116749   JCP2022_116752  ZZZZIBSVRUABIA-UHFFFAOYSA-N  InChI=1S/C19H13F6N3O2S/c1-11-26-6-5-17(27-11)1...  Cc1nccc(n1)c2cccc(c2)NS(=O)(=O)c3cc(cc(c3)C(F)...          71.95   \n",
       "116750   JCP2022_116753  ZZZZVNLQWWXZTQ-UHFFFAOYSA-N  InChI=1S/C14H20N2O3/c1-18-13-5-3-2-4-12(13)14(...                         COc1ccccc1C(O)=NCCN2CCOCC2          54.29   \n",
       "\n",
       "        Metadata_lnTPSA  Metadata_log10TPSA  Metadata_Permiation  \n",
       "116748         4.446174            1.930949                    0  \n",
       "116749         4.275971            1.857031                    0  \n",
       "116750         3.994340            1.734720                    0  "
      ]
     },
     "execution_count": 229,
     "metadata": {},
     "output_type": "execute_result"
    }
   ],
   "source": [
    "# print(f\"--> compound Metadata + TPSA Cleaned File    : {compoundMetadataTPSACleanFile}\\n\")\n",
    "# df_metadata = pd.read_csv(compoundMetadataTPSACleanFile)\n",
    "df_metadata_clean.info()\n",
    "df_metadata_clean.head(20)\n",
    "df_metadata_clean.tail(3)"
   ]
  },
  {
   "cell_type": "code",
   "execution_count": 233,
   "id": "0e40a240-c532-4c90-b515-91f8d295ff92",
   "metadata": {
    "editable": true,
    "execution": {
     "iopub.execute_input": "2024-10-23T21:05:25.417859Z",
     "iopub.status.busy": "2024-10-23T21:05:25.417387Z",
     "iopub.status.idle": "2024-10-23T21:05:25.497016Z",
     "shell.execute_reply": "2024-10-23T21:05:25.496458Z",
     "shell.execute_reply.started": "2024-10-23T21:05:25.417816Z"
    },
    "slideshow": {
     "slide_type": ""
    },
    "tags": []
   },
   "outputs": [
    {
     "name": "stdout",
     "output_type": "stream",
     "text": [
      "                          min           max           std           mean          median\n",
      "Metadata_TPSA           3.2400000  2834.6700000    32.8859880    73.6213196    71.3600000\n",
      "Metadata_lnTPSA         1.1755733     7.9496808     0.3917724     4.2261118     4.2677375\n",
      "Metadata_log10TPSA      0.5105450     3.4525025     0.1701446     1.8353770     1.8534548\n"
     ]
    },
    {
     "data": {
      "text/plain": [
       "116691"
      ]
     },
     "execution_count": 233,
     "metadata": {},
     "output_type": "execute_result"
    },
    {
     "data": {
      "text/plain": [
       "0.12232305833354758"
      ]
     },
     "execution_count": 233,
     "metadata": {},
     "output_type": "execute_result"
    },
    {
     "data": {
      "text/plain": [
       "0.8776769416664524"
      ]
     },
     "execution_count": 233,
     "metadata": {},
     "output_type": "execute_result"
    },
    {
     "data": {
      "text/plain": [
       "Metadata_Permiation\n",
       "0    102417\n",
       "1     14274\n",
       "Name: count, dtype: int64"
      ]
     },
     "execution_count": 233,
     "metadata": {},
     "output_type": "execute_result"
    }
   ],
   "source": [
    "print(f\"                          min           max           std           mean          median\")\n",
    "for x in ['Metadata_TPSA', 'Metadata_lnTPSA', 'Metadata_log10TPSA']:\n",
    "    print(f\"{x:19s} {df_metadata_clean[x].min():13.7f} {df_metadata_clean[x].max():13.7f} \"\n",
    "          f\"{df_metadata_clean[x].std():13.7f} {df_metadata_clean[x].mean():13.7f} {df_metadata_clean[x].median():13.7f}\") \n",
    "\n",
    "df_metadata_clean.Metadata_TPSA.count()\n",
    "df_metadata_clean[df_metadata_clean.Metadata_TPSA >= TPSA_THRESHOLD].Metadata_TPSA.count()/df_metadata_clean.Metadata_TPSA.count()\n",
    "df_metadata_clean[df_metadata_clean.Metadata_TPSA <  TPSA_THRESHOLD].Metadata_TPSA.count()/df_metadata_clean.Metadata_TPSA.count()\n",
    "df_metadata_clean['Metadata_Permiation'].value_counts()"
   ]
  },
  {
   "cell_type": "code",
   "execution_count": 239,
   "id": "7da8caf9-6d0e-4b36-acdd-80eb4a6f5dfa",
   "metadata": {
    "ExecuteTime": {
     "end_time": "2023-06-28T19:37:34.108730Z",
     "start_time": "2023-06-28T19:37:34.072553Z"
    },
    "editable": true,
    "execution": {
     "iopub.execute_input": "2024-10-23T21:08:26.696031Z",
     "iopub.status.busy": "2024-10-23T21:08:26.695561Z",
     "iopub.status.idle": "2024-10-23T21:08:26.998851Z",
     "shell.execute_reply": "2024-10-23T21:08:26.998271Z",
     "shell.execute_reply.started": "2024-10-23T21:08:26.695990Z"
    },
    "slideshow": {
     "slide_type": ""
    },
    "tags": []
   },
   "outputs": [
    {
     "data": {
      "text/plain": [
       "Text(0.5, 0, 'TPSA Value')"
      ]
     },
     "execution_count": 239,
     "metadata": {},
     "output_type": "execute_result"
    },
    {
     "data": {
      "text/plain": [
       "Text(0, 0.5, '# Compounds')"
      ]
     },
     "execution_count": 239,
     "metadata": {},
     "output_type": "execute_result"
    },
    {
     "data": {
      "text/plain": [
       "<matplotlib.collections.LineCollection at 0x7fe08628d110>"
      ]
     },
     "execution_count": 239,
     "metadata": {},
     "output_type": "execute_result"
    },
    {
     "data": {
      "image/png": "[encoded data removed]",
      "text/plain": [
       "<Figure size 1000x500 with 1 Axes>"
      ]
     },
     "metadata": {},
     "output_type": "display_data"
    }
   ],
   "source": [
    "from matplotlib import colors\n",
    "from matplotlib.ticker import PercentFormatter\n",
    "\n",
    "num_bins = 100\n",
    "fig = plt.figure(figsize=(10,5))\n",
    "# fig, ax = plt.subplots()\n",
    " \n",
    "# the histogram of the data\n",
    "n, bins, patches = plt.hist(df_metadata.Metadata_TPSA, num_bins, density=False, range=[0, 500],)\n",
    "# We can set the number of bins with the *bins* keyword argument.\n",
    "plt.xlabel('TPSA Value');\n",
    "plt.ylabel('# Compounds');\n",
    "plt.vlines(100,0,10000, colors='red')\n",
    "# ax.set_title('Histogram of normal distribution sample: '\n",
    "#              fr'$\\mu={mu:.0f}$, $\\sigma={sigma:.0f}$')\n",
    "# axs[1].hist(dist2, bins=n_bins)"
   ]
  },
  {
   "cell_type": "markdown",
   "id": "28f9bb48-c82e-45e8-abb5-c4daa63866a9",
   "metadata": {},
   "source": [
    "### add Metadata_Permiation to df_TPSA"
   ]
  },
  {
   "cell_type": "code",
   "execution_count": null,
   "id": "1d79e1c9-efa0-4a1d-bd2f-df9a19f10a2b",
   "metadata": {},
   "outputs": [],
   "source": [
    "# print(f\" IN  - compound TPSA File                    : {compoundTPSACleanFile}\")\n",
    "# print(f\" OUT - compound TPSA Clean File              : {compoundTPSACleanFile}\\n\")\n",
    "# print()"
   ]
  },
  {
   "cell_type": "code",
   "execution_count": 4,
   "id": "c95ce17a-2a71-46e2-9196-396b73781d4e",
   "metadata": {
    "ExecuteTime": {
     "end_time": "2023-06-28T19:37:50.015129Z",
     "start_time": "2023-06-28T19:37:49.870907Z"
    },
    "execution": {
     "iopub.execute_input": "2024-04-26T17:31:38.569045Z",
     "iopub.status.busy": "2024-04-26T17:31:38.568548Z",
     "iopub.status.idle": "2024-04-26T17:31:38.574076Z",
     "shell.execute_reply": "2024-04-26T17:31:38.573025Z",
     "shell.execute_reply.started": "2024-04-26T17:31:38.569001Z"
    },
    "scrolled": true
   },
   "outputs": [],
   "source": [
    "# print(f\"--> compound TPSA Clean File                 : {compoundTPSACleanFile}\\n\")\n",
    "# df_tpsa = pd.read_csv(compoundTPSACleanFile)\n",
    "# df_tpsa.info()\n",
    "# df_tpsa.head(2)\n",
    "# df_tpsa.tail(2)"
   ]
  },
  {
   "cell_type": "code",
   "execution_count": 34,
   "id": "c5180069-16b8-402b-be13-ae5fb0a1de81",
   "metadata": {
    "ExecuteTime": {
     "end_time": "2023-06-28T19:37:43.512826Z",
     "start_time": "2023-06-28T19:37:43.423428Z"
    },
    "execution": {
     "iopub.execute_input": "2024-01-24T12:03:08.095441Z",
     "iopub.status.busy": "2024-01-24T12:03:08.094941Z",
     "iopub.status.idle": "2024-01-24T12:03:08.122791Z",
     "shell.execute_reply": "2024-01-24T12:03:08.121867Z",
     "shell.execute_reply.started": "2024-01-24T12:03:08.095399Z"
    }
   },
   "outputs": [],
   "source": [
    "# df_tpsa['TPSA'].std(),df_tpsa['TPSA'].mean()\n",
    "# df_tpsa['lnTPSA'].std(),df_tpsa['lnTPSA'].mean()\n",
    "# df_tpsa['log10TPSA'].std(),df_tpsa['log10TPSA'].mean()"
   ]
  },
  {
   "cell_type": "code",
   "execution_count": 5,
   "id": "f6bf29ad-a542-4172-ad0a-217b2b5b66bf",
   "metadata": {
    "execution": {
     "iopub.execute_input": "2024-04-26T17:31:59.649908Z",
     "iopub.status.busy": "2024-04-26T17:31:59.649436Z",
     "iopub.status.idle": "2024-04-26T17:31:59.654547Z",
     "shell.execute_reply": "2024-04-26T17:31:59.653587Z",
     "shell.execute_reply.started": "2024-04-26T17:31:59.649867Z"
    }
   },
   "outputs": [],
   "source": [
    "# df_tpsa['permiation'] = 0\n",
    "# df_tpsa.permiation[df_metadata.TPSA >= TPSA_THRESHOLD] = 1"
   ]
  },
  {
   "cell_type": "markdown",
   "id": "9c29c70a-5305-47e7-8531-1966b2ed9d33",
   "metadata": {},
   "source": [
    "# Add `Metadata_Hash` and `Metadata_Bin` Columns"
   ]
  },
  {
   "cell_type": "code",
   "execution_count": 240,
   "id": "29074d1f-fc6d-487c-aa67-e36884a21d4d",
   "metadata": {
    "execution": {
     "iopub.execute_input": "2024-10-23T21:08:44.860527Z",
     "iopub.status.busy": "2024-10-23T21:08:44.860063Z",
     "iopub.status.idle": "2024-10-23T21:08:44.901374Z",
     "shell.execute_reply": "2024-10-23T21:08:44.900621Z",
     "shell.execute_reply.started": "2024-10-23T21:08:44.860485Z"
    }
   },
   "outputs": [
    {
     "name": "stdout",
     "output_type": "stream",
     "text": [
      "./output_10162024/compound_metadata_tpsa_clean.csv\n"
     ]
    }
   ],
   "source": [
    "print(ds.compoundMetadataTPSACleanFile)\n",
    "NUMBER_OF_BINS = 16\n"
   ]
  },
  {
   "cell_type": "code",
   "execution_count": 243,
   "id": "3cb61ceb-ca72-4915-87ab-946dfd4f1bb8",
   "metadata": {
    "ExecuteTime": {
     "end_time": "2023-06-28T19:37:50.587623Z",
     "start_time": "2023-06-28T19:37:50.503671Z"
    },
    "execution": {
     "iopub.execute_input": "2024-10-23T21:09:09.129895Z",
     "iopub.status.busy": "2024-10-23T21:09:09.129426Z",
     "iopub.status.idle": "2024-10-23T21:09:09.209057Z",
     "shell.execute_reply": "2024-10-23T21:09:09.208504Z",
     "shell.execute_reply.started": "2024-10-23T21:09:09.129854Z"
    }
   },
   "outputs": [
    {
     "name": "stdout",
     "output_type": "stream",
     "text": [
      "<class 'pandas.core.frame.DataFrame'>\n",
      "Index: 116691 entries, 0 to 116750\n",
      "Data columns (total 8 columns):\n",
      " #   Column               Non-Null Count   Dtype  \n",
      "---  ------               --------------   -----  \n",
      " 0   Metadata_JCP2022     116691 non-null  object \n",
      " 1   Metadata_InChIKey    116691 non-null  object \n",
      " 2   Metadata_InChI       116691 non-null  object \n",
      " 3   Metadata_Smiles      116691 non-null  object \n",
      " 4   Metadata_TPSA        116691 non-null  float64\n",
      " 5   Metadata_lnTPSA      116691 non-null  float64\n",
      " 6   Metadata_log10TPSA   116691 non-null  float64\n",
      " 7   Metadata_Permiation  116691 non-null  int64  \n",
      "dtypes: float64(3), int64(1), object(4)\n",
      "memory usage: 12.0+ MB\n"
     ]
    },
    {
     "data": {
      "text/html": [
       "<div>\n",
       "<style scoped>\n",
       "    .dataframe tbody tr th:only-of-type {\n",
       "        vertical-align: middle;\n",
       "    }\n",
       "\n",
       "    .dataframe tbody tr th {\n",
       "        vertical-align: top;\n",
       "    }\n",
       "\n",
       "    .dataframe thead th {\n",
       "        text-align: right;\n",
       "    }\n",
       "</style>\n",
       "<table border=\"1\" class=\"dataframe\">\n",
       "  <thead>\n",
       "    <tr style=\"text-align: right;\">\n",
       "      <th></th>\n",
       "      <th>Metadata_JCP2022</th>\n",
       "      <th>Metadata_InChIKey</th>\n",
       "      <th>Metadata_InChI</th>\n",
       "      <th>Metadata_Smiles</th>\n",
       "      <th>Metadata_TPSA</th>\n",
       "      <th>Metadata_lnTPSA</th>\n",
       "      <th>Metadata_log10TPSA</th>\n",
       "      <th>Metadata_Permiation</th>\n",
       "    </tr>\n",
       "  </thead>\n",
       "  <tbody>\n",
       "    <tr>\n",
       "      <th>0</th>\n",
       "      <td>JCP2022_000001</td>\n",
       "      <td>AAAHWCWPZPSPIW-UHFFFAOYSA-N</td>\n",
       "      <td>InChI=1S/C25H31N5O2/c1-4-23-26-14-16-30(23)24-...</td>\n",
       "      <td>CCC1=NC=CN1c2cccc(n2)C3CCCN3C(=O)c4ccc(cc4)OCC...</td>\n",
       "      <td>63.49</td>\n",
       "      <td>4.150882</td>\n",
       "      <td>1.802705</td>\n",
       "      <td>0</td>\n",
       "    </tr>\n",
       "    <tr>\n",
       "      <th>1</th>\n",
       "      <td>JCP2022_000002</td>\n",
       "      <td>AAAJHRMBUHXWLD-UHFFFAOYSA-N</td>\n",
       "      <td>InChI=1S/C11H13ClN2O/c12-10-4-2-9(3-5-10)8-14-...</td>\n",
       "      <td>OC1=NCCCN1Cc2ccc(Cl)cc2</td>\n",
       "      <td>35.83</td>\n",
       "      <td>3.578786</td>\n",
       "      <td>1.554247</td>\n",
       "      <td>0</td>\n",
       "    </tr>\n",
       "    <tr>\n",
       "      <th>2</th>\n",
       "      <td>JCP2022_000003</td>\n",
       "      <td>AAALVYBICLMAMA-UHFFFAOYSA-N</td>\n",
       "      <td>InChI=1S/C20H15N3O2/c24-19-15-11-17(21-13-7-3-...</td>\n",
       "      <td>OC2=NC(=O)c3cc(Nc1ccccc1)c(cc23)Nc4ccccc4</td>\n",
       "      <td>73.72</td>\n",
       "      <td>4.300274</td>\n",
       "      <td>1.867585</td>\n",
       "      <td>0</td>\n",
       "    </tr>\n",
       "    <tr>\n",
       "      <th>3</th>\n",
       "      <td>JCP2022_000004</td>\n",
       "      <td>AAANUZMCJQUYNX-UHFFFAOYSA-N</td>\n",
       "      <td>InChI=1S/C13H22N4O2S/c1-2-7-16-13(5-6-15-16)20...</td>\n",
       "      <td>CCCN1N=CC=C1S(=O)(=O)N2CC3CNCC2CC3</td>\n",
       "      <td>67.23</td>\n",
       "      <td>4.208120</td>\n",
       "      <td>1.827563</td>\n",
       "      <td>0</td>\n",
       "    </tr>\n",
       "    <tr>\n",
       "      <th>4</th>\n",
       "      <td>JCP2022_000005</td>\n",
       "      <td>AAAQFGUYHFJNHI-UHFFFAOYSA-N</td>\n",
       "      <td>InChI=1S/C22H22ClN5O2/c1-4-24-20(29)12-18-22-2...</td>\n",
       "      <td>CCN=C(O)CC3N=C(c1ccc(Cl)cc1)c2cc(ccc2N4C(C)=NN...</td>\n",
       "      <td>84.89</td>\n",
       "      <td>4.441356</td>\n",
       "      <td>1.928857</td>\n",
       "      <td>0</td>\n",
       "    </tr>\n",
       "  </tbody>\n",
       "</table>\n",
       "</div>"
      ],
      "text/plain": [
       "  Metadata_JCP2022            Metadata_InChIKey                                     Metadata_InChI                                    Metadata_Smiles  Metadata_TPSA  \\\n",
       "0   JCP2022_000001  AAAHWCWPZPSPIW-UHFFFAOYSA-N  InChI=1S/C25H31N5O2/c1-4-23-26-14-16-30(23)24-...  CCC1=NC=CN1c2cccc(n2)C3CCCN3C(=O)c4ccc(cc4)OCC...          63.49   \n",
       "1   JCP2022_000002  AAAJHRMBUHXWLD-UHFFFAOYSA-N  InChI=1S/C11H13ClN2O/c12-10-4-2-9(3-5-10)8-14-...                            OC1=NCCCN1Cc2ccc(Cl)cc2          35.83   \n",
       "2   JCP2022_000003  AAALVYBICLMAMA-UHFFFAOYSA-N  InChI=1S/C20H15N3O2/c24-19-15-11-17(21-13-7-3-...          OC2=NC(=O)c3cc(Nc1ccccc1)c(cc23)Nc4ccccc4          73.72   \n",
       "3   JCP2022_000004  AAANUZMCJQUYNX-UHFFFAOYSA-N  InChI=1S/C13H22N4O2S/c1-2-7-16-13(5-6-15-16)20...                 CCCN1N=CC=C1S(=O)(=O)N2CC3CNCC2CC3          67.23   \n",
       "4   JCP2022_000005  AAAQFGUYHFJNHI-UHFFFAOYSA-N  InChI=1S/C22H22ClN5O2/c1-4-24-20(29)12-18-22-2...  CCN=C(O)CC3N=C(c1ccc(Cl)cc1)c2cc(ccc2N4C(C)=NN...          84.89   \n",
       "\n",
       "   Metadata_lnTPSA  Metadata_log10TPSA  Metadata_Permiation  \n",
       "0         4.150882            1.802705                    0  \n",
       "1         3.578786            1.554247                    0  \n",
       "2         4.300274            1.867585                    0  \n",
       "3         4.208120            1.827563                    0  \n",
       "4         4.441356            1.928857                    0  "
      ]
     },
     "execution_count": 243,
     "metadata": {},
     "output_type": "execute_result"
    },
    {
     "data": {
      "text/html": [
       "<div>\n",
       "<style scoped>\n",
       "    .dataframe tbody tr th:only-of-type {\n",
       "        vertical-align: middle;\n",
       "    }\n",
       "\n",
       "    .dataframe tbody tr th {\n",
       "        vertical-align: top;\n",
       "    }\n",
       "\n",
       "    .dataframe thead th {\n",
       "        text-align: right;\n",
       "    }\n",
       "</style>\n",
       "<table border=\"1\" class=\"dataframe\">\n",
       "  <thead>\n",
       "    <tr style=\"text-align: right;\">\n",
       "      <th></th>\n",
       "      <th>Metadata_JCP2022</th>\n",
       "      <th>Metadata_InChIKey</th>\n",
       "      <th>Metadata_InChI</th>\n",
       "      <th>Metadata_Smiles</th>\n",
       "      <th>Metadata_TPSA</th>\n",
       "      <th>Metadata_lnTPSA</th>\n",
       "      <th>Metadata_log10TPSA</th>\n",
       "      <th>Metadata_Permiation</th>\n",
       "    </tr>\n",
       "  </thead>\n",
       "  <tbody>\n",
       "    <tr>\n",
       "      <th>116746</th>\n",
       "      <td>JCP2022_116749</td>\n",
       "      <td>ZZZRUAITSXLWBH-UHFFFAOYSA-N</td>\n",
       "      <td>InChI=1S/C23H27N3O7/c1-25(2)12-5-6-13(27)15-10...</td>\n",
       "      <td>CN(C)C3C(=O)C(C(=N)O)C(=O)C4(O)C(=O)C2C(=O)c1c...</td>\n",
       "      <td>159.30</td>\n",
       "      <td>5.070789</td>\n",
       "      <td>2.202216</td>\n",
       "      <td>1</td>\n",
       "    </tr>\n",
       "    <tr>\n",
       "      <th>116747</th>\n",
       "      <td>JCP2022_116750</td>\n",
       "      <td>ZZZTXDPKNAOZPM-UHFFFAOYSA-N</td>\n",
       "      <td>InChI=1S/C22H27N3O2/c1-14-18(22(27)24-15(2)23-...</td>\n",
       "      <td>Cc4nc(C)c(CCC(=O)N(C1CC1)C2CCCc3ccccc23)c(O)n4</td>\n",
       "      <td>66.32</td>\n",
       "      <td>4.194492</td>\n",
       "      <td>1.821645</td>\n",
       "      <td>0</td>\n",
       "    </tr>\n",
       "    <tr>\n",
       "      <th>116748</th>\n",
       "      <td>JCP2022_116751</td>\n",
       "      <td>ZZZUOLMMTJKOGE-UHFFFAOYSA-N</td>\n",
       "      <td>InChI=1S/C19H17N5O2/c1-23-9-6-13-7-10-24(19(26...</td>\n",
       "      <td>CN4C=CC3C=CN(CCN=C(O)c2cnc1ccccc1n2)C(=O)C=34</td>\n",
       "      <td>85.30</td>\n",
       "      <td>4.446174</td>\n",
       "      <td>1.930949</td>\n",
       "      <td>0</td>\n",
       "    </tr>\n",
       "    <tr>\n",
       "      <th>116749</th>\n",
       "      <td>JCP2022_116752</td>\n",
       "      <td>ZZZZIBSVRUABIA-UHFFFAOYSA-N</td>\n",
       "      <td>InChI=1S/C19H13F6N3O2S/c1-11-26-6-5-17(27-11)1...</td>\n",
       "      <td>Cc1nccc(n1)c2cccc(c2)NS(=O)(=O)c3cc(cc(c3)C(F)...</td>\n",
       "      <td>71.95</td>\n",
       "      <td>4.275971</td>\n",
       "      <td>1.857031</td>\n",
       "      <td>0</td>\n",
       "    </tr>\n",
       "    <tr>\n",
       "      <th>116750</th>\n",
       "      <td>JCP2022_116753</td>\n",
       "      <td>ZZZZVNLQWWXZTQ-UHFFFAOYSA-N</td>\n",
       "      <td>InChI=1S/C14H20N2O3/c1-18-13-5-3-2-4-12(13)14(...</td>\n",
       "      <td>COc1ccccc1C(O)=NCCN2CCOCC2</td>\n",
       "      <td>54.29</td>\n",
       "      <td>3.994340</td>\n",
       "      <td>1.734720</td>\n",
       "      <td>0</td>\n",
       "    </tr>\n",
       "  </tbody>\n",
       "</table>\n",
       "</div>"
      ],
      "text/plain": [
       "       Metadata_JCP2022            Metadata_InChIKey                                     Metadata_InChI                                    Metadata_Smiles  Metadata_TPSA  \\\n",
       "116746   JCP2022_116749  ZZZRUAITSXLWBH-UHFFFAOYSA-N  InChI=1S/C23H27N3O7/c1-25(2)12-5-6-13(27)15-10...  CN(C)C3C(=O)C(C(=N)O)C(=O)C4(O)C(=O)C2C(=O)c1c...         159.30   \n",
       "116747   JCP2022_116750  ZZZTXDPKNAOZPM-UHFFFAOYSA-N  InChI=1S/C22H27N3O2/c1-14-18(22(27)24-15(2)23-...     Cc4nc(C)c(CCC(=O)N(C1CC1)C2CCCc3ccccc23)c(O)n4          66.32   \n",
       "116748   JCP2022_116751  ZZZUOLMMTJKOGE-UHFFFAOYSA-N  InChI=1S/C19H17N5O2/c1-23-9-6-13-7-10-24(19(26...      CN4C=CC3C=CN(CCN=C(O)c2cnc1ccccc1n2)C(=O)C=34          85.30   \n",
       "116749   JCP2022_116752  ZZZZIBSVRUABIA-UHFFFAOYSA-N  InChI=1S/C19H13F6N3O2S/c1-11-26-6-5-17(27-11)1...  Cc1nccc(n1)c2cccc(c2)NS(=O)(=O)c3cc(cc(c3)C(F)...          71.95   \n",
       "116750   JCP2022_116753  ZZZZVNLQWWXZTQ-UHFFFAOYSA-N  InChI=1S/C14H20N2O3/c1-18-13-5-3-2-4-12(13)14(...                         COc1ccccc1C(O)=NCCN2CCOCC2          54.29   \n",
       "\n",
       "        Metadata_lnTPSA  Metadata_log10TPSA  Metadata_Permiation  \n",
       "116746         5.070789            2.202216                    1  \n",
       "116747         4.194492            1.821645                    0  \n",
       "116748         4.446174            1.930949                    0  \n",
       "116749         4.275971            1.857031                    0  \n",
       "116750         3.994340            1.734720                    0  "
      ]
     },
     "execution_count": 243,
     "metadata": {},
     "output_type": "execute_result"
    },
    {
     "data": {
      "text/plain": [
       "Metadata_Permiation\n",
       "0    102417\n",
       "1     14274\n",
       "Name: count, dtype: int64"
      ]
     },
     "execution_count": 243,
     "metadata": {},
     "output_type": "execute_result"
    }
   ],
   "source": [
    "# df_metadata = pd.read_csv(ds.compoundMetadataTPSACleanFile)\n",
    "df_metadata_clean.info()\n",
    "df_metadata_clean.head(5)\n",
    "df_metadata_clean.tail(5)\n",
    "df_metadata_clean['Metadata_Permiation'].value_counts()"
   ]
  },
  {
   "cell_type": "code",
   "execution_count": 248,
   "id": "aff9fdd8-89c0-4a32-92d8-4b6b7d51f94d",
   "metadata": {
    "execution": {
     "iopub.execute_input": "2024-10-23T21:10:04.250554Z",
     "iopub.status.busy": "2024-10-23T21:10:04.250067Z",
     "iopub.status.idle": "2024-10-23T21:10:04.377232Z",
     "shell.execute_reply": "2024-10-23T21:10:04.376529Z",
     "shell.execute_reply.started": "2024-10-23T21:10:04.250490Z"
    }
   },
   "outputs": [],
   "source": [
    "df_metadata_clean['Metadata_Hash'] = df_metadata_clean['Metadata_JCP2022'].map(hash)\n",
    "df_metadata_clean['Metadata_Bin']  = df_metadata_clean['Metadata_Hash'].map(lambda x: mod(x,NUMBER_OF_BINS))"
   ]
  },
  {
   "cell_type": "code",
   "execution_count": 250,
   "id": "e6133372-5339-4e25-984a-c3a7471c1ada",
   "metadata": {
    "execution": {
     "iopub.execute_input": "2024-10-23T21:13:39.024150Z",
     "iopub.status.busy": "2024-10-23T21:13:39.023690Z",
     "iopub.status.idle": "2024-10-23T21:13:39.070006Z",
     "shell.execute_reply": "2024-10-23T21:13:39.069352Z",
     "shell.execute_reply.started": "2024-10-23T21:13:39.024108Z"
    }
   },
   "outputs": [
    {
     "data": {
      "text/html": [
       "<div>\n",
       "<style scoped>\n",
       "    .dataframe tbody tr th:only-of-type {\n",
       "        vertical-align: middle;\n",
       "    }\n",
       "\n",
       "    .dataframe tbody tr th {\n",
       "        vertical-align: top;\n",
       "    }\n",
       "\n",
       "    .dataframe thead th {\n",
       "        text-align: right;\n",
       "    }\n",
       "</style>\n",
       "<table border=\"1\" class=\"dataframe\">\n",
       "  <thead>\n",
       "    <tr style=\"text-align: right;\">\n",
       "      <th></th>\n",
       "      <th>Metadata_JCP2022</th>\n",
       "      <th>Metadata_InChIKey</th>\n",
       "      <th>Metadata_InChI</th>\n",
       "      <th>Metadata_Smiles</th>\n",
       "      <th>Metadata_TPSA</th>\n",
       "      <th>Metadata_lnTPSA</th>\n",
       "      <th>Metadata_log10TPSA</th>\n",
       "      <th>Metadata_Permiation</th>\n",
       "      <th>Metadata_Hash</th>\n",
       "      <th>Metadata_Bin</th>\n",
       "    </tr>\n",
       "  </thead>\n",
       "  <tbody>\n",
       "    <tr>\n",
       "      <th>0</th>\n",
       "      <td>JCP2022_000001</td>\n",
       "      <td>AAAHWCWPZPSPIW-UHFFFAOYSA-N</td>\n",
       "      <td>InChI=1S/C25H31N5O2/c1-4-23-26-14-16-30(23)24-...</td>\n",
       "      <td>CCC1=NC=CN1c2cccc(n2)C3CCCN3C(=O)c4ccc(cc4)OCC...</td>\n",
       "      <td>63.49</td>\n",
       "      <td>4.150882</td>\n",
       "      <td>1.802705</td>\n",
       "      <td>0</td>\n",
       "      <td>2440241975654110680</td>\n",
       "      <td>8</td>\n",
       "    </tr>\n",
       "    <tr>\n",
       "      <th>1</th>\n",
       "      <td>JCP2022_000002</td>\n",
       "      <td>AAAJHRMBUHXWLD-UHFFFAOYSA-N</td>\n",
       "      <td>InChI=1S/C11H13ClN2O/c12-10-4-2-9(3-5-10)8-14-...</td>\n",
       "      <td>OC1=NCCCN1Cc2ccc(Cl)cc2</td>\n",
       "      <td>35.83</td>\n",
       "      <td>3.578786</td>\n",
       "      <td>1.554247</td>\n",
       "      <td>0</td>\n",
       "      <td>-870368651054634396</td>\n",
       "      <td>4</td>\n",
       "    </tr>\n",
       "    <tr>\n",
       "      <th>2</th>\n",
       "      <td>JCP2022_000003</td>\n",
       "      <td>AAALVYBICLMAMA-UHFFFAOYSA-N</td>\n",
       "      <td>InChI=1S/C20H15N3O2/c24-19-15-11-17(21-13-7-3-...</td>\n",
       "      <td>OC2=NC(=O)c3cc(Nc1ccccc1)c(cc23)Nc4ccccc4</td>\n",
       "      <td>73.72</td>\n",
       "      <td>4.300274</td>\n",
       "      <td>1.867585</td>\n",
       "      <td>0</td>\n",
       "      <td>6218435319191466754</td>\n",
       "      <td>2</td>\n",
       "    </tr>\n",
       "    <tr>\n",
       "      <th>3</th>\n",
       "      <td>JCP2022_000004</td>\n",
       "      <td>AAANUZMCJQUYNX-UHFFFAOYSA-N</td>\n",
       "      <td>InChI=1S/C13H22N4O2S/c1-2-7-16-13(5-6-15-16)20...</td>\n",
       "      <td>CCCN1N=CC=C1S(=O)(=O)N2CC3CNCC2CC3</td>\n",
       "      <td>67.23</td>\n",
       "      <td>4.208120</td>\n",
       "      <td>1.827563</td>\n",
       "      <td>0</td>\n",
       "      <td>7887790091381819861</td>\n",
       "      <td>5</td>\n",
       "    </tr>\n",
       "    <tr>\n",
       "      <th>4</th>\n",
       "      <td>JCP2022_000005</td>\n",
       "      <td>AAAQFGUYHFJNHI-UHFFFAOYSA-N</td>\n",
       "      <td>InChI=1S/C22H22ClN5O2/c1-4-24-20(29)12-18-22-2...</td>\n",
       "      <td>CCN=C(O)CC3N=C(c1ccc(Cl)cc1)c2cc(ccc2N4C(C)=NN...</td>\n",
       "      <td>84.89</td>\n",
       "      <td>4.441356</td>\n",
       "      <td>1.928857</td>\n",
       "      <td>0</td>\n",
       "      <td>8593306527078855415</td>\n",
       "      <td>7</td>\n",
       "    </tr>\n",
       "    <tr>\n",
       "      <th>...</th>\n",
       "      <td>...</td>\n",
       "      <td>...</td>\n",
       "      <td>...</td>\n",
       "      <td>...</td>\n",
       "      <td>...</td>\n",
       "      <td>...</td>\n",
       "      <td>...</td>\n",
       "      <td>...</td>\n",
       "      <td>...</td>\n",
       "      <td>...</td>\n",
       "    </tr>\n",
       "    <tr>\n",
       "      <th>116746</th>\n",
       "      <td>JCP2022_116749</td>\n",
       "      <td>ZZZRUAITSXLWBH-UHFFFAOYSA-N</td>\n",
       "      <td>InChI=1S/C23H27N3O7/c1-25(2)12-5-6-13(27)15-10...</td>\n",
       "      <td>CN(C)C3C(=O)C(C(=N)O)C(=O)C4(O)C(=O)C2C(=O)c1c...</td>\n",
       "      <td>159.30</td>\n",
       "      <td>5.070789</td>\n",
       "      <td>2.202216</td>\n",
       "      <td>1</td>\n",
       "      <td>7078851567130000001</td>\n",
       "      <td>1</td>\n",
       "    </tr>\n",
       "    <tr>\n",
       "      <th>116747</th>\n",
       "      <td>JCP2022_116750</td>\n",
       "      <td>ZZZTXDPKNAOZPM-UHFFFAOYSA-N</td>\n",
       "      <td>InChI=1S/C22H27N3O2/c1-14-18(22(27)24-15(2)23-...</td>\n",
       "      <td>Cc4nc(C)c(CCC(=O)N(C1CC1)C2CCCc3ccccc23)c(O)n4</td>\n",
       "      <td>66.32</td>\n",
       "      <td>4.194492</td>\n",
       "      <td>1.821645</td>\n",
       "      <td>0</td>\n",
       "      <td>-1852856265090862307</td>\n",
       "      <td>13</td>\n",
       "    </tr>\n",
       "    <tr>\n",
       "      <th>116748</th>\n",
       "      <td>JCP2022_116751</td>\n",
       "      <td>ZZZUOLMMTJKOGE-UHFFFAOYSA-N</td>\n",
       "      <td>InChI=1S/C19H17N5O2/c1-23-9-6-13-7-10-24(19(26...</td>\n",
       "      <td>CN4C=CC3C=CN(CCN=C(O)c2cnc1ccccc1n2)C(=O)C=34</td>\n",
       "      <td>85.30</td>\n",
       "      <td>4.446174</td>\n",
       "      <td>1.930949</td>\n",
       "      <td>0</td>\n",
       "      <td>3424852513362884069</td>\n",
       "      <td>5</td>\n",
       "    </tr>\n",
       "    <tr>\n",
       "      <th>116749</th>\n",
       "      <td>JCP2022_116752</td>\n",
       "      <td>ZZZZIBSVRUABIA-UHFFFAOYSA-N</td>\n",
       "      <td>InChI=1S/C19H13F6N3O2S/c1-11-26-6-5-17(27-11)1...</td>\n",
       "      <td>Cc1nccc(n1)c2cccc(c2)NS(=O)(=O)c3cc(cc(c3)C(F)...</td>\n",
       "      <td>71.95</td>\n",
       "      <td>4.275971</td>\n",
       "      <td>1.857031</td>\n",
       "      <td>0</td>\n",
       "      <td>8287878185965590908</td>\n",
       "      <td>12</td>\n",
       "    </tr>\n",
       "    <tr>\n",
       "      <th>116750</th>\n",
       "      <td>JCP2022_116753</td>\n",
       "      <td>ZZZZVNLQWWXZTQ-UHFFFAOYSA-N</td>\n",
       "      <td>InChI=1S/C14H20N2O3/c1-18-13-5-3-2-4-12(13)14(...</td>\n",
       "      <td>COc1ccccc1C(O)=NCCN2CCOCC2</td>\n",
       "      <td>54.29</td>\n",
       "      <td>3.994340</td>\n",
       "      <td>1.734720</td>\n",
       "      <td>0</td>\n",
       "      <td>6884605896902122890</td>\n",
       "      <td>10</td>\n",
       "    </tr>\n",
       "  </tbody>\n",
       "</table>\n",
       "<p>116691 rows × 10 columns</p>\n",
       "</div>"
      ],
      "text/plain": [
       "       Metadata_JCP2022            Metadata_InChIKey                                     Metadata_InChI                                    Metadata_Smiles  Metadata_TPSA  \\\n",
       "0        JCP2022_000001  AAAHWCWPZPSPIW-UHFFFAOYSA-N  InChI=1S/C25H31N5O2/c1-4-23-26-14-16-30(23)24-...  CCC1=NC=CN1c2cccc(n2)C3CCCN3C(=O)c4ccc(cc4)OCC...          63.49   \n",
       "1        JCP2022_000002  AAAJHRMBUHXWLD-UHFFFAOYSA-N  InChI=1S/C11H13ClN2O/c12-10-4-2-9(3-5-10)8-14-...                            OC1=NCCCN1Cc2ccc(Cl)cc2          35.83   \n",
       "2        JCP2022_000003  AAALVYBICLMAMA-UHFFFAOYSA-N  InChI=1S/C20H15N3O2/c24-19-15-11-17(21-13-7-3-...          OC2=NC(=O)c3cc(Nc1ccccc1)c(cc23)Nc4ccccc4          73.72   \n",
       "3        JCP2022_000004  AAANUZMCJQUYNX-UHFFFAOYSA-N  InChI=1S/C13H22N4O2S/c1-2-7-16-13(5-6-15-16)20...                 CCCN1N=CC=C1S(=O)(=O)N2CC3CNCC2CC3          67.23   \n",
       "4        JCP2022_000005  AAAQFGUYHFJNHI-UHFFFAOYSA-N  InChI=1S/C22H22ClN5O2/c1-4-24-20(29)12-18-22-2...  CCN=C(O)CC3N=C(c1ccc(Cl)cc1)c2cc(ccc2N4C(C)=NN...          84.89   \n",
       "...                 ...                          ...                                                ...                                                ...            ...   \n",
       "116746   JCP2022_116749  ZZZRUAITSXLWBH-UHFFFAOYSA-N  InChI=1S/C23H27N3O7/c1-25(2)12-5-6-13(27)15-10...  CN(C)C3C(=O)C(C(=N)O)C(=O)C4(O)C(=O)C2C(=O)c1c...         159.30   \n",
       "116747   JCP2022_116750  ZZZTXDPKNAOZPM-UHFFFAOYSA-N  InChI=1S/C22H27N3O2/c1-14-18(22(27)24-15(2)23-...     Cc4nc(C)c(CCC(=O)N(C1CC1)C2CCCc3ccccc23)c(O)n4          66.32   \n",
       "116748   JCP2022_116751  ZZZUOLMMTJKOGE-UHFFFAOYSA-N  InChI=1S/C19H17N5O2/c1-23-9-6-13-7-10-24(19(26...      CN4C=CC3C=CN(CCN=C(O)c2cnc1ccccc1n2)C(=O)C=34          85.30   \n",
       "116749   JCP2022_116752  ZZZZIBSVRUABIA-UHFFFAOYSA-N  InChI=1S/C19H13F6N3O2S/c1-11-26-6-5-17(27-11)1...  Cc1nccc(n1)c2cccc(c2)NS(=O)(=O)c3cc(cc(c3)C(F)...          71.95   \n",
       "116750   JCP2022_116753  ZZZZVNLQWWXZTQ-UHFFFAOYSA-N  InChI=1S/C14H20N2O3/c1-18-13-5-3-2-4-12(13)14(...                         COc1ccccc1C(O)=NCCN2CCOCC2          54.29   \n",
       "\n",
       "        Metadata_lnTPSA  Metadata_log10TPSA  Metadata_Permiation        Metadata_Hash  Metadata_Bin  \n",
       "0              4.150882            1.802705                    0  2440241975654110680             8  \n",
       "1              3.578786            1.554247                    0  -870368651054634396             4  \n",
       "2              4.300274            1.867585                    0  6218435319191466754             2  \n",
       "3              4.208120            1.827563                    0  7887790091381819861             5  \n",
       "4              4.441356            1.928857                    0  8593306527078855415             7  \n",
       "...                 ...                 ...                  ...                  ...           ...  \n",
       "116746         5.070789            2.202216                    1  7078851567130000001             1  \n",
       "116747         4.194492            1.821645                    0 -1852856265090862307            13  \n",
       "116748         4.446174            1.930949                    0  3424852513362884069             5  \n",
       "116749         4.275971            1.857031                    0  8287878185965590908            12  \n",
       "116750         3.994340            1.734720                    0  6884605896902122890            10  \n",
       "\n",
       "[116691 rows x 10 columns]"
      ]
     },
     "execution_count": 250,
     "metadata": {},
     "output_type": "execute_result"
    }
   ],
   "source": [
    "df_metadata_clean"
   ]
  },
  {
   "cell_type": "code",
   "execution_count": 262,
   "id": "4f14f7a3-3aac-4ed0-a019-90049cc6da5b",
   "metadata": {
    "execution": {
     "iopub.execute_input": "2024-10-23T21:35:32.113770Z",
     "iopub.status.busy": "2024-10-23T21:35:32.113284Z",
     "iopub.status.idle": "2024-10-23T21:35:32.163410Z",
     "shell.execute_reply": "2024-10-23T21:35:32.162934Z",
     "shell.execute_reply.started": "2024-10-23T21:35:32.113729Z"
    }
   },
   "outputs": [
    {
     "data": {
      "text/plain": [
       "dtype('O')"
      ]
     },
     "execution_count": 262,
     "metadata": {},
     "output_type": "execute_result"
    },
    {
     "data": {
      "text/plain": [
       "dtype('int64')"
      ]
     },
     "execution_count": 262,
     "metadata": {},
     "output_type": "execute_result"
    },
    {
     "data": {
      "text/plain": [
       "('JCP2022_000001', str, 14)"
      ]
     },
     "execution_count": 262,
     "metadata": {},
     "output_type": "execute_result"
    },
    {
     "data": {
      "text/plain": [
       "('JCP2022_000001', 2440241975654110680, int)"
      ]
     },
     "execution_count": 262,
     "metadata": {},
     "output_type": "execute_result"
    },
    {
     "data": {
      "text/plain": [
       "('JCP2022_000001', 2440241975654110680, int)"
      ]
     },
     "execution_count": 262,
     "metadata": {},
     "output_type": "execute_result"
    },
    {
     "data": {
      "text/plain": [
       "('JCP2022_000002', -870368651054634396, int)"
      ]
     },
     "execution_count": 262,
     "metadata": {},
     "output_type": "execute_result"
    }
   ],
   "source": [
    "df_metadata_clean.Metadata_JCP2022.dtype\n",
    "df_metadata_clean.Metadata_Hash.dtype\n",
    "_tmp = df_metadata_clean.loc[0, 'Metadata_JCP2022']\n",
    "_tmp, type(_tmp), len(_tmp)\n",
    "_tmp_hash = hash(_tmp)\n",
    "_tmp, _tmp_hash, type(_tmp_hash)\n",
    "_tmp = \"JCP2022_000001\"\n",
    "_tmp_hash = hash(_tmp)\n",
    "_tmp, _tmp_hash, type(_tmp_hash)\n",
    "_tmp = \"JCP2022_000002\"\n",
    "_tmp_hash = hash(_tmp)\n",
    "_tmp, _tmp_hash, type(_tmp_hash)"
   ]
  },
  {
   "cell_type": "code",
   "execution_count": 253,
   "id": "df5a4c70-30ab-480e-86b4-ac2a1b91738d",
   "metadata": {
    "execution": {
     "iopub.execute_input": "2024-10-23T21:15:34.418487Z",
     "iopub.status.busy": "2024-10-23T21:15:34.418026Z",
     "iopub.status.idle": "2024-10-23T21:15:34.459993Z",
     "shell.execute_reply": "2024-10-23T21:15:34.459355Z",
     "shell.execute_reply.started": "2024-10-23T21:15:34.418447Z"
    }
   },
   "outputs": [
    {
     "name": "stdout",
     "output_type": "stream",
     "text": [
      " 2440241975654110680    8 \n",
      " -870368651054634396    4 \n",
      " 6218435319191466754    2 \n",
      " 7887790091381819861    5 \n",
      " 8593306527078855415    7 \n",
      " 8650584329207170141    13 \n",
      " 2651672624543573766    6 \n",
      " 205923168286492873    9 \n",
      " 5576727983125806999    7 \n",
      " -7443320955088799461    11 \n"
     ]
    }
   ],
   "source": [
    "for i in range(10):\n",
    "    print(f\" {df_metadata.loc[i].Metadata_Hash}    {df_metadata.loc[i].Metadata_Hash % NUMBER_OF_BINS} \")    "
   ]
  },
  {
   "cell_type": "code",
   "execution_count": 38,
   "id": "456acb52-149a-4b60-a641-a755312496f9",
   "metadata": {
    "execution": {
     "iopub.execute_input": "2024-02-09T10:10:48.036068Z",
     "iopub.status.busy": "2024-02-09T10:10:48.035562Z",
     "iopub.status.idle": "2024-02-09T10:10:48.065426Z",
     "shell.execute_reply": "2024-02-09T10:10:48.064813Z",
     "shell.execute_reply.started": "2024-02-09T10:10:48.036028Z"
    }
   },
   "outputs": [
    {
     "data": {
      "text/plain": [
       "Metadata_Bin\n",
       "0     9755\n",
       "1     9507\n",
       "2     9643\n",
       "3     9781\n",
       "4     9777\n",
       "5     9763\n",
       "6     9848\n",
       "7     9752\n",
       "8     9712\n",
       "9     9693\n",
       "10    9679\n",
       "11    9781\n",
       "Name: count, dtype: int64"
      ]
     },
     "execution_count": 38,
     "metadata": {},
     "output_type": "execute_result"
    }
   ],
   "source": [
    "df_metadata.Metadata_Bin.value_counts().sort_index()"
   ]
  },
  {
   "cell_type": "markdown",
   "id": "e87d0303-b773-4dac-be33-728c8b330aeb",
   "metadata": {
    "editable": true,
    "slideshow": {
     "slide_type": ""
    },
    "tags": []
   },
   "source": [
    "# Rename and reorder columns"
   ]
  },
  {
   "cell_type": "code",
   "execution_count": 39,
   "id": "015f938a-3bd1-41e6-98f6-a7ac015ec2fb",
   "metadata": {
    "execution": {
     "iopub.execute_input": "2024-02-09T10:10:52.218785Z",
     "iopub.status.busy": "2024-02-09T10:10:52.218291Z",
     "iopub.status.idle": "2024-02-09T10:10:52.244583Z",
     "shell.execute_reply": "2024-02-09T10:10:52.244036Z",
     "shell.execute_reply.started": "2024-02-09T10:10:52.218745Z"
    }
   },
   "outputs": [
    {
     "data": {
      "text/plain": [
       "Index(['Metadata_JCP2022', 'Metadata_Hash', 'Metadata_InChIKey', 'Metadata_InChI', 'Metadata_Smiles', 'Metadata_TPSA',\n",
       "       'Metadata_lnTPSA', 'Metadata_logTPSA', 'Metadata_Permiation', 'Metadata_Bin'],\n",
       "      dtype='object')"
      ]
     },
     "execution_count": 39,
     "metadata": {},
     "output_type": "execute_result"
    }
   ],
   "source": [
    "df_metadata.columns"
   ]
  },
  {
   "cell_type": "code",
   "execution_count": 40,
   "id": "2c58f334-4d7d-48d2-8c79-7209fcfebb8c",
   "metadata": {
    "execution": {
     "iopub.execute_input": "2024-02-09T10:11:17.506008Z",
     "iopub.status.busy": "2024-02-09T10:11:17.505520Z",
     "iopub.status.idle": "2024-02-09T10:11:17.556042Z",
     "shell.execute_reply": "2024-02-09T10:11:17.555068Z",
     "shell.execute_reply.started": "2024-02-09T10:11:17.505968Z"
    }
   },
   "outputs": [],
   "source": [
    "df_metadata.rename(columns ={ 'smiles': 'Metadata_Smiles', \n",
    "                              'TPSA'  : 'Metadata_TPSA', \n",
    "                              'lnTPSA': 'Metadata_lnTPSA', \n",
    "                              'log10TPSA' : 'Metadata_log10TPSA'}, inplace=True)"
   ]
  },
  {
   "cell_type": "code",
   "execution_count": 41,
   "id": "22e592b8-f0d3-4385-9b9a-fca34ab5193a",
   "metadata": {
    "execution": {
     "iopub.execute_input": "2024-02-09T10:11:18.395597Z",
     "iopub.status.busy": "2024-02-09T10:11:18.395039Z",
     "iopub.status.idle": "2024-02-09T10:11:18.426906Z",
     "shell.execute_reply": "2024-02-09T10:11:18.426350Z",
     "shell.execute_reply.started": "2024-02-09T10:11:18.395556Z"
    }
   },
   "outputs": [
    {
     "data": {
      "text/html": [
       "<div>\n",
       "<style scoped>\n",
       "    .dataframe tbody tr th:only-of-type {\n",
       "        vertical-align: middle;\n",
       "    }\n",
       "\n",
       "    .dataframe tbody tr th {\n",
       "        vertical-align: top;\n",
       "    }\n",
       "\n",
       "    .dataframe thead th {\n",
       "        text-align: right;\n",
       "    }\n",
       "</style>\n",
       "<table border=\"1\" class=\"dataframe\">\n",
       "  <thead>\n",
       "    <tr style=\"text-align: right;\">\n",
       "      <th></th>\n",
       "      <th>Metadata_JCP2022</th>\n",
       "      <th>Metadata_Hash</th>\n",
       "      <th>Metadata_InChIKey</th>\n",
       "      <th>Metadata_InChI</th>\n",
       "      <th>Metadata_Smiles</th>\n",
       "      <th>Metadata_TPSA</th>\n",
       "      <th>Metadata_lnTPSA</th>\n",
       "      <th>Metadata_logTPSA</th>\n",
       "      <th>Metadata_Permiation</th>\n",
       "      <th>Metadata_Bin</th>\n",
       "    </tr>\n",
       "  </thead>\n",
       "  <tbody>\n",
       "    <tr>\n",
       "      <th>0</th>\n",
       "      <td>JCP2022_000001</td>\n",
       "      <td>-8640665944756343816</td>\n",
       "      <td>AAAHWCWPZPSPIW-UHFFFAOYSA-N</td>\n",
       "      <td>InChI=1S/C25H31N5O2/c1-4-23-26-14-16-30(23)24-...</td>\n",
       "      <td>CCC1=NC=CN1c2cccc(n2)C3CCCN3C(=O)c4ccc(cc4)OCC...</td>\n",
       "      <td>63.49</td>\n",
       "      <td>4.150882</td>\n",
       "      <td>1.802705</td>\n",
       "      <td>0</td>\n",
       "      <td>4</td>\n",
       "    </tr>\n",
       "    <tr>\n",
       "      <th>1</th>\n",
       "      <td>JCP2022_000002</td>\n",
       "      <td>-2058530355611931119</td>\n",
       "      <td>AAAJHRMBUHXWLD-UHFFFAOYSA-N</td>\n",
       "      <td>InChI=1S/C11H13ClN2O/c12-10-4-2-9(3-5-10)8-14-...</td>\n",
       "      <td>OC1=NCCCN1Cc2ccc(Cl)cc2</td>\n",
       "      <td>35.83</td>\n",
       "      <td>3.578786</td>\n",
       "      <td>1.554247</td>\n",
       "      <td>0</td>\n",
       "      <td>1</td>\n",
       "    </tr>\n",
       "  </tbody>\n",
       "</table>\n",
       "</div>"
      ],
      "text/plain": [
       "  Metadata_JCP2022        Metadata_Hash            Metadata_InChIKey                                     Metadata_InChI  \\\n",
       "0   JCP2022_000001 -8640665944756343816  AAAHWCWPZPSPIW-UHFFFAOYSA-N  InChI=1S/C25H31N5O2/c1-4-23-26-14-16-30(23)24-...   \n",
       "1   JCP2022_000002 -2058530355611931119  AAAJHRMBUHXWLD-UHFFFAOYSA-N  InChI=1S/C11H13ClN2O/c12-10-4-2-9(3-5-10)8-14-...   \n",
       "\n",
       "                                     Metadata_Smiles  Metadata_TPSA  Metadata_lnTPSA  Metadata_logTPSA  Metadata_Permiation  \\\n",
       "0  CCC1=NC=CN1c2cccc(n2)C3CCCN3C(=O)c4ccc(cc4)OCC...          63.49         4.150882          1.802705                    0   \n",
       "1                            OC1=NCCCN1Cc2ccc(Cl)cc2          35.83         3.578786          1.554247                    0   \n",
       "\n",
       "   Metadata_Bin  \n",
       "0             4  \n",
       "1             1  "
      ]
     },
     "execution_count": 41,
     "metadata": {},
     "output_type": "execute_result"
    }
   ],
   "source": [
    "df_metadata.head(2)"
   ]
  },
  {
   "cell_type": "code",
   "execution_count": 42,
   "id": "589a2448-28be-4e6d-bb4e-a30c05da9228",
   "metadata": {
    "execution": {
     "iopub.execute_input": "2024-02-09T10:11:21.151494Z",
     "iopub.status.busy": "2024-02-09T10:11:21.150847Z",
     "iopub.status.idle": "2024-02-09T10:11:21.182258Z",
     "shell.execute_reply": "2024-02-09T10:11:21.181690Z",
     "shell.execute_reply.started": "2024-02-09T10:11:21.151439Z"
    }
   },
   "outputs": [
    {
     "data": {
      "text/html": [
       "<div>\n",
       "<style scoped>\n",
       "    .dataframe tbody tr th:only-of-type {\n",
       "        vertical-align: middle;\n",
       "    }\n",
       "\n",
       "    .dataframe tbody tr th {\n",
       "        vertical-align: top;\n",
       "    }\n",
       "\n",
       "    .dataframe thead th {\n",
       "        text-align: right;\n",
       "    }\n",
       "</style>\n",
       "<table border=\"1\" class=\"dataframe\">\n",
       "  <thead>\n",
       "    <tr style=\"text-align: right;\">\n",
       "      <th></th>\n",
       "      <th>Metadata_JCP2022</th>\n",
       "      <th>Metadata_Hash</th>\n",
       "      <th>Metadata_InChIKey</th>\n",
       "      <th>Metadata_InChI</th>\n",
       "      <th>Metadata_Smiles</th>\n",
       "      <th>Metadata_TPSA</th>\n",
       "      <th>Metadata_lnTPSA</th>\n",
       "      <th>Metadata_logTPSA</th>\n",
       "      <th>Metadata_Permiation</th>\n",
       "      <th>Metadata_Bin</th>\n",
       "    </tr>\n",
       "  </thead>\n",
       "  <tbody>\n",
       "    <tr>\n",
       "      <th>0</th>\n",
       "      <td>JCP2022_000001</td>\n",
       "      <td>-8640665944756343816</td>\n",
       "      <td>AAAHWCWPZPSPIW-UHFFFAOYSA-N</td>\n",
       "      <td>InChI=1S/C25H31N5O2/c1-4-23-26-14-16-30(23)24-...</td>\n",
       "      <td>CCC1=NC=CN1c2cccc(n2)C3CCCN3C(=O)c4ccc(cc4)OCC...</td>\n",
       "      <td>63.49</td>\n",
       "      <td>4.150882</td>\n",
       "      <td>1.802705</td>\n",
       "      <td>0</td>\n",
       "      <td>4</td>\n",
       "    </tr>\n",
       "    <tr>\n",
       "      <th>1</th>\n",
       "      <td>JCP2022_000002</td>\n",
       "      <td>-2058530355611931119</td>\n",
       "      <td>AAAJHRMBUHXWLD-UHFFFAOYSA-N</td>\n",
       "      <td>InChI=1S/C11H13ClN2O/c12-10-4-2-9(3-5-10)8-14-...</td>\n",
       "      <td>OC1=NCCCN1Cc2ccc(Cl)cc2</td>\n",
       "      <td>35.83</td>\n",
       "      <td>3.578786</td>\n",
       "      <td>1.554247</td>\n",
       "      <td>0</td>\n",
       "      <td>1</td>\n",
       "    </tr>\n",
       "  </tbody>\n",
       "</table>\n",
       "</div>"
      ],
      "text/plain": [
       "  Metadata_JCP2022        Metadata_Hash            Metadata_InChIKey                                     Metadata_InChI  \\\n",
       "0   JCP2022_000001 -8640665944756343816  AAAHWCWPZPSPIW-UHFFFAOYSA-N  InChI=1S/C25H31N5O2/c1-4-23-26-14-16-30(23)24-...   \n",
       "1   JCP2022_000002 -2058530355611931119  AAAJHRMBUHXWLD-UHFFFAOYSA-N  InChI=1S/C11H13ClN2O/c12-10-4-2-9(3-5-10)8-14-...   \n",
       "\n",
       "                                     Metadata_Smiles  Metadata_TPSA  Metadata_lnTPSA  Metadata_logTPSA  Metadata_Permiation  \\\n",
       "0  CCC1=NC=CN1c2cccc(n2)C3CCCN3C(=O)c4ccc(cc4)OCC...          63.49         4.150882          1.802705                    0   \n",
       "1                            OC1=NCCCN1Cc2ccc(Cl)cc2          35.83         3.578786          1.554247                    0   \n",
       "\n",
       "   Metadata_Bin  \n",
       "0             4  \n",
       "1             1  "
      ]
     },
     "execution_count": 42,
     "metadata": {},
     "output_type": "execute_result"
    }
   ],
   "source": [
    "df_metadata.head(2)"
   ]
  },
  {
   "cell_type": "code",
   "execution_count": 43,
   "id": "85da4342-39fc-40c1-9a28-b8eed3507c94",
   "metadata": {
    "execution": {
     "iopub.execute_input": "2024-02-09T10:11:55.295627Z",
     "iopub.status.busy": "2024-02-09T10:11:55.295124Z",
     "iopub.status.idle": "2024-02-09T10:11:55.329730Z",
     "shell.execute_reply": "2024-02-09T10:11:55.329103Z",
     "shell.execute_reply.started": "2024-02-09T10:11:55.295588Z"
    }
   },
   "outputs": [],
   "source": [
    "df_metadata = df_metadata[['Metadata_JCP2022', 'Metadata_Hash', 'Metadata_Bin', 'Metadata_InChIKey', 'Metadata_InChI', 'Metadata_Smiles', 'Metadata_TPSA', 'Metadata_lnTPSA',\n",
    "       'Metadata_logTPSA', 'Metadata_Permiation', ]]"
   ]
  },
  {
   "cell_type": "code",
   "execution_count": 44,
   "id": "ace4e008-d2ff-45d5-8dc9-dc643ec3597b",
   "metadata": {
    "execution": {
     "iopub.execute_input": "2024-02-09T10:12:01.867749Z",
     "iopub.status.busy": "2024-02-09T10:12:01.867240Z",
     "iopub.status.idle": "2024-02-09T10:12:01.900031Z",
     "shell.execute_reply": "2024-02-09T10:12:01.899315Z",
     "shell.execute_reply.started": "2024-02-09T10:12:01.867708Z"
    }
   },
   "outputs": [
    {
     "data": {
      "text/html": [
       "<div>\n",
       "<style scoped>\n",
       "    .dataframe tbody tr th:only-of-type {\n",
       "        vertical-align: middle;\n",
       "    }\n",
       "\n",
       "    .dataframe tbody tr th {\n",
       "        vertical-align: top;\n",
       "    }\n",
       "\n",
       "    .dataframe thead th {\n",
       "        text-align: right;\n",
       "    }\n",
       "</style>\n",
       "<table border=\"1\" class=\"dataframe\">\n",
       "  <thead>\n",
       "    <tr style=\"text-align: right;\">\n",
       "      <th></th>\n",
       "      <th>Metadata_JCP2022</th>\n",
       "      <th>Metadata_Hash</th>\n",
       "      <th>Metadata_Bin</th>\n",
       "      <th>Metadata_InChIKey</th>\n",
       "      <th>Metadata_InChI</th>\n",
       "      <th>Metadata_Smiles</th>\n",
       "      <th>Metadata_TPSA</th>\n",
       "      <th>Metadata_lnTPSA</th>\n",
       "      <th>Metadata_logTPSA</th>\n",
       "      <th>Metadata_Permiation</th>\n",
       "    </tr>\n",
       "  </thead>\n",
       "  <tbody>\n",
       "    <tr>\n",
       "      <th>0</th>\n",
       "      <td>JCP2022_000001</td>\n",
       "      <td>-8640665944756343816</td>\n",
       "      <td>4</td>\n",
       "      <td>AAAHWCWPZPSPIW-UHFFFAOYSA-N</td>\n",
       "      <td>InChI=1S/C25H31N5O2/c1-4-23-26-14-16-30(23)24-...</td>\n",
       "      <td>CCC1=NC=CN1c2cccc(n2)C3CCCN3C(=O)c4ccc(cc4)OCC...</td>\n",
       "      <td>63.49</td>\n",
       "      <td>4.150882</td>\n",
       "      <td>1.802705</td>\n",
       "      <td>0</td>\n",
       "    </tr>\n",
       "    <tr>\n",
       "      <th>1</th>\n",
       "      <td>JCP2022_000002</td>\n",
       "      <td>-2058530355611931119</td>\n",
       "      <td>1</td>\n",
       "      <td>AAAJHRMBUHXWLD-UHFFFAOYSA-N</td>\n",
       "      <td>InChI=1S/C11H13ClN2O/c12-10-4-2-9(3-5-10)8-14-...</td>\n",
       "      <td>OC1=NCCCN1Cc2ccc(Cl)cc2</td>\n",
       "      <td>35.83</td>\n",
       "      <td>3.578786</td>\n",
       "      <td>1.554247</td>\n",
       "      <td>0</td>\n",
       "    </tr>\n",
       "    <tr>\n",
       "      <th>2</th>\n",
       "      <td>JCP2022_000003</td>\n",
       "      <td>8228137599824226564</td>\n",
       "      <td>0</td>\n",
       "      <td>AAALVYBICLMAMA-UHFFFAOYSA-N</td>\n",
       "      <td>InChI=1S/C20H15N3O2/c24-19-15-11-17(21-13-7-3-...</td>\n",
       "      <td>OC2=NC(=O)c3cc(Nc1ccccc1)c(cc23)Nc4ccccc4</td>\n",
       "      <td>73.72</td>\n",
       "      <td>4.300274</td>\n",
       "      <td>1.867585</td>\n",
       "      <td>0</td>\n",
       "    </tr>\n",
       "    <tr>\n",
       "      <th>3</th>\n",
       "      <td>JCP2022_000004</td>\n",
       "      <td>2222818783381135156</td>\n",
       "      <td>4</td>\n",
       "      <td>AAANUZMCJQUYNX-UHFFFAOYSA-N</td>\n",
       "      <td>InChI=1S/C13H22N4O2S/c1-2-7-16-13(5-6-15-16)20...</td>\n",
       "      <td>CCCN1N=CC=C1S(=O)(=O)N2CC3CNCC2CC3</td>\n",
       "      <td>67.23</td>\n",
       "      <td>4.208120</td>\n",
       "      <td>1.827563</td>\n",
       "      <td>0</td>\n",
       "    </tr>\n",
       "    <tr>\n",
       "      <th>4</th>\n",
       "      <td>JCP2022_000005</td>\n",
       "      <td>-5338746385487734035</td>\n",
       "      <td>9</td>\n",
       "      <td>AAAQFGUYHFJNHI-UHFFFAOYSA-N</td>\n",
       "      <td>InChI=1S/C22H22ClN5O2/c1-4-24-20(29)12-18-22-2...</td>\n",
       "      <td>CCN=C(O)CC3N=C(c1ccc(Cl)cc1)c2cc(ccc2N4C(C)=NN...</td>\n",
       "      <td>84.89</td>\n",
       "      <td>4.441356</td>\n",
       "      <td>1.928857</td>\n",
       "      <td>0</td>\n",
       "    </tr>\n",
       "    <tr>\n",
       "      <th>...</th>\n",
       "      <td>...</td>\n",
       "      <td>...</td>\n",
       "      <td>...</td>\n",
       "      <td>...</td>\n",
       "      <td>...</td>\n",
       "      <td>...</td>\n",
       "      <td>...</td>\n",
       "      <td>...</td>\n",
       "      <td>...</td>\n",
       "      <td>...</td>\n",
       "    </tr>\n",
       "    <tr>\n",
       "      <th>116686</th>\n",
       "      <td>JCP2022_116749</td>\n",
       "      <td>-2319171568672221400</td>\n",
       "      <td>8</td>\n",
       "      <td>ZZZRUAITSXLWBH-UHFFFAOYSA-N</td>\n",
       "      <td>InChI=1S/C23H27N3O7/c1-25(2)12-5-6-13(27)15-10...</td>\n",
       "      <td>CN(C)C3C(=O)C(C(=N)O)C(=O)C4(O)C(=O)C2C(=O)c1c...</td>\n",
       "      <td>159.30</td>\n",
       "      <td>5.070789</td>\n",
       "      <td>2.202216</td>\n",
       "      <td>1</td>\n",
       "    </tr>\n",
       "    <tr>\n",
       "      <th>116687</th>\n",
       "      <td>JCP2022_116750</td>\n",
       "      <td>9161564570943414536</td>\n",
       "      <td>8</td>\n",
       "      <td>ZZZTXDPKNAOZPM-UHFFFAOYSA-N</td>\n",
       "      <td>InChI=1S/C22H27N3O2/c1-14-18(22(27)24-15(2)23-...</td>\n",
       "      <td>Cc4nc(C)c(CCC(=O)N(C1CC1)C2CCCc3ccccc23)c(O)n4</td>\n",
       "      <td>66.32</td>\n",
       "      <td>4.194492</td>\n",
       "      <td>1.821645</td>\n",
       "      <td>0</td>\n",
       "    </tr>\n",
       "    <tr>\n",
       "      <th>116688</th>\n",
       "      <td>JCP2022_116751</td>\n",
       "      <td>5024933905542715644</td>\n",
       "      <td>0</td>\n",
       "      <td>ZZZUOLMMTJKOGE-UHFFFAOYSA-N</td>\n",
       "      <td>InChI=1S/C19H17N5O2/c1-23-9-6-13-7-10-24(19(26...</td>\n",
       "      <td>CN4C=CC3C=CN(CCN=C(O)c2cnc1ccccc1n2)C(=O)C=34</td>\n",
       "      <td>85.30</td>\n",
       "      <td>4.446174</td>\n",
       "      <td>1.930949</td>\n",
       "      <td>0</td>\n",
       "    </tr>\n",
       "    <tr>\n",
       "      <th>116689</th>\n",
       "      <td>JCP2022_116752</td>\n",
       "      <td>8043583690001075349</td>\n",
       "      <td>9</td>\n",
       "      <td>ZZZZIBSVRUABIA-UHFFFAOYSA-N</td>\n",
       "      <td>InChI=1S/C19H13F6N3O2S/c1-11-26-6-5-17(27-11)1...</td>\n",
       "      <td>Cc1nccc(n1)c2cccc(c2)NS(=O)(=O)c3cc(cc(c3)C(F)...</td>\n",
       "      <td>71.95</td>\n",
       "      <td>4.275971</td>\n",
       "      <td>1.857031</td>\n",
       "      <td>0</td>\n",
       "    </tr>\n",
       "    <tr>\n",
       "      <th>116690</th>\n",
       "      <td>JCP2022_116753</td>\n",
       "      <td>-9112886486787329276</td>\n",
       "      <td>4</td>\n",
       "      <td>ZZZZVNLQWWXZTQ-UHFFFAOYSA-N</td>\n",
       "      <td>InChI=1S/C14H20N2O3/c1-18-13-5-3-2-4-12(13)14(...</td>\n",
       "      <td>COc1ccccc1C(O)=NCCN2CCOCC2</td>\n",
       "      <td>54.29</td>\n",
       "      <td>3.994340</td>\n",
       "      <td>1.734720</td>\n",
       "      <td>0</td>\n",
       "    </tr>\n",
       "  </tbody>\n",
       "</table>\n",
       "<p>116691 rows × 10 columns</p>\n",
       "</div>"
      ],
      "text/plain": [
       "       Metadata_JCP2022        Metadata_Hash  Metadata_Bin            Metadata_InChIKey  \\\n",
       "0        JCP2022_000001 -8640665944756343816             4  AAAHWCWPZPSPIW-UHFFFAOYSA-N   \n",
       "1        JCP2022_000002 -2058530355611931119             1  AAAJHRMBUHXWLD-UHFFFAOYSA-N   \n",
       "2        JCP2022_000003  8228137599824226564             0  AAALVYBICLMAMA-UHFFFAOYSA-N   \n",
       "3        JCP2022_000004  2222818783381135156             4  AAANUZMCJQUYNX-UHFFFAOYSA-N   \n",
       "4        JCP2022_000005 -5338746385487734035             9  AAAQFGUYHFJNHI-UHFFFAOYSA-N   \n",
       "...                 ...                  ...           ...                          ...   \n",
       "116686   JCP2022_116749 -2319171568672221400             8  ZZZRUAITSXLWBH-UHFFFAOYSA-N   \n",
       "116687   JCP2022_116750  9161564570943414536             8  ZZZTXDPKNAOZPM-UHFFFAOYSA-N   \n",
       "116688   JCP2022_116751  5024933905542715644             0  ZZZUOLMMTJKOGE-UHFFFAOYSA-N   \n",
       "116689   JCP2022_116752  8043583690001075349             9  ZZZZIBSVRUABIA-UHFFFAOYSA-N   \n",
       "116690   JCP2022_116753 -9112886486787329276             4  ZZZZVNLQWWXZTQ-UHFFFAOYSA-N   \n",
       "\n",
       "                                           Metadata_InChI                                    Metadata_Smiles  Metadata_TPSA  \\\n",
       "0       InChI=1S/C25H31N5O2/c1-4-23-26-14-16-30(23)24-...  CCC1=NC=CN1c2cccc(n2)C3CCCN3C(=O)c4ccc(cc4)OCC...          63.49   \n",
       "1       InChI=1S/C11H13ClN2O/c12-10-4-2-9(3-5-10)8-14-...                            OC1=NCCCN1Cc2ccc(Cl)cc2          35.83   \n",
       "2       InChI=1S/C20H15N3O2/c24-19-15-11-17(21-13-7-3-...          OC2=NC(=O)c3cc(Nc1ccccc1)c(cc23)Nc4ccccc4          73.72   \n",
       "3       InChI=1S/C13H22N4O2S/c1-2-7-16-13(5-6-15-16)20...                 CCCN1N=CC=C1S(=O)(=O)N2CC3CNCC2CC3          67.23   \n",
       "4       InChI=1S/C22H22ClN5O2/c1-4-24-20(29)12-18-22-2...  CCN=C(O)CC3N=C(c1ccc(Cl)cc1)c2cc(ccc2N4C(C)=NN...          84.89   \n",
       "...                                                   ...                                                ...            ...   \n",
       "116686  InChI=1S/C23H27N3O7/c1-25(2)12-5-6-13(27)15-10...  CN(C)C3C(=O)C(C(=N)O)C(=O)C4(O)C(=O)C2C(=O)c1c...         159.30   \n",
       "116687  InChI=1S/C22H27N3O2/c1-14-18(22(27)24-15(2)23-...     Cc4nc(C)c(CCC(=O)N(C1CC1)C2CCCc3ccccc23)c(O)n4          66.32   \n",
       "116688  InChI=1S/C19H17N5O2/c1-23-9-6-13-7-10-24(19(26...      CN4C=CC3C=CN(CCN=C(O)c2cnc1ccccc1n2)C(=O)C=34          85.30   \n",
       "116689  InChI=1S/C19H13F6N3O2S/c1-11-26-6-5-17(27-11)1...  Cc1nccc(n1)c2cccc(c2)NS(=O)(=O)c3cc(cc(c3)C(F)...          71.95   \n",
       "116690  InChI=1S/C14H20N2O3/c1-18-13-5-3-2-4-12(13)14(...                         COc1ccccc1C(O)=NCCN2CCOCC2          54.29   \n",
       "\n",
       "        Metadata_lnTPSA  Metadata_logTPSA  Metadata_Permiation  \n",
       "0              4.150882          1.802705                    0  \n",
       "1              3.578786          1.554247                    0  \n",
       "2              4.300274          1.867585                    0  \n",
       "3              4.208120          1.827563                    0  \n",
       "4              4.441356          1.928857                    0  \n",
       "...                 ...               ...                  ...  \n",
       "116686         5.070789          2.202216                    1  \n",
       "116687         4.194492          1.821645                    0  \n",
       "116688         4.446174          1.930949                    0  \n",
       "116689         4.275971          1.857031                    0  \n",
       "116690         3.994340          1.734720                    0  \n",
       "\n",
       "[116691 rows x 10 columns]"
      ]
     },
     "execution_count": 44,
     "metadata": {},
     "output_type": "execute_result"
    }
   ],
   "source": [
    "df_metadata"
   ]
  },
  {
   "cell_type": "markdown",
   "id": "122c6d6e-d34b-4b23-bb01-c7e728fb883d",
   "metadata": {
    "heading_collapsed": true
   },
   "source": [
    "## Write `df_metadata` and `df_tpsa` to output files"
   ]
  },
  {
   "cell_type": "markdown",
   "id": "f01567ce-8e91-4e22-a2bf-4b8d6fd32e7b",
   "metadata": {},
   "source": [
    "### Write `compoundMetadataTPSACleanFile`"
   ]
  },
  {
   "cell_type": "code",
   "execution_count": null,
   "id": "815b6533-1f66-4b66-b7b5-fc6433f291f0",
   "metadata": {
    "ExecuteTime": {
     "end_time": "2023-06-28T19:27:20.106770Z",
     "start_time": "2023-06-28T19:27:20.022196Z"
    },
    "execution": {
     "iopub.execute_input": "2024-01-24T12:37:38.734261Z",
     "iopub.status.busy": "2024-01-24T12:37:38.733792Z",
     "iopub.status.idle": "2024-01-24T12:37:38.758091Z",
     "shell.execute_reply": "2024-01-24T12:37:38.757309Z",
     "shell.execute_reply.started": "2024-01-24T12:37:38.734222Z"
    },
    "hidden": true
   },
   "outputs": [],
   "source": [
    "print(f\" OUTPUT - compound Metadata + TPSA Cleaned File : {compoundMetadataTPSACleanFile}\")\n",
    "print(f\" --> compound Metadata + TPSA Cleaned File      : {compoundMetadataTPSACleanFile}\\n\")"
   ]
  },
  {
   "cell_type": "code",
   "execution_count": 55,
   "id": "0cf99a05-10ca-46d7-8e67-fb5db2ab0deb",
   "metadata": {
    "ExecuteTime": {
     "end_time": "2023-06-28T19:27:25.213141Z",
     "start_time": "2023-06-28T19:27:25.177451Z"
    },
    "execution": {
     "iopub.execute_input": "2024-01-24T12:37:40.456585Z",
     "iopub.status.busy": "2024-01-24T12:37:40.456104Z",
     "iopub.status.idle": "2024-01-24T12:37:41.933917Z",
     "shell.execute_reply": "2024-01-24T12:37:41.932277Z",
     "shell.execute_reply.started": "2024-01-24T12:37:40.456545Z"
    },
    "hidden": true
   },
   "outputs": [],
   "source": [
    "df_metadata.to_csv(compoundMetadataTPSACleanFile, index = False)"
   ]
  },
  {
   "cell_type": "markdown",
   "id": "e0736453-a744-4f2c-b261-abd8c0043ff4",
   "metadata": {},
   "source": [
    "### write `compoundTPSACleanFile`"
   ]
  },
  {
   "cell_type": "code",
   "execution_count": 56,
   "id": "9abc560d",
   "metadata": {
    "ExecuteTime": {
     "end_time": "2023-06-28T19:28:11.682858Z",
     "start_time": "2023-06-28T19:28:11.644028Z"
    },
    "execution": {
     "iopub.execute_input": "2024-01-24T12:37:47.173768Z",
     "iopub.status.busy": "2024-01-24T12:37:47.173201Z",
     "iopub.status.idle": "2024-01-24T12:37:47.212728Z",
     "shell.execute_reply": "2024-01-24T12:37:47.211779Z",
     "shell.execute_reply.started": "2024-01-24T12:37:47.173721Z"
    },
    "hidden": true
   },
   "outputs": [
    {
     "name": "stdout",
     "output_type": "stream",
     "text": [
      "--> compound TPSA Clean File                 : ./output_11102023/compound_TPSA_clean.csv\n",
      "\n"
     ]
    }
   ],
   "source": [
    "print(f\" OUTPUT - compound TPSA Clean File              : {compoundTPSACleanFile}\\n\")"
   ]
  },
  {
   "cell_type": "code",
   "execution_count": 58,
   "id": "b17dd4be",
   "metadata": {
    "ExecuteTime": {
     "end_time": "2023-06-28T19:29:00.895937Z",
     "start_time": "2023-06-28T19:29:00.711886Z"
    },
    "execution": {
     "iopub.execute_input": "2024-01-24T12:38:05.666530Z",
     "iopub.status.busy": "2024-01-24T12:38:05.666005Z",
     "iopub.status.idle": "2024-01-24T12:38:05.935849Z",
     "shell.execute_reply": "2024-01-24T12:38:05.934936Z",
     "shell.execute_reply.started": "2024-01-24T12:38:05.666487Z"
    },
    "hidden": true
   },
   "outputs": [],
   "source": [
    "df_tpsa.to_csv(compoundTPSACleanFile, index = False, columns=['JCP2022', 'TPSA', 'permiation'])"
   ]
  },
  {
   "cell_type": "code",
   "execution_count": 72,
   "id": "868957a7-1e84-47bf-94fc-2bb8e1c8be72",
   "metadata": {
    "ExecuteTime": {
     "end_time": "2023-06-28T19:30:06.230059Z",
     "start_time": "2023-06-28T19:30:06.195756Z"
    },
    "execution": {
     "iopub.execute_input": "2023-11-10T21:25:59.693643Z",
     "iopub.status.busy": "2023-11-10T21:25:59.693385Z",
     "iopub.status.idle": "2023-11-10T21:25:59.706241Z",
     "shell.execute_reply": "2023-11-10T21:25:59.705390Z",
     "shell.execute_reply.started": "2023-11-10T21:25:59.693628Z"
    },
    "hidden": true
   },
   "outputs": [],
   "source": [
    "# del df_tpsa\n",
    "# del df_metadata\n",
    "# del df_nans,\n",
    "# del df_smiles\n",
    "# del df_tpsa_zero\n",
    "# del df_tpsa_nan\n",
    "# del df_tpsa_inv\n",
    "# del df_md_zero\n",
    "# del df_md_nan\n",
    "# del df_md_inv\n",
    "# del df"
   ]
  },
  {
   "cell_type": "markdown",
   "id": "41d9a816-efda-4d4d-a97a-800fa2454cde",
   "metadata": {},
   "source": [
    "## check the files we just wrote \n"
   ]
  },
  {
   "cell_type": "markdown",
   "id": "380f709f-2fd5-4f1f-bfee-53dc924d6a4c",
   "metadata": {},
   "source": [
    "### `compoundMetadataTPSACleanFile`"
   ]
  },
  {
   "cell_type": "code",
   "execution_count": 8,
   "id": "bd9c3358-95a9-4756-9066-6bea9a2eea74",
   "metadata": {
    "execution": {
     "iopub.execute_input": "2024-02-07T11:59:52.129826Z",
     "iopub.status.busy": "2024-02-07T11:59:52.129423Z",
     "iopub.status.idle": "2024-02-07T11:59:52.154786Z",
     "shell.execute_reply": "2024-02-07T11:59:52.153950Z",
     "shell.execute_reply.started": "2024-02-07T11:59:52.129794Z"
    }
   },
   "outputs": [
    {
     "name": "stdout",
     "output_type": "stream",
     "text": [
      "./output_11102023/compound_metadata_tpsa_clean.csv\n"
     ]
    }
   ],
   "source": [
    "print(compoundMetadataTPSACleanFile)"
   ]
  },
  {
   "cell_type": "code",
   "execution_count": 9,
   "id": "de0fa479-2434-48a4-82d4-b03ba16ae3c7",
   "metadata": {
    "ExecuteTime": {
     "end_time": "2023-06-28T19:37:50.587623Z",
     "start_time": "2023-06-28T19:37:50.503671Z"
    },
    "execution": {
     "iopub.execute_input": "2024-02-07T11:59:54.623052Z",
     "iopub.status.busy": "2024-02-07T11:59:54.622223Z",
     "iopub.status.idle": "2024-02-07T11:59:55.186996Z",
     "shell.execute_reply": "2024-02-07T11:59:55.186325Z",
     "shell.execute_reply.started": "2024-02-07T11:59:54.623008Z"
    }
   },
   "outputs": [
    {
     "name": "stdout",
     "output_type": "stream",
     "text": [
      "<class 'pandas.core.frame.DataFrame'>\n",
      "RangeIndex: 116691 entries, 0 to 116690\n",
      "Data columns (total 8 columns):\n",
      " #   Column             Non-Null Count   Dtype  \n",
      "---  ------             --------------   -----  \n",
      " 0   Metadata_JCP2022   116691 non-null  object \n",
      " 1   Metadata_InChIKey  116691 non-null  object \n",
      " 2   Metadata_InChI     116691 non-null  object \n",
      " 3   smiles             116691 non-null  object \n",
      " 4   TPSA               116691 non-null  float64\n",
      " 5   lnTPSA             116691 non-null  float64\n",
      " 6   log10TPSA          116691 non-null  float64\n",
      " 7   permiation         116691 non-null  int64  \n",
      "dtypes: float64(3), int64(1), object(4)\n",
      "memory usage: 7.1+ MB\n"
     ]
    },
    {
     "data": {
      "text/html": [
       "<div>\n",
       "<style scoped>\n",
       "    .dataframe tbody tr th:only-of-type {\n",
       "        vertical-align: middle;\n",
       "    }\n",
       "\n",
       "    .dataframe tbody tr th {\n",
       "        vertical-align: top;\n",
       "    }\n",
       "\n",
       "    .dataframe thead th {\n",
       "        text-align: right;\n",
       "    }\n",
       "</style>\n",
       "<table border=\"1\" class=\"dataframe\">\n",
       "  <thead>\n",
       "    <tr style=\"text-align: right;\">\n",
       "      <th></th>\n",
       "      <th>Metadata_JCP2022</th>\n",
       "      <th>Metadata_InChIKey</th>\n",
       "      <th>Metadata_InChI</th>\n",
       "      <th>smiles</th>\n",
       "      <th>TPSA</th>\n",
       "      <th>lnTPSA</th>\n",
       "      <th>log10TPSA</th>\n",
       "      <th>permiation</th>\n",
       "    </tr>\n",
       "  </thead>\n",
       "  <tbody>\n",
       "    <tr>\n",
       "      <th>116686</th>\n",
       "      <td>JCP2022_116749</td>\n",
       "      <td>ZZZRUAITSXLWBH-UHFFFAOYSA-N</td>\n",
       "      <td>InChI=1S/C23H27N3O7/c1-25(2)12-5-6-13(27)15-10...</td>\n",
       "      <td>CN(C)C3C(=O)C(C(=N)O)C(=O)C4(O)C(=O)C2C(=O)c1c...</td>\n",
       "      <td>159.30</td>\n",
       "      <td>5.070789</td>\n",
       "      <td>2.202216</td>\n",
       "      <td>1</td>\n",
       "    </tr>\n",
       "    <tr>\n",
       "      <th>116687</th>\n",
       "      <td>JCP2022_116750</td>\n",
       "      <td>ZZZTXDPKNAOZPM-UHFFFAOYSA-N</td>\n",
       "      <td>InChI=1S/C22H27N3O2/c1-14-18(22(27)24-15(2)23-...</td>\n",
       "      <td>Cc4nc(C)c(CCC(=O)N(C1CC1)C2CCCc3ccccc23)c(O)n4</td>\n",
       "      <td>66.32</td>\n",
       "      <td>4.194492</td>\n",
       "      <td>1.821645</td>\n",
       "      <td>0</td>\n",
       "    </tr>\n",
       "    <tr>\n",
       "      <th>116688</th>\n",
       "      <td>JCP2022_116751</td>\n",
       "      <td>ZZZUOLMMTJKOGE-UHFFFAOYSA-N</td>\n",
       "      <td>InChI=1S/C19H17N5O2/c1-23-9-6-13-7-10-24(19(26...</td>\n",
       "      <td>CN4C=CC3C=CN(CCN=C(O)c2cnc1ccccc1n2)C(=O)C=34</td>\n",
       "      <td>85.30</td>\n",
       "      <td>4.446174</td>\n",
       "      <td>1.930949</td>\n",
       "      <td>0</td>\n",
       "    </tr>\n",
       "    <tr>\n",
       "      <th>116689</th>\n",
       "      <td>JCP2022_116752</td>\n",
       "      <td>ZZZZIBSVRUABIA-UHFFFAOYSA-N</td>\n",
       "      <td>InChI=1S/C19H13F6N3O2S/c1-11-26-6-5-17(27-11)1...</td>\n",
       "      <td>Cc1nccc(n1)c2cccc(c2)NS(=O)(=O)c3cc(cc(c3)C(F)...</td>\n",
       "      <td>71.95</td>\n",
       "      <td>4.275971</td>\n",
       "      <td>1.857031</td>\n",
       "      <td>0</td>\n",
       "    </tr>\n",
       "    <tr>\n",
       "      <th>116690</th>\n",
       "      <td>JCP2022_116753</td>\n",
       "      <td>ZZZZVNLQWWXZTQ-UHFFFAOYSA-N</td>\n",
       "      <td>InChI=1S/C14H20N2O3/c1-18-13-5-3-2-4-12(13)14(...</td>\n",
       "      <td>COc1ccccc1C(O)=NCCN2CCOCC2</td>\n",
       "      <td>54.29</td>\n",
       "      <td>3.994340</td>\n",
       "      <td>1.734720</td>\n",
       "      <td>0</td>\n",
       "    </tr>\n",
       "  </tbody>\n",
       "</table>\n",
       "</div>"
      ],
      "text/plain": [
       "       Metadata_JCP2022            Metadata_InChIKey                                     Metadata_InChI  \\\n",
       "116686   JCP2022_116749  ZZZRUAITSXLWBH-UHFFFAOYSA-N  InChI=1S/C23H27N3O7/c1-25(2)12-5-6-13(27)15-10...   \n",
       "116687   JCP2022_116750  ZZZTXDPKNAOZPM-UHFFFAOYSA-N  InChI=1S/C22H27N3O2/c1-14-18(22(27)24-15(2)23-...   \n",
       "116688   JCP2022_116751  ZZZUOLMMTJKOGE-UHFFFAOYSA-N  InChI=1S/C19H17N5O2/c1-23-9-6-13-7-10-24(19(26...   \n",
       "116689   JCP2022_116752  ZZZZIBSVRUABIA-UHFFFAOYSA-N  InChI=1S/C19H13F6N3O2S/c1-11-26-6-5-17(27-11)1...   \n",
       "116690   JCP2022_116753  ZZZZVNLQWWXZTQ-UHFFFAOYSA-N  InChI=1S/C14H20N2O3/c1-18-13-5-3-2-4-12(13)14(...   \n",
       "\n",
       "                                                   smiles    TPSA    lnTPSA  log10TPSA  permiation  \n",
       "116686  CN(C)C3C(=O)C(C(=N)O)C(=O)C4(O)C(=O)C2C(=O)c1c...  159.30  5.070789   2.202216           1  \n",
       "116687     Cc4nc(C)c(CCC(=O)N(C1CC1)C2CCCc3ccccc23)c(O)n4   66.32  4.194492   1.821645           0  \n",
       "116688      CN4C=CC3C=CN(CCN=C(O)c2cnc1ccccc1n2)C(=O)C=34   85.30  4.446174   1.930949           0  \n",
       "116689  Cc1nccc(n1)c2cccc(c2)NS(=O)(=O)c3cc(cc(c3)C(F)...   71.95  4.275971   1.857031           0  \n",
       "116690                         COc1ccccc1C(O)=NCCN2CCOCC2   54.29  3.994340   1.734720           0  "
      ]
     },
     "execution_count": 9,
     "metadata": {},
     "output_type": "execute_result"
    },
    {
     "data": {
      "text/plain": [
       "permiation\n",
       "0    102417\n",
       "1     14274\n",
       "Name: count, dtype: int64"
      ]
     },
     "execution_count": 9,
     "metadata": {},
     "output_type": "execute_result"
    }
   ],
   "source": [
    "df_metadata = pd.read_csv(compoundMetadataTPSACleanFile)\n",
    "df_metadata.info()\n",
    "# df_metadata.head(5)\n",
    "df_metadata.tail(5)\n",
    "df_metadata.permiation.value_counts()"
   ]
  },
  {
   "cell_type": "markdown",
   "id": "a7404fd7-d4ec-4c75-bb89-41915e1bbc74",
   "metadata": {},
   "source": [
    "### `compoundTPSACleanFile`"
   ]
  },
  {
   "cell_type": "code",
   "execution_count": 7,
   "id": "c2d638cd-b980-4872-a39a-a6b3f3cf6604",
   "metadata": {
    "execution": {
     "iopub.execute_input": "2024-02-07T11:59:19.188464Z",
     "iopub.status.busy": "2024-02-07T11:59:19.187972Z",
     "iopub.status.idle": "2024-02-07T11:59:19.211836Z",
     "shell.execute_reply": "2024-02-07T11:59:19.211078Z",
     "shell.execute_reply.started": "2024-02-07T11:59:19.188421Z"
    }
   },
   "outputs": [
    {
     "name": "stdout",
     "output_type": "stream",
     "text": [
      "./output_11102023/compound_TPSA_clean.csv\n"
     ]
    }
   ],
   "source": [
    "# print(compoundTPSACleanFile)"
   ]
  },
  {
   "cell_type": "code",
   "execution_count": 6,
   "id": "451608c0-b3df-450a-bd00-a27767d60dd6",
   "metadata": {
    "ExecuteTime": {
     "end_time": "2023-06-28T19:37:50.015129Z",
     "start_time": "2023-06-28T19:37:49.870907Z"
    },
    "execution": {
     "iopub.execute_input": "2024-04-26T17:33:23.827836Z",
     "iopub.status.busy": "2024-04-26T17:33:23.827365Z",
     "iopub.status.idle": "2024-04-26T17:33:23.832345Z",
     "shell.execute_reply": "2024-04-26T17:33:23.831506Z",
     "shell.execute_reply.started": "2024-04-26T17:33:23.827793Z"
    }
   },
   "outputs": [],
   "source": [
    "# df_tpsa = pd.read_csv(compoundTPSACleanFile)\n",
    "# df_tpsa.info()\n",
    "# df_tpsa.head()\n",
    "# df_tpsa.tail()\n",
    "# df_tpsa.permiation.value_counts()"
   ]
  }
 ],
 "metadata": {
  "kernelspec": {
   "display_name": "Python [conda env:cp311]",
   "language": "python",
   "name": "conda-env-cp311-py"
  },
  "language_info": {
   "codemirror_mode": {
    "name": "ipython",
    "version": 3
   },
   "file_extension": ".py",
   "mimetype": "text/x-python",
   "name": "python",
   "nbconvert_exporter": "python",
   "pygments_lexer": "ipython3",
   "version": "3.11.4"
  },
  "toc": {
   "base_numbering": 1,
   "nav_menu": {},
   "number_sections": true,
   "sideBar": true,
   "skip_h1_title": false,
   "title_cell": "Table of Contents",
   "title_sidebar": "Contents",
   "toc_cell": false,
   "toc_position": {},
   "toc_section_display": true,
   "toc_window_display": false
  }
 },
 "nbformat": 4,
 "nbformat_minor": 5
}
