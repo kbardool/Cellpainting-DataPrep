{
 "cells": [
  {
   "cell_type": "markdown",
   "id": "74e3a3e4-54bc-4813-b6d1-ab316e7efe57",
   "metadata": {},
   "source": [
    "# Initializations"
   ]
  },
  {
   "cell_type": "code",
   "execution_count": 4,
   "id": "8b68825a",
   "metadata": {
    "ExecuteTime": {
     "end_time": "2023-06-28T19:57:20.869853Z",
     "start_time": "2023-06-28T19:57:20.833401Z"
    },
    "execution": {
     "iopub.execute_input": "2024-10-24T13:37:31.967062Z",
     "iopub.status.busy": "2024-10-24T13:37:31.966419Z",
     "iopub.status.idle": "2024-10-24T13:37:32.510695Z",
     "shell.execute_reply": "2024-10-24T13:37:32.509895Z",
     "shell.execute_reply.started": "2024-10-24T13:37:31.967018Z"
    }
   },
   "outputs": [
    {
     "data": {
      "text/html": [
       "<style>.container { width:98% !important; }</style>"
      ],
      "text/plain": [
       "<IPython.core.display.HTML object>"
      ]
     },
     "metadata": {},
     "output_type": "display_data"
    }
   ],
   "source": [
    "from IPython.display import display, HTML\n",
    "display(HTML(\"<style>.container { width:98% !important; }</style>\"))\n",
    "%load_ext autoreload  \n",
    "%autoreload 2\n",
    "from IPython.core.interactiveshell import InteractiveShell\n",
    "InteractiveShell.ast_node_interactivity = \"all\"\n",
    "%matplotlib inline"
   ]
  },
  {
   "cell_type": "code",
   "execution_count": 5,
   "id": "efc3f590",
   "metadata": {
    "ExecuteTime": {
     "end_time": "2023-06-28T19:57:21.896176Z",
     "start_time": "2023-06-28T19:57:21.323077Z"
    },
    "execution": {
     "iopub.execute_input": "2024-10-24T13:37:32.512596Z",
     "iopub.status.busy": "2024-10-24T13:37:32.512226Z",
     "iopub.status.idle": "2024-10-24T13:37:35.866289Z",
     "shell.execute_reply": "2024-10-24T13:37:35.865515Z",
     "shell.execute_reply.started": "2024-10-24T13:37:32.512570Z"
    }
   },
   "outputs": [
    {
     "name": "stdout",
     "output_type": "stream",
     "text": [
      "insert ./src\n",
      "insert ../..\n",
      "['../..', './src', '/home/kevin/WSL-shared/cellpainting/cj-datasets', '/home/kevin/miniforge3/envs/cp311/lib/python311.zip', '/home/kevin/miniforge3/envs/cp311/lib/python3.11', '/home/kevin/miniforge3/envs/cp311/lib/python3.11/lib-dynload', '', '/home/kevin/miniforge3/envs/cp311/lib/python3.11/site-packages', '/home/kevin/miniforge3/envs/cp311/lib/python3.11/site-packages/huggingface_hub-0.20.3-py3.8.egg']\n",
      "1.11.4\n"
     ]
    }
   ],
   "source": [
    "import os\n",
    "import sys\n",
    "import argparse\n",
    "import csv\n",
    "import json\n",
    "import time\n",
    "import types, copy, pprint\n",
    "from datetime import datetime\n",
    "for p in ['./src','../..']:\n",
    "    if p not in sys.path:\n",
    "        print(f\"insert {p}\")\n",
    "        sys.path.insert(0, p)\n",
    "print(sys.path)\n",
    "import pickle\n",
    "import pathlib\n",
    "import copy\n",
    "# import io\n",
    "\n",
    "import numpy as np\n",
    "import pandas as pd\n",
    "import plotly.express as px\n",
    "import plotly.io as pio\n",
    "# import s3fs\n",
    "from datetime import datetime\n",
    "import scipy\n",
    "print(scipy.__version__)\n",
    "\n",
    "# from utils_cellpainting import (read_profiles_from_local, cat_columns,  get_cols_like,\n",
    "                                 # disp_stats, check_values, )\n",
    "# from KevinsRoutines.utils.utils_cellpainting import (disp_metadata_file, read_profiles_from_local, cat_columns,  get_cols_like,\n",
    "#                                  disp_stats, check_values, )\n",
    "\n",
    "# from KevinsRoutines.utils.utils_general  import  list_namespace \n",
    "# from scipy.stats import median_absolute_deviation\n",
    "from pycytominer import normalize, feature_select\n",
    "\n",
    "from pprint import PrettyPrinter\n",
    "pp = PrettyPrinter(indent=4)\n",
    "pd.options.display.width = 132\n",
    "# torch.set_printoptions(precision=None, threshold=None, edgeitems=None, linewidth=150, profile=None, sci_mode=None)\n",
    "np.set_printoptions(edgeitems=3, infstr='inf', linewidth=150, nanstr='nan')\n",
    "\n",
    "pio.renderers.default = \"png\"  # Set to \"svg\" or \"png\" for static plots or \"notebook_connected\" for interactive plots\n",
    "pd.set_option('display.width', 140)"
   ]
  },
  {
   "cell_type": "code",
   "execution_count": 6,
   "id": "4ba2e9b3-b01e-4514-a0ea-0219989b9520",
   "metadata": {
    "ExecuteTime": {
     "end_time": "2023-05-25T10:04:49.563601Z",
     "start_time": "2023-05-25T10:04:49.551265Z"
    },
    "execution": {
     "iopub.execute_input": "2024-10-24T13:37:35.867678Z",
     "iopub.status.busy": "2024-10-24T13:37:35.867323Z",
     "iopub.status.idle": "2024-10-24T13:37:35.889601Z",
     "shell.execute_reply": "2024-10-24T13:37:35.888911Z",
     "shell.execute_reply.started": "2024-10-24T13:37:35.867654Z"
    },
    "scrolled": true
   },
   "outputs": [
    {
     "name": "stdout",
     "output_type": "stream",
     "text": [
      "10/24/24-15:37:35.886302\n",
      "2024-37-24 15:10:35.886538\n"
     ]
    }
   ],
   "source": [
    "# time.strftime(' %x%X')\n",
    "# datetime.now().strftime('%X.%f')\n",
    "# time.strftime('%X %x %Z')\n",
    "print(datetime.now().strftime('%D-%X.%f'))\n",
    "print(datetime.now().strftime('%Y-%M-%d %H:%m:%S.%f' ))\n",
    "\n",
    "import logging \n",
    "logLevel = os.environ.get('LOG_LEVEL', 'INFO').upper()\n",
    "FORMAT = '%(asctime)s - %(levelname)s: - %(message)s'\n",
    "logging.basicConfig(level=\"INFO\", format= FORMAT)\n",
    "logging.getLogger(\"imported_module\").setLevel(logging.CRITICAL)"
   ]
  },
  {
   "cell_type": "code",
   "execution_count": 7,
   "id": "ca29ed8e-982c-49c4-a612-293657cef15c",
   "metadata": {
    "execution": {
     "iopub.execute_input": "2024-10-24T13:37:35.891589Z",
     "iopub.status.busy": "2024-10-24T13:37:35.891247Z",
     "iopub.status.idle": "2024-10-24T13:37:37.842553Z",
     "shell.execute_reply": "2024-10-24T13:37:37.841714Z",
     "shell.execute_reply.started": "2024-10-24T13:37:35.891565Z"
    }
   },
   "outputs": [
    {
     "name": "stderr",
     "output_type": "stream",
     "text": [
      "/home/kevin/miniforge3/envs/cp311/lib/python3.11/site-packages/dask/dataframe/_pyarrow_compat.py:17: FutureWarning:\n",
      "\n",
      "Minimal version of pyarrow will soon be increased to 14.0.1. You are using 11.0.0. Please consider upgrading.\n",
      "\n"
     ]
    }
   ],
   "source": [
    "import dask\n",
    "import dask.array as da\n",
    "import dask.dataframe as dd\n",
    "from dask import delayed\n",
    "from dask.distributed import Client\n",
    "from dask.distributed import LocalCluster\n",
    "from dask_cuda import LocalCUDACluster\n",
    "import dask_ml.model_selection as dcv\n",
    " "
   ]
  },
  {
   "cell_type": "code",
   "execution_count": 8,
   "id": "4492c408-2069-4e90-8a13-3c55ab98f0b3",
   "metadata": {
    "execution": {
     "iopub.execute_input": "2024-10-24T13:37:37.843868Z",
     "iopub.status.busy": "2024-10-24T13:37:37.843544Z",
     "iopub.status.idle": "2024-10-24T13:37:41.372947Z",
     "shell.execute_reply": "2024-10-24T13:37:41.372121Z",
     "shell.execute_reply.started": "2024-10-24T13:37:37.843839Z"
    }
   },
   "outputs": [],
   "source": [
    "from KevinsRoutines.utils.utils_cellpainting import (disp_metadata_file, read_profiles_from_local, cat_columns,  get_cols_like,\n",
    "                                 disp_stats, check_values, check_df_for_nans )\n",
    "\n"
   ]
  },
  {
   "cell_type": "code",
   "execution_count": 9,
   "id": "fe6112f3-b4b4-47eb-a7c7-54b1004663e4",
   "metadata": {
    "execution": {
     "iopub.execute_input": "2024-10-24T13:38:32.096789Z",
     "iopub.status.busy": "2024-10-24T13:38:32.096191Z",
     "iopub.status.idle": "2024-10-24T13:38:32.156991Z",
     "shell.execute_reply": "2024-10-24T13:38:32.156088Z",
     "shell.execute_reply.started": "2024-10-24T13:38:32.096763Z"
    }
   },
   "outputs": [
    {
     "name": "stdout",
     "output_type": "stream",
     "text": [
      " prefix                                      : \n",
      " prefix_lc                                   : \n",
      " metadata path                               : ./metadata/\n",
      " input path                                  : ./input/\n",
      " output path                                 : ./output_11102023/\n",
      "\n",
      " Input Datasets : \n",
      " ---------------- \n",
      " Compound Metadata Input File                : ./metadata/compound.csv\n",
      " Plate Metadata Input File                   : ./metadata/plate_new.csv\n",
      " Well Metadata Input File                    : ./metadata/well.csv\n",
      "\n",
      " Compound Metadata : \n",
      " ------------------- \n",
      " Metadata + Smiles                           : ./output_11102023/compound_metadata_smiles.csv\n",
      "          + TPSA                             : ./output_11102023/compound_metadata_tpsa.csv\n",
      "          + TPSA Cleaned (TPSA <> 0)         : ./output_11102023/compound_metadata_tpsa_clean.csv\n",
      "          + Base64 Pharmacophores            : ./output_11102023/compound_metadads.ta_pcfp.csv\n",
      "\n",
      " Compound/TPSA File:\n",
      " -------------------\n",
      " compound TPSA File                          : ./output_11102023/compound_TPSA.csv\n",
      " compound TPSA Clean File                    : ./output_11102023/compound_TPSA_clean.csv\n",
      "\n",
      "\n",
      " Compound/Pharmacophore Files :\n",
      " ------------------------------\n",
      " compound Pharmacophore Sparse File          : ./output_11102023/compound_pharmacophores_sparse.pkl\n",
      " compound Pharmacophore CSV File             : ./output_11102023/compound_pharmacophores.csv\n",
      " compound Pharmacophore Numpy File           : ./output_11102023/compound_pharmacophores.npy\n",
      " compound Pharmacophore Numpy Zipped File    : ./output_11102023/compound_pharmacophores_zip.npz\n",
      "\n",
      " compound Pharmacophore 3Sample File         : ./output_11102023/compound_pharmacophores_3samples.csv\n",
      "\n",
      " Compound Extended Metadata files:\n",
      " ---------------------------------\n",
      " Compound Extended MetadataFile              : ./output_11102023/compound_extended_metadata.csv\n",
      "\n",
      " Compound Extended Metadata 5 SampleFile     : ./output_11102023/compound_extended_metadata_5samples.csv\n",
      " Compound Extended Metadata 3 SampleFile     : ./output_11102023/compound_extended_metadata_3samples.csv\n",
      " Compound Extended Metadata 2 SampleFile     : ./output_11102023/compound_extended_metadata_2samples.csv\n",
      "\n",
      " Compound Profiles files:\n",
      " ------------------------\n",
      " Compound Profiles 5 Samples File            : ./output_11102023//5_sample_profiles/5sample_profiles_{0:03d}{1:s}.csv\n",
      " Compound Profiles 3 Samples File            : ./output_11102023//3_sample_profiles/3sample_profiles_{0:03d}{1:s}.csv\n",
      " Compound Profiles 2 Samples File            : ./output_11102023//2_sample_profiles/2sample_profiles_{0:03d}{1:s}.csv\n",
      "\n",
      " profiles Metadata File                      : ./metadata/profile_metadata.pkl\n",
      " parquet  Metadata File                      : ./metadata/parquet_columns.pkl\n"
     ]
    }
   ],
   "source": [
    "from utils.jcp_datasets import project_datasets, display_project_datasets\n",
    "# ds = project_datasets(output_path = './output_10162024/')\n",
    "ds = project_datasets(output_path = './output_11102023/')\n",
    "display_project_datasets(ds)"
   ]
  },
  {
   "cell_type": "markdown",
   "id": "b70522c0-d176-4944-a1d1-28caab3ccec7",
   "metadata": {},
   "source": [
    "# Load Metadata Files"
   ]
  },
  {
   "cell_type": "markdown",
   "id": "1ec1806e-f6da-40f9-ade8-78a518897487",
   "metadata": {
    "jp-MarkdownHeadingCollapsed": true
   },
   "source": [
    "<!-- This notebook loads a small number of plates with precomputed features and the metadata information. -->\n",
    "\n",
    "- Order Extended Metadata Data set by Source, Batch, Plate"
   ]
  },
  {
   "cell_type": "markdown",
   "id": "9ef574ef-4dd7-43f1-b7c8-5f3785df5e64",
   "metadata": {
    "jp-MarkdownHeadingCollapsed": true
   },
   "source": [
    "The following files contain the metadata information for the entire dataset.\n",
    "The schema is [here](metadata/README.md)."
   ]
  },
  {
   "cell_type": "markdown",
   "id": "8dc4e206-e641-43e8-91c2-a1b144c65a89",
   "metadata": {},
   "source": [
    "## Profiles Metadata file"
   ]
  },
  {
   "cell_type": "code",
   "execution_count": 117,
   "id": "529e24ed-1a35-4b6e-806e-1ac93aa961c1",
   "metadata": {
    "execution": {
     "iopub.execute_input": "2024-05-12T09:24:27.575663Z",
     "iopub.status.busy": "2024-05-12T09:24:27.575157Z",
     "iopub.status.idle": "2024-05-12T09:24:27.610629Z",
     "shell.execute_reply": "2024-05-12T09:24:27.609729Z",
     "shell.execute_reply.started": "2024-05-12T09:24:27.575623Z"
    }
   },
   "outputs": [
    {
     "name": "stdout",
     "output_type": "stream",
     "text": [
      " Profile Metadata file:  ./metadata/profile_metadata.pkl\n"
     ]
    }
   ],
   "source": [
    "print(f\" Profile Metadata file:  {ds.profileMetadataFile}\")\n",
    "\n",
    "with open(ds.profileMetadataFile, 'rb') as f: \n",
    "     pickle_data = pickle.load(f)"
   ]
  },
  {
   "cell_type": "code",
   "execution_count": 118,
   "id": "03a4a363-7395-4808-9a12-fcf91c08148e",
   "metadata": {
    "execution": {
     "iopub.execute_input": "2024-05-12T09:24:27.753009Z",
     "iopub.status.busy": "2024-05-12T09:24:27.752486Z",
     "iopub.status.idle": "2024-05-12T09:24:27.784205Z",
     "shell.execute_reply": "2024-05-12T09:24:27.783551Z",
     "shell.execute_reply.started": "2024-05-12T09:24:27.752970Z"
    },
    "scrolled": true
   },
   "outputs": [
    {
     "name": "stdout",
     "output_type": "stream",
     "text": [
      " Profile metadata dict  keys : dict_keys(['all_profile_columns', 'metadata_columns', 'selected_columns', 'parquet_columns'])\n",
      "--------------------------------------------------------------------------------\n",
      " all_profile_columns & COMPOUND_PROFILE_COLUMNS\n",
      "--------------------------------------------------------------------------------\n",
      "  Len all_profile_columns        : 3672\n",
      "  Len COMPOUND_PROFILE_COLUMNS   : 1482\n",
      "\n",
      "  all_profile_columns[:10]       : ['Metadata_Source', 'Metadata_Batch', 'Metadata_Plate', 'Metadata_Well', 'Metadata_JCP2022', 'Metadata_Hash', 'Metadata_Bin', 'Metadata_TPSA', 'Metadata_lnTPSA', 'Metadata_log10TPSA']\n",
      "  COMPOUND_PROFILE_COLUMNS[:10]  : ['Metadata_Source', 'Metadata_Batch', 'Metadata_Plate', 'Metadata_Well', 'Metadata_JCP2022', 'Metadata_Hash', 'Metadata_Bin', 'Metadata_TPSA', 'Metadata_lnTPSA', 'Metadata_log10TPSA']\n",
      "\n",
      "  all_profile_columns[10:15]     : ['Metadata_Permiation', 'Cells_AreaShape_Area', 'Cells_AreaShape_BoundingBoxArea', 'Cells_AreaShape_BoundingBoxMaximum_X', 'Cells_AreaShape_BoundingBoxMaximum_Y']\n",
      "  COMPOUND_PROFILE_COLUMNS[10:15]: ['Metadata_Permiation', 'Cells_AreaShape_BoundingBoxMaximum_X', 'Cells_AreaShape_Center_X', 'Cells_AreaShape_Center_Y', 'Cells_AreaShape_Compactness']\n",
      "\n",
      "  all_profile_columns[15:20]     : ['Cells_AreaShape_BoundingBoxMinimum_X', 'Cells_AreaShape_BoundingBoxMinimum_Y', 'Cells_AreaShape_Center_X', 'Cells_AreaShape_Center_Y', 'Cells_AreaShape_Compactness']\n",
      "  COMPOUND_PROFILE_COLUMNS[15:20]: ['Cells_AreaShape_Eccentricity', 'Cells_AreaShape_EulerNumber', 'Cells_AreaShape_Extent', 'Cells_AreaShape_MajorAxisLength', 'Cells_AreaShape_MedianRadius']\n",
      "\n",
      "  all_profile_columns[-4:]       : ['Nuclei_Texture_Variance_RNA_5_00_256', 'Nuclei_Texture_Variance_RNA_5_01_256', 'Nuclei_Texture_Variance_RNA_5_02_256', 'Nuclei_Texture_Variance_RNA_5_03_256']\n",
      "  COMPOUND_PROFILE_COLUMNS[-4:]  : ['Nuclei_Texture_SumVariance_DNA_10_03_256', 'Nuclei_Texture_SumVariance_ER_10_01_256', 'Nuclei_Texture_SumVariance_Mito_10_03_256', 'Nuclei_Texture_SumVariance_RNA_10_01_256']\n",
      "--------------------------------------------------------------------------------\n",
      " MetadataNames  - length(11 )\n",
      "--------------------------------------------------------------------------------\n",
      " \t : list item : Metadata_Source\n",
      " \t : list item : Metadata_Batch\n",
      " \t : list item : Metadata_Plate\n",
      " \t : list item : Metadata_Well\n",
      " \t : list item : Metadata_JCP2022\n",
      " \t : list item : Metadata_Hash\n",
      " \t : list item : Metadata_Bin\n",
      " \t : list item : Metadata_TPSA\n",
      " \t : list item : Metadata_lnTPSA\n",
      " \t : list item : Metadata_log10TPSA\n",
      " \t : list item : Metadata_Permiation\n",
      "\n",
      "--------------------------------------------------------------------------------\n",
      " MetadataCategoricalColumns  - length(4 )\n",
      "--------------------------------------------------------------------------------\n",
      " \t : key :  Metadata_Source               item: category\n",
      " \t : key :  Metadata_Batch                item: category\n",
      " \t : key :  Metadata_Plate                item: category\n",
      " \t : key :  Metadata_Well                 item: category\n",
      "\n",
      "--------------------------------------------------------------------------------\n",
      " MetadataNumericColumns  - length(6 )\n",
      "--------------------------------------------------------------------------------\n",
      " \t : key :  Metadata_TPSA                 item: <class 'numpy.float32'>\n",
      " \t : key :  Metadata_lnTPSA               item: <class 'numpy.float32'>\n",
      " \t : key :  Metadata_log10TPSA            item: <class 'numpy.float32'>\n",
      " \t : key :  Metadata_Hash                 item: <class 'numpy.int64'>\n",
      " \t : key :  Metadata_Bin                  item: <class 'numpy.int8'>\n",
      " \t : key :  Metadata_Permiation           item: <class 'numpy.int8'>\n",
      "\n",
      "--------------------------------------------------------------------------------\n",
      " MetadataFloatColumns  - length(3 )\n",
      "--------------------------------------------------------------------------------\n",
      " \t : key :  Metadata_TPSA                 item: <class 'numpy.float32'>\n",
      " \t : key :  Metadata_lnTPSA               item: <class 'numpy.float32'>\n",
      " \t : key :  Metadata_log10TPSA            item: <class 'numpy.float32'>\n",
      "\n",
      "--------------------------------------------------------------------------------\n",
      " MetadataIntegerColumns  - length(3 )\n",
      "--------------------------------------------------------------------------------\n",
      " \t : key :  Metadata_Hash                 item: <class 'numpy.int64'>\n",
      " \t : key :  Metadata_Bin                  item: <class 'numpy.int8'>\n",
      " \t : key :  Metadata_Permiation           item: <class 'numpy.int8'>\n",
      "\n",
      "--------------------------------------------------------------------------------\n",
      " MetadataColumns  - length(11 )\n",
      "--------------------------------------------------------------------------------\n",
      " \t : list item : Metadata_Source\n",
      " \t : list item : Metadata_Batch\n",
      " \t : list item : Metadata_Plate\n",
      " \t : list item : Metadata_Well\n",
      " \t : list item : Metadata_JCP2022\n",
      " \t : list item : Metadata_Hash\n",
      " \t : list item : Metadata_Bin\n",
      " \t : list item : Metadata_TPSA\n",
      " \t : list item : Metadata_lnTPSA\n",
      " \t : list item : Metadata_log10TPSA\n",
      " \t : list item : Metadata_Permiation\n",
      "\n",
      "\n",
      "--------------------------------------------------------------------------------\n",
      " all_profile_columns   <class 'list'>  3672 entries\n",
      "--------------------------------------------------------------------------------\n",
      "\n",
      "--------------------------------------------------------------------------------\n",
      " metadata_columns   <class 'dict'>     6 entries\n",
      "--------------------------------------------------------------------------------\n",
      " [MetadataNames]                    11       <class 'list'>\n",
      " [MetadataCategoricalColumns]        4       <class 'dict'>\n",
      " [MetadataNumericColumns]            6       <class 'dict'>\n",
      " [MetadataFloatColumns]              3       <class 'dict'>\n",
      " [MetadataIntegerColumns]            3       <class 'dict'>\n",
      " [MetadataColumns]                  11       <class 'list'>\n",
      " \t\t\t  total:    38\n",
      "\n",
      "--------------------------------------------------------------------------------\n",
      " selected_columns   <class 'dict'>     6 entries\n",
      "--------------------------------------------------------------------------------\n",
      " [selected]                       1471       <class 'set'>\n",
      " [dropped_correlation]            2190       <class 'set'>\n",
      " [dropped_variance]                  0       <class 'set'>\n",
      " [dropped_nans]                     12       <class 'set'>\n",
      " [dropped_image_features]         1089       <class 'set'>\n",
      " [dropped_metadata]                  3       <class 'set'>\n",
      " \t\t\t  total:  4765\n",
      "\n",
      "--------------------------------------------------------------------------------\n",
      " parquet_columns   <class 'dict'>     5 entries\n",
      "--------------------------------------------------------------------------------\n",
      " [Metadata]                          3       <class 'dict'>\n",
      " [Cells]                          1256       <class 'dict'>\n",
      " [Cytoplasm]                      1241       <class 'dict'>\n",
      " [Nuclei]                         1176       <class 'dict'>\n",
      " [Image]                          1089       <class 'dict'>\n",
      " \t\t\t  total:  4765\n"
     ]
    }
   ],
   "source": [
    "print(f\" Profile metadata dict  keys : {pickle_data.keys()}\")\n",
    "\n",
    "MetadataColumns =  pickle_data['metadata_columns']['MetadataNames']\n",
    "MetadataNames   =  pickle_data['metadata_columns']['MetadataNames']\n",
    "ParquetColumns = pickle_data['parquet_columns']\n",
    "MetadataCategoricalColumns = pickle_data['metadata_columns']['MetadataCategoricalColumns']\n",
    "MetadataFloatColumns       = pickle_data['metadata_columns']['MetadataFloatColumns']\n",
    "MetadataIntegerColumns     = pickle_data['metadata_columns']['MetadataIntegerColumns']\n",
    "WRITE_COMPOUND_PROFILE_COLUMNS = MetadataColumns + sorted(list(pickle_data['selected_columns']['selected']))\n",
    "disp_metadata_file(pickle_data, WRITE_COMPOUND_PROFILE_COLUMNS)"
   ]
  },
  {
   "cell_type": "markdown",
   "id": "8490e393-6625-4e3f-a803-a6443087fb08",
   "metadata": {},
   "source": [
    "### Parquet Profile Columns Metadata\n",
    "\n",
    "   Parquet files column metadata"
   ]
  },
  {
   "cell_type": "code",
   "execution_count": 218,
   "id": "3f076f98-b49c-4f5a-9b06-66eeee03d6b5",
   "metadata": {
    "execution": {
     "iopub.execute_input": "2024-05-12T10:22:27.137946Z",
     "iopub.status.busy": "2024-05-12T10:22:27.137460Z",
     "iopub.status.idle": "2024-05-12T10:22:27.182321Z",
     "shell.execute_reply": "2024-05-12T10:22:27.181720Z",
     "shell.execute_reply.started": "2024-05-12T10:22:27.137906Z"
    }
   },
   "outputs": [
    {
     "name": "stdout",
     "output_type": "stream",
     "text": [
      " Parquet_columns keys : dict_keys(['Metadata', 'Cells', 'Cytoplasm', 'Nuclei', 'Image'])\n",
      " Selected_columns keys: dict_keys(['selected', 'dropped_correlation', 'dropped_variance', 'dropped_nans', 'dropped_image_features', 'dropped_metadata'])\n",
      "3294\n",
      "\n",
      "\n",
      " Parquet      - Metadata columns:                                                   3\n",
      " File         - Image feature columns:                                           1089\n",
      " Pre-Drop     - Numeric columns (Cells + Cytoplasm + Nuclei):                    1249\n",
      "              - Numeric columns (Cells + Cytoplasm + Nuclei):                    1240\n",
      "              - Numeric columns (Cells + Cytoplasm + Nuclei):                    1172\n",
      "                                               total columns:                    4753\n",
      "\n",
      " Dropped      - Correlation:                                                     2190\n",
      " Features     - Variance:                                                           0\n",
      "              - NaN values:                                                        12\n",
      "              - Image Feature Columns:                                           1089\n",
      "              - Metadata Columns:                                                   3\n",
      "\n",
      "              - TOTAL Dropped Columns:                                           3294\n",
      "\n",
      "\n",
      " Parquet      - Metadata columns:                                                   3\n",
      " File         - Image feature columns:                                           1089\n",
      " Post-Drop    - Numeric columns (Cells + Cytoplasm + Nuclei):                    1249\n",
      "              - Numeric columns (Cells + Cytoplasm + Nuclei):                    1240\n",
      "              - Numeric columns (Cells + Cytoplasm + Nuclei):                    1172\n",
      "                                               total columns:                    4753\n",
      "\n",
      "Selected      - Selected Numeric columns:                                        1471\n",
      "Columns      \n",
      "\n",
      " PARQUET COLUMNS : \n",
      "------------------------------------------------------------\n",
      "   Metadata Columns :    3    : {'Metadata_Source': dtype('O'), 'Metadata_Plate': dtype('O'), 'Metadata_Well': dtype('O')}\n",
      "   Numeric Columns  : 3661\n",
      "   ------------------\n",
      "    type: Cells                   count:  1249\n",
      "    type: Cytoplasm               count:  1240\n",
      "    type: Nuclei                  count:  1172\n",
      "\t\t\t\t  total:  3661\n",
      "\n",
      "   Total (READ_PARQUET_COLUMNS)     : 3664  : ['Metadata_Source', 'Metadata_Plate', 'Metadata_Well', 'Cells_AreaShape_Area', 'Cells_AreaShape_BoundingBoxArea'] ...\n",
      "\n",
      "\n",
      " JOIN_COLUMNS : join between parquet and compound extended metadata \n",
      "------------------------------------------------------------\n",
      "   Metadata Columns              :    11\n",
      "   profile Numneric Columns      :  3661\n",
      "   all Columns                   :  3672\n",
      "\n",
      "\n"
     ]
    }
   ],
   "source": [
    "SelectedColumns = pickle_data['selected_columns']\n",
    "print(f\" Parquet_columns keys : {ParquetColumns.keys()}\")\n",
    "print(f\" Selected_columns keys: {SelectedColumns.keys()}\")\n",
    "\n",
    "parquetAllColumns = ParquetColumns['Cells'] | ParquetColumns['Cytoplasm'] | ParquetColumns['Nuclei'] | ParquetColumns['Image'] | ParquetColumns['Metadata']\n",
    "parquetNumericColumns  =  ParquetColumns['Cells'] | ParquetColumns['Cytoplasm'] | ParquetColumns['Nuclei']\n",
    "total_dropped = 0 \n",
    "for k in ['dropped_correlation', 'dropped_variance', 'dropped_nans', 'dropped_image_features', 'dropped_metadata']:\n",
    "    total_dropped += len(SelectedColumns[k])\n",
    "    \n",
    "print(total_dropped)\n",
    "print(f\"\\n\")\n",
    "print(f\" Parquet      - Metadata columns:                                             {len(ParquetColumns['Metadata']):7d}\")\n",
    "print(f\" File         - Image feature columns:                                        {len(ParquetColumns['Image']):7d}\")\n",
    "print(f\" Pre-Drop     - Numeric columns (Cells + Cytoplasm + Nuclei):                 {len(ParquetColumns['Cells']):7d}\")\n",
    "print(f\"              - Numeric columns (Cells + Cytoplasm + Nuclei):                 {len(ParquetColumns['Cytoplasm']):7d}\")\n",
    "print(f\"              - Numeric columns (Cells + Cytoplasm + Nuclei):                 {len(ParquetColumns['Nuclei']):7d}\")\n",
    "print(f\"                                               total columns:                 {len(parquetAllColumns):7d}\")\n",
    "print()\n",
    "print(f\" Dropped      - Correlation:                                                  {len(SelectedColumns['dropped_correlation']):7d}\")\n",
    "print(f\" Features     - Variance:                                                     {len(SelectedColumns['dropped_variance']):7d}\")\n",
    "print(f\"              - NaN values:                                                   {len(SelectedColumns['dropped_nans']):7d}\")\n",
    "print(f\"              - Image Feature Columns:                                        {len(SelectedColumns['dropped_image_features']):7d}\")\n",
    "print(f\"              - Metadata Columns:                                             {len(SelectedColumns['dropped_metadata']):7d}\\n\")\n",
    "print(f\"              - TOTAL Dropped Columns:                                        {total_dropped:7d}\")\n",
    "\n",
    "# print()\n",
    "# print(f\" Selected     - Metadata columns:                                             {len(ParquetColumns['Metadata']):7d}\")\n",
    "# print(f\" Features     - Image feature columns:                                        {len(ParquetColumns['Image']):7d}\")\n",
    "# print(f\"              - Numeric columns (Cells + Cytoplasm + Nuclei):                 {len(ParquetColumns['Cells']):7d}\")\n",
    "# print(f\"              - Numeric columns (Cells + Cytoplasm + Nuclei):                 {len(ParquetColumns['Cytoplasm']):7d}\")\n",
    "# print(f\"              - Numeric columns (Cells + Cytoplasm + Nuclei):                 {len(ParquetColumns['Nuclei']):7d}\\n\")\n",
    "# print(f\"              Parquet file total columns:                                     {len(parquetAllColumns):7d}\")\n",
    "# print()\n",
    "# print(f\"              - Selected numeric columns (Cells + Cytoplasm + Nuclei):        {len(parquetAllColumns) - total_dropped:7d}\")\n",
    "# print(f\"              - Selected Numeric columns:                                     {len(SelectedColumns['selected']):7d}\")\n",
    "# print()\n",
    "# print(f\" Selected     - Metadata columns:                                             {len(ParquetColumns['Metadata']):7d}\")\n",
    "# print(f\" Columns      - Image feature columns:                                        {len(ParquetColumns['Image']):7d}\")\n",
    "# print(f\"              - Numeric columns (Cells + Cytoplasm + Nuclei):                 {len(ParquetColumns['Cells']):7d}\")\n",
    "# print(f\"              - Numeric columns (Cells + Cytoplasm + Nuclei):                 {len(ParquetColumns['Cytoplasm']):7d}\")\n",
    "# print(f\"              - Numeric columns (Cells + Cytoplasm + Nuclei):                 {len(ParquetColumns['Nuclei']):7d}\\n\")\n",
    "# print(f\"              Parquet file total columns:                                     {len(parquetAllColumns):7d}\")\n",
    "\n",
    "##-----------------------------------------------------------------------\n",
    "## Remove numeric columns that contains bad values\n",
    "##-----------------------------------------------------------------------\n",
    "print()\n",
    "for key in ParquetColumns.keys():\n",
    "    before = len(ParquetColumns[key])\n",
    "    for x in pickle_data['selected_columns']['dropped_nans']: \n",
    "        if x in ParquetColumns[key] :\n",
    "            del ParquetColumns[key][x]\n",
    "            # print(f\" \\t FOUND in ParquetColumns['{key}'], deleted -- {x:35s}\")\n",
    "        # else:\n",
    "            # print(f\"\\t NOT FOUND in ParquetColumns['{key}'], skipped -- {x:35s}\")\n",
    "            # pass\n",
    "    # print(f\"ParquetColumns['{key}'] : \\t ttl columns before / after dropping Nans Columns : {before:5d}/{len(ParquetColumns[key]):5d}\")\n",
    " \n",
    "parquetAllColumns = ParquetColumns['Cells'] | ParquetColumns['Cytoplasm'] | ParquetColumns['Nuclei'] | ParquetColumns['Image'] | ParquetColumns['Metadata']\n",
    "parquetNumericColumns  =  ParquetColumns['Cells'] | ParquetColumns['Cytoplasm'] | ParquetColumns['Nuclei']\n",
    "\n",
    "READ_PARQUET_COLUMNS = list(ParquetColumns['Metadata'] | parquetNumericColumns)\n",
    "READ_SELECTED_PARQUET_COLUMNS_ONLY = list(ParquetColumns['Metadata'].keys()) +  sorted(SelectedColumns['selected'])\n",
    "JOIN_COLUMNS = MetadataColumns + list(parquetNumericColumns)\n",
    "\n",
    "print()\n",
    "print(f\" Parquet      - Metadata columns:                                             {len(ParquetColumns['Metadata']):7d}\")\n",
    "print(f\" File         - Image feature columns:                                        {len(ParquetColumns['Image']):7d}\")\n",
    "print(f\" Post-Drop    - Numeric columns (Cells + Cytoplasm + Nuclei):                 {len(ParquetColumns['Cells']):7d}\")\n",
    "print(f\"              - Numeric columns (Cells + Cytoplasm + Nuclei):                 {len(ParquetColumns['Cytoplasm']):7d}\")\n",
    "print(f\"              - Numeric columns (Cells + Cytoplasm + Nuclei):                 {len(ParquetColumns['Nuclei']):7d}\")\n",
    "print(f\"                                               total columns:                 {len(parquetAllColumns):7d}\")\n",
    "print()\n",
    "print(f\"Selected      - Selected Numeric columns:                                     {len(SelectedColumns['selected']):7d}\")\n",
    "print(f\"Columns      \")\n",
    "print()\n",
    "print(f\" PARQUET COLUMNS : \")\n",
    "print(\"-\"*60)\n",
    "print(f\"   Metadata Columns : {len(ParquetColumns['Metadata']):4d}    : {ParquetColumns['Metadata']}\")\n",
    "print(f\"   Numeric Columns  : {len(parquetNumericColumns):4d}\")\n",
    "# print(f\"   Numeric columns :\")\n",
    "print(f\"   ------------------\")\n",
    "col_dict = cat_columns(parquetNumericColumns)\n",
    "print()\n",
    "print(f\"   Total (READ_PARQUET_COLUMNS)     : {len(READ_PARQUET_COLUMNS):4d}  : {READ_PARQUET_COLUMNS[:5]} ...\")\n",
    "print('\\n')\n",
    "\n",
    "print(f\" JOIN_COLUMNS : join between parquet and compound extended metadata \")\n",
    "print(\"-\"*60)\n",
    "print(f\"   Metadata Columns              : {len(MetadataColumns):5d}\")\n",
    "print(f\"   profile Numneric Columns      : {len(parquetNumericColumns):5d}\")\n",
    "print(f\"   all Columns                   : {len(JOIN_COLUMNS):5d}\")   \n",
    "print('\\n')"
   ]
  },
  {
   "cell_type": "code",
   "execution_count": null,
   "id": "42565e5d-883e-4ef0-96d8-c8350bcc16e6",
   "metadata": {},
   "outputs": [],
   "source": []
  },
  {
   "cell_type": "code",
   "execution_count": 133,
   "id": "00721bac-252a-4f64-9774-109d8fa1b696",
   "metadata": {
    "execution": {
     "iopub.execute_input": "2024-05-12T09:31:41.743098Z",
     "iopub.status.busy": "2024-05-12T09:31:41.742597Z",
     "iopub.status.idle": "2024-05-12T09:31:41.775118Z",
     "shell.execute_reply": "2024-05-12T09:31:41.774369Z",
     "shell.execute_reply.started": "2024-05-12T09:31:41.743057Z"
    }
   },
   "outputs": [
    {
     "name": "stdout",
     "output_type": "stream",
     "text": [
      " conversion dict length (after addition of Float,Integer,Categorical and Numeric columns): 3671\n"
     ]
    }
   ],
   "source": [
    "##-----------------------------------------------------------------------\n",
    "## Conversion dictionary for reading CSV files \n",
    "##-----------------------------------------------------------------------\n",
    "profileConversionDict = dict()\n",
    "## Add numeric features \n",
    "## Add Metadata float columns to conversionDict:\n",
    "## Add Integer metadata columns to conversion Dict\n",
    "## Add Categorical metadata columns to conversion Dict\n",
    "profileConversionDict |= {x:y  for x,y in MetadataFloatColumns.items()}\n",
    "profileConversionDict |= {x:y  for x,y in MetadataIntegerColumns.items()}\n",
    "profileConversionDict |= {x:y  for x,y in MetadataCategoricalColumns.items()}\n",
    "profileConversionDict |= {x: np.float32 for x in parquetNumericColumns.keys()} \n",
    "print(f\" conversion dict length (after addition of Float,Integer,Categorical and Numeric columns): {len(profileConversionDict)}\")\n",
    "## one column is read with no conversion"
   ]
  },
  {
   "cell_type": "code",
   "execution_count": null,
   "id": "3ff94e3a-c475-4c52-a68b-2afd70bea9e1",
   "metadata": {
    "execution": {
     "iopub.execute_input": "2024-03-24T20:44:52.277402Z",
     "iopub.status.busy": "2024-03-24T20:44:52.276932Z",
     "iopub.status.idle": "2024-03-24T20:45:41.125669Z",
     "shell.execute_reply": "2024-03-24T20:45:41.124650Z",
     "shell.execute_reply.started": "2024-03-24T20:44:52.277363Z"
    }
   },
   "outputs": [],
   "source": [
    "file_reader_1 =  pd.read_csv('./output_11102023/3_sample_profiles/3sample_profiles_1471_HashOrder.csv', \n",
    "                        # names = COMPOUND_PROFILE_COLUMNS,\n",
    "                        header = 0,\n",
    "                        skiprows = 0,\n",
    "                        # nrows = 1,\n",
    "                        # dtype = Xy_columns_dtype,\n",
    "                        usecols = ['Metadata_JCP2022', 'Metadata_Hash', 'Metadata_Bin',],\n",
    "                        # iterator = True,\n",
    "                        # chunksize = 1000,\n",
    "                        )\n",
    "\n",
    "file_reader_1.value_counts()"
   ]
  },
  {
   "cell_type": "code",
   "execution_count": 1,
   "id": "649fb344-f7fc-445e-9905-0bba06d85034",
   "metadata": {
    "execution": {
     "iopub.execute_input": "2024-10-21T21:34:07.828326Z",
     "iopub.status.busy": "2024-10-21T21:34:07.827800Z",
     "iopub.status.idle": "2024-10-21T21:34:07.988322Z",
     "shell.execute_reply": "2024-10-21T21:34:07.987432Z",
     "shell.execute_reply.started": "2024-10-21T21:34:07.828282Z"
    }
   },
   "outputs": [
    {
     "ename": "NameError",
     "evalue": "name 'pd' is not defined",
     "output_type": "error",
     "traceback": [
      "\u001b[0;31m---------------------------------------------------------------------------\u001b[0m",
      "\u001b[0;31mNameError\u001b[0m                                 Traceback (most recent call last)",
      "Cell \u001b[0;32mIn[1], line 1\u001b[0m\n\u001b[0;32m----> 1\u001b[0m df_fp \u001b[38;5;241m=\u001b[39m \u001b[43mpd\u001b[49m\u001b[38;5;241m.\u001b[39mread_pickle(compoundPharmacophoreFile)\n\u001b[1;32m      2\u001b[0m df_fp\u001b[38;5;241m.\u001b[39minfo()\n\u001b[1;32m      3\u001b[0m df_fp\u001b[38;5;241m.\u001b[39mhead(\u001b[38;5;241m10\u001b[39m)\n",
      "\u001b[0;31mNameError\u001b[0m: name 'pd' is not defined"
     ]
    }
   ],
   "source": [
    "df_fp = pd.read_pickle(compoundPharmacophoreFile)\n",
    "df_fp.info()\n",
    "df_fp.head(10)\n",
    "df_fp.tail(10)\n",
    "\n",
    "file_reader_2.value_counts()"
   ]
  },
  {
   "cell_type": "markdown",
   "id": "2fdd19a0-849e-45d9-9c47-0e05f10801e6",
   "metadata": {},
   "source": [
    "# Step 5 - Apply feature selection"
   ]
  },
  {
   "cell_type": "markdown",
   "id": "08e03932-fdac-491f-b62c-a3e6f36ff4bc",
   "metadata": {
    "jp-MarkdownHeadingCollapsed": true
   },
   "source": [
    "In this step, we apply a series of feature selection steps to **level 4a profiles** (normalized well-level profiles) to form **level 4b profiles**."
   ]
  },
  {
   "cell_type": "markdown",
   "id": "e2f1e309-a5fa-440c-a83c-19b5a3d16603",
   "metadata": {},
   "source": [
    "### Read existing feature_selection csv file"
   ]
  },
  {
   "cell_type": "code",
   "execution_count": 59,
   "id": "32ac2c76-f2f0-4b8a-9f23-0a4ccee1c4ed",
   "metadata": {
    "execution": {
     "iopub.execute_input": "2023-12-16T12:35:33.478068Z",
     "iopub.status.busy": "2023-12-16T12:35:33.477726Z",
     "iopub.status.idle": "2023-12-16T12:35:33.508630Z",
     "shell.execute_reply": "2023-12-16T12:35:33.508011Z",
     "shell.execute_reply.started": "2023-12-16T12:35:33.478050Z"
    }
   },
   "outputs": [
    {
     "name": "stdout",
     "output_type": "stream",
     "text": [
      " Profiles file       :  ./output_11102023/compound_profiles_2samples.csv.bz2\n",
      " Features select file:  ./output_11102023//normalized_feature_select.csv\n"
     ]
    }
   ],
   "source": [
    "# Apply feature selection\n",
    "profilesFile = CompoundProfiles2SampleFileCSV +'.'+ type_bz2\n",
    "featureSelectionFile = './output_11102023//normalized_feature_select.csv'\n",
    "# featureSelectionFile = pathlib.Path(f\"{output_dir}/{plate_id}_normalized_feature_select.csv.gz\")\n",
    "print(f\" Profiles file       :  {profilesFile}\")\n",
    "print(f\" Features select file:  {featureSelectionFile}\")"
   ]
  },
  {
   "cell_type": "markdown",
   "id": "c4c6fc36-118e-41a8-94a8-e862576b2cfe",
   "metadata": {},
   "source": [
    "**Pick columns we want to analyse**"
   ]
  },
  {
   "cell_type": "code",
   "execution_count": 60,
   "id": "ca5eb307-e886-470b-9943-94a961618f1d",
   "metadata": {
    "execution": {
     "iopub.execute_input": "2023-12-16T12:35:35.041738Z",
     "iopub.status.busy": "2023-12-16T12:35:35.041482Z",
     "iopub.status.idle": "2023-12-16T12:35:35.074335Z",
     "shell.execute_reply": "2023-12-16T12:35:35.073493Z",
     "shell.execute_reply.started": "2023-12-16T12:35:35.041709Z"
    }
   },
   "outputs": [
    {
     "name": "stdout",
     "output_type": "stream",
     "text": [
      " Cells_AreaShape                               53\n",
      " Cells_Children                                1\n",
      " Cells_Correlation                             80\n",
      " Cells_Granularity                             80\n",
      " Cells_Intensity                               75\n",
      " Cells_Neighbors                               14\n",
      " Cells_Parent                                  1\n",
      " Cells_RadialDistribution                      171\n",
      " Cells_Texture                                 780\n",
      " Cells_Texture_AngularSecondMoment             60\n",
      " Cells_Texture_Contrast                        60\n",
      " Cells_Texture_Correlation                     60\n",
      " Cells_Texture_DifferenceEntropy               60\n",
      " Cells_Texture_DifferenceVariance              60\n",
      " Cells_Texture_Entropy                         60\n",
      " Cells_Texture_InfoMeas1                       60\n",
      " Cells_Texture_InfoMeas2                       60\n",
      " Cells_Texture_InverseDifferenceMoment         60\n",
      " Cells_Texture_SumAverage                      60\n",
      " Cells_Texture_SumEntropy                      60\n",
      " Cells_Texture_SumVariance                     60\n",
      " Cells_Texture_Variance                        60\n"
     ]
    }
   ],
   "source": [
    "for grp in cell_fld_grps:\n",
    "# for grp in cytoplasm_fld_grps:\n",
    "# for grp in nuclei_fld_grps:\n",
    "    tmpColumns = get_cols_like(numeric_columns,grp )\n",
    "    print(f\" {grp:40s}      {len(tmpColumns)}\")\n"
   ]
  },
  {
   "cell_type": "markdown",
   "id": "2ddd973d-bc34-4bac-ad8e-98f374a532a0",
   "metadata": {},
   "source": [
    "## `feature_select()` documentation"
   ]
  },
  {
   "cell_type": "markdown",
   "id": "e9a3edd5-2ed6-4110-8c96-82159127a7ba",
   "metadata": {
    "execution": {
     "iopub.execute_input": "2023-11-20T20:44:14.577354Z",
     "iopub.status.busy": "2023-11-20T20:44:14.576391Z",
     "iopub.status.idle": "2023-11-20T20:44:14.586147Z",
     "shell.execute_reply": "2023-11-20T20:44:14.585329Z",
     "shell.execute_reply.started": "2023-11-20T20:44:14.577325Z"
    }
   },
   "source": [
    "`feature_select()` Parameters\n",
    "\n",
    "-   **profiles :** `pandas.core.frame.DataFrame` or file\\\n",
    "        DataFrame or file of profiles.\n",
    "-   **features :** list\\\n",
    "        A list of strings corresponding to feature measurement column names in the `profiles` DataFrame.\\\n",
    "        All features listed must be found in `profiles`.\\\n",
    "        Defaults to `\"infer\"`. If `\"infer\"`, then assume cell painting features are those prefixed with `\"Cells\"`, `\"Nuclei\"`, or `\"Cytoplasm\"`.\n",
    "-    **image_features:** bool, default False\\\n",
    "        Whether the profiles contain image features.\n",
    "-    **samples :** list or str, default \"all\"\\\n",
    "        Samples to provide operation on.\n",
    "-    **operation:** list of str or str, default \"variance_threshold\"\\\n",
    "        Operations to perform on the input profiles.\\\n",
    "     **Supported operations**\n",
    "     -  **variance_threshold:** Exclude features that have low variance (low information content)\n",
    "        - **freq_cut :** float, default 0.05 - Ratio (2nd most common feature val / most common). Must range between 0 and 1.\n",
    "        - **unique_cut :** float, default 0.01 - Ratio (num unique features / num samples). Must range between 0 and 1.\n",
    "     -  **correlation_threshold:** Exclude features that have correlations above a certain threshold\n",
    "        - **threshold :** float, default 0.9 -  Must be between (0, 1) to exclude feature\n",
    "        - **method :**  `pearson`, `spearman`, `kendall`, default `pearson` - indicating which correlation metric to use to test cutoff\n",
    "     -  **blocklist:** Exclude features\n",
    "     -  **drop_outliers:** Exclude a feature if its min or max absolute value is greater than the threshold.\n",
    "     -  **noise_removal:** Remove noisy features, as defined by features with excessive standard deviation within the same perturbation group.\n",
    "        - **noise_removal_perturb_groups :**\n",
    "        - **noise_removal_stdev_cutoff :**\n",
    "     -  **drop_na_columns:**  Get features that have more NA values than cutoff defined\n",
    "        - **outlier_cutoff :**\n",
    "-    **output_file :** str, optional\\\n",
    "        If provided, will write feature selected profiles to file. If not specified, will return the feature selected profiles as output.\n",
    "        We recommend that this output file be suffixed with \"_normalized_variable_selected.csv\".\n",
    "-    **output_type :** str, optional\\\n",
    "        If provided, will write feature selected profiles as a specified file type (either CSV or parquet).\n",
    "        If not specified and output_file is provided, then the file will be outputed as CSV as default.\n",
    "-    **na_cutoff :** float, default 0.05\\\n",
    "        Proportion of missing values in a column to tolerate before removing.\n",
    "-    **corr_threshold :** float, default 0.9\\\n",
    "        Value between (0, 1) to exclude features above if any two features are correlated above this threshold.\n",
    "-    **corr_method :** str, default `pearson`\\\n",
    "        Correlation type to compute. Allowed methods are `spearman`, `kendall` and `pearson`.\n",
    "-    **freq_cut :** float, default 0.05\\\n",
    "        Ratio (2nd most common feature val / most common). Must range between 0 and 1.\n",
    "        Remove features lower than freq_cut. A low freq_cut will remove features\n",
    "        that have large difference between the most common feature and second most\n",
    "        common feature. (e.g. this will remove a feature: [1, 1, 1, 1, 0.01, 0.01, ...])\n",
    "-    **unique_cut:** float, default 0.01\\\n",
    "        Ratio (num unique features / num samples). Must range between 0 and 1.\n",
    "        Remove features less than unique cut. A low unique_cut will remove features\n",
    "        that have very few different measurements compared to the number of samples.\n",
    "-    **compression_options :** str or dict, optional\\\n",
    "        Contains compression options as input to\n",
    "        pd.DataFrame.to_csv(compression=compression_options). pandas version >= 1.2.\n",
    "-    **float_format :** str, optional\\\n",
    "        Decimal precision to use in writing output file as input to\n",
    "        pd.DataFrame.to_csv(float_format=float_format). For example, use \"%.3g\" for 3\n",
    "        decimal precision.\n",
    "-    **blocklist_file :** str, optional\\\n",
    "        File location of datafrmame with with features to exclude. Note that if \"blocklist\" in operation then will remove standard blocklist\n",
    "-    **outlier_cutoff :** float, default 500\\\n",
    "        The threshold at which the maximum or minimum value of a feature across a full experiment is excluded. Note that this procedure is typically applied after normalization.\n",
    "-    **noise_removal_perturb_groups:** str or list of str, optional\\\n",
    "        Perturbation groups corresponding to rows in profiles or the the name of the metadata column containing this information.\n",
    "-    **noise_removal_stdev_cutoff:** float,optional\\\n",
    "        Maximum mean feature standard deviation to be kept for noise removal, grouped by the identity of the perturbation from perturb_list. The data must already be normalized so that this cutoff can apply to all columns.\n",
    "\n",
    "**Returns**\n",
    "\n",
    "-  **selected_df :** `pandas.core.frame.DataFrame`, optional \\\n",
    "    The feature selected profile DataFrame.\n",
    "    If output_file=None, then return the DataFrame.\n",
    "    If you specify output_file, then write to file and do not return data."
   ]
  },
  {
   "cell_type": "markdown",
   "id": "5ecfdf92-e252-40f7-a0da-cf630edec931",
   "metadata": {},
   "source": [
    "### Define different cell groups , used for feature selection"
   ]
  },
  {
   "cell_type": "code",
   "execution_count": null,
   "id": "1d0e206b-de78-4be8-85e2-ffdc60679ec3",
   "metadata": {},
   "outputs": [],
   "source": [
    "image_fld_grps = {'_'.join(x.split('_')[:2]) for x in ParquetColumns['Image'] }\n",
    "for grp in image_fld_grps:\n",
    "    imageColumns = get_cols_like(ParquetColumns['Image'],grp )\n",
    "    print(f\" {grp:40s}      {len(imageColumns)}\")\n",
    "print('\\n')\n",
    "\n",
    "cell_fld_grps = ['Cells_AreaShape', 'Cells_Children', 'Cells_Correlation', \n",
    "                 ## 'Cells_Correlation_Correlation', 'Cells_Correlation_K', 'Cells_Correlation_Manders','Cells_Correlation_Overlap', 'Cells_Correlation_RWC',\n",
    "                 ## 'Cells_RadialDistribution_FracAtD', 'Cells_RadialDistribution_MeanFrac', 'Cells_RadialDistribution_RadialCV',\n",
    "                 'Cells_Granularity', 'Cells_Intensity', 'Cells_Neighbors', 'Cells_Parent',\n",
    "                 'Cells_RadialDistribution', \n",
    "                 'Cells_Texture', \n",
    "                 'Cells_Texture_AngularSecondMoment','Cells_Texture_Contrast', 'Cells_Texture_Correlation',\n",
    "                 'Cells_Texture_DifferenceEntropy', 'Cells_Texture_DifferenceVariance', 'Cells_Texture_Entropy',\n",
    "                 'Cells_Texture_InfoMeas1' , 'Cells_Texture_InfoMeas2' , 'Cells_Texture_InverseDifferenceMoment',\n",
    "                 'Cells_Texture_SumAverage', 'Cells_Texture_SumEntropy', 'Cells_Texture_SumVariance',  'Cells_Texture_Variance']\n",
    "\n",
    "for grp in cell_fld_grps:\n",
    "    cellColumns = get_cols_like(parquetNumericColumns,grp )\n",
    "    print(f\" {grp:40s}      {len(cellColumns)}\")\n",
    "print('\\n')    \n",
    "\n",
    "cytoplasm_fld_grps = ['Cytoplasm_Texture',\n",
    "                      'Cytoplasm_Number',\n",
    "                      'Cytoplasm_Intensity',\n",
    "                      'Cytoplasm_RadialDistribution',\n",
    "                      'Cytoplasm_Granularity',\n",
    "                      'Cytoplasm_Correlation',\n",
    "                      'Cytoplasm_AreaShape']\n",
    "\n",
    "for grp in cytoplasm_fld_grps:\n",
    "    cellColumns = get_cols_like(parquetNumericColumns,grp )\n",
    "    print(f\" {grp:40s}      {len(cellColumns)}\")\n",
    "print('\\n')\n",
    "\n",
    "nuclei_fld_grps = ['Nuclei_Location',\n",
    "                   'Nuclei_Neighbors',\n",
    "                   'Nuclei_ObjectSkeleton',\n",
    "                   'Nuclei_Parent',\n",
    "                   'Nuclei_Number',\n",
    "                   'Nuclei_Intensity',\n",
    "                   'Nuclei_Children',\n",
    "                   'Nuclei_RadialDistribution',\n",
    "                   'Nuclei_Granularity',\n",
    "                   'Nuclei_Correlation',\n",
    "                   'Nuclei_AreaShape',\n",
    "                   'Nuclei_Texture']\n",
    " \n",
    "for grp in nuclei_fld_grps:\n",
    "    cellColumns = get_cols_like(parquetNumericColumns,grp )\n",
    "    print(f\" {grp:40s}      {len(cellColumns)}\")\n"
   ]
  },
  {
   "cell_type": "markdown",
   "id": "501d27f6-585b-49d1-82e7-12cf837eda14",
   "metadata": {},
   "source": [
    "## Column group setup "
   ]
  },
  {
   "cell_type": "markdown",
   "id": "67c2b8ec-11b3-4b3a-be7d-4baf222bfba7",
   "metadata": {},
   "source": [
    "**Pick columns we want to analyse**"
   ]
  },
  {
   "cell_type": "code",
   "execution_count": null,
   "id": "9dbbdd52-a4e7-4d07-96eb-6c7948e4ec8a",
   "metadata": {},
   "outputs": [],
   "source": [
    "featureColumns = {}\n",
    "\n",
    "# featureColumns_1 = get_cols_like(numeric_columns, ['Cells_AreaShape', 'Cells_Correlation', 'Cells_Granularity',\n",
    "#                                                   'Cells_Intensity', 'Cells_Children', 'Cells_Neighbors', 'Cells_Parent'])\n",
    "# featureColumns_2 = get_cols_like(numeric_columns, ['Cells_RadialDistribution', 'Cells_RadialDistribution_FracAtD', \n",
    "#                                                    'Cells_RadialDistribution_MeanFrac', 'Cells_RadialDistribution_RadialCV'])\n",
    "\n",
    "# featureColumns_3 = get_cols_like(numeric_columns, ['Cells_Texture_AngularSecondMoment', 'Cells_Texture_Contrast', 'Cells_Texture_Correlation',\n",
    "#                                                    'Cells_Texture_DifferenceEntropy', 'Cells_Texture_DifferenceVariance', 'Cells_Texture_Entropy'])\n",
    "# featureColumns_4 = get_cols_like(numeric_columns, ['Cells_Texture_InfoMeas1' , 'Cells_Texture_InfoMeas2' , 'Cells_Texture_InverseDifferenceMoment',\n",
    "#                                                     'Cells_Texture_SumAverage', 'Cells_Texture_SumEntropy', 'Cells_Texture_SumVariance',  'Cells_Texture_Variance' ])\n",
    "\n",
    "featureColumns['Cells_Other'] = get_cols_like(numeric_columns, ['Cells_AreaShape', 'Cells_Children', 'Cells_Correlation', 'Cells_Granularity',\n",
    "                                                  'Cells_Intensity',  'Cells_Neighbors', 'Cells_Parent',\n",
    "                                                  'Cells_RadialDistribution']) \n",
    " \n",
    "featureColumns['Cells_Texture'] = get_cols_like(numeric_columns, ['Cells_Texture'])\n",
    "\n",
    "\n",
    "featureColumns['Cytoplasm_Other'] = get_cols_like(numeric_columns, ['Cytoplasm_Number',  'Cytoplasm_Intensity', 'Cytoplasm_RadialDistribution',\n",
    "                                                  'Cytoplasm_Granularity',  'Cytoplasm_Correlation', 'Cytoplasm_AreaShape'])\n",
    "\n",
    "featureColumns['Cytoplasm_Texture'] = get_cols_like(numeric_columns, ['Cytoplasm_Texture'])\n",
    "\n",
    "featureColumns['Nuclei_Other'] = get_cols_like(numeric_columns, ['Nuclei_Location'   , 'Nuclei_Neighbors'  , 'Nuclei_ObjectSkeleton', 'Nuclei_Parent',\n",
    "                                                   'Nuclei_Number'     , 'Nuclei_Intensity'  , 'Nuclei_Children'      , 'Nuclei_RadialDistribution',\n",
    "                                                   'Nuclei_Granularity', 'Nuclei_Correlation', 'Nuclei_AreaShape'     ,])\n",
    "\n",
    "featureColumns['Nuclei_Other'] = get_cols_like(numeric_columns, ['Nuclei_Texture'])\n",
    "\n",
    "for i, (k,v) in enumerate(featureColumns.items()):\n",
    "    print(f\" {i:2d}:  {k:25s}    count: {len(v)}\")\n"
   ]
  },
  {
   "cell_type": "code",
   "execution_count": null,
   "id": "79445ce2-d3b7-421e-a035-f7334acf83c2",
   "metadata": {},
   "outputs": [],
   "source": [
    "for k in ['Metadata_permiation', 'Metadata_Source', 'Metadata_Batch', 'Metadata_Plate', 'Metadata_Well']:\n",
    "    print(k, conversionDict[k])\n"
   ]
  },
  {
   "cell_type": "code",
   "execution_count": null,
   "id": "4c2e6721-68ac-4291-bc1e-730e4a88d671",
   "metadata": {},
   "outputs": [],
   "source": [
    "extMetadataNames\n",
    "readColumns =  extMetadataNames+ featureColumns['Cells_Texture']\n",
    "print(len(featureColumns['Cells_Texture']))\n",
    "len(readColumns)\n",
    "\n",
    "for i in readColumns:\n",
    "    if i not in conversionDict:\n",
    "        print(f\" {i:25s} not in conversionDict\")"
   ]
  },
  {
   "cell_type": "markdown",
   "id": "af67a61f-097d-4835-b2bb-12436641ff26",
   "metadata": {},
   "source": [
    "## Read profiles file"
   ]
  },
  {
   "cell_type": "code",
   "execution_count": null,
   "id": "a58a2d64-4c3b-4ecf-8080-f1bc0fc97cbe",
   "metadata": {},
   "outputs": [],
   "source": [
    "x = 4\n",
    "profilesFile = CompoundProfiles2SampleFile + f\"_{x:03d}\" + CSV\n",
    "print(f\" Profiles file       :  {profilesFile}\")\n",
    "print(f\" Features select file:  {selectedFeaturesFile}\")\n",
    "print(f\"-\"*100)"
   ]
  },
  {
   "cell_type": "code",
   "execution_count": null,
   "id": "931ecb12-0610-4116-8a6a-bf5081e61ca8",
   "metadata": {},
   "outputs": [],
   "source": [
    "df_profiles =  pd.read_csv(profilesFile, \n",
    "                       low_memory = True, \n",
    "                       # chunksize= 15000,  \n",
    "                       # skiprows=30000, \n",
    "                       # iterator = True, \n",
    "                       names=JOIN_COLUMNS,\n",
    "                       dtype = conversionDict,\n",
    "                       usecols = readColumns)"
   ]
  },
  {
   "cell_type": "code",
   "execution_count": null,
   "id": "cb3a908e-f6c4-4b48-be43-a0c6ab15ee58",
   "metadata": {},
   "outputs": [],
   "source": [
    "df_profiles.shape\n",
    "print(f\"\\nSize of loaded dataframe: {df_profiles.memory_usage(deep=True).sum():,d}\\n\")\n",
    "df_profiles.info()\n",
    "df_profiles.head(3)\n",
    "df_profiles_columns = df_profiles.columns.to_list()\n",
    "len(readColumns), len(df_profiles_columns)"
   ]
  },
  {
   "cell_type": "markdown",
   "id": "6ccc7e31-5761-4c78-8053-1f0db7cdc536",
   "metadata": {},
   "source": [
    "## Run feature selection"
   ]
  },
  {
   "cell_type": "code",
   "execution_count": null,
   "id": "44e62ad6-74f3-4e14-885c-057e1305b293",
   "metadata": {},
   "outputs": [],
   "source": [
    "feature_select_opts = [\n",
    "    # \"variance_threshold\",\n",
    "    \"correlation_threshold\",\n",
    "    # \"drop_na_columns\",\n",
    "    # \"blocklist\",\n",
    "    # \"drop_outliers\"\n",
    "]\n",
    "compression_options = {'method':' bz2'}"
   ]
  },
  {
   "cell_type": "code",
   "execution_count": null,
   "id": "656fe2f2-71b7-4514-8c08-3ffac89b08d7",
   "metadata": {},
   "outputs": [],
   "source": [
    "df_feature_selection = feature_select(\n",
    "                               profiles=df_profiles,\n",
    "                               features=\"infer\",\n",
    "                               samples=\"all\",\n",
    "                               corr_threshold=0.95,\n",
    "                               freq_cut = 0.05,\n",
    "                               unique_cut = 0.01,\n",
    "                               operation=feature_select_opts,\n",
    "                               # output_file=featureSelectionFile,\n",
    "                               # compression_options=compression_options,\n",
    "                              )"
   ]
  },
  {
   "cell_type": "code",
   "execution_count": null,
   "id": "3d25df46-82bd-4932-a1cd-fff8586def91",
   "metadata": {},
   "outputs": [],
   "source": [
    "df_feature_selection.info()\n",
    "df_feature_selection.head(10)\n",
    "\n",
    "selected_cols = df_feature_selection.columns.to_list()\n",
    "dropped_cols  = set(readColumns) - set(selected_cols)\n",
    "\n",
    "print(f\" Read columns:     {len(readColumns)}\")\n",
    "print(f\" Selected columns: {len(selected_cols)}\")\n",
    "print(f\" Dropped columns:  {len(dropped_cols)}\")"
   ]
  },
  {
   "cell_type": "markdown",
   "id": "b5e9d3eb-0e6b-4c9c-bd73-e934b5e17a1d",
   "metadata": {
    "execution": {
     "iopub.execute_input": "2024-01-28T23:34:53.791526Z",
     "iopub.status.busy": "2024-01-28T23:34:53.791262Z",
     "iopub.status.idle": "2024-01-28T23:34:53.837052Z",
     "shell.execute_reply": "2024-01-28T23:34:53.836106Z",
     "shell.execute_reply.started": "2024-01-28T23:34:53.791503Z"
    }
   },
   "source": [
    "### Print dropped and selected columns names in tabular fashion to use below"
   ]
  },
  {
   "cell_type": "code",
   "execution_count": null,
   "id": "646c0827-0f5b-473f-a2b6-8c4eb128e2ca",
   "metadata": {},
   "outputs": [],
   "source": [
    "def print_list_tabular(input_cols, list_name = 'list', num_cols = 4):\n",
    "    _input_cols = copy.copy(input_cols)\n",
    "    len_cols = len(_input_cols)\n",
    "    \n",
    "    ## Remove Metadata_* columns \n",
    "    i = 0\n",
    "    while i < len_cols:\n",
    "        if _input_cols[i].startswith(\"Metadata_\"):\n",
    "            _input_cols.pop(i)\n",
    "            len_cols -= 1\n",
    "        else:\n",
    "            i += 1\n",
    "            \n",
    "    tmp_cols = [\"\\\"\"+x+\"\\\"\" for x in _input_cols ]\n",
    "    \n",
    "    print(f\"\\n## Number of columns in list: {len_cols} \\n\")\n",
    "    print(f\"{list_name} = {{ \\\\ \\n\")\n",
    "    \n",
    "    for i in range(0, len_cols, num_cols):\n",
    "        for j in range(i,i+num_cols,1):\n",
    "            print(\"   \", end =\"\")\n",
    "            if j < len_cols:\n",
    "                print(f\" {tmp_cols[j]:60s} \" , end = ',')\n",
    "            else:\n",
    "                break\n",
    "        print()\n",
    "    print(\" }\")"
   ]
  },
  {
   "cell_type": "code",
   "execution_count": null,
   "id": "3e6108ae-2116-496d-8813-5a434e1efb90",
   "metadata": {},
   "outputs": [],
   "source": [
    "print_list_tabular(selected_cols, 'selected_cols_1')"
   ]
  },
  {
   "cell_type": "code",
   "execution_count": null,
   "id": "1406794e-e888-4c9e-9ef5-a931208a515e",
   "metadata": {},
   "outputs": [],
   "source": [
    "# print_list_tabular(dropped_cols, 'correlation_dropped_cols_1')"
   ]
  },
  {
   "cell_type": "code",
   "execution_count": null,
   "id": "5d57a0ee-4838-4094-b9df-bbaa93d69dd1",
   "metadata": {},
   "outputs": [],
   "source": [
    "# print_list_tabular(dropped_cols, 'variance_dropped_cols_1')"
   ]
  },
  {
   "cell_type": "code",
   "execution_count": null,
   "id": "52280a5d-e925-46c6-ab1e-3fcb31d4cc5c",
   "metadata": {},
   "outputs": [],
   "source": [
    "disp_stats(df_profiles, selected_cols[55:65])"
   ]
  },
  {
   "cell_type": "code",
   "execution_count": null,
   "id": "cf153fb4-af06-49ce-950d-608a4e99d164",
   "metadata": {},
   "outputs": [],
   "source": [
    "disp_stats(df_profiles, list(dropped_cols)[55:65])"
   ]
  },
  {
   "cell_type": "code",
   "execution_count": null,
   "id": "3f549a64-9f9d-43f6-838f-efe66a8f687b",
   "metadata": {},
   "outputs": [],
   "source": [
    "# n = df_profiles.shape[0]\n",
    "# print(n)\n",
    "# for drop_col in dropped_columns:\n",
    "#     n_unique = df_profiles[drop_col].nunique()\n",
    "#     v_counts = df_profiles[drop_col].value_counts()\n",
    "#     print(f\"     {drop_col:50s}:    {n_unique:15d}     unique ratio: {n_unique/n:.3f}\")\n",
    "#     print(v_counts.head(10))"
   ]
  },
  {
   "cell_type": "markdown",
   "id": "e92544f4-9123-4199-9ab1-1b43f7beb233",
   "metadata": {},
   "source": [
    "## Feature Selection drops :\n",
    "- `Cells` features dropped : 1080,  Retained: 98 \n",
    "- `Cytoplasm` features dropped : 1007, Retained: 154\n",
    "- `Nuclei` feature dropped : 1049, Retained: 138\n"
   ]
  },
  {
   "cell_type": "markdown",
   "id": "eff5fb7d-7a66-4a1c-ace1-6d203ec55a24",
   "metadata": {},
   "source": [
    "### Cells - group 1"
   ]
  },
  {
   "cell_type": "code",
   "execution_count": 267,
   "id": "7912d8ea-90b2-4526-aafd-637604ff51bf",
   "metadata": {
    "execution": {
     "iopub.execute_input": "2024-05-12T11:27:37.615934Z",
     "iopub.status.busy": "2024-05-12T11:27:37.615463Z",
     "iopub.status.idle": "2024-05-12T11:27:37.665340Z",
     "shell.execute_reply": "2024-05-12T11:27:37.664613Z",
     "shell.execute_reply.started": "2024-05-12T11:27:37.615895Z"
    }
   },
   "outputs": [],
   "source": [
    "# { \n",
    "#  \"Cells_Children_Cytoplasm_Count\"                             , \"Cells_Neighbors_SecondClosestObjectNumber_5\"                , \"Cells_Neighbors_SecondClosestObjectNumber_Adjacent\"         , \"Cells_Parent_CellsIncludingEdges\"                           ,\n",
    "#  \"Cells_RadialDistribution_FracAtD_mito_tubeness_Overflow\"    , \"Cells_RadialDistribution_MeanFrac_mito_tubeness_Overflow\"   , \"Cells_RadialDistribution_RadialCV_mito_tubeness_Overflow\" }\n",
    "\n",
    "selected_cols_1 = \\\n",
    "{\"Cells_AreaShape_BoundingBoxMaximum_X\"                       , \"Cells_AreaShape_Center_X\"                                   , \"Cells_AreaShape_Center_Y\"                                   , \"Cells_AreaShape_Compactness\"                                ,\n",
    " \"Cells_AreaShape_Eccentricity\"                               , \"Cells_AreaShape_EulerNumber\"                                , \"Cells_AreaShape_Extent\"                                     , \"Cells_AreaShape_MajorAxisLength\"                            ,\n",
    " \"Cells_AreaShape_MedianRadius\"                               , \"Cells_AreaShape_MinorAxisLength\"                            , \"Cells_AreaShape_Orientation\"                                , \"Cells_AreaShape_Perimeter\"                                  ,\n",
    " \"Cells_AreaShape_Solidity\"                                   , \"Cells_AreaShape_Zernike_0_0\"                                , \"Cells_AreaShape_Zernike_1_1\"                                , \"Cells_AreaShape_Zernike_2_0\"                                ,\n",
    " \"Cells_AreaShape_Zernike_2_2\"                                , \"Cells_AreaShape_Zernike_3_1\"                                , \"Cells_AreaShape_Zernike_3_3\"                                , \"Cells_AreaShape_Zernike_4_0\"                                ,\n",
    " \"Cells_AreaShape_Zernike_4_2\"                                , \"Cells_AreaShape_Zernike_4_4\"                                , \"Cells_AreaShape_Zernike_5_1\"                                , \"Cells_AreaShape_Zernike_5_3\"                                ,\n",
    " \"Cells_AreaShape_Zernike_5_5\"                                , \"Cells_AreaShape_Zernike_6_0\"                                , \"Cells_AreaShape_Zernike_6_2\"                                , \"Cells_AreaShape_Zernike_6_4\"                                ,\n",
    " \"Cells_AreaShape_Zernike_6_6\"                                , \"Cells_AreaShape_Zernike_7_1\"                                , \"Cells_AreaShape_Zernike_7_3\"                                , \"Cells_AreaShape_Zernike_7_5\"                                ,\n",
    " \"Cells_AreaShape_Zernike_7_7\"                                , \"Cells_AreaShape_Zernike_8_0\"                                , \"Cells_AreaShape_Zernike_8_2\"                                , \"Cells_AreaShape_Zernike_8_4\"                                ,\n",
    " \"Cells_AreaShape_Zernike_8_6\"                                , \"Cells_AreaShape_Zernike_8_8\"                                , \"Cells_AreaShape_Zernike_9_1\"                                , \"Cells_AreaShape_Zernike_9_3\"                                ,\n",
    " \"Cells_AreaShape_Zernike_9_5\"                                , \"Cells_AreaShape_Zernike_9_7\"                                , \"Cells_AreaShape_Zernike_9_9\"                                , \"Cells_Children_Cytoplasm_Count\"                             ,\n",
    " \"Cells_Correlation_Correlation_AGP_DNA\"                      , \"Cells_Correlation_Correlation_AGP_ER\"                       , \"Cells_Correlation_Correlation_AGP_Mito\"                     , \"Cells_Correlation_Correlation_DNA_ER\"                       ,\n",
    " \"Cells_Correlation_Correlation_DNA_Mito\"                     , \"Cells_Correlation_Correlation_DNA_RNA\"                      , \"Cells_Correlation_Correlation_ER_Mito\"                      , \"Cells_Correlation_Correlation_ER_RNA\"                       ,\n",
    " \"Cells_Correlation_Correlation_Mito_RNA\"                     , \"Cells_Correlation_K_AGP_DNA\"                                , \"Cells_Correlation_K_AGP_ER\"                                 , \"Cells_Correlation_K_AGP_Mito\"                               ,\n",
    " \"Cells_Correlation_K_AGP_RNA\"                                , \"Cells_Correlation_K_DNA_AGP\"                                , \"Cells_Correlation_K_DNA_ER\"                                 , \"Cells_Correlation_K_DNA_Mito\"                               ,\n",
    " \"Cells_Correlation_K_DNA_RNA\"                                , \"Cells_Correlation_K_ER_AGP\"                                 , \"Cells_Correlation_K_ER_DNA\"                                 , \"Cells_Correlation_K_ER_Mito\"                                ,\n",
    " \"Cells_Correlation_K_ER_RNA\"                                 , \"Cells_Correlation_K_Mito_AGP\"                               , \"Cells_Correlation_K_Mito_DNA\"                               , \"Cells_Correlation_K_Mito_ER\"                                ,\n",
    " \"Cells_Correlation_K_Mito_RNA\"                               , \"Cells_Correlation_K_RNA_AGP\"                                , \"Cells_Correlation_K_RNA_DNA\"                                , \"Cells_Correlation_K_RNA_ER\"                                 ,\n",
    " \"Cells_Correlation_K_RNA_Mito\"                               , \"Cells_Correlation_Manders_AGP_DNA\"                          , \"Cells_Correlation_Manders_AGP_ER\"                           , \"Cells_Correlation_Manders_AGP_Mito\"                         ,\n",
    " \"Cells_Correlation_Manders_AGP_RNA\"                          , \"Cells_Correlation_Manders_DNA_AGP\"                          , \"Cells_Correlation_Manders_DNA_ER\"                           , \"Cells_Correlation_Manders_DNA_Mito\"                         ,\n",
    " \"Cells_Correlation_Manders_DNA_RNA\"                          , \"Cells_Correlation_Manders_ER_AGP\"                           , \"Cells_Correlation_Manders_ER_DNA\"                           , \"Cells_Correlation_Manders_ER_Mito\"                          ,\n",
    " \"Cells_Correlation_Manders_ER_RNA\"                           , \"Cells_Correlation_Manders_Mito_AGP\"                         , \"Cells_Correlation_Manders_Mito_DNA\"                         , \"Cells_Correlation_Manders_Mito_ER\"                          ,\n",
    " \"Cells_Correlation_Manders_Mito_RNA\"                         , \"Cells_Correlation_Manders_RNA_AGP\"                          , \"Cells_Correlation_Manders_RNA_DNA\"                          , \"Cells_Correlation_Manders_RNA_ER\"                           ,\n",
    " \"Cells_Correlation_Manders_RNA_Mito\"                         , \"Cells_Correlation_Overlap_AGP_DNA\"                          , \"Cells_Correlation_Overlap_AGP_ER\"                           , \"Cells_Correlation_Overlap_AGP_Mito\"                         ,\n",
    " \"Cells_Correlation_Overlap_AGP_RNA\"                          , \"Cells_Correlation_Overlap_DNA_ER\"                           , \"Cells_Correlation_Overlap_DNA_Mito\"                         , \"Cells_Correlation_Overlap_DNA_RNA\"                          ,\n",
    " \"Cells_Correlation_Overlap_ER_Mito\"                          , \"Cells_Correlation_Overlap_ER_RNA\"                           , \"Cells_Correlation_Overlap_Mito_RNA\"                         , \"Cells_Correlation_RWC_AGP_DNA\"                              ,\n",
    " \"Cells_Correlation_RWC_AGP_ER\"                               , \"Cells_Correlation_RWC_AGP_Mito\"                             , \"Cells_Correlation_RWC_AGP_RNA\"                              , \"Cells_Correlation_RWC_DNA_AGP\"                              ,\n",
    " \"Cells_Correlation_RWC_DNA_ER\"                               , \"Cells_Correlation_RWC_DNA_Mito\"                             , \"Cells_Correlation_RWC_DNA_RNA\"                              , \"Cells_Correlation_RWC_ER_AGP\"                               ,\n",
    " \"Cells_Correlation_RWC_ER_DNA\"                               , \"Cells_Correlation_RWC_ER_Mito\"                              , \"Cells_Correlation_RWC_ER_RNA\"                               , \"Cells_Correlation_RWC_Mito_AGP\"                             ,\n",
    " \"Cells_Correlation_RWC_Mito_DNA\"                             , \"Cells_Correlation_RWC_Mito_ER\"                              , \"Cells_Correlation_RWC_Mito_RNA\"                             , \"Cells_Correlation_RWC_RNA_AGP\"                              ,\n",
    " \"Cells_Correlation_RWC_RNA_DNA\"                              , \"Cells_Correlation_RWC_RNA_ER\"                               , \"Cells_Correlation_RWC_RNA_Mito\"                             , \"Cells_Granularity_10_AGP\"                                   ,\n",
    " \"Cells_Granularity_10_DNA\"                                   , \"Cells_Granularity_10_ER\"                                    , \"Cells_Granularity_10_Mito\"                                  , \"Cells_Granularity_10_RNA\"                                   ,\n",
    " \"Cells_Granularity_11_AGP\"                                   , \"Cells_Granularity_11_DNA\"                                   , \"Cells_Granularity_11_ER\"                                    , \"Cells_Granularity_11_Mito\"                                  ,\n",
    " \"Cells_Granularity_11_RNA\"                                   , \"Cells_Granularity_12_AGP\"                                   , \"Cells_Granularity_12_DNA\"                                   , \"Cells_Granularity_12_ER\"                                    ,\n",
    " \"Cells_Granularity_12_Mito\"                                  , \"Cells_Granularity_12_RNA\"                                   , \"Cells_Granularity_13_AGP\"                                   , \"Cells_Granularity_13_DNA\"                                   ,\n",
    " \"Cells_Granularity_13_ER\"                                    , \"Cells_Granularity_13_Mito\"                                  , \"Cells_Granularity_13_RNA\"                                   , \"Cells_Granularity_14_AGP\"                                   ,\n",
    " \"Cells_Granularity_14_DNA\"                                   , \"Cells_Granularity_14_ER\"                                    , \"Cells_Granularity_14_Mito\"                                  , \"Cells_Granularity_14_RNA\"                                   ,\n",
    " \"Cells_Granularity_15_AGP\"                                   , \"Cells_Granularity_15_DNA\"                                   , \"Cells_Granularity_15_ER\"                                    , \"Cells_Granularity_15_Mito\"                                  ,\n",
    " \"Cells_Granularity_15_RNA\"                                   , \"Cells_Granularity_16_AGP\"                                   , \"Cells_Granularity_16_DNA\"                                   , \"Cells_Granularity_16_ER\"                                    ,\n",
    " \"Cells_Granularity_16_Mito\"                                  , \"Cells_Granularity_16_RNA\"                                   , \"Cells_Granularity_1_AGP\"                                    , \"Cells_Granularity_1_DNA\"                                    ,\n",
    " \"Cells_Granularity_1_ER\"                                     , \"Cells_Granularity_1_Mito\"                                   , \"Cells_Granularity_2_AGP\"                                    , \"Cells_Granularity_2_DNA\"                                    ,\n",
    " \"Cells_Granularity_2_ER\"                                     , \"Cells_Granularity_2_Mito\"                                   , \"Cells_Granularity_2_RNA\"                                    , \"Cells_Granularity_3_AGP\"                                    ,\n",
    " \"Cells_Granularity_3_DNA\"                                    , \"Cells_Granularity_3_ER\"                                     , \"Cells_Granularity_3_Mito\"                                   , \"Cells_Granularity_3_RNA\"                                    ,\n",
    " \"Cells_Granularity_4_AGP\"                                    , \"Cells_Granularity_4_DNA\"                                    , \"Cells_Granularity_4_ER\"                                     , \"Cells_Granularity_4_Mito\"                                   ,\n",
    " \"Cells_Granularity_4_RNA\"                                    , \"Cells_Granularity_5_AGP\"                                    , \"Cells_Granularity_5_DNA\"                                    , \"Cells_Granularity_5_ER\"                                     ,\n",
    " \"Cells_Granularity_5_Mito\"                                   , \"Cells_Granularity_5_RNA\"                                    , \"Cells_Granularity_6_AGP\"                                    , \"Cells_Granularity_6_DNA\"                                    ,\n",
    " \"Cells_Granularity_6_ER\"                                     , \"Cells_Granularity_6_Mito\"                                   , \"Cells_Granularity_6_RNA\"                                    , \"Cells_Granularity_7_AGP\"                                    ,\n",
    " \"Cells_Granularity_7_DNA\"                                    , \"Cells_Granularity_7_ER\"                                     , \"Cells_Granularity_7_Mito\"                                   , \"Cells_Granularity_7_RNA\"                                    ,\n",
    " \"Cells_Granularity_8_AGP\"                                    , \"Cells_Granularity_8_DNA\"                                    , \"Cells_Granularity_8_ER\"                                     , \"Cells_Granularity_8_Mito\"                                   ,\n",
    " \"Cells_Granularity_8_RNA\"                                    , \"Cells_Granularity_9_AGP\"                                    , \"Cells_Granularity_9_DNA\"                                    , \"Cells_Granularity_9_ER\"                                     ,\n",
    " \"Cells_Granularity_9_Mito\"                                   , \"Cells_Granularity_9_RNA\"                                    , \"Cells_Intensity_IntegratedIntensityEdge_AGP\"                , \"Cells_Intensity_IntegratedIntensityEdge_DNA\"                ,\n",
    " \"Cells_Intensity_IntegratedIntensityEdge_ER\"                 , \"Cells_Intensity_IntegratedIntensityEdge_Mito\"               , \"Cells_Intensity_IntegratedIntensityEdge_RNA\"                , \"Cells_Intensity_IntegratedIntensity_AGP\"                    ,\n",
    " \"Cells_Intensity_IntegratedIntensity_DNA\"                    , \"Cells_Intensity_IntegratedIntensity_ER\"                     , \"Cells_Intensity_IntegratedIntensity_Mito\"                   , \"Cells_Intensity_IntegratedIntensity_RNA\"                    ,\n",
    " \"Cells_Intensity_LowerQuartileIntensity_AGP\"                 , \"Cells_Intensity_LowerQuartileIntensity_DNA\"                 , \"Cells_Intensity_LowerQuartileIntensity_ER\"                  , \"Cells_Intensity_LowerQuartileIntensity_Mito\"                ,\n",
    " \"Cells_Intensity_LowerQuartileIntensity_RNA\"                 , \"Cells_Intensity_MADIntensity_AGP\"                           , \"Cells_Intensity_MADIntensity_DNA\"                           , \"Cells_Intensity_MADIntensity_ER\"                            ,\n",
    " \"Cells_Intensity_MADIntensity_Mito\"                          , \"Cells_Intensity_MADIntensity_RNA\"                           , \"Cells_Intensity_MassDisplacement_AGP\"                       , \"Cells_Intensity_MassDisplacement_DNA\"                       ,\n",
    " \"Cells_Intensity_MassDisplacement_ER\"                        , \"Cells_Intensity_MassDisplacement_Mito\"                      , \"Cells_Intensity_MaxIntensityEdge_AGP\"                       , \"Cells_Intensity_MaxIntensityEdge_DNA\"                       ,\n",
    " \"Cells_Intensity_MaxIntensityEdge_Mito\"                      , \"Cells_Intensity_MaxIntensityEdge_RNA\"                       , \"Cells_Intensity_MaxIntensity_AGP\"                           , \"Cells_Intensity_MaxIntensity_DNA\"                           ,\n",
    " \"Cells_Intensity_MaxIntensity_ER\"                            , \"Cells_Intensity_MaxIntensity_Mito\"                          , \"Cells_Intensity_MaxIntensity_RNA\"                           , \"Cells_Intensity_MeanIntensityEdge_AGP\"                      ,\n",
    " \"Cells_Intensity_MeanIntensityEdge_DNA\"                      , \"Cells_Intensity_MeanIntensityEdge_ER\"                       , \"Cells_Intensity_MeanIntensity_DNA\"                          , \"Cells_Intensity_MeanIntensity_ER\"                           ,\n",
    " \"Cells_Intensity_MedianIntensity_DNA\"                        , \"Cells_Intensity_MedianIntensity_ER\"                         , \"Cells_Intensity_MedianIntensity_Mito\"                       , \"Cells_Intensity_MinIntensityEdge_RNA\"                       ,\n",
    " \"Cells_Intensity_MinIntensity_AGP\"                           , \"Cells_Intensity_MinIntensity_DNA\"                           , \"Cells_Intensity_MinIntensity_ER\"                            , \"Cells_Intensity_MinIntensity_Mito\"                          ,\n",
    " \"Cells_Intensity_StdIntensityEdge_AGP\"                       , \"Cells_Intensity_StdIntensityEdge_ER\"                        , \"Cells_Intensity_StdIntensityEdge_RNA\"                       , \"Cells_Intensity_StdIntensity_AGP\"                           ,\n",
    " \"Cells_Intensity_StdIntensity_DNA\"                           , \"Cells_Intensity_StdIntensity_ER\"                            , \"Cells_Intensity_StdIntensity_Mito\"                          , \"Cells_Intensity_StdIntensity_RNA\"                           ,\n",
    " \"Cells_Intensity_UpperQuartileIntensity_AGP\"                 , \"Cells_Intensity_UpperQuartileIntensity_DNA\"                 , \"Cells_Intensity_UpperQuartileIntensity_RNA\"                 , \"Cells_Neighbors_AngleBetweenNeighbors_5\"                    ,\n",
    " \"Cells_Neighbors_FirstClosestDistance_5\"                     , \"Cells_Neighbors_NumberOfNeighbors_Adjacent\"                 , \"Cells_Neighbors_SecondClosestDistance_Adjacent\"             , \"Cells_Neighbors_SecondClosestObjectNumber_Adjacent\"         ,\n",
    " \"Cells_RadialDistribution_FracAtD_AGP_1of4\"                  , \"Cells_RadialDistribution_FracAtD_AGP_3of4\"                  , \"Cells_RadialDistribution_FracAtD_AGP_4of4\"                  , \"Cells_RadialDistribution_FracAtD_DNA_1of4\"                  ,\n",
    " \"Cells_RadialDistribution_FracAtD_DNA_2of4\"                  , \"Cells_RadialDistribution_FracAtD_DNA_3of4\"                  , \"Cells_RadialDistribution_FracAtD_ER_1of4\"                   , \"Cells_RadialDistribution_FracAtD_ER_3of4\"                   ,\n",
    " \"Cells_RadialDistribution_FracAtD_ER_4of4\"                   , \"Cells_RadialDistribution_FracAtD_Mito_2of4\"                 , \"Cells_RadialDistribution_FracAtD_Mito_3of4\"                 , \"Cells_RadialDistribution_FracAtD_Mito_4of4\"                 ,\n",
    " \"Cells_RadialDistribution_FracAtD_RNA_1of4\"                  , \"Cells_RadialDistribution_FracAtD_RNA_3of4\"                  , \"Cells_RadialDistribution_FracAtD_RNA_4of4\"                  , \"Cells_RadialDistribution_FracAtD_mito_tubeness_10of16\"      ,\n",
    " \"Cells_RadialDistribution_FracAtD_mito_tubeness_10of20\"      , \"Cells_RadialDistribution_FracAtD_mito_tubeness_12of16\"      , \"Cells_RadialDistribution_FracAtD_mito_tubeness_13of20\"      , \"Cells_RadialDistribution_FracAtD_mito_tubeness_14of20\"      ,\n",
    " \"Cells_RadialDistribution_FracAtD_mito_tubeness_19of20\"      , \"Cells_RadialDistribution_FracAtD_mito_tubeness_1of16\"       , \"Cells_RadialDistribution_FracAtD_mito_tubeness_1of20\"       , \"Cells_RadialDistribution_FracAtD_mito_tubeness_20of20\"      ,\n",
    " \"Cells_RadialDistribution_FracAtD_mito_tubeness_2of20\"       , \"Cells_RadialDistribution_FracAtD_mito_tubeness_3of16\"       , \"Cells_RadialDistribution_FracAtD_mito_tubeness_7of20\"       , \"Cells_RadialDistribution_FracAtD_mito_tubeness_9of16\"       ,\n",
    " \"Cells_RadialDistribution_FracAtD_mito_tubeness_Overflow\"    , \"Cells_RadialDistribution_MeanFrac_AGP_1of4\"                 , \"Cells_RadialDistribution_MeanFrac_AGP_3of4\"                 , \"Cells_RadialDistribution_MeanFrac_AGP_4of4\"                 ,\n",
    " \"Cells_RadialDistribution_MeanFrac_DNA_2of4\"                 , \"Cells_RadialDistribution_MeanFrac_DNA_3of4\"                 , \"Cells_RadialDistribution_MeanFrac_DNA_4of4\"                 , \"Cells_RadialDistribution_MeanFrac_ER_1of4\"                  ,\n",
    " \"Cells_RadialDistribution_MeanFrac_ER_3of4\"                  , \"Cells_RadialDistribution_MeanFrac_ER_4of4\"                  , \"Cells_RadialDistribution_MeanFrac_Mito_1of4\"                , \"Cells_RadialDistribution_MeanFrac_Mito_3of4\"                ,\n",
    " \"Cells_RadialDistribution_MeanFrac_Mito_4of4\"                , \"Cells_RadialDistribution_MeanFrac_RNA_1of4\"                 , \"Cells_RadialDistribution_MeanFrac_RNA_3of4\"                 , \"Cells_RadialDistribution_MeanFrac_RNA_4of4\"                 ,\n",
    " \"Cells_RadialDistribution_MeanFrac_mito_tubeness_10of16\"     , \"Cells_RadialDistribution_MeanFrac_mito_tubeness_10of20\"     , \"Cells_RadialDistribution_MeanFrac_mito_tubeness_12of16\"     , \"Cells_RadialDistribution_MeanFrac_mito_tubeness_13of20\"     ,\n",
    " \"Cells_RadialDistribution_MeanFrac_mito_tubeness_14of20\"     , \"Cells_RadialDistribution_MeanFrac_mito_tubeness_16of20\"     , \"Cells_RadialDistribution_MeanFrac_mito_tubeness_17of20\"     , \"Cells_RadialDistribution_MeanFrac_mito_tubeness_19of20\"     ,\n",
    " \"Cells_RadialDistribution_MeanFrac_mito_tubeness_1of20\"      , \"Cells_RadialDistribution_MeanFrac_mito_tubeness_20of20\"     , \"Cells_RadialDistribution_MeanFrac_mito_tubeness_2of20\"      , \"Cells_RadialDistribution_MeanFrac_mito_tubeness_7of20\"      ,\n",
    " \"Cells_RadialDistribution_MeanFrac_mito_tubeness_9of16\"      , \"Cells_RadialDistribution_MeanFrac_mito_tubeness_Overflow\"   , \"Cells_RadialDistribution_RadialCV_AGP_1of4\"                 , \"Cells_RadialDistribution_RadialCV_AGP_2of4\"                 ,\n",
    " \"Cells_RadialDistribution_RadialCV_AGP_3of4\"                 , \"Cells_RadialDistribution_RadialCV_AGP_4of4\"                 , \"Cells_RadialDistribution_RadialCV_DNA_1of4\"                 , \"Cells_RadialDistribution_RadialCV_DNA_2of4\"                 ,\n",
    " \"Cells_RadialDistribution_RadialCV_DNA_3of4\"                 , \"Cells_RadialDistribution_RadialCV_DNA_4of4\"                 , \"Cells_RadialDistribution_RadialCV_ER_1of4\"                  , \"Cells_RadialDistribution_RadialCV_ER_2of4\"                  ,\n",
    " \"Cells_RadialDistribution_RadialCV_ER_3of4\"                  , \"Cells_RadialDistribution_RadialCV_ER_4of4\"                  , \"Cells_RadialDistribution_RadialCV_Mito_1of4\"                , \"Cells_RadialDistribution_RadialCV_Mito_2of4\"                ,\n",
    " \"Cells_RadialDistribution_RadialCV_Mito_3of4\"                , \"Cells_RadialDistribution_RadialCV_Mito_4of4\"                , \"Cells_RadialDistribution_RadialCV_RNA_1of4\"                 , \"Cells_RadialDistribution_RadialCV_RNA_2of4\"                 ,\n",
    " \"Cells_RadialDistribution_RadialCV_RNA_3of4\"                 , \"Cells_RadialDistribution_RadialCV_mito_tubeness_12of16\"     , \"Cells_RadialDistribution_RadialCV_mito_tubeness_13of20\"     , \"Cells_RadialDistribution_RadialCV_mito_tubeness_16of16\"     ,\n",
    " \"Cells_RadialDistribution_RadialCV_mito_tubeness_16of20\"     , \"Cells_RadialDistribution_RadialCV_mito_tubeness_17of20\"     , \"Cells_RadialDistribution_RadialCV_mito_tubeness_19of20\"     , \"Cells_RadialDistribution_RadialCV_mito_tubeness_1of16\"      ,\n",
    " \"Cells_RadialDistribution_RadialCV_mito_tubeness_1of20\"      , \"Cells_RadialDistribution_RadialCV_mito_tubeness_20of20\"     , \"Cells_RadialDistribution_RadialCV_mito_tubeness_2of16\"      , \"Cells_RadialDistribution_RadialCV_mito_tubeness_2of20\"      ,\n",
    " \"Cells_RadialDistribution_RadialCV_mito_tubeness_3of16\"      , \"Cells_RadialDistribution_RadialCV_mito_tubeness_3of20\"      , \"Cells_RadialDistribution_RadialCV_mito_tubeness_4of20\"      , \"Cells_RadialDistribution_RadialCV_mito_tubeness_5of16\"      ,\n",
    " \"Cells_RadialDistribution_RadialCV_mito_tubeness_5of20\"      , \"Cells_RadialDistribution_RadialCV_mito_tubeness_6of16\"      , \"Cells_RadialDistribution_RadialCV_mito_tubeness_7of16\"      , \"Cells_RadialDistribution_RadialCV_mito_tubeness_8of16\"      ,\n",
    " \"Cells_RadialDistribution_RadialCV_mito_tubeness_8of20\"      , \"Cells_RadialDistribution_RadialCV_mito_tubeness_9of16\"      , \"Cells_RadialDistribution_RadialCV_mito_tubeness_Overflow\"   \n",
    "}\n",
    "\n",
    "correlation_dropped_cols_1 = \\\n",
    "{\"Cells_AreaShape_Area\"                                       , \"Cells_AreaShape_BoundingBoxArea\"                            , \"Cells_AreaShape_BoundingBoxMaximum_Y\"                       , \"Cells_AreaShape_BoundingBoxMinimum_X\"                       ,\n",
    " \"Cells_AreaShape_BoundingBoxMinimum_Y\"                       , \"Cells_AreaShape_EquivalentDiameter\"                         , \"Cells_AreaShape_MaxFeretDiameter\"                           , \"Cells_AreaShape_MaximumRadius\"                              ,\n",
    " \"Cells_AreaShape_MeanRadius\"                                 , \"Cells_AreaShape_MinFeretDiameter\"                           , \"Cells_Correlation_Correlation_AGP_RNA\"                      , \"Cells_Granularity_1_RNA\"                                    ,\n",
    " \"Cells_Intensity_MassDisplacement_RNA\"                       , \"Cells_Intensity_MaxIntensityEdge_ER\"                        , \"Cells_Intensity_MeanIntensityEdge_Mito\"                     , \"Cells_Intensity_MeanIntensityEdge_RNA\"                      ,\n",
    " \"Cells_Intensity_MeanIntensity_AGP\"                          , \"Cells_Intensity_MeanIntensity_Mito\"                         , \"Cells_Intensity_MeanIntensity_RNA\"                          , \"Cells_Intensity_MedianIntensity_AGP\"                        ,\n",
    " \"Cells_Intensity_MedianIntensity_RNA\"                        , \"Cells_Intensity_MinIntensityEdge_AGP\"                       , \"Cells_Intensity_MinIntensityEdge_DNA\"                       , \"Cells_Intensity_MinIntensityEdge_ER\"                        ,\n",
    " \"Cells_Intensity_MinIntensityEdge_Mito\"                      , \"Cells_Intensity_MinIntensity_RNA\"                           , \"Cells_Intensity_StdIntensityEdge_DNA\"                       , \"Cells_Intensity_StdIntensityEdge_Mito\"                      ,\n",
    " \"Cells_Intensity_UpperQuartileIntensity_ER\"                  , \"Cells_Intensity_UpperQuartileIntensity_Mito\"                , \"Cells_Neighbors_AngleBetweenNeighbors_Adjacent\"             , \"Cells_Neighbors_FirstClosestDistance_Adjacent\"              ,\n",
    " \"Cells_Neighbors_FirstClosestObjectNumber_5\"                 , \"Cells_Neighbors_FirstClosestObjectNumber_Adjacent\"          , \"Cells_Neighbors_NumberOfNeighbors_5\"                        , \"Cells_Neighbors_PercentTouching_5\"                          ,\n",
    " \"Cells_Neighbors_PercentTouching_Adjacent\"                   , \"Cells_Neighbors_SecondClosestDistance_5\"                    , \"Cells_Neighbors_SecondClosestObjectNumber_5\"                , \"Cells_Parent_CellsIncludingEdges\"                           ,\n",
    " \"Cells_RadialDistribution_FracAtD_AGP_2of4\"                  , \"Cells_RadialDistribution_FracAtD_DNA_4of4\"                  , \"Cells_RadialDistribution_FracAtD_ER_2of4\"                   , \"Cells_RadialDistribution_FracAtD_Mito_1of4\"                 ,\n",
    " \"Cells_RadialDistribution_FracAtD_RNA_2of4\"                  , \"Cells_RadialDistribution_FracAtD_mito_tubeness_11of16\"      , \"Cells_RadialDistribution_FracAtD_mito_tubeness_11of20\"      , \"Cells_RadialDistribution_FracAtD_mito_tubeness_12of20\"      ,\n",
    " \"Cells_RadialDistribution_FracAtD_mito_tubeness_13of16\"      , \"Cells_RadialDistribution_FracAtD_mito_tubeness_14of16\"      , \"Cells_RadialDistribution_FracAtD_mito_tubeness_15of16\"      , \"Cells_RadialDistribution_FracAtD_mito_tubeness_15of20\"      ,\n",
    " \"Cells_RadialDistribution_FracAtD_mito_tubeness_16of16\"      , \"Cells_RadialDistribution_FracAtD_mito_tubeness_16of20\"      , \"Cells_RadialDistribution_FracAtD_mito_tubeness_17of20\"      , \"Cells_RadialDistribution_FracAtD_mito_tubeness_18of20\"      ,\n",
    " \"Cells_RadialDistribution_FracAtD_mito_tubeness_2of16\"       , \"Cells_RadialDistribution_FracAtD_mito_tubeness_3of20\"       , \"Cells_RadialDistribution_FracAtD_mito_tubeness_4of16\"       , \"Cells_RadialDistribution_FracAtD_mito_tubeness_4of20\"       ,\n",
    " \"Cells_RadialDistribution_FracAtD_mito_tubeness_5of16\"       , \"Cells_RadialDistribution_FracAtD_mito_tubeness_5of20\"       , \"Cells_RadialDistribution_FracAtD_mito_tubeness_6of16\"       , \"Cells_RadialDistribution_FracAtD_mito_tubeness_6of20\"       ,\n",
    " \"Cells_RadialDistribution_FracAtD_mito_tubeness_7of16\"       , \"Cells_RadialDistribution_FracAtD_mito_tubeness_8of16\"       , \"Cells_RadialDistribution_FracAtD_mito_tubeness_8of20\"       , \"Cells_RadialDistribution_FracAtD_mito_tubeness_9of20\"       ,\n",
    " \"Cells_RadialDistribution_MeanFrac_AGP_2of4\"                 , \"Cells_RadialDistribution_MeanFrac_DNA_1of4\"                 , \"Cells_RadialDistribution_MeanFrac_ER_2of4\"                  , \"Cells_RadialDistribution_MeanFrac_Mito_2of4\"                ,\n",
    " \"Cells_RadialDistribution_MeanFrac_RNA_2of4\"                 , \"Cells_RadialDistribution_MeanFrac_mito_tubeness_11of16\"     , \"Cells_RadialDistribution_MeanFrac_mito_tubeness_11of20\"     , \"Cells_RadialDistribution_MeanFrac_mito_tubeness_12of20\"     ,\n",
    " \"Cells_RadialDistribution_MeanFrac_mito_tubeness_13of16\"     , \"Cells_RadialDistribution_MeanFrac_mito_tubeness_14of16\"     , \"Cells_RadialDistribution_MeanFrac_mito_tubeness_15of16\"     , \"Cells_RadialDistribution_MeanFrac_mito_tubeness_15of20\"     ,\n",
    " \"Cells_RadialDistribution_MeanFrac_mito_tubeness_16of16\"     , \"Cells_RadialDistribution_MeanFrac_mito_tubeness_18of20\"     , \"Cells_RadialDistribution_MeanFrac_mito_tubeness_1of16\"      , \"Cells_RadialDistribution_MeanFrac_mito_tubeness_2of16\"      ,\n",
    " \"Cells_RadialDistribution_MeanFrac_mito_tubeness_3of16\"      , \"Cells_RadialDistribution_MeanFrac_mito_tubeness_3of20\"      , \"Cells_RadialDistribution_MeanFrac_mito_tubeness_4of16\"      , \"Cells_RadialDistribution_MeanFrac_mito_tubeness_4of20\"      ,\n",
    " \"Cells_RadialDistribution_MeanFrac_mito_tubeness_5of16\"      , \"Cells_RadialDistribution_MeanFrac_mito_tubeness_5of20\"      , \"Cells_RadialDistribution_MeanFrac_mito_tubeness_6of16\"      , \"Cells_RadialDistribution_MeanFrac_mito_tubeness_6of20\"      ,\n",
    " \"Cells_RadialDistribution_MeanFrac_mito_tubeness_7of16\"      , \"Cells_RadialDistribution_MeanFrac_mito_tubeness_8of16\"      , \"Cells_RadialDistribution_MeanFrac_mito_tubeness_8of20\"      , \"Cells_RadialDistribution_MeanFrac_mito_tubeness_9of20\"      ,\n",
    " \"Cells_RadialDistribution_RadialCV_RNA_4of4\"                 , \"Cells_RadialDistribution_RadialCV_mito_tubeness_10of16\"     , \"Cells_RadialDistribution_RadialCV_mito_tubeness_10of20\"     , \"Cells_RadialDistribution_RadialCV_mito_tubeness_11of16\"     ,\n",
    " \"Cells_RadialDistribution_RadialCV_mito_tubeness_11of20\"     , \"Cells_RadialDistribution_RadialCV_mito_tubeness_12of20\"     , \"Cells_RadialDistribution_RadialCV_mito_tubeness_13of16\"     , \"Cells_RadialDistribution_RadialCV_mito_tubeness_14of16\"     ,\n",
    " \"Cells_RadialDistribution_RadialCV_mito_tubeness_14of20\"     , \"Cells_RadialDistribution_RadialCV_mito_tubeness_15of16\"     , \"Cells_RadialDistribution_RadialCV_mito_tubeness_15of20\"     , \"Cells_RadialDistribution_RadialCV_mito_tubeness_18of20\"     ,\n",
    " \"Cells_RadialDistribution_RadialCV_mito_tubeness_4of16\"      , \"Cells_RadialDistribution_RadialCV_mito_tubeness_6of20\"      , \"Cells_RadialDistribution_RadialCV_mito_tubeness_7of20\"      , \"Cells_RadialDistribution_RadialCV_mito_tubeness_9of20\"      \n",
    "}\n",
    "\n",
    "variance_dropped_cols_1 = set()"
   ]
  },
  {
   "cell_type": "code",
   "execution_count": 268,
   "id": "30418371-bd10-453a-9512-9f1601ea9d8a",
   "metadata": {
    "execution": {
     "iopub.execute_input": "2024-05-12T11:27:39.413157Z",
     "iopub.status.busy": "2024-05-12T11:27:39.412589Z",
     "iopub.status.idle": "2024-05-12T11:27:39.445105Z",
     "shell.execute_reply": "2024-05-12T11:27:39.444439Z",
     "shell.execute_reply.started": "2024-05-12T11:27:39.413116Z"
    }
   },
   "outputs": [
    {
     "data": {
      "text/plain": [
       "set()"
      ]
     },
     "execution_count": 268,
     "metadata": {},
     "output_type": "execute_result"
    },
    {
     "name": "stdout",
     "output_type": "stream",
     "text": [
      " Number of cols dropped - high correlation: 112\n",
      " Number of cols dropped - low variance    : 0\n",
      " Number of selected cols                  : 363\n",
      " Total                                    : 475\n"
     ]
    }
   ],
   "source": [
    "variance_dropped_cols_1 & correlation_dropped_cols_1\n",
    "print(f\" Number of cols dropped - high correlation: {len(correlation_dropped_cols_1)}\")\n",
    "print(f\" Number of cols dropped - low variance    : {len(variance_dropped_cols_1)}\")\n",
    "print(f\" Number of selected cols                  : {len(selected_cols_1)}\")\n",
    "print(f\" Total                                    : {len(selected_cols_1)+len(correlation_dropped_cols_1)+len(variance_dropped_cols_1)}\")"
   ]
  },
  {
   "cell_type": "code",
   "execution_count": 274,
   "id": "53f3ce78-efc4-4b69-b0ab-44a35f2186ce",
   "metadata": {
    "execution": {
     "iopub.execute_input": "2024-05-12T11:29:02.657333Z",
     "iopub.status.busy": "2024-05-12T11:29:02.656758Z",
     "iopub.status.idle": "2024-05-12T11:29:02.690407Z",
     "shell.execute_reply": "2024-05-12T11:29:02.689924Z",
     "shell.execute_reply.started": "2024-05-12T11:29:02.657279Z"
    }
   },
   "outputs": [
    {
     "data": {
      "text/plain": [
       "set()"
      ]
     },
     "execution_count": 274,
     "metadata": {},
     "output_type": "execute_result"
    },
    {
     "data": {
      "text/plain": [
       "set()"
      ]
     },
     "execution_count": 274,
     "metadata": {},
     "output_type": "execute_result"
    },
    {
     "data": {
      "text/plain": [
       "{'Cells_RadialDistribution_FracAtD_mito_tubeness_Overflow',\n",
       " 'Cells_RadialDistribution_MeanFrac_mito_tubeness_Overflow',\n",
       " 'Cells_RadialDistribution_RadialCV_mito_tubeness_Overflow'}"
      ]
     },
     "execution_count": 274,
     "metadata": {},
     "output_type": "execute_result"
    }
   ],
   "source": [
    "(correlation_dropped_cols_1) & set(zero_features)\n",
    "(variance_dropped_cols_1) & set(zero_features)\n",
    "(selected_cols_1) & set(zero_features)"
   ]
  },
  {
   "cell_type": "markdown",
   "id": "b998eb37-8fd2-489e-8de8-c279228fe601",
   "metadata": {},
   "source": [
    "### Cells - group 2"
   ]
  },
  {
   "cell_type": "code",
   "execution_count": 275,
   "id": "3e2467e1-b960-4f4c-9ee1-1b9d73680cb8",
   "metadata": {
    "execution": {
     "iopub.execute_input": "2024-05-12T11:29:14.817284Z",
     "iopub.status.busy": "2024-05-12T11:29:14.816807Z",
     "iopub.status.idle": "2024-05-12T11:29:14.878339Z",
     "shell.execute_reply": "2024-05-12T11:29:14.877795Z",
     "shell.execute_reply.started": "2024-05-12T11:29:14.817244Z"
    }
   },
   "outputs": [],
   "source": [
    "selected_cols_2 = \\\n",
    "{\"Cells_Texture_AngularSecondMoment_AGP_3_00_256\"             , \"Cells_Texture_AngularSecondMoment_DNA_10_03_256\"            , \"Cells_Texture_AngularSecondMoment_ER_10_01_256\"             , \"Cells_Texture_AngularSecondMoment_Mito_10_01_256\"           ,\n",
    " \"Cells_Texture_AngularSecondMoment_RNA_10_03_256\"            , \"Cells_Texture_Contrast_DNA_5_00_256\"                        , \"Cells_Texture_Contrast_Mito_3_00_256\"                       , \"Cells_Texture_Contrast_RNA_10_02_256\"                       ,\n",
    " \"Cells_Texture_Correlation_AGP_10_00_256\"                    , \"Cells_Texture_Correlation_AGP_10_01_256\"                    , \"Cells_Texture_Correlation_AGP_10_02_256\"                    , \"Cells_Texture_Correlation_AGP_10_03_256\"                    ,\n",
    " \"Cells_Texture_Correlation_AGP_3_00_256\"                     , \"Cells_Texture_Correlation_AGP_3_01_256\"                     , \"Cells_Texture_Correlation_AGP_3_02_256\"                     , \"Cells_Texture_Correlation_AGP_3_03_256\"                     ,\n",
    " \"Cells_Texture_Correlation_AGP_5_01_256\"                     , \"Cells_Texture_Correlation_DNA_10_00_256\"                    , \"Cells_Texture_Correlation_DNA_10_01_256\"                    , \"Cells_Texture_Correlation_DNA_10_02_256\"                    ,\n",
    " \"Cells_Texture_Correlation_DNA_10_03_256\"                    , \"Cells_Texture_Correlation_DNA_3_00_256\"                     , \"Cells_Texture_Correlation_DNA_3_01_256\"                     , \"Cells_Texture_Correlation_DNA_3_02_256\"                     ,\n",
    " \"Cells_Texture_Correlation_DNA_3_03_256\"                     , \"Cells_Texture_Correlation_DNA_5_01_256\"                     , \"Cells_Texture_Correlation_DNA_5_03_256\"                     , \"Cells_Texture_Correlation_ER_10_00_256\"                     ,\n",
    " \"Cells_Texture_Correlation_ER_10_01_256\"                     , \"Cells_Texture_Correlation_ER_10_02_256\"                     , \"Cells_Texture_Correlation_ER_10_03_256\"                     , \"Cells_Texture_Correlation_ER_3_00_256\"                      ,\n",
    " \"Cells_Texture_Correlation_Mito_10_00_256\"                   , \"Cells_Texture_Correlation_Mito_10_01_256\"                   , \"Cells_Texture_Correlation_Mito_10_02_256\"                   , \"Cells_Texture_Correlation_Mito_10_03_256\"                   ,\n",
    " \"Cells_Texture_Correlation_Mito_3_00_256\"                    , \"Cells_Texture_Correlation_Mito_3_02_256\"                    , \"Cells_Texture_Correlation_RNA_10_00_256\"                    , \"Cells_Texture_Correlation_RNA_10_01_256\"                    ,\n",
    " \"Cells_Texture_Correlation_RNA_10_02_256\"                    , \"Cells_Texture_Correlation_RNA_10_03_256\"                    , \"Cells_Texture_Correlation_RNA_3_00_256\"                     , \"Cells_Texture_DifferenceEntropy_AGP_3_00_256\"               ,\n",
    " \"Cells_Texture_DifferenceEntropy_RNA_3_00_256\"               , \"Cells_Texture_DifferenceVariance_AGP_3_00_256\"              , \"Cells_Texture_DifferenceVariance_DNA_10_01_256\"             , \"Cells_Texture_DifferenceVariance_ER_10_03_256\"              ,\n",
    " \"Cells_Texture_DifferenceVariance_Mito_3_00_256\"             , \"Cells_Texture_DifferenceVariance_RNA_10_03_256\"             , \"Cells_Texture_Entropy_AGP_10_03_256\"                        , \"Cells_Texture_Entropy_DNA_10_03_256\"                        ,\n",
    " \"Cells_Texture_Entropy_ER_10_01_256\"                         , \"Cells_Texture_Entropy_Mito_10_01_256\"                       , \"Cells_Texture_Entropy_RNA_10_03_256\"                        , \"Cells_Texture_InfoMeas1_AGP_10_00_256\"                      ,\n",
    " \"Cells_Texture_InfoMeas1_AGP_10_02_256\"                      , \"Cells_Texture_InfoMeas1_AGP_10_03_256\"                      , \"Cells_Texture_InfoMeas1_AGP_3_00_256\"                       , \"Cells_Texture_InfoMeas1_AGP_3_01_256\"                       ,\n",
    " \"Cells_Texture_InfoMeas1_AGP_3_02_256\"                       , \"Cells_Texture_InfoMeas1_AGP_3_03_256\"                       , \"Cells_Texture_InfoMeas1_DNA_10_00_256\"                      , \"Cells_Texture_InfoMeas1_DNA_10_01_256\"                      ,\n",
    " \"Cells_Texture_InfoMeas1_DNA_10_02_256\"                      , \"Cells_Texture_InfoMeas1_DNA_10_03_256\"                      , \"Cells_Texture_InfoMeas1_DNA_3_00_256\"                       , \"Cells_Texture_InfoMeas1_DNA_3_01_256\"                       ,\n",
    " \"Cells_Texture_InfoMeas1_DNA_3_02_256\"                       , \"Cells_Texture_InfoMeas1_DNA_3_03_256\"                       , \"Cells_Texture_InfoMeas1_DNA_5_00_256\"                       , \"Cells_Texture_InfoMeas1_DNA_5_01_256\"                       ,\n",
    " \"Cells_Texture_InfoMeas1_DNA_5_02_256\"                       , \"Cells_Texture_InfoMeas1_DNA_5_03_256\"                       , \"Cells_Texture_InfoMeas1_ER_10_00_256\"                       , \"Cells_Texture_InfoMeas1_ER_10_01_256\"                       ,\n",
    " \"Cells_Texture_InfoMeas1_ER_10_02_256\"                       , \"Cells_Texture_InfoMeas1_ER_10_03_256\"                       , \"Cells_Texture_InfoMeas1_ER_5_00_256\"                        , \"Cells_Texture_InfoMeas1_ER_5_01_256\"                        ,\n",
    " \"Cells_Texture_InfoMeas1_ER_5_02_256\"                        , \"Cells_Texture_InfoMeas1_ER_5_03_256\"                        , \"Cells_Texture_InfoMeas1_Mito_10_00_256\"                     , \"Cells_Texture_InfoMeas1_Mito_10_01_256\"                     ,\n",
    " \"Cells_Texture_InfoMeas1_Mito_10_02_256\"                     , \"Cells_Texture_InfoMeas1_Mito_10_03_256\"                     , \"Cells_Texture_InfoMeas1_Mito_3_00_256\"                      , \"Cells_Texture_InfoMeas1_Mito_3_02_256\"                      ,\n",
    " \"Cells_Texture_InfoMeas1_Mito_5_01_256\"                      , \"Cells_Texture_InfoMeas1_Mito_5_03_256\"                      , \"Cells_Texture_InfoMeas1_RNA_10_00_256\"                      , \"Cells_Texture_InfoMeas1_RNA_10_01_256\"                      ,\n",
    " \"Cells_Texture_InfoMeas1_RNA_10_02_256\"                      , \"Cells_Texture_InfoMeas1_RNA_10_03_256\"                      , \"Cells_Texture_InfoMeas1_RNA_5_00_256\"                       , \"Cells_Texture_InfoMeas1_RNA_5_01_256\"                       ,\n",
    " \"Cells_Texture_InfoMeas1_RNA_5_02_256\"                       , \"Cells_Texture_InfoMeas1_RNA_5_03_256\"                       , \"Cells_Texture_InfoMeas2_AGP_10_02_256\"                      , \"Cells_Texture_InfoMeas2_AGP_10_03_256\"                      ,\n",
    " \"Cells_Texture_InfoMeas2_AGP_3_00_256\"                       , \"Cells_Texture_InfoMeas2_AGP_3_01_256\"                       , \"Cells_Texture_InfoMeas2_AGP_3_02_256\"                       , \"Cells_Texture_InfoMeas2_AGP_3_03_256\"                       ,\n",
    " \"Cells_Texture_InfoMeas2_DNA_10_00_256\"                      , \"Cells_Texture_InfoMeas2_DNA_10_01_256\"                      , \"Cells_Texture_InfoMeas2_DNA_10_02_256\"                      , \"Cells_Texture_InfoMeas2_DNA_10_03_256\"                      ,\n",
    " \"Cells_Texture_InfoMeas2_DNA_3_02_256\"                       , \"Cells_Texture_InfoMeas2_ER_10_00_256\"                       , \"Cells_Texture_InfoMeas2_ER_10_01_256\"                       , \"Cells_Texture_InfoMeas2_ER_10_02_256\"                       ,\n",
    " \"Cells_Texture_InfoMeas2_ER_10_03_256\"                       , \"Cells_Texture_InfoMeas2_ER_3_02_256\"                        , \"Cells_Texture_InfoMeas2_Mito_3_02_256\"                      , \"Cells_Texture_InfoMeas2_RNA_10_00_256\"                      ,\n",
    " \"Cells_Texture_InfoMeas2_RNA_10_02_256\"                      , \"Cells_Texture_InfoMeas2_RNA_10_03_256\"                      , \"Cells_Texture_InfoMeas2_RNA_3_02_256\"                       , \"Cells_Texture_InverseDifferenceMoment_AGP_3_00_256\"         ,\n",
    " \"Cells_Texture_InverseDifferenceMoment_DNA_10_03_256\"        , \"Cells_Texture_InverseDifferenceMoment_ER_10_01_256\"         , \"Cells_Texture_InverseDifferenceMoment_ER_3_02_256\"          , \"Cells_Texture_InverseDifferenceMoment_Mito_10_01_256\"       ,\n",
    " \"Cells_Texture_InverseDifferenceMoment_RNA_10_03_256\"        , \"Cells_Texture_SumAverage_AGP_3_00_256\"                      , \"Cells_Texture_SumAverage_DNA_10_03_256\"                     , \"Cells_Texture_SumAverage_ER_3_00_256\"                       ,\n",
    " \"Cells_Texture_SumAverage_Mito_3_00_256\"                     , \"Cells_Texture_SumAverage_RNA_3_00_256\"                      , \"Cells_Texture_SumVariance_AGP_10_03_256\"                    , \"Cells_Texture_SumVariance_DNA_10_01_256\"                    ,\n",
    " \"Cells_Texture_SumVariance_ER_10_01_256\"                     , \"Cells_Texture_SumVariance_Mito_10_03_256\"                   , \"Cells_Texture_SumVariance_RNA_10_03_256\"                        \n",
    "}\n",
    "\n",
    "correlation_dropped_cols_2 = \\\n",
    "{\"Cells_Texture_AngularSecondMoment_AGP_10_00_256\"            , \"Cells_Texture_AngularSecondMoment_AGP_10_01_256\"            , \"Cells_Texture_AngularSecondMoment_AGP_10_02_256\"            , \"Cells_Texture_AngularSecondMoment_AGP_10_03_256\"            ,\n",
    " \"Cells_Texture_AngularSecondMoment_AGP_3_01_256\"             , \"Cells_Texture_AngularSecondMoment_AGP_3_02_256\"             , \"Cells_Texture_AngularSecondMoment_AGP_3_03_256\"             , \"Cells_Texture_AngularSecondMoment_AGP_5_00_256\"             ,\n",
    " \"Cells_Texture_AngularSecondMoment_AGP_5_01_256\"             , \"Cells_Texture_AngularSecondMoment_AGP_5_02_256\"             , \"Cells_Texture_AngularSecondMoment_AGP_5_03_256\"             , \"Cells_Texture_AngularSecondMoment_DNA_10_00_256\"            ,\n",
    " \"Cells_Texture_AngularSecondMoment_DNA_10_01_256\"            , \"Cells_Texture_AngularSecondMoment_DNA_10_02_256\"            , \"Cells_Texture_AngularSecondMoment_DNA_3_00_256\"             , \"Cells_Texture_AngularSecondMoment_DNA_3_01_256\"             ,\n",
    " \"Cells_Texture_AngularSecondMoment_DNA_3_02_256\"             , \"Cells_Texture_AngularSecondMoment_DNA_3_03_256\"             , \"Cells_Texture_AngularSecondMoment_DNA_5_00_256\"             , \"Cells_Texture_AngularSecondMoment_DNA_5_01_256\"             ,\n",
    " \"Cells_Texture_AngularSecondMoment_DNA_5_02_256\"             , \"Cells_Texture_AngularSecondMoment_DNA_5_03_256\"             , \"Cells_Texture_AngularSecondMoment_ER_10_00_256\"             , \"Cells_Texture_AngularSecondMoment_ER_10_02_256\"             ,\n",
    " \"Cells_Texture_AngularSecondMoment_ER_10_03_256\"             , \"Cells_Texture_AngularSecondMoment_ER_3_00_256\"              , \"Cells_Texture_AngularSecondMoment_ER_3_01_256\"              , \"Cells_Texture_AngularSecondMoment_ER_3_02_256\"              ,\n",
    " \"Cells_Texture_AngularSecondMoment_ER_3_03_256\"              , \"Cells_Texture_AngularSecondMoment_ER_5_00_256\"              , \"Cells_Texture_AngularSecondMoment_ER_5_01_256\"              , \"Cells_Texture_AngularSecondMoment_ER_5_02_256\"              ,\n",
    " \"Cells_Texture_AngularSecondMoment_ER_5_03_256\"              , \"Cells_Texture_AngularSecondMoment_Mito_10_00_256\"           , \"Cells_Texture_AngularSecondMoment_Mito_10_02_256\"           , \"Cells_Texture_AngularSecondMoment_Mito_10_03_256\"           ,\n",
    " \"Cells_Texture_AngularSecondMoment_Mito_3_00_256\"            , \"Cells_Texture_AngularSecondMoment_Mito_3_01_256\"            , \"Cells_Texture_AngularSecondMoment_Mito_3_02_256\"            , \"Cells_Texture_AngularSecondMoment_Mito_3_03_256\"            ,\n",
    " \"Cells_Texture_AngularSecondMoment_Mito_5_00_256\"            , \"Cells_Texture_AngularSecondMoment_Mito_5_01_256\"            , \"Cells_Texture_AngularSecondMoment_Mito_5_02_256\"            , \"Cells_Texture_AngularSecondMoment_Mito_5_03_256\"            ,\n",
    " \"Cells_Texture_AngularSecondMoment_RNA_10_00_256\"            , \"Cells_Texture_AngularSecondMoment_RNA_10_01_256\"            , \"Cells_Texture_AngularSecondMoment_RNA_10_02_256\"            , \"Cells_Texture_AngularSecondMoment_RNA_3_00_256\"             ,\n",
    " \"Cells_Texture_AngularSecondMoment_RNA_3_01_256\"             , \"Cells_Texture_AngularSecondMoment_RNA_3_02_256\"             , \"Cells_Texture_AngularSecondMoment_RNA_3_03_256\"             , \"Cells_Texture_AngularSecondMoment_RNA_5_00_256\"             ,\n",
    " \"Cells_Texture_AngularSecondMoment_RNA_5_01_256\"             , \"Cells_Texture_AngularSecondMoment_RNA_5_02_256\"             , \"Cells_Texture_AngularSecondMoment_RNA_5_03_256\"             , \"Cells_Texture_Contrast_AGP_10_00_256\"                       ,\n",
    " \"Cells_Texture_Contrast_AGP_10_01_256\"                       , \"Cells_Texture_Contrast_AGP_10_02_256\"                       , \"Cells_Texture_Contrast_AGP_10_03_256\"                       , \"Cells_Texture_Contrast_AGP_3_00_256\"                        ,\n",
    " \"Cells_Texture_Contrast_AGP_3_01_256\"                        , \"Cells_Texture_Contrast_AGP_3_02_256\"                        , \"Cells_Texture_Contrast_AGP_3_03_256\"                        , \"Cells_Texture_Contrast_AGP_5_00_256\"                        ,\n",
    " \"Cells_Texture_Contrast_AGP_5_01_256\"                        , \"Cells_Texture_Contrast_AGP_5_02_256\"                        , \"Cells_Texture_Contrast_AGP_5_03_256\"                        , \"Cells_Texture_Contrast_DNA_10_00_256\"                       ,\n",
    " \"Cells_Texture_Contrast_DNA_10_01_256\"                       , \"Cells_Texture_Contrast_DNA_10_02_256\"                       , \"Cells_Texture_Contrast_DNA_10_03_256\"                       , \"Cells_Texture_Contrast_DNA_3_00_256\"                        ,\n",
    " \"Cells_Texture_Contrast_DNA_3_01_256\"                        , \"Cells_Texture_Contrast_DNA_3_02_256\"                        , \"Cells_Texture_Contrast_DNA_3_03_256\"                        , \"Cells_Texture_Contrast_DNA_5_01_256\"                        ,\n",
    " \"Cells_Texture_Contrast_DNA_5_02_256\"                        , \"Cells_Texture_Contrast_DNA_5_03_256\"                        , \"Cells_Texture_Contrast_ER_10_00_256\"                        , \"Cells_Texture_Contrast_ER_10_01_256\"                        ,\n",
    " \"Cells_Texture_Contrast_ER_10_02_256\"                        , \"Cells_Texture_Contrast_ER_10_03_256\"                        , \"Cells_Texture_Contrast_ER_3_00_256\"                         , \"Cells_Texture_Contrast_ER_3_01_256\"                         ,\n",
    " \"Cells_Texture_Contrast_ER_3_02_256\"                         , \"Cells_Texture_Contrast_ER_3_03_256\"                         , \"Cells_Texture_Contrast_ER_5_00_256\"                         , \"Cells_Texture_Contrast_ER_5_01_256\"                         ,\n",
    " \"Cells_Texture_Contrast_ER_5_02_256\"                         , \"Cells_Texture_Contrast_ER_5_03_256\"                         , \"Cells_Texture_Contrast_Mito_10_00_256\"                      , \"Cells_Texture_Contrast_Mito_10_01_256\"                      ,\n",
    " \"Cells_Texture_Contrast_Mito_10_02_256\"                      , \"Cells_Texture_Contrast_Mito_10_03_256\"                      , \"Cells_Texture_Contrast_Mito_3_01_256\"                       , \"Cells_Texture_Contrast_Mito_3_02_256\"                       ,\n",
    " \"Cells_Texture_Contrast_Mito_3_03_256\"                       , \"Cells_Texture_Contrast_Mito_5_00_256\"                       , \"Cells_Texture_Contrast_Mito_5_01_256\"                       , \"Cells_Texture_Contrast_Mito_5_02_256\"                       ,\n",
    " \"Cells_Texture_Contrast_Mito_5_03_256\"                       , \"Cells_Texture_Contrast_RNA_10_00_256\"                       , \"Cells_Texture_Contrast_RNA_10_01_256\"                       , \"Cells_Texture_Contrast_RNA_10_03_256\"                       ,\n",
    " \"Cells_Texture_Contrast_RNA_3_00_256\"                        , \"Cells_Texture_Contrast_RNA_3_01_256\"                        , \"Cells_Texture_Contrast_RNA_3_02_256\"                        , \"Cells_Texture_Contrast_RNA_3_03_256\"                        ,\n",
    " \"Cells_Texture_Contrast_RNA_5_00_256\"                        , \"Cells_Texture_Contrast_RNA_5_01_256\"                        , \"Cells_Texture_Contrast_RNA_5_02_256\"                        , \"Cells_Texture_Contrast_RNA_5_03_256\"                        ,\n",
    " \"Cells_Texture_Correlation_AGP_5_00_256\"                     , \"Cells_Texture_Correlation_AGP_5_02_256\"                     , \"Cells_Texture_Correlation_AGP_5_03_256\"                     , \"Cells_Texture_Correlation_DNA_5_00_256\"                     ,\n",
    " \"Cells_Texture_Correlation_DNA_5_02_256\"                     , \"Cells_Texture_Correlation_ER_3_01_256\"                      , \"Cells_Texture_Correlation_ER_3_02_256\"                      , \"Cells_Texture_Correlation_ER_3_03_256\"                      ,\n",
    " \"Cells_Texture_Correlation_ER_5_00_256\"                      , \"Cells_Texture_Correlation_ER_5_01_256\"                      , \"Cells_Texture_Correlation_ER_5_02_256\"                      , \"Cells_Texture_Correlation_ER_5_03_256\"                      ,\n",
    " \"Cells_Texture_Correlation_Mito_3_01_256\"                    , \"Cells_Texture_Correlation_Mito_3_03_256\"                    , \"Cells_Texture_Correlation_Mito_5_00_256\"                    , \"Cells_Texture_Correlation_Mito_5_01_256\"                    ,\n",
    " \"Cells_Texture_Correlation_Mito_5_02_256\"                    , \"Cells_Texture_Correlation_Mito_5_03_256\"                    , \"Cells_Texture_Correlation_RNA_3_01_256\"                     , \"Cells_Texture_Correlation_RNA_3_02_256\"                     ,\n",
    " \"Cells_Texture_Correlation_RNA_3_03_256\"                     , \"Cells_Texture_Correlation_RNA_5_00_256\"                     , \"Cells_Texture_Correlation_RNA_5_01_256\"                     , \"Cells_Texture_Correlation_RNA_5_02_256\"                     ,\n",
    " \"Cells_Texture_Correlation_RNA_5_03_256\"                     , \"Cells_Texture_DifferenceEntropy_AGP_10_00_256\"              , \"Cells_Texture_DifferenceEntropy_AGP_10_01_256\"              , \"Cells_Texture_DifferenceEntropy_AGP_10_02_256\"              ,\n",
    " \"Cells_Texture_DifferenceEntropy_AGP_10_03_256\"              , \"Cells_Texture_DifferenceEntropy_AGP_3_01_256\"               , \"Cells_Texture_DifferenceEntropy_AGP_3_02_256\"               , \"Cells_Texture_DifferenceEntropy_AGP_3_03_256\"               ,\n",
    " \"Cells_Texture_DifferenceEntropy_AGP_5_00_256\"               , \"Cells_Texture_DifferenceEntropy_AGP_5_01_256\"               , \"Cells_Texture_DifferenceEntropy_AGP_5_02_256\"               , \"Cells_Texture_DifferenceEntropy_AGP_5_03_256\"               ,\n",
    " \"Cells_Texture_DifferenceEntropy_DNA_10_00_256\"              , \"Cells_Texture_DifferenceEntropy_DNA_10_01_256\"              , \"Cells_Texture_DifferenceEntropy_DNA_10_02_256\"              , \"Cells_Texture_DifferenceEntropy_DNA_10_03_256\"              ,\n",
    " \"Cells_Texture_DifferenceEntropy_DNA_3_00_256\"               , \"Cells_Texture_DifferenceEntropy_DNA_3_01_256\"               , \"Cells_Texture_DifferenceEntropy_DNA_3_02_256\"               , \"Cells_Texture_DifferenceEntropy_DNA_3_03_256\"               ,\n",
    " \"Cells_Texture_DifferenceEntropy_DNA_5_00_256\"               , \"Cells_Texture_DifferenceEntropy_DNA_5_01_256\"               , \"Cells_Texture_DifferenceEntropy_DNA_5_02_256\"               , \"Cells_Texture_DifferenceEntropy_DNA_5_03_256\"               ,\n",
    " \"Cells_Texture_DifferenceEntropy_ER_10_00_256\"               , \"Cells_Texture_DifferenceEntropy_ER_10_01_256\"               , \"Cells_Texture_DifferenceEntropy_ER_10_02_256\"               , \"Cells_Texture_DifferenceEntropy_ER_10_03_256\"               ,\n",
    " \"Cells_Texture_DifferenceEntropy_ER_3_00_256\"                , \"Cells_Texture_DifferenceEntropy_ER_3_01_256\"                , \"Cells_Texture_DifferenceEntropy_ER_3_02_256\"                , \"Cells_Texture_DifferenceEntropy_ER_3_03_256\"                ,\n",
    " \"Cells_Texture_DifferenceEntropy_ER_5_00_256\"                , \"Cells_Texture_DifferenceEntropy_ER_5_01_256\"                , \"Cells_Texture_DifferenceEntropy_ER_5_02_256\"                , \"Cells_Texture_DifferenceEntropy_ER_5_03_256\"                ,\n",
    " \"Cells_Texture_DifferenceEntropy_Mito_10_00_256\"             , \"Cells_Texture_DifferenceEntropy_Mito_10_01_256\"             , \"Cells_Texture_DifferenceEntropy_Mito_10_02_256\"             , \"Cells_Texture_DifferenceEntropy_Mito_10_03_256\"             ,\n",
    " \"Cells_Texture_DifferenceEntropy_Mito_3_00_256\"              , \"Cells_Texture_DifferenceEntropy_Mito_3_01_256\"              , \"Cells_Texture_DifferenceEntropy_Mito_3_02_256\"              , \"Cells_Texture_DifferenceEntropy_Mito_3_03_256\"              ,\n",
    " \"Cells_Texture_DifferenceEntropy_Mito_5_00_256\"              , \"Cells_Texture_DifferenceEntropy_Mito_5_01_256\"              , \"Cells_Texture_DifferenceEntropy_Mito_5_02_256\"              , \"Cells_Texture_DifferenceEntropy_Mito_5_03_256\"              ,\n",
    " \"Cells_Texture_DifferenceEntropy_RNA_10_00_256\"              , \"Cells_Texture_DifferenceEntropy_RNA_10_01_256\"              , \"Cells_Texture_DifferenceEntropy_RNA_10_02_256\"              , \"Cells_Texture_DifferenceEntropy_RNA_10_03_256\"              ,\n",
    " \"Cells_Texture_DifferenceEntropy_RNA_3_01_256\"               , \"Cells_Texture_DifferenceEntropy_RNA_3_02_256\"               , \"Cells_Texture_DifferenceEntropy_RNA_3_03_256\"               , \"Cells_Texture_DifferenceEntropy_RNA_5_00_256\"               ,\n",
    " \"Cells_Texture_DifferenceEntropy_RNA_5_01_256\"               , \"Cells_Texture_DifferenceEntropy_RNA_5_02_256\"               , \"Cells_Texture_DifferenceEntropy_RNA_5_03_256\"               , \"Cells_Texture_DifferenceVariance_AGP_10_00_256\"             ,\n",
    " \"Cells_Texture_DifferenceVariance_AGP_10_01_256\"             , \"Cells_Texture_DifferenceVariance_AGP_10_02_256\"             , \"Cells_Texture_DifferenceVariance_AGP_10_03_256\"             , \"Cells_Texture_DifferenceVariance_AGP_3_01_256\"              ,\n",
    " \"Cells_Texture_DifferenceVariance_AGP_3_02_256\"              , \"Cells_Texture_DifferenceVariance_AGP_3_03_256\"              , \"Cells_Texture_DifferenceVariance_AGP_5_00_256\"              , \"Cells_Texture_DifferenceVariance_AGP_5_01_256\"              ,\n",
    " \"Cells_Texture_DifferenceVariance_AGP_5_02_256\"              , \"Cells_Texture_DifferenceVariance_AGP_5_03_256\"              , \"Cells_Texture_DifferenceVariance_DNA_10_00_256\"             , \"Cells_Texture_DifferenceVariance_DNA_10_02_256\"             ,\n",
    " \"Cells_Texture_DifferenceVariance_DNA_10_03_256\"             , \"Cells_Texture_DifferenceVariance_DNA_3_00_256\"              , \"Cells_Texture_DifferenceVariance_DNA_3_01_256\"              , \"Cells_Texture_DifferenceVariance_DNA_3_02_256\"              ,\n",
    " \"Cells_Texture_DifferenceVariance_DNA_3_03_256\"              , \"Cells_Texture_DifferenceVariance_DNA_5_00_256\"              , \"Cells_Texture_DifferenceVariance_DNA_5_01_256\"              , \"Cells_Texture_DifferenceVariance_DNA_5_02_256\"              ,\n",
    " \"Cells_Texture_DifferenceVariance_DNA_5_03_256\"              , \"Cells_Texture_DifferenceVariance_ER_10_00_256\"              , \"Cells_Texture_DifferenceVariance_ER_10_01_256\"              , \"Cells_Texture_DifferenceVariance_ER_10_02_256\"              ,\n",
    " \"Cells_Texture_DifferenceVariance_ER_3_00_256\"               , \"Cells_Texture_DifferenceVariance_ER_3_01_256\"               , \"Cells_Texture_DifferenceVariance_ER_3_02_256\"               , \"Cells_Texture_DifferenceVariance_ER_3_03_256\"               ,\n",
    " \"Cells_Texture_DifferenceVariance_ER_5_00_256\"               , \"Cells_Texture_DifferenceVariance_ER_5_01_256\"               , \"Cells_Texture_DifferenceVariance_ER_5_02_256\"               , \"Cells_Texture_DifferenceVariance_ER_5_03_256\"               ,\n",
    " \"Cells_Texture_DifferenceVariance_Mito_10_00_256\"            , \"Cells_Texture_DifferenceVariance_Mito_10_01_256\"            , \"Cells_Texture_DifferenceVariance_Mito_10_02_256\"            , \"Cells_Texture_DifferenceVariance_Mito_10_03_256\"            ,\n",
    " \"Cells_Texture_DifferenceVariance_Mito_3_01_256\"             , \"Cells_Texture_DifferenceVariance_Mito_3_02_256\"             , \"Cells_Texture_DifferenceVariance_Mito_3_03_256\"             , \"Cells_Texture_DifferenceVariance_Mito_5_00_256\"             ,\n",
    " \"Cells_Texture_DifferenceVariance_Mito_5_01_256\"             , \"Cells_Texture_DifferenceVariance_Mito_5_02_256\"             , \"Cells_Texture_DifferenceVariance_Mito_5_03_256\"             , \"Cells_Texture_DifferenceVariance_RNA_10_00_256\"             ,\n",
    " \"Cells_Texture_DifferenceVariance_RNA_10_01_256\"             , \"Cells_Texture_DifferenceVariance_RNA_10_02_256\"             , \"Cells_Texture_DifferenceVariance_RNA_3_00_256\"              , \"Cells_Texture_DifferenceVariance_RNA_3_01_256\"              ,\n",
    " \"Cells_Texture_DifferenceVariance_RNA_3_02_256\"              , \"Cells_Texture_DifferenceVariance_RNA_3_03_256\"              , \"Cells_Texture_DifferenceVariance_RNA_5_00_256\"              , \"Cells_Texture_DifferenceVariance_RNA_5_01_256\"              ,\n",
    " \"Cells_Texture_DifferenceVariance_RNA_5_02_256\"              , \"Cells_Texture_DifferenceVariance_RNA_5_03_256\"              , \"Cells_Texture_Entropy_AGP_10_00_256\"                        , \"Cells_Texture_Entropy_AGP_10_01_256\"                        ,\n",
    " \"Cells_Texture_Entropy_AGP_10_02_256\"                        , \"Cells_Texture_Entropy_AGP_3_00_256\"                         , \"Cells_Texture_Entropy_AGP_3_01_256\"                         , \"Cells_Texture_Entropy_AGP_3_02_256\"                         ,\n",
    " \"Cells_Texture_Entropy_AGP_3_03_256\"                         , \"Cells_Texture_Entropy_AGP_5_00_256\"                         , \"Cells_Texture_Entropy_AGP_5_01_256\"                         , \"Cells_Texture_Entropy_AGP_5_02_256\"                         ,\n",
    " \"Cells_Texture_Entropy_AGP_5_03_256\"                         , \"Cells_Texture_Entropy_DNA_10_00_256\"                        , \"Cells_Texture_Entropy_DNA_10_01_256\"                        , \"Cells_Texture_Entropy_DNA_10_02_256\"                        ,\n",
    " \"Cells_Texture_Entropy_DNA_3_00_256\"                         , \"Cells_Texture_Entropy_DNA_3_01_256\"                         , \"Cells_Texture_Entropy_DNA_3_02_256\"                         , \"Cells_Texture_Entropy_DNA_3_03_256\"                         ,\n",
    " \"Cells_Texture_Entropy_DNA_5_00_256\"                         , \"Cells_Texture_Entropy_DNA_5_01_256\"                         , \"Cells_Texture_Entropy_DNA_5_02_256\"                         , \"Cells_Texture_Entropy_DNA_5_03_256\"                         ,\n",
    " \"Cells_Texture_Entropy_ER_10_00_256\"                         , \"Cells_Texture_Entropy_ER_10_02_256\"                         , \"Cells_Texture_Entropy_ER_10_03_256\"                         , \"Cells_Texture_Entropy_ER_3_00_256\"                          ,\n",
    " \"Cells_Texture_Entropy_ER_3_01_256\"                          , \"Cells_Texture_Entropy_ER_3_02_256\"                          , \"Cells_Texture_Entropy_ER_3_03_256\"                          , \"Cells_Texture_Entropy_ER_5_00_256\"                          ,\n",
    " \"Cells_Texture_Entropy_ER_5_01_256\"                          , \"Cells_Texture_Entropy_ER_5_02_256\"                          , \"Cells_Texture_Entropy_ER_5_03_256\"                          , \"Cells_Texture_Entropy_Mito_10_00_256\"                       ,\n",
    " \"Cells_Texture_Entropy_Mito_10_02_256\"                       , \"Cells_Texture_Entropy_Mito_10_03_256\"                       , \"Cells_Texture_Entropy_Mito_3_00_256\"                        , \"Cells_Texture_Entropy_Mito_3_01_256\"                        ,\n",
    " \"Cells_Texture_Entropy_Mito_3_02_256\"                        , \"Cells_Texture_Entropy_Mito_3_03_256\"                        , \"Cells_Texture_Entropy_Mito_5_00_256\"                        , \"Cells_Texture_Entropy_Mito_5_01_256\"                        ,\n",
    " \"Cells_Texture_Entropy_Mito_5_02_256\"                        , \"Cells_Texture_Entropy_Mito_5_03_256\"                        , \"Cells_Texture_Entropy_RNA_10_00_256\"                        , \"Cells_Texture_Entropy_RNA_10_01_256\"                        ,\n",
    " \"Cells_Texture_Entropy_RNA_10_02_256\"                        , \"Cells_Texture_Entropy_RNA_3_00_256\"                         , \"Cells_Texture_Entropy_RNA_3_01_256\"                         , \"Cells_Texture_Entropy_RNA_3_02_256\"                         ,\n",
    " \"Cells_Texture_Entropy_RNA_3_03_256\"                         , \"Cells_Texture_Entropy_RNA_5_00_256\"                         , \"Cells_Texture_Entropy_RNA_5_01_256\"                         , \"Cells_Texture_Entropy_RNA_5_02_256\"                         ,\n",
    " \"Cells_Texture_Entropy_RNA_5_03_256\"                         , \"Cells_Texture_InfoMeas1_AGP_10_01_256\"                      , \"Cells_Texture_InfoMeas1_AGP_5_00_256\"                       , \"Cells_Texture_InfoMeas1_AGP_5_01_256\"                       ,\n",
    " \"Cells_Texture_InfoMeas1_AGP_5_02_256\"                       , \"Cells_Texture_InfoMeas1_AGP_5_03_256\"                       , \"Cells_Texture_InfoMeas1_ER_3_00_256\"                        , \"Cells_Texture_InfoMeas1_ER_3_01_256\"                        ,\n",
    " \"Cells_Texture_InfoMeas1_ER_3_02_256\"                        , \"Cells_Texture_InfoMeas1_ER_3_03_256\"                        , \"Cells_Texture_InfoMeas1_Mito_3_01_256\"                      , \"Cells_Texture_InfoMeas1_Mito_3_03_256\"                      ,\n",
    " \"Cells_Texture_InfoMeas1_Mito_5_00_256\"                      , \"Cells_Texture_InfoMeas1_Mito_5_02_256\"                      , \"Cells_Texture_InfoMeas1_RNA_3_00_256\"                       , \"Cells_Texture_InfoMeas1_RNA_3_01_256\"                       ,\n",
    " \"Cells_Texture_InfoMeas1_RNA_3_02_256\"                       , \"Cells_Texture_InfoMeas1_RNA_3_03_256\"                       , \"Cells_Texture_InfoMeas2_AGP_10_00_256\"                      , \"Cells_Texture_InfoMeas2_AGP_10_01_256\"                      ,\n",
    " \"Cells_Texture_InfoMeas2_AGP_5_00_256\"                       , \"Cells_Texture_InfoMeas2_AGP_5_01_256\"                       , \"Cells_Texture_InfoMeas2_AGP_5_02_256\"                       , \"Cells_Texture_InfoMeas2_AGP_5_03_256\"                       ,\n",
    " \"Cells_Texture_InfoMeas2_DNA_3_00_256\"                       , \"Cells_Texture_InfoMeas2_DNA_3_01_256\"                       , \"Cells_Texture_InfoMeas2_DNA_3_03_256\"                       , \"Cells_Texture_InfoMeas2_DNA_5_00_256\"                       ,\n",
    " \"Cells_Texture_InfoMeas2_DNA_5_01_256\"                       , \"Cells_Texture_InfoMeas2_DNA_5_02_256\"                       , \"Cells_Texture_InfoMeas2_DNA_5_03_256\"                       , \"Cells_Texture_InfoMeas2_ER_3_00_256\"                        ,\n",
    " \"Cells_Texture_InfoMeas2_ER_3_01_256\"                        , \"Cells_Texture_InfoMeas2_ER_3_03_256\"                        , \"Cells_Texture_InfoMeas2_ER_5_00_256\"                        , \"Cells_Texture_InfoMeas2_ER_5_01_256\"                        ,\n",
    " \"Cells_Texture_InfoMeas2_ER_5_02_256\"                        , \"Cells_Texture_InfoMeas2_ER_5_03_256\"                        , \"Cells_Texture_InfoMeas2_Mito_10_00_256\"                     , \"Cells_Texture_InfoMeas2_Mito_10_01_256\"                     ,\n",
    " \"Cells_Texture_InfoMeas2_Mito_10_02_256\"                     , \"Cells_Texture_InfoMeas2_Mito_10_03_256\"                     , \"Cells_Texture_InfoMeas2_Mito_3_00_256\"                      , \"Cells_Texture_InfoMeas2_Mito_3_01_256\"                      ,\n",
    " \"Cells_Texture_InfoMeas2_Mito_3_03_256\"                      , \"Cells_Texture_InfoMeas2_Mito_5_00_256\"                      , \"Cells_Texture_InfoMeas2_Mito_5_01_256\"                      , \"Cells_Texture_InfoMeas2_Mito_5_02_256\"                      ,\n",
    " \"Cells_Texture_InfoMeas2_Mito_5_03_256\"                      , \"Cells_Texture_InfoMeas2_RNA_10_01_256\"                      , \"Cells_Texture_InfoMeas2_RNA_3_00_256\"                       , \"Cells_Texture_InfoMeas2_RNA_3_01_256\"                       ,\n",
    " \"Cells_Texture_InfoMeas2_RNA_3_03_256\"                       , \"Cells_Texture_InfoMeas2_RNA_5_00_256\"                       , \"Cells_Texture_InfoMeas2_RNA_5_01_256\"                       , \"Cells_Texture_InfoMeas2_RNA_5_02_256\"                       ,\n",
    " \"Cells_Texture_InfoMeas2_RNA_5_03_256\"                       , \"Cells_Texture_InverseDifferenceMoment_AGP_10_00_256\"        , \"Cells_Texture_InverseDifferenceMoment_AGP_10_01_256\"        , \"Cells_Texture_InverseDifferenceMoment_AGP_10_02_256\"        ,\n",
    " \"Cells_Texture_InverseDifferenceMoment_AGP_10_03_256\"        , \"Cells_Texture_InverseDifferenceMoment_AGP_3_01_256\"         , \"Cells_Texture_InverseDifferenceMoment_AGP_3_02_256\"         , \"Cells_Texture_InverseDifferenceMoment_AGP_3_03_256\"         ,\n",
    " \"Cells_Texture_InverseDifferenceMoment_AGP_5_00_256\"         , \"Cells_Texture_InverseDifferenceMoment_AGP_5_01_256\"         , \"Cells_Texture_InverseDifferenceMoment_AGP_5_02_256\"         , \"Cells_Texture_InverseDifferenceMoment_AGP_5_03_256\"         ,\n",
    " \"Cells_Texture_InverseDifferenceMoment_DNA_10_00_256\"        , \"Cells_Texture_InverseDifferenceMoment_DNA_10_01_256\"        , \"Cells_Texture_InverseDifferenceMoment_DNA_10_02_256\"        , \"Cells_Texture_InverseDifferenceMoment_DNA_3_00_256\"         ,\n",
    " \"Cells_Texture_InverseDifferenceMoment_DNA_3_01_256\"         , \"Cells_Texture_InverseDifferenceMoment_DNA_3_02_256\"         , \"Cells_Texture_InverseDifferenceMoment_DNA_3_03_256\"         , \"Cells_Texture_InverseDifferenceMoment_DNA_5_00_256\"         ,\n",
    " \"Cells_Texture_InverseDifferenceMoment_DNA_5_01_256\"         , \"Cells_Texture_InverseDifferenceMoment_DNA_5_02_256\"         , \"Cells_Texture_InverseDifferenceMoment_DNA_5_03_256\"         , \"Cells_Texture_InverseDifferenceMoment_ER_10_00_256\"         ,\n",
    " \"Cells_Texture_InverseDifferenceMoment_ER_10_02_256\"         , \"Cells_Texture_InverseDifferenceMoment_ER_10_03_256\"         , \"Cells_Texture_InverseDifferenceMoment_ER_3_00_256\"          , \"Cells_Texture_InverseDifferenceMoment_ER_3_01_256\"          ,\n",
    " \"Cells_Texture_InverseDifferenceMoment_ER_3_03_256\"          , \"Cells_Texture_InverseDifferenceMoment_ER_5_00_256\"          , \"Cells_Texture_InverseDifferenceMoment_ER_5_01_256\"          , \"Cells_Texture_InverseDifferenceMoment_ER_5_02_256\"          ,\n",
    " \"Cells_Texture_InverseDifferenceMoment_ER_5_03_256\"          , \"Cells_Texture_InverseDifferenceMoment_Mito_10_00_256\"       , \"Cells_Texture_InverseDifferenceMoment_Mito_10_02_256\"       , \"Cells_Texture_InverseDifferenceMoment_Mito_10_03_256\"       ,\n",
    " \"Cells_Texture_InverseDifferenceMoment_Mito_3_00_256\"        , \"Cells_Texture_InverseDifferenceMoment_Mito_3_01_256\"        , \"Cells_Texture_InverseDifferenceMoment_Mito_3_02_256\"        , \"Cells_Texture_InverseDifferenceMoment_Mito_3_03_256\"        ,\n",
    " \"Cells_Texture_InverseDifferenceMoment_Mito_5_00_256\"        , \"Cells_Texture_InverseDifferenceMoment_Mito_5_01_256\"        , \"Cells_Texture_InverseDifferenceMoment_Mito_5_02_256\"        , \"Cells_Texture_InverseDifferenceMoment_Mito_5_03_256\"        ,\n",
    " \"Cells_Texture_InverseDifferenceMoment_RNA_10_00_256\"        , \"Cells_Texture_InverseDifferenceMoment_RNA_10_01_256\"        , \"Cells_Texture_InverseDifferenceMoment_RNA_10_02_256\"        , \"Cells_Texture_InverseDifferenceMoment_RNA_3_00_256\"         ,\n",
    " \"Cells_Texture_InverseDifferenceMoment_RNA_3_01_256\"         , \"Cells_Texture_InverseDifferenceMoment_RNA_3_02_256\"         , \"Cells_Texture_InverseDifferenceMoment_RNA_3_03_256\"         , \"Cells_Texture_InverseDifferenceMoment_RNA_5_00_256\"         ,\n",
    " \"Cells_Texture_InverseDifferenceMoment_RNA_5_01_256\"         , \"Cells_Texture_InverseDifferenceMoment_RNA_5_02_256\"         , \"Cells_Texture_InverseDifferenceMoment_RNA_5_03_256\"         , \"Cells_Texture_SumAverage_AGP_10_00_256\"                     ,\n",
    " \"Cells_Texture_SumAverage_AGP_10_01_256\"                     , \"Cells_Texture_SumAverage_AGP_10_02_256\"                     , \"Cells_Texture_SumAverage_AGP_10_03_256\"                     , \"Cells_Texture_SumAverage_AGP_3_01_256\"                      ,\n",
    " \"Cells_Texture_SumAverage_AGP_3_02_256\"                      , \"Cells_Texture_SumAverage_AGP_3_03_256\"                      , \"Cells_Texture_SumAverage_AGP_5_00_256\"                      , \"Cells_Texture_SumAverage_AGP_5_01_256\"                      ,\n",
    " \"Cells_Texture_SumAverage_AGP_5_02_256\"                      , \"Cells_Texture_SumAverage_AGP_5_03_256\"                      , \"Cells_Texture_SumAverage_DNA_10_00_256\"                     , \"Cells_Texture_SumAverage_DNA_10_01_256\"                     ,\n",
    " \"Cells_Texture_SumAverage_DNA_10_02_256\"                     , \"Cells_Texture_SumAverage_DNA_3_00_256\"                      , \"Cells_Texture_SumAverage_DNA_3_01_256\"                      , \"Cells_Texture_SumAverage_DNA_3_02_256\"                      ,\n",
    " \"Cells_Texture_SumAverage_DNA_3_03_256\"                      , \"Cells_Texture_SumAverage_DNA_5_00_256\"                      , \"Cells_Texture_SumAverage_DNA_5_01_256\"                      , \"Cells_Texture_SumAverage_DNA_5_02_256\"                      ,\n",
    " \"Cells_Texture_SumAverage_DNA_5_03_256\"                      , \"Cells_Texture_SumAverage_ER_10_00_256\"                      , \"Cells_Texture_SumAverage_ER_10_01_256\"                      , \"Cells_Texture_SumAverage_ER_10_02_256\"                      ,\n",
    " \"Cells_Texture_SumAverage_ER_10_03_256\"                      , \"Cells_Texture_SumAverage_ER_3_01_256\"                       , \"Cells_Texture_SumAverage_ER_3_02_256\"                       , \"Cells_Texture_SumAverage_ER_3_03_256\"                       ,\n",
    " \"Cells_Texture_SumAverage_ER_5_00_256\"                       , \"Cells_Texture_SumAverage_ER_5_01_256\"                       , \"Cells_Texture_SumAverage_ER_5_02_256\"                       , \"Cells_Texture_SumAverage_ER_5_03_256\"                       ,\n",
    " \"Cells_Texture_SumAverage_Mito_10_00_256\"                    , \"Cells_Texture_SumAverage_Mito_10_01_256\"                    , \"Cells_Texture_SumAverage_Mito_10_02_256\"                    , \"Cells_Texture_SumAverage_Mito_10_03_256\"                    ,\n",
    " \"Cells_Texture_SumAverage_Mito_3_01_256\"                     , \"Cells_Texture_SumAverage_Mito_3_02_256\"                     , \"Cells_Texture_SumAverage_Mito_3_03_256\"                     , \"Cells_Texture_SumAverage_Mito_5_00_256\"                     ,\n",
    " \"Cells_Texture_SumAverage_Mito_5_01_256\"                     , \"Cells_Texture_SumAverage_Mito_5_02_256\"                     , \"Cells_Texture_SumAverage_Mito_5_03_256\"                     , \"Cells_Texture_SumAverage_RNA_10_00_256\"                     ,\n",
    " \"Cells_Texture_SumAverage_RNA_10_01_256\"                     , \"Cells_Texture_SumAverage_RNA_10_02_256\"                     , \"Cells_Texture_SumAverage_RNA_10_03_256\"                     , \"Cells_Texture_SumAverage_RNA_3_01_256\"                      ,\n",
    " \"Cells_Texture_SumAverage_RNA_3_02_256\"                      , \"Cells_Texture_SumAverage_RNA_3_03_256\"                      , \"Cells_Texture_SumAverage_RNA_5_00_256\"                      , \"Cells_Texture_SumAverage_RNA_5_01_256\"                      ,\n",
    " \"Cells_Texture_SumAverage_RNA_5_02_256\"                      , \"Cells_Texture_SumAverage_RNA_5_03_256\"                      , \"Cells_Texture_SumEntropy_AGP_10_00_256\"                     , \"Cells_Texture_SumEntropy_AGP_10_01_256\"                     ,\n",
    " \"Cells_Texture_SumEntropy_AGP_10_02_256\"                     , \"Cells_Texture_SumEntropy_AGP_10_03_256\"                     , \"Cells_Texture_SumEntropy_AGP_3_00_256\"                      , \"Cells_Texture_SumEntropy_AGP_3_01_256\"                      ,\n",
    " \"Cells_Texture_SumEntropy_AGP_3_02_256\"                      , \"Cells_Texture_SumEntropy_AGP_3_03_256\"                      , \"Cells_Texture_SumEntropy_AGP_5_00_256\"                      , \"Cells_Texture_SumEntropy_AGP_5_01_256\"                      ,\n",
    " \"Cells_Texture_SumEntropy_AGP_5_02_256\"                      , \"Cells_Texture_SumEntropy_AGP_5_03_256\"                      , \"Cells_Texture_SumEntropy_DNA_10_00_256\"                     , \"Cells_Texture_SumEntropy_DNA_10_01_256\"                     ,\n",
    " \"Cells_Texture_SumEntropy_DNA_10_02_256\"                     , \"Cells_Texture_SumEntropy_DNA_10_03_256\"                     , \"Cells_Texture_SumEntropy_DNA_3_00_256\"                      , \"Cells_Texture_SumEntropy_DNA_3_01_256\"                      ,\n",
    " \"Cells_Texture_SumEntropy_DNA_3_02_256\"                      , \"Cells_Texture_SumEntropy_DNA_3_03_256\"                      , \"Cells_Texture_SumEntropy_DNA_5_00_256\"                      , \"Cells_Texture_SumEntropy_DNA_5_01_256\"                      ,\n",
    " \"Cells_Texture_SumEntropy_DNA_5_02_256\"                      , \"Cells_Texture_SumEntropy_DNA_5_03_256\"                      , \"Cells_Texture_SumEntropy_ER_10_00_256\"                      , \"Cells_Texture_SumEntropy_ER_10_01_256\"                      ,\n",
    " \"Cells_Texture_SumEntropy_ER_10_02_256\"                      , \"Cells_Texture_SumEntropy_ER_10_03_256\"                      , \"Cells_Texture_SumEntropy_ER_3_00_256\"                       , \"Cells_Texture_SumEntropy_ER_3_01_256\"                       ,\n",
    " \"Cells_Texture_SumEntropy_ER_3_02_256\"                       , \"Cells_Texture_SumEntropy_ER_3_03_256\"                       , \"Cells_Texture_SumEntropy_ER_5_00_256\"                       , \"Cells_Texture_SumEntropy_ER_5_01_256\"                       ,\n",
    " \"Cells_Texture_SumEntropy_ER_5_02_256\"                       , \"Cells_Texture_SumEntropy_ER_5_03_256\"                       , \"Cells_Texture_SumEntropy_Mito_10_00_256\"                    , \"Cells_Texture_SumEntropy_Mito_10_01_256\"                    ,\n",
    " \"Cells_Texture_SumEntropy_Mito_10_02_256\"                    , \"Cells_Texture_SumEntropy_Mito_10_03_256\"                    , \"Cells_Texture_SumEntropy_Mito_3_00_256\"                     , \"Cells_Texture_SumEntropy_Mito_3_01_256\"                     ,\n",
    " \"Cells_Texture_SumEntropy_Mito_3_02_256\"                     , \"Cells_Texture_SumEntropy_Mito_3_03_256\"                     , \"Cells_Texture_SumEntropy_Mito_5_00_256\"                     , \"Cells_Texture_SumEntropy_Mito_5_01_256\"                     ,\n",
    " \"Cells_Texture_SumEntropy_Mito_5_02_256\"                     , \"Cells_Texture_SumEntropy_Mito_5_03_256\"                     , \"Cells_Texture_SumEntropy_RNA_10_00_256\"                     , \"Cells_Texture_SumEntropy_RNA_10_01_256\"                     ,\n",
    " \"Cells_Texture_SumEntropy_RNA_10_02_256\"                     , \"Cells_Texture_SumEntropy_RNA_10_03_256\"                     , \"Cells_Texture_SumEntropy_RNA_3_00_256\"                      , \"Cells_Texture_SumEntropy_RNA_3_01_256\"                      ,\n",
    " \"Cells_Texture_SumEntropy_RNA_3_02_256\"                      , \"Cells_Texture_SumEntropy_RNA_3_03_256\"                      , \"Cells_Texture_SumEntropy_RNA_5_00_256\"                      , \"Cells_Texture_SumEntropy_RNA_5_01_256\"                      ,\n",
    " \"Cells_Texture_SumEntropy_RNA_5_02_256\"                      , \"Cells_Texture_SumEntropy_RNA_5_03_256\"                      , \"Cells_Texture_SumVariance_AGP_10_00_256\"                    , \"Cells_Texture_SumVariance_AGP_10_01_256\"                    ,\n",
    " \"Cells_Texture_SumVariance_AGP_10_02_256\"                    , \"Cells_Texture_SumVariance_AGP_3_00_256\"                     , \"Cells_Texture_SumVariance_AGP_3_01_256\"                     , \"Cells_Texture_SumVariance_AGP_3_02_256\"                     ,\n",
    " \"Cells_Texture_SumVariance_AGP_3_03_256\"                     , \"Cells_Texture_SumVariance_AGP_5_00_256\"                     , \"Cells_Texture_SumVariance_AGP_5_01_256\"                     , \"Cells_Texture_SumVariance_AGP_5_02_256\"                     ,\n",
    " \"Cells_Texture_SumVariance_AGP_5_03_256\"                     , \"Cells_Texture_SumVariance_DNA_10_00_256\"                    , \"Cells_Texture_SumVariance_DNA_10_02_256\"                    , \"Cells_Texture_SumVariance_DNA_10_03_256\"                    ,\n",
    " \"Cells_Texture_SumVariance_DNA_3_00_256\"                     , \"Cells_Texture_SumVariance_DNA_3_01_256\"                     , \"Cells_Texture_SumVariance_DNA_3_02_256\"                     , \"Cells_Texture_SumVariance_DNA_3_03_256\"                     ,\n",
    " \"Cells_Texture_SumVariance_DNA_5_00_256\"                     , \"Cells_Texture_SumVariance_DNA_5_01_256\"                     , \"Cells_Texture_SumVariance_DNA_5_02_256\"                     , \"Cells_Texture_SumVariance_DNA_5_03_256\"                     ,\n",
    " \"Cells_Texture_SumVariance_ER_10_00_256\"                     , \"Cells_Texture_SumVariance_ER_10_02_256\"                     , \"Cells_Texture_SumVariance_ER_10_03_256\"                     , \"Cells_Texture_SumVariance_ER_3_00_256\"                      ,\n",
    " \"Cells_Texture_SumVariance_ER_3_01_256\"                      , \"Cells_Texture_SumVariance_ER_3_02_256\"                      , \"Cells_Texture_SumVariance_ER_3_03_256\"                      , \"Cells_Texture_SumVariance_ER_5_00_256\"                      ,\n",
    " \"Cells_Texture_SumVariance_ER_5_01_256\"                      , \"Cells_Texture_SumVariance_ER_5_02_256\"                      , \"Cells_Texture_SumVariance_ER_5_03_256\"                      , \"Cells_Texture_SumVariance_Mito_10_00_256\"                   ,\n",
    " \"Cells_Texture_SumVariance_Mito_10_01_256\"                   , \"Cells_Texture_SumVariance_Mito_10_02_256\"                   , \"Cells_Texture_SumVariance_Mito_3_00_256\"                    , \"Cells_Texture_SumVariance_Mito_3_01_256\"                    ,\n",
    " \"Cells_Texture_SumVariance_Mito_3_02_256\"                    , \"Cells_Texture_SumVariance_Mito_3_03_256\"                    , \"Cells_Texture_SumVariance_Mito_5_00_256\"                    , \"Cells_Texture_SumVariance_Mito_5_01_256\"                    ,\n",
    " \"Cells_Texture_SumVariance_Mito_5_02_256\"                    , \"Cells_Texture_SumVariance_Mito_5_03_256\"                    , \"Cells_Texture_SumVariance_RNA_10_00_256\"                    , \"Cells_Texture_SumVariance_RNA_10_01_256\"                    ,\n",
    " \"Cells_Texture_SumVariance_RNA_10_02_256\"                    , \"Cells_Texture_SumVariance_RNA_3_00_256\"                     , \"Cells_Texture_SumVariance_RNA_3_01_256\"                     , \"Cells_Texture_SumVariance_RNA_3_02_256\"                     ,\n",
    " \"Cells_Texture_SumVariance_RNA_3_03_256\"                     , \"Cells_Texture_SumVariance_RNA_5_00_256\"                     , \"Cells_Texture_SumVariance_RNA_5_01_256\"                     , \"Cells_Texture_SumVariance_RNA_5_02_256\"                     ,\n",
    " \"Cells_Texture_SumVariance_RNA_5_03_256\"                     , \"Cells_Texture_Variance_AGP_10_00_256\"                       , \"Cells_Texture_Variance_AGP_10_01_256\"                       , \"Cells_Texture_Variance_AGP_10_02_256\"                       ,\n",
    " \"Cells_Texture_Variance_AGP_10_03_256\"                       , \"Cells_Texture_Variance_AGP_3_00_256\"                        , \"Cells_Texture_Variance_AGP_3_01_256\"                        , \"Cells_Texture_Variance_AGP_3_02_256\"                        ,\n",
    " \"Cells_Texture_Variance_AGP_3_03_256\"                        , \"Cells_Texture_Variance_AGP_5_00_256\"                        , \"Cells_Texture_Variance_AGP_5_01_256\"                        , \"Cells_Texture_Variance_AGP_5_02_256\"                        ,\n",
    " \"Cells_Texture_Variance_AGP_5_03_256\"                        , \"Cells_Texture_Variance_DNA_10_00_256\"                       , \"Cells_Texture_Variance_DNA_10_01_256\"                       , \"Cells_Texture_Variance_DNA_10_02_256\"                       ,\n",
    " \"Cells_Texture_Variance_DNA_10_03_256\"                       , \"Cells_Texture_Variance_DNA_3_00_256\"                        , \"Cells_Texture_Variance_DNA_3_01_256\"                        , \"Cells_Texture_Variance_DNA_3_02_256\"                        ,\n",
    " \"Cells_Texture_Variance_DNA_3_03_256\"                        , \"Cells_Texture_Variance_DNA_5_00_256\"                        , \"Cells_Texture_Variance_DNA_5_01_256\"                        , \"Cells_Texture_Variance_DNA_5_02_256\"                        ,\n",
    " \"Cells_Texture_Variance_DNA_5_03_256\"                        , \"Cells_Texture_Variance_ER_10_00_256\"                        , \"Cells_Texture_Variance_ER_10_01_256\"                        , \"Cells_Texture_Variance_ER_10_02_256\"                        ,\n",
    " \"Cells_Texture_Variance_ER_10_03_256\"                        , \"Cells_Texture_Variance_ER_3_00_256\"                         , \"Cells_Texture_Variance_ER_3_01_256\"                         , \"Cells_Texture_Variance_ER_3_02_256\"                         ,\n",
    " \"Cells_Texture_Variance_ER_3_03_256\"                         , \"Cells_Texture_Variance_ER_5_00_256\"                         , \"Cells_Texture_Variance_ER_5_01_256\"                         , \"Cells_Texture_Variance_ER_5_02_256\"                         ,\n",
    " \"Cells_Texture_Variance_ER_5_03_256\"                         , \"Cells_Texture_Variance_Mito_10_00_256\"                      , \"Cells_Texture_Variance_Mito_10_01_256\"                      , \"Cells_Texture_Variance_Mito_10_02_256\"                      ,\n",
    " \"Cells_Texture_Variance_Mito_10_03_256\"                      , \"Cells_Texture_Variance_Mito_3_00_256\"                       , \"Cells_Texture_Variance_Mito_3_01_256\"                       , \"Cells_Texture_Variance_Mito_3_02_256\"                       ,\n",
    " \"Cells_Texture_Variance_Mito_3_03_256\"                       , \"Cells_Texture_Variance_Mito_5_00_256\"                       , \"Cells_Texture_Variance_Mito_5_01_256\"                       , \"Cells_Texture_Variance_Mito_5_02_256\"                       ,\n",
    " \"Cells_Texture_Variance_Mito_5_03_256\"                       , \"Cells_Texture_Variance_RNA_10_00_256\"                       , \"Cells_Texture_Variance_RNA_10_01_256\"                       , \"Cells_Texture_Variance_RNA_10_02_256\"                       ,\n",
    " \"Cells_Texture_Variance_RNA_10_03_256\"                       , \"Cells_Texture_Variance_RNA_3_00_256\"                        , \"Cells_Texture_Variance_RNA_3_01_256\"                        , \"Cells_Texture_Variance_RNA_3_02_256\"                        ,\n",
    " \"Cells_Texture_Variance_RNA_3_03_256\"                        , \"Cells_Texture_Variance_RNA_5_00_256\"                        , \"Cells_Texture_Variance_RNA_5_01_256\"                        , \"Cells_Texture_Variance_RNA_5_02_256\"                        ,\n",
    " \"Cells_Texture_Variance_RNA_5_03_256\"                        }\n",
    "\n",
    "variance_dropped_cols_2 = set()"
   ]
  },
  {
   "cell_type": "code",
   "execution_count": 276,
   "id": "f90bce49-aeb7-4295-b271-8ce764dbb234",
   "metadata": {
    "execution": {
     "iopub.execute_input": "2024-05-12T11:29:15.817241Z",
     "iopub.status.busy": "2024-05-12T11:29:15.816805Z",
     "iopub.status.idle": "2024-05-12T11:29:15.849239Z",
     "shell.execute_reply": "2024-05-12T11:29:15.848531Z",
     "shell.execute_reply.started": "2024-05-12T11:29:15.817210Z"
    }
   },
   "outputs": [
    {
     "data": {
      "text/plain": [
       "set()"
      ]
     },
     "execution_count": 276,
     "metadata": {},
     "output_type": "execute_result"
    },
    {
     "name": "stdout",
     "output_type": "stream",
     "text": [
      " Number of cols dropped - high correlation: 645\n",
      " Number of cols dropped - low variance    : 0\n",
      " Number of selected cols                  : 135\n",
      " Total                                    : 780\n"
     ]
    }
   ],
   "source": [
    "variance_dropped_cols_2 & correlation_dropped_cols_2\n",
    "print(f\" Number of cols dropped - high correlation: {len(correlation_dropped_cols_2)}\")\n",
    "print(f\" Number of cols dropped - low variance    : {len(variance_dropped_cols_2)}\")\n",
    "print(f\" Number of selected cols                  : {len(selected_cols_2)}\")\n",
    "print(f\" Total                                    : {len(selected_cols_2)+len(correlation_dropped_cols_2)+len(variance_dropped_cols_2)}\")"
   ]
  },
  {
   "cell_type": "code",
   "execution_count": 277,
   "id": "d75f33fa-5698-4679-97b8-571a867762f4",
   "metadata": {
    "execution": {
     "iopub.execute_input": "2024-05-12T11:29:28.058173Z",
     "iopub.status.busy": "2024-05-12T11:29:28.057573Z",
     "iopub.status.idle": "2024-05-12T11:29:28.091904Z",
     "shell.execute_reply": "2024-05-12T11:29:28.091339Z",
     "shell.execute_reply.started": "2024-05-12T11:29:28.058121Z"
    }
   },
   "outputs": [
    {
     "data": {
      "text/plain": [
       "set()"
      ]
     },
     "execution_count": 277,
     "metadata": {},
     "output_type": "execute_result"
    },
    {
     "data": {
      "text/plain": [
       "set()"
      ]
     },
     "execution_count": 277,
     "metadata": {},
     "output_type": "execute_result"
    },
    {
     "data": {
      "text/plain": [
       "set()"
      ]
     },
     "execution_count": 277,
     "metadata": {},
     "output_type": "execute_result"
    }
   ],
   "source": [
    "(correlation_dropped_cols_2) & set(zero_features)\n",
    "(variance_dropped_cols_2) & set(zero_features)\n",
    "(selected_cols_2) & set(zero_features)"
   ]
  },
  {
   "cell_type": "markdown",
   "id": "483c52a6-d329-47de-992b-b57c2372eeb2",
   "metadata": {},
   "source": [
    "### Group 3 - Cytoplasm"
   ]
  },
  {
   "cell_type": "code",
   "execution_count": 278,
   "id": "836460c0-a607-44ef-a20e-b5e1829b6f2d",
   "metadata": {
    "execution": {
     "iopub.execute_input": "2024-05-12T11:29:38.833985Z",
     "iopub.status.busy": "2024-05-12T11:29:38.833311Z",
     "iopub.status.idle": "2024-05-12T11:29:38.877871Z",
     "shell.execute_reply": "2024-05-12T11:29:38.877176Z",
     "shell.execute_reply.started": "2024-05-12T11:29:38.833944Z"
    }
   },
   "outputs": [],
   "source": [
    "selected_cols_3 = \\\n",
    "{'Cytoplasm_AreaShape_BoundingBoxMaximum_X', 'Cytoplasm_AreaShape_Center_X', 'Cytoplasm_AreaShape_Center_Y', 'Cytoplasm_AreaShape_Compactness', 'Cytoplasm_AreaShape_Eccentricity', \n",
    " 'Cytoplasm_AreaShape_EulerNumber', 'Cytoplasm_AreaShape_Extent', 'Cytoplasm_AreaShape_MaximumRadius', 'Cytoplasm_AreaShape_MinorAxisLength', 'Cytoplasm_AreaShape_Orientation', \n",
    " 'Cytoplasm_AreaShape_Perimeter', 'Cytoplasm_AreaShape_Solidity', 'Cytoplasm_AreaShape_Zernike_0_0', 'Cytoplasm_AreaShape_Zernike_1_1', 'Cytoplasm_AreaShape_Zernike_2_0', \n",
    " 'Cytoplasm_AreaShape_Zernike_2_2', 'Cytoplasm_AreaShape_Zernike_3_1', 'Cytoplasm_AreaShape_Zernike_3_3', 'Cytoplasm_AreaShape_Zernike_4_0', 'Cytoplasm_AreaShape_Zernike_4_2', \n",
    " 'Cytoplasm_AreaShape_Zernike_4_4', 'Cytoplasm_AreaShape_Zernike_5_1', 'Cytoplasm_AreaShape_Zernike_5_3', 'Cytoplasm_AreaShape_Zernike_5_5', 'Cytoplasm_AreaShape_Zernike_6_0', \n",
    " 'Cytoplasm_AreaShape_Zernike_6_2', 'Cytoplasm_AreaShape_Zernike_6_4', 'Cytoplasm_AreaShape_Zernike_6_6', 'Cytoplasm_AreaShape_Zernike_7_1', 'Cytoplasm_AreaShape_Zernike_7_3', \n",
    " 'Cytoplasm_AreaShape_Zernike_7_5', 'Cytoplasm_AreaShape_Zernike_7_7', 'Cytoplasm_AreaShape_Zernike_8_0', 'Cytoplasm_AreaShape_Zernike_8_2', 'Cytoplasm_AreaShape_Zernike_8_4', \n",
    " 'Cytoplasm_AreaShape_Zernike_8_6', 'Cytoplasm_AreaShape_Zernike_8_8', 'Cytoplasm_AreaShape_Zernike_9_1', 'Cytoplasm_AreaShape_Zernike_9_3', 'Cytoplasm_AreaShape_Zernike_9_5', \n",
    " 'Cytoplasm_AreaShape_Zernike_9_7', 'Cytoplasm_AreaShape_Zernike_9_9', 'Cytoplasm_Correlation_Correlation_AGP_DNA', 'Cytoplasm_Correlation_Correlation_AGP_ER', 'Cytoplasm_Correlation_Correlation_AGP_Mito', \n",
    " 'Cytoplasm_Correlation_Correlation_DNA_ER', 'Cytoplasm_Correlation_Correlation_DNA_Mito', 'Cytoplasm_Correlation_Correlation_DNA_RNA', 'Cytoplasm_Correlation_Correlation_ER_Mito', 'Cytoplasm_Correlation_Correlation_ER_RNA', \n",
    " 'Cytoplasm_Correlation_Correlation_Mito_RNA', 'Cytoplasm_Correlation_K_AGP_DNA', 'Cytoplasm_Correlation_K_AGP_ER', 'Cytoplasm_Correlation_K_AGP_Mito', 'Cytoplasm_Correlation_K_AGP_RNA', \n",
    " 'Cytoplasm_Correlation_K_DNA_AGP',  'Cytoplasm_Correlation_K_DNA_ER', 'Cytoplasm_Correlation_K_DNA_Mito', 'Cytoplasm_Correlation_K_DNA_RNA', 'Cytoplasm_Correlation_K_ER_AGP', \n",
    " 'Cytoplasm_Correlation_K_ER_DNA', 'Cytoplasm_Correlation_K_ER_Mito', 'Cytoplasm_Correlation_K_ER_RNA', 'Cytoplasm_Correlation_K_Mito_AGP', 'Cytoplasm_Correlation_K_Mito_DNA',\n",
    " 'Cytoplasm_Correlation_K_Mito_ER', 'Cytoplasm_Correlation_K_Mito_RNA', 'Cytoplasm_Correlation_K_RNA_AGP', 'Cytoplasm_Correlation_K_RNA_DNA', 'Cytoplasm_Correlation_K_RNA_ER', \n",
    " 'Cytoplasm_Correlation_K_RNA_Mito', 'Cytoplasm_Correlation_Manders_AGP_ER', 'Cytoplasm_Correlation_Manders_AGP_Mito', 'Cytoplasm_Correlation_Manders_AGP_RNA', 'Cytoplasm_Correlation_Manders_DNA_AGP', \n",
    " 'Cytoplasm_Correlation_Manders_DNA_ER', 'Cytoplasm_Correlation_Manders_DNA_Mito', 'Cytoplasm_Correlation_Manders_DNA_RNA', 'Cytoplasm_Correlation_Manders_ER_DNA', 'Cytoplasm_Correlation_Manders_ER_Mito', \n",
    " 'Cytoplasm_Correlation_Manders_ER_RNA', 'Cytoplasm_Correlation_Manders_Mito_AGP', 'Cytoplasm_Correlation_Manders_Mito_DNA', 'Cytoplasm_Correlation_Manders_Mito_ER', 'Cytoplasm_Correlation_Manders_Mito_RNA', \n",
    " 'Cytoplasm_Correlation_Manders_RNA_AGP', 'Cytoplasm_Correlation_Manders_RNA_DNA', 'Cytoplasm_Correlation_Manders_RNA_ER', 'Cytoplasm_Correlation_Manders_RNA_Mito', 'Cytoplasm_Correlation_Overlap_AGP_DNA', \n",
    " 'Cytoplasm_Correlation_Overlap_AGP_ER', 'Cytoplasm_Correlation_Overlap_AGP_Mito', 'Cytoplasm_Correlation_Overlap_AGP_RNA', 'Cytoplasm_Correlation_Overlap_DNA_ER', 'Cytoplasm_Correlation_Overlap_DNA_Mito', \n",
    " 'Cytoplasm_Correlation_Overlap_DNA_RNA', 'Cytoplasm_Correlation_Overlap_ER_Mito', 'Cytoplasm_Correlation_Overlap_ER_RNA', 'Cytoplasm_Correlation_Overlap_Mito_RNA', 'Cytoplasm_Correlation_RWC_AGP_DNA', \n",
    " 'Cytoplasm_Correlation_RWC_AGP_ER', 'Cytoplasm_Correlation_RWC_AGP_Mito', 'Cytoplasm_Correlation_RWC_AGP_RNA', 'Cytoplasm_Correlation_RWC_DNA_AGP', 'Cytoplasm_Correlation_RWC_DNA_ER', \n",
    " 'Cytoplasm_Correlation_RWC_DNA_Mito', 'Cytoplasm_Correlation_RWC_DNA_RNA', 'Cytoplasm_Correlation_RWC_ER_AGP', 'Cytoplasm_Correlation_RWC_ER_DNA', 'Cytoplasm_Correlation_RWC_ER_Mito', \n",
    " 'Cytoplasm_Correlation_RWC_ER_RNA', 'Cytoplasm_Correlation_RWC_Mito_AGP', 'Cytoplasm_Correlation_RWC_Mito_DNA', 'Cytoplasm_Correlation_RWC_Mito_ER', 'Cytoplasm_Correlation_RWC_Mito_RNA', \n",
    " 'Cytoplasm_Correlation_RWC_RNA_AGP', 'Cytoplasm_Correlation_RWC_RNA_DNA', 'Cytoplasm_Correlation_RWC_RNA_ER', 'Cytoplasm_Correlation_RWC_RNA_Mito', 'Cytoplasm_Granularity_10_AGP', \n",
    " 'Cytoplasm_Granularity_10_DNA', 'Cytoplasm_Granularity_10_ER', 'Cytoplasm_Granularity_10_Mito', 'Cytoplasm_Granularity_10_RNA', 'Cytoplasm_Granularity_11_AGP', 'Cytoplasm_Granularity_11_DNA', \n",
    " 'Cytoplasm_Granularity_11_ER', 'Cytoplasm_Granularity_11_Mito', 'Cytoplasm_Granularity_11_RNA', 'Cytoplasm_Granularity_12_AGP', 'Cytoplasm_Granularity_12_DNA', 'Cytoplasm_Granularity_12_ER', \n",
    " 'Cytoplasm_Granularity_12_Mito', 'Cytoplasm_Granularity_12_RNA', 'Cytoplasm_Granularity_13_AGP', 'Cytoplasm_Granularity_13_DNA', 'Cytoplasm_Granularity_13_ER', 'Cytoplasm_Granularity_13_Mito', \n",
    " 'Cytoplasm_Granularity_13_RNA', 'Cytoplasm_Granularity_14_AGP', 'Cytoplasm_Granularity_14_DNA', 'Cytoplasm_Granularity_14_ER', 'Cytoplasm_Granularity_14_Mito', 'Cytoplasm_Granularity_14_RNA', \n",
    " 'Cytoplasm_Granularity_15_AGP', 'Cytoplasm_Granularity_15_DNA', 'Cytoplasm_Granularity_15_ER', 'Cytoplasm_Granularity_15_Mito', 'Cytoplasm_Granularity_15_RNA', 'Cytoplasm_Granularity_16_AGP', \n",
    " 'Cytoplasm_Granularity_16_DNA', 'Cytoplasm_Granularity_16_ER', 'Cytoplasm_Granularity_16_Mito', 'Cytoplasm_Granularity_16_RNA', 'Cytoplasm_Granularity_1_AGP', 'Cytoplasm_Granularity_1_DNA', \n",
    " 'Cytoplasm_Granularity_1_Mito', 'Cytoplasm_Granularity_1_RNA', 'Cytoplasm_Granularity_2_AGP', 'Cytoplasm_Granularity_2_DNA', 'Cytoplasm_Granularity_2_ER', 'Cytoplasm_Granularity_2_Mito', \n",
    " 'Cytoplasm_Granularity_2_RNA', 'Cytoplasm_Granularity_3_AGP', 'Cytoplasm_Granularity_3_DNA', 'Cytoplasm_Granularity_3_ER', 'Cytoplasm_Granularity_3_Mito', 'Cytoplasm_Granularity_3_RNA', \n",
    " 'Cytoplasm_Granularity_4_AGP', 'Cytoplasm_Granularity_4_DNA', 'Cytoplasm_Granularity_4_ER', 'Cytoplasm_Granularity_4_Mito', 'Cytoplasm_Granularity_4_RNA', 'Cytoplasm_Granularity_5_AGP',\n",
    " 'Cytoplasm_Granularity_5_DNA', 'Cytoplasm_Granularity_5_ER', 'Cytoplasm_Granularity_5_Mito', 'Cytoplasm_Granularity_5_RNA', 'Cytoplasm_Granularity_6_AGP', 'Cytoplasm_Granularity_6_DNA',\n",
    " 'Cytoplasm_Granularity_6_ER', 'Cytoplasm_Granularity_6_Mito', 'Cytoplasm_Granularity_6_RNA', 'Cytoplasm_Granularity_7_AGP', 'Cytoplasm_Granularity_7_DNA', 'Cytoplasm_Granularity_7_ER', \n",
    " 'Cytoplasm_Granularity_7_Mito', 'Cytoplasm_Granularity_7_RNA', 'Cytoplasm_Granularity_8_AGP', 'Cytoplasm_Granularity_8_DNA', 'Cytoplasm_Granularity_8_ER', 'Cytoplasm_Granularity_8_Mito', \n",
    " 'Cytoplasm_Granularity_8_RNA', 'Cytoplasm_Granularity_9_AGP', 'Cytoplasm_Granularity_9_DNA', 'Cytoplasm_Granularity_9_ER', 'Cytoplasm_Granularity_9_Mito', 'Cytoplasm_Granularity_9_RNA', \n",
    " 'Cytoplasm_Intensity_IntegratedIntensityEdge_AGP', 'Cytoplasm_Intensity_IntegratedIntensityEdge_DNA', 'Cytoplasm_Intensity_IntegratedIntensityEdge_ER', 'Cytoplasm_Intensity_IntegratedIntensityEdge_Mito', \n",
    " 'Cytoplasm_Intensity_IntegratedIntensityEdge_RNA', 'Cytoplasm_Intensity_IntegratedIntensity_AGP', 'Cytoplasm_Intensity_IntegratedIntensity_DNA', 'Cytoplasm_Intensity_IntegratedIntensity_ER', \n",
    " 'Cytoplasm_Intensity_IntegratedIntensity_Mito', 'Cytoplasm_Intensity_IntegratedIntensity_RNA', 'Cytoplasm_Intensity_LowerQuartileIntensity_DNA', 'Cytoplasm_Intensity_LowerQuartileIntensity_ER', \n",
    " 'Cytoplasm_Intensity_LowerQuartileIntensity_Mito', 'Cytoplasm_Intensity_LowerQuartileIntensity_RNA', 'Cytoplasm_Intensity_MADIntensity_AGP', 'Cytoplasm_Intensity_MADIntensity_DNA', 'Cytoplasm_Intensity_MADIntensity_ER', \n",
    " 'Cytoplasm_Intensity_MADIntensity_Mito', 'Cytoplasm_Intensity_MADIntensity_RNA', 'Cytoplasm_Intensity_MassDisplacement_AGP', 'Cytoplasm_Intensity_MassDisplacement_DNA', 'Cytoplasm_Intensity_MassDisplacement_ER', \n",
    " 'Cytoplasm_Intensity_MassDisplacement_Mito', 'Cytoplasm_Intensity_MassDisplacement_RNA', 'Cytoplasm_Intensity_MaxIntensityEdge_AGP', 'Cytoplasm_Intensity_MaxIntensityEdge_DNA', 'Cytoplasm_Intensity_MaxIntensityEdge_ER', \n",
    " 'Cytoplasm_Intensity_MaxIntensityEdge_RNA', 'Cytoplasm_Intensity_MaxIntensity_ER', 'Cytoplasm_Intensity_MaxIntensity_Mito', 'Cytoplasm_Intensity_MeanIntensityEdge_DNA', 'Cytoplasm_Intensity_MeanIntensityEdge_ER', \n",
    " 'Cytoplasm_Intensity_MeanIntensityEdge_Mito', 'Cytoplasm_Intensity_MeanIntensity_ER', 'Cytoplasm_Intensity_MeanIntensity_RNA', 'Cytoplasm_Intensity_MedianIntensity_ER', 'Cytoplasm_Intensity_MinIntensityEdge_DNA', \n",
    " 'Cytoplasm_Intensity_MinIntensityEdge_ER', 'Cytoplasm_Intensity_MinIntensityEdge_Mito', 'Cytoplasm_Intensity_MinIntensityEdge_RNA', 'Cytoplasm_Intensity_MinIntensity_AGP', 'Cytoplasm_Intensity_MinIntensity_DNA', \n",
    " 'Cytoplasm_Intensity_StdIntensityEdge_DNA', 'Cytoplasm_Intensity_StdIntensityEdge_ER', 'Cytoplasm_Intensity_StdIntensity_AGP', 'Cytoplasm_Intensity_StdIntensity_DNA', 'Cytoplasm_Intensity_StdIntensity_ER',\n",
    " 'Cytoplasm_Intensity_StdIntensity_RNA', 'Cytoplasm_Intensity_UpperQuartileIntensity_AGP', 'Cytoplasm_Intensity_UpperQuartileIntensity_DNA', 'Cytoplasm_Number_Object_Number', \n",
    " 'Cytoplasm_RadialDistribution_FracAtD_AGP_2of4', 'Cytoplasm_RadialDistribution_FracAtD_AGP_3of4', 'Cytoplasm_RadialDistribution_FracAtD_AGP_4of4', 'Cytoplasm_RadialDistribution_FracAtD_DNA_1of4',\n",
    " 'Cytoplasm_RadialDistribution_FracAtD_DNA_4of4', 'Cytoplasm_RadialDistribution_FracAtD_ER_2of4', 'Cytoplasm_RadialDistribution_FracAtD_ER_3of4', 'Cytoplasm_RadialDistribution_FracAtD_ER_4of4', \n",
    " 'Cytoplasm_RadialDistribution_FracAtD_Mito_2of4', 'Cytoplasm_RadialDistribution_FracAtD_Mito_3of4', 'Cytoplasm_RadialDistribution_FracAtD_Mito_4of4', 'Cytoplasm_RadialDistribution_FracAtD_mito_tubeness_10of16',\n",
    " 'Cytoplasm_RadialDistribution_FracAtD_mito_tubeness_10of20', 'Cytoplasm_RadialDistribution_FracAtD_mito_tubeness_11of20', 'Cytoplasm_RadialDistribution_FracAtD_mito_tubeness_12of20', \n",
    " 'Cytoplasm_RadialDistribution_FracAtD_mito_tubeness_13of16', 'Cytoplasm_RadialDistribution_FracAtD_mito_tubeness_13of20', 'Cytoplasm_RadialDistribution_FracAtD_mito_tubeness_14of20', \n",
    " 'Cytoplasm_RadialDistribution_FracAtD_mito_tubeness_15of20', 'Cytoplasm_RadialDistribution_FracAtD_mito_tubeness_17of20', 'Cytoplasm_RadialDistribution_FracAtD_mito_tubeness_19of20', \n",
    " 'Cytoplasm_RadialDistribution_FracAtD_mito_tubeness_1of20', 'Cytoplasm_RadialDistribution_FracAtD_mito_tubeness_20of20', 'Cytoplasm_RadialDistribution_FracAtD_mito_tubeness_2of16', \n",
    " 'Cytoplasm_RadialDistribution_FracAtD_mito_tubeness_2of20', 'Cytoplasm_RadialDistribution_FracAtD_mito_tubeness_3of16', 'Cytoplasm_RadialDistribution_FracAtD_mito_tubeness_4of20', \n",
    " 'Cytoplasm_RadialDistribution_FracAtD_mito_tubeness_5of16', 'Cytoplasm_RadialDistribution_FracAtD_mito_tubeness_5of20', 'Cytoplasm_RadialDistribution_FracAtD_mito_tubeness_6of16', \n",
    " 'Cytoplasm_RadialDistribution_FracAtD_mito_tubeness_6of20', 'Cytoplasm_RadialDistribution_FracAtD_mito_tubeness_7of20', 'Cytoplasm_RadialDistribution_FracAtD_mito_tubeness_8of20', \n",
    " 'Cytoplasm_RadialDistribution_FracAtD_mito_tubeness_9of16', 'Cytoplasm_RadialDistribution_FracAtD_mito_tubeness_9of20', 'Cytoplasm_RadialDistribution_FracAtD_mito_tubeness_Overflow',\n",
    " 'Cytoplasm_RadialDistribution_MeanFrac_AGP_1of4', 'Cytoplasm_RadialDistribution_MeanFrac_AGP_3of4', 'Cytoplasm_RadialDistribution_MeanFrac_AGP_4of4', 'Cytoplasm_RadialDistribution_MeanFrac_DNA_1of4', \n",
    " 'Cytoplasm_RadialDistribution_MeanFrac_DNA_3of4', 'Cytoplasm_RadialDistribution_MeanFrac_DNA_4of4', 'Cytoplasm_RadialDistribution_MeanFrac_ER_2of4', 'Cytoplasm_RadialDistribution_MeanFrac_ER_3of4', \n",
    " 'Cytoplasm_RadialDistribution_MeanFrac_ER_4of4', 'Cytoplasm_RadialDistribution_MeanFrac_Mito_2of4', 'Cytoplasm_RadialDistribution_MeanFrac_Mito_3of4', 'Cytoplasm_RadialDistribution_MeanFrac_Mito_4of4', \n",
    " 'Cytoplasm_RadialDistribution_MeanFrac_RNA_2of4', 'Cytoplasm_RadialDistribution_MeanFrac_RNA_3of4', 'Cytoplasm_RadialDistribution_MeanFrac_RNA_4of4', 'Cytoplasm_RadialDistribution_MeanFrac_mito_tubeness_10of16', \n",
    " 'Cytoplasm_RadialDistribution_MeanFrac_mito_tubeness_10of20', 'Cytoplasm_RadialDistribution_MeanFrac_mito_tubeness_11of20', 'Cytoplasm_RadialDistribution_MeanFrac_mito_tubeness_12of16', \n",
    " 'Cytoplasm_RadialDistribution_MeanFrac_mito_tubeness_12of20', 'Cytoplasm_RadialDistribution_MeanFrac_mito_tubeness_13of20', 'Cytoplasm_RadialDistribution_MeanFrac_mito_tubeness_14of16', \n",
    " 'Cytoplasm_RadialDistribution_MeanFrac_mito_tubeness_14of20', 'Cytoplasm_RadialDistribution_MeanFrac_mito_tubeness_1of20', 'Cytoplasm_RadialDistribution_MeanFrac_mito_tubeness_20of20', \n",
    " 'Cytoplasm_RadialDistribution_MeanFrac_mito_tubeness_3of16', 'Cytoplasm_RadialDistribution_MeanFrac_mito_tubeness_3of20', 'Cytoplasm_RadialDistribution_MeanFrac_mito_tubeness_4of20', \n",
    " 'Cytoplasm_RadialDistribution_MeanFrac_mito_tubeness_5of16', 'Cytoplasm_RadialDistribution_MeanFrac_mito_tubeness_5of20', 'Cytoplasm_RadialDistribution_MeanFrac_mito_tubeness_6of16', \n",
    " 'Cytoplasm_RadialDistribution_MeanFrac_mito_tubeness_6of20', 'Cytoplasm_RadialDistribution_MeanFrac_mito_tubeness_7of16', 'Cytoplasm_RadialDistribution_MeanFrac_mito_tubeness_8of20', \n",
    " 'Cytoplasm_RadialDistribution_MeanFrac_mito_tubeness_9of16', 'Cytoplasm_RadialDistribution_MeanFrac_mito_tubeness_Overflow', 'Cytoplasm_RadialDistribution_RadialCV_AGP_1of4', \n",
    " 'Cytoplasm_RadialDistribution_RadialCV_AGP_2of4', 'Cytoplasm_RadialDistribution_RadialCV_AGP_3of4', 'Cytoplasm_RadialDistribution_RadialCV_AGP_4of4', 'Cytoplasm_RadialDistribution_RadialCV_DNA_1of4', \n",
    " 'Cytoplasm_RadialDistribution_RadialCV_DNA_2of4', 'Cytoplasm_RadialDistribution_RadialCV_DNA_3of4', 'Cytoplasm_RadialDistribution_RadialCV_DNA_4of4', 'Cytoplasm_RadialDistribution_RadialCV_ER_1of4', \n",
    " 'Cytoplasm_RadialDistribution_RadialCV_ER_2of4', 'Cytoplasm_RadialDistribution_RadialCV_ER_4of4', 'Cytoplasm_RadialDistribution_RadialCV_Mito_1of4', 'Cytoplasm_RadialDistribution_RadialCV_Mito_2of4',\n",
    " 'Cytoplasm_RadialDistribution_RadialCV_Mito_4of4', 'Cytoplasm_RadialDistribution_RadialCV_RNA_1of4', 'Cytoplasm_RadialDistribution_RadialCV_RNA_2of4', 'Cytoplasm_RadialDistribution_RadialCV_RNA_4of4', \n",
    " 'Cytoplasm_RadialDistribution_RadialCV_mito_tubeness_10of16', 'Cytoplasm_RadialDistribution_RadialCV_mito_tubeness_10of20', 'Cytoplasm_RadialDistribution_RadialCV_mito_tubeness_11of20', \n",
    " 'Cytoplasm_RadialDistribution_RadialCV_mito_tubeness_12of16', 'Cytoplasm_RadialDistribution_RadialCV_mito_tubeness_12of20', 'Cytoplasm_RadialDistribution_RadialCV_mito_tubeness_13of16', \n",
    " 'Cytoplasm_RadialDistribution_RadialCV_mito_tubeness_13of20', 'Cytoplasm_RadialDistribution_RadialCV_mito_tubeness_14of20', 'Cytoplasm_RadialDistribution_RadialCV_mito_tubeness_1of16', \n",
    " 'Cytoplasm_RadialDistribution_RadialCV_mito_tubeness_1of20', 'Cytoplasm_RadialDistribution_RadialCV_mito_tubeness_20of20', 'Cytoplasm_RadialDistribution_RadialCV_mito_tubeness_2of16', \n",
    " 'Cytoplasm_RadialDistribution_RadialCV_mito_tubeness_2of20', 'Cytoplasm_RadialDistribution_RadialCV_mito_tubeness_3of16', 'Cytoplasm_RadialDistribution_RadialCV_mito_tubeness_3of20', \n",
    " 'Cytoplasm_RadialDistribution_RadialCV_mito_tubeness_4of16', 'Cytoplasm_RadialDistribution_RadialCV_mito_tubeness_4of20', 'Cytoplasm_RadialDistribution_RadialCV_mito_tubeness_5of16', \n",
    " 'Cytoplasm_RadialDistribution_RadialCV_mito_tubeness_5of20', 'Cytoplasm_RadialDistribution_RadialCV_mito_tubeness_6of16', 'Cytoplasm_RadialDistribution_RadialCV_mito_tubeness_6of20', \n",
    " 'Cytoplasm_RadialDistribution_RadialCV_mito_tubeness_7of16', 'Cytoplasm_RadialDistribution_RadialCV_mito_tubeness_7of20', 'Cytoplasm_RadialDistribution_RadialCV_mito_tubeness_8of20',\n",
    " 'Cytoplasm_RadialDistribution_RadialCV_mito_tubeness_9of16', 'Cytoplasm_RadialDistribution_RadialCV_mito_tubeness_9of20', 'Cytoplasm_RadialDistribution_RadialCV_mito_tubeness_Overflow'\n",
    "\n",
    " }\n",
    "correlation_dropped_cols_3 = \\\n",
    "{'Cytoplasm_AreaShape_Area', 'Cytoplasm_AreaShape_BoundingBoxArea', 'Cytoplasm_AreaShape_BoundingBoxMaximum_Y', 'Cytoplasm_AreaShape_BoundingBoxMinimum_X', 'Cytoplasm_AreaShape_BoundingBoxMinimum_Y', \n",
    " 'Cytoplasm_AreaShape_EquivalentDiameter', 'Cytoplasm_AreaShape_MajorAxisLength', 'Cytoplasm_AreaShape_MaxFeretDiameter', 'Cytoplasm_AreaShape_MeanRadius', 'Cytoplasm_AreaShape_MedianRadius', \n",
    " 'Cytoplasm_AreaShape_MinFeretDiameter', 'Cytoplasm_Correlation_Correlation_AGP_RNA', 'Cytoplasm_Correlation_Manders_AGP_DNA', 'Cytoplasm_Correlation_Manders_ER_AGP', 'Cytoplasm_Granularity_1_ER', \n",
    " 'Cytoplasm_Intensity_LowerQuartileIntensity_AGP', 'Cytoplasm_Intensity_MaxIntensityEdge_Mito', 'Cytoplasm_Intensity_MaxIntensity_AGP', 'Cytoplasm_Intensity_MaxIntensity_DNA', 'Cytoplasm_Intensity_MaxIntensity_RNA', \n",
    " 'Cytoplasm_Intensity_MeanIntensityEdge_AGP', 'Cytoplasm_Intensity_MeanIntensityEdge_RNA', 'Cytoplasm_Intensity_MeanIntensity_AGP', 'Cytoplasm_Intensity_MeanIntensity_DNA', 'Cytoplasm_Intensity_MeanIntensity_Mito', \n",
    " 'Cytoplasm_Intensity_MedianIntensity_AGP', 'Cytoplasm_Intensity_MedianIntensity_DNA', 'Cytoplasm_Intensity_MedianIntensity_Mito', 'Cytoplasm_Intensity_MedianIntensity_RNA', 'Cytoplasm_Intensity_MinIntensityEdge_AGP', \n",
    " 'Cytoplasm_Intensity_MinIntensity_ER', 'Cytoplasm_Intensity_MinIntensity_Mito', 'Cytoplasm_Intensity_MinIntensity_RNA', 'Cytoplasm_Intensity_StdIntensityEdge_AGP', 'Cytoplasm_Intensity_StdIntensityEdge_Mito', \n",
    " 'Cytoplasm_Intensity_StdIntensityEdge_RNA', 'Cytoplasm_Intensity_StdIntensity_Mito', 'Cytoplasm_Intensity_UpperQuartileIntensity_ER', 'Cytoplasm_Intensity_UpperQuartileIntensity_Mito', 'Cytoplasm_Intensity_UpperQuartileIntensity_RNA', \n",
    " 'Cytoplasm_RadialDistribution_FracAtD_AGP_1of4', 'Cytoplasm_RadialDistribution_FracAtD_DNA_2of4', 'Cytoplasm_RadialDistribution_FracAtD_DNA_3of4', 'Cytoplasm_RadialDistribution_FracAtD_ER_1of4', \n",
    " 'Cytoplasm_RadialDistribution_FracAtD_Mito_1of4', 'Cytoplasm_RadialDistribution_FracAtD_RNA_1of4', 'Cytoplasm_RadialDistribution_FracAtD_RNA_2of4', 'Cytoplasm_RadialDistribution_FracAtD_RNA_3of4', \n",
    " 'Cytoplasm_RadialDistribution_FracAtD_RNA_4of4', 'Cytoplasm_RadialDistribution_FracAtD_mito_tubeness_11of16', 'Cytoplasm_RadialDistribution_FracAtD_mito_tubeness_12of16', 'Cytoplasm_RadialDistribution_FracAtD_mito_tubeness_14of16', \n",
    " 'Cytoplasm_RadialDistribution_FracAtD_mito_tubeness_15of16', 'Cytoplasm_RadialDistribution_FracAtD_mito_tubeness_16of16', 'Cytoplasm_RadialDistribution_FracAtD_mito_tubeness_16of20', 'Cytoplasm_RadialDistribution_FracAtD_mito_tubeness_18of20', \n",
    " 'Cytoplasm_RadialDistribution_FracAtD_mito_tubeness_1of16', 'Cytoplasm_RadialDistribution_FracAtD_mito_tubeness_3of20', 'Cytoplasm_RadialDistribution_FracAtD_mito_tubeness_4of16', 'Cytoplasm_RadialDistribution_FracAtD_mito_tubeness_7of16', \n",
    " 'Cytoplasm_RadialDistribution_FracAtD_mito_tubeness_8of16', 'Cytoplasm_RadialDistribution_MeanFrac_AGP_2of4', 'Cytoplasm_RadialDistribution_MeanFrac_DNA_2of4', 'Cytoplasm_RadialDistribution_MeanFrac_ER_1of4',\n",
    " 'Cytoplasm_RadialDistribution_MeanFrac_Mito_1of4', 'Cytoplasm_RadialDistribution_MeanFrac_RNA_1of4', 'Cytoplasm_RadialDistribution_MeanFrac_mito_tubeness_11of16', 'Cytoplasm_RadialDistribution_MeanFrac_mito_tubeness_13of16', \n",
    " 'Cytoplasm_RadialDistribution_MeanFrac_mito_tubeness_15of16', 'Cytoplasm_RadialDistribution_MeanFrac_mito_tubeness_15of20', 'Cytoplasm_RadialDistribution_MeanFrac_mito_tubeness_16of16', 'Cytoplasm_RadialDistribution_MeanFrac_mito_tubeness_16of20', \n",
    " 'Cytoplasm_RadialDistribution_MeanFrac_mito_tubeness_17of20', 'Cytoplasm_RadialDistribution_MeanFrac_mito_tubeness_18of20', 'Cytoplasm_RadialDistribution_MeanFrac_mito_tubeness_19of20', 'Cytoplasm_RadialDistribution_MeanFrac_mito_tubeness_1of16', \n",
    " 'Cytoplasm_RadialDistribution_MeanFrac_mito_tubeness_2of16', 'Cytoplasm_RadialDistribution_MeanFrac_mito_tubeness_2of20', 'Cytoplasm_RadialDistribution_MeanFrac_mito_tubeness_4of16', 'Cytoplasm_RadialDistribution_MeanFrac_mito_tubeness_7of20', \n",
    " 'Cytoplasm_RadialDistribution_MeanFrac_mito_tubeness_8of16', 'Cytoplasm_RadialDistribution_MeanFrac_mito_tubeness_9of20', 'Cytoplasm_RadialDistribution_RadialCV_ER_3of4', 'Cytoplasm_RadialDistribution_RadialCV_Mito_3of4', \n",
    " 'Cytoplasm_RadialDistribution_RadialCV_RNA_3of4', 'Cytoplasm_RadialDistribution_RadialCV_mito_tubeness_11of16', 'Cytoplasm_RadialDistribution_RadialCV_mito_tubeness_14of16', 'Cytoplasm_RadialDistribution_RadialCV_mito_tubeness_15of16', \n",
    " 'Cytoplasm_RadialDistribution_RadialCV_mito_tubeness_15of20', 'Cytoplasm_RadialDistribution_RadialCV_mito_tubeness_16of16', 'Cytoplasm_RadialDistribution_RadialCV_mito_tubeness_16of20', 'Cytoplasm_RadialDistribution_RadialCV_mito_tubeness_17of20', \n",
    " 'Cytoplasm_RadialDistribution_RadialCV_mito_tubeness_18of20', 'Cytoplasm_RadialDistribution_RadialCV_mito_tubeness_19of20', 'Cytoplasm_RadialDistribution_RadialCV_mito_tubeness_8of16'}\n",
    "\n",
    "variance_dropped_cols_3 = set()"
   ]
  },
  {
   "cell_type": "code",
   "execution_count": 279,
   "id": "d34b3a8e-1f1b-4aec-a926-c9ad854c5cc0",
   "metadata": {
    "execution": {
     "iopub.execute_input": "2024-05-12T11:29:40.515436Z",
     "iopub.status.busy": "2024-05-12T11:29:40.514852Z",
     "iopub.status.idle": "2024-05-12T11:29:40.547516Z",
     "shell.execute_reply": "2024-05-12T11:29:40.546989Z",
     "shell.execute_reply.started": "2024-05-12T11:29:40.515385Z"
    }
   },
   "outputs": [
    {
     "data": {
      "text/plain": [
       "set()"
      ]
     },
     "execution_count": 279,
     "metadata": {},
     "output_type": "execute_result"
    },
    {
     "name": "stdout",
     "output_type": "stream",
     "text": [
      " Number of cols dropped - high correlation: 95\n",
      " Number of cols dropped - low variance    : 0\n",
      " Number of selected cols                  : 365\n",
      " Total                                    : 460\n"
     ]
    }
   ],
   "source": [
    "variance_dropped_cols_3 & correlation_dropped_cols_3\n",
    "print(f\" Number of cols dropped - high correlation: {len(correlation_dropped_cols_3)}\")\n",
    "print(f\" Number of cols dropped - low variance    : {len(variance_dropped_cols_3)}\")\n",
    "print(f\" Number of selected cols                  : {len(selected_cols_3)}\")\n",
    "print(f\" Total                                    : {len(selected_cols_3)+len(correlation_dropped_cols_3)+len(variance_dropped_cols_3)}\")"
   ]
  },
  {
   "cell_type": "code",
   "execution_count": 280,
   "id": "fd4fa4c4-0db8-4339-b9da-fb51e939fb82",
   "metadata": {
    "execution": {
     "iopub.execute_input": "2024-05-12T11:29:53.785543Z",
     "iopub.status.busy": "2024-05-12T11:29:53.784965Z",
     "iopub.status.idle": "2024-05-12T11:29:53.820034Z",
     "shell.execute_reply": "2024-05-12T11:29:53.819514Z",
     "shell.execute_reply.started": "2024-05-12T11:29:53.785490Z"
    }
   },
   "outputs": [
    {
     "data": {
      "text/plain": [
       "set()"
      ]
     },
     "execution_count": 280,
     "metadata": {},
     "output_type": "execute_result"
    },
    {
     "data": {
      "text/plain": [
       "set()"
      ]
     },
     "execution_count": 280,
     "metadata": {},
     "output_type": "execute_result"
    },
    {
     "data": {
      "text/plain": [
       "{'Cytoplasm_RadialDistribution_FracAtD_mito_tubeness_2of20',\n",
       " 'Cytoplasm_RadialDistribution_FracAtD_mito_tubeness_Overflow',\n",
       " 'Cytoplasm_RadialDistribution_MeanFrac_mito_tubeness_Overflow',\n",
       " 'Cytoplasm_RadialDistribution_RadialCV_mito_tubeness_1of16',\n",
       " 'Cytoplasm_RadialDistribution_RadialCV_mito_tubeness_1of20',\n",
       " 'Cytoplasm_RadialDistribution_RadialCV_mito_tubeness_2of20',\n",
       " 'Cytoplasm_RadialDistribution_RadialCV_mito_tubeness_Overflow'}"
      ]
     },
     "execution_count": 280,
     "metadata": {},
     "output_type": "execute_result"
    }
   ],
   "source": [
    "(correlation_dropped_cols_3) & set(zero_features)\n",
    "(variance_dropped_cols_3) & set(zero_features)\n",
    "(selected_cols_3) & set(zero_features)"
   ]
  },
  {
   "cell_type": "markdown",
   "id": "7db42ff7-d4f8-4ec7-8b2c-59df6ea61a97",
   "metadata": {},
   "source": [
    "### Group 4 - Cytoplasm"
   ]
  },
  {
   "cell_type": "code",
   "execution_count": 281,
   "id": "3d0680a6-486b-4f0b-9a3e-c622918eedc2",
   "metadata": {
    "execution": {
     "iopub.execute_input": "2024-05-12T11:29:57.451620Z",
     "iopub.status.busy": "2024-05-12T11:29:57.451138Z",
     "iopub.status.idle": "2024-05-12T11:29:57.510199Z",
     "shell.execute_reply": "2024-05-12T11:29:57.509495Z",
     "shell.execute_reply.started": "2024-05-12T11:29:57.451580Z"
    }
   },
   "outputs": [],
   "source": [
    "selected_cols_4 = \\\n",
    "{\"Cytoplasm_Texture_AngularSecondMoment_AGP_10_03_256\"       , \"Cytoplasm_Texture_AngularSecondMoment_DNA_10_03_256\"       , \"Cytoplasm_Texture_AngularSecondMoment_ER_10_01_256\"        , \"Cytoplasm_Texture_AngularSecondMoment_Mito_10_01_256\"       ,\n",
    " \"Cytoplasm_Texture_AngularSecondMoment_RNA_10_03_256\"       , \"Cytoplasm_Texture_Contrast_DNA_5_00_256\"                   , \"Cytoplasm_Texture_Contrast_Mito_3_00_256\"                  , \"Cytoplasm_Texture_Contrast_RNA_10_02_256\"                   ,\n",
    " \"Cytoplasm_Texture_Correlation_AGP_10_00_256\"               , \"Cytoplasm_Texture_Correlation_AGP_10_01_256\"               , \"Cytoplasm_Texture_Correlation_AGP_10_02_256\"               , \"Cytoplasm_Texture_Correlation_AGP_10_03_256\"                ,\n",
    " \"Cytoplasm_Texture_Correlation_AGP_3_00_256\"                , \"Cytoplasm_Texture_Correlation_AGP_3_01_256\"                , \"Cytoplasm_Texture_Correlation_AGP_3_02_256\"                , \"Cytoplasm_Texture_Correlation_AGP_3_03_256\"                 ,\n",
    " \"Cytoplasm_Texture_Correlation_AGP_5_00_256\"                , \"Cytoplasm_Texture_Correlation_AGP_5_01_256\"                , \"Cytoplasm_Texture_Correlation_AGP_5_02_256\"                , \"Cytoplasm_Texture_Correlation_AGP_5_03_256\"                 ,\n",
    " \"Cytoplasm_Texture_Correlation_DNA_10_00_256\"               , \"Cytoplasm_Texture_Correlation_DNA_10_01_256\"               , \"Cytoplasm_Texture_Correlation_DNA_10_02_256\"               , \"Cytoplasm_Texture_Correlation_DNA_10_03_256\"                ,\n",
    " \"Cytoplasm_Texture_Correlation_DNA_3_00_256\"                , \"Cytoplasm_Texture_Correlation_DNA_3_01_256\"                , \"Cytoplasm_Texture_Correlation_DNA_3_02_256\"                , \"Cytoplasm_Texture_Correlation_DNA_3_03_256\"                 ,\n",
    " \"Cytoplasm_Texture_Correlation_DNA_5_00_256\"                , \"Cytoplasm_Texture_Correlation_DNA_5_01_256\"                , \"Cytoplasm_Texture_Correlation_DNA_5_02_256\"                , \"Cytoplasm_Texture_Correlation_DNA_5_03_256\"                 ,\n",
    " \"Cytoplasm_Texture_Correlation_ER_10_00_256\"                , \"Cytoplasm_Texture_Correlation_ER_10_01_256\"                , \"Cytoplasm_Texture_Correlation_ER_10_02_256\"                , \"Cytoplasm_Texture_Correlation_ER_10_03_256\"                 ,\n",
    " \"Cytoplasm_Texture_Correlation_ER_3_00_256\"                 , \"Cytoplasm_Texture_Correlation_ER_3_02_256\"                 , \"Cytoplasm_Texture_Correlation_Mito_10_00_256\"              , \"Cytoplasm_Texture_Correlation_Mito_10_01_256\"               ,\n",
    " \"Cytoplasm_Texture_Correlation_Mito_10_02_256\"              , \"Cytoplasm_Texture_Correlation_Mito_10_03_256\"              , \"Cytoplasm_Texture_Correlation_Mito_3_00_256\"               , \"Cytoplasm_Texture_Correlation_Mito_3_01_256\"                ,\n",
    " \"Cytoplasm_Texture_Correlation_Mito_3_02_256\"               , \"Cytoplasm_Texture_Correlation_Mito_3_03_256\"               , \"Cytoplasm_Texture_Correlation_Mito_5_01_256\"               , \"Cytoplasm_Texture_Correlation_Mito_5_03_256\"                ,\n",
    " \"Cytoplasm_Texture_Correlation_RNA_10_00_256\"               , \"Cytoplasm_Texture_Correlation_RNA_10_01_256\"               , \"Cytoplasm_Texture_Correlation_RNA_10_02_256\"               , \"Cytoplasm_Texture_Correlation_RNA_10_03_256\"                ,\n",
    " \"Cytoplasm_Texture_Correlation_RNA_3_00_256\"                , \"Cytoplasm_Texture_Correlation_RNA_3_02_256\"                , \"Cytoplasm_Texture_DifferenceEntropy_ER_10_01_256\"          , \"Cytoplasm_Texture_DifferenceVariance_AGP_3_00_256\"          ,\n",
    " \"Cytoplasm_Texture_DifferenceVariance_DNA_10_03_256\"        , \"Cytoplasm_Texture_DifferenceVariance_ER_10_01_256\"         , \"Cytoplasm_Texture_DifferenceVariance_Mito_10_01_256\"       , \"Cytoplasm_Texture_DifferenceVariance_RNA_10_03_256\"         ,\n",
    " \"Cytoplasm_Texture_Entropy_AGP_10_03_256\"                   , \"Cytoplasm_Texture_Entropy_DNA_3_02_256\"                    , \"Cytoplasm_Texture_Entropy_ER_10_01_256\"                    , \"Cytoplasm_Texture_Entropy_Mito_10_01_256\"                   ,\n",
    " \"Cytoplasm_Texture_Entropy_RNA_10_03_256\"                   , \"Cytoplasm_Texture_InfoMeas1_AGP_10_00_256\"                 , \"Cytoplasm_Texture_InfoMeas1_AGP_10_02_256\"                 , \"Cytoplasm_Texture_InfoMeas1_AGP_10_03_256\"                  ,\n",
    " \"Cytoplasm_Texture_InfoMeas1_AGP_3_00_256\"                  , \"Cytoplasm_Texture_InfoMeas1_AGP_3_01_256\"                  , \"Cytoplasm_Texture_InfoMeas1_AGP_3_02_256\"                  , \"Cytoplasm_Texture_InfoMeas1_AGP_3_03_256\"                   ,\n",
    " \"Cytoplasm_Texture_InfoMeas1_AGP_5_00_256\"                  , \"Cytoplasm_Texture_InfoMeas1_AGP_5_01_256\"                  , \"Cytoplasm_Texture_InfoMeas1_AGP_5_02_256\"                  , \"Cytoplasm_Texture_InfoMeas1_AGP_5_03_256\"                   ,\n",
    " \"Cytoplasm_Texture_InfoMeas1_DNA_10_00_256\"                 , \"Cytoplasm_Texture_InfoMeas1_DNA_10_01_256\"                 , \"Cytoplasm_Texture_InfoMeas1_DNA_10_02_256\"                 , \"Cytoplasm_Texture_InfoMeas1_DNA_10_03_256\"                  ,\n",
    " \"Cytoplasm_Texture_InfoMeas1_DNA_3_00_256\"                  , \"Cytoplasm_Texture_InfoMeas1_DNA_3_01_256\"                  , \"Cytoplasm_Texture_InfoMeas1_DNA_3_02_256\"                  , \"Cytoplasm_Texture_InfoMeas1_DNA_3_03_256\"                   ,\n",
    " \"Cytoplasm_Texture_InfoMeas1_DNA_5_00_256\"                  , \"Cytoplasm_Texture_InfoMeas1_DNA_5_01_256\"                  , \"Cytoplasm_Texture_InfoMeas1_DNA_5_02_256\"                  , \"Cytoplasm_Texture_InfoMeas1_DNA_5_03_256\"                   ,\n",
    " \"Cytoplasm_Texture_InfoMeas1_ER_10_00_256\"                  , \"Cytoplasm_Texture_InfoMeas1_ER_10_02_256\"                  , \"Cytoplasm_Texture_InfoMeas1_ER_10_03_256\"                  , \"Cytoplasm_Texture_InfoMeas1_ER_3_00_256\"                    ,\n",
    " \"Cytoplasm_Texture_InfoMeas1_ER_3_02_256\"                   , \"Cytoplasm_Texture_InfoMeas1_ER_5_00_256\"                   , \"Cytoplasm_Texture_InfoMeas1_ER_5_01_256\"                   , \"Cytoplasm_Texture_InfoMeas1_ER_5_02_256\"                    ,\n",
    " \"Cytoplasm_Texture_InfoMeas1_ER_5_03_256\"                   , \"Cytoplasm_Texture_InfoMeas1_Mito_10_00_256\"                , \"Cytoplasm_Texture_InfoMeas1_Mito_10_01_256\"                , \"Cytoplasm_Texture_InfoMeas1_Mito_10_02_256\"                 ,\n",
    " \"Cytoplasm_Texture_InfoMeas1_Mito_3_00_256\"                 , \"Cytoplasm_Texture_InfoMeas1_Mito_3_01_256\"                 , \"Cytoplasm_Texture_InfoMeas1_Mito_3_02_256\"                 , \"Cytoplasm_Texture_InfoMeas1_Mito_3_03_256\"                  ,\n",
    " \"Cytoplasm_Texture_InfoMeas1_Mito_5_00_256\"                 , \"Cytoplasm_Texture_InfoMeas1_Mito_5_01_256\"                 , \"Cytoplasm_Texture_InfoMeas1_Mito_5_03_256\"                 , \"Cytoplasm_Texture_InfoMeas1_RNA_10_00_256\"                  ,\n",
    " \"Cytoplasm_Texture_InfoMeas1_RNA_10_02_256\"                 , \"Cytoplasm_Texture_InfoMeas1_RNA_10_03_256\"                 , \"Cytoplasm_Texture_InfoMeas1_RNA_5_00_256\"                  , \"Cytoplasm_Texture_InfoMeas1_RNA_5_01_256\"                   ,\n",
    " \"Cytoplasm_Texture_InfoMeas1_RNA_5_02_256\"                  , \"Cytoplasm_Texture_InfoMeas1_RNA_5_03_256\"                  , \"Cytoplasm_Texture_InfoMeas2_AGP_10_02_256\"                 , \"Cytoplasm_Texture_InfoMeas2_AGP_3_00_256\"                   ,\n",
    " \"Cytoplasm_Texture_InfoMeas2_AGP_3_01_256\"                  , \"Cytoplasm_Texture_InfoMeas2_AGP_3_02_256\"                  , \"Cytoplasm_Texture_InfoMeas2_AGP_3_03_256\"                  , \"Cytoplasm_Texture_InfoMeas2_DNA_10_01_256\"                  ,\n",
    " \"Cytoplasm_Texture_InfoMeas2_DNA_10_02_256\"                 , \"Cytoplasm_Texture_InfoMeas2_DNA_10_03_256\"                 , \"Cytoplasm_Texture_InfoMeas2_DNA_3_02_256\"                  , \"Cytoplasm_Texture_InfoMeas2_ER_10_02_256\"                   ,\n",
    " \"Cytoplasm_Texture_InfoMeas2_ER_10_03_256\"                  , \"Cytoplasm_Texture_InfoMeas2_ER_3_00_256\"                   , \"Cytoplasm_Texture_InfoMeas2_ER_3_02_256\"                   , \"Cytoplasm_Texture_InfoMeas2_ER_5_01_256\"                    ,\n",
    " \"Cytoplasm_Texture_InfoMeas2_ER_5_03_256\"                   , \"Cytoplasm_Texture_InfoMeas2_Mito_3_02_256\"                 , \"Cytoplasm_Texture_InfoMeas2_RNA_10_02_256\"                 , \"Cytoplasm_Texture_InfoMeas2_RNA_10_03_256\"                  ,\n",
    " \"Cytoplasm_Texture_InfoMeas2_RNA_3_00_256\"                  , \"Cytoplasm_Texture_InfoMeas2_RNA_5_01_256\"                  , \"Cytoplasm_Texture_InverseDifferenceMoment_AGP_3_00_256\"    , \"Cytoplasm_Texture_InverseDifferenceMoment_DNA_3_02_256\"     ,\n",
    " \"Cytoplasm_Texture_InverseDifferenceMoment_ER_10_01_256\"    , \"Cytoplasm_Texture_InverseDifferenceMoment_Mito_10_01_256\"  , \"Cytoplasm_Texture_InverseDifferenceMoment_RNA_10_01_256\"   , \"Cytoplasm_Texture_SumAverage_AGP_3_00_256\"                  ,\n",
    " \"Cytoplasm_Texture_SumAverage_DNA_3_02_256\"                 , \"Cytoplasm_Texture_SumAverage_ER_3_00_256\"                  , \"Cytoplasm_Texture_SumAverage_Mito_3_00_256\"                , \"Cytoplasm_Texture_SumAverage_RNA_3_00_256\"                  ,\n",
    " \"Cytoplasm_Texture_SumEntropy_DNA_10_03_256\"                , \"Cytoplasm_Texture_SumVariance_AGP_10_03_256\"               , \"Cytoplasm_Texture_SumVariance_DNA_10_01_256\"               , \"Cytoplasm_Texture_SumVariance_DNA_10_03_256\"                ,\n",
    " \"Cytoplasm_Texture_SumVariance_DNA_3_02_256\"                , \"Cytoplasm_Texture_SumVariance_ER_10_01_256\"                , \"Cytoplasm_Texture_SumVariance_Mito_10_01_256\"              , \"Cytoplasm_Texture_SumVariance_RNA_10_03_256\"                \n",
    "}\n",
    "\n",
    "correlation_dropped_cols_4 = \\\n",
    "{\"Cytoplasm_Texture_AngularSecondMoment_AGP_10_00_256\"       , \"Cytoplasm_Texture_AngularSecondMoment_AGP_10_01_256\"       , \"Cytoplasm_Texture_AngularSecondMoment_AGP_10_02_256\"       , \"Cytoplasm_Texture_AngularSecondMoment_AGP_3_00_256\"         ,\n",
    " \"Cytoplasm_Texture_AngularSecondMoment_AGP_3_01_256\"        , \"Cytoplasm_Texture_AngularSecondMoment_AGP_3_02_256\"        , \"Cytoplasm_Texture_AngularSecondMoment_AGP_3_03_256\"        , \"Cytoplasm_Texture_AngularSecondMoment_AGP_5_00_256\"         ,\n",
    " \"Cytoplasm_Texture_AngularSecondMoment_AGP_5_01_256\"        , \"Cytoplasm_Texture_AngularSecondMoment_AGP_5_02_256\"        , \"Cytoplasm_Texture_AngularSecondMoment_AGP_5_03_256\"        , \"Cytoplasm_Texture_AngularSecondMoment_DNA_10_00_256\"        ,\n",
    " \"Cytoplasm_Texture_AngularSecondMoment_DNA_10_01_256\"       , \"Cytoplasm_Texture_AngularSecondMoment_DNA_10_02_256\"       , \"Cytoplasm_Texture_AngularSecondMoment_DNA_3_00_256\"        , \"Cytoplasm_Texture_AngularSecondMoment_DNA_3_01_256\"         ,\n",
    " \"Cytoplasm_Texture_AngularSecondMoment_DNA_3_02_256\"        , \"Cytoplasm_Texture_AngularSecondMoment_DNA_3_03_256\"        , \"Cytoplasm_Texture_AngularSecondMoment_DNA_5_00_256\"        , \"Cytoplasm_Texture_AngularSecondMoment_DNA_5_01_256\"         ,\n",
    " \"Cytoplasm_Texture_AngularSecondMoment_DNA_5_02_256\"        , \"Cytoplasm_Texture_AngularSecondMoment_DNA_5_03_256\"        , \"Cytoplasm_Texture_AngularSecondMoment_ER_10_00_256\"        , \"Cytoplasm_Texture_AngularSecondMoment_ER_10_02_256\"         ,\n",
    " \"Cytoplasm_Texture_AngularSecondMoment_ER_10_03_256\"        , \"Cytoplasm_Texture_AngularSecondMoment_ER_3_00_256\"         , \"Cytoplasm_Texture_AngularSecondMoment_ER_3_01_256\"         , \"Cytoplasm_Texture_AngularSecondMoment_ER_3_02_256\"          ,\n",
    " \"Cytoplasm_Texture_AngularSecondMoment_ER_3_03_256\"         , \"Cytoplasm_Texture_AngularSecondMoment_ER_5_00_256\"         , \"Cytoplasm_Texture_AngularSecondMoment_ER_5_01_256\"         , \"Cytoplasm_Texture_AngularSecondMoment_ER_5_02_256\"          ,\n",
    " \"Cytoplasm_Texture_AngularSecondMoment_ER_5_03_256\"         , \"Cytoplasm_Texture_AngularSecondMoment_Mito_10_00_256\"      , \"Cytoplasm_Texture_AngularSecondMoment_Mito_10_02_256\"      , \"Cytoplasm_Texture_AngularSecondMoment_Mito_10_03_256\"       ,\n",
    " \"Cytoplasm_Texture_AngularSecondMoment_Mito_3_00_256\"       , \"Cytoplasm_Texture_AngularSecondMoment_Mito_3_01_256\"       , \"Cytoplasm_Texture_AngularSecondMoment_Mito_3_02_256\"       , \"Cytoplasm_Texture_AngularSecondMoment_Mito_3_03_256\"        ,\n",
    " \"Cytoplasm_Texture_AngularSecondMoment_Mito_5_00_256\"       , \"Cytoplasm_Texture_AngularSecondMoment_Mito_5_01_256\"       , \"Cytoplasm_Texture_AngularSecondMoment_Mito_5_02_256\"       , \"Cytoplasm_Texture_AngularSecondMoment_Mito_5_03_256\"        ,\n",
    " \"Cytoplasm_Texture_AngularSecondMoment_RNA_10_00_256\"       , \"Cytoplasm_Texture_AngularSecondMoment_RNA_10_01_256\"       , \"Cytoplasm_Texture_AngularSecondMoment_RNA_10_02_256\"       , \"Cytoplasm_Texture_AngularSecondMoment_RNA_3_00_256\"         ,\n",
    " \"Cytoplasm_Texture_AngularSecondMoment_RNA_3_01_256\"        , \"Cytoplasm_Texture_AngularSecondMoment_RNA_3_02_256\"        , \"Cytoplasm_Texture_AngularSecondMoment_RNA_3_03_256\"        , \"Cytoplasm_Texture_AngularSecondMoment_RNA_5_00_256\"         ,\n",
    " \"Cytoplasm_Texture_AngularSecondMoment_RNA_5_01_256\"        , \"Cytoplasm_Texture_AngularSecondMoment_RNA_5_02_256\"        , \"Cytoplasm_Texture_AngularSecondMoment_RNA_5_03_256\"        , \"Cytoplasm_Texture_Contrast_AGP_10_00_256\"                   ,\n",
    " \"Cytoplasm_Texture_Contrast_AGP_10_01_256\"                  , \"Cytoplasm_Texture_Contrast_AGP_10_02_256\"                  , \"Cytoplasm_Texture_Contrast_AGP_10_03_256\"                  , \"Cytoplasm_Texture_Contrast_AGP_3_00_256\"                    ,\n",
    " \"Cytoplasm_Texture_Contrast_AGP_3_01_256\"                   , \"Cytoplasm_Texture_Contrast_AGP_3_02_256\"                   , \"Cytoplasm_Texture_Contrast_AGP_3_03_256\"                   , \"Cytoplasm_Texture_Contrast_AGP_5_00_256\"                    ,\n",
    " \"Cytoplasm_Texture_Contrast_AGP_5_01_256\"                   , \"Cytoplasm_Texture_Contrast_AGP_5_02_256\"                   , \"Cytoplasm_Texture_Contrast_AGP_5_03_256\"                   , \"Cytoplasm_Texture_Contrast_DNA_10_00_256\"                   ,\n",
    " \"Cytoplasm_Texture_Contrast_DNA_10_01_256\"                  , \"Cytoplasm_Texture_Contrast_DNA_10_02_256\"                  , \"Cytoplasm_Texture_Contrast_DNA_10_03_256\"                  , \"Cytoplasm_Texture_Contrast_DNA_3_00_256\"                    ,\n",
    " \"Cytoplasm_Texture_Contrast_DNA_3_01_256\"                   , \"Cytoplasm_Texture_Contrast_DNA_3_02_256\"                   , \"Cytoplasm_Texture_Contrast_DNA_3_03_256\"                   , \"Cytoplasm_Texture_Contrast_DNA_5_01_256\"                    ,\n",
    " \"Cytoplasm_Texture_Contrast_DNA_5_02_256\"                   , \"Cytoplasm_Texture_Contrast_DNA_5_03_256\"                   , \"Cytoplasm_Texture_Contrast_ER_10_00_256\"                   , \"Cytoplasm_Texture_Contrast_ER_10_01_256\"                    ,\n",
    " \"Cytoplasm_Texture_Contrast_ER_10_02_256\"                   , \"Cytoplasm_Texture_Contrast_ER_10_03_256\"                   , \"Cytoplasm_Texture_Contrast_ER_3_00_256\"                    , \"Cytoplasm_Texture_Contrast_ER_3_01_256\"                     ,\n",
    " \"Cytoplasm_Texture_Contrast_ER_3_02_256\"                    , \"Cytoplasm_Texture_Contrast_ER_3_03_256\"                    , \"Cytoplasm_Texture_Contrast_ER_5_00_256\"                    , \"Cytoplasm_Texture_Contrast_ER_5_01_256\"                     ,\n",
    " \"Cytoplasm_Texture_Contrast_ER_5_02_256\"                    , \"Cytoplasm_Texture_Contrast_ER_5_03_256\"                    , \"Cytoplasm_Texture_Contrast_Mito_10_00_256\"                 , \"Cytoplasm_Texture_Contrast_Mito_10_01_256\"                  ,\n",
    " \"Cytoplasm_Texture_Contrast_Mito_10_02_256\"                 , \"Cytoplasm_Texture_Contrast_Mito_10_03_256\"                 , \"Cytoplasm_Texture_Contrast_Mito_3_01_256\"                  , \"Cytoplasm_Texture_Contrast_Mito_3_02_256\"                   ,\n",
    " \"Cytoplasm_Texture_Contrast_Mito_3_03_256\"                  , \"Cytoplasm_Texture_Contrast_Mito_5_00_256\"                  , \"Cytoplasm_Texture_Contrast_Mito_5_01_256\"                  , \"Cytoplasm_Texture_Contrast_Mito_5_02_256\"                   ,\n",
    " \"Cytoplasm_Texture_Contrast_Mito_5_03_256\"                  , \"Cytoplasm_Texture_Contrast_RNA_10_00_256\"                  , \"Cytoplasm_Texture_Contrast_RNA_10_01_256\"                  , \"Cytoplasm_Texture_Contrast_RNA_10_03_256\"                   ,\n",
    " \"Cytoplasm_Texture_Contrast_RNA_3_00_256\"                   , \"Cytoplasm_Texture_Contrast_RNA_3_01_256\"                   , \"Cytoplasm_Texture_Contrast_RNA_3_02_256\"                   , \"Cytoplasm_Texture_Contrast_RNA_3_03_256\"                    ,\n",
    " \"Cytoplasm_Texture_Contrast_RNA_5_00_256\"                   , \"Cytoplasm_Texture_Contrast_RNA_5_01_256\"                   , \"Cytoplasm_Texture_Contrast_RNA_5_02_256\"                   , \"Cytoplasm_Texture_Contrast_RNA_5_03_256\"                    ,\n",
    " \"Cytoplasm_Texture_Correlation_ER_3_01_256\"                 , \"Cytoplasm_Texture_Correlation_ER_3_03_256\"                 , \"Cytoplasm_Texture_Correlation_ER_5_00_256\"                 , \"Cytoplasm_Texture_Correlation_ER_5_01_256\"                  ,\n",
    " \"Cytoplasm_Texture_Correlation_ER_5_02_256\"                 , \"Cytoplasm_Texture_Correlation_ER_5_03_256\"                 , \"Cytoplasm_Texture_Correlation_Mito_5_00_256\"               , \"Cytoplasm_Texture_Correlation_Mito_5_02_256\"                ,\n",
    " \"Cytoplasm_Texture_Correlation_RNA_3_01_256\"                , \"Cytoplasm_Texture_Correlation_RNA_3_03_256\"                , \"Cytoplasm_Texture_Correlation_RNA_5_00_256\"                , \"Cytoplasm_Texture_Correlation_RNA_5_01_256\"                 ,\n",
    " \"Cytoplasm_Texture_Correlation_RNA_5_02_256\"                , \"Cytoplasm_Texture_Correlation_RNA_5_03_256\"                , \"Cytoplasm_Texture_DifferenceEntropy_AGP_10_00_256\"         , \"Cytoplasm_Texture_DifferenceEntropy_AGP_10_01_256\"          ,\n",
    " \"Cytoplasm_Texture_DifferenceEntropy_AGP_10_02_256\"         , \"Cytoplasm_Texture_DifferenceEntropy_AGP_10_03_256\"         , \"Cytoplasm_Texture_DifferenceEntropy_AGP_3_00_256\"          , \"Cytoplasm_Texture_DifferenceEntropy_AGP_3_01_256\"           ,\n",
    " \"Cytoplasm_Texture_DifferenceEntropy_AGP_3_02_256\"          , \"Cytoplasm_Texture_DifferenceEntropy_AGP_3_03_256\"          , \"Cytoplasm_Texture_DifferenceEntropy_AGP_5_00_256\"          , \"Cytoplasm_Texture_DifferenceEntropy_AGP_5_01_256\"           ,\n",
    " \"Cytoplasm_Texture_DifferenceEntropy_AGP_5_02_256\"          , \"Cytoplasm_Texture_DifferenceEntropy_AGP_5_03_256\"          , \"Cytoplasm_Texture_DifferenceEntropy_DNA_10_00_256\"         , \"Cytoplasm_Texture_DifferenceEntropy_DNA_10_01_256\"          ,\n",
    " \"Cytoplasm_Texture_DifferenceEntropy_DNA_10_02_256\"         , \"Cytoplasm_Texture_DifferenceEntropy_DNA_10_03_256\"         , \"Cytoplasm_Texture_DifferenceEntropy_DNA_3_00_256\"          , \"Cytoplasm_Texture_DifferenceEntropy_DNA_3_01_256\"           ,\n",
    " \"Cytoplasm_Texture_DifferenceEntropy_DNA_3_02_256\"          , \"Cytoplasm_Texture_DifferenceEntropy_DNA_3_03_256\"          , \"Cytoplasm_Texture_DifferenceEntropy_DNA_5_00_256\"          , \"Cytoplasm_Texture_DifferenceEntropy_DNA_5_01_256\"           ,\n",
    " \"Cytoplasm_Texture_DifferenceEntropy_DNA_5_02_256\"          , \"Cytoplasm_Texture_DifferenceEntropy_DNA_5_03_256\"          , \"Cytoplasm_Texture_DifferenceEntropy_ER_10_00_256\"          , \"Cytoplasm_Texture_DifferenceEntropy_ER_10_02_256\"           ,\n",
    " \"Cytoplasm_Texture_DifferenceEntropy_ER_10_03_256\"          , \"Cytoplasm_Texture_DifferenceEntropy_ER_3_00_256\"           , \"Cytoplasm_Texture_DifferenceEntropy_ER_3_01_256\"           , \"Cytoplasm_Texture_DifferenceEntropy_ER_3_02_256\"            ,\n",
    " \"Cytoplasm_Texture_DifferenceEntropy_ER_3_03_256\"           , \"Cytoplasm_Texture_DifferenceEntropy_ER_5_00_256\"           , \"Cytoplasm_Texture_DifferenceEntropy_ER_5_01_256\"           , \"Cytoplasm_Texture_DifferenceEntropy_ER_5_02_256\"            ,\n",
    " \"Cytoplasm_Texture_DifferenceEntropy_ER_5_03_256\"           , \"Cytoplasm_Texture_DifferenceEntropy_Mito_10_00_256\"        , \"Cytoplasm_Texture_DifferenceEntropy_Mito_10_01_256\"        , \"Cytoplasm_Texture_DifferenceEntropy_Mito_10_02_256\"         ,\n",
    " \"Cytoplasm_Texture_DifferenceEntropy_Mito_10_03_256\"        , \"Cytoplasm_Texture_DifferenceEntropy_Mito_3_00_256\"         , \"Cytoplasm_Texture_DifferenceEntropy_Mito_3_01_256\"         , \"Cytoplasm_Texture_DifferenceEntropy_Mito_3_02_256\"          ,\n",
    " \"Cytoplasm_Texture_DifferenceEntropy_Mito_3_03_256\"         , \"Cytoplasm_Texture_DifferenceEntropy_Mito_5_00_256\"         , \"Cytoplasm_Texture_DifferenceEntropy_Mito_5_01_256\"         , \"Cytoplasm_Texture_DifferenceEntropy_Mito_5_02_256\"          ,\n",
    " \"Cytoplasm_Texture_DifferenceEntropy_Mito_5_03_256\"         , \"Cytoplasm_Texture_DifferenceEntropy_RNA_10_00_256\"         , \"Cytoplasm_Texture_DifferenceEntropy_RNA_10_01_256\"         , \"Cytoplasm_Texture_DifferenceEntropy_RNA_10_02_256\"          ,\n",
    " \"Cytoplasm_Texture_DifferenceEntropy_RNA_10_03_256\"         , \"Cytoplasm_Texture_DifferenceEntropy_RNA_3_00_256\"          , \"Cytoplasm_Texture_DifferenceEntropy_RNA_3_01_256\"          , \"Cytoplasm_Texture_DifferenceEntropy_RNA_3_02_256\"           ,\n",
    " \"Cytoplasm_Texture_DifferenceEntropy_RNA_3_03_256\"          , \"Cytoplasm_Texture_DifferenceEntropy_RNA_5_00_256\"          , \"Cytoplasm_Texture_DifferenceEntropy_RNA_5_01_256\"          , \"Cytoplasm_Texture_DifferenceEntropy_RNA_5_02_256\"           ,\n",
    " \"Cytoplasm_Texture_DifferenceEntropy_RNA_5_03_256\"          , \"Cytoplasm_Texture_DifferenceVariance_AGP_10_00_256\"        , \"Cytoplasm_Texture_DifferenceVariance_AGP_10_01_256\"        , \"Cytoplasm_Texture_DifferenceVariance_AGP_10_02_256\"         ,\n",
    " \"Cytoplasm_Texture_DifferenceVariance_AGP_10_03_256\"        , \"Cytoplasm_Texture_DifferenceVariance_AGP_3_01_256\"         , \"Cytoplasm_Texture_DifferenceVariance_AGP_3_02_256\"         , \"Cytoplasm_Texture_DifferenceVariance_AGP_3_03_256\"          ,\n",
    " \"Cytoplasm_Texture_DifferenceVariance_AGP_5_00_256\"         , \"Cytoplasm_Texture_DifferenceVariance_AGP_5_01_256\"         , \"Cytoplasm_Texture_DifferenceVariance_AGP_5_02_256\"         , \"Cytoplasm_Texture_DifferenceVariance_AGP_5_03_256\"          ,\n",
    " \"Cytoplasm_Texture_DifferenceVariance_DNA_10_00_256\"        , \"Cytoplasm_Texture_DifferenceVariance_DNA_10_01_256\"        , \"Cytoplasm_Texture_DifferenceVariance_DNA_10_02_256\"        , \"Cytoplasm_Texture_DifferenceVariance_DNA_3_00_256\"          ,\n",
    " \"Cytoplasm_Texture_DifferenceVariance_DNA_3_01_256\"         , \"Cytoplasm_Texture_DifferenceVariance_DNA_3_02_256\"         , \"Cytoplasm_Texture_DifferenceVariance_DNA_3_03_256\"         , \"Cytoplasm_Texture_DifferenceVariance_DNA_5_00_256\"          ,\n",
    " \"Cytoplasm_Texture_DifferenceVariance_DNA_5_01_256\"         , \"Cytoplasm_Texture_DifferenceVariance_DNA_5_02_256\"         , \"Cytoplasm_Texture_DifferenceVariance_DNA_5_03_256\"         , \"Cytoplasm_Texture_DifferenceVariance_ER_10_00_256\"          ,\n",
    " \"Cytoplasm_Texture_DifferenceVariance_ER_10_02_256\"         , \"Cytoplasm_Texture_DifferenceVariance_ER_10_03_256\"         , \"Cytoplasm_Texture_DifferenceVariance_ER_3_00_256\"          , \"Cytoplasm_Texture_DifferenceVariance_ER_3_01_256\"           ,\n",
    " \"Cytoplasm_Texture_DifferenceVariance_ER_3_02_256\"          , \"Cytoplasm_Texture_DifferenceVariance_ER_3_03_256\"          , \"Cytoplasm_Texture_DifferenceVariance_ER_5_00_256\"          , \"Cytoplasm_Texture_DifferenceVariance_ER_5_01_256\"           ,\n",
    " \"Cytoplasm_Texture_DifferenceVariance_ER_5_02_256\"          , \"Cytoplasm_Texture_DifferenceVariance_ER_5_03_256\"          , \"Cytoplasm_Texture_DifferenceVariance_Mito_10_00_256\"       , \"Cytoplasm_Texture_DifferenceVariance_Mito_10_02_256\"        ,\n",
    " \"Cytoplasm_Texture_DifferenceVariance_Mito_10_03_256\"       , \"Cytoplasm_Texture_DifferenceVariance_Mito_3_00_256\"        , \"Cytoplasm_Texture_DifferenceVariance_Mito_3_01_256\"        , \"Cytoplasm_Texture_DifferenceVariance_Mito_3_02_256\"         ,\n",
    " \"Cytoplasm_Texture_DifferenceVariance_Mito_3_03_256\"        , \"Cytoplasm_Texture_DifferenceVariance_Mito_5_00_256\"        , \"Cytoplasm_Texture_DifferenceVariance_Mito_5_01_256\"        , \"Cytoplasm_Texture_DifferenceVariance_Mito_5_02_256\"         ,\n",
    " \"Cytoplasm_Texture_DifferenceVariance_Mito_5_03_256\"        , \"Cytoplasm_Texture_DifferenceVariance_RNA_10_00_256\"        , \"Cytoplasm_Texture_DifferenceVariance_RNA_10_01_256\"        , \"Cytoplasm_Texture_DifferenceVariance_RNA_10_02_256\"         ,\n",
    " \"Cytoplasm_Texture_DifferenceVariance_RNA_3_00_256\"         , \"Cytoplasm_Texture_DifferenceVariance_RNA_3_01_256\"         , \"Cytoplasm_Texture_DifferenceVariance_RNA_3_02_256\"         , \"Cytoplasm_Texture_DifferenceVariance_RNA_3_03_256\"          ,\n",
    " \"Cytoplasm_Texture_DifferenceVariance_RNA_5_00_256\"         , \"Cytoplasm_Texture_DifferenceVariance_RNA_5_01_256\"         , \"Cytoplasm_Texture_DifferenceVariance_RNA_5_02_256\"         , \"Cytoplasm_Texture_DifferenceVariance_RNA_5_03_256\"          ,\n",
    " \"Cytoplasm_Texture_Entropy_AGP_10_00_256\"                   , \"Cytoplasm_Texture_Entropy_AGP_10_01_256\"                   , \"Cytoplasm_Texture_Entropy_AGP_10_02_256\"                   , \"Cytoplasm_Texture_Entropy_AGP_3_00_256\"                     ,\n",
    " \"Cytoplasm_Texture_Entropy_AGP_3_01_256\"                    , \"Cytoplasm_Texture_Entropy_AGP_3_02_256\"                    , \"Cytoplasm_Texture_Entropy_AGP_3_03_256\"                    , \"Cytoplasm_Texture_Entropy_AGP_5_00_256\"                     ,\n",
    " \"Cytoplasm_Texture_Entropy_AGP_5_01_256\"                    , \"Cytoplasm_Texture_Entropy_AGP_5_02_256\"                    , \"Cytoplasm_Texture_Entropy_AGP_5_03_256\"                    , \"Cytoplasm_Texture_Entropy_DNA_10_00_256\"                    ,\n",
    " \"Cytoplasm_Texture_Entropy_DNA_10_01_256\"                   , \"Cytoplasm_Texture_Entropy_DNA_10_02_256\"                   , \"Cytoplasm_Texture_Entropy_DNA_10_03_256\"                   , \"Cytoplasm_Texture_Entropy_DNA_3_00_256\"                     ,\n",
    " \"Cytoplasm_Texture_Entropy_DNA_3_01_256\"                    , \"Cytoplasm_Texture_Entropy_DNA_3_03_256\"                    , \"Cytoplasm_Texture_Entropy_DNA_5_00_256\"                    , \"Cytoplasm_Texture_Entropy_DNA_5_01_256\"                     ,\n",
    " \"Cytoplasm_Texture_Entropy_DNA_5_02_256\"                    , \"Cytoplasm_Texture_Entropy_DNA_5_03_256\"                    , \"Cytoplasm_Texture_Entropy_ER_10_00_256\"                    , \"Cytoplasm_Texture_Entropy_ER_10_02_256\"                     ,\n",
    " \"Cytoplasm_Texture_Entropy_ER_10_03_256\"                    , \"Cytoplasm_Texture_Entropy_ER_3_00_256\"                     , \"Cytoplasm_Texture_Entropy_ER_3_01_256\"                     , \"Cytoplasm_Texture_Entropy_ER_3_02_256\"                      ,\n",
    " \"Cytoplasm_Texture_Entropy_ER_3_03_256\"                     , \"Cytoplasm_Texture_Entropy_ER_5_00_256\"                     , \"Cytoplasm_Texture_Entropy_ER_5_01_256\"                     , \"Cytoplasm_Texture_Entropy_ER_5_02_256\"                      ,\n",
    " \"Cytoplasm_Texture_Entropy_ER_5_03_256\"                     , \"Cytoplasm_Texture_Entropy_Mito_10_00_256\"                  , \"Cytoplasm_Texture_Entropy_Mito_10_02_256\"                  , \"Cytoplasm_Texture_Entropy_Mito_10_03_256\"                   ,\n",
    " \"Cytoplasm_Texture_Entropy_Mito_3_00_256\"                   , \"Cytoplasm_Texture_Entropy_Mito_3_01_256\"                   , \"Cytoplasm_Texture_Entropy_Mito_3_02_256\"                   , \"Cytoplasm_Texture_Entropy_Mito_3_03_256\"                    ,\n",
    " \"Cytoplasm_Texture_Entropy_Mito_5_00_256\"                   , \"Cytoplasm_Texture_Entropy_Mito_5_01_256\"                   , \"Cytoplasm_Texture_Entropy_Mito_5_02_256\"                   , \"Cytoplasm_Texture_Entropy_Mito_5_03_256\"                    ,\n",
    " \"Cytoplasm_Texture_Entropy_RNA_10_00_256\"                   , \"Cytoplasm_Texture_Entropy_RNA_10_01_256\"                   , \"Cytoplasm_Texture_Entropy_RNA_10_02_256\"                   , \"Cytoplasm_Texture_Entropy_RNA_3_00_256\"                     ,\n",
    " \"Cytoplasm_Texture_Entropy_RNA_3_01_256\"                    , \"Cytoplasm_Texture_Entropy_RNA_3_02_256\"                    , \"Cytoplasm_Texture_Entropy_RNA_3_03_256\"                    , \"Cytoplasm_Texture_Entropy_RNA_5_00_256\"                     ,\n",
    " \"Cytoplasm_Texture_Entropy_RNA_5_01_256\"                    , \"Cytoplasm_Texture_Entropy_RNA_5_02_256\"                    , \"Cytoplasm_Texture_Entropy_RNA_5_03_256\"                    , \"Cytoplasm_Texture_InfoMeas1_AGP_10_01_256\"                  ,\n",
    " \"Cytoplasm_Texture_InfoMeas1_ER_10_01_256\"                  , \"Cytoplasm_Texture_InfoMeas1_ER_3_01_256\"                   , \"Cytoplasm_Texture_InfoMeas1_ER_3_03_256\"                   , \"Cytoplasm_Texture_InfoMeas1_Mito_10_03_256\"                 ,\n",
    " \"Cytoplasm_Texture_InfoMeas1_Mito_5_02_256\"                 , \"Cytoplasm_Texture_InfoMeas1_RNA_10_01_256\"                 , \"Cytoplasm_Texture_InfoMeas1_RNA_3_00_256\"                  , \"Cytoplasm_Texture_InfoMeas1_RNA_3_01_256\"                   ,\n",
    " \"Cytoplasm_Texture_InfoMeas1_RNA_3_02_256\"                  , \"Cytoplasm_Texture_InfoMeas1_RNA_3_03_256\"                  , \"Cytoplasm_Texture_InfoMeas2_AGP_10_00_256\"                 , \"Cytoplasm_Texture_InfoMeas2_AGP_10_01_256\"                  ,\n",
    " \"Cytoplasm_Texture_InfoMeas2_AGP_10_03_256\"                 , \"Cytoplasm_Texture_InfoMeas2_AGP_5_00_256\"                  , \"Cytoplasm_Texture_InfoMeas2_AGP_5_01_256\"                  , \"Cytoplasm_Texture_InfoMeas2_AGP_5_02_256\"                   ,\n",
    " \"Cytoplasm_Texture_InfoMeas2_AGP_5_03_256\"                  , \"Cytoplasm_Texture_InfoMeas2_DNA_10_00_256\"                 , \"Cytoplasm_Texture_InfoMeas2_DNA_3_00_256\"                  , \"Cytoplasm_Texture_InfoMeas2_DNA_3_01_256\"                   ,\n",
    " \"Cytoplasm_Texture_InfoMeas2_DNA_3_03_256\"                  , \"Cytoplasm_Texture_InfoMeas2_DNA_5_00_256\"                  , \"Cytoplasm_Texture_InfoMeas2_DNA_5_01_256\"                  , \"Cytoplasm_Texture_InfoMeas2_DNA_5_02_256\"                   ,\n",
    " \"Cytoplasm_Texture_InfoMeas2_DNA_5_03_256\"                  , \"Cytoplasm_Texture_InfoMeas2_ER_10_00_256\"                  , \"Cytoplasm_Texture_InfoMeas2_ER_10_01_256\"                  , \"Cytoplasm_Texture_InfoMeas2_ER_3_01_256\"                    ,\n",
    " \"Cytoplasm_Texture_InfoMeas2_ER_3_03_256\"                   , \"Cytoplasm_Texture_InfoMeas2_ER_5_00_256\"                   , \"Cytoplasm_Texture_InfoMeas2_ER_5_02_256\"                   , \"Cytoplasm_Texture_InfoMeas2_Mito_10_00_256\"                 ,\n",
    " \"Cytoplasm_Texture_InfoMeas2_Mito_10_01_256\"                , \"Cytoplasm_Texture_InfoMeas2_Mito_10_02_256\"                , \"Cytoplasm_Texture_InfoMeas2_Mito_10_03_256\"                , \"Cytoplasm_Texture_InfoMeas2_Mito_3_00_256\"                  ,\n",
    " \"Cytoplasm_Texture_InfoMeas2_Mito_3_01_256\"                 , \"Cytoplasm_Texture_InfoMeas2_Mito_3_03_256\"                 , \"Cytoplasm_Texture_InfoMeas2_Mito_5_00_256\"                 , \"Cytoplasm_Texture_InfoMeas2_Mito_5_01_256\"                  ,\n",
    " \"Cytoplasm_Texture_InfoMeas2_Mito_5_02_256\"                 , \"Cytoplasm_Texture_InfoMeas2_Mito_5_03_256\"                 , \"Cytoplasm_Texture_InfoMeas2_RNA_10_00_256\"                 , \"Cytoplasm_Texture_InfoMeas2_RNA_10_01_256\"                  ,\n",
    " \"Cytoplasm_Texture_InfoMeas2_RNA_3_01_256\"                  , \"Cytoplasm_Texture_InfoMeas2_RNA_3_02_256\"                  , \"Cytoplasm_Texture_InfoMeas2_RNA_3_03_256\"                  , \"Cytoplasm_Texture_InfoMeas2_RNA_5_00_256\"                   ,\n",
    " \"Cytoplasm_Texture_InfoMeas2_RNA_5_02_256\"                  , \"Cytoplasm_Texture_InfoMeas2_RNA_5_03_256\"                  , \"Cytoplasm_Texture_InverseDifferenceMoment_AGP_10_00_256\"   , \"Cytoplasm_Texture_InverseDifferenceMoment_AGP_10_01_256\"    ,\n",
    " \"Cytoplasm_Texture_InverseDifferenceMoment_AGP_10_02_256\"   , \"Cytoplasm_Texture_InverseDifferenceMoment_AGP_10_03_256\"   , \"Cytoplasm_Texture_InverseDifferenceMoment_AGP_3_01_256\"    , \"Cytoplasm_Texture_InverseDifferenceMoment_AGP_3_02_256\"     ,\n",
    " \"Cytoplasm_Texture_InverseDifferenceMoment_AGP_3_03_256\"    , \"Cytoplasm_Texture_InverseDifferenceMoment_AGP_5_00_256\"    , \"Cytoplasm_Texture_InverseDifferenceMoment_AGP_5_01_256\"    , \"Cytoplasm_Texture_InverseDifferenceMoment_AGP_5_02_256\"     ,\n",
    " \"Cytoplasm_Texture_InverseDifferenceMoment_AGP_5_03_256\"    , \"Cytoplasm_Texture_InverseDifferenceMoment_DNA_10_00_256\"   , \"Cytoplasm_Texture_InverseDifferenceMoment_DNA_10_01_256\"   , \"Cytoplasm_Texture_InverseDifferenceMoment_DNA_10_02_256\"    ,\n",
    " \"Cytoplasm_Texture_InverseDifferenceMoment_DNA_10_03_256\"   , \"Cytoplasm_Texture_InverseDifferenceMoment_DNA_3_00_256\"    , \"Cytoplasm_Texture_InverseDifferenceMoment_DNA_3_01_256\"    , \"Cytoplasm_Texture_InverseDifferenceMoment_DNA_3_03_256\"     ,\n",
    " \"Cytoplasm_Texture_InverseDifferenceMoment_DNA_5_00_256\"    , \"Cytoplasm_Texture_InverseDifferenceMoment_DNA_5_01_256\"    , \"Cytoplasm_Texture_InverseDifferenceMoment_DNA_5_02_256\"    , \"Cytoplasm_Texture_InverseDifferenceMoment_DNA_5_03_256\"     ,\n",
    " \"Cytoplasm_Texture_InverseDifferenceMoment_ER_10_00_256\"    , \"Cytoplasm_Texture_InverseDifferenceMoment_ER_10_02_256\"    , \"Cytoplasm_Texture_InverseDifferenceMoment_ER_10_03_256\"    , \"Cytoplasm_Texture_InverseDifferenceMoment_ER_3_00_256\"      ,\n",
    " \"Cytoplasm_Texture_InverseDifferenceMoment_ER_3_01_256\"     , \"Cytoplasm_Texture_InverseDifferenceMoment_ER_3_02_256\"     , \"Cytoplasm_Texture_InverseDifferenceMoment_ER_3_03_256\"     , \"Cytoplasm_Texture_InverseDifferenceMoment_ER_5_00_256\"      ,\n",
    " \"Cytoplasm_Texture_InverseDifferenceMoment_ER_5_01_256\"     , \"Cytoplasm_Texture_InverseDifferenceMoment_ER_5_02_256\"     , \"Cytoplasm_Texture_InverseDifferenceMoment_ER_5_03_256\"     , \"Cytoplasm_Texture_InverseDifferenceMoment_Mito_10_00_256\"   ,\n",
    " \"Cytoplasm_Texture_InverseDifferenceMoment_Mito_10_02_256\"  , \"Cytoplasm_Texture_InverseDifferenceMoment_Mito_10_03_256\"  , \"Cytoplasm_Texture_InverseDifferenceMoment_Mito_3_00_256\"   , \"Cytoplasm_Texture_InverseDifferenceMoment_Mito_3_01_256\"    ,\n",
    " \"Cytoplasm_Texture_InverseDifferenceMoment_Mito_3_02_256\"   , \"Cytoplasm_Texture_InverseDifferenceMoment_Mito_3_03_256\"   , \"Cytoplasm_Texture_InverseDifferenceMoment_Mito_5_00_256\"   , \"Cytoplasm_Texture_InverseDifferenceMoment_Mito_5_01_256\"    ,\n",
    " \"Cytoplasm_Texture_InverseDifferenceMoment_Mito_5_02_256\"   , \"Cytoplasm_Texture_InverseDifferenceMoment_Mito_5_03_256\"   , \"Cytoplasm_Texture_InverseDifferenceMoment_RNA_10_00_256\"   , \"Cytoplasm_Texture_InverseDifferenceMoment_RNA_10_02_256\"    ,\n",
    " \"Cytoplasm_Texture_InverseDifferenceMoment_RNA_10_03_256\"   , \"Cytoplasm_Texture_InverseDifferenceMoment_RNA_3_00_256\"    , \"Cytoplasm_Texture_InverseDifferenceMoment_RNA_3_01_256\"    , \"Cytoplasm_Texture_InverseDifferenceMoment_RNA_3_02_256\"     ,\n",
    " \"Cytoplasm_Texture_InverseDifferenceMoment_RNA_3_03_256\"    , \"Cytoplasm_Texture_InverseDifferenceMoment_RNA_5_00_256\"    , \"Cytoplasm_Texture_InverseDifferenceMoment_RNA_5_01_256\"    , \"Cytoplasm_Texture_InverseDifferenceMoment_RNA_5_02_256\"     ,\n",
    " \"Cytoplasm_Texture_InverseDifferenceMoment_RNA_5_03_256\"    , \"Cytoplasm_Texture_SumAverage_AGP_10_00_256\"                , \"Cytoplasm_Texture_SumAverage_AGP_10_01_256\"                , \"Cytoplasm_Texture_SumAverage_AGP_10_02_256\"                 ,\n",
    " \"Cytoplasm_Texture_SumAverage_AGP_10_03_256\"                , \"Cytoplasm_Texture_SumAverage_AGP_3_01_256\"                 , \"Cytoplasm_Texture_SumAverage_AGP_3_02_256\"                 , \"Cytoplasm_Texture_SumAverage_AGP_3_03_256\"                  ,\n",
    " \"Cytoplasm_Texture_SumAverage_AGP_5_00_256\"                 , \"Cytoplasm_Texture_SumAverage_AGP_5_01_256\"                 , \"Cytoplasm_Texture_SumAverage_AGP_5_02_256\"                 , \"Cytoplasm_Texture_SumAverage_AGP_5_03_256\"                  ,\n",
    " \"Cytoplasm_Texture_SumAverage_DNA_10_00_256\"                , \"Cytoplasm_Texture_SumAverage_DNA_10_01_256\"                , \"Cytoplasm_Texture_SumAverage_DNA_10_02_256\"                , \"Cytoplasm_Texture_SumAverage_DNA_10_03_256\"                 ,\n",
    " \"Cytoplasm_Texture_SumAverage_DNA_3_00_256\"                 , \"Cytoplasm_Texture_SumAverage_DNA_3_01_256\"                 , \"Cytoplasm_Texture_SumAverage_DNA_3_03_256\"                 , \"Cytoplasm_Texture_SumAverage_DNA_5_00_256\"                  ,\n",
    " \"Cytoplasm_Texture_SumAverage_DNA_5_01_256\"                 , \"Cytoplasm_Texture_SumAverage_DNA_5_02_256\"                 , \"Cytoplasm_Texture_SumAverage_DNA_5_03_256\"                 , \"Cytoplasm_Texture_SumAverage_ER_10_00_256\"                  ,\n",
    " \"Cytoplasm_Texture_SumAverage_ER_10_01_256\"                 , \"Cytoplasm_Texture_SumAverage_ER_10_02_256\"                 , \"Cytoplasm_Texture_SumAverage_ER_10_03_256\"                 , \"Cytoplasm_Texture_SumAverage_ER_3_01_256\"                   ,\n",
    " \"Cytoplasm_Texture_SumAverage_ER_3_02_256\"                  , \"Cytoplasm_Texture_SumAverage_ER_3_03_256\"                  , \"Cytoplasm_Texture_SumAverage_ER_5_00_256\"                  , \"Cytoplasm_Texture_SumAverage_ER_5_01_256\"                   ,\n",
    " \"Cytoplasm_Texture_SumAverage_ER_5_02_256\"                  , \"Cytoplasm_Texture_SumAverage_ER_5_03_256\"                  , \"Cytoplasm_Texture_SumAverage_Mito_10_00_256\"               , \"Cytoplasm_Texture_SumAverage_Mito_10_01_256\"                ,\n",
    " \"Cytoplasm_Texture_SumAverage_Mito_10_02_256\"               , \"Cytoplasm_Texture_SumAverage_Mito_10_03_256\"               , \"Cytoplasm_Texture_SumAverage_Mito_3_01_256\"                , \"Cytoplasm_Texture_SumAverage_Mito_3_02_256\"                 ,\n",
    " \"Cytoplasm_Texture_SumAverage_Mito_3_03_256\"                , \"Cytoplasm_Texture_SumAverage_Mito_5_00_256\"                , \"Cytoplasm_Texture_SumAverage_Mito_5_01_256\"                , \"Cytoplasm_Texture_SumAverage_Mito_5_02_256\"                 ,\n",
    " \"Cytoplasm_Texture_SumAverage_Mito_5_03_256\"                , \"Cytoplasm_Texture_SumAverage_RNA_10_00_256\"                , \"Cytoplasm_Texture_SumAverage_RNA_10_01_256\"                , \"Cytoplasm_Texture_SumAverage_RNA_10_02_256\"                 ,\n",
    " \"Cytoplasm_Texture_SumAverage_RNA_10_03_256\"                , \"Cytoplasm_Texture_SumAverage_RNA_3_01_256\"                 , \"Cytoplasm_Texture_SumAverage_RNA_3_02_256\"                 , \"Cytoplasm_Texture_SumAverage_RNA_3_03_256\"                  ,\n",
    " \"Cytoplasm_Texture_SumAverage_RNA_5_00_256\"                 , \"Cytoplasm_Texture_SumAverage_RNA_5_01_256\"                 , \"Cytoplasm_Texture_SumAverage_RNA_5_02_256\"                 , \"Cytoplasm_Texture_SumAverage_RNA_5_03_256\"                  ,\n",
    " \"Cytoplasm_Texture_SumEntropy_AGP_10_00_256\"                , \"Cytoplasm_Texture_SumEntropy_AGP_10_01_256\"                , \"Cytoplasm_Texture_SumEntropy_AGP_10_02_256\"                , \"Cytoplasm_Texture_SumEntropy_AGP_10_03_256\"                 ,\n",
    " \"Cytoplasm_Texture_SumEntropy_AGP_3_00_256\"                 , \"Cytoplasm_Texture_SumEntropy_AGP_3_01_256\"                 , \"Cytoplasm_Texture_SumEntropy_AGP_3_02_256\"                 , \"Cytoplasm_Texture_SumEntropy_AGP_3_03_256\"                  ,\n",
    " \"Cytoplasm_Texture_SumEntropy_AGP_5_00_256\"                 , \"Cytoplasm_Texture_SumEntropy_AGP_5_01_256\"                 , \"Cytoplasm_Texture_SumEntropy_AGP_5_02_256\"                 , \"Cytoplasm_Texture_SumEntropy_AGP_5_03_256\"                  ,\n",
    " \"Cytoplasm_Texture_SumEntropy_DNA_10_00_256\"                , \"Cytoplasm_Texture_SumEntropy_DNA_10_01_256\"                , \"Cytoplasm_Texture_SumEntropy_DNA_10_02_256\"                , \"Cytoplasm_Texture_SumEntropy_DNA_3_00_256\"                  ,\n",
    " \"Cytoplasm_Texture_SumEntropy_DNA_3_01_256\"                 , \"Cytoplasm_Texture_SumEntropy_DNA_3_02_256\"                 , \"Cytoplasm_Texture_SumEntropy_DNA_3_03_256\"                 , \"Cytoplasm_Texture_SumEntropy_DNA_5_00_256\"                  ,\n",
    " \"Cytoplasm_Texture_SumEntropy_DNA_5_01_256\"                 , \"Cytoplasm_Texture_SumEntropy_DNA_5_02_256\"                 , \"Cytoplasm_Texture_SumEntropy_DNA_5_03_256\"                 , \"Cytoplasm_Texture_SumEntropy_ER_10_00_256\"                  ,\n",
    " \"Cytoplasm_Texture_SumEntropy_ER_10_01_256\"                 , \"Cytoplasm_Texture_SumEntropy_ER_10_02_256\"                 , \"Cytoplasm_Texture_SumEntropy_ER_10_03_256\"                 , \"Cytoplasm_Texture_SumEntropy_ER_3_00_256\"                   ,\n",
    " \"Cytoplasm_Texture_SumEntropy_ER_3_01_256\"                  , \"Cytoplasm_Texture_SumEntropy_ER_3_02_256\"                  , \"Cytoplasm_Texture_SumEntropy_ER_3_03_256\"                  , \"Cytoplasm_Texture_SumEntropy_ER_5_00_256\"                   ,\n",
    " \"Cytoplasm_Texture_SumEntropy_ER_5_01_256\"                  , \"Cytoplasm_Texture_SumEntropy_ER_5_02_256\"                  , \"Cytoplasm_Texture_SumEntropy_ER_5_03_256\"                  , \"Cytoplasm_Texture_SumEntropy_Mito_10_00_256\"                ,\n",
    " \"Cytoplasm_Texture_SumEntropy_Mito_10_01_256\"               , \"Cytoplasm_Texture_SumEntropy_Mito_10_02_256\"               , \"Cytoplasm_Texture_SumEntropy_Mito_10_03_256\"               , \"Cytoplasm_Texture_SumEntropy_Mito_3_00_256\"                 ,\n",
    " \"Cytoplasm_Texture_SumEntropy_Mito_3_01_256\"                , \"Cytoplasm_Texture_SumEntropy_Mito_3_02_256\"                , \"Cytoplasm_Texture_SumEntropy_Mito_3_03_256\"                , \"Cytoplasm_Texture_SumEntropy_Mito_5_00_256\"                 ,\n",
    " \"Cytoplasm_Texture_SumEntropy_Mito_5_01_256\"                , \"Cytoplasm_Texture_SumEntropy_Mito_5_02_256\"                , \"Cytoplasm_Texture_SumEntropy_Mito_5_03_256\"                , \"Cytoplasm_Texture_SumEntropy_RNA_10_00_256\"                 ,\n",
    " \"Cytoplasm_Texture_SumEntropy_RNA_10_01_256\"                , \"Cytoplasm_Texture_SumEntropy_RNA_10_02_256\"                , \"Cytoplasm_Texture_SumEntropy_RNA_10_03_256\"                , \"Cytoplasm_Texture_SumEntropy_RNA_3_00_256\"                  ,\n",
    " \"Cytoplasm_Texture_SumEntropy_RNA_3_01_256\"                 , \"Cytoplasm_Texture_SumEntropy_RNA_3_02_256\"                 , \"Cytoplasm_Texture_SumEntropy_RNA_3_03_256\"                 , \"Cytoplasm_Texture_SumEntropy_RNA_5_00_256\"                  ,\n",
    " \"Cytoplasm_Texture_SumEntropy_RNA_5_01_256\"                 , \"Cytoplasm_Texture_SumEntropy_RNA_5_02_256\"                 , \"Cytoplasm_Texture_SumEntropy_RNA_5_03_256\"                 , \"Cytoplasm_Texture_SumVariance_AGP_10_00_256\"                ,\n",
    " \"Cytoplasm_Texture_SumVariance_AGP_10_01_256\"               , \"Cytoplasm_Texture_SumVariance_AGP_10_02_256\"               , \"Cytoplasm_Texture_SumVariance_AGP_3_00_256\"                , \"Cytoplasm_Texture_SumVariance_AGP_3_01_256\"                 ,\n",
    " \"Cytoplasm_Texture_SumVariance_AGP_3_02_256\"                , \"Cytoplasm_Texture_SumVariance_AGP_3_03_256\"                , \"Cytoplasm_Texture_SumVariance_AGP_5_00_256\"                , \"Cytoplasm_Texture_SumVariance_AGP_5_01_256\"                 ,\n",
    " \"Cytoplasm_Texture_SumVariance_AGP_5_02_256\"                , \"Cytoplasm_Texture_SumVariance_AGP_5_03_256\"                , \"Cytoplasm_Texture_SumVariance_DNA_10_00_256\"               , \"Cytoplasm_Texture_SumVariance_DNA_10_02_256\"                ,\n",
    " \"Cytoplasm_Texture_SumVariance_DNA_3_00_256\"                , \"Cytoplasm_Texture_SumVariance_DNA_3_01_256\"                , \"Cytoplasm_Texture_SumVariance_DNA_3_03_256\"                , \"Cytoplasm_Texture_SumVariance_DNA_5_00_256\"                 ,\n",
    " \"Cytoplasm_Texture_SumVariance_DNA_5_01_256\"                , \"Cytoplasm_Texture_SumVariance_DNA_5_02_256\"                , \"Cytoplasm_Texture_SumVariance_DNA_5_03_256\"                , \"Cytoplasm_Texture_SumVariance_ER_10_00_256\"                 ,\n",
    " \"Cytoplasm_Texture_SumVariance_ER_10_02_256\"                , \"Cytoplasm_Texture_SumVariance_ER_10_03_256\"                , \"Cytoplasm_Texture_SumVariance_ER_3_00_256\"                 , \"Cytoplasm_Texture_SumVariance_ER_3_01_256\"                  ,\n",
    " \"Cytoplasm_Texture_SumVariance_ER_3_02_256\"                 , \"Cytoplasm_Texture_SumVariance_ER_3_03_256\"                 , \"Cytoplasm_Texture_SumVariance_ER_5_00_256\"                 , \"Cytoplasm_Texture_SumVariance_ER_5_01_256\"                  ,\n",
    " \"Cytoplasm_Texture_SumVariance_ER_5_02_256\"                 , \"Cytoplasm_Texture_SumVariance_ER_5_03_256\"                 , \"Cytoplasm_Texture_SumVariance_Mito_10_00_256\"              , \"Cytoplasm_Texture_SumVariance_Mito_10_02_256\"               ,\n",
    " \"Cytoplasm_Texture_SumVariance_Mito_10_03_256\"              , \"Cytoplasm_Texture_SumVariance_Mito_3_00_256\"               , \"Cytoplasm_Texture_SumVariance_Mito_3_01_256\"               , \"Cytoplasm_Texture_SumVariance_Mito_3_02_256\"                ,\n",
    " \"Cytoplasm_Texture_SumVariance_Mito_3_03_256\"               , \"Cytoplasm_Texture_SumVariance_Mito_5_00_256\"               , \"Cytoplasm_Texture_SumVariance_Mito_5_01_256\"               , \"Cytoplasm_Texture_SumVariance_Mito_5_02_256\"                ,\n",
    " \"Cytoplasm_Texture_SumVariance_Mito_5_03_256\"               , \"Cytoplasm_Texture_SumVariance_RNA_10_00_256\"               , \"Cytoplasm_Texture_SumVariance_RNA_10_01_256\"               , \"Cytoplasm_Texture_SumVariance_RNA_10_02_256\"                ,\n",
    " \"Cytoplasm_Texture_SumVariance_RNA_3_00_256\"                , \"Cytoplasm_Texture_SumVariance_RNA_3_01_256\"                , \"Cytoplasm_Texture_SumVariance_RNA_3_02_256\"                , \"Cytoplasm_Texture_SumVariance_RNA_3_03_256\"                 ,\n",
    " \"Cytoplasm_Texture_SumVariance_RNA_5_00_256\"                , \"Cytoplasm_Texture_SumVariance_RNA_5_01_256\"                , \"Cytoplasm_Texture_SumVariance_RNA_5_02_256\"                , \"Cytoplasm_Texture_SumVariance_RNA_5_03_256\"                 ,\n",
    " \"Cytoplasm_Texture_Variance_AGP_10_00_256\"                  , \"Cytoplasm_Texture_Variance_AGP_10_01_256\"                  , \"Cytoplasm_Texture_Variance_AGP_10_02_256\"                  , \"Cytoplasm_Texture_Variance_AGP_10_03_256\"                   ,\n",
    " \"Cytoplasm_Texture_Variance_AGP_3_00_256\"                   , \"Cytoplasm_Texture_Variance_AGP_3_01_256\"                   , \"Cytoplasm_Texture_Variance_AGP_3_02_256\"                   , \"Cytoplasm_Texture_Variance_AGP_3_03_256\"                    ,\n",
    " \"Cytoplasm_Texture_Variance_AGP_5_00_256\"                   , \"Cytoplasm_Texture_Variance_AGP_5_01_256\"                   , \"Cytoplasm_Texture_Variance_AGP_5_02_256\"                   , \"Cytoplasm_Texture_Variance_AGP_5_03_256\"                    ,\n",
    " \"Cytoplasm_Texture_Variance_DNA_10_00_256\"                  , \"Cytoplasm_Texture_Variance_DNA_10_01_256\"                  , \"Cytoplasm_Texture_Variance_DNA_10_02_256\"                  , \"Cytoplasm_Texture_Variance_DNA_10_03_256\"                   ,\n",
    " \"Cytoplasm_Texture_Variance_DNA_3_00_256\"                   , \"Cytoplasm_Texture_Variance_DNA_3_01_256\"                   , \"Cytoplasm_Texture_Variance_DNA_3_02_256\"                   , \"Cytoplasm_Texture_Variance_DNA_3_03_256\"                    ,\n",
    " \"Cytoplasm_Texture_Variance_DNA_5_00_256\"                   , \"Cytoplasm_Texture_Variance_DNA_5_01_256\"                   , \"Cytoplasm_Texture_Variance_DNA_5_02_256\"                   , \"Cytoplasm_Texture_Variance_DNA_5_03_256\"                    ,\n",
    " \"Cytoplasm_Texture_Variance_ER_10_00_256\"                   , \"Cytoplasm_Texture_Variance_ER_10_01_256\"                   , \"Cytoplasm_Texture_Variance_ER_10_02_256\"                   , \"Cytoplasm_Texture_Variance_ER_10_03_256\"                    ,\n",
    " \"Cytoplasm_Texture_Variance_ER_3_00_256\"                    , \"Cytoplasm_Texture_Variance_ER_3_01_256\"                    , \"Cytoplasm_Texture_Variance_ER_3_02_256\"                    , \"Cytoplasm_Texture_Variance_ER_3_03_256\"                     ,\n",
    " \"Cytoplasm_Texture_Variance_ER_5_00_256\"                    , \"Cytoplasm_Texture_Variance_ER_5_01_256\"                    , \"Cytoplasm_Texture_Variance_ER_5_02_256\"                    , \"Cytoplasm_Texture_Variance_ER_5_03_256\"                     ,\n",
    " \"Cytoplasm_Texture_Variance_Mito_10_00_256\"                 , \"Cytoplasm_Texture_Variance_Mito_10_01_256\"                 , \"Cytoplasm_Texture_Variance_Mito_10_02_256\"                 , \"Cytoplasm_Texture_Variance_Mito_10_03_256\"                  ,\n",
    " \"Cytoplasm_Texture_Variance_Mito_3_00_256\"                  , \"Cytoplasm_Texture_Variance_Mito_3_01_256\"                  , \"Cytoplasm_Texture_Variance_Mito_3_02_256\"                  , \"Cytoplasm_Texture_Variance_Mito_3_03_256\"                   ,\n",
    " \"Cytoplasm_Texture_Variance_Mito_5_00_256\"                  , \"Cytoplasm_Texture_Variance_Mito_5_01_256\"                  , \"Cytoplasm_Texture_Variance_Mito_5_02_256\"                  , \"Cytoplasm_Texture_Variance_Mito_5_03_256\"                   ,\n",
    " \"Cytoplasm_Texture_Variance_RNA_10_00_256\"                  , \"Cytoplasm_Texture_Variance_RNA_10_01_256\"                  , \"Cytoplasm_Texture_Variance_RNA_10_02_256\"                  , \"Cytoplasm_Texture_Variance_RNA_10_03_256\"                   ,\n",
    " \"Cytoplasm_Texture_Variance_RNA_3_00_256\"                   , \"Cytoplasm_Texture_Variance_RNA_3_01_256\"                   , \"Cytoplasm_Texture_Variance_RNA_3_02_256\"                   , \"Cytoplasm_Texture_Variance_RNA_3_03_256\"                    ,\n",
    " \"Cytoplasm_Texture_Variance_RNA_5_00_256\"                   , \"Cytoplasm_Texture_Variance_RNA_5_01_256\"                   , \"Cytoplasm_Texture_Variance_RNA_5_02_256\"                   , \"Cytoplasm_Texture_Variance_RNA_5_03_256\"                    \n",
    "}\n",
    "\n",
    "variance_dropped_cols_4 = set()"
   ]
  },
  {
   "cell_type": "code",
   "execution_count": 282,
   "id": "272c8322-9d24-45a1-a9b5-ce4bd7298ac6",
   "metadata": {
    "execution": {
     "iopub.execute_input": "2024-05-12T11:29:58.560721Z",
     "iopub.status.busy": "2024-05-12T11:29:58.560400Z",
     "iopub.status.idle": "2024-05-12T11:29:58.588458Z",
     "shell.execute_reply": "2024-05-12T11:29:58.587903Z",
     "shell.execute_reply.started": "2024-05-12T11:29:58.560700Z"
    }
   },
   "outputs": [
    {
     "data": {
      "text/plain": [
       "set()"
      ]
     },
     "execution_count": 282,
     "metadata": {},
     "output_type": "execute_result"
    },
    {
     "name": "stdout",
     "output_type": "stream",
     "text": [
      " Number of cols dropped - high correlation: 628\n",
      " Number of cols dropped - low variance    : 0\n",
      " Number of selected cols                  : 152\n",
      " Total                                    : 780\n"
     ]
    }
   ],
   "source": [
    "variance_dropped_cols_4 & correlation_dropped_cols_4\n",
    "print(f\" Number of cols dropped - high correlation: {len(correlation_dropped_cols_4)}\")\n",
    "print(f\" Number of cols dropped - low variance    : {len(variance_dropped_cols_4)}\")\n",
    "print(f\" Number of selected cols                  : {len(selected_cols_4)}\")\n",
    "print(f\" Total                                    : {len(selected_cols_4)+len(correlation_dropped_cols_4)+len(variance_dropped_cols_4)}\")"
   ]
  },
  {
   "cell_type": "code",
   "execution_count": 283,
   "id": "e5f53e38-96e9-443a-90db-919d0001dcc1",
   "metadata": {
    "execution": {
     "iopub.execute_input": "2024-05-12T11:30:14.670685Z",
     "iopub.status.busy": "2024-05-12T11:30:14.670091Z",
     "iopub.status.idle": "2024-05-12T11:30:14.703734Z",
     "shell.execute_reply": "2024-05-12T11:30:14.703231Z",
     "shell.execute_reply.started": "2024-05-12T11:30:14.670644Z"
    }
   },
   "outputs": [
    {
     "data": {
      "text/plain": [
       "set()"
      ]
     },
     "execution_count": 283,
     "metadata": {},
     "output_type": "execute_result"
    },
    {
     "data": {
      "text/plain": [
       "set()"
      ]
     },
     "execution_count": 283,
     "metadata": {},
     "output_type": "execute_result"
    },
    {
     "data": {
      "text/plain": [
       "set()"
      ]
     },
     "execution_count": 283,
     "metadata": {},
     "output_type": "execute_result"
    }
   ],
   "source": [
    "(correlation_dropped_cols_4) & set(zero_features)\n",
    "(variance_dropped_cols_4) & set(zero_features)\n",
    "(selected_cols_4) & set(zero_features)"
   ]
  },
  {
   "cell_type": "markdown",
   "id": "7cccfbcc-853f-4987-beaa-81a085be0408",
   "metadata": {},
   "source": [
    "### Group 5 - Nuclei"
   ]
  },
  {
   "cell_type": "code",
   "execution_count": 284,
   "id": "0570c555-95ec-496e-93b1-73ae44e77a2f",
   "metadata": {
    "execution": {
     "iopub.execute_input": "2024-05-12T11:30:21.258350Z",
     "iopub.status.busy": "2024-05-12T11:30:21.257740Z",
     "iopub.status.idle": "2024-05-12T11:30:21.302487Z",
     "shell.execute_reply": "2024-05-12T11:30:21.301735Z",
     "shell.execute_reply.started": "2024-05-12T11:30:21.258309Z"
    }
   },
   "outputs": [],
   "source": [
    "selected_cols_5 = \\\n",
    "{\"Nuclei_AreaShape_BoundingBoxArea\"                           , \"Nuclei_AreaShape_BoundingBoxMaximum_Y\"                      , \"Nuclei_AreaShape_Compactness\"                               , \"Nuclei_AreaShape_Eccentricity\"                              ,\n",
    " \"Nuclei_AreaShape_EulerNumber\"                               , \"Nuclei_AreaShape_Extent\"                                    , \"Nuclei_AreaShape_MinFeretDiameter\"                          , \"Nuclei_AreaShape_Orientation\"                               ,\n",
    " \"Nuclei_AreaShape_Solidity\"                                  , \"Nuclei_AreaShape_Zernike_0_0\"                               , \"Nuclei_AreaShape_Zernike_1_1\"                               , \"Nuclei_AreaShape_Zernike_2_0\"                               ,\n",
    " \"Nuclei_AreaShape_Zernike_2_2\"                               , \"Nuclei_AreaShape_Zernike_3_1\"                               , \"Nuclei_AreaShape_Zernike_3_3\"                               , \"Nuclei_AreaShape_Zernike_4_0\"                               ,\n",
    " \"Nuclei_AreaShape_Zernike_4_2\"                               , \"Nuclei_AreaShape_Zernike_4_4\"                               , \"Nuclei_AreaShape_Zernike_5_1\"                               , \"Nuclei_AreaShape_Zernike_5_3\"                               ,\n",
    " \"Nuclei_AreaShape_Zernike_5_5\"                               , \"Nuclei_AreaShape_Zernike_6_0\"                               , \"Nuclei_AreaShape_Zernike_6_2\"                               , \"Nuclei_AreaShape_Zernike_6_4\"                               ,\n",
    " \"Nuclei_AreaShape_Zernike_6_6\"                               , \"Nuclei_AreaShape_Zernike_7_1\"                               , \"Nuclei_AreaShape_Zernike_7_3\"                               , \"Nuclei_AreaShape_Zernike_7_5\"                               ,\n",
    " \"Nuclei_AreaShape_Zernike_7_7\"                               , \"Nuclei_AreaShape_Zernike_8_0\"                               , \"Nuclei_AreaShape_Zernike_8_2\"                               , \"Nuclei_AreaShape_Zernike_8_4\"                               ,\n",
    " \"Nuclei_AreaShape_Zernike_8_6\"                               , \"Nuclei_AreaShape_Zernike_8_8\"                               , \"Nuclei_AreaShape_Zernike_9_1\"                               , \"Nuclei_AreaShape_Zernike_9_3\"                               ,\n",
    " \"Nuclei_AreaShape_Zernike_9_5\"                               , \"Nuclei_AreaShape_Zernike_9_7\"                               , \"Nuclei_AreaShape_Zernike_9_9\"                               , \"Nuclei_Children_Cytoplasm_Count\"                            ,\n",
    " \"Nuclei_Correlation_Correlation_AGP_DNA\"                     , \"Nuclei_Correlation_Correlation_AGP_ER\"                      , \"Nuclei_Correlation_Correlation_AGP_Mito\"                    , \"Nuclei_Correlation_Correlation_AGP_RNA\"                     ,\n",
    " \"Nuclei_Correlation_Correlation_DNA_ER\"                      , \"Nuclei_Correlation_Correlation_DNA_Mito\"                    , \"Nuclei_Correlation_Correlation_DNA_RNA\"                     , \"Nuclei_Correlation_Correlation_ER_Mito\"                     ,\n",
    " \"Nuclei_Correlation_Correlation_ER_RNA\"                      , \"Nuclei_Correlation_Correlation_Mito_RNA\"                    , \"Nuclei_Correlation_K_AGP_DNA\"                               , \"Nuclei_Correlation_K_AGP_ER\"                                ,\n",
    " \"Nuclei_Correlation_K_AGP_Mito\"                              , \"Nuclei_Correlation_K_AGP_RNA\"                               , \"Nuclei_Correlation_K_DNA_AGP\"                               , \"Nuclei_Correlation_K_DNA_ER\"                                ,\n",
    " \"Nuclei_Correlation_K_DNA_Mito\"                              , \"Nuclei_Correlation_K_DNA_RNA\"                               , \"Nuclei_Correlation_K_ER_AGP\"                                , \"Nuclei_Correlation_K_ER_DNA\"                                ,\n",
    " \"Nuclei_Correlation_K_ER_Mito\"                               , \"Nuclei_Correlation_K_ER_RNA\"                                , \"Nuclei_Correlation_K_Mito_AGP\"                              , \"Nuclei_Correlation_K_Mito_DNA\"                              ,\n",
    " \"Nuclei_Correlation_K_Mito_ER\"                               , \"Nuclei_Correlation_K_Mito_RNA\"                              , \"Nuclei_Correlation_K_RNA_AGP\"                               , \"Nuclei_Correlation_K_RNA_DNA\"                               ,\n",
    " \"Nuclei_Correlation_K_RNA_ER\"                                , \"Nuclei_Correlation_K_RNA_Mito\"                              , \"Nuclei_Correlation_Manders_AGP_ER\"                          , \"Nuclei_Correlation_Manders_AGP_RNA\"                         ,\n",
    " \"Nuclei_Correlation_Manders_DNA_ER\"                          , \"Nuclei_Correlation_Manders_DNA_RNA\"                         , \"Nuclei_Correlation_Manders_ER_AGP\"                          , \"Nuclei_Correlation_Manders_ER_RNA\"                          ,\n",
    " \"Nuclei_Correlation_Manders_Mito_AGP\"                        , \"Nuclei_Correlation_Manders_Mito_DNA\"                        , \"Nuclei_Correlation_Manders_Mito_ER\"                         , \"Nuclei_Correlation_Manders_Mito_RNA\"                        ,\n",
    " \"Nuclei_Correlation_Manders_RNA_ER\"                          , \"Nuclei_Correlation_Manders_RNA_Mito\"                        , \"Nuclei_Correlation_Overlap_AGP_DNA\"                         , \"Nuclei_Correlation_Overlap_AGP_ER\"                          ,\n",
    " \"Nuclei_Correlation_Overlap_AGP_Mito\"                        , \"Nuclei_Correlation_Overlap_AGP_RNA\"                         , \"Nuclei_Correlation_Overlap_DNA_ER\"                          , \"Nuclei_Correlation_Overlap_DNA_Mito\"                        ,\n",
    " \"Nuclei_Correlation_Overlap_DNA_RNA\"                         , \"Nuclei_Correlation_Overlap_ER_Mito\"                         , \"Nuclei_Correlation_Overlap_ER_RNA\"                          , \"Nuclei_Correlation_Overlap_Mito_RNA\"                        ,\n",
    " \"Nuclei_Correlation_RWC_AGP_DNA\"                             , \"Nuclei_Correlation_RWC_AGP_ER\"                              , \"Nuclei_Correlation_RWC_AGP_Mito\"                            , \"Nuclei_Correlation_RWC_AGP_RNA\"                             ,\n",
    " \"Nuclei_Correlation_RWC_DNA_AGP\"                             , \"Nuclei_Correlation_RWC_DNA_ER\"                              , \"Nuclei_Correlation_RWC_DNA_Mito\"                            , \"Nuclei_Correlation_RWC_DNA_RNA\"                             ,\n",
    " \"Nuclei_Correlation_RWC_ER_AGP\"                              , \"Nuclei_Correlation_RWC_ER_DNA\"                              , \"Nuclei_Correlation_RWC_ER_Mito\"                             , \"Nuclei_Correlation_RWC_ER_RNA\"                              ,\n",
    " \"Nuclei_Correlation_RWC_Mito_AGP\"                            , \"Nuclei_Correlation_RWC_Mito_DNA\"                            , \"Nuclei_Correlation_RWC_Mito_ER\"                             , \"Nuclei_Correlation_RWC_Mito_RNA\"                            ,\n",
    " \"Nuclei_Correlation_RWC_RNA_AGP\"                             , \"Nuclei_Correlation_RWC_RNA_DNA\"                             , \"Nuclei_Correlation_RWC_RNA_Mito\"                            , \"Nuclei_Granularity_10_AGP\"                                  ,\n",
    " \"Nuclei_Granularity_10_DNA\"                                  , \"Nuclei_Granularity_10_ER\"                                   , \"Nuclei_Granularity_10_Mito\"                                 , \"Nuclei_Granularity_10_RNA\"                                  ,\n",
    " \"Nuclei_Granularity_11_AGP\"                                  , \"Nuclei_Granularity_11_DNA\"                                  , \"Nuclei_Granularity_11_ER\"                                   , \"Nuclei_Granularity_11_Mito\"                                 ,\n",
    " \"Nuclei_Granularity_11_RNA\"                                  , \"Nuclei_Granularity_12_AGP\"                                  , \"Nuclei_Granularity_12_DNA\"                                  , \"Nuclei_Granularity_12_ER\"                                   ,\n",
    " \"Nuclei_Granularity_12_Mito\"                                 , \"Nuclei_Granularity_12_RNA\"                                  , \"Nuclei_Granularity_13_AGP\"                                  , \"Nuclei_Granularity_13_DNA\"                                  ,\n",
    " \"Nuclei_Granularity_13_ER\"                                   , \"Nuclei_Granularity_13_Mito\"                                 , \"Nuclei_Granularity_13_RNA\"                                  , \"Nuclei_Granularity_14_AGP\"                                  ,\n",
    " \"Nuclei_Granularity_14_DNA\"                                  , \"Nuclei_Granularity_14_ER\"                                   , \"Nuclei_Granularity_14_Mito\"                                 , \"Nuclei_Granularity_14_RNA\"                                  ,\n",
    " \"Nuclei_Granularity_15_AGP\"                                  , \"Nuclei_Granularity_15_DNA\"                                  , \"Nuclei_Granularity_15_ER\"                                   , \"Nuclei_Granularity_15_Mito\"                                 ,\n",
    " \"Nuclei_Granularity_15_RNA\"                                  , \"Nuclei_Granularity_16_AGP\"                                  , \"Nuclei_Granularity_16_DNA\"                                  , \"Nuclei_Granularity_16_ER\"                                   ,\n",
    " \"Nuclei_Granularity_16_Mito\"                                 , \"Nuclei_Granularity_16_RNA\"                                  , \"Nuclei_Granularity_1_AGP\"                                   , \"Nuclei_Granularity_1_DNA\"                                   ,\n",
    " \"Nuclei_Granularity_1_ER\"                                    , \"Nuclei_Granularity_1_Mito\"                                  , \"Nuclei_Granularity_2_AGP\"                                   , \"Nuclei_Granularity_2_DNA\"                                   ,\n",
    " \"Nuclei_Granularity_2_ER\"                                    , \"Nuclei_Granularity_2_Mito\"                                  , \"Nuclei_Granularity_2_RNA\"                                   , \"Nuclei_Granularity_3_AGP\"                                   ,\n",
    " \"Nuclei_Granularity_3_DNA\"                                   , \"Nuclei_Granularity_3_ER\"                                    , \"Nuclei_Granularity_3_Mito\"                                  , \"Nuclei_Granularity_3_RNA\"                                   ,\n",
    " \"Nuclei_Granularity_4_AGP\"                                   , \"Nuclei_Granularity_4_DNA\"                                   , \"Nuclei_Granularity_4_ER\"                                    , \"Nuclei_Granularity_4_Mito\"                                  ,\n",
    " \"Nuclei_Granularity_4_RNA\"                                   , \"Nuclei_Granularity_5_AGP\"                                   , \"Nuclei_Granularity_5_DNA\"                                   , \"Nuclei_Granularity_5_ER\"                                    ,\n",
    " \"Nuclei_Granularity_5_Mito\"                                  , \"Nuclei_Granularity_5_RNA\"                                   , \"Nuclei_Granularity_6_AGP\"                                   , \"Nuclei_Granularity_6_DNA\"                                   ,\n",
    " \"Nuclei_Granularity_6_ER\"                                    , \"Nuclei_Granularity_6_Mito\"                                  , \"Nuclei_Granularity_6_RNA\"                                   , \"Nuclei_Granularity_7_AGP\"                                   ,\n",
    " \"Nuclei_Granularity_7_DNA\"                                   , \"Nuclei_Granularity_7_ER\"                                    , \"Nuclei_Granularity_7_Mito\"                                  , \"Nuclei_Granularity_7_RNA\"                                   ,\n",
    " \"Nuclei_Granularity_8_AGP\"                                   , \"Nuclei_Granularity_8_DNA\"                                   , \"Nuclei_Granularity_8_ER\"                                    , \"Nuclei_Granularity_8_Mito\"                                  ,\n",
    " \"Nuclei_Granularity_8_RNA\"                                   , \"Nuclei_Granularity_9_AGP\"                                   , \"Nuclei_Granularity_9_DNA\"                                   , \"Nuclei_Granularity_9_ER\"                                    ,\n",
    " \"Nuclei_Granularity_9_Mito\"                                  , \"Nuclei_Granularity_9_RNA\"                                   , \"Nuclei_Intensity_IntegratedIntensityEdge_AGP\"               , \"Nuclei_Intensity_IntegratedIntensityEdge_DNA\"               ,\n",
    " \"Nuclei_Intensity_IntegratedIntensityEdge_ER\"                , \"Nuclei_Intensity_IntegratedIntensityEdge_RNA\"               , \"Nuclei_Intensity_IntegratedIntensity_AGP\"                   , \"Nuclei_Intensity_IntegratedIntensity_DNA\"                   ,\n",
    " \"Nuclei_Intensity_IntegratedIntensity_ER\"                    , \"Nuclei_Intensity_IntegratedIntensity_Mito\"                  , \"Nuclei_Intensity_IntegratedIntensity_RNA\"                   , \"Nuclei_Intensity_LowerQuartileIntensity_AGP\"                ,\n",
    " \"Nuclei_Intensity_LowerQuartileIntensity_DNA\"                , \"Nuclei_Intensity_LowerQuartileIntensity_ER\"                 , \"Nuclei_Intensity_MADIntensity_DNA\"                          , \"Nuclei_Intensity_MADIntensity_Mito\"                         ,\n",
    " \"Nuclei_Intensity_MassDisplacement_AGP\"                      , \"Nuclei_Intensity_MassDisplacement_DNA\"                      , \"Nuclei_Intensity_MassDisplacement_ER\"                       , \"Nuclei_Intensity_MassDisplacement_Mito\"                     ,\n",
    " \"Nuclei_Intensity_MassDisplacement_RNA\"                      , \"Nuclei_Intensity_MaxIntensityEdge_AGP\"                      , \"Nuclei_Intensity_MaxIntensityEdge_DNA\"                      , \"Nuclei_Intensity_MaxIntensityEdge_ER\"                       ,\n",
    " \"Nuclei_Intensity_MaxIntensityEdge_Mito\"                     , \"Nuclei_Intensity_MaxIntensityEdge_RNA\"                      , \"Nuclei_Intensity_MaxIntensity_DNA\"                          , \"Nuclei_Intensity_MaxIntensity_ER\"                           ,\n",
    " \"Nuclei_Intensity_MaxIntensity_RNA\"                          , \"Nuclei_Intensity_MeanIntensityEdge_AGP\"                     , \"Nuclei_Intensity_MeanIntensityEdge_DNA\"                     , \"Nuclei_Intensity_MeanIntensityEdge_ER\"                      ,\n",
    " \"Nuclei_Intensity_MeanIntensityEdge_RNA\"                     , \"Nuclei_Intensity_MedianIntensity_DNA\"                       , \"Nuclei_Intensity_MinIntensityEdge_DNA\"                      , \"Nuclei_Intensity_MinIntensity_AGP\"                          ,\n",
    " \"Nuclei_Intensity_MinIntensity_ER\"                           , \"Nuclei_Intensity_MinIntensity_Mito\"                         , \"Nuclei_Intensity_MinIntensity_RNA\"                          , \"Nuclei_Intensity_StdIntensityEdge_DNA\"                      ,\n",
    " \"Nuclei_Intensity_StdIntensityEdge_RNA\"                      , \"Nuclei_Intensity_StdIntensity_AGP\"                          , \"Nuclei_Intensity_StdIntensity_ER\"                           , \"Nuclei_Intensity_StdIntensity_RNA\"                          ,\n",
    " \"Nuclei_Location_CenterMassIntensity_Z_AGP\"                  , \"Nuclei_Location_CenterMassIntensity_Z_DNA\"                  , \"Nuclei_Location_CenterMassIntensity_Z_ER\"                   , \"Nuclei_Location_CenterMassIntensity_Z_Mito\"                 ,\n",
    " \"Nuclei_Location_CenterMassIntensity_Z_RNA\"                  , \"Nuclei_Location_Center_Z\"                                   , \"Nuclei_Location_MaxIntensity_X_Mito\"                        , \"Nuclei_Location_MaxIntensity_Z_AGP\"                         ,\n",
    " \"Nuclei_Location_MaxIntensity_Z_DNA\"                         , \"Nuclei_Location_MaxIntensity_Z_ER\"                          , \"Nuclei_Location_MaxIntensity_Z_Mito\"                        , \"Nuclei_Location_MaxIntensity_Z_RNA\"                         ,\n",
    " \"Nuclei_Neighbors_AngleBetweenNeighbors_1\"                   , \"Nuclei_Neighbors_FirstClosestDistance_1\"                    , \"Nuclei_Neighbors_NumberOfNeighbors_1\"                       , \"Nuclei_Neighbors_SecondClosestDistance_1\"                   ,\n",
    " \"Nuclei_Number_Object_Number\"                                , \"Nuclei_ObjectSkeleton_NumberBranchEnds_mito_skel\"           , \"Nuclei_ObjectSkeleton_NumberNonTrunkBranches_mito_skel\"     , \"Nuclei_ObjectSkeleton_NumberTrunks_mito_skel\"               ,\n",
    " \"Nuclei_RadialDistribution_FracAtD_AGP_1of4\"                 , \"Nuclei_RadialDistribution_FracAtD_AGP_3of4\"                 , \"Nuclei_RadialDistribution_FracAtD_AGP_4of4\"                 , \"Nuclei_RadialDistribution_FracAtD_DNA_1of4\"                 ,\n",
    " \"Nuclei_RadialDistribution_FracAtD_DNA_3of4\"                 , \"Nuclei_RadialDistribution_FracAtD_DNA_4of4\"                 , \"Nuclei_RadialDistribution_FracAtD_ER_1of4\"                  , \"Nuclei_RadialDistribution_FracAtD_ER_3of4\"                  ,\n",
    " \"Nuclei_RadialDistribution_FracAtD_ER_4of4\"                  , \"Nuclei_RadialDistribution_FracAtD_Mito_1of4\"                , \"Nuclei_RadialDistribution_FracAtD_Mito_3of4\"                , \"Nuclei_RadialDistribution_FracAtD_Mito_4of4\"                ,\n",
    " \"Nuclei_RadialDistribution_FracAtD_RNA_1of4\"                 , \"Nuclei_RadialDistribution_FracAtD_RNA_3of4\"                 , \"Nuclei_RadialDistribution_FracAtD_RNA_4of4\"                 , \"Nuclei_RadialDistribution_MeanFrac_AGP_1of4\"                ,\n",
    " \"Nuclei_RadialDistribution_MeanFrac_AGP_3of4\"                , \"Nuclei_RadialDistribution_MeanFrac_AGP_4of4\"                , \"Nuclei_RadialDistribution_MeanFrac_DNA_1of4\"                , \"Nuclei_RadialDistribution_MeanFrac_DNA_3of4\"                ,\n",
    " \"Nuclei_RadialDistribution_MeanFrac_DNA_4of4\"                , \"Nuclei_RadialDistribution_MeanFrac_ER_1of4\"                 , \"Nuclei_RadialDistribution_MeanFrac_ER_3of4\"                 , \"Nuclei_RadialDistribution_MeanFrac_ER_4of4\"                 ,\n",
    " \"Nuclei_RadialDistribution_MeanFrac_Mito_2of4\"               , \"Nuclei_RadialDistribution_MeanFrac_Mito_3of4\"               , \"Nuclei_RadialDistribution_MeanFrac_Mito_4of4\"               , \"Nuclei_RadialDistribution_MeanFrac_RNA_1of4\"                ,\n",
    " \"Nuclei_RadialDistribution_MeanFrac_RNA_3of4\"                , \"Nuclei_RadialDistribution_MeanFrac_RNA_4of4\"                , \"Nuclei_RadialDistribution_RadialCV_AGP_1of4\"                , \"Nuclei_RadialDistribution_RadialCV_AGP_2of4\"                ,\n",
    " \"Nuclei_RadialDistribution_RadialCV_AGP_3of4\"                , \"Nuclei_RadialDistribution_RadialCV_AGP_4of4\"                , \"Nuclei_RadialDistribution_RadialCV_DNA_1of4\"                , \"Nuclei_RadialDistribution_RadialCV_DNA_2of4\"                ,\n",
    " \"Nuclei_RadialDistribution_RadialCV_DNA_3of4\"                , \"Nuclei_RadialDistribution_RadialCV_DNA_4of4\"                , \"Nuclei_RadialDistribution_RadialCV_ER_1of4\"                 , \"Nuclei_RadialDistribution_RadialCV_ER_2of4\"                 ,\n",
    " \"Nuclei_RadialDistribution_RadialCV_ER_3of4\"                 , \"Nuclei_RadialDistribution_RadialCV_ER_4of4\"                 , \"Nuclei_RadialDistribution_RadialCV_Mito_1of4\"               , \"Nuclei_RadialDistribution_RadialCV_Mito_2of4\"               ,\n",
    " \"Nuclei_RadialDistribution_RadialCV_Mito_3of4\"               , \"Nuclei_RadialDistribution_RadialCV_Mito_4of4\"               , \"Nuclei_RadialDistribution_RadialCV_RNA_1of4\"                , \"Nuclei_RadialDistribution_RadialCV_RNA_2of4\"                ,\n",
    " \"Nuclei_RadialDistribution_RadialCV_RNA_3of4\"                , \"Nuclei_RadialDistribution_RadialCV_RNA_4of4\"               } \n",
    "\n",
    "correlation_dropped_cols_5 = \\\n",
    " {\"Nuclei_AreaShape_Area\"                                      , \"Nuclei_AreaShape_BoundingBoxMaximum_X\"                      , \"Nuclei_AreaShape_BoundingBoxMinimum_X\"                      , \"Nuclei_AreaShape_BoundingBoxMinimum_Y\"                      ,\n",
    " \"Nuclei_AreaShape_Center_X\"                                  , \"Nuclei_AreaShape_Center_Y\"                                  , \"Nuclei_AreaShape_EquivalentDiameter\"                        , \"Nuclei_AreaShape_MajorAxisLength\"                           ,\n",
    " \"Nuclei_AreaShape_MaxFeretDiameter\"                          , \"Nuclei_AreaShape_MaximumRadius\"                             , \"Nuclei_AreaShape_MeanRadius\"                                , \"Nuclei_AreaShape_MedianRadius\"                              ,\n",
    " \"Nuclei_AreaShape_MinorAxisLength\"                           , \"Nuclei_AreaShape_Perimeter\"                                 , \"Nuclei_Correlation_Manders_AGP_DNA\"                         , \"Nuclei_Correlation_Manders_AGP_Mito\"                        ,\n",
    " \"Nuclei_Correlation_Manders_DNA_AGP\"                         , \"Nuclei_Correlation_Manders_DNA_Mito\"                        , \"Nuclei_Correlation_Manders_ER_DNA\"                          , \"Nuclei_Correlation_Manders_ER_Mito\"                         ,\n",
    " \"Nuclei_Correlation_Manders_RNA_AGP\"                         , \"Nuclei_Correlation_Manders_RNA_DNA\"                         , \"Nuclei_Correlation_RWC_RNA_ER\"                              , \"Nuclei_Granularity_1_RNA\"                                   ,\n",
    " \"Nuclei_Intensity_IntegratedIntensityEdge_Mito\"              , \"Nuclei_Intensity_LowerQuartileIntensity_Mito\"               , \"Nuclei_Intensity_LowerQuartileIntensity_RNA\"                , \"Nuclei_Intensity_MADIntensity_AGP\"                          ,\n",
    " \"Nuclei_Intensity_MADIntensity_ER\"                           , \"Nuclei_Intensity_MADIntensity_RNA\"                          , \"Nuclei_Intensity_MaxIntensity_AGP\"                          , \"Nuclei_Intensity_MaxIntensity_Mito\"                         ,\n",
    " \"Nuclei_Intensity_MeanIntensityEdge_Mito\"                    , \"Nuclei_Intensity_MeanIntensity_AGP\"                         , \"Nuclei_Intensity_MeanIntensity_DNA\"                         , \"Nuclei_Intensity_MeanIntensity_ER\"                          ,\n",
    " \"Nuclei_Intensity_MeanIntensity_Mito\"                        , \"Nuclei_Intensity_MeanIntensity_RNA\"                         , \"Nuclei_Intensity_MedianIntensity_AGP\"                       , \"Nuclei_Intensity_MedianIntensity_ER\"                        ,\n",
    " \"Nuclei_Intensity_MedianIntensity_Mito\"                      , \"Nuclei_Intensity_MedianIntensity_RNA\"                       , \"Nuclei_Intensity_MinIntensityEdge_AGP\"                      , \"Nuclei_Intensity_MinIntensityEdge_ER\"                       ,\n",
    " \"Nuclei_Intensity_MinIntensityEdge_Mito\"                     , \"Nuclei_Intensity_MinIntensityEdge_RNA\"                      , \"Nuclei_Intensity_MinIntensity_DNA\"                          , \"Nuclei_Intensity_StdIntensityEdge_AGP\"                      ,\n",
    " \"Nuclei_Intensity_StdIntensityEdge_ER\"                       , \"Nuclei_Intensity_StdIntensityEdge_Mito\"                     , \"Nuclei_Intensity_StdIntensity_DNA\"                          , \"Nuclei_Intensity_StdIntensity_Mito\"                         ,\n",
    " \"Nuclei_Intensity_UpperQuartileIntensity_AGP\"                , \"Nuclei_Intensity_UpperQuartileIntensity_DNA\"                , \"Nuclei_Intensity_UpperQuartileIntensity_ER\"                 , \"Nuclei_Intensity_UpperQuartileIntensity_Mito\"               ,\n",
    " \"Nuclei_Intensity_UpperQuartileIntensity_RNA\"                , \"Nuclei_Location_CenterMassIntensity_X_AGP\"                  , \"Nuclei_Location_CenterMassIntensity_X_DNA\"                  , \"Nuclei_Location_CenterMassIntensity_X_ER\"                   ,\n",
    " \"Nuclei_Location_CenterMassIntensity_X_Mito\"                 , \"Nuclei_Location_CenterMassIntensity_X_RNA\"                  , \"Nuclei_Location_CenterMassIntensity_Y_AGP\"                  , \"Nuclei_Location_CenterMassIntensity_Y_DNA\"                  ,\n",
    " \"Nuclei_Location_CenterMassIntensity_Y_ER\"                   , \"Nuclei_Location_CenterMassIntensity_Y_Mito\"                 , \"Nuclei_Location_CenterMassIntensity_Y_RNA\"                  , \"Nuclei_Location_Center_X\"                                   ,\n",
    " \"Nuclei_Location_Center_Y\"                                   , \"Nuclei_Location_MaxIntensity_X_AGP\"                         , \"Nuclei_Location_MaxIntensity_X_DNA\"                         , \"Nuclei_Location_MaxIntensity_X_ER\"                          ,\n",
    " \"Nuclei_Location_MaxIntensity_X_RNA\"                         , \"Nuclei_Location_MaxIntensity_Y_AGP\"                         , \"Nuclei_Location_MaxIntensity_Y_DNA\"                         , \"Nuclei_Location_MaxIntensity_Y_ER\"                          ,\n",
    " \"Nuclei_Location_MaxIntensity_Y_Mito\"                        , \"Nuclei_Location_MaxIntensity_Y_RNA\"                         , \"Nuclei_Neighbors_FirstClosestObjectNumber_1\"                , \"Nuclei_Neighbors_PercentTouching_1\"                         ,\n",
    " \"Nuclei_Neighbors_SecondClosestObjectNumber_1\"               , \"Nuclei_ObjectSkeleton_TotalObjectSkeletonLength_mito_skel\"  , \"Nuclei_Parent_NucleiIncludingEdges\"                         , \"Nuclei_RadialDistribution_FracAtD_AGP_2of4\"                 ,\n",
    " \"Nuclei_RadialDistribution_FracAtD_DNA_2of4\"                 , \"Nuclei_RadialDistribution_FracAtD_ER_2of4\"                  , \"Nuclei_RadialDistribution_FracAtD_Mito_2of4\"                , \"Nuclei_RadialDistribution_FracAtD_RNA_2of4\"                 ,\n",
    " \"Nuclei_RadialDistribution_MeanFrac_AGP_2of4\"                , \"Nuclei_RadialDistribution_MeanFrac_DNA_2of4\"                , \"Nuclei_RadialDistribution_MeanFrac_ER_2of4\"                 , \"Nuclei_RadialDistribution_MeanFrac_Mito_1of4\"               ,\n",
    " \"Nuclei_RadialDistribution_MeanFrac_RNA_2of4\"               } \n",
    "\n",
    "variance_dropped_cols_5 = set()\n"
   ]
  },
  {
   "cell_type": "code",
   "execution_count": 285,
   "id": "88b03eda-21fd-40ab-af92-24f0a395a849",
   "metadata": {
    "execution": {
     "iopub.execute_input": "2024-05-12T11:30:23.328271Z",
     "iopub.status.busy": "2024-05-12T11:30:23.327727Z",
     "iopub.status.idle": "2024-05-12T11:30:23.358923Z",
     "shell.execute_reply": "2024-05-12T11:30:23.358316Z",
     "shell.execute_reply.started": "2024-05-12T11:30:23.328230Z"
    }
   },
   "outputs": [
    {
     "data": {
      "text/plain": [
       "set()"
      ]
     },
     "execution_count": 285,
     "metadata": {},
     "output_type": "execute_result"
    },
    {
     "name": "stdout",
     "output_type": "stream",
     "text": [
      " Number of cols dropped - high correlation: 93\n",
      " Number of cols dropped - low variance    : 0\n",
      " Number of selected cols                  : 302\n",
      " Total                                    : 395\n"
     ]
    }
   ],
   "source": [
    "variance_dropped_cols_5 & correlation_dropped_cols_5\n",
    "print(f\" Number of cols dropped - high correlation: {len(correlation_dropped_cols_5)}\")\n",
    "print(f\" Number of cols dropped - low variance    : {len(variance_dropped_cols_5)}\")\n",
    "print(f\" Number of selected cols                  : {len(selected_cols_5)}\")\n",
    "print(f\" Total                                    : {len(selected_cols_5)+len(correlation_dropped_cols_5)+len(variance_dropped_cols_5)}\")"
   ]
  },
  {
   "cell_type": "code",
   "execution_count": 286,
   "id": "875d5338-8fee-4441-aba4-73031326515c",
   "metadata": {
    "execution": {
     "iopub.execute_input": "2024-05-12T11:30:34.392935Z",
     "iopub.status.busy": "2024-05-12T11:30:34.392387Z",
     "iopub.status.idle": "2024-05-12T11:30:34.426883Z",
     "shell.execute_reply": "2024-05-12T11:30:34.426314Z",
     "shell.execute_reply.started": "2024-05-12T11:30:34.392895Z"
    }
   },
   "outputs": [
    {
     "data": {
      "text/plain": [
       "set()"
      ]
     },
     "execution_count": 286,
     "metadata": {},
     "output_type": "execute_result"
    },
    {
     "data": {
      "text/plain": [
       "set()"
      ]
     },
     "execution_count": 286,
     "metadata": {},
     "output_type": "execute_result"
    },
    {
     "data": {
      "text/plain": [
       "{'Nuclei_Location_CenterMassIntensity_Z_AGP',\n",
       " 'Nuclei_Location_CenterMassIntensity_Z_DNA',\n",
       " 'Nuclei_Location_CenterMassIntensity_Z_ER',\n",
       " 'Nuclei_Location_CenterMassIntensity_Z_Mito',\n",
       " 'Nuclei_Location_CenterMassIntensity_Z_RNA',\n",
       " 'Nuclei_Location_Center_Z',\n",
       " 'Nuclei_Location_MaxIntensity_Z_AGP',\n",
       " 'Nuclei_Location_MaxIntensity_Z_DNA',\n",
       " 'Nuclei_Location_MaxIntensity_Z_ER',\n",
       " 'Nuclei_Location_MaxIntensity_Z_Mito',\n",
       " 'Nuclei_Location_MaxIntensity_Z_RNA'}"
      ]
     },
     "execution_count": 286,
     "metadata": {},
     "output_type": "execute_result"
    }
   ],
   "source": [
    "(correlation_dropped_cols_5) & set(zero_features)\n",
    "(variance_dropped_cols_5) & set(zero_features)\n",
    "(selected_cols_5) & set(zero_features)"
   ]
  },
  {
   "cell_type": "markdown",
   "id": "2055eb69-de1b-410a-b538-d6360b8234d0",
   "metadata": {},
   "source": [
    "### Group 6 - Nuclei"
   ]
  },
  {
   "cell_type": "code",
   "execution_count": 287,
   "id": "4d2cba81-ce98-407b-a9d4-ec29291340f2",
   "metadata": {
    "execution": {
     "iopub.execute_input": "2024-05-12T11:30:39.472526Z",
     "iopub.status.busy": "2024-05-12T11:30:39.472033Z",
     "iopub.status.idle": "2024-05-12T11:30:39.533292Z",
     "shell.execute_reply": "2024-05-12T11:30:39.532415Z",
     "shell.execute_reply.started": "2024-05-12T11:30:39.472485Z"
    }
   },
   "outputs": [],
   "source": [
    "selected_cols_6 = \\\n",
    "{\"Nuclei_Texture_AngularSecondMoment_AGP_10_01_256\"           , \"Nuclei_Texture_AngularSecondMoment_AGP_3_00_256\"            , \"Nuclei_Texture_AngularSecondMoment_DNA_10_01_256\"           , \"Nuclei_Texture_AngularSecondMoment_DNA_10_02_256\"           ,\n",
    " \"Nuclei_Texture_AngularSecondMoment_DNA_10_03_256\"           , \"Nuclei_Texture_AngularSecondMoment_ER_10_01_256\"            , \"Nuclei_Texture_AngularSecondMoment_ER_5_03_256\"             , \"Nuclei_Texture_AngularSecondMoment_Mito_10_01_256\"          ,\n",
    " \"Nuclei_Texture_AngularSecondMoment_RNA_10_00_256\"           , \"Nuclei_Texture_AngularSecondMoment_RNA_10_01_256\"           , \"Nuclei_Texture_AngularSecondMoment_RNA_10_03_256\"           , \"Nuclei_Texture_Contrast_DNA_5_00_256\"                       ,\n",
    " \"Nuclei_Texture_Contrast_Mito_3_00_256\"                      , \"Nuclei_Texture_Contrast_RNA_3_02_256\"                       , \"Nuclei_Texture_Correlation_AGP_10_00_256\"                   , \"Nuclei_Texture_Correlation_AGP_10_01_256\"                   ,\n",
    " \"Nuclei_Texture_Correlation_AGP_10_02_256\"                   , \"Nuclei_Texture_Correlation_AGP_10_03_256\"                   , \"Nuclei_Texture_Correlation_AGP_3_00_256\"                    , \"Nuclei_Texture_Correlation_AGP_3_01_256\"                    ,\n",
    " \"Nuclei_Texture_Correlation_AGP_3_02_256\"                    , \"Nuclei_Texture_Correlation_AGP_3_03_256\"                    , \"Nuclei_Texture_Correlation_AGP_5_00_256\"                    , \"Nuclei_Texture_Correlation_AGP_5_01_256\"                    ,\n",
    " \"Nuclei_Texture_Correlation_AGP_5_02_256\"                    , \"Nuclei_Texture_Correlation_AGP_5_03_256\"                    , \"Nuclei_Texture_Correlation_DNA_10_00_256\"                   , \"Nuclei_Texture_Correlation_DNA_10_01_256\"                   ,\n",
    " \"Nuclei_Texture_Correlation_DNA_10_02_256\"                   , \"Nuclei_Texture_Correlation_DNA_10_03_256\"                   , \"Nuclei_Texture_Correlation_DNA_3_00_256\"                    , \"Nuclei_Texture_Correlation_DNA_3_01_256\"                    ,\n",
    " \"Nuclei_Texture_Correlation_DNA_3_02_256\"                    , \"Nuclei_Texture_Correlation_DNA_3_03_256\"                    , \"Nuclei_Texture_Correlation_DNA_5_00_256\"                    , \"Nuclei_Texture_Correlation_DNA_5_01_256\"                    ,\n",
    " \"Nuclei_Texture_Correlation_DNA_5_02_256\"                    , \"Nuclei_Texture_Correlation_DNA_5_03_256\"                    , \"Nuclei_Texture_Correlation_ER_10_00_256\"                    , \"Nuclei_Texture_Correlation_ER_10_01_256\"                    ,\n",
    " \"Nuclei_Texture_Correlation_ER_10_02_256\"                    , \"Nuclei_Texture_Correlation_ER_10_03_256\"                    , \"Nuclei_Texture_Correlation_ER_3_00_256\"                     , \"Nuclei_Texture_Correlation_ER_3_01_256\"                     ,\n",
    " \"Nuclei_Texture_Correlation_ER_3_02_256\"                     , \"Nuclei_Texture_Correlation_ER_3_03_256\"                     , \"Nuclei_Texture_Correlation_ER_5_00_256\"                     , \"Nuclei_Texture_Correlation_ER_5_01_256\"                     ,\n",
    " \"Nuclei_Texture_Correlation_ER_5_02_256\"                     , \"Nuclei_Texture_Correlation_ER_5_03_256\"                     , \"Nuclei_Texture_Correlation_Mito_10_00_256\"                  , \"Nuclei_Texture_Correlation_Mito_10_01_256\"                  ,\n",
    " \"Nuclei_Texture_Correlation_Mito_10_02_256\"                  , \"Nuclei_Texture_Correlation_Mito_10_03_256\"                  , \"Nuclei_Texture_Correlation_Mito_3_00_256\"                   , \"Nuclei_Texture_Correlation_Mito_3_01_256\"                   ,\n",
    " \"Nuclei_Texture_Correlation_Mito_3_02_256\"                   , \"Nuclei_Texture_Correlation_Mito_3_03_256\"                   , \"Nuclei_Texture_Correlation_Mito_5_00_256\"                   , \"Nuclei_Texture_Correlation_Mito_5_01_256\"                   ,\n",
    " \"Nuclei_Texture_Correlation_Mito_5_02_256\"                   , \"Nuclei_Texture_Correlation_Mito_5_03_256\"                   , \"Nuclei_Texture_Correlation_RNA_10_00_256\"                   , \"Nuclei_Texture_Correlation_RNA_10_01_256\"                   ,\n",
    " \"Nuclei_Texture_Correlation_RNA_10_02_256\"                   , \"Nuclei_Texture_Correlation_RNA_10_03_256\"                   , \"Nuclei_Texture_Correlation_RNA_3_00_256\"                    , \"Nuclei_Texture_Correlation_RNA_3_01_256\"                    ,\n",
    " \"Nuclei_Texture_Correlation_RNA_3_02_256\"                    , \"Nuclei_Texture_Correlation_RNA_3_03_256\"                    , \"Nuclei_Texture_Correlation_RNA_5_00_256\"                    , \"Nuclei_Texture_Correlation_RNA_5_01_256\"                    ,\n",
    " \"Nuclei_Texture_Correlation_RNA_5_02_256\"                    , \"Nuclei_Texture_Correlation_RNA_5_03_256\"                    , \"Nuclei_Texture_DifferenceEntropy_DNA_3_02_256\"              , \"Nuclei_Texture_DifferenceEntropy_ER_3_00_256\"               ,\n",
    " \"Nuclei_Texture_DifferenceEntropy_RNA_3_00_256\"              , \"Nuclei_Texture_DifferenceVariance_AGP_10_03_256\"            , \"Nuclei_Texture_DifferenceVariance_DNA_10_01_256\"            , \"Nuclei_Texture_DifferenceVariance_ER_10_03_256\"             ,\n",
    " \"Nuclei_Texture_DifferenceVariance_ER_3_00_256\"              , \"Nuclei_Texture_DifferenceVariance_Mito_10_03_256\"           , \"Nuclei_Texture_DifferenceVariance_RNA_10_03_256\"            , \"Nuclei_Texture_Entropy_AGP_10_03_256\"                       ,\n",
    " \"Nuclei_Texture_Entropy_DNA_10_01_256\"                       , \"Nuclei_Texture_Entropy_ER_10_01_256\"                        , \"Nuclei_Texture_Entropy_Mito_10_03_256\"                      , \"Nuclei_Texture_Entropy_RNA_10_03_256\"                       ,\n",
    " \"Nuclei_Texture_InfoMeas1_AGP_10_01_256\"                     , \"Nuclei_Texture_InfoMeas1_AGP_10_02_256\"                     , \"Nuclei_Texture_InfoMeas1_AGP_10_03_256\"                     , \"Nuclei_Texture_InfoMeas1_AGP_3_00_256\"                      ,\n",
    " \"Nuclei_Texture_InfoMeas1_AGP_3_01_256\"                      , \"Nuclei_Texture_InfoMeas1_AGP_3_02_256\"                      , \"Nuclei_Texture_InfoMeas1_AGP_3_03_256\"                      , \"Nuclei_Texture_InfoMeas1_AGP_5_00_256\"                      ,\n",
    " \"Nuclei_Texture_InfoMeas1_AGP_5_01_256\"                      , \"Nuclei_Texture_InfoMeas1_AGP_5_02_256\"                      , \"Nuclei_Texture_InfoMeas1_AGP_5_03_256\"                      , \"Nuclei_Texture_InfoMeas1_DNA_10_01_256\"                     ,\n",
    " \"Nuclei_Texture_InfoMeas1_DNA_10_02_256\"                     , \"Nuclei_Texture_InfoMeas1_DNA_10_03_256\"                     , \"Nuclei_Texture_InfoMeas1_DNA_3_00_256\"                      , \"Nuclei_Texture_InfoMeas1_DNA_3_01_256\"                      ,\n",
    " \"Nuclei_Texture_InfoMeas1_DNA_3_02_256\"                      , \"Nuclei_Texture_InfoMeas1_DNA_3_03_256\"                      , \"Nuclei_Texture_InfoMeas1_DNA_5_00_256\"                      , \"Nuclei_Texture_InfoMeas1_DNA_5_02_256\"                      ,\n",
    " \"Nuclei_Texture_InfoMeas1_DNA_5_03_256\"                      , \"Nuclei_Texture_InfoMeas1_ER_10_01_256\"                      , \"Nuclei_Texture_InfoMeas1_ER_10_03_256\"                      , \"Nuclei_Texture_InfoMeas1_ER_3_00_256\"                       ,\n",
    " \"Nuclei_Texture_InfoMeas1_ER_3_01_256\"                       , \"Nuclei_Texture_InfoMeas1_ER_3_02_256\"                       , \"Nuclei_Texture_InfoMeas1_ER_3_03_256\"                       , \"Nuclei_Texture_InfoMeas1_ER_5_03_256\"                       ,\n",
    " \"Nuclei_Texture_InfoMeas1_Mito_10_03_256\"                    , \"Nuclei_Texture_InfoMeas1_Mito_3_00_256\"                     , \"Nuclei_Texture_InfoMeas1_Mito_3_01_256\"                     , \"Nuclei_Texture_InfoMeas1_Mito_3_02_256\"                     ,\n",
    " \"Nuclei_Texture_InfoMeas1_Mito_5_03_256\"                     , \"Nuclei_Texture_InfoMeas1_RNA_10_01_256\"                     , \"Nuclei_Texture_InfoMeas1_RNA_10_03_256\"                     , \"Nuclei_Texture_InfoMeas1_RNA_3_00_256\"                      ,\n",
    " \"Nuclei_Texture_InfoMeas1_RNA_3_01_256\"                      , \"Nuclei_Texture_InfoMeas1_RNA_3_02_256\"                      , \"Nuclei_Texture_InfoMeas1_RNA_3_03_256\"                      , \"Nuclei_Texture_InfoMeas1_RNA_5_00_256\"                      ,\n",
    " \"Nuclei_Texture_InfoMeas1_RNA_5_01_256\"                      , \"Nuclei_Texture_InfoMeas1_RNA_5_02_256\"                      , \"Nuclei_Texture_InfoMeas1_RNA_5_03_256\"                      , \"Nuclei_Texture_InfoMeas2_AGP_10_01_256\"                     ,\n",
    " \"Nuclei_Texture_InfoMeas2_AGP_3_00_256\"                      , \"Nuclei_Texture_InfoMeas2_AGP_3_02_256\"                      , \"Nuclei_Texture_InfoMeas2_DNA_10_03_256\"                     , \"Nuclei_Texture_InfoMeas2_DNA_3_02_256\"                      ,\n",
    " \"Nuclei_Texture_InfoMeas2_ER_10_03_256\"                      , \"Nuclei_Texture_InfoMeas2_ER_3_00_256\"                       , \"Nuclei_Texture_InfoMeas2_ER_3_02_256\"                       , \"Nuclei_Texture_InfoMeas2_Mito_10_01_256\"                    ,\n",
    " \"Nuclei_Texture_InfoMeas2_Mito_3_00_256\"                     , \"Nuclei_Texture_InfoMeas2_RNA_10_01_256\"                     , \"Nuclei_Texture_InfoMeas2_RNA_3_00_256\"                      , \"Nuclei_Texture_InverseDifferenceMoment_AGP_3_00_256\"        ,\n",
    " \"Nuclei_Texture_InverseDifferenceMoment_DNA_10_01_256\"       , \"Nuclei_Texture_InverseDifferenceMoment_DNA_3_02_256\"        , \"Nuclei_Texture_InverseDifferenceMoment_ER_3_00_256\"         , \"Nuclei_Texture_InverseDifferenceMoment_Mito_10_01_256\"      ,\n",
    " \"Nuclei_Texture_InverseDifferenceMoment_RNA_5_03_256\"        , \"Nuclei_Texture_SumAverage_AGP_10_01_256\"                    , \"Nuclei_Texture_SumAverage_DNA_10_01_256\"                    , \"Nuclei_Texture_SumAverage_ER_10_01_256\"                     ,\n",
    " \"Nuclei_Texture_SumAverage_Mito_10_01_256\"                   , \"Nuclei_Texture_SumAverage_RNA_10_01_256\"                    , \"Nuclei_Texture_SumEntropy_DNA_10_03_256\"                    , \"Nuclei_Texture_SumVariance_AGP_10_03_256\"                   ,\n",
    " \"Nuclei_Texture_SumVariance_DNA_10_03_256\"                   , \"Nuclei_Texture_SumVariance_ER_10_01_256\"                    , \"Nuclei_Texture_SumVariance_Mito_10_03_256\"                  , \"Nuclei_Texture_SumVariance_RNA_10_01_256\"                  \n",
    " }\n",
    "\n",
    "correlation_dropped_cols_6 = \\\n",
    "{\"Nuclei_Texture_AngularSecondMoment_AGP_10_00_256\"           , \"Nuclei_Texture_AngularSecondMoment_AGP_10_02_256\"           , \"Nuclei_Texture_AngularSecondMoment_AGP_10_03_256\"           , \"Nuclei_Texture_AngularSecondMoment_AGP_3_01_256\"            ,\n",
    " \"Nuclei_Texture_AngularSecondMoment_AGP_3_02_256\"            , \"Nuclei_Texture_AngularSecondMoment_AGP_3_03_256\"            , \"Nuclei_Texture_AngularSecondMoment_AGP_5_00_256\"            , \"Nuclei_Texture_AngularSecondMoment_AGP_5_01_256\"            ,\n",
    " \"Nuclei_Texture_AngularSecondMoment_AGP_5_02_256\"            , \"Nuclei_Texture_AngularSecondMoment_AGP_5_03_256\"            , \"Nuclei_Texture_AngularSecondMoment_DNA_10_00_256\"           , \"Nuclei_Texture_AngularSecondMoment_DNA_3_00_256\"            ,\n",
    " \"Nuclei_Texture_AngularSecondMoment_DNA_3_01_256\"            , \"Nuclei_Texture_AngularSecondMoment_DNA_3_02_256\"            , \"Nuclei_Texture_AngularSecondMoment_DNA_3_03_256\"            , \"Nuclei_Texture_AngularSecondMoment_DNA_5_00_256\"            ,\n",
    " \"Nuclei_Texture_AngularSecondMoment_DNA_5_01_256\"            , \"Nuclei_Texture_AngularSecondMoment_DNA_5_02_256\"            , \"Nuclei_Texture_AngularSecondMoment_DNA_5_03_256\"            , \"Nuclei_Texture_AngularSecondMoment_ER_10_00_256\"            ,\n",
    " \"Nuclei_Texture_AngularSecondMoment_ER_10_02_256\"            , \"Nuclei_Texture_AngularSecondMoment_ER_10_03_256\"            , \"Nuclei_Texture_AngularSecondMoment_ER_3_00_256\"             , \"Nuclei_Texture_AngularSecondMoment_ER_3_01_256\"             ,\n",
    " \"Nuclei_Texture_AngularSecondMoment_ER_3_02_256\"             , \"Nuclei_Texture_AngularSecondMoment_ER_3_03_256\"             , \"Nuclei_Texture_AngularSecondMoment_ER_5_00_256\"             , \"Nuclei_Texture_AngularSecondMoment_ER_5_01_256\"             ,\n",
    " \"Nuclei_Texture_AngularSecondMoment_ER_5_02_256\"             , \"Nuclei_Texture_AngularSecondMoment_Mito_10_00_256\"          , \"Nuclei_Texture_AngularSecondMoment_Mito_10_02_256\"          , \"Nuclei_Texture_AngularSecondMoment_Mito_10_03_256\"          ,\n",
    " \"Nuclei_Texture_AngularSecondMoment_Mito_3_00_256\"           , \"Nuclei_Texture_AngularSecondMoment_Mito_3_01_256\"           , \"Nuclei_Texture_AngularSecondMoment_Mito_3_02_256\"           , \"Nuclei_Texture_AngularSecondMoment_Mito_3_03_256\"           ,\n",
    " \"Nuclei_Texture_AngularSecondMoment_Mito_5_00_256\"           , \"Nuclei_Texture_AngularSecondMoment_Mito_5_01_256\"           , \"Nuclei_Texture_AngularSecondMoment_Mito_5_02_256\"           , \"Nuclei_Texture_AngularSecondMoment_Mito_5_03_256\"           ,\n",
    " \"Nuclei_Texture_AngularSecondMoment_RNA_10_02_256\"           , \"Nuclei_Texture_AngularSecondMoment_RNA_3_00_256\"            , \"Nuclei_Texture_AngularSecondMoment_RNA_3_01_256\"            , \"Nuclei_Texture_AngularSecondMoment_RNA_3_02_256\"            ,\n",
    " \"Nuclei_Texture_AngularSecondMoment_RNA_3_03_256\"            , \"Nuclei_Texture_AngularSecondMoment_RNA_5_00_256\"            , \"Nuclei_Texture_AngularSecondMoment_RNA_5_01_256\"            , \"Nuclei_Texture_AngularSecondMoment_RNA_5_02_256\"            ,\n",
    " \"Nuclei_Texture_AngularSecondMoment_RNA_5_03_256\"            , \"Nuclei_Texture_Contrast_AGP_10_00_256\"                      , \"Nuclei_Texture_Contrast_AGP_10_01_256\"                      , \"Nuclei_Texture_Contrast_AGP_10_02_256\"                      ,\n",
    " \"Nuclei_Texture_Contrast_AGP_10_03_256\"                      , \"Nuclei_Texture_Contrast_AGP_3_00_256\"                       , \"Nuclei_Texture_Contrast_AGP_3_01_256\"                       , \"Nuclei_Texture_Contrast_AGP_3_02_256\"                       ,\n",
    " \"Nuclei_Texture_Contrast_AGP_3_03_256\"                       , \"Nuclei_Texture_Contrast_AGP_5_00_256\"                       , \"Nuclei_Texture_Contrast_AGP_5_01_256\"                       , \"Nuclei_Texture_Contrast_AGP_5_02_256\"                       ,\n",
    " \"Nuclei_Texture_Contrast_AGP_5_03_256\"                       , \"Nuclei_Texture_Contrast_DNA_10_00_256\"                      , \"Nuclei_Texture_Contrast_DNA_10_01_256\"                      , \"Nuclei_Texture_Contrast_DNA_10_02_256\"                      ,\n",
    " \"Nuclei_Texture_Contrast_DNA_10_03_256\"                      , \"Nuclei_Texture_Contrast_DNA_3_00_256\"                       , \"Nuclei_Texture_Contrast_DNA_3_01_256\"                       , \"Nuclei_Texture_Contrast_DNA_3_02_256\"                       ,\n",
    " \"Nuclei_Texture_Contrast_DNA_3_03_256\"                       , \"Nuclei_Texture_Contrast_DNA_5_01_256\"                       , \"Nuclei_Texture_Contrast_DNA_5_02_256\"                       , \"Nuclei_Texture_Contrast_DNA_5_03_256\"                       ,\n",
    " \"Nuclei_Texture_Contrast_ER_10_00_256\"                       , \"Nuclei_Texture_Contrast_ER_10_01_256\"                       , \"Nuclei_Texture_Contrast_ER_10_02_256\"                       , \"Nuclei_Texture_Contrast_ER_10_03_256\"                       ,\n",
    " \"Nuclei_Texture_Contrast_ER_3_00_256\"                        , \"Nuclei_Texture_Contrast_ER_3_01_256\"                        , \"Nuclei_Texture_Contrast_ER_3_02_256\"                        , \"Nuclei_Texture_Contrast_ER_3_03_256\"                        ,\n",
    " \"Nuclei_Texture_Contrast_ER_5_00_256\"                        , \"Nuclei_Texture_Contrast_ER_5_01_256\"                        , \"Nuclei_Texture_Contrast_ER_5_02_256\"                        , \"Nuclei_Texture_Contrast_ER_5_03_256\"                        ,\n",
    " \"Nuclei_Texture_Contrast_Mito_10_00_256\"                     , \"Nuclei_Texture_Contrast_Mito_10_01_256\"                     , \"Nuclei_Texture_Contrast_Mito_10_02_256\"                     , \"Nuclei_Texture_Contrast_Mito_10_03_256\"                     ,\n",
    " \"Nuclei_Texture_Contrast_Mito_3_01_256\"                      , \"Nuclei_Texture_Contrast_Mito_3_02_256\"                      , \"Nuclei_Texture_Contrast_Mito_3_03_256\"                      , \"Nuclei_Texture_Contrast_Mito_5_00_256\"                      ,\n",
    " \"Nuclei_Texture_Contrast_Mito_5_01_256\"                      , \"Nuclei_Texture_Contrast_Mito_5_02_256\"                      , \"Nuclei_Texture_Contrast_Mito_5_03_256\"                      , \"Nuclei_Texture_Contrast_RNA_10_00_256\"                      ,\n",
    " \"Nuclei_Texture_Contrast_RNA_10_01_256\"                      , \"Nuclei_Texture_Contrast_RNA_10_02_256\"                      , \"Nuclei_Texture_Contrast_RNA_10_03_256\"                      , \"Nuclei_Texture_Contrast_RNA_3_00_256\"                       ,\n",
    " \"Nuclei_Texture_Contrast_RNA_3_01_256\"                       , \"Nuclei_Texture_Contrast_RNA_3_03_256\"                       , \"Nuclei_Texture_Contrast_RNA_5_00_256\"                       , \"Nuclei_Texture_Contrast_RNA_5_01_256\"                       ,\n",
    " \"Nuclei_Texture_Contrast_RNA_5_02_256\"                       , \"Nuclei_Texture_Contrast_RNA_5_03_256\"                       , \"Nuclei_Texture_DifferenceEntropy_AGP_10_00_256\"             , \"Nuclei_Texture_DifferenceEntropy_AGP_10_01_256\"             ,\n",
    " \"Nuclei_Texture_DifferenceEntropy_AGP_10_02_256\"             , \"Nuclei_Texture_DifferenceEntropy_AGP_10_03_256\"             , \"Nuclei_Texture_DifferenceEntropy_AGP_3_00_256\"              , \"Nuclei_Texture_DifferenceEntropy_AGP_3_01_256\"              ,\n",
    " \"Nuclei_Texture_DifferenceEntropy_AGP_3_02_256\"              , \"Nuclei_Texture_DifferenceEntropy_AGP_3_03_256\"              , \"Nuclei_Texture_DifferenceEntropy_AGP_5_00_256\"              , \"Nuclei_Texture_DifferenceEntropy_AGP_5_01_256\"              ,\n",
    " \"Nuclei_Texture_DifferenceEntropy_AGP_5_02_256\"              , \"Nuclei_Texture_DifferenceEntropy_AGP_5_03_256\"              , \"Nuclei_Texture_DifferenceEntropy_DNA_10_00_256\"             , \"Nuclei_Texture_DifferenceEntropy_DNA_10_01_256\"             ,\n",
    " \"Nuclei_Texture_DifferenceEntropy_DNA_10_02_256\"             , \"Nuclei_Texture_DifferenceEntropy_DNA_10_03_256\"             , \"Nuclei_Texture_DifferenceEntropy_DNA_3_00_256\"              , \"Nuclei_Texture_DifferenceEntropy_DNA_3_01_256\"              ,\n",
    " \"Nuclei_Texture_DifferenceEntropy_DNA_3_03_256\"              , \"Nuclei_Texture_DifferenceEntropy_DNA_5_00_256\"              , \"Nuclei_Texture_DifferenceEntropy_DNA_5_01_256\"              , \"Nuclei_Texture_DifferenceEntropy_DNA_5_02_256\"              ,\n",
    " \"Nuclei_Texture_DifferenceEntropy_DNA_5_03_256\"              , \"Nuclei_Texture_DifferenceEntropy_ER_10_00_256\"              , \"Nuclei_Texture_DifferenceEntropy_ER_10_01_256\"              , \"Nuclei_Texture_DifferenceEntropy_ER_10_02_256\"              ,\n",
    " \"Nuclei_Texture_DifferenceEntropy_ER_10_03_256\"              , \"Nuclei_Texture_DifferenceEntropy_ER_3_01_256\"               , \"Nuclei_Texture_DifferenceEntropy_ER_3_02_256\"               , \"Nuclei_Texture_DifferenceEntropy_ER_3_03_256\"               ,\n",
    " \"Nuclei_Texture_DifferenceEntropy_ER_5_00_256\"               , \"Nuclei_Texture_DifferenceEntropy_ER_5_01_256\"               , \"Nuclei_Texture_DifferenceEntropy_ER_5_02_256\"               , \"Nuclei_Texture_DifferenceEntropy_ER_5_03_256\"               ,\n",
    " \"Nuclei_Texture_DifferenceEntropy_Mito_10_00_256\"            , \"Nuclei_Texture_DifferenceEntropy_Mito_10_01_256\"            , \"Nuclei_Texture_DifferenceEntropy_Mito_10_02_256\"            , \"Nuclei_Texture_DifferenceEntropy_Mito_10_03_256\"            ,\n",
    " \"Nuclei_Texture_DifferenceEntropy_Mito_3_00_256\"             , \"Nuclei_Texture_DifferenceEntropy_Mito_3_01_256\"             , \"Nuclei_Texture_DifferenceEntropy_Mito_3_02_256\"             , \"Nuclei_Texture_DifferenceEntropy_Mito_3_03_256\"             ,\n",
    " \"Nuclei_Texture_DifferenceEntropy_Mito_5_00_256\"             , \"Nuclei_Texture_DifferenceEntropy_Mito_5_01_256\"             , \"Nuclei_Texture_DifferenceEntropy_Mito_5_02_256\"             , \"Nuclei_Texture_DifferenceEntropy_Mito_5_03_256\"             ,\n",
    " \"Nuclei_Texture_DifferenceEntropy_RNA_10_00_256\"             , \"Nuclei_Texture_DifferenceEntropy_RNA_10_01_256\"             , \"Nuclei_Texture_DifferenceEntropy_RNA_10_02_256\"             , \"Nuclei_Texture_DifferenceEntropy_RNA_10_03_256\"             ,\n",
    " \"Nuclei_Texture_DifferenceEntropy_RNA_3_01_256\"              , \"Nuclei_Texture_DifferenceEntropy_RNA_3_02_256\"              , \"Nuclei_Texture_DifferenceEntropy_RNA_3_03_256\"              , \"Nuclei_Texture_DifferenceEntropy_RNA_5_00_256\"              ,\n",
    " \"Nuclei_Texture_DifferenceEntropy_RNA_5_01_256\"              , \"Nuclei_Texture_DifferenceEntropy_RNA_5_02_256\"              , \"Nuclei_Texture_DifferenceEntropy_RNA_5_03_256\"              , \"Nuclei_Texture_DifferenceVariance_AGP_10_00_256\"            ,\n",
    " \"Nuclei_Texture_DifferenceVariance_AGP_10_01_256\"            , \"Nuclei_Texture_DifferenceVariance_AGP_10_02_256\"            , \"Nuclei_Texture_DifferenceVariance_AGP_3_00_256\"             , \"Nuclei_Texture_DifferenceVariance_AGP_3_01_256\"             ,\n",
    " \"Nuclei_Texture_DifferenceVariance_AGP_3_02_256\"             , \"Nuclei_Texture_DifferenceVariance_AGP_3_03_256\"             , \"Nuclei_Texture_DifferenceVariance_AGP_5_00_256\"             , \"Nuclei_Texture_DifferenceVariance_AGP_5_01_256\"             ,\n",
    " \"Nuclei_Texture_DifferenceVariance_AGP_5_02_256\"             , \"Nuclei_Texture_DifferenceVariance_AGP_5_03_256\"             , \"Nuclei_Texture_DifferenceVariance_DNA_10_00_256\"            , \"Nuclei_Texture_DifferenceVariance_DNA_10_02_256\"            ,\n",
    " \"Nuclei_Texture_DifferenceVariance_DNA_10_03_256\"            , \"Nuclei_Texture_DifferenceVariance_DNA_3_00_256\"             , \"Nuclei_Texture_DifferenceVariance_DNA_3_01_256\"             , \"Nuclei_Texture_DifferenceVariance_DNA_3_02_256\"             ,\n",
    " \"Nuclei_Texture_DifferenceVariance_DNA_3_03_256\"             , \"Nuclei_Texture_DifferenceVariance_DNA_5_00_256\"             , \"Nuclei_Texture_DifferenceVariance_DNA_5_01_256\"             , \"Nuclei_Texture_DifferenceVariance_DNA_5_02_256\"             ,\n",
    " \"Nuclei_Texture_DifferenceVariance_DNA_5_03_256\"             , \"Nuclei_Texture_DifferenceVariance_ER_10_00_256\"             , \"Nuclei_Texture_DifferenceVariance_ER_10_01_256\"             , \"Nuclei_Texture_DifferenceVariance_ER_10_02_256\"             ,\n",
    " \"Nuclei_Texture_DifferenceVariance_ER_3_01_256\"              , \"Nuclei_Texture_DifferenceVariance_ER_3_02_256\"              , \"Nuclei_Texture_DifferenceVariance_ER_3_03_256\"              , \"Nuclei_Texture_DifferenceVariance_ER_5_00_256\"              ,\n",
    " \"Nuclei_Texture_DifferenceVariance_ER_5_01_256\"              , \"Nuclei_Texture_DifferenceVariance_ER_5_02_256\"              , \"Nuclei_Texture_DifferenceVariance_ER_5_03_256\"              , \"Nuclei_Texture_DifferenceVariance_Mito_10_00_256\"           ,\n",
    " \"Nuclei_Texture_DifferenceVariance_Mito_10_01_256\"           , \"Nuclei_Texture_DifferenceVariance_Mito_10_02_256\"           , \"Nuclei_Texture_DifferenceVariance_Mito_3_00_256\"            , \"Nuclei_Texture_DifferenceVariance_Mito_3_01_256\"            ,\n",
    " \"Nuclei_Texture_DifferenceVariance_Mito_3_02_256\"            , \"Nuclei_Texture_DifferenceVariance_Mito_3_03_256\"            , \"Nuclei_Texture_DifferenceVariance_Mito_5_00_256\"            , \"Nuclei_Texture_DifferenceVariance_Mito_5_01_256\"            ,\n",
    " \"Nuclei_Texture_DifferenceVariance_Mito_5_02_256\"            , \"Nuclei_Texture_DifferenceVariance_Mito_5_03_256\"            , \"Nuclei_Texture_DifferenceVariance_RNA_10_00_256\"            , \"Nuclei_Texture_DifferenceVariance_RNA_10_01_256\"            ,\n",
    " \"Nuclei_Texture_DifferenceVariance_RNA_10_02_256\"            , \"Nuclei_Texture_DifferenceVariance_RNA_3_00_256\"             , \"Nuclei_Texture_DifferenceVariance_RNA_3_01_256\"             , \"Nuclei_Texture_DifferenceVariance_RNA_3_02_256\"             ,\n",
    " \"Nuclei_Texture_DifferenceVariance_RNA_3_03_256\"             , \"Nuclei_Texture_DifferenceVariance_RNA_5_00_256\"             , \"Nuclei_Texture_DifferenceVariance_RNA_5_01_256\"             , \"Nuclei_Texture_DifferenceVariance_RNA_5_02_256\"             ,\n",
    " \"Nuclei_Texture_DifferenceVariance_RNA_5_03_256\"             , \"Nuclei_Texture_Entropy_AGP_10_00_256\"                       , \"Nuclei_Texture_Entropy_AGP_10_01_256\"                       , \"Nuclei_Texture_Entropy_AGP_10_02_256\"                       ,\n",
    " \"Nuclei_Texture_Entropy_AGP_3_00_256\"                        , \"Nuclei_Texture_Entropy_AGP_3_01_256\"                        , \"Nuclei_Texture_Entropy_AGP_3_02_256\"                        , \"Nuclei_Texture_Entropy_AGP_3_03_256\"                        ,\n",
    " \"Nuclei_Texture_Entropy_AGP_5_00_256\"                        , \"Nuclei_Texture_Entropy_AGP_5_01_256\"                        , \"Nuclei_Texture_Entropy_AGP_5_02_256\"                        , \"Nuclei_Texture_Entropy_AGP_5_03_256\"                        ,\n",
    " \"Nuclei_Texture_Entropy_DNA_10_00_256\"                       , \"Nuclei_Texture_Entropy_DNA_10_02_256\"                       , \"Nuclei_Texture_Entropy_DNA_10_03_256\"                       , \"Nuclei_Texture_Entropy_DNA_3_00_256\"                        ,\n",
    " \"Nuclei_Texture_Entropy_DNA_3_01_256\"                        , \"Nuclei_Texture_Entropy_DNA_3_02_256\"                        , \"Nuclei_Texture_Entropy_DNA_3_03_256\"                        , \"Nuclei_Texture_Entropy_DNA_5_00_256\"                        ,\n",
    " \"Nuclei_Texture_Entropy_DNA_5_01_256\"                        , \"Nuclei_Texture_Entropy_DNA_5_02_256\"                        , \"Nuclei_Texture_Entropy_DNA_5_03_256\"                        , \"Nuclei_Texture_Entropy_ER_10_00_256\"                        ,\n",
    " \"Nuclei_Texture_Entropy_ER_10_02_256\"                        , \"Nuclei_Texture_Entropy_ER_10_03_256\"                        , \"Nuclei_Texture_Entropy_ER_3_00_256\"                         , \"Nuclei_Texture_Entropy_ER_3_01_256\"                         ,\n",
    " \"Nuclei_Texture_Entropy_ER_3_02_256\"                         , \"Nuclei_Texture_Entropy_ER_3_03_256\"                         , \"Nuclei_Texture_Entropy_ER_5_00_256\"                         , \"Nuclei_Texture_Entropy_ER_5_01_256\"                         ,\n",
    " \"Nuclei_Texture_Entropy_ER_5_02_256\"                         , \"Nuclei_Texture_Entropy_ER_5_03_256\"                         , \"Nuclei_Texture_Entropy_Mito_10_00_256\"                      , \"Nuclei_Texture_Entropy_Mito_10_01_256\"                      ,\n",
    " \"Nuclei_Texture_Entropy_Mito_10_02_256\"                      , \"Nuclei_Texture_Entropy_Mito_3_00_256\"                       , \"Nuclei_Texture_Entropy_Mito_3_01_256\"                       , \"Nuclei_Texture_Entropy_Mito_3_02_256\"                       ,\n",
    " \"Nuclei_Texture_Entropy_Mito_3_03_256\"                       , \"Nuclei_Texture_Entropy_Mito_5_00_256\"                       , \"Nuclei_Texture_Entropy_Mito_5_01_256\"                       , \"Nuclei_Texture_Entropy_Mito_5_02_256\"                       ,\n",
    " \"Nuclei_Texture_Entropy_Mito_5_03_256\"                       , \"Nuclei_Texture_Entropy_RNA_10_00_256\"                       , \"Nuclei_Texture_Entropy_RNA_10_01_256\"                       , \"Nuclei_Texture_Entropy_RNA_10_02_256\"                       ,\n",
    " \"Nuclei_Texture_Entropy_RNA_3_00_256\"                        , \"Nuclei_Texture_Entropy_RNA_3_01_256\"                        , \"Nuclei_Texture_Entropy_RNA_3_02_256\"                        , \"Nuclei_Texture_Entropy_RNA_3_03_256\"                        ,\n",
    " \"Nuclei_Texture_Entropy_RNA_5_00_256\"                        , \"Nuclei_Texture_Entropy_RNA_5_01_256\"                        , \"Nuclei_Texture_Entropy_RNA_5_02_256\"                        , \"Nuclei_Texture_Entropy_RNA_5_03_256\"                        ,\n",
    " \"Nuclei_Texture_InfoMeas1_AGP_10_00_256\"                     , \"Nuclei_Texture_InfoMeas1_DNA_10_00_256\"                     , \"Nuclei_Texture_InfoMeas1_DNA_5_01_256\"                      , \"Nuclei_Texture_InfoMeas1_ER_10_00_256\"                      ,\n",
    " \"Nuclei_Texture_InfoMeas1_ER_10_02_256\"                      , \"Nuclei_Texture_InfoMeas1_ER_5_00_256\"                       , \"Nuclei_Texture_InfoMeas1_ER_5_01_256\"                       , \"Nuclei_Texture_InfoMeas1_ER_5_02_256\"                       ,\n",
    " \"Nuclei_Texture_InfoMeas1_Mito_10_00_256\"                    , \"Nuclei_Texture_InfoMeas1_Mito_10_01_256\"                    , \"Nuclei_Texture_InfoMeas1_Mito_10_02_256\"                    , \"Nuclei_Texture_InfoMeas1_Mito_3_03_256\"                     ,\n",
    " \"Nuclei_Texture_InfoMeas1_Mito_5_00_256\"                     , \"Nuclei_Texture_InfoMeas1_Mito_5_01_256\"                     , \"Nuclei_Texture_InfoMeas1_Mito_5_02_256\"                     , \"Nuclei_Texture_InfoMeas1_RNA_10_00_256\"                     ,\n",
    " \"Nuclei_Texture_InfoMeas1_RNA_10_02_256\"                     , \"Nuclei_Texture_InfoMeas2_AGP_10_00_256\"                     , \"Nuclei_Texture_InfoMeas2_AGP_10_02_256\"                     , \"Nuclei_Texture_InfoMeas2_AGP_10_03_256\"                     ,\n",
    " \"Nuclei_Texture_InfoMeas2_AGP_3_01_256\"                      , \"Nuclei_Texture_InfoMeas2_AGP_3_03_256\"                      , \"Nuclei_Texture_InfoMeas2_AGP_5_00_256\"                      , \"Nuclei_Texture_InfoMeas2_AGP_5_01_256\"                      ,\n",
    " \"Nuclei_Texture_InfoMeas2_AGP_5_02_256\"                      , \"Nuclei_Texture_InfoMeas2_AGP_5_03_256\"                      , \"Nuclei_Texture_InfoMeas2_DNA_10_00_256\"                     , \"Nuclei_Texture_InfoMeas2_DNA_10_01_256\"                     ,\n",
    " \"Nuclei_Texture_InfoMeas2_DNA_10_02_256\"                     , \"Nuclei_Texture_InfoMeas2_DNA_3_00_256\"                      , \"Nuclei_Texture_InfoMeas2_DNA_3_01_256\"                      , \"Nuclei_Texture_InfoMeas2_DNA_3_03_256\"                      ,\n",
    " \"Nuclei_Texture_InfoMeas2_DNA_5_00_256\"                      , \"Nuclei_Texture_InfoMeas2_DNA_5_01_256\"                      , \"Nuclei_Texture_InfoMeas2_DNA_5_02_256\"                      , \"Nuclei_Texture_InfoMeas2_DNA_5_03_256\"                      ,\n",
    " \"Nuclei_Texture_InfoMeas2_ER_10_00_256\"                      , \"Nuclei_Texture_InfoMeas2_ER_10_01_256\"                      , \"Nuclei_Texture_InfoMeas2_ER_10_02_256\"                      , \"Nuclei_Texture_InfoMeas2_ER_3_01_256\"                       ,\n",
    " \"Nuclei_Texture_InfoMeas2_ER_3_03_256\"                       , \"Nuclei_Texture_InfoMeas2_ER_5_00_256\"                       , \"Nuclei_Texture_InfoMeas2_ER_5_01_256\"                       , \"Nuclei_Texture_InfoMeas2_ER_5_02_256\"                       ,\n",
    " \"Nuclei_Texture_InfoMeas2_ER_5_03_256\"                       , \"Nuclei_Texture_InfoMeas2_Mito_10_00_256\"                    , \"Nuclei_Texture_InfoMeas2_Mito_10_02_256\"                    , \"Nuclei_Texture_InfoMeas2_Mito_10_03_256\"                    ,\n",
    " \"Nuclei_Texture_InfoMeas2_Mito_3_01_256\"                     , \"Nuclei_Texture_InfoMeas2_Mito_3_02_256\"                     , \"Nuclei_Texture_InfoMeas2_Mito_3_03_256\"                     , \"Nuclei_Texture_InfoMeas2_Mito_5_00_256\"                     ,\n",
    " \"Nuclei_Texture_InfoMeas2_Mito_5_01_256\"                     , \"Nuclei_Texture_InfoMeas2_Mito_5_02_256\"                     , \"Nuclei_Texture_InfoMeas2_Mito_5_03_256\"                     , \"Nuclei_Texture_InfoMeas2_RNA_10_00_256\"                     ,\n",
    " \"Nuclei_Texture_InfoMeas2_RNA_10_02_256\"                     , \"Nuclei_Texture_InfoMeas2_RNA_10_03_256\"                     , \"Nuclei_Texture_InfoMeas2_RNA_3_01_256\"                      , \"Nuclei_Texture_InfoMeas2_RNA_3_02_256\"                      ,\n",
    " \"Nuclei_Texture_InfoMeas2_RNA_3_03_256\"                      , \"Nuclei_Texture_InfoMeas2_RNA_5_00_256\"                      , \"Nuclei_Texture_InfoMeas2_RNA_5_01_256\"                      , \"Nuclei_Texture_InfoMeas2_RNA_5_02_256\"                      ,\n",
    " \"Nuclei_Texture_InfoMeas2_RNA_5_03_256\"                      , \"Nuclei_Texture_InverseDifferenceMoment_AGP_10_00_256\"       , \"Nuclei_Texture_InverseDifferenceMoment_AGP_10_01_256\"       , \"Nuclei_Texture_InverseDifferenceMoment_AGP_10_02_256\"       ,\n",
    " \"Nuclei_Texture_InverseDifferenceMoment_AGP_10_03_256\"       , \"Nuclei_Texture_InverseDifferenceMoment_AGP_3_01_256\"        , \"Nuclei_Texture_InverseDifferenceMoment_AGP_3_02_256\"        , \"Nuclei_Texture_InverseDifferenceMoment_AGP_3_03_256\"        ,\n",
    " \"Nuclei_Texture_InverseDifferenceMoment_AGP_5_00_256\"        , \"Nuclei_Texture_InverseDifferenceMoment_AGP_5_01_256\"        , \"Nuclei_Texture_InverseDifferenceMoment_AGP_5_02_256\"        , \"Nuclei_Texture_InverseDifferenceMoment_AGP_5_03_256\"        ,\n",
    " \"Nuclei_Texture_InverseDifferenceMoment_DNA_10_00_256\"       , \"Nuclei_Texture_InverseDifferenceMoment_DNA_10_02_256\"       , \"Nuclei_Texture_InverseDifferenceMoment_DNA_10_03_256\"       , \"Nuclei_Texture_InverseDifferenceMoment_DNA_3_00_256\"        ,\n",
    " \"Nuclei_Texture_InverseDifferenceMoment_DNA_3_01_256\"        , \"Nuclei_Texture_InverseDifferenceMoment_DNA_3_03_256\"        , \"Nuclei_Texture_InverseDifferenceMoment_DNA_5_00_256\"        , \"Nuclei_Texture_InverseDifferenceMoment_DNA_5_01_256\"        ,\n",
    " \"Nuclei_Texture_InverseDifferenceMoment_DNA_5_02_256\"        , \"Nuclei_Texture_InverseDifferenceMoment_DNA_5_03_256\"        , \"Nuclei_Texture_InverseDifferenceMoment_ER_10_00_256\"        , \"Nuclei_Texture_InverseDifferenceMoment_ER_10_01_256\"        ,\n",
    " \"Nuclei_Texture_InverseDifferenceMoment_ER_10_02_256\"        , \"Nuclei_Texture_InverseDifferenceMoment_ER_10_03_256\"        , \"Nuclei_Texture_InverseDifferenceMoment_ER_3_01_256\"         , \"Nuclei_Texture_InverseDifferenceMoment_ER_3_02_256\"         ,\n",
    " \"Nuclei_Texture_InverseDifferenceMoment_ER_3_03_256\"         , \"Nuclei_Texture_InverseDifferenceMoment_ER_5_00_256\"         , \"Nuclei_Texture_InverseDifferenceMoment_ER_5_01_256\"         , \"Nuclei_Texture_InverseDifferenceMoment_ER_5_02_256\"         ,\n",
    " \"Nuclei_Texture_InverseDifferenceMoment_ER_5_03_256\"         , \"Nuclei_Texture_InverseDifferenceMoment_Mito_10_00_256\"      , \"Nuclei_Texture_InverseDifferenceMoment_Mito_10_02_256\"      , \"Nuclei_Texture_InverseDifferenceMoment_Mito_10_03_256\"      ,\n",
    " \"Nuclei_Texture_InverseDifferenceMoment_Mito_3_00_256\"       , \"Nuclei_Texture_InverseDifferenceMoment_Mito_3_01_256\"       , \"Nuclei_Texture_InverseDifferenceMoment_Mito_3_02_256\"       , \"Nuclei_Texture_InverseDifferenceMoment_Mito_3_03_256\"       ,\n",
    " \"Nuclei_Texture_InverseDifferenceMoment_Mito_5_00_256\"       , \"Nuclei_Texture_InverseDifferenceMoment_Mito_5_01_256\"       , \"Nuclei_Texture_InverseDifferenceMoment_Mito_5_02_256\"       , \"Nuclei_Texture_InverseDifferenceMoment_Mito_5_03_256\"       ,\n",
    " \"Nuclei_Texture_InverseDifferenceMoment_RNA_10_00_256\"       , \"Nuclei_Texture_InverseDifferenceMoment_RNA_10_01_256\"       , \"Nuclei_Texture_InverseDifferenceMoment_RNA_10_02_256\"       , \"Nuclei_Texture_InverseDifferenceMoment_RNA_10_03_256\"       ,\n",
    " \"Nuclei_Texture_InverseDifferenceMoment_RNA_3_00_256\"        , \"Nuclei_Texture_InverseDifferenceMoment_RNA_3_01_256\"        , \"Nuclei_Texture_InverseDifferenceMoment_RNA_3_02_256\"        , \"Nuclei_Texture_InverseDifferenceMoment_RNA_3_03_256\"        ,\n",
    " \"Nuclei_Texture_InverseDifferenceMoment_RNA_5_00_256\"        , \"Nuclei_Texture_InverseDifferenceMoment_RNA_5_01_256\"        , \"Nuclei_Texture_InverseDifferenceMoment_RNA_5_02_256\"        , \"Nuclei_Texture_SumAverage_AGP_10_00_256\"                    ,\n",
    " \"Nuclei_Texture_SumAverage_AGP_10_02_256\"                    , \"Nuclei_Texture_SumAverage_AGP_10_03_256\"                    , \"Nuclei_Texture_SumAverage_AGP_3_00_256\"                     , \"Nuclei_Texture_SumAverage_AGP_3_01_256\"                     ,\n",
    " \"Nuclei_Texture_SumAverage_AGP_3_02_256\"                     , \"Nuclei_Texture_SumAverage_AGP_3_03_256\"                     , \"Nuclei_Texture_SumAverage_AGP_5_00_256\"                     , \"Nuclei_Texture_SumAverage_AGP_5_01_256\"                     ,\n",
    " \"Nuclei_Texture_SumAverage_AGP_5_02_256\"                     , \"Nuclei_Texture_SumAverage_AGP_5_03_256\"                     , \"Nuclei_Texture_SumAverage_DNA_10_00_256\"                    , \"Nuclei_Texture_SumAverage_DNA_10_02_256\"                    ,\n",
    " \"Nuclei_Texture_SumAverage_DNA_10_03_256\"                    , \"Nuclei_Texture_SumAverage_DNA_3_00_256\"                     , \"Nuclei_Texture_SumAverage_DNA_3_01_256\"                     , \"Nuclei_Texture_SumAverage_DNA_3_02_256\"                     ,\n",
    " \"Nuclei_Texture_SumAverage_DNA_3_03_256\"                     , \"Nuclei_Texture_SumAverage_DNA_5_00_256\"                     , \"Nuclei_Texture_SumAverage_DNA_5_01_256\"                     , \"Nuclei_Texture_SumAverage_DNA_5_02_256\"                     ,\n",
    " \"Nuclei_Texture_SumAverage_DNA_5_03_256\"                     , \"Nuclei_Texture_SumAverage_ER_10_00_256\"                     , \"Nuclei_Texture_SumAverage_ER_10_02_256\"                     , \"Nuclei_Texture_SumAverage_ER_10_03_256\"                     ,\n",
    " \"Nuclei_Texture_SumAverage_ER_3_00_256\"                      , \"Nuclei_Texture_SumAverage_ER_3_01_256\"                      , \"Nuclei_Texture_SumAverage_ER_3_02_256\"                      , \"Nuclei_Texture_SumAverage_ER_3_03_256\"                      ,\n",
    " \"Nuclei_Texture_SumAverage_ER_5_00_256\"                      , \"Nuclei_Texture_SumAverage_ER_5_01_256\"                      , \"Nuclei_Texture_SumAverage_ER_5_02_256\"                      , \"Nuclei_Texture_SumAverage_ER_5_03_256\"                      ,\n",
    " \"Nuclei_Texture_SumAverage_Mito_10_00_256\"                   , \"Nuclei_Texture_SumAverage_Mito_10_02_256\"                   , \"Nuclei_Texture_SumAverage_Mito_10_03_256\"                   , \"Nuclei_Texture_SumAverage_Mito_3_00_256\"                    ,\n",
    " \"Nuclei_Texture_SumAverage_Mito_3_01_256\"                    , \"Nuclei_Texture_SumAverage_Mito_3_02_256\"                    , \"Nuclei_Texture_SumAverage_Mito_3_03_256\"                    , \"Nuclei_Texture_SumAverage_Mito_5_00_256\"                    ,\n",
    " \"Nuclei_Texture_SumAverage_Mito_5_01_256\"                    , \"Nuclei_Texture_SumAverage_Mito_5_02_256\"                    , \"Nuclei_Texture_SumAverage_Mito_5_03_256\"                    , \"Nuclei_Texture_SumAverage_RNA_10_00_256\"                    ,\n",
    " \"Nuclei_Texture_SumAverage_RNA_10_02_256\"                    , \"Nuclei_Texture_SumAverage_RNA_10_03_256\"                    , \"Nuclei_Texture_SumAverage_RNA_3_00_256\"                     , \"Nuclei_Texture_SumAverage_RNA_3_01_256\"                     ,\n",
    " \"Nuclei_Texture_SumAverage_RNA_3_02_256\"                     , \"Nuclei_Texture_SumAverage_RNA_3_03_256\"                     , \"Nuclei_Texture_SumAverage_RNA_5_00_256\"                     , \"Nuclei_Texture_SumAverage_RNA_5_01_256\"                     ,\n",
    " \"Nuclei_Texture_SumAverage_RNA_5_02_256\"                     , \"Nuclei_Texture_SumAverage_RNA_5_03_256\"                     , \"Nuclei_Texture_SumEntropy_AGP_10_00_256\"                    , \"Nuclei_Texture_SumEntropy_AGP_10_01_256\"                    ,\n",
    " \"Nuclei_Texture_SumEntropy_AGP_10_02_256\"                    , \"Nuclei_Texture_SumEntropy_AGP_10_03_256\"                    , \"Nuclei_Texture_SumEntropy_AGP_3_00_256\"                     , \"Nuclei_Texture_SumEntropy_AGP_3_01_256\"                     ,\n",
    " \"Nuclei_Texture_SumEntropy_AGP_3_02_256\"                     , \"Nuclei_Texture_SumEntropy_AGP_3_03_256\"                     , \"Nuclei_Texture_SumEntropy_AGP_5_00_256\"                     , \"Nuclei_Texture_SumEntropy_AGP_5_01_256\"                     ,\n",
    " \"Nuclei_Texture_SumEntropy_AGP_5_02_256\"                     , \"Nuclei_Texture_SumEntropy_AGP_5_03_256\"                     , \"Nuclei_Texture_SumEntropy_DNA_10_00_256\"                    , \"Nuclei_Texture_SumEntropy_DNA_10_01_256\"                    ,\n",
    " \"Nuclei_Texture_SumEntropy_DNA_10_02_256\"                    , \"Nuclei_Texture_SumEntropy_DNA_3_00_256\"                     , \"Nuclei_Texture_SumEntropy_DNA_3_01_256\"                     , \"Nuclei_Texture_SumEntropy_DNA_3_02_256\"                     ,\n",
    " \"Nuclei_Texture_SumEntropy_DNA_3_03_256\"                     , \"Nuclei_Texture_SumEntropy_DNA_5_00_256\"                     , \"Nuclei_Texture_SumEntropy_DNA_5_01_256\"                     , \"Nuclei_Texture_SumEntropy_DNA_5_02_256\"                     ,\n",
    " \"Nuclei_Texture_SumEntropy_DNA_5_03_256\"                     , \"Nuclei_Texture_SumEntropy_ER_10_00_256\"                     , \"Nuclei_Texture_SumEntropy_ER_10_01_256\"                     , \"Nuclei_Texture_SumEntropy_ER_10_02_256\"                     ,\n",
    " \"Nuclei_Texture_SumEntropy_ER_10_03_256\"                     , \"Nuclei_Texture_SumEntropy_ER_3_00_256\"                      , \"Nuclei_Texture_SumEntropy_ER_3_01_256\"                      , \"Nuclei_Texture_SumEntropy_ER_3_02_256\"                      ,\n",
    " \"Nuclei_Texture_SumEntropy_ER_3_03_256\"                      , \"Nuclei_Texture_SumEntropy_ER_5_00_256\"                      , \"Nuclei_Texture_SumEntropy_ER_5_01_256\"                      , \"Nuclei_Texture_SumEntropy_ER_5_02_256\"                      ,\n",
    " \"Nuclei_Texture_SumEntropy_ER_5_03_256\"                      , \"Nuclei_Texture_SumEntropy_Mito_10_00_256\"                   , \"Nuclei_Texture_SumEntropy_Mito_10_01_256\"                   , \"Nuclei_Texture_SumEntropy_Mito_10_02_256\"                   ,\n",
    " \"Nuclei_Texture_SumEntropy_Mito_10_03_256\"                   , \"Nuclei_Texture_SumEntropy_Mito_3_00_256\"                    , \"Nuclei_Texture_SumEntropy_Mito_3_01_256\"                    , \"Nuclei_Texture_SumEntropy_Mito_3_02_256\"                    ,\n",
    " \"Nuclei_Texture_SumEntropy_Mito_3_03_256\"                    , \"Nuclei_Texture_SumEntropy_Mito_5_00_256\"                    , \"Nuclei_Texture_SumEntropy_Mito_5_01_256\"                    , \"Nuclei_Texture_SumEntropy_Mito_5_02_256\"                    ,\n",
    " \"Nuclei_Texture_SumEntropy_Mito_5_03_256\"                    , \"Nuclei_Texture_SumEntropy_RNA_10_00_256\"                    , \"Nuclei_Texture_SumEntropy_RNA_10_01_256\"                    , \"Nuclei_Texture_SumEntropy_RNA_10_02_256\"                    ,\n",
    " \"Nuclei_Texture_SumEntropy_RNA_10_03_256\"                    , \"Nuclei_Texture_SumEntropy_RNA_3_00_256\"                     , \"Nuclei_Texture_SumEntropy_RNA_3_01_256\"                     , \"Nuclei_Texture_SumEntropy_RNA_3_02_256\"                     ,\n",
    " \"Nuclei_Texture_SumEntropy_RNA_3_03_256\"                     , \"Nuclei_Texture_SumEntropy_RNA_5_00_256\"                     , \"Nuclei_Texture_SumEntropy_RNA_5_01_256\"                     , \"Nuclei_Texture_SumEntropy_RNA_5_02_256\"                     ,\n",
    " \"Nuclei_Texture_SumEntropy_RNA_5_03_256\"                     , \"Nuclei_Texture_SumVariance_AGP_10_00_256\"                   , \"Nuclei_Texture_SumVariance_AGP_10_01_256\"                   , \"Nuclei_Texture_SumVariance_AGP_10_02_256\"                   ,\n",
    " \"Nuclei_Texture_SumVariance_AGP_3_00_256\"                    , \"Nuclei_Texture_SumVariance_AGP_3_01_256\"                    , \"Nuclei_Texture_SumVariance_AGP_3_02_256\"                    , \"Nuclei_Texture_SumVariance_AGP_3_03_256\"                    ,\n",
    " \"Nuclei_Texture_SumVariance_AGP_5_00_256\"                    , \"Nuclei_Texture_SumVariance_AGP_5_01_256\"                    , \"Nuclei_Texture_SumVariance_AGP_5_02_256\"                    , \"Nuclei_Texture_SumVariance_AGP_5_03_256\"                    ,\n",
    " \"Nuclei_Texture_SumVariance_DNA_10_00_256\"                   , \"Nuclei_Texture_SumVariance_DNA_10_01_256\"                   , \"Nuclei_Texture_SumVariance_DNA_10_02_256\"                   , \"Nuclei_Texture_SumVariance_DNA_3_00_256\"                    ,\n",
    " \"Nuclei_Texture_SumVariance_DNA_3_01_256\"                    , \"Nuclei_Texture_SumVariance_DNA_3_02_256\"                    , \"Nuclei_Texture_SumVariance_DNA_3_03_256\"                    , \"Nuclei_Texture_SumVariance_DNA_5_00_256\"                    ,\n",
    " \"Nuclei_Texture_SumVariance_DNA_5_01_256\"                    , \"Nuclei_Texture_SumVariance_DNA_5_02_256\"                    , \"Nuclei_Texture_SumVariance_DNA_5_03_256\"                    , \"Nuclei_Texture_SumVariance_ER_10_00_256\"                    ,\n",
    " \"Nuclei_Texture_SumVariance_ER_10_02_256\"                    , \"Nuclei_Texture_SumVariance_ER_10_03_256\"                    , \"Nuclei_Texture_SumVariance_ER_3_00_256\"                     , \"Nuclei_Texture_SumVariance_ER_3_01_256\"                     ,\n",
    " \"Nuclei_Texture_SumVariance_ER_3_02_256\"                     , \"Nuclei_Texture_SumVariance_ER_3_03_256\"                     , \"Nuclei_Texture_SumVariance_ER_5_00_256\"                     , \"Nuclei_Texture_SumVariance_ER_5_01_256\"                     ,\n",
    " \"Nuclei_Texture_SumVariance_ER_5_02_256\"                     , \"Nuclei_Texture_SumVariance_ER_5_03_256\"                     , \"Nuclei_Texture_SumVariance_Mito_10_00_256\"                  , \"Nuclei_Texture_SumVariance_Mito_10_01_256\"                  ,\n",
    " \"Nuclei_Texture_SumVariance_Mito_10_02_256\"                  , \"Nuclei_Texture_SumVariance_Mito_3_00_256\"                   , \"Nuclei_Texture_SumVariance_Mito_3_01_256\"                   , \"Nuclei_Texture_SumVariance_Mito_3_02_256\"                   ,\n",
    " \"Nuclei_Texture_SumVariance_Mito_3_03_256\"                   , \"Nuclei_Texture_SumVariance_Mito_5_00_256\"                   , \"Nuclei_Texture_SumVariance_Mito_5_01_256\"                   , \"Nuclei_Texture_SumVariance_Mito_5_02_256\"                   ,\n",
    " \"Nuclei_Texture_SumVariance_Mito_5_03_256\"                   , \"Nuclei_Texture_SumVariance_RNA_10_00_256\"                   , \"Nuclei_Texture_SumVariance_RNA_10_02_256\"                   , \"Nuclei_Texture_SumVariance_RNA_10_03_256\"                   ,\n",
    " \"Nuclei_Texture_SumVariance_RNA_3_00_256\"                    , \"Nuclei_Texture_SumVariance_RNA_3_01_256\"                    , \"Nuclei_Texture_SumVariance_RNA_3_02_256\"                    , \"Nuclei_Texture_SumVariance_RNA_3_03_256\"                    ,\n",
    " \"Nuclei_Texture_SumVariance_RNA_5_00_256\"                    , \"Nuclei_Texture_SumVariance_RNA_5_01_256\"                    , \"Nuclei_Texture_SumVariance_RNA_5_02_256\"                    , \"Nuclei_Texture_SumVariance_RNA_5_03_256\"                    ,\n",
    " \"Nuclei_Texture_Variance_AGP_10_00_256\"                      , \"Nuclei_Texture_Variance_AGP_10_01_256\"                      , \"Nuclei_Texture_Variance_AGP_10_02_256\"                      , \"Nuclei_Texture_Variance_AGP_10_03_256\"                      ,\n",
    " \"Nuclei_Texture_Variance_AGP_3_00_256\"                       , \"Nuclei_Texture_Variance_AGP_3_01_256\"                       , \"Nuclei_Texture_Variance_AGP_3_02_256\"                       , \"Nuclei_Texture_Variance_AGP_3_03_256\"                       ,\n",
    " \"Nuclei_Texture_Variance_AGP_5_00_256\"                       , \"Nuclei_Texture_Variance_AGP_5_01_256\"                       , \"Nuclei_Texture_Variance_AGP_5_02_256\"                       , \"Nuclei_Texture_Variance_AGP_5_03_256\"                       ,\n",
    " \"Nuclei_Texture_Variance_DNA_10_00_256\"                      , \"Nuclei_Texture_Variance_DNA_10_01_256\"                      , \"Nuclei_Texture_Variance_DNA_10_02_256\"                      , \"Nuclei_Texture_Variance_DNA_10_03_256\"                      ,\n",
    " \"Nuclei_Texture_Variance_DNA_3_00_256\"                       , \"Nuclei_Texture_Variance_DNA_3_01_256\"                       , \"Nuclei_Texture_Variance_DNA_3_02_256\"                       , \"Nuclei_Texture_Variance_DNA_3_03_256\"                       ,\n",
    " \"Nuclei_Texture_Variance_DNA_5_00_256\"                       , \"Nuclei_Texture_Variance_DNA_5_01_256\"                       , \"Nuclei_Texture_Variance_DNA_5_02_256\"                       , \"Nuclei_Texture_Variance_DNA_5_03_256\"                       ,\n",
    " \"Nuclei_Texture_Variance_ER_10_00_256\"                       , \"Nuclei_Texture_Variance_ER_10_01_256\"                       , \"Nuclei_Texture_Variance_ER_10_02_256\"                       , \"Nuclei_Texture_Variance_ER_10_03_256\"                       ,\n",
    " \"Nuclei_Texture_Variance_ER_3_00_256\"                        , \"Nuclei_Texture_Variance_ER_3_01_256\"                        , \"Nuclei_Texture_Variance_ER_3_02_256\"                        , \"Nuclei_Texture_Variance_ER_3_03_256\"                        ,\n",
    " \"Nuclei_Texture_Variance_ER_5_00_256\"                        , \"Nuclei_Texture_Variance_ER_5_01_256\"                        , \"Nuclei_Texture_Variance_ER_5_02_256\"                        , \"Nuclei_Texture_Variance_ER_5_03_256\"                        ,\n",
    " \"Nuclei_Texture_Variance_Mito_10_00_256\"                     , \"Nuclei_Texture_Variance_Mito_10_01_256\"                     , \"Nuclei_Texture_Variance_Mito_10_02_256\"                     , \"Nuclei_Texture_Variance_Mito_10_03_256\"                     ,\n",
    " \"Nuclei_Texture_Variance_Mito_3_00_256\"                      , \"Nuclei_Texture_Variance_Mito_3_01_256\"                      , \"Nuclei_Texture_Variance_Mito_3_02_256\"                      , \"Nuclei_Texture_Variance_Mito_3_03_256\"                      ,\n",
    " \"Nuclei_Texture_Variance_Mito_5_00_256\"                      , \"Nuclei_Texture_Variance_Mito_5_01_256\"                      , \"Nuclei_Texture_Variance_Mito_5_02_256\"                      , \"Nuclei_Texture_Variance_Mito_5_03_256\"                      ,\n",
    " \"Nuclei_Texture_Variance_RNA_10_00_256\"                      , \"Nuclei_Texture_Variance_RNA_10_01_256\"                      , \"Nuclei_Texture_Variance_RNA_10_02_256\"                      , \"Nuclei_Texture_Variance_RNA_10_03_256\"                      ,\n",
    " \"Nuclei_Texture_Variance_RNA_3_00_256\"                       , \"Nuclei_Texture_Variance_RNA_3_01_256\"                       , \"Nuclei_Texture_Variance_RNA_3_02_256\"                       , \"Nuclei_Texture_Variance_RNA_3_03_256\"                       ,\n",
    " \"Nuclei_Texture_Variance_RNA_5_00_256\"                       , \"Nuclei_Texture_Variance_RNA_5_01_256\"                       , \"Nuclei_Texture_Variance_RNA_5_02_256\"                       , \"Nuclei_Texture_Variance_RNA_5_03_256\"                       \n",
    " }\n",
    "\n",
    "variance_dropped_cols_6 = set()\n"
   ]
  },
  {
   "cell_type": "code",
   "execution_count": 288,
   "id": "41db9676-5c42-4754-aa57-d39005ee4c63",
   "metadata": {
    "execution": {
     "iopub.execute_input": "2024-05-12T11:30:40.578854Z",
     "iopub.status.busy": "2024-05-12T11:30:40.578312Z",
     "iopub.status.idle": "2024-05-12T11:30:40.611051Z",
     "shell.execute_reply": "2024-05-12T11:30:40.610505Z",
     "shell.execute_reply.started": "2024-05-12T11:30:40.578803Z"
    }
   },
   "outputs": [
    {
     "data": {
      "text/plain": [
       "set()"
      ]
     },
     "execution_count": 288,
     "metadata": {},
     "output_type": "execute_result"
    },
    {
     "name": "stdout",
     "output_type": "stream",
     "text": [
      " Number of cols dropped - high correlation: 620\n",
      " Number of cols dropped - low variance    : 0\n",
      " Number of selected cols                  : 160\n",
      " Total                                    : 780\n"
     ]
    }
   ],
   "source": [
    "variance_dropped_cols_6 & correlation_dropped_cols_6\n",
    "print(f\" Number of cols dropped - high correlation: {len(correlation_dropped_cols_6)}\")\n",
    "print(f\" Number of cols dropped - low variance    : {len(variance_dropped_cols_6)}\")\n",
    "print(f\" Number of selected cols                  : {len(selected_cols_6)}\")\n",
    "print(f\" Total                                    : {len(selected_cols_6)+len(correlation_dropped_cols_6)+len(variance_dropped_cols_6)}\")"
   ]
  },
  {
   "cell_type": "code",
   "execution_count": 289,
   "id": "4ebc234b-06f5-4ff5-91a0-c2011cbed1d1",
   "metadata": {
    "execution": {
     "iopub.execute_input": "2024-05-12T11:30:52.153546Z",
     "iopub.status.busy": "2024-05-12T11:30:52.152969Z",
     "iopub.status.idle": "2024-05-12T11:30:52.187032Z",
     "shell.execute_reply": "2024-05-12T11:30:52.186475Z",
     "shell.execute_reply.started": "2024-05-12T11:30:52.153497Z"
    }
   },
   "outputs": [
    {
     "data": {
      "text/plain": [
       "set()"
      ]
     },
     "execution_count": 289,
     "metadata": {},
     "output_type": "execute_result"
    },
    {
     "data": {
      "text/plain": [
       "set()"
      ]
     },
     "execution_count": 289,
     "metadata": {},
     "output_type": "execute_result"
    },
    {
     "data": {
      "text/plain": [
       "set()"
      ]
     },
     "execution_count": 289,
     "metadata": {},
     "output_type": "execute_result"
    }
   ],
   "source": [
    "(correlation_dropped_cols_6) & set(zero_features)\n",
    "(variance_dropped_cols_6) & set(zero_features)\n",
    "(selected_cols_6) & set(zero_features)"
   ]
  },
  {
   "cell_type": "markdown",
   "id": "2e0db9ea-6b12-4884-b1de-b36f22e94e7b",
   "metadata": {
    "execution": {
     "iopub.execute_input": "2024-01-29T10:39:16.560574Z",
     "iopub.status.busy": "2024-01-29T10:39:16.559841Z",
     "iopub.status.idle": "2024-01-29T10:39:16.603678Z",
     "shell.execute_reply": "2024-01-29T10:39:16.602974Z",
     "shell.execute_reply.started": "2024-01-29T10:39:16.560529Z"
    }
   },
   "source": [
    "## Concatenate selected columns from the groups"
   ]
  },
  {
   "cell_type": "code",
   "execution_count": 290,
   "id": "c4539e43-ad59-418c-a1f7-3d83f32888f0",
   "metadata": {
    "execution": {
     "iopub.execute_input": "2024-05-12T11:31:01.845741Z",
     "iopub.status.busy": "2024-05-12T11:31:01.845201Z",
     "iopub.status.idle": "2024-05-12T11:31:01.879118Z",
     "shell.execute_reply": "2024-05-12T11:31:01.878359Z",
     "shell.execute_reply.started": "2024-05-12T11:31:01.845700Z"
    }
   },
   "outputs": [
    {
     "name": "stdout",
     "output_type": "stream",
     "text": [
      "\n",
      " Total selected columns:                    1477\n",
      " Total dropped columns due to correlation:  2193\n",
      " Total dropped columns due to variance:     0\n",
      " Total selected columns:                    1477\n",
      " Total dropped and selected :               3670\n",
      "\n",
      " Error: columns both in dropped and selected:      0\n"
     ]
    }
   ],
   "source": [
    "ttl_selected_cols     = selected_cols_1 | selected_cols_2 | selected_cols_3 | selected_cols_4 | selected_cols_5 | selected_cols_6\n",
    "ttl_corr_dropped_cols = correlation_dropped_cols_1 | correlation_dropped_cols_2 | correlation_dropped_cols_3 | correlation_dropped_cols_4 | correlation_dropped_cols_5 | correlation_dropped_cols_6\n",
    "ttl_var_dropped_cols  = variance_dropped_cols_1 | variance_dropped_cols_2 | variance_dropped_cols_3 | variance_dropped_cols_4 | variance_dropped_cols_5 | variance_dropped_cols_6\n",
    "\n",
    "print()\n",
    "print(f\" Total selected columns:                    {len(ttl_selected_cols)}\")\n",
    "print(f\" Total dropped columns due to correlation:  {len(ttl_corr_dropped_cols)}\")\n",
    "print(f\" Total dropped columns due to variance:     {len(ttl_var_dropped_cols)}\")\n",
    "print(f\" Total selected columns:                    {len(ttl_selected_cols)}\")\n",
    "\n",
    "print(f\" Total dropped and selected :               {len(ttl_corr_dropped_cols) + len(ttl_selected_cols)}\")\n",
    "print()\n",
    "print(f\" Error: columns both in dropped and selected:      {len(ttl_corr_dropped_cols & ttl_selected_cols)}\")"
   ]
  },
  {
   "cell_type": "markdown",
   "id": "dec15320-6529-452f-9e21-eccc44409c30",
   "metadata": {},
   "source": [
    "## Write selected / dropped columns to pickle file"
   ]
  },
  {
   "cell_type": "code",
   "execution_count": 119,
   "id": "40cf6417-0b45-4ada-8f1a-75a47f80c294",
   "metadata": {
    "execution": {
     "iopub.execute_input": "2023-12-16T13:30:14.125561Z",
     "iopub.status.busy": "2023-12-16T13:30:14.124935Z",
     "iopub.status.idle": "2023-12-16T13:30:14.141133Z",
     "shell.execute_reply": "2023-12-16T13:30:14.140438Z",
     "shell.execute_reply.started": "2023-12-16T13:30:14.125539Z"
    }
   },
   "outputs": [],
   "source": [
    "feature_selection_columns = { 'selected': ttl_selected_cols,\n",
    "                              'dropped_correlation': ttl_corr_dropped_cols,\n",
    "                              'dropped_variance': set()}\n",
    "import pickle\n",
    "with open(\"./metadata/feature_selection_columns.pkl\", 'wb') as f: \n",
    "    pickle.dump(feature_selection_columns,f)"
   ]
  },
  {
   "cell_type": "code",
   "execution_count": 122,
   "id": "365c9257-f900-4306-b443-44354e17b53b",
   "metadata": {
    "execution": {
     "iopub.execute_input": "2023-12-16T13:32:07.738114Z",
     "iopub.status.busy": "2023-12-16T13:32:07.737877Z",
     "iopub.status.idle": "2023-12-16T13:32:07.751863Z",
     "shell.execute_reply": "2023-12-16T13:32:07.751114Z",
     "shell.execute_reply.started": "2023-12-16T13:32:07.738100Z"
    }
   },
   "outputs": [
    {
     "name": "stdout",
     "output_type": "stream",
     "text": [
      " selected    1477 \n",
      " dropped_correlation    2193 \n",
      " dropped_variance    0 \n"
     ]
    }
   ],
   "source": [
    "with open(\"./metadata/feature_selection_columns.pkl\", 'rb') as f: \n",
    "    x = pickle.load(f)\n",
    "for i in x:\n",
    "    print(f\" {i}    {len(x[i])} \")"
   ]
  },
  {
   "cell_type": "markdown",
   "id": "4d00df3d-af24-49a6-8b63-7b9d5620c129",
   "metadata": {
    "jp-MarkdownHeadingCollapsed": true
   },
   "source": [
    "# Write profiles to separate files based on `Metadata_Bin` \n",
    "\n",
    "  ### Used for XGBoost and Dask Clusters "
   ]
  },
  {
   "cell_type": "markdown",
   "id": "e59ee884-4b28-4033-811c-fc86a895096f",
   "metadata": {
    "jp-MarkdownHeadingCollapsed": true
   },
   "source": [
    "## Create Dask Clusters "
   ]
  },
  {
   "cell_type": "code",
   "execution_count": 45,
   "id": "9ef860ec-716f-407b-a8fc-a4faebb58cf6",
   "metadata": {
    "execution": {
     "iopub.execute_input": "2024-04-23T19:27:29.950867Z",
     "iopub.status.busy": "2024-04-23T19:27:29.950386Z",
     "iopub.status.idle": "2024-04-23T19:27:30.461459Z",
     "shell.execute_reply": "2024-04-23T19:27:30.460543Z",
     "shell.execute_reply.started": "2024-04-23T19:27:29.950824Z"
    },
    "lines_to_next_cell": 2
   },
   "outputs": [
    {
     "name": "stdout",
     "output_type": "stream",
     "text": [
      " *** Cluster close succeeded ***\n",
      "\n"
     ]
    },
    {
     "ename": "NameError",
     "evalue": "name 'cluster' is not defined",
     "output_type": "error",
     "traceback": [
      "\u001b[0;31m---------------------------------------------------------------------------\u001b[0m",
      "\u001b[0;31mNameError\u001b[0m                                 Traceback (most recent call last)",
      "Cell \u001b[0;32mIn[45], line 15\u001b[0m\n\u001b[1;32m     11\u001b[0m     \u001b[38;5;28mprint\u001b[39m(\u001b[38;5;124m\"\u001b[39m\u001b[38;5;124m *** Cluster close succeeded ***\u001b[39m\u001b[38;5;130;01m\\n\u001b[39;00m\u001b[38;5;124m\"\u001b[39m)\n\u001b[1;32m     12\u001b[0m \u001b[38;5;28;01mfinally\u001b[39;00m:\n\u001b[1;32m     13\u001b[0m     \u001b[38;5;66;03m# cluster = LocalCUDACluster( CUDA_VISIBLE_DEVICES=[0,1,2], n_workers=n_workers, threads_per_worker= n_threads, silence_logs = logging.WARNING)\u001b[39;00m\n\u001b[1;32m     14\u001b[0m     \u001b[38;5;66;03m# cluster = LocalCluster(n_workers=n_workers, threads_per_worker= n_threads, silence_logs = logging.WARNING)\u001b[39;00m\n\u001b[0;32m---> 15\u001b[0m     \u001b[38;5;28mprint\u001b[39m(\u001b[38;5;124mf\u001b[39m\u001b[38;5;124m\"\u001b[39m\u001b[38;5;130;01m\\n\u001b[39;00m\u001b[38;5;124m *** Cluster created - Cluster dashboard link : \u001b[39m\u001b[38;5;132;01m{\u001b[39;00m\u001b[43mcluster\u001b[49m\u001b[38;5;241m.\u001b[39mdashboard_link\u001b[38;5;132;01m}\u001b[39;00m\u001b[38;5;124m\"\u001b[39m)\n",
      "\u001b[0;31mNameError\u001b[0m: name 'cluster' is not defined"
     ]
    }
   ],
   "source": [
    "n_workers = 3\n",
    "n_threads = 2\n",
    "cuda_visible_devices = [0,1,2]\n",
    "\n",
    "try:\n",
    "    cluster.close()\n",
    "    del cluster\n",
    "except Exception as e:\n",
    "    print(\" *** Cluster close failed ***\")\n",
    "else:\n",
    "    print(\" *** Cluster close succeeded ***\\n\")\n",
    "finally:\n",
    "    # cluster = LocalCUDACluster( CUDA_VISIBLE_DEVICES=[0,1,2], n_workers=n_workers, threads_per_worker= n_threads, silence_logs = logging.WARNING)\n",
    "    cluster = LocalCluster(n_workers=n_workers, threads_per_worker= n_threads, silence_logs = logging.WARNING)\n",
    "    print(f\"\\n *** Cluster created - Cluster dashboard link : {cluster.dashboard_link}\")"
   ]
  },
  {
   "cell_type": "code",
   "execution_count": 44,
   "id": "7cd48d2b-a0fa-4f92-862a-61bcf26fa542",
   "metadata": {
    "execution": {
     "iopub.execute_input": "2024-04-23T19:27:20.091285Z",
     "iopub.status.busy": "2024-04-23T19:27:20.090811Z",
     "iopub.status.idle": "2024-04-23T19:27:20.172269Z",
     "shell.execute_reply": "2024-04-23T19:27:20.171701Z",
     "shell.execute_reply.started": "2024-04-23T19:27:20.091243Z"
    }
   },
   "outputs": [
    {
     "name": "stdout",
     "output_type": "stream",
     "text": [
      " *** Client close succeeded *** \n",
      "\n",
      " *** Client created *** \n"
     ]
    },
    {
     "data": {
      "text/html": [
       "<div>\n",
       "    <div style=\"width: 24px; height: 24px; background-color: #e1e1e1; border: 3px solid #9D9D9D; border-radius: 5px; position: absolute;\"> </div>\n",
       "    <div style=\"margin-left: 48px;\">\n",
       "        <h3 style=\"margin-bottom: 0px;\">Client</h3>\n",
       "        <p style=\"color: #9D9D9D; margin-bottom: 0px;\">Client-80a76b83-01a7-11ef-858e-d094663cecfa</p>\n",
       "        <table style=\"width: 100%; text-align: left;\">\n",
       "\n",
       "        <tr>\n",
       "        \n",
       "            <td style=\"text-align: left;\"><strong>Connection method:</strong> Cluster object</td>\n",
       "            <td style=\"text-align: left;\"><strong>Cluster type:</strong> distributed.LocalCluster</td>\n",
       "        \n",
       "        </tr>\n",
       "\n",
       "        \n",
       "            <tr>\n",
       "                <td style=\"text-align: left;\">\n",
       "                    <strong>Dashboard: </strong> <a href=\"http://127.0.0.1:45785/status\" target=\"_blank\">http://127.0.0.1:45785/status</a>\n",
       "                </td>\n",
       "                <td style=\"text-align: left;\"></td>\n",
       "            </tr>\n",
       "        \n",
       "\n",
       "        </table>\n",
       "\n",
       "        \n",
       "\n",
       "        \n",
       "            <details>\n",
       "            <summary style=\"margin-bottom: 20px;\"><h3 style=\"display: inline;\">Cluster Info</h3></summary>\n",
       "            <div class=\"jp-RenderedHTMLCommon jp-RenderedHTML jp-mod-trusted jp-OutputArea-output\">\n",
       "    <div style=\"width: 24px; height: 24px; background-color: #e1e1e1; border: 3px solid #9D9D9D; border-radius: 5px; position: absolute;\">\n",
       "    </div>\n",
       "    <div style=\"margin-left: 48px;\">\n",
       "        <h3 style=\"margin-bottom: 0px; margin-top: 0px;\">LocalCluster</h3>\n",
       "        <p style=\"color: #9D9D9D; margin-bottom: 0px;\">dc5f0155</p>\n",
       "        <table style=\"width: 100%; text-align: left;\">\n",
       "            <tr>\n",
       "                <td style=\"text-align: left;\">\n",
       "                    <strong>Dashboard:</strong> <a href=\"http://127.0.0.1:45785/status\" target=\"_blank\">http://127.0.0.1:45785/status</a>\n",
       "                </td>\n",
       "                <td style=\"text-align: left;\">\n",
       "                    <strong>Workers:</strong> 3\n",
       "                </td>\n",
       "            </tr>\n",
       "            <tr>\n",
       "                <td style=\"text-align: left;\">\n",
       "                    <strong>Total threads:</strong> 6\n",
       "                </td>\n",
       "                <td style=\"text-align: left;\">\n",
       "                    <strong>Total memory:</strong> 64.00 GiB\n",
       "                </td>\n",
       "            </tr>\n",
       "            \n",
       "            <tr>\n",
       "    <td style=\"text-align: left;\"><strong>Status:</strong> running</td>\n",
       "    <td style=\"text-align: left;\"><strong>Using processes:</strong> True</td>\n",
       "</tr>\n",
       "\n",
       "            \n",
       "        </table>\n",
       "\n",
       "        <details>\n",
       "            <summary style=\"margin-bottom: 20px;\">\n",
       "                <h3 style=\"display: inline;\">Scheduler Info</h3>\n",
       "            </summary>\n",
       "\n",
       "            <div style=\"\">\n",
       "    <div>\n",
       "        <div style=\"width: 24px; height: 24px; background-color: #FFF7E5; border: 3px solid #FF6132; border-radius: 5px; position: absolute;\"> </div>\n",
       "        <div style=\"margin-left: 48px;\">\n",
       "            <h3 style=\"margin-bottom: 0px;\">Scheduler</h3>\n",
       "            <p style=\"color: #9D9D9D; margin-bottom: 0px;\">Scheduler-5cb9d678-b285-4d35-935f-eb52a43fe502</p>\n",
       "            <table style=\"width: 100%; text-align: left;\">\n",
       "                <tr>\n",
       "                    <td style=\"text-align: left;\">\n",
       "                        <strong>Comm:</strong> tcp://127.0.0.1:36569\n",
       "                    </td>\n",
       "                    <td style=\"text-align: left;\">\n",
       "                        <strong>Workers:</strong> 3\n",
       "                    </td>\n",
       "                </tr>\n",
       "                <tr>\n",
       "                    <td style=\"text-align: left;\">\n",
       "                        <strong>Dashboard:</strong> <a href=\"http://127.0.0.1:45785/status\" target=\"_blank\">http://127.0.0.1:45785/status</a>\n",
       "                    </td>\n",
       "                    <td style=\"text-align: left;\">\n",
       "                        <strong>Total threads:</strong> 6\n",
       "                    </td>\n",
       "                </tr>\n",
       "                <tr>\n",
       "                    <td style=\"text-align: left;\">\n",
       "                        <strong>Started:</strong> 4 minutes ago\n",
       "                    </td>\n",
       "                    <td style=\"text-align: left;\">\n",
       "                        <strong>Total memory:</strong> 64.00 GiB\n",
       "                    </td>\n",
       "                </tr>\n",
       "            </table>\n",
       "        </div>\n",
       "    </div>\n",
       "\n",
       "    <details style=\"margin-left: 48px;\">\n",
       "        <summary style=\"margin-bottom: 20px;\">\n",
       "            <h3 style=\"display: inline;\">Workers</h3>\n",
       "        </summary>\n",
       "\n",
       "        \n",
       "        <div style=\"margin-bottom: 20px;\">\n",
       "            <div style=\"width: 24px; height: 24px; background-color: #DBF5FF; border: 3px solid #4CC9FF; border-radius: 5px; position: absolute;\"> </div>\n",
       "            <div style=\"margin-left: 48px;\">\n",
       "            <details>\n",
       "                <summary>\n",
       "                    <h4 style=\"margin-bottom: 0px; display: inline;\">Worker: 0</h4>\n",
       "                </summary>\n",
       "                <table style=\"width: 100%; text-align: left;\">\n",
       "                    <tr>\n",
       "                        <td style=\"text-align: left;\">\n",
       "                            <strong>Comm: </strong> tcp://127.0.0.1:38879\n",
       "                        </td>\n",
       "                        <td style=\"text-align: left;\">\n",
       "                            <strong>Total threads: </strong> 2\n",
       "                        </td>\n",
       "                    </tr>\n",
       "                    <tr>\n",
       "                        <td style=\"text-align: left;\">\n",
       "                            <strong>Dashboard: </strong> <a href=\"http://127.0.0.1:39267/status\" target=\"_blank\">http://127.0.0.1:39267/status</a>\n",
       "                        </td>\n",
       "                        <td style=\"text-align: left;\">\n",
       "                            <strong>Memory: </strong> 21.33 GiB\n",
       "                        </td>\n",
       "                    </tr>\n",
       "                    <tr>\n",
       "                        <td style=\"text-align: left;\">\n",
       "                            <strong>Nanny: </strong> tcp://127.0.0.1:39665\n",
       "                        </td>\n",
       "                        <td style=\"text-align: left;\"></td>\n",
       "                    </tr>\n",
       "                    <tr>\n",
       "                        <td colspan=\"2\" style=\"text-align: left;\">\n",
       "                            <strong>Local directory: </strong> /tmp/dask-scratch-space/worker-grhvwmd_\n",
       "                        </td>\n",
       "                    </tr>\n",
       "\n",
       "                    \n",
       "                    <tr>\n",
       "                        <td style=\"text-align: left;\">\n",
       "                            <strong>GPU: </strong>NVIDIA TITAN Xp\n",
       "                        </td>\n",
       "                        <td style=\"text-align: left;\">\n",
       "                            <strong>GPU memory: </strong> 12.00 GiB\n",
       "                        </td>\n",
       "                    </tr>\n",
       "                    \n",
       "\n",
       "                    \n",
       "\n",
       "                </table>\n",
       "            </details>\n",
       "            </div>\n",
       "        </div>\n",
       "        \n",
       "        <div style=\"margin-bottom: 20px;\">\n",
       "            <div style=\"width: 24px; height: 24px; background-color: #DBF5FF; border: 3px solid #4CC9FF; border-radius: 5px; position: absolute;\"> </div>\n",
       "            <div style=\"margin-left: 48px;\">\n",
       "            <details>\n",
       "                <summary>\n",
       "                    <h4 style=\"margin-bottom: 0px; display: inline;\">Worker: 1</h4>\n",
       "                </summary>\n",
       "                <table style=\"width: 100%; text-align: left;\">\n",
       "                    <tr>\n",
       "                        <td style=\"text-align: left;\">\n",
       "                            <strong>Comm: </strong> tcp://127.0.0.1:33175\n",
       "                        </td>\n",
       "                        <td style=\"text-align: left;\">\n",
       "                            <strong>Total threads: </strong> 2\n",
       "                        </td>\n",
       "                    </tr>\n",
       "                    <tr>\n",
       "                        <td style=\"text-align: left;\">\n",
       "                            <strong>Dashboard: </strong> <a href=\"http://127.0.0.1:46827/status\" target=\"_blank\">http://127.0.0.1:46827/status</a>\n",
       "                        </td>\n",
       "                        <td style=\"text-align: left;\">\n",
       "                            <strong>Memory: </strong> 21.33 GiB\n",
       "                        </td>\n",
       "                    </tr>\n",
       "                    <tr>\n",
       "                        <td style=\"text-align: left;\">\n",
       "                            <strong>Nanny: </strong> tcp://127.0.0.1:38521\n",
       "                        </td>\n",
       "                        <td style=\"text-align: left;\"></td>\n",
       "                    </tr>\n",
       "                    <tr>\n",
       "                        <td colspan=\"2\" style=\"text-align: left;\">\n",
       "                            <strong>Local directory: </strong> /tmp/dask-scratch-space/worker-8tzx2nsz\n",
       "                        </td>\n",
       "                    </tr>\n",
       "\n",
       "                    \n",
       "                    <tr>\n",
       "                        <td style=\"text-align: left;\">\n",
       "                            <strong>GPU: </strong>NVIDIA TITAN Xp\n",
       "                        </td>\n",
       "                        <td style=\"text-align: left;\">\n",
       "                            <strong>GPU memory: </strong> 12.00 GiB\n",
       "                        </td>\n",
       "                    </tr>\n",
       "                    \n",
       "\n",
       "                    \n",
       "\n",
       "                </table>\n",
       "            </details>\n",
       "            </div>\n",
       "        </div>\n",
       "        \n",
       "        <div style=\"margin-bottom: 20px;\">\n",
       "            <div style=\"width: 24px; height: 24px; background-color: #DBF5FF; border: 3px solid #4CC9FF; border-radius: 5px; position: absolute;\"> </div>\n",
       "            <div style=\"margin-left: 48px;\">\n",
       "            <details>\n",
       "                <summary>\n",
       "                    <h4 style=\"margin-bottom: 0px; display: inline;\">Worker: 2</h4>\n",
       "                </summary>\n",
       "                <table style=\"width: 100%; text-align: left;\">\n",
       "                    <tr>\n",
       "                        <td style=\"text-align: left;\">\n",
       "                            <strong>Comm: </strong> tcp://127.0.0.1:37561\n",
       "                        </td>\n",
       "                        <td style=\"text-align: left;\">\n",
       "                            <strong>Total threads: </strong> 2\n",
       "                        </td>\n",
       "                    </tr>\n",
       "                    <tr>\n",
       "                        <td style=\"text-align: left;\">\n",
       "                            <strong>Dashboard: </strong> <a href=\"http://127.0.0.1:40645/status\" target=\"_blank\">http://127.0.0.1:40645/status</a>\n",
       "                        </td>\n",
       "                        <td style=\"text-align: left;\">\n",
       "                            <strong>Memory: </strong> 21.33 GiB\n",
       "                        </td>\n",
       "                    </tr>\n",
       "                    <tr>\n",
       "                        <td style=\"text-align: left;\">\n",
       "                            <strong>Nanny: </strong> tcp://127.0.0.1:42771\n",
       "                        </td>\n",
       "                        <td style=\"text-align: left;\"></td>\n",
       "                    </tr>\n",
       "                    <tr>\n",
       "                        <td colspan=\"2\" style=\"text-align: left;\">\n",
       "                            <strong>Local directory: </strong> /tmp/dask-scratch-space/worker-ecomiw_x\n",
       "                        </td>\n",
       "                    </tr>\n",
       "\n",
       "                    \n",
       "                    <tr>\n",
       "                        <td style=\"text-align: left;\">\n",
       "                            <strong>GPU: </strong>NVIDIA TITAN Xp\n",
       "                        </td>\n",
       "                        <td style=\"text-align: left;\">\n",
       "                            <strong>GPU memory: </strong> 12.00 GiB\n",
       "                        </td>\n",
       "                    </tr>\n",
       "                    \n",
       "\n",
       "                    \n",
       "\n",
       "                </table>\n",
       "            </details>\n",
       "            </div>\n",
       "        </div>\n",
       "        \n",
       "\n",
       "    </details>\n",
       "</div>\n",
       "\n",
       "        </details>\n",
       "    </div>\n",
       "</div>\n",
       "            </details>\n",
       "        \n",
       "\n",
       "    </div>\n",
       "</div>"
      ],
      "text/plain": [
       "<Client: 'tcp://127.0.0.1:36569' processes=3 threads=6, memory=64.00 GiB>"
      ]
     },
     "execution_count": 44,
     "metadata": {},
     "output_type": "execute_result"
    }
   ],
   "source": [
    "try:\n",
    "    client.close()\n",
    "    del client\n",
    "except Exception as e:\n",
    "    print(\" *** Client close failed *** \")\n",
    "else:\n",
    "    print(\" *** Client close succeeded *** \")\n",
    "finally:\n",
    "    client = Client(cluster)    \n",
    "    print(\"\\n *** Client created *** \")\n",
    "    client"
   ]
  },
  {
   "cell_type": "markdown",
   "id": "b28c02d3-f270-4df0-8555-c44fdd5022ee",
   "metadata": {
    "jp-MarkdownHeadingCollapsed": true
   },
   "source": [
    "## Create n = 12 output files for the 12 output buckets:"
   ]
  },
  {
   "cell_type": "code",
   "execution_count": 38,
   "id": "b55a26d2-5b8d-4c7f-aa8e-c0ca6d6b1fd1",
   "metadata": {
    "execution": {
     "iopub.execute_input": "2024-04-23T19:23:33.148184Z",
     "iopub.status.busy": "2024-04-23T19:23:33.147693Z",
     "iopub.status.idle": "2024-04-23T19:23:33.186031Z",
     "shell.execute_reply": "2024-04-23T19:23:33.185311Z",
     "shell.execute_reply.started": "2024-04-23T19:23:33.148142Z"
    }
   },
   "outputs": [
    {
     "name": "stdout",
     "output_type": "stream",
     "text": [
      "  -->    ./output_11102023/3_sample_profiles/3sample_profiles_1482_bin_000.csv\n",
      "  -->    ./output_11102023/3_sample_profiles/3sample_profiles_1482_bin_001.csv\n",
      "  -->    ./output_11102023/3_sample_profiles/3sample_profiles_1482_bin_002.csv\n",
      "  -->    ./output_11102023/3_sample_profiles/3sample_profiles_1482_bin_003.csv\n",
      "  -->    ./output_11102023/3_sample_profiles/3sample_profiles_1482_bin_004.csv\n",
      "  -->    ./output_11102023/3_sample_profiles/3sample_profiles_1482_bin_005.csv\n",
      "  -->    ./output_11102023/3_sample_profiles/3sample_profiles_1482_bin_006.csv\n",
      "  -->    ./output_11102023/3_sample_profiles/3sample_profiles_1482_bin_007.csv\n",
      "  -->    ./output_11102023/3_sample_profiles/3sample_profiles_1482_bin_008.csv\n",
      "  -->    ./output_11102023/3_sample_profiles/3sample_profiles_1482_bin_009.csv\n",
      "  -->    ./output_11102023/3_sample_profiles/3sample_profiles_1482_bin_010.csv\n",
      "  -->    ./output_11102023/3_sample_profiles/3sample_profiles_1482_bin_011.csv\n"
     ]
    }
   ],
   "source": [
    "NUMBER_OF_BINS = 12\n",
    "input_files = []\n",
    "output_files = []\n",
    "for i in range(NUMBER_OF_BINS):\n",
    "    # inputFile = os.path.join('./output_11102023/', '3_sample_profiles', f\"3sample_profiles_{i:03d}.csv\")\n",
    "    outputFile = os.path.join('./output_11102023/', '3_sample_profiles', f\"3sample_profiles_1482_bin_{i:03d}.csv\")\n",
    "    # print(outputFile)\n",
    "    # input_files.append(inputFile)\n",
    "    output_files.append(outputFile)\n",
    "for i in range(NUMBER_OF_BINS):\n",
    "    print(f\"  -->    {output_files[i]:65s}\")\n",
    "# print(output_files)"
   ]
  },
  {
   "cell_type": "markdown",
   "id": "b9db8d22-df0a-4a66-a9d4-34cf27c31a5d",
   "metadata": {},
   "source": [
    "## Read input files "
   ]
  },
  {
   "cell_type": "code",
   "execution_count": 39,
   "id": "49f6810e-89b0-4a7b-8c22-9f4b086e5971",
   "metadata": {
    "execution": {
     "iopub.execute_input": "2024-04-23T19:24:38.274233Z",
     "iopub.status.busy": "2024-04-23T19:24:38.272676Z",
     "iopub.status.idle": "2024-04-23T19:24:38.324191Z",
     "shell.execute_reply": "2024-04-23T19:24:38.322628Z",
     "shell.execute_reply.started": "2024-04-23T19:24:38.274171Z"
    }
   },
   "outputs": [],
   "source": [
    "# profileInputFiles = './output_11102023/profiles/compound_profiles_2samples_001.csv'\n",
    "# profileInputFiles = './output_11102023/profiles/compound_profiles_2samples_002.csv'\n",
    "# MetadataColumns\n",
    "profileInputFiles = './output_11102023/3_sample_profiles/3sample_profiles_1482_Unordered.csv'\n",
    "category_conversions  = {\"Metadata_Source\":'category', \"Metadata_Batch\":'category' ,\"Metadata_Plate\":'category' , \"Metadata_Well\":'category'}\n",
    "string_conversions    = {\"Metadata_Source\": 'string', \"Metadata_Batch\":'string' ,\"Metadata_Plate\":'string' , \"Metadata_Well\":'string'}"
   ]
  },
  {
   "cell_type": "code",
   "execution_count": 40,
   "id": "eaa495aa-a710-442b-9796-b620d8bcf246",
   "metadata": {
    "execution": {
     "iopub.execute_input": "2024-04-23T19:24:40.897072Z",
     "iopub.status.busy": "2024-04-23T19:24:40.896510Z",
     "iopub.status.idle": "2024-04-23T19:24:44.878778Z",
     "shell.execute_reply": "2024-04-23T19:24:44.878079Z",
     "shell.execute_reply.started": "2024-04-23T19:24:40.897031Z"
    }
   },
   "outputs": [
    {
     "name": "stderr",
     "output_type": "stream",
     "text": [
      "2024-04-23 21:24:40,927 - INFO: -  Read profiles file ...\n",
      "2024-04-23 21:24:41,100 - INFO: -  Read profiles file ... complete\n"
     ]
    },
    {
     "name": "stdout",
     "output_type": "stream",
     "text": [
      " Reading cell profiles file :  ./output_11102023/3_sample_profiles/3sample_profiles_1482_Unordered.csv    {}\n",
      " Reading ALL  rows - Number of partitions:  156   \n",
      "\n"
     ]
    },
    {
     "name": "stderr",
     "output_type": "stream",
     "text": [
      "/home/kevin/miniforge3/envs/cp311/lib/python3.11/site-packages/dask/dataframe/_pyarrow_compat.py:17: FutureWarning: Minimal version of pyarrow will soon be increased to 14.0.1. You are using 11.0.0. Please consider upgrading.\n",
      "  warnings.warn(\n"
     ]
    },
    {
     "data": {
      "text/html": [
       "<div>\n",
       "<style scoped>\n",
       "    .dataframe tbody tr th:only-of-type {\n",
       "        vertical-align: middle;\n",
       "    }\n",
       "\n",
       "    .dataframe tbody tr th {\n",
       "        vertical-align: top;\n",
       "    }\n",
       "\n",
       "    .dataframe thead th {\n",
       "        text-align: right;\n",
       "    }\n",
       "</style>\n",
       "<table border=\"1\" class=\"dataframe\">\n",
       "  <thead>\n",
       "    <tr style=\"text-align: right;\">\n",
       "      <th></th>\n",
       "      <th>Metadata_Source</th>\n",
       "      <th>Metadata_Batch</th>\n",
       "      <th>Metadata_Plate</th>\n",
       "      <th>Metadata_Well</th>\n",
       "      <th>Metadata_JCP2022</th>\n",
       "      <th>Metadata_Hash</th>\n",
       "      <th>Metadata_Bin</th>\n",
       "      <th>Metadata_TPSA</th>\n",
       "      <th>Metadata_lnTPSA</th>\n",
       "      <th>Metadata_log10TPSA</th>\n",
       "      <th>...</th>\n",
       "      <th>Nuclei_Texture_SumAverage_DNA_10_01_256</th>\n",
       "      <th>Nuclei_Texture_SumAverage_ER_10_01_256</th>\n",
       "      <th>Nuclei_Texture_SumAverage_Mito_10_01_256</th>\n",
       "      <th>Nuclei_Texture_SumAverage_RNA_10_01_256</th>\n",
       "      <th>Nuclei_Texture_SumEntropy_DNA_10_03_256</th>\n",
       "      <th>Nuclei_Texture_SumVariance_AGP_10_03_256</th>\n",
       "      <th>Nuclei_Texture_SumVariance_DNA_10_03_256</th>\n",
       "      <th>Nuclei_Texture_SumVariance_ER_10_01_256</th>\n",
       "      <th>Nuclei_Texture_SumVariance_Mito_10_03_256</th>\n",
       "      <th>Nuclei_Texture_SumVariance_RNA_10_01_256</th>\n",
       "    </tr>\n",
       "  </thead>\n",
       "  <tbody>\n",
       "    <tr>\n",
       "      <th>0</th>\n",
       "      <td>source_1</td>\n",
       "      <td>Batch1_20221004</td>\n",
       "      <td>UL001641</td>\n",
       "      <td>AA40</td>\n",
       "      <td>JCP2022_000082</td>\n",
       "      <td>-1920040449369071690</td>\n",
       "      <td>6</td>\n",
       "      <td>64.89</td>\n",
       "      <td>4.172694</td>\n",
       "      <td>1.812178</td>\n",
       "      <td>...</td>\n",
       "      <td>0.438577</td>\n",
       "      <td>-0.051575</td>\n",
       "      <td>0.279409</td>\n",
       "      <td>0.767113</td>\n",
       "      <td>0.143125</td>\n",
       "      <td>0.498506</td>\n",
       "      <td>-0.147239</td>\n",
       "      <td>-0.072483</td>\n",
       "      <td>0.059082</td>\n",
       "      <td>0.547492</td>\n",
       "    </tr>\n",
       "    <tr>\n",
       "      <th>1</th>\n",
       "      <td>source_1</td>\n",
       "      <td>Batch1_20221004</td>\n",
       "      <td>UL001641</td>\n",
       "      <td>Z22</td>\n",
       "      <td>JCP2022_000137</td>\n",
       "      <td>-9070688483616626497</td>\n",
       "      <td>15</td>\n",
       "      <td>60.28</td>\n",
       "      <td>4.099000</td>\n",
       "      <td>1.780173</td>\n",
       "      <td>...</td>\n",
       "      <td>0.522905</td>\n",
       "      <td>0.206919</td>\n",
       "      <td>-0.737207</td>\n",
       "      <td>0.050593</td>\n",
       "      <td>0.889717</td>\n",
       "      <td>-0.436981</td>\n",
       "      <td>0.109206</td>\n",
       "      <td>-0.024600</td>\n",
       "      <td>-0.490239</td>\n",
       "      <td>-0.262859</td>\n",
       "    </tr>\n",
       "    <tr>\n",
       "      <th>2</th>\n",
       "      <td>source_1</td>\n",
       "      <td>Batch1_20221004</td>\n",
       "      <td>UL001641</td>\n",
       "      <td>Z32</td>\n",
       "      <td>JCP2022_000428</td>\n",
       "      <td>4317235005617559002</td>\n",
       "      <td>10</td>\n",
       "      <td>94.53</td>\n",
       "      <td>4.548917</td>\n",
       "      <td>1.975570</td>\n",
       "      <td>...</td>\n",
       "      <td>0.258570</td>\n",
       "      <td>0.235806</td>\n",
       "      <td>0.430072</td>\n",
       "      <td>0.565591</td>\n",
       "      <td>0.588245</td>\n",
       "      <td>-0.338327</td>\n",
       "      <td>-0.014979</td>\n",
       "      <td>0.087962</td>\n",
       "      <td>-0.005913</td>\n",
       "      <td>0.229194</td>\n",
       "    </tr>\n",
       "  </tbody>\n",
       "</table>\n",
       "<p>3 rows × 1482 columns</p>\n",
       "</div>"
      ],
      "text/plain": [
       "  Metadata_Source   Metadata_Batch Metadata_Plate Metadata_Well Metadata_JCP2022        Metadata_Hash  Metadata_Bin  Metadata_TPSA  \\\n",
       "0        source_1  Batch1_20221004       UL001641          AA40   JCP2022_000082 -1920040449369071690             6          64.89   \n",
       "1        source_1  Batch1_20221004       UL001641           Z22   JCP2022_000137 -9070688483616626497            15          60.28   \n",
       "2        source_1  Batch1_20221004       UL001641           Z32   JCP2022_000428  4317235005617559002            10          94.53   \n",
       "\n",
       "   Metadata_lnTPSA  Metadata_log10TPSA  ...  Nuclei_Texture_SumAverage_DNA_10_01_256  Nuclei_Texture_SumAverage_ER_10_01_256  \\\n",
       "0         4.172694            1.812178  ...                                 0.438577                               -0.051575   \n",
       "1         4.099000            1.780173  ...                                 0.522905                                0.206919   \n",
       "2         4.548917            1.975570  ...                                 0.258570                                0.235806   \n",
       "\n",
       "   Nuclei_Texture_SumAverage_Mito_10_01_256  Nuclei_Texture_SumAverage_RNA_10_01_256  Nuclei_Texture_SumEntropy_DNA_10_03_256  \\\n",
       "0                                  0.279409                                 0.767113                                 0.143125   \n",
       "1                                 -0.737207                                 0.050593                                 0.889717   \n",
       "2                                  0.430072                                 0.565591                                 0.588245   \n",
       "\n",
       "   Nuclei_Texture_SumVariance_AGP_10_03_256  Nuclei_Texture_SumVariance_DNA_10_03_256  Nuclei_Texture_SumVariance_ER_10_01_256  \\\n",
       "0                                  0.498506                                 -0.147239                                -0.072483   \n",
       "1                                 -0.436981                                  0.109206                                -0.024600   \n",
       "2                                 -0.338327                                 -0.014979                                 0.087962   \n",
       "\n",
       "   Nuclei_Texture_SumVariance_Mito_10_03_256  Nuclei_Texture_SumVariance_RNA_10_01_256  \n",
       "0                                   0.059082                                  0.547492  \n",
       "1                                  -0.490239                                 -0.262859  \n",
       "2                                  -0.005913                                  0.229194  \n",
       "\n",
       "[3 rows x 1482 columns]"
      ]
     },
     "execution_count": 40,
     "metadata": {},
     "output_type": "execute_result"
    }
   ],
   "source": [
    "# del df_profiles\n",
    "# df_profiles = read_cell_profiles(profileInputFiles)\n",
    "logging.info(f\" Read profiles file ...\")\n",
    "df_profiles = read_cell_profiles(profileInputFiles, \n",
    "                                 # names = COMPOUND_PROFILE_COLUMNS, \n",
    "                                 dtype= string_conversions,\n",
    "                                )\n",
    "# df_profiles = read_cell_profiles(profileInputFiles, rows = 200000, names = all_columns, usecols = Xy_columns, dtype = Xy_columns_dtype)\n",
    "logging.info(f\" Read profiles file ... complete\")\n",
    "\n",
    "df_profiles.head(3)"
   ]
  },
  {
   "cell_type": "code",
   "execution_count": 41,
   "id": "13ac2eb7-ed9f-4d57-836a-bc4ea30aaa54",
   "metadata": {
    "execution": {
     "iopub.execute_input": "2024-04-23T19:25:04.078019Z",
     "iopub.status.busy": "2024-04-23T19:25:04.077531Z",
     "iopub.status.idle": "2024-04-23T19:25:04.131185Z",
     "shell.execute_reply": "2024-04-23T19:25:04.130294Z",
     "shell.execute_reply.started": "2024-04-23T19:25:04.077978Z"
    }
   },
   "outputs": [
    {
     "data": {
      "text/plain": [
       "(Delayed('int-9068b106-62f5-44b7-b64a-65d0267846c9'), 1482)"
      ]
     },
     "execution_count": 41,
     "metadata": {},
     "output_type": "execute_result"
    },
    {
     "data": {
      "text/plain": [
       "Dask Series Structure:\n",
       "npartitions=1\n",
       "    int64\n",
       "      ...\n",
       "Name: count, dtype: int64\n",
       "Dask Name: value-counts-agg, 4 graph layers"
      ]
     },
     "execution_count": 41,
     "metadata": {},
     "output_type": "execute_result"
    }
   ],
   "source": [
    "df_profiles.shape\n",
    "df_profiles.Metadata_Bin.value_counts()\n",
    "# df_profiles.info(verbose = True)\n",
    "# df_profiles.memory_usage(deep= True).compute()"
   ]
  },
  {
   "cell_type": "code",
   "execution_count": null,
   "id": "98f552f2-5a2c-4adb-9333-0af5ec40c111",
   "metadata": {},
   "outputs": [],
   "source": [
    "# df_profiles.memory_usage(deep=True)[:10]\n",
    "#  #   Column               Non-Null Count  Dtype\n",
    "# ---  ------               --------------  -----\n",
    "#  0   Metadata_Source      231017 non-null      string\n",
    "#  1   Metadata_Batch       231017 non-null      string\n",
    "#  2   Metadata_Plate       231017 non-null      string\n",
    "#  3   Metadata_Well        231017 non-null      string\n",
    "#  4   Metadata_JCP2022     231017 non-null      object\n",
    "#  5   Metadata_Hash        231017 non-null      int64\n",
    "#  6   Metadata_Bin         231017 non-null      int64\n",
    "#  7   Metadata_TPSA        231017 non-null      float64\n",
    "#  8   Metadata_lnTPSA      231017 non-null      float64\n",
    "#  9   Metadata_log10TPSA   231017 non-null      float64\n",
    "# 10   Metadata_Permiation  231017 non-null      int64\n",
    "# dtypes: object(1), float64(3), int64(3), string(4)\n",
    "\n",
    "\n",
    "#  #   Column               Dtype          Size(Categorical)    Size(string)\n",
    "# ---  ------               -------         ---------------- ----------------\n",
    "#      Index                                       33,396           33,396\n",
    "#  0   Metadata_Source      category/string       249,067       15,057,278\n",
    "#  1   Metadata_Batch       category/string       271,226       17,233,446\n",
    "#  2   Metadata_Plate       category/string       429,214       15,503,673\n",
    "#  3   Metadata_Well        category/string     9,562,119       13,872,452\n",
    "#  4   Metadata_JCP2022     object             16,402,207       16,402,207\n",
    "#  5   Metadata_Hash        int64               1,848,136        1,848,136\n",
    "#  6   Metadata_Bin         int64               1,848,136        1,848,136\n",
    "#  7   Metadata_TPSA        float64             1,848,136        1,848,136\n",
    "#  8   Metadata_lnTPSA      float64             1,848,136        1,848,136\n",
    "#  9   Metadata_log10TPSA   float64             1,848,136        1,848,136\n",
    "# 10   Metadata_Permiation  int64               1,848,136        1,848,136\n",
    " "
   ]
  },
  {
   "cell_type": "markdown",
   "id": "e7d2ffe0-18af-40da-a8d4-0064d33d83b7",
   "metadata": {},
   "source": [
    "**Memory Usage:**\n",
    " |No |Field name| Type | categorical | string[python] | \n",
    " |---|-----------|-----|-----------------:|------------------:\n",
    " |    | Index               |                 |       33,396  |         33,396 \n",
    " | 0  | Metadata_Source     | category/string |      249,067  |     15,057,278 \n",
    " | 1  | Metadata_Batch      | category/string |      271,226  |     17,233,446 \n",
    " | 2  | Metadata_Plate      | category/string |      429,214  |     15,503,673 \n",
    " | 3  | Metadata_Well       | category/string |    9,562,119  |     13,872,452 \n",
    " | 4  | Metadata_JCP2022    | object          |   16,402,207  |     16,402,207 \n",
    " | 5  | Metadata_Hash       | int64           |    1,848,136  |      1,848,136 \n",
    " | 6  | Metadata_Bin        | int64           |    1,848,136  |      1,848,136 \n",
    " | 7  | Metadata_TPSA       | float64         |    1,848,136  |      1,848,136 \n",
    " | 8  | Metadata_lnTPSA     | float64         |    1,848,136  |      1,848,136 \n",
    " | 9  | Metadata_log10TPSA  | float64         |    1,848,136  |      1,848,136 \n",
    "| 10  | Metadata_Permiation | int64           |    1,848,136  |      1,848,136 "
   ]
  },
  {
   "cell_type": "code",
   "execution_count": null,
   "id": "ad724824-355d-44c5-8c08-793aa7c061c6",
   "metadata": {},
   "outputs": [],
   "source": [
    "# df_profiles.Metadata_Source.dtype\n",
    "# df_profiles.Metadata_Source.memory_usage(deep=True).compute()"
   ]
  },
  {
   "cell_type": "markdown",
   "id": "58fc0a11-fed4-470c-9612-74230fe9fbd6",
   "metadata": {
    "jp-MarkdownHeadingCollapsed": true
   },
   "source": [
    "## Group by Bin Number"
   ]
  },
  {
   "cell_type": "code",
   "execution_count": 42,
   "id": "535bf34d-e4f8-48dc-8e44-8abf27fe5c9c",
   "metadata": {
    "execution": {
     "iopub.execute_input": "2024-04-23T19:25:13.459219Z",
     "iopub.status.busy": "2024-04-23T19:25:13.458748Z",
     "iopub.status.idle": "2024-04-23T19:25:13.497777Z",
     "shell.execute_reply": "2024-04-23T19:25:13.496975Z",
     "shell.execute_reply.started": "2024-04-23T19:25:13.459179Z"
    }
   },
   "outputs": [],
   "source": [
    "df_grouped_profiles = df_profiles.groupby('Metadata_Bin')"
   ]
  },
  {
   "cell_type": "markdown",
   "id": "a4d475f8-f698-463e-abcf-86e9de364feb",
   "metadata": {},
   "source": [
    "### Count num of rows in each bin"
   ]
  },
  {
   "cell_type": "code",
   "execution_count": 43,
   "id": "8e65906b-5c9b-46d9-8643-c88accdccdcc",
   "metadata": {
    "execution": {
     "iopub.execute_input": "2024-04-23T19:25:25.669704Z",
     "iopub.status.busy": "2024-04-23T19:25:25.669015Z",
     "iopub.status.idle": "2024-04-23T19:26:57.219572Z",
     "shell.execute_reply": "2024-04-23T19:26:57.214572Z",
     "shell.execute_reply.started": "2024-04-23T19:25:25.669662Z"
    }
   },
   "outputs": [
    {
     "data": {
      "text/plain": [
       "dask.dataframe.core.Series"
      ]
     },
     "execution_count": 43,
     "metadata": {},
     "output_type": "execute_result"
    },
    {
     "data": {
      "text/plain": [
       "156"
      ]
     },
     "execution_count": 43,
     "metadata": {},
     "output_type": "execute_result"
    },
    {
     "name": "stderr",
     "output_type": "stream",
     "text": [
      "/home/kevin/miniforge3/envs/cp311/lib/python3.11/site-packages/dask/dataframe/_pyarrow_compat.py:17: FutureWarning: Minimal version of pyarrow will soon be increased to 14.0.1. You are using 11.0.0. Please consider upgrading.\n",
      "  warnings.warn(\n",
      "/home/kevin/miniforge3/envs/cp311/lib/python3.11/site-packages/dask/dataframe/_pyarrow_compat.py:17: FutureWarning: Minimal version of pyarrow will soon be increased to 14.0.1. You are using 11.0.0. Please consider upgrading.\n",
      "  warnings.warn(\n"
     ]
    },
    {
     "data": {
      "text/plain": [
       "Metadata_Bin\n",
       "0     21780\n",
       "1     21435\n",
       "2     21804\n",
       "3     21714\n",
       "4     21756\n",
       "5     21315\n",
       "6     21351\n",
       "7     21834\n",
       "8     21291\n",
       "9     21606\n",
       "10    21783\n",
       "11    21645\n",
       "12    22014\n",
       "13    21654\n",
       "14    21633\n",
       "15    21927\n",
       "Name: count, dtype: int64"
      ]
     },
     "execution_count": 43,
     "metadata": {},
     "output_type": "execute_result"
    },
    {
     "data": {
      "text/plain": [
       "346542"
      ]
     },
     "execution_count": 43,
     "metadata": {},
     "output_type": "execute_result"
    }
   ],
   "source": [
    "\n",
    "df_profiles_bin = df_profiles['Metadata_Bin']\n",
    "type(df_profiles_bin)\n",
    "df_profiles_bin.npartitions\n",
    "\n",
    "s1 = df_profiles_bin.value_counts().compute()\n",
    "s1.sort_index()\n",
    "s1.sum()\n",
    "\n",
    "# Metadata_Bin\n",
    "# 0     19279\n",
    "# 1     18815\n",
    "# 2     19048\n",
    "# 3     19421\n",
    "# 4     19368\n",
    "# 5     19332\n",
    "# 6     19480\n",
    "# 7     19298\n",
    "# 8     19246\n",
    "# 9     19189\n",
    "# 10    19183\n",
    "# 11    19358\n",
    "# Name: count, dtype: int64\n"
   ]
  },
  {
   "cell_type": "markdown",
   "id": "eccae513-2430-44e5-aa3d-6b2bf7ebb1c9",
   "metadata": {
    "jp-MarkdownHeadingCollapsed": true
   },
   "source": [
    "## Read Each bin group ansd write to separte file"
   ]
  },
  {
   "cell_type": "code",
   "execution_count": 35,
   "id": "c34202ae-f4c3-4ad1-9789-2f59751e0edb",
   "metadata": {
    "execution": {
     "iopub.execute_input": "2024-04-23T15:22:35.726318Z",
     "iopub.status.busy": "2024-04-23T15:22:35.725931Z",
     "iopub.status.idle": "2024-04-23T19:22:54.281487Z",
     "shell.execute_reply": "2024-04-23T19:22:54.280381Z",
     "shell.execute_reply.started": "2024-04-23T15:22:35.726286Z"
    },
    "scrolled": true
   },
   "outputs": [
    {
     "name": "stderr",
     "output_type": "stream",
     "text": [
      "2024-04-23 17:22:35,758 - INFO: -  Get bin group: 0 from df_grouped_profiles\n",
      "2024-04-23 17:22:36,165 - INFO: -  Number of partitions :  156\n",
      "2024-04-23 21:22:54,198 - ERROR: - Task exception was never retrieved\n",
      "future: <Task finished name='Task-214751' coro=<Client._gather.<locals>.wait() done, defined at /home/kevin/miniforge3/envs/cp311/lib/python3.11/site-packages/distributed/client.py:2209> exception=AllExit()>\n",
      "Traceback (most recent call last):\n",
      "  File \"/home/kevin/miniforge3/envs/cp311/lib/python3.11/site-packages/distributed/client.py\", line 2218, in wait\n",
      "    raise AllExit()\n",
      "distributed.client.AllExit\n"
     ]
    },
    {
     "ename": "KeyboardInterrupt",
     "evalue": "",
     "output_type": "error",
     "traceback": [
      "\u001b[0;31m---------------------------------------------------------------------------\u001b[0m",
      "\u001b[0;31mKeyboardInterrupt\u001b[0m                         Traceback (most recent call last)",
      "Cell \u001b[0;32mIn[35], line 9\u001b[0m\n\u001b[1;32m      7\u001b[0m grp \u001b[38;5;241m=\u001b[39m df_grouped_profiles\u001b[38;5;241m.\u001b[39mget_group((BIN_NO,))\n\u001b[1;32m      8\u001b[0m logging\u001b[38;5;241m.\u001b[39minfo(\u001b[38;5;124mf\u001b[39m\u001b[38;5;124m\"\u001b[39m\u001b[38;5;124m Number of partitions :  \u001b[39m\u001b[38;5;132;01m{\u001b[39;00mgrp\u001b[38;5;241m.\u001b[39mnpartitions\u001b[38;5;132;01m}\u001b[39;00m\u001b[38;5;124m\"\u001b[39m)\n\u001b[0;32m----> 9\u001b[0m \u001b[43mgrp\u001b[49m\u001b[38;5;241;43m.\u001b[39;49m\u001b[43mhead\u001b[49m\u001b[43m(\u001b[49m\u001b[38;5;241;43m3\u001b[39;49m\u001b[43m)\u001b[49m\n\u001b[1;32m     11\u001b[0m \u001b[38;5;66;03m# ss = grp.map_partitions(len).compute()\u001b[39;00m\n\u001b[1;32m     12\u001b[0m \u001b[38;5;66;03m# ss\u001b[39;00m\n\u001b[1;32m     13\u001b[0m \u001b[38;5;66;03m# ss.sum()\u001b[39;00m\n\u001b[1;32m     15\u001b[0m logging\u001b[38;5;241m.\u001b[39minfo(\u001b[38;5;124mf\u001b[39m\u001b[38;5;124m\"\u001b[39m\u001b[38;5;124m Write bin \u001b[39m\u001b[38;5;132;01m{\u001b[39;00mBIN_NO\u001b[38;5;132;01m}\u001b[39;00m\u001b[38;5;124m to  \u001b[39m\u001b[38;5;132;01m{\u001b[39;00moutput_files[BIN_NO]\u001b[38;5;132;01m}\u001b[39;00m\u001b[38;5;124m\"\u001b[39m)\n",
      "File \u001b[0;32m~/miniforge3/envs/cp311/lib/python3.11/site-packages/dask/dataframe/core.py:1540\u001b[0m, in \u001b[0;36m_Frame.head\u001b[0;34m(self, n, npartitions, compute)\u001b[0m\n\u001b[1;32m   1538\u001b[0m \u001b[38;5;66;03m# No need to warn if we're already looking at all partitions\u001b[39;00m\n\u001b[1;32m   1539\u001b[0m safe \u001b[38;5;241m=\u001b[39m npartitions \u001b[38;5;241m!=\u001b[39m \u001b[38;5;28mself\u001b[39m\u001b[38;5;241m.\u001b[39mnpartitions\n\u001b[0;32m-> 1540\u001b[0m \u001b[38;5;28;01mreturn\u001b[39;00m \u001b[38;5;28;43mself\u001b[39;49m\u001b[38;5;241;43m.\u001b[39;49m\u001b[43m_head\u001b[49m\u001b[43m(\u001b[49m\u001b[43mn\u001b[49m\u001b[38;5;241;43m=\u001b[39;49m\u001b[43mn\u001b[49m\u001b[43m,\u001b[49m\u001b[43m \u001b[49m\u001b[43mnpartitions\u001b[49m\u001b[38;5;241;43m=\u001b[39;49m\u001b[43mnpartitions\u001b[49m\u001b[43m,\u001b[49m\u001b[43m \u001b[49m\u001b[43mcompute\u001b[49m\u001b[38;5;241;43m=\u001b[39;49m\u001b[43mcompute\u001b[49m\u001b[43m,\u001b[49m\u001b[43m \u001b[49m\u001b[43msafe\u001b[49m\u001b[38;5;241;43m=\u001b[39;49m\u001b[43msafe\u001b[49m\u001b[43m)\u001b[49m\n",
      "File \u001b[0;32m~/miniforge3/envs/cp311/lib/python3.11/site-packages/dask/dataframe/core.py:1574\u001b[0m, in \u001b[0;36m_Frame._head\u001b[0;34m(self, n, npartitions, compute, safe)\u001b[0m\n\u001b[1;32m   1569\u001b[0m result \u001b[38;5;241m=\u001b[39m new_dd_object(\n\u001b[1;32m   1570\u001b[0m     graph, name, \u001b[38;5;28mself\u001b[39m\u001b[38;5;241m.\u001b[39m_meta, [\u001b[38;5;28mself\u001b[39m\u001b[38;5;241m.\u001b[39mdivisions[\u001b[38;5;241m0\u001b[39m], \u001b[38;5;28mself\u001b[39m\u001b[38;5;241m.\u001b[39mdivisions[npartitions]]\n\u001b[1;32m   1571\u001b[0m )\n\u001b[1;32m   1573\u001b[0m \u001b[38;5;28;01mif\u001b[39;00m compute:\n\u001b[0;32m-> 1574\u001b[0m     result \u001b[38;5;241m=\u001b[39m \u001b[43mresult\u001b[49m\u001b[38;5;241;43m.\u001b[39;49m\u001b[43mcompute\u001b[49m\u001b[43m(\u001b[49m\u001b[43m)\u001b[49m\n\u001b[1;32m   1575\u001b[0m \u001b[38;5;28;01mreturn\u001b[39;00m result\n",
      "File \u001b[0;32m~/miniforge3/envs/cp311/lib/python3.11/site-packages/dask/base.py:342\u001b[0m, in \u001b[0;36mDaskMethodsMixin.compute\u001b[0;34m(self, **kwargs)\u001b[0m\n\u001b[1;32m    318\u001b[0m \u001b[38;5;28;01mdef\u001b[39;00m \u001b[38;5;21mcompute\u001b[39m(\u001b[38;5;28mself\u001b[39m, \u001b[38;5;241m*\u001b[39m\u001b[38;5;241m*\u001b[39mkwargs):\n\u001b[1;32m    319\u001b[0m \u001b[38;5;250m    \u001b[39m\u001b[38;5;124;03m\"\"\"Compute this dask collection\u001b[39;00m\n\u001b[1;32m    320\u001b[0m \n\u001b[1;32m    321\u001b[0m \u001b[38;5;124;03m    This turns a lazy Dask collection into its in-memory equivalent.\u001b[39;00m\n\u001b[0;32m   (...)\u001b[0m\n\u001b[1;32m    340\u001b[0m \u001b[38;5;124;03m    dask.compute\u001b[39;00m\n\u001b[1;32m    341\u001b[0m \u001b[38;5;124;03m    \"\"\"\u001b[39;00m\n\u001b[0;32m--> 342\u001b[0m     (result,) \u001b[38;5;241m=\u001b[39m \u001b[43mcompute\u001b[49m\u001b[43m(\u001b[49m\u001b[38;5;28;43mself\u001b[39;49m\u001b[43m,\u001b[49m\u001b[43m \u001b[49m\u001b[43mtraverse\u001b[49m\u001b[38;5;241;43m=\u001b[39;49m\u001b[38;5;28;43;01mFalse\u001b[39;49;00m\u001b[43m,\u001b[49m\u001b[43m \u001b[49m\u001b[38;5;241;43m*\u001b[39;49m\u001b[38;5;241;43m*\u001b[39;49m\u001b[43mkwargs\u001b[49m\u001b[43m)\u001b[49m\n\u001b[1;32m    343\u001b[0m     \u001b[38;5;28;01mreturn\u001b[39;00m result\n",
      "File \u001b[0;32m~/miniforge3/envs/cp311/lib/python3.11/site-packages/dask/base.py:628\u001b[0m, in \u001b[0;36mcompute\u001b[0;34m(traverse, optimize_graph, scheduler, get, *args, **kwargs)\u001b[0m\n\u001b[1;32m    625\u001b[0m     postcomputes\u001b[38;5;241m.\u001b[39mappend(x\u001b[38;5;241m.\u001b[39m__dask_postcompute__())\n\u001b[1;32m    627\u001b[0m \u001b[38;5;28;01mwith\u001b[39;00m shorten_traceback():\n\u001b[0;32m--> 628\u001b[0m     results \u001b[38;5;241m=\u001b[39m \u001b[43mschedule\u001b[49m\u001b[43m(\u001b[49m\u001b[43mdsk\u001b[49m\u001b[43m,\u001b[49m\u001b[43m \u001b[49m\u001b[43mkeys\u001b[49m\u001b[43m,\u001b[49m\u001b[43m \u001b[49m\u001b[38;5;241;43m*\u001b[39;49m\u001b[38;5;241;43m*\u001b[39;49m\u001b[43mkwargs\u001b[49m\u001b[43m)\u001b[49m\n\u001b[1;32m    630\u001b[0m \u001b[38;5;28;01mreturn\u001b[39;00m repack([f(r, \u001b[38;5;241m*\u001b[39ma) \u001b[38;5;28;01mfor\u001b[39;00m r, (f, a) \u001b[38;5;129;01min\u001b[39;00m \u001b[38;5;28mzip\u001b[39m(results, postcomputes)])\n",
      "File \u001b[0;32m~/miniforge3/envs/cp311/lib/python3.11/threading.py:622\u001b[0m, in \u001b[0;36mEvent.wait\u001b[0;34m(self, timeout)\u001b[0m\n\u001b[1;32m    620\u001b[0m signaled \u001b[38;5;241m=\u001b[39m \u001b[38;5;28mself\u001b[39m\u001b[38;5;241m.\u001b[39m_flag\n\u001b[1;32m    621\u001b[0m \u001b[38;5;28;01mif\u001b[39;00m \u001b[38;5;129;01mnot\u001b[39;00m signaled:\n\u001b[0;32m--> 622\u001b[0m     signaled \u001b[38;5;241m=\u001b[39m \u001b[38;5;28;43mself\u001b[39;49m\u001b[38;5;241;43m.\u001b[39;49m\u001b[43m_cond\u001b[49m\u001b[38;5;241;43m.\u001b[39;49m\u001b[43mwait\u001b[49m\u001b[43m(\u001b[49m\u001b[43mtimeout\u001b[49m\u001b[43m)\u001b[49m\n\u001b[1;32m    623\u001b[0m \u001b[38;5;28;01mreturn\u001b[39;00m signaled\n",
      "File \u001b[0;32m~/miniforge3/envs/cp311/lib/python3.11/threading.py:324\u001b[0m, in \u001b[0;36mCondition.wait\u001b[0;34m(self, timeout)\u001b[0m\n\u001b[1;32m    322\u001b[0m \u001b[38;5;28;01melse\u001b[39;00m:\n\u001b[1;32m    323\u001b[0m     \u001b[38;5;28;01mif\u001b[39;00m timeout \u001b[38;5;241m>\u001b[39m \u001b[38;5;241m0\u001b[39m:\n\u001b[0;32m--> 324\u001b[0m         gotit \u001b[38;5;241m=\u001b[39m \u001b[43mwaiter\u001b[49m\u001b[38;5;241;43m.\u001b[39;49m\u001b[43macquire\u001b[49m\u001b[43m(\u001b[49m\u001b[38;5;28;43;01mTrue\u001b[39;49;00m\u001b[43m,\u001b[49m\u001b[43m \u001b[49m\u001b[43mtimeout\u001b[49m\u001b[43m)\u001b[49m\n\u001b[1;32m    325\u001b[0m     \u001b[38;5;28;01melse\u001b[39;00m:\n\u001b[1;32m    326\u001b[0m         gotit \u001b[38;5;241m=\u001b[39m waiter\u001b[38;5;241m.\u001b[39macquire(\u001b[38;5;28;01mFalse\u001b[39;00m)\n",
      "\u001b[0;31mKeyboardInterrupt\u001b[0m: "
     ]
    }
   ],
   "source": [
    "# BIN_NO = 2\n",
    "\n",
    "for BIN_NO in range(12): ## [0,1,2,3,4,5,7, 8, 9 , 10, 11]:\n",
    "    \n",
    "    logging.info(f\" Get bin group: {BIN_NO} from df_grouped_profiles\")    \n",
    "    \n",
    "    grp = df_grouped_profiles.get_group((BIN_NO,))\n",
    "    logging.info(f\" Number of partitions :  {grp.npartitions}\")\n",
    "    grp.head(3)\n",
    "    \n",
    "    # ss = grp.map_partitions(len).compute()\n",
    "    # ss\n",
    "    # ss.sum()\n",
    "    \n",
    "    logging.info(f\" Write bin {BIN_NO} to  {output_files[BIN_NO]}\")\n",
    "    \n",
    "    grp.to_csv(output_files[BIN_NO], index = False, single_file = True)\n",
    "    \n",
    "    logging.info(f\" Writing bin {BIN_NO} profiles file ... complete\")"
   ]
  },
  {
   "cell_type": "markdown",
   "id": "1e350792-1e05-47c3-b85d-7d2ac9163e6f",
   "metadata": {},
   "source": [
    "### Read Each bin and verify count"
   ]
  },
  {
   "cell_type": "code",
   "execution_count": null,
   "id": "905ee9aa-c148-4abb-90aa-00bd543a1f8b",
   "metadata": {},
   "outputs": [],
   "source": [
    "# BIN_READ = 2\n",
    "\n",
    "for BIN_READ in  range(12) : ## [7, 8, 9 , 10, 11]:\n",
    "    logging.info(f\" Read from  {output_files[BIN_READ]}  for bin {BIN_READ} \")\n",
    "    grp =  dd.read_csv(output_files[BIN_READ], usecols = ['Metadata_JCP2022', 'Metadata_Bin'],)\n",
    "    grp.npartitions  \n",
    "    grp.head()\n",
    "    ss = grp.map_partitions(len).compute()\n",
    "    logging.info(f\" Total rows in bin {BIN_READ} :   {ss.sum()}\")\n"
   ]
  },
  {
   "cell_type": "markdown",
   "id": "bbe7e3ce-2480-4663-a071-adad3af7cf95",
   "metadata": {
    "jp-MarkdownHeadingCollapsed": true
   },
   "source": [
    "# Build Profiles Metadata file `profiles_metadata.pkl`"
   ]
  },
  {
   "cell_type": "code",
   "execution_count": null,
   "id": "cd458e20-2c60-4287-bcd7-ddb5b8917fe2",
   "metadata": {
    "ExecuteTime": {
     "end_time": "2023-12-21T20:50:55.041400Z",
     "start_time": "2023-12-21T20:50:55.011436Z"
    },
    "slideshow": {
     "slide_type": ""
    },
    "tags": []
   },
   "outputs": [],
   "source": [
    "# print(f\" Features select file:  {profilesMetadataFile,}\")\n",
    "\n",
    "# with open(profilesMetadataFile,, 'rb') as f: \n",
    "#     x = pickle.load(f)\n",
    "    \n",
    "# for i in x:\n",
    "#     print(f\" {i:20s}    {len(x[i])} \")\n",
    "\n",
    "metadata_columns = set([\"Metadata_Source\", \"Metadata_Batch\", \"Metadata_Plate\", \"Metadata_Well\", \"Metadata_JCP2022\"])\n",
    "metadata_columns_dtype = {x: pd.StringDtype()  for x in metadata_columns} \n",
    "\n",
    "label_columns =  set([\"Metadata_TPSA\", \"Metadata_lnTPSA\", \"Metadata_log10TPSA\"])\n",
    "label_columns_dtype = {x: np.dtype('float32') for x in label_columns}\n",
    "label_columns_dtype[\"Metadata_permiation\"] = np.dtype('int8')\n",
    "\n",
    "X_columns = x['selected']\n",
    "X_columns_conversion = {x: np.dtype('float32') for x in X_columns}\n",
    "\n",
    "y_columns = set([\"Metadata_permiation\"])\n",
    "y_columns_dtype = {x: np.dtype('int8') for x in y_columns} ## \"Metadata_log10TPSA\":np.dtype('float64')}\n",
    "\n",
    "# y_columns = set([\"Metadata_log10TPSA\"])\n",
    "# y_columns_dtype = {x: np.dtype('float32') for x in y_columns} ## \"Metadata_log10TPSA\":np.dtype('float64')}\n",
    "\n",
    "Xy_columns = y_columns | X_columns\n",
    "Xy_columns_dtype = y_columns_dtype | X_columns_dtype\n",
    "\n",
    "all_columns = pd.read_csv( './output_11102023/profiles/compound_profiles_2samples_001.csv', nrows = 0).columns.tolist()\n",
    "# all_columns = metadata_columns | label_columns | X_columns\n",
    "# all_columns_dtype = metadata_columns_dtype | label_columns_dtype | X_columns_dtype\n",
    "\n",
    "print(f\" len(metadata_columms)        : {len(metadata_columns)} \")\n",
    "print(f\" len(label_columms)           : {len(label_columns)} \")\n",
    "print(f\" len(X_columms)               : {len(X_columns)}\")\n",
    "print(f\" len(y_columms)               : {len(y_columns)}\")\n",
    "print(f\" len(Xy_columms)              : {len(Xy_columns)}\")\n",
    "print(f\" len(all_columms)             : {len(all_columns)} \")\n",
    "\n",
    "# print(f\" len(metadata_columms_dtype)  : {len(metadata_columns_dtype)} \")\n",
    "# print(f\" len(label_columms_dtype)     : {len(label_columns_dtype)} \")\n",
    "# print(f\" len(X_columms_dtype)         : {len(X_columns_dtype)}\")\n",
    "# print(f\" len(y_columms_dtype)         : {len(y_columns_dtype)}\")\n",
    "# print(f\" len(Xy_columms_dtype)        : {len(Xy_columns_dtype)}\")\n",
    "# print(f\" len(all_columms_dtype)       : {len(all_columns_dtype)} \")\n",
    "# del all_columns_dtype\n",
    "# for k  in sorted(all_columns_dtype.keys()):\n",
    "#     print(f\" {k:60s}  {all_columns_dtype[k]}\")"
   ]
  },
  {
   "cell_type": "code",
   "execution_count": null,
   "id": "1cccdccb-cc53-402e-ba48-33a318c5ebdf",
   "metadata": {},
   "outputs": [],
   "source": [
    "feature_selection_columns = { 'selected': ttl_selected_cols,\n",
    "                              'dropped_correlation': ttl_corr_dropped_cols,\n",
    "                              'dropped_variance': set()\n",
    "                              'dropped_nans': set()}\n",
    "# with open(\"./metadata/feature_selection_columns.pkl\", 'wb') as f: \n",
    "#     pickle.dump(feature_selection_columns,f)"
   ]
  },
  {
   "cell_type": "code",
   "execution_count": null,
   "id": "c38f2e8d-57e4-400c-b769-07b0ac3a87d2",
   "metadata": {},
   "outputs": [],
   "source": [
    " \n",
    "# all_profile_columns = df_profiles.columns.to_list()"
   ]
  },
  {
   "cell_type": "code",
   "execution_count": null,
   "id": "6213a89e-0761-4249-9bf9-f1b9ea80c875",
   "metadata": {},
   "outputs": [],
   "source": [
    "MetadataOriginalNames      = [\"Metadata_Source\", \"Metadata_Batch\" ,\"Metadata_Plate\" , \"Metadata_Well\", \"Metadata_JCP2022\", \"Metadata_Hash\", \n",
    "                              \"TPSA\"  , \"lnTPSA\"  , \"log10TPSA\", \"permiation\"]\n",
    "                        \n",
    "MetadataNames              = [\"Metadata_Source\", \"Metadata_Batch\" , \"Metadata_Plate\" , \"Metadata_Well\"     , \"Metadata_JCP2022\", \"Metadata_Hash\", \n",
    "                              \"Metadata_Bin\"   , \"Metadata_TPSA\"  , \"Metadata_lnTPSA\", \"Metadata_log10TPSA\", \"Metadata_Permiation\"]\n",
    "\n",
    "MetadataCategoricalColumns = {\"Metadata_Source\":'category', \"Metadata_Batch\":'category' ,\"Metadata_Plate\":'category' , \"Metadata_Well\":'category'}\n",
    "\n",
    "MetadataFloatColumns       = {\"Metadata_TPSA\":np.float32, \"Metadata_lnTPSA\":np.float32, \"Metadata_log10TPSA\":np.float32}\n",
    "\n",
    "MetadataIntegerColumns     = {\"Metadata_Hash\": np.int64, \"Metadata_Bin\":np.int8, \"Metadata_Permiation\":np.int8}\n",
    "\n",
    "MetadataNumericColumns     =  MetadataFloatColumns | MetadataIntegerColumns\n",
    "\n",
    "metadata_columns = {\"MetadataOriginalNames\"      : MetadataOriginalNames,\n",
    "                    \"MetadataNames\"              : MetadataNames,\n",
    "                    \"MetadataCategoricalColumns\" : MetadataCategoricalColumns,\n",
    "                    \"MetadataNumericColumns\"     : MetadataNumericColumns,\n",
    "                    \"MetadataFloatColumns\"       : MetadataFloatColumns,\n",
    "                    \"MetadataIntegerColumns\"     : MetadataIntegerColumns,\n",
    "                   }\n",
    "\n",
    "\n",
    "pickle_data['metadata_columns'] = metadata_columns"
   ]
  },
  {
   "cell_type": "markdown",
   "id": "5882b1e4-370b-4bd2-ac9b-1b432f0d2508",
   "metadata": {},
   "source": [
    "## Read Profile Metadata file"
   ]
  },
  {
   "cell_type": "code",
   "execution_count": null,
   "id": "142c5860-43de-42d8-a57e-075c2d4582f0",
   "metadata": {},
   "outputs": [],
   "source": [
    "print(f\" Features selection file:  {profileMetadataFile}\")\n",
    "\n",
    "with open(profileMetadataFile, 'rb') as f: \n",
    "     pickle_data = pickle.load(f)\n",
    "pickle_data.keys()"
   ]
  },
  {
   "cell_type": "code",
   "execution_count": null,
   "id": "fb11d846-15a6-4ade-99cd-1702af6f459d",
   "metadata": {},
   "outputs": [],
   "source": [
    "disp_metadata_file(pickle_data)\n",
    " "
   ]
  },
  {
   "cell_type": "code",
   "execution_count": null,
   "id": "ed645f9f-86d4-4fea-8362-890a88e49911",
   "metadata": {},
   "outputs": [],
   "source": [
    "# pickle_data['selected_columns'].keys()\n",
    "# pickle_data['selected_columns']['dropped_nans']  = {'Cells_AreaShape_FormFactor',\n",
    "#                                                      'Cells_Neighbors_AngleBetweenNeighbors_5',\n",
    "#                                                      'Cells_Neighbors_AngleBetweenNeighbors_Adjacent',\n",
    "#                                                      'Cells_Neighbors_FirstClosestDistance_5',\n",
    "#                                                      'Cells_Neighbors_FirstClosestDistance_Adjacent',\n",
    "#                                                      'Cells_Neighbors_SecondClosestDistance_5',\n",
    "#                                                      'Cells_Neighbors_SecondClosestDistance_Adjacent',\n",
    "#                                                      'Cytoplasm_AreaShape_FormFactor',\n",
    "#                                                      'Nuclei_AreaShape_FormFactor',\n",
    "#                                                      'Nuclei_Neighbors_AngleBetweenNeighbors_1',\n",
    "#                                                      'Nuclei_Neighbors_FirstClosestDistance_1',\n",
    "#                                                      'Nuclei_Neighbors_SecondClosestDistance_1'}\n",
    "\n",
    "\n",
    "# pickle_data['selected_columns']['dropped_image_features'] = set(list(ParquetColumns['Image'].keys()))\n",
    "# len(pickle_data['selected_columns']['dropped_image_features'])\n",
    "# pickle_data['selected_columns']['dropped_metadata'] = set(list(ParquetColumns['Metadata'].keys()))\n",
    "# len(pickle_data['selected_columns']['dropped_metadata'])"
   ]
  },
  {
   "cell_type": "code",
   "execution_count": null,
   "id": "bb800034-e113-4bb0-b014-d026c5deabf5",
   "metadata": {},
   "outputs": [],
   "source": [
    "# for i in ['Cells_AreaShape_FormFactor', 'Cytoplasm_AreaShape_FormFactor', 'Nuclei_AreaShape_FormFactor'\n",
    "#           'Cells_Neighbors_AngleBetweenNeighbors_5',\n",
    "#           'Cells_Neighbors_AngleBetweenNeighbors_Adjacent',\n",
    "#           'Cells_Neighbors_FirstClosestDistance_5',\n",
    "#           'Cells_Neighbors_FirstClosestDistance_Adjacent',\n",
    "#           'Cells_Neighbors_SecondClosestDistance_5',\n",
    "#           'Cells_Neighbors_SecondClosestDistance_Adjacent',\n",
    "#           'Nuclei_Neighbors_AngleBetweenNeighbors_1',\n",
    "#           'Nuclei_Neighbors_FirstClosestDistance_1',\n",
    "#           'Nuclei_Neighbors_SecondClosestDistance_1']:\n",
    "\n",
    "# for i in pickle_data[\"selected_columns\"][\"dropped_nans\"]:\n",
    "    \n",
    "#     if i in pickle_data['all_profile_columns']: \n",
    "#     # if i in pickle_data['selected_columns']['dropped_correlation']: \n",
    "#         # del parquetNumericColumns [x]\n",
    "#         print(f\" FOUND in pickle_data['all_profile_columns'], deleted -- {i:35s}\")\n",
    "#     else:\n",
    "#         print(f\" NOT FOUND in pickle_data['all_profile_columns'], skipped -- {i:35s}\")\n",
    "# len(pickle_data['all_profile_columns'])\n",
    "# t = set(pickle_data['all_profile_columns'])  - set(pickle_data['metadata_columns']['MetadataColumns'])\n",
    "# len(t)\n",
    "# # t = set(pickle_data['all_profile_columns'])  - set(pickle_data['selected_columns']['selected'])\n",
    "# # len(t)\n",
    "# t1 = t -set(pickle_data['selected_columns']['dropped_correlation'])\n",
    "# len(t1)\n",
    "# t1"
   ]
  },
  {
   "cell_type": "code",
   "execution_count": null,
   "id": "bc0eeda1-efad-4ae5-9806-18a87f6548cb",
   "metadata": {},
   "outputs": [],
   "source": [
    "# ttl_bad_columns =  {'Cells_Neighbors_AngleBetweenNeighbors_Adjacent', \n",
    "#                     'Cells_Neighbors_AngleBetweenNeighbors_5', \n",
    "#                     'Cells_Neighbors_FirstClosestDistance_Adjacent', \n",
    "#                     'Cells_Neighbors_SecondClosestDistance_Adjacent',\n",
    "#                     'Cells_Neighbors_FirstClosestDistance_5', \n",
    "#                     'Cells_Neighbors_SecondClosestDistance_5',\n",
    "#                     'Nuclei_Neighbors_AngleBetweenNeighbors_1', \n",
    "#                     'Nuclei_Neighbors_SecondClosestDistance_1', \n",
    "#                     'Nuclei_Neighbors_FirstClosestDistance_1', \n",
    "#                    }\n",
    "# len(ttl_bad_columns)\n",
    "# pickle_data['selected_columns']['dropped_nans'] = ttl_bad_columns | {'Cells_AreaShape_FormFactor', 'Cytoplasm_AreaShape_FormFactor', 'Nuclei_AreaShape_FormFactor'}\n",
    "# len(pickle_data['selected_columns']['dropped_nans']) \n",
    "# pickle_data['selected_columns']['dropped_nans']  "
   ]
  },
  {
   "cell_type": "code",
   "execution_count": null,
   "id": "a57a57f4-3f7c-4c8f-8df7-31b3990a4bad",
   "metadata": {
    "scrolled": true
   },
   "outputs": [],
   "source": [
    "# tmp_list = []\n",
    "# check_in = pickle_data['all_profile_columns']\n",
    "# check_in = pickle_data['selected_columns']['dropped_correlation']\n",
    "\n",
    "# for i in ttl_bad_columns: \n",
    "#     if i in check_in:\n",
    "#         print(f\"{i} is in DROPPED CORRELATION\" )\n",
    "#         # pickle_data['selected_columns']['dropped_correlation']\n",
    "#         # print(f\"{i} is in 'all_profile_columns'\" )\n",
    "#         # pickle_data['all_profile_columns'].remove(i)\n",
    "#         tmp_list.append(i)        \n",
    "#     else:\n",
    "#         # print(f\" ***** {i} is NOT in all_profile_columns'\" )\n",
    "#         # print(f\"{i} is NOT in DROPPED CORRELATION\" )\n",
    "#         # if i in pickle_data['selected_columns']['dropped_correlation']:\n",
    "#             # print(f\"{i} is in DROPPED CORRELATION\" )\n",
    "#         # else :\n",
    "#         pass\n",
    "# tmp_list         \n",
    "# pickle_data['selected_columns']['dropped_correlation'] = pickle_data['selected_columns']['dropped_correlation'] - set(tmp_list)"
   ]
  },
  {
   "cell_type": "code",
   "execution_count": null,
   "id": "dee5f7df-3a96-49ff-87dd-84ac12f92260",
   "metadata": {},
   "outputs": [],
   "source": [
    "# dump_data = { 'all_profile_columns'   : COMPOUND_PROFILE_COLUMNS,  ## pickle_data['all_profile_columns'],\n",
    "#                 'metadata_columns'    : pickle_data['metadata_columns'],\n",
    "#                 'selected_columns'    : pickle_data['selected_columns'],\n",
    "#                 'parquet_columns'     : pickle_data['parquet_columns'] }"
   ]
  },
  {
   "cell_type": "code",
   "execution_count": null,
   "id": "ad45c884-f1d7-4f00-9c8f-8cb392b5c6a5",
   "metadata": {},
   "outputs": [],
   "source": [
    "\n",
    "with open(profileMetadataFile, 'wb') as f: \n",
    "     pickle.dump(pickle_data,f)\n"
   ]
  },
  {
   "cell_type": "code",
   "execution_count": null,
   "id": "bc1edebf-4c10-446a-9d9c-dce5c7e6ee5c",
   "metadata": {
    "scrolled": true
   },
   "outputs": [],
   "source": [
    "\n",
    "with open(profileMetadataFile, 'rb') as f: \n",
    "    pickle_data = pickle.load(f)\n",
    "    "
   ]
  },
  {
   "cell_type": "code",
   "execution_count": null,
   "id": "46173cbb-51ae-4bdd-824a-1eb3425bdbae",
   "metadata": {},
   "outputs": [],
   "source": [
    "disp_metadata_file(pickle_data)"
   ]
  },
  {
   "cell_type": "markdown",
   "id": "2697caca-c24b-4cf7-b3ad-235ceb1ea69b",
   "metadata": {
    "jp-MarkdownHeadingCollapsed": true
   },
   "source": [
    "# Build Metadata File of Parquet column names (if not existing)"
   ]
  },
  {
   "cell_type": "markdown",
   "id": "57e3377e-accb-4885-b066-f0143f9d691c",
   "metadata": {},
   "source": [
    "Build dictionary of Parquet data columns - write columns to pickle\n",
    "\n",
    "This list of column names will allow us to identify & control the columns we want to load from parquet files"
   ]
  },
  {
   "cell_type": "code",
   "execution_count": null,
   "id": "c67a66be-952c-42f2-962e-042e42e68f5b",
   "metadata": {},
   "outputs": [],
   "source": [
    "with open(\"./metadata/parquet_columns.pkl\",'rb') as f:\n",
    "    ParquetColumns = pickle.load(f)\n",
    "\n",
    "for k,v in ParquetColumns.items():\n",
    "    print(f\" {k:20s}   items: {len(v)}\")\n",
    "# print(ParquetColumns['Cytoplasm'])\n",
    "\n",
    "parquetNumericColumns  =  ParquetColumns['Cells'] | ParquetColumns['Cytoplasm'] | ParquetColumns['Nuclei']\n",
    "\n",
    "print(f\"\\n\\n all numeric columns (Cells + Cytoplasm + Nuclei) : {len(parquetNumericColumns )}\")\n"
   ]
  },
  {
   "cell_type": "code",
   "execution_count": null,
   "id": "bdcc1347-4919-4bd9-a4f0-23aafc8d08b2",
   "metadata": {},
   "outputs": [],
   "source": []
  },
  {
   "cell_type": "code",
   "execution_count": null,
   "id": "bf593749-23c8-4bfa-90c9-7ee34f2f4170",
   "metadata": {
    "scrolled": true
   },
   "outputs": [],
   "source": [
    "# # keys = ('source_1', 'Batch1_20221004', 'UL001641')\n",
    "# keys = ('source_6' , 'p210920CPU2OS48hw384exp028JUMP',   '110000296345') \n",
    "\n",
    "# dframe = read_profiles_from_local(keys, local_formatter,  columns = None)\n",
    "# cols = dframe.columns.to_list()\n",
    "# print(f\" rows: {len(dframe)}  columns {len(cols)}\")      \n",
    "# cat_cols = cat_columns(dframe)\n",
    "\n",
    "# tt = [] \n",
    "# for k in cols:\n",
    "#     if (dframe[k].dtype in [np.int64]):\n",
    "#         print(f\" {k:50s}   {dframe[k].dtype}\")\n",
    "#         tt.append(k)\n",
    "# len(tt)\n"
   ]
  },
  {
   "cell_type": "code",
   "execution_count": null,
   "id": "d1ebbb4a-5ad4-4297-bb1b-0e11607a7d96",
   "metadata": {},
   "outputs": [],
   "source": [
    "# ParquetColumns = { 'Metadata' : {x: dframe[x].dtype for x in cat_cols['Metadata']},\n",
    "#                    'Cells'    : {x: dframe[x].dtype for x in cat_cols['Cells']},\n",
    "#                    'Cytoplasm': {x: dframe[x].dtype for x in cat_cols['Cytoplasm']},\n",
    "#                     'Nuclei'  : {x: dframe[x].dtype for x in cat_cols['Nuclei']},\n",
    "#                     'Image'   : {x: dframe[x].dtype for x in (cat_cols['Image_Granularity']+ cat_cols['Image_ImageQuality'] + \n",
    "#                                                               cat_cols['Image_Intensity']  + cat_cols['Image_Texture']      + \n",
    "#                                                               cat_cols['Image_Threshold'])},\n",
    "#                  }\n",
    "\n",
    "# print(len(floatConversion) + len(intConversion))\n",
    "# import pickle\n",
    "# with open(\"./metadata/parquet_columns.pkl\", 'wb') as f: \n",
    "#     pickle.dump(ParquetColumns,f)"
   ]
  },
  {
   "cell_type": "code",
   "execution_count": null,
   "id": "251ae927-8073-403a-8498-12006f59044f",
   "metadata": {},
   "outputs": [],
   "source": [
    "# del ParquetColumns\n",
    "\n",
    "# with open(\"./metadata/parquet_columns.pkl\",'rb') as f:\n",
    "#     ParquetColumns = pickle.load(f)\n",
    "\n",
    "# for k,v in ParquetColumns.items():\n",
    "#     print(f\" {k:20s}   items: {len(v)}\")\n",
    "\n",
    "# for k,v in ParquetColumns['Cytoplasm'].items():\n",
    "#     print(f\" {k:50s}   type: {v}\")\n"
   ]
  },
  {
   "cell_type": "markdown",
   "id": "3356bfdf-e0a8-4b5a-b6cb-988443f0c4a1",
   "metadata": {
    "jp-MarkdownHeadingCollapsed": true
   },
   "source": [
    "# `Nan` detection on Compound / Profiles dataset - Development"
   ]
  },
  {
   "cell_type": "code",
   "execution_count": null,
   "id": "c33829a7-f898-47f4-8eb3-54db49463f7c",
   "metadata": {
    "scrolled": true
   },
   "outputs": [],
   "source": [
    "check_fld_grps = {'_'.join(x.split('_')[:2]) for x in ParquetColumns['Cells'] }\n",
    "# ParquetColumns['Cells']\n",
    "# ParquetColumns['Nuclei']"
   ]
  },
  {
   "cell_type": "code",
   "execution_count": null,
   "id": "57c0dd37-6b5b-4d2b-9fc3-0934bf9ca6bd",
   "metadata": {},
   "outputs": [],
   "source": [
    "import re\n",
    "pattern = re.compile(\"Cells_Neighbors*\")\n",
    "cell_neighbor_cols = list(filter(pattern.match, list(ParquetColumns['Cells'].keys())))\n",
    "cell_neighbor_cols\n",
    "\n",
    "pattern = re.compile(\"Nuclei_Neighbors*\")\n",
    "nuclei_neighbor_cols = list(filter(pattern.match, list(ParquetColumns['Nuclei'].keys())))\n",
    "nuclei_neighbor_cols\n",
    "\n",
    "check_cols = cell_neighbor_cols + nuclei_neighbor_cols\n",
    "check_cols"
   ]
  },
  {
   "cell_type": "markdown",
   "id": "286fe699-5c6c-409a-80f0-78ef6aa2f1ed",
   "metadata": {
    "jp-MarkdownHeadingCollapsed": true
   },
   "source": [
    "## Load Extended metadata\n",
    "\n",
    "The following files contain the metadata information for the entire dataset.\n",
    "The schema is [here](metadata/README.md)."
   ]
  },
  {
   "cell_type": "code",
   "execution_count": 13,
   "id": "080b5492-06ab-441b-97d2-c514cc00a290",
   "metadata": {
    "execution": {
     "iopub.execute_input": "2024-03-24T20:39:59.567721Z",
     "iopub.status.busy": "2024-03-24T20:39:59.567250Z",
     "iopub.status.idle": "2024-03-24T20:39:59.858470Z",
     "shell.execute_reply": "2024-03-24T20:39:59.857540Z",
     "shell.execute_reply.started": "2024-03-24T20:39:59.567681Z"
    },
    "scrolled": true
   },
   "outputs": [
    {
     "data": {
      "text/plain": [
       "'./output_11102023/compound_extended_metadata_2samples.csv'"
      ]
     },
     "execution_count": 13,
     "metadata": {},
     "output_type": "execute_result"
    },
    {
     "data": {
      "text/plain": [
       "'./output_11102023/compound_extended_metadata_3samples.csv'"
      ]
     },
     "execution_count": 13,
     "metadata": {},
     "output_type": "execute_result"
    },
    {
     "name": "stdout",
     "output_type": "stream",
     "text": [
      " Input file: ./output_11102023/compound_extended_metadata_3samples.csv\n"
     ]
    },
    {
     "ename": "NameError",
     "evalue": "name 'MetadataCategoricalColumns' is not defined",
     "output_type": "error",
     "traceback": [
      "\u001b[0;31m---------------------------------------------------------------------------\u001b[0m",
      "\u001b[0;31mNameError\u001b[0m                                 Traceback (most recent call last)",
      "Cell \u001b[0;32mIn[13], line 7\u001b[0m\n\u001b[1;32m      5\u001b[0m \u001b[38;5;28mprint\u001b[39m(\u001b[38;5;124mf\u001b[39m\u001b[38;5;124m\"\u001b[39m\u001b[38;5;124m Input file: \u001b[39m\u001b[38;5;132;01m{\u001b[39;00mINPUT_FILE\u001b[38;5;132;01m}\u001b[39;00m\u001b[38;5;124m\"\u001b[39m)\n\u001b[1;32m      6\u001b[0m \u001b[38;5;66;03m# MetadataNames\u001b[39;00m\n\u001b[0;32m----> 7\u001b[0m \u001b[43mMetadataCategoricalColumns\u001b[49m\n",
      "\u001b[0;31mNameError\u001b[0m: name 'MetadataCategoricalColumns' is not defined"
     ]
    }
   ],
   "source": [
    "CompoundExtendedMetadata2SampleFile\n",
    "CompoundExtendedMetadata3SampleFile\n",
    "\n",
    "INPUT_FILE = CompoundExtendedMetadata3SampleFile\n",
    "print(f\" Input file: {INPUT_FILE}\")\n",
    "# MetadataNames\n",
    "MetadataCategoricalColumns"
   ]
  },
  {
   "cell_type": "code",
   "execution_count": null,
   "id": "ffb83f96-be33-48ea-b973-2dedc8bf2d0e",
   "metadata": {
    "ExecuteTime": {
     "end_time": "2023-06-28T19:57:26.086260Z",
     "start_time": "2023-06-28T19:57:25.294622Z"
    }
   },
   "outputs": [],
   "source": [
    "ext_metadata = pd.read_csv(INPUT_FILE ,\n",
    "                           # usecols = [0,1,2,3,4,5,  9,10,11,12], \n",
    "                           # usecols = MetadataNames, \n",
    "                           # names=extMetadataNames,  \n",
    "                           header=0,\n",
    "                          )\n",
    "ext_metadata.sort_values(by=list(MetadataCategoricalColumns), inplace=True)\n",
    "\n",
    "ext_metadata.info()\n",
    "# ext_metadata.head(5)\n",
    "# ext_metadata.tail(5)\n",
    "ext_metadata.reset_index(drop=True, inplace = True)\n",
    "\n",
    "# print('---------------------------------------------------------------')\n",
    "# print(' After Index Reset')\n",
    "# print('---------------------------------------------------------------')\n",
    "# ext_metadata.info()\n",
    "# ext_metadata.head(3)\n",
    "# ext_metadata.tail(3)\n",
    "\n",
    "ext_metadata.iloc[199995:200005,:6]\n",
    "ext_metadata.memory_usage(deep=True) \n"
   ]
  },
  {
   "cell_type": "markdown",
   "id": "b2f3a385-5f89-4210-9f4c-1180ed374949",
   "metadata": {},
   "source": [
    "## Group  Metadata by Source, Batch, and Plate Id"
   ]
  },
  {
   "cell_type": "code",
   "execution_count": null,
   "id": "129cb8d8-9aa4-4dae-96dc-cc395d24ed17",
   "metadata": {},
   "outputs": [],
   "source": [
    "grouped_metadata = ext_metadata.groupby(by = ['Metadata_Source','Metadata_Batch','Metadata_Plate'])\n",
    "type(grouped_metadata)\n",
    "len(grouped_metadata)\n",
    "\n",
    "for ctr, (keys, group_data) in enumerate(grouped_metadata):\n",
    "    print(f\"{ctr:5d}     {keys}\") \n",
    "    if ctr > 10:\n",
    "        break"
   ]
  },
  {
   "cell_type": "markdown",
   "id": "5812cbdb-3c99-4ab8-ba1d-d30ad866301d",
   "metadata": {},
   "source": [
    "## For each Metadata group (Plate) read matching parquet profile"
   ]
  },
  {
   "cell_type": "code",
   "execution_count": null,
   "id": "8c0d3bd4-9bc6-46c3-89d4-08131cdc4fa4",
   "metadata": {},
   "outputs": [],
   "source": [
    "# keys =  ('source_1', 'Batch6_20221102', 'UL000597')\n",
    "# keys =  ('source_10', '2021_06_08_U2OS_48_hr_run4', 'Dest210608-152921') \n",
    "# keys =  ('source_10', '2021_08_23_U2OS_48_hr_run18', 'Dest210823-174556')\n",
    "# keys =  ('source_11', 'Batch3', 'EC000136')\n",
    "keys = ('source_11',\t'Batch3',\t'EC000157'\t)\n"
   ]
  },
  {
   "cell_type": "code",
   "execution_count": null,
   "id": "c50cb858-212a-4ded-902a-03a86bbbd5da",
   "metadata": {},
   "outputs": [],
   "source": [
    "group_data = ext_metadata.query('Metadata_Source == @keys[0] & Metadata_Batch == @keys[1] & Metadata_Plate == @keys[2]')\n",
    "type(group_data)\n",
    "group_data.columns\n",
    "group_data\n",
    "# group_data[[check_cols].isna().any()\n",
    "indices_to_change = group_data.index\n",
    "indices_to_change"
   ]
  },
  {
   "cell_type": "code",
   "execution_count": null,
   "id": "154b255a-43f2-4149-87d8-357ea1912992",
   "metadata": {},
   "outputs": [],
   "source": [
    "# ext_metadata.loc[indices_to_change, 'Metadata_Plate']  = 'Kevin'\n",
    "# ext_metadata.loc[indices_to_change] "
   ]
  },
  {
   "cell_type": "code",
   "execution_count": null,
   "id": "7887fa66-a446-4d49-b560-41847553cd2e",
   "metadata": {},
   "outputs": [],
   "source": [
    " # 4  key: ('source_1', 'Batch6_20221102', 'UL000595')   1\n",
    " # 5  key: ('source_1', 'Batch6_20221102', 'UL000597')   388\n",
    " # 6  key: ('source_10', '2021_06_08_U2OS_48_hr_run4', 'Dest210608-152921')   1\n",
    " # 7  key: ('source_10', '2021_08_23_U2OS_48_hr_run18', 'Dest210823-174556')   1\n",
    " # 8  key: ('source_11', 'Batch3', 'EC000136')   1\n",
    " # 9  key: ('source_11', 'Batch3', 'EC000157')   129"
   ]
  },
  {
   "cell_type": "code",
   "execution_count": null,
   "id": "928461fd-0bd9-48cd-b005-7a598fa1b930",
   "metadata": {},
   "outputs": [],
   "source": [
    "# keys =  ('source_1', 'Batch6_20221102', 'UL000595')\n",
    "# keys =  ('source_1', 'Batch6_20221102', 'UL000597')\n",
    "# keys =  ('source_11', 'Batch3', 'EC000136')\n",
    "# keys = ('source_11',\t'Batch3',\t'EC000157'\t)\n",
    "# keys\n",
    "\n",
    "# source_path = local_formatter.format(root_folder, keys[0], keys[1], keys[2])\n",
    "# source_path \n",
    "\n",
    "# dframe = read_profiles_from_local(root_folder, keys, local_formatter,  READ_PARQUET_COLUMNS)\n",
    "# dframe\n",
    "\n",
    "# indices_to_change = dframe.index\n",
    "# indices_to_change\n",
    "\n",
    "# dframe['Metadata_Plate'] = 'EC000157'\n",
    "# dframe"
   ]
  },
  {
   "cell_type": "code",
   "execution_count": null,
   "id": "6d6af0f8-dc2a-4bb4-adef-8a785c856116",
   "metadata": {},
   "outputs": [],
   "source": [
    "# dframe.to_parquet(source_path)"
   ]
  },
  {
   "cell_type": "code",
   "execution_count": null,
   "id": "2e303baf-0d5a-4fb0-8d3e-c07b882b6495",
   "metadata": {
    "scrolled": true
   },
   "outputs": [],
   "source": [
    "# df_join = pd.merge(group_data, dframe, how='left', on=['Metadata_Source', 'Metadata_Plate', 'Metadata_Well'])\n",
    "# df_join"
   ]
  },
  {
   "cell_type": "markdown",
   "id": "778e9653-b0bc-41c8-ade4-b56878187af6",
   "metadata": {},
   "source": [
    "## Run Nan detection routine against Metadata/Profile join"
   ]
  },
  {
   "cell_type": "code",
   "execution_count": null,
   "id": "7c22960d-f782-4532-9507-25efe4a8c9d3",
   "metadata": {},
   "outputs": [],
   "source": [
    "# del na_rows, rows_read\n",
    "df_profiles_list = []\n",
    "group_id = 0\n",
    "ttl_meta_rows = 0\n",
    "ttl_rows_read = 0\n",
    "ttl_na_rows = 0 \n",
    "ttl_bad_columns = set()\n",
    "df_Nans = pd.DataFrame()"
   ]
  },
  {
   "cell_type": "code",
   "execution_count": null,
   "id": "1e9ee2b5-46a8-43aa-88e8-2ee1aa7b588e",
   "metadata": {
    "editable": true,
    "scrolled": true,
    "slideshow": {
     "slide_type": ""
    },
    "tags": []
   },
   "outputs": [],
   "source": [
    "START_GROUP = 200\n",
    "END_GROUP  = 9999\n",
    "\n",
    "for group_id, (keys, group_data) in enumerate(grouped_metadata,1):\n",
    "    if group_id <= START_GROUP: \n",
    "        continue\n",
    "        \n",
    "    df_profile = read_profiles_from_local(root_folder, keys, local_formatter,  READ_PARQUET_COLUMNS)\n",
    "    df_join = pd.merge(group_data, df_profile, how='left', on=['Metadata_Source', 'Metadata_Plate', 'Metadata_Well'])\n",
    "    \n",
    "    print(f\" group: {group_id}  key: {keys}  metadata size: {len(group_data)}    profile size: {len(df_profile )}    join_size: {len(df_join)}\")\n",
    "    ttl_rows_read, ttl_na_rows, ttl_bad_columns, df_Nans = check_df_for_nans(df_join, group_id, ttl_rows_read , ttl_na_rows, ttl_bad_columns, df_Nans)    \n",
    "\n",
    "    ttl_meta_rows  += len(group_data)\n",
    " \n",
    "    if group_id >= END_GROUP:\n",
    "        break\n",
    "\n",
    "print(\"\\n\")\n",
    "print(f\" # of groups: {group_id} \\n\")\n",
    "print(f\" ttl_meta_rows - total number of metadata rows: {ttl_meta_rows}\")\n",
    "print(f\" ttl_rows_read - total join rows read   : {ttl_rows_read}\")  \n",
    "print(f\" ttl_na_rows   - total invalid rows     : {ttl_na_rows}\")\n",
    "print(f\"\\n Bad columns: {ttl_bad_columns}\")\n",
    "print(\"\\n\")\n"
   ]
  },
  {
   "cell_type": "code",
   "execution_count": null,
   "id": "5b39ed44-86d7-472d-8e0b-aa68fd26f384",
   "metadata": {},
   "outputs": [],
   "source": [
    "df_Nans.info()\n",
    "# list(df_Nans.index)\n",
    "# df_Nans.columns\n",
    "\n",
    "df_Nans_T = df_Nans.transpose()"
   ]
  },
  {
   "cell_type": "code",
   "execution_count": null,
   "id": "40db1c6d-4376-4654-a89b-347bfd8f268e",
   "metadata": {},
   "outputs": [],
   "source": [
    "df_Nans_T.info()\n",
    "df_Nans_T"
   ]
  },
  {
   "cell_type": "code",
   "execution_count": null,
   "id": "6b2ab817-7777-4676-b6b5-95c3ed303df4",
   "metadata": {},
   "outputs": [],
   "source": [
    "for group_id, (keys, group_data) in enumerate(df_Nans_T.groupby(by = ['Metadata_Source','Metadata_Batch','Metadata_Plate'])):\n",
    "    print(f\" {group_id}  key: {keys}   {len(group_data)}\")"
   ]
  },
  {
   "cell_type": "code",
   "execution_count": null,
   "id": "15720c8d-a0c8-45cf-a805-267f5cfe4d3d",
   "metadata": {},
   "outputs": [],
   "source": [
    "check_cols"
   ]
  },
  {
   "cell_type": "code",
   "execution_count": null,
   "id": "a5f5081d-0eca-464e-b1f6-d1de379db474",
   "metadata": {},
   "outputs": [],
   "source": [
    "for i in check_cols: \n",
    "    df_Nans_T[i].isna().value_counts()"
   ]
  },
  {
   "cell_type": "code",
   "execution_count": null,
   "id": "f3cc8bad-ca61-44be-a69d-2093ea3f6a19",
   "metadata": {},
   "outputs": [],
   "source": []
  },
  {
   "cell_type": "code",
   "execution_count": null,
   "id": "48b0bc28-8c6c-4ff1-a848-cbf07d1424f6",
   "metadata": {},
   "outputs": [],
   "source": [
    "c = 100\n",
    "df_Nans_T.iloc[195:201][['Metadata_JCP2022']+check_cols]"
   ]
  },
  {
   "cell_type": "code",
   "execution_count": null,
   "id": "87cc5b04-567f-44ce-8f55-677637e46143",
   "metadata": {},
   "outputs": [],
   "source": [
    "df_join.head(4)\n",
    "# df_profiles['Metadata_Plate'].unique()\n",
    "\n",
    "row_num, na_rows, bad_columns = check_df_for_nans(df_join)\n",
    "print(f\" Rows read  : {row_num}   invalid rows : {na_rows}\")\n",
    "print(f\" Bad columns: {bad_columns}\")"
   ]
  },
  {
   "cell_type": "code",
   "execution_count": null,
   "id": "a605368e-a21d-4fac-bf1e-de139040049b",
   "metadata": {},
   "outputs": [],
   "source": [
    "# COMPOUND_PROFILE_COLUMNS = df_profiles.columns.to_list()\n",
    "# len(COMPOUND_PROFILE_COLUMNS)\n",
    "len(READ_PARQUET_COLUMNS)\n",
    "# col_dict = cat_columns(df_profiles)\n",
    "# col_dict['Nuclei'][1000:]\n",
    "JOIN_COLUMNS[:12]"
   ]
  },
  {
   "cell_type": "markdown",
   "id": "ed5893ba-6c27-4668-a3b0-a061d83481c1",
   "metadata": {},
   "source": []
  },
  {
   "cell_type": "markdown",
   "id": "2f32e74d-b7eb-47f1-814c-a25cd9a0859a",
   "metadata": {
    "jp-MarkdownHeadingCollapsed": true
   },
   "source": [
    "# Normalize by Plate|"
   ]
  },
  {
   "cell_type": "markdown",
   "id": "6441e44c-24bb-44a3-8d4c-fafb73a32b07",
   "metadata": {},
   "source": [
    "**`normalize Parameters()`**\r\n",
    "\n",
    "- **profiles :** pandas.core.frame.DataFrame or path\\\n",
    "    Either a pandas DataFrame or a file that stores profile data\n",
    "- **features :** list\\\n",
    "    A list of strings corresponding to feature measurement column names in the `profiles` DataFrame. All features listed must be found in `profiles`.\\\n",
    "    Defaults to `\"infer\"`. If `\"infer\"`, then assume cell painting features are those prefixed with `\"Cells\"`, `\"Nuclei\"`, or `\"Cytoplasm\"`.\n",
    "- **image_features:** bool, default False\\\n",
    "    Whether the profiles contain image features.\n",
    "- **meta_features :** list\\\n",
    "    A list of strings corresponding to metadata column names in the `profiles`DataFrame. All features listed must be found in `profiles`. Defaults to \"infer\".\n",
    "    If `\"infer\"`, then assume metadata features are those prefixed with `\"Metadata\"`\n",
    "- **samples :** tsr, default `allr\\\n",
    "    The metadata column values to use as a normalization reference. We often us econtrol samples. The function uses a `pd.query()` function, so you should\\\n",
    "    structure samples in this fashion. An example is\"Metadata_treatment == 'control'\" (include all quotes). Defaults to \"all\".\n",
    "- **method :** str  `'standardize'` | `'robustize'` | `'mad_robustize'` | `'spherize'` \\\n",
    "    How to normalize the dataframe. Defaults to \"standardize\". Check avail_method sfor available normalization methods.\n",
    "- **output_file :** str, optional\\\n",
    "    If provided, will write normalized profiles to file. If not specified, will return the normalized profiles as outpu.t\\\n",
    "    We recommend that this output file b  suffixed with \"_normalized.csv\".\n",
    "- **output_type :** str, optional\\\n",
    "    If provided, will write normalized profiles as a specified file type (either CSV or parquet).\n",
    "    If not specified and output_file is provided, then the file will be outputed as CSV as default.\n",
    "- **compression_options :** str or dict, optional\\\n",
    "    Contains compression options as input to pd.DataFrame.to_csv(compression=compression_options). pandas version >= 1.2.\n",
    "- **float_format :** str, optional\\\n",
    "    Decimal precision to use in writing output file as input to\n",
    "    pd.DataFrame.to_csv(float_format=float_format). For example, use \"%.3g\" for 3\n",
    "    decimal precision.\n",
    "- **mad_robustize_epsilon:** float, optional\\\n",
    "    The mad_robustize fudge factor parameter. The function only uses\n",
    "    this variable if method = \"mad_robustize\". Set this to 0 if\n",
    "    mad_robustize generates features with large values.\n",
    "- **spherize_center :** bool\\\n",
    "    If the function should center data before sphering (aka whitening). The\n",
    "    function only uses this variable if method = \"spherize\". Defaults to True.\n",
    "- **spherize_method :** str\\\n",
    "    The sphering (aka whitening) normalization selection. The function only uses\n",
    "    this variable if method = \"spherize\". Defaults to \"ZCA-corr\". See\n",
    "    :py:func:`pycytominer.operations.transform` for available spherize methods.\n",
    "- **spherize_epsilon :** float, default 1e-6.\\\n",
    "    The sphering (aka whitening) fudge factor parameter. The function only uses\n",
    "    this variable if method = \"spherize\".\n",
    "  \n",
    "**Returns**\n",
    " \n",
    "- **normalized :** pandas.core.frame.DataFrame, optional\\\n",
    "    The normalized profile DataFrame. If output_file=None, then return the\n",
    "    DataFrame. If you specify output_file, then write to file and do not return\n",
    "    data.\n",
    ", then write to file and do not return\r\n",
    "        data\n",
    ".\r"
   ]
  },
  {
   "cell_type": "code",
   "execution_count": null,
   "id": "b1e5771b-8497-44aa-9704-9b9d2bcdf1e8",
   "metadata": {},
   "outputs": [],
   "source": [
    "try:\n",
    "    df_normalized = normalize(\n",
    "        profiles=df_join,\n",
    "        features=\"infer\",\n",
    "        meta_features=\"infer\",\n",
    "        samples=\"all\",\n",
    "        method=\"standardize\",\n",
    "        # method=\"robustize\",\n",
    "        # method=\"mad_robustize\",\n",
    "        # method=\"spherize\",\n",
    "        # output_file=None,\n",
    "        # mad_robustize_epsilon = 0 , \n",
    "        # compression_options=compression_options,\n",
    "    )    \n",
    "except Exception as e:\n",
    "    print(f\" exception:  {e} occurred at {keys}\")"
   ]
  },
  {
   "cell_type": "code",
   "execution_count": null,
   "id": "1889d808-a9d1-49f9-b0e4-033037351d2c",
   "metadata": {},
   "outputs": [],
   "source": [
    "df_normalized.head(5)"
   ]
  },
  {
   "cell_type": "code",
   "execution_count": null,
   "id": "8ca0ee89-d5b6-4ec0-95bf-9b44cb94464c",
   "metadata": {
    "scrolled": true
   },
   "outputs": [],
   "source": [
    "# df_normalized[:10]\n",
    "# df_normalized.isna().any(axis=1)"
   ]
  },
  {
   "cell_type": "code",
   "execution_count": null,
   "id": "18f7641c-598d-4da5-ae86-90d32d717f20",
   "metadata": {
    "scrolled": true
   },
   "outputs": [],
   "source": [
    "disp_stats(df_normalized, col_dict['Cells'][:20])"
   ]
  },
  {
   "cell_type": "code",
   "execution_count": null,
   "id": "b5678160-b9d8-49bc-8e6e-42e730220ffc",
   "metadata": {},
   "outputs": [],
   "source": [
    "disp_stats(df_normalized, ['Cells_AreaShape_Area', 'Nuclei_Texture_Variance_RNA_10_03_256'])"
   ]
  },
  {
   "cell_type": "markdown",
   "id": "b798c84c-eb4c-4b9b-98ac-a28f23264dcd",
   "metadata": {},
   "source": [
    "## Display and plot normalized columns"
   ]
  },
  {
   "cell_type": "code",
   "execution_count": null,
   "id": "ece01d52-85d3-4cd3-a227-dc7f6e795aa4",
   "metadata": {},
   "outputs": [],
   "source": [
    "# disp_stats(df_normalized_robust, ['Cells_AreaShape_Area', 'Nuclei_Texture_Variance_RNA_10_03_256'])\n",
    "# disp_stats(df_normalized_mad, ['Cells_AreaShape_Area', 'Nuclei_Texture_Variance_RNA_10_03_256'])\n",
    "# len(col_dict['Cells'])\n",
    "# col_dict['Cells'][:20]"
   ]
  },
  {
   "cell_type": "code",
   "execution_count": null,
   "id": "e6f64be6-ce56-4054-b2d4-d6b1a83eedb3",
   "metadata": {},
   "outputs": [],
   "source": [
    "# fig = px.box(df_normalized, y=cols_subset[:34], notched=True)\n",
    "import plotly.graph_objects as go\n",
    "from plotly.colors import n_colors\n",
    "# px.violin(df_normalized, y = col_list,  width=1600, height=800  )\n",
    " \n",
    "\n",
    "col_list = col_dict['Cells'][:20]\n",
    "col_list = col_dict['Cells'][:35]\n",
    "\n",
    "colors = n_colors('rgb(5, 200, 200)', 'rgb(200, 10, 10)', len(col_list), colortype='rgb')\n",
    "# del fig\n",
    "fig = go.Figure();\n",
    "for data_line, color in zip(col_list , colors):\n",
    "    col_name = '_'.join(data_line.split('_')[2:])\n",
    "    fig.add_trace(go.Violin(y=df_normalized[data_line], line_color=color, name = col_name,box_visible=True,));\n",
    "fig.update_layout(xaxis_showgrid=False, \n",
    "                    xaxis_zeroline=True,\n",
    "                    autosize=False,\n",
    "                    width=2500,\n",
    "                    height=750,\n",
    "                    margin=dict(\n",
    "                        l=50,\n",
    "                        r=50,\n",
    "                        b=20,\n",
    "                        t=20,\n",
    "                        pad=4\n",
    "                    ),\n",
    "                    paper_bgcolor=\"LightSteelBlue\",\n",
    ");"
   ]
  },
  {
   "cell_type": "code",
   "execution_count": null,
   "id": "7ef25b90-5ae2-463c-ac6a-bbe406b9986a",
   "metadata": {},
   "outputs": [],
   "source": [
    "fig.show()"
   ]
  },
  {
   "cell_type": "markdown",
   "id": "1ca3d583-8d7a-41c8-963e-3e5f1fc01467",
   "metadata": {
    "jp-MarkdownHeadingCollapsed": true
   },
   "source": [
    "# Read Binned Profile files"
   ]
  },
  {
   "cell_type": "code",
   "execution_count": null,
   "id": "8182a301-4605-417b-b6e5-31c2f9a7d353",
   "metadata": {},
   "outputs": [],
   "source": [
    "# profilesFile = CompoundProfiles2SampleFile + '_001' + CSV\n",
    "# oldOutputFile ='./output_11102023/compound_profiles_2samples_old2.csv.bz2'\n",
    "x=17\n",
    "x = 1\n",
    "x = 4\n",
    "profilesFile =  \"./output_11102023/binned_profiles/binned_2sample_profiles_{0:03d}.csv\"\n",
    "print(f\" Read from {profilesFile.format(x)}\")"
   ]
  },
  {
   "cell_type": "code",
   "execution_count": null,
   "id": "a7ed9327-f1a8-4067-80d2-b3ee94fdf575",
   "metadata": {
    "scrolled": true
   },
   "outputs": [],
   "source": [
    "df_profiles =  pd.read_csv(profilesFile, \n",
    "                           # nrows = 20,\n",
    "                           # skiprows = 0, \n",
    "                           # header = 0, \n",
    "                           names = COMPOUND_PROFILE_COLUMNS, \n",
    "                           usecols = MetadataNames, \n",
    "                           # usecols = ['Metadata_JCP2022', 'Metadata_permiation', 'Cells_AreaShape_Area']\n",
    "                           dtype= string_conversions,\n",
    "                           # dtype = conversionDict,\n",
    "                          )"
   ]
  },
  {
   "cell_type": "code",
   "execution_count": null,
   "id": "85aeac09-b55e-478f-8436-49a658f2ffa3",
   "metadata": {
    "scrolled": true
   },
   "outputs": [],
   "source": [
    "df_profiles.shape\n",
    "df_profiles.columns\n",
    "# df_profiles.loc[0]\n",
    "# df_profiles.memory_usage(deep=True).sum()\n",
    "# df_profiles.memory_usage(deep=True)[:20]\n",
    "df_profiles.head(5)\n",
    "# df_profiles.info(verbose=True)\n",
    "# HEADER_LIST = df_profiles.columns.to_list()"
   ]
  },
  {
   "cell_type": "code",
   "execution_count": null,
   "id": "e5e30bfd-1877-4e26-8a19-f4fa310f3146",
   "metadata": {
    "scrolled": true
   },
   "outputs": [],
   "source": [
    "# files = [f for f in pathlib.Path().glob(f\"{output_path}/profiles/*.csv\")]\n",
    "# files.sort()\n",
    "# files\n",
    "# for profilesFile in files:\n",
    "\n",
    "# for x in range(1,12):\n",
    "#     profilesFile = CompoundProfiles2SampleFile + f\"_{x:03d}\" + CSV\n",
    "#     profilesFile_a = CompoundProfiles2SampleFile + f\"_{x:03d}_a\" + CSV\n",
    "    \n",
    "#     df_iter =  pd.read_csv(profilesFile, \n",
    "#                            low_memory = True,\n",
    "#                            # skiprows = 0,\n",
    "#                            # nrows = 5,\n",
    "#                            header = 0,\n",
    "#                            # chunksize= 10000,  \n",
    "#                            # iterator = True, \n",
    "#                            # dtype = conversionDict,\n",
    "#                            # names=JOIN_COLUMNS,\n",
    "#                            # usecols = JOIN_COLUMNS\n",
    "#                           )\n",
    "#     # for i, df_profiles in enumerate(df_iter):\n",
    "#     # print(f\"*** Chunk {i}   Starting index : {df_profiles.index[0]}   Ending Index {df_profiles.index[-1]}\")\n",
    "#     # print(f\"\\t Number of rows {df_profiles.shape[0]}   Size of chunk read: {df_profiles.memory_usage(deep=True).sum():,d} bytes\")\n",
    "#     # inv_cols = check_values(df_profiles,  numeric_columns)\n",
    "#     print(\"-\"*150)\n",
    "#     print(f\" {profilesFile}   {df_iter.shape}\") \n",
    "#     print(\"-\"*150)\n",
    "#     df_iter.head(3)\n",
    "#     print(\"\\n\\n\")\n",
    "    \n",
    "#     # df_profiles.tail(5)\n",
    "#     # if x > 13 :\n",
    "#     break"
   ]
  },
  {
   "cell_type": "code",
   "execution_count": null,
   "id": "6ab72b37-2cc6-472c-9cfb-18672ee3878a",
   "metadata": {
    "scrolled": true
   },
   "outputs": [],
   "source": [
    "# files = [f for f in pathlib.Path().glob(f\"{output_path}/profiles/*.csv\")]\n",
    "# files.sort()\n",
    "# files\n",
    "# for profilesFile in files:\n",
    "\n",
    "for x in range(1,6):\n",
    "    \n",
    "    # profilesFile = CompoundProfiles2SampleFile + f\"_{x:03d}\" + CSV\n",
    "    # profilesFile_a = CompoundProfiles2SampleFile + f\"_{x:03d}_a\" + CSV\n",
    "    \n",
    "    df_iter =  pd.read_csv(profilesFile.format(x), \n",
    "                           low_memory = True,\n",
    "                           # skiprows = 0,\n",
    "                           # nrows = 5,\n",
    "                           header = 0,\n",
    "                           names = COMPOUND_PROFILE_COLUMNS, \n",
    "                           # names=JOIN_COLUMNS,\n",
    "                           usecols = MetadataNames, \n",
    "                           # usecols = ['Metadata_JCP2022', 'Metadata_permiation', 'Cells_AreaShape_Area']\n",
    "                           dtype= string_conversions,\n",
    "                           # dtype = conversionDict,\n",
    "                           # chunksize= 10000,  \n",
    "                           # iterator = True, \n",
    "                          )\n",
    "    # for i, df_profiles in enumerate(df_iter):\n",
    "    # print(f\"*** Chunk {i}   Starting index : {df_profiles.index[0]}   Ending Index {df_profiles.index[-1]}\")\n",
    "    # print(f\"\\t Number of rows {df_profiles.shape[0]}   Size of chunk read: {df_profiles.memory_usage(deep=True).sum():,d} bytes\")\n",
    "    # inv_cols = check_values(df_profiles,  numeric_columns)\n",
    "    print(\"-\"*150)\n",
    "    print(f\" {profilesFile.format(x)}   {df_iter.shape}\") \n",
    "    print(\"-\"*150)\n",
    "    df_iter.head(4)\n",
    "    df_iter.tail(4)\n",
    "    print(\"\\n\\n\")\n",
    "    \n",
    "    # df_profiles.tail(5)\n",
    "    # if x > 13 :\n",
    "    # break"
   ]
  },
  {
   "cell_type": "code",
   "execution_count": null,
   "id": "48d6a4b8-dd82-4848-a309-faf3368bed8f",
   "metadata": {},
   "outputs": [],
   "source": []
  },
  {
   "cell_type": "markdown",
   "id": "3e527e45-8672-46da-aee3-4ae65c3771d2",
   "metadata": {
    "jp-MarkdownHeadingCollapsed": true
   },
   "source": [
    "# Experiments on reducing the memory foot print "
   ]
  },
  {
   "cell_type": "markdown",
   "id": "af7e44e5-627c-4f36-a1fb-64b883b80961",
   "metadata": {
    "jp-MarkdownHeadingCollapsed": true
   },
   "source": [
    "- converting the Metadata fields from `object` to `category`"
   ]
  },
  {
   "cell_type": "code",
   "execution_count": null,
   "id": "6c460920-8d4f-4599-a9e4-5b71aec2aee4",
   "metadata": {},
   "outputs": [],
   "source": [
    "try: \n",
    "    del df_profiles2\n",
    "except Exception as e:\n",
    "    pass"
   ]
  },
  {
   "cell_type": "code",
   "execution_count": null,
   "id": "ac566b5a-c034-4c38-91fe-04f4d6fdb2f5",
   "metadata": {},
   "outputs": [],
   "source": [
    "outputFile = CompoundProfiles2SampleFile\n",
    "type = '.bz2'\n",
    "\n",
    "compoundProfiles = outputFile+type\n",
    "# del df_profiles_list \n",
    "print(f\" Read from {compoundProfiles}\")"
   ]
  },
  {
   "cell_type": "code",
   "execution_count": null,
   "id": "38e12f49-a29d-4ce2-81e9-7f239ac1b9b7",
   "metadata": {},
   "outputs": [],
   "source": [
    "print(compoundProfiles)"
   ]
  },
  {
   "cell_type": "code",
   "execution_count": null,
   "id": "49b62afe-b7fd-4d3c-9f9a-5a6a8b60c0c2",
   "metadata": {},
   "outputs": [],
   "source": [
    "df_profiles2 =  pd.read_csv(compoundProfiles, usecols = ['Metadata_Source'], nrows=30000)"
   ]
  },
  {
   "cell_type": "code",
   "execution_count": null,
   "id": "0f29d7ff-aafa-4b70-b0ed-8002c67217d3",
   "metadata": {},
   "outputs": [],
   "source": [
    "df_profiles2.info()\n",
    "\n",
    "df_profiles2.memory_usage(deep=True)[:6]"
   ]
  },
  {
   "cell_type": "code",
   "execution_count": null,
   "id": "69271435-52ab-43d6-9d5e-5922d2bebb5e",
   "metadata": {},
   "outputs": [],
   "source": [
    "## experiment with converting columns to \"category\" type to reduce memory footprint\n",
    "\n",
    "# df_profiles2 = df_profiles.copy()\n",
    "# del df_profiles2\n",
    "# df_profiles2[\"Metadata_Source\"] = df_profiles2[\"Metadata_Source\"].astype(\"category\")\n",
    "# df_profiles2[\"Metadata_Batch\"] = df_profiles2[\"Metadata_Batch\"].astype(\"category\")\n",
    "# df_profiles2[\"Metadata_Plate\"] = df_profiles2[\"Metadata_Plate\"].astype(\"category\")\n",
    "# df_profiles2[\"Metadata_Well\"] = df_profiles2[\"Metadata_Well\"].astype(\"category\")\n",
    "\n",
    "# df_profiles2[\"Metadata_JCP2022\"] = df_profiles2[\"Metadata_JCP2022\"].astype(\"object\")"
   ]
  },
  {
   "cell_type": "code",
   "execution_count": null,
   "id": "2665d92c-7273-4891-9ec2-6abf1fdec2eb",
   "metadata": {},
   "outputs": [],
   "source": [
    "df_profiles2.memory_usage(deep=True)[:6]"
   ]
  },
  {
   "cell_type": "code",
   "execution_count": null,
   "id": "166b0720-9f4d-419a-b049-7d67df669cfe",
   "metadata": {},
   "outputs": [],
   "source": [
    "del df_profiles2"
   ]
  },
  {
   "cell_type": "code",
   "execution_count": null,
   "id": "a87b2e43-da4e-42c2-8be9-627599147c76",
   "metadata": {},
   "outputs": [],
   "source": [
    "df_profiles2.memory_usage(deep=True)[:6]\n",
    "df_profiles2.head(10)\n",
    "df_profiles2.tail(10)"
   ]
  },
  {
   "cell_type": "markdown",
   "id": "5be19048",
   "metadata": {},
   "source": [
    "**Each row in `dframes` is well-level profile, containing thousands of features (n=4762) averaged over (typically) a couple of thousand cells per well.**"
   ]
  },
  {
   "cell_type": "code",
   "execution_count": null,
   "id": "3a74fa3a-382e-400e-a403-46791577e5b5",
   "metadata": {
    "ExecuteTime": {
     "end_time": "2023-06-27T17:22:35.088132Z",
     "start_time": "2023-06-27T17:22:35.044446Z"
    },
    "scrolled": true
   },
   "outputs": [],
   "source": [
    "df_profiles.columns[-5:]"
   ]
  },
  {
   "cell_type": "code",
   "execution_count": null,
   "id": "77d2c8e6-05e7-4c56-8cbc-13d69ebabd36",
   "metadata": {
    "ExecuteTime": {
     "end_time": "2023-06-27T17:22:35.088132Z",
     "start_time": "2023-06-27T17:22:35.044446Z"
    },
    "scrolled": true
   },
   "outputs": [],
   "source": [
    "# df_profiles.drop(columns='_merge', inplace = True)\n",
    "df_profiles2.columns[:20]\n",
    "df_profiles2.columns[-5:]\n",
    "df_profiles2.head(2)\n",
    "# df_profiles.index.value_counts()\n",
    "print('---------------------------------------------------------------')\n",
    "print(' Before Index Reset')\n",
    "print('---------------------------------------------------------------')\n",
    "df_profiles2[1552:1557]\n",
    "print('---------------------------------------------------------------')\n",
    "d"
   ]
  },
  {
   "cell_type": "code",
   "execution_count": null,
   "id": "ff5aa23f-f141-420f-97b5-09e1700e4c85",
   "metadata": {
    "ExecuteTime": {
     "end_time": "2023-06-27T17:22:35.088132Z",
     "start_time": "2023-06-27T17:22:35.044446Z"
    },
    "scrolled": true
   },
   "outputs": [],
   "source": [
    "df_profiles2.reset_index(drop=True, inplace = True)\n",
    "df_profiles2.info()\n",
    "print('---------------------------------------------------------------')\n",
    "print(' After Index Reset')\n",
    "print('---------------------------------------------------------------')\n",
    "df_profiles2.head(5)\n",
    "df_profiles2.tail(5)\n",
    "print('---------------------------------------------------------------')"
   ]
  },
  {
   "cell_type": "code",
   "execution_count": null,
   "id": "03e7398e-219d-49d5-9161-39fa0803357c",
   "metadata": {
    "scrolled": true
   },
   "outputs": [],
   "source": [
    "df_info = df_profiles.info(max_cols = 10,verbose = True, memory_usage = True, show_counts = True)"
   ]
  },
  {
   "cell_type": "code",
   "execution_count": null,
   "id": "042a515b-347f-485f-8015-b55ba8274830",
   "metadata": {},
   "outputs": [],
   "source": [
    "st_col, end_col = 0,10\n",
    "col_list = list(df_profiles.columns)\n",
    "col_list[st_col:end_col]\n",
    "df_profiles[col_list[st_col:end_col]].shape\n",
    "df_profiles[col_list[st_col:end_col]]"
   ]
  },
  {
   "cell_type": "code",
   "execution_count": null,
   "id": "477437c5-c788-4750-b4b0-43fc961385b9",
   "metadata": {},
   "outputs": [],
   "source": [
    "# dframes.drop(index=384, inplace = True)"
   ]
  },
  {
   "cell_type": "markdown",
   "id": "ed2cb019-7511-4068-9314-daf0e9688461",
   "metadata": {
    "jp-MarkdownHeadingCollapsed": true
   },
   "source": [
    "# Get Plate Level Stats"
   ]
  },
  {
   "cell_type": "code",
   "execution_count": null,
   "id": "aa8ae4b0-ad41-4487-9d97-698d398f4753",
   "metadata": {},
   "outputs": [],
   "source": [
    "def get_stats(df_stats, df_data):\n",
    "    df_data_cols = df_data.columns.tolist()\n",
    "    print(df_data_cols[:10])\n",
    "    if len(df_stats.columns) == 0 :\n",
    "        print(f\" length of df_stats.columns: {len(df_stats.columns)}\")\n",
    "        df_stats = pd.DataFrame(columns = [\"Stat\"]+(df_data.columns.tolist()) ) \n",
    "        df_stats_cols = df_stats.columns.tolist()\n",
    "        print(df_stats_cols[:10])\n",
    "    col_data = [df_data.iloc[0,0], df_data.iloc[0,1], \"All wells\"]\n",
    "    print(col_data)\n",
    "    df_stats.loc[len(df_stats)] = [\"Minimum\"] + col_data + df_data.min(0).tolist()[5:] \n",
    "    df_stats.loc[len(df_stats)] = [\"Maximum\"] + col_data + df_data.max(0).tolist()[5:] \n",
    "    # df_stats.loc[len(df_stats)] = [\"Mean\"]    + col_data + df_data.mean(0, numeric_only=True).tolist()[5:] \n",
    "    # df_stats.loc[len(df_stats)] = [\"Median\"]  + col_data + df_data.median(0, numeric_only=True).tolist()[5:] \n",
    "    print(type(df_stats), len(df_stats))\n",
    "    return df_stats\n",
    "\n"
   ]
  },
  {
   "cell_type": "code",
   "execution_count": null,
   "id": "aa8d0bfb-29fb-4531-a6c6-7f7f1e1041a4",
   "metadata": {},
   "outputs": [],
   "source": [
    "del stats\n",
    "stats = pd.DataFrame()\n",
    "stats = get_stats(stats, df_profiles)"
   ]
  },
  {
   "cell_type": "code",
   "execution_count": null,
   "id": "fafe34d3-a295-4621-b812-9bc0aac08e07",
   "metadata": {},
   "outputs": [],
   "source": [
    "print(type(stats), len(stats))\n",
    "stats"
   ]
  },
  {
   "cell_type": "code",
   "execution_count": null,
   "id": "78037265",
   "metadata": {
    "ExecuteTime": {
     "end_time": "2023-06-27T18:08:46.481573Z",
     "start_time": "2023-06-27T18:08:46.463611Z"
    },
    "scrolled": true
   },
   "outputs": [],
   "source": [
    "# for i in dframes.columns[:500]:\n",
    "#     print(f' {i}')\n",
    "# stats.columns.to_series().to_csv('./output/measurement_column_names.csv')\n",
    "stats.to_csv('./output/sample_statistics.csv')"
   ]
  },
  {
   "cell_type": "markdown",
   "id": "d5f4b16f",
   "metadata": {
    "jp-MarkdownHeadingCollapsed": true
   },
   "source": [
    "## Join features with Compound and Well metadata\n",
    "\n",
    "The profiles are annotated with only three columns of metadata (source, plate, well).\n",
    "\n",
    "Let's add more metadata!"
   ]
  },
  {
   "cell_type": "code",
   "execution_count": null,
   "id": "f58cab74-e6f7-4496-b221-1a5832a4af15",
   "metadata": {},
   "outputs": [],
   "source": [
    "# wells[(wells.Metadata_Source == \"source_3\") & (wells.Metadata_Plate == \"BR5874c3\") & (wells.Metadata_JCP2022 == \"JCP2022_999999\")][20:50]"
   ]
  },
  {
   "cell_type": "code",
   "execution_count": null,
   "id": "9573ac41-50eb-4b28-a73d-124906e7a27d",
   "metadata": {},
   "outputs": [],
   "source": [
    "wells.head(3)\n",
    "plates.head(3)"
   ]
  },
  {
   "cell_type": "code",
   "execution_count": null,
   "id": "02605c1f-41d3-4911-b055-61e4fa18af0a",
   "metadata": {
    "ExecuteTime": {
     "end_time": "2023-06-23T19:10:04.288315Z",
     "start_time": "2023-06-23T19:10:03.912980Z"
    }
   },
   "outputs": [],
   "source": [
    "metadata = wells.merge(plates, on=[\"Metadata_Source\", \"Metadata_Plate\"])"
   ]
  },
  {
   "cell_type": "code",
   "execution_count": null,
   "id": "0e421673-69ed-4c64-93e5-636d9defc01e",
   "metadata": {},
   "outputs": [],
   "source": [
    "metadata.info()\n",
    "metadata.head()\n",
    "metadata.Metadata_PlateType.value_counts()\n",
    "metadata2.Metadata_JCP2022.value_counts()"
   ]
  },
  {
   "cell_type": "code",
   "execution_count": null,
   "id": "67f3c9a0-a4de-4579-a16e-39df103ade8b",
   "metadata": {},
   "outputs": [],
   "source": [
    "compound.head(3)"
   ]
  },
  {
   "cell_type": "code",
   "execution_count": null,
   "id": "795148ab-d578-46b9-9e30-bd9f14af7bc2",
   "metadata": {
    "ExecuteTime": {
     "end_time": "2023-06-23T19:10:04.288315Z",
     "start_time": "2023-06-23T19:10:03.912980Z"
    }
   },
   "outputs": [],
   "source": [
    "metadata2 = metadata.merge(compound, on=\"Metadata_JCP2022\")\n",
    "metadata2.info()\n",
    "metadata2.head()\n",
    "metadata2.Metadata_PlateType.value_counts()\n",
    "metadata2.Metadata_JCP2022.value_counts()"
   ]
  },
  {
   "cell_type": "code",
   "execution_count": null,
   "id": "991113a0-b98a-4bc3-afae-3270febfdd17",
   "metadata": {},
   "outputs": [],
   "source": [
    "jcp_999999_idxs = metadata2[ metadata2.Metadata_JCP2022 == \"JCP2022_999999\"].index\n",
    "len(jcp_999999_idxs)"
   ]
  },
  {
   "cell_type": "code",
   "execution_count": null,
   "id": "6831e6ae-43d8-4b77-89a0-6efc7812ef36",
   "metadata": {},
   "outputs": [],
   "source": [
    "jcp_033924_idxs = metadata2[ metadata2.Metadata_JCP2022 == \"JCP2022_033924\"].index\n",
    "len(jcp_033924_idxs)"
   ]
  },
  {
   "cell_type": "code",
   "execution_count": null,
   "id": "8269d008-49ad-4905-9d30-ab56cee2af70",
   "metadata": {},
   "outputs": [],
   "source": [
    "# jcp_all_idxs = jcp_999999_idxs + jcp_033924_idx\n",
    "jcp_bad_idxs = pd.Index.append(jcp_999999_idxs,jcp_033924_idxs)\n",
    "len(jcp_bad_idxs)"
   ]
  },
  {
   "cell_type": "code",
   "execution_count": null,
   "id": "6ce7b707-e2ce-4d88-a2a0-81c50c21cd07",
   "metadata": {},
   "outputs": [],
   "source": [
    "metadata3 = metadata2.drop(jcp_bad_idxs)"
   ]
  },
  {
   "cell_type": "code",
   "execution_count": null,
   "id": "efa89df2-0ab7-4f99-be85-9e27f9a85a6c",
   "metadata": {},
   "outputs": [],
   "source": [
    "\n",
    "# metadata2 = compound.merge(wells, on=\"Metadata_JCP2022\")\n",
    "# metadata2.info()\n",
    "# metadata2.head()\n",
    "# metadata2.Metadata_JCP2022.value_counts()\n",
    "\n",
    "# metadata3 = metadata2.merge(plates, on=[\"Metadata_Source\", \"Metadata_Plate\"])\n",
    "metadata3.info()\n",
    "metadata3.head()\n",
    "metadata3.Metadata_JCP2022.value_counts()[:20]"
   ]
  },
  {
   "cell_type": "markdown",
   "id": "cf509a33-3987-4efb-812c-da49208c2fa7",
   "metadata": {},
   "source": [
    "### Save as `compound_well_plate.csv`"
   ]
  },
  {
   "cell_type": "code",
   "execution_count": null,
   "id": "08b0356a-1044-4d58-8a22-081afb542e22",
   "metadata": {},
   "outputs": [],
   "source": [
    "compoundWellPlateFile         = f\"./output/cwp_metadata_clean.csv\"\n",
    "metadata3.to_csv(compoundWellPlateFile)"
   ]
  },
  {
   "cell_type": "code",
   "execution_count": null,
   "id": "ca9af55f-54e2-4c39-a1a0-642044e3aadf",
   "metadata": {
    "ExecuteTime": {
     "end_time": "2023-06-23T19:10:04.288315Z",
     "start_time": "2023-06-23T19:10:03.912980Z"
    }
   },
   "outputs": [],
   "source": [
    "ann_dframe = metadata3.merge(    \n",
    "    dframes, on=[\"Metadata_Source\", \"Metadata_Plate\", \"Metadata_Well\"]\n",
    ")"
   ]
  },
  {
   "cell_type": "markdown",
   "id": "fd18825b",
   "metadata": {},
   "source": [
    "We now know a little bit more about each profile:"
   ]
  },
  {
   "cell_type": "code",
   "execution_count": null,
   "id": "9d78abd5-1000-41f9-9b53-511a7ea4b1e0",
   "metadata": {},
   "outputs": [],
   "source": [
    "ann_dframe.info()\n",
    "ann_dframe.head()\n",
    "ann_dframe.Metadata_PlateType.value_counts()\n",
    "ann_dframe.Metadata_JCP2022.value_counts()[:20]"
   ]
  },
  {
   "cell_type": "code",
   "execution_count": null,
   "id": "4ce31d1b",
   "metadata": {
    "ExecuteTime": {
     "end_time": "2023-06-23T19:10:05.749782Z",
     "start_time": "2023-06-23T19:10:05.741987Z"
    }
   },
   "outputs": [],
   "source": [
    "# ann_dframe.sample(2, random_state=42)\n",
    "ann_dframe.sort_values(\"Metadata_JCP2022\")"
   ]
  },
  {
   "cell_type": "markdown",
   "id": "73b7cb6b",
   "metadata": {},
   "source": [
    "More metadata information will be added in the future. "
   ]
  },
  {
   "cell_type": "markdown",
   "id": "ac99fea0-a68b-4441-a0cc-08916e8de7f8",
   "metadata": {
    "jp-MarkdownHeadingCollapsed": true
   },
   "source": [
    "# Plot features"
   ]
  },
  {
   "cell_type": "markdown",
   "id": "f43ebf55-f06f-4987-8eb2-5433ffa6ec4e",
   "metadata": {
    "jp-MarkdownHeadingCollapsed": true
   },
   "source": [
    "The scatterplot below contains every well in the sampled dataset.\n",
    "\n",
    "In the interactive plot (see settings for `pio.renderers.default` above), you can hover over the points to see the JCP ID and the InChiKey for a given compound.\n",
    "\n",
    "<div class=\"alert alert-warning\">\n",
    "NOTE: Because these are raw, unnormalized features, you will notice discernable clusters corresponding to each source due to batch effects.\n",
    "Upcoming data releases will included normalized features, where these effects are mitigated to some extent. \n",
    "</div>"
   ]
  },
  {
   "cell_type": "code",
   "execution_count": null,
   "id": "124a37ea-6993-4f1f-a571-cd545804c477",
   "metadata": {},
   "outputs": [],
   "source": [
    " # pio.renderers.default = 'jupyterl`ab'\n",
    "# pio.renderers.default = 'notebook_connected'\n",
    "pio.renderers.default = \"browser\""
   ]
  },
  {
   "cell_type": "code",
   "execution_count": null,
   "id": "8f53eb9e",
   "metadata": {
    "ExecuteTime": {
     "end_time": "2023-06-23T19:10:33.928926Z",
     "start_time": "2023-06-23T19:10:32.287950Z"
    }
   },
   "outputs": [],
   "source": [
    "from pickle import FALSE, TRUE\n",
    "del fig\n",
    "fig = px.scatter(\n",
    "    df_profiles,\n",
    "    x=\"Cells_AreaShape_Eccentricity\",\n",
    "    y=\"Cells_AreaShape_EulerNumber\",\n",
    "    color=\"Metadata_Source\",\n",
    "    hover_name=\"Metadata_JCP2022\",\n",
    "    hover_data=[\"Metadata_Source\"],\n",
    ")\n",
    "\n",
    "fig.show()"
   ]
  },
  {
   "cell_type": "markdown",
   "id": "e61d054c-7cc1-4d43-b385-38f6ce4b79c2",
   "metadata": {
    "jp-MarkdownHeadingCollapsed": true
   },
   "source": [
    "### **Use DASH**"
   ]
  },
  {
   "cell_type": "code",
   "execution_count": null,
   "id": "980d99de-e530-4d17-9730-d09d2d1d4a8c",
   "metadata": {},
   "outputs": [],
   "source": [
    "from dash import Dash, dcc, html, Input, Output\n",
    "import plotly.express as px\n",
    "\n",
    "app = Dash(__name__)\n",
    "\n",
    "app.layout = html.Div([\n",
    "    html.H4('Analysis of Iris data using scatter matrix'),\n",
    "    dcc.Dropdown(\n",
    "        id=\"dropdown\",\n",
    "        options=useColumns,\n",
    "        value=[useColumns[0], \"Cells_AreaShape_Eccentricity\"],\n",
    "        multi=True\n",
    "    ),\n",
    "    dcc.Graph(id=\"graph\"),\n",
    "])\n",
    "\n",
    "\n",
    "@app.callback(\n",
    "    Output(\"graph\", \"figure\"), \n",
    "    Input(\"dropdown\", \"value\"))\n",
    "def update_bar_chart(dims):\n",
    "    # df = px.data.iris() # replace with your own data source\n",
    "    # fig = px.scatter_matrix(\n",
    "    #     df_profiles, dimensions=dims, color=\"species\")\n",
    "    print(value)\n",
    "    fig = px.scatter(\n",
    "            df_profiles,\n",
    "            x=\"Cells_AreaShape_Eccentricity\",\n",
    "            y=\"Cells_AreaShape_EulerNumber\",\n",
    "            color=\"Metadata_Source\",\n",
    "            hover_name=\"Metadata_JCP2022\",\n",
    "            hover_data=[\"Metadata_Source\"],\n",
    "        )\n",
    "    return fig\n",
    "\n",
    "\n",
    "app.run_server(debug=True,port=8051)"
   ]
  },
  {
   "cell_type": "markdown",
   "id": "4bfb1c6b",
   "metadata": {},
   "source": [
    "So that's just a couple of (raw) measurements from the sentinel plates for 10/13 of the sources, for the principal dataset alone. "
   ]
  }
 ],
 "metadata": {
  "kernelspec": {
   "display_name": "Python [conda env:cp311]",
   "language": "python",
   "name": "conda-env-cp311-py"
  },
  "language_info": {
   "codemirror_mode": {
    "name": "ipython",
    "version": 3
   },
   "file_extension": ".py",
   "mimetype": "text/x-python",
   "name": "python",
   "nbconvert_exporter": "python",
   "pygments_lexer": "ipython3",
   "version": "3.11.4"
  },
  "toc": {
   "base_numbering": 1,
   "nav_menu": {},
   "number_sections": true,
   "sideBar": true,
   "skip_h1_title": false,
   "title_cell": "Table of Contents",
   "title_sidebar": "Contents",
   "toc_cell": false,
   "toc_position": {},
   "toc_section_display": true,
   "toc_window_display": false
  },
  "vscode": {
   "interpreter": {
    "hash": "99b7565f135174dc0b2b48bf12677acb9f68934ef480bdca979ca8cd3dcbc0b9"
   }
  }
 },
 "nbformat": 4,
 "nbformat_minor": 5
}
