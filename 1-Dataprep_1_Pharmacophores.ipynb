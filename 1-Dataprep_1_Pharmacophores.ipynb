{
 "cells": [
  {
   "cell_type": "markdown",
   "id": "8084897c",
   "metadata": {
    "ExecuteTime": {
     "end_time": "2023-10-03T21:41:19.195342Z",
     "start_time": "2023-10-03T21:41:19.185461Z"
    }
   },
   "source": [
    "\n",
    " Use Jump CP metadata file as input \n",
    "\n",
    "    - Add Smiles to the metadata file, remove all rows with invalid InChI or SMILES fingerprint\n",
    "    - Compute Pharmacophores for each compound\n",
    "    - Save pharmacophore vectors as sparse file\n",
    "    "
   ]
  },
  {
   "cell_type": "markdown",
   "id": "9997e167",
   "metadata": {},
   "source": [
    "# Initialization"
   ]
  },
  {
   "cell_type": "code",
   "execution_count": 1,
   "id": "a7ce6847",
   "metadata": {
    "ExecuteTime": {
     "end_time": "2023-10-03T19:43:51.966859Z",
     "start_time": "2023-10-03T19:43:51.956309Z"
    },
    "execution": {
     "iopub.execute_input": "2023-11-09T22:10:01.519330Z",
     "iopub.status.busy": "2023-11-09T22:10:01.518883Z",
     "iopub.status.idle": "2023-11-09T22:10:01.534130Z",
     "shell.execute_reply": "2023-11-09T22:10:01.533419Z",
     "shell.execute_reply.started": "2023-11-09T22:10:01.519309Z"
    }
   },
   "outputs": [
    {
     "data": {
      "text/html": [
       "<style>.container { width:98% !important; }</style>"
      ],
      "text/plain": [
       "<IPython.core.display.HTML object>"
      ]
     },
     "metadata": {},
     "output_type": "display_data"
    }
   ],
   "source": [
    "from IPython.display import display, HTML\n",
    "display(HTML(\"<style>.container { width:98% !important; }</style>\"))\n",
    "%load_ext autoreload  \n",
    "%autoreload 2\n",
    "from IPython.core.interactiveshell import InteractiveShell\n",
    "InteractiveShell.ast_node_interactivity = \"all\""
   ]
  },
  {
   "cell_type": "code",
   "execution_count": 2,
   "id": "84ea9b01",
   "metadata": {
    "ExecuteTime": {
     "end_time": "2023-10-03T19:43:54.771540Z",
     "start_time": "2023-10-03T19:43:52.207262Z"
    },
    "execution": {
     "iopub.execute_input": "2024-05-07T16:07:11.652607Z",
     "iopub.status.busy": "2024-05-07T16:07:11.651875Z",
     "iopub.status.idle": "2024-05-07T16:07:11.739378Z",
     "shell.execute_reply": "2024-05-07T16:07:11.738321Z",
     "shell.execute_reply.started": "2024-05-07T16:07:11.652539Z"
    }
   },
   "outputs": [
    {
     "name": "stdout",
     "output_type": "stream",
     "text": [
      "['../..', './src', '/home/kevin/WSL-shared/Cellpainting/cj-datasets', '/home/kevin/miniforge3/envs/cp311/lib/python311.zip', '/home/kevin/miniforge3/envs/cp311/lib/python3.11', '/home/kevin/miniforge3/envs/cp311/lib/python3.11/lib-dynload', '', '/home/kevin/miniforge3/envs/cp311/lib/python3.11/site-packages', '/home/kevin/miniforge3/envs/cp311/lib/python3.11/site-packages/huggingface_hub-0.20.3-py3.8.egg']\n"
     ]
    }
   ],
   "source": [
    "import os\n",
    "import sys\n",
    "import argparse\n",
    "import csv\n",
    "import json\n",
    "import time\n",
    "import types, copy, pprint\n",
    "from datetime import datetime\n",
    "for p in ['./src','../..']:\n",
    "    if p not in sys.path:\n",
    "        print(f\"insert {p}\")\n",
    "        sys.path.insert(0, p)\n",
    "print(sys.path)\n",
    "from operator import  mod\n",
    "import numpy as np\n",
    "import pandas as pd\n",
    "import matplotlib.pyplot as plt\n",
    "from scipy.sparse import csr_matrix\n",
    "# from utils_chem import getTPSAFromRDKit, getSmilesFromRDKit\n",
    "from KevinsRoutines.utils.utils_chem  import getTPSAFromRDKit, getSmilesFromRDKit\n",
    "# appendSmilesFromRDKit,\n",
    "from KevinsRoutines.utils.utils_chem  import (getPharmacophoresFromRDKit,  appendMolFromRDKit, \n",
    "                                              my_enumerator, starmap_with_kwargs_async, fingerprint_to_sparse_matrix)\n",
    "# from KevinsRoutines.utils.utils_general  import  list_namespace \n",
    "\n",
    "from itertools import repeat\n",
    "import more_itertools\n",
    "from multiprocessing import Pool, process\n",
    "from os import getpid\n",
    "from rdkit.Chem import PandasTools\n",
    "\n",
    "pp = pprint.PrettyPrinter(indent=4)\n",
    "np.set_printoptions(edgeitems=10, infstr='inf', linewidth=150, nanstr='nan')\n",
    "pd.options.display.width = 180"
   ]
  },
  {
   "cell_type": "code",
   "execution_count": 3,
   "id": "539993b3",
   "metadata": {
    "ExecuteTime": {
     "end_time": "2023-10-03T19:43:54.784757Z",
     "start_time": "2023-10-03T19:43:54.773411Z"
    },
    "execution": {
     "iopub.execute_input": "2024-05-07T16:07:15.392779Z",
     "iopub.status.busy": "2024-05-07T16:07:15.392269Z",
     "iopub.status.idle": "2024-05-07T16:07:15.404694Z",
     "shell.execute_reply": "2024-05-07T16:07:15.403698Z",
     "shell.execute_reply.started": "2024-05-07T16:07:15.392736Z"
    },
    "scrolled": true
   },
   "outputs": [
    {
     "data": {
      "text/plain": [
       "'18:07:15 05/07/24 CEST'"
      ]
     },
     "execution_count": 3,
     "metadata": {},
     "output_type": "execute_result"
    }
   ],
   "source": [
    "time.strftime('%X %x %Z')\n",
    "# datetime.now().strftime('%X.%f')"
   ]
  },
  {
   "cell_type": "code",
   "execution_count": 5,
   "id": "139f638c-defc-46ce-8603-f62ca70da87d",
   "metadata": {
    "execution": {
     "iopub.execute_input": "2024-05-07T16:11:01.105936Z",
     "iopub.status.busy": "2024-05-07T16:11:01.105440Z",
     "iopub.status.idle": "2024-05-07T16:11:01.111022Z",
     "shell.execute_reply": "2024-05-07T16:11:01.110001Z",
     "shell.execute_reply.started": "2024-05-07T16:11:01.105894Z"
    }
   },
   "outputs": [],
   "source": [
    "import jcp_datasets as ds"
   ]
  },
  {
   "cell_type": "code",
   "execution_count": 9,
   "id": "a1c16a7a",
   "metadata": {
    "ExecuteTime": {
     "end_time": "2023-10-03T19:45:19.343267Z",
     "start_time": "2023-10-03T19:45:19.329174Z"
    },
    "execution": {
     "iopub.execute_input": "2024-05-07T16:18:41.183490Z",
     "iopub.status.busy": "2024-05-07T16:18:41.182981Z",
     "iopub.status.idle": "2024-05-07T16:18:41.193603Z",
     "shell.execute_reply": "2024-05-07T16:18:41.192927Z",
     "shell.execute_reply.started": "2024-05-07T16:18:41.183448Z"
    }
   },
   "outputs": [
    {
     "name": "stdout",
     "output_type": "stream",
     "text": [
      " prefix                                                  :  \n",
      "\n",
      " cmpnd Metadata Input File                               : ./metadata/_compound_metadata.csv \n",
      "\n",
      "\n",
      " compound Metadata : \n",
      " ------------------- \n",
      " Metadata Input File                         : ./metadata/_compound_metadata.csv\n",
      "       + Smiles                              : ./output_11102023/compound_metadata_smiles.csv\n",
      "       + Smiles Cleaned                      : ./output_11102023/compound_metadata_smiles_clean.csv\n",
      "\n",
      "       + TPSA                                : ./output_11102023/compound_metadata_tpsa.csv\n",
      "       + TPSA Cleaned (removed TPSA = 0)     : ./output_11102023/compound_metadata_tpsa_clean.csv\n",
      "\n",
      "       + Base64 Pharmacophores               : ./output_11102023/_compound_metadata_pcfp.csv\n",
      "\n",
      " compound/TPSA File:\n",
      " -------------------\n",
      " compound TPSA File                          : ./output_11102023/compound_TPSA.csv\n",
      " compound TPSA Clean File                    : ./output_11102023/compound_TPSA_clean.csv\n",
      "\n",
      " compound/Pharmacophore Files :\n",
      " ------------------------------\n",
      " compound Pharmacophore Sparse File          : ./output_11102023/compound_pharmacophores_sparse.pkl\n",
      " compound Pharmacophore Sparse Cleaned File  : ./output_11102023/compound_pharmacophores_sparse_clean.pkl\n",
      "\n",
      " compound Pharmacophore Dense File           : ./output_11102023/compound_pharmacophores_dense.npy\n",
      " compound Pharmacophore Dense Zipped File    : ./output_11102023/compound_pharmacophores_dense.npz\n"
     ]
    }
   ],
   "source": [
    "print(f\" prefix                                                  : {ds.prefix} \\n\" )\n",
    "print(f\" cmpnd Metadata Input File                               : {ds.compoundMetadataInputFile} \\n\")\n",
    "print()\n",
    "print(f\" compound Metadata : \")\n",
    "print(f\" ------------------- \")\n",
    "print(f\" Metadata Input File                         : {ds.compoundMetadataInputFile}\")\n",
    "print(f\"       + Smiles                              : {ds.compoundMetadataSmilesFile}\")\n",
    "print(f\"       + Smiles Cleaned                      : {ds.compoundMetadataSmilesCleanFile}\\n\")\n",
    "print(f\"       + TPSA                                : {ds.compoundMetadataTPSAFile}\")\n",
    "print(f\"       + TPSA Cleaned (removed TPSA = 0)     : {ds.compoundMetadataTPSACleanFile}\\n\")\n",
    "print(f\"       + Base64 Pharmacophores               : {ds.compoundMetadataPharmacophoreFile}\\n\")\n",
    "\n",
    "print(f\" compound/TPSA File:\")\n",
    "print(f\" -------------------\")\n",
    "print(f\" compound TPSA File                          : {ds.compoundTPSAFile}\")\n",
    "print(f\" compound TPSA Clean File                    : {ds.compoundTPSACleanFile}\\n\")\n",
    "\n",
    "print(f\" compound/Pharmacophore Files :\")\n",
    "print(f\" ------------------------------\")\n",
    "print(f\" compound Pharmacophore Sparse File          : {ds.compoundPharmacophoreFile}\")\n",
    "print(f\" compound Pharmacophore Sparse Cleaned File  : {ds.compoundPharmacophoreCleanFile}\\n\")\n",
    "print(f\" compound Pharmacophore Dense File           : {ds.compoundPharmacophoreDenseFile}\")\n",
    "print(f\" compound Pharmacophore Dense Zipped File    : {ds.compoundPharmacophoreDenseZipFile}\")"
   ]
  },
  {
   "cell_type": "markdown",
   "id": "214f7188-165a-4056-af55-1c348ba0cb19",
   "metadata": {},
   "source": [
    "# Append pharmacophore fingerprints to dataframe "
   ]
  },
  {
   "cell_type": "markdown",
   "id": "3df47c18-50fb-4862-8387-c9d2cd0fa002",
   "metadata": {},
   "source": [
    "- using multiparallelism and callign `getPharmacophoresFromRDKit`**"
   ]
  },
  {
   "cell_type": "markdown",
   "id": "fdaace03",
   "metadata": {},
   "source": [
    "## Read Jump-CP compound metadata (+ smiles) file"
   ]
  },
  {
   "cell_type": "code",
   "execution_count": 5,
   "id": "bf3cd3cd",
   "metadata": {
    "ExecuteTime": {
     "end_time": "2023-10-03T19:45:30.762729Z",
     "start_time": "2023-10-03T19:45:30.751313Z"
    },
    "execution": {
     "iopub.execute_input": "2023-11-09T22:10:16.563498Z",
     "iopub.status.busy": "2023-11-09T22:10:16.562642Z",
     "iopub.status.idle": "2023-11-09T22:10:16.578729Z",
     "shell.execute_reply": "2023-11-09T22:10:16.577867Z",
     "shell.execute_reply.started": "2023-11-09T22:10:16.563468Z"
    }
   },
   "outputs": [
    {
     "name": "stdout",
     "output_type": "stream",
     "text": [
      "\n",
      " compound Metadata + Smiles & TPSA (clean)            : ./output_09112023/cp_compound_metadata_tpsa_clean.csv\n",
      "                   + Base64 Pharmacophores            : ./output_09112023/cp_compound_metadata_pcfp.csv\n",
      "\n",
      " compound Pharmacophore Sparse File                   : ./output_09112023/cp_compound_pcfp_sparse.pkl\n",
      " compound Pharmacophore Sparse Cleaned File           : ./output_09112023/cp_compound_pcfp_sparse_clean.pkl\n",
      " compound Dense File                                  : ./output_09112023/cp_compound_pcfp_dense.npy\n",
      " compound Dense Zipped File                           : ./output_09112023/cp_compound_pcfp_dense.npz\n"
     ]
    }
   ],
   "source": [
    "# print(f\" prefix                         : {prefix}\" )\n",
    "# print(f\" compound Metadata Input File   : {compoundMetadataInputFile}\")\n",
    "# print(f\" compound Metadata Output File 1: {compoundMetadataSmilesFile}\")\n",
    " \n",
    "print()\n",
    "print(f\" compound Metadata + Smiles & TPSA (clean)            : {compoundMetadataTPSACleanFile}\")\n",
    "print(f\"                   + Base64 Pharmacophores            : {compoundMetadataPharmacophoreFile}\\n\")\n",
    "print(f\" compound Pharmacophore Sparse File                   : {compoundPharmacophoreFile}\")\n",
    "print(f\" compound Pharmacophore Sparse Cleaned File           : {compoundPharmacophoreCleanFile}\")\n",
    "print(f\" compound Dense File                                  : {compoundPharmacophoreDenseFile}\")\n",
    "print(f\" compound Dense Zipped File                           : {compoundPharmacophoreDenseZipFile}\")\n",
    "# print(f\" compound Pharmacophore File    : {compoundPharmacophoreFile}\")"
   ]
  },
  {
   "cell_type": "code",
   "execution_count": 6,
   "id": "7814d47a-4008-4619-9bdd-b95d84f4eef1",
   "metadata": {
    "ExecuteTime": {
     "end_time": "2023-10-03T19:45:48.587354Z",
     "start_time": "2023-10-03T19:45:48.286812Z"
    },
    "execution": {
     "iopub.execute_input": "2023-11-09T22:10:21.839099Z",
     "iopub.status.busy": "2023-11-09T22:10:21.838829Z",
     "iopub.status.idle": "2023-11-09T22:10:22.219340Z",
     "shell.execute_reply": "2023-11-09T22:10:22.218682Z",
     "shell.execute_reply.started": "2023-11-09T22:10:21.839080Z"
    },
    "scrolled": true
   },
   "outputs": [],
   "source": [
    " \n",
    "df = pd.read_csv(compoundMetadataTPSACleanFile)"
   ]
  },
  {
   "cell_type": "code",
   "execution_count": 7,
   "id": "99ddf161-da3b-4efd-ac5e-b7ddd3667d66",
   "metadata": {
    "ExecuteTime": {
     "end_time": "2023-10-03T19:45:48.587354Z",
     "start_time": "2023-10-03T19:45:48.286812Z"
    },
    "execution": {
     "iopub.execute_input": "2023-11-09T22:10:23.266201Z",
     "iopub.status.busy": "2023-11-09T22:10:23.265736Z",
     "iopub.status.idle": "2023-11-09T22:10:23.350267Z",
     "shell.execute_reply": "2023-11-09T22:10:23.349679Z",
     "shell.execute_reply.started": "2023-11-09T22:10:23.266179Z"
    },
    "scrolled": true
   },
   "outputs": [
    {
     "name": "stdout",
     "output_type": "stream",
     "text": [
      "<class 'pandas.core.frame.DataFrame'>\n",
      "RangeIndex: 116691 entries, 0 to 116690\n",
      "Data columns (total 7 columns):\n",
      " #   Column     Non-Null Count   Dtype  \n",
      "---  ------     --------------   -----  \n",
      " 0   JCP2022    116691 non-null  object \n",
      " 1   InChIKey   116691 non-null  object \n",
      " 2   InChI      116691 non-null  object \n",
      " 3   smiles     116691 non-null  object \n",
      " 4   TPSA       116691 non-null  float64\n",
      " 5   lnTPSA     116691 non-null  float64\n",
      " 6   log10TPSA  116691 non-null  float64\n",
      "dtypes: float64(3), object(4)\n",
      "memory usage: 6.2+ MB\n"
     ]
    },
    {
     "data": {
      "text/html": [
       "<div>\n",
       "<style scoped>\n",
       "    .dataframe tbody tr th:only-of-type {\n",
       "        vertical-align: middle;\n",
       "    }\n",
       "\n",
       "    .dataframe tbody tr th {\n",
       "        vertical-align: top;\n",
       "    }\n",
       "\n",
       "    .dataframe thead th {\n",
       "        text-align: right;\n",
       "    }\n",
       "</style>\n",
       "<table border=\"1\" class=\"dataframe\">\n",
       "  <thead>\n",
       "    <tr style=\"text-align: right;\">\n",
       "      <th></th>\n",
       "      <th>JCP2022</th>\n",
       "      <th>InChIKey</th>\n",
       "      <th>InChI</th>\n",
       "      <th>smiles</th>\n",
       "      <th>TPSA</th>\n",
       "      <th>lnTPSA</th>\n",
       "      <th>log10TPSA</th>\n",
       "    </tr>\n",
       "  </thead>\n",
       "  <tbody>\n",
       "    <tr>\n",
       "      <th>0</th>\n",
       "      <td>JCP2022_000001</td>\n",
       "      <td>AAAHWCWPZPSPIW-UHFFFAOYSA-N</td>\n",
       "      <td>InChI=1S/C25H31N5O2/c1-4-23-26-14-16-30(23)24-...</td>\n",
       "      <td>CCC1=NC=CN1c2cccc(n2)C3CCCN3C(=O)c4ccc(cc4)OCC...</td>\n",
       "      <td>63.49</td>\n",
       "      <td>4.150882</td>\n",
       "      <td>1.802705</td>\n",
       "    </tr>\n",
       "    <tr>\n",
       "      <th>1</th>\n",
       "      <td>JCP2022_000002</td>\n",
       "      <td>AAAJHRMBUHXWLD-UHFFFAOYSA-N</td>\n",
       "      <td>InChI=1S/C11H13ClN2O/c12-10-4-2-9(3-5-10)8-14-...</td>\n",
       "      <td>OC1=NCCCN1Cc2ccc(Cl)cc2</td>\n",
       "      <td>35.83</td>\n",
       "      <td>3.578786</td>\n",
       "      <td>1.554247</td>\n",
       "    </tr>\n",
       "    <tr>\n",
       "      <th>2</th>\n",
       "      <td>JCP2022_000003</td>\n",
       "      <td>AAALVYBICLMAMA-UHFFFAOYSA-N</td>\n",
       "      <td>InChI=1S/C20H15N3O2/c24-19-15-11-17(21-13-7-3-...</td>\n",
       "      <td>OC2=NC(=O)c3cc(Nc1ccccc1)c(cc23)Nc4ccccc4</td>\n",
       "      <td>73.72</td>\n",
       "      <td>4.300274</td>\n",
       "      <td>1.867585</td>\n",
       "    </tr>\n",
       "  </tbody>\n",
       "</table>\n",
       "</div>"
      ],
      "text/plain": [
       "          JCP2022                     InChIKey                                              InChI                                             smiles   TPSA    lnTPSA  log10TPSA\n",
       "0  JCP2022_000001  AAAHWCWPZPSPIW-UHFFFAOYSA-N  InChI=1S/C25H31N5O2/c1-4-23-26-14-16-30(23)24-...  CCC1=NC=CN1c2cccc(n2)C3CCCN3C(=O)c4ccc(cc4)OCC...  63.49  4.150882   1.802705\n",
       "1  JCP2022_000002  AAAJHRMBUHXWLD-UHFFFAOYSA-N  InChI=1S/C11H13ClN2O/c12-10-4-2-9(3-5-10)8-14-...                            OC1=NCCCN1Cc2ccc(Cl)cc2  35.83  3.578786   1.554247\n",
       "2  JCP2022_000003  AAALVYBICLMAMA-UHFFFAOYSA-N  InChI=1S/C20H15N3O2/c24-19-15-11-17(21-13-7-3-...          OC2=NC(=O)c3cc(Nc1ccccc1)c(cc23)Nc4ccccc4  73.72  4.300274   1.867585"
      ]
     },
     "execution_count": 7,
     "metadata": {},
     "output_type": "execute_result"
    },
    {
     "data": {
      "text/html": [
       "<div>\n",
       "<style scoped>\n",
       "    .dataframe tbody tr th:only-of-type {\n",
       "        vertical-align: middle;\n",
       "    }\n",
       "\n",
       "    .dataframe tbody tr th {\n",
       "        vertical-align: top;\n",
       "    }\n",
       "\n",
       "    .dataframe thead th {\n",
       "        text-align: right;\n",
       "    }\n",
       "</style>\n",
       "<table border=\"1\" class=\"dataframe\">\n",
       "  <thead>\n",
       "    <tr style=\"text-align: right;\">\n",
       "      <th></th>\n",
       "      <th>JCP2022</th>\n",
       "      <th>InChIKey</th>\n",
       "      <th>InChI</th>\n",
       "      <th>smiles</th>\n",
       "      <th>TPSA</th>\n",
       "      <th>lnTPSA</th>\n",
       "      <th>log10TPSA</th>\n",
       "    </tr>\n",
       "  </thead>\n",
       "  <tbody>\n",
       "    <tr>\n",
       "      <th>116688</th>\n",
       "      <td>JCP2022_116751</td>\n",
       "      <td>ZZZUOLMMTJKOGE-UHFFFAOYSA-N</td>\n",
       "      <td>InChI=1S/C19H17N5O2/c1-23-9-6-13-7-10-24(19(26...</td>\n",
       "      <td>CN4C=CC3C=CN(CCN=C(O)c2cnc1ccccc1n2)C(=O)C=34</td>\n",
       "      <td>85.30</td>\n",
       "      <td>4.446174</td>\n",
       "      <td>1.930949</td>\n",
       "    </tr>\n",
       "    <tr>\n",
       "      <th>116689</th>\n",
       "      <td>JCP2022_116752</td>\n",
       "      <td>ZZZZIBSVRUABIA-UHFFFAOYSA-N</td>\n",
       "      <td>InChI=1S/C19H13F6N3O2S/c1-11-26-6-5-17(27-11)1...</td>\n",
       "      <td>Cc1nccc(n1)c2cccc(c2)NS(=O)(=O)c3cc(cc(c3)C(F)...</td>\n",
       "      <td>71.95</td>\n",
       "      <td>4.275971</td>\n",
       "      <td>1.857031</td>\n",
       "    </tr>\n",
       "    <tr>\n",
       "      <th>116690</th>\n",
       "      <td>JCP2022_116753</td>\n",
       "      <td>ZZZZVNLQWWXZTQ-UHFFFAOYSA-N</td>\n",
       "      <td>InChI=1S/C14H20N2O3/c1-18-13-5-3-2-4-12(13)14(...</td>\n",
       "      <td>COc1ccccc1C(O)=NCCN2CCOCC2</td>\n",
       "      <td>54.29</td>\n",
       "      <td>3.994340</td>\n",
       "      <td>1.734720</td>\n",
       "    </tr>\n",
       "  </tbody>\n",
       "</table>\n",
       "</div>"
      ],
      "text/plain": [
       "               JCP2022                     InChIKey                                              InChI                                             smiles   TPSA    lnTPSA  \\\n",
       "116688  JCP2022_116751  ZZZUOLMMTJKOGE-UHFFFAOYSA-N  InChI=1S/C19H17N5O2/c1-23-9-6-13-7-10-24(19(26...      CN4C=CC3C=CN(CCN=C(O)c2cnc1ccccc1n2)C(=O)C=34  85.30  4.446174   \n",
       "116689  JCP2022_116752  ZZZZIBSVRUABIA-UHFFFAOYSA-N  InChI=1S/C19H13F6N3O2S/c1-11-26-6-5-17(27-11)1...  Cc1nccc(n1)c2cccc(c2)NS(=O)(=O)c3cc(cc(c3)C(F)...  71.95  4.275971   \n",
       "116690  JCP2022_116753  ZZZZVNLQWWXZTQ-UHFFFAOYSA-N  InChI=1S/C14H20N2O3/c1-18-13-5-3-2-4-12(13)14(...                         COc1ccccc1C(O)=NCCN2CCOCC2  54.29  3.994340   \n",
       "\n",
       "        log10TPSA  \n",
       "116688   1.930949  \n",
       "116689   1.857031  \n",
       "116690   1.734720  "
      ]
     },
     "execution_count": 7,
     "metadata": {},
     "output_type": "execute_result"
    },
    {
     "data": {
      "text/html": [
       "<div>\n",
       "<style scoped>\n",
       "    .dataframe tbody tr th:only-of-type {\n",
       "        vertical-align: middle;\n",
       "    }\n",
       "\n",
       "    .dataframe tbody tr th {\n",
       "        vertical-align: top;\n",
       "    }\n",
       "\n",
       "    .dataframe thead th {\n",
       "        text-align: right;\n",
       "    }\n",
       "</style>\n",
       "<table border=\"1\" class=\"dataframe\">\n",
       "  <thead>\n",
       "    <tr style=\"text-align: right;\">\n",
       "      <th></th>\n",
       "      <th>JCP2022</th>\n",
       "      <th>InChIKey</th>\n",
       "      <th>InChI</th>\n",
       "      <th>smiles</th>\n",
       "      <th>TPSA</th>\n",
       "      <th>lnTPSA</th>\n",
       "      <th>log10TPSA</th>\n",
       "    </tr>\n",
       "  </thead>\n",
       "  <tbody>\n",
       "  </tbody>\n",
       "</table>\n",
       "</div>"
      ],
      "text/plain": [
       "Empty DataFrame\n",
       "Columns: [JCP2022, InChIKey, InChI, smiles, TPSA, lnTPSA, log10TPSA]\n",
       "Index: []"
      ]
     },
     "execution_count": 7,
     "metadata": {},
     "output_type": "execute_result"
    },
    {
     "data": {
      "text/plain": [
       "116691"
      ]
     },
     "execution_count": 7,
     "metadata": {},
     "output_type": "execute_result"
    }
   ],
   "source": [
    "df.info()\n",
    "df.head(3)\n",
    "df.tail(3)\n",
    "df[df['smiles'].isna()]\n",
    "len(df)"
   ]
  },
  {
   "cell_type": "markdown",
   "id": "23367623-9529-4fc9-ab1d-eefc05a3a369",
   "metadata": {
    "jp-MarkdownHeadingCollapsed": true
   },
   "source": [
    "## Calculate pharmacophoes using multiprocessing "
   ]
  },
  {
   "cell_type": "code",
   "execution_count": 11,
   "id": "f7f9f0a9-b48f-46e3-affc-22af4bd75169",
   "metadata": {
    "ExecuteTime": {
     "end_time": "2023-10-03T19:45:58.263394Z",
     "start_time": "2023-10-03T19:45:58.251877Z"
    },
    "execution": {
     "iopub.execute_input": "2023-11-09T22:10:47.509082Z",
     "iopub.status.busy": "2023-11-09T22:10:47.508579Z",
     "iopub.status.idle": "2023-11-09T22:10:47.522942Z",
     "shell.execute_reply": "2023-11-09T22:10:47.522243Z",
     "shell.execute_reply.started": "2023-11-09T22:10:47.509056Z"
    }
   },
   "outputs": [
    {
     "name": "stdout",
     "output_type": "stream",
     "text": [
      "Read metadata file : ./output_09112023/cp_compound_metadata_tpsa_clean.csv\n"
     ]
    }
   ],
   "source": [
    "nrows = 60000\n",
    "chunksize = 10000\n",
    "progress_int = 500\n",
    "processes = 6\n",
    "idx = my_enumerator()\n",
    "fn = getPharmacophoresFromRDKit\n",
    "kwargs = dict({'append_pharmacophore': True, 'progress_int':progress_int}) \n",
    "\n",
    "print(f\"Read metadata file : {compoundMetadataTPSACleanFile}\")"
   ]
  },
  {
   "cell_type": "code",
   "execution_count": 9,
   "id": "080b80f6-fb46-498a-8c4c-1ee480ea87af",
   "metadata": {
    "ExecuteTime": {
     "end_time": "2023-10-03T19:45:58.263394Z",
     "start_time": "2023-10-03T19:45:58.251877Z"
    },
    "execution": {
     "iopub.execute_input": "2023-11-09T22:10:34.520577Z",
     "iopub.status.busy": "2023-11-09T22:10:34.520297Z",
     "iopub.status.idle": "2023-11-09T22:10:34.534921Z",
     "shell.execute_reply": "2023-11-09T22:10:34.534099Z",
     "shell.execute_reply.started": "2023-11-09T22:10:34.520553Z"
    }
   },
   "outputs": [],
   "source": [
    "df_iterator  = pd.read_csv(compoundMetadataTPSACleanFile , nrows=nrows, header=0,  chunksize= chunksize)"
   ]
  },
  {
   "cell_type": "code",
   "execution_count": 10,
   "id": "f21adaf5",
   "metadata": {
    "ExecuteTime": {
     "end_time": "2023-05-24T14:57:17.695680Z",
     "start_time": "2023-05-24T14:57:17.685047Z"
    },
    "execution": {
     "iopub.execute_input": "2023-11-09T22:10:35.705594Z",
     "iopub.status.busy": "2023-11-09T22:10:35.705079Z",
     "iopub.status.idle": "2023-11-09T22:10:35.718333Z",
     "shell.execute_reply": "2023-11-09T22:10:35.717539Z",
     "shell.execute_reply.started": "2023-11-09T22:10:35.705564Z"
    }
   },
   "outputs": [],
   "source": [
    "# dd = next(df_iterator)\n",
    "# type(dd)\n",
    "# dd.info()\n",
    "# dd.head(4)"
   ]
  },
  {
   "cell_type": "code",
   "execution_count": null,
   "id": "6eb0abae-768b-4bce-b0ed-ea6ff046f018",
   "metadata": {
    "ExecuteTime": {
     "end_time": "2023-05-24T15:24:03.901071Z",
     "start_time": "2023-05-24T15:24:03.587002Z"
    },
    "execution": {
     "iopub.execute_input": "2023-11-09T22:11:04.356339Z",
     "iopub.status.busy": "2023-11-09T22:11:04.355781Z",
     "iopub.status.idle": "2023-11-09T22:11:04.370850Z",
     "shell.execute_reply": "2023-11-09T22:11:04.370093Z",
     "shell.execute_reply.started": "2023-11-09T22:11:04.356309Z"
    },
    "scrolled": true
   },
   "outputs": [],
   "source": [
    "\n",
    "args = zip(idx, df_iterator)"
   ]
  },
  {
   "cell_type": "code",
   "execution_count": null,
   "id": "6c2658db-23c8-4103-963b-b54522f7ef5a",
   "metadata": {
    "ExecuteTime": {
     "end_time": "2023-05-24T15:24:03.901071Z",
     "start_time": "2023-05-24T15:24:03.587002Z"
    },
    "execution": {
     "iopub.execute_input": "2023-11-09T22:11:04.356339Z",
     "iopub.status.busy": "2023-11-09T22:11:04.355781Z",
     "iopub.status.idle": "2023-11-09T22:11:04.370850Z",
     "shell.execute_reply": "2023-11-09T22:11:04.370093Z",
     "shell.execute_reply.started": "2023-11-09T22:11:04.356309Z"
    },
    "scrolled": true
   },
   "outputs": [],
   "source": [
    "# result = pool.starmap_async(get_pharmacophores, enumerate(df_iterator)) \n",
    "\n",
    "results = starmap_with_kwargs_async( fn=fn, args=args, kwargs = kwargs, processes = processes)\n"
   ]
  },
  {
   "cell_type": "code",
   "execution_count": 14,
   "id": "2d64b3fc",
   "metadata": {
    "ExecuteTime": {
     "end_time": "2023-05-24T15:57:33.793038Z",
     "start_time": "2023-05-24T15:57:33.779048Z"
    },
    "execution": {
     "iopub.execute_input": "2023-11-09T22:11:36.650427Z",
     "iopub.status.busy": "2023-11-09T22:11:36.650073Z",
     "iopub.status.idle": "2023-11-09T22:11:36.675501Z",
     "shell.execute_reply": "2023-11-09T22:11:36.674562Z",
     "shell.execute_reply.started": "2023-11-09T22:11:36.650396Z"
    }
   },
   "outputs": [
    {
     "data": {
      "text/plain": [
       "False"
      ]
     },
     "execution_count": 14,
     "metadata": {},
     "output_type": "execute_result"
    }
   ],
   "source": [
    "results.ready()"
   ]
  },
  {
   "cell_type": "markdown",
   "id": "2b91084a-537a-4b04-9d8c-515f61ba9aed",
   "metadata": {
    "jp-MarkdownHeadingCollapsed": true
   },
   "source": [
    "### Wait for completion of all processes"
   ]
  },
  {
   "cell_type": "code",
   "execution_count": 15,
   "id": "aef5a114",
   "metadata": {
    "ExecuteTime": {
     "end_time": "2023-05-24T19:57:43.252715Z",
     "start_time": "2023-05-24T15:57:41.444299Z"
    },
    "execution": {
     "iopub.execute_input": "2023-11-09T22:11:40.890889Z",
     "iopub.status.busy": "2023-11-09T22:11:40.889552Z",
     "iopub.status.idle": "2023-11-09T22:21:41.524731Z",
     "shell.execute_reply": "2023-11-09T22:21:41.524078Z",
     "shell.execute_reply.started": "2023-11-09T22:11:40.890845Z"
    }
   },
   "outputs": [
    {
     "name": "stdout",
     "output_type": "stream",
     "text": [
      " 14:11:40.922127 | still waiting - - sleep for 60 seconds\n",
      " 14:12:40.981142 | still waiting - - sleep for 60 seconds\n",
      " 14:13:41.041456 | still waiting - - sleep for 60 seconds\n",
      " 14:14:41.101130 | still waiting - - sleep for 60 seconds\n",
      " 14:15:41.161379 | still waiting - - sleep for 60 seconds\n",
      " 14:16:41.221662 | still waiting - - sleep for 60 seconds\n",
      " 14:17:41.281900 | still waiting - - sleep for 60 seconds\n",
      " 14:18:41.342212 | still waiting - - sleep for 60 seconds\n",
      " 14:19:41.401147 | still waiting - - sleep for 60 seconds\n",
      " 14:20:41.461376 | still waiting - - sleep for 60 seconds\n",
      " 14:21:41.521759 | starmap_with_kwargs_async() | Results ready. . .  \n",
      " 14:21:41.521912 | All processes complete\n",
      " 14:21:41.521923 | Program finished in 637.154420 seconds\n",
      " 14:21:41.522062 | Process Ended \n"
     ]
    }
   ],
   "source": [
    "#     results.wait()\n",
    "sleep_interval = 60\n",
    "while not results.ready():\n",
    "    print(f\" {datetime.now().strftime('%X.%f')} | still waiting - - sleep for {sleep_interval} seconds\")\n",
    "    time.sleep(sleep_interval)\n",
    "else:\n",
    "    results = results.get()\n",
    "    finish_time = time.perf_counter()\n",
    "    print(f\" {datetime.now().strftime('%X.%f')} | starmap_with_kwargs_async() | Results ready. . .  \")    \n",
    "    print(f\" {datetime.now().strftime('%X.%f')} | All processes complete\")\n",
    "    print(f\" {datetime.now().strftime('%X.%f')} | Program finished in {finish_time-start_time:5f} seconds\")  \n",
    "    \n",
    "print(f\" {datetime.now().strftime('%X.%f')} | Process Ended \")    "
   ]
  },
  {
   "cell_type": "markdown",
   "id": "1aa51161",
   "metadata": {
    "jp-MarkdownHeadingCollapsed": true
   },
   "source": [
    "### check results "
   ]
  },
  {
   "cell_type": "code",
   "execution_count": 23,
   "id": "efabc589",
   "metadata": {
    "ExecuteTime": {
     "end_time": "2023-05-25T06:14:57.618576Z",
     "start_time": "2023-05-25T06:14:57.601669Z"
    },
    "execution": {
     "iopub.execute_input": "2023-11-09T22:28:31.809148Z",
     "iopub.status.busy": "2023-11-09T22:28:31.808888Z",
     "iopub.status.idle": "2023-11-09T22:28:31.823594Z",
     "shell.execute_reply": "2023-11-09T22:28:31.822874Z",
     "shell.execute_reply.started": "2023-11-09T22:28:31.809131Z"
    }
   },
   "outputs": [
    {
     "data": {
      "text/plain": [
       "(list, 6, 3)"
      ]
     },
     "execution_count": 23,
     "metadata": {},
     "output_type": "execute_result"
    }
   ],
   "source": [
    "type(results), len(results), len(results[0])"
   ]
  },
  {
   "cell_type": "code",
   "execution_count": 25,
   "id": "8d566303-1e6b-4451-8b8c-ff7a84d2532e",
   "metadata": {
    "ExecuteTime": {
     "end_time": "2023-05-25T06:16:47.242926Z",
     "start_time": "2023-05-25T06:16:47.217131Z"
    },
    "execution": {
     "iopub.execute_input": "2023-11-09T22:28:46.431673Z",
     "iopub.status.busy": "2023-11-09T22:28:46.431411Z",
     "iopub.status.idle": "2023-11-09T22:28:46.444467Z",
     "shell.execute_reply": "2023-11-09T22:28:46.443829Z",
     "shell.execute_reply.started": "2023-11-09T22:28:46.431655Z"
    },
    "scrolled": true
   },
   "outputs": [
    {
     "name": "stdout",
     "output_type": "stream",
     "text": [
      "1\n"
     ]
    }
   ],
   "source": [
    "print(results[1][0])"
   ]
  },
  {
   "cell_type": "code",
   "execution_count": 26,
   "id": "1b55acba-03eb-453f-8346-95fa8bb9554d",
   "metadata": {
    "ExecuteTime": {
     "end_time": "2023-05-25T06:16:47.242926Z",
     "start_time": "2023-05-25T06:16:47.217131Z"
    },
    "execution": {
     "iopub.execute_input": "2023-11-09T22:28:48.487696Z",
     "iopub.status.busy": "2023-11-09T22:28:48.487241Z",
     "iopub.status.idle": "2023-11-09T22:28:48.511083Z",
     "shell.execute_reply": "2023-11-09T22:28:48.510300Z",
     "shell.execute_reply.started": "2023-11-09T22:28:48.487670Z"
    },
    "scrolled": true
   },
   "outputs": [
    {
     "name": "stdout",
     "output_type": "stream",
     "text": [
      "              JCP2022                     InChIKey                                              InChI                                             smiles   TPSA    lnTPSA  \\\n",
      "10000  JCP2022_010005  CBFNFTQOUVNGIF-UHFFFAOYSA-N  InChI=1S/C18H18N6O/c1-13-20-21-22-24(13)17(14-...         CC1=NN=NN1C(C(=O)N2CC(C2)c3ccccn3)c4ccccc4  76.80  4.341205   \n",
      "10001  JCP2022_010006  CBFNQLBICBLKIK-UHFFFAOYSA-N  InChI=1S/C16H15BrN2O3/c1-19-12-6-4-3-5-9(12)16...               COc1cc(Br)c(cc1O)C3N=C(O)c2ccccc2N3C  65.29  4.178839   \n",
      "10002  JCP2022_010007  CBFRWEVECNRPOB-UHFFFAOYSA-N  InChI=1S/C22H23FN4O2/c23-17-7-11-19(12-8-17)29...     O=C(NCCC1=NN=C2CCCCCN12)c3ccc(cc3)Oc4ccc(F)cc4  69.04  4.234686   \n",
      "10003  JCP2022_010008  CBFUDFNIKRRVDP-UHFFFAOYSA-N  InChI=1S/C16H20N2O2/c1-15(2)10(8-9-16(15,3)14(...               CC1(C)C(CCC1(C)C(O)=O)C3Nc2ccccc2N=3  65.98  4.189352   \n",
      "10004  JCP2022_010009  CBFVKKYBQHBJCR-UHFFFAOYSA-N  InChI=1S/C19H19N3O2S/c1-12-15-18(21-14-10-6-3-...       CC2=C(SC3N=C1CCCCCN1C(=O)C2=3)C(=O)Nc4ccccc4  63.99  4.158727   \n",
      "...               ...                          ...                                                ...                                                ...    ...       ...   \n",
      "19995  JCP2022_020005  FDUZLHOGNAOPOP-UHFFFAOYSA-N  InChI=1S/C16H21ClN2O3/c1-10-13(11(2)22-18-10)9...              COc2ccc(CN(C)CC1C(C)=NOC=1C)c(Cl)c2OC  47.73  3.865560   \n",
      "19996  JCP2022_020006  FDVBHBMKAPJMNR-UHFFFAOYSA-N  InChI=1S/C23H19N5O2/c1-15-7-3-5-9-17(15)19-13-...  Cc1ccccc1C5=NOC(CN3C=CN2N=C(C=C2C3=O)c4ccccc4C...  78.22  4.359525   \n",
      "19997  JCP2022_020007  FDVHGDNOQKTMTI-UHFFFAOYSA-N  InChI=1S/C18H21N3O2S2/c1-4-12-21(15-10-8-14(9-...    CCCN(c1ccc(cc1)C(C)C)S(=O)(=O)C2=CC=CC3=NSN=C23  63.16  4.145671   \n",
      "19998  JCP2022_020008  FDVJTPQMRBSSIJ-UHFFFAOYSA-N  InChI=1S/C21H27N5O/c1-12-11-13(2)22-20-19(12)2...  CC4C=C(C)C2C(=NN3C(C)=C(CCC(O)=NC1CCCC1)C(C)=N...  75.67  4.326382   \n",
      "19999  JCP2022_020009  FDVOCQMFUVSXQP-UHFFFAOYSA-N  InChI=1S/C13H10ClF2N3O/c14-8-6-9(15)7(5-10(8)1...               O=C1C(=NN=C2CCCCN12)c3cc(F)c(Cl)cc3F  47.78  3.866607   \n",
      "\n",
      "       log10TPSA                               pharmacophore_base64  \n",
      "10000   1.885361  4P///wgEAABEAAAAAAACAAAAAAIMAAIAAAAAEAACDgI0Cg...  \n",
      "10001   1.814847  4P///wgEAABKAAAAAgAAAgAAAAAOAAACAg4AAAAADAACDj...  \n",
      "10002   1.839101  4P///wgEAABUAAAAAAAAAAAAAAAAAAwAAAAAAAAAEAIADg...  \n",
      "10003   1.819412  4P///wgEAACsAAAAAAAAAAAAAAAAAAICAgQAAAAAAAIGAA...  \n",
      "10004   1.806112  4P///wgEAABRAAAAAgAAAAAAAAAADgAAAAACEAAADgQOMg...  \n",
      "...          ...                                                ...  \n",
      "19995   1.678791  4P///wgEAABKAAAAAgAAAgAAAAAGBgAEAgQKAAAOAAIEAA...  \n",
      "19996   1.893318  4P///wgEAAA5AAAAAAAAAAQAAAAMAAQAAAAkRgAABAACAB...  \n",
      "19997   1.800442  4P///wgEAABLAAAAAAAAAAQAAAAOBAAAACQAAAAMADACBA...  \n",
      "19998   1.878924  4P///wgEAAA6AAAAAAAAAAIAABAEAAAUABAARAAEAgIQAA...  \n",
      "19999   1.679246  4P///wgEAAAoAAAAAAAAAAQAAAAMBgAAKEQABAICABQAAA...  \n",
      "\n",
      "[10000 rows x 8 columns]\n"
     ]
    }
   ],
   "source": [
    "print(results[1][1])"
   ]
  },
  {
   "cell_type": "code",
   "execution_count": 27,
   "id": "bc55b9ad-c235-4f3c-8503-53c64b237694",
   "metadata": {
    "ExecuteTime": {
     "end_time": "2023-05-25T06:16:47.242926Z",
     "start_time": "2023-05-25T06:16:47.217131Z"
    },
    "execution": {
     "iopub.execute_input": "2023-11-09T22:28:50.880763Z",
     "iopub.status.busy": "2023-11-09T22:28:50.880253Z",
     "iopub.status.idle": "2023-11-09T22:28:50.898773Z",
     "shell.execute_reply": "2023-11-09T22:28:50.897809Z",
     "shell.execute_reply.started": "2023-11-09T22:28:50.880744Z"
    },
    "scrolled": true
   },
   "outputs": [
    {
     "name": "stdout",
     "output_type": "stream",
     "text": [
      "             JCP2022                                   pharmacophore_fp\n",
      "0     JCP2022_010005  [1, 1, 0, 1, 1, 1, 1, 1, 0, 1, 0, 0, 0, 0, 0, ...\n",
      "1     JCP2022_010006  [0, 1, 1, 1, 0, 1, 1, 1, 1, 1, 0, 0, 0, 0, 0, ...\n",
      "2     JCP2022_010007  [1, 1, 1, 1, 1, 1, 1, 1, 1, 1, 0, 0, 0, 0, 0, ...\n",
      "3     JCP2022_010008  [1, 1, 1, 1, 1, 1, 1, 1, 1, 1, 0, 1, 0, 1, 0, ...\n",
      "4     JCP2022_010009  [0, 1, 1, 1, 1, 1, 1, 1, 1, 1, 0, 0, 0, 0, 0, ...\n",
      "...              ...                                                ...\n",
      "9995  JCP2022_020005  [0, 1, 1, 1, 0, 1, 1, 1, 1, 1, 0, 0, 0, 1, 0, ...\n",
      "9996  JCP2022_020006  [1, 1, 1, 1, 0, 0, 1, 1, 1, 1, 0, 0, 0, 0, 0, ...\n",
      "9997  JCP2022_020007  [1, 1, 1, 1, 0, 0, 1, 1, 1, 1, 0, 0, 0, 0, 0, ...\n",
      "9998  JCP2022_020008  [1, 1, 1, 1, 0, 1, 1, 1, 0, 0, 0, 0, 0, 0, 0, ...\n",
      "9999  JCP2022_020009  [1, 1, 1, 1, 0, 0, 1, 1, 1, 1, 0, 0, 0, 0, 0, ...\n",
      "\n",
      "[10000 rows x 2 columns]\n"
     ]
    }
   ],
   "source": [
    "print(results[1][2])"
   ]
  },
  {
   "cell_type": "markdown",
   "id": "cd45e1a7",
   "metadata": {},
   "source": [
    "## combine metadata files from all processes and write output \n",
    "\n",
    "- write file (updated with Pharmacophores) to CSV `./output/cp_compound_metadata_clean.csv`"
   ]
  },
  {
   "cell_type": "code",
   "execution_count": 84,
   "id": "a93d3e3f",
   "metadata": {
    "ExecuteTime": {
     "end_time": "2023-05-25T10:06:34.245746Z",
     "start_time": "2023-05-25T10:06:34.233133Z"
    },
    "execution": {
     "iopub.execute_input": "2023-11-09T23:12:24.456003Z",
     "iopub.status.busy": "2023-11-09T23:12:24.455698Z",
     "iopub.status.idle": "2023-11-09T23:12:24.469344Z",
     "shell.execute_reply": "2023-11-09T23:12:24.468432Z",
     "shell.execute_reply.started": "2023-11-09T23:12:24.455974Z"
    },
    "scrolled": true
   },
   "outputs": [
    {
     "name": "stdout",
     "output_type": "stream",
     "text": [
      " compound Metadata + Base64 Pharmacophores File: ./output_09112023/cp_compound_metadata_pcfp.csv\n",
      " compound Pharmacophore File                   : ./output_09112023/cp_compound_pcfp_sparse.pkl\n"
     ]
    }
   ],
   "source": [
    "print(f\" compound Metadata + Base64 Pharmacophores File: {compoundMetadataPharmacophoreFile}\")\n",
    "print(f\" compound Pharmacophore File                   : {compoundPharmacophoreFile}\")\n"
   ]
  },
  {
   "cell_type": "code",
   "execution_count": null,
   "id": "572db9d2",
   "metadata": {},
   "outputs": [],
   "source": [
    "# for i, res in enumerate(results):\n",
    "#     chunk_id, df_chunk ,df_fingerprints = res    \n",
    "#     mode = 'w' if chunk_id == 0 else 'a'\n",
    "#     header = chunk_id == 0\n",
    "#     print(f\" {datetime.now().strftime('%X.%f')} | chunk_id: {chunk_id} | write to compoundDataOutputFile     | mode : {mode}  header: {header}\")\n",
    "#     df_chunk.to_csv( \n",
    "#                     index=False,  \n",
    "#                     header=header, mode=mode) # Skip index column    "
   ]
  },
  {
   "cell_type": "code",
   "execution_count": 30,
   "id": "fbbf1174",
   "metadata": {
    "ExecuteTime": {
     "end_time": "2023-05-25T06:15:21.212219Z",
     "start_time": "2023-05-25T06:15:21.169228Z"
    },
    "execution": {
     "iopub.execute_input": "2023-11-09T22:29:34.793780Z",
     "iopub.status.busy": "2023-11-09T22:29:34.793058Z",
     "iopub.status.idle": "2023-11-09T22:29:34.813928Z",
     "shell.execute_reply": "2023-11-09T22:29:34.813139Z",
     "shell.execute_reply.started": "2023-11-09T22:29:34.793756Z"
    }
   },
   "outputs": [],
   "source": [
    "df_metadata_all = pd.concat([i[1] for i in results ], axis = 0, ignore_index=True )"
   ]
  },
  {
   "cell_type": "code",
   "execution_count": 32,
   "id": "12f77f00",
   "metadata": {
    "ExecuteTime": {
     "end_time": "2023-05-25T06:21:53.660299Z",
     "start_time": "2023-05-25T06:21:53.606053Z"
    },
    "execution": {
     "iopub.execute_input": "2023-11-09T22:31:29.594192Z",
     "iopub.status.busy": "2023-11-09T22:31:29.593925Z",
     "iopub.status.idle": "2023-11-09T22:31:29.655362Z",
     "shell.execute_reply": "2023-11-09T22:31:29.654292Z",
     "shell.execute_reply.started": "2023-11-09T22:31:29.594172Z"
    }
   },
   "outputs": [
    {
     "name": "stdout",
     "output_type": "stream",
     "text": [
      "<class 'pandas.core.frame.DataFrame'>\n",
      "RangeIndex: 60000 entries, 0 to 59999\n",
      "Data columns (total 8 columns):\n",
      " #   Column                Non-Null Count  Dtype  \n",
      "---  ------                --------------  -----  \n",
      " 0   JCP2022               60000 non-null  object \n",
      " 1   InChIKey              60000 non-null  object \n",
      " 2   InChI                 60000 non-null  object \n",
      " 3   smiles                60000 non-null  object \n",
      " 4   TPSA                  60000 non-null  float64\n",
      " 5   lnTPSA                60000 non-null  float64\n",
      " 6   log10TPSA             60000 non-null  float64\n",
      " 7   pharmacophore_base64  60000 non-null  object \n",
      "dtypes: float64(3), object(5)\n",
      "memory usage: 3.7+ MB\n"
     ]
    },
    {
     "data": {
      "text/html": [
       "<div>\n",
       "<style scoped>\n",
       "    .dataframe tbody tr th:only-of-type {\n",
       "        vertical-align: middle;\n",
       "    }\n",
       "\n",
       "    .dataframe tbody tr th {\n",
       "        vertical-align: top;\n",
       "    }\n",
       "\n",
       "    .dataframe thead th {\n",
       "        text-align: right;\n",
       "    }\n",
       "</style>\n",
       "<table border=\"1\" class=\"dataframe\">\n",
       "  <thead>\n",
       "    <tr style=\"text-align: right;\">\n",
       "      <th></th>\n",
       "      <th>JCP2022</th>\n",
       "      <th>InChIKey</th>\n",
       "      <th>InChI</th>\n",
       "      <th>smiles</th>\n",
       "      <th>TPSA</th>\n",
       "      <th>lnTPSA</th>\n",
       "      <th>log10TPSA</th>\n",
       "      <th>pharmacophore_base64</th>\n",
       "    </tr>\n",
       "  </thead>\n",
       "  <tbody>\n",
       "    <tr>\n",
       "      <th>0</th>\n",
       "      <td>JCP2022_000001</td>\n",
       "      <td>AAAHWCWPZPSPIW-UHFFFAOYSA-N</td>\n",
       "      <td>InChI=1S/C25H31N5O2/c1-4-23-26-14-16-30(23)24-...</td>\n",
       "      <td>CCC1=NC=CN1c2cccc(n2)C3CCCN3C(=O)c4ccc(cc4)OCC...</td>\n",
       "      <td>63.49</td>\n",
       "      <td>4.150882</td>\n",
       "      <td>1.802705</td>\n",
       "      <td>4P///wgEAABaAAAAAgAAAAAAAAAABAAEAAAAAAACBAAIAA...</td>\n",
       "    </tr>\n",
       "    <tr>\n",
       "      <th>1</th>\n",
       "      <td>JCP2022_000002</td>\n",
       "      <td>AAAJHRMBUHXWLD-UHFFFAOYSA-N</td>\n",
       "      <td>InChI=1S/C11H13ClN2O/c12-10-4-2-9(3-5-10)8-14-...</td>\n",
       "      <td>OC1=NCCCN1Cc2ccc(Cl)cc2</td>\n",
       "      <td>35.83</td>\n",
       "      <td>3.578786</td>\n",
       "      <td>1.554247</td>\n",
       "      <td>4P///wgEAAAXAAAABgAEAhAAFAIAAAAO0GoADEixALUAAA...</td>\n",
       "    </tr>\n",
       "    <tr>\n",
       "      <th>2</th>\n",
       "      <td>JCP2022_000003</td>\n",
       "      <td>AAALVYBICLMAMA-UHFFFAOYSA-N</td>\n",
       "      <td>InChI=1S/C20H15N3O2/c24-19-15-11-17(21-13-7-3-...</td>\n",
       "      <td>OC2=NC(=O)c3cc(Nc1ccccc1)c(cc23)Nc4ccccc4</td>\n",
       "      <td>73.72</td>\n",
       "      <td>4.300274</td>\n",
       "      <td>1.867585</td>\n",
       "      <td>4P///wgEAABeAAAAAgAAAgAAAAAMAAAAAgAADgAAAAAMBA...</td>\n",
       "    </tr>\n",
       "    <tr>\n",
       "      <th>3</th>\n",
       "      <td>JCP2022_000004</td>\n",
       "      <td>AAANUZMCJQUYNX-UHFFFAOYSA-N</td>\n",
       "      <td>InChI=1S/C13H22N4O2S/c1-2-7-16-13(5-6-15-16)20...</td>\n",
       "      <td>CCCN1N=CC=C1S(=O)(=O)N2CC3CNCC2CC3</td>\n",
       "      <td>67.23</td>\n",
       "      <td>4.208120</td>\n",
       "      <td>1.827563</td>\n",
       "      <td>4P///wgEAAAfAAAAAAAABAIKCgAACggUCDoCFAYGBiYGJg...</td>\n",
       "    </tr>\n",
       "    <tr>\n",
       "      <th>4</th>\n",
       "      <td>JCP2022_000005</td>\n",
       "      <td>AAAQFGUYHFJNHI-UHFFFAOYSA-N</td>\n",
       "      <td>InChI=1S/C22H22ClN5O2/c1-4-24-20(29)12-18-22-2...</td>\n",
       "      <td>CCN=C(O)CC3N=C(c1ccc(Cl)cc1)c2cc(ccc2N4C(C)=NN...</td>\n",
       "      <td>84.89</td>\n",
       "      <td>4.441356</td>\n",
       "      <td>1.928857</td>\n",
       "      <td>4P///wgEAABhAAAAAAAAAAIAAAAADAACAAAAABAAAgwAAA...</td>\n",
       "    </tr>\n",
       "  </tbody>\n",
       "</table>\n",
       "</div>"
      ],
      "text/plain": [
       "          JCP2022                     InChIKey                                              InChI                                             smiles   TPSA    lnTPSA  log10TPSA  \\\n",
       "0  JCP2022_000001  AAAHWCWPZPSPIW-UHFFFAOYSA-N  InChI=1S/C25H31N5O2/c1-4-23-26-14-16-30(23)24-...  CCC1=NC=CN1c2cccc(n2)C3CCCN3C(=O)c4ccc(cc4)OCC...  63.49  4.150882   1.802705   \n",
       "1  JCP2022_000002  AAAJHRMBUHXWLD-UHFFFAOYSA-N  InChI=1S/C11H13ClN2O/c12-10-4-2-9(3-5-10)8-14-...                            OC1=NCCCN1Cc2ccc(Cl)cc2  35.83  3.578786   1.554247   \n",
       "2  JCP2022_000003  AAALVYBICLMAMA-UHFFFAOYSA-N  InChI=1S/C20H15N3O2/c24-19-15-11-17(21-13-7-3-...          OC2=NC(=O)c3cc(Nc1ccccc1)c(cc23)Nc4ccccc4  73.72  4.300274   1.867585   \n",
       "3  JCP2022_000004  AAANUZMCJQUYNX-UHFFFAOYSA-N  InChI=1S/C13H22N4O2S/c1-2-7-16-13(5-6-15-16)20...                 CCCN1N=CC=C1S(=O)(=O)N2CC3CNCC2CC3  67.23  4.208120   1.827563   \n",
       "4  JCP2022_000005  AAAQFGUYHFJNHI-UHFFFAOYSA-N  InChI=1S/C22H22ClN5O2/c1-4-24-20(29)12-18-22-2...  CCN=C(O)CC3N=C(c1ccc(Cl)cc1)c2cc(ccc2N4C(C)=NN...  84.89  4.441356   1.928857   \n",
       "\n",
       "                                pharmacophore_base64  \n",
       "0  4P///wgEAABaAAAAAgAAAAAAAAAABAAEAAAAAAACBAAIAA...  \n",
       "1  4P///wgEAAAXAAAABgAEAhAAFAIAAAAO0GoADEixALUAAA...  \n",
       "2  4P///wgEAABeAAAAAgAAAgAAAAAMAAAAAgAADgAAAAAMBA...  \n",
       "3  4P///wgEAAAfAAAAAAAABAIKCgAACggUCDoCFAYGBiYGJg...  \n",
       "4  4P///wgEAABhAAAAAAAAAAIAAAAADAACAAAAABAAAgwAAA...  "
      ]
     },
     "execution_count": 32,
     "metadata": {},
     "output_type": "execute_result"
    },
    {
     "name": "stdout",
     "output_type": "stream",
     "text": [
      " Smiles entries == NaN: 0\n",
      " InChI entries == NaN: 0\n",
      " Base64 Pharmcophore == NaN: 0\n"
     ]
    }
   ],
   "source": [
    "# df_metadata_all.drop(columns='index', inplace = True)\n",
    "df_metadata_all.info()\n",
    "df_metadata_all.head()\n",
    "\n",
    "\n",
    "df_temp = df_metadata_all[df_metadata_all['smiles'].isna()]\n",
    "print(f\" Smiles entries == NaN: {len(df_temp)}\")\n",
    "df_temp = df_metadata_all[df_metadata_all['InChI'].isna()]\n",
    "print(f\" InChI entries == NaN: {len(df_temp)}\")\n",
    "df_temp = df_metadata_all[df_metadata_all['pharmacophore_base64'].isna()]\n",
    "print(f\" Base64 Pharmcophore == NaN: {len(df_temp)}\")"
   ]
  },
  {
   "cell_type": "code",
   "execution_count": 33,
   "id": "f01f33d6",
   "metadata": {
    "ExecuteTime": {
     "end_time": "2023-05-25T06:21:58.654847Z",
     "start_time": "2023-05-25T06:21:58.642398Z"
    },
    "execution": {
     "iopub.execute_input": "2023-11-09T22:32:00.084603Z",
     "iopub.status.busy": "2023-11-09T22:32:00.083809Z",
     "iopub.status.idle": "2023-11-09T22:32:00.096271Z",
     "shell.execute_reply": "2023-11-09T22:32:00.095662Z",
     "shell.execute_reply.started": "2023-11-09T22:32:00.084576Z"
    }
   },
   "outputs": [
    {
     "name": "stdout",
     "output_type": "stream",
     "text": [
      " compound Metadata Output File 3: ./output_09112023/cp_compound_metadata_pcfp.csv\n",
      "\n",
      " compound Metadata + Base64 Pharmacophores File: ./output_09112023/cp_compound_metadata_pcfp.csv\n"
     ]
    }
   ],
   "source": [
    " \n",
    "print(f\" compound Metadata + Base64 Pharmacophores File: {compoundMetadataPharmacophoreFile}\")"
   ]
  },
  {
   "cell_type": "code",
   "execution_count": 34,
   "id": "2aa3e31e",
   "metadata": {
    "ExecuteTime": {
     "end_time": "2023-05-25T06:21:59.262398Z",
     "start_time": "2023-05-25T06:21:58.812004Z"
    },
    "execution": {
     "iopub.execute_input": "2023-11-09T22:32:16.355946Z",
     "iopub.status.busy": "2023-11-09T22:32:16.355133Z",
     "iopub.status.idle": "2023-11-09T22:32:16.785358Z",
     "shell.execute_reply": "2023-11-09T22:32:16.784501Z",
     "shell.execute_reply.started": "2023-11-09T22:32:16.355921Z"
    }
   },
   "outputs": [],
   "source": [
    "df_metadata_all.to_csv(compoundMetadataPharmacophoreFile, header = True, index = False)"
   ]
  },
  {
   "cell_type": "markdown",
   "id": "f55af95d",
   "metadata": {
    "jp-MarkdownHeadingCollapsed": true
   },
   "source": [
    "## combine pharmacophore files from all processes and write output\n",
    "\n",
    "- write to `./output/cp_compound_pharmacophores.pkl`"
   ]
  },
  {
   "cell_type": "code",
   "execution_count": null,
   "id": "f5946e8e",
   "metadata": {
    "ExecuteTime": {
     "end_time": "2023-05-24T09:02:17.314822Z",
     "start_time": "2023-05-24T09:02:17.293822Z"
    }
   },
   "outputs": [],
   "source": [
    "#     print(f\" {datetime.now().strftime('%X.%f')} | chunk_id: {chunk_id} | write to compoundPharmacophoreFile  | mode : {mode}  header: {header}\")\n",
    "#     df_fingerprints.to_csv(compoundPharmacophoreFile,\n",
    "#                     index=False,  \n",
    "#                     header=header, mode=mode)     # Skip index column"
   ]
  },
  {
   "cell_type": "code",
   "execution_count": 35,
   "id": "d8ef8b83",
   "metadata": {
    "ExecuteTime": {
     "end_time": "2023-05-25T06:22:22.091773Z",
     "start_time": "2023-05-25T06:22:22.053388Z"
    },
    "execution": {
     "iopub.execute_input": "2023-11-09T22:32:24.331661Z",
     "iopub.status.busy": "2023-11-09T22:32:24.331196Z",
     "iopub.status.idle": "2023-11-09T22:32:24.380278Z",
     "shell.execute_reply": "2023-11-09T22:32:24.379470Z",
     "shell.execute_reply.started": "2023-11-09T22:32:24.331637Z"
    },
    "scrolled": true
   },
   "outputs": [
    {
     "name": "stdout",
     "output_type": "stream",
     "text": [
      "<class 'pandas.core.frame.DataFrame'>\n",
      "RangeIndex: 60000 entries, 0 to 59999\n",
      "Data columns (total 2 columns):\n",
      " #   Column            Non-Null Count  Dtype \n",
      "---  ------            --------------  ----- \n",
      " 0   JCP2022           60000 non-null  object\n",
      " 1   pharmacophore_fp  60000 non-null  object\n",
      "dtypes: object(2)\n",
      "memory usage: 937.6+ KB\n"
     ]
    },
    {
     "data": {
      "text/html": [
       "<div>\n",
       "<style scoped>\n",
       "    .dataframe tbody tr th:only-of-type {\n",
       "        vertical-align: middle;\n",
       "    }\n",
       "\n",
       "    .dataframe tbody tr th {\n",
       "        vertical-align: top;\n",
       "    }\n",
       "\n",
       "    .dataframe thead th {\n",
       "        text-align: right;\n",
       "    }\n",
       "</style>\n",
       "<table border=\"1\" class=\"dataframe\">\n",
       "  <thead>\n",
       "    <tr style=\"text-align: right;\">\n",
       "      <th></th>\n",
       "      <th>JCP2022</th>\n",
       "      <th>pharmacophore_fp</th>\n",
       "    </tr>\n",
       "  </thead>\n",
       "  <tbody>\n",
       "    <tr>\n",
       "      <th>0</th>\n",
       "      <td>JCP2022_000001</td>\n",
       "      <td>[0, 1, 1, 1, 1, 1, 1, 1, 1, 1, 0, 0, 1, 1, 0, ...</td>\n",
       "    </tr>\n",
       "    <tr>\n",
       "      <th>1</th>\n",
       "      <td>JCP2022_000002</td>\n",
       "      <td>[0, 0, 0, 1, 1, 0, 0, 1, 0, 1, 0, 0, 0, 0, 0, ...</td>\n",
       "    </tr>\n",
       "    <tr>\n",
       "      <th>2</th>\n",
       "      <td>JCP2022_000003</td>\n",
       "      <td>[0, 1, 1, 1, 0, 1, 1, 1, 1, 1, 0, 0, 0, 0, 0, ...</td>\n",
       "    </tr>\n",
       "    <tr>\n",
       "      <th>3</th>\n",
       "      <td>JCP2022_000004</td>\n",
       "      <td>[1, 1, 1, 0, 0, 1, 0, 1, 0, 0, 0, 0, 0, 1, 0, ...</td>\n",
       "    </tr>\n",
       "    <tr>\n",
       "      <th>4</th>\n",
       "      <td>JCP2022_000005</td>\n",
       "      <td>[1, 1, 1, 1, 0, 1, 1, 1, 1, 1, 0, 0, 0, 0, 0, ...</td>\n",
       "    </tr>\n",
       "  </tbody>\n",
       "</table>\n",
       "</div>"
      ],
      "text/plain": [
       "          JCP2022                                   pharmacophore_fp\n",
       "0  JCP2022_000001  [0, 1, 1, 1, 1, 1, 1, 1, 1, 1, 0, 0, 1, 1, 0, ...\n",
       "1  JCP2022_000002  [0, 0, 0, 1, 1, 0, 0, 1, 0, 1, 0, 0, 0, 0, 0, ...\n",
       "2  JCP2022_000003  [0, 1, 1, 1, 0, 1, 1, 1, 1, 1, 0, 0, 0, 0, 0, ...\n",
       "3  JCP2022_000004  [1, 1, 1, 0, 0, 1, 0, 1, 0, 0, 0, 0, 0, 1, 0, ...\n",
       "4  JCP2022_000005  [1, 1, 1, 1, 0, 1, 1, 1, 1, 1, 0, 0, 0, 0, 0, ..."
      ]
     },
     "execution_count": 35,
     "metadata": {},
     "output_type": "execute_result"
    },
    {
     "data": {
      "text/html": [
       "<div>\n",
       "<style scoped>\n",
       "    .dataframe tbody tr th:only-of-type {\n",
       "        vertical-align: middle;\n",
       "    }\n",
       "\n",
       "    .dataframe tbody tr th {\n",
       "        vertical-align: top;\n",
       "    }\n",
       "\n",
       "    .dataframe thead th {\n",
       "        text-align: right;\n",
       "    }\n",
       "</style>\n",
       "<table border=\"1\" class=\"dataframe\">\n",
       "  <thead>\n",
       "    <tr style=\"text-align: right;\">\n",
       "      <th></th>\n",
       "      <th>JCP2022</th>\n",
       "      <th>pharmacophore_fp</th>\n",
       "    </tr>\n",
       "  </thead>\n",
       "  <tbody>\n",
       "  </tbody>\n",
       "</table>\n",
       "</div>"
      ],
      "text/plain": [
       "Empty DataFrame\n",
       "Columns: [JCP2022, pharmacophore_fp]\n",
       "Index: []"
      ]
     },
     "execution_count": 35,
     "metadata": {},
     "output_type": "execute_result"
    },
    {
     "data": {
      "text/plain": [
       "60000"
      ]
     },
     "execution_count": 35,
     "metadata": {},
     "output_type": "execute_result"
    }
   ],
   "source": [
    "df_fingerprints_all = pd.concat([i[2] for i in results ], axis = 0, ignore_index=True )\n",
    "df_fingerprints_all.info()\n",
    "df_fingerprints_all.head()\n",
    "df_fingerprints_all[df_fingerprints_all['pharmacophore_fp'].isna()]\n",
    "len(df_fingerprints_all)"
   ]
  },
  {
   "cell_type": "code",
   "execution_count": 41,
   "id": "9835cb35",
   "metadata": {
    "ExecuteTime": {
     "end_time": "2023-05-25T06:22:30.460649Z",
     "start_time": "2023-05-25T06:22:30.448879Z"
    },
    "execution": {
     "iopub.execute_input": "2023-11-09T22:44:36.332037Z",
     "iopub.status.busy": "2023-11-09T22:44:36.331546Z",
     "iopub.status.idle": "2023-11-09T22:44:36.350798Z",
     "shell.execute_reply": "2023-11-09T22:44:36.350012Z",
     "shell.execute_reply.started": "2023-11-09T22:44:36.332010Z"
    }
   },
   "outputs": [
    {
     "name": "stdout",
     "output_type": "stream",
     "text": [
      " compound Pharmacophore File    : ./output_09112023/cp_compound_pcfp_sparse.pkl\n"
     ]
    }
   ],
   "source": [
    "print(f\" compound Pharmacophore File    : {compoundPharmacophoreFile}\")"
   ]
  },
  {
   "cell_type": "code",
   "execution_count": 42,
   "id": "057f9dbb",
   "metadata": {
    "ExecuteTime": {
     "end_time": "2023-05-25T06:22:34.353360Z",
     "start_time": "2023-05-25T06:22:33.669830Z"
    },
    "execution": {
     "iopub.execute_input": "2023-11-09T22:44:40.706902Z",
     "iopub.status.busy": "2023-11-09T22:44:40.706443Z",
     "iopub.status.idle": "2023-11-09T22:44:41.079518Z",
     "shell.execute_reply": "2023-11-09T22:44:41.078741Z",
     "shell.execute_reply.started": "2023-11-09T22:44:40.706881Z"
    }
   },
   "outputs": [],
   "source": [
    "df_fingerprints_all.to_pickle(compoundPharmacophoreFile)"
   ]
  },
  {
   "cell_type": "markdown",
   "id": "df347fbf-7191-4e63-acc9-8f51ef61d347",
   "metadata": {},
   "source": [
    "#### Test for an all zero pharmacophore fp"
   ]
  },
  {
   "cell_type": "code",
   "execution_count": 48,
   "id": "4ff70c40-0865-4644-a90b-8cdaeec593bc",
   "metadata": {
    "execution": {
     "iopub.execute_input": "2023-11-09T22:49:49.084969Z",
     "iopub.status.busy": "2023-11-09T22:49:49.084699Z",
     "iopub.status.idle": "2023-11-09T22:49:49.099647Z",
     "shell.execute_reply": "2023-11-09T22:49:49.098927Z",
     "shell.execute_reply.started": "2023-11-09T22:49:49.084940Z"
    }
   },
   "outputs": [
    {
     "data": {
      "text/plain": [
       "'JCP2022_000001'"
      ]
     },
     "execution_count": 48,
     "metadata": {},
     "output_type": "execute_result"
    },
    {
     "data": {
      "text/plain": [
       "<rdkit.DataStructs.cDataStructs.SparseBitVect at 0x7f5055db16c0>"
      ]
     },
     "execution_count": 48,
     "metadata": {},
     "output_type": "execute_result"
    }
   ],
   "source": [
    "df_fingerprints_all.iloc[0][0]\n",
    "df_fingerprints_all.iloc[0][1]"
   ]
  },
  {
   "cell_type": "code",
   "execution_count": null,
   "id": "24d811f2-a00c-4d3a-a3be-bff5364cad93",
   "metadata": {
    "execution": {
     "iopub.execute_input": "2023-11-09T22:54:18.090491Z",
     "iopub.status.busy": "2023-11-09T22:54:18.090057Z",
     "iopub.status.idle": "2023-11-09T22:54:19.644975Z",
     "shell.execute_reply": "2023-11-09T22:54:19.644355Z",
     "shell.execute_reply.started": "2023-11-09T22:54:18.090470Z"
    }
   },
   "outputs": [],
   "source": [
    "# import rdkit\n",
    "\n",
    "# i = 0\n",
    "# zero_ctr = 0 \n",
    "# all_zeros = [0]*1032\n",
    "# test = [1]\n",
    "# test.extend([0] *1031)\n",
    "\n",
    "# print(all_zeros)\n",
    "# print(test)\n",
    "# print(all_zeros == test)\n",
    "\n",
    "# for comp in df_fingerprints_all.itertuples():\n",
    "#     list_fromBase64Sparse = rdkit.DataStructs.cDataStructs.SparseBitVect.ToList(df_fingerprints_all.iloc[0][1])\n",
    "#     if list_fromBase64Sparse == all_zeros:\n",
    "#         print(i, ' is all zeros ' , len(list_fromBase64Sparse))\n",
    "#         zero_ctr += 1\n",
    "#     i+=1\n",
    "#     # if i == 20000:\n",
    "#         # break\n",
    "# print(f\" number of records read {i}\")\n",
    "# print(f\" number of zero fingerprints: {zero_ctr}\")"
   ]
  },
  {
   "cell_type": "code",
   "execution_count": 43,
   "id": "6c7560e2",
   "metadata": {
    "ExecuteTime": {
     "end_time": "2023-05-25T06:22:35.302159Z",
     "start_time": "2023-05-25T06:22:35.291055Z"
    }
   },
   "outputs": [],
   "source": [
    "# df_chunk.info()\n",
    "# df_fingerprints.info()\n",
    "del df_fingerprints_all,   df_metadata_all"
   ]
  },
  {
   "cell_type": "markdown",
   "id": "6616c8e2",
   "metadata": {
    "heading_collapsed": true
   },
   "source": [
    "## Reread and verify saved files"
   ]
  },
  {
   "cell_type": "markdown",
   "id": "8911c423",
   "metadata": {
    "hidden": true
   },
   "source": [
    "### Reread and check metadata (+ pharmacophore in base 64 format) CSV file \n",
    "\n",
    "- `./output/cp_compound_metadata_clean.csv`"
   ]
  },
  {
   "cell_type": "code",
   "execution_count": 63,
   "id": "eef1fe7c",
   "metadata": {
    "ExecuteTime": {
     "end_time": "2023-05-25T10:35:30.580582Z",
     "start_time": "2023-05-25T10:35:30.569191Z"
    },
    "hidden": true,
    "scrolled": true
   },
   "outputs": [
    {
     "name": "stdout",
     "output_type": "stream",
     "text": [
      " compound Metadata Output File 2: ./output/cp_compound_metadata_clean.csv\n",
      "\n"
     ]
    }
   ],
   "source": [
    "print(f\" compound Metadata Output File 3: {compoundMetadataOutputFile_3}\\n\")\n",
    "# ./output/cp_compound_metadata_clean.csv"
   ]
  },
  {
   "cell_type": "code",
   "execution_count": 64,
   "id": "4b8bdac9",
   "metadata": {
    "ExecuteTime": {
     "end_time": "2023-05-25T10:35:34.375560Z",
     "start_time": "2023-05-25T10:35:33.974430Z"
    },
    "hidden": true
   },
   "outputs": [
    {
     "name": "stdout",
     "output_type": "stream",
     "text": [
      "<class 'pandas.core.frame.DataFrame'>\n",
      "RangeIndex: 116751 entries, 0 to 116750\n",
      "Data columns (total 5 columns):\n",
      " #   Column                Non-Null Count   Dtype \n",
      "---  ------                --------------   ----- \n",
      " 0   JCP2022               116751 non-null  object\n",
      " 1   InChIKey              116751 non-null  object\n",
      " 2   InChI                 116751 non-null  object\n",
      " 3   smiles                116751 non-null  object\n",
      " 4   pharmacophore_base64  116751 non-null  object\n",
      "dtypes: object(5)\n",
      "memory usage: 4.5+ MB\n"
     ]
    },
    {
     "data": {
      "text/html": [
       "<div>\n",
       "<style scoped>\n",
       "    .dataframe tbody tr th:only-of-type {\n",
       "        vertical-align: middle;\n",
       "    }\n",
       "\n",
       "    .dataframe tbody tr th {\n",
       "        vertical-align: top;\n",
       "    }\n",
       "\n",
       "    .dataframe thead th {\n",
       "        text-align: right;\n",
       "    }\n",
       "</style>\n",
       "<table border=\"1\" class=\"dataframe\">\n",
       "  <thead>\n",
       "    <tr style=\"text-align: right;\">\n",
       "      <th></th>\n",
       "      <th>JCP2022</th>\n",
       "      <th>InChIKey</th>\n",
       "      <th>InChI</th>\n",
       "      <th>smiles</th>\n",
       "      <th>pharmacophore_base64</th>\n",
       "    </tr>\n",
       "  </thead>\n",
       "  <tbody>\n",
       "    <tr>\n",
       "      <th>0</th>\n",
       "      <td>JCP2022_000001</td>\n",
       "      <td>AAAHWCWPZPSPIW-UHFFFAOYSA-N</td>\n",
       "      <td>InChI=1S/C25H31N5O2/c1-4-23-26-14-16-30(23)24-...</td>\n",
       "      <td>CCC1=NC=CN1c2cccc(n2)C3CCCN3C(=O)c4ccc(cc4)OCC...</td>\n",
       "      <td>4P///wgEAABaAAAAAgAAAAAAAAAABAAEAAAAAAACBAAIAA...</td>\n",
       "    </tr>\n",
       "    <tr>\n",
       "      <th>1</th>\n",
       "      <td>JCP2022_000002</td>\n",
       "      <td>AAAJHRMBUHXWLD-UHFFFAOYSA-N</td>\n",
       "      <td>InChI=1S/C11H13ClN2O/c12-10-4-2-9(3-5-10)8-14-...</td>\n",
       "      <td>OC1=NCCCN1Cc2ccc(Cl)cc2</td>\n",
       "      <td>4P///wgEAAAXAAAABgAEAhAAFAIAAAAO0GoADEixALUAAA...</td>\n",
       "    </tr>\n",
       "    <tr>\n",
       "      <th>2</th>\n",
       "      <td>JCP2022_000003</td>\n",
       "      <td>AAALVYBICLMAMA-UHFFFAOYSA-N</td>\n",
       "      <td>InChI=1S/C20H15N3O2/c24-19-15-11-17(21-13-7-3-...</td>\n",
       "      <td>OC2=NC(=O)c3cc(Nc1ccccc1)c(cc23)Nc4ccccc4</td>\n",
       "      <td>4P///wgEAABeAAAAAgAAAgAAAAAMAAAAAgAADgAAAAAMBA...</td>\n",
       "    </tr>\n",
       "    <tr>\n",
       "      <th>3</th>\n",
       "      <td>JCP2022_000004</td>\n",
       "      <td>AAANUZMCJQUYNX-UHFFFAOYSA-N</td>\n",
       "      <td>InChI=1S/C13H22N4O2S/c1-2-7-16-13(5-6-15-16)20...</td>\n",
       "      <td>CCCN1N=CC=C1S(=O)(=O)N2CC3CNCC2CC3</td>\n",
       "      <td>4P///wgEAAAfAAAAAAAABAIKCgAACggUCDoCFAYGBiYGJg...</td>\n",
       "    </tr>\n",
       "    <tr>\n",
       "      <th>4</th>\n",
       "      <td>JCP2022_000005</td>\n",
       "      <td>AAAQFGUYHFJNHI-UHFFFAOYSA-N</td>\n",
       "      <td>InChI=1S/C22H22ClN5O2/c1-4-24-20(29)12-18-22-2...</td>\n",
       "      <td>CCN=C(O)CC3N=C(c1ccc(Cl)cc1)c2cc(ccc2N4C(C)=NN...</td>\n",
       "      <td>4P///wgEAABhAAAAAAAAAAIAAAAADAACAAAAABAAAgwAAA...</td>\n",
       "    </tr>\n",
       "    <tr>\n",
       "      <th>5</th>\n",
       "      <td>JCP2022_000006</td>\n",
       "      <td>AAAROXVLYNJINN-UHFFFAOYSA-N</td>\n",
       "      <td>InChI=1S/C16H20N6O/c1-16(2,3)22-13(10-5-6-10)7...</td>\n",
       "      <td>CN1C=C(C=N1)C2=NOC(=N2)C4C=C(C3CC3)N(N=4)C(C)(C)C</td>\n",
       "      <td>4P///wgEAABHAAAAAAAAAAQAAAAMAAQAAAAmAg4wAAACBg...</td>\n",
       "    </tr>\n",
       "    <tr>\n",
       "      <th>6</th>\n",
       "      <td>JCP2022_000007</td>\n",
       "      <td>AAATVJFGQAZXQO-UHFFFAOYSA-N</td>\n",
       "      <td>InChI=1S/C24H22N2O4S/c1-14-20(15(2)30-26-14)13...</td>\n",
       "      <td>CC(OC(=O)c1ccccc1SCC2C(C)=NOC=2C)C(=O)C3=CNc4c...</td>\n",
       "      <td>4P///wgEAABiAAAAAAAAAAIAAAAADgAAAAACEAAAAAwAAA...</td>\n",
       "    </tr>\n",
       "    <tr>\n",
       "      <th>7</th>\n",
       "      <td>JCP2022_000008</td>\n",
       "      <td>AAAUIKUIDRZZQT-UHFFFAOYSA-N</td>\n",
       "      <td>InChI=1S/C26H24ClN3O2/c1-3-22(25(31)29-20-13-9...</td>\n",
       "      <td>CCC(C(O)=Nc1cccc(Cl)c1)N4C(=O)C(C)N=C(c2ccccc2...</td>\n",
       "      <td>4P///wgEAAA9AAAAAgICAgIMAAIAAAAAEgIMAAAADABCHg...</td>\n",
       "    </tr>\n",
       "    <tr>\n",
       "      <th>8</th>\n",
       "      <td>JCP2022_000009</td>\n",
       "      <td>AAAZRMGPBSWFDK-UHFFFAOYSA-N</td>\n",
       "      <td>InChI=1S/C18H19F3N4O4S2/c19-18(20,21)13-3-1-2-...</td>\n",
       "      <td>NC(=O)C1C=CSC=1N=C(O)CN2CCN(CC2)S(=O)(=O)c3ccc...</td>\n",
       "      <td>4P///wgEAABKAAAAAAAAAAAAAAAAAAYIAA4GAAAAAAYEDA...</td>\n",
       "    </tr>\n",
       "    <tr>\n",
       "      <th>9</th>\n",
       "      <td>JCP2022_000010</td>\n",
       "      <td>AABLKAPUNFMSIA-UHFFFAOYSA-N</td>\n",
       "      <td>InChI=1S/C15H24N4O4S/c1-3-18-14(4-7-16-18)15(2...</td>\n",
       "      <td>CCN1N=CC=C1C(=O)N2CC(C2)N(C3CCOCC3)S(C)(=O)=O</td>\n",
       "      <td>4P///wgEAAAPAAAAAAAAAAAAGHYIBAgEAGAKxQs=</td>\n",
       "    </tr>\n",
       "  </tbody>\n",
       "</table>\n",
       "</div>"
      ],
      "text/plain": [
       "          JCP2022                     InChIKey                                              InChI                                             smiles   \n",
       "0  JCP2022_000001  AAAHWCWPZPSPIW-UHFFFAOYSA-N  InChI=1S/C25H31N5O2/c1-4-23-26-14-16-30(23)24-...  CCC1=NC=CN1c2cccc(n2)C3CCCN3C(=O)c4ccc(cc4)OCC...  \\\n",
       "1  JCP2022_000002  AAAJHRMBUHXWLD-UHFFFAOYSA-N  InChI=1S/C11H13ClN2O/c12-10-4-2-9(3-5-10)8-14-...                            OC1=NCCCN1Cc2ccc(Cl)cc2   \n",
       "2  JCP2022_000003  AAALVYBICLMAMA-UHFFFAOYSA-N  InChI=1S/C20H15N3O2/c24-19-15-11-17(21-13-7-3-...          OC2=NC(=O)c3cc(Nc1ccccc1)c(cc23)Nc4ccccc4   \n",
       "3  JCP2022_000004  AAANUZMCJQUYNX-UHFFFAOYSA-N  InChI=1S/C13H22N4O2S/c1-2-7-16-13(5-6-15-16)20...                 CCCN1N=CC=C1S(=O)(=O)N2CC3CNCC2CC3   \n",
       "4  JCP2022_000005  AAAQFGUYHFJNHI-UHFFFAOYSA-N  InChI=1S/C22H22ClN5O2/c1-4-24-20(29)12-18-22-2...  CCN=C(O)CC3N=C(c1ccc(Cl)cc1)c2cc(ccc2N4C(C)=NN...   \n",
       "5  JCP2022_000006  AAAROXVLYNJINN-UHFFFAOYSA-N  InChI=1S/C16H20N6O/c1-16(2,3)22-13(10-5-6-10)7...  CN1C=C(C=N1)C2=NOC(=N2)C4C=C(C3CC3)N(N=4)C(C)(C)C   \n",
       "6  JCP2022_000007  AAATVJFGQAZXQO-UHFFFAOYSA-N  InChI=1S/C24H22N2O4S/c1-14-20(15(2)30-26-14)13...  CC(OC(=O)c1ccccc1SCC2C(C)=NOC=2C)C(=O)C3=CNc4c...   \n",
       "7  JCP2022_000008  AAAUIKUIDRZZQT-UHFFFAOYSA-N  InChI=1S/C26H24ClN3O2/c1-3-22(25(31)29-20-13-9...  CCC(C(O)=Nc1cccc(Cl)c1)N4C(=O)C(C)N=C(c2ccccc2...   \n",
       "8  JCP2022_000009  AAAZRMGPBSWFDK-UHFFFAOYSA-N  InChI=1S/C18H19F3N4O4S2/c19-18(20,21)13-3-1-2-...  NC(=O)C1C=CSC=1N=C(O)CN2CCN(CC2)S(=O)(=O)c3ccc...   \n",
       "9  JCP2022_000010  AABLKAPUNFMSIA-UHFFFAOYSA-N  InChI=1S/C15H24N4O4S/c1-3-18-14(4-7-16-18)15(2...      CCN1N=CC=C1C(=O)N2CC(C2)N(C3CCOCC3)S(C)(=O)=O   \n",
       "\n",
       "                                pharmacophore_base64  \n",
       "0  4P///wgEAABaAAAAAgAAAAAAAAAABAAEAAAAAAACBAAIAA...  \n",
       "1  4P///wgEAAAXAAAABgAEAhAAFAIAAAAO0GoADEixALUAAA...  \n",
       "2  4P///wgEAABeAAAAAgAAAgAAAAAMAAAAAgAADgAAAAAMBA...  \n",
       "3  4P///wgEAAAfAAAAAAAABAIKCgAACggUCDoCFAYGBiYGJg...  \n",
       "4  4P///wgEAABhAAAAAAAAAAIAAAAADAACAAAAABAAAgwAAA...  \n",
       "5  4P///wgEAABHAAAAAAAAAAQAAAAMAAQAAAAmAg4wAAACBg...  \n",
       "6  4P///wgEAABiAAAAAAAAAAIAAAAADgAAAAACEAAAAAwAAA...  \n",
       "7  4P///wgEAAA9AAAAAgICAgIMAAIAAAAAEgIMAAAADABCHg...  \n",
       "8  4P///wgEAABKAAAAAAAAAAAAAAAAAAYIAA4GAAAAAAYEDA...  \n",
       "9           4P///wgEAAAPAAAAAAAAAAAAGHYIBAgEAGAKxQs=  "
      ]
     },
     "execution_count": 64,
     "metadata": {},
     "output_type": "execute_result"
    }
   ],
   "source": [
    "df = pd.read_csv(compoundMetadataOutputFile_3)\n",
    "df.info()\n",
    "df.head(10)\n",
    "# df.tail(10)"
   ]
  },
  {
   "cell_type": "code",
   "execution_count": 65,
   "id": "cbc6cc33",
   "metadata": {
    "ExecuteTime": {
     "end_time": "2023-05-25T10:36:06.352181Z",
     "start_time": "2023-05-25T10:36:06.318052Z"
    },
    "hidden": true
   },
   "outputs": [
    {
     "data": {
      "text/html": [
       "<div>\n",
       "<style scoped>\n",
       "    .dataframe tbody tr th:only-of-type {\n",
       "        vertical-align: middle;\n",
       "    }\n",
       "\n",
       "    .dataframe tbody tr th {\n",
       "        vertical-align: top;\n",
       "    }\n",
       "\n",
       "    .dataframe thead th {\n",
       "        text-align: right;\n",
       "    }\n",
       "</style>\n",
       "<table border=\"1\" class=\"dataframe\">\n",
       "  <thead>\n",
       "    <tr style=\"text-align: right;\">\n",
       "      <th></th>\n",
       "      <th>JCP2022</th>\n",
       "      <th>InChIKey</th>\n",
       "      <th>InChI</th>\n",
       "      <th>smiles</th>\n",
       "      <th>pharmacophore_base64</th>\n",
       "    </tr>\n",
       "  </thead>\n",
       "  <tbody>\n",
       "  </tbody>\n",
       "</table>\n",
       "</div>"
      ],
      "text/plain": [
       "Empty DataFrame\n",
       "Columns: [JCP2022, InChIKey, InChI, smiles, pharmacophore_base64]\n",
       "Index: []"
      ]
     },
     "execution_count": 65,
     "metadata": {},
     "output_type": "execute_result"
    },
    {
     "data": {
      "text/plain": [
       "116751"
      ]
     },
     "execution_count": 65,
     "metadata": {},
     "output_type": "execute_result"
    },
    {
     "data": {
      "text/html": [
       "<div>\n",
       "<style scoped>\n",
       "    .dataframe tbody tr th:only-of-type {\n",
       "        vertical-align: middle;\n",
       "    }\n",
       "\n",
       "    .dataframe tbody tr th {\n",
       "        vertical-align: top;\n",
       "    }\n",
       "\n",
       "    .dataframe thead th {\n",
       "        text-align: right;\n",
       "    }\n",
       "</style>\n",
       "<table border=\"1\" class=\"dataframe\">\n",
       "  <thead>\n",
       "    <tr style=\"text-align: right;\">\n",
       "      <th></th>\n",
       "      <th>JCP2022</th>\n",
       "      <th>InChIKey</th>\n",
       "      <th>InChI</th>\n",
       "      <th>smiles</th>\n",
       "      <th>pharmacophore_base64</th>\n",
       "    </tr>\n",
       "  </thead>\n",
       "  <tbody>\n",
       "  </tbody>\n",
       "</table>\n",
       "</div>"
      ],
      "text/plain": [
       "Empty DataFrame\n",
       "Columns: [JCP2022, InChIKey, InChI, smiles, pharmacophore_base64]\n",
       "Index: []"
      ]
     },
     "execution_count": 65,
     "metadata": {},
     "output_type": "execute_result"
    },
    {
     "data": {
      "text/plain": [
       "116751"
      ]
     },
     "execution_count": 65,
     "metadata": {},
     "output_type": "execute_result"
    },
    {
     "data": {
      "text/html": [
       "<div>\n",
       "<style scoped>\n",
       "    .dataframe tbody tr th:only-of-type {\n",
       "        vertical-align: middle;\n",
       "    }\n",
       "\n",
       "    .dataframe tbody tr th {\n",
       "        vertical-align: top;\n",
       "    }\n",
       "\n",
       "    .dataframe thead th {\n",
       "        text-align: right;\n",
       "    }\n",
       "</style>\n",
       "<table border=\"1\" class=\"dataframe\">\n",
       "  <thead>\n",
       "    <tr style=\"text-align: right;\">\n",
       "      <th></th>\n",
       "      <th>JCP2022</th>\n",
       "      <th>InChIKey</th>\n",
       "      <th>InChI</th>\n",
       "      <th>smiles</th>\n",
       "      <th>pharmacophore_base64</th>\n",
       "    </tr>\n",
       "  </thead>\n",
       "  <tbody>\n",
       "  </tbody>\n",
       "</table>\n",
       "</div>"
      ],
      "text/plain": [
       "Empty DataFrame\n",
       "Columns: [JCP2022, InChIKey, InChI, smiles, pharmacophore_base64]\n",
       "Index: []"
      ]
     },
     "execution_count": 65,
     "metadata": {},
     "output_type": "execute_result"
    },
    {
     "data": {
      "text/plain": [
       "116751"
      ]
     },
     "execution_count": 65,
     "metadata": {},
     "output_type": "execute_result"
    }
   ],
   "source": [
    "df[df['InChI'].isna()]\n",
    "len(df)\n",
    "df[df['smiles'].isna()]\n",
    "len(df)\n",
    "df[df['pharmacophore_base64'].isna()]\n",
    "len(df)\n"
   ]
  },
  {
   "cell_type": "code",
   "execution_count": null,
   "id": "800084eb",
   "metadata": {
    "hidden": true
   },
   "outputs": [],
   "source": []
  },
  {
   "cell_type": "code",
   "execution_count": 47,
   "id": "8b10301d",
   "metadata": {
    "ExecuteTime": {
     "end_time": "2023-05-25T06:23:06.424162Z",
     "start_time": "2023-05-25T06:23:06.412680Z"
    },
    "hidden": true
   },
   "outputs": [],
   "source": [
    "del df "
   ]
  },
  {
   "cell_type": "markdown",
   "id": "8d36c014",
   "metadata": {
    "heading_collapsed": true,
    "hidden": true,
    "jp-MarkdownHeadingCollapsed": true
   },
   "source": [
    "### Reread and check pharmacophore fingerprint file \n",
    "\n",
    "- `./output/cp_compound_pharmacophores.pkl`"
   ]
  },
  {
   "cell_type": "code",
   "execution_count": 54,
   "id": "16230c78",
   "metadata": {
    "ExecuteTime": {
     "end_time": "2023-05-25T10:05:20.749055Z",
     "start_time": "2023-05-25T10:05:20.736987Z"
    },
    "hidden": true
   },
   "outputs": [
    {
     "name": "stdout",
     "output_type": "stream",
     "text": [
      " compound Pharmacophore File    : ./output/cp_compound_pharmacophores.pkl\n"
     ]
    }
   ],
   "source": [
    "print(f\" compound Pharmacophore File    : {compoundPharmacophoreFile}\")"
   ]
  },
  {
   "cell_type": "code",
   "execution_count": 44,
   "id": "87b16cb3",
   "metadata": {
    "ExecuteTime": {
     "end_time": "2023-05-25T06:22:43.794360Z",
     "start_time": "2023-05-25T06:22:42.794157Z"
    },
    "hidden": true
   },
   "outputs": [
    {
     "name": "stdout",
     "output_type": "stream",
     "text": [
      "<class 'pandas.core.frame.DataFrame'>\n",
      "RangeIndex: 116751 entries, 0 to 116750\n",
      "Data columns (total 2 columns):\n",
      " #   Column            Non-Null Count   Dtype \n",
      "---  ------            --------------   ----- \n",
      " 0   JCP2022           116751 non-null  object\n",
      " 1   pharmacophore_fp  116751 non-null  object\n",
      "dtypes: object(2)\n",
      "memory usage: 1.8+ MB\n"
     ]
    },
    {
     "data": {
      "text/html": [
       "<div>\n",
       "<style scoped>\n",
       "    .dataframe tbody tr th:only-of-type {\n",
       "        vertical-align: middle;\n",
       "    }\n",
       "\n",
       "    .dataframe tbody tr th {\n",
       "        vertical-align: top;\n",
       "    }\n",
       "\n",
       "    .dataframe thead th {\n",
       "        text-align: right;\n",
       "    }\n",
       "</style>\n",
       "<table border=\"1\" class=\"dataframe\">\n",
       "  <thead>\n",
       "    <tr style=\"text-align: right;\">\n",
       "      <th></th>\n",
       "      <th>JCP2022</th>\n",
       "      <th>pharmacophore_fp</th>\n",
       "    </tr>\n",
       "  </thead>\n",
       "  <tbody>\n",
       "    <tr>\n",
       "      <th>0</th>\n",
       "      <td>JCP2022_000001</td>\n",
       "      <td>[0, 1, 1, 1, 1, 1, 1, 1, 1, 1, 0, 0, 1, 1, 0, ...</td>\n",
       "    </tr>\n",
       "    <tr>\n",
       "      <th>1</th>\n",
       "      <td>JCP2022_000002</td>\n",
       "      <td>[0, 0, 0, 1, 1, 0, 0, 1, 0, 1, 0, 0, 0, 0, 0, ...</td>\n",
       "    </tr>\n",
       "    <tr>\n",
       "      <th>2</th>\n",
       "      <td>JCP2022_000003</td>\n",
       "      <td>[0, 1, 1, 1, 0, 1, 1, 1, 1, 1, 0, 0, 0, 0, 0, ...</td>\n",
       "    </tr>\n",
       "    <tr>\n",
       "      <th>3</th>\n",
       "      <td>JCP2022_000004</td>\n",
       "      <td>[1, 1, 1, 0, 0, 1, 0, 1, 0, 0, 0, 0, 0, 1, 0, ...</td>\n",
       "    </tr>\n",
       "    <tr>\n",
       "      <th>4</th>\n",
       "      <td>JCP2022_000005</td>\n",
       "      <td>[1, 1, 1, 1, 0, 1, 1, 1, 1, 1, 0, 0, 0, 0, 0, ...</td>\n",
       "    </tr>\n",
       "    <tr>\n",
       "      <th>5</th>\n",
       "      <td>JCP2022_000006</td>\n",
       "      <td>[1, 1, 1, 1, 0, 0, 1, 1, 1, 1, 0, 0, 0, 0, 0, ...</td>\n",
       "    </tr>\n",
       "    <tr>\n",
       "      <th>6</th>\n",
       "      <td>JCP2022_000007</td>\n",
       "      <td>[1, 1, 1, 1, 0, 1, 1, 1, 1, 1, 0, 0, 0, 0, 0, ...</td>\n",
       "    </tr>\n",
       "    <tr>\n",
       "      <th>7</th>\n",
       "      <td>JCP2022_000008</td>\n",
       "      <td>[0, 1, 0, 1, 0, 1, 0, 1, 0, 1, 0, 0, 0, 0, 0, ...</td>\n",
       "    </tr>\n",
       "    <tr>\n",
       "      <th>8</th>\n",
       "      <td>JCP2022_000009</td>\n",
       "      <td>[1, 1, 1, 1, 1, 1, 1, 1, 1, 1, 0, 0, 0, 1, 0, ...</td>\n",
       "    </tr>\n",
       "    <tr>\n",
       "      <th>9</th>\n",
       "      <td>JCP2022_000010</td>\n",
       "      <td>[1, 1, 1, 1, 1, 1, 0, 0, 0, 0, 0, 0, 0, 0, 0, ...</td>\n",
       "    </tr>\n",
       "  </tbody>\n",
       "</table>\n",
       "</div>"
      ],
      "text/plain": [
       "          JCP2022                                   pharmacophore_fp\n",
       "0  JCP2022_000001  [0, 1, 1, 1, 1, 1, 1, 1, 1, 1, 0, 0, 1, 1, 0, ...\n",
       "1  JCP2022_000002  [0, 0, 0, 1, 1, 0, 0, 1, 0, 1, 0, 0, 0, 0, 0, ...\n",
       "2  JCP2022_000003  [0, 1, 1, 1, 0, 1, 1, 1, 1, 1, 0, 0, 0, 0, 0, ...\n",
       "3  JCP2022_000004  [1, 1, 1, 0, 0, 1, 0, 1, 0, 0, 0, 0, 0, 1, 0, ...\n",
       "4  JCP2022_000005  [1, 1, 1, 1, 0, 1, 1, 1, 1, 1, 0, 0, 0, 0, 0, ...\n",
       "5  JCP2022_000006  [1, 1, 1, 1, 0, 0, 1, 1, 1, 1, 0, 0, 0, 0, 0, ...\n",
       "6  JCP2022_000007  [1, 1, 1, 1, 0, 1, 1, 1, 1, 1, 0, 0, 0, 0, 0, ...\n",
       "7  JCP2022_000008  [0, 1, 0, 1, 0, 1, 0, 1, 0, 1, 0, 0, 0, 0, 0, ...\n",
       "8  JCP2022_000009  [1, 1, 1, 1, 1, 1, 1, 1, 1, 1, 0, 0, 0, 1, 0, ...\n",
       "9  JCP2022_000010  [1, 1, 1, 1, 1, 1, 0, 0, 0, 0, 0, 0, 0, 0, 0, ..."
      ]
     },
     "execution_count": 44,
     "metadata": {},
     "output_type": "execute_result"
    },
    {
     "data": {
      "text/html": [
       "<div>\n",
       "<style scoped>\n",
       "    .dataframe tbody tr th:only-of-type {\n",
       "        vertical-align: middle;\n",
       "    }\n",
       "\n",
       "    .dataframe tbody tr th {\n",
       "        vertical-align: top;\n",
       "    }\n",
       "\n",
       "    .dataframe thead th {\n",
       "        text-align: right;\n",
       "    }\n",
       "</style>\n",
       "<table border=\"1\" class=\"dataframe\">\n",
       "  <thead>\n",
       "    <tr style=\"text-align: right;\">\n",
       "      <th></th>\n",
       "      <th>JCP2022</th>\n",
       "      <th>pharmacophore_fp</th>\n",
       "    </tr>\n",
       "  </thead>\n",
       "  <tbody>\n",
       "    <tr>\n",
       "      <th>116741</th>\n",
       "      <td>JCP2022_116744</td>\n",
       "      <td>[0, 1, 1, 1, 0, 0, 1, 1, 1, 1, 0, 0, 0, 0, 0, ...</td>\n",
       "    </tr>\n",
       "    <tr>\n",
       "      <th>116742</th>\n",
       "      <td>JCP2022_116745</td>\n",
       "      <td>[0, 1, 1, 1, 1, 1, 0, 1, 1, 1, 0, 0, 0, 0, 0, ...</td>\n",
       "    </tr>\n",
       "    <tr>\n",
       "      <th>116743</th>\n",
       "      <td>JCP2022_116746</td>\n",
       "      <td>[0, 1, 1, 1, 0, 1, 1, 1, 1, 1, 0, 0, 0, 0, 0, ...</td>\n",
       "    </tr>\n",
       "    <tr>\n",
       "      <th>116744</th>\n",
       "      <td>JCP2022_116747</td>\n",
       "      <td>[0, 1, 1, 0, 0, 1, 1, 1, 0, 0, 0, 0, 0, 1, 0, ...</td>\n",
       "    </tr>\n",
       "    <tr>\n",
       "      <th>116745</th>\n",
       "      <td>JCP2022_116748</td>\n",
       "      <td>[0, 1, 1, 1, 1, 1, 1, 1, 1, 1, 0, 0, 0, 0, 0, ...</td>\n",
       "    </tr>\n",
       "    <tr>\n",
       "      <th>116746</th>\n",
       "      <td>JCP2022_116749</td>\n",
       "      <td>[0, 1, 1, 1, 1, 1, 1, 1, 1, 1, 0, 0, 0, 1, 0, ...</td>\n",
       "    </tr>\n",
       "    <tr>\n",
       "      <th>116747</th>\n",
       "      <td>JCP2022_116750</td>\n",
       "      <td>[1, 1, 1, 1, 1, 1, 1, 1, 0, 1, 0, 0, 0, 0, 0, ...</td>\n",
       "    </tr>\n",
       "    <tr>\n",
       "      <th>116748</th>\n",
       "      <td>JCP2022_116751</td>\n",
       "      <td>[0, 1, 1, 1, 0, 1, 0, 1, 1, 1, 0, 0, 0, 0, 0, ...</td>\n",
       "    </tr>\n",
       "    <tr>\n",
       "      <th>116749</th>\n",
       "      <td>JCP2022_116752</td>\n",
       "      <td>[1, 1, 1, 1, 1, 1, 1, 1, 1, 1, 0, 0, 0, 0, 0, ...</td>\n",
       "    </tr>\n",
       "    <tr>\n",
       "      <th>116750</th>\n",
       "      <td>JCP2022_116753</td>\n",
       "      <td>[0, 1, 1, 0, 0, 1, 1, 0, 1, 0, 0, 0, 0, 1, 0, ...</td>\n",
       "    </tr>\n",
       "  </tbody>\n",
       "</table>\n",
       "</div>"
      ],
      "text/plain": [
       "               JCP2022                                   pharmacophore_fp\n",
       "116741  JCP2022_116744  [0, 1, 1, 1, 0, 0, 1, 1, 1, 1, 0, 0, 0, 0, 0, ...\n",
       "116742  JCP2022_116745  [0, 1, 1, 1, 1, 1, 0, 1, 1, 1, 0, 0, 0, 0, 0, ...\n",
       "116743  JCP2022_116746  [0, 1, 1, 1, 0, 1, 1, 1, 1, 1, 0, 0, 0, 0, 0, ...\n",
       "116744  JCP2022_116747  [0, 1, 1, 0, 0, 1, 1, 1, 0, 0, 0, 0, 0, 1, 0, ...\n",
       "116745  JCP2022_116748  [0, 1, 1, 1, 1, 1, 1, 1, 1, 1, 0, 0, 0, 0, 0, ...\n",
       "116746  JCP2022_116749  [0, 1, 1, 1, 1, 1, 1, 1, 1, 1, 0, 0, 0, 1, 0, ...\n",
       "116747  JCP2022_116750  [1, 1, 1, 1, 1, 1, 1, 1, 0, 1, 0, 0, 0, 0, 0, ...\n",
       "116748  JCP2022_116751  [0, 1, 1, 1, 0, 1, 0, 1, 1, 1, 0, 0, 0, 0, 0, ...\n",
       "116749  JCP2022_116752  [1, 1, 1, 1, 1, 1, 1, 1, 1, 1, 0, 0, 0, 0, 0, ...\n",
       "116750  JCP2022_116753  [0, 1, 1, 0, 0, 1, 1, 0, 1, 0, 0, 0, 0, 1, 0, ..."
      ]
     },
     "execution_count": 44,
     "metadata": {},
     "output_type": "execute_result"
    }
   ],
   "source": [
    "df = pd.read_pickle(compoundPharmacophoreFile)\n",
    "df.info()\n",
    "df.head(10)\n",
    "df.tail(10)"
   ]
  },
  {
   "cell_type": "code",
   "execution_count": 45,
   "id": "4d9cfb66",
   "metadata": {
    "ExecuteTime": {
     "end_time": "2023-05-25T06:22:49.221216Z",
     "start_time": "2023-05-25T06:22:49.208807Z"
    },
    "hidden": true
   },
   "outputs": [
    {
     "name": "stdout",
     "output_type": "stream",
     "text": [
      "<class 'rdkit.DataStructs.cDataStructs.SparseBitVect'> 1032 <rdkit.DataStructs.cDataStructs.SparseBitVect object at 0x7fc484318f90>\n",
      "<class 'rdkit.DataStructs.cDataStructs.SparseBitVect'> 1032 <rdkit.DataStructs.cDataStructs.SparseBitVect object at 0x7fc484318f90>\n",
      "<class 'rdkit.DataStructs.cDataStructs.SparseBitVect'> 1032 <rdkit.DataStructs.cDataStructs.SparseBitVect object at 0x7fc484318f90>\n"
     ]
    }
   ],
   "source": [
    "\n",
    "print(type(df.at[0, 'pharmacophore_fp']), len(df.at[0, 'pharmacophore_fp']),  df.at[0, 'pharmacophore_fp'])\n",
    "print(type(df.loc[0].pharmacophore_fp)  , len(df.loc[0].pharmacophore_fp)  ,  df.loc[0].pharmacophore_fp)\n",
    "print(type(df.iloc[0].pharmacophore_fp) , len(df.iloc[0].pharmacophore_fp) ,  df.iloc[0].pharmacophore_fp)\n",
    "# print(type(df[0].pharmacophore_fp) , len(df[0].pharmacophore_fp) ,  df[0].pharmacophore_fp)\n"
   ]
  },
  {
   "cell_type": "markdown",
   "id": "069c19d9-484a-40c4-b9e3-85be23a71bd0",
   "metadata": {},
   "source": [
    "# Convert RDKit Sparse Bit Vectors to dense matrix"
   ]
  },
  {
   "cell_type": "code",
   "execution_count": 126,
   "id": "d2adeddb-b752-4739-9124-7ac413e012dd",
   "metadata": {
    "ExecuteTime": {
     "end_time": "2023-05-29T12:28:32.615186Z",
     "start_time": "2023-05-29T12:28:32.570531Z"
    }
   },
   "outputs": [],
   "source": [
    "from utils import fingerprint_to_sparse_matrix"
   ]
  },
  {
   "cell_type": "code",
   "execution_count": 67,
   "id": "c22f55f9-6e78-453b-917d-509f786cc75b",
   "metadata": {
    "ExecuteTime": {
     "end_time": "2023-05-29T12:27:28.868401Z",
     "start_time": "2023-05-29T12:27:28.733021Z"
    },
    "execution": {
     "iopub.execute_input": "2023-11-09T23:04:14.663923Z",
     "iopub.status.busy": "2023-11-09T23:04:14.663660Z",
     "iopub.status.idle": "2023-11-09T23:04:14.680999Z",
     "shell.execute_reply": "2023-11-09T23:04:14.680294Z",
     "shell.execute_reply.started": "2023-11-09T23:04:14.663904Z"
    },
    "scrolled": true
   },
   "outputs": [
    {
     "name": "stdout",
     "output_type": "stream",
     "text": [
      " compound Pharmacophore Sparse File       : ./output_09112023/cp_compound_pcfp_sparse.pkl\n",
      " compound Pharmacophore Sparse Clean File : ./output_09112023/cp_compound_pcfp_sparse_clean.pkl\n",
      " compound Pharmacophore Dense File        : ./output_09112023/cp_compound_pcfp_dense.npy\n",
      " compound Pharmacophore Dense Zipped File : ./output_09112023/cp_compound_pcfp_dense.npz\n"
     ]
    }
   ],
   "source": [
    "print(f\" compound Pharmacophore Sparse File       : {compoundPharmacophoreFile}\")\n",
    "print(f\" compound Pharmacophore Sparse Clean File : {compoundPharmacophoreCleanFile}\")\n",
    "print(f\" compound Pharmacophore Dense File        : {compoundPharmacophoreDenseFile}\")\n",
    "print(f\" compound Pharmacophore Dense Zipped File : {compoundPharmacophoreDenseZipFile}\")"
   ]
  },
  {
   "cell_type": "code",
   "execution_count": 70,
   "id": "024a35cc-8db1-4d98-a8b5-3f0dfdb0ba80",
   "metadata": {
    "ExecuteTime": {
     "end_time": "2023-05-29T12:28:29.165501Z",
     "start_time": "2023-05-29T12:28:28.042102Z"
    },
    "execution": {
     "iopub.execute_input": "2023-11-09T23:04:43.804310Z",
     "iopub.status.busy": "2023-11-09T23:04:43.803629Z",
     "iopub.status.idle": "2023-11-09T23:04:44.276841Z",
     "shell.execute_reply": "2023-11-09T23:04:44.276193Z",
     "shell.execute_reply.started": "2023-11-09T23:04:43.804290Z"
    }
   },
   "outputs": [],
   "source": [
    "# del df\n",
    "df = pd.read_pickle(compoundPharmacophoreFile)\n"
   ]
  },
  {
   "cell_type": "code",
   "execution_count": 83,
   "id": "9c54100e-e936-4579-a6a2-910711fed8da",
   "metadata": {
    "ExecuteTime": {
     "end_time": "2023-05-29T12:28:29.295170Z",
     "start_time": "2023-05-29T12:28:29.174014Z"
    },
    "execution": {
     "iopub.execute_input": "2023-11-09T23:10:05.358041Z",
     "iopub.status.busy": "2023-11-09T23:10:05.357747Z",
     "iopub.status.idle": "2023-11-09T23:10:05.411050Z",
     "shell.execute_reply": "2023-11-09T23:10:05.409889Z",
     "shell.execute_reply.started": "2023-11-09T23:10:05.358016Z"
    }
   },
   "outputs": [
    {
     "name": "stdout",
     "output_type": "stream",
     "text": [
      "<class 'pandas.core.frame.DataFrame'>\n",
      "RangeIndex: 60000 entries, 0 to 59999\n",
      "Data columns (total 2 columns):\n",
      " #   Column            Non-Null Count  Dtype \n",
      "---  ------            --------------  ----- \n",
      " 0   JCP2022           60000 non-null  object\n",
      " 1   pharmacophore_fp  60000 non-null  object\n",
      "dtypes: object(2)\n",
      "memory usage: 937.6+ KB\n"
     ]
    },
    {
     "data": {
      "text/html": [
       "<div>\n",
       "<style scoped>\n",
       "    .dataframe tbody tr th:only-of-type {\n",
       "        vertical-align: middle;\n",
       "    }\n",
       "\n",
       "    .dataframe tbody tr th {\n",
       "        vertical-align: top;\n",
       "    }\n",
       "\n",
       "    .dataframe thead th {\n",
       "        text-align: right;\n",
       "    }\n",
       "</style>\n",
       "<table border=\"1\" class=\"dataframe\">\n",
       "  <thead>\n",
       "    <tr style=\"text-align: right;\">\n",
       "      <th></th>\n",
       "      <th>JCP2022</th>\n",
       "      <th>pharmacophore_fp</th>\n",
       "    </tr>\n",
       "  </thead>\n",
       "  <tbody>\n",
       "    <tr>\n",
       "      <th>0</th>\n",
       "      <td>JCP2022_000001</td>\n",
       "      <td>[0, 1, 1, 1, 1, 1, 1, 1, 1, 1, 0, 0, 1, 1, 0, ...</td>\n",
       "    </tr>\n",
       "    <tr>\n",
       "      <th>1</th>\n",
       "      <td>JCP2022_000002</td>\n",
       "      <td>[0, 0, 0, 1, 1, 0, 0, 1, 0, 1, 0, 0, 0, 0, 0, ...</td>\n",
       "    </tr>\n",
       "    <tr>\n",
       "      <th>2</th>\n",
       "      <td>JCP2022_000003</td>\n",
       "      <td>[0, 1, 1, 1, 0, 1, 1, 1, 1, 1, 0, 0, 0, 0, 0, ...</td>\n",
       "    </tr>\n",
       "  </tbody>\n",
       "</table>\n",
       "</div>"
      ],
      "text/plain": [
       "          JCP2022                                   pharmacophore_fp\n",
       "0  JCP2022_000001  [0, 1, 1, 1, 1, 1, 1, 1, 1, 1, 0, 0, 1, 1, 0, ...\n",
       "1  JCP2022_000002  [0, 0, 0, 1, 1, 0, 0, 1, 0, 1, 0, 0, 0, 0, 0, ...\n",
       "2  JCP2022_000003  [0, 1, 1, 1, 0, 1, 1, 1, 1, 1, 0, 0, 0, 0, 0, ..."
      ]
     },
     "execution_count": 83,
     "metadata": {},
     "output_type": "execute_result"
    },
    {
     "data": {
      "text/html": [
       "<div>\n",
       "<style scoped>\n",
       "    .dataframe tbody tr th:only-of-type {\n",
       "        vertical-align: middle;\n",
       "    }\n",
       "\n",
       "    .dataframe tbody tr th {\n",
       "        vertical-align: top;\n",
       "    }\n",
       "\n",
       "    .dataframe thead th {\n",
       "        text-align: right;\n",
       "    }\n",
       "</style>\n",
       "<table border=\"1\" class=\"dataframe\">\n",
       "  <thead>\n",
       "    <tr style=\"text-align: right;\">\n",
       "      <th></th>\n",
       "      <th>JCP2022</th>\n",
       "      <th>pharmacophore_fp</th>\n",
       "    </tr>\n",
       "  </thead>\n",
       "  <tbody>\n",
       "    <tr>\n",
       "      <th>59997</th>\n",
       "      <td>JCP2022_060029</td>\n",
       "      <td>[1, 1, 1, 1, 1, 1, 1, 1, 1, 1, 0, 0, 0, 1, 0, ...</td>\n",
       "    </tr>\n",
       "    <tr>\n",
       "      <th>59998</th>\n",
       "      <td>JCP2022_060030</td>\n",
       "      <td>[0, 1, 1, 1, 1, 1, 1, 1, 1, 1, 0, 0, 0, 0, 0, ...</td>\n",
       "    </tr>\n",
       "    <tr>\n",
       "      <th>59999</th>\n",
       "      <td>JCP2022_060031</td>\n",
       "      <td>[1, 1, 1, 1, 1, 1, 1, 1, 0, 1, 0, 0, 0, 0, 0, ...</td>\n",
       "    </tr>\n",
       "  </tbody>\n",
       "</table>\n",
       "</div>"
      ],
      "text/plain": [
       "              JCP2022                                   pharmacophore_fp\n",
       "59997  JCP2022_060029  [1, 1, 1, 1, 1, 1, 1, 1, 1, 1, 0, 0, 0, 1, 0, ...\n",
       "59998  JCP2022_060030  [0, 1, 1, 1, 1, 1, 1, 1, 1, 1, 0, 0, 0, 0, 0, ...\n",
       "59999  JCP2022_060031  [1, 1, 1, 1, 1, 1, 1, 1, 0, 1, 0, 0, 0, 0, 0, ..."
      ]
     },
     "execution_count": 83,
     "metadata": {},
     "output_type": "execute_result"
    },
    {
     "data": {
      "text/plain": [
       "rdkit.DataStructs.cDataStructs.SparseBitVect"
      ]
     },
     "execution_count": 83,
     "metadata": {},
     "output_type": "execute_result"
    },
    {
     "data": {
      "text/plain": [
       "0"
      ]
     },
     "execution_count": 83,
     "metadata": {},
     "output_type": "execute_result"
    },
    {
     "data": {
      "text/html": [
       "<div>\n",
       "<style scoped>\n",
       "    .dataframe tbody tr th:only-of-type {\n",
       "        vertical-align: middle;\n",
       "    }\n",
       "\n",
       "    .dataframe tbody tr th {\n",
       "        vertical-align: top;\n",
       "    }\n",
       "\n",
       "    .dataframe thead th {\n",
       "        text-align: right;\n",
       "    }\n",
       "</style>\n",
       "<table border=\"1\" class=\"dataframe\">\n",
       "  <thead>\n",
       "    <tr style=\"text-align: right;\">\n",
       "      <th></th>\n",
       "      <th>JCP2022</th>\n",
       "      <th>pharmacophore_fp</th>\n",
       "    </tr>\n",
       "  </thead>\n",
       "  <tbody>\n",
       "    <tr>\n",
       "      <th>20</th>\n",
       "      <td>JCP2022_000021</td>\n",
       "      <td>[0, 1, 1, 1, 1, 1, 0, 1, 1, 1, 0, 0, 0, 0, 0, ...</td>\n",
       "    </tr>\n",
       "    <tr>\n",
       "      <th>21</th>\n",
       "      <td>JCP2022_000022</td>\n",
       "      <td>[1, 0, 1, 1, 0, 1, 0, 1, 1, 1, 0, 0, 0, 1, 0, ...</td>\n",
       "    </tr>\n",
       "    <tr>\n",
       "      <th>22</th>\n",
       "      <td>JCP2022_000023</td>\n",
       "      <td>[1, 1, 1, 1, 1, 1, 0, 1, 1, 1, 0, 0, 0, 0, 0, ...</td>\n",
       "    </tr>\n",
       "    <tr>\n",
       "      <th>23</th>\n",
       "      <td>JCP2022_000024</td>\n",
       "      <td>[1, 1, 1, 1, 0, 1, 0, 1, 1, 1, 0, 0, 0, 0, 0, ...</td>\n",
       "    </tr>\n",
       "    <tr>\n",
       "      <th>24</th>\n",
       "      <td>JCP2022_000025</td>\n",
       "      <td>[1, 1, 1, 1, 0, 1, 1, 1, 1, 1, 0, 0, 0, 0, 0, ...</td>\n",
       "    </tr>\n",
       "    <tr>\n",
       "      <th>25</th>\n",
       "      <td>JCP2022_000026</td>\n",
       "      <td>[0, 1, 0, 1, 0, 1, 1, 1, 1, 1, 0, 0, 0, 0, 0, ...</td>\n",
       "    </tr>\n",
       "    <tr>\n",
       "      <th>26</th>\n",
       "      <td>JCP2022_000027</td>\n",
       "      <td>[1, 1, 1, 1, 0, 1, 1, 1, 1, 1, 0, 0, 0, 1, 0, ...</td>\n",
       "    </tr>\n",
       "  </tbody>\n",
       "</table>\n",
       "</div>"
      ],
      "text/plain": [
       "           JCP2022                                   pharmacophore_fp\n",
       "20  JCP2022_000021  [0, 1, 1, 1, 1, 1, 0, 1, 1, 1, 0, 0, 0, 0, 0, ...\n",
       "21  JCP2022_000022  [1, 0, 1, 1, 0, 1, 0, 1, 1, 1, 0, 0, 0, 1, 0, ...\n",
       "22  JCP2022_000023  [1, 1, 1, 1, 1, 1, 0, 1, 1, 1, 0, 0, 0, 0, 0, ...\n",
       "23  JCP2022_000024  [1, 1, 1, 1, 0, 1, 0, 1, 1, 1, 0, 0, 0, 0, 0, ...\n",
       "24  JCP2022_000025  [1, 1, 1, 1, 0, 1, 1, 1, 1, 1, 0, 0, 0, 0, 0, ...\n",
       "25  JCP2022_000026  [0, 1, 0, 1, 0, 1, 1, 1, 1, 1, 0, 0, 0, 0, 0, ...\n",
       "26  JCP2022_000027  [1, 1, 1, 1, 0, 1, 1, 1, 1, 1, 0, 0, 0, 1, 0, ..."
      ]
     },
     "execution_count": 83,
     "metadata": {},
     "output_type": "execute_result"
    }
   ],
   "source": [
    "df.info()\n",
    "df.head(3)\n",
    "df.tail(3)\n",
    "type(df.loc[0][1])\n",
    "\n",
    "df_nan = df[df['pharmacophore_fp'].isna()]\n",
    "len(df_nan)\n",
    "\n",
    "df.loc[20:26]"
   ]
  },
  {
   "cell_type": "code",
   "execution_count": 74,
   "id": "136359b7-8883-41bf-b624-73b27a8ef1d3",
   "metadata": {
    "ExecuteTime": {
     "end_time": "2023-05-29T12:29:24.555236Z",
     "start_time": "2023-05-29T12:28:34.249451Z"
    },
    "execution": {
     "iopub.execute_input": "2023-11-09T23:06:33.949724Z",
     "iopub.status.busy": "2023-11-09T23:06:33.949462Z",
     "iopub.status.idle": "2023-11-09T23:07:02.237520Z",
     "shell.execute_reply": "2023-11-09T23:07:02.236876Z",
     "shell.execute_reply.started": "2023-11-09T23:06:33.949707Z"
    }
   },
   "outputs": [
    {
     "name": "stdout",
     "output_type": "stream",
     "text": [
      " 15:06:33.960633 | from 0 to 10000\n",
      " 15:06:38.775651 | shape of dense matrix is : (10000, 1032)\n",
      " 15:06:38.775775 | from 10000 to 20000\n",
      " 15:06:43.416728 | shape of dense matrix is : (20000, 1032)\n",
      " 15:06:43.416872 | from 20000 to 30000\n",
      " 15:06:48.142801 | shape of dense matrix is : (30000, 1032)\n",
      " 15:06:48.142959 | from 30000 to 40000\n",
      " 15:06:52.836535 | shape of dense matrix is : (40000, 1032)\n",
      " 15:06:52.836687 | from 40000 to 50000\n",
      " 15:06:57.543181 | shape of dense matrix is : (50000, 1032)\n",
      " 15:06:57.543303 | from 50000 to 60000\n",
      " 15:07:02.234859 | shape of dense matrix is : (60000, 1032)\n"
     ]
    }
   ],
   "source": [
    "start, end  = 0, 0 \n",
    "\n",
    "for i in range(0, 6, 1):\n",
    "    start = 10000 * i \n",
    "    end   +=10000\n",
    "    print(f\" {datetime.now().strftime('%X.%f')} | from {start} to {end}\")\n",
    "    csr_out, output_out = fingerprint_to_sparse_matrix(df, start, end, ncols=1032)\n",
    "    if i == 0:\n",
    "        dense_mat = csr_out.todense();\n",
    "    else :\n",
    "        dense_mat = np.concatenate([dense_mat, csr_out.todense()]);\n",
    "    print(f\" {datetime.now().strftime('%X.%f')} | shape of dense matrix is : {dense_mat.shape}\" )"
   ]
  },
  {
   "cell_type": "code",
   "execution_count": 75,
   "id": "39ba88e1-707e-4671-846b-56b825b6595f",
   "metadata": {
    "ExecuteTime": {
     "end_time": "2023-05-29T12:32:27.308848Z",
     "start_time": "2023-05-29T12:32:27.173981Z"
    },
    "execution": {
     "iopub.execute_input": "2023-11-09T23:07:04.934871Z",
     "iopub.status.busy": "2023-11-09T23:07:04.934582Z",
     "iopub.status.idle": "2023-11-09T23:07:04.947464Z",
     "shell.execute_reply": "2023-11-09T23:07:04.946555Z",
     "shell.execute_reply.started": "2023-11-09T23:07:04.934845Z"
    }
   },
   "outputs": [
    {
     "name": "stdout",
     "output_type": "stream",
     "text": [
      " Dense matrix - shape: (60000, 1032)  type:  <class 'numpy.matrix'>\n"
     ]
    }
   ],
   "source": [
    "print(f\" Dense matrix - shape: {dense_mat.shape}  type:  {type(dense_mat)}\")\n",
    "# del dense_mat,csr_out,csr_matrix"
   ]
  },
  {
   "cell_type": "code",
   "execution_count": 76,
   "id": "d5d8de5e-f315-40d3-987e-fb625f0d12f1",
   "metadata": {
    "ExecuteTime": {
     "end_time": "2023-05-29T12:32:31.323822Z",
     "start_time": "2023-05-29T12:32:31.297596Z"
    },
    "execution": {
     "iopub.execute_input": "2023-11-09T23:07:08.961595Z",
     "iopub.status.busy": "2023-11-09T23:07:08.961340Z",
     "iopub.status.idle": "2023-11-09T23:07:08.973662Z",
     "shell.execute_reply": "2023-11-09T23:07:08.972976Z",
     "shell.execute_reply.started": "2023-11-09T23:07:08.961578Z"
    }
   },
   "outputs": [
    {
     "name": "stdout",
     "output_type": "stream",
     "text": [
      " compound Pharmacophore Dense File : ./output_09112023/cp_compound_pcfp_dense.npy\n",
      " compound Pharmacophore Dense Zipped File : ./output_09112023/cp_compound_pcfp_dense.npz\n"
     ]
    }
   ],
   "source": [
    "print(f\" compound Pharmacophore Dense File : {compoundPharmacophoreDenseFile}\")\n",
    "print(f\" compound Pharmacophore Dense Zipped File : {compoundPharmacophoreDenseZipFile}\")"
   ]
  },
  {
   "cell_type": "code",
   "execution_count": 77,
   "id": "cc76db06-80d5-4c38-904f-5655f207cafb",
   "metadata": {
    "ExecuteTime": {
     "end_time": "2023-05-29T12:32:50.866992Z",
     "start_time": "2023-05-29T12:32:50.732706Z"
    },
    "execution": {
     "iopub.execute_input": "2023-11-09T23:07:18.885832Z",
     "iopub.status.busy": "2023-11-09T23:07:18.885573Z",
     "iopub.status.idle": "2023-11-09T23:07:18.924584Z",
     "shell.execute_reply": "2023-11-09T23:07:18.923847Z",
     "shell.execute_reply.started": "2023-11-09T23:07:18.885814Z"
    }
   },
   "outputs": [],
   "source": [
    "np.save(compoundPharmacophoreDenseFile, dense_mat)"
   ]
  },
  {
   "cell_type": "code",
   "execution_count": 78,
   "id": "64350f44-1336-4b03-b60e-f8e1642510ed",
   "metadata": {
    "ExecuteTime": {
     "end_time": "2023-05-29T12:32:54.185283Z",
     "start_time": "2023-05-29T12:32:51.717157Z"
    },
    "execution": {
     "iopub.execute_input": "2023-11-09T23:07:19.857181Z",
     "iopub.status.busy": "2023-11-09T23:07:19.856439Z",
     "iopub.status.idle": "2023-11-09T23:07:21.118867Z",
     "shell.execute_reply": "2023-11-09T23:07:21.118025Z",
     "shell.execute_reply.started": "2023-11-09T23:07:19.857156Z"
    }
   },
   "outputs": [],
   "source": [
    "np.savez_compressed(compoundPharmacophoreDenseZipFile, dense_mat = dense_mat)"
   ]
  },
  {
   "cell_type": "markdown",
   "id": "25c07248-05ea-4502-aed6-37e1ef10cea2",
   "metadata": {
    "heading_collapsed": true
   },
   "source": [
    "# Reread and verify zipped dense matrix"
   ]
  },
  {
   "cell_type": "code",
   "execution_count": 79,
   "id": "61252ace-b514-4835-8269-f06337c0f33a",
   "metadata": {
    "ExecuteTime": {
     "end_time": "2023-05-29T12:32:55.195377Z",
     "start_time": "2023-05-29T12:32:54.866533Z"
    },
    "execution": {
     "iopub.execute_input": "2023-11-09T23:07:29.055088Z",
     "iopub.status.busy": "2023-11-09T23:07:29.054816Z",
     "iopub.status.idle": "2023-11-09T23:07:29.191556Z",
     "shell.execute_reply": "2023-11-09T23:07:29.190774Z",
     "shell.execute_reply.started": "2023-11-09T23:07:29.055071Z"
    },
    "hidden": true
   },
   "outputs": [
    {
     "name": "stdout",
     "output_type": "stream",
     "text": [
      "True\n"
     ]
    }
   ],
   "source": [
    "loaded = np.load(compoundPharmacophoreDenseZipFile)\n",
    "print(np.array_equal(dense_mat, loaded['dense_mat']))"
   ]
  },
  {
   "cell_type": "code",
   "execution_count": 80,
   "id": "42c2fcfc-9de7-47f5-88fd-63988b61b067",
   "metadata": {
    "ExecuteTime": {
     "end_time": "2023-05-29T12:32:55.845334Z",
     "start_time": "2023-05-29T12:32:55.427130Z"
    },
    "execution": {
     "iopub.execute_input": "2023-11-09T23:07:36.001553Z",
     "iopub.status.busy": "2023-11-09T23:07:36.001263Z",
     "iopub.status.idle": "2023-11-09T23:07:36.207870Z",
     "shell.execute_reply": "2023-11-09T23:07:36.207141Z",
     "shell.execute_reply.started": "2023-11-09T23:07:36.001526Z"
    },
    "hidden": true
   },
   "outputs": [
    {
     "data": {
      "text/plain": [
       "(numpy.ndarray, (60000, 1032))"
      ]
     },
     "execution_count": 80,
     "metadata": {},
     "output_type": "execute_result"
    }
   ],
   "source": [
    "# print(output_out)\n",
    "type(loaded['dense_mat']), loaded['dense_mat'].shape\n",
    "# loaded['dense_mat']"
   ]
  },
  {
   "cell_type": "code",
   "execution_count": 81,
   "id": "a9818b8c-e76b-4d8e-b15d-72d118621ea5",
   "metadata": {
    "ExecuteTime": {
     "end_time": "2023-05-29T12:33:06.235383Z",
     "start_time": "2023-05-29T12:33:06.109232Z"
    },
    "execution": {
     "iopub.execute_input": "2023-11-09T23:07:47.393763Z",
     "iopub.status.busy": "2023-11-09T23:07:47.392981Z",
     "iopub.status.idle": "2023-11-09T23:07:47.406165Z",
     "shell.execute_reply": "2023-11-09T23:07:47.405400Z",
     "shell.execute_reply.started": "2023-11-09T23:07:47.393737Z"
    },
    "hidden": true
   },
   "outputs": [],
   "source": [
    "del loaded"
   ]
  },
  {
   "cell_type": "code",
   "execution_count": null,
   "id": "b96bb775-98db-49e2-a19f-6173f3a37fce",
   "metadata": {
    "hidden": true
   },
   "outputs": [],
   "source": []
  }
 ],
 "metadata": {
  "kernelspec": {
   "display_name": "Python [conda env:cp311]",
   "language": "python",
   "name": "conda-env-cp311-py"
  },
  "language_info": {
   "codemirror_mode": {
    "name": "ipython",
    "version": 3
   },
   "file_extension": ".py",
   "mimetype": "text/x-python",
   "name": "python",
   "nbconvert_exporter": "python",
   "pygments_lexer": "ipython3",
   "version": "3.11.4"
  },
  "toc": {
   "base_numbering": 1,
   "nav_menu": {},
   "number_sections": true,
   "sideBar": true,
   "skip_h1_title": false,
   "title_cell": "Table of Contents",
   "title_sidebar": "Contents",
   "toc_cell": false,
   "toc_position": {},
   "toc_section_display": true,
   "toc_window_display": false
  }
 },
 "nbformat": 4,
 "nbformat_minor": 5
}
