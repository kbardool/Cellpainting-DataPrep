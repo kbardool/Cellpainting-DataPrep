{
 "cells": [
  {
   "cell_type": "markdown",
   "metadata": {
    "slideshow": {
     "slide_type": ""
    },
    "tags": []
   },
   "source": [
    " # XGBoost - Classification"
   ]
  },
  {
   "cell_type": "markdown",
   "metadata": {
    "slideshow": {
     "slide_type": ""
    },
    "tags": []
   },
   "source": [
    "**Using Optuna for hyper-parameter search  to predict TPSA from morphology profiles**"
   ]
  },
  {
   "cell_type": "markdown",
   "metadata": {},
   "source": [
    "# Initialization"
   ]
  },
  {
   "cell_type": "code",
   "execution_count": 1,
   "metadata": {
    "ExecuteTime": {
     "end_time": "2023-12-21T20:50:25.298115Z",
     "start_time": "2023-12-21T20:50:24.855884Z"
    },
    "execution": {
     "iopub.execute_input": "2024-02-13T12:32:41.087532Z",
     "iopub.status.busy": "2024-02-13T12:32:41.087067Z",
     "iopub.status.idle": "2024-02-13T12:32:42.551794Z",
     "shell.execute_reply": "2024-02-13T12:32:42.550964Z",
     "shell.execute_reply.started": "2024-02-13T12:32:41.087491Z"
    }
   },
   "outputs": [
    {
     "data": {
      "text/html": [
       "<style>.container { width:98% !important; }</style>"
      ],
      "text/plain": [
       "<IPython.core.display.HTML object>"
      ]
     },
     "metadata": {},
     "output_type": "display_data"
    }
   ],
   "source": [
    "from IPython.display import display, HTML\n",
    "display(HTML(\"<style>.container { width:98% !important; }</style>\"))\n",
    "%load_ext autoreload  \n",
    "%autoreload 2\n",
    "from IPython.core.interactiveshell import InteractiveShell\n",
    "InteractiveShell.ast_node_interactivity = \"all\"\n",
    "%matplotlib inline"
   ]
  },
  {
   "cell_type": "markdown",
   "metadata": {},
   "source": [
    "## imports "
   ]
  },
  {
   "cell_type": "code",
   "execution_count": 2,
   "metadata": {
    "ExecuteTime": {
     "end_time": "2023-12-21T20:50:28.460258Z",
     "start_time": "2023-12-21T20:50:25.868966Z"
    },
    "execution": {
     "iopub.execute_input": "2024-02-13T12:32:42.553884Z",
     "iopub.status.busy": "2024-02-13T12:32:42.553576Z",
     "iopub.status.idle": "2024-02-13T12:32:55.466715Z",
     "shell.execute_reply": "2024-02-13T12:32:55.465648Z",
     "shell.execute_reply.started": "2024-02-13T12:32:42.553859Z"
    }
   },
   "outputs": [
    {
     "name": "stdout",
     "output_type": "stream",
     "text": [
      "insert ./src\n",
      "['./src', '/home/kevin/WSL-shared/Cellpainting/cj-datasets', '/home/kevin/miniforge3/envs/cp311/lib/python311.zip', '/home/kevin/miniforge3/envs/cp311/lib/python3.11', '/home/kevin/miniforge3/envs/cp311/lib/python3.11/lib-dynload', '', '/home/kevin/miniforge3/envs/cp311/lib/python3.11/site-packages']\n"
     ]
    },
    {
     "name": "stderr",
     "output_type": "stream",
     "text": [
      "/home/kevin/miniforge3/envs/cp311/lib/python3.11/site-packages/dask/dataframe/_pyarrow_compat.py:17: FutureWarning: Minimal version of pyarrow will soon be increased to 14.0.1. You are using 11.0.0. Please consider upgrading.\n",
      "  warnings.warn(\n"
     ]
    }
   ],
   "source": [
    "# Models\n",
    "import os, sys\n",
    "import math\n",
    "import pickle\n",
    "import itertools\n",
    "import copy \n",
    "import joblib\n",
    "import logging \n",
    "import types\n",
    "\n",
    "from datetime import datetime, time\n",
    "from collections.abc import Iterator\n",
    "if './src' not in sys.path:\n",
    "    print(f\"insert ./src\")\n",
    "    sys.path.insert(0, './src')\n",
    "print(sys.path)\n",
    "\n",
    "import numpy as np\n",
    "np.set_printoptions(edgeitems=3, infstr='inf', linewidth=150, nanstr='nan')\n",
    "\n",
    "import pandas as pd\n",
    "pd.options.display.width = 170\n",
    "\n",
    "import scipy.stats as sps \n",
    "\n",
    "import matplotlib.pyplot as plt\n",
    "\n",
    "from pprint import PrettyPrinter\n",
    "pp = PrettyPrinter(indent=4)\n",
    "from collections import defaultdict\n",
    "from utils_cellpainting import *\n",
    "from utils import display_gpu_info, display_gpu_device_info\n",
    "# (initialize, init_dataloaders, init_environment, init_wandb, training_initializations, model_initializations, \n",
    "\n",
    "\n",
    "import warnings\n",
    "warnings.filterwarnings('ignore')"
   ]
  },
  {
   "cell_type": "code",
   "execution_count": 3,
   "metadata": {
    "execution": {
     "iopub.execute_input": "2024-02-13T12:32:55.468828Z",
     "iopub.status.busy": "2024-02-13T12:32:55.468170Z",
     "iopub.status.idle": "2024-02-13T12:32:56.583075Z",
     "shell.execute_reply": "2024-02-13T12:32:56.582033Z",
     "shell.execute_reply.started": "2024-02-13T12:32:55.468804Z"
    }
   },
   "outputs": [
    {
     "name": "stdout",
     "output_type": "stream",
     "text": [
      "\n",
      "CUDA Device(s) available\n",
      "--------------------------\n",
      " CUDA device count   :  3\n",
      " CUDA current device :  0   name:  Quadro GV100\n",
      "\n",
      "\n",
      "GPU Device Info \n",
      "------------------\n",
      " Device : cuda:0\n",
      "   name:        Quadro GV100\n",
      "   capability:  (7, 0)\n",
      "   properties:  _CudaDeviceProperties(name='Quadro GV100', major=7, minor=0, total_memory=32508MB, multi_processor_count=80)\n",
      "   Allocated :  0\n",
      "   Reserved  :  0\n",
      "\n",
      " Device : cuda:1\n",
      "   name:        Quadro GV100\n",
      "   capability:  (7, 0)\n",
      "   properties:  _CudaDeviceProperties(name='Quadro GV100', major=7, minor=0, total_memory=32508MB, multi_processor_count=80)\n",
      "   Allocated :  0\n",
      "   Reserved  :  0\n",
      "\n",
      " Device : cuda:2\n",
      "   name:        NVIDIA TITAN Xp\n",
      "   capability:  (6, 1)\n",
      "   properties:  _CudaDeviceProperties(name='NVIDIA TITAN Xp', major=6, minor=1, total_memory=12196MB, multi_processor_count=30)\n",
      "   Allocated :  0\n",
      "   Reserved  :  0\n",
      "\n",
      "\n",
      "GPU Usage Stats \n",
      "------------------\n",
      "| ID | GPU | MEM |\n",
      "------------------\n",
      "|  0 | 18% | 41% |\n",
      "|  1 |  0% | 13% |\n",
      "|  2 | 22% | 18% |\n",
      "\n",
      " torch.cuda.current-device():  0\n",
      " ids :  [0, 1, 2]\n",
      "\n",
      "\n",
      "nvml_gpu_id: 0\n",
      "----------------\n",
      " nvml handle: <pynvml.nvml.LP_struct_c_nvmlDevice_t object at 0x7f67a0eca210>\n",
      "\n",
      "nvml Device Memory Info\n",
      "-------------------------\n",
      "c_nvmlMemory_t(total: 12788498432 B, free: 7550730240 B, used: 5237768192 B)\n"
     ]
    }
   ],
   "source": [
    "display_gpu_info()"
   ]
  },
  {
   "cell_type": "code",
   "execution_count": 4,
   "metadata": {
    "ExecuteTime": {
     "end_time": "2023-12-21T20:50:31.139023Z",
     "start_time": "2023-12-21T20:50:30.891155Z"
    },
    "execution": {
     "iopub.execute_input": "2024-02-13T12:32:56.586770Z",
     "iopub.status.busy": "2024-02-13T12:32:56.586070Z",
     "iopub.status.idle": "2024-02-13T12:32:56.827971Z",
     "shell.execute_reply": "2024-02-13T12:32:56.827235Z",
     "shell.execute_reply.started": "2024-02-13T12:32:56.586674Z"
    }
   },
   "outputs": [],
   "source": [
    "import joblib\n",
    "# from dask_cuda import LocalCUDACluster\n",
    "# from sklearn.model_selection import GridSearchCV\n",
    "import optuna\n",
    "\n",
    "import xgboost as xgb\n",
    "from xgboost import XGBClassifier, XGBRegressor\n",
    "\n",
    "import dask\n",
    "import dask.array as da\n",
    "import dask.dataframe as dd\n",
    "from dask import delayed\n",
    "from dask.distributed import Client\n",
    "from dask.distributed import LocalCluster\n",
    "from dask_cuda import LocalCUDACluster\n",
    "import dask_ml.model_selection as dcv\n",
    "# from dask_ml.model_selection import train_test_split\n",
    "# from dask_ml.model_selection import GridSearchCV, IncrementalSearchCV, HyperbandSearchCV\n",
    "# from dask_ml.metrics import mean_squared_error, r2_score, mean_squared_log_error\n",
    "import sklearn.metrics as skm"
   ]
  },
  {
   "cell_type": "code",
   "execution_count": 5,
   "metadata": {
    "ExecuteTime": {
     "end_time": "2023-12-21T20:50:28.476862Z",
     "start_time": "2023-12-21T20:50:28.461907Z"
    },
    "execution": {
     "iopub.execute_input": "2024-02-13T12:32:56.829172Z",
     "iopub.status.busy": "2024-02-13T12:32:56.828916Z",
     "iopub.status.idle": "2024-02-13T12:32:56.864582Z",
     "shell.execute_reply": "2024-02-13T12:32:56.864032Z",
     "shell.execute_reply.started": "2024-02-13T12:32:56.829146Z"
    }
   },
   "outputs": [],
   "source": [
    "# os.environ[\"WANDB_NOTEBOOK_NAME\"] = \"Adashare_Train.ipynb\"\n",
    "# os.environ[\"CUDA_LAUNCH_BLOCKING\"] = \"1\"\n",
    "os.environ[\"CUDA_VISIBLE_DEVICES\"] = \"2\""
   ]
  },
  {
   "cell_type": "code",
   "execution_count": 6,
   "metadata": {
    "execution": {
     "iopub.execute_input": "2024-02-13T12:32:56.865722Z",
     "iopub.status.busy": "2024-02-13T12:32:56.865497Z",
     "iopub.status.idle": "2024-02-13T12:32:56.948591Z",
     "shell.execute_reply": "2024-02-13T12:32:56.947685Z",
     "shell.execute_reply.started": "2024-02-13T12:32:56.865700Z"
    }
   },
   "outputs": [
    {
     "name": "stdout",
     "output_type": "stream",
     "text": [
      "\n",
      " datetime.now().strftime('%x%X')                     : 02/13/2413:32:56\n",
      " datetime.now().strftime('%X %x %Z')                 : 13:32:56 02/13/24 \n",
      " datetime.now().strftime('%X.%f')                    : 13:32:56.944426\n",
      " datetime.now().strftime('%D-%X.%f')                 : 02/13/24-13:32:56.944452\n",
      " datetime.now().strftime('%Y-%m-%d %H:%M:%S.%f')     : 2024-02-13 13:32:56.944473\n"
     ]
    }
   ],
   "source": [
    "logLevel = os.environ.get('LOG_LEVEL', 'INFO').upper()\n",
    "FORMAT = '%(asctime)s - %(levelname)s: - %(message)s'\n",
    "logging.basicConfig(level=\"INFO\", format= FORMAT)\n",
    "logging.getLogger(\"imported_module\").setLevel(logging.CRITICAL)\n",
    "# logging.info(f\" 1/7- engine connected\")\n",
    "# logging.warning(f\" 1/7- engine connected\")\n",
    "# logging.error(f\" 1/7- engine connected\")\n",
    "# logging.critical(f\" 1/7- engine connected\")\n",
    "\n",
    "# print(logging.NOTSET, logging.DEBUG,  logging.INFO, logging.WARN, logging.WARNING, logging.ERROR, logging.CRITICAL,  logging.FATAL)\n",
    "# xgb.__version__\n",
    "\n",
    "print()\n",
    "for time_fmt in ['%x%X', '%X %x %Z', '%X.%f', '%D-%X.%f', '%Y-%m-%d %H:%M:%S.%f']:\n",
    "    cmd_string = f\"datetime.now().strftime('{time_fmt}')\"\n",
    "    print(f\" {cmd_string:50s}  : {datetime.now().strftime(time_fmt)}\")"
   ]
  },
  {
   "cell_type": "markdown",
   "metadata": {},
   "source": [
    "## Datasets"
   ]
  },
  {
   "cell_type": "code",
   "execution_count": 7,
   "metadata": {
    "ExecuteTime": {
     "end_time": "2023-12-21T20:50:35.620802Z",
     "start_time": "2023-12-21T20:50:35.605234Z"
    },
    "execution": {
     "iopub.execute_input": "2024-02-13T12:32:56.956745Z",
     "iopub.status.busy": "2024-02-13T12:32:56.956454Z",
     "iopub.status.idle": "2024-02-13T12:32:56.995744Z",
     "shell.execute_reply": "2024-02-13T12:32:56.995037Z",
     "shell.execute_reply.started": "2024-02-13T12:32:56.956716Z"
    },
    "lines_to_next_cell": 0
   },
   "outputs": [
    {
     "name": "stdout",
     "output_type": "stream",
     "text": [
      "\n",
      " Compound Extended Metadata 2 SampleFile  : ./output_11102023/compound_extended_metadata_2samples.csv\n",
      " Compound Profiles 2 Samples File CSV     : ./output_11102023/profiles/compound_profiles_2samples\n",
      " \n",
      " profiles Metadata File                   : ./metadata/profile_metadata.pkl\n",
      " \n",
      " profileInputFiles                        : ./output_11102023/profiles/compound_profiles_2samples_999.csv\n",
      " binnedProfileFiles                       : ./output_11102023/binned_profiles/binned_2sample_profiles_999.csv\n",
      " training metrics                         : ./output_11102023/training_metrics.pkl\n"
     ]
    }
   ],
   "source": [
    "prefix = '' ### Target-2' , 'MOA'\n",
    "input_path =\"./metadata/\"\n",
    "output_path =\"./output_11102023\"\n",
    "prefix_lc = prefix.lower().replace('-', '_')\n",
    "CSV = '.csv'\n",
    "\n",
    "CompoundExtendedMetadata2SampleFile = f\"{output_path}{prefix_lc}/compound_extended_metadata_2samples.csv\"\n",
    "CompoundProfiles2SampleFile         = f\"{output_path}{prefix_lc}/profiles/compound_profiles_2samples\"\n",
    "CompoundExtendedMetadataSampleFile  = f\"{output_path}{prefix_lc}/compound_extended_metadata_samples.csv\"\n",
    "profileInputFiles                   = \"./output_11102023/profiles/compound_profiles_2samples_{0:03d}.csv\"\n",
    "binnedProfileFiles                  = \"./output_11102023/binned_profiles/binned_2sample_profiles_{0:03d}.csv\"\n",
    "trainingMetrics                     = f\"{output_path}{prefix_lc}/training_metrics.pkl\"\n",
    "profileMetadataFile                 = f\"{input_path}profile_metadata.pkl\"\n",
    "\n",
    "\n",
    "print()\n",
    "print(f\" Compound Extended Metadata 2 SampleFile  : {CompoundExtendedMetadata2SampleFile }\")\n",
    "print(f\" Compound Profiles 2 Samples File CSV     : {CompoundProfiles2SampleFile}\")\n",
    "print(f\" \")\n",
    "print(f\" profiles Metadata File                   : {profileMetadataFile}\")\n",
    "print(f\" \")\n",
    "x = 999\n",
    "print(f\" profileInputFiles                        : {profileInputFiles.format(x)}\")\n",
    "print(f\" binnedProfileFiles                       : {binnedProfileFiles.format(x)}\")\n",
    "print(f\" training metrics                         : {trainingMetrics}\")\n"
   ]
  },
  {
   "cell_type": "markdown",
   "metadata": {},
   "source": [
    "## Read Features metadata file"
   ]
  },
  {
   "cell_type": "code",
   "execution_count": 44,
   "metadata": {
    "ExecuteTime": {
     "end_time": "2023-12-21T20:50:55.041400Z",
     "start_time": "2023-12-21T20:50:55.011436Z"
    },
    "execution": {
     "iopub.execute_input": "2024-02-13T05:45:49.712603Z",
     "iopub.status.busy": "2024-02-13T05:45:49.712067Z",
     "iopub.status.idle": "2024-02-13T05:45:49.794233Z",
     "shell.execute_reply": "2024-02-13T05:45:49.793403Z",
     "shell.execute_reply.started": "2024-02-13T05:45:49.712559Z"
    },
    "slideshow": {
     "slide_type": ""
    },
    "tags": []
   },
   "outputs": [
    {
     "name": "stdout",
     "output_type": "stream",
     "text": [
      " Features select file:  ./metadata/profile_metadata.pkl\n"
     ]
    },
    {
     "data": {
      "text/plain": [
       "dict_keys(['all_profile_columns', 'metadata_columns', 'selected_columns'])"
      ]
     },
     "execution_count": 44,
     "metadata": {},
     "output_type": "execute_result"
    }
   ],
   "source": [
    "print(f\" Features select file:  {profileMetadataFile}\")\n",
    "\n",
    "with open(profileMetadataFile, 'rb') as f: \n",
    "    pickle_data = pickle.load(f)\n",
    "pickle_data.keys()    \n"
   ]
  },
  {
   "cell_type": "code",
   "execution_count": null,
   "metadata": {},
   "outputs": [],
   "source": [
    "ns = types.SimpleNamespace()"
   ]
  },
  {
   "cell_type": "code",
   "execution_count": 45,
   "metadata": {
    "execution": {
     "iopub.execute_input": "2024-02-13T05:46:29.436834Z",
     "iopub.status.busy": "2024-02-13T05:46:29.436427Z",
     "iopub.status.idle": "2024-02-13T05:46:29.480043Z",
     "shell.execute_reply": "2024-02-13T05:46:29.479255Z",
     "shell.execute_reply.started": "2024-02-13T05:46:29.436800Z"
    }
   },
   "outputs": [],
   "source": [
    "COMPOUND_PROFILE_COLUMNS = pickle_data['all_profile_columns']\n",
    "\n",
    "metadata_categorical_columns = set(pickle_data['metadata_columns']['MetadataCategoricalColumns'])\n",
    "metadata_categorical_columns_dtype = pickle_data['metadata_columns']['MetadataCategoricalColumns']\n",
    "\n",
    "metadata_float_columns =  set(pickle_data['metadata_columns']['MetadataFloatColumns'])\n",
    "metadata_float_columns_dtype =  pickle_data['metadata_columns']['MetadataFloatColumns']\n",
    "\n",
    "metadata_integer_columns =  set(pickle_data['metadata_columns']['MetadataIntegerColumns'])\n",
    "metadata_integer_columns_dtype =  pickle_data['metadata_columns']['MetadataIntegerColumns']\n",
    "\n",
    "metadata_numeric_columns =  set(pickle_data['metadata_columns']['MetadataNumericColumns'])\n",
    "metadata_numeric_columns_dtype =  pickle_data['metadata_columns']['MetadataNumericColumns']\n",
    "\n",
    "\n",
    "X_columns = pickle_data['selected_columns']['selected']\n",
    "X_columns_dtype = {x: np.float32 for x in X_columns}\n",
    "\n",
    "y_columns = set([\"Metadata_Permiation\"])\n",
    "y_columns_dtype = {x: np.int64 for x in y_columns} ## \"Metadata_log10TPSA\":np.dtype('float64')}\n",
    "\n",
    "Xy_columns = y_columns | X_columns\n",
    "Xy_columns_dtype = y_columns_dtype | X_columns_dtype"
   ]
  },
  {
   "cell_type": "code",
   "execution_count": null,
   "metadata": {},
   "outputs": [],
   "source": []
  },
  {
   "cell_type": "code",
   "execution_count": 46,
   "metadata": {
    "ExecuteTime": {
     "end_time": "2023-12-21T20:50:55.041400Z",
     "start_time": "2023-12-21T20:50:55.011436Z"
    },
    "execution": {
     "iopub.execute_input": "2024-02-13T05:46:56.865489Z",
     "iopub.status.busy": "2024-02-13T05:46:56.865034Z",
     "iopub.status.idle": "2024-02-13T05:46:56.919469Z",
     "shell.execute_reply": "2024-02-13T05:46:56.918705Z",
     "shell.execute_reply.started": "2024-02-13T05:46:56.865450Z"
    },
    "slideshow": {
     "slide_type": ""
    },
    "tags": []
   },
   "outputs": [
    {
     "name": "stdout",
     "output_type": "stream",
     "text": [
      "--------------------------------------------------------------------------------\n",
      " MetadataOriginalNames  - length(10 )\n",
      "--------------------------------------------------------------------------------\n",
      " \t : list item : Metadata_Source\n",
      " \t : list item : Metadata_Batch\n",
      " \t : list item : Metadata_Plate\n",
      " \t : list item : Metadata_Well\n",
      " \t : list item : Metadata_JCP2022\n",
      " \t : list item : Metadata_Hash\n",
      " \t : list item : TPSA\n",
      " \t : list item : lnTPSA\n",
      " \t : list item : log10TPSA\n",
      " \t : list item : permiation\n",
      "\n",
      "--------------------------------------------------------------------------------\n",
      " MetadataNames  - length(11 )\n",
      "--------------------------------------------------------------------------------\n",
      " \t : list item : Metadata_Source\n",
      " \t : list item : Metadata_Batch\n",
      " \t : list item : Metadata_Plate\n",
      " \t : list item : Metadata_Well\n",
      " \t : list item : Metadata_JCP2022\n",
      " \t : list item : Metadata_Hash\n",
      " \t : list item : Metadata_Bin\n",
      " \t : list item : Metadata_TPSA\n",
      " \t : list item : Metadata_lnTPSA\n",
      " \t : list item : Metadata_log10TPSA\n",
      " \t : list item : Metadata_Permiation\n",
      "\n",
      "--------------------------------------------------------------------------------\n",
      " MetadataCategoricalColumns  - length(4 )\n",
      "--------------------------------------------------------------------------------\n",
      " \t : key :  Metadata_Source               item: category\n",
      " \t : key :  Metadata_Batch                item: category\n",
      " \t : key :  Metadata_Plate                item: category\n",
      " \t : key :  Metadata_Well                 item: category\n",
      "\n",
      "--------------------------------------------------------------------------------\n",
      " MetadataNumericColumns  - length(6 )\n",
      "--------------------------------------------------------------------------------\n",
      " \t : key :  Metadata_TPSA                 item: <class 'numpy.float32'>\n",
      " \t : key :  Metadata_lnTPSA               item: <class 'numpy.float32'>\n",
      " \t : key :  Metadata_log10TPSA            item: <class 'numpy.float32'>\n",
      " \t : key :  Metadata_Hash                 item: <class 'numpy.int64'>\n",
      " \t : key :  Metadata_Bin                  item: <class 'numpy.int8'>\n",
      " \t : key :  Metadata_Permiation           item: <class 'numpy.int8'>\n",
      "\n",
      "--------------------------------------------------------------------------------\n",
      " MetadataFloatColumns  - length(3 )\n",
      "--------------------------------------------------------------------------------\n",
      " \t : key :  Metadata_TPSA                 item: <class 'numpy.float32'>\n",
      " \t : key :  Metadata_lnTPSA               item: <class 'numpy.float32'>\n",
      " \t : key :  Metadata_log10TPSA            item: <class 'numpy.float32'>\n",
      "\n",
      "--------------------------------------------------------------------------------\n",
      " MetadataIntegerColumns  - length(3 )\n",
      "--------------------------------------------------------------------------------\n",
      " \t : key :  Metadata_Hash                 item: <class 'numpy.int64'>\n",
      " \t : key :  Metadata_Bin                  item: <class 'numpy.int8'>\n",
      " \t : key :  Metadata_Permiation           item: <class 'numpy.int8'>\n",
      "\n"
     ]
    }
   ],
   "source": [
    "for k in pickle_data['metadata_columns'].keys():\n",
    "    print(\"-\"*80)\n",
    "    print(f\" {k}  - length({len(pickle_data['metadata_columns'][k])} )\")\n",
    "    print(\"-\"*80)\n",
    "    if isinstance(pickle_data['metadata_columns'][k], list):\n",
    "        for v in pickle_data['metadata_columns'][k]:\n",
    "            print(f\" \\t : list item : {v}\")\n",
    "\n",
    "    elif isinstance(pickle_data['metadata_columns'][k], dict):    \n",
    "        for i,v in pickle_data['metadata_columns'][k].items():\n",
    "            print(f\" \\t : key :  {i:25s}     item: {v}\")\n",
    "    print()"
   ]
  },
  {
   "cell_type": "code",
   "execution_count": 79,
   "metadata": {
    "execution": {
     "iopub.execute_input": "2024-02-13T06:02:38.386677Z",
     "iopub.status.busy": "2024-02-13T06:02:38.386168Z",
     "iopub.status.idle": "2024-02-13T06:02:38.433399Z",
     "shell.execute_reply": "2024-02-13T06:02:38.432716Z",
     "shell.execute_reply.started": "2024-02-13T06:02:38.386633Z"
    }
   },
   "outputs": [
    {
     "name": "stdout",
     "output_type": "stream",
     "text": [
      "\n",
      " all_profile_columns\n",
      "--------------------------------------------------------------------------------\n",
      " Length            : 3681\n",
      " profile cols [:5] : ['Metadata_Source', 'Metadata_Batch', 'Metadata_Plate', 'Metadata_Well', 'Metadata_JCP2022']\n",
      " profile cols [:10]: ['Metadata_Hash', 'Metadata_Bin', 'Metadata_TPSA', 'Metadata_lnTPSA', 'Metadata_log10TPSA']\n",
      " profile cols [:14]: ['Metadata_Permiation', 'Cells_AreaShape_Area', 'Cells_AreaShape_BoundingBoxArea', 'Cells_AreaShape_BoundingBoxMaximum_X']\n",
      " profile cols [:18]: ['Cells_AreaShape_BoundingBoxMaximum_Y', 'Cells_AreaShape_BoundingBoxMinimum_X', 'Cells_AreaShape_BoundingBoxMinimum_Y', 'Cells_AreaShape_Center_X']\n",
      "\n",
      "\n",
      " metadata_columns\n",
      "--------------------------------------------------------------------------------\n",
      " MetadataOriginalNames        (  10) ['Metadata_Source', 'Metadata_Batch', 'Metadata_Plate', 'Metadata_Well', 'Metadata_JCP2022']\n",
      " MetadataNames                (  11) ['Metadata_Source', 'Metadata_Batch', 'Metadata_Plate', 'Metadata_Well', 'Metadata_JCP2022']\n",
      " MetadataCategoricalColumns   (   4) ['Metadata_Source', 'Metadata_Batch', 'Metadata_Plate', 'Metadata_Well']\n",
      " MetadataNumericColumns       (   6) ['Metadata_TPSA', 'Metadata_lnTPSA', 'Metadata_log10TPSA', 'Metadata_Hash', 'Metadata_Bin']\n",
      " MetadataFloatColumns         (   3) ['Metadata_TPSA', 'Metadata_lnTPSA', 'Metadata_log10TPSA']\n",
      " MetadataIntegerColumns       (   3) ['Metadata_Hash', 'Metadata_Bin', 'Metadata_Permiation']\n",
      "\n",
      " selected_columns\n",
      "--------------------------------------------------------------------------------\n",
      " Feature columns -/selected                 /    1477\n",
      " Feature columns -/dropped_correlation      /    2193\n",
      " Feature columns -/dropped_variance         /       0\n",
      " total                                           3670     \n",
      "\n",
      "\n",
      " metadata_categorical_columms  (   4) {'Metadata_Plate', 'Metadata_Source', 'Metadata_Well', 'Metadata_Batch'} \n",
      " metadata_float_columms        (   3) {'Metadata_lnTPSA', 'Metadata_TPSA', 'Metadata_log10TPSA'}   \n",
      " metadata_integer_columms      (   3) {'Metadata_Bin', 'Metadata_Permiation', 'Metadata_Hash'} \n",
      " metadata_numeric_columms      (   6) {'Metadata_Permiation', 'Metadata_TPSA', 'Metadata_Bin', 'Metadata_lnTPSA', 'Metadata_Hash', 'Metadata_log10TPSA'} \n",
      " COMPOUND_PROFILE_COLUMNS      (3681) ['Metadata_Source', 'Metadata_Batch', 'Metadata_Plate', 'Metadata_Well', 'Metadata_JCP2022', 'Metadata_Hash', 'Metadata_Bin']\n",
      "\n",
      " len(X_columms)                (1477)\n",
      " len(y_columms)                (   1) {'Metadata_Permiation'}\n",
      " len(Xy_columms)               (1478) ['Nuclei_Correlation_RWC_Mito_ER', 'Cells_Granularity_3_DNA', 'Cells_Intensity_StdIntensityEdge_ER']\n",
      " len(Xy_columms_dtype)         (1478) ['Metadata_Permiation', 'Cells_Granularity_3_DNA', 'Nuclei_AreaShape_Zernike_9_5']\n",
      "\n",
      " Conversion Dictionaries\n",
      "--------------------------------------------------------------------------------\n",
      " categorical_columns_dtype     (   4) {'Metadata_Source': 'category', 'Metadata_Batch': 'category', 'Metadata_Plate': 'category', 'Metadata_Well': 'category'} \n",
      " float_columns_dtype           (   3) {'Metadata_TPSA': <class 'numpy.float32'>, 'Metadata_lnTPSA': <class 'numpy.float32'>, 'Metadata_log10TPSA': <class 'numpy.float32'>} \n",
      " integer_columns_dtype         (   3) {'Metadata_Hash': <class 'numpy.int64'>, 'Metadata_Bin': <class 'numpy.int8'>, 'Metadata_Permiation': <class 'numpy.int8'>} \n",
      "\n",
      "\n"
     ]
    }
   ],
   "source": [
    "print(\"\\n all_profile_columns\")\n",
    "print(\"-\"*80)\n",
    "print(f\" Length            : {len(COMPOUND_PROFILE_COLUMNS)}\")\n",
    "print(f\" profile cols [:5] : {COMPOUND_PROFILE_COLUMNS[:5]}\")\n",
    "print(f\" profile cols [:10]: {COMPOUND_PROFILE_COLUMNS[5:10]}\")\n",
    "print(f\" profile cols [:14]: {COMPOUND_PROFILE_COLUMNS[10:14]}\")\n",
    "print(f\" profile cols [:18]: {COMPOUND_PROFILE_COLUMNS[14:18]}\")\n",
    "\n",
    "print()\n",
    "print(\"\\n metadata_columns\")\n",
    "print(\"-\"*80)\n",
    "for i in pickle_data['metadata_columns'].keys():\n",
    "    print(f\" {i:28s} ({len(pickle_data['metadata_columns'][i]):4d}) {list(pickle_data['metadata_columns'][i])[:5]}\")\n",
    " \n",
    "print(\"\\n selected_columns\")\n",
    "print(\"-\"*80)\n",
    "ttl = 0 \n",
    "for i in pickle_data['selected_columns'].keys():\n",
    "    ttl += len(pickle_data['selected_columns'][i])\n",
    "    print(f\" Feature columns -/{i:25s}/   {len(pickle_data['selected_columns'][i]):5d}\")\n",
    "print(f\" {'total':47s}{ttl:5d}     \")     \n",
    " \n",
    "print('\\n')\n",
    "print(f\" metadata_categorical_columms  ({len(metadata_categorical_columns):4d}) {metadata_categorical_columns} \")\n",
    "print(f\" metadata_float_columms        ({  len(metadata_float_columns):4d}) {metadata_float_columns}   \")\n",
    "print(f\" metadata_integer_columms      ({len(metadata_integer_columns):4d}) {metadata_integer_columns} \")\n",
    "print(f\" metadata_numeric_columms      ({len(metadata_numeric_columns):4d}) {metadata_numeric_columns} \")\n",
    "print(f\" COMPOUND_PROFILE_COLUMNS      ({len(COMPOUND_PROFILE_COLUMNS):4d}) {COMPOUND_PROFILE_COLUMNS[:7]}\")\n",
    "print()\n",
    "print(f\" len(X_columms)                ({len(X_columns):4d})\")\n",
    "print(f\" len(y_columms)                ({len(y_columns):4d}) {y_columns}\")\n",
    "print(f\" len(Xy_columms)               ({len(Xy_columns)}) {list(Xy_columns)[:3]}\")\n",
    "print(f\" len(Xy_columms_dtype)         ({len(Xy_columns)}) {list(Xy_columns_dtype)[:3]}\")\n",
    "\n",
    "print(\"\\n Conversion Dictionaries\")\n",
    "print(\"-\"*80)\n",
    "print(f\" categorical_columns_dtype     ({len(metadata_categorical_columns_dtype):4d}) {metadata_categorical_columns_dtype} \")\n",
    "print(f\" float_columns_dtype           ({len(metadata_float_columns_dtype):4d}) {metadata_float_columns_dtype} \")\n",
    "print(f\" integer_columns_dtype         ({len(metadata_integer_columns_dtype):4d}) {metadata_integer_columns_dtype} \")\n",
    "print('\\n')\n",
    "# print(f\" len(label_columms_dtype)     : {len(label_columns_dtype)} \")\n",
    "# print(f\" len(X_columms_dtype)         : {len(X_columns_dtype)}\")\n",
    "# print(f\" len(X_columms_dtype)           : {len(X_columns_dtype)}   {X_columns_dtype}\")\n",
    "# print(f\" len(y_columms_dtype)         : {len(y_columns_dtype)}\")\n",
    "# print(f\" len(Xy_columms_dtype)        : {len(Xy_columns_dtype)}\")\n",
    "# print(f\" len(all_columms_dtype)       : {len(all_columns_dtype)} \")\n",
    "# del all_columns_dtype\n",
    "# for k  in sorted(all_columns_dtype.keys()):\n",
    "#     print(f\" {k:60s}  {all_columns_dtype[k]}\")\n",
    "# Xy_columns_dtype"
   ]
  },
  {
   "cell_type": "code",
   "execution_count": null,
   "metadata": {},
   "outputs": [],
   "source": []
  },
  {
   "cell_type": "code",
   "execution_count": null,
   "metadata": {},
   "outputs": [],
   "source": []
  },
  {
   "cell_type": "code",
   "execution_count": null,
   "metadata": {},
   "outputs": [],
   "source": []
  },
  {
   "cell_type": "code",
   "execution_count": null,
   "metadata": {},
   "outputs": [],
   "source": []
  },
  {
   "cell_type": "markdown",
   "metadata": {},
   "source": [
    "# Load study"
   ]
  },
  {
   "cell_type": "markdown",
   "metadata": {
    "execution": {
     "iopub.execute_input": "2024-02-11T12:53:22.650056Z",
     "iopub.status.busy": "2024-02-11T12:53:22.649626Z",
     "iopub.status.idle": "2024-02-11T12:53:22.690698Z",
     "shell.execute_reply": "2024-02-11T12:53:22.689762Z",
     "shell.execute_reply.started": "2024-02-11T12:53:22.650019Z"
    }
   },
   "source": [
    "  #### Address for optuna dashboard repository:  `sqlite:////home/kevin/WSL-shared/Cellpainting/cj-datasets/optuna_data.db`\n",
    "  #### Address for optuna dashboard repository:  `sqlite:////home/kevin/WSL-shared/Cellpainting/cj-datasets/example.db`"
   ]
  },
  {
   "cell_type": "code",
   "execution_count": 9,
   "metadata": {
    "execution": {
     "iopub.execute_input": "2024-02-13T12:34:31.872288Z",
     "iopub.status.busy": "2024-02-13T12:34:31.871773Z",
     "iopub.status.idle": "2024-02-13T12:34:31.957182Z",
     "shell.execute_reply": "2024-02-13T12:34:31.956260Z",
     "shell.execute_reply.started": "2024-02-13T12:34:31.872238Z"
    }
   },
   "outputs": [
    {
     "data": {
      "text/plain": [
       "<optuna.storages._rdb.storage.RDBStorage at 0x7f67999b0dd0>"
      ]
     },
     "execution_count": 9,
     "metadata": {},
     "output_type": "execute_result"
    }
   ],
   "source": [
    "storage = \"sqlite:///example.db\"\n",
    "storage_copy = \"sqlite:///example_copy.db\"\n",
    "\n",
    "study_name=\"classification-study-1\"\n",
    "study_name_clone=\"classification-study-1-clone\"\n",
    "\n",
    "## https://optuna.readthedocs.io/en/stable/reference/generated/optuna.storages.RetryFailedTrialCallback.html\n",
    "\n",
    "from optuna.storages import RetryFailedTrialCallback\n",
    "\n",
    "storage_instance = optuna.storages.RDBStorage(\n",
    "    url=storage_copy,\n",
    "    heartbeat_interval=60,\n",
    "    grace_period=120,\n",
    "    failed_trial_callback=RetryFailedTrialCallback(max_retry=3),\n",
    ")\n",
    "storage_instance\n"
   ]
  },
  {
   "cell_type": "code",
   "execution_count": 7,
   "metadata": {
    "execution": {
     "iopub.execute_input": "2024-02-13T05:14:04.513633Z",
     "iopub.status.busy": "2024-02-13T05:14:04.513356Z",
     "iopub.status.idle": "2024-02-13T05:14:04.549258Z",
     "shell.execute_reply": "2024-02-13T05:14:04.548270Z",
     "shell.execute_reply.started": "2024-02-13T05:14:04.513611Z"
    },
    "lines_to_next_cell": 2
   },
   "outputs": [],
   "source": [
    "# resp = input(f\" Delete study {study_name} ?\")\n",
    "# if resp.lower() in ['yes' ,'y']:\n",
    "#     print(' You responsed yes')\n",
    "#     try:\n",
    "#         optuna.delete_study(storage=storage_instance, study_name=study_name)\n",
    "#         print(\"delete successful\")\n",
    "#     except Exception as e:\n",
    "#         print(\"delete failed\")\n",
    "# else:\n",
    "#     print(f\" {study_name} will be kept\")\n",
    "\n",
    "# study = optuna.create_study(storage=storage_instance_copy,\n",
    "#                             study_name=study_name_copy,\n",
    "#                             directions=[\"maximize\",\"minimize\"], \n",
    "#                             load_if_exists=True)\n",
    "# study.set_metric_names([\"roc_auc\", \"logloss\"])"
   ]
  },
  {
   "cell_type": "code",
   "execution_count": 10,
   "metadata": {
    "execution": {
     "iopub.execute_input": "2024-02-13T12:34:51.759525Z",
     "iopub.status.busy": "2024-02-13T12:34:51.758451Z",
     "iopub.status.idle": "2024-02-13T12:34:51.823672Z",
     "shell.execute_reply": "2024-02-13T12:34:51.822913Z",
     "shell.execute_reply.started": "2024-02-13T12:34:51.759463Z"
    }
   },
   "outputs": [
    {
     "name": "stdout",
     "output_type": "stream",
     "text": [
      "Total time:  0:00:00.010225\n"
     ]
    }
   ],
   "source": [
    "start = datetime.now()\n",
    "study  = optuna.load_study(study_name= study_name, storage=storage_instance)\n",
    "study_clone  = optuna.load_study(study_name= study_name_clone, storage=storage_instance)\n",
    "print(f\"Total time:  {datetime.now() - start}\")"
   ]
  },
  {
   "cell_type": "code",
   "execution_count": 11,
   "metadata": {
    "execution": {
     "iopub.execute_input": "2024-02-13T12:34:52.839891Z",
     "iopub.status.busy": "2024-02-13T12:34:52.839335Z",
     "iopub.status.idle": "2024-02-13T12:34:53.019981Z",
     "shell.execute_reply": "2024-02-13T12:34:53.018987Z",
     "shell.execute_reply.started": "2024-02-13T12:34:52.839847Z"
    }
   },
   "outputs": [
    {
     "name": "stdout",
     "output_type": "stream",
     "text": [
      " classification-study-1  study history\n",
      "\n",
      "                start     -   completion      status        validation metrics\n",
      " trial#         time      -      time          code      roc_auc        logloss\n",
      "--------------------------------------------------------------------------------\n",
      "Trial #: 0    2024-02-04   00:48:09 - 00:54:05    3          *** FAILED ***        \n",
      "Trial #: 1    2024-02-04   01:15:51 - 01:40:09    1      0.92354        0.20999    \n",
      "Trial #: 2    2024-02-04   10:36:45 - 12:28:29    1      0.82900        0.34993    \n",
      "Trial #: 3    2024-02-04   14:50:22 - 15:11:49    1      0.77843        0.32556    \n",
      "Trial #: 4    2024-02-04   15:11:50 - 16:04:43    1      0.71748        0.36995    \n",
      "Trial #: 5    2024-02-04   16:04:44 - 16:25:30    1      0.84788        0.29725    \n",
      "Trial #: 6    2024-02-04   16:25:30 - 16:55:59    1      0.62604        0.36119    \n",
      "Trial #: 7    2024-02-04   18:06:45 - 18:29:19    3          *** FAILED ***        \n",
      "Trial #: 8    2024-02-04   23:09:09 - 23:29:46    1      0.87990        0.22771    \n",
      "Trial #: 9    2024-02-04   23:29:47 - 23:50:19    1      0.81107        0.29039    \n",
      "Trial #: 10   2024-02-04   23:50:20 - 00:25:00    1      0.74011        0.33991    \n",
      "Trial #: 11   2024-02-05   00:25:00 - 00:49:35    1      0.62052        0.35998    \n",
      "Trial #: 12   2024-02-05   00:49:36 - 01:11:06    1      0.89875        0.18483    \n",
      "Trial #: 13   2024-02-05   01:11:06 - 01:34:06    1      0.91712        0.22948    \n",
      "Trial #: 14   2024-02-11   13:58:16 - 13:58:19    3          *** FAILED ***        \n",
      "Trial #: 15   2024-02-11   14:02:58 - 14:03:01    3          *** FAILED ***        \n",
      "Trial #: 16   2024-02-11   14:05:19 - 14:58:10    3          *** FAILED ***        \n",
      "Trial #: 17   2024-02-11   15:31:07 - 16:38:29    1      0.62593        0.35270    \n",
      "Trial #: 18   2024-02-11   21:49:10 - 21:50:24    3          *** FAILED ***        \n",
      "Trial #: 19   2024-02-11   21:50:47 - 22:14:47    1      0.60966        0.35607    \n",
      "Trial #: 20   2024-02-11   23:21:11 - 00:01:20    1      0.61561        0.36063    \n",
      "Trial #: 21   2024-02-12   00:01:21 - 00:39:17    1      0.60933        0.35866    \n",
      "Trial #: 22   2024-02-12   00:39:18 - 00:56:58    1      0.59683        0.36285    \n",
      "Trial #: 23   2024-02-12   00:56:59 - 01:10:47    3          *** FAILED ***        \n",
      "Trial #: 24   2024-02-12   01:48:06 - 01:48:12    3          *** FAILED ***        \n",
      "Trial #: 25   2024-02-12   01:55:54 - 02:12:44    1      0.55990        0.56057    \n",
      "Trial #: 26   2024-02-12   02:12:45 - 02:29:49    1      0.59509        0.36394    \n",
      "Trial #: 27   2024-02-12   02:29:50 - 03:59:12    1      0.61147        0.37472    \n",
      "Trial #: 28   2024-02-12   03:59:13 - 04:49:11    1      0.61664        0.35477    \n",
      "Trial #: 29   2024-02-12   04:49:12 - 05:08:23    1      0.52726        0.37212    \n",
      "Trial #: 30   2024-02-12   14:00:38 - 14:26:29    1      0.62208        0.35362    rerun of trial 0\n",
      "Trial #: 31   2024-02-12   14:31:23 - 14:44:16    3          *** FAILED ***        rerun of trial 1\n",
      "Trial #: 32   2024-02-12   15:13:15 - 16:55:58    1      0.61050        0.37124    rerun of trial 2\n",
      "Trial #: 33   2024-02-12   16:55:59 - 17:23:19    1      0.61534        0.35553    rerun of trial 2\n",
      "Trial #: 34   2024-02-12   19:46:39 - 20:04:52    1      0.62132        0.35329    rerun of trial 3\n",
      "Trial #: 35   2024-02-12   20:04:53 - 20:51:04    1      0.60952        0.37508    rerun of trial 4\n",
      "Trial #: 36   2024-02-12   20:51:05 - 21:03:13    1      0.60955        0.35581    rerun of trial 5\n",
      "Trial #: 37   2024-02-12   21:03:14 - 21:21:57    1      0.54904        0.36606    rerun of trial 6\n",
      "Trial #: 38   2024-02-12   21:33:09 - 22:13:52    1      0.62365        0.35322    rerun of trial 7\n",
      "Trial #: 39   2024-02-12   22:13:52 - 22:25:39    1      0.58913        0.36734    rerun of trial 8\n",
      "Trial #: 40   2024-02-12   22:25:40 - 22:36:49    1      0.59105        0.36808    rerun of trial 9\n",
      "Trial #: 41   2024-02-12   22:36:50 - 23:05:05    1      0.60879        0.35860    rerun of trial 10\n",
      "Trial #: 42   2024-02-12   23:43:56 - 00:04:08    3          *** FAILED ***        rerun of trial 11\n",
      "Trial #: 43   2024-02-13   04:22:59 - 04:34:36    1      0.55585        0.57369    rerun of trial 12\n",
      "Trial #: 44   2024-02-13   04:34:37 - 04:49:42    1      0.61422        0.35551    rerun of trial 13\n",
      "Trial #: 45   2024-02-13   04:49:43 - 05:00:23    1      0.58133        0.38038    rerun of trial 14\n",
      "Trial #: 46   2024-02-13   05:00:23 - 05:15:50    1      0.59614        0.35925    rerun of trial 11\n",
      "Trial #: 47   2024-02-13   05:23:23 - 05:35:08    1      0.56613        0.41619    \n",
      "Trial #: 48   2024-02-13   05:35:09 - 05:49:09    1      0.56828        0.43065    \n",
      "Trial #: 49   2024-02-13   05:49:10 - 06:00:11    1      0.60657        0.35728    \n",
      "Trial #: 50   2024-02-13   06:00:11 - 06:13:01    1      0.58216        0.39139    \n",
      "Trial #: 51   2024-02-13   06:13:02 - 06:26:33    1      0.61431        0.35519    \n",
      "Trial #: 52   2024-02-13   06:32:02 - 07:26:32    1      0.62248        0.35331    \n",
      "Trial #: 53   2024-02-13   07:26:33 - 07:46:11    1      0.62233        0.35339    \n",
      "Trial #: 54   2024-02-13   07:46:12 - 07:59:04    1      0.55335        0.58426    \n",
      "Trial #: 55   2024-02-13   07:59:05 - 08:10:18    1      0.57281        0.40450    \n",
      "Trial #: 56   2024-02-13   08:10:20 - 08:21:40    1      0.56731        0.40014    \n",
      "Trial #: 57   2024-02-13   11:49:46 - 12:08:05    1      0.60925        0.35635    \n",
      "Trial #: 58   2024-02-13   12:08:06 - 12:20:26    1      0.58370        0.37018    \n",
      "Trial #: 59   2024-02-13   12:20:27 - 12:32:04    1      0.55849        0.46500    \n",
      "Trial #: 60   2024-02-13   12:32:04 - 13:14:32    1      0.61240        0.36259    \n",
      "Trial #: 61   2024-02-13   13:14:32 - 13:27:24    1      0.55885        0.44736    \n",
      " *** end of trials *** \n",
      " Best trials:  [1, 12]\n"
     ]
    }
   ],
   "source": [
    "disp_study_history(study)"
   ]
  },
  {
   "cell_type": "code",
   "execution_count": 12,
   "metadata": {
    "execution": {
     "iopub.execute_input": "2024-02-13T12:35:17.364495Z",
     "iopub.status.busy": "2024-02-13T12:35:17.364000Z",
     "iopub.status.idle": "2024-02-13T12:35:17.435418Z",
     "shell.execute_reply": "2024-02-13T12:35:17.434577Z",
     "shell.execute_reply.started": "2024-02-13T12:35:17.364452Z"
    }
   },
   "outputs": [
    {
     "name": "stdout",
     "output_type": "stream",
     "text": [
      " classification-study-1-clone  study history\n",
      "\n",
      "                start     -   completion      status        validation metrics\n",
      " trial#         time      -      time          code      roc_auc        logloss\n",
      "--------------------------------------------------------------------------------\n",
      "Trial #: 0    2024-02-11   15:31:07 - 16:38:29    1      0.62593        0.35270    \n",
      "Trial #: 1    2024-02-11   21:50:47 - 22:14:47    1      0.60966        0.35607    \n",
      "Trial #: 2    2024-02-11   23:21:11 - 00:01:20    1      0.61561        0.36063    \n",
      "Trial #: 3    2024-02-12   00:01:21 - 00:39:17    1      0.60933        0.35866    \n",
      "Trial #: 4    2024-02-12   00:39:18 - 00:56:58    1      0.59683        0.36285    \n",
      "Trial #: 5    2024-02-12   01:55:54 - 02:12:44    1      0.55990        0.56057    \n",
      "Trial #: 6    2024-02-12   02:12:45 - 02:29:49    1      0.59509        0.36394    \n",
      "Trial #: 7    2024-02-12   02:29:50 - 03:59:12    1      0.61147        0.37472    \n",
      "Trial #: 8    2024-02-12   03:59:13 - 04:49:11    1      0.61664        0.35477    \n",
      "Trial #: 9    2024-02-12   04:49:12 - 05:08:23    1      0.52726        0.37212    \n",
      "Trial #: 10   2024-02-12   14:00:38 - 14:26:29    1      0.62208        0.35362    rerun of trial 0\n",
      "Trial #: 11   2024-02-12   15:13:15 - 16:55:58    1      0.61050        0.37124    rerun of trial 2\n",
      "Trial #: 12   2024-02-12   16:55:59 - 17:23:19    1      0.61534        0.35553    rerun of trial 2\n",
      "Trial #: 13   2024-02-12   19:46:39 - 20:04:52    1      0.62132        0.35329    rerun of trial 3\n",
      "Trial #: 14   2024-02-12   20:04:53 - 20:51:04    1      0.60952        0.37508    rerun of trial 4\n",
      "Trial #: 15   2024-02-12   20:51:05 - 21:03:13    1      0.60955        0.35581    rerun of trial 5\n",
      "Trial #: 16   2024-02-12   21:03:14 - 21:21:57    1      0.54904        0.36606    rerun of trial 6\n",
      "Trial #: 17   2024-02-12   21:33:09 - 22:13:52    1      0.62365        0.35322    rerun of trial 7\n",
      "Trial #: 18   2024-02-12   22:13:52 - 22:25:39    1      0.58913        0.36734    rerun of trial 8\n",
      "Trial #: 19   2024-02-12   22:25:40 - 22:36:49    1      0.59105        0.36808    rerun of trial 9\n",
      "Trial #: 20   2024-02-12   22:36:50 - 23:05:05    1      0.60879        0.35860    rerun of trial 10\n",
      "Trial #: 21   2024-02-13   04:22:59 - 04:34:36    1      0.55585        0.57369    rerun of trial 12\n",
      "Trial #: 22   2024-02-13   04:34:37 - 04:49:42    1      0.61422        0.35551    rerun of trial 13\n",
      "Trial #: 23   2024-02-13   04:49:43 - 05:00:23    1      0.58133        0.38038    rerun of trial 14\n",
      "Trial #: 24   2024-02-13   05:00:23 - 05:15:50    1      0.59614        0.35925    rerun of trial 11\n",
      "Trial #: 25   2024-02-13   05:23:23 - 05:35:08    1      0.56613        0.41619    \n",
      "Trial #: 26   2024-02-13   05:35:09 - 05:49:09    1      0.56828        0.43065    \n",
      "Trial #: 27   2024-02-13   05:49:10 - 06:00:11    1      0.60657        0.35728    \n",
      "Trial #: 28   2024-02-13   06:00:11 - 06:13:01    1      0.58216        0.39139    \n",
      "Trial #: 29   2024-02-13   06:13:02 - 06:26:33    1      0.61431        0.35519    \n",
      " *** end of trials *** \n",
      " Best trials:  [0]\n"
     ]
    }
   ],
   "source": [
    "disp_study_history(study_clone)"
   ]
  },
  {
   "cell_type": "code",
   "execution_count": 13,
   "metadata": {
    "execution": {
     "iopub.execute_input": "2024-02-13T12:35:49.155980Z",
     "iopub.status.busy": "2024-02-13T12:35:49.155610Z",
     "iopub.status.idle": "2024-02-13T12:35:49.258735Z",
     "shell.execute_reply": "2024-02-13T12:35:49.258126Z",
     "shell.execute_reply.started": "2024-02-13T12:35:49.155951Z"
    }
   },
   "outputs": [
    {
     "data": {
      "text/html": [
       "<div>\n",
       "<style scoped>\n",
       "    .dataframe tbody tr th:only-of-type {\n",
       "        vertical-align: middle;\n",
       "    }\n",
       "\n",
       "    .dataframe tbody tr th {\n",
       "        vertical-align: top;\n",
       "    }\n",
       "\n",
       "    .dataframe thead th {\n",
       "        text-align: right;\n",
       "    }\n",
       "</style>\n",
       "<table border=\"1\" class=\"dataframe\">\n",
       "  <thead>\n",
       "    <tr style=\"text-align: right;\">\n",
       "      <th></th>\n",
       "      <th>number</th>\n",
       "      <th>values_logloss</th>\n",
       "      <th>values_roc_auc</th>\n",
       "      <th>datetime_start</th>\n",
       "      <th>datetime_complete</th>\n",
       "      <th>duration</th>\n",
       "      <th>params_colsample_bylevel</th>\n",
       "      <th>params_colsample_bynode</th>\n",
       "      <th>params_learning_rate</th>\n",
       "      <th>params_max_delta_step</th>\n",
       "      <th>params_max_depth</th>\n",
       "      <th>params_min_child_weight</th>\n",
       "      <th>params_min_split_loss</th>\n",
       "      <th>params_subsample</th>\n",
       "      <th>user_attrs_memo</th>\n",
       "      <th>system_attrs_fixed_params</th>\n",
       "      <th>system_attrs_nsga2:generation</th>\n",
       "      <th>state</th>\n",
       "    </tr>\n",
       "  </thead>\n",
       "  <tbody>\n",
       "    <tr>\n",
       "      <th>0</th>\n",
       "      <td>0</td>\n",
       "      <td>0.352702</td>\n",
       "      <td>0.625932</td>\n",
       "      <td>2024-02-11 15:31:07.275621</td>\n",
       "      <td>2024-02-11 16:38:29.798596</td>\n",
       "      <td>0 days 01:07:22.522975</td>\n",
       "      <td>0.961781</td>\n",
       "      <td>0.611034</td>\n",
       "      <td>0.012489</td>\n",
       "      <td>5.035702</td>\n",
       "      <td>9</td>\n",
       "      <td>6.705902</td>\n",
       "      <td>5.097113</td>\n",
       "      <td>0.837417</td>\n",
       "      <td>NaN</td>\n",
       "      <td>NaN</td>\n",
       "      <td>0.0</td>\n",
       "      <td>COMPLETE</td>\n",
       "    </tr>\n",
       "    <tr>\n",
       "      <th>1</th>\n",
       "      <td>1</td>\n",
       "      <td>0.356066</td>\n",
       "      <td>0.609663</td>\n",
       "      <td>2024-02-11 21:50:47.174731</td>\n",
       "      <td>2024-02-11 22:14:47.156695</td>\n",
       "      <td>0 days 00:23:59.981964</td>\n",
       "      <td>0.850865</td>\n",
       "      <td>0.598510</td>\n",
       "      <td>0.004244</td>\n",
       "      <td>3.627402</td>\n",
       "      <td>4</td>\n",
       "      <td>7.524141</td>\n",
       "      <td>9.060415</td>\n",
       "      <td>0.930222</td>\n",
       "      <td>NaN</td>\n",
       "      <td>NaN</td>\n",
       "      <td>0.0</td>\n",
       "      <td>COMPLETE</td>\n",
       "    </tr>\n",
       "    <tr>\n",
       "      <th>2</th>\n",
       "      <td>2</td>\n",
       "      <td>0.360627</td>\n",
       "      <td>0.615614</td>\n",
       "      <td>2024-02-11 23:21:11.076371</td>\n",
       "      <td>2024-02-12 00:01:20.691746</td>\n",
       "      <td>0 days 00:40:09.615375</td>\n",
       "      <td>0.627851</td>\n",
       "      <td>0.553138</td>\n",
       "      <td>0.000931</td>\n",
       "      <td>9.350387</td>\n",
       "      <td>9</td>\n",
       "      <td>6.864519</td>\n",
       "      <td>4.622671</td>\n",
       "      <td>0.822365</td>\n",
       "      <td>NaN</td>\n",
       "      <td>NaN</td>\n",
       "      <td>0.0</td>\n",
       "      <td>COMPLETE</td>\n",
       "    </tr>\n",
       "    <tr>\n",
       "      <th>3</th>\n",
       "      <td>3</td>\n",
       "      <td>0.358661</td>\n",
       "      <td>0.609327</td>\n",
       "      <td>2024-02-12 00:01:21.649277</td>\n",
       "      <td>2024-02-12 00:39:17.230068</td>\n",
       "      <td>0 days 00:37:55.580791</td>\n",
       "      <td>0.823439</td>\n",
       "      <td>0.711950</td>\n",
       "      <td>0.036443</td>\n",
       "      <td>3.354500</td>\n",
       "      <td>13</td>\n",
       "      <td>0.640387</td>\n",
       "      <td>0.251710</td>\n",
       "      <td>0.736546</td>\n",
       "      <td>NaN</td>\n",
       "      <td>NaN</td>\n",
       "      <td>0.0</td>\n",
       "      <td>COMPLETE</td>\n",
       "    </tr>\n",
       "    <tr>\n",
       "      <th>4</th>\n",
       "      <td>4</td>\n",
       "      <td>0.362854</td>\n",
       "      <td>0.596833</td>\n",
       "      <td>2024-02-12 00:39:18.091689</td>\n",
       "      <td>2024-02-12 00:56:58.827582</td>\n",
       "      <td>0 days 00:17:40.735893</td>\n",
       "      <td>0.741545</td>\n",
       "      <td>0.533578</td>\n",
       "      <td>0.193726</td>\n",
       "      <td>5.290435</td>\n",
       "      <td>8</td>\n",
       "      <td>7.932249</td>\n",
       "      <td>0.638827</td>\n",
       "      <td>0.853340</td>\n",
       "      <td>NaN</td>\n",
       "      <td>NaN</td>\n",
       "      <td>0.0</td>\n",
       "      <td>COMPLETE</td>\n",
       "    </tr>\n",
       "    <tr>\n",
       "      <th>5</th>\n",
       "      <td>5</td>\n",
       "      <td>0.560568</td>\n",
       "      <td>0.559895</td>\n",
       "      <td>2024-02-12 01:55:54.321211</td>\n",
       "      <td>2024-02-12 02:12:44.511828</td>\n",
       "      <td>0 days 00:16:50.190617</td>\n",
       "      <td>0.852864</td>\n",
       "      <td>0.692054</td>\n",
       "      <td>0.718021</td>\n",
       "      <td>8.219028</td>\n",
       "      <td>11</td>\n",
       "      <td>6.864818</td>\n",
       "      <td>1.274035</td>\n",
       "      <td>0.821630</td>\n",
       "      <td>NaN</td>\n",
       "      <td>NaN</td>\n",
       "      <td>0.0</td>\n",
       "      <td>COMPLETE</td>\n",
       "    </tr>\n",
       "    <tr>\n",
       "      <th>6</th>\n",
       "      <td>6</td>\n",
       "      <td>0.363938</td>\n",
       "      <td>0.595092</td>\n",
       "      <td>2024-02-12 02:12:45.046738</td>\n",
       "      <td>2024-02-12 02:29:49.915460</td>\n",
       "      <td>0 days 00:17:04.868722</td>\n",
       "      <td>0.705275</td>\n",
       "      <td>0.812628</td>\n",
       "      <td>0.101733</td>\n",
       "      <td>9.827028</td>\n",
       "      <td>12</td>\n",
       "      <td>3.320796</td>\n",
       "      <td>4.932578</td>\n",
       "      <td>0.622028</td>\n",
       "      <td>NaN</td>\n",
       "      <td>NaN</td>\n",
       "      <td>0.0</td>\n",
       "      <td>COMPLETE</td>\n",
       "    </tr>\n",
       "    <tr>\n",
       "      <th>7</th>\n",
       "      <td>7</td>\n",
       "      <td>0.374718</td>\n",
       "      <td>0.611472</td>\n",
       "      <td>2024-02-12 02:29:50.425523</td>\n",
       "      <td>2024-02-12 03:59:12.655144</td>\n",
       "      <td>0 days 01:29:22.229621</td>\n",
       "      <td>0.947233</td>\n",
       "      <td>0.510696</td>\n",
       "      <td>0.000121</td>\n",
       "      <td>5.166970</td>\n",
       "      <td>12</td>\n",
       "      <td>0.244069</td>\n",
       "      <td>4.749472</td>\n",
       "      <td>0.620393</td>\n",
       "      <td>NaN</td>\n",
       "      <td>NaN</td>\n",
       "      <td>0.0</td>\n",
       "      <td>COMPLETE</td>\n",
       "    </tr>\n",
       "    <tr>\n",
       "      <th>8</th>\n",
       "      <td>8</td>\n",
       "      <td>0.354772</td>\n",
       "      <td>0.616641</td>\n",
       "      <td>2024-02-12 03:59:13.129237</td>\n",
       "      <td>2024-02-12 04:49:11.655533</td>\n",
       "      <td>0 days 00:49:58.526296</td>\n",
       "      <td>0.857213</td>\n",
       "      <td>0.509796</td>\n",
       "      <td>0.010357</td>\n",
       "      <td>1.034110</td>\n",
       "      <td>15</td>\n",
       "      <td>4.793893</td>\n",
       "      <td>1.719604</td>\n",
       "      <td>0.412073</td>\n",
       "      <td>NaN</td>\n",
       "      <td>NaN</td>\n",
       "      <td>0.0</td>\n",
       "      <td>COMPLETE</td>\n",
       "    </tr>\n",
       "    <tr>\n",
       "      <th>9</th>\n",
       "      <td>9</td>\n",
       "      <td>0.372122</td>\n",
       "      <td>0.527256</td>\n",
       "      <td>2024-02-12 04:49:12.123042</td>\n",
       "      <td>2024-02-12 05:08:23.327686</td>\n",
       "      <td>0 days 00:19:11.204644</td>\n",
       "      <td>0.860123</td>\n",
       "      <td>0.874122</td>\n",
       "      <td>0.000303</td>\n",
       "      <td>7.047180</td>\n",
       "      <td>1</td>\n",
       "      <td>8.575491</td>\n",
       "      <td>0.326933</td>\n",
       "      <td>0.897760</td>\n",
       "      <td>NaN</td>\n",
       "      <td>NaN</td>\n",
       "      <td>0.0</td>\n",
       "      <td>COMPLETE</td>\n",
       "    </tr>\n",
       "    <tr>\n",
       "      <th>10</th>\n",
       "      <td>10</td>\n",
       "      <td>0.353621</td>\n",
       "      <td>0.622082</td>\n",
       "      <td>2024-02-12 14:00:38.195388</td>\n",
       "      <td>2024-02-12 14:26:29.996709</td>\n",
       "      <td>0 days 00:25:51.801321</td>\n",
       "      <td>0.585618</td>\n",
       "      <td>0.582087</td>\n",
       "      <td>0.143276</td>\n",
       "      <td>0.074656</td>\n",
       "      <td>11</td>\n",
       "      <td>9.683349</td>\n",
       "      <td>0.013665</td>\n",
       "      <td>0.986915</td>\n",
       "      <td>rerun of trial 0</td>\n",
       "      <td>{'learning_rate': 0.14327608105242665, 'min_sp...</td>\n",
       "      <td>NaN</td>\n",
       "      <td>COMPLETE</td>\n",
       "    </tr>\n",
       "    <tr>\n",
       "      <th>11</th>\n",
       "      <td>11</td>\n",
       "      <td>0.371238</td>\n",
       "      <td>0.610497</td>\n",
       "      <td>2024-02-12 15:13:15.622997</td>\n",
       "      <td>2024-02-12 16:55:58.513585</td>\n",
       "      <td>0 days 01:42:42.890588</td>\n",
       "      <td>0.615872</td>\n",
       "      <td>0.718371</td>\n",
       "      <td>0.000242</td>\n",
       "      <td>8.546141</td>\n",
       "      <td>14</td>\n",
       "      <td>7.313969</td>\n",
       "      <td>4.537306</td>\n",
       "      <td>0.769055</td>\n",
       "      <td>rerun of trial 2</td>\n",
       "      <td>{'learning_rate': 0.00024153178206203413, 'min...</td>\n",
       "      <td>NaN</td>\n",
       "      <td>COMPLETE</td>\n",
       "    </tr>\n",
       "    <tr>\n",
       "      <th>12</th>\n",
       "      <td>12</td>\n",
       "      <td>0.355528</td>\n",
       "      <td>0.615341</td>\n",
       "      <td>2024-02-12 16:55:59.255611</td>\n",
       "      <td>2024-02-12 17:23:19.763711</td>\n",
       "      <td>0 days 00:27:20.508100</td>\n",
       "      <td>0.947399</td>\n",
       "      <td>0.659437</td>\n",
       "      <td>0.034551</td>\n",
       "      <td>1.081959</td>\n",
       "      <td>13</td>\n",
       "      <td>4.008506</td>\n",
       "      <td>4.749165</td>\n",
       "      <td>0.719159</td>\n",
       "      <td>rerun of trial 2</td>\n",
       "      <td>{'learning_rate': 0.03455051467752774, 'min_sp...</td>\n",
       "      <td>NaN</td>\n",
       "      <td>COMPLETE</td>\n",
       "    </tr>\n",
       "    <tr>\n",
       "      <th>13</th>\n",
       "      <td>13</td>\n",
       "      <td>0.353287</td>\n",
       "      <td>0.621316</td>\n",
       "      <td>2024-02-12 19:46:39.264285</td>\n",
       "      <td>2024-02-12 20:04:52.607519</td>\n",
       "      <td>0 days 00:18:13.343234</td>\n",
       "      <td>0.708804</td>\n",
       "      <td>0.868822</td>\n",
       "      <td>0.037708</td>\n",
       "      <td>6.331900</td>\n",
       "      <td>4</td>\n",
       "      <td>8.058972</td>\n",
       "      <td>0.101454</td>\n",
       "      <td>0.690761</td>\n",
       "      <td>rerun of trial 3</td>\n",
       "      <td>{'learning_rate': 0.037707559621769894, 'min_s...</td>\n",
       "      <td>NaN</td>\n",
       "      <td>COMPLETE</td>\n",
       "    </tr>\n",
       "    <tr>\n",
       "      <th>14</th>\n",
       "      <td>14</td>\n",
       "      <td>0.375079</td>\n",
       "      <td>0.609518</td>\n",
       "      <td>2024-02-12 20:04:53.421474</td>\n",
       "      <td>2024-02-12 20:51:04.827380</td>\n",
       "      <td>0 days 00:46:11.405906</td>\n",
       "      <td>0.589903</td>\n",
       "      <td>0.625624</td>\n",
       "      <td>0.000115</td>\n",
       "      <td>2.824893</td>\n",
       "      <td>11</td>\n",
       "      <td>5.672360</td>\n",
       "      <td>7.394496</td>\n",
       "      <td>0.616970</td>\n",
       "      <td>rerun of trial 4</td>\n",
       "      <td>{'learning_rate': 0.00011459045077338876, 'min...</td>\n",
       "      <td>NaN</td>\n",
       "      <td>COMPLETE</td>\n",
       "    </tr>\n",
       "    <tr>\n",
       "      <th>15</th>\n",
       "      <td>15</td>\n",
       "      <td>0.355806</td>\n",
       "      <td>0.609547</td>\n",
       "      <td>2024-02-12 20:51:05.553314</td>\n",
       "      <td>2024-02-12 21:03:13.673565</td>\n",
       "      <td>0 days 00:12:08.120251</td>\n",
       "      <td>0.560386</td>\n",
       "      <td>0.811272</td>\n",
       "      <td>0.134297</td>\n",
       "      <td>1.754813</td>\n",
       "      <td>8</td>\n",
       "      <td>6.752230</td>\n",
       "      <td>9.105621</td>\n",
       "      <td>0.956640</td>\n",
       "      <td>rerun of trial 5</td>\n",
       "      <td>{'learning_rate': 0.13429674717831103, 'min_sp...</td>\n",
       "      <td>NaN</td>\n",
       "      <td>COMPLETE</td>\n",
       "    </tr>\n",
       "    <tr>\n",
       "      <th>16</th>\n",
       "      <td>16</td>\n",
       "      <td>0.366056</td>\n",
       "      <td>0.549042</td>\n",
       "      <td>2024-02-12 21:03:14.384473</td>\n",
       "      <td>2024-02-12 21:21:57.597724</td>\n",
       "      <td>0 days 00:18:43.213251</td>\n",
       "      <td>0.846711</td>\n",
       "      <td>0.615957</td>\n",
       "      <td>0.001634</td>\n",
       "      <td>0.168275</td>\n",
       "      <td>5</td>\n",
       "      <td>6.905918</td>\n",
       "      <td>0.882063</td>\n",
       "      <td>0.411585</td>\n",
       "      <td>rerun of trial 6</td>\n",
       "      <td>{'learning_rate': 0.0016335503419290804, 'min_...</td>\n",
       "      <td>NaN</td>\n",
       "      <td>COMPLETE</td>\n",
       "    </tr>\n",
       "    <tr>\n",
       "      <th>17</th>\n",
       "      <td>17</td>\n",
       "      <td>0.353221</td>\n",
       "      <td>0.623649</td>\n",
       "      <td>2024-02-12 21:33:09.920490</td>\n",
       "      <td>2024-02-12 22:13:52.021727</td>\n",
       "      <td>0 days 00:40:42.101237</td>\n",
       "      <td>0.933313</td>\n",
       "      <td>0.607458</td>\n",
       "      <td>0.009730</td>\n",
       "      <td>5.846445</td>\n",
       "      <td>13</td>\n",
       "      <td>7.403698</td>\n",
       "      <td>7.197970</td>\n",
       "      <td>0.748567</td>\n",
       "      <td>rerun of trial 7</td>\n",
       "      <td>{'learning_rate': 0.00973038750721373, 'min_sp...</td>\n",
       "      <td>NaN</td>\n",
       "      <td>COMPLETE</td>\n",
       "    </tr>\n",
       "    <tr>\n",
       "      <th>18</th>\n",
       "      <td>18</td>\n",
       "      <td>0.367335</td>\n",
       "      <td>0.589134</td>\n",
       "      <td>2024-02-12 22:13:52.618660</td>\n",
       "      <td>2024-02-12 22:25:39.402653</td>\n",
       "      <td>0 days 00:11:46.783993</td>\n",
       "      <td>0.576115</td>\n",
       "      <td>0.582256</td>\n",
       "      <td>0.205679</td>\n",
       "      <td>2.778248</td>\n",
       "      <td>8</td>\n",
       "      <td>4.007208</td>\n",
       "      <td>0.047983</td>\n",
       "      <td>0.651714</td>\n",
       "      <td>rerun of trial 8</td>\n",
       "      <td>{'learning_rate': 0.2056791520124346, 'min_spl...</td>\n",
       "      <td>NaN</td>\n",
       "      <td>COMPLETE</td>\n",
       "    </tr>\n",
       "    <tr>\n",
       "      <th>19</th>\n",
       "      <td>19</td>\n",
       "      <td>0.368082</td>\n",
       "      <td>0.591047</td>\n",
       "      <td>2024-02-12 22:25:40.205616</td>\n",
       "      <td>2024-02-12 22:36:49.530456</td>\n",
       "      <td>0 days 00:11:09.324840</td>\n",
       "      <td>0.725259</td>\n",
       "      <td>0.989566</td>\n",
       "      <td>0.394348</td>\n",
       "      <td>2.710428</td>\n",
       "      <td>6</td>\n",
       "      <td>3.515444</td>\n",
       "      <td>9.489928</td>\n",
       "      <td>0.822929</td>\n",
       "      <td>rerun of trial 9</td>\n",
       "      <td>{'learning_rate': 0.39434814432962956, 'min_sp...</td>\n",
       "      <td>NaN</td>\n",
       "      <td>COMPLETE</td>\n",
       "    </tr>\n",
       "    <tr>\n",
       "      <th>20</th>\n",
       "      <td>20</td>\n",
       "      <td>0.358598</td>\n",
       "      <td>0.608791</td>\n",
       "      <td>2024-02-12 22:36:50.296412</td>\n",
       "      <td>2024-02-12 23:05:05.597378</td>\n",
       "      <td>0 days 00:28:15.300966</td>\n",
       "      <td>0.927881</td>\n",
       "      <td>0.770689</td>\n",
       "      <td>0.001334</td>\n",
       "      <td>2.831506</td>\n",
       "      <td>7</td>\n",
       "      <td>4.330067</td>\n",
       "      <td>2.166735</td>\n",
       "      <td>0.972511</td>\n",
       "      <td>rerun of trial 10</td>\n",
       "      <td>{'learning_rate': 0.0013344887184684022, 'min_...</td>\n",
       "      <td>NaN</td>\n",
       "      <td>COMPLETE</td>\n",
       "    </tr>\n",
       "    <tr>\n",
       "      <th>21</th>\n",
       "      <td>21</td>\n",
       "      <td>0.573688</td>\n",
       "      <td>0.555849</td>\n",
       "      <td>2024-02-13 04:22:59.485005</td>\n",
       "      <td>2024-02-13 04:34:36.799066</td>\n",
       "      <td>0 days 00:11:37.314061</td>\n",
       "      <td>0.611972</td>\n",
       "      <td>0.859803</td>\n",
       "      <td>0.858654</td>\n",
       "      <td>2.117240</td>\n",
       "      <td>10</td>\n",
       "      <td>9.583542</td>\n",
       "      <td>3.605129</td>\n",
       "      <td>0.883461</td>\n",
       "      <td>rerun of trial 12</td>\n",
       "      <td>{'learning_rate': 0.8586535510091051, 'min_spl...</td>\n",
       "      <td>NaN</td>\n",
       "      <td>COMPLETE</td>\n",
       "    </tr>\n",
       "    <tr>\n",
       "      <th>22</th>\n",
       "      <td>22</td>\n",
       "      <td>0.355506</td>\n",
       "      <td>0.614220</td>\n",
       "      <td>2024-02-13 04:34:37.597183</td>\n",
       "      <td>2024-02-13 04:49:42.851263</td>\n",
       "      <td>0 days 00:15:05.254080</td>\n",
       "      <td>0.980188</td>\n",
       "      <td>0.656057</td>\n",
       "      <td>0.062270</td>\n",
       "      <td>0.650368</td>\n",
       "      <td>10</td>\n",
       "      <td>4.423521</td>\n",
       "      <td>4.444297</td>\n",
       "      <td>0.834164</td>\n",
       "      <td>rerun of trial 13</td>\n",
       "      <td>{'learning_rate': 0.06227003367608594, 'min_sp...</td>\n",
       "      <td>NaN</td>\n",
       "      <td>COMPLETE</td>\n",
       "    </tr>\n",
       "    <tr>\n",
       "      <th>23</th>\n",
       "      <td>23</td>\n",
       "      <td>0.380378</td>\n",
       "      <td>0.581331</td>\n",
       "      <td>2024-02-13 04:49:43.705169</td>\n",
       "      <td>2024-02-13 05:00:23.026452</td>\n",
       "      <td>0 days 00:10:39.321283</td>\n",
       "      <td>0.752872</td>\n",
       "      <td>0.523226</td>\n",
       "      <td>0.744233</td>\n",
       "      <td>2.556750</td>\n",
       "      <td>4</td>\n",
       "      <td>9.379460</td>\n",
       "      <td>8.218492</td>\n",
       "      <td>0.561204</td>\n",
       "      <td>rerun of trial 14</td>\n",
       "      <td>{'learning_rate': 0.7442330152740122, 'min_spl...</td>\n",
       "      <td>NaN</td>\n",
       "      <td>COMPLETE</td>\n",
       "    </tr>\n",
       "    <tr>\n",
       "      <th>24</th>\n",
       "      <td>24</td>\n",
       "      <td>0.359246</td>\n",
       "      <td>0.596140</td>\n",
       "      <td>2024-02-13 05:00:23.850292</td>\n",
       "      <td>2024-02-13 05:15:50.990437</td>\n",
       "      <td>0 days 00:15:27.140145</td>\n",
       "      <td>0.936419</td>\n",
       "      <td>0.555688</td>\n",
       "      <td>0.011508</td>\n",
       "      <td>2.618648</td>\n",
       "      <td>1</td>\n",
       "      <td>9.753827</td>\n",
       "      <td>0.454292</td>\n",
       "      <td>0.881585</td>\n",
       "      <td>rerun of trial 11</td>\n",
       "      <td>{'learning_rate': 0.011507708277560936, 'min_s...</td>\n",
       "      <td>NaN</td>\n",
       "      <td>COMPLETE</td>\n",
       "    </tr>\n",
       "    <tr>\n",
       "      <th>25</th>\n",
       "      <td>25</td>\n",
       "      <td>0.416193</td>\n",
       "      <td>0.566129</td>\n",
       "      <td>2024-02-13 05:23:23.140943</td>\n",
       "      <td>2024-02-13 05:35:08.360256</td>\n",
       "      <td>0 days 00:11:45.219313</td>\n",
       "      <td>0.507275</td>\n",
       "      <td>0.939988</td>\n",
       "      <td>0.319364</td>\n",
       "      <td>4.073423</td>\n",
       "      <td>10</td>\n",
       "      <td>1.171005</td>\n",
       "      <td>6.249977</td>\n",
       "      <td>0.479531</td>\n",
       "      <td>NaN</td>\n",
       "      <td>NaN</td>\n",
       "      <td>NaN</td>\n",
       "      <td>COMPLETE</td>\n",
       "    </tr>\n",
       "    <tr>\n",
       "      <th>26</th>\n",
       "      <td>26</td>\n",
       "      <td>0.430650</td>\n",
       "      <td>0.568281</td>\n",
       "      <td>2024-02-13 05:35:09.169743</td>\n",
       "      <td>2024-02-13 05:49:09.681175</td>\n",
       "      <td>0 days 00:14:00.511432</td>\n",
       "      <td>0.652611</td>\n",
       "      <td>0.923535</td>\n",
       "      <td>0.405207</td>\n",
       "      <td>4.194920</td>\n",
       "      <td>15</td>\n",
       "      <td>2.163018</td>\n",
       "      <td>3.196530</td>\n",
       "      <td>0.786694</td>\n",
       "      <td>NaN</td>\n",
       "      <td>NaN</td>\n",
       "      <td>NaN</td>\n",
       "      <td>COMPLETE</td>\n",
       "    </tr>\n",
       "    <tr>\n",
       "      <th>27</th>\n",
       "      <td>27</td>\n",
       "      <td>0.357280</td>\n",
       "      <td>0.606567</td>\n",
       "      <td>2024-02-13 05:49:10.540313</td>\n",
       "      <td>2024-02-13 06:00:11.103765</td>\n",
       "      <td>0 days 00:11:00.563452</td>\n",
       "      <td>0.517237</td>\n",
       "      <td>0.917548</td>\n",
       "      <td>0.573292</td>\n",
       "      <td>1.588832</td>\n",
       "      <td>2</td>\n",
       "      <td>5.967775</td>\n",
       "      <td>6.399103</td>\n",
       "      <td>0.941440</td>\n",
       "      <td>NaN</td>\n",
       "      <td>NaN</td>\n",
       "      <td>NaN</td>\n",
       "      <td>COMPLETE</td>\n",
       "    </tr>\n",
       "    <tr>\n",
       "      <th>28</th>\n",
       "      <td>28</td>\n",
       "      <td>0.391387</td>\n",
       "      <td>0.582157</td>\n",
       "      <td>2024-02-13 06:00:11.927917</td>\n",
       "      <td>2024-02-13 06:13:01.840060</td>\n",
       "      <td>0 days 00:12:49.912143</td>\n",
       "      <td>0.670652</td>\n",
       "      <td>0.957937</td>\n",
       "      <td>0.274943</td>\n",
       "      <td>1.169619</td>\n",
       "      <td>10</td>\n",
       "      <td>2.624425</td>\n",
       "      <td>3.017668</td>\n",
       "      <td>0.790978</td>\n",
       "      <td>NaN</td>\n",
       "      <td>NaN</td>\n",
       "      <td>NaN</td>\n",
       "      <td>COMPLETE</td>\n",
       "    </tr>\n",
       "    <tr>\n",
       "      <th>29</th>\n",
       "      <td>29</td>\n",
       "      <td>0.355194</td>\n",
       "      <td>0.614314</td>\n",
       "      <td>2024-02-13 06:13:02.715533</td>\n",
       "      <td>2024-02-13 06:26:33.245217</td>\n",
       "      <td>0 days 00:13:30.529684</td>\n",
       "      <td>0.785202</td>\n",
       "      <td>0.834037</td>\n",
       "      <td>0.069977</td>\n",
       "      <td>1.981248</td>\n",
       "      <td>9</td>\n",
       "      <td>8.838381</td>\n",
       "      <td>6.049831</td>\n",
       "      <td>0.915475</td>\n",
       "      <td>NaN</td>\n",
       "      <td>NaN</td>\n",
       "      <td>NaN</td>\n",
       "      <td>COMPLETE</td>\n",
       "    </tr>\n",
       "  </tbody>\n",
       "</table>\n",
       "</div>"
      ],
      "text/plain": [
       "    number  values_logloss  values_roc_auc             datetime_start          datetime_complete               duration  params_colsample_bylevel  \\\n",
       "0        0        0.352702        0.625932 2024-02-11 15:31:07.275621 2024-02-11 16:38:29.798596 0 days 01:07:22.522975                  0.961781   \n",
       "1        1        0.356066        0.609663 2024-02-11 21:50:47.174731 2024-02-11 22:14:47.156695 0 days 00:23:59.981964                  0.850865   \n",
       "2        2        0.360627        0.615614 2024-02-11 23:21:11.076371 2024-02-12 00:01:20.691746 0 days 00:40:09.615375                  0.627851   \n",
       "3        3        0.358661        0.609327 2024-02-12 00:01:21.649277 2024-02-12 00:39:17.230068 0 days 00:37:55.580791                  0.823439   \n",
       "4        4        0.362854        0.596833 2024-02-12 00:39:18.091689 2024-02-12 00:56:58.827582 0 days 00:17:40.735893                  0.741545   \n",
       "5        5        0.560568        0.559895 2024-02-12 01:55:54.321211 2024-02-12 02:12:44.511828 0 days 00:16:50.190617                  0.852864   \n",
       "6        6        0.363938        0.595092 2024-02-12 02:12:45.046738 2024-02-12 02:29:49.915460 0 days 00:17:04.868722                  0.705275   \n",
       "7        7        0.374718        0.611472 2024-02-12 02:29:50.425523 2024-02-12 03:59:12.655144 0 days 01:29:22.229621                  0.947233   \n",
       "8        8        0.354772        0.616641 2024-02-12 03:59:13.129237 2024-02-12 04:49:11.655533 0 days 00:49:58.526296                  0.857213   \n",
       "9        9        0.372122        0.527256 2024-02-12 04:49:12.123042 2024-02-12 05:08:23.327686 0 days 00:19:11.204644                  0.860123   \n",
       "10      10        0.353621        0.622082 2024-02-12 14:00:38.195388 2024-02-12 14:26:29.996709 0 days 00:25:51.801321                  0.585618   \n",
       "11      11        0.371238        0.610497 2024-02-12 15:13:15.622997 2024-02-12 16:55:58.513585 0 days 01:42:42.890588                  0.615872   \n",
       "12      12        0.355528        0.615341 2024-02-12 16:55:59.255611 2024-02-12 17:23:19.763711 0 days 00:27:20.508100                  0.947399   \n",
       "13      13        0.353287        0.621316 2024-02-12 19:46:39.264285 2024-02-12 20:04:52.607519 0 days 00:18:13.343234                  0.708804   \n",
       "14      14        0.375079        0.609518 2024-02-12 20:04:53.421474 2024-02-12 20:51:04.827380 0 days 00:46:11.405906                  0.589903   \n",
       "15      15        0.355806        0.609547 2024-02-12 20:51:05.553314 2024-02-12 21:03:13.673565 0 days 00:12:08.120251                  0.560386   \n",
       "16      16        0.366056        0.549042 2024-02-12 21:03:14.384473 2024-02-12 21:21:57.597724 0 days 00:18:43.213251                  0.846711   \n",
       "17      17        0.353221        0.623649 2024-02-12 21:33:09.920490 2024-02-12 22:13:52.021727 0 days 00:40:42.101237                  0.933313   \n",
       "18      18        0.367335        0.589134 2024-02-12 22:13:52.618660 2024-02-12 22:25:39.402653 0 days 00:11:46.783993                  0.576115   \n",
       "19      19        0.368082        0.591047 2024-02-12 22:25:40.205616 2024-02-12 22:36:49.530456 0 days 00:11:09.324840                  0.725259   \n",
       "20      20        0.358598        0.608791 2024-02-12 22:36:50.296412 2024-02-12 23:05:05.597378 0 days 00:28:15.300966                  0.927881   \n",
       "21      21        0.573688        0.555849 2024-02-13 04:22:59.485005 2024-02-13 04:34:36.799066 0 days 00:11:37.314061                  0.611972   \n",
       "22      22        0.355506        0.614220 2024-02-13 04:34:37.597183 2024-02-13 04:49:42.851263 0 days 00:15:05.254080                  0.980188   \n",
       "23      23        0.380378        0.581331 2024-02-13 04:49:43.705169 2024-02-13 05:00:23.026452 0 days 00:10:39.321283                  0.752872   \n",
       "24      24        0.359246        0.596140 2024-02-13 05:00:23.850292 2024-02-13 05:15:50.990437 0 days 00:15:27.140145                  0.936419   \n",
       "25      25        0.416193        0.566129 2024-02-13 05:23:23.140943 2024-02-13 05:35:08.360256 0 days 00:11:45.219313                  0.507275   \n",
       "26      26        0.430650        0.568281 2024-02-13 05:35:09.169743 2024-02-13 05:49:09.681175 0 days 00:14:00.511432                  0.652611   \n",
       "27      27        0.357280        0.606567 2024-02-13 05:49:10.540313 2024-02-13 06:00:11.103765 0 days 00:11:00.563452                  0.517237   \n",
       "28      28        0.391387        0.582157 2024-02-13 06:00:11.927917 2024-02-13 06:13:01.840060 0 days 00:12:49.912143                  0.670652   \n",
       "29      29        0.355194        0.614314 2024-02-13 06:13:02.715533 2024-02-13 06:26:33.245217 0 days 00:13:30.529684                  0.785202   \n",
       "\n",
       "    params_colsample_bynode  params_learning_rate  params_max_delta_step  params_max_depth  params_min_child_weight  params_min_split_loss  params_subsample  \\\n",
       "0                  0.611034              0.012489               5.035702                 9                 6.705902               5.097113          0.837417   \n",
       "1                  0.598510              0.004244               3.627402                 4                 7.524141               9.060415          0.930222   \n",
       "2                  0.553138              0.000931               9.350387                 9                 6.864519               4.622671          0.822365   \n",
       "3                  0.711950              0.036443               3.354500                13                 0.640387               0.251710          0.736546   \n",
       "4                  0.533578              0.193726               5.290435                 8                 7.932249               0.638827          0.853340   \n",
       "5                  0.692054              0.718021               8.219028                11                 6.864818               1.274035          0.821630   \n",
       "6                  0.812628              0.101733               9.827028                12                 3.320796               4.932578          0.622028   \n",
       "7                  0.510696              0.000121               5.166970                12                 0.244069               4.749472          0.620393   \n",
       "8                  0.509796              0.010357               1.034110                15                 4.793893               1.719604          0.412073   \n",
       "9                  0.874122              0.000303               7.047180                 1                 8.575491               0.326933          0.897760   \n",
       "10                 0.582087              0.143276               0.074656                11                 9.683349               0.013665          0.986915   \n",
       "11                 0.718371              0.000242               8.546141                14                 7.313969               4.537306          0.769055   \n",
       "12                 0.659437              0.034551               1.081959                13                 4.008506               4.749165          0.719159   \n",
       "13                 0.868822              0.037708               6.331900                 4                 8.058972               0.101454          0.690761   \n",
       "14                 0.625624              0.000115               2.824893                11                 5.672360               7.394496          0.616970   \n",
       "15                 0.811272              0.134297               1.754813                 8                 6.752230               9.105621          0.956640   \n",
       "16                 0.615957              0.001634               0.168275                 5                 6.905918               0.882063          0.411585   \n",
       "17                 0.607458              0.009730               5.846445                13                 7.403698               7.197970          0.748567   \n",
       "18                 0.582256              0.205679               2.778248                 8                 4.007208               0.047983          0.651714   \n",
       "19                 0.989566              0.394348               2.710428                 6                 3.515444               9.489928          0.822929   \n",
       "20                 0.770689              0.001334               2.831506                 7                 4.330067               2.166735          0.972511   \n",
       "21                 0.859803              0.858654               2.117240                10                 9.583542               3.605129          0.883461   \n",
       "22                 0.656057              0.062270               0.650368                10                 4.423521               4.444297          0.834164   \n",
       "23                 0.523226              0.744233               2.556750                 4                 9.379460               8.218492          0.561204   \n",
       "24                 0.555688              0.011508               2.618648                 1                 9.753827               0.454292          0.881585   \n",
       "25                 0.939988              0.319364               4.073423                10                 1.171005               6.249977          0.479531   \n",
       "26                 0.923535              0.405207               4.194920                15                 2.163018               3.196530          0.786694   \n",
       "27                 0.917548              0.573292               1.588832                 2                 5.967775               6.399103          0.941440   \n",
       "28                 0.957937              0.274943               1.169619                10                 2.624425               3.017668          0.790978   \n",
       "29                 0.834037              0.069977               1.981248                 9                 8.838381               6.049831          0.915475   \n",
       "\n",
       "      user_attrs_memo                          system_attrs_fixed_params  system_attrs_nsga2:generation     state  \n",
       "0                 NaN                                                NaN                            0.0  COMPLETE  \n",
       "1                 NaN                                                NaN                            0.0  COMPLETE  \n",
       "2                 NaN                                                NaN                            0.0  COMPLETE  \n",
       "3                 NaN                                                NaN                            0.0  COMPLETE  \n",
       "4                 NaN                                                NaN                            0.0  COMPLETE  \n",
       "5                 NaN                                                NaN                            0.0  COMPLETE  \n",
       "6                 NaN                                                NaN                            0.0  COMPLETE  \n",
       "7                 NaN                                                NaN                            0.0  COMPLETE  \n",
       "8                 NaN                                                NaN                            0.0  COMPLETE  \n",
       "9                 NaN                                                NaN                            0.0  COMPLETE  \n",
       "10   rerun of trial 0  {'learning_rate': 0.14327608105242665, 'min_sp...                            NaN  COMPLETE  \n",
       "11   rerun of trial 2  {'learning_rate': 0.00024153178206203413, 'min...                            NaN  COMPLETE  \n",
       "12   rerun of trial 2  {'learning_rate': 0.03455051467752774, 'min_sp...                            NaN  COMPLETE  \n",
       "13   rerun of trial 3  {'learning_rate': 0.037707559621769894, 'min_s...                            NaN  COMPLETE  \n",
       "14   rerun of trial 4  {'learning_rate': 0.00011459045077338876, 'min...                            NaN  COMPLETE  \n",
       "15   rerun of trial 5  {'learning_rate': 0.13429674717831103, 'min_sp...                            NaN  COMPLETE  \n",
       "16   rerun of trial 6  {'learning_rate': 0.0016335503419290804, 'min_...                            NaN  COMPLETE  \n",
       "17   rerun of trial 7  {'learning_rate': 0.00973038750721373, 'min_sp...                            NaN  COMPLETE  \n",
       "18   rerun of trial 8  {'learning_rate': 0.2056791520124346, 'min_spl...                            NaN  COMPLETE  \n",
       "19   rerun of trial 9  {'learning_rate': 0.39434814432962956, 'min_sp...                            NaN  COMPLETE  \n",
       "20  rerun of trial 10  {'learning_rate': 0.0013344887184684022, 'min_...                            NaN  COMPLETE  \n",
       "21  rerun of trial 12  {'learning_rate': 0.8586535510091051, 'min_spl...                            NaN  COMPLETE  \n",
       "22  rerun of trial 13  {'learning_rate': 0.06227003367608594, 'min_sp...                            NaN  COMPLETE  \n",
       "23  rerun of trial 14  {'learning_rate': 0.7442330152740122, 'min_spl...                            NaN  COMPLETE  \n",
       "24  rerun of trial 11  {'learning_rate': 0.011507708277560936, 'min_s...                            NaN  COMPLETE  \n",
       "25                NaN                                                NaN                            NaN  COMPLETE  \n",
       "26                NaN                                                NaN                            NaN  COMPLETE  \n",
       "27                NaN                                                NaN                            NaN  COMPLETE  \n",
       "28                NaN                                                NaN                            NaN  COMPLETE  \n",
       "29                NaN                                                NaN                            NaN  COMPLETE  "
      ]
     },
     "execution_count": 13,
     "metadata": {},
     "output_type": "execute_result"
    }
   ],
   "source": [
    "# study.trials_dataframe()\n",
    "study_clone.trials_dataframe()"
   ]
  },
  {
   "cell_type": "code",
   "execution_count": null,
   "metadata": {},
   "outputs": [],
   "source": []
  },
  {
   "cell_type": "markdown",
   "metadata": {},
   "source": [
    "# Clone study"
   ]
  },
  {
   "cell_type": "code",
   "execution_count": 18,
   "metadata": {
    "execution": {
     "iopub.execute_input": "2024-02-13T12:39:56.897380Z",
     "iopub.status.busy": "2024-02-13T12:39:56.896870Z",
     "iopub.status.idle": "2024-02-13T12:39:56.941140Z",
     "shell.execute_reply": "2024-02-13T12:39:56.940400Z",
     "shell.execute_reply.started": "2024-02-13T12:39:56.897337Z"
    }
   },
   "outputs": [],
   "source": [
    "from optuna.study import create_study, load_study"
   ]
  },
  {
   "cell_type": "code",
   "execution_count": 10,
   "metadata": {
    "execution": {
     "iopub.execute_input": "2024-02-13T05:22:24.122275Z",
     "iopub.status.busy": "2024-02-13T05:22:24.121771Z",
     "iopub.status.idle": "2024-02-13T05:22:24.167135Z",
     "shell.execute_reply": "2024-02-13T05:22:24.166448Z",
     "shell.execute_reply.started": "2024-02-13T05:22:24.122236Z"
    }
   },
   "outputs": [],
   "source": [
    "storage = \"sqlite:///example.db\"\n",
    "storage_copy = \"sqlite:///example_copy.db\""
   ]
  },
  {
   "cell_type": "code",
   "execution_count": null,
   "metadata": {},
   "outputs": [],
   "source": [
    "study_name=\"classification-study-1\"\n",
    "study_name_copy=\"classification-study-1-clone\""
   ]
  },
  {
   "cell_type": "code",
   "execution_count": 11,
   "metadata": {
    "execution": {
     "iopub.execute_input": "2024-02-13T05:22:27.833617Z",
     "iopub.status.busy": "2024-02-13T05:22:27.833145Z",
     "iopub.status.idle": "2024-02-13T05:22:27.922680Z",
     "shell.execute_reply": "2024-02-13T05:22:27.921503Z",
     "shell.execute_reply.started": "2024-02-13T05:22:27.833578Z"
    }
   },
   "outputs": [
    {
     "name": "stderr",
     "output_type": "stream",
     "text": [
      "/tmp/ipykernel_2240167/462145580.py:9: ExperimentalWarning: RetryFailedTrialCallback is experimental (supported from v2.8.0). The interface can change in the future.\n",
      "  failed_trial_callback=RetryFailedTrialCallback(max_retry=3),\n"
     ]
    },
    {
     "data": {
      "text/plain": [
       "<optuna.storages._rdb.storage.RDBStorage at 0x7fee65f65250>"
      ]
     },
     "execution_count": 11,
     "metadata": {},
     "output_type": "execute_result"
    }
   ],
   "source": [
    "## https://optuna.readthedocs.io/en/stable/reference/generated/optuna.storages.RetryFailedTrialCallback.html\n",
    "\n",
    "from optuna.storages import RetryFailedTrialCallback\n",
    "\n",
    "storage_instance = optuna.storages.RDBStorage(\n",
    "    url=storage_copy,\n",
    "    heartbeat_interval=60,\n",
    "    grace_period=120,\n",
    "    failed_trial_callback=RetryFailedTrialCallback(max_retry=3),\n",
    ")\n",
    "storage_instance"
   ]
  },
  {
   "cell_type": "code",
   "execution_count": 15,
   "metadata": {
    "execution": {
     "iopub.execute_input": "2024-02-13T12:39:47.985020Z",
     "iopub.status.busy": "2024-02-13T12:39:47.984693Z",
     "iopub.status.idle": "2024-02-13T12:39:48.029360Z",
     "shell.execute_reply": "2024-02-13T12:39:48.028455Z",
     "shell.execute_reply.started": "2024-02-13T12:39:47.984997Z"
    }
   },
   "outputs": [],
   "source": [
    "from_storage = storage_instance\n",
    "to_storage = storage_instance\n",
    "from_study_name = \"classification-study-1\"\n",
    "to_study_name = \"classification-study-1-clone\""
   ]
  },
  {
   "cell_type": "code",
   "execution_count": 19,
   "metadata": {
    "execution": {
     "iopub.execute_input": "2024-02-13T12:39:59.842479Z",
     "iopub.status.busy": "2024-02-13T12:39:59.841933Z",
     "iopub.status.idle": "2024-02-13T12:39:59.889884Z",
     "shell.execute_reply": "2024-02-13T12:39:59.889039Z",
     "shell.execute_reply.started": "2024-02-13T12:39:59.842435Z"
    }
   },
   "outputs": [],
   "source": [
    "from_study = load_study(study_name=from_study_name, storage=storage_instance)"
   ]
  },
  {
   "cell_type": "code",
   "execution_count": 20,
   "metadata": {
    "execution": {
     "iopub.execute_input": "2024-02-13T12:40:01.217692Z",
     "iopub.status.busy": "2024-02-13T12:40:01.217203Z",
     "iopub.status.idle": "2024-02-13T12:40:01.325199Z",
     "shell.execute_reply": "2024-02-13T12:40:01.324157Z",
     "shell.execute_reply.started": "2024-02-13T12:40:01.217650Z"
    }
   },
   "outputs": [
    {
     "name": "stdout",
     "output_type": "stream",
     "text": [
      " classification-study-1  study history\n",
      "\n",
      "                start     -   completion      status        validation metrics\n",
      " trial#         time      -      time          code      roc_auc        logloss\n",
      "--------------------------------------------------------------------------------\n",
      "Trial #: 0    2024-02-04   00:48:09 - 00:54:05    3          *** FAILED ***        \n",
      "Trial #: 1    2024-02-04   01:15:51 - 01:40:09    1      0.92354        0.20999    \n",
      "Trial #: 2    2024-02-04   10:36:45 - 12:28:29    1      0.82900        0.34993    \n",
      "Trial #: 3    2024-02-04   14:50:22 - 15:11:49    1      0.77843        0.32556    \n",
      "Trial #: 4    2024-02-04   15:11:50 - 16:04:43    1      0.71748        0.36995    \n",
      "Trial #: 5    2024-02-04   16:04:44 - 16:25:30    1      0.84788        0.29725    \n",
      "Trial #: 6    2024-02-04   16:25:30 - 16:55:59    1      0.62604        0.36119    \n",
      "Trial #: 7    2024-02-04   18:06:45 - 18:29:19    3          *** FAILED ***        \n",
      "Trial #: 8    2024-02-04   23:09:09 - 23:29:46    1      0.87990        0.22771    \n",
      "Trial #: 9    2024-02-04   23:29:47 - 23:50:19    1      0.81107        0.29039    \n",
      "Trial #: 10   2024-02-04   23:50:20 - 00:25:00    1      0.74011        0.33991    \n",
      "Trial #: 11   2024-02-05   00:25:00 - 00:49:35    1      0.62052        0.35998    \n",
      "Trial #: 12   2024-02-05   00:49:36 - 01:11:06    1      0.89875        0.18483    \n",
      "Trial #: 13   2024-02-05   01:11:06 - 01:34:06    1      0.91712        0.22948    \n",
      "Trial #: 14   2024-02-11   13:58:16 - 13:58:19    3          *** FAILED ***        \n",
      "Trial #: 15   2024-02-11   14:02:58 - 14:03:01    3          *** FAILED ***        \n",
      "Trial #: 16   2024-02-11   14:05:19 - 14:58:10    3          *** FAILED ***        \n",
      "Trial #: 17   2024-02-11   15:31:07 - 16:38:29    1      0.62593        0.35270    \n",
      "Trial #: 18   2024-02-11   21:49:10 - 21:50:24    3          *** FAILED ***        \n",
      "Trial #: 19   2024-02-11   21:50:47 - 22:14:47    1      0.60966        0.35607    \n",
      "Trial #: 20   2024-02-11   23:21:11 - 00:01:20    1      0.61561        0.36063    \n",
      "Trial #: 21   2024-02-12   00:01:21 - 00:39:17    1      0.60933        0.35866    \n",
      "Trial #: 22   2024-02-12   00:39:18 - 00:56:58    1      0.59683        0.36285    \n",
      "Trial #: 23   2024-02-12   00:56:59 - 01:10:47    3          *** FAILED ***        \n",
      "Trial #: 24   2024-02-12   01:48:06 - 01:48:12    3          *** FAILED ***        \n",
      "Trial #: 25   2024-02-12   01:55:54 - 02:12:44    1      0.55990        0.56057    \n",
      "Trial #: 26   2024-02-12   02:12:45 - 02:29:49    1      0.59509        0.36394    \n",
      "Trial #: 27   2024-02-12   02:29:50 - 03:59:12    1      0.61147        0.37472    \n",
      "Trial #: 28   2024-02-12   03:59:13 - 04:49:11    1      0.61664        0.35477    \n",
      "Trial #: 29   2024-02-12   04:49:12 - 05:08:23    1      0.52726        0.37212    \n",
      "Trial #: 30   2024-02-12   14:00:38 - 14:26:29    1      0.62208        0.35362    rerun of trial 0\n",
      "Trial #: 31   2024-02-12   14:31:23 - 14:44:16    3          *** FAILED ***        rerun of trial 1\n",
      "Trial #: 32   2024-02-12   15:13:15 - 16:55:58    1      0.61050        0.37124    rerun of trial 2\n",
      "Trial #: 33   2024-02-12   16:55:59 - 17:23:19    1      0.61534        0.35553    rerun of trial 2\n",
      "Trial #: 34   2024-02-12   19:46:39 - 20:04:52    1      0.62132        0.35329    rerun of trial 3\n",
      "Trial #: 35   2024-02-12   20:04:53 - 20:51:04    1      0.60952        0.37508    rerun of trial 4\n",
      "Trial #: 36   2024-02-12   20:51:05 - 21:03:13    1      0.60955        0.35581    rerun of trial 5\n",
      "Trial #: 37   2024-02-12   21:03:14 - 21:21:57    1      0.54904        0.36606    rerun of trial 6\n",
      "Trial #: 38   2024-02-12   21:33:09 - 22:13:52    1      0.62365        0.35322    rerun of trial 7\n",
      "Trial #: 39   2024-02-12   22:13:52 - 22:25:39    1      0.58913        0.36734    rerun of trial 8\n",
      "Trial #: 40   2024-02-12   22:25:40 - 22:36:49    1      0.59105        0.36808    rerun of trial 9\n",
      "Trial #: 41   2024-02-12   22:36:50 - 23:05:05    1      0.60879        0.35860    rerun of trial 10\n",
      "Trial #: 42   2024-02-12   23:43:56 - 00:04:08    3          *** FAILED ***        rerun of trial 11\n",
      "Trial #: 43   2024-02-13   04:22:59 - 04:34:36    1      0.55585        0.57369    rerun of trial 12\n",
      "Trial #: 44   2024-02-13   04:34:37 - 04:49:42    1      0.61422        0.35551    rerun of trial 13\n",
      "Trial #: 45   2024-02-13   04:49:43 - 05:00:23    1      0.58133        0.38038    rerun of trial 14\n",
      "Trial #: 46   2024-02-13   05:00:23 - 05:15:50    1      0.59614        0.35925    rerun of trial 11\n",
      "Trial #: 47   2024-02-13   05:23:23 - 05:35:08    1      0.56613        0.41619    \n",
      "Trial #: 48   2024-02-13   05:35:09 - 05:49:09    1      0.56828        0.43065    \n",
      "Trial #: 49   2024-02-13   05:49:10 - 06:00:11    1      0.60657        0.35728    \n",
      "Trial #: 50   2024-02-13   06:00:11 - 06:13:01    1      0.58216        0.39139    \n",
      "Trial #: 51   2024-02-13   06:13:02 - 06:26:33    1      0.61431        0.35519    \n",
      "Trial #: 52   2024-02-13   06:32:02 - 07:26:32    1      0.62248        0.35331    \n",
      "Trial #: 53   2024-02-13   07:26:33 - 07:46:11    1      0.62233        0.35339    \n",
      "Trial #: 54   2024-02-13   07:46:12 - 07:59:04    1      0.55335        0.58426    \n",
      "Trial #: 55   2024-02-13   07:59:05 - 08:10:18    1      0.57281        0.40450    \n",
      "Trial #: 56   2024-02-13   08:10:20 - 08:21:40    1      0.56731        0.40014    \n",
      "Trial #: 57   2024-02-13   11:49:46 - 12:08:05    1      0.60925        0.35635    \n",
      "Trial #: 58   2024-02-13   12:08:06 - 12:20:26    1      0.58370        0.37018    \n",
      "Trial #: 59   2024-02-13   12:20:27 - 12:32:04    1      0.55849        0.46500    \n",
      "Trial #: 60   2024-02-13   12:32:04 - 13:14:32    1      0.61240        0.36259    \n",
      "Trial #: 61   2024-02-13   13:14:32 - 13:27:24    1      0.55885        0.44736    \n",
      " *** end of trials *** \n",
      " Best trials:  [1, 12]\n"
     ]
    }
   ],
   "source": [
    "disp_study_history(from_study)"
   ]
  },
  {
   "cell_type": "code",
   "execution_count": 21,
   "metadata": {
    "execution": {
     "iopub.execute_input": "2024-02-13T12:40:24.450418Z",
     "iopub.status.busy": "2024-02-13T12:40:24.449777Z",
     "iopub.status.idle": "2024-02-13T12:40:24.500307Z",
     "shell.execute_reply": "2024-02-13T12:40:24.499587Z",
     "shell.execute_reply.started": "2024-02-13T12:40:24.450376Z"
    }
   },
   "outputs": [],
   "source": [
    "to_study = load_study(study_name=study_name_clone, storage=storage_instance)"
   ]
  },
  {
   "cell_type": "code",
   "execution_count": 22,
   "metadata": {
    "execution": {
     "iopub.execute_input": "2024-02-13T12:40:24.663552Z",
     "iopub.status.busy": "2024-02-13T12:40:24.663019Z",
     "iopub.status.idle": "2024-02-13T12:40:24.738785Z",
     "shell.execute_reply": "2024-02-13T12:40:24.738134Z",
     "shell.execute_reply.started": "2024-02-13T12:40:24.663512Z"
    }
   },
   "outputs": [
    {
     "name": "stdout",
     "output_type": "stream",
     "text": [
      " classification-study-1-clone  study history\n",
      "\n",
      "                start     -   completion      status        validation metrics\n",
      " trial#         time      -      time          code      roc_auc        logloss\n",
      "--------------------------------------------------------------------------------\n",
      "Trial #: 0    2024-02-11   15:31:07 - 16:38:29    1      0.62593        0.35270    \n",
      "Trial #: 1    2024-02-11   21:50:47 - 22:14:47    1      0.60966        0.35607    \n",
      "Trial #: 2    2024-02-11   23:21:11 - 00:01:20    1      0.61561        0.36063    \n",
      "Trial #: 3    2024-02-12   00:01:21 - 00:39:17    1      0.60933        0.35866    \n",
      "Trial #: 4    2024-02-12   00:39:18 - 00:56:58    1      0.59683        0.36285    \n",
      "Trial #: 5    2024-02-12   01:55:54 - 02:12:44    1      0.55990        0.56057    \n",
      "Trial #: 6    2024-02-12   02:12:45 - 02:29:49    1      0.59509        0.36394    \n",
      "Trial #: 7    2024-02-12   02:29:50 - 03:59:12    1      0.61147        0.37472    \n",
      "Trial #: 8    2024-02-12   03:59:13 - 04:49:11    1      0.61664        0.35477    \n",
      "Trial #: 9    2024-02-12   04:49:12 - 05:08:23    1      0.52726        0.37212    \n",
      "Trial #: 10   2024-02-12   14:00:38 - 14:26:29    1      0.62208        0.35362    rerun of trial 0\n",
      "Trial #: 11   2024-02-12   15:13:15 - 16:55:58    1      0.61050        0.37124    rerun of trial 2\n",
      "Trial #: 12   2024-02-12   16:55:59 - 17:23:19    1      0.61534        0.35553    rerun of trial 2\n",
      "Trial #: 13   2024-02-12   19:46:39 - 20:04:52    1      0.62132        0.35329    rerun of trial 3\n",
      "Trial #: 14   2024-02-12   20:04:53 - 20:51:04    1      0.60952        0.37508    rerun of trial 4\n",
      "Trial #: 15   2024-02-12   20:51:05 - 21:03:13    1      0.60955        0.35581    rerun of trial 5\n",
      "Trial #: 16   2024-02-12   21:03:14 - 21:21:57    1      0.54904        0.36606    rerun of trial 6\n",
      "Trial #: 17   2024-02-12   21:33:09 - 22:13:52    1      0.62365        0.35322    rerun of trial 7\n",
      "Trial #: 18   2024-02-12   22:13:52 - 22:25:39    1      0.58913        0.36734    rerun of trial 8\n",
      "Trial #: 19   2024-02-12   22:25:40 - 22:36:49    1      0.59105        0.36808    rerun of trial 9\n",
      "Trial #: 20   2024-02-12   22:36:50 - 23:05:05    1      0.60879        0.35860    rerun of trial 10\n",
      "Trial #: 21   2024-02-13   04:22:59 - 04:34:36    1      0.55585        0.57369    rerun of trial 12\n",
      "Trial #: 22   2024-02-13   04:34:37 - 04:49:42    1      0.61422        0.35551    rerun of trial 13\n",
      "Trial #: 23   2024-02-13   04:49:43 - 05:00:23    1      0.58133        0.38038    rerun of trial 14\n",
      "Trial #: 24   2024-02-13   05:00:23 - 05:15:50    1      0.59614        0.35925    rerun of trial 11\n",
      "Trial #: 25   2024-02-13   05:23:23 - 05:35:08    1      0.56613        0.41619    \n",
      "Trial #: 26   2024-02-13   05:35:09 - 05:49:09    1      0.56828        0.43065    \n",
      "Trial #: 27   2024-02-13   05:49:10 - 06:00:11    1      0.60657        0.35728    \n",
      "Trial #: 28   2024-02-13   06:00:11 - 06:13:01    1      0.58216        0.39139    \n",
      "Trial #: 29   2024-02-13   06:13:02 - 06:26:33    1      0.61431        0.35519    \n",
      " *** end of trials *** \n",
      " Best trials:  [0]\n"
     ]
    }
   ],
   "source": [
    "disp_study_history(to_study)"
   ]
  },
  {
   "cell_type": "markdown",
   "metadata": {},
   "source": [
    "####  Create a new study (to copy over to)"
   ]
  },
  {
   "cell_type": "code",
   "execution_count": 23,
   "metadata": {
    "execution": {
     "iopub.execute_input": "2024-02-13T12:40:29.867064Z",
     "iopub.status.busy": "2024-02-13T12:40:29.866520Z",
     "iopub.status.idle": "2024-02-13T12:40:29.907065Z",
     "shell.execute_reply": "2024-02-13T12:40:29.906410Z",
     "shell.execute_reply.started": "2024-02-13T12:40:29.867023Z"
    }
   },
   "outputs": [],
   "source": [
    "# to_study = create_study(\n",
    "#     study_name=to_study_name ,\n",
    "#     storage=to_storage,\n",
    "#     directions=from_study.directions,\n",
    "#     load_if_exists=False,\n",
    "# )"
   ]
  },
  {
   "cell_type": "markdown",
   "metadata": {},
   "source": [
    "  ##### Copy system attributes"
   ]
  },
  {
   "cell_type": "code",
   "execution_count": 24,
   "metadata": {
    "execution": {
     "iopub.execute_input": "2024-02-13T12:40:34.744242Z",
     "iopub.status.busy": "2024-02-13T12:40:34.743680Z",
     "iopub.status.idle": "2024-02-13T12:40:34.809461Z",
     "shell.execute_reply": "2024-02-13T12:40:34.808409Z",
     "shell.execute_reply.started": "2024-02-13T12:40:34.744200Z"
    }
   },
   "outputs": [],
   "source": [
    "# for key, value in from_study._storage.get_study_system_attrs(from_study._study_id).items():\n",
    "#     to_study._storage.set_study_system_attr(to_study._study_id, key, value)"
   ]
  },
  {
   "cell_type": "markdown",
   "metadata": {},
   "source": [
    "  ##### Copy user attributes"
   ]
  },
  {
   "cell_type": "code",
   "execution_count": 25,
   "metadata": {
    "execution": {
     "iopub.execute_input": "2024-02-13T12:40:37.627073Z",
     "iopub.status.busy": "2024-02-13T12:40:37.626529Z",
     "iopub.status.idle": "2024-02-13T12:40:37.669007Z",
     "shell.execute_reply": "2024-02-13T12:40:37.668274Z",
     "shell.execute_reply.started": "2024-02-13T12:40:37.627031Z"
    }
   },
   "outputs": [],
   "source": [
    "# for key, value in from_study.user_attrs.items():\n",
    "#     to_study.set_user_attr(key, value)"
   ]
  },
  {
   "cell_type": "code",
   "execution_count": 23,
   "metadata": {
    "execution": {
     "iopub.execute_input": "2024-02-13T05:27:04.492843Z",
     "iopub.status.busy": "2024-02-13T05:27:04.492369Z",
     "iopub.status.idle": "2024-02-13T05:27:04.527216Z",
     "shell.execute_reply": "2024-02-13T05:27:04.526567Z",
     "shell.execute_reply.started": "2024-02-13T05:27:04.492803Z"
    }
   },
   "outputs": [],
   "source": [
    "# disp_study_history(from_study)"
   ]
  },
  {
   "cell_type": "markdown",
   "metadata": {},
   "source": [
    "#### Get trials from source study (to copy over)"
   ]
  },
  {
   "cell_type": "code",
   "execution_count": 26,
   "metadata": {
    "execution": {
     "iopub.execute_input": "2024-02-13T12:40:42.689304Z",
     "iopub.status.busy": "2024-02-13T12:40:42.688813Z",
     "iopub.status.idle": "2024-02-13T12:40:42.738460Z",
     "shell.execute_reply": "2024-02-13T12:40:42.737896Z",
     "shell.execute_reply.started": "2024-02-13T12:40:42.689262Z"
    }
   },
   "outputs": [
    {
     "data": {
      "text/plain": [
       "62"
      ]
     },
     "execution_count": 26,
     "metadata": {},
     "output_type": "execute_result"
    },
    {
     "data": {
      "text/plain": [
       "list"
      ]
     },
     "execution_count": 26,
     "metadata": {},
     "output_type": "execute_result"
    }
   ],
   "source": [
    "# Trials are deep copied on `add_trials`.\n",
    "from_trials = from_study.get_trials(deepcopy=False)\n",
    "len(from_trials)\n",
    "type(from_trials)"
   ]
  },
  {
   "cell_type": "code",
   "execution_count": 27,
   "metadata": {
    "execution": {
     "iopub.execute_input": "2024-02-13T12:41:05.322783Z",
     "iopub.status.busy": "2024-02-13T12:41:05.322285Z",
     "iopub.status.idle": "2024-02-13T12:41:05.368289Z",
     "shell.execute_reply": "2024-02-13T12:41:05.367235Z",
     "shell.execute_reply.started": "2024-02-13T12:41:05.322739Z"
    }
   },
   "outputs": [
    {
     "data": {
      "text/plain": [
       "10"
      ]
     },
     "execution_count": 27,
     "metadata": {},
     "output_type": "execute_result"
    }
   ],
   "source": [
    "copy_trials = from_trials[52:62]\n",
    "len(copy_trials)"
   ]
  },
  {
   "cell_type": "code",
   "execution_count": 28,
   "metadata": {
    "execution": {
     "iopub.execute_input": "2024-02-13T12:41:14.126569Z",
     "iopub.status.busy": "2024-02-13T12:41:14.126082Z",
     "iopub.status.idle": "2024-02-13T12:41:14.839490Z",
     "shell.execute_reply": "2024-02-13T12:41:14.838382Z",
     "shell.execute_reply.started": "2024-02-13T12:41:14.126526Z"
    }
   },
   "outputs": [],
   "source": [
    "# Trials are deep copied on `add_trials`.\n",
    "to_study.add_trials(copy_trials)"
   ]
  },
  {
   "cell_type": "code",
   "execution_count": 37,
   "metadata": {
    "execution": {
     "iopub.execute_input": "2024-02-13T03:58:19.919495Z",
     "iopub.status.busy": "2024-02-13T03:58:19.919006Z",
     "iopub.status.idle": "2024-02-13T03:58:19.957529Z",
     "shell.execute_reply": "2024-02-13T03:58:19.956713Z",
     "shell.execute_reply.started": "2024-02-13T03:58:19.919455Z"
    }
   },
   "outputs": [],
   "source": [
    "# Trials are deep copied on `add_trials`.\n",
    "# to_study.add_trials(from_study.get_trials(deepcopy=False))"
   ]
  },
  {
   "cell_type": "code",
   "execution_count": 29,
   "metadata": {
    "execution": {
     "iopub.execute_input": "2024-02-13T12:41:17.870048Z",
     "iopub.status.busy": "2024-02-13T12:41:17.869538Z",
     "iopub.status.idle": "2024-02-13T12:41:17.930601Z",
     "shell.execute_reply": "2024-02-13T12:41:17.929714Z",
     "shell.execute_reply.started": "2024-02-13T12:41:17.870006Z"
    }
   },
   "outputs": [
    {
     "name": "stdout",
     "output_type": "stream",
     "text": [
      " classification-study-1-clone  study history\n",
      "\n",
      "                start     -   completion      status        validation metrics\n",
      " trial#         time      -      time          code      roc_auc        logloss\n",
      "--------------------------------------------------------------------------------\n",
      "Trial #: 0    2024-02-11   15:31:07 - 16:38:29    1      0.62593        0.35270    \n",
      "Trial #: 1    2024-02-11   21:50:47 - 22:14:47    1      0.60966        0.35607    \n",
      "Trial #: 2    2024-02-11   23:21:11 - 00:01:20    1      0.61561        0.36063    \n",
      "Trial #: 3    2024-02-12   00:01:21 - 00:39:17    1      0.60933        0.35866    \n",
      "Trial #: 4    2024-02-12   00:39:18 - 00:56:58    1      0.59683        0.36285    \n",
      "Trial #: 5    2024-02-12   01:55:54 - 02:12:44    1      0.55990        0.56057    \n",
      "Trial #: 6    2024-02-12   02:12:45 - 02:29:49    1      0.59509        0.36394    \n",
      "Trial #: 7    2024-02-12   02:29:50 - 03:59:12    1      0.61147        0.37472    \n",
      "Trial #: 8    2024-02-12   03:59:13 - 04:49:11    1      0.61664        0.35477    \n",
      "Trial #: 9    2024-02-12   04:49:12 - 05:08:23    1      0.52726        0.37212    \n",
      "Trial #: 10   2024-02-12   14:00:38 - 14:26:29    1      0.62208        0.35362    rerun of trial 0\n",
      "Trial #: 11   2024-02-12   15:13:15 - 16:55:58    1      0.61050        0.37124    rerun of trial 2\n",
      "Trial #: 12   2024-02-12   16:55:59 - 17:23:19    1      0.61534        0.35553    rerun of trial 2\n",
      "Trial #: 13   2024-02-12   19:46:39 - 20:04:52    1      0.62132        0.35329    rerun of trial 3\n",
      "Trial #: 14   2024-02-12   20:04:53 - 20:51:04    1      0.60952        0.37508    rerun of trial 4\n",
      "Trial #: 15   2024-02-12   20:51:05 - 21:03:13    1      0.60955        0.35581    rerun of trial 5\n",
      "Trial #: 16   2024-02-12   21:03:14 - 21:21:57    1      0.54904        0.36606    rerun of trial 6\n",
      "Trial #: 17   2024-02-12   21:33:09 - 22:13:52    1      0.62365        0.35322    rerun of trial 7\n",
      "Trial #: 18   2024-02-12   22:13:52 - 22:25:39    1      0.58913        0.36734    rerun of trial 8\n",
      "Trial #: 19   2024-02-12   22:25:40 - 22:36:49    1      0.59105        0.36808    rerun of trial 9\n",
      "Trial #: 20   2024-02-12   22:36:50 - 23:05:05    1      0.60879        0.35860    rerun of trial 10\n",
      "Trial #: 21   2024-02-13   04:22:59 - 04:34:36    1      0.55585        0.57369    rerun of trial 12\n",
      "Trial #: 22   2024-02-13   04:34:37 - 04:49:42    1      0.61422        0.35551    rerun of trial 13\n",
      "Trial #: 23   2024-02-13   04:49:43 - 05:00:23    1      0.58133        0.38038    rerun of trial 14\n",
      "Trial #: 24   2024-02-13   05:00:23 - 05:15:50    1      0.59614        0.35925    rerun of trial 11\n",
      "Trial #: 25   2024-02-13   05:23:23 - 05:35:08    1      0.56613        0.41619    \n",
      "Trial #: 26   2024-02-13   05:35:09 - 05:49:09    1      0.56828        0.43065    \n",
      "Trial #: 27   2024-02-13   05:49:10 - 06:00:11    1      0.60657        0.35728    \n",
      "Trial #: 28   2024-02-13   06:00:11 - 06:13:01    1      0.58216        0.39139    \n",
      "Trial #: 29   2024-02-13   06:13:02 - 06:26:33    1      0.61431        0.35519    \n",
      "Trial #: 30   2024-02-13   06:32:02 - 07:26:32    1      0.62248        0.35331    \n",
      "Trial #: 31   2024-02-13   07:26:33 - 07:46:11    1      0.62233        0.35339    \n",
      "Trial #: 32   2024-02-13   07:46:12 - 07:59:04    1      0.55335        0.58426    \n",
      "Trial #: 33   2024-02-13   07:59:05 - 08:10:18    1      0.57281        0.40450    \n",
      "Trial #: 34   2024-02-13   08:10:20 - 08:21:40    1      0.56731        0.40014    \n",
      "Trial #: 35   2024-02-13   11:49:46 - 12:08:05    1      0.60925        0.35635    \n",
      "Trial #: 36   2024-02-13   12:08:06 - 12:20:26    1      0.58370        0.37018    \n",
      "Trial #: 37   2024-02-13   12:20:27 - 12:32:04    1      0.55849        0.46500    \n",
      "Trial #: 38   2024-02-13   12:32:04 - 13:14:32    1      0.61240        0.36259    \n",
      "Trial #: 39   2024-02-13   13:14:32 - 13:27:24    1      0.55885        0.44736    \n",
      " *** end of trials *** \n",
      " Best trials:  [0]\n"
     ]
    }
   ],
   "source": [
    "disp_study_history(to_study)"
   ]
  },
  {
   "cell_type": "code",
   "execution_count": null,
   "metadata": {},
   "outputs": [],
   "source": []
  },
  {
   "cell_type": "markdown",
   "metadata": {
    "jp-MarkdownHeadingCollapsed": true
   },
   "source": [
    "# Optuna trying to copy /delete trials from study"
   ]
  },
  {
   "cell_type": "code",
   "execution_count": null,
   "metadata": {
    "execution": {
     "iopub.execute_input": "2024-02-13T03:39:20.157716Z",
     "iopub.status.busy": "2024-02-13T03:39:20.157194Z",
     "iopub.status.idle": "2024-02-13T03:39:21.545609Z",
     "shell.execute_reply": "2024-02-13T03:39:21.544727Z",
     "shell.execute_reply.started": "2024-02-13T03:39:20.157672Z"
    }
   },
   "outputs": [],
   "source": [
    "study_name=\"classification-study-1\"\n",
    "storage = \"sqlite:///example.db\"\n",
    "study_name_copy=\"classification-study-1-copy\"\n",
    "storage_copy = \"sqlite:///example_copy.db\""
   ]
  },
  {
   "cell_type": "code",
   "execution_count": null,
   "metadata": {
    "execution": {
     "iopub.execute_input": "2024-02-13T03:39:20.157716Z",
     "iopub.status.busy": "2024-02-13T03:39:20.157194Z",
     "iopub.status.idle": "2024-02-13T03:39:21.545609Z",
     "shell.execute_reply": "2024-02-13T03:39:21.544727Z",
     "shell.execute_reply.started": "2024-02-13T03:39:20.157672Z"
    }
   },
   "outputs": [],
   "source": [
    "## https://optuna.readthedocs.io/en/stable/reference/generated/optuna.storages.RetryFailedTrialCallback.html\n",
    "\n",
    "from optuna.storages import RetryFailedTrialCallback\n",
    "\n",
    "storage_instance = optuna.storages.RDBStorage(\n",
    "    url=storage_copy,\n",
    "    heartbeat_interval=60,\n",
    "    grace_period=120,\n",
    "    failed_trial_callback=RetryFailedTrialCallback(max_retry=3),\n",
    ")\n",
    "storage_instance"
   ]
  },
  {
   "cell_type": "code",
   "execution_count": 91,
   "metadata": {
    "execution": {
     "iopub.execute_input": "2024-02-12T12:14:23.025525Z",
     "iopub.status.busy": "2024-02-12T12:14:23.024475Z",
     "iopub.status.idle": "2024-02-12T12:14:23.136837Z",
     "shell.execute_reply": "2024-02-12T12:14:23.135979Z",
     "shell.execute_reply.started": "2024-02-12T12:14:23.025473Z"
    }
   },
   "outputs": [],
   "source": [
    "# optuna.copy_study(\n",
    "#     from_study_name=study_name,\n",
    "#     from_storage=\"sqlite:///example.db\",\n",
    "#     to_storage=\"sqlite:///example_copy.db\",\n",
    "# )\n",
    "# study = optuna.load_study(storage=\"sqlite:///example_copy.db\",\n",
    "                            # study_name=\"classification-study-1-copy\",)\n",
    "\n",
    "study = optuna.load_study(study_name = study_name_copy, \n",
    "                          storage = storage_instance)\n"
   ]
  },
  {
   "cell_type": "code",
   "execution_count": 92,
   "metadata": {
    "execution": {
     "iopub.execute_input": "2024-02-12T12:14:24.118428Z",
     "iopub.status.busy": "2024-02-12T12:14:24.117998Z",
     "iopub.status.idle": "2024-02-12T12:14:24.269821Z",
     "shell.execute_reply": "2024-02-12T12:14:24.268754Z",
     "shell.execute_reply.started": "2024-02-12T12:14:24.118393Z"
    },
    "lines_to_next_cell": 2
   },
   "outputs": [
    {
     "name": "stdout",
     "output_type": "stream",
     "text": [
      " classification-study-1-copy  study history\n",
      "\n",
      "            status        validation metrics\n"
     ]
    },
    {
     "ename": "TypeError",
     "evalue": "'NoneType' object is not subscriptable",
     "output_type": "error",
     "traceback": [
      "\u001b[0;31m---------------------------------------------------------------------------\u001b[0m",
      "\u001b[0;31mTypeError\u001b[0m                                 Traceback (most recent call last)",
      "Cell \u001b[0;32mIn[92], line 1\u001b[0m\n\u001b[0;32m----> 1\u001b[0m \u001b[43mdisp_study_history\u001b[49m\u001b[43m(\u001b[49m\u001b[43mstudy\u001b[49m\u001b[43m)\u001b[49m\n",
      "File \u001b[0;32m~/WSL-shared/Cellpainting/cj-datasets/utils_cellpainting.py:345\u001b[0m, in \u001b[0;36mdisp_study_history\u001b[0;34m(study)\u001b[0m\n\u001b[1;32m    342\u001b[0m \u001b[38;5;28mprint\u001b[39m(\u001b[38;5;124mf\u001b[39m\u001b[38;5;124m\"\u001b[39m\u001b[38;5;124m \u001b[39m\u001b[38;5;132;01m{\u001b[39;00mstudy\u001b[38;5;241m.\u001b[39mstudy_name\u001b[38;5;132;01m}\u001b[39;00m\u001b[38;5;124m  study history\u001b[39m\u001b[38;5;130;01m\\n\u001b[39;00m\u001b[38;5;124m\"\u001b[39m)\n\u001b[1;32m    344\u001b[0m \u001b[38;5;28mprint\u001b[39m(\u001b[38;5;124mf\u001b[39m\u001b[38;5;124m\"\u001b[39m\u001b[38;5;124m            status        validation metrics\u001b[39m\u001b[38;5;124m\"\u001b[39m)\n\u001b[0;32m--> 345\u001b[0m \u001b[38;5;28mprint\u001b[39m(\u001b[38;5;124mf\u001b[39m\u001b[38;5;124m\"\u001b[39m\u001b[38;5;124m trial#      code       \u001b[39m\u001b[38;5;132;01m{\u001b[39;00m\u001b[43mstudy\u001b[49m\u001b[38;5;241;43m.\u001b[39;49m\u001b[43mmetric_names\u001b[49m\u001b[43m[\u001b[49m\u001b[38;5;241;43m0\u001b[39;49m\u001b[43m]\u001b[49m\u001b[38;5;132;01m}\u001b[39;00m\u001b[38;5;124m        \u001b[39m\u001b[38;5;132;01m{\u001b[39;00mstudy\u001b[38;5;241m.\u001b[39mmetric_names[\u001b[38;5;241m1\u001b[39m]\u001b[38;5;132;01m}\u001b[39;00m\u001b[38;5;124m\"\u001b[39m)\n\u001b[1;32m    346\u001b[0m \u001b[38;5;28mprint\u001b[39m(\u001b[38;5;124m\"\u001b[39m\u001b[38;5;124m-\u001b[39m\u001b[38;5;124m\"\u001b[39m\u001b[38;5;241m*\u001b[39m\u001b[38;5;241m50\u001b[39m)\n\u001b[1;32m    347\u001b[0m \u001b[38;5;28;01mfor\u001b[39;00m st \u001b[38;5;129;01min\u001b[39;00m study\u001b[38;5;241m.\u001b[39mtrials:\n",
      "\u001b[0;31mTypeError\u001b[0m: 'NoneType' object is not subscriptable"
     ]
    }
   ],
   "source": [
    "disp_study_history(study)"
   ]
  },
  {
   "cell_type": "code",
   "execution_count": 87,
   "metadata": {
    "execution": {
     "iopub.execute_input": "2024-02-12T12:12:37.475140Z",
     "iopub.status.busy": "2024-02-12T12:12:37.473587Z",
     "iopub.status.idle": "2024-02-12T12:12:37.545964Z",
     "shell.execute_reply": "2024-02-12T12:12:37.545291Z",
     "shell.execute_reply.started": "2024-02-12T12:12:37.475089Z"
    }
   },
   "outputs": [
    {
     "data": {
      "text/plain": [
       "29"
      ]
     },
     "execution_count": 87,
     "metadata": {},
     "output_type": "execute_result"
    }
   ],
   "source": [
    "ho_study_name = \"classification-study-1-copy\"\n",
    "ho_storage_name = storage_copy\n",
    "ho_trials_to_delete = [0,7,14]\n",
    "\n",
    "num_trials = study.trials[-1].number\n",
    "num_trials_to_keep = 50\n",
    "\n",
    "num_trials"
   ]
  },
  {
   "cell_type": "code",
   "execution_count": 67,
   "metadata": {
    "execution": {
     "iopub.execute_input": "2024-02-12T11:55:04.100640Z",
     "iopub.status.busy": "2024-02-12T11:55:04.100134Z",
     "iopub.status.idle": "2024-02-12T11:55:04.152720Z",
     "shell.execute_reply": "2024-02-12T11:55:04.151802Z",
     "shell.execute_reply.started": "2024-02-12T11:55:04.100597Z"
    }
   },
   "outputs": [
    {
     "data": {
      "text/plain": [
       "FrozenTrial(number=0, state=3, values=None, datetime_start=datetime.datetime(2024, 2, 4, 0, 48, 9, 793433), datetime_complete=datetime.datetime(2024, 2, 4, 0, 54, 5, 488762), params={'learning_rate': 0.14327608105242665, 'min_split_loss': 0.013665061540799606, 'max_depth': 11, 'min_child_weight': 9.683348905910576, 'max_delta_step': 0.0746562549161478, 'subsample': 0.9869150345493672, 'colsample_bylevel': 0.5856183883769744, 'colsample_bynode': 0.5820866507844484}, user_attrs={}, system_attrs={'nsga2:generation': 0}, intermediate_values={}, distributions={'learning_rate': FloatDistribution(high=1.0, log=True, low=0.0001, step=None), 'min_split_loss': FloatDistribution(high=10.0, log=False, low=0.0, step=None), 'max_depth': IntDistribution(high=15, log=False, low=1, step=1), 'min_child_weight': FloatDistribution(high=10.0, log=False, low=0.0, step=None), 'max_delta_step': FloatDistribution(high=10.0, log=False, low=0.0, step=None), 'subsample': FloatDistribution(high=1.0, log=False, low=0.4, step=None), 'colsample_bylevel': FloatDistribution(high=1.0, log=False, low=0.5, step=None), 'colsample_bynode': FloatDistribution(high=1.0, log=False, low=0.5, step=None)}, trial_id=1, value=None)"
      ]
     },
     "execution_count": 67,
     "metadata": {},
     "output_type": "execute_result"
    }
   ],
   "source": [
    "t = study.trials[0] \n",
    "t "
   ]
  },
  {
   "cell_type": "code",
   "execution_count": 69,
   "metadata": {
    "execution": {
     "iopub.execute_input": "2024-02-12T11:56:45.878137Z",
     "iopub.status.busy": "2024-02-12T11:56:45.877616Z",
     "iopub.status.idle": "2024-02-12T11:56:45.929408Z",
     "shell.execute_reply": "2024-02-12T11:56:45.928502Z",
     "shell.execute_reply.started": "2024-02-12T11:56:45.878095Z"
    }
   },
   "outputs": [
    {
     "ename": "SyntaxError",
     "evalue": "invalid syntax. Perhaps you forgot a comma? (757330297.py, line 2)",
     "output_type": "error",
     "traceback": [
      "\u001b[0;36m  Cell \u001b[0;32mIn[69], line 2\u001b[0;36m\u001b[0m\n\u001b[0;31m    optuna.trial.create_trial(\u001b[0m\n\u001b[0m    ^\u001b[0m\n\u001b[0;31mSyntaxError\u001b[0m\u001b[0;31m:\u001b[0m invalid syntax. Perhaps you forgot a comma?\n"
     ]
    }
   ],
   "source": [
    "trials_to_keep = [\n",
    "    optuna.trial.create_trial(\n",
    "        state=optuna.trial.TrialState.COMPLETE,\n",
    "        params=t.params,\n",
    "        user_attrs=t.user_attrs,\n",
    "        system_attrs=t.system_attrs,\n",
    "        intermediate_values=t.intermediate_values,\n",
    "        distributions=t.distributions,\n",
    "        values=t.values,\n",
    "        value =t.value\n",
    "    )   t in study.trials if t.state = optuna.trial.TrialState.COMPLETE ] ##t.number not in ho_trials_to_delete]"
   ]
  },
  {
   "cell_type": "code",
   "execution_count": 85,
   "metadata": {
    "execution": {
     "iopub.execute_input": "2024-02-12T12:01:51.335753Z",
     "iopub.status.busy": "2024-02-12T12:01:51.334765Z",
     "iopub.status.idle": "2024-02-12T12:01:51.393987Z",
     "shell.execute_reply": "2024-02-12T12:01:51.393074Z",
     "shell.execute_reply.started": "2024-02-12T12:01:51.335725Z"
    }
   },
   "outputs": [
    {
     "ename": "SyntaxError",
     "evalue": "invalid syntax. Perhaps you forgot a comma? (582776261.py, line 6)",
     "output_type": "error",
     "traceback": [
      "\u001b[0;36m  Cell \u001b[0;32mIn[85], line 6\u001b[0;36m\u001b[0m\n\u001b[0;31m    trial_id = t.trial_id\u001b[0m\n\u001b[0m               ^\u001b[0m\n\u001b[0;31mSyntaxError\u001b[0m\u001b[0;31m:\u001b[0m invalid syntax. Perhaps you forgot a comma?\n"
     ]
    }
   ],
   "source": [
    "trials_to_keep = [] \n",
    "for t in study.trials:\n",
    "     if t.state == optuna.trial.TrialState.COMPLETE : \n",
    "        copy_t =  optuna.trial.create_trial(\n",
    "            \n",
    "                            trial_id = t.trial_id\n",
    "                            state=optuna.trial.TrialState.COMPLETE,\n",
    "                            params=t.params,\n",
    "                            user_attrs=t.user_attrs,\n",
    "                            system_attrs=t.system_attrs,\n",
    "                            intermediate_values=t.intermediate_values,\n",
    "                            distributions=t.distributions,\n",
    "                            values=t.values,\n",
    "                            # value =t.value\n",
    "                        ) \n",
    "        trials_to_keep.append(copy_t)"
   ]
  },
  {
   "cell_type": "code",
   "execution_count": null,
   "metadata": {},
   "outputs": [],
   "source": []
  },
  {
   "cell_type": "code",
   "execution_count": 10,
   "metadata": {
    "execution": {
     "iopub.execute_input": "2024-02-13T03:43:57.055182Z",
     "iopub.status.busy": "2024-02-13T03:43:57.054630Z",
     "iopub.status.idle": "2024-02-13T03:43:57.097108Z",
     "shell.execute_reply": "2024-02-13T03:43:57.096497Z",
     "shell.execute_reply.started": "2024-02-13T03:43:57.055140Z"
    }
   },
   "outputs": [],
   "source": [
    "# trials_to_keep"
   ]
  },
  {
   "cell_type": "code",
   "execution_count": 88,
   "metadata": {
    "execution": {
     "iopub.execute_input": "2024-02-12T12:13:23.470846Z",
     "iopub.status.busy": "2024-02-12T12:13:23.470353Z",
     "iopub.status.idle": "2024-02-12T12:13:23.516120Z",
     "shell.execute_reply": "2024-02-12T12:13:23.515582Z",
     "shell.execute_reply.started": "2024-02-12T12:13:23.470804Z"
    }
   },
   "outputs": [
    {
     "data": {
      "text/plain": [
       "'sqlite:///example_copy.db'"
      ]
     },
     "execution_count": 88,
     "metadata": {},
     "output_type": "execute_result"
    }
   ],
   "source": [
    "ho_storage_name"
   ]
  },
  {
   "cell_type": "code",
   "execution_count": 90,
   "metadata": {
    "execution": {
     "iopub.execute_input": "2024-02-12T12:13:32.164678Z",
     "iopub.status.busy": "2024-02-12T12:13:32.164384Z",
     "iopub.status.idle": "2024-02-12T12:13:33.636606Z",
     "shell.execute_reply": "2024-02-12T12:13:33.636005Z",
     "shell.execute_reply.started": "2024-02-12T12:13:32.164655Z"
    }
   },
   "outputs": [
    {
     "name": "stderr",
     "output_type": "stream",
     "text": [
      "[I 2024-02-12 13:13:32,369] A new study created in RDB with name: classification-study-1-copy\n"
     ]
    }
   ],
   "source": [
    "# Delete study before recreating\n",
    "# optuna.delete_study(study_name=ho_study_name, storage=ho_storage_name)\n",
    "\n",
    "# Recreate study and add trials to keep\n",
    "new_study = optuna.create_study(\n",
    "    pruner=optuna.pruners.MedianPruner(n_warmup_steps=5),\n",
    "    directions=[\"maximize\",\"minimize\"],     \n",
    "    study_name=ho_study_name,\n",
    "    storage=ho_storage_name,\n",
    "    load_if_exists=True)\n",
    "new_study.add_trials(trials_to_keep)"
   ]
  },
  {
   "cell_type": "code",
   "execution_count": 58,
   "metadata": {
    "execution": {
     "iopub.execute_input": "2024-02-12T11:52:04.052062Z",
     "iopub.status.busy": "2024-02-12T11:52:04.051579Z",
     "iopub.status.idle": "2024-02-12T11:52:04.132068Z",
     "shell.execute_reply": "2024-02-12T11:52:04.131253Z",
     "shell.execute_reply.started": "2024-02-12T11:52:04.052022Z"
    },
    "lines_to_next_cell": 2
   },
   "outputs": [
    {
     "data": {
      "text/plain": [
       "FrozenTrial(number=0, state=3, values=None, datetime_start=datetime.datetime(2024, 2, 4, 0, 48, 9, 793433), datetime_complete=datetime.datetime(2024, 2, 4, 0, 54, 5, 488762), params={'learning_rate': 0.14327608105242665, 'min_split_loss': 0.013665061540799606, 'max_depth': 11, 'min_child_weight': 9.683348905910576, 'max_delta_step': 0.0746562549161478, 'subsample': 0.9869150345493672, 'colsample_bylevel': 0.5856183883769744, 'colsample_bynode': 0.5820866507844484}, user_attrs={}, system_attrs={'nsga2:generation': 0}, intermediate_values={}, distributions={'learning_rate': FloatDistribution(high=1.0, log=True, low=0.0001, step=None), 'min_split_loss': FloatDistribution(high=10.0, log=False, low=0.0, step=None), 'max_depth': IntDistribution(high=15, log=False, low=1, step=1), 'min_child_weight': FloatDistribution(high=10.0, log=False, low=0.0, step=None), 'max_delta_step': FloatDistribution(high=10.0, log=False, low=0.0, step=None), 'subsample': FloatDistribution(high=1.0, log=False, low=0.4, step=None), 'colsample_bylevel': FloatDistribution(high=1.0, log=False, low=0.5, step=None), 'colsample_bynode': FloatDistribution(high=1.0, log=False, low=0.5, step=None)}, trial_id=1, value=None)"
      ]
     },
     "execution_count": 58,
     "metadata": {},
     "output_type": "execute_result"
    },
    {
     "ename": "RuntimeError",
     "evalue": "This attribute is not available during multi-objective optimization.",
     "output_type": "error",
     "traceback": [
      "\u001b[0;31m---------------------------------------------------------------------------\u001b[0m",
      "\u001b[0;31mRuntimeError\u001b[0m                              Traceback (most recent call last)",
      "Cell \u001b[0;32mIn[58], line 3\u001b[0m\n\u001b[1;32m      1\u001b[0m study\u001b[38;5;241m.\u001b[39mtrials[\u001b[38;5;241m0\u001b[39m]\n\u001b[1;32m      2\u001b[0m \u001b[38;5;66;03m# study.trials.pop(0)\u001b[39;00m\n\u001b[0;32m----> 3\u001b[0m \u001b[43mstudy\u001b[49m\u001b[38;5;241;43m.\u001b[39;49m\u001b[43mtrials\u001b[49m\u001b[43m[\u001b[49m\u001b[38;5;241;43m1\u001b[39;49m\u001b[43m]\u001b[49m\u001b[38;5;241;43m.\u001b[39;49m\u001b[43mvalue\u001b[49m\n",
      "File \u001b[0;32m~/miniforge3/envs/cp311/lib/python3.11/site-packages/optuna/trial/_frozen.py:378\u001b[0m, in \u001b[0;36mFrozenTrial.value\u001b[0;34m(self)\u001b[0m\n\u001b[1;32m    376\u001b[0m \u001b[38;5;28;01mif\u001b[39;00m \u001b[38;5;28mself\u001b[39m\u001b[38;5;241m.\u001b[39m_values \u001b[38;5;129;01mis\u001b[39;00m \u001b[38;5;129;01mnot\u001b[39;00m \u001b[38;5;28;01mNone\u001b[39;00m:\n\u001b[1;32m    377\u001b[0m     \u001b[38;5;28;01mif\u001b[39;00m \u001b[38;5;28mlen\u001b[39m(\u001b[38;5;28mself\u001b[39m\u001b[38;5;241m.\u001b[39m_values) \u001b[38;5;241m>\u001b[39m \u001b[38;5;241m1\u001b[39m:\n\u001b[0;32m--> 378\u001b[0m         \u001b[38;5;28;01mraise\u001b[39;00m \u001b[38;5;167;01mRuntimeError\u001b[39;00m(\n\u001b[1;32m    379\u001b[0m             \u001b[38;5;124m\"\u001b[39m\u001b[38;5;124mThis attribute is not available during multi-objective optimization.\u001b[39m\u001b[38;5;124m\"\u001b[39m\n\u001b[1;32m    380\u001b[0m         )\n\u001b[1;32m    381\u001b[0m     \u001b[38;5;28;01mreturn\u001b[39;00m \u001b[38;5;28mself\u001b[39m\u001b[38;5;241m.\u001b[39m_values[\u001b[38;5;241m0\u001b[39m]\n\u001b[1;32m    382\u001b[0m \u001b[38;5;28;01mreturn\u001b[39;00m \u001b[38;5;28;01mNone\u001b[39;00m\n",
      "\u001b[0;31mRuntimeError\u001b[0m: This attribute is not available during multi-objective optimization."
     ]
    }
   ],
   "source": [
    "\n",
    "study.trials[0]\n",
    "# study.trials.pop(0)\n",
    "study.trials[1].value"
   ]
  },
  {
   "cell_type": "code",
   "execution_count": null,
   "metadata": {},
   "outputs": [],
   "source": []
  }
 ],
 "metadata": {
  "kernelspec": {
   "display_name": "Python [conda env:cp311]",
   "language": "python",
   "name": "conda-env-cp311-py"
  },
  "language_info": {
   "codemirror_mode": {
    "name": "ipython",
    "version": 3
   },
   "file_extension": ".py",
   "mimetype": "text/x-python",
   "name": "python",
   "nbconvert_exporter": "python",
   "pygments_lexer": "ipython3",
   "version": "3.11.4"
  },
  "toc": {
   "base_numbering": 1,
   "nav_menu": {},
   "number_sections": true,
   "sideBar": true,
   "skip_h1_title": false,
   "title_cell": "Table of Contents",
   "title_sidebar": "Contents",
   "toc_cell": false,
   "toc_position": {
    "height": "calc(100% - 180px)",
    "left": "10px",
    "top": "150px",
    "width": "380.631px"
   },
   "toc_section_display": true,
   "toc_window_display": false
  }
 },
 "nbformat": 4,
 "nbformat_minor": 4
}
